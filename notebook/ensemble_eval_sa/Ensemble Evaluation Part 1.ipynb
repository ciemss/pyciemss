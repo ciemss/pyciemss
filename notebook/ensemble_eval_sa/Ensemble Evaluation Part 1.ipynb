{
 "cells": [
  {
   "cell_type": "markdown",
   "id": "3048df72",
   "metadata": {},
   "source": [
    "# Ensemble Evaluation: Timepoint 1 - Spring 2020\n",
    "\n",
    "Location: New York State\n",
    "\n",
    "Timepoint 1: April 3, 2020. Setting: New York State at the beginning of the pandemic when masking was the main preventative measure. No vaccines available. \n",
    "\n",
    "Using case and death data for calibration (hospitalization data not available for this timepoint). No vaccination, no variants, and reinfection is not considered."
   ]
  },
  {
   "cell_type": "markdown",
   "id": "897b7ea9-d670-4345-9d7a-322d34d724c8",
   "metadata": {},
   "source": [
    "## Set up for ensemble modeling"
   ]
  },
  {
   "cell_type": "markdown",
   "id": "25ee072e-ef36-4c76-bf0a-76276a86c63b",
   "metadata": {},
   "source": [
    "### Load dependencies\n",
    "Import functionality from the pyciemss library to allow for model sampling and calibration."
   ]
  },
  {
   "cell_type": "code",
   "execution_count": 1,
   "id": "f250632a-4078-49de-a4a8-e6134c949910",
   "metadata": {},
   "outputs": [],
   "source": [
    "import os\n",
    "import torch\n",
    "import pandas as pd\n",
    "import numpy as np\n",
    "import matplotlib.pyplot as plt\n",
    "\n",
    "from pyciemss.Ensemble.interfaces import (\n",
    "    load_and_sample_petri_ensemble, load_and_calibrate_and_sample_ensemble_model\n",
    ")\n",
    "from pyciemss.PetriNetODE.interfaces import (\n",
    "    load_and_sample_petri_model,\n",
    "    load_and_calibrate_and_sample_petri_model,\n",
    "    load_and_optimize_and_sample_petri_model,\n",
    "    load_and_calibrate_and_optimize_and_sample_petri_model\n",
    ")\n",
    "from pyciemss.visuals import plots\n",
    "from pyciemss.utils.interface_utils import cdc_reformatcsv, make_quantiles, convert_to_output_format"
   ]
  },
  {
   "cell_type": "markdown",
   "id": "2af8a7df-6527-4ba2-beb6-2e63889dcbbf",
   "metadata": {},
   "source": [
    "### Collect relevant models\n",
    "<!-- We have chosen x number of models to capture the relevant COVID-19 dynamics for this setting. \n",
    " - `model1` contains compartments SEIRHD, and is stratified by age into four groups.\n",
    " - `model2` is the same as `model1`, but allows for reinfection\n",
    " - `model3` is the same as `model1`, but with a variation in transmission rate to account for masking efficacy and compliance. -->"
   ]
  },
  {
   "cell_type": "code",
   "execution_count": 2,
   "id": "07fddb50-d73e-481d-a79d-ce0e115411b5",
   "metadata": {},
   "outputs": [],
   "source": [
    "from mira.sources.askenet import model_from_url\n",
    "model1 = model_from_url('https://raw.githubusercontent.com/ciemss/pyciemss/sa-ensemble-eval/notebook/ensemble_eval_sa/operative_models/SEIRHD_npi1_ee.json')\n",
    "model2 = model_from_url('https://raw.githubusercontent.com/ciemss/pyciemss/sa-ensemble-eval/notebook/ensemble_eval_sa/operative_models/SEIRHD_npi1_age_stratified_v2.json')\n",
    "model3 = model_from_url('https://raw.githubusercontent.com/ciemss/pyciemss/sa-ensemble-eval/notebook/ensemble_eval_sa/operative_models/SEIRHD_npi1_age_stratified_v3.json')"
   ]
  },
  {
   "cell_type": "markdown",
   "id": "a2239aab-0478-43cb-b6ef-079497dbb6e1",
   "metadata": {},
   "source": [
    "### Gather data, and set training and forecast intervals\n",
    "For this timepoint, only case and death data is available for calibration. \n",
    "\n",
    "We take the total population of New York State to be 19,340,000. Population age-structure estimates for New York State were taken (and scaled appropriately) from [here](https://www.health.ny.gov/statistics/vital_statistics/2016/table01.htm).\n",
    "\n",
    "First recorded case in New York State: March 1, 2020.\n",
    "\n",
    "Also relevant is that a statewide stay-at-home order for non-essential workers was implemented on March 22, 2020, and masking policy was implemented on April 15, 2020. A nice list of COVID-19 policy interventions for New York City and State has been compiled [here](https://www.investopedia.com/historical-timeline-of-covid-19-in-new-york-city-5071986![image.png](attachment:d380d245-11ca-41f1-9863-e2a2dcf5ebce.png)![image.png](attachment:b30f6e31-bc7f-43a8-b7c8-b1df78db3b86.png)![image.png](attachment:b5109588-59ed-447c-9271-50eb56fe9081.png)![image.png](attachment:2c42138a-696d-4cef-9b79-4843d38ff029.png))."
   ]
  },
  {
   "cell_type": "markdown",
   "id": "491b50ab-6fbb-4a03-84e7-d99225d982de",
   "metadata": {},
   "source": [
    "### Define a function to process the source data and produce the necessary datasets for plotting and calibration"
   ]
  },
  {
   "cell_type": "code",
   "execution_count": 3,
   "id": "32f7c14d-a51d-47db-830b-745e459228e8",
   "metadata": {},
   "outputs": [],
   "source": [
    "def data_selector_function(data_df, train_start_row_num, train_end_row_num, forecast_end_row_num):\n",
    "    '''\n",
    "    This function produces two datasets: all_data and train_data, and a list timepoints for simulation\n",
    "    '''\n",
    "    all_data = data_df[train_start_row_num:forecast_end_row_num].reset_index()\n",
    "    all_data = all_data.drop(columns=\"timestep\")\n",
    "    all_data = all_data.drop(columns=\"index\")\n",
    "\n",
    "    train_data = data_df[train_start_row_num:train_end_row_num].reset_index(drop=True)\n",
    "    train_data1 = train_data.assign(timepoints=[float(i) for i in range(len(train_data))])\n",
    "    train_data = train_data1[[\"timepoints\", \"I\", \"E\", \"H\", \"D\"]]\n",
    "\n",
    "    num_timepoints = len(all_data)*10 + 1\n",
    "    simulation_timepoints = [round(i * 0.1, 1) for i in range(0, num_timepoints)]\n",
    "    \n",
    "    return all_data, train_data, simulation_timepoints"
   ]
  },
  {
   "cell_type": "markdown",
   "id": "e7d4f4d8-abb4-4a9d-b7c9-6fc614125708",
   "metadata": {},
   "source": [
    "### Gather source data and set `DATA_PATH`, `RESULTS_PATH`"
   ]
  },
  {
   "cell_type": "code",
   "execution_count": 4,
   "id": "d9409751-8a75-4815-a329-923e20b1ca14",
   "metadata": {},
   "outputs": [],
   "source": [
    "url = 'https://raw.githubusercontent.com/DARPA-ASKEM/experiments/main/thin-thread-examples/milestone_12month/evaluation/ensemble_eval_SA/datasets/aabb3684-a7ea-4f60-98f1-a8e673ad6df5/dataset.csv'\n",
    "nys_data = pd.read_csv(url)\n",
    "nys_data[\"E\"] = np.nan # Add empty \"E\" column so that \"exposed\" may be used to post-process results\n",
    "\n",
    "DATA_PATH = \"../../notebook/ensemble_eval_sa/datasets/\"\n",
    "RESULTS_PATH = \"../../notebook/ensemble_eval_sa/ensemble_results/\""
   ]
  },
  {
   "cell_type": "markdown",
   "id": "808442fe-65a2-4545-b1d1-fb2ad8b26653",
   "metadata": {},
   "source": [
    "### Create and save datasets and simulation timepoints for each forecast"
   ]
  },
  {
   "cell_type": "code",
   "execution_count": 5,
   "id": "bf6e7144-aecd-443b-ab2a-0e492db247f2",
   "metadata": {},
   "outputs": [],
   "source": [
    "### Forecast 1: 04/03/2020 - 05/01/2020, data: 03/01/2020 - 04/02/2020\n",
    "\n",
    "# Forecast 1: 04/03/2020 (day 32, row 73) - 05/01/2020 (day 60, row 101), train data: 03/01/2020 (day 0, row 40) - 04/02/2020 (day 31, row 72)\n",
    "[all_data1, train_data1, timepoints1] = data_selector_function(nys_data, 39, 72, 101)\n",
    "train_data1[[\"I\", \"E\", \"H\", \"D\"]].to_csv(DATA_PATH + \"NYS_T1_forecast1.csv\")\n",
    "\n",
    "### Forecast 2: 04/10/2020 - 05/08/2020, data: 03/01/2020 - 04/09/2020\n",
    "\n",
    "# Forecast 2: 04/10/2020 (day 39, row 80) - 05/08/2020 (day 67, row 108), train data: 03/01/2020 (day 0, row 40) - 04/09/2020 (day 38, row 79)\n",
    "[all_data2, train_data2, timepoints2] = data_selector_function(nys_data, 39, 79, 108)\n",
    "train_data2[[\"I\", \"E\", \"H\", \"D\"]].to_csv(DATA_PATH + \"NYS_T1_forecast2.csv\")\n",
    "\n",
    "### Forecast 3: 04/17/2020 - 05/15/2020, data: 03/01/2020 - 04/16/2020\n",
    "\n",
    "# Forecast 3: 04/17/2020 (day 46, row 87) - 05/15/2020 (day 74, row 115), train data: 03/01/2020 (day 0, row 40) - 04/16/2020 (day 45, row 86)\n",
    "[all_data3, train_data3, timepoints3] = data_selector_function(nys_data, 39, 86, 115)\n",
    "train_data3[[\"I\", \"E\", \"H\", \"D\"]].to_csv(DATA_PATH + \"NYS_T1_forecast3.csv\")\n",
    "\n",
    "### Forecast 4: 04/24/2020 - 05/22/2020, data: 03/01/2020 - 04/23/2020\n",
    "\n",
    "# Forecast 3: 04/24/2020 (day 53, row 94) - 05/22/2020 (day 81, row 122), train data: 03/01/2020 (day 0, row 40) - 04/23/2020 (day 52, row 93)\n",
    "[all_data4, train_data4, timepoints4] = data_selector_function(nys_data, 39, 93, 122)\n",
    "train_data4[[\"I\", \"E\", \"H\", \"D\"]].to_csv(DATA_PATH + \"NYS_T1_forecast4.csv\")"
   ]
  },
  {
   "cell_type": "markdown",
   "id": "9a13d82b-f9b4-4f13-9e41-8e664543e8fa",
   "metadata": {},
   "source": [
    "### Plot the data"
   ]
  },
  {
   "cell_type": "code",
   "execution_count": 6,
   "id": "87729311-991d-4e25-ac23-31d706f266a1",
   "metadata": {},
   "outputs": [
    {
     "data": {
      "text/plain": [
       "Text(0.5, 1.0, 'Cumulative Deaths per 100,000')"
      ]
     },
     "execution_count": 6,
     "metadata": {},
     "output_type": "execute_result"
    },
    {
     "data": {
      "image/png": "[encoded data removed]",
      "text/plain": [
       "<Figure size 640x480 with 3 Axes>"
      ]
     },
     "metadata": {},
     "output_type": "display_data"
    }
   ],
   "source": [
    "N = 19_340_000\n",
    "\n",
    "fig, (ax1, ax2, ax3) = plt.subplots(1, 3)\n",
    "# ax1.scatter(all_data4.index, all_data4.I, color=\"red\")\n",
    "ax1.scatter(all_data4.index, 100000*(all_data4.I/N), color=\"red\")\n",
    "ax1.axvline(x = 32, color = 'darkgreen', linestyle =\"--\", label = 'begin forecast 1')\n",
    "ax1.axvline(x = 39, color = 'forestgreen', linestyle =\":\", label = 'begin forecast 2')\n",
    "ax1.axvline(x = 46, color = 'green', linestyle =\"-.\", label = 'begin forecast 3')\n",
    "ax1.axvline(x = 53, color = 'teal', label = 'begin forecast 4')\n",
    "ax1.legend(loc='lower right')\n",
    "# ax1.set_title(\"Cases\")\n",
    "ax1.set_title(\"Cases per 100,000\")\n",
    "\n",
    "# ax2.scatter(all_data4.index, all_data4.H, color=\"navy\")\n",
    "ax2.scatter(all_data4.index, 100000*(all_data4.H/N), color=\"navy\")\n",
    "ax2.axvline(x = 32, color = 'darkgreen', linestyle =\"--\", label = 'begin forecast 1')\n",
    "ax2.axvline(x = 39, color = 'forestgreen', linestyle =\":\", label = 'begin forecast 2')\n",
    "ax2.axvline(x = 46, color = 'green', linestyle =\"-.\", label = 'begin forecast 3')\n",
    "ax2.axvline(x = 53, color = 'teal', label = 'begin forecast 4')\n",
    "ax2.legend(loc='lower right')\n",
    "# ax2.set_title(\"Hospitalizations\")\n",
    "ax2.set_title(\"Hospitalizations per 100,000\")\n",
    "\n",
    "# ax3.scatter(all_data4.index, all_data4.D, color=\"blue\")\n",
    "ax3.scatter(all_data4.index, 100000*(all_data4.D/N), color=\"blue\")\n",
    "ax3.axvline(x = 32, color = 'darkgreen', linestyle =\"--\", label = 'begin forecast 1')\n",
    "ax3.axvline(x = 39, color = 'forestgreen', linestyle =\":\", label = 'begin forecast 2')\n",
    "ax3.axvline(x = 46, color = 'green', linestyle =\"-.\", label = 'begin forecast 3')\n",
    "ax3.axvline(x = 53, color = 'teal', label = 'begin forecast 4')\n",
    "ax3.legend(loc='lower right')\n",
    "# ax3.set_title(\"Cumulative Deaths\")\n",
    "ax3.set_title(\"Cumulative Deaths per 100,000\")"
   ]
  },
  {
   "cell_type": "markdown",
   "id": "88df33c0-f86c-4cc4-8f98-6191d71b442b",
   "metadata": {},
   "source": [
    "# (1) Forecast 1: 04/03/2020 - 05/01/2020"
   ]
  },
  {
   "cell_type": "markdown",
   "id": "2b425707-b887-4b7f-8e22-8fbd6fce7112",
   "metadata": {},
   "source": [
    "## (A) Calibrate and sample an ensemble of one model"
   ]
  },
  {
   "cell_type": "code",
   "execution_count": 7,
   "id": "3e5e728c-9269-4cc5-b275-e6e69f6c402b",
   "metadata": {},
   "outputs": [],
   "source": [
    "RESULTS_FILENAME = RESULTS_PATH + \"T1_ensemble_of1_results_Apr032020.csv\"\n",
    "QUANTILES_FILENAME = RESULTS_PATH + \"T1_ensemble_of1_quantiles_Apr032020.csv\"\n",
    "N_ITERATIONS = 26"
   ]
  },
  {
   "cell_type": "markdown",
   "id": "ce7c82ae-4460-4375-a3b4-1e8612c29d9b",
   "metadata": {},
   "source": [
    "### MODEL 1 - SEIRHD with NPI of Type 1"
   ]
  },
  {
   "cell_type": "code",
   "execution_count": 8,
   "id": "de7313df-f73f-4425-a021-fe90f17555ab",
   "metadata": {},
   "outputs": [
    {
     "name": "stdout",
     "output_type": "stream",
     "text": [
      "iteration 0: loss = 725.5022761821747\n",
      "iteration 25: loss = 693.7025446891785\n",
      "\n"
     ]
    },
    {
     "data": {
      "application/vnd.vega.v5+json": {
       "$schema": "https://vega.github.io/schema/vega/v5.json",
       "axes": [
        {
         "name": "x_axis",
         "orient": "bottom",
         "scale": "xscale",
         "zindex": 100
        },
        {
         "name": "y_axis",
         "orient": "left",
         "scale": "yscale",
         "zindex": 100
        }
       ],
       "data": [
        {
         "name": "distributions",
         "values": [
          {
           "lower": 7.003642952089135e-22,
           "timepoint": 0,
           "trajectory": "D_sol",
           "upper": 1.272937718097935e-21
          },
          {
           "lower": 0.0007015681534539908,
           "timepoint": 0.1,
           "trajectory": "D_sol",
           "upper": 0.0012736040400341154
          },
          {
           "lower": 0.00281126779736951,
           "timepoint": 0.2,
           "trajectory": "D_sol",
           "upper": 0.0050974002107977865
          },
          {
           "lower": 0.006337007880210877,
           "timepoint": 0.3,
           "trajectory": "D_sol",
           "upper": 0.011476610833778976
          },
          {
           "lower": 0.011287277890369296,
           "timepoint": 0.4,
           "trajectory": "D_sol",
           "upper": 0.0204174792394042
          },
          {
           "lower": 0.017671157233417036,
           "timepoint": 0.5,
           "trajectory": "D_sol",
           "upper": 0.03192726578563452
          },
          {
           "lower": 0.025498322304338218,
           "timepoint": 0.6,
           "trajectory": "D_sol",
           "upper": 0.04601419698446989
          },
          {
           "lower": 0.034779065661132334,
           "timepoint": 0.7,
           "trajectory": "D_sol",
           "upper": 0.06268761307001114
          },
          {
           "lower": 0.04552426189184189,
           "timepoint": 0.8,
           "trajectory": "D_sol",
           "upper": 0.08195787481963634
          },
          {
           "lower": 0.05774551220238209,
           "timepoint": 0.9,
           "trajectory": "D_sol",
           "upper": 0.10383634082973003
          },
          {
           "lower": 0.0714550107717514,
           "timepoint": 1,
           "trajectory": "D_sol",
           "upper": 0.1283357113599777
          },
          {
           "lower": 0.0866656094789505,
           "timepoint": 1.1,
           "trajectory": "D_sol",
           "upper": 0.15546927005052566
          },
          {
           "lower": 0.10339120104908943,
           "timepoint": 1.2,
           "trajectory": "D_sol",
           "upper": 0.1852516956627369
          },
          {
           "lower": 0.12164556570351123,
           "timepoint": 1.3,
           "trajectory": "D_sol",
           "upper": 0.21769865825772283
          },
          {
           "lower": 0.14144389182329178,
           "timepoint": 1.4,
           "trajectory": "D_sol",
           "upper": 0.25282700210809705
          },
          {
           "lower": 0.1628018580377102,
           "timepoint": 1.5,
           "trajectory": "D_sol",
           "upper": 0.2906546756625175
          },
          {
           "lower": 0.1857360951602459,
           "timepoint": 1.6,
           "trajectory": "D_sol",
           "upper": 0.33120070248842237
          },
          {
           "lower": 0.210263442248106,
           "timepoint": 1.7,
           "trajectory": "D_sol",
           "upper": 0.3744853377342224
          },
          {
           "lower": 0.23640191927552223,
           "timepoint": 1.8,
           "trajectory": "D_sol",
           "upper": 0.4205297142267227
          },
          {
           "lower": 0.26417032033205035,
           "timepoint": 1.9,
           "trajectory": "D_sol",
           "upper": 0.469356395304203
          },
          {
           "lower": 0.29358850717544555,
           "timepoint": 2,
           "trajectory": "D_sol",
           "upper": 0.5209890395402907
          },
          {
           "lower": 0.3246761798858643,
           "timepoint": 2.1,
           "trajectory": "D_sol",
           "upper": 0.5754524976015091
          },
          {
           "lower": 0.3574549317359924,
           "timepoint": 2.2,
           "trajectory": "D_sol",
           "upper": 0.6327726900577545
          },
          {
           "lower": 0.39194643646478655,
           "timepoint": 2.3,
           "trajectory": "D_sol",
           "upper": 0.6929767608642577
          },
          {
           "lower": 0.42817380726337434,
           "timepoint": 2.4,
           "trajectory": "D_sol",
           "upper": 0.7560937017202377
          },
          {
           "lower": 0.46616081446409224,
           "timepoint": 2.5,
           "trajectory": "D_sol",
           "upper": 0.822152516245842
          },
          {
           "lower": 0.5059316009283066,
           "timepoint": 2.6,
           "trajectory": "D_sol",
           "upper": 0.8911844372749328
          },
          {
           "lower": 0.5475120842456818,
           "timepoint": 2.7,
           "trajectory": "D_sol",
           "upper": 0.9632218867540359
          },
          {
           "lower": 0.5909283965826034,
           "timepoint": 2.8,
           "trajectory": "D_sol",
           "upper": 1.038298100233078
          },
          {
           "lower": 0.6362081915140152,
           "timepoint": 2.9,
           "trajectory": "D_sol",
           "upper": 1.1164481163024902
          },
          {
           "lower": 0.6833802163600922,
           "timepoint": 3,
           "trajectory": "D_sol",
           "upper": 1.1977055728435515
          },
          {
           "lower": 0.7324727654457093,
           "timepoint": 3.1,
           "trajectory": "D_sol",
           "upper": 1.2821115255355833
          },
          {
           "lower": 0.7835165888071061,
           "timepoint": 3.2,
           "trajectory": "D_sol",
           "upper": 1.3697034597396849
          },
          {
           "lower": 0.8365430176258087,
           "timepoint": 3.3,
           "trajectory": "D_sol",
           "upper": 1.4605209589004515
          },
          {
           "lower": 0.8915844023227691,
           "timepoint": 3.4,
           "trajectory": "D_sol",
           "upper": 1.554606109857559
          },
          {
           "lower": 0.9486729323863983,
           "timepoint": 3.5,
           "trajectory": "D_sol",
           "upper": 1.6520011782646178
          },
          {
           "lower": 1.0078448504209518,
           "timepoint": 3.6,
           "trajectory": "D_sol",
           "upper": 1.7527522325515745
          },
          {
           "lower": 1.069134920835495,
           "timepoint": 3.7,
           "trajectory": "D_sol",
           "upper": 1.856903553009033
          },
          {
           "lower": 1.1325795352458954,
           "timepoint": 3.8,
           "trajectory": "D_sol",
           "upper": 1.9645022153854368
          },
          {
           "lower": 1.1982171535491943,
           "timepoint": 3.9,
           "trajectory": "D_sol",
           "upper": 2.075598311424255
          },
          {
           "lower": 1.2660862863063813,
           "timepoint": 4,
           "trajectory": "D_sol",
           "upper": 2.1902410745620724
          },
          {
           "lower": 1.3362270593643188,
           "timepoint": 4.1,
           "trajectory": "D_sol",
           "upper": 2.3084831237792964
          },
          {
           "lower": 1.4086807787418365,
           "timepoint": 4.2,
           "trajectory": "D_sol",
           "upper": 2.430374145507812
          },
          {
           "lower": 1.4834902346134187,
           "timepoint": 4.3,
           "trajectory": "D_sol",
           "upper": 2.555974662303924
          },
          {
           "lower": 1.5606988668441772,
           "timepoint": 4.4,
           "trajectory": "D_sol",
           "upper": 2.687111711502075
          },
          {
           "lower": 1.6403519451618194,
           "timepoint": 4.5,
           "trajectory": "D_sol",
           "upper": 2.8229084730148313
          },
          {
           "lower": 1.7224962413311005,
           "timepoint": 4.6,
           "trajectory": "D_sol",
           "upper": 2.96285388469696
          },
          {
           "lower": 1.8071769177913666,
           "timepoint": 4.7,
           "trajectory": "D_sol",
           "upper": 3.1070277929306025
          },
          {
           "lower": 1.8944471597671508,
           "timepoint": 4.8,
           "trajectory": "D_sol",
           "upper": 3.2555062532424923
          },
          {
           "lower": 1.9843547642230988,
           "timepoint": 4.9,
           "trajectory": "D_sol",
           "upper": 3.4083678960800166
          },
          {
           "lower": 2.076952302455902,
           "timepoint": 5,
           "trajectory": "D_sol",
           "upper": 3.565644037723541
          },
          {
           "lower": 2.1722923040390016,
           "timepoint": 5.1,
           "trajectory": "D_sol",
           "upper": 3.7274420380592344
          },
          {
           "lower": 2.2704299807548525,
           "timepoint": 5.2,
           "trajectory": "D_sol",
           "upper": 3.8938696622848505
          },
          {
           "lower": 2.3714272737503053,
           "timepoint": 5.3,
           "trajectory": "D_sol",
           "upper": 4.065007281303405
          },
          {
           "lower": 2.4753333210945128,
           "timepoint": 5.4,
           "trajectory": "D_sol",
           "upper": 4.240957283973693
          },
          {
           "lower": 2.5822111129760743,
           "timepoint": 5.5,
           "trajectory": "D_sol",
           "upper": 4.421807050704955
          },
          {
           "lower": 2.6921222686767576,
           "timepoint": 5.6,
           "trajectory": "D_sol",
           "upper": 4.607653665542602
          },
          {
           "lower": 2.805128848552704,
           "timepoint": 5.7,
           "trajectory": "D_sol",
           "upper": 4.798595142364501
          },
          {
           "lower": 2.921296238899231,
           "timepoint": 5.8,
           "trajectory": "D_sol",
           "upper": 4.994731116294861
          },
          {
           "lower": 3.0406864047050477,
           "timepoint": 5.9,
           "trajectory": "D_sol",
           "upper": 5.196173810958862
          },
          {
           "lower": 3.1633726596832275,
           "timepoint": 6,
           "trajectory": "D_sol",
           "upper": 5.403015875816345
          },
          {
           "lower": 3.2894224882125855,
           "timepoint": 6.1,
           "trajectory": "D_sol",
           "upper": 5.61537206172943
          },
          {
           "lower": 3.4189072251319885,
           "timepoint": 6.2,
           "trajectory": "D_sol",
           "upper": 5.833354306221008
          },
          {
           "lower": 3.5519003748893736,
           "timepoint": 6.3,
           "trajectory": "D_sol",
           "upper": 6.057078075408935
          },
          {
           "lower": 3.688477396965027,
           "timepoint": 6.4,
           "trajectory": "D_sol",
           "upper": 6.286659455299377
          },
          {
           "lower": 3.8287144899368286,
           "timepoint": 6.5,
           "trajectory": "D_sol",
           "upper": 6.522220230102539
          },
          {
           "lower": 3.9726922154426574,
           "timepoint": 6.6,
           "trajectory": "D_sol",
           "upper": 6.763880038261413
          },
          {
           "lower": 4.120491600036621,
           "timepoint": 6.7,
           "trajectory": "D_sol",
           "upper": 7.011769008636474
          },
          {
           "lower": 4.272197484970093,
           "timepoint": 6.8,
           "trajectory": "D_sol",
           "upper": 7.266017746925353
          },
          {
           "lower": 4.427893805503845,
           "timepoint": 6.9,
           "trajectory": "D_sol",
           "upper": 7.5267563343048085
          },
          {
           "lower": 4.587669682502747,
           "timepoint": 7,
           "trajectory": "D_sol",
           "upper": 7.794121980667113
          },
          {
           "lower": 4.751615452766418,
           "timepoint": 7.1,
           "trajectory": "D_sol",
           "upper": 8.068254947662354
          },
          {
           "lower": 4.919799041748047,
           "timepoint": 7.2,
           "trajectory": "D_sol",
           "upper": 8.349306154251098
          },
          {
           "lower": 5.092354416847229,
           "timepoint": 7.3,
           "trajectory": "D_sol",
           "upper": 8.637410497665405
          },
          {
           "lower": 5.269360041618347,
           "timepoint": 7.4,
           "trajectory": "D_sol",
           "upper": 8.932722616195678
          },
          {
           "lower": 5.450916600227356,
           "timepoint": 7.5,
           "trajectory": "D_sol",
           "upper": 9.23539433479309
          },
          {
           "lower": 5.637126350402832,
           "timepoint": 7.6,
           "trajectory": "D_sol",
           "upper": 9.545587253570556
          },
          {
           "lower": 5.828092622756958,
           "timepoint": 7.7,
           "trajectory": "D_sol",
           "upper": 9.863461780548095
          },
          {
           "lower": 6.0239225149154665,
           "timepoint": 7.8,
           "trajectory": "D_sol",
           "upper": 10.18918352127075
          },
          {
           "lower": 6.224727153778076,
           "timepoint": 7.9,
           "trajectory": "D_sol",
           "upper": 10.522920751571654
          },
          {
           "lower": 6.430615973472595,
           "timepoint": 8,
           "trajectory": "D_sol",
           "upper": 10.864849519729614
          },
          {
           "lower": 6.641708159446717,
           "timepoint": 8.1,
           "trajectory": "D_sol",
           "upper": 11.215145015716551
          },
          {
           "lower": 6.858116579055786,
           "timepoint": 8.2,
           "trajectory": "D_sol",
           "upper": 11.573988676071165
          },
          {
           "lower": 7.079966759681701,
           "timepoint": 8.3,
           "trajectory": "D_sol",
           "upper": 11.941571474075316
          },
          {
           "lower": 7.307379269599915,
           "timepoint": 8.4,
           "trajectory": "D_sol",
           "upper": 12.318077278137206
          },
          {
           "lower": 7.5404994010925295,
           "timepoint": 8.5,
           "trajectory": "D_sol",
           "upper": 12.703707742691039
          },
          {
           "lower": 7.779432344436645,
           "timepoint": 8.6,
           "trajectory": "D_sol",
           "upper": 13.098687744140625
          },
          {
           "lower": 8.024317693710326,
           "timepoint": 8.7,
           "trajectory": "D_sol",
           "upper": 13.503174686431883
          },
          {
           "lower": 8.275298762321473,
           "timepoint": 8.8,
           "trajectory": "D_sol",
           "upper": 13.917405176162719
          },
          {
           "lower": 8.53251028060913,
           "timepoint": 8.9,
           "trajectory": "D_sol",
           "upper": 14.341587448120116
          },
          {
           "lower": 8.796101808547974,
           "timepoint": 9,
           "trajectory": "D_sol",
           "upper": 14.775948286056517
          },
          {
           "lower": 9.06621823310852,
           "timepoint": 9.1,
           "trajectory": "D_sol",
           "upper": 15.220711708068846
          },
          {
           "lower": 9.34298996925354,
           "timepoint": 9.2,
           "trajectory": "D_sol",
           "upper": 15.676099443435668
          },
          {
           "lower": 9.626603412628175,
           "timepoint": 9.3,
           "trajectory": "D_sol",
           "upper": 16.142352294921874
          },
          {
           "lower": 9.917198610305785,
           "timepoint": 9.4,
           "trajectory": "D_sol",
           "upper": 16.619717693328855
          },
          {
           "lower": 10.214962911605834,
           "timepoint": 9.5,
           "trajectory": "D_sol",
           "upper": 17.108442306518555
          },
          {
           "lower": 10.520231676101684,
           "timepoint": 9.6,
           "trajectory": "D_sol",
           "upper": 17.608781719207762
          },
          {
           "lower": 10.832992792129517,
           "timepoint": 9.7,
           "trajectory": "D_sol",
           "upper": 18.123772239685056
          },
          {
           "lower": 11.153429555892945,
           "timepoint": 9.8,
           "trajectory": "D_sol",
           "upper": 18.654203128814697
          },
          {
           "lower": 11.481709337234497,
           "timepoint": 9.9,
           "trajectory": "D_sol",
           "upper": 19.1974139213562
          },
          {
           "lower": 11.81802806854248,
           "timepoint": 10,
           "trajectory": "D_sol",
           "upper": 19.753758811950682
          },
          {
           "lower": 12.16256833076477,
           "timepoint": 10.1,
           "trajectory": "D_sol",
           "upper": 20.323453617095947
          },
          {
           "lower": 12.515517091751098,
           "timepoint": 10.2,
           "trajectory": "D_sol",
           "upper": 20.906831073760987
          },
          {
           "lower": 12.877078533172607,
           "timepoint": 10.3,
           "trajectory": "D_sol",
           "upper": 21.504221820831297
          },
          {
           "lower": 13.247447156906128,
           "timepoint": 10.4,
           "trajectory": "D_sol",
           "upper": 22.11593141555786
          },
          {
           "lower": 13.626857709884643,
           "timepoint": 10.5,
           "trajectory": "D_sol",
           "upper": 22.742309379577637
          },
          {
           "lower": 14.015484189987182,
           "timepoint": 10.6,
           "trajectory": "D_sol",
           "upper": 23.383685398101807
          },
          {
           "lower": 14.401573991775512,
           "timepoint": 10.7,
           "trajectory": "D_sol",
           "upper": 24.04036283493042
          },
          {
           "lower": 14.790249156951905,
           "timepoint": 10.8,
           "trajectory": "D_sol",
           "upper": 24.712760257720948
          },
          {
           "lower": 15.187697792053223,
           "timepoint": 10.9,
           "trajectory": "D_sol",
           "upper": 25.40120801925659
          },
          {
           "lower": 15.594112873077393,
           "timepoint": 11,
           "trajectory": "D_sol",
           "upper": 26.106089782714843
          },
          {
           "lower": 16.00968542098999,
           "timepoint": 11.1,
           "trajectory": "D_sol",
           "upper": 26.827770614624022
          },
          {
           "lower": 16.434607887268065,
           "timepoint": 11.2,
           "trajectory": "D_sol",
           "upper": 27.566642093658448
          },
          {
           "lower": 16.86910138130188,
           "timepoint": 11.3,
           "trajectory": "D_sol",
           "upper": 28.32311096191406
          },
          {
           "lower": 17.313356018066408,
           "timepoint": 11.4,
           "trajectory": "D_sol",
           "upper": 29.097591018676756
          },
          {
           "lower": 17.767603492736818,
           "timepoint": 11.5,
           "trajectory": "D_sol",
           "upper": 29.89048566818237
          },
          {
           "lower": 18.232040786743163,
           "timepoint": 11.6,
           "trajectory": "D_sol",
           "upper": 30.702226257324217
          },
          {
           "lower": 18.706895637512208,
           "timepoint": 11.7,
           "trajectory": "D_sol",
           "upper": 31.533239459991456
          },
          {
           "lower": 19.192396926879884,
           "timepoint": 11.8,
           "trajectory": "D_sol",
           "upper": 32.38398952484131
          },
          {
           "lower": 19.688777732849122,
           "timepoint": 11.9,
           "trajectory": "D_sol",
           "upper": 33.254920387268065
          },
          {
           "lower": 20.196273136138917,
           "timepoint": 12,
           "trajectory": "D_sol",
           "upper": 34.146512794494626
          },
          {
           "lower": 20.71512928009033,
           "timepoint": 12.1,
           "trajectory": "D_sol",
           "upper": 35.04079627990723
          },
          {
           "lower": 21.245586490631105,
           "timepoint": 12.2,
           "trajectory": "D_sol",
           "upper": 35.9435920715332
          },
          {
           "lower": 21.787929725646972,
           "timepoint": 12.3,
           "trajectory": "D_sol",
           "upper": 36.86678295135498
          },
          {
           "lower": 22.342374324798584,
           "timepoint": 12.4,
           "trajectory": "D_sol",
           "upper": 37.81079578399658
          },
          {
           "lower": 22.90920934677124,
           "timepoint": 12.5,
           "trajectory": "D_sol",
           "upper": 38.776122093200684
          },
          {
           "lower": 23.48869924545288,
           "timepoint": 12.6,
           "trajectory": "D_sol",
           "upper": 39.763096237182616
          },
          {
           "lower": 24.081122493743898,
           "timepoint": 12.7,
           "trajectory": "D_sol",
           "upper": 40.77239475250244
          },
          {
           "lower": 24.686768436431883,
           "timepoint": 12.8,
           "trajectory": "D_sol",
           "upper": 41.80444183349609
          },
          {
           "lower": 25.305915546417236,
           "timepoint": 12.9,
           "trajectory": "D_sol",
           "upper": 42.85972080230713
          },
          {
           "lower": 25.93883180618286,
           "timepoint": 13,
           "trajectory": "D_sol",
           "upper": 43.93876991271973
          },
          {
           "lower": 26.58587989807129,
           "timepoint": 13.1,
           "trajectory": "D_sol",
           "upper": 45.04210300445556
          },
          {
           "lower": 27.247334957122803,
           "timepoint": 13.2,
           "trajectory": "D_sol",
           "upper": 46.17025375366211
          },
          {
           "lower": 27.923527812957765,
           "timepoint": 13.3,
           "trajectory": "D_sol",
           "upper": 47.323709106445314
          },
          {
           "lower": 28.61476364135742,
           "timepoint": 13.4,
           "trajectory": "D_sol",
           "upper": 48.50314559936523
          },
          {
           "lower": 29.321389293670656,
           "timepoint": 13.5,
           "trajectory": "D_sol",
           "upper": 49.714559364318845
          },
          {
           "lower": 30.043733882904053,
           "timepoint": 13.6,
           "trajectory": "D_sol",
           "upper": 50.97714614868164
          },
          {
           "lower": 30.78213768005371,
           "timepoint": 13.7,
           "trajectory": "D_sol",
           "upper": 52.26897659301758
          },
          {
           "lower": 31.536979007720948,
           "timepoint": 13.8,
           "trajectory": "D_sol",
           "upper": 53.59074745178222
          },
          {
           "lower": 32.308586311340335,
           "timepoint": 13.9,
           "trajectory": "D_sol",
           "upper": 54.943114280700684
          },
          {
           "lower": 33.097337532043454,
           "timepoint": 14,
           "trajectory": "D_sol",
           "upper": 56.326811408996576
          },
          {
           "lower": 33.90362911224365,
           "timepoint": 14.1,
           "trajectory": "D_sol",
           "upper": 57.742536544799805
          },
          {
           "lower": 34.72781276702881,
           "timepoint": 14.2,
           "trajectory": "D_sol",
           "upper": 59.19101696014404
          },
          {
           "lower": 35.57031784057617,
           "timepoint": 14.3,
           "trajectory": "D_sol",
           "upper": 60.67304172515869
          },
          {
           "lower": 36.43151512145996,
           "timepoint": 14.4,
           "trajectory": "D_sol",
           "upper": 62.18933696746826
          },
          {
           "lower": 37.311807250976564,
           "timepoint": 14.5,
           "trajectory": "D_sol",
           "upper": 63.74071941375732
          },
          {
           "lower": 38.21166000366211,
           "timepoint": 14.6,
           "trajectory": "D_sol",
           "upper": 65.32797508239746
          },
          {
           "lower": 39.13147106170654,
           "timepoint": 14.7,
           "trajectory": "D_sol",
           "upper": 66.95193710327148
          },
          {
           "lower": 40.07169075012207,
           "timepoint": 14.8,
           "trajectory": "D_sol",
           "upper": 68.61344604492187
          },
          {
           "lower": 41.03276176452637,
           "timepoint": 14.9,
           "trajectory": "D_sol",
           "upper": 70.3133445739746
          },
          {
           "lower": 42.01514797210693,
           "timepoint": 15,
           "trajectory": "D_sol",
           "upper": 72.0525749206543
          },
          {
           "lower": 43.019307136535645,
           "timepoint": 15.1,
           "trajectory": "D_sol",
           "upper": 73.83198623657226
          },
          {
           "lower": 44.04571666717529,
           "timepoint": 15.2,
           "trajectory": "D_sol",
           "upper": 75.65251235961914
          },
          {
           "lower": 45.094990730285645,
           "timepoint": 15.3,
           "trajectory": "D_sol",
           "upper": 77.51510543823241
          },
          {
           "lower": 46.16743698120117,
           "timepoint": 15.4,
           "trajectory": "D_sol",
           "upper": 79.42071495056152
          },
          {
           "lower": 47.26365661621094,
           "timepoint": 15.5,
           "trajectory": "D_sol",
           "upper": 81.37035903930663
          },
          {
           "lower": 48.384172439575195,
           "timepoint": 15.6,
           "trajectory": "D_sol",
           "upper": 83.36502685546874
          },
          {
           "lower": 49.5295015335083,
           "timepoint": 15.7,
           "trajectory": "D_sol",
           "upper": 85.40575828552245
          },
          {
           "lower": 50.70021095275879,
           "timepoint": 15.8,
           "trajectory": "D_sol",
           "upper": 87.4934471130371
          },
          {
           "lower": 51.896843338012694,
           "timepoint": 15.9,
           "trajectory": "D_sol",
           "upper": 89.62945518493652
          },
          {
           "lower": 53.119981956481936,
           "timepoint": 16,
           "trajectory": "D_sol",
           "upper": 91.81477737426758
          },
          {
           "lower": 54.37019596099854,
           "timepoint": 16.1,
           "trajectory": "D_sol",
           "upper": 94.0505401611328
          },
          {
           "lower": 55.64810733795166,
           "timepoint": 16.2,
           "trajectory": "D_sol",
           "upper": 96.337886428833
          },
          {
           "lower": 57.01419620513916,
           "timepoint": 16.3,
           "trajectory": "D_sol",
           "upper": 98.6779571533203
          },
          {
           "lower": 58.4237606048584,
           "timepoint": 16.4,
           "trajectory": "D_sol",
           "upper": 101.07205543518066
          },
          {
           "lower": 59.8665849685669,
           "timepoint": 16.5,
           "trajectory": "D_sol",
           "upper": 103.52163467407226
          },
          {
           "lower": 61.343445014953616,
           "timepoint": 16.6,
           "trajectory": "D_sol",
           "upper": 106.02754325866698
          },
          {
           "lower": 62.855145645141604,
           "timepoint": 16.7,
           "trajectory": "D_sol",
           "upper": 108.5912727355957
          },
          {
           "lower": 64.40249538421631,
           "timepoint": 16.8,
           "trajectory": "D_sol",
           "upper": 111.21408805847167
          },
          {
           "lower": 65.9863670349121,
           "timepoint": 16.9,
           "trajectory": "D_sol",
           "upper": 113.8974468231201
          },
          {
           "lower": 67.60759162902832,
           "timepoint": 17,
           "trajectory": "D_sol",
           "upper": 116.64270401000975
          },
          {
           "lower": 69.2670684814453,
           "timepoint": 17.1,
           "trajectory": "D_sol",
           "upper": 119.45127868652342
          },
          {
           "lower": 70.96566772460938,
           "timepoint": 17.2,
           "trajectory": "D_sol",
           "upper": 122.32456436157226
          },
          {
           "lower": 72.70430145263671,
           "timepoint": 17.3,
           "trajectory": "D_sol",
           "upper": 125.26407737731932
          },
          {
           "lower": 74.48395462036133,
           "timepoint": 17.4,
           "trajectory": "D_sol",
           "upper": 128.27144088745115
          },
          {
           "lower": 76.30557746887207,
           "timepoint": 17.5,
           "trajectory": "D_sol",
           "upper": 131.3451431274414
          },
          {
           "lower": 78.17008399963379,
           "timepoint": 17.6,
           "trajectory": "D_sol",
           "upper": 134.48146514892576
          },
          {
           "lower": 80.0786075592041,
           "timepoint": 17.7,
           "trajectory": "D_sol",
           "upper": 137.68981475830077
          },
          {
           "lower": 82.03209190368652,
           "timepoint": 17.8,
           "trajectory": "D_sol",
           "upper": 140.97172393798826
          },
          {
           "lower": 84.03627738952636,
           "timepoint": 17.9,
           "trajectory": "D_sol",
           "upper": 144.32901229858396
          },
          {
           "lower": 86.08867301940919,
           "timepoint": 18,
           "trajectory": "D_sol",
           "upper": 147.76362304687498
          },
          {
           "lower": 88.18961944580079,
           "timepoint": 18.1,
           "trajectory": "D_sol",
           "upper": 151.27690887451172
          },
          {
           "lower": 90.34024467468262,
           "timepoint": 18.2,
           "trajectory": "D_sol",
           "upper": 154.87078628540038
          },
          {
           "lower": 92.54138679504395,
           "timepoint": 18.3,
           "trajectory": "D_sol",
           "upper": 158.54704513549802
          },
          {
           "lower": 94.7947826385498,
           "timepoint": 18.4,
           "trajectory": "D_sol",
           "upper": 162.30770187377928
          },
          {
           "lower": 97.10141143798828,
           "timepoint": 18.5,
           "trajectory": "D_sol",
           "upper": 166.1550437927246
          },
          {
           "lower": 99.46255493164062,
           "timepoint": 18.6,
           "trajectory": "D_sol",
           "upper": 170.09039916992188
          },
          {
           "lower": 101.87962951660157,
           "timepoint": 18.7,
           "trajectory": "D_sol",
           "upper": 174.11611709594726
          },
          {
           "lower": 104.35369529724122,
           "timepoint": 18.8,
           "trajectory": "D_sol",
           "upper": 178.2341636657715
          },
          {
           "lower": 106.88626480102539,
           "timepoint": 18.9,
           "trajectory": "D_sol",
           "upper": 182.44657440185546
          },
          {
           "lower": 109.47863693237305,
           "timepoint": 19,
           "trajectory": "D_sol",
           "upper": 186.75573272705077
          },
          {
           "lower": 112.13227157592773,
           "timepoint": 19.1,
           "trajectory": "D_sol",
           "upper": 191.1637969970703
          },
          {
           "lower": 114.67679862976074,
           "timepoint": 19.2,
           "trajectory": "D_sol",
           "upper": 195.67295837402344
          },
          {
           "lower": 117.15438537597656,
           "timepoint": 19.3,
           "trajectory": "D_sol",
           "upper": 200.28549652099608
          },
          {
           "lower": 119.68356513977051,
           "timepoint": 19.4,
           "trajectory": "D_sol",
           "upper": 205.0038230895996
          },
          {
           "lower": 122.26527900695801,
           "timepoint": 19.5,
           "trajectory": "D_sol",
           "upper": 209.83037185668945
          },
          {
           "lower": 124.90067977905274,
           "timepoint": 19.6,
           "trajectory": "D_sol",
           "upper": 214.76758346557617
          },
          {
           "lower": 127.59076309204102,
           "timepoint": 19.7,
           "trajectory": "D_sol",
           "upper": 219.81778793334962
          },
          {
           "lower": 130.3366813659668,
           "timepoint": 19.8,
           "trajectory": "D_sol",
           "upper": 224.98342056274413
          },
          {
           "lower": 133.13955383300782,
           "timepoint": 19.9,
           "trajectory": "D_sol",
           "upper": 230.26758728027343
          },
          {
           "lower": 136.0003890991211,
           "timepoint": 20,
           "trajectory": "D_sol",
           "upper": 235.67220001220704
          },
          {
           "lower": 139.0136749267578,
           "timepoint": 20.1,
           "trajectory": "D_sol",
           "upper": 241.02211074829103
          },
          {
           "lower": 142.32765197753906,
           "timepoint": 20.2,
           "trajectory": "D_sol",
           "upper": 246.39907302856446
          },
          {
           "lower": 145.71774978637694,
           "timepoint": 20.3,
           "trajectory": "D_sol",
           "upper": 251.8910255432129
          },
          {
           "lower": 149.1855155944824,
           "timepoint": 20.4,
           "trajectory": "D_sol",
           "upper": 257.4997619628906
          },
          {
           "lower": 152.73200607299805,
           "timepoint": 20.5,
           "trajectory": "D_sol",
           "upper": 263.22658386230466
          },
          {
           "lower": 156.3670654296875,
           "timepoint": 20.6,
           "trajectory": "D_sol",
           "upper": 269.0737060546875
          },
          {
           "lower": 160.09416961669922,
           "timepoint": 20.7,
           "trajectory": "D_sol",
           "upper": 275.55176239013673
          },
          {
           "lower": 163.90384902954102,
           "timepoint": 20.8,
           "trajectory": "D_sol",
           "upper": 282.1748016357422
          },
          {
           "lower": 167.79686279296874,
           "timepoint": 20.9,
           "trajectory": "D_sol",
           "upper": 288.94415588378905
          },
          {
           "lower": 171.77393264770507,
           "timepoint": 21,
           "trajectory": "D_sol",
           "upper": 295.8614135742188
          },
          {
           "lower": 175.83555526733397,
           "timepoint": 21.1,
           "trajectory": "D_sol",
           "upper": 302.9277084350586
          },
          {
           "lower": 179.98254470825196,
           "timepoint": 21.2,
           "trajectory": "D_sol",
           "upper": 310.1423309326172
          },
          {
           "lower": 184.21484603881837,
           "timepoint": 21.3,
           "trajectory": "D_sol",
           "upper": 317.5077621459961
          },
          {
           "lower": 188.5331298828125,
           "timepoint": 21.4,
           "trajectory": "D_sol",
           "upper": 325.0240737915039
          },
          {
           "lower": 192.9375961303711,
           "timepoint": 21.5,
           "trajectory": "D_sol",
           "upper": 332.6915542602539
          },
          {
           "lower": 197.42779693603515,
           "timepoint": 21.6,
           "trajectory": "D_sol",
           "upper": 340.4324066162109
          },
          {
           "lower": 202.00463333129883,
           "timepoint": 21.7,
           "trajectory": "D_sol",
           "upper": 348.17945709228513
          },
          {
           "lower": 206.667724609375,
           "timepoint": 21.8,
           "trajectory": "D_sol",
           "upper": 356.0692108154297
          },
          {
           "lower": 211.4172019958496,
           "timepoint": 21.9,
           "trajectory": "D_sol",
           "upper": 364.1013916015625
          },
          {
           "lower": 216.25293884277343,
           "timepoint": 22,
           "trajectory": "D_sol",
           "upper": 372.2757263183594
          },
          {
           "lower": 221.1747268676758,
           "timepoint": 22.1,
           "trajectory": "D_sol",
           "upper": 380.591569519043
          },
          {
           "lower": 226.18237991333007,
           "timepoint": 22.2,
           "trajectory": "D_sol",
           "upper": 389.04930419921874
          },
          {
           "lower": 231.27554626464843,
           "timepoint": 22.3,
           "trajectory": "D_sol",
           "upper": 397.6471008300781
          },
          {
           "lower": 236.45416717529298,
           "timepoint": 22.4,
           "trajectory": "D_sol",
           "upper": 406.3850357055664
          },
          {
           "lower": 241.71793518066406,
           "timepoint": 22.5,
           "trajectory": "D_sol",
           "upper": 415.26232147216797
          },
          {
           "lower": 247.06626892089844,
           "timepoint": 22.6,
           "trajectory": "D_sol",
           "upper": 424.2781555175781
          },
          {
           "lower": 252.49888534545897,
           "timepoint": 22.7,
           "trajectory": "D_sol",
           "upper": 433.4320816040039
          },
          {
           "lower": 258.0151931762695,
           "timepoint": 22.8,
           "trajectory": "D_sol",
           "upper": 442.72234802246095
          },
          {
           "lower": 263.6148681640625,
           "timepoint": 22.9,
           "trajectory": "D_sol",
           "upper": 452.1487213134765
          },
          {
           "lower": 269.29748077392577,
           "timepoint": 23,
           "trajectory": "D_sol",
           "upper": 461.70992889404295
          },
          {
           "lower": 275.0624465942383,
           "timepoint": 23.1,
           "trajectory": "D_sol",
           "upper": 471.5088684082031
          },
          {
           "lower": 280.9091278076172,
           "timepoint": 23.2,
           "trajectory": "D_sol",
           "upper": 481.57496795654293
          },
          {
           "lower": 286.83690490722654,
           "timepoint": 23.3,
           "trajectory": "D_sol",
           "upper": 491.7813232421875
          },
          {
           "lower": 292.84531555175784,
           "timepoint": 23.4,
           "trajectory": "D_sol",
           "upper": 502.12770385742186
          },
          {
           "lower": 298.93462829589845,
           "timepoint": 23.5,
           "trajectory": "D_sol",
           "upper": 512.6126434326171
          },
          {
           "lower": 305.1028625488281,
           "timepoint": 23.6,
           "trajectory": "D_sol",
           "upper": 523.235220336914
          },
          {
           "lower": 311.1570129394531,
           "timepoint": 23.7,
           "trajectory": "D_sol",
           "upper": 533.993994140625
          },
          {
           "lower": 316.76175384521486,
           "timepoint": 23.8,
           "trajectory": "D_sol",
           "upper": 544.8878570556641
          },
          {
           "lower": 322.4223007202148,
           "timepoint": 23.9,
           "trajectory": "D_sol",
           "upper": 555.9187377929687
          },
          {
           "lower": 328.137646484375,
           "timepoint": 24,
           "trajectory": "D_sol",
           "upper": 567.0810852050781
          },
          {
           "lower": 333.90647888183594,
           "timepoint": 24.1,
           "trajectory": "D_sol",
           "upper": 578.3754730224609
          },
          {
           "lower": 339.72864990234376,
           "timepoint": 24.2,
           "trajectory": "D_sol",
           "upper": 589.7941680908203
          },
          {
           "lower": 345.6029296875,
           "timepoint": 24.3,
           "trajectory": "D_sol",
           "upper": 601.3108673095703
          },
          {
           "lower": 351.5945114135742,
           "timepoint": 24.4,
           "trajectory": "D_sol",
           "upper": 612.9565032958984
          },
          {
           "lower": 358.25809478759766,
           "timepoint": 24.5,
           "trajectory": "D_sol",
           "upper": 624.7275146484375
          },
          {
           "lower": 364.9899154663086,
           "timepoint": 24.6,
           "trajectory": "D_sol",
           "upper": 636.623648071289
          },
          {
           "lower": 371.78942108154297,
           "timepoint": 24.7,
           "trajectory": "D_sol",
           "upper": 648.6436279296875
          },
          {
           "lower": 378.65562438964844,
           "timepoint": 24.8,
           "trajectory": "D_sol",
           "upper": 660.786264038086
          },
          {
           "lower": 385.5880554199219,
           "timepoint": 24.9,
           "trajectory": "D_sol",
           "upper": 673.0506927490235
          },
          {
           "lower": 392.5857986450195,
           "timepoint": 25,
           "trajectory": "D_sol",
           "upper": 685.4338684082031
          },
          {
           "lower": 399.6481460571289,
           "timepoint": 25.1,
           "trajectory": "D_sol",
           "upper": 697.9370513916016
          },
          {
           "lower": 406.7739776611328,
           "timepoint": 25.2,
           "trajectory": "D_sol",
           "upper": 710.5579833984375
          },
          {
           "lower": 413.9629379272461,
           "timepoint": 25.3,
           "trajectory": "D_sol",
           "upper": 722.605224609375
          },
          {
           "lower": 421.2143188476563,
           "timepoint": 25.4,
           "trajectory": "D_sol",
           "upper": 734.7257995605469
          },
          {
           "lower": 428.5271987915039,
           "timepoint": 25.5,
           "trajectory": "D_sol",
           "upper": 746.9389343261719
          },
          {
           "lower": 435.90086822509767,
           "timepoint": 25.6,
           "trajectory": "D_sol",
           "upper": 759.2432464599609
          },
          {
           "lower": 443.3345611572266,
           "timepoint": 25.7,
           "trajectory": "D_sol",
           "upper": 771.6374084472656
          },
          {
           "lower": 450.82735748291014,
           "timepoint": 25.8,
           "trajectory": "D_sol",
           "upper": 784.1190948486328
          },
          {
           "lower": 458.3888687133789,
           "timepoint": 25.9,
           "trajectory": "D_sol",
           "upper": 796.688311767578
          },
          {
           "lower": 466.03980407714846,
           "timepoint": 26,
           "trajectory": "D_sol",
           "upper": 809.3430755615234
          },
          {
           "lower": 473.74885711669924,
           "timepoint": 26.1,
           "trajectory": "D_sol",
           "upper": 822.0820037841796
          },
          {
           "lower": 481.5154632568359,
           "timepoint": 26.2,
           "trajectory": "D_sol",
           "upper": 834.903759765625
          },
          {
           "lower": 489.33871002197264,
           "timepoint": 26.3,
           "trajectory": "D_sol",
           "upper": 847.8066802978516
          },
          {
           "lower": 497.2182312011719,
           "timepoint": 26.4,
           "trajectory": "D_sol",
           "upper": 860.789874267578
          },
          {
           "lower": 505.1523071289063,
           "timepoint": 26.5,
           "trajectory": "D_sol",
           "upper": 873.8530029296875
          },
          {
           "lower": 513.1416305541992,
           "timepoint": 26.6,
           "trajectory": "D_sol",
           "upper": 886.992886352539
          },
          {
           "lower": 521.1848693847656,
           "timepoint": 26.7,
           "trajectory": "D_sol",
           "upper": 900.2091156005858
          },
          {
           "lower": 529.2812927246093,
           "timepoint": 26.8,
           "trajectory": "D_sol",
           "upper": 913.4999389648438
          },
          {
           "lower": 537.4304595947266,
           "timepoint": 26.9,
           "trajectory": "D_sol",
           "upper": 926.864697265625
          },
          {
           "lower": 545.6314392089844,
           "timepoint": 27,
           "trajectory": "D_sol",
           "upper": 940.3018402099609
          },
          {
           "lower": 553.2719940185547,
           "timepoint": 27.1,
           "trajectory": "D_sol",
           "upper": 954.1659606933594
          },
          {
           "lower": 560.7639617919922,
           "timepoint": 27.2,
           "trajectory": "D_sol",
           "upper": 968.2606384277343
          },
          {
           "lower": 568.2889617919922,
           "timepoint": 27.3,
           "trajectory": "D_sol",
           "upper": 982.4362670898437
          },
          {
           "lower": 575.8464660644531,
           "timepoint": 27.4,
           "trajectory": "D_sol",
           "upper": 996.6922973632812
          },
          {
           "lower": 583.4357391357422,
           "timepoint": 27.5,
           "trajectory": "D_sol",
           "upper": 1011.027862548828
          },
          {
           "lower": 591.0569793701172,
           "timepoint": 27.6,
           "trajectory": "D_sol",
           "upper": 1025.4412292480467
          },
          {
           "lower": 598.7079315185547,
           "timepoint": 27.7,
           "trajectory": "D_sol",
           "upper": 1039.9314331054686
          },
          {
           "lower": 606.388525390625,
           "timepoint": 27.8,
           "trajectory": "D_sol",
           "upper": 1054.4973266601562
          },
          {
           "lower": 614.0984161376953,
           "timepoint": 27.9,
           "trajectory": "D_sol",
           "upper": 1069.1384765624998
          },
          {
           "lower": 621.8367614746094,
           "timepoint": 28,
           "trajectory": "D_sol",
           "upper": 1084.247229003906
          },
          {
           "lower": 629.6028350830078,
           "timepoint": 28.1,
           "trajectory": "D_sol",
           "upper": 1099.5502197265623
          },
          {
           "lower": 637.3962036132813,
           "timepoint": 28.2,
           "trajectory": "D_sol",
           "upper": 1114.934796142578
          },
          {
           "lower": 645.215966796875,
           "timepoint": 28.3,
           "trajectory": "D_sol",
           "upper": 1130.4019287109375
          },
          {
           "lower": 653.0627532958985,
           "timepoint": 28.4,
           "trajectory": "D_sol",
           "upper": 1145.9509216308593
          },
          {
           "lower": 660.9342651367188,
           "timepoint": 28.5,
           "trajectory": "D_sol",
           "upper": 1161.58056640625
          },
          {
           "lower": 668.8307525634766,
           "timepoint": 28.6,
           "trajectory": "D_sol",
           "upper": 1177.2904296875
          },
          {
           "lower": 676.7514617919921,
           "timepoint": 28.7,
           "trajectory": "D_sol",
           "upper": 1193.0795837402343
          },
          {
           "lower": 684.6957366943359,
           "timepoint": 28.8,
           "trajectory": "D_sol",
           "upper": 1208.9469299316406
          },
          {
           "lower": 692.6633911132812,
           "timepoint": 28.9,
           "trajectory": "D_sol",
           "upper": 1224.8889587402343
          },
          {
           "lower": 700.6535278320313,
           "timepoint": 29,
           "trajectory": "D_sol",
           "upper": 1240.9096862792967
          },
          {
           "lower": 708.6658386230469,
           "timepoint": 29.1,
           "trajectory": "D_sol",
           "upper": 1257.006182861328
          },
          {
           "lower": 717.322787475586,
           "timepoint": 29.2,
           "trajectory": "D_sol",
           "upper": 1273.1779235839842
          },
          {
           "lower": 726.2954040527344,
           "timepoint": 29.3,
           "trajectory": "D_sol",
           "upper": 1289.4231384277343
          },
          {
           "lower": 735.3088897705078,
           "timepoint": 29.4,
           "trajectory": "D_sol",
           "upper": 1305.7426147460938
          },
          {
           "lower": 744.3617614746094,
           "timepoint": 29.5,
           "trajectory": "D_sol",
           "upper": 1322.1346435546875
          },
          {
           "lower": 753.4535858154297,
           "timepoint": 29.6,
           "trajectory": "D_sol",
           "upper": 1338.5988037109373
          },
          {
           "lower": 762.5841705322266,
           "timepoint": 29.7,
           "trajectory": "D_sol",
           "upper": 1355.1308532714843
          },
          {
           "lower": 771.7527221679687,
           "timepoint": 29.8,
           "trajectory": "D_sol",
           "upper": 1371.7356079101562
          },
          {
           "lower": 780.9592895507812,
           "timepoint": 29.9,
           "trajectory": "D_sol",
           "upper": 1388.4102966308592
          },
          {
           "lower": 790.2034393310547,
           "timepoint": 30,
           "trajectory": "D_sol",
           "upper": 1405.1540283203124
          },
          {
           "lower": 799.484652709961,
           "timepoint": 30.1,
           "trajectory": "D_sol",
           "upper": 1421.9662170410156
          },
          {
           "lower": 808.802587890625,
           "timepoint": 30.2,
           "trajectory": "D_sol",
           "upper": 1438.8460144042967
          },
          {
           "lower": 818.1564025878906,
           "timepoint": 30.3,
           "trajectory": "D_sol",
           "upper": 1455.7927856445312
          },
          {
           "lower": 827.5469116210937,
           "timepoint": 30.4,
           "trajectory": "D_sol",
           "upper": 1472.805889892578
          },
          {
           "lower": 836.9729797363282,
           "timepoint": 30.5,
           "trajectory": "D_sol",
           "upper": 1489.8850219726562
          },
          {
           "lower": 846.4345886230469,
           "timepoint": 30.6,
           "trajectory": "D_sol",
           "upper": 1507.004992675781
          },
          {
           "lower": 855.9313049316406,
           "timepoint": 30.7,
           "trajectory": "D_sol",
           "upper": 1524.165509033203
          },
          {
           "lower": 865.4626403808594,
           "timepoint": 30.8,
           "trajectory": "D_sol",
           "upper": 1541.3890502929687
          },
          {
           "lower": 875.0285919189453,
           "timepoint": 30.9,
           "trajectory": "D_sol",
           "upper": 1558.675030517578
          },
          {
           "lower": 884.6287780761719,
           "timepoint": 31,
           "trajectory": "D_sol",
           "upper": 1576.0229797363281
          },
          {
           "lower": 894.2628936767578,
           "timepoint": 31.1,
           "trajectory": "D_sol",
           "upper": 1593.4315002441406
          },
          {
           "lower": 903.930630493164,
           "timepoint": 31.2,
           "trajectory": "D_sol",
           "upper": 1610.9008422851562
          },
          {
           "lower": 913.1232757568359,
           "timepoint": 31.3,
           "trajectory": "D_sol",
           "upper": 1628.4297790527344
          },
          {
           "lower": 921.9575988769532,
           "timepoint": 31.4,
           "trajectory": "D_sol",
           "upper": 1646.0183227539062
          },
          {
           "lower": 930.8067657470704,
           "timepoint": 31.5,
           "trajectory": "D_sol",
           "upper": 1663.6656005859375
          },
          {
           "lower": 939.6703430175781,
           "timepoint": 31.6,
           "trajectory": "D_sol",
           "upper": 1681.3713623046874
          },
          {
           "lower": 948.5481475830078,
           "timepoint": 31.7,
           "trajectory": "D_sol",
           "upper": 1699.1341796875
          },
          {
           "lower": 957.439501953125,
           "timepoint": 31.8,
           "trajectory": "D_sol",
           "upper": 1716.9543518066405
          },
          {
           "lower": 966.3446533203125,
           "timepoint": 31.9,
           "trajectory": "D_sol",
           "upper": 1734.8318786621094
          },
          {
           "lower": 975.2643310546875,
           "timepoint": 32,
           "trajectory": "D_sol",
           "upper": 1752.7654357910155
          },
          {
           "lower": 984.1953552246093,
           "timepoint": 32.1,
           "trajectory": "D_sol",
           "upper": 1770.7547546386718
          },
          {
           "lower": 993.1393096923828,
           "timepoint": 32.2,
           "trajectory": "D_sol",
           "upper": 1788.7998596191405
          },
          {
           "lower": 1002.0951110839844,
           "timepoint": 32.3,
           "trajectory": "D_sol",
           "upper": 1806.899365234375
          },
          {
           "lower": 1011.0630065917969,
           "timepoint": 32.4,
           "trajectory": "D_sol",
           "upper": 1825.0537902832032
          },
          {
           "lower": 1020.0421417236328,
           "timepoint": 32.5,
           "trajectory": "D_sol",
           "upper": 1843.2615234375
          },
          {
           "lower": 1029.032452392578,
           "timepoint": 32.6,
           "trajectory": "D_sol",
           "upper": 1861.5229125976562
          },
          {
           "lower": 1038.0342895507813,
           "timepoint": 32.7,
           "trajectory": "D_sol",
           "upper": 1879.8378601074219
          },
          {
           "lower": 1047.0462738037108,
           "timepoint": 32.8,
           "trajectory": "D_sol",
           "upper": 1898.205450439453
          },
          {
           "lower": 1056.0690032958985,
           "timepoint": 32.9,
           "trajectory": "D_sol",
           "upper": 1916.6256225585937
          },
          {
           "lower": 1065.1016174316405,
           "timepoint": 33,
           "trajectory": "D_sol",
           "upper": 1935.097119140625
          },
          {
           "lower": 1074.1441467285156,
           "timepoint": 33.1,
           "trajectory": "D_sol",
           "upper": 1953.6202697753906
          },
          {
           "lower": 1083.196307373047,
           "timepoint": 33.2,
           "trajectory": "D_sol",
           "upper": 1972.1953857421875
          },
          {
           "lower": 1092.2575256347657,
           "timepoint": 33.3,
           "trajectory": "D_sol",
           "upper": 1990.8203735351562
          },
          {
           "lower": 1101.3280212402344,
           "timepoint": 33.4,
           "trajectory": "D_sol",
           "upper": 2009.4964233398437
          },
          {
           "lower": 1110.4070678710937,
           "timepoint": 33.5,
           "trajectory": "D_sol",
           "upper": 2028.2220642089844
          },
          {
           "lower": 1119.4946594238281,
           "timepoint": 33.6,
           "trajectory": "D_sol",
           "upper": 2046.9973022460938
          },
          {
           "lower": 1128.5906982421875,
           "timepoint": 33.7,
           "trajectory": "D_sol",
           "upper": 2065.822619628906
          },
          {
           "lower": 1137.6946716308594,
           "timepoint": 33.8,
           "trajectory": "D_sol",
           "upper": 2084.6961669921875
          },
          {
           "lower": 1146.8067199707032,
           "timepoint": 33.9,
           "trajectory": "D_sol",
           "upper": 2103.619177246094
          },
          {
           "lower": 1155.9258605957032,
           "timepoint": 34,
           "trajectory": "D_sol",
           "upper": 2122.5889892578125
          },
          {
           "lower": 1165.0521057128906,
           "timepoint": 34.1,
           "trajectory": "D_sol",
           "upper": 2141.6072631835937
          },
          {
           "lower": 1174.1861633300782,
           "timepoint": 34.2,
           "trajectory": "D_sol",
           "upper": 2160.6741943359375
          },
          {
           "lower": 1183.3269958496094,
           "timepoint": 34.3,
           "trajectory": "D_sol",
           "upper": 2179.7879028320312
          },
          {
           "lower": 1192.4744873046875,
           "timepoint": 34.4,
           "trajectory": "D_sol",
           "upper": 2198.949072265625
          },
          {
           "lower": 1201.6283325195313,
           "timepoint": 34.5,
           "trajectory": "D_sol",
           "upper": 2218.15673828125
          },
          {
           "lower": 1210.7884216308594,
           "timepoint": 34.6,
           "trajectory": "D_sol",
           "upper": 2236.971887207031
          },
          {
           "lower": 1219.9548645019531,
           "timepoint": 34.7,
           "trajectory": "D_sol",
           "upper": 2255.0801391601562
          },
          {
           "lower": 1229.1267028808593,
           "timepoint": 34.8,
           "trajectory": "D_sol",
           "upper": 2273.213659667969
          },
          {
           "lower": 1238.304541015625,
           "timepoint": 34.9,
           "trajectory": "D_sol",
           "upper": 2291.3732055664063
          },
          {
           "lower": 1247.4878662109375,
           "timepoint": 35,
           "trajectory": "D_sol",
           "upper": 2309.5571044921876
          },
          {
           "lower": 1256.6760986328125,
           "timepoint": 35.1,
           "trajectory": "D_sol",
           "upper": 2327.7662353515625
          },
          {
           "lower": 1265.8699584960937,
           "timepoint": 35.2,
           "trajectory": "D_sol",
           "upper": 2346.0004638671876
          },
          {
           "lower": 1275.0685974121093,
           "timepoint": 35.3,
           "trajectory": "D_sol",
           "upper": 2364.2589599609373
          },
          {
           "lower": 1284.27236328125,
           "timepoint": 35.4,
           "trajectory": "D_sol",
           "upper": 2382.5416625976563
          },
          {
           "lower": 1293.4801818847657,
           "timepoint": 35.5,
           "trajectory": "D_sol",
           "upper": 2400.847204589844
          },
          {
           "lower": 1302.6907775878906,
           "timepoint": 35.6,
           "trajectory": "D_sol",
           "upper": 2419.176806640625
          },
          {
           "lower": 1311.9072875976562,
           "timepoint": 35.7,
           "trajectory": "D_sol",
           "upper": 2437.5219116210938
          },
          {
           "lower": 1321.1275939941406,
           "timepoint": 35.8,
           "trajectory": "D_sol",
           "upper": 2456.347241210937
          },
          {
           "lower": 1330.352069091797,
           "timepoint": 35.9,
           "trajectory": "D_sol",
           "upper": 2477.0068603515624
          },
          {
           "lower": 1339.5799743652344,
           "timepoint": 36,
           "trajectory": "D_sol",
           "upper": 2497.7240966796876
          },
          {
           "lower": 1348.811572265625,
           "timepoint": 36.1,
           "trajectory": "D_sol",
           "upper": 2518.500830078125
          },
          {
           "lower": 1358.0468322753907,
           "timepoint": 36.2,
           "trajectory": "D_sol",
           "upper": 2539.334753417969
          },
          {
           "lower": 1367.2850402832032,
           "timepoint": 36.3,
           "trajectory": "D_sol",
           "upper": 2560.2288208007812
          },
          {
           "lower": 1376.5266906738282,
           "timepoint": 36.4,
           "trajectory": "D_sol",
           "upper": 2581.1826171875
          },
          {
           "lower": 1385.7711669921875,
           "timepoint": 36.5,
           "trajectory": "D_sol",
           "upper": 2602.193737792969
          },
          {
           "lower": 1395.0182312011718,
           "timepoint": 36.6,
           "trajectory": "D_sol",
           "upper": 2623.26337890625
          },
          {
           "lower": 1404.2685913085938,
           "timepoint": 36.7,
           "trajectory": "D_sol",
           "upper": 2644.3922607421873
          },
          {
           "lower": 1413.521173095703,
           "timepoint": 36.8,
           "trajectory": "D_sol",
           "upper": 2665.5784423828127
          },
          {
           "lower": 1422.7765869140626,
           "timepoint": 36.9,
           "trajectory": "D_sol",
           "upper": 2686.823937988281
          },
          {
           "lower": 1432.0335021972655,
           "timepoint": 37,
           "trajectory": "D_sol",
           "upper": 2708.126428222656
          },
          {
           "lower": 1441.2929565429688,
           "timepoint": 37.1,
           "trajectory": "D_sol",
           "upper": 2729.4864501953125
          },
          {
           "lower": 1450.5547668457032,
           "timepoint": 37.2,
           "trajectory": "D_sol",
           "upper": 2750.9054565429688
          },
          {
           "lower": 1459.8179626464844,
           "timepoint": 37.3,
           "trajectory": "D_sol",
           "upper": 2772.3812622070313
          },
          {
           "lower": 1469.0834899902343,
           "timepoint": 37.4,
           "trajectory": "D_sol",
           "upper": 2793.9157958984374
          },
          {
           "lower": 1478.3502502441406,
           "timepoint": 37.5,
           "trajectory": "D_sol",
           "upper": 2815.5068603515624
          },
          {
           "lower": 1487.61875,
           "timepoint": 37.6,
           "trajectory": "D_sol",
           "upper": 2837.1559326171873
          },
          {
           "lower": 1496.8892150878905,
           "timepoint": 37.7,
           "trajectory": "D_sol",
           "upper": 2858.7126953125
          },
          {
           "lower": 1506.160205078125,
           "timepoint": 37.8,
           "trajectory": "D_sol",
           "upper": 2879.4947509765625
          },
          {
           "lower": 1515.4330322265625,
           "timepoint": 37.9,
           "trajectory": "D_sol",
           "upper": 2900.3199951171873
          },
          {
           "lower": 1524.70673828125,
           "timepoint": 38,
           "trajectory": "D_sol",
           "upper": 2921.186328125
          },
          {
           "lower": 1533.9814453125,
           "timepoint": 38.1,
           "trajectory": "D_sol",
           "upper": 2942.0945434570312
          },
          {
           "lower": 1543.2572875976562,
           "timepoint": 38.2,
           "trajectory": "D_sol",
           "upper": 2963.044677734375
          },
          {
           "lower": 1552.533740234375,
           "timepoint": 38.3,
           "trajectory": "D_sol",
           "upper": 2984.0357055664062
          },
          {
           "lower": 1561.8110961914062,
           "timepoint": 38.4,
           "trajectory": "D_sol",
           "upper": 3005.0688720703124
          },
          {
           "lower": 1571.0888305664062,
           "timepoint": 38.5,
           "trajectory": "D_sol",
           "upper": 3026.14296875
          },
          {
           "lower": 1580.3671936035157,
           "timepoint": 38.6,
           "trajectory": "D_sol",
           "upper": 3047.2621337890623
          },
          {
           "lower": 1589.6471740722657,
           "timepoint": 38.7,
           "trajectory": "D_sol",
           "upper": 3068.419775390625
          },
          {
           "lower": 1598.926202392578,
           "timepoint": 38.8,
           "trajectory": "D_sol",
           "upper": 3089.618054199219
          },
          {
           "lower": 1608.2061096191405,
           "timepoint": 38.9,
           "trajectory": "D_sol",
           "upper": 3110.857763671875
          },
          {
           "lower": 1617.4856750488282,
           "timepoint": 39,
           "trajectory": "D_sol",
           "upper": 3132.1379150390626
          },
          {
           "lower": 1626.797869873047,
           "timepoint": 39.1,
           "trajectory": "D_sol",
           "upper": 3153.4585205078124
          },
          {
           "lower": 1636.21533203125,
           "timepoint": 39.2,
           "trajectory": "D_sol",
           "upper": 3174.820812988281
          },
          {
           "lower": 1645.6339294433594,
           "timepoint": 39.3,
           "trajectory": "D_sol",
           "upper": 3196.2233032226563
          },
          {
           "lower": 1655.0545043945312,
           "timepoint": 39.4,
           "trajectory": "D_sol",
           "upper": 3217.6669799804686
          },
          {
           "lower": 1664.47607421875,
           "timepoint": 39.5,
           "trajectory": "D_sol",
           "upper": 3239.150634765625
          },
          {
           "lower": 1673.8992736816406,
           "timepoint": 39.6,
           "trajectory": "D_sol",
           "upper": 3260.6744995117188
          },
          {
           "lower": 1683.3243286132813,
           "timepoint": 39.7,
           "trajectory": "D_sol",
           "upper": 3282.239758300781
          },
          {
           "lower": 1692.7499267578125,
           "timepoint": 39.8,
           "trajectory": "D_sol",
           "upper": 3303.8447875976562
          },
          {
           "lower": 1702.1772766113281,
           "timepoint": 39.9,
           "trajectory": "D_sol",
           "upper": 3325.490576171875
          },
          {
           "lower": 1711.6055053710938,
           "timepoint": 40,
           "trajectory": "D_sol",
           "upper": 3347.1758422851562
          },
          {
           "lower": 1721.0348876953126,
           "timepoint": 40.1,
           "trajectory": "D_sol",
           "upper": 3368.9013549804686
          },
          {
           "lower": 1730.4655517578126,
           "timepoint": 40.2,
           "trajectory": "D_sol",
           "upper": 3390.668078613281
          },
          {
           "lower": 1739.8929931640625,
           "timepoint": 40.3,
           "trajectory": "D_sol",
           "upper": 3412.466870117187
          },
          {
           "lower": 1749.3249572753907,
           "timepoint": 40.4,
           "trajectory": "D_sol",
           "upper": 3434.312219238281
          },
          {
           "lower": 1758.75712890625,
           "timepoint": 40.5,
           "trajectory": "D_sol",
           "upper": 3456.1963500976562
          },
          {
           "lower": 1768.1903442382813,
           "timepoint": 40.6,
           "trajectory": "D_sol",
           "upper": 3478.120263671875
          },
          {
           "lower": 1777.624267578125,
           "timepoint": 40.7,
           "trajectory": "D_sol",
           "upper": 3500.0847045898436
          },
          {
           "lower": 1787.0585144042968,
           "timepoint": 40.8,
           "trajectory": "D_sol",
           "upper": 3522.087719726562
          },
          {
           "lower": 1796.493829345703,
           "timepoint": 40.9,
           "trajectory": "D_sol",
           "upper": 3544.1314697265625
          },
          {
           "lower": 1805.9292236328124,
           "timepoint": 41,
           "trajectory": "D_sol",
           "upper": 3566.2140380859373
          },
          {
           "lower": 1815.364971923828,
           "timepoint": 41.1,
           "trajectory": "D_sol",
           "upper": 3588.335693359375
          },
          {
           "lower": 1824.801318359375,
           "timepoint": 41.2,
           "trajectory": "D_sol",
           "upper": 3610.498095703125
          },
          {
           "lower": 1834.2378723144532,
           "timepoint": 41.3,
           "trajectory": "D_sol",
           "upper": 3632.698645019531
          },
          {
           "lower": 1843.6750427246093,
           "timepoint": 41.4,
           "trajectory": "D_sol",
           "upper": 3654.939697265625
          },
          {
           "lower": 1853.1119567871094,
           "timepoint": 41.5,
           "trajectory": "D_sol",
           "upper": 3677.2186889648438
          },
          {
           "lower": 1862.549334716797,
           "timepoint": 41.6,
           "trajectory": "D_sol",
           "upper": 3699.537609863281
          },
          {
           "lower": 1871.9869689941406,
           "timepoint": 41.7,
           "trajectory": "D_sol",
           "upper": 3721.896105957031
          },
          {
           "lower": 1881.424365234375,
           "timepoint": 41.8,
           "trajectory": "D_sol",
           "upper": 3744.293212890625
          },
          {
           "lower": 1890.8622436523438,
           "timepoint": 41.9,
           "trajectory": "D_sol",
           "upper": 3766.73037109375
          },
          {
           "lower": 1900.3011596679687,
           "timepoint": 42,
           "trajectory": "D_sol",
           "upper": 3789.2061157226562
          },
          {
           "lower": 1909.7386901855468,
           "timepoint": 42.1,
           "trajectory": "D_sol",
           "upper": 3811.7207275390624
          },
          {
           "lower": 1919.1765625,
           "timepoint": 42.2,
           "trajectory": "D_sol",
           "upper": 3834.2812377929686
          },
          {
           "lower": 1928.6138977050782,
           "timepoint": 42.3,
           "trajectory": "D_sol",
           "upper": 3856.87451171875
          },
          {
           "lower": 1938.0513977050782,
           "timepoint": 42.4,
           "trajectory": "D_sol",
           "upper": 3879.5081176757812
          },
          {
           "lower": 1947.4884094238282,
           "timepoint": 42.5,
           "trajectory": "D_sol",
           "upper": 3902.179602050781
          },
          {
           "lower": 1957.119451904297,
           "timepoint": 42.6,
           "trajectory": "D_sol",
           "upper": 3924.8899902343746
          },
          {
           "lower": 1969.1923522949219,
           "timepoint": 42.7,
           "trajectory": "D_sol",
           "upper": 3947.6406860351562
          },
          {
           "lower": 1981.2935607910156,
           "timepoint": 42.8,
           "trajectory": "D_sol",
           "upper": 3970.4292846679687
          },
          {
           "lower": 1993.424365234375,
           "timepoint": 42.9,
           "trajectory": "D_sol",
           "upper": 3993.2577514648433
          },
          {
           "lower": 2005.5838195800782,
           "timepoint": 43,
           "trajectory": "D_sol",
           "upper": 4016.124133300781
          },
          {
           "lower": 2017.7720336914062,
           "timepoint": 43.1,
           "trajectory": "D_sol",
           "upper": 4039.0296264648437
          },
          {
           "lower": 2029.9898498535156,
           "timepoint": 43.2,
           "trajectory": "D_sol",
           "upper": 4061.975219726562
          },
          {
           "lower": 2040.6385131835937,
           "timepoint": 43.3,
           "trajectory": "D_sol",
           "upper": 4084.9585327148434
          },
          {
           "lower": 2050.0156127929686,
           "timepoint": 43.4,
           "trajectory": "D_sol",
           "upper": 4107.98193359375
          },
          {
           "lower": 2059.390380859375,
           "timepoint": 43.5,
           "trajectory": "D_sol",
           "upper": 4131.043286132813
          },
          {
           "lower": 2068.76318359375,
           "timepoint": 43.6,
           "trajectory": "D_sol",
           "upper": 4154.143286132812
          },
          {
           "lower": 2078.1342651367186,
           "timepoint": 43.7,
           "trajectory": "D_sol",
           "upper": 4177.283422851562
          },
          {
           "lower": 2087.5025024414062,
           "timepoint": 43.8,
           "trajectory": "D_sol",
           "upper": 4200.462182617187
          },
          {
           "lower": 2096.8689575195312,
           "timepoint": 43.9,
           "trajectory": "D_sol",
           "upper": 4223.679663085937
          },
          {
           "lower": 2106.2334106445314,
           "timepoint": 44,
           "trajectory": "D_sol",
           "upper": 4246.935791015625
          },
          {
           "lower": 2115.5947265625,
           "timepoint": 44.1,
           "trajectory": "D_sol",
           "upper": 4270.229223632812
          },
          {
           "lower": 2124.95478515625,
           "timepoint": 44.2,
           "trajectory": "D_sol",
           "upper": 4293.563720703125
          },
          {
           "lower": 2134.3116821289063,
           "timepoint": 44.3,
           "trajectory": "D_sol",
           "upper": 4316.935937499999
          },
          {
           "lower": 2143.6670654296877,
           "timepoint": 44.4,
           "trajectory": "D_sol",
           "upper": 4340.347827148437
          },
          {
           "lower": 2153.01953125,
           "timepoint": 44.5,
           "trajectory": "D_sol",
           "upper": 4363.797900390625
          },
          {
           "lower": 2162.3693237304688,
           "timepoint": 44.6,
           "trajectory": "D_sol",
           "upper": 4387.286694335937
          },
          {
           "lower": 2171.7173583984377,
           "timepoint": 44.7,
           "trajectory": "D_sol",
           "upper": 4410.815185546875
          },
          {
           "lower": 2181.062255859375,
           "timepoint": 44.8,
           "trajectory": "D_sol",
           "upper": 4434.3818359375
          },
          {
           "lower": 2190.4051513671875,
           "timepoint": 44.9,
           "trajectory": "D_sol",
           "upper": 4457.988183593749
          },
          {
           "lower": 2199.7451171875,
           "timepoint": 45,
           "trajectory": "D_sol",
           "upper": 4481.632763671874
          },
          {
           "lower": 2209.082629394531,
           "timepoint": 45.1,
           "trajectory": "D_sol",
           "upper": 4505.315600585937
          },
          {
           "lower": 2218.4179443359376,
           "timepoint": 45.2,
           "trajectory": "D_sol",
           "upper": 4529.038598632812
          },
          {
           "lower": 2227.750280761719,
           "timepoint": 45.3,
           "trajectory": "D_sol",
           "upper": 4552.800317382812
          },
          {
           "lower": 2237.080187988281,
           "timepoint": 45.4,
           "trajectory": "D_sol",
           "upper": 4576.601708984374
          },
          {
           "lower": 2246.4071655273438,
           "timepoint": 45.5,
           "trajectory": "D_sol",
           "upper": 4600.4407958984375
          },
          {
           "lower": 2255.7316650390626,
           "timepoint": 45.6,
           "trajectory": "D_sol",
           "upper": 4624.318701171875
          },
          {
           "lower": 2265.0537719726562,
           "timepoint": 45.7,
           "trajectory": "D_sol",
           "upper": 4648.236840820312
          },
          {
           "lower": 2274.3726806640625,
           "timepoint": 45.8,
           "trajectory": "D_sol",
           "upper": 4672.192724609375
          },
          {
           "lower": 2283.6893920898438,
           "timepoint": 45.9,
           "trajectory": "D_sol",
           "upper": 4696.189233398437
          },
          {
           "lower": 2293.00244140625,
           "timepoint": 46,
           "trajectory": "D_sol",
           "upper": 4720.223120117187
          },
          {
           "lower": 2302.313037109375,
           "timepoint": 46.1,
           "trajectory": "D_sol",
           "upper": 4744.296655273437
          },
          {
           "lower": 2311.6211791992187,
           "timepoint": 46.2,
           "trajectory": "D_sol",
           "upper": 4768.402075195312
          },
          {
           "lower": 2320.925891113281,
           "timepoint": 46.3,
           "trajectory": "D_sol",
           "upper": 4792.552709960937
          },
          {
           "lower": 2330.228161621094,
           "timepoint": 46.4,
           "trajectory": "D_sol",
           "upper": 4816.743115234374
          },
          {
           "lower": 2339.5270263671873,
           "timepoint": 46.5,
           "trajectory": "D_sol",
           "upper": 4840.9712890625
          },
          {
           "lower": 2348.8231811523438,
           "timepoint": 46.6,
           "trajectory": "D_sol",
           "upper": 4865.238281249999
          },
          {
           "lower": 2358.116418457031,
           "timepoint": 46.7,
           "trajectory": "D_sol",
           "upper": 4889.545971679687
          },
          {
           "lower": 2367.4069213867188,
           "timepoint": 46.8,
           "trajectory": "D_sol",
           "upper": 4914.197607421875
          },
          {
           "lower": 2376.6945068359373,
           "timepoint": 46.9,
           "trajectory": "D_sol",
           "upper": 4942.282690429687
          },
          {
           "lower": 2385.9833129882813,
           "timepoint": 47,
           "trajectory": "D_sol",
           "upper": 4970.446850585937
          },
          {
           "lower": 2395.265002441406,
           "timepoint": 47.1,
           "trajectory": "D_sol",
           "upper": 4998.647216796874
          },
          {
           "lower": 2404.544226074219,
           "timepoint": 47.2,
           "trajectory": "D_sol",
           "upper": 5026.899462890625
          },
          {
           "lower": 2413.8197998046876,
           "timepoint": 47.3,
           "trajectory": "D_sol",
           "upper": 5055.237011718749
          },
          {
           "lower": 2423.093127441406,
           "timepoint": 47.4,
           "trajectory": "D_sol",
           "upper": 5083.651586914062
          },
          {
           "lower": 2432.3628173828124,
           "timepoint": 47.5,
           "trajectory": "D_sol",
           "upper": 5112.146337890625
          },
          {
           "lower": 2441.629541015625,
           "timepoint": 47.6,
           "trajectory": "D_sol",
           "upper": 5140.721826171874
          },
          {
           "lower": 2450.893115234375,
           "timepoint": 47.7,
           "trajectory": "D_sol",
           "upper": 5169.380395507812
          },
          {
           "lower": 2460.153771972656,
           "timepoint": 47.8,
           "trajectory": "D_sol",
           "upper": 5198.119604492187
          },
          {
           "lower": 2469.4114624023437,
           "timepoint": 47.9,
           "trajectory": "D_sol",
           "upper": 5226.941430664062
          },
          {
           "lower": 2478.665490722656,
           "timepoint": 48,
           "trajectory": "D_sol",
           "upper": 5255.844384765624
          },
          {
           "lower": 2487.9165649414062,
           "timepoint": 48.1,
           "trajectory": "D_sol",
           "upper": 5284.8294677734375
          },
          {
           "lower": 2497.165173339844,
           "timepoint": 48.2,
           "trajectory": "D_sol",
           "upper": 5313.8990234375
          },
          {
           "lower": 2506.4096557617186,
           "timepoint": 48.3,
           "trajectory": "D_sol",
           "upper": 5343.0501708984375
          },
          {
           "lower": 2515.6516723632812,
           "timepoint": 48.4,
           "trajectory": "D_sol",
           "upper": 5372.284423828125
          },
          {
           "lower": 2524.8900390625,
           "timepoint": 48.5,
           "trajectory": "D_sol",
           "upper": 5401.601220703124
          },
          {
           "lower": 2534.1251953125,
           "timepoint": 48.6,
           "trajectory": "D_sol",
           "upper": 5431.001049804687
          },
          {
           "lower": 2543.3574340820314,
           "timepoint": 48.7,
           "trajectory": "D_sol",
           "upper": 5460.485815429687
          },
          {
           "lower": 2552.58623046875,
           "timepoint": 48.8,
           "trajectory": "D_sol",
           "upper": 5490.052685546874
          },
          {
           "lower": 2561.811865234375,
           "timepoint": 48.9,
           "trajectory": "D_sol",
           "upper": 5519.704980468749
          },
          {
           "lower": 2571.0340576171875,
           "timepoint": 49,
           "trajectory": "D_sol",
           "upper": 5549.439794921875
          },
          {
           "lower": 2580.2528564453123,
           "timepoint": 49.1,
           "trajectory": "D_sol",
           "upper": 5579.259057617187
          },
          {
           "lower": 2589.4689208984373,
           "timepoint": 49.2,
           "trajectory": "D_sol",
           "upper": 5609.164233398437
          },
          {
           "lower": 2598.6813232421873,
           "timepoint": 49.3,
           "trajectory": "D_sol",
           "upper": 5639.144458007812
          },
          {
           "lower": 2607.890576171875,
           "timepoint": 49.4,
           "trajectory": "D_sol",
           "upper": 5669.19052734375
          },
          {
           "lower": 2617.096142578125,
           "timepoint": 49.5,
           "trajectory": "D_sol",
           "upper": 5699.310473632812
          },
          {
           "lower": 2626.298291015625,
           "timepoint": 49.6,
           "trajectory": "D_sol",
           "upper": 5729.523413085937
          },
          {
           "lower": 2635.4977416992188,
           "timepoint": 49.7,
           "trajectory": "D_sol",
           "upper": 5759.8228759765625
          },
          {
           "lower": 2644.6932861328123,
           "timepoint": 49.8,
           "trajectory": "D_sol",
           "upper": 5790.206469726562
          },
          {
           "lower": 2653.8856567382813,
           "timepoint": 49.9,
           "trajectory": "D_sol",
           "upper": 5820.676123046875
          },
          {
           "lower": 2663.074658203125,
           "timepoint": 50,
           "trajectory": "D_sol",
           "upper": 5851.230786132813
          },
          {
           "lower": 2672.260144042969,
           "timepoint": 50.1,
           "trajectory": "D_sol",
           "upper": 5881.871020507812
          },
          {
           "lower": 2681.4422241210937,
           "timepoint": 50.2,
           "trajectory": "D_sol",
           "upper": 5912.5982666015625
          },
          {
           "lower": 2690.62109375,
           "timepoint": 50.3,
           "trajectory": "D_sol",
           "upper": 5943.4110107421875
          },
          {
           "lower": 2699.7963012695313,
           "timepoint": 50.4,
           "trajectory": "D_sol",
           "upper": 5974.31123046875
          },
          {
           "lower": 2708.9683349609377,
           "timepoint": 50.5,
           "trajectory": "D_sol",
           "upper": 6005.296948242188
          },
          {
           "lower": 2718.1364624023436,
           "timepoint": 50.6,
           "trajectory": "D_sol",
           "upper": 6036.369165039062
          },
          {
           "lower": 2727.301403808594,
           "timepoint": 50.7,
           "trajectory": "D_sol",
           "upper": 6067.529296875
          },
          {
           "lower": 2736.462683105469,
           "timepoint": 50.8,
           "trajectory": "D_sol",
           "upper": 6098.776440429688
          },
          {
           "lower": 2745.6207763671873,
           "timepoint": 50.9,
           "trajectory": "D_sol",
           "upper": 6130.110986328124
          },
          {
           "lower": 2754.7752075195312,
           "timepoint": 51,
           "trajectory": "D_sol",
           "upper": 6161.532446289062
          },
          {
           "lower": 2763.9259521484373,
           "timepoint": 51.1,
           "trajectory": "D_sol",
           "upper": 6193.042309570313
          },
          {
           "lower": 2773.073291015625,
           "timepoint": 51.2,
           "trajectory": "D_sol",
           "upper": 6224.6260986328125
          },
          {
           "lower": 2782.2171997070313,
           "timepoint": 51.3,
           "trajectory": "D_sol",
           "upper": 6256.26513671875
          },
          {
           "lower": 2791.3632690429686,
           "timepoint": 51.4,
           "trajectory": "D_sol",
           "upper": 6287.99404296875
          },
          {
           "lower": 2800.500524902344,
           "timepoint": 51.5,
           "trajectory": "D_sol",
           "upper": 6319.8099365234375
          },
          {
           "lower": 2809.6343627929687,
           "timepoint": 51.6,
           "trajectory": "D_sol",
           "upper": 6351.7138671875
          },
          {
           "lower": 2818.7650390625,
           "timepoint": 51.7,
           "trajectory": "D_sol",
           "upper": 6381.195288085937
          },
          {
           "lower": 2827.8917846679688,
           "timepoint": 51.8,
           "trajectory": "D_sol",
           "upper": 6407.68564453125
          },
          {
           "lower": 2837.0153564453126,
           "timepoint": 51.9,
           "trajectory": "D_sol",
           "upper": 6434.100830078125
          },
          {
           "lower": 2846.13525390625,
           "timepoint": 52,
           "trajectory": "D_sol",
           "upper": 6460.549145507813
          },
          {
           "lower": 2855.2514770507814,
           "timepoint": 52.1,
           "trajectory": "D_sol",
           "upper": 6487.031591796875
          },
          {
           "lower": 2864.3645141601564,
           "timepoint": 52.2,
           "trajectory": "D_sol",
           "upper": 6513.549584960938
          },
          {
           "lower": 2873.47353515625,
           "timepoint": 52.3,
           "trajectory": "D_sol",
           "upper": 6540.101171875
          },
          {
           "lower": 2882.579699707031,
           "timepoint": 52.4,
           "trajectory": "D_sol",
           "upper": 6566.687353515625
          },
          {
           "lower": 2891.68173828125,
           "timepoint": 52.5,
           "trajectory": "D_sol",
           "upper": 6593.30712890625
          },
          {
           "lower": 2900.780322265625,
           "timepoint": 52.6,
           "trajectory": "D_sol",
           "upper": 6619.961499023438
          },
          {
           "lower": 2909.875732421875,
           "timepoint": 52.7,
           "trajectory": "D_sol",
           "upper": 6646.65048828125
          },
          {
           "lower": 2918.9669677734373,
           "timepoint": 52.8,
           "trajectory": "D_sol",
           "upper": 6673.373583984375
          },
          {
           "lower": 2928.0555053710937,
           "timepoint": 52.9,
           "trajectory": "D_sol",
           "upper": 6701.025634765625
          },
          {
           "lower": 2937.1396728515624,
           "timepoint": 53,
           "trajectory": "D_sol",
           "upper": 6733.74560546875
          },
          {
           "lower": 2946.2206176757813,
           "timepoint": 53.1,
           "trajectory": "D_sol",
           "upper": 6766.555395507812
          },
          {
           "lower": 2955.2981567382812,
           "timepoint": 53.2,
           "trajectory": "D_sol",
           "upper": 6799.4568359375
          },
          {
           "lower": 2964.3719970703123,
           "timepoint": 53.3,
           "trajectory": "D_sol",
           "upper": 6828.042065429688
          },
          {
           "lower": 2973.442431640625,
           "timepoint": 53.4,
           "trajectory": "D_sol",
           "upper": 6856.280346679688
          },
          {
           "lower": 2982.5091918945313,
           "timepoint": 53.5,
           "trajectory": "D_sol",
           "upper": 6884.562255859375
          },
          {
           "lower": 2991.5717895507814,
           "timepoint": 53.6,
           "trajectory": "D_sol",
           "upper": 6912.88955078125
          },
          {
           "lower": 3000.6321411132812,
           "timepoint": 53.7,
           "trajectory": "D_sol",
           "upper": 6941.263403320312
          },
          {
           "lower": 3009.687878417969,
           "timepoint": 53.8,
           "trajectory": "D_sol",
           "upper": 6969.669409179687
          },
          {
           "lower": 3018.7313842773438,
           "timepoint": 53.9,
           "trajectory": "D_sol",
           "upper": 6997.89462890625
          },
          {
           "lower": 3027.7790771484374,
           "timepoint": 54,
           "trajectory": "D_sol",
           "upper": 7026.162182617188
          },
          {
           "lower": 3036.823107910156,
           "timepoint": 54.1,
           "trajectory": "D_sol",
           "upper": 7054.472070312499
          },
          {
           "lower": 3045.8233642578125,
           "timepoint": 54.2,
           "trajectory": "D_sol",
           "upper": 7082.826733398438
          },
          {
           "lower": 3054.1366577148438,
           "timepoint": 54.3,
           "trajectory": "D_sol",
           "upper": 7111.222802734374
          },
          {
           "lower": 3062.4421142578126,
           "timepoint": 54.4,
           "trajectory": "D_sol",
           "upper": 7139.663159179688
          },
          {
           "lower": 3070.739953613281,
           "timepoint": 54.5,
           "trajectory": "D_sol",
           "upper": 7168.1462890625
          },
          {
           "lower": 3079.0297119140623,
           "timepoint": 54.6,
           "trajectory": "D_sol",
           "upper": 7196.671850585937
          },
          {
           "lower": 3087.311865234375,
           "timepoint": 54.7,
           "trajectory": "D_sol",
           "upper": 7225.241674804687
          },
          {
           "lower": 3095.586083984375,
           "timepoint": 54.8,
           "trajectory": "D_sol",
           "upper": 7253.854760742187
          },
          {
           "lower": 3103.8527954101564,
           "timepoint": 54.9,
           "trajectory": "D_sol",
           "upper": 7282.511743164062
          },
          {
           "lower": 3112.1114135742187,
           "timepoint": 55,
           "trajectory": "D_sol",
           "upper": 7311.2105712890625
          },
          {
           "lower": 3120.361962890625,
           "timepoint": 55.1,
           "trajectory": "D_sol",
           "upper": 7339.9541015625
          },
          {
           "lower": 3128.60537109375,
           "timepoint": 55.2,
           "trajectory": "D_sol",
           "upper": 7368.741064453125
          },
          {
           "lower": 3136.840673828125,
           "timepoint": 55.3,
           "trajectory": "D_sol",
           "upper": 7397.570825195312
          },
          {
           "lower": 3145.0686157226564,
           "timepoint": 55.4,
           "trajectory": "D_sol",
           "upper": 7426.445385742188
          },
          {
           "lower": 3153.2880004882813,
           "timepoint": 55.5,
           "trajectory": "D_sol",
           "upper": 7455.362377929688
          },
          {
           "lower": 3161.4997680664064,
           "timepoint": 55.6,
           "trajectory": "D_sol",
           "upper": 7484.323095703125
          },
          {
           "lower": 3169.7041748046877,
           "timepoint": 55.7,
           "trajectory": "D_sol",
           "upper": 7513.328149414062
          },
          {
           "lower": 3177.90048828125,
           "timepoint": 55.8,
           "trajectory": "D_sol",
           "upper": 7542.37607421875
          },
          {
           "lower": 3186.08896484375,
           "timepoint": 55.9,
           "trajectory": "D_sol",
           "upper": 7571.468774414062
          },
          {
           "lower": 3194.270056152344,
           "timepoint": 56,
           "trajectory": "D_sol",
           "upper": 7600.604296875
          },
          {
           "lower": 3202.442834472656,
           "timepoint": 56.1,
           "trajectory": "D_sol",
           "upper": 7629.785058593749
          },
          {
           "lower": 3210.6082153320312,
           "timepoint": 56.2,
           "trajectory": "D_sol",
           "upper": 7659.009741210937
          },
          {
           "lower": 3218.765734863281,
           "timepoint": 56.3,
           "trajectory": "D_sol",
           "upper": 7688.277685546875
          },
          {
           "lower": 3226.9156982421873,
           "timepoint": 56.4,
           "trajectory": "D_sol",
           "upper": 7717.590478515624
          },
          {
           "lower": 3235.0572998046873,
           "timepoint": 56.5,
           "trajectory": "D_sol",
           "upper": 7746.946118164063
          },
          {
           "lower": 3243.1912841796875,
           "timepoint": 56.6,
           "trajectory": "D_sol",
           "upper": 7776.346484375
          },
          {
           "lower": 3251.3181396484374,
           "timepoint": 56.7,
           "trajectory": "D_sol",
           "upper": 7805.791284179687
          },
          {
           "lower": 3259.438525390625,
           "timepoint": 56.8,
           "trajectory": "D_sol",
           "upper": 7835.279833984375
          },
          {
           "lower": 3267.549914550781,
           "timepoint": 56.9,
           "trajectory": "D_sol",
           "upper": 7864.813256835937
          },
          {
           "lower": 3275.653210449219,
           "timepoint": 57,
           "trajectory": "D_sol",
           "upper": 7894.389990234375
          },
          {
           "lower": 3283.7489013671875,
           "timepoint": 57.1,
           "trajectory": "D_sol",
           "upper": 7924.011474609375
          },
          {
           "lower": 3291.8369873046877,
           "timepoint": 57.2,
           "trajectory": "D_sol",
           "upper": 7953.6773681640625
          },
          {
           "lower": 3299.917199707031,
           "timepoint": 57.3,
           "trajectory": "D_sol",
           "upper": 7983.387548828125
          },
          {
           "lower": 3307.9900390625,
           "timepoint": 57.4,
           "trajectory": "D_sol",
           "upper": 8013.143017578125
          },
          {
           "lower": 3316.054553222656,
           "timepoint": 57.5,
           "trajectory": "D_sol",
           "upper": 8042.941845703125
          },
          {
           "lower": 3324.111669921875,
           "timepoint": 57.6,
           "trajectory": "D_sol",
           "upper": 8072.785498046875
          },
          {
           "lower": 3332.1612915039063,
           "timepoint": 57.7,
           "trajectory": "D_sol",
           "upper": 8102.674462890624
          },
          {
           "lower": 3340.2029541015627,
           "timepoint": 57.8,
           "trajectory": "D_sol",
           "upper": 8132.607250976563
          },
          {
           "lower": 3348.2374877929688,
           "timepoint": 57.9,
           "trajectory": "D_sol",
           "upper": 8162.585351562499
          },
          {
           "lower": 3356.2636840820314,
           "timepoint": 58,
           "trajectory": "D_sol",
           "upper": 8192.60732421875
          },
          {
           "lower": 3364.282275390625,
           "timepoint": 58.1,
           "trajectory": "D_sol",
           "upper": 8222.67451171875
          },
          {
           "lower": 3372.2937133789064,
           "timepoint": 58.2,
           "trajectory": "D_sol",
           "upper": 8252.787109375
          },
          {
           "lower": 3380.2970703125,
           "timepoint": 58.3,
           "trajectory": "D_sol",
           "upper": 8282.943310546874
          },
          {
           "lower": 3388.2928100585937,
           "timepoint": 58.4,
           "trajectory": "D_sol",
           "upper": 8313.146435546874
          },
          {
           "lower": 3396.2806884765623,
           "timepoint": 58.5,
           "trajectory": "D_sol",
           "upper": 8343.393017578124
          },
          {
           "lower": 3404.261181640625,
           "timepoint": 58.6,
           "trajectory": "D_sol",
           "upper": 8373.683935546875
          },
          {
           "lower": 3413.2847412109377,
           "timepoint": 58.7,
           "trajectory": "D_sol",
           "upper": 8404.02109375
          },
          {
           "lower": 3423.0465576171873,
           "timepoint": 58.8,
           "trajectory": "D_sol",
           "upper": 8434.402636718749
          },
          {
           "lower": 3432.8107421875,
           "timepoint": 58.9,
           "trajectory": "D_sol",
           "upper": 8464.841601562499
          },
          {
           "lower": 3442.575646972656,
           "timepoint": 59,
           "trajectory": "D_sol",
           "upper": 8495.313769531249
          },
          {
           "lower": 3452.3424560546873,
           "timepoint": 59.1,
           "trajectory": "D_sol",
           "upper": 8525.831201171875
          },
          {
           "lower": 3462.110693359375,
           "timepoint": 59.2,
           "trajectory": "D_sol",
           "upper": 8556.394970703124
          },
          {
           "lower": 3471.8801147460936,
           "timepoint": 59.3,
           "trajectory": "D_sol",
           "upper": 8587.0048828125
          },
          {
           "lower": 3481.6514404296877,
           "timepoint": 59.4,
           "trajectory": "D_sol",
           "upper": 8617.65927734375
          },
          {
           "lower": 3491.4239501953125,
           "timepoint": 59.5,
           "trajectory": "D_sol",
           "upper": 8648.358056640625
          },
          {
           "lower": 3501.1978759765625,
           "timepoint": 59.6,
           "trajectory": "D_sol",
           "upper": 8679.102099609374
          },
          {
           "lower": 3510.973498535156,
           "timepoint": 59.7,
           "trajectory": "D_sol",
           "upper": 8709.894384765625
          },
          {
           "lower": 3520.750280761719,
           "timepoint": 59.8,
           "trajectory": "D_sol",
           "upper": 8740.73095703125
          },
          {
           "lower": 3530.5287475585938,
           "timepoint": 59.9,
           "trajectory": "D_sol",
           "upper": 8771.612890625
          },
          {
           "lower": 3540.3083984375,
           "timepoint": 60,
           "trajectory": "D_sol",
           "upper": 8802.5392578125
          },
          {
           "lower": 3550.0894775390625,
           "timepoint": 60.1,
           "trajectory": "D_sol",
           "upper": 8833.511865234375
          },
          {
           "lower": 3559.8747802734374,
           "timepoint": 60.2,
           "trajectory": "D_sol",
           "upper": 8864.53271484375
          },
          {
           "lower": 3569.6589477539064,
           "timepoint": 60.3,
           "trajectory": "D_sol",
           "upper": 8895.596923828125
          },
          {
           "lower": 3579.44501953125,
           "timepoint": 60.4,
           "trajectory": "D_sol",
           "upper": 8926.70751953125
          },
          {
           "lower": 3589.232043457031,
           "timepoint": 60.5,
           "trajectory": "D_sol",
           "upper": 8957.86337890625
          },
          {
           "lower": 3599.020715332031,
           "timepoint": 60.6,
           "trajectory": "D_sol",
           "upper": 8989.064599609375
          },
          {
           "lower": 3608.810888671875,
           "timepoint": 60.7,
           "trajectory": "D_sol",
           "upper": 9020.31494140625
          },
          {
           "lower": 3618.6021728515625,
           "timepoint": 60.8,
           "trajectory": "D_sol",
           "upper": 9051.607861328124
          },
          {
           "lower": 3628.3953491210937,
           "timepoint": 60.9,
           "trajectory": "D_sol",
           "upper": 9082.948974609375
          },
          {
           "lower": 3638.1897094726564,
           "timepoint": 61,
           "trajectory": "D_sol",
           "upper": 9114.334765624999
          },
          {
           "lower": 3647.985498046875,
           "timepoint": 61.1,
           "trajectory": "D_sol",
           "upper": 9145.7666015625
          },
          {
           "lower": 3657.7827270507814,
           "timepoint": 61.2,
           "trajectory": "D_sol",
           "upper": 9177.246630859374
          },
          {
           "lower": 3667.58115234375,
           "timepoint": 61.3,
           "trajectory": "D_sol",
           "upper": 9208.771044921874
          },
          {
           "lower": 3677.381689453125,
           "timepoint": 61.4,
           "trajectory": "D_sol",
           "upper": 9240.343798828124
          },
          {
           "lower": 3687.182958984375,
           "timepoint": 61.5,
           "trajectory": "D_sol",
           "upper": 9271.960888671874
          },
          {
           "lower": 3696.985876464844,
           "timepoint": 61.6,
           "trajectory": "D_sol",
           "upper": 9303.623388671875
          },
          {
           "lower": 3706.7904663085938,
           "timepoint": 61.7,
           "trajectory": "D_sol",
           "upper": 9335.340576171875
          },
          {
           "lower": 3716.5960083007812,
           "timepoint": 61.8,
           "trajectory": "D_sol",
           "upper": 9367.09755859375
          },
          {
           "lower": 3726.403454589844,
           "timepoint": 61.9,
           "trajectory": "D_sol",
           "upper": 9398.90283203125
          },
          {
           "lower": 3736.2118286132813,
           "timepoint": 62,
           "trajectory": "D_sol",
           "upper": 9430.75341796875
          },
          {
           "lower": 300,
           "timepoint": 0,
           "trajectory": "E_sol",
           "upper": 300
          },
          {
           "lower": 306.0366973876953,
           "timepoint": 0.1,
           "trajectory": "E_sol",
           "upper": 307.0008255004883
          },
          {
           "lower": 312.2356521606445,
           "timepoint": 0.2,
           "trajectory": "E_sol",
           "upper": 314.18377685546875
          },
          {
           "lower": 318.58843383789065,
           "timepoint": 0.3,
           "trajectory": "E_sol",
           "upper": 321.55245513916014
          },
          {
           "lower": 325.1005035400391,
           "timepoint": 0.4,
           "trajectory": "E_sol",
           "upper": 329.1104080200195
          },
          {
           "lower": 331.7655090332031,
           "timepoint": 0.5,
           "trajectory": "E_sol",
           "upper": 336.8613525390625
          },
          {
           "lower": 338.5751525878906,
           "timepoint": 0.6,
           "trajectory": "E_sol",
           "upper": 344.80946044921876
          },
          {
           "lower": 345.60877685546876,
           "timepoint": 0.7,
           "trajectory": "E_sol",
           "upper": 352.95840606689455
          },
          {
           "lower": 352.7728866577148,
           "timepoint": 0.8,
           "trajectory": "E_sol",
           "upper": 361.31239318847656
          },
          {
           "lower": 360.10658874511716,
           "timepoint": 0.9,
           "trajectory": "E_sol",
           "upper": 369.87650909423826
          },
          {
           "lower": 367.61202850341795,
           "timepoint": 1,
           "trajectory": "E_sol",
           "upper": 378.6542770385742
          },
          {
           "lower": 375.29210510253904,
           "timepoint": 1.1,
           "trajectory": "E_sol",
           "upper": 387.6506851196289
          },
          {
           "lower": 383.1493423461914,
           "timepoint": 1.2,
           "trajectory": "E_sol",
           "upper": 396.8703643798828
          },
          {
           "lower": 391.1869659423828,
           "timepoint": 1.3,
           "trajectory": "E_sol",
           "upper": 406.3186370849609
          },
          {
           "lower": 399.40807037353517,
           "timepoint": 1.4,
           "trajectory": "E_sol",
           "upper": 415.97858276367185
          },
          {
           "lower": 407.8157241821289,
           "timepoint": 1.5,
           "trajectory": "E_sol",
           "upper": 425.8684997558594
          },
          {
           "lower": 416.41368713378904,
           "timepoint": 1.6,
           "trajectory": "E_sol",
           "upper": 435.9987533569336
          },
          {
           "lower": 425.20483856201173,
           "timepoint": 1.7,
           "trajectory": "E_sol",
           "upper": 446.4540725708008
          },
          {
           "lower": 434.1930191040039,
           "timepoint": 1.8,
           "trajectory": "E_sol",
           "upper": 457.02604522705076
          },
          {
           "lower": 443.38183746337893,
           "timepoint": 1.9,
           "trajectory": "E_sol",
           "upper": 468.0331344604492
          },
          {
           "lower": 452.7750747680664,
           "timepoint": 2,
           "trajectory": "E_sol",
           "upper": 479.30669555664065
          },
          {
           "lower": 462.37666015625,
           "timepoint": 2.1,
           "trajectory": "E_sol",
           "upper": 490.7843673706055
          },
          {
           "lower": 472.19053344726564,
           "timepoint": 2.2,
           "trajectory": "E_sol",
           "upper": 502.5416656494141
          },
          {
           "lower": 482.22093353271487,
           "timepoint": 2.3,
           "trajectory": "E_sol",
           "upper": 514.5855346679688
          },
          {
           "lower": 492.47205657958983,
           "timepoint": 2.4,
           "trajectory": "E_sol",
           "upper": 526.9225646972657
          },
          {
           "lower": 502.9483139038086,
           "timepoint": 2.5,
           "trajectory": "E_sol",
           "upper": 539.5595520019531
          },
          {
           "lower": 513.6536697387695,
           "timepoint": 2.6,
           "trajectory": "E_sol",
           "upper": 552.504248046875
          },
          {
           "lower": 524.5933868408204,
           "timepoint": 2.7,
           "trajectory": "E_sol",
           "upper": 565.7628234863281
          },
          {
           "lower": 535.6625762939453,
           "timepoint": 2.8,
           "trajectory": "E_sol",
           "upper": 579.3429412841797
          },
          {
           "lower": 546.9525665283203,
           "timepoint": 2.9,
           "trajectory": "E_sol",
           "upper": 593.2525817871094
          },
          {
           "lower": 558.4815216064453,
           "timepoint": 3,
           "trajectory": "E_sol",
           "upper": 607.4993347167969
          },
          {
           "lower": 570.2561859130859,
           "timepoint": 3.1,
           "trajectory": "E_sol",
           "upper": 622.0901580810547
          },
          {
           "lower": 582.2808532714844,
           "timepoint": 3.2,
           "trajectory": "E_sol",
           "upper": 637.0348083496094
          },
          {
           "lower": 594.5606079101562,
           "timepoint": 3.3,
           "trajectory": "E_sol",
           "upper": 652.3409027099609
          },
          {
           "lower": 607.1009307861328,
           "timepoint": 3.4,
           "trajectory": "E_sol",
           "upper": 668.0171875
          },
          {
           "lower": 619.9072906494141,
           "timepoint": 3.5,
           "trajectory": "E_sol",
           "upper": 684.0722900390625
          },
          {
           "lower": 632.984716796875,
           "timepoint": 3.6,
           "trajectory": "E_sol",
           "upper": 700.5153778076171
          },
          {
           "lower": 646.3395812988281,
           "timepoint": 3.7,
           "trajectory": "E_sol",
           "upper": 717.3546661376953
          },
          {
           "lower": 659.9772705078125,
           "timepoint": 3.8,
           "trajectory": "E_sol",
           "upper": 734.6011505126953
          },
          {
           "lower": 673.9038116455079,
           "timepoint": 3.9,
           "trajectory": "E_sol",
           "upper": 752.2686950683594
          },
          {
           "lower": 688.1251220703125,
           "timepoint": 4,
           "trajectory": "E_sol",
           "upper": 770.5067596435547
          },
          {
           "lower": 702.6474029541016,
           "timepoint": 4.1,
           "trajectory": "E_sol",
           "upper": 789.1899993896484
          },
          {
           "lower": 717.4776062011719,
           "timepoint": 4.2,
           "trajectory": "E_sol",
           "upper": 808.328921508789
          },
          {
           "lower": 732.6212646484375,
           "timepoint": 4.3,
           "trajectory": "E_sol",
           "upper": 827.9346893310546
          },
          {
           "lower": 748.08525390625,
           "timepoint": 4.4,
           "trajectory": "E_sol",
           "upper": 848.0181701660156
          },
          {
           "lower": 763.8763397216796,
           "timepoint": 4.5,
           "trajectory": "E_sol",
           "upper": 868.5915771484375
          },
          {
           "lower": 780.0014739990235,
           "timepoint": 4.6,
           "trajectory": "E_sol",
           "upper": 889.6660003662109
          },
          {
           "lower": 796.4678558349609,
           "timepoint": 4.7,
           "trajectory": "E_sol",
           "upper": 911.2535949707031
          },
          {
           "lower": 813.282421875,
           "timepoint": 4.8,
           "trajectory": "E_sol",
           "upper": 933.3671691894531
          },
          {
           "lower": 830.4517639160156,
           "timepoint": 4.9,
           "trajectory": "E_sol",
           "upper": 956.0189605712891
          },
          {
           "lower": 847.9844909667969,
           "timepoint": 5,
           "trajectory": "E_sol",
           "upper": 979.2222412109375
          },
          {
           "lower": 865.8877685546875,
           "timepoint": 5.1,
           "trajectory": "E_sol",
           "upper": 1002.9886138916015
          },
          {
           "lower": 884.1694580078125,
           "timepoint": 5.2,
           "trajectory": "E_sol",
           "upper": 1027.3343627929687
          },
          {
           "lower": 902.837451171875,
           "timepoint": 5.3,
           "trajectory": "E_sol",
           "upper": 1052.2726318359375
          },
          {
           "lower": 921.8997253417969,
           "timepoint": 5.4,
           "trajectory": "E_sol",
           "upper": 1077.8171142578126
          },
          {
           "lower": 941.3647766113281,
           "timepoint": 5.5,
           "trajectory": "E_sol",
           "upper": 1103.9826599121093
          },
          {
           "lower": 961.2425598144531,
           "timepoint": 5.6,
           "trajectory": "E_sol",
           "upper": 1130.785009765625
          },
          {
           "lower": 981.5393127441406,
           "timepoint": 5.7,
           "trajectory": "E_sol",
           "upper": 1158.2377136230468
          },
          {
           "lower": 1002.2650451660156,
           "timepoint": 5.8,
           "trajectory": "E_sol",
           "upper": 1186.3589660644532
          },
          {
           "lower": 1023.4285461425782,
           "timepoint": 5.9,
           "trajectory": "E_sol",
           "upper": 1215.1634887695313
          },
          {
           "lower": 1045.0393859863282,
           "timepoint": 6,
           "trajectory": "E_sol",
           "upper": 1244.6682434082031
          },
          {
           "lower": 1067.1064758300781,
           "timepoint": 6.1,
           "trajectory": "E_sol",
           "upper": 1274.8904907226563
          },
          {
           "lower": 1089.6401733398438,
           "timepoint": 6.2,
           "trajectory": "E_sol",
           "upper": 1305.84697265625
          },
          {
           "lower": 1112.6476806640626,
           "timepoint": 6.3,
           "trajectory": "E_sol",
           "upper": 1337.5561096191407
          },
          {
           "lower": 1136.142596435547,
           "timepoint": 6.4,
           "trajectory": "E_sol",
           "upper": 1370.0329467773438
          },
          {
           "lower": 1160.1336608886718,
           "timepoint": 6.5,
           "trajectory": "E_sol",
           "upper": 1403.3008239746093
          },
          {
           "lower": 1184.631591796875,
           "timepoint": 6.6,
           "trajectory": "E_sol",
           "upper": 1437.3769409179688
          },
          {
           "lower": 1209.6466735839845,
           "timepoint": 6.7,
           "trajectory": "E_sol",
           "upper": 1472.2809143066406
          },
          {
           "lower": 1235.1903137207032,
           "timepoint": 6.8,
           "trajectory": "E_sol",
           "upper": 1508.0325805664063
          },
          {
           "lower": 1261.2731201171875,
           "timepoint": 6.9,
           "trajectory": "E_sol",
           "upper": 1544.6520263671875
          },
          {
           "lower": 1287.907666015625,
           "timepoint": 7,
           "trajectory": "E_sol",
           "upper": 1582.1634094238282
          },
          {
           "lower": 1315.1040344238281,
           "timepoint": 7.1,
           "trajectory": "E_sol",
           "upper": 1620.5845092773436
          },
          {
           "lower": 1342.8746398925782,
           "timepoint": 7.2,
           "trajectory": "E_sol",
           "upper": 1659.9388366699218
          },
          {
           "lower": 1371.2318115234375,
           "timepoint": 7.3,
           "trajectory": "E_sol",
           "upper": 1700.2490661621093
          },
          {
           "lower": 1400.1876159667968,
           "timepoint": 7.4,
           "trajectory": "E_sol",
           "upper": 1741.5384826660156
          },
          {
           "lower": 1429.7546020507812,
           "timepoint": 7.5,
           "trajectory": "E_sol",
           "upper": 1783.8306457519532
          },
          {
           "lower": 1459.9455688476562,
           "timepoint": 7.6,
           "trajectory": "E_sol",
           "upper": 1827.1486877441405
          },
          {
           "lower": 1490.773992919922,
           "timepoint": 7.7,
           "trajectory": "E_sol",
           "upper": 1871.5195190429688
          },
          {
           "lower": 1522.2557250976563,
           "timepoint": 7.8,
           "trajectory": "E_sol",
           "upper": 1916.968310546875
          },
          {
           "lower": 1554.4003540039062,
           "timepoint": 7.9,
           "trajectory": "E_sol",
           "upper": 1963.520263671875
          },
          {
           "lower": 1587.223455810547,
           "timepoint": 8,
           "trajectory": "E_sol",
           "upper": 2011.2031799316405
          },
          {
           "lower": 1620.7398559570313,
           "timepoint": 8.1,
           "trajectory": "E_sol",
           "upper": 2060.043981933594
          },
          {
           "lower": 1654.9631652832031,
           "timepoint": 8.2,
           "trajectory": "E_sol",
           "upper": 2110.07041015625
          },
          {
           "lower": 1689.9091674804688,
           "timepoint": 8.3,
           "trajectory": "E_sol",
           "upper": 2161.3108764648437
          },
          {
           "lower": 1725.5923461914062,
           "timepoint": 8.4,
           "trajectory": "E_sol",
           "upper": 2213.796044921875
          },
          {
           "lower": 1762.0330932617187,
           "timepoint": 8.5,
           "trajectory": "E_sol",
           "upper": 2267.5555908203123
          },
          {
           "lower": 1799.2403991699218,
           "timepoint": 8.6,
           "trajectory": "E_sol",
           "upper": 2322.620715332031
          },
          {
           "lower": 1837.2327941894532,
           "timepoint": 8.7,
           "trajectory": "E_sol",
           "upper": 2379.0222412109374
          },
          {
           "lower": 1876.0277282714844,
           "timepoint": 8.8,
           "trajectory": "E_sol",
           "upper": 2436.7936401367188
          },
          {
           "lower": 1915.6411865234375,
           "timepoint": 8.9,
           "trajectory": "E_sol",
           "upper": 2495.9669189453125
          },
          {
           "lower": 1956.0914306640625,
           "timepoint": 9,
           "trajectory": "E_sol",
           "upper": 2556.577746582031
          },
          {
           "lower": 1997.3955627441405,
           "timepoint": 9.1,
           "trajectory": "E_sol",
           "upper": 2618.6598022460935
          },
          {
           "lower": 2039.5712768554688,
           "timepoint": 9.2,
           "trajectory": "E_sol",
           "upper": 2682.248364257812
          },
          {
           "lower": 2082.63681640625,
           "timepoint": 9.3,
           "trajectory": "E_sol",
           "upper": 2747.3811889648437
          },
          {
           "lower": 2126.6115234375,
           "timepoint": 9.4,
           "trajectory": "E_sol",
           "upper": 2814.0943969726563
          },
          {
           "lower": 2171.5152587890625,
           "timepoint": 9.5,
           "trajectory": "E_sol",
           "upper": 2882.4279174804688
          },
          {
           "lower": 2217.3663696289063,
           "timepoint": 9.6,
           "trajectory": "E_sol",
           "upper": 2952.420617675781
          },
          {
           "lower": 2264.1848999023437,
           "timepoint": 9.7,
           "trajectory": "E_sol",
           "upper": 3024.1113525390624
          },
          {
           "lower": 2311.99189453125,
           "timepoint": 9.8,
           "trajectory": "E_sol",
           "upper": 3097.5431030273435
          },
          {
           "lower": 2360.8073608398436,
           "timepoint": 9.9,
           "trajectory": "E_sol",
           "upper": 3172.757373046875
          },
          {
           "lower": 2410.656689453125,
           "timepoint": 10,
           "trajectory": "E_sol",
           "upper": 3249.7982788085938
          },
          {
           "lower": 2461.555712890625,
           "timepoint": 10.1,
           "trajectory": "E_sol",
           "upper": 3328.7101928710936
          },
          {
           "lower": 2513.5292358398438,
           "timepoint": 10.2,
           "trajectory": "E_sol",
           "upper": 3409.537353515625
          },
          {
           "lower": 2566.5992797851563,
           "timepoint": 10.3,
           "trajectory": "E_sol",
           "upper": 3492.316271972656
          },
          {
           "lower": 2620.789416503906,
           "timepoint": 10.4,
           "trajectory": "E_sol",
           "upper": 3577.11171875
          },
          {
           "lower": 2676.123327636719,
           "timepoint": 10.5,
           "trajectory": "E_sol",
           "upper": 3663.96513671875
          },
          {
           "lower": 2732.6252319335936,
           "timepoint": 10.6,
           "trajectory": "E_sol",
           "upper": 3752.9266479492185
          },
          {
           "lower": 2790.3185791015626,
           "timepoint": 10.7,
           "trajectory": "E_sol",
           "upper": 3844.0465087890625
          },
          {
           "lower": 2849.2324462890624,
           "timepoint": 10.8,
           "trajectory": "E_sol",
           "upper": 3937.378186035156
          },
          {
           "lower": 2909.3878173828125,
           "timepoint": 10.9,
           "trajectory": "E_sol",
           "upper": 4032.9738525390626
          },
          {
           "lower": 2970.8131469726563,
           "timepoint": 11,
           "trajectory": "E_sol",
           "upper": 4130.892504882812
          },
          {
           "lower": 3033.5345825195313,
           "timepoint": 11.1,
           "trajectory": "E_sol",
           "upper": 4231.1859130859375
          },
          {
           "lower": 3097.579150390625,
           "timepoint": 11.2,
           "trajectory": "E_sol",
           "upper": 4333.911401367187
          },
          {
           "lower": 3162.9763305664064,
           "timepoint": 11.3,
           "trajectory": "E_sol",
           "upper": 4439.1314697265625
          },
          {
           "lower": 3229.7526245117188,
           "timepoint": 11.4,
           "trajectory": "E_sol",
           "upper": 4546.902685546875
          },
          {
           "lower": 3297.9373291015627,
           "timepoint": 11.5,
           "trajectory": "E_sol",
           "upper": 4657.289770507812
          },
          {
           "lower": 3367.5617919921874,
           "timepoint": 11.6,
           "trajectory": "E_sol",
           "upper": 4770.3543701171875
          },
          {
           "lower": 3438.6550903320312,
           "timepoint": 11.7,
           "trajectory": "E_sol",
           "upper": 4886.165625
          },
          {
           "lower": 3511.2494262695313,
           "timepoint": 11.8,
           "trajectory": "E_sol",
           "upper": 5004.7849609375
          },
          {
           "lower": 3585.3750732421877,
           "timepoint": 11.9,
           "trajectory": "E_sol",
           "upper": 5126.280712890625
          },
          {
           "lower": 3661.0659423828124,
           "timepoint": 12,
           "trajectory": "E_sol",
           "upper": 5250.72578125
          },
          {
           "lower": 3738.3536010742187,
           "timepoint": 12.1,
           "trajectory": "E_sol",
           "upper": 5378.189892578125
          },
          {
           "lower": 3817.272216796875,
           "timepoint": 12.2,
           "trajectory": "E_sol",
           "upper": 5508.744921875
          },
          {
           "lower": 3897.848486328125,
           "timepoint": 12.3,
           "trajectory": "E_sol",
           "upper": 5642.465844726562
          },
          {
           "lower": 3980.12998046875,
           "timepoint": 12.4,
           "trajectory": "E_sol",
           "upper": 5779.431005859375
          },
          {
           "lower": 4064.1484619140624,
           "timepoint": 12.5,
           "trajectory": "E_sol",
           "upper": 5919.71982421875
          },
          {
           "lower": 4149.939111328125,
           "timepoint": 12.6,
           "trajectory": "E_sol",
           "upper": 6063.411376953125
          },
          {
           "lower": 4237.53876953125,
           "timepoint": 12.7,
           "trajectory": "E_sol",
           "upper": 6210.587255859375
          },
          {
           "lower": 4326.987133789063,
           "timepoint": 12.8,
           "trajectory": "E_sol",
           "upper": 6361.335668945312
          },
          {
           "lower": 4418.321435546875,
           "timepoint": 12.9,
           "trajectory": "E_sol",
           "upper": 6515.738110351563
          },
          {
           "lower": 4511.583642578125,
           "timepoint": 13,
           "trajectory": "E_sol",
           "upper": 6673.881372070312
          },
          {
           "lower": 4606.814184570312,
           "timepoint": 13.1,
           "trajectory": "E_sol",
           "upper": 6835.863256835937
          },
          {
           "lower": 4704.0521240234375,
           "timepoint": 13.2,
           "trajectory": "E_sol",
           "upper": 7001.772363281249
          },
          {
           "lower": 4803.341381835938,
           "timepoint": 13.3,
           "trajectory": "E_sol",
           "upper": 7171.704565429687
          },
          {
           "lower": 4904.728979492187,
           "timepoint": 13.4,
           "trajectory": "E_sol",
           "upper": 7345.7560546875
          },
          {
           "lower": 5008.26669921875,
           "timepoint": 13.5,
           "trajectory": "E_sol",
           "upper": 7524.02958984375
          },
          {
           "lower": 5113.988232421875,
           "timepoint": 13.6,
           "trajectory": "E_sol",
           "upper": 7706.625341796875
          },
          {
           "lower": 5221.938403320312,
           "timepoint": 13.7,
           "trajectory": "E_sol",
           "upper": 7893.65107421875
          },
          {
           "lower": 5332.165625,
           "timepoint": 13.8,
           "trajectory": "E_sol",
           "upper": 8085.208935546874
          },
          {
           "lower": 5444.721411132812,
           "timepoint": 13.9,
           "trajectory": "E_sol",
           "upper": 8281.408203125
          },
          {
           "lower": 5559.649487304688,
           "timepoint": 14,
           "trajectory": "E_sol",
           "upper": 8482.3634765625
          },
          {
           "lower": 5677.001171875,
           "timepoint": 14.1,
           "trajectory": "E_sol",
           "upper": 8688.188720703125
          },
          {
           "lower": 5796.8280029296875,
           "timepoint": 14.2,
           "trajectory": "E_sol",
           "upper": 8899.000390625
          },
          {
           "lower": 5919.1829833984375,
           "timepoint": 14.3,
           "trajectory": "E_sol",
           "upper": 9114.919580078125
          },
          {
           "lower": 6044.11904296875,
           "timepoint": 14.4,
           "trajectory": "E_sol",
           "upper": 9336.098779296875
          },
          {
           "lower": 6171.69150390625,
           "timepoint": 14.5,
           "trajectory": "E_sol",
           "upper": 9562.618994140625
          },
          {
           "lower": 6301.9554443359375,
           "timepoint": 14.6,
           "trajectory": "E_sol",
           "upper": 9794.62861328125
          },
          {
           "lower": 6434.94384765625,
           "timepoint": 14.7,
           "trajectory": "E_sol",
           "upper": 10032.258642578125
          },
          {
           "lower": 6570.752490234375,
           "timepoint": 14.8,
           "trajectory": "E_sol",
           "upper": 10275.64814453125
          },
          {
           "lower": 6709.424072265625,
           "timepoint": 14.9,
           "trajectory": "E_sol",
           "upper": 10524.9326171875
          },
          {
           "lower": 6851.019995117187,
           "timepoint": 15,
           "trajectory": "E_sol",
           "upper": 10780.260791015624
          },
          {
           "lower": 6995.60146484375,
           "timepoint": 15.1,
           "trajectory": "E_sol",
           "upper": 11041.775390625
          },
          {
           "lower": 7143.2294921875,
           "timepoint": 15.2,
           "trajectory": "E_sol",
           "upper": 11309.621240234375
          },
          {
           "lower": 7293.970483398438,
           "timepoint": 15.3,
           "trajectory": "E_sol",
           "upper": 11583.955859374999
          },
          {
           "lower": 7447.887475585938,
           "timepoint": 15.4,
           "trajectory": "E_sol",
           "upper": 11864.933447265625
          },
          {
           "lower": 7605.056713867188,
           "timepoint": 15.5,
           "trajectory": "E_sol",
           "upper": 12152.718896484375
          },
          {
           "lower": 7765.533984375,
           "timepoint": 15.6,
           "trajectory": "E_sol",
           "upper": 12447.47236328125
          },
          {
           "lower": 7929.391357421875,
           "timepoint": 15.7,
           "trajectory": "E_sol",
           "upper": 12749.3615234375
          },
          {
           "lower": 8096.705151367188,
           "timepoint": 15.8,
           "trajectory": "E_sol",
           "upper": 13058.568164062499
          },
          {
           "lower": 8267.54228515625,
           "timepoint": 15.9,
           "trajectory": "E_sol",
           "upper": 13375.25498046875
          },
          {
           "lower": 8441.981689453125,
           "timepoint": 16,
           "trajectory": "E_sol",
           "upper": 13699.6123046875
          },
          {
           "lower": 8620.097412109375,
           "timepoint": 16.1,
           "trajectory": "E_sol",
           "upper": 14031.82119140625
          },
          {
           "lower": 8801.967724609374,
           "timepoint": 16.2,
           "trajectory": "E_sol",
           "upper": 14372.072656249999
          },
          {
           "lower": 8987.662158203126,
           "timepoint": 16.3,
           "trajectory": "E_sol",
           "upper": 14720.553955078125
          },
          {
           "lower": 9177.275146484375,
           "timepoint": 16.4,
           "trajectory": "E_sol",
           "upper": 15077.47802734375
          },
          {
           "lower": 9370.882958984375,
           "timepoint": 16.5,
           "trajectory": "E_sol",
           "upper": 15443.024658203125
          },
          {
           "lower": 9568.5703125,
           "timepoint": 16.6,
           "trajectory": "E_sol",
           "upper": 15817.429150390624
          },
          {
           "lower": 9770.42060546875,
           "timepoint": 16.7,
           "trajectory": "E_sol",
           "upper": 16200.8876953125
          },
          {
           "lower": 9976.517724609375,
           "timepoint": 16.8,
           "trajectory": "E_sol",
           "upper": 16593.6154296875
          },
          {
           "lower": 10186.959326171875,
           "timepoint": 16.9,
           "trajectory": "E_sol",
           "upper": 16995.84853515625
          },
          {
           "lower": 10401.83232421875,
           "timepoint": 17,
           "trajectory": "E_sol",
           "upper": 17407.80302734375
          },
          {
           "lower": 10621.242431640625,
           "timepoint": 17.1,
           "trajectory": "E_sol",
           "upper": 17829.720703125
          },
          {
           "lower": 10845.263916015625,
           "timepoint": 17.2,
           "trajectory": "E_sol",
           "upper": 18261.899511718748
          },
          {
           "lower": 11073.999072265626,
           "timepoint": 17.3,
           "trajectory": "E_sol",
           "upper": 18704.47744140625
          },
          {
           "lower": 11307.553369140625,
           "timepoint": 17.4,
           "trajectory": "E_sol",
           "upper": 19157.759863281248
          },
          {
           "lower": 11546.024609375,
           "timepoint": 17.5,
           "trajectory": "E_sol",
           "upper": 19621.99853515625
          },
          {
           "lower": 11789.51513671875,
           "timepoint": 17.6,
           "trajectory": "E_sol",
           "upper": 20097.46123046875
          },
          {
           "lower": 12038.127685546875,
           "timepoint": 17.7,
           "trajectory": "E_sol",
           "upper": 20584.409765624998
          },
          {
           "lower": 12291.9666015625,
           "timepoint": 17.8,
           "trajectory": "E_sol",
           "upper": 21083.10908203125
          },
          {
           "lower": 12551.17607421875,
           "timepoint": 17.9,
           "trajectory": "E_sol",
           "upper": 21593.89375
          },
          {
           "lower": 12815.813134765625,
           "timepoint": 18,
           "trajectory": "E_sol",
           "upper": 22116.98515625
          },
          {
           "lower": 13086.011572265625,
           "timepoint": 18.1,
           "trajectory": "E_sol",
           "upper": 22652.68994140625
          },
          {
           "lower": 13361.8779296875,
           "timepoint": 18.2,
           "trajectory": "E_sol",
           "upper": 23201.30849609375
          },
          {
           "lower": 13643.515283203125,
           "timepoint": 18.3,
           "trajectory": "E_sol",
           "upper": 23763.1076171875
          },
          {
           "lower": 13931.035498046875,
           "timepoint": 18.4,
           "trajectory": "E_sol",
           "upper": 24338.393164062498
          },
          {
           "lower": 14224.53740234375,
           "timepoint": 18.5,
           "trajectory": "E_sol",
           "upper": 24927.46474609375
          },
          {
           "lower": 14524.072412109375,
           "timepoint": 18.6,
           "trajectory": "E_sol",
           "upper": 25530.48232421875
          },
          {
           "lower": 14829.678076171875,
           "timepoint": 18.7,
           "trajectory": "E_sol",
           "upper": 26147.6474609375
          },
          {
           "lower": 15141.3427734375,
           "timepoint": 18.8,
           "trajectory": "E_sol",
           "upper": 26778.987109374997
          },
          {
           "lower": 15458.923974609375,
           "timepoint": 18.9,
           "trajectory": "E_sol",
           "upper": 27424.40693359375
          },
          {
           "lower": 15782.130126953125,
           "timepoint": 19,
           "trajectory": "E_sol",
           "upper": 28083.429492187497
          },
          {
           "lower": 16110.347265625,
           "timepoint": 19.1,
           "trajectory": "E_sol",
           "upper": 28754.99853515625
          },
          {
           "lower": 16442.499560546876,
           "timepoint": 19.2,
           "trajectory": "E_sol",
           "upper": 29437.28896484375
          },
          {
           "lower": 16776.7330078125,
           "timepoint": 19.3,
           "trajectory": "E_sol",
           "upper": 30126.799609374997
          },
          {
           "lower": 17109.903125,
           "timepoint": 19.4,
           "trajectory": "E_sol",
           "upper": 30817.74140625
          },
          {
           "lower": 17437.04951171875,
           "timepoint": 19.5,
           "trajectory": "E_sol",
           "upper": 31500.775195312497
          },
          {
           "lower": 17750.50888671875,
           "timepoint": 19.6,
           "trajectory": "E_sol",
           "upper": 32161.397753906247
          },
          {
           "lower": 18039.3755859375,
           "timepoint": 19.7,
           "trajectory": "E_sol",
           "upper": 32778.69052734375
          },
          {
           "lower": 18289.44150390625,
           "timepoint": 19.8,
           "trajectory": "E_sol",
           "upper": 33325.5126953125
          },
          {
           "lower": 18485.17509765625,
           "timepoint": 19.9,
           "trajectory": "E_sol",
           "upper": 33771.765625
          },
          {
           "lower": 18613.42548828125,
           "timepoint": 20,
           "trajectory": "E_sol",
           "upper": 34091.6625
          },
          {
           "lower": 18668.13203125,
           "timepoint": 20.1,
           "trajectory": "E_sol",
           "upper": 34272.7421875
          },
          {
           "lower": 18652.77685546875,
           "timepoint": 20.2,
           "trajectory": "E_sol",
           "upper": 34320.952343749996
          },
          {
           "lower": 18578.82978515625,
           "timepoint": 20.3,
           "trajectory": "E_sol",
           "upper": 34257.259375
          },
          {
           "lower": 18461.3291015625,
           "timepoint": 20.4,
           "trajectory": "E_sol",
           "upper": 34110.405468749996
          },
          {
           "lower": 18314.87431640625,
           "timepoint": 20.5,
           "trajectory": "E_sol",
           "upper": 33907.96953125
          },
          {
           "lower": 18151.33232421875,
           "timepoint": 20.6,
           "trajectory": "E_sol",
           "upper": 33672.702734375
          },
          {
           "lower": 17979.4146484375,
           "timepoint": 20.7,
           "trajectory": "E_sol",
           "upper": 33421.1685546875
          },
          {
           "lower": 17805.302734375,
           "timepoint": 20.8,
           "trajectory": "E_sol",
           "upper": 33164.5404296875
          },
          {
           "lower": 17632.21279296875,
           "timepoint": 20.9,
           "trajectory": "E_sol",
           "upper": 32909.9681640625
          },
          {
           "lower": 17462.45302734375,
           "timepoint": 21,
           "trajectory": "E_sol",
           "upper": 32662.029394531248
          },
          {
           "lower": 17297.29443359375,
           "timepoint": 21.1,
           "trajectory": "E_sol",
           "upper": 32423.08642578125
          },
          {
           "lower": 17137.44208984375,
           "timepoint": 21.2,
           "trajectory": "E_sol",
           "upper": 32194.60859375
          },
          {
           "lower": 16983.27880859375,
           "timepoint": 21.3,
           "trajectory": "E_sol",
           "upper": 31977.26220703125
          },
          {
           "lower": 16845.45537109375,
           "timepoint": 21.4,
           "trajectory": "E_sol",
           "upper": 31771.23681640625
          },
          {
           "lower": 16713.50087890625,
           "timepoint": 21.5,
           "trajectory": "E_sol",
           "upper": 31576.456152343748
          },
          {
           "lower": 16587.07109375,
           "timepoint": 21.6,
           "trajectory": "E_sol",
           "upper": 31392.7140625
          },
          {
           "lower": 16465.9572265625,
           "timepoint": 21.7,
           "trajectory": "E_sol",
           "upper": 31219.693164062497
          },
          {
           "lower": 16349.983935546876,
           "timepoint": 21.8,
           "trajectory": "E_sol",
           "upper": 31057.0228515625
          },
          {
           "lower": 16238.94345703125,
           "timepoint": 21.9,
           "trajectory": "E_sol",
           "upper": 30904.30263671875
          },
          {
           "lower": 16132.637158203124,
           "timepoint": 22,
           "trajectory": "E_sol",
           "upper": 30761.15419921875
          },
          {
           "lower": 16030.891552734374,
           "timepoint": 22.1,
           "trajectory": "E_sol",
           "upper": 30627.180859375
          },
          {
           "lower": 15933.470703125,
           "timepoint": 22.2,
           "trajectory": "E_sol",
           "upper": 30502.0146484375
          },
          {
           "lower": 15840.201025390625,
           "timepoint": 22.3,
           "trajectory": "E_sol",
           "upper": 30385.259765625
          },
          {
           "lower": 15750.897607421875,
           "timepoint": 22.4,
           "trajectory": "E_sol",
           "upper": 30276.56201171875
          },
          {
           "lower": 15665.372802734375,
           "timepoint": 22.5,
           "trajectory": "E_sol",
           "upper": 30175.582324218747
          },
          {
           "lower": 15583.475341796875,
           "timepoint": 22.6,
           "trajectory": "E_sol",
           "upper": 30081.980078124998
          },
          {
           "lower": 15505.036328125,
           "timepoint": 22.7,
           "trajectory": "E_sol",
           "upper": 29995.507617187497
          },
          {
           "lower": 15429.9013671875,
           "timepoint": 22.8,
           "trajectory": "E_sol",
           "upper": 29915.7619140625
          },
          {
           "lower": 15357.91982421875,
           "timepoint": 22.9,
           "trajectory": "E_sol",
           "upper": 29842.493359375
          },
          {
           "lower": 15288.96943359375,
           "timepoint": 23,
           "trajectory": "E_sol",
           "upper": 29775.427734375
          },
          {
           "lower": 15222.890380859375,
           "timepoint": 23.1,
           "trajectory": "E_sol",
           "upper": 29714.29775390625
          },
          {
           "lower": 15159.5630859375,
           "timepoint": 23.2,
           "trajectory": "E_sol",
           "upper": 29658.823828124998
          },
          {
           "lower": 15098.864697265624,
           "timepoint": 23.3,
           "trajectory": "E_sol",
           "upper": 29608.796972656248
          },
          {
           "lower": 15040.68017578125,
           "timepoint": 23.4,
           "trajectory": "E_sol",
           "upper": 29563.97451171875
          },
          {
           "lower": 14984.8982421875,
           "timepoint": 23.5,
           "trajectory": "E_sol",
           "upper": 29524.127050781248
          },
          {
           "lower": 14931.386328125,
           "timepoint": 23.6,
           "trajectory": "E_sol",
           "upper": 29489.05078125
          },
          {
           "lower": 14880.07353515625,
           "timepoint": 23.7,
           "trajectory": "E_sol",
           "upper": 29458.5666015625
          },
          {
           "lower": 14830.8525390625,
           "timepoint": 23.8,
           "trajectory": "E_sol",
           "upper": 29432.434667968748
          },
          {
           "lower": 14783.63017578125,
           "timepoint": 23.9,
           "trajectory": "E_sol",
           "upper": 29410.487402343748
          },
          {
           "lower": 14738.314990234376,
           "timepoint": 24,
           "trajectory": "E_sol",
           "upper": 29392.551953125
          },
          {
           "lower": 14694.815185546875,
           "timepoint": 24.1,
           "trajectory": "E_sol",
           "upper": 29378.453515625
          },
          {
           "lower": 14653.060009765624,
           "timepoint": 24.2,
           "trajectory": "E_sol",
           "upper": 29368.03759765625
          },
          {
           "lower": 14612.9677734375,
           "timepoint": 24.3,
           "trajectory": "E_sol",
           "upper": 29361.130859375
          },
          {
           "lower": 14574.46494140625,
           "timepoint": 24.4,
           "trajectory": "E_sol",
           "upper": 29357.6076171875
          },
          {
           "lower": 14537.4828125,
           "timepoint": 24.5,
           "trajectory": "E_sol",
           "upper": 29357.31123046875
          },
          {
           "lower": 14501.953076171874,
           "timepoint": 24.6,
           "trajectory": "E_sol",
           "upper": 29360.11708984375
          },
          {
           "lower": 14467.775,
           "timepoint": 24.7,
           "trajectory": "E_sol",
           "upper": 29365.893652343748
          },
          {
           "lower": 14434.93994140625,
           "timepoint": 24.8,
           "trajectory": "E_sol",
           "upper": 29374.512109375
          },
          {
           "lower": 14403.367724609376,
           "timepoint": 24.9,
           "trajectory": "E_sol",
           "upper": 29385.842089843747
          },
          {
           "lower": 14373.078369140625,
           "timepoint": 25,
           "trajectory": "E_sol",
           "upper": 29399.7982421875
          },
          {
           "lower": 14344.006494140625,
           "timepoint": 25.1,
           "trajectory": "E_sol",
           "upper": 29416.257421874998
          },
          {
           "lower": 14316.0390625,
           "timepoint": 25.2,
           "trajectory": "E_sol",
           "upper": 29435.11591796875
          },
          {
           "lower": 14289.117822265625,
           "timepoint": 25.3,
           "trajectory": "E_sol",
           "upper": 29456.27314453125
          },
          {
           "lower": 14263.205908203125,
           "timepoint": 25.4,
           "trajectory": "E_sol",
           "upper": 29479.6408203125
          },
          {
           "lower": 14238.254736328125,
           "timepoint": 25.5,
           "trajectory": "E_sol",
           "upper": 29505.130859375
          },
          {
           "lower": 14214.21982421875,
           "timepoint": 25.6,
           "trajectory": "E_sol",
           "upper": 29532.648046874998
          },
          {
           "lower": 14191.05849609375,
           "timepoint": 25.7,
           "trajectory": "E_sol",
           "upper": 29562.115527343747
          },
          {
           "lower": 14168.736181640625,
           "timepoint": 25.8,
           "trajectory": "E_sol",
           "upper": 29593.4560546875
          },
          {
           "lower": 14147.21953125,
           "timepoint": 25.9,
           "trajectory": "E_sol",
           "upper": 29626.595507812497
          },
          {
           "lower": 14126.462841796874,
           "timepoint": 26,
           "trajectory": "E_sol",
           "upper": 29661.466113281247
          },
          {
           "lower": 14106.433984375,
           "timepoint": 26.1,
           "trajectory": "E_sol",
           "upper": 29697.997656249998
          },
          {
           "lower": 14087.1033203125,
           "timepoint": 26.2,
           "trajectory": "E_sol",
           "upper": 29736.041796874997
          },
          {
           "lower": 14068.437060546876,
           "timepoint": 26.3,
           "trajectory": "E_sol",
           "upper": 29775.66064453125
          },
          {
           "lower": 14050.4060546875,
           "timepoint": 26.4,
           "trajectory": "E_sol",
           "upper": 29816.75390625
          },
          {
           "lower": 14032.98134765625,
           "timepoint": 26.5,
           "trajectory": "E_sol",
           "upper": 29859.25361328125
          },
          {
           "lower": 14016.145654296875,
           "timepoint": 26.6,
           "trajectory": "E_sol",
           "upper": 29903.111328125
          },
          {
           "lower": 13999.856005859376,
           "timepoint": 26.7,
           "trajectory": "E_sol",
           "upper": 29948.2744140625
          },
          {
           "lower": 13984.096240234376,
           "timepoint": 26.8,
           "trajectory": "E_sol",
           "upper": 29994.692187499997
          },
          {
           "lower": 13968.841015625,
           "timepoint": 26.9,
           "trajectory": "E_sol",
           "upper": 30042.228613281248
          },
          {
           "lower": 13954.0646484375,
           "timepoint": 27,
           "trajectory": "E_sol",
           "upper": 30090.983496093748
          },
          {
           "lower": 13939.7494140625,
           "timepoint": 27.1,
           "trajectory": "E_sol",
           "upper": 30140.852636718748
          },
          {
           "lower": 13925.871044921874,
           "timepoint": 27.2,
           "trajectory": "E_sol",
           "upper": 30191.792089843748
          },
          {
           "lower": 13912.45,
           "timepoint": 27.3,
           "trajectory": "E_sol",
           "upper": 30243.763281249998
          },
          {
           "lower": 13899.40439453125,
           "timepoint": 27.4,
           "trajectory": "E_sol",
           "upper": 30296.73310546875
          },
          {
           "lower": 13886.742724609376,
           "timepoint": 27.5,
           "trajectory": "E_sol",
           "upper": 30350.658984374997
          },
          {
           "lower": 13874.447314453126,
           "timepoint": 27.6,
           "trajectory": "E_sol",
           "upper": 30405.464453124998
          },
          {
           "lower": 13862.50126953125,
           "timepoint": 27.7,
           "trajectory": "E_sol",
           "upper": 30461.185156249998
          },
          {
           "lower": 13850.890185546876,
           "timepoint": 27.8,
           "trajectory": "E_sol",
           "upper": 30517.7619140625
          },
          {
           "lower": 13839.598291015625,
           "timepoint": 27.9,
           "trajectory": "E_sol",
           "upper": 30575.1625
          },
          {
           "lower": 13828.6109375,
           "timepoint": 28,
           "trajectory": "E_sol",
           "upper": 30633.36123046875
          },
          {
           "lower": 13817.920849609374,
           "timepoint": 28.1,
           "trajectory": "E_sol",
           "upper": 30692.330078125
          },
          {
           "lower": 13807.5041015625,
           "timepoint": 28.2,
           "trajectory": "E_sol",
           "upper": 30752.043261718747
          },
          {
           "lower": 13797.3544921875,
           "timepoint": 28.3,
           "trajectory": "E_sol",
           "upper": 30812.468359374998
          },
          {
           "lower": 13787.459326171875,
           "timepoint": 28.4,
           "trajectory": "E_sol",
           "upper": 30873.5646484375
          },
          {
           "lower": 13775.889111328124,
           "timepoint": 28.5,
           "trajectory": "E_sol",
           "upper": 30935.344335937498
          },
          {
           "lower": 13757.0501953125,
           "timepoint": 28.6,
           "trajectory": "E_sol",
           "upper": 30997.7669921875
          },
          {
           "lower": 13738.480615234375,
           "timepoint": 28.7,
           "trajectory": "E_sol",
           "upper": 31060.81875
          },
          {
           "lower": 13720.166015625,
           "timepoint": 28.8,
           "trajectory": "E_sol",
           "upper": 31124.46767578125
          },
          {
           "lower": 13702.096484375,
           "timepoint": 28.9,
           "trajectory": "E_sol",
           "upper": 31188.699316406248
          },
          {
           "lower": 13684.265087890624,
           "timepoint": 29,
           "trajectory": "E_sol",
           "upper": 31253.49794921875
          },
          {
           "lower": 13666.659326171875,
           "timepoint": 29.1,
           "trajectory": "E_sol",
           "upper": 31318.842089843747
          },
          {
           "lower": 13649.23974609375,
           "timepoint": 29.2,
           "trajectory": "E_sol",
           "upper": 31384.71064453125
          },
          {
           "lower": 13632.04638671875,
           "timepoint": 29.3,
           "trajectory": "E_sol",
           "upper": 31451.167578124998
          },
          {
           "lower": 13615.049072265625,
           "timepoint": 29.4,
           "trajectory": "E_sol",
           "upper": 31518.06953125
          },
          {
           "lower": 13598.2423828125,
           "timepoint": 29.5,
           "trajectory": "E_sol",
           "upper": 31585.460058593748
          },
          {
           "lower": 13581.61572265625,
           "timepoint": 29.6,
           "trajectory": "E_sol",
           "upper": 31653.316503906248
          },
          {
           "lower": 13565.16123046875,
           "timepoint": 29.7,
           "trajectory": "E_sol",
           "upper": 31721.635351562498
          },
          {
           "lower": 13548.87314453125,
           "timepoint": 29.8,
           "trajectory": "E_sol",
           "upper": 31790.397949218746
          },
          {
           "lower": 13532.74453125,
           "timepoint": 29.9,
           "trajectory": "E_sol",
           "upper": 31859.59658203125
          },
          {
           "lower": 13516.766748046875,
           "timepoint": 30,
           "trajectory": "E_sol",
           "upper": 31929.217773437496
          },
          {
           "lower": 13500.951611328124,
           "timepoint": 30.1,
           "trajectory": "E_sol",
           "upper": 31999.245605468746
          },
          {
           "lower": 13485.262353515625,
           "timepoint": 30.2,
           "trajectory": "E_sol",
           "upper": 32069.663378906247
          },
          {
           "lower": 13469.7099609375,
           "timepoint": 30.3,
           "trajectory": "E_sol",
           "upper": 32140.4759765625
          },
          {
           "lower": 13454.28876953125,
           "timepoint": 30.4,
           "trajectory": "E_sol",
           "upper": 32211.67177734375
          },
          {
           "lower": 13438.991015625,
           "timepoint": 30.5,
           "trajectory": "E_sol",
           "upper": 32283.23330078125
          },
          {
           "lower": 13423.810888671875,
           "timepoint": 30.6,
           "trajectory": "E_sol",
           "upper": 32355.157519531247
          },
          {
           "lower": 13408.747314453125,
           "timepoint": 30.7,
           "trajectory": "E_sol",
           "upper": 32427.43740234375
          },
          {
           "lower": 13393.791748046875,
           "timepoint": 30.8,
           "trajectory": "E_sol",
           "upper": 32500.057714843748
          },
          {
           "lower": 13378.942822265624,
           "timepoint": 30.9,
           "trajectory": "E_sol",
           "upper": 32573.016015625
          },
          {
           "lower": 13364.1857421875,
           "timepoint": 31,
           "trajectory": "E_sol",
           "upper": 32646.3048828125
          },
          {
           "lower": 13349.532275390626,
           "timepoint": 31.1,
           "trajectory": "E_sol",
           "upper": 32719.916113281248
          },
          {
           "lower": 13334.97255859375,
           "timepoint": 31.2,
           "trajectory": "E_sol",
           "upper": 32793.84208984375
          },
          {
           "lower": 13320.50439453125,
           "timepoint": 31.3,
           "trajectory": "E_sol",
           "upper": 32868.0748046875
          },
          {
           "lower": 13306.120703125,
           "timepoint": 31.4,
           "trajectory": "E_sol",
           "upper": 32942.610546874996
          },
          {
           "lower": 13291.82041015625,
           "timepoint": 31.5,
           "trajectory": "E_sol",
           "upper": 33017.4521484375
          },
          {
           "lower": 13277.600634765626,
           "timepoint": 31.6,
           "trajectory": "E_sol",
           "upper": 33092.5759765625
          },
          {
           "lower": 13263.457568359376,
           "timepoint": 31.7,
           "trajectory": "E_sol",
           "upper": 33167.98515625
          },
          {
           "lower": 13249.3880859375,
           "timepoint": 31.8,
           "trajectory": "E_sol",
           "upper": 33243.672265625
          },
          {
           "lower": 13235.391259765625,
           "timepoint": 31.9,
           "trajectory": "E_sol",
           "upper": 33319.6373046875
          },
          {
           "lower": 13221.439013671876,
           "timepoint": 32,
           "trajectory": "E_sol",
           "upper": 33395.871875
          },
          {
           "lower": 13207.571337890626,
           "timepoint": 32.1,
           "trajectory": "E_sol",
           "upper": 33472.369335937496
          },
          {
           "lower": 13193.76708984375,
           "timepoint": 32.2,
           "trajectory": "E_sol",
           "upper": 33549.1884765625
          },
          {
           "lower": 13180.021826171875,
           "timepoint": 32.3,
           "trajectory": "E_sol",
           "upper": 33626.22109375
          },
          {
           "lower": 13166.336572265625,
           "timepoint": 32.4,
           "trajectory": "E_sol",
           "upper": 33703.5083984375
          },
          {
           "lower": 13152.7076171875,
           "timepoint": 32.5,
           "trajectory": "E_sol",
           "upper": 33781.046484375
          },
          {
           "lower": 13139.132861328126,
           "timepoint": 32.6,
           "trajectory": "E_sol",
           "upper": 33858.827343749996
          },
          {
           "lower": 13125.609521484375,
           "timepoint": 32.7,
           "trajectory": "E_sol",
           "upper": 33936.8572265625
          },
          {
           "lower": 13112.137548828125,
           "timepoint": 32.8,
           "trajectory": "E_sol",
           "upper": 34015.1224609375
          },
          {
           "lower": 13098.71396484375,
           "timepoint": 32.9,
           "trajectory": "E_sol",
           "upper": 34093.6337890625
          },
          {
           "lower": 13085.337841796874,
           "timepoint": 33,
           "trajectory": "E_sol",
           "upper": 34172.3720703125
          },
          {
           "lower": 13071.997998046874,
           "timepoint": 33.1,
           "trajectory": "E_sol",
           "upper": 34251.3455078125
          },
          {
           "lower": 13058.70908203125,
           "timepoint": 33.2,
           "trajectory": "E_sol",
           "upper": 34330.546093749996
          },
          {
           "lower": 13045.4611328125,
           "timepoint": 33.3,
           "trajectory": "E_sol",
           "upper": 34409.9697265625
          },
          {
           "lower": 13032.25615234375,
           "timepoint": 33.4,
           "trajectory": "E_sol",
           "upper": 34489.709375
          },
          {
           "lower": 13019.091748046874,
           "timepoint": 33.5,
           "trajectory": "E_sol",
           "upper": 34569.601757812496
          },
          {
           "lower": 13005.96318359375,
           "timepoint": 33.6,
           "trajectory": "E_sol",
           "upper": 34649.709375
          },
          {
           "lower": 12992.87138671875,
           "timepoint": 33.7,
           "trajectory": "E_sol",
           "upper": 34730.0435546875
          },
          {
           "lower": 12979.818115234375,
           "timepoint": 33.8,
           "trajectory": "E_sol",
           "upper": 34810.5931640625
          },
          {
           "lower": 12966.79580078125,
           "timepoint": 33.9,
           "trajectory": "E_sol",
           "upper": 34891.357617187496
          },
          {
           "lower": 12953.810107421876,
           "timepoint": 34,
           "trajectory": "E_sol",
           "upper": 34972.3412109375
          },
          {
           "lower": 12940.85537109375,
           "timepoint": 34.1,
           "trajectory": "E_sol",
           "upper": 35053.532421874996
          },
          {
           "lower": 12927.9314453125,
           "timepoint": 34.2,
           "trajectory": "E_sol",
           "upper": 35134.93515625
          },
          {
           "lower": 12915.032861328125,
           "timepoint": 34.3,
           "trajectory": "E_sol",
           "upper": 35216.541210937496
          },
          {
           "lower": 12902.16875,
           "timepoint": 34.4,
           "trajectory": "E_sol",
           "upper": 35298.3662109375
          },
          {
           "lower": 12889.334130859375,
           "timepoint": 34.5,
           "trajectory": "E_sol",
           "upper": 35380.391015625
          },
          {
           "lower": 12876.527001953125,
           "timepoint": 34.6,
           "trajectory": "E_sol",
           "upper": 35462.619335937496
          },
          {
           "lower": 12863.744091796874,
           "timepoint": 34.7,
           "trajectory": "E_sol",
           "upper": 35545.0478515625
          },
          {
           "lower": 12850.989892578125,
           "timepoint": 34.8,
           "trajectory": "E_sol",
           "upper": 35627.6869140625
          },
          {
           "lower": 12838.260009765625,
           "timepoint": 34.9,
           "trajectory": "E_sol",
           "upper": 35710.525976562494
          },
          {
           "lower": 12825.555029296875,
           "timepoint": 35,
           "trajectory": "E_sol",
           "upper": 35793.564453125
          },
          {
           "lower": 12812.874169921875,
           "timepoint": 35.1,
           "trajectory": "E_sol",
           "upper": 35876.8025390625
          },
          {
           "lower": 12800.21552734375,
           "timepoint": 35.2,
           "trajectory": "E_sol",
           "upper": 35960.2435546875
          },
          {
           "lower": 12787.5791015625,
           "timepoint": 35.3,
           "trajectory": "E_sol",
           "upper": 36043.8806640625
          },
          {
           "lower": 12774.96474609375,
           "timepoint": 35.4,
           "trajectory": "E_sol",
           "upper": 36127.717578125
          },
          {
           "lower": 12762.370751953125,
           "timepoint": 35.5,
           "trajectory": "E_sol",
           "upper": 36211.7498046875
          },
          {
           "lower": 12749.828564453124,
           "timepoint": 35.6,
           "trajectory": "E_sol",
           "upper": 36295.977734374996
          },
          {
           "lower": 12737.281640625,
           "timepoint": 35.7,
           "trajectory": "E_sol",
           "upper": 36380.408984375
          },
          {
           "lower": 12724.75361328125,
           "timepoint": 35.8,
           "trajectory": "E_sol",
           "upper": 36465.028125
          },
          {
           "lower": 12712.24658203125,
           "timepoint": 35.9,
           "trajectory": "E_sol",
           "upper": 36549.850781249996
          },
          {
           "lower": 12699.75869140625,
           "timepoint": 36,
           "trajectory": "E_sol",
           "upper": 36634.8646484375
          },
          {
           "lower": 12687.28994140625,
           "timepoint": 36.1,
           "trajectory": "E_sol",
           "upper": 36720.0671875
          },
          {
           "lower": 12674.83955078125,
           "timepoint": 36.2,
           "trajectory": "E_sol",
           "upper": 36805.4091796875
          },
          {
           "lower": 12662.406298828126,
           "timepoint": 36.3,
           "trajectory": "E_sol",
           "upper": 36890.9912109375
          },
          {
           "lower": 12649.993115234374,
           "timepoint": 36.4,
           "trajectory": "E_sol",
           "upper": 36976.7615234375
          },
          {
           "lower": 12637.595361328125,
           "timepoint": 36.5,
           "trajectory": "E_sol",
           "upper": 37062.71953125
          },
          {
           "lower": 12625.215771484374,
           "timepoint": 36.6,
           "trajectory": "E_sol",
           "upper": 37148.8767578125
          },
          {
           "lower": 12612.851513671874,
           "timepoint": 36.7,
           "trajectory": "E_sol",
           "upper": 37235.219140625
          },
          {
           "lower": 12600.502587890625,
           "timepoint": 36.8,
           "trajectory": "E_sol",
           "upper": 37321.75234375
          },
          {
           "lower": 12588.17265625,
           "timepoint": 36.9,
           "trajectory": "E_sol",
           "upper": 37408.477734374996
          },
          {
           "lower": 12575.871044921874,
           "timepoint": 37,
           "trajectory": "E_sol",
           "upper": 37495.386914062496
          },
          {
           "lower": 12563.57265625,
           "timepoint": 37.1,
           "trajectory": "E_sol",
           "upper": 37582.4876953125
          },
          {
           "lower": 12551.289501953124,
           "timepoint": 37.2,
           "trajectory": "E_sol",
           "upper": 37669.7767578125
          },
          {
           "lower": 12539.02177734375,
           "timepoint": 37.3,
           "trajectory": "E_sol",
           "upper": 37757.2572265625
          },
          {
           "lower": 12526.7673828125,
           "timepoint": 37.4,
           "trajectory": "E_sol",
           "upper": 37844.92578125
          },
          {
           "lower": 12514.52822265625,
           "timepoint": 37.5,
           "trajectory": "E_sol",
           "upper": 37932.774609374996
          },
          {
           "lower": 12502.304345703125,
           "timepoint": 37.6,
           "trajectory": "E_sol",
           "upper": 38020.815039062494
          },
          {
           "lower": 12490.092822265626,
           "timepoint": 37.7,
           "trajectory": "E_sol",
           "upper": 38109.047265625
          },
          {
           "lower": 12477.89658203125,
           "timepoint": 37.8,
           "trajectory": "E_sol",
           "upper": 38197.485937499994
          },
          {
           "lower": 12465.71279296875,
           "timepoint": 37.9,
           "trajectory": "E_sol",
           "upper": 38286.09375
          },
          {
           "lower": 12453.542333984375,
           "timepoint": 38,
           "trajectory": "E_sol",
           "upper": 38374.889257812494
          },
          {
           "lower": 12441.3861328125,
           "timepoint": 38.1,
           "trajectory": "E_sol",
           "upper": 38463.8728515625
          },
          {
           "lower": 12429.24140625,
           "timepoint": 38.2,
           "trajectory": "E_sol",
           "upper": 38553.0482421875
          },
          {
           "lower": 12417.11005859375,
           "timepoint": 38.3,
           "trajectory": "E_sol",
           "upper": 38642.407421874996
          },
          {
           "lower": 12404.99013671875,
           "timepoint": 38.4,
           "trajectory": "E_sol",
           "upper": 38731.954687499994
          },
          {
           "lower": 12392.884423828125,
           "timepoint": 38.5,
           "trajectory": "E_sol",
           "upper": 38821.6947265625
          },
          {
           "lower": 12380.81806640625,
           "timepoint": 38.6,
           "trajectory": "E_sol",
           "upper": 38911.617773437494
          },
          {
           "lower": 12368.740869140625,
           "timepoint": 38.7,
           "trajectory": "E_sol",
           "upper": 39001.732617187496
          },
          {
           "lower": 12356.67646484375,
           "timepoint": 38.8,
           "trajectory": "E_sol",
           "upper": 39092.0384765625
          },
          {
           "lower": 12344.622119140626,
           "timepoint": 38.9,
           "trajectory": "E_sol",
           "upper": 39182.5291015625
          },
          {
           "lower": 12332.58203125,
           "timepoint": 39,
           "trajectory": "E_sol",
           "upper": 39273.211132812496
          },
          {
           "lower": 12320.553369140625,
           "timepoint": 39.1,
           "trajectory": "E_sol",
           "upper": 39363.824414062496
          },
          {
           "lower": 12308.536083984374,
           "timepoint": 39.2,
           "trajectory": "E_sol",
           "upper": 39454.627148437496
          },
          {
           "lower": 12296.532080078125,
           "timepoint": 39.3,
           "trajectory": "E_sol",
           "upper": 39545.6201171875
          },
          {
           "lower": 12284.53671875,
           "timepoint": 39.4,
           "trajectory": "E_sol",
           "upper": 39636.803320312494
          },
          {
           "lower": 12272.5546875,
           "timepoint": 39.5,
           "trajectory": "E_sol",
           "upper": 39728.166015625
          },
          {
           "lower": 12260.583935546874,
           "timepoint": 39.6,
           "trajectory": "E_sol",
           "upper": 39819.604101562494
          },
          {
           "lower": 12248.623779296875,
           "timepoint": 39.7,
           "trajectory": "E_sol",
           "upper": 39911.3275390625
          },
          {
           "lower": 12236.675830078126,
           "timepoint": 39.8,
           "trajectory": "E_sol",
           "upper": 40003.238867187494
          },
          {
           "lower": 12224.736572265625,
           "timepoint": 39.9,
           "trajectory": "E_sol",
           "upper": 40095.3408203125
          },
          {
           "lower": 12212.809716796875,
           "timepoint": 40,
           "trajectory": "E_sol",
           "upper": 40187.629296875
          },
          {
           "lower": 12200.894189453125,
           "timepoint": 40.1,
           "trajectory": "E_sol",
           "upper": 40280.1009765625
          },
          {
           "lower": 12189.009521484375,
           "timepoint": 40.2,
           "trajectory": "E_sol",
           "upper": 40372.766796874996
          },
          {
           "lower": 12177.118701171876,
           "timepoint": 40.3,
           "trajectory": "E_sol",
           "upper": 40465.615820312494
          },
          {
           "lower": 12165.23828125,
           "timepoint": 40.4,
           "trajectory": "E_sol",
           "upper": 40558.655078125
          },
          {
           "lower": 12153.36806640625,
           "timepoint": 40.5,
           "trajectory": "E_sol",
           "upper": 40651.881054687496
          },
          {
           "lower": 12141.510205078124,
           "timepoint": 40.6,
           "trajectory": "E_sol",
           "upper": 40745.29375
          },
          {
           "lower": 12129.66279296875,
           "timepoint": 40.7,
           "trajectory": "E_sol",
           "upper": 40838.900976562494
          },
          {
           "lower": 12117.825830078125,
           "timepoint": 40.8,
           "trajectory": "E_sol",
           "upper": 40932.687109374994
          },
          {
           "lower": 12106.00107421875,
           "timepoint": 40.9,
           "trajectory": "E_sol",
           "upper": 41026.674999999996
          },
          {
           "lower": 12094.185009765624,
           "timepoint": 41,
           "trajectory": "E_sol",
           "upper": 41120.838671875
          },
          {
           "lower": 12082.38115234375,
           "timepoint": 41.1,
           "trajectory": "E_sol",
           "upper": 41215.196484374996
          },
          {
           "lower": 12070.5859375,
           "timepoint": 41.2,
           "trajectory": "E_sol",
           "upper": 41309.748632812494
          },
          {
           "lower": 12058.801123046875,
           "timepoint": 41.3,
           "trajectory": "E_sol",
           "upper": 41404.480078124994
          },
          {
           "lower": 12047.027685546875,
           "timepoint": 41.4,
           "trajectory": "E_sol",
           "upper": 41499.3388671875
          },
          {
           "lower": 12035.263720703126,
           "timepoint": 41.5,
           "trajectory": "E_sol",
           "upper": 41594.4408203125
          },
          {
           "lower": 12023.511181640624,
           "timepoint": 41.6,
           "trajectory": "E_sol",
           "upper": 41689.735937499994
          },
          {
           "lower": 12011.767138671876,
           "timepoint": 41.7,
           "trajectory": "E_sol",
           "upper": 41785.2216796875
          },
          {
           "lower": 12000.033544921875,
           "timepoint": 41.8,
           "trajectory": "E_sol",
           "upper": 41880.894140624994
          },
          {
           "lower": 11988.3150390625,
           "timepoint": 41.9,
           "trajectory": "E_sol",
           "upper": 41976.7607421875
          },
          {
           "lower": 11976.604296875,
           "timepoint": 42,
           "trajectory": "E_sol",
           "upper": 42072.8103515625
          },
          {
           "lower": 11964.9029296875,
           "timepoint": 42.1,
           "trajectory": "E_sol",
           "upper": 42169.050390624994
          },
          {
           "lower": 11953.557861328125,
           "timepoint": 42.2,
           "trajectory": "E_sol",
           "upper": 42265.4890625
          },
          {
           "lower": 11945.303955078125,
           "timepoint": 42.3,
           "trajectory": "E_sol",
           "upper": 42362.11015625
          },
          {
           "lower": 11937.054248046876,
           "timepoint": 42.4,
           "trajectory": "E_sol",
           "upper": 42458.922070312496
          },
          {
           "lower": 11928.809765625,
           "timepoint": 42.5,
           "trajectory": "E_sol",
           "upper": 42555.92421875
          },
          {
           "lower": 11920.56767578125,
           "timepoint": 42.6,
           "trajectory": "E_sol",
           "upper": 42653.1208984375
          },
          {
           "lower": 11912.331591796876,
           "timepoint": 42.7,
           "trajectory": "E_sol",
           "upper": 42750.504492187494
          },
          {
           "lower": 11904.09892578125,
           "timepoint": 42.8,
           "trajectory": "E_sol",
           "upper": 42848.078320312496
          },
          {
           "lower": 11895.871337890625,
           "timepoint": 42.9,
           "trajectory": "E_sol",
           "upper": 42945.8392578125
          },
          {
           "lower": 11887.6470703125,
           "timepoint": 43,
           "trajectory": "E_sol",
           "upper": 43043.794531249994
          },
          {
           "lower": 11879.426953125,
           "timepoint": 43.1,
           "trajectory": "E_sol",
           "upper": 43141.940039062494
          },
          {
           "lower": 11871.211181640625,
           "timepoint": 43.2,
           "trajectory": "E_sol",
           "upper": 43240.280078125
          },
          {
           "lower": 11862.998681640625,
           "timepoint": 43.3,
           "trajectory": "E_sol",
           "upper": 43338.802929687496
          },
          {
           "lower": 11854.79130859375,
           "timepoint": 43.4,
           "trajectory": "E_sol",
           "upper": 43437.611523437496
          },
          {
           "lower": 11846.5873046875,
           "timepoint": 43.5,
           "trajectory": "E_sol",
           "upper": 43536.530859374994
          },
          {
           "lower": 11838.3880859375,
           "timepoint": 43.6,
           "trajectory": "E_sol",
           "upper": 43635.64453125
          },
          {
           "lower": 11830.192431640626,
           "timepoint": 43.7,
           "trajectory": "E_sol",
           "upper": 43734.952734374994
          },
          {
           "lower": 11821.99912109375,
           "timepoint": 43.8,
           "trajectory": "E_sol",
           "upper": 43834.458984375
          },
          {
           "lower": 11813.8109375,
           "timepoint": 43.9,
           "trajectory": "E_sol",
           "upper": 43934.1521484375
          },
          {
           "lower": 11805.6380859375,
           "timepoint": 44,
           "trajectory": "E_sol",
           "upper": 44034.039648437494
          },
          {
           "lower": 11797.46015625,
           "timepoint": 44.1,
           "trajectory": "E_sol",
           "upper": 44134.125
          },
          {
           "lower": 11789.285595703124,
           "timepoint": 44.2,
           "trajectory": "E_sol",
           "upper": 44234.4013671875
          },
          {
           "lower": 11781.11513671875,
           "timepoint": 44.3,
           "trajectory": "E_sol",
           "upper": 44334.87578125
          },
          {
           "lower": 11772.949853515625,
           "timepoint": 44.4,
           "trajectory": "E_sol",
           "upper": 44435.541015625
          },
          {
           "lower": 11764.787890625,
           "timepoint": 44.5,
           "trajectory": "E_sol",
           "upper": 44536.400390625
          },
          {
           "lower": 11756.630078125,
           "timepoint": 44.6,
           "trajectory": "E_sol",
           "upper": 44637.45078125
          },
          {
           "lower": 11748.475537109374,
           "timepoint": 44.7,
           "trajectory": "E_sol",
           "upper": 44738.702734375
          },
          {
           "lower": 11740.326171875,
           "timepoint": 44.8,
           "trajectory": "E_sol",
           "upper": 44840.1494140625
          },
          {
           "lower": 11732.180908203125,
           "timepoint": 44.9,
           "trajectory": "E_sol",
           "upper": 44941.794140624996
          },
          {
           "lower": 11724.039892578125,
           "timepoint": 45,
           "trajectory": "E_sol",
           "upper": 45043.62578125
          },
          {
           "lower": 11715.902197265625,
           "timepoint": 45.1,
           "trajectory": "E_sol",
           "upper": 45145.659374999996
          },
          {
           "lower": 11707.768603515626,
           "timepoint": 45.2,
           "trajectory": "E_sol",
           "upper": 45247.8951171875
          },
          {
           "lower": 11699.639306640625,
           "timepoint": 45.3,
           "trajectory": "E_sol",
           "upper": 45350.3212890625
          },
          {
           "lower": 11691.5150390625,
           "timepoint": 45.4,
           "trajectory": "E_sol",
           "upper": 45452.9458984375
          },
          {
           "lower": 11683.395166015625,
           "timepoint": 45.5,
           "trajectory": "E_sol",
           "upper": 45555.700390624996
          },
          {
           "lower": 11675.27763671875,
           "timepoint": 45.6,
           "trajectory": "E_sol",
           "upper": 45658.709375
          },
          {
           "lower": 11667.165185546875,
           "timepoint": 45.7,
           "trajectory": "E_sol",
           "upper": 45761.916796875
          },
          {
           "lower": 11659.056982421875,
           "timepoint": 45.8,
           "trajectory": "E_sol",
           "upper": 45865.3150390625
          },
          {
           "lower": 11650.9400390625,
           "timepoint": 45.9,
           "trajectory": "E_sol",
           "upper": 45968.915234374996
          },
          {
           "lower": 11642.83837890625,
           "timepoint": 46,
           "trajectory": "E_sol",
           "upper": 46072.713085937496
          },
          {
           "lower": 11634.740966796875,
           "timepoint": 46.1,
           "trajectory": "E_sol",
           "upper": 46176.705859375
          },
          {
           "lower": 11626.64677734375,
           "timepoint": 46.2,
           "trajectory": "E_sol",
           "upper": 46280.896875
          },
          {
           "lower": 11618.55595703125,
           "timepoint": 46.3,
           "trajectory": "E_sol",
           "upper": 46385.282421874996
          },
          {
           "lower": 11610.47021484375,
           "timepoint": 46.4,
           "trajectory": "E_sol",
           "upper": 46489.8736328125
          },
          {
           "lower": 11602.387841796875,
           "timepoint": 46.5,
           "trajectory": "E_sol",
           "upper": 46594.6552734375
          },
          {
           "lower": 11594.3095703125,
           "timepoint": 46.6,
           "trajectory": "E_sol",
           "upper": 46699.631640625
          },
          {
           "lower": 11586.235546875,
           "timepoint": 46.7,
           "trajectory": "E_sol",
           "upper": 46804.8138671875
          },
          {
           "lower": 11578.165771484375,
           "timepoint": 46.8,
           "trajectory": "E_sol",
           "upper": 46910.186718749996
          },
          {
           "lower": 11570.099267578125,
           "timepoint": 46.9,
           "trajectory": "E_sol",
           "upper": 47015.761914062496
          },
          {
           "lower": 11562.03701171875,
           "timepoint": 47,
           "trajectory": "E_sol",
           "upper": 47121.5349609375
          },
          {
           "lower": 11553.9798828125,
           "timepoint": 47.1,
           "trajectory": "E_sol",
           "upper": 47227.50625
          },
          {
           "lower": 11545.924169921875,
           "timepoint": 47.2,
           "trajectory": "E_sol",
           "upper": 47333.6724609375
          },
          {
           "lower": 11537.875537109376,
           "timepoint": 47.3,
           "trajectory": "E_sol",
           "upper": 47440.044140624996
          },
          {
           "lower": 11529.82734375,
           "timepoint": 47.4,
           "trajectory": "E_sol",
           "upper": 47546.6142578125
          },
          {
           "lower": 11521.7849609375,
           "timepoint": 47.5,
           "trajectory": "E_sol",
           "upper": 47653.379101562496
          },
          {
           "lower": 11513.745849609375,
           "timepoint": 47.6,
           "trajectory": "E_sol",
           "upper": 47760.3416015625
          },
          {
           "lower": 11505.711865234374,
           "timepoint": 47.7,
           "trajectory": "E_sol",
           "upper": 47867.595703125
          },
          {
           "lower": 11497.68115234375,
           "timepoint": 47.8,
           "trajectory": "E_sol",
           "upper": 47974.9701171875
          },
          {
           "lower": 11489.64814453125,
           "timepoint": 47.9,
           "trajectory": "E_sol",
           "upper": 48082.549999999996
          },
          {
           "lower": 11481.62578125,
           "timepoint": 48,
           "trajectory": "E_sol",
           "upper": 48190.324609375
          },
          {
           "lower": 11473.605810546875,
           "timepoint": 48.1,
           "trajectory": "E_sol",
           "upper": 48298.3052734375
          },
          {
           "lower": 11465.59091796875,
           "timepoint": 48.2,
           "trajectory": "E_sol",
           "upper": 48406.487890625
          },
          {
           "lower": 11457.5802734375,
           "timepoint": 48.3,
           "trajectory": "E_sol",
           "upper": 48514.86875
          },
          {
           "lower": 11449.571044921875,
           "timepoint": 48.4,
           "trajectory": "E_sol",
           "upper": 48623.45546875
          },
          {
           "lower": 11441.567822265624,
           "timepoint": 48.5,
           "trajectory": "E_sol",
           "upper": 48732.23671875
          },
          {
           "lower": 11433.568896484376,
           "timepoint": 48.6,
           "trajectory": "E_sol",
           "upper": 48841.2162109375
          },
          {
           "lower": 11425.571337890626,
           "timepoint": 48.7,
           "trajectory": "E_sol",
           "upper": 48950.408984375
          },
          {
           "lower": 11417.579833984375,
           "timepoint": 48.8,
           "trajectory": "E_sol",
           "upper": 49059.796484375
          },
          {
           "lower": 11409.59072265625,
           "timepoint": 48.9,
           "trajectory": "E_sol",
           "upper": 49169.389843749996
          },
          {
           "lower": 11401.6076171875,
           "timepoint": 49,
           "trajectory": "E_sol",
           "upper": 49279.181640625
          },
          {
           "lower": 11393.626904296874,
           "timepoint": 49.1,
           "trajectory": "E_sol",
           "upper": 49389.171484375
          },
          {
           "lower": 11385.6494140625,
           "timepoint": 49.2,
           "trajectory": "E_sol",
           "upper": 49499.371289062496
          },
          {
           "lower": 11377.677099609375,
           "timepoint": 49.3,
           "trajectory": "E_sol",
           "upper": 49609.7693359375
          },
          {
           "lower": 11369.708056640626,
           "timepoint": 49.4,
           "trajectory": "E_sol",
           "upper": 49720.3734375
          },
          {
           "lower": 11361.741943359375,
           "timepoint": 49.5,
           "trajectory": "E_sol",
           "upper": 49831.1791015625
          },
          {
           "lower": 11353.782080078125,
           "timepoint": 49.6,
           "trajectory": "E_sol",
           "upper": 49942.1833984375
          },
          {
           "lower": 11345.823583984375,
           "timepoint": 49.7,
           "trajectory": "E_sol",
           "upper": 50053.3939453125
          },
          {
           "lower": 11337.871142578126,
           "timepoint": 49.8,
           "trajectory": "E_sol",
           "upper": 50164.80625
          },
          {
           "lower": 11329.92197265625,
           "timepoint": 49.9,
           "trajectory": "E_sol",
           "upper": 50276.4248046875
          },
          {
           "lower": 11321.97509765625,
           "timepoint": 50,
           "trajectory": "E_sol",
           "upper": 50388.3220703125
          },
          {
           "lower": 11314.03984375,
           "timepoint": 50.1,
           "trajectory": "E_sol",
           "upper": 50500.35546875
          },
          {
           "lower": 11306.10322265625,
           "timepoint": 50.2,
           "trajectory": "E_sol",
           "upper": 50612.5990234375
          },
          {
           "lower": 11298.170849609374,
           "timepoint": 50.3,
           "trajectory": "E_sol",
           "upper": 50725.040625
          },
          {
           "lower": 11290.24072265625,
           "timepoint": 50.4,
           "trajectory": "E_sol",
           "upper": 50837.691796875
          },
          {
           "lower": 11282.31572265625,
           "timepoint": 50.5,
           "trajectory": "E_sol",
           "upper": 50950.545117187496
          },
          {
           "lower": 11274.39404296875,
           "timepoint": 50.6,
           "trajectory": "E_sol",
           "upper": 51063.600781249996
          },
          {
           "lower": 11266.475537109374,
           "timepoint": 50.7,
           "trajectory": "E_sol",
           "upper": 51176.869921875
          },
          {
           "lower": 11258.56318359375,
           "timepoint": 50.8,
           "trajectory": "E_sol",
           "upper": 51290.3373046875
          },
          {
           "lower": 11250.6521484375,
           "timepoint": 50.9,
           "trajectory": "E_sol",
           "upper": 51404.014453125
          },
          {
           "lower": 11242.74716796875,
           "timepoint": 51,
           "trajectory": "E_sol",
           "upper": 51517.893749999996
          },
          {
           "lower": 11234.84365234375,
           "timepoint": 51.1,
           "trajectory": "E_sol",
           "upper": 51631.978710937496
          },
          {
           "lower": 11226.94609375,
           "timepoint": 51.2,
           "trajectory": "E_sol",
           "upper": 51746.27734375
          },
          {
           "lower": 11219.05185546875,
           "timepoint": 51.3,
           "trajectory": "E_sol",
           "upper": 51860.7779296875
          },
          {
           "lower": 11211.160888671875,
           "timepoint": 51.4,
           "trajectory": "E_sol",
           "upper": 51975.4849609375
          },
          {
           "lower": 11203.27314453125,
           "timepoint": 51.5,
           "trajectory": "E_sol",
           "upper": 52090.393749999996
          },
          {
           "lower": 11195.388720703126,
           "timepoint": 51.6,
           "trajectory": "E_sol",
           "upper": 52205.5046875
          },
          {
           "lower": 11187.509375,
           "timepoint": 51.7,
           "trajectory": "E_sol",
           "upper": 52320.833203124996
          },
          {
           "lower": 11179.63388671875,
           "timepoint": 51.8,
           "trajectory": "E_sol",
           "upper": 52436.363476562496
          },
          {
           "lower": 11171.7619140625,
           "timepoint": 51.9,
           "trajectory": "E_sol",
           "upper": 52552.107421875
          },
          {
           "lower": 11163.893212890625,
           "timepoint": 52,
           "trajectory": "E_sol",
           "upper": 52668.049609375
          },
          {
           "lower": 11156.027783203124,
           "timepoint": 52.1,
           "trajectory": "E_sol",
           "upper": 52784.201367187496
          },
          {
           "lower": 11148.16748046875,
           "timepoint": 52.2,
           "trajectory": "E_sol",
           "upper": 52900.5671875
          },
          {
           "lower": 11140.310400390625,
           "timepoint": 52.3,
           "trajectory": "E_sol",
           "upper": 53017.134960937496
          },
          {
           "lower": 11132.476025390624,
           "timepoint": 52.4,
           "trajectory": "E_sol",
           "upper": 53133.8826171875
          },
          {
           "lower": 11124.62919921875,
           "timepoint": 52.5,
           "trajectory": "E_sol",
           "upper": 53250.8611328125
          },
          {
           "lower": 11116.785595703124,
           "timepoint": 52.6,
           "trajectory": "E_sol",
           "upper": 53368.0462890625
          },
          {
           "lower": 11108.947119140625,
           "timepoint": 52.7,
           "trajectory": "E_sol",
           "upper": 53485.448828125
          },
          {
           "lower": 11101.110986328125,
           "timepoint": 52.8,
           "trajectory": "E_sol",
           "upper": 53603.0533203125
          },
          {
           "lower": 11093.27900390625,
           "timepoint": 52.9,
           "trajectory": "E_sol",
           "upper": 53720.871484375
          },
          {
           "lower": 11085.453076171874,
           "timepoint": 53,
           "trajectory": "E_sol",
           "upper": 53838.8953125
          },
          {
           "lower": 11077.628564453125,
           "timepoint": 53.1,
           "trajectory": "E_sol",
           "upper": 53957.125390625
          },
          {
           "lower": 11069.807275390625,
           "timepoint": 53.2,
           "trajectory": "E_sol",
           "upper": 54075.5650390625
          },
          {
           "lower": 11061.992041015625,
           "timepoint": 53.3,
           "trajectory": "E_sol",
           "upper": 54194.214453125
          },
          {
           "lower": 11054.1791015625,
           "timepoint": 53.4,
           "trajectory": "E_sol",
           "upper": 54313.073828125
          },
          {
           "lower": 11046.371337890625,
           "timepoint": 53.5,
           "trajectory": "E_sol",
           "upper": 54432.138867187496
          },
          {
           "lower": 11038.567724609375,
           "timepoint": 53.6,
           "trajectory": "E_sol",
           "upper": 54551.4173828125
          },
          {
           "lower": 11030.766455078125,
           "timepoint": 53.7,
           "trajectory": "E_sol",
           "upper": 54670.9056640625
          },
          {
           "lower": 11022.9703125,
           "timepoint": 53.8,
           "trajectory": "E_sol",
           "upper": 54790.5923828125
          },
          {
           "lower": 11015.17734375,
           "timepoint": 53.9,
           "trajectory": "E_sol",
           "upper": 54910.500195312496
          },
          {
           "lower": 11007.38955078125,
           "timepoint": 54,
           "trajectory": "E_sol",
           "upper": 55030.6138671875
          },
          {
           "lower": 10999.603173828125,
           "timepoint": 54.1,
           "trajectory": "E_sol",
           "upper": 55150.9296875
          },
          {
           "lower": 10991.821337890626,
           "timepoint": 54.2,
           "trajectory": "E_sol",
           "upper": 55271.466796875
          },
          {
           "lower": 10984.044140625,
           "timepoint": 54.3,
           "trajectory": "E_sol",
           "upper": 55392.209765625
          },
          {
           "lower": 10976.271142578125,
           "timepoint": 54.4,
           "trajectory": "E_sol",
           "upper": 55513.1625
          },
          {
           "lower": 10968.501416015624,
           "timepoint": 54.5,
           "trajectory": "E_sol",
           "upper": 55634.3212890625
          },
          {
           "lower": 10960.734912109376,
           "timepoint": 54.6,
           "trajectory": "E_sol",
           "upper": 55755.689453125
          },
          {
           "lower": 10952.973486328125,
           "timepoint": 54.7,
           "trajectory": "E_sol",
           "upper": 55877.275390625
          },
          {
           "lower": 10945.215380859376,
           "timepoint": 54.8,
           "trajectory": "E_sol",
           "upper": 55999.059765624996
          },
          {
           "lower": 10937.4623046875,
           "timepoint": 54.9,
           "trajectory": "E_sol",
           "upper": 56121.0837890625
          },
          {
           "lower": 10929.724560546874,
           "timepoint": 55,
           "trajectory": "E_sol",
           "upper": 56243.2958984375
          },
          {
           "lower": 10921.979931640624,
           "timepoint": 55.1,
           "trajectory": "E_sol",
           "upper": 56365.7203125
          },
          {
           "lower": 10914.2384765625,
           "timepoint": 55.2,
           "trajectory": "E_sol",
           "upper": 56488.3619140625
          },
          {
           "lower": 10906.501220703125,
           "timepoint": 55.3,
           "trajectory": "E_sol",
           "upper": 56611.2095703125
          },
          {
           "lower": 10898.769091796876,
           "timepoint": 55.4,
           "trajectory": "E_sol",
           "upper": 56734.270703124996
          },
          {
           "lower": 10891.0392578125,
           "timepoint": 55.5,
           "trajectory": "E_sol",
           "upper": 56857.5416015625
          },
          {
           "lower": 10883.31455078125,
           "timepoint": 55.6,
           "trajectory": "E_sol",
           "upper": 56981.018359375
          },
          {
           "lower": 10875.592138671875,
           "timepoint": 55.7,
           "trajectory": "E_sol",
           "upper": 57104.71640625
          },
          {
           "lower": 10867.87578125,
           "timepoint": 55.8,
           "trajectory": "E_sol",
           "upper": 57228.616406249996
          },
          {
           "lower": 10860.161767578125,
           "timepoint": 55.9,
           "trajectory": "E_sol",
           "upper": 57352.7337890625
          },
          {
           "lower": 10852.45283203125,
           "timepoint": 56,
           "trajectory": "E_sol",
           "upper": 57477.0609375
          },
          {
           "lower": 10844.7490234375,
           "timepoint": 56.1,
           "trajectory": "E_sol",
           "upper": 57601.593945312496
          },
          {
           "lower": 10837.046533203125,
           "timepoint": 56.2,
           "trajectory": "E_sol",
           "upper": 57726.348046875
          },
          {
           "lower": 10829.3501953125,
           "timepoint": 56.3,
           "trajectory": "E_sol",
           "upper": 57851.307812499996
          },
          {
           "lower": 10821.656103515625,
           "timepoint": 56.4,
           "trajectory": "E_sol",
           "upper": 57976.4853515625
          },
          {
           "lower": 10813.967138671875,
           "timepoint": 56.5,
           "trajectory": "E_sol",
           "upper": 58101.86484375
          },
          {
           "lower": 10806.281396484375,
           "timepoint": 56.6,
           "trajectory": "E_sol",
           "upper": 58227.4615234375
          },
          {
           "lower": 10798.600830078125,
           "timepoint": 56.7,
           "trajectory": "E_sol",
           "upper": 58353.271875
          },
          {
           "lower": 10790.921533203125,
           "timepoint": 56.8,
           "trajectory": "E_sol",
           "upper": 58479.29921875
          },
          {
           "lower": 10783.249169921875,
           "timepoint": 56.9,
           "trajectory": "E_sol",
           "upper": 58605.529296875
          },
          {
           "lower": 10775.580029296874,
           "timepoint": 57,
           "trajectory": "E_sol",
           "upper": 58731.976171875
          },
          {
           "lower": 10767.91513671875,
           "timepoint": 57.1,
           "trajectory": "E_sol",
           "upper": 58858.6330078125
          },
          {
           "lower": 10760.25341796875,
           "timepoint": 57.2,
           "trajectory": "E_sol",
           "upper": 58985.5072265625
          },
          {
           "lower": 10752.596875,
           "timepoint": 57.3,
           "trajectory": "E_sol",
           "upper": 59112.5908203125
          },
          {
           "lower": 10744.94443359375,
           "timepoint": 57.4,
           "trajectory": "E_sol",
           "upper": 59239.91796875
          },
          {
           "lower": 10737.29619140625,
           "timepoint": 57.5,
           "trajectory": "E_sol",
           "upper": 59367.42421875
          },
          {
           "lower": 10729.651171875,
           "timepoint": 57.6,
           "trajectory": "E_sol",
           "upper": 59495.14453125
          },
          {
           "lower": 10722.01123046875,
           "timepoint": 57.7,
           "trajectory": "E_sol",
           "upper": 59623.086328125
          },
          {
           "lower": 10714.350439453125,
           "timepoint": 57.8,
           "trajectory": "E_sol",
           "upper": 59751.23359375
          },
          {
           "lower": 10706.716015625,
           "timepoint": 57.9,
           "trajectory": "E_sol",
           "upper": 59879.5984375
          },
          {
           "lower": 10699.085009765626,
           "timepoint": 58,
           "trajectory": "E_sol",
           "upper": 60008.1689453125
          },
          {
           "lower": 10691.4580078125,
           "timepoint": 58.1,
           "trajectory": "E_sol",
           "upper": 60136.956640625
          },
          {
           "lower": 10683.835205078125,
           "timepoint": 58.2,
           "trajectory": "E_sol",
           "upper": 60265.958203125
          },
          {
           "lower": 10676.215673828125,
           "timepoint": 58.3,
           "trajectory": "E_sol",
           "upper": 60395.165625
          },
          {
           "lower": 10668.60126953125,
           "timepoint": 58.4,
           "trajectory": "E_sol",
           "upper": 60524.598046875
          },
          {
           "lower": 10660.989111328125,
           "timepoint": 58.5,
           "trajectory": "E_sol",
           "upper": 60654.2359375
          },
          {
           "lower": 10653.382080078125,
           "timepoint": 58.6,
           "trajectory": "E_sol",
           "upper": 60784.0873046875
          },
          {
           "lower": 10645.779248046874,
           "timepoint": 58.7,
           "trajectory": "E_sol",
           "upper": 60914.15625
          },
          {
           "lower": 10638.1787109375,
           "timepoint": 58.8,
           "trajectory": "E_sol",
           "upper": 61044.4271484375
          },
          {
           "lower": 10630.58330078125,
           "timepoint": 58.9,
           "trajectory": "E_sol",
           "upper": 61174.923046875
          },
          {
           "lower": 10622.9919921875,
           "timepoint": 59,
           "trajectory": "E_sol",
           "upper": 61305.624609375
          },
          {
           "lower": 10615.40400390625,
           "timepoint": 59.1,
           "trajectory": "E_sol",
           "upper": 61436.5396484375
          },
          {
           "lower": 10607.8201171875,
           "timepoint": 59.2,
           "trajectory": "E_sol",
           "upper": 61567.6759765625
          },
          {
           "lower": 10600.2404296875,
           "timepoint": 59.3,
           "trajectory": "E_sol",
           "upper": 61699.014453125
          },
          {
           "lower": 10592.664892578125,
           "timepoint": 59.4,
           "trajectory": "E_sol",
           "upper": 61830.5736328125
          },
          {
           "lower": 10585.092626953125,
           "timepoint": 59.5,
           "trajectory": "E_sol",
           "upper": 61962.346484375
          },
          {
           "lower": 10577.52451171875,
           "timepoint": 59.6,
           "trajectory": "E_sol",
           "upper": 62094.3251953125
          },
          {
           "lower": 10569.959765625,
           "timepoint": 59.7,
           "trajectory": "E_sol",
           "upper": 62226.5326171875
          },
          {
           "lower": 10562.399951171876,
           "timepoint": 59.8,
           "trajectory": "E_sol",
           "upper": 62359.0087890625
          },
          {
           "lower": 10554.84326171875,
           "timepoint": 59.9,
           "trajectory": "E_sol",
           "upper": 62491.6431640625
          },
          {
           "lower": 10547.289892578125,
           "timepoint": 60,
           "trajectory": "E_sol",
           "upper": 62624.486328125
          },
          {
           "lower": 10539.742578125,
           "timepoint": 60.1,
           "trajectory": "E_sol",
           "upper": 62757.5435546875
          },
          {
           "lower": 10532.197509765625,
           "timepoint": 60.2,
           "trajectory": "E_sol",
           "upper": 62890.8181640625
          },
          {
           "lower": 10524.656640625,
           "timepoint": 60.3,
           "trajectory": "E_sol",
           "upper": 63024.3025390625
          },
          {
           "lower": 10517.119921875,
           "timepoint": 60.4,
           "trajectory": "E_sol",
           "upper": 63158.0076171875
          },
          {
           "lower": 10509.587353515624,
           "timepoint": 60.5,
           "trajectory": "E_sol",
           "upper": 63291.9224609375
          },
          {
           "lower": 10502.057958984375,
           "timepoint": 60.6,
           "trajectory": "E_sol",
           "upper": 63424.2259765625
          },
          {
           "lower": 10494.5328125,
           "timepoint": 60.7,
           "trajectory": "E_sol",
           "upper": 63552.4859375
          },
          {
           "lower": 10487.02294921875,
           "timepoint": 60.8,
           "trajectory": "E_sol",
           "upper": 63680.9345703125
          },
          {
           "lower": 10479.506982421875,
           "timepoint": 60.9,
           "trajectory": "E_sol",
           "upper": 63809.579296875
          },
          {
           "lower": 10471.994287109375,
           "timepoint": 61,
           "trajectory": "E_sol",
           "upper": 63938.4021484375
          },
          {
           "lower": 10464.485791015624,
           "timepoint": 61.1,
           "trajectory": "E_sol",
           "upper": 64067.4095703125
          },
          {
           "lower": 10456.9814453125,
           "timepoint": 61.2,
           "trajectory": "E_sol",
           "upper": 64196.6173828125
          },
          {
           "lower": 10449.48125,
           "timepoint": 61.3,
           "trajectory": "E_sol",
           "upper": 64326.006640625
          },
          {
           "lower": 10441.984326171874,
           "timepoint": 61.4,
           "trajectory": "E_sol",
           "upper": 64455.58515625
          },
          {
           "lower": 10434.492431640625,
           "timepoint": 61.5,
           "trajectory": "E_sol",
           "upper": 64585.3478515625
          },
          {
           "lower": 10427.00380859375,
           "timepoint": 61.6,
           "trajectory": "E_sol",
           "upper": 64715.2962890625
          },
          {
           "lower": 10419.51923828125,
           "timepoint": 61.7,
           "trajectory": "E_sol",
           "upper": 64845.441015625
          },
          {
           "lower": 10412.038037109374,
           "timepoint": 61.8,
           "trajectory": "E_sol",
           "upper": 64975.7708984375
          },
          {
           "lower": 10404.56181640625,
           "timepoint": 61.9,
           "trajectory": "E_sol",
           "upper": 65106.29375
          },
          {
           "lower": 10397.08896484375,
           "timepoint": 62,
           "trajectory": "E_sol",
           "upper": 65236.98984375
          },
          {
           "lower": 2.9084671615553506e-10,
           "timepoint": 0,
           "trajectory": "H_sol",
           "upper": 4.457405694546779e-10
          },
          {
           "lower": 0.29138355553150175,
           "timepoint": 0.1,
           "trajectory": "H_sol",
           "upper": 0.4464787647128105
          },
          {
           "lower": 0.5839229464530945,
           "timepoint": 0.2,
           "trajectory": "H_sol",
           "upper": 0.8945684731006622
          },
          {
           "lower": 0.8777424186468125,
           "timepoint": 0.3,
           "trajectory": "H_sol",
           "upper": 1.344473797082901
          },
          {
           "lower": 1.1729688882827758,
           "timepoint": 0.4,
           "trajectory": "H_sol",
           "upper": 1.7963981807231904
          },
          {
           "lower": 1.4697301268577576,
           "timepoint": 0.5,
           "trajectory": "H_sol",
           "upper": 2.250550413131714
          },
          {
           "lower": 1.7681562423706054,
           "timepoint": 0.6,
           "trajectory": "H_sol",
           "upper": 2.7057336568832397
          },
          {
           "lower": 2.068376350402832,
           "timepoint": 0.7,
           "trajectory": "H_sol",
           "upper": 3.162535274028778
          },
          {
           "lower": 2.370527482032776,
           "timepoint": 0.8,
           "trajectory": "H_sol",
           "upper": 3.6214979767799376
          },
          {
           "lower": 2.674742949008942,
           "timepoint": 0.9,
           "trajectory": "H_sol",
           "upper": 4.0828170537948605
          },
          {
           "lower": 2.981160581111908,
           "timepoint": 1,
           "trajectory": "H_sol",
           "upper": 4.546682405471802
          },
          {
           "lower": 3.2899187803268433,
           "timepoint": 1.1,
           "trajectory": "H_sol",
           "upper": 5.0132897853851315
          },
          {
           "lower": 3.60115886926651,
           "timepoint": 1.2,
           "trajectory": "H_sol",
           "upper": 5.482814741134644
          },
          {
           "lower": 3.9150230169296263,
           "timepoint": 1.3,
           "trajectory": "H_sol",
           "upper": 5.955479693412781
          },
          {
           "lower": 4.231656622886658,
           "timepoint": 1.4,
           "trajectory": "H_sol",
           "upper": 6.431475639343262
          },
          {
           "lower": 4.551212167739868,
           "timepoint": 1.5,
           "trajectory": "H_sol",
           "upper": 6.911002659797668
          },
          {
           "lower": 4.873831009864807,
           "timepoint": 1.6,
           "trajectory": "H_sol",
           "upper": 7.3942773818969725
          },
          {
           "lower": 5.199665427207947,
           "timepoint": 1.7,
           "trajectory": "H_sol",
           "upper": 7.881489181518554
          },
          {
           "lower": 5.528869223594666,
           "timepoint": 1.8,
           "trajectory": "H_sol",
           "upper": 8.37285270690918
          },
          {
           "lower": 5.8615975856781,
           "timepoint": 1.9,
           "trajectory": "H_sol",
           "upper": 8.868580961227417
          },
          {
           "lower": 6.198029613494873,
           "timepoint": 2,
           "trajectory": "H_sol",
           "upper": 9.368887138366699
          },
          {
           "lower": 6.538294863700867,
           "timepoint": 2.1,
           "trajectory": "H_sol",
           "upper": 9.87398943901062
          },
          {
           "lower": 6.882569479942322,
           "timepoint": 2.2,
           "trajectory": "H_sol",
           "upper": 10.384105348587036
          },
          {
           "lower": 7.231016349792481,
           "timepoint": 2.3,
           "trajectory": "H_sol",
           "upper": 10.899208784103394
          },
          {
           "lower": 7.583807730674744,
           "timepoint": 2.4,
           "trajectory": "H_sol",
           "upper": 11.419415807723999
          },
          {
           "lower": 7.941119265556336,
           "timepoint": 2.5,
           "trajectory": "H_sol",
           "upper": 11.945248794555663
          },
          {
           "lower": 8.303110456466674,
           "timepoint": 2.6,
           "trajectory": "H_sol",
           "upper": 12.476934051513672
          },
          {
           "lower": 8.66996488571167,
           "timepoint": 2.7,
           "trajectory": "H_sol",
           "upper": 13.01470832824707
          },
          {
           "lower": 9.041860342025757,
           "timepoint": 2.8,
           "trajectory": "H_sol",
           "upper": 13.558801984786987
          },
          {
           "lower": 9.418978404998779,
           "timepoint": 2.9,
           "trajectory": "H_sol",
           "upper": 14.10945439338684
          },
          {
           "lower": 9.801529598236083,
           "timepoint": 3,
           "trajectory": "H_sol",
           "upper": 14.666905498504638
          },
          {
           "lower": 10.189662790298462,
           "timepoint": 3.1,
           "trajectory": "H_sol",
           "upper": 15.231402587890624
          },
          {
           "lower": 10.583589363098145,
           "timepoint": 3.2,
           "trajectory": "H_sol",
           "upper": 15.803216743469237
          },
          {
           "lower": 10.983503293991088,
           "timepoint": 3.3,
           "trajectory": "H_sol",
           "upper": 16.3825590133667
          },
          {
           "lower": 11.389604520797729,
           "timepoint": 3.4,
           "trajectory": "H_sol",
           "upper": 16.969703578948973
          },
          {
           "lower": 11.80207371711731,
           "timepoint": 3.5,
           "trajectory": "H_sol",
           "upper": 17.564905261993406
          },
          {
           "lower": 12.221144771575927,
           "timepoint": 3.6,
           "trajectory": "H_sol",
           "upper": 18.16842975616455
          },
          {
           "lower": 12.647017097473144,
           "timepoint": 3.7,
           "trajectory": "H_sol",
           "upper": 18.780544853210447
          },
          {
           "lower": 13.08143663406372,
           "timepoint": 3.8,
           "trajectory": "H_sol",
           "upper": 19.401546955108643
          },
          {
           "lower": 13.526989555358886,
           "timepoint": 3.9,
           "trajectory": "H_sol",
           "upper": 20.031673049926756
          },
          {
           "lower": 13.980380153656006,
           "timepoint": 4,
           "trajectory": "H_sol",
           "upper": 20.671216773986817
          },
          {
           "lower": 14.441850423812866,
           "timepoint": 4.1,
           "trajectory": "H_sol",
           "upper": 21.32046413421631
          },
          {
           "lower": 14.91163902282715,
           "timepoint": 4.2,
           "trajectory": "H_sol",
           "upper": 21.97970209121704
          },
          {
           "lower": 15.389995574951172,
           "timepoint": 4.3,
           "trajectory": "H_sol",
           "upper": 22.649228382110596
          },
          {
           "lower": 15.877168083190918,
           "timepoint": 4.4,
           "trajectory": "H_sol",
           "upper": 23.35055360794067
          },
          {
           "lower": 16.373412322998046,
           "timepoint": 4.5,
           "trajectory": "H_sol",
           "upper": 24.068853473663328
          },
          {
           "lower": 16.87899179458618,
           "timepoint": 4.6,
           "trajectory": "H_sol",
           "upper": 24.800150203704835
          },
          {
           "lower": 17.3947434425354,
           "timepoint": 4.7,
           "trajectory": "H_sol",
           "upper": 25.544812965393067
          },
          {
           "lower": 17.920959186553954,
           "timepoint": 4.8,
           "trajectory": "H_sol",
           "upper": 26.303224945068358
          },
          {
           "lower": 18.457401943206786,
           "timepoint": 4.9,
           "trajectory": "H_sol",
           "upper": 27.07573175430298
          },
          {
           "lower": 19.00435667037964,
           "timepoint": 5,
           "trajectory": "H_sol",
           "upper": 27.86277856826782
          },
          {
           "lower": 19.562116146087646,
           "timepoint": 5.1,
           "trajectory": "H_sol",
           "upper": 28.664737510681153
          },
          {
           "lower": 20.140802669525147,
           "timepoint": 5.2,
           "trajectory": "H_sol",
           "upper": 29.482026863098145
          },
          {
           "lower": 20.736728572845458,
           "timepoint": 5.3,
           "trajectory": "H_sol",
           "upper": 30.315060329437255
          },
          {
           "lower": 21.345377922058105,
           "timepoint": 5.4,
           "trajectory": "H_sol",
           "upper": 31.164256000518797
          },
          {
           "lower": 21.9670090675354,
           "timepoint": 5.5,
           "trajectory": "H_sol",
           "upper": 32.03005084991455
          },
          {
           "lower": 22.590050792694093,
           "timepoint": 5.6,
           "trajectory": "H_sol",
           "upper": 32.912858200073245
          },
          {
           "lower": 23.2050461769104,
           "timepoint": 5.7,
           "trajectory": "H_sol",
           "upper": 33.81317653656006
          },
          {
           "lower": 23.83216562271118,
           "timepoint": 5.8,
           "trajectory": "H_sol",
           "upper": 34.70151138305664
          },
          {
           "lower": 24.47171268463135,
           "timepoint": 5.9,
           "trajectory": "H_sol",
           "upper": 35.59887561798096
          },
          {
           "lower": 25.124028873443603,
           "timepoint": 6,
           "trajectory": "H_sol",
           "upper": 36.51289710998535
          },
          {
           "lower": 25.792115783691408,
           "timepoint": 6.1,
           "trajectory": "H_sol",
           "upper": 37.44402866363525
          },
          {
           "lower": 26.487525463104248,
           "timepoint": 6.2,
           "trajectory": "H_sol",
           "upper": 38.39267559051514
          },
          {
           "lower": 27.19765281677246,
           "timepoint": 6.3,
           "trajectory": "H_sol",
           "upper": 39.35927562713623
          },
          {
           "lower": 27.92283754348755,
           "timepoint": 6.4,
           "trajectory": "H_sol",
           "upper": 40.344264602661134
          },
          {
           "lower": 28.66352128982544,
           "timepoint": 6.5,
           "trajectory": "H_sol",
           "upper": 41.38818225860596
          },
          {
           "lower": 29.420089435577392,
           "timepoint": 6.6,
           "trajectory": "H_sol",
           "upper": 42.45878849029541
          },
          {
           "lower": 30.192934608459474,
           "timepoint": 6.7,
           "trajectory": "H_sol",
           "upper": 43.551736450195314
          },
          {
           "lower": 30.982487392425536,
           "timepoint": 6.8,
           "trajectory": "H_sol",
           "upper": 44.66757774353027
          },
          {
           "lower": 31.78916177749634,
           "timepoint": 6.9,
           "trajectory": "H_sol",
           "upper": 45.80685234069824
          },
          {
           "lower": 32.61339073181152,
           "timepoint": 7,
           "trajectory": "H_sol",
           "upper": 46.970168304443355
          },
          {
           "lower": 33.455627250671384,
           "timepoint": 7.1,
           "trajectory": "H_sol",
           "upper": 48.158103942871094
          },
          {
           "lower": 34.31631565093994,
           "timepoint": 7.2,
           "trajectory": "H_sol",
           "upper": 49.37126693725586
          },
          {
           "lower": 35.19593734741211,
           "timepoint": 7.3,
           "trajectory": "H_sol",
           "upper": 50.61041069030762
          },
          {
           "lower": 36.094950675964355,
           "timepoint": 7.4,
           "trajectory": "H_sol",
           "upper": 51.875976181030275
          },
          {
           "lower": 37.0138557434082,
           "timepoint": 7.5,
           "trajectory": "H_sol",
           "upper": 53.1686954498291
          },
          {
           "lower": 37.95314617156983,
           "timepoint": 7.6,
           "trajectory": "H_sol",
           "upper": 54.489230728149415
          },
          {
           "lower": 38.91320304870605,
           "timepoint": 7.7,
           "trajectory": "H_sol",
           "upper": 55.838257789611816
          },
          {
           "lower": 39.89474678039551,
           "timepoint": 7.8,
           "trajectory": "H_sol",
           "upper": 57.21648979187012
          },
          {
           "lower": 40.8982120513916,
           "timepoint": 7.9,
           "trajectory": "H_sol",
           "upper": 58.62461814880371
          },
          {
           "lower": 41.9241548538208,
           "timepoint": 8,
           "trajectory": "H_sol",
           "upper": 60.06331729888916
          },
          {
           "lower": 42.97312831878662,
           "timepoint": 8.1,
           "trajectory": "H_sol",
           "upper": 61.53342361450195
          },
          {
           "lower": 44.04568996429443,
           "timepoint": 8.2,
           "trajectory": "H_sol",
           "upper": 63.0356294631958
          },
          {
           "lower": 45.14244270324707,
           "timepoint": 8.3,
           "trajectory": "H_sol",
           "upper": 64.5707504272461
          },
          {
           "lower": 46.263912963867185,
           "timepoint": 8.4,
           "trajectory": "H_sol",
           "upper": 66.13953056335448
          },
          {
           "lower": 47.41079483032227,
           "timepoint": 8.5,
           "trajectory": "H_sol",
           "upper": 67.74282760620117
          },
          {
           "lower": 48.583679389953616,
           "timepoint": 8.6,
           "trajectory": "H_sol",
           "upper": 69.38144416809082
          },
          {
           "lower": 49.78318214416504,
           "timepoint": 8.7,
           "trajectory": "H_sol",
           "upper": 71.05616302490235
          },
          {
           "lower": 51.00998039245606,
           "timepoint": 8.8,
           "trajectory": "H_sol",
           "upper": 72.76794967651367
          },
          {
           "lower": 52.26471424102783,
           "timepoint": 8.9,
           "trajectory": "H_sol",
           "upper": 74.5176242828369
          },
          {
           "lower": 53.54810390472412,
           "timepoint": 9,
           "trajectory": "H_sol",
           "upper": 76.3061134338379
          },
          {
           "lower": 54.86067981719971,
           "timepoint": 9.1,
           "trajectory": "H_sol",
           "upper": 78.13433074951172
          },
          {
           "lower": 56.20336837768555,
           "timepoint": 9.2,
           "trajectory": "H_sol",
           "upper": 80.00320625305176
          },
          {
           "lower": 57.57682342529297,
           "timepoint": 9.3,
           "trajectory": "H_sol",
           "upper": 81.91373405456542
          },
          {
           "lower": 58.98177375793457,
           "timepoint": 9.4,
           "trajectory": "H_sol",
           "upper": 83.8669261932373
          },
          {
           "lower": 60.41900978088379,
           "timepoint": 9.5,
           "trajectory": "H_sol",
           "upper": 85.86373405456543
          },
          {
           "lower": 61.88928623199463,
           "timepoint": 9.6,
           "trajectory": "H_sol",
           "upper": 87.90519561767577
          },
          {
           "lower": 63.393398475646975,
           "timepoint": 9.7,
           "trajectory": "H_sol",
           "upper": 89.99030265808105
          },
          {
           "lower": 64.93209114074708,
           "timepoint": 9.8,
           "trajectory": "H_sol",
           "upper": 92.1212100982666
          },
          {
           "lower": 66.50633087158204,
           "timepoint": 9.9,
           "trajectory": "H_sol",
           "upper": 94.29983406066894
          },
          {
           "lower": 68.1169448852539,
           "timepoint": 10,
           "trajectory": "H_sol",
           "upper": 96.52734985351562
          },
          {
           "lower": 69.76476821899413,
           "timepoint": 10.1,
           "trajectory": "H_sol",
           "upper": 98.80490684509277
          },
          {
           "lower": 71.34941139221192,
           "timepoint": 10.2,
           "trajectory": "H_sol",
           "upper": 101.13361778259276
          },
          {
           "lower": 72.96627731323242,
           "timepoint": 10.3,
           "trajectory": "H_sol",
           "upper": 103.51475067138672
          },
          {
           "lower": 74.61790580749512,
           "timepoint": 10.4,
           "trajectory": "H_sol",
           "upper": 105.949462890625
          },
          {
           "lower": 76.305131149292,
           "timepoint": 10.5,
           "trajectory": "H_sol",
           "upper": 108.43907661437989
          },
          {
           "lower": 78.02872734069824,
           "timepoint": 10.6,
           "trajectory": "H_sol",
           "upper": 110.98483581542969
          },
          {
           "lower": 79.78949127197265,
           "timepoint": 10.7,
           "trajectory": "H_sol",
           "upper": 113.58804664611816
          },
          {
           "lower": 81.58844032287598,
           "timepoint": 10.8,
           "trajectory": "H_sol",
           "upper": 116.24995918273926
          },
          {
           "lower": 83.42617111206054,
           "timepoint": 10.9,
           "trajectory": "H_sol",
           "upper": 118.97212181091308
          },
          {
           "lower": 85.30368881225586,
           "timepoint": 11,
           "trajectory": "H_sol",
           "upper": 121.75588569641113
          },
          {
           "lower": 87.22236633300781,
           "timepoint": 11.1,
           "trajectory": "H_sol",
           "upper": 124.60264892578125
          },
          {
           "lower": 89.18309135437012,
           "timepoint": 11.2,
           "trajectory": "H_sol",
           "upper": 127.51387100219726
          },
          {
           "lower": 91.18638648986817,
           "timepoint": 11.3,
           "trajectory": "H_sol",
           "upper": 130.4910919189453
          },
          {
           "lower": 93.233158493042,
           "timepoint": 11.4,
           "trajectory": "H_sol",
           "upper": 133.5358154296875
          },
          {
           "lower": 95.32437705993652,
           "timepoint": 11.5,
           "trajectory": "H_sol",
           "upper": 136.6496154785156
          },
          {
           "lower": 97.46108551025391,
           "timepoint": 11.6,
           "trajectory": "H_sol",
           "upper": 139.83409957885743
          },
          {
           "lower": 99.64425964355469,
           "timepoint": 11.7,
           "trajectory": "H_sol",
           "upper": 143.04803619384765
          },
          {
           "lower": 101.87497940063477,
           "timepoint": 11.8,
           "trajectory": "H_sol",
           "upper": 146.30336151123046
          },
          {
           "lower": 104.15425834655761,
           "timepoint": 11.9,
           "trajectory": "H_sol",
           "upper": 149.6308723449707
          },
          {
           "lower": 106.48323211669921,
           "timepoint": 12,
           "trajectory": "H_sol",
           "upper": 153.03228378295898
          },
          {
           "lower": 108.86298522949218,
           "timepoint": 12.1,
           "trajectory": "H_sol",
           "upper": 156.5089027404785
          },
          {
           "lower": 111.29463691711426,
           "timepoint": 12.2,
           "trajectory": "H_sol",
           "upper": 160.06292572021485
          },
          {
           "lower": 113.7791675567627,
           "timepoint": 12.3,
           "trajectory": "H_sol",
           "upper": 163.80499725341798
          },
          {
           "lower": 116.31806831359863,
           "timepoint": 12.4,
           "trajectory": "H_sol",
           "upper": 167.70495147705077
          },
          {
           "lower": 118.91242561340331,
           "timepoint": 12.5,
           "trajectory": "H_sol",
           "upper": 171.69626693725587
          },
          {
           "lower": 121.56346778869629,
           "timepoint": 12.6,
           "trajectory": "H_sol",
           "upper": 175.78104400634766
          },
          {
           "lower": 124.27243232727051,
           "timepoint": 12.7,
           "trajectory": "H_sol",
           "upper": 179.96148452758788
          },
          {
           "lower": 127.04066276550293,
           "timepoint": 12.8,
           "trajectory": "H_sol",
           "upper": 184.2399459838867
          },
          {
           "lower": 129.86941299438476,
           "timepoint": 12.9,
           "trajectory": "H_sol",
           "upper": 188.5367446899414
          },
          {
           "lower": 132.76005325317382,
           "timepoint": 13,
           "trajectory": "H_sol",
           "upper": 192.91413497924805
          },
          {
           "lower": 135.7139663696289,
           "timepoint": 13.1,
           "trajectory": "H_sol",
           "upper": 197.39173889160156
          },
          {
           "lower": 138.7325309753418,
           "timepoint": 13.2,
           "trajectory": "H_sol",
           "upper": 201.97186126708985
          },
          {
           "lower": 141.8479202270508,
           "timepoint": 13.3,
           "trajectory": "H_sol",
           "upper": 206.65690231323242
          },
          {
           "lower": 145.13310470581055,
           "timepoint": 13.4,
           "trajectory": "H_sol",
           "upper": 211.44925231933593
          },
          {
           "lower": 148.4934959411621,
           "timepoint": 13.5,
           "trajectory": "H_sol",
           "upper": 216.35141143798828
          },
          {
           "lower": 151.93079299926757,
           "timepoint": 13.6,
           "trajectory": "H_sol",
           "upper": 221.3659797668457
          },
          {
           "lower": 155.3720245361328,
           "timepoint": 13.7,
           "trajectory": "H_sol",
           "upper": 226.49515533447266
          },
          {
           "lower": 158.61381072998046,
           "timepoint": 13.8,
           "trajectory": "H_sol",
           "upper": 231.74215698242188
          },
          {
           "lower": 161.9221618652344,
           "timepoint": 13.9,
           "trajectory": "H_sol",
           "upper": 237.10947265625
          },
          {
           "lower": 165.40771865844727,
           "timepoint": 14,
           "trajectory": "H_sol",
           "upper": 242.59990768432615
          },
          {
           "lower": 169.19454650878907,
           "timepoint": 14.1,
           "trajectory": "H_sol",
           "upper": 248.2162727355957
          },
          {
           "lower": 173.0672393798828,
           "timepoint": 14.2,
           "trajectory": "H_sol",
           "upper": 253.96144943237303
          },
          {
           "lower": 177.0277976989746,
           "timepoint": 14.3,
           "trajectory": "H_sol",
           "upper": 259.8385330200195
          },
          {
           "lower": 181.07784729003907,
           "timepoint": 14.4,
           "trajectory": "H_sol",
           "upper": 265.8503814697265
          },
          {
           "lower": 185.22005462646484,
           "timepoint": 14.5,
           "trajectory": "H_sol",
           "upper": 272.00023956298827
          },
          {
           "lower": 189.45628051757814,
           "timepoint": 14.6,
           "trajectory": "H_sol",
           "upper": 278.2913131713867
          },
          {
           "lower": 193.78855667114257,
           "timepoint": 14.7,
           "trajectory": "H_sol",
           "upper": 284.72676849365234
          },
          {
           "lower": 198.2192184448242,
           "timepoint": 14.8,
           "trajectory": "H_sol",
           "upper": 291.30998382568356
          },
          {
           "lower": 202.75036010742187,
           "timepoint": 14.9,
           "trajectory": "H_sol",
           "upper": 298.04438171386715
          },
          {
           "lower": 207.3844108581543,
           "timepoint": 15,
           "trajectory": "H_sol",
           "upper": 304.93346710205077
          },
          {
           "lower": 212.12392196655273,
           "timepoint": 15.1,
           "trajectory": "H_sol",
           "upper": 311.9806457519531
          },
          {
           "lower": 216.97081146240234,
           "timepoint": 15.2,
           "trajectory": "H_sol",
           "upper": 319.1897369384765
          },
          {
           "lower": 221.4514602661133,
           "timepoint": 15.3,
           "trajectory": "H_sol",
           "upper": 326.56451416015625
          },
          {
           "lower": 226.00955352783203,
           "timepoint": 15.4,
           "trajectory": "H_sol",
           "upper": 334.1043716430664
          },
          {
           "lower": 230.66075439453124,
           "timepoint": 15.5,
           "trajectory": "H_sol",
           "upper": 341.79706726074215
          },
          {
           "lower": 235.40690383911132,
           "timepoint": 15.6,
           "trajectory": "H_sol",
           "upper": 349.66593475341796
          },
          {
           "lower": 240.24990158081056,
           "timepoint": 15.7,
           "trajectory": "H_sol",
           "upper": 357.7149291992187
          },
          {
           "lower": 245.19183044433595,
           "timepoint": 15.8,
           "trajectory": "H_sol",
           "upper": 365.9484191894531
          },
          {
           "lower": 250.41297454833983,
           "timepoint": 15.9,
           "trajectory": "H_sol",
           "upper": 374.37050476074216
          },
          {
           "lower": 255.91759567260743,
           "timepoint": 16,
           "trajectory": "H_sol",
           "upper": 382.98553466796875
          },
          {
           "lower": 261.542546081543,
           "timepoint": 16.1,
           "trajectory": "H_sol",
           "upper": 391.7978775024414
          },
          {
           "lower": 267.2906021118164,
           "timepoint": 16.2,
           "trajectory": "H_sol",
           "upper": 400.8121200561523
          },
          {
           "lower": 273.16425170898435,
           "timepoint": 16.3,
           "trajectory": "H_sol",
           "upper": 410.0326431274414
          },
          {
           "lower": 279.1664611816406,
           "timepoint": 16.4,
           "trajectory": "H_sol",
           "upper": 419.4646270751953
          },
          {
           "lower": 285.29997100830076,
           "timepoint": 16.5,
           "trajectory": "H_sol",
           "upper": 429.1126373291016
          },
          {
           "lower": 291.5676528930664,
           "timepoint": 16.6,
           "trajectory": "H_sol",
           "upper": 438.98217163085934
          },
          {
           "lower": 297.9724975585938,
           "timepoint": 16.7,
           "trajectory": "H_sol",
           "upper": 449.07752227783203
          },
          {
           "lower": 304.51722717285156,
           "timepoint": 16.8,
           "trajectory": "H_sol",
           "upper": 459.40401153564454
          },
          {
           "lower": 311.20533752441406,
           "timepoint": 16.9,
           "trajectory": "H_sol",
           "upper": 469.96740264892577
          },
          {
           "lower": 318.03978576660154,
           "timepoint": 17,
           "trajectory": "H_sol",
           "upper": 480.7728469848633
          },
          {
           "lower": 325.02378234863284,
           "timepoint": 17.1,
           "trajectory": "H_sol",
           "upper": 491.82591705322267
          },
          {
           "lower": 332.16058044433595,
           "timepoint": 17.2,
           "trajectory": "H_sol",
           "upper": 503.1322906494141
          },
          {
           "lower": 339.45797271728514,
           "timepoint": 17.3,
           "trajectory": "H_sol",
           "upper": 514.3247924804688
          },
          {
           "lower": 346.96007232666017,
           "timepoint": 17.4,
           "trajectory": "H_sol",
           "upper": 525.7523712158203
          },
          {
           "lower": 354.6273849487305,
           "timepoint": 17.5,
           "trajectory": "H_sol",
           "upper": 537.4330413818359
          },
          {
           "lower": 362.4636978149414,
           "timepoint": 17.6,
           "trajectory": "H_sol",
           "upper": 549.5818115234375
          },
          {
           "lower": 370.47255859375,
           "timepoint": 17.7,
           "trajectory": "H_sol",
           "upper": 562.6505187988281
          },
          {
           "lower": 378.6577438354492,
           "timepoint": 17.8,
           "trajectory": "H_sol",
           "upper": 576.0296081542969
          },
          {
           "lower": 387.02338256835935,
           "timepoint": 17.9,
           "trajectory": "H_sol",
           "upper": 589.7262115478516
          },
          {
           "lower": 395.5732925415039,
           "timepoint": 18,
           "trajectory": "H_sol",
           "upper": 603.6312805175781
          },
          {
           "lower": 404.3115707397461,
           "timepoint": 18.1,
           "trajectory": "H_sol",
           "upper": 617.550405883789
          },
          {
           "lower": 413.24237060546875,
           "timepoint": 18.2,
           "trajectory": "H_sol",
           "upper": 632.1499328613281
          },
          {
           "lower": 422.36986083984374,
           "timepoint": 18.3,
           "trajectory": "H_sol",
           "upper": 647.2520141601562
          },
          {
           "lower": 431.6985290527344,
           "timepoint": 18.4,
           "trajectory": "H_sol",
           "upper": 662.7134979248046
          },
          {
           "lower": 441.2327545166016,
           "timepoint": 18.5,
           "trajectory": "H_sol",
           "upper": 678.5439697265625
          },
          {
           "lower": 450.9771530151367,
           "timepoint": 18.6,
           "trajectory": "H_sol",
           "upper": 694.7518737792968
          },
          {
           "lower": 460.9355712890625,
           "timepoint": 18.7,
           "trajectory": "H_sol",
           "upper": 711.3460632324219
          },
          {
           "lower": 471.11340179443357,
           "timepoint": 18.8,
           "trajectory": "H_sol",
           "upper": 728.3345031738281
          },
          {
           "lower": 481.5154083251953,
           "timepoint": 18.9,
           "trajectory": "H_sol",
           "upper": 745.7282257080078
          },
          {
           "lower": 492.6120834350586,
           "timepoint": 19,
           "trajectory": "H_sol",
           "upper": 763.5359344482422
          },
          {
           "lower": 504.1063171386719,
           "timepoint": 19.1,
           "trajectory": "H_sol",
           "upper": 781.7676727294922
          },
          {
           "lower": 515.8673736572266,
           "timepoint": 19.2,
           "trajectory": "H_sol",
           "upper": 800.4327911376953
          },
          {
           "lower": 527.9005889892578,
           "timepoint": 19.3,
           "trajectory": "H_sol",
           "upper": 819.5405364990235
          },
          {
           "lower": 540.2129577636719,
           "timepoint": 19.4,
           "trajectory": "H_sol",
           "upper": 839.1010192871094
          },
          {
           "lower": 552.8098724365234,
           "timepoint": 19.5,
           "trajectory": "H_sol",
           "upper": 859.1232666015625
          },
          {
           "lower": 565.693115234375,
           "timepoint": 19.6,
           "trajectory": "H_sol",
           "upper": 879.6143585205078
          },
          {
           "lower": 578.8702667236328,
           "timepoint": 19.7,
           "trajectory": "H_sol",
           "upper": 900.5546569824219
          },
          {
           "lower": 592.3407836914063,
           "timepoint": 19.8,
           "trajectory": "H_sol",
           "upper": 921.9343780517578
          },
          {
           "lower": 605.3233215332032,
           "timepoint": 19.9,
           "trajectory": "H_sol",
           "upper": 943.7907409667969
          },
          {
           "lower": 618.224008178711,
           "timepoint": 20,
           "trajectory": "H_sol",
           "upper": 966.1191467285156
          },
          {
           "lower": 631.3602294921875,
           "timepoint": 20.1,
           "trajectory": "H_sol",
           "upper": 988.9074798583985
          },
          {
           "lower": 644.7209167480469,
           "timepoint": 20.2,
           "trajectory": "H_sol",
           "upper": 1012.1382537841797
          },
          {
           "lower": 658.2905944824219,
           "timepoint": 20.3,
           "trajectory": "H_sol",
           "upper": 1035.7868225097657
          },
          {
           "lower": 672.05283203125,
           "timepoint": 20.4,
           "trajectory": "H_sol",
           "upper": 1059.8281616210938
          },
          {
           "lower": 685.9880889892578,
           "timepoint": 20.5,
           "trajectory": "H_sol",
           "upper": 1084.227716064453
          },
          {
           "lower": 700.077426147461,
           "timepoint": 20.6,
           "trajectory": "H_sol",
           "upper": 1108.9542541503906
          },
          {
           "lower": 714.2971618652343,
           "timepoint": 20.7,
           "trajectory": "H_sol",
           "upper": 1133.9732177734375
          },
          {
           "lower": 728.6303955078125,
           "timepoint": 20.8,
           "trajectory": "H_sol",
           "upper": 1159.2108947753907
          },
          {
           "lower": 743.0596313476562,
           "timepoint": 20.9,
           "trajectory": "H_sol",
           "upper": 1184.155743408203
          },
          {
           "lower": 757.5631530761718,
           "timepoint": 21,
           "trajectory": "H_sol",
           "upper": 1209.1065368652344
          },
          {
           "lower": 772.1245178222656,
           "timepoint": 21.1,
           "trajectory": "H_sol",
           "upper": 1234.1989440917969
          },
          {
           "lower": 786.7267761230469,
           "timepoint": 21.2,
           "trajectory": "H_sol",
           "upper": 1259.4061401367187
          },
          {
           "lower": 801.3541473388672,
           "timepoint": 21.3,
           "trajectory": "H_sol",
           "upper": 1284.7009582519531
          },
          {
           "lower": 815.992236328125,
           "timepoint": 21.4,
           "trajectory": "H_sol",
           "upper": 1310.0596618652344
          },
          {
           "lower": 830.6267944335938,
           "timepoint": 21.5,
           "trajectory": "H_sol",
           "upper": 1335.9994262695313
          },
          {
           "lower": 845.2449768066406,
           "timepoint": 21.6,
           "trajectory": "H_sol",
           "upper": 1363.2758666992188
          },
          {
           "lower": 859.834097290039,
           "timepoint": 21.7,
           "trajectory": "H_sol",
           "upper": 1390.613507080078
          },
          {
           "lower": 874.3826080322266,
           "timepoint": 21.8,
           "trajectory": "H_sol",
           "upper": 1417.992041015625
          },
          {
           "lower": 888.8804321289062,
           "timepoint": 21.9,
           "trajectory": "H_sol",
           "upper": 1445.3943481445312
          },
          {
           "lower": 903.3178161621094,
           "timepoint": 22,
           "trajectory": "H_sol",
           "upper": 1472.39736328125
          },
          {
           "lower": 918.0133544921875,
           "timepoint": 22.1,
           "trajectory": "H_sol",
           "upper": 1498.67900390625
          },
          {
           "lower": 933.5484741210937,
           "timepoint": 22.2,
           "trajectory": "H_sol",
           "upper": 1524.8626342773437
          },
          {
           "lower": 949.0456024169922,
           "timepoint": 22.3,
           "trajectory": "H_sol",
           "upper": 1550.9393310546875
          },
          {
           "lower": 964.484487915039,
           "timepoint": 22.4,
           "trajectory": "H_sol",
           "upper": 1576.9232238769532
          },
          {
           "lower": 979.8578338623047,
           "timepoint": 22.5,
           "trajectory": "H_sol",
           "upper": 1602.7991943359375
          },
          {
           "lower": 995.1592376708984,
           "timepoint": 22.6,
           "trajectory": "H_sol",
           "upper": 1628.5594604492187
          },
          {
           "lower": 1010.3814117431641,
           "timepoint": 22.7,
           "trajectory": "H_sol",
           "upper": 1654.1921691894531
          },
          {
           "lower": 1024.6304290771484,
           "timepoint": 22.8,
           "trajectory": "H_sol",
           "upper": 1679.6870422363281
          },
          {
           "lower": 1038.3027282714843,
           "timepoint": 22.9,
           "trajectory": "H_sol",
           "upper": 1705.0362670898437
          },
          {
           "lower": 1051.844921875,
           "timepoint": 23,
           "trajectory": "H_sol",
           "upper": 1730.2325500488282
          },
          {
           "lower": 1065.2529357910157,
           "timepoint": 23.1,
           "trajectory": "H_sol",
           "upper": 1755.2656677246093
          },
          {
           "lower": 1078.5861389160157,
           "timepoint": 23.2,
           "trajectory": "H_sol",
           "upper": 1780.1298400878907
          },
          {
           "lower": 1092.0468872070312,
           "timepoint": 23.3,
           "trajectory": "H_sol",
           "upper": 1804.8178833007812
          },
          {
           "lower": 1107.3544799804688,
           "timepoint": 23.4,
           "trajectory": "H_sol",
           "upper": 1829.3245727539063
          },
          {
           "lower": 1120.7034118652343,
           "timepoint": 23.5,
           "trajectory": "H_sol",
           "upper": 1853.650079345703
          },
          {
           "lower": 1133.2048828125,
           "timepoint": 23.6,
           "trajectory": "H_sol",
           "upper": 1877.7811706542968
          },
          {
           "lower": 1145.5501953125,
           "timepoint": 23.7,
           "trajectory": "H_sol",
           "upper": 1901.717059326172
          },
          {
           "lower": 1157.73681640625,
           "timepoint": 23.8,
           "trajectory": "H_sol",
           "upper": 1925.4538330078126
          },
          {
           "lower": 1169.7863403320312,
           "timepoint": 23.9,
           "trajectory": "H_sol",
           "upper": 1948.9883422851562
          },
          {
           "lower": 1181.682666015625,
           "timepoint": 24,
           "trajectory": "H_sol",
           "upper": 1972.3161193847657
          },
          {
           "lower": 1193.4172729492188,
           "timepoint": 24.1,
           "trajectory": "H_sol",
           "upper": 1995.4363708496094
          },
          {
           "lower": 1205.18134765625,
           "timepoint": 24.2,
           "trajectory": "H_sol",
           "upper": 2018.3461059570313
          },
          {
           "lower": 1217.3327331542969,
           "timepoint": 24.3,
           "trajectory": "H_sol",
           "upper": 2041.0428405761718
          },
          {
           "lower": 1229.333349609375,
           "timepoint": 24.4,
           "trajectory": "H_sol",
           "upper": 2063.52548828125
          },
          {
           "lower": 1241.182440185547,
           "timepoint": 24.5,
           "trajectory": "H_sol",
           "upper": 2085.7918701171875
          },
          {
           "lower": 1251.9409484863281,
           "timepoint": 24.6,
           "trajectory": "H_sol",
           "upper": 2108.1191528320314
          },
          {
           "lower": 1262.298406982422,
           "timepoint": 24.7,
           "trajectory": "H_sol",
           "upper": 2131.1315307617188
          },
          {
           "lower": 1272.4858154296876,
           "timepoint": 24.8,
           "trajectory": "H_sol",
           "upper": 2153.9487060546876
          },
          {
           "lower": 1282.50400390625,
           "timepoint": 24.9,
           "trajectory": "H_sol",
           "upper": 2176.2044677734375
          },
          {
           "lower": 1292.3529846191407,
           "timepoint": 25,
           "trajectory": "H_sol",
           "upper": 2197.463244628906
          },
          {
           "lower": 1302.03359375,
           "timepoint": 25.1,
           "trajectory": "H_sol",
           "upper": 2218.502197265625
          },
          {
           "lower": 1311.54609375,
           "timepoint": 25.2,
           "trajectory": "H_sol",
           "upper": 2239.3211059570312
          },
          {
           "lower": 1321.112109375,
           "timepoint": 25.3,
           "trajectory": "H_sol",
           "upper": 2259.9301635742186
          },
          {
           "lower": 1330.880841064453,
           "timepoint": 25.4,
           "trajectory": "H_sol",
           "upper": 2280.3162353515627
          },
          {
           "lower": 1340.4946655273438,
           "timepoint": 25.5,
           "trajectory": "H_sol",
           "upper": 2300.4851684570312
          },
          {
           "lower": 1349.9482177734376,
           "timepoint": 25.6,
           "trajectory": "H_sol",
           "upper": 2320.438439941406
          },
          {
           "lower": 1359.2451477050781,
           "timepoint": 25.7,
           "trajectory": "H_sol",
           "upper": 2340.176892089844
          },
          {
           "lower": 1368.3860778808594,
           "timepoint": 25.8,
           "trajectory": "H_sol",
           "upper": 2359.701513671875
          },
          {
           "lower": 1377.37314453125,
           "timepoint": 25.9,
           "trajectory": "H_sol",
           "upper": 2379.0151611328124
          },
          {
           "lower": 1386.2069946289062,
           "timepoint": 26,
           "trajectory": "H_sol",
           "upper": 2398.1174194335936
          },
          {
           "lower": 1394.8888671875,
           "timepoint": 26.1,
           "trajectory": "H_sol",
           "upper": 2417.579870605469
          },
          {
           "lower": 1403.4179931640624,
           "timepoint": 26.2,
           "trajectory": "H_sol",
           "upper": 2437.6512939453123
          },
          {
           "lower": 1411.7994262695313,
           "timepoint": 26.3,
           "trajectory": "H_sol",
           "upper": 2457.541760253906
          },
          {
           "lower": 1420.0331481933595,
           "timepoint": 26.4,
           "trajectory": "H_sol",
           "upper": 2477.257116699219
          },
          {
           "lower": 1428.1203857421874,
           "timepoint": 26.5,
           "trajectory": "H_sol",
           "upper": 2496.797619628906
          },
          {
           "lower": 1436.0624938964843,
           "timepoint": 26.6,
           "trajectory": "H_sol",
           "upper": 2516.1659301757813
          },
          {
           "lower": 1443.8614074707032,
           "timepoint": 26.7,
           "trajectory": "H_sol",
           "upper": 2535.3630615234374
          },
          {
           "lower": 1451.5181274414062,
           "timepoint": 26.8,
           "trajectory": "H_sol",
           "upper": 2554.3910278320313
          },
          {
           "lower": 1459.0349609375,
           "timepoint": 26.9,
           "trajectory": "H_sol",
           "upper": 2573.248193359375
          },
          {
           "lower": 1466.4127258300782,
           "timepoint": 27,
           "trajectory": "H_sol",
           "upper": 2591.9423828125
          },
          {
           "lower": 1473.6537536621095,
           "timepoint": 27.1,
           "trajectory": "H_sol",
           "upper": 2610.473193359375
          },
          {
           "lower": 1480.7591735839844,
           "timepoint": 27.2,
           "trajectory": "H_sol",
           "upper": 2628.8423706054687
          },
          {
           "lower": 1487.7305847167968,
           "timepoint": 27.3,
           "trajectory": "H_sol",
           "upper": 2647.052099609375
          },
          {
           "lower": 1494.5702819824219,
           "timepoint": 27.4,
           "trajectory": "H_sol",
           "upper": 2665.1043701171875
          },
          {
           "lower": 1501.279034423828,
           "timepoint": 27.5,
           "trajectory": "H_sol",
           "upper": 2683.0013427734375
          },
          {
           "lower": 1507.8602966308595,
           "timepoint": 27.6,
           "trajectory": "H_sol",
           "upper": 2700.7447143554687
          },
          {
           "lower": 1514.313720703125,
           "timepoint": 27.7,
           "trajectory": "H_sol",
           "upper": 2718.336962890625
          },
          {
           "lower": 1520.641619873047,
           "timepoint": 27.8,
           "trajectory": "H_sol",
           "upper": 2735.780041503906
          },
          {
           "lower": 1526.8462341308593,
           "timepoint": 27.9,
           "trajectory": "H_sol",
           "upper": 2753.0759033203126
          },
          {
           "lower": 1532.9289123535157,
           "timepoint": 28,
           "trajectory": "H_sol",
           "upper": 2770.2269897460938
          },
          {
           "lower": 1538.8916137695312,
           "timepoint": 28.1,
           "trajectory": "H_sol",
           "upper": 2787.2352416992185
          },
          {
           "lower": 1544.7361328125,
           "timepoint": 28.2,
           "trajectory": "H_sol",
           "upper": 2804.102392578125
          },
          {
           "lower": 1550.460955810547,
           "timepoint": 28.3,
           "trajectory": "H_sol",
           "upper": 2820.830395507812
          },
          {
           "lower": 1556.0725524902343,
           "timepoint": 28.4,
           "trajectory": "H_sol",
           "upper": 2837.4312377929687
          },
          {
           "lower": 1561.5702392578125,
           "timepoint": 28.5,
           "trajectory": "H_sol",
           "upper": 2853.8919067382812
          },
          {
           "lower": 1566.9564208984375,
           "timepoint": 28.6,
           "trajectory": "H_sol",
           "upper": 2870.2207641601562
          },
          {
           "lower": 1572.2322875976563,
           "timepoint": 28.7,
           "trajectory": "H_sol",
           "upper": 2886.42001953125
          },
          {
           "lower": 1577.3994140625,
           "timepoint": 28.8,
           "trajectory": "H_sol",
           "upper": 2902.491845703125
          },
          {
           "lower": 1582.4596435546875,
           "timepoint": 28.9,
           "trajectory": "H_sol",
           "upper": 2918.4366455078125
          },
          {
           "lower": 1587.414794921875,
           "timepoint": 29,
           "trajectory": "H_sol",
           "upper": 2934.1109252929687
          },
          {
           "lower": 1592.2659912109375,
           "timepoint": 29.1,
           "trajectory": "H_sol",
           "upper": 2949.66298828125
          },
          {
           "lower": 1597.0172607421875,
           "timepoint": 29.2,
           "trajectory": "H_sol",
           "upper": 2965.0948120117187
          },
          {
           "lower": 1601.6665954589844,
           "timepoint": 29.3,
           "trajectory": "H_sol",
           "upper": 2980.4060180664064
          },
          {
           "lower": 1606.2172424316407,
           "timepoint": 29.4,
           "trajectory": "H_sol",
           "upper": 2995.6026000976562
          },
          {
           "lower": 1610.6706481933593,
           "timepoint": 29.5,
           "trajectory": "H_sol",
           "upper": 3010.684948730469
          },
          {
           "lower": 1615.0282653808595,
           "timepoint": 29.6,
           "trajectory": "H_sol",
           "upper": 3023.3134765625
          },
          {
           "lower": 1619.292059326172,
           "timepoint": 29.7,
           "trajectory": "H_sol",
           "upper": 3035.261853027344
          },
          {
           "lower": 1623.463116455078,
           "timepoint": 29.8,
           "trajectory": "H_sol",
           "upper": 3047.0711059570312
          },
          {
           "lower": 1627.5430419921875,
           "timepoint": 29.9,
           "trajectory": "H_sol",
           "upper": 3058.743896484375
          },
          {
           "lower": 1631.5327087402343,
           "timepoint": 30,
           "trajectory": "H_sol",
           "upper": 3070.282373046875
          },
          {
           "lower": 1635.4347534179688,
           "timepoint": 30.1,
           "trajectory": "H_sol",
           "upper": 3081.6887451171874
          },
          {
           "lower": 1639.2502563476562,
           "timepoint": 30.2,
           "trajectory": "H_sol",
           "upper": 3092.9339965820313
          },
          {
           "lower": 1642.9805541992187,
           "timepoint": 30.3,
           "trajectory": "H_sol",
           "upper": 3103.998645019531
          },
          {
           "lower": 1646.6270446777344,
           "timepoint": 30.4,
           "trajectory": "H_sol",
           "upper": 3114.938830566406
          },
          {
           "lower": 1650.1913146972656,
           "timepoint": 30.5,
           "trajectory": "H_sol",
           "upper": 3125.7538940429686
          },
          {
           "lower": 1653.6886657714845,
           "timepoint": 30.6,
           "trajectory": "H_sol",
           "upper": 3136.4469482421873
          },
          {
           "lower": 1657.1087951660156,
           "timepoint": 30.7,
           "trajectory": "H_sol",
           "upper": 3147.0199951171876
          },
          {
           "lower": 1660.4507263183593,
           "timepoint": 30.8,
           "trajectory": "H_sol",
           "upper": 3157.47587890625
          },
          {
           "lower": 1663.7157043457032,
           "timepoint": 30.9,
           "trajectory": "H_sol",
           "upper": 3167.8163940429686
          },
          {
           "lower": 1666.9047058105468,
           "timepoint": 31,
           "trajectory": "H_sol",
           "upper": 3178.0429443359376
          },
          {
           "lower": 1670.0200134277343,
           "timepoint": 31.1,
           "trajectory": "H_sol",
           "upper": 3188.1591308593747
          },
          {
           "lower": 1672.643048095703,
           "timepoint": 31.2,
           "trajectory": "H_sol",
           "upper": 3198.1653076171874
          },
          {
           "lower": 1674.9328552246093,
           "timepoint": 31.3,
           "trajectory": "H_sol",
           "upper": 3208.0640625
          },
          {
           "lower": 1677.1478759765625,
           "timepoint": 31.4,
           "trajectory": "H_sol",
           "upper": 3217.8573974609376
          },
          {
           "lower": 1679.2894409179687,
           "timepoint": 31.5,
           "trajectory": "H_sol",
           "upper": 3227.546948242187
          },
          {
           "lower": 1681.3587524414063,
           "timepoint": 31.6,
           "trajectory": "H_sol",
           "upper": 3237.1351806640623
          },
          {
           "lower": 1683.3572998046875,
           "timepoint": 31.7,
           "trajectory": "H_sol",
           "upper": 3246.62353515625
          },
          {
           "lower": 1685.2861633300781,
           "timepoint": 31.8,
           "trajectory": "H_sol",
           "upper": 3256.013537597656
          },
          {
           "lower": 1687.1468139648437,
           "timepoint": 31.9,
           "trajectory": "H_sol",
           "upper": 3265.3080322265623
          },
          {
           "lower": 1688.9399780273438,
           "timepoint": 32,
           "trajectory": "H_sol",
           "upper": 3274.5078002929686
          },
          {
           "lower": 1690.6675659179687,
           "timepoint": 32.1,
           "trajectory": "H_sol",
           "upper": 3283.615478515625
          },
          {
           "lower": 1692.330712890625,
           "timepoint": 32.2,
           "trajectory": "H_sol",
           "upper": 3292.632336425781
          },
          {
           "lower": 1693.9303649902345,
           "timepoint": 32.3,
           "trajectory": "H_sol",
           "upper": 3301.559582519531
          },
          {
           "lower": 1695.4678771972656,
           "timepoint": 32.4,
           "trajectory": "H_sol",
           "upper": 3310.399865722656
          },
          {
           "lower": 1696.9439758300782,
           "timepoint": 32.5,
           "trajectory": "H_sol",
           "upper": 3319.1506958007812
          },
          {
           "lower": 1698.3604919433594,
           "timepoint": 32.6,
           "trajectory": "H_sol",
           "upper": 3328.5735107421874
          },
          {
           "lower": 1699.7178527832032,
           "timepoint": 32.7,
           "trajectory": "H_sol",
           "upper": 3340.292236328125
          },
          {
           "lower": 1701.0175537109376,
           "timepoint": 32.8,
           "trajectory": "H_sol",
           "upper": 3351.955090332031
          },
          {
           "lower": 1702.2605712890625,
           "timepoint": 32.9,
           "trajectory": "H_sol",
           "upper": 3363.56337890625
          },
          {
           "lower": 1703.4481018066406,
           "timepoint": 33,
           "trajectory": "H_sol",
           "upper": 3375.108056640625
          },
          {
           "lower": 1704.581365966797,
           "timepoint": 33.1,
           "trajectory": "H_sol",
           "upper": 3386.6089721679687
          },
          {
           "lower": 1706.1705322265625,
           "timepoint": 33.2,
           "trajectory": "H_sol",
           "upper": 3398.059191894531
          },
          {
           "lower": 1707.9221313476562,
           "timepoint": 33.3,
           "trajectory": "H_sol",
           "upper": 3409.4592651367184
          },
          {
           "lower": 1709.6255798339844,
           "timepoint": 33.4,
           "trajectory": "H_sol",
           "upper": 3420.811572265625
          },
          {
           "lower": 1711.2813781738282,
           "timepoint": 33.5,
           "trajectory": "H_sol",
           "upper": 3432.115942382812
          },
          {
           "lower": 1712.8907348632813,
           "timepoint": 33.6,
           "trajectory": "H_sol",
           "upper": 3443.374768066406
          },
          {
           "lower": 1714.454278564453,
           "timepoint": 33.7,
           "trajectory": "H_sol",
           "upper": 3454.5891479492184
          },
          {
           "lower": 1715.973681640625,
           "timepoint": 33.8,
           "trajectory": "H_sol",
           "upper": 3465.7596191406246
          },
          {
           "lower": 1717.4485168457031,
           "timepoint": 33.9,
           "trajectory": "H_sol",
           "upper": 3476.8874877929684
          },
          {
           "lower": 1718.8800048828125,
           "timepoint": 34,
           "trajectory": "H_sol",
           "upper": 3487.9742187499996
          },
          {
           "lower": 1720.269219970703,
           "timepoint": 34.1,
           "trajectory": "H_sol",
           "upper": 3499.0208129882812
          },
          {
           "lower": 1721.6167907714844,
           "timepoint": 34.2,
           "trajectory": "H_sol",
           "upper": 3510.0280273437497
          },
          {
           "lower": 1722.9236450195312,
           "timepoint": 34.3,
           "trajectory": "H_sol",
           "upper": 3520.995458984375
          },
          {
           "lower": 1724.1903930664062,
           "timepoint": 34.4,
           "trajectory": "H_sol",
           "upper": 3531.927563476562
          },
          {
           "lower": 1724.6568481445313,
           "timepoint": 34.5,
           "trajectory": "H_sol",
           "upper": 3542.823449707031
          },
          {
           "lower": 1725.0193115234374,
           "timepoint": 34.6,
           "trajectory": "H_sol",
           "upper": 3553.6845581054686
          },
          {
           "lower": 1725.3418518066405,
           "timepoint": 34.7,
           "trajectory": "H_sol",
           "upper": 3564.5116943359376
          },
          {
           "lower": 1725.6251953125,
           "timepoint": 34.8,
           "trajectory": "H_sol",
           "upper": 3575.3055541992185
          },
          {
           "lower": 1725.8703063964845,
           "timepoint": 34.9,
           "trajectory": "H_sol",
           "upper": 3586.0678466796876
          },
          {
           "lower": 1726.0780334472656,
           "timepoint": 35,
           "trajectory": "H_sol",
           "upper": 3596.7984375
          },
          {
           "lower": 1726.248553466797,
           "timepoint": 35.1,
           "trajectory": "H_sol",
           "upper": 3607.4988647460937
          },
          {
           "lower": 1726.4006713867188,
           "timepoint": 35.2,
           "trajectory": "H_sol",
           "upper": 3618.1704345703124
          },
          {
           "lower": 1726.5231811523438,
           "timepoint": 35.3,
           "trajectory": "H_sol",
           "upper": 3628.8136108398435
          },
          {
           "lower": 1726.6143371582032,
           "timepoint": 35.4,
           "trajectory": "H_sol",
           "upper": 3639.4296142578123
          },
          {
           "lower": 1726.6690368652344,
           "timepoint": 35.5,
           "trajectory": "H_sol",
           "upper": 3650.0182861328126
          },
          {
           "lower": 1726.6904602050781,
           "timepoint": 35.6,
           "trajectory": "H_sol",
           "upper": 3660.581506347656
          },
          {
           "lower": 1726.6793273925782,
           "timepoint": 35.7,
           "trajectory": "H_sol",
           "upper": 3671.121166992187
          },
          {
           "lower": 1726.6361999511719,
           "timepoint": 35.8,
           "trajectory": "H_sol",
           "upper": 3681.635705566406
          },
          {
           "lower": 1726.561669921875,
           "timepoint": 35.9,
           "trajectory": "H_sol",
           "upper": 3692.1272583007812
          },
          {
           "lower": 1726.456768798828,
           "timepoint": 36,
           "trajectory": "H_sol",
           "upper": 3702.59560546875
          },
          {
           "lower": 1726.3216430664063,
           "timepoint": 36.1,
           "trajectory": "H_sol",
           "upper": 3713.0424316406247
          },
          {
           "lower": 1726.1571228027344,
           "timepoint": 36.2,
           "trajectory": "H_sol",
           "upper": 3723.4689697265626
          },
          {
           "lower": 1725.9635803222657,
           "timepoint": 36.3,
           "trajectory": "H_sol",
           "upper": 3733.8744995117186
          },
          {
           "lower": 1725.7418701171875,
           "timepoint": 36.4,
           "trajectory": "H_sol",
           "upper": 3744.261437988281
          },
          {
           "lower": 1725.4923522949218,
           "timepoint": 36.5,
           "trajectory": "H_sol",
           "upper": 3754.6289672851562
          },
          {
           "lower": 1725.215887451172,
           "timepoint": 36.6,
           "trajectory": "H_sol",
           "upper": 3764.9782836914064
          },
          {
           "lower": 1724.9127014160156,
           "timepoint": 36.7,
           "trajectory": "H_sol",
           "upper": 3775.3112060546873
          },
          {
           "lower": 1724.5833068847655,
           "timepoint": 36.8,
           "trajectory": "H_sol",
           "upper": 3785.6267944335937
          },
          {
           "lower": 1724.2289978027343,
           "timepoint": 36.9,
           "trajectory": "H_sol",
           "upper": 3795.927209472656
          },
          {
           "lower": 1723.8492248535156,
           "timepoint": 37,
           "trajectory": "H_sol",
           "upper": 3806.211767578125
          },
          {
           "lower": 1723.4449340820313,
           "timepoint": 37.1,
           "trajectory": "H_sol",
           "upper": 3816.4816772460936
          },
          {
           "lower": 1723.0627380371093,
           "timepoint": 37.2,
           "trajectory": "H_sol",
           "upper": 3826.7383544921877
          },
          {
           "lower": 1723.0665954589845,
           "timepoint": 37.3,
           "trajectory": "H_sol",
           "upper": 3836.4970092773438
          },
          {
           "lower": 1723.0474975585937,
           "timepoint": 37.4,
           "trajectory": "H_sol",
           "upper": 3845.1956420898437
          },
          {
           "lower": 1723.0061645507812,
           "timepoint": 37.5,
           "trajectory": "H_sol",
           "upper": 3853.8732666015626
          },
          {
           "lower": 1722.9427307128906,
           "timepoint": 37.6,
           "trajectory": "H_sol",
           "upper": 3862.530419921875
          },
          {
           "lower": 1722.8580383300782,
           "timepoint": 37.7,
           "trajectory": "H_sol",
           "upper": 3871.168493652344
          },
          {
           "lower": 1722.7522094726562,
           "timepoint": 37.8,
           "trajectory": "H_sol",
           "upper": 3879.7870361328123
          },
          {
           "lower": 1722.6257690429688,
           "timepoint": 37.9,
           "trajectory": "H_sol",
           "upper": 3888.3875122070312
          },
          {
           "lower": 1722.479150390625,
           "timepoint": 38,
           "trajectory": "H_sol",
           "upper": 3896.9699096679688
          },
          {
           "lower": 1722.312762451172,
           "timepoint": 38.1,
           "trajectory": "H_sol",
           "upper": 3905.535192871094
          },
          {
           "lower": 1722.126953125,
           "timepoint": 38.2,
           "trajectory": "H_sol",
           "upper": 3914.0822631835936
          },
          {
           "lower": 1721.9219909667968,
           "timepoint": 38.3,
           "trajectory": "H_sol",
           "upper": 3922.6143188476562
          },
          {
           "lower": 1721.698504638672,
           "timepoint": 38.4,
           "trajectory": "H_sol",
           "upper": 3931.13125
          },
          {
           "lower": 1721.4566711425782,
           "timepoint": 38.5,
           "trajectory": "H_sol",
           "upper": 3939.632531738281
          },
          {
           "lower": 1721.1968872070313,
           "timepoint": 38.6,
           "trajectory": "H_sol",
           "upper": 3948.119152832031
          },
          {
           "lower": 1720.9194091796876,
           "timepoint": 38.7,
           "trajectory": "H_sol",
           "upper": 3956.592077636719
          },
          {
           "lower": 1720.6271545410157,
           "timepoint": 38.8,
           "trajectory": "H_sol",
           "upper": 3965.0510864257812
          },
          {
           "lower": 1720.3160827636718,
           "timepoint": 38.9,
           "trajectory": "H_sol",
           "upper": 3973.4973754882812
          },
          {
           "lower": 1719.988427734375,
           "timepoint": 39,
           "trajectory": "H_sol",
           "upper": 3981.9304443359374
          },
          {
           "lower": 1719.644757080078,
           "timepoint": 39.1,
           "trajectory": "H_sol",
           "upper": 3990.3510986328124
          },
          {
           "lower": 1719.2851196289062,
           "timepoint": 39.2,
           "trajectory": "H_sol",
           "upper": 3998.7607177734376
          },
          {
           "lower": 1718.9100830078125,
           "timepoint": 39.3,
           "trajectory": "H_sol",
           "upper": 4007.1583618164063
          },
          {
           "lower": 1718.519677734375,
           "timepoint": 39.4,
           "trajectory": "H_sol",
           "upper": 4015.5457153320312
          },
          {
           "lower": 1718.1143859863282,
           "timepoint": 39.5,
           "trajectory": "H_sol",
           "upper": 4023.9223144531247
          },
          {
           "lower": 1717.6944458007813,
           "timepoint": 39.6,
           "trajectory": "H_sol",
           "upper": 4034.546533203125
          },
          {
           "lower": 1717.2601196289063,
           "timepoint": 39.7,
           "trajectory": "H_sol",
           "upper": 4047.0419433593747
          },
          {
           "lower": 1716.8119873046876,
           "timepoint": 39.8,
           "trajectory": "H_sol",
           "upper": 4059.5512573242186
          },
          {
           "lower": 1716.349951171875,
           "timepoint": 39.9,
           "trajectory": "H_sol",
           "upper": 4072.0758789062497
          },
          {
           "lower": 1715.874578857422,
           "timepoint": 40,
           "trajectory": "H_sol",
           "upper": 4084.6141967773438
          },
          {
           "lower": 1715.3860778808594,
           "timepoint": 40.1,
           "trajectory": "H_sol",
           "upper": 4096.95185546875
          },
          {
           "lower": 1714.8845275878907,
           "timepoint": 40.2,
           "trajectory": "H_sol",
           "upper": 4109.305908203125
          },
          {
           "lower": 1714.3703002929688,
           "timepoint": 40.3,
           "trajectory": "H_sol",
           "upper": 4121.673974609375
          },
          {
           "lower": 1713.8436401367187,
           "timepoint": 40.4,
           "trajectory": "H_sol",
           "upper": 4134.058251953125
          },
          {
           "lower": 1713.304669189453,
           "timepoint": 40.5,
           "trajectory": "H_sol",
           "upper": 4142.590795898437
          },
          {
           "lower": 1712.7540893554688,
           "timepoint": 40.6,
           "trajectory": "H_sol",
           "upper": 4148.740209960937
          },
          {
           "lower": 1712.1918090820313,
           "timepoint": 40.7,
           "trajectory": "H_sol",
           "upper": 4154.875659179687
          },
          {
           "lower": 1711.61806640625,
           "timepoint": 40.8,
           "trajectory": "H_sol",
           "upper": 4160.996728515625
          },
          {
           "lower": 1711.033221435547,
           "timepoint": 40.9,
           "trajectory": "H_sol",
           "upper": 4167.1043701171875
          },
          {
           "lower": 1710.4374206542968,
           "timepoint": 41,
           "trajectory": "H_sol",
           "upper": 4173.198095703125
          },
          {
           "lower": 1709.83076171875,
           "timepoint": 41.1,
           "trajectory": "H_sol",
           "upper": 4179.278881835938
          },
          {
           "lower": 1709.2137329101563,
           "timepoint": 41.2,
           "trajectory": "H_sol",
           "upper": 4185.295727539063
          },
          {
           "lower": 1708.5861206054688,
           "timepoint": 41.3,
           "trajectory": "H_sol",
           "upper": 4191.217749023437
          },
          {
           "lower": 1707.9486206054687,
           "timepoint": 41.4,
           "trajectory": "H_sol",
           "upper": 4197.127026367188
          },
          {
           "lower": 1707.3013854980468,
           "timepoint": 41.5,
           "trajectory": "H_sol",
           "upper": 4203.037084960937
          },
          {
           "lower": 1706.6442626953126,
           "timepoint": 41.6,
           "trajectory": "H_sol",
           "upper": 4208.923266601562
          },
          {
           "lower": 1705.9777465820312,
           "timepoint": 41.7,
           "trajectory": "H_sol",
           "upper": 4214.799072265625
          },
          {
           "lower": 1705.301776123047,
           "timepoint": 41.8,
           "trajectory": "H_sol",
           "upper": 4220.6627197265625
          },
          {
           "lower": 1704.6166687011719,
           "timepoint": 41.9,
           "trajectory": "H_sol",
           "upper": 4226.515527343749
          },
          {
           "lower": 1703.9227783203125,
           "timepoint": 42,
           "trajectory": "H_sol",
           "upper": 4232.3575439453125
          },
          {
           "lower": 1703.2202453613281,
           "timepoint": 42.1,
           "trajectory": "H_sol",
           "upper": 4239.3828125
          },
          {
           "lower": 1702.5090698242188,
           "timepoint": 42.2,
           "trajectory": "H_sol",
           "upper": 4247.621411132813
          },
          {
           "lower": 1701.7896118164062,
           "timepoint": 42.3,
           "trajectory": "H_sol",
           "upper": 4255.858569335937
          },
          {
           "lower": 1701.0619873046876,
           "timepoint": 42.4,
           "trajectory": "H_sol",
           "upper": 4264.38603515625
          },
          {
           "lower": 1700.3264465332031,
           "timepoint": 42.5,
           "trajectory": "H_sol",
           "upper": 4274.564355468749
          },
          {
           "lower": 1699.5830017089843,
           "timepoint": 42.6,
           "trajectory": "H_sol",
           "upper": 4284.750927734374
          },
          {
           "lower": 1698.8316467285156,
           "timepoint": 42.7,
           "trajectory": "H_sol",
           "upper": 4294.946826171875
          },
          {
           "lower": 1698.0728576660156,
           "timepoint": 42.8,
           "trajectory": "H_sol",
           "upper": 4305.150634765625
          },
          {
           "lower": 1697.3068908691407,
           "timepoint": 42.9,
           "trajectory": "H_sol",
           "upper": 4315.3640625
          },
          {
           "lower": 1696.5336181640625,
           "timepoint": 43,
           "trajectory": "H_sol",
           "upper": 4325.586816406249
          },
          {
           "lower": 1695.7532897949218,
           "timepoint": 43.1,
           "trajectory": "H_sol",
           "upper": 4335.819311523437
          },
          {
           "lower": 1694.9659118652344,
           "timepoint": 43.2,
           "trajectory": "H_sol",
           "upper": 4346.061596679687
          },
          {
           "lower": 1694.1718383789062,
           "timepoint": 43.3,
           "trajectory": "H_sol",
           "upper": 4356.313159179687
          },
          {
           "lower": 1693.3713928222655,
           "timepoint": 43.4,
           "trajectory": "H_sol",
           "upper": 4366.579174804687
          },
          {
           "lower": 1692.5644470214843,
           "timepoint": 43.5,
           "trajectory": "H_sol",
           "upper": 4376.851708984374
          },
          {
           "lower": 1691.7508422851563,
           "timepoint": 43.6,
           "trajectory": "H_sol",
           "upper": 4387.135449218749
          },
          {
           "lower": 1690.9311401367188,
           "timepoint": 43.7,
           "trajectory": "H_sol",
           "upper": 4397.42998046875
          },
          {
           "lower": 1690.1053649902344,
           "timepoint": 43.8,
           "trajectory": "H_sol",
           "upper": 4407.7352294921875
          },
          {
           "lower": 1689.2738647460938,
           "timepoint": 43.9,
           "trajectory": "H_sol",
           "upper": 4418.052172851562
          },
          {
           "lower": 1688.4377014160157,
           "timepoint": 44,
           "trajectory": "H_sol",
           "upper": 4428.3798828125
          },
          {
           "lower": 1687.5946655273438,
           "timepoint": 44.1,
           "trajectory": "H_sol",
           "upper": 4438.718359375
          },
          {
           "lower": 1686.746044921875,
           "timepoint": 44.2,
           "trajectory": "H_sol",
           "upper": 4449.069555664062
          },
          {
           "lower": 1685.8919494628906,
           "timepoint": 44.3,
           "trajectory": "H_sol",
           "upper": 4459.432470703125
          },
          {
           "lower": 1685.0326354980468,
           "timepoint": 44.4,
           "trajectory": "H_sol",
           "upper": 4469.807592773437
          },
          {
           "lower": 1684.167987060547,
           "timepoint": 44.5,
           "trajectory": "H_sol",
           "upper": 4480.193994140624
          },
          {
           "lower": 1683.298358154297,
           "timepoint": 44.6,
           "trajectory": "H_sol",
           "upper": 4490.593481445312
          },
          {
           "lower": 1682.423516845703,
           "timepoint": 44.7,
           "trajectory": "H_sol",
           "upper": 4501.005322265624
          },
          {
           "lower": 1681.5438110351563,
           "timepoint": 44.8,
           "trajectory": "H_sol",
           "upper": 4511.4295654296875
          },
          {
           "lower": 1680.659619140625,
           "timepoint": 44.9,
           "trajectory": "H_sol",
           "upper": 4521.867138671874
          },
          {
           "lower": 1679.7704528808595,
           "timepoint": 45,
           "trajectory": "H_sol",
           "upper": 4532.316943359375
          },
          {
           "lower": 1678.8766967773438,
           "timepoint": 45.1,
           "trajectory": "H_sol",
           "upper": 4542.7803955078125
          },
          {
           "lower": 1677.9785705566405,
           "timepoint": 45.2,
           "trajectory": "H_sol",
           "upper": 4553.257055664062
          },
          {
           "lower": 1677.0760986328125,
           "timepoint": 45.3,
           "trajectory": "H_sol",
           "upper": 4563.74736328125
          },
          {
           "lower": 1676.169122314453,
           "timepoint": 45.4,
           "trajectory": "H_sol",
           "upper": 4574.250903320312
          },
          {
           "lower": 1675.2583801269532,
           "timepoint": 45.5,
           "trajectory": "H_sol",
           "upper": 4584.774609374999
          },
          {
           "lower": 1674.3430541992188,
           "timepoint": 45.6,
           "trajectory": "H_sol",
           "upper": 4595.305908203125
          },
          {
           "lower": 1673.4239562988282,
           "timepoint": 45.7,
           "trajectory": "H_sol",
           "upper": 4605.852392578125
          },
          {
           "lower": 1672.500750732422,
           "timepoint": 45.8,
           "trajectory": "H_sol",
           "upper": 4616.4129638671875
          },
          {
           "lower": 1671.5748352050782,
           "timepoint": 45.9,
           "trajectory": "H_sol",
           "upper": 4626.987744140624
          },
          {
           "lower": 1670.6444702148438,
           "timepoint": 46,
           "trajectory": "H_sol",
           "upper": 4637.576196289062
          },
          {
           "lower": 1669.7103637695313,
           "timepoint": 46.1,
           "trajectory": "H_sol",
           "upper": 4648.179760742187
          },
          {
           "lower": 1668.772509765625,
           "timepoint": 46.2,
           "trajectory": "H_sol",
           "upper": 4658.797998046874
          },
          {
           "lower": 1667.831494140625,
           "timepoint": 46.3,
           "trajectory": "H_sol",
           "upper": 4669.431347656249
          },
          {
           "lower": 1666.8867492675781,
           "timepoint": 46.4,
           "trajectory": "H_sol",
           "upper": 4680.080297851562
          },
          {
           "lower": 1665.9388488769532,
           "timepoint": 46.5,
           "trajectory": "H_sol",
           "upper": 4690.74296875
          },
          {
           "lower": 1664.9876831054687,
           "timepoint": 46.6,
           "trajectory": "H_sol",
           "upper": 4701.421240234375
          },
          {
           "lower": 1664.0332580566405,
           "timepoint": 46.7,
           "trajectory": "H_sol",
           "upper": 4712.1160888671875
          },
          {
           "lower": 1663.0758117675782,
           "timepoint": 46.8,
           "trajectory": "H_sol",
           "upper": 4722.825122070312
          },
          {
           "lower": 1662.1152221679688,
           "timepoint": 46.9,
           "trajectory": "H_sol",
           "upper": 4733.550268554687
          },
          {
           "lower": 1661.15185546875,
           "timepoint": 47,
           "trajectory": "H_sol",
           "upper": 4744.291430664062
          },
          {
           "lower": 1660.1854858398438,
           "timepoint": 47.1,
           "trajectory": "H_sol",
           "upper": 4755.048803710937
          },
          {
           "lower": 1659.21640625,
           "timepoint": 47.2,
           "trajectory": "H_sol",
           "upper": 4765.821362304687
          },
          {
           "lower": 1658.244482421875,
           "timepoint": 47.3,
           "trajectory": "H_sol",
           "upper": 4776.609545898437
          },
          {
           "lower": 1657.2699096679687,
           "timepoint": 47.4,
           "trajectory": "H_sol",
           "upper": 4787.414819335937
          },
          {
           "lower": 1656.2929138183595,
           "timepoint": 47.5,
           "trajectory": "H_sol",
           "upper": 4798.2357177734375
          },
          {
           "lower": 1655.3131591796875,
           "timepoint": 47.6,
           "trajectory": "H_sol",
           "upper": 4809.063427734374
          },
          {
           "lower": 1654.330987548828,
           "timepoint": 47.7,
           "trajectory": "H_sol",
           "upper": 4819.916162109374
          },
          {
           "lower": 1653.3464050292969,
           "timepoint": 47.8,
           "trajectory": "H_sol",
           "upper": 4830.785009765625
          },
          {
           "lower": 1652.3578002929687,
           "timepoint": 47.9,
           "trajectory": "H_sol",
           "upper": 4841.67138671875
          },
          {
           "lower": 1651.3681701660157,
           "timepoint": 48,
           "trajectory": "H_sol",
           "upper": 4852.573437499999
          },
          {
           "lower": 1650.37626953125,
           "timepoint": 48.1,
           "trajectory": "H_sol",
           "upper": 4863.4925537109375
          },
          {
           "lower": 1649.3822021484375,
           "timepoint": 48.2,
           "trajectory": "H_sol",
           "upper": 4874.428784179687
          },
          {
           "lower": 1648.3859558105469,
           "timepoint": 48.3,
           "trajectory": "H_sol",
           "upper": 4885.381640625
          },
          {
           "lower": 1647.387451171875,
           "timepoint": 48.4,
           "trajectory": "H_sol",
           "upper": 4896.351635742187
          },
          {
           "lower": 1646.386895751953,
           "timepoint": 48.5,
           "trajectory": "H_sol",
           "upper": 4907.338671875
          },
          {
           "lower": 1645.3845336914062,
           "timepoint": 48.6,
           "trajectory": "H_sol",
           "upper": 4918.34189453125
          },
          {
           "lower": 1644.3802551269532,
           "timepoint": 48.7,
           "trajectory": "H_sol",
           "upper": 4929.3636474609375
          },
          {
           "lower": 1643.3738342285155,
           "timepoint": 48.8,
           "trajectory": "H_sol",
           "upper": 4940.402978515624
          },
          {
           "lower": 1642.3655944824218,
           "timepoint": 48.9,
           "trajectory": "H_sol",
           "upper": 4951.458984375
          },
          {
           "lower": 1641.3554565429688,
           "timepoint": 49,
           "trajectory": "H_sol",
           "upper": 4962.532983398437
          },
          {
           "lower": 1640.343524169922,
           "timepoint": 49.1,
           "trajectory": "H_sol",
           "upper": 4973.624169921874
          },
          {
           "lower": 1639.3299133300782,
           "timepoint": 49.2,
           "trajectory": "H_sol",
           "upper": 4984.733447265625
          },
          {
           "lower": 1638.31474609375,
           "timepoint": 49.3,
           "trajectory": "H_sol",
           "upper": 4995.859399414062
          },
          {
           "lower": 1637.297784423828,
           "timepoint": 49.4,
           "trajectory": "H_sol",
           "upper": 5007.00419921875
          },
          {
           "lower": 1636.2795043945312,
           "timepoint": 49.5,
           "trajectory": "H_sol",
           "upper": 5018.167041015625
          },
          {
           "lower": 1635.259326171875,
           "timepoint": 49.6,
           "trajectory": "H_sol",
           "upper": 5029.3470458984375
          },
          {
           "lower": 1634.23759765625,
           "timepoint": 49.7,
           "trajectory": "H_sol",
           "upper": 5040.545605468749
          },
          {
           "lower": 1633.2146728515625,
           "timepoint": 49.8,
           "trajectory": "H_sol",
           "upper": 5051.76220703125
          },
          {
           "lower": 1632.1900817871094,
           "timepoint": 49.9,
           "trajectory": "H_sol",
           "upper": 5062.9978515625
          },
          {
           "lower": 1631.1640625,
           "timepoint": 50,
           "trajectory": "H_sol",
           "upper": 5074.252954101562
          },
          {
           "lower": 1630.1369750976562,
           "timepoint": 50.1,
           "trajectory": "H_sol",
           "upper": 5085.524731445312
          },
          {
           "lower": 1629.1084594726562,
           "timepoint": 50.2,
           "trajectory": "H_sol",
           "upper": 5096.814648437499
          },
          {
           "lower": 1628.0786437988281,
           "timepoint": 50.3,
           "trajectory": "H_sol",
           "upper": 5108.123510742187
          },
          {
           "lower": 1627.0473999023438,
           "timepoint": 50.4,
           "trajectory": "H_sol",
           "upper": 5119.450512695312
          },
          {
           "lower": 1626.0151000976562,
           "timepoint": 50.5,
           "trajectory": "H_sol",
           "upper": 5130.797045898437
          },
          {
           "lower": 1624.9815979003906,
           "timepoint": 50.6,
           "trajectory": "H_sol",
           "upper": 5142.161596679687
          },
          {
           "lower": 1623.9469299316406,
           "timepoint": 50.7,
           "trajectory": "H_sol",
           "upper": 5153.544775390625
          },
          {
           "lower": 1622.9109497070312,
           "timepoint": 50.8,
           "trajectory": "H_sol",
           "upper": 5164.946533203125
          },
          {
           "lower": 1621.8741577148437,
           "timepoint": 50.9,
           "trajectory": "H_sol",
           "upper": 5176.3673095703125
          },
          {
           "lower": 1620.8360656738282,
           "timepoint": 51,
           "trajectory": "H_sol",
           "upper": 5187.806201171875
          },
          {
           "lower": 1619.7969116210938,
           "timepoint": 51.1,
           "trajectory": "H_sol",
           "upper": 5199.2650146484375
          },
          {
           "lower": 1618.75693359375,
           "timepoint": 51.2,
           "trajectory": "H_sol",
           "upper": 5210.742504882812
          },
          {
           "lower": 1617.7159118652344,
           "timepoint": 51.3,
           "trajectory": "H_sol",
           "upper": 5222.239453124999
          },
          {
           "lower": 1616.6738220214843,
           "timepoint": 51.4,
           "trajectory": "H_sol",
           "upper": 5233.7550048828125
          },
          {
           "lower": 1615.631036376953,
           "timepoint": 51.5,
           "trajectory": "H_sol",
           "upper": 5245.289135742187
          },
          {
           "lower": 1614.5869995117187,
           "timepoint": 51.6,
           "trajectory": "H_sol",
           "upper": 5256.84375
          },
          {
           "lower": 1613.5422119140626,
           "timepoint": 51.7,
           "trajectory": "H_sol",
           "upper": 5268.417871093749
          },
          {
           "lower": 1612.4967224121094,
           "timepoint": 51.8,
           "trajectory": "H_sol",
           "upper": 5280.010156249999
          },
          {
           "lower": 1611.4502990722656,
           "timepoint": 51.9,
           "trajectory": "H_sol",
           "upper": 5291.622485351562
          },
          {
           "lower": 1610.4030700683593,
           "timepoint": 52,
           "trajectory": "H_sol",
           "upper": 5303.252978515625
          },
          {
           "lower": 1609.3549011230468,
           "timepoint": 52.1,
           "trajectory": "H_sol",
           "upper": 5314.90390625
          },
          {
           "lower": 1608.3061584472657,
           "timepoint": 52.2,
           "trajectory": "H_sol",
           "upper": 5326.574853515624
          },
          {
           "lower": 1607.256591796875,
           "timepoint": 52.3,
           "trajectory": "H_sol",
           "upper": 5338.264404296875
          },
          {
           "lower": 1606.2115661621094,
           "timepoint": 52.4,
           "trajectory": "H_sol",
           "upper": 5349.974462890625
          },
          {
           "lower": 1605.1613159179688,
           "timepoint": 52.5,
           "trajectory": "H_sol",
           "upper": 5361.714257812499
          },
          {
           "lower": 1604.1103820800781,
           "timepoint": 52.6,
           "trajectory": "H_sol",
           "upper": 5373.463842773437
          },
          {
           "lower": 1603.0587463378906,
           "timepoint": 52.7,
           "trajectory": "H_sol",
           "upper": 5385.233935546875
          },
          {
           "lower": 1602.0066650390625,
           "timepoint": 52.8,
           "trajectory": "H_sol",
           "upper": 5397.0240478515625
          },
          {
           "lower": 1600.9541320800781,
           "timepoint": 52.9,
           "trajectory": "H_sol",
           "upper": 5408.833740234375
          },
          {
           "lower": 1599.9010131835937,
           "timepoint": 53,
           "trajectory": "H_sol",
           "upper": 5420.663403320312
          },
          {
           "lower": 1598.847216796875,
           "timepoint": 53.1,
           "trajectory": "H_sol",
           "upper": 5432.512670898437
          },
          {
           "lower": 1597.7929626464843,
           "timepoint": 53.2,
           "trajectory": "H_sol",
           "upper": 5444.382885742187
          },
          {
           "lower": 1596.738262939453,
           "timepoint": 53.3,
           "trajectory": "H_sol",
           "upper": 5456.272705078125
          },
          {
           "lower": 1595.6831115722657,
           "timepoint": 53.4,
           "trajectory": "H_sol",
           "upper": 5468.1829833984375
          },
          {
           "lower": 1594.6274047851562,
           "timepoint": 53.5,
           "trajectory": "H_sol",
           "upper": 5480.112841796875
          },
          {
           "lower": 1593.5714721679688,
           "timepoint": 53.6,
           "trajectory": "H_sol",
           "upper": 5492.062719726562
          },
          {
           "lower": 1592.5150817871095,
           "timepoint": 53.7,
           "trajectory": "H_sol",
           "upper": 5504.0340576171875
          },
          {
           "lower": 1591.4583801269532,
           "timepoint": 53.8,
           "trajectory": "H_sol",
           "upper": 5516.024072265624
          },
          {
           "lower": 1590.4012268066406,
           "timepoint": 53.9,
           "trajectory": "H_sol",
           "upper": 5528.0359375
          },
          {
           "lower": 1589.3435913085937,
           "timepoint": 54,
           "trajectory": "H_sol",
           "upper": 5540.067407226562
          },
          {
           "lower": 1588.2858764648438,
           "timepoint": 54.1,
           "trajectory": "H_sol",
           "upper": 5552.118920898437
          },
          {
           "lower": 1587.227606201172,
           "timepoint": 54.2,
           "trajectory": "H_sol",
           "upper": 5564.192065429687
          },
          {
           "lower": 1586.16923828125,
           "timepoint": 54.3,
           "trajectory": "H_sol",
           "upper": 5576.284619140624
          },
          {
           "lower": 1585.1105529785157,
           "timepoint": 54.4,
           "trajectory": "H_sol",
           "upper": 5588.398193359375
          },
          {
           "lower": 1584.0515258789062,
           "timepoint": 54.5,
           "trajectory": "H_sol",
           "upper": 5600.532299804687
          },
          {
           "lower": 1582.9925354003906,
           "timepoint": 54.6,
           "trajectory": "H_sol",
           "upper": 5612.6868896484375
          },
          {
           "lower": 1581.9329833984375,
           "timepoint": 54.7,
           "trajectory": "H_sol",
           "upper": 5624.862060546875
          },
          {
           "lower": 1580.87333984375,
           "timepoint": 54.8,
           "trajectory": "H_sol",
           "upper": 5637.058178710937
          },
          {
           "lower": 1579.8134887695312,
           "timepoint": 54.9,
           "trajectory": "H_sol",
           "upper": 5649.275341796874
          },
          {
           "lower": 1578.7544799804687,
           "timepoint": 55,
           "trajectory": "H_sol",
           "upper": 5661.5162353515625
          },
          {
           "lower": 1577.6943359375,
           "timepoint": 55.1,
           "trajectory": "H_sol",
           "upper": 5673.774438476562
          },
          {
           "lower": 1576.633984375,
           "timepoint": 55.2,
           "trajectory": "H_sol",
           "upper": 5686.054125976562
          },
          {
           "lower": 1575.5736694335938,
           "timepoint": 55.3,
           "trajectory": "H_sol",
           "upper": 5698.354321289062
          },
          {
           "lower": 1574.5130249023437,
           "timepoint": 55.4,
           "trajectory": "H_sol",
           "upper": 5710.675561523437
          },
          {
           "lower": 1573.4524230957031,
           "timepoint": 55.5,
           "trajectory": "H_sol",
           "upper": 5723.017749023437
          },
          {
           "lower": 1572.3916076660157,
           "timepoint": 55.6,
           "trajectory": "H_sol",
           "upper": 5735.381005859374
          },
          {
           "lower": 1571.330712890625,
           "timepoint": 55.7,
           "trajectory": "H_sol",
           "upper": 5747.765698242187
          },
          {
           "lower": 1570.269842529297,
           "timepoint": 55.8,
           "trajectory": "H_sol",
           "upper": 5760.170458984375
          },
          {
           "lower": 1569.2087829589843,
           "timepoint": 55.9,
           "trajectory": "H_sol",
           "upper": 5772.59677734375
          },
          {
           "lower": 1568.1476318359375,
           "timepoint": 56,
           "trajectory": "H_sol",
           "upper": 5785.0435791015625
          },
          {
           "lower": 1567.0867492675782,
           "timepoint": 56.1,
           "trajectory": "H_sol",
           "upper": 5797.511889648437
          },
          {
           "lower": 1566.0255432128906,
           "timepoint": 56.2,
           "trajectory": "H_sol",
           "upper": 5810.002148437499
          },
          {
           "lower": 1564.964501953125,
           "timepoint": 56.3,
           "trajectory": "H_sol",
           "upper": 5822.5125
          },
          {
           "lower": 1563.9032470703125,
           "timepoint": 56.4,
           "trajectory": "H_sol",
           "upper": 5835.044824218749
          },
          {
           "lower": 1562.8423950195313,
           "timepoint": 56.5,
           "trajectory": "H_sol",
           "upper": 5847.597680664062
          },
          {
           "lower": 1561.7812133789062,
           "timepoint": 56.6,
           "trajectory": "H_sol",
           "upper": 5860.172509765624
          },
          {
           "lower": 1560.7200744628906,
           "timepoint": 56.7,
           "trajectory": "H_sol",
           "upper": 5872.767846679687
          },
          {
           "lower": 1559.6590881347656,
           "timepoint": 56.8,
           "trajectory": "H_sol",
           "upper": 5885.384667968749
          },
          {
           "lower": 1558.5981384277343,
           "timepoint": 56.9,
           "trajectory": "H_sol",
           "upper": 5898.02392578125
          },
          {
           "lower": 1557.5373413085938,
           "timepoint": 57,
           "trajectory": "H_sol",
           "upper": 5910.683251953124
          },
          {
           "lower": 1556.4765869140624,
           "timepoint": 57.1,
           "trajectory": "H_sol",
           "upper": 5923.36455078125
          },
          {
           "lower": 1555.415753173828,
           "timepoint": 57.2,
           "trajectory": "H_sol",
           "upper": 5936.067333984374
          },
          {
           "lower": 1554.3551940917969,
           "timepoint": 57.3,
           "trajectory": "H_sol",
           "upper": 5948.791162109374
          },
          {
           "lower": 1553.294775390625,
           "timepoint": 57.4,
           "trajectory": "H_sol",
           "upper": 5961.536962890625
          },
          {
           "lower": 1552.2344177246093,
           "timepoint": 57.5,
           "trajectory": "H_sol",
           "upper": 5974.300537109375
          },
          {
           "lower": 1551.1740844726562,
           "timepoint": 57.6,
           "trajectory": "H_sol",
           "upper": 5987.088842773437
          },
          {
           "lower": 1550.1139099121094,
           "timepoint": 57.7,
           "trajectory": "H_sol",
           "upper": 5999.899145507812
          },
          {
           "lower": 1549.0492553710938,
           "timepoint": 57.8,
           "trajectory": "H_sol",
           "upper": 6012.730029296875
          },
          {
           "lower": 1547.9889404296875,
           "timepoint": 57.9,
           "trajectory": "H_sol",
           "upper": 6025.58427734375
          },
          {
           "lower": 1546.9287719726562,
           "timepoint": 58,
           "trajectory": "H_sol",
           "upper": 6038.4586181640625
          },
          {
           "lower": 1545.8688842773438,
           "timepoint": 58.1,
           "trajectory": "H_sol",
           "upper": 6051.355395507812
          },
          {
           "lower": 1544.8090393066407,
           "timepoint": 58.2,
           "trajectory": "H_sol",
           "upper": 6064.273706054687
          },
          {
           "lower": 1543.7493530273437,
           "timepoint": 58.3,
           "trajectory": "H_sol",
           "upper": 6077.2130126953125
          },
          {
           "lower": 1542.6898254394532,
           "timepoint": 58.4,
           "trajectory": "H_sol",
           "upper": 6090.174780273437
          },
          {
           "lower": 1541.6304565429687,
           "timepoint": 58.5,
           "trajectory": "H_sol",
           "upper": 6103.1580810546875
          },
          {
           "lower": 1540.5713623046875,
           "timepoint": 58.6,
           "trajectory": "H_sol",
           "upper": 6116.163330078125
          },
          {
           "lower": 1539.5124267578126,
           "timepoint": 58.7,
           "trajectory": "H_sol",
           "upper": 6129.190112304687
          },
          {
           "lower": 1538.4536560058593,
           "timepoint": 58.8,
           "trajectory": "H_sol",
           "upper": 6142.237963867187
          },
          {
           "lower": 1537.3950500488281,
           "timepoint": 58.9,
           "trajectory": "H_sol",
           "upper": 6155.3091796875
          },
          {
           "lower": 1536.3365966796875,
           "timepoint": 59,
           "trajectory": "H_sol",
           "upper": 6168.4010009765625
          },
          {
           "lower": 1535.278546142578,
           "timepoint": 59.1,
           "trajectory": "H_sol",
           "upper": 6181.515234375
          },
          {
           "lower": 1534.2205322265625,
           "timepoint": 59.2,
           "trajectory": "H_sol",
           "upper": 6194.651049804687
          },
          {
           "lower": 1533.1629150390625,
           "timepoint": 59.3,
           "trajectory": "H_sol",
           "upper": 6207.8083984375
          },
          {
           "lower": 1532.1054626464843,
           "timepoint": 59.4,
           "trajectory": "H_sol",
           "upper": 6220.989086914062
          },
          {
           "lower": 1531.0480407714845,
           "timepoint": 59.5,
           "trajectory": "H_sol",
           "upper": 6234.189892578124
          },
          {
           "lower": 1529.991143798828,
           "timepoint": 59.6,
           "trajectory": "H_sol",
           "upper": 6247.413134765625
          },
          {
           "lower": 1528.9342895507812,
           "timepoint": 59.7,
           "trajectory": "H_sol",
           "upper": 6260.658886718749
          },
          {
           "lower": 1527.8780639648437,
           "timepoint": 59.8,
           "trajectory": "H_sol",
           "upper": 6273.926586914062
          },
          {
           "lower": 1526.8216613769532,
           "timepoint": 59.9,
           "trajectory": "H_sol",
           "upper": 6287.215844726562
          },
          {
           "lower": 1525.7656494140624,
           "timepoint": 60,
           "trajectory": "H_sol",
           "upper": 6300.5289306640625
          },
          {
           "lower": 1524.7100341796875,
           "timepoint": 60.1,
           "trajectory": "H_sol",
           "upper": 6313.86259765625
          },
          {
           "lower": 1523.6545776367188,
           "timepoint": 60.2,
           "trajectory": "H_sol",
           "upper": 6327.218774414062
          },
          {
           "lower": 1522.5996337890624,
           "timepoint": 60.3,
           "trajectory": "H_sol",
           "upper": 6340.596435546875
          },
          {
           "lower": 1521.5448608398438,
           "timepoint": 60.4,
           "trajectory": "H_sol",
           "upper": 6353.996606445312
          },
          {
           "lower": 1520.49013671875,
           "timepoint": 60.5,
           "trajectory": "H_sol",
           "upper": 6367.419213867187
          },
          {
           "lower": 1519.4360290527343,
           "timepoint": 60.6,
           "trajectory": "H_sol",
           "upper": 6380.863330078125
          },
          {
           "lower": 1518.3820922851562,
           "timepoint": 60.7,
           "trajectory": "H_sol",
           "upper": 6394.330419921875
          },
          {
           "lower": 1517.3269409179688,
           "timepoint": 60.8,
           "trajectory": "H_sol",
           "upper": 6407.818994140624
          },
          {
           "lower": 1516.2735595703125,
           "timepoint": 60.9,
           "trajectory": "H_sol",
           "upper": 6421.330102539062
          },
          {
           "lower": 1515.2203552246094,
           "timepoint": 61,
           "trajectory": "H_sol",
           "upper": 6434.863134765625
          },
          {
           "lower": 1514.1675537109375,
           "timepoint": 61.1,
           "trajectory": "H_sol",
           "upper": 6448.418212890625
          },
          {
           "lower": 1513.1150207519531,
           "timepoint": 61.2,
           "trajectory": "H_sol",
           "upper": 6461.996240234374
          },
          {
           "lower": 1512.063006591797,
           "timepoint": 61.3,
           "trajectory": "H_sol",
           "upper": 6475.595751953125
          },
          {
           "lower": 1511.0110412597655,
           "timepoint": 61.4,
           "trajectory": "H_sol",
           "upper": 6489.21826171875
          },
          {
           "lower": 1509.9595886230468,
           "timepoint": 61.5,
           "trajectory": "H_sol",
           "upper": 6502.862255859374
          },
          {
           "lower": 1508.908428955078,
           "timepoint": 61.6,
           "trajectory": "H_sol",
           "upper": 6516.529199218749
          },
          {
           "lower": 1507.8576538085938,
           "timepoint": 61.7,
           "trajectory": "H_sol",
           "upper": 6530.2186279296875
          },
          {
           "lower": 1506.8071655273438,
           "timepoint": 61.8,
           "trajectory": "H_sol",
           "upper": 6543.930126953124
          },
          {
           "lower": 1505.7569580078125,
           "timepoint": 61.9,
           "trajectory": "H_sol",
           "upper": 6557.6640625
          },
          {
           "lower": 1504.7071533203125,
           "timepoint": 62,
           "trajectory": "H_sol",
           "upper": 6571.419995117187
          },
          {
           "lower": 175,
           "timepoint": 0,
           "trajectory": "I_sol",
           "upper": 175
          },
          {
           "lower": 178.85492630004882,
           "timepoint": 0.1,
           "trajectory": "I_sol",
           "upper": 179.4389762878418
          },
          {
           "lower": 182.77471160888672,
           "timepoint": 0.2,
           "trajectory": "I_sol",
           "upper": 183.9677360534668
          },
          {
           "lower": 186.76576614379883,
           "timepoint": 0.3,
           "trajectory": "I_sol",
           "upper": 188.58937225341796
          },
          {
           "lower": 190.842862701416,
           "timepoint": 0.4,
           "trajectory": "I_sol",
           "upper": 193.30712966918946
          },
          {
           "lower": 194.975740814209,
           "timepoint": 0.5,
           "trajectory": "I_sol",
           "upper": 198.12439193725587
          },
          {
           "lower": 199.199454498291,
           "timepoint": 0.6,
           "trajectory": "I_sol",
           "upper": 203.0442207336426
          },
          {
           "lower": 203.54034576416015,
           "timepoint": 0.7,
           "trajectory": "I_sol",
           "upper": 208.0699478149414
          },
          {
           "lower": 207.97576599121095,
           "timepoint": 0.8,
           "trajectory": "I_sol",
           "upper": 213.20466842651368
          },
          {
           "lower": 212.50678253173828,
           "timepoint": 0.9,
           "trajectory": "I_sol",
           "upper": 218.45197677612305
          },
          {
           "lower": 217.1356559753418,
           "timepoint": 1,
           "trajectory": "I_sol",
           "upper": 223.81515197753907
          },
          {
           "lower": 221.86445159912108,
           "timepoint": 1.1,
           "trajectory": "I_sol",
           "upper": 229.29763946533203
          },
          {
           "lower": 226.6953971862793,
           "timepoint": 1.2,
           "trajectory": "I_sol",
           "upper": 234.9013229370117
          },
          {
           "lower": 231.63074111938477,
           "timepoint": 1.3,
           "trajectory": "I_sol",
           "upper": 240.63088760375976
          },
          {
           "lower": 236.67292022705078,
           "timepoint": 1.4,
           "trajectory": "I_sol",
           "upper": 246.4898597717285
          },
          {
           "lower": 241.82413558959962,
           "timepoint": 1.5,
           "trajectory": "I_sol",
           "upper": 252.48182373046873
          },
          {
           "lower": 247.08678436279297,
           "timepoint": 1.6,
           "trajectory": "I_sol",
           "upper": 258.61049194335936
          },
          {
           "lower": 252.42645492553712,
           "timepoint": 1.7,
           "trajectory": "I_sol",
           "upper": 264.89048461914064
          },
          {
           "lower": 257.8739700317383,
           "timepoint": 1.8,
           "trajectory": "I_sol",
           "upper": 271.38210144042966
          },
          {
           "lower": 263.4359924316406,
           "timepoint": 1.9,
           "trajectory": "I_sol",
           "upper": 278.0304412841797
          },
          {
           "lower": 269.11508026123045,
           "timepoint": 2,
           "trajectory": "I_sol",
           "upper": 284.838671875
          },
          {
           "lower": 274.9139099121094,
           "timepoint": 2.1,
           "trajectory": "I_sol",
           "upper": 291.81061096191405
          },
          {
           "lower": 280.8352523803711,
           "timepoint": 2.2,
           "trajectory": "I_sol",
           "upper": 298.9509078979492
          },
          {
           "lower": 286.8816802978516,
           "timepoint": 2.3,
           "trajectory": "I_sol",
           "upper": 306.263688659668
          },
          {
           "lower": 293.05610809326174,
           "timepoint": 2.4,
           "trajectory": "I_sol",
           "upper": 313.75367279052733
          },
          {
           "lower": 299.3612457275391,
           "timepoint": 2.5,
           "trajectory": "I_sol",
           "upper": 321.42469787597656
          },
          {
           "lower": 305.80008087158205,
           "timepoint": 2.6,
           "trajectory": "I_sol",
           "upper": 329.28146209716795
          },
          {
           "lower": 312.375537109375,
           "timepoint": 2.7,
           "trajectory": "I_sol",
           "upper": 337.32861175537107
          },
          {
           "lower": 319.0916244506836,
           "timepoint": 2.8,
           "trajectory": "I_sol",
           "upper": 345.5708511352539
          },
          {
           "lower": 325.94989624023435,
           "timepoint": 2.9,
           "trajectory": "I_sol",
           "upper": 354.01363983154295
          },
          {
           "lower": 332.95406646728514,
           "timepoint": 3,
           "trajectory": "I_sol",
           "upper": 362.6609085083008
          },
          {
           "lower": 340.10736694335935,
           "timepoint": 3.1,
           "trajectory": "I_sol",
           "upper": 371.5181228637695
          },
          {
           "lower": 347.4131393432617,
           "timepoint": 3.2,
           "trajectory": "I_sol",
           "upper": 380.590625
          },
          {
           "lower": 354.87470092773435,
           "timepoint": 3.3,
           "trajectory": "I_sol",
           "upper": 389.88353881835934
          },
          {
           "lower": 362.4949584960938,
           "timepoint": 3.4,
           "trajectory": "I_sol",
           "upper": 399.40206451416014
          },
          {
           "lower": 370.2327178955078,
           "timepoint": 3.5,
           "trajectory": "I_sol",
           "upper": 409.15214691162106
          },
          {
           "lower": 378.0937133789063,
           "timepoint": 3.6,
           "trajectory": "I_sol",
           "upper": 419.1394271850586
          },
          {
           "lower": 386.11955108642576,
           "timepoint": 3.7,
           "trajectory": "I_sol",
           "upper": 429.3696487426758
          },
          {
           "lower": 394.3136505126953,
           "timepoint": 3.8,
           "trajectory": "I_sol",
           "upper": 439.8488174438476
          },
          {
           "lower": 402.6796676635742,
           "timepoint": 3.9,
           "trajectory": "I_sol",
           "upper": 450.5830963134766
          },
          {
           "lower": 411.2214157104492,
           "timepoint": 4,
           "trajectory": "I_sol",
           "upper": 461.5780456542969
          },
          {
           "lower": 419.94270782470704,
           "timepoint": 4.1,
           "trajectory": "I_sol",
           "upper": 472.84102630615234
          },
          {
           "lower": 428.84737701416014,
           "timepoint": 4.2,
           "trajectory": "I_sol",
           "upper": 484.37816925048827
          },
          {
           "lower": 437.9393508911133,
           "timepoint": 4.3,
           "trajectory": "I_sol",
           "upper": 496.19630584716793
          },
          {
           "lower": 447.22265167236327,
           "timepoint": 4.4,
           "trajectory": "I_sol",
           "upper": 508.30212249755857
          },
          {
           "lower": 456.7020660400391,
           "timepoint": 4.5,
           "trajectory": "I_sol",
           "upper": 520.7027130126953
          },
          {
           "lower": 466.38072509765624,
           "timepoint": 4.6,
           "trajectory": "I_sol",
           "upper": 533.4059692382813
          },
          {
           "lower": 476.26344299316406,
           "timepoint": 4.7,
           "trajectory": "I_sol",
           "upper": 546.418246459961
          },
          {
           "lower": 486.35448150634767,
           "timepoint": 4.8,
           "trajectory": "I_sol",
           "upper": 559.7475799560547
          },
          {
           "lower": 496.6582778930664,
           "timepoint": 4.9,
           "trajectory": "I_sol",
           "upper": 573.4015380859375
          },
          {
           "lower": 507.17940216064454,
           "timepoint": 5,
           "trajectory": "I_sol",
           "upper": 587.3880676269531
          },
          {
           "lower": 517.9225158691406,
           "timepoint": 5.1,
           "trajectory": "I_sol",
           "upper": 601.7153869628906
          },
          {
           "lower": 528.8928131103515,
           "timepoint": 5.2,
           "trajectory": "I_sol",
           "upper": 616.3927642822266
          },
          {
           "lower": 540.0945037841797,
           "timepoint": 5.3,
           "trajectory": "I_sol",
           "upper": 631.4272613525391
          },
          {
           "lower": 551.5327178955079,
           "timepoint": 5.4,
           "trajectory": "I_sol",
           "upper": 646.8281158447265
          },
          {
           "lower": 563.2124786376953,
           "timepoint": 5.5,
           "trajectory": "I_sol",
           "upper": 662.604541015625
          },
          {
           "lower": 575.1391571044921,
           "timepoint": 5.6,
           "trajectory": "I_sol",
           "upper": 678.7656280517579
          },
          {
           "lower": 587.3177062988282,
           "timepoint": 5.7,
           "trajectory": "I_sol",
           "upper": 695.3206390380859
          },
          {
           "lower": 599.7537322998047,
           "timepoint": 5.8,
           "trajectory": "I_sol",
           "upper": 712.2775115966797
          },
          {
           "lower": 612.4510314941406,
           "timepoint": 5.9,
           "trajectory": "I_sol",
           "upper": 729.6488677978516
          },
          {
           "lower": 625.4178314208984,
           "timepoint": 6,
           "trajectory": "I_sol",
           "upper": 747.4436889648438
          },
          {
           "lower": 638.6586730957031,
           "timepoint": 6.1,
           "trajectory": "I_sol",
           "upper": 765.6721649169922
          },
          {
           "lower": 652.179476928711,
           "timepoint": 6.2,
           "trajectory": "I_sol",
           "upper": 784.3449645996094
          },
          {
           "lower": 665.9862243652344,
           "timepoint": 6.3,
           "trajectory": "I_sol",
           "upper": 803.4729583740234
          },
          {
           "lower": 680.0848937988281,
           "timepoint": 6.4,
           "trajectory": "I_sol",
           "upper": 823.0682983398438
          },
          {
           "lower": 694.4817047119141,
           "timepoint": 6.5,
           "trajectory": "I_sol",
           "upper": 843.1404296875
          },
          {
           "lower": 709.1818389892578,
           "timepoint": 6.6,
           "trajectory": "I_sol",
           "upper": 863.7019073486329
          },
          {
           "lower": 724.1936676025391,
           "timepoint": 6.7,
           "trajectory": "I_sol",
           "upper": 884.764453125
          },
          {
           "lower": 739.5229248046875,
           "timepoint": 6.8,
           "trajectory": "I_sol",
           "upper": 906.340444946289
          },
          {
           "lower": 755.1763336181641,
           "timepoint": 6.9,
           "trajectory": "I_sol",
           "upper": 928.4420318603516
          },
          {
           "lower": 771.1608001708985,
           "timepoint": 7,
           "trajectory": "I_sol",
           "upper": 951.0846069335937
          },
          {
           "lower": 787.4834045410156,
           "timepoint": 7.1,
           "trajectory": "I_sol",
           "upper": 974.2776550292969
          },
          {
           "lower": 804.151220703125,
           "timepoint": 7.2,
           "trajectory": "I_sol",
           "upper": 998.0363494873047
          },
          {
           "lower": 821.1715728759766,
           "timepoint": 7.3,
           "trajectory": "I_sol",
           "upper": 1022.3742553710938
          },
          {
           "lower": 838.551889038086,
           "timepoint": 7.4,
           "trajectory": "I_sol",
           "upper": 1047.3055603027344
          },
          {
           "lower": 856.2999481201172,
           "timepoint": 7.5,
           "trajectory": "I_sol",
           "upper": 1072.8448547363282
          },
          {
           "lower": 874.4233001708984,
           "timepoint": 7.6,
           "trajectory": "I_sol",
           "upper": 1099.0066711425782
          },
          {
           "lower": 892.9301452636719,
           "timepoint": 7.7,
           "trajectory": "I_sol",
           "upper": 1125.8047607421875
          },
          {
           "lower": 911.8284881591796,
           "timepoint": 7.8,
           "trajectory": "I_sol",
           "upper": 1153.2574523925782
          },
          {
           "lower": 931.1267211914062,
           "timepoint": 7.9,
           "trajectory": "I_sol",
           "upper": 1181.3793334960938
          },
          {
           "lower": 950.8328094482422,
           "timepoint": 8,
           "trajectory": "I_sol",
           "upper": 1210.1866333007813
          },
          {
           "lower": 970.9560485839844,
           "timepoint": 8.1,
           "trajectory": "I_sol",
           "upper": 1239.696307373047
          },
          {
           "lower": 991.5048675537109,
           "timepoint": 8.2,
           "trajectory": "I_sol",
           "upper": 1269.9247192382813
          },
          {
           "lower": 1012.4884063720704,
           "timepoint": 8.3,
           "trajectory": "I_sol",
           "upper": 1300.8923767089843
          },
          {
           "lower": 1033.915753173828,
           "timepoint": 8.4,
           "trajectory": "I_sol",
           "upper": 1332.6134094238282
          },
          {
           "lower": 1055.7968200683595,
           "timepoint": 8.5,
           "trajectory": "I_sol",
           "upper": 1365.1079467773438
          },
          {
           "lower": 1078.1407104492187,
           "timepoint": 8.6,
           "trajectory": "I_sol",
           "upper": 1398.3945251464843
          },
          {
           "lower": 1100.9569396972656,
           "timepoint": 8.7,
           "trajectory": "I_sol",
           "upper": 1432.4920654296875
          },
          {
           "lower": 1124.2562255859375,
           "timepoint": 8.8,
           "trajectory": "I_sol",
           "upper": 1467.4211791992188
          },
          {
           "lower": 1148.0482055664063,
           "timepoint": 8.9,
           "trajectory": "I_sol",
           "upper": 1503.0782592773437
          },
          {
           "lower": 1172.3436218261718,
           "timepoint": 9,
           "trajectory": "I_sol",
           "upper": 1539.5832824707031
          },
          {
           "lower": 1197.1530517578126,
           "timepoint": 9.1,
           "trajectory": "I_sol",
           "upper": 1576.9776184082032
          },
          {
           "lower": 1222.4870056152345,
           "timepoint": 9.2,
           "trajectory": "I_sol",
           "upper": 1615.2791442871094
          },
          {
           "lower": 1248.357177734375,
           "timepoint": 9.3,
           "trajectory": "I_sol",
           "upper": 1654.5111389160156
          },
          {
           "lower": 1274.7744262695312,
           "timepoint": 9.4,
           "trajectory": "I_sol",
           "upper": 1694.6950317382812
          },
          {
           "lower": 1301.7512573242188,
           "timepoint": 9.5,
           "trajectory": "I_sol",
           "upper": 1735.8548583984375
          },
          {
           "lower": 1329.298358154297,
           "timepoint": 9.6,
           "trajectory": "I_sol",
           "upper": 1778.0169738769532
          },
          {
           "lower": 1357.4283508300782,
           "timepoint": 9.7,
           "trajectory": "I_sol",
           "upper": 1821.2003479003906
          },
          {
           "lower": 1386.1533996582032,
           "timepoint": 9.8,
           "trajectory": "I_sol",
           "upper": 1865.4326904296875
          },
          {
           "lower": 1415.4857666015625,
           "timepoint": 9.9,
           "trajectory": "I_sol",
           "upper": 1910.7381958007813
          },
          {
           "lower": 1445.438623046875,
           "timepoint": 10,
           "trajectory": "I_sol",
           "upper": 1957.1444458007813
          },
          {
           "lower": 1476.024658203125,
           "timepoint": 10.1,
           "trajectory": "I_sol",
           "upper": 2004.6774597167969
          },
          {
           "lower": 1507.2571655273437,
           "timepoint": 10.2,
           "trajectory": "I_sol",
           "upper": 2053.363879394531
          },
          {
           "lower": 1539.1548156738281,
           "timepoint": 10.3,
           "trajectory": "I_sol",
           "upper": 2103.2342163085937
          },
          {
           "lower": 1571.7240661621095,
           "timepoint": 10.4,
           "trajectory": "I_sol",
           "upper": 2154.313671875
          },
          {
           "lower": 1604.9825134277344,
           "timepoint": 10.5,
           "trajectory": "I_sol",
           "upper": 2206.6342529296876
          },
          {
           "lower": 1638.9442749023438,
           "timepoint": 10.6,
           "trajectory": "I_sol",
           "upper": 2260.2252197265625
          },
          {
           "lower": 1673.6245239257812,
           "timepoint": 10.7,
           "trajectory": "I_sol",
           "upper": 2315.1169189453126
          },
          {
           "lower": 1709.0384216308594,
           "timepoint": 10.8,
           "trajectory": "I_sol",
           "upper": 2371.3422973632814
          },
          {
           "lower": 1745.2011779785157,
           "timepoint": 10.9,
           "trajectory": "I_sol",
           "upper": 2428.9330810546876
          },
          {
           "lower": 1782.1292724609375,
           "timepoint": 11,
           "trajectory": "I_sol",
           "upper": 2487.916259765625
          },
          {
           "lower": 1819.839599609375,
           "timepoint": 11.1,
           "trajectory": "I_sol",
           "upper": 2548.33564453125
          },
          {
           "lower": 1858.346612548828,
           "timepoint": 11.2,
           "trajectory": "I_sol",
           "upper": 2610.2218627929688
          },
          {
           "lower": 1897.6683349609375,
           "timepoint": 11.3,
           "trajectory": "I_sol",
           "upper": 2673.6108642578124
          },
          {
           "lower": 1937.8217163085938,
           "timepoint": 11.4,
           "trajectory": "I_sol",
           "upper": 2738.5383056640626
          },
          {
           "lower": 1978.8250244140625,
           "timepoint": 11.5,
           "trajectory": "I_sol",
           "upper": 2805.0429931640624
          },
          {
           "lower": 2020.6957214355468,
           "timepoint": 11.6,
           "trajectory": "I_sol",
           "upper": 2873.162145996094
          },
          {
           "lower": 2063.452185058594,
           "timepoint": 11.7,
           "trajectory": "I_sol",
           "upper": 2942.9297729492187
          },
          {
           "lower": 2107.1093017578123,
           "timepoint": 11.8,
           "trajectory": "I_sol",
           "upper": 3014.3949340820313
          },
          {
           "lower": 2151.692736816406,
           "timepoint": 11.9,
           "trajectory": "I_sol",
           "upper": 3087.593798828125
          },
          {
           "lower": 2197.2192993164062,
           "timepoint": 12,
           "trajectory": "I_sol",
           "upper": 3162.5698364257814
          },
          {
           "lower": 2243.7086181640625,
           "timepoint": 12.1,
           "trajectory": "I_sol",
           "upper": 3239.3658203125
          },
          {
           "lower": 2291.181286621094,
           "timepoint": 12.2,
           "trajectory": "I_sol",
           "upper": 3318.025012207031
          },
          {
           "lower": 2339.658544921875,
           "timepoint": 12.3,
           "trajectory": "I_sol",
           "upper": 3398.596826171875
          },
          {
           "lower": 2389.1605834960938,
           "timepoint": 12.4,
           "trajectory": "I_sol",
           "upper": 3481.121484375
          },
          {
           "lower": 2439.71005859375,
           "timepoint": 12.5,
           "trajectory": "I_sol",
           "upper": 3565.6501342773436
          },
          {
           "lower": 2491.32568359375,
           "timepoint": 12.6,
           "trajectory": "I_sol",
           "upper": 3652.230358886719
          },
          {
           "lower": 2544.034716796875,
           "timepoint": 12.7,
           "trajectory": "I_sol",
           "upper": 3740.91103515625
          },
          {
           "lower": 2597.859484863281,
           "timepoint": 12.8,
           "trajectory": "I_sol",
           "upper": 3831.7451782226562
          },
          {
           "lower": 2652.820837402344,
           "timepoint": 12.9,
           "trajectory": "I_sol",
           "upper": 3924.7833862304688
          },
          {
           "lower": 2708.9449462890625,
           "timepoint": 13,
           "trajectory": "I_sol",
           "upper": 4020.0753662109373
          },
          {
           "lower": 2766.2559814453125,
           "timepoint": 13.1,
           "trajectory": "I_sol",
           "upper": 4117.68359375
          },
          {
           "lower": 2824.7774169921877,
           "timepoint": 13.2,
           "trajectory": "I_sol",
           "upper": 4217.660009765625
          },
          {
           "lower": 2884.5365356445313,
           "timepoint": 13.3,
           "trajectory": "I_sol",
           "upper": 4320.061962890625
          },
          {
           "lower": 2945.5679565429687,
           "timepoint": 13.4,
           "trajectory": "I_sol",
           "upper": 4424.9478759765625
          },
          {
           "lower": 3007.88369140625,
           "timepoint": 13.5,
           "trajectory": "I_sol",
           "upper": 4532.379418945313
          },
          {
           "lower": 3071.51728515625,
           "timepoint": 13.6,
           "trajectory": "I_sol",
           "upper": 4642.4180908203125
          },
          {
           "lower": 3136.4959106445312,
           "timepoint": 13.7,
           "trajectory": "I_sol",
           "upper": 4755.129907226563
          },
          {
           "lower": 3202.84892578125,
           "timepoint": 13.8,
           "trajectory": "I_sol",
           "upper": 4870.573828125
          },
          {
           "lower": 3270.6046630859373,
           "timepoint": 13.9,
           "trajectory": "I_sol",
           "upper": 4988.8179931640625
          },
          {
           "lower": 3339.7931518554688,
           "timepoint": 14,
           "trajectory": "I_sol",
           "upper": 5109.930908203125
          },
          {
           "lower": 3410.4448364257814,
           "timepoint": 14.1,
           "trajectory": "I_sol",
           "upper": 5233.982397460937
          },
          {
           "lower": 3482.587158203125,
           "timepoint": 14.2,
           "trajectory": "I_sol",
           "upper": 5361.04052734375
          },
          {
           "lower": 3556.257421875,
           "timepoint": 14.3,
           "trajectory": "I_sol",
           "upper": 5491.180590820312
          },
          {
           "lower": 3631.4842895507813,
           "timepoint": 14.4,
           "trajectory": "I_sol",
           "upper": 5624.488110351563
          },
          {
           "lower": 3708.3025024414064,
           "timepoint": 14.5,
           "trajectory": "I_sol",
           "upper": 5761.022045898438
          },
          {
           "lower": 3786.7447143554687,
           "timepoint": 14.6,
           "trajectory": "I_sol",
           "upper": 5900.86884765625
          },
          {
           "lower": 3866.844201660156,
           "timepoint": 14.7,
           "trajectory": "I_sol",
           "upper": 6044.106396484375
          },
          {
           "lower": 3948.638037109375,
           "timepoint": 14.8,
           "trajectory": "I_sol",
           "upper": 6190.82060546875
          },
          {
           "lower": 4032.1596557617186,
           "timepoint": 14.9,
           "trajectory": "I_sol",
           "upper": 6341.091259765625
          },
          {
           "lower": 4117.448474121094,
           "timepoint": 15,
           "trajectory": "I_sol",
           "upper": 6495.0086669921875
          },
          {
           "lower": 4204.54013671875,
           "timepoint": 15.1,
           "trajectory": "I_sol",
           "upper": 6652.649926757812
          },
          {
           "lower": 4293.471484375,
           "timepoint": 15.2,
           "trajectory": "I_sol",
           "upper": 6814.120141601562
          },
          {
           "lower": 4384.2830078125,
           "timepoint": 15.3,
           "trajectory": "I_sol",
           "upper": 6979.50693359375
          },
          {
           "lower": 4477.013208007813,
           "timepoint": 15.4,
           "trajectory": "I_sol",
           "upper": 7148.903588867187
          },
          {
           "lower": 4571.703100585937,
           "timepoint": 15.5,
           "trajectory": "I_sol",
           "upper": 7322.409350585937
          },
          {
           "lower": 4668.39404296875,
           "timepoint": 15.6,
           "trajectory": "I_sol",
           "upper": 7500.121533203125
          },
          {
           "lower": 4767.127978515625,
           "timepoint": 15.7,
           "trajectory": "I_sol",
           "upper": 7682.14130859375
          },
          {
           "lower": 4867.9548828125,
           "timepoint": 15.8,
           "trajectory": "I_sol",
           "upper": 7868.567553710937
          },
          {
           "lower": 4970.906420898437,
           "timepoint": 15.9,
           "trajectory": "I_sol",
           "upper": 8059.518603515625
          },
          {
           "lower": 5076.03623046875,
           "timepoint": 16,
           "trajectory": "I_sol",
           "upper": 8255.099365234375
          },
          {
           "lower": 5183.386450195312,
           "timepoint": 16.1,
           "trajectory": "I_sol",
           "upper": 8455.421240234375
          },
          {
           "lower": 5293.0054931640625,
           "timepoint": 16.2,
           "trajectory": "I_sol",
           "upper": 8660.601220703125
          },
          {
           "lower": 5404.937670898437,
           "timepoint": 16.3,
           "trajectory": "I_sol",
           "upper": 8870.747363281249
          },
          {
           "lower": 5519.2380859375,
           "timepoint": 16.4,
           "trajectory": "I_sol",
           "upper": 9085.993115234374
          },
          {
           "lower": 5635.953076171875,
           "timepoint": 16.5,
           "trajectory": "I_sol",
           "upper": 9306.451025390625
          },
          {
           "lower": 5755.134790039063,
           "timepoint": 16.6,
           "trajectory": "I_sol",
           "upper": 9532.255419921874
          },
          {
           "lower": 5876.834033203125,
           "timepoint": 16.7,
           "trajectory": "I_sol",
           "upper": 9763.532177734374
          },
          {
           "lower": 6001.101611328125,
           "timepoint": 16.8,
           "trajectory": "I_sol",
           "upper": 10000.4091796875
          },
          {
           "lower": 6127.997241210937,
           "timepoint": 16.9,
           "trajectory": "I_sol",
           "upper": 10243.03125
          },
          {
           "lower": 6257.573681640625,
           "timepoint": 17,
           "trajectory": "I_sol",
           "upper": 10491.535009765625
          },
          {
           "lower": 6389.888940429688,
           "timepoint": 17.1,
           "trajectory": "I_sol",
           "upper": 10746.06044921875
          },
          {
           "lower": 6525.000537109375,
           "timepoint": 17.2,
           "trajectory": "I_sol",
           "upper": 11006.716845703124
          },
          {
           "lower": 6662.964111328125,
           "timepoint": 17.3,
           "trajectory": "I_sol",
           "upper": 11273.70947265625
          },
          {
           "lower": 6803.827807617187,
           "timepoint": 17.4,
           "trajectory": "I_sol",
           "upper": 11547.170654296875
          },
          {
           "lower": 6947.678955078125,
           "timepoint": 17.5,
           "trajectory": "I_sol",
           "upper": 11827.254736328125
          },
          {
           "lower": 7094.567211914063,
           "timepoint": 17.6,
           "trajectory": "I_sol",
           "upper": 12114.12021484375
          },
          {
           "lower": 7244.558569335937,
           "timepoint": 17.7,
           "trajectory": "I_sol",
           "upper": 12407.930322265625
          },
          {
           "lower": 7397.713037109375,
           "timepoint": 17.8,
           "trajectory": "I_sol",
           "upper": 12708.842724609374
          },
          {
           "lower": 7554.1055908203125,
           "timepoint": 17.9,
           "trajectory": "I_sol",
           "upper": 13017.086181640625
          },
          {
           "lower": 7713.7991943359375,
           "timepoint": 18,
           "trajectory": "I_sol",
           "upper": 13332.76220703125
          },
          {
           "lower": 7876.863598632813,
           "timepoint": 18.1,
           "trajectory": "I_sol",
           "upper": 13656.082666015625
          },
          {
           "lower": 8043.3690185546875,
           "timepoint": 18.2,
           "trajectory": "I_sol",
           "upper": 13987.226708984375
          },
          {
           "lower": 8213.387158203124,
           "timepoint": 18.3,
           "trajectory": "I_sol",
           "upper": 14326.377001953124
          },
          {
           "lower": 8387.00107421875,
           "timepoint": 18.4,
           "trajectory": "I_sol",
           "upper": 14673.739794921874
          },
          {
           "lower": 8564.28017578125,
           "timepoint": 18.5,
           "trajectory": "I_sol",
           "upper": 15029.492626953124
          },
          {
           "lower": 8745.2669921875,
           "timepoint": 18.6,
           "trajectory": "I_sol",
           "upper": 15393.847900390625
          },
          {
           "lower": 8930.083203125,
           "timepoint": 18.7,
           "trajectory": "I_sol",
           "upper": 15767.003271484375
          },
          {
           "lower": 9118.782275390626,
           "timepoint": 18.8,
           "trajectory": "I_sol",
           "upper": 16149.150146484375
          },
          {
           "lower": 9311.447900390625,
           "timepoint": 18.9,
           "trajectory": "I_sol",
           "upper": 16540.48310546875
          },
          {
           "lower": 9508.09609375,
           "timepoint": 19,
           "trajectory": "I_sol",
           "upper": 16941.19921875
          },
          {
           "lower": 9708.8314453125,
           "timepoint": 19.1,
           "trajectory": "I_sol",
           "upper": 17351.45693359375
          },
          {
           "lower": 9913.665673828125,
           "timepoint": 19.2,
           "trajectory": "I_sol",
           "upper": 17771.355566406248
          },
          {
           "lower": 10122.58193359375,
           "timepoint": 19.3,
           "trajectory": "I_sol",
           "upper": 18200.9890625
          },
          {
           "lower": 10335.532568359375,
           "timepoint": 19.4,
           "trajectory": "I_sol",
           "upper": 18640.26904296875
          },
          {
           "lower": 10552.341259765624,
           "timepoint": 19.5,
           "trajectory": "I_sol",
           "upper": 19088.990820312498
          },
          {
           "lower": 10772.695361328126,
           "timepoint": 19.6,
           "trajectory": "I_sol",
           "upper": 19546.61259765625
          },
          {
           "lower": 10996.042578125,
           "timepoint": 19.7,
           "trajectory": "I_sol",
           "upper": 20012.15986328125
          },
          {
           "lower": 11221.60380859375,
           "timepoint": 19.8,
           "trajectory": "I_sol",
           "upper": 20484.10576171875
          },
          {
           "lower": 11448.13369140625,
           "timepoint": 19.9,
           "trajectory": "I_sol",
           "upper": 20960.228124999998
          },
          {
           "lower": 11674.112841796876,
           "timepoint": 20,
           "trajectory": "I_sol",
           "upper": 21437.61552734375
          },
          {
           "lower": 11897.78955078125,
           "timepoint": 20.1,
           "trajectory": "I_sol",
           "upper": 21912.913183593748
          },
          {
           "lower": 12117.425244140624,
           "timepoint": 20.2,
           "trajectory": "I_sol",
           "upper": 22382.7337890625
          },
          {
           "lower": 12331.519482421874,
           "timepoint": 20.3,
           "trajectory": "I_sol",
           "upper": 22844.186621093748
          },
          {
           "lower": 12538.912060546874,
           "timepoint": 20.4,
           "trajectory": "I_sol",
           "upper": 23294.920703125
          },
          {
           "lower": 12738.838818359374,
           "timepoint": 20.5,
           "trajectory": "I_sol",
           "upper": 23733.43203125
          },
          {
           "lower": 12930.908447265625,
           "timepoint": 20.6,
           "trajectory": "I_sol",
           "upper": 24158.84462890625
          },
          {
           "lower": 13114.968701171874,
           "timepoint": 20.7,
           "trajectory": "I_sol",
           "upper": 24570.81904296875
          },
          {
           "lower": 13291.022998046876,
           "timepoint": 20.8,
           "trajectory": "I_sol",
           "upper": 24969.29326171875
          },
          {
           "lower": 13459.257080078125,
           "timepoint": 20.9,
           "trajectory": "I_sol",
           "upper": 25354.486328125
          },
          {
           "lower": 13619.8705078125,
           "timepoint": 21,
           "trajectory": "I_sol",
           "upper": 25726.773828125
          },
          {
           "lower": 13773.102734375,
           "timepoint": 21.1,
           "trajectory": "I_sol",
           "upper": 26086.53154296875
          },
          {
           "lower": 13919.24619140625,
           "timepoint": 21.2,
           "trajectory": "I_sol",
           "upper": 26434.223730468748
          },
          {
           "lower": 14058.568505859375,
           "timepoint": 21.3,
           "trajectory": "I_sol",
           "upper": 26770.377539062498
          },
          {
           "lower": 14191.37236328125,
           "timepoint": 21.4,
           "trajectory": "I_sol",
           "upper": 27095.4259765625
          },
          {
           "lower": 14317.910693359376,
           "timepoint": 21.5,
           "trajectory": "I_sol",
           "upper": 27409.854296875
          },
          {
           "lower": 14438.456640625,
           "timepoint": 21.6,
           "trajectory": "I_sol",
           "upper": 27714.126074218748
          },
          {
           "lower": 14553.266064453124,
           "timepoint": 21.7,
           "trajectory": "I_sol",
           "upper": 28008.67470703125
          },
          {
           "lower": 14662.58916015625,
           "timepoint": 21.8,
           "trajectory": "I_sol",
           "upper": 28293.94306640625
          },
          {
           "lower": 14766.66875,
           "timepoint": 21.9,
           "trajectory": "I_sol",
           "upper": 28570.3439453125
          },
          {
           "lower": 14865.7302734375,
           "timepoint": 22,
           "trajectory": "I_sol",
           "upper": 28838.26416015625
          },
          {
           "lower": 14959.991845703125,
           "timepoint": 22.1,
           "trajectory": "I_sol",
           "upper": 29098.084765625
          },
          {
           "lower": 15049.667236328125,
           "timepoint": 22.2,
           "trajectory": "I_sol",
           "upper": 29350.250585937498
          },
          {
           "lower": 15134.95751953125,
           "timepoint": 22.3,
           "trajectory": "I_sol",
           "upper": 29594.978515625
          },
          {
           "lower": 15216.052294921876,
           "timepoint": 22.4,
           "trajectory": "I_sol",
           "upper": 29832.65810546875
          },
          {
           "lower": 15293.137353515625,
           "timepoint": 22.5,
           "trajectory": "I_sol",
           "upper": 30063.602148437498
          },
          {
           "lower": 15366.38828125,
           "timepoint": 22.6,
           "trajectory": "I_sol",
           "upper": 30288.12158203125
          },
          {
           "lower": 15435.9712890625,
           "timepoint": 22.7,
           "trajectory": "I_sol",
           "upper": 30506.54150390625
          },
          {
           "lower": 15502.034375,
           "timepoint": 22.8,
           "trajectory": "I_sol",
           "upper": 30719.072363281248
          },
          {
           "lower": 15564.756787109374,
           "timepoint": 22.9,
           "trajectory": "I_sol",
           "upper": 30926.018652343748
          },
          {
           "lower": 15624.26953125,
           "timepoint": 23,
           "trajectory": "I_sol",
           "upper": 31127.6267578125
          },
          {
           "lower": 15680.717822265626,
           "timepoint": 23.1,
           "trajectory": "I_sol",
           "upper": 31324.1505859375
          },
          {
           "lower": 15734.233544921875,
           "timepoint": 23.2,
           "trajectory": "I_sol",
           "upper": 31515.78173828125
          },
          {
           "lower": 15784.95546875,
           "timepoint": 23.3,
           "trajectory": "I_sol",
           "upper": 31702.78740234375
          },
          {
           "lower": 15832.993603515624,
           "timepoint": 23.4,
           "trajectory": "I_sol",
           "upper": 31885.36474609375
          },
          {
           "lower": 15878.469677734374,
           "timepoint": 23.5,
           "trajectory": "I_sol",
           "upper": 32063.71171875
          },
          {
           "lower": 15921.494580078124,
           "timepoint": 23.6,
           "trajectory": "I_sol",
           "upper": 32238.020117187498
          },
          {
           "lower": 15962.17763671875,
           "timepoint": 23.7,
           "trajectory": "I_sol",
           "upper": 32408.54560546875
          },
          {
           "lower": 16000.626611328125,
           "timepoint": 23.8,
           "trajectory": "I_sol",
           "upper": 32575.36572265625
          },
          {
           "lower": 16036.931787109375,
           "timepoint": 23.9,
           "trajectory": "I_sol",
           "upper": 32738.69228515625
          },
          {
           "lower": 16071.187548828126,
           "timepoint": 24,
           "trajectory": "I_sol",
           "upper": 32898.69296875
          },
          {
           "lower": 16103.4904296875,
           "timepoint": 24.1,
           "trajectory": "I_sol",
           "upper": 33055.5244140625
          },
          {
           "lower": 16133.919189453125,
           "timepoint": 24.2,
           "trajectory": "I_sol",
           "upper": 33209.3404296875
          },
          {
           "lower": 16162.5623046875,
           "timepoint": 24.3,
           "trajectory": "I_sol",
           "upper": 33360.1443359375
          },
          {
           "lower": 16189.486865234376,
           "timepoint": 24.4,
           "trajectory": "I_sol",
           "upper": 33508.281640625
          },
          {
           "lower": 16214.78076171875,
           "timepoint": 24.5,
           "trajectory": "I_sol",
           "upper": 33653.79140625
          },
          {
           "lower": 16238.510693359374,
           "timepoint": 24.6,
           "trajectory": "I_sol",
           "upper": 33796.795703125
          },
          {
           "lower": 16260.74599609375,
           "timepoint": 24.7,
           "trajectory": "I_sol",
           "upper": 33937.415234375
          },
          {
           "lower": 16281.55068359375,
           "timepoint": 24.8,
           "trajectory": "I_sol",
           "upper": 34075.767578125
          },
          {
           "lower": 16300.990869140625,
           "timepoint": 24.9,
           "trajectory": "I_sol",
           "upper": 34211.99453125
          },
          {
           "lower": 16319.118505859375,
           "timepoint": 25,
           "trajectory": "I_sol",
           "upper": 34346.1396484375
          },
          {
           "lower": 16336.000244140625,
           "timepoint": 25.1,
           "trajectory": "I_sol",
           "upper": 34478.32265625
          },
          {
           "lower": 16351.685302734375,
           "timepoint": 25.2,
           "trajectory": "I_sol",
           "upper": 34608.6408203125
          },
          {
           "lower": 16366.225341796875,
           "timepoint": 25.3,
           "trajectory": "I_sol",
           "upper": 34737.1880859375
          },
          {
           "lower": 16379.6732421875,
           "timepoint": 25.4,
           "trajectory": "I_sol",
           "upper": 34864.05
          },
          {
           "lower": 16392.073388671874,
           "timepoint": 25.5,
           "trajectory": "I_sol",
           "upper": 34989.355078125
          },
          {
           "lower": 16403.506689453126,
           "timepoint": 25.6,
           "trajectory": "I_sol",
           "upper": 35113.0978515625
          },
          {
           "lower": 16413.964306640624,
           "timepoint": 25.7,
           "trajectory": "I_sol",
           "upper": 35235.394140625
          },
          {
           "lower": 16423.510986328125,
           "timepoint": 25.8,
           "trajectory": "I_sol",
           "upper": 35356.3103515625
          },
          {
           "lower": 16432.1810546875,
           "timepoint": 25.9,
           "trajectory": "I_sol",
           "upper": 35475.924609375
          },
          {
           "lower": 16440.0197265625,
           "timepoint": 26,
           "trajectory": "I_sol",
           "upper": 35594.2921875
          },
          {
           "lower": 16447.05712890625,
           "timepoint": 26.1,
           "trajectory": "I_sol",
           "upper": 35711.471484375
          },
          {
           "lower": 16453.33193359375,
           "timepoint": 26.2,
           "trajectory": "I_sol",
           "upper": 35827.6146484375
          },
          {
           "lower": 16458.897607421874,
           "timepoint": 26.3,
           "trajectory": "I_sol",
           "upper": 35942.64765625
          },
          {
           "lower": 16463.75380859375,
           "timepoint": 26.4,
           "trajectory": "I_sol",
           "upper": 36056.6720703125
          },
          {
           "lower": 16467.94658203125,
           "timepoint": 26.5,
           "trajectory": "I_sol",
           "upper": 36169.746875
          },
          {
           "lower": 16471.501123046874,
           "timepoint": 26.6,
           "trajectory": "I_sol",
           "upper": 36281.91875
          },
          {
           "lower": 16474.443359375,
           "timepoint": 26.7,
           "trajectory": "I_sol",
           "upper": 36393.234765625
          },
          {
           "lower": 16476.805712890626,
           "timepoint": 26.8,
           "trajectory": "I_sol",
           "upper": 36503.73828125
          },
          {
           "lower": 16478.609912109376,
           "timepoint": 26.9,
           "trajectory": "I_sol",
           "upper": 36613.568359375
          },
          {
           "lower": 16479.888525390626,
           "timepoint": 27,
           "trajectory": "I_sol",
           "upper": 36722.616015625
          },
          {
           "lower": 16480.657568359376,
           "timepoint": 27.1,
           "trajectory": "I_sol",
           "upper": 36830.9912109375
          },
          {
           "lower": 16480.940234375,
           "timepoint": 27.2,
           "trajectory": "I_sol",
           "upper": 36938.7248046875
          },
          {
           "lower": 16480.759765625,
           "timepoint": 27.3,
           "trajectory": "I_sol",
           "upper": 37045.8521484375
          },
          {
           "lower": 16480.13466796875,
           "timepoint": 27.4,
           "trajectory": "I_sol",
           "upper": 37152.4197265625
          },
          {
           "lower": 16479.0875,
           "timepoint": 27.5,
           "trajectory": "I_sol",
           "upper": 37258.4509765625
          },
          {
           "lower": 16477.633935546874,
           "timepoint": 27.6,
           "trajectory": "I_sol",
           "upper": 37364.021875
          },
          {
           "lower": 16475.784033203126,
           "timepoint": 27.7,
           "trajectory": "I_sol",
           "upper": 37469.100390625
          },
          {
           "lower": 16473.57021484375,
           "timepoint": 27.8,
           "trajectory": "I_sol",
           "upper": 37573.7330078125
          },
          {
           "lower": 16471.004443359376,
           "timepoint": 27.9,
           "trajectory": "I_sol",
           "upper": 37677.9587890625
          },
          {
           "lower": 16468.096630859374,
           "timepoint": 28,
           "trajectory": "I_sol",
           "upper": 37781.8009765625
          },
          {
           "lower": 16464.866845703124,
           "timepoint": 28.1,
           "trajectory": "I_sol",
           "upper": 37885.2908203125
          },
          {
           "lower": 16461.330517578124,
           "timepoint": 28.2,
           "trajectory": "I_sol",
           "upper": 37988.4369140625
          },
          {
           "lower": 16457.49677734375,
           "timepoint": 28.3,
           "trajectory": "I_sol",
           "upper": 38091.280859375
          },
          {
           "lower": 16453.3828125,
           "timepoint": 28.4,
           "trajectory": "I_sol",
           "upper": 38193.8572265625
          },
          {
           "lower": 16448.9986328125,
           "timepoint": 28.5,
           "trajectory": "I_sol",
           "upper": 38296.1578125
          },
          {
           "lower": 16444.355810546876,
           "timepoint": 28.6,
           "trajectory": "I_sol",
           "upper": 38398.215625
          },
          {
           "lower": 16439.46796875,
           "timepoint": 28.7,
           "trajectory": "I_sol",
           "upper": 38500.0541015625
          },
          {
           "lower": 16434.344921875,
           "timepoint": 28.8,
           "trajectory": "I_sol",
           "upper": 38601.6892578125
          },
          {
           "lower": 16428.996337890625,
           "timepoint": 28.9,
           "trajectory": "I_sol",
           "upper": 38703.14765625
          },
          {
           "lower": 16423.43193359375,
           "timepoint": 29,
           "trajectory": "I_sol",
           "upper": 38804.437890625
          },
          {
           "lower": 16417.6650390625,
           "timepoint": 29.1,
           "trajectory": "I_sol",
           "upper": 38905.587109375
          },
          {
           "lower": 16411.699951171875,
           "timepoint": 29.2,
           "trajectory": "I_sol",
           "upper": 39006.6138671875
          },
          {
           "lower": 16405.536962890626,
           "timepoint": 29.3,
           "trajectory": "I_sol",
           "upper": 39107.3798828125
          },
          {
           "lower": 16399.202490234376,
           "timepoint": 29.4,
           "trajectory": "I_sol",
           "upper": 39208.1474609375
          },
          {
           "lower": 16392.702490234376,
           "timepoint": 29.5,
           "trajectory": "I_sol",
           "upper": 39308.8169921875
          },
          {
           "lower": 16386.03359375,
           "timepoint": 29.6,
           "trajectory": "I_sol",
           "upper": 39409.4078125
          },
          {
           "lower": 16379.212841796874,
           "timepoint": 29.7,
           "trajectory": "I_sol",
           "upper": 39509.9275390625
          },
          {
           "lower": 16372.2416015625,
           "timepoint": 29.8,
           "trajectory": "I_sol",
           "upper": 39610.39609375
          },
          {
           "lower": 16365.126318359375,
           "timepoint": 29.9,
           "trajectory": "I_sol",
           "upper": 39710.8208984375
          },
          {
           "lower": 16357.87587890625,
           "timepoint": 30,
           "trajectory": "I_sol",
           "upper": 39811.2099609375
          },
          {
           "lower": 16350.49599609375,
           "timepoint": 30.1,
           "trajectory": "I_sol",
           "upper": 39911.5826171875
          },
          {
           "lower": 16342.985205078125,
           "timepoint": 30.2,
           "trajectory": "I_sol",
           "upper": 40012.0412109375
          },
          {
           "lower": 16335.36328125,
           "timepoint": 30.3,
           "trajectory": "I_sol",
           "upper": 40112.4125
          },
          {
           "lower": 16327.6267578125,
           "timepoint": 30.4,
           "trajectory": "I_sol",
           "upper": 40212.809765625
          },
          {
           "lower": 16319.781298828126,
           "timepoint": 30.5,
           "trajectory": "I_sol",
           "upper": 40313.214453125
          },
          {
           "lower": 16311.832958984374,
           "timepoint": 30.6,
           "trajectory": "I_sol",
           "upper": 40413.653125
          },
          {
           "lower": 16307.398681640625,
           "timepoint": 30.7,
           "trajectory": "I_sol",
           "upper": 40514.13046875
          },
          {
           "lower": 16303.98916015625,
           "timepoint": 30.8,
           "trajectory": "I_sol",
           "upper": 40614.649609375
          },
          {
           "lower": 16300.497216796875,
           "timepoint": 30.9,
           "trajectory": "I_sol",
           "upper": 40715.2263671875
          },
          {
           "lower": 16296.92294921875,
           "timepoint": 31,
           "trajectory": "I_sol",
           "upper": 40815.864453125
          },
          {
           "lower": 16293.272119140625,
           "timepoint": 31.1,
           "trajectory": "I_sol",
           "upper": 40915.5490234375
          },
          {
           "lower": 16289.54873046875,
           "timepoint": 31.2,
           "trajectory": "I_sol",
           "upper": 41012.4955078125
          },
          {
           "lower": 16285.7533203125,
           "timepoint": 31.3,
           "trajectory": "I_sol",
           "upper": 41109.480078125
          },
          {
           "lower": 16281.890380859375,
           "timepoint": 31.4,
           "trajectory": "I_sol",
           "upper": 41206.5357421875
          },
          {
           "lower": 16277.9609375,
           "timepoint": 31.5,
           "trajectory": "I_sol",
           "upper": 41303.673828125
          },
          {
           "lower": 16273.96875,
           "timepoint": 31.6,
           "trajectory": "I_sol",
           "upper": 41400.8912109375
          },
          {
           "lower": 16269.950341796875,
           "timepoint": 31.7,
           "trajectory": "I_sol",
           "upper": 41498.202734375
          },
          {
           "lower": 16265.851025390624,
           "timepoint": 31.8,
           "trajectory": "I_sol",
           "upper": 41595.5974609375
          },
          {
           "lower": 16261.6978515625,
           "timepoint": 31.9,
           "trajectory": "I_sol",
           "upper": 41693.1017578125
          },
          {
           "lower": 16257.493701171876,
           "timepoint": 32,
           "trajectory": "I_sol",
           "upper": 41790.712109375
          },
          {
           "lower": 16253.2396484375,
           "timepoint": 32.1,
           "trajectory": "I_sol",
           "upper": 41888.4287109375
          },
          {
           "lower": 16248.9388671875,
           "timepoint": 32.2,
           "trajectory": "I_sol",
           "upper": 41986.1677734375
          },
          {
           "lower": 16244.59033203125,
           "timepoint": 32.3,
           "trajectory": "I_sol",
           "upper": 42084.09453125
          },
          {
           "lower": 16240.199658203124,
           "timepoint": 32.4,
           "trajectory": "I_sol",
           "upper": 42182.143359375
          },
          {
           "lower": 16235.76611328125,
           "timepoint": 32.5,
           "trajectory": "I_sol",
           "upper": 42280.31015625
          },
          {
           "lower": 16231.293359375,
           "timepoint": 32.6,
           "trajectory": "I_sol",
           "upper": 42378.60703125
          },
          {
           "lower": 16226.78076171875,
           "timepoint": 32.7,
           "trajectory": "I_sol",
           "upper": 42477.0298828125
          },
          {
           "lower": 16222.270947265624,
           "timepoint": 32.8,
           "trajectory": "I_sol",
           "upper": 42575.5861328125
          },
          {
           "lower": 16217.695361328126,
           "timepoint": 32.9,
           "trajectory": "I_sol",
           "upper": 42674.28046875
          },
          {
           "lower": 16213.087548828125,
           "timepoint": 33,
           "trajectory": "I_sol",
           "upper": 42773.116015625
          },
          {
           "lower": 16208.449365234375,
           "timepoint": 33.1,
           "trajectory": "I_sol",
           "upper": 42872.09296875
          },
          {
           "lower": 16203.7791015625,
           "timepoint": 33.2,
           "trajectory": "I_sol",
           "upper": 42971.212109375
          },
          {
           "lower": 16199.08095703125,
           "timepoint": 33.3,
           "trajectory": "I_sol",
           "upper": 43070.483984375
          },
          {
           "lower": 16194.3560546875,
           "timepoint": 33.4,
           "trajectory": "I_sol",
           "upper": 43169.9080078125
          },
          {
           "lower": 16189.603955078124,
           "timepoint": 33.5,
           "trajectory": "I_sol",
           "upper": 43269.4791015625
          },
          {
           "lower": 16184.8275390625,
           "timepoint": 33.6,
           "trajectory": "I_sol",
           "upper": 43369.20703125
          },
          {
           "lower": 16180.027685546875,
           "timepoint": 33.7,
           "trajectory": "I_sol",
           "upper": 43469.0998046875
          },
          {
           "lower": 16175.2044921875,
           "timepoint": 33.8,
           "trajectory": "I_sol",
           "upper": 43569.1427734375
          },
          {
           "lower": 16170.360791015624,
           "timepoint": 33.9,
           "trajectory": "I_sol",
           "upper": 43669.3505859375
          },
          {
           "lower": 16164.894580078126,
           "timepoint": 34,
           "trajectory": "I_sol",
           "upper": 43769.7234375
          },
          {
           "lower": 16149.976708984375,
           "timepoint": 34.1,
           "trajectory": "I_sol",
           "upper": 43870.2537109375
          },
          {
           "lower": 16135.04677734375,
           "timepoint": 34.2,
           "trajectory": "I_sol",
           "upper": 43970.964453125
          },
          {
           "lower": 16120.0994140625,
           "timepoint": 34.3,
           "trajectory": "I_sol",
           "upper": 44071.8373046875
          },
          {
           "lower": 16105.150439453126,
           "timepoint": 34.4,
           "trajectory": "I_sol",
           "upper": 44172.8861328125
          },
          {
           "lower": 16090.19111328125,
           "timepoint": 34.5,
           "trajectory": "I_sol",
           "upper": 44274.1009765625
          },
          {
           "lower": 16075.227392578125,
           "timepoint": 34.6,
           "trajectory": "I_sol",
           "upper": 44375.4962890625
          },
          {
           "lower": 16060.25732421875,
           "timepoint": 34.7,
           "trajectory": "I_sol",
           "upper": 44477.07265625
          },
          {
           "lower": 16045.281103515625,
           "timepoint": 34.8,
           "trajectory": "I_sol",
           "upper": 44578.8248046875
          },
          {
           "lower": 16030.300537109375,
           "timepoint": 34.9,
           "trajectory": "I_sol",
           "upper": 44680.7541015625
          },
          {
           "lower": 16015.316650390625,
           "timepoint": 35,
           "trajectory": "I_sol",
           "upper": 44782.8599609375
          },
          {
           "lower": 16000.328564453124,
           "timepoint": 35.1,
           "trajectory": "I_sol",
           "upper": 44885.150390625
          },
          {
           "lower": 15985.339013671875,
           "timepoint": 35.2,
           "trajectory": "I_sol",
           "upper": 44987.6220703125
          },
          {
           "lower": 15970.34716796875,
           "timepoint": 35.3,
           "trajectory": "I_sol",
           "upper": 45090.2818359375
          },
          {
           "lower": 15955.353955078124,
           "timepoint": 35.4,
           "trajectory": "I_sol",
           "upper": 45193.1228515625
          },
          {
           "lower": 15940.360302734374,
           "timepoint": 35.5,
           "trajectory": "I_sol",
           "upper": 45296.1447265625
          },
          {
           "lower": 15925.370068359374,
           "timepoint": 35.6,
           "trajectory": "I_sol",
           "upper": 45399.35859375
          },
          {
           "lower": 15910.376611328125,
           "timepoint": 35.7,
           "trajectory": "I_sol",
           "upper": 45502.7615234375
          },
          {
           "lower": 15895.385400390625,
           "timepoint": 35.8,
           "trajectory": "I_sol",
           "upper": 45606.3494140625
          },
          {
           "lower": 15880.39423828125,
           "timepoint": 35.9,
           "trajectory": "I_sol",
           "upper": 45710.133203125
          },
          {
           "lower": 15865.405615234375,
           "timepoint": 36,
           "trajectory": "I_sol",
           "upper": 45814.0982421875
          },
          {
           "lower": 15850.420361328124,
           "timepoint": 36.1,
           "trajectory": "I_sol",
           "upper": 45918.26328125
          },
          {
           "lower": 15835.43486328125,
           "timepoint": 36.2,
           "trajectory": "I_sol",
           "upper": 46022.7138671875
          },
          {
           "lower": 15820.4546875,
           "timepoint": 36.3,
           "trajectory": "I_sol",
           "upper": 46127.2759765625
          },
          {
           "lower": 15805.476220703125,
           "timepoint": 36.4,
           "trajectory": "I_sol",
           "upper": 46232.0384765625
          },
          {
           "lower": 15790.50126953125,
           "timepoint": 36.5,
           "trajectory": "I_sol",
           "upper": 46336.9935546875
          },
          {
           "lower": 15775.5306640625,
           "timepoint": 36.6,
           "trajectory": "I_sol",
           "upper": 46442.148828125
          },
          {
           "lower": 15760.563623046875,
           "timepoint": 36.7,
           "trajectory": "I_sol",
           "upper": 46547.5044921875
          },
          {
           "lower": 15745.602001953124,
           "timepoint": 36.8,
           "trajectory": "I_sol",
           "upper": 46653.056640625
          },
          {
           "lower": 15730.64580078125,
           "timepoint": 36.9,
           "trajectory": "I_sol",
           "upper": 46758.8056640625
          },
          {
           "lower": 15715.7080078125,
           "timepoint": 37,
           "trajectory": "I_sol",
           "upper": 46864.7583984375
          },
          {
           "lower": 15700.764453125,
           "timepoint": 37.1,
           "trajectory": "I_sol",
           "upper": 46970.9046875
          },
          {
           "lower": 15685.8263671875,
           "timepoint": 37.2,
           "trajectory": "I_sol",
           "upper": 47077.2626953125
          },
          {
           "lower": 15670.89765625,
           "timepoint": 37.3,
           "trajectory": "I_sol",
           "upper": 47183.816796875
          },
          {
           "lower": 15655.973681640626,
           "timepoint": 37.4,
           "trajectory": "I_sol",
           "upper": 47290.572265625
          },
          {
           "lower": 15641.8578125,
           "timepoint": 37.5,
           "trajectory": "I_sol",
           "upper": 47397.531640625
          },
          {
           "lower": 15631.430029296875,
           "timepoint": 37.6,
           "trajectory": "I_sol",
           "upper": 47504.695507812496
          },
          {
           "lower": 15621.003564453125,
           "timepoint": 37.7,
           "trajectory": "I_sol",
           "upper": 47612.067578124996
          },
          {
           "lower": 15610.575634765624,
           "timepoint": 37.8,
           "trajectory": "I_sol",
           "upper": 47719.640234375
          },
          {
           "lower": 15600.14716796875,
           "timepoint": 37.9,
           "trajectory": "I_sol",
           "upper": 47827.4916015625
          },
          {
           "lower": 15589.72099609375,
           "timepoint": 38,
           "trajectory": "I_sol",
           "upper": 47935.487890625
          },
          {
           "lower": 15579.294287109375,
           "timepoint": 38.1,
           "trajectory": "I_sol",
           "upper": 48043.6890625
          },
          {
           "lower": 15568.86796875,
           "timepoint": 38.2,
           "trajectory": "I_sol",
           "upper": 48152.1021484375
          },
          {
           "lower": 15558.442138671875,
           "timepoint": 38.3,
           "trajectory": "I_sol",
           "upper": 48260.7232421875
          },
          {
           "lower": 15548.017724609375,
           "timepoint": 38.4,
           "trajectory": "I_sol",
           "upper": 48369.553125
          },
          {
           "lower": 15537.59267578125,
           "timepoint": 38.5,
           "trajectory": "I_sol",
           "upper": 48478.591015624996
          },
          {
           "lower": 15527.170654296875,
           "timepoint": 38.6,
           "trajectory": "I_sol",
           "upper": 48587.83359375
          },
          {
           "lower": 15516.748388671875,
           "timepoint": 38.7,
           "trajectory": "I_sol",
           "upper": 48697.2998046875
          },
          {
           "lower": 15506.3609375,
           "timepoint": 38.8,
           "trajectory": "I_sol",
           "upper": 48806.9626953125
          },
          {
           "lower": 15495.9470703125,
           "timepoint": 38.9,
           "trajectory": "I_sol",
           "upper": 48916.845703125
          },
          {
           "lower": 15485.5345703125,
           "timepoint": 39,
           "trajectory": "I_sol",
           "upper": 49026.936718749996
          },
          {
           "lower": 15475.12626953125,
           "timepoint": 39.1,
           "trajectory": "I_sol",
           "upper": 49137.23671875
          },
          {
           "lower": 15464.717529296875,
           "timepoint": 39.2,
           "trajectory": "I_sol",
           "upper": 49247.7525390625
          },
          {
           "lower": 15454.31298828125,
           "timepoint": 39.3,
           "trajectory": "I_sol",
           "upper": 49358.484375
          },
          {
           "lower": 15443.90986328125,
           "timepoint": 39.4,
           "trajectory": "I_sol",
           "upper": 49469.4248046875
          },
          {
           "lower": 15433.509033203125,
           "timepoint": 39.5,
           "trajectory": "I_sol",
           "upper": 49580.581249999996
          },
          {
           "lower": 15423.11240234375,
           "timepoint": 39.6,
           "trajectory": "I_sol",
           "upper": 49691.94296875
          },
          {
           "lower": 15412.715380859376,
           "timepoint": 39.7,
           "trajectory": "I_sol",
           "upper": 49803.5912109375
          },
          {
           "lower": 15402.324365234375,
           "timepoint": 39.8,
           "trajectory": "I_sol",
           "upper": 49915.399609374996
          },
          {
           "lower": 15391.934765625,
           "timepoint": 39.9,
           "trajectory": "I_sol",
           "upper": 50027.4208984375
          },
          {
           "lower": 15381.54853515625,
           "timepoint": 40,
           "trajectory": "I_sol",
           "upper": 50139.658203125
          },
          {
           "lower": 15371.163623046876,
           "timepoint": 40.1,
           "trajectory": "I_sol",
           "upper": 50252.111328125
          },
          {
           "lower": 15360.783544921875,
           "timepoint": 40.2,
           "trajectory": "I_sol",
           "upper": 50364.7849609375
          },
          {
           "lower": 15350.4064453125,
           "timepoint": 40.3,
           "trajectory": "I_sol",
           "upper": 50477.670703125
          },
          {
           "lower": 15340.032666015624,
           "timepoint": 40.4,
           "trajectory": "I_sol",
           "upper": 50590.780468749996
          },
          {
           "lower": 15329.665087890626,
           "timepoint": 40.5,
           "trajectory": "I_sol",
           "upper": 50704.0990234375
          },
          {
           "lower": 15319.29697265625,
           "timepoint": 40.6,
           "trajectory": "I_sol",
           "upper": 50817.6373046875
          },
          {
           "lower": 15308.933203125,
           "timepoint": 40.7,
           "trajectory": "I_sol",
           "upper": 50931.399609374996
          },
          {
           "lower": 15298.572802734376,
           "timepoint": 40.8,
           "trajectory": "I_sol",
           "upper": 51045.3748046875
          },
          {
           "lower": 15288.215673828125,
           "timepoint": 40.9,
           "trajectory": "I_sol",
           "upper": 51159.581249999996
          },
          {
           "lower": 15277.861962890625,
           "timepoint": 41,
           "trajectory": "I_sol",
           "upper": 51273.9927734375
          },
          {
           "lower": 15267.511669921874,
           "timepoint": 41.1,
           "trajectory": "I_sol",
           "upper": 51388.635546875
          },
          {
           "lower": 15257.164599609376,
           "timepoint": 41.2,
           "trajectory": "I_sol",
           "upper": 51503.4912109375
          },
          {
           "lower": 15246.82099609375,
           "timepoint": 41.3,
           "trajectory": "I_sol",
           "upper": 51618.574414062496
          },
          {
           "lower": 15236.48076171875,
           "timepoint": 41.4,
           "trajectory": "I_sol",
           "upper": 51733.8716796875
          },
          {
           "lower": 15226.145751953125,
           "timepoint": 41.5,
           "trajectory": "I_sol",
           "upper": 51849.428515625
          },
          {
           "lower": 15215.811376953125,
           "timepoint": 41.6,
           "trajectory": "I_sol",
           "upper": 51965.171875
          },
          {
           "lower": 15205.4822265625,
           "timepoint": 41.7,
           "trajectory": "I_sol",
           "upper": 52081.1396484375
          },
          {
           "lower": 15195.156494140625,
           "timepoint": 41.8,
           "trajectory": "I_sol",
           "upper": 52197.334765625
          },
          {
           "lower": 15184.83134765625,
           "timepoint": 41.9,
           "trajectory": "I_sol",
           "upper": 52313.750195312496
          },
          {
           "lower": 15174.5119140625,
           "timepoint": 42,
           "trajectory": "I_sol",
           "upper": 52430.382421875
          },
          {
           "lower": 15164.195849609376,
           "timepoint": 42.1,
           "trajectory": "I_sol",
           "upper": 52547.2419921875
          },
          {
           "lower": 15153.907177734374,
           "timepoint": 42.2,
           "trajectory": "I_sol",
           "upper": 52664.333984375
          },
          {
           "lower": 15143.602490234374,
           "timepoint": 42.3,
           "trajectory": "I_sol",
           "upper": 52781.6380859375
          },
          {
           "lower": 15133.301953125,
           "timepoint": 42.4,
           "trajectory": "I_sol",
           "upper": 52899.177734375
          },
          {
           "lower": 15123.005810546874,
           "timepoint": 42.5,
           "trajectory": "I_sol",
           "upper": 53016.937890625
          },
          {
           "lower": 15112.71298828125,
           "timepoint": 42.6,
           "trajectory": "I_sol",
           "upper": 53134.921875
          },
          {
           "lower": 15102.424462890625,
           "timepoint": 42.7,
           "trajectory": "I_sol",
           "upper": 53253.134375
          },
          {
           "lower": 15092.140185546876,
           "timepoint": 42.8,
           "trajectory": "I_sol",
           "upper": 53371.570507812496
          },
          {
           "lower": 15081.859375,
           "timepoint": 42.9,
           "trajectory": "I_sol",
           "upper": 53490.2388671875
          },
          {
           "lower": 15071.582763671875,
           "timepoint": 43,
           "trajectory": "I_sol",
           "upper": 53609.1275390625
          },
          {
           "lower": 15061.311474609374,
           "timepoint": 43.1,
           "trajectory": "I_sol",
           "upper": 53728.240234375
          },
          {
           "lower": 15051.0416015625,
           "timepoint": 43.2,
           "trajectory": "I_sol",
           "upper": 53847.592578125
          },
          {
           "lower": 15040.77802734375,
           "timepoint": 43.3,
           "trajectory": "I_sol",
           "upper": 53967.1580078125
          },
          {
           "lower": 15030.51767578125,
           "timepoint": 43.4,
           "trajectory": "I_sol",
           "upper": 54086.865625
          },
          {
           "lower": 15020.261669921874,
           "timepoint": 43.5,
           "trajectory": "I_sol",
           "upper": 54206.87890625
          },
          {
           "lower": 15010.008203125,
           "timepoint": 43.6,
           "trajectory": "I_sol",
           "upper": 54327.1201171875
          },
          {
           "lower": 14999.759716796874,
           "timepoint": 43.7,
           "trajectory": "I_sol",
           "upper": 54447.5935546875
          },
          {
           "lower": 14989.5146484375,
           "timepoint": 43.8,
           "trajectory": "I_sol",
           "upper": 54568.29453125
          },
          {
           "lower": 14979.273779296875,
           "timepoint": 43.9,
           "trajectory": "I_sol",
           "upper": 54689.227734374996
          },
          {
           "lower": 14969.0595703125,
           "timepoint": 44,
           "trajectory": "I_sol",
           "upper": 54810.38515625
          },
          {
           "lower": 14958.831103515626,
           "timepoint": 44.1,
           "trajectory": "I_sol",
           "upper": 54931.7671875
          },
          {
           "lower": 14948.606884765624,
           "timepoint": 44.2,
           "trajectory": "I_sol",
           "upper": 55053.3884765625
          },
          {
           "lower": 14938.38701171875,
           "timepoint": 44.3,
           "trajectory": "I_sol",
           "upper": 55175.2302734375
          },
          {
           "lower": 14928.17041015625,
           "timepoint": 44.4,
           "trajectory": "I_sol",
           "upper": 55297.308203125
          },
          {
           "lower": 14917.96005859375,
           "timepoint": 44.5,
           "trajectory": "I_sol",
           "upper": 55419.6140625
          },
          {
           "lower": 14907.753076171875,
           "timepoint": 44.6,
           "trajectory": "I_sol",
           "upper": 55542.148046874994
          },
          {
           "lower": 14897.549365234376,
           "timepoint": 44.7,
           "trajectory": "I_sol",
           "upper": 55664.910546875
          },
          {
           "lower": 14887.351904296875,
           "timepoint": 44.8,
           "trajectory": "I_sol",
           "upper": 55787.908789062494
          },
          {
           "lower": 14877.1568359375,
           "timepoint": 44.9,
           "trajectory": "I_sol",
           "upper": 55911.135351562494
          },
          {
           "lower": 14866.96796875,
           "timepoint": 45,
           "trajectory": "I_sol",
           "upper": 56034.59375
          },
          {
           "lower": 14856.7833984375,
           "timepoint": 45.1,
           "trajectory": "I_sol",
           "upper": 56158.273046874994
          },
          {
           "lower": 14846.601171875,
           "timepoint": 45.2,
           "trajectory": "I_sol",
           "upper": 56282.199804687494
          },
          {
           "lower": 14836.425146484375,
           "timepoint": 45.3,
           "trajectory": "I_sol",
           "upper": 56406.3396484375
          },
          {
           "lower": 14826.2525390625,
           "timepoint": 45.4,
           "trajectory": "I_sol",
           "upper": 56530.723242187494
          },
          {
           "lower": 14816.08486328125,
           "timepoint": 45.5,
           "trajectory": "I_sol",
           "upper": 56655.363867187494
          },
          {
           "lower": 14805.921728515625,
           "timepoint": 45.6,
           "trajectory": "I_sol",
           "upper": 56780.2138671875
          },
          {
           "lower": 14795.7619140625,
           "timepoint": 45.7,
           "trajectory": "I_sol",
           "upper": 56905.299999999996
          },
          {
           "lower": 14785.60732421875,
           "timepoint": 45.8,
           "trajectory": "I_sol",
           "upper": 57030.61796875
          },
          {
           "lower": 14775.4681640625,
           "timepoint": 45.9,
           "trajectory": "I_sol",
           "upper": 57156.172070312496
          },
          {
           "lower": 14765.32314453125,
           "timepoint": 46,
           "trajectory": "I_sol",
           "upper": 57281.9544921875
          },
          {
           "lower": 14755.18427734375,
           "timepoint": 46.1,
           "trajectory": "I_sol",
           "upper": 57407.976171874994
          },
          {
           "lower": 14745.04873046875,
           "timepoint": 46.2,
           "trajectory": "I_sol",
           "upper": 57534.234375
          },
          {
           "lower": 14734.919384765624,
           "timepoint": 46.3,
           "trajectory": "I_sol",
           "upper": 57660.7244140625
          },
          {
           "lower": 14724.793359375,
           "timepoint": 46.4,
           "trajectory": "I_sol",
           "upper": 57787.450390624996
          },
          {
           "lower": 14714.67255859375,
           "timepoint": 46.5,
           "trajectory": "I_sol",
           "upper": 57914.408398437496
          },
          {
           "lower": 14704.556982421875,
           "timepoint": 46.6,
           "trajectory": "I_sol",
           "upper": 58041.602734374996
          },
          {
           "lower": 14694.445703125,
           "timepoint": 46.7,
           "trajectory": "I_sol",
           "upper": 58169.036328124996
          },
          {
           "lower": 14684.33876953125,
           "timepoint": 46.8,
           "trajectory": "I_sol",
           "upper": 58296.7060546875
          },
          {
           "lower": 14674.236962890625,
           "timepoint": 46.9,
           "trajectory": "I_sol",
           "upper": 58424.608593749996
          },
          {
           "lower": 14664.1404296875,
           "timepoint": 47,
           "trajectory": "I_sol",
           "upper": 58552.75
          },
          {
           "lower": 14654.0482421875,
           "timepoint": 47.1,
           "trajectory": "I_sol",
           "upper": 58681.131445312494
          },
          {
           "lower": 14643.962109375,
           "timepoint": 47.2,
           "trajectory": "I_sol",
           "upper": 58809.7490234375
          },
          {
           "lower": 14633.88037109375,
           "timepoint": 47.3,
           "trajectory": "I_sol",
           "upper": 58938.5986328125
          },
          {
           "lower": 14623.80400390625,
           "timepoint": 47.4,
           "trajectory": "I_sol",
           "upper": 59067.699609375
          },
          {
           "lower": 14613.73271484375,
           "timepoint": 47.5,
           "trajectory": "I_sol",
           "upper": 59197.028906249994
          },
          {
           "lower": 14603.6666015625,
           "timepoint": 47.6,
           "trajectory": "I_sol",
           "upper": 59326.516210937494
          },
          {
           "lower": 14593.605712890625,
           "timepoint": 47.7,
           "trajectory": "I_sol",
           "upper": 59456.3154296875
          },
          {
           "lower": 14583.551025390625,
           "timepoint": 47.8,
           "trajectory": "I_sol",
           "upper": 59586.35
          },
          {
           "lower": 14573.448583984375,
           "timepoint": 47.9,
           "trajectory": "I_sol",
           "upper": 59716.628124999996
          },
          {
           "lower": 14563.396923828124,
           "timepoint": 48,
           "trajectory": "I_sol",
           "upper": 59847.138671875
          },
          {
           "lower": 14553.34853515625,
           "timepoint": 48.1,
           "trajectory": "I_sol",
           "upper": 59977.885546875
          },
          {
           "lower": 14543.305419921875,
           "timepoint": 48.2,
           "trajectory": "I_sol",
           "upper": 60108.8796875
          },
          {
           "lower": 14533.26572265625,
           "timepoint": 48.3,
           "trajectory": "I_sol",
           "upper": 60240.10625
          },
          {
           "lower": 14523.23212890625,
           "timepoint": 48.4,
           "trajectory": "I_sol",
           "upper": 60371.580664062494
          },
          {
           "lower": 14513.20283203125,
           "timepoint": 48.5,
           "trajectory": "I_sol",
           "upper": 60503.283203125
          },
          {
           "lower": 14503.17783203125,
           "timepoint": 48.6,
           "trajectory": "I_sol",
           "upper": 60635.2333984375
          },
          {
           "lower": 14493.15712890625,
           "timepoint": 48.7,
           "trajectory": "I_sol",
           "upper": 60767.427734375
          },
          {
           "lower": 14483.142578125,
           "timepoint": 48.8,
           "trajectory": "I_sol",
           "upper": 60899.857617187496
          },
          {
           "lower": 14473.13046875,
           "timepoint": 48.9,
           "trajectory": "I_sol",
           "upper": 61032.535742187494
          },
          {
           "lower": 14463.12451171875,
           "timepoint": 49,
           "trajectory": "I_sol",
           "upper": 61165.44609375
          },
          {
           "lower": 14453.123779296875,
           "timepoint": 49.1,
           "trajectory": "I_sol",
           "upper": 61298.603515625
          },
          {
           "lower": 14443.12734375,
           "timepoint": 49.2,
           "trajectory": "I_sol",
           "upper": 61432.005468749994
          },
          {
           "lower": 14433.135205078124,
           "timepoint": 49.3,
           "trajectory": "I_sol",
           "upper": 61565.6435546875
          },
          {
           "lower": 14423.148291015625,
           "timepoint": 49.4,
           "trajectory": "I_sol",
           "upper": 61699.525585937496
          },
          {
           "lower": 14413.166162109375,
           "timepoint": 49.5,
           "trajectory": "I_sol",
           "upper": 61833.658398437496
          },
          {
           "lower": 14403.1896484375,
           "timepoint": 49.6,
           "trajectory": "I_sol",
           "upper": 61968.024023437494
          },
          {
           "lower": 14393.216455078125,
           "timepoint": 49.7,
           "trajectory": "I_sol",
           "upper": 62102.641210937494
          },
          {
           "lower": 14383.248583984376,
           "timepoint": 49.8,
           "trajectory": "I_sol",
           "upper": 62237.4984375
          },
          {
           "lower": 14373.285791015625,
           "timepoint": 49.9,
           "trajectory": "I_sol",
           "upper": 62372.603515625
          },
          {
           "lower": 14363.3283203125,
           "timepoint": 50,
           "trajectory": "I_sol",
           "upper": 62507.7822265625
          },
          {
           "lower": 14353.364013671875,
           "timepoint": 50.1,
           "trajectory": "I_sol",
           "upper": 62643.3525390625
          },
          {
           "lower": 14343.41318359375,
           "timepoint": 50.2,
           "trajectory": "I_sol",
           "upper": 62779.167187499996
          },
          {
           "lower": 14333.46767578125,
           "timepoint": 50.3,
           "trajectory": "I_sol",
           "upper": 62915.2255859375
          },
          {
           "lower": 14323.52734375,
           "timepoint": 50.4,
           "trajectory": "I_sol",
           "upper": 63051.524609374996
          },
          {
           "lower": 14313.591357421876,
           "timepoint": 50.5,
           "trajectory": "I_sol",
           "upper": 63188.06328125
          },
          {
           "lower": 14303.659619140624,
           "timepoint": 50.6,
           "trajectory": "I_sol",
           "upper": 63324.85
          },
          {
           "lower": 14293.73125,
           "timepoint": 50.7,
           "trajectory": "I_sol",
           "upper": 63461.884374999994
          },
          {
           "lower": 14283.810009765624,
           "timepoint": 50.8,
           "trajectory": "I_sol",
           "upper": 63599.15527343749
          },
          {
           "lower": 14273.892138671876,
           "timepoint": 50.9,
           "trajectory": "I_sol",
           "upper": 63736.678125
          },
          {
           "lower": 14263.979443359374,
           "timepoint": 51,
           "trajectory": "I_sol",
           "upper": 63874.4408203125
          },
          {
           "lower": 14254.07109375,
           "timepoint": 51.1,
           "trajectory": "I_sol",
           "upper": 64012.447460937496
          },
          {
           "lower": 14244.167041015626,
           "timepoint": 51.2,
           "trajectory": "I_sol",
           "upper": 64150.7064453125
          },
          {
           "lower": 14234.26630859375,
           "timepoint": 51.3,
           "trajectory": "I_sol",
           "upper": 64289.19765625
          },
          {
           "lower": 14224.371826171875,
           "timepoint": 51.4,
           "trajectory": "I_sol",
           "upper": 64427.9447265625
          },
          {
           "lower": 14214.481591796875,
           "timepoint": 51.5,
           "trajectory": "I_sol",
           "upper": 64566.9392578125
          },
          {
           "lower": 14204.595654296874,
           "timepoint": 51.6,
           "trajectory": "I_sol",
           "upper": 64706.170117187496
          },
          {
           "lower": 14194.714013671875,
           "timepoint": 51.7,
           "trajectory": "I_sol",
           "upper": 64845.657421874996
          },
          {
           "lower": 14184.835888671874,
           "timepoint": 51.8,
           "trajectory": "I_sol",
           "upper": 64985.376562499994
          },
          {
           "lower": 14174.962548828125,
           "timepoint": 51.9,
           "trajectory": "I_sol",
           "upper": 65125.352148437494
          },
          {
           "lower": 14165.094580078125,
           "timepoint": 52,
           "trajectory": "I_sol",
           "upper": 65265.571484374996
          },
          {
           "lower": 14155.230859375,
           "timepoint": 52.1,
           "trajectory": "I_sol",
           "upper": 65406.0349609375
          },
          {
           "lower": 14145.37138671875,
           "timepoint": 52.2,
           "trajectory": "I_sol",
           "upper": 65546.74257812499
          },
          {
           "lower": 14135.5162109375,
           "timepoint": 52.3,
           "trajectory": "I_sol",
           "upper": 65687.70546874999
          },
          {
           "lower": 14125.694970703125,
           "timepoint": 52.4,
           "trajectory": "I_sol",
           "upper": 65828.90703125
          },
          {
           "lower": 14115.853076171876,
           "timepoint": 52.5,
           "trajectory": "I_sol",
           "upper": 65970.40273437499
          },
          {
           "lower": 14106.01630859375,
           "timepoint": 52.6,
           "trajectory": "I_sol",
           "upper": 66112.09765625
          },
          {
           "lower": 14096.183837890625,
           "timepoint": 52.7,
           "trajectory": "I_sol",
           "upper": 66254.051953125
          },
          {
           "lower": 14086.356689453125,
           "timepoint": 52.8,
           "trajectory": "I_sol",
           "upper": 66396.25078125
          },
          {
           "lower": 14076.532763671876,
           "timepoint": 52.9,
           "trajectory": "I_sol",
           "upper": 66538.70156249999
          },
          {
           "lower": 14066.7150390625,
           "timepoint": 53,
           "trajectory": "I_sol",
           "upper": 66681.39609375
          },
          {
           "lower": 14056.900732421875,
           "timepoint": 53.1,
           "trajectory": "I_sol",
           "upper": 66824.33515624999
          },
          {
           "lower": 14047.09150390625,
           "timepoint": 53.2,
           "trajectory": "I_sol",
           "upper": 66967.533203125
          },
          {
           "lower": 14037.28759765625,
           "timepoint": 53.3,
           "trajectory": "I_sol",
           "upper": 67110.96875
          },
          {
           "lower": 14027.48798828125,
           "timepoint": 53.4,
           "trajectory": "I_sol",
           "upper": 67254.65625
          },
          {
           "lower": 14017.693603515625,
           "timepoint": 53.5,
           "trajectory": "I_sol",
           "upper": 67398.58710937499
          },
          {
           "lower": 14007.9025390625,
           "timepoint": 53.6,
           "trajectory": "I_sol",
           "upper": 67542.76992187499
          },
          {
           "lower": 13998.11669921875,
           "timepoint": 53.7,
           "trajectory": "I_sol",
           "upper": 67687.205078125
          },
          {
           "lower": 13988.3361328125,
           "timepoint": 53.8,
           "trajectory": "I_sol",
           "upper": 67831.89921875
          },
          {
           "lower": 13978.559814453125,
           "timepoint": 53.9,
           "trajectory": "I_sol",
           "upper": 67976.82343749999
          },
          {
           "lower": 13968.787890625,
           "timepoint": 54,
           "trajectory": "I_sol",
           "upper": 68121.998828125
          },
          {
           "lower": 13959.021142578125,
           "timepoint": 54.1,
           "trajectory": "I_sol",
           "upper": 68267.43359375
          },
          {
           "lower": 13949.2560546875,
           "timepoint": 54.2,
           "trajectory": "I_sol",
           "upper": 68413.112890625
          },
          {
           "lower": 13939.4986328125,
           "timepoint": 54.3,
           "trajectory": "I_sol",
           "upper": 68559.03632812499
          },
          {
           "lower": 13929.74541015625,
           "timepoint": 54.4,
           "trajectory": "I_sol",
           "upper": 68705.2203125
          },
          {
           "lower": 13919.99560546875,
           "timepoint": 54.5,
           "trajectory": "I_sol",
           "upper": 68851.63984374999
          },
          {
           "lower": 13910.251904296874,
           "timepoint": 54.6,
           "trajectory": "I_sol",
           "upper": 68998.31953124999
          },
          {
           "lower": 13900.5115234375,
           "timepoint": 54.7,
           "trajectory": "I_sol",
           "upper": 69145.25078125
          },
          {
           "lower": 13890.776416015626,
           "timepoint": 54.8,
           "trajectory": "I_sol",
           "upper": 69292.43398437499
          },
          {
           "lower": 13881.04453125,
           "timepoint": 54.9,
           "trajectory": "I_sol",
           "upper": 69439.86562499999
          },
          {
           "lower": 13871.339306640624,
           "timepoint": 55,
           "trajectory": "I_sol",
           "upper": 69587.694140625
          },
          {
           "lower": 13861.6197265625,
           "timepoint": 55.1,
           "trajectory": "I_sol",
           "upper": 69735.62617187499
          },
          {
           "lower": 13851.905419921875,
           "timepoint": 55.2,
           "trajectory": "I_sol",
           "upper": 69883.8328125
          },
          {
           "lower": 13842.196240234374,
           "timepoint": 55.3,
           "trajectory": "I_sol",
           "upper": 70032.27656249999
          },
          {
           "lower": 13832.49140625,
           "timepoint": 55.4,
           "trajectory": "I_sol",
           "upper": 70180.979296875
          },
          {
           "lower": 13822.791748046875,
           "timepoint": 55.5,
           "trajectory": "I_sol",
           "upper": 70329.934375
          },
          {
           "lower": 13813.097265625,
           "timepoint": 55.6,
           "trajectory": "I_sol",
           "upper": 70479.13398437499
          },
          {
           "lower": 13803.405126953125,
           "timepoint": 55.7,
           "trajectory": "I_sol",
           "upper": 70628.593359375
          },
          {
           "lower": 13793.719189453124,
           "timepoint": 55.8,
           "trajectory": "I_sol",
           "upper": 70778.296875
          },
          {
           "lower": 13784.039404296875,
           "timepoint": 55.9,
           "trajectory": "I_sol",
           "upper": 70928.2671875
          },
          {
           "lower": 13774.36201171875,
           "timepoint": 56,
           "trajectory": "I_sol",
           "upper": 71078.47499999999
          },
          {
           "lower": 13764.6916015625,
           "timepoint": 56.1,
           "trajectory": "I_sol",
           "upper": 71228.9421875
          },
          {
           "lower": 13755.0236328125,
           "timepoint": 56.2,
           "trajectory": "I_sol",
           "upper": 71379.66249999999
          },
          {
           "lower": 13745.360888671876,
           "timepoint": 56.3,
           "trajectory": "I_sol",
           "upper": 71530.63398437499
          },
          {
           "lower": 13735.70234375,
           "timepoint": 56.4,
           "trajectory": "I_sol",
           "upper": 71681.87265625
          },
          {
           "lower": 13726.05,
           "timepoint": 56.5,
           "trajectory": "I_sol",
           "upper": 71833.35585937499
          },
          {
           "lower": 13716.400927734376,
           "timepoint": 56.6,
           "trajectory": "I_sol",
           "upper": 71985.09101562499
          },
          {
           "lower": 13706.757958984375,
           "timepoint": 56.7,
           "trajectory": "I_sol",
           "upper": 72137.08632812499
          },
          {
           "lower": 13697.12001953125,
           "timepoint": 56.8,
           "trajectory": "I_sol",
           "upper": 72289.32578125
          },
          {
           "lower": 13687.485791015624,
           "timepoint": 56.9,
           "trajectory": "I_sol",
           "upper": 72441.82578125
          },
          {
           "lower": 13677.855810546875,
           "timepoint": 57,
           "trajectory": "I_sol",
           "upper": 72594.583984375
          },
          {
           "lower": 13668.231103515625,
           "timepoint": 57.1,
           "trajectory": "I_sol",
           "upper": 72747.587890625
          },
          {
           "lower": 13658.60966796875,
           "timepoint": 57.2,
           "trajectory": "I_sol",
           "upper": 72900.858984375
          },
          {
           "lower": 13648.99345703125,
           "timepoint": 57.3,
           "trajectory": "I_sol",
           "upper": 73054.381640625
          },
          {
           "lower": 13639.382421875,
           "timepoint": 57.4,
           "trajectory": "I_sol",
           "upper": 73208.16132812499
          },
          {
           "lower": 13629.774755859375,
           "timepoint": 57.5,
           "trajectory": "I_sol",
           "upper": 73362.06289062499
          },
          {
           "lower": 13620.173193359375,
           "timepoint": 57.6,
           "trajectory": "I_sol",
           "upper": 73516.327734375
          },
          {
           "lower": 13610.5740234375,
           "timepoint": 57.7,
           "trajectory": "I_sol",
           "upper": 73670.86015625
          },
          {
           "lower": 13601.009765625,
           "timepoint": 57.8,
           "trajectory": "I_sol",
           "upper": 73825.6296875
          },
          {
           "lower": 13591.423779296874,
           "timepoint": 57.9,
           "trajectory": "I_sol",
           "upper": 73980.67421874999
          },
          {
           "lower": 13581.84296875,
           "timepoint": 58,
           "trajectory": "I_sol",
           "upper": 74135.95624999999
          },
          {
           "lower": 13572.266455078125,
           "timepoint": 58.1,
           "trajectory": "I_sol",
           "upper": 74291.49765625
          },
          {
           "lower": 13562.69599609375,
           "timepoint": 58.2,
           "trajectory": "I_sol",
           "upper": 74447.298828125
          },
          {
           "lower": 13553.128955078126,
           "timepoint": 58.3,
           "trajectory": "I_sol",
           "upper": 74603.35234375
          },
          {
           "lower": 13543.56708984375,
           "timepoint": 58.4,
           "trajectory": "I_sol",
           "upper": 74759.65078124999
          },
          {
           "lower": 13534.011328125,
           "timepoint": 58.5,
           "trajectory": "I_sol",
           "upper": 74916.216796875
          },
          {
           "lower": 13524.45888671875,
           "timepoint": 58.6,
           "trajectory": "I_sol",
           "upper": 75073.042578125
          },
          {
           "lower": 13514.911669921876,
           "timepoint": 58.7,
           "trajectory": "I_sol",
           "upper": 75230.12031249999
          },
          {
           "lower": 13505.36865234375,
           "timepoint": 58.8,
           "trajectory": "I_sol",
           "upper": 75387.443359375
          },
          {
           "lower": 13495.830859375,
           "timepoint": 58.9,
           "trajectory": "I_sol",
           "upper": 75545.041015625
          },
          {
           "lower": 13486.298291015624,
           "timepoint": 59,
           "trajectory": "I_sol",
           "upper": 75702.884375
          },
          {
           "lower": 13476.769873046875,
           "timepoint": 59.1,
           "trajectory": "I_sol",
           "upper": 75860.986328125
          },
          {
           "lower": 13467.2466796875,
           "timepoint": 59.2,
           "trajectory": "I_sol",
           "upper": 76019.34140625
          },
          {
           "lower": 13457.72783203125,
           "timepoint": 59.3,
           "trajectory": "I_sol",
           "upper": 76177.963671875
          },
          {
           "lower": 13448.21396484375,
           "timepoint": 59.4,
           "trajectory": "I_sol",
           "upper": 76336.830859375
          },
          {
           "lower": 13438.70458984375,
           "timepoint": 59.5,
           "trajectory": "I_sol",
           "upper": 76495.95039062499
          },
          {
           "lower": 13429.201220703126,
           "timepoint": 59.6,
           "trajectory": "I_sol",
           "upper": 76655.337890625
          },
          {
           "lower": 13419.703173828126,
           "timepoint": 59.7,
           "trajectory": "I_sol",
           "upper": 76814.984375
          },
          {
           "lower": 13410.20849609375,
           "timepoint": 59.8,
           "trajectory": "I_sol",
           "upper": 76974.875
          },
          {
           "lower": 13400.71904296875,
           "timepoint": 59.9,
           "trajectory": "I_sol",
           "upper": 77135.03359374999
          },
          {
           "lower": 13391.233837890624,
           "timepoint": 60,
           "trajectory": "I_sol",
           "upper": 77295.35546875
          },
          {
           "lower": 13381.753857421874,
           "timepoint": 60.1,
           "trajectory": "I_sol",
           "upper": 77456.011328125
          },
          {
           "lower": 13372.278076171875,
           "timepoint": 60.2,
           "trajectory": "I_sol",
           "upper": 77616.92695312499
          },
          {
           "lower": 13362.80654296875,
           "timepoint": 60.3,
           "trajectory": "I_sol",
           "upper": 77778.0953125
          },
          {
           "lower": 13353.342041015625,
           "timepoint": 60.4,
           "trajectory": "I_sol",
           "upper": 77939.51601562499
          },
          {
           "lower": 13343.880029296875,
           "timepoint": 60.5,
           "trajectory": "I_sol",
           "upper": 78101.20351562499
          },
          {
           "lower": 13334.423193359375,
           "timepoint": 60.6,
           "trajectory": "I_sol",
           "upper": 78263.13671875
          },
          {
           "lower": 13324.972412109375,
           "timepoint": 60.7,
           "trajectory": "I_sol",
           "upper": 78425.34492187499
          },
          {
           "lower": 13315.530615234375,
           "timepoint": 60.8,
           "trajectory": "I_sol",
           "upper": 78587.79765625
          },
          {
           "lower": 13306.08837890625,
           "timepoint": 60.9,
           "trajectory": "I_sol",
           "upper": 78750.50312499999
          },
          {
           "lower": 13296.652294921874,
           "timepoint": 61,
           "trajectory": "I_sol",
           "upper": 78913.468359375
          },
          {
           "lower": 13287.220458984375,
           "timepoint": 61.1,
           "trajectory": "I_sol",
           "upper": 79076.693359375
          },
          {
           "lower": 13277.79287109375,
           "timepoint": 61.2,
           "trajectory": "I_sol",
           "upper": 79240.17890624999
          },
          {
           "lower": 13268.370458984375,
           "timepoint": 61.3,
           "trajectory": "I_sol",
           "upper": 79403.91640624999
          },
          {
           "lower": 13258.95322265625,
           "timepoint": 61.4,
           "trajectory": "I_sol",
           "upper": 79567.90625
          },
          {
           "lower": 13249.540234375,
           "timepoint": 61.5,
           "trajectory": "I_sol",
           "upper": 79732.16406249999
          },
          {
           "lower": 13240.13349609375,
           "timepoint": 61.6,
           "trajectory": "I_sol",
           "upper": 79896.68164062499
          },
          {
           "lower": 13230.7298828125,
           "timepoint": 61.7,
           "trajectory": "I_sol",
           "upper": 80061.45156249999
          },
          {
           "lower": 13221.331591796876,
           "timepoint": 61.8,
           "trajectory": "I_sol",
           "upper": 80226.48164062499
          },
          {
           "lower": 13211.9384765625,
           "timepoint": 61.9,
           "trajectory": "I_sol",
           "upper": 80391.757421875
          },
          {
           "lower": 13202.550537109375,
           "timepoint": 62,
           "trajectory": "I_sol",
           "upper": 80557.30703124999
          }
         ]
        },
        {
         "name": "traces",
         "transform": [
          {
           "expr": "isValid(datum.value)",
           "type": "filter"
          }
         ],
         "values": []
        },
        {
         "name": "points",
         "values": [
          {
           "sample_id": 0,
           "timepoint": 0,
           "trajectory": "I_data",
           "value": 0
          },
          {
           "sample_id": 0,
           "timepoint": 1,
           "trajectory": "I_data",
           "value": 0
          },
          {
           "sample_id": 0,
           "timepoint": 2,
           "trajectory": "I_data",
           "value": 1
          },
          {
           "sample_id": 0,
           "timepoint": 3,
           "trajectory": "I_data",
           "value": 10
          },
          {
           "sample_id": 0,
           "timepoint": 4,
           "trajectory": "I_data",
           "value": 21
          },
          {
           "sample_id": 0,
           "timepoint": 5,
           "trajectory": "I_data",
           "value": 24
          },
          {
           "sample_id": 0,
           "timepoint": 6,
           "trajectory": "I_data",
           "value": 76
          },
          {
           "sample_id": 0,
           "timepoint": 7,
           "trajectory": "I_data",
           "value": 104
          },
          {
           "sample_id": 0,
           "timepoint": 8,
           "trajectory": "I_data",
           "value": 128
          },
          {
           "sample_id": 0,
           "timepoint": 9,
           "trajectory": "I_data",
           "value": 131
          },
          {
           "sample_id": 0,
           "timepoint": 10,
           "trajectory": "I_data",
           "value": 192
          },
          {
           "sample_id": 0,
           "timepoint": 11,
           "trajectory": "I_data",
           "value": 220
          },
          {
           "sample_id": 0,
           "timepoint": 12,
           "trajectory": "I_data",
           "value": 274
          },
          {
           "sample_id": 0,
           "timepoint": 13,
           "trajectory": "I_data",
           "value": 394
          },
          {
           "sample_id": 0,
           "timepoint": 14,
           "trajectory": "I_data",
           "value": 481
          },
          {
           "sample_id": 0,
           "timepoint": 15,
           "trajectory": "I_data",
           "value": 745
          },
          {
           "sample_id": 0,
           "timepoint": 16,
           "trajectory": "I_data",
           "value": 1111
          },
          {
           "sample_id": 0,
           "timepoint": 17,
           "trajectory": "I_data",
           "value": 2128
          },
          {
           "sample_id": 0,
           "timepoint": 18,
           "trajectory": "I_data",
           "value": 3671
          },
          {
           "sample_id": 0,
           "timepoint": 19,
           "trajectory": "I_data",
           "value": 6578
          },
          {
           "sample_id": 0,
           "timepoint": 20,
           "trajectory": "I_data",
           "value": 9449
          },
          {
           "sample_id": 0,
           "timepoint": 21,
           "trajectory": "I_data",
           "value": 13761
          },
          {
           "sample_id": 0,
           "timepoint": 22,
           "trajectory": "I_data",
           "value": 18270
          },
          {
           "sample_id": 0,
           "timepoint": 23,
           "trajectory": "I_data",
           "value": 21478
          },
          {
           "sample_id": 0,
           "timepoint": 24,
           "trajectory": "I_data",
           "value": 23630
          },
          {
           "sample_id": 0,
           "timepoint": 25,
           "trajectory": "I_data",
           "value": 26987
          },
          {
           "sample_id": 0,
           "timepoint": 26,
           "trajectory": "I_data",
           "value": 29533
          },
          {
           "sample_id": 0,
           "timepoint": 27,
           "trajectory": "I_data",
           "value": 31623
          },
          {
           "sample_id": 0,
           "timepoint": 28,
           "trajectory": "I_data",
           "value": 33967
          },
          {
           "sample_id": 0,
           "timepoint": 29,
           "trajectory": "I_data",
           "value": 35822
          },
          {
           "sample_id": 0,
           "timepoint": 30,
           "trajectory": "I_data",
           "value": 38456
          },
          {
           "sample_id": 0,
           "timepoint": 31,
           "trajectory": "I_data",
           "value": 45676
          },
          {
           "sample_id": 0,
           "timepoint": 32,
           "trajectory": "I_data",
           "value": 48380
          },
          {
           "sample_id": 0,
           "timepoint": 33,
           "trajectory": "I_data",
           "value": 51807
          },
          {
           "sample_id": 0,
           "timepoint": 34,
           "trajectory": "I_data",
           "value": 55042
          },
          {
           "sample_id": 0,
           "timepoint": 35,
           "trajectory": "I_data",
           "value": 56847
          },
          {
           "sample_id": 0,
           "timepoint": 36,
           "trajectory": "I_data",
           "value": 52184
          },
          {
           "sample_id": 0,
           "timepoint": 37,
           "trajectory": "I_data",
           "value": 49194
          },
          {
           "sample_id": 0,
           "timepoint": 38,
           "trajectory": "I_data",
           "value": 48730
          },
          {
           "sample_id": 0,
           "timepoint": 39,
           "trajectory": "I_data",
           "value": 50551
          },
          {
           "sample_id": 0,
           "timepoint": 40,
           "trajectory": "I_data",
           "value": 51029
          },
          {
           "sample_id": 0,
           "timepoint": 41,
           "trajectory": "I_data",
           "value": 49701
          },
          {
           "sample_id": 0,
           "timepoint": 42,
           "trajectory": "I_data",
           "value": 50661
          },
          {
           "sample_id": 0,
           "timepoint": 43,
           "trajectory": "I_data",
           "value": 48303
          },
          {
           "sample_id": 0,
           "timepoint": 44,
           "trajectory": "I_data",
           "value": 43703
          },
          {
           "sample_id": 0,
           "timepoint": 45,
           "trajectory": "I_data",
           "value": 38888
          },
          {
           "sample_id": 0,
           "timepoint": 46,
           "trajectory": "I_data",
           "value": 38244
          },
          {
           "sample_id": 0,
           "timepoint": 47,
           "trajectory": "I_data",
           "value": 36857
          },
          {
           "sample_id": 0,
           "timepoint": 48,
           "trajectory": "I_data",
           "value": 35881
          },
          {
           "sample_id": 0,
           "timepoint": 49,
           "trajectory": "I_data",
           "value": 35054
          },
          {
           "sample_id": 0,
           "timepoint": 50,
           "trajectory": "I_data",
           "value": 34782
          },
          {
           "sample_id": 0,
           "timepoint": 51,
           "trajectory": "I_data",
           "value": 31526
          },
          {
           "sample_id": 0,
           "timepoint": 52,
           "trajectory": "I_data",
           "value": 28799
          },
          {
           "sample_id": 0,
           "timepoint": 53,
           "trajectory": "I_data",
           "value": 27419
          },
          {
           "sample_id": 0,
           "timepoint": 54,
           "trajectory": "I_data",
           "value": 27443
          },
          {
           "sample_id": 0,
           "timepoint": 55,
           "trajectory": "I_data",
           "value": 30499
          },
          {
           "sample_id": 0,
           "timepoint": 56,
           "trajectory": "I_data",
           "value": 31543
          },
          {
           "sample_id": 0,
           "timepoint": 57,
           "trajectory": "I_data",
           "value": 31597
          },
          {
           "sample_id": 0,
           "timepoint": 58,
           "trajectory": "I_data",
           "value": 29008
          },
          {
           "sample_id": 0,
           "timepoint": 59,
           "trajectory": "I_data",
           "value": 25476
          },
          {
           "sample_id": 0,
           "timepoint": 60,
           "trajectory": "I_data",
           "value": 20411
          },
          {
           "sample_id": 0,
           "timepoint": 61,
           "trajectory": "I_data",
           "value": 19224
          },
          {
           "sample_id": 0,
           "timepoint": 40,
           "trajectory": "H_data",
           "value": 0
          },
          {
           "sample_id": 0,
           "timepoint": 41,
           "trajectory": "H_data",
           "value": 0
          },
          {
           "sample_id": 0,
           "timepoint": 47,
           "trajectory": "H_data",
           "value": 0
          },
          {
           "sample_id": 0,
           "timepoint": 48,
           "trajectory": "H_data",
           "value": 1
          },
          {
           "sample_id": 0,
           "timepoint": 54,
           "trajectory": "H_data",
           "value": 0
          },
          {
           "sample_id": 0,
           "timepoint": 55,
           "trajectory": "H_data",
           "value": 0
          },
          {
           "sample_id": 0,
           "timepoint": 56,
           "trajectory": "H_data",
           "value": 1
          },
          {
           "sample_id": 0,
           "timepoint": 57,
           "trajectory": "H_data",
           "value": 0
          },
          {
           "sample_id": 0,
           "timepoint": 58,
           "trajectory": "H_data",
           "value": 0
          },
          {
           "sample_id": 0,
           "timepoint": 59,
           "trajectory": "H_data",
           "value": 0
          },
          {
           "sample_id": 0,
           "timepoint": 60,
           "trajectory": "H_data",
           "value": 0
          },
          {
           "sample_id": 0,
           "timepoint": 61,
           "trajectory": "H_data",
           "value": 0
          },
          {
           "sample_id": 0,
           "timepoint": 0,
           "trajectory": "D_data",
           "value": 0
          },
          {
           "sample_id": 0,
           "timepoint": 1,
           "trajectory": "D_data",
           "value": 0
          },
          {
           "sample_id": 0,
           "timepoint": 2,
           "trajectory": "D_data",
           "value": 0
          },
          {
           "sample_id": 0,
           "timepoint": 3,
           "trajectory": "D_data",
           "value": 0
          },
          {
           "sample_id": 0,
           "timepoint": 4,
           "trajectory": "D_data",
           "value": 0
          },
          {
           "sample_id": 0,
           "timepoint": 5,
           "trajectory": "D_data",
           "value": 0
          },
          {
           "sample_id": 0,
           "timepoint": 6,
           "trajectory": "D_data",
           "value": 0
          },
          {
           "sample_id": 0,
           "timepoint": 7,
           "trajectory": "D_data",
           "value": 0
          },
          {
           "sample_id": 0,
           "timepoint": 8,
           "trajectory": "D_data",
           "value": 0
          },
          {
           "sample_id": 0,
           "timepoint": 9,
           "trajectory": "D_data",
           "value": 0
          },
          {
           "sample_id": 0,
           "timepoint": 10,
           "trajectory": "D_data",
           "value": 1
          },
          {
           "sample_id": 0,
           "timepoint": 11,
           "trajectory": "D_data",
           "value": 1
          },
          {
           "sample_id": 0,
           "timepoint": 12,
           "trajectory": "D_data",
           "value": 1
          },
          {
           "sample_id": 0,
           "timepoint": 13,
           "trajectory": "D_data",
           "value": 4
          },
          {
           "sample_id": 0,
           "timepoint": 14,
           "trajectory": "D_data",
           "value": 9
          },
          {
           "sample_id": 0,
           "timepoint": 15,
           "trajectory": "D_data",
           "value": 19
          },
          {
           "sample_id": 0,
           "timepoint": 16,
           "trajectory": "D_data",
           "value": 30
          },
          {
           "sample_id": 0,
           "timepoint": 17,
           "trajectory": "D_data",
           "value": 51
          },
          {
           "sample_id": 0,
           "timepoint": 18,
           "trajectory": "D_data",
           "value": 77
          },
          {
           "sample_id": 0,
           "timepoint": 19,
           "trajectory": "D_data",
           "value": 129
          },
          {
           "sample_id": 0,
           "timepoint": 20,
           "trajectory": "D_data",
           "value": 175
          },
          {
           "sample_id": 0,
           "timepoint": 21,
           "trajectory": "D_data",
           "value": 226
          },
          {
           "sample_id": 0,
           "timepoint": 22,
           "trajectory": "D_data",
           "value": 315
          },
          {
           "sample_id": 0,
           "timepoint": 23,
           "trajectory": "D_data",
           "value": 427
          },
          {
           "sample_id": 0,
           "timepoint": 24,
           "trajectory": "D_data",
           "value": 565
          },
          {
           "sample_id": 0,
           "timepoint": 25,
           "trajectory": "D_data",
           "value": 759
          },
          {
           "sample_id": 0,
           "timepoint": 26,
           "trajectory": "D_data",
           "value": 984
          },
          {
           "sample_id": 0,
           "timepoint": 27,
           "trajectory": "D_data",
           "value": 1285
          },
          {
           "sample_id": 0,
           "timepoint": 28,
           "trajectory": "D_data",
           "value": 1603
          },
          {
           "sample_id": 0,
           "timepoint": 29,
           "trajectory": "D_data",
           "value": 1930
          },
          {
           "sample_id": 0,
           "timepoint": 30,
           "trajectory": "D_data",
           "value": 2334
          },
          {
           "sample_id": 0,
           "timepoint": 31,
           "trajectory": "D_data",
           "value": 2859
          },
          {
           "sample_id": 0,
           "timepoint": 32,
           "trajectory": "D_data",
           "value": 3420
          },
          {
           "sample_id": 0,
           "timepoint": 33,
           "trajectory": "D_data",
           "value": 3989
          },
          {
           "sample_id": 0,
           "timepoint": 34,
           "trajectory": "D_data",
           "value": 4634
          },
          {
           "sample_id": 0,
           "timepoint": 35,
           "trajectory": "D_data",
           "value": 5384
          },
          {
           "sample_id": 0,
           "timepoint": 36,
           "trajectory": "D_data",
           "value": 6185
          },
          {
           "sample_id": 0,
           "timepoint": 37,
           "trajectory": "D_data",
           "value": 7241
          },
          {
           "sample_id": 0,
           "timepoint": 38,
           "trajectory": "D_data",
           "value": 7985
          },
          {
           "sample_id": 0,
           "timepoint": 39,
           "trajectory": "D_data",
           "value": 8846
          },
          {
           "sample_id": 0,
           "timepoint": 40,
           "trajectory": "D_data",
           "value": 9579
          },
          {
           "sample_id": 0,
           "timepoint": 41,
           "trajectory": "D_data",
           "value": 10345
          },
          {
           "sample_id": 0,
           "timepoint": 42,
           "trajectory": "D_data",
           "value": 11126
          },
          {
           "sample_id": 0,
           "timepoint": 43,
           "trajectory": "D_data",
           "value": 11930
          },
          {
           "sample_id": 0,
           "timepoint": 44,
           "trajectory": "D_data",
           "value": 12669
          },
          {
           "sample_id": 0,
           "timepoint": 45,
           "trajectory": "D_data",
           "value": 13332
          },
          {
           "sample_id": 0,
           "timepoint": 46,
           "trajectory": "D_data",
           "value": 13987
          },
          {
           "sample_id": 0,
           "timepoint": 47,
           "trajectory": "D_data",
           "value": 14371
          },
          {
           "sample_id": 0,
           "timepoint": 48,
           "trajectory": "D_data",
           "value": 14780
          },
          {
           "sample_id": 0,
           "timepoint": 49,
           "trajectory": "D_data",
           "value": 15225
          },
          {
           "sample_id": 0,
           "timepoint": 50,
           "trajectory": "D_data",
           "value": 16116
          },
          {
           "sample_id": 0,
           "timepoint": 51,
           "trajectory": "D_data",
           "value": 16639
          },
          {
           "sample_id": 0,
           "timepoint": 52,
           "trajectory": "D_data",
           "value": 17091
          },
          {
           "sample_id": 0,
           "timepoint": 53,
           "trajectory": "D_data",
           "value": 17647
          },
          {
           "sample_id": 0,
           "timepoint": 54,
           "trajectory": "D_data",
           "value": 18132
          },
          {
           "sample_id": 0,
           "timepoint": 55,
           "trajectory": "D_data",
           "value": 18523
          },
          {
           "sample_id": 0,
           "timepoint": 56,
           "trajectory": "D_data",
           "value": 18882
          },
          {
           "sample_id": 0,
           "timepoint": 57,
           "trajectory": "D_data",
           "value": 19292
          },
          {
           "sample_id": 0,
           "timepoint": 58,
           "trajectory": "D_data",
           "value": 19602
          },
          {
           "sample_id": 0,
           "timepoint": 59,
           "trajectory": "D_data",
           "value": 20000
          },
          {
           "sample_id": 0,
           "timepoint": 60,
           "trajectory": "D_data",
           "value": 20334
          },
          {
           "sample_id": 0,
           "timepoint": 61,
           "trajectory": "D_data",
           "value": 20662
          }
         ]
        },
        {
         "name": "markers",
         "values": []
        },
        {
         "name": "selected",
         "on": [
          {
           "remove": true,
           "trigger": "clear"
          },
          {
           "remove": true,
           "trigger": "!shift"
          },
          {
           "insert": "clicked",
           "trigger": "!shift && clicked"
          },
          {
           "toggle": "clicked",
           "trigger": "shift && clicked"
          }
         ]
        }
       ],
       "height": 300,
       "legends": [
        {
         "encode": {
          "labels": {
           "interactive": true,
           "name": "legendLabel",
           "update": {
            "opacity": [
             {
              "test": "!length(data('selected')) || indata('selected', 'value', datum.value)",
              "value": 1
             },
             {
              "value": 0.25
             }
            ]
           }
          },
          "symbols": {
           "interactive": true,
           "name": "legendSymbol",
           "update": {
            "fill": {
             "value": "transparent"
            },
            "opacity": [
             {
              "test": "!length(data('selected')) || indata('selected', 'value', datum.value)",
              "value": 0.7
             },
             {
              "value": 0.15
             }
            ],
            "size": {
             "value": 64
            },
            "strokeWidth": {
             "value": 2
            }
           }
          }
         },
         "name": "color_legend",
         "stroke": "color"
        }
       ],
       "marks": [
        {
         "from": {
          "facet": {
           "data": "points",
           "groupby": "trajectory",
           "name": "points_split"
          }
         },
         "marks": [
          {
           "encode": {
            "hover": {
             "fillOpacity": {
              "value": 0.9
             }
            },
            "update": {
             "fill": {
              "field": "trajectory",
              "scale": "color"
             },
             "fillOpacity": [
              {
               "test": "!length(data('selected')) || indata('selected', 'value', datum.trajectory)",
               "value": 0.5
              },
              {
               "value": 0.15
              }
             ],
             "size": {
              "value": 10
             },
             "stroke": {
              "field": "trajectory",
              "scale": "color"
             },
             "strokeOpacity": [
              {
               "test": "!length(data('selected')) || indata('selected', 'value', datum.trajectory)",
               "value": 0.75
              },
              {
               "value": 0.15
              }
             ],
             "strokeWidth": {
              "value": 2
             },
             "tooltip": {
              "field": "value"
             },
             "x": {
              "field": "timepoint",
              "scale": "xscale"
             },
             "y": {
              "field": "value",
              "scale": "yscale"
             }
            }
           },
           "from": {
            "data": "points_split"
           },
           "name": "_points_symbol",
           "type": "symbol",
           "zindex": 3
          },
          {
           "encode": {
            "hover": {
             "fillOpacity": {
              "value": 0.9
             }
            },
            "update": {
             "interpolate": {
              "value": "linear"
             },
             "stroke": {
              "field": "trajectory",
              "scale": "color"
             },
             "strokeOpacity": [
              {
               "test": "!length(data('selected')) || indata('selected', 'value', datum.trajectory)",
               "value": 0.3
              },
              {
               "value": 0.1
              }
             ],
             "strokeWidth": {
              "value": 2
             },
             "x": {
              "field": "timepoint",
              "scale": "xscale"
             },
             "y": {
              "field": "value",
              "scale": "yscale"
             }
            }
           },
           "from": {
            "data": "points_split"
           },
           "name": "_points_line",
           "type": "line",
           "zindex": 3
          }
         ],
         "name": "_points",
         "type": "group",
         "zindex": 3
        },
        {
         "from": {
          "facet": {
           "data": "traces",
           "groupby": "trajectory",
           "name": "traces_split"
          }
         },
         "marks": [
          {
           "encode": {
            "hover": {
             "fillOpacity": {
              "value": 0.9
             }
            },
            "update": {
             "interpolate": {
              "value": "linear"
             },
             "stroke": {
              "field": "trajectory",
              "scale": "color"
             },
             "strokeOpacity": [
              {
               "test": "!length(data('selected')) || indata('selected', 'value', datum.trajectory)",
               "value": 0.75
              },
              {
               "value": 0.15
              }
             ],
             "strokeWidth": {
              "value": 2
             },
             "x": {
              "field": "timepoint",
              "scale": "xscale"
             },
             "y": {
              "field": "value",
              "scale": "yscale"
             }
            }
           },
           "from": {
            "data": "traces_split"
           },
           "name": "_traces_lines",
           "type": "line"
          }
         ],
         "name": "_traces",
         "type": "group",
         "zindex": 2
        },
        {
         "from": {
          "facet": {
           "data": "distributions",
           "groupby": "trajectory",
           "name": "trajectory_split"
          }
         },
         "marks": [
          {
           "encode": {
            "hover": {
             "fillOpacity": {
              "value": 0.9
             }
            },
            "update": {
             "fill": {
              "field": "trajectory",
              "scale": "color"
             },
             "fillOpacity": [
              {
               "test": "!length(data('selected')) || indata('selected', 'value', datum.trajectory)",
               "value": 0.5
              },
              {
               "value": 0.15
              }
             ],
             "interpolate": {
              "value": "linear"
             },
             "stroke": {
              "field": "trajectory",
              "scale": "color"
             },
             "strokeOpacity": [
              {
               "test": "!length(data('selected')) || indata('selected', 'value', datum.trajectory)",
               "value": 0.75
              },
              {
               "value": 0.15
              }
             ],
             "strokeWidth": {
              "value": 2
             },
             "x": {
              "field": "timepoint",
              "scale": "xscale"
             },
             "y": {
              "field": "upper",
              "scale": "yscale"
             },
             "y2": {
              "field": "lower",
              "scale": "yscale"
             }
            }
           },
           "from": {
            "data": "trajectory_split"
           },
           "type": "area"
          }
         ],
         "name": "_distributions",
         "type": "group",
         "zindex": 1
        },
        {
         "marks": [
          {
           "encode": {
            "enter": {
             "stroke": {
              "value": "lightgray"
             }
            },
            "update": {
             "opacity": {
              "value": 1
             },
             "x": {
              "field": "timepoint",
              "scale": "xscale"
             },
             "y": {
              "signal": "height"
             },
             "y2": {
              "value": 0
             }
            }
           },
           "from": {
            "data": "markers"
           },
           "name": "_marker text",
           "type": "rule"
          },
          {
           "encode": {
            "enter": {
             "fontSize": {
              "value": 8
             },
             "text": {
              "field": "datum.label"
             },
             "y": {
              "value": 0
             }
            }
           },
           "from": {
            "data": "_marker text"
           },
           "name": "_marker flags",
           "transform": [
            {
             "as": [
              "x",
              "_y",
              "opacity",
              "align",
              "baseline"
             ],
             "lineAnchor": "start",
             "offset": [
              1
             ],
             "size": {
              "signal": "[width, height]"
             },
             "type": "label"
            }
           ],
           "type": "text"
          }
         ],
         "name": "_markers",
         "type": "group"
        }
       ],
       "padding": 5,
       "scales": [
        {
         "domain": {
          "fields": [
           {
            "data": "distributions",
            "field": "timepoint"
           },
           {
            "data": "traces",
            "field": "timepoint"
           },
           {
            "data": "points",
            "field": "timepoint"
           },
           {
            "data": "markers",
            "field": "timepoint"
           }
          ]
         },
         "name": "xscale",
         "range": "width",
         "type": "linear",
         "zero": false
        },
        {
         "domain": {
          "fields": [
           {
            "data": "distributions",
            "field": "lower"
           },
           {
            "data": "distributions",
            "field": "upper"
           },
           {
            "data": "traces",
            "field": "value"
           },
           {
            "data": "points",
            "field": "value"
           }
          ]
         },
         "name": "yscale",
         "nice": true,
         "range": "height",
         "type": "linear",
         "zero": true
        },
        {
         "domain": {
          "fields": [
           {
            "data": "distributions",
            "field": "trajectory"
           },
           {
            "data": "traces",
            "field": "trajectory"
           },
           {
            "data": "points",
            "field": "trajectory"
           }
          ]
         },
         "name": "color",
         "range": "category",
         "type": "ordinal"
        }
       ],
       "signals": [
        {
         "name": "clear",
         "on": [
          {
           "events": "mouseup[!event.item]",
           "force": true,
           "update": "true"
          }
         ],
         "value": true
        },
        {
         "name": "shift",
         "on": [
          {
           "events": "@legendSymbol:click, @legendLabel:click",
           "force": true,
           "update": "event.shiftKey"
          }
         ],
         "value": false
        },
        {
         "name": "clicked",
         "on": [
          {
           "events": "@legendSymbol:click, @legendLabel:click",
           "force": true,
           "update": "{value: datum.value}"
          }
         ],
         "value": null
        }
       ],
       "width": 500
      }
     },
     "metadata": {},
     "output_type": "display_data"
    }
   ],
   "source": [
    "num_samples = 100\n",
    "models = [model1]\n",
    "data_location = DATA_PATH + \"NYS_T1_forecast1.csv\"\n",
    "weights = [1]\n",
    "solution_mappings = [{\"I\": \"I\", \"E\": \"E\", \"H\": \"H\", \"D\": \"D\"}]\n",
    "\n",
    "# Run the calibration and sampling\n",
    "result1A1 = load_and_calibrate_and_sample_ensemble_model(\n",
    "    models,\n",
    "    data_location,\n",
    "    weights,\n",
    "    solution_mappings,\n",
    "    num_samples,\n",
    "    timepoints1,\n",
    "    verbose=True,\n",
    "    total_population=19340000,\n",
    "    num_iterations=N_ITERATIONS,\n",
    "    time_unit=\"days\",\n",
    "    visual_options={\"title\": \"Calibrated Ensemble\", \"keep\":\".*_sol\"}\n",
    ")\n",
    "\n",
    "# Plot results\n",
    "schema = plots.trajectories(pd.DataFrame(result1A1[\"data\"]), keep=\".*_sol\",\n",
    "                            points=all_data1.reset_index(drop=True).rename(columns={\"I\":\"I_data\", \"H\":\"H_data\", \"D\":\"D_data\"}),\n",
    "                           )\n",
    "schema = plots.pad(schema, 5)\n",
    "plots.ipy_display(schema)"
   ]
  },
  {
   "cell_type": "markdown",
   "id": "285d18bd-95e2-4465-9825-7c9202093c56",
   "metadata": {},
   "source": [
    "### Post-process and save results"
   ]
  },
  {
   "cell_type": "code",
   "execution_count": 9,
   "id": "fc23b2e1-9122-4342-bd95-2397c6057f5f",
   "metadata": {},
   "outputs": [],
   "source": [
    "# Define functions to get incident cases, hospitalizations, and deaths\n",
    "def get_incident_cases(delta, exposed): # delta * Exposed\n",
    "    return delta * exposed\n",
    "\n",
    "def get_incident_hosp(eta, gamma, infectious): # eta * gamma * Infectious\n",
    "    return eta * gamma * infectious\n",
    "\n",
    "def get_incident_deaths(mu, los, hospitalized): # (mu/los) * Hospitalized\n",
    "    return (mu/los) * hospitalized\n",
    "\n",
    "results_df = result1A1[\"data\"]\n",
    "results_df[\"Incident_Cases_sol\"] = results_df.apply(lambda row: get_incident_cases(row['model_0/delta_param'], row['E_sol']), axis=1)\n",
    "results_df[\"Incident_Hosp_sol\"] = results_df.apply(lambda row: get_incident_hosp(row['model_0/eta_param'], row['model_0/gamma_param'], row['I_sol']), axis=1)\n",
    "results_df[\"Incident_Deaths_sol\"] = results_df.apply(lambda row: get_incident_deaths(row['model_0/mu_param'], row['model_0/los_param'], row['H_sol']), axis=1)\n",
    "\n",
    "# Save processed results\n",
    "results_df.to_csv(RESULTS_FILENAME, index=False)"
   ]
  },
  {
   "cell_type": "markdown",
   "id": "340be69d-5ec8-4e6c-a6f1-231befa383db",
   "metadata": {},
   "source": [
    "### Post-process and save quantiles"
   ]
  },
  {
   "cell_type": "code",
   "execution_count": 10,
   "id": "7a998e8b-6b20-48f7-9e36-2cda2a66fb23",
   "metadata": {},
   "outputs": [],
   "source": [
    "def reshape_multiindex_df_to_tensor(df: pd.DataFrame, indices=[ 'sample_id', 'timepoint_id']) -> dict[str, torch.tensor]:\n",
    "    \"\"\"Reshape a multiindex dataframe to a dictionary of tensors.\"\"\"\n",
    "    result = {}\n",
    "    if not isinstance(df.index, pd.MultiIndex):\n",
    "        df = df.set_index(indices)\n",
    "    for col in df.columns:\n",
    "        if '_sol' in col:\n",
    "            values = df[col].values\n",
    "            shape = [len(df.index.get_level_values(level).unique()) for level in df.index.names]\n",
    "            tensor_values = torch.tensor(values).reshape(*shape)\n",
    "            result[col] = tensor_values\n",
    "    return result\n",
    "\n",
    "# def outputs_to_samples(df: pd.DataFrame) -> dict[str,torch.tensor]:\n",
    "#     return {\n",
    "#         column.replace('_param',''): torch.from_numpy(df[column].values)\n",
    "#         for column in df.columns\n",
    "#     }\n",
    "# results_dict = outputs_to_samples(results_df)\n",
    "# results_dict\n",
    "\n",
    "\n",
    "results_dict = reshape_multiindex_df_to_tensor(results_df)\n",
    "quantiles_df = make_quantiles({'states': results_dict},timepoints1)"
   ]
  },
  {
   "cell_type": "code",
   "execution_count": 13,
   "id": "2975b97c-bad6-421d-9f13-c50c6bdec82d",
   "metadata": {},
   "outputs": [
    {
     "data": {
      "text/html": [
       "<div>\n",
       "<style scoped>\n",
       "    .dataframe tbody tr th:only-of-type {\n",
       "        vertical-align: middle;\n",
       "    }\n",
       "\n",
       "    .dataframe tbody tr th {\n",
       "        vertical-align: top;\n",
       "    }\n",
       "\n",
       "    .dataframe thead th {\n",
       "        text-align: right;\n",
       "    }\n",
       "</style>\n",
       "<table border=\"1\" class=\"dataframe\">\n",
       "  <thead>\n",
       "    <tr style=\"text-align: right;\">\n",
       "      <th></th>\n",
       "      <th>timepoint_id</th>\n",
       "      <th>number_days</th>\n",
       "      <th>inc_cum</th>\n",
       "      <th>output</th>\n",
       "      <th>type</th>\n",
       "      <th>quantile</th>\n",
       "      <th>value</th>\n",
       "      <th>Forecast_Backcast</th>\n",
       "    </tr>\n",
       "  </thead>\n",
       "  <tbody>\n",
       "    <tr>\n",
       "      <th>0</th>\n",
       "      <td>0</td>\n",
       "      <td>0.0</td>\n",
       "      <td>inc</td>\n",
       "      <td>I</td>\n",
       "      <td>quantile</td>\n",
       "      <td>0.010</td>\n",
       "      <td>175.000000</td>\n",
       "      <td>Backcast</td>\n",
       "    </tr>\n",
       "    <tr>\n",
       "      <th>1</th>\n",
       "      <td>0</td>\n",
       "      <td>0.0</td>\n",
       "      <td>inc</td>\n",
       "      <td>I</td>\n",
       "      <td>quantile</td>\n",
       "      <td>0.025</td>\n",
       "      <td>175.000000</td>\n",
       "      <td>Backcast</td>\n",
       "    </tr>\n",
       "    <tr>\n",
       "      <th>2</th>\n",
       "      <td>0</td>\n",
       "      <td>0.0</td>\n",
       "      <td>inc</td>\n",
       "      <td>I</td>\n",
       "      <td>quantile</td>\n",
       "      <td>0.050</td>\n",
       "      <td>175.000000</td>\n",
       "      <td>Backcast</td>\n",
       "    </tr>\n",
       "    <tr>\n",
       "      <th>3</th>\n",
       "      <td>0</td>\n",
       "      <td>0.0</td>\n",
       "      <td>inc</td>\n",
       "      <td>I</td>\n",
       "      <td>quantile</td>\n",
       "      <td>0.100</td>\n",
       "      <td>175.000000</td>\n",
       "      <td>Backcast</td>\n",
       "    </tr>\n",
       "    <tr>\n",
       "      <th>4</th>\n",
       "      <td>0</td>\n",
       "      <td>0.0</td>\n",
       "      <td>inc</td>\n",
       "      <td>I</td>\n",
       "      <td>quantile</td>\n",
       "      <td>0.150</td>\n",
       "      <td>175.000000</td>\n",
       "      <td>Backcast</td>\n",
       "    </tr>\n",
       "    <tr>\n",
       "      <th>...</th>\n",
       "      <td>...</td>\n",
       "      <td>...</td>\n",
       "      <td>...</td>\n",
       "      <td>...</td>\n",
       "      <td>...</td>\n",
       "      <td>...</td>\n",
       "      <td>...</td>\n",
       "      <td>...</td>\n",
       "    </tr>\n",
       "    <tr>\n",
       "      <th>99976</th>\n",
       "      <td>620</td>\n",
       "      <td>62.0</td>\n",
       "      <td>inc</td>\n",
       "      <td>Incident_Deaths</td>\n",
       "      <td>quantile</td>\n",
       "      <td>0.850</td>\n",
       "      <td>240.971608</td>\n",
       "      <td>Forecast</td>\n",
       "    </tr>\n",
       "    <tr>\n",
       "      <th>99977</th>\n",
       "      <td>620</td>\n",
       "      <td>62.0</td>\n",
       "      <td>inc</td>\n",
       "      <td>Incident_Deaths</td>\n",
       "      <td>quantile</td>\n",
       "      <td>0.900</td>\n",
       "      <td>304.038905</td>\n",
       "      <td>Forecast</td>\n",
       "    </tr>\n",
       "    <tr>\n",
       "      <th>99978</th>\n",
       "      <td>620</td>\n",
       "      <td>62.0</td>\n",
       "      <td>inc</td>\n",
       "      <td>Incident_Deaths</td>\n",
       "      <td>quantile</td>\n",
       "      <td>0.950</td>\n",
       "      <td>324.372947</td>\n",
       "      <td>Forecast</td>\n",
       "    </tr>\n",
       "    <tr>\n",
       "      <th>99979</th>\n",
       "      <td>620</td>\n",
       "      <td>62.0</td>\n",
       "      <td>inc</td>\n",
       "      <td>Incident_Deaths</td>\n",
       "      <td>quantile</td>\n",
       "      <td>0.975</td>\n",
       "      <td>358.126027</td>\n",
       "      <td>Forecast</td>\n",
       "    </tr>\n",
       "    <tr>\n",
       "      <th>99980</th>\n",
       "      <td>620</td>\n",
       "      <td>62.0</td>\n",
       "      <td>inc</td>\n",
       "      <td>Incident_Deaths</td>\n",
       "      <td>quantile</td>\n",
       "      <td>0.990</td>\n",
       "      <td>422.581267</td>\n",
       "      <td>Forecast</td>\n",
       "    </tr>\n",
       "  </tbody>\n",
       "</table>\n",
       "<p>99981 rows × 8 columns</p>\n",
       "</div>"
      ],
      "text/plain": [
       "       timepoint_id  number_days inc_cum           output      type  quantile   \n",
       "0                 0          0.0     inc                I  quantile     0.010  \\\n",
       "1                 0          0.0     inc                I  quantile     0.025   \n",
       "2                 0          0.0     inc                I  quantile     0.050   \n",
       "3                 0          0.0     inc                I  quantile     0.100   \n",
       "4                 0          0.0     inc                I  quantile     0.150   \n",
       "...             ...          ...     ...              ...       ...       ...   \n",
       "99976           620         62.0     inc  Incident_Deaths  quantile     0.850   \n",
       "99977           620         62.0     inc  Incident_Deaths  quantile     0.900   \n",
       "99978           620         62.0     inc  Incident_Deaths  quantile     0.950   \n",
       "99979           620         62.0     inc  Incident_Deaths  quantile     0.975   \n",
       "99980           620         62.0     inc  Incident_Deaths  quantile     0.990   \n",
       "\n",
       "            value Forecast_Backcast  \n",
       "0      175.000000          Backcast  \n",
       "1      175.000000          Backcast  \n",
       "2      175.000000          Backcast  \n",
       "3      175.000000          Backcast  \n",
       "4      175.000000          Backcast  \n",
       "...           ...               ...  \n",
       "99976  240.971608          Forecast  \n",
       "99977  304.038905          Forecast  \n",
       "99978  324.372947          Forecast  \n",
       "99979  358.126027          Forecast  \n",
       "99980  422.581267          Forecast  \n",
       "\n",
       "[99981 rows x 8 columns]"
      ]
     },
     "execution_count": 13,
     "metadata": {},
     "output_type": "execute_result"
    }
   ],
   "source": [
    "quantiles_df.rename(columns={'number_(unknown)': 'number_days'}, inplace=True)\n",
    "quantiles_df.loc[quantiles_df['number_days'] < (len(train_data1) - 1), 'Forecast_Backcast'] = \"Backcast\"\n",
    "quantiles_df"
   ]
  },
  {
   "cell_type": "code",
   "execution_count": 14,
   "id": "69afa53a-8c98-45c4-bde8-f4fb39e44bdb",
   "metadata": {},
   "outputs": [],
   "source": [
    "quantiles_df.to_csv(QUANTILES_FILENAME, index=False)\n",
    "\n",
    "q_ensemble_data = cdc_reformatcsv(filename=QUANTILES_FILENAME, \n",
    "                                  solution_string_mapping={\"I\": \"Case_Census\", \"E\": \"Exposed\", \"H\": \"Hosp_Census\", \"D\": \"Cumul_Deaths\", \"Incident_Cases\": \"Incident_Cases\", \"Incident_Hosp\": \"Incident_Hosp\", \"Incident_Deaths\": \"Incident_Deaths\"}, \n",
    "                                  forecast_start_date=\"2020-04-03\",\n",
    "                                  location=\"New York State\",\n",
    "                                  drop_column_names=[\"timepoint_id\", \"number_days\", \"inc_cum\", \"output\", \"Forecast_Backcast\"])\n",
    "q_ensemble_data.to_csv(QUANTILES_FILENAME)"
   ]
  },
  {
   "cell_type": "code",
   "execution_count": null,
   "id": "ca42e500-3520-4ea7-8a80-1bfc56fca0e4",
   "metadata": {},
   "outputs": [],
   "source": []
  },
  {
   "cell_type": "code",
   "execution_count": 18,
   "id": "7fe0d396-7c60-4ecc-b0de-f6e61b5e845e",
   "metadata": {},
   "outputs": [
    {
     "data": {
      "text/html": [
       "<div>\n",
       "<style scoped>\n",
       "    .dataframe tbody tr th:only-of-type {\n",
       "        vertical-align: middle;\n",
       "    }\n",
       "\n",
       "    .dataframe tbody tr th {\n",
       "        vertical-align: top;\n",
       "    }\n",
       "\n",
       "    .dataframe thead th {\n",
       "        text-align: right;\n",
       "    }\n",
       "</style>\n",
       "<table border=\"1\" class=\"dataframe\">\n",
       "  <thead>\n",
       "    <tr style=\"text-align: right;\">\n",
       "      <th></th>\n",
       "      <th>timepoint_id</th>\n",
       "      <th>number_days</th>\n",
       "      <th>inc_cum</th>\n",
       "      <th>output</th>\n",
       "      <th>type</th>\n",
       "      <th>quantile</th>\n",
       "      <th>value</th>\n",
       "      <th>Forecast_Backcast</th>\n",
       "    </tr>\n",
       "  </thead>\n",
       "  <tbody>\n",
       "    <tr>\n",
       "      <th>1100</th>\n",
       "      <td>47</td>\n",
       "      <td>4.7</td>\n",
       "      <td>inc</td>\n",
       "      <td>I</td>\n",
       "      <td>quantile</td>\n",
       "      <td>0.900</td>\n",
       "      <td>533.348730</td>\n",
       "      <td>Backcast</td>\n",
       "    </tr>\n",
       "    <tr>\n",
       "      <th>1101</th>\n",
       "      <td>47</td>\n",
       "      <td>4.7</td>\n",
       "      <td>inc</td>\n",
       "      <td>I</td>\n",
       "      <td>quantile</td>\n",
       "      <td>0.950</td>\n",
       "      <td>546.418246</td>\n",
       "      <td>Backcast</td>\n",
       "    </tr>\n",
       "    <tr>\n",
       "      <th>1102</th>\n",
       "      <td>47</td>\n",
       "      <td>4.7</td>\n",
       "      <td>inc</td>\n",
       "      <td>I</td>\n",
       "      <td>quantile</td>\n",
       "      <td>0.975</td>\n",
       "      <td>551.614847</td>\n",
       "      <td>Backcast</td>\n",
       "    </tr>\n",
       "    <tr>\n",
       "      <th>1103</th>\n",
       "      <td>47</td>\n",
       "      <td>4.7</td>\n",
       "      <td>inc</td>\n",
       "      <td>I</td>\n",
       "      <td>quantile</td>\n",
       "      <td>0.990</td>\n",
       "      <td>555.368936</td>\n",
       "      <td>Backcast</td>\n",
       "    </tr>\n",
       "    <tr>\n",
       "      <th>1104</th>\n",
       "      <td>48</td>\n",
       "      <td>4.8</td>\n",
       "      <td>inc</td>\n",
       "      <td>I</td>\n",
       "      <td>quantile</td>\n",
       "      <td>0.010</td>\n",
       "      <td>474.059278</td>\n",
       "      <td>Backcast</td>\n",
       "    </tr>\n",
       "    <tr>\n",
       "      <th>...</th>\n",
       "      <td>...</td>\n",
       "      <td>...</td>\n",
       "      <td>...</td>\n",
       "      <td>...</td>\n",
       "      <td>...</td>\n",
       "      <td>...</td>\n",
       "      <td>...</td>\n",
       "      <td>...</td>\n",
       "    </tr>\n",
       "    <tr>\n",
       "      <th>1165</th>\n",
       "      <td>50</td>\n",
       "      <td>5.0</td>\n",
       "      <td>inc</td>\n",
       "      <td>I</td>\n",
       "      <td>quantile</td>\n",
       "      <td>0.700</td>\n",
       "      <td>555.780353</td>\n",
       "      <td>Backcast</td>\n",
       "    </tr>\n",
       "    <tr>\n",
       "      <th>1166</th>\n",
       "      <td>50</td>\n",
       "      <td>5.0</td>\n",
       "      <td>inc</td>\n",
       "      <td>I</td>\n",
       "      <td>quantile</td>\n",
       "      <td>0.750</td>\n",
       "      <td>559.335922</td>\n",
       "      <td>Backcast</td>\n",
       "    </tr>\n",
       "    <tr>\n",
       "      <th>1167</th>\n",
       "      <td>50</td>\n",
       "      <td>5.0</td>\n",
       "      <td>inc</td>\n",
       "      <td>I</td>\n",
       "      <td>quantile</td>\n",
       "      <td>0.800</td>\n",
       "      <td>561.577527</td>\n",
       "      <td>Backcast</td>\n",
       "    </tr>\n",
       "    <tr>\n",
       "      <th>1168</th>\n",
       "      <td>50</td>\n",
       "      <td>5.0</td>\n",
       "      <td>inc</td>\n",
       "      <td>I</td>\n",
       "      <td>quantile</td>\n",
       "      <td>0.850</td>\n",
       "      <td>565.927658</td>\n",
       "      <td>Backcast</td>\n",
       "    </tr>\n",
       "    <tr>\n",
       "      <th>1169</th>\n",
       "      <td>50</td>\n",
       "      <td>5.0</td>\n",
       "      <td>inc</td>\n",
       "      <td>I</td>\n",
       "      <td>quantile</td>\n",
       "      <td>0.900</td>\n",
       "      <td>572.408282</td>\n",
       "      <td>Backcast</td>\n",
       "    </tr>\n",
       "  </tbody>\n",
       "</table>\n",
       "<p>70 rows × 8 columns</p>\n",
       "</div>"
      ],
      "text/plain": [
       "      timepoint_id  number_days inc_cum output      type  quantile   \n",
       "1100            47          4.7     inc      I  quantile     0.900  \\\n",
       "1101            47          4.7     inc      I  quantile     0.950   \n",
       "1102            47          4.7     inc      I  quantile     0.975   \n",
       "1103            47          4.7     inc      I  quantile     0.990   \n",
       "1104            48          4.8     inc      I  quantile     0.010   \n",
       "...            ...          ...     ...    ...       ...       ...   \n",
       "1165            50          5.0     inc      I  quantile     0.700   \n",
       "1166            50          5.0     inc      I  quantile     0.750   \n",
       "1167            50          5.0     inc      I  quantile     0.800   \n",
       "1168            50          5.0     inc      I  quantile     0.850   \n",
       "1169            50          5.0     inc      I  quantile     0.900   \n",
       "\n",
       "           value Forecast_Backcast  \n",
       "1100  533.348730          Backcast  \n",
       "1101  546.418246          Backcast  \n",
       "1102  551.614847          Backcast  \n",
       "1103  555.368936          Backcast  \n",
       "1104  474.059278          Backcast  \n",
       "...          ...               ...  \n",
       "1165  555.780353          Backcast  \n",
       "1166  559.335922          Backcast  \n",
       "1167  561.577527          Backcast  \n",
       "1168  565.927658          Backcast  \n",
       "1169  572.408282          Backcast  \n",
       "\n",
       "[70 rows x 8 columns]"
      ]
     },
     "execution_count": 18,
     "metadata": {},
     "output_type": "execute_result"
    }
   ],
   "source": [
    "quantiles_df[1100:1170]"
   ]
  },
  {
   "cell_type": "code",
   "execution_count": null,
   "id": "c3b10c55-dc65-45a0-a427-a357f0d57167",
   "metadata": {},
   "outputs": [],
   "source": []
  },
  {
   "cell_type": "code",
   "execution_count": null,
   "id": "5339a1bb-a251-43aa-b3b9-03b78c8d80d8",
   "metadata": {},
   "outputs": [],
   "source": [
    "# ab.rename(columns={'number_(unknown)': 'number_days'}, inplace=True)\n",
    "ab.loc[ab['number_days'] < (len(train_data1) - 1), 'Forecast_Backcast'] = \"Backcast\""
   ]
  },
  {
   "cell_type": "code",
   "execution_count": null,
   "id": "c2cdce46-298f-464c-9acd-82659af78b23",
   "metadata": {},
   "outputs": [],
   "source": [
    "from pyciemss.utils.interface_utils import convert_to_output_format\n",
    "output_format  = convert_to_output_format(results_dict, results_df['timepoint_days'].values, time_unit='days')\n",
    "output_format"
   ]
  },
  {
   "cell_type": "code",
   "execution_count": null,
   "id": "2f00917e-437e-45d0-a15f-e14d2360adff",
   "metadata": {},
   "outputs": [],
   "source": [
    "\n"
   ]
  },
  {
   "cell_type": "code",
   "execution_count": null,
   "id": "3e0af676-41d5-4ee7-bf2c-d1ddd83227e8",
   "metadata": {},
   "outputs": [],
   "source": []
  },
  {
   "cell_type": "code",
   "execution_count": null,
   "id": "84fa339d-a2ad-443f-89ec-acef0981c01b",
   "metadata": {},
   "outputs": [],
   "source": []
  },
  {
   "cell_type": "code",
   "execution_count": null,
   "id": "7e3bc33c-b299-4f53-9634-34701fa4ea24",
   "metadata": {},
   "outputs": [],
   "source": []
  },
  {
   "cell_type": "code",
   "execution_count": null,
   "id": "ca92d9e9-3b0e-4551-89a6-16f8b1193fdd",
   "metadata": {},
   "outputs": [],
   "source": []
  },
  {
   "cell_type": "code",
   "execution_count": null,
   "id": "b7d363ad-bce2-4ae5-938a-34f116ac8c74",
   "metadata": {},
   "outputs": [],
   "source": [
    "results_df = pd.read_csv(RESULTS_FILENAME)\n",
    "results_df"
   ]
  },
  {
   "cell_type": "code",
   "execution_count": null,
   "id": "91d7f7f4-cab4-4aae-be1f-b4cc3fd2dabd",
   "metadata": {},
   "outputs": [],
   "source": [
    "import torch\n",
    "\n",
    "                   "
   ]
  },
  {
   "cell_type": "markdown",
   "id": "5d5982d2-37db-4df7-b5d0-827093b0632b",
   "metadata": {},
   "source": [
    "## Convert solution to sample output\n"
   ]
  },
  {
   "cell_type": "code",
   "execution_count": null,
   "id": "b189d719-428e-44a8-8d82-9bab08347d55",
   "metadata": {},
   "outputs": [],
   "source": [
    "all_data11"
   ]
  },
  {
   "cell_type": "code",
   "execution_count": null,
   "id": "a1863eea-7280-481b-95ce-58f9b2fdef3f",
   "metadata": {},
   "outputs": [],
   "source": []
  },
  {
   "cell_type": "code",
   "execution_count": null,
   "id": "1eaf3599-0641-460d-9d16-6ae3a0c27089",
   "metadata": {},
   "outputs": [],
   "source": []
  },
  {
   "cell_type": "code",
   "execution_count": null,
   "id": "1c2d56ba-70a9-4bdc-8392-477d2d309ac4",
   "metadata": {},
   "outputs": [],
   "source": [
    "import torch\n",
    "def outputs_to_samples(df: pd.DataFrame) -> dict[str,torch.tensor]:\n",
    "    return {\n",
    "        column.replace('_param',''): torch.from_numpy(df[column].values)\n",
    "        for column in df.columns\n",
    "    }\n",
    "results_dict = outputs_to_samples(results_df)\n",
    "results_dict"
   ]
  },
  {
   "cell_type": "code",
   "execution_count": null,
   "id": "c61e3cdd-80e7-4d21-89c6-9e29b4cac05c",
   "metadata": {},
   "outputs": [],
   "source": [
    "from pyciemss.utils.interface_utils import convert_to_output_format\n",
    "output_format  = convert_to_output_format(results_dict, results_df['timepoint_days'].values, time_unit='days')\n",
    "output_format"
   ]
  },
  {
   "cell_type": "code",
   "execution_count": null,
   "id": "b278bfca-b7cb-4f75-8eaf-b1c0bd29de85",
   "metadata": {},
   "outputs": [],
   "source": [
    "train_data1.iloc[len(train_data1) - 1]"
   ]
  },
  {
   "cell_type": "code",
   "execution_count": null,
   "id": "ea8f720d-77c9-4ebc-8c23-fe32975533d7",
   "metadata": {},
   "outputs": [],
   "source": [
    "# ab.rename(columns={'number_(unknown)': 'number_days'}, inplace=True)\n",
    "ab.loc[ab['number_days'] < (len(train_data1) - 1), 'Forecast_Backcast'] = \"Backcast\"\n",
    "ab"
   ]
  },
  {
   "cell_type": "code",
   "execution_count": null,
   "id": "cb9c3513-75ef-4601-9167-a2ef6fe506cc",
   "metadata": {},
   "outputs": [],
   "source": [
    "QUANTILES_FILENAME"
   ]
  },
  {
   "cell_type": "code",
   "execution_count": null,
   "id": "553506b0-ada8-4ae2-b1b6-5e421c5803e8",
   "metadata": {},
   "outputs": [],
   "source": [
    "all_data1 #[\"timepoints\"][len(train_data1) - 1]"
   ]
  },
  {
   "cell_type": "code",
   "execution_count": null,
   "id": "281d7361-ea25-43d7-b228-b3736c768122",
   "metadata": {},
   "outputs": [],
   "source": [
    "# result1A1[\"quantiles\"].to_csv(QUANTILES_FILENAME, index=False)\n",
    "ab.to_csv(QUANTILES_FILENAME, index=False)\n",
    "\n",
    "q_ensemble_data = cdc_reformatcsv(filename=QUANTILES_FILENAME, \n",
    "                                  solution_string_mapping={\"I\": \"case_census\", \"E\": \"Exposed\", \"H\": \"hosp_census\", \"D\": \"cumul_deaths\", \"Incident_Cases\": \"Incident_Cases\", \"Incident_Hosp\": \"Incident_Hosp\", \"Incident_Deaths\": \"Incident_Deaths\"}, \n",
    "                                  forecast_start_date=\"2020-04-03\",\n",
    "                                  location=\"New York State\",\n",
    "                                  drop_column_names=[\"timepoint_id\", \"number_days\", \"inc_cum\", \"output\", \"Forecast_Backcast\"])\n",
    "q_ensemble_data.to_csv(QUANTILES_FILENAME)\n",
    "\n",
    "## PREVIOUS WAY OF PROCESSING QUANTILES\n",
    "# q_ensemble_data = cdc_reformatcsv(filename=\"../../notebook/ensemble_eval_sa/ensemble_results/partI_ensemble_of_many_quantiles.csv\", \n",
    "#                                   solution_string_mapping={\"I\": \"cases\", \"D\": \"deaths\"}, \n",
    "#                                   forecast_start_date=\"2020-04-02\",\n",
    "#                                   location=\"New York State\",\n",
    "#                                   drop_column_names=[\"timepoint_id\", \"number_days\", \"inc_cum\", \"output\", \"Forecast_Backcast\"])\n",
    "# q_ensemble_data.to_csv(\"../../notebook/ensemble_eval_sa/ensemble_results/partI_ensemble_of_many_forecast_quantiles_Apr032020.csv\")"
   ]
  },
  {
   "cell_type": "code",
   "execution_count": null,
   "id": "aa37fa9d-3c58-460c-a35e-b25d4c2c9cf3",
   "metadata": {},
   "outputs": [],
   "source": [
    "result1A1[\"quantiles\"]"
   ]
  },
  {
   "cell_type": "markdown",
   "id": "4ac926b7-5a5d-45a5-aed4-851cc7bb45c6",
   "metadata": {},
   "source": [
    "### MODEL 2 - Age-Structured SEIRHD with NPI of Type I, Model Version 2"
   ]
  },
  {
   "cell_type": "code",
   "execution_count": null,
   "id": "6fa25da4-a72d-4789-969a-cfffe3c26ec1",
   "metadata": {},
   "outputs": [],
   "source": [
    "num_samples = 100\n",
    "models = [model2]\n",
    "data_location = DATA_PATH + \"NYS_T1_forecast1.csv\"\n",
    "weights = [1]\n",
    "solution_mappings = [{\"I\": \"infected\", \"H\": \"hospitalized\", \"D\": \"dead\"}]\n",
    "\n",
    "# Run the calibration and sampling\n",
    "result1A2 = load_and_calibrate_and_sample_ensemble_model(\n",
    "    models,\n",
    "    data_location,\n",
    "    weights,\n",
    "    solution_mappings,\n",
    "    num_samples,\n",
    "    timepoints1,\n",
    "    verbose=True,\n",
    "    total_population=19340000,\n",
    "    num_iterations=N_ITERATIONS,\n",
    "    time_unit=\"days\",\n",
    "    visual_options={\"title\": \"Calibrated Ensemble\", \"keep\":\".*_sol\"}\n",
    ")\n",
    "\n",
    "# # Save results\n",
    "# result1A2[\"data\"].to_csv(\"../../notebook/ensemble_eval_sa/ensemble_results/partI_ensemble_of_one_results.csv\", index=False)\n",
    "# result1A2[\"quantiles\"].to_csv(\"../../notebook/ensemble_eval_sa/ensemble_results/partI_ensemble_of_one_quantiles.csv\", index=False)\n",
    "\n",
    "# Plot results\n",
    "schema = plots.trajectories(pd.DataFrame(result1A2[\"data\"]), keep=\".*_sol\",\n",
    "                            points=all_data1.reset_index(drop=True).rename(columns={\"I\":\"I_data\", \"H\":\"H_data\", \"D\":\"D_data\"}),\n",
    "                           )\n",
    "schema = plots.pad(schema, 5)\n",
    "plots.ipy_display(schema)"
   ]
  },
  {
   "cell_type": "markdown",
   "id": "723edfa9-2755-4cf0-93e6-4cb8ca435ed5",
   "metadata": {},
   "source": [
    "### Post-process results"
   ]
  },
  {
   "cell_type": "code",
   "execution_count": null,
   "id": "1e17aa35-455c-448d-b256-3a198fd72aa8",
   "metadata": {},
   "outputs": [],
   "source": [
    "result1A2[\"data\"]"
   ]
  },
  {
   "cell_type": "markdown",
   "id": "78b13909-8cab-4fe7-8b04-5e6d67125412",
   "metadata": {},
   "source": [
    "### MODEL 3 - Age-Structured SEIRHD with NPI of Type I, Model Version 3"
   ]
  },
  {
   "cell_type": "code",
   "execution_count": null,
   "id": "654bb2a6-f7dd-45bb-9ebe-183ac72bd67e",
   "metadata": {},
   "outputs": [],
   "source": [
    "num_samples = 100\n",
    "models = [model3]\n",
    "data_location = DATA_PATH + \"NYS_T1_forecast1.csv\"\n",
    "weights = [1]\n",
    "solution_mappings = [{\"I\": \"infected\", \"H\": \"hospitalized\", \"D\": \"dead\"}]\n",
    "\n",
    "# Run the calibration and sampling\n",
    "result1A3 = load_and_calibrate_and_sample_ensemble_model(\n",
    "    models,\n",
    "    data_location,\n",
    "    weights,\n",
    "    solution_mappings,\n",
    "    num_samples,\n",
    "    timepoints1,\n",
    "    verbose=True,\n",
    "    total_population=19340000,\n",
    "    num_iterations=N_ITERATIONS,\n",
    "    time_unit=\"days\",\n",
    "    visual_options={\"title\": \"Calibrated Ensemble\", \"keep\":\".*_sol\"}\n",
    ")\n",
    "\n",
    "# # Save results\n",
    "# result1A3[\"data\"].to_csv(\"../../notebook/ensemble_eval_sa/ensemble_results/partI_ensemble_of_one_results.csv\", index=False)\n",
    "# result1A3[\"quantiles\"].to_csv(\"../../notebook/ensemble_eval_sa/ensemble_results/partI_ensemble_of_one_quantiles.csv\", index=False)\n",
    "\n",
    "# Plot results\n",
    "schema = plots.trajectories(pd.DataFrame(result1A3[\"data\"]), keep=\".*_sol\",\n",
    "                            points=all_data1.reset_index(drop=True).rename(columns={\"I\":\"I_data\", \"H\":\"H_data\", \"D\":\"D_data\"}),\n",
    "                           )\n",
    "schema = plots.pad(schema, 5)\n",
    "plots.ipy_display(schema)"
   ]
  },
  {
   "cell_type": "markdown",
   "id": "2677099a-e0d8-4d19-9a65-217451f59b48",
   "metadata": {},
   "source": [
    "### Post-process and save results"
   ]
  },
  {
   "cell_type": "code",
   "execution_count": null,
   "id": "6fe59d66-975f-435b-959b-2efa53f85d19",
   "metadata": {},
   "outputs": [],
   "source": [
    "result1A3[\"data\"]"
   ]
  },
  {
   "cell_type": "markdown",
   "id": "2ded2349-d56b-4fe5-a685-06b37cc78831",
   "metadata": {},
   "source": [
    "## (B) Calibrate and sample an ensemble of multiple models"
   ]
  },
  {
   "cell_type": "code",
   "execution_count": null,
   "id": "0481d2fb-da12-4cdb-a039-904d16a93361",
   "metadata": {},
   "outputs": [],
   "source": [
    "RESULTS_FILENAME = RESULTS_PATH + \"T1_ensemble_of3_results_Apr042020.csv\"\n",
    "QUANTILES_FILENAME = RESULTS_PATH + \"T1_ensemble_of3_quantiles_Apr042020.csv\"\n",
    "N_ITERATIONS = 400"
   ]
  },
  {
   "cell_type": "code",
   "execution_count": null,
   "id": "5220df5c-61a0-47ad-ac94-fc543e8cb523",
   "metadata": {},
   "outputs": [],
   "source": [
    "num_samples = 100\n",
    "models = [model1, model2, model3]\n",
    "data_location = DATA_PATH + \"NYS_T1_forecast1.csv\"\n",
    "weights = [1/len(models) for i in models]\n",
    "solution_mappings = [{\"I\": \"I\", \"H\": \"H\", \"D\": \"D\"},\n",
    "                     {\"I\": \"infected\", \"H\": \"hospitalized\", \"D\": \"dead\"}, \n",
    "                     {\"I\": \"infected\", \"H\": \"hospitalized\", \"D\": \"dead\"}\n",
    "                     ]\n",
    "\n",
    "# Run the calibration and sampling\n",
    "result1B1 = load_and_calibrate_and_sample_ensemble_model(\n",
    "    models,\n",
    "    data_location,\n",
    "    weights,\n",
    "    solution_mappings,\n",
    "    num_samples,\n",
    "    timepoints1,\n",
    "    verbose=True,\n",
    "    total_population=19340000,\n",
    "    num_iterations=N_ITERATIONS,\n",
    "    time_unit=\"days\",\n",
    "    visual_options={\"title\": \"Calibrated Ensemble\", \"keep\":\".*_sol\"}\n",
    ")\n",
    "\n",
    "# Save results\n",
    "# result1B1[\"data\"].to_csv(\"../../notebook/ensemble_eval_sa/ensemble_results/partI_ensemble_of_many_results.csv\", index=False)\n",
    "# result1B1[\"quantiles\"].to_csv(\"../../notebook/ensemble_eval_sa/ensemble_results/partI_ensemble_of_many_quantiles.csv\", index=False)\n",
    "\n",
    "# q_ensemble_data = cdc_reformatcsv(filename=\"../../notebook/ensemble_eval_sa/ensemble_results/partI_ensemble_of_many_quantiles.csv\", \n",
    "#                                   solution_string_mapping={\"I\": \"cases\", \"D\": \"deaths\"}, \n",
    "#                                   forecast_start_date=\"2020-04-02\",\n",
    "#                                   location=\"New York State\",\n",
    "#                                   drop_column_names=[\"timepoint_id\", \"number_days\", \"inc_cum\", \"output\", \"Forecast_Backcast\"])\n",
    "# q_ensemble_data.to_csv(\"../../notebook/ensemble_eval_sa/ensemble_results/partI_ensemble_of_many_forecast_quantiles_Apr032020.csv\")\n",
    "\n",
    "# Plot results\n",
    "schema = plots.trajectories(pd.DataFrame(result1B1[\"data\"]), keep=\".*_sol\",\n",
    "                            points=all_data1.reset_index(drop=True).rename(columns={\"I\":\"I_data\", \"H\":\"H_data\", \"D\":\"D_data\"}),\n",
    "                           )\n",
    "schema = plots.pad(schema, 5)\n",
    "plots.ipy_display(schema)"
   ]
  },
  {
   "cell_type": "code",
   "execution_count": null,
   "id": "765e6d37-d87b-48b6-877b-067d2995179e",
   "metadata": {},
   "outputs": [],
   "source": [
    "num_samples = 100\n",
    "models = [model1, model3]\n",
    "data_location = DATA_PATH + \"NYS_T1_forecast1.csv\"\n",
    "weights = [1/len(models) for i in models]\n",
    "solution_mappings = [{\"I\": \"I\", \"H\": \"H\", \"D\": \"D\"},\n",
    "                     {\"I\": \"infected\", \"H\": \"hospitalized\", \"D\": \"dead\"}\n",
    "                     ]\n",
    "\n",
    "# Run the calibration and sampling\n",
    "result1B2 = load_and_calibrate_and_sample_ensemble_model(\n",
    "    models,\n",
    "    data_location,\n",
    "    weights,\n",
    "    solution_mappings,\n",
    "    num_samples,\n",
    "    timepoints1,\n",
    "    verbose=True,\n",
    "    total_population=19340000,\n",
    "    num_iterations=N_ITERATIONS,\n",
    "    time_unit=\"days\",\n",
    "    visual_options={\"title\": \"Calibrated Ensemble\", \"keep\":\".*_sol\"}\n",
    ")\n",
    "\n",
    "# Save results\n",
    "# result1B2[\"data\"].to_csv(\"../../notebook/ensemble_eval_sa/ensemble_results/partI_ensemble_of_two_results.csv\", index=False)\n",
    "# result1B2[\"quantiles\"].to_csv(\"../../notebook/ensemble_eval_sa/ensemble_results/partI_ensemble_of_two_quantiles.csv\", index=False)\n",
    "\n",
    "# Plot results\n",
    "schema = plots.trajectories(pd.DataFrame(result1B2[\"data\"]), keep=\".*_sol\",\n",
    "                            points=all_data1.reset_index(drop=True).rename(columns={\"I\":\"I_data\", \"H\":\"H_data\", \"D\":\"D_data\"}),\n",
    "                           )\n",
    "schema = plots.pad(schema, 5)\n",
    "plots.ipy_display(schema)"
   ]
  },
  {
   "cell_type": "code",
   "execution_count": null,
   "id": "b1200c83-faab-444d-8a13-c815867ad5ba",
   "metadata": {},
   "outputs": [],
   "source": [
    "num_samples = 100\n",
    "models = [model1, model2, model3]\n",
    "data_location = DATA_PATH + \"NYS_T1_forecast1.csv\"\n",
    "weights = [0.1, 0.4, 0.5] # [1/len(models) for i in models]\n",
    "solution_mappings = [{\"I\": \"I\", \"H\": \"H\", \"D\": \"D\"},\n",
    "                     {\"I\": \"infected\", \"H\": \"hospitalized\", \"D\": \"dead\"}, \n",
    "                     {\"I\": \"infected\", \"H\": \"hospitalized\", \"D\": \"dead\"}\n",
    "                     ]\n",
    "\n",
    "# Run the calibration and sampling\n",
    "result1B3 = load_and_calibrate_and_sample_ensemble_model(\n",
    "    models,\n",
    "    data_location,\n",
    "    weights,\n",
    "    solution_mappings,\n",
    "    num_samples,\n",
    "    timepoints1,\n",
    "    verbose=True,\n",
    "    total_population=19340000,\n",
    "    num_iterations=N_ITERATIONS,\n",
    "    time_unit=\"days\",\n",
    "    visual_options={\"title\": \"Calibrated Ensemble\", \"keep\":\".*_sol\"}\n",
    ")\n",
    "\n",
    "# Save results\n",
    "# result1B3[\"data\"].to_csv(\"../../notebook/ensemble_eval_sa/ensemble_results/partI_ensemble_of_many_results.csv\", index=False)\n",
    "# result1B3[\"quantiles\"].to_csv(\"../../notebook/ensemble_eval_sa/ensemble_results/partI_ensemble_of_many_quantiles.csv\", index=False)\n",
    "\n",
    "# Plot results\n",
    "schema = plots.trajectories(pd.DataFrame(result1B3[\"data\"]), keep=\".*_sol\",\n",
    "                            points=all_data1.reset_index(drop=True).rename(columns={\"I\":\"I_data\", \"H\":\"H_data\", \"D\":\"D_data\"}),\n",
    "                           )\n",
    "schema = plots.pad(schema, 5)\n",
    "plots.ipy_display(schema)"
   ]
  },
  {
   "cell_type": "code",
   "execution_count": null,
   "id": "87dc7805-b9df-4d36-9646-463530a5aca4",
   "metadata": {},
   "outputs": [],
   "source": [
    "num_samples = 100\n",
    "models = [model1, model2, model3]\n",
    "data_location = DATA_PATH + \"NYS_T1_forecast1.csv\"\n",
    "weights = [0.2, 0.3, 0.5] # [1/len(models) for i in models]\n",
    "solution_mappings = [{\"I\": \"I\", \"H\": \"H\", \"D\": \"D\"},\n",
    "                     {\"I\": \"infected\", \"H\": \"hospitalized\", \"D\": \"dead\"}, \n",
    "                     {\"I\": \"infected\", \"H\": \"hospitalized\", \"D\": \"dead\"}\n",
    "                     ]\n",
    "\n",
    "# Run the calibration and sampling\n",
    "result1B4 = load_and_calibrate_and_sample_ensemble_model(\n",
    "    models,\n",
    "    data_location,\n",
    "    weights,\n",
    "    solution_mappings,\n",
    "    num_samples,\n",
    "    timepoints1,\n",
    "    verbose=True,\n",
    "    total_population=19340000,\n",
    "    num_iterations=N_ITERATIONS,\n",
    "    time_unit=\"days\",\n",
    "    visual_options={\"title\": \"Calibrated Ensemble\", \"keep\":\".*_sol\"}\n",
    ")\n",
    "\n",
    "# Save results\n",
    "# result1B4[\"data\"].to_csv(\"../../notebook/ensemble_eval_sa/ensemble_results/partI_ensemble_of_many_results.csv\", index=False)\n",
    "# result1B4[\"quantiles\"].to_csv(\"../../notebook/ensemble_eval_sa/ensemble_results/partI_ensemble_of_many_quantiles.csv\", index=False)\n",
    "\n",
    "# Plot results\n",
    "schema = plots.trajectories(pd.DataFrame(result1B4[\"data\"]), keep=\".*_sol\",\n",
    "                            points=all_data1.reset_index(drop=True).rename(columns={\"I\":\"I_data\", \"H\":\"H_data\", \"D\":\"D_data\"}),\n",
    "                           )\n",
    "schema = plots.pad(schema, 5)\n",
    "plots.ipy_display(schema)"
   ]
  },
  {
   "cell_type": "code",
   "execution_count": null,
   "id": "adf3f44f-2491-4ed0-8c1e-19d60fe271f0",
   "metadata": {},
   "outputs": [],
   "source": []
  },
  {
   "cell_type": "markdown",
   "id": "6bb62a41-3d64-4e07-857d-cd79b1305452",
   "metadata": {},
   "source": [
    "# (2) Forecast 2: 04/10/2020 - 05/08/2020"
   ]
  },
  {
   "cell_type": "markdown",
   "id": "d4f2fbf0-ed66-4383-8808-3971a979d08e",
   "metadata": {},
   "source": [
    "## (A) Calibrate and sample an ensemble of one model"
   ]
  },
  {
   "cell_type": "code",
   "execution_count": null,
   "id": "58a1d7c7-a0d0-430f-9bd2-1069a46803a0",
   "metadata": {},
   "outputs": [],
   "source": [
    "num_samples = 100\n",
    "models = [model3]\n",
    "data_location = DATA_PATH + \"NYS_T1_forecast2.csv\"\n",
    "weights = [1]\n",
    "solution_mappings = [{\"I\": \"infected\", \"H\": \"hospitalized\", \"D\": \"dead\"}]\n",
    "\n",
    "# Run the calibration and sampling\n",
    "result2A = load_and_calibrate_and_sample_ensemble_model(\n",
    "    models,\n",
    "    data_location,\n",
    "    weights,\n",
    "    solution_mappings,\n",
    "    num_samples,\n",
    "    timepoints2,\n",
    "    verbose=True,\n",
    "    total_population=19340000,\n",
    "    num_iterations=N_ITERATIONS,\n",
    "    time_unit=\"days\",\n",
    "    visual_options={\"title\": \"Calibrated Ensemble\", \"keep\":\".*_sol\"}\n",
    ")\n",
    "\n",
    "# # Save results\n",
    "# result2A[\"data\"].to_csv(\"../../notebook/ensemble_eval_sa/ensemble_results/partI_ensemble_of_one_results.csv\", index=False)\n",
    "# result2A[\"quantiles\"].to_csv(\"../../notebook/ensemble_eval_sa/ensemble_results/partI_ensemble_of_one_quantiles.csv\", index=False)\n",
    "\n",
    "# Plot results\n",
    "schema = plots.trajectories(pd.DataFrame(result2A[\"data\"]), keep=\".*_sol\",\n",
    "                            points=all_data2.reset_index(drop=True).rename(columns={\"I\":\"I_data\", \"H\":\"H_data\", \"D\":\"D_data\"}),\n",
    "                           )\n",
    "schema = plots.pad(schema, 5)\n",
    "plots.ipy_display(schema)"
   ]
  },
  {
   "cell_type": "markdown",
   "id": "80c170c6-1698-45cb-b853-c293fcfce235",
   "metadata": {},
   "source": [
    "### Post-process and save results"
   ]
  },
  {
   "cell_type": "code",
   "execution_count": null,
   "id": "bcb71041-7d51-44f2-bfb6-9fc0f99eda2f",
   "metadata": {},
   "outputs": [],
   "source": [
    "RESULTS_FILENAME = RESULTS_PATH + \"T1_ensemble_of1_results_Apr102020.csv\"\n",
    "QUANTILES_FILENAME = RESULTS_PATH + \"T1_ensemble_of1_quantiles_Apr102020.csv\""
   ]
  },
  {
   "cell_type": "markdown",
   "id": "1fd19ee0-d988-408e-8ba7-7636d4c42026",
   "metadata": {},
   "source": [
    "## (B) Calibrate and sample an ensemble of multiple models"
   ]
  },
  {
   "cell_type": "code",
   "execution_count": null,
   "id": "baf52bf7-b85c-4a0b-9c1d-2335f38614d0",
   "metadata": {},
   "outputs": [],
   "source": [
    "num_samples = 100\n",
    "models = [model1, model2, model3]\n",
    "data_location = DATA_PATH + \"NYS_T1_forecast2.csv\"\n",
    "weights = [0.2, 0.3, 0.5] # [1/len(models) for i in models]\n",
    "solution_mappings = [{\"I\": \"I\", \"H\": \"H\", \"D\": \"D\"},\n",
    "                     {\"I\": \"infected\", \"H\": \"hospitalized\", \"D\": \"dead\"}, \n",
    "                     {\"I\": \"infected\", \"H\": \"hospitalized\", \"D\": \"dead\"}\n",
    "                     ]\n",
    "\n",
    "# Run the calibration and sampling\n",
    "result2B = load_and_calibrate_and_sample_ensemble_model(\n",
    "    models,\n",
    "    data_location,\n",
    "    weights,\n",
    "    solution_mappings,\n",
    "    num_samples,\n",
    "    timepoints2,\n",
    "    verbose=True,\n",
    "    total_population=19340000,\n",
    "    num_iterations=N_ITERATIONS,\n",
    "    time_unit=\"days\",\n",
    "    visual_options={\"title\": \"Calibrated Ensemble\", \"keep\":\".*_sol\"}\n",
    ")\n",
    "\n",
    "# Save results\n",
    "# result2B[\"data\"].to_csv(\"../../notebook/ensemble_eval_sa/ensemble_results/partI_ensemble_of_many_results.csv\", index=False)\n",
    "# result2B[\"quantiles\"].to_csv(\"../../notebook/ensemble_eval_sa/ensemble_results/partI_ensemble_of_many_quantiles.csv\", index=False)\n",
    "\n",
    "# Plot results\n",
    "schema = plots.trajectories(pd.DataFrame(result2B[\"data\"]), keep=\".*_sol\",\n",
    "                            points=all_data2.reset_index(drop=True).rename(columns={\"I\":\"I_data\", \"H\":\"H_data\", \"D\":\"D_data\"}),\n",
    "                           )\n",
    "schema = plots.pad(schema, 5)\n",
    "plots.ipy_display(schema)"
   ]
  },
  {
   "cell_type": "markdown",
   "id": "d5c5ee05-256f-493d-a186-1701f7cc74f3",
   "metadata": {},
   "source": [
    "### Post-process and save results"
   ]
  },
  {
   "cell_type": "code",
   "execution_count": null,
   "id": "7d30cbc4-829c-4743-a72a-9930565dec6a",
   "metadata": {},
   "outputs": [],
   "source": [
    "RESULTS_FILENAME = RESULTS_PATH + \"T1_ensemble_of3_results_Apr102020.csv\"\n",
    "QUANTILES_FILENAME = RESULTS_PATH + \"T1_ensemble_of3_quantiles_Apr102020.csv\""
   ]
  },
  {
   "cell_type": "markdown",
   "id": "660c527e-b402-47b1-a778-947de9a1738d",
   "metadata": {},
   "source": [
    "# (3) Forecast 3: 04/17/2020 - 05/15/2020"
   ]
  },
  {
   "cell_type": "markdown",
   "id": "a256ef1f-bacc-4a73-817d-3d07e34e401a",
   "metadata": {},
   "source": [
    "## (A) Calibrate and sample an ensemble of one model"
   ]
  },
  {
   "cell_type": "code",
   "execution_count": null,
   "id": "1dd2f951-9f35-4173-a59f-28b979ad2f12",
   "metadata": {},
   "outputs": [],
   "source": [
    "num_samples = 100\n",
    "models = [model3]\n",
    "data_location = DATA_PATH + \"NYS_T1_forecast3.csv\"\n",
    "weights = [1]\n",
    "solution_mappings = [{\"I\": \"infected\", \"H\": \"hospitalized\", \"D\": \"dead\"}]\n",
    "\n",
    "# Run the calibration and sampling\n",
    "result3A = load_and_calibrate_and_sample_ensemble_model(\n",
    "    models,\n",
    "    data_location,\n",
    "    weights,\n",
    "    solution_mappings,\n",
    "    num_samples,\n",
    "    timepoints3,\n",
    "    verbose=True,\n",
    "    total_population=19340000,\n",
    "    num_iterations=N_ITERATIONS,\n",
    "    time_unit=\"days\",\n",
    "    visual_options={\"title\": \"Calibrated Ensemble\", \"keep\":\".*_sol\"}\n",
    ")\n",
    "\n",
    "# # Save results\n",
    "# result3A[\"data\"].to_csv(\"../../notebook/ensemble_eval_sa/ensemble_results/partI_ensemble_of_one_results.csv\", index=False)\n",
    "# result3A[\"quantiles\"].to_csv(\"../../notebook/ensemble_eval_sa/ensemble_results/partI_ensemble_of_one_quantiles.csv\", index=False)\n",
    "\n",
    "# Plot results\n",
    "schema = plots.trajectories(pd.DataFrame(result3A[\"data\"]), keep=\".*_sol\",\n",
    "                            points=all_data3.reset_index(drop=True).rename(columns={\"I\":\"I_data\", \"H\":\"H_data\", \"D\":\"D_data\"}),\n",
    "                           )\n",
    "schema = plots.pad(schema, 5)\n",
    "plots.ipy_display(schema)"
   ]
  },
  {
   "cell_type": "markdown",
   "id": "4bc26036-b736-4c35-86b3-e76523f9e55c",
   "metadata": {},
   "source": [
    "### Post-process and save results"
   ]
  },
  {
   "cell_type": "code",
   "execution_count": null,
   "id": "0fd099ad-016a-4868-adbd-f8d51343e466",
   "metadata": {},
   "outputs": [],
   "source": [
    "RESULTS_FILENAME = RESULTS_PATH + \"T1_ensemble_of1_results_Apr172020.csv\"\n",
    "QUANTILES_FILENAME = RESULTS_PATH + \"T1_ensemble_of1_quantiles_Apr172020.csv\""
   ]
  },
  {
   "cell_type": "markdown",
   "id": "b7147419-20a1-48ae-958c-ae965c4bc7cb",
   "metadata": {},
   "source": [
    "## (B) Calibrate and sample an ensemble of multiple models"
   ]
  },
  {
   "cell_type": "code",
   "execution_count": null,
   "id": "b056660d-96e9-4f9f-a18d-3cc366143ee6",
   "metadata": {},
   "outputs": [],
   "source": [
    "num_samples = 100\n",
    "models = [model1, model2, model3]\n",
    "data_location = DATA_PATH + \"NYS_T1_forecast3.csv\"\n",
    "weights = [0.2, 0.3, 0.5] # [1/len(models) for i in models]\n",
    "solution_mappings = [{\"I\": \"I\", \"H\": \"H\", \"D\": \"D\"},\n",
    "                     {\"I\": \"infected\", \"H\": \"hospitalized\", \"D\": \"dead\"}, \n",
    "                     {\"I\": \"infected\", \"H\": \"hospitalized\", \"D\": \"dead\"}\n",
    "                     ]\n",
    "\n",
    "# Run the calibration and sampling\n",
    "result3B = load_and_calibrate_and_sample_ensemble_model(\n",
    "    models,\n",
    "    data_location,\n",
    "    weights,\n",
    "    solution_mappings,\n",
    "    num_samples,\n",
    "    timepoints3,\n",
    "    verbose=True,\n",
    "    total_population=19340000,\n",
    "    num_iterations=N_ITERATIONS,\n",
    "    time_unit=\"days\",\n",
    "    visual_options={\"title\": \"Calibrated Ensemble\", \"keep\":\".*_sol\"}\n",
    ")\n",
    "\n",
    "# Save results\n",
    "# result3B[\"data\"].to_csv(\"../../notebook/ensemble_eval_sa/ensemble_results/partI_ensemble_of_many_results.csv\", index=False)\n",
    "# result3B[\"quantiles\"].to_csv(\"../../notebook/ensemble_eval_sa/ensemble_results/partI_ensemble_of_many_quantiles.csv\", index=False)\n",
    "\n",
    "# Plot results\n",
    "schema = plots.trajectories(pd.DataFrame(result3B[\"data\"]), keep=\".*_sol\",\n",
    "                            points=all_data3.reset_index(drop=True).rename(columns={\"I\":\"I_data\", \"H\":\"H_data\", \"D\":\"D_data\"}),\n",
    "                           )\n",
    "schema = plots.pad(schema, 5)\n",
    "plots.ipy_display(schema)"
   ]
  },
  {
   "cell_type": "markdown",
   "id": "ae3021be-b865-41ae-a7fd-d2aa17589e98",
   "metadata": {},
   "source": [
    "### Post-process and save results"
   ]
  },
  {
   "cell_type": "code",
   "execution_count": null,
   "id": "3c9d7941-2613-48ab-8f3e-c15cf6f3a90d",
   "metadata": {},
   "outputs": [],
   "source": [
    "RESULTS_FILENAME = RESULTS_PATH + \"T1_ensemble_of3_results_Apr172020.csv\"\n",
    "QUANTILES_FILENAME = RESULTS_PATH + \"T1_ensemble_of3_quantiles_Apr172020.csv\""
   ]
  },
  {
   "cell_type": "markdown",
   "id": "c8b29e7f-2055-41c2-ae45-ca80c73e6abf",
   "metadata": {},
   "source": [
    "# (4) Forecast 4: 04/24/2020 - 05/22/2020"
   ]
  },
  {
   "cell_type": "markdown",
   "id": "bb248298-0c2a-44d2-aac7-4f5254710626",
   "metadata": {},
   "source": [
    "## (A) Calibrate and sample an ensemble of one model"
   ]
  },
  {
   "cell_type": "code",
   "execution_count": null,
   "id": "42a31d84-5596-47ed-bf7b-46c82ec255a9",
   "metadata": {},
   "outputs": [],
   "source": [
    "num_samples = 100\n",
    "models = [model3]\n",
    "data_location = DATA_PATH + \"NYS_T1_forecast4.csv\"\n",
    "weights = [1]\n",
    "solution_mappings = [{\"I\": \"infected\", \"H\": \"hospitalized\", \"D\": \"dead\"}]\n",
    "\n",
    "# Run the calibration and sampling\n",
    "result4A = load_and_calibrate_and_sample_ensemble_model(\n",
    "    models,\n",
    "    data_location,\n",
    "    weights,\n",
    "    solution_mappings,\n",
    "    num_samples,\n",
    "    timepoints4,\n",
    "    verbose=True,\n",
    "    total_population=19340000,\n",
    "    num_iterations=N_ITERATIONS,\n",
    "    time_unit=\"days\",\n",
    "    visual_options={\"title\": \"Calibrated Ensemble\", \"keep\":\".*_sol\"}\n",
    ")\n",
    "\n",
    "# # Save results\n",
    "# result4A[\"data\"].to_csv(\"../../notebook/ensemble_eval_sa/ensemble_results/partI_ensemble_of_one_results.csv\", index=False)\n",
    "# result4A[\"quantiles\"].to_csv(\"../../notebook/ensemble_eval_sa/ensemble_results/partI_ensemble_of_one_quantiles.csv\", index=False)\n",
    "\n",
    "# Plot results\n",
    "schema = plots.trajectories(pd.DataFrame(result4A[\"data\"]), keep=\".*_sol\",\n",
    "                            points=all_data4.reset_index(drop=True).rename(columns={\"I\":\"I_data\", \"H\":\"H_data\", \"D\":\"D_data\"}),\n",
    "                           )\n",
    "schema = plots.pad(schema, 5)\n",
    "plots.ipy_display(schema)"
   ]
  },
  {
   "cell_type": "markdown",
   "id": "06c8f509-6a02-43e6-8864-39ee89171c01",
   "metadata": {},
   "source": [
    "### Post-process and save results"
   ]
  },
  {
   "cell_type": "code",
   "execution_count": null,
   "id": "1e6f1fc1-4d75-402b-96f6-f36d0868abb7",
   "metadata": {},
   "outputs": [],
   "source": [
    "RESULTS_FILENAME = RESULTS_PATH + \"T1_ensemble_of1_results_Apr242020.csv\"\n",
    "QUANTILES_FILENAME = RESULTS_PATH + \"T1_ensemble_of1_quantiles_Apr242020.csv\""
   ]
  },
  {
   "cell_type": "markdown",
   "id": "eea3812e-5175-48b2-b553-e5d2057c2f6c",
   "metadata": {},
   "source": [
    "## (B) Calibrate and sample an ensemble of multiple models"
   ]
  },
  {
   "cell_type": "code",
   "execution_count": null,
   "id": "fe77b9dd-0cbe-4794-b42f-2cf3e93a7264",
   "metadata": {},
   "outputs": [],
   "source": [
    "num_samples = 100\n",
    "models = [model1, model2, model3]\n",
    "data_location = DATA_PATH + \"NYS_T1_forecast4.csv\"\n",
    "weights = [0.2, 0.3, 0.5] # [1/len(models) for i in models]\n",
    "solution_mappings = [{\"I\": \"I\", \"H\": \"H\", \"D\": \"D\"},\n",
    "                     {\"I\": \"infected\", \"H\": \"hospitalized\", \"D\": \"dead\"}, \n",
    "                     {\"I\": \"infected\", \"H\": \"hospitalized\", \"D\": \"dead\"}\n",
    "                     ]\n",
    "\n",
    "# Run the calibration and sampling\n",
    "result4B = load_and_calibrate_and_sample_ensemble_model(\n",
    "    models,\n",
    "    data_location,\n",
    "    weights,\n",
    "    solution_mappings,\n",
    "    num_samples,\n",
    "    timepoints4,\n",
    "    verbose=True,\n",
    "    total_population=19340000,\n",
    "    num_iterations=N_ITERATIONS,\n",
    "    time_unit=\"days\",\n",
    "    visual_options={\"title\": \"Calibrated Ensemble\", \"keep\":\".*_sol\"}\n",
    ")\n",
    "\n",
    "# Save results\n",
    "# result4B[\"data\"].to_csv(\"../../notebook/ensemble_eval_sa/ensemble_results/partI_ensemble_of_many_results.csv\", index=False)\n",
    "# result4B[\"quantiles\"].to_csv(\"../../notebook/ensemble_eval_sa/ensemble_results/partI_ensemble_of_many_quantiles.csv\", index=False)\n",
    "\n",
    "# Plot results\n",
    "schema = plots.trajectories(pd.DataFrame(result4B[\"data\"]), keep=\".*_sol\",\n",
    "                            points=all_data4.reset_index(drop=True).rename(columns={\"I\":\"I_data\", \"H\":\"H_data\", \"D\":\"D_data\"}),\n",
    "                           )\n",
    "schema = plots.pad(schema, 5)\n",
    "plots.ipy_display(schema)"
   ]
  },
  {
   "cell_type": "markdown",
   "id": "9b23d7bc-e0ca-496b-b27f-eed72e1b98ce",
   "metadata": {},
   "source": [
    "### Post-process and save results"
   ]
  },
  {
   "cell_type": "code",
   "execution_count": null,
   "id": "852ac5dd-e160-4ae9-bc87-f0baea52b299",
   "metadata": {},
   "outputs": [],
   "source": [
    "RESULTS_FILENAME = RESULTS_PATH + \"T1_ensemble_of3_results_Apr242020.csv\"\n",
    "QUANTILES_FILENAME = RESULTS_PATH + \"T1_ensemble_of3_quantiles_Apr242020.csv\""
   ]
  }
 ],
 "metadata": {
  "kernelspec": {
   "display_name": "Python 3 (ipykernel)",
   "language": "python",
   "name": "python3"
  },
  "language_info": {
   "codemirror_mode": {
    "name": "ipython",
    "version": 3
   },
   "file_extension": ".py",
   "mimetype": "text/x-python",
   "name": "python",
   "nbconvert_exporter": "python",
   "pygments_lexer": "ipython3",
   "version": "3.10.9"
  }
 },
 "nbformat": 4,
 "nbformat_minor": 5
}
