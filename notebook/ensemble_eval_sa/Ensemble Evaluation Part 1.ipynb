{
 "cells": [
  {
   "cell_type": "markdown",
   "id": "3048df72",
   "metadata": {},
   "source": [
    "# Ensemble Evaluation: Timepoint 1 - Spring 2020\n",
    "\n",
    "Location: New York State\n",
    "\n",
    "Timepoint 1: April 3, 2020. Setting: New York State at the beginning of the pandemic when masking was the main preventative measure. No vaccines available. \n",
    "\n",
    "Using case and death data for calibration (hospitalization data not available for this timepoint). No vaccination, no variants, and reinfection is not considered.\n",
    "\n",
    "T1 28-day forecasts:"
   ]
  },
  {
   "cell_type": "markdown",
   "id": "897b7ea9-d670-4345-9d7a-322d34d724c8",
   "metadata": {},
   "source": [
    "## Set up for ensemble modeling"
   ]
  },
  {
   "cell_type": "markdown",
   "id": "25ee072e-ef36-4c76-bf0a-76276a86c63b",
   "metadata": {},
   "source": [
    "### Load dependencies\n",
    "Import functionality from the pyciemss library to allow for model sampling and calibration."
   ]
  },
  {
   "cell_type": "code",
   "execution_count": 1,
   "id": "f250632a-4078-49de-a4a8-e6134c949910",
   "metadata": {},
   "outputs": [],
   "source": [
    "import os\n",
    "import pandas as pd\n",
    "import numpy as np\n",
    "import matplotlib.pyplot as plt\n",
    "\n",
    "from pyciemss.Ensemble.interfaces import (\n",
    "    load_and_sample_petri_ensemble, load_and_calibrate_and_sample_ensemble_model\n",
    ")\n",
    "from pyciemss.PetriNetODE.interfaces import (\n",
    "    load_and_sample_petri_model,\n",
    "    load_and_calibrate_and_sample_petri_model,\n",
    "    load_and_optimize_and_sample_petri_model,\n",
    "    load_and_calibrate_and_optimize_and_sample_petri_model\n",
    ")\n",
    "from pyciemss.visuals import plots\n",
    "from pyciemss.utils import get_tspan\n",
    "from pyciemss.utils.interface_utils import cdc_reformatcsv"
   ]
  },
  {
   "cell_type": "markdown",
   "id": "2af8a7df-6527-4ba2-beb6-2e63889dcbbf",
   "metadata": {},
   "source": [
    "### Collect relevant models\n",
    "<!-- We have chosen x number of models to capture the relevant COVID-19 dynamics for this setting. \n",
    " - `model1` contains compartments SEIRHD, and is stratified by age into four groups.\n",
    " - `model2` is the same as `model1`, but allows for reinfection\n",
    " - `model3` is the same as `model1`, but with a variation in transmission rate to account for masking efficacy and compliance. -->"
   ]
  },
  {
   "cell_type": "code",
   "execution_count": 2,
   "id": "07fddb50-d73e-481d-a79d-ce0e115411b5",
   "metadata": {},
   "outputs": [],
   "source": [
    "# model1_location = \"../../notebook/ensemble_eval_sa/operative_models/SEIRHD_base_model_ee.json\"\n",
    "model2_location = \"../../notebook/ensemble_eval_sa/operative_models/SEIRHD_npi1_ee.json\"\n",
    "# model3_location = \"../../notebook/ensemble_eval_sa/operative_models/SEIRHD_npi1_beta_c_varying_ee.json\"\n",
    "# model4_location = \"../../notebook/ensemble_eval_sa/operative_models/SEIRHD_npi1_k_varying_ee.json\"\n",
    "# model5_location = \"../../notebook/ensemble_eval_sa/operative_models/SEIRHD_npi1_age_stratified_v1.json\"\n",
    "model6_location = \"../../notebook/ensemble_eval_sa/operative_models/SEIRHD_npi1_age_stratified_v2.json\"\n",
    "model7_location = \"../../notebook/ensemble_eval_sa/operative_models/SEIRHD_npi1_age_stratified_v3.json\"\n",
    "# model8_location = \"../../notebook/ensemble_eval_sa/operative_models/SEIRD_ymo_age_strat.json\""
   ]
  },
  {
   "cell_type": "markdown",
   "id": "a2239aab-0478-43cb-b6ef-079497dbb6e1",
   "metadata": {},
   "source": [
    "### Gather data, and set training and forecast intervals\n",
    "For this timepoint, only case and death data is available for calibration. \n",
    "\n",
    "We take the total population of New York State to be 19,340,000. Population age-structure estimates for New York State were taken (and scaled appropriately) from [here](https://www.health.ny.gov/statistics/vital_statistics/2016/table01.htm).\n",
    "\n",
    "First recorded case in New York State: March 1, 2020.\n",
    "\n",
    "Also relevant is that a statewide stay-at-home order for non-essential workers was implemented on March 22, 2020, and masking policy was implemented on April 15, 2020. A nice list of COVID-19 policy interventions for New York City and State has been compiled [here](https://www.investopedia.com/historical-timeline-of-covid-19-in-new-york-city-5071986![image.png](attachment:d380d245-11ca-41f1-9863-e2a2dcf5ebce.png)![image.png](attachment:b30f6e31-bc7f-43a8-b7c8-b1df78db3b86.png)![image.png](attachment:b5109588-59ed-447c-9271-50eb56fe9081.png)![image.png](attachment:2c42138a-696d-4cef-9b79-4843d38ff029.png))."
   ]
  },
  {
   "cell_type": "markdown",
   "id": "491b50ab-6fbb-4a03-84e7-d99225d982de",
   "metadata": {},
   "source": [
    "### Define a function to process the source data and produce the necessary datasets for plotting and calibration"
   ]
  },
  {
   "cell_type": "code",
   "execution_count": 3,
   "id": "32f7c14d-a51d-47db-830b-745e459228e8",
   "metadata": {},
   "outputs": [],
   "source": [
    "def data_selector_function(data_df, train_start_row_num, train_end_row_num, forecast_end_row_num):\n",
    "    '''\n",
    "    This function produces three datasets: all_data, test_data, train_data.\n",
    "    '''\n",
    "    all_data = data_df[train_start_row_num:forecast_end_row_num].reset_index()\n",
    "    all_data = all_data.drop(columns=\"timestep\")\n",
    "    all_data = all_data.drop(columns=\"index\")\n",
    "\n",
    "    test_data = data_df[train_end_row_num:forecast_end_row_num].reset_index()\n",
    "    test_data = test_data.drop(columns=\"timestep\")\n",
    "    test_data = test_data.drop(columns=\"index\")\n",
    "\n",
    "    train_data = data_df[train_start_row_num:train_end_row_num].reset_index(drop=True)\n",
    "    train_data1 = train_data.assign(timepoints=[float(i) for i in range(len(train_data))])\n",
    "    train_data = train_data1[[\"timepoints\", \"I\", \"H\", \"D\"]]\n",
    "\n",
    "    num_timepoints = (len(train_data) + len(test_data))*10 + 1\n",
    "    simulation_timepoints = list(get_tspan(0, (len(train_data) + len(test_data)), num_timepoints).detach().numpy())\n",
    "    \n",
    "    return all_data, test_data, train_data, simulation_timepoints"
   ]
  },
  {
   "cell_type": "markdown",
   "id": "e7d4f4d8-abb4-4a9d-b7c9-6fc614125708",
   "metadata": {},
   "source": [
    "### Gather source data and set `DATA_PATH`"
   ]
  },
  {
   "cell_type": "code",
   "execution_count": 4,
   "id": "d9409751-8a75-4815-a329-923e20b1ca14",
   "metadata": {},
   "outputs": [],
   "source": [
    "url = 'https://raw.githubusercontent.com/DARPA-ASKEM/experiments/main/thin-thread-examples/milestone_12month/evaluation/ensemble_eval_SA/datasets/aabb3684-a7ea-4f60-98f1-a8e673ad6df5/dataset.csv'\n",
    "nys_data = pd.read_csv(url)\n",
    "DATA_PATH = \"../../notebook/ensemble_eval_sa/datasets/\""
   ]
  },
  {
   "cell_type": "markdown",
   "id": "808442fe-65a2-4545-b1d1-fb2ad8b26653",
   "metadata": {},
   "source": [
    "### Create and save datasets and simulation timepoints for each forecast"
   ]
  },
  {
   "cell_type": "code",
   "execution_count": 5,
   "id": "bf6e7144-aecd-443b-ab2a-0e492db247f2",
   "metadata": {},
   "outputs": [],
   "source": [
    "### Forecast 1: 04/03/2020 - 05/01/2020, data: 03/01/2020 - 04/02/2020\n",
    "\n",
    "# Forecast 1: 04/03/2020 (day 32, row 73) - 05/01/2020 (day 60, row 101), train data: 03/01/2020 (day 0, row 40) - 04/02/2020 (day 31, row 72)\n",
    "[all_data1, test_data1, train_data1, timepoints1] = data_selector_function(nys_data, 39, 72, 101)\n",
    "train_data1[[\"I\", \"H\", \"D\"]].to_csv(DATA_PATH + \"NYS_T1_forecast1.csv\")\n",
    "\n",
    "### Forecast 2: 04/10/2020 - 05/08/2020, data: 03/01/2020 - 04/09/2020\n",
    "\n",
    "# Forecast 2: 04/10/2020 (day 39, row 80) - 05/08/2020 (day 67, row 108), train data: 03/01/2020 (day 0, row 40) - 04/09/2020 (day 38, row 79)\n",
    "[all_data2, test_data2, train_data2, timepoints2] = data_selector_function(nys_data, 39, 79, 108)\n",
    "train_data2[[\"I\", \"H\", \"D\"]].to_csv(DATA_PATH + \"NYS_T1_forecast2.csv\")\n",
    "\n",
    "### Forecast 3: 04/17/2020 - 05/15/2020, data: 03/01/2020 - 04/16/2020\n",
    "\n",
    "# Forecast 3: 04/17/2020 (day 46, row 87) - 05/15/2020 (day 74, row 115), train data: 03/01/2020 (day 0, row 40) - 04/16/2020 (day 45, row 86)\n",
    "[all_data3, test_data3, train_data3, timepoints3] = data_selector_function(nys_data, 39, 86, 115)\n",
    "train_data3[[\"I\", \"H\", \"D\"]].to_csv(DATA_PATH + \"NYS_T1_forecast3.csv\")\n",
    "\n",
    "### Forecast 4: 04/24/2020 - 05/22/2020, data: 03/01/2020 - 04/23/2020\n",
    "\n",
    "# Forecast 3: 04/24/2020 (day 53, row 94) - 05/22/2020 (day 81, row 122), train data: 03/01/2020 (day 0, row 40) - 04/23/2020 (day 52, row 93)\n",
    "[all_data4, test_data4, train_data4, timepoints4] = data_selector_function(nys_data, 39, 93, 122)\n",
    "train_data4[[\"I\", \"H\", \"D\"]].to_csv(DATA_PATH + \"NYS_T1_forecast4.csv\")"
   ]
  },
  {
   "cell_type": "markdown",
   "id": "9a13d82b-f9b4-4f13-9e41-8e664543e8fa",
   "metadata": {},
   "source": [
    "### Plot the data"
   ]
  },
  {
   "cell_type": "code",
   "execution_count": 6,
   "id": "87729311-991d-4e25-ac23-31d706f266a1",
   "metadata": {},
   "outputs": [
    {
     "data": {
      "text/plain": [
       "Text(0.5, 1.0, 'Cumulative Deaths per 100,000')"
      ]
     },
     "execution_count": 6,
     "metadata": {},
     "output_type": "execute_result"
    },
    {
     "data": {
      "image/png": "[encoded data removed]",
      "text/plain": [
       "<Figure size 640x480 with 2 Axes>"
      ]
     },
     "metadata": {},
     "output_type": "display_data"
    }
   ],
   "source": [
    "N = 19_340_000\n",
    "\n",
    "fig, (ax1, ax2) = plt.subplots(1, 2)\n",
    "# ax1.scatter(all_data4.index, all_data4.I, color=\"navy\")\n",
    "ax1.scatter(all_data4.index, 100000*(all_data4.I/N), color=\"navy\")\n",
    "ax1.axvline(x = 32, color = 'darkgreen', linestyle =\"--\", label = 'begin forecast 1')\n",
    "ax1.axvline(x = 39, color = 'forestgreen', linestyle =\":\", label = 'begin forecast 2')\n",
    "ax1.axvline(x = 46, color = 'green', linestyle =\"-.\", label = 'begin forecast 3')\n",
    "ax1.axvline(x = 53, color = 'teal', label = 'begin forecast 4')\n",
    "ax1.legend(loc='lower right')\n",
    "# ax1.set_title(\"Cases\")\n",
    "ax1.set_title(\"Cases per 100,000\")\n",
    "\n",
    "# ax2.scatter(all_data4.index, all_data4.D, color=\"blue\")\n",
    "ax2.scatter(all_data4.index, 100000*(all_data4.D/N), color=\"blue\")\n",
    "ax2.axvline(x = 32, color = 'darkgreen', linestyle =\"--\", label = 'begin forecast 1')\n",
    "ax2.axvline(x = 39, color = 'forestgreen', linestyle =\":\", label = 'begin forecast 2')\n",
    "ax2.axvline(x = 46, color = 'green', linestyle =\"-.\", label = 'begin forecast 3')\n",
    "ax2.axvline(x = 53, color = 'teal', label = 'begin forecast 4')\n",
    "ax2.legend(loc='lower right')\n",
    "# ax2.set_title(\"Cumulative Deaths\")\n",
    "ax2.set_title(\"Cumulative Deaths per 100,000\")"
   ]
  },
  {
   "cell_type": "markdown",
   "id": "88df33c0-f86c-4cc4-8f98-6191d71b442b",
   "metadata": {},
   "source": [
    "# (1) Model 1"
   ]
  },
  {
   "cell_type": "markdown",
   "id": "2b425707-b887-4b7f-8e22-8fbd6fce7112",
   "metadata": {},
   "source": [
    "## (A) Load and sample from model prior distribution"
   ]
  },
  {
   "cell_type": "code",
   "execution_count": 20,
   "id": "882fd599-3808-4251-8e86-8c72afe538de",
   "metadata": {},
   "outputs": [],
   "source": [
    "num_samples=2\n",
    "prior_samples = load_and_sample_petri_model(model2_location, num_samples, timepoints=timepoints1, method=\"dopri5\",\n",
    "                                            visual_options={\"title\": \"Prior Distributions\", \"keep\":\".*_sol\"}, \n",
    "                                            time_unit=\"days\")\n",
    "#display(prior_samples)"
   ]
  },
  {
   "cell_type": "code",
   "execution_count": 21,
   "id": "04d97815-507b-4ae5-b065-9e9b2040b823",
   "metadata": {},
   "outputs": [
    {
     "name": "stdout",
     "output_type": "stream",
     "text": [
      "\n"
     ]
    },
    {
     "data": {
      "application/vnd.vega.v5+json": {
       "$schema": "https://vega.github.io/schema/vega/v5.json",
       "axes": [
        {
         "name": "x_axis",
         "orient": "bottom",
         "scale": "xscale",
         "zindex": 100
        },
        {
         "name": "y_axis",
         "orient": "left",
         "scale": "yscale",
         "zindex": 100
        }
       ],
       "data": [
        {
         "name": "distributions",
         "values": [
          {
           "lower": 175,
           "timepoint": 0,
           "trajectory": "I_sol",
           "upper": 175
          },
          {
           "lower": 183.3536003112793,
           "timepoint": 0.10000000149011612,
           "trajectory": "I_sol",
           "upper": 183.977774810791
          },
          {
           "lower": 191.30030517578126,
           "timepoint": 0.20000000298023224,
           "trajectory": "I_sol",
           "upper": 192.6425048828125
          },
          {
           "lower": 198.85838623046874,
           "timepoint": 0.30000001192092896,
           "trajectory": "I_sol",
           "upper": 201.01121215820314
          },
          {
           "lower": 206.04492111206054,
           "timepoint": 0.4000000059604645,
           "trajectory": "I_sol",
           "upper": 209.1002052307129
          },
          {
           "lower": 212.87660369873046,
           "timepoint": 0.5,
           "trajectory": "I_sol",
           "upper": 216.9250930786133
          },
          {
           "lower": 219.36884155273438,
           "timepoint": 0.6000000238418579,
           "trajectory": "I_sol",
           "upper": 224.500390625
          },
          {
           "lower": 225.53701782226562,
           "timepoint": 0.699999988079071,
           "trajectory": "I_sol",
           "upper": 231.83987426757812
          },
          {
           "lower": 231.39565887451172,
           "timepoint": 0.800000011920929,
           "trajectory": "I_sol",
           "upper": 238.95697174072265
          },
          {
           "lower": 236.95808639526368,
           "timepoint": 0.9000000357627869,
           "trajectory": "I_sol",
           "upper": 245.86419448852538
          },
          {
           "lower": 242.23837509155274,
           "timepoint": 1,
           "trajectory": "I_sol",
           "upper": 252.57352981567382
          },
          {
           "lower": 247.24806747436523,
           "timepoint": 1.100000023841858,
           "trajectory": "I_sol",
           "upper": 259.09636917114256
          },
          {
           "lower": 252.00030975341798,
           "timepoint": 1.2000000476837158,
           "trajectory": "I_sol",
           "upper": 265.4432632446289
          },
          {
           "lower": 256.5057289123535,
           "timepoint": 1.3000000715255737,
           "trajectory": "I_sol",
           "upper": 271.6246879577637
          },
          {
           "lower": 260.77570190429685,
           "timepoint": 1.399999976158142,
           "trajectory": "I_sol",
           "upper": 277.6502624511719
          },
          {
           "lower": 264.8207717895508,
           "timepoint": 1.5,
           "trajectory": "I_sol",
           "upper": 283.52941741943357
          },
          {
           "lower": 268.6512054443359,
           "timepoint": 1.600000023841858,
           "trajectory": "I_sol",
           "upper": 289.27073059082034
          },
          {
           "lower": 272.27586517333987,
           "timepoint": 1.7000000476837158,
           "trajectory": "I_sol",
           "upper": 294.88273468017576
          },
          {
           "lower": 275.7047622680664,
           "timepoint": 1.8000000715255737,
           "trajectory": "I_sol",
           "upper": 300.3732711791992
          },
          {
           "lower": 278.9465072631836,
           "timepoint": 1.899999976158142,
           "trajectory": "I_sol",
           "upper": 305.749934387207
          },
          {
           "lower": 282.00929565429686,
           "timepoint": 2,
           "trajectory": "I_sol",
           "upper": 311.02012329101564
          },
          {
           "lower": 284.9012451171875,
           "timepoint": 2.1000001430511475,
           "trajectory": "I_sol",
           "upper": 316.1903076171875
          },
          {
           "lower": 287.6298431396484,
           "timepoint": 2.200000047683716,
           "trajectory": "I_sol",
           "upper": 321.26706848144534
          },
          {
           "lower": 290.20385589599607,
           "timepoint": 2.299999952316284,
           "trajectory": "I_sol",
           "upper": 326.2565628051758
          },
          {
           "lower": 292.62864074707034,
           "timepoint": 2.4000000953674316,
           "trajectory": "I_sol",
           "upper": 331.16554870605466
          },
          {
           "lower": 294.91151123046876,
           "timepoint": 2.5,
           "trajectory": "I_sol",
           "upper": 335.99840087890624
          },
          {
           "lower": 297.0585540771484,
           "timepoint": 2.6000001430511475,
           "trajectory": "I_sol",
           "upper": 340.7609039306641
          },
          {
           "lower": 299.0763961791992,
           "timepoint": 2.700000047683716,
           "trajectory": "I_sol",
           "upper": 345.45811920166017
          },
          {
           "lower": 300.97085723876955,
           "timepoint": 2.799999952316284,
           "trajectory": "I_sol",
           "upper": 350.0951522827148
          },
          {
           "lower": 302.74742431640624,
           "timepoint": 2.9000000953674316,
           "trajectory": "I_sol",
           "upper": 354.67628173828126
          },
          {
           "lower": 304.41133880615234,
           "timepoint": 3,
           "trajectory": "I_sol",
           "upper": 359.20606231689453
          },
          {
           "lower": 305.96802978515626,
           "timepoint": 3.1000001430511475,
           "trajectory": "I_sol",
           "upper": 363.68876953125
          },
          {
           "lower": 307.4221130371094,
           "timepoint": 3.200000047683716,
           "trajectory": "I_sol",
           "upper": 368.1269592285156
          },
          {
           "lower": 308.77854614257814,
           "timepoint": 3.299999952316284,
           "trajectory": "I_sol",
           "upper": 372.52638549804686
          },
          {
           "lower": 310.04190216064455,
           "timepoint": 3.4000000953674316,
           "trajectory": "I_sol",
           "upper": 376.88989105224607
          },
          {
           "lower": 311.21614532470704,
           "timepoint": 3.5,
           "trajectory": "I_sol",
           "upper": 381.22083587646483
          },
          {
           "lower": 312.3055023193359,
           "timepoint": 3.6000001430511475,
           "trajectory": "I_sol",
           "upper": 385.5226226806641
          },
          {
           "lower": 313.3138916015625,
           "timepoint": 3.700000047683716,
           "trajectory": "I_sol",
           "upper": 389.798291015625
          },
          {
           "lower": 314.2450836181641,
           "timepoint": 3.799999952316284,
           "trajectory": "I_sol",
           "upper": 394.0508148193359
          },
          {
           "lower": 315.10304260253906,
           "timepoint": 3.9000000953674316,
           "trajectory": "I_sol",
           "upper": 398.2830047607422
          },
          {
           "lower": 315.8905685424805,
           "timepoint": 4,
           "trajectory": "I_sol",
           "upper": 402.49752349853514
          },
          {
           "lower": 316.61119232177737,
           "timepoint": 4.099999904632568,
           "trajectory": "I_sol",
           "upper": 406.69718780517576
          },
          {
           "lower": 317.26813049316405,
           "timepoint": 4.200000286102295,
           "trajectory": "I_sol",
           "upper": 410.88433532714845
          },
          {
           "lower": 317.86448364257814,
           "timepoint": 4.300000190734863,
           "trajectory": "I_sol",
           "upper": 415.06129760742186
          },
          {
           "lower": 318.4028884887695,
           "timepoint": 4.400000095367432,
           "trajectory": "I_sol",
           "upper": 419.23038177490236
          },
          {
           "lower": 318.8861770629883,
           "timepoint": 4.5,
           "trajectory": "I_sol",
           "upper": 423.39376068115234
          },
          {
           "lower": 319.31703186035156,
           "timepoint": 4.599999904632568,
           "trajectory": "I_sol",
           "upper": 427.55296325683594
          },
          {
           "lower": 319.6980010986328,
           "timepoint": 4.700000286102295,
           "trajectory": "I_sol",
           "upper": 431.7108123779297
          },
          {
           "lower": 320.030810546875,
           "timepoint": 4.800000190734863,
           "trajectory": "I_sol",
           "upper": 435.86878662109376
          },
          {
           "lower": 320.31876678466796,
           "timepoint": 4.900000095367432,
           "trajectory": "I_sol",
           "upper": 440.0287368774414
          },
          {
           "lower": 320.56361236572263,
           "timepoint": 5,
           "trajectory": "I_sol",
           "upper": 444.19246063232424
          },
          {
           "lower": 320.76745452880857,
           "timepoint": 5.099999904632568,
           "trajectory": "I_sol",
           "upper": 448.36154327392575
          },
          {
           "lower": 320.93238067626953,
           "timepoint": 5.200000286102295,
           "trajectory": "I_sol",
           "upper": 452.53719329833984
          },
          {
           "lower": 321.06041412353517,
           "timepoint": 5.300000190734863,
           "trajectory": "I_sol",
           "upper": 456.72159881591796
          },
          {
           "lower": 321.15227661132815,
           "timepoint": 5.400000095367432,
           "trajectory": "I_sol",
           "upper": 460.91583862304685
          },
          {
           "lower": 321.21128845214844,
           "timepoint": 5.5,
           "trajectory": "I_sol",
           "upper": 465.12147521972656
          },
          {
           "lower": 321.2384735107422,
           "timepoint": 5.599999904632568,
           "trajectory": "I_sol",
           "upper": 469.33983459472654
          },
          {
           "lower": 321.23546295166017,
           "timepoint": 5.700000286102295,
           "trajectory": "I_sol",
           "upper": 473.5722457885742
          },
          {
           "lower": 321.20368041992185,
           "timepoint": 5.800000190734863,
           "trajectory": "I_sol",
           "upper": 477.8193908691406
          },
          {
           "lower": 321.14473419189454,
           "timepoint": 5.900000095367432,
           "trajectory": "I_sol",
           "upper": 482.08326263427733
          },
          {
           "lower": 321.0601440429688,
           "timepoint": 6,
           "trajectory": "I_sol",
           "upper": 486.3647216796875
          },
          {
           "lower": 320.9509506225586,
           "timepoint": 6.099999904632568,
           "trajectory": "I_sol",
           "upper": 490.6648635864258
          },
          {
           "lower": 320.8186279296875,
           "timepoint": 6.200000286102295,
           "trajectory": "I_sol",
           "upper": 494.9847778320312
          },
          {
           "lower": 320.66436157226565,
           "timepoint": 6.300000190734863,
           "trajectory": "I_sol",
           "upper": 499.3255676269531
          },
          {
           "lower": 320.48924255371094,
           "timepoint": 6.400000095367432,
           "trajectory": "I_sol",
           "upper": 503.6881866455078
          },
          {
           "lower": 320.29444274902346,
           "timepoint": 6.5,
           "trajectory": "I_sol",
           "upper": 508.0729278564453
          },
          {
           "lower": 320.0812240600586,
           "timepoint": 6.599999904632568,
           "trajectory": "I_sol",
           "upper": 512.4817947387695
          },
          {
           "lower": 319.8503936767578,
           "timepoint": 6.700000286102295,
           "trajectory": "I_sol",
           "upper": 516.9152923583985
          },
          {
           "lower": 319.6029998779297,
           "timepoint": 6.800000190734863,
           "trajectory": "I_sol",
           "upper": 521.3741119384765
          },
          {
           "lower": 319.33996734619143,
           "timepoint": 6.900000095367432,
           "trajectory": "I_sol",
           "upper": 525.859342956543
          },
          {
           "lower": 319.0622924804687,
           "timepoint": 7,
           "trajectory": "I_sol",
           "upper": 530.3717895507813
          },
          {
           "lower": 318.7707275390625,
           "timepoint": 7.099999904632568,
           "trajectory": "I_sol",
           "upper": 534.91201171875
          },
          {
           "lower": 318.4657501220703,
           "timepoint": 7.200000286102295,
           "trajectory": "I_sol",
           "upper": 539.480844116211
          },
          {
           "lower": 318.14875946044924,
           "timepoint": 7.300000190734863,
           "trajectory": "I_sol",
           "upper": 544.0790542602539
          },
          {
           "lower": 317.82030029296874,
           "timepoint": 7.400000095367432,
           "trajectory": "I_sol",
           "upper": 548.7076538085937
          },
          {
           "lower": 317.48096771240233,
           "timepoint": 7.5,
           "trajectory": "I_sol",
           "upper": 553.3669631958007
          },
          {
           "lower": 317.13159027099607,
           "timepoint": 7.599999904632568,
           "trajectory": "I_sol",
           "upper": 558.057893371582
          },
          {
           "lower": 316.77272033691406,
           "timepoint": 7.700000286102295,
           "trajectory": "I_sol",
           "upper": 562.7810516357422
          },
          {
           "lower": 316.40509033203125,
           "timepoint": 7.800000190734863,
           "trajectory": "I_sol",
           "upper": 567.5371704101562
          },
          {
           "lower": 316.02927856445314,
           "timepoint": 7.900000095367432,
           "trajectory": "I_sol",
           "upper": 572.3268005371093
          },
          {
           "lower": 315.64575958251953,
           "timepoint": 8,
           "trajectory": "I_sol",
           "upper": 577.1507186889648
          },
          {
           "lower": 315.255224609375,
           "timepoint": 8.100000381469727,
           "trajectory": "I_sol",
           "upper": 582.009423828125
          },
          {
           "lower": 314.8580749511719,
           "timepoint": 8.199999809265137,
           "trajectory": "I_sol",
           "upper": 586.903399658203
          },
          {
           "lower": 314.4549072265625,
           "timepoint": 8.300000190734863,
           "trajectory": "I_sol",
           "upper": 591.8335449218749
          },
          {
           "lower": 314.0462936401367,
           "timepoint": 8.40000057220459,
           "trajectory": "I_sol",
           "upper": 596.8002944946289
          },
          {
           "lower": 313.63258361816406,
           "timepoint": 8.5,
           "trajectory": "I_sol",
           "upper": 601.8042449951172
          },
          {
           "lower": 313.21348266601564,
           "timepoint": 8.600000381469727,
           "trajectory": "I_sol",
           "upper": 606.8458435058593
          },
          {
           "lower": 312.7906768798828,
           "timepoint": 8.699999809265137,
           "trajectory": "I_sol",
           "upper": 611.9258148193359
          },
          {
           "lower": 312.36388244628904,
           "timepoint": 8.800000190734863,
           "trajectory": "I_sol",
           "upper": 617.0420623779297
          },
          {
           "lower": 311.93370666503904,
           "timepoint": 8.90000057220459,
           "trajectory": "I_sol",
           "upper": 622.1995330810547
          },
          {
           "lower": 311.5004150390625,
           "timepoint": 9,
           "trajectory": "I_sol",
           "upper": 627.3966796875
          },
          {
           "lower": 311.06442108154295,
           "timepoint": 9.100000381469727,
           "trajectory": "I_sol",
           "upper": 632.6342178344727
          },
          {
           "lower": 310.62599487304686,
           "timepoint": 9.199999809265137,
           "trajectory": "I_sol",
           "upper": 637.9123352050781
          },
          {
           "lower": 310.18544006347656,
           "timepoint": 9.300000190734863,
           "trajectory": "I_sol",
           "upper": 643.2318572998047
          },
          {
           "lower": 309.74314575195314,
           "timepoint": 9.40000057220459,
           "trajectory": "I_sol",
           "upper": 648.5930358886718
          },
          {
           "lower": 309.29937133789065,
           "timepoint": 9.5,
           "trajectory": "I_sol",
           "upper": 653.9964050292969
          },
          {
           "lower": 308.85437927246096,
           "timepoint": 9.600000381469727,
           "trajectory": "I_sol",
           "upper": 659.4425567626953
          },
          {
           "lower": 308.40843505859374,
           "timepoint": 9.699999809265137,
           "trajectory": "I_sol",
           "upper": 664.9310424804687
          },
          {
           "lower": 307.9618423461914,
           "timepoint": 9.800000190734863,
           "trajectory": "I_sol",
           "upper": 670.4637863159179
          },
          {
           "lower": 307.5148696899414,
           "timepoint": 9.90000057220459,
           "trajectory": "I_sol",
           "upper": 676.040397644043
          },
          {
           "lower": 307.067692565918,
           "timepoint": 10,
           "trajectory": "I_sol",
           "upper": 681.6614639282226
          },
          {
           "lower": 306.62024841308596,
           "timepoint": 10.100000381469727,
           "trajectory": "I_sol",
           "upper": 687.3274444580078
          },
          {
           "lower": 306.1732452392578,
           "timepoint": 10.199999809265137,
           "trajectory": "I_sol",
           "upper": 693.0386077880859
          },
          {
           "lower": 305.7266845703125,
           "timepoint": 10.300000190734863,
           "trajectory": "I_sol",
           "upper": 698.7955322265625
          },
          {
           "lower": 305.2807586669922,
           "timepoint": 10.40000057220459,
           "trajectory": "I_sol",
           "upper": 704.5985748291015
          },
          {
           "lower": 304.8356216430664,
           "timepoint": 10.5,
           "trajectory": "I_sol",
           "upper": 710.4479171752929
          },
          {
           "lower": 304.3915100097656,
           "timepoint": 10.600000381469727,
           "trajectory": "I_sol",
           "upper": 716.3442077636719
          },
          {
           "lower": 303.948583984375,
           "timepoint": 10.699999809265137,
           "trajectory": "I_sol",
           "upper": 722.287744140625
          },
          {
           "lower": 303.5070465087891,
           "timepoint": 10.800000190734863,
           "trajectory": "I_sol",
           "upper": 728.2807342529296
          },
          {
           "lower": 303.0669799804688,
           "timepoint": 10.90000057220459,
           "trajectory": "I_sol",
           "upper": 734.3203491210937
          },
          {
           "lower": 302.6282241821289,
           "timepoint": 11,
           "trajectory": "I_sol",
           "upper": 740.4084884643554
          },
          {
           "lower": 302.1914260864258,
           "timepoint": 11.100000381469727,
           "trajectory": "I_sol",
           "upper": 746.545359802246
          },
          {
           "lower": 301.756494140625,
           "timepoint": 11.199999809265137,
           "trajectory": "I_sol",
           "upper": 752.7314208984375
          },
          {
           "lower": 301.32353057861326,
           "timepoint": 11.300000190734863,
           "trajectory": "I_sol",
           "upper": 758.9669662475586
          },
          {
           "lower": 300.8926727294922,
           "timepoint": 11.40000057220459,
           "trajectory": "I_sol",
           "upper": 765.252407836914
          },
          {
           "lower": 300.4640167236328,
           "timepoint": 11.5,
           "trajectory": "I_sol",
           "upper": 771.5879241943359
          },
          {
           "lower": 300.0376739501953,
           "timepoint": 11.600000381469727,
           "trajectory": "I_sol",
           "upper": 777.9739837646484
          },
          {
           "lower": 299.61368865966796,
           "timepoint": 11.699999809265137,
           "trajectory": "I_sol",
           "upper": 784.4108779907226
          },
          {
           "lower": 299.1921890258789,
           "timepoint": 11.800000190734863,
           "trajectory": "I_sol",
           "upper": 790.8988449096679
          },
          {
           "lower": 298.77409210205076,
           "timepoint": 11.90000057220459,
           "trajectory": "I_sol",
           "upper": 797.4382797241211
          },
          {
           "lower": 298.35809631347655,
           "timepoint": 12,
           "trajectory": "I_sol",
           "upper": 804.0291717529296
          },
          {
           "lower": 297.9447814941406,
           "timepoint": 12.100000381469727,
           "trajectory": "I_sol",
           "upper": 810.6715515136718
          },
          {
           "lower": 297.5343765258789,
           "timepoint": 12.199999809265137,
           "trajectory": "I_sol",
           "upper": 817.366471862793
          },
          {
           "lower": 297.1267883300781,
           "timepoint": 12.300000190734863,
           "trajectory": "I_sol",
           "upper": 824.1138122558593
          },
          {
           "lower": 296.72220611572266,
           "timepoint": 12.40000057220459,
           "trajectory": "I_sol",
           "upper": 830.9138717651367
          },
          {
           "lower": 296.3206268310547,
           "timepoint": 12.5,
           "trajectory": "I_sol",
           "upper": 837.7665924072265
          },
          {
           "lower": 295.9220489501953,
           "timepoint": 12.600000381469727,
           "trajectory": "I_sol",
           "upper": 844.672494506836
          },
          {
           "lower": 295.5265853881836,
           "timepoint": 12.699999809265137,
           "trajectory": "I_sol",
           "upper": 851.631526184082
          },
          {
           "lower": 295.1342514038086,
           "timepoint": 12.800000190734863,
           "trajectory": "I_sol",
           "upper": 858.643977355957
          },
          {
           "lower": 294.74478912353516,
           "timepoint": 12.90000057220459,
           "trajectory": "I_sol",
           "upper": 865.7098922729492
          },
          {
           "lower": 294.35872955322264,
           "timepoint": 13,
           "trajectory": "I_sol",
           "upper": 872.8294723510742
          },
          {
           "lower": 293.9757934570313,
           "timepoint": 13.100000381469727,
           "trajectory": "I_sol",
           "upper": 880.0012573242187
          },
          {
           "lower": 293.5961151123047,
           "timepoint": 13.199999809265137,
           "trajectory": "I_sol",
           "upper": 887.2277984619141
          },
          {
           "lower": 293.21962280273436,
           "timepoint": 13.300000190734863,
           "trajectory": "I_sol",
           "upper": 894.5082824707031
          },
          {
           "lower": 292.84636840820315,
           "timepoint": 13.40000057220459,
           "trajectory": "I_sol",
           "upper": 901.8425964355469
          },
          {
           "lower": 292.4762847900391,
           "timepoint": 13.5,
           "trajectory": "I_sol",
           "upper": 909.2305633544921
          },
          {
           "lower": 292.1094451904297,
           "timepoint": 13.600000381469727,
           "trajectory": "I_sol",
           "upper": 916.672476196289
          },
          {
           "lower": 291.7457473754883,
           "timepoint": 13.699999809265137,
           "trajectory": "I_sol",
           "upper": 924.1680404663085
          },
          {
           "lower": 291.38524627685547,
           "timepoint": 13.800000190734863,
           "trajectory": "I_sol",
           "upper": 931.7172012329102
          },
          {
           "lower": 291.02787551879885,
           "timepoint": 13.90000057220459,
           "trajectory": "I_sol",
           "upper": 939.3200706481933
          },
          {
           "lower": 290.674250793457,
           "timepoint": 14,
           "trajectory": "I_sol",
           "upper": 946.9759872436523
          },
          {
           "lower": 290.32323303222654,
           "timepoint": 14.100000381469727,
           "trajectory": "I_sol",
           "upper": 954.6850067138671
          },
          {
           "lower": 289.9752563476562,
           "timepoint": 14.199999809265137,
           "trajectory": "I_sol",
           "upper": 962.4468627929687
          },
          {
           "lower": 289.6303260803223,
           "timepoint": 14.300000190734863,
           "trajectory": "I_sol",
           "upper": 970.2613822937011
          },
          {
           "lower": 289.2883544921875,
           "timepoint": 14.40000057220459,
           "trajectory": "I_sol",
           "upper": 978.128271484375
          },
          {
           "lower": 288.9492874145508,
           "timepoint": 14.5,
           "trajectory": "I_sol",
           "upper": 986.0467758178711
          },
          {
           "lower": 288.6130615234375,
           "timepoint": 14.600000381469727,
           "trajectory": "I_sol",
           "upper": 994.0170654296875
          },
          {
           "lower": 288.2796043395996,
           "timepoint": 14.699999809265137,
           "trajectory": "I_sol",
           "upper": 1002.0380378723144
          },
          {
           "lower": 287.94880599975585,
           "timepoint": 14.800000190734863,
           "trajectory": "I_sol",
           "upper": 1010.1098030090332
          },
          {
           "lower": 287.6205795288086,
           "timepoint": 14.90000057220459,
           "trajectory": "I_sol",
           "upper": 1018.230158996582
          },
          {
           "lower": 287.2948760986328,
           "timepoint": 15,
           "trajectory": "I_sol",
           "upper": 1026.400375366211
          },
          {
           "lower": 286.9715705871582,
           "timepoint": 15.100000381469727,
           "trajectory": "I_sol",
           "upper": 1034.6191734313963
          },
          {
           "lower": 286.65071563720704,
           "timepoint": 15.199999809265137,
           "trajectory": "I_sol",
           "upper": 1042.88563079834
          },
          {
           "lower": 286.33191833496096,
           "timepoint": 15.300000190734863,
           "trajectory": "I_sol",
           "upper": 1051.1991485595702
          },
          {
           "lower": 286.0151840209961,
           "timepoint": 15.40000057220459,
           "trajectory": "I_sol",
           "upper": 1059.5584548950194
          },
          {
           "lower": 285.7003746032715,
           "timepoint": 15.5,
           "trajectory": "I_sol",
           "upper": 1067.96284866333
          },
          {
           "lower": 285.3873565673828,
           "timepoint": 15.600000381469727,
           "trajectory": "I_sol",
           "upper": 1076.411166381836
          },
          {
           "lower": 285.0757881164551,
           "timepoint": 15.699999809265137,
           "trajectory": "I_sol",
           "upper": 1084.899111175537
          },
          {
           "lower": 284.7658126831055,
           "timepoint": 15.800000190734863,
           "trajectory": "I_sol",
           "upper": 1093.4305068969727
          },
          {
           "lower": 284.4571166992188,
           "timepoint": 15.90000057220459,
           "trajectory": "I_sol",
           "upper": 1102.001867675781
          },
          {
           "lower": 284.14955444335936,
           "timepoint": 16,
           "trajectory": "I_sol",
           "upper": 1110.611798095703
          },
          {
           "lower": 283.8428871154785,
           "timepoint": 16.100000381469727,
           "trajectory": "I_sol",
           "upper": 1119.2587821960449
          },
          {
           "lower": 283.5369506835938,
           "timepoint": 16.200000762939453,
           "trajectory": "I_sol",
           "upper": 1127.941076660156
          },
          {
           "lower": 283.2316040039062,
           "timepoint": 16.30000114440918,
           "trajectory": "I_sol",
           "upper": 1136.6568237304687
          },
          {
           "lower": 282.92651748657227,
           "timepoint": 16.399999618530273,
           "trajectory": "I_sol",
           "upper": 1145.4041557312012
          },
          {
           "lower": 282.62130813598634,
           "timepoint": 16.5,
           "trajectory": "I_sol",
           "upper": 1154.178542327881
          },
          {
           "lower": 282.3160316467285,
           "timepoint": 16.600000381469727,
           "trajectory": "I_sol",
           "upper": 1162.9824150085449
          },
          {
           "lower": 282.0102928161621,
           "timepoint": 16.700000762939453,
           "trajectory": "I_sol",
           "upper": 1171.811011505127
          },
          {
           "lower": 281.70386962890626,
           "timepoint": 16.80000114440918,
           "trajectory": "I_sol",
           "upper": 1180.6625854492188
          },
          {
           "lower": 281.39644622802734,
           "timepoint": 16.899999618530273,
           "trajectory": "I_sol",
           "upper": 1189.5338821411133
          },
          {
           "lower": 281.08774719238284,
           "timepoint": 17,
           "trajectory": "I_sol",
           "upper": 1198.4226898193358
          },
          {
           "lower": 280.7774459838867,
           "timepoint": 17.100000381469727,
           "trajectory": "I_sol",
           "upper": 1207.3261001586914
          },
          {
           "lower": 280.4653160095215,
           "timepoint": 17.200000762939453,
           "trajectory": "I_sol",
           "upper": 1216.24282913208
          },
          {
           "lower": 280.15074157714844,
           "timepoint": 17.30000114440918,
           "trajectory": "I_sol",
           "upper": 1225.1669464111328
          },
          {
           "lower": 279.83371047973634,
           "timepoint": 17.399999618530273,
           "trajectory": "I_sol",
           "upper": 1234.096022796631
          },
          {
           "lower": 279.51369323730466,
           "timepoint": 17.5,
           "trajectory": "I_sol",
           "upper": 1243.0271392822265
          },
          {
           "lower": 279.1903930664063,
           "timepoint": 17.600000381469727,
           "trajectory": "I_sol",
           "upper": 1251.9565795898436
          },
          {
           "lower": 278.86340789794923,
           "timepoint": 17.700000762939453,
           "trajectory": "I_sol",
           "upper": 1260.880274963379
          },
          {
           "lower": 278.5323310852051,
           "timepoint": 17.80000114440918,
           "trajectory": "I_sol",
           "upper": 1269.794618988037
          },
          {
           "lower": 278.19676513671874,
           "timepoint": 17.899999618530273,
           "trajectory": "I_sol",
           "upper": 1278.6950805664062
          },
          {
           "lower": 277.8562774658203,
           "timepoint": 18,
           "trajectory": "I_sol",
           "upper": 1287.5770111083984
          },
          {
           "lower": 277.5104385375977,
           "timepoint": 18.100000381469727,
           "trajectory": "I_sol",
           "upper": 1296.4369186401366
          },
          {
           "lower": 277.1587768554688,
           "timepoint": 18.200000762939453,
           "trajectory": "I_sol",
           "upper": 1305.269689941406
          },
          {
           "lower": 276.80086822509764,
           "timepoint": 18.30000114440918,
           "trajectory": "I_sol",
           "upper": 1314.0705612182617
          },
          {
           "lower": 276.43624114990234,
           "timepoint": 18.399999618530273,
           "trajectory": "I_sol",
           "upper": 1322.8344192504883
          },
          {
           "lower": 276.0644073486328,
           "timepoint": 18.5,
           "trajectory": "I_sol",
           "upper": 1331.556381225586
          },
          {
           "lower": 275.6848419189453,
           "timepoint": 18.600000381469727,
           "trajectory": "I_sol",
           "upper": 1340.2308685302735
          },
          {
           "lower": 275.2970001220703,
           "timepoint": 18.700000762939453,
           "trajectory": "I_sol",
           "upper": 1348.8513763427734
          },
          {
           "lower": 274.9004760742188,
           "timepoint": 18.80000114440918,
           "trajectory": "I_sol",
           "upper": 1357.413488769531
          },
          {
           "lower": 274.4947204589844,
           "timepoint": 18.899999618530273,
           "trajectory": "I_sol",
           "upper": 1365.9111633300781
          },
          {
           "lower": 274.07914276123046,
           "timepoint": 19,
           "trajectory": "I_sol",
           "upper": 1374.3381240844726
          },
          {
           "lower": 273.65359725952146,
           "timepoint": 19.100000381469727,
           "trajectory": "I_sol",
           "upper": 1382.688581085205
          },
          {
           "lower": 273.21692047119143,
           "timepoint": 19.200000762939453,
           "trajectory": "I_sol",
           "upper": 1390.9555343627928
          },
          {
           "lower": 272.76882400512693,
           "timepoint": 19.30000114440918,
           "trajectory": "I_sol",
           "upper": 1399.1329551696776
          },
          {
           "lower": 272.3087699890137,
           "timepoint": 19.399999618530273,
           "trajectory": "I_sol",
           "upper": 1407.2136451721192
          },
          {
           "lower": 271.83620681762693,
           "timepoint": 19.5,
           "trajectory": "I_sol",
           "upper": 1415.1917930603026
          },
          {
           "lower": 271.3505386352539,
           "timepoint": 19.600000381469727,
           "trajectory": "I_sol",
           "upper": 1423.0601974487304
          },
          {
           "lower": 270.8512336730957,
           "timepoint": 19.700000762939453,
           "trajectory": "I_sol",
           "upper": 1430.811775970459
          },
          {
           "lower": 270.33774337768557,
           "timepoint": 19.80000114440918,
           "trajectory": "I_sol",
           "upper": 1438.4396766662596
          },
          {
           "lower": 269.80949249267576,
           "timepoint": 19.899999618530273,
           "trajectory": "I_sol",
           "upper": 1445.936814880371
          },
          {
           "lower": 269.26589126586913,
           "timepoint": 20,
           "trajectory": "I_sol",
           "upper": 1453.2961051940918
          },
          {
           "lower": 268.7065971374512,
           "timepoint": 20.100000381469727,
           "trajectory": "I_sol",
           "upper": 1460.5096656799317
          },
          {
           "lower": 268.13075256347656,
           "timepoint": 20.200000762939453,
           "trajectory": "I_sol",
           "upper": 1467.5710906982422
          },
          {
           "lower": 267.53797912597656,
           "timepoint": 20.30000114440918,
           "trajectory": "I_sol",
           "upper": 1474.4731903076172
          },
          {
           "lower": 266.9277763366699,
           "timepoint": 20.399999618530273,
           "trajectory": "I_sol",
           "upper": 1481.208652496338
          },
          {
           "lower": 266.29961624145506,
           "timepoint": 20.5,
           "trajectory": "I_sol",
           "upper": 1487.770742034912
          },
          {
           "lower": 265.65298614501955,
           "timepoint": 20.600000381469727,
           "trajectory": "I_sol",
           "upper": 1494.1519149780272
          },
          {
           "lower": 264.98746795654296,
           "timepoint": 20.700000762939453,
           "trajectory": "I_sol",
           "upper": 1500.34532623291
          },
          {
           "lower": 264.30223846435547,
           "timepoint": 20.80000114440918,
           "trajectory": "I_sol",
           "upper": 1506.3389053344727
          },
          {
           "lower": 263.5973670959473,
           "timepoint": 20.899999618530273,
           "trajectory": "I_sol",
           "upper": 1512.133696746826
          },
          {
           "lower": 262.8721321105957,
           "timepoint": 21,
           "trajectory": "I_sol",
           "upper": 1517.7198326110838
          },
          {
           "lower": 262.12620849609374,
           "timepoint": 21.100000381469727,
           "trajectory": "I_sol",
           "upper": 1523.0905883789062
          },
          {
           "lower": 261.359204864502,
           "timepoint": 21.200000762939453,
           "trajectory": "I_sol",
           "upper": 1528.2393516540526
          },
          {
           "lower": 260.5707809448242,
           "timepoint": 21.30000114440918,
           "trajectory": "I_sol",
           "upper": 1533.1602066040039
          },
          {
           "lower": 259.7605804443359,
           "timepoint": 21.399999618530273,
           "trajectory": "I_sol",
           "upper": 1537.8466583251952
          },
          {
           "lower": 258.9283103942871,
           "timepoint": 21.5,
           "trajectory": "I_sol",
           "upper": 1542.293140411377
          },
          {
           "lower": 258.07385101318357,
           "timepoint": 21.600000381469727,
           "trajectory": "I_sol",
           "upper": 1546.497102355957
          },
          {
           "lower": 257.1966613769531,
           "timepoint": 21.700000762939453,
           "trajectory": "I_sol",
           "upper": 1550.4479919433593
          },
          {
           "lower": 256.2966735839844,
           "timepoint": 21.80000114440918,
           "trajectory": "I_sol",
           "upper": 1554.143145751953
          },
          {
           "lower": 255.37340545654297,
           "timepoint": 21.899999618530273,
           "trajectory": "I_sol",
           "upper": 1557.5777969360352
          },
          {
           "lower": 254.42725067138673,
           "timepoint": 22,
           "trajectory": "I_sol",
           "upper": 1560.7473403930662
          },
          {
           "lower": 253.45782775878905,
           "timepoint": 22.100000381469727,
           "trajectory": "I_sol",
           "upper": 1563.6478240966796
          },
          {
           "lower": 252.4650863647461,
           "timepoint": 22.200000762939453,
           "trajectory": "I_sol",
           "upper": 1566.2755447387694
          },
          {
           "lower": 251.44885330200196,
           "timepoint": 22.30000114440918,
           "trajectory": "I_sol",
           "upper": 1568.6252891540526
          },
          {
           "lower": 250.4093070983887,
           "timepoint": 22.399999618530273,
           "trajectory": "I_sol",
           "upper": 1570.696604156494
          },
          {
           "lower": 249.3463233947754,
           "timepoint": 22.5,
           "trajectory": "I_sol",
           "upper": 1572.4852043151855
          },
          {
           "lower": 248.26004867553712,
           "timepoint": 22.600000381469727,
           "trajectory": "I_sol",
           "upper": 1573.9894783020018
          },
          {
           "lower": 247.1505043029785,
           "timepoint": 22.700000762939453,
           "trajectory": "I_sol",
           "upper": 1575.2065361022949
          },
          {
           "lower": 246.01782379150393,
           "timepoint": 22.80000114440918,
           "trajectory": "I_sol",
           "upper": 1576.1353439331053
          },
          {
           "lower": 244.86242294311523,
           "timepoint": 22.899999618530273,
           "trajectory": "I_sol",
           "upper": 1576.7741889953613
          },
          {
           "lower": 243.683992767334,
           "timepoint": 23,
           "trajectory": "I_sol",
           "upper": 1577.1213203430175
          },
          {
           "lower": 242.4830520629883,
           "timepoint": 23.100000381469727,
           "trajectory": "I_sol",
           "upper": 1577.1778060913084
          },
          {
           "lower": 241.25981903076172,
           "timepoint": 23.200000762939453,
           "trajectory": "I_sol",
           "upper": 1576.9428482055664
          },
          {
           "lower": 240.01458969116212,
           "timepoint": 23.30000114440918,
           "trajectory": "I_sol",
           "upper": 1576.4165779113769
          },
          {
           "lower": 238.7476577758789,
           "timepoint": 23.399999618530273,
           "trajectory": "I_sol",
           "upper": 1575.5993576049805
          },
          {
           "lower": 237.4593536376953,
           "timepoint": 23.5,
           "trajectory": "I_sol",
           "upper": 1574.4922454833984
          },
          {
           "lower": 236.15008621215821,
           "timepoint": 23.600000381469727,
           "trajectory": "I_sol",
           "upper": 1573.0964195251463
          },
          {
           "lower": 234.8201934814453,
           "timepoint": 23.700000762939453,
           "trajectory": "I_sol",
           "upper": 1571.4136322021484
          },
          {
           "lower": 233.47014846801758,
           "timepoint": 23.80000114440918,
           "trajectory": "I_sol",
           "upper": 1569.4451805114745
          },
          {
           "lower": 232.10021743774416,
           "timepoint": 23.899999618530273,
           "trajectory": "I_sol",
           "upper": 1567.1942008972167
          },
          {
           "lower": 230.71117935180666,
           "timepoint": 24,
           "trajectory": "I_sol",
           "upper": 1564.6625846862792
          },
          {
           "lower": 229.30334625244143,
           "timepoint": 24.100000381469727,
           "trajectory": "I_sol",
           "upper": 1561.8532394409178
          },
          {
           "lower": 227.87726974487305,
           "timepoint": 24.200000762939453,
           "trajectory": "I_sol",
           "upper": 1558.7697792053223
          },
          {
           "lower": 226.43348541259766,
           "timepoint": 24.30000114440918,
           "trajectory": "I_sol",
           "upper": 1555.4152389526366
          },
          {
           "lower": 224.9725486755371,
           "timepoint": 24.399999618530273,
           "trajectory": "I_sol",
           "upper": 1551.793579864502
          },
          {
           "lower": 223.4949592590332,
           "timepoint": 24.5,
           "trajectory": "I_sol",
           "upper": 1547.9085289001464
          },
          {
           "lower": 222.0011474609375,
           "timepoint": 24.600000381469727,
           "trajectory": "I_sol",
           "upper": 1543.7605712890625
          },
          {
           "lower": 220.49211196899415,
           "timepoint": 24.700000762939453,
           "trajectory": "I_sol",
           "upper": 1539.3601676940916
          },
          {
           "lower": 218.9681655883789,
           "timepoint": 24.80000114440918,
           "trajectory": "I_sol",
           "upper": 1534.7094161987304
          },
          {
           "lower": 217.42998123168945,
           "timepoint": 24.899999618530273,
           "trajectory": "I_sol",
           "upper": 1529.8128623962402
          },
          {
           "lower": 215.87816696166993,
           "timepoint": 25,
           "trajectory": "I_sol",
           "upper": 1524.6757423400877
          },
          {
           "lower": 214.3133171081543,
           "timepoint": 25.100000381469727,
           "trajectory": "I_sol",
           "upper": 1519.3024818420408
          },
          {
           "lower": 212.73613433837892,
           "timepoint": 25.200000762939453,
           "trajectory": "I_sol",
           "upper": 1513.6990158081053
          },
          {
           "lower": 211.14717712402344,
           "timepoint": 25.30000114440918,
           "trajectory": "I_sol",
           "upper": 1507.8704620361327
          },
          {
           "lower": 209.54717941284179,
           "timepoint": 25.399999618530273,
           "trajectory": "I_sol",
           "upper": 1501.8225257873535
          },
          {
           "lower": 207.93656463623046,
           "timepoint": 25.5,
           "trajectory": "I_sol",
           "upper": 1495.5607803344726
          },
          {
           "lower": 206.31624908447264,
           "timepoint": 25.600000381469727,
           "trajectory": "I_sol",
           "upper": 1489.0908248901367
          },
          {
           "lower": 204.6867614746094,
           "timepoint": 25.700000762939453,
           "trajectory": "I_sol",
           "upper": 1482.418585205078
          },
          {
           "lower": 203.0487403869629,
           "timepoint": 25.80000114440918,
           "trajectory": "I_sol",
           "upper": 1475.549877166748
          },
          {
           "lower": 201.40289230346679,
           "timepoint": 25.899999618530273,
           "trajectory": "I_sol",
           "upper": 1468.4909828186035
          },
          {
           "lower": 199.74977111816406,
           "timepoint": 26,
           "trajectory": "I_sol",
           "upper": 1461.2474822998047
          },
          {
           "lower": 198.09002532958985,
           "timepoint": 26.100000381469727,
           "trajectory": "I_sol",
           "upper": 1453.8256546020507
          },
          {
           "lower": 196.4241310119629,
           "timepoint": 26.200000762939453,
           "trajectory": "I_sol",
           "upper": 1446.227953338623
          },
          {
           "lower": 194.7527240753174,
           "timepoint": 26.30000114440918,
           "trajectory": "I_sol",
           "upper": 1438.4663234710692
          },
          {
           "lower": 193.0767692565918,
           "timepoint": 26.399999618530273,
           "trajectory": "I_sol",
           "upper": 1430.5444007873534
          },
          {
           "lower": 191.39659690856934,
           "timepoint": 26.5,
           "trajectory": "I_sol",
           "upper": 1422.467638015747
          },
          {
           "lower": 189.7128532409668,
           "timepoint": 26.600000381469727,
           "trajectory": "I_sol",
           "upper": 1414.2425453186036
          },
          {
           "lower": 188.02613105773926,
           "timepoint": 26.700000762939453,
           "trajectory": "I_sol",
           "upper": 1405.8751674652099
          },
          {
           "lower": 186.3369842529297,
           "timepoint": 26.80000114440918,
           "trajectory": "I_sol",
           "upper": 1397.3710845947264
          },
          {
           "lower": 184.64603233337402,
           "timepoint": 26.899999618530273,
           "trajectory": "I_sol",
           "upper": 1388.7365741729736
          },
          {
           "lower": 182.953861618042,
           "timepoint": 27,
           "trajectory": "I_sol",
           "upper": 1379.9790683746337
          },
          {
           "lower": 181.2609848022461,
           "timepoint": 27.100000381469727,
           "trajectory": "I_sol",
           "upper": 1371.1017166137694
          },
          {
           "lower": 179.56784896850587,
           "timepoint": 27.200000762939453,
           "trajectory": "I_sol",
           "upper": 1362.1113655090332
          },
          {
           "lower": 177.87508544921877,
           "timepoint": 27.30000114440918,
           "trajectory": "I_sol",
           "upper": 1353.013830566406
          },
          {
           "lower": 176.18320960998534,
           "timepoint": 27.399999618530273,
           "trajectory": "I_sol",
           "upper": 1343.8149211883544
          },
          {
           "lower": 174.49268341064453,
           "timepoint": 27.5,
           "trajectory": "I_sol",
           "upper": 1334.5199813842773
          },
          {
           "lower": 172.8040256500244,
           "timepoint": 27.600000381469727,
           "trajectory": "I_sol",
           "upper": 1325.1344738006592
          },
          {
           "lower": 171.11770210266113,
           "timepoint": 27.700000762939453,
           "trajectory": "I_sol",
           "upper": 1315.6640895843504
          },
          {
           "lower": 169.43388442993165,
           "timepoint": 27.80000114440918,
           "trajectory": "I_sol",
           "upper": 1306.1134635925293
          },
          {
           "lower": 167.75358352661132,
           "timepoint": 27.899999618530273,
           "trajectory": "I_sol",
           "upper": 1296.4888938903807
          },
          {
           "lower": 166.07694931030272,
           "timepoint": 28,
           "trajectory": "I_sol",
           "upper": 1286.7950141906738
          },
          {
           "lower": 164.4044132232666,
           "timepoint": 28.100000381469727,
           "trajectory": "I_sol",
           "upper": 1277.0365886688232
          },
          {
           "lower": 162.7364070892334,
           "timepoint": 28.200000762939453,
           "trajectory": "I_sol",
           "upper": 1267.2190753936768
          },
          {
           "lower": 161.07334175109864,
           "timepoint": 28.30000114440918,
           "trajectory": "I_sol",
           "upper": 1257.347121810913
          },
          {
           "lower": 159.4156379699707,
           "timepoint": 28.399999618530273,
           "trajectory": "I_sol",
           "upper": 1247.425838470459
          },
          {
           "lower": 157.76360359191895,
           "timepoint": 28.5,
           "trajectory": "I_sol",
           "upper": 1237.4592891693114
          },
          {
           "lower": 156.11757774353026,
           "timepoint": 28.600000381469727,
           "trajectory": "I_sol",
           "upper": 1227.4491107940673
          },
          {
           "lower": 154.47802238464357,
           "timepoint": 28.700000762939453,
           "trajectory": "I_sol",
           "upper": 1217.405041885376
          },
          {
           "lower": 152.84522857666016,
           "timepoint": 28.80000114440918,
           "trajectory": "I_sol",
           "upper": 1207.3291793823241
          },
          {
           "lower": 151.21953926086425,
           "timepoint": 28.899999618530273,
           "trajectory": "I_sol",
           "upper": 1197.2257045745848
          },
          {
           "lower": 149.60122108459473,
           "timepoint": 29,
           "trajectory": "I_sol",
           "upper": 1187.0984477996826
          },
          {
           "lower": 147.99060249328613,
           "timepoint": 29.100000381469727,
           "trajectory": "I_sol",
           "upper": 1176.9515895843506
          },
          {
           "lower": 146.3879680633545,
           "timepoint": 29.200000762939453,
           "trajectory": "I_sol",
           "upper": 1166.7886142730713
          },
          {
           "lower": 144.79339027404785,
           "timepoint": 29.30000114440918,
           "trajectory": "I_sol",
           "upper": 1156.613920211792
          },
          {
           "lower": 143.20769424438475,
           "timepoint": 29.399999618530273,
           "trajectory": "I_sol",
           "upper": 1146.4342582702636
          },
          {
           "lower": 141.63060455322267,
           "timepoint": 29.5,
           "trajectory": "I_sol",
           "upper": 1136.2474166870118
          },
          {
           "lower": 140.06255340576172,
           "timepoint": 29.600000381469727,
           "trajectory": "I_sol",
           "upper": 1126.0595474243164
          },
          {
           "lower": 138.50376243591307,
           "timepoint": 29.700000762939453,
           "trajectory": "I_sol",
           "upper": 1115.8739002227783
          },
          {
           "lower": 136.95443382263184,
           "timepoint": 29.80000114440918,
           "trajectory": "I_sol",
           "upper": 1105.6934925079345
          },
          {
           "lower": 135.41484031677246,
           "timepoint": 29.899999618530273,
           "trajectory": "I_sol",
           "upper": 1095.5222705841063
          },
          {
           "lower": 133.88510513305664,
           "timepoint": 30,
           "trajectory": "I_sol",
           "upper": 1085.3624382019043
          },
          {
           "lower": 132.36540031433105,
           "timepoint": 30.100000381469727,
           "trajectory": "I_sol",
           "upper": 1075.2171268463135
          },
          {
           "lower": 130.85598487854003,
           "timepoint": 30.200000762939453,
           "trajectory": "I_sol",
           "upper": 1065.089472579956
          },
          {
           "lower": 129.35698585510255,
           "timepoint": 30.30000114440918,
           "trajectory": "I_sol",
           "upper": 1054.9820262908936
          },
          {
           "lower": 127.86857261657715,
           "timepoint": 30.399999618530273,
           "trajectory": "I_sol",
           "upper": 1044.897456741333
          },
          {
           "lower": 126.39087104797363,
           "timepoint": 30.5,
           "trajectory": "I_sol",
           "upper": 1034.838430404663
          },
          {
           "lower": 124.92403717041016,
           "timepoint": 30.600000381469727,
           "trajectory": "I_sol",
           "upper": 1024.8074996948242
          },
          {
           "lower": 123.46820144653321,
           "timepoint": 30.700000762939453,
           "trajectory": "I_sol",
           "upper": 1014.8068687438964
          },
          {
           "lower": 122.02344284057617,
           "timepoint": 30.80000114440918,
           "trajectory": "I_sol",
           "upper": 1004.8373512268066
          },
          {
           "lower": 120.58998756408693,
           "timepoint": 30.899999618530273,
           "trajectory": "I_sol",
           "upper": 994.9039318084716
          },
          {
           "lower": 119.16783828735352,
           "timepoint": 31,
           "trajectory": "I_sol",
           "upper": 985.0070732116699
          },
          {
           "lower": 117.75712203979492,
           "timepoint": 31.100000381469727,
           "trajectory": "I_sol",
           "upper": 975.1493263244629
          },
          {
           "lower": 116.35795822143555,
           "timepoint": 31.19999885559082,
           "trajectory": "I_sol",
           "upper": 965.3325477600097
          },
          {
           "lower": 114.9703857421875,
           "timepoint": 31.299999237060547,
           "trajectory": "I_sol",
           "upper": 955.55830078125
          },
          {
           "lower": 113.594486618042,
           "timepoint": 31.399999618530273,
           "trajectory": "I_sol",
           "upper": 945.8285556793212
          },
          {
           "lower": 112.2303493499756,
           "timepoint": 31.5,
           "trajectory": "I_sol",
           "upper": 936.1449939727783
          },
          {
           "lower": 110.87787628173828,
           "timepoint": 31.600000381469727,
           "trajectory": "I_sol",
           "upper": 926.5079574584961
          },
          {
           "lower": 109.53739395141602,
           "timepoint": 31.69999885559082,
           "trajectory": "I_sol",
           "upper": 916.9214530944823
          },
          {
           "lower": 108.20878162384034,
           "timepoint": 31.799999237060547,
           "trajectory": "I_sol",
           "upper": 907.3855901718139
          },
          {
           "lower": 106.89212837219239,
           "timepoint": 31.899999618530273,
           "trajectory": "I_sol",
           "upper": 897.9019924163817
          },
          {
           "lower": 105.58745365142823,
           "timepoint": 32,
           "trajectory": "I_sol",
           "upper": 888.471990776062
          },
          {
           "lower": 104.29481506347656,
           "timepoint": 32.099998474121094,
           "trajectory": "I_sol",
           "upper": 879.0970916748047
          },
          {
           "lower": 103.0142168045044,
           "timepoint": 32.19999694824219,
           "trajectory": "I_sol",
           "upper": 869.7783361434936
          },
          {
           "lower": 101.745560836792,
           "timepoint": 32.29999923706055,
           "trajectory": "I_sol",
           "upper": 860.5153720855712
          },
          {
           "lower": 100.48892021179199,
           "timepoint": 32.400001525878906,
           "trajectory": "I_sol",
           "upper": 851.3114414215088
          },
          {
           "lower": 99.24444255828857,
           "timepoint": 32.5,
           "trajectory": "I_sol",
           "upper": 842.167014503479
          },
          {
           "lower": 98.01203651428223,
           "timepoint": 32.599998474121094,
           "trajectory": "I_sol",
           "upper": 833.0828960418701
          },
          {
           "lower": 96.79169044494628,
           "timepoint": 32.69999694824219,
           "trajectory": "I_sol",
           "upper": 824.0598949432373
          },
          {
           "lower": 95.58335151672364,
           "timepoint": 32.79999923706055,
           "trajectory": "I_sol",
           "upper": 815.098586654663
          },
          {
           "lower": 94.38705959320069,
           "timepoint": 32.900001525878906,
           "trajectory": "I_sol",
           "upper": 806.2000719070434
          },
          {
           "lower": 93.20276260375977,
           "timepoint": 33,
           "trajectory": "I_sol",
           "upper": 797.3641166687012
          },
          {
           "lower": 92.03049697875977,
           "timepoint": 33.099998474121094,
           "trajectory": "I_sol",
           "upper": 788.5932670593261
          },
          {
           "lower": 90.87021484375,
           "timepoint": 33.19999694824219,
           "trajectory": "I_sol",
           "upper": 779.8872314453124
          },
          {
           "lower": 89.72183113098146,
           "timepoint": 33.29999923706055,
           "trajectory": "I_sol",
           "upper": 771.246178817749
          },
          {
           "lower": 88.5853651046753,
           "timepoint": 33.400001525878906,
           "trajectory": "I_sol",
           "upper": 762.6710931777953
          },
          {
           "lower": 87.46081600189208,
           "timepoint": 33.5,
           "trajectory": "I_sol",
           "upper": 754.1627840042114
          },
          {
           "lower": 86.3481035232544,
           "timepoint": 33.599998474121094,
           "trajectory": "I_sol",
           "upper": 745.7213048934937
          },
          {
           "lower": 85.24720935821534,
           "timepoint": 33.69999694824219,
           "trajectory": "I_sol",
           "upper": 737.3474065780639
          },
          {
           "lower": 84.15802097320557,
           "timepoint": 33.79999923706055,
           "trajectory": "I_sol",
           "upper": 729.0407361984253
          },
          {
           "lower": 83.0804880142212,
           "timepoint": 33.900001525878906,
           "trajectory": "I_sol",
           "upper": 720.8019849777221
          },
          {
           "lower": 82.01467189788818,
           "timepoint": 34,
           "trajectory": "I_sol",
           "upper": 712.6319078445434
          },
          {
           "lower": 80.96045360565185,
           "timepoint": 34.099998474121094,
           "trajectory": "I_sol",
           "upper": 704.5304407119751
          },
          {
           "lower": 79.91778678894043,
           "timepoint": 34.19999694824219,
           "trajectory": "I_sol",
           "upper": 696.4978702545166
          },
          {
           "lower": 78.88656387329101,
           "timepoint": 34.29999923706055,
           "trajectory": "I_sol",
           "upper": 688.5340751647949
          },
          {
           "lower": 77.86671752929688,
           "timepoint": 34.400001525878906,
           "trajectory": "I_sol",
           "upper": 680.6385314941406
          },
          {
           "lower": 76.85830440521241,
           "timepoint": 34.5,
           "trajectory": "I_sol",
           "upper": 672.8132081985474
          },
          {
           "lower": 75.86115436553956,
           "timepoint": 34.599998474121094,
           "trajectory": "I_sol",
           "upper": 665.0573446273803
          },
          {
           "lower": 74.87524738311768,
           "timepoint": 34.69999694824219,
           "trajectory": "I_sol",
           "upper": 657.3707662582398
          },
          {
           "lower": 73.9004638671875,
           "timepoint": 34.79999923706055,
           "trajectory": "I_sol",
           "upper": 649.7534667968749
          },
          {
           "lower": 72.93677196502685,
           "timepoint": 34.900001525878906,
           "trajectory": "I_sol",
           "upper": 642.2057336807251
          },
          {
           "lower": 71.98413009643555,
           "timepoint": 35,
           "trajectory": "I_sol",
           "upper": 634.7277381896972
          },
          {
           "lower": 71.0424379348755,
           "timepoint": 35.099998474121094,
           "trajectory": "I_sol",
           "upper": 627.3193593978882
          },
          {
           "lower": 70.11154975891114,
           "timepoint": 35.19999694824219,
           "trajectory": "I_sol",
           "upper": 619.9792018890381
          },
          {
           "lower": 69.19145736694335,
           "timepoint": 35.29999923706055,
           "trajectory": "I_sol",
           "upper": 612.7088264465332
          },
          {
           "lower": 68.28205947875976,
           "timepoint": 35.400001525878906,
           "trajectory": "I_sol",
           "upper": 605.5074760437011
          },
          {
           "lower": 67.38333511352539,
           "timepoint": 35.5,
           "trajectory": "I_sol",
           "upper": 598.3754386901855
          },
          {
           "lower": 66.49515533447266,
           "timepoint": 35.599998474121094,
           "trajectory": "I_sol",
           "upper": 591.3121871948242
          },
          {
           "lower": 65.61743907928467,
           "timepoint": 35.69999694824219,
           "trajectory": "I_sol",
           "upper": 584.317486000061
          },
          {
           "lower": 64.75006523132325,
           "timepoint": 35.79999923706055,
           "trajectory": "I_sol",
           "upper": 577.3907505035401
          },
          {
           "lower": 63.893128395080566,
           "timepoint": 35.900001525878906,
           "trajectory": "I_sol",
           "upper": 570.5348768234253
          },
          {
           "lower": 63.046348953247076,
           "timepoint": 36,
           "trajectory": "I_sol",
           "upper": 563.7455135345459
          },
          {
           "lower": 62.2097089767456,
           "timepoint": 36.099998474121094,
           "trajectory": "I_sol",
           "upper": 557.0241052627563
          },
          {
           "lower": 61.38314361572266,
           "timepoint": 36.19999694824219,
           "trajectory": "I_sol",
           "upper": 550.3702438354492
          },
          {
           "lower": 60.56649799346924,
           "timepoint": 36.29999923706055,
           "trajectory": "I_sol",
           "upper": 543.7834585189819
          },
          {
           "lower": 59.759749221801755,
           "timepoint": 36.400001525878906,
           "trajectory": "I_sol",
           "upper": 537.2638637542724
          },
          {
           "lower": 58.962826538085935,
           "timepoint": 36.5,
           "trajectory": "I_sol",
           "upper": 530.8112823486327
          },
          {
           "lower": 58.17562274932861,
           "timepoint": 36.599998474121094,
           "trajectory": "I_sol",
           "upper": 524.42518825531
          },
          {
           "lower": 57.3979739189148,
           "timepoint": 36.69999694824219,
           "trajectory": "I_sol",
           "upper": 518.104011631012
          },
          {
           "lower": 56.62988023757934,
           "timepoint": 36.79999923706055,
           "trajectory": "I_sol",
           "upper": 511.8491980552673
          },
          {
           "lower": 55.87123489379883,
           "timepoint": 36.900001525878906,
           "trajectory": "I_sol",
           "upper": 505.65981674194336
          },
          {
           "lower": 55.12191152572632,
           "timepoint": 37,
           "trajectory": "I_sol",
           "upper": 499.5356297492981
          },
          {
           "lower": 54.38189954757691,
           "timepoint": 37.099998474121094,
           "trajectory": "I_sol",
           "upper": 493.47605829238887
          },
          {
           "lower": 53.651071071624756,
           "timepoint": 37.19999694824219,
           "trajectory": "I_sol",
           "upper": 487.48083543777466
          },
          {
           "lower": 52.929303359985354,
           "timepoint": 37.29999923706055,
           "trajectory": "I_sol",
           "upper": 481.54917411804195
          },
          {
           "lower": 52.21653747558594,
           "timepoint": 37.400001525878906,
           "trajectory": "I_sol",
           "upper": 475.6809844970703
          },
          {
           "lower": 51.51278553009033,
           "timepoint": 37.5,
           "trajectory": "I_sol",
           "upper": 469.8774236679077
          },
          {
           "lower": 50.817809486389166,
           "timepoint": 37.599998474121094,
           "trajectory": "I_sol",
           "upper": 464.1356168746948
          },
          {
           "lower": 50.131575202941896,
           "timepoint": 37.69999694824219,
           "trajectory": "I_sol",
           "upper": 458.4560827255249
          },
          {
           "lower": 49.4539098739624,
           "timepoint": 37.79999923706055,
           "trajectory": "I_sol",
           "upper": 452.8381471633911
          },
          {
           "lower": 48.784847259521484,
           "timepoint": 37.900001525878906,
           "trajectory": "I_sol",
           "upper": 447.2816963195801
          },
          {
           "lower": 48.1242769241333,
           "timepoint": 38,
           "trajectory": "I_sol",
           "upper": 441.78634853363036
          },
          {
           "lower": 47.472093486785894,
           "timepoint": 38.099998474121094,
           "trajectory": "I_sol",
           "upper": 436.35157785415646
          },
          {
           "lower": 46.82819728851318,
           "timepoint": 38.19999694824219,
           "trajectory": "I_sol",
           "upper": 430.97682971954345
          },
          {
           "lower": 46.192536258697515,
           "timepoint": 38.29999923706055,
           "trajectory": "I_sol",
           "upper": 425.66241941452023
          },
          {
           "lower": 45.564955711364746,
           "timepoint": 38.400001525878906,
           "trajectory": "I_sol",
           "upper": 420.4065752029419
          },
          {
           "lower": 44.94543895721436,
           "timepoint": 38.5,
           "trajectory": "I_sol",
           "upper": 415.2097009658813
          },
          {
           "lower": 44.333924293518066,
           "timepoint": 38.599998474121094,
           "trajectory": "I_sol",
           "upper": 410.07107067108154
          },
          {
           "lower": 43.7302342414856,
           "timepoint": 38.69999694824219,
           "trajectory": "I_sol",
           "upper": 404.99029912948606
          },
          {
           "lower": 43.13430290222168,
           "timepoint": 38.79999923706055,
           "trajectory": "I_sol",
           "upper": 399.9667179107666
          },
          {
           "lower": 42.54606304168701,
           "timepoint": 38.900001525878906,
           "trajectory": "I_sol",
           "upper": 394.9999765396118
          },
          {
           "lower": 41.96545562744141,
           "timepoint": 39,
           "trajectory": "I_sol",
           "upper": 390.08981170654295
          },
          {
           "lower": 41.392395687103274,
           "timepoint": 39.099998474121094,
           "trajectory": "I_sol",
           "upper": 385.2360165596008
          },
          {
           "lower": 40.8267596244812,
           "timepoint": 39.19999694824219,
           "trajectory": "I_sol",
           "upper": 380.43734140396117
          },
          {
           "lower": 40.268461513519284,
           "timepoint": 39.29999923706055,
           "trajectory": "I_sol",
           "upper": 375.693492603302
          },
          {
           "lower": 39.71743955612183,
           "timepoint": 39.400001525878906,
           "trajectory": "I_sol",
           "upper": 371.0041199684143
          },
          {
           "lower": 39.17358064651489,
           "timepoint": 39.5,
           "trajectory": "I_sol",
           "upper": 366.3689284324646
          },
          {
           "lower": 38.63686599731446,
           "timepoint": 39.599998474121094,
           "trajectory": "I_sol",
           "upper": 361.7872520446777
          },
          {
           "lower": 38.107182407379156,
           "timepoint": 39.69999694824219,
           "trajectory": "I_sol",
           "upper": 357.258622264862
          },
          {
           "lower": 37.58441896438599,
           "timepoint": 39.79999923706055,
           "trajectory": "I_sol",
           "upper": 352.7823393821716
          },
          {
           "lower": 37.06857452392578,
           "timepoint": 39.900001525878906,
           "trajectory": "I_sol",
           "upper": 348.3590682983398
          },
          {
           "lower": 36.559495544433595,
           "timepoint": 40,
           "trajectory": "I_sol",
           "upper": 343.9869216918945
          },
          {
           "lower": 36.057134342193606,
           "timepoint": 40.099998474121094,
           "trajectory": "I_sol",
           "upper": 339.66595487594606
          },
          {
           "lower": 35.561401557922366,
           "timepoint": 40.19999694824219,
           "trajectory": "I_sol",
           "upper": 335.39567165374757
          },
          {
           "lower": 35.07218389511108,
           "timepoint": 40.29999923706055,
           "trajectory": "I_sol",
           "upper": 331.17543001174926
          },
          {
           "lower": 34.5894555091858,
           "timepoint": 40.400001525878906,
           "trajectory": "I_sol",
           "upper": 327.0049105644226
          },
          {
           "lower": 34.11313982009888,
           "timepoint": 40.5,
           "trajectory": "I_sol",
           "upper": 322.88379125595094
          },
          {
           "lower": 33.64314832687378,
           "timepoint": 40.599998474121094,
           "trajectory": "I_sol",
           "upper": 318.811489200592
          },
          {
           "lower": 33.179368019104004,
           "timepoint": 40.69999694824219,
           "trajectory": "I_sol",
           "upper": 314.7867841720581
          },
          {
           "lower": 32.72176265716553,
           "timepoint": 40.79999923706055,
           "trajectory": "I_sol",
           "upper": 310.81022357940674
          },
          {
           "lower": 32.270249652862546,
           "timepoint": 40.900001525878906,
           "trajectory": "I_sol",
           "upper": 306.8809935569763
          },
          {
           "lower": 31.824775981903077,
           "timepoint": 41,
           "trajectory": "I_sol",
           "upper": 302.9987732887268
          },
          {
           "lower": 31.385244369506836,
           "timepoint": 41.099998474121094,
           "trajectory": "I_sol",
           "upper": 299.16295051574707
          },
          {
           "lower": 30.951659965515137,
           "timepoint": 41.19999694824219,
           "trajectory": "I_sol",
           "upper": 295.37300510406493
          },
          {
           "lower": 30.52380895614624,
           "timepoint": 41.29999923706055,
           "trajectory": "I_sol",
           "upper": 291.62837648391724
          },
          {
           "lower": 30.101693582534793,
           "timepoint": 41.400001525878906,
           "trajectory": "I_sol",
           "upper": 287.9287467479706
          },
          {
           "lower": 29.685256576538087,
           "timepoint": 41.5,
           "trajectory": "I_sol",
           "upper": 284.27376594543455
          },
          {
           "lower": 29.27441611289978,
           "timepoint": 41.599998474121094,
           "trajectory": "I_sol",
           "upper": 280.6629093647003
          },
          {
           "lower": 28.869096994400024,
           "timepoint": 41.69999694824219,
           "trajectory": "I_sol",
           "upper": 277.09562373161316
          },
          {
           "lower": 28.469214630126956,
           "timepoint": 41.79999923706055,
           "trajectory": "I_sol",
           "upper": 273.571297454834
          },
          {
           "lower": 28.0747211933136,
           "timepoint": 41.900001525878906,
           "trajectory": "I_sol",
           "upper": 270.0897256374359
          },
          {
           "lower": 27.685560894012454,
           "timepoint": 42,
           "trajectory": "I_sol",
           "upper": 266.6505005836487
          },
          {
           "lower": 27.30167031288147,
           "timepoint": 42.099998474121094,
           "trajectory": "I_sol",
           "upper": 263.25306963920593
          },
          {
           "lower": 26.92295436859131,
           "timepoint": 42.19999694824219,
           "trajectory": "I_sol",
           "upper": 259.8969652175903
          },
          {
           "lower": 26.54934630393982,
           "timepoint": 42.29999923706055,
           "trajectory": "I_sol",
           "upper": 256.58160557746885
          },
          {
           "lower": 26.180793380737306,
           "timepoint": 42.400001525878906,
           "trajectory": "I_sol",
           "upper": 253.3066410064697
          },
          {
           "lower": 25.81726269721985,
           "timepoint": 42.5,
           "trajectory": "I_sol",
           "upper": 250.0720986843109
          },
          {
           "lower": 25.45865435600281,
           "timepoint": 42.599998474121094,
           "trajectory": "I_sol",
           "upper": 246.87699036598204
          },
          {
           "lower": 25.104919767379762,
           "timepoint": 42.69999694824219,
           "trajectory": "I_sol",
           "upper": 243.72109665870664
          },
          {
           "lower": 24.755976581573485,
           "timepoint": 42.79999923706055,
           "trajectory": "I_sol",
           "upper": 240.60376272201538
          },
          {
           "lower": 24.411746883392333,
           "timepoint": 42.900001525878906,
           "trajectory": "I_sol",
           "upper": 237.5247097969055
          },
          {
           "lower": 24.072234582901004,
           "timepoint": 43,
           "trajectory": "I_sol",
           "upper": 234.483634519577
          },
          {
           "lower": 23.737345170974734,
           "timepoint": 43.099998474121094,
           "trajectory": "I_sol",
           "upper": 231.48001151084898
          },
          {
           "lower": 23.407019519805907,
           "timepoint": 43.19999694824219,
           "trajectory": "I_sol",
           "upper": 228.51340398788452
          },
          {
           "lower": 23.081181526184082,
           "timepoint": 43.29999923706055,
           "trajectory": "I_sol",
           "upper": 225.58325862884521
          },
          {
           "lower": 22.759829664230345,
           "timepoint": 43.400001525878906,
           "trajectory": "I_sol",
           "upper": 222.6900957584381
          },
          {
           "lower": 22.44284934997559,
           "timepoint": 43.5,
           "trajectory": "I_sol",
           "upper": 219.83230476379393
          },
          {
           "lower": 22.130200910568238,
           "timepoint": 43.599998474121094,
           "trajectory": "I_sol",
           "upper": 217.0099558353424
          },
          {
           "lower": 21.821825218200686,
           "timepoint": 43.69999694824219,
           "trajectory": "I_sol",
           "upper": 214.22261219024656
          },
          {
           "lower": 21.51765904426575,
           "timepoint": 43.79999923706055,
           "trajectory": "I_sol",
           "upper": 211.46979346275327
          },
          {
           "lower": 21.217701768875123,
           "timepoint": 43.900001525878906,
           "trajectory": "I_sol",
           "upper": 208.7511960506439
          },
          {
           "lower": 20.92183699607849,
           "timepoint": 44,
           "trajectory": "I_sol",
           "upper": 206.06658253669738
          },
          {
           "lower": 20.630028629302977,
           "timepoint": 44.099998474121094,
           "trajectory": "I_sol",
           "upper": 203.41538724899291
          },
          {
           "lower": 20.34222893714905,
           "timepoint": 44.19999694824219,
           "trajectory": "I_sol",
           "upper": 200.79730410575866
          },
          {
           "lower": 20.05835566520691,
           "timepoint": 44.29999923706055,
           "trajectory": "I_sol",
           "upper": 198.21157708168028
          },
          {
           "lower": 19.77839393615723,
           "timepoint": 44.400001525878906,
           "trajectory": "I_sol",
           "upper": 195.6583354949951
          },
          {
           "lower": 19.50229263305664,
           "timepoint": 44.5,
           "trajectory": "I_sol",
           "upper": 193.13715744018555
          },
          {
           "lower": 19.22998790740967,
           "timepoint": 44.599998474121094,
           "trajectory": "I_sol",
           "upper": 190.6475336074829
          },
          {
           "lower": 18.961431550979615,
           "timepoint": 44.69999694824219,
           "trajectory": "I_sol",
           "upper": 188.18911452293395
          },
          {
           "lower": 18.69658317565918,
           "timepoint": 44.79999923706055,
           "trajectory": "I_sol",
           "upper": 185.7614933013916
          },
          {
           "lower": 18.43537163734436,
           "timepoint": 44.900001525878906,
           "trajectory": "I_sol",
           "upper": 183.36434817314148
          },
          {
           "lower": 18.177773237228394,
           "timepoint": 45,
           "trajectory": "I_sol",
           "upper": 180.99741768836975
          },
          {
           "lower": 17.923727178573607,
           "timepoint": 45.099998474121094,
           "trajectory": "I_sol",
           "upper": 178.66025052070617
          },
          {
           "lower": 17.67316646575928,
           "timepoint": 45.19999694824219,
           "trajectory": "I_sol",
           "upper": 176.35210590362547
          },
          {
           "lower": 17.42607283592224,
           "timepoint": 45.29999923706055,
           "trajectory": "I_sol",
           "upper": 174.0732719898224
          },
          {
           "lower": 17.18239221572876,
           "timepoint": 45.400001525878906,
           "trajectory": "I_sol",
           "upper": 171.8231677055359
          },
          {
           "lower": 16.942088842391968,
           "timepoint": 45.5,
           "trajectory": "I_sol",
           "upper": 169.60155987739563
          },
          {
           "lower": 16.705107498168946,
           "timepoint": 45.599998474121094,
           "trajectory": "I_sol",
           "upper": 167.40798301696776
          },
          {
           "lower": 16.471424913406373,
           "timepoint": 45.69999694824219,
           "trajectory": "I_sol",
           "upper": 165.2421323299408
          },
          {
           "lower": 16.240952825546266,
           "timepoint": 45.79999923706055,
           "trajectory": "I_sol",
           "upper": 163.10358395576478
          },
          {
           "lower": 16.013675117492674,
           "timepoint": 45.900001525878906,
           "trajectory": "I_sol",
           "upper": 160.99213466644287
          },
          {
           "lower": 15.78955433368683,
           "timepoint": 46,
           "trajectory": "I_sol",
           "upper": 158.90749337673188
          },
          {
           "lower": 15.568542861938477,
           "timepoint": 46.099998474121094,
           "trajectory": "I_sol",
           "upper": 156.8492961883545
          },
          {
           "lower": 15.350574183464051,
           "timepoint": 46.20000076293945,
           "trajectory": "I_sol",
           "upper": 154.81684572696685
          },
          {
           "lower": 15.13564908504486,
           "timepoint": 46.29999923706055,
           "trajectory": "I_sol",
           "upper": 152.81047451496124
          },
          {
           "lower": 14.923699855804443,
           "timepoint": 46.400001525878906,
           "trajectory": "I_sol",
           "upper": 150.82951402664185
          },
          {
           "lower": 14.714701938629151,
           "timepoint": 46.5,
           "trajectory": "I_sol",
           "upper": 148.87378950119017
          },
          {
           "lower": 14.508582949638367,
           "timepoint": 46.599998474121094,
           "trajectory": "I_sol",
           "upper": 146.9429212808609
          },
          {
           "lower": 14.305338168144226,
           "timepoint": 46.70000076293945,
           "trajectory": "I_sol",
           "upper": 145.0365621805191
          },
          {
           "lower": 14.104925060272217,
           "timepoint": 46.79999923706055,
           "trajectory": "I_sol",
           "upper": 143.1545220375061
          },
          {
           "lower": 13.907292222976686,
           "timepoint": 46.900001525878906,
           "trajectory": "I_sol",
           "upper": 141.2964078426361
          },
          {
           "lower": 13.712414169311524,
           "timepoint": 47,
           "trajectory": "I_sol",
           "upper": 139.46200141906738
          },
          {
           "lower": 13.520246171951294,
           "timepoint": 47.099998474121094,
           "trajectory": "I_sol",
           "upper": 137.65096793174743
          },
          {
           "lower": 13.330747747421265,
           "timepoint": 47.20000076293945,
           "trajectory": "I_sol",
           "upper": 135.86300168037414
          },
          {
           "lower": 13.143895697593688,
           "timepoint": 47.29999923706055,
           "trajectory": "I_sol",
           "upper": 134.09792797565458
          },
          {
           "lower": 12.95963966846466,
           "timepoint": 47.400001525878906,
           "trajectory": "I_sol",
           "upper": 132.35533940792084
          },
          {
           "lower": 12.777959656715392,
           "timepoint": 47.5,
           "trajectory": "I_sol",
           "upper": 130.63510482311247
          },
          {
           "lower": 12.59878842830658,
           "timepoint": 47.599998474121094,
           "trajectory": "I_sol",
           "upper": 128.93687374591826
          },
          {
           "lower": 12.422125792503358,
           "timepoint": 47.70000076293945,
           "trajectory": "I_sol",
           "upper": 127.26029922962188
          },
          {
           "lower": 12.247933793067933,
           "timepoint": 47.79999923706055,
           "trajectory": "I_sol",
           "upper": 125.60527808666228
          },
          {
           "lower": 12.076164174079896,
           "timepoint": 47.900001525878906,
           "trajectory": "I_sol",
           "upper": 123.97137410640715
          },
          {
           "lower": 11.906798911094665,
           "timepoint": 48,
           "trajectory": "I_sol",
           "upper": 122.35848515033722
          },
          {
           "lower": 11.73978316783905,
           "timepoint": 48.099998474121094,
           "trajectory": "I_sol",
           "upper": 120.76601564884186
          },
          {
           "lower": 11.575102901458742,
           "timepoint": 48.20000076293945,
           "trajectory": "I_sol",
           "upper": 119.19410219192504
          },
          {
           "lower": 11.412728714942933,
           "timepoint": 48.29999923706055,
           "trajectory": "I_sol",
           "upper": 117.6424179792404
          },
          {
           "lower": 11.252615785598756,
           "timepoint": 48.400001525878906,
           "trajectory": "I_sol",
           "upper": 116.11059203147887
          },
          {
           "lower": 11.09474093914032,
           "timepoint": 48.5,
           "trajectory": "I_sol",
           "upper": 114.59849302768707
          },
          {
           "lower": 10.939074945449828,
           "timepoint": 48.599998474121094,
           "trajectory": "I_sol",
           "upper": 113.10582308769226
          },
          {
           "lower": 10.78557906150818,
           "timepoint": 48.70000076293945,
           "trajectory": "I_sol",
           "upper": 111.63228383064269
          },
          {
           "lower": 10.634234881401063,
           "timepoint": 48.79999923706055,
           "trajectory": "I_sol",
           "upper": 110.17776587009429
          },
          {
           "lower": 10.48500075340271,
           "timepoint": 48.900001525878906,
           "trajectory": "I_sol",
           "upper": 108.74189839363098
          },
          {
           "lower": 10.33785879611969,
           "timepoint": 49,
           "trajectory": "I_sol",
           "upper": 107.32456481456757
          },
          {
           "lower": 10.192770218849184,
           "timepoint": 49.099998474121094,
           "trajectory": "I_sol",
           "upper": 105.92538001537322
          },
          {
           "lower": 10.049709296226503,
           "timepoint": 49.20000076293945,
           "trajectory": "I_sol",
           "upper": 104.5442414522171
          },
          {
           "lower": 9.908655452728272,
           "timepoint": 49.29999923706055,
           "trajectory": "I_sol",
           "upper": 103.18093843460082
          },
          {
           "lower": 9.769569706916808,
           "timepoint": 49.400001525878906,
           "trajectory": "I_sol",
           "upper": 101.83515088558197
          },
          {
           "lower": 9.632445216178894,
           "timepoint": 49.5,
           "trajectory": "I_sol",
           "upper": 100.50679171085358
          },
          {
           "lower": 9.497233414649964,
           "timepoint": 49.599998474121094,
           "trajectory": "I_sol",
           "upper": 99.19554755687713
          },
          {
           "lower": 9.363910388946532,
           "timepoint": 49.70000076293945,
           "trajectory": "I_sol",
           "upper": 97.90117864608764
          },
          {
           "lower": 9.232459163665773,
           "timepoint": 49.79999923706055,
           "trajectory": "I_sol",
           "upper": 96.62356843948363
          },
          {
           "lower": 9.102845072746277,
           "timepoint": 49.900001525878906,
           "trajectory": "I_sol",
           "upper": 95.3624187707901
          },
          {
           "lower": 8.975052046775819,
           "timepoint": 50,
           "trajectory": "I_sol",
           "upper": 94.11761314868926
          },
          {
           "lower": 8.849049973487855,
           "timepoint": 50.099998474121094,
           "trajectory": "I_sol",
           "upper": 92.88889701366423
          },
          {
           "lower": 8.724799132347108,
           "timepoint": 50.20000076293945,
           "trajectory": "I_sol",
           "upper": 91.67584183216094
          },
          {
           "lower": 8.602301597595215,
           "timepoint": 50.29999923706055,
           "trajectory": "I_sol",
           "upper": 90.47865009307861
          },
          {
           "lower": 8.481515836715698,
           "timepoint": 50.400001525878906,
           "trajectory": "I_sol",
           "upper": 89.29689316749572
          },
          {
           "lower": 8.362442326545715,
           "timepoint": 50.5,
           "trajectory": "I_sol",
           "upper": 88.13047711849212
          },
          {
           "lower": 8.245027554035186,
           "timepoint": 50.599998474121094,
           "trajectory": "I_sol",
           "upper": 86.97915338277816
          },
          {
           "lower": 8.129255759716035,
           "timepoint": 50.70000076293945,
           "trajectory": "I_sol",
           "upper": 85.84268261194228
          },
          {
           "lower": 8.015113389492036,
           "timepoint": 50.79999923706055,
           "trajectory": "I_sol",
           "upper": 84.7209918141365
          },
          {
           "lower": 7.902567207813263,
           "timepoint": 50.900001525878906,
           "trajectory": "I_sol",
           "upper": 83.61377567052841
          },
          {
           "lower": 7.791605544090271,
           "timepoint": 51,
           "trajectory": "I_sol",
           "upper": 82.5209540605545
          },
          {
           "lower": 7.6822012424469,
           "timepoint": 51.099998474121094,
           "trajectory": "I_sol",
           "upper": 81.44229426383971
          },
          {
           "lower": 7.574319052696228,
           "timepoint": 51.20000076293945,
           "trajectory": "I_sol",
           "upper": 80.37739689350128
          },
          {
           "lower": 7.467963635921478,
           "timepoint": 51.29999923706055,
           "trajectory": "I_sol",
           "upper": 79.32650071382523
          },
          {
           "lower": 7.363090062141419,
           "timepoint": 51.400001525878906,
           "trajectory": "I_sol",
           "upper": 78.2891769170761
          },
          {
           "lower": 7.259697914123535,
           "timepoint": 51.5,
           "trajectory": "I_sol",
           "upper": 77.26535320281982
          },
          {
           "lower": 7.1577577829360965,
           "timepoint": 51.599998474121094,
           "trajectory": "I_sol",
           "upper": 76.25481841564178
          },
          {
           "lower": 7.0572446346282955,
           "timepoint": 51.70000076293945,
           "trajectory": "I_sol",
           "upper": 75.2573544025421
          },
          {
           "lower": 6.958147478103638,
           "timepoint": 51.79999923706055,
           "trajectory": "I_sol",
           "upper": 74.27288107872009
          },
          {
           "lower": 6.860437178611756,
           "timepoint": 51.900001525878906,
           "trajectory": "I_sol",
           "upper": 73.30113670825958
          },
          {
           "lower": 6.764102900028229,
           "timepoint": 52,
           "trajectory": "I_sol",
           "upper": 72.34204844236373
          },
          {
           "lower": 6.66912271976471,
           "timepoint": 52.099998474121094,
           "trajectory": "I_sol",
           "upper": 71.3954272031784
          },
          {
           "lower": 6.575472664833069,
           "timepoint": 52.20000076293945,
           "trajectory": "I_sol",
           "upper": 70.4610621213913
          },
          {
           "lower": 6.483146476745606,
           "timepoint": 52.29999923706055,
           "trajectory": "I_sol",
           "upper": 69.53896732330323
          },
          {
           "lower": 6.392110037803651,
           "timepoint": 52.400001525878906,
           "trajectory": "I_sol",
           "upper": 68.62874348163605
          },
          {
           "lower": 6.302356708049775,
           "timepoint": 52.5,
           "trajectory": "I_sol",
           "upper": 67.73039747476578
          },
          {
           "lower": 6.213863873481751,
           "timepoint": 52.599998474121094,
           "trajectory": "I_sol",
           "upper": 66.8437185049057
          },
          {
           "lower": 6.126612198352814,
           "timepoint": 52.70000076293945,
           "trajectory": "I_sol",
           "upper": 65.96855376958847
          },
          {
           "lower": 6.040589392185211,
           "timepoint": 52.79999923706055,
           "trajectory": "I_sol",
           "upper": 65.10479420423508
          },
          {
           "lower": 5.9557730793952945,
           "timepoint": 52.900001525878906,
           "trajectory": "I_sol",
           "upper": 64.2522507071495
          },
          {
           "lower": 5.872151803970337,
           "timepoint": 53,
           "trajectory": "I_sol",
           "upper": 63.410821485519406
          },
          {
           "lower": 5.789705848693847,
           "timepoint": 53.099998474121094,
           "trajectory": "I_sol",
           "upper": 62.580346488952635
          },
          {
           "lower": 5.708416247367859,
           "timepoint": 53.20000076293945,
           "trajectory": "I_sol",
           "upper": 61.76065847873687
          },
          {
           "lower": 5.628271698951721,
           "timepoint": 53.29999923706055,
           "trajectory": "I_sol",
           "upper": 60.95166289806366
          },
          {
           "lower": 5.549255990982056,
           "timepoint": 53.400001525878906,
           "trajectory": "I_sol",
           "upper": 60.15325770378112
          },
          {
           "lower": 5.471350502967835,
           "timepoint": 53.5,
           "trajectory": "I_sol",
           "upper": 59.365217852592465
          },
          {
           "lower": 5.39454015493393,
           "timepoint": 53.599998474121094,
           "trajectory": "I_sol",
           "upper": 58.587441360950464
          },
          {
           "lower": 5.3188078761100765,
           "timepoint": 53.70000076293945,
           "trajectory": "I_sol",
           "upper": 57.819775545597075
          },
          {
           "lower": 5.244143128395081,
           "timepoint": 53.79999923706055,
           "trajectory": "I_sol",
           "upper": 57.062140345573425
          },
          {
           "lower": 5.170525765419006,
           "timepoint": 53.900001525878906,
           "trajectory": "I_sol",
           "upper": 56.314350390434264
          },
          {
           "lower": 5.097946536540985,
           "timepoint": 54,
           "trajectory": "I_sol",
           "upper": 55.57633291482925
          },
          {
           "lower": 5.026388561725616,
           "timepoint": 54.099998474121094,
           "trajectory": "I_sol",
           "upper": 54.84793885946274
          },
          {
           "lower": 4.955834352970124,
           "timepoint": 54.20000076293945,
           "trajectory": "I_sol",
           "upper": 54.12901190519332
          },
          {
           "lower": 4.886275720596314,
           "timepoint": 54.29999923706055,
           "trajectory": "I_sol",
           "upper": 53.41948657035827
          },
          {
           "lower": 4.817684257030487,
           "timepoint": 54.400001525878906,
           "trajectory": "I_sol",
           "upper": 52.7191878914833
          },
          {
           "lower": 4.750072407722474,
           "timepoint": 54.5,
           "trajectory": "I_sol",
           "upper": 52.02816350460052
          },
          {
           "lower": 4.683406686782837,
           "timepoint": 54.599998474121094,
           "trajectory": "I_sol",
           "upper": 51.346064710617064
          },
          {
           "lower": 4.617676687240601,
           "timepoint": 54.70000076293945,
           "trajectory": "I_sol",
           "upper": 50.67284398078918
          },
          {
           "lower": 4.5528729319572445,
           "timepoint": 54.79999923706055,
           "trajectory": "I_sol",
           "upper": 50.00842853784561
          },
          {
           "lower": 4.488979184627533,
           "timepoint": 54.900001525878906,
           "trajectory": "I_sol",
           "upper": 49.35267297029495
          },
          {
           "lower": 4.425985962152481,
           "timepoint": 55,
           "trajectory": "I_sol",
           "upper": 48.70549365878105
          },
          {
           "lower": 4.363878774642945,
           "timepoint": 55.099998474121094,
           "trajectory": "I_sol",
           "upper": 48.066763353347774
          },
          {
           "lower": 4.302643132209778,
           "timepoint": 55.20000076293945,
           "trajectory": "I_sol",
           "upper": 47.436354804039
          },
          {
           "lower": 4.242270880937577,
           "timepoint": 55.29999923706055,
           "trajectory": "I_sol",
           "upper": 46.81419891715049
          },
          {
           "lower": 4.182744985818863,
           "timepoint": 55.400001525878906,
           "trajectory": "I_sol",
           "upper": 46.200139397382735
          },
          {
           "lower": 4.1240639090538025,
           "timepoint": 55.5,
           "trajectory": "I_sol",
           "upper": 45.59412556886673
          },
          {
           "lower": 4.066209208965302,
           "timepoint": 55.599998474121094,
           "trajectory": "I_sol",
           "upper": 44.99612032175064
          },
          {
           "lower": 4.009163063764572,
           "timepoint": 55.70000076293945,
           "trajectory": "I_sol",
           "upper": 44.40584083199501
          },
          {
           "lower": 3.9529214382171634,
           "timepoint": 55.79999923706055,
           "trajectory": "I_sol",
           "upper": 43.823294115066524
          },
          {
           "lower": 3.8974688529968264,
           "timepoint": 55.900001525878906,
           "trajectory": "I_sol",
           "upper": 43.24833841323852
          },
          {
           "lower": 3.84279859662056,
           "timepoint": 56,
           "trajectory": "I_sol",
           "upper": 42.68091916441917
          },
          {
           "lower": 3.788897466659546,
           "timepoint": 56.099998474121094,
           "trajectory": "I_sol",
           "upper": 42.12091641426086
          },
          {
           "lower": 3.735752946138382,
           "timepoint": 56.20000076293945,
           "trajectory": "I_sol",
           "upper": 41.568221086263655
          },
          {
           "lower": 3.6833578646183014,
           "timepoint": 56.29999923706055,
           "trajectory": "I_sol",
           "upper": 41.02276775240898
          },
          {
           "lower": 3.6316980719566345,
           "timepoint": 56.400001525878906,
           "trajectory": "I_sol",
           "upper": 40.4844291806221
          },
          {
           "lower": 3.580766934156418,
           "timepoint": 56.5,
           "trajectory": "I_sol",
           "upper": 39.95315442681312
          },
          {
           "lower": 3.530551886558533,
           "timepoint": 56.599998474121094,
           "trajectory": "I_sol",
           "upper": 39.42881634235382
          },
          {
           "lower": 3.4810444474220277,
           "timepoint": 56.70000076293945,
           "trajectory": "I_sol",
           "upper": 38.91136749982834
          },
          {
           "lower": 3.4322333693504334,
           "timepoint": 56.79999923706055,
           "trajectory": "I_sol",
           "upper": 38.400673592090605
          },
          {
           "lower": 3.3841072380542756,
           "timepoint": 56.900001525878906,
           "trajectory": "I_sol",
           "upper": 37.89664005637169
          },
          {
           "lower": 3.3366602182388307,
           "timepoint": 57,
           "trajectory": "I_sol",
           "upper": 37.39922683238983
          },
          {
           "lower": 3.28988077044487,
           "timepoint": 57.099998474121094,
           "trajectory": "I_sol",
           "upper": 36.90831766724586
          },
          {
           "lower": 3.243757742643356,
           "timepoint": 57.20000076293945,
           "trajectory": "I_sol",
           "upper": 36.423814398050304
          },
          {
           "lower": 3.1982856392860413,
           "timepoint": 57.29999923706055,
           "trajectory": "I_sol",
           "upper": 35.9456769824028
          },
          {
           "lower": 3.153451478481293,
           "timepoint": 57.400001525878906,
           "trajectory": "I_sol",
           "upper": 35.47377463579178
          },
          {
           "lower": 3.109247463941574,
           "timepoint": 57.5,
           "trajectory": "I_sol",
           "upper": 35.00807080864906
          },
          {
           "lower": 3.0656670451164247,
           "timepoint": 57.599998474121094,
           "trajectory": "I_sol",
           "upper": 34.548460352420804
          },
          {
           "lower": 3.022698092460632,
           "timepoint": 57.70000076293945,
           "trajectory": "I_sol",
           "upper": 34.094852280616756
          },
          {
           "lower": 2.9803367078304293,
           "timepoint": 57.79999923706055,
           "trajectory": "I_sol",
           "upper": 33.64722831845283
          },
          {
           "lower": 2.9385683834552765,
           "timepoint": 57.900001525878906,
           "trajectory": "I_sol",
           "upper": 33.20542868971825
          },
          {
           "lower": 2.8973894834518434,
           "timepoint": 58,
           "trajectory": "I_sol",
           "upper": 32.76943151950836
          },
          {
           "lower": 2.856789690256119,
           "timepoint": 58.099998474121094,
           "trajectory": "I_sol",
           "upper": 32.33914591670036
          },
          {
           "lower": 2.8167591750621797,
           "timepoint": 58.20000076293945,
           "trajectory": "I_sol",
           "upper": 31.914477401971816
          },
          {
           "lower": 2.7772935390472413,
           "timepoint": 58.29999923706055,
           "trajectory": "I_sol",
           "upper": 31.49538960456848
          },
          {
           "lower": 2.738381552696228,
           "timepoint": 58.400001525878906,
           "trajectory": "I_sol",
           "upper": 31.081780743598937
          },
          {
           "lower": 2.7000190377235413,
           "timepoint": 58.5,
           "trajectory": "I_sol",
           "upper": 30.673603618144988
          },
          {
           "lower": 2.662195473909378,
           "timepoint": 58.599998474121094,
           "trajectory": "I_sol",
           "upper": 30.270776361227036
          },
          {
           "lower": 2.624902755022049,
           "timepoint": 58.70000076293945,
           "trajectory": "I_sol",
           "upper": 29.87321361899376
          },
          {
           "lower": 2.5881357431411747,
           "timepoint": 58.79999923706055,
           "trajectory": "I_sol",
           "upper": 29.480873560905454
          },
          {
           "lower": 2.551884722709656,
           "timepoint": 58.900001525878906,
           "trajectory": "I_sol",
           "upper": 29.093661713600156
          },
          {
           "lower": 2.516144096851349,
           "timepoint": 59,
           "trajectory": "I_sol",
           "upper": 28.71152538061142
          },
          {
           "lower": 2.4809069097042085,
           "timepoint": 59.099998474121094,
           "trajectory": "I_sol",
           "upper": 28.33441179394722
          },
          {
           "lower": 2.4461640298366545,
           "timepoint": 59.20000076293945,
           "trajectory": "I_sol",
           "upper": 27.962224704027175
          },
          {
           "lower": 2.4119110226631166,
           "timepoint": 59.29999923706055,
           "trajectory": "I_sol",
           "upper": 27.594931352138516
          },
          {
           "lower": 2.3781386077404023,
           "timepoint": 59.400001525878906,
           "trajectory": "I_sol",
           "upper": 27.232439094781874
          },
          {
           "lower": 2.344839328527451,
           "timepoint": 59.5,
           "trajectory": "I_sol",
           "upper": 26.87471140027046
          },
          {
           "lower": 2.3120106160640717,
           "timepoint": 59.599998474121094,
           "trajectory": "I_sol",
           "upper": 26.52167585492134
          },
          {
           "lower": 2.2796422362327577,
           "timepoint": 59.70000076293945,
           "trajectory": "I_sol",
           "upper": 26.173256027698514
          },
          {
           "lower": 2.247730168700218,
           "timepoint": 59.79999923706055,
           "trajectory": "I_sol",
           "upper": 25.82941737473011
          },
          {
           "lower": 2.2162656843662263,
           "timepoint": 59.900001525878906,
           "trajectory": "I_sol",
           "upper": 25.490074509382247
          },
          {
           "lower": 2.1852449744939806,
           "timepoint": 60,
           "trajectory": "I_sol",
           "upper": 25.155200126767156
          },
          {
           "lower": 2.1546599715948105,
           "timepoint": 60.099998474121094,
           "trajectory": "I_sol",
           "upper": 24.824710682034492
          },
          {
           "lower": 2.124504894018173,
           "timepoint": 60.20000076293945,
           "trajectory": "I_sol",
           "upper": 24.498560696840286
          },
          {
           "lower": 2.0947740256786345,
           "timepoint": 60.29999923706055,
           "trajectory": "I_sol",
           "upper": 24.176686626672744
          },
          {
           "lower": 2.0654602348804474,
           "timepoint": 60.400001525878906,
           "trajectory": "I_sol",
           "upper": 23.859024852514267
          },
          {
           "lower": 2.036557838320732,
           "timepoint": 60.5,
           "trajectory": "I_sol",
           "upper": 23.545537129044533
          },
          {
           "lower": 2.0080628395080566,
           "timepoint": 60.599998474121094,
           "trajectory": "I_sol",
           "upper": 23.23616361618042
          },
          {
           "lower": 1.9799674451351166,
           "timepoint": 60.70000076293945,
           "trajectory": "I_sol",
           "upper": 22.930838853120804
          },
          {
           "lower": 1.9522678047418596,
           "timepoint": 60.79999923706055,
           "trajectory": "I_sol",
           "upper": 22.6295283049345
          },
          {
           "lower": 1.9249563097953797,
           "timepoint": 60.900001525878906,
           "trajectory": "I_sol",
           "upper": 22.332159292697906
          },
          {
           "lower": 1.898029336333275,
           "timepoint": 61,
           "trajectory": "I_sol",
           "upper": 22.038697293400762
          },
          {
           "lower": 1.8714808523654938,
           "timepoint": 61.099998474121094,
           "trajectory": "I_sol",
           "upper": 21.749087780714035
          },
          {
           "lower": 1.8453040629625321,
           "timepoint": 61.20000076293945,
           "trajectory": "I_sol",
           "upper": 21.463261732459067
          },
          {
           "lower": 1.8194994240999223,
           "timepoint": 61.29999923706055,
           "trajectory": "I_sol",
           "upper": 21.181258925795554
          },
          {
           "lower": 1.794053813815117,
           "timepoint": 61.400001525878906,
           "trajectory": "I_sol",
           "upper": 20.902899780869483
          },
          {
           "lower": 1.7689666390419008,
           "timepoint": 61.5,
           "trajectory": "I_sol",
           "upper": 20.62820414304733
          },
          {
           "lower": 1.7442320555448532,
           "timepoint": 61.599998474121094,
           "trajectory": "I_sol",
           "upper": 20.35711568892002
          },
          {
           "lower": 1.719844028353691,
           "timepoint": 61.70000076293945,
           "trajectory": "I_sol",
           "upper": 20.089574471116066
          },
          {
           "lower": 1.6957995235919954,
           "timepoint": 61.79999923706055,
           "trajectory": "I_sol",
           "upper": 19.825555032491682
          },
          {
           "lower": 1.6720920324325563,
           "timepoint": 61.900001525878906,
           "trajectory": "I_sol",
           "upper": 19.56499378681183
          },
          {
           "lower": 1.648718425631523,
           "timepoint": 62,
           "trajectory": "I_sol",
           "upper": 19.307863464951513
          }
         ]
        },
        {
         "name": "traces",
         "transform": [
          {
           "expr": "isValid(datum.value)",
           "type": "filter"
          }
         ],
         "values": []
        },
        {
         "name": "points",
         "values": [
          {
           "sample_id": 0,
           "timepoint": 0,
           "trajectory": "I_data",
           "value": 0
          },
          {
           "sample_id": 0,
           "timepoint": 1,
           "trajectory": "I_data",
           "value": 0
          },
          {
           "sample_id": 0,
           "timepoint": 2,
           "trajectory": "I_data",
           "value": 1
          },
          {
           "sample_id": 0,
           "timepoint": 3,
           "trajectory": "I_data",
           "value": 10
          },
          {
           "sample_id": 0,
           "timepoint": 4,
           "trajectory": "I_data",
           "value": 21
          },
          {
           "sample_id": 0,
           "timepoint": 5,
           "trajectory": "I_data",
           "value": 24
          },
          {
           "sample_id": 0,
           "timepoint": 6,
           "trajectory": "I_data",
           "value": 76
          },
          {
           "sample_id": 0,
           "timepoint": 7,
           "trajectory": "I_data",
           "value": 104
          },
          {
           "sample_id": 0,
           "timepoint": 8,
           "trajectory": "I_data",
           "value": 128
          },
          {
           "sample_id": 0,
           "timepoint": 9,
           "trajectory": "I_data",
           "value": 131
          },
          {
           "sample_id": 0,
           "timepoint": 10,
           "trajectory": "I_data",
           "value": 192
          },
          {
           "sample_id": 0,
           "timepoint": 11,
           "trajectory": "I_data",
           "value": 220
          },
          {
           "sample_id": 0,
           "timepoint": 12,
           "trajectory": "I_data",
           "value": 274
          },
          {
           "sample_id": 0,
           "timepoint": 13,
           "trajectory": "I_data",
           "value": 394
          },
          {
           "sample_id": 0,
           "timepoint": 14,
           "trajectory": "I_data",
           "value": 481
          },
          {
           "sample_id": 0,
           "timepoint": 15,
           "trajectory": "I_data",
           "value": 745
          },
          {
           "sample_id": 0,
           "timepoint": 16,
           "trajectory": "I_data",
           "value": 1111
          },
          {
           "sample_id": 0,
           "timepoint": 17,
           "trajectory": "I_data",
           "value": 2128
          },
          {
           "sample_id": 0,
           "timepoint": 18,
           "trajectory": "I_data",
           "value": 3671
          },
          {
           "sample_id": 0,
           "timepoint": 19,
           "trajectory": "I_data",
           "value": 6578
          },
          {
           "sample_id": 0,
           "timepoint": 20,
           "trajectory": "I_data",
           "value": 9449
          },
          {
           "sample_id": 0,
           "timepoint": 21,
           "trajectory": "I_data",
           "value": 13761
          },
          {
           "sample_id": 0,
           "timepoint": 22,
           "trajectory": "I_data",
           "value": 18270
          },
          {
           "sample_id": 0,
           "timepoint": 23,
           "trajectory": "I_data",
           "value": 21478
          },
          {
           "sample_id": 0,
           "timepoint": 24,
           "trajectory": "I_data",
           "value": 23630
          },
          {
           "sample_id": 0,
           "timepoint": 25,
           "trajectory": "I_data",
           "value": 26987
          },
          {
           "sample_id": 0,
           "timepoint": 26,
           "trajectory": "I_data",
           "value": 29533
          },
          {
           "sample_id": 0,
           "timepoint": 27,
           "trajectory": "I_data",
           "value": 31623
          },
          {
           "sample_id": 0,
           "timepoint": 28,
           "trajectory": "I_data",
           "value": 33967
          },
          {
           "sample_id": 0,
           "timepoint": 29,
           "trajectory": "I_data",
           "value": 35822
          },
          {
           "sample_id": 0,
           "timepoint": 30,
           "trajectory": "I_data",
           "value": 38456
          },
          {
           "sample_id": 0,
           "timepoint": 31,
           "trajectory": "I_data",
           "value": 45676
          },
          {
           "sample_id": 0,
           "timepoint": 32,
           "trajectory": "I_data",
           "value": 48380
          },
          {
           "sample_id": 0,
           "timepoint": 33,
           "trajectory": "I_data",
           "value": 51807
          },
          {
           "sample_id": 0,
           "timepoint": 34,
           "trajectory": "I_data",
           "value": 55042
          },
          {
           "sample_id": 0,
           "timepoint": 35,
           "trajectory": "I_data",
           "value": 56847
          },
          {
           "sample_id": 0,
           "timepoint": 36,
           "trajectory": "I_data",
           "value": 52184
          },
          {
           "sample_id": 0,
           "timepoint": 37,
           "trajectory": "I_data",
           "value": 49194
          },
          {
           "sample_id": 0,
           "timepoint": 38,
           "trajectory": "I_data",
           "value": 48730
          },
          {
           "sample_id": 0,
           "timepoint": 39,
           "trajectory": "I_data",
           "value": 50551
          },
          {
           "sample_id": 0,
           "timepoint": 40,
           "trajectory": "I_data",
           "value": 51029
          },
          {
           "sample_id": 0,
           "timepoint": 41,
           "trajectory": "I_data",
           "value": 49701
          },
          {
           "sample_id": 0,
           "timepoint": 42,
           "trajectory": "I_data",
           "value": 50661
          },
          {
           "sample_id": 0,
           "timepoint": 43,
           "trajectory": "I_data",
           "value": 48303
          },
          {
           "sample_id": 0,
           "timepoint": 44,
           "trajectory": "I_data",
           "value": 43703
          },
          {
           "sample_id": 0,
           "timepoint": 45,
           "trajectory": "I_data",
           "value": 38888
          },
          {
           "sample_id": 0,
           "timepoint": 46,
           "trajectory": "I_data",
           "value": 38244
          },
          {
           "sample_id": 0,
           "timepoint": 47,
           "trajectory": "I_data",
           "value": 36857
          },
          {
           "sample_id": 0,
           "timepoint": 48,
           "trajectory": "I_data",
           "value": 35881
          },
          {
           "sample_id": 0,
           "timepoint": 49,
           "trajectory": "I_data",
           "value": 35054
          },
          {
           "sample_id": 0,
           "timepoint": 50,
           "trajectory": "I_data",
           "value": 34782
          },
          {
           "sample_id": 0,
           "timepoint": 51,
           "trajectory": "I_data",
           "value": 31526
          },
          {
           "sample_id": 0,
           "timepoint": 52,
           "trajectory": "I_data",
           "value": 28799
          },
          {
           "sample_id": 0,
           "timepoint": 53,
           "trajectory": "I_data",
           "value": 27419
          },
          {
           "sample_id": 0,
           "timepoint": 54,
           "trajectory": "I_data",
           "value": 27443
          },
          {
           "sample_id": 0,
           "timepoint": 55,
           "trajectory": "I_data",
           "value": 30499
          },
          {
           "sample_id": 0,
           "timepoint": 56,
           "trajectory": "I_data",
           "value": 31543
          },
          {
           "sample_id": 0,
           "timepoint": 57,
           "trajectory": "I_data",
           "value": 31597
          },
          {
           "sample_id": 0,
           "timepoint": 58,
           "trajectory": "I_data",
           "value": 29008
          },
          {
           "sample_id": 0,
           "timepoint": 59,
           "trajectory": "I_data",
           "value": 25476
          },
          {
           "sample_id": 0,
           "timepoint": 60,
           "trajectory": "I_data",
           "value": 20411
          },
          {
           "sample_id": 0,
           "timepoint": 61,
           "trajectory": "I_data",
           "value": 19224
          },
          {
           "sample_id": 0,
           "timepoint": 40,
           "trajectory": "H_data",
           "value": 0
          },
          {
           "sample_id": 0,
           "timepoint": 41,
           "trajectory": "H_data",
           "value": 0
          },
          {
           "sample_id": 0,
           "timepoint": 47,
           "trajectory": "H_data",
           "value": 0
          },
          {
           "sample_id": 0,
           "timepoint": 48,
           "trajectory": "H_data",
           "value": 1
          },
          {
           "sample_id": 0,
           "timepoint": 54,
           "trajectory": "H_data",
           "value": 0
          },
          {
           "sample_id": 0,
           "timepoint": 55,
           "trajectory": "H_data",
           "value": 0
          },
          {
           "sample_id": 0,
           "timepoint": 56,
           "trajectory": "H_data",
           "value": 1
          },
          {
           "sample_id": 0,
           "timepoint": 57,
           "trajectory": "H_data",
           "value": 0
          },
          {
           "sample_id": 0,
           "timepoint": 58,
           "trajectory": "H_data",
           "value": 0
          },
          {
           "sample_id": 0,
           "timepoint": 59,
           "trajectory": "H_data",
           "value": 0
          },
          {
           "sample_id": 0,
           "timepoint": 60,
           "trajectory": "H_data",
           "value": 0
          },
          {
           "sample_id": 0,
           "timepoint": 61,
           "trajectory": "H_data",
           "value": 0
          },
          {
           "sample_id": 0,
           "timepoint": 0,
           "trajectory": "D_data",
           "value": 0
          },
          {
           "sample_id": 0,
           "timepoint": 1,
           "trajectory": "D_data",
           "value": 0
          },
          {
           "sample_id": 0,
           "timepoint": 2,
           "trajectory": "D_data",
           "value": 0
          },
          {
           "sample_id": 0,
           "timepoint": 3,
           "trajectory": "D_data",
           "value": 0
          },
          {
           "sample_id": 0,
           "timepoint": 4,
           "trajectory": "D_data",
           "value": 0
          },
          {
           "sample_id": 0,
           "timepoint": 5,
           "trajectory": "D_data",
           "value": 0
          },
          {
           "sample_id": 0,
           "timepoint": 6,
           "trajectory": "D_data",
           "value": 0
          },
          {
           "sample_id": 0,
           "timepoint": 7,
           "trajectory": "D_data",
           "value": 0
          },
          {
           "sample_id": 0,
           "timepoint": 8,
           "trajectory": "D_data",
           "value": 0
          },
          {
           "sample_id": 0,
           "timepoint": 9,
           "trajectory": "D_data",
           "value": 0
          },
          {
           "sample_id": 0,
           "timepoint": 10,
           "trajectory": "D_data",
           "value": 1
          },
          {
           "sample_id": 0,
           "timepoint": 11,
           "trajectory": "D_data",
           "value": 1
          },
          {
           "sample_id": 0,
           "timepoint": 12,
           "trajectory": "D_data",
           "value": 1
          },
          {
           "sample_id": 0,
           "timepoint": 13,
           "trajectory": "D_data",
           "value": 4
          },
          {
           "sample_id": 0,
           "timepoint": 14,
           "trajectory": "D_data",
           "value": 9
          },
          {
           "sample_id": 0,
           "timepoint": 15,
           "trajectory": "D_data",
           "value": 19
          },
          {
           "sample_id": 0,
           "timepoint": 16,
           "trajectory": "D_data",
           "value": 30
          },
          {
           "sample_id": 0,
           "timepoint": 17,
           "trajectory": "D_data",
           "value": 51
          },
          {
           "sample_id": 0,
           "timepoint": 18,
           "trajectory": "D_data",
           "value": 77
          },
          {
           "sample_id": 0,
           "timepoint": 19,
           "trajectory": "D_data",
           "value": 129
          },
          {
           "sample_id": 0,
           "timepoint": 20,
           "trajectory": "D_data",
           "value": 175
          },
          {
           "sample_id": 0,
           "timepoint": 21,
           "trajectory": "D_data",
           "value": 226
          },
          {
           "sample_id": 0,
           "timepoint": 22,
           "trajectory": "D_data",
           "value": 315
          },
          {
           "sample_id": 0,
           "timepoint": 23,
           "trajectory": "D_data",
           "value": 427
          },
          {
           "sample_id": 0,
           "timepoint": 24,
           "trajectory": "D_data",
           "value": 565
          },
          {
           "sample_id": 0,
           "timepoint": 25,
           "trajectory": "D_data",
           "value": 759
          },
          {
           "sample_id": 0,
           "timepoint": 26,
           "trajectory": "D_data",
           "value": 984
          },
          {
           "sample_id": 0,
           "timepoint": 27,
           "trajectory": "D_data",
           "value": 1285
          },
          {
           "sample_id": 0,
           "timepoint": 28,
           "trajectory": "D_data",
           "value": 1603
          },
          {
           "sample_id": 0,
           "timepoint": 29,
           "trajectory": "D_data",
           "value": 1930
          },
          {
           "sample_id": 0,
           "timepoint": 30,
           "trajectory": "D_data",
           "value": 2334
          },
          {
           "sample_id": 0,
           "timepoint": 31,
           "trajectory": "D_data",
           "value": 2859
          },
          {
           "sample_id": 0,
           "timepoint": 32,
           "trajectory": "D_data",
           "value": 3420
          },
          {
           "sample_id": 0,
           "timepoint": 33,
           "trajectory": "D_data",
           "value": 3989
          },
          {
           "sample_id": 0,
           "timepoint": 34,
           "trajectory": "D_data",
           "value": 4634
          },
          {
           "sample_id": 0,
           "timepoint": 35,
           "trajectory": "D_data",
           "value": 5384
          },
          {
           "sample_id": 0,
           "timepoint": 36,
           "trajectory": "D_data",
           "value": 6185
          },
          {
           "sample_id": 0,
           "timepoint": 37,
           "trajectory": "D_data",
           "value": 7241
          },
          {
           "sample_id": 0,
           "timepoint": 38,
           "trajectory": "D_data",
           "value": 7985
          },
          {
           "sample_id": 0,
           "timepoint": 39,
           "trajectory": "D_data",
           "value": 8846
          },
          {
           "sample_id": 0,
           "timepoint": 40,
           "trajectory": "D_data",
           "value": 9579
          },
          {
           "sample_id": 0,
           "timepoint": 41,
           "trajectory": "D_data",
           "value": 10345
          },
          {
           "sample_id": 0,
           "timepoint": 42,
           "trajectory": "D_data",
           "value": 11126
          },
          {
           "sample_id": 0,
           "timepoint": 43,
           "trajectory": "D_data",
           "value": 11930
          },
          {
           "sample_id": 0,
           "timepoint": 44,
           "trajectory": "D_data",
           "value": 12669
          },
          {
           "sample_id": 0,
           "timepoint": 45,
           "trajectory": "D_data",
           "value": 13332
          },
          {
           "sample_id": 0,
           "timepoint": 46,
           "trajectory": "D_data",
           "value": 13987
          },
          {
           "sample_id": 0,
           "timepoint": 47,
           "trajectory": "D_data",
           "value": 14371
          },
          {
           "sample_id": 0,
           "timepoint": 48,
           "trajectory": "D_data",
           "value": 14780
          },
          {
           "sample_id": 0,
           "timepoint": 49,
           "trajectory": "D_data",
           "value": 15225
          },
          {
           "sample_id": 0,
           "timepoint": 50,
           "trajectory": "D_data",
           "value": 16116
          },
          {
           "sample_id": 0,
           "timepoint": 51,
           "trajectory": "D_data",
           "value": 16639
          },
          {
           "sample_id": 0,
           "timepoint": 52,
           "trajectory": "D_data",
           "value": 17091
          },
          {
           "sample_id": 0,
           "timepoint": 53,
           "trajectory": "D_data",
           "value": 17647
          },
          {
           "sample_id": 0,
           "timepoint": 54,
           "trajectory": "D_data",
           "value": 18132
          },
          {
           "sample_id": 0,
           "timepoint": 55,
           "trajectory": "D_data",
           "value": 18523
          },
          {
           "sample_id": 0,
           "timepoint": 56,
           "trajectory": "D_data",
           "value": 18882
          },
          {
           "sample_id": 0,
           "timepoint": 57,
           "trajectory": "D_data",
           "value": 19292
          },
          {
           "sample_id": 0,
           "timepoint": 58,
           "trajectory": "D_data",
           "value": 19602
          },
          {
           "sample_id": 0,
           "timepoint": 59,
           "trajectory": "D_data",
           "value": 20000
          },
          {
           "sample_id": 0,
           "timepoint": 60,
           "trajectory": "D_data",
           "value": 20334
          },
          {
           "sample_id": 0,
           "timepoint": 61,
           "trajectory": "D_data",
           "value": 20662
          }
         ]
        },
        {
         "name": "markers",
         "values": []
        },
        {
         "name": "selected",
         "on": [
          {
           "remove": true,
           "trigger": "clear"
          },
          {
           "remove": true,
           "trigger": "!shift"
          },
          {
           "insert": "clicked",
           "trigger": "!shift && clicked"
          },
          {
           "toggle": "clicked",
           "trigger": "shift && clicked"
          }
         ]
        }
       ],
       "height": 300,
       "legends": [
        {
         "encode": {
          "labels": {
           "interactive": true,
           "name": "legendLabel",
           "update": {
            "opacity": [
             {
              "test": "!length(data('selected')) || indata('selected', 'value', datum.value)",
              "value": 1
             },
             {
              "value": 0.25
             }
            ]
           }
          },
          "symbols": {
           "interactive": true,
           "name": "legendSymbol",
           "update": {
            "fill": {
             "value": "transparent"
            },
            "opacity": [
             {
              "test": "!length(data('selected')) || indata('selected', 'value', datum.value)",
              "value": 0.7
             },
             {
              "value": 0.15
             }
            ],
            "size": {
             "value": 64
            },
            "strokeWidth": {
             "value": 2
            }
           }
          }
         },
         "name": "color_legend",
         "stroke": "color"
        }
       ],
       "marks": [
        {
         "from": {
          "facet": {
           "data": "points",
           "groupby": "trajectory",
           "name": "points_split"
          }
         },
         "marks": [
          {
           "encode": {
            "hover": {
             "fillOpacity": {
              "value": 0.9
             }
            },
            "update": {
             "fill": {
              "field": "trajectory",
              "scale": "color"
             },
             "fillOpacity": [
              {
               "test": "!length(data('selected')) || indata('selected', 'value', datum.trajectory)",
               "value": 0.5
              },
              {
               "value": 0.15
              }
             ],
             "size": {
              "value": 10
             },
             "stroke": {
              "field": "trajectory",
              "scale": "color"
             },
             "strokeOpacity": [
              {
               "test": "!length(data('selected')) || indata('selected', 'value', datum.trajectory)",
               "value": 0.75
              },
              {
               "value": 0.15
              }
             ],
             "strokeWidth": {
              "value": 2
             },
             "tooltip": {
              "field": "value"
             },
             "x": {
              "field": "timepoint",
              "scale": "xscale"
             },
             "y": {
              "field": "value",
              "scale": "yscale"
             }
            }
           },
           "from": {
            "data": "points_split"
           },
           "name": "_points_symbol",
           "type": "symbol",
           "zindex": 3
          },
          {
           "encode": {
            "hover": {
             "fillOpacity": {
              "value": 0.9
             }
            },
            "update": {
             "interpolate": {
              "value": "linear"
             },
             "stroke": {
              "field": "trajectory",
              "scale": "color"
             },
             "strokeOpacity": [
              {
               "test": "!length(data('selected')) || indata('selected', 'value', datum.trajectory)",
               "value": 0.3
              },
              {
               "value": 0.1
              }
             ],
             "strokeWidth": {
              "value": 2
             },
             "x": {
              "field": "timepoint",
              "scale": "xscale"
             },
             "y": {
              "field": "value",
              "scale": "yscale"
             }
            }
           },
           "from": {
            "data": "points_split"
           },
           "name": "_points_line",
           "type": "line",
           "zindex": 3
          }
         ],
         "name": "_points",
         "type": "group",
         "zindex": 3
        },
        {
         "from": {
          "facet": {
           "data": "traces",
           "groupby": "trajectory",
           "name": "traces_split"
          }
         },
         "marks": [
          {
           "encode": {
            "hover": {
             "fillOpacity": {
              "value": 0.9
             }
            },
            "update": {
             "interpolate": {
              "value": "linear"
             },
             "stroke": {
              "field": "trajectory",
              "scale": "color"
             },
             "strokeOpacity": [
              {
               "test": "!length(data('selected')) || indata('selected', 'value', datum.trajectory)",
               "value": 0.75
              },
              {
               "value": 0.15
              }
             ],
             "strokeWidth": {
              "value": 2
             },
             "x": {
              "field": "timepoint",
              "scale": "xscale"
             },
             "y": {
              "field": "value",
              "scale": "yscale"
             }
            }
           },
           "from": {
            "data": "traces_split"
           },
           "name": "_traces_lines",
           "type": "line"
          }
         ],
         "name": "_traces",
         "type": "group",
         "zindex": 2
        },
        {
         "from": {
          "facet": {
           "data": "distributions",
           "groupby": "trajectory",
           "name": "trajectory_split"
          }
         },
         "marks": [
          {
           "encode": {
            "hover": {
             "fillOpacity": {
              "value": 0.9
             }
            },
            "update": {
             "fill": {
              "field": "trajectory",
              "scale": "color"
             },
             "fillOpacity": [
              {
               "test": "!length(data('selected')) || indata('selected', 'value', datum.trajectory)",
               "value": 0.5
              },
              {
               "value": 0.15
              }
             ],
             "interpolate": {
              "value": "linear"
             },
             "stroke": {
              "field": "trajectory",
              "scale": "color"
             },
             "strokeOpacity": [
              {
               "test": "!length(data('selected')) || indata('selected', 'value', datum.trajectory)",
               "value": 0.75
              },
              {
               "value": 0.15
              }
             ],
             "strokeWidth": {
              "value": 2
             },
             "x": {
              "field": "timepoint",
              "scale": "xscale"
             },
             "y": {
              "field": "upper",
              "scale": "yscale"
             },
             "y2": {
              "field": "lower",
              "scale": "yscale"
             }
            }
           },
           "from": {
            "data": "trajectory_split"
           },
           "type": "area"
          }
         ],
         "name": "_distributions",
         "type": "group",
         "zindex": 1
        },
        {
         "marks": [
          {
           "encode": {
            "enter": {
             "stroke": {
              "value": "lightgray"
             }
            },
            "update": {
             "opacity": {
              "value": 1
             },
             "x": {
              "field": "timepoint",
              "scale": "xscale"
             },
             "y": {
              "signal": "height"
             },
             "y2": {
              "value": 0
             }
            }
           },
           "from": {
            "data": "markers"
           },
           "name": "_marker text",
           "type": "rule"
          },
          {
           "encode": {
            "enter": {
             "fontSize": {
              "value": 8
             },
             "text": {
              "field": "datum.label"
             },
             "y": {
              "value": 0
             }
            }
           },
           "from": {
            "data": "_marker text"
           },
           "name": "_marker flags",
           "transform": [
            {
             "as": [
              "x",
              "_y",
              "opacity",
              "align",
              "baseline"
             ],
             "lineAnchor": "start",
             "offset": [
              1
             ],
             "size": {
              "signal": "[width, height]"
             },
             "type": "label"
            }
           ],
           "type": "text"
          }
         ],
         "name": "_markers",
         "type": "group"
        }
       ],
       "padding": 5,
       "scales": [
        {
         "domain": {
          "fields": [
           {
            "data": "distributions",
            "field": "timepoint"
           },
           {
            "data": "traces",
            "field": "timepoint"
           },
           {
            "data": "points",
            "field": "timepoint"
           },
           {
            "data": "markers",
            "field": "timepoint"
           }
          ]
         },
         "name": "xscale",
         "range": "width",
         "type": "linear",
         "zero": false
        },
        {
         "domain": {
          "fields": [
           {
            "data": "distributions",
            "field": "lower"
           },
           {
            "data": "distributions",
            "field": "upper"
           },
           {
            "data": "traces",
            "field": "value"
           },
           {
            "data": "points",
            "field": "value"
           }
          ]
         },
         "name": "yscale",
         "nice": true,
         "range": "height",
         "type": "linear",
         "zero": true
        },
        {
         "domain": {
          "fields": [
           {
            "data": "distributions",
            "field": "trajectory"
           },
           {
            "data": "traces",
            "field": "trajectory"
           },
           {
            "data": "points",
            "field": "trajectory"
           }
          ]
         },
         "name": "color",
         "range": "category",
         "type": "ordinal"
        }
       ],
       "signals": [
        {
         "name": "clear",
         "on": [
          {
           "events": "mouseup[!event.item]",
           "force": true,
           "update": "true"
          }
         ],
         "value": true
        },
        {
         "name": "shift",
         "on": [
          {
           "events": "@legendSymbol:click, @legendLabel:click",
           "force": true,
           "update": "event.shiftKey"
          }
         ],
         "value": false
        },
        {
         "name": "clicked",
         "on": [
          {
           "events": "@legendSymbol:click, @legendLabel:click",
           "force": true,
           "update": "{value: datum.value}"
          }
         ],
         "value": null
        }
       ],
       "width": 500
      }
     },
     "metadata": {},
     "output_type": "display_data"
    }
   ],
   "source": [
    "schema = plots.trajectories(pd.DataFrame(prior_samples[\"data\"]), keep=\"I.*_sol\",\n",
    "                            points=all_data1.reset_index(drop=True).rename(columns={\"I\":\"I_data\", \"H\":\"H_data\", \"D\":\"D_data\"}))\n",
    "schema = plots.pad(schema, 5)\n",
    "plots.ipy_display(schema)"
   ]
  },
  {
   "cell_type": "code",
   "execution_count": 10,
   "id": "7448e4a2-1903-4a0f-bf0a-916069b5b4db",
   "metadata": {},
   "outputs": [
    {
     "name": "stdout",
     "output_type": "stream",
     "text": [
      "iteration 0: loss = 743.5768550932407\n",
      "iteration 25: loss = 726.1113821566105\n"
     ]
    },
    {
     "ename": "KeyboardInterrupt",
     "evalue": "",
     "output_type": "error",
     "traceback": [
      "\u001b[0;31m---------------------------------------------------------------------------\u001b[0m",
      "\u001b[0;31mKeyboardInterrupt\u001b[0m                         Traceback (most recent call last)",
      "Cell \u001b[0;32mIn[10], line 8\u001b[0m\n\u001b[1;32m      5\u001b[0m solution_mappings \u001b[38;5;241m=\u001b[39m [{\u001b[38;5;124m\"\u001b[39m\u001b[38;5;124mI\u001b[39m\u001b[38;5;124m\"\u001b[39m: \u001b[38;5;124m\"\u001b[39m\u001b[38;5;124mI\u001b[39m\u001b[38;5;124m\"\u001b[39m, \u001b[38;5;124m\"\u001b[39m\u001b[38;5;124mD\u001b[39m\u001b[38;5;124m\"\u001b[39m: \u001b[38;5;124m\"\u001b[39m\u001b[38;5;124mD\u001b[39m\u001b[38;5;124m\"\u001b[39m}]\n\u001b[1;32m      7\u001b[0m \u001b[38;5;66;03m# Run the calibration and sampling\u001b[39;00m\n\u001b[0;32m----> 8\u001b[0m result1 \u001b[38;5;241m=\u001b[39m \u001b[43mload_and_calibrate_and_sample_ensemble_model\u001b[49m\u001b[43m(\u001b[49m\n\u001b[1;32m      9\u001b[0m \u001b[43m    \u001b[49m\u001b[43mmodel_paths\u001b[49m\u001b[43m,\u001b[49m\n\u001b[1;32m     10\u001b[0m \u001b[43m    \u001b[49m\u001b[43mdata_path\u001b[49m\u001b[43m,\u001b[49m\n\u001b[1;32m     11\u001b[0m \u001b[43m    \u001b[49m\u001b[43mweights\u001b[49m\u001b[43m,\u001b[49m\n\u001b[1;32m     12\u001b[0m \u001b[43m    \u001b[49m\u001b[43msolution_mappings\u001b[49m\u001b[43m,\u001b[49m\n\u001b[1;32m     13\u001b[0m \u001b[43m    \u001b[49m\u001b[43mnum_samples\u001b[49m\u001b[43m,\u001b[49m\n\u001b[1;32m     14\u001b[0m \u001b[43m    \u001b[49m\u001b[43mtimepoints1\u001b[49m\u001b[43m,\u001b[49m\n\u001b[1;32m     15\u001b[0m \u001b[43m    \u001b[49m\u001b[43mverbose\u001b[49m\u001b[38;5;241;43m=\u001b[39;49m\u001b[38;5;28;43;01mTrue\u001b[39;49;00m\u001b[43m,\u001b[49m\n\u001b[1;32m     16\u001b[0m \u001b[43m    \u001b[49m\u001b[43mtotal_population\u001b[49m\u001b[38;5;241;43m=\u001b[39;49m\u001b[38;5;241;43m19340000\u001b[39;49m\u001b[43m,\u001b[49m\n\u001b[1;32m     17\u001b[0m \u001b[43m    \u001b[49m\u001b[43mnum_iterations\u001b[49m\u001b[38;5;241;43m=\u001b[39;49m\u001b[38;5;241;43m200\u001b[39;49m\u001b[43m,\u001b[49m\n\u001b[1;32m     18\u001b[0m \u001b[43m    \u001b[49m\u001b[43mtime_unit\u001b[49m\u001b[38;5;241;43m=\u001b[39;49m\u001b[38;5;124;43m\"\u001b[39;49m\u001b[38;5;124;43mdays\u001b[39;49m\u001b[38;5;124;43m\"\u001b[39;49m\u001b[43m,\u001b[49m\n\u001b[1;32m     19\u001b[0m \u001b[43m    \u001b[49m\u001b[43mvisual_options\u001b[49m\u001b[38;5;241;43m=\u001b[39;49m\u001b[43m{\u001b[49m\u001b[38;5;124;43m\"\u001b[39;49m\u001b[38;5;124;43mtitle\u001b[39;49m\u001b[38;5;124;43m\"\u001b[39;49m\u001b[43m:\u001b[49m\u001b[43m \u001b[49m\u001b[38;5;124;43m\"\u001b[39;49m\u001b[38;5;124;43mCalibrated Ensemble\u001b[39;49m\u001b[38;5;124;43m\"\u001b[39;49m\u001b[43m,\u001b[49m\u001b[43m \u001b[49m\u001b[38;5;124;43m\"\u001b[39;49m\u001b[38;5;124;43msubset\u001b[39;49m\u001b[38;5;124;43m\"\u001b[39;49m\u001b[43m:\u001b[49m\u001b[38;5;124;43m\"\u001b[39;49m\u001b[38;5;124;43m.*_sol\u001b[39;49m\u001b[38;5;124;43m\"\u001b[39;49m\u001b[43m}\u001b[49m\n\u001b[1;32m     20\u001b[0m \u001b[43m)\u001b[49m\n\u001b[1;32m     22\u001b[0m \u001b[38;5;66;03m# Save results\u001b[39;00m\n\u001b[1;32m     23\u001b[0m result1[\u001b[38;5;124m\"\u001b[39m\u001b[38;5;124mdata\u001b[39m\u001b[38;5;124m\"\u001b[39m]\u001b[38;5;241m.\u001b[39mto_csv(\u001b[38;5;124m\"\u001b[39m\u001b[38;5;124m../../notebook/ensemble_eval_sa/ensemble_results/partI_ensemble_of_one_results.csv\u001b[39m\u001b[38;5;124m\"\u001b[39m, index\u001b[38;5;241m=\u001b[39m\u001b[38;5;28;01mFalse\u001b[39;00m)\n",
      "File \u001b[0;32m~/Projects/pyciemss/src/pyciemss/custom_decorators.py:9\u001b[0m, in \u001b[0;36mpyciemss_logging_wrapper.<locals>.wrapped\u001b[0;34m(*args, **kwargs)\u001b[0m\n\u001b[1;32m      7\u001b[0m \u001b[38;5;28;01mtry\u001b[39;00m:\n\u001b[1;32m      8\u001b[0m     start_time \u001b[38;5;241m=\u001b[39m time\u001b[38;5;241m.\u001b[39mperf_counter()\n\u001b[0;32m----> 9\u001b[0m     result \u001b[38;5;241m=\u001b[39m \u001b[43mfunction\u001b[49m\u001b[43m(\u001b[49m\u001b[38;5;241;43m*\u001b[39;49m\u001b[43margs\u001b[49m\u001b[43m,\u001b[49m\u001b[43m \u001b[49m\u001b[38;5;241;43m*\u001b[39;49m\u001b[38;5;241;43m*\u001b[39;49m\u001b[43mkwargs\u001b[49m\u001b[43m)\u001b[49m\n\u001b[1;32m     10\u001b[0m     end_time \u001b[38;5;241m=\u001b[39m time\u001b[38;5;241m.\u001b[39mperf_counter()\n\u001b[1;32m     11\u001b[0m     logging\u001b[38;5;241m.\u001b[39minfo(\n\u001b[1;32m     12\u001b[0m         \u001b[38;5;124m\"\u001b[39m\u001b[38;5;124mElapsed time for \u001b[39m\u001b[38;5;132;01m%s\u001b[39;00m\u001b[38;5;124m: \u001b[39m\u001b[38;5;132;01m%f\u001b[39;00m\u001b[38;5;124m\"\u001b[39m,\n\u001b[1;32m     13\u001b[0m         function\u001b[38;5;241m.\u001b[39m\u001b[38;5;18m__name__\u001b[39m, end_time \u001b[38;5;241m-\u001b[39m start_time\n\u001b[1;32m     14\u001b[0m     )\n",
      "File \u001b[0;32m~/Projects/pyciemss/src/pyciemss/Ensemble/interfaces.py:324\u001b[0m, in \u001b[0;36mload_and_calibrate_and_sample_ensemble_model\u001b[0;34m(petri_model_or_paths, data_path, weights, solution_mappings, num_samples, timepoints, start_states, total_population, noise_model, noise_scale, dirichlet_concentration, start_time, num_iterations, lr, verbose, verbose_every, num_particles, autoguide, compile_rate_law_p, method, time_unit, visual_options, alpha_qs, stacking_order)\u001b[0m\n\u001b[1;32m    310\u001b[0m     solution_mapping_fs\u001b[38;5;241m.\u001b[39mappend(solution_mapping_f)\n\u001b[1;32m    312\u001b[0m models \u001b[38;5;241m=\u001b[39m setup_model(\n\u001b[1;32m    313\u001b[0m     models,\n\u001b[1;32m    314\u001b[0m     weights,\n\u001b[0;32m   (...)\u001b[0m\n\u001b[1;32m    321\u001b[0m     dirichlet_concentration\u001b[38;5;241m=\u001b[39mdirichlet_concentration,\n\u001b[1;32m    322\u001b[0m )\n\u001b[0;32m--> 324\u001b[0m inferred_parameters \u001b[38;5;241m=\u001b[39m \u001b[43mcalibrate\u001b[49m\u001b[43m(\u001b[49m\n\u001b[1;32m    325\u001b[0m \u001b[43m    \u001b[49m\u001b[43mmodels\u001b[49m\u001b[43m,\u001b[49m\n\u001b[1;32m    326\u001b[0m \u001b[43m    \u001b[49m\u001b[43mdata\u001b[49m\u001b[43m,\u001b[49m\n\u001b[1;32m    327\u001b[0m \u001b[43m    \u001b[49m\u001b[43mnum_iterations\u001b[49m\u001b[43m,\u001b[49m\n\u001b[1;32m    328\u001b[0m \u001b[43m    \u001b[49m\u001b[43mlr\u001b[49m\u001b[43m,\u001b[49m\n\u001b[1;32m    329\u001b[0m \u001b[43m    \u001b[49m\u001b[43mverbose\u001b[49m\u001b[43m,\u001b[49m\n\u001b[1;32m    330\u001b[0m \u001b[43m    \u001b[49m\u001b[43mverbose_every\u001b[49m\u001b[43m,\u001b[49m\n\u001b[1;32m    331\u001b[0m \u001b[43m    \u001b[49m\u001b[43mnum_particles\u001b[49m\u001b[43m,\u001b[49m\n\u001b[1;32m    332\u001b[0m \u001b[43m    \u001b[49m\u001b[43mautoguide\u001b[49m\u001b[43m,\u001b[49m\n\u001b[1;32m    333\u001b[0m \u001b[43m    \u001b[49m\u001b[43mmethod\u001b[49m\u001b[38;5;241;43m=\u001b[39;49m\u001b[43mmethod\u001b[49m\u001b[43m,\u001b[49m\n\u001b[1;32m    334\u001b[0m \u001b[43m\u001b[49m\u001b[43m)\u001b[49m\n\u001b[1;32m    336\u001b[0m samples \u001b[38;5;241m=\u001b[39m sample(\n\u001b[1;32m    337\u001b[0m     models,\n\u001b[1;32m    338\u001b[0m     timepoints,\n\u001b[0;32m   (...)\u001b[0m\n\u001b[1;32m    341\u001b[0m     method\u001b[38;5;241m=\u001b[39mmethod,\n\u001b[1;32m    342\u001b[0m )\n\u001b[1;32m    344\u001b[0m processed_samples, q_ensemble \u001b[38;5;241m=\u001b[39m convert_to_output_format(\n\u001b[1;32m    345\u001b[0m     samples, timepoints, time_unit\u001b[38;5;241m=\u001b[39mtime_unit,\n\u001b[1;32m    346\u001b[0m     quantiles\u001b[38;5;241m=\u001b[39m\u001b[38;5;28;01mTrue\u001b[39;00m, alpha_qs\u001b[38;5;241m=\u001b[39malpha_qs, stacking_order\u001b[38;5;241m=\u001b[39mstacking_order,\n\u001b[1;32m    347\u001b[0m     train_end_point \u001b[38;5;241m=\u001b[39m \u001b[38;5;28mmax\u001b[39m([d[\u001b[38;5;241m0\u001b[39m] \u001b[38;5;28;01mfor\u001b[39;00m d \u001b[38;5;129;01min\u001b[39;00m data])\n\u001b[1;32m    348\u001b[0m )\n",
      "File \u001b[0;32m~/.pyenv/versions/3.10.9/lib/python3.10/functools.py:889\u001b[0m, in \u001b[0;36msingledispatch.<locals>.wrapper\u001b[0;34m(*args, **kw)\u001b[0m\n\u001b[1;32m    885\u001b[0m \u001b[38;5;28;01mif\u001b[39;00m \u001b[38;5;129;01mnot\u001b[39;00m args:\n\u001b[1;32m    886\u001b[0m     \u001b[38;5;28;01mraise\u001b[39;00m \u001b[38;5;167;01mTypeError\u001b[39;00m(\u001b[38;5;124mf\u001b[39m\u001b[38;5;124m'\u001b[39m\u001b[38;5;132;01m{\u001b[39;00mfuncname\u001b[38;5;132;01m}\u001b[39;00m\u001b[38;5;124m requires at least \u001b[39m\u001b[38;5;124m'\u001b[39m\n\u001b[1;32m    887\u001b[0m                     \u001b[38;5;124m'\u001b[39m\u001b[38;5;124m1 positional argument\u001b[39m\u001b[38;5;124m'\u001b[39m)\n\u001b[0;32m--> 889\u001b[0m \u001b[38;5;28;01mreturn\u001b[39;00m \u001b[43mdispatch\u001b[49m\u001b[43m(\u001b[49m\u001b[43margs\u001b[49m\u001b[43m[\u001b[49m\u001b[38;5;241;43m0\u001b[39;49m\u001b[43m]\u001b[49m\u001b[38;5;241;43m.\u001b[39;49m\u001b[38;5;18;43m__class__\u001b[39;49m\u001b[43m)\u001b[49m\u001b[43m(\u001b[49m\u001b[38;5;241;43m*\u001b[39;49m\u001b[43margs\u001b[49m\u001b[43m,\u001b[49m\u001b[43m \u001b[49m\u001b[38;5;241;43m*\u001b[39;49m\u001b[38;5;241;43m*\u001b[39;49m\u001b[43mkw\u001b[49m\u001b[43m)\u001b[49m\n",
      "File \u001b[0;32m~/Projects/pyciemss/src/pyciemss/custom_decorators.py:9\u001b[0m, in \u001b[0;36mpyciemss_logging_wrapper.<locals>.wrapped\u001b[0;34m(*args, **kwargs)\u001b[0m\n\u001b[1;32m      7\u001b[0m \u001b[38;5;28;01mtry\u001b[39;00m:\n\u001b[1;32m      8\u001b[0m     start_time \u001b[38;5;241m=\u001b[39m time\u001b[38;5;241m.\u001b[39mperf_counter()\n\u001b[0;32m----> 9\u001b[0m     result \u001b[38;5;241m=\u001b[39m \u001b[43mfunction\u001b[49m\u001b[43m(\u001b[49m\u001b[38;5;241;43m*\u001b[39;49m\u001b[43margs\u001b[49m\u001b[43m,\u001b[49m\u001b[43m \u001b[49m\u001b[38;5;241;43m*\u001b[39;49m\u001b[38;5;241;43m*\u001b[39;49m\u001b[43mkwargs\u001b[49m\u001b[43m)\u001b[49m\n\u001b[1;32m     10\u001b[0m     end_time \u001b[38;5;241m=\u001b[39m time\u001b[38;5;241m.\u001b[39mperf_counter()\n\u001b[1;32m     11\u001b[0m     logging\u001b[38;5;241m.\u001b[39minfo(\n\u001b[1;32m     12\u001b[0m         \u001b[38;5;124m\"\u001b[39m\u001b[38;5;124mElapsed time for \u001b[39m\u001b[38;5;132;01m%s\u001b[39;00m\u001b[38;5;124m: \u001b[39m\u001b[38;5;132;01m%f\u001b[39;00m\u001b[38;5;124m\"\u001b[39m,\n\u001b[1;32m     13\u001b[0m         function\u001b[38;5;241m.\u001b[39m\u001b[38;5;18m__name__\u001b[39m, end_time \u001b[38;5;241m-\u001b[39m start_time\n\u001b[1;32m     14\u001b[0m     )\n",
      "File \u001b[0;32m~/Projects/pyciemss/src/pyciemss/Ensemble/interfaces.py:480\u001b[0m, in \u001b[0;36mcalibrate_ensemble_model\u001b[0;34m(ensemble, data, num_iterations, lr, verbose, verbose_every, num_particles, autoguide, method)\u001b[0m\n\u001b[1;32m    477\u001b[0m pyro\u001b[38;5;241m.\u001b[39mclear_param_store()\n\u001b[1;32m    479\u001b[0m \u001b[38;5;28;01mfor\u001b[39;00m i \u001b[38;5;129;01min\u001b[39;00m \u001b[38;5;28mrange\u001b[39m(num_iterations):\n\u001b[0;32m--> 480\u001b[0m     loss \u001b[38;5;241m=\u001b[39m \u001b[43msvi\u001b[49m\u001b[38;5;241;43m.\u001b[39;49m\u001b[43mstep\u001b[49m\u001b[43m(\u001b[49m\u001b[43mmethod\u001b[49m\u001b[38;5;241;43m=\u001b[39;49m\u001b[43mmethod\u001b[49m\u001b[43m)\u001b[49m\n\u001b[1;32m    481\u001b[0m     \u001b[38;5;28;01mif\u001b[39;00m verbose:\n\u001b[1;32m    482\u001b[0m         \u001b[38;5;28;01mif\u001b[39;00m i \u001b[38;5;241m%\u001b[39m verbose_every \u001b[38;5;241m==\u001b[39m \u001b[38;5;241m0\u001b[39m:\n",
      "File \u001b[0;32m~/.pyenv/versions/3.10.9/lib/python3.10/site-packages/pyro/infer/svi.py:145\u001b[0m, in \u001b[0;36mSVI.step\u001b[0;34m(self, *args, **kwargs)\u001b[0m\n\u001b[1;32m    143\u001b[0m \u001b[38;5;66;03m# get loss and compute gradients\u001b[39;00m\n\u001b[1;32m    144\u001b[0m \u001b[38;5;28;01mwith\u001b[39;00m poutine\u001b[38;5;241m.\u001b[39mtrace(param_only\u001b[38;5;241m=\u001b[39m\u001b[38;5;28;01mTrue\u001b[39;00m) \u001b[38;5;28;01mas\u001b[39;00m param_capture:\n\u001b[0;32m--> 145\u001b[0m     loss \u001b[38;5;241m=\u001b[39m \u001b[38;5;28;43mself\u001b[39;49m\u001b[38;5;241;43m.\u001b[39;49m\u001b[43mloss_and_grads\u001b[49m\u001b[43m(\u001b[49m\u001b[38;5;28;43mself\u001b[39;49m\u001b[38;5;241;43m.\u001b[39;49m\u001b[43mmodel\u001b[49m\u001b[43m,\u001b[49m\u001b[43m \u001b[49m\u001b[38;5;28;43mself\u001b[39;49m\u001b[38;5;241;43m.\u001b[39;49m\u001b[43mguide\u001b[49m\u001b[43m,\u001b[49m\u001b[43m \u001b[49m\u001b[38;5;241;43m*\u001b[39;49m\u001b[43margs\u001b[49m\u001b[43m,\u001b[49m\u001b[43m \u001b[49m\u001b[38;5;241;43m*\u001b[39;49m\u001b[38;5;241;43m*\u001b[39;49m\u001b[43mkwargs\u001b[49m\u001b[43m)\u001b[49m\n\u001b[1;32m    147\u001b[0m params \u001b[38;5;241m=\u001b[39m \u001b[38;5;28mset\u001b[39m(\n\u001b[1;32m    148\u001b[0m     site[\u001b[38;5;124m\"\u001b[39m\u001b[38;5;124mvalue\u001b[39m\u001b[38;5;124m\"\u001b[39m]\u001b[38;5;241m.\u001b[39munconstrained() \u001b[38;5;28;01mfor\u001b[39;00m site \u001b[38;5;129;01min\u001b[39;00m param_capture\u001b[38;5;241m.\u001b[39mtrace\u001b[38;5;241m.\u001b[39mnodes\u001b[38;5;241m.\u001b[39mvalues()\n\u001b[1;32m    149\u001b[0m )\n\u001b[1;32m    151\u001b[0m \u001b[38;5;66;03m# actually perform gradient steps\u001b[39;00m\n\u001b[1;32m    152\u001b[0m \u001b[38;5;66;03m# torch.optim objects gets instantiated for any params that haven't been seen yet\u001b[39;00m\n",
      "File \u001b[0;32m~/.pyenv/versions/3.10.9/lib/python3.10/site-packages/pyro/infer/trace_elbo.py:157\u001b[0m, in \u001b[0;36mTrace_ELBO.loss_and_grads\u001b[0;34m(self, model, guide, *args, **kwargs)\u001b[0m\n\u001b[1;32m    153\u001b[0m     \u001b[38;5;28;01mif\u001b[39;00m trainable_params \u001b[38;5;129;01mand\u001b[39;00m \u001b[38;5;28mgetattr\u001b[39m(\n\u001b[1;32m    154\u001b[0m         surrogate_loss_particle, \u001b[38;5;124m\"\u001b[39m\u001b[38;5;124mrequires_grad\u001b[39m\u001b[38;5;124m\"\u001b[39m, \u001b[38;5;28;01mFalse\u001b[39;00m\n\u001b[1;32m    155\u001b[0m     ):\n\u001b[1;32m    156\u001b[0m         surrogate_loss_particle \u001b[38;5;241m=\u001b[39m surrogate_loss_particle \u001b[38;5;241m/\u001b[39m \u001b[38;5;28mself\u001b[39m\u001b[38;5;241m.\u001b[39mnum_particles\n\u001b[0;32m--> 157\u001b[0m         \u001b[43msurrogate_loss_particle\u001b[49m\u001b[38;5;241;43m.\u001b[39;49m\u001b[43mbackward\u001b[49m\u001b[43m(\u001b[49m\u001b[43mretain_graph\u001b[49m\u001b[38;5;241;43m=\u001b[39;49m\u001b[38;5;28;43mself\u001b[39;49m\u001b[38;5;241;43m.\u001b[39;49m\u001b[43mretain_graph\u001b[49m\u001b[43m)\u001b[49m\n\u001b[1;32m    158\u001b[0m warn_if_nan(loss, \u001b[38;5;124m\"\u001b[39m\u001b[38;5;124mloss\u001b[39m\u001b[38;5;124m\"\u001b[39m)\n\u001b[1;32m    159\u001b[0m \u001b[38;5;28;01mreturn\u001b[39;00m loss\n",
      "File \u001b[0;32m~/.pyenv/versions/3.10.9/lib/python3.10/site-packages/torch/_tensor.py:487\u001b[0m, in \u001b[0;36mTensor.backward\u001b[0;34m(self, gradient, retain_graph, create_graph, inputs)\u001b[0m\n\u001b[1;32m    477\u001b[0m \u001b[38;5;28;01mif\u001b[39;00m has_torch_function_unary(\u001b[38;5;28mself\u001b[39m):\n\u001b[1;32m    478\u001b[0m     \u001b[38;5;28;01mreturn\u001b[39;00m handle_torch_function(\n\u001b[1;32m    479\u001b[0m         Tensor\u001b[38;5;241m.\u001b[39mbackward,\n\u001b[1;32m    480\u001b[0m         (\u001b[38;5;28mself\u001b[39m,),\n\u001b[0;32m   (...)\u001b[0m\n\u001b[1;32m    485\u001b[0m         inputs\u001b[38;5;241m=\u001b[39minputs,\n\u001b[1;32m    486\u001b[0m     )\n\u001b[0;32m--> 487\u001b[0m \u001b[43mtorch\u001b[49m\u001b[38;5;241;43m.\u001b[39;49m\u001b[43mautograd\u001b[49m\u001b[38;5;241;43m.\u001b[39;49m\u001b[43mbackward\u001b[49m\u001b[43m(\u001b[49m\n\u001b[1;32m    488\u001b[0m \u001b[43m    \u001b[49m\u001b[38;5;28;43mself\u001b[39;49m\u001b[43m,\u001b[49m\u001b[43m \u001b[49m\u001b[43mgradient\u001b[49m\u001b[43m,\u001b[49m\u001b[43m \u001b[49m\u001b[43mretain_graph\u001b[49m\u001b[43m,\u001b[49m\u001b[43m \u001b[49m\u001b[43mcreate_graph\u001b[49m\u001b[43m,\u001b[49m\u001b[43m \u001b[49m\u001b[43minputs\u001b[49m\u001b[38;5;241;43m=\u001b[39;49m\u001b[43minputs\u001b[49m\n\u001b[1;32m    489\u001b[0m \u001b[43m\u001b[49m\u001b[43m)\u001b[49m\n",
      "File \u001b[0;32m~/.pyenv/versions/3.10.9/lib/python3.10/site-packages/torch/autograd/__init__.py:200\u001b[0m, in \u001b[0;36mbackward\u001b[0;34m(tensors, grad_tensors, retain_graph, create_graph, grad_variables, inputs)\u001b[0m\n\u001b[1;32m    195\u001b[0m     retain_graph \u001b[38;5;241m=\u001b[39m create_graph\n\u001b[1;32m    197\u001b[0m \u001b[38;5;66;03m# The reason we repeat same the comment below is that\u001b[39;00m\n\u001b[1;32m    198\u001b[0m \u001b[38;5;66;03m# some Python versions print out the first line of a multi-line function\u001b[39;00m\n\u001b[1;32m    199\u001b[0m \u001b[38;5;66;03m# calls in the traceback and some print out the last line\u001b[39;00m\n\u001b[0;32m--> 200\u001b[0m \u001b[43mVariable\u001b[49m\u001b[38;5;241;43m.\u001b[39;49m\u001b[43m_execution_engine\u001b[49m\u001b[38;5;241;43m.\u001b[39;49m\u001b[43mrun_backward\u001b[49m\u001b[43m(\u001b[49m\u001b[43m  \u001b[49m\u001b[38;5;66;43;03m# Calls into the C++ engine to run the backward pass\u001b[39;49;00m\n\u001b[1;32m    201\u001b[0m \u001b[43m    \u001b[49m\u001b[43mtensors\u001b[49m\u001b[43m,\u001b[49m\u001b[43m \u001b[49m\u001b[43mgrad_tensors_\u001b[49m\u001b[43m,\u001b[49m\u001b[43m \u001b[49m\u001b[43mretain_graph\u001b[49m\u001b[43m,\u001b[49m\u001b[43m \u001b[49m\u001b[43mcreate_graph\u001b[49m\u001b[43m,\u001b[49m\u001b[43m \u001b[49m\u001b[43minputs\u001b[49m\u001b[43m,\u001b[49m\n\u001b[1;32m    202\u001b[0m \u001b[43m    \u001b[49m\u001b[43mallow_unreachable\u001b[49m\u001b[38;5;241;43m=\u001b[39;49m\u001b[38;5;28;43;01mTrue\u001b[39;49;00m\u001b[43m,\u001b[49m\u001b[43m \u001b[49m\u001b[43maccumulate_grad\u001b[49m\u001b[38;5;241;43m=\u001b[39;49m\u001b[38;5;28;43;01mTrue\u001b[39;49;00m\u001b[43m)\u001b[49m\n",
      "File \u001b[0;32m~/.pyenv/versions/3.10.9/lib/python3.10/site-packages/torch/autograd/function.py:264\u001b[0m, in \u001b[0;36mBackwardCFunction.apply\u001b[0;34m(self, *args)\u001b[0m\n\u001b[1;32m    263\u001b[0m \u001b[38;5;28;01mclass\u001b[39;00m \u001b[38;5;21;01mBackwardCFunction\u001b[39;00m(_C\u001b[38;5;241m.\u001b[39m_FunctionBase, FunctionCtx, _HookMixin):\n\u001b[0;32m--> 264\u001b[0m     \u001b[38;5;28;01mdef\u001b[39;00m \u001b[38;5;21mapply\u001b[39m(\u001b[38;5;28mself\u001b[39m, \u001b[38;5;241m*\u001b[39margs):\n\u001b[1;32m    265\u001b[0m         \u001b[38;5;66;03m# _forward_cls is defined by derived class\u001b[39;00m\n\u001b[1;32m    266\u001b[0m         \u001b[38;5;66;03m# The user should define either backward or vjp but never both.\u001b[39;00m\n\u001b[1;32m    267\u001b[0m         backward_fn \u001b[38;5;241m=\u001b[39m \u001b[38;5;28mself\u001b[39m\u001b[38;5;241m.\u001b[39m_forward_cls\u001b[38;5;241m.\u001b[39mbackward  \u001b[38;5;66;03m# type: ignore[attr-defined]\u001b[39;00m\n\u001b[1;32m    268\u001b[0m         vjp_fn \u001b[38;5;241m=\u001b[39m \u001b[38;5;28mself\u001b[39m\u001b[38;5;241m.\u001b[39m_forward_cls\u001b[38;5;241m.\u001b[39mvjp  \u001b[38;5;66;03m# type: ignore[attr-defined]\u001b[39;00m\n",
      "\u001b[0;31mKeyboardInterrupt\u001b[0m: "
     ]
    }
   ],
   "source": [
    "num_samples = 100\n",
    "model_paths = [model2_location]\n",
    "data_path = \"../../notebook/ensemble_eval_sa/datasets/NYS_T1_forecast1.csv\"\n",
    "weights = [1]\n",
    "solution_mappings = [{\"I\": \"I\", \"D\": \"D\"}]\n",
    "\n",
    "# Run the calibration and sampling\n",
    "result1 = load_and_calibrate_and_sample_ensemble_model(\n",
    "    model_paths,\n",
    "    data_path,\n",
    "    weights,\n",
    "    solution_mappings,\n",
    "    num_samples,\n",
    "    timepoints1,\n",
    "    verbose=True,\n",
    "    total_population=19340000,\n",
    "    num_iterations=200,\n",
    "    time_unit=\"days\",\n",
    "    visual_options={\"title\": \"Calibrated Ensemble\", \"subset\":\".*_sol\"}\n",
    ")\n",
    "\n",
    "# Save results\n",
    "result1[\"data\"].to_csv(\"../../notebook/ensemble_eval_sa/ensemble_results/partI_ensemble_of_one_results.csv\", index=False)\n",
    "result1[\"quantiles\"].to_csv(\"../../notebook/ensemble_eval_sa/ensemble_results/partI_ensemble_of_one_quantiles.csv\", index=False)\n",
    "\n",
    "q_ensemble_data = cdc_reformatcsv(filename=\"../../notebook/ensemble_eval_sa/ensemble_results/partI_ensemble_of_one_quantiles.csv\", \n",
    "                                  solution_string_mapping={\"I\": \"cases\", \"D\": \"deaths\"}, \n",
    "                                  forecast_start_date=\"2020-04-03\",\n",
    "                                  location=\"New York State\",\n",
    "                                  drop_column_names=[\"timepoint_id\", \"number_days\", \"inc_cum\", \"output\", \"Forecast_Backcast\"])\n",
    "q_ensemble_data.to_csv(\"../../notebook/ensemble_eval_sa/ensemble_results/partI_ensemble1_quantiles_Apr032020.csv\")\n",
    "\n",
    "# Plot results\n",
    "schema = plots.trajectories(pd.DataFrame(result1[\"data\"]), subset=\".*_sol\",\n",
    "                            points=test_data.reset_index(drop=True).rename(columns={\"I\":\"I_data\", \"H\":\"H_data\", \"D\":\"D_data\"}),\n",
    "                           )\n",
    "schema = plots.pad(schema, 5)\n",
    "plots.ipy_display(schema)"
   ]
  },
  {
   "cell_type": "code",
   "execution_count": 10,
   "id": "6fa25da4-a72d-4789-969a-cfffe3c26ec1",
   "metadata": {},
   "outputs": [
    {
     "name": "stdout",
     "output_type": "stream",
     "text": [
      "iteration 0: loss = 715.3255967199802\n",
      "iteration 25: loss = 675.6244948208332\n",
      "iteration 50: loss = 638.4774799644947\n",
      "iteration 75: loss = 642.9715199768543\n",
      "\n"
     ]
    },
    {
     "data": {
      "application/vnd.vega.v5+json": {
       "$schema": "https://vega.github.io/schema/vega/v5.json",
       "axes": [
        {
         "name": "x_axis",
         "orient": "bottom",
         "scale": "xscale",
         "zindex": 100
        },
        {
         "name": "y_axis",
         "orient": "left",
         "scale": "yscale",
         "zindex": 100
        }
       ],
       "data": [
        {
         "name": "distributions",
         "values": [
          {
           "lower": 8.129795984906678e-23,
           "timepoint": 0,
           "trajectory": "D_sol",
           "upper": 1.869283172802801e-22
          },
          {
           "lower": 0.009195392159745098,
           "timepoint": 1,
           "trajectory": "D_sol",
           "upper": 0.02120939418673515
          },
          {
           "lower": 0.040680609084665774,
           "timepoint": 2,
           "trajectory": "D_sol",
           "upper": 0.09310242943465709
          },
          {
           "lower": 0.10015682652592658,
           "timepoint": 3,
           "trajectory": "D_sol",
           "upper": 0.2255800440907478
          },
          {
           "lower": 0.19400064200162886,
           "timepoint": 4,
           "trajectory": "D_sol",
           "upper": 0.42731460928916926
          },
          {
           "lower": 0.33006933331489563,
           "timepoint": 5,
           "trajectory": "D_sol",
           "upper": 0.707686686515808
          },
          {
           "lower": 0.5183712989091873,
           "timepoint": 6,
           "trajectory": "D_sol",
           "upper": 1.0782492280006408
          },
          {
           "lower": 0.7717493265867233,
           "timepoint": 7,
           "trajectory": "D_sol",
           "upper": 1.5539993762969968
          },
          {
           "lower": 1.0889456152915955,
           "timepoint": 8,
           "trajectory": "D_sol",
           "upper": 2.154620778560638
          },
          {
           "lower": 1.482006949186325,
           "timepoint": 9,
           "trajectory": "D_sol",
           "upper": 2.923536205291748
          },
          {
           "lower": 1.977094930410385,
           "timepoint": 10,
           "trajectory": "D_sol",
           "upper": 3.9036143541336057
          },
          {
           "lower": 2.599220943450928,
           "timepoint": 11,
           "trajectory": "D_sol",
           "upper": 5.14719181060791
          },
          {
           "lower": 3.3803841829299928,
           "timepoint": 12,
           "trajectory": "D_sol",
           "upper": 6.723968291282653
          },
          {
           "lower": 4.361306190490723,
           "timepoint": 13,
           "trajectory": "D_sol",
           "upper": 8.656658697128295
          },
          {
           "lower": 5.62491672039032,
           "timepoint": 14,
           "trajectory": "D_sol",
           "upper": 11.132372665405272
          },
          {
           "lower": 7.147591233253479,
           "timepoint": 15,
           "trajectory": "D_sol",
           "upper": 14.241853809356689
          },
          {
           "lower": 9.18547191619873,
           "timepoint": 16,
           "trajectory": "D_sol",
           "upper": 18.235821533203126
          },
          {
           "lower": 11.75536584854126,
           "timepoint": 17,
           "trajectory": "D_sol",
           "upper": 23.298969554901124
          },
          {
           "lower": 14.987046432495116,
           "timepoint": 18,
           "trajectory": "D_sol",
           "upper": 29.41390085220337
          },
          {
           "lower": 18.906884098052977,
           "timepoint": 19,
           "trajectory": "D_sol",
           "upper": 37.12156295776367
          },
          {
           "lower": 23.37734537124634,
           "timepoint": 20,
           "trajectory": "D_sol",
           "upper": 46.986030197143556
          },
          {
           "lower": 28.991717052459716,
           "timepoint": 21,
           "trajectory": "D_sol",
           "upper": 59.391477394104
          },
          {
           "lower": 36.14739437103272,
           "timepoint": 22,
           "trajectory": "D_sol",
           "upper": 74.68933219909668
          },
          {
           "lower": 44.79570369720459,
           "timepoint": 23,
           "trajectory": "D_sol",
           "upper": 93.29035263061523
          },
          {
           "lower": 55.11869106292725,
           "timepoint": 24,
           "trajectory": "D_sol",
           "upper": 114.9139633178711
          },
          {
           "lower": 67.22755889892578,
           "timepoint": 25,
           "trajectory": "D_sol",
           "upper": 140.1325714111328
          },
          {
           "lower": 81.19499816894532,
           "timepoint": 26,
           "trajectory": "D_sol",
           "upper": 169.04078369140623
          },
          {
           "lower": 97.10609588623046,
           "timepoint": 27,
           "trajectory": "D_sol",
           "upper": 203.0480499267578
          },
          {
           "lower": 114.92138481140137,
           "timepoint": 28,
           "trajectory": "D_sol",
           "upper": 241.27918701171876
          },
          {
           "lower": 134.59198989868165,
           "timepoint": 29,
           "trajectory": "D_sol",
           "upper": 280.6748596191406
          },
          {
           "lower": 156.05046920776368,
           "timepoint": 30,
           "trajectory": "D_sol",
           "upper": 322.0866516113281
          },
          {
           "lower": 179.21392974853515,
           "timepoint": 31,
           "trajectory": "D_sol",
           "upper": 365.79180145263666
          },
          {
           "lower": 201.92758026123047,
           "timepoint": 32,
           "trajectory": "D_sol",
           "upper": 414.63554382324213
          },
          {
           "lower": 225.52768325805664,
           "timepoint": 33,
           "trajectory": "D_sol",
           "upper": 470.17890624999995
          },
          {
           "lower": 253.8099235534668,
           "timepoint": 34,
           "trajectory": "D_sol",
           "upper": 529.1396606445312
          },
          {
           "lower": 281.2460601806641,
           "timepoint": 35,
           "trajectory": "D_sol",
           "upper": 591.0264770507812
          },
          {
           "lower": 307.77574615478517,
           "timepoint": 36,
           "trajectory": "D_sol",
           "upper": 655.9956237792969
          },
          {
           "lower": 334.79797821044923,
           "timepoint": 37,
           "trajectory": "D_sol",
           "upper": 724.6000366210938
          },
          {
           "lower": 362.2222366333008,
           "timepoint": 38,
           "trajectory": "D_sol",
           "upper": 796.5212677001953
          },
          {
           "lower": 389.9698547363281,
           "timepoint": 39,
           "trajectory": "D_sol",
           "upper": 853.2063537597655
          },
          {
           "lower": 417.98401031494143,
           "timepoint": 40,
           "trajectory": "D_sol",
           "upper": 912.2487274169921
          },
          {
           "lower": 446.55190124511716,
           "timepoint": 41,
           "trajectory": "D_sol",
           "upper": 987.574395751953
          },
          {
           "lower": 475.3271743774414,
           "timepoint": 42,
           "trajectory": "D_sol",
           "upper": 1065.385186767578
          },
          {
           "lower": 504.2694610595703,
           "timepoint": 43,
           "trajectory": "D_sol",
           "upper": 1145.652325439453
          },
          {
           "lower": 533.3445037841797,
           "timepoint": 44,
           "trajectory": "D_sol",
           "upper": 1228.3644409179688
          },
          {
           "lower": 562.5238830566407,
           "timepoint": 45,
           "trajectory": "D_sol",
           "upper": 1313.5140563964844
          },
          {
           "lower": 592.0989685058594,
           "timepoint": 46,
           "trajectory": "D_sol",
           "upper": 1390.251483154297
          },
          {
           "lower": 619.8907684326172,
           "timepoint": 47,
           "trajectory": "D_sol",
           "upper": 1490.3149780273438
          },
          {
           "lower": 648.21923828125,
           "timepoint": 48,
           "trajectory": "D_sol",
           "upper": 1586.2981994628906
          },
          {
           "lower": 675.0645812988281,
           "timepoint": 49,
           "trajectory": "D_sol",
           "upper": 1682.944287109375
          },
          {
           "lower": 694.5109222412109,
           "timepoint": 50,
           "trajectory": "D_sol",
           "upper": 1782.30244140625
          },
          {
           "lower": 721.440966796875,
           "timepoint": 51,
           "trajectory": "D_sol",
           "upper": 1884.4114135742186
          },
          {
           "lower": 756.4278686523437,
           "timepoint": 52,
           "trajectory": "D_sol",
           "upper": 1989.315734863281
          },
          {
           "lower": 790.5395904541016,
           "timepoint": 53,
           "trajectory": "D_sol",
           "upper": 2097.0583007812497
          },
          {
           "lower": 818.4375305175781,
           "timepoint": 54,
           "trajectory": "D_sol",
           "upper": 2220.195861816406
          },
          {
           "lower": 846.0798370361329,
           "timepoint": 55,
           "trajectory": "D_sol",
           "upper": 2349.184619140625
          },
          {
           "lower": 862.1521728515626,
           "timepoint": 56,
           "trajectory": "D_sol",
           "upper": 2482.3800659179683
          },
          {
           "lower": 877.5572204589844,
           "timepoint": 57,
           "trajectory": "D_sol",
           "upper": 2619.8402832031247
          },
          {
           "lower": 892.3172241210938,
           "timepoint": 58,
           "trajectory": "D_sol",
           "upper": 2762.1483886718747
          },
          {
           "lower": 906.456463623047,
           "timepoint": 59,
           "trajectory": "D_sol",
           "upper": 2909.4457641601557
          },
          {
           "lower": 100,
           "timepoint": 0,
           "trajectory": "I_sol",
           "upper": 100
          },
          {
           "lower": 158.03851013183595,
           "timepoint": 1,
           "trajectory": "I_sol",
           "upper": 160.25946731567382
          },
          {
           "lower": 215.9977569580078,
           "timepoint": 2,
           "trajectory": "I_sol",
           "upper": 222.2601333618164
          },
          {
           "lower": 281.18033294677736,
           "timepoint": 3,
           "trajectory": "I_sol",
           "upper": 293.5583129882813
          },
          {
           "lower": 358.5369384765625,
           "timepoint": 4,
           "trajectory": "I_sol",
           "upper": 380.46849517822267
          },
          {
           "lower": 452.202458190918,
           "timepoint": 5,
           "trajectory": "I_sol",
           "upper": 489.2892791748047
          },
          {
           "lower": 569.1092681884766,
           "timepoint": 6,
           "trajectory": "I_sol",
           "upper": 627.2043304443359
          },
          {
           "lower": 715.4754791259766,
           "timepoint": 7,
           "trajectory": "I_sol",
           "upper": 802.8915618896484
          },
          {
           "lower": 899.0545959472656,
           "timepoint": 8,
           "trajectory": "I_sol",
           "upper": 1027.1582641601562
          },
          {
           "lower": 1127.9581237792968,
           "timepoint": 9,
           "trajectory": "I_sol",
           "upper": 1313.8645080566407
          },
          {
           "lower": 1414.4902221679688,
           "timepoint": 10,
           "trajectory": "I_sol",
           "upper": 1680.1301147460938
          },
          {
           "lower": 1773.3421875,
           "timepoint": 11,
           "trajectory": "I_sol",
           "upper": 2147.5756713867186
          },
          {
           "lower": 2222.4358520507812,
           "timepoint": 12,
           "trajectory": "I_sol",
           "upper": 2743.953466796875
          },
          {
           "lower": 2783.7064208984375,
           "timepoint": 13,
           "trajectory": "I_sol",
           "upper": 3503.684045410156
          },
          {
           "lower": 3483.6156982421876,
           "timepoint": 14,
           "trajectory": "I_sol",
           "upper": 4469.132543945312
          },
          {
           "lower": 4353.249682617187,
           "timepoint": 15,
           "trajectory": "I_sol",
           "upper": 5691.108862304687
          },
          {
           "lower": 5427.511743164063,
           "timepoint": 16,
           "trajectory": "I_sol",
           "upper": 7227.894702148437
          },
          {
           "lower": 6742.475854492188,
           "timepoint": 17,
           "trajectory": "I_sol",
           "upper": 9141.60361328125
          },
          {
           "lower": 8329.673583984375,
           "timepoint": 18,
           "trajectory": "I_sol",
           "upper": 11488.19931640625
          },
          {
           "lower": 10206.27265625,
           "timepoint": 19,
           "trajectory": "I_sol",
           "upper": 14300.702734375
          },
          {
           "lower": 12361.98720703125,
           "timepoint": 20,
           "trajectory": "I_sol",
           "upper": 17565.56708984375
          },
          {
           "lower": 14747.567578125,
           "timepoint": 21,
           "trajectory": "I_sol",
           "upper": 21216.61357421875
          },
          {
           "lower": 17276.74716796875,
           "timepoint": 22,
           "trajectory": "I_sol",
           "upper": 25090.61767578125
          },
          {
           "lower": 19836.9255859375,
           "timepoint": 23,
           "trajectory": "I_sol",
           "upper": 28985.01162109375
          },
          {
           "lower": 22315.406640625,
           "timepoint": 24,
           "trajectory": "I_sol",
           "upper": 32699.4123046875
          },
          {
           "lower": 24627.8201171875,
           "timepoint": 25,
           "trajectory": "I_sol",
           "upper": 36072.716992187496
          },
          {
           "lower": 26728.29365234375,
           "timepoint": 26,
           "trajectory": "I_sol",
           "upper": 39112.26171874999
          },
          {
           "lower": 28605.40390625,
           "timepoint": 27,
           "trajectory": "I_sol",
           "upper": 41945.07519531249
          },
          {
           "lower": 30037.173828125,
           "timepoint": 28,
           "trajectory": "I_sol",
           "upper": 44432.74218749999
          },
          {
           "lower": 30370.99345703125,
           "timepoint": 29,
           "trajectory": "I_sol",
           "upper": 46660.409374999996
          },
          {
           "lower": 30170.79970703125,
           "timepoint": 30,
           "trajectory": "I_sol",
           "upper": 49035.7322265625
          },
          {
           "lower": 29979.72783203125,
           "timepoint": 31,
           "trajectory": "I_sol",
           "upper": 51031.802734375
          },
          {
           "lower": 29823.8623046875,
           "timepoint": 32,
           "trajectory": "I_sol",
           "upper": 52998.17265625
          },
          {
           "lower": 29063.53212890625,
           "timepoint": 33,
           "trajectory": "I_sol",
           "upper": 55073.0591796875
          },
          {
           "lower": 27950.01220703125,
           "timepoint": 34,
           "trajectory": "I_sol",
           "upper": 57381.3041015625
          },
          {
           "lower": 26802.77958984375,
           "timepoint": 35,
           "trajectory": "I_sol",
           "upper": 59681.2708984375
          },
          {
           "lower": 25648.37939453125,
           "timepoint": 36,
           "trajectory": "I_sol",
           "upper": 61960.3154296875
          },
          {
           "lower": 24499.88046875,
           "timepoint": 37,
           "trajectory": "I_sol",
           "upper": 64047.7833984375
          },
          {
           "lower": 23371.0244140625,
           "timepoint": 38,
           "trajectory": "I_sol",
           "upper": 65778.048046875
          },
          {
           "lower": 22334.577734375,
           "timepoint": 39,
           "trajectory": "I_sol",
           "upper": 67871.474609375
          },
          {
           "lower": 21702.677734375,
           "timepoint": 40,
           "trajectory": "I_sol",
           "upper": 70216.90664062499
          },
          {
           "lower": 21251.7787109375,
           "timepoint": 41,
           "trajectory": "I_sol",
           "upper": 72630.112109375
          },
          {
           "lower": 20805.66875,
           "timepoint": 42,
           "trajectory": "I_sol",
           "upper": 75115.30859375
          },
          {
           "lower": 20365.8240234375,
           "timepoint": 43,
           "trajectory": "I_sol",
           "upper": 77676.215625
          },
          {
           "lower": 19933.201171875,
           "timepoint": 44,
           "trajectory": "I_sol",
           "upper": 80315.7984375
          },
          {
           "lower": 19508.419335937502,
           "timepoint": 45,
           "trajectory": "I_sol",
           "upper": 83036.955859375
          },
          {
           "lower": 18862.96357421875,
           "timepoint": 46,
           "trajectory": "I_sol",
           "upper": 85842.30468749999
          },
          {
           "lower": 18107.65244140625,
           "timepoint": 47,
           "trajectory": "I_sol",
           "upper": 88734.38124999999
          },
          {
           "lower": 17381.3630859375,
           "timepoint": 48,
           "trajectory": "I_sol",
           "upper": 91940.046484375
          },
          {
           "lower": 16683.289697265627,
           "timepoint": 49,
           "trajectory": "I_sol",
           "upper": 95663.788671875
          },
          {
           "lower": 16012.621289062501,
           "timepoint": 50,
           "trajectory": "I_sol",
           "upper": 99528.78046874999
          },
          {
           "lower": 15368.411669921876,
           "timepoint": 51,
           "trajectory": "I_sol",
           "upper": 103539.51289062499
          },
          {
           "lower": 14749.7861328125,
           "timepoint": 52,
           "trajectory": "I_sol",
           "upper": 107700.787890625
          },
          {
           "lower": 14155.80458984375,
           "timepoint": 53,
           "trajectory": "I_sol",
           "upper": 112017.36875
          },
          {
           "lower": 13585.550634765625,
           "timepoint": 54,
           "trajectory": "I_sol",
           "upper": 116493.978515625
          },
          {
           "lower": 13038.130908203126,
           "timepoint": 55,
           "trajectory": "I_sol",
           "upper": 121039.116796875
          },
          {
           "lower": 12512.652001953125,
           "timepoint": 56,
           "trajectory": "I_sol",
           "upper": 125263.69570312499
          },
          {
           "lower": 12008.2728515625,
           "timepoint": 57,
           "trajectory": "I_sol",
           "upper": 129618.938671875
          },
          {
           "lower": 11524.162744140625,
           "timepoint": 58,
           "trajectory": "I_sol",
           "upper": 134107.6171875
          },
          {
           "lower": 11059.522021484376,
           "timepoint": 59,
           "trajectory": "I_sol",
           "upper": 138732.303125
          }
         ]
        },
        {
         "name": "traces",
         "transform": [
          {
           "expr": "isValid(datum.value)",
           "type": "filter"
          }
         ],
         "values": []
        },
        {
         "name": "points",
         "values": [
          {
           "sample_id": 0,
           "timepoint": 0,
           "trajectory": "I_data",
           "value": 1
          },
          {
           "sample_id": 0,
           "timepoint": 1,
           "trajectory": "I_data",
           "value": 10
          },
          {
           "sample_id": 0,
           "timepoint": 2,
           "trajectory": "I_data",
           "value": 21
          },
          {
           "sample_id": 0,
           "timepoint": 3,
           "trajectory": "I_data",
           "value": 24
          },
          {
           "sample_id": 0,
           "timepoint": 4,
           "trajectory": "I_data",
           "value": 76
          },
          {
           "sample_id": 0,
           "timepoint": 5,
           "trajectory": "I_data",
           "value": 104
          },
          {
           "sample_id": 0,
           "timepoint": 6,
           "trajectory": "I_data",
           "value": 128
          },
          {
           "sample_id": 0,
           "timepoint": 7,
           "trajectory": "I_data",
           "value": 131
          },
          {
           "sample_id": 0,
           "timepoint": 8,
           "trajectory": "I_data",
           "value": 192
          },
          {
           "sample_id": 0,
           "timepoint": 9,
           "trajectory": "I_data",
           "value": 220
          },
          {
           "sample_id": 0,
           "timepoint": 10,
           "trajectory": "I_data",
           "value": 274
          },
          {
           "sample_id": 0,
           "timepoint": 11,
           "trajectory": "I_data",
           "value": 394
          },
          {
           "sample_id": 0,
           "timepoint": 12,
           "trajectory": "I_data",
           "value": 481
          },
          {
           "sample_id": 0,
           "timepoint": 13,
           "trajectory": "I_data",
           "value": 745
          },
          {
           "sample_id": 0,
           "timepoint": 14,
           "trajectory": "I_data",
           "value": 1111
          },
          {
           "sample_id": 0,
           "timepoint": 15,
           "trajectory": "I_data",
           "value": 2128
          },
          {
           "sample_id": 0,
           "timepoint": 16,
           "trajectory": "I_data",
           "value": 3671
          },
          {
           "sample_id": 0,
           "timepoint": 17,
           "trajectory": "I_data",
           "value": 6578
          },
          {
           "sample_id": 0,
           "timepoint": 18,
           "trajectory": "I_data",
           "value": 9449
          },
          {
           "sample_id": 0,
           "timepoint": 19,
           "trajectory": "I_data",
           "value": 13761
          },
          {
           "sample_id": 0,
           "timepoint": 20,
           "trajectory": "I_data",
           "value": 18270
          },
          {
           "sample_id": 0,
           "timepoint": 21,
           "trajectory": "I_data",
           "value": 21478
          },
          {
           "sample_id": 0,
           "timepoint": 22,
           "trajectory": "I_data",
           "value": 23630
          },
          {
           "sample_id": 0,
           "timepoint": 23,
           "trajectory": "I_data",
           "value": 26987
          },
          {
           "sample_id": 0,
           "timepoint": 24,
           "trajectory": "I_data",
           "value": 29533
          },
          {
           "sample_id": 0,
           "timepoint": 25,
           "trajectory": "I_data",
           "value": 31623
          },
          {
           "sample_id": 0,
           "timepoint": 26,
           "trajectory": "I_data",
           "value": 33967
          },
          {
           "sample_id": 0,
           "timepoint": 27,
           "trajectory": "I_data",
           "value": 35822
          },
          {
           "sample_id": 0,
           "timepoint": 28,
           "trajectory": "I_data",
           "value": 38456
          },
          {
           "sample_id": 0,
           "timepoint": 29,
           "trajectory": "I_data",
           "value": 45676
          },
          {
           "sample_id": 0,
           "timepoint": 30,
           "trajectory": "I_data",
           "value": 48380
          },
          {
           "sample_id": 0,
           "timepoint": 31,
           "trajectory": "I_data",
           "value": 51807
          },
          {
           "sample_id": 0,
           "timepoint": 32,
           "trajectory": "I_data",
           "value": 55042
          },
          {
           "sample_id": 0,
           "timepoint": 33,
           "trajectory": "I_data",
           "value": 56847
          },
          {
           "sample_id": 0,
           "timepoint": 34,
           "trajectory": "I_data",
           "value": 52184
          },
          {
           "sample_id": 0,
           "timepoint": 35,
           "trajectory": "I_data",
           "value": 49194
          },
          {
           "sample_id": 0,
           "timepoint": 36,
           "trajectory": "I_data",
           "value": 48730
          },
          {
           "sample_id": 0,
           "timepoint": 37,
           "trajectory": "I_data",
           "value": 50551
          },
          {
           "sample_id": 0,
           "timepoint": 38,
           "trajectory": "I_data",
           "value": 51029
          },
          {
           "sample_id": 0,
           "timepoint": 39,
           "trajectory": "I_data",
           "value": 49701
          },
          {
           "sample_id": 0,
           "timepoint": 40,
           "trajectory": "I_data",
           "value": 50661
          },
          {
           "sample_id": 0,
           "timepoint": 41,
           "trajectory": "I_data",
           "value": 48303
          },
          {
           "sample_id": 0,
           "timepoint": 42,
           "trajectory": "I_data",
           "value": 43703
          },
          {
           "sample_id": 0,
           "timepoint": 43,
           "trajectory": "I_data",
           "value": 38888
          },
          {
           "sample_id": 0,
           "timepoint": 44,
           "trajectory": "I_data",
           "value": 38244
          },
          {
           "sample_id": 0,
           "timepoint": 45,
           "trajectory": "I_data",
           "value": 36857
          },
          {
           "sample_id": 0,
           "timepoint": 46,
           "trajectory": "I_data",
           "value": 35881
          },
          {
           "sample_id": 0,
           "timepoint": 47,
           "trajectory": "I_data",
           "value": 35054
          },
          {
           "sample_id": 0,
           "timepoint": 48,
           "trajectory": "I_data",
           "value": 34782
          },
          {
           "sample_id": 0,
           "timepoint": 49,
           "trajectory": "I_data",
           "value": 31526
          },
          {
           "sample_id": 0,
           "timepoint": 50,
           "trajectory": "I_data",
           "value": 28799
          },
          {
           "sample_id": 0,
           "timepoint": 51,
           "trajectory": "I_data",
           "value": 27419
          },
          {
           "sample_id": 0,
           "timepoint": 52,
           "trajectory": "I_data",
           "value": 27443
          },
          {
           "sample_id": 0,
           "timepoint": 53,
           "trajectory": "I_data",
           "value": 30499
          },
          {
           "sample_id": 0,
           "timepoint": 54,
           "trajectory": "I_data",
           "value": 31543
          },
          {
           "sample_id": 0,
           "timepoint": 55,
           "trajectory": "I_data",
           "value": 31597
          },
          {
           "sample_id": 0,
           "timepoint": 56,
           "trajectory": "I_data",
           "value": 29008
          },
          {
           "sample_id": 0,
           "timepoint": 57,
           "trajectory": "I_data",
           "value": 25476
          },
          {
           "sample_id": 0,
           "timepoint": 58,
           "trajectory": "I_data",
           "value": 20411
          },
          {
           "sample_id": 0,
           "timepoint": 59,
           "trajectory": "I_data",
           "value": 19224
          },
          {
           "sample_id": 0,
           "timepoint": 38,
           "trajectory": "H_data",
           "value": 0
          },
          {
           "sample_id": 0,
           "timepoint": 39,
           "trajectory": "H_data",
           "value": 0
          },
          {
           "sample_id": 0,
           "timepoint": 45,
           "trajectory": "H_data",
           "value": 0
          },
          {
           "sample_id": 0,
           "timepoint": 46,
           "trajectory": "H_data",
           "value": 1
          },
          {
           "sample_id": 0,
           "timepoint": 52,
           "trajectory": "H_data",
           "value": 0
          },
          {
           "sample_id": 0,
           "timepoint": 53,
           "trajectory": "H_data",
           "value": 0
          },
          {
           "sample_id": 0,
           "timepoint": 54,
           "trajectory": "H_data",
           "value": 1
          },
          {
           "sample_id": 0,
           "timepoint": 55,
           "trajectory": "H_data",
           "value": 0
          },
          {
           "sample_id": 0,
           "timepoint": 56,
           "trajectory": "H_data",
           "value": 0
          },
          {
           "sample_id": 0,
           "timepoint": 57,
           "trajectory": "H_data",
           "value": 0
          },
          {
           "sample_id": 0,
           "timepoint": 58,
           "trajectory": "H_data",
           "value": 0
          },
          {
           "sample_id": 0,
           "timepoint": 59,
           "trajectory": "H_data",
           "value": 0
          },
          {
           "sample_id": 0,
           "timepoint": 0,
           "trajectory": "D_data",
           "value": 0
          },
          {
           "sample_id": 0,
           "timepoint": 1,
           "trajectory": "D_data",
           "value": 0
          },
          {
           "sample_id": 0,
           "timepoint": 2,
           "trajectory": "D_data",
           "value": 0
          },
          {
           "sample_id": 0,
           "timepoint": 3,
           "trajectory": "D_data",
           "value": 0
          },
          {
           "sample_id": 0,
           "timepoint": 4,
           "trajectory": "D_data",
           "value": 0
          },
          {
           "sample_id": 0,
           "timepoint": 5,
           "trajectory": "D_data",
           "value": 0
          },
          {
           "sample_id": 0,
           "timepoint": 6,
           "trajectory": "D_data",
           "value": 0
          },
          {
           "sample_id": 0,
           "timepoint": 7,
           "trajectory": "D_data",
           "value": 0
          },
          {
           "sample_id": 0,
           "timepoint": 8,
           "trajectory": "D_data",
           "value": 1
          },
          {
           "sample_id": 0,
           "timepoint": 9,
           "trajectory": "D_data",
           "value": 1
          },
          {
           "sample_id": 0,
           "timepoint": 10,
           "trajectory": "D_data",
           "value": 1
          },
          {
           "sample_id": 0,
           "timepoint": 11,
           "trajectory": "D_data",
           "value": 4
          },
          {
           "sample_id": 0,
           "timepoint": 12,
           "trajectory": "D_data",
           "value": 9
          },
          {
           "sample_id": 0,
           "timepoint": 13,
           "trajectory": "D_data",
           "value": 19
          },
          {
           "sample_id": 0,
           "timepoint": 14,
           "trajectory": "D_data",
           "value": 30
          },
          {
           "sample_id": 0,
           "timepoint": 15,
           "trajectory": "D_data",
           "value": 51
          },
          {
           "sample_id": 0,
           "timepoint": 16,
           "trajectory": "D_data",
           "value": 77
          },
          {
           "sample_id": 0,
           "timepoint": 17,
           "trajectory": "D_data",
           "value": 129
          },
          {
           "sample_id": 0,
           "timepoint": 18,
           "trajectory": "D_data",
           "value": 175
          },
          {
           "sample_id": 0,
           "timepoint": 19,
           "trajectory": "D_data",
           "value": 226
          },
          {
           "sample_id": 0,
           "timepoint": 20,
           "trajectory": "D_data",
           "value": 315
          },
          {
           "sample_id": 0,
           "timepoint": 21,
           "trajectory": "D_data",
           "value": 427
          },
          {
           "sample_id": 0,
           "timepoint": 22,
           "trajectory": "D_data",
           "value": 565
          },
          {
           "sample_id": 0,
           "timepoint": 23,
           "trajectory": "D_data",
           "value": 759
          },
          {
           "sample_id": 0,
           "timepoint": 24,
           "trajectory": "D_data",
           "value": 984
          },
          {
           "sample_id": 0,
           "timepoint": 25,
           "trajectory": "D_data",
           "value": 1285
          },
          {
           "sample_id": 0,
           "timepoint": 26,
           "trajectory": "D_data",
           "value": 1603
          },
          {
           "sample_id": 0,
           "timepoint": 27,
           "trajectory": "D_data",
           "value": 1930
          },
          {
           "sample_id": 0,
           "timepoint": 28,
           "trajectory": "D_data",
           "value": 2334
          },
          {
           "sample_id": 0,
           "timepoint": 29,
           "trajectory": "D_data",
           "value": 2859
          },
          {
           "sample_id": 0,
           "timepoint": 30,
           "trajectory": "D_data",
           "value": 3420
          },
          {
           "sample_id": 0,
           "timepoint": 31,
           "trajectory": "D_data",
           "value": 3989
          },
          {
           "sample_id": 0,
           "timepoint": 32,
           "trajectory": "D_data",
           "value": 4634
          },
          {
           "sample_id": 0,
           "timepoint": 33,
           "trajectory": "D_data",
           "value": 5384
          },
          {
           "sample_id": 0,
           "timepoint": 34,
           "trajectory": "D_data",
           "value": 6185
          },
          {
           "sample_id": 0,
           "timepoint": 35,
           "trajectory": "D_data",
           "value": 7241
          },
          {
           "sample_id": 0,
           "timepoint": 36,
           "trajectory": "D_data",
           "value": 7985
          },
          {
           "sample_id": 0,
           "timepoint": 37,
           "trajectory": "D_data",
           "value": 8846
          },
          {
           "sample_id": 0,
           "timepoint": 38,
           "trajectory": "D_data",
           "value": 9579
          },
          {
           "sample_id": 0,
           "timepoint": 39,
           "trajectory": "D_data",
           "value": 10345
          },
          {
           "sample_id": 0,
           "timepoint": 40,
           "trajectory": "D_data",
           "value": 11126
          },
          {
           "sample_id": 0,
           "timepoint": 41,
           "trajectory": "D_data",
           "value": 11930
          },
          {
           "sample_id": 0,
           "timepoint": 42,
           "trajectory": "D_data",
           "value": 12669
          },
          {
           "sample_id": 0,
           "timepoint": 43,
           "trajectory": "D_data",
           "value": 13332
          },
          {
           "sample_id": 0,
           "timepoint": 44,
           "trajectory": "D_data",
           "value": 13987
          },
          {
           "sample_id": 0,
           "timepoint": 45,
           "trajectory": "D_data",
           "value": 14371
          },
          {
           "sample_id": 0,
           "timepoint": 46,
           "trajectory": "D_data",
           "value": 14780
          },
          {
           "sample_id": 0,
           "timepoint": 47,
           "trajectory": "D_data",
           "value": 15225
          },
          {
           "sample_id": 0,
           "timepoint": 48,
           "trajectory": "D_data",
           "value": 16116
          },
          {
           "sample_id": 0,
           "timepoint": 49,
           "trajectory": "D_data",
           "value": 16639
          },
          {
           "sample_id": 0,
           "timepoint": 50,
           "trajectory": "D_data",
           "value": 17091
          },
          {
           "sample_id": 0,
           "timepoint": 51,
           "trajectory": "D_data",
           "value": 17647
          },
          {
           "sample_id": 0,
           "timepoint": 52,
           "trajectory": "D_data",
           "value": 18132
          },
          {
           "sample_id": 0,
           "timepoint": 53,
           "trajectory": "D_data",
           "value": 18523
          },
          {
           "sample_id": 0,
           "timepoint": 54,
           "trajectory": "D_data",
           "value": 18882
          },
          {
           "sample_id": 0,
           "timepoint": 55,
           "trajectory": "D_data",
           "value": 19292
          },
          {
           "sample_id": 0,
           "timepoint": 56,
           "trajectory": "D_data",
           "value": 19602
          },
          {
           "sample_id": 0,
           "timepoint": 57,
           "trajectory": "D_data",
           "value": 20000
          },
          {
           "sample_id": 0,
           "timepoint": 58,
           "trajectory": "D_data",
           "value": 20334
          },
          {
           "sample_id": 0,
           "timepoint": 59,
           "trajectory": "D_data",
           "value": 20662
          }
         ]
        },
        {
         "name": "markers",
         "values": []
        },
        {
         "name": "selected",
         "on": [
          {
           "remove": true,
           "trigger": "clear"
          },
          {
           "remove": true,
           "trigger": "!shift"
          },
          {
           "insert": "clicked",
           "trigger": "!shift && clicked"
          },
          {
           "toggle": "clicked",
           "trigger": "shift && clicked"
          }
         ]
        }
       ],
       "height": 300,
       "legends": [
        {
         "encode": {
          "labels": {
           "interactive": true,
           "name": "legendLabel",
           "update": {
            "opacity": [
             {
              "test": "!length(data('selected')) || indata('selected', 'value', datum.value)",
              "value": 1
             },
             {
              "value": 0.25
             }
            ]
           }
          },
          "symbols": {
           "interactive": true,
           "name": "legendSymbol",
           "update": {
            "fill": {
             "value": "transparent"
            },
            "opacity": [
             {
              "test": "!length(data('selected')) || indata('selected', 'value', datum.value)",
              "value": 0.7
             },
             {
              "value": 0.15
             }
            ],
            "size": {
             "value": 64
            },
            "strokeWidth": {
             "value": 2
            }
           }
          }
         },
         "name": "color_legend",
         "stroke": "color"
        }
       ],
       "marks": [
        {
         "from": {
          "facet": {
           "data": "points",
           "groupby": "trajectory",
           "name": "points_split"
          }
         },
         "marks": [
          {
           "encode": {
            "hover": {
             "fillOpacity": {
              "value": 0.9
             }
            },
            "update": {
             "fill": {
              "field": "trajectory",
              "scale": "color"
             },
             "fillOpacity": [
              {
               "test": "!length(data('selected')) || indata('selected', 'value', datum.trajectory)",
               "value": 0.5
              },
              {
               "value": 0.15
              }
             ],
             "size": {
              "value": 10
             },
             "stroke": {
              "field": "trajectory",
              "scale": "color"
             },
             "strokeOpacity": [
              {
               "test": "!length(data('selected')) || indata('selected', 'value', datum.trajectory)",
               "value": 0.75
              },
              {
               "value": 0.15
              }
             ],
             "strokeWidth": {
              "value": 2
             },
             "tooltip": {
              "field": "value"
             },
             "x": {
              "field": "timepoint",
              "scale": "xscale"
             },
             "y": {
              "field": "value",
              "scale": "yscale"
             }
            }
           },
           "from": {
            "data": "points"
           },
           "name": "_points_symbol",
           "type": "symbol",
           "zindex": 3
          },
          {
           "encode": {
            "hover": {
             "fillOpacity": {
              "value": 0.9
             }
            },
            "update": {
             "interpolate": {
              "value": "linear"
             },
             "stroke": {
              "field": "trajectory",
              "scale": "color"
             },
             "strokeOpacity": [
              {
               "test": "!length(data('selected')) || indata('selected', 'value', datum.trajectory)",
               "value": 0.3
              },
              {
               "value": 0.1
              }
             ],
             "strokeWidth": {
              "value": 2
             },
             "x": {
              "field": "timepoint",
              "scale": "xscale"
             },
             "y": {
              "field": "value",
              "scale": "yscale"
             }
            }
           },
           "from": {
            "data": "points"
           },
           "name": "_points_line",
           "type": "line",
           "zindex": 3
          }
         ],
         "name": "_points",
         "type": "group",
         "zindex": 3
        },
        {
         "from": {
          "facet": {
           "data": "traces",
           "groupby": "trajectory",
           "name": "traces_split"
          }
         },
         "marks": [
          {
           "encode": {
            "hover": {
             "fillOpacity": {
              "value": 0.9
             }
            },
            "update": {
             "interpolate": {
              "value": "linear"
             },
             "stroke": {
              "field": "trajectory",
              "scale": "color"
             },
             "strokeOpacity": [
              {
               "test": "!length(data('selected')) || indata('selected', 'value', datum.trajectory)",
               "value": 0.75
              },
              {
               "value": 0.15
              }
             ],
             "strokeWidth": {
              "value": 2
             },
             "x": {
              "field": "timepoint",
              "scale": "xscale"
             },
             "y": {
              "field": "value",
              "scale": "yscale"
             }
            }
           },
           "from": {
            "data": "traces_split"
           },
           "name": "_traces_lines",
           "type": "line"
          }
         ],
         "name": "_traces",
         "type": "group",
         "zindex": 2
        },
        {
         "from": {
          "facet": {
           "data": "distributions",
           "groupby": "trajectory",
           "name": "trajectory_split"
          }
         },
         "marks": [
          {
           "encode": {
            "hover": {
             "fillOpacity": {
              "value": 0.9
             }
            },
            "update": {
             "fill": {
              "field": "trajectory",
              "scale": "color"
             },
             "fillOpacity": [
              {
               "test": "!length(data('selected')) || indata('selected', 'value', datum.trajectory)",
               "value": 0.5
              },
              {
               "value": 0.15
              }
             ],
             "interpolate": {
              "value": "linear"
             },
             "stroke": {
              "field": "trajectory",
              "scale": "color"
             },
             "strokeOpacity": [
              {
               "test": "!length(data('selected')) || indata('selected', 'value', datum.trajectory)",
               "value": 0.75
              },
              {
               "value": 0.15
              }
             ],
             "strokeWidth": {
              "value": 2
             },
             "x": {
              "field": "timepoint",
              "scale": "xscale"
             },
             "y": {
              "field": "upper",
              "scale": "yscale"
             },
             "y2": {
              "field": "lower",
              "scale": "yscale"
             }
            }
           },
           "from": {
            "data": "trajectory_split"
           },
           "type": "area"
          }
         ],
         "name": "_distributions",
         "type": "group",
         "zindex": 1
        },
        {
         "marks": [
          {
           "encode": {
            "enter": {
             "stroke": {
              "value": "lightgray"
             }
            },
            "update": {
             "opacity": {
              "value": 1
             },
             "x": {
              "field": "timepoint",
              "scale": "xscale"
             },
             "y": {
              "signal": "height"
             },
             "y2": {
              "value": 0
             }
            }
           },
           "from": {
            "data": "markers"
           },
           "name": "_marker text",
           "type": "rule"
          },
          {
           "encode": {
            "enter": {
             "fontSize": {
              "value": 8
             },
             "text": {
              "field": "datum.label"
             },
             "y": {
              "value": 0
             }
            }
           },
           "from": {
            "data": "_marker text"
           },
           "name": "_marker flags",
           "transform": [
            {
             "as": [
              "x",
              "_y",
              "opacity",
              "align",
              "baseline"
             ],
             "lineAnchor": "start",
             "offset": [
              1
             ],
             "size": {
              "signal": "[width, height]"
             },
             "type": "label"
            }
           ],
           "type": "text"
          }
         ],
         "name": "_markers",
         "type": "group"
        }
       ],
       "padding": 5,
       "scales": [
        {
         "domain": {
          "fields": [
           {
            "data": "distributions",
            "field": "timepoint"
           },
           {
            "data": "traces",
            "field": "timepoint"
           },
           {
            "data": "points",
            "field": "timepoint"
           },
           {
            "data": "markers",
            "field": "timepoint"
           }
          ]
         },
         "name": "xscale",
         "range": "width",
         "type": "linear",
         "zero": false
        },
        {
         "domain": {
          "fields": [
           {
            "data": "distributions",
            "field": "lower"
           },
           {
            "data": "distributions",
            "field": "upper"
           },
           {
            "data": "traces",
            "field": "value"
           },
           {
            "data": "points",
            "field": "value"
           }
          ]
         },
         "name": "yscale",
         "nice": true,
         "range": "height",
         "type": "linear",
         "zero": true
        },
        {
         "domain": {
          "fields": [
           {
            "data": "distributions",
            "field": "trajectory"
           },
           {
            "data": "traces",
            "field": "trajectory"
           },
           {
            "data": "points",
            "field": "trajectory"
           }
          ]
         },
         "name": "color",
         "range": "category",
         "type": "ordinal"
        }
       ],
       "signals": [
        {
         "name": "clear",
         "on": [
          {
           "events": "mouseup[!event.item]",
           "force": true,
           "update": "true"
          }
         ],
         "value": true
        },
        {
         "name": "shift",
         "on": [
          {
           "events": "@legendSymbol:click, @legendLabel:click",
           "force": true,
           "update": "event.shiftKey"
          }
         ],
         "value": false
        },
        {
         "name": "clicked",
         "on": [
          {
           "events": "@legendSymbol:click, @legendLabel:click",
           "force": true,
           "update": "{value: datum.value}"
          }
         ],
         "value": null
        }
       ],
       "width": 500
      }
     },
     "metadata": {},
     "output_type": "display_data"
    }
   ],
   "source": [
    "num_samples = 100\n",
    "model_paths = [model6_location]\n",
    "data_path = \"../../notebook/ensemble_eval_sa/datasets/NY_data1.csv\"\n",
    "weights = [1]\n",
    "solution_mappings = [{\"I\": \"infected\", \"D\": \"dead\"}]\n",
    "\n",
    "# Run the calibration and sampling\n",
    "result2 = load_and_calibrate_and_sample_ensemble_model(\n",
    "    model_paths,\n",
    "    data_path,\n",
    "    weights,\n",
    "    solution_mappings,\n",
    "    num_samples,\n",
    "    timepoints,\n",
    "    verbose=True,\n",
    "    total_population=19340000,\n",
    "    num_iterations=100,\n",
    "    time_unit=\"days\",\n",
    "    visual_options={\"title\": \"Calibrated Ensemble\", \"subset\":\".*_sol\"}\n",
    ")\n",
    "\n",
    "# # Save results\n",
    "# result2[\"data\"].to_csv(\"../../notebook/ensemble_eval_sa/ensemble_results/partI_ensemble_of_one_results.csv\", index=False)\n",
    "# result2[\"quantiles\"].to_csv(\"../../notebook/ensemble_eval_sa/ensemble_results/partI_ensemble_of_one_quantiles.csv\", index=False)\n",
    "\n",
    "# Plot results\n",
    "schema = plots.trajectories(pd.DataFrame(result2[\"data\"]), subset=\".*_sol\",\n",
    "                            points=test_data.reset_index(drop=True).rename(columns={\"I\":\"I_data\", \"H\":\"H_data\", \"D\":\"D_data\"}),\n",
    "                           )\n",
    "schema = plots.pad(schema, 5)\n",
    "plots.ipy_display(schema)"
   ]
  },
  {
   "cell_type": "code",
   "execution_count": null,
   "id": "654bb2a6-f7dd-45bb-9ebe-183ac72bd67e",
   "metadata": {},
   "outputs": [],
   "source": [
    "num_samples = 100\n",
    "model_paths = [model7_location]\n",
    "data_path = \"../../notebook/ensemble_eval_sa/datasets/NY_data1.csv\"\n",
    "weights = [1]\n",
    "solution_mappings = [{\"I\": \"infected\", \"D\": \"dead\"}]\n",
    "\n",
    "# Run the calibration and sampling\n",
    "result3 = load_and_calibrate_and_sample_ensemble_model(\n",
    "    model_paths,\n",
    "    data_path,\n",
    "    weights,\n",
    "    solution_mappings,\n",
    "    num_samples,\n",
    "    timepoints,\n",
    "    verbose=True,\n",
    "    total_population=19340000,\n",
    "    num_iterations=50,\n",
    "    time_unit=\"days\",\n",
    "    visual_options={\"title\": \"Calibrated Ensemble\", \"subset\":\".*_sol\"}\n",
    ")\n",
    "\n",
    "# # Save results\n",
    "# result3[\"data\"].to_csv(\"../../notebook/ensemble_eval_sa/ensemble_results/partI_ensemble_of_one_results.csv\", index=False)\n",
    "# result3[\"quantiles\"].to_csv(\"../../notebook/ensemble_eval_sa/ensemble_results/partI_ensemble_of_one_quantiles.csv\", index=False)\n",
    "\n",
    "# Plot results\n",
    "schema = plots.trajectories(pd.DataFrame(result3[\"data\"]), subset=\".*_sol\",\n",
    "                            points=test_data.reset_index(drop=True).rename(columns={\"I\":\"I_data\", \"H\":\"H_data\", \"D\":\"D_data\"}),\n",
    "                           )\n",
    "schema = plots.pad(schema, 5)\n",
    "plots.ipy_display(schema)"
   ]
  },
  {
   "cell_type": "markdown",
   "id": "2ded2349-d56b-4fe5-a685-06b37cc78831",
   "metadata": {},
   "source": [
    "# Calibrate and sample an ensemble of multiple models"
   ]
  },
  {
   "cell_type": "code",
   "execution_count": 6,
   "id": "5220df5c-61a0-47ad-ac94-fc543e8cb523",
   "metadata": {},
   "outputs": [
    {
     "name": "stdout",
     "output_type": "stream",
     "text": [
      "iteration 0: loss = 770.0332576930523\n",
      "iteration 25: loss = 725.9352768361568\n",
      "iteration 50: loss = 683.1315333545208\n",
      "iteration 75: loss = 657.1365496814251\n",
      "iteration 100: loss = 639.9664190709591\n",
      "iteration 125: loss = 651.2667129933834\n",
      "iteration 150: loss = 644.3884951770306\n",
      "iteration 175: loss = 640.9029484689236\n",
      "iteration 200: loss = 642.0637594163418\n",
      "iteration 225: loss = 641.8007166087627\n",
      "iteration 250: loss = 635.0509063899517\n",
      "iteration 275: loss = 638.1880713403225\n",
      "\n"
     ]
    },
    {
     "data": {
      "application/vnd.vega.v5+json": {
       "$schema": "https://vega.github.io/schema/vega/v5.json",
       "axes": [
        {
         "name": "x_axis",
         "orient": "bottom",
         "scale": "xscale",
         "zindex": 100
        },
        {
         "name": "y_axis",
         "orient": "left",
         "scale": "yscale",
         "zindex": 100
        }
       ],
       "data": [
        {
         "name": "distributions",
         "values": [
          {
           "lower": 1.3788892867524356e-22,
           "timepoint": 0,
           "trajectory": "D_sol",
           "upper": 1.4788771603645961e-21
          },
          {
           "lower": 0.015571758896112443,
           "timepoint": 1,
           "trajectory": "D_sol",
           "upper": 0.16467077061533925
          },
          {
           "lower": 0.06728563643991947,
           "timepoint": 2,
           "trajectory": "D_sol",
           "upper": 0.7132410407066344
          },
          {
           "lower": 0.1590779773890972,
           "timepoint": 3,
           "trajectory": "D_sol",
           "upper": 1.712014693021774
          },
          {
           "lower": 0.29498758912086487,
           "timepoint": 4,
           "trajectory": "D_sol",
           "upper": 3.2450815439224234
          },
          {
           "lower": 0.47959406673908234,
           "timepoint": 5,
           "trajectory": "D_sol",
           "upper": 5.409969687461852
          },
          {
           "lower": 0.7052746593952179,
           "timepoint": 6,
           "trajectory": "D_sol",
           "upper": 8.31236639022827
          },
          {
           "lower": 1.0187936097383499,
           "timepoint": 7,
           "trajectory": "D_sol",
           "upper": 12.101821184158323
          },
          {
           "lower": 1.395495480298996,
           "timepoint": 8,
           "trajectory": "D_sol",
           "upper": 16.965930747985837
          },
          {
           "lower": 1.8625698804855346,
           "timepoint": 9,
           "trajectory": "D_sol",
           "upper": 23.142825126647946
          },
          {
           "lower": 2.4369964599609375,
           "timepoint": 10,
           "trajectory": "D_sol",
           "upper": 30.933204174041744
          },
          {
           "lower": 3.1416057705879212,
           "timepoint": 11,
           "trajectory": "D_sol",
           "upper": 40.92545948028564
          },
          {
           "lower": 3.9929160356521605,
           "timepoint": 12,
           "trajectory": "D_sol",
           "upper": 53.71313705444336
          },
          {
           "lower": 4.979491209983825,
           "timepoint": 13,
           "trajectory": "D_sol",
           "upper": 69.88090591430664
          },
          {
           "lower": 6.0277299880981445,
           "timepoint": 14,
           "trajectory": "D_sol",
           "upper": 90.11974334716797
          },
          {
           "lower": 7.278481531143188,
           "timepoint": 15,
           "trajectory": "D_sol",
           "upper": 114.75595817565917
          },
          {
           "lower": 8.778244876861573,
           "timepoint": 16,
           "trajectory": "D_sol",
           "upper": 145.54678268432616
          },
          {
           "lower": 10.583905220031738,
           "timepoint": 17,
           "trajectory": "D_sol",
           "upper": 183.9781455993652
          },
          {
           "lower": 12.76381974220276,
           "timepoint": 18,
           "trajectory": "D_sol",
           "upper": 232.36010818481444
          },
          {
           "lower": 14.730609703063966,
           "timepoint": 19,
           "trajectory": "D_sol",
           "upper": 296.1513687133789
          },
          {
           "lower": 16.73634281158447,
           "timepoint": 20,
           "trajectory": "D_sol",
           "upper": 376.0281768798828
          },
          {
           "lower": 19.594811630249023,
           "timepoint": 21,
           "trajectory": "D_sol",
           "upper": 475.2377258300781
          },
          {
           "lower": 23.461267471313477,
           "timepoint": 22,
           "trajectory": "D_sol",
           "upper": 597.1167755126953
          },
          {
           "lower": 28.008223247528075,
           "timepoint": 23,
           "trajectory": "D_sol",
           "upper": 743.0920959472656
          },
          {
           "lower": 33.29061279296875,
           "timepoint": 24,
           "trajectory": "D_sol",
           "upper": 911.2735382080078
          },
          {
           "lower": 39.340917396545414,
           "timepoint": 25,
           "trajectory": "D_sol",
           "upper": 1112.599981689453
          },
          {
           "lower": 46.28167839050293,
           "timepoint": 26,
           "trajectory": "D_sol",
           "upper": 1344.2442260742187
          },
          {
           "lower": 54.03440265655517,
           "timepoint": 27,
           "trajectory": "D_sol",
           "upper": 1605.0061645507812
          },
          {
           "lower": 62.547339248657224,
           "timepoint": 28,
           "trajectory": "D_sol",
           "upper": 1893.6345642089843
          },
          {
           "lower": 73.15018692016602,
           "timepoint": 29,
           "trajectory": "D_sol",
           "upper": 2208.255346679687
          },
          {
           "lower": 85.5645881652832,
           "timepoint": 30,
           "trajectory": "D_sol",
           "upper": 2546.6058471679685
          },
          {
           "lower": 99.09108810424804,
           "timepoint": 31,
           "trajectory": "D_sol",
           "upper": 2906.210119628906
          },
          {
           "lower": 113.69817390441895,
           "timepoint": 32,
           "trajectory": "D_sol",
           "upper": 3283.7881225585934
          },
          {
           "lower": 127.04596481323243,
           "timepoint": 33,
           "trajectory": "D_sol",
           "upper": 3677.0342163085934
          },
          {
           "lower": 138.6239978790283,
           "timepoint": 34,
           "trajectory": "D_sol",
           "upper": 4084.023107910156
          },
          {
           "lower": 150.18417510986328,
           "timepoint": 35,
           "trajectory": "D_sol",
           "upper": 4502.6690673828125
          },
          {
           "lower": 161.65412368774415,
           "timepoint": 36,
           "trajectory": "D_sol",
           "upper": 4931.066333007812
          },
          {
           "lower": 172.9730239868164,
           "timepoint": 37,
           "trajectory": "D_sol",
           "upper": 5367.572973632812
          },
          {
           "lower": 184.09160919189452,
           "timepoint": 38,
           "trajectory": "D_sol",
           "upper": 5810.736596679687
          },
          {
           "lower": 194.9705383300781,
           "timepoint": 39,
           "trajectory": "D_sol",
           "upper": 6259.31884765625
          },
          {
           "lower": 205.57933502197267,
           "timepoint": 40,
           "trajectory": "D_sol",
           "upper": 6712.226025390624
          },
          {
           "lower": 215.89532623291015,
           "timepoint": 41,
           "trajectory": "D_sol",
           "upper": 7168.583666992187
          },
          {
           "lower": 226.01192626953124,
           "timepoint": 42,
           "trajectory": "D_sol",
           "upper": 7625.294384765625
          },
          {
           "lower": 239.0012405395508,
           "timepoint": 43,
           "trajectory": "D_sol",
           "upper": 8083.397412109375
          },
          {
           "lower": 252.04011306762695,
           "timepoint": 44,
           "trajectory": "D_sol",
           "upper": 8510.242578125
          },
          {
           "lower": 263.8496223449707,
           "timepoint": 45,
           "trajectory": "D_sol",
           "upper": 8905.07470703125
          },
          {
           "lower": 273.75651397705076,
           "timepoint": 46,
           "trajectory": "D_sol",
           "upper": 9293.920361328124
          },
          {
           "lower": 283.4583221435547,
           "timepoint": 47,
           "trajectory": "D_sol",
           "upper": 9676.556005859375
          },
          {
           "lower": 292.9578033447266,
           "timepoint": 48,
           "trajectory": "D_sol",
           "upper": 10052.828173828124
          },
          {
           "lower": 302.2587142944336,
           "timepoint": 49,
           "trajectory": "D_sol",
           "upper": 10422.629492187498
          },
          {
           "lower": 311.3659378051758,
           "timepoint": 50,
           "trajectory": "D_sol",
           "upper": 10785.910937499999
          },
          {
           "lower": 320.28419189453126,
           "timepoint": 51,
           "trajectory": "D_sol",
           "upper": 11142.629199218749
          },
          {
           "lower": 329.0187713623047,
           "timepoint": 52,
           "trajectory": "D_sol",
           "upper": 11492.858691406247
          },
          {
           "lower": 337.57525024414065,
           "timepoint": 53,
           "trajectory": "D_sol",
           "upper": 11836.566894531248
          },
          {
           "lower": 345.95838317871096,
           "timepoint": 54,
           "trajectory": "D_sol",
           "upper": 12173.842529296871
          },
          {
           "lower": 354.1739471435547,
           "timepoint": 55,
           "trajectory": "D_sol",
           "upper": 12504.750830078121
          },
          {
           "lower": 362.22739868164064,
           "timepoint": 56,
           "trajectory": "D_sol",
           "upper": 12829.379980468746
          },
          {
           "lower": 370.1233383178711,
           "timepoint": 57,
           "trajectory": "D_sol",
           "upper": 13147.831835937495
          },
          {
           "lower": 377.86678314208984,
           "timepoint": 58,
           "trajectory": "D_sol",
           "upper": 13460.18706054687
          },
          {
           "lower": 385.4627166748047,
           "timepoint": 59,
           "trajectory": "D_sol",
           "upper": 13766.57026367187
          },
          {
           "lower": 149.80305709838868,
           "timepoint": 0,
           "trajectory": "I_sol",
           "upper": 180.16375350952148
          },
          {
           "lower": 233.31519622802733,
           "timepoint": 1,
           "trajectory": "I_sol",
           "upper": 300.56779327392576
          },
          {
           "lower": 313.64667358398435,
           "timepoint": 2,
           "trajectory": "I_sol",
           "upper": 411.7489532470703
          },
          {
           "lower": 405.0315139770508,
           "timepoint": 3,
           "trajectory": "I_sol",
           "upper": 528.0813720703125
          },
          {
           "lower": 508.87916259765626,
           "timepoint": 4,
           "trajectory": "I_sol",
           "upper": 658.9223754882812
          },
          {
           "lower": 622.8372680664063,
           "timepoint": 5,
           "trajectory": "I_sol",
           "upper": 821.6862762451171
          },
          {
           "lower": 774.1077911376954,
           "timepoint": 6,
           "trajectory": "I_sol",
           "upper": 1016.0207092285156
          },
          {
           "lower": 955.5665008544922,
           "timepoint": 7,
           "trajectory": "I_sol",
           "upper": 1268.9402954101563
          },
          {
           "lower": 1181.3120971679687,
           "timepoint": 8,
           "trajectory": "I_sol",
           "upper": 1609.9193298339844
          },
          {
           "lower": 1465.0802734375,
           "timepoint": 9,
           "trajectory": "I_sol",
           "upper": 2012.7630920410156
          },
          {
           "lower": 1820.6603271484375,
           "timepoint": 10,
           "trajectory": "I_sol",
           "upper": 2519.680676269531
          },
          {
           "lower": 2251.9130004882813,
           "timepoint": 11,
           "trajectory": "I_sol",
           "upper": 3175.7650634765623
          },
          {
           "lower": 2784.6941528320312,
           "timepoint": 12,
           "trajectory": "I_sol",
           "upper": 3986.5710205078126
          },
          {
           "lower": 3455.2562744140623,
           "timepoint": 13,
           "trajectory": "I_sol",
           "upper": 5061.5671875
          },
          {
           "lower": 4280.115063476563,
           "timepoint": 14,
           "trajectory": "I_sol",
           "upper": 6413.52353515625
          },
          {
           "lower": 5247.158203125,
           "timepoint": 15,
           "trajectory": "I_sol",
           "upper": 8109.10751953125
          },
          {
           "lower": 6420.935473632812,
           "timepoint": 16,
           "trajectory": "I_sol",
           "upper": 10222.83515625
          },
          {
           "lower": 8008.842749023437,
           "timepoint": 17,
           "trajectory": "I_sol",
           "upper": 12760.669726562499
          },
          {
           "lower": 9964.61328125,
           "timepoint": 18,
           "trajectory": "I_sol",
           "upper": 15925.838134765625
          },
          {
           "lower": 12128.9173828125,
           "timepoint": 19,
           "trajectory": "I_sol",
           "upper": 19671.29306640625
          },
          {
           "lower": 14577.10849609375,
           "timepoint": 20,
           "trajectory": "I_sol",
           "upper": 23946.89697265625
          },
          {
           "lower": 17322.2486328125,
           "timepoint": 21,
           "trajectory": "I_sol",
           "upper": 28600.90546875
          },
          {
           "lower": 20217.11943359375,
           "timepoint": 22,
           "trajectory": "I_sol",
           "upper": 33375.421875
          },
          {
           "lower": 23056.40732421875,
           "timepoint": 23,
           "trajectory": "I_sol",
           "upper": 37950.1197265625
          },
          {
           "lower": 25679.5818359375,
           "timepoint": 24,
           "trajectory": "I_sol",
           "upper": 42017.4458984375
          },
          {
           "lower": 27968.44130859375,
           "timepoint": 25,
           "trajectory": "I_sol",
           "upper": 45352.61796875
          },
          {
           "lower": 29272.2869140625,
           "timepoint": 26,
           "trajectory": "I_sol",
           "upper": 48378.6064453125
          },
          {
           "lower": 30172.35146484375,
           "timepoint": 27,
           "trajectory": "I_sol",
           "upper": 50855.6990234375
          },
          {
           "lower": 30917.061328125,
           "timepoint": 28,
           "trajectory": "I_sol",
           "upper": 52812.0806640625
          },
          {
           "lower": 30900.1501953125,
           "timepoint": 29,
           "trajectory": "I_sol",
           "upper": 54314.7005859375
          },
          {
           "lower": 30573.1197265625,
           "timepoint": 30,
           "trajectory": "I_sol",
           "upper": 55418.0986328125
          },
          {
           "lower": 29986.951953125,
           "timepoint": 31,
           "trajectory": "I_sol",
           "upper": 56164.3294921875
          },
          {
           "lower": 29202.09541015625,
           "timepoint": 32,
           "trajectory": "I_sol",
           "upper": 56238.70859375
          },
          {
           "lower": 27956.03701171875,
           "timepoint": 33,
           "trajectory": "I_sol",
           "upper": 55791.3298828125
          },
          {
           "lower": 26655.95009765625,
           "timepoint": 34,
           "trajectory": "I_sol",
           "upper": 55158.74550781249
          },
          {
           "lower": 25522.55419921875,
           "timepoint": 35,
           "trajectory": "I_sol",
           "upper": 55146.10839843749
          },
          {
           "lower": 24522.236328125,
           "timepoint": 36,
           "trajectory": "I_sol",
           "upper": 55359.180273437494
          },
          {
           "lower": 23526.51513671875,
           "timepoint": 37,
           "trajectory": "I_sol",
           "upper": 55525.8875
          },
          {
           "lower": 22567.62509765625,
           "timepoint": 38,
           "trajectory": "I_sol",
           "upper": 55660.59179687499
          },
          {
           "lower": 21664.28525390625,
           "timepoint": 39,
           "trajectory": "I_sol",
           "upper": 55773.71289062499
          },
          {
           "lower": 20737.43583984375,
           "timepoint": 40,
           "trajectory": "I_sol",
           "upper": 55872.727148437494
          },
          {
           "lower": 19839.5263671875,
           "timepoint": 41,
           "trajectory": "I_sol",
           "upper": 55962.8388671875
          },
          {
           "lower": 18974.2341796875,
           "timepoint": 42,
           "trajectory": "I_sol",
           "upper": 56047.834179687496
          },
          {
           "lower": 18142.27646484375,
           "timepoint": 43,
           "trajectory": "I_sol",
           "upper": 56130.147265625
          },
          {
           "lower": 17343.815625,
           "timepoint": 44,
           "trajectory": "I_sol",
           "upper": 56211.548828125
          },
          {
           "lower": 16392.517822265625,
           "timepoint": 45,
           "trajectory": "I_sol",
           "upper": 56293.0787109375
          },
          {
           "lower": 15421.433056640624,
           "timepoint": 46,
           "trajectory": "I_sol",
           "upper": 56375.534375
          },
          {
           "lower": 14505.363623046875,
           "timepoint": 47,
           "trajectory": "I_sol",
           "upper": 56459.201171875
          },
          {
           "lower": 13641.85009765625,
           "timepoint": 48,
           "trajectory": "I_sol",
           "upper": 56399.4703125
          },
          {
           "lower": 12828.44111328125,
           "timepoint": 49,
           "trajectory": "I_sol",
           "upper": 56298.325
          },
          {
           "lower": 12062.51494140625,
           "timepoint": 50,
           "trajectory": "I_sol",
           "upper": 56195.355664062496
          },
          {
           "lower": 11341.594140625,
           "timepoint": 51,
           "trajectory": "I_sol",
           "upper": 56090.8396484375
          },
          {
           "lower": 10663.2392578125,
           "timepoint": 52,
           "trajectory": "I_sol",
           "upper": 55984.834179687496
          },
          {
           "lower": 10025.04404296875,
           "timepoint": 53,
           "trajectory": "I_sol",
           "upper": 55877.4560546875
          },
          {
           "lower": 9424.76650390625,
           "timepoint": 54,
           "trajectory": "I_sol",
           "upper": 55768.758007812496
          },
          {
           "lower": 8860.215576171875,
           "timepoint": 55,
           "trajectory": "I_sol",
           "upper": 55658.7771484375
          },
          {
           "lower": 8329.339453125,
           "timepoint": 56,
           "trajectory": "I_sol",
           "upper": 55547.5798828125
          },
          {
           "lower": 7830.152758789062,
           "timepoint": 57,
           "trajectory": "I_sol",
           "upper": 55435.174999999996
          },
          {
           "lower": 7360.792626953125,
           "timepoint": 58,
           "trajectory": "I_sol",
           "upper": 55400.41406249999
          },
          {
           "lower": 6919.503271484375,
           "timepoint": 59,
           "trajectory": "I_sol",
           "upper": 55465.351757812496
          }
         ]
        },
        {
         "name": "traces",
         "transform": [
          {
           "expr": "isValid(datum.value)",
           "type": "filter"
          }
         ],
         "values": []
        },
        {
         "name": "points",
         "values": [
          {
           "sample_id": 0,
           "timepoint": 0,
           "trajectory": "I_data",
           "value": 1
          },
          {
           "sample_id": 0,
           "timepoint": 1,
           "trajectory": "I_data",
           "value": 10
          },
          {
           "sample_id": 0,
           "timepoint": 2,
           "trajectory": "I_data",
           "value": 21
          },
          {
           "sample_id": 0,
           "timepoint": 3,
           "trajectory": "I_data",
           "value": 24
          },
          {
           "sample_id": 0,
           "timepoint": 4,
           "trajectory": "I_data",
           "value": 76
          },
          {
           "sample_id": 0,
           "timepoint": 5,
           "trajectory": "I_data",
           "value": 104
          },
          {
           "sample_id": 0,
           "timepoint": 6,
           "trajectory": "I_data",
           "value": 128
          },
          {
           "sample_id": 0,
           "timepoint": 7,
           "trajectory": "I_data",
           "value": 131
          },
          {
           "sample_id": 0,
           "timepoint": 8,
           "trajectory": "I_data",
           "value": 192
          },
          {
           "sample_id": 0,
           "timepoint": 9,
           "trajectory": "I_data",
           "value": 220
          },
          {
           "sample_id": 0,
           "timepoint": 10,
           "trajectory": "I_data",
           "value": 274
          },
          {
           "sample_id": 0,
           "timepoint": 11,
           "trajectory": "I_data",
           "value": 394
          },
          {
           "sample_id": 0,
           "timepoint": 12,
           "trajectory": "I_data",
           "value": 481
          },
          {
           "sample_id": 0,
           "timepoint": 13,
           "trajectory": "I_data",
           "value": 745
          },
          {
           "sample_id": 0,
           "timepoint": 14,
           "trajectory": "I_data",
           "value": 1111
          },
          {
           "sample_id": 0,
           "timepoint": 15,
           "trajectory": "I_data",
           "value": 2128
          },
          {
           "sample_id": 0,
           "timepoint": 16,
           "trajectory": "I_data",
           "value": 3671
          },
          {
           "sample_id": 0,
           "timepoint": 17,
           "trajectory": "I_data",
           "value": 6578
          },
          {
           "sample_id": 0,
           "timepoint": 18,
           "trajectory": "I_data",
           "value": 9449
          },
          {
           "sample_id": 0,
           "timepoint": 19,
           "trajectory": "I_data",
           "value": 13761
          },
          {
           "sample_id": 0,
           "timepoint": 20,
           "trajectory": "I_data",
           "value": 18270
          },
          {
           "sample_id": 0,
           "timepoint": 21,
           "trajectory": "I_data",
           "value": 21478
          },
          {
           "sample_id": 0,
           "timepoint": 22,
           "trajectory": "I_data",
           "value": 23630
          },
          {
           "sample_id": 0,
           "timepoint": 23,
           "trajectory": "I_data",
           "value": 26987
          },
          {
           "sample_id": 0,
           "timepoint": 24,
           "trajectory": "I_data",
           "value": 29533
          },
          {
           "sample_id": 0,
           "timepoint": 25,
           "trajectory": "I_data",
           "value": 31623
          },
          {
           "sample_id": 0,
           "timepoint": 26,
           "trajectory": "I_data",
           "value": 33967
          },
          {
           "sample_id": 0,
           "timepoint": 27,
           "trajectory": "I_data",
           "value": 35822
          },
          {
           "sample_id": 0,
           "timepoint": 28,
           "trajectory": "I_data",
           "value": 38456
          },
          {
           "sample_id": 0,
           "timepoint": 29,
           "trajectory": "I_data",
           "value": 45676
          },
          {
           "sample_id": 0,
           "timepoint": 30,
           "trajectory": "I_data",
           "value": 48380
          },
          {
           "sample_id": 0,
           "timepoint": 31,
           "trajectory": "I_data",
           "value": 51807
          },
          {
           "sample_id": 0,
           "timepoint": 32,
           "trajectory": "I_data",
           "value": 55042
          },
          {
           "sample_id": 0,
           "timepoint": 33,
           "trajectory": "I_data",
           "value": 56847
          },
          {
           "sample_id": 0,
           "timepoint": 34,
           "trajectory": "I_data",
           "value": 52184
          },
          {
           "sample_id": 0,
           "timepoint": 35,
           "trajectory": "I_data",
           "value": 49194
          },
          {
           "sample_id": 0,
           "timepoint": 36,
           "trajectory": "I_data",
           "value": 48730
          },
          {
           "sample_id": 0,
           "timepoint": 37,
           "trajectory": "I_data",
           "value": 50551
          },
          {
           "sample_id": 0,
           "timepoint": 38,
           "trajectory": "I_data",
           "value": 51029
          },
          {
           "sample_id": 0,
           "timepoint": 39,
           "trajectory": "I_data",
           "value": 49701
          },
          {
           "sample_id": 0,
           "timepoint": 40,
           "trajectory": "I_data",
           "value": 50661
          },
          {
           "sample_id": 0,
           "timepoint": 41,
           "trajectory": "I_data",
           "value": 48303
          },
          {
           "sample_id": 0,
           "timepoint": 42,
           "trajectory": "I_data",
           "value": 43703
          },
          {
           "sample_id": 0,
           "timepoint": 43,
           "trajectory": "I_data",
           "value": 38888
          },
          {
           "sample_id": 0,
           "timepoint": 44,
           "trajectory": "I_data",
           "value": 38244
          },
          {
           "sample_id": 0,
           "timepoint": 45,
           "trajectory": "I_data",
           "value": 36857
          },
          {
           "sample_id": 0,
           "timepoint": 46,
           "trajectory": "I_data",
           "value": 35881
          },
          {
           "sample_id": 0,
           "timepoint": 47,
           "trajectory": "I_data",
           "value": 35054
          },
          {
           "sample_id": 0,
           "timepoint": 48,
           "trajectory": "I_data",
           "value": 34782
          },
          {
           "sample_id": 0,
           "timepoint": 49,
           "trajectory": "I_data",
           "value": 31526
          },
          {
           "sample_id": 0,
           "timepoint": 50,
           "trajectory": "I_data",
           "value": 28799
          },
          {
           "sample_id": 0,
           "timepoint": 51,
           "trajectory": "I_data",
           "value": 27419
          },
          {
           "sample_id": 0,
           "timepoint": 52,
           "trajectory": "I_data",
           "value": 27443
          },
          {
           "sample_id": 0,
           "timepoint": 53,
           "trajectory": "I_data",
           "value": 30499
          },
          {
           "sample_id": 0,
           "timepoint": 54,
           "trajectory": "I_data",
           "value": 31543
          },
          {
           "sample_id": 0,
           "timepoint": 55,
           "trajectory": "I_data",
           "value": 31597
          },
          {
           "sample_id": 0,
           "timepoint": 56,
           "trajectory": "I_data",
           "value": 29008
          },
          {
           "sample_id": 0,
           "timepoint": 57,
           "trajectory": "I_data",
           "value": 25476
          },
          {
           "sample_id": 0,
           "timepoint": 58,
           "trajectory": "I_data",
           "value": 20411
          },
          {
           "sample_id": 0,
           "timepoint": 59,
           "trajectory": "I_data",
           "value": 19224
          },
          {
           "sample_id": 0,
           "timepoint": 38,
           "trajectory": "H_data",
           "value": 0
          },
          {
           "sample_id": 0,
           "timepoint": 39,
           "trajectory": "H_data",
           "value": 0
          },
          {
           "sample_id": 0,
           "timepoint": 45,
           "trajectory": "H_data",
           "value": 0
          },
          {
           "sample_id": 0,
           "timepoint": 46,
           "trajectory": "H_data",
           "value": 1
          },
          {
           "sample_id": 0,
           "timepoint": 52,
           "trajectory": "H_data",
           "value": 0
          },
          {
           "sample_id": 0,
           "timepoint": 53,
           "trajectory": "H_data",
           "value": 0
          },
          {
           "sample_id": 0,
           "timepoint": 54,
           "trajectory": "H_data",
           "value": 1
          },
          {
           "sample_id": 0,
           "timepoint": 55,
           "trajectory": "H_data",
           "value": 0
          },
          {
           "sample_id": 0,
           "timepoint": 56,
           "trajectory": "H_data",
           "value": 0
          },
          {
           "sample_id": 0,
           "timepoint": 57,
           "trajectory": "H_data",
           "value": 0
          },
          {
           "sample_id": 0,
           "timepoint": 58,
           "trajectory": "H_data",
           "value": 0
          },
          {
           "sample_id": 0,
           "timepoint": 59,
           "trajectory": "H_data",
           "value": 0
          },
          {
           "sample_id": 0,
           "timepoint": 0,
           "trajectory": "D_data",
           "value": 0
          },
          {
           "sample_id": 0,
           "timepoint": 1,
           "trajectory": "D_data",
           "value": 0
          },
          {
           "sample_id": 0,
           "timepoint": 2,
           "trajectory": "D_data",
           "value": 0
          },
          {
           "sample_id": 0,
           "timepoint": 3,
           "trajectory": "D_data",
           "value": 0
          },
          {
           "sample_id": 0,
           "timepoint": 4,
           "trajectory": "D_data",
           "value": 0
          },
          {
           "sample_id": 0,
           "timepoint": 5,
           "trajectory": "D_data",
           "value": 0
          },
          {
           "sample_id": 0,
           "timepoint": 6,
           "trajectory": "D_data",
           "value": 0
          },
          {
           "sample_id": 0,
           "timepoint": 7,
           "trajectory": "D_data",
           "value": 0
          },
          {
           "sample_id": 0,
           "timepoint": 8,
           "trajectory": "D_data",
           "value": 1
          },
          {
           "sample_id": 0,
           "timepoint": 9,
           "trajectory": "D_data",
           "value": 1
          },
          {
           "sample_id": 0,
           "timepoint": 10,
           "trajectory": "D_data",
           "value": 1
          },
          {
           "sample_id": 0,
           "timepoint": 11,
           "trajectory": "D_data",
           "value": 4
          },
          {
           "sample_id": 0,
           "timepoint": 12,
           "trajectory": "D_data",
           "value": 9
          },
          {
           "sample_id": 0,
           "timepoint": 13,
           "trajectory": "D_data",
           "value": 19
          },
          {
           "sample_id": 0,
           "timepoint": 14,
           "trajectory": "D_data",
           "value": 30
          },
          {
           "sample_id": 0,
           "timepoint": 15,
           "trajectory": "D_data",
           "value": 51
          },
          {
           "sample_id": 0,
           "timepoint": 16,
           "trajectory": "D_data",
           "value": 77
          },
          {
           "sample_id": 0,
           "timepoint": 17,
           "trajectory": "D_data",
           "value": 129
          },
          {
           "sample_id": 0,
           "timepoint": 18,
           "trajectory": "D_data",
           "value": 175
          },
          {
           "sample_id": 0,
           "timepoint": 19,
           "trajectory": "D_data",
           "value": 226
          },
          {
           "sample_id": 0,
           "timepoint": 20,
           "trajectory": "D_data",
           "value": 315
          },
          {
           "sample_id": 0,
           "timepoint": 21,
           "trajectory": "D_data",
           "value": 427
          },
          {
           "sample_id": 0,
           "timepoint": 22,
           "trajectory": "D_data",
           "value": 565
          },
          {
           "sample_id": 0,
           "timepoint": 23,
           "trajectory": "D_data",
           "value": 759
          },
          {
           "sample_id": 0,
           "timepoint": 24,
           "trajectory": "D_data",
           "value": 984
          },
          {
           "sample_id": 0,
           "timepoint": 25,
           "trajectory": "D_data",
           "value": 1285
          },
          {
           "sample_id": 0,
           "timepoint": 26,
           "trajectory": "D_data",
           "value": 1603
          },
          {
           "sample_id": 0,
           "timepoint": 27,
           "trajectory": "D_data",
           "value": 1930
          },
          {
           "sample_id": 0,
           "timepoint": 28,
           "trajectory": "D_data",
           "value": 2334
          },
          {
           "sample_id": 0,
           "timepoint": 29,
           "trajectory": "D_data",
           "value": 2859
          },
          {
           "sample_id": 0,
           "timepoint": 30,
           "trajectory": "D_data",
           "value": 3420
          },
          {
           "sample_id": 0,
           "timepoint": 31,
           "trajectory": "D_data",
           "value": 3989
          },
          {
           "sample_id": 0,
           "timepoint": 32,
           "trajectory": "D_data",
           "value": 4634
          },
          {
           "sample_id": 0,
           "timepoint": 33,
           "trajectory": "D_data",
           "value": 5384
          },
          {
           "sample_id": 0,
           "timepoint": 34,
           "trajectory": "D_data",
           "value": 6185
          },
          {
           "sample_id": 0,
           "timepoint": 35,
           "trajectory": "D_data",
           "value": 7241
          },
          {
           "sample_id": 0,
           "timepoint": 36,
           "trajectory": "D_data",
           "value": 7985
          },
          {
           "sample_id": 0,
           "timepoint": 37,
           "trajectory": "D_data",
           "value": 8846
          },
          {
           "sample_id": 0,
           "timepoint": 38,
           "trajectory": "D_data",
           "value": 9579
          },
          {
           "sample_id": 0,
           "timepoint": 39,
           "trajectory": "D_data",
           "value": 10345
          },
          {
           "sample_id": 0,
           "timepoint": 40,
           "trajectory": "D_data",
           "value": 11126
          },
          {
           "sample_id": 0,
           "timepoint": 41,
           "trajectory": "D_data",
           "value": 11930
          },
          {
           "sample_id": 0,
           "timepoint": 42,
           "trajectory": "D_data",
           "value": 12669
          },
          {
           "sample_id": 0,
           "timepoint": 43,
           "trajectory": "D_data",
           "value": 13332
          },
          {
           "sample_id": 0,
           "timepoint": 44,
           "trajectory": "D_data",
           "value": 13987
          },
          {
           "sample_id": 0,
           "timepoint": 45,
           "trajectory": "D_data",
           "value": 14371
          },
          {
           "sample_id": 0,
           "timepoint": 46,
           "trajectory": "D_data",
           "value": 14780
          },
          {
           "sample_id": 0,
           "timepoint": 47,
           "trajectory": "D_data",
           "value": 15225
          },
          {
           "sample_id": 0,
           "timepoint": 48,
           "trajectory": "D_data",
           "value": 16116
          },
          {
           "sample_id": 0,
           "timepoint": 49,
           "trajectory": "D_data",
           "value": 16639
          },
          {
           "sample_id": 0,
           "timepoint": 50,
           "trajectory": "D_data",
           "value": 17091
          },
          {
           "sample_id": 0,
           "timepoint": 51,
           "trajectory": "D_data",
           "value": 17647
          },
          {
           "sample_id": 0,
           "timepoint": 52,
           "trajectory": "D_data",
           "value": 18132
          },
          {
           "sample_id": 0,
           "timepoint": 53,
           "trajectory": "D_data",
           "value": 18523
          },
          {
           "sample_id": 0,
           "timepoint": 54,
           "trajectory": "D_data",
           "value": 18882
          },
          {
           "sample_id": 0,
           "timepoint": 55,
           "trajectory": "D_data",
           "value": 19292
          },
          {
           "sample_id": 0,
           "timepoint": 56,
           "trajectory": "D_data",
           "value": 19602
          },
          {
           "sample_id": 0,
           "timepoint": 57,
           "trajectory": "D_data",
           "value": 20000
          },
          {
           "sample_id": 0,
           "timepoint": 58,
           "trajectory": "D_data",
           "value": 20334
          },
          {
           "sample_id": 0,
           "timepoint": 59,
           "trajectory": "D_data",
           "value": 20662
          }
         ]
        },
        {
         "name": "markers",
         "values": []
        },
        {
         "name": "selected",
         "on": [
          {
           "remove": true,
           "trigger": "clear"
          },
          {
           "remove": true,
           "trigger": "!shift"
          },
          {
           "insert": "clicked",
           "trigger": "!shift && clicked"
          },
          {
           "toggle": "clicked",
           "trigger": "shift && clicked"
          }
         ]
        }
       ],
       "height": 300,
       "legends": [
        {
         "encode": {
          "labels": {
           "interactive": true,
           "name": "legendLabel",
           "update": {
            "opacity": [
             {
              "test": "!length(data('selected')) || indata('selected', 'value', datum.value)",
              "value": 1
             },
             {
              "value": 0.25
             }
            ]
           }
          },
          "symbols": {
           "interactive": true,
           "name": "legendSymbol",
           "update": {
            "fill": {
             "value": "transparent"
            },
            "opacity": [
             {
              "test": "!length(data('selected')) || indata('selected', 'value', datum.value)",
              "value": 0.7
             },
             {
              "value": 0.15
             }
            ],
            "size": {
             "value": 64
            },
            "strokeWidth": {
             "value": 2
            }
           }
          }
         },
         "name": "color_legend",
         "stroke": "color"
        }
       ],
       "marks": [
        {
         "from": {
          "facet": {
           "data": "points",
           "groupby": "trajectory",
           "name": "points_split"
          }
         },
         "marks": [
          {
           "encode": {
            "hover": {
             "fillOpacity": {
              "value": 0.9
             }
            },
            "update": {
             "fill": {
              "field": "trajectory",
              "scale": "color"
             },
             "fillOpacity": [
              {
               "test": "!length(data('selected')) || indata('selected', 'value', datum.trajectory)",
               "value": 0.5
              },
              {
               "value": 0.15
              }
             ],
             "size": {
              "value": 10
             },
             "stroke": {
              "field": "trajectory",
              "scale": "color"
             },
             "strokeOpacity": [
              {
               "test": "!length(data('selected')) || indata('selected', 'value', datum.trajectory)",
               "value": 0.75
              },
              {
               "value": 0.15
              }
             ],
             "strokeWidth": {
              "value": 2
             },
             "tooltip": {
              "field": "value"
             },
             "x": {
              "field": "timepoint",
              "scale": "xscale"
             },
             "y": {
              "field": "value",
              "scale": "yscale"
             }
            }
           },
           "from": {
            "data": "points"
           },
           "name": "_points_symbol",
           "type": "symbol",
           "zindex": 3
          },
          {
           "encode": {
            "hover": {
             "fillOpacity": {
              "value": 0.9
             }
            },
            "update": {
             "interpolate": {
              "value": "linear"
             },
             "stroke": {
              "field": "trajectory",
              "scale": "color"
             },
             "strokeOpacity": [
              {
               "test": "!length(data('selected')) || indata('selected', 'value', datum.trajectory)",
               "value": 0.3
              },
              {
               "value": 0.1
              }
             ],
             "strokeWidth": {
              "value": 2
             },
             "x": {
              "field": "timepoint",
              "scale": "xscale"
             },
             "y": {
              "field": "value",
              "scale": "yscale"
             }
            }
           },
           "from": {
            "data": "points"
           },
           "name": "_points_line",
           "type": "line",
           "zindex": 3
          }
         ],
         "name": "_points",
         "type": "group",
         "zindex": 3
        },
        {
         "from": {
          "facet": {
           "data": "traces",
           "groupby": "trajectory",
           "name": "traces_split"
          }
         },
         "marks": [
          {
           "encode": {
            "hover": {
             "fillOpacity": {
              "value": 0.9
             }
            },
            "update": {
             "interpolate": {
              "value": "linear"
             },
             "stroke": {
              "field": "trajectory",
              "scale": "color"
             },
             "strokeOpacity": [
              {
               "test": "!length(data('selected')) || indata('selected', 'value', datum.trajectory)",
               "value": 0.75
              },
              {
               "value": 0.15
              }
             ],
             "strokeWidth": {
              "value": 2
             },
             "x": {
              "field": "timepoint",
              "scale": "xscale"
             },
             "y": {
              "field": "value",
              "scale": "yscale"
             }
            }
           },
           "from": {
            "data": "traces_split"
           },
           "name": "_traces_lines",
           "type": "line"
          }
         ],
         "name": "_traces",
         "type": "group",
         "zindex": 2
        },
        {
         "from": {
          "facet": {
           "data": "distributions",
           "groupby": "trajectory",
           "name": "trajectory_split"
          }
         },
         "marks": [
          {
           "encode": {
            "hover": {
             "fillOpacity": {
              "value": 0.9
             }
            },
            "update": {
             "fill": {
              "field": "trajectory",
              "scale": "color"
             },
             "fillOpacity": [
              {
               "test": "!length(data('selected')) || indata('selected', 'value', datum.trajectory)",
               "value": 0.5
              },
              {
               "value": 0.15
              }
             ],
             "interpolate": {
              "value": "linear"
             },
             "stroke": {
              "field": "trajectory",
              "scale": "color"
             },
             "strokeOpacity": [
              {
               "test": "!length(data('selected')) || indata('selected', 'value', datum.trajectory)",
               "value": 0.75
              },
              {
               "value": 0.15
              }
             ],
             "strokeWidth": {
              "value": 2
             },
             "x": {
              "field": "timepoint",
              "scale": "xscale"
             },
             "y": {
              "field": "upper",
              "scale": "yscale"
             },
             "y2": {
              "field": "lower",
              "scale": "yscale"
             }
            }
           },
           "from": {
            "data": "trajectory_split"
           },
           "type": "area"
          }
         ],
         "name": "_distributions",
         "type": "group",
         "zindex": 1
        },
        {
         "marks": [
          {
           "encode": {
            "enter": {
             "stroke": {
              "value": "lightgray"
             }
            },
            "update": {
             "opacity": {
              "value": 1
             },
             "x": {
              "field": "timepoint",
              "scale": "xscale"
             },
             "y": {
              "signal": "height"
             },
             "y2": {
              "value": 0
             }
            }
           },
           "from": {
            "data": "markers"
           },
           "name": "_marker text",
           "type": "rule"
          },
          {
           "encode": {
            "enter": {
             "fontSize": {
              "value": 8
             },
             "text": {
              "field": "datum.label"
             },
             "y": {
              "value": 0
             }
            }
           },
           "from": {
            "data": "_marker text"
           },
           "name": "_marker flags",
           "transform": [
            {
             "as": [
              "x",
              "_y",
              "opacity",
              "align",
              "baseline"
             ],
             "lineAnchor": "start",
             "offset": [
              1
             ],
             "size": {
              "signal": "[width, height]"
             },
             "type": "label"
            }
           ],
           "type": "text"
          }
         ],
         "name": "_markers",
         "type": "group"
        }
       ],
       "padding": 5,
       "scales": [
        {
         "domain": {
          "fields": [
           {
            "data": "distributions",
            "field": "timepoint"
           },
           {
            "data": "traces",
            "field": "timepoint"
           },
           {
            "data": "points",
            "field": "timepoint"
           },
           {
            "data": "markers",
            "field": "timepoint"
           }
          ]
         },
         "name": "xscale",
         "range": "width",
         "type": "linear",
         "zero": false
        },
        {
         "domain": {
          "fields": [
           {
            "data": "distributions",
            "field": "lower"
           },
           {
            "data": "distributions",
            "field": "upper"
           },
           {
            "data": "traces",
            "field": "value"
           },
           {
            "data": "points",
            "field": "value"
           }
          ]
         },
         "name": "yscale",
         "nice": true,
         "range": "height",
         "type": "linear",
         "zero": true
        },
        {
         "domain": {
          "fields": [
           {
            "data": "distributions",
            "field": "trajectory"
           },
           {
            "data": "traces",
            "field": "trajectory"
           },
           {
            "data": "points",
            "field": "trajectory"
           }
          ]
         },
         "name": "color",
         "range": "category",
         "type": "ordinal"
        }
       ],
       "signals": [
        {
         "name": "clear",
         "on": [
          {
           "events": "mouseup[!event.item]",
           "force": true,
           "update": "true"
          }
         ],
         "value": true
        },
        {
         "name": "shift",
         "on": [
          {
           "events": "@legendSymbol:click, @legendLabel:click",
           "force": true,
           "update": "event.shiftKey"
          }
         ],
         "value": false
        },
        {
         "name": "clicked",
         "on": [
          {
           "events": "@legendSymbol:click, @legendLabel:click",
           "force": true,
           "update": "{value: datum.value}"
          }
         ],
         "value": null
        }
       ],
       "width": 500
      }
     },
     "metadata": {},
     "output_type": "display_data"
    }
   ],
   "source": [
    "num_samples = 100\n",
    "model_paths = [model2_location, model6_location, model7_location]\n",
    "data_path = \"../../notebook/ensemble_eval_sa/datasets/NY_data1.csv\"\n",
    "weights = [1/len(model_paths) for i in model_paths]\n",
    "solution_mappings = [{\"I\": \"I\", \"D\": \"D\"},\n",
    "                     {\"I\": \"infected\", \"D\": \"dead\"}, \n",
    "                     {\"I\": \"infected\", \"D\": \"dead\"}\n",
    "                     ]\n",
    "\n",
    "# Run the calibration and sampling\n",
    "result4 = load_and_calibrate_and_sample_ensemble_model(\n",
    "    model_paths,\n",
    "    data_path,\n",
    "    weights,\n",
    "    solution_mappings,\n",
    "    num_samples,\n",
    "    timepoints,\n",
    "    verbose=True,\n",
    "    total_population=19340000,\n",
    "    num_iterations=300,\n",
    "    time_unit=\"days\",\n",
    "    visual_options={\"title\": \"Calibrated Ensemble\", \"subset\":\".*_sol\"}\n",
    ")\n",
    "\n",
    "# Save results\n",
    "result4[\"data\"].to_csv(\"../../notebook/ensemble_eval_sa/ensemble_results/partI_ensemble_of_many_results.csv\", index=False)\n",
    "result4[\"quantiles\"].to_csv(\"../../notebook/ensemble_eval_sa/ensemble_results/partI_ensemble_of_many_quantiles.csv\", index=False)\n",
    "\n",
    "q_ensemble_data = cdc_reformatcsv(filename=\"../../notebook/ensemble_eval_sa/ensemble_results/partI_ensemble_of_many_quantiles.csv\", \n",
    "                                  solution_string_mapping={\"I\": \"cases\", \"D\": \"deaths\"}, \n",
    "                                  forecast_start_date=\"2020-04-02\",\n",
    "                                  location=\"New York State\",\n",
    "                                  drop_column_names=[\"timepoint_id\", \"number_days\", \"inc_cum\", \"output\", \"Forecast_Backcast\"])\n",
    "q_ensemble_data.to_csv(\"../../notebook/ensemble_eval_sa/ensemble_results/partI_ensemble_of_many_forecast_quantiles_Apr032020.csv\")\n",
    "\n",
    "# Plot results\n",
    "schema = plots.trajectories(pd.DataFrame(result4[\"data\"]), subset=\".*_sol\",\n",
    "                            points=test_data.reset_index(drop=True).rename(columns={\"I\":\"I_data\", \"H\":\"H_data\", \"D\":\"D_data\"}),\n",
    "                           )\n",
    "schema = plots.pad(schema, 5)\n",
    "plots.ipy_display(schema)"
   ]
  },
  {
   "cell_type": "code",
   "execution_count": null,
   "id": "765e6d37-d87b-48b6-877b-067d2995179e",
   "metadata": {},
   "outputs": [],
   "source": [
    "num_samples = 100\n",
    "model_paths = [model2_location, model7_location]\n",
    "data_path = \"../../notebook/ensemble_eval_sa/NY_data1.csv\"\n",
    "weights = [1/len(model_paths) for i in model_paths]\n",
    "solution_mappings = [{\"I\": \"I\", \"D\": \"D\"},\n",
    "                     {\"I\": \"infected\", \"D\": \"dead\"}\n",
    "                     ]\n",
    "\n",
    "# Run the calibration and sampling\n",
    "result5 = load_and_calibrate_and_sample_ensemble_model(\n",
    "    model_paths,\n",
    "    data_path,\n",
    "    weights,\n",
    "    solution_mappings,\n",
    "    num_samples,\n",
    "    timepoints,\n",
    "    verbose=True,\n",
    "    total_population=19340000,\n",
    "    num_iterations=500,\n",
    "    time_unit=\"days\",\n",
    "    visual_options={\"title\": \"Calibrated Ensemble\", \"subset\":\".*_sol\"}\n",
    ")\n",
    "\n",
    "# Save results\n",
    "# result5[\"data\"].to_csv(\"../../notebook/ensemble_eval_sa/ensemble_results/partI_ensemble_of_two_results.csv\", index=False)\n",
    "# result5[\"quantiles\"].to_csv(\"../../notebook/ensemble_eval_sa/ensemble_results/partI_ensemble_of_two_quantiles.csv\", index=False)\n",
    "\n",
    "# Plot results\n",
    "schema = plots.trajectories(pd.DataFrame(result4[\"data\"]), subset=\".*_sol\",\n",
    "                            points=test_data.reset_index(drop=True).rename(columns={\"I\":\"I_data\", \"H\":\"H_data\", \"D\":\"D_data\"}),\n",
    "                           )\n",
    "schema = plots.pad(schema, 5)\n",
    "plots.ipy_display(schema)"
   ]
  },
  {
   "cell_type": "code",
   "execution_count": null,
   "id": "79bac950-7c34-47af-9fa6-d0ead7e78f88",
   "metadata": {},
   "outputs": [],
   "source": [
    "num_samples = 100\n",
    "model_paths = [model2_location, model7_location]\n",
    "data_path = \"../../notebook/ensemble_eval_sa/NY_data1.csv\"\n",
    "weights = [1/len(model_paths) for i in model_paths]\n",
    "solution_mappings = [{\"I\": \"I\", \"D\": \"D\"},\n",
    "                     {\"I\": \"infected\", \"D\": \"dead\"}\n",
    "                     ]\n",
    "\n",
    "# Run the calibration and sampling\n",
    "result4 = load_and_calibrate_and_sample_ensemble_model(\n",
    "    model_paths,\n",
    "    data_path,\n",
    "    weights,\n",
    "    solution_mappings,\n",
    "    num_samples,\n",
    "    timepoints,\n",
    "    verbose=True,\n",
    "    total_population=19340000,\n",
    "    num_iterations=500,\n",
    "    time_unit=\"days\",\n",
    "    visual_options={\"title\": \"Calibrated Ensemble\", \"subset\":\".*_sol\"}\n",
    ")\n",
    "\n",
    "# Save results\n",
    "# result4[\"data\"].to_csv(\"../../notebook/ensemble_eval_sa/ensemble_results/partI_ensemble_of_many_results.csv\", index=False)\n",
    "# result4[\"quantiles\"].to_csv(\"../../notebook/ensemble_eval_sa/ensemble_results/partI_ensemble_of_many_quantiles.csv\", index=False)\n",
    "\n",
    "# Plot results\n",
    "schema = plots.trajectories(pd.DataFrame(result4[\"data\"]), subset=\".*_sol\",\n",
    "                            points=test_data.reset_index(drop=True).rename(columns={\"I\":\"I_data\", \"H\":\"H_data\", \"D\":\"D_data\"}),\n",
    "                           )\n",
    "schema = plots.pad(schema, 5)\n",
    "plots.ipy_display(schema)"
   ]
  },
  {
   "cell_type": "code",
   "execution_count": null,
   "id": "b1200c83-faab-444d-8a13-c815867ad5ba",
   "metadata": {},
   "outputs": [],
   "source": [
    "num_samples = 100\n",
    "model_paths = [model2_location, model6_location, model7_location]\n",
    "data_path = \"../../notebook/ensemble_eval_sa/NY_data1.csv\"\n",
    "weights = [1/len(model_paths) for i in model_paths]\n",
    "solution_mappings = [{\"I\": \"I\", \"D\": \"D\"},\n",
    "                     {\"I\": \"infected\", \"D\": \"dead\"}, \n",
    "                     {\"I\": \"infected\", \"D\": \"dead\"}\n",
    "                     ]\n",
    "\n",
    "# Run the calibration and sampling\n",
    "result4 = load_and_calibrate_and_sample_ensemble_model(\n",
    "    model_paths,\n",
    "    data_path,\n",
    "    weights,\n",
    "    solution_mappings,\n",
    "    num_samples,\n",
    "    timepoints,\n",
    "    verbose=True,\n",
    "    total_population=19340000,\n",
    "    num_iterations=500,\n",
    "    time_unit=\"days\",\n",
    "    visual_options={\"title\": \"Calibrated Ensemble\", \"subset\":\".*_sol\"}\n",
    ")\n",
    "\n",
    "# Save results\n",
    "# result4[\"data\"].to_csv(\"../../notebook/ensemble_eval_sa/ensemble_results/partI_ensemble_of_many_results.csv\", index=False)\n",
    "# result4[\"quantiles\"].to_csv(\"../../notebook/ensemble_eval_sa/ensemble_results/partI_ensemble_of_many_quantiles.csv\", index=False)\n",
    "\n",
    "# Plot results\n",
    "schema = plots.trajectories(pd.DataFrame(result4[\"data\"]), subset=\".*_sol\",\n",
    "                            points=test_data.reset_index(drop=True).rename(columns={\"I\":\"I_data\", \"H\":\"H_data\", \"D\":\"D_data\"}),\n",
    "                           )\n",
    "schema = plots.pad(schema, 5)\n",
    "plots.ipy_display(schema)"
   ]
  },
  {
   "cell_type": "code",
   "execution_count": null,
   "id": "2b575a9f-909b-4eae-a74a-9745b0a74d43",
   "metadata": {},
   "outputs": [],
   "source": []
  }
 ],
 "metadata": {
  "kernelspec": {
   "display_name": "Python 3 (ipykernel)",
   "language": "python",
   "name": "python3"
  },
  "language_info": {
   "codemirror_mode": {
    "name": "ipython",
    "version": 3
   },
   "file_extension": ".py",
   "mimetype": "text/x-python",
   "name": "python",
   "nbconvert_exporter": "python",
   "pygments_lexer": "ipython3",
   "version": "3.10.9"
  }
 },
 "nbformat": 4,
 "nbformat_minor": 5
}
