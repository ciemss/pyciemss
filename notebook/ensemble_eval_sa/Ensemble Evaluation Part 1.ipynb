{
 "cells": [
  {
   "cell_type": "markdown",
   "id": "3048df72",
   "metadata": {},
   "source": [
    "# Ensemble Evaluation: Timepoint 1 - Spring 2020\n",
    "\n",
    "Location: New York State\n",
    "\n",
    "Timepoint 1: April 3, 2020. Setting: New York State at the beginning of the pandemic when masking was the main preventative measure. No vaccines available. \n",
    "\n",
    "Using case and death data for calibration (hospitalization data not available for this timepoint). No vaccination, no variants, and reinfection is not considered."
   ]
  },
  {
   "cell_type": "markdown",
   "id": "897b7ea9-d670-4345-9d7a-322d34d724c8",
   "metadata": {},
   "source": [
    "## Set up for ensemble modeling"
   ]
  },
  {
   "cell_type": "markdown",
   "id": "25ee072e-ef36-4c76-bf0a-76276a86c63b",
   "metadata": {},
   "source": [
    "### Load dependencies\n",
    "Import functionality from the pyciemss library to allow for model sampling and calibration."
   ]
  },
  {
   "cell_type": "code",
   "execution_count": 1,
   "id": "f250632a-4078-49de-a4a8-e6134c949910",
   "metadata": {},
   "outputs": [],
   "source": [
    "import os\n",
    "import pandas as pd\n",
    "import numpy as np\n",
    "import matplotlib.pyplot as plt\n",
    "\n",
    "from pyciemss.Ensemble.interfaces import (\n",
    "    load_and_sample_petri_ensemble, load_and_calibrate_and_sample_ensemble_model\n",
    ")\n",
    "from pyciemss.PetriNetODE.interfaces import (\n",
    "    load_and_sample_petri_model,\n",
    "    load_and_calibrate_and_sample_petri_model,\n",
    "    load_and_optimize_and_sample_petri_model,\n",
    "    load_and_calibrate_and_optimize_and_sample_petri_model\n",
    ")\n",
    "from pyciemss.visuals import plots\n",
    "from pyciemss.utils import get_tspan\n",
    "from pyciemss.utils.interface_utils import cdc_reformatcsv"
   ]
  },
  {
   "cell_type": "markdown",
   "id": "2af8a7df-6527-4ba2-beb6-2e63889dcbbf",
   "metadata": {},
   "source": [
    "### Collect relevant models\n",
    "<!-- We have chosen x number of models to capture the relevant COVID-19 dynamics for this setting. \n",
    " - `model1` contains compartments SEIRHD, and is stratified by age into four groups.\n",
    " - `model2` is the same as `model1`, but allows for reinfection\n",
    " - `model3` is the same as `model1`, but with a variation in transmission rate to account for masking efficacy and compliance. -->"
   ]
  },
  {
   "cell_type": "code",
   "execution_count": 34,
   "id": "07fddb50-d73e-481d-a79d-ce0e115411b5",
   "metadata": {},
   "outputs": [],
   "source": [
    "model1_location = \"../../notebook/ensemble_eval_sa/operative_models/SEIRHD_base_model01.json\"\n",
    "model2_location = \"../../notebook/ensemble_eval_sa/operative_models/SEIRHD_npi1_ee.json\"\n",
    "# model3_location = \"../../notebook/ensemble_eval_sa/operative_models/SEIRHD_npi1_beta_c_varying_ee.json\"\n",
    "# model4_location = \"../../notebook/ensemble_eval_sa/operative_models/SEIRHD_npi1_k_varying_ee.json\"\n",
    "# model5_location = \"../../notebook/ensemble_eval_sa/operative_models/SEIRHD_npi1_age_stratified_v1.json\"\n",
    "model6_location = \"../../notebook/ensemble_eval_sa/operative_models/SEIRHD_npi1_age_stratified_v2.json\"\n",
    "model7_location = \"../../notebook/ensemble_eval_sa/operative_models/SEIRHD_npi1_age_stratified_v3.json\"\n",
    "# model8_location = \"../../notebook/ensemble_eval_sa/operative_models/SEIRD_ymo_age_strat.json\""
   ]
  },
  {
   "cell_type": "markdown",
   "id": "a2239aab-0478-43cb-b6ef-079497dbb6e1",
   "metadata": {},
   "source": [
    "### Gather data, and set training and forecast intervals\n",
    "For this timepoint, only case and death data is available for calibration. \n",
    "\n",
    "We take the total population of New York State to be 19,340,000. Population age-structure estimates for New York State were taken (and scaled appropriately) from [here](https://www.health.ny.gov/statistics/vital_statistics/2016/table01.htm).\n",
    "\n",
    "First recorded case in New York State: March 1, 2020.\n",
    "\n",
    "Also relevant is that a statewide stay-at-home order for non-essential workers was implemented on March 22, 2020, and masking policy was implemented on April 15, 2020. A nice list of COVID-19 policy interventions for New York City and State has been compiled [here](https://www.investopedia.com/historical-timeline-of-covid-19-in-new-york-city-5071986![image.png](attachment:d380d245-11ca-41f1-9863-e2a2dcf5ebce.png)![image.png](attachment:b30f6e31-bc7f-43a8-b7c8-b1df78db3b86.png)![image.png](attachment:b5109588-59ed-447c-9271-50eb56fe9081.png)![image.png](attachment:2c42138a-696d-4cef-9b79-4843d38ff029.png))."
   ]
  },
  {
   "cell_type": "markdown",
   "id": "491b50ab-6fbb-4a03-84e7-d99225d982de",
   "metadata": {},
   "source": [
    "### Define a function to process the source data and produce the necessary datasets for plotting and calibration"
   ]
  },
  {
   "cell_type": "code",
   "execution_count": 3,
   "id": "32f7c14d-a51d-47db-830b-745e459228e8",
   "metadata": {},
   "outputs": [],
   "source": [
    "def data_selector_function(data_df, train_start_row_num, train_end_row_num, forecast_end_row_num):\n",
    "    '''\n",
    "    This function produces three datasets: all_data, test_data, train_data.\n",
    "    '''\n",
    "    all_data = data_df[train_start_row_num:forecast_end_row_num].reset_index()\n",
    "    all_data = all_data.drop(columns=\"timestep\")\n",
    "    all_data = all_data.drop(columns=\"index\")\n",
    "\n",
    "    test_data = data_df[train_end_row_num:forecast_end_row_num].reset_index()\n",
    "    test_data = test_data.drop(columns=\"timestep\")\n",
    "    test_data = test_data.drop(columns=\"index\")\n",
    "\n",
    "    train_data = data_df[train_start_row_num:train_end_row_num].reset_index(drop=True)\n",
    "    train_data1 = train_data.assign(timepoints=[float(i) for i in range(len(train_data))])\n",
    "    train_data = train_data1[[\"timepoints\", \"I\", \"H\", \"D\"]]\n",
    "\n",
    "    num_timepoints = (len(train_data) + len(test_data))*10 + 1\n",
    "    simulation_timepoints = list(get_tspan(0, (len(train_data) + len(test_data)), num_timepoints).detach().numpy())\n",
    "    \n",
    "    return all_data, test_data, train_data, simulation_timepoints"
   ]
  },
  {
   "cell_type": "markdown",
   "id": "e7d4f4d8-abb4-4a9d-b7c9-6fc614125708",
   "metadata": {},
   "source": [
    "### Gather source data and set `DATA_PATH`"
   ]
  },
  {
   "cell_type": "code",
   "execution_count": 4,
   "id": "d9409751-8a75-4815-a329-923e20b1ca14",
   "metadata": {},
   "outputs": [],
   "source": [
    "url = 'https://raw.githubusercontent.com/DARPA-ASKEM/experiments/main/thin-thread-examples/milestone_12month/evaluation/ensemble_eval_SA/datasets/aabb3684-a7ea-4f60-98f1-a8e673ad6df5/dataset.csv'\n",
    "nys_data = pd.read_csv(url)\n",
    "DATA_PATH = \"../../notebook/ensemble_eval_sa/datasets/\""
   ]
  },
  {
   "cell_type": "markdown",
   "id": "808442fe-65a2-4545-b1d1-fb2ad8b26653",
   "metadata": {},
   "source": [
    "### Create and save datasets and simulation timepoints for each forecast"
   ]
  },
  {
   "cell_type": "code",
   "execution_count": 5,
   "id": "bf6e7144-aecd-443b-ab2a-0e492db247f2",
   "metadata": {},
   "outputs": [],
   "source": [
    "### Forecast 1: 04/03/2020 - 05/01/2020, data: 03/01/2020 - 04/02/2020\n",
    "\n",
    "# Forecast 1: 04/03/2020 (day 32, row 73) - 05/01/2020 (day 60, row 101), train data: 03/01/2020 (day 0, row 40) - 04/02/2020 (day 31, row 72)\n",
    "[all_data1, test_data1, train_data1, timepoints1] = data_selector_function(nys_data, 39, 72, 101)\n",
    "train_data1[[\"I\", \"H\", \"D\"]].to_csv(DATA_PATH + \"NYS_T1_forecast1.csv\")\n",
    "\n",
    "### Forecast 2: 04/10/2020 - 05/08/2020, data: 03/01/2020 - 04/09/2020\n",
    "\n",
    "# Forecast 2: 04/10/2020 (day 39, row 80) - 05/08/2020 (day 67, row 108), train data: 03/01/2020 (day 0, row 40) - 04/09/2020 (day 38, row 79)\n",
    "[all_data2, test_data2, train_data2, timepoints2] = data_selector_function(nys_data, 39, 79, 108)\n",
    "train_data2[[\"I\", \"H\", \"D\"]].to_csv(DATA_PATH + \"NYS_T1_forecast2.csv\")\n",
    "\n",
    "### Forecast 3: 04/17/2020 - 05/15/2020, data: 03/01/2020 - 04/16/2020\n",
    "\n",
    "# Forecast 3: 04/17/2020 (day 46, row 87) - 05/15/2020 (day 74, row 115), train data: 03/01/2020 (day 0, row 40) - 04/16/2020 (day 45, row 86)\n",
    "[all_data3, test_data3, train_data3, timepoints3] = data_selector_function(nys_data, 39, 86, 115)\n",
    "train_data3[[\"I\", \"H\", \"D\"]].to_csv(DATA_PATH + \"NYS_T1_forecast3.csv\")\n",
    "\n",
    "### Forecast 4: 04/24/2020 - 05/22/2020, data: 03/01/2020 - 04/23/2020\n",
    "\n",
    "# Forecast 3: 04/24/2020 (day 53, row 94) - 05/22/2020 (day 81, row 122), train data: 03/01/2020 (day 0, row 40) - 04/23/2020 (day 52, row 93)\n",
    "[all_data4, test_data4, train_data4, timepoints4] = data_selector_function(nys_data, 39, 93, 122)\n",
    "train_data4[[\"I\", \"H\", \"D\"]].to_csv(DATA_PATH + \"NYS_T1_forecast4.csv\")"
   ]
  },
  {
   "cell_type": "markdown",
   "id": "9a13d82b-f9b4-4f13-9e41-8e664543e8fa",
   "metadata": {},
   "source": [
    "### Plot the data"
   ]
  },
  {
   "cell_type": "code",
   "execution_count": 6,
   "id": "87729311-991d-4e25-ac23-31d706f266a1",
   "metadata": {},
   "outputs": [
    {
     "data": {
      "text/plain": [
       "Text(0.5, 1.0, 'Cumulative Deaths per 100,000')"
      ]
     },
     "execution_count": 6,
     "metadata": {},
     "output_type": "execute_result"
    },
    {
     "data": {
      "image/png": "[encoded data removed]",
      "text/plain": [
       "<Figure size 640x480 with 2 Axes>"
      ]
     },
     "metadata": {},
     "output_type": "display_data"
    }
   ],
   "source": [
    "N = 19_340_000\n",
    "\n",
    "fig, (ax1, ax2) = plt.subplots(1, 2)\n",
    "# ax1.scatter(all_data4.index, all_data4.I, color=\"navy\")\n",
    "ax1.scatter(all_data4.index, 100000*(all_data4.I/N), color=\"navy\")\n",
    "ax1.axvline(x = 32, color = 'darkgreen', linestyle =\"--\", label = 'begin forecast 1')\n",
    "ax1.axvline(x = 39, color = 'forestgreen', linestyle =\":\", label = 'begin forecast 2')\n",
    "ax1.axvline(x = 46, color = 'green', linestyle =\"-.\", label = 'begin forecast 3')\n",
    "ax1.axvline(x = 53, color = 'teal', label = 'begin forecast 4')\n",
    "ax1.legend(loc='lower right')\n",
    "# ax1.set_title(\"Cases\")\n",
    "ax1.set_title(\"Cases per 100,000\")\n",
    "\n",
    "# ax2.scatter(all_data4.index, all_data4.D, color=\"blue\")\n",
    "ax2.scatter(all_data4.index, 100000*(all_data4.D/N), color=\"blue\")\n",
    "ax2.axvline(x = 32, color = 'darkgreen', linestyle =\"--\", label = 'begin forecast 1')\n",
    "ax2.axvline(x = 39, color = 'forestgreen', linestyle =\":\", label = 'begin forecast 2')\n",
    "ax2.axvline(x = 46, color = 'green', linestyle =\"-.\", label = 'begin forecast 3')\n",
    "ax2.axvline(x = 53, color = 'teal', label = 'begin forecast 4')\n",
    "ax2.legend(loc='lower right')\n",
    "# ax2.set_title(\"Cumulative Deaths\")\n",
    "ax2.set_title(\"Cumulative Deaths per 100,000\")"
   ]
  },
  {
   "cell_type": "markdown",
   "id": "88df33c0-f86c-4cc4-8f98-6191d71b442b",
   "metadata": {},
   "source": [
    "# (1) Model 1"
   ]
  },
  {
   "cell_type": "markdown",
   "id": "2b425707-b887-4b7f-8e22-8fbd6fce7112",
   "metadata": {},
   "source": [
    "## (A) Load and sample from model prior distribution"
   ]
  },
  {
   "cell_type": "code",
   "execution_count": 37,
   "id": "882fd599-3808-4251-8e86-8c72afe538de",
   "metadata": {},
   "outputs": [],
   "source": [
    "num_samples=2\n",
    "prior_samples = load_and_sample_petri_model(model2_location, num_samples, timepoints=timepoints1, method=\"dopri5\",\n",
    "                                            visual_options={\"title\": \"Prior Distributions\", \"keep\":\".*_sol\"}, \n",
    "                                            time_unit=\"days\")\n",
    "#display(prior_samples)"
   ]
  },
  {
   "cell_type": "code",
   "execution_count": 38,
   "id": "04d97815-507b-4ae5-b065-9e9b2040b823",
   "metadata": {},
   "outputs": [
    {
     "name": "stdout",
     "output_type": "stream",
     "text": [
      "\n"
     ]
    },
    {
     "data": {
      "application/vnd.vega.v5+json": {
       "$schema": "https://vega.github.io/schema/vega/v5.json",
       "axes": [
        {
         "name": "x_axis",
         "orient": "bottom",
         "scale": "xscale",
         "zindex": 100
        },
        {
         "name": "y_axis",
         "orient": "left",
         "scale": "yscale",
         "zindex": 100
        }
       ],
       "data": [
        {
         "name": "distributions",
         "values": [
          {
           "lower": 175,
           "timepoint": 0,
           "trajectory": "I_sol",
           "upper": 175
          },
          {
           "lower": 176.76759033203126,
           "timepoint": 0.10000000149011612,
           "trajectory": "I_sol",
           "upper": 180.13511962890624
          },
          {
           "lower": 178.52593307495118,
           "timepoint": 0.20000000298023224,
           "trajectory": "I_sol",
           "upper": 185.27883071899413
          },
          {
           "lower": 180.27654571533202,
           "timepoint": 0.30000001192092896,
           "trajectory": "I_sol",
           "upper": 190.43689422607423
          },
          {
           "lower": 182.02104110717772,
           "timepoint": 0.4000000059604645,
           "trajectory": "I_sol",
           "upper": 195.6144111633301
          },
          {
           "lower": 183.7603790283203,
           "timepoint": 0.5,
           "trajectory": "I_sol",
           "upper": 200.81643371582032
          },
          {
           "lower": 185.49615859985352,
           "timepoint": 0.6000000238418579,
           "trajectory": "I_sol",
           "upper": 206.04807662963867
          },
          {
           "lower": 187.22946853637694,
           "timepoint": 0.699999988079071,
           "trajectory": "I_sol",
           "upper": 211.3140953063965
          },
          {
           "lower": 188.96179428100587,
           "timepoint": 0.800000011920929,
           "trajectory": "I_sol",
           "upper": 216.61936721801757
          },
          {
           "lower": 190.6937355041504,
           "timepoint": 0.9000000357627869,
           "trajectory": "I_sol",
           "upper": 221.96814498901367
          },
          {
           "lower": 192.4265380859375,
           "timepoint": 1,
           "trajectory": "I_sol",
           "upper": 227.36514892578126
          },
          {
           "lower": 194.16119918823242,
           "timepoint": 1.100000023841858,
           "trajectory": "I_sol",
           "upper": 232.81449356079102
          },
          {
           "lower": 195.89859161376953,
           "timepoint": 1.2000000476837158,
           "trajectory": "I_sol",
           "upper": 238.32040252685547
          },
          {
           "lower": 197.63964233398437,
           "timepoint": 1.3000000715255737,
           "trajectory": "I_sol",
           "upper": 243.8873046875
          },
          {
           "lower": 199.3851661682129,
           "timepoint": 1.399999976158142,
           "trajectory": "I_sol",
           "upper": 249.51887130737305
          },
          {
           "lower": 201.1359436035156,
           "timepoint": 1.5,
           "trajectory": "I_sol",
           "upper": 255.21921997070314
          },
          {
           "lower": 202.89272689819336,
           "timepoint": 1.600000023841858,
           "trajectory": "I_sol",
           "upper": 260.99248123168945
          },
          {
           "lower": 204.65661392211913,
           "timepoint": 1.7000000476837158,
           "trajectory": "I_sol",
           "upper": 266.842211151123
          },
          {
           "lower": 206.4278190612793,
           "timepoint": 1.8000000715255737,
           "trajectory": "I_sol",
           "upper": 272.772208404541
          },
          {
           "lower": 208.2071434020996,
           "timepoint": 1.899999976158142,
           "trajectory": "I_sol",
           "upper": 278.78615798950193
          },
          {
           "lower": 209.99534606933594,
           "timepoint": 2,
           "trajectory": "I_sol",
           "upper": 284.88832092285156
          },
          {
           "lower": 211.79296417236327,
           "timepoint": 2.1000001430511475,
           "trajectory": "I_sol",
           "upper": 291.0817611694336
          },
          {
           "lower": 213.60064697265625,
           "timepoint": 2.200000047683716,
           "trajectory": "I_sol",
           "upper": 297.37030029296875
          },
          {
           "lower": 215.4188232421875,
           "timepoint": 2.299999952316284,
           "trajectory": "I_sol",
           "upper": 303.7576904296875
          },
          {
           "lower": 217.2481834411621,
           "timepoint": 2.4000000953674316,
           "trajectory": "I_sol",
           "upper": 310.2468879699707
          },
          {
           "lower": 219.08928680419922,
           "timepoint": 2.5,
           "trajectory": "I_sol",
           "upper": 316.84220123291016
          },
          {
           "lower": 220.94262313842773,
           "timepoint": 2.6000001430511475,
           "trajectory": "I_sol",
           "upper": 323.5468940734863
          },
          {
           "lower": 222.8086395263672,
           "timepoint": 2.700000047683716,
           "trajectory": "I_sol",
           "upper": 330.36451721191406
          },
          {
           "lower": 224.6879409790039,
           "timepoint": 2.799999952316284,
           "trajectory": "I_sol",
           "upper": 337.298600769043
          },
          {
           "lower": 226.58037261962892,
           "timepoint": 2.9000000953674316,
           "trajectory": "I_sol",
           "upper": 344.35306854248046
          },
          {
           "lower": 228.48726425170898,
           "timepoint": 3,
           "trajectory": "I_sol",
           "upper": 351.53093948364256
          },
          {
           "lower": 230.4087287902832,
           "timepoint": 3.1000001430511475,
           "trajectory": "I_sol",
           "upper": 358.83600692749025
          },
          {
           "lower": 232.34516830444335,
           "timepoint": 3.200000047683716,
           "trajectory": "I_sol",
           "upper": 366.2717903137207
          },
          {
           "lower": 234.29702453613282,
           "timepoint": 3.299999952316284,
           "trajectory": "I_sol",
           "upper": 373.8420135498047
          },
          {
           "lower": 236.26470108032225,
           "timepoint": 3.4000000953674316,
           "trajectory": "I_sol",
           "upper": 381.5502250671387
          },
          {
           "lower": 238.24862899780274,
           "timepoint": 3.5,
           "trajectory": "I_sol",
           "upper": 389.3999458312988
          },
          {
           "lower": 240.2492530822754,
           "timepoint": 3.6000001430511475,
           "trajectory": "I_sol",
           "upper": 397.3949577331543
          },
          {
           "lower": 242.2668769836426,
           "timepoint": 3.700000047683716,
           "trajectory": "I_sol",
           "upper": 405.5388328552246
          },
          {
           "lower": 244.30194549560548,
           "timepoint": 3.799999952316284,
           "trajectory": "I_sol",
           "upper": 413.8353530883789
          },
          {
           "lower": 246.3548599243164,
           "timepoint": 3.9000000953674316,
           "trajectory": "I_sol",
           "upper": 422.2888473510742
          },
          {
           "lower": 248.42593536376953,
           "timepoint": 4,
           "trajectory": "I_sol",
           "upper": 430.9022811889648
          },
          {
           "lower": 250.5156379699707,
           "timepoint": 4.099999904632568,
           "trajectory": "I_sol",
           "upper": 439.67984237670896
          },
          {
           "lower": 252.62431716918945,
           "timepoint": 4.200000286102295,
           "trajectory": "I_sol",
           "upper": 448.6254234313965
          },
          {
           "lower": 254.7523094177246,
           "timepoint": 4.300000190734863,
           "trajectory": "I_sol",
           "upper": 457.74294509887693
          },
          {
           "lower": 256.89985580444335,
           "timepoint": 4.400000095367432,
           "trajectory": "I_sol",
           "upper": 467.0364387512207
          },
          {
           "lower": 259.067578125,
           "timepoint": 4.5,
           "trajectory": "I_sol",
           "upper": 476.50975341796874
          },
          {
           "lower": 261.2557487487793,
           "timepoint": 4.599999904632568,
           "trajectory": "I_sol",
           "upper": 486.16724014282227
          },
          {
           "lower": 263.46473236083983,
           "timepoint": 4.700000286102295,
           "trajectory": "I_sol",
           "upper": 496.0130813598633
          },
          {
           "lower": 265.69490509033204,
           "timepoint": 4.800000190734863,
           "trajectory": "I_sol",
           "upper": 506.05140228271483
          },
          {
           "lower": 267.946639251709,
           "timepoint": 4.900000095367432,
           "trajectory": "I_sol",
           "upper": 516.286530303955
          },
          {
           "lower": 270.2202682495117,
           "timepoint": 5,
           "trajectory": "I_sol",
           "upper": 526.7228775024414
          },
          {
           "lower": 272.5162185668945,
           "timepoint": 5.099999904632568,
           "trajectory": "I_sol",
           "upper": 537.3649765014649
          },
          {
           "lower": 274.8341918945313,
           "timepoint": 5.200000286102295,
           "trajectory": "I_sol",
           "upper": 548.2151245117187
          },
          {
           "lower": 277.17563781738284,
           "timepoint": 5.300000190734863,
           "trajectory": "I_sol",
           "upper": 559.2810882568359
          },
          {
           "lower": 279.54046630859375,
           "timepoint": 5.400000095367432,
           "trajectory": "I_sol",
           "upper": 570.5661010742188
          },
          {
           "lower": 281.92905883789064,
           "timepoint": 5.5,
           "trajectory": "I_sol",
           "upper": 582.0752136230468
          },
          {
           "lower": 284.34179229736327,
           "timepoint": 5.599999904632568,
           "trajectory": "I_sol",
           "upper": 593.812840270996
          },
          {
           "lower": 286.7790863037109,
           "timepoint": 5.700000286102295,
           "trajectory": "I_sol",
           "upper": 605.7842071533203
          },
          {
           "lower": 289.24127807617185,
           "timepoint": 5.800000190734863,
           "trajectory": "I_sol",
           "upper": 617.9940734863281
          },
          {
           "lower": 291.7287933349609,
           "timepoint": 5.900000095367432,
           "trajectory": "I_sol",
           "upper": 630.4477813720703
          },
          {
           "lower": 294.24202117919924,
           "timepoint": 6,
           "trajectory": "I_sol",
           "upper": 643.1499771118164
          },
          {
           "lower": 296.78052673339846,
           "timepoint": 6.099999904632568,
           "trajectory": "I_sol",
           "upper": 656.1061309814453
          },
          {
           "lower": 299.3461181640625,
           "timepoint": 6.200000286102295,
           "trajectory": "I_sol",
           "upper": 669.321484375
          },
          {
           "lower": 301.9385696411133,
           "timepoint": 6.300000190734863,
           "trajectory": "I_sol",
           "upper": 682.8016342163086
          },
          {
           "lower": 304.5582550048828,
           "timepoint": 6.400000095367432,
           "trajectory": "I_sol",
           "upper": 696.5520355224609
          },
          {
           "lower": 307.2056640625,
           "timepoint": 6.5,
           "trajectory": "I_sol",
           "upper": 710.5781494140625
          },
          {
           "lower": 309.88119354248045,
           "timepoint": 6.599999904632568,
           "trajectory": "I_sol",
           "upper": 724.8864151000977
          },
          {
           "lower": 312.5852569580078,
           "timepoint": 6.700000286102295,
           "trajectory": "I_sol",
           "upper": 739.4819427490235
          },
          {
           "lower": 315.3183029174805,
           "timepoint": 6.800000190734863,
           "trajectory": "I_sol",
           "upper": 754.3710586547851
          },
          {
           "lower": 318.0808135986328,
           "timepoint": 6.900000095367432,
           "trajectory": "I_sol",
           "upper": 769.5596282958984
          },
          {
           "lower": 320.8731185913086,
           "timepoint": 7,
           "trajectory": "I_sol",
           "upper": 785.0539138793945
          },
          {
           "lower": 323.6945739746094,
           "timepoint": 7.099999904632568,
           "trajectory": "I_sol",
           "upper": 800.8603576660156
          },
          {
           "lower": 326.5476608276367,
           "timepoint": 7.200000286102295,
           "trajectory": "I_sol",
           "upper": 816.9854507446289
          },
          {
           "lower": 329.43180694580076,
           "timepoint": 7.300000190734863,
           "trajectory": "I_sol",
           "upper": 833.4342514038086
          },
          {
           "lower": 332.3476303100586,
           "timepoint": 7.400000095367432,
           "trajectory": "I_sol",
           "upper": 850.215754699707
          },
          {
           "lower": 335.29549407958984,
           "timepoint": 7.5,
           "trajectory": "I_sol",
           "upper": 867.3357620239258
          },
          {
           "lower": 338.2759353637695,
           "timepoint": 7.599999904632568,
           "trajectory": "I_sol",
           "upper": 884.8011825561523
          },
          {
           "lower": 341.28941650390624,
           "timepoint": 7.700000286102295,
           "trajectory": "I_sol",
           "upper": 902.6191528320312
          },
          {
           "lower": 344.33636779785155,
           "timepoint": 7.800000190734863,
           "trajectory": "I_sol",
           "upper": 920.7967498779296
          },
          {
           "lower": 347.41735687255857,
           "timepoint": 7.900000095367432,
           "trajectory": "I_sol",
           "upper": 939.3414627075196
          },
          {
           "lower": 350.5329299926758,
           "timepoint": 8,
           "trajectory": "I_sol",
           "upper": 958.2625717163086
          },
          {
           "lower": 353.6834915161133,
           "timepoint": 8.100000381469727,
           "trajectory": "I_sol",
           "upper": 977.5650131225585
          },
          {
           "lower": 356.87088470458986,
           "timepoint": 8.199999809265137,
           "trajectory": "I_sol",
           "upper": 997.2574417114257
          },
          {
           "lower": 360.09348754882814,
           "timepoint": 8.300000190734863,
           "trajectory": "I_sol",
           "upper": 1017.3480407714843
          },
          {
           "lower": 363.3527603149414,
           "timepoint": 8.40000057220459,
           "trajectory": "I_sol",
           "upper": 1037.845329284668
          },
          {
           "lower": 366.64917449951173,
           "timepoint": 8.5,
           "trajectory": "I_sol",
           "upper": 1058.7566177368165
          },
          {
           "lower": 369.98346252441405,
           "timepoint": 8.600000381469727,
           "trajectory": "I_sol",
           "upper": 1080.0914276123046
          },
          {
           "lower": 373.35609130859376,
           "timepoint": 8.699999809265137,
           "trajectory": "I_sol",
           "upper": 1101.8575317382813
          },
          {
           "lower": 376.7677200317383,
           "timepoint": 8.800000190734863,
           "trajectory": "I_sol",
           "upper": 1124.0652572631836
          },
          {
           "lower": 380.2188430786133,
           "timepoint": 8.90000057220459,
           "trajectory": "I_sol",
           "upper": 1146.7218002319335
          },
          {
           "lower": 383.7100891113281,
           "timepoint": 9,
           "trajectory": "I_sol",
           "upper": 1169.8369079589843
          },
          {
           "lower": 387.2421447753906,
           "timepoint": 9.100000381469727,
           "trajectory": "I_sol",
           "upper": 1193.4203308105468
          },
          {
           "lower": 390.81549682617185,
           "timepoint": 9.199999809265137,
           "trajectory": "I_sol",
           "upper": 1217.4807678222655
          },
          {
           "lower": 394.43061981201174,
           "timepoint": 9.300000190734863,
           "trajectory": "I_sol",
           "upper": 1242.0288833618163
          },
          {
           "lower": 398.0885940551758,
           "timepoint": 9.40000057220459,
           "trajectory": "I_sol",
           "upper": 1267.074217224121
          },
          {
           "lower": 401.7898345947266,
           "timepoint": 9.5,
           "trajectory": "I_sol",
           "upper": 1292.626852416992
          },
          {
           "lower": 405.5350845336914,
           "timepoint": 9.600000381469727,
           "trajectory": "I_sol",
           "upper": 1318.698161315918
          },
          {
           "lower": 409.3248596191406,
           "timepoint": 9.699999809265137,
           "trajectory": "I_sol",
           "upper": 1345.2968444824219
          },
          {
           "lower": 413.1600143432617,
           "timepoint": 9.800000190734863,
           "trajectory": "I_sol",
           "upper": 1372.4347427368164
          },
          {
           "lower": 417.04115600585936,
           "timepoint": 9.90000057220459,
           "trajectory": "I_sol",
           "upper": 1400.122296142578
          },
          {
           "lower": 420.96897583007814,
           "timepoint": 10,
           "trajectory": "I_sol",
           "upper": 1428.3709899902344
          },
          {
           "lower": 424.94430389404295,
           "timepoint": 10.100000381469727,
           "trajectory": "I_sol",
           "upper": 1457.19220123291
          },
          {
           "lower": 428.96778564453126,
           "timepoint": 10.199999809265137,
           "trajectory": "I_sol",
           "upper": 1486.5976440429688
          },
          {
           "lower": 433.040217590332,
           "timepoint": 10.300000190734863,
           "trajectory": "I_sol",
           "upper": 1516.5991561889648
          },
          {
           "lower": 437.16239166259766,
           "timepoint": 10.40000057220459,
           "trajectory": "I_sol",
           "upper": 1547.2090377807617
          },
          {
           "lower": 441.3349945068359,
           "timepoint": 10.5,
           "trajectory": "I_sol",
           "upper": 1578.4392364501953
          },
          {
           "lower": 445.5590759277344,
           "timepoint": 10.600000381469727,
           "trajectory": "I_sol",
           "upper": 1610.303106689453
          },
          {
           "lower": 449.83509674072263,
           "timepoint": 10.699999809265137,
           "trajectory": "I_sol",
           "upper": 1642.8126998901366
          },
          {
           "lower": 454.1639862060547,
           "timepoint": 10.800000190734863,
           "trajectory": "I_sol",
           "upper": 1675.9818267822266
          },
          {
           "lower": 458.54664306640626,
           "timepoint": 10.90000057220459,
           "trajectory": "I_sol",
           "upper": 1709.8237182617186
          },
          {
           "lower": 462.98387908935547,
           "timepoint": 11,
           "trajectory": "I_sol",
           "upper": 1744.3516006469727
          },
          {
           "lower": 467.4766021728516,
           "timepoint": 11.100000381469727,
           "trajectory": "I_sol",
           "upper": 1779.579977416992
          },
          {
           "lower": 472.0255096435547,
           "timepoint": 11.199999809265137,
           "trajectory": "I_sol",
           "upper": 1815.5204498291014
          },
          {
           "lower": 476.6318054199219,
           "timepoint": 11.300000190734863,
           "trajectory": "I_sol",
           "upper": 1852.1920471191406
          },
          {
           "lower": 481.2962356567383,
           "timepoint": 11.40000057220459,
           "trajectory": "I_sol",
           "upper": 1889.6072982788085
          },
          {
           "lower": 486.0197036743164,
           "timepoint": 11.5,
           "trajectory": "I_sol",
           "upper": 1927.7811691284178
          },
          {
           "lower": 490.80325469970705,
           "timepoint": 11.600000381469727,
           "trajectory": "I_sol",
           "upper": 1966.7296737670897
          },
          {
           "lower": 495.6477569580078,
           "timepoint": 11.699999809265137,
           "trajectory": "I_sol",
           "upper": 2006.4676605224608
          },
          {
           "lower": 500.554264831543,
           "timepoint": 11.800000190734863,
           "trajectory": "I_sol",
           "upper": 2047.01241607666
          },
          {
           "lower": 505.52366638183594,
           "timepoint": 11.90000057220459,
           "trajectory": "I_sol",
           "upper": 2088.3797149658203
          },
          {
           "lower": 510.55716400146486,
           "timepoint": 12,
           "trajectory": "I_sol",
           "upper": 2130.5858108520506
          },
          {
           "lower": 515.6556274414063,
           "timepoint": 12.100000381469727,
           "trajectory": "I_sol",
           "upper": 2173.6483276367185
          },
          {
           "lower": 520.8202087402344,
           "timepoint": 12.199999809265137,
           "trajectory": "I_sol",
           "upper": 2217.584210205078
          },
          {
           "lower": 526.0520126342774,
           "timepoint": 12.300000190734863,
           "trajectory": "I_sol",
           "upper": 2262.412251281738
          },
          {
           "lower": 531.3520874023437,
           "timepoint": 12.40000057220459,
           "trajectory": "I_sol",
           "upper": 2308.149621582031
          },
          {
           "lower": 536.7214965820312,
           "timepoint": 12.5,
           "trajectory": "I_sol",
           "upper": 2354.8148803710938
          },
          {
           "lower": 542.1615264892578,
           "timepoint": 12.600000381469727,
           "trajectory": "I_sol",
           "upper": 2402.4275238037108
          },
          {
           "lower": 547.673112487793,
           "timepoint": 12.699999809265137,
           "trajectory": "I_sol",
           "upper": 2451.0058731079102
          },
          {
           "lower": 553.2575256347657,
           "timepoint": 12.800000190734863,
           "trajectory": "I_sol",
           "upper": 2500.5680358886716
          },
          {
           "lower": 558.9160400390625,
           "timepoint": 12.90000057220459,
           "trajectory": "I_sol",
           "upper": 2551.1376708984376
          },
          {
           "lower": 564.6498275756836,
           "timepoint": 13,
           "trajectory": "I_sol",
           "upper": 2602.732649230957
          },
          {
           "lower": 570.4601638793945,
           "timepoint": 13.100000381469727,
           "trajectory": "I_sol",
           "upper": 2655.375010681152
          },
          {
           "lower": 576.3482147216797,
           "timepoint": 13.199999809265137,
           "trajectory": "I_sol",
           "upper": 2709.0847076416017
          },
          {
           "lower": 582.3160751342773,
           "timepoint": 13.300000190734863,
           "trajectory": "I_sol",
           "upper": 2763.884516906738
          },
          {
           "lower": 588.3638320922852,
           "timepoint": 13.40000057220459,
           "trajectory": "I_sol",
           "upper": 2819.7964157104493
          },
          {
           "lower": 594.4932220458984,
           "timepoint": 13.5,
           "trajectory": "I_sol",
           "upper": 2876.8413116455076
          },
          {
           "lower": 600.7062683105469,
           "timepoint": 13.600000381469727,
           "trajectory": "I_sol",
           "upper": 2935.0521545410156
          },
          {
           "lower": 607.0035171508789,
           "timepoint": 13.699999809265137,
           "trajectory": "I_sol",
           "upper": 2994.4382247924805
          },
          {
           "lower": 613.3867538452148,
           "timepoint": 13.800000190734863,
           "trajectory": "I_sol",
           "upper": 3055.0301467895506
          },
          {
           "lower": 619.8574676513672,
           "timepoint": 13.90000057220459,
           "trajectory": "I_sol",
           "upper": 3116.851821899414
          },
          {
           "lower": 626.4169860839844,
           "timepoint": 14,
           "trajectory": "I_sol",
           "upper": 3179.9273742675778
          },
          {
           "lower": 633.0669647216797,
           "timepoint": 14.100000381469727,
           "trajectory": "I_sol",
           "upper": 3244.284414672851
          },
          {
           "lower": 639.808757019043,
           "timepoint": 14.199999809265137,
           "trajectory": "I_sol",
           "upper": 3309.94591217041
          },
          {
           "lower": 646.6441864013672,
           "timepoint": 14.300000190734863,
           "trajectory": "I_sol",
           "upper": 3376.941567993164
          },
          {
           "lower": 653.5745315551758,
           "timepoint": 14.40000057220459,
           "trajectory": "I_sol",
           "upper": 3445.294578552246
          },
          {
           "lower": 660.60166015625,
           "timepoint": 14.5,
           "trajectory": "I_sol",
           "upper": 3515.03603515625
          },
          {
           "lower": 667.7271163940429,
           "timepoint": 14.600000381469727,
           "trajectory": "I_sol",
           "upper": 3586.19308013916
          },
          {
           "lower": 674.9526168823243,
           "timepoint": 14.699999809265137,
           "trajectory": "I_sol",
           "upper": 3658.7944839477536
          },
          {
           "lower": 682.2793518066406,
           "timepoint": 14.800000190734863,
           "trajectory": "I_sol",
           "upper": 3732.8694519042965
          },
          {
           "lower": 689.7100555419922,
           "timepoint": 14.90000057220459,
           "trajectory": "I_sol",
           "upper": 3808.447964477539
          },
          {
           "lower": 697.2459503173828,
           "timepoint": 15,
           "trajectory": "I_sol",
           "upper": 3885.5603851318356
          },
          {
           "lower": 704.8889984130859,
           "timepoint": 15.100000381469727,
           "trajectory": "I_sol",
           "upper": 3964.23850402832
          },
          {
           "lower": 712.6407348632813,
           "timepoint": 15.199999809265137,
           "trajectory": "I_sol",
           "upper": 4044.5103881835935
          },
          {
           "lower": 720.5035095214844,
           "timepoint": 15.300000190734863,
           "trajectory": "I_sol",
           "upper": 4126.414093017578
          },
          {
           "lower": 728.4788269042969,
           "timepoint": 15.40000057220459,
           "trajectory": "I_sol",
           "upper": 4209.979302978515
          },
          {
           "lower": 736.5689239501953,
           "timepoint": 15.5,
           "trajectory": "I_sol",
           "upper": 4295.240829467773
          },
          {
           "lower": 744.7756652832031,
           "timepoint": 15.600000381469727,
           "trajectory": "I_sol",
           "upper": 4382.233001708984
          },
          {
           "lower": 753.101040649414,
           "timepoint": 15.699999809265137,
           "trajectory": "I_sol",
           "upper": 4470.9892303466795
          },
          {
           "lower": 761.5471343994141,
           "timepoint": 15.800000190734863,
           "trajectory": "I_sol",
           "upper": 4561.54801940918
          },
          {
           "lower": 770.1161834716797,
           "timepoint": 15.90000057220459,
           "trajectory": "I_sol",
           "upper": 4653.944180297852
          },
          {
           "lower": 778.8103515625,
           "timepoint": 16,
           "trajectory": "I_sol",
           "upper": 4748.219921875
          },
          {
           "lower": 787.6316558837891,
           "timepoint": 16.100000381469727,
           "trajectory": "I_sol",
           "upper": 4844.405880737305
          },
          {
           "lower": 796.5823760986328,
           "timepoint": 16.200000762939453,
           "trajectory": "I_sol",
           "upper": 4942.544271850586
          },
          {
           "lower": 805.6647369384766,
           "timepoint": 16.30000114440918,
           "trajectory": "I_sol",
           "upper": 5042.674069213867
          },
          {
           "lower": 814.881982421875,
           "timepoint": 16.399999618530273,
           "trajectory": "I_sol",
           "upper": 5144.833837890625
          },
          {
           "lower": 824.2349060058593,
           "timepoint": 16.5,
           "trajectory": "I_sol",
           "upper": 5249.069415283203
          },
          {
           "lower": 833.7267181396485,
           "timepoint": 16.600000381469727,
           "trajectory": "I_sol",
           "upper": 5355.419827270508
          },
          {
           "lower": 843.3597961425781,
           "timepoint": 16.700000762939453,
           "trajectory": "I_sol",
           "upper": 5463.929144287109
          },
          {
           "lower": 853.1365844726563,
           "timepoint": 16.80000114440918,
           "trajectory": "I_sol",
           "upper": 5574.640515136719
          },
          {
           "lower": 863.0597900390626,
           "timepoint": 16.899999618530273,
           "trajectory": "I_sol",
           "upper": 5687.599877929687
          },
          {
           "lower": 873.1317901611328,
           "timepoint": 17,
           "trajectory": "I_sol",
           "upper": 5802.851303100586
          },
          {
           "lower": 883.3555389404297,
           "timepoint": 17.100000381469727,
           "trajectory": "I_sol",
           "upper": 5920.442129516601
          },
          {
           "lower": 893.7334686279297,
           "timepoint": 17.200000762939453,
           "trajectory": "I_sol",
           "upper": 6040.419668579101
          },
          {
           "lower": 904.2684906005859,
           "timepoint": 17.30000114440918,
           "trajectory": "I_sol",
           "upper": 6162.83264465332
          },
          {
           "lower": 914.9631958007812,
           "timepoint": 17.399999618530273,
           "trajectory": "I_sol",
           "upper": 6287.726989746094
          },
          {
           "lower": 925.8206787109375,
           "timepoint": 17.5,
           "trajectory": "I_sol",
           "upper": 6415.1593017578125
          },
          {
           "lower": 936.8437438964844,
           "timepoint": 17.600000381469727,
           "trajectory": "I_sol",
           "upper": 6545.177374267578
          },
          {
           "lower": 948.0347656250001,
           "timepoint": 17.700000762939453,
           "trajectory": "I_sol",
           "upper": 6677.819726562499
          },
          {
           "lower": 959.3978607177735,
           "timepoint": 17.80000114440918,
           "trajectory": "I_sol",
           "upper": 6813.165676879882
          },
          {
           "lower": 970.9348388671875,
           "timepoint": 17.899999618530273,
           "trajectory": "I_sol",
           "upper": 6951.255102539062
          },
          {
           "lower": 982.6502075195312,
           "timepoint": 18,
           "trajectory": "I_sol",
           "upper": 7092.148376464844
          },
          {
           "lower": 994.5465911865235,
           "timepoint": 18.100000381469727,
           "trajectory": "I_sol",
           "upper": 7235.899758911132
          },
          {
           "lower": 1006.6272064208985,
           "timepoint": 18.200000762939453,
           "trajectory": "I_sol",
           "upper": 7382.568167114257
          },
          {
           "lower": 1018.8952209472657,
           "timepoint": 18.30000114440918,
           "trajectory": "I_sol",
           "upper": 7532.211590576171
          },
          {
           "lower": 1031.3537628173829,
           "timepoint": 18.399999618530273,
           "trajectory": "I_sol",
           "upper": 7684.886166381835
          },
          {
           "lower": 1044.0062927246095,
           "timepoint": 18.5,
           "trajectory": "I_sol",
           "upper": 7840.655450439453
          },
          {
           "lower": 1056.8559020996095,
           "timepoint": 18.600000381469727,
           "trajectory": "I_sol",
           "upper": 7999.579278564453
          },
          {
           "lower": 1069.9071228027344,
           "timepoint": 18.700000762939453,
           "trajectory": "I_sol",
           "upper": 8161.718487548827
          },
          {
           "lower": 1083.161831665039,
           "timepoint": 18.80000114440918,
           "trajectory": "I_sol",
           "upper": 8327.147189331054
          },
          {
           "lower": 1096.6213012695312,
           "timepoint": 18.899999618530273,
           "trajectory": "I_sol",
           "upper": 8495.895056152343
          },
          {
           "lower": 1110.2903259277343,
           "timepoint": 19,
           "trajectory": "I_sol",
           "upper": 8668.034503173827
          },
          {
           "lower": 1124.165719604492,
           "timepoint": 19.100000381469727,
           "trajectory": "I_sol",
           "upper": 8843.570913696289
          },
          {
           "lower": 1138.2490539550781,
           "timepoint": 19.200000762939453,
           "trajectory": "I_sol",
           "upper": 9022.56820678711
          },
          {
           "lower": 1152.5328399658204,
           "timepoint": 19.30000114440918,
           "trajectory": "I_sol",
           "upper": 9204.991757202148
          },
          {
           "lower": 1167.0076568603515,
           "timepoint": 19.399999618530273,
           "trajectory": "I_sol",
           "upper": 9390.791110229491
          },
          {
           "lower": 1181.6536529541015,
           "timepoint": 19.5,
           "trajectory": "I_sol",
           "upper": 9579.820895385741
          },
          {
           "lower": 1196.4357604980469,
           "timepoint": 19.600000381469727,
           "trajectory": "I_sol",
           "upper": 9771.820220947266
          },
          {
           "lower": 1211.3003692626953,
           "timepoint": 19.700000762939453,
           "trajectory": "I_sol",
           "upper": 9966.320907592773
          },
          {
           "lower": 1226.1651336669922,
           "timepoint": 19.80000114440918,
           "trajectory": "I_sol",
           "upper": 10162.598843383788
          },
          {
           "lower": 1240.917776489258,
           "timepoint": 19.899999618530273,
           "trajectory": "I_sol",
           "upper": 10359.660043334961
          },
          {
           "lower": 1255.4136291503905,
           "timepoint": 20,
           "trajectory": "I_sol",
           "upper": 10556.160955810547
          },
          {
           "lower": 1269.4944427490236,
           "timepoint": 20.100000381469727,
           "trajectory": "I_sol",
           "upper": 10750.629641723632
          },
          {
           "lower": 1283.0072906494142,
           "timepoint": 20.200000762939453,
           "trajectory": "I_sol",
           "upper": 10941.607394409179
          },
          {
           "lower": 1295.81630859375,
           "timepoint": 20.30000114440918,
           "trajectory": "I_sol",
           "upper": 11127.73447265625
          },
          {
           "lower": 1307.8238220214844,
           "timepoint": 20.399999618530273,
           "trajectory": "I_sol",
           "upper": 11307.965850830078
          },
          {
           "lower": 1318.9729370117188,
           "timepoint": 20.5,
           "trajectory": "I_sol",
           "upper": 11481.678674316405
          },
          {
           "lower": 1329.2351196289064,
           "timepoint": 20.600000381469727,
           "trajectory": "I_sol",
           "upper": 11648.438464355468
          },
          {
           "lower": 1338.6100585937502,
           "timepoint": 20.700000762939453,
           "trajectory": "I_sol",
           "upper": 11808.083300781249
          },
          {
           "lower": 1347.1075531005858,
           "timepoint": 20.80000114440918,
           "trajectory": "I_sol",
           "upper": 11960.57854309082
          },
          {
           "lower": 1354.749609375,
           "timepoint": 20.899999618530273,
           "trajectory": "I_sol",
           "upper": 12105.963281249999
          },
          {
           "lower": 1361.5667236328127,
           "timepoint": 21,
           "trajectory": "I_sol",
           "upper": 12244.409350585936
          },
          {
           "lower": 1367.5902740478516,
           "timepoint": 21.100000381469727,
           "trajectory": "I_sol",
           "upper": 12376.058102416991
          },
          {
           "lower": 1372.856982421875,
           "timepoint": 21.200000762939453,
           "trajectory": "I_sol",
           "upper": 12501.173291015624
          },
          {
           "lower": 1377.395166015625,
           "timepoint": 21.30000114440918,
           "trajectory": "I_sol",
           "upper": 12619.865576171875
          },
          {
           "lower": 1381.2409790039064,
           "timepoint": 21.399999618530273,
           "trajectory": "I_sol",
           "upper": 12732.368151855468
          },
          {
           "lower": 1384.4259948730469,
           "timepoint": 21.5,
           "trajectory": "I_sol",
           "upper": 12838.878814697266
          },
          {
           "lower": 1386.9820251464844,
           "timepoint": 21.600000381469727,
           "trajectory": "I_sol",
           "upper": 12939.606475830078
          },
          {
           "lower": 1388.9405548095704,
           "timepoint": 21.700000762939453,
           "trajectory": "I_sol",
           "upper": 13034.746151733398
          },
          {
           "lower": 1390.3294891357423,
           "timepoint": 21.80000114440918,
           "trajectory": "I_sol",
           "upper": 13124.485269165038
          },
          {
           "lower": 1391.1773712158204,
           "timepoint": 21.899999618530273,
           "trajectory": "I_sol",
           "upper": 13209.011288452148
          },
          {
           "lower": 1391.5089477539063,
           "timepoint": 22,
           "trajectory": "I_sol",
           "upper": 13288.461511230467
          },
          {
           "lower": 1391.3534942626952,
           "timepoint": 22.100000381469727,
           "trajectory": "I_sol",
           "upper": 13363.072470092773
          },
          {
           "lower": 1390.7355194091797,
           "timepoint": 22.200000762939453,
           "trajectory": "I_sol",
           "upper": 13432.987930297852
          },
          {
           "lower": 1389.6768157958986,
           "timepoint": 22.30000114440918,
           "trajectory": "I_sol",
           "upper": 13498.368167114257
          },
          {
           "lower": 1388.201223754883,
           "timepoint": 22.399999618530273,
           "trajectory": "I_sol",
           "upper": 13559.371713256834
          },
          {
           "lower": 1386.3295989990233,
           "timepoint": 22.5,
           "trajectory": "I_sol",
           "upper": 13616.142141723632
          },
          {
           "lower": 1384.0835906982422,
           "timepoint": 22.600000381469727,
           "trajectory": "I_sol",
           "upper": 13668.842495727538
          },
          {
           "lower": 1381.4830169677734,
           "timepoint": 22.700000762939453,
           "trajectory": "I_sol",
           "upper": 13717.609817504883
          },
          {
           "lower": 1378.5467864990235,
           "timepoint": 22.80000114440918,
           "trajectory": "I_sol",
           "upper": 13762.579251098632
          },
          {
           "lower": 1375.2934997558596,
           "timepoint": 22.899999618530273,
           "trajectory": "I_sol",
           "upper": 13803.887774658202
          },
          {
           "lower": 1371.739434814453,
           "timepoint": 23,
           "trajectory": "I_sol",
           "upper": 13841.649114990234
          },
          {
           "lower": 1367.902520751953,
           "timepoint": 23.100000381469727,
           "trajectory": "I_sol",
           "upper": 13876.009466552734
          },
          {
           "lower": 1363.798193359375,
           "timepoint": 23.200000762939453,
           "trajectory": "I_sol",
           "upper": 13907.079736328124
          },
          {
           "lower": 1359.441842651367,
           "timepoint": 23.30000114440918,
           "trajectory": "I_sol",
           "upper": 13934.975454711914
          },
          {
           "lower": 1354.8483947753907,
           "timepoint": 23.399999618530273,
           "trajectory": "I_sol",
           "upper": 13959.812127685545
          },
          {
           "lower": 1350.0312133789062,
           "timepoint": 23.5,
           "trajectory": "I_sol",
           "upper": 13981.693151855468
          },
          {
           "lower": 1345.0038208007813,
           "timepoint": 23.600000381469727,
           "trajectory": "I_sol",
           "upper": 14000.746911621092
          },
          {
           "lower": 1339.7791778564454,
           "timepoint": 23.700000762939453,
           "trajectory": "I_sol",
           "upper": 14017.047177124023
          },
          {
           "lower": 1334.3692687988282,
           "timepoint": 23.80000114440918,
           "trajectory": "I_sol",
           "upper": 14030.701898193358
          },
          {
           "lower": 1328.7862854003906,
           "timepoint": 23.899999618530273,
           "trajectory": "I_sol",
           "upper": 14041.809783935547
          },
          {
           "lower": 1323.040948486328,
           "timepoint": 24,
           "trajectory": "I_sol",
           "upper": 14050.465765380859
          },
          {
           "lower": 1317.1434814453125,
           "timepoint": 24.100000381469727,
           "trajectory": "I_sol",
           "upper": 14056.756420898437
          },
          {
           "lower": 1311.1034942626952,
           "timepoint": 24.200000762939453,
           "trajectory": "I_sol",
           "upper": 14060.742391967773
          },
          {
           "lower": 1304.9323120117188,
           "timepoint": 24.30000114440918,
           "trajectory": "I_sol",
           "upper": 14062.545471191406
          },
          {
           "lower": 1298.6383575439454,
           "timepoint": 24.399999618530273,
           "trajectory": "I_sol",
           "upper": 14062.229013061522
          },
          {
           "lower": 1292.2302368164064,
           "timepoint": 24.5,
           "trajectory": "I_sol",
           "upper": 14059.873034667968
          },
          {
           "lower": 1285.7180786132812,
           "timepoint": 24.600000381469727,
           "trajectory": "I_sol",
           "upper": 14055.550231933594
          },
          {
           "lower": 1279.1079467773438,
           "timepoint": 24.700000762939453,
           "trajectory": "I_sol",
           "upper": 14049.33956298828
          },
          {
           "lower": 1272.4096557617188,
           "timepoint": 24.80000114440918,
           "trajectory": "I_sol",
           "upper": 14041.339611816406
          },
          {
           "lower": 1265.628121948242,
           "timepoint": 24.899999618530273,
           "trajectory": "I_sol",
           "upper": 14031.563589477539
          },
          {
           "lower": 1258.7709320068361,
           "timepoint": 25,
           "trajectory": "I_sol",
           "upper": 14020.10071105957
          },
          {
           "lower": 1251.8455444335937,
           "timepoint": 25.100000381469727,
           "trajectory": "I_sol",
           "upper": 14007.01798095703
          },
          {
           "lower": 1244.8579559326172,
           "timepoint": 25.200000762939453,
           "trajectory": "I_sol",
           "upper": 13992.377700805664
          },
          {
           "lower": 1237.8143646240235,
           "timepoint": 25.30000114440918,
           "trajectory": "I_sol",
           "upper": 13976.239407348632
          },
          {
           "lower": 1230.7194396972657,
           "timepoint": 25.399999618530273,
           "trajectory": "I_sol",
           "upper": 13958.641278076171
          },
          {
           "lower": 1223.5801086425781,
           "timepoint": 25.5,
           "trajectory": "I_sol",
           "upper": 13939.66879272461
          },
          {
           "lower": 1216.4020462036133,
           "timepoint": 25.600000381469727,
           "trajectory": "I_sol",
           "upper": 13919.361106872559
          },
          {
           "lower": 1209.1887420654298,
           "timepoint": 25.700000762939453,
           "trajectory": "I_sol",
           "upper": 13897.7729888916
          },
          {
           "lower": 1201.9455291748047,
           "timepoint": 25.80000114440918,
           "trajectory": "I_sol",
           "upper": 13874.954678344726
          },
          {
           "lower": 1194.6771118164063,
           "timepoint": 25.899999618530273,
           "trajectory": "I_sol",
           "upper": 13850.955456542968
          },
          {
           "lower": 1187.3870376586915,
           "timepoint": 26,
           "trajectory": "I_sol",
           "upper": 13825.812516784667
          },
          {
           "lower": 1180.0801528930665,
           "timepoint": 26.100000381469727,
           "trajectory": "I_sol",
           "upper": 13799.587174987792
          },
          {
           "lower": 1172.76104888916,
           "timepoint": 26.200000762939453,
           "trajectory": "I_sol",
           "upper": 13772.316679382324
          },
          {
           "lower": 1165.431903076172,
           "timepoint": 26.30000114440918,
           "trajectory": "I_sol",
           "upper": 13744.04185180664
          },
          {
           "lower": 1158.0970108032227,
           "timepoint": 26.399999618530273,
           "trajectory": "I_sol",
           "upper": 13714.806401062011
          },
          {
           "lower": 1150.7594772338866,
           "timepoint": 26.5,
           "trajectory": "I_sol",
           "upper": 13684.651197814941
          },
          {
           "lower": 1143.4224822998049,
           "timepoint": 26.600000381469727,
           "trajectory": "I_sol",
           "upper": 13653.612490844725
          },
          {
           "lower": 1136.0881439208983,
           "timepoint": 26.700000762939453,
           "trajectory": "I_sol",
           "upper": 13621.710745239257
          },
          {
           "lower": 1128.7614059448242,
           "timepoint": 26.80000114440918,
           "trajectory": "I_sol",
           "upper": 13589.009132385254
          },
          {
           "lower": 1121.4432952880861,
           "timepoint": 26.899999618530273,
           "trajectory": "I_sol",
           "upper": 13555.52991027832
          },
          {
           "lower": 1114.1367889404296,
           "timepoint": 27,
           "trajectory": "I_sol",
           "upper": 13521.309317016601
          },
          {
           "lower": 1106.8441253662108,
           "timepoint": 27.100000381469727,
           "trajectory": "I_sol",
           "upper": 13486.376150512695
          },
          {
           "lower": 1099.5677963256835,
           "timepoint": 27.200000762939453,
           "trajectory": "I_sol",
           "upper": 13450.762922668457
          },
          {
           "lower": 1092.3097503662111,
           "timepoint": 27.30000114440918,
           "trajectory": "I_sol",
           "upper": 13414.498416137694
          },
          {
           "lower": 1085.0734466552735,
           "timepoint": 27.399999618530273,
           "trajectory": "I_sol",
           "upper": 13377.634622192381
          },
          {
           "lower": 1077.8586013793947,
           "timepoint": 27.5,
           "trajectory": "I_sol",
           "upper": 13340.165049743651
          },
          {
           "lower": 1070.6678451538087,
           "timepoint": 27.600000381469727,
           "trajectory": "I_sol",
           "upper": 13302.12869415283
          },
          {
           "lower": 1063.5031372070312,
           "timepoint": 27.700000762939453,
           "trajectory": "I_sol",
           "upper": 13263.556188964843
          },
          {
           "lower": 1056.3657943725586,
           "timepoint": 27.80000114440918,
           "trajectory": "I_sol",
           "upper": 13224.469807434081
          },
          {
           "lower": 1049.257618713379,
           "timepoint": 27.899999618530273,
           "trajectory": "I_sol",
           "upper": 13184.89554901123
          },
          {
           "lower": 1042.1790664672853,
           "timepoint": 28,
           "trajectory": "I_sol",
           "upper": 13144.854716491698
          },
          {
           "lower": 1035.1334747314454,
           "timepoint": 28.100000381469727,
           "trajectory": "I_sol",
           "upper": 13104.388192749022
          },
          {
           "lower": 1028.1203491210938,
           "timepoint": 28.200000762939453,
           "trajectory": "I_sol",
           "upper": 13063.49317626953
          },
          {
           "lower": 1021.1413589477539,
           "timepoint": 28.30000114440918,
           "trajectory": "I_sol",
           "upper": 13022.200285339355
          },
          {
           "lower": 1014.1977828979493,
           "timepoint": 28.399999618530273,
           "trajectory": "I_sol",
           "upper": 12980.532716369627
          },
          {
           "lower": 1007.2904235839844,
           "timepoint": 28.5,
           "trajectory": "I_sol",
           "upper": 12938.509014892577
          },
          {
           "lower": 1000.4199676513672,
           "timepoint": 28.600000381469727,
           "trajectory": "I_sol",
           "upper": 12896.147720336914
          },
          {
           "lower": 993.5878662109376,
           "timepoint": 28.700000762939453,
           "trajectory": "I_sol",
           "upper": 12853.469262695311
          },
          {
           "lower": 986.7930587768556,
           "timepoint": 28.80000114440918,
           "trajectory": "I_sol",
           "upper": 12810.460633850096
          },
          {
           "lower": 980.0391876220704,
           "timepoint": 28.899999618530273,
           "trajectory": "I_sol",
           "upper": 12767.190487670898
          },
          {
           "lower": 973.325602722168,
           "timepoint": 29,
           "trajectory": "I_sol",
           "upper": 12723.654164123534
          },
          {
           "lower": 966.6528137207032,
           "timepoint": 29.100000381469727,
           "trajectory": "I_sol",
           "upper": 12679.864642333983
          },
          {
           "lower": 960.0215057373048,
           "timepoint": 29.200000762939453,
           "trajectory": "I_sol",
           "upper": 12635.837686157225
          },
          {
           "lower": 953.4315826416016,
           "timepoint": 29.30000114440918,
           "trajectory": "I_sol",
           "upper": 12591.591793823241
          },
          {
           "lower": 946.8847717285157,
           "timepoint": 29.399999618530273,
           "trajectory": "I_sol",
           "upper": 12547.14000854492
          },
          {
           "lower": 940.3819122314453,
           "timepoint": 29.5,
           "trajectory": "I_sol",
           "upper": 12502.514755249023
          },
          {
           "lower": 933.9216506958008,
           "timepoint": 29.600000381469727,
           "trajectory": "I_sol",
           "upper": 12457.69745941162
          },
          {
           "lower": 927.5051223754883,
           "timepoint": 29.700000762939453,
           "trajectory": "I_sol",
           "upper": 12412.714085388183
          },
          {
           "lower": 921.1328384399415,
           "timepoint": 29.80000114440918,
           "trajectory": "I_sol",
           "upper": 12367.580387878417
          },
          {
           "lower": 914.804997253418,
           "timepoint": 29.899999618530273,
           "trajectory": "I_sol",
           "upper": 12322.305628967284
          },
          {
           "lower": 908.5205520629884,
           "timepoint": 30,
           "trajectory": "I_sol",
           "upper": 12276.901780700682
          },
          {
           "lower": 902.2816162109375,
           "timepoint": 30.100000381469727,
           "trajectory": "I_sol",
           "upper": 12231.380981445312
          },
          {
           "lower": 896.0876541137695,
           "timepoint": 30.200000762939453,
           "trajectory": "I_sol",
           "upper": 12185.753379821777
          },
          {
           "lower": 889.9393157958984,
           "timepoint": 30.30000114440918,
           "trajectory": "I_sol",
           "upper": 12140.041213989258
          },
          {
           "lower": 883.8359893798829,
           "timepoint": 30.399999618530273,
           "trajectory": "I_sol",
           "upper": 12094.238900756834
          },
          {
           "lower": 877.7777786254883,
           "timepoint": 30.5,
           "trajectory": "I_sol",
           "upper": 12048.359397888184
          },
          {
           "lower": 871.7649902343751,
           "timepoint": 30.600000381469727,
           "trajectory": "I_sol",
           "upper": 12002.415673828124
          },
          {
           "lower": 865.7976341247559,
           "timepoint": 30.700000762939453,
           "trajectory": "I_sol",
           "upper": 11956.416980743408
          },
          {
           "lower": 859.8767837524414,
           "timepoint": 30.80000114440918,
           "trajectory": "I_sol",
           "upper": 11910.373551940917
          },
          {
           "lower": 854.0008529663086,
           "timepoint": 30.899999618530273,
           "trajectory": "I_sol",
           "upper": 11864.29178009033
          },
          {
           "lower": 848.1704711914062,
           "timepoint": 31,
           "trajectory": "I_sol",
           "upper": 11818.182800292969
          },
          {
           "lower": 842.3827713012696,
           "timepoint": 31.100000381469727,
           "trajectory": "I_sol",
           "upper": 11771.999278259276
          },
          {
           "lower": 836.6424942016602,
           "timepoint": 31.19999885559082,
           "trajectory": "I_sol",
           "upper": 11725.839530944824
          },
          {
           "lower": 830.9472877502442,
           "timepoint": 31.299999237060547,
           "trajectory": "I_sol",
           "upper": 11679.670128631591
          },
          {
           "lower": 825.2971366882324,
           "timepoint": 31.399999618530273,
           "trajectory": "I_sol",
           "upper": 11633.498471832274
          },
          {
           "lower": 819.6919769287109,
           "timepoint": 31.5,
           "trajectory": "I_sol",
           "upper": 11587.331033325194
          },
          {
           "lower": 814.1317024230957,
           "timepoint": 31.600000381469727,
           "trajectory": "I_sol",
           "upper": 11541.177059173584
          },
          {
           "lower": 808.6160339355469,
           "timepoint": 31.69999885559082,
           "trajectory": "I_sol",
           "upper": 11495.038385009764
          },
          {
           "lower": 803.144831085205,
           "timepoint": 31.799999237060547,
           "trajectory": "I_sol",
           "upper": 11448.923329925536
          },
          {
           "lower": 797.7188217163086,
           "timepoint": 31.899999618530273,
           "trajectory": "I_sol",
           "upper": 11402.855061340331
          },
          {
           "lower": 792.3363792419434,
           "timepoint": 32,
           "trajectory": "I_sol",
           "upper": 11356.81036453247
          },
          {
           "lower": 786.997972869873,
           "timepoint": 32.099998474121094,
           "trajectory": "I_sol",
           "upper": 11310.80776748657
          },
          {
           "lower": 781.7033882141113,
           "timepoint": 32.19999694824219,
           "trajectory": "I_sol",
           "upper": 11264.852809906006
          },
          {
           "lower": 776.4524566650391,
           "timepoint": 32.29999923706055,
           "trajectory": "I_sol",
           "upper": 11218.946408081054
          },
          {
           "lower": 771.2446319580079,
           "timepoint": 32.400001525878906,
           "trajectory": "I_sol",
           "upper": 11173.09685974121
          },
          {
           "lower": 766.0802032470704,
           "timepoint": 32.5,
           "trajectory": "I_sol",
           "upper": 11127.311581420898
          },
          {
           "lower": 760.9586738586426,
           "timepoint": 32.599998474121094,
           "trajectory": "I_sol",
           "upper": 11081.592397308348
          },
          {
           "lower": 755.879746246338,
           "timepoint": 32.69999694824219,
           "trajectory": "I_sol",
           "upper": 11035.942992401122
          },
          {
           "lower": 750.8418441772461,
           "timepoint": 32.79999923706055,
           "trajectory": "I_sol",
           "upper": 10990.343855285644
          },
          {
           "lower": 745.8469543457031,
           "timepoint": 32.900001525878906,
           "trajectory": "I_sol",
           "upper": 10944.840423583984
          },
          {
           "lower": 740.894059753418,
           "timepoint": 33,
           "trajectory": "I_sol",
           "upper": 10899.419691467285
          },
          {
           "lower": 735.9825462341308,
           "timepoint": 33.099998474121094,
           "trajectory": "I_sol",
           "upper": 10854.080701446532
          },
          {
           "lower": 731.1123275756836,
           "timepoint": 33.19999694824219,
           "trajectory": "I_sol",
           "upper": 10808.833625793457
          },
          {
           "lower": 726.2829437255859,
           "timepoint": 33.29999923706055,
           "trajectory": "I_sol",
           "upper": 10763.67658996582
          },
          {
           "lower": 721.4942184448242,
           "timepoint": 33.400001525878906,
           "trajectory": "I_sol",
           "upper": 10718.614210510254
          },
          {
           "lower": 716.7460823059082,
           "timepoint": 33.5,
           "trajectory": "I_sol",
           "upper": 10673.652034759521
          },
          {
           "lower": 712.038136291504,
           "timepoint": 33.599998474121094,
           "trajectory": "I_sol",
           "upper": 10628.793742370604
          },
          {
           "lower": 707.3694664001465,
           "timepoint": 33.69999694824219,
           "trajectory": "I_sol",
           "upper": 10584.029108428955
          },
          {
           "lower": 702.7403282165527,
           "timepoint": 33.79999923706055,
           "trajectory": "I_sol",
           "upper": 10539.374799346924
          },
          {
           "lower": 698.1503395080566,
           "timepoint": 33.900001525878906,
           "trajectory": "I_sol",
           "upper": 10494.82986984253
          },
          {
           "lower": 693.5994400024414,
           "timepoint": 34,
           "trajectory": "I_sol",
           "upper": 10450.398942565918
          },
          {
           "lower": 689.0870010375977,
           "timepoint": 34.099998474121094,
           "trajectory": "I_sol",
           "upper": 10406.081059265136
          },
          {
           "lower": 684.6126510620118,
           "timepoint": 34.19999694824219,
           "trajectory": "I_sol",
           "upper": 10361.877125549316
          },
          {
           "lower": 680.1761268615722,
           "timepoint": 34.29999923706055,
           "trajectory": "I_sol",
           "upper": 10317.791753387452
          },
          {
           "lower": 675.7770660400391,
           "timepoint": 34.400001525878906,
           "trajectory": "I_sol",
           "upper": 10273.824923706054
          },
          {
           "lower": 671.4153938293457,
           "timepoint": 34.5,
           "trajectory": "I_sol",
           "upper": 10229.981258392334
          },
          {
           "lower": 667.0905158996583,
           "timepoint": 34.599998474121094,
           "trajectory": "I_sol",
           "upper": 10186.26072616577
          },
          {
           "lower": 662.8032852172852,
           "timepoint": 34.69999694824219,
           "trajectory": "I_sol",
           "upper": 10142.685575866699
          },
          {
           "lower": 658.5514221191406,
           "timepoint": 34.79999923706055,
           "trajectory": "I_sol",
           "upper": 10099.222381591797
          },
          {
           "lower": 654.3360809326172,
           "timepoint": 34.900001525878906,
           "trajectory": "I_sol",
           "upper": 10055.887857055664
          },
          {
           "lower": 650.1561576843262,
           "timepoint": 35,
           "trajectory": "I_sol",
           "upper": 10012.686569976806
          },
          {
           "lower": 646.0116577148438,
           "timepoint": 35.099998474121094,
           "trajectory": "I_sol",
           "upper": 9969.619445800781
          },
          {
           "lower": 641.9021625518799,
           "timepoint": 35.19999694824219,
           "trajectory": "I_sol",
           "upper": 9926.685537338257
          },
          {
           "lower": 637.8271377563477,
           "timepoint": 35.29999923706055,
           "trajectory": "I_sol",
           "upper": 9883.883891296386
          },
          {
           "lower": 633.786530303955,
           "timepoint": 35.400001525878906,
           "trajectory": "I_sol",
           "upper": 9841.219130706786
          },
          {
           "lower": 629.7801948547364,
           "timepoint": 35.5,
           "trajectory": "I_sol",
           "upper": 9798.69494857788
          },
          {
           "lower": 625.8077037811279,
           "timepoint": 35.599998474121094,
           "trajectory": "I_sol",
           "upper": 9756.311322402953
          },
          {
           "lower": 621.8680870056153,
           "timepoint": 35.69999694824219,
           "trajectory": "I_sol",
           "upper": 9714.05709915161
          },
          {
           "lower": 617.9620040893556,
           "timepoint": 35.79999923706055,
           "trajectory": "I_sol",
           "upper": 9671.949891662598
          },
          {
           "lower": 614.0885478973389,
           "timepoint": 35.900001525878906,
           "trajectory": "I_sol",
           "upper": 9629.983176040649
          },
          {
           "lower": 610.2477741241455,
           "timepoint": 36,
           "trajectory": "I_sol",
           "upper": 9588.161581039429
          },
          {
           "lower": 606.4392208099366,
           "timepoint": 36.099998474121094,
           "trajectory": "I_sol",
           "upper": 9546.484157180786
          },
          {
           "lower": 602.6625255584718,
           "timepoint": 36.19999694824219,
           "trajectory": "I_sol",
           "upper": 9504.950885391236
          },
          {
           "lower": 598.9171848297119,
           "timepoint": 36.29999923706055,
           "trajectory": "I_sol",
           "upper": 9463.559888839722
          },
          {
           "lower": 595.2031455993653,
           "timepoint": 36.400001525878906,
           "trajectory": "I_sol",
           "upper": 9422.315790557861
          },
          {
           "lower": 591.5202445983887,
           "timepoint": 36.5,
           "trajectory": "I_sol",
           "upper": 9381.220432281494
          },
          {
           "lower": 587.8679294586182,
           "timepoint": 36.599998474121094,
           "trajectory": "I_sol",
           "upper": 9340.27100944519
          },
          {
           "lower": 584.2460968017579,
           "timepoint": 36.69999694824219,
           "trajectory": "I_sol",
           "upper": 9299.46844177246
          },
          {
           "lower": 580.654016494751,
           "timepoint": 36.79999923706055,
           "trajectory": "I_sol",
           "upper": 9258.811765670776
          },
          {
           "lower": 577.0917461395263,
           "timepoint": 36.900001525878906,
           "trajectory": "I_sol",
           "upper": 9218.30468482971
          },
          {
           "lower": 573.5591785430909,
           "timepoint": 37,
           "trajectory": "I_sol",
           "upper": 9177.949969100951
          },
          {
           "lower": 570.0556293487549,
           "timepoint": 37.099998474121094,
           "trajectory": "I_sol",
           "upper": 9137.742031478881
          },
          {
           "lower": 566.5809967041016,
           "timepoint": 37.19999694824219,
           "trajectory": "I_sol",
           "upper": 9097.684567260741
          },
          {
           "lower": 563.1348693847656,
           "timepoint": 37.29999923706055,
           "trajectory": "I_sol",
           "upper": 9057.77662963867
          },
          {
           "lower": 559.716993713379,
           "timepoint": 37.400001525878906,
           "trajectory": "I_sol",
           "upper": 9018.01820526123
          },
          {
           "lower": 556.3272624969483,
           "timepoint": 37.5,
           "trajectory": "I_sol",
           "upper": 8978.412063980102
          },
          {
           "lower": 552.9652030944824,
           "timepoint": 37.599998474121094,
           "trajectory": "I_sol",
           "upper": 8938.955405426024
          },
          {
           "lower": 549.6306159973144,
           "timepoint": 37.69999694824219,
           "trajectory": "I_sol",
           "upper": 8899.65006942749
          },
          {
           "lower": 546.3230556488038,
           "timepoint": 37.79999923706055,
           "trajectory": "I_sol",
           "upper": 8860.4941822052
          },
          {
           "lower": 543.042597579956,
           "timepoint": 37.900001525878906,
           "trajectory": "I_sol",
           "upper": 8821.493298721312
          },
          {
           "lower": 539.7887439727783,
           "timepoint": 38,
           "trajectory": "I_sol",
           "upper": 8782.642766952515
          },
          {
           "lower": 536.5612392425537,
           "timepoint": 38.099998474121094,
           "trajectory": "I_sol",
           "upper": 8743.94349861145
          },
          {
           "lower": 533.3598350524903,
           "timepoint": 38.19999694824219,
           "trajectory": "I_sol",
           "upper": 8705.396405792237
          },
          {
           "lower": 530.1841094970703,
           "timepoint": 38.29999923706055,
           "trajectory": "I_sol",
           "upper": 8666.998690795897
          },
          {
           "lower": 527.033899307251,
           "timepoint": 38.400001525878906,
           "trajectory": "I_sol",
           "upper": 8628.752195358276
          },
          {
           "lower": 523.9091136932373,
           "timepoint": 38.5,
           "trajectory": "I_sol",
           "upper": 8590.658765029906
          },
          {
           "lower": 520.8093776702881,
           "timepoint": 38.599998474121094,
           "trajectory": "I_sol",
           "upper": 8552.717454910278
          },
          {
           "lower": 517.7344177246093,
           "timepoint": 38.69999694824219,
           "trajectory": "I_sol",
           "upper": 8514.927325439452
          },
          {
           "lower": 514.6838661193848,
           "timepoint": 38.79999923706055,
           "trajectory": "I_sol",
           "upper": 8477.287432098388
          },
          {
           "lower": 511.657597732544,
           "timepoint": 38.900001525878906,
           "trajectory": "I_sol",
           "upper": 8439.798693466186
          },
          {
           "lower": 508.6554294586182,
           "timepoint": 39,
           "trajectory": "I_sol",
           "upper": 8402.46202507019
          },
          {
           "lower": 505.67761573791506,
           "timepoint": 39.099998474121094,
           "trajectory": "I_sol",
           "upper": 8365.287617111206
          },
          {
           "lower": 502.7228233337403,
           "timepoint": 39.19999694824219,
           "trajectory": "I_sol",
           "upper": 8328.254120635986
          },
          {
           "lower": 499.791284942627,
           "timepoint": 39.29999923706055,
           "trajectory": "I_sol",
           "upper": 8291.371724700928
          },
          {
           "lower": 496.8827144622803,
           "timepoint": 39.400001525878906,
           "trajectory": "I_sol",
           "upper": 8254.638563919067
          },
          {
           "lower": 493.9971332550049,
           "timepoint": 39.5,
           "trajectory": "I_sol",
           "upper": 8218.058340072632
          },
          {
           "lower": 491.13418102264404,
           "timepoint": 39.599998474121094,
           "trajectory": "I_sol",
           "upper": 8181.628258705139
          },
          {
           "lower": 488.2935461044312,
           "timepoint": 39.69999694824219,
           "trajectory": "I_sol",
           "upper": 8145.348303413391
          },
          {
           "lower": 485.4749242782593,
           "timepoint": 39.79999923706055,
           "trajectory": "I_sol",
           "upper": 8109.21660785675
          },
          {
           "lower": 482.6783224105835,
           "timepoint": 39.900001525878906,
           "trajectory": "I_sol",
           "upper": 8073.236873054504
          },
          {
           "lower": 479.90342731475835,
           "timepoint": 40,
           "trajectory": "I_sol",
           "upper": 8037.406307029723
          },
          {
           "lower": 477.15003051757816,
           "timepoint": 40.099998474121094,
           "trajectory": "I_sol",
           "upper": 8001.725823974609
          },
          {
           "lower": 474.4179327011109,
           "timepoint": 40.19999694824219,
           "trajectory": "I_sol",
           "upper": 7966.195413398742
          },
          {
           "lower": 471.7056739807129,
           "timepoint": 40.29999923706055,
           "trajectory": "I_sol",
           "upper": 7930.791869354248
          },
          {
           "lower": 469.015051651001,
           "timepoint": 40.400001525878906,
           "trajectory": "I_sol",
           "upper": 7895.552293014526
          },
          {
           "lower": 466.3451068878174,
           "timepoint": 40.5,
           "trajectory": "I_sol",
           "upper": 7860.461831283569
          },
          {
           "lower": 463.695573425293,
           "timepoint": 40.599998474121094,
           "trajectory": "I_sol",
           "upper": 7825.51954498291
          },
          {
           "lower": 461.06616153717044,
           "timepoint": 40.69999694824219,
           "trajectory": "I_sol",
           "upper": 7790.7235685348505
          },
          {
           "lower": 458.4565977096558,
           "timepoint": 40.79999923706055,
           "trajectory": "I_sol",
           "upper": 7756.072962379455
          },
          {
           "lower": 455.86681022644046,
           "timepoint": 40.900001525878906,
           "trajectory": "I_sol",
           "upper": 7721.569110488891
          },
          {
           "lower": 453.29663238525393,
           "timepoint": 41,
           "trajectory": "I_sol",
           "upper": 7687.212004089355
          },
          {
           "lower": 450.7458160400391,
           "timepoint": 41.099998474121094,
           "trajectory": "I_sol",
           "upper": 7653.0007049560545
          },
          {
           "lower": 448.214123916626,
           "timepoint": 41.19999694824219,
           "trajectory": "I_sol",
           "upper": 7618.934275436401
          },
          {
           "lower": 445.7013359069824,
           "timepoint": 41.29999923706055,
           "trajectory": "I_sol",
           "upper": 7585.012241363525
          },
          {
           "lower": 443.2072790145874,
           "timepoint": 41.400001525878906,
           "trajectory": "I_sol",
           "upper": 7551.23413105011
          },
          {
           "lower": 440.73188152313236,
           "timepoint": 41.5,
           "trajectory": "I_sol",
           "upper": 7517.601328468322
          },
          {
           "lower": 438.27493801116947,
           "timepoint": 41.599998474121094,
           "trajectory": "I_sol",
           "upper": 7484.111509895324
          },
          {
           "lower": 435.8364143371582,
           "timepoint": 41.69999694824219,
           "trajectory": "I_sol",
           "upper": 7450.7706871032715
          },
          {
           "lower": 433.415570640564,
           "timepoint": 41.79999923706055,
           "trajectory": "I_sol",
           "upper": 7417.5667940139765
          },
          {
           "lower": 431.01259746551517,
           "timepoint": 41.900001525878906,
           "trajectory": "I_sol",
           "upper": 7384.505854225158
          },
          {
           "lower": 428.6273498535156,
           "timepoint": 42,
           "trajectory": "I_sol",
           "upper": 7351.587860107422
          },
          {
           "lower": 426.2596014022827,
           "timepoint": 42.099998474121094,
           "trajectory": "I_sol",
           "upper": 7318.811874580383
          },
          {
           "lower": 423.90915832519534,
           "timepoint": 42.19999694824219,
           "trajectory": "I_sol",
           "upper": 7286.176962280273
          },
          {
           "lower": 421.5757453918457,
           "timepoint": 42.29999923706055,
           "trajectory": "I_sol",
           "upper": 7253.681258392334
          },
          {
           "lower": 419.2592981338501,
           "timepoint": 42.400001525878906,
           "trajectory": "I_sol",
           "upper": 7221.3261472702025
          },
          {
           "lower": 416.95974311828616,
           "timepoint": 42.5,
           "trajectory": "I_sol",
           "upper": 7189.112087631225
          },
          {
           "lower": 414.6768177032471,
           "timepoint": 42.599998474121094,
           "trajectory": "I_sol",
           "upper": 7157.038140487671
          },
          {
           "lower": 412.4103092193604,
           "timepoint": 42.69999694824219,
           "trajectory": "I_sol",
           "upper": 7125.101981735229
          },
          {
           "lower": 410.16002559661865,
           "timepoint": 42.79999923706055,
           "trajectory": "I_sol",
           "upper": 7093.303601264954
          },
          {
           "lower": 407.9259105682373,
           "timepoint": 42.900001525878906,
           "trajectory": "I_sol",
           "upper": 7061.643921279907
          },
          {
           "lower": 405.70782375335693,
           "timepoint": 43,
           "trajectory": "I_sol",
           "upper": 7030.122471809387
          },
          {
           "lower": 403.50519428253176,
           "timepoint": 43.099998474121094,
           "trajectory": "I_sol",
           "upper": 6998.731358909607
          },
          {
           "lower": 401.31848754882816,
           "timepoint": 43.19999694824219,
           "trajectory": "I_sol",
           "upper": 6967.482171630859
          },
          {
           "lower": 399.1471996307373,
           "timepoint": 43.29999923706055,
           "trajectory": "I_sol",
           "upper": 6936.367944717407
          },
          {
           "lower": 396.99127063751223,
           "timepoint": 43.400001525878906,
           "trajectory": "I_sol",
           "upper": 6905.389600181579
          },
          {
           "lower": 394.8506162643433,
           "timepoint": 43.5,
           "trajectory": "I_sol",
           "upper": 6874.547596168518
          },
          {
           "lower": 392.7251461029053,
           "timepoint": 43.599998474121094,
           "trajectory": "I_sol",
           "upper": 6843.840077590942
          },
          {
           "lower": 390.61443080902103,
           "timepoint": 43.69999694824219,
           "trajectory": "I_sol",
           "upper": 6813.266096687316
          },
          {
           "lower": 388.5183961868286,
           "timepoint": 43.79999923706055,
           "trajectory": "I_sol",
           "upper": 6782.824724388122
          },
          {
           "lower": 386.436961555481,
           "timepoint": 43.900001525878906,
           "trajectory": "I_sol",
           "upper": 6752.516419029235
          },
          {
           "lower": 384.3700887680054,
           "timepoint": 44,
           "trajectory": "I_sol",
           "upper": 6722.342103767394
          },
          {
           "lower": 382.3175424575806,
           "timepoint": 44.099998474121094,
           "trajectory": "I_sol",
           "upper": 6692.299915885925
          },
          {
           "lower": 380.279180431366,
           "timepoint": 44.19999694824219,
           "trajectory": "I_sol",
           "upper": 6662.389385318756
          },
          {
           "lower": 378.2547781944275,
           "timepoint": 44.29999923706055,
           "trajectory": "I_sol",
           "upper": 6632.608649921417
          },
          {
           "lower": 376.2442975997925,
           "timepoint": 44.400001525878906,
           "trajectory": "I_sol",
           "upper": 6602.958632850647
          },
          {
           "lower": 374.2476914405823,
           "timepoint": 44.5,
           "trajectory": "I_sol",
           "upper": 6573.440256786346
          },
          {
           "lower": 372.2649955749512,
           "timepoint": 44.599998474121094,
           "trajectory": "I_sol",
           "upper": 6544.057224273682
          },
          {
           "lower": 370.2956068038941,
           "timepoint": 44.69999694824219,
           "trajectory": "I_sol",
           "upper": 6514.798864173888
          },
          {
           "lower": 368.3395004272461,
           "timepoint": 44.79999923706055,
           "trajectory": "I_sol",
           "upper": 6485.6674880981445
          },
          {
           "lower": 366.3966437339783,
           "timepoint": 44.900001525878906,
           "trajectory": "I_sol",
           "upper": 6456.664019489288
          },
          {
           "lower": 364.46701936721803,
           "timepoint": 45,
           "trajectory": "I_sol",
           "upper": 6427.789845180511
          },
          {
           "lower": 362.5503947257996,
           "timepoint": 45.099998474121094,
           "trajectory": "I_sol",
           "upper": 6399.042640018462
          },
          {
           "lower": 360.64664754867556,
           "timepoint": 45.19999694824219,
           "trajectory": "I_sol",
           "upper": 6370.421934986114
          },
          {
           "lower": 358.7556184768677,
           "timepoint": 45.29999923706055,
           "trajectory": "I_sol",
           "upper": 6341.926796531677
          },
          {
           "lower": 356.87722959518436,
           "timepoint": 45.400001525878906,
           "trajectory": "I_sol",
           "upper": 6313.557220554351
          },
          {
           "lower": 355.01142559051516,
           "timepoint": 45.5,
           "trajectory": "I_sol",
           "upper": 6285.313666725158
          },
          {
           "lower": 353.1580090522766,
           "timepoint": 45.599998474121094,
           "trajectory": "I_sol",
           "upper": 6257.1951994895935
          },
          {
           "lower": 351.31688861846925,
           "timepoint": 45.69999694824219,
           "trajectory": "I_sol",
           "upper": 6229.200426292419
          },
          {
           "lower": 349.48790941238406,
           "timepoint": 45.79999923706055,
           "trajectory": "I_sol",
           "upper": 6201.3288763999935
          },
          {
           "lower": 347.6709465026856,
           "timepoint": 45.900001525878906,
           "trajectory": "I_sol",
           "upper": 6173.579618072509
          },
          {
           "lower": 345.86604766845704,
           "timepoint": 46,
           "trajectory": "I_sol",
           "upper": 6145.95496673584
          },
          {
           "lower": 344.07297401428224,
           "timepoint": 46.099998474121094,
           "trajectory": "I_sol",
           "upper": 6118.45213432312
          },
          {
           "lower": 342.2917705535889,
           "timepoint": 46.20000076293945,
           "trajectory": "I_sol",
           "upper": 6091.073898696899
          },
          {
           "lower": 340.52209358215333,
           "timepoint": 46.29999923706055,
           "trajectory": "I_sol",
           "upper": 6063.8146907806395
          },
          {
           "lower": 338.7638795852661,
           "timepoint": 46.400001525878906,
           "trajectory": "I_sol",
           "upper": 6036.675432395935
          },
          {
           "lower": 337.0171022415161,
           "timepoint": 46.5,
           "trajectory": "I_sol",
           "upper": 6009.656584739685
          },
          {
           "lower": 335.28162298202517,
           "timepoint": 46.599998474121094,
           "trajectory": "I_sol",
           "upper": 5982.757677936554
          },
          {
           "lower": 333.5573386192322,
           "timepoint": 46.70000076293945,
           "trajectory": "I_sol",
           "upper": 5955.977781391143
          },
          {
           "lower": 331.8441613197327,
           "timepoint": 46.79999923706055,
           "trajectory": "I_sol",
           "upper": 5929.316427898407
          },
          {
           "lower": 330.1419633865357,
           "timepoint": 46.900001525878906,
           "trajectory": "I_sol",
           "upper": 5902.773148155212
          },
          {
           "lower": 328.4507221221924,
           "timepoint": 47,
           "trajectory": "I_sol",
           "upper": 5876.348403549194
          },
          {
           "lower": 326.7702791213989,
           "timepoint": 47.099998474121094,
           "trajectory": "I_sol",
           "upper": 5850.04079799652
          },
          {
           "lower": 325.10048141479496,
           "timepoint": 47.20000076293945,
           "trajectory": "I_sol",
           "upper": 5823.848935699462
          },
          {
           "lower": 323.441349697113,
           "timepoint": 47.29999923706055,
           "trajectory": "I_sol",
           "upper": 5797.774205493926
          },
          {
           "lower": 321.7926993370056,
           "timepoint": 47.400001525878906,
           "trajectory": "I_sol",
           "upper": 5771.814747333527
          },
          {
           "lower": 320.15450582504275,
           "timepoint": 47.5,
           "trajectory": "I_sol",
           "upper": 5745.971022510528
          },
          {
           "lower": 318.526665019989,
           "timepoint": 47.599998474121094,
           "trajectory": "I_sol",
           "upper": 5720.242562961578
          },
          {
           "lower": 316.90897874832154,
           "timepoint": 47.70000076293945,
           "trajectory": "I_sol",
           "upper": 5694.627045345306
          },
          {
           "lower": 315.3015011787415,
           "timepoint": 47.79999923706055,
           "trajectory": "I_sol",
           "upper": 5669.126322841644
          },
          {
           "lower": 313.7045884132385,
           "timepoint": 47.900001525878906,
           "trajectory": "I_sol",
           "upper": 5643.748740673065
          },
          {
           "lower": 312.1172167778015,
           "timepoint": 48,
           "trajectory": "I_sol",
           "upper": 5618.475741672515
          },
          {
           "lower": 310.5397360801697,
           "timepoint": 48.099998474121094,
           "trajectory": "I_sol",
           "upper": 5593.315208148956
          },
          {
           "lower": 308.9719987869263,
           "timepoint": 48.20000076293945,
           "trajectory": "I_sol",
           "upper": 5568.265744590759
          },
          {
           "lower": 307.41401023864745,
           "timepoint": 48.29999923706055,
           "trajectory": "I_sol",
           "upper": 5543.328276443481
          },
          {
           "lower": 305.86559667587284,
           "timepoint": 48.400001525878906,
           "trajectory": "I_sol",
           "upper": 5518.50094423294
          },
          {
           "lower": 304.3268421173096,
           "timepoint": 48.5,
           "trajectory": "I_sol",
           "upper": 5493.786065292358
          },
          {
           "lower": 302.7974805831909,
           "timepoint": 48.599998474121094,
           "trajectory": "I_sol",
           "upper": 5469.179924964905
          },
          {
           "lower": 301.2774495124817,
           "timepoint": 48.70000076293945,
           "trajectory": "I_sol",
           "upper": 5444.68298254013
          },
          {
           "lower": 299.7668004512787,
           "timepoint": 48.79999923706055,
           "trajectory": "I_sol",
           "upper": 5420.296165895462
          },
          {
           "lower": 298.26529812812805,
           "timepoint": 48.900001525878906,
           "trajectory": "I_sol",
           "upper": 5396.01668715477
          },
          {
           "lower": 296.77299852371215,
           "timepoint": 49,
           "trajectory": "I_sol",
           "upper": 5371.8463995933525
          },
          {
           "lower": 295.2897704124451,
           "timepoint": 49.099998474121094,
           "trajectory": "I_sol",
           "upper": 5347.783908557892
          },
          {
           "lower": 293.8154789447785,
           "timepoint": 49.20000076293945,
           "trajectory": "I_sol",
           "upper": 5323.82781920433
          },
          {
           "lower": 292.35018463134764,
           "timepoint": 49.29999923706055,
           "trajectory": "I_sol",
           "upper": 5299.979985046386
          },
          {
           "lower": 290.8936043262482,
           "timepoint": 49.400001525878906,
           "trajectory": "I_sol",
           "upper": 5276.236227941513
          },
          {
           "lower": 289.44589710235596,
           "timepoint": 49.5,
           "trajectory": "I_sol",
           "upper": 5252.600256919861
          },
          {
           "lower": 288.0068819999695,
           "timepoint": 49.599998474121094,
           "trajectory": "I_sol",
           "upper": 5229.069749546051
          },
          {
           "lower": 286.5768103122711,
           "timepoint": 49.70000076293945,
           "trajectory": "I_sol",
           "upper": 5205.650270032883
          },
          {
           "lower": 285.1549911022186,
           "timepoint": 49.79999923706055,
           "trajectory": "I_sol",
           "upper": 5182.329754877091
          },
          {
           "lower": 283.74159426689147,
           "timepoint": 49.900001525878906,
           "trajectory": "I_sol",
           "upper": 5159.112376260758
          },
          {
           "lower": 282.33663511276245,
           "timepoint": 50,
           "trajectory": "I_sol",
           "upper": 5135.999060153961
          },
          {
           "lower": 280.94008460044864,
           "timepoint": 50.099998474121094,
           "trajectory": "I_sol",
           "upper": 5112.990267610549
          },
          {
           "lower": 279.55169758796694,
           "timepoint": 50.20000076293945,
           "trajectory": "I_sol",
           "upper": 5090.082285070419
          },
          {
           "lower": 278.1715653419495,
           "timepoint": 50.29999923706055,
           "trajectory": "I_sol",
           "upper": 5067.27743024826
          },
          {
           "lower": 276.7995819568634,
           "timepoint": 50.400001525878906,
           "trajectory": "I_sol",
           "upper": 5044.574772405625
          },
          {
           "lower": 275.4356696128845,
           "timepoint": 50.5,
           "trajectory": "I_sol",
           "upper": 5021.973382282257
          },
          {
           "lower": 274.0797522544861,
           "timepoint": 50.599998474121094,
           "trajectory": "I_sol",
           "upper": 4999.472793292999
          },
          {
           "lower": 272.7317248821259,
           "timepoint": 50.70000076293945,
           "trajectory": "I_sol",
           "upper": 4977.072074747085
          },
          {
           "lower": 271.39167337417604,
           "timepoint": 50.79999923706055,
           "trajectory": "I_sol",
           "upper": 4954.7730814933775
          },
          {
           "lower": 270.0593670368195,
           "timepoint": 50.900001525878906,
           "trajectory": "I_sol",
           "upper": 4932.5725633144375
          },
          {
           "lower": 268.73480219841,
           "timepoint": 51,
           "trajectory": "I_sol",
           "upper": 4910.470982599259
          },
          {
           "lower": 267.41800861358644,
           "timepoint": 51.099998474121094,
           "trajectory": "I_sol",
           "upper": 4888.469728660583
          },
          {
           "lower": 266.10874385833745,
           "timepoint": 51.20000076293945,
           "trajectory": "I_sol",
           "upper": 4866.56508808136
          },
          {
           "lower": 264.80715346336365,
           "timepoint": 51.29999923706055,
           "trajectory": "I_sol",
           "upper": 4844.760306596756
          },
          {
           "lower": 263.51294708251953,
           "timepoint": 51.400001525878906,
           "trajectory": "I_sol",
           "upper": 4823.050743103027
          },
          {
           "lower": 262.22607040405273,
           "timepoint": 51.5,
           "trajectory": "I_sol",
           "upper": 4801.435932159424
          },
          {
           "lower": 260.9467286109924,
           "timepoint": 51.599998474121094,
           "trajectory": "I_sol",
           "upper": 4779.92051038742
          },
          {
           "lower": 259.6747209072113,
           "timepoint": 51.70000076293945,
           "trajectory": "I_sol",
           "upper": 4758.501229143142
          },
          {
           "lower": 258.41002731323243,
           "timepoint": 51.79999923706055,
           "trajectory": "I_sol",
           "upper": 4737.178549957275
          },
          {
           "lower": 257.1524895191193,
           "timepoint": 51.900001525878906,
           "trajectory": "I_sol",
           "upper": 4715.950151586532
          },
          {
           "lower": 255.90215721130372,
           "timepoint": 52,
           "trajectory": "I_sol",
           "upper": 4694.8174243927
          },
          {
           "lower": 254.65891728401186,
           "timepoint": 52.099998474121094,
           "trajectory": "I_sol",
           "upper": 4673.778974676132
          },
          {
           "lower": 253.42268466949463,
           "timepoint": 52.20000076293945,
           "trajectory": "I_sol",
           "upper": 4652.833872795105
          },
          {
           "lower": 252.19353437423706,
           "timepoint": 52.29999923706055,
           "trajectory": "I_sol",
           "upper": 4631.983973026276
          },
          {
           "lower": 250.97125201225282,
           "timepoint": 52.400001525878906,
           "trajectory": "I_sol",
           "upper": 4611.226026010513
          },
          {
           "lower": 249.75589179992676,
           "timepoint": 52.5,
           "trajectory": "I_sol",
           "upper": 4590.5614223480225
          },
          {
           "lower": 248.5473650455475,
           "timepoint": 52.599998474121094,
           "trajectory": "I_sol",
           "upper": 4569.989232206344
          },
          {
           "lower": 247.3456092834473,
           "timepoint": 52.70000076293945,
           "trajectory": "I_sol",
           "upper": 4549.508989715576
          },
          {
           "lower": 246.15061364173891,
           "timepoint": 52.79999923706055,
           "trajectory": "I_sol",
           "upper": 4529.120694303512
          },
          {
           "lower": 244.96223788261415,
           "timepoint": 52.900001525878906,
           "trajectory": "I_sol",
           "upper": 4508.822488260269
          },
          {
           "lower": 243.7805344104767,
           "timepoint": 53,
           "trajectory": "I_sol",
           "upper": 4488.615762090682
          },
          {
           "lower": 242.60546925067902,
           "timepoint": 53.099998474121094,
           "trajectory": "I_sol",
           "upper": 4468.500514006614
          },
          {
           "lower": 241.43684024810793,
           "timepoint": 53.20000076293945,
           "trajectory": "I_sol",
           "upper": 4448.473495292664
          },
          {
           "lower": 240.27474954128266,
           "timepoint": 53.29999923706055,
           "trajectory": "I_sol",
           "upper": 4428.537024235725
          },
          {
           "lower": 239.11916179656984,
           "timepoint": 53.400001525878906,
           "trajectory": "I_sol",
           "upper": 4408.691098976135
          },
          {
           "lower": 237.96988663673403,
           "timepoint": 53.5,
           "trajectory": "I_sol",
           "upper": 4388.93247141838
          },
          {
           "lower": 236.8269909143448,
           "timepoint": 53.599998474121094,
           "trajectory": "I_sol",
           "upper": 4369.262995409966
          },
          {
           "lower": 235.69032356739046,
           "timepoint": 53.70000076293945,
           "trajectory": "I_sol",
           "upper": 4349.680350089073
          },
          {
           "lower": 234.5599704742432,
           "timepoint": 53.79999923706055,
           "trajectory": "I_sol",
           "upper": 4330.186390304565
          },
          {
           "lower": 233.43576426506044,
           "timepoint": 53.900001525878906,
           "trajectory": "I_sol",
           "upper": 4310.778794336319
          },
          {
           "lower": 232.31776731014253,
           "timepoint": 54,
           "trajectory": "I_sol",
           "upper": 4291.4589532136915
          },
          {
           "lower": 231.20587737560274,
           "timepoint": 54.099998474121094,
           "trajectory": "I_sol",
           "upper": 4272.225473809242
          },
          {
           "lower": 230.10004241466524,
           "timepoint": 54.20000076293945,
           "trajectory": "I_sol",
           "upper": 4253.07789080143
          },
          {
           "lower": 229.00022261142732,
           "timepoint": 54.29999923706055,
           "trajectory": "I_sol",
           "upper": 4234.015739512443
          },
          {
           "lower": 227.90633652210238,
           "timepoint": 54.400001525878906,
           "trajectory": "I_sol",
           "upper": 4215.0380904912945
          },
          {
           "lower": 226.81846866607668,
           "timepoint": 54.5,
           "trajectory": "I_sol",
           "upper": 4196.1467985153195
          },
          {
           "lower": 225.7364684343338,
           "timepoint": 54.599998474121094,
           "trajectory": "I_sol",
           "upper": 4177.339542746544
          },
          {
           "lower": 224.66026117801667,
           "timepoint": 54.70000076293945,
           "trajectory": "I_sol",
           "upper": 4158.615394091606
          },
          {
           "lower": 223.58991329669954,
           "timepoint": 54.79999923706055,
           "trajectory": "I_sol",
           "upper": 4139.976206374168
          },
          {
           "lower": 222.5253284931183,
           "timepoint": 54.900001525878906,
           "trajectory": "I_sol",
           "upper": 4121.420124197006
          },
          {
           "lower": 221.46645426750183,
           "timepoint": 55,
           "trajectory": "I_sol",
           "upper": 4102.946682214737
          },
          {
           "lower": 220.41331453323366,
           "timepoint": 55.099998474121094,
           "trajectory": "I_sol",
           "upper": 4084.556806850433
          },
          {
           "lower": 219.3657152891159,
           "timepoint": 55.20000076293945,
           "trajectory": "I_sol",
           "upper": 4066.247249817848
          },
          {
           "lower": 218.32383780479432,
           "timepoint": 55.29999923706055,
           "trajectory": "I_sol",
           "upper": 4048.0217213153837
          },
          {
           "lower": 217.28794877529145,
           "timepoint": 55.400001525878906,
           "trajectory": "I_sol",
           "upper": 4029.8857863664625
          },
          {
           "lower": 216.2572036266327,
           "timepoint": 55.5,
           "trajectory": "I_sol",
           "upper": 4011.82367272377
          },
          {
           "lower": 215.23192286491394,
           "timepoint": 55.599998474121094,
           "trajectory": "I_sol",
           "upper": 3993.841873407364
          },
          {
           "lower": 214.21210780143738,
           "timepoint": 55.70000076293945,
           "trajectory": "I_sol",
           "upper": 3975.9408510684966
          },
          {
           "lower": 213.1977439403534,
           "timepoint": 55.79999923706055,
           "trajectory": "I_sol",
           "upper": 3958.120604944229
          },
          {
           "lower": 212.1886883735657,
           "timepoint": 55.900001525878906,
           "trajectory": "I_sol",
           "upper": 3940.378814601898
          },
          {
           "lower": 211.18502471446993,
           "timepoint": 56,
           "trajectory": "I_sol",
           "upper": 3922.717334771156
          },
          {
           "lower": 210.1866584300995,
           "timepoint": 56.099998474121094,
           "trajectory": "I_sol",
           "upper": 3905.1347727298735
          },
          {
           "lower": 209.193545627594,
           "timepoint": 56.20000076293945,
           "trajectory": "I_sol",
           "upper": 3887.6306635856627
          },
          {
           "lower": 208.20569803714753,
           "timepoint": 56.29999923706055,
           "trajectory": "I_sol",
           "upper": 3870.2054705381393
          },
          {
           "lower": 207.22300801277163,
           "timepoint": 56.400001525878906,
           "trajectory": "I_sol",
           "upper": 3852.8575688838955
          },
          {
           "lower": 206.2455248117447,
           "timepoint": 56.5,
           "trajectory": "I_sol",
           "upper": 3835.5881176710127
          },
          {
           "lower": 205.27316792011263,
           "timepoint": 56.599998474121094,
           "trajectory": "I_sol",
           "upper": 3818.3959562063214
          },
          {
           "lower": 204.30586993694305,
           "timepoint": 56.70000076293945,
           "trajectory": "I_sol",
           "upper": 3801.280155777931
          },
          {
           "lower": 203.3436538934708,
           "timepoint": 56.79999923706055,
           "trajectory": "I_sol",
           "upper": 3784.2414114713665
          },
          {
           "lower": 202.38645374774933,
           "timepoint": 56.900001525878906,
           "trajectory": "I_sol",
           "upper": 3767.278794646263
          },
          {
           "lower": 201.43425772190096,
           "timepoint": 57,
           "trajectory": "I_sol",
           "upper": 3750.3923046827313
          },
          {
           "lower": 200.4870232820511,
           "timepoint": 57.099998474121094,
           "trajectory": "I_sol",
           "upper": 3733.5814767599104
          },
          {
           "lower": 199.5446965932846,
           "timepoint": 57.20000076293945,
           "trajectory": "I_sol",
           "upper": 3716.845614171028
          },
          {
           "lower": 198.60727853775026,
           "timepoint": 57.29999923706055,
           "trajectory": "I_sol",
           "upper": 3700.1849482536313
          },
          {
           "lower": 197.6747030735016,
           "timepoint": 57.400001525878906,
           "trajectory": "I_sol",
           "upper": 3683.598550367355
          },
          {
           "lower": 196.74721454381944,
           "timepoint": 57.5,
           "trajectory": "I_sol",
           "upper": 3667.0912904858587
          },
          {
           "lower": 195.8243334531784,
           "timepoint": 57.599998474121094,
           "trajectory": "I_sol",
           "upper": 3650.6543543100356
          },
          {
           "lower": 194.90616624355317,
           "timepoint": 57.70000076293945,
           "trajectory": "I_sol",
           "upper": 3634.290060353279
          },
          {
           "lower": 193.9927881717682,
           "timepoint": 57.79999923706055,
           "trajectory": "I_sol",
           "upper": 3618.000031614303
          },
          {
           "lower": 193.0840536117554,
           "timepoint": 57.900001525878906,
           "trajectory": "I_sol",
           "upper": 3601.7819475173947
          },
          {
           "lower": 192.18004891872408,
           "timepoint": 58,
           "trajectory": "I_sol",
           "upper": 3585.637431645393
          },
          {
           "lower": 191.28068137168884,
           "timepoint": 58.099998474121094,
           "trajectory": "I_sol",
           "upper": 3569.5650913715363
          },
          {
           "lower": 190.38591138124468,
           "timepoint": 58.20000076293945,
           "trajectory": "I_sol",
           "upper": 3553.5644620299336
          },
          {
           "lower": 189.49575452804567,
           "timepoint": 58.29999923706055,
           "trajectory": "I_sol",
           "upper": 3537.6360070228575
          },
          {
           "lower": 188.61010950803757,
           "timepoint": 58.400001525878906,
           "trajectory": "I_sol",
           "upper": 3521.778101980686
          },
          {
           "lower": 187.7290400505066,
           "timepoint": 58.5,
           "trajectory": "I_sol",
           "upper": 3505.992138004303
          },
          {
           "lower": 186.85244734287264,
           "timepoint": 58.599998474121094,
           "trajectory": "I_sol",
           "upper": 3490.2764908552167
          },
          {
           "lower": 185.9803171157837,
           "timepoint": 58.70000076293945,
           "trajectory": "I_sol",
           "upper": 3474.6311597824097
          },
          {
           "lower": 185.11265387535096,
           "timepoint": 58.79999923706055,
           "trajectory": "I_sol",
           "upper": 3459.056376314163
          },
          {
           "lower": 184.24935224056244,
           "timepoint": 58.900001525878906,
           "trajectory": "I_sol",
           "upper": 3443.5505158662795
          },
          {
           "lower": 183.3904727935791,
           "timepoint": 59,
           "trajectory": "I_sol",
           "upper": 3428.1147380828857
          },
          {
           "lower": 182.53595062494279,
           "timepoint": 59.099998474121094,
           "trajectory": "I_sol",
           "upper": 3412.7481143832206
          },
          {
           "lower": 181.68573597669604,
           "timepoint": 59.20000076293945,
           "trajectory": "I_sol",
           "upper": 3397.449948275089
          },
          {
           "lower": 180.8398340344429,
           "timepoint": 59.29999923706055,
           "trajectory": "I_sol",
           "upper": 3382.2204713225365
          },
          {
           "lower": 179.99819368124008,
           "timepoint": 59.400001525878906,
           "trajectory": "I_sol",
           "upper": 3367.0589869618416
          },
          {
           "lower": 179.16080766916275,
           "timepoint": 59.5,
           "trajectory": "I_sol",
           "upper": 3351.965494811535
          },
          {
           "lower": 178.32766444683077,
           "timepoint": 59.599998474121094,
           "trajectory": "I_sol",
           "upper": 3336.9399942636487
          },
          {
           "lower": 177.49867808818817,
           "timepoint": 59.70000076293945,
           "trajectory": "I_sol",
           "upper": 3321.9810930490494
          },
          {
           "lower": 176.6739882826805,
           "timepoint": 59.79999923706055,
           "trajectory": "I_sol",
           "upper": 3307.091574013233
          },
          {
           "lower": 175.85333662033082,
           "timepoint": 59.900001525878906,
           "trajectory": "I_sol",
           "upper": 3292.2667977333067
          },
          {
           "lower": 175.03682866096497,
           "timepoint": 60,
           "trajectory": "I_sol",
           "upper": 3277.5088513851165
          },
          {
           "lower": 174.22442775964737,
           "timepoint": 60.099998474121094,
           "trajectory": "I_sol",
           "upper": 3262.8172704577446
          },
          {
           "lower": 173.4160615563393,
           "timepoint": 60.20000076293945,
           "trajectory": "I_sol",
           "upper": 3248.1908946871754
          },
          {
           "lower": 172.6117732167244,
           "timepoint": 60.29999923706055,
           "trajectory": "I_sol",
           "upper": 3233.6306515097617
          },
          {
           "lower": 171.81146483421327,
           "timepoint": 60.400001525878906,
           "trajectory": "I_sol",
           "upper": 3219.1349167346953
          },
          {
           "lower": 171.0152026295662,
           "timepoint": 60.5,
           "trajectory": "I_sol",
           "upper": 3204.70508159399
          },
          {
           "lower": 170.2228794336319,
           "timepoint": 60.599998474121094,
           "trajectory": "I_sol",
           "upper": 3190.3392901182174
          },
          {
           "lower": 169.43450946807863,
           "timepoint": 60.70000076293945,
           "trajectory": "I_sol",
           "upper": 3176.0380056381223
          },
          {
           "lower": 168.6500741839409,
           "timepoint": 60.79999923706055,
           "trajectory": "I_sol",
           "upper": 3161.800995886326
          },
          {
           "lower": 167.86950235366822,
           "timepoint": 60.900001525878906,
           "trajectory": "I_sol",
           "upper": 3147.6271006584166
          },
          {
           "lower": 167.0928479909897,
           "timepoint": 61,
           "trajectory": "I_sol",
           "upper": 3133.517479252815
          },
          {
           "lower": 166.32005343437197,
           "timepoint": 61.099998474121094,
           "trajectory": "I_sol",
           "upper": 3119.4712034702297
          },
          {
           "lower": 165.55104768276215,
           "timepoint": 61.20000076293945,
           "trajectory": "I_sol",
           "upper": 3105.4871131181717
          },
          {
           "lower": 164.7858989953995,
           "timepoint": 61.29999923706055,
           "trajectory": "I_sol",
           "upper": 3091.566599535942
          },
          {
           "lower": 164.0244746565819,
           "timepoint": 61.400001525878906,
           "trajectory": "I_sol",
           "upper": 3077.7073428273197
          },
          {
           "lower": 163.26685513257982,
           "timepoint": 61.5,
           "trajectory": "I_sol",
           "upper": 3063.9109662652013
          },
          {
           "lower": 162.5129938364029,
           "timepoint": 61.599998474121094,
           "trajectory": "I_sol",
           "upper": 3050.1767735242843
          },
          {
           "lower": 161.7627980709076,
           "timepoint": 61.70000076293945,
           "trajectory": "I_sol",
           "upper": 3036.5031406879425
          },
          {
           "lower": 161.0163471698761,
           "timepoint": 61.79999923706055,
           "trajectory": "I_sol",
           "upper": 3022.891690969467
          },
          {
           "lower": 160.27352187037468,
           "timepoint": 61.900001525878906,
           "trajectory": "I_sol",
           "upper": 3009.340336471796
          },
          {
           "lower": 159.53439450860026,
           "timepoint": 62,
           "trajectory": "I_sol",
           "upper": 2995.8504687488075
          }
         ]
        },
        {
         "name": "traces",
         "transform": [
          {
           "expr": "isValid(datum.value)",
           "type": "filter"
          }
         ],
         "values": []
        },
        {
         "name": "points",
         "values": [
          {
           "sample_id": 0,
           "timepoint": 0,
           "trajectory": "I_data",
           "value": 0
          },
          {
           "sample_id": 0,
           "timepoint": 1,
           "trajectory": "I_data",
           "value": 0
          },
          {
           "sample_id": 0,
           "timepoint": 2,
           "trajectory": "I_data",
           "value": 1
          },
          {
           "sample_id": 0,
           "timepoint": 3,
           "trajectory": "I_data",
           "value": 10
          },
          {
           "sample_id": 0,
           "timepoint": 4,
           "trajectory": "I_data",
           "value": 21
          },
          {
           "sample_id": 0,
           "timepoint": 5,
           "trajectory": "I_data",
           "value": 24
          },
          {
           "sample_id": 0,
           "timepoint": 6,
           "trajectory": "I_data",
           "value": 76
          },
          {
           "sample_id": 0,
           "timepoint": 7,
           "trajectory": "I_data",
           "value": 104
          },
          {
           "sample_id": 0,
           "timepoint": 8,
           "trajectory": "I_data",
           "value": 128
          },
          {
           "sample_id": 0,
           "timepoint": 9,
           "trajectory": "I_data",
           "value": 131
          },
          {
           "sample_id": 0,
           "timepoint": 10,
           "trajectory": "I_data",
           "value": 192
          },
          {
           "sample_id": 0,
           "timepoint": 11,
           "trajectory": "I_data",
           "value": 220
          },
          {
           "sample_id": 0,
           "timepoint": 12,
           "trajectory": "I_data",
           "value": 274
          },
          {
           "sample_id": 0,
           "timepoint": 13,
           "trajectory": "I_data",
           "value": 394
          },
          {
           "sample_id": 0,
           "timepoint": 14,
           "trajectory": "I_data",
           "value": 481
          },
          {
           "sample_id": 0,
           "timepoint": 15,
           "trajectory": "I_data",
           "value": 745
          },
          {
           "sample_id": 0,
           "timepoint": 16,
           "trajectory": "I_data",
           "value": 1111
          },
          {
           "sample_id": 0,
           "timepoint": 17,
           "trajectory": "I_data",
           "value": 2128
          },
          {
           "sample_id": 0,
           "timepoint": 18,
           "trajectory": "I_data",
           "value": 3671
          },
          {
           "sample_id": 0,
           "timepoint": 19,
           "trajectory": "I_data",
           "value": 6578
          },
          {
           "sample_id": 0,
           "timepoint": 20,
           "trajectory": "I_data",
           "value": 9449
          },
          {
           "sample_id": 0,
           "timepoint": 21,
           "trajectory": "I_data",
           "value": 13761
          },
          {
           "sample_id": 0,
           "timepoint": 22,
           "trajectory": "I_data",
           "value": 18270
          },
          {
           "sample_id": 0,
           "timepoint": 23,
           "trajectory": "I_data",
           "value": 21478
          },
          {
           "sample_id": 0,
           "timepoint": 24,
           "trajectory": "I_data",
           "value": 23630
          },
          {
           "sample_id": 0,
           "timepoint": 25,
           "trajectory": "I_data",
           "value": 26987
          },
          {
           "sample_id": 0,
           "timepoint": 26,
           "trajectory": "I_data",
           "value": 29533
          },
          {
           "sample_id": 0,
           "timepoint": 27,
           "trajectory": "I_data",
           "value": 31623
          },
          {
           "sample_id": 0,
           "timepoint": 28,
           "trajectory": "I_data",
           "value": 33967
          },
          {
           "sample_id": 0,
           "timepoint": 29,
           "trajectory": "I_data",
           "value": 35822
          },
          {
           "sample_id": 0,
           "timepoint": 30,
           "trajectory": "I_data",
           "value": 38456
          },
          {
           "sample_id": 0,
           "timepoint": 31,
           "trajectory": "I_data",
           "value": 45676
          },
          {
           "sample_id": 0,
           "timepoint": 32,
           "trajectory": "I_data",
           "value": 48380
          },
          {
           "sample_id": 0,
           "timepoint": 33,
           "trajectory": "I_data",
           "value": 51807
          },
          {
           "sample_id": 0,
           "timepoint": 34,
           "trajectory": "I_data",
           "value": 55042
          },
          {
           "sample_id": 0,
           "timepoint": 35,
           "trajectory": "I_data",
           "value": 56847
          },
          {
           "sample_id": 0,
           "timepoint": 36,
           "trajectory": "I_data",
           "value": 52184
          },
          {
           "sample_id": 0,
           "timepoint": 37,
           "trajectory": "I_data",
           "value": 49194
          },
          {
           "sample_id": 0,
           "timepoint": 38,
           "trajectory": "I_data",
           "value": 48730
          },
          {
           "sample_id": 0,
           "timepoint": 39,
           "trajectory": "I_data",
           "value": 50551
          },
          {
           "sample_id": 0,
           "timepoint": 40,
           "trajectory": "I_data",
           "value": 51029
          },
          {
           "sample_id": 0,
           "timepoint": 41,
           "trajectory": "I_data",
           "value": 49701
          },
          {
           "sample_id": 0,
           "timepoint": 42,
           "trajectory": "I_data",
           "value": 50661
          },
          {
           "sample_id": 0,
           "timepoint": 43,
           "trajectory": "I_data",
           "value": 48303
          },
          {
           "sample_id": 0,
           "timepoint": 44,
           "trajectory": "I_data",
           "value": 43703
          },
          {
           "sample_id": 0,
           "timepoint": 45,
           "trajectory": "I_data",
           "value": 38888
          },
          {
           "sample_id": 0,
           "timepoint": 46,
           "trajectory": "I_data",
           "value": 38244
          },
          {
           "sample_id": 0,
           "timepoint": 47,
           "trajectory": "I_data",
           "value": 36857
          },
          {
           "sample_id": 0,
           "timepoint": 48,
           "trajectory": "I_data",
           "value": 35881
          },
          {
           "sample_id": 0,
           "timepoint": 49,
           "trajectory": "I_data",
           "value": 35054
          },
          {
           "sample_id": 0,
           "timepoint": 50,
           "trajectory": "I_data",
           "value": 34782
          },
          {
           "sample_id": 0,
           "timepoint": 51,
           "trajectory": "I_data",
           "value": 31526
          },
          {
           "sample_id": 0,
           "timepoint": 52,
           "trajectory": "I_data",
           "value": 28799
          },
          {
           "sample_id": 0,
           "timepoint": 53,
           "trajectory": "I_data",
           "value": 27419
          },
          {
           "sample_id": 0,
           "timepoint": 54,
           "trajectory": "I_data",
           "value": 27443
          },
          {
           "sample_id": 0,
           "timepoint": 55,
           "trajectory": "I_data",
           "value": 30499
          },
          {
           "sample_id": 0,
           "timepoint": 56,
           "trajectory": "I_data",
           "value": 31543
          },
          {
           "sample_id": 0,
           "timepoint": 57,
           "trajectory": "I_data",
           "value": 31597
          },
          {
           "sample_id": 0,
           "timepoint": 58,
           "trajectory": "I_data",
           "value": 29008
          },
          {
           "sample_id": 0,
           "timepoint": 59,
           "trajectory": "I_data",
           "value": 25476
          },
          {
           "sample_id": 0,
           "timepoint": 60,
           "trajectory": "I_data",
           "value": 20411
          },
          {
           "sample_id": 0,
           "timepoint": 61,
           "trajectory": "I_data",
           "value": 19224
          },
          {
           "sample_id": 0,
           "timepoint": 40,
           "trajectory": "H_data",
           "value": 0
          },
          {
           "sample_id": 0,
           "timepoint": 41,
           "trajectory": "H_data",
           "value": 0
          },
          {
           "sample_id": 0,
           "timepoint": 47,
           "trajectory": "H_data",
           "value": 0
          },
          {
           "sample_id": 0,
           "timepoint": 48,
           "trajectory": "H_data",
           "value": 1
          },
          {
           "sample_id": 0,
           "timepoint": 54,
           "trajectory": "H_data",
           "value": 0
          },
          {
           "sample_id": 0,
           "timepoint": 55,
           "trajectory": "H_data",
           "value": 0
          },
          {
           "sample_id": 0,
           "timepoint": 56,
           "trajectory": "H_data",
           "value": 1
          },
          {
           "sample_id": 0,
           "timepoint": 57,
           "trajectory": "H_data",
           "value": 0
          },
          {
           "sample_id": 0,
           "timepoint": 58,
           "trajectory": "H_data",
           "value": 0
          },
          {
           "sample_id": 0,
           "timepoint": 59,
           "trajectory": "H_data",
           "value": 0
          },
          {
           "sample_id": 0,
           "timepoint": 60,
           "trajectory": "H_data",
           "value": 0
          },
          {
           "sample_id": 0,
           "timepoint": 61,
           "trajectory": "H_data",
           "value": 0
          },
          {
           "sample_id": 0,
           "timepoint": 0,
           "trajectory": "D_data",
           "value": 0
          },
          {
           "sample_id": 0,
           "timepoint": 1,
           "trajectory": "D_data",
           "value": 0
          },
          {
           "sample_id": 0,
           "timepoint": 2,
           "trajectory": "D_data",
           "value": 0
          },
          {
           "sample_id": 0,
           "timepoint": 3,
           "trajectory": "D_data",
           "value": 0
          },
          {
           "sample_id": 0,
           "timepoint": 4,
           "trajectory": "D_data",
           "value": 0
          },
          {
           "sample_id": 0,
           "timepoint": 5,
           "trajectory": "D_data",
           "value": 0
          },
          {
           "sample_id": 0,
           "timepoint": 6,
           "trajectory": "D_data",
           "value": 0
          },
          {
           "sample_id": 0,
           "timepoint": 7,
           "trajectory": "D_data",
           "value": 0
          },
          {
           "sample_id": 0,
           "timepoint": 8,
           "trajectory": "D_data",
           "value": 0
          },
          {
           "sample_id": 0,
           "timepoint": 9,
           "trajectory": "D_data",
           "value": 0
          },
          {
           "sample_id": 0,
           "timepoint": 10,
           "trajectory": "D_data",
           "value": 1
          },
          {
           "sample_id": 0,
           "timepoint": 11,
           "trajectory": "D_data",
           "value": 1
          },
          {
           "sample_id": 0,
           "timepoint": 12,
           "trajectory": "D_data",
           "value": 1
          },
          {
           "sample_id": 0,
           "timepoint": 13,
           "trajectory": "D_data",
           "value": 4
          },
          {
           "sample_id": 0,
           "timepoint": 14,
           "trajectory": "D_data",
           "value": 9
          },
          {
           "sample_id": 0,
           "timepoint": 15,
           "trajectory": "D_data",
           "value": 19
          },
          {
           "sample_id": 0,
           "timepoint": 16,
           "trajectory": "D_data",
           "value": 30
          },
          {
           "sample_id": 0,
           "timepoint": 17,
           "trajectory": "D_data",
           "value": 51
          },
          {
           "sample_id": 0,
           "timepoint": 18,
           "trajectory": "D_data",
           "value": 77
          },
          {
           "sample_id": 0,
           "timepoint": 19,
           "trajectory": "D_data",
           "value": 129
          },
          {
           "sample_id": 0,
           "timepoint": 20,
           "trajectory": "D_data",
           "value": 175
          },
          {
           "sample_id": 0,
           "timepoint": 21,
           "trajectory": "D_data",
           "value": 226
          },
          {
           "sample_id": 0,
           "timepoint": 22,
           "trajectory": "D_data",
           "value": 315
          },
          {
           "sample_id": 0,
           "timepoint": 23,
           "trajectory": "D_data",
           "value": 427
          },
          {
           "sample_id": 0,
           "timepoint": 24,
           "trajectory": "D_data",
           "value": 565
          },
          {
           "sample_id": 0,
           "timepoint": 25,
           "trajectory": "D_data",
           "value": 759
          },
          {
           "sample_id": 0,
           "timepoint": 26,
           "trajectory": "D_data",
           "value": 984
          },
          {
           "sample_id": 0,
           "timepoint": 27,
           "trajectory": "D_data",
           "value": 1285
          },
          {
           "sample_id": 0,
           "timepoint": 28,
           "trajectory": "D_data",
           "value": 1603
          },
          {
           "sample_id": 0,
           "timepoint": 29,
           "trajectory": "D_data",
           "value": 1930
          },
          {
           "sample_id": 0,
           "timepoint": 30,
           "trajectory": "D_data",
           "value": 2334
          },
          {
           "sample_id": 0,
           "timepoint": 31,
           "trajectory": "D_data",
           "value": 2859
          },
          {
           "sample_id": 0,
           "timepoint": 32,
           "trajectory": "D_data",
           "value": 3420
          },
          {
           "sample_id": 0,
           "timepoint": 33,
           "trajectory": "D_data",
           "value": 3989
          },
          {
           "sample_id": 0,
           "timepoint": 34,
           "trajectory": "D_data",
           "value": 4634
          },
          {
           "sample_id": 0,
           "timepoint": 35,
           "trajectory": "D_data",
           "value": 5384
          },
          {
           "sample_id": 0,
           "timepoint": 36,
           "trajectory": "D_data",
           "value": 6185
          },
          {
           "sample_id": 0,
           "timepoint": 37,
           "trajectory": "D_data",
           "value": 7241
          },
          {
           "sample_id": 0,
           "timepoint": 38,
           "trajectory": "D_data",
           "value": 7985
          },
          {
           "sample_id": 0,
           "timepoint": 39,
           "trajectory": "D_data",
           "value": 8846
          },
          {
           "sample_id": 0,
           "timepoint": 40,
           "trajectory": "D_data",
           "value": 9579
          },
          {
           "sample_id": 0,
           "timepoint": 41,
           "trajectory": "D_data",
           "value": 10345
          },
          {
           "sample_id": 0,
           "timepoint": 42,
           "trajectory": "D_data",
           "value": 11126
          },
          {
           "sample_id": 0,
           "timepoint": 43,
           "trajectory": "D_data",
           "value": 11930
          },
          {
           "sample_id": 0,
           "timepoint": 44,
           "trajectory": "D_data",
           "value": 12669
          },
          {
           "sample_id": 0,
           "timepoint": 45,
           "trajectory": "D_data",
           "value": 13332
          },
          {
           "sample_id": 0,
           "timepoint": 46,
           "trajectory": "D_data",
           "value": 13987
          },
          {
           "sample_id": 0,
           "timepoint": 47,
           "trajectory": "D_data",
           "value": 14371
          },
          {
           "sample_id": 0,
           "timepoint": 48,
           "trajectory": "D_data",
           "value": 14780
          },
          {
           "sample_id": 0,
           "timepoint": 49,
           "trajectory": "D_data",
           "value": 15225
          },
          {
           "sample_id": 0,
           "timepoint": 50,
           "trajectory": "D_data",
           "value": 16116
          },
          {
           "sample_id": 0,
           "timepoint": 51,
           "trajectory": "D_data",
           "value": 16639
          },
          {
           "sample_id": 0,
           "timepoint": 52,
           "trajectory": "D_data",
           "value": 17091
          },
          {
           "sample_id": 0,
           "timepoint": 53,
           "trajectory": "D_data",
           "value": 17647
          },
          {
           "sample_id": 0,
           "timepoint": 54,
           "trajectory": "D_data",
           "value": 18132
          },
          {
           "sample_id": 0,
           "timepoint": 55,
           "trajectory": "D_data",
           "value": 18523
          },
          {
           "sample_id": 0,
           "timepoint": 56,
           "trajectory": "D_data",
           "value": 18882
          },
          {
           "sample_id": 0,
           "timepoint": 57,
           "trajectory": "D_data",
           "value": 19292
          },
          {
           "sample_id": 0,
           "timepoint": 58,
           "trajectory": "D_data",
           "value": 19602
          },
          {
           "sample_id": 0,
           "timepoint": 59,
           "trajectory": "D_data",
           "value": 20000
          },
          {
           "sample_id": 0,
           "timepoint": 60,
           "trajectory": "D_data",
           "value": 20334
          },
          {
           "sample_id": 0,
           "timepoint": 61,
           "trajectory": "D_data",
           "value": 20662
          }
         ]
        },
        {
         "name": "markers",
         "values": []
        },
        {
         "name": "selected",
         "on": [
          {
           "remove": true,
           "trigger": "clear"
          },
          {
           "remove": true,
           "trigger": "!shift"
          },
          {
           "insert": "clicked",
           "trigger": "!shift && clicked"
          },
          {
           "toggle": "clicked",
           "trigger": "shift && clicked"
          }
         ]
        }
       ],
       "height": 300,
       "legends": [
        {
         "encode": {
          "labels": {
           "interactive": true,
           "name": "legendLabel",
           "update": {
            "opacity": [
             {
              "test": "!length(data('selected')) || indata('selected', 'value', datum.value)",
              "value": 1
             },
             {
              "value": 0.25
             }
            ]
           }
          },
          "symbols": {
           "interactive": true,
           "name": "legendSymbol",
           "update": {
            "fill": {
             "value": "transparent"
            },
            "opacity": [
             {
              "test": "!length(data('selected')) || indata('selected', 'value', datum.value)",
              "value": 0.7
             },
             {
              "value": 0.15
             }
            ],
            "size": {
             "value": 64
            },
            "strokeWidth": {
             "value": 2
            }
           }
          }
         },
         "name": "color_legend",
         "stroke": "color"
        }
       ],
       "marks": [
        {
         "from": {
          "facet": {
           "data": "points",
           "groupby": "trajectory",
           "name": "points_split"
          }
         },
         "marks": [
          {
           "encode": {
            "hover": {
             "fillOpacity": {
              "value": 0.9
             }
            },
            "update": {
             "fill": {
              "field": "trajectory",
              "scale": "color"
             },
             "fillOpacity": [
              {
               "test": "!length(data('selected')) || indata('selected', 'value', datum.trajectory)",
               "value": 0.5
              },
              {
               "value": 0.15
              }
             ],
             "size": {
              "value": 10
             },
             "stroke": {
              "field": "trajectory",
              "scale": "color"
             },
             "strokeOpacity": [
              {
               "test": "!length(data('selected')) || indata('selected', 'value', datum.trajectory)",
               "value": 0.75
              },
              {
               "value": 0.15
              }
             ],
             "strokeWidth": {
              "value": 2
             },
             "tooltip": {
              "field": "value"
             },
             "x": {
              "field": "timepoint",
              "scale": "xscale"
             },
             "y": {
              "field": "value",
              "scale": "yscale"
             }
            }
           },
           "from": {
            "data": "points_split"
           },
           "name": "_points_symbol",
           "type": "symbol",
           "zindex": 3
          },
          {
           "encode": {
            "hover": {
             "fillOpacity": {
              "value": 0.9
             }
            },
            "update": {
             "interpolate": {
              "value": "linear"
             },
             "stroke": {
              "field": "trajectory",
              "scale": "color"
             },
             "strokeOpacity": [
              {
               "test": "!length(data('selected')) || indata('selected', 'value', datum.trajectory)",
               "value": 0.3
              },
              {
               "value": 0.1
              }
             ],
             "strokeWidth": {
              "value": 2
             },
             "x": {
              "field": "timepoint",
              "scale": "xscale"
             },
             "y": {
              "field": "value",
              "scale": "yscale"
             }
            }
           },
           "from": {
            "data": "points_split"
           },
           "name": "_points_line",
           "type": "line",
           "zindex": 3
          }
         ],
         "name": "_points",
         "type": "group",
         "zindex": 3
        },
        {
         "from": {
          "facet": {
           "data": "traces",
           "groupby": "trajectory",
           "name": "traces_split"
          }
         },
         "marks": [
          {
           "encode": {
            "hover": {
             "fillOpacity": {
              "value": 0.9
             }
            },
            "update": {
             "interpolate": {
              "value": "linear"
             },
             "stroke": {
              "field": "trajectory",
              "scale": "color"
             },
             "strokeOpacity": [
              {
               "test": "!length(data('selected')) || indata('selected', 'value', datum.trajectory)",
               "value": 0.75
              },
              {
               "value": 0.15
              }
             ],
             "strokeWidth": {
              "value": 2
             },
             "x": {
              "field": "timepoint",
              "scale": "xscale"
             },
             "y": {
              "field": "value",
              "scale": "yscale"
             }
            }
           },
           "from": {
            "data": "traces_split"
           },
           "name": "_traces_lines",
           "type": "line"
          }
         ],
         "name": "_traces",
         "type": "group",
         "zindex": 2
        },
        {
         "from": {
          "facet": {
           "data": "distributions",
           "groupby": "trajectory",
           "name": "trajectory_split"
          }
         },
         "marks": [
          {
           "encode": {
            "hover": {
             "fillOpacity": {
              "value": 0.9
             }
            },
            "update": {
             "fill": {
              "field": "trajectory",
              "scale": "color"
             },
             "fillOpacity": [
              {
               "test": "!length(data('selected')) || indata('selected', 'value', datum.trajectory)",
               "value": 0.5
              },
              {
               "value": 0.15
              }
             ],
             "interpolate": {
              "value": "linear"
             },
             "stroke": {
              "field": "trajectory",
              "scale": "color"
             },
             "strokeOpacity": [
              {
               "test": "!length(data('selected')) || indata('selected', 'value', datum.trajectory)",
               "value": 0.75
              },
              {
               "value": 0.15
              }
             ],
             "strokeWidth": {
              "value": 2
             },
             "x": {
              "field": "timepoint",
              "scale": "xscale"
             },
             "y": {
              "field": "upper",
              "scale": "yscale"
             },
             "y2": {
              "field": "lower",
              "scale": "yscale"
             }
            }
           },
           "from": {
            "data": "trajectory_split"
           },
           "type": "area"
          }
         ],
         "name": "_distributions",
         "type": "group",
         "zindex": 1
        },
        {
         "marks": [
          {
           "encode": {
            "enter": {
             "stroke": {
              "value": "lightgray"
             }
            },
            "update": {
             "opacity": {
              "value": 1
             },
             "x": {
              "field": "timepoint",
              "scale": "xscale"
             },
             "y": {
              "signal": "height"
             },
             "y2": {
              "value": 0
             }
            }
           },
           "from": {
            "data": "markers"
           },
           "name": "_marker text",
           "type": "rule"
          },
          {
           "encode": {
            "enter": {
             "fontSize": {
              "value": 8
             },
             "text": {
              "field": "datum.label"
             },
             "y": {
              "value": 0
             }
            }
           },
           "from": {
            "data": "_marker text"
           },
           "name": "_marker flags",
           "transform": [
            {
             "as": [
              "x",
              "_y",
              "opacity",
              "align",
              "baseline"
             ],
             "lineAnchor": "start",
             "offset": [
              1
             ],
             "size": {
              "signal": "[width, height]"
             },
             "type": "label"
            }
           ],
           "type": "text"
          }
         ],
         "name": "_markers",
         "type": "group"
        }
       ],
       "padding": 5,
       "scales": [
        {
         "domain": {
          "fields": [
           {
            "data": "distributions",
            "field": "timepoint"
           },
           {
            "data": "traces",
            "field": "timepoint"
           },
           {
            "data": "points",
            "field": "timepoint"
           },
           {
            "data": "markers",
            "field": "timepoint"
           }
          ]
         },
         "name": "xscale",
         "range": "width",
         "type": "linear",
         "zero": false
        },
        {
         "domain": {
          "fields": [
           {
            "data": "distributions",
            "field": "lower"
           },
           {
            "data": "distributions",
            "field": "upper"
           },
           {
            "data": "traces",
            "field": "value"
           },
           {
            "data": "points",
            "field": "value"
           }
          ]
         },
         "name": "yscale",
         "nice": true,
         "range": "height",
         "type": "linear",
         "zero": true
        },
        {
         "domain": {
          "fields": [
           {
            "data": "distributions",
            "field": "trajectory"
           },
           {
            "data": "traces",
            "field": "trajectory"
           },
           {
            "data": "points",
            "field": "trajectory"
           }
          ]
         },
         "name": "color",
         "range": "category",
         "type": "ordinal"
        }
       ],
       "signals": [
        {
         "name": "clear",
         "on": [
          {
           "events": "mouseup[!event.item]",
           "force": true,
           "update": "true"
          }
         ],
         "value": true
        },
        {
         "name": "shift",
         "on": [
          {
           "events": "@legendSymbol:click, @legendLabel:click",
           "force": true,
           "update": "event.shiftKey"
          }
         ],
         "value": false
        },
        {
         "name": "clicked",
         "on": [
          {
           "events": "@legendSymbol:click, @legendLabel:click",
           "force": true,
           "update": "{value: datum.value}"
          }
         ],
         "value": null
        }
       ],
       "width": 500
      }
     },
     "metadata": {},
     "output_type": "display_data"
    }
   ],
   "source": [
    "schema = plots.trajectories(pd.DataFrame(prior_samples[\"data\"]), keep=\"I.*_sol\",\n",
    "                            points=all_data1.reset_index(drop=True).rename(columns={\"I\":\"I_data\", \"H\":\"H_data\", \"D\":\"D_data\"}))\n",
    "schema = plots.pad(schema, 5)\n",
    "plots.ipy_display(schema)"
   ]
  },
  {
   "cell_type": "code",
   "execution_count": 42,
   "id": "de7313df-f73f-4425-a021-fe90f17555ab",
   "metadata": {},
   "outputs": [
    {
     "name": "stdout",
     "output_type": "stream",
     "text": [
      "iteration 0: loss = 712.117668390274\n",
      "iteration 25: loss = 683.5006294250488\n",
      "iteration 50: loss = 679.6100604534149\n",
      "iteration 75: loss = 680.6882536411285\n"
     ]
    }
   ],
   "source": [
    "num_samples = 100\n",
    "model_paths = [model2_location]\n",
    "data_path = \"../../notebook/ensemble_eval_sa/datasets/NYS_T1_forecast1.csv\"\n",
    "weights = [1]\n",
    "solution_mappings = [{\"I\": \"I\", \"H\": \"H\", \"D\": \"D\"}]\n",
    "\n",
    "# Run the calibration and sampling\n",
    "result1 = load_and_calibrate_and_sample_ensemble_model(\n",
    "    model_paths,\n",
    "    data_path,\n",
    "    weights,\n",
    "    solution_mappings,\n",
    "    num_samples,\n",
    "    timepoints1,\n",
    "    verbose=True,\n",
    "    total_population=19340000,\n",
    "    num_iterations=100,\n",
    "    time_unit=\"days\",\n",
    "    visual_options={\"title\": \"Calibrated Ensemble\", \"keep\":\".*_sol\"}\n",
    ")\n",
    "\n",
    "# Save results\n",
    "result1[\"data\"].to_csv(\"../../notebook/ensemble_eval_sa/ensemble_results/partI_ensemble_of_one_results.csv\", index=False)\n",
    "result1[\"quantiles\"].to_csv(\"../../notebook/ensemble_eval_sa/ensemble_results/partI_ensemble_of_one_quantiles.csv\", index=False)\n",
    "\n",
    "q_ensemble_data = cdc_reformatcsv(filename=\"../../notebook/ensemble_eval_sa/ensemble_results/partI_ensemble_of_one_quantiles.csv\", \n",
    "                                  solution_string_mapping={\"I\": \"cases\", \"D\": \"deaths\"}, \n",
    "                                  forecast_start_date=\"2020-04-03\",\n",
    "                                  location=\"New York State\",\n",
    "                                  drop_column_names=[\"timepoint_id\", \"number_days\", \"inc_cum\", \"output\", \"Forecast_Backcast\"])\n",
    "q_ensemble_data.to_csv(\"../../notebook/ensemble_eval_sa/ensemble_results/partI_ensemble1_quantiles_Apr032020.csv\")"
   ]
  },
  {
   "cell_type": "code",
   "execution_count": 43,
   "id": "9c71b5e5-5c30-427e-b3a6-5021f835a9fb",
   "metadata": {},
   "outputs": [
    {
     "name": "stdout",
     "output_type": "stream",
     "text": [
      "\n"
     ]
    },
    {
     "data": {
      "application/vnd.vega.v5+json": {
       "$schema": "https://vega.github.io/schema/vega/v5.json",
       "axes": [
        {
         "name": "x_axis",
         "orient": "bottom",
         "scale": "xscale",
         "zindex": 100
        },
        {
         "name": "y_axis",
         "orient": "left",
         "scale": "yscale",
         "zindex": 100
        }
       ],
       "data": [
        {
         "name": "distributions",
         "values": [
          {
           "lower": 1.7322227706945873e-23,
           "timepoint": 0,
           "trajectory": "D_sol",
           "upper": 2.3470588904106005e-21
          },
          {
           "lower": 1.734932898216357e-05,
           "timepoint": 0.10000000149011612,
           "trajectory": "D_sol",
           "upper": 0.0023505983175709845
          },
          {
           "lower": 6.95101098244777e-05,
           "timepoint": 0.20000000298023224,
           "trajectory": "D_sol",
           "upper": 0.009417130658403038
          },
          {
           "lower": 0.0001566610335430596,
           "timepoint": 0.30000001192092896,
           "trajectory": "D_sol",
           "upper": 0.021223009470850228
          },
          {
           "lower": 0.00027899405322386885,
           "timepoint": 0.4000000059604645,
           "trajectory": "D_sol",
           "upper": 0.03779341578483581
          },
          {
           "lower": 0.00043671460734913127,
           "timepoint": 0.5,
           "trajectory": "D_sol",
           "upper": 0.05915530677884817
          },
          {
           "lower": 0.0006300421664491296,
           "timepoint": 0.6000000238418579,
           "trajectory": "D_sol",
           "upper": 0.08533765040338039
          },
          {
           "lower": 0.0008592098049120978,
           "timepoint": 0.699999988079071,
           "trajectory": "D_sol",
           "upper": 0.11637109518051147
          },
          {
           "lower": 0.0011244653695030137,
           "timepoint": 0.800000011920929,
           "trajectory": "D_sol",
           "upper": 0.15228845998644827
          },
          {
           "lower": 0.0014260717958677561,
           "timepoint": 0.9000000357627869,
           "trajectory": "D_sol",
           "upper": 0.1931241638958454
          },
          {
           "lower": 0.0017643067694734782,
           "timepoint": 1,
           "trajectory": "D_sol",
           "upper": 0.23891522288322448
          },
          {
           "lower": 0.002139464026549831,
           "timepoint": 1.100000023841858,
           "trajectory": "D_sol",
           "upper": 0.2897002175450325
          },
          {
           "lower": 0.002551852207398042,
           "timepoint": 1.2000000476837158,
           "trajectory": "D_sol",
           "upper": 0.3455205142498016
          },
          {
           "lower": 0.003001796244643629,
           "timepoint": 1.3000000715255737,
           "trajectory": "D_sol",
           "upper": 0.406418789923191
          },
          {
           "lower": 0.003489636804442853,
           "timepoint": 1.399999976158142,
           "trajectory": "D_sol",
           "upper": 0.47244037240743636
          },
          {
           "lower": 0.004015735874418169,
           "timepoint": 1.5,
           "trajectory": "D_sol",
           "upper": 0.5436330229043961
          },
          {
           "lower": 0.004580465541221201,
           "timepoint": 1.600000023841858,
           "trajectory": "D_sol",
           "upper": 0.620045953989029
          },
          {
           "lower": 0.005184217845089734,
           "timepoint": 1.7000000476837158,
           "trajectory": "D_sol",
           "upper": 0.7017319560050964
          },
          {
           "lower": 0.005827404861338437,
           "timepoint": 1.8000000715255737,
           "trajectory": "D_sol",
           "upper": 0.7887452989816666
          },
          {
           "lower": 0.006510451948270202,
           "timepoint": 1.899999976158142,
           "trajectory": "D_sol",
           "upper": 0.881142869591713
          },
          {
           "lower": 0.007233807840384543,
           "timepoint": 2,
           "trajectory": "D_sol",
           "upper": 0.9789840996265411
          },
          {
           "lower": 0.007997954334132374,
           "timepoint": 2.1000001430511475,
           "trajectory": "D_sol",
           "upper": 1.0823302328586577
          },
          {
           "lower": 0.008803347637876869,
           "timepoint": 2.200000047683716,
           "trajectory": "D_sol",
           "upper": 1.1912465274333954
          },
          {
           "lower": 0.009650507569313049,
           "timepoint": 2.299999952316284,
           "trajectory": "D_sol",
           "upper": 1.3057999193668364
          },
          {
           "lower": 0.010539954202249647,
           "timepoint": 2.4000000953674316,
           "trajectory": "D_sol",
           "upper": 1.426059830188751
          },
          {
           "lower": 0.011472228355705738,
           "timepoint": 2.5,
           "trajectory": "D_sol",
           "upper": 1.5520976543426512
          },
          {
           "lower": 0.012447897158563138,
           "timepoint": 2.6000001430511475,
           "trajectory": "D_sol",
           "upper": 1.6839901387691496
          },
          {
           "lower": 0.01346754706464708,
           "timepoint": 2.700000047683716,
           "trajectory": "D_sol",
           "upper": 1.8218141615390777
          },
          {
           "lower": 0.014531781151890756,
           "timepoint": 2.799999952316284,
           "trajectory": "D_sol",
           "upper": 1.9656504571437834
          },
          {
           "lower": 0.01564123327843845,
           "timepoint": 2.9000000953674316,
           "trajectory": "D_sol",
           "upper": 2.1155829191207887
          },
          {
           "lower": 0.01679654624313116,
           "timepoint": 3,
           "trajectory": "D_sol",
           "upper": 2.2716977834701537
          },
          {
           "lower": 0.017998399399220943,
           "timepoint": 3.1000001430511475,
           "trajectory": "D_sol",
           "upper": 2.4340825796127317
          },
          {
           "lower": 0.01924746045842767,
           "timepoint": 3.200000047683716,
           "trajectory": "D_sol",
           "upper": 2.602832782268524
          },
          {
           "lower": 0.02054448020644486,
           "timepoint": 3.299999952316284,
           "trajectory": "D_sol",
           "upper": 2.778041958808899
          },
          {
           "lower": 0.021890192106366158,
           "timepoint": 3.4000000953674316,
           "trajectory": "D_sol",
           "upper": 2.959809958934784
          },
          {
           "lower": 0.023285353370010854,
           "timepoint": 3.5,
           "trajectory": "D_sol",
           "upper": 3.148237836360931
          },
          {
           "lower": 0.0247307644225657,
           "timepoint": 3.6000001430511475,
           "trajectory": "D_sol",
           "upper": 3.343434691429138
          },
          {
           "lower": 0.026227226667106154,
           "timepoint": 3.700000047683716,
           "trajectory": "D_sol",
           "upper": 3.545502960681915
          },
          {
           "lower": 0.027775585651397705,
           "timepoint": 3.799999952316284,
           "trajectory": "D_sol",
           "upper": 3.754557979106903
          },
          {
           "lower": 0.029376717656850817,
           "timepoint": 3.9000000953674316,
           "trajectory": "D_sol",
           "upper": 3.9707140803337095
          },
          {
           "lower": 0.031031507812440396,
           "timepoint": 4,
           "trajectory": "D_sol",
           "upper": 4.194090533256531
          },
          {
           "lower": 0.03274087514728308,
           "timepoint": 4.099999904632568,
           "trajectory": "D_sol",
           "upper": 4.424810147285461
          },
          {
           "lower": 0.03450578665360809,
           "timepoint": 4.200000286102295,
           "trajectory": "D_sol",
           "upper": 4.662994861602783
          },
          {
           "lower": 0.036327187344431876,
           "timepoint": 4.300000190734863,
           "trajectory": "D_sol",
           "upper": 4.9087806940078735
          },
          {
           "lower": 0.03820611238479615,
           "timepoint": 4.400000095367432,
           "trajectory": "D_sol",
           "upper": 5.162299108505248
          },
          {
           "lower": 0.04014347204938531,
           "timepoint": 4.5,
           "trajectory": "D_sol",
           "upper": 5.423687624931335
          },
          {
           "lower": 0.04214049559086561,
           "timepoint": 4.599999904632568,
           "trajectory": "D_sol",
           "upper": 5.693087172508239
          },
          {
           "lower": 0.044198222830891615,
           "timepoint": 4.700000286102295,
           "trajectory": "D_sol",
           "upper": 5.970645546913146
          },
          {
           "lower": 0.04631775412708521,
           "timepoint": 4.800000190734863,
           "trajectory": "D_sol",
           "upper": 6.256499028205871
          },
          {
           "lower": 0.04850024897605181,
           "timepoint": 4.900000095367432,
           "trajectory": "D_sol",
           "upper": 6.550819420814514
          },
          {
           "lower": 0.0507468992844224,
           "timepoint": 5,
           "trajectory": "D_sol",
           "upper": 6.853757452964782
          },
          {
           "lower": 0.053058935515582564,
           "timepoint": 5.099999904632568,
           "trajectory": "D_sol",
           "upper": 7.16547520160675
          },
          {
           "lower": 0.05543760526925326,
           "timepoint": 5.200000286102295,
           "trajectory": "D_sol",
           "upper": 7.486141347885131
          },
          {
           "lower": 0.0578841844573617,
           "timepoint": 5.300000190734863,
           "trajectory": "D_sol",
           "upper": 7.8159237623214715
          },
          {
           "lower": 0.06039999686181546,
           "timepoint": 5.400000095367432,
           "trajectory": "D_sol",
           "upper": 8.154999256134033
          },
          {
           "lower": 0.06298640966415406,
           "timepoint": 5.5,
           "trajectory": "D_sol",
           "upper": 8.503548336029052
          },
          {
           "lower": 0.06564479973167181,
           "timepoint": 5.599999904632568,
           "trajectory": "D_sol",
           "upper": 8.861758470535278
          },
          {
           "lower": 0.068376624584198,
           "timepoint": 5.700000286102295,
           "trajectory": "D_sol",
           "upper": 9.229820346832275
          },
          {
           "lower": 0.07118330374360085,
           "timepoint": 5.800000190734863,
           "trajectory": "D_sol",
           "upper": 9.607924795150756
          },
          {
           "lower": 0.07406639717519284,
           "timepoint": 5.900000095367432,
           "trajectory": "D_sol",
           "upper": 9.99627285003662
          },
          {
           "lower": 0.07702743113040925,
           "timepoint": 6,
           "trajectory": "D_sol",
           "upper": 10.395070648193359
          },
          {
           "lower": 0.08006798960268498,
           "timepoint": 6.099999904632568,
           "trajectory": "D_sol",
           "upper": 10.804548501968382
          },
          {
           "lower": 0.08318972885608673,
           "timepoint": 6.200000286102295,
           "trajectory": "D_sol",
           "upper": 11.224895000457762
          },
          {
           "lower": 0.0863942850381136,
           "timepoint": 6.300000190734863,
           "trajectory": "D_sol",
           "upper": 11.65633964538574
          },
          {
           "lower": 0.08968338556587696,
           "timepoint": 6.400000095367432,
           "trajectory": "D_sol",
           "upper": 12.09911069869995
          },
          {
           "lower": 0.09305866360664368,
           "timepoint": 6.5,
           "trajectory": "D_sol",
           "upper": 12.553440237045287
          },
          {
           "lower": 0.09652211628854275,
           "timepoint": 6.599999904632568,
           "trajectory": "D_sol",
           "upper": 13.019571638107298
          },
          {
           "lower": 0.10007550492882729,
           "timepoint": 6.700000286102295,
           "trajectory": "D_sol",
           "upper": 13.497748374938963
          },
          {
           "lower": 0.10372069962322712,
           "timepoint": 6.800000190734863,
           "trajectory": "D_sol",
           "upper": 13.98825430870056
          },
          {
           "lower": 0.10745964422821999,
           "timepoint": 6.900000095367432,
           "trajectory": "D_sol",
           "upper": 14.491293001174926
          },
          {
           "lower": 0.11129432544112206,
           "timepoint": 7,
           "trajectory": "D_sol",
           "upper": 15.007150840759277
          },
          {
           "lower": 0.11522679701447487,
           "timepoint": 7.099999904632568,
           "trajectory": "D_sol",
           "upper": 15.536101865768432
          },
          {
           "lower": 0.11925941556692124,
           "timepoint": 7.200000286102295,
           "trajectory": "D_sol",
           "upper": 16.07842264175415
          },
          {
           "lower": 0.12339383885264398,
           "timepoint": 7.300000190734863,
           "trajectory": "D_sol",
           "upper": 16.634393882751464
          },
          {
           "lower": 0.12763247191905977,
           "timepoint": 7.400000095367432,
           "trajectory": "D_sol",
           "upper": 17.204311752319335
          },
          {
           "lower": 0.13197755105793477,
           "timepoint": 7.5,
           "trajectory": "D_sol",
           "upper": 17.788453674316404
          },
          {
           "lower": 0.13643140718340874,
           "timepoint": 7.599999904632568,
           "trajectory": "D_sol",
           "upper": 18.387159061431884
          },
          {
           "lower": 0.1409963857382536,
           "timepoint": 7.700000286102295,
           "trajectory": "D_sol",
           "upper": 19.000721168518066
          },
          {
           "lower": 0.14567520283162594,
           "timepoint": 7.800000190734863,
           "trajectory": "D_sol",
           "upper": 19.62946147918701
          },
          {
           "lower": 0.15046981275081636,
           "timepoint": 7.900000095367432,
           "trajectory": "D_sol",
           "upper": 20.27370862960815
          },
          {
           "lower": 0.15538297817111016,
           "timepoint": 8,
           "trajectory": "D_sol",
           "upper": 20.93379964828491
          },
          {
           "lower": 0.16041733771562577,
           "timepoint": 8.100000381469727,
           "trajectory": "D_sol",
           "upper": 21.61015634536743
          },
          {
           "lower": 0.16557551361620426,
           "timepoint": 8.199999809265137,
           "trajectory": "D_sol",
           "upper": 22.30300426483154
          },
          {
           "lower": 0.17086027935147285,
           "timepoint": 8.300000190734863,
           "trajectory": "D_sol",
           "upper": 23.01276636123657
          },
          {
           "lower": 0.17627440840005876,
           "timepoint": 8.40000057220459,
           "trajectory": "D_sol",
           "upper": 23.739807415008542
          },
          {
           "lower": 0.18182050958275797,
           "timepoint": 8.5,
           "trajectory": "D_sol",
           "upper": 24.484500885009762
          },
          {
           "lower": 0.18750191777944566,
           "timepoint": 8.600000381469727,
           "trajectory": "D_sol",
           "upper": 25.24725074768066
          },
          {
           "lower": 0.19332140684127808,
           "timepoint": 8.699999809265137,
           "trajectory": "D_sol",
           "upper": 26.028436660766598
          },
          {
           "lower": 0.19928217306733131,
           "timepoint": 8.800000190734863,
           "trajectory": "D_sol",
           "upper": 26.82847509384155
          },
          {
           "lower": 0.2053872920572758,
           "timepoint": 8.90000057220459,
           "trajectory": "D_sol",
           "upper": 27.647789287567136
          },
          {
           "lower": 0.21163993254303934,
           "timepoint": 9,
           "trajectory": "D_sol",
           "upper": 28.486790370941158
          },
          {
           "lower": 0.21804356202483177,
           "timepoint": 9.100000381469727,
           "trajectory": "D_sol",
           "upper": 29.345932769775388
          },
          {
           "lower": 0.2246010921895504,
           "timepoint": 9.199999809265137,
           "trajectory": "D_sol",
           "upper": 30.22565021514892
          },
          {
           "lower": 0.23131657391786575,
           "timepoint": 9.300000190734863,
           "trajectory": "D_sol",
           "upper": 31.126418113708493
          },
          {
           "lower": 0.23819329664111139,
           "timepoint": 9.40000057220459,
           "trajectory": "D_sol",
           "upper": 32.04869499206543
          },
          {
           "lower": 0.24523480609059334,
           "timepoint": 9.5,
           "trajectory": "D_sol",
           "upper": 32.99292278289794
          },
          {
           "lower": 0.25244500264525416,
           "timepoint": 9.600000381469727,
           "trajectory": "D_sol",
           "upper": 33.95965919494628
          },
          {
           "lower": 0.25982752069830894,
           "timepoint": 9.699999809265137,
           "trajectory": "D_sol",
           "upper": 34.949365806579586
          },
          {
           "lower": 0.267386393994093,
           "timepoint": 9.800000190734863,
           "trajectory": "D_sol",
           "upper": 35.96258010864258
          },
          {
           "lower": 0.27512516900897027,
           "timepoint": 9.90000057220459,
           "trajectory": "D_sol",
           "upper": 36.99982662200927
          },
          {
           "lower": 0.28304842188954354,
           "timepoint": 10,
           "trajectory": "D_sol",
           "upper": 38.06160907745361
          },
          {
           "lower": 0.2911602355539799,
           "timepoint": 10.100000381469727,
           "trajectory": "D_sol",
           "upper": 39.14853382110595
          },
          {
           "lower": 0.2994647704064846,
           "timepoint": 10.199999809265137,
           "trajectory": "D_sol",
           "upper": 40.26112823486328
          },
          {
           "lower": 0.3079664841294289,
           "timepoint": 10.300000190734863,
           "trajectory": "D_sol",
           "upper": 41.39998722076415
          },
          {
           "lower": 0.3166699156165123,
           "timepoint": 10.40000057220459,
           "trajectory": "D_sol",
           "upper": 42.56570205688476
          },
          {
           "lower": 0.3255794078111649,
           "timepoint": 10.5,
           "trajectory": "D_sol",
           "upper": 43.75884952545165
          },
          {
           "lower": 0.3346999123692513,
           "timepoint": 10.600000381469727,
           "trajectory": "D_sol",
           "upper": 44.9800889968872
          },
          {
           "lower": 0.34403507187962534,
           "timepoint": 10.699999809265137,
           "trajectory": "D_sol",
           "upper": 46.23002262115478
          },
          {
           "lower": 0.3535915657877922,
           "timepoint": 10.800000190734863,
           "trajectory": "D_sol",
           "upper": 47.50932331085205
          },
          {
           "lower": 0.36337360292673115,
           "timepoint": 10.90000057220459,
           "trajectory": "D_sol",
           "upper": 48.818705749511714
          },
          {
           "lower": 0.373386262357235,
           "timepoint": 11,
           "trajectory": "D_sol",
           "upper": 50.15874004364013
          },
          {
           "lower": 0.3836349576711655,
           "timepoint": 11.100000381469727,
           "trajectory": "D_sol",
           "upper": 51.53018817901611
          },
          {
           "lower": 0.39412491023540497,
           "timepoint": 11.199999809265137,
           "trajectory": "D_sol",
           "upper": 52.93373775482177
          },
          {
           "lower": 0.4048617407679558,
           "timepoint": 11.300000190734863,
           "trajectory": "D_sol",
           "upper": 54.37013359069823
          },
          {
           "lower": 0.4158518642187119,
           "timepoint": 11.40000057220459,
           "trajectory": "D_sol",
           "upper": 55.8401210784912
          },
          {
           "lower": 0.4270996361970902,
           "timepoint": 11.5,
           "trajectory": "D_sol",
           "upper": 57.34444923400878
          },
          {
           "lower": 0.43861181288957596,
           "timepoint": 11.600000381469727,
           "trajectory": "D_sol",
           "upper": 58.883920288085925
          },
          {
           "lower": 0.4503941282629967,
           "timepoint": 11.699999809265137,
           "trajectory": "D_sol",
           "upper": 60.45933952331542
          },
          {
           "lower": 0.46245303303003316,
           "timepoint": 11.800000190734863,
           "trajectory": "D_sol",
           "upper": 62.071493911743154
          },
          {
           "lower": 0.47479476779699326,
           "timepoint": 11.90000057220459,
           "trajectory": "D_sol",
           "upper": 63.721223640441885
          },
          {
           "lower": 0.4874257788062096,
           "timepoint": 12,
           "trajectory": "D_sol",
           "upper": 65.40936851501463
          },
          {
           "lower": 0.5003518700599671,
           "timepoint": 12.100000381469727,
           "trajectory": "D_sol",
           "upper": 67.17024726867675
          },
          {
           "lower": 0.5135811895132065,
           "timepoint": 12.199999809265137,
           "trajectory": "D_sol",
           "upper": 68.99537963867186
          },
          {
           "lower": 0.5271202981472015,
           "timepoint": 12.300000190734863,
           "trajectory": "D_sol",
           "upper": 70.8648811340332
          },
          {
           "lower": 0.5409760504961014,
           "timepoint": 12.40000057220459,
           "trajectory": "D_sol",
           "upper": 72.7798183441162
          },
          {
           "lower": 0.5551556557416916,
           "timepoint": 12.5,
           "trajectory": "D_sol",
           "upper": 74.74134712219237
          },
          {
           "lower": 0.5696668475866318,
           "timepoint": 12.600000381469727,
           "trajectory": "D_sol",
           "upper": 76.75045852661131
          },
          {
           "lower": 0.5845169484615326,
           "timepoint": 12.699999809265137,
           "trajectory": "D_sol",
           "upper": 78.80835189819335
          },
          {
           "lower": 0.599714595079422,
           "timepoint": 12.800000190734863,
           "trajectory": "D_sol",
           "upper": 80.9161838531494
          },
          {
           "lower": 0.6152666851878167,
           "timepoint": 12.90000057220459,
           "trajectory": "D_sol",
           "upper": 83.07517395019529
          },
          {
           "lower": 0.6311815828084946,
           "timepoint": 13,
           "trajectory": "D_sol",
           "upper": 85.28652153015135
          },
          {
           "lower": 0.6474679633975029,
           "timepoint": 13.100000381469727,
           "trajectory": "D_sol",
           "upper": 87.55149307250976
          },
          {
           "lower": 0.6641340851783752,
           "timepoint": 13.199999809265137,
           "trajectory": "D_sol",
           "upper": 89.87129707336425
          },
          {
           "lower": 0.6811890259385109,
           "timepoint": 13.300000190734863,
           "trajectory": "D_sol",
           "upper": 92.2473922729492
          },
          {
           "lower": 0.6986415207386018,
           "timepoint": 13.40000057220459,
           "trajectory": "D_sol",
           "upper": 94.68106269836424
          },
          {
           "lower": 0.7165009915828705,
           "timepoint": 13.5,
           "trajectory": "D_sol",
           "upper": 97.17365226745603
          },
          {
           "lower": 0.7347765803337097,
           "timepoint": 13.600000381469727,
           "trajectory": "D_sol",
           "upper": 99.72664794921873
          },
          {
           "lower": 0.7534776687622071,
           "timepoint": 13.699999809265137,
           "trajectory": "D_sol",
           "upper": 102.34144439697265
          },
          {
           "lower": 0.7726144433021546,
           "timepoint": 13.800000190734863,
           "trajectory": "D_sol",
           "upper": 105.01956863403319
          },
          {
           "lower": 0.7921968549489975,
           "timepoint": 13.90000057220459,
           "trajectory": "D_sol",
           "upper": 107.76222534179686
          },
          {
           "lower": 0.8122348695993424,
           "timepoint": 14,
           "trajectory": "D_sol",
           "upper": 110.571427154541
          },
          {
           "lower": 0.8327394992113114,
           "timepoint": 14.100000381469727,
           "trajectory": "D_sol",
           "upper": 113.44860343933104
          },
          {
           "lower": 0.8537211120128632,
           "timepoint": 14.199999809265137,
           "trajectory": "D_sol",
           "upper": 116.39530792236326
          },
          {
           "lower": 0.8751900672912598,
           "timepoint": 14.300000190734863,
           "trajectory": "D_sol",
           "upper": 119.41328506469725
          },
          {
           "lower": 0.8971591979265213,
           "timepoint": 14.40000057220459,
           "trajectory": "D_sol",
           "upper": 122.50422477722167
          },
          {
           "lower": 0.9196389824151994,
           "timepoint": 14.5,
           "trajectory": "D_sol",
           "upper": 125.66982955932616
          },
          {
           "lower": 0.9426415026187898,
           "timepoint": 14.600000381469727,
           "trajectory": "D_sol",
           "upper": 128.91226501464843
          },
          {
           "lower": 0.9661787360906602,
           "timepoint": 14.699999809265137,
           "trajectory": "D_sol",
           "upper": 132.23281478881833
          },
          {
           "lower": 0.9902632951736451,
           "timepoint": 14.800000190734863,
           "trajectory": "D_sol",
           "upper": 135.63360519409179
          },
          {
           "lower": 1.0149075865745545,
           "timepoint": 14.90000057220459,
           "trajectory": "D_sol",
           "upper": 139.11655197143554
          },
          {
           "lower": 1.0401232212781906,
           "timepoint": 15,
           "trajectory": "D_sol",
           "upper": 142.68362808227536
          },
          {
           "lower": 1.0659257769584656,
           "timepoint": 15.100000381469727,
           "trajectory": "D_sol",
           "upper": 146.33686447143552
          },
          {
           "lower": 1.0923273622989655,
           "timepoint": 15.199999809265137,
           "trajectory": "D_sol",
           "upper": 150.07831420898435
          },
          {
           "lower": 1.119342166185379,
           "timepoint": 15.300000190734863,
           "trajectory": "D_sol",
           "upper": 153.91014556884764
          },
          {
           "lower": 1.1469843447208405,
           "timepoint": 15.40000057220459,
           "trajectory": "D_sol",
           "upper": 157.83446655273434
          },
          {
           "lower": 1.1752677321434022,
           "timepoint": 15.5,
           "trajectory": "D_sol",
           "upper": 161.85350265502927
          },
          {
           "lower": 1.2042078971862793,
           "timepoint": 15.600000381469727,
           "trajectory": "D_sol",
           "upper": 165.96956939697264
          },
          {
           "lower": 1.2338223129510881,
           "timepoint": 15.699999809265137,
           "trajectory": "D_sol",
           "upper": 170.18492584228514
          },
          {
           "lower": 1.2641223818063736,
           "timepoint": 15.800000190734863,
           "trajectory": "D_sol",
           "upper": 174.50204238891598
          },
          {
           "lower": 1.2951259464025497,
           "timepoint": 15.90000057220459,
           "trajectory": "D_sol",
           "upper": 178.92335815429686
          },
          {
           "lower": 1.326848465204239,
           "timepoint": 16,
           "trajectory": "D_sol",
           "upper": 183.451399230957
          },
          {
           "lower": 1.3593076258897783,
           "timepoint": 16.100000381469727,
           "trajectory": "D_sol",
           "upper": 188.08867416381833
          },
          {
           "lower": 1.392520046234131,
           "timepoint": 16.200000762939453,
           "trajectory": "D_sol",
           "upper": 192.83778991699216
          },
          {
           "lower": 1.4265030682086945,
           "timepoint": 16.30000114440918,
           "trajectory": "D_sol",
           "upper": 197.70146865844725
          },
          {
           "lower": 1.461272192001343,
           "timepoint": 16.399999618530273,
           "trajectory": "D_sol",
           "upper": 202.68240661621093
          },
          {
           "lower": 1.496849673986435,
           "timepoint": 16.5,
           "trajectory": "D_sol",
           "upper": 207.78355789184567
          },
          {
           "lower": 1.5332524597644808,
           "timepoint": 16.600000381469727,
           "trajectory": "D_sol",
           "upper": 213.00772552490233
          },
          {
           "lower": 1.5704995095729828,
           "timepoint": 16.700000762939453,
           "trajectory": "D_sol",
           "upper": 218.35773925781248
          },
          {
           "lower": 1.6086104631423952,
           "timepoint": 16.80000114440918,
           "trajectory": "D_sol",
           "upper": 223.83686447143552
          },
          {
           "lower": 1.6476047754287722,
           "timepoint": 16.899999618530273,
           "trajectory": "D_sol",
           "upper": 229.44798736572264
          },
          {
           "lower": 1.6875043511390686,
           "timepoint": 17,
           "trajectory": "D_sol",
           "upper": 235.1944770812988
          },
          {
           "lower": 1.72832909822464,
           "timepoint": 17.100000381469727,
           "trajectory": "D_sol",
           "upper": 241.0794883728027
          },
          {
           "lower": 1.7700947880744935,
           "timepoint": 17.200000762939453,
           "trajectory": "D_sol",
           "upper": 247.1064186096191
          },
          {
           "lower": 1.8128325700759889,
           "timepoint": 17.30000114440918,
           "trajectory": "D_sol",
           "upper": 253.2786262512207
          },
          {
           "lower": 1.856560492515564,
           "timepoint": 17.399999618530273,
           "trajectory": "D_sol",
           "upper": 259.5994232177734
          },
          {
           "lower": 1.901302880048752,
           "timepoint": 17.5,
           "trajectory": "D_sol",
           "upper": 266.07267913818356
          },
          {
           "lower": 1.9470821142196657,
           "timepoint": 17.600000381469727,
           "trajectory": "D_sol",
           "upper": 272.7019989013672
          },
          {
           "lower": 1.993922519683838,
           "timepoint": 17.700000762939453,
           "trajectory": "D_sol",
           "upper": 279.4910324096679
          },
          {
           "lower": 2.0418483436107637,
           "timepoint": 17.80000114440918,
           "trajectory": "D_sol",
           "upper": 286.44365081787106
          },
          {
           "lower": 2.0908818781375884,
           "timepoint": 17.899999618530273,
           "trajectory": "D_sol",
           "upper": 293.56373748779293
          },
          {
           "lower": 2.1410539209842683,
           "timepoint": 18,
           "trajectory": "D_sol",
           "upper": 300.8554733276367
          },
          {
           "lower": 2.192388939857483,
           "timepoint": 18.100000381469727,
           "trajectory": "D_sol",
           "upper": 308.3226470947265
          },
          {
           "lower": 2.2449124455451965,
           "timepoint": 18.200000762939453,
           "trajectory": "D_sol",
           "upper": 315.9698745727539
          },
          {
           "lower": 2.298652708530426,
           "timepoint": 18.30000114440918,
           "trajectory": "D_sol",
           "upper": 323.8013381958007
          },
          {
           "lower": 2.3536369085311892,
           "timepoint": 18.399999618530273,
           "trajectory": "D_sol",
           "upper": 331.8212753295898
          },
          {
           "lower": 2.409896743297577,
           "timepoint": 18.5,
           "trajectory": "D_sol",
           "upper": 340.0344284057617
          },
          {
           "lower": 2.4674590945243837,
           "timepoint": 18.600000381469727,
           "trajectory": "D_sol",
           "upper": 348.44584808349606
          },
          {
           "lower": 2.5263552486896517,
           "timepoint": 18.700000762939453,
           "trajectory": "D_sol",
           "upper": 357.05954132080075
          },
          {
           "lower": 2.586615371704102,
           "timepoint": 18.80000114440918,
           "trajectory": "D_sol",
           "upper": 365.88073577880857
          },
          {
           "lower": 2.648268210887909,
           "timepoint": 18.899999618530273,
           "trajectory": "D_sol",
           "upper": 374.9100143432617
          },
          {
           "lower": 2.7113500714302066,
           "timepoint": 19,
           "trajectory": "D_sol",
           "upper": 384.15309600830074
          },
          {
           "lower": 2.7758914828300476,
           "timepoint": 19.100000381469727,
           "trajectory": "D_sol",
           "upper": 393.61867980957027
          },
          {
           "lower": 2.8419318199157715,
           "timepoint": 19.200000762939453,
           "trajectory": "D_sol",
           "upper": 403.3118255615234
          },
          {
           "lower": 2.9094977617263797,
           "timepoint": 19.30000114440918,
           "trajectory": "D_sol",
           "upper": 413.23845672607416
          },
          {
           "lower": 2.9786278128623964,
           "timepoint": 19.399999618530273,
           "trajectory": "D_sol",
           "upper": 423.4036224365234
          },
          {
           "lower": 3.049358308315277,
           "timepoint": 19.5,
           "trajectory": "D_sol",
           "upper": 433.8128814697265
          },
          {
           "lower": 3.121725022792816,
           "timepoint": 19.600000381469727,
           "trajectory": "D_sol",
           "upper": 444.4726150512695
          },
          {
           "lower": 3.1957649111747743,
           "timepoint": 19.700000762939453,
           "trajectory": "D_sol",
           "upper": 455.3884338378906
          },
          {
           "lower": 3.2715198874473574,
           "timepoint": 19.80000114440918,
           "trajectory": "D_sol",
           "upper": 466.56623229980465
          },
          {
           "lower": 3.3490117669105532,
           "timepoint": 19.899999618530273,
           "trajectory": "D_sol",
           "upper": 478.01198730468747
          },
          {
           "lower": 3.4282989263534547,
           "timepoint": 20,
           "trajectory": "D_sol",
           "upper": 489.7318832397461
          },
          {
           "lower": 3.509400248527527,
           "timepoint": 20.100000381469727,
           "trajectory": "D_sol",
           "upper": 501.73173217773433
          },
          {
           "lower": 3.5923622727394107,
           "timepoint": 20.200000762939453,
           "trajectory": "D_sol",
           "upper": 514.0173126220703
          },
          {
           "lower": 3.6772141337394717,
           "timepoint": 20.30000114440918,
           "trajectory": "D_sol",
           "upper": 526.5938385009765
          },
          {
           "lower": 3.7639875650405887,
           "timepoint": 20.399999618530273,
           "trajectory": "D_sol",
           "upper": 539.466552734375
          },
          {
           "lower": 3.852708959579468,
           "timepoint": 20.5,
           "trajectory": "D_sol",
           "upper": 552.6406036376953
          },
          {
           "lower": 3.9434081673622132,
           "timepoint": 20.600000381469727,
           "trajectory": "D_sol",
           "upper": 566.1201721191406
          },
          {
           "lower": 4.036105620861053,
           "timepoint": 20.700000762939453,
           "trajectory": "D_sol",
           "upper": 579.9083587646484
          },
          {
           "lower": 4.130822646617889,
           "timepoint": 20.80000114440918,
           "trajectory": "D_sol",
           "upper": 594.0131103515624
          },
          {
           "lower": 4.227575063705444,
           "timepoint": 20.899999618530273,
           "trajectory": "D_sol",
           "upper": 608.4325225830078
          },
          {
           "lower": 4.3263799309730535,
           "timepoint": 21,
           "trajectory": "D_sol",
           "upper": 623.1714324951172
          },
          {
           "lower": 4.427247333526611,
           "timepoint": 21.100000381469727,
           "trajectory": "D_sol",
           "upper": 638.2346069335937
          },
          {
           "lower": 4.530186474323273,
           "timepoint": 21.200000762939453,
           "trajectory": "D_sol",
           "upper": 653.6213836669922
          },
          {
           "lower": 4.635212671756745,
           "timepoint": 21.30000114440918,
           "trajectory": "D_sol",
           "upper": 669.3346862792969
          },
          {
           "lower": 4.7423199176788335,
           "timepoint": 21.399999618530273,
           "trajectory": "D_sol",
           "upper": 685.3767608642578
          },
          {
           "lower": 4.851517724990845,
           "timepoint": 21.5,
           "trajectory": "D_sol",
           "upper": 701.7486450195312
          },
          {
           "lower": 4.96280552148819,
           "timepoint": 21.600000381469727,
           "trajectory": "D_sol",
           "upper": 718.4513153076172
          },
          {
           "lower": 5.076184916496278,
           "timepoint": 21.700000762939453,
           "trajectory": "D_sol",
           "upper": 735.4860595703125
          },
          {
           "lower": 5.19165130853653,
           "timepoint": 21.80000114440918,
           "trajectory": "D_sol",
           "upper": 752.8522705078125
          },
          {
           "lower": 5.309196662902832,
           "timepoint": 21.899999618530273,
           "trajectory": "D_sol",
           "upper": 770.5514617919922
          },
          {
           "lower": 5.428821694850922,
           "timepoint": 22,
           "trajectory": "D_sol",
           "upper": 788.5840728759765
          },
          {
           "lower": 5.550513792037965,
           "timepoint": 22.100000381469727,
           "trajectory": "D_sol",
           "upper": 806.9498870849609
          },
          {
           "lower": 5.674287509918213,
           "timepoint": 22.200000762939453,
           "trajectory": "D_sol",
           "upper": 825.6487609863282
          },
          {
           "lower": 5.800103521347046,
           "timepoint": 22.30000114440918,
           "trajectory": "D_sol",
           "upper": 844.6787017822265
          },
          {
           "lower": 5.927960324287415,
           "timepoint": 22.399999618530273,
           "trajectory": "D_sol",
           "upper": 864.0413879394531
          },
          {
           "lower": 6.05785129070282,
           "timepoint": 22.5,
           "trajectory": "D_sol",
           "upper": 883.7358520507812
          },
          {
           "lower": 6.189760971069337,
           "timepoint": 22.600000381469727,
           "trajectory": "D_sol",
           "upper": 903.7609924316406
          },
          {
           "lower": 6.3236729383468635,
           "timepoint": 22.700000762939453,
           "trajectory": "D_sol",
           "upper": 924.1160034179687
          },
          {
           "lower": 6.459576869010926,
           "timepoint": 22.80000114440918,
           "trajectory": "D_sol",
           "upper": 944.4917602539062
          },
          {
           "lower": 6.597453522682191,
           "timepoint": 22.899999618530273,
           "trajectory": "D_sol",
           "upper": 964.8866729736328
          },
          {
           "lower": 6.737291526794434,
           "timepoint": 23,
           "trajectory": "D_sol",
           "upper": 985.5888671875
          },
          {
           "lower": 6.879071474075317,
           "timepoint": 23.100000381469727,
           "trajectory": "D_sol",
           "upper": 1006.5968170166016
          },
          {
           "lower": 7.022783970832825,
           "timepoint": 23.200000762939453,
           "trajectory": "D_sol",
           "upper": 1027.909112548828
          },
          {
           "lower": 7.168399071693421,
           "timepoint": 23.30000114440918,
           "trajectory": "D_sol",
           "upper": 1049.5244018554688
          },
          {
           "lower": 7.315899300575257,
           "timepoint": 23.399999618530273,
           "trajectory": "D_sol",
           "upper": 1071.4398315429687
          },
          {
           "lower": 7.465272283554078,
           "timepoint": 23.5,
           "trajectory": "D_sol",
           "upper": 1093.655517578125
          },
          {
           "lower": 7.616496825218201,
           "timepoint": 23.600000381469727,
           "trajectory": "D_sol",
           "upper": 1116.1691528320312
          },
          {
           "lower": 7.7695591211318975,
           "timepoint": 23.700000762939453,
           "trajectory": "D_sol",
           "upper": 1138.97890625
          },
          {
           "lower": 7.924427938461304,
           "timepoint": 23.80000114440918,
           "trajectory": "D_sol",
           "upper": 1162.0828491210937
          },
          {
           "lower": 8.081084632873536,
           "timepoint": 23.899999618530273,
           "trajectory": "D_sol",
           "upper": 1185.4790588378905
          },
          {
           "lower": 8.23951280117035,
           "timepoint": 24,
           "trajectory": "D_sol",
           "upper": 1209.1648986816406
          },
          {
           "lower": 8.399689841270447,
           "timepoint": 24.100000381469727,
           "trajectory": "D_sol",
           "upper": 1233.1399780273437
          },
          {
           "lower": 8.561593770980835,
           "timepoint": 24.200000762939453,
           "trajectory": "D_sol",
           "upper": 1257.4015380859375
          },
          {
           "lower": 8.725221538543702,
           "timepoint": 24.30000114440918,
           "trajectory": "D_sol",
           "upper": 1281.9477294921874
          },
          {
           "lower": 8.890523052215578,
           "timepoint": 24.399999618530273,
           "trajectory": "D_sol",
           "upper": 1306.776171875
          },
          {
           "lower": 9.057493281364442,
           "timepoint": 24.5,
           "trajectory": "D_sol",
           "upper": 1331.8856201171875
          },
          {
           "lower": 9.22610948085785,
           "timepoint": 24.600000381469727,
           "trajectory": "D_sol",
           "upper": 1357.27373046875
          },
          {
           "lower": 9.39635102748871,
           "timepoint": 24.700000762939453,
           "trajectory": "D_sol",
           "upper": 1382.937872314453
          },
          {
           "lower": 9.568165946006776,
           "timepoint": 24.80000114440918,
           "trajectory": "D_sol",
           "upper": 1408.87666015625
          },
          {
           "lower": 9.741573762893678,
           "timepoint": 24.899999618530273,
           "trajectory": "D_sol",
           "upper": 1435.087176513672
          },
          {
           "lower": 9.916542840003968,
           "timepoint": 25,
           "trajectory": "D_sol",
           "upper": 1461.5684753417968
          },
          {
           "lower": 10.09304509162903,
           "timepoint": 25.100000381469727,
           "trajectory": "D_sol",
           "upper": 1488.3180114746094
          },
          {
           "lower": 10.27106068134308,
           "timepoint": 25.200000762939453,
           "trajectory": "D_sol",
           "upper": 1515.333898925781
          },
          {
           "lower": 10.450567054748536,
           "timepoint": 25.30000114440918,
           "trajectory": "D_sol",
           "upper": 1542.613702392578
          },
          {
           "lower": 10.63154046535492,
           "timepoint": 25.399999618530273,
           "trajectory": "D_sol",
           "upper": 1570.1550903320312
          },
          {
           "lower": 10.813967919349672,
           "timepoint": 25.5,
           "trajectory": "D_sol",
           "upper": 1597.9567443847654
          },
          {
           "lower": 10.997820353507997,
           "timepoint": 25.600000381469727,
           "trajectory": "D_sol",
           "upper": 1626.0162170410156
          },
          {
           "lower": 11.183079648017884,
           "timepoint": 25.700000762939453,
           "trajectory": "D_sol",
           "upper": 1654.331134033203
          },
          {
           "lower": 11.369723296165468,
           "timepoint": 25.80000114440918,
           "trajectory": "D_sol",
           "upper": 1682.9013793945312
          },
          {
           "lower": 11.55772774219513,
           "timepoint": 25.899999618530273,
           "trajectory": "D_sol",
           "upper": 1711.722033691406
          },
          {
           "lower": 11.747079300880433,
           "timepoint": 26,
           "trajectory": "D_sol",
           "upper": 1740.793048095703
          },
          {
           "lower": 11.937749195098878,
           "timepoint": 26.100000381469727,
           "trajectory": "D_sol",
           "upper": 1770.1118591308593
          },
          {
           "lower": 12.129721546173096,
           "timepoint": 26.200000762939453,
           "trajectory": "D_sol",
           "upper": 1799.6763916015625
          },
          {
           "lower": 12.322976732254029,
           "timepoint": 26.30000114440918,
           "trajectory": "D_sol",
           "upper": 1829.4847045898437
          },
          {
           "lower": 12.517489194869995,
           "timepoint": 26.399999618530273,
           "trajectory": "D_sol",
           "upper": 1859.5342346191405
          },
          {
           "lower": 12.713246774673463,
           "timepoint": 26.5,
           "trajectory": "D_sol",
           "upper": 1889.827520751953
          },
          {
           "lower": 12.910222339630128,
           "timepoint": 26.600000381469727,
           "trajectory": "D_sol",
           "upper": 1920.356884765625
          },
          {
           "lower": 13.10840072631836,
           "timepoint": 26.700000762939453,
           "trajectory": "D_sol",
           "upper": 1951.1224609375
          },
          {
           "lower": 13.307747173309327,
           "timepoint": 26.80000114440918,
           "trajectory": "D_sol",
           "upper": 1982.1225280761716
          },
          {
           "lower": 13.508261251449586,
           "timepoint": 26.899999618530273,
           "trajectory": "D_sol",
           "upper": 2013.354766845703
          },
          {
           "lower": 13.70992250442505,
           "timepoint": 27,
           "trajectory": "D_sol",
           "upper": 2044.817980957031
          },
          {
           "lower": 13.912704706192017,
           "timepoint": 27.100000381469727,
           "trajectory": "D_sol",
           "upper": 2076.51025390625
          },
          {
           "lower": 14.116590976715088,
           "timepoint": 27.200000762939453,
           "trajectory": "D_sol",
           "upper": 2108.4296752929686
          },
          {
           "lower": 14.321563243865967,
           "timepoint": 27.30000114440918,
           "trajectory": "D_sol",
           "upper": 2140.5773315429688
          },
          {
           "lower": 14.527598714828493,
           "timepoint": 27.399999618530273,
           "trajectory": "D_sol",
           "upper": 2172.946398925781
          },
          {
           "lower": 14.734701490402223,
           "timepoint": 27.5,
           "trajectory": "D_sol",
           "upper": 2205.538439941406
          },
          {
           "lower": 14.94282488822937,
           "timepoint": 27.600000381469727,
           "trajectory": "D_sol",
           "upper": 2238.350354003906
          },
          {
           "lower": 15.151962089538575,
           "timepoint": 27.700000762939453,
           "trajectory": "D_sol",
           "upper": 2271.381567382812
          },
          {
           "lower": 15.362096881866456,
           "timepoint": 27.80000114440918,
           "trajectory": "D_sol",
           "upper": 2304.629650878906
          },
          {
           "lower": 15.573206806182862,
           "timepoint": 27.899999618530273,
           "trajectory": "D_sol",
           "upper": 2338.0928710937496
          },
          {
           "lower": 15.785283470153809,
           "timepoint": 28,
           "trajectory": "D_sol",
           "upper": 2371.772717285156
          },
          {
           "lower": 15.998305130004884,
           "timepoint": 28.100000381469727,
           "trajectory": "D_sol",
           "upper": 2405.6636962890625
          },
          {
           "lower": 16.212261199951172,
           "timepoint": 28.200000762939453,
           "trajectory": "D_sol",
           "upper": 2439.7657592773435
          },
          {
           "lower": 16.427114963531494,
           "timepoint": 28.30000114440918,
           "trajectory": "D_sol",
           "upper": 2474.077465820312
          },
          {
           "lower": 16.642867422103883,
           "timepoint": 28.399999618530273,
           "trajectory": "D_sol",
           "upper": 2508.5972534179687
          },
          {
           "lower": 16.859505605697635,
           "timepoint": 28.5,
           "trajectory": "D_sol",
           "upper": 2543.324047851562
          },
          {
           "lower": 17.077008914947513,
           "timepoint": 28.600000381469727,
           "trajectory": "D_sol",
           "upper": 2578.256604003906
          },
          {
           "lower": 17.295358657836914,
           "timepoint": 28.700000762939453,
           "trajectory": "D_sol",
           "upper": 2613.3934326171875
          },
          {
           "lower": 17.51453971862793,
           "timepoint": 28.80000114440918,
           "trajectory": "D_sol",
           "upper": 2648.7329956054687
          },
          {
           "lower": 17.734538078308105,
           "timepoint": 28.899999618530273,
           "trajectory": "D_sol",
           "upper": 2684.264794921875
          },
          {
           "lower": 17.955342006683352,
           "timepoint": 29,
           "trajectory": "D_sol",
           "upper": 2720.0034179687495
          },
          {
           "lower": 18.17695393562317,
           "timepoint": 29.100000381469727,
           "trajectory": "D_sol",
           "upper": 2755.9406616210936
          },
          {
           "lower": 18.399326181411745,
           "timepoint": 29.200000762939453,
           "trajectory": "D_sol",
           "upper": 2792.0748779296873
          },
          {
           "lower": 18.62245650291443,
           "timepoint": 29.30000114440918,
           "trajectory": "D_sol",
           "upper": 2828.3936401367187
          },
          {
           "lower": 18.846329784393312,
           "timepoint": 29.399999618530273,
           "trajectory": "D_sol",
           "upper": 2864.8971679687497
          },
          {
           "lower": 19.070936632156375,
           "timepoint": 29.5,
           "trajectory": "D_sol",
           "upper": 2901.5944091796873
          },
          {
           "lower": 19.296256637573244,
           "timepoint": 29.600000381469727,
           "trajectory": "D_sol",
           "upper": 2938.4836669921874
          },
          {
           "lower": 19.522280168533328,
           "timepoint": 29.700000762939453,
           "trajectory": "D_sol",
           "upper": 2975.563696289062
          },
          {
           "lower": 19.7489887714386,
           "timepoint": 29.80000114440918,
           "trajectory": "D_sol",
           "upper": 3012.838391113281
          },
          {
           "lower": 19.97645354270935,
           "timepoint": 29.899999618530273,
           "trajectory": "D_sol",
           "upper": 3050.297229003906
          },
          {
           "lower": 20.20453352928162,
           "timepoint": 30,
           "trajectory": "D_sol",
           "upper": 3087.9449218749996
          },
          {
           "lower": 20.43326621055603,
           "timepoint": 30.100000381469727,
           "trajectory": "D_sol",
           "upper": 3125.779028320312
          },
          {
           "lower": 20.662642002105713,
           "timepoint": 30.200000762939453,
           "trajectory": "D_sol",
           "upper": 3163.7985839843745
          },
          {
           "lower": 20.892647933959964,
           "timepoint": 30.30000114440918,
           "trajectory": "D_sol",
           "upper": 3202.0023681640623
          },
          {
           "lower": 21.123268699645998,
           "timepoint": 30.399999618530273,
           "trajectory": "D_sol",
           "upper": 3240.389135742187
          },
          {
           "lower": 21.354498815536502,
           "timepoint": 30.5,
           "trajectory": "D_sol",
           "upper": 3278.9589111328123
          },
          {
           "lower": 21.586324977874757,
           "timepoint": 30.600000381469727,
           "trajectory": "D_sol",
           "upper": 3317.7097534179684
          },
          {
           "lower": 21.818736124038697,
           "timepoint": 30.700000762939453,
           "trajectory": "D_sol",
           "upper": 3356.64580078125
          },
          {
           "lower": 22.051715898513795,
           "timepoint": 30.80000114440918,
           "trajectory": "D_sol",
           "upper": 3395.7588867187496
          },
          {
           "lower": 22.285257959365847,
           "timepoint": 30.899999618530273,
           "trajectory": "D_sol",
           "upper": 3435.050561523437
          },
          {
           "lower": 22.519354915618898,
           "timepoint": 31,
           "trajectory": "D_sol",
           "upper": 3474.520239257812
          },
          {
           "lower": 22.75398998260498,
           "timepoint": 31.100000381469727,
           "trajectory": "D_sol",
           "upper": 3514.1681152343745
          },
          {
           "lower": 22.989155340194703,
           "timepoint": 31.19999885559082,
           "trajectory": "D_sol",
           "upper": 3553.9918823242183
          },
          {
           "lower": 23.22484564781189,
           "timepoint": 31.299999237060547,
           "trajectory": "D_sol",
           "upper": 3593.9918334960935
          },
          {
           "lower": 23.461047601699832,
           "timepoint": 31.399999618530273,
           "trajectory": "D_sol",
           "upper": 3634.1671997070307
          },
          {
           "lower": 23.697751808166505,
           "timepoint": 31.5,
           "trajectory": "D_sol",
           "upper": 3674.5163085937497
          },
          {
           "lower": 23.934946441650393,
           "timepoint": 31.600000381469727,
           "trajectory": "D_sol",
           "upper": 3715.039599609375
          },
          {
           "lower": 24.172620677948,
           "timepoint": 31.69999885559082,
           "trajectory": "D_sol",
           "upper": 3755.734643554687
          },
          {
           "lower": 24.410709190368653,
           "timepoint": 31.799999237060547,
           "trajectory": "D_sol",
           "upper": 3796.595031738281
          },
          {
           "lower": 24.64930763244629,
           "timepoint": 31.899999618530273,
           "trajectory": "D_sol",
           "upper": 3837.6332031249995
          },
          {
           "lower": 24.888359355926514,
           "timepoint": 32,
           "trajectory": "D_sol",
           "upper": 3878.8412597656247
          },
          {
           "lower": 25.127849483489992,
           "timepoint": 32.099998474121094,
           "trajectory": "D_sol",
           "upper": 3920.218969726562
          },
          {
           "lower": 25.367774200439456,
           "timepoint": 32.19999694824219,
           "trajectory": "D_sol",
           "upper": 3961.7662109374996
          },
          {
           "lower": 25.608137226104738,
           "timepoint": 32.29999923706055,
           "trajectory": "D_sol",
           "upper": 4003.483386230468
          },
          {
           "lower": 25.848917675018313,
           "timepoint": 32.400001525878906,
           "trajectory": "D_sol",
           "upper": 4045.3686889648434
          },
          {
           "lower": 26.090097332000735,
           "timepoint": 32.5,
           "trajectory": "D_sol",
           "upper": 4087.419702148437
          },
          {
           "lower": 26.331682777404787,
           "timepoint": 32.599998474121094,
           "trajectory": "D_sol",
           "upper": 4129.637377929687
          },
          {
           "lower": 26.57366580963135,
           "timepoint": 32.69999694824219,
           "trajectory": "D_sol",
           "upper": 4172.022509765625
          },
          {
           "lower": 26.81604042053223,
           "timepoint": 32.79999923706055,
           "trajectory": "D_sol",
           "upper": 4214.5740966796875
          },
          {
           "lower": 27.058769702911377,
           "timepoint": 32.900001525878906,
           "trajectory": "D_sol",
           "upper": 4257.297192382812
          },
          {
           "lower": 27.30187873840332,
           "timepoint": 33,
           "trajectory": "D_sol",
           "upper": 4300.178759765625
          },
          {
           "lower": 27.545352649688724,
           "timepoint": 33.099998474121094,
           "trajectory": "D_sol",
           "upper": 4343.224316406249
          },
          {
           "lower": 27.789178752899172,
           "timepoint": 33.19999694824219,
           "trajectory": "D_sol",
           "upper": 4386.434375
          },
          {
           "lower": 28.033362388610843,
           "timepoint": 33.29999923706055,
           "trajectory": "D_sol",
           "upper": 4429.808349609374
          },
          {
           "lower": 28.277890396118167,
           "timepoint": 33.400001525878906,
           "trajectory": "D_sol",
           "upper": 4473.346801757812
          },
          {
           "lower": 28.522740650177003,
           "timepoint": 33.5,
           "trajectory": "D_sol",
           "upper": 4517.044970703125
          },
          {
           "lower": 28.767920207977298,
           "timepoint": 33.599998474121094,
           "trajectory": "D_sol",
           "upper": 4560.906103515625
          },
          {
           "lower": 29.01341609954834,
           "timepoint": 33.69999694824219,
           "trajectory": "D_sol",
           "upper": 4604.928369140624
          },
          {
           "lower": 29.25924110412598,
           "timepoint": 33.79999923706055,
           "trajectory": "D_sol",
           "upper": 4649.114208984374
          },
          {
           "lower": 29.505373001098636,
           "timepoint": 33.900001525878906,
           "trajectory": "D_sol",
           "upper": 4693.460668945312
          },
          {
           "lower": 29.751800441741945,
           "timepoint": 34,
           "trajectory": "D_sol",
           "upper": 4737.966235351562
          },
          {
           "lower": 29.99851818084717,
           "timepoint": 34.099998474121094,
           "trajectory": "D_sol",
           "upper": 4782.631542968749
          },
          {
           "lower": 30.245527648925783,
           "timepoint": 34.19999694824219,
           "trajectory": "D_sol",
           "upper": 4827.469897460937
          },
          {
           "lower": 30.49282913208008,
           "timepoint": 34.29999923706055,
           "trajectory": "D_sol",
           "upper": 4872.458764648437
          },
          {
           "lower": 30.740410900115968,
           "timepoint": 34.400001525878906,
           "trajectory": "D_sol",
           "upper": 4917.607275390625
          },
          {
           "lower": 30.98825674057007,
           "timepoint": 34.5,
           "trajectory": "D_sol",
           "upper": 4962.913940429687
          },
          {
           "lower": 31.236368179321293,
           "timepoint": 34.599998474121094,
           "trajectory": "D_sol",
           "upper": 5008.379150390624
          },
          {
           "lower": 31.484737777709963,
           "timepoint": 34.69999694824219,
           "trajectory": "D_sol",
           "upper": 5054.004150390624
          },
          {
           "lower": 31.73338212966919,
           "timepoint": 34.79999923706055,
           "trajectory": "D_sol",
           "upper": 5099.787451171875
          },
          {
           "lower": 31.98226709365845,
           "timepoint": 34.900001525878906,
           "trajectory": "D_sol",
           "upper": 5145.730371093749
          },
          {
           "lower": 32.23139743804932,
           "timepoint": 35,
           "trajectory": "D_sol",
           "upper": 5191.829516601562
          },
          {
           "lower": 32.480768871307376,
           "timepoint": 35.099998474121094,
           "trajectory": "D_sol",
           "upper": 5238.086425781249
          },
          {
           "lower": 32.730374050140384,
           "timepoint": 35.19999694824219,
           "trajectory": "D_sol",
           "upper": 5284.501000976562
          },
          {
           "lower": 32.980122566223145,
           "timepoint": 35.29999923706055,
           "trajectory": "D_sol",
           "upper": 5331.074340820312
          },
          {
           "lower": 33.23017339706421,
           "timepoint": 35.400001525878906,
           "trajectory": "D_sol",
           "upper": 5377.804882812499
          },
          {
           "lower": 33.48043546676636,
           "timepoint": 35.5,
           "trajectory": "D_sol",
           "upper": 5424.691625976562
          },
          {
           "lower": 33.73091621398926,
           "timepoint": 35.599998474121094,
           "trajectory": "D_sol",
           "upper": 5471.732812499999
          },
          {
           "lower": 33.981604480743414,
           "timepoint": 35.69999694824219,
           "trajectory": "D_sol",
           "upper": 5518.932177734374
          },
          {
           "lower": 34.232511425018316,
           "timepoint": 35.79999923706055,
           "trajectory": "D_sol",
           "upper": 5566.289746093749
          },
          {
           "lower": 34.48362588882446,
           "timepoint": 35.900001525878906,
           "trajectory": "D_sol",
           "upper": 5613.804565429687
          },
          {
           "lower": 34.734925365448,
           "timepoint": 36,
           "trajectory": "D_sol",
           "upper": 5661.472705078124
          },
          {
           "lower": 34.98641748428345,
           "timepoint": 36.099998474121094,
           "trajectory": "D_sol",
           "upper": 5709.298950195312
          },
          {
           "lower": 35.23809509277344,
           "timepoint": 36.19999694824219,
           "trajectory": "D_sol",
           "upper": 5757.280761718749
          },
          {
           "lower": 35.489978599548344,
           "timepoint": 36.29999923706055,
           "trajectory": "D_sol",
           "upper": 5805.420336914061
          },
          {
           "lower": 35.7420433998108,
           "timepoint": 36.400001525878906,
           "trajectory": "D_sol",
           "upper": 5853.715771484374
          },
          {
           "lower": 35.994274425506596,
           "timepoint": 36.5,
           "trajectory": "D_sol",
           "upper": 5902.165502929687
          },
          {
           "lower": 36.246682739257814,
           "timepoint": 36.599998474121094,
           "trajectory": "D_sol",
           "upper": 5950.77109375
          },
          {
           "lower": 36.49912357330322,
           "timepoint": 36.69999694824219,
           "trajectory": "D_sol",
           "upper": 5999.532470703124
          },
          {
           "lower": 36.75185384750367,
           "timepoint": 36.79999923706055,
           "trajectory": "D_sol",
           "upper": 6048.451196289062
          },
          {
           "lower": 37.00474662780762,
           "timepoint": 36.900001525878906,
           "trajectory": "D_sol",
           "upper": 6097.526220703125
          },
          {
           "lower": 37.25777969360352,
           "timepoint": 37,
           "trajectory": "D_sol",
           "upper": 6146.755102539062
          },
          {
           "lower": 37.510971260070804,
           "timepoint": 37.099998474121094,
           "trajectory": "D_sol",
           "upper": 6196.139843749999
          },
          {
           "lower": 37.7643141746521,
           "timepoint": 37.19999694824219,
           "trajectory": "D_sol",
           "upper": 6245.679931640624
          },
          {
           "lower": 38.017808532714845,
           "timepoint": 37.29999923706055,
           "trajectory": "D_sol",
           "upper": 6295.367626953124
          },
          {
           "lower": 38.27144651412964,
           "timepoint": 37.400001525878906,
           "trajectory": "D_sol",
           "upper": 6345.219970703124
          },
          {
           "lower": 38.525220775604254,
           "timepoint": 37.5,
           "trajectory": "D_sol",
           "upper": 6395.225781249999
          },
          {
           "lower": 38.77912349700928,
           "timepoint": 37.599998474121094,
           "trajectory": "D_sol",
           "upper": 6445.386450195311
          },
          {
           "lower": 39.03316640853882,
           "timepoint": 37.69999694824219,
           "trajectory": "D_sol",
           "upper": 6495.703491210937
          },
          {
           "lower": 39.28734579086304,
           "timepoint": 37.79999923706055,
           "trajectory": "D_sol",
           "upper": 6546.178784179687
          },
          {
           "lower": 39.541653919219975,
           "timepoint": 37.900001525878906,
           "trajectory": "D_sol",
           "upper": 6596.809033203124
          },
          {
           "lower": 39.796072292327885,
           "timepoint": 38,
           "trajectory": "D_sol",
           "upper": 6647.593164062499
          },
          {
           "lower": 40.05061569213868,
           "timepoint": 38.099998474121094,
           "trajectory": "D_sol",
           "upper": 6698.533203124999
          },
          {
           "lower": 40.305367183685306,
           "timepoint": 38.19999694824219,
           "trajectory": "D_sol",
           "upper": 6749.628637695311
          },
          {
           "lower": 40.5601676940918,
           "timepoint": 38.29999923706055,
           "trajectory": "D_sol",
           "upper": 6800.882836914062
          },
          {
           "lower": 40.81507816314698,
           "timepoint": 38.400001525878906,
           "trajectory": "D_sol",
           "upper": 6852.292993164062
          },
          {
           "lower": 41.070095252990725,
           "timepoint": 38.5,
           "trajectory": "D_sol",
           "upper": 6903.857055664062
          },
          {
           "lower": 41.32521829605103,
           "timepoint": 38.599998474121094,
           "trajectory": "D_sol",
           "upper": 6955.577514648437
          },
          {
           "lower": 41.58044786453247,
           "timepoint": 38.69999694824219,
           "trajectory": "D_sol",
           "upper": 7007.454785156249
          },
          {
           "lower": 41.835791015625006,
           "timepoint": 38.79999923706055,
           "trajectory": "D_sol",
           "upper": 7059.489062499999
          },
          {
           "lower": 42.091233253479004,
           "timepoint": 38.900001525878906,
           "trajectory": "D_sol",
           "upper": 7111.681616210936
          },
          {
           "lower": 42.34676284790039,
           "timepoint": 39,
           "trajectory": "D_sol",
           "upper": 7164.027661132812
          },
          {
           "lower": 42.60239143371582,
           "timepoint": 39.099998474121094,
           "trajectory": "D_sol",
           "upper": 7216.521777343749
          },
          {
           "lower": 42.85810928344727,
           "timepoint": 39.19999694824219,
           "trajectory": "D_sol",
           "upper": 7269.179785156249
          },
          {
           "lower": 43.11393556594849,
           "timepoint": 39.29999923706055,
           "trajectory": "D_sol",
           "upper": 7321.997558593749
          },
          {
           "lower": 43.369845962524415,
           "timepoint": 39.400001525878906,
           "trajectory": "D_sol",
           "upper": 7374.971801757812
          },
          {
           "lower": 43.625825595855716,
           "timepoint": 39.5,
           "trajectory": "D_sol",
           "upper": 7428.100952148437
          },
          {
           "lower": 43.88189630508423,
           "timepoint": 39.599998474121094,
           "trajectory": "D_sol",
           "upper": 7481.388037109374
          },
          {
           "lower": 44.138040161132814,
           "timepoint": 39.69999694824219,
           "trajectory": "D_sol",
           "upper": 7534.833032226561
          },
          {
           "lower": 44.39427881240845,
           "timepoint": 39.79999923706055,
           "trajectory": "D_sol",
           "upper": 7588.436499023436
          },
          {
           "lower": 44.650641250610356,
           "timepoint": 39.900001525878906,
           "trajectory": "D_sol",
           "upper": 7642.1979003906235
          },
          {
           "lower": 44.907028961181645,
           "timepoint": 40,
           "trajectory": "D_sol",
           "upper": 7696.115234374999
          },
          {
           "lower": 45.16349306106568,
           "timepoint": 40.099998474121094,
           "trajectory": "D_sol",
           "upper": 7750.191406249999
          },
          {
           "lower": 45.42003011703491,
           "timepoint": 40.19999694824219,
           "trajectory": "D_sol",
           "upper": 7804.425073242186
          },
          {
           "lower": 45.67665071487427,
           "timepoint": 40.29999923706055,
           "trajectory": "D_sol",
           "upper": 7858.819604492186
          },
          {
           "lower": 45.93333683013916,
           "timepoint": 40.400001525878906,
           "trajectory": "D_sol",
           "upper": 7913.372094726561
          },
          {
           "lower": 46.19008083343506,
           "timepoint": 40.5,
           "trajectory": "D_sol",
           "upper": 7968.082519531249
          },
          {
           "lower": 46.44688997268677,
           "timepoint": 40.599998474121094,
           "trajectory": "D_sol",
           "upper": 8022.950878906249
          },
          {
           "lower": 46.70375709533692,
           "timepoint": 40.69999694824219,
           "trajectory": "D_sol",
           "upper": 8077.978149414062
          },
          {
           "lower": 46.96070127487183,
           "timepoint": 40.79999923706055,
           "trajectory": "D_sol",
           "upper": 8133.167309570312
          },
          {
           "lower": 47.217705726623535,
           "timepoint": 40.900001525878906,
           "trajectory": "D_sol",
           "upper": 8188.515893554686
          },
          {
           "lower": 47.47475662231446,
           "timepoint": 41,
           "trajectory": "D_sol",
           "upper": 8244.022412109374
          },
          {
           "lower": 47.73186550140381,
           "timepoint": 41.099998474121094,
           "trajectory": "D_sol",
           "upper": 8299.687988281248
          },
          {
           "lower": 47.98903207778931,
           "timepoint": 41.19999694824219,
           "trajectory": "D_sol",
           "upper": 8355.513916015623
          },
          {
           "lower": 48.246263694763186,
           "timepoint": 41.29999923706055,
           "trajectory": "D_sol",
           "upper": 8411.5041015625
          },
          {
           "lower": 48.50354223251343,
           "timepoint": 41.400001525878906,
           "trajectory": "D_sol",
           "upper": 8467.652832031248
          },
          {
           "lower": 48.76086359024048,
           "timepoint": 41.5,
           "trajectory": "D_sol",
           "upper": 8523.96201171875
          },
          {
           "lower": 49.018202495574954,
           "timepoint": 41.599998474121094,
           "trajectory": "D_sol",
           "upper": 8580.430615234374
          },
          {
           "lower": 49.27561349868775,
           "timepoint": 41.69999694824219,
           "trajectory": "D_sol",
           "upper": 8637.062548828124
          },
          {
           "lower": 49.53307867050171,
           "timepoint": 41.79999923706055,
           "trajectory": "D_sol",
           "upper": 8693.856933593748
          },
          {
           "lower": 49.790590381622316,
           "timepoint": 41.900001525878906,
           "trajectory": "D_sol",
           "upper": 8750.813720703123
          },
          {
           "lower": 50.04813394546509,
           "timepoint": 42,
           "trajectory": "D_sol",
           "upper": 8807.929003906249
          },
          {
           "lower": 50.30572385787964,
           "timepoint": 42.099998474121094,
           "trajectory": "D_sol",
           "upper": 8865.208593749998
          },
          {
           "lower": 50.56334590911866,
           "timepoint": 42.19999694824219,
           "trajectory": "D_sol",
           "upper": 8922.648730468749
          },
          {
           "lower": 50.82102184295655,
           "timepoint": 42.29999923706055,
           "trajectory": "D_sol",
           "upper": 8980.255224609373
          },
          {
           "lower": 51.07873010635377,
           "timepoint": 42.400001525878906,
           "trajectory": "D_sol",
           "upper": 9038.026025390624
          },
          {
           "lower": 51.336465454101564,
           "timepoint": 42.5,
           "trajectory": "D_sol",
           "upper": 9095.958105468748
          },
          {
           "lower": 51.59423618316651,
           "timepoint": 42.599998474121094,
           "trajectory": "D_sol",
           "upper": 9154.052832031248
          },
          {
           "lower": 51.852038669586186,
           "timepoint": 42.69999694824219,
           "trajectory": "D_sol",
           "upper": 9212.311865234373
          },
          {
           "lower": 52.109884166717535,
           "timepoint": 42.79999923706055,
           "trajectory": "D_sol",
           "upper": 9270.738232421874
          },
          {
           "lower": 52.36776123046875,
           "timepoint": 42.900001525878906,
           "trajectory": "D_sol",
           "upper": 9329.316015624998
          },
          {
           "lower": 52.62565517425538,
           "timepoint": 43,
           "trajectory": "D_sol",
           "upper": 9388.066455078124
          },
          {
           "lower": 52.8835771560669,
           "timepoint": 43.099998474121094,
           "trajectory": "D_sol",
           "upper": 9446.982226562499
          },
          {
           "lower": 53.14152774810791,
           "timepoint": 43.19999694824219,
           "trajectory": "D_sol",
           "upper": 9506.063427734374
          },
          {
           "lower": 53.39951305389405,
           "timepoint": 43.29999923706055,
           "trajectory": "D_sol",
           "upper": 9565.312011718748
          },
          {
           "lower": 53.657599258422856,
           "timepoint": 43.400001525878906,
           "trajectory": "D_sol",
           "upper": 9624.726074218748
          },
          {
           "lower": 53.915637016296394,
           "timepoint": 43.5,
           "trajectory": "D_sol",
           "upper": 9684.304345703124
          },
          {
           "lower": 54.17369537353516,
           "timepoint": 43.599998474121094,
           "trajectory": "D_sol",
           "upper": 9744.048242187499
          },
          {
           "lower": 54.43178157806397,
           "timepoint": 43.69999694824219,
           "trajectory": "D_sol",
           "upper": 9803.960400390624
          },
          {
           "lower": 54.68989982604981,
           "timepoint": 43.79999923706055,
           "trajectory": "D_sol",
           "upper": 9864.041894531249
          },
          {
           "lower": 54.94803504943848,
           "timepoint": 43.900001525878906,
           "trajectory": "D_sol",
           "upper": 9924.288964843749
          },
          {
           "lower": 55.206183242797856,
           "timepoint": 44,
           "trajectory": "D_sol",
           "upper": 9984.703222656248
          },
          {
           "lower": 55.46434841156006,
           "timepoint": 44.099998474121094,
           "trajectory": "D_sol",
           "upper": 10045.284033203123
          },
          {
           "lower": 55.722533798217775,
           "timepoint": 44.19999694824219,
           "trajectory": "D_sol",
           "upper": 10106.033203124998
          },
          {
           "lower": 55.98074741363526,
           "timepoint": 44.29999923706055,
           "trajectory": "D_sol",
           "upper": 10166.953710937498
          },
          {
           "lower": 56.23897800445557,
           "timepoint": 44.400001525878906,
           "trajectory": "D_sol",
           "upper": 10228.043554687498
          },
          {
           "lower": 56.497214317321784,
           "timepoint": 44.5,
           "trajectory": "D_sol",
           "upper": 10289.298974609374
          },
          {
           "lower": 56.75546760559082,
           "timepoint": 44.599998474121094,
           "trajectory": "D_sol",
           "upper": 10350.724658203124
          },
          {
           "lower": 57.01373405456543,
           "timepoint": 44.69999694824219,
           "trajectory": "D_sol",
           "upper": 10412.319677734373
          },
          {
           "lower": 57.27201747894288,
           "timepoint": 44.79999923706055,
           "trajectory": "D_sol",
           "upper": 10474.087109374997
          },
          {
           "lower": 57.53032531738282,
           "timepoint": 44.900001525878906,
           "trajectory": "D_sol",
           "upper": 10536.030468749997
          },
          {
           "lower": 57.788627815246585,
           "timepoint": 45,
           "trajectory": "D_sol",
           "upper": 10598.138623046872
          },
          {
           "lower": 58.04694690704346,
           "timepoint": 45.099998474121094,
           "trajectory": "D_sol",
           "upper": 10660.417138671874
          },
          {
           "lower": 58.30526847839356,
           "timepoint": 45.19999694824219,
           "trajectory": "D_sol",
           "upper": 10722.866992187499
          },
          {
           "lower": 58.56358184814454,
           "timepoint": 45.29999923706055,
           "trajectory": "D_sol",
           "upper": 10785.492089843749
          },
          {
           "lower": 58.821926307678225,
           "timepoint": 45.400001525878906,
           "trajectory": "D_sol",
           "upper": 10848.288623046874
          },
          {
           "lower": 59.080272674560554,
           "timepoint": 45.5,
           "trajectory": "D_sol",
           "upper": 10911.255566406247
          },
          {
           "lower": 59.338625335693365,
           "timepoint": 45.599998474121094,
           "trajectory": "D_sol",
           "upper": 10974.394824218749
          },
          {
           "lower": 59.59698352813721,
           "timepoint": 45.69999694824219,
           "trajectory": "D_sol",
           "upper": 11037.707421874999
          },
          {
           "lower": 59.85535488128662,
           "timepoint": 45.79999923706055,
           "trajectory": "D_sol",
           "upper": 11101.198242187498
          },
          {
           "lower": 60.11373233795167,
           "timepoint": 45.900001525878906,
           "trajectory": "D_sol",
           "upper": 11164.861474609374
          },
          {
           "lower": 60.3720989227295,
           "timepoint": 46,
           "trajectory": "D_sol",
           "upper": 11228.696191406249
          },
          {
           "lower": 60.630476570129396,
           "timepoint": 46.099998474121094,
           "trajectory": "D_sol",
           "upper": 11292.706103515624
          },
          {
           "lower": 60.888860130310064,
           "timepoint": 46.20000076293945,
           "trajectory": "D_sol",
           "upper": 11356.895263671873
          },
          {
           "lower": 61.14723510742188,
           "timepoint": 46.29999923706055,
           "trajectory": "D_sol",
           "upper": 11421.254931640624
          },
          {
           "lower": 61.4056266784668,
           "timepoint": 46.400001525878906,
           "trajectory": "D_sol",
           "upper": 11485.794726562499
          },
          {
           "lower": 61.66399841308594,
           "timepoint": 46.5,
           "trajectory": "D_sol",
           "upper": 11550.508007812497
          },
          {
           "lower": 61.922376251220705,
           "timepoint": 46.599998474121094,
           "trajectory": "D_sol",
           "upper": 11615.398486328124
          },
          {
           "lower": 62.18075981140137,
           "timepoint": 46.70000076293945,
           "trajectory": "D_sol",
           "upper": 11680.467333984374
          },
          {
           "lower": 62.43913803100586,
           "timepoint": 46.79999923706055,
           "trajectory": "D_sol",
           "upper": 11745.711523437498
          },
          {
           "lower": 62.697526168823245,
           "timepoint": 46.900001525878906,
           "trajectory": "D_sol",
           "upper": 11811.135888671874
          },
          {
           "lower": 62.95588684082032,
           "timepoint": 47,
           "trajectory": "D_sol",
           "upper": 11876.736621093747
          },
          {
           "lower": 63.214246177673346,
           "timepoint": 47.099998474121094,
           "trajectory": "D_sol",
           "upper": 11942.498974609372
          },
          {
           "lower": 63.4726188659668,
           "timepoint": 47.20000076293945,
           "trajectory": "D_sol",
           "upper": 12008.456445312499
          },
          {
           "lower": 63.73114910125733,
           "timepoint": 47.29999923706055,
           "trajectory": "D_sol",
           "upper": 12074.591259765622
          },
          {
           "lower": 63.98953323364258,
           "timepoint": 47.400001525878906,
           "trajectory": "D_sol",
           "upper": 12140.908300781248
          },
          {
           "lower": 64.24790096282959,
           "timepoint": 47.5,
           "trajectory": "D_sol",
           "upper": 12207.402636718747
          },
          {
           "lower": 64.50625267028809,
           "timepoint": 47.599998474121094,
           "trajectory": "D_sol",
           "upper": 12274.075488281247
          },
          {
           "lower": 64.76463222503662,
           "timepoint": 47.70000076293945,
           "trajectory": "D_sol",
           "upper": 12340.932421874997
          },
          {
           "lower": 65.02297363281251,
           "timepoint": 47.79999923706055,
           "trajectory": "D_sol",
           "upper": 12407.968310546872
          },
          {
           "lower": 65.2813280105591,
           "timepoint": 47.900001525878906,
           "trajectory": "D_sol",
           "upper": 12475.188671874997
          },
          {
           "lower": 65.53966617584229,
           "timepoint": 48,
           "trajectory": "D_sol",
           "upper": 12542.587548828124
          },
          {
           "lower": 65.79799575805664,
           "timepoint": 48.099998474121094,
           "trajectory": "D_sol",
           "upper": 12610.166796874997
          },
          {
           "lower": 66.05632419586182,
           "timepoint": 48.20000076293945,
           "trajectory": "D_sol",
           "upper": 12677.934082031248
          },
          {
           "lower": 66.3146360397339,
           "timepoint": 48.29999923706055,
           "trajectory": "D_sol",
           "upper": 12745.880712890623
          },
          {
           "lower": 66.57294654846191,
           "timepoint": 48.400001525878906,
           "trajectory": "D_sol",
           "upper": 12814.011718749998
          },
          {
           "lower": 66.8312412261963,
           "timepoint": 48.5,
           "trajectory": "D_sol",
           "upper": 12882.327685546872
          },
          {
           "lower": 67.08951950073242,
           "timepoint": 48.599998474121094,
           "trajectory": "D_sol",
           "upper": 12950.823291015622
          },
          {
           "lower": 67.34779644012451,
           "timepoint": 48.70000076293945,
           "trajectory": "D_sol",
           "upper": 13019.508056640623
          },
          {
           "lower": 67.60605716705322,
           "timepoint": 48.79999923706055,
           "trajectory": "D_sol",
           "upper": 13088.376953124998
          },
          {
           "lower": 67.86430950164795,
           "timepoint": 48.900001525878906,
           "trajectory": "D_sol",
           "upper": 13157.431201171872
          },
          {
           "lower": 68.12254524230957,
           "timepoint": 49,
           "trajectory": "D_sol",
           "upper": 13226.669628906247
          },
          {
           "lower": 68.38075790405274,
           "timepoint": 49.099998474121094,
           "trajectory": "D_sol",
           "upper": 13296.093457031247
          },
          {
           "lower": 68.63896923065187,
           "timepoint": 49.20000076293945,
           "trajectory": "D_sol",
           "upper": 13365.706494140622
          },
          {
           "lower": 68.8971643447876,
           "timepoint": 49.29999923706055,
           "trajectory": "D_sol",
           "upper": 13435.506494140622
          },
          {
           "lower": 69.15535068511963,
           "timepoint": 49.400001525878906,
           "trajectory": "D_sol",
           "upper": 13505.493945312497
          },
          {
           "lower": 69.41378898620606,
           "timepoint": 49.5,
           "trajectory": "D_sol",
           "upper": 13575.690820312497
          },
          {
           "lower": 69.67197227478027,
           "timepoint": 49.599998474121094,
           "trajectory": "D_sol",
           "upper": 13646.055517578123
          },
          {
           "lower": 69.93014678955079,
           "timepoint": 49.70000076293945,
           "trajectory": "D_sol",
           "upper": 13716.610449218748
          },
          {
           "lower": 70.18830490112305,
           "timepoint": 49.79999923706055,
           "trajectory": "D_sol",
           "upper": 13787.352587890622
          },
          {
           "lower": 70.44645462036134,
           "timepoint": 49.900001525878906,
           "trajectory": "D_sol",
           "upper": 13858.285986328123
          },
          {
           "lower": 70.70458202362062,
           "timepoint": 50,
           "trajectory": "D_sol",
           "upper": 13929.407568359373
          },
          {
           "lower": 70.96269245147705,
           "timepoint": 50.099998474121094,
           "trajectory": "D_sol",
           "upper": 14000.720556640623
          },
          {
           "lower": 71.22080154418946,
           "timepoint": 50.20000076293945,
           "trajectory": "D_sol",
           "upper": 14072.225537109372
          },
          {
           "lower": 71.47887973785402,
           "timepoint": 50.29999923706055,
           "trajectory": "D_sol",
           "upper": 14143.920703124997
          },
          {
           "lower": 71.73695697784424,
           "timepoint": 50.400001525878906,
           "trajectory": "D_sol",
           "upper": 14215.809033203122
          },
          {
           "lower": 71.99501781463624,
           "timepoint": 50.5,
           "trajectory": "D_sol",
           "upper": 14287.888525390623
          },
          {
           "lower": 72.25305519104005,
           "timepoint": 50.599998474121094,
           "trajectory": "D_sol",
           "upper": 14360.158398437497
          },
          {
           "lower": 72.51106986999513,
           "timepoint": 50.70000076293945,
           "trajectory": "D_sol",
           "upper": 14432.625244140623
          },
          {
           "lower": 72.76908283233644,
           "timepoint": 50.79999923706055,
           "trajectory": "D_sol",
           "upper": 14505.282373046872
          },
          {
           "lower": 73.02708702087403,
           "timepoint": 50.900001525878906,
           "trajectory": "D_sol",
           "upper": 14578.137548828123
          },
          {
           "lower": 73.28506088256836,
           "timepoint": 51,
           "trajectory": "D_sol",
           "upper": 14651.182031249997
          },
          {
           "lower": 73.54301128387452,
           "timepoint": 51.099998474121094,
           "trajectory": "D_sol",
           "upper": 14724.424560546871
          },
          {
           "lower": 73.80096054077148,
           "timepoint": 51.20000076293945,
           "trajectory": "D_sol",
           "upper": 14797.862353515622
          },
          {
           "lower": 74.05887928009034,
           "timepoint": 51.29999923706055,
           "trajectory": "D_sol",
           "upper": 14871.494238281248
          },
          {
           "lower": 74.31679687500001,
           "timepoint": 51.400001525878906,
           "trajectory": "D_sol",
           "upper": 14945.325292968748
          },
          {
           "lower": 74.57468338012696,
           "timepoint": 51.5,
           "trajectory": "D_sol",
           "upper": 15019.349462890623
          },
          {
           "lower": 74.83255424499512,
           "timepoint": 51.599998474121094,
           "trajectory": "D_sol",
           "upper": 15093.570849609372
          },
          {
           "lower": 75.09040927886963,
           "timepoint": 51.70000076293945,
           "trajectory": "D_sol",
           "upper": 15167.992333984372
          },
          {
           "lower": 75.34816856384278,
           "timepoint": 51.79999923706055,
           "trajectory": "D_sol",
           "upper": 15242.609960937498
          },
          {
           "lower": 75.60598468780518,
           "timepoint": 51.900001525878906,
           "trajectory": "D_sol",
           "upper": 15317.434179687498
          },
          {
           "lower": 75.8637701034546,
           "timepoint": 52,
           "trajectory": "D_sol",
           "upper": 15392.449072265623
          },
          {
           "lower": 76.12153263092041,
           "timepoint": 52.099998474121094,
           "trajectory": "D_sol",
           "upper": 15467.663085937496
          },
          {
           "lower": 76.37927436828613,
           "timepoint": 52.20000076293945,
           "trajectory": "D_sol",
           "upper": 15543.079296874997
          },
          {
           "lower": 76.63700408935547,
           "timepoint": 52.29999923706055,
           "trajectory": "D_sol",
           "upper": 15618.693310546872
          },
          {
           "lower": 76.89471130371095,
           "timepoint": 52.400001525878906,
           "trajectory": "D_sol",
           "upper": 15694.509716796872
          },
          {
           "lower": 77.15239486694337,
           "timepoint": 52.5,
           "trajectory": "D_sol",
           "upper": 15770.526171874997
          },
          {
           "lower": 77.41004810333253,
           "timepoint": 52.599998474121094,
           "trajectory": "D_sol",
           "upper": 15846.742675781246
          },
          {
           "lower": 77.66770000457764,
           "timepoint": 52.70000076293945,
           "trajectory": "D_sol",
           "upper": 15923.165185546872
          },
          {
           "lower": 77.92532176971436,
           "timepoint": 52.79999923706055,
           "trajectory": "D_sol",
           "upper": 15999.785986328121
          },
          {
           "lower": 78.18292751312256,
           "timepoint": 52.900001525878906,
           "trajectory": "D_sol",
           "upper": 16076.614746093746
          },
          {
           "lower": 78.44050979614258,
           "timepoint": 53,
           "trajectory": "D_sol",
           "upper": 16153.642626953122
          },
          {
           "lower": 78.6980619430542,
           "timepoint": 53.099998474121094,
           "trajectory": "D_sol",
           "upper": 16230.875585937496
          },
          {
           "lower": 78.9556058883667,
           "timepoint": 53.20000076293945,
           "trajectory": "D_sol",
           "upper": 16308.314550781246
          },
          {
           "lower": 79.21310462951661,
           "timepoint": 53.29999923706055,
           "trajectory": "D_sol",
           "upper": 16385.955615234372
          },
          {
           "lower": 79.47060947418214,
           "timepoint": 53.400001525878906,
           "trajectory": "D_sol",
           "upper": 16463.805761718748
          },
          {
           "lower": 79.72806968688965,
           "timepoint": 53.5,
           "trajectory": "D_sol",
           "upper": 16541.859863281246
          },
          {
           "lower": 79.98551368713379,
           "timepoint": 53.599998474121094,
           "trajectory": "D_sol",
           "upper": 16620.117187499996
          },
          {
           "lower": 80.24293498992921,
           "timepoint": 53.70000076293945,
           "trajectory": "D_sol",
           "upper": 16698.587499999998
          },
          {
           "lower": 80.50033283233643,
           "timepoint": 53.79999923706055,
           "trajectory": "D_sol",
           "upper": 16777.260839843748
          },
          {
           "lower": 80.75771541595459,
           "timepoint": 53.900001525878906,
           "trajectory": "D_sol",
           "upper": 16856.143261718746
          },
          {
           "lower": 81.01506748199463,
           "timepoint": 54,
           "trajectory": "D_sol",
           "upper": 16935.232714843747
          },
          {
           "lower": 81.27238922119142,
           "timepoint": 54.099998474121094,
           "trajectory": "D_sol",
           "upper": 17014.532910156246
          },
          {
           "lower": 81.52971019744874,
           "timepoint": 54.20000076293945,
           "trajectory": "D_sol",
           "upper": 17094.042382812495
          },
          {
           "lower": 81.78697166442872,
           "timepoint": 54.29999923706055,
           "trajectory": "D_sol",
           "upper": 17173.758984374996
          },
          {
           "lower": 82.0442247390747,
           "timepoint": 54.400001525878906,
           "trajectory": "D_sol",
           "upper": 17253.679199218746
          },
          {
           "lower": 82.3014617919922,
           "timepoint": 54.5,
           "trajectory": "D_sol",
           "upper": 17333.815820312495
          },
          {
           "lower": 82.55865440368653,
           "timepoint": 54.599998474121094,
           "trajectory": "D_sol",
           "upper": 17414.161425781247
          },
          {
           "lower": 82.81584491729737,
           "timepoint": 54.70000076293945,
           "trajectory": "D_sol",
           "upper": 17494.723925781247
          },
          {
           "lower": 83.07299785614015,
           "timepoint": 54.79999923706055,
           "trajectory": "D_sol",
           "upper": 17575.494042968745
          },
          {
           "lower": 83.33012084960939,
           "timepoint": 54.900001525878906,
           "trajectory": "D_sol",
           "upper": 17656.480664062496
          },
          {
           "lower": 83.58723506927491,
           "timepoint": 55,
           "trajectory": "D_sol",
           "upper": 17737.674511718746
          },
          {
           "lower": 83.84430465698243,
           "timepoint": 55.099998474121094,
           "trajectory": "D_sol",
           "upper": 17819.083105468748
          },
          {
           "lower": 84.10137310028077,
           "timepoint": 55.20000076293945,
           "trajectory": "D_sol",
           "upper": 17900.710644531246
          },
          {
           "lower": 84.35839710235597,
           "timepoint": 55.29999923706055,
           "trajectory": "D_sol",
           "upper": 17982.547460937498
          },
          {
           "lower": 84.61540508270264,
           "timepoint": 55.400001525878906,
           "trajectory": "D_sol",
           "upper": 18064.599414062497
          },
          {
           "lower": 84.87238273620606,
           "timepoint": 55.5,
           "trajectory": "D_sol",
           "upper": 18146.867871093746
          },
          {
           "lower": 85.12933044433595,
           "timepoint": 55.599998474121094,
           "trajectory": "D_sol",
           "upper": 18229.351464843745
          },
          {
           "lower": 85.38626232147217,
           "timepoint": 55.70000076293945,
           "trajectory": "D_sol",
           "upper": 18312.052343749998
          },
          {
           "lower": 85.64316444396974,
           "timepoint": 55.79999923706055,
           "trajectory": "D_sol",
           "upper": 18394.968066406247
          },
          {
           "lower": 85.90005073547364,
           "timepoint": 55.900001525878906,
           "trajectory": "D_sol",
           "upper": 18478.102636718748
          },
          {
           "lower": 86.15689201354981,
           "timepoint": 56,
           "trajectory": "D_sol",
           "upper": 18561.454101562496
          },
          {
           "lower": 86.41370372772218,
           "timepoint": 56.099998474121094,
           "trajectory": "D_sol",
           "upper": 18645.020996093746
          },
          {
           "lower": 86.67052116394044,
           "timepoint": 56.20000076293945,
           "trajectory": "D_sol",
           "upper": 18728.810546874996
          },
          {
           "lower": 86.92727966308594,
           "timepoint": 56.29999923706055,
           "trajectory": "D_sol",
           "upper": 18812.817089843746
          },
          {
           "lower": 87.18403682708741,
           "timepoint": 56.400001525878906,
           "trajectory": "D_sol",
           "upper": 18897.042773437497
          },
          {
           "lower": 87.44075679779053,
           "timepoint": 56.5,
           "trajectory": "D_sol",
           "upper": 18981.491210937496
          },
          {
           "lower": 87.69743938446045,
           "timepoint": 56.599998474121094,
           "trajectory": "D_sol",
           "upper": 19066.153027343746
          },
          {
           "lower": 87.9541208267212,
           "timepoint": 56.70000076293945,
           "trajectory": "D_sol",
           "upper": 19151.041601562494
          },
          {
           "lower": 88.2107578277588,
           "timepoint": 56.79999923706055,
           "trajectory": "D_sol",
           "upper": 19236.193554687496
          },
          {
           "lower": 88.46738624572754,
           "timepoint": 56.900001525878906,
           "trajectory": "D_sol",
           "upper": 19321.531640624995
          },
          {
           "lower": 88.72397003173829,
           "timepoint": 57,
           "trajectory": "D_sol",
           "upper": 19407.090624999997
          },
          {
           "lower": 88.98036499023438,
           "timepoint": 57.099998474121094,
           "trajectory": "D_sol",
           "upper": 19492.872558593746
          },
          {
           "lower": 89.23688182830811,
           "timepoint": 57.20000076293945,
           "trajectory": "D_sol",
           "upper": 19578.876562499994
          },
          {
           "lower": 89.49337596893311,
           "timepoint": 57.29999923706055,
           "trajectory": "D_sol",
           "upper": 19665.105957031246
          },
          {
           "lower": 89.74984016418458,
           "timepoint": 57.400001525878906,
           "trajectory": "D_sol",
           "upper": 19751.564160156246
          },
          {
           "lower": 90.00626678466797,
           "timepoint": 57.5,
           "trajectory": "D_sol",
           "upper": 19838.241503906247
          },
          {
           "lower": 90.2626636505127,
           "timepoint": 57.599998474121094,
           "trajectory": "D_sol",
           "upper": 19925.147558593744
          },
          {
           "lower": 90.51903800964357,
           "timepoint": 57.70000076293945,
           "trajectory": "D_sol",
           "upper": 20012.282519531247
          },
          {
           "lower": 90.77538928985597,
           "timepoint": 57.79999923706055,
           "trajectory": "D_sol",
           "upper": 20099.640234374994
          },
          {
           "lower": 91.03170356750489,
           "timepoint": 57.900001525878906,
           "trajectory": "D_sol",
           "upper": 20187.230957031246
          },
          {
           "lower": 91.28798751831056,
           "timepoint": 58,
           "trajectory": "D_sol",
           "upper": 20275.044531249994
          },
          {
           "lower": 91.54424171447755,
           "timepoint": 58.099998474121094,
           "trajectory": "D_sol",
           "upper": 20363.085058593744
          },
          {
           "lower": 91.80047359466553,
           "timepoint": 58.20000076293945,
           "trajectory": "D_sol",
           "upper": 20451.362207031245
          },
          {
           "lower": 92.05666770935059,
           "timepoint": 58.29999923706055,
           "trajectory": "D_sol",
           "upper": 20539.864160156245
          },
          {
           "lower": 92.31285400390625,
           "timepoint": 58.400001525878906,
           "trajectory": "D_sol",
           "upper": 20628.595312499994
          },
          {
           "lower": 92.56898136138916,
           "timepoint": 58.5,
           "trajectory": "D_sol",
           "upper": 20717.557128906246
          },
          {
           "lower": 92.82510051727296,
           "timepoint": 58.599998474121094,
           "trajectory": "D_sol",
           "upper": 20806.749902343745
          },
          {
           "lower": 93.08118267059326,
           "timepoint": 58.70000076293945,
           "trajectory": "D_sol",
           "upper": 20896.177343749994
          },
          {
           "lower": 93.33723449707033,
           "timepoint": 58.79999923706055,
           "trajectory": "D_sol",
           "upper": 20985.833691406246
          },
          {
           "lower": 93.59325675964357,
           "timepoint": 58.900001525878906,
           "trajectory": "D_sol",
           "upper": 21075.726855468747
          },
          {
           "lower": 93.84925651550294,
           "timepoint": 59,
           "trajectory": "D_sol",
           "upper": 21165.848925781247
          },
          {
           "lower": 94.1052116394043,
           "timepoint": 59.099998474121094,
           "trajectory": "D_sol",
           "upper": 21256.203808593746
          },
          {
           "lower": 94.3611442565918,
           "timepoint": 59.20000076293945,
           "trajectory": "D_sol",
           "upper": 21346.795507812494
          },
          {
           "lower": 94.61704711914064,
           "timepoint": 59.29999923706055,
           "trajectory": "D_sol",
           "upper": 21437.621972656245
          },
          {
           "lower": 94.8729274749756,
           "timepoint": 59.400001525878906,
           "trajectory": "D_sol",
           "upper": 21528.685156249994
          },
          {
           "lower": 95.1287633895874,
           "timepoint": 59.5,
           "trajectory": "D_sol",
           "upper": 21619.977929687495
          },
          {
           "lower": 95.38456916809083,
           "timepoint": 59.599998474121094,
           "trajectory": "D_sol",
           "upper": 21711.508593749993
          },
          {
           "lower": 95.6403528213501,
           "timepoint": 59.70000076293945,
           "trajectory": "D_sol",
           "upper": 21803.282031249993
          },
          {
           "lower": 95.89610633850099,
           "timepoint": 59.79999923706055,
           "trajectory": "D_sol",
           "upper": 21895.286425781243
          },
          {
           "lower": 96.15183029174806,
           "timepoint": 59.900001525878906,
           "trajectory": "D_sol",
           "upper": 21987.533496093743
          },
          {
           "lower": 96.40751876831055,
           "timepoint": 60,
           "trajectory": "D_sol",
           "upper": 22080.015234374994
          },
          {
           "lower": 96.66311798095704,
           "timepoint": 60.099998474121094,
           "trajectory": "D_sol",
           "upper": 22172.735742187495
          },
          {
           "lower": 96.91874580383302,
           "timepoint": 60.20000076293945,
           "trajectory": "D_sol",
           "upper": 22265.700976562493
          },
          {
           "lower": 97.17433643341066,
           "timepoint": 60.29999923706055,
           "trajectory": "D_sol",
           "upper": 22358.899316406245
          },
          {
           "lower": 97.42990455627442,
           "timepoint": 60.400001525878906,
           "trajectory": "D_sol",
           "upper": 22452.345800781244
          },
          {
           "lower": 97.68542842864991,
           "timepoint": 60.5,
           "trajectory": "D_sol",
           "upper": 22546.025585937496
          },
          {
           "lower": 97.9409227371216,
           "timepoint": 60.599998474121094,
           "trajectory": "D_sol",
           "upper": 22639.948046874993
          },
          {
           "lower": 98.1963945388794,
           "timepoint": 60.70000076293945,
           "trajectory": "D_sol",
           "upper": 22734.117089843745
          },
          {
           "lower": 98.4518222808838,
           "timepoint": 60.79999923706055,
           "trajectory": "D_sol",
           "upper": 22828.524707031243
          },
          {
           "lower": 98.707234954834,
           "timepoint": 60.900001525878906,
           "trajectory": "D_sol",
           "upper": 22923.177441406246
          },
          {
           "lower": 98.96259574890138,
           "timepoint": 61,
           "trajectory": "D_sol",
           "upper": 23018.070800781246
          },
          {
           "lower": 99.21793441772462,
           "timepoint": 61.099998474121094,
           "trajectory": "D_sol",
           "upper": 23113.207031249996
          },
          {
           "lower": 99.47325096130372,
           "timepoint": 61.20000076293945,
           "trajectory": "D_sol",
           "upper": 23208.593554687493
          },
          {
           "lower": 99.72851562500001,
           "timepoint": 61.29999923706055,
           "trajectory": "D_sol",
           "upper": 23304.221093749995
          },
          {
           "lower": 99.98375835418702,
           "timepoint": 61.400001525878906,
           "trajectory": "D_sol",
           "upper": 23400.097265624994
          },
          {
           "lower": 100.23897857666016,
           "timepoint": 61.5,
           "trajectory": "D_sol",
           "upper": 23496.216308593743
          },
          {
           "lower": 100.49415454864503,
           "timepoint": 61.599998474121094,
           "trajectory": "D_sol",
           "upper": 23592.581933593745
          },
          {
           "lower": 100.74930839538575,
           "timepoint": 61.70000076293945,
           "trajectory": "D_sol",
           "upper": 23689.227929687495
          },
          {
           "lower": 101.00441799163819,
           "timepoint": 61.79999923706055,
           "trajectory": "D_sol",
           "upper": 23786.092675781245
          },
          {
           "lower": 101.25950546264649,
           "timepoint": 61.900001525878906,
           "trajectory": "D_sol",
           "upper": 23883.211230468743
          },
          {
           "lower": 101.51455593109132,
           "timepoint": 62,
           "trajectory": "D_sol",
           "upper": 23980.575195312493
          },
          {
           "lower": 4.4525122304406306e-11,
           "timepoint": 0,
           "trajectory": "H_sol",
           "upper": 5.60906918134485e-10
          },
          {
           "lower": 0.044674315862357615,
           "timepoint": 0.10000000149011612,
           "trajectory": "H_sol",
           "upper": 0.562466225028038
          },
          {
           "lower": 0.08965424038469792,
           "timepoint": 0.20000000298023224,
           "trajectory": "H_sol",
           "upper": 1.128198218345642
          },
          {
           "lower": 0.13495124727487565,
           "timepoint": 0.30000001192092896,
           "trajectory": "H_sol",
           "upper": 1.6974281668663025
          },
          {
           "lower": 0.18057757169008257,
           "timepoint": 0.4000000059604645,
           "trajectory": "H_sol",
           "upper": 2.2703812956809997
          },
          {
           "lower": 0.22654629051685335,
           "timepoint": 0.5,
           "trajectory": "H_sol",
           "upper": 2.8473039627075196
          },
          {
           "lower": 0.2728711172938347,
           "timepoint": 0.6000000238418579,
           "trajectory": "H_sol",
           "upper": 3.4284348845481873
          },
          {
           "lower": 0.3195662871003151,
           "timepoint": 0.699999988079071,
           "trajectory": "H_sol",
           "upper": 4.014028239250183
          },
          {
           "lower": 0.366647219657898,
           "timepoint": 0.800000011920929,
           "trajectory": "H_sol",
           "upper": 4.604333424568177
          },
          {
           "lower": 0.4141296312212944,
           "timepoint": 0.9000000357627869,
           "trajectory": "H_sol",
           "upper": 5.199639439582825
          },
          {
           "lower": 0.46203003227710726,
           "timepoint": 1,
           "trajectory": "H_sol",
           "upper": 5.800101375579834
          },
          {
           "lower": 0.5103653892874718,
           "timepoint": 1.100000023841858,
           "trajectory": "H_sol",
           "upper": 6.4031425476074215
          },
          {
           "lower": 0.559153337776661,
           "timepoint": 1.2000000476837158,
           "trajectory": "H_sol",
           "upper": 7.009762406349182
          },
          {
           "lower": 0.608412116765976,
           "timepoint": 1.3000000715255737,
           "trajectory": "H_sol",
           "upper": 7.621415042877198
          },
          {
           "lower": 0.6581615895032883,
           "timepoint": 1.399999976158142,
           "trajectory": "H_sol",
           "upper": 8.23843855857849
          },
          {
           "lower": 0.7084198713302613,
           "timepoint": 1.5,
           "trajectory": "H_sol",
           "upper": 8.861055850982666
          },
          {
           "lower": 0.7592076390981675,
           "timepoint": 1.600000023841858,
           "trajectory": "H_sol",
           "upper": 9.489543056488037
          },
          {
           "lower": 0.8105456829071045,
           "timepoint": 1.7000000476837158,
           "trajectory": "H_sol",
           "upper": 10.12416639328003
          },
          {
           "lower": 0.8624543875455857,
           "timepoint": 1.8000000715255737,
           "trajectory": "H_sol",
           "upper": 10.76521863937378
          },
          {
           "lower": 0.9149561882019043,
           "timepoint": 1.899999976158142,
           "trajectory": "H_sol",
           "upper": 11.412952327728272
          },
          {
           "lower": 0.9680734038352966,
           "timepoint": 2,
           "trajectory": "H_sol",
           "upper": 12.067667627334595
          },
          {
           "lower": 1.0218287706375122,
           "timepoint": 2.1000001430511475,
           "trajectory": "H_sol",
           "upper": 12.729654264450073
          },
          {
           "lower": 1.0762444078922273,
           "timepoint": 2.200000047683716,
           "trajectory": "H_sol",
           "upper": 13.399182224273682
          },
          {
           "lower": 1.1313460975885392,
           "timepoint": 2.299999952316284,
           "trajectory": "H_sol",
           "upper": 14.076581907272338
          },
          {
           "lower": 1.1871575057506563,
           "timepoint": 2.4000000953674316,
           "trajectory": "H_sol",
           "upper": 14.762146520614623
          },
          {
           "lower": 1.2437037706375123,
           "timepoint": 2.5,
           "trajectory": "H_sol",
           "upper": 15.456189823150634
          },
          {
           "lower": 1.3010108411312105,
           "timepoint": 2.6000001430511475,
           "trajectory": "H_sol",
           "upper": 16.15902509689331
          },
          {
           "lower": 1.359103411436081,
           "timepoint": 2.700000047683716,
           "trajectory": "H_sol",
           "upper": 16.870973587036133
          },
          {
           "lower": 1.4180096030235292,
           "timepoint": 2.799999952316284,
           "trajectory": "H_sol",
           "upper": 17.592364597320557
          },
          {
           "lower": 1.4777565121650695,
           "timepoint": 2.9000000953674316,
           "trajectory": "H_sol",
           "upper": 18.32353515625
          },
          {
           "lower": 1.5383714973926546,
           "timepoint": 3,
           "trajectory": "H_sol",
           "upper": 19.064829063415527
          },
          {
           "lower": 1.5998835921287538,
           "timepoint": 3.1000001430511475,
           "trajectory": "H_sol",
           "upper": 19.816591453552245
          },
          {
           "lower": 1.6623216629028321,
           "timepoint": 3.200000047683716,
           "trajectory": "H_sol",
           "upper": 20.57911081314087
          },
          {
           "lower": 1.725714957714081,
           "timepoint": 3.299999952316284,
           "trajectory": "H_sol",
           "upper": 21.352836322784423
          },
          {
           "lower": 1.7900942206382753,
           "timepoint": 3.4000000953674316,
           "trajectory": "H_sol",
           "upper": 22.138097286224365
          },
          {
           "lower": 1.8554899632930757,
           "timepoint": 3.5,
           "trajectory": "H_sol",
           "upper": 22.93525638580322
          },
          {
           "lower": 1.9219336450099946,
           "timepoint": 3.6000001430511475,
           "trajectory": "H_sol",
           "upper": 23.74469757080078
          },
          {
           "lower": 1.9894570589065552,
           "timepoint": 3.700000047683716,
           "trajectory": "H_sol",
           "upper": 24.566797828674314
          },
          {
           "lower": 2.0580937922000886,
           "timepoint": 3.799999952316284,
           "trajectory": "H_sol",
           "upper": 25.40200271606445
          },
          {
           "lower": 2.1278767347335816,
           "timepoint": 3.9000000953674316,
           "trajectory": "H_sol",
           "upper": 26.25064058303833
          },
          {
           "lower": 2.1988394498825072,
           "timepoint": 4,
           "trajectory": "H_sol",
           "upper": 27.11313714981079
          },
          {
           "lower": 2.2710176169872285,
           "timepoint": 4.099999904632568,
           "trajectory": "H_sol",
           "upper": 27.989913177490234
          },
          {
           "lower": 2.344445538520813,
           "timepoint": 4.200000286102295,
           "trajectory": "H_sol",
           "upper": 28.881388568878172
          },
          {
           "lower": 2.4191668748855593,
           "timepoint": 4.300000190734863,
           "trajectory": "H_sol",
           "upper": 29.787986278533936
          },
          {
           "lower": 2.4952078342437747,
           "timepoint": 4.400000095367432,
           "trajectory": "H_sol",
           "upper": 30.710190868377683
          },
          {
           "lower": 2.5726107597351073,
           "timepoint": 4.5,
           "trajectory": "H_sol",
           "upper": 31.64838171005249
          },
          {
           "lower": 2.6514139413833617,
           "timepoint": 4.599999904632568,
           "trajectory": "H_sol",
           "upper": 32.60303955078125
          },
          {
           "lower": 2.7316573023796082,
           "timepoint": 4.700000286102295,
           "trajectory": "H_sol",
           "upper": 33.57463436126709
          },
          {
           "lower": 2.81338005065918,
           "timepoint": 4.800000190734863,
           "trajectory": "H_sol",
           "upper": 34.56363162994385
          },
          {
           "lower": 2.8966228365898132,
           "timepoint": 4.900000095367432,
           "trajectory": "H_sol",
           "upper": 35.57052154541015
          },
          {
           "lower": 2.9814282536506655,
           "timepoint": 5,
           "trajectory": "H_sol",
           "upper": 36.595758247375485
          },
          {
           "lower": 3.0678387165069583,
           "timepoint": 5.099999904632568,
           "trajectory": "H_sol",
           "upper": 37.63988418579101
          },
          {
           "lower": 3.1558979988098144,
           "timepoint": 5.200000286102295,
           "trajectory": "H_sol",
           "upper": 38.70340175628662
          },
          {
           "lower": 3.2456495046615603,
           "timepoint": 5.300000190734863,
           "trajectory": "H_sol",
           "upper": 39.786815834045406
          },
          {
           "lower": 3.337138855457306,
           "timepoint": 5.400000095367432,
           "trajectory": "H_sol",
           "upper": 40.89067153930664
          },
          {
           "lower": 3.43041273355484,
           "timepoint": 5.5,
           "trajectory": "H_sol",
           "upper": 42.015501976013184
          },
          {
           "lower": 3.525520348548889,
           "timepoint": 5.599999904632568,
           "trajectory": "H_sol",
           "upper": 43.16187019348144
          },
          {
           "lower": 3.6225069165229797,
           "timepoint": 5.700000286102295,
           "trajectory": "H_sol",
           "upper": 44.33029632568359
          },
          {
           "lower": 3.721422564983368,
           "timepoint": 5.800000190734863,
           "trajectory": "H_sol",
           "upper": 45.52140808105469
          },
          {
           "lower": 3.8223178505897524,
           "timepoint": 5.900000095367432,
           "trajectory": "H_sol",
           "upper": 46.73577423095703
          },
          {
           "lower": 3.9252439737319946,
           "timepoint": 6,
           "trajectory": "H_sol",
           "upper": 47.97398719787597
          },
          {
           "lower": 4.030253839492798,
           "timepoint": 6.099999904632568,
           "trajectory": "H_sol",
           "upper": 49.23666019439697
          },
          {
           "lower": 4.137394940853119,
           "timepoint": 6.200000286102295,
           "trajectory": "H_sol",
           "upper": 50.52442188262939
          },
          {
           "lower": 4.246730780601502,
           "timepoint": 6.300000190734863,
           "trajectory": "H_sol",
           "upper": 51.837861061096184
          },
          {
           "lower": 4.358314394950867,
           "timepoint": 6.400000095367432,
           "trajectory": "H_sol",
           "upper": 53.17769050598144
          },
          {
           "lower": 4.472201764583588,
           "timepoint": 6.5,
           "trajectory": "H_sol",
           "upper": 54.54454441070556
          },
          {
           "lower": 4.588450992107392,
           "timepoint": 6.599999904632568,
           "trajectory": "H_sol",
           "upper": 55.9390962600708
          },
          {
           "lower": 4.707121562957764,
           "timepoint": 6.700000286102295,
           "trajectory": "H_sol",
           "upper": 57.362054061889644
          },
          {
           "lower": 4.828275227546692,
           "timepoint": 6.800000190734863,
           "trajectory": "H_sol",
           "upper": 58.81408710479736
          },
          {
           "lower": 4.951975250244141,
           "timepoint": 6.900000095367432,
           "trajectory": "H_sol",
           "upper": 60.29593849182128
          },
          {
           "lower": 5.078282928466797,
           "timepoint": 7,
           "trajectory": "H_sol",
           "upper": 61.86056976318359
          },
          {
           "lower": 5.207262444496155,
           "timepoint": 7.099999904632568,
           "trajectory": "H_sol",
           "upper": 63.46070938110351
          },
          {
           "lower": 5.338982319831849,
           "timepoint": 7.200000286102295,
           "trajectory": "H_sol",
           "upper": 65.09601364135742
          },
          {
           "lower": 5.47350959777832,
           "timepoint": 7.300000190734863,
           "trajectory": "H_sol",
           "upper": 66.7672134399414
          },
          {
           "lower": 5.610912704467774,
           "timepoint": 7.400000095367432,
           "trajectory": "H_sol",
           "upper": 68.47525329589843
          },
          {
           "lower": 5.751257014274597,
           "timepoint": 7.5,
           "trajectory": "H_sol",
           "upper": 70.22109146118163
          },
          {
           "lower": 5.894623279571533,
           "timepoint": 7.599999904632568,
           "trajectory": "H_sol",
           "upper": 72.00564384460449
          },
          {
           "lower": 6.041084218025207,
           "timepoint": 7.700000286102295,
           "trajectory": "H_sol",
           "upper": 73.82988471984862
          },
          {
           "lower": 6.190711045265198,
           "timepoint": 7.800000190734863,
           "trajectory": "H_sol",
           "upper": 75.6947940826416
          },
          {
           "lower": 6.343583345413208,
           "timepoint": 7.900000095367432,
           "trajectory": "H_sol",
           "upper": 77.6014190673828
          },
          {
           "lower": 6.49977855682373,
           "timepoint": 8,
           "trajectory": "H_sol",
           "upper": 79.55074501037598
          },
          {
           "lower": 6.659379220008851,
           "timepoint": 8.100000381469727,
           "trajectory": "H_sol",
           "upper": 81.54383926391601
          },
          {
           "lower": 6.822467470169068,
           "timepoint": 8.199999809265137,
           "trajectory": "H_sol",
           "upper": 83.58175315856933
          },
          {
           "lower": 6.9891260147094725,
           "timepoint": 8.300000190734863,
           "trajectory": "H_sol",
           "upper": 85.6656524658203
          },
          {
           "lower": 7.159439301490784,
           "timepoint": 8.40000057220459,
           "trajectory": "H_sol",
           "upper": 87.79661750793457
          },
          {
           "lower": 7.3334956407547,
           "timepoint": 8.5,
           "trajectory": "H_sol",
           "upper": 89.97578010559081
          },
          {
           "lower": 7.511386895179749,
           "timepoint": 8.600000381469727,
           "trajectory": "H_sol",
           "upper": 92.20445251464844
          },
          {
           "lower": 7.693202662467956,
           "timepoint": 8.699999809265137,
           "trajectory": "H_sol",
           "upper": 94.48369178771972
          },
          {
           "lower": 7.8790388107299805,
           "timepoint": 8.800000190734863,
           "trajectory": "H_sol",
           "upper": 96.81479988098144
          },
          {
           "lower": 8.069003343582153,
           "timepoint": 8.90000057220459,
           "trajectory": "H_sol",
           "upper": 99.19904060363768
          },
          {
           "lower": 8.263172101974488,
           "timepoint": 9,
           "trajectory": "H_sol",
           "upper": 101.63767204284667
          },
          {
           "lower": 8.461656498908997,
           "timepoint": 9.100000381469727,
           "trajectory": "H_sol",
           "upper": 104.13207664489745
          },
          {
           "lower": 8.664555740356446,
           "timepoint": 9.199999809265137,
           "trajectory": "H_sol",
           "upper": 106.68355674743651
          },
          {
           "lower": 8.871978282928467,
           "timepoint": 9.300000190734863,
           "trajectory": "H_sol",
           "upper": 109.29347648620605
          },
          {
           "lower": 9.084028887748719,
           "timepoint": 9.40000057220459,
           "trajectory": "H_sol",
           "upper": 111.96334686279296
          },
          {
           "lower": 9.300817823410034,
           "timepoint": 9.5,
           "trajectory": "H_sol",
           "upper": 114.69451179504394
          },
          {
           "lower": 9.522461175918579,
           "timepoint": 9.600000381469727,
           "trajectory": "H_sol",
           "upper": 117.50943603515624
          },
          {
           "lower": 9.749067497253419,
           "timepoint": 9.699999809265137,
           "trajectory": "H_sol",
           "upper": 120.44778709411621
          },
          {
           "lower": 9.980759477615356,
           "timepoint": 9.800000190734863,
           "trajectory": "H_sol",
           "upper": 123.45614585876464
          },
          {
           "lower": 10.217652273178102,
           "timepoint": 9.90000057220459,
           "trajectory": "H_sol",
           "upper": 126.53621253967285
          },
          {
           "lower": 10.459867525100709,
           "timepoint": 10,
           "trajectory": "H_sol",
           "upper": 129.68967971801757
          },
          {
           "lower": 10.707538080215455,
           "timepoint": 10.100000381469727,
           "trajectory": "H_sol",
           "upper": 132.91852874755858
          },
          {
           "lower": 10.960782098770142,
           "timepoint": 10.199999809265137,
           "trajectory": "H_sol",
           "upper": 136.2245002746582
          },
          {
           "lower": 11.219738101959228,
           "timepoint": 10.300000190734863,
           "trajectory": "H_sol",
           "upper": 139.60956497192382
          },
          {
           "lower": 11.484540843963623,
           "timepoint": 10.40000057220459,
           "trajectory": "H_sol",
           "upper": 143.07566452026367
          },
          {
           "lower": 11.755321455001832,
           "timepoint": 10.5,
           "trajectory": "H_sol",
           "upper": 146.6247360229492
          },
          {
           "lower": 12.03222942352295,
           "timepoint": 10.600000381469727,
           "trajectory": "H_sol",
           "upper": 150.25891189575194
          },
          {
           "lower": 12.315398788452148,
           "timepoint": 10.699999809265137,
           "trajectory": "H_sol",
           "upper": 153.9800308227539
          },
          {
           "lower": 12.604983043670655,
           "timepoint": 10.800000190734863,
           "trajectory": "H_sol",
           "upper": 157.790625
          },
          {
           "lower": 12.901129198074342,
           "timepoint": 10.90000057220459,
           "trajectory": "H_sol",
           "upper": 161.69267654418945
          },
          {
           "lower": 13.203964567184448,
           "timepoint": 11,
           "trajectory": "H_sol",
           "upper": 165.6884407043457
          },
          {
           "lower": 13.513692235946655,
           "timepoint": 11.100000381469727,
           "trajectory": "H_sol",
           "upper": 169.7802848815918
          },
          {
           "lower": 13.830446910858155,
           "timepoint": 11.199999809265137,
           "trajectory": "H_sol",
           "upper": 173.97046661376953
          },
          {
           "lower": 14.154402589797973,
           "timepoint": 11.300000190734863,
           "trajectory": "H_sol",
           "upper": 178.26182403564454
          },
          {
           "lower": 14.485721158981324,
           "timepoint": 11.40000057220459,
           "trajectory": "H_sol",
           "upper": 182.65626068115233
          },
          {
           "lower": 14.824571323394776,
           "timepoint": 11.5,
           "trajectory": "H_sol",
           "upper": 187.01973037719728
          },
          {
           "lower": 15.171132516860963,
           "timepoint": 11.600000381469727,
           "trajectory": "H_sol",
           "upper": 191.4380241394043
          },
          {
           "lower": 15.525594520568848,
           "timepoint": 11.699999809265137,
           "trajectory": "H_sol",
           "upper": 195.95806121826172
          },
          {
           "lower": 15.888126993179322,
           "timepoint": 11.800000190734863,
           "trajectory": "H_sol",
           "upper": 200.58239135742187
          },
          {
           "lower": 16.258922052383422,
           "timepoint": 11.90000057220459,
           "trajectory": "H_sol",
           "upper": 205.31338272094726
          },
          {
           "lower": 16.63816604614258,
           "timepoint": 12,
           "trajectory": "H_sol",
           "upper": 210.1534881591797
          },
          {
           "lower": 17.02607250213623,
           "timepoint": 12.100000381469727,
           "trajectory": "H_sol",
           "upper": 215.10538635253906
          },
          {
           "lower": 17.422822666168212,
           "timepoint": 12.199999809265137,
           "trajectory": "H_sol",
           "upper": 220.17156372070312
          },
          {
           "lower": 17.828640460968018,
           "timepoint": 12.300000190734863,
           "trajectory": "H_sol",
           "upper": 225.35483016967774
          },
          {
           "lower": 18.24372425079346,
           "timepoint": 12.40000057220459,
           "trajectory": "H_sol",
           "upper": 230.65783462524413
          },
          {
           "lower": 18.668249034881594,
           "timepoint": 12.5,
           "trajectory": "H_sol",
           "upper": 236.0833770751953
          },
          {
           "lower": 19.10250997543335,
           "timepoint": 12.600000381469727,
           "trajectory": "H_sol",
           "upper": 241.63439559936523
          },
          {
           "lower": 19.546693229675295,
           "timepoint": 12.699999809265137,
           "trajectory": "H_sol",
           "upper": 247.31435165405273
          },
          {
           "lower": 20.001040744781495,
           "timepoint": 12.800000190734863,
           "trajectory": "H_sol",
           "upper": 253.12540969848632
          },
          {
           "lower": 20.465779685974123,
           "timepoint": 12.90000057220459,
           "trajectory": "H_sol",
           "upper": 259.07103271484374
          },
          {
           "lower": 20.941149997711182,
           "timepoint": 13,
           "trajectory": "H_sol",
           "upper": 265.15425567626954
          },
          {
           "lower": 21.42740421295166,
           "timepoint": 13.100000381469727,
           "trajectory": "H_sol",
           "upper": 271.37855682373043
          },
          {
           "lower": 21.924798488616943,
           "timepoint": 13.199999809265137,
           "trajectory": "H_sol",
           "upper": 277.74693908691404
          },
          {
           "lower": 22.433576774597167,
           "timepoint": 13.300000190734863,
           "trajectory": "H_sol",
           "upper": 284.263166809082
          },
          {
           "lower": 22.95400857925415,
           "timepoint": 13.40000057220459,
           "trajectory": "H_sol",
           "upper": 290.9291061401367
          },
          {
           "lower": 23.486358737945558,
           "timepoint": 13.5,
           "trajectory": "H_sol",
           "upper": 297.7504211425781
          },
          {
           "lower": 24.03091039657593,
           "timepoint": 13.600000381469727,
           "trajectory": "H_sol",
           "upper": 304.72999725341793
          },
          {
           "lower": 24.587933921813967,
           "timepoint": 13.699999809265137,
           "trajectory": "H_sol",
           "upper": 311.8714157104492
          },
          {
           "lower": 25.15773124694824,
           "timepoint": 13.800000190734863,
           "trajectory": "H_sol",
           "upper": 319.1785293579101
          },
          {
           "lower": 25.740657806396484,
           "timepoint": 13.90000057220459,
           "trajectory": "H_sol",
           "upper": 326.64086608886714
          },
          {
           "lower": 26.336897468566896,
           "timepoint": 14,
           "trajectory": "H_sol",
           "upper": 334.2742324829101
          },
          {
           "lower": 26.946821403503417,
           "timepoint": 14.100000381469727,
           "trajectory": "H_sol",
           "upper": 342.08420257568355
          },
          {
           "lower": 27.570733642578126,
           "timepoint": 14.199999809265137,
           "trajectory": "H_sol",
           "upper": 350.09046783447263
          },
          {
           "lower": 28.20895919799805,
           "timepoint": 14.300000190734863,
           "trajectory": "H_sol",
           "upper": 358.46924591064453
          },
          {
           "lower": 28.86184024810791,
           "timepoint": 14.40000057220459,
           "trajectory": "H_sol",
           "upper": 367.04711761474607
          },
          {
           "lower": 29.529698657989503,
           "timepoint": 14.5,
           "trajectory": "H_sol",
           "upper": 375.82868652343745
          },
          {
           "lower": 30.212903594970705,
           "timepoint": 14.600000381469727,
           "trajectory": "H_sol",
           "upper": 384.81872253417964
          },
          {
           "lower": 30.911779975891115,
           "timepoint": 14.699999809265137,
           "trajectory": "H_sol",
           "upper": 394.02246856689453
          },
          {
           "lower": 31.62671003341675,
           "timepoint": 14.800000190734863,
           "trajectory": "H_sol",
           "upper": 403.4449996948242
          },
          {
           "lower": 32.35805616378784,
           "timepoint": 14.90000057220459,
           "trajectory": "H_sol",
           "upper": 413.0913772583008
          },
          {
           "lower": 33.10620403289795,
           "timepoint": 15,
           "trajectory": "H_sol",
           "upper": 422.9668533325195
          },
          {
           "lower": 33.87154588699341,
           "timepoint": 15.100000381469727,
           "trajectory": "H_sol",
           "upper": 433.0771377563476
          },
          {
           "lower": 34.654462623596196,
           "timepoint": 15.199999809265137,
           "trajectory": "H_sol",
           "upper": 443.42756042480465
          },
          {
           "lower": 35.45539093017578,
           "timepoint": 15.300000190734863,
           "trajectory": "H_sol",
           "upper": 454.0254562377929
          },
          {
           "lower": 36.274618530273436,
           "timepoint": 15.40000057220459,
           "trajectory": "H_sol",
           "upper": 464.87440948486324
          },
          {
           "lower": 37.11273374557495,
           "timepoint": 15.5,
           "trajectory": "H_sol",
           "upper": 475.9811416625976
          },
          {
           "lower": 37.97011671066284,
           "timepoint": 15.600000381469727,
           "trajectory": "H_sol",
           "upper": 487.3521575927734
          },
          {
           "lower": 38.84718942642212,
           "timepoint": 15.699999809265137,
           "trajectory": "H_sol",
           "upper": 498.9933929443359
          },
          {
           "lower": 39.74444274902344,
           "timepoint": 15.800000190734863,
           "trajectory": "H_sol",
           "upper": 510.9116790771484
          },
          {
           "lower": 40.662319564819335,
           "timepoint": 15.90000057220459,
           "trajectory": "H_sol",
           "upper": 523.1133087158203
          },
          {
           "lower": 41.601288414001466,
           "timepoint": 16,
           "trajectory": "H_sol",
           "upper": 535.604946899414
          },
          {
           "lower": 42.56178855895996,
           "timepoint": 16.100000381469727,
           "trajectory": "H_sol",
           "upper": 548.393896484375
          },
          {
           "lower": 43.54441108703613,
           "timepoint": 16.200000762939453,
           "trajectory": "H_sol",
           "upper": 561.4871093749999
          },
          {
           "lower": 44.54961853027344,
           "timepoint": 16.30000114440918,
           "trajectory": "H_sol",
           "upper": 574.8916534423828
          },
          {
           "lower": 45.577911186218266,
           "timepoint": 16.399999618530273,
           "trajectory": "H_sol",
           "upper": 588.9584167480468
          },
          {
           "lower": 46.629867744445804,
           "timepoint": 16.5,
           "trajectory": "H_sol",
           "upper": 603.5320098876953
          },
          {
           "lower": 47.706000900268556,
           "timepoint": 16.600000381469727,
           "trajectory": "H_sol",
           "upper": 618.465054321289
          },
          {
           "lower": 48.80686779022217,
           "timepoint": 16.700000762939453,
           "trajectory": "H_sol",
           "upper": 633.7666229248047
          },
          {
           "lower": 49.93314971923828,
           "timepoint": 16.80000114440918,
           "trajectory": "H_sol",
           "upper": 649.445635986328
          },
          {
           "lower": 51.08523044586182,
           "timepoint": 16.899999618530273,
           "trajectory": "H_sol",
           "upper": 665.5111114501952
          },
          {
           "lower": 52.263827133178715,
           "timepoint": 17,
           "trajectory": "H_sol",
           "upper": 681.9732391357421
          },
          {
           "lower": 53.4695240020752,
           "timepoint": 17.100000381469727,
           "trajectory": "H_sol",
           "upper": 698.8421142578125
          },
          {
           "lower": 54.70294666290283,
           "timepoint": 17.200000762939453,
           "trajectory": "H_sol",
           "upper": 716.1267456054687
          },
          {
           "lower": 55.96473407745361,
           "timepoint": 17.30000114440918,
           "trajectory": "H_sol",
           "upper": 733.8377136230469
          },
          {
           "lower": 57.25552043914795,
           "timepoint": 17.399999618530273,
           "trajectory": "H_sol",
           "upper": 751.9853118896484
          },
          {
           "lower": 58.578104400634764,
           "timepoint": 17.5,
           "trajectory": "H_sol",
           "upper": 770.5809326171875
          },
          {
           "lower": 59.93402919769287,
           "timepoint": 17.600000381469727,
           "trajectory": "H_sol",
           "upper": 789.6352966308593
          },
          {
           "lower": 61.32131423950196,
           "timepoint": 17.700000762939453,
           "trajectory": "H_sol",
           "upper": 808.1808441162109
          },
          {
           "lower": 62.74062252044678,
           "timepoint": 17.80000114440918,
           "trajectory": "H_sol",
           "upper": 827.1564056396485
          },
          {
           "lower": 64.19267807006837,
           "timepoint": 17.899999618530273,
           "trajectory": "H_sol",
           "upper": 846.5779724121094
          },
          {
           "lower": 65.6782735824585,
           "timepoint": 18,
           "trajectory": "H_sol",
           "upper": 866.4548797607422
          },
          {
           "lower": 67.19816951751709,
           "timepoint": 18.100000381469727,
           "trajectory": "H_sol",
           "upper": 886.7972869873047
          },
          {
           "lower": 68.75315132141114,
           "timepoint": 18.200000762939453,
           "trajectory": "H_sol",
           "upper": 907.6162170410156
          },
          {
           "lower": 70.34408550262451,
           "timepoint": 18.30000114440918,
           "trajectory": "H_sol",
           "upper": 928.9228851318359
          },
          {
           "lower": 71.97168712615967,
           "timepoint": 18.399999618530273,
           "trajectory": "H_sol",
           "upper": 950.7275146484375
          },
          {
           "lower": 73.63689231872559,
           "timepoint": 18.5,
           "trajectory": "H_sol",
           "upper": 973.0436767578125
          },
          {
           "lower": 75.34053401947021,
           "timepoint": 18.600000381469727,
           "trajectory": "H_sol",
           "upper": 995.8823486328124
          },
          {
           "lower": 77.0834415435791,
           "timepoint": 18.700000762939453,
           "trajectory": "H_sol",
           "upper": 1019.2557983398438
          },
          {
           "lower": 78.86661949157715,
           "timepoint": 18.80000114440918,
           "trajectory": "H_sol",
           "upper": 1043.1767517089843
          },
          {
           "lower": 80.69093666076661,
           "timepoint": 18.899999618530273,
           "trajectory": "H_sol",
           "upper": 1067.6570739746094
          },
          {
           "lower": 82.55728569030762,
           "timepoint": 19,
           "trajectory": "H_sol",
           "upper": 1092.710467529297
          },
          {
           "lower": 84.46669349670411,
           "timepoint": 19.100000381469727,
           "trajectory": "H_sol",
           "upper": 1118.34990234375
          },
          {
           "lower": 86.42004165649415,
           "timepoint": 19.200000762939453,
           "trajectory": "H_sol",
           "upper": 1144.5884155273436
          },
          {
           "lower": 88.41840553283691,
           "timepoint": 19.30000114440918,
           "trajectory": "H_sol",
           "upper": 1171.4386413574218
          },
          {
           "lower": 90.46250228881836,
           "timepoint": 19.399999618530273,
           "trajectory": "H_sol",
           "upper": 1198.9150451660155
          },
          {
           "lower": 92.5533836364746,
           "timepoint": 19.5,
           "trajectory": "H_sol",
           "upper": 1227.02880859375
          },
          {
           "lower": 94.69172821044923,
           "timepoint": 19.600000381469727,
           "trajectory": "H_sol",
           "upper": 1255.792138671875
          },
          {
           "lower": 96.87812385559083,
           "timepoint": 19.700000762939453,
           "trajectory": "H_sol",
           "upper": 1285.208898925781
          },
          {
           "lower": 99.11292266845703,
           "timepoint": 19.80000114440918,
           "trajectory": "H_sol",
           "upper": 1315.2886413574217
          },
          {
           "lower": 101.39600334167481,
           "timepoint": 19.899999618530273,
           "trajectory": "H_sol",
           "upper": 1346.0357421874999
          },
          {
           "lower": 103.72681961059571,
           "timepoint": 20,
           "trajectory": "H_sol",
           "upper": 1377.438409423828
          },
          {
           "lower": 106.10409431457519,
           "timepoint": 20.100000381469727,
           "trajectory": "H_sol",
           "upper": 1409.4832702636718
          },
          {
           "lower": 108.52594947814941,
           "timepoint": 20.200000762939453,
           "trajectory": "H_sol",
           "upper": 1442.4330993652343
          },
          {
           "lower": 110.9897289276123,
           "timepoint": 20.30000114440918,
           "trajectory": "H_sol",
           "upper": 1476.3104675292968
          },
          {
           "lower": 113.49250602722168,
           "timepoint": 20.399999618530273,
           "trajectory": "H_sol",
           "upper": 1510.764953613281
          },
          {
           "lower": 116.0307830810547,
           "timepoint": 20.5,
           "trajectory": "H_sol",
           "upper": 1545.7565612792966
          },
          {
           "lower": 118.60125541687012,
           "timepoint": 20.600000381469727,
           "trajectory": "H_sol",
           "upper": 1581.2416015625
          },
          {
           "lower": 121.19999465942384,
           "timepoint": 20.700000762939453,
           "trajectory": "H_sol",
           "upper": 1617.1757446289062
          },
          {
           "lower": 123.82375297546388,
           "timepoint": 20.80000114440918,
           "trajectory": "H_sol",
           "upper": 1653.5130310058591
          },
          {
           "lower": 126.46872901916504,
           "timepoint": 20.899999618530273,
           "trajectory": "H_sol",
           "upper": 1690.212658691406
          },
          {
           "lower": 129.13176345825195,
           "timepoint": 21,
           "trajectory": "H_sol",
           "upper": 1727.2339111328122
          },
          {
           "lower": 131.80964012145998,
           "timepoint": 21.100000381469727,
           "trajectory": "H_sol",
           "upper": 1764.5370056152342
          },
          {
           "lower": 134.49918289184572,
           "timepoint": 21.200000762939453,
           "trajectory": "H_sol",
           "upper": 1802.0838806152342
          },
          {
           "lower": 137.1975860595703,
           "timepoint": 21.30000114440918,
           "trajectory": "H_sol",
           "upper": 1839.8383850097655
          },
          {
           "lower": 139.90183715820314,
           "timepoint": 21.399999618530273,
           "trajectory": "H_sol",
           "upper": 1877.7691772460935
          },
          {
           "lower": 142.6096706390381,
           "timepoint": 21.5,
           "trajectory": "H_sol",
           "upper": 1915.8425292968748
          },
          {
           "lower": 145.3185287475586,
           "timepoint": 21.600000381469727,
           "trajectory": "H_sol",
           "upper": 1954.0296569824216
          },
          {
           "lower": 148.02610321044924,
           "timepoint": 21.700000762939453,
           "trajectory": "H_sol",
           "upper": 1992.3019287109373
          },
          {
           "lower": 150.73024673461916,
           "timepoint": 21.80000114440918,
           "trajectory": "H_sol",
           "upper": 2030.6333923339841
          },
          {
           "lower": 153.42821044921877,
           "timepoint": 21.899999618530273,
           "trajectory": "H_sol",
           "upper": 2068.998413085937
          },
          {
           "lower": 156.11906204223632,
           "timepoint": 22,
           "trajectory": "H_sol",
           "upper": 2107.37431640625
          },
          {
           "lower": 158.8005813598633,
           "timepoint": 22.100000381469727,
           "trajectory": "H_sol",
           "upper": 2145.7387695312495
          },
          {
           "lower": 161.4710350036621,
           "timepoint": 22.200000762939453,
           "trajectory": "H_sol",
           "upper": 2184.0713256835934
          },
          {
           "lower": 164.1287910461426,
           "timepoint": 22.30000114440918,
           "trajectory": "H_sol",
           "upper": 2222.359533691406
          },
          {
           "lower": 166.77311096191406,
           "timepoint": 22.399999618530273,
           "trajectory": "H_sol",
           "upper": 2260.575256347656
          },
          {
           "lower": 169.40158081054688,
           "timepoint": 22.5,
           "trajectory": "H_sol",
           "upper": 2298.706896972656
          },
          {
           "lower": 172.01335525512695,
           "timepoint": 22.600000381469727,
           "trajectory": "H_sol",
           "upper": 2336.7389648437497
          },
          {
           "lower": 174.60720672607422,
           "timepoint": 22.700000762939453,
           "trajectory": "H_sol",
           "upper": 2374.6581054687495
          },
          {
           "lower": 177.18202056884766,
           "timepoint": 22.80000114440918,
           "trajectory": "H_sol",
           "upper": 2412.4455444335936
          },
          {
           "lower": 179.7364227294922,
           "timepoint": 22.899999618530273,
           "trajectory": "H_sol",
           "upper": 2450.094067382812
          },
          {
           "lower": 182.27004165649416,
           "timepoint": 23,
           "trajectory": "H_sol",
           "upper": 2487.591711425781
          },
          {
           "lower": 184.78169784545898,
           "timepoint": 23.100000381469727,
           "trajectory": "H_sol",
           "upper": 2524.9266601562495
          },
          {
           "lower": 187.27066345214845,
           "timepoint": 23.200000762939453,
           "trajectory": "H_sol",
           "upper": 2562.089770507812
          },
          {
           "lower": 189.7361831665039,
           "timepoint": 23.30000114440918,
           "trajectory": "H_sol",
           "upper": 2599.076647949218
          },
          {
           "lower": 192.17703018188476,
           "timepoint": 23.399999618530273,
           "trajectory": "H_sol",
           "upper": 2635.8705566406247
          },
          {
           "lower": 194.59338150024413,
           "timepoint": 23.5,
           "trajectory": "H_sol",
           "upper": 2672.4688842773435
          },
          {
           "lower": 196.9843650817871,
           "timepoint": 23.600000381469727,
           "trajectory": "H_sol",
           "upper": 2708.863830566406
          },
          {
           "lower": 199.3494369506836,
           "timepoint": 23.700000762939453,
           "trajectory": "H_sol",
           "upper": 2745.049719238281
          },
          {
           "lower": 201.68814239501953,
           "timepoint": 23.80000114440918,
           "trajectory": "H_sol",
           "upper": 2781.020483398437
          },
          {
           "lower": 203.9999076843262,
           "timepoint": 23.899999618530273,
           "trajectory": "H_sol",
           "upper": 2816.7709472656247
          },
          {
           "lower": 206.28460540771485,
           "timepoint": 24,
           "trajectory": "H_sol",
           "upper": 2852.2972167968746
          },
          {
           "lower": 208.54180908203125,
           "timepoint": 24.100000381469727,
           "trajectory": "H_sol",
           "upper": 2887.594885253906
          },
          {
           "lower": 210.77121124267578,
           "timepoint": 24.200000762939453,
           "trajectory": "H_sol",
           "upper": 2922.660327148437
          },
          {
           "lower": 212.97258987426758,
           "timepoint": 24.30000114440918,
           "trajectory": "H_sol",
           "upper": 2957.4317871093745
          },
          {
           "lower": 215.14565353393556,
           "timepoint": 24.399999618530273,
           "trajectory": "H_sol",
           "upper": 2991.943688964843
          },
          {
           "lower": 217.2903129577637,
           "timepoint": 24.5,
           "trajectory": "H_sol",
           "upper": 3026.221411132812
          },
          {
           "lower": 219.40639953613282,
           "timepoint": 24.600000381469727,
           "trajectory": "H_sol",
           "upper": 3060.2525390624996
          },
          {
           "lower": 221.49379959106446,
           "timepoint": 24.700000762939453,
           "trajectory": "H_sol",
           "upper": 3094.039367675781
          },
          {
           "lower": 223.5524024963379,
           "timepoint": 24.80000114440918,
           "trajectory": "H_sol",
           "upper": 3127.581469726562
          },
          {
           "lower": 225.58214263916017,
           "timepoint": 24.899999618530273,
           "trajectory": "H_sol",
           "upper": 3160.876135253906
          },
          {
           "lower": 227.5830520629883,
           "timepoint": 25,
           "trajectory": "H_sol",
           "upper": 3193.9247680664057
          },
          {
           "lower": 229.55524368286135,
           "timepoint": 25.100000381469727,
           "trajectory": "H_sol",
           "upper": 3226.729663085937
          },
          {
           "lower": 231.49845809936525,
           "timepoint": 25.200000762939453,
           "trajectory": "H_sol",
           "upper": 3259.285778808593
          },
          {
           "lower": 233.41285705566406,
           "timepoint": 25.30000114440918,
           "trajectory": "H_sol",
           "upper": 3291.595593261718
          },
          {
           "lower": 235.29845962524413,
           "timepoint": 25.399999618530273,
           "trajectory": "H_sol",
           "upper": 3323.658959960937
          },
          {
           "lower": 237.15539779663087,
           "timepoint": 25.5,
           "trajectory": "H_sol",
           "upper": 3355.477575683593
          },
          {
           "lower": 238.98379364013672,
           "timepoint": 25.600000381469727,
           "trajectory": "H_sol",
           "upper": 3387.0519653320307
          },
          {
           "lower": 240.78371047973633,
           "timepoint": 25.700000762939453,
           "trajectory": "H_sol",
           "upper": 3418.3826416015618
          },
          {
           "lower": 242.5553871154785,
           "timepoint": 25.80000114440918,
           "trajectory": "H_sol",
           "upper": 3449.4715087890618
          },
          {
           "lower": 244.29877090454102,
           "timepoint": 25.899999618530273,
           "trajectory": "H_sol",
           "upper": 3480.3195434570307
          },
          {
           "lower": 246.01414794921877,
           "timepoint": 26,
           "trajectory": "H_sol",
           "upper": 3510.929565429687
          },
          {
           "lower": 247.70167541503906,
           "timepoint": 26.100000381469727,
           "trajectory": "H_sol",
           "upper": 3541.3022949218744
          },
          {
           "lower": 249.36153259277344,
           "timepoint": 26.200000762939453,
           "trajectory": "H_sol",
           "upper": 3571.4396484374993
          },
          {
           "lower": 250.99390258789063,
           "timepoint": 26.30000114440918,
           "trajectory": "H_sol",
           "upper": 3601.343847656249
          },
          {
           "lower": 252.59873580932617,
           "timepoint": 26.399999618530273,
           "trajectory": "H_sol",
           "upper": 3631.014501953124
          },
          {
           "lower": 254.17669754028321,
           "timepoint": 26.5,
           "trajectory": "H_sol",
           "upper": 3660.457580566406
          },
          {
           "lower": 255.72779769897463,
           "timepoint": 26.600000381469727,
           "trajectory": "H_sol",
           "upper": 3689.6741333007803
          },
          {
           "lower": 257.2522888183594,
           "timepoint": 26.700000762939453,
           "trajectory": "H_sol",
           "upper": 3718.665954589843
          },
          {
           "lower": 258.75036239624023,
           "timepoint": 26.80000114440918,
           "trajectory": "H_sol",
           "upper": 3747.4358642578118
          },
          {
           "lower": 260.2223342895508,
           "timepoint": 26.899999618530273,
           "trajectory": "H_sol",
           "upper": 3775.9856689453118
          },
          {
           "lower": 261.66845321655273,
           "timepoint": 27,
           "trajectory": "H_sol",
           "upper": 3804.319262695312
          },
          {
           "lower": 263.0888442993164,
           "timepoint": 27.100000381469727,
           "trajectory": "H_sol",
           "upper": 3832.440673828124
          },
          {
           "lower": 264.4839569091797,
           "timepoint": 27.200000762939453,
           "trajectory": "H_sol",
           "upper": 3860.348901367187
          },
          {
           "lower": 265.8539215087891,
           "timepoint": 27.30000114440918,
           "trajectory": "H_sol",
           "upper": 3888.048278808593
          },
          {
           "lower": 267.19900970458986,
           "timepoint": 27.399999618530273,
           "trajectory": "H_sol",
           "upper": 3915.5411621093745
          },
          {
           "lower": 268.519556427002,
           "timepoint": 27.5,
           "trajectory": "H_sol",
           "upper": 3942.831677246093
          },
          {
           "lower": 269.8157768249512,
           "timepoint": 27.600000381469727,
           "trajectory": "H_sol",
           "upper": 3969.921228027343
          },
          {
           "lower": 271.0879760742188,
           "timepoint": 27.700000762939453,
           "trajectory": "H_sol",
           "upper": 3996.8132080078117
          },
          {
           "lower": 272.3363983154297,
           "timepoint": 27.80000114440918,
           "trajectory": "H_sol",
           "upper": 4023.5109619140617
          },
          {
           "lower": 273.5618980407715,
           "timepoint": 27.899999618530273,
           "trajectory": "H_sol",
           "upper": 4050.0228271484366
          },
          {
           "lower": 274.76385498046875,
           "timepoint": 28,
           "trajectory": "H_sol",
           "upper": 4076.3419921874993
          },
          {
           "lower": 275.9429626464844,
           "timepoint": 28.100000381469727,
           "trajectory": "H_sol",
           "upper": 4102.475561523437
          },
          {
           "lower": 277.0994438171387,
           "timepoint": 28.200000762939453,
           "trajectory": "H_sol",
           "upper": 4128.426928710936
          },
          {
           "lower": 278.2336120605469,
           "timepoint": 28.30000114440918,
           "trajectory": "H_sol",
           "upper": 4154.198779296874
          },
          {
           "lower": 279.3456832885742,
           "timepoint": 28.399999618530273,
           "trajectory": "H_sol",
           "upper": 4179.794287109375
          },
          {
           "lower": 280.4360237121582,
           "timepoint": 28.5,
           "trajectory": "H_sol",
           "upper": 4205.216064453124
          },
          {
           "lower": 281.50586395263673,
           "timepoint": 28.600000381469727,
           "trajectory": "H_sol",
           "upper": 4230.467407226562
          },
          {
           "lower": 282.5539131164551,
           "timepoint": 28.700000762939453,
           "trajectory": "H_sol",
           "upper": 4255.552197265624
          },
          {
           "lower": 283.5811424255371,
           "timepoint": 28.80000114440918,
           "trajectory": "H_sol",
           "upper": 4280.471582031249
          },
          {
           "lower": 284.5877685546875,
           "timepoint": 28.899999618530273,
           "trajectory": "H_sol",
           "upper": 4305.229809570312
          },
          {
           "lower": 285.5741561889649,
           "timepoint": 29,
           "trajectory": "H_sol",
           "upper": 4329.829858398437
          },
          {
           "lower": 286.5405784606934,
           "timepoint": 29.100000381469727,
           "trajectory": "H_sol",
           "upper": 4354.273852539061
          },
          {
           "lower": 287.4872817993164,
           "timepoint": 29.200000762939453,
           "trajectory": "H_sol",
           "upper": 4378.566406249999
          },
          {
           "lower": 288.4145706176758,
           "timepoint": 29.30000114440918,
           "trajectory": "H_sol",
           "upper": 4402.708691406249
          },
          {
           "lower": 289.3231544494629,
           "timepoint": 29.399999618530273,
           "trajectory": "H_sol",
           "upper": 4426.704003906249
          },
          {
           "lower": 290.21261367797854,
           "timepoint": 29.5,
           "trajectory": "H_sol",
           "upper": 4450.556420898437
          },
          {
           "lower": 291.0835121154785,
           "timepoint": 29.600000381469727,
           "trajectory": "H_sol",
           "upper": 4474.263647460936
          },
          {
           "lower": 291.9361877441406,
           "timepoint": 29.700000762939453,
           "trajectory": "H_sol",
           "upper": 4497.836059570312
          },
          {
           "lower": 292.7707908630371,
           "timepoint": 29.80000114440918,
           "trajectory": "H_sol",
           "upper": 4521.273339843749
          },
          {
           "lower": 293.58768463134766,
           "timepoint": 29.899999618530273,
           "trajectory": "H_sol",
           "upper": 4544.577001953124
          },
          {
           "lower": 294.38714599609375,
           "timepoint": 30,
           "trajectory": "H_sol",
           "upper": 4567.752221679687
          },
          {
           "lower": 295.169450378418,
           "timepoint": 30.100000381469727,
           "trajectory": "H_sol",
           "upper": 4590.801049804687
          },
          {
           "lower": 295.9348114013672,
           "timepoint": 30.200000762939453,
           "trajectory": "H_sol",
           "upper": 4613.724999999999
          },
          {
           "lower": 296.68367767333984,
           "timepoint": 30.30000114440918,
           "trajectory": "H_sol",
           "upper": 4636.527954101562
          },
          {
           "lower": 297.4160614013672,
           "timepoint": 30.399999618530273,
           "trajectory": "H_sol",
           "upper": 4659.211914062499
          },
          {
           "lower": 298.1322906494141,
           "timepoint": 30.5,
           "trajectory": "H_sol",
           "upper": 4681.777954101562
          },
          {
           "lower": 298.83264770507816,
           "timepoint": 30.600000381469727,
           "trajectory": "H_sol",
           "upper": 4704.232202148437
          },
          {
           "lower": 299.51743164062503,
           "timepoint": 30.700000762939453,
           "trajectory": "H_sol",
           "upper": 4726.575317382812
          },
          {
           "lower": 300.1868011474609,
           "timepoint": 30.80000114440918,
           "trajectory": "H_sol",
           "upper": 4748.810131835937
          },
          {
           "lower": 300.84102935791014,
           "timepoint": 30.899999618530273,
           "trajectory": "H_sol",
           "upper": 4770.939111328124
          },
          {
           "lower": 301.4804153442383,
           "timepoint": 31,
           "trajectory": "H_sol",
           "upper": 4792.966381835937
          },
          {
           "lower": 302.10509033203124,
           "timepoint": 31.100000381469727,
           "trajectory": "H_sol",
           "upper": 4814.892211914062
          },
          {
           "lower": 302.7160217285156,
           "timepoint": 31.19999885559082,
           "trajectory": "H_sol",
           "upper": 4836.719604492187
          },
          {
           "lower": 303.3123550415039,
           "timepoint": 31.299999237060547,
           "trajectory": "H_sol",
           "upper": 4858.451928710936
          },
          {
           "lower": 303.8947784423828,
           "timepoint": 31.399999618530273,
           "trajectory": "H_sol",
           "upper": 4880.091625976562
          },
          {
           "lower": 304.4635604858399,
           "timepoint": 31.5,
           "trajectory": "H_sol",
           "upper": 4901.634643554687
          },
          {
           "lower": 305.018881225586,
           "timepoint": 31.600000381469727,
           "trajectory": "H_sol",
           "upper": 4923.092236328124
          },
          {
           "lower": 305.56101074218753,
           "timepoint": 31.69999885559082,
           "trajectory": "H_sol",
           "upper": 4944.464526367186
          },
          {
           "lower": 306.0901596069336,
           "timepoint": 31.799999237060547,
           "trajectory": "H_sol",
           "upper": 4965.7520996093735
          },
          {
           "lower": 306.60660247802736,
           "timepoint": 31.899999618530273,
           "trajectory": "H_sol",
           "upper": 4986.957861328124
          },
          {
           "lower": 307.110498046875,
           "timepoint": 32,
           "trajectory": "H_sol",
           "upper": 5008.084228515624
          },
          {
           "lower": 307.60205535888673,
           "timepoint": 32.099998474121094,
           "trajectory": "H_sol",
           "upper": 5029.133154296874
          },
          {
           "lower": 308.08126068115234,
           "timepoint": 32.19999694824219,
           "trajectory": "H_sol",
           "upper": 5050.105688476561
          },
          {
           "lower": 308.54875793457035,
           "timepoint": 32.29999923706055,
           "trajectory": "H_sol",
           "upper": 5071.006640624999
          },
          {
           "lower": 309.00450592041017,
           "timepoint": 32.400001525878906,
           "trajectory": "H_sol",
           "upper": 5091.836035156249
          },
          {
           "lower": 309.44872283935547,
           "timepoint": 32.5,
           "trajectory": "H_sol",
           "upper": 5112.596313476562
          },
          {
           "lower": 309.88172912597656,
           "timepoint": 32.599998474121094,
           "trajectory": "H_sol",
           "upper": 5133.287622070311
          },
          {
           "lower": 310.3036148071289,
           "timepoint": 32.69999694824219,
           "trajectory": "H_sol",
           "upper": 5153.915576171874
          },
          {
           "lower": 310.7145401000977,
           "timepoint": 32.79999923706055,
           "trajectory": "H_sol",
           "upper": 5174.481249999999
          },
          {
           "lower": 311.11483306884764,
           "timepoint": 32.900001525878906,
           "trajectory": "H_sol",
           "upper": 5194.986181640624
          },
          {
           "lower": 311.5045593261719,
           "timepoint": 33,
           "trajectory": "H_sol",
           "upper": 5215.429858398436
          },
          {
           "lower": 311.8839309692383,
           "timepoint": 33.099998474121094,
           "trajectory": "H_sol",
           "upper": 5235.817578124999
          },
          {
           "lower": 312.2531875610352,
           "timepoint": 33.19999694824219,
           "trajectory": "H_sol",
           "upper": 5256.149096679686
          },
          {
           "lower": 312.61234283447266,
           "timepoint": 33.29999923706055,
           "trajectory": "H_sol",
           "upper": 5276.428491210936
          },
          {
           "lower": 312.96178131103517,
           "timepoint": 33.400001525878906,
           "trajectory": "H_sol",
           "upper": 5296.655468749998
          },
          {
           "lower": 313.30156555175785,
           "timepoint": 33.5,
           "trajectory": "H_sol",
           "upper": 5316.8319335937485
          },
          {
           "lower": 313.6319091796875,
           "timepoint": 33.599998474121094,
           "trajectory": "H_sol",
           "upper": 5336.959814453124
          },
          {
           "lower": 313.9529693603516,
           "timepoint": 33.69999694824219,
           "trajectory": "H_sol",
           "upper": 5357.042089843749
          },
          {
           "lower": 314.26495056152345,
           "timepoint": 33.79999923706055,
           "trajectory": "H_sol",
           "upper": 5377.079296874998
          },
          {
           "lower": 314.5679244995117,
           "timepoint": 33.900001525878906,
           "trajectory": "H_sol",
           "upper": 5397.0816894531235
          },
          {
           "lower": 314.86209869384766,
           "timepoint": 34,
           "trajectory": "H_sol",
           "upper": 5417.035839843748
          },
          {
           "lower": 315.1476272583008,
           "timepoint": 34.099998474121094,
           "trajectory": "H_sol",
           "upper": 5436.948925781248
          },
          {
           "lower": 315.42466430664064,
           "timepoint": 34.19999694824219,
           "trajectory": "H_sol",
           "upper": 5456.8255859374985
          },
          {
           "lower": 315.6934188842774,
           "timepoint": 34.29999923706055,
           "trajectory": "H_sol",
           "upper": 5476.665478515623
          },
          {
           "lower": 315.95465087890625,
           "timepoint": 34.400001525878906,
           "trajectory": "H_sol",
           "upper": 5496.470556640624
          },
          {
           "lower": 316.2072982788086,
           "timepoint": 34.5,
           "trajectory": "H_sol",
           "upper": 5516.241723632811
          },
          {
           "lower": 316.4520889282227,
           "timepoint": 34.599998474121094,
           "trajectory": "H_sol",
           "upper": 5535.979492187499
          },
          {
           "lower": 316.68921051025393,
           "timepoint": 34.69999694824219,
           "trajectory": "H_sol",
           "upper": 5555.688110351562
          },
          {
           "lower": 316.91866607666014,
           "timepoint": 34.79999923706055,
           "trajectory": "H_sol",
           "upper": 5575.368237304686
          },
          {
           "lower": 317.14075164794923,
           "timepoint": 34.900001525878906,
           "trajectory": "H_sol",
           "upper": 5595.021313476561
          },
          {
           "lower": 317.35550689697266,
           "timepoint": 35,
           "trajectory": "H_sol",
           "upper": 5614.647265624999
          },
          {
           "lower": 317.5631088256836,
           "timepoint": 35.099998474121094,
           "trajectory": "H_sol",
           "upper": 5634.2491699218735
          },
          {
           "lower": 317.76368255615233,
           "timepoint": 35.19999694824219,
           "trajectory": "H_sol",
           "upper": 5653.821850585936
          },
          {
           "lower": 317.9573486328125,
           "timepoint": 35.29999923706055,
           "trajectory": "H_sol",
           "upper": 5673.377514648436
          },
          {
           "lower": 318.14431915283205,
           "timepoint": 35.400001525878906,
           "trajectory": "H_sol",
           "upper": 5692.912475585936
          },
          {
           "lower": 318.32457122802737,
           "timepoint": 35.5,
           "trajectory": "H_sol",
           "upper": 5712.427270507811
          },
          {
           "lower": 318.4980804443359,
           "timepoint": 35.599998474121094,
           "trajectory": "H_sol",
           "upper": 5731.922875976561
          },
          {
           "lower": 318.66534729003905,
           "timepoint": 35.69999694824219,
           "trajectory": "H_sol",
           "upper": 5751.401708984374
          },
          {
           "lower": 318.82627868652344,
           "timepoint": 35.79999923706055,
           "trajectory": "H_sol",
           "upper": 5770.865234374998
          },
          {
           "lower": 318.9811492919922,
           "timepoint": 35.900001525878906,
           "trajectory": "H_sol",
           "upper": 5790.314892578123
          },
          {
           "lower": 319.1299057006836,
           "timepoint": 36,
           "trajectory": "H_sol",
           "upper": 5809.749291992186
          },
          {
           "lower": 319.27273406982425,
           "timepoint": 36.099998474121094,
           "trajectory": "H_sol",
           "upper": 5829.173510742186
          },
          {
           "lower": 319.40977935791017,
           "timepoint": 36.19999694824219,
           "trajectory": "H_sol",
           "upper": 5848.584814453124
          },
          {
           "lower": 319.5410186767578,
           "timepoint": 36.29999923706055,
           "trajectory": "H_sol",
           "upper": 5867.987158203124
          },
          {
           "lower": 319.66674957275393,
           "timepoint": 36.400001525878906,
           "trajectory": "H_sol",
           "upper": 5887.380151367186
          },
          {
           "lower": 319.7869155883789,
           "timepoint": 36.5,
           "trajectory": "H_sol",
           "upper": 5906.765576171873
          },
          {
           "lower": 319.9017013549805,
           "timepoint": 36.599998474121094,
           "trajectory": "H_sol",
           "upper": 5926.143164062499
          },
          {
           "lower": 320.0111679077149,
           "timepoint": 36.69999694824219,
           "trajectory": "H_sol",
           "upper": 5945.524487304686
          },
          {
           "lower": 320.11546325683594,
           "timepoint": 36.79999923706055,
           "trajectory": "H_sol",
           "upper": 5964.894824218749
          },
          {
           "lower": 320.2146499633789,
           "timepoint": 36.900001525878906,
           "trajectory": "H_sol",
           "upper": 5984.261669921873
          },
          {
           "lower": 320.30893859863284,
           "timepoint": 37,
           "trajectory": "H_sol",
           "upper": 6003.624951171873
          },
          {
           "lower": 320.3982162475586,
           "timepoint": 37.099998474121094,
           "trajectory": "H_sol",
           "upper": 6022.987133789061
          },
          {
           "lower": 320.4827194213867,
           "timepoint": 37.19999694824219,
           "trajectory": "H_sol",
           "upper": 6042.348681640623
          },
          {
           "lower": 320.56245269775394,
           "timepoint": 37.29999923706055,
           "trajectory": "H_sol",
           "upper": 6061.7115966796855
          },
          {
           "lower": 320.6375946044922,
           "timepoint": 37.400001525878906,
           "trajectory": "H_sol",
           "upper": 6081.075903320311
          },
          {
           "lower": 320.7081497192383,
           "timepoint": 37.5,
           "trajectory": "H_sol",
           "upper": 6100.441992187499
          },
          {
           "lower": 320.77426757812503,
           "timepoint": 37.599998474121094,
           "trajectory": "H_sol",
           "upper": 6119.8109374999985
          },
          {
           "lower": 320.83606719970703,
           "timepoint": 37.69999694824219,
           "trajectory": "H_sol",
           "upper": 6139.184130859373
          },
          {
           "lower": 320.8935241699219,
           "timepoint": 37.79999923706055,
           "trajectory": "H_sol",
           "upper": 6158.563525390623
          },
          {
           "lower": 320.9468200683594,
           "timepoint": 37.900001525878906,
           "trajectory": "H_sol",
           "upper": 6177.948754882811
          },
          {
           "lower": 320.99598388671876,
           "timepoint": 38,
           "trajectory": "H_sol",
           "upper": 6197.3392578124985
          },
          {
           "lower": 321.0411087036133,
           "timepoint": 38.099998474121094,
           "trajectory": "H_sol",
           "upper": 6216.7379394531235
          },
          {
           "lower": 321.08228607177733,
           "timepoint": 38.19999694824219,
           "trajectory": "H_sol",
           "upper": 6236.144873046874
          },
          {
           "lower": 321.1196014404297,
           "timepoint": 38.29999923706055,
           "trajectory": "H_sol",
           "upper": 6255.5624023437485
          },
          {
           "lower": 321.15315093994144,
           "timepoint": 38.400001525878906,
           "trajectory": "H_sol",
           "upper": 6274.9896484374985
          },
          {
           "lower": 321.1824234008789,
           "timepoint": 38.5,
           "trajectory": "H_sol",
           "upper": 6294.430786132811
          },
          {
           "lower": 321.2084426879883,
           "timepoint": 38.599998474121094,
           "trajectory": "H_sol",
           "upper": 6313.8802978515605
          },
          {
           "lower": 321.2308807373047,
           "timepoint": 38.69999694824219,
           "trajectory": "H_sol",
           "upper": 6333.342407226561
          },
          {
           "lower": 321.2497100830078,
           "timepoint": 38.79999923706055,
           "trajectory": "H_sol",
           "upper": 6352.817651367186
          },
          {
           "lower": 321.2651336669922,
           "timepoint": 38.900001525878906,
           "trajectory": "H_sol",
           "upper": 6372.307470703123
          },
          {
           "lower": 321.2771621704102,
           "timepoint": 39,
           "trajectory": "H_sol",
           "upper": 6391.811352539061
          },
          {
           "lower": 321.28587799072267,
           "timepoint": 39.099998474121094,
           "trajectory": "H_sol",
           "upper": 6411.330322265623
          },
          {
           "lower": 321.29129180908205,
           "timepoint": 39.19999694824219,
           "trajectory": "H_sol",
           "upper": 6430.865356445311
          },
          {
           "lower": 321.29354400634764,
           "timepoint": 39.29999923706055,
           "trajectory": "H_sol",
           "upper": 6450.4183593749985
          },
          {
           "lower": 321.29270324707034,
           "timepoint": 39.400001525878906,
           "trajectory": "H_sol",
           "upper": 6469.9879394531235
          },
          {
           "lower": 321.28873748779296,
           "timepoint": 39.5,
           "trajectory": "H_sol",
           "upper": 6489.575976562498
          },
          {
           "lower": 321.28176727294925,
           "timepoint": 39.599998474121094,
           "trajectory": "H_sol",
           "upper": 6509.180639648435
          },
          {
           "lower": 321.27188568115236,
           "timepoint": 39.69999694824219,
           "trajectory": "H_sol",
           "upper": 6528.806591796873
          },
          {
           "lower": 321.2590606689453,
           "timepoint": 39.79999923706055,
           "trajectory": "H_sol",
           "upper": 6548.4530273437485
          },
          {
           "lower": 321.24341888427733,
           "timepoint": 39.900001525878906,
           "trajectory": "H_sol",
           "upper": 6568.120410156248
          },
          {
           "lower": 321.2250411987305,
           "timepoint": 40,
           "trajectory": "H_sol",
           "upper": 6587.8072998046855
          },
          {
           "lower": 321.2031158447266,
           "timepoint": 40.099998474121094,
           "trajectory": "H_sol",
           "upper": 6607.517065429685
          },
          {
           "lower": 321.1791976928711,
           "timepoint": 40.19999694824219,
           "trajectory": "H_sol",
           "upper": 6627.248779296873
          },
          {
           "lower": 321.1526138305664,
           "timepoint": 40.29999923706055,
           "trajectory": "H_sol",
           "upper": 6647.003491210936
          },
          {
           "lower": 321.1234817504883,
           "timepoint": 40.400001525878906,
           "trajectory": "H_sol",
           "upper": 6666.782519531248
          },
          {
           "lower": 321.09180908203126,
           "timepoint": 40.5,
           "trajectory": "H_sol",
           "upper": 6686.5858642578105
          },
          {
           "lower": 321.0576766967774,
           "timepoint": 40.599998474121094,
           "trajectory": "H_sol",
           "upper": 6706.413623046873
          },
          {
           "lower": 321.0210952758789,
           "timepoint": 40.69999694824219,
           "trajectory": "H_sol",
           "upper": 6726.266748046873
          },
          {
           "lower": 320.9821502685547,
           "timepoint": 40.79999923706055,
           "trajectory": "H_sol",
           "upper": 6746.146679687498
          },
          {
           "lower": 320.940869140625,
           "timepoint": 40.900001525878906,
           "trajectory": "H_sol",
           "upper": 6766.052099609373
          },
          {
           "lower": 320.8972610473633,
           "timepoint": 41,
           "trajectory": "H_sol",
           "upper": 6785.984277343748
          },
          {
           "lower": 320.8514404296875,
           "timepoint": 41.099998474121094,
           "trajectory": "H_sol",
           "upper": 6805.9442626953105
          },
          {
           "lower": 320.8034103393555,
           "timepoint": 41.19999694824219,
           "trajectory": "H_sol",
           "upper": 6825.931640624998
          },
          {
           "lower": 320.75326080322264,
           "timepoint": 41.29999923706055,
           "trajectory": "H_sol",
           "upper": 6845.948291015623
          },
          {
           "lower": 320.70096282958986,
           "timepoint": 41.400001525878906,
           "trajectory": "H_sol",
           "upper": 6865.993310546873
          },
          {
           "lower": 320.6466064453125,
           "timepoint": 41.5,
           "trajectory": "H_sol",
           "upper": 6886.066674804685
          },
          {
           "lower": 320.5901672363281,
           "timepoint": 41.599998474121094,
           "trajectory": "H_sol",
           "upper": 6906.170654296873
          },
          {
           "lower": 320.5317855834961,
           "timepoint": 41.69999694824219,
           "trajectory": "H_sol",
           "upper": 6926.304492187498
          },
          {
           "lower": 320.4711196899414,
           "timepoint": 41.79999923706055,
           "trajectory": "H_sol",
           "upper": 6946.470068359373
          },
          {
           "lower": 320.4088119506836,
           "timepoint": 41.900001525878906,
           "trajectory": "H_sol",
           "upper": 6966.665966796872
          },
          {
           "lower": 320.3446868896485,
           "timepoint": 42,
           "trajectory": "H_sol",
           "upper": 6986.893115234373
          },
          {
           "lower": 320.27866210937503,
           "timepoint": 42.099998474121094,
           "trajectory": "H_sol",
           "upper": 7007.152954101561
          },
          {
           "lower": 320.2108810424805,
           "timepoint": 42.19999694824219,
           "trajectory": "H_sol",
           "upper": 7027.460839843748
          },
          {
           "lower": 320.141259765625,
           "timepoint": 42.29999923706055,
           "trajectory": "H_sol",
           "upper": 7047.789428710936
          },
          {
           "lower": 320.0699737548828,
           "timepoint": 42.400001525878906,
           "trajectory": "H_sol",
           "upper": 7068.150830078122
          },
          {
           "lower": 319.9969680786133,
           "timepoint": 42.5,
           "trajectory": "H_sol",
           "upper": 7088.545898437498
          },
          {
           "lower": 319.9222412109375,
           "timepoint": 42.599998474121094,
           "trajectory": "H_sol",
           "upper": 7108.976123046873
          },
          {
           "lower": 319.84594268798827,
           "timepoint": 42.69999694824219,
           "trajectory": "H_sol",
           "upper": 7129.440551757811
          },
          {
           "lower": 319.7679870605469,
           "timepoint": 42.79999923706055,
           "trajectory": "H_sol",
           "upper": 7149.940234374998
          },
          {
           "lower": 319.6885185241699,
           "timepoint": 42.900001525878906,
           "trajectory": "H_sol",
           "upper": 7170.476538085935
          },
          {
           "lower": 319.6074821472168,
           "timepoint": 43,
           "trajectory": "H_sol",
           "upper": 7191.047070312497
          },
          {
           "lower": 319.5249649047852,
           "timepoint": 43.099998474121094,
           "trajectory": "H_sol",
           "upper": 7211.654760742185
          },
          {
           "lower": 319.4408843994141,
           "timepoint": 43.19999694824219,
           "trajectory": "H_sol",
           "upper": 7232.29904785156
          },
          {
           "lower": 319.3554122924805,
           "timepoint": 43.29999923706055,
           "trajectory": "H_sol",
           "upper": 7252.981054687498
          },
          {
           "lower": 319.26852493286134,
           "timepoint": 43.400001525878906,
           "trajectory": "H_sol",
           "upper": 7273.70021972656
          },
          {
           "lower": 319.1802635192871,
           "timepoint": 43.5,
           "trajectory": "H_sol",
           "upper": 7294.457519531247
          },
          {
           "lower": 319.0908676147461,
           "timepoint": 43.599998474121094,
           "trajectory": "H_sol",
           "upper": 7315.25197753906
          },
          {
           "lower": 318.99991302490236,
           "timepoint": 43.69999694824219,
           "trajectory": "H_sol",
           "upper": 7336.736376953123
          },
          {
           "lower": 318.9076629638672,
           "timepoint": 43.79999923706055,
           "trajectory": "H_sol",
           "upper": 7358.7784912109355
          },
          {
           "lower": 318.81411895751955,
           "timepoint": 43.900001525878906,
           "trajectory": "H_sol",
           "upper": 7380.867675781247
          },
          {
           "lower": 318.7193405151367,
           "timepoint": 44,
           "trajectory": "H_sol",
           "upper": 7403.002441406247
          },
          {
           "lower": 318.62329864501953,
           "timepoint": 44.099998474121094,
           "trajectory": "H_sol",
           "upper": 7425.18518066406
          },
          {
           "lower": 318.526082611084,
           "timepoint": 44.19999694824219,
           "trajectory": "H_sol",
           "upper": 7447.41506347656
          },
          {
           "lower": 318.4276634216309,
           "timepoint": 44.29999923706055,
           "trajectory": "H_sol",
           "upper": 7469.694311523435
          },
          {
           "lower": 318.32807235717775,
           "timepoint": 44.400001525878906,
           "trajectory": "H_sol",
           "upper": 7492.021679687497
          },
          {
           "lower": 318.2273963928223,
           "timepoint": 44.5,
           "trajectory": "H_sol",
           "upper": 7514.397070312498
          },
          {
           "lower": 318.1255813598633,
           "timepoint": 44.599998474121094,
           "trajectory": "H_sol",
           "upper": 7536.820947265623
          },
          {
           "lower": 318.0226844787598,
           "timepoint": 44.69999694824219,
           "trajectory": "H_sol",
           "upper": 7559.294384765622
          },
          {
           "lower": 317.9187065124512,
           "timepoint": 44.79999923706055,
           "trajectory": "H_sol",
           "upper": 7581.818725585935
          },
          {
           "lower": 317.81367645263674,
           "timepoint": 44.900001525878906,
           "trajectory": "H_sol",
           "upper": 7604.392626953122
          },
          {
           "lower": 317.70768508911135,
           "timepoint": 45,
           "trajectory": "H_sol",
           "upper": 7627.017382812497
          },
          {
           "lower": 317.6006172180176,
           "timepoint": 45.099998474121094,
           "trajectory": "H_sol",
           "upper": 7649.69123535156
          },
          {
           "lower": 317.49261779785155,
           "timepoint": 45.19999694824219,
           "trajectory": "H_sol",
           "upper": 7672.416601562498
          },
          {
           "lower": 317.38360595703125,
           "timepoint": 45.29999923706055,
           "trajectory": "H_sol",
           "upper": 7695.194311523435
          },
          {
           "lower": 317.2737419128418,
           "timepoint": 45.400001525878906,
           "trajectory": "H_sol",
           "upper": 7718.02307128906
          },
          {
           "lower": 317.16248626708983,
           "timepoint": 45.5,
           "trajectory": "H_sol",
           "upper": 7740.902783203122
          },
          {
           "lower": 317.0506790161133,
           "timepoint": 45.599998474121094,
           "trajectory": "H_sol",
           "upper": 7763.824584960935
          },
          {
           "lower": 316.9380020141602,
           "timepoint": 45.69999694824219,
           "trajectory": "H_sol",
           "upper": 7786.807788085935
          },
          {
           "lower": 316.8244567871094,
           "timepoint": 45.79999923706055,
           "trajectory": "H_sol",
           "upper": 7809.843945312497
          },
          {
           "lower": 316.7100440979004,
           "timepoint": 45.900001525878906,
           "trajectory": "H_sol",
           "upper": 7832.93352050781
          },
          {
           "lower": 316.5947654724121,
           "timepoint": 46,
           "trajectory": "H_sol",
           "upper": 7856.075585937498
          },
          {
           "lower": 316.47870712280275,
           "timepoint": 46.099998474121094,
           "trajectory": "H_sol",
           "upper": 7879.270605468747
          },
          {
           "lower": 316.3633972167969,
           "timepoint": 46.20000076293945,
           "trajectory": "H_sol",
           "upper": 7902.520068359372
          },
          {
           "lower": 316.25266723632814,
           "timepoint": 46.29999923706055,
           "trajectory": "H_sol",
           "upper": 7925.822485351559
          },
          {
           "lower": 316.1411811828613,
           "timepoint": 46.400001525878906,
           "trajectory": "H_sol",
           "upper": 7949.180322265623
          },
          {
           "lower": 316.0288856506348,
           "timepoint": 46.5,
           "trajectory": "H_sol",
           "upper": 7972.591113281247
          },
          {
           "lower": 315.91586532592777,
           "timepoint": 46.599998474121094,
           "trajectory": "H_sol",
           "upper": 7996.057226562497
          },
          {
           "lower": 315.8020645141602,
           "timepoint": 46.70000076293945,
           "trajectory": "H_sol",
           "upper": 8019.578857421872
          },
          {
           "lower": 315.6875701904297,
           "timepoint": 46.79999923706055,
           "trajectory": "H_sol",
           "upper": 8043.154833984372
          },
          {
           "lower": 315.57238235473636,
           "timepoint": 46.900001525878906,
           "trajectory": "H_sol",
           "upper": 8066.787304687497
          },
          {
           "lower": 315.45650177001954,
           "timepoint": 47,
           "trajectory": "H_sol",
           "upper": 8090.47365722656
          },
          {
           "lower": 315.3398712158203,
           "timepoint": 47.099998474121094,
           "trajectory": "H_sol",
           "upper": 8114.216503906247
          },
          {
           "lower": 315.222607421875,
           "timepoint": 47.20000076293945,
           "trajectory": "H_sol",
           "upper": 8138.01662597656
          },
          {
           "lower": 315.1046821594238,
           "timepoint": 47.29999923706055,
           "trajectory": "H_sol",
           "upper": 8161.872167968747
          },
          {
           "lower": 314.9861259460449,
           "timepoint": 47.400001525878906,
           "trajectory": "H_sol",
           "upper": 8185.784619140622
          },
          {
           "lower": 314.8676322937012,
           "timepoint": 47.5,
           "trajectory": "H_sol",
           "upper": 8209.753417968746
          },
          {
           "lower": 314.74795684814455,
           "timepoint": 47.599998474121094,
           "trajectory": "H_sol",
           "upper": 8233.779638671873
          },
          {
           "lower": 314.62764968872074,
           "timepoint": 47.70000076293945,
           "trajectory": "H_sol",
           "upper": 8257.863281249996
          },
          {
           "lower": 314.50680007934574,
           "timepoint": 47.79999923706055,
           "trajectory": "H_sol",
           "upper": 8282.026611328121
          },
          {
           "lower": 314.3853500366211,
           "timepoint": 47.900001525878906,
           "trajectory": "H_sol",
           "upper": 8306.228906249997
          },
          {
           "lower": 314.26335754394535,
           "timepoint": 48,
           "trajectory": "H_sol",
           "upper": 8330.488574218747
          },
          {
           "lower": 314.14079360961915,
           "timepoint": 48.099998474121094,
           "trajectory": "H_sol",
           "upper": 8354.805761718748
          },
          {
           "lower": 314.017660522461,
           "timepoint": 48.20000076293945,
           "trajectory": "H_sol",
           "upper": 8379.184130859372
          },
          {
           "lower": 313.89404220581054,
           "timepoint": 48.29999923706055,
           "trajectory": "H_sol",
           "upper": 8403.618994140623
          },
          {
           "lower": 313.7699142456055,
           "timepoint": 48.400001525878906,
           "trajectory": "H_sol",
           "upper": 8428.114160156247
          },
          {
           "lower": 313.64527435302733,
           "timepoint": 48.5,
           "trajectory": "H_sol",
           "upper": 8452.666796874997
          },
          {
           "lower": 313.5201240539551,
           "timepoint": 48.599998474121094,
           "trajectory": "H_sol",
           "upper": 8477.281591796873
          },
          {
           "lower": 313.39452056884767,
           "timepoint": 48.70000076293945,
           "trajectory": "H_sol",
           "upper": 8501.954980468747
          },
          {
           "lower": 313.2684379577637,
           "timepoint": 48.79999923706055,
           "trajectory": "H_sol",
           "upper": 8526.686669921872
          },
          {
           "lower": 313.1418731689453,
           "timepoint": 48.900001525878906,
           "trajectory": "H_sol",
           "upper": 8551.480615234372
          },
          {
           "lower": 313.0148292541504,
           "timepoint": 49,
           "trajectory": "H_sol",
           "upper": 8576.333984374996
          },
          {
           "lower": 312.8873344421387,
           "timepoint": 49.099998474121094,
           "trajectory": "H_sol",
           "upper": 8601.246728515622
          },
          {
           "lower": 312.75947723388674,
           "timepoint": 49.20000076293945,
           "trajectory": "H_sol",
           "upper": 8626.220898437497
          },
          {
           "lower": 312.6311401367188,
           "timepoint": 49.29999923706055,
           "trajectory": "H_sol",
           "upper": 8651.256249999997
          },
          {
           "lower": 312.5024108886719,
           "timepoint": 49.400001525878906,
           "trajectory": "H_sol",
           "upper": 8676.354882812497
          },
          {
           "lower": 312.37323303222655,
           "timepoint": 49.5,
           "trajectory": "H_sol",
           "upper": 8701.512011718747
          },
          {
           "lower": 312.24340362548827,
           "timepoint": 49.599998474121094,
           "trajectory": "H_sol",
           "upper": 8726.729589843748
          },
          {
           "lower": 312.1134033203125,
           "timepoint": 49.70000076293945,
           "trajectory": "H_sol",
           "upper": 8752.011376953122
          },
          {
           "lower": 311.98305282592776,
           "timepoint": 49.79999923706055,
           "trajectory": "H_sol",
           "upper": 8777.354492187496
          },
          {
           "lower": 311.85228195190433,
           "timepoint": 49.900001525878906,
           "trajectory": "H_sol",
           "upper": 8802.759033203121
          },
          {
           "lower": 311.72115020751954,
           "timepoint": 50,
           "trajectory": "H_sol",
           "upper": 8828.224902343747
          },
          {
           "lower": 311.5896583557129,
           "timepoint": 50.099998474121094,
           "trajectory": "H_sol",
           "upper": 8853.769921874997
          },
          {
           "lower": 311.4578369140625,
           "timepoint": 50.20000076293945,
           "trajectory": "H_sol",
           "upper": 8879.363427734372
          },
          {
           "lower": 311.3256530761719,
           "timepoint": 50.29999923706055,
           "trajectory": "H_sol",
           "upper": 8905.020996093746
          },
          {
           "lower": 311.19311141967773,
           "timepoint": 50.400001525878906,
           "trajectory": "H_sol",
           "upper": 8930.742822265622
          },
          {
           "lower": 311.06029586791993,
           "timepoint": 50.5,
           "trajectory": "H_sol",
           "upper": 8956.525976562496
          },
          {
           "lower": 310.9270950317383,
           "timepoint": 50.599998474121094,
           "trajectory": "H_sol",
           "upper": 8982.372558593746
          },
          {
           "lower": 310.79361953735355,
           "timepoint": 50.70000076293945,
           "trajectory": "H_sol",
           "upper": 9008.285302734372
          },
          {
           "lower": 310.65978622436523,
           "timepoint": 50.79999923706055,
           "trajectory": "H_sol",
           "upper": 9034.260351562496
          },
          {
           "lower": 310.5256820678711,
           "timepoint": 50.900001525878906,
           "trajectory": "H_sol",
           "upper": 9060.300683593747
          },
          {
           "lower": 310.3912490844727,
           "timepoint": 51,
           "trajectory": "H_sol",
           "upper": 9086.404394531246
          },
          {
           "lower": 310.25654525756835,
           "timepoint": 51.099998474121094,
           "trajectory": "H_sol",
           "upper": 9112.571386718746
          },
          {
           "lower": 310.12154083251954,
           "timepoint": 51.20000076293945,
           "trajectory": "H_sol",
           "upper": 9138.805615234372
          },
          {
           "lower": 309.98632583618166,
           "timepoint": 51.29999923706055,
           "trajectory": "H_sol",
           "upper": 9165.104101562496
          },
          {
           "lower": 309.8507820129395,
           "timepoint": 51.400001525878906,
           "trajectory": "H_sol",
           "upper": 9191.467871093746
          },
          {
           "lower": 309.7149688720703,
           "timepoint": 51.5,
           "trajectory": "H_sol",
           "upper": 9217.896874999997
          },
          {
           "lower": 309.5789428710938,
           "timepoint": 51.599998474121094,
           "trajectory": "H_sol",
           "upper": 9244.390234374996
          },
          {
           "lower": 309.44261932373047,
           "timepoint": 51.70000076293945,
           "trajectory": "H_sol",
           "upper": 9270.950878906247
          },
          {
           "lower": 309.3060562133789,
           "timepoint": 51.79999923706055,
           "trajectory": "H_sol",
           "upper": 9297.576660156246
          },
          {
           "lower": 309.16844711303713,
           "timepoint": 51.900001525878906,
           "trajectory": "H_sol",
           "upper": 9324.267822265621
          },
          {
           "lower": 309.0313179016113,
           "timepoint": 52,
           "trajectory": "H_sol",
           "upper": 9351.026171874997
          },
          {
           "lower": 308.89397888183595,
           "timepoint": 52.099998474121094,
           "trajectory": "H_sol",
           "upper": 9377.850781249997
          },
          {
           "lower": 308.7563415527344,
           "timepoint": 52.20000076293945,
           "trajectory": "H_sol",
           "upper": 9404.742626953122
          },
          {
           "lower": 308.61852264404297,
           "timepoint": 52.29999923706055,
           "trajectory": "H_sol",
           "upper": 9431.699804687496
          },
          {
           "lower": 308.4804656982422,
           "timepoint": 52.400001525878906,
           "trajectory": "H_sol",
           "upper": 9458.708496093746
          },
          {
           "lower": 308.3421997070313,
           "timepoint": 52.5,
           "trajectory": "H_sol",
           "upper": 9485.798144531247
          },
          {
           "lower": 308.2036949157715,
           "timepoint": 52.599998474121094,
           "trajectory": "H_sol",
           "upper": 9512.955273437496
          },
          {
           "lower": 308.064949798584,
           "timepoint": 52.70000076293945,
           "trajectory": "H_sol",
           "upper": 9540.180664062496
          },
          {
           "lower": 307.9260848999024,
           "timepoint": 52.79999923706055,
           "trajectory": "H_sol",
           "upper": 9567.472363281246
          },
          {
           "lower": 307.78695144653324,
           "timepoint": 52.900001525878906,
           "trajectory": "H_sol",
           "upper": 9594.832373046871
          },
          {
           "lower": 307.6476684570313,
           "timepoint": 53,
           "trajectory": "H_sol",
           "upper": 9622.260498046871
          },
          {
           "lower": 307.50817642211916,
           "timepoint": 53.099998474121094,
           "trajectory": "H_sol",
           "upper": 9649.754052734372
          },
          {
           "lower": 307.36844635009766,
           "timepoint": 53.20000076293945,
           "trajectory": "H_sol",
           "upper": 9677.319628906247
          },
          {
           "lower": 307.2285942077637,
           "timepoint": 53.29999923706055,
           "trajectory": "H_sol",
           "upper": 9704.950585937497
          },
          {
           "lower": 307.0885345458984,
           "timepoint": 53.400001525878906,
           "trajectory": "H_sol",
           "upper": 9732.652734374997
          },
          {
           "lower": 306.9483253479004,
           "timepoint": 53.5,
           "trajectory": "H_sol",
           "upper": 9760.421191406247
          },
          {
           "lower": 306.807878112793,
           "timepoint": 53.599998474121094,
           "trajectory": "H_sol",
           "upper": 9788.258886718746
          },
          {
           "lower": 306.667310333252,
           "timepoint": 53.70000076293945,
           "trajectory": "H_sol",
           "upper": 9816.166748046871
          },
          {
           "lower": 306.52659454345707,
           "timepoint": 53.79999923706055,
           "trajectory": "H_sol",
           "upper": 9844.142871093747
          },
          {
           "lower": 306.38564071655276,
           "timepoint": 53.900001525878906,
           "trajectory": "H_sol",
           "upper": 9872.189208984371
          },
          {
           "lower": 306.244654083252,
           "timepoint": 54,
           "trajectory": "H_sol",
           "upper": 9900.303808593746
          },
          {
           "lower": 306.1034019470215,
           "timepoint": 54.099998474121094,
           "trajectory": "H_sol",
           "upper": 9928.488623046871
          },
          {
           "lower": 305.96202850341797,
           "timepoint": 54.20000076293945,
           "trajectory": "H_sol",
           "upper": 9956.744677734372
          },
          {
           "lower": 305.8205665588379,
           "timepoint": 54.29999923706055,
           "trajectory": "H_sol",
           "upper": 9985.068066406246
          },
          {
           "lower": 305.67893066406253,
           "timepoint": 54.400001525878906,
           "trajectory": "H_sol",
           "upper": 10013.464453124996
          },
          {
           "lower": 305.53714447021486,
           "timepoint": 54.5,
           "trajectory": "H_sol",
           "upper": 10041.929199218746
          },
          {
           "lower": 305.39521102905275,
           "timepoint": 54.599998474121094,
           "trajectory": "H_sol",
           "upper": 10070.466943359372
          },
          {
           "lower": 305.25315704345707,
           "timepoint": 54.70000076293945,
           "trajectory": "H_sol",
           "upper": 10099.074072265621
          },
          {
           "lower": 305.1109848022461,
           "timepoint": 54.79999923706055,
           "trajectory": "H_sol",
           "upper": 10127.73725585937
          },
          {
           "lower": 304.9686637878418,
           "timepoint": 54.900001525878906,
           "trajectory": "H_sol",
           "upper": 10156.484033203122
          },
          {
           "lower": 304.82619552612306,
           "timepoint": 55,
           "trajectory": "H_sol",
           "upper": 10185.301123046871
          },
          {
           "lower": 304.6836380004883,
           "timepoint": 55.099998474121094,
           "trajectory": "H_sol",
           "upper": 10214.190283203121
          },
          {
           "lower": 304.5409606933594,
           "timepoint": 55.20000076293945,
           "trajectory": "H_sol",
           "upper": 10243.150732421871
          },
          {
           "lower": 304.3981079101563,
           "timepoint": 55.29999923706055,
           "trajectory": "H_sol",
           "upper": 10272.183349609371
          },
          {
           "lower": 304.2552230834961,
           "timepoint": 55.400001525878906,
           "trajectory": "H_sol",
           "upper": 10301.287207031246
          },
          {
           "lower": 304.1121910095215,
           "timepoint": 55.5,
           "trajectory": "H_sol",
           "upper": 10330.46040039062
          },
          {
           "lower": 303.9690414428711,
           "timepoint": 55.599998474121094,
           "trajectory": "H_sol",
           "upper": 10359.707666015622
          },
          {
           "lower": 303.8258026123047,
           "timepoint": 55.70000076293945,
           "trajectory": "H_sol",
           "upper": 10389.027197265621
          },
          {
           "lower": 303.6824172973633,
           "timepoint": 55.79999923706055,
           "trajectory": "H_sol",
           "upper": 10418.417968749996
          },
          {
           "lower": 303.53897018432616,
           "timepoint": 55.900001525878906,
           "trajectory": "H_sol",
           "upper": 10447.880957031246
          },
          {
           "lower": 303.3954071044922,
           "timepoint": 56,
           "trajectory": "H_sol",
           "upper": 10477.416113281246
          },
          {
           "lower": 303.25175552368165,
           "timepoint": 56.099998474121094,
           "trajectory": "H_sol",
           "upper": 10507.02446289062
          },
          {
           "lower": 303.10801544189457,
           "timepoint": 56.20000076293945,
           "trajectory": "H_sol",
           "upper": 10536.70512695312
          },
          {
           "lower": 302.9641571044922,
           "timepoint": 56.29999923706055,
           "trajectory": "H_sol",
           "upper": 10566.458007812496
          },
          {
           "lower": 302.82021102905276,
           "timepoint": 56.400001525878906,
           "trajectory": "H_sol",
           "upper": 10596.284960937495
          },
          {
           "lower": 302.67623443603514,
           "timepoint": 56.5,
           "trajectory": "H_sol",
           "upper": 10626.183203124996
          },
          {
           "lower": 302.53211135864257,
           "timepoint": 56.599998474121094,
           "trajectory": "H_sol",
           "upper": 10656.156542968745
          },
          {
           "lower": 302.38792953491213,
           "timepoint": 56.70000076293945,
           "trajectory": "H_sol",
           "upper": 10686.202246093746
          },
          {
           "lower": 302.2436889648438,
           "timepoint": 56.79999923706055,
           "trajectory": "H_sol",
           "upper": 10716.321093749995
          },
          {
           "lower": 302.0993316650391,
           "timepoint": 56.900001525878906,
           "trajectory": "H_sol",
           "upper": 10746.514990234371
          },
          {
           "lower": 301.9549156188965,
           "timepoint": 57,
           "trajectory": "H_sol",
           "upper": 10776.78032226562
          },
          {
           "lower": 301.81064529418944,
           "timepoint": 57.099998474121094,
           "trajectory": "H_sol",
           "upper": 10807.12075195312
          },
          {
           "lower": 301.6660514831543,
           "timepoint": 57.20000076293945,
           "trajectory": "H_sol",
           "upper": 10837.563330078121
          },
          {
           "lower": 301.521427154541,
           "timepoint": 57.29999923706055,
           "trajectory": "H_sol",
           "upper": 10868.05512695312
          },
          {
           "lower": 301.3767738342285,
           "timepoint": 57.400001525878906,
           "trajectory": "H_sol",
           "upper": 10898.622900390621
          },
          {
           "lower": 301.23194580078126,
           "timepoint": 57.5,
           "trajectory": "H_sol",
           "upper": 10929.264013671871
          },
          {
           "lower": 301.08714599609374,
           "timepoint": 57.599998474121094,
           "trajectory": "H_sol",
           "upper": 10959.979345703121
          },
          {
           "lower": 300.9422592163086,
           "timepoint": 57.70000076293945,
           "trajectory": "H_sol",
           "upper": 10990.771679687496
          },
          {
           "lower": 300.7972839355469,
           "timepoint": 57.79999923706055,
           "trajectory": "H_sol",
           "upper": 11021.638281249996
          },
          {
           "lower": 300.6522804260254,
           "timepoint": 57.900001525878906,
           "trajectory": "H_sol",
           "upper": 11052.580078124996
          },
          {
           "lower": 300.50718841552737,
           "timepoint": 58,
           "trajectory": "H_sol",
           "upper": 11083.597070312495
          },
          {
           "lower": 300.36201095581055,
           "timepoint": 58.099998474121094,
           "trajectory": "H_sol",
           "upper": 11114.691015624996
          },
          {
           "lower": 300.2168617248535,
           "timepoint": 58.20000076293945,
           "trajectory": "H_sol",
           "upper": 11145.860253906245
          },
          {
           "lower": 300.0715675354004,
           "timepoint": 58.29999923706055,
           "trajectory": "H_sol",
           "upper": 11177.10463867187
          },
          {
           "lower": 299.92627334594727,
           "timepoint": 58.400001525878906,
           "trajectory": "H_sol",
           "upper": 11208.426171874995
          },
          {
           "lower": 299.78095016479494,
           "timepoint": 58.5,
           "trajectory": "H_sol",
           "upper": 11239.82290039062
          },
          {
           "lower": 299.6355400085449,
           "timepoint": 58.599998474121094,
           "trajectory": "H_sol",
           "upper": 11271.296679687495
          },
          {
           "lower": 299.49004287719725,
           "timepoint": 58.70000076293945,
           "trajectory": "H_sol",
           "upper": 11302.847656249996
          },
          {
           "lower": 299.34457473754884,
           "timepoint": 58.79999923706055,
           "trajectory": "H_sol",
           "upper": 11334.473828124996
          },
          {
           "lower": 299.19902114868165,
           "timepoint": 58.900001525878906,
           "trajectory": "H_sol",
           "upper": 11366.178076171871
          },
          {
           "lower": 299.0534378051758,
           "timepoint": 59,
           "trajectory": "H_sol",
           "upper": 11397.960351562495
          },
          {
           "lower": 298.9077964782715,
           "timepoint": 59.099998474121094,
           "trajectory": "H_sol",
           "upper": 11429.81694335937
          },
          {
           "lower": 298.7621276855469,
           "timepoint": 59.20000076293945,
           "trajectory": "H_sol",
           "upper": 11461.75356445312
          },
          {
           "lower": 298.6164016723633,
           "timepoint": 59.29999923706055,
           "trajectory": "H_sol",
           "upper": 11493.766308593746
          },
          {
           "lower": 298.47067489624027,
           "timepoint": 59.400001525878906,
           "trajectory": "H_sol",
           "upper": 11525.859472656246
          },
          {
           "lower": 298.324861907959,
           "timepoint": 59.5,
           "trajectory": "H_sol",
           "upper": 11557.97846679687
          },
          {
           "lower": 298.1790512084961,
           "timepoint": 59.599998474121094,
           "trajectory": "H_sol",
           "upper": 11590.219140624995
          },
          {
           "lower": 298.03318176269534,
           "timepoint": 59.70000076293945,
           "trajectory": "H_sol",
           "upper": 11622.53901367187
          },
          {
           "lower": 297.887313079834,
           "timepoint": 59.79999923706055,
           "trajectory": "H_sol",
           "upper": 11654.93500976562
          },
          {
           "lower": 297.7413589477539,
           "timepoint": 59.900001525878906,
           "trajectory": "H_sol",
           "upper": 11687.409277343746
          },
          {
           "lower": 297.59541168212894,
           "timepoint": 60,
           "trajectory": "H_sol",
           "upper": 11719.96157226562
          },
          {
           "lower": 297.4492858886719,
           "timepoint": 60.099998474121094,
           "trajectory": "H_sol",
           "upper": 11752.591162109371
          },
          {
           "lower": 297.3032470703125,
           "timepoint": 60.20000076293945,
           "trajectory": "H_sol",
           "upper": 11785.300781249995
          },
          {
           "lower": 297.1571815490723,
           "timepoint": 60.29999923706055,
           "trajectory": "H_sol",
           "upper": 11818.08666992187
          },
          {
           "lower": 297.01111602783203,
           "timepoint": 60.400001525878906,
           "trajectory": "H_sol",
           "upper": 11850.95356445312
          },
          {
           "lower": 296.8650238037109,
           "timepoint": 60.5,
           "trajectory": "H_sol",
           "upper": 11883.897656249996
          },
          {
           "lower": 296.7188743591309,
           "timepoint": 60.599998474121094,
           "trajectory": "H_sol",
           "upper": 11916.918945312495
          },
          {
           "lower": 296.572696685791,
           "timepoint": 60.70000076293945,
           "trajectory": "H_sol",
           "upper": 11950.022314453121
          },
          {
           "lower": 296.42651977539066,
           "timepoint": 60.79999923706055,
           "trajectory": "H_sol",
           "upper": 11983.20288085937
          },
          {
           "lower": 296.2803153991699,
           "timepoint": 60.900001525878906,
           "trajectory": "H_sol",
           "upper": 12016.464453124996
          },
          {
           "lower": 296.1340545654297,
           "timepoint": 61,
           "trajectory": "H_sol",
           "upper": 12049.803320312496
          },
          {
           "lower": 295.98782501220705,
           "timepoint": 61.099998474121094,
           "trajectory": "H_sol",
           "upper": 12083.221289062494
          },
          {
           "lower": 295.8415664672852,
           "timepoint": 61.20000076293945,
           "trajectory": "H_sol",
           "upper": 12116.72036132812
          },
          {
           "lower": 295.6952819824219,
           "timepoint": 61.29999923706055,
           "trajectory": "H_sol",
           "upper": 12150.29858398437
          },
          {
           "lower": 295.5489097595215,
           "timepoint": 61.400001525878906,
           "trajectory": "H_sol",
           "upper": 12183.95600585937
          },
          {
           "lower": 295.4025993347168,
           "timepoint": 61.5,
           "trajectory": "H_sol",
           "upper": 12217.69438476562
          },
          {
           "lower": 295.2562599182129,
           "timepoint": 61.599998474121094,
           "trajectory": "H_sol",
           "upper": 12251.512011718745
          },
          {
           "lower": 295.1099227905274,
           "timepoint": 61.70000076293945,
           "trajectory": "H_sol",
           "upper": 12285.411718749994
          },
          {
           "lower": 294.963557434082,
           "timepoint": 61.79999923706055,
           "trajectory": "H_sol",
           "upper": 12319.38959960937
          },
          {
           "lower": 294.8171073913574,
           "timepoint": 61.900001525878906,
           "trajectory": "H_sol",
           "upper": 12353.44125976562
          },
          {
           "lower": 294.67071762084964,
           "timepoint": 62,
           "trajectory": "H_sol",
           "upper": 12387.57944335937
          },
          {
           "lower": 175,
           "timepoint": 0,
           "trajectory": "I_sol",
           "upper": 175
          },
          {
           "lower": 179.24040985107422,
           "timepoint": 0.10000000149011612,
           "trajectory": "I_sol",
           "upper": 179.70975723266602
          },
          {
           "lower": 183.56292877197265,
           "timepoint": 0.20000000298023224,
           "trajectory": "I_sol",
           "upper": 184.49528732299805
          },
          {
           "lower": 187.9703483581543,
           "timepoint": 0.30000001192092896,
           "trajectory": "I_sol",
           "upper": 189.35955963134765
          },
          {
           "lower": 192.46563720703125,
           "timepoint": 0.4000000059604645,
           "trajectory": "I_sol",
           "upper": 194.32010803222656
          },
          {
           "lower": 197.05197677612304,
           "timepoint": 0.5,
           "trajectory": "I_sol",
           "upper": 199.41707763671874
          },
          {
           "lower": 201.7341407775879,
           "timepoint": 0.6000000238418579,
           "trajectory": "I_sol",
           "upper": 204.61925659179687
          },
          {
           "lower": 206.55329513549805,
           "timepoint": 0.699999988079071,
           "trajectory": "I_sol",
           "upper": 209.8624725341797
          },
          {
           "lower": 211.44315719604492,
           "timepoint": 0.800000011920929,
           "trajectory": "I_sol",
           "upper": 215.27264938354492
          },
          {
           "lower": 216.4438133239746,
           "timepoint": 0.9000000357627869,
           "trajectory": "I_sol",
           "upper": 220.80148696899414
          },
          {
           "lower": 221.57592544555663,
           "timepoint": 1,
           "trajectory": "I_sol",
           "upper": 226.45195770263672
          },
          {
           "lower": 226.79741134643555,
           "timepoint": 1.100000023841858,
           "trajectory": "I_sol",
           "upper": 232.22708587646486
          },
          {
           "lower": 232.10064773559571,
           "timepoint": 1.2000000476837158,
           "trajectory": "I_sol",
           "upper": 238.1318733215332
          },
          {
           "lower": 237.51606521606445,
           "timepoint": 1.3000000715255737,
           "trajectory": "I_sol",
           "upper": 244.1708251953125
          },
          {
           "lower": 243.0466567993164,
           "timepoint": 1.399999976158142,
           "trajectory": "I_sol",
           "upper": 250.32038421630858
          },
          {
           "lower": 248.69557189941406,
           "timepoint": 1.5,
           "trajectory": "I_sol",
           "upper": 256.59476470947266
          },
          {
           "lower": 254.46596603393556,
           "timepoint": 1.600000023841858,
           "trajectory": "I_sol",
           "upper": 263.0826416015625
          },
          {
           "lower": 260.3419906616211,
           "timepoint": 1.7000000476837158,
           "trajectory": "I_sol",
           "upper": 269.72371673583984
          },
          {
           "lower": 266.3375045776367,
           "timepoint": 1.8000000715255737,
           "trajectory": "I_sol",
           "upper": 276.37294616699216
          },
          {
           "lower": 272.4614532470703,
           "timepoint": 1.899999976158142,
           "trajectory": "I_sol",
           "upper": 283.1377288818359
          },
          {
           "lower": 278.71728515625,
           "timepoint": 2,
           "trajectory": "I_sol",
           "upper": 290.0545120239258
          },
          {
           "lower": 285.10852508544923,
           "timepoint": 2.1000001430511475,
           "trajectory": "I_sol",
           "upper": 297.2120864868164
          },
          {
           "lower": 291.67493438720703,
           "timepoint": 2.200000047683716,
           "trajectory": "I_sol",
           "upper": 304.58429565429685
          },
          {
           "lower": 298.39796142578126,
           "timepoint": 2.299999952316284,
           "trajectory": "I_sol",
           "upper": 312.1855834960937
          },
          {
           "lower": 305.2709655761719,
           "timepoint": 2.4000000953674316,
           "trajectory": "I_sol",
           "upper": 319.9702117919922
          },
          {
           "lower": 312.29762878417966,
           "timepoint": 2.5,
           "trajectory": "I_sol",
           "upper": 327.94287872314453
          },
          {
           "lower": 319.48158569335936,
           "timepoint": 2.6000001430511475,
           "trajectory": "I_sol",
           "upper": 336.10863494873047
          },
          {
           "lower": 326.82696228027345,
           "timepoint": 2.700000047683716,
           "trajectory": "I_sol",
           "upper": 344.47301483154297
          },
          {
           "lower": 334.3372741699219,
           "timepoint": 2.799999952316284,
           "trajectory": "I_sol",
           "upper": 353.0402770996094
          },
          {
           "lower": 342.016618347168,
           "timepoint": 2.9000000953674316,
           "trajectory": "I_sol",
           "upper": 361.8159881591797
          },
          {
           "lower": 349.86907653808595,
           "timepoint": 3,
           "trajectory": "I_sol",
           "upper": 370.81251831054686
          },
          {
           "lower": 357.8987350463867,
           "timepoint": 3.1000001430511475,
           "trajectory": "I_sol",
           "upper": 380.0462936401367
          },
          {
           "lower": 366.087663269043,
           "timepoint": 3.200000047683716,
           "trajectory": "I_sol",
           "upper": 389.506770324707
          },
          {
           "lower": 374.4586181640625,
           "timepoint": 3.299999952316284,
           "trajectory": "I_sol",
           "upper": 399.1998352050781
          },
          {
           "lower": 383.0178955078125,
           "timepoint": 3.4000000953674316,
           "trajectory": "I_sol",
           "upper": 409.13134307861327
          },
          {
           "lower": 391.77000579833987,
           "timepoint": 3.5,
           "trajectory": "I_sol",
           "upper": 419.3062744140625
          },
          {
           "lower": 400.71940155029296,
           "timepoint": 3.6000001430511475,
           "trajectory": "I_sol",
           "upper": 429.73247680664065
          },
          {
           "lower": 409.87138671875,
           "timepoint": 3.700000047683716,
           "trajectory": "I_sol",
           "upper": 440.4155563354492
          },
          {
           "lower": 419.22958984375,
           "timepoint": 3.799999952316284,
           "trajectory": "I_sol",
           "upper": 451.3620407104492
          },
          {
           "lower": 428.7995010375977,
           "timepoint": 3.9000000953674316,
           "trajectory": "I_sol",
           "upper": 462.59899444580077
          },
          {
           "lower": 438.58579711914064,
           "timepoint": 4,
           "trajectory": "I_sol",
           "upper": 474.1531387329102
          },
          {
           "lower": 448.59363250732423,
           "timepoint": 4.099999904632568,
           "trajectory": "I_sol",
           "upper": 485.99549407958983
          },
          {
           "lower": 458.82823791503904,
           "timepoint": 4.200000286102295,
           "trajectory": "I_sol",
           "upper": 498.1320083618164
          },
          {
           "lower": 469.293635559082,
           "timepoint": 4.300000190734863,
           "trajectory": "I_sol",
           "upper": 510.570573425293
          },
          {
           "lower": 479.9969207763672,
           "timepoint": 4.400000095367432,
           "trajectory": "I_sol",
           "upper": 523.2802764892579
          },
          {
           "lower": 490.9428344726563,
           "timepoint": 4.5,
           "trajectory": "I_sol",
           "upper": 536.2163635253906
          },
          {
           "lower": 502.1369293212891,
           "timepoint": 4.599999904632568,
           "trajectory": "I_sol",
           "upper": 549.4708984375
          },
          {
           "lower": 513.5849899291992,
           "timepoint": 4.700000286102295,
           "trajectory": "I_sol",
           "upper": 563.0511962890625
          },
          {
           "lower": 525.2927764892578,
           "timepoint": 4.800000190734863,
           "trajectory": "I_sol",
           "upper": 576.9653991699219
          },
          {
           "lower": 537.2663330078125,
           "timepoint": 4.900000095367432,
           "trajectory": "I_sol",
           "upper": 591.21171875
          },
          {
           "lower": 549.5123687744141,
           "timepoint": 5,
           "trajectory": "I_sol",
           "upper": 605.8695861816407
          },
          {
           "lower": 562.0361053466797,
           "timepoint": 5.099999904632568,
           "trajectory": "I_sol",
           "upper": 620.8988616943359
          },
          {
           "lower": 574.844369506836,
           "timepoint": 5.200000286102295,
           "trajectory": "I_sol",
           "upper": 636.2994720458985
          },
          {
           "lower": 587.9436950683594,
           "timepoint": 5.300000190734863,
           "trajectory": "I_sol",
           "upper": 651.8657348632812
          },
          {
           "lower": 601.3004699707031,
           "timepoint": 5.400000095367432,
           "trajectory": "I_sol",
           "upper": 667.8747833251953
          },
          {
           "lower": 614.9034942626953,
           "timepoint": 5.5,
           "trajectory": "I_sol",
           "upper": 684.3652587890625
          },
          {
           "lower": 628.8130615234375,
           "timepoint": 5.599999904632568,
           "trajectory": "I_sol",
           "upper": 701.2618682861328
          },
          {
           "lower": 643.0362335205078,
           "timepoint": 5.700000286102295,
           "trajectory": "I_sol",
           "upper": 718.5746398925781
          },
          {
           "lower": 657.5800109863281,
           "timepoint": 5.800000190734863,
           "trajectory": "I_sol",
           "upper": 736.3145324707032
          },
          {
           "lower": 672.451806640625,
           "timepoint": 5.900000095367432,
           "trajectory": "I_sol",
           "upper": 754.4912933349609
          },
          {
           "lower": 687.6589996337891,
           "timepoint": 6,
           "trajectory": "I_sol",
           "upper": 773.1159851074219
          },
          {
           "lower": 703.2091033935546,
           "timepoint": 6.099999904632568,
           "trajectory": "I_sol",
           "upper": 792.1996612548828
          },
          {
           "lower": 719.1118927001953,
           "timepoint": 6.200000286102295,
           "trajectory": "I_sol",
           "upper": 811.7539672851562
          },
          {
           "lower": 735.3723297119141,
           "timepoint": 6.300000190734863,
           "trajectory": "I_sol",
           "upper": 831.790170288086
          },
          {
           "lower": 751.9996856689453,
           "timepoint": 6.400000095367432,
           "trajectory": "I_sol",
           "upper": 852.3202423095703
          },
          {
           "lower": 769.00234375,
           "timepoint": 6.5,
           "trajectory": "I_sol",
           "upper": 873.3565704345704
          },
          {
           "lower": 786.3888397216797,
           "timepoint": 6.599999904632568,
           "trajectory": "I_sol",
           "upper": 894.911572265625
          },
          {
           "lower": 804.1678985595703,
           "timepoint": 6.700000286102295,
           "trajectory": "I_sol",
           "upper": 916.9980255126953
          },
          {
           "lower": 822.3487762451172,
           "timepoint": 6.800000190734863,
           "trajectory": "I_sol",
           "upper": 939.6290588378906
          },
          {
           "lower": 840.9398681640625,
           "timepoint": 6.900000095367432,
           "trajectory": "I_sol",
           "upper": 962.8179809570313
          },
          {
           "lower": 859.9507415771484,
           "timepoint": 7,
           "trajectory": "I_sol",
           "upper": 986.5792297363281
          },
          {
           "lower": 879.3909637451172,
           "timepoint": 7.099999904632568,
           "trajectory": "I_sol",
           "upper": 1010.9261169433594
          },
          {
           "lower": 899.2704132080078,
           "timepoint": 7.200000286102295,
           "trajectory": "I_sol",
           "upper": 1035.8734619140625
          },
          {
           "lower": 919.5988006591797,
           "timepoint": 7.300000190734863,
           "trajectory": "I_sol",
           "upper": 1061.4360778808593
          },
          {
           "lower": 940.3862518310547,
           "timepoint": 7.400000095367432,
           "trajectory": "I_sol",
           "upper": 1087.6288696289062
          },
          {
           "lower": 961.6429748535156,
           "timepoint": 7.5,
           "trajectory": "I_sol",
           "upper": 1114.467529296875
          },
          {
           "lower": 983.3800964355469,
           "timepoint": 7.599999904632568,
           "trajectory": "I_sol",
           "upper": 1141.9679382324218
          },
          {
           "lower": 1005.6084747314453,
           "timepoint": 7.700000286102295,
           "trajectory": "I_sol",
           "upper": 1170.149267578125
          },
          {
           "lower": 1028.3390167236328,
           "timepoint": 7.800000190734863,
           "trajectory": "I_sol",
           "upper": 1199.0397216796875
          },
          {
           "lower": 1051.5830993652344,
           "timepoint": 7.900000095367432,
           "trajectory": "I_sol",
           "upper": 1228.6884155273438
          },
          {
           "lower": 1075.3610900878907,
           "timepoint": 8,
           "trajectory": "I_sol",
           "upper": 1259.0702331542968
          },
          {
           "lower": 1099.6783142089844,
           "timepoint": 8.100000381469727,
           "trajectory": "I_sol",
           "upper": 1290.2903564453125
          },
          {
           "lower": 1124.5414001464844,
           "timepoint": 8.199999809265137,
           "trajectory": "I_sol",
           "upper": 1322.2915283203124
          },
          {
           "lower": 1149.9690856933594,
           "timepoint": 8.300000190734863,
           "trajectory": "I_sol",
           "upper": 1355.0868225097656
          },
          {
           "lower": 1175.9716186523438,
           "timepoint": 8.40000057220459,
           "trajectory": "I_sol",
           "upper": 1388.6927490234375
          },
          {
           "lower": 1202.5617126464845,
           "timepoint": 8.5,
           "trajectory": "I_sol",
           "upper": 1423.1334899902345
          },
          {
           "lower": 1229.753515625,
           "timepoint": 8.600000381469727,
           "trajectory": "I_sol",
           "upper": 1458.428564453125
          },
          {
           "lower": 1257.5593200683593,
           "timepoint": 8.699999809265137,
           "trajectory": "I_sol",
           "upper": 1494.5984252929688
          },
          {
           "lower": 1285.9943603515626,
           "timepoint": 8.800000190734863,
           "trajectory": "I_sol",
           "upper": 1531.665478515625
          },
          {
           "lower": 1315.069891357422,
           "timepoint": 8.90000057220459,
           "trajectory": "I_sol",
           "upper": 1569.6519165039062
          },
          {
           "lower": 1344.8038146972656,
           "timepoint": 9,
           "trajectory": "I_sol",
           "upper": 1608.5780029296875
          },
          {
           "lower": 1375.2101318359375,
           "timepoint": 9.100000381469727,
           "trajectory": "I_sol",
           "upper": 1648.471044921875
          },
          {
           "lower": 1406.3032592773438,
           "timepoint": 9.199999809265137,
           "trajectory": "I_sol",
           "upper": 1689.3526123046875
          },
          {
           "lower": 1438.099365234375,
           "timepoint": 9.300000190734863,
           "trajectory": "I_sol",
           "upper": 1731.2481872558594
          },
          {
           "lower": 1470.61376953125,
           "timepoint": 9.40000057220459,
           "trajectory": "I_sol",
           "upper": 1774.182568359375
          },
          {
           "lower": 1503.8627563476562,
           "timepoint": 9.5,
           "trajectory": "I_sol",
           "upper": 1818.1812683105468
          },
          {
           "lower": 1537.8658752441406,
           "timepoint": 9.600000381469727,
           "trajectory": "I_sol",
           "upper": 1863.2714050292968
          },
          {
           "lower": 1572.6353149414062,
           "timepoint": 9.699999809265137,
           "trajectory": "I_sol",
           "upper": 1909.4769165039063
          },
          {
           "lower": 1608.1912536621094,
           "timepoint": 9.800000190734863,
           "trajectory": "I_sol",
           "upper": 1956.8301696777344
          },
          {
           "lower": 1644.5506958007813,
           "timepoint": 9.90000057220459,
           "trajectory": "I_sol",
           "upper": 2005.3573120117187
          },
          {
           "lower": 1681.731671142578,
           "timepoint": 10,
           "trajectory": "I_sol",
           "upper": 2055.0874755859377
          },
          {
           "lower": 1719.7532531738282,
           "timepoint": 10.100000381469727,
           "trajectory": "I_sol",
           "upper": 2106.051171875
          },
          {
           "lower": 1758.6336975097656,
           "timepoint": 10.199999809265137,
           "trajectory": "I_sol",
           "upper": 2158.2783325195314
          },
          {
           "lower": 1798.3938781738282,
           "timepoint": 10.300000190734863,
           "trajectory": "I_sol",
           "upper": 2211.7963012695313
          },
          {
           "lower": 1839.0523986816406,
           "timepoint": 10.40000057220459,
           "trajectory": "I_sol",
           "upper": 2266.6445068359376
          },
          {
           "lower": 1880.629412841797,
           "timepoint": 10.5,
           "trajectory": "I_sol",
           "upper": 2322.8512451171873
          },
          {
           "lower": 1923.1466735839845,
           "timepoint": 10.600000381469727,
           "trajectory": "I_sol",
           "upper": 2380.452185058594
          },
          {
           "lower": 1966.6244873046876,
           "timepoint": 10.699999809265137,
           "trajectory": "I_sol",
           "upper": 2439.480334472656
          },
          {
           "lower": 2011.0848693847656,
           "timepoint": 10.800000190734863,
           "trajectory": "I_sol",
           "upper": 2499.9719848632812
          },
          {
           "lower": 2056.5503173828124,
           "timepoint": 10.90000057220459,
           "trajectory": "I_sol",
           "upper": 2561.962536621094
          },
          {
           "lower": 2103.0427856445312,
           "timepoint": 11,
           "trajectory": "I_sol",
           "upper": 2625.4921142578123
          },
          {
           "lower": 2150.586328125,
           "timepoint": 11.100000381469727,
           "trajectory": "I_sol",
           "upper": 2690.5953735351563
          },
          {
           "lower": 2199.2036743164062,
           "timepoint": 11.199999809265137,
           "trajectory": "I_sol",
           "upper": 2757.311328125
          },
          {
           "lower": 2248.9202392578127,
           "timepoint": 11.300000190734863,
           "trajectory": "I_sol",
           "upper": 2825.681689453125
          },
          {
           "lower": 2299.7601928710938,
           "timepoint": 11.40000057220459,
           "trajectory": "I_sol",
           "upper": 2895.7466674804687
          },
          {
           "lower": 2351.923388671875,
           "timepoint": 11.5,
           "trajectory": "I_sol",
           "upper": 2967.5471923828127
          },
          {
           "lower": 2405.4771484375,
           "timepoint": 11.600000381469727,
           "trajectory": "I_sol",
           "upper": 3041.1279174804686
          },
          {
           "lower": 2460.248913574219,
           "timepoint": 11.699999809265137,
           "trajectory": "I_sol",
           "upper": 3116.5348510742188
          },
          {
           "lower": 2516.268273925781,
           "timepoint": 11.800000190734863,
           "trajectory": "I_sol",
           "upper": 3193.808801269531
          },
          {
           "lower": 2573.5624755859376,
           "timepoint": 11.90000057220459,
           "trajectory": "I_sol",
           "upper": 3272.9975463867186
          },
          {
           "lower": 2632.1605224609375,
           "timepoint": 12,
           "trajectory": "I_sol",
           "upper": 3354.1485107421877
          },
          {
           "lower": 2692.0926879882813,
           "timepoint": 12.100000381469727,
           "trajectory": "I_sol",
           "upper": 3437.310681152344
          },
          {
           "lower": 2753.3859252929688,
           "timepoint": 12.199999809265137,
           "trajectory": "I_sol",
           "upper": 3522.532922363281
          },
          {
           "lower": 2816.0768188476563,
           "timepoint": 12.300000190734863,
           "trajectory": "I_sol",
           "upper": 3609.8728637695312
          },
          {
           "lower": 2880.1940063476563,
           "timepoint": 12.40000057220459,
           "trajectory": "I_sol",
           "upper": 3699.3736694335935
          },
          {
           "lower": 2945.769287109375,
           "timepoint": 12.5,
           "trajectory": "I_sol",
           "upper": 3791.091809082031
          },
          {
           "lower": 3012.8379150390624,
           "timepoint": 12.600000381469727,
           "trajectory": "I_sol",
           "upper": 3885.0838989257813
          },
          {
           "lower": 3081.431359863281,
           "timepoint": 12.699999809265137,
           "trajectory": "I_sol",
           "upper": 3981.4040039062497
          },
          {
           "lower": 3151.586145019531,
           "timepoint": 12.800000190734863,
           "trajectory": "I_sol",
           "upper": 4080.1121215820312
          },
          {
           "lower": 3223.34365234375,
           "timepoint": 12.90000057220459,
           "trajectory": "I_sol",
           "upper": 4181.265698242188
          },
          {
           "lower": 3296.72900390625,
           "timepoint": 13,
           "trajectory": "I_sol",
           "upper": 4284.922705078125
          },
          {
           "lower": 3371.7849731445312,
           "timepoint": 13.100000381469727,
           "trajectory": "I_sol",
           "upper": 4391.1510009765625
          },
          {
           "lower": 3448.5482666015623,
           "timepoint": 13.199999809265137,
           "trajectory": "I_sol",
           "upper": 4500.0108642578125
          },
          {
           "lower": 3527.058642578125,
           "timepoint": 13.300000190734863,
           "trajectory": "I_sol",
           "upper": 4611.568701171875
          },
          {
           "lower": 3607.3560424804687,
           "timepoint": 13.40000057220459,
           "trajectory": "I_sol",
           "upper": 4725.890869140625
          },
          {
           "lower": 3689.479357910156,
           "timepoint": 13.5,
           "trajectory": "I_sol",
           "upper": 4843.044140625
          },
          {
           "lower": 3773.471716308594,
           "timepoint": 13.600000381469727,
           "trajectory": "I_sol",
           "upper": 4963.1014404296875
          },
          {
           "lower": 3859.3740844726562,
           "timepoint": 13.699999809265137,
           "trajectory": "I_sol",
           "upper": 5086.1251220703125
          },
          {
           "lower": 3947.2320068359377,
           "timepoint": 13.800000190734863,
           "trajectory": "I_sol",
           "upper": 5212.202490234375
          },
          {
           "lower": 4037.088916015625,
           "timepoint": 13.90000057220459,
           "trajectory": "I_sol",
           "upper": 5341.4031982421875
          },
          {
           "lower": 4128.988818359375,
           "timepoint": 14,
           "trajectory": "I_sol",
           "upper": 5473.8013671875
          },
          {
           "lower": 4222.9796875,
           "timepoint": 14.100000381469727,
           "trajectory": "I_sol",
           "upper": 5609.479467773437
          },
          {
           "lower": 4319.1070556640625,
           "timepoint": 14.199999809265137,
           "trajectory": "I_sol",
           "upper": 5748.515454101563
          },
          {
           "lower": 4417.420727539063,
           "timepoint": 14.300000190734863,
           "trajectory": "I_sol",
           "upper": 5890.9957275390625
          },
          {
           "lower": 4517.98291015625,
           "timepoint": 14.40000057220459,
           "trajectory": "I_sol",
           "upper": 6037.025146484375
          },
          {
           "lower": 4620.82236328125,
           "timepoint": 14.5,
           "trajectory": "I_sol",
           "upper": 6186.654443359375
          },
          {
           "lower": 4726.00302734375,
           "timepoint": 14.600000381469727,
           "trajectory": "I_sol",
           "upper": 6339.992163085937
          },
          {
           "lower": 4833.5763671875,
           "timepoint": 14.699999809265137,
           "trajectory": "I_sol",
           "upper": 6497.1253662109375
          },
          {
           "lower": 4943.597729492188,
           "timepoint": 14.800000190734863,
           "trajectory": "I_sol",
           "upper": 6658.152856445313
          },
          {
           "lower": 5056.121752929687,
           "timepoint": 14.90000057220459,
           "trajectory": "I_sol",
           "upper": 6823.170458984375
          },
          {
           "lower": 5171.205859375,
           "timepoint": 15,
           "trajectory": "I_sol",
           "upper": 6992.256762695312
          },
          {
           "lower": 5288.896630859375,
           "timepoint": 15.100000381469727,
           "trajectory": "I_sol",
           "upper": 7165.5418701171875
          },
          {
           "lower": 5409.270483398437,
           "timepoint": 15.199999809265137,
           "trajectory": "I_sol",
           "upper": 7343.115698242187
          },
          {
           "lower": 5532.383374023438,
           "timepoint": 15.300000190734863,
           "trajectory": "I_sol",
           "upper": 7525.087109375
          },
          {
           "lower": 5658.295874023437,
           "timepoint": 15.40000057220459,
           "trajectory": "I_sol",
           "upper": 7711.562890624999
          },
          {
           "lower": 5787.070288085937,
           "timepoint": 15.5,
           "trajectory": "I_sol",
           "upper": 7902.6533203125
          },
          {
           "lower": 5918.774340820312,
           "timepoint": 15.600000381469727,
           "trajectory": "I_sol",
           "upper": 8098.475903320313
          },
          {
           "lower": 6053.47060546875,
           "timepoint": 15.699999809265137,
           "trajectory": "I_sol",
           "upper": 8299.148974609376
          },
          {
           "lower": 6191.230810546875,
           "timepoint": 15.800000190734863,
           "trajectory": "I_sol",
           "upper": 8504.7873046875
          },
          {
           "lower": 6332.128735351563,
           "timepoint": 15.90000057220459,
           "trajectory": "I_sol",
           "upper": 8715.515673828126
          },
          {
           "lower": 6476.2248046875,
           "timepoint": 16,
           "trajectory": "I_sol",
           "upper": 8931.45537109375
          },
          {
           "lower": 6623.597827148437,
           "timepoint": 16.100000381469727,
           "trajectory": "I_sol",
           "upper": 9152.74521484375
          },
          {
           "lower": 6774.320288085937,
           "timepoint": 16.200000762939453,
           "trajectory": "I_sol",
           "upper": 9379.50927734375
          },
          {
           "lower": 6928.468823242188,
           "timepoint": 16.30000114440918,
           "trajectory": "I_sol",
           "upper": 9611.884130859375
          },
          {
           "lower": 7086.1185302734375,
           "timepoint": 16.399999618530273,
           "trajectory": "I_sol",
           "upper": 9850.00283203125
          },
          {
           "lower": 7247.354248046875,
           "timepoint": 16.5,
           "trajectory": "I_sol",
           "upper": 10094.01923828125
          },
          {
           "lower": 7412.261401367187,
           "timepoint": 16.600000381469727,
           "trajectory": "I_sol",
           "upper": 10344.073486328125
          },
          {
           "lower": 7580.91171875,
           "timepoint": 16.700000762939453,
           "trajectory": "I_sol",
           "upper": 10600.314794921875
          },
          {
           "lower": 7753.3951416015625,
           "timepoint": 16.80000114440918,
           "trajectory": "I_sol",
           "upper": 10862.897412109374
          },
          {
           "lower": 7928.909521484375,
           "timepoint": 16.899999618530273,
           "trajectory": "I_sol",
           "upper": 11131.97099609375
          },
          {
           "lower": 8108.390161132813,
           "timepoint": 17,
           "trajectory": "I_sol",
           "upper": 11407.708056640626
          },
          {
           "lower": 8291.927490234375,
           "timepoint": 17.100000381469727,
           "trajectory": "I_sol",
           "upper": 11690.23564453125
          },
          {
           "lower": 8479.615478515625,
           "timepoint": 17.200000762939453,
           "trajectory": "I_sol",
           "upper": 11979.770751953125
          },
          {
           "lower": 8671.5455078125,
           "timepoint": 17.30000114440918,
           "trajectory": "I_sol",
           "upper": 12276.4658203125
          },
          {
           "lower": 8867.81298828125,
           "timepoint": 17.399999618530273,
           "trajectory": "I_sol",
           "upper": 12580.492822265625
          },
          {
           "lower": 9068.516748046875,
           "timepoint": 17.5,
           "trajectory": "I_sol",
           "upper": 12892.0431640625
          },
          {
           "lower": 9273.757958984375,
           "timepoint": 17.600000381469727,
           "trajectory": "I_sol",
           "upper": 13211.297021484375
          },
          {
           "lower": 9483.63994140625,
           "timepoint": 17.700000762939453,
           "trajectory": "I_sol",
           "upper": 13538.444482421875
          },
          {
           "lower": 9698.264892578125,
           "timepoint": 17.80000114440918,
           "trajectory": "I_sol",
           "upper": 13873.66611328125
          },
          {
           "lower": 9917.733935546876,
           "timepoint": 17.899999618530273,
           "trajectory": "I_sol",
           "upper": 14217.173876953124
          },
          {
           "lower": 10142.16591796875,
           "timepoint": 18,
           "trajectory": "I_sol",
           "upper": 14569.180810546875
          },
          {
           "lower": 10371.668310546875,
           "timepoint": 18.100000381469727,
           "trajectory": "I_sol",
           "upper": 14929.885546874999
          },
          {
           "lower": 10606.355029296876,
           "timepoint": 18.200000762939453,
           "trajectory": "I_sol",
           "upper": 15299.502197265625
          },
          {
           "lower": 10846.3626953125,
           "timepoint": 18.30000114440918,
           "trajectory": "I_sol",
           "upper": 15678.253759765625
          },
          {
           "lower": 11091.770947265624,
           "timepoint": 18.399999618530273,
           "trajectory": "I_sol",
           "upper": 16066.325537109375
          },
          {
           "lower": 11342.72158203125,
           "timepoint": 18.5,
           "trajectory": "I_sol",
           "upper": 16464.00126953125
          },
          {
           "lower": 11599.332958984374,
           "timepoint": 18.600000381469727,
           "trajectory": "I_sol",
           "upper": 16871.48984375
          },
          {
           "lower": 11861.7296875,
           "timepoint": 18.700000762939453,
           "trajectory": "I_sol",
           "upper": 17289.02568359375
          },
          {
           "lower": 12130.0291015625,
           "timepoint": 18.80000114440918,
           "trajectory": "I_sol",
           "upper": 17716.81875
          },
          {
           "lower": 12404.345263671876,
           "timepoint": 18.899999618530273,
           "trajectory": "I_sol",
           "upper": 18155.11708984375
          },
          {
           "lower": 12684.797265625,
           "timepoint": 19,
           "trajectory": "I_sol",
           "upper": 18604.1431640625
          },
          {
           "lower": 12971.4771484375,
           "timepoint": 19.100000381469727,
           "trajectory": "I_sol",
           "upper": 19064.0935546875
          },
          {
           "lower": 13264.4556640625,
           "timepoint": 19.200000762939453,
           "trajectory": "I_sol",
           "upper": 19535.106640625
          },
          {
           "lower": 13563.732861328124,
           "timepoint": 19.30000114440918,
           "trajectory": "I_sol",
           "upper": 20017.26484375
          },
          {
           "lower": 13869.26884765625,
           "timepoint": 19.399999618530273,
           "trajectory": "I_sol",
           "upper": 20510.53017578125
          },
          {
           "lower": 14180.88359375,
           "timepoint": 19.5,
           "trajectory": "I_sol",
           "upper": 21014.6677734375
          },
          {
           "lower": 14498.186767578125,
           "timepoint": 19.600000381469727,
           "trajectory": "I_sol",
           "upper": 21529.08857421875
          },
          {
           "lower": 14820.4953125,
           "timepoint": 19.700000762939453,
           "trajectory": "I_sol",
           "upper": 22052.7759765625
          },
          {
           "lower": 15146.7529296875,
           "timepoint": 19.80000114440918,
           "trajectory": "I_sol",
           "upper": 22584.04912109375
          },
          {
           "lower": 15475.397802734375,
           "timepoint": 19.899999618530273,
           "trajectory": "I_sol",
           "upper": 23120.45009765625
          },
          {
           "lower": 15804.422509765625,
           "timepoint": 20,
           "trajectory": "I_sol",
           "upper": 23658.8244140625
          },
          {
           "lower": 16131.559375,
           "timepoint": 20.100000381469727,
           "trajectory": "I_sol",
           "upper": 24195.48330078125
          },
          {
           "lower": 16454.463916015626,
           "timepoint": 20.200000762939453,
           "trajectory": "I_sol",
           "upper": 24726.7140625
          },
          {
           "lower": 16771.14033203125,
           "timepoint": 20.30000114440918,
           "trajectory": "I_sol",
           "upper": 25249.25009765625
          },
          {
           "lower": 17080.0673828125,
           "timepoint": 20.399999618530273,
           "trajectory": "I_sol",
           "upper": 25760.5884765625
          },
          {
           "lower": 17380.197265625,
           "timepoint": 20.5,
           "trajectory": "I_sol",
           "upper": 26259.04169921875
          },
          {
           "lower": 17670.9408203125,
           "timepoint": 20.600000381469727,
           "trajectory": "I_sol",
           "upper": 26736.8134765625
          },
          {
           "lower": 17952.0779296875,
           "timepoint": 20.700000762939453,
           "trajectory": "I_sol",
           "upper": 27175.3255859375
          },
          {
           "lower": 18222.480859375,
           "timepoint": 20.80000114440918,
           "trajectory": "I_sol",
           "upper": 27594.55126953125
          },
          {
           "lower": 18469.9228515625,
           "timepoint": 20.899999618530273,
           "trajectory": "I_sol",
           "upper": 27994.72197265625
          },
          {
           "lower": 18706.34072265625,
           "timepoint": 21,
           "trajectory": "I_sol",
           "upper": 28376.26142578125
          },
          {
           "lower": 18932.10263671875,
           "timepoint": 21.100000381469727,
           "trajectory": "I_sol",
           "upper": 28739.7009765625
          },
          {
           "lower": 19147.58271484375,
           "timepoint": 21.200000762939453,
           "trajectory": "I_sol",
           "upper": 29085.61865234375
          },
          {
           "lower": 19353.1849609375,
           "timepoint": 21.30000114440918,
           "trajectory": "I_sol",
           "upper": 29414.62548828125
          },
          {
           "lower": 19549.29423828125,
           "timepoint": 21.399999618530273,
           "trajectory": "I_sol",
           "upper": 29727.3193359375
          },
          {
           "lower": 19736.317578125,
           "timepoint": 21.5,
           "trajectory": "I_sol",
           "upper": 30024.31611328125
          },
          {
           "lower": 19914.6294921875,
           "timepoint": 21.600000381469727,
           "trajectory": "I_sol",
           "upper": 30306.249609374998
          },
          {
           "lower": 20084.6044921875,
           "timepoint": 21.700000762939453,
           "trajectory": "I_sol",
           "upper": 30617.087695312497
          },
          {
           "lower": 20246.54765625,
           "timepoint": 21.80000114440918,
           "trajectory": "I_sol",
           "upper": 30933.929492187497
          },
          {
           "lower": 20400.86357421875,
           "timepoint": 21.899999618530273,
           "trajectory": "I_sol",
           "upper": 31240.0736328125
          },
          {
           "lower": 20551.13642578125,
           "timepoint": 22,
           "trajectory": "I_sol",
           "upper": 31536.72255859375
          },
          {
           "lower": 20716.06162109375,
           "timepoint": 22.100000381469727,
           "trajectory": "I_sol",
           "upper": 31824.2830078125
          },
          {
           "lower": 20875.41669921875,
           "timepoint": 22.200000762939453,
           "trajectory": "I_sol",
           "upper": 32103.14501953125
          },
          {
           "lower": 21031.17138671875,
           "timepoint": 22.30000114440918,
           "trajectory": "I_sol",
           "upper": 32373.691503906248
          },
          {
           "lower": 21181.8248046875,
           "timepoint": 22.399999618530273,
           "trajectory": "I_sol",
           "upper": 32636.2787109375
          },
          {
           "lower": 21327.5935546875,
           "timepoint": 22.5,
           "trajectory": "I_sol",
           "upper": 32862.3021484375
          },
          {
           "lower": 21468.7109375,
           "timepoint": 22.600000381469727,
           "trajectory": "I_sol",
           "upper": 33015.824609375
          },
          {
           "lower": 21605.37177734375,
           "timepoint": 22.700000762939453,
           "trajectory": "I_sol",
           "upper": 33159.12265625
          },
          {
           "lower": 21737.77265625,
           "timepoint": 22.80000114440918,
           "trajectory": "I_sol",
           "upper": 33292.6044921875
          },
          {
           "lower": 21868.66640625,
           "timepoint": 22.899999618530273,
           "trajectory": "I_sol",
           "upper": 33506.2146484375
          },
          {
           "lower": 22002.32587890625,
           "timepoint": 23,
           "trajectory": "I_sol",
           "upper": 33746.029492187496
          },
          {
           "lower": 22132.5759765625,
           "timepoint": 23.100000381469727,
           "trajectory": "I_sol",
           "upper": 33980.7787109375
          },
          {
           "lower": 22259.57529296875,
           "timepoint": 23.200000762939453,
           "trajectory": "I_sol",
           "upper": 34210.705078125
          },
          {
           "lower": 22383.409375,
           "timepoint": 23.30000114440918,
           "trajectory": "I_sol",
           "upper": 34436.0322265625
          },
          {
           "lower": 22504.3212890625,
           "timepoint": 23.399999618530273,
           "trajectory": "I_sol",
           "upper": 34656.975781249996
          },
          {
           "lower": 22622.41328125,
           "timepoint": 23.5,
           "trajectory": "I_sol",
           "upper": 34873.7537109375
          },
          {
           "lower": 22737.814453125,
           "timepoint": 23.600000381469727,
           "trajectory": "I_sol",
           "upper": 35086.6322265625
          },
          {
           "lower": 22850.65322265625,
           "timepoint": 23.700000762939453,
           "trajectory": "I_sol",
           "upper": 35295.685546875
          },
          {
           "lower": 22961.04951171875,
           "timepoint": 23.80000114440918,
           "trajectory": "I_sol",
           "upper": 35501.1453125
          },
          {
           "lower": 23069.11513671875,
           "timepoint": 23.899999618530273,
           "trajectory": "I_sol",
           "upper": 35703.176953125
          },
          {
           "lower": 23174.96357421875,
           "timepoint": 24,
           "trajectory": "I_sol",
           "upper": 35901.963671875
          },
          {
           "lower": 23258.601953125,
           "timepoint": 24.100000381469727,
           "trajectory": "I_sol",
           "upper": 36097.6943359375
          },
          {
           "lower": 23329.98564453125,
           "timepoint": 24.200000762939453,
           "trajectory": "I_sol",
           "upper": 36290.4669921875
          },
          {
           "lower": 23398.91396484375,
           "timepoint": 24.30000114440918,
           "trajectory": "I_sol",
           "upper": 36480.4458984375
          },
          {
           "lower": 23465.4935546875,
           "timepoint": 24.399999618530273,
           "trajectory": "I_sol",
           "upper": 36667.772265625
          },
          {
           "lower": 23529.82763671875,
           "timepoint": 24.5,
           "trajectory": "I_sol",
           "upper": 36852.59140625
          },
          {
           "lower": 23592.01552734375,
           "timepoint": 24.600000381469727,
           "trajectory": "I_sol",
           "upper": 37035.024609375
          },
          {
           "lower": 23652.08642578125,
           "timepoint": 24.700000762939453,
           "trajectory": "I_sol",
           "upper": 37215.1740234375
          },
          {
           "lower": 23717.13037109375,
           "timepoint": 24.80000114440918,
           "trajectory": "I_sol",
           "upper": 37393.190625
          },
          {
           "lower": 23791.4419921875,
           "timepoint": 24.899999618530273,
           "trajectory": "I_sol",
           "upper": 37569.1619140625
          },
          {
           "lower": 23864.1693359375,
           "timepoint": 25,
           "trajectory": "I_sol",
           "upper": 37710.6541015625
          },
          {
           "lower": 23935.38671875,
           "timepoint": 25.100000381469727,
           "trajectory": "I_sol",
           "upper": 37824.51796875
          },
          {
           "lower": 24005.16298828125,
           "timepoint": 25.200000762939453,
           "trajectory": "I_sol",
           "upper": 37935.7447265625
          },
          {
           "lower": 24073.562109375,
           "timepoint": 25.30000114440918,
           "trajectory": "I_sol",
           "upper": 38044.4376953125
          },
          {
           "lower": 24141.375,
           "timepoint": 25.399999618530273,
           "trajectory": "I_sol",
           "upper": 38150.710546875
          },
          {
           "lower": 24208.67138671875,
           "timepoint": 25.5,
           "trajectory": "I_sol",
           "upper": 38254.7328125
          },
          {
           "lower": 24274.79169921875,
           "timepoint": 25.600000381469727,
           "trajectory": "I_sol",
           "upper": 38356.5009765625
          },
          {
           "lower": 24339.78388671875,
           "timepoint": 25.700000762939453,
           "trajectory": "I_sol",
           "upper": 38456.1498046875
          },
          {
           "lower": 24403.694921875,
           "timepoint": 25.80000114440918,
           "trajectory": "I_sol",
           "upper": 38551.81484375
          },
          {
           "lower": 24466.5884765625,
           "timepoint": 25.899999618530273,
           "trajectory": "I_sol",
           "upper": 38645.409765625
          },
          {
           "lower": 24528.4759765625,
           "timepoint": 26,
           "trajectory": "I_sol",
           "upper": 38737.134960937496
          },
          {
           "lower": 24589.44501953125,
           "timepoint": 26.100000381469727,
           "trajectory": "I_sol",
           "upper": 38826.957226562496
          },
          {
           "lower": 24649.5234375,
           "timepoint": 26.200000762939453,
           "trajectory": "I_sol",
           "upper": 38915.125390625
          },
          {
           "lower": 24708.75400390625,
           "timepoint": 26.30000114440918,
           "trajectory": "I_sol",
           "upper": 39001.6400390625
          },
          {
           "lower": 24767.17451171875,
           "timepoint": 26.399999618530273,
           "trajectory": "I_sol",
           "upper": 39144.457421875
          },
          {
           "lower": 24824.82509765625,
           "timepoint": 26.5,
           "trajectory": "I_sol",
           "upper": 39287.5947265625
          },
          {
           "lower": 24881.7427734375,
           "timepoint": 26.600000381469727,
           "trajectory": "I_sol",
           "upper": 39429.852734375
          },
          {
           "lower": 24937.91416015625,
           "timepoint": 26.700000762939453,
           "trajectory": "I_sol",
           "upper": 39571.2826171875
          },
          {
           "lower": 25000.74873046875,
           "timepoint": 26.80000114440918,
           "trajectory": "I_sol",
           "upper": 39702.5564453125
          },
          {
           "lower": 25064.43779296875,
           "timepoint": 26.899999618530273,
           "trajectory": "I_sol",
           "upper": 39783.5193359375
          },
          {
           "lower": 25127.66201171875,
           "timepoint": 27,
           "trajectory": "I_sol",
           "upper": 39863.303125
          },
          {
           "lower": 25190.36337890625,
           "timepoint": 27.100000381469727,
           "trajectory": "I_sol",
           "upper": 39941.90546875
          },
          {
           "lower": 25252.60625,
           "timepoint": 27.200000762939453,
           "trajectory": "I_sol",
           "upper": 40019.399609374996
          },
          {
           "lower": 25314.414453125,
           "timepoint": 27.30000114440918,
           "trajectory": "I_sol",
           "upper": 40095.831640625
          },
          {
           "lower": 25375.810546875,
           "timepoint": 27.399999618530273,
           "trajectory": "I_sol",
           "upper": 40171.2490234375
          },
          {
           "lower": 25436.820703125,
           "timepoint": 27.5,
           "trajectory": "I_sol",
           "upper": 40255.571875
          },
          {
           "lower": 25497.4609375,
           "timepoint": 27.600000381469727,
           "trajectory": "I_sol",
           "upper": 40403.7865234375
          },
          {
           "lower": 25557.7251953125,
           "timepoint": 27.700000762939453,
           "trajectory": "I_sol",
           "upper": 40551.781640625
          },
          {
           "lower": 25617.68134765625,
           "timepoint": 27.80000114440918,
           "trajectory": "I_sol",
           "upper": 40699.5732421875
          },
          {
           "lower": 25677.32646484375,
           "timepoint": 27.899999618530273,
           "trajectory": "I_sol",
           "upper": 40847.192578124996
          },
          {
           "lower": 25736.68408203125,
           "timepoint": 28,
           "trajectory": "I_sol",
           "upper": 40994.733984375
          },
          {
           "lower": 25795.76455078125,
           "timepoint": 28.100000381469727,
           "trajectory": "I_sol",
           "upper": 41142.117382812496
          },
          {
           "lower": 25854.58203125,
           "timepoint": 28.200000762939453,
           "trajectory": "I_sol",
           "upper": 41289.414257812496
          },
          {
           "lower": 25913.15419921875,
           "timepoint": 28.30000114440918,
           "trajectory": "I_sol",
           "upper": 41436.652734375
          },
          {
           "lower": 25971.494140625,
           "timepoint": 28.399999618530273,
           "trajectory": "I_sol",
           "upper": 41583.84765625
          },
          {
           "lower": 26029.68408203125,
           "timepoint": 28.5,
           "trajectory": "I_sol",
           "upper": 41731.02734375
          },
          {
           "lower": 26087.632421875,
           "timepoint": 28.600000381469727,
           "trajectory": "I_sol",
           "upper": 41878.20703125
          },
          {
           "lower": 26121.906640625,
           "timepoint": 28.700000762939453,
           "trajectory": "I_sol",
           "upper": 42025.421875
          },
          {
           "lower": 26129.21240234375,
           "timepoint": 28.80000114440918,
           "trajectory": "I_sol",
           "upper": 42172.5873046875
          },
          {
           "lower": 26136.12236328125,
           "timepoint": 28.899999618530273,
           "trajectory": "I_sol",
           "upper": 42319.8787109375
          },
          {
           "lower": 26142.65546875,
           "timepoint": 29,
           "trajectory": "I_sol",
           "upper": 42467.2421875
          },
          {
           "lower": 26148.82470703125,
           "timepoint": 29.100000381469727,
           "trajectory": "I_sol",
           "upper": 42614.0765625
          },
          {
           "lower": 26176.05302734375,
           "timepoint": 29.200000762939453,
           "trajectory": "I_sol",
           "upper": 42760.506640625
          },
          {
           "lower": 26219.608203125,
           "timepoint": 29.30000114440918,
           "trajectory": "I_sol",
           "upper": 42907.0625
          },
          {
           "lower": 26262.978125,
           "timepoint": 29.399999618530273,
           "trajectory": "I_sol",
           "upper": 43053.7408203125
          },
          {
           "lower": 26306.18056640625,
           "timepoint": 29.5,
           "trajectory": "I_sol",
           "upper": 43200.5875
          },
          {
           "lower": 26328.577734375,
           "timepoint": 29.600000381469727,
           "trajectory": "I_sol",
           "upper": 43347.5921875
          },
          {
           "lower": 26325.443359375,
           "timepoint": 29.700000762939453,
           "trajectory": "I_sol",
           "upper": 43494.691796875
          },
          {
           "lower": 26321.97978515625,
           "timepoint": 29.80000114440918,
           "trajectory": "I_sol",
           "upper": 43642.0435546875
          },
          {
           "lower": 26318.2005859375,
           "timepoint": 29.899999618530273,
           "trajectory": "I_sol",
           "upper": 43789.5904296875
          },
          {
           "lower": 26314.11923828125,
           "timepoint": 30,
           "trajectory": "I_sol",
           "upper": 43910.38828125
          },
          {
           "lower": 26309.745703125,
           "timepoint": 30.100000381469727,
           "trajectory": "I_sol",
           "upper": 44025.03671875
          },
          {
           "lower": 26305.08955078125,
           "timepoint": 30.200000762939453,
           "trajectory": "I_sol",
           "upper": 44139.6640625
          },
          {
           "lower": 26300.16630859375,
           "timepoint": 30.30000114440918,
           "trajectory": "I_sol",
           "upper": 44254.3001953125
          },
          {
           "lower": 26294.9873046875,
           "timepoint": 30.399999618530273,
           "trajectory": "I_sol",
           "upper": 44368.9384765625
          },
          {
           "lower": 26289.55859375,
           "timepoint": 30.5,
           "trajectory": "I_sol",
           "upper": 44517.237109375
          },
          {
           "lower": 26283.89521484375,
           "timepoint": 30.600000381469727,
           "trajectory": "I_sol",
           "upper": 44680.5826171875
          },
          {
           "lower": 26278.003515625,
           "timepoint": 30.700000762939453,
           "trajectory": "I_sol",
           "upper": 44844.3130859375
          },
          {
           "lower": 26271.89091796875,
           "timepoint": 30.80000114440918,
           "trajectory": "I_sol",
           "upper": 45008.4806640625
          },
          {
           "lower": 26265.5712890625,
           "timepoint": 30.899999618530273,
           "trajectory": "I_sol",
           "upper": 45173.0052734375
          },
          {
           "lower": 26259.05009765625,
           "timepoint": 31,
           "trajectory": "I_sol",
           "upper": 45337.9427734375
          },
          {
           "lower": 26252.33359375,
           "timepoint": 31.100000381469727,
           "trajectory": "I_sol",
           "upper": 45503.301171875
          },
          {
           "lower": 26245.42724609375,
           "timepoint": 31.19999885559082,
           "trajectory": "I_sol",
           "upper": 45669.076953125
          },
          {
           "lower": 26238.34462890625,
           "timepoint": 31.299999237060547,
           "trajectory": "I_sol",
           "upper": 45835.296875
          },
          {
           "lower": 26231.091796875,
           "timepoint": 31.399999618530273,
           "trajectory": "I_sol",
           "upper": 46001.9529296875
          },
          {
           "lower": 26223.67294921875,
           "timepoint": 31.5,
           "trajectory": "I_sol",
           "upper": 46168.337109375
          },
          {
           "lower": 26216.09541015625,
           "timepoint": 31.600000381469727,
           "trajectory": "I_sol",
           "upper": 46335.1625
          },
          {
           "lower": 26208.36318359375,
           "timepoint": 31.69999885559082,
           "trajectory": "I_sol",
           "upper": 46482.8349609375
          },
          {
           "lower": 26200.48583984375,
           "timepoint": 31.799999237060547,
           "trajectory": "I_sol",
           "upper": 46624.4763671875
          },
          {
           "lower": 26192.46728515625,
           "timepoint": 31.899999618530273,
           "trajectory": "I_sol",
           "upper": 46766.1044921875
          },
          {
           "lower": 26184.31328125,
           "timepoint": 32,
           "trajectory": "I_sol",
           "upper": 46907.5521484375
          },
          {
           "lower": 26176.02783203125,
           "timepoint": 32.099998474121094,
           "trajectory": "I_sol",
           "upper": 47049.3123046875
          },
          {
           "lower": 26167.6630859375,
           "timepoint": 32.19999694824219,
           "trajectory": "I_sol",
           "upper": 47191.3556640625
          },
          {
           "lower": 26159.1431640625,
           "timepoint": 32.29999923706055,
           "trajectory": "I_sol",
           "upper": 47333.69375
          },
          {
           "lower": 26150.5111328125,
           "timepoint": 32.400001525878906,
           "trajectory": "I_sol",
           "upper": 47476.3236328125
          },
          {
           "lower": 26146.98203125,
           "timepoint": 32.5,
           "trajectory": "I_sol",
           "upper": 47619.2517578125
          },
          {
           "lower": 26144.0517578125,
           "timepoint": 32.599998474121094,
           "trajectory": "I_sol",
           "upper": 47762.4751953125
          },
          {
           "lower": 26141.03671875,
           "timepoint": 32.69999694824219,
           "trajectory": "I_sol",
           "upper": 47906.0166015625
          },
          {
           "lower": 26137.942578125,
           "timepoint": 32.79999923706055,
           "trajectory": "I_sol",
           "upper": 48049.869140625
          },
          {
           "lower": 26134.771484375,
           "timepoint": 32.900001525878906,
           "trajectory": "I_sol",
           "upper": 48194.0318359375
          },
          {
           "lower": 26131.52197265625,
           "timepoint": 33,
           "trajectory": "I_sol",
           "upper": 48338.5232421875
          },
          {
           "lower": 26128.203125,
           "timepoint": 33.099998474121094,
           "trajectory": "I_sol",
           "upper": 48483.429882812496
          },
          {
           "lower": 26124.81923828125,
           "timepoint": 33.19999694824219,
           "trajectory": "I_sol",
           "upper": 48628.5921875
          },
          {
           "lower": 26121.3640625,
           "timepoint": 33.29999923706055,
           "trajectory": "I_sol",
           "upper": 48774.095898437496
          },
          {
           "lower": 26117.8490234375,
           "timepoint": 33.400001525878906,
           "trajectory": "I_sol",
           "upper": 48919.9408203125
          },
          {
           "lower": 26114.27080078125,
           "timepoint": 33.5,
           "trajectory": "I_sol",
           "upper": 49066.123242187496
          },
          {
           "lower": 26110.60576171875,
           "timepoint": 33.599998474121094,
           "trajectory": "I_sol",
           "upper": 49212.6474609375
          },
          {
           "lower": 26106.907421875,
           "timepoint": 33.69999694824219,
           "trajectory": "I_sol",
           "upper": 49359.5208984375
          },
          {
           "lower": 26103.15576171875,
           "timepoint": 33.79999923706055,
           "trajectory": "I_sol",
           "upper": 49506.7515625
          },
          {
           "lower": 26099.35107421875,
           "timepoint": 33.900001525878906,
           "trajectory": "I_sol",
           "upper": 49654.3353515625
          },
          {
           "lower": 26095.4951171875,
           "timepoint": 34,
           "trajectory": "I_sol",
           "upper": 49802.276171875
          },
          {
           "lower": 26091.59384765625,
           "timepoint": 34.099998474121094,
           "trajectory": "I_sol",
           "upper": 49950.574414062496
          },
          {
           "lower": 26087.64501953125,
           "timepoint": 34.19999694824219,
           "trajectory": "I_sol",
           "upper": 50099.2376953125
          },
          {
           "lower": 26083.65302734375,
           "timepoint": 34.29999923706055,
           "trajectory": "I_sol",
           "upper": 50248.273828125
          },
          {
           "lower": 26079.61591796875,
           "timepoint": 34.400001525878906,
           "trajectory": "I_sol",
           "upper": 50397.6830078125
          },
          {
           "lower": 26076.277734375,
           "timepoint": 34.5,
           "trajectory": "I_sol",
           "upper": 50547.4568359375
          },
          {
           "lower": 26073.3880859375,
           "timepoint": 34.599998474121094,
           "trajectory": "I_sol",
           "upper": 50697.6072265625
          },
          {
           "lower": 26070.45615234375,
           "timepoint": 34.69999694824219,
           "trajectory": "I_sol",
           "upper": 50848.1306640625
          },
          {
           "lower": 26067.448828125,
           "timepoint": 34.79999923706055,
           "trajectory": "I_sol",
           "upper": 50999.042578125
          },
          {
           "lower": 26064.440234375,
           "timepoint": 34.900001525878906,
           "trajectory": "I_sol",
           "upper": 51150.338671875
          },
          {
           "lower": 26061.39697265625,
           "timepoint": 35,
           "trajectory": "I_sol",
           "upper": 51302.008007812496
          },
          {
           "lower": 26058.323828125,
           "timepoint": 35.099998474121094,
           "trajectory": "I_sol",
           "upper": 51454.0765625
          },
          {
           "lower": 26055.2177734375,
           "timepoint": 35.19999694824219,
           "trajectory": "I_sol",
           "upper": 51606.522265625
          },
          {
           "lower": 26048.83740234375,
           "timepoint": 35.29999923706055,
           "trajectory": "I_sol",
           "upper": 51759.36484375
          },
          {
           "lower": 26040.62255859375,
           "timepoint": 35.400001525878906,
           "trajectory": "I_sol",
           "upper": 51912.5994140625
          },
          {
           "lower": 26032.7041015625,
           "timepoint": 35.5,
           "trajectory": "I_sol",
           "upper": 52066.2263671875
          },
          {
           "lower": 26028.25048828125,
           "timepoint": 35.599998474121094,
           "trajectory": "I_sol",
           "upper": 52220.250390625
          },
          {
           "lower": 26023.768359375,
           "timepoint": 35.69999694824219,
           "trajectory": "I_sol",
           "upper": 52374.6703125
          },
          {
           "lower": 26019.2625,
           "timepoint": 35.79999923706055,
           "trajectory": "I_sol",
           "upper": 52529.53515625
          },
          {
           "lower": 26014.72919921875,
           "timepoint": 35.900001525878906,
           "trajectory": "I_sol",
           "upper": 52684.7705078125
          },
          {
           "lower": 26010.17236328125,
           "timepoint": 36,
           "trajectory": "I_sol",
           "upper": 52840.4099609375
          },
          {
           "lower": 26005.590234375,
           "timepoint": 36.099998474121094,
           "trajectory": "I_sol",
           "upper": 52996.45
          },
          {
           "lower": 26000.984375,
           "timepoint": 36.19999694824219,
           "trajectory": "I_sol",
           "upper": 53152.9052734375
          },
          {
           "lower": 25996.35908203125,
           "timepoint": 36.29999923706055,
           "trajectory": "I_sol",
           "upper": 53309.7767578125
          },
          {
           "lower": 25978.15595703125,
           "timepoint": 36.400001525878906,
           "trajectory": "I_sol",
           "upper": 53467.056640625
          },
          {
           "lower": 25905.5958984375,
           "timepoint": 36.5,
           "trajectory": "I_sol",
           "upper": 53624.7439453125
          },
          {
           "lower": 25833.2017578125,
           "timepoint": 36.599998474121094,
           "trajectory": "I_sol",
           "upper": 53782.8515625
          },
          {
           "lower": 25760.9810546875,
           "timepoint": 36.69999694824219,
           "trajectory": "I_sol",
           "upper": 53941.375
          },
          {
           "lower": 25689.85078125,
           "timepoint": 36.79999923706055,
           "trajectory": "I_sol",
           "upper": 54100.318359375
          },
          {
           "lower": 25675.37255859375,
           "timepoint": 36.900001525878906,
           "trajectory": "I_sol",
           "upper": 54259.689062499994
          },
          {
           "lower": 25660.8923828125,
           "timepoint": 37,
           "trajectory": "I_sol",
           "upper": 54419.46875
          },
          {
           "lower": 25646.39912109375,
           "timepoint": 37.099998474121094,
           "trajectory": "I_sol",
           "upper": 54579.682812499996
          },
          {
           "lower": 25631.90556640625,
           "timepoint": 37.19999694824219,
           "trajectory": "I_sol",
           "upper": 54740.314062499994
          },
          {
           "lower": 25619.55546875,
           "timepoint": 37.29999923706055,
           "trajectory": "I_sol",
           "upper": 54901.38125
          },
          {
           "lower": 25610.56591796875,
           "timepoint": 37.400001525878906,
           "trajectory": "I_sol",
           "upper": 55062.863671875
          },
          {
           "lower": 25601.565234375,
           "timepoint": 37.5,
           "trajectory": "I_sol",
           "upper": 55224.7810546875
          },
          {
           "lower": 25592.55537109375,
           "timepoint": 37.599998474121094,
           "trajectory": "I_sol",
           "upper": 55387.130078124996
          },
          {
           "lower": 25583.535546875,
           "timepoint": 37.69999694824219,
           "trajectory": "I_sol",
           "upper": 55549.9072265625
          },
          {
           "lower": 25574.50185546875,
           "timepoint": 37.79999923706055,
           "trajectory": "I_sol",
           "upper": 55713.1234375
          },
          {
           "lower": 25575.476953125,
           "timepoint": 37.900001525878906,
           "trajectory": "I_sol",
           "upper": 55876.775585937496
          },
          {
           "lower": 25609.50390625,
           "timepoint": 38,
           "trajectory": "I_sol",
           "upper": 56040.859570312496
          },
          {
           "lower": 25643.565625,
           "timepoint": 38.099998474121094,
           "trajectory": "I_sol",
           "upper": 56205.379101562496
          },
          {
           "lower": 25677.667578125,
           "timepoint": 38.19999694824219,
           "trajectory": "I_sol",
           "upper": 56370.33046875
          },
          {
           "lower": 25711.804296875,
           "timepoint": 38.29999923706055,
           "trajectory": "I_sol",
           "upper": 56535.733203125
          },
          {
           "lower": 25745.98134765625,
           "timepoint": 38.400001525878906,
           "trajectory": "I_sol",
           "upper": 56701.571874999994
          },
          {
           "lower": 25770.06943359375,
           "timepoint": 38.5,
           "trajectory": "I_sol",
           "upper": 56867.85
          },
          {
           "lower": 25756.05498046875,
           "timepoint": 38.599998474121094,
           "trajectory": "I_sol",
           "upper": 57034.5677734375
          },
          {
           "lower": 25742.03662109375,
           "timepoint": 38.69999694824219,
           "trajectory": "I_sol",
           "upper": 57201.73671875
          },
          {
           "lower": 25728.01201171875,
           "timepoint": 38.79999923706055,
           "trajectory": "I_sol",
           "upper": 57369.34609375
          },
          {
           "lower": 25713.9833984375,
           "timepoint": 38.900001525878906,
           "trajectory": "I_sol",
           "upper": 57537.406835937494
          },
          {
           "lower": 25699.95078125,
           "timepoint": 39,
           "trajectory": "I_sol",
           "upper": 57705.907421874996
          },
          {
           "lower": 25685.91396484375,
           "timepoint": 39.099998474121094,
           "trajectory": "I_sol",
           "upper": 57874.86035156249
          },
          {
           "lower": 25671.873046875,
           "timepoint": 39.19999694824219,
           "trajectory": "I_sol",
           "upper": 58044.4046875
          },
          {
           "lower": 25657.830078125,
           "timepoint": 39.29999923706055,
           "trajectory": "I_sol",
           "upper": 58214.2859375
          },
          {
           "lower": 25643.7810546875,
           "timepoint": 39.400001525878906,
           "trajectory": "I_sol",
           "upper": 58384.6228515625
          },
          {
           "lower": 25629.73173828125,
           "timepoint": 39.5,
           "trajectory": "I_sol",
           "upper": 58555.40703125
          },
          {
           "lower": 25615.67841796875,
           "timepoint": 39.599998474121094,
           "trajectory": "I_sol",
           "upper": 58726.646875
          },
          {
           "lower": 25601.63037109375,
           "timepoint": 39.69999694824219,
           "trajectory": "I_sol",
           "upper": 58898.34609375
          },
          {
           "lower": 25587.5728515625,
           "timepoint": 39.79999923706055,
           "trajectory": "I_sol",
           "upper": 59070.511914062496
          },
          {
           "lower": 25573.51103515625,
           "timepoint": 39.900001525878906,
           "trajectory": "I_sol",
           "upper": 59243.13769531249
          },
          {
           "lower": 25559.44931640625,
           "timepoint": 40,
           "trajectory": "I_sol",
           "upper": 59416.215039062496
          },
          {
           "lower": 25545.38759765625,
           "timepoint": 40.099998474121094,
           "trajectory": "I_sol",
           "upper": 59589.755468749994
          },
          {
           "lower": 25531.32001953125,
           "timepoint": 40.19999694824219,
           "trajectory": "I_sol",
           "upper": 59763.759374999994
          },
          {
           "lower": 25517.250390625,
           "timepoint": 40.29999923706055,
           "trajectory": "I_sol",
           "upper": 59938.23828124999
          },
          {
           "lower": 25503.17861328125,
           "timepoint": 40.400001525878906,
           "trajectory": "I_sol",
           "upper": 60113.18457031249
          },
          {
           "lower": 25489.1048828125,
           "timepoint": 40.5,
           "trajectory": "I_sol",
           "upper": 60288.582617187494
          },
          {
           "lower": 25475.0291015625,
           "timepoint": 40.599998474121094,
           "trajectory": "I_sol",
           "upper": 60464.459179687496
          },
          {
           "lower": 25460.955078125,
           "timepoint": 40.69999694824219,
           "trajectory": "I_sol",
           "upper": 60640.803515625
          },
          {
           "lower": 25446.87705078125,
           "timepoint": 40.79999923706055,
           "trajectory": "I_sol",
           "upper": 60817.619335937496
          },
          {
           "lower": 25432.7970703125,
           "timepoint": 40.900001525878906,
           "trajectory": "I_sol",
           "upper": 60994.9099609375
          },
          {
           "lower": 25418.71337890625,
           "timepoint": 41,
           "trajectory": "I_sol",
           "upper": 61172.674414062494
          },
          {
           "lower": 25404.629296875,
           "timepoint": 41.099998474121094,
           "trajectory": "I_sol",
           "upper": 61350.889257812494
          },
          {
           "lower": 25390.5451171875,
           "timepoint": 41.19999694824219,
           "trajectory": "I_sol",
           "upper": 61529.59472656249
          },
          {
           "lower": 25376.45908203125,
           "timepoint": 41.29999923706055,
           "trajectory": "I_sol",
           "upper": 61708.7791015625
          },
          {
           "lower": 25362.43603515625,
           "timepoint": 41.400001525878906,
           "trajectory": "I_sol",
           "upper": 61888.446484374996
          },
          {
           "lower": 25348.358984375,
           "timepoint": 41.5,
           "trajectory": "I_sol",
           "upper": 62068.581640624994
          },
          {
           "lower": 25334.2818359375,
           "timepoint": 41.599998474121094,
           "trajectory": "I_sol",
           "upper": 62249.19960937499
          },
          {
           "lower": 25320.20283203125,
           "timepoint": 41.69999694824219,
           "trajectory": "I_sol",
           "upper": 62430.297460937494
          },
          {
           "lower": 25306.12529296875,
           "timepoint": 41.79999923706055,
           "trajectory": "I_sol",
           "upper": 62611.885937499996
          },
          {
           "lower": 25292.0458984375,
           "timepoint": 41.900001525878906,
           "trajectory": "I_sol",
           "upper": 62793.954296874996
          },
          {
           "lower": 25277.96845703125,
           "timepoint": 42,
           "trajectory": "I_sol",
           "upper": 62976.50527343749
          },
          {
           "lower": 25263.89072265625,
           "timepoint": 42.099998474121094,
           "trajectory": "I_sol",
           "upper": 63159.539648437494
          },
          {
           "lower": 25249.8130859375,
           "timepoint": 42.19999694824219,
           "trajectory": "I_sol",
           "upper": 63343.05761718749
          },
          {
           "lower": 25235.73544921875,
           "timepoint": 42.29999923706055,
           "trajectory": "I_sol",
           "upper": 63527.070898437494
          },
          {
           "lower": 25221.65927734375,
           "timepoint": 42.400001525878906,
           "trajectory": "I_sol",
           "upper": 63711.578320312496
          },
          {
           "lower": 25207.58330078125,
           "timepoint": 42.5,
           "trajectory": "I_sol",
           "upper": 63896.562695312496
          },
          {
           "lower": 25193.50517578125,
           "timepoint": 42.599998474121094,
           "trajectory": "I_sol",
           "upper": 64082.045117187496
          },
          {
           "lower": 25179.430859375,
           "timepoint": 42.69999694824219,
           "trajectory": "I_sol",
           "upper": 64268.015234374994
          },
          {
           "lower": 25165.3564453125,
           "timepoint": 42.79999923706055,
           "trajectory": "I_sol",
           "upper": 64454.48046874999
          },
          {
           "lower": 25151.28193359375,
           "timepoint": 42.900001525878906,
           "trajectory": "I_sol",
           "upper": 64641.43593749999
          },
          {
           "lower": 25137.2091796875,
           "timepoint": 43,
           "trajectory": "I_sol",
           "upper": 64828.786328124996
          },
          {
           "lower": 25123.13642578125,
           "timepoint": 43.099998474121094,
           "trajectory": "I_sol",
           "upper": 65016.720898437496
          },
          {
           "lower": 25109.06533203125,
           "timepoint": 43.19999694824219,
           "trajectory": "I_sol",
           "upper": 65205.15468749999
          },
          {
           "lower": 25094.99423828125,
           "timepoint": 43.29999923706055,
           "trajectory": "I_sol",
           "upper": 65394.09218749999
          },
          {
           "lower": 25080.923046875,
           "timepoint": 43.400001525878906,
           "trajectory": "I_sol",
           "upper": 65583.5318359375
          },
          {
           "lower": 25066.85556640625,
           "timepoint": 43.5,
           "trajectory": "I_sol",
           "upper": 65773.46289062499
          },
          {
           "lower": 25052.78837890625,
           "timepoint": 43.599998474121094,
           "trajectory": "I_sol",
           "upper": 65963.889453125
          },
          {
           "lower": 25038.72109375,
           "timepoint": 43.69999694824219,
           "trajectory": "I_sol",
           "upper": 66154.815234375
          },
          {
           "lower": 25024.651953125,
           "timepoint": 43.79999923706055,
           "trajectory": "I_sol",
           "upper": 66346.26328125
          },
          {
           "lower": 25010.584765625,
           "timepoint": 43.900001525878906,
           "trajectory": "I_sol",
           "upper": 66538.20312499999
          },
          {
           "lower": 24996.52109375,
           "timepoint": 44,
           "trajectory": "I_sol",
           "upper": 66730.65
          },
          {
           "lower": 24982.45576171875,
           "timepoint": 44.099998474121094,
           "trajectory": "I_sol",
           "upper": 66923.60390624999
          },
          {
           "lower": 24968.3921875,
           "timepoint": 44.19999694824219,
           "trajectory": "I_sol",
           "upper": 67117.05703124999
          },
          {
           "lower": 24954.32685546875,
           "timepoint": 44.29999923706055,
           "trajectory": "I_sol",
           "upper": 67311.03320312499
          },
          {
           "lower": 24940.26328125,
           "timepoint": 44.400001525878906,
           "trajectory": "I_sol",
           "upper": 67505.51601562499
          },
          {
           "lower": 24926.20341796875,
           "timepoint": 44.5,
           "trajectory": "I_sol",
           "upper": 67700.498828125
          },
          {
           "lower": 24912.14169921875,
           "timepoint": 44.599998474121094,
           "trajectory": "I_sol",
           "upper": 67895.995703125
          },
          {
           "lower": 24898.08193359375,
           "timepoint": 44.69999694824219,
           "trajectory": "I_sol",
           "upper": 68092.00078125
          },
          {
           "lower": 24884.02021484375,
           "timepoint": 44.79999923706055,
           "trajectory": "I_sol",
           "upper": 68288.5359375
          },
          {
           "lower": 24870.0310546875,
           "timepoint": 44.900001525878906,
           "trajectory": "I_sol",
           "upper": 68485.576953125
          },
          {
           "lower": 24855.982421875,
           "timepoint": 45,
           "trajectory": "I_sol",
           "upper": 68683.135546875
          },
          {
           "lower": 24841.9375,
           "timepoint": 45.099998474121094,
           "trajectory": "I_sol",
           "upper": 68881.21601562499
          },
          {
           "lower": 24827.89072265625,
           "timepoint": 45.19999694824219,
           "trajectory": "I_sol",
           "upper": 69079.80468749999
          },
          {
           "lower": 24813.84775390625,
           "timepoint": 45.29999923706055,
           "trajectory": "I_sol",
           "upper": 69278.916796875
          },
          {
           "lower": 24799.8029296875,
           "timepoint": 45.400001525878906,
           "trajectory": "I_sol",
           "upper": 69478.55898437499
          },
          {
           "lower": 24785.76015625,
           "timepoint": 45.5,
           "trajectory": "I_sol",
           "upper": 69678.701953125
          },
          {
           "lower": 24771.72080078125,
           "timepoint": 45.599998474121094,
           "trajectory": "I_sol",
           "upper": 69879.37539062499
          },
          {
           "lower": 24757.6814453125,
           "timepoint": 45.69999694824219,
           "trajectory": "I_sol",
           "upper": 70080.56367187499
          },
          {
           "lower": 24743.645703125,
           "timepoint": 45.79999923706055,
           "trajectory": "I_sol",
           "upper": 70282.29140624999
          },
          {
           "lower": 24729.608203125,
           "timepoint": 45.900001525878906,
           "trajectory": "I_sol",
           "upper": 70484.541796875
          },
          {
           "lower": 24715.5744140625,
           "timepoint": 46,
           "trajectory": "I_sol",
           "upper": 70687.30781249999
          },
          {
           "lower": 24701.542578125,
           "timepoint": 46.099998474121094,
           "trajectory": "I_sol",
           "upper": 70890.58984374999
          },
          {
           "lower": 24687.51064453125,
           "timepoint": 46.20000076293945,
           "trajectory": "I_sol",
           "upper": 71094.433203125
          },
          {
           "lower": 24673.48056640625,
           "timepoint": 46.29999923706055,
           "trajectory": "I_sol",
           "upper": 71298.76992187499
          },
          {
           "lower": 24659.45048828125,
           "timepoint": 46.400001525878906,
           "trajectory": "I_sol",
           "upper": 71503.66796874999
          },
          {
           "lower": 24645.42431640625,
           "timepoint": 46.5,
           "trajectory": "I_sol",
           "upper": 71709.07421874999
          },
          {
           "lower": 24631.39990234375,
           "timepoint": 46.599998474121094,
           "trajectory": "I_sol",
           "upper": 71915.01171874999
          },
          {
           "lower": 24617.3736328125,
           "timepoint": 46.70000076293945,
           "trajectory": "I_sol",
           "upper": 72121.49648437499
          },
          {
           "lower": 24603.35107421875,
           "timepoint": 46.79999923706055,
           "trajectory": "I_sol",
           "upper": 72328.49648437499
          },
          {
           "lower": 24589.3841796875,
           "timepoint": 46.900001525878906,
           "trajectory": "I_sol",
           "upper": 72536.04374999998
          },
          {
           "lower": 24575.37109375,
           "timepoint": 47,
           "trajectory": "I_sol",
           "upper": 72744.12226562499
          },
          {
           "lower": 24561.3615234375,
           "timepoint": 47.099998474121094,
           "trajectory": "I_sol",
           "upper": 72952.71562499998
          },
          {
           "lower": 24547.3501953125,
           "timepoint": 47.20000076293945,
           "trajectory": "I_sol",
           "upper": 73161.87109374999
          },
          {
           "lower": 24533.342578125,
           "timepoint": 47.29999923706055,
           "trajectory": "I_sol",
           "upper": 73371.72851562499
          },
          {
           "lower": 24519.340625,
           "timepoint": 47.400001525878906,
           "trajectory": "I_sol",
           "upper": 73581.98515624998
          },
          {
           "lower": 24505.33818359375,
           "timepoint": 47.5,
           "trajectory": "I_sol",
           "upper": 73792.765234375
          },
          {
           "lower": 24491.33828125,
           "timepoint": 47.599998474121094,
           "trajectory": "I_sol",
           "upper": 74004.09921875
          },
          {
           "lower": 24477.340234375,
           "timepoint": 47.70000076293945,
           "trajectory": "I_sol",
           "upper": 74215.98124999998
          },
          {
           "lower": 24463.344140625,
           "timepoint": 47.79999923706055,
           "trajectory": "I_sol",
           "upper": 74428.401953125
          },
          {
           "lower": 24449.35,
           "timepoint": 47.900001525878906,
           "trajectory": "I_sol",
           "upper": 74641.38476562499
          },
          {
           "lower": 24435.3595703125,
           "timepoint": 48,
           "trajectory": "I_sol",
           "upper": 74854.89960937499
          },
          {
           "lower": 24421.37099609375,
           "timepoint": 48.099998474121094,
           "trajectory": "I_sol",
           "upper": 75070.43867187499
          },
          {
           "lower": 24407.384375,
           "timepoint": 48.20000076293945,
           "trajectory": "I_sol",
           "upper": 75293.32343749999
          },
          {
           "lower": 24393.4013671875,
           "timepoint": 48.29999923706055,
           "trajectory": "I_sol",
           "upper": 75516.77773437499
          },
          {
           "lower": 24379.42041015625,
           "timepoint": 48.400001525878906,
           "trajectory": "I_sol",
           "upper": 75740.82421874999
          },
          {
           "lower": 24365.44130859375,
           "timepoint": 48.5,
           "trajectory": "I_sol",
           "upper": 75965.62539062499
          },
          {
           "lower": 24351.466015625,
           "timepoint": 48.599998474121094,
           "trajectory": "I_sol",
           "upper": 76190.862890625
          },
          {
           "lower": 24337.49267578125,
           "timepoint": 48.70000076293945,
           "trajectory": "I_sol",
           "upper": 76416.70781249998
          },
          {
           "lower": 24323.523046875,
           "timepoint": 48.79999923706055,
           "trajectory": "I_sol",
           "upper": 76643.12226562499
          },
          {
           "lower": 24309.55341796875,
           "timepoint": 48.900001525878906,
           "trajectory": "I_sol",
           "upper": 76870.144140625
          },
          {
           "lower": 24295.5505859375,
           "timepoint": 49,
           "trajectory": "I_sol",
           "upper": 77097.75039062499
          },
          {
           "lower": 24281.58310546875,
           "timepoint": 49.099998474121094,
           "trajectory": "I_sol",
           "upper": 77325.94999999998
          },
          {
           "lower": 24267.6173828125,
           "timepoint": 49.20000076293945,
           "trajectory": "I_sol",
           "upper": 77554.76367187499
          },
          {
           "lower": 24253.65546875,
           "timepoint": 49.29999923706055,
           "trajectory": "I_sol",
           "upper": 77784.16289062498
          },
          {
           "lower": 24239.69365234375,
           "timepoint": 49.400001525878906,
           "trajectory": "I_sol",
           "upper": 78014.15429687499
          },
          {
           "lower": 24225.7337890625,
           "timepoint": 49.5,
           "trajectory": "I_sol",
           "upper": 78244.74453124999
          },
          {
           "lower": 24211.77578125,
           "timepoint": 49.599998474121094,
           "trajectory": "I_sol",
           "upper": 78475.93554687499
          },
          {
           "lower": 24197.82138671875,
           "timepoint": 49.70000076293945,
           "trajectory": "I_sol",
           "upper": 78707.726171875
          },
          {
           "lower": 24183.8669921875,
           "timepoint": 49.79999923706055,
           "trajectory": "I_sol",
           "upper": 78940.132421875
          },
          {
           "lower": 24169.92001953125,
           "timepoint": 49.900001525878906,
           "trajectory": "I_sol",
           "upper": 79173.13906249999
          },
          {
           "lower": 24157.10693359375,
           "timepoint": 50,
           "trajectory": "I_sol",
           "upper": 79406.73828124999
          },
          {
           "lower": 24145.34873046875,
           "timepoint": 50.099998474121094,
           "trajectory": "I_sol",
           "upper": 79640.94570312499
          },
          {
           "lower": 24133.590625,
           "timepoint": 50.20000076293945,
           "trajectory": "I_sol",
           "upper": 79875.76835937498
          },
          {
           "lower": 24121.83447265625,
           "timepoint": 50.29999923706055,
           "trajectory": "I_sol",
           "upper": 80111.18437499998
          },
          {
           "lower": 24110.07861328125,
           "timepoint": 50.400001525878906,
           "trajectory": "I_sol",
           "upper": 80347.20859374998
          },
          {
           "lower": 24098.32470703125,
           "timepoint": 50.5,
           "trajectory": "I_sol",
           "upper": 80583.84804687499
          },
          {
           "lower": 24086.57265625,
           "timepoint": 50.599998474121094,
           "trajectory": "I_sol",
           "upper": 80821.09609374999
          },
          {
           "lower": 24074.82080078125,
           "timepoint": 50.70000076293945,
           "trajectory": "I_sol",
           "upper": 81059.05624999998
          },
          {
           "lower": 24063.07099609375,
           "timepoint": 50.79999923706055,
           "trajectory": "I_sol",
           "upper": 81297.54296874999
          },
          {
           "lower": 24051.325,
           "timepoint": 50.900001525878906,
           "trajectory": "I_sol",
           "upper": 81536.64648437499
          },
          {
           "lower": 24039.57734375,
           "timepoint": 51,
           "trajectory": "I_sol",
           "upper": 81776.35781249999
          },
          {
           "lower": 24027.831640625,
           "timepoint": 51.099998474121094,
           "trajectory": "I_sol",
           "upper": 82016.67734374998
          },
          {
           "lower": 24016.08701171875,
           "timepoint": 51.20000076293945,
           "trajectory": "I_sol",
           "upper": 82257.64335937498
          },
          {
           "lower": 24004.34697265625,
           "timepoint": 51.29999923706055,
           "trajectory": "I_sol",
           "upper": 82499.19570312499
          },
          {
           "lower": 23992.60703125,
           "timepoint": 51.400001525878906,
           "trajectory": "I_sol",
           "upper": 82741.37890624999
          },
          {
           "lower": 23980.86552734375,
           "timepoint": 51.5,
           "trajectory": "I_sol",
           "upper": 82984.18632812498
          },
          {
           "lower": 23969.12958984375,
           "timepoint": 51.599998474121094,
           "trajectory": "I_sol",
           "upper": 83227.59531249998
          },
          {
           "lower": 23957.39375,
           "timepoint": 51.70000076293945,
           "trajectory": "I_sol",
           "upper": 83471.66093749998
          },
          {
           "lower": 23945.6599609375,
           "timepoint": 51.79999923706055,
           "trajectory": "I_sol",
           "upper": 83716.32460937499
          },
          {
           "lower": 23933.8818359375,
           "timepoint": 51.900001525878906,
           "trajectory": "I_sol",
           "upper": 83961.62070312498
          },
          {
           "lower": 23922.14638671875,
           "timepoint": 52,
           "trajectory": "I_sol",
           "upper": 84207.54023437499
          },
          {
           "lower": 23910.41298828125,
           "timepoint": 52.099998474121094,
           "trajectory": "I_sol",
           "upper": 84454.08398437499
          },
          {
           "lower": 23898.67783203125,
           "timepoint": 52.20000076293945,
           "trajectory": "I_sol",
           "upper": 84701.25234374999
          },
          {
           "lower": 23886.9447265625,
           "timepoint": 52.29999923706055,
           "trajectory": "I_sol",
           "upper": 84949.05234374998
          },
          {
           "lower": 23875.2134765625,
           "timepoint": 52.400001525878906,
           "trajectory": "I_sol",
           "upper": 85197.48359374999
          },
          {
           "lower": 23863.48427734375,
           "timepoint": 52.5,
           "trajectory": "I_sol",
           "upper": 85446.54726562499
          },
          {
           "lower": 23851.75517578125,
           "timepoint": 52.599998474121094,
           "trajectory": "I_sol",
           "upper": 85696.22734374998
          },
          {
           "lower": 23840.02822265625,
           "timepoint": 52.70000076293945,
           "trajectory": "I_sol",
           "upper": 85946.54765624998
          },
          {
           "lower": 23828.30126953125,
           "timepoint": 52.79999923706055,
           "trajectory": "I_sol",
           "upper": 86197.48476562499
          },
          {
           "lower": 23816.57626953125,
           "timepoint": 52.900001525878906,
           "trajectory": "I_sol",
           "upper": 86449.19531249999
          },
          {
           "lower": 23804.85322265625,
           "timepoint": 53,
           "trajectory": "I_sol",
           "upper": 86701.42617187499
          },
          {
           "lower": 23793.13046875,
           "timepoint": 53.099998474121094,
           "trajectory": "I_sol",
           "upper": 86954.28867187498
          },
          {
           "lower": 23781.4095703125,
           "timepoint": 53.20000076293945,
           "trajectory": "I_sol",
           "upper": 87207.80742187498
          },
          {
           "lower": 23769.690625,
           "timepoint": 53.29999923706055,
           "trajectory": "I_sol",
           "upper": 87461.94999999998
          },
          {
           "lower": 23757.971875,
           "timepoint": 53.400001525878906,
           "trajectory": "I_sol",
           "upper": 87716.73320312498
          },
          {
           "lower": 23746.25517578125,
           "timepoint": 53.5,
           "trajectory": "I_sol",
           "upper": 87972.15507812498
          },
          {
           "lower": 23734.53935546875,
           "timepoint": 53.599998474121094,
           "trajectory": "I_sol",
           "upper": 88228.21796874999
          },
          {
           "lower": 23722.82490234375,
           "timepoint": 53.70000076293945,
           "trajectory": "I_sol",
           "upper": 88484.92851562498
          },
          {
           "lower": 23711.1123046875,
           "timepoint": 53.79999923706055,
           "trajectory": "I_sol",
           "upper": 88742.27812499998
          },
          {
           "lower": 23699.39990234375,
           "timepoint": 53.900001525878906,
           "trajectory": "I_sol",
           "upper": 89000.27343749999
          },
          {
           "lower": 23687.689453125,
           "timepoint": 54,
           "trajectory": "I_sol",
           "upper": 89258.91914062499
          },
          {
           "lower": 23675.97919921875,
           "timepoint": 54.099998474121094,
           "trajectory": "I_sol",
           "upper": 89518.20546874998
          },
          {
           "lower": 23664.27275390625,
           "timepoint": 54.20000076293945,
           "trajectory": "I_sol",
           "upper": 89778.14726562498
          },
          {
           "lower": 23652.57392578125,
           "timepoint": 54.29999923706055,
           "trajectory": "I_sol",
           "upper": 90038.73671874998
          },
          {
           "lower": 23640.86767578125,
           "timepoint": 54.400001525878906,
           "trajectory": "I_sol",
           "upper": 90299.96757812498
          },
          {
           "lower": 23629.1654296875,
           "timepoint": 54.5,
           "trajectory": "I_sol",
           "upper": 90561.84570312499
          },
          {
           "lower": 23617.46513671875,
           "timepoint": 54.599998474121094,
           "trajectory": "I_sol",
           "upper": 90824.37929687498
          },
          {
           "lower": 23605.766796875,
           "timepoint": 54.70000076293945,
           "trajectory": "I_sol",
           "upper": 91087.56874999998
          },
          {
           "lower": 23594.06669921875,
           "timepoint": 54.79999923706055,
           "trajectory": "I_sol",
           "upper": 91351.40664062498
          },
          {
           "lower": 23582.3705078125,
           "timepoint": 54.900001525878906,
           "trajectory": "I_sol",
           "upper": 91615.89999999998
          },
          {
           "lower": 23570.67451171875,
           "timepoint": 55,
           "trajectory": "I_sol",
           "upper": 91881.04179687498
          },
          {
           "lower": 23558.98232421875,
           "timepoint": 55.099998474121094,
           "trajectory": "I_sol",
           "upper": 92146.84648437498
          },
          {
           "lower": 23547.2865234375,
           "timepoint": 55.20000076293945,
           "trajectory": "I_sol",
           "upper": 92413.30781249999
          },
          {
           "lower": 23535.59638671875,
           "timepoint": 55.29999923706055,
           "trajectory": "I_sol",
           "upper": 92680.42460937498
          },
          {
           "lower": 23523.9064453125,
           "timepoint": 55.400001525878906,
           "trajectory": "I_sol",
           "upper": 92948.20546874998
          },
          {
           "lower": 23512.21669921875,
           "timepoint": 55.5,
           "trajectory": "I_sol",
           "upper": 93216.63437499998
          },
          {
           "lower": 23500.53076171875,
           "timepoint": 55.599998474121094,
           "trajectory": "I_sol",
           "upper": 93485.72695312498
          },
          {
           "lower": 23488.84677734375,
           "timepoint": 55.70000076293945,
           "trajectory": "I_sol",
           "upper": 93755.49101562498
          },
          {
           "lower": 23477.162890625,
           "timepoint": 55.79999923706055,
           "trajectory": "I_sol",
           "upper": 94025.90351562499
          },
          {
           "lower": 23465.47919921875,
           "timepoint": 55.900001525878906,
           "trajectory": "I_sol",
           "upper": 94296.98789062498
          },
          {
           "lower": 23453.79755859375,
           "timepoint": 56,
           "trajectory": "I_sol",
           "upper": 94568.73554687497
          },
          {
           "lower": 23442.11787109375,
           "timepoint": 56.099998474121094,
           "trajectory": "I_sol",
           "upper": 94841.13945312498
          },
          {
           "lower": 23430.44013671875,
           "timepoint": 56.20000076293945,
           "trajectory": "I_sol",
           "upper": 95114.23398437498
          },
          {
           "lower": 23418.764453125,
           "timepoint": 56.29999923706055,
           "trajectory": "I_sol",
           "upper": 95387.97382812497
          },
          {
           "lower": 23407.08896484375,
           "timepoint": 56.400001525878906,
           "trajectory": "I_sol",
           "upper": 95662.39257812499
          },
          {
           "lower": 23395.41572265625,
           "timepoint": 56.5,
           "trajectory": "I_sol",
           "upper": 95937.46835937498
          },
          {
           "lower": 23383.7443359375,
           "timepoint": 56.599998474121094,
           "trajectory": "I_sol",
           "upper": 96213.21562499998
          },
          {
           "lower": 23372.07119140625,
           "timepoint": 56.70000076293945,
           "trajectory": "I_sol",
           "upper": 96498.51874999997
          },
          {
           "lower": 23360.401953125,
           "timepoint": 56.79999923706055,
           "trajectory": "I_sol",
           "upper": 96794.97304687498
          },
          {
           "lower": 23348.734765625,
           "timepoint": 56.900001525878906,
           "trajectory": "I_sol",
           "upper": 97092.19687499998
          },
          {
           "lower": 23337.06767578125,
           "timepoint": 57,
           "trajectory": "I_sol",
           "upper": 97390.21718749998
          },
          {
           "lower": 23325.423046875,
           "timepoint": 57.099998474121094,
           "trajectory": "I_sol",
           "upper": 97689.02187499998
          },
          {
           "lower": 23313.76005859375,
           "timepoint": 57.20000076293945,
           "trajectory": "I_sol",
           "upper": 97988.62421874997
          },
          {
           "lower": 23302.10078125,
           "timepoint": 57.29999923706055,
           "trajectory": "I_sol",
           "upper": 98288.89882812498
          },
          {
           "lower": 23290.441796875,
           "timepoint": 57.400001525878906,
           "trajectory": "I_sol",
           "upper": 98590.06914062498
          },
          {
           "lower": 23278.784765625,
           "timepoint": 57.5,
           "trajectory": "I_sol",
           "upper": 98892.02187499998
          },
          {
           "lower": 23267.13154296875,
           "timepoint": 57.599998474121094,
           "trajectory": "I_sol",
           "upper": 99194.76562499999
          },
          {
           "lower": 23255.478515625,
           "timepoint": 57.70000076293945,
           "trajectory": "I_sol",
           "upper": 99498.30898437498
          },
          {
           "lower": 23243.8275390625,
           "timepoint": 57.79999923706055,
           "trajectory": "I_sol",
           "upper": 99802.64257812499
          },
          {
           "lower": 23232.17666015625,
           "timepoint": 57.900001525878906,
           "trajectory": "I_sol",
           "upper": 100107.78242187497
          },
          {
           "lower": 23220.52783203125,
           "timepoint": 58,
           "trajectory": "I_sol",
           "upper": 100413.71406249997
          },
          {
           "lower": 23208.88466796875,
           "timepoint": 58.099998474121094,
           "trajectory": "I_sol",
           "upper": 100720.42890624997
          },
          {
           "lower": 23197.23798828125,
           "timepoint": 58.20000076293945,
           "trajectory": "I_sol",
           "upper": 101027.97343749998
          },
          {
           "lower": 23185.5951171875,
           "timepoint": 58.29999923706055,
           "trajectory": "I_sol",
           "upper": 101336.30898437498
          },
          {
           "lower": 23173.954296875,
           "timepoint": 58.400001525878906,
           "trajectory": "I_sol",
           "upper": 101645.45820312497
          },
          {
           "lower": 23162.31357421875,
           "timepoint": 58.5,
           "trajectory": "I_sol",
           "upper": 101955.38867187499
          },
          {
           "lower": 23150.6767578125,
           "timepoint": 58.599998474121094,
           "trajectory": "I_sol",
           "upper": 102266.12031249997
          },
          {
           "lower": 23139.0419921875,
           "timepoint": 58.70000076293945,
           "trajectory": "I_sol",
           "upper": 102577.68867187497
          },
          {
           "lower": 23127.4091796875,
           "timepoint": 58.79999923706055,
           "trajectory": "I_sol",
           "upper": 102890.04804687497
          },
          {
           "lower": 23115.774609375,
           "timepoint": 58.900001525878906,
           "trajectory": "I_sol",
           "upper": 103203.22968749997
          },
          {
           "lower": 23104.1439453125,
           "timepoint": 59,
           "trajectory": "I_sol",
           "upper": 103517.18710937498
          },
          {
           "lower": 23092.5171875,
           "timepoint": 59.099998474121094,
           "trajectory": "I_sol",
           "upper": 103831.97421874998
          },
          {
           "lower": 23080.89169921875,
           "timepoint": 59.20000076293945,
           "trajectory": "I_sol",
           "upper": 104147.59804687498
          },
          {
           "lower": 23069.2671875,
           "timepoint": 59.29999923706055,
           "trajectory": "I_sol",
           "upper": 104463.99921874997
          },
          {
           "lower": 23057.64482421875,
           "timepoint": 59.400001525878906,
           "trajectory": "I_sol",
           "upper": 104781.23632812499
          },
          {
           "lower": 23046.02421875,
           "timepoint": 59.5,
           "trajectory": "I_sol",
           "upper": 105099.36992187498
          },
          {
           "lower": 23034.405859375,
           "timepoint": 59.599998474121094,
           "trajectory": "I_sol",
           "upper": 105418.23593749998
          },
          {
           "lower": 23022.789453125,
           "timepoint": 59.70000076293945,
           "trajectory": "I_sol",
           "upper": 105737.92460937498
          },
          {
           "lower": 23011.175,
           "timepoint": 59.79999923706055,
           "trajectory": "I_sol",
           "upper": 106058.42734374998
          },
          {
           "lower": 22999.5607421875,
           "timepoint": 59.900001525878906,
           "trajectory": "I_sol",
           "upper": 106379.75976562499
          },
          {
           "lower": 22987.9521484375,
           "timepoint": 60,
           "trajectory": "I_sol",
           "upper": 106701.89921874998
          },
          {
           "lower": 22976.29560546875,
           "timepoint": 60.099998474121094,
           "trajectory": "I_sol",
           "upper": 107024.87539062498
          },
          {
           "lower": 22964.685546875,
           "timepoint": 60.20000076293945,
           "trajectory": "I_sol",
           "upper": 107348.67421874998
          },
          {
           "lower": 22953.07568359375,
           "timepoint": 60.29999923706055,
           "trajectory": "I_sol",
           "upper": 107673.29531249998
          },
          {
           "lower": 22941.46962890625,
           "timepoint": 60.400001525878906,
           "trajectory": "I_sol",
           "upper": 107998.74648437498
          },
          {
           "lower": 22929.8619140625,
           "timepoint": 60.5,
           "trajectory": "I_sol",
           "upper": 108325.01210937498
          },
          {
           "lower": 22918.258203125,
           "timepoint": 60.599998474121094,
           "trajectory": "I_sol",
           "upper": 108652.11484374998
          },
          {
           "lower": 22906.6544921875,
           "timepoint": 60.70000076293945,
           "trajectory": "I_sol",
           "upper": 108980.06289062498
          },
          {
           "lower": 22895.05654296875,
           "timepoint": 60.79999923706055,
           "trajectory": "I_sol",
           "upper": 109308.81054687497
          },
          {
           "lower": 22883.45869140625,
           "timepoint": 60.900001525878906,
           "trajectory": "I_sol",
           "upper": 109638.41835937498
          },
          {
           "lower": 22871.86123046875,
           "timepoint": 61,
           "trajectory": "I_sol",
           "upper": 109968.85507812498
          },
          {
           "lower": 22860.26748046875,
           "timepoint": 61.099998474121094,
           "trajectory": "I_sol",
           "upper": 110300.11484374998
          },
          {
           "lower": 22848.67578125,
           "timepoint": 61.20000076293945,
           "trajectory": "I_sol",
           "upper": 110632.22031249998
          },
          {
           "lower": 22837.08232421875,
           "timepoint": 61.29999923706055,
           "trajectory": "I_sol",
           "upper": 110965.16210937497
          },
          {
           "lower": 22825.4947265625,
           "timepoint": 61.400001525878906,
           "trajectory": "I_sol",
           "upper": 111298.94296874998
          },
          {
           "lower": 22813.9091796875,
           "timepoint": 61.5,
           "trajectory": "I_sol",
           "upper": 111633.56054687497
          },
          {
           "lower": 22802.3236328125,
           "timepoint": 61.599998474121094,
           "trajectory": "I_sol",
           "upper": 111969.00117187497
          },
          {
           "lower": 22790.73828125,
           "timepoint": 61.70000076293945,
           "trajectory": "I_sol",
           "upper": 112305.31718749998
          },
          {
           "lower": 22779.15693359375,
           "timepoint": 61.79999923706055,
           "trajectory": "I_sol",
           "upper": 112642.31445312497
          },
          {
           "lower": 22767.57939453125,
           "timepoint": 61.900001525878906,
           "trajectory": "I_sol",
           "upper": 112980.28359374998
          },
          {
           "lower": 22756.00205078125,
           "timepoint": 62,
           "trajectory": "I_sol",
           "upper": 113319.07578124998
          }
         ]
        },
        {
         "name": "traces",
         "transform": [
          {
           "expr": "isValid(datum.value)",
           "type": "filter"
          }
         ],
         "values": []
        },
        {
         "name": "points",
         "values": [
          {
           "sample_id": 0,
           "timepoint": 0,
           "trajectory": "I_data",
           "value": 0
          },
          {
           "sample_id": 0,
           "timepoint": 1,
           "trajectory": "I_data",
           "value": 0
          },
          {
           "sample_id": 0,
           "timepoint": 2,
           "trajectory": "I_data",
           "value": 1
          },
          {
           "sample_id": 0,
           "timepoint": 3,
           "trajectory": "I_data",
           "value": 10
          },
          {
           "sample_id": 0,
           "timepoint": 4,
           "trajectory": "I_data",
           "value": 21
          },
          {
           "sample_id": 0,
           "timepoint": 5,
           "trajectory": "I_data",
           "value": 24
          },
          {
           "sample_id": 0,
           "timepoint": 6,
           "trajectory": "I_data",
           "value": 76
          },
          {
           "sample_id": 0,
           "timepoint": 7,
           "trajectory": "I_data",
           "value": 104
          },
          {
           "sample_id": 0,
           "timepoint": 8,
           "trajectory": "I_data",
           "value": 128
          },
          {
           "sample_id": 0,
           "timepoint": 9,
           "trajectory": "I_data",
           "value": 131
          },
          {
           "sample_id": 0,
           "timepoint": 10,
           "trajectory": "I_data",
           "value": 192
          },
          {
           "sample_id": 0,
           "timepoint": 11,
           "trajectory": "I_data",
           "value": 220
          },
          {
           "sample_id": 0,
           "timepoint": 12,
           "trajectory": "I_data",
           "value": 274
          },
          {
           "sample_id": 0,
           "timepoint": 13,
           "trajectory": "I_data",
           "value": 394
          },
          {
           "sample_id": 0,
           "timepoint": 14,
           "trajectory": "I_data",
           "value": 481
          },
          {
           "sample_id": 0,
           "timepoint": 15,
           "trajectory": "I_data",
           "value": 745
          },
          {
           "sample_id": 0,
           "timepoint": 16,
           "trajectory": "I_data",
           "value": 1111
          },
          {
           "sample_id": 0,
           "timepoint": 17,
           "trajectory": "I_data",
           "value": 2128
          },
          {
           "sample_id": 0,
           "timepoint": 18,
           "trajectory": "I_data",
           "value": 3671
          },
          {
           "sample_id": 0,
           "timepoint": 19,
           "trajectory": "I_data",
           "value": 6578
          },
          {
           "sample_id": 0,
           "timepoint": 20,
           "trajectory": "I_data",
           "value": 9449
          },
          {
           "sample_id": 0,
           "timepoint": 21,
           "trajectory": "I_data",
           "value": 13761
          },
          {
           "sample_id": 0,
           "timepoint": 22,
           "trajectory": "I_data",
           "value": 18270
          },
          {
           "sample_id": 0,
           "timepoint": 23,
           "trajectory": "I_data",
           "value": 21478
          },
          {
           "sample_id": 0,
           "timepoint": 24,
           "trajectory": "I_data",
           "value": 23630
          },
          {
           "sample_id": 0,
           "timepoint": 25,
           "trajectory": "I_data",
           "value": 26987
          },
          {
           "sample_id": 0,
           "timepoint": 26,
           "trajectory": "I_data",
           "value": 29533
          },
          {
           "sample_id": 0,
           "timepoint": 27,
           "trajectory": "I_data",
           "value": 31623
          },
          {
           "sample_id": 0,
           "timepoint": 28,
           "trajectory": "I_data",
           "value": 33967
          },
          {
           "sample_id": 0,
           "timepoint": 29,
           "trajectory": "I_data",
           "value": 35822
          },
          {
           "sample_id": 0,
           "timepoint": 30,
           "trajectory": "I_data",
           "value": 38456
          },
          {
           "sample_id": 0,
           "timepoint": 31,
           "trajectory": "I_data",
           "value": 45676
          },
          {
           "sample_id": 0,
           "timepoint": 32,
           "trajectory": "I_data",
           "value": 48380
          },
          {
           "sample_id": 0,
           "timepoint": 33,
           "trajectory": "I_data",
           "value": 51807
          },
          {
           "sample_id": 0,
           "timepoint": 34,
           "trajectory": "I_data",
           "value": 55042
          },
          {
           "sample_id": 0,
           "timepoint": 35,
           "trajectory": "I_data",
           "value": 56847
          },
          {
           "sample_id": 0,
           "timepoint": 36,
           "trajectory": "I_data",
           "value": 52184
          },
          {
           "sample_id": 0,
           "timepoint": 37,
           "trajectory": "I_data",
           "value": 49194
          },
          {
           "sample_id": 0,
           "timepoint": 38,
           "trajectory": "I_data",
           "value": 48730
          },
          {
           "sample_id": 0,
           "timepoint": 39,
           "trajectory": "I_data",
           "value": 50551
          },
          {
           "sample_id": 0,
           "timepoint": 40,
           "trajectory": "I_data",
           "value": 51029
          },
          {
           "sample_id": 0,
           "timepoint": 41,
           "trajectory": "I_data",
           "value": 49701
          },
          {
           "sample_id": 0,
           "timepoint": 42,
           "trajectory": "I_data",
           "value": 50661
          },
          {
           "sample_id": 0,
           "timepoint": 43,
           "trajectory": "I_data",
           "value": 48303
          },
          {
           "sample_id": 0,
           "timepoint": 44,
           "trajectory": "I_data",
           "value": 43703
          },
          {
           "sample_id": 0,
           "timepoint": 45,
           "trajectory": "I_data",
           "value": 38888
          },
          {
           "sample_id": 0,
           "timepoint": 46,
           "trajectory": "I_data",
           "value": 38244
          },
          {
           "sample_id": 0,
           "timepoint": 47,
           "trajectory": "I_data",
           "value": 36857
          },
          {
           "sample_id": 0,
           "timepoint": 48,
           "trajectory": "I_data",
           "value": 35881
          },
          {
           "sample_id": 0,
           "timepoint": 49,
           "trajectory": "I_data",
           "value": 35054
          },
          {
           "sample_id": 0,
           "timepoint": 50,
           "trajectory": "I_data",
           "value": 34782
          },
          {
           "sample_id": 0,
           "timepoint": 51,
           "trajectory": "I_data",
           "value": 31526
          },
          {
           "sample_id": 0,
           "timepoint": 52,
           "trajectory": "I_data",
           "value": 28799
          },
          {
           "sample_id": 0,
           "timepoint": 53,
           "trajectory": "I_data",
           "value": 27419
          },
          {
           "sample_id": 0,
           "timepoint": 54,
           "trajectory": "I_data",
           "value": 27443
          },
          {
           "sample_id": 0,
           "timepoint": 55,
           "trajectory": "I_data",
           "value": 30499
          },
          {
           "sample_id": 0,
           "timepoint": 56,
           "trajectory": "I_data",
           "value": 31543
          },
          {
           "sample_id": 0,
           "timepoint": 57,
           "trajectory": "I_data",
           "value": 31597
          },
          {
           "sample_id": 0,
           "timepoint": 58,
           "trajectory": "I_data",
           "value": 29008
          },
          {
           "sample_id": 0,
           "timepoint": 59,
           "trajectory": "I_data",
           "value": 25476
          },
          {
           "sample_id": 0,
           "timepoint": 60,
           "trajectory": "I_data",
           "value": 20411
          },
          {
           "sample_id": 0,
           "timepoint": 61,
           "trajectory": "I_data",
           "value": 19224
          },
          {
           "sample_id": 0,
           "timepoint": 40,
           "trajectory": "H_data",
           "value": 0
          },
          {
           "sample_id": 0,
           "timepoint": 41,
           "trajectory": "H_data",
           "value": 0
          },
          {
           "sample_id": 0,
           "timepoint": 47,
           "trajectory": "H_data",
           "value": 0
          },
          {
           "sample_id": 0,
           "timepoint": 48,
           "trajectory": "H_data",
           "value": 1
          },
          {
           "sample_id": 0,
           "timepoint": 54,
           "trajectory": "H_data",
           "value": 0
          },
          {
           "sample_id": 0,
           "timepoint": 55,
           "trajectory": "H_data",
           "value": 0
          },
          {
           "sample_id": 0,
           "timepoint": 56,
           "trajectory": "H_data",
           "value": 1
          },
          {
           "sample_id": 0,
           "timepoint": 57,
           "trajectory": "H_data",
           "value": 0
          },
          {
           "sample_id": 0,
           "timepoint": 58,
           "trajectory": "H_data",
           "value": 0
          },
          {
           "sample_id": 0,
           "timepoint": 59,
           "trajectory": "H_data",
           "value": 0
          },
          {
           "sample_id": 0,
           "timepoint": 60,
           "trajectory": "H_data",
           "value": 0
          },
          {
           "sample_id": 0,
           "timepoint": 61,
           "trajectory": "H_data",
           "value": 0
          },
          {
           "sample_id": 0,
           "timepoint": 0,
           "trajectory": "D_data",
           "value": 0
          },
          {
           "sample_id": 0,
           "timepoint": 1,
           "trajectory": "D_data",
           "value": 0
          },
          {
           "sample_id": 0,
           "timepoint": 2,
           "trajectory": "D_data",
           "value": 0
          },
          {
           "sample_id": 0,
           "timepoint": 3,
           "trajectory": "D_data",
           "value": 0
          },
          {
           "sample_id": 0,
           "timepoint": 4,
           "trajectory": "D_data",
           "value": 0
          },
          {
           "sample_id": 0,
           "timepoint": 5,
           "trajectory": "D_data",
           "value": 0
          },
          {
           "sample_id": 0,
           "timepoint": 6,
           "trajectory": "D_data",
           "value": 0
          },
          {
           "sample_id": 0,
           "timepoint": 7,
           "trajectory": "D_data",
           "value": 0
          },
          {
           "sample_id": 0,
           "timepoint": 8,
           "trajectory": "D_data",
           "value": 0
          },
          {
           "sample_id": 0,
           "timepoint": 9,
           "trajectory": "D_data",
           "value": 0
          },
          {
           "sample_id": 0,
           "timepoint": 10,
           "trajectory": "D_data",
           "value": 1
          },
          {
           "sample_id": 0,
           "timepoint": 11,
           "trajectory": "D_data",
           "value": 1
          },
          {
           "sample_id": 0,
           "timepoint": 12,
           "trajectory": "D_data",
           "value": 1
          },
          {
           "sample_id": 0,
           "timepoint": 13,
           "trajectory": "D_data",
           "value": 4
          },
          {
           "sample_id": 0,
           "timepoint": 14,
           "trajectory": "D_data",
           "value": 9
          },
          {
           "sample_id": 0,
           "timepoint": 15,
           "trajectory": "D_data",
           "value": 19
          },
          {
           "sample_id": 0,
           "timepoint": 16,
           "trajectory": "D_data",
           "value": 30
          },
          {
           "sample_id": 0,
           "timepoint": 17,
           "trajectory": "D_data",
           "value": 51
          },
          {
           "sample_id": 0,
           "timepoint": 18,
           "trajectory": "D_data",
           "value": 77
          },
          {
           "sample_id": 0,
           "timepoint": 19,
           "trajectory": "D_data",
           "value": 129
          },
          {
           "sample_id": 0,
           "timepoint": 20,
           "trajectory": "D_data",
           "value": 175
          },
          {
           "sample_id": 0,
           "timepoint": 21,
           "trajectory": "D_data",
           "value": 226
          },
          {
           "sample_id": 0,
           "timepoint": 22,
           "trajectory": "D_data",
           "value": 315
          },
          {
           "sample_id": 0,
           "timepoint": 23,
           "trajectory": "D_data",
           "value": 427
          },
          {
           "sample_id": 0,
           "timepoint": 24,
           "trajectory": "D_data",
           "value": 565
          },
          {
           "sample_id": 0,
           "timepoint": 25,
           "trajectory": "D_data",
           "value": 759
          },
          {
           "sample_id": 0,
           "timepoint": 26,
           "trajectory": "D_data",
           "value": 984
          },
          {
           "sample_id": 0,
           "timepoint": 27,
           "trajectory": "D_data",
           "value": 1285
          },
          {
           "sample_id": 0,
           "timepoint": 28,
           "trajectory": "D_data",
           "value": 1603
          },
          {
           "sample_id": 0,
           "timepoint": 29,
           "trajectory": "D_data",
           "value": 1930
          },
          {
           "sample_id": 0,
           "timepoint": 30,
           "trajectory": "D_data",
           "value": 2334
          },
          {
           "sample_id": 0,
           "timepoint": 31,
           "trajectory": "D_data",
           "value": 2859
          },
          {
           "sample_id": 0,
           "timepoint": 32,
           "trajectory": "D_data",
           "value": 3420
          },
          {
           "sample_id": 0,
           "timepoint": 33,
           "trajectory": "D_data",
           "value": 3989
          },
          {
           "sample_id": 0,
           "timepoint": 34,
           "trajectory": "D_data",
           "value": 4634
          },
          {
           "sample_id": 0,
           "timepoint": 35,
           "trajectory": "D_data",
           "value": 5384
          },
          {
           "sample_id": 0,
           "timepoint": 36,
           "trajectory": "D_data",
           "value": 6185
          },
          {
           "sample_id": 0,
           "timepoint": 37,
           "trajectory": "D_data",
           "value": 7241
          },
          {
           "sample_id": 0,
           "timepoint": 38,
           "trajectory": "D_data",
           "value": 7985
          },
          {
           "sample_id": 0,
           "timepoint": 39,
           "trajectory": "D_data",
           "value": 8846
          },
          {
           "sample_id": 0,
           "timepoint": 40,
           "trajectory": "D_data",
           "value": 9579
          },
          {
           "sample_id": 0,
           "timepoint": 41,
           "trajectory": "D_data",
           "value": 10345
          },
          {
           "sample_id": 0,
           "timepoint": 42,
           "trajectory": "D_data",
           "value": 11126
          },
          {
           "sample_id": 0,
           "timepoint": 43,
           "trajectory": "D_data",
           "value": 11930
          },
          {
           "sample_id": 0,
           "timepoint": 44,
           "trajectory": "D_data",
           "value": 12669
          },
          {
           "sample_id": 0,
           "timepoint": 45,
           "trajectory": "D_data",
           "value": 13332
          },
          {
           "sample_id": 0,
           "timepoint": 46,
           "trajectory": "D_data",
           "value": 13987
          },
          {
           "sample_id": 0,
           "timepoint": 47,
           "trajectory": "D_data",
           "value": 14371
          },
          {
           "sample_id": 0,
           "timepoint": 48,
           "trajectory": "D_data",
           "value": 14780
          },
          {
           "sample_id": 0,
           "timepoint": 49,
           "trajectory": "D_data",
           "value": 15225
          },
          {
           "sample_id": 0,
           "timepoint": 50,
           "trajectory": "D_data",
           "value": 16116
          },
          {
           "sample_id": 0,
           "timepoint": 51,
           "trajectory": "D_data",
           "value": 16639
          },
          {
           "sample_id": 0,
           "timepoint": 52,
           "trajectory": "D_data",
           "value": 17091
          },
          {
           "sample_id": 0,
           "timepoint": 53,
           "trajectory": "D_data",
           "value": 17647
          },
          {
           "sample_id": 0,
           "timepoint": 54,
           "trajectory": "D_data",
           "value": 18132
          },
          {
           "sample_id": 0,
           "timepoint": 55,
           "trajectory": "D_data",
           "value": 18523
          },
          {
           "sample_id": 0,
           "timepoint": 56,
           "trajectory": "D_data",
           "value": 18882
          },
          {
           "sample_id": 0,
           "timepoint": 57,
           "trajectory": "D_data",
           "value": 19292
          },
          {
           "sample_id": 0,
           "timepoint": 58,
           "trajectory": "D_data",
           "value": 19602
          },
          {
           "sample_id": 0,
           "timepoint": 59,
           "trajectory": "D_data",
           "value": 20000
          },
          {
           "sample_id": 0,
           "timepoint": 60,
           "trajectory": "D_data",
           "value": 20334
          },
          {
           "sample_id": 0,
           "timepoint": 61,
           "trajectory": "D_data",
           "value": 20662
          }
         ]
        },
        {
         "name": "markers",
         "values": []
        },
        {
         "name": "selected",
         "on": [
          {
           "remove": true,
           "trigger": "clear"
          },
          {
           "remove": true,
           "trigger": "!shift"
          },
          {
           "insert": "clicked",
           "trigger": "!shift && clicked"
          },
          {
           "toggle": "clicked",
           "trigger": "shift && clicked"
          }
         ]
        }
       ],
       "height": 300,
       "legends": [
        {
         "encode": {
          "labels": {
           "interactive": true,
           "name": "legendLabel",
           "update": {
            "opacity": [
             {
              "test": "!length(data('selected')) || indata('selected', 'value', datum.value)",
              "value": 1
             },
             {
              "value": 0.25
             }
            ]
           }
          },
          "symbols": {
           "interactive": true,
           "name": "legendSymbol",
           "update": {
            "fill": {
             "value": "transparent"
            },
            "opacity": [
             {
              "test": "!length(data('selected')) || indata('selected', 'value', datum.value)",
              "value": 0.7
             },
             {
              "value": 0.15
             }
            ],
            "size": {
             "value": 64
            },
            "strokeWidth": {
             "value": 2
            }
           }
          }
         },
         "name": "color_legend",
         "stroke": "color"
        }
       ],
       "marks": [
        {
         "from": {
          "facet": {
           "data": "points",
           "groupby": "trajectory",
           "name": "points_split"
          }
         },
         "marks": [
          {
           "encode": {
            "hover": {
             "fillOpacity": {
              "value": 0.9
             }
            },
            "update": {
             "fill": {
              "field": "trajectory",
              "scale": "color"
             },
             "fillOpacity": [
              {
               "test": "!length(data('selected')) || indata('selected', 'value', datum.trajectory)",
               "value": 0.5
              },
              {
               "value": 0.15
              }
             ],
             "size": {
              "value": 10
             },
             "stroke": {
              "field": "trajectory",
              "scale": "color"
             },
             "strokeOpacity": [
              {
               "test": "!length(data('selected')) || indata('selected', 'value', datum.trajectory)",
               "value": 0.75
              },
              {
               "value": 0.15
              }
             ],
             "strokeWidth": {
              "value": 2
             },
             "tooltip": {
              "field": "value"
             },
             "x": {
              "field": "timepoint",
              "scale": "xscale"
             },
             "y": {
              "field": "value",
              "scale": "yscale"
             }
            }
           },
           "from": {
            "data": "points_split"
           },
           "name": "_points_symbol",
           "type": "symbol",
           "zindex": 3
          },
          {
           "encode": {
            "hover": {
             "fillOpacity": {
              "value": 0.9
             }
            },
            "update": {
             "interpolate": {
              "value": "linear"
             },
             "stroke": {
              "field": "trajectory",
              "scale": "color"
             },
             "strokeOpacity": [
              {
               "test": "!length(data('selected')) || indata('selected', 'value', datum.trajectory)",
               "value": 0.3
              },
              {
               "value": 0.1
              }
             ],
             "strokeWidth": {
              "value": 2
             },
             "x": {
              "field": "timepoint",
              "scale": "xscale"
             },
             "y": {
              "field": "value",
              "scale": "yscale"
             }
            }
           },
           "from": {
            "data": "points_split"
           },
           "name": "_points_line",
           "type": "line",
           "zindex": 3
          }
         ],
         "name": "_points",
         "type": "group",
         "zindex": 3
        },
        {
         "from": {
          "facet": {
           "data": "traces",
           "groupby": "trajectory",
           "name": "traces_split"
          }
         },
         "marks": [
          {
           "encode": {
            "hover": {
             "fillOpacity": {
              "value": 0.9
             }
            },
            "update": {
             "interpolate": {
              "value": "linear"
             },
             "stroke": {
              "field": "trajectory",
              "scale": "color"
             },
             "strokeOpacity": [
              {
               "test": "!length(data('selected')) || indata('selected', 'value', datum.trajectory)",
               "value": 0.75
              },
              {
               "value": 0.15
              }
             ],
             "strokeWidth": {
              "value": 2
             },
             "x": {
              "field": "timepoint",
              "scale": "xscale"
             },
             "y": {
              "field": "value",
              "scale": "yscale"
             }
            }
           },
           "from": {
            "data": "traces_split"
           },
           "name": "_traces_lines",
           "type": "line"
          }
         ],
         "name": "_traces",
         "type": "group",
         "zindex": 2
        },
        {
         "from": {
          "facet": {
           "data": "distributions",
           "groupby": "trajectory",
           "name": "trajectory_split"
          }
         },
         "marks": [
          {
           "encode": {
            "hover": {
             "fillOpacity": {
              "value": 0.9
             }
            },
            "update": {
             "fill": {
              "field": "trajectory",
              "scale": "color"
             },
             "fillOpacity": [
              {
               "test": "!length(data('selected')) || indata('selected', 'value', datum.trajectory)",
               "value": 0.5
              },
              {
               "value": 0.15
              }
             ],
             "interpolate": {
              "value": "linear"
             },
             "stroke": {
              "field": "trajectory",
              "scale": "color"
             },
             "strokeOpacity": [
              {
               "test": "!length(data('selected')) || indata('selected', 'value', datum.trajectory)",
               "value": 0.75
              },
              {
               "value": 0.15
              }
             ],
             "strokeWidth": {
              "value": 2
             },
             "x": {
              "field": "timepoint",
              "scale": "xscale"
             },
             "y": {
              "field": "upper",
              "scale": "yscale"
             },
             "y2": {
              "field": "lower",
              "scale": "yscale"
             }
            }
           },
           "from": {
            "data": "trajectory_split"
           },
           "type": "area"
          }
         ],
         "name": "_distributions",
         "type": "group",
         "zindex": 1
        },
        {
         "marks": [
          {
           "encode": {
            "enter": {
             "stroke": {
              "value": "lightgray"
             }
            },
            "update": {
             "opacity": {
              "value": 1
             },
             "x": {
              "field": "timepoint",
              "scale": "xscale"
             },
             "y": {
              "signal": "height"
             },
             "y2": {
              "value": 0
             }
            }
           },
           "from": {
            "data": "markers"
           },
           "name": "_marker text",
           "type": "rule"
          },
          {
           "encode": {
            "enter": {
             "fontSize": {
              "value": 8
             },
             "text": {
              "field": "datum.label"
             },
             "y": {
              "value": 0
             }
            }
           },
           "from": {
            "data": "_marker text"
           },
           "name": "_marker flags",
           "transform": [
            {
             "as": [
              "x",
              "_y",
              "opacity",
              "align",
              "baseline"
             ],
             "lineAnchor": "start",
             "offset": [
              1
             ],
             "size": {
              "signal": "[width, height]"
             },
             "type": "label"
            }
           ],
           "type": "text"
          }
         ],
         "name": "_markers",
         "type": "group"
        }
       ],
       "padding": 5,
       "scales": [
        {
         "domain": {
          "fields": [
           {
            "data": "distributions",
            "field": "timepoint"
           },
           {
            "data": "traces",
            "field": "timepoint"
           },
           {
            "data": "points",
            "field": "timepoint"
           },
           {
            "data": "markers",
            "field": "timepoint"
           }
          ]
         },
         "name": "xscale",
         "range": "width",
         "type": "linear",
         "zero": false
        },
        {
         "domain": {
          "fields": [
           {
            "data": "distributions",
            "field": "lower"
           },
           {
            "data": "distributions",
            "field": "upper"
           },
           {
            "data": "traces",
            "field": "value"
           },
           {
            "data": "points",
            "field": "value"
           }
          ]
         },
         "name": "yscale",
         "nice": true,
         "range": "height",
         "type": "linear",
         "zero": true
        },
        {
         "domain": {
          "fields": [
           {
            "data": "distributions",
            "field": "trajectory"
           },
           {
            "data": "traces",
            "field": "trajectory"
           },
           {
            "data": "points",
            "field": "trajectory"
           }
          ]
         },
         "name": "color",
         "range": "category",
         "type": "ordinal"
        }
       ],
       "signals": [
        {
         "name": "clear",
         "on": [
          {
           "events": "mouseup[!event.item]",
           "force": true,
           "update": "true"
          }
         ],
         "value": true
        },
        {
         "name": "shift",
         "on": [
          {
           "events": "@legendSymbol:click, @legendLabel:click",
           "force": true,
           "update": "event.shiftKey"
          }
         ],
         "value": false
        },
        {
         "name": "clicked",
         "on": [
          {
           "events": "@legendSymbol:click, @legendLabel:click",
           "force": true,
           "update": "{value: datum.value}"
          }
         ],
         "value": null
        }
       ],
       "width": 500
      }
     },
     "metadata": {},
     "output_type": "display_data"
    }
   ],
   "source": [
    "# Plot results\n",
    "schema = plots.trajectories(pd.DataFrame(result1[\"data\"]), keep=\".*_sol\",\n",
    "                            points=all_data1.reset_index(drop=True).rename(columns={\"I\":\"I_data\", \"H\":\"H_data\", \"D\":\"D_data\"}),\n",
    "                           )\n",
    "schema = plots.pad(schema, 5)\n",
    "plots.ipy_display(schema)"
   ]
  },
  {
   "cell_type": "code",
   "execution_count": 44,
   "id": "d9f8e619-5f80-483d-887d-0b7da07265f0",
   "metadata": {},
   "outputs": [
    {
     "data": {
      "text/html": [
       "<div>\n",
       "<style scoped>\n",
       "    .dataframe tbody tr th:only-of-type {\n",
       "        vertical-align: middle;\n",
       "    }\n",
       "\n",
       "    .dataframe tbody tr th {\n",
       "        vertical-align: top;\n",
       "    }\n",
       "\n",
       "    .dataframe thead th {\n",
       "        text-align: right;\n",
       "    }\n",
       "</style>\n",
       "<table border=\"1\" class=\"dataframe\">\n",
       "  <thead>\n",
       "    <tr style=\"text-align: right;\">\n",
       "      <th></th>\n",
       "      <th>timepoint_id</th>\n",
       "      <th>sample_id</th>\n",
       "      <th>model_0/beta_c_param</th>\n",
       "      <th>model_0/kappa_param</th>\n",
       "      <th>model_0/eta_param</th>\n",
       "      <th>model_0/gamma_param</th>\n",
       "      <th>model_0/mu_param</th>\n",
       "      <th>model_0_weight</th>\n",
       "      <th>model_0/N_param</th>\n",
       "      <th>model_0/beta_s_param</th>\n",
       "      <th>model_0/k_param</th>\n",
       "      <th>model_0/t_0_param</th>\n",
       "      <th>model_0/delta_param</th>\n",
       "      <th>model_0/los_param</th>\n",
       "      <th>I_sol</th>\n",
       "      <th>H_sol</th>\n",
       "      <th>D_sol</th>\n",
       "      <th>timepoint_days</th>\n",
       "    </tr>\n",
       "  </thead>\n",
       "  <tbody>\n",
       "    <tr>\n",
       "      <th>0</th>\n",
       "      <td>0</td>\n",
       "      <td>0</td>\n",
       "      <td>0.273067</td>\n",
       "      <td>0.785705</td>\n",
       "      <td>0.157234</td>\n",
       "      <td>0.178362</td>\n",
       "      <td>0.403497</td>\n",
       "      <td>1.0</td>\n",
       "      <td>19340000.0</td>\n",
       "      <td>1.0</td>\n",
       "      <td>5.0</td>\n",
       "      <td>20.0</td>\n",
       "      <td>0.25</td>\n",
       "      <td>5.0</td>\n",
       "      <td>175.000000</td>\n",
       "      <td>4.907815e-10</td>\n",
       "      <td>1.980295e-21</td>\n",
       "      <td>0.000000</td>\n",
       "    </tr>\n",
       "    <tr>\n",
       "      <th>1</th>\n",
       "      <td>1</td>\n",
       "      <td>0</td>\n",
       "      <td>0.273067</td>\n",
       "      <td>0.785705</td>\n",
       "      <td>0.157234</td>\n",
       "      <td>0.178362</td>\n",
       "      <td>0.403497</td>\n",
       "      <td>1.0</td>\n",
       "      <td>19340000.0</td>\n",
       "      <td>1.0</td>\n",
       "      <td>5.0</td>\n",
       "      <td>20.0</td>\n",
       "      <td>0.25</td>\n",
       "      <td>5.0</td>\n",
       "      <td>179.417984</td>\n",
       "      <td>4.920422e-01</td>\n",
       "      <td>1.983661e-03</td>\n",
       "      <td>0.100000</td>\n",
       "    </tr>\n",
       "    <tr>\n",
       "      <th>2</th>\n",
       "      <td>2</td>\n",
       "      <td>0</td>\n",
       "      <td>0.273067</td>\n",
       "      <td>0.785705</td>\n",
       "      <td>0.157234</td>\n",
       "      <td>0.178362</td>\n",
       "      <td>0.403497</td>\n",
       "      <td>1.0</td>\n",
       "      <td>19340000.0</td>\n",
       "      <td>1.0</td>\n",
       "      <td>5.0</td>\n",
       "      <td>20.0</td>\n",
       "      <td>0.25</td>\n",
       "      <td>5.0</td>\n",
       "      <td>183.917999</td>\n",
       "      <td>9.867216e-01</td>\n",
       "      <td>7.948594e-03</td>\n",
       "      <td>0.200000</td>\n",
       "    </tr>\n",
       "    <tr>\n",
       "      <th>3</th>\n",
       "      <td>3</td>\n",
       "      <td>0</td>\n",
       "      <td>0.273067</td>\n",
       "      <td>0.785705</td>\n",
       "      <td>0.157234</td>\n",
       "      <td>0.178362</td>\n",
       "      <td>0.403497</td>\n",
       "      <td>1.0</td>\n",
       "      <td>19340000.0</td>\n",
       "      <td>1.0</td>\n",
       "      <td>5.0</td>\n",
       "      <td>20.0</td>\n",
       "      <td>0.25</td>\n",
       "      <td>5.0</td>\n",
       "      <td>188.502457</td>\n",
       "      <td>1.484216e+00</td>\n",
       "      <td>1.791680e-02</td>\n",
       "      <td>0.300000</td>\n",
       "    </tr>\n",
       "    <tr>\n",
       "      <th>4</th>\n",
       "      <td>4</td>\n",
       "      <td>0</td>\n",
       "      <td>0.273067</td>\n",
       "      <td>0.785705</td>\n",
       "      <td>0.157234</td>\n",
       "      <td>0.178362</td>\n",
       "      <td>0.403497</td>\n",
       "      <td>1.0</td>\n",
       "      <td>19340000.0</td>\n",
       "      <td>1.0</td>\n",
       "      <td>5.0</td>\n",
       "      <td>20.0</td>\n",
       "      <td>0.25</td>\n",
       "      <td>5.0</td>\n",
       "      <td>193.174774</td>\n",
       "      <td>1.984712e+00</td>\n",
       "      <td>3.191175e-02</td>\n",
       "      <td>0.400000</td>\n",
       "    </tr>\n",
       "    <tr>\n",
       "      <th>...</th>\n",
       "      <td>...</td>\n",
       "      <td>...</td>\n",
       "      <td>...</td>\n",
       "      <td>...</td>\n",
       "      <td>...</td>\n",
       "      <td>...</td>\n",
       "      <td>...</td>\n",
       "      <td>...</td>\n",
       "      <td>...</td>\n",
       "      <td>...</td>\n",
       "      <td>...</td>\n",
       "      <td>...</td>\n",
       "      <td>...</td>\n",
       "      <td>...</td>\n",
       "      <td>...</td>\n",
       "      <td>...</td>\n",
       "      <td>...</td>\n",
       "      <td>...</td>\n",
       "    </tr>\n",
       "    <tr>\n",
       "      <th>62095</th>\n",
       "      <td>616</td>\n",
       "      <td>99</td>\n",
       "      <td>0.250046</td>\n",
       "      <td>0.832738</td>\n",
       "      <td>0.080148</td>\n",
       "      <td>0.180263</td>\n",
       "      <td>0.110205</td>\n",
       "      <td>1.0</td>\n",
       "      <td>19340000.0</td>\n",
       "      <td>1.0</td>\n",
       "      <td>5.0</td>\n",
       "      <td>20.0</td>\n",
       "      <td>0.25</td>\n",
       "      <td>5.0</td>\n",
       "      <td>60842.554688</td>\n",
       "      <td>4.118545e+03</td>\n",
       "      <td>2.711462e+03</td>\n",
       "      <td>61.599998</td>\n",
       "    </tr>\n",
       "    <tr>\n",
       "      <th>62096</th>\n",
       "      <td>617</td>\n",
       "      <td>99</td>\n",
       "      <td>0.250046</td>\n",
       "      <td>0.832738</td>\n",
       "      <td>0.080148</td>\n",
       "      <td>0.180263</td>\n",
       "      <td>0.110205</td>\n",
       "      <td>1.0</td>\n",
       "      <td>19340000.0</td>\n",
       "      <td>1.0</td>\n",
       "      <td>5.0</td>\n",
       "      <td>20.0</td>\n",
       "      <td>0.25</td>\n",
       "      <td>5.0</td>\n",
       "      <td>60922.265625</td>\n",
       "      <td>4.124080e+03</td>\n",
       "      <td>2.720546e+03</td>\n",
       "      <td>61.700001</td>\n",
       "    </tr>\n",
       "    <tr>\n",
       "      <th>62097</th>\n",
       "      <td>618</td>\n",
       "      <td>99</td>\n",
       "      <td>0.250046</td>\n",
       "      <td>0.832738</td>\n",
       "      <td>0.080148</td>\n",
       "      <td>0.180263</td>\n",
       "      <td>0.110205</td>\n",
       "      <td>1.0</td>\n",
       "      <td>19340000.0</td>\n",
       "      <td>1.0</td>\n",
       "      <td>5.0</td>\n",
       "      <td>20.0</td>\n",
       "      <td>0.25</td>\n",
       "      <td>5.0</td>\n",
       "      <td>61002.031250</td>\n",
       "      <td>4.129619e+03</td>\n",
       "      <td>2.729642e+03</td>\n",
       "      <td>61.799999</td>\n",
       "    </tr>\n",
       "    <tr>\n",
       "      <th>62098</th>\n",
       "      <td>619</td>\n",
       "      <td>99</td>\n",
       "      <td>0.250046</td>\n",
       "      <td>0.832738</td>\n",
       "      <td>0.080148</td>\n",
       "      <td>0.180263</td>\n",
       "      <td>0.110205</td>\n",
       "      <td>1.0</td>\n",
       "      <td>19340000.0</td>\n",
       "      <td>1.0</td>\n",
       "      <td>5.0</td>\n",
       "      <td>20.0</td>\n",
       "      <td>0.25</td>\n",
       "      <td>5.0</td>\n",
       "      <td>61081.867188</td>\n",
       "      <td>4.135163e+03</td>\n",
       "      <td>2.738751e+03</td>\n",
       "      <td>61.900002</td>\n",
       "    </tr>\n",
       "    <tr>\n",
       "      <th>62099</th>\n",
       "      <td>620</td>\n",
       "      <td>99</td>\n",
       "      <td>0.250046</td>\n",
       "      <td>0.832738</td>\n",
       "      <td>0.080148</td>\n",
       "      <td>0.180263</td>\n",
       "      <td>0.110205</td>\n",
       "      <td>1.0</td>\n",
       "      <td>19340000.0</td>\n",
       "      <td>1.0</td>\n",
       "      <td>5.0</td>\n",
       "      <td>20.0</td>\n",
       "      <td>0.25</td>\n",
       "      <td>5.0</td>\n",
       "      <td>61161.609375</td>\n",
       "      <td>4.140712e+03</td>\n",
       "      <td>2.747869e+03</td>\n",
       "      <td>62.000000</td>\n",
       "    </tr>\n",
       "  </tbody>\n",
       "</table>\n",
       "<p>62100 rows × 18 columns</p>\n",
       "</div>"
      ],
      "text/plain": [
       "       timepoint_id  sample_id  model_0/beta_c_param  model_0/kappa_param   \n",
       "0                 0          0              0.273067             0.785705  \\\n",
       "1                 1          0              0.273067             0.785705   \n",
       "2                 2          0              0.273067             0.785705   \n",
       "3                 3          0              0.273067             0.785705   \n",
       "4                 4          0              0.273067             0.785705   \n",
       "...             ...        ...                   ...                  ...   \n",
       "62095           616         99              0.250046             0.832738   \n",
       "62096           617         99              0.250046             0.832738   \n",
       "62097           618         99              0.250046             0.832738   \n",
       "62098           619         99              0.250046             0.832738   \n",
       "62099           620         99              0.250046             0.832738   \n",
       "\n",
       "       model_0/eta_param  model_0/gamma_param  model_0/mu_param   \n",
       "0               0.157234             0.178362          0.403497  \\\n",
       "1               0.157234             0.178362          0.403497   \n",
       "2               0.157234             0.178362          0.403497   \n",
       "3               0.157234             0.178362          0.403497   \n",
       "4               0.157234             0.178362          0.403497   \n",
       "...                  ...                  ...               ...   \n",
       "62095           0.080148             0.180263          0.110205   \n",
       "62096           0.080148             0.180263          0.110205   \n",
       "62097           0.080148             0.180263          0.110205   \n",
       "62098           0.080148             0.180263          0.110205   \n",
       "62099           0.080148             0.180263          0.110205   \n",
       "\n",
       "       model_0_weight  model_0/N_param  model_0/beta_s_param  model_0/k_param   \n",
       "0                 1.0       19340000.0                   1.0              5.0  \\\n",
       "1                 1.0       19340000.0                   1.0              5.0   \n",
       "2                 1.0       19340000.0                   1.0              5.0   \n",
       "3                 1.0       19340000.0                   1.0              5.0   \n",
       "4                 1.0       19340000.0                   1.0              5.0   \n",
       "...               ...              ...                   ...              ...   \n",
       "62095             1.0       19340000.0                   1.0              5.0   \n",
       "62096             1.0       19340000.0                   1.0              5.0   \n",
       "62097             1.0       19340000.0                   1.0              5.0   \n",
       "62098             1.0       19340000.0                   1.0              5.0   \n",
       "62099             1.0       19340000.0                   1.0              5.0   \n",
       "\n",
       "       model_0/t_0_param  model_0/delta_param  model_0/los_param   \n",
       "0                   20.0                 0.25                5.0  \\\n",
       "1                   20.0                 0.25                5.0   \n",
       "2                   20.0                 0.25                5.0   \n",
       "3                   20.0                 0.25                5.0   \n",
       "4                   20.0                 0.25                5.0   \n",
       "...                  ...                  ...                ...   \n",
       "62095               20.0                 0.25                5.0   \n",
       "62096               20.0                 0.25                5.0   \n",
       "62097               20.0                 0.25                5.0   \n",
       "62098               20.0                 0.25                5.0   \n",
       "62099               20.0                 0.25                5.0   \n",
       "\n",
       "              I_sol         H_sol         D_sol  timepoint_days  \n",
       "0        175.000000  4.907815e-10  1.980295e-21        0.000000  \n",
       "1        179.417984  4.920422e-01  1.983661e-03        0.100000  \n",
       "2        183.917999  9.867216e-01  7.948594e-03        0.200000  \n",
       "3        188.502457  1.484216e+00  1.791680e-02        0.300000  \n",
       "4        193.174774  1.984712e+00  3.191175e-02        0.400000  \n",
       "...             ...           ...           ...             ...  \n",
       "62095  60842.554688  4.118545e+03  2.711462e+03       61.599998  \n",
       "62096  60922.265625  4.124080e+03  2.720546e+03       61.700001  \n",
       "62097  61002.031250  4.129619e+03  2.729642e+03       61.799999  \n",
       "62098  61081.867188  4.135163e+03  2.738751e+03       61.900002  \n",
       "62099  61161.609375  4.140712e+03  2.747869e+03       62.000000  \n",
       "\n",
       "[62100 rows x 18 columns]"
      ]
     },
     "execution_count": 44,
     "metadata": {},
     "output_type": "execute_result"
    }
   ],
   "source": [
    "result1[\"data\"]"
   ]
  },
  {
   "cell_type": "code",
   "execution_count": 10,
   "id": "6fa25da4-a72d-4789-969a-cfffe3c26ec1",
   "metadata": {},
   "outputs": [
    {
     "name": "stdout",
     "output_type": "stream",
     "text": [
      "iteration 0: loss = 715.3255967199802\n",
      "iteration 25: loss = 675.6244948208332\n",
      "iteration 50: loss = 638.4774799644947\n",
      "iteration 75: loss = 642.9715199768543\n",
      "\n"
     ]
    },
    {
     "data": {
      "application/vnd.vega.v5+json": {
       "$schema": "https://vega.github.io/schema/vega/v5.json",
       "axes": [
        {
         "name": "x_axis",
         "orient": "bottom",
         "scale": "xscale",
         "zindex": 100
        },
        {
         "name": "y_axis",
         "orient": "left",
         "scale": "yscale",
         "zindex": 100
        }
       ],
       "data": [
        {
         "name": "distributions",
         "values": [
          {
           "lower": 8.129795984906678e-23,
           "timepoint": 0,
           "trajectory": "D_sol",
           "upper": 1.869283172802801e-22
          },
          {
           "lower": 0.009195392159745098,
           "timepoint": 1,
           "trajectory": "D_sol",
           "upper": 0.02120939418673515
          },
          {
           "lower": 0.040680609084665774,
           "timepoint": 2,
           "trajectory": "D_sol",
           "upper": 0.09310242943465709
          },
          {
           "lower": 0.10015682652592658,
           "timepoint": 3,
           "trajectory": "D_sol",
           "upper": 0.2255800440907478
          },
          {
           "lower": 0.19400064200162886,
           "timepoint": 4,
           "trajectory": "D_sol",
           "upper": 0.42731460928916926
          },
          {
           "lower": 0.33006933331489563,
           "timepoint": 5,
           "trajectory": "D_sol",
           "upper": 0.707686686515808
          },
          {
           "lower": 0.5183712989091873,
           "timepoint": 6,
           "trajectory": "D_sol",
           "upper": 1.0782492280006408
          },
          {
           "lower": 0.7717493265867233,
           "timepoint": 7,
           "trajectory": "D_sol",
           "upper": 1.5539993762969968
          },
          {
           "lower": 1.0889456152915955,
           "timepoint": 8,
           "trajectory": "D_sol",
           "upper": 2.154620778560638
          },
          {
           "lower": 1.482006949186325,
           "timepoint": 9,
           "trajectory": "D_sol",
           "upper": 2.923536205291748
          },
          {
           "lower": 1.977094930410385,
           "timepoint": 10,
           "trajectory": "D_sol",
           "upper": 3.9036143541336057
          },
          {
           "lower": 2.599220943450928,
           "timepoint": 11,
           "trajectory": "D_sol",
           "upper": 5.14719181060791
          },
          {
           "lower": 3.3803841829299928,
           "timepoint": 12,
           "trajectory": "D_sol",
           "upper": 6.723968291282653
          },
          {
           "lower": 4.361306190490723,
           "timepoint": 13,
           "trajectory": "D_sol",
           "upper": 8.656658697128295
          },
          {
           "lower": 5.62491672039032,
           "timepoint": 14,
           "trajectory": "D_sol",
           "upper": 11.132372665405272
          },
          {
           "lower": 7.147591233253479,
           "timepoint": 15,
           "trajectory": "D_sol",
           "upper": 14.241853809356689
          },
          {
           "lower": 9.18547191619873,
           "timepoint": 16,
           "trajectory": "D_sol",
           "upper": 18.235821533203126
          },
          {
           "lower": 11.75536584854126,
           "timepoint": 17,
           "trajectory": "D_sol",
           "upper": 23.298969554901124
          },
          {
           "lower": 14.987046432495116,
           "timepoint": 18,
           "trajectory": "D_sol",
           "upper": 29.41390085220337
          },
          {
           "lower": 18.906884098052977,
           "timepoint": 19,
           "trajectory": "D_sol",
           "upper": 37.12156295776367
          },
          {
           "lower": 23.37734537124634,
           "timepoint": 20,
           "trajectory": "D_sol",
           "upper": 46.986030197143556
          },
          {
           "lower": 28.991717052459716,
           "timepoint": 21,
           "trajectory": "D_sol",
           "upper": 59.391477394104
          },
          {
           "lower": 36.14739437103272,
           "timepoint": 22,
           "trajectory": "D_sol",
           "upper": 74.68933219909668
          },
          {
           "lower": 44.79570369720459,
           "timepoint": 23,
           "trajectory": "D_sol",
           "upper": 93.29035263061523
          },
          {
           "lower": 55.11869106292725,
           "timepoint": 24,
           "trajectory": "D_sol",
           "upper": 114.9139633178711
          },
          {
           "lower": 67.22755889892578,
           "timepoint": 25,
           "trajectory": "D_sol",
           "upper": 140.1325714111328
          },
          {
           "lower": 81.19499816894532,
           "timepoint": 26,
           "trajectory": "D_sol",
           "upper": 169.04078369140623
          },
          {
           "lower": 97.10609588623046,
           "timepoint": 27,
           "trajectory": "D_sol",
           "upper": 203.0480499267578
          },
          {
           "lower": 114.92138481140137,
           "timepoint": 28,
           "trajectory": "D_sol",
           "upper": 241.27918701171876
          },
          {
           "lower": 134.59198989868165,
           "timepoint": 29,
           "trajectory": "D_sol",
           "upper": 280.6748596191406
          },
          {
           "lower": 156.05046920776368,
           "timepoint": 30,
           "trajectory": "D_sol",
           "upper": 322.0866516113281
          },
          {
           "lower": 179.21392974853515,
           "timepoint": 31,
           "trajectory": "D_sol",
           "upper": 365.79180145263666
          },
          {
           "lower": 201.92758026123047,
           "timepoint": 32,
           "trajectory": "D_sol",
           "upper": 414.63554382324213
          },
          {
           "lower": 225.52768325805664,
           "timepoint": 33,
           "trajectory": "D_sol",
           "upper": 470.17890624999995
          },
          {
           "lower": 253.8099235534668,
           "timepoint": 34,
           "trajectory": "D_sol",
           "upper": 529.1396606445312
          },
          {
           "lower": 281.2460601806641,
           "timepoint": 35,
           "trajectory": "D_sol",
           "upper": 591.0264770507812
          },
          {
           "lower": 307.77574615478517,
           "timepoint": 36,
           "trajectory": "D_sol",
           "upper": 655.9956237792969
          },
          {
           "lower": 334.79797821044923,
           "timepoint": 37,
           "trajectory": "D_sol",
           "upper": 724.6000366210938
          },
          {
           "lower": 362.2222366333008,
           "timepoint": 38,
           "trajectory": "D_sol",
           "upper": 796.5212677001953
          },
          {
           "lower": 389.9698547363281,
           "timepoint": 39,
           "trajectory": "D_sol",
           "upper": 853.2063537597655
          },
          {
           "lower": 417.98401031494143,
           "timepoint": 40,
           "trajectory": "D_sol",
           "upper": 912.2487274169921
          },
          {
           "lower": 446.55190124511716,
           "timepoint": 41,
           "trajectory": "D_sol",
           "upper": 987.574395751953
          },
          {
           "lower": 475.3271743774414,
           "timepoint": 42,
           "trajectory": "D_sol",
           "upper": 1065.385186767578
          },
          {
           "lower": 504.2694610595703,
           "timepoint": 43,
           "trajectory": "D_sol",
           "upper": 1145.652325439453
          },
          {
           "lower": 533.3445037841797,
           "timepoint": 44,
           "trajectory": "D_sol",
           "upper": 1228.3644409179688
          },
          {
           "lower": 562.5238830566407,
           "timepoint": 45,
           "trajectory": "D_sol",
           "upper": 1313.5140563964844
          },
          {
           "lower": 592.0989685058594,
           "timepoint": 46,
           "trajectory": "D_sol",
           "upper": 1390.251483154297
          },
          {
           "lower": 619.8907684326172,
           "timepoint": 47,
           "trajectory": "D_sol",
           "upper": 1490.3149780273438
          },
          {
           "lower": 648.21923828125,
           "timepoint": 48,
           "trajectory": "D_sol",
           "upper": 1586.2981994628906
          },
          {
           "lower": 675.0645812988281,
           "timepoint": 49,
           "trajectory": "D_sol",
           "upper": 1682.944287109375
          },
          {
           "lower": 694.5109222412109,
           "timepoint": 50,
           "trajectory": "D_sol",
           "upper": 1782.30244140625
          },
          {
           "lower": 721.440966796875,
           "timepoint": 51,
           "trajectory": "D_sol",
           "upper": 1884.4114135742186
          },
          {
           "lower": 756.4278686523437,
           "timepoint": 52,
           "trajectory": "D_sol",
           "upper": 1989.315734863281
          },
          {
           "lower": 790.5395904541016,
           "timepoint": 53,
           "trajectory": "D_sol",
           "upper": 2097.0583007812497
          },
          {
           "lower": 818.4375305175781,
           "timepoint": 54,
           "trajectory": "D_sol",
           "upper": 2220.195861816406
          },
          {
           "lower": 846.0798370361329,
           "timepoint": 55,
           "trajectory": "D_sol",
           "upper": 2349.184619140625
          },
          {
           "lower": 862.1521728515626,
           "timepoint": 56,
           "trajectory": "D_sol",
           "upper": 2482.3800659179683
          },
          {
           "lower": 877.5572204589844,
           "timepoint": 57,
           "trajectory": "D_sol",
           "upper": 2619.8402832031247
          },
          {
           "lower": 892.3172241210938,
           "timepoint": 58,
           "trajectory": "D_sol",
           "upper": 2762.1483886718747
          },
          {
           "lower": 906.456463623047,
           "timepoint": 59,
           "trajectory": "D_sol",
           "upper": 2909.4457641601557
          },
          {
           "lower": 100,
           "timepoint": 0,
           "trajectory": "I_sol",
           "upper": 100
          },
          {
           "lower": 158.03851013183595,
           "timepoint": 1,
           "trajectory": "I_sol",
           "upper": 160.25946731567382
          },
          {
           "lower": 215.9977569580078,
           "timepoint": 2,
           "trajectory": "I_sol",
           "upper": 222.2601333618164
          },
          {
           "lower": 281.18033294677736,
           "timepoint": 3,
           "trajectory": "I_sol",
           "upper": 293.5583129882813
          },
          {
           "lower": 358.5369384765625,
           "timepoint": 4,
           "trajectory": "I_sol",
           "upper": 380.46849517822267
          },
          {
           "lower": 452.202458190918,
           "timepoint": 5,
           "trajectory": "I_sol",
           "upper": 489.2892791748047
          },
          {
           "lower": 569.1092681884766,
           "timepoint": 6,
           "trajectory": "I_sol",
           "upper": 627.2043304443359
          },
          {
           "lower": 715.4754791259766,
           "timepoint": 7,
           "trajectory": "I_sol",
           "upper": 802.8915618896484
          },
          {
           "lower": 899.0545959472656,
           "timepoint": 8,
           "trajectory": "I_sol",
           "upper": 1027.1582641601562
          },
          {
           "lower": 1127.9581237792968,
           "timepoint": 9,
           "trajectory": "I_sol",
           "upper": 1313.8645080566407
          },
          {
           "lower": 1414.4902221679688,
           "timepoint": 10,
           "trajectory": "I_sol",
           "upper": 1680.1301147460938
          },
          {
           "lower": 1773.3421875,
           "timepoint": 11,
           "trajectory": "I_sol",
           "upper": 2147.5756713867186
          },
          {
           "lower": 2222.4358520507812,
           "timepoint": 12,
           "trajectory": "I_sol",
           "upper": 2743.953466796875
          },
          {
           "lower": 2783.7064208984375,
           "timepoint": 13,
           "trajectory": "I_sol",
           "upper": 3503.684045410156
          },
          {
           "lower": 3483.6156982421876,
           "timepoint": 14,
           "trajectory": "I_sol",
           "upper": 4469.132543945312
          },
          {
           "lower": 4353.249682617187,
           "timepoint": 15,
           "trajectory": "I_sol",
           "upper": 5691.108862304687
          },
          {
           "lower": 5427.511743164063,
           "timepoint": 16,
           "trajectory": "I_sol",
           "upper": 7227.894702148437
          },
          {
           "lower": 6742.475854492188,
           "timepoint": 17,
           "trajectory": "I_sol",
           "upper": 9141.60361328125
          },
          {
           "lower": 8329.673583984375,
           "timepoint": 18,
           "trajectory": "I_sol",
           "upper": 11488.19931640625
          },
          {
           "lower": 10206.27265625,
           "timepoint": 19,
           "trajectory": "I_sol",
           "upper": 14300.702734375
          },
          {
           "lower": 12361.98720703125,
           "timepoint": 20,
           "trajectory": "I_sol",
           "upper": 17565.56708984375
          },
          {
           "lower": 14747.567578125,
           "timepoint": 21,
           "trajectory": "I_sol",
           "upper": 21216.61357421875
          },
          {
           "lower": 17276.74716796875,
           "timepoint": 22,
           "trajectory": "I_sol",
           "upper": 25090.61767578125
          },
          {
           "lower": 19836.9255859375,
           "timepoint": 23,
           "trajectory": "I_sol",
           "upper": 28985.01162109375
          },
          {
           "lower": 22315.406640625,
           "timepoint": 24,
           "trajectory": "I_sol",
           "upper": 32699.4123046875
          },
          {
           "lower": 24627.8201171875,
           "timepoint": 25,
           "trajectory": "I_sol",
           "upper": 36072.716992187496
          },
          {
           "lower": 26728.29365234375,
           "timepoint": 26,
           "trajectory": "I_sol",
           "upper": 39112.26171874999
          },
          {
           "lower": 28605.40390625,
           "timepoint": 27,
           "trajectory": "I_sol",
           "upper": 41945.07519531249
          },
          {
           "lower": 30037.173828125,
           "timepoint": 28,
           "trajectory": "I_sol",
           "upper": 44432.74218749999
          },
          {
           "lower": 30370.99345703125,
           "timepoint": 29,
           "trajectory": "I_sol",
           "upper": 46660.409374999996
          },
          {
           "lower": 30170.79970703125,
           "timepoint": 30,
           "trajectory": "I_sol",
           "upper": 49035.7322265625
          },
          {
           "lower": 29979.72783203125,
           "timepoint": 31,
           "trajectory": "I_sol",
           "upper": 51031.802734375
          },
          {
           "lower": 29823.8623046875,
           "timepoint": 32,
           "trajectory": "I_sol",
           "upper": 52998.17265625
          },
          {
           "lower": 29063.53212890625,
           "timepoint": 33,
           "trajectory": "I_sol",
           "upper": 55073.0591796875
          },
          {
           "lower": 27950.01220703125,
           "timepoint": 34,
           "trajectory": "I_sol",
           "upper": 57381.3041015625
          },
          {
           "lower": 26802.77958984375,
           "timepoint": 35,
           "trajectory": "I_sol",
           "upper": 59681.2708984375
          },
          {
           "lower": 25648.37939453125,
           "timepoint": 36,
           "trajectory": "I_sol",
           "upper": 61960.3154296875
          },
          {
           "lower": 24499.88046875,
           "timepoint": 37,
           "trajectory": "I_sol",
           "upper": 64047.7833984375
          },
          {
           "lower": 23371.0244140625,
           "timepoint": 38,
           "trajectory": "I_sol",
           "upper": 65778.048046875
          },
          {
           "lower": 22334.577734375,
           "timepoint": 39,
           "trajectory": "I_sol",
           "upper": 67871.474609375
          },
          {
           "lower": 21702.677734375,
           "timepoint": 40,
           "trajectory": "I_sol",
           "upper": 70216.90664062499
          },
          {
           "lower": 21251.7787109375,
           "timepoint": 41,
           "trajectory": "I_sol",
           "upper": 72630.112109375
          },
          {
           "lower": 20805.66875,
           "timepoint": 42,
           "trajectory": "I_sol",
           "upper": 75115.30859375
          },
          {
           "lower": 20365.8240234375,
           "timepoint": 43,
           "trajectory": "I_sol",
           "upper": 77676.215625
          },
          {
           "lower": 19933.201171875,
           "timepoint": 44,
           "trajectory": "I_sol",
           "upper": 80315.7984375
          },
          {
           "lower": 19508.419335937502,
           "timepoint": 45,
           "trajectory": "I_sol",
           "upper": 83036.955859375
          },
          {
           "lower": 18862.96357421875,
           "timepoint": 46,
           "trajectory": "I_sol",
           "upper": 85842.30468749999
          },
          {
           "lower": 18107.65244140625,
           "timepoint": 47,
           "trajectory": "I_sol",
           "upper": 88734.38124999999
          },
          {
           "lower": 17381.3630859375,
           "timepoint": 48,
           "trajectory": "I_sol",
           "upper": 91940.046484375
          },
          {
           "lower": 16683.289697265627,
           "timepoint": 49,
           "trajectory": "I_sol",
           "upper": 95663.788671875
          },
          {
           "lower": 16012.621289062501,
           "timepoint": 50,
           "trajectory": "I_sol",
           "upper": 99528.78046874999
          },
          {
           "lower": 15368.411669921876,
           "timepoint": 51,
           "trajectory": "I_sol",
           "upper": 103539.51289062499
          },
          {
           "lower": 14749.7861328125,
           "timepoint": 52,
           "trajectory": "I_sol",
           "upper": 107700.787890625
          },
          {
           "lower": 14155.80458984375,
           "timepoint": 53,
           "trajectory": "I_sol",
           "upper": 112017.36875
          },
          {
           "lower": 13585.550634765625,
           "timepoint": 54,
           "trajectory": "I_sol",
           "upper": 116493.978515625
          },
          {
           "lower": 13038.130908203126,
           "timepoint": 55,
           "trajectory": "I_sol",
           "upper": 121039.116796875
          },
          {
           "lower": 12512.652001953125,
           "timepoint": 56,
           "trajectory": "I_sol",
           "upper": 125263.69570312499
          },
          {
           "lower": 12008.2728515625,
           "timepoint": 57,
           "trajectory": "I_sol",
           "upper": 129618.938671875
          },
          {
           "lower": 11524.162744140625,
           "timepoint": 58,
           "trajectory": "I_sol",
           "upper": 134107.6171875
          },
          {
           "lower": 11059.522021484376,
           "timepoint": 59,
           "trajectory": "I_sol",
           "upper": 138732.303125
          }
         ]
        },
        {
         "name": "traces",
         "transform": [
          {
           "expr": "isValid(datum.value)",
           "type": "filter"
          }
         ],
         "values": []
        },
        {
         "name": "points",
         "values": [
          {
           "sample_id": 0,
           "timepoint": 0,
           "trajectory": "I_data",
           "value": 1
          },
          {
           "sample_id": 0,
           "timepoint": 1,
           "trajectory": "I_data",
           "value": 10
          },
          {
           "sample_id": 0,
           "timepoint": 2,
           "trajectory": "I_data",
           "value": 21
          },
          {
           "sample_id": 0,
           "timepoint": 3,
           "trajectory": "I_data",
           "value": 24
          },
          {
           "sample_id": 0,
           "timepoint": 4,
           "trajectory": "I_data",
           "value": 76
          },
          {
           "sample_id": 0,
           "timepoint": 5,
           "trajectory": "I_data",
           "value": 104
          },
          {
           "sample_id": 0,
           "timepoint": 6,
           "trajectory": "I_data",
           "value": 128
          },
          {
           "sample_id": 0,
           "timepoint": 7,
           "trajectory": "I_data",
           "value": 131
          },
          {
           "sample_id": 0,
           "timepoint": 8,
           "trajectory": "I_data",
           "value": 192
          },
          {
           "sample_id": 0,
           "timepoint": 9,
           "trajectory": "I_data",
           "value": 220
          },
          {
           "sample_id": 0,
           "timepoint": 10,
           "trajectory": "I_data",
           "value": 274
          },
          {
           "sample_id": 0,
           "timepoint": 11,
           "trajectory": "I_data",
           "value": 394
          },
          {
           "sample_id": 0,
           "timepoint": 12,
           "trajectory": "I_data",
           "value": 481
          },
          {
           "sample_id": 0,
           "timepoint": 13,
           "trajectory": "I_data",
           "value": 745
          },
          {
           "sample_id": 0,
           "timepoint": 14,
           "trajectory": "I_data",
           "value": 1111
          },
          {
           "sample_id": 0,
           "timepoint": 15,
           "trajectory": "I_data",
           "value": 2128
          },
          {
           "sample_id": 0,
           "timepoint": 16,
           "trajectory": "I_data",
           "value": 3671
          },
          {
           "sample_id": 0,
           "timepoint": 17,
           "trajectory": "I_data",
           "value": 6578
          },
          {
           "sample_id": 0,
           "timepoint": 18,
           "trajectory": "I_data",
           "value": 9449
          },
          {
           "sample_id": 0,
           "timepoint": 19,
           "trajectory": "I_data",
           "value": 13761
          },
          {
           "sample_id": 0,
           "timepoint": 20,
           "trajectory": "I_data",
           "value": 18270
          },
          {
           "sample_id": 0,
           "timepoint": 21,
           "trajectory": "I_data",
           "value": 21478
          },
          {
           "sample_id": 0,
           "timepoint": 22,
           "trajectory": "I_data",
           "value": 23630
          },
          {
           "sample_id": 0,
           "timepoint": 23,
           "trajectory": "I_data",
           "value": 26987
          },
          {
           "sample_id": 0,
           "timepoint": 24,
           "trajectory": "I_data",
           "value": 29533
          },
          {
           "sample_id": 0,
           "timepoint": 25,
           "trajectory": "I_data",
           "value": 31623
          },
          {
           "sample_id": 0,
           "timepoint": 26,
           "trajectory": "I_data",
           "value": 33967
          },
          {
           "sample_id": 0,
           "timepoint": 27,
           "trajectory": "I_data",
           "value": 35822
          },
          {
           "sample_id": 0,
           "timepoint": 28,
           "trajectory": "I_data",
           "value": 38456
          },
          {
           "sample_id": 0,
           "timepoint": 29,
           "trajectory": "I_data",
           "value": 45676
          },
          {
           "sample_id": 0,
           "timepoint": 30,
           "trajectory": "I_data",
           "value": 48380
          },
          {
           "sample_id": 0,
           "timepoint": 31,
           "trajectory": "I_data",
           "value": 51807
          },
          {
           "sample_id": 0,
           "timepoint": 32,
           "trajectory": "I_data",
           "value": 55042
          },
          {
           "sample_id": 0,
           "timepoint": 33,
           "trajectory": "I_data",
           "value": 56847
          },
          {
           "sample_id": 0,
           "timepoint": 34,
           "trajectory": "I_data",
           "value": 52184
          },
          {
           "sample_id": 0,
           "timepoint": 35,
           "trajectory": "I_data",
           "value": 49194
          },
          {
           "sample_id": 0,
           "timepoint": 36,
           "trajectory": "I_data",
           "value": 48730
          },
          {
           "sample_id": 0,
           "timepoint": 37,
           "trajectory": "I_data",
           "value": 50551
          },
          {
           "sample_id": 0,
           "timepoint": 38,
           "trajectory": "I_data",
           "value": 51029
          },
          {
           "sample_id": 0,
           "timepoint": 39,
           "trajectory": "I_data",
           "value": 49701
          },
          {
           "sample_id": 0,
           "timepoint": 40,
           "trajectory": "I_data",
           "value": 50661
          },
          {
           "sample_id": 0,
           "timepoint": 41,
           "trajectory": "I_data",
           "value": 48303
          },
          {
           "sample_id": 0,
           "timepoint": 42,
           "trajectory": "I_data",
           "value": 43703
          },
          {
           "sample_id": 0,
           "timepoint": 43,
           "trajectory": "I_data",
           "value": 38888
          },
          {
           "sample_id": 0,
           "timepoint": 44,
           "trajectory": "I_data",
           "value": 38244
          },
          {
           "sample_id": 0,
           "timepoint": 45,
           "trajectory": "I_data",
           "value": 36857
          },
          {
           "sample_id": 0,
           "timepoint": 46,
           "trajectory": "I_data",
           "value": 35881
          },
          {
           "sample_id": 0,
           "timepoint": 47,
           "trajectory": "I_data",
           "value": 35054
          },
          {
           "sample_id": 0,
           "timepoint": 48,
           "trajectory": "I_data",
           "value": 34782
          },
          {
           "sample_id": 0,
           "timepoint": 49,
           "trajectory": "I_data",
           "value": 31526
          },
          {
           "sample_id": 0,
           "timepoint": 50,
           "trajectory": "I_data",
           "value": 28799
          },
          {
           "sample_id": 0,
           "timepoint": 51,
           "trajectory": "I_data",
           "value": 27419
          },
          {
           "sample_id": 0,
           "timepoint": 52,
           "trajectory": "I_data",
           "value": 27443
          },
          {
           "sample_id": 0,
           "timepoint": 53,
           "trajectory": "I_data",
           "value": 30499
          },
          {
           "sample_id": 0,
           "timepoint": 54,
           "trajectory": "I_data",
           "value": 31543
          },
          {
           "sample_id": 0,
           "timepoint": 55,
           "trajectory": "I_data",
           "value": 31597
          },
          {
           "sample_id": 0,
           "timepoint": 56,
           "trajectory": "I_data",
           "value": 29008
          },
          {
           "sample_id": 0,
           "timepoint": 57,
           "trajectory": "I_data",
           "value": 25476
          },
          {
           "sample_id": 0,
           "timepoint": 58,
           "trajectory": "I_data",
           "value": 20411
          },
          {
           "sample_id": 0,
           "timepoint": 59,
           "trajectory": "I_data",
           "value": 19224
          },
          {
           "sample_id": 0,
           "timepoint": 38,
           "trajectory": "H_data",
           "value": 0
          },
          {
           "sample_id": 0,
           "timepoint": 39,
           "trajectory": "H_data",
           "value": 0
          },
          {
           "sample_id": 0,
           "timepoint": 45,
           "trajectory": "H_data",
           "value": 0
          },
          {
           "sample_id": 0,
           "timepoint": 46,
           "trajectory": "H_data",
           "value": 1
          },
          {
           "sample_id": 0,
           "timepoint": 52,
           "trajectory": "H_data",
           "value": 0
          },
          {
           "sample_id": 0,
           "timepoint": 53,
           "trajectory": "H_data",
           "value": 0
          },
          {
           "sample_id": 0,
           "timepoint": 54,
           "trajectory": "H_data",
           "value": 1
          },
          {
           "sample_id": 0,
           "timepoint": 55,
           "trajectory": "H_data",
           "value": 0
          },
          {
           "sample_id": 0,
           "timepoint": 56,
           "trajectory": "H_data",
           "value": 0
          },
          {
           "sample_id": 0,
           "timepoint": 57,
           "trajectory": "H_data",
           "value": 0
          },
          {
           "sample_id": 0,
           "timepoint": 58,
           "trajectory": "H_data",
           "value": 0
          },
          {
           "sample_id": 0,
           "timepoint": 59,
           "trajectory": "H_data",
           "value": 0
          },
          {
           "sample_id": 0,
           "timepoint": 0,
           "trajectory": "D_data",
           "value": 0
          },
          {
           "sample_id": 0,
           "timepoint": 1,
           "trajectory": "D_data",
           "value": 0
          },
          {
           "sample_id": 0,
           "timepoint": 2,
           "trajectory": "D_data",
           "value": 0
          },
          {
           "sample_id": 0,
           "timepoint": 3,
           "trajectory": "D_data",
           "value": 0
          },
          {
           "sample_id": 0,
           "timepoint": 4,
           "trajectory": "D_data",
           "value": 0
          },
          {
           "sample_id": 0,
           "timepoint": 5,
           "trajectory": "D_data",
           "value": 0
          },
          {
           "sample_id": 0,
           "timepoint": 6,
           "trajectory": "D_data",
           "value": 0
          },
          {
           "sample_id": 0,
           "timepoint": 7,
           "trajectory": "D_data",
           "value": 0
          },
          {
           "sample_id": 0,
           "timepoint": 8,
           "trajectory": "D_data",
           "value": 1
          },
          {
           "sample_id": 0,
           "timepoint": 9,
           "trajectory": "D_data",
           "value": 1
          },
          {
           "sample_id": 0,
           "timepoint": 10,
           "trajectory": "D_data",
           "value": 1
          },
          {
           "sample_id": 0,
           "timepoint": 11,
           "trajectory": "D_data",
           "value": 4
          },
          {
           "sample_id": 0,
           "timepoint": 12,
           "trajectory": "D_data",
           "value": 9
          },
          {
           "sample_id": 0,
           "timepoint": 13,
           "trajectory": "D_data",
           "value": 19
          },
          {
           "sample_id": 0,
           "timepoint": 14,
           "trajectory": "D_data",
           "value": 30
          },
          {
           "sample_id": 0,
           "timepoint": 15,
           "trajectory": "D_data",
           "value": 51
          },
          {
           "sample_id": 0,
           "timepoint": 16,
           "trajectory": "D_data",
           "value": 77
          },
          {
           "sample_id": 0,
           "timepoint": 17,
           "trajectory": "D_data",
           "value": 129
          },
          {
           "sample_id": 0,
           "timepoint": 18,
           "trajectory": "D_data",
           "value": 175
          },
          {
           "sample_id": 0,
           "timepoint": 19,
           "trajectory": "D_data",
           "value": 226
          },
          {
           "sample_id": 0,
           "timepoint": 20,
           "trajectory": "D_data",
           "value": 315
          },
          {
           "sample_id": 0,
           "timepoint": 21,
           "trajectory": "D_data",
           "value": 427
          },
          {
           "sample_id": 0,
           "timepoint": 22,
           "trajectory": "D_data",
           "value": 565
          },
          {
           "sample_id": 0,
           "timepoint": 23,
           "trajectory": "D_data",
           "value": 759
          },
          {
           "sample_id": 0,
           "timepoint": 24,
           "trajectory": "D_data",
           "value": 984
          },
          {
           "sample_id": 0,
           "timepoint": 25,
           "trajectory": "D_data",
           "value": 1285
          },
          {
           "sample_id": 0,
           "timepoint": 26,
           "trajectory": "D_data",
           "value": 1603
          },
          {
           "sample_id": 0,
           "timepoint": 27,
           "trajectory": "D_data",
           "value": 1930
          },
          {
           "sample_id": 0,
           "timepoint": 28,
           "trajectory": "D_data",
           "value": 2334
          },
          {
           "sample_id": 0,
           "timepoint": 29,
           "trajectory": "D_data",
           "value": 2859
          },
          {
           "sample_id": 0,
           "timepoint": 30,
           "trajectory": "D_data",
           "value": 3420
          },
          {
           "sample_id": 0,
           "timepoint": 31,
           "trajectory": "D_data",
           "value": 3989
          },
          {
           "sample_id": 0,
           "timepoint": 32,
           "trajectory": "D_data",
           "value": 4634
          },
          {
           "sample_id": 0,
           "timepoint": 33,
           "trajectory": "D_data",
           "value": 5384
          },
          {
           "sample_id": 0,
           "timepoint": 34,
           "trajectory": "D_data",
           "value": 6185
          },
          {
           "sample_id": 0,
           "timepoint": 35,
           "trajectory": "D_data",
           "value": 7241
          },
          {
           "sample_id": 0,
           "timepoint": 36,
           "trajectory": "D_data",
           "value": 7985
          },
          {
           "sample_id": 0,
           "timepoint": 37,
           "trajectory": "D_data",
           "value": 8846
          },
          {
           "sample_id": 0,
           "timepoint": 38,
           "trajectory": "D_data",
           "value": 9579
          },
          {
           "sample_id": 0,
           "timepoint": 39,
           "trajectory": "D_data",
           "value": 10345
          },
          {
           "sample_id": 0,
           "timepoint": 40,
           "trajectory": "D_data",
           "value": 11126
          },
          {
           "sample_id": 0,
           "timepoint": 41,
           "trajectory": "D_data",
           "value": 11930
          },
          {
           "sample_id": 0,
           "timepoint": 42,
           "trajectory": "D_data",
           "value": 12669
          },
          {
           "sample_id": 0,
           "timepoint": 43,
           "trajectory": "D_data",
           "value": 13332
          },
          {
           "sample_id": 0,
           "timepoint": 44,
           "trajectory": "D_data",
           "value": 13987
          },
          {
           "sample_id": 0,
           "timepoint": 45,
           "trajectory": "D_data",
           "value": 14371
          },
          {
           "sample_id": 0,
           "timepoint": 46,
           "trajectory": "D_data",
           "value": 14780
          },
          {
           "sample_id": 0,
           "timepoint": 47,
           "trajectory": "D_data",
           "value": 15225
          },
          {
           "sample_id": 0,
           "timepoint": 48,
           "trajectory": "D_data",
           "value": 16116
          },
          {
           "sample_id": 0,
           "timepoint": 49,
           "trajectory": "D_data",
           "value": 16639
          },
          {
           "sample_id": 0,
           "timepoint": 50,
           "trajectory": "D_data",
           "value": 17091
          },
          {
           "sample_id": 0,
           "timepoint": 51,
           "trajectory": "D_data",
           "value": 17647
          },
          {
           "sample_id": 0,
           "timepoint": 52,
           "trajectory": "D_data",
           "value": 18132
          },
          {
           "sample_id": 0,
           "timepoint": 53,
           "trajectory": "D_data",
           "value": 18523
          },
          {
           "sample_id": 0,
           "timepoint": 54,
           "trajectory": "D_data",
           "value": 18882
          },
          {
           "sample_id": 0,
           "timepoint": 55,
           "trajectory": "D_data",
           "value": 19292
          },
          {
           "sample_id": 0,
           "timepoint": 56,
           "trajectory": "D_data",
           "value": 19602
          },
          {
           "sample_id": 0,
           "timepoint": 57,
           "trajectory": "D_data",
           "value": 20000
          },
          {
           "sample_id": 0,
           "timepoint": 58,
           "trajectory": "D_data",
           "value": 20334
          },
          {
           "sample_id": 0,
           "timepoint": 59,
           "trajectory": "D_data",
           "value": 20662
          }
         ]
        },
        {
         "name": "markers",
         "values": []
        },
        {
         "name": "selected",
         "on": [
          {
           "remove": true,
           "trigger": "clear"
          },
          {
           "remove": true,
           "trigger": "!shift"
          },
          {
           "insert": "clicked",
           "trigger": "!shift && clicked"
          },
          {
           "toggle": "clicked",
           "trigger": "shift && clicked"
          }
         ]
        }
       ],
       "height": 300,
       "legends": [
        {
         "encode": {
          "labels": {
           "interactive": true,
           "name": "legendLabel",
           "update": {
            "opacity": [
             {
              "test": "!length(data('selected')) || indata('selected', 'value', datum.value)",
              "value": 1
             },
             {
              "value": 0.25
             }
            ]
           }
          },
          "symbols": {
           "interactive": true,
           "name": "legendSymbol",
           "update": {
            "fill": {
             "value": "transparent"
            },
            "opacity": [
             {
              "test": "!length(data('selected')) || indata('selected', 'value', datum.value)",
              "value": 0.7
             },
             {
              "value": 0.15
             }
            ],
            "size": {
             "value": 64
            },
            "strokeWidth": {
             "value": 2
            }
           }
          }
         },
         "name": "color_legend",
         "stroke": "color"
        }
       ],
       "marks": [
        {
         "from": {
          "facet": {
           "data": "points",
           "groupby": "trajectory",
           "name": "points_split"
          }
         },
         "marks": [
          {
           "encode": {
            "hover": {
             "fillOpacity": {
              "value": 0.9
             }
            },
            "update": {
             "fill": {
              "field": "trajectory",
              "scale": "color"
             },
             "fillOpacity": [
              {
               "test": "!length(data('selected')) || indata('selected', 'value', datum.trajectory)",
               "value": 0.5
              },
              {
               "value": 0.15
              }
             ],
             "size": {
              "value": 10
             },
             "stroke": {
              "field": "trajectory",
              "scale": "color"
             },
             "strokeOpacity": [
              {
               "test": "!length(data('selected')) || indata('selected', 'value', datum.trajectory)",
               "value": 0.75
              },
              {
               "value": 0.15
              }
             ],
             "strokeWidth": {
              "value": 2
             },
             "tooltip": {
              "field": "value"
             },
             "x": {
              "field": "timepoint",
              "scale": "xscale"
             },
             "y": {
              "field": "value",
              "scale": "yscale"
             }
            }
           },
           "from": {
            "data": "points"
           },
           "name": "_points_symbol",
           "type": "symbol",
           "zindex": 3
          },
          {
           "encode": {
            "hover": {
             "fillOpacity": {
              "value": 0.9
             }
            },
            "update": {
             "interpolate": {
              "value": "linear"
             },
             "stroke": {
              "field": "trajectory",
              "scale": "color"
             },
             "strokeOpacity": [
              {
               "test": "!length(data('selected')) || indata('selected', 'value', datum.trajectory)",
               "value": 0.3
              },
              {
               "value": 0.1
              }
             ],
             "strokeWidth": {
              "value": 2
             },
             "x": {
              "field": "timepoint",
              "scale": "xscale"
             },
             "y": {
              "field": "value",
              "scale": "yscale"
             }
            }
           },
           "from": {
            "data": "points"
           },
           "name": "_points_line",
           "type": "line",
           "zindex": 3
          }
         ],
         "name": "_points",
         "type": "group",
         "zindex": 3
        },
        {
         "from": {
          "facet": {
           "data": "traces",
           "groupby": "trajectory",
           "name": "traces_split"
          }
         },
         "marks": [
          {
           "encode": {
            "hover": {
             "fillOpacity": {
              "value": 0.9
             }
            },
            "update": {
             "interpolate": {
              "value": "linear"
             },
             "stroke": {
              "field": "trajectory",
              "scale": "color"
             },
             "strokeOpacity": [
              {
               "test": "!length(data('selected')) || indata('selected', 'value', datum.trajectory)",
               "value": 0.75
              },
              {
               "value": 0.15
              }
             ],
             "strokeWidth": {
              "value": 2
             },
             "x": {
              "field": "timepoint",
              "scale": "xscale"
             },
             "y": {
              "field": "value",
              "scale": "yscale"
             }
            }
           },
           "from": {
            "data": "traces_split"
           },
           "name": "_traces_lines",
           "type": "line"
          }
         ],
         "name": "_traces",
         "type": "group",
         "zindex": 2
        },
        {
         "from": {
          "facet": {
           "data": "distributions",
           "groupby": "trajectory",
           "name": "trajectory_split"
          }
         },
         "marks": [
          {
           "encode": {
            "hover": {
             "fillOpacity": {
              "value": 0.9
             }
            },
            "update": {
             "fill": {
              "field": "trajectory",
              "scale": "color"
             },
             "fillOpacity": [
              {
               "test": "!length(data('selected')) || indata('selected', 'value', datum.trajectory)",
               "value": 0.5
              },
              {
               "value": 0.15
              }
             ],
             "interpolate": {
              "value": "linear"
             },
             "stroke": {
              "field": "trajectory",
              "scale": "color"
             },
             "strokeOpacity": [
              {
               "test": "!length(data('selected')) || indata('selected', 'value', datum.trajectory)",
               "value": 0.75
              },
              {
               "value": 0.15
              }
             ],
             "strokeWidth": {
              "value": 2
             },
             "x": {
              "field": "timepoint",
              "scale": "xscale"
             },
             "y": {
              "field": "upper",
              "scale": "yscale"
             },
             "y2": {
              "field": "lower",
              "scale": "yscale"
             }
            }
           },
           "from": {
            "data": "trajectory_split"
           },
           "type": "area"
          }
         ],
         "name": "_distributions",
         "type": "group",
         "zindex": 1
        },
        {
         "marks": [
          {
           "encode": {
            "enter": {
             "stroke": {
              "value": "lightgray"
             }
            },
            "update": {
             "opacity": {
              "value": 1
             },
             "x": {
              "field": "timepoint",
              "scale": "xscale"
             },
             "y": {
              "signal": "height"
             },
             "y2": {
              "value": 0
             }
            }
           },
           "from": {
            "data": "markers"
           },
           "name": "_marker text",
           "type": "rule"
          },
          {
           "encode": {
            "enter": {
             "fontSize": {
              "value": 8
             },
             "text": {
              "field": "datum.label"
             },
             "y": {
              "value": 0
             }
            }
           },
           "from": {
            "data": "_marker text"
           },
           "name": "_marker flags",
           "transform": [
            {
             "as": [
              "x",
              "_y",
              "opacity",
              "align",
              "baseline"
             ],
             "lineAnchor": "start",
             "offset": [
              1
             ],
             "size": {
              "signal": "[width, height]"
             },
             "type": "label"
            }
           ],
           "type": "text"
          }
         ],
         "name": "_markers",
         "type": "group"
        }
       ],
       "padding": 5,
       "scales": [
        {
         "domain": {
          "fields": [
           {
            "data": "distributions",
            "field": "timepoint"
           },
           {
            "data": "traces",
            "field": "timepoint"
           },
           {
            "data": "points",
            "field": "timepoint"
           },
           {
            "data": "markers",
            "field": "timepoint"
           }
          ]
         },
         "name": "xscale",
         "range": "width",
         "type": "linear",
         "zero": false
        },
        {
         "domain": {
          "fields": [
           {
            "data": "distributions",
            "field": "lower"
           },
           {
            "data": "distributions",
            "field": "upper"
           },
           {
            "data": "traces",
            "field": "value"
           },
           {
            "data": "points",
            "field": "value"
           }
          ]
         },
         "name": "yscale",
         "nice": true,
         "range": "height",
         "type": "linear",
         "zero": true
        },
        {
         "domain": {
          "fields": [
           {
            "data": "distributions",
            "field": "trajectory"
           },
           {
            "data": "traces",
            "field": "trajectory"
           },
           {
            "data": "points",
            "field": "trajectory"
           }
          ]
         },
         "name": "color",
         "range": "category",
         "type": "ordinal"
        }
       ],
       "signals": [
        {
         "name": "clear",
         "on": [
          {
           "events": "mouseup[!event.item]",
           "force": true,
           "update": "true"
          }
         ],
         "value": true
        },
        {
         "name": "shift",
         "on": [
          {
           "events": "@legendSymbol:click, @legendLabel:click",
           "force": true,
           "update": "event.shiftKey"
          }
         ],
         "value": false
        },
        {
         "name": "clicked",
         "on": [
          {
           "events": "@legendSymbol:click, @legendLabel:click",
           "force": true,
           "update": "{value: datum.value}"
          }
         ],
         "value": null
        }
       ],
       "width": 500
      }
     },
     "metadata": {},
     "output_type": "display_data"
    }
   ],
   "source": [
    "num_samples = 100\n",
    "model_paths = [model6_location]\n",
    "data_path = \"../../notebook/ensemble_eval_sa/datasets/NY_data1.csv\"\n",
    "weights = [1]\n",
    "solution_mappings = [{\"I\": \"infected\", \"D\": \"dead\"}]\n",
    "\n",
    "# Run the calibration and sampling\n",
    "result2 = load_and_calibrate_and_sample_ensemble_model(\n",
    "    model_paths,\n",
    "    data_path,\n",
    "    weights,\n",
    "    solution_mappings,\n",
    "    num_samples,\n",
    "    timepoints,\n",
    "    verbose=True,\n",
    "    total_population=19340000,\n",
    "    num_iterations=100,\n",
    "    time_unit=\"days\",\n",
    "    visual_options={\"title\": \"Calibrated Ensemble\", \"keep\":\".*_sol\"}\n",
    ")\n",
    "\n",
    "# # Save results\n",
    "# result2[\"data\"].to_csv(\"../../notebook/ensemble_eval_sa/ensemble_results/partI_ensemble_of_one_results.csv\", index=False)\n",
    "# result2[\"quantiles\"].to_csv(\"../../notebook/ensemble_eval_sa/ensemble_results/partI_ensemble_of_one_quantiles.csv\", index=False)\n",
    "\n",
    "# Plot results\n",
    "schema = plots.trajectories(pd.DataFrame(result2[\"data\"]), keep=\".*_sol\",\n",
    "                            points=test_data.reset_index(drop=True).rename(columns={\"I\":\"I_data\", \"H\":\"H_data\", \"D\":\"D_data\"}),\n",
    "                           )\n",
    "schema = plots.pad(schema, 5)\n",
    "plots.ipy_display(schema)"
   ]
  },
  {
   "cell_type": "code",
   "execution_count": null,
   "id": "654bb2a6-f7dd-45bb-9ebe-183ac72bd67e",
   "metadata": {},
   "outputs": [],
   "source": [
    "num_samples = 100\n",
    "model_paths = [model7_location]\n",
    "data_path = \"../../notebook/ensemble_eval_sa/datasets/NY_data1.csv\"\n",
    "weights = [1]\n",
    "solution_mappings = [{\"I\": \"infected\", \"D\": \"dead\"}]\n",
    "\n",
    "# Run the calibration and sampling\n",
    "result3 = load_and_calibrate_and_sample_ensemble_model(\n",
    "    model_paths,\n",
    "    data_path,\n",
    "    weights,\n",
    "    solution_mappings,\n",
    "    num_samples,\n",
    "    timepoints,\n",
    "    verbose=True,\n",
    "    total_population=19340000,\n",
    "    num_iterations=50,\n",
    "    time_unit=\"days\",\n",
    "    visual_options={\"title\": \"Calibrated Ensemble\", \"keep\":\".*_sol\"}\n",
    ")\n",
    "\n",
    "# # Save results\n",
    "# result3[\"data\"].to_csv(\"../../notebook/ensemble_eval_sa/ensemble_results/partI_ensemble_of_one_results.csv\", index=False)\n",
    "# result3[\"quantiles\"].to_csv(\"../../notebook/ensemble_eval_sa/ensemble_results/partI_ensemble_of_one_quantiles.csv\", index=False)\n",
    "\n",
    "# Plot results\n",
    "schema = plots.trajectories(pd.DataFrame(result3[\"data\"]), keep=\".*_sol\",\n",
    "                            points=test_data.reset_index(drop=True).rename(columns={\"I\":\"I_data\", \"H\":\"H_data\", \"D\":\"D_data\"}),\n",
    "                           )\n",
    "schema = plots.pad(schema, 5)\n",
    "plots.ipy_display(schema)"
   ]
  },
  {
   "cell_type": "markdown",
   "id": "2ded2349-d56b-4fe5-a685-06b37cc78831",
   "metadata": {},
   "source": [
    "# Calibrate and sample an ensemble of multiple models"
   ]
  },
  {
   "cell_type": "code",
   "execution_count": 6,
   "id": "5220df5c-61a0-47ad-ac94-fc543e8cb523",
   "metadata": {},
   "outputs": [
    {
     "name": "stdout",
     "output_type": "stream",
     "text": [
      "iteration 0: loss = 770.0332576930523\n",
      "iteration 25: loss = 725.9352768361568\n",
      "iteration 50: loss = 683.1315333545208\n",
      "iteration 75: loss = 657.1365496814251\n",
      "iteration 100: loss = 639.9664190709591\n",
      "iteration 125: loss = 651.2667129933834\n",
      "iteration 150: loss = 644.3884951770306\n",
      "iteration 175: loss = 640.9029484689236\n",
      "iteration 200: loss = 642.0637594163418\n",
      "iteration 225: loss = 641.8007166087627\n",
      "iteration 250: loss = 635.0509063899517\n",
      "iteration 275: loss = 638.1880713403225\n",
      "\n"
     ]
    },
    {
     "data": {
      "application/vnd.vega.v5+json": {
       "$schema": "https://vega.github.io/schema/vega/v5.json",
       "axes": [
        {
         "name": "x_axis",
         "orient": "bottom",
         "scale": "xscale",
         "zindex": 100
        },
        {
         "name": "y_axis",
         "orient": "left",
         "scale": "yscale",
         "zindex": 100
        }
       ],
       "data": [
        {
         "name": "distributions",
         "values": [
          {
           "lower": 1.3788892867524356e-22,
           "timepoint": 0,
           "trajectory": "D_sol",
           "upper": 1.4788771603645961e-21
          },
          {
           "lower": 0.015571758896112443,
           "timepoint": 1,
           "trajectory": "D_sol",
           "upper": 0.16467077061533925
          },
          {
           "lower": 0.06728563643991947,
           "timepoint": 2,
           "trajectory": "D_sol",
           "upper": 0.7132410407066344
          },
          {
           "lower": 0.1590779773890972,
           "timepoint": 3,
           "trajectory": "D_sol",
           "upper": 1.712014693021774
          },
          {
           "lower": 0.29498758912086487,
           "timepoint": 4,
           "trajectory": "D_sol",
           "upper": 3.2450815439224234
          },
          {
           "lower": 0.47959406673908234,
           "timepoint": 5,
           "trajectory": "D_sol",
           "upper": 5.409969687461852
          },
          {
           "lower": 0.7052746593952179,
           "timepoint": 6,
           "trajectory": "D_sol",
           "upper": 8.31236639022827
          },
          {
           "lower": 1.0187936097383499,
           "timepoint": 7,
           "trajectory": "D_sol",
           "upper": 12.101821184158323
          },
          {
           "lower": 1.395495480298996,
           "timepoint": 8,
           "trajectory": "D_sol",
           "upper": 16.965930747985837
          },
          {
           "lower": 1.8625698804855346,
           "timepoint": 9,
           "trajectory": "D_sol",
           "upper": 23.142825126647946
          },
          {
           "lower": 2.4369964599609375,
           "timepoint": 10,
           "trajectory": "D_sol",
           "upper": 30.933204174041744
          },
          {
           "lower": 3.1416057705879212,
           "timepoint": 11,
           "trajectory": "D_sol",
           "upper": 40.92545948028564
          },
          {
           "lower": 3.9929160356521605,
           "timepoint": 12,
           "trajectory": "D_sol",
           "upper": 53.71313705444336
          },
          {
           "lower": 4.979491209983825,
           "timepoint": 13,
           "trajectory": "D_sol",
           "upper": 69.88090591430664
          },
          {
           "lower": 6.0277299880981445,
           "timepoint": 14,
           "trajectory": "D_sol",
           "upper": 90.11974334716797
          },
          {
           "lower": 7.278481531143188,
           "timepoint": 15,
           "trajectory": "D_sol",
           "upper": 114.75595817565917
          },
          {
           "lower": 8.778244876861573,
           "timepoint": 16,
           "trajectory": "D_sol",
           "upper": 145.54678268432616
          },
          {
           "lower": 10.583905220031738,
           "timepoint": 17,
           "trajectory": "D_sol",
           "upper": 183.9781455993652
          },
          {
           "lower": 12.76381974220276,
           "timepoint": 18,
           "trajectory": "D_sol",
           "upper": 232.36010818481444
          },
          {
           "lower": 14.730609703063966,
           "timepoint": 19,
           "trajectory": "D_sol",
           "upper": 296.1513687133789
          },
          {
           "lower": 16.73634281158447,
           "timepoint": 20,
           "trajectory": "D_sol",
           "upper": 376.0281768798828
          },
          {
           "lower": 19.594811630249023,
           "timepoint": 21,
           "trajectory": "D_sol",
           "upper": 475.2377258300781
          },
          {
           "lower": 23.461267471313477,
           "timepoint": 22,
           "trajectory": "D_sol",
           "upper": 597.1167755126953
          },
          {
           "lower": 28.008223247528075,
           "timepoint": 23,
           "trajectory": "D_sol",
           "upper": 743.0920959472656
          },
          {
           "lower": 33.29061279296875,
           "timepoint": 24,
           "trajectory": "D_sol",
           "upper": 911.2735382080078
          },
          {
           "lower": 39.340917396545414,
           "timepoint": 25,
           "trajectory": "D_sol",
           "upper": 1112.599981689453
          },
          {
           "lower": 46.28167839050293,
           "timepoint": 26,
           "trajectory": "D_sol",
           "upper": 1344.2442260742187
          },
          {
           "lower": 54.03440265655517,
           "timepoint": 27,
           "trajectory": "D_sol",
           "upper": 1605.0061645507812
          },
          {
           "lower": 62.547339248657224,
           "timepoint": 28,
           "trajectory": "D_sol",
           "upper": 1893.6345642089843
          },
          {
           "lower": 73.15018692016602,
           "timepoint": 29,
           "trajectory": "D_sol",
           "upper": 2208.255346679687
          },
          {
           "lower": 85.5645881652832,
           "timepoint": 30,
           "trajectory": "D_sol",
           "upper": 2546.6058471679685
          },
          {
           "lower": 99.09108810424804,
           "timepoint": 31,
           "trajectory": "D_sol",
           "upper": 2906.210119628906
          },
          {
           "lower": 113.69817390441895,
           "timepoint": 32,
           "trajectory": "D_sol",
           "upper": 3283.7881225585934
          },
          {
           "lower": 127.04596481323243,
           "timepoint": 33,
           "trajectory": "D_sol",
           "upper": 3677.0342163085934
          },
          {
           "lower": 138.6239978790283,
           "timepoint": 34,
           "trajectory": "D_sol",
           "upper": 4084.023107910156
          },
          {
           "lower": 150.18417510986328,
           "timepoint": 35,
           "trajectory": "D_sol",
           "upper": 4502.6690673828125
          },
          {
           "lower": 161.65412368774415,
           "timepoint": 36,
           "trajectory": "D_sol",
           "upper": 4931.066333007812
          },
          {
           "lower": 172.9730239868164,
           "timepoint": 37,
           "trajectory": "D_sol",
           "upper": 5367.572973632812
          },
          {
           "lower": 184.09160919189452,
           "timepoint": 38,
           "trajectory": "D_sol",
           "upper": 5810.736596679687
          },
          {
           "lower": 194.9705383300781,
           "timepoint": 39,
           "trajectory": "D_sol",
           "upper": 6259.31884765625
          },
          {
           "lower": 205.57933502197267,
           "timepoint": 40,
           "trajectory": "D_sol",
           "upper": 6712.226025390624
          },
          {
           "lower": 215.89532623291015,
           "timepoint": 41,
           "trajectory": "D_sol",
           "upper": 7168.583666992187
          },
          {
           "lower": 226.01192626953124,
           "timepoint": 42,
           "trajectory": "D_sol",
           "upper": 7625.294384765625
          },
          {
           "lower": 239.0012405395508,
           "timepoint": 43,
           "trajectory": "D_sol",
           "upper": 8083.397412109375
          },
          {
           "lower": 252.04011306762695,
           "timepoint": 44,
           "trajectory": "D_sol",
           "upper": 8510.242578125
          },
          {
           "lower": 263.8496223449707,
           "timepoint": 45,
           "trajectory": "D_sol",
           "upper": 8905.07470703125
          },
          {
           "lower": 273.75651397705076,
           "timepoint": 46,
           "trajectory": "D_sol",
           "upper": 9293.920361328124
          },
          {
           "lower": 283.4583221435547,
           "timepoint": 47,
           "trajectory": "D_sol",
           "upper": 9676.556005859375
          },
          {
           "lower": 292.9578033447266,
           "timepoint": 48,
           "trajectory": "D_sol",
           "upper": 10052.828173828124
          },
          {
           "lower": 302.2587142944336,
           "timepoint": 49,
           "trajectory": "D_sol",
           "upper": 10422.629492187498
          },
          {
           "lower": 311.3659378051758,
           "timepoint": 50,
           "trajectory": "D_sol",
           "upper": 10785.910937499999
          },
          {
           "lower": 320.28419189453126,
           "timepoint": 51,
           "trajectory": "D_sol",
           "upper": 11142.629199218749
          },
          {
           "lower": 329.0187713623047,
           "timepoint": 52,
           "trajectory": "D_sol",
           "upper": 11492.858691406247
          },
          {
           "lower": 337.57525024414065,
           "timepoint": 53,
           "trajectory": "D_sol",
           "upper": 11836.566894531248
          },
          {
           "lower": 345.95838317871096,
           "timepoint": 54,
           "trajectory": "D_sol",
           "upper": 12173.842529296871
          },
          {
           "lower": 354.1739471435547,
           "timepoint": 55,
           "trajectory": "D_sol",
           "upper": 12504.750830078121
          },
          {
           "lower": 362.22739868164064,
           "timepoint": 56,
           "trajectory": "D_sol",
           "upper": 12829.379980468746
          },
          {
           "lower": 370.1233383178711,
           "timepoint": 57,
           "trajectory": "D_sol",
           "upper": 13147.831835937495
          },
          {
           "lower": 377.86678314208984,
           "timepoint": 58,
           "trajectory": "D_sol",
           "upper": 13460.18706054687
          },
          {
           "lower": 385.4627166748047,
           "timepoint": 59,
           "trajectory": "D_sol",
           "upper": 13766.57026367187
          },
          {
           "lower": 149.80305709838868,
           "timepoint": 0,
           "trajectory": "I_sol",
           "upper": 180.16375350952148
          },
          {
           "lower": 233.31519622802733,
           "timepoint": 1,
           "trajectory": "I_sol",
           "upper": 300.56779327392576
          },
          {
           "lower": 313.64667358398435,
           "timepoint": 2,
           "trajectory": "I_sol",
           "upper": 411.7489532470703
          },
          {
           "lower": 405.0315139770508,
           "timepoint": 3,
           "trajectory": "I_sol",
           "upper": 528.0813720703125
          },
          {
           "lower": 508.87916259765626,
           "timepoint": 4,
           "trajectory": "I_sol",
           "upper": 658.9223754882812
          },
          {
           "lower": 622.8372680664063,
           "timepoint": 5,
           "trajectory": "I_sol",
           "upper": 821.6862762451171
          },
          {
           "lower": 774.1077911376954,
           "timepoint": 6,
           "trajectory": "I_sol",
           "upper": 1016.0207092285156
          },
          {
           "lower": 955.5665008544922,
           "timepoint": 7,
           "trajectory": "I_sol",
           "upper": 1268.9402954101563
          },
          {
           "lower": 1181.3120971679687,
           "timepoint": 8,
           "trajectory": "I_sol",
           "upper": 1609.9193298339844
          },
          {
           "lower": 1465.0802734375,
           "timepoint": 9,
           "trajectory": "I_sol",
           "upper": 2012.7630920410156
          },
          {
           "lower": 1820.6603271484375,
           "timepoint": 10,
           "trajectory": "I_sol",
           "upper": 2519.680676269531
          },
          {
           "lower": 2251.9130004882813,
           "timepoint": 11,
           "trajectory": "I_sol",
           "upper": 3175.7650634765623
          },
          {
           "lower": 2784.6941528320312,
           "timepoint": 12,
           "trajectory": "I_sol",
           "upper": 3986.5710205078126
          },
          {
           "lower": 3455.2562744140623,
           "timepoint": 13,
           "trajectory": "I_sol",
           "upper": 5061.5671875
          },
          {
           "lower": 4280.115063476563,
           "timepoint": 14,
           "trajectory": "I_sol",
           "upper": 6413.52353515625
          },
          {
           "lower": 5247.158203125,
           "timepoint": 15,
           "trajectory": "I_sol",
           "upper": 8109.10751953125
          },
          {
           "lower": 6420.935473632812,
           "timepoint": 16,
           "trajectory": "I_sol",
           "upper": 10222.83515625
          },
          {
           "lower": 8008.842749023437,
           "timepoint": 17,
           "trajectory": "I_sol",
           "upper": 12760.669726562499
          },
          {
           "lower": 9964.61328125,
           "timepoint": 18,
           "trajectory": "I_sol",
           "upper": 15925.838134765625
          },
          {
           "lower": 12128.9173828125,
           "timepoint": 19,
           "trajectory": "I_sol",
           "upper": 19671.29306640625
          },
          {
           "lower": 14577.10849609375,
           "timepoint": 20,
           "trajectory": "I_sol",
           "upper": 23946.89697265625
          },
          {
           "lower": 17322.2486328125,
           "timepoint": 21,
           "trajectory": "I_sol",
           "upper": 28600.90546875
          },
          {
           "lower": 20217.11943359375,
           "timepoint": 22,
           "trajectory": "I_sol",
           "upper": 33375.421875
          },
          {
           "lower": 23056.40732421875,
           "timepoint": 23,
           "trajectory": "I_sol",
           "upper": 37950.1197265625
          },
          {
           "lower": 25679.5818359375,
           "timepoint": 24,
           "trajectory": "I_sol",
           "upper": 42017.4458984375
          },
          {
           "lower": 27968.44130859375,
           "timepoint": 25,
           "trajectory": "I_sol",
           "upper": 45352.61796875
          },
          {
           "lower": 29272.2869140625,
           "timepoint": 26,
           "trajectory": "I_sol",
           "upper": 48378.6064453125
          },
          {
           "lower": 30172.35146484375,
           "timepoint": 27,
           "trajectory": "I_sol",
           "upper": 50855.6990234375
          },
          {
           "lower": 30917.061328125,
           "timepoint": 28,
           "trajectory": "I_sol",
           "upper": 52812.0806640625
          },
          {
           "lower": 30900.1501953125,
           "timepoint": 29,
           "trajectory": "I_sol",
           "upper": 54314.7005859375
          },
          {
           "lower": 30573.1197265625,
           "timepoint": 30,
           "trajectory": "I_sol",
           "upper": 55418.0986328125
          },
          {
           "lower": 29986.951953125,
           "timepoint": 31,
           "trajectory": "I_sol",
           "upper": 56164.3294921875
          },
          {
           "lower": 29202.09541015625,
           "timepoint": 32,
           "trajectory": "I_sol",
           "upper": 56238.70859375
          },
          {
           "lower": 27956.03701171875,
           "timepoint": 33,
           "trajectory": "I_sol",
           "upper": 55791.3298828125
          },
          {
           "lower": 26655.95009765625,
           "timepoint": 34,
           "trajectory": "I_sol",
           "upper": 55158.74550781249
          },
          {
           "lower": 25522.55419921875,
           "timepoint": 35,
           "trajectory": "I_sol",
           "upper": 55146.10839843749
          },
          {
           "lower": 24522.236328125,
           "timepoint": 36,
           "trajectory": "I_sol",
           "upper": 55359.180273437494
          },
          {
           "lower": 23526.51513671875,
           "timepoint": 37,
           "trajectory": "I_sol",
           "upper": 55525.8875
          },
          {
           "lower": 22567.62509765625,
           "timepoint": 38,
           "trajectory": "I_sol",
           "upper": 55660.59179687499
          },
          {
           "lower": 21664.28525390625,
           "timepoint": 39,
           "trajectory": "I_sol",
           "upper": 55773.71289062499
          },
          {
           "lower": 20737.43583984375,
           "timepoint": 40,
           "trajectory": "I_sol",
           "upper": 55872.727148437494
          },
          {
           "lower": 19839.5263671875,
           "timepoint": 41,
           "trajectory": "I_sol",
           "upper": 55962.8388671875
          },
          {
           "lower": 18974.2341796875,
           "timepoint": 42,
           "trajectory": "I_sol",
           "upper": 56047.834179687496
          },
          {
           "lower": 18142.27646484375,
           "timepoint": 43,
           "trajectory": "I_sol",
           "upper": 56130.147265625
          },
          {
           "lower": 17343.815625,
           "timepoint": 44,
           "trajectory": "I_sol",
           "upper": 56211.548828125
          },
          {
           "lower": 16392.517822265625,
           "timepoint": 45,
           "trajectory": "I_sol",
           "upper": 56293.0787109375
          },
          {
           "lower": 15421.433056640624,
           "timepoint": 46,
           "trajectory": "I_sol",
           "upper": 56375.534375
          },
          {
           "lower": 14505.363623046875,
           "timepoint": 47,
           "trajectory": "I_sol",
           "upper": 56459.201171875
          },
          {
           "lower": 13641.85009765625,
           "timepoint": 48,
           "trajectory": "I_sol",
           "upper": 56399.4703125
          },
          {
           "lower": 12828.44111328125,
           "timepoint": 49,
           "trajectory": "I_sol",
           "upper": 56298.325
          },
          {
           "lower": 12062.51494140625,
           "timepoint": 50,
           "trajectory": "I_sol",
           "upper": 56195.355664062496
          },
          {
           "lower": 11341.594140625,
           "timepoint": 51,
           "trajectory": "I_sol",
           "upper": 56090.8396484375
          },
          {
           "lower": 10663.2392578125,
           "timepoint": 52,
           "trajectory": "I_sol",
           "upper": 55984.834179687496
          },
          {
           "lower": 10025.04404296875,
           "timepoint": 53,
           "trajectory": "I_sol",
           "upper": 55877.4560546875
          },
          {
           "lower": 9424.76650390625,
           "timepoint": 54,
           "trajectory": "I_sol",
           "upper": 55768.758007812496
          },
          {
           "lower": 8860.215576171875,
           "timepoint": 55,
           "trajectory": "I_sol",
           "upper": 55658.7771484375
          },
          {
           "lower": 8329.339453125,
           "timepoint": 56,
           "trajectory": "I_sol",
           "upper": 55547.5798828125
          },
          {
           "lower": 7830.152758789062,
           "timepoint": 57,
           "trajectory": "I_sol",
           "upper": 55435.174999999996
          },
          {
           "lower": 7360.792626953125,
           "timepoint": 58,
           "trajectory": "I_sol",
           "upper": 55400.41406249999
          },
          {
           "lower": 6919.503271484375,
           "timepoint": 59,
           "trajectory": "I_sol",
           "upper": 55465.351757812496
          }
         ]
        },
        {
         "name": "traces",
         "transform": [
          {
           "expr": "isValid(datum.value)",
           "type": "filter"
          }
         ],
         "values": []
        },
        {
         "name": "points",
         "values": [
          {
           "sample_id": 0,
           "timepoint": 0,
           "trajectory": "I_data",
           "value": 1
          },
          {
           "sample_id": 0,
           "timepoint": 1,
           "trajectory": "I_data",
           "value": 10
          },
          {
           "sample_id": 0,
           "timepoint": 2,
           "trajectory": "I_data",
           "value": 21
          },
          {
           "sample_id": 0,
           "timepoint": 3,
           "trajectory": "I_data",
           "value": 24
          },
          {
           "sample_id": 0,
           "timepoint": 4,
           "trajectory": "I_data",
           "value": 76
          },
          {
           "sample_id": 0,
           "timepoint": 5,
           "trajectory": "I_data",
           "value": 104
          },
          {
           "sample_id": 0,
           "timepoint": 6,
           "trajectory": "I_data",
           "value": 128
          },
          {
           "sample_id": 0,
           "timepoint": 7,
           "trajectory": "I_data",
           "value": 131
          },
          {
           "sample_id": 0,
           "timepoint": 8,
           "trajectory": "I_data",
           "value": 192
          },
          {
           "sample_id": 0,
           "timepoint": 9,
           "trajectory": "I_data",
           "value": 220
          },
          {
           "sample_id": 0,
           "timepoint": 10,
           "trajectory": "I_data",
           "value": 274
          },
          {
           "sample_id": 0,
           "timepoint": 11,
           "trajectory": "I_data",
           "value": 394
          },
          {
           "sample_id": 0,
           "timepoint": 12,
           "trajectory": "I_data",
           "value": 481
          },
          {
           "sample_id": 0,
           "timepoint": 13,
           "trajectory": "I_data",
           "value": 745
          },
          {
           "sample_id": 0,
           "timepoint": 14,
           "trajectory": "I_data",
           "value": 1111
          },
          {
           "sample_id": 0,
           "timepoint": 15,
           "trajectory": "I_data",
           "value": 2128
          },
          {
           "sample_id": 0,
           "timepoint": 16,
           "trajectory": "I_data",
           "value": 3671
          },
          {
           "sample_id": 0,
           "timepoint": 17,
           "trajectory": "I_data",
           "value": 6578
          },
          {
           "sample_id": 0,
           "timepoint": 18,
           "trajectory": "I_data",
           "value": 9449
          },
          {
           "sample_id": 0,
           "timepoint": 19,
           "trajectory": "I_data",
           "value": 13761
          },
          {
           "sample_id": 0,
           "timepoint": 20,
           "trajectory": "I_data",
           "value": 18270
          },
          {
           "sample_id": 0,
           "timepoint": 21,
           "trajectory": "I_data",
           "value": 21478
          },
          {
           "sample_id": 0,
           "timepoint": 22,
           "trajectory": "I_data",
           "value": 23630
          },
          {
           "sample_id": 0,
           "timepoint": 23,
           "trajectory": "I_data",
           "value": 26987
          },
          {
           "sample_id": 0,
           "timepoint": 24,
           "trajectory": "I_data",
           "value": 29533
          },
          {
           "sample_id": 0,
           "timepoint": 25,
           "trajectory": "I_data",
           "value": 31623
          },
          {
           "sample_id": 0,
           "timepoint": 26,
           "trajectory": "I_data",
           "value": 33967
          },
          {
           "sample_id": 0,
           "timepoint": 27,
           "trajectory": "I_data",
           "value": 35822
          },
          {
           "sample_id": 0,
           "timepoint": 28,
           "trajectory": "I_data",
           "value": 38456
          },
          {
           "sample_id": 0,
           "timepoint": 29,
           "trajectory": "I_data",
           "value": 45676
          },
          {
           "sample_id": 0,
           "timepoint": 30,
           "trajectory": "I_data",
           "value": 48380
          },
          {
           "sample_id": 0,
           "timepoint": 31,
           "trajectory": "I_data",
           "value": 51807
          },
          {
           "sample_id": 0,
           "timepoint": 32,
           "trajectory": "I_data",
           "value": 55042
          },
          {
           "sample_id": 0,
           "timepoint": 33,
           "trajectory": "I_data",
           "value": 56847
          },
          {
           "sample_id": 0,
           "timepoint": 34,
           "trajectory": "I_data",
           "value": 52184
          },
          {
           "sample_id": 0,
           "timepoint": 35,
           "trajectory": "I_data",
           "value": 49194
          },
          {
           "sample_id": 0,
           "timepoint": 36,
           "trajectory": "I_data",
           "value": 48730
          },
          {
           "sample_id": 0,
           "timepoint": 37,
           "trajectory": "I_data",
           "value": 50551
          },
          {
           "sample_id": 0,
           "timepoint": 38,
           "trajectory": "I_data",
           "value": 51029
          },
          {
           "sample_id": 0,
           "timepoint": 39,
           "trajectory": "I_data",
           "value": 49701
          },
          {
           "sample_id": 0,
           "timepoint": 40,
           "trajectory": "I_data",
           "value": 50661
          },
          {
           "sample_id": 0,
           "timepoint": 41,
           "trajectory": "I_data",
           "value": 48303
          },
          {
           "sample_id": 0,
           "timepoint": 42,
           "trajectory": "I_data",
           "value": 43703
          },
          {
           "sample_id": 0,
           "timepoint": 43,
           "trajectory": "I_data",
           "value": 38888
          },
          {
           "sample_id": 0,
           "timepoint": 44,
           "trajectory": "I_data",
           "value": 38244
          },
          {
           "sample_id": 0,
           "timepoint": 45,
           "trajectory": "I_data",
           "value": 36857
          },
          {
           "sample_id": 0,
           "timepoint": 46,
           "trajectory": "I_data",
           "value": 35881
          },
          {
           "sample_id": 0,
           "timepoint": 47,
           "trajectory": "I_data",
           "value": 35054
          },
          {
           "sample_id": 0,
           "timepoint": 48,
           "trajectory": "I_data",
           "value": 34782
          },
          {
           "sample_id": 0,
           "timepoint": 49,
           "trajectory": "I_data",
           "value": 31526
          },
          {
           "sample_id": 0,
           "timepoint": 50,
           "trajectory": "I_data",
           "value": 28799
          },
          {
           "sample_id": 0,
           "timepoint": 51,
           "trajectory": "I_data",
           "value": 27419
          },
          {
           "sample_id": 0,
           "timepoint": 52,
           "trajectory": "I_data",
           "value": 27443
          },
          {
           "sample_id": 0,
           "timepoint": 53,
           "trajectory": "I_data",
           "value": 30499
          },
          {
           "sample_id": 0,
           "timepoint": 54,
           "trajectory": "I_data",
           "value": 31543
          },
          {
           "sample_id": 0,
           "timepoint": 55,
           "trajectory": "I_data",
           "value": 31597
          },
          {
           "sample_id": 0,
           "timepoint": 56,
           "trajectory": "I_data",
           "value": 29008
          },
          {
           "sample_id": 0,
           "timepoint": 57,
           "trajectory": "I_data",
           "value": 25476
          },
          {
           "sample_id": 0,
           "timepoint": 58,
           "trajectory": "I_data",
           "value": 20411
          },
          {
           "sample_id": 0,
           "timepoint": 59,
           "trajectory": "I_data",
           "value": 19224
          },
          {
           "sample_id": 0,
           "timepoint": 38,
           "trajectory": "H_data",
           "value": 0
          },
          {
           "sample_id": 0,
           "timepoint": 39,
           "trajectory": "H_data",
           "value": 0
          },
          {
           "sample_id": 0,
           "timepoint": 45,
           "trajectory": "H_data",
           "value": 0
          },
          {
           "sample_id": 0,
           "timepoint": 46,
           "trajectory": "H_data",
           "value": 1
          },
          {
           "sample_id": 0,
           "timepoint": 52,
           "trajectory": "H_data",
           "value": 0
          },
          {
           "sample_id": 0,
           "timepoint": 53,
           "trajectory": "H_data",
           "value": 0
          },
          {
           "sample_id": 0,
           "timepoint": 54,
           "trajectory": "H_data",
           "value": 1
          },
          {
           "sample_id": 0,
           "timepoint": 55,
           "trajectory": "H_data",
           "value": 0
          },
          {
           "sample_id": 0,
           "timepoint": 56,
           "trajectory": "H_data",
           "value": 0
          },
          {
           "sample_id": 0,
           "timepoint": 57,
           "trajectory": "H_data",
           "value": 0
          },
          {
           "sample_id": 0,
           "timepoint": 58,
           "trajectory": "H_data",
           "value": 0
          },
          {
           "sample_id": 0,
           "timepoint": 59,
           "trajectory": "H_data",
           "value": 0
          },
          {
           "sample_id": 0,
           "timepoint": 0,
           "trajectory": "D_data",
           "value": 0
          },
          {
           "sample_id": 0,
           "timepoint": 1,
           "trajectory": "D_data",
           "value": 0
          },
          {
           "sample_id": 0,
           "timepoint": 2,
           "trajectory": "D_data",
           "value": 0
          },
          {
           "sample_id": 0,
           "timepoint": 3,
           "trajectory": "D_data",
           "value": 0
          },
          {
           "sample_id": 0,
           "timepoint": 4,
           "trajectory": "D_data",
           "value": 0
          },
          {
           "sample_id": 0,
           "timepoint": 5,
           "trajectory": "D_data",
           "value": 0
          },
          {
           "sample_id": 0,
           "timepoint": 6,
           "trajectory": "D_data",
           "value": 0
          },
          {
           "sample_id": 0,
           "timepoint": 7,
           "trajectory": "D_data",
           "value": 0
          },
          {
           "sample_id": 0,
           "timepoint": 8,
           "trajectory": "D_data",
           "value": 1
          },
          {
           "sample_id": 0,
           "timepoint": 9,
           "trajectory": "D_data",
           "value": 1
          },
          {
           "sample_id": 0,
           "timepoint": 10,
           "trajectory": "D_data",
           "value": 1
          },
          {
           "sample_id": 0,
           "timepoint": 11,
           "trajectory": "D_data",
           "value": 4
          },
          {
           "sample_id": 0,
           "timepoint": 12,
           "trajectory": "D_data",
           "value": 9
          },
          {
           "sample_id": 0,
           "timepoint": 13,
           "trajectory": "D_data",
           "value": 19
          },
          {
           "sample_id": 0,
           "timepoint": 14,
           "trajectory": "D_data",
           "value": 30
          },
          {
           "sample_id": 0,
           "timepoint": 15,
           "trajectory": "D_data",
           "value": 51
          },
          {
           "sample_id": 0,
           "timepoint": 16,
           "trajectory": "D_data",
           "value": 77
          },
          {
           "sample_id": 0,
           "timepoint": 17,
           "trajectory": "D_data",
           "value": 129
          },
          {
           "sample_id": 0,
           "timepoint": 18,
           "trajectory": "D_data",
           "value": 175
          },
          {
           "sample_id": 0,
           "timepoint": 19,
           "trajectory": "D_data",
           "value": 226
          },
          {
           "sample_id": 0,
           "timepoint": 20,
           "trajectory": "D_data",
           "value": 315
          },
          {
           "sample_id": 0,
           "timepoint": 21,
           "trajectory": "D_data",
           "value": 427
          },
          {
           "sample_id": 0,
           "timepoint": 22,
           "trajectory": "D_data",
           "value": 565
          },
          {
           "sample_id": 0,
           "timepoint": 23,
           "trajectory": "D_data",
           "value": 759
          },
          {
           "sample_id": 0,
           "timepoint": 24,
           "trajectory": "D_data",
           "value": 984
          },
          {
           "sample_id": 0,
           "timepoint": 25,
           "trajectory": "D_data",
           "value": 1285
          },
          {
           "sample_id": 0,
           "timepoint": 26,
           "trajectory": "D_data",
           "value": 1603
          },
          {
           "sample_id": 0,
           "timepoint": 27,
           "trajectory": "D_data",
           "value": 1930
          },
          {
           "sample_id": 0,
           "timepoint": 28,
           "trajectory": "D_data",
           "value": 2334
          },
          {
           "sample_id": 0,
           "timepoint": 29,
           "trajectory": "D_data",
           "value": 2859
          },
          {
           "sample_id": 0,
           "timepoint": 30,
           "trajectory": "D_data",
           "value": 3420
          },
          {
           "sample_id": 0,
           "timepoint": 31,
           "trajectory": "D_data",
           "value": 3989
          },
          {
           "sample_id": 0,
           "timepoint": 32,
           "trajectory": "D_data",
           "value": 4634
          },
          {
           "sample_id": 0,
           "timepoint": 33,
           "trajectory": "D_data",
           "value": 5384
          },
          {
           "sample_id": 0,
           "timepoint": 34,
           "trajectory": "D_data",
           "value": 6185
          },
          {
           "sample_id": 0,
           "timepoint": 35,
           "trajectory": "D_data",
           "value": 7241
          },
          {
           "sample_id": 0,
           "timepoint": 36,
           "trajectory": "D_data",
           "value": 7985
          },
          {
           "sample_id": 0,
           "timepoint": 37,
           "trajectory": "D_data",
           "value": 8846
          },
          {
           "sample_id": 0,
           "timepoint": 38,
           "trajectory": "D_data",
           "value": 9579
          },
          {
           "sample_id": 0,
           "timepoint": 39,
           "trajectory": "D_data",
           "value": 10345
          },
          {
           "sample_id": 0,
           "timepoint": 40,
           "trajectory": "D_data",
           "value": 11126
          },
          {
           "sample_id": 0,
           "timepoint": 41,
           "trajectory": "D_data",
           "value": 11930
          },
          {
           "sample_id": 0,
           "timepoint": 42,
           "trajectory": "D_data",
           "value": 12669
          },
          {
           "sample_id": 0,
           "timepoint": 43,
           "trajectory": "D_data",
           "value": 13332
          },
          {
           "sample_id": 0,
           "timepoint": 44,
           "trajectory": "D_data",
           "value": 13987
          },
          {
           "sample_id": 0,
           "timepoint": 45,
           "trajectory": "D_data",
           "value": 14371
          },
          {
           "sample_id": 0,
           "timepoint": 46,
           "trajectory": "D_data",
           "value": 14780
          },
          {
           "sample_id": 0,
           "timepoint": 47,
           "trajectory": "D_data",
           "value": 15225
          },
          {
           "sample_id": 0,
           "timepoint": 48,
           "trajectory": "D_data",
           "value": 16116
          },
          {
           "sample_id": 0,
           "timepoint": 49,
           "trajectory": "D_data",
           "value": 16639
          },
          {
           "sample_id": 0,
           "timepoint": 50,
           "trajectory": "D_data",
           "value": 17091
          },
          {
           "sample_id": 0,
           "timepoint": 51,
           "trajectory": "D_data",
           "value": 17647
          },
          {
           "sample_id": 0,
           "timepoint": 52,
           "trajectory": "D_data",
           "value": 18132
          },
          {
           "sample_id": 0,
           "timepoint": 53,
           "trajectory": "D_data",
           "value": 18523
          },
          {
           "sample_id": 0,
           "timepoint": 54,
           "trajectory": "D_data",
           "value": 18882
          },
          {
           "sample_id": 0,
           "timepoint": 55,
           "trajectory": "D_data",
           "value": 19292
          },
          {
           "sample_id": 0,
           "timepoint": 56,
           "trajectory": "D_data",
           "value": 19602
          },
          {
           "sample_id": 0,
           "timepoint": 57,
           "trajectory": "D_data",
           "value": 20000
          },
          {
           "sample_id": 0,
           "timepoint": 58,
           "trajectory": "D_data",
           "value": 20334
          },
          {
           "sample_id": 0,
           "timepoint": 59,
           "trajectory": "D_data",
           "value": 20662
          }
         ]
        },
        {
         "name": "markers",
         "values": []
        },
        {
         "name": "selected",
         "on": [
          {
           "remove": true,
           "trigger": "clear"
          },
          {
           "remove": true,
           "trigger": "!shift"
          },
          {
           "insert": "clicked",
           "trigger": "!shift && clicked"
          },
          {
           "toggle": "clicked",
           "trigger": "shift && clicked"
          }
         ]
        }
       ],
       "height": 300,
       "legends": [
        {
         "encode": {
          "labels": {
           "interactive": true,
           "name": "legendLabel",
           "update": {
            "opacity": [
             {
              "test": "!length(data('selected')) || indata('selected', 'value', datum.value)",
              "value": 1
             },
             {
              "value": 0.25
             }
            ]
           }
          },
          "symbols": {
           "interactive": true,
           "name": "legendSymbol",
           "update": {
            "fill": {
             "value": "transparent"
            },
            "opacity": [
             {
              "test": "!length(data('selected')) || indata('selected', 'value', datum.value)",
              "value": 0.7
             },
             {
              "value": 0.15
             }
            ],
            "size": {
             "value": 64
            },
            "strokeWidth": {
             "value": 2
            }
           }
          }
         },
         "name": "color_legend",
         "stroke": "color"
        }
       ],
       "marks": [
        {
         "from": {
          "facet": {
           "data": "points",
           "groupby": "trajectory",
           "name": "points_split"
          }
         },
         "marks": [
          {
           "encode": {
            "hover": {
             "fillOpacity": {
              "value": 0.9
             }
            },
            "update": {
             "fill": {
              "field": "trajectory",
              "scale": "color"
             },
             "fillOpacity": [
              {
               "test": "!length(data('selected')) || indata('selected', 'value', datum.trajectory)",
               "value": 0.5
              },
              {
               "value": 0.15
              }
             ],
             "size": {
              "value": 10
             },
             "stroke": {
              "field": "trajectory",
              "scale": "color"
             },
             "strokeOpacity": [
              {
               "test": "!length(data('selected')) || indata('selected', 'value', datum.trajectory)",
               "value": 0.75
              },
              {
               "value": 0.15
              }
             ],
             "strokeWidth": {
              "value": 2
             },
             "tooltip": {
              "field": "value"
             },
             "x": {
              "field": "timepoint",
              "scale": "xscale"
             },
             "y": {
              "field": "value",
              "scale": "yscale"
             }
            }
           },
           "from": {
            "data": "points"
           },
           "name": "_points_symbol",
           "type": "symbol",
           "zindex": 3
          },
          {
           "encode": {
            "hover": {
             "fillOpacity": {
              "value": 0.9
             }
            },
            "update": {
             "interpolate": {
              "value": "linear"
             },
             "stroke": {
              "field": "trajectory",
              "scale": "color"
             },
             "strokeOpacity": [
              {
               "test": "!length(data('selected')) || indata('selected', 'value', datum.trajectory)",
               "value": 0.3
              },
              {
               "value": 0.1
              }
             ],
             "strokeWidth": {
              "value": 2
             },
             "x": {
              "field": "timepoint",
              "scale": "xscale"
             },
             "y": {
              "field": "value",
              "scale": "yscale"
             }
            }
           },
           "from": {
            "data": "points"
           },
           "name": "_points_line",
           "type": "line",
           "zindex": 3
          }
         ],
         "name": "_points",
         "type": "group",
         "zindex": 3
        },
        {
         "from": {
          "facet": {
           "data": "traces",
           "groupby": "trajectory",
           "name": "traces_split"
          }
         },
         "marks": [
          {
           "encode": {
            "hover": {
             "fillOpacity": {
              "value": 0.9
             }
            },
            "update": {
             "interpolate": {
              "value": "linear"
             },
             "stroke": {
              "field": "trajectory",
              "scale": "color"
             },
             "strokeOpacity": [
              {
               "test": "!length(data('selected')) || indata('selected', 'value', datum.trajectory)",
               "value": 0.75
              },
              {
               "value": 0.15
              }
             ],
             "strokeWidth": {
              "value": 2
             },
             "x": {
              "field": "timepoint",
              "scale": "xscale"
             },
             "y": {
              "field": "value",
              "scale": "yscale"
             }
            }
           },
           "from": {
            "data": "traces_split"
           },
           "name": "_traces_lines",
           "type": "line"
          }
         ],
         "name": "_traces",
         "type": "group",
         "zindex": 2
        },
        {
         "from": {
          "facet": {
           "data": "distributions",
           "groupby": "trajectory",
           "name": "trajectory_split"
          }
         },
         "marks": [
          {
           "encode": {
            "hover": {
             "fillOpacity": {
              "value": 0.9
             }
            },
            "update": {
             "fill": {
              "field": "trajectory",
              "scale": "color"
             },
             "fillOpacity": [
              {
               "test": "!length(data('selected')) || indata('selected', 'value', datum.trajectory)",
               "value": 0.5
              },
              {
               "value": 0.15
              }
             ],
             "interpolate": {
              "value": "linear"
             },
             "stroke": {
              "field": "trajectory",
              "scale": "color"
             },
             "strokeOpacity": [
              {
               "test": "!length(data('selected')) || indata('selected', 'value', datum.trajectory)",
               "value": 0.75
              },
              {
               "value": 0.15
              }
             ],
             "strokeWidth": {
              "value": 2
             },
             "x": {
              "field": "timepoint",
              "scale": "xscale"
             },
             "y": {
              "field": "upper",
              "scale": "yscale"
             },
             "y2": {
              "field": "lower",
              "scale": "yscale"
             }
            }
           },
           "from": {
            "data": "trajectory_split"
           },
           "type": "area"
          }
         ],
         "name": "_distributions",
         "type": "group",
         "zindex": 1
        },
        {
         "marks": [
          {
           "encode": {
            "enter": {
             "stroke": {
              "value": "lightgray"
             }
            },
            "update": {
             "opacity": {
              "value": 1
             },
             "x": {
              "field": "timepoint",
              "scale": "xscale"
             },
             "y": {
              "signal": "height"
             },
             "y2": {
              "value": 0
             }
            }
           },
           "from": {
            "data": "markers"
           },
           "name": "_marker text",
           "type": "rule"
          },
          {
           "encode": {
            "enter": {
             "fontSize": {
              "value": 8
             },
             "text": {
              "field": "datum.label"
             },
             "y": {
              "value": 0
             }
            }
           },
           "from": {
            "data": "_marker text"
           },
           "name": "_marker flags",
           "transform": [
            {
             "as": [
              "x",
              "_y",
              "opacity",
              "align",
              "baseline"
             ],
             "lineAnchor": "start",
             "offset": [
              1
             ],
             "size": {
              "signal": "[width, height]"
             },
             "type": "label"
            }
           ],
           "type": "text"
          }
         ],
         "name": "_markers",
         "type": "group"
        }
       ],
       "padding": 5,
       "scales": [
        {
         "domain": {
          "fields": [
           {
            "data": "distributions",
            "field": "timepoint"
           },
           {
            "data": "traces",
            "field": "timepoint"
           },
           {
            "data": "points",
            "field": "timepoint"
           },
           {
            "data": "markers",
            "field": "timepoint"
           }
          ]
         },
         "name": "xscale",
         "range": "width",
         "type": "linear",
         "zero": false
        },
        {
         "domain": {
          "fields": [
           {
            "data": "distributions",
            "field": "lower"
           },
           {
            "data": "distributions",
            "field": "upper"
           },
           {
            "data": "traces",
            "field": "value"
           },
           {
            "data": "points",
            "field": "value"
           }
          ]
         },
         "name": "yscale",
         "nice": true,
         "range": "height",
         "type": "linear",
         "zero": true
        },
        {
         "domain": {
          "fields": [
           {
            "data": "distributions",
            "field": "trajectory"
           },
           {
            "data": "traces",
            "field": "trajectory"
           },
           {
            "data": "points",
            "field": "trajectory"
           }
          ]
         },
         "name": "color",
         "range": "category",
         "type": "ordinal"
        }
       ],
       "signals": [
        {
         "name": "clear",
         "on": [
          {
           "events": "mouseup[!event.item]",
           "force": true,
           "update": "true"
          }
         ],
         "value": true
        },
        {
         "name": "shift",
         "on": [
          {
           "events": "@legendSymbol:click, @legendLabel:click",
           "force": true,
           "update": "event.shiftKey"
          }
         ],
         "value": false
        },
        {
         "name": "clicked",
         "on": [
          {
           "events": "@legendSymbol:click, @legendLabel:click",
           "force": true,
           "update": "{value: datum.value}"
          }
         ],
         "value": null
        }
       ],
       "width": 500
      }
     },
     "metadata": {},
     "output_type": "display_data"
    }
   ],
   "source": [
    "num_samples = 100\n",
    "model_paths = [model2_location, model6_location, model7_location]\n",
    "data_path = \"../../notebook/ensemble_eval_sa/datasets/NY_data1.csv\"\n",
    "weights = [1/len(model_paths) for i in model_paths]\n",
    "solution_mappings = [{\"I\": \"I\", \"D\": \"D\"},\n",
    "                     {\"I\": \"infected\", \"D\": \"dead\"}, \n",
    "                     {\"I\": \"infected\", \"D\": \"dead\"}\n",
    "                     ]\n",
    "\n",
    "# Run the calibration and sampling\n",
    "result4 = load_and_calibrate_and_sample_ensemble_model(\n",
    "    model_paths,\n",
    "    data_path,\n",
    "    weights,\n",
    "    solution_mappings,\n",
    "    num_samples,\n",
    "    timepoints,\n",
    "    verbose=True,\n",
    "    total_population=19340000,\n",
    "    num_iterations=300,\n",
    "    time_unit=\"days\",\n",
    "    visual_options={\"title\": \"Calibrated Ensemble\", \"keep\":\".*_sol\"}\n",
    ")\n",
    "\n",
    "# Save results\n",
    "result4[\"data\"].to_csv(\"../../notebook/ensemble_eval_sa/ensemble_results/partI_ensemble_of_many_results.csv\", index=False)\n",
    "result4[\"quantiles\"].to_csv(\"../../notebook/ensemble_eval_sa/ensemble_results/partI_ensemble_of_many_quantiles.csv\", index=False)\n",
    "\n",
    "q_ensemble_data = cdc_reformatcsv(filename=\"../../notebook/ensemble_eval_sa/ensemble_results/partI_ensemble_of_many_quantiles.csv\", \n",
    "                                  solution_string_mapping={\"I\": \"cases\", \"D\": \"deaths\"}, \n",
    "                                  forecast_start_date=\"2020-04-02\",\n",
    "                                  location=\"New York State\",\n",
    "                                  drop_column_names=[\"timepoint_id\", \"number_days\", \"inc_cum\", \"output\", \"Forecast_Backcast\"])\n",
    "q_ensemble_data.to_csv(\"../../notebook/ensemble_eval_sa/ensemble_results/partI_ensemble_of_many_forecast_quantiles_Apr032020.csv\")\n",
    "\n",
    "# Plot results\n",
    "schema = plots.trajectories(pd.DataFrame(result4[\"data\"]), keep=\".*_sol\",\n",
    "                            points=test_data.reset_index(drop=True).rename(columns={\"I\":\"I_data\", \"H\":\"H_data\", \"D\":\"D_data\"}),\n",
    "                           )\n",
    "schema = plots.pad(schema, 5)\n",
    "plots.ipy_display(schema)"
   ]
  },
  {
   "cell_type": "code",
   "execution_count": null,
   "id": "765e6d37-d87b-48b6-877b-067d2995179e",
   "metadata": {},
   "outputs": [],
   "source": [
    "num_samples = 100\n",
    "model_paths = [model2_location, model7_location]\n",
    "data_path = \"../../notebook/ensemble_eval_sa/NY_data1.csv\"\n",
    "weights = [1/len(model_paths) for i in model_paths]\n",
    "solution_mappings = [{\"I\": \"I\", \"D\": \"D\"},\n",
    "                     {\"I\": \"infected\", \"D\": \"dead\"}\n",
    "                     ]\n",
    "\n",
    "# Run the calibration and sampling\n",
    "result5 = load_and_calibrate_and_sample_ensemble_model(\n",
    "    model_paths,\n",
    "    data_path,\n",
    "    weights,\n",
    "    solution_mappings,\n",
    "    num_samples,\n",
    "    timepoints,\n",
    "    verbose=True,\n",
    "    total_population=19340000,\n",
    "    num_iterations=500,\n",
    "    time_unit=\"days\",\n",
    "    visual_options={\"title\": \"Calibrated Ensemble\", \"keep\":\".*_sol\"}\n",
    ")\n",
    "\n",
    "# Save results\n",
    "# result5[\"data\"].to_csv(\"../../notebook/ensemble_eval_sa/ensemble_results/partI_ensemble_of_two_results.csv\", index=False)\n",
    "# result5[\"quantiles\"].to_csv(\"../../notebook/ensemble_eval_sa/ensemble_results/partI_ensemble_of_two_quantiles.csv\", index=False)\n",
    "\n",
    "# Plot results\n",
    "schema = plots.trajectories(pd.DataFrame(result4[\"data\"]), keep=\".*_sol\",\n",
    "                            points=test_data.reset_index(drop=True).rename(columns={\"I\":\"I_data\", \"H\":\"H_data\", \"D\":\"D_data\"}),\n",
    "                           )\n",
    "schema = plots.pad(schema, 5)\n",
    "plots.ipy_display(schema)"
   ]
  },
  {
   "cell_type": "code",
   "execution_count": null,
   "id": "79bac950-7c34-47af-9fa6-d0ead7e78f88",
   "metadata": {},
   "outputs": [],
   "source": [
    "num_samples = 100\n",
    "model_paths = [model2_location, model7_location]\n",
    "data_path = \"../../notebook/ensemble_eval_sa/NY_data1.csv\"\n",
    "weights = [1/len(model_paths) for i in model_paths]\n",
    "solution_mappings = [{\"I\": \"I\", \"D\": \"D\"},\n",
    "                     {\"I\": \"infected\", \"D\": \"dead\"}\n",
    "                     ]\n",
    "\n",
    "# Run the calibration and sampling\n",
    "result4 = load_and_calibrate_and_sample_ensemble_model(\n",
    "    model_paths,\n",
    "    data_path,\n",
    "    weights,\n",
    "    solution_mappings,\n",
    "    num_samples,\n",
    "    timepoints,\n",
    "    verbose=True,\n",
    "    total_population=19340000,\n",
    "    num_iterations=500,\n",
    "    time_unit=\"days\",\n",
    "    visual_options={\"title\": \"Calibrated Ensemble\", \"keep\":\".*_sol\"}\n",
    ")\n",
    "\n",
    "# Save results\n",
    "# result4[\"data\"].to_csv(\"../../notebook/ensemble_eval_sa/ensemble_results/partI_ensemble_of_many_results.csv\", index=False)\n",
    "# result4[\"quantiles\"].to_csv(\"../../notebook/ensemble_eval_sa/ensemble_results/partI_ensemble_of_many_quantiles.csv\", index=False)\n",
    "\n",
    "# Plot results\n",
    "schema = plots.trajectories(pd.DataFrame(result4[\"data\"]), keep=\".*_sol\",\n",
    "                            points=test_data.reset_index(drop=True).rename(columns={\"I\":\"I_data\", \"H\":\"H_data\", \"D\":\"D_data\"}),\n",
    "                           )\n",
    "schema = plots.pad(schema, 5)\n",
    "plots.ipy_display(schema)"
   ]
  },
  {
   "cell_type": "code",
   "execution_count": null,
   "id": "b1200c83-faab-444d-8a13-c815867ad5ba",
   "metadata": {},
   "outputs": [],
   "source": [
    "num_samples = 100\n",
    "model_paths = [model2_location, model6_location, model7_location]\n",
    "data_path = \"../../notebook/ensemble_eval_sa/NY_data1.csv\"\n",
    "weights = [1/len(model_paths) for i in model_paths]\n",
    "solution_mappings = [{\"I\": \"I\", \"D\": \"D\"},\n",
    "                     {\"I\": \"infected\", \"D\": \"dead\"}, \n",
    "                     {\"I\": \"infected\", \"D\": \"dead\"}\n",
    "                     ]\n",
    "\n",
    "# Run the calibration and sampling\n",
    "result4 = load_and_calibrate_and_sample_ensemble_model(\n",
    "    model_paths,\n",
    "    data_path,\n",
    "    weights,\n",
    "    solution_mappings,\n",
    "    num_samples,\n",
    "    timepoints,\n",
    "    verbose=True,\n",
    "    total_population=19340000,\n",
    "    num_iterations=500,\n",
    "    time_unit=\"days\",\n",
    "    visual_options={\"title\": \"Calibrated Ensemble\", \"keep\":\".*_sol\"}\n",
    ")\n",
    "\n",
    "# Save results\n",
    "# result4[\"data\"].to_csv(\"../../notebook/ensemble_eval_sa/ensemble_results/partI_ensemble_of_many_results.csv\", index=False)\n",
    "# result4[\"quantiles\"].to_csv(\"../../notebook/ensemble_eval_sa/ensemble_results/partI_ensemble_of_many_quantiles.csv\", index=False)\n",
    "\n",
    "# Plot results\n",
    "schema = plots.trajectories(pd.DataFrame(result4[\"data\"]), keep=\".*_sol\",\n",
    "                            points=test_data.reset_index(drop=True).rename(columns={\"I\":\"I_data\", \"H\":\"H_data\", \"D\":\"D_data\"}),\n",
    "                           )\n",
    "schema = plots.pad(schema, 5)\n",
    "plots.ipy_display(schema)"
   ]
  },
  {
   "cell_type": "code",
   "execution_count": null,
   "id": "2b575a9f-909b-4eae-a74a-9745b0a74d43",
   "metadata": {},
   "outputs": [],
   "source": []
  }
 ],
 "metadata": {
  "kernelspec": {
   "display_name": "Python 3 (ipykernel)",
   "language": "python",
   "name": "python3"
  },
  "language_info": {
   "codemirror_mode": {
    "name": "ipython",
    "version": 3
   },
   "file_extension": ".py",
   "mimetype": "text/x-python",
   "name": "python",
   "nbconvert_exporter": "python",
   "pygments_lexer": "ipython3",
   "version": "3.10.9"
  }
 },
 "nbformat": 4,
 "nbformat_minor": 5
}
