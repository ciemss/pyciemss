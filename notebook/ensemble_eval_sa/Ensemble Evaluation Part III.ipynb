{
 "cells": [
  {
   "cell_type": "markdown",
   "id": "68211931",
   "metadata": {},
   "source": [
    "# Ensemble Evaluation: Timepoint 3\n",
    "\n",
    "Location: New York State\n",
    "\n",
    "Timepoint 3: January 4, 2022. Setting: New York State coinciding with the arrival of the first Omicron wave. At-home testing widely available.\n",
    "\n",
    "For each timepoint, consider the following:\n",
    " - What is the most relevant data to use for model calibration?\n",
    " - What was our understanding of COVID-19 viral mechanisms at the time? For example, early in the pandemic, we didn't know if reinfection was a common occurance, or even possible.\n",
    " - What are the parameters related to contagiousness/transmissibility and severity of the dominant strain at the time?\n",
    " - What policies were in place for a stated location, and how can this information be incorporated into models?\n",
    "\n",
    "For each timepoint:\n",
    "\n",
    "1. (a) Take a single model, calibrate it using any historical data prior to the given date, and create a 4-week forecast for cases, hospitalizations, and deaths beginning on the given date. (b) Evaluate the forecast using the COVID-19 Forecasting Hub Error Metrics (WIS, MAE). The single model evaluation should be done in the same way as the ensemble.\n",
    "\n",
    "2. Repeat (1), but with an ensemble of different models.\n",
    "\n",
    "a. It is fine to calibrate each model independently and weight naively.\n",
    "\n",
    "b. It would also be fine to calibrate the ensemble as a whole, assigning weights to the different component models, so that you minimize the error of the ensemble vs. historical data.\n",
    "\n",
    "c. Use the calibration scores and error metrics computed by the CDC Forecasting Hub. As stated on their website:\n",
    "\n",
    "“Periodically, we evaluate the accuracy and precision of the ensemble forecast and component models over recent and historical forecasting periods. Models forecasting incident hospitalizations at a national and state level are evaluated using adjusted relative weighted interval scores (WIS, a measure of distributional accuracy), and adjusted relative mean absolute error (MAE), and calibration scores. Scores are evaluated across weeks, locations, and targets. You can read a paper explaining these procedures in more detail, and look at the most recent monthly evaluation reports. The final report that includes case and death forecast evaluations is 2023-03-13.”\n",
    "\n",
    "3. Produce the forecast outputs in the format specified by the CDC forecasting challenge, including the specified quantiles."
   ]
  },
  {
   "cell_type": "markdown",
   "id": "cfc39ca6-fb26-4d12-affd-7bc901ae3c0a",
   "metadata": {},
   "source": [
    "### Load dependencies"
   ]
  },
  {
   "cell_type": "code",
   "execution_count": 1,
   "id": "df082181",
   "metadata": {},
   "outputs": [],
   "source": [
    "import os\n",
    "import pandas as pd\n",
    "import numpy as np\n",
    "from pyciemss.Ensemble.interfaces import (\n",
    "    load_and_sample_petri_ensemble, load_and_calibrate_and_sample_ensemble_model\n",
    ")\n",
    "from pyciemss.PetriNetODE.interfaces import (\n",
    "    load_and_sample_petri_model,\n",
    "    load_and_calibrate_and_sample_petri_model,\n",
    "    load_and_optimize_and_sample_petri_model,\n",
    "    load_and_calibrate_and_optimize_and_sample_petri_model\n",
    ")\n",
    "from pyciemss.visuals import plots\n",
    "from pyciemss.utils import get_tspan"
   ]
  },
  {
   "cell_type": "markdown",
   "id": "4d63a62a-6ac8-451f-a87b-6b85acb27ed6",
   "metadata": {},
   "source": [
    "## Get data"
   ]
  },
  {
   "cell_type": "code",
   "execution_count": 2,
   "id": "c10d89e9-b232-4116-9bfa-c6edba3cc89a",
   "metadata": {},
   "outputs": [],
   "source": [
    "# url = 'https://raw.githubusercontent.com/DARPA-ASKEM/experiments/main/thin-thread-examples/milestone_12month/evaluation/ensemble_eval_SA/datasets/aabb3684-a7ea-4f60-98f1-a8e673ad6df5/dataset.csv'\n",
    "url = 'https://raw.githubusercontent.com/ciemss/pyciemss/283-july-evaluation-scenario-3/notebook/july_evaluation/Scenario3/data/processed_dataset.csv'\n",
    "ww_data = pd.read_csv(url, index_col=\"time\")\n",
    "ww_data_train = ww_data[0:80]\n",
    "ww_data_train.to_csv(\"ww_data3.csv\")\n",
    "# # Grab test data for four-week forecast (01/04/2022 - 02/01/2022)\n",
    "# test_data = ny_data[0:742].drop(columns=\"timestep\")\n",
    "\n",
    "# # Select historical data up to Timepoint 3: 01/03/2022 (the first 714 rows)\n",
    "# ny_data = ny_data[0:713]\n",
    "# ny_data[[\"I\", \"H\", \"D\"]].to_csv(\"NY_data3.csv\")"
   ]
  },
  {
   "cell_type": "markdown",
   "id": "5ff64276-79a0-4c29-86bc-d0e1154957dd",
   "metadata": {},
   "source": [
    "## Select relevant models"
   ]
  },
  {
   "cell_type": "code",
   "execution_count": 3,
   "id": "cd6e5c0b",
   "metadata": {},
   "outputs": [],
   "source": [
    "import sympy\n",
    "import itertools\n",
    "\n",
    "from mira.metamodel import *\n",
    "from mira.modeling import Model\n",
    "from mira.modeling.askenet.petrinet import AskeNetPetriNetModel\n",
    "\n",
    "person_units = lambda: Unit(expression=sympy.Symbol('person'))\n",
    "virus_units = lambda: Unit(expression=sympy.Symbol('virus'))\n",
    "virus_per_gram_units = lambda: Unit(expression=sympy.Symbol('virus')/sympy.Symbol('gram'))\n",
    "day_units = lambda: Unit(expression=sympy.Symbol('day'))\n",
    "per_day_units = lambda: Unit(expression=1/sympy.Symbol('day'))\n",
    "dimensionless_units = lambda: Unit(expression=sympy.Integer('1'))\n",
    "gram_units = lambda: Unit(expression=sympy.Symbol('gram'))\n",
    "per_day_per_person_units = lambda: Unit(expression=1/(sympy.Symbol('day')*sympy.Symbol('person')))\n",
    "\n",
    "# See Table 1 of the paper\n",
    "c = {\n",
    "    'S': Concept(name='S', units=person_units(), identifiers={'ido': '0000514'}),\n",
    "    'E': Concept(name='E', units=person_units(), identifiers={'apollosv': '0000154'}),\n",
    "    'I': Concept(name='I', units=person_units(), identifiers={'ido': '0000511'}),\n",
    "    'V': Concept(name='V', units=person_units(), identifiers={'vido': '0001331'}),\n",
    "}\n",
    "\n",
    "\n",
    "parameters = {\n",
    "    'gamma': Parameter(name='gamma', value=0.08, units=per_day_units()),\n",
    "    'delta': Parameter(name='delta', value=1/8, units=per_day_units()),\n",
    "    'alpha': Parameter(name='alpha', value=500, units=gram_units(),\n",
    "                       distribution=Distribution(type='Uniform1',\n",
    "                                                 parameters={\n",
    "                                                     'minimum': 51,\n",
    "                                                     'maximum': 796\n",
    "                                                 })),\n",
    "    'lambda': Parameter(name='lambda', value=9.66e-8, units=per_day_per_person_units()),\n",
    "    'beta': Parameter(name='beta', value=4.49e7, units=virus_per_gram_units()),\n",
    "    'k': Parameter(name='k', value=1/3, units=per_day_units()),\n",
    "}\n",
    "\n",
    "initials = {\n",
    "    'S': Initial(concept=Concept(name='S'), value=2_300_000),\n",
    "    'E': Initial(concept=Concept(name='E'), value=1000),\n",
    "    'I': Initial(concept=Concept(name='I'), value=0),\n",
    "    'V': Initial(concept=Concept(name='V'), value=0),\n",
    "}\n",
    "\n",
    "S, E, I, V, gamma, delta, alpha, lmbd, beta, k = \\\n",
    "    sympy.symbols('S E I V gamma delta alpha lambda beta k')\n",
    "\n",
    "t1 = ControlledConversion(subject=c['S'],\n",
    "                          outcome=c['E'],\n",
    "                          controller=c['I'],\n",
    "                          rate_law=S*I*lmbd)\n",
    "t2 = NaturalConversion(subject=c['E'],\n",
    "                       outcome=c['I'],\n",
    "                       rate_law=k*E)\n",
    "t3 = NaturalDegradation(subject=c['I'],\n",
    "                        rate_law=delta*I)\n",
    "t4 = ControlledProduction(outcome=c['V'],\n",
    "                          controller=c['I'],\n",
    "                          rate_law=alpha*beta*(1-gamma)*I)\n",
    "templates = [t1, t2, t3, t4]\n",
    "observables = {}\n",
    "tm = TemplateModel(\n",
    "    templates=templates,\n",
    "    parameters=parameters,\n",
    "    initials=initials,\n",
    "    time=Time(name='t', units=day_units()),\n",
    "    observables=observables,\n",
    "    annotations=Annotations(name='Scenario 3 base model'))"
   ]
  },
  {
   "cell_type": "code",
   "execution_count": 4,
   "id": "b7009199",
   "metadata": {},
   "outputs": [
    {
     "name": "stdout",
     "output_type": "stream",
     "text": [
      "\n"
     ]
    },
    {
     "data": {
      "application/vnd.vega.v5+json": {
       "$schema": "https://vega.github.io/schema/vega/v5.json",
       "axes": [
        {
         "name": "x_axis",
         "orient": "bottom",
         "scale": "xscale",
         "zindex": 100
        },
        {
         "name": "y_axis",
         "orient": "left",
         "scale": "yscale",
         "zindex": 100
        }
       ],
       "data": [
        {
         "name": "distributions",
         "values": [
          {
           "lower": 1000,
           "timepoint": 0,
           "trajectory": "E_sol",
           "upper": 1000
          },
          {
           "lower": 967.5763916015625,
           "timepoint": 0.10000000149011612,
           "trajectory": "E_sol",
           "upper": 967.5772399902344
          },
          {
           "lower": 936.9121917724609,
           "timepoint": 0.20000000298023224,
           "trajectory": "E_sol",
           "upper": 936.9130706787109
          },
          {
           "lower": 907.9179260253907,
           "timepoint": 0.30000001192092896,
           "trajectory": "E_sol",
           "upper": 907.9196197509766
          },
          {
           "lower": 880.5103302001953,
           "timepoint": 0.4000000059604645,
           "trajectory": "E_sol",
           "upper": 880.5111206054687
          },
          {
           "lower": 854.6089691162109,
           "timepoint": 0.5,
           "trajectory": "E_sol",
           "upper": 854.6105712890625
          },
          {
           "lower": 830.1396636962891,
           "timepoint": 0.6000000238418579,
           "trajectory": "E_sol",
           "upper": 830.1400207519531
          },
          {
           "lower": 807.0288299560547,
           "timepoint": 0.699999988079071,
           "trajectory": "E_sol",
           "upper": 807.0292358398438
          },
          {
           "lower": 785.2087341308594,
           "timepoint": 0.800000011920929,
           "trajectory": "E_sol",
           "upper": 785.209375
          },
          {
           "lower": 764.6147399902344,
           "timepoint": 0.9000000357627869,
           "trajectory": "E_sol",
           "upper": 764.616177368164
          },
          {
           "lower": 745.1845794677735,
           "timepoint": 1,
           "trajectory": "E_sol",
           "upper": 745.1856079101562
          },
          {
           "lower": 726.861865234375,
           "timepoint": 1.100000023841858,
           "trajectory": "E_sol",
           "upper": 726.8629333496094
          },
          {
           "lower": 709.5898193359375,
           "timepoint": 1.2000000476837158,
           "trajectory": "E_sol",
           "upper": 709.590609741211
          },
          {
           "lower": 693.3161499023438,
           "timepoint": 1.3000000715255737,
           "trajectory": "E_sol",
           "upper": 693.3171447753906
          },
          {
           "lower": 677.9917877197265,
           "timepoint": 1.399999976158142,
           "trajectory": "E_sol",
           "upper": 677.9922058105469
          },
          {
           "lower": 663.5674865722656,
           "timepoint": 1.5,
           "trajectory": "E_sol",
           "upper": 663.5683380126953
          },
          {
           "lower": 650.0002716064453,
           "timepoint": 1.600000023841858,
           "trajectory": "E_sol",
           "upper": 650.001171875
          },
          {
           "lower": 637.2460815429688,
           "timepoint": 1.7000000476837158,
           "trajectory": "E_sol",
           "upper": 637.2467712402344
          },
          {
           "lower": 625.2644836425782,
           "timepoint": 1.8000000715255737,
           "trajectory": "E_sol",
           "upper": 625.2657531738281
          },
          {
           "lower": 614.0182556152344,
           "timepoint": 1.899999976158142,
           "trajectory": "E_sol",
           "upper": 614.019076538086
          },
          {
           "lower": 603.4704193115234,
           "timepoint": 2,
           "trajectory": "E_sol",
           "upper": 603.4708251953125
          },
          {
           "lower": 593.5857482910156,
           "timepoint": 2.1000001430511475,
           "trajectory": "E_sol",
           "upper": 593.586376953125
          },
          {
           "lower": 584.3322143554688,
           "timepoint": 2.200000047683716,
           "trajectory": "E_sol",
           "upper": 584.3328094482422
          },
          {
           "lower": 575.6775329589843,
           "timepoint": 2.299999952316284,
           "trajectory": "E_sol",
           "upper": 575.6785369873047
          },
          {
           "lower": 567.5931060791015,
           "timepoint": 2.4000000953674316,
           "trajectory": "E_sol",
           "upper": 567.5938507080078
          },
          {
           "lower": 560.0501586914063,
           "timepoint": 2.5,
           "trajectory": "E_sol",
           "upper": 560.051480102539
          },
          {
           "lower": 553.0225646972656,
           "timepoint": 2.6000001430511475,
           "trajectory": "E_sol",
           "upper": 553.0233215332031
          },
          {
           "lower": 546.4854125976562,
           "timepoint": 2.700000047683716,
           "trajectory": "E_sol",
           "upper": 546.4858856201172
          },
          {
           "lower": 540.4133605957031,
           "timepoint": 2.799999952316284,
           "trajectory": "E_sol",
           "upper": 540.4146331787109
          },
          {
           "lower": 534.7848449707031,
           "timepoint": 2.9000000953674316,
           "trajectory": "E_sol",
           "upper": 534.7858459472657
          },
          {
           "lower": 529.5771850585937,
           "timepoint": 3,
           "trajectory": "E_sol",
           "upper": 529.5789245605469
          },
          {
           "lower": 524.7701416015625,
           "timepoint": 3.1000001430511475,
           "trajectory": "E_sol",
           "upper": 524.7714904785156
          },
          {
           "lower": 520.345458984375,
           "timepoint": 3.200000047683716,
           "trajectory": "E_sol",
           "upper": 520.3466918945312
          },
          {
           "lower": 516.2827514648437,
           "timepoint": 3.299999952316284,
           "trajectory": "E_sol",
           "upper": 516.2836090087891
          },
          {
           "lower": 512.5648406982422,
           "timepoint": 3.4000000953674316,
           "trajectory": "E_sol",
           "upper": 512.5666229248047
          },
          {
           "lower": 509.17783813476564,
           "timepoint": 3.5,
           "trajectory": "E_sol",
           "upper": 509.1786285400391
          },
          {
           "lower": 506.10208587646486,
           "timepoint": 3.6000001430511475,
           "trajectory": "E_sol",
           "upper": 506.1033996582031
          },
          {
           "lower": 503.32486724853516,
           "timepoint": 3.700000047683716,
           "trajectory": "E_sol",
           "upper": 503.32539520263674
          },
          {
           "lower": 500.8307281494141,
           "timepoint": 3.799999952316284,
           "trajectory": "E_sol",
           "upper": 500.8315933227539
          },
          {
           "lower": 498.6074462890625,
           "timepoint": 3.9000000953674316,
           "trajectory": "E_sol",
           "upper": 498.6079467773437
          },
          {
           "lower": 496.6408935546875,
           "timepoint": 4,
           "trajectory": "E_sol",
           "upper": 496.6415771484375
          },
          {
           "lower": 494.91991729736327,
           "timepoint": 4.099999904632568,
           "trajectory": "E_sol",
           "upper": 494.92053375244143
          },
          {
           "lower": 493.4317993164062,
           "timepoint": 4.200000286102295,
           "trajectory": "E_sol",
           "upper": 493.4330032348633
          },
          {
           "lower": 492.1675735473633,
           "timepoint": 4.300000190734863,
           "trajectory": "E_sol",
           "upper": 492.1683349609375
          },
          {
           "lower": 491.11553955078125,
           "timepoint": 4.400000095367432,
           "trajectory": "E_sol",
           "upper": 491.1161148071289
          },
          {
           "lower": 490.26549072265624,
           "timepoint": 4.5,
           "trajectory": "E_sol",
           "upper": 490.2663208007813
          },
          {
           "lower": 489.60843963623046,
           "timepoint": 4.599999904632568,
           "trajectory": "E_sol",
           "upper": 489.6090560913086
          },
          {
           "lower": 489.1363052368164,
           "timepoint": 4.700000286102295,
           "trajectory": "E_sol",
           "upper": 489.1367813110352
          },
          {
           "lower": 488.8395660400391,
           "timepoint": 4.800000190734863,
           "trajectory": "E_sol",
           "upper": 488.8400817871094
          },
          {
           "lower": 488.71071472167966,
           "timepoint": 4.900000095367432,
           "trajectory": "E_sol",
           "upper": 488.711198425293
          },
          {
           "lower": 488.7419769287109,
           "timepoint": 5,
           "trajectory": "E_sol",
           "upper": 488.74281158447263
          },
          {
           "lower": 488.926985168457,
           "timepoint": 5.099999904632568,
           "trajectory": "E_sol",
           "upper": 488.92734375
          },
          {
           "lower": 489.2579177856445,
           "timepoint": 5.200000286102295,
           "trajectory": "E_sol",
           "upper": 489.25877075195314
          },
          {
           "lower": 489.7286209106445,
           "timepoint": 5.300000190734863,
           "trajectory": "E_sol",
           "upper": 489.7296539306641
          },
          {
           "lower": 490.33291015625,
           "timepoint": 5.400000095367432,
           "trajectory": "E_sol",
           "upper": 490.33404541015625
          },
          {
           "lower": 491.06609497070315,
           "timepoint": 5.5,
           "trajectory": "E_sol",
           "upper": 491.0671142578125
          },
          {
           "lower": 491.921044921875,
           "timepoint": 5.599999904632568,
           "trajectory": "E_sol",
           "upper": 491.92138671875
          },
          {
           "lower": 492.89332885742186,
           "timepoint": 5.700000286102295,
           "trajectory": "E_sol",
           "upper": 492.8937240600586
          },
          {
           "lower": 493.9780990600586,
           "timepoint": 5.800000190734863,
           "trajectory": "E_sol",
           "upper": 493.9783630371094
          },
          {
           "lower": 495.17022705078125,
           "timepoint": 5.900000095367432,
           "trajectory": "E_sol",
           "upper": 495.1706604003906
          },
          {
           "lower": 496.4655288696289,
           "timepoint": 6,
           "trajectory": "E_sol",
           "upper": 496.4661636352539
          },
          {
           "lower": 497.85962677001953,
           "timepoint": 6.099999904632568,
           "trajectory": "E_sol",
           "upper": 497.86012573242186
          },
          {
           "lower": 499.34850921630857,
           "timepoint": 6.200000286102295,
           "trajectory": "E_sol",
           "upper": 499.3495300292969
          },
          {
           "lower": 500.9291046142578,
           "timepoint": 6.300000190734863,
           "trajectory": "E_sol",
           "upper": 500.92938537597655
          },
          {
           "lower": 502.5968505859375,
           "timepoint": 6.400000095367432,
           "trajectory": "E_sol",
           "upper": 502.5974609375
          },
          {
           "lower": 504.3486724853516,
           "timepoint": 6.5,
           "trajectory": "E_sol",
           "upper": 504.34925231933596
          },
          {
           "lower": 506.1818145751953,
           "timepoint": 6.599999904632568,
           "trajectory": "E_sol",
           "upper": 506.18219299316405
          },
          {
           "lower": 508.0927261352539,
           "timepoint": 6.700000286102295,
           "trajectory": "E_sol",
           "upper": 508.09310455322264
          },
          {
           "lower": 510.0784545898438,
           "timepoint": 6.800000190734863,
           "trajectory": "E_sol",
           "upper": 510.0790481567383
          },
          {
           "lower": 512.1362518310547,
           "timepoint": 6.900000095367432,
           "trajectory": "E_sol",
           "upper": 512.1368133544922
          },
          {
           "lower": 514.2642486572265,
           "timepoint": 7,
           "trajectory": "E_sol",
           "upper": 514.2645935058594
          },
          {
           "lower": 516.4591278076172,
           "timepoint": 7.099999904632568,
           "trajectory": "E_sol",
           "upper": 516.4595336914062
          },
          {
           "lower": 518.7186889648438,
           "timepoint": 7.200000286102295,
           "trajectory": "E_sol",
           "upper": 518.7194885253906
          },
          {
           "lower": 521.041128540039,
           "timepoint": 7.300000190734863,
           "trajectory": "E_sol",
           "upper": 521.0423370361328
          },
          {
           "lower": 523.4246765136719,
           "timepoint": 7.400000095367432,
           "trajectory": "E_sol",
           "upper": 523.4259002685546
          },
          {
           "lower": 525.8662994384765,
           "timepoint": 7.5,
           "trajectory": "E_sol",
           "upper": 525.8674041748047
          },
          {
           "lower": 528.3646240234375,
           "timepoint": 7.599999904632568,
           "trajectory": "E_sol",
           "upper": 528.365267944336
          },
          {
           "lower": 530.918081665039,
           "timepoint": 7.700000286102295,
           "trajectory": "E_sol",
           "upper": 530.9189178466797
          },
          {
           "lower": 533.5252960205078,
           "timepoint": 7.800000190734863,
           "trajectory": "E_sol",
           "upper": 533.5259521484375
          },
          {
           "lower": 536.1839019775391,
           "timepoint": 7.900000095367432,
           "trajectory": "E_sol",
           "upper": 536.1849609375
          },
          {
           "lower": 538.893276977539,
           "timepoint": 8,
           "trajectory": "E_sol",
           "upper": 538.89375
          },
          {
           "lower": 541.6512390136719,
           "timepoint": 8.100000381469727,
           "trajectory": "E_sol",
           "upper": 541.6519073486328
          },
          {
           "lower": 544.4566925048828,
           "timepoint": 8.199999809265137,
           "trajectory": "E_sol",
           "upper": 544.4572143554688
          },
          {
           "lower": 547.3084594726563,
           "timepoint": 8.300000190734863,
           "trajectory": "E_sol",
           "upper": 547.3091491699219
          },
          {
           "lower": 550.2053649902343,
           "timepoint": 8.40000057220459,
           "trajectory": "E_sol",
           "upper": 550.2064270019531
          },
          {
           "lower": 553.1465667724609,
           "timepoint": 8.5,
           "trajectory": "E_sol",
           "upper": 553.1478942871094
          },
          {
           "lower": 556.1304412841797,
           "timepoint": 8.600000381469727,
           "trajectory": "E_sol",
           "upper": 556.1315826416015
          },
          {
           "lower": 559.15654296875,
           "timepoint": 8.699999809265137,
           "trajectory": "E_sol",
           "upper": 559.1575653076172
          },
          {
           "lower": 562.2233245849609,
           "timepoint": 8.800000190734863,
           "trajectory": "E_sol",
           "upper": 562.2248443603515
          },
          {
           "lower": 565.3310089111328,
           "timepoint": 8.90000057220459,
           "trajectory": "E_sol",
           "upper": 565.3322479248047
          },
          {
           "lower": 568.4775817871093,
           "timepoint": 9,
           "trajectory": "E_sol",
           "upper": 568.4784332275391
          },
          {
           "lower": 571.6629913330078,
           "timepoint": 9.100000381469727,
           "trajectory": "E_sol",
           "upper": 571.6640197753907
          },
          {
           "lower": 574.8860076904297,
           "timepoint": 9.199999809265137,
           "trajectory": "E_sol",
           "upper": 574.8876922607421
          },
          {
           "lower": 578.1461883544922,
           "timepoint": 9.300000190734863,
           "trajectory": "E_sol",
           "upper": 578.1473968505859
          },
          {
           "lower": 581.4432373046875,
           "timepoint": 9.40000057220459,
           "trajectory": "E_sol",
           "upper": 581.4441436767578
          },
          {
           "lower": 584.7760009765625,
           "timepoint": 9.5,
           "trajectory": "E_sol",
           "upper": 584.7772644042968
          },
          {
           "lower": 588.1439819335938,
           "timepoint": 9.600000381469727,
           "trajectory": "E_sol",
           "upper": 588.1445922851562
          },
          {
           "lower": 591.5468017578125,
           "timepoint": 9.699999809265137,
           "trajectory": "E_sol",
           "upper": 591.5475860595703
          },
          {
           "lower": 594.9839233398437,
           "timepoint": 9.800000190734863,
           "trajectory": "E_sol",
           "upper": 594.9850250244141
          },
          {
           "lower": 598.4547576904297,
           "timepoint": 9.90000057220459,
           "trajectory": "E_sol",
           "upper": 598.4561218261719
          },
          {
           "lower": 601.9598358154296,
           "timepoint": 10,
           "trajectory": "E_sol",
           "upper": 601.9608551025391
          },
          {
           "lower": 605.4978118896485,
           "timepoint": 10.100000381469727,
           "trajectory": "E_sol",
           "upper": 605.4987579345703
          },
          {
           "lower": 609.068212890625,
           "timepoint": 10.199999809265137,
           "trajectory": "E_sol",
           "upper": 609.0693267822265
          },
          {
           "lower": 612.6706817626953,
           "timepoint": 10.300000190734863,
           "trajectory": "E_sol",
           "upper": 612.6723388671875
          },
          {
           "lower": 616.3062286376953,
           "timepoint": 10.40000057220459,
           "trajectory": "E_sol",
           "upper": 616.3067962646485
          },
          {
           "lower": 619.9726440429688,
           "timepoint": 10.5,
           "trajectory": "E_sol",
           "upper": 619.9735229492187
          },
          {
           "lower": 623.6704528808593,
           "timepoint": 10.600000381469727,
           "trajectory": "E_sol",
           "upper": 623.67177734375
          },
          {
           "lower": 627.399526977539,
           "timepoint": 10.699999809265137,
           "trajectory": "E_sol",
           "upper": 627.4008514404297
          },
          {
           "lower": 631.1604827880859,
           "timepoint": 10.800000190734863,
           "trajectory": "E_sol",
           "upper": 631.1613494873047
          },
          {
           "lower": 634.9514984130859,
           "timepoint": 10.90000057220459,
           "trajectory": "E_sol",
           "upper": 634.9527099609375
          },
          {
           "lower": 638.7729125976563,
           "timepoint": 11,
           "trajectory": "E_sol",
           "upper": 638.7744079589844
          },
          {
           "lower": 642.6253326416015,
           "timepoint": 11.100000381469727,
           "trajectory": "E_sol",
           "upper": 642.6268890380859
          },
          {
           "lower": 646.5076904296875,
           "timepoint": 11.199999809265137,
           "trajectory": "E_sol",
           "upper": 646.5083953857422
          },
          {
           "lower": 650.4200653076172,
           "timepoint": 11.300000190734863,
           "trajectory": "E_sol",
           "upper": 650.4211212158203
          },
          {
           "lower": 654.3624084472656,
           "timepoint": 11.40000057220459,
           "trajectory": "E_sol",
           "upper": 654.3635437011719
          },
          {
           "lower": 658.3350769042969,
           "timepoint": 11.5,
           "trajectory": "E_sol",
           "upper": 658.3361663818359
          },
          {
           "lower": 662.337451171875,
           "timepoint": 11.600000381469727,
           "trajectory": "E_sol",
           "upper": 662.3380584716797
          },
          {
           "lower": 666.3693176269531,
           "timepoint": 11.699999809265137,
           "trajectory": "E_sol",
           "upper": 666.369906616211
          },
          {
           "lower": 670.4307464599609,
           "timepoint": 11.800000190734863,
           "trajectory": "E_sol",
           "upper": 670.4316528320312
          },
          {
           "lower": 674.5216979980469,
           "timepoint": 11.90000057220459,
           "trajectory": "E_sol",
           "upper": 674.5229736328125
          },
          {
           "lower": 678.6428253173829,
           "timepoint": 12,
           "trajectory": "E_sol",
           "upper": 678.6439849853516
          },
          {
           "lower": 682.7929382324219,
           "timepoint": 12.100000381469727,
           "trajectory": "E_sol",
           "upper": 682.7940734863281
          },
          {
           "lower": 686.9724365234375,
           "timepoint": 12.199999809265137,
           "trajectory": "E_sol",
           "upper": 686.9741333007812
          },
          {
           "lower": 691.1821258544921,
           "timepoint": 12.300000190734863,
           "trajectory": "E_sol",
           "upper": 691.1837951660157
          },
          {
           "lower": 695.4215515136718,
           "timepoint": 12.40000057220459,
           "trajectory": "E_sol",
           "upper": 695.4230194091797
          },
          {
           "lower": 699.6897735595703,
           "timepoint": 12.5,
           "trajectory": "E_sol",
           "upper": 699.6912048339843
          },
          {
           "lower": 703.9876312255859,
           "timepoint": 12.600000381469727,
           "trajectory": "E_sol",
           "upper": 703.9894195556641
          },
          {
           "lower": 708.3149627685547,
           "timepoint": 12.699999809265137,
           "trajectory": "E_sol",
           "upper": 708.3159423828125
          },
          {
           "lower": 712.671923828125,
           "timepoint": 12.800000190734863,
           "trajectory": "E_sol",
           "upper": 712.6732208251954
          },
          {
           "lower": 717.0583984375,
           "timepoint": 12.90000057220459,
           "trajectory": "E_sol",
           "upper": 717.0601623535156
          },
          {
           "lower": 721.474755859375,
           "timepoint": 13,
           "trajectory": "E_sol",
           "upper": 721.4756866455078
          },
          {
           "lower": 725.9206329345703,
           "timepoint": 13.100000381469727,
           "trajectory": "E_sol",
           "upper": 725.9218475341797
          },
          {
           "lower": 730.3960845947265,
           "timepoint": 13.199999809265137,
           "trajectory": "E_sol",
           "upper": 730.3978454589844
          },
          {
           "lower": 734.9024139404297,
           "timepoint": 13.300000190734863,
           "trajectory": "E_sol",
           "upper": 734.9038116455079
          },
          {
           "lower": 739.4377746582031,
           "timepoint": 13.40000057220459,
           "trajectory": "E_sol",
           "upper": 739.4399017333984
          },
          {
           "lower": 744.0035766601562,
           "timepoint": 13.5,
           "trajectory": "E_sol",
           "upper": 744.0051025390625
          },
          {
           "lower": 748.5991333007812,
           "timepoint": 13.600000381469727,
           "trajectory": "E_sol",
           "upper": 748.6003479003906
          },
          {
           "lower": 753.2254241943359,
           "timepoint": 13.699999809265137,
           "trajectory": "E_sol",
           "upper": 753.2262908935547
          },
          {
           "lower": 757.8815795898438,
           "timepoint": 13.800000190734863,
           "trajectory": "E_sol",
           "upper": 757.8825744628906
          },
          {
           "lower": 762.5680297851562,
           "timepoint": 13.90000057220459,
           "trajectory": "E_sol",
           "upper": 762.5693145751953
          },
          {
           "lower": 767.2853820800781,
           "timepoint": 14,
           "trajectory": "E_sol",
           "upper": 767.2864837646484
          },
          {
           "lower": 772.0330230712891,
           "timepoint": 14.100000381469727,
           "trajectory": "E_sol",
           "upper": 772.0340911865235
          },
          {
           "lower": 776.8113311767578,
           "timepoint": 14.199999809265137,
           "trajectory": "E_sol",
           "upper": 776.8125610351562
          },
          {
           "lower": 781.6209716796875,
           "timepoint": 14.300000190734863,
           "trajectory": "E_sol",
           "upper": 781.6219543457031
          },
          {
           "lower": 786.4611694335938,
           "timepoint": 14.40000057220459,
           "trajectory": "E_sol",
           "upper": 786.4623748779297
          },
          {
           "lower": 791.3323791503906,
           "timepoint": 14.5,
           "trajectory": "E_sol",
           "upper": 791.3336578369141
          },
          {
           "lower": 796.2352783203125,
           "timepoint": 14.600000381469727,
           "trajectory": "E_sol",
           "upper": 796.2364135742188
          },
          {
           "lower": 801.1692169189453,
           "timepoint": 14.699999809265137,
           "trajectory": "E_sol",
           "upper": 801.1705291748046
          },
          {
           "lower": 806.1346374511719,
           "timepoint": 14.800000190734863,
           "trajectory": "E_sol",
           "upper": 806.135610961914
          },
          {
           "lower": 811.1317138671875,
           "timepoint": 14.90000057220459,
           "trajectory": "E_sol",
           "upper": 811.1324798583985
          },
          {
           "lower": 816.1604217529297,
           "timepoint": 15,
           "trajectory": "E_sol",
           "upper": 816.1612884521485
          },
          {
           "lower": 821.2212066650391,
           "timepoint": 15.100000381469727,
           "trajectory": "E_sol",
           "upper": 821.2221405029297
          },
          {
           "lower": 826.3143188476563,
           "timepoint": 15.199999809265137,
           "trajectory": "E_sol",
           "upper": 826.3152526855469
          },
          {
           "lower": 831.4394958496093,
           "timepoint": 15.300000190734863,
           "trajectory": "E_sol",
           "upper": 831.4405914306641
          },
          {
           "lower": 836.5971496582031,
           "timepoint": 15.40000057220459,
           "trajectory": "E_sol",
           "upper": 836.5984130859375
          },
          {
           "lower": 841.787158203125,
           "timepoint": 15.5,
           "trajectory": "E_sol",
           "upper": 841.7881317138672
          },
          {
           "lower": 847.0100982666015,
           "timepoint": 15.600000381469727,
           "trajectory": "E_sol",
           "upper": 847.0111206054687
          },
          {
           "lower": 852.2657348632813,
           "timepoint": 15.699999809265137,
           "trajectory": "E_sol",
           "upper": 852.2669189453125
          },
          {
           "lower": 857.5544738769531,
           "timepoint": 15.800000190734863,
           "trajectory": "E_sol",
           "upper": 857.5558258056641
          },
          {
           "lower": 862.8764099121094,
           "timepoint": 15.90000057220459,
           "trajectory": "E_sol",
           "upper": 862.8779754638672
          },
          {
           "lower": 868.2316436767578,
           "timepoint": 16,
           "trajectory": "E_sol",
           "upper": 868.2335052490234
          },
          {
           "lower": 873.6217590332031,
           "timepoint": 16.100000381469727,
           "trajectory": "E_sol",
           "upper": 873.6226928710937
          },
          {
           "lower": 879.0447387695312,
           "timepoint": 16.200000762939453,
           "trajectory": "E_sol",
           "upper": 879.0457214355469
          },
          {
           "lower": 884.5016143798828,
           "timepoint": 16.30000114440918,
           "trajectory": "E_sol",
           "upper": 884.502719116211
          },
          {
           "lower": 889.9926696777344,
           "timepoint": 16.399999618530273,
           "trajectory": "E_sol",
           "upper": 889.9938690185547
          },
          {
           "lower": 895.5180938720703,
           "timepoint": 16.5,
           "trajectory": "E_sol",
           "upper": 895.51953125
          },
          {
           "lower": 901.078091430664,
           "timepoint": 16.600000381469727,
           "trajectory": "E_sol",
           "upper": 901.0789794921875
          },
          {
           "lower": 906.6727783203125,
           "timepoint": 16.700000762939453,
           "trajectory": "E_sol",
           "upper": 906.6736785888672
          },
          {
           "lower": 912.3023895263672,
           "timepoint": 16.80000114440918,
           "trajectory": "E_sol",
           "upper": 912.3033508300781
          },
          {
           "lower": 917.966683959961,
           "timepoint": 16.899999618530273,
           "trajectory": "E_sol",
           "upper": 917.9678802490234
          },
          {
           "lower": 923.666635131836,
           "timepoint": 17,
           "trajectory": "E_sol",
           "upper": 923.6679321289063
          },
          {
           "lower": 929.4020751953125,
           "timepoint": 17.100000381469727,
           "trajectory": "E_sol",
           "upper": 929.4034118652344
          },
          {
           "lower": 935.1731994628906,
           "timepoint": 17.200000762939453,
           "trajectory": "E_sol",
           "upper": 935.1741668701172
          },
          {
           "lower": 940.9802062988281,
           "timepoint": 17.30000114440918,
           "trajectory": "E_sol",
           "upper": 940.981234741211
          },
          {
           "lower": 946.8231964111328,
           "timepoint": 17.399999618530273,
           "trajectory": "E_sol",
           "upper": 946.8243804931641
          },
          {
           "lower": 952.7026916503906,
           "timepoint": 17.5,
           "trajectory": "E_sol",
           "upper": 952.7037750244141
          },
          {
           "lower": 958.6185577392578,
           "timepoint": 17.600000381469727,
           "trajectory": "E_sol",
           "upper": 958.6198303222657
          },
          {
           "lower": 964.5713439941406,
           "timepoint": 17.700000762939453,
           "trajectory": "E_sol",
           "upper": 964.5724822998047
          },
          {
           "lower": 970.5609008789063,
           "timepoint": 17.80000114440918,
           "trajectory": "E_sol",
           "upper": 970.5621734619141
          },
          {
           "lower": 976.5875274658204,
           "timepoint": 17.899999618530273,
           "trajectory": "E_sol",
           "upper": 976.5888732910156
          },
          {
           "lower": 982.651724243164,
           "timepoint": 18,
           "trajectory": "E_sol",
           "upper": 982.6531707763672
          },
          {
           "lower": 988.7533905029297,
           "timepoint": 18.100000381469727,
           "trajectory": "E_sol",
           "upper": 988.7552062988282
          },
          {
           "lower": 994.8937866210938,
           "timepoint": 18.200000762939453,
           "trajectory": "E_sol",
           "upper": 994.8949432373047
          },
          {
           "lower": 1001.0714935302734,
           "timepoint": 18.30000114440918,
           "trajectory": "E_sol",
           "upper": 1001.0726440429687
          },
          {
           "lower": 1007.2872924804688,
           "timepoint": 18.399999618530273,
           "trajectory": "E_sol",
           "upper": 1007.2884704589844
          },
          {
           "lower": 1013.5415588378906,
           "timepoint": 18.5,
           "trajectory": "E_sol",
           "upper": 1013.5428924560547
          },
          {
           "lower": 1019.834683227539,
           "timepoint": 18.600000381469727,
           "trajectory": "E_sol",
           "upper": 1019.8361328125
          },
          {
           "lower": 1026.1664916992188,
           "timepoint": 18.700000762939453,
           "trajectory": "E_sol",
           "upper": 1026.1681030273437
          },
          {
           "lower": 1032.537530517578,
           "timepoint": 18.80000114440918,
           "trajectory": "E_sol",
           "upper": 1032.5395080566407
          },
          {
           "lower": 1038.9481506347656,
           "timepoint": 18.899999618530273,
           "trajectory": "E_sol",
           "upper": 1038.9501403808595
          },
          {
           "lower": 1045.3990234375,
           "timepoint": 19,
           "trajectory": "E_sol",
           "upper": 1045.4004699707032
          },
          {
           "lower": 1051.8891357421876,
           "timepoint": 19.100000381469727,
           "trajectory": "E_sol",
           "upper": 1051.8907470703125
          },
          {
           "lower": 1058.4194213867188,
           "timepoint": 19.200000762939453,
           "trajectory": "E_sol",
           "upper": 1058.4210876464845
          },
          {
           "lower": 1064.9899108886718,
           "timepoint": 19.30000114440918,
           "trajectory": "E_sol",
           "upper": 1064.9915771484375
          },
          {
           "lower": 1071.600927734375,
           "timepoint": 19.399999618530273,
           "trajectory": "E_sol",
           "upper": 1071.6028625488282
          },
          {
           "lower": 1078.2530822753906,
           "timepoint": 19.5,
           "trajectory": "E_sol",
           "upper": 1078.2546508789062
          },
          {
           "lower": 1084.9461853027344,
           "timepoint": 19.600000381469727,
           "trajectory": "E_sol",
           "upper": 1084.9478759765625
          },
          {
           "lower": 1091.6805053710937,
           "timepoint": 19.700000762939453,
           "trajectory": "E_sol",
           "upper": 1091.6822509765625
          },
          {
           "lower": 1098.4563598632812,
           "timepoint": 19.80000114440918,
           "trajectory": "E_sol",
           "upper": 1098.458319091797
          },
          {
           "lower": 1105.2739624023438,
           "timepoint": 19.899999618530273,
           "trajectory": "E_sol",
           "upper": 1105.2760681152345
          },
          {
           "lower": 1112.1338256835938,
           "timepoint": 20,
           "trajectory": "E_sol",
           "upper": 1112.1362426757812
          },
          {
           "lower": 1119.0358581542969,
           "timepoint": 20.100000381469727,
           "trajectory": "E_sol",
           "upper": 1119.0385864257812
          },
          {
           "lower": 1125.98046875,
           "timepoint": 20.200000762939453,
           "trajectory": "E_sol",
           "upper": 1125.9835327148437
          },
          {
           "lower": 1132.9678833007813,
           "timepoint": 20.30000114440918,
           "trajectory": "E_sol",
           "upper": 1132.97119140625
          },
          {
           "lower": 1139.9982421875,
           "timepoint": 20.399999618530273,
           "trajectory": "E_sol",
           "upper": 1140.0018981933595
          },
          {
           "lower": 1147.0739624023438,
           "timepoint": 20.5,
           "trajectory": "E_sol",
           "upper": 1147.0761840820312
          },
          {
           "lower": 1154.191583251953,
           "timepoint": 20.600000381469727,
           "trajectory": "E_sol",
           "upper": 1154.1940612792969
          },
          {
           "lower": 1161.352960205078,
           "timepoint": 20.700000762939453,
           "trajectory": "E_sol",
           "upper": 1161.3555053710938
          },
          {
           "lower": 1168.558447265625,
           "timepoint": 20.80000114440918,
           "trajectory": "E_sol",
           "upper": 1168.5614501953125
          },
          {
           "lower": 1175.8082458496094,
           "timepoint": 20.899999618530273,
           "trajectory": "E_sol",
           "upper": 1175.8116516113282
          },
          {
           "lower": 1183.1027893066407,
           "timepoint": 21,
           "trajectory": "E_sol",
           "upper": 1183.1065307617187
          },
          {
           "lower": 1190.4422546386718,
           "timepoint": 21.100000381469727,
           "trajectory": "E_sol",
           "upper": 1190.4464538574218
          },
          {
           "lower": 1197.8268737792969,
           "timepoint": 21.200000762939453,
           "trajectory": "E_sol",
           "upper": 1197.8315551757812
          },
          {
           "lower": 1205.2583557128905,
           "timepoint": 21.30000114440918,
           "trajectory": "E_sol",
           "upper": 1205.2622436523438
          },
          {
           "lower": 1212.7341857910155,
           "timepoint": 21.399999618530273,
           "trajectory": "E_sol",
           "upper": 1212.7385314941407
          },
          {
           "lower": 1220.2560913085938,
           "timepoint": 21.5,
           "trajectory": "E_sol",
           "upper": 1220.261083984375
          },
          {
           "lower": 1227.8242492675781,
           "timepoint": 21.600000381469727,
           "trajectory": "E_sol",
           "upper": 1227.8298461914062
          },
          {
           "lower": 1235.438983154297,
           "timepoint": 21.700000762939453,
           "trajectory": "E_sol",
           "upper": 1235.4419067382812
          },
          {
           "lower": 1243.1014831542968,
           "timepoint": 21.80000114440918,
           "trajectory": "E_sol",
           "upper": 1243.1037048339845
          },
          {
           "lower": 1250.8102233886718,
           "timepoint": 21.899999618530273,
           "trajectory": "E_sol",
           "upper": 1250.812567138672
          },
          {
           "lower": 1258.56650390625,
           "timepoint": 22,
           "trajectory": "E_sol",
           "upper": 1258.5690368652345
          },
          {
           "lower": 1266.370538330078,
           "timepoint": 22.100000381469727,
           "trajectory": "E_sol",
           "upper": 1266.3731811523437
          },
          {
           "lower": 1274.2225219726563,
           "timepoint": 22.200000762939453,
           "trajectory": "E_sol",
           "upper": 1274.225408935547
          },
          {
           "lower": 1282.1227905273438,
           "timepoint": 22.30000114440918,
           "trajectory": "E_sol",
           "upper": 1282.125799560547
          },
          {
           "lower": 1290.071466064453,
           "timepoint": 22.399999618530273,
           "trajectory": "E_sol",
           "upper": 1290.07451171875
          },
          {
           "lower": 1298.069091796875,
           "timepoint": 22.5,
           "trajectory": "E_sol",
           "upper": 1298.0725036621093
          },
          {
           "lower": 1306.115899658203,
           "timepoint": 22.600000381469727,
           "trajectory": "E_sol",
           "upper": 1306.119580078125
          },
          {
           "lower": 1314.2120788574218,
           "timepoint": 22.700000762939453,
           "trajectory": "E_sol",
           "upper": 1314.2160278320312
          },
          {
           "lower": 1322.3580627441406,
           "timepoint": 22.80000114440918,
           "trajectory": "E_sol",
           "upper": 1322.3624694824218
          },
          {
           "lower": 1330.5537963867187,
           "timepoint": 22.899999618530273,
           "trajectory": "E_sol",
           "upper": 1330.558770751953
          },
          {
           "lower": 1338.8002319335938,
           "timepoint": 23,
           "trajectory": "E_sol",
           "upper": 1338.805487060547
          },
          {
           "lower": 1347.0970275878906,
           "timepoint": 23.100000381469727,
           "trajectory": "E_sol",
           "upper": 1347.1032409667969
          },
          {
           "lower": 1355.4447937011719,
           "timepoint": 23.200000762939453,
           "trajectory": "E_sol",
           "upper": 1355.451641845703
          },
          {
           "lower": 1363.8441589355468,
           "timepoint": 23.30000114440918,
           "trajectory": "E_sol",
           "upper": 1363.8490478515625
          },
          {
           "lower": 1372.2945739746094,
           "timepoint": 23.399999618530273,
           "trajectory": "E_sol",
           "upper": 1372.3000427246093
          },
          {
           "lower": 1380.7970336914063,
           "timepoint": 23.5,
           "trajectory": "E_sol",
           "upper": 1380.8031066894532
          },
          {
           "lower": 1389.3540466308593,
           "timepoint": 23.600000381469727,
           "trajectory": "E_sol",
           "upper": 1389.3581848144531
          },
          {
           "lower": 1397.9612670898437,
           "timepoint": 23.700000762939453,
           "trajectory": "E_sol",
           "upper": 1397.9659301757813
          },
          {
           "lower": 1406.6213439941407,
           "timepoint": 23.80000114440918,
           "trajectory": "E_sol",
           "upper": 1406.6265991210937
          },
          {
           "lower": 1415.3354248046876,
           "timepoint": 23.899999618530273,
           "trajectory": "E_sol",
           "upper": 1415.340069580078
          },
          {
           "lower": 1424.1023254394531,
           "timepoint": 24,
           "trajectory": "E_sol",
           "upper": 1424.1048400878906
          },
          {
           "lower": 1432.9231262207031,
           "timepoint": 24.100000381469727,
           "trajectory": "E_sol",
           "upper": 1432.9255615234374
          },
          {
           "lower": 1441.7978820800781,
           "timepoint": 24.200000762939453,
           "trajectory": "E_sol",
           "upper": 1441.8001831054687
          },
          {
           "lower": 1450.7270263671876,
           "timepoint": 24.30000114440918,
           "trajectory": "E_sol",
           "upper": 1450.7293823242187
          },
          {
           "lower": 1459.7106567382812,
           "timepoint": 24.399999618530273,
           "trajectory": "E_sol",
           "upper": 1459.713134765625
          },
          {
           "lower": 1468.7495971679687,
           "timepoint": 24.5,
           "trajectory": "E_sol",
           "upper": 1468.7524658203124
          },
          {
           "lower": 1477.8441223144532,
           "timepoint": 24.600000381469727,
           "trajectory": "E_sol",
           "upper": 1477.8469482421874
          },
          {
           "lower": 1486.9942687988282,
           "timepoint": 24.700000762939453,
           "trajectory": "E_sol",
           "upper": 1486.9972717285157
          },
          {
           "lower": 1496.200390625,
           "timepoint": 24.80000114440918,
           "trajectory": "E_sol",
           "upper": 1496.203515625
          },
          {
           "lower": 1505.462841796875,
           "timepoint": 24.899999618530273,
           "trajectory": "E_sol",
           "upper": 1505.465966796875
          },
          {
           "lower": 1514.7821228027344,
           "timepoint": 25,
           "trajectory": "E_sol",
           "upper": 1514.785546875
          },
          {
           "lower": 1524.1589111328126,
           "timepoint": 25.100000381469727,
           "trajectory": "E_sol",
           "upper": 1524.162176513672
          },
          {
           "lower": 1533.5928161621093,
           "timepoint": 25.200000762939453,
           "trajectory": "E_sol",
           "upper": 1533.5963134765625
          },
          {
           "lower": 1543.0844604492188,
           "timepoint": 25.30000114440918,
           "trajectory": "E_sol",
           "upper": 1543.0880920410157
          },
          {
           "lower": 1552.633966064453,
           "timepoint": 25.399999618530273,
           "trajectory": "E_sol",
           "upper": 1552.6381408691407
          },
          {
           "lower": 1562.2420532226563,
           "timepoint": 25.5,
           "trajectory": "E_sol",
           "upper": 1562.246630859375
          },
          {
           "lower": 1571.9091003417968,
           "timepoint": 25.600000381469727,
           "trajectory": "E_sol",
           "upper": 1571.9141235351562
          },
          {
           "lower": 1581.6352844238281,
           "timepoint": 25.700000762939453,
           "trajectory": "E_sol",
           "upper": 1581.6392883300782
          },
          {
           "lower": 1591.4216613769531,
           "timepoint": 25.80000114440918,
           "trajectory": "E_sol",
           "upper": 1591.4250549316407
          },
          {
           "lower": 1601.2672424316406,
           "timepoint": 25.899999618530273,
           "trajectory": "E_sol",
           "upper": 1601.2705139160157
          },
          {
           "lower": 1611.1730590820312,
           "timepoint": 26,
           "trajectory": "E_sol",
           "upper": 1611.176611328125
          },
          {
           "lower": 1621.1396118164062,
           "timepoint": 26.100000381469727,
           "trajectory": "E_sol",
           "upper": 1621.1432189941406
          },
          {
           "lower": 1631.1670227050781,
           "timepoint": 26.200000762939453,
           "trajectory": "E_sol",
           "upper": 1631.1708068847656
          },
          {
           "lower": 1641.2557556152344,
           "timepoint": 26.30000114440918,
           "trajectory": "E_sol",
           "upper": 1641.2597961425781
          },
          {
           "lower": 1651.4059143066406,
           "timepoint": 26.399999618530273,
           "trajectory": "E_sol",
           "upper": 1651.4101989746093
          },
          {
           "lower": 1661.6184387207031,
           "timepoint": 26.5,
           "trajectory": "E_sol",
           "upper": 1661.6229248046875
          },
          {
           "lower": 1671.8931091308593,
           "timepoint": 26.600000381469727,
           "trajectory": "E_sol",
           "upper": 1671.898016357422
          },
          {
           "lower": 1682.230712890625,
           "timepoint": 26.700000762939453,
           "trajectory": "E_sol",
           "upper": 1682.2348327636719
          },
          {
           "lower": 1692.6321411132812,
           "timepoint": 26.80000114440918,
           "trajectory": "E_sol",
           "upper": 1692.6358337402344
          },
          {
           "lower": 1703.0962524414062,
           "timepoint": 26.899999618530273,
           "trajectory": "E_sol",
           "upper": 1703.1003112792969
          },
          {
           "lower": 1713.624560546875,
           "timepoint": 27,
           "trajectory": "E_sol",
           "upper": 1713.6286865234374
          },
          {
           "lower": 1724.217266845703,
           "timepoint": 27.100000381469727,
           "trajectory": "E_sol",
           "upper": 1724.2215148925782
          },
          {
           "lower": 1734.8752197265626,
           "timepoint": 27.200000762939453,
           "trajectory": "E_sol",
           "upper": 1734.879052734375
          },
          {
           "lower": 1745.59775390625,
           "timepoint": 27.30000114440918,
           "trajectory": "E_sol",
           "upper": 1745.6016418457032
          },
          {
           "lower": 1756.3854858398438,
           "timepoint": 27.399999618530273,
           "trajectory": "E_sol",
           "upper": 1756.3895385742187
          },
          {
           "lower": 1767.2391357421875,
           "timepoint": 27.5,
           "trajectory": "E_sol",
           "upper": 1767.2433532714845
          },
          {
           "lower": 1778.159112548828,
           "timepoint": 27.600000381469727,
           "trajectory": "E_sol",
           "upper": 1778.16357421875
          },
          {
           "lower": 1789.145928955078,
           "timepoint": 27.700000762939453,
           "trajectory": "E_sol",
           "upper": 1789.1503356933595
          },
          {
           "lower": 1800.199639892578,
           "timepoint": 27.80000114440918,
           "trajectory": "E_sol",
           "upper": 1800.204168701172
          },
          {
           "lower": 1811.3205444335938,
           "timepoint": 27.899999618530273,
           "trajectory": "E_sol",
           "upper": 1811.3253295898437
          },
          {
           "lower": 1822.5096862792968,
           "timepoint": 28,
           "trajectory": "E_sol",
           "upper": 1822.51455078125
          },
          {
           "lower": 1833.7668334960938,
           "timepoint": 28.100000381469727,
           "trajectory": "E_sol",
           "upper": 1833.772119140625
          },
          {
           "lower": 1845.092529296875,
           "timepoint": 28.200000762939453,
           "trajectory": "E_sol",
           "upper": 1845.0974182128907
          },
          {
           "lower": 1856.487237548828,
           "timepoint": 28.30000114440918,
           "trajectory": "E_sol",
           "upper": 1856.4923828125
          },
          {
           "lower": 1867.9511474609376,
           "timepoint": 28.399999618530273,
           "trajectory": "E_sol",
           "upper": 1867.9557006835937
          },
          {
           "lower": 1879.4850158691406,
           "timepoint": 28.5,
           "trajectory": "E_sol",
           "upper": 1879.48974609375
          },
          {
           "lower": 1891.089373779297,
           "timepoint": 28.600000381469727,
           "trajectory": "E_sol",
           "upper": 1891.0944396972657
          },
          {
           "lower": 1902.7642883300782,
           "timepoint": 28.700000762939453,
           "trajectory": "E_sol",
           "upper": 1902.7698547363282
          },
          {
           "lower": 1914.510302734375,
           "timepoint": 28.80000114440918,
           "trajectory": "E_sol",
           "upper": 1914.5170837402343
          },
          {
           "lower": 1926.3298095703126,
           "timepoint": 28.899999618530273,
           "trajectory": "E_sol",
           "upper": 1926.3348876953125
          },
          {
           "lower": 1938.2196228027344,
           "timepoint": 29,
           "trajectory": "E_sol",
           "upper": 1938.224835205078
          },
          {
           "lower": 1950.1817687988282,
           "timepoint": 29.100000381469727,
           "trajectory": "E_sol",
           "upper": 1950.1873596191406
          },
          {
           "lower": 1962.2167114257813,
           "timepoint": 29.200000762939453,
           "trajectory": "E_sol",
           "upper": 1962.2225708007813
          },
          {
           "lower": 1974.3266540527343,
           "timepoint": 29.30000114440918,
           "trajectory": "E_sol",
           "upper": 1974.3310791015624
          },
          {
           "lower": 1986.5085388183593,
           "timepoint": 29.399999618530273,
           "trajectory": "E_sol",
           "upper": 1986.5130187988282
          },
          {
           "lower": 1998.7647094726562,
           "timepoint": 29.5,
           "trajectory": "E_sol",
           "upper": 1998.7693664550782
          },
          {
           "lower": 2011.0955322265625,
           "timepoint": 29.600000381469727,
           "trajectory": "E_sol",
           "upper": 2011.100341796875
          },
          {
           "lower": 2023.5011840820312,
           "timepoint": 29.700000762939453,
           "trajectory": "E_sol",
           "upper": 2023.5061157226562
          },
          {
           "lower": 2035.9824523925781,
           "timepoint": 29.80000114440918,
           "trajectory": "E_sol",
           "upper": 2035.9877380371095
          },
          {
           "lower": 2048.539306640625,
           "timepoint": 29.899999618530273,
           "trajectory": "E_sol",
           "upper": 2048.5450805664063
          },
          {
           "lower": 2061.172473144531,
           "timepoint": 30,
           "trajectory": "E_sol",
           "upper": 2061.1779174804688
          },
          {
           "lower": 2073.8824096679687,
           "timepoint": 30.100000381469727,
           "trajectory": "E_sol",
           "upper": 2073.8881713867186
          },
          {
           "lower": 2086.6701171875,
           "timepoint": 30.200000762939453,
           "trajectory": "E_sol",
           "upper": 2086.675817871094
          },
          {
           "lower": 2099.535107421875,
           "timepoint": 30.30000114440918,
           "trajectory": "E_sol",
           "upper": 2099.5390625
          },
          {
           "lower": 2112.4779296875,
           "timepoint": 30.399999618530273,
           "trajectory": "E_sol",
           "upper": 2112.482312011719
          },
          {
           "lower": 2125.4996337890625,
           "timepoint": 30.5,
           "trajectory": "E_sol",
           "upper": 2125.504150390625
          },
          {
           "lower": 2138.6002197265625,
           "timepoint": 30.600000381469727,
           "trajectory": "E_sol",
           "upper": 2138.6052490234374
          },
          {
           "lower": 2151.7804565429688,
           "timepoint": 30.700000762939453,
           "trajectory": "E_sol",
           "upper": 2151.785888671875
          },
          {
           "lower": 2165.0406860351563,
           "timepoint": 30.80000114440918,
           "trajectory": "E_sol",
           "upper": 2165.046520996094
          },
          {
           "lower": 2178.380749511719,
           "timepoint": 30.899999618530273,
           "trajectory": "E_sol",
           "upper": 2178.387585449219
          },
          {
           "lower": 2191.8058837890626,
           "timepoint": 31,
           "trajectory": "E_sol",
           "upper": 2191.8103759765627
          },
          {
           "lower": 2205.3093017578126,
           "timepoint": 31.100000381469727,
           "trajectory": "E_sol",
           "upper": 2205.3139038085938
          },
          {
           "lower": 2218.8946166992187,
           "timepoint": 31.200000762939453,
           "trajectory": "E_sol",
           "upper": 2218.8993530273438
          },
          {
           "lower": 2232.5622314453126,
           "timepoint": 31.30000114440918,
           "trajectory": "E_sol",
           "upper": 2232.5671875
          },
          {
           "lower": 2246.3125854492187,
           "timepoint": 31.399999618530273,
           "trajectory": "E_sol",
           "upper": 2246.3175659179688
          },
          {
           "lower": 2260.145947265625,
           "timepoint": 31.5,
           "trajectory": "E_sol",
           "upper": 2260.15166015625
          },
          {
           "lower": 2274.063671875,
           "timepoint": 31.600000381469727,
           "trajectory": "E_sol",
           "upper": 2274.0694946289063
          },
          {
           "lower": 2288.0655151367187,
           "timepoint": 31.700000762939453,
           "trajectory": "E_sol",
           "upper": 2288.0716918945313
          },
          {
           "lower": 2302.1525390625,
           "timepoint": 31.80000114440918,
           "trajectory": "E_sol",
           "upper": 2302.158825683594
          },
          {
           "lower": 2316.3243041992187,
           "timepoint": 31.899999618530273,
           "trajectory": "E_sol",
           "upper": 2316.330810546875
          },
          {
           "lower": 2330.58271484375,
           "timepoint": 32,
           "trajectory": "E_sol",
           "upper": 2330.5892700195313
          },
          {
           "lower": 2344.9274169921873,
           "timepoint": 32.10000228881836,
           "trajectory": "E_sol",
           "upper": 2344.93388671875
          },
          {
           "lower": 2359.358349609375,
           "timepoint": 32.20000076293945,
           "trajectory": "E_sol",
           "upper": 2359.365197753906
          },
          {
           "lower": 2373.876416015625,
           "timepoint": 32.29999923706055,
           "trajectory": "E_sol",
           "upper": 2373.8837768554686
          },
          {
           "lower": 2388.4832397460937,
           "timepoint": 32.400001525878906,
           "trajectory": "E_sol",
           "upper": 2388.490869140625
          },
          {
           "lower": 2403.1773315429687,
           "timepoint": 32.5,
           "trajectory": "E_sol",
           "upper": 2403.1830200195313
          },
          {
           "lower": 2417.9609130859376,
           "timepoint": 32.60000228881836,
           "trajectory": "E_sol",
           "upper": 2417.9670654296874
          },
          {
           "lower": 2432.833361816406,
           "timepoint": 32.70000076293945,
           "trajectory": "E_sol",
           "upper": 2432.839733886719
          },
          {
           "lower": 2447.7958740234376,
           "timepoint": 32.79999923706055,
           "trajectory": "E_sol",
           "upper": 2447.8027587890624
          },
          {
           "lower": 2462.8494506835937,
           "timepoint": 32.900001525878906,
           "trajectory": "E_sol",
           "upper": 2462.8578247070313
          },
          {
           "lower": 2477.9946411132814,
           "timepoint": 33,
           "trajectory": "E_sol",
           "upper": 2478.002197265625
          },
          {
           "lower": 2493.2305908203125,
           "timepoint": 33.10000228881836,
           "trajectory": "E_sol",
           "upper": 2493.2376220703127
          },
          {
           "lower": 2508.5581176757814,
           "timepoint": 33.20000076293945,
           "trajectory": "E_sol",
           "upper": 2508.565393066406
          },
          {
           "lower": 2523.9781494140625,
           "timepoint": 33.29999923706055,
           "trajectory": "E_sol",
           "upper": 2523.9859130859377
          },
          {
           "lower": 2539.4917114257814,
           "timepoint": 33.400001525878906,
           "trajectory": "E_sol",
           "upper": 2539.500048828125
          },
          {
           "lower": 2555.0986450195314,
           "timepoint": 33.5,
           "trajectory": "E_sol",
           "upper": 2555.1072265625
          },
          {
           "lower": 2570.80126953125,
           "timepoint": 33.60000228881836,
           "trajectory": "E_sol",
           "upper": 2570.8094848632813
          },
          {
           "lower": 2586.59716796875,
           "timepoint": 33.70000076293945,
           "trajectory": "E_sol",
           "upper": 2586.605712890625
          },
          {
           "lower": 2602.4880126953126,
           "timepoint": 33.79999923706055,
           "trajectory": "E_sol",
           "upper": 2602.4974731445313
          },
          {
           "lower": 2618.475537109375,
           "timepoint": 33.900001525878906,
           "trajectory": "E_sol",
           "upper": 2618.4857543945313
          },
          {
           "lower": 2634.5586791992187,
           "timepoint": 34,
           "trajectory": "E_sol",
           "upper": 2634.567333984375
          },
          {
           "lower": 2650.740515136719,
           "timepoint": 34.10000228881836,
           "trajectory": "E_sol",
           "upper": 2650.7483764648437
          },
          {
           "lower": 2667.018591308594,
           "timepoint": 34.20000076293945,
           "trajectory": "E_sol",
           "upper": 2667.026477050781
          },
          {
           "lower": 2683.394567871094,
           "timepoint": 34.29999923706055,
           "trajectory": "E_sol",
           "upper": 2683.402966308594
          },
          {
           "lower": 2699.86953125,
           "timepoint": 34.400001525878906,
           "trajectory": "E_sol",
           "upper": 2699.8787109375
          },
          {
           "lower": 2716.443151855469,
           "timepoint": 34.5,
           "trajectory": "E_sol",
           "upper": 2716.4529541015627
          },
          {
           "lower": 2733.117224121094,
           "timepoint": 34.60000228881836,
           "trajectory": "E_sol",
           "upper": 2733.1276733398436
          },
          {
           "lower": 2749.89052734375,
           "timepoint": 34.70000076293945,
           "trajectory": "E_sol",
           "upper": 2749.9022705078123
          },
          {
           "lower": 2766.7652587890625,
           "timepoint": 34.79999923706055,
           "trajectory": "E_sol",
           "upper": 2766.7741577148436
          },
          {
           "lower": 2783.741796875,
           "timepoint": 34.900001525878906,
           "trajectory": "E_sol",
           "upper": 2783.7513427734375
          },
          {
           "lower": 2800.819921875,
           "timepoint": 35,
           "trajectory": "E_sol",
           "upper": 2800.8300903320314
          },
          {
           "lower": 2818.001513671875,
           "timepoint": 35.10000228881836,
           "trajectory": "E_sol",
           "upper": 2818.012109375
          },
          {
           "lower": 2835.2867431640625,
           "timepoint": 35.20000076293945,
           "trajectory": "E_sol",
           "upper": 2835.296533203125
          },
          {
           "lower": 2852.6746337890627,
           "timepoint": 35.29999923706055,
           "trajectory": "E_sol",
           "upper": 2852.6852905273436
          },
          {
           "lower": 2870.1677490234374,
           "timepoint": 35.400001525878906,
           "trajectory": "E_sol",
           "upper": 2870.1793212890625
          },
          {
           "lower": 2887.7696533203125,
           "timepoint": 35.5,
           "trajectory": "E_sol",
           "upper": 2887.77763671875
          },
          {
           "lower": 2905.4742431640625,
           "timepoint": 35.60000228881836,
           "trajectory": "E_sol",
           "upper": 2905.482421875
          },
          {
           "lower": 2923.2841918945314,
           "timepoint": 35.70000076293945,
           "trajectory": "E_sol",
           "upper": 2923.2929931640624
          },
          {
           "lower": 2941.2011840820314,
           "timepoint": 35.79999923706055,
           "trajectory": "E_sol",
           "upper": 2941.2105224609377
          },
          {
           "lower": 2959.2263305664064,
           "timepoint": 35.900001525878906,
           "trajectory": "E_sol",
           "upper": 2959.2334106445314
          },
          {
           "lower": 2977.359033203125,
           "timepoint": 36,
           "trajectory": "E_sol",
           "upper": 2977.3659790039064
          },
          {
           "lower": 2995.6006469726562,
           "timepoint": 36.10000228881836,
           "trajectory": "E_sol",
           "upper": 2995.6078979492186
          },
          {
           "lower": 3013.9513427734373,
           "timepoint": 36.20000076293945,
           "trajectory": "E_sol",
           "upper": 3013.9585693359377
          },
          {
           "lower": 3032.4121704101562,
           "timepoint": 36.29999923706055,
           "trajectory": "E_sol",
           "upper": 3032.4193725585938
          },
          {
           "lower": 3050.984326171875,
           "timepoint": 36.400001525878906,
           "trajectory": "E_sol",
           "upper": 3050.9913696289063
          },
          {
           "lower": 3069.66669921875,
           "timepoint": 36.5,
           "trajectory": "E_sol",
           "upper": 3069.673828125
          },
          {
           "lower": 3088.4621337890626,
           "timepoint": 36.60000228881836,
           "trajectory": "E_sol",
           "upper": 3088.469372558594
          },
          {
           "lower": 3107.368896484375,
           "timepoint": 36.70000076293945,
           "trajectory": "E_sol",
           "upper": 3107.376599121094
          },
          {
           "lower": 3126.389025878906,
           "timepoint": 36.79999923706055,
           "trajectory": "E_sol",
           "upper": 3126.398962402344
          },
          {
           "lower": 3145.5239013671876,
           "timepoint": 36.900001525878906,
           "trajectory": "E_sol",
           "upper": 3145.53408203125
          },
          {
           "lower": 3164.77216796875,
           "timepoint": 37,
           "trajectory": "E_sol",
           "upper": 3164.782995605469
          },
          {
           "lower": 3184.138220214844,
           "timepoint": 37.10000228881836,
           "trajectory": "E_sol",
           "upper": 3184.147607421875
          },
          {
           "lower": 3203.617822265625,
           "timepoint": 37.20000076293945,
           "trajectory": "E_sol",
           "upper": 3203.62734375
          },
          {
           "lower": 3223.213903808594,
           "timepoint": 37.29999923706055,
           "trajectory": "E_sol",
           "upper": 3223.2237548828125
          },
          {
           "lower": 3242.927880859375,
           "timepoint": 37.400001525878906,
           "trajectory": "E_sol",
           "upper": 3242.9378662109375
          },
          {
           "lower": 3262.7586303710937,
           "timepoint": 37.5,
           "trajectory": "E_sol",
           "upper": 3262.7690307617186
          },
          {
           "lower": 3282.7084716796876,
           "timepoint": 37.60000228881836,
           "trajectory": "E_sol",
           "upper": 3282.719445800781
          },
          {
           "lower": 3302.777099609375,
           "timepoint": 37.70000076293945,
           "trajectory": "E_sol",
           "upper": 3302.7884887695313
          },
          {
           "lower": 3322.9650634765626,
           "timepoint": 37.79999923706055,
           "trajectory": "E_sol",
           "upper": 3322.97705078125
          },
          {
           "lower": 3343.27626953125,
           "timepoint": 37.900001525878906,
           "trajectory": "E_sol",
           "upper": 3343.2872924804688
          },
          {
           "lower": 3363.705847167969,
           "timepoint": 38,
           "trajectory": "E_sol",
           "upper": 3363.7162475585938
          },
          {
           "lower": 3384.258581542969,
           "timepoint": 38.10000228881836,
           "trajectory": "E_sol",
           "upper": 3384.2689575195313
          },
          {
           "lower": 3404.9327880859373,
           "timepoint": 38.20000076293945,
           "trajectory": "E_sol",
           "upper": 3404.943603515625
          },
          {
           "lower": 3425.7302856445312,
           "timepoint": 38.29999923706055,
           "trajectory": "E_sol",
           "upper": 3425.7413696289063
          },
          {
           "lower": 3446.6523193359376,
           "timepoint": 38.400001525878906,
           "trajectory": "E_sol",
           "upper": 3446.6624755859375
          },
          {
           "lower": 3467.698107910156,
           "timepoint": 38.5,
           "trajectory": "E_sol",
           "upper": 3467.7086181640625
          },
          {
           "lower": 3488.869982910156,
           "timepoint": 38.60000228881836,
           "trajectory": "E_sol",
           "upper": 3488.8810913085936
          },
          {
           "lower": 3510.1672119140626,
           "timepoint": 38.70000076293945,
           "trajectory": "E_sol",
           "upper": 3510.1798828125
          },
          {
           "lower": 3531.5930053710936,
           "timepoint": 38.79999923706055,
           "trajectory": "E_sol",
           "upper": 3531.604443359375
          },
          {
           "lower": 3553.145361328125,
           "timepoint": 38.900001525878906,
           "trajectory": "E_sol",
           "upper": 3553.1572875976562
          },
          {
           "lower": 3574.8251831054686,
           "timepoint": 39,
           "trajectory": "E_sol",
           "upper": 3574.83759765625
          },
          {
           "lower": 3596.634484863281,
           "timepoint": 39.10000228881836,
           "trajectory": "E_sol",
           "upper": 3596.6476318359373
          },
          {
           "lower": 3618.572717285156,
           "timepoint": 39.20000076293945,
           "trajectory": "E_sol",
           "upper": 3618.5863525390623
          },
          {
           "lower": 3640.6427978515626,
           "timepoint": 39.29999923706055,
           "trajectory": "E_sol",
           "upper": 3640.6555297851564
          },
          {
           "lower": 3662.8433471679687,
           "timepoint": 39.400001525878906,
           "trajectory": "E_sol",
           "upper": 3662.8566772460936
          },
          {
           "lower": 3685.1748901367187,
           "timepoint": 39.5,
           "trajectory": "E_sol",
           "upper": 3685.1887084960936
          },
          {
           "lower": 3707.639929199219,
           "timepoint": 39.60000228881836,
           "trajectory": "E_sol",
           "upper": 3707.654345703125
          },
          {
           "lower": 3730.2370727539064,
           "timepoint": 39.70000076293945,
           "trajectory": "E_sol",
           "upper": 3730.252331542969
          },
          {
           "lower": 3752.9683349609377,
           "timepoint": 39.79999923706055,
           "trajectory": "E_sol",
           "upper": 3752.98466796875
          },
          {
           "lower": 3775.8351196289063,
           "timepoint": 39.900001525878906,
           "trajectory": "E_sol",
           "upper": 3775.8521484375
          },
          {
           "lower": 3798.8406982421875,
           "timepoint": 40,
           "trajectory": "E_sol",
           "upper": 3798.855017089844
          },
          {
           "lower": 3821.9791259765625,
           "timepoint": 40.099998474121094,
           "trajectory": "E_sol",
           "upper": 3821.994006347656
          },
          {
           "lower": 3845.2554931640625,
           "timepoint": 40.20000076293945,
           "trajectory": "E_sol",
           "upper": 3845.2663452148436
          },
          {
           "lower": 3868.668420410156,
           "timepoint": 40.29999923706055,
           "trajectory": "E_sol",
           "upper": 3868.679541015625
          },
          {
           "lower": 3892.2202880859377,
           "timepoint": 40.39999771118164,
           "trajectory": "E_sol",
           "upper": 3892.231408691406
          },
          {
           "lower": 3915.9125366210938,
           "timepoint": 40.5,
           "trajectory": "E_sol",
           "upper": 3915.9236328125
          },
          {
           "lower": 3939.7439208984374,
           "timepoint": 40.599998474121094,
           "trajectory": "E_sol",
           "upper": 3939.7550415039063
          },
          {
           "lower": 3963.716796875,
           "timepoint": 40.70000076293945,
           "trajectory": "E_sol",
           "upper": 3963.7307983398437
          },
          {
           "lower": 3987.8303466796874,
           "timepoint": 40.79999923706055,
           "trajectory": "E_sol",
           "upper": 3987.8448120117187
          },
          {
           "lower": 4012.087109375,
           "timepoint": 40.89999771118164,
           "trajectory": "E_sol",
           "upper": 4012.1016479492187
          },
          {
           "lower": 4036.4877197265623,
           "timepoint": 41,
           "trajectory": "E_sol",
           "upper": 4036.5029296875
          },
          {
           "lower": 4061.0316162109375,
           "timepoint": 41.099998474121094,
           "trajectory": "E_sol",
           "upper": 4061.047253417969
          },
          {
           "lower": 4085.720910644531,
           "timepoint": 41.20000076293945,
           "trajectory": "E_sol",
           "upper": 4085.7373291015624
          },
          {
           "lower": 4110.5583984375,
           "timepoint": 41.29999923706055,
           "trajectory": "E_sol",
           "upper": 4110.5720703125
          },
          {
           "lower": 4135.53935546875,
           "timepoint": 41.39999771118164,
           "trajectory": "E_sol",
           "upper": 4135.553784179688
          },
          {
           "lower": 4160.66875,
           "timepoint": 41.5,
           "trajectory": "E_sol",
           "upper": 4160.683666992188
          },
          {
           "lower": 4185.945068359375,
           "timepoint": 41.599998474121094,
           "trajectory": "E_sol",
           "upper": 4185.961279296875
          },
          {
           "lower": 4211.372045898437,
           "timepoint": 41.70000076293945,
           "trajectory": "E_sol",
           "upper": 4211.388256835938
          },
          {
           "lower": 4236.947509765625,
           "timepoint": 41.79999923706055,
           "trajectory": "E_sol",
           "upper": 4236.964208984375
          },
          {
           "lower": 4262.6715087890625,
           "timepoint": 41.89999771118164,
           "trajectory": "E_sol",
           "upper": 4262.6910400390625
          },
          {
           "lower": 4288.549755859375,
           "timepoint": 42,
           "trajectory": "E_sol",
           "upper": 4288.570166015625
          },
          {
           "lower": 4314.579052734375,
           "timepoint": 42.099998474121094,
           "trajectory": "E_sol",
           "upper": 4314.6011962890625
          },
          {
           "lower": 4340.762646484375,
           "timepoint": 42.20000076293945,
           "trajectory": "E_sol",
           "upper": 4340.782299804688
          },
          {
           "lower": 4367.099340820312,
           "timepoint": 42.29999923706055,
           "trajectory": "E_sol",
           "upper": 4367.11953125
          },
          {
           "lower": 4393.590063476562,
           "timepoint": 42.39999771118164,
           "trajectory": "E_sol",
           "upper": 4393.612084960938
          },
          {
           "lower": 4420.238012695312,
           "timepoint": 42.5,
           "trajectory": "E_sol",
           "upper": 4420.261059570313
          },
          {
           "lower": 4447.040966796875,
           "timepoint": 42.599998474121094,
           "trajectory": "E_sol",
           "upper": 4447.055151367187
          },
          {
           "lower": 4474.002124023437,
           "timepoint": 42.70000076293945,
           "trajectory": "E_sol",
           "upper": 4474.016845703125
          },
          {
           "lower": 4501.120776367187,
           "timepoint": 42.79999923706055,
           "trajectory": "E_sol",
           "upper": 4501.13544921875
          },
          {
           "lower": 4528.398608398437,
           "timepoint": 42.89999771118164,
           "trajectory": "E_sol",
           "upper": 4528.413720703125
          },
          {
           "lower": 4555.8375244140625,
           "timepoint": 43,
           "trajectory": "E_sol",
           "upper": 4555.8517578125
          },
          {
           "lower": 4583.434912109375,
           "timepoint": 43.099998474121094,
           "trajectory": "E_sol",
           "upper": 4583.4500732421875
          },
          {
           "lower": 4611.193798828125,
           "timepoint": 43.20000076293945,
           "trajectory": "E_sol",
           "upper": 4611.2113037109375
          },
          {
           "lower": 4639.115942382812,
           "timepoint": 43.29999923706055,
           "trajectory": "E_sol",
           "upper": 4639.1333984375
          },
          {
           "lower": 4667.20166015625,
           "timepoint": 43.39999771118164,
           "trajectory": "E_sol",
           "upper": 4667.219067382813
          },
          {
           "lower": 4695.4521484375,
           "timepoint": 43.5,
           "trajectory": "E_sol",
           "upper": 4695.4697265625
          },
          {
           "lower": 4723.867407226562,
           "timepoint": 43.599998474121094,
           "trajectory": "E_sol",
           "upper": 4723.883618164063
          },
          {
           "lower": 4752.451025390625,
           "timepoint": 43.70000076293945,
           "trajectory": "E_sol",
           "upper": 4752.465600585938
          },
          {
           "lower": 4781.199609375,
           "timepoint": 43.79999923706055,
           "trajectory": "E_sol",
           "upper": 4781.21396484375
          },
          {
           "lower": 4810.1153564453125,
           "timepoint": 43.89999771118164,
           "trajectory": "E_sol",
           "upper": 4810.1302490234375
          },
          {
           "lower": 4839.201513671875,
           "timepoint": 44,
           "trajectory": "E_sol",
           "upper": 4839.216772460937
          },
          {
           "lower": 4868.4561767578125,
           "timepoint": 44.099998474121094,
           "trajectory": "E_sol",
           "upper": 4868.468798828125
          },
          {
           "lower": 4897.8829345703125,
           "timepoint": 44.20000076293945,
           "trajectory": "E_sol",
           "upper": 4897.895556640625
          },
          {
           "lower": 4927.47939453125,
           "timepoint": 44.29999923706055,
           "trajectory": "E_sol",
           "upper": 4927.492236328125
          },
          {
           "lower": 4957.2484375,
           "timepoint": 44.39999771118164,
           "trajectory": "E_sol",
           "upper": 4957.261328125
          },
          {
           "lower": 4987.19228515625,
           "timepoint": 44.5,
           "trajectory": "E_sol",
           "upper": 4987.2087890625
          },
          {
           "lower": 5017.308764648437,
           "timepoint": 44.599998474121094,
           "trajectory": "E_sol",
           "upper": 5017.3259765625
          },
          {
           "lower": 5047.601733398437,
           "timepoint": 44.70000076293945,
           "trajectory": "E_sol",
           "upper": 5047.6189453125
          },
          {
           "lower": 5078.070483398437,
           "timepoint": 44.79999923706055,
           "trajectory": "E_sol",
           "upper": 5078.087158203125
          },
          {
           "lower": 5108.715063476562,
           "timepoint": 44.89999771118164,
           "trajectory": "E_sol",
           "upper": 5108.732666015625
          },
          {
           "lower": 5139.539501953125,
           "timepoint": 45,
           "trajectory": "E_sol",
           "upper": 5139.55732421875
          },
          {
           "lower": 5170.539794921875,
           "timepoint": 45.099998474121094,
           "trajectory": "E_sol",
           "upper": 5170.560205078125
          },
          {
           "lower": 5201.72294921875,
           "timepoint": 45.20000076293945,
           "trajectory": "E_sol",
           "upper": 5201.743969726563
          },
          {
           "lower": 5233.085961914063,
           "timepoint": 45.29999923706055,
           "trajectory": "E_sol",
           "upper": 5233.107690429688
          },
          {
           "lower": 5264.631103515625,
           "timepoint": 45.39999771118164,
           "trajectory": "E_sol",
           "upper": 5264.651513671875
          },
          {
           "lower": 5296.3591796875,
           "timepoint": 45.5,
           "trajectory": "E_sol",
           "upper": 5296.380688476563
          },
          {
           "lower": 5328.27080078125,
           "timepoint": 45.599998474121094,
           "trajectory": "E_sol",
           "upper": 5328.292260742188
          },
          {
           "lower": 5360.367700195313,
           "timepoint": 45.70000076293945,
           "trajectory": "E_sol",
           "upper": 5360.3875
          },
          {
           "lower": 5392.649658203125,
           "timepoint": 45.79999923706055,
           "trajectory": "E_sol",
           "upper": 5392.668530273438
          },
          {
           "lower": 5425.118139648437,
           "timepoint": 45.89999771118164,
           "trajectory": "E_sol",
           "upper": 5425.137231445313
          },
          {
           "lower": 5457.775854492187,
           "timepoint": 46,
           "trajectory": "E_sol",
           "upper": 5457.794189453125
          },
          {
           "lower": 5490.620043945312,
           "timepoint": 46.099998474121094,
           "trajectory": "E_sol",
           "upper": 5490.63935546875
          },
          {
           "lower": 5523.655688476562,
           "timepoint": 46.20000076293945,
           "trajectory": "E_sol",
           "upper": 5523.6773681640625
          },
          {
           "lower": 5556.881494140625,
           "timepoint": 46.29999923706055,
           "trajectory": "E_sol",
           "upper": 5556.90322265625
          },
          {
           "lower": 5590.2984375,
           "timepoint": 46.39999771118164,
           "trajectory": "E_sol",
           "upper": 5590.320703125
          },
          {
           "lower": 5623.909008789063,
           "timepoint": 46.5,
           "trajectory": "E_sol",
           "upper": 5623.93154296875
          },
          {
           "lower": 5657.711962890625,
           "timepoint": 46.599998474121094,
           "trajectory": "E_sol",
           "upper": 5657.735034179687
          },
          {
           "lower": 5691.710717773438,
           "timepoint": 46.70000076293945,
           "trajectory": "E_sol",
           "upper": 5691.73525390625
          },
          {
           "lower": 5725.908178710937,
           "timepoint": 46.79999923706055,
           "trajectory": "E_sol",
           "upper": 5725.930249023438
          },
          {
           "lower": 5760.298583984375,
           "timepoint": 46.89999771118164,
           "trajectory": "E_sol",
           "upper": 5760.322021484375
          },
          {
           "lower": 5794.887768554688,
           "timepoint": 47,
           "trajectory": "E_sol",
           "upper": 5794.913500976562
          },
          {
           "lower": 5829.674267578125,
           "timepoint": 47.099998474121094,
           "trajectory": "E_sol",
           "upper": 5829.698291015625
          },
          {
           "lower": 5864.664575195313,
           "timepoint": 47.20000076293945,
           "trajectory": "E_sol",
           "upper": 5864.686840820313
          },
          {
           "lower": 5899.85234375,
           "timepoint": 47.29999923706055,
           "trajectory": "E_sol",
           "upper": 5899.876123046875
          },
          {
           "lower": 5935.242700195313,
           "timepoint": 47.39999771118164,
           "trajectory": "E_sol",
           "upper": 5935.266528320312
          },
          {
           "lower": 5970.83720703125,
           "timepoint": 47.5,
           "trajectory": "E_sol",
           "upper": 5970.862280273437
          },
          {
           "lower": 6006.633544921875,
           "timepoint": 47.599998474121094,
           "trajectory": "E_sol",
           "upper": 6006.660180664063
          },
          {
           "lower": 6042.637231445313,
           "timepoint": 47.70000076293945,
           "trajectory": "E_sol",
           "upper": 6042.66435546875
          },
          {
           "lower": 6078.845239257813,
           "timepoint": 47.79999923706055,
           "trajectory": "E_sol",
           "upper": 6078.873706054687
          },
          {
           "lower": 6115.260546875,
           "timepoint": 47.89999771118164,
           "trajectory": "E_sol",
           "upper": 6115.290576171875
          },
          {
           "lower": 6151.885327148438,
           "timepoint": 48,
           "trajectory": "E_sol",
           "upper": 6151.9095703125
          },
          {
           "lower": 6188.717626953125,
           "timepoint": 48.099998474121094,
           "trajectory": "E_sol",
           "upper": 6188.742626953125
          },
          {
           "lower": 6225.7613525390625,
           "timepoint": 48.19999694824219,
           "trajectory": "E_sol",
           "upper": 6225.786572265625
          },
          {
           "lower": 6263.01650390625,
           "timepoint": 48.29999923706055,
           "trajectory": "E_sol",
           "upper": 6263.043359375
          },
          {
           "lower": 6300.485791015625,
           "timepoint": 48.400001525878906,
           "trajectory": "E_sol",
           "upper": 6300.511889648437
          },
          {
           "lower": 6338.166186523437,
           "timepoint": 48.5,
           "trajectory": "E_sol",
           "upper": 6338.193798828125
          },
          {
           "lower": 6376.06142578125,
           "timepoint": 48.599998474121094,
           "trajectory": "E_sol",
           "upper": 6376.089794921875
          },
          {
           "lower": 6414.172924804688,
           "timepoint": 48.69999694824219,
           "trajectory": "E_sol",
           "upper": 6414.201611328125
          },
          {
           "lower": 6452.501977539063,
           "timepoint": 48.79999923706055,
           "trajectory": "E_sol",
           "upper": 6452.53173828125
          },
          {
           "lower": 6491.049951171875,
           "timepoint": 48.900001525878906,
           "trajectory": "E_sol",
           "upper": 6491.080834960938
          },
          {
           "lower": 6529.820263671875,
           "timepoint": 49,
           "trajectory": "E_sol",
           "upper": 6529.846411132812
          },
          {
           "lower": 6568.805883789062,
           "timepoint": 49.099998474121094,
           "trajectory": "E_sol",
           "upper": 6568.832788085938
          },
          {
           "lower": 6608.012548828125,
           "timepoint": 49.19999694824219,
           "trajectory": "E_sol",
           "upper": 6608.0400390625
          },
          {
           "lower": 6647.44306640625,
           "timepoint": 49.29999923706055,
           "trajectory": "E_sol",
           "upper": 6647.47119140625
          },
          {
           "lower": 6687.0970458984375,
           "timepoint": 49.400001525878906,
           "trajectory": "E_sol",
           "upper": 6687.126416015625
          },
          {
           "lower": 6726.974560546875,
           "timepoint": 49.5,
           "trajectory": "E_sol",
           "upper": 6727.004833984375
          },
          {
           "lower": 6767.076684570313,
           "timepoint": 49.599998474121094,
           "trajectory": "E_sol",
           "upper": 6767.108251953125
          },
          {
           "lower": 6807.4068359375,
           "timepoint": 49.69999694824219,
           "trajectory": "E_sol",
           "upper": 6807.440649414062
          },
          {
           "lower": 6847.977758789062,
           "timepoint": 49.79999923706055,
           "trajectory": "E_sol",
           "upper": 6848.002124023437
          },
          {
           "lower": 6888.768505859375,
           "timepoint": 49.900001525878906,
           "trajectory": "E_sol",
           "upper": 6888.792431640625
          },
          {
           "lower": 6929.7877197265625,
           "timepoint": 50,
           "trajectory": "E_sol",
           "upper": 6929.811694335937
          },
          {
           "lower": 6971.037939453125,
           "timepoint": 50.099998474121094,
           "trajectory": "E_sol",
           "upper": 6971.062670898437
          },
          {
           "lower": 7012.516845703125,
           "timepoint": 50.19999694824219,
           "trajectory": "E_sol",
           "upper": 7012.546557617187
          },
          {
           "lower": 7054.235107421875,
           "timepoint": 50.29999923706055,
           "trajectory": "E_sol",
           "upper": 7054.265307617187
          },
          {
           "lower": 7096.188549804688,
           "timepoint": 50.400001525878906,
           "trajectory": "E_sol",
           "upper": 7096.219409179687
          },
          {
           "lower": 7138.375439453125,
           "timepoint": 50.5,
           "trajectory": "E_sol",
           "upper": 7138.407885742187
          },
          {
           "lower": 7180.799975585937,
           "timepoint": 50.599998474121094,
           "trajectory": "E_sol",
           "upper": 7180.833935546875
          },
          {
           "lower": 7223.466162109375,
           "timepoint": 50.69999694824219,
           "trajectory": "E_sol",
           "upper": 7223.4984375
          },
          {
           "lower": 7266.372534179687,
           "timepoint": 50.79999923706055,
           "trajectory": "E_sol",
           "upper": 7266.40419921875
          },
          {
           "lower": 7309.518969726562,
           "timepoint": 50.900001525878906,
           "trajectory": "E_sol",
           "upper": 7309.549145507813
          },
          {
           "lower": 7352.905419921875,
           "timepoint": 51,
           "trajectory": "E_sol",
           "upper": 7352.935864257813
          },
          {
           "lower": 7396.534936523438,
           "timepoint": 51.099998474121094,
           "trajectory": "E_sol",
           "upper": 7396.565698242188
          },
          {
           "lower": 7440.408911132812,
           "timepoint": 51.19999694824219,
           "trajectory": "E_sol",
           "upper": 7440.440209960938
          },
          {
           "lower": 7484.530444335937,
           "timepoint": 51.29999923706055,
           "trajectory": "E_sol",
           "upper": 7484.561572265625
          },
          {
           "lower": 7528.89775390625,
           "timepoint": 51.400001525878906,
           "trajectory": "E_sol",
           "upper": 7528.93125
          },
          {
           "lower": 7573.51240234375,
           "timepoint": 51.5,
           "trajectory": "E_sol",
           "upper": 7573.5462646484375
          },
          {
           "lower": 7618.375268554688,
           "timepoint": 51.599998474121094,
           "trajectory": "E_sol",
           "upper": 7618.410571289062
          },
          {
           "lower": 7663.488671875,
           "timepoint": 51.69999694824219,
           "trajectory": "E_sol",
           "upper": 7663.525048828125
          },
          {
           "lower": 7708.855444335937,
           "timepoint": 51.79999923706055,
           "trajectory": "E_sol",
           "upper": 7708.89326171875
          },
          {
           "lower": 7754.484594726562,
           "timepoint": 51.900001525878906,
           "trajectory": "E_sol",
           "upper": 7754.515112304687
          },
          {
           "lower": 7800.357641601562,
           "timepoint": 52,
           "trajectory": "E_sol",
           "upper": 7800.3888671875
          },
          {
           "lower": 7846.486279296875,
           "timepoint": 52.099998474121094,
           "trajectory": "E_sol",
           "upper": 7846.5189208984375
          },
          {
           "lower": 7892.871533203125,
           "timepoint": 52.19999694824219,
           "trajectory": "E_sol",
           "upper": 7892.904614257813
          },
          {
           "lower": 7939.516284179687,
           "timepoint": 52.29999923706055,
           "trajectory": "E_sol",
           "upper": 7939.55029296875
          },
          {
           "lower": 7986.417456054687,
           "timepoint": 52.400001525878906,
           "trajectory": "E_sol",
           "upper": 7986.44970703125
          },
          {
           "lower": 8033.579345703125,
           "timepoint": 52.5,
           "trajectory": "E_sol",
           "upper": 8033.614770507813
          },
          {
           "lower": 8081.002905273437,
           "timepoint": 52.599998474121094,
           "trajectory": "E_sol",
           "upper": 8081.038598632813
          },
          {
           "lower": 8128.689379882812,
           "timepoint": 52.69999694824219,
           "trajectory": "E_sol",
           "upper": 8128.725170898438
          },
          {
           "lower": 8176.641796875,
           "timepoint": 52.79999923706055,
           "trajectory": "E_sol",
           "upper": 8176.677587890625
          },
          {
           "lower": 8224.859619140625,
           "timepoint": 52.900001525878906,
           "trajectory": "E_sol",
           "upper": 8224.895947265624
          },
          {
           "lower": 8273.34052734375,
           "timepoint": 53,
           "trajectory": "E_sol",
           "upper": 8273.37880859375
          },
          {
           "lower": 8322.09140625,
           "timepoint": 53.099998474121094,
           "trajectory": "E_sol",
           "upper": 8322.124609375
          },
          {
           "lower": 8371.11005859375,
           "timepoint": 53.19999694824219,
           "trajectory": "E_sol",
           "upper": 8371.143701171875
          },
          {
           "lower": 8420.400537109375,
           "timepoint": 53.29999923706055,
           "trajectory": "E_sol",
           "upper": 8420.434619140626
          },
          {
           "lower": 8469.963134765625,
           "timepoint": 53.400001525878906,
           "trajectory": "E_sol",
           "upper": 8469.997119140626
          },
          {
           "lower": 8519.7966796875,
           "timepoint": 53.5,
           "trajectory": "E_sol",
           "upper": 8519.8314453125
          },
          {
           "lower": 8569.899462890626,
           "timepoint": 53.599998474121094,
           "trajectory": "E_sol",
           "upper": 8569.9388671875
          },
          {
           "lower": 8620.281298828126,
           "timepoint": 53.69999694824219,
           "trajectory": "E_sol",
           "upper": 8620.322998046875
          },
          {
           "lower": 8670.9419921875,
           "timepoint": 53.79999923706055,
           "trajectory": "E_sol",
           "upper": 8670.985009765625
          },
          {
           "lower": 8721.880029296875,
           "timepoint": 53.900001525878906,
           "trajectory": "E_sol",
           "upper": 8721.924462890625
          },
          {
           "lower": 8773.094970703125,
           "timepoint": 54,
           "trajectory": "E_sol",
           "upper": 8773.137353515625
          },
          {
           "lower": 8824.590185546875,
           "timepoint": 54.099998474121094,
           "trajectory": "E_sol",
           "upper": 8824.634326171876
          },
          {
           "lower": 8876.367626953124,
           "timepoint": 54.19999694824219,
           "trajectory": "E_sol",
           "upper": 8876.412744140625
          },
          {
           "lower": 8928.429150390624,
           "timepoint": 54.29999923706055,
           "trajectory": "E_sol",
           "upper": 8928.46923828125
          },
          {
           "lower": 8980.7751953125,
           "timepoint": 54.400001525878906,
           "trajectory": "E_sol",
           "upper": 8980.81484375
          },
          {
           "lower": 9033.403369140626,
           "timepoint": 54.5,
           "trajectory": "E_sol",
           "upper": 9033.445166015625
          },
          {
           "lower": 9086.31875,
           "timepoint": 54.599998474121094,
           "trajectory": "E_sol",
           "upper": 9086.362060546875
          },
          {
           "lower": 9139.5236328125,
           "timepoint": 54.69999694824219,
           "trajectory": "E_sol",
           "upper": 9139.573388671875
          },
          {
           "lower": 9193.02919921875,
           "timepoint": 54.79999923706055,
           "trajectory": "E_sol",
           "upper": 9193.07099609375
          },
          {
           "lower": 9246.815869140624,
           "timepoint": 54.900001525878906,
           "trajectory": "E_sol",
           "upper": 9246.858984375
          },
          {
           "lower": 9300.89345703125,
           "timepoint": 55,
           "trajectory": "E_sol",
           "upper": 9300.938623046875
          },
          {
           "lower": 9355.26435546875,
           "timepoint": 55.099998474121094,
           "trajectory": "E_sol",
           "upper": 9355.310693359375
          },
          {
           "lower": 9409.929296875,
           "timepoint": 55.19999694824219,
           "trajectory": "E_sol",
           "upper": 9409.978125
          },
          {
           "lower": 9464.891015625,
           "timepoint": 55.29999923706055,
           "trajectory": "E_sol",
           "upper": 9464.9419921875
          },
          {
           "lower": 9520.149365234374,
           "timepoint": 55.400001525878906,
           "trajectory": "E_sol",
           "upper": 9520.205126953126
          },
          {
           "lower": 9575.704296875,
           "timepoint": 55.5,
           "trajectory": "E_sol",
           "upper": 9575.763623046874
          },
          {
           "lower": 9631.575244140626,
           "timepoint": 55.599998474121094,
           "trajectory": "E_sol",
           "upper": 9631.619482421875
          },
          {
           "lower": 9687.735400390626,
           "timepoint": 55.69999694824219,
           "trajectory": "E_sol",
           "upper": 9687.7791015625
          },
          {
           "lower": 9744.19970703125,
           "timepoint": 55.79999923706055,
           "trajectory": "E_sol",
           "upper": 9744.242431640625
          },
          {
           "lower": 9800.968359375,
           "timepoint": 55.900001525878906,
           "trajectory": "E_sol",
           "upper": 9801.0103515625
          },
          {
           "lower": 9858.0396484375,
           "timepoint": 56,
           "trajectory": "E_sol",
           "upper": 9858.082080078126
          },
          {
           "lower": 9915.417041015626,
           "timepoint": 56.099998474121094,
           "trajectory": "E_sol",
           "upper": 9915.458837890625
          },
          {
           "lower": 9973.101806640625,
           "timepoint": 56.19999694824219,
           "trajectory": "E_sol",
           "upper": 9973.149755859375
          },
          {
           "lower": 10031.09755859375,
           "timepoint": 56.29999923706055,
           "trajectory": "E_sol",
           "upper": 10031.148779296875
          },
          {
           "lower": 10089.403662109375,
           "timepoint": 56.400001525878906,
           "trajectory": "E_sol",
           "upper": 10089.45693359375
          },
          {
           "lower": 10148.0181640625,
           "timepoint": 56.5,
           "trajectory": "E_sol",
           "upper": 10148.07607421875
          },
          {
           "lower": 10206.9591796875,
           "timepoint": 56.599998474121094,
           "trajectory": "E_sol",
           "upper": 10207.008251953124
          },
          {
           "lower": 10266.2052734375,
           "timepoint": 56.69999694824219,
           "trajectory": "E_sol",
           "upper": 10266.255224609375
          },
          {
           "lower": 10325.7697265625,
           "timepoint": 56.79999923706055,
           "trajectory": "E_sol",
           "upper": 10325.82021484375
          },
          {
           "lower": 10385.65478515625,
           "timepoint": 56.900001525878906,
           "trajectory": "E_sol",
           "upper": 10385.704541015624
          },
          {
           "lower": 10445.85400390625,
           "timepoint": 57,
           "trajectory": "E_sol",
           "upper": 10445.903759765624
          },
          {
           "lower": 10506.37255859375,
           "timepoint": 57.099998474121094,
           "trajectory": "E_sol",
           "upper": 10506.422412109376
          },
          {
           "lower": 10567.21337890625,
           "timepoint": 57.19999694824219,
           "trajectory": "E_sol",
           "upper": 10567.264208984376
          },
          {
           "lower": 10628.378857421874,
           "timepoint": 57.29999923706055,
           "trajectory": "E_sol",
           "upper": 10628.431201171876
          },
          {
           "lower": 10689.869091796874,
           "timepoint": 57.400001525878906,
           "trajectory": "E_sol",
           "upper": 10689.920556640625
          },
          {
           "lower": 10751.681591796874,
           "timepoint": 57.5,
           "trajectory": "E_sol",
           "upper": 10751.735107421875
          },
          {
           "lower": 10813.821240234374,
           "timepoint": 57.599998474121094,
           "trajectory": "E_sol",
           "upper": 10813.876806640625
          },
          {
           "lower": 10876.289013671874,
           "timepoint": 57.69999694824219,
           "trajectory": "E_sol",
           "upper": 10876.345556640625
          },
          {
           "lower": 10939.088720703125,
           "timepoint": 57.79999923706055,
           "trajectory": "E_sol",
           "upper": 10939.141064453124
          },
          {
           "lower": 11002.220556640625,
           "timepoint": 57.900001525878906,
           "trajectory": "E_sol",
           "upper": 11002.2734375
          },
          {
           "lower": 11065.68095703125,
           "timepoint": 58,
           "trajectory": "E_sol",
           "upper": 11065.734912109376
          },
          {
           "lower": 11129.47490234375,
           "timepoint": 58.099998474121094,
           "trajectory": "E_sol",
           "upper": 11129.5302734375
          },
          {
           "lower": 11193.60478515625,
           "timepoint": 58.19999694824219,
           "trajectory": "E_sol",
           "upper": 11193.660693359376
          },
          {
           "lower": 11258.072119140625,
           "timepoint": 58.29999923706055,
           "trajectory": "E_sol",
           "upper": 11258.130859375
          },
          {
           "lower": 11322.88134765625,
           "timepoint": 58.400001525878906,
           "trajectory": "E_sol",
           "upper": 11322.938916015624
          },
          {
           "lower": 11388.024560546875,
           "timepoint": 58.5,
           "trajectory": "E_sol",
           "upper": 11388.083349609375
          },
          {
           "lower": 11453.507958984375,
           "timepoint": 58.599998474121094,
           "trajectory": "E_sol",
           "upper": 11453.569140625
          },
          {
           "lower": 11519.3328125,
           "timepoint": 58.69999694824219,
           "trajectory": "E_sol",
           "upper": 11519.3970703125
          },
          {
           "lower": 11585.507763671874,
           "timepoint": 58.79999923706055,
           "trajectory": "E_sol",
           "upper": 11585.572119140625
          },
          {
           "lower": 11652.023388671874,
           "timepoint": 58.900001525878906,
           "trajectory": "E_sol",
           "upper": 11652.0865234375
          },
          {
           "lower": 11718.883740234374,
           "timepoint": 59,
           "trajectory": "E_sol",
           "upper": 11718.943017578125
          },
          {
           "lower": 11786.0912109375,
           "timepoint": 59.099998474121094,
           "trajectory": "E_sol",
           "upper": 11786.151123046875
          },
          {
           "lower": 11853.646875,
           "timepoint": 59.19999694824219,
           "trajectory": "E_sol",
           "upper": 11853.708203125
          },
          {
           "lower": 11921.55498046875,
           "timepoint": 59.29999923706055,
           "trajectory": "E_sol",
           "upper": 11921.61513671875
          },
          {
           "lower": 11989.815185546875,
           "timepoint": 59.400001525878906,
           "trajectory": "E_sol",
           "upper": 11989.87587890625
          },
          {
           "lower": 12058.422705078125,
           "timepoint": 59.5,
           "trajectory": "E_sol",
           "upper": 12058.486669921875
          },
          {
           "lower": 12127.384716796874,
           "timepoint": 59.599998474121094,
           "trajectory": "E_sol",
           "upper": 12127.4529296875
          },
          {
           "lower": 12196.70703125,
           "timepoint": 59.69999694824219,
           "trajectory": "E_sol",
           "upper": 12196.773779296875
          },
          {
           "lower": 12266.3837890625,
           "timepoint": 59.79999923706055,
           "trajectory": "E_sol",
           "upper": 12266.454345703125
          },
          {
           "lower": 12336.429296875,
           "timepoint": 59.900001525878906,
           "trajectory": "E_sol",
           "upper": 12336.49384765625
          },
          {
           "lower": 12406.823486328125,
           "timepoint": 60,
           "trajectory": "E_sol",
           "upper": 12406.889697265626
          },
          {
           "lower": 12477.57890625,
           "timepoint": 60.099998474121094,
           "trajectory": "E_sol",
           "upper": 12477.647509765626
          },
          {
           "lower": 12548.697265625,
           "timepoint": 60.19999694824219,
           "trajectory": "E_sol",
           "upper": 12548.766552734374
          },
          {
           "lower": 12620.181103515624,
           "timepoint": 60.29999923706055,
           "trajectory": "E_sol",
           "upper": 12620.253125
          },
          {
           "lower": 12692.036962890625,
           "timepoint": 60.400001525878906,
           "trajectory": "E_sol",
           "upper": 12692.106005859376
          },
          {
           "lower": 12764.251806640625,
           "timepoint": 60.5,
           "trajectory": "E_sol",
           "upper": 12764.3216796875
          },
          {
           "lower": 12836.832763671875,
           "timepoint": 60.599998474121094,
           "trajectory": "E_sol",
           "upper": 12836.89326171875
          },
          {
           "lower": 12909.783837890625,
           "timepoint": 60.69999694824219,
           "trajectory": "E_sol",
           "upper": 12909.843798828126
          },
          {
           "lower": 12983.107958984376,
           "timepoint": 60.79999923706055,
           "trajectory": "E_sol",
           "upper": 12983.168359375
          },
          {
           "lower": 13056.8037109375,
           "timepoint": 60.900001525878906,
           "trajectory": "E_sol",
           "upper": 13056.873779296875
          },
          {
           "lower": 13130.8689453125,
           "timepoint": 61,
           "trajectory": "E_sol",
           "upper": 13130.942578125
          },
          {
           "lower": 13205.30927734375,
           "timepoint": 61.099998474121094,
           "trajectory": "E_sol",
           "upper": 13205.3849609375
          },
          {
           "lower": 13280.124609375,
           "timepoint": 61.19999694824219,
           "trajectory": "E_sol",
           "upper": 13280.20439453125
          },
          {
           "lower": 13355.3197265625,
           "timepoint": 61.29999923706055,
           "trajectory": "E_sol",
           "upper": 13355.402197265625
          },
          {
           "lower": 13430.894384765625,
           "timepoint": 61.400001525878906,
           "trajectory": "E_sol",
           "upper": 13430.98076171875
          },
          {
           "lower": 13506.863720703124,
           "timepoint": 61.5,
           "trajectory": "E_sol",
           "upper": 13506.935400390625
          },
          {
           "lower": 13583.198046875,
           "timepoint": 61.599998474121094,
           "trajectory": "E_sol",
           "upper": 13583.271435546874
          },
          {
           "lower": 13659.9146484375,
           "timepoint": 61.69999694824219,
           "trajectory": "E_sol",
           "upper": 13659.990185546874
          },
          {
           "lower": 13737.018408203125,
           "timepoint": 61.79999923706055,
           "trajectory": "E_sol",
           "upper": 13737.09609375
          },
          {
           "lower": 13814.5078125,
           "timepoint": 61.900001525878906,
           "trajectory": "E_sol",
           "upper": 13814.588623046875
          },
          {
           "lower": 13892.397509765626,
           "timepoint": 62,
           "trajectory": "E_sol",
           "upper": 13892.464599609375
          },
          {
           "lower": 13970.661279296875,
           "timepoint": 62.099998474121094,
           "trajectory": "E_sol",
           "upper": 13970.727734375
          },
          {
           "lower": 14049.31416015625,
           "timepoint": 62.19999694824219,
           "trajectory": "E_sol",
           "upper": 14049.37998046875
          },
          {
           "lower": 14128.361572265625,
           "timepoint": 62.29999923706055,
           "trajectory": "E_sol",
           "upper": 14128.426318359376
          },
          {
           "lower": 14207.8015625,
           "timepoint": 62.400001525878906,
           "trajectory": "E_sol",
           "upper": 14207.865673828124
          },
          {
           "lower": 14287.631201171875,
           "timepoint": 62.5,
           "trajectory": "E_sol",
           "upper": 14287.697265625
          },
          {
           "lower": 14367.855810546875,
           "timepoint": 62.599998474121094,
           "trajectory": "E_sol",
           "upper": 14367.922216796875
          },
          {
           "lower": 14448.477001953124,
           "timepoint": 62.69999694824219,
           "trajectory": "E_sol",
           "upper": 14448.5427734375
          },
          {
           "lower": 14529.498046875,
           "timepoint": 62.79999923706055,
           "trajectory": "E_sol",
           "upper": 14529.56513671875
          },
          {
           "lower": 14610.9169921875,
           "timepoint": 62.900001525878906,
           "trajectory": "E_sol",
           "upper": 14610.985498046875
          },
          {
           "lower": 14692.720703125,
           "timepoint": 63,
           "trajectory": "E_sol",
           "upper": 14692.803662109374
          },
          {
           "lower": 14774.9384765625,
           "timepoint": 63.099998474121094,
           "trajectory": "E_sol",
           "upper": 14775.0228515625
          },
          {
           "lower": 14857.557177734376,
           "timepoint": 63.19999694824219,
           "trajectory": "E_sol",
           "upper": 14857.6466796875
          },
          {
           "lower": 14940.583984375,
           "timepoint": 63.29999923706055,
           "trajectory": "E_sol",
           "upper": 14940.6767578125
          },
          {
           "lower": 15024.01552734375,
           "timepoint": 63.400001525878906,
           "trajectory": "E_sol",
           "upper": 15024.098828125
          },
          {
           "lower": 15107.8470703125,
           "timepoint": 63.5,
           "trajectory": "E_sol",
           "upper": 15107.933544921874
          },
          {
           "lower": 15192.088818359374,
           "timepoint": 63.599998474121094,
           "trajectory": "E_sol",
           "upper": 15192.172509765625
          },
          {
           "lower": 15276.739111328125,
           "timepoint": 63.69999694824219,
           "trajectory": "E_sol",
           "upper": 15276.825048828125
          },
          {
           "lower": 15361.803662109374,
           "timepoint": 63.79999923706055,
           "trajectory": "E_sol",
           "upper": 15361.8921875
          },
          {
           "lower": 15447.279248046874,
           "timepoint": 63.900001525878906,
           "trajectory": "E_sol",
           "upper": 15447.369580078124
          },
          {
           "lower": 15533.16455078125,
           "timepoint": 64,
           "trajectory": "E_sol",
           "upper": 15533.239306640626
          },
          {
           "lower": 15619.46240234375,
           "timepoint": 64.0999984741211,
           "trajectory": "E_sol",
           "upper": 15619.5376953125
          },
          {
           "lower": 15706.17734375,
           "timepoint": 64.19999694824219,
           "trajectory": "E_sol",
           "upper": 15706.25166015625
          },
          {
           "lower": 15793.3140625,
           "timepoint": 64.30000305175781,
           "trajectory": "E_sol",
           "upper": 15793.39033203125
          },
          {
           "lower": 15880.86201171875,
           "timepoint": 64.4000015258789,
           "trajectory": "E_sol",
           "upper": 15880.93828125
          },
          {
           "lower": 15968.822998046875,
           "timepoint": 64.5,
           "trajectory": "E_sol",
           "upper": 15968.90703125
          },
          {
           "lower": 16057.208837890625,
           "timepoint": 64.5999984741211,
           "trajectory": "E_sol",
           "upper": 16057.295703125
          },
          {
           "lower": 16146.017529296874,
           "timepoint": 64.69999694824219,
           "trajectory": "E_sol",
           "upper": 16146.1064453125
          },
          {
           "lower": 16235.254736328125,
           "timepoint": 64.80000305175781,
           "trajectory": "E_sol",
           "upper": 16235.34560546875
          },
          {
           "lower": 16324.910791015625,
           "timepoint": 64.9000015258789,
           "trajectory": "E_sol",
           "upper": 16325.001953125
          },
          {
           "lower": 16414.98837890625,
           "timepoint": 65,
           "trajectory": "E_sol",
           "upper": 16415.08310546875
          },
          {
           "lower": 16505.49423828125,
           "timepoint": 65.0999984741211,
           "trajectory": "E_sol",
           "upper": 16505.59130859375
          },
          {
           "lower": 16596.42568359375,
           "timepoint": 65.19999694824219,
           "trajectory": "E_sol",
           "upper": 16596.52705078125
          },
          {
           "lower": 16687.7919921875,
           "timepoint": 65.30000305175781,
           "trajectory": "E_sol",
           "upper": 16687.89765625
          },
          {
           "lower": 16779.57998046875,
           "timepoint": 65.4000015258789,
           "trajectory": "E_sol",
           "upper": 16779.69189453125
          },
          {
           "lower": 16871.79658203125,
           "timepoint": 65.5,
           "trajectory": "E_sol",
           "upper": 16871.91796875
          },
          {
           "lower": 16964.44697265625,
           "timepoint": 65.5999984741211,
           "trajectory": "E_sol",
           "upper": 16964.54453125
          },
          {
           "lower": 17057.5259765625,
           "timepoint": 65.69999694824219,
           "trajectory": "E_sol",
           "upper": 17057.63134765625
          },
          {
           "lower": 17151.047265625,
           "timepoint": 65.80000305175781,
           "trajectory": "E_sol",
           "upper": 17151.1595703125
          },
          {
           "lower": 17244.99541015625,
           "timepoint": 65.9000015258789,
           "trajectory": "E_sol",
           "upper": 17245.11640625
          },
          {
           "lower": 17339.40087890625,
           "timepoint": 66,
           "trajectory": "E_sol",
           "upper": 17339.50791015625
          },
          {
           "lower": 17434.2255859375,
           "timepoint": 66.0999984741211,
           "trajectory": "E_sol",
           "upper": 17434.338671875
          },
          {
           "lower": 17529.484765625,
           "timepoint": 66.19999694824219,
           "trajectory": "E_sol",
           "upper": 17529.60693359375
          },
          {
           "lower": 17625.22470703125,
           "timepoint": 66.30000305175781,
           "trajectory": "E_sol",
           "upper": 17625.32333984375
          },
          {
           "lower": 17721.37119140625,
           "timepoint": 66.4000015258789,
           "trajectory": "E_sol",
           "upper": 17721.473046875
          },
          {
           "lower": 17817.95888671875,
           "timepoint": 66.5,
           "trajectory": "E_sol",
           "upper": 17818.06611328125
          },
          {
           "lower": 17914.9892578125,
           "timepoint": 66.5999984741211,
           "trajectory": "E_sol",
           "upper": 17915.0791015625
          },
          {
           "lower": 18012.4638671875,
           "timepoint": 66.69999694824219,
           "trajectory": "E_sol",
           "upper": 18012.553515625
          },
          {
           "lower": 18110.3875,
           "timepoint": 66.80000305175781,
           "trajectory": "E_sol",
           "upper": 18110.48125
          },
          {
           "lower": 18208.75361328125,
           "timepoint": 66.9000015258789,
           "trajectory": "E_sol",
           "upper": 18208.846484375
          },
          {
           "lower": 18307.5666015625,
           "timepoint": 67,
           "trajectory": "E_sol",
           "upper": 18307.67080078125
          },
          {
           "lower": 18406.8240234375,
           "timepoint": 67.0999984741211,
           "trajectory": "E_sol",
           "upper": 18406.93359375
          },
          {
           "lower": 18506.530859375,
           "timepoint": 67.19999694824219,
           "trajectory": "E_sol",
           "upper": 18506.6447265625
          },
          {
           "lower": 18606.69453125,
           "timepoint": 67.30000305175781,
           "trajectory": "E_sol",
           "upper": 18606.814453125
          },
          {
           "lower": 18707.30068359375,
           "timepoint": 67.4000015258789,
           "trajectory": "E_sol",
           "upper": 18707.4259765625
          },
          {
           "lower": 18808.3578125,
           "timepoint": 67.5,
           "trajectory": "E_sol",
           "upper": 18808.49150390625
          },
          {
           "lower": 18909.90458984375,
           "timepoint": 67.5999984741211,
           "trajectory": "E_sol",
           "upper": 18910.01103515625
          },
          {
           "lower": 19011.87353515625,
           "timepoint": 67.69999694824219,
           "trajectory": "E_sol",
           "upper": 19011.9828125
          },
          {
           "lower": 19114.3076171875,
           "timepoint": 67.80000305175781,
           "trajectory": "E_sol",
           "upper": 19114.41552734375
          },
          {
           "lower": 19217.18740234375,
           "timepoint": 67.9000015258789,
           "trajectory": "E_sol",
           "upper": 19217.2994140625
          },
          {
           "lower": 19320.5224609375,
           "timepoint": 68,
           "trajectory": "E_sol",
           "upper": 19320.6396484375
          },
          {
           "lower": 19424.31259765625,
           "timepoint": 68.0999984741211,
           "trajectory": "E_sol",
           "upper": 19424.43564453125
          },
          {
           "lower": 19528.56279296875,
           "timepoint": 68.19999694824219,
           "trajectory": "E_sol",
           "upper": 19528.6927734375
          },
          {
           "lower": 19633.27607421875,
           "timepoint": 68.30000305175781,
           "trajectory": "E_sol",
           "upper": 19633.4158203125
          },
          {
           "lower": 19738.45634765625,
           "timepoint": 68.4000015258789,
           "trajectory": "E_sol",
           "upper": 19738.56728515625
          },
          {
           "lower": 19844.08701171875,
           "timepoint": 68.5,
           "trajectory": "E_sol",
           "upper": 19844.19794921875
          },
          {
           "lower": 19950.17646484375,
           "timepoint": 68.5999984741211,
           "trajectory": "E_sol",
           "upper": 19950.2927734375
          },
          {
           "lower": 20056.73095703125,
           "timepoint": 68.69999694824219,
           "trajectory": "E_sol",
           "upper": 20056.84833984375
          },
          {
           "lower": 20163.752734375,
           "timepoint": 68.80000305175781,
           "trajectory": "E_sol",
           "upper": 20163.8765625
          },
          {
           "lower": 20271.25537109375,
           "timepoint": 68.9000015258789,
           "trajectory": "E_sol",
           "upper": 20271.3609375
          },
          {
           "lower": 20379.203515625,
           "timepoint": 69,
           "trajectory": "E_sol",
           "upper": 20379.30927734375
          },
          {
           "lower": 20487.617578125,
           "timepoint": 69.0999984741211,
           "trajectory": "E_sol",
           "upper": 20487.7240234375
          },
          {
           "lower": 20596.49208984375,
           "timepoint": 69.19999694824219,
           "trajectory": "E_sol",
           "upper": 20596.6048828125
          },
          {
           "lower": 20705.8466796875,
           "timepoint": 69.30000305175781,
           "trajectory": "E_sol",
           "upper": 20705.96123046875
          },
          {
           "lower": 20815.66005859375,
           "timepoint": 69.4000015258789,
           "trajectory": "E_sol",
           "upper": 20815.77763671875
          },
          {
           "lower": 20925.9421875,
           "timepoint": 69.5,
           "trajectory": "E_sol",
           "upper": 20926.063671875
          },
          {
           "lower": 21036.69306640625,
           "timepoint": 69.5999984741211,
           "trajectory": "E_sol",
           "upper": 21036.81142578125
          },
          {
           "lower": 21147.91376953125,
           "timepoint": 69.69999694824219,
           "trajectory": "E_sol",
           "upper": 21148.03427734375
          },
          {
           "lower": 21259.61083984375,
           "timepoint": 69.80000305175781,
           "trajectory": "E_sol",
           "upper": 21259.734375
          },
          {
           "lower": 21371.77099609375,
           "timepoint": 69.9000015258789,
           "trajectory": "E_sol",
           "upper": 21371.89736328125
          },
          {
           "lower": 21484.402734375,
           "timepoint": 70,
           "trajectory": "E_sol",
           "upper": 21484.5310546875
          },
          {
           "lower": 21597.50517578125,
           "timepoint": 70.0999984741211,
           "trajectory": "E_sol",
           "upper": 21597.63759765625
          },
          {
           "lower": 21711.07919921875,
           "timepoint": 70.19999694824219,
           "trajectory": "E_sol",
           "upper": 21711.21572265625
          },
          {
           "lower": 21825.15107421875,
           "timepoint": 70.30000305175781,
           "trajectory": "E_sol",
           "upper": 21825.275390625
          },
          {
           "lower": 21939.673828125,
           "timepoint": 70.4000015258789,
           "trajectory": "E_sol",
           "upper": 21939.80166015625
          },
          {
           "lower": 22054.67060546875,
           "timepoint": 70.5,
           "trajectory": "E_sol",
           "upper": 22054.79951171875
          },
          {
           "lower": 22170.14091796875,
           "timepoint": 70.5999984741211,
           "trajectory": "E_sol",
           "upper": 22170.275
          },
          {
           "lower": 22286.108203125,
           "timepoint": 70.69999694824219,
           "trajectory": "E_sol",
           "upper": 22286.22314453125
          },
          {
           "lower": 22402.54375,
           "timepoint": 70.80000305175781,
           "trajectory": "E_sol",
           "upper": 22402.65654296875
          },
          {
           "lower": 22519.4443359375,
           "timepoint": 70.9000015258789,
           "trajectory": "E_sol",
           "upper": 22519.55654296875
          },
          {
           "lower": 22636.81953125,
           "timepoint": 71,
           "trajectory": "E_sol",
           "upper": 22636.9322265625
          },
          {
           "lower": 22754.67255859375,
           "timepoint": 71.0999984741211,
           "trajectory": "E_sol",
           "upper": 22754.80791015625
          },
          {
           "lower": 22873.01494140625,
           "timepoint": 71.19999694824219,
           "trajectory": "E_sol",
           "upper": 22873.14208984375
          },
          {
           "lower": 22991.8359375,
           "timepoint": 71.30000305175781,
           "trajectory": "E_sol",
           "upper": 22991.96044921875
          },
          {
           "lower": 23111.1248046875,
           "timepoint": 71.4000015258789,
           "trajectory": "E_sol",
           "upper": 23111.25146484375
          },
          {
           "lower": 23230.89326171875,
           "timepoint": 71.5,
           "trajectory": "E_sol",
           "upper": 23231.0201171875
          },
          {
           "lower": 23351.13916015625,
           "timepoint": 71.5999984741211,
           "trajectory": "E_sol",
           "upper": 23351.2681640625
          },
          {
           "lower": 23471.87197265625,
           "timepoint": 71.69999694824219,
           "trajectory": "E_sol",
           "upper": 23471.9947265625
          },
          {
           "lower": 23593.0822265625,
           "timepoint": 71.80000305175781,
           "trajectory": "E_sol",
           "upper": 23593.21259765625
          },
          {
           "lower": 23714.75966796875,
           "timepoint": 71.9000015258789,
           "trajectory": "E_sol",
           "upper": 23714.8990234375
          },
          {
           "lower": 23836.91494140625,
           "timepoint": 72,
           "trajectory": "E_sol",
           "upper": 23837.06591796875
          },
          {
           "lower": 23959.57001953125,
           "timepoint": 72.0999984741211,
           "trajectory": "E_sol",
           "upper": 23959.71435546875
          },
          {
           "lower": 24082.6939453125,
           "timepoint": 72.19999694824219,
           "trajectory": "E_sol",
           "upper": 24082.8421875
          },
          {
           "lower": 24206.30615234375,
           "timepoint": 72.30000305175781,
           "trajectory": "E_sol",
           "upper": 24206.454296875
          },
          {
           "lower": 24330.38994140625,
           "timepoint": 72.4000015258789,
           "trajectory": "E_sol",
           "upper": 24330.5423828125
          },
          {
           "lower": 24454.9533203125,
           "timepoint": 72.5,
           "trajectory": "E_sol",
           "upper": 24455.09697265625
          },
          {
           "lower": 24579.998046875,
           "timepoint": 72.5999984741211,
           "trajectory": "E_sol",
           "upper": 24580.1447265625
          },
          {
           "lower": 24705.52021484375,
           "timepoint": 72.69999694824219,
           "trajectory": "E_sol",
           "upper": 24705.6720703125
          },
          {
           "lower": 24831.5326171875,
           "timepoint": 72.80000305175781,
           "trajectory": "E_sol",
           "upper": 24831.69052734375
          },
          {
           "lower": 24958.01572265625,
           "timepoint": 72.9000015258789,
           "trajectory": "E_sol",
           "upper": 24958.18076171875
          },
          {
           "lower": 25084.9986328125,
           "timepoint": 73,
           "trajectory": "E_sol",
           "upper": 25085.15146484375
          },
          {
           "lower": 25212.44609375,
           "timepoint": 73.0999984741211,
           "trajectory": "E_sol",
           "upper": 25212.5994140625
          },
          {
           "lower": 25340.36875,
           "timepoint": 73.19999694824219,
           "trajectory": "E_sol",
           "upper": 25340.52998046875
          },
          {
           "lower": 25468.77783203125,
           "timepoint": 73.30000305175781,
           "trajectory": "E_sol",
           "upper": 25468.94970703125
          },
          {
           "lower": 25597.684375,
           "timepoint": 73.4000015258789,
           "trajectory": "E_sol",
           "upper": 25597.8388671875
          },
          {
           "lower": 25727.053515625,
           "timepoint": 73.5,
           "trajectory": "E_sol",
           "upper": 25727.20869140625
          },
          {
           "lower": 25856.90244140625,
           "timepoint": 73.5999984741211,
           "trajectory": "E_sol",
           "upper": 25857.041015625
          },
          {
           "lower": 25987.228125,
           "timepoint": 73.69999694824219,
           "trajectory": "E_sol",
           "upper": 25987.3666015625
          },
          {
           "lower": 26118.04296875,
           "timepoint": 73.80000305175781,
           "trajectory": "E_sol",
           "upper": 26118.180859375
          },
          {
           "lower": 26249.32646484375,
           "timepoint": 73.9000015258789,
           "trajectory": "E_sol",
           "upper": 26249.48603515625
          },
          {
           "lower": 26381.0865234375,
           "timepoint": 74,
           "trajectory": "E_sol",
           "upper": 26381.25361328125
          },
          {
           "lower": 26513.355078125,
           "timepoint": 74.0999984741211,
           "trajectory": "E_sol",
           "upper": 26513.49990234375
          },
          {
           "lower": 26646.080078125,
           "timepoint": 74.19999694824219,
           "trajectory": "E_sol",
           "upper": 26646.22451171875
          },
          {
           "lower": 26779.292578125,
           "timepoint": 74.30000305175781,
           "trajectory": "E_sol",
           "upper": 26779.4345703125
          },
          {
           "lower": 26912.95625,
           "timepoint": 74.4000015258789,
           "trajectory": "E_sol",
           "upper": 26913.114453125
          },
          {
           "lower": 27047.1107421875,
           "timepoint": 74.5,
           "trajectory": "E_sol",
           "upper": 27047.27373046875
          },
          {
           "lower": 27181.74091796875,
           "timepoint": 74.5999984741211,
           "trajectory": "E_sol",
           "upper": 27181.907421875
          },
          {
           "lower": 27316.84853515625,
           "timepoint": 74.69999694824219,
           "trajectory": "E_sol",
           "upper": 27317.01787109375
          },
          {
           "lower": 27452.451953125,
           "timepoint": 74.80000305175781,
           "trajectory": "E_sol",
           "upper": 27452.61748046875
          },
          {
           "lower": 27588.510546875,
           "timepoint": 74.9000015258789,
           "trajectory": "E_sol",
           "upper": 27588.6828125
          },
          {
           "lower": 27725.0400390625,
           "timepoint": 75,
           "trajectory": "E_sol",
           "upper": 27725.21962890625
          },
          {
           "lower": 27862.04326171875,
           "timepoint": 75.0999984741211,
           "trajectory": "E_sol",
           "upper": 27862.23173828125
          },
          {
           "lower": 27999.51826171875,
           "timepoint": 75.19999694824219,
           "trajectory": "E_sol",
           "upper": 27999.7197265625
          },
          {
           "lower": 28137.47724609375,
           "timepoint": 75.30000305175781,
           "trajectory": "E_sol",
           "upper": 28137.65791015625
          },
          {
           "lower": 28275.89541015625,
           "timepoint": 75.4000015258789,
           "trajectory": "E_sol",
           "upper": 28276.08583984375
          },
          {
           "lower": 28414.8046875,
           "timepoint": 75.5,
           "trajectory": "E_sol",
           "upper": 28414.98232421875
          },
          {
           "lower": 28554.16669921875,
           "timepoint": 75.5999984741211,
           "trajectory": "E_sol",
           "upper": 28554.34970703125
          },
          {
           "lower": 28693.9955078125,
           "timepoint": 75.69999694824219,
           "trajectory": "E_sol",
           "upper": 28694.18564453125
          },
          {
           "lower": 28834.33037109375,
           "timepoint": 75.80000305175781,
           "trajectory": "E_sol",
           "upper": 28834.50205078125
          },
          {
           "lower": 28975.10185546875,
           "timepoint": 75.9000015258789,
           "trajectory": "E_sol",
           "upper": 28975.27568359375
          },
          {
           "lower": 29116.3431640625,
           "timepoint": 76,
           "trajectory": "E_sol",
           "upper": 29116.51787109375
          },
          {
           "lower": 29258.053515625,
           "timepoint": 76.0999984741211,
           "trajectory": "E_sol",
           "upper": 29258.22490234375
          },
          {
           "lower": 29400.225390625,
           "timepoint": 76.19999694824219,
           "trajectory": "E_sol",
           "upper": 29400.3978515625
          },
          {
           "lower": 29542.87099609375,
           "timepoint": 76.30000305175781,
           "trajectory": "E_sol",
           "upper": 29543.046484375
          },
          {
           "lower": 29685.96689453125,
           "timepoint": 76.4000015258789,
           "trajectory": "E_sol",
           "upper": 29686.1462890625
          },
          {
           "lower": 29829.528515625,
           "timepoint": 76.5,
           "trajectory": "E_sol",
           "upper": 29829.708984375
          },
          {
           "lower": 29973.5482421875,
           "timepoint": 76.5999984741211,
           "trajectory": "E_sol",
           "upper": 29973.73173828125
          },
          {
           "lower": 30118.02783203125,
           "timepoint": 76.69999694824219,
           "trajectory": "E_sol",
           "upper": 30118.19716796875
          },
          {
           "lower": 30262.97919921875,
           "timepoint": 76.80000305175781,
           "trajectory": "E_sol",
           "upper": 30263.14765625
          },
          {
           "lower": 30408.375,
           "timepoint": 76.9000015258789,
           "trajectory": "E_sol",
           "upper": 30408.5421875
          },
          {
           "lower": 30554.226171875,
           "timepoint": 77,
           "trajectory": "E_sol",
           "upper": 30554.3974609375
          },
          {
           "lower": 30700.51591796875,
           "timepoint": 77.0999984741211,
           "trajectory": "E_sol",
           "upper": 30700.7078125
          },
          {
           "lower": 30847.273046875,
           "timepoint": 77.19999694824219,
           "trajectory": "E_sol",
           "upper": 30847.473046875
          },
          {
           "lower": 30994.49482421875,
           "timepoint": 77.30000305175781,
           "trajectory": "E_sol",
           "upper": 30994.7029296875
          },
          {
           "lower": 31142.16748046875,
           "timepoint": 77.4000015258789,
           "trajectory": "E_sol",
           "upper": 31142.376171875
          },
          {
           "lower": 31290.277734375,
           "timepoint": 77.5,
           "trajectory": "E_sol",
           "upper": 31290.49931640625
          },
          {
           "lower": 31438.836328125,
           "timepoint": 77.5999984741211,
           "trajectory": "E_sol",
           "upper": 31439.03984375
          },
          {
           "lower": 31587.840234375,
           "timepoint": 77.69999694824219,
           "trajectory": "E_sol",
           "upper": 31588.039453125
          },
          {
           "lower": 31737.301171875,
           "timepoint": 77.80000305175781,
           "trajectory": "E_sol",
           "upper": 31737.5046875
          },
          {
           "lower": 31887.18984375,
           "timepoint": 77.9000015258789,
           "trajectory": "E_sol",
           "upper": 31887.403515625
          },
          {
           "lower": 32037.521875,
           "timepoint": 78,
           "trajectory": "E_sol",
           "upper": 32037.74306640625
          },
          {
           "lower": 32188.29140625,
           "timepoint": 78.0999984741211,
           "trajectory": "E_sol",
           "upper": 32188.48447265625
          },
          {
           "lower": 32339.49951171875,
           "timepoint": 78.19999694824219,
           "trajectory": "E_sol",
           "upper": 32339.69755859375
          },
          {
           "lower": 32491.1529296875,
           "timepoint": 78.30000305175781,
           "trajectory": "E_sol",
           "upper": 32491.35595703125
          },
          {
           "lower": 32643.2310546875,
           "timepoint": 78.4000015258789,
           "trajectory": "E_sol",
           "upper": 32643.43818359375
          },
          {
           "lower": 32795.7517578125,
           "timepoint": 78.5,
           "trajectory": "E_sol",
           "upper": 32795.9548828125
          },
          {
           "lower": 32948.6970703125,
           "timepoint": 78.5999984741211,
           "trajectory": "E_sol",
           "upper": 32948.898046875
          },
          {
           "lower": 33102.08828125,
           "timepoint": 78.69999694824219,
           "trajectory": "E_sol",
           "upper": 33102.276171875
          },
          {
           "lower": 33255.8990234375,
           "timepoint": 78.80000305175781,
           "trajectory": "E_sol",
           "upper": 33256.0865234375
          },
          {
           "lower": 33410.127734375,
           "timepoint": 78.9000015258789,
           "trajectory": "E_sol",
           "upper": 33410.30703125
          },
          {
           "lower": 33564.7783203125,
           "timepoint": 79,
           "trajectory": "E_sol",
           "upper": 33564.9529296875
          },
          {
           "lower": 33719.8486328125,
           "timepoint": 79.0999984741211,
           "trajectory": "E_sol",
           "upper": 33720.0150390625
          },
          {
           "lower": 33875.335546875,
           "timepoint": 79.19999694824219,
           "trajectory": "E_sol",
           "upper": 33875.49296875
          },
          {
           "lower": 34031.25390625,
           "timepoint": 79.30000305175781,
           "trajectory": "E_sol",
           "upper": 34031.3966796875
          },
          {
           "lower": 34187.5716796875,
           "timepoint": 79.4000015258789,
           "trajectory": "E_sol",
           "upper": 34187.7091796875
          },
          {
           "lower": 34344.3017578125,
           "timepoint": 79.5,
           "trajectory": "E_sol",
           "upper": 34344.4826171875
          },
          {
           "lower": 34501.4412109375,
           "timepoint": 79.5999984741211,
           "trajectory": "E_sol",
           "upper": 34501.6228515625
          },
          {
           "lower": 34658.9833984375,
           "timepoint": 79.69999694824219,
           "trajectory": "E_sol",
           "upper": 34659.1736328125
          },
          {
           "lower": 34816.941796875,
           "timepoint": 79.80000305175781,
           "trajectory": "E_sol",
           "upper": 34817.1384765625
          },
          {
           "lower": 34975.264453125,
           "timepoint": 79.9000015258789,
           "trajectory": "E_sol",
           "upper": 34975.491796875
          },
          {
           "lower": 35134.04140625,
           "timepoint": 80,
           "trajectory": "E_sol",
           "upper": 35134.2513671875
          },
          {
           "lower": 3.33333360913457e-08,
           "timepoint": 0,
           "trajectory": "I_sol",
           "upper": 3.33333360913457e-08
          },
          {
           "lower": 32.58273277282715,
           "timepoint": 0.10000000149011612,
           "trajectory": "I_sol",
           "upper": 32.58274459838867
          },
          {
           "lower": 63.71609401702881,
           "timepoint": 0.20000000298023224,
           "trajectory": "I_sol",
           "upper": 63.716148376464844
          },
          {
           "lower": 93.47493324279785,
           "timepoint": 0.30000001192092896,
           "trajectory": "I_sol",
           "upper": 93.47502632141114
          },
          {
           "lower": 121.93011741638183,
           "timepoint": 0.4000000059604645,
           "trajectory": "I_sol",
           "upper": 121.93026542663574
          },
          {
           "lower": 149.14908981323242,
           "timepoint": 0.5,
           "trajectory": "I_sol",
           "upper": 149.1493766784668
          },
          {
           "lower": 175.19625015258788,
           "timepoint": 0.6000000238418579,
           "trajectory": "I_sol",
           "upper": 175.19632797241212
          },
          {
           "lower": 200.1317138671875,
           "timepoint": 0.699999988079071,
           "trajectory": "I_sol",
           "upper": 200.1321144104004
          },
          {
           "lower": 224.01356735229493,
           "timepoint": 0.800000011920929,
           "trajectory": "I_sol",
           "upper": 224.01380004882813
          },
          {
           "lower": 246.896475982666,
           "timepoint": 0.9000000357627869,
           "trajectory": "I_sol",
           "upper": 246.89691543579102
          },
          {
           "lower": 268.83231964111326,
           "timepoint": 1,
           "trajectory": "I_sol",
           "upper": 268.8324890136719
          },
          {
           "lower": 289.87074127197263,
           "timepoint": 1.100000023841858,
           "trajectory": "I_sol",
           "upper": 289.8709442138672
          },
          {
           "lower": 310.0580032348633,
           "timepoint": 1.2000000476837158,
           "trajectory": "I_sol",
           "upper": 310.05845794677737
          },
          {
           "lower": 329.4393142700195,
           "timepoint": 1.3000000715255737,
           "trajectory": "I_sol",
           "upper": 329.44014434814454
          },
          {
           "lower": 348.0570724487305,
           "timepoint": 1.399999976158142,
           "trajectory": "I_sol",
           "upper": 348.0573989868164
          },
          {
           "lower": 365.9506576538086,
           "timepoint": 1.5,
           "trajectory": "I_sol",
           "upper": 365.9510833740234
          },
          {
           "lower": 383.1586410522461,
           "timepoint": 1.600000023841858,
           "trajectory": "I_sol",
           "upper": 383.15926055908204
          },
          {
           "lower": 399.7165023803711,
           "timepoint": 1.7000000476837158,
           "trajectory": "I_sol",
           "upper": 399.7173141479492
          },
          {
           "lower": 415.66004791259763,
           "timepoint": 1.8000000715255737,
           "trajectory": "I_sol",
           "upper": 415.6603317260742
          },
          {
           "lower": 431.02032470703125,
           "timepoint": 1.899999976158142,
           "trajectory": "I_sol",
           "upper": 431.02049713134767
          },
          {
           "lower": 445.82887878417966,
           "timepoint": 2,
           "trajectory": "I_sol",
           "upper": 445.8292541503906
          },
          {
           "lower": 460.11533203125,
           "timepoint": 2.1000001430511475,
           "trajectory": "I_sol",
           "upper": 460.11595611572267
          },
          {
           "lower": 473.9076644897461,
           "timepoint": 2.200000047683716,
           "trajectory": "I_sol",
           "upper": 473.90806884765624
          },
          {
           "lower": 487.2316070556641,
           "timepoint": 2.299999952316284,
           "trajectory": "I_sol",
           "upper": 487.232177734375
          },
          {
           "lower": 500.1136779785156,
           "timepoint": 2.4000000953674316,
           "trajectory": "I_sol",
           "upper": 500.1140640258789
          },
          {
           "lower": 512.5764770507812,
           "timepoint": 2.5,
           "trajectory": "I_sol",
           "upper": 512.5767211914062
          },
          {
           "lower": 524.6431427001953,
           "timepoint": 2.6000001430511475,
           "trajectory": "I_sol",
           "upper": 524.6436889648437
          },
          {
           "lower": 536.3354766845703,
           "timepoint": 2.700000047683716,
           "trajectory": "I_sol",
           "upper": 536.3360900878906
          },
          {
           "lower": 547.6733947753906,
           "timepoint": 2.799999952316284,
           "trajectory": "I_sol",
           "upper": 547.674267578125
          },
          {
           "lower": 558.6767852783203,
           "timepoint": 2.9000000953674316,
           "trajectory": "I_sol",
           "upper": 558.6785430908203
          },
          {
           "lower": 569.364633178711,
           "timepoint": 3,
           "trajectory": "I_sol",
           "upper": 569.3656524658203
          },
          {
           "lower": 579.7535430908204,
           "timepoint": 3.1000001430511475,
           "trajectory": "I_sol",
           "upper": 579.7547729492187
          },
          {
           "lower": 589.8609008789062,
           "timepoint": 3.200000047683716,
           "trajectory": "I_sol",
           "upper": 589.8628509521484
          },
          {
           "lower": 599.7024078369141,
           "timepoint": 3.299999952316284,
           "trajectory": "I_sol",
           "upper": 599.703237915039
          },
          {
           "lower": 609.2917449951171,
           "timepoint": 3.4000000953674316,
           "trajectory": "I_sol",
           "upper": 609.2932739257812
          },
          {
           "lower": 618.6458160400391,
           "timepoint": 3.5,
           "trajectory": "I_sol",
           "upper": 618.6470947265625
          },
          {
           "lower": 627.7762115478515,
           "timepoint": 3.6000001430511475,
           "trajectory": "I_sol",
           "upper": 627.7769012451172
          },
          {
           "lower": 636.6960052490234,
           "timepoint": 3.700000047683716,
           "trajectory": "I_sol",
           "upper": 636.697055053711
          },
          {
           "lower": 645.417691040039,
           "timepoint": 3.799999952316284,
           "trajectory": "I_sol",
           "upper": 645.4197174072266
          },
          {
           "lower": 653.9525421142578,
           "timepoint": 3.9000000953674316,
           "trajectory": "I_sol",
           "upper": 653.9536254882812
          },
          {
           "lower": 662.3127349853515,
           "timepoint": 4,
           "trajectory": "I_sol",
           "upper": 662.3135375976562
          },
          {
           "lower": 670.5080505371094,
           "timepoint": 4.099999904632568,
           "trajectory": "I_sol",
           "upper": 670.5086364746094
          },
          {
           "lower": 678.5477233886719,
           "timepoint": 4.200000286102295,
           "trajectory": "I_sol",
           "upper": 678.5491607666015
          },
          {
           "lower": 686.4420349121094,
           "timepoint": 4.300000190734863,
           "trajectory": "I_sol",
           "upper": 686.4432983398438
          },
          {
           "lower": 694.1999725341797,
           "timepoint": 4.400000095367432,
           "trajectory": "I_sol",
           "upper": 694.2016387939453
          },
          {
           "lower": 701.831753540039,
           "timepoint": 4.5,
           "trajectory": "I_sol",
           "upper": 701.8321655273437
          },
          {
           "lower": 709.3420959472656,
           "timepoint": 4.599999904632568,
           "trajectory": "I_sol",
           "upper": 709.3430572509766
          },
          {
           "lower": 716.741455078125,
           "timepoint": 4.700000286102295,
           "trajectory": "I_sol",
           "upper": 716.7419555664062
          },
          {
           "lower": 724.0354553222656,
           "timepoint": 4.800000190734863,
           "trajectory": "I_sol",
           "upper": 724.0362274169922
          },
          {
           "lower": 731.2315093994141,
           "timepoint": 4.900000095367432,
           "trajectory": "I_sol",
           "upper": 731.2323333740235
          },
          {
           "lower": 738.3370178222656,
           "timepoint": 5,
           "trajectory": "I_sol",
           "upper": 738.3380462646485
          },
          {
           "lower": 745.3584808349609,
           "timepoint": 5.099999904632568,
           "trajectory": "I_sol",
           "upper": 745.3590270996094
          },
          {
           "lower": 752.3005004882813,
           "timepoint": 5.200000286102295,
           "trajectory": "I_sol",
           "upper": 752.3016723632812
          },
          {
           "lower": 759.1695892333985,
           "timepoint": 5.300000190734863,
           "trajectory": "I_sol",
           "upper": 759.17080078125
          },
          {
           "lower": 765.9719848632812,
           "timepoint": 5.400000095367432,
           "trajectory": "I_sol",
           "upper": 765.9727355957032
          },
          {
           "lower": 772.7113311767578,
           "timepoint": 5.5,
           "trajectory": "I_sol",
           "upper": 772.7129119873047
          },
          {
           "lower": 779.3932098388672,
           "timepoint": 5.599999904632568,
           "trajectory": "I_sol",
           "upper": 779.3947662353515
          },
          {
           "lower": 786.0224365234375,
           "timepoint": 5.700000286102295,
           "trajectory": "I_sol",
           "upper": 786.0234283447265
          },
          {
           "lower": 792.6036590576172,
           "timepoint": 5.800000190734863,
           "trajectory": "I_sol",
           "upper": 792.6045104980469
          },
          {
           "lower": 799.140380859375,
           "timepoint": 5.900000095367432,
           "trajectory": "I_sol",
           "upper": 799.1413757324219
          },
          {
           "lower": 805.6370269775391,
           "timepoint": 6,
           "trajectory": "I_sol",
           "upper": 805.6387176513672
          },
          {
           "lower": 812.0989990234375,
           "timepoint": 6.099999904632568,
           "trajectory": "I_sol",
           "upper": 812.0996948242188
          },
          {
           "lower": 818.5274322509765,
           "timepoint": 6.200000286102295,
           "trajectory": "I_sol",
           "upper": 818.5288635253906
          },
          {
           "lower": 824.9266632080078,
           "timepoint": 6.300000190734863,
           "trajectory": "I_sol",
           "upper": 824.9275573730469
          },
          {
           "lower": 831.3000701904297,
           "timepoint": 6.400000095367432,
           "trajectory": "I_sol",
           "upper": 831.3020629882812
          },
          {
           "lower": 837.6506164550781,
           "timepoint": 6.5,
           "trajectory": "I_sol",
           "upper": 837.6533874511719
          },
          {
           "lower": 843.98291015625,
           "timepoint": 6.599999904632568,
           "trajectory": "I_sol",
           "upper": 843.9837982177735
          },
          {
           "lower": 850.2978515625,
           "timepoint": 6.700000286102295,
           "trajectory": "I_sol",
           "upper": 850.2989624023437
          },
          {
           "lower": 856.5994812011719,
           "timepoint": 6.800000190734863,
           "trajectory": "I_sol",
           "upper": 856.6003112792969
          },
          {
           "lower": 862.8891235351563,
           "timepoint": 6.900000095367432,
           "trajectory": "I_sol",
           "upper": 862.8898315429688
          },
          {
           "lower": 869.1705139160156,
           "timepoint": 7,
           "trajectory": "I_sol",
           "upper": 869.1710266113281
          },
          {
           "lower": 875.4454620361328,
           "timepoint": 7.099999904632568,
           "trajectory": "I_sol",
           "upper": 875.4457397460938
          },
          {
           "lower": 881.7158020019531,
           "timepoint": 7.200000286102295,
           "trajectory": "I_sol",
           "upper": 881.7164642333985
          },
          {
           "lower": 887.9841064453125,
           "timepoint": 7.300000190734863,
           "trajectory": "I_sol",
           "upper": 887.9852416992187
          },
          {
           "lower": 894.2527069091797,
           "timepoint": 7.400000095367432,
           "trajectory": "I_sol",
           "upper": 894.2538848876953
          },
          {
           "lower": 900.5233642578125,
           "timepoint": 7.5,
           "trajectory": "I_sol",
           "upper": 900.5245391845704
          },
          {
           "lower": 906.7978424072265,
           "timepoint": 7.599999904632568,
           "trajectory": "I_sol",
           "upper": 906.7996215820312
          },
          {
           "lower": 913.0783966064453,
           "timepoint": 7.700000286102295,
           "trajectory": "I_sol",
           "upper": 913.0791625976562
          },
          {
           "lower": 919.3658386230469,
           "timepoint": 7.800000190734863,
           "trajectory": "I_sol",
           "upper": 919.3670379638672
          },
          {
           "lower": 925.662631225586,
           "timepoint": 7.900000095367432,
           "trajectory": "I_sol",
           "upper": 925.664096069336
          },
          {
           "lower": 931.970590209961,
           "timepoint": 8,
           "trajectory": "I_sol",
           "upper": 931.971826171875
          },
          {
           "lower": 938.2906341552734,
           "timepoint": 8.100000381469727,
           "trajectory": "I_sol",
           "upper": 938.2918853759766
          },
          {
           "lower": 944.6235717773437,
           "timepoint": 8.199999809265137,
           "trajectory": "I_sol",
           "upper": 944.6258056640625
          },
          {
           "lower": 950.9730163574219,
           "timepoint": 8.300000190734863,
           "trajectory": "I_sol",
           "upper": 950.9738220214844
          },
          {
           "lower": 957.3378112792968,
           "timepoint": 8.40000057220459,
           "trajectory": "I_sol",
           "upper": 957.3391784667969
          },
          {
           "lower": 963.7201354980468,
           "timepoint": 8.5,
           "trajectory": "I_sol",
           "upper": 963.7218719482422
          },
          {
           "lower": 970.1214019775391,
           "timepoint": 8.600000381469727,
           "trajectory": "I_sol",
           "upper": 970.1222045898437
          },
          {
           "lower": 976.5428405761719,
           "timepoint": 8.699999809265137,
           "trajectory": "I_sol",
           "upper": 976.5437591552734
          },
          {
           "lower": 982.9850158691406,
           "timepoint": 8.800000190734863,
           "trajectory": "I_sol",
           "upper": 982.9860565185547
          },
          {
           "lower": 989.450082397461,
           "timepoint": 8.90000057220459,
           "trajectory": "I_sol",
           "upper": 989.4509674072266
          },
          {
           "lower": 995.9377471923829,
           "timepoint": 9,
           "trajectory": "I_sol",
           "upper": 995.9387817382812
          },
          {
           "lower": 1002.4502655029297,
           "timepoint": 9.100000381469727,
           "trajectory": "I_sol",
           "upper": 1002.4511779785156
          },
          {
           "lower": 1008.9871856689454,
           "timepoint": 9.199999809265137,
           "trajectory": "I_sol",
           "upper": 1008.9888092041016
          },
          {
           "lower": 1015.5500396728515,
           "timepoint": 9.300000190734863,
           "trajectory": "I_sol",
           "upper": 1015.5525360107422
          },
          {
           "lower": 1022.1423034667969,
           "timepoint": 9.40000057220459,
           "trajectory": "I_sol",
           "upper": 1022.1436065673828
          },
          {
           "lower": 1028.7605041503907,
           "timepoint": 9.5,
           "trajectory": "I_sol",
           "upper": 1028.7622192382812
          },
          {
           "lower": 1035.4091674804688,
           "timepoint": 9.600000381469727,
           "trajectory": "I_sol",
           "upper": 1035.41005859375
          },
          {
           "lower": 1042.086114501953,
           "timepoint": 9.699999809265137,
           "trajectory": "I_sol",
           "upper": 1042.0877502441406
          },
          {
           "lower": 1048.7933227539063,
           "timepoint": 9.800000190734863,
           "trajectory": "I_sol",
           "upper": 1048.7948486328125
          },
          {
           "lower": 1055.5317016601562,
           "timepoint": 9.90000057220459,
           "trajectory": "I_sol",
           "upper": 1055.5329040527345
          },
          {
           "lower": 1062.302423095703,
           "timepoint": 10,
           "trajectory": "I_sol",
           "upper": 1062.3032348632812
          },
          {
           "lower": 1069.1050659179687,
           "timepoint": 10.100000381469727,
           "trajectory": "I_sol",
           "upper": 1069.106268310547
          },
          {
           "lower": 1075.9406005859375,
           "timepoint": 10.199999809265137,
           "trajectory": "I_sol",
           "upper": 1075.9425170898437
          },
          {
           "lower": 1082.8098388671874,
           "timepoint": 10.300000190734863,
           "trajectory": "I_sol",
           "upper": 1082.8126220703125
          },
          {
           "lower": 1089.716162109375,
           "timepoint": 10.40000057220459,
           "trajectory": "I_sol",
           "upper": 1089.7174865722657
          },
          {
           "lower": 1096.6556823730468,
           "timepoint": 10.5,
           "trajectory": "I_sol",
           "upper": 1096.6575866699218
          },
          {
           "lower": 1103.6313903808593,
           "timepoint": 10.600000381469727,
           "trajectory": "I_sol",
           "upper": 1103.6337646484376
          },
          {
           "lower": 1110.642755126953,
           "timepoint": 10.699999809265137,
           "trajectory": "I_sol",
           "upper": 1110.6444091796875
          },
          {
           "lower": 1117.6915344238282,
           "timepoint": 10.800000190734863,
           "trajectory": "I_sol",
           "upper": 1117.6933715820312
          },
          {
           "lower": 1124.7788391113281,
           "timepoint": 10.90000057220459,
           "trajectory": "I_sol",
           "upper": 1124.7799072265625
          },
          {
           "lower": 1131.903564453125,
           "timepoint": 11,
           "trajectory": "I_sol",
           "upper": 1131.904364013672
          },
          {
           "lower": 1139.066583251953,
           "timepoint": 11.100000381469727,
           "trajectory": "I_sol",
           "upper": 1139.0675170898437
          },
          {
           "lower": 1146.2686096191405,
           "timepoint": 11.199999809265137,
           "trajectory": "I_sol",
           "upper": 1146.2691650390625
          },
          {
           "lower": 1153.5101501464844,
           "timepoint": 11.300000190734863,
           "trajectory": "I_sol",
           "upper": 1153.511053466797
          },
          {
           "lower": 1160.7915405273438,
           "timepoint": 11.40000057220459,
           "trajectory": "I_sol",
           "upper": 1160.793212890625
          },
          {
           "lower": 1168.1135131835938,
           "timepoint": 11.5,
           "trajectory": "I_sol",
           "upper": 1168.1159118652345
          },
          {
           "lower": 1175.4786376953125,
           "timepoint": 11.600000381469727,
           "trajectory": "I_sol",
           "upper": 1175.480047607422
          },
          {
           "lower": 1182.8837097167968,
           "timepoint": 11.699999809265137,
           "trajectory": "I_sol",
           "upper": 1182.8856872558595
          },
          {
           "lower": 1190.3307739257812,
           "timepoint": 11.800000190734863,
           "trajectory": "I_sol",
           "upper": 1190.3329711914062
          },
          {
           "lower": 1197.8203735351562,
           "timepoint": 11.90000057220459,
           "trajectory": "I_sol",
           "upper": 1197.8233642578125
          },
          {
           "lower": 1205.3528198242188,
           "timepoint": 12,
           "trajectory": "I_sol",
           "upper": 1205.3549255371095
          },
          {
           "lower": 1212.9300964355468,
           "timepoint": 12.100000381469727,
           "trajectory": "I_sol",
           "upper": 1212.9314086914062
          },
          {
           "lower": 1220.5500366210938,
           "timepoint": 12.199999809265137,
           "trajectory": "I_sol",
           "upper": 1220.5516723632813
          },
          {
           "lower": 1228.214288330078,
           "timepoint": 12.300000190734863,
           "trajectory": "I_sol",
           "upper": 1228.2164245605468
          },
          {
           "lower": 1235.9236450195312,
           "timepoint": 12.40000057220459,
           "trajectory": "I_sol",
           "upper": 1235.9259765625
          },
          {
           "lower": 1243.6784545898438,
           "timepoint": 12.5,
           "trajectory": "I_sol",
           "upper": 1243.679754638672
          },
          {
           "lower": 1251.4782592773438,
           "timepoint": 12.600000381469727,
           "trajectory": "I_sol",
           "upper": 1251.4796081542968
          },
          {
           "lower": 1259.3235290527343,
           "timepoint": 12.699999809265137,
           "trajectory": "I_sol",
           "upper": 1259.3257690429687
          },
          {
           "lower": 1267.2159484863282,
           "timepoint": 12.800000190734863,
           "trajectory": "I_sol",
           "upper": 1267.218505859375
          },
          {
           "lower": 1275.1545104980469,
           "timepoint": 12.90000057220459,
           "trajectory": "I_sol",
           "upper": 1275.158184814453
          },
          {
           "lower": 1283.1418334960938,
           "timepoint": 13,
           "trajectory": "I_sol",
           "upper": 1283.1425354003907
          },
          {
           "lower": 1291.1755920410155,
           "timepoint": 13.100000381469727,
           "trajectory": "I_sol",
           "upper": 1291.1763488769532
          },
          {
           "lower": 1299.2573791503905,
           "timepoint": 13.199999809265137,
           "trajectory": "I_sol",
           "upper": 1299.2583801269532
          },
          {
           "lower": 1307.3872619628905,
           "timepoint": 13.300000190734863,
           "trajectory": "I_sol",
           "upper": 1307.3887512207032
          },
          {
           "lower": 1315.5660400390625,
           "timepoint": 13.40000057220459,
           "trajectory": "I_sol",
           "upper": 1315.5678955078124
          },
          {
           "lower": 1323.7940002441405,
           "timepoint": 13.5,
           "trajectory": "I_sol",
           "upper": 1323.7948791503907
          },
          {
           "lower": 1332.0713317871093,
           "timepoint": 13.600000381469727,
           "trajectory": "I_sol",
           "upper": 1332.0725463867188
          },
          {
           "lower": 1340.3982666015625,
           "timepoint": 13.699999809265137,
           "trajectory": "I_sol",
           "upper": 1340.399725341797
          },
          {
           "lower": 1348.775860595703,
           "timepoint": 13.800000190734863,
           "trajectory": "I_sol",
           "upper": 1348.777587890625
          },
          {
           "lower": 1357.2037353515625,
           "timepoint": 13.90000057220459,
           "trajectory": "I_sol",
           "upper": 1357.2062438964845
          },
          {
           "lower": 1365.6843688964843,
           "timepoint": 14,
           "trajectory": "I_sol",
           "upper": 1365.685791015625
          },
          {
           "lower": 1374.2149963378906,
           "timepoint": 14.100000381469727,
           "trajectory": "I_sol",
           "upper": 1374.2168090820312
          },
          {
           "lower": 1382.7972717285156,
           "timepoint": 14.199999809265137,
           "trajectory": "I_sol",
           "upper": 1382.799871826172
          },
          {
           "lower": 1391.4317138671875,
           "timepoint": 14.300000190734863,
           "trajectory": "I_sol",
           "upper": 1391.4350280761719
          },
          {
           "lower": 1400.1185363769532,
           "timepoint": 14.40000057220459,
           "trajectory": "I_sol",
           "upper": 1400.1228393554688
          },
          {
           "lower": 1408.8580261230468,
           "timepoint": 14.5,
           "trajectory": "I_sol",
           "upper": 1408.8633666992187
          },
          {
           "lower": 1417.6531066894531,
           "timepoint": 14.600000381469727,
           "trajectory": "I_sol",
           "upper": 1417.6561645507813
          },
          {
           "lower": 1426.4998168945312,
           "timepoint": 14.699999809265137,
           "trajectory": "I_sol",
           "upper": 1426.5036315917969
          },
          {
           "lower": 1435.4029418945313,
           "timepoint": 14.800000190734863,
           "trajectory": "I_sol",
           "upper": 1435.405419921875
          },
          {
           "lower": 1444.358905029297,
           "timepoint": 14.90000057220459,
           "trajectory": "I_sol",
           "upper": 1444.3616516113282
          },
          {
           "lower": 1453.3690673828125,
           "timepoint": 15,
           "trajectory": "I_sol",
           "upper": 1453.3727600097657
          },
          {
           "lower": 1462.4345153808595,
           "timepoint": 15.100000381469727,
           "trajectory": "I_sol",
           "upper": 1462.4391662597657
          },
          {
           "lower": 1471.5551818847657,
           "timepoint": 15.199999809265137,
           "trajectory": "I_sol",
           "upper": 1471.558660888672
          },
          {
           "lower": 1480.734637451172,
           "timepoint": 15.300000190734863,
           "trajectory": "I_sol",
           "upper": 1480.736083984375
          },
          {
           "lower": 1489.968280029297,
           "timepoint": 15.40000057220459,
           "trajectory": "I_sol",
           "upper": 1489.9699829101562
          },
          {
           "lower": 1499.2590209960938,
           "timepoint": 15.5,
           "trajectory": "I_sol",
           "upper": 1499.2605895996094
          },
          {
           "lower": 1508.6065979003906,
           "timepoint": 15.600000381469727,
           "trajectory": "I_sol",
           "upper": 1508.6083129882813
          },
          {
           "lower": 1518.0114379882812,
           "timepoint": 15.699999809265137,
           "trajectory": "I_sol",
           "upper": 1518.0135009765625
          },
          {
           "lower": 1527.4740417480468,
           "timepoint": 15.800000190734863,
           "trajectory": "I_sol",
           "upper": 1527.4754760742187
          },
          {
           "lower": 1536.9950378417968,
           "timepoint": 15.90000057220459,
           "trajectory": "I_sol",
           "upper": 1536.9965270996095
          },
          {
           "lower": 1546.574395751953,
           "timepoint": 16,
           "trajectory": "I_sol",
           "upper": 1546.5760864257813
          },
          {
           "lower": 1556.2129455566405,
           "timepoint": 16.100000381469727,
           "trajectory": "I_sol",
           "upper": 1556.2150268554688
          },
          {
           "lower": 1565.9106994628905,
           "timepoint": 16.200000762939453,
           "trajectory": "I_sol",
           "upper": 1565.9133911132812
          },
          {
           "lower": 1575.668389892578,
           "timepoint": 16.30000114440918,
           "trajectory": "I_sol",
           "upper": 1575.6702819824218
          },
          {
           "lower": 1585.48583984375,
           "timepoint": 16.399999618530273,
           "trajectory": "I_sol",
           "upper": 1585.4881652832032
          },
          {
           "lower": 1595.3640686035155,
           "timepoint": 16.5,
           "trajectory": "I_sol",
           "upper": 1595.3667846679687
          },
          {
           "lower": 1605.3030212402343,
           "timepoint": 16.600000381469727,
           "trajectory": "I_sol",
           "upper": 1605.3046447753907
          },
          {
           "lower": 1615.3033874511718,
           "timepoint": 16.700000762939453,
           "trajectory": "I_sol",
           "upper": 1615.3051330566407
          },
          {
           "lower": 1625.3653991699218,
           "timepoint": 16.80000114440918,
           "trajectory": "I_sol",
           "upper": 1625.3674011230469
          },
          {
           "lower": 1635.4895446777343,
           "timepoint": 16.899999618530273,
           "trajectory": "I_sol",
           "upper": 1635.4916259765625
          },
          {
           "lower": 1645.6761901855468,
           "timepoint": 17,
           "trajectory": "I_sol",
           "upper": 1645.6784729003907
          },
          {
           "lower": 1655.9255798339843,
           "timepoint": 17.100000381469727,
           "trajectory": "I_sol",
           "upper": 1655.9283752441406
          },
          {
           "lower": 1666.23828125,
           "timepoint": 17.200000762939453,
           "trajectory": "I_sol",
           "upper": 1666.2403564453125
          },
          {
           "lower": 1676.6145446777343,
           "timepoint": 17.30000114440918,
           "trajectory": "I_sol",
           "upper": 1676.6166687011719
          },
          {
           "lower": 1687.054638671875,
           "timepoint": 17.399999618530273,
           "trajectory": "I_sol",
           "upper": 1687.0572082519532
          },
          {
           "lower": 1697.5591979980468,
           "timepoint": 17.5,
           "trajectory": "I_sol",
           "upper": 1697.5625244140624
          },
          {
           "lower": 1708.129815673828,
           "timepoint": 17.600000381469727,
           "trajectory": "I_sol",
           "upper": 1708.1326477050782
          },
          {
           "lower": 1718.7649475097655,
           "timepoint": 17.700000762939453,
           "trajectory": "I_sol",
           "upper": 1718.7673767089843
          },
          {
           "lower": 1729.4658081054688,
           "timepoint": 17.80000114440918,
           "trajectory": "I_sol",
           "upper": 1729.4684936523438
          },
          {
           "lower": 1740.2324645996093,
           "timepoint": 17.899999618530273,
           "trajectory": "I_sol",
           "upper": 1740.2356079101562
          },
          {
           "lower": 1751.0659729003905,
           "timepoint": 18,
           "trajectory": "I_sol",
           "upper": 1751.0694274902344
          },
          {
           "lower": 1761.9663513183593,
           "timepoint": 18.100000381469727,
           "trajectory": "I_sol",
           "upper": 1761.9676635742187
          },
          {
           "lower": 1772.9341369628905,
           "timepoint": 18.200000762939453,
           "trajectory": "I_sol",
           "upper": 1772.9355590820312
          },
          {
           "lower": 1783.969659423828,
           "timepoint": 18.30000114440918,
           "trajectory": "I_sol",
           "upper": 1783.9712829589844
          },
          {
           "lower": 1795.073175048828,
           "timepoint": 18.399999618530273,
           "trajectory": "I_sol",
           "upper": 1795.0749450683593
          },
          {
           "lower": 1806.2450134277344,
           "timepoint": 18.5,
           "trajectory": "I_sol",
           "upper": 1806.246484375
          },
          {
           "lower": 1817.4862243652344,
           "timepoint": 18.600000381469727,
           "trajectory": "I_sol",
           "upper": 1817.4879272460937
          },
          {
           "lower": 1828.7970703125,
           "timepoint": 18.700000762939453,
           "trajectory": "I_sol",
           "upper": 1828.798828125
          },
          {
           "lower": 1840.177752685547,
           "timepoint": 18.80000114440918,
           "trajectory": "I_sol",
           "upper": 1840.1798217773437
          },
          {
           "lower": 1851.628436279297,
           "timepoint": 18.899999618530273,
           "trajectory": "I_sol",
           "upper": 1851.6309936523437
          },
          {
           "lower": 1863.1501098632812,
           "timepoint": 19,
           "trajectory": "I_sol",
           "upper": 1863.15224609375
          },
          {
           "lower": 1874.7429504394531,
           "timepoint": 19.100000381469727,
           "trajectory": "I_sol",
           "upper": 1874.7454772949218
          },
          {
           "lower": 1886.4075134277343,
           "timepoint": 19.200000762939453,
           "trajectory": "I_sol",
           "upper": 1886.4094360351562
          },
          {
           "lower": 1898.1441955566406,
           "timepoint": 19.30000114440918,
           "trajectory": "I_sol",
           "upper": 1898.1463745117187
          },
          {
           "lower": 1909.9530212402344,
           "timepoint": 19.399999618530273,
           "trajectory": "I_sol",
           "upper": 1909.9552795410157
          },
          {
           "lower": 1921.8352355957031,
           "timepoint": 19.5,
           "trajectory": "I_sol",
           "upper": 1921.8372802734375
          },
          {
           "lower": 1933.7906799316406,
           "timepoint": 19.600000381469727,
           "trajectory": "I_sol",
           "upper": 1933.793035888672
          },
          {
           "lower": 1945.8199768066406,
           "timepoint": 19.700000762939453,
           "trajectory": "I_sol",
           "upper": 1945.822576904297
          },
          {
           "lower": 1957.9235473632812,
           "timepoint": 19.80000114440918,
           "trajectory": "I_sol",
           "upper": 1957.9265258789062
          },
          {
           "lower": 1970.1017700195312,
           "timepoint": 19.899999618530273,
           "trajectory": "I_sol",
           "upper": 1970.10498046875
          },
          {
           "lower": 1982.3561462402345,
           "timepoint": 20,
           "trajectory": "I_sol",
           "upper": 1982.3592651367187
          },
          {
           "lower": 1994.6855895996093,
           "timepoint": 20.100000381469727,
           "trajectory": "I_sol",
           "upper": 1994.6890441894532
          },
          {
           "lower": 2007.0912719726562,
           "timepoint": 20.200000762939453,
           "trajectory": "I_sol",
           "upper": 2007.0949279785157
          },
          {
           "lower": 2019.5734924316407,
           "timepoint": 20.30000114440918,
           "trajectory": "I_sol",
           "upper": 2019.5775817871095
          },
          {
           "lower": 2032.132550048828,
           "timepoint": 20.399999618530273,
           "trajectory": "I_sol",
           "upper": 2032.137030029297
          },
          {
           "lower": 2044.7717834472655,
           "timepoint": 20.5,
           "trajectory": "I_sol",
           "upper": 2044.7743041992187
          },
          {
           "lower": 2057.487060546875,
           "timepoint": 20.600000381469727,
           "trajectory": "I_sol",
           "upper": 2057.489990234375
          },
          {
           "lower": 2070.28076171875,
           "timepoint": 20.700000762939453,
           "trajectory": "I_sol",
           "upper": 2070.283935546875
          },
          {
           "lower": 2083.153674316406,
           "timepoint": 20.80000114440918,
           "trajectory": "I_sol",
           "upper": 2083.156982421875
          },
          {
           "lower": 2096.1056884765626,
           "timepoint": 20.899999618530273,
           "trajectory": "I_sol",
           "upper": 2096.109619140625
          },
          {
           "lower": 2109.1382446289062,
           "timepoint": 21,
           "trajectory": "I_sol",
           "upper": 2109.142224121094
          },
          {
           "lower": 2122.25146484375,
           "timepoint": 21.100000381469727,
           "trajectory": "I_sol",
           "upper": 2122.255615234375
          },
          {
           "lower": 2135.445422363281,
           "timepoint": 21.200000762939453,
           "trajectory": "I_sol",
           "upper": 2135.4497314453124
          },
          {
           "lower": 2148.720568847656,
           "timepoint": 21.30000114440918,
           "trajectory": "I_sol",
           "upper": 2148.724755859375
          },
          {
           "lower": 2162.077587890625,
           "timepoint": 21.399999618530273,
           "trajectory": "I_sol",
           "upper": 2162.0819580078123
          },
          {
           "lower": 2175.5171508789062,
           "timepoint": 21.5,
           "trajectory": "I_sol",
           "upper": 2175.52216796875
          },
          {
           "lower": 2189.03994140625,
           "timepoint": 21.600000381469727,
           "trajectory": "I_sol",
           "upper": 2189.0452514648437
          },
          {
           "lower": 2202.6460083007814,
           "timepoint": 21.700000762939453,
           "trajectory": "I_sol",
           "upper": 2202.6491943359374
          },
          {
           "lower": 2216.3361694335936,
           "timepoint": 21.80000114440918,
           "trajectory": "I_sol",
           "upper": 2216.33984375
          },
          {
           "lower": 2230.1102905273438,
           "timepoint": 21.899999618530273,
           "trajectory": "I_sol",
           "upper": 2230.114501953125
          },
          {
           "lower": 2243.9699951171874,
           "timepoint": 22,
           "trajectory": "I_sol",
           "upper": 2243.974499511719
          },
          {
           "lower": 2257.914990234375,
           "timepoint": 22.100000381469727,
           "trajectory": "I_sol",
           "upper": 2257.919921875
          },
          {
           "lower": 2271.945947265625,
           "timepoint": 22.200000762939453,
           "trajectory": "I_sol",
           "upper": 2271.951416015625
          },
          {
           "lower": 2286.063684082031,
           "timepoint": 22.30000114440918,
           "trajectory": "I_sol",
           "upper": 2286.069714355469
          },
          {
           "lower": 2300.273059082031,
           "timepoint": 22.399999618530273,
           "trajectory": "I_sol",
           "upper": 2300.275280761719
          },
          {
           "lower": 2314.566027832031,
           "timepoint": 22.5,
           "trajectory": "I_sol",
           "upper": 2314.5683837890624
          },
          {
           "lower": 2328.947131347656,
           "timepoint": 22.600000381469727,
           "trajectory": "I_sol",
           "upper": 2328.9494873046874
          },
          {
           "lower": 2343.416748046875,
           "timepoint": 22.700000762939453,
           "trajectory": "I_sol",
           "upper": 2343.4193481445313
          },
          {
           "lower": 2357.975830078125,
           "timepoint": 22.80000114440918,
           "trajectory": "I_sol",
           "upper": 2357.9785400390624
          },
          {
           "lower": 2372.624267578125,
           "timepoint": 22.899999618530273,
           "trajectory": "I_sol",
           "upper": 2372.627819824219
          },
          {
           "lower": 2387.36328125,
           "timepoint": 23,
           "trajectory": "I_sol",
           "upper": 2387.36748046875
          },
          {
           "lower": 2402.193359375,
           "timepoint": 23.100000381469727,
           "trajectory": "I_sol",
           "upper": 2402.1980712890627
          },
          {
           "lower": 2417.1147216796876,
           "timepoint": 23.200000762939453,
           "trajectory": "I_sol",
           "upper": 2417.1203491210936
          },
          {
           "lower": 2432.1287231445312,
           "timepoint": 23.30000114440918,
           "trajectory": "I_sol",
           "upper": 2432.1350219726564
          },
          {
           "lower": 2447.2346801757812,
           "timepoint": 23.399999618530273,
           "trajectory": "I_sol",
           "upper": 2447.2420043945312
          },
          {
           "lower": 2462.4351440429687,
           "timepoint": 23.5,
           "trajectory": "I_sol",
           "upper": 2462.4419799804687
          },
          {
           "lower": 2477.728137207031,
           "timepoint": 23.600000381469727,
           "trajectory": "I_sol",
           "upper": 2477.732629394531
          },
          {
           "lower": 2493.115832519531,
           "timepoint": 23.700000762939453,
           "trajectory": "I_sol",
           "upper": 2493.1204345703127
          },
          {
           "lower": 2508.598010253906,
           "timepoint": 23.80000114440918,
           "trajectory": "I_sol",
           "upper": 2508.603125
          },
          {
           "lower": 2524.175537109375,
           "timepoint": 23.899999618530273,
           "trajectory": "I_sol",
           "upper": 2524.17900390625
          },
          {
           "lower": 2539.849719238281,
           "timepoint": 24,
           "trajectory": "I_sol",
           "upper": 2539.853076171875
          },
          {
           "lower": 2555.620227050781,
           "timepoint": 24.100000381469727,
           "trajectory": "I_sol",
           "upper": 2555.623583984375
          },
          {
           "lower": 2571.488146972656,
           "timepoint": 24.200000762939453,
           "trajectory": "I_sol",
           "upper": 2571.4911254882813
          },
          {
           "lower": 2587.4533447265626,
           "timepoint": 24.30000114440918,
           "trajectory": "I_sol",
           "upper": 2587.4564819335938
          },
          {
           "lower": 2603.516711425781,
           "timepoint": 24.399999618530273,
           "trajectory": "I_sol",
           "upper": 2603.520227050781
          },
          {
           "lower": 2619.679309082031,
           "timepoint": 24.5,
           "trajectory": "I_sol",
           "upper": 2619.682666015625
          },
          {
           "lower": 2635.941516113281,
           "timepoint": 24.600000381469727,
           "trajectory": "I_sol",
           "upper": 2635.9451171875
          },
          {
           "lower": 2652.3039306640626,
           "timepoint": 24.700000762939453,
           "trajectory": "I_sol",
           "upper": 2652.3075561523438
          },
          {
           "lower": 2668.767578125,
           "timepoint": 24.80000114440918,
           "trajectory": "I_sol",
           "upper": 2668.77080078125
          },
          {
           "lower": 2685.3318725585937,
           "timepoint": 24.899999618530273,
           "trajectory": "I_sol",
           "upper": 2685.335583496094
          },
          {
           "lower": 2701.9986206054687,
           "timepoint": 25,
           "trajectory": "I_sol",
           "upper": 2702.0024658203124
          },
          {
           "lower": 2718.7670654296876,
           "timepoint": 25.100000381469727,
           "trajectory": "I_sol",
           "upper": 2718.7713989257813
          },
          {
           "lower": 2735.6398681640626,
           "timepoint": 25.200000762939453,
           "trajectory": "I_sol",
           "upper": 2735.6438232421874
          },
          {
           "lower": 2752.616076660156,
           "timepoint": 25.30000114440918,
           "trajectory": "I_sol",
           "upper": 2752.6203857421874
          },
          {
           "lower": 2769.696643066406,
           "timepoint": 25.399999618530273,
           "trajectory": "I_sol",
           "upper": 2769.7009521484374
          },
          {
           "lower": 2786.8828735351562,
           "timepoint": 25.5,
           "trajectory": "I_sol",
           "upper": 2786.886962890625
          },
          {
           "lower": 2804.1747314453123,
           "timepoint": 25.600000381469727,
           "trajectory": "I_sol",
           "upper": 2804.17919921875
          },
          {
           "lower": 2821.572790527344,
           "timepoint": 25.700000762939453,
           "trajectory": "I_sol",
           "upper": 2821.5771484375
          },
          {
           "lower": 2839.077587890625,
           "timepoint": 25.80000114440918,
           "trajectory": "I_sol",
           "upper": 2839.082653808594
          },
          {
           "lower": 2856.6900024414062,
           "timepoint": 25.899999618530273,
           "trajectory": "I_sol",
           "upper": 2856.6954711914063
          },
          {
           "lower": 2874.411169433594,
           "timepoint": 26,
           "trajectory": "I_sol",
           "upper": 2874.4166870117188
          },
          {
           "lower": 2892.241357421875,
           "timepoint": 26.100000381469727,
           "trajectory": "I_sol",
           "upper": 2892.247033691406
          },
          {
           "lower": 2910.181298828125,
           "timepoint": 26.200000762939453,
           "trajectory": "I_sol",
           "upper": 2910.1860595703124
          },
          {
           "lower": 2928.2312133789064,
           "timepoint": 26.30000114440918,
           "trajectory": "I_sol",
           "upper": 2928.236218261719
          },
          {
           "lower": 2946.3921020507814,
           "timepoint": 26.399999618530273,
           "trajectory": "I_sol",
           "upper": 2946.397106933594
          },
          {
           "lower": 2964.664892578125,
           "timepoint": 26.5,
           "trajectory": "I_sol",
           "upper": 2964.670056152344
          },
          {
           "lower": 2983.0496337890627,
           "timepoint": 26.600000381469727,
           "trajectory": "I_sol",
           "upper": 2983.0554443359374
          },
          {
           "lower": 3001.5477905273438,
           "timepoint": 26.700000762939453,
           "trajectory": "I_sol",
           "upper": 3001.554650878906
          },
          {
           "lower": 3020.159777832031,
           "timepoint": 26.80000114440918,
           "trajectory": "I_sol",
           "upper": 3020.166711425781
          },
          {
           "lower": 3038.8853393554687,
           "timepoint": 26.899999618530273,
           "trajectory": "I_sol",
           "upper": 3038.8928955078127
          },
          {
           "lower": 3057.72646484375,
           "timepoint": 27,
           "trajectory": "I_sol",
           "upper": 3057.734338378906
          },
          {
           "lower": 3076.6834716796875,
           "timepoint": 27.100000381469727,
           "trajectory": "I_sol",
           "upper": 3076.691857910156
          },
          {
           "lower": 3095.7609375,
           "timepoint": 27.200000762939453,
           "trajectory": "I_sol",
           "upper": 3095.765588378906
          },
          {
           "lower": 3114.95185546875,
           "timepoint": 27.30000114440918,
           "trajectory": "I_sol",
           "upper": 3114.956506347656
          },
          {
           "lower": 3134.2603149414062,
           "timepoint": 27.399999618530273,
           "trajectory": "I_sol",
           "upper": 3134.26474609375
          },
          {
           "lower": 3153.6880493164062,
           "timepoint": 27.5,
           "trajectory": "I_sol",
           "upper": 3153.6922119140627
          },
          {
           "lower": 3173.2344360351562,
           "timepoint": 27.600000381469727,
           "trajectory": "I_sol",
           "upper": 3173.239221191406
          },
          {
           "lower": 3192.90107421875,
           "timepoint": 27.700000762939453,
           "trajectory": "I_sol",
           "upper": 3192.905725097656
          },
          {
           "lower": 3212.688757324219,
           "timepoint": 27.80000114440918,
           "trajectory": "I_sol",
           "upper": 3212.6932983398438
          },
          {
           "lower": 3232.5975830078123,
           "timepoint": 27.899999618530273,
           "trajectory": "I_sol",
           "upper": 3232.6018798828127
          },
          {
           "lower": 3252.628369140625,
           "timepoint": 28,
           "trajectory": "I_sol",
           "upper": 3252.6333740234377
          },
          {
           "lower": 3272.782421875,
           "timepoint": 28.100000381469727,
           "trajectory": "I_sol",
           "upper": 3272.787158203125
          },
          {
           "lower": 3293.0598999023437,
           "timepoint": 28.200000762939453,
           "trajectory": "I_sol",
           "upper": 3293.0654541015624
          },
          {
           "lower": 3313.461779785156,
           "timepoint": 28.30000114440918,
           "trajectory": "I_sol",
           "upper": 3313.467663574219
          },
          {
           "lower": 3333.9893188476562,
           "timepoint": 28.399999618530273,
           "trajectory": "I_sol",
           "upper": 3333.99462890625
          },
          {
           "lower": 3354.6427734375,
           "timepoint": 28.5,
           "trajectory": "I_sol",
           "upper": 3354.64794921875
          },
          {
           "lower": 3375.42255859375,
           "timepoint": 28.600000381469727,
           "trajectory": "I_sol",
           "upper": 3375.428112792969
          },
          {
           "lower": 3396.3297607421873,
           "timepoint": 28.700000762939453,
           "trajectory": "I_sol",
           "upper": 3396.335583496094
          },
          {
           "lower": 3417.3654296875,
           "timepoint": 28.80000114440918,
           "trajectory": "I_sol",
           "upper": 3417.3723876953127
          },
          {
           "lower": 3438.5301513671875,
           "timepoint": 28.899999618530273,
           "trajectory": "I_sol",
           "upper": 3438.536962890625
          },
          {
           "lower": 3459.824670410156,
           "timepoint": 29,
           "trajectory": "I_sol",
           "upper": 3459.831506347656
          },
          {
           "lower": 3481.2494506835938,
           "timepoint": 29.100000381469727,
           "trajectory": "I_sol",
           "upper": 3481.256311035156
          },
          {
           "lower": 3502.8056884765624,
           "timepoint": 29.200000762939453,
           "trajectory": "I_sol",
           "upper": 3502.812841796875
          },
          {
           "lower": 3524.495642089844,
           "timepoint": 29.30000114440918,
           "trajectory": "I_sol",
           "upper": 3524.501428222656
          },
          {
           "lower": 3546.316687011719,
           "timepoint": 29.399999618530273,
           "trajectory": "I_sol",
           "upper": 3546.3224975585936
          },
          {
           "lower": 3568.271520996094,
           "timepoint": 29.5,
           "trajectory": "I_sol",
           "upper": 3568.2777099609375
          },
          {
           "lower": 3590.3611450195312,
           "timepoint": 29.600000381469727,
           "trajectory": "I_sol",
           "upper": 3590.3676635742186
          },
          {
           "lower": 3612.5858642578123,
           "timepoint": 29.700000762939453,
           "trajectory": "I_sol",
           "upper": 3612.59287109375
          },
          {
           "lower": 3634.946484375,
           "timepoint": 29.80000114440918,
           "trajectory": "I_sol",
           "upper": 3634.9543334960936
          },
          {
           "lower": 3657.443713378906,
           "timepoint": 29.899999618530273,
           "trajectory": "I_sol",
           "upper": 3657.4518920898436
          },
          {
           "lower": 3680.07978515625,
           "timepoint": 30,
           "trajectory": "I_sol",
           "upper": 3680.0874633789062
          },
          {
           "lower": 3702.854113769531,
           "timepoint": 30.100000381469727,
           "trajectory": "I_sol",
           "upper": 3702.86201171875
          },
          {
           "lower": 3725.7676635742187,
           "timepoint": 30.200000762939453,
           "trajectory": "I_sol",
           "upper": 3725.7757202148437
          },
          {
           "lower": 3748.821643066406,
           "timepoint": 30.30000114440918,
           "trajectory": "I_sol",
           "upper": 3748.830078125
          },
          {
           "lower": 3772.015979003906,
           "timepoint": 30.399999618530273,
           "trajectory": "I_sol",
           "upper": 3772.024658203125
          },
          {
           "lower": 3795.3530029296876,
           "timepoint": 30.5,
           "trajectory": "I_sol",
           "upper": 3795.362109375
          },
          {
           "lower": 3818.8326049804687,
           "timepoint": 30.600000381469727,
           "trajectory": "I_sol",
           "upper": 3818.8419799804688
          },
          {
           "lower": 3842.45576171875,
           "timepoint": 30.700000762939453,
           "trajectory": "I_sol",
           "upper": 3842.4656494140627
          },
          {
           "lower": 3866.2236938476562,
           "timepoint": 30.80000114440918,
           "trajectory": "I_sol",
           "upper": 3866.2338745117186
          },
          {
           "lower": 3890.1364013671873,
           "timepoint": 30.899999618530273,
           "trajectory": "I_sol",
           "upper": 3890.1470947265625
          },
          {
           "lower": 3914.196887207031,
           "timepoint": 31,
           "trajectory": "I_sol",
           "upper": 3914.2037109375
          },
          {
           "lower": 3938.403430175781,
           "timepoint": 31.100000381469727,
           "trajectory": "I_sol",
           "upper": 3938.410498046875
          },
          {
           "lower": 3962.758166503906,
           "timepoint": 31.200000762939453,
           "trajectory": "I_sol",
           "upper": 3962.765100097656
          },
          {
           "lower": 3987.2616943359376,
           "timepoint": 31.30000114440918,
           "trajectory": "I_sol",
           "upper": 3987.268518066406
          },
          {
           "lower": 4011.9146362304687,
           "timepoint": 31.399999618530273,
           "trajectory": "I_sol",
           "upper": 4011.9215698242188
          },
          {
           "lower": 4036.7172119140623,
           "timepoint": 31.5,
           "trajectory": "I_sol",
           "upper": 4036.7255249023438
          },
          {
           "lower": 4061.672644042969,
           "timepoint": 31.600000381469727,
           "trajectory": "I_sol",
           "upper": 4061.6810913085938
          },
          {
           "lower": 4086.780419921875,
           "timepoint": 31.700000762939453,
           "trajectory": "I_sol",
           "upper": 4086.7892456054688
          },
          {
           "lower": 4112.0416259765625,
           "timepoint": 31.80000114440918,
           "trajectory": "I_sol",
           "upper": 4112.050830078125
          },
          {
           "lower": 4137.4564453125,
           "timepoint": 31.899999618530273,
           "trajectory": "I_sol",
           "upper": 4137.466357421875
          },
          {
           "lower": 4163.0264892578125,
           "timepoint": 32,
           "trajectory": "I_sol",
           "upper": 4163.037158203125
          },
          {
           "lower": 4188.75380859375,
           "timepoint": 32.10000228881836,
           "trajectory": "I_sol",
           "upper": 4188.7646484375
          },
          {
           "lower": 4214.636669921875,
           "timepoint": 32.20000076293945,
           "trajectory": "I_sol",
           "upper": 4214.648974609375
          },
          {
           "lower": 4240.677685546875,
           "timepoint": 32.29999923706055,
           "trajectory": "I_sol",
           "upper": 4240.690698242188
          },
          {
           "lower": 4266.878588867187,
           "timepoint": 32.400001525878906,
           "trajectory": "I_sol",
           "upper": 4266.892407226563
          },
          {
           "lower": 4293.238500976562,
           "timepoint": 32.5,
           "trajectory": "I_sol",
           "upper": 4293.250219726562
          },
          {
           "lower": 4319.759985351562,
           "timepoint": 32.60000228881836,
           "trajectory": "I_sol",
           "upper": 4319.772680664062
          },
          {
           "lower": 4346.442114257812,
           "timepoint": 32.70000076293945,
           "trajectory": "I_sol",
           "upper": 4346.4556640625
          },
          {
           "lower": 4373.28759765625,
           "timepoint": 32.79999923706055,
           "trajectory": "I_sol",
           "upper": 4373.3016357421875
          },
          {
           "lower": 4400.297314453125,
           "timepoint": 32.900001525878906,
           "trajectory": "I_sol",
           "upper": 4400.306079101562
          },
          {
           "lower": 4427.470874023437,
           "timepoint": 33,
           "trajectory": "I_sol",
           "upper": 4427.479638671875
          },
          {
           "lower": 4454.810986328125,
           "timepoint": 33.10000228881836,
           "trajectory": "I_sol",
           "upper": 4454.8201904296875
          },
          {
           "lower": 4482.31630859375,
           "timepoint": 33.20000076293945,
           "trajectory": "I_sol",
           "upper": 4482.32578125
          },
          {
           "lower": 4509.989428710937,
           "timepoint": 33.29999923706055,
           "trajectory": "I_sol",
           "upper": 4509.998852539063
          },
          {
           "lower": 4537.831982421875,
           "timepoint": 33.400001525878906,
           "trajectory": "I_sol",
           "upper": 4537.842114257813
          },
          {
           "lower": 4565.84228515625,
           "timepoint": 33.5,
           "trajectory": "I_sol",
           "upper": 4565.853833007813
          },
          {
           "lower": 4594.02490234375,
           "timepoint": 33.60000228881836,
           "trajectory": "I_sol",
           "upper": 4594.037158203125
          },
          {
           "lower": 4622.377612304687,
           "timepoint": 33.70000076293945,
           "trajectory": "I_sol",
           "upper": 4622.390893554688
          },
          {
           "lower": 4650.903002929687,
           "timepoint": 33.79999923706055,
           "trajectory": "I_sol",
           "upper": 4650.917260742188
          },
          {
           "lower": 4679.6031494140625,
           "timepoint": 33.900001525878906,
           "trajectory": "I_sol",
           "upper": 4679.618920898438
          },
          {
           "lower": 4708.479345703125,
           "timepoint": 34,
           "trajectory": "I_sol",
           "upper": 4708.493310546875
          },
          {
           "lower": 4737.533374023437,
           "timepoint": 34.10000228881836,
           "trajectory": "I_sol",
           "upper": 4737.5447265625
          },
          {
           "lower": 4766.759985351562,
           "timepoint": 34.20000076293945,
           "trajectory": "I_sol",
           "upper": 4766.771826171875
          },
          {
           "lower": 4796.163793945312,
           "timepoint": 34.29999923706055,
           "trajectory": "I_sol",
           "upper": 4796.17763671875
          },
          {
           "lower": 4825.748754882812,
           "timepoint": 34.400001525878906,
           "trajectory": "I_sol",
           "upper": 4825.758081054688
          },
          {
           "lower": 4855.512158203125,
           "timepoint": 34.5,
           "trajectory": "I_sol",
           "upper": 4855.521752929688
          },
          {
           "lower": 4885.457202148437,
           "timepoint": 34.60000228881836,
           "trajectory": "I_sol",
           "upper": 4885.467065429688
          },
          {
           "lower": 4915.583081054688,
           "timepoint": 34.70000076293945,
           "trajectory": "I_sol",
           "upper": 4915.593530273438
          },
          {
           "lower": 4945.892114257813,
           "timepoint": 34.79999923706055,
           "trajectory": "I_sol",
           "upper": 4945.90546875
          },
          {
           "lower": 4976.3869140625,
           "timepoint": 34.900001525878906,
           "trajectory": "I_sol",
           "upper": 4976.4005859375
          },
          {
           "lower": 5007.0648193359375,
           "timepoint": 35,
           "trajectory": "I_sol",
           "upper": 5007.079296875
          },
          {
           "lower": 5037.935229492187,
           "timepoint": 35.10000228881836,
           "trajectory": "I_sol",
           "upper": 5037.945727539062
          },
          {
           "lower": 5068.98818359375,
           "timepoint": 35.20000076293945,
           "trajectory": "I_sol",
           "upper": 5068.998950195312
          },
          {
           "lower": 5100.229296875,
           "timepoint": 35.29999923706055,
           "trajectory": "I_sol",
           "upper": 5100.240209960937
          },
          {
           "lower": 5131.661108398437,
           "timepoint": 35.400001525878906,
           "trajectory": "I_sol",
           "upper": 5131.673046875
          },
          {
           "lower": 5163.28115234375,
           "timepoint": 35.5,
           "trajectory": "I_sol",
           "upper": 5163.294091796875
          },
          {
           "lower": 5195.095068359375,
           "timepoint": 35.60000228881836,
           "trajectory": "I_sol",
           "upper": 5195.109301757812
          },
          {
           "lower": 5227.100830078125,
           "timepoint": 35.70000076293945,
           "trajectory": "I_sol",
           "upper": 5227.116137695312
          },
          {
           "lower": 5259.300708007812,
           "timepoint": 35.79999923706055,
           "trajectory": "I_sol",
           "upper": 5259.317529296875
          },
          {
           "lower": 5291.696826171875,
           "timepoint": 35.900001525878906,
           "trajectory": "I_sol",
           "upper": 5291.7147216796875
          },
          {
           "lower": 5324.288354492188,
           "timepoint": 36,
           "trajectory": "I_sol",
           "upper": 5324.307763671875
          },
          {
           "lower": 5357.0860595703125,
           "timepoint": 36.10000228881836,
           "trajectory": "I_sol",
           "upper": 5357.09921875
          },
          {
           "lower": 5390.074780273438,
           "timepoint": 36.20000076293945,
           "trajectory": "I_sol",
           "upper": 5390.088427734375
          },
          {
           "lower": 5423.263256835938,
           "timepoint": 36.29999923706055,
           "trajectory": "I_sol",
           "upper": 5423.2755859375
          },
          {
           "lower": 5456.654858398438,
           "timepoint": 36.400001525878906,
           "trajectory": "I_sol",
           "upper": 5456.6671875
          },
          {
           "lower": 5490.246118164063,
           "timepoint": 36.5,
           "trajectory": "I_sol",
           "upper": 5490.259692382812
          },
          {
           "lower": 5524.043481445313,
           "timepoint": 36.60000228881836,
           "trajectory": "I_sol",
           "upper": 5524.056298828125
          },
          {
           "lower": 5558.043432617187,
           "timepoint": 36.70000076293945,
           "trajectory": "I_sol",
           "upper": 5558.056567382812
          },
          {
           "lower": 5592.24921875,
           "timepoint": 36.79999923706055,
           "trajectory": "I_sol",
           "upper": 5592.263159179687
          },
          {
           "lower": 5626.663989257812,
           "timepoint": 36.900001525878906,
           "trajectory": "I_sol",
           "upper": 5626.678198242187
          },
          {
           "lower": 5661.2850341796875,
           "timepoint": 37,
           "trajectory": "I_sol",
           "upper": 5661.29951171875
          },
          {
           "lower": 5696.116796875,
           "timepoint": 37.10000228881836,
           "trajectory": "I_sol",
           "upper": 5696.131811523437
          },
          {
           "lower": 5731.1578125,
           "timepoint": 37.20000076293945,
           "trajectory": "I_sol",
           "upper": 5731.173486328125
          },
          {
           "lower": 5766.410693359375,
           "timepoint": 37.29999923706055,
           "trajectory": "I_sol",
           "upper": 5766.4279296875
          },
          {
           "lower": 5801.881420898438,
           "timepoint": 37.400001525878906,
           "trajectory": "I_sol",
           "upper": 5801.895434570312
          },
          {
           "lower": 5837.562084960938,
           "timepoint": 37.5,
           "trajectory": "I_sol",
           "upper": 5837.577563476562
          },
          {
           "lower": 5873.460034179688,
           "timepoint": 37.60000228881836,
           "trajectory": "I_sol",
           "upper": 5873.4754638671875
          },
          {
           "lower": 5909.573583984375,
           "timepoint": 37.70000076293945,
           "trajectory": "I_sol",
           "upper": 5909.5897216796875
          },
          {
           "lower": 5945.9049072265625,
           "timepoint": 37.79999923706055,
           "trajectory": "I_sol",
           "upper": 5945.921704101563
          },
          {
           "lower": 5982.45693359375,
           "timepoint": 37.900001525878906,
           "trajectory": "I_sol",
           "upper": 5982.475415039063
          },
          {
           "lower": 6019.228686523437,
           "timepoint": 38,
           "trajectory": "I_sol",
           "upper": 6019.247387695313
          },
          {
           "lower": 6056.223364257812,
           "timepoint": 38.10000228881836,
           "trajectory": "I_sol",
           "upper": 6056.2431640625
          },
          {
           "lower": 6093.439672851562,
           "timepoint": 38.20000076293945,
           "trajectory": "I_sol",
           "upper": 6093.461206054688
          },
          {
           "lower": 6130.881079101562,
           "timepoint": 38.29999923706055,
           "trajectory": "I_sol",
           "upper": 6130.904125976563
          },
          {
           "lower": 6168.5489501953125,
           "timepoint": 38.400001525878906,
           "trajectory": "I_sol",
           "upper": 6168.56923828125
          },
          {
           "lower": 6206.442724609375,
           "timepoint": 38.5,
           "trajectory": "I_sol",
           "upper": 6206.464526367187
          },
          {
           "lower": 6244.566430664063,
           "timepoint": 38.60000228881836,
           "trajectory": "I_sol",
           "upper": 6244.589526367187
          },
          {
           "lower": 6282.918920898437,
           "timepoint": 38.70000076293945,
           "trajectory": "I_sol",
           "upper": 6282.94072265625
          },
          {
           "lower": 6321.507788085937,
           "timepoint": 38.79999923706055,
           "trajectory": "I_sol",
           "upper": 6321.525415039063
          },
          {
           "lower": 6360.324951171875,
           "timepoint": 38.900001525878906,
           "trajectory": "I_sol",
           "upper": 6360.343774414063
          },
          {
           "lower": 6399.3763427734375,
           "timepoint": 39,
           "trajectory": "I_sol",
           "upper": 6399.395043945313
          },
          {
           "lower": 6438.663403320313,
           "timepoint": 39.10000228881836,
           "trajectory": "I_sol",
           "upper": 6438.682153320313
          },
          {
           "lower": 6478.185546875,
           "timepoint": 39.20000076293945,
           "trajectory": "I_sol",
           "upper": 6478.205102539063
          },
          {
           "lower": 6517.9490234375,
           "timepoint": 39.29999923706055,
           "trajectory": "I_sol",
           "upper": 6517.965625
          },
          {
           "lower": 6557.950048828125,
           "timepoint": 39.400001525878906,
           "trajectory": "I_sol",
           "upper": 6557.96708984375
          },
          {
           "lower": 6598.18984375,
           "timepoint": 39.5,
           "trajectory": "I_sol",
           "upper": 6598.2078125
          },
          {
           "lower": 6638.673999023437,
           "timepoint": 39.60000228881836,
           "trajectory": "I_sol",
           "upper": 6638.692456054688
          },
          {
           "lower": 6679.398657226562,
           "timepoint": 39.70000076293945,
           "trajectory": "I_sol",
           "upper": 6679.4185791015625
          },
          {
           "lower": 6720.369091796875,
           "timepoint": 39.79999923706055,
           "trajectory": "I_sol",
           "upper": 6720.38955078125
          },
          {
           "lower": 6761.590795898437,
           "timepoint": 39.900001525878906,
           "trajectory": "I_sol",
           "upper": 6761.608569335937
          },
          {
           "lower": 6803.0548095703125,
           "timepoint": 40,
           "trajectory": "I_sol",
           "upper": 6803.07421875
          },
          {
           "lower": 6844.768896484375,
           "timepoint": 40.099998474121094,
           "trajectory": "I_sol",
           "upper": 6844.788623046875
          },
          {
           "lower": 6886.7354736328125,
           "timepoint": 40.20000076293945,
           "trajectory": "I_sol",
           "upper": 6886.755908203125
          },
          {
           "lower": 6928.9517822265625,
           "timepoint": 40.29999923706055,
           "trajectory": "I_sol",
           "upper": 6928.9735107421875
          },
          {
           "lower": 6971.422265625,
           "timepoint": 40.39999771118164,
           "trajectory": "I_sol",
           "upper": 6971.444262695312
          },
          {
           "lower": 7014.148828125,
           "timepoint": 40.5,
           "trajectory": "I_sol",
           "upper": 7014.171142578125
          },
          {
           "lower": 7057.129565429687,
           "timepoint": 40.599998474121094,
           "trajectory": "I_sol",
           "upper": 7057.153662109375
          },
          {
           "lower": 7100.370336914062,
           "timepoint": 40.70000076293945,
           "trajectory": "I_sol",
           "upper": 7100.3892822265625
          },
          {
           "lower": 7143.868334960937,
           "timepoint": 40.79999923706055,
           "trajectory": "I_sol",
           "upper": 7143.8883056640625
          },
          {
           "lower": 7187.629248046875,
           "timepoint": 40.89999771118164,
           "trajectory": "I_sol",
           "upper": 7187.647802734375
          },
          {
           "lower": 7231.6534423828125,
           "timepoint": 41,
           "trajectory": "I_sol",
           "upper": 7231.671240234375
          },
          {
           "lower": 7275.93935546875,
           "timepoint": 41.099998474121094,
           "trajectory": "I_sol",
           "upper": 7275.957104492188
          },
          {
           "lower": 7320.492260742188,
           "timepoint": 41.20000076293945,
           "trajectory": "I_sol",
           "upper": 7320.51005859375
          },
          {
           "lower": 7365.308251953125,
           "timepoint": 41.29999923706055,
           "trajectory": "I_sol",
           "upper": 7365.328149414063
          },
          {
           "lower": 7410.394677734375,
           "timepoint": 41.39999771118164,
           "trajectory": "I_sol",
           "upper": 7410.414306640625
          },
          {
           "lower": 7455.751879882812,
           "timepoint": 41.5,
           "trajectory": "I_sol",
           "upper": 7455.77265625
          },
          {
           "lower": 7501.3797607421875,
           "timepoint": 41.599998474121094,
           "trajectory": "I_sol",
           "upper": 7501.4005859375
          },
          {
           "lower": 7547.2816162109375,
           "timepoint": 41.70000076293945,
           "trajectory": "I_sol",
           "upper": 7547.303369140625
          },
          {
           "lower": 7593.4569091796875,
           "timepoint": 41.79999923706055,
           "trajectory": "I_sol",
           "upper": 7593.479052734375
          },
          {
           "lower": 7639.90654296875,
           "timepoint": 41.89999771118164,
           "trajectory": "I_sol",
           "upper": 7639.9271484375
          },
          {
           "lower": 7686.636743164063,
           "timepoint": 42,
           "trajectory": "I_sol",
           "upper": 7686.6583251953125
          },
          {
           "lower": 7733.645043945313,
           "timepoint": 42.099998474121094,
           "trajectory": "I_sol",
           "upper": 7733.666357421875
          },
          {
           "lower": 7780.935571289063,
           "timepoint": 42.20000076293945,
           "trajectory": "I_sol",
           "upper": 7780.957202148437
          },
          {
           "lower": 7828.506689453125,
           "timepoint": 42.29999923706055,
           "trajectory": "I_sol",
           "upper": 7828.528491210937
          },
          {
           "lower": 7876.3626953125,
           "timepoint": 42.39999771118164,
           "trajectory": "I_sol",
           "upper": 7876.384228515625
          },
          {
           "lower": 7924.5059814453125,
           "timepoint": 42.5,
           "trajectory": "I_sol",
           "upper": 7924.527026367187
          },
          {
           "lower": 7972.934521484375,
           "timepoint": 42.599998474121094,
           "trajectory": "I_sol",
           "upper": 7972.955419921875
          },
          {
           "lower": 8021.65380859375,
           "timepoint": 42.70000076293945,
           "trajectory": "I_sol",
           "upper": 8021.674389648438
          },
          {
           "lower": 8070.662109375,
           "timepoint": 42.79999923706055,
           "trajectory": "I_sol",
           "upper": 8070.682421875
          },
          {
           "lower": 8119.962841796875,
           "timepoint": 42.89999771118164,
           "trajectory": "I_sol",
           "upper": 8119.982934570313
          },
          {
           "lower": 8169.559033203125,
           "timepoint": 43,
           "trajectory": "I_sol",
           "upper": 8169.57880859375
          },
          {
           "lower": 8219.447705078124,
           "timepoint": 43.099998474121094,
           "trajectory": "I_sol",
           "upper": 8219.468408203125
          },
          {
           "lower": 8269.631884765626,
           "timepoint": 43.20000076293945,
           "trajectory": "I_sol",
           "upper": 8269.657861328125
          },
          {
           "lower": 8320.1177734375,
           "timepoint": 43.29999923706055,
           "trajectory": "I_sol",
           "upper": 8320.1435546875
          },
          {
           "lower": 8370.90380859375,
           "timepoint": 43.39999771118164,
           "trajectory": "I_sol",
           "upper": 8370.93076171875
          },
          {
           "lower": 8421.99365234375,
           "timepoint": 43.5,
           "trajectory": "I_sol",
           "upper": 8422.02255859375
          },
          {
           "lower": 8473.38515625,
           "timepoint": 43.599998474121094,
           "trajectory": "I_sol",
           "upper": 8473.407177734374
          },
          {
           "lower": 8525.08173828125,
           "timepoint": 43.70000076293945,
           "trajectory": "I_sol",
           "upper": 8525.10791015625
          },
          {
           "lower": 8577.08662109375,
           "timepoint": 43.79999923706055,
           "trajectory": "I_sol",
           "upper": 8577.11279296875
          },
          {
           "lower": 8629.40009765625,
           "timepoint": 43.89999771118164,
           "trajectory": "I_sol",
           "upper": 8629.426806640626
          },
          {
           "lower": 8682.02705078125,
           "timepoint": 44,
           "trajectory": "I_sol",
           "upper": 8682.05322265625
          },
          {
           "lower": 8734.964013671875,
           "timepoint": 44.099998474121094,
           "trajectory": "I_sol",
           "upper": 8734.991259765626
          },
          {
           "lower": 8788.21640625,
           "timepoint": 44.20000076293945,
           "trajectory": "I_sol",
           "upper": 8788.246044921874
          },
          {
           "lower": 8841.783349609375,
           "timepoint": 44.29999923706055,
           "trajectory": "I_sol",
           "upper": 8841.81474609375
          },
          {
           "lower": 8895.66875,
           "timepoint": 44.39999771118164,
           "trajectory": "I_sol",
           "upper": 8895.70224609375
          },
          {
           "lower": 8949.874169921875,
           "timepoint": 44.5,
           "trajectory": "I_sol",
           "upper": 8949.910791015625
          },
          {
           "lower": 9004.4,
           "timepoint": 44.599998474121094,
           "trajectory": "I_sol",
           "upper": 9004.432470703125
          },
          {
           "lower": 9059.2505859375,
           "timepoint": 44.70000076293945,
           "trajectory": "I_sol",
           "upper": 9059.285009765625
          },
          {
           "lower": 9114.4244140625,
           "timepoint": 44.79999923706055,
           "trajectory": "I_sol",
           "upper": 9114.460791015625
          },
          {
           "lower": 9169.923974609375,
           "timepoint": 44.89999771118164,
           "trajectory": "I_sol",
           "upper": 9169.9630859375
          },
          {
           "lower": 9225.75556640625,
           "timepoint": 45,
           "trajectory": "I_sol",
           "upper": 9225.796533203125
          },
          {
           "lower": 9281.919189453125,
           "timepoint": 45.099998474121094,
           "trajectory": "I_sol",
           "upper": 9281.958984375
          },
          {
           "lower": 9338.413232421875,
           "timepoint": 45.20000076293945,
           "trajectory": "I_sol",
           "upper": 9338.45615234375
          },
          {
           "lower": 9395.2388671875,
           "timepoint": 45.29999923706055,
           "trajectory": "I_sol",
           "upper": 9395.285986328125
          },
          {
           "lower": 9452.400341796874,
           "timepoint": 45.39999771118164,
           "trajectory": "I_sol",
           "upper": 9452.45263671875
          },
          {
           "lower": 9509.91279296875,
           "timepoint": 45.5,
           "trajectory": "I_sol",
           "upper": 9509.959228515625
          },
          {
           "lower": 9567.75361328125,
           "timepoint": 45.599998474121094,
           "trajectory": "I_sol",
           "upper": 9567.804150390624
          },
          {
           "lower": 9625.938720703125,
           "timepoint": 45.70000076293945,
           "trajectory": "I_sol",
           "upper": 9625.972900390625
          },
          {
           "lower": 9684.464111328125,
           "timepoint": 45.79999923706055,
           "trajectory": "I_sol",
           "upper": 9684.49892578125
          },
          {
           "lower": 9743.3357421875,
           "timepoint": 45.89999771118164,
           "trajectory": "I_sol",
           "upper": 9743.3720703125
          },
          {
           "lower": 9802.55654296875,
           "timepoint": 46,
           "trajectory": "I_sol",
           "upper": 9802.593408203125
          },
          {
           "lower": 9862.125439453124,
           "timepoint": 46.099998474121094,
           "trajectory": "I_sol",
           "upper": 9862.162841796875
          },
          {
           "lower": 9922.04677734375,
           "timepoint": 46.20000076293945,
           "trajectory": "I_sol",
           "upper": 9922.077197265626
          },
          {
           "lower": 9982.31904296875,
           "timepoint": 46.29999923706055,
           "trajectory": "I_sol",
           "upper": 9982.350634765626
          },
          {
           "lower": 10042.946337890626,
           "timepoint": 46.39999771118164,
           "trajectory": "I_sol",
           "upper": 10042.977587890626
          },
          {
           "lower": 10103.932568359374,
           "timepoint": 46.5,
           "trajectory": "I_sol",
           "upper": 10103.964892578126
          },
          {
           "lower": 10165.271875,
           "timepoint": 46.599998474121094,
           "trajectory": "I_sol",
           "upper": 10165.308203125
          },
          {
           "lower": 10226.976953125,
           "timepoint": 46.70000076293945,
           "trajectory": "I_sol",
           "upper": 10227.014697265626
          },
          {
           "lower": 10289.040966796874,
           "timepoint": 46.79999923706055,
           "trajectory": "I_sol",
           "upper": 10289.083154296875
          },
          {
           "lower": 10351.46904296875,
           "timepoint": 46.89999771118164,
           "trajectory": "I_sol",
           "upper": 10351.514794921875
          },
          {
           "lower": 10414.26689453125,
           "timepoint": 47,
           "trajectory": "I_sol",
           "upper": 10414.3171875
          },
          {
           "lower": 10477.43525390625,
           "timepoint": 47.099998474121094,
           "trajectory": "I_sol",
           "upper": 10477.48515625
          },
          {
           "lower": 10540.99384765625,
           "timepoint": 47.20000076293945,
           "trajectory": "I_sol",
           "upper": 10541.027587890625
          },
          {
           "lower": 10604.906298828126,
           "timepoint": 47.29999923706055,
           "trajectory": "I_sol",
           "upper": 10604.94013671875
          },
          {
           "lower": 10669.193505859375,
           "timepoint": 47.39999771118164,
           "trajectory": "I_sol",
           "upper": 10669.227783203125
          },
          {
           "lower": 10733.860498046875,
           "timepoint": 47.5,
           "trajectory": "I_sol",
           "upper": 10733.895556640626
          },
          {
           "lower": 10798.903466796875,
           "timepoint": 47.599998474121094,
           "trajectory": "I_sol",
           "upper": 10798.938525390626
          },
          {
           "lower": 10864.330322265625,
           "timepoint": 47.70000076293945,
           "trajectory": "I_sol",
           "upper": 10864.366162109374
          },
          {
           "lower": 10930.1384765625,
           "timepoint": 47.79999923706055,
           "trajectory": "I_sol",
           "upper": 10930.173779296874
          },
          {
           "lower": 10996.330517578124,
           "timepoint": 47.89999771118164,
           "trajectory": "I_sol",
           "upper": 10996.3666015625
          },
          {
           "lower": 11062.912890625,
           "timepoint": 48,
           "trajectory": "I_sol",
           "upper": 11062.95283203125
          },
          {
           "lower": 11129.883056640625,
           "timepoint": 48.099998474121094,
           "trajectory": "I_sol",
           "upper": 11129.92353515625
          },
          {
           "lower": 11197.252099609375,
           "timepoint": 48.19999694824219,
           "trajectory": "I_sol",
           "upper": 11197.28583984375
          },
          {
           "lower": 11265.01044921875,
           "timepoint": 48.29999923706055,
           "trajectory": "I_sol",
           "upper": 11265.0455078125
          },
          {
           "lower": 11333.164404296875,
           "timepoint": 48.400001525878906,
           "trajectory": "I_sol",
           "upper": 11333.201220703126
          },
          {
           "lower": 11401.710302734375,
           "timepoint": 48.5,
           "trajectory": "I_sol",
           "upper": 11401.75341796875
          },
          {
           "lower": 11470.6591796875,
           "timepoint": 48.599998474121094,
           "trajectory": "I_sol",
           "upper": 11470.705029296874
          },
          {
           "lower": 11540.010546875,
           "timepoint": 48.69999694824219,
           "trajectory": "I_sol",
           "upper": 11540.06103515625
          },
          {
           "lower": 11609.7671875,
           "timepoint": 48.79999923706055,
           "trajectory": "I_sol",
           "upper": 11609.8216796875
          },
          {
           "lower": 11679.94375,
           "timepoint": 48.900001525878906,
           "trajectory": "I_sol",
           "upper": 11679.99248046875
          },
          {
           "lower": 11750.515234375,
           "timepoint": 49,
           "trajectory": "I_sol",
           "upper": 11750.56083984375
          },
          {
           "lower": 11821.499169921875,
           "timepoint": 49.099998474121094,
           "trajectory": "I_sol",
           "upper": 11821.546826171874
          },
          {
           "lower": 11892.8970703125,
           "timepoint": 49.19999694824219,
           "trajectory": "I_sol",
           "upper": 11892.9458984375
          },
          {
           "lower": 11964.7125,
           "timepoint": 49.29999923706055,
           "trajectory": "I_sol",
           "upper": 11964.7654296875
          },
          {
           "lower": 12036.945458984375,
           "timepoint": 49.400001525878906,
           "trajectory": "I_sol",
           "upper": 12037.0009765625
          },
          {
           "lower": 12109.5962890625,
           "timepoint": 49.5,
           "trajectory": "I_sol",
           "upper": 12109.655908203125
          },
          {
           "lower": 12182.66865234375,
           "timepoint": 49.599998474121094,
           "trajectory": "I_sol",
           "upper": 12182.731396484374
          },
          {
           "lower": 12256.166162109375,
           "timepoint": 49.69999694824219,
           "trajectory": "I_sol",
           "upper": 12256.211962890626
          },
          {
           "lower": 12330.09248046875,
           "timepoint": 49.79999923706055,
           "trajectory": "I_sol",
           "upper": 12330.14091796875
          },
          {
           "lower": 12404.44794921875,
           "timepoint": 49.900001525878906,
           "trajectory": "I_sol",
           "upper": 12404.497021484374
          },
          {
           "lower": 12479.2322265625,
           "timepoint": 50,
           "trajectory": "I_sol",
           "upper": 12479.28251953125
          },
          {
           "lower": 12554.45,
           "timepoint": 50.099998474121094,
           "trajectory": "I_sol",
           "upper": 12554.503564453125
          },
          {
           "lower": 12630.1044921875,
           "timepoint": 50.19999694824219,
           "trajectory": "I_sol",
           "upper": 12630.159716796876
          },
          {
           "lower": 12706.198583984375,
           "timepoint": 50.29999923706055,
           "trajectory": "I_sol",
           "upper": 12706.257568359375
          },
          {
           "lower": 12782.73310546875,
           "timepoint": 50.400001525878906,
           "trajectory": "I_sol",
           "upper": 12782.797802734374
          },
          {
           "lower": 12859.707080078126,
           "timepoint": 50.5,
           "trajectory": "I_sol",
           "upper": 12859.776171875
          },
          {
           "lower": 12937.126904296874,
           "timepoint": 50.599998474121094,
           "trajectory": "I_sol",
           "upper": 12937.201708984376
          },
          {
           "lower": 13014.993896484375,
           "timepoint": 50.69999694824219,
           "trajectory": "I_sol",
           "upper": 13015.055517578125
          },
          {
           "lower": 13093.32861328125,
           "timepoint": 50.79999923706055,
           "trajectory": "I_sol",
           "upper": 13093.3791015625
          },
          {
           "lower": 13172.103125,
           "timepoint": 50.900001525878906,
           "trajectory": "I_sol",
           "upper": 13172.14921875
          },
          {
           "lower": 13251.329248046875,
           "timepoint": 51,
           "trajectory": "I_sol",
           "upper": 13251.3748046875
          },
          {
           "lower": 13331.012744140626,
           "timepoint": 51.099998474121094,
           "trajectory": "I_sol",
           "upper": 13331.057861328125
          },
          {
           "lower": 13411.15595703125,
           "timepoint": 51.19999694824219,
           "trajectory": "I_sol",
           "upper": 13411.19990234375
          },
          {
           "lower": 13491.76337890625,
           "timepoint": 51.29999923706055,
           "trajectory": "I_sol",
           "upper": 13491.80732421875
          },
          {
           "lower": 13572.8357421875,
           "timepoint": 51.400001525878906,
           "trajectory": "I_sol",
           "upper": 13572.8818359375
          },
          {
           "lower": 13654.37197265625,
           "timepoint": 51.5,
           "trajectory": "I_sol",
           "upper": 13654.418505859376
          },
          {
           "lower": 13736.378369140624,
           "timepoint": 51.599998474121094,
           "trajectory": "I_sol",
           "upper": 13736.423291015624
          },
          {
           "lower": 13818.85537109375,
           "timepoint": 51.69999694824219,
           "trajectory": "I_sol",
           "upper": 13818.8994140625
          },
          {
           "lower": 13901.809814453125,
           "timepoint": 51.79999923706055,
           "trajectory": "I_sol",
           "upper": 13901.853515625
          },
          {
           "lower": 13985.233984375,
           "timepoint": 51.900001525878906,
           "trajectory": "I_sol",
           "upper": 13985.284619140624
          },
          {
           "lower": 14069.139794921875,
           "timepoint": 52,
           "trajectory": "I_sol",
           "upper": 14069.19140625
          },
          {
           "lower": 14153.526513671875,
           "timepoint": 52.099998474121094,
           "trajectory": "I_sol",
           "upper": 14153.57900390625
          },
          {
           "lower": 14238.397705078125,
           "timepoint": 52.19999694824219,
           "trajectory": "I_sol",
           "upper": 14238.45205078125
          },
          {
           "lower": 14323.758056640625,
           "timepoint": 52.29999923706055,
           "trajectory": "I_sol",
           "upper": 14323.81435546875
          },
          {
           "lower": 14409.610302734374,
           "timepoint": 52.400001525878906,
           "trajectory": "I_sol",
           "upper": 14409.6658203125
          },
          {
           "lower": 14495.948291015626,
           "timepoint": 52.5,
           "trajectory": "I_sol",
           "upper": 14496.00390625
          },
          {
           "lower": 14582.7798828125,
           "timepoint": 52.599998474121094,
           "trajectory": "I_sol",
           "upper": 14582.836376953124
          },
          {
           "lower": 14670.108544921875,
           "timepoint": 52.69999694824219,
           "trajectory": "I_sol",
           "upper": 14670.166015625
          },
          {
           "lower": 14757.93916015625,
           "timepoint": 52.79999923706055,
           "trajectory": "I_sol",
           "upper": 14757.99912109375
          },
          {
           "lower": 14846.2712890625,
           "timepoint": 52.900001525878906,
           "trajectory": "I_sol",
           "upper": 14846.333642578125
          },
          {
           "lower": 14935.10439453125,
           "timepoint": 53,
           "trajectory": "I_sol",
           "upper": 14935.167529296876
          },
          {
           "lower": 15024.4443359375,
           "timepoint": 53.099998474121094,
           "trajectory": "I_sol",
           "upper": 15024.510302734376
          },
          {
           "lower": 15114.2939453125,
           "timepoint": 53.19999694824219,
           "trajectory": "I_sol",
           "upper": 15114.361865234376
          },
          {
           "lower": 15204.668505859376,
           "timepoint": 53.29999923706055,
           "trajectory": "I_sol",
           "upper": 15204.7294921875
          },
          {
           "lower": 15295.550244140624,
           "timepoint": 53.400001525878906,
           "trajectory": "I_sol",
           "upper": 15295.61220703125
          },
          {
           "lower": 15386.944677734375,
           "timepoint": 53.5,
           "trajectory": "I_sol",
           "upper": 15387.0076171875
          },
          {
           "lower": 15478.864990234375,
           "timepoint": 53.599998474121094,
           "trajectory": "I_sol",
           "upper": 15478.925048828125
          },
          {
           "lower": 15571.3029296875,
           "timepoint": 53.69999694824219,
           "trajectory": "I_sol",
           "upper": 15571.362890625
          },
          {
           "lower": 15664.2697265625,
           "timepoint": 53.79999923706055,
           "trajectory": "I_sol",
           "upper": 15664.331982421874
          },
          {
           "lower": 15757.763427734375,
           "timepoint": 53.900001525878906,
           "trajectory": "I_sol",
           "upper": 15757.827783203125
          },
          {
           "lower": 15851.78359375,
           "timepoint": 54,
           "trajectory": "I_sol",
           "upper": 15851.8427734375
          },
          {
           "lower": 15946.337744140625,
           "timepoint": 54.099998474121094,
           "trajectory": "I_sol",
           "upper": 15946.397900390624
          },
          {
           "lower": 16041.428125,
           "timepoint": 54.19999694824219,
           "trajectory": "I_sol",
           "upper": 16041.488623046875
          },
          {
           "lower": 16137.05908203125,
           "timepoint": 54.29999923706055,
           "trajectory": "I_sol",
           "upper": 16137.121337890625
          },
          {
           "lower": 16233.23310546875,
           "timepoint": 54.400001525878906,
           "trajectory": "I_sol",
           "upper": 16233.295068359375
          },
          {
           "lower": 16329.94521484375,
           "timepoint": 54.5,
           "trajectory": "I_sol",
           "upper": 16330.008837890626
          },
          {
           "lower": 16427.20595703125,
           "timepoint": 54.599998474121094,
           "trajectory": "I_sol",
           "upper": 16427.269921875
          },
          {
           "lower": 16525.01240234375,
           "timepoint": 54.69999694824219,
           "trajectory": "I_sol",
           "upper": 16525.08994140625
          },
          {
           "lower": 16623.39140625,
           "timepoint": 54.79999923706055,
           "trajectory": "I_sol",
           "upper": 16623.458203125
          },
          {
           "lower": 16722.31240234375,
           "timepoint": 54.900001525878906,
           "trajectory": "I_sol",
           "upper": 16722.38076171875
          },
          {
           "lower": 16821.786328125,
           "timepoint": 55,
           "trajectory": "I_sol",
           "upper": 16821.85732421875
          },
          {
           "lower": 16921.81865234375,
           "timepoint": 55.099998474121094,
           "trajectory": "I_sol",
           "upper": 16921.8953125
          },
          {
           "lower": 17022.41650390625,
           "timepoint": 55.19999694824219,
           "trajectory": "I_sol",
           "upper": 17022.4947265625
          },
          {
           "lower": 17123.58291015625,
           "timepoint": 55.29999923706055,
           "trajectory": "I_sol",
           "upper": 17123.66640625
          },
          {
           "lower": 17225.321484375,
           "timepoint": 55.400001525878906,
           "trajectory": "I_sol",
           "upper": 17225.4083984375
          },
          {
           "lower": 17327.64833984375,
           "timepoint": 55.5,
           "trajectory": "I_sol",
           "upper": 17327.71591796875
          },
          {
           "lower": 17430.5248046875,
           "timepoint": 55.599998474121094,
           "trajectory": "I_sol",
           "upper": 17430.6
          },
          {
           "lower": 17533.9837890625,
           "timepoint": 55.69999694824219,
           "trajectory": "I_sol",
           "upper": 17534.06240234375
          },
          {
           "lower": 17638.0267578125,
           "timepoint": 55.79999923706055,
           "trajectory": "I_sol",
           "upper": 17638.0884765625
          },
          {
           "lower": 17742.6517578125,
           "timepoint": 55.900001525878906,
           "trajectory": "I_sol",
           "upper": 17742.715234375
          },
          {
           "lower": 17847.86025390625,
           "timepoint": 56,
           "trajectory": "I_sol",
           "upper": 17847.92119140625
          },
          {
           "lower": 17953.6580078125,
           "timepoint": 56.099998474121094,
           "trajectory": "I_sol",
           "upper": 17953.71806640625
          },
          {
           "lower": 18060.04580078125,
           "timepoint": 56.19999694824219,
           "trajectory": "I_sol",
           "upper": 18060.11728515625
          },
          {
           "lower": 18167.03583984375,
           "timepoint": 56.29999923706055,
           "trajectory": "I_sol",
           "upper": 18167.1044921875
          },
          {
           "lower": 18274.6205078125,
           "timepoint": 56.400001525878906,
           "trajectory": "I_sol",
           "upper": 18274.6904296875
          },
          {
           "lower": 18382.79912109375,
           "timepoint": 56.5,
           "trajectory": "I_sol",
           "upper": 18382.873828125
          },
          {
           "lower": 18491.58037109375,
           "timepoint": 56.599998474121094,
           "trajectory": "I_sol",
           "upper": 18491.6587890625
          },
          {
           "lower": 18600.96904296875,
           "timepoint": 56.69999694824219,
           "trajectory": "I_sol",
           "upper": 18601.05029296875
          },
          {
           "lower": 18710.969921875,
           "timepoint": 56.79999923706055,
           "trajectory": "I_sol",
           "upper": 18711.05595703125
          },
          {
           "lower": 18821.57421875,
           "timepoint": 56.900001525878906,
           "trajectory": "I_sol",
           "upper": 18821.6740234375
          },
          {
           "lower": 18932.7986328125,
           "timepoint": 57,
           "trajectory": "I_sol",
           "upper": 18932.9025390625
          },
          {
           "lower": 19044.640234375,
           "timepoint": 57.099998474121094,
           "trajectory": "I_sol",
           "upper": 19044.7484375
          },
          {
           "lower": 19157.1125,
           "timepoint": 57.19999694824219,
           "trajectory": "I_sol",
           "upper": 19157.2109375
          },
          {
           "lower": 19270.20341796875,
           "timepoint": 57.29999923706055,
           "trajectory": "I_sol",
           "upper": 19270.29921875
          },
          {
           "lower": 19383.9212890625,
           "timepoint": 57.400001525878906,
           "trajectory": "I_sol",
           "upper": 19384.00654296875
          },
          {
           "lower": 19498.26416015625,
           "timepoint": 57.5,
           "trajectory": "I_sol",
           "upper": 19498.3513671875
          },
          {
           "lower": 19613.23984375,
           "timepoint": 57.599998474121094,
           "trajectory": "I_sol",
           "upper": 19613.32900390625
          },
          {
           "lower": 19728.85009765625,
           "timepoint": 57.69999694824219,
           "trajectory": "I_sol",
           "upper": 19728.94228515625
          },
          {
           "lower": 19845.10615234375,
           "timepoint": 57.79999923706055,
           "trajectory": "I_sol",
           "upper": 19845.1927734375
          },
          {
           "lower": 19962.00068359375,
           "timepoint": 57.900001525878906,
           "trajectory": "I_sol",
           "upper": 19962.09033203125
          },
          {
           "lower": 20079.5349609375,
           "timepoint": 58,
           "trajectory": "I_sol",
           "upper": 20079.6265625
          },
          {
           "lower": 20197.71875,
           "timepoint": 58.099998474121094,
           "trajectory": "I_sol",
           "upper": 20197.81298828125
          },
          {
           "lower": 20316.55166015625,
           "timepoint": 58.19999694824219,
           "trajectory": "I_sol",
           "upper": 20316.65087890625
          },
          {
           "lower": 20436.040625,
           "timepoint": 58.29999923706055,
           "trajectory": "I_sol",
           "upper": 20436.1458984375
          },
          {
           "lower": 20556.188671875,
           "timepoint": 58.400001525878906,
           "trajectory": "I_sol",
           "upper": 20556.29951171875
          },
          {
           "lower": 20676.991015625,
           "timepoint": 58.5,
           "trajectory": "I_sol",
           "upper": 20677.10703125
          },
          {
           "lower": 20798.45546875,
           "timepoint": 58.599998474121094,
           "trajectory": "I_sol",
           "upper": 20798.5796875
          },
          {
           "lower": 20920.58486328125,
           "timepoint": 58.69999694824219,
           "trajectory": "I_sol",
           "upper": 20920.7181640625
          },
          {
           "lower": 21043.4212890625,
           "timepoint": 58.79999923706055,
           "trajectory": "I_sol",
           "upper": 21043.530859375
          },
          {
           "lower": 21166.90107421875,
           "timepoint": 58.900001525878906,
           "trajectory": "I_sol",
           "upper": 21167.01611328125
          },
          {
           "lower": 21291.05166015625,
           "timepoint": 59,
           "trajectory": "I_sol",
           "upper": 21291.1716796875
          },
          {
           "lower": 21415.87958984375,
           "timepoint": 59.099998474121094,
           "trajectory": "I_sol",
           "upper": 21415.99462890625
          },
          {
           "lower": 21541.3859375,
           "timepoint": 59.19999694824219,
           "trajectory": "I_sol",
           "upper": 21541.51064453125
          },
          {
           "lower": 21667.5845703125,
           "timepoint": 59.29999923706055,
           "trajectory": "I_sol",
           "upper": 21667.687109375
          },
          {
           "lower": 21794.46611328125,
           "timepoint": 59.400001525878906,
           "trajectory": "I_sol",
           "upper": 21794.5736328125
          },
          {
           "lower": 21922.06279296875,
           "timepoint": 59.5,
           "trajectory": "I_sol",
           "upper": 21922.14892578125
          },
          {
           "lower": 22050.32822265625,
           "timepoint": 59.599998474121094,
           "trajectory": "I_sol",
           "upper": 22050.4154296875
          },
          {
           "lower": 22179.2919921875,
           "timepoint": 59.69999694824219,
           "trajectory": "I_sol",
           "upper": 22179.38203125
          },
          {
           "lower": 22308.96064453125,
           "timepoint": 59.79999923706055,
           "trajectory": "I_sol",
           "upper": 22309.05302734375
          },
          {
           "lower": 22439.3203125,
           "timepoint": 59.900001525878906,
           "trajectory": "I_sol",
           "upper": 22439.4287109375
          },
          {
           "lower": 22570.3923828125,
           "timepoint": 60,
           "trajectory": "I_sol",
           "upper": 22570.50361328125
          },
          {
           "lower": 22702.1732421875,
           "timepoint": 60.099998474121094,
           "trajectory": "I_sol",
           "upper": 22702.29052734375
          },
          {
           "lower": 22834.6650390625,
           "timepoint": 60.19999694824219,
           "trajectory": "I_sol",
           "upper": 22834.78818359375
          },
          {
           "lower": 22967.8796875,
           "timepoint": 60.29999923706055,
           "trajectory": "I_sol",
           "upper": 22968.0080078125
          },
          {
           "lower": 23101.8408203125,
           "timepoint": 60.400001525878906,
           "trajectory": "I_sol",
           "upper": 23101.93173828125
          },
          {
           "lower": 23236.4951171875,
           "timepoint": 60.5,
           "trajectory": "I_sol",
           "upper": 23236.58583984375
          },
          {
           "lower": 23371.87509765625,
           "timepoint": 60.599998474121094,
           "trajectory": "I_sol",
           "upper": 23371.96259765625
          },
          {
           "lower": 23507.98447265625,
           "timepoint": 60.69999694824219,
           "trajectory": "I_sol",
           "upper": 23508.07177734375
          },
          {
           "lower": 23644.83212890625,
           "timepoint": 60.79999923706055,
           "trajectory": "I_sol",
           "upper": 23644.9162109375
          },
          {
           "lower": 23782.415234375,
           "timepoint": 60.900001525878906,
           "trajectory": "I_sol",
           "upper": 23782.515625
          },
          {
           "lower": 23920.73076171875,
           "timepoint": 61,
           "trajectory": "I_sol",
           "upper": 23920.830078125
          },
          {
           "lower": 24059.7865234375,
           "timepoint": 61.099998474121094,
           "trajectory": "I_sol",
           "upper": 24059.88583984375
          },
          {
           "lower": 24199.59248046875,
           "timepoint": 61.19999694824219,
           "trajectory": "I_sol",
           "upper": 24199.6875
          },
          {
           "lower": 24340.1482421875,
           "timepoint": 61.29999923706055,
           "trajectory": "I_sol",
           "upper": 24340.24345703125
          },
          {
           "lower": 24481.4568359375,
           "timepoint": 61.400001525878906,
           "trajectory": "I_sol",
           "upper": 24481.551171875
          },
          {
           "lower": 24623.49599609375,
           "timepoint": 61.5,
           "trajectory": "I_sol",
           "upper": 24623.60693359375
          },
          {
           "lower": 24766.30849609375,
           "timepoint": 61.599998474121094,
           "trajectory": "I_sol",
           "upper": 24766.4205078125
          },
          {
           "lower": 24909.8818359375,
           "timepoint": 61.69999694824219,
           "trajectory": "I_sol",
           "upper": 24909.9970703125
          },
          {
           "lower": 25054.2236328125,
           "timepoint": 61.79999923706055,
           "trajectory": "I_sol",
           "upper": 25054.34013671875
          },
          {
           "lower": 25199.33125,
           "timepoint": 61.900001525878906,
           "trajectory": "I_sol",
           "upper": 25199.459765625
          },
          {
           "lower": 25345.2115234375,
           "timepoint": 62,
           "trajectory": "I_sol",
           "upper": 25345.33798828125
          },
          {
           "lower": 25491.85888671875,
           "timepoint": 62.099998474121094,
           "trajectory": "I_sol",
           "upper": 25491.9916015625
          },
          {
           "lower": 25639.2853515625,
           "timepoint": 62.19999694824219,
           "trajectory": "I_sol",
           "upper": 25639.4234375
          },
          {
           "lower": 25787.49716796875,
           "timepoint": 62.29999923706055,
           "trajectory": "I_sol",
           "upper": 25787.6384765625
          },
          {
           "lower": 25936.4919921875,
           "timepoint": 62.400001525878906,
           "trajectory": "I_sol",
           "upper": 25936.63974609375
          },
          {
           "lower": 26086.2689453125,
           "timepoint": 62.5,
           "trajectory": "I_sol",
           "upper": 26086.39775390625
          },
          {
           "lower": 26236.8349609375,
           "timepoint": 62.599998474121094,
           "trajectory": "I_sol",
           "upper": 26236.9669921875
          },
          {
           "lower": 26388.19375,
           "timepoint": 62.69999694824219,
           "trajectory": "I_sol",
           "upper": 26388.33134765625
          },
          {
           "lower": 26540.35439453125,
           "timepoint": 62.79999923706055,
           "trajectory": "I_sol",
           "upper": 26540.49755859375
          },
          {
           "lower": 26693.3158203125,
           "timepoint": 62.900001525878906,
           "trajectory": "I_sol",
           "upper": 26693.46435546875
          },
          {
           "lower": 26847.109765625,
           "timepoint": 63,
           "trajectory": "I_sol",
           "upper": 26847.2291015625
          },
          {
           "lower": 27001.68076171875,
           "timepoint": 63.099998474121094,
           "trajectory": "I_sol",
           "upper": 27001.8013671875
          },
          {
           "lower": 27157.060546875,
           "timepoint": 63.19999694824219,
           "trajectory": "I_sol",
           "upper": 27157.18525390625
          },
          {
           "lower": 27313.26259765625,
           "timepoint": 63.29999923706055,
           "trajectory": "I_sol",
           "upper": 27313.38642578125
          },
          {
           "lower": 27470.27802734375,
           "timepoint": 63.400001525878906,
           "trajectory": "I_sol",
           "upper": 27470.40615234375
          },
          {
           "lower": 27628.10107421875,
           "timepoint": 63.5,
           "trajectory": "I_sol",
           "upper": 27628.24033203125
          },
          {
           "lower": 27786.75234375,
           "timepoint": 63.599998474121094,
           "trajectory": "I_sol",
           "upper": 27786.8978515625
          },
          {
           "lower": 27946.2328125,
           "timepoint": 63.69999694824219,
           "trajectory": "I_sol",
           "upper": 27946.3806640625
          },
          {
           "lower": 28106.547265625,
           "timepoint": 63.79999923706055,
           "trajectory": "I_sol",
           "upper": 28106.70224609375
          },
          {
           "lower": 28267.69375,
           "timepoint": 63.900001525878906,
           "trajectory": "I_sol",
           "upper": 28267.85693359375
          },
          {
           "lower": 28429.6720703125,
           "timepoint": 64,
           "trajectory": "I_sol",
           "upper": 28429.81201171875
          },
          {
           "lower": 28592.4865234375,
           "timepoint": 64.0999984741211,
           "trajectory": "I_sol",
           "upper": 28592.633203125
          },
          {
           "lower": 28756.14580078125,
           "timepoint": 64.19999694824219,
           "trajectory": "I_sol",
           "upper": 28756.293359375
          },
          {
           "lower": 28920.66142578125,
           "timepoint": 64.30000305175781,
           "trajectory": "I_sol",
           "upper": 28920.81591796875
          },
          {
           "lower": 29086.01513671875,
           "timepoint": 64.4000015258789,
           "trajectory": "I_sol",
           "upper": 29086.1744140625
          },
          {
           "lower": 29252.23720703125,
           "timepoint": 64.5,
           "trajectory": "I_sol",
           "upper": 29252.38427734375
          },
          {
           "lower": 29419.29931640625,
           "timepoint": 64.5999984741211,
           "trajectory": "I_sol",
           "upper": 29419.45283203125
          },
          {
           "lower": 29587.21865234375,
           "timepoint": 64.69999694824219,
           "trajectory": "I_sol",
           "upper": 29587.37666015625
          },
          {
           "lower": 29756.01279296875,
           "timepoint": 64.80000305175781,
           "trajectory": "I_sol",
           "upper": 29756.18359375
          },
          {
           "lower": 29925.70263671875,
           "timepoint": 64.9000015258789,
           "trajectory": "I_sol",
           "upper": 29925.841796875
          },
          {
           "lower": 30096.22802734375,
           "timepoint": 65,
           "trajectory": "I_sol",
           "upper": 30096.365234375
          },
          {
           "lower": 30267.6234375,
           "timepoint": 65.0999984741211,
           "trajectory": "I_sol",
           "upper": 30267.76259765625
          },
          {
           "lower": 30439.8990234375,
           "timepoint": 65.19999694824219,
           "trajectory": "I_sol",
           "upper": 30440.03388671875
          },
          {
           "lower": 30613.06806640625,
           "timepoint": 65.30000305175781,
           "trajectory": "I_sol",
           "upper": 30613.198828125
          },
          {
           "lower": 30787.100390625,
           "timepoint": 65.4000015258789,
           "trajectory": "I_sol",
           "upper": 30787.2318359375
          },
          {
           "lower": 30962.022265625,
           "timepoint": 65.5,
           "trajectory": "I_sol",
           "upper": 30962.15244140625
          },
          {
           "lower": 31137.8330078125,
           "timepoint": 65.5999984741211,
           "trajectory": "I_sol",
           "upper": 31137.98037109375
          },
          {
           "lower": 31314.534375,
           "timepoint": 65.69999694824219,
           "trajectory": "I_sol",
           "upper": 31314.68349609375
          },
          {
           "lower": 31492.1478515625,
           "timepoint": 65.80000305175781,
           "trajectory": "I_sol",
           "upper": 31492.29853515625
          },
          {
           "lower": 31670.644140625,
           "timepoint": 65.9000015258789,
           "trajectory": "I_sol",
           "upper": 31670.79638671875
          },
          {
           "lower": 31850.0365234375,
           "timepoint": 66,
           "trajectory": "I_sol",
           "upper": 31850.199609375
          },
          {
           "lower": 32030.339453125,
           "timepoint": 66.0999984741211,
           "trajectory": "I_sol",
           "upper": 32030.50693359375
          },
          {
           "lower": 32211.55078125,
           "timepoint": 66.19999694824219,
           "trajectory": "I_sol",
           "upper": 32211.72333984375
          },
          {
           "lower": 32393.69580078125,
           "timepoint": 66.30000305175781,
           "trajectory": "I_sol",
           "upper": 32393.86552734375
          },
          {
           "lower": 32576.7462890625,
           "timepoint": 66.4000015258789,
           "trajectory": "I_sol",
           "upper": 32576.91181640625
          },
          {
           "lower": 32760.70703125,
           "timepoint": 66.5,
           "trajectory": "I_sol",
           "upper": 32760.875
          },
          {
           "lower": 32945.5857421875,
           "timepoint": 66.5999984741211,
           "trajectory": "I_sol",
           "upper": 32945.7376953125
          },
          {
           "lower": 33131.3921875,
           "timepoint": 66.69999694824219,
           "trajectory": "I_sol",
           "upper": 33131.5462890625
          },
          {
           "lower": 33318.1400390625,
           "timepoint": 66.80000305175781,
           "trajectory": "I_sol",
           "upper": 33318.2962890625
          },
          {
           "lower": 33505.8076171875,
           "timepoint": 66.9000015258789,
           "trajectory": "I_sol",
           "upper": 33505.96171875
          },
          {
           "lower": 33694.40703125,
           "timepoint": 67,
           "trajectory": "I_sol",
           "upper": 33694.584375
          },
          {
           "lower": 33883.9396484375,
           "timepoint": 67.0999984741211,
           "trajectory": "I_sol",
           "upper": 33884.1251953125
          },
          {
           "lower": 34074.4197265625,
           "timepoint": 67.19999694824219,
           "trajectory": "I_sol",
           "upper": 34074.607421875
          },
          {
           "lower": 34265.851171875,
           "timepoint": 67.30000305175781,
           "trajectory": "I_sol",
           "upper": 34266.0501953125
          },
          {
           "lower": 34458.2197265625,
           "timepoint": 67.4000015258789,
           "trajectory": "I_sol",
           "upper": 34458.4287109375
          },
          {
           "lower": 34651.537890625,
           "timepoint": 67.5,
           "trajectory": "I_sol",
           "upper": 34651.7599609375
          },
          {
           "lower": 34845.841796875,
           "timepoint": 67.5999984741211,
           "trajectory": "I_sol",
           "upper": 34846.043359375
          },
          {
           "lower": 35041.0744140625,
           "timepoint": 67.69999694824219,
           "trajectory": "I_sol",
           "upper": 35041.266015625
          },
          {
           "lower": 35237.2796875,
           "timepoint": 67.80000305175781,
           "trajectory": "I_sol",
           "upper": 35237.4826171875
          },
          {
           "lower": 35434.4341796875,
           "timepoint": 67.9000015258789,
           "trajectory": "I_sol",
           "upper": 35434.64921875
          },
          {
           "lower": 35632.55,
           "timepoint": 68,
           "trajectory": "I_sol",
           "upper": 35632.7845703125
          },
          {
           "lower": 35831.6380859375,
           "timepoint": 68.0999984741211,
           "trajectory": "I_sol",
           "upper": 35831.863671875
          },
          {
           "lower": 36031.6984375,
           "timepoint": 68.19999694824219,
           "trajectory": "I_sol",
           "upper": 36031.9033203125
          },
          {
           "lower": 36232.7439453125,
           "timepoint": 68.30000305175781,
           "trajectory": "I_sol",
           "upper": 36232.963671875
          },
          {
           "lower": 36434.7873046875,
           "timepoint": 68.4000015258789,
           "trajectory": "I_sol",
           "upper": 36434.9810546875
          },
          {
           "lower": 36637.784765625,
           "timepoint": 68.5,
           "trajectory": "I_sol",
           "upper": 36637.98671875
          },
          {
           "lower": 36841.76484375,
           "timepoint": 68.5999984741211,
           "trajectory": "I_sol",
           "upper": 36841.978515625
          },
          {
           "lower": 37046.7345703125,
           "timepoint": 68.69999694824219,
           "trajectory": "I_sol",
           "upper": 37046.959375
          },
          {
           "lower": 37252.70859375,
           "timepoint": 68.80000305175781,
           "trajectory": "I_sol",
           "upper": 37252.943359375
          },
          {
           "lower": 37459.7103515625,
           "timepoint": 68.9000015258789,
           "trajectory": "I_sol",
           "upper": 37459.9078125
          },
          {
           "lower": 37667.6673828125,
           "timepoint": 69,
           "trajectory": "I_sol",
           "upper": 37667.8701171875
          },
          {
           "lower": 37876.6265625,
           "timepoint": 69.0999984741211,
           "trajectory": "I_sol",
           "upper": 37876.8345703125
          },
          {
           "lower": 38086.583984375,
           "timepoint": 69.19999694824219,
           "trajectory": "I_sol",
           "upper": 38086.7849609375
          },
          {
           "lower": 38297.568359375,
           "timepoint": 69.30000305175781,
           "trajectory": "I_sol",
           "upper": 38297.7763671875
          },
          {
           "lower": 38509.5427734375,
           "timepoint": 69.4000015258789,
           "trajectory": "I_sol",
           "upper": 38509.7578125
          },
          {
           "lower": 38722.5310546875,
           "timepoint": 69.5,
           "trajectory": "I_sol",
           "upper": 38722.755078125
          },
          {
           "lower": 38936.5349609375,
           "timepoint": 69.5999984741211,
           "trajectory": "I_sol",
           "upper": 38936.7228515625
          },
          {
           "lower": 39151.556640625,
           "timepoint": 69.69999694824219,
           "trajectory": "I_sol",
           "upper": 39151.7416015625
          },
          {
           "lower": 39367.615234375,
           "timepoint": 69.80000305175781,
           "trajectory": "I_sol",
           "upper": 39367.819921875
          },
          {
           "lower": 39584.6759765625,
           "timepoint": 69.9000015258789,
           "trajectory": "I_sol",
           "upper": 39584.890234375
          },
          {
           "lower": 39802.7697265625,
           "timepoint": 70,
           "trajectory": "I_sol",
           "upper": 39802.983984375
          },
          {
           "lower": 40021.8916015625,
           "timepoint": 70.0999984741211,
           "trajectory": "I_sol",
           "upper": 40022.112890625
          },
          {
           "lower": 40242.0404296875,
           "timepoint": 70.19999694824219,
           "trajectory": "I_sol",
           "upper": 40242.2748046875
          },
          {
           "lower": 40463.24921875,
           "timepoint": 70.30000305175781,
           "trajectory": "I_sol",
           "upper": 40463.487890625
          },
          {
           "lower": 40685.47109375,
           "timepoint": 70.4000015258789,
           "trajectory": "I_sol",
           "upper": 40685.72265625
          },
          {
           "lower": 40908.727734375,
           "timepoint": 70.5,
           "trajectory": "I_sol",
           "upper": 40908.9982421875
          },
          {
           "lower": 41133.030859375,
           "timepoint": 70.5999984741211,
           "trajectory": "I_sol",
           "upper": 41133.3220703125
          },
          {
           "lower": 41358.455078125,
           "timepoint": 70.69999694824219,
           "trajectory": "I_sol",
           "upper": 41358.69921875
          },
          {
           "lower": 41584.8869140625,
           "timepoint": 70.80000305175781,
           "trajectory": "I_sol",
           "upper": 41585.13671875
          },
          {
           "lower": 41812.35,
           "timepoint": 70.9000015258789,
           "trajectory": "I_sol",
           "upper": 41812.603125
          },
          {
           "lower": 42040.86953125,
           "timepoint": 71,
           "trajectory": "I_sol",
           "upper": 42041.124609375
          },
          {
           "lower": 42270.451953125,
           "timepoint": 71.0999984741211,
           "trajectory": "I_sol",
           "upper": 42270.6580078125
          },
          {
           "lower": 42501.0908203125,
           "timepoint": 71.19999694824219,
           "trajectory": "I_sol",
           "upper": 42501.296875
          },
          {
           "lower": 42732.8138671875,
           "timepoint": 71.30000305175781,
           "trajectory": "I_sol",
           "upper": 42733.015625
          },
          {
           "lower": 42965.5876953125,
           "timepoint": 71.4000015258789,
           "trajectory": "I_sol",
           "upper": 42965.7794921875
          },
          {
           "lower": 43199.4275390625,
           "timepoint": 71.5,
           "trajectory": "I_sol",
           "upper": 43199.6115234375
          },
          {
           "lower": 43434.3337890625,
           "timepoint": 71.5999984741211,
           "trajectory": "I_sol",
           "upper": 43434.5181640625
          },
          {
           "lower": 43670.278125,
           "timepoint": 71.69999694824219,
           "trajectory": "I_sol",
           "upper": 43670.4943359375
          },
          {
           "lower": 43907.3462890625,
           "timepoint": 71.80000305175781,
           "trajectory": "I_sol",
           "upper": 43907.57109375
          },
          {
           "lower": 44145.4703125,
           "timepoint": 71.9000015258789,
           "trajectory": "I_sol",
           "upper": 44145.7021484375
          },
          {
           "lower": 44384.6857421875,
           "timepoint": 72,
           "trajectory": "I_sol",
           "upper": 44384.91875
          },
          {
           "lower": 44624.9677734375,
           "timepoint": 72.0999984741211,
           "trajectory": "I_sol",
           "upper": 44625.2216796875
          },
          {
           "lower": 44866.3423828125,
           "timepoint": 72.19999694824219,
           "trajectory": "I_sol",
           "upper": 44866.602734375
          },
          {
           "lower": 45108.824609375,
           "timepoint": 72.30000305175781,
           "trajectory": "I_sol",
           "upper": 45109.0931640625
          },
          {
           "lower": 45352.3806640625,
           "timepoint": 72.4000015258789,
           "trajectory": "I_sol",
           "upper": 45352.6560546875
          },
          {
           "lower": 45597.0265625,
           "timepoint": 72.5,
           "trajectory": "I_sol",
           "upper": 45597.2912109375
          },
          {
           "lower": 45842.7662109375,
           "timepoint": 72.5999984741211,
           "trajectory": "I_sol",
           "upper": 45843.035546875
          },
          {
           "lower": 46089.6052734375,
           "timepoint": 72.69999694824219,
           "trajectory": "I_sol",
           "upper": 46089.879296875
          },
          {
           "lower": 46337.5576171875,
           "timepoint": 72.80000305175781,
           "trajectory": "I_sol",
           "upper": 46337.8423828125
          },
          {
           "lower": 46586.59765625,
           "timepoint": 72.9000015258789,
           "trajectory": "I_sol",
           "upper": 46586.8875
          },
          {
           "lower": 46836.80546875,
           "timepoint": 73,
           "trajectory": "I_sol",
           "upper": 46837.0380859375
          },
          {
           "lower": 47088.0611328125,
           "timepoint": 73.0999984741211,
           "trajectory": "I_sol",
           "upper": 47088.2955078125
          },
          {
           "lower": 47340.4279296875,
           "timepoint": 73.19999694824219,
           "trajectory": "I_sol",
           "upper": 47340.6658203125
          },
          {
           "lower": 47593.921875,
           "timepoint": 73.30000305175781,
           "trajectory": "I_sol",
           "upper": 47594.1671875
          },
          {
           "lower": 47848.5134765625,
           "timepoint": 73.4000015258789,
           "trajectory": "I_sol",
           "upper": 47848.7443359375
          },
          {
           "lower": 48104.21796875,
           "timepoint": 73.5,
           "trajectory": "I_sol",
           "upper": 48104.44921875
          },
          {
           "lower": 48361.0203125,
           "timepoint": 73.5999984741211,
           "trajectory": "I_sol",
           "upper": 48361.2765625
          },
          {
           "lower": 48618.953125,
           "timepoint": 73.69999694824219,
           "trajectory": "I_sol",
           "upper": 48619.21796875
          },
          {
           "lower": 48878.03125,
           "timepoint": 73.80000305175781,
           "trajectory": "I_sol",
           "upper": 48878.2978515625
          },
          {
           "lower": 49138.21015625,
           "timepoint": 73.9000015258789,
           "trajectory": "I_sol",
           "upper": 49138.4986328125
          },
          {
           "lower": 49399.5123046875,
           "timepoint": 74,
           "trajectory": "I_sol",
           "upper": 49399.8072265625
          },
          {
           "lower": 49661.935546875,
           "timepoint": 74.0999984741211,
           "trajectory": "I_sol",
           "upper": 49662.24296875
          },
          {
           "lower": 49925.493359375,
           "timepoint": 74.19999694824219,
           "trajectory": "I_sol",
           "upper": 49925.809765625
          },
          {
           "lower": 50190.1978515625,
           "timepoint": 74.30000305175781,
           "trajectory": "I_sol",
           "upper": 50190.525
          },
          {
           "lower": 50456.0783203125,
           "timepoint": 74.4000015258789,
           "trajectory": "I_sol",
           "upper": 50456.3552734375
          },
          {
           "lower": 50723.0353515625,
           "timepoint": 74.5,
           "trajectory": "I_sol",
           "upper": 50723.3201171875
          },
          {
           "lower": 50991.1330078125,
           "timepoint": 74.5999984741211,
           "trajectory": "I_sol",
           "upper": 50991.423828125
          },
          {
           "lower": 51260.362109375,
           "timepoint": 74.69999694824219,
           "trajectory": "I_sol",
           "upper": 51260.6677734375
          },
          {
           "lower": 51530.766796875,
           "timepoint": 74.80000305175781,
           "trajectory": "I_sol",
           "upper": 51531.06796875
          },
          {
           "lower": 51802.2802734375,
           "timepoint": 74.9000015258789,
           "trajectory": "I_sol",
           "upper": 51802.5865234375
          },
          {
           "lower": 52074.934375,
           "timepoint": 75,
           "trajectory": "I_sol",
           "upper": 52075.253125
          },
          {
           "lower": 52348.735546875,
           "timepoint": 75.0999984741211,
           "trajectory": "I_sol",
           "upper": 52349.0560546875
          },
          {
           "lower": 52623.680859375,
           "timepoint": 75.19999694824219,
           "trajectory": "I_sol",
           "upper": 52624.0099609375
          },
          {
           "lower": 52899.786328125,
           "timepoint": 75.30000305175781,
           "trajectory": "I_sol",
           "upper": 52900.0884765625
          },
          {
           "lower": 53177.025,
           "timepoint": 75.4000015258789,
           "trajectory": "I_sol",
           "upper": 53177.3267578125
          },
          {
           "lower": 53455.4134765625,
           "timepoint": 75.5,
           "trajectory": "I_sol",
           "upper": 53455.723046875
          },
          {
           "lower": 53734.9529296875,
           "timepoint": 75.5999984741211,
           "trajectory": "I_sol",
           "upper": 53735.2638671875
          },
          {
           "lower": 54015.6408203125,
           "timepoint": 75.69999694824219,
           "trajectory": "I_sol",
           "upper": 54015.9591796875
          },
          {
           "lower": 54297.5048828125,
           "timepoint": 75.80000305175781,
           "trajectory": "I_sol",
           "upper": 54297.8337890625
          },
          {
           "lower": 54580.499609375,
           "timepoint": 75.9000015258789,
           "trajectory": "I_sol",
           "upper": 54580.8376953125
          },
          {
           "lower": 54864.6484375,
           "timepoint": 76,
           "trajectory": "I_sol",
           "upper": 54864.999609375
          },
          {
           "lower": 55149.9876953125,
           "timepoint": 76.0999984741211,
           "trajectory": "I_sol",
           "upper": 55150.3134765625
          },
          {
           "lower": 55436.4546875,
           "timepoint": 76.19999694824219,
           "trajectory": "I_sol",
           "upper": 55436.767578125
          },
          {
           "lower": 55724.1091796875,
           "timepoint": 76.30000305175781,
           "trajectory": "I_sol",
           "upper": 55724.4181640625
          },
          {
           "lower": 56012.8986328125,
           "timepoint": 76.4000015258789,
           "trajectory": "I_sol",
           "upper": 56013.209375
          },
          {
           "lower": 56302.8521484375,
           "timepoint": 76.5,
           "trajectory": "I_sol",
           "upper": 56303.1607421875
          },
          {
           "lower": 56593.96796875,
           "timepoint": 76.5999984741211,
           "trajectory": "I_sol",
           "upper": 56594.268359375
          },
          {
           "lower": 56886.2478515625,
           "timepoint": 76.69999694824219,
           "trajectory": "I_sol",
           "upper": 56886.5271484375
          },
          {
           "lower": 57179.71796875,
           "timepoint": 76.80000305175781,
           "trajectory": "I_sol",
           "upper": 57179.98203125
          },
          {
           "lower": 57474.31953125,
           "timepoint": 76.9000015258789,
           "trajectory": "I_sol",
           "upper": 57474.583984375
          },
          {
           "lower": 57770.081640625,
           "timepoint": 77,
           "trajectory": "I_sol",
           "upper": 57770.3439453125
          },
          {
           "lower": 58066.9630859375,
           "timepoint": 77.0999984741211,
           "trajectory": "I_sol",
           "upper": 58067.2796875
          },
          {
           "lower": 58365.058203125,
           "timepoint": 77.19999694824219,
           "trajectory": "I_sol",
           "upper": 58365.3892578125
          },
          {
           "lower": 58664.34375,
           "timepoint": 77.30000305175781,
           "trajectory": "I_sol",
           "upper": 58664.651953125
          },
          {
           "lower": 58964.7568359375,
           "timepoint": 77.4000015258789,
           "trajectory": "I_sol",
           "upper": 58965.0943359375
          },
          {
           "lower": 59266.348828125,
           "timepoint": 77.5,
           "trajectory": "I_sol",
           "upper": 59266.694140625
          },
          {
           "lower": 59569.1087890625,
           "timepoint": 77.5999984741211,
           "trajectory": "I_sol",
           "upper": 59569.4587890625
          },
          {
           "lower": 59873.03671875,
           "timepoint": 77.69999694824219,
           "trajectory": "I_sol",
           "upper": 59873.3966796875
          },
          {
           "lower": 60178.1599609375,
           "timepoint": 77.80000305175781,
           "trajectory": "I_sol",
           "upper": 60178.5224609375
          },
          {
           "lower": 60484.428515625,
           "timepoint": 77.9000015258789,
           "trajectory": "I_sol",
           "upper": 60484.794921875
          },
          {
           "lower": 60791.86640625,
           "timepoint": 78,
           "trajectory": "I_sol",
           "upper": 60792.2392578125
          },
          {
           "lower": 61100.47265625,
           "timepoint": 78.0999984741211,
           "trajectory": "I_sol",
           "upper": 61100.783203125
          },
          {
           "lower": 61410.2453125,
           "timepoint": 78.19999694824219,
           "trajectory": "I_sol",
           "upper": 61410.552734375
          },
          {
           "lower": 61721.21328125,
           "timepoint": 78.30000305175781,
           "trajectory": "I_sol",
           "upper": 61721.5154296875
          },
          {
           "lower": 62033.31484375,
           "timepoint": 78.4000015258789,
           "trajectory": "I_sol",
           "upper": 62033.6244140625
          },
          {
           "lower": 62346.540234375,
           "timepoint": 78.5,
           "trajectory": "I_sol",
           "upper": 62346.9083984375
          },
          {
           "lower": 62660.981640625,
           "timepoint": 78.5999984741211,
           "trajectory": "I_sol",
           "upper": 62661.35859375
          },
          {
           "lower": 62976.5923828125,
           "timepoint": 78.69999694824219,
           "trajectory": "I_sol",
           "upper": 62976.974609375
          },
          {
           "lower": 63293.39140625,
           "timepoint": 78.80000305175781,
           "trajectory": "I_sol",
           "upper": 63293.7873046875
          },
          {
           "lower": 63611.3306640625,
           "timepoint": 78.9000015258789,
           "trajectory": "I_sol",
           "upper": 63611.6826171875
          },
          {
           "lower": 63930.43828125,
           "timepoint": 79,
           "trajectory": "I_sol",
           "upper": 63930.785546875
          },
          {
           "lower": 64250.708203125,
           "timepoint": 79.0999984741211,
           "trajectory": "I_sol",
           "upper": 64251.0546875
          },
          {
           "lower": 64572.141796875,
           "timepoint": 79.19999694824219,
           "trajectory": "I_sol",
           "upper": 64572.4875
          },
          {
           "lower": 64894.767578125,
           "timepoint": 79.30000305175781,
           "trajectory": "I_sol",
           "upper": 64895.107421875
          },
          {
           "lower": 65218.5556640625,
           "timepoint": 79.4000015258789,
           "trajectory": "I_sol",
           "upper": 65218.863671875
          },
          {
           "lower": 65543.483203125,
           "timepoint": 79.5,
           "trajectory": "I_sol",
           "upper": 65543.852734375
          },
          {
           "lower": 65869.57265625,
           "timepoint": 79.5999984741211,
           "trajectory": "I_sol",
           "upper": 65869.95
          },
          {
           "lower": 66196.826171875,
           "timepoint": 79.69999694824219,
           "trajectory": "I_sol",
           "upper": 66197.212109375
          },
          {
           "lower": 66525.255859375,
           "timepoint": 79.80000305175781,
           "trajectory": "I_sol",
           "upper": 66525.656640625
          },
          {
           "lower": 66854.850390625,
           "timepoint": 79.9000015258789,
           "trajectory": "I_sol",
           "upper": 66855.23828125
          },
          {
           "lower": 67185.562890625,
           "timepoint": 80,
           "trajectory": "I_sol",
           "upper": 67185.983203125
          },
          {
           "lower": 2300000,
           "timepoint": 0,
           "trajectory": "S_sol",
           "upper": 2300000
          },
          {
           "lower": 2299998.3125,
           "timepoint": 0.10000000149011612,
           "trajectory": "S_sol",
           "upper": 2299999.75
          },
          {
           "lower": 2299996.65,
           "timepoint": 0.20000000298023224,
           "trajectory": "S_sol",
           "upper": 2300002.8875
          },
          {
           "lower": 2299996.75,
           "timepoint": 0.30000001192092896,
           "trajectory": "S_sol",
           "upper": 2299997.9125
          },
          {
           "lower": 2299993.0625,
           "timepoint": 0.4000000059604645,
           "trajectory": "S_sol",
           "upper": 2299996.125
          },
          {
           "lower": 2299990.0125,
           "timepoint": 0.5,
           "trajectory": "S_sol",
           "upper": 2299993.9
          },
          {
           "lower": 2299986.8625,
           "timepoint": 0.6000000238418579,
           "trajectory": "S_sol",
           "upper": 2299990.7625
          },
          {
           "lower": 2299981.6,
           "timepoint": 0.699999988079071,
           "trajectory": "S_sol",
           "upper": 2299985.05
          },
          {
           "lower": 2299976.15,
           "timepoint": 0.800000011920929,
           "trajectory": "S_sol",
           "upper": 2299979.3875
          },
          {
           "lower": 2299973.6125,
           "timepoint": 0.9000000357627869,
           "trajectory": "S_sol",
           "upper": 2299974.6375
          },
          {
           "lower": 2299966.475,
           "timepoint": 1,
           "trajectory": "S_sol",
           "upper": 2299969.825
          },
          {
           "lower": 2299960.725,
           "timepoint": 1.100000023841858,
           "trajectory": "S_sol",
           "upper": 2299962.6375
          },
          {
           "lower": 2299951.0875,
           "timepoint": 1.2000000476837158,
           "trajectory": "S_sol",
           "upper": 2299956.6375
          },
          {
           "lower": 2299946.375,
           "timepoint": 1.3000000715255737,
           "trajectory": "S_sol",
           "upper": 2299950.625
          },
          {
           "lower": 2299939.7,
           "timepoint": 1.399999976158142,
           "trajectory": "S_sol",
           "upper": 2299941.6375
          },
          {
           "lower": 2299930.0625,
           "timepoint": 1.5,
           "trajectory": "S_sol",
           "upper": 2299933.8
          },
          {
           "lower": 2299922.5625,
           "timepoint": 1.600000023841858,
           "trajectory": "S_sol",
           "upper": 2299928.075
          },
          {
           "lower": 2299911.6,
           "timepoint": 1.7000000476837158,
           "trajectory": "S_sol",
           "upper": 2299916.6875
          },
          {
           "lower": 2299904.125,
           "timepoint": 1.8000000715255737,
           "trajectory": "S_sol",
           "upper": 2299908.9875
          },
          {
           "lower": 2299894.975,
           "timepoint": 1.899999976158142,
           "trajectory": "S_sol",
           "upper": 2299898.775
          },
          {
           "lower": 2299885.225,
           "timepoint": 2,
           "trajectory": "S_sol",
           "upper": 2299887.8875
          },
          {
           "lower": 2299876.225,
           "timepoint": 2.1000001430511475,
           "trajectory": "S_sol",
           "upper": 2299880.1375
          },
          {
           "lower": 2299865.225,
           "timepoint": 2.200000047683716,
           "trajectory": "S_sol",
           "upper": 2299868.1625
          },
          {
           "lower": 2299852.125,
           "timepoint": 2.299999952316284,
           "trajectory": "S_sol",
           "upper": 2299857.3
          },
          {
           "lower": 2299842.425,
           "timepoint": 2.4000000953674316,
           "trajectory": "S_sol",
           "upper": 2299846.1375
          },
          {
           "lower": 2299829.2875,
           "timepoint": 2.5,
           "trajectory": "S_sol",
           "upper": 2299834.775
          },
          {
           "lower": 2299819.9,
           "timepoint": 2.6000001430511475,
           "trajectory": "S_sol",
           "upper": 2299823.6375
          },
          {
           "lower": 2299807.8125,
           "timepoint": 2.700000047683716,
           "trajectory": "S_sol",
           "upper": 2299811.1375
          },
          {
           "lower": 2299792.9,
           "timepoint": 2.799999952316284,
           "trajectory": "S_sol",
           "upper": 2299799.8875
          },
          {
           "lower": 2299784.6125,
           "timepoint": 2.9000000953674316,
           "trajectory": "S_sol",
           "upper": 2299787.6625
          },
          {
           "lower": 2299769.9875,
           "timepoint": 3,
           "trajectory": "S_sol",
           "upper": 2299775.275
          },
          {
           "lower": 2299757.275,
           "timepoint": 3.1000001430511475,
           "trajectory": "S_sol",
           "upper": 2299761.8875
          },
          {
           "lower": 2299745.6125,
           "timepoint": 3.200000047683716,
           "trajectory": "S_sol",
           "upper": 2299748.9375
          },
          {
           "lower": 2299730.9875,
           "timepoint": 3.299999952316284,
           "trajectory": "S_sol",
           "upper": 2299735.3875
          },
          {
           "lower": 2299715.475,
           "timepoint": 3.4000000953674316,
           "trajectory": "S_sol",
           "upper": 2299722.4125
          },
          {
           "lower": 2299703.95,
           "timepoint": 3.5,
           "trajectory": "S_sol",
           "upper": 2299709
          },
          {
           "lower": 2299691.5875,
           "timepoint": 3.6000001430511475,
           "trajectory": "S_sol",
           "upper": 2299695.525
          },
          {
           "lower": 2299675.85,
           "timepoint": 3.700000047683716,
           "trajectory": "S_sol",
           "upper": 2299681.9
          },
          {
           "lower": 2299659.75,
           "timepoint": 3.799999952316284,
           "trajectory": "S_sol",
           "upper": 2299666.1375
          },
          {
           "lower": 2299648.8125,
           "timepoint": 3.9000000953674316,
           "trajectory": "S_sol",
           "upper": 2299652.25
          },
          {
           "lower": 2299633.8,
           "timepoint": 4,
           "trajectory": "S_sol",
           "upper": 2299638.1375
          },
          {
           "lower": 2299620.75,
           "timepoint": 4.099999904632568,
           "trajectory": "S_sol",
           "upper": 2299623.1625
          },
          {
           "lower": 2299604.475,
           "timepoint": 4.200000286102295,
           "trajectory": "S_sol",
           "upper": 2299608.275
          },
          {
           "lower": 2299587.775,
           "timepoint": 4.300000190734863,
           "trajectory": "S_sol",
           "upper": 2299592.5
          },
          {
           "lower": 2299573.975,
           "timepoint": 4.400000095367432,
           "trajectory": "S_sol",
           "upper": 2299577.55
          },
          {
           "lower": 2299555.675,
           "timepoint": 4.5,
           "trajectory": "S_sol",
           "upper": 2299561.525
          },
          {
           "lower": 2299542.1875,
           "timepoint": 4.599999904632568,
           "trajectory": "S_sol",
           "upper": 2299546.4125
          },
          {
           "lower": 2299527.3625,
           "timepoint": 4.700000286102295,
           "trajectory": "S_sol",
           "upper": 2299529.9125
          },
          {
           "lower": 2299509.4,
           "timepoint": 4.800000190734863,
           "trajectory": "S_sol",
           "upper": 2299514.1875
          },
          {
           "lower": 2299491.625,
           "timepoint": 4.900000095367432,
           "trajectory": "S_sol",
           "upper": 2299497.5
          },
          {
           "lower": 2299477.6125,
           "timepoint": 5,
           "trajectory": "S_sol",
           "upper": 2299481.3875
          },
          {
           "lower": 2299463.3625,
           "timepoint": 5.099999904632568,
           "trajectory": "S_sol",
           "upper": 2299465.1375
          },
          {
           "lower": 2299445.75,
           "timepoint": 5.200000286102295,
           "trajectory": "S_sol",
           "upper": 2299449
          },
          {
           "lower": 2299427.2875,
           "timepoint": 5.300000190734863,
           "trajectory": "S_sol",
           "upper": 2299432.525
          },
          {
           "lower": 2299412.5875,
           "timepoint": 5.400000095367432,
           "trajectory": "S_sol",
           "upper": 2299415.6625
          },
          {
           "lower": 2299393.7625,
           "timepoint": 5.5,
           "trajectory": "S_sol",
           "upper": 2299397.525
          },
          {
           "lower": 2299378.6125,
           "timepoint": 5.599999904632568,
           "trajectory": "S_sol",
           "upper": 2299380.25
          },
          {
           "lower": 2299359.8125,
           "timepoint": 5.700000286102295,
           "trajectory": "S_sol",
           "upper": 2299363.25
          },
          {
           "lower": 2299343.0375,
           "timepoint": 5.800000190734863,
           "trajectory": "S_sol",
           "upper": 2299346.025
          },
          {
           "lower": 2299326.3625,
           "timepoint": 5.900000095367432,
           "trajectory": "S_sol",
           "upper": 2299329.3
          },
          {
           "lower": 2299307.95,
           "timepoint": 6,
           "trajectory": "S_sol",
           "upper": 2299312.45
          },
          {
           "lower": 2299290.45,
           "timepoint": 6.099999904632568,
           "trajectory": "S_sol",
           "upper": 2299292.3875
          },
          {
           "lower": 2299271.2875,
           "timepoint": 6.200000286102295,
           "trajectory": "S_sol",
           "upper": 2299274.75
          },
          {
           "lower": 2299251.8,
           "timepoint": 6.300000190734863,
           "trajectory": "S_sol",
           "upper": 2299256.275
          },
          {
           "lower": 2299235.25,
           "timepoint": 6.400000095367432,
           "trajectory": "S_sol",
           "upper": 2299238.275
          },
          {
           "lower": 2299216.25,
           "timepoint": 6.5,
           "trajectory": "S_sol",
           "upper": 2299219.6625
          },
          {
           "lower": 2299197.425,
           "timepoint": 6.599999904632568,
           "trajectory": "S_sol",
           "upper": 2299199.8875
          },
          {
           "lower": 2299178.975,
           "timepoint": 6.700000286102295,
           "trajectory": "S_sol",
           "upper": 2299181.05
          },
          {
           "lower": 2299159.475,
           "timepoint": 6.800000190734863,
           "trajectory": "S_sol",
           "upper": 2299162.4375
          },
          {
           "lower": 2299140.975,
           "timepoint": 6.900000095367432,
           "trajectory": "S_sol",
           "upper": 2299143.85
          },
          {
           "lower": 2299120.5125,
           "timepoint": 7,
           "trajectory": "S_sol",
           "upper": 2299123.6375
          },
          {
           "lower": 2299102.3375,
           "timepoint": 7.099999904632568,
           "trajectory": "S_sol",
           "upper": 2299104.25
          },
          {
           "lower": 2299081.9,
           "timepoint": 7.200000286102295,
           "trajectory": "S_sol",
           "upper": 2299085.5
          },
          {
           "lower": 2299060.9625,
           "timepoint": 7.300000190734863,
           "trajectory": "S_sol",
           "upper": 2299066.4125
          },
          {
           "lower": 2299043.175,
           "timepoint": 7.400000095367432,
           "trajectory": "S_sol",
           "upper": 2299047.675
          },
          {
           "lower": 2299023.75,
           "timepoint": 7.5,
           "trajectory": "S_sol",
           "upper": 2299025.9125
          },
          {
           "lower": 2299003.475,
           "timepoint": 7.599999904632568,
           "trajectory": "S_sol",
           "upper": 2299006.3
          },
          {
           "lower": 2298983.2,
           "timepoint": 7.700000286102295,
           "trajectory": "S_sol",
           "upper": 2298986.1375
          },
          {
           "lower": 2298963,
           "timepoint": 7.800000190734863,
           "trajectory": "S_sol",
           "upper": 2298966.6625
          },
          {
           "lower": 2298942,
           "timepoint": 7.900000095367432,
           "trajectory": "S_sol",
           "upper": 2298947.425
          },
          {
           "lower": 2298921.425,
           "timepoint": 8,
           "trajectory": "S_sol",
           "upper": 2298925.1625
          },
          {
           "lower": 2298901.3625,
           "timepoint": 8.100000381469727,
           "trajectory": "S_sol",
           "upper": 2298903.9375
          },
          {
           "lower": 2298880.1125,
           "timepoint": 8.199999809265137,
           "trajectory": "S_sol",
           "upper": 2298883.9125
          },
          {
           "lower": 2298858.475,
           "timepoint": 8.300000190734863,
           "trajectory": "S_sol",
           "upper": 2298861.6625
          },
          {
           "lower": 2298836.175,
           "timepoint": 8.40000057220459,
           "trajectory": "S_sol",
           "upper": 2298841.6375
          },
          {
           "lower": 2298814.275,
           "timepoint": 8.5,
           "trajectory": "S_sol",
           "upper": 2298821.85
          },
          {
           "lower": 2298790.45,
           "timepoint": 8.600000381469727,
           "trajectory": "S_sol",
           "upper": 2298797.1625
          },
          {
           "lower": 2298772.625,
           "timepoint": 8.699999809265137,
           "trajectory": "S_sol",
           "upper": 2298776.35
          },
          {
           "lower": 2298749.3875,
           "timepoint": 8.800000190734863,
           "trajectory": "S_sol",
           "upper": 2298755.675
          },
          {
           "lower": 2298729.5875,
           "timepoint": 8.90000057220459,
           "trajectory": "S_sol",
           "upper": 2298735.325
          },
          {
           "lower": 2298706.65,
           "timepoint": 9,
           "trajectory": "S_sol",
           "upper": 2298709.525
          },
          {
           "lower": 2298683.1375,
           "timepoint": 9.100000381469727,
           "trajectory": "S_sol",
           "upper": 2298687.275
          },
          {
           "lower": 2298662.8625,
           "timepoint": 9.199999809265137,
           "trajectory": "S_sol",
           "upper": 2298665.25
          },
          {
           "lower": 2298639.125,
           "timepoint": 9.300000190734863,
           "trajectory": "S_sol",
           "upper": 2298643.4125
          },
          {
           "lower": 2298614.6375,
           "timepoint": 9.40000057220459,
           "trajectory": "S_sol",
           "upper": 2298622.05
          },
          {
           "lower": 2298594.4875,
           "timepoint": 9.5,
           "trajectory": "S_sol",
           "upper": 2298600.7125
          },
          {
           "lower": 2298573.1125,
           "timepoint": 9.600000381469727,
           "trajectory": "S_sol",
           "upper": 2298574.9125
          },
          {
           "lower": 2298550,
           "timepoint": 9.699999809265137,
           "trajectory": "S_sol",
           "upper": 2298552.325
          },
          {
           "lower": 2298526.6125,
           "timepoint": 9.800000190734863,
           "trajectory": "S_sol",
           "upper": 2298528.25
          },
          {
           "lower": 2298502.5625,
           "timepoint": 9.90000057220459,
           "trajectory": "S_sol",
           "upper": 2298504.8875
          },
          {
           "lower": 2298478.65,
           "timepoint": 10,
           "trajectory": "S_sol",
           "upper": 2298481.525
          },
          {
           "lower": 2298455.8375,
           "timepoint": 10.100000381469727,
           "trajectory": "S_sol",
           "upper": 2298458.3
          },
          {
           "lower": 2298431.7,
           "timepoint": 10.199999809265137,
           "trajectory": "S_sol",
           "upper": 2298434.9625
          },
          {
           "lower": 2298407.5375,
           "timepoint": 10.300000190734863,
           "trajectory": "S_sol",
           "upper": 2298411.5125
          },
          {
           "lower": 2298382.875,
           "timepoint": 10.40000057220459,
           "trajectory": "S_sol",
           "upper": 2298386.025
          },
          {
           "lower": 2298358.1875,
           "timepoint": 10.5,
           "trajectory": "S_sol",
           "upper": 2298362.6875
          },
          {
           "lower": 2298335.75,
           "timepoint": 10.600000381469727,
           "trajectory": "S_sol",
           "upper": 2298339.55
          },
          {
           "lower": 2298311,
           "timepoint": 10.699999809265137,
           "trajectory": "S_sol",
           "upper": 2298312.8875
          },
          {
           "lower": 2298286,
           "timepoint": 10.800000190734863,
           "trajectory": "S_sol",
           "upper": 2298288.1375
          },
          {
           "lower": 2298260.3625,
           "timepoint": 10.90000057220459,
           "trajectory": "S_sol",
           "upper": 2298263.3875
          },
          {
           "lower": 2298234.8625,
           "timepoint": 11,
           "trajectory": "S_sol",
           "upper": 2298238.275
          },
          {
           "lower": 2298209.1125,
           "timepoint": 11.100000381469727,
           "trajectory": "S_sol",
           "upper": 2298213
          },
          {
           "lower": 2298186.1125,
           "timepoint": 11.199999809265137,
           "trajectory": "S_sol",
           "upper": 2298188.525
          },
          {
           "lower": 2298160.475,
           "timepoint": 11.300000190734863,
           "trajectory": "S_sol",
           "upper": 2298164.4375
          },
          {
           "lower": 2298134.3375,
           "timepoint": 11.40000057220459,
           "trajectory": "S_sol",
           "upper": 2298138.2875
          },
          {
           "lower": 2298107.7875,
           "timepoint": 11.5,
           "trajectory": "S_sol",
           "upper": 2298110.8875
          },
          {
           "lower": 2298082.75,
           "timepoint": 11.600000381469727,
           "trajectory": "S_sol",
           "upper": 2298085.275
          },
          {
           "lower": 2298056.25,
           "timepoint": 11.699999809265137,
           "trajectory": "S_sol",
           "upper": 2298058.4375
          },
          {
           "lower": 2298029.6125,
           "timepoint": 11.800000190734863,
           "trajectory": "S_sol",
           "upper": 2298032.4375
          },
          {
           "lower": 2298002.6125,
           "timepoint": 11.90000057220459,
           "trajectory": "S_sol",
           "upper": 2298006.2125
          },
          {
           "lower": 2297975.3375,
           "timepoint": 12,
           "trajectory": "S_sol",
           "upper": 2297978.8875
          },
          {
           "lower": 2297948.2375,
           "timepoint": 12.100000381469727,
           "trajectory": "S_sol",
           "upper": 2297952.4125
          },
          {
           "lower": 2297920.075,
           "timepoint": 12.199999809265137,
           "trajectory": "S_sol",
           "upper": 2297926.075
          },
          {
           "lower": 2297893.8625,
           "timepoint": 12.300000190734863,
           "trajectory": "S_sol",
           "upper": 2297899.9875
          },
          {
           "lower": 2297866.2125,
           "timepoint": 12.40000057220459,
           "trajectory": "S_sol",
           "upper": 2297874.2625
          },
          {
           "lower": 2297839.925,
           "timepoint": 12.5,
           "trajectory": "S_sol",
           "upper": 2297845.9875
          },
          {
           "lower": 2297811.35,
           "timepoint": 12.600000381469727,
           "trajectory": "S_sol",
           "upper": 2297816.375
          },
          {
           "lower": 2297785.0875,
           "timepoint": 12.699999809265137,
           "trajectory": "S_sol",
           "upper": 2297788.7875
          },
          {
           "lower": 2297756.8375,
           "timepoint": 12.800000190734863,
           "trajectory": "S_sol",
           "upper": 2297759
          },
          {
           "lower": 2297728.425,
           "timepoint": 12.90000057220459,
           "trajectory": "S_sol",
           "upper": 2297730.75
          },
          {
           "lower": 2297699.5375,
           "timepoint": 13,
           "trajectory": "S_sol",
           "upper": 2297702.75
          },
          {
           "lower": 2297669.925,
           "timepoint": 13.100000381469727,
           "trajectory": "S_sol",
           "upper": 2297674.4125
          },
          {
           "lower": 2297640.3125,
           "timepoint": 13.199999809265137,
           "trajectory": "S_sol",
           "upper": 2297646.1875
          },
          {
           "lower": 2297610.5875,
           "timepoint": 13.300000190734863,
           "trajectory": "S_sol",
           "upper": 2297617.6
          },
          {
           "lower": 2297581.7125,
           "timepoint": 13.40000057220459,
           "trajectory": "S_sol",
           "upper": 2297589.0125
          },
          {
           "lower": 2297554.45,
           "timepoint": 13.5,
           "trajectory": "S_sol",
           "upper": 2297558.3875
          },
          {
           "lower": 2297525.375,
           "timepoint": 13.600000381469727,
           "trajectory": "S_sol",
           "upper": 2297529.1375
          },
          {
           "lower": 2297494.825,
           "timepoint": 13.699999809265137,
           "trajectory": "S_sol",
           "upper": 2297499.4375
          },
          {
           "lower": 2297467.0875,
           "timepoint": 13.800000190734863,
           "trajectory": "S_sol",
           "upper": 2297469.825
          },
          {
           "lower": 2297436.8125,
           "timepoint": 13.90000057220459,
           "trajectory": "S_sol",
           "upper": 2297440.075
          },
          {
           "lower": 2297406.45,
           "timepoint": 14,
           "trajectory": "S_sol",
           "upper": 2297409.6375
          },
          {
           "lower": 2297376.475,
           "timepoint": 14.100000381469727,
           "trajectory": "S_sol",
           "upper": 2297380.05
          },
          {
           "lower": 2297345.45,
           "timepoint": 14.199999809265137,
           "trajectory": "S_sol",
           "upper": 2297350.4875
          },
          {
           "lower": 2297314.0875,
           "timepoint": 14.300000190734863,
           "trajectory": "S_sol",
           "upper": 2297317.9875
          },
          {
           "lower": 2297282.3375,
           "timepoint": 14.40000057220459,
           "trajectory": "S_sol",
           "upper": 2297287.375
          },
          {
           "lower": 2297249.95,
           "timepoint": 14.5,
           "trajectory": "S_sol",
           "upper": 2297254.775
          },
          {
           "lower": 2297221.725,
           "timepoint": 14.600000381469727,
           "trajectory": "S_sol",
           "upper": 2297223.3875
          },
          {
           "lower": 2297189.975,
           "timepoint": 14.699999809265137,
           "trajectory": "S_sol",
           "upper": 2297191.8875
          },
          {
           "lower": 2297158.2,
           "timepoint": 14.800000190734863,
           "trajectory": "S_sol",
           "upper": 2297160.1375
          },
          {
           "lower": 2297126.0625,
           "timepoint": 14.90000057220459,
           "trajectory": "S_sol",
           "upper": 2297128.025
          },
          {
           "lower": 2297093.5625,
           "timepoint": 15,
           "trajectory": "S_sol",
           "upper": 2297096.025
          },
          {
           "lower": 2297060.95,
           "timepoint": 15.100000381469727,
           "trajectory": "S_sol",
           "upper": 2297063.9125
          },
          {
           "lower": 2297029.5875,
           "timepoint": 15.199999809265137,
           "trajectory": "S_sol",
           "upper": 2297031.8
          },
          {
           "lower": 2296996.7,
           "timepoint": 15.300000190734863,
           "trajectory": "S_sol",
           "upper": 2296999.2125
          },
          {
           "lower": 2296963.5625,
           "timepoint": 15.40000057220459,
           "trajectory": "S_sol",
           "upper": 2296966.9625
          },
          {
           "lower": 2296930.0625,
           "timepoint": 15.5,
           "trajectory": "S_sol",
           "upper": 2296934.625
          },
          {
           "lower": 2296896.425,
           "timepoint": 15.600000381469727,
           "trajectory": "S_sol",
           "upper": 2296902.0375
          },
          {
           "lower": 2296862.5375,
           "timepoint": 15.699999809265137,
           "trajectory": "S_sol",
           "upper": 2296869.725
          },
          {
           "lower": 2296828.3125,
           "timepoint": 15.800000190734863,
           "trajectory": "S_sol",
           "upper": 2296833.65
          },
          {
           "lower": 2296793.7,
           "timepoint": 15.90000057220459,
           "trajectory": "S_sol",
           "upper": 2296798.1375
          },
          {
           "lower": 2296760.125,
           "timepoint": 16,
           "trajectory": "S_sol",
           "upper": 2296764.4125
          },
          {
           "lower": 2296724.9375,
           "timepoint": 16.100000381469727,
           "trajectory": "S_sol",
           "upper": 2296729.875
          },
          {
           "lower": 2296689.5,
           "timepoint": 16.200000762939453,
           "trajectory": "S_sol",
           "upper": 2296695.5375
          },
          {
           "lower": 2296657.25,
           "timepoint": 16.30000114440918,
           "trajectory": "S_sol",
           "upper": 2296661.3375
          },
          {
           "lower": 2296621.8625,
           "timepoint": 16.399999618530273,
           "trajectory": "S_sol",
           "upper": 2296627.025
          },
          {
           "lower": 2296586.6125,
           "timepoint": 16.5,
           "trajectory": "S_sol",
           "upper": 2296592.4625
          },
          {
           "lower": 2296551.45,
           "timepoint": 16.600000381469727,
           "trajectory": "S_sol",
           "upper": 2296553.525
          },
          {
           "lower": 2296515.475,
           "timepoint": 16.700000762939453,
           "trajectory": "S_sol",
           "upper": 2296517.6375
          },
          {
           "lower": 2296479.1125,
           "timepoint": 16.80000114440918,
           "trajectory": "S_sol",
           "upper": 2296481.75
          },
          {
           "lower": 2296443.175,
           "timepoint": 16.899999618530273,
           "trajectory": "S_sol",
           "upper": 2296445.75
          },
          {
           "lower": 2296406.15,
           "timepoint": 17,
           "trajectory": "S_sol",
           "upper": 2296409.1375
          },
          {
           "lower": 2296368.85,
           "timepoint": 17.100000381469727,
           "trajectory": "S_sol",
           "upper": 2296372.775
          },
          {
           "lower": 2296333.725,
           "timepoint": 17.200000762939453,
           "trajectory": "S_sol",
           "upper": 2296336.1625
          },
          {
           "lower": 2296297.1125,
           "timepoint": 17.30000114440918,
           "trajectory": "S_sol",
           "upper": 2296298.75
          },
          {
           "lower": 2296259.725,
           "timepoint": 17.399999618530273,
           "trajectory": "S_sol",
           "upper": 2296261.5
          },
          {
           "lower": 2296222.0875,
           "timepoint": 17.5,
           "trajectory": "S_sol",
           "upper": 2296224
          },
          {
           "lower": 2296183.975,
           "timepoint": 17.600000381469727,
           "trajectory": "S_sol",
           "upper": 2296186.3875
          },
          {
           "lower": 2296145.6125,
           "timepoint": 17.700000762939453,
           "trajectory": "S_sol",
           "upper": 2296148.1625
          },
          {
           "lower": 2296107,
           "timepoint": 17.80000114440918,
           "trajectory": "S_sol",
           "upper": 2296110.1625
          },
          {
           "lower": 2296068.3625,
           "timepoint": 17.899999618530273,
           "trajectory": "S_sol",
           "upper": 2296071.9375
          },
          {
           "lower": 2296029.225,
           "timepoint": 18,
           "trajectory": "S_sol",
           "upper": 2296033.4375
          },
          {
           "lower": 2295991.0375,
           "timepoint": 18.100000381469727,
           "trajectory": "S_sol",
           "upper": 2295993.75
          },
          {
           "lower": 2295953,
           "timepoint": 18.200000762939453,
           "trajectory": "S_sol",
           "upper": 2295954.6375
          },
          {
           "lower": 2295913.25,
           "timepoint": 18.30000114440918,
           "trajectory": "S_sol",
           "upper": 2295915.6375
          },
          {
           "lower": 2295873.475,
           "timepoint": 18.399999618530273,
           "trajectory": "S_sol",
           "upper": 2295876.25
          },
          {
           "lower": 2295833.225,
           "timepoint": 18.5,
           "trajectory": "S_sol",
           "upper": 2295836.1625
          },
          {
           "lower": 2295792.725,
           "timepoint": 18.600000381469727,
           "trajectory": "S_sol",
           "upper": 2295796.325
          },
          {
           "lower": 2295752.1125,
           "timepoint": 18.700000762939453,
           "trajectory": "S_sol",
           "upper": 2295756.2125
          },
          {
           "lower": 2295711.1125,
           "timepoint": 18.80000114440918,
           "trajectory": "S_sol",
           "upper": 2295715.875
          },
          {
           "lower": 2295669.8625,
           "timepoint": 18.899999618530273,
           "trajectory": "S_sol",
           "upper": 2295675.4
          },
          {
           "lower": 2295628.9,
           "timepoint": 19,
           "trajectory": "S_sol",
           "upper": 2295634.675
          },
          {
           "lower": 2295586.9875,
           "timepoint": 19.100000381469727,
           "trajectory": "S_sol",
           "upper": 2295593.95
          },
          {
           "lower": 2295546.7,
           "timepoint": 19.200000762939453,
           "trajectory": "S_sol",
           "upper": 2295553
          },
          {
           "lower": 2295504.7,
           "timepoint": 19.30000114440918,
           "trajectory": "S_sol",
           "upper": 2295512.05
          },
          {
           "lower": 2295462.175,
           "timepoint": 19.399999618530273,
           "trajectory": "S_sol",
           "upper": 2295470.7125
          },
          {
           "lower": 2295419.5375,
           "timepoint": 19.5,
           "trajectory": "S_sol",
           "upper": 2295423.7875
          },
          {
           "lower": 2295376.375,
           "timepoint": 19.600000381469727,
           "trajectory": "S_sol",
           "upper": 2295381.3125
          },
          {
           "lower": 2295333.125,
           "timepoint": 19.700000762939453,
           "trajectory": "S_sol",
           "upper": 2295338.8625
          },
          {
           "lower": 2295289.35,
           "timepoint": 19.80000114440918,
           "trajectory": "S_sol",
           "upper": 2295296
          },
          {
           "lower": 2295245.3,
           "timepoint": 19.899999618530273,
           "trajectory": "S_sol",
           "upper": 2295253.05
          },
          {
           "lower": 2295204.0625,
           "timepoint": 20,
           "trajectory": "S_sol",
           "upper": 2295206.1375
          },
          {
           "lower": 2295159.7,
           "timepoint": 20.100000381469727,
           "trajectory": "S_sol",
           "upper": 2295162.1375
          },
          {
           "lower": 2295115.0625,
           "timepoint": 20.200000762939453,
           "trajectory": "S_sol",
           "upper": 2295118.025
          },
          {
           "lower": 2295070.0375,
           "timepoint": 20.30000114440918,
           "trajectory": "S_sol",
           "upper": 2295073.775
          },
          {
           "lower": 2295024.9,
           "timepoint": 20.399999618530273,
           "trajectory": "S_sol",
           "upper": 2295029.275
          },
          {
           "lower": 2294980.45,
           "timepoint": 20.5,
           "trajectory": "S_sol",
           "upper": 2294984.1625
          },
          {
           "lower": 2294934.8375,
           "timepoint": 20.600000381469727,
           "trajectory": "S_sol",
           "upper": 2294939.025
          },
          {
           "lower": 2294888.675,
           "timepoint": 20.700000762939453,
           "trajectory": "S_sol",
           "upper": 2294893.775
          },
          {
           "lower": 2294842.0875,
           "timepoint": 20.80000114440918,
           "trajectory": "S_sol",
           "upper": 2294848.1625
          },
          {
           "lower": 2294795.3375,
           "timepoint": 20.899999618530273,
           "trajectory": "S_sol",
           "upper": 2294802.4125
          },
          {
           "lower": 2294748.0625,
           "timepoint": 21,
           "trajectory": "S_sol",
           "upper": 2294756.4125
          },
          {
           "lower": 2294702.375,
           "timepoint": 21.100000381469727,
           "trajectory": "S_sol",
           "upper": 2294708.3625
          },
          {
           "lower": 2294654.6,
           "timepoint": 21.200000762939453,
           "trajectory": "S_sol",
           "upper": 2294661.75
          },
          {
           "lower": 2294606.325,
           "timepoint": 21.30000114440918,
           "trajectory": "S_sol",
           "upper": 2294611.3
          },
          {
           "lower": 2294560.475,
           "timepoint": 21.399999618530273,
           "trajectory": "S_sol",
           "upper": 2294563.6625
          },
          {
           "lower": 2294511.7,
           "timepoint": 21.5,
           "trajectory": "S_sol",
           "upper": 2294515.8
          },
          {
           "lower": 2294462.675,
           "timepoint": 21.600000381469727,
           "trajectory": "S_sol",
           "upper": 2294467.6625
          },
          {
           "lower": 2294413.3125,
           "timepoint": 21.700000762939453,
           "trajectory": "S_sol",
           "upper": 2294418.3
          },
          {
           "lower": 2294365.025,
           "timepoint": 21.80000114440918,
           "trajectory": "S_sol",
           "upper": 2294369.575
          },
          {
           "lower": 2294315.475,
           "timepoint": 21.899999618530273,
           "trajectory": "S_sol",
           "upper": 2294320.325
          },
          {
           "lower": 2294265.0375,
           "timepoint": 22,
           "trajectory": "S_sol",
           "upper": 2294271.2125
          },
          {
           "lower": 2294214.625,
           "timepoint": 22.100000381469727,
           "trajectory": "S_sol",
           "upper": 2294221.7125
          },
          {
           "lower": 2294163.4125,
           "timepoint": 22.200000762939453,
           "trajectory": "S_sol",
           "upper": 2294171.7375
          },
          {
           "lower": 2294112.3625,
           "timepoint": 22.30000114440918,
           "trajectory": "S_sol",
           "upper": 2294121.5125
          },
          {
           "lower": 2294067.225,
           "timepoint": 22.399999618530273,
           "trajectory": "S_sol",
           "upper": 2294069.775
          },
          {
           "lower": 2294016.0875,
           "timepoint": 22.5,
           "trajectory": "S_sol",
           "upper": 2294018.3875
          },
          {
           "lower": 2293964.3625,
           "timepoint": 22.600000381469727,
           "trajectory": "S_sol",
           "upper": 2293967.275
          },
          {
           "lower": 2293912.3625,
           "timepoint": 22.700000762939453,
           "trajectory": "S_sol",
           "upper": 2293915.775
          },
          {
           "lower": 2293860.1125,
           "timepoint": 22.80000114440918,
           "trajectory": "S_sol",
           "upper": 2293864.275
          },
          {
           "lower": 2293807.475,
           "timepoint": 22.899999618530273,
           "trajectory": "S_sol",
           "upper": 2293812.1625
          },
          {
           "lower": 2293754.7,
           "timepoint": 23,
           "trajectory": "S_sol",
           "upper": 2293759.9125
          },
          {
           "lower": 2293701.3125,
           "timepoint": 23.100000381469727,
           "trajectory": "S_sol",
           "upper": 2293707.3
          },
          {
           "lower": 2293647.5375,
           "timepoint": 23.200000762939453,
           "trajectory": "S_sol",
           "upper": 2293654.4375
          },
          {
           "lower": 2293594.3625,
           "timepoint": 23.30000114440918,
           "trajectory": "S_sol",
           "upper": 2293599.2625
          },
          {
           "lower": 2293540.0875,
           "timepoint": 23.399999618530273,
           "trajectory": "S_sol",
           "upper": 2293545.5375
          },
          {
           "lower": 2293485.45,
           "timepoint": 23.5,
           "trajectory": "S_sol",
           "upper": 2293489.3
          },
          {
           "lower": 2293431.45,
           "timepoint": 23.600000381469727,
           "trajectory": "S_sol",
           "upper": 2293434.9375
          },
          {
           "lower": 2293376.175,
           "timepoint": 23.700000762939453,
           "trajectory": "S_sol",
           "upper": 2293380.05
          },
          {
           "lower": 2293320.675,
           "timepoint": 23.80000114440918,
           "trajectory": "S_sol",
           "upper": 2293324.9375
          },
          {
           "lower": 2293266.0875,
           "timepoint": 23.899999618530273,
           "trajectory": "S_sol",
           "upper": 2293269.575
          },
          {
           "lower": 2293209.8625,
           "timepoint": 24,
           "trajectory": "S_sol",
           "upper": 2293213.425
          },
          {
           "lower": 2293153.3625,
           "timepoint": 24.100000381469727,
           "trajectory": "S_sol",
           "upper": 2293157.3375
          },
          {
           "lower": 2293096.5,
           "timepoint": 24.200000762939453,
           "trajectory": "S_sol",
           "upper": 2293101
          },
          {
           "lower": 2293039.0875,
           "timepoint": 24.30000114440918,
           "trajectory": "S_sol",
           "upper": 2293044.275
          },
          {
           "lower": 2292981.5875,
           "timepoint": 24.399999618530273,
           "trajectory": "S_sol",
           "upper": 2292987.325
          },
          {
           "lower": 2292923.7,
           "timepoint": 24.5,
           "trajectory": "S_sol",
           "upper": 2292926
          },
          {
           "lower": 2292866.3625,
           "timepoint": 24.600000381469727,
           "trajectory": "S_sol",
           "upper": 2292867.8875
          },
          {
           "lower": 2292807.8625,
           "timepoint": 24.700000762939453,
           "trajectory": "S_sol",
           "upper": 2292809.3875
          },
          {
           "lower": 2292748.725,
           "timepoint": 24.80000114440918,
           "trajectory": "S_sol",
           "upper": 2292750.525
          },
          {
           "lower": 2292689.475,
           "timepoint": 24.899999618530273,
           "trajectory": "S_sol",
           "upper": 2292691.525
          },
          {
           "lower": 2292629.5875,
           "timepoint": 25,
           "trajectory": "S_sol",
           "upper": 2292632.05
          },
          {
           "lower": 2292569.3375,
           "timepoint": 25.100000381469727,
           "trajectory": "S_sol",
           "upper": 2292572.075
          },
          {
           "lower": 2292508.7,
           "timepoint": 25.200000762939453,
           "trajectory": "S_sol",
           "upper": 2292511.825
          },
          {
           "lower": 2292447.8125,
           "timepoint": 25.30000114440918,
           "trajectory": "S_sol",
           "upper": 2292451.575
          },
          {
           "lower": 2292386.2875,
           "timepoint": 25.399999618530273,
           "trajectory": "S_sol",
           "upper": 2292391.05
          },
          {
           "lower": 2292325.8625,
           "timepoint": 25.5,
           "trajectory": "S_sol",
           "upper": 2292328.55
          },
          {
           "lower": 2292263.8375,
           "timepoint": 25.600000381469727,
           "trajectory": "S_sol",
           "upper": 2292267.2375
          },
          {
           "lower": 2292201.725,
           "timepoint": 25.700000762939453,
           "trajectory": "S_sol",
           "upper": 2292205.4
          },
          {
           "lower": 2292139,
           "timepoint": 25.80000114440918,
           "trajectory": "S_sol",
           "upper": 2292141.1375
          },
          {
           "lower": 2292075.8625,
           "timepoint": 25.899999618530273,
           "trajectory": "S_sol",
           "upper": 2292078.025
          },
          {
           "lower": 2292012.1125,
           "timepoint": 26,
           "trajectory": "S_sol",
           "upper": 2292014.775
          },
          {
           "lower": 2291948.225,
           "timepoint": 26.100000381469727,
           "trajectory": "S_sol",
           "upper": 2291951.025
          },
          {
           "lower": 2291883.975,
           "timepoint": 26.200000762939453,
           "trajectory": "S_sol",
           "upper": 2291886.8875
          },
          {
           "lower": 2291819.2,
           "timepoint": 26.30000114440918,
           "trajectory": "S_sol",
           "upper": 2291822.6375
          },
          {
           "lower": 2291754.175,
           "timepoint": 26.399999618530273,
           "trajectory": "S_sol",
           "upper": 2291758
          },
          {
           "lower": 2291688.5625,
           "timepoint": 26.5,
           "trajectory": "S_sol",
           "upper": 2291692.8875
          },
          {
           "lower": 2291622.65,
           "timepoint": 26.600000381469727,
           "trajectory": "S_sol",
           "upper": 2291627.5
          },
          {
           "lower": 2291556.15,
           "timepoint": 26.700000762939453,
           "trajectory": "S_sol",
           "upper": 2291559.1375
          },
          {
           "lower": 2291489.2625,
           "timepoint": 26.80000114440918,
           "trajectory": "S_sol",
           "upper": 2291492.525
          },
          {
           "lower": 2291421.875,
           "timepoint": 26.899999618530273,
           "trajectory": "S_sol",
           "upper": 2291425.3875
          },
          {
           "lower": 2291354.1,
           "timepoint": 27,
           "trajectory": "S_sol",
           "upper": 2291358.275
          },
          {
           "lower": 2291285.825,
           "timepoint": 27.100000381469727,
           "trajectory": "S_sol",
           "upper": 2291290.4125
          },
          {
           "lower": 2291219.475,
           "timepoint": 27.200000762939453,
           "trajectory": "S_sol",
           "upper": 2291222.1875
          },
          {
           "lower": 2291150.5,
           "timepoint": 27.30000114440918,
           "trajectory": "S_sol",
           "upper": 2291153.6875
          },
          {
           "lower": 2291081.1125,
           "timepoint": 27.399999618530273,
           "trajectory": "S_sol",
           "upper": 2291084.7125
          },
          {
           "lower": 2291011.225,
           "timepoint": 27.5,
           "trajectory": "S_sol",
           "upper": 2291015.35
          },
          {
           "lower": 2290940.975,
           "timepoint": 27.600000381469727,
           "trajectory": "S_sol",
           "upper": 2290945.6
          },
          {
           "lower": 2290870.0875,
           "timepoint": 27.700000762939453,
           "trajectory": "S_sol",
           "upper": 2290875.5375
          },
          {
           "lower": 2290798.95,
           "timepoint": 27.80000114440918,
           "trajectory": "S_sol",
           "upper": 2290802.525
          },
          {
           "lower": 2290727.0875,
           "timepoint": 27.899999618530273,
           "trajectory": "S_sol",
           "upper": 2290731.275
          },
          {
           "lower": 2290655.6,
           "timepoint": 28,
           "trajectory": "S_sol",
           "upper": 2290659.3875
          },
          {
           "lower": 2290582.85,
           "timepoint": 28.100000381469727,
           "trajectory": "S_sol",
           "upper": 2290587.25
          },
          {
           "lower": 2290512.0875,
           "timepoint": 28.200000762939453,
           "trajectory": "S_sol",
           "upper": 2290514.6375
          },
          {
           "lower": 2290438.725,
           "timepoint": 28.30000114440918,
           "trajectory": "S_sol",
           "upper": 2290441.3875
          },
          {
           "lower": 2290365.5125,
           "timepoint": 28.399999618530273,
           "trajectory": "S_sol",
           "upper": 2290368
          },
          {
           "lower": 2290291.2375,
           "timepoint": 28.5,
           "trajectory": "S_sol",
           "upper": 2290294.25
          },
          {
           "lower": 2290216.6,
           "timepoint": 28.600000381469727,
           "trajectory": "S_sol",
           "upper": 2290219.8875
          },
          {
           "lower": 2290141.325,
           "timepoint": 28.700000762939453,
           "trajectory": "S_sol",
           "upper": 2290145.275
          },
          {
           "lower": 2290065.6875,
           "timepoint": 28.80000114440918,
           "trajectory": "S_sol",
           "upper": 2290070.4125
          },
          {
           "lower": 2289991.975,
           "timepoint": 28.899999618530273,
           "trajectory": "S_sol",
           "upper": 2289994.275
          },
          {
           "lower": 2289915.725,
           "timepoint": 29,
           "trajectory": "S_sol",
           "upper": 2289918.1375
          },
          {
           "lower": 2289838.725,
           "timepoint": 29.100000381469727,
           "trajectory": "S_sol",
           "upper": 2289841.75
          },
          {
           "lower": 2289761.2,
           "timepoint": 29.200000762939453,
           "trajectory": "S_sol",
           "upper": 2289765
          },
          {
           "lower": 2289683.5875,
           "timepoint": 29.30000114440918,
           "trajectory": "S_sol",
           "upper": 2289686.85
          },
          {
           "lower": 2289605.0625,
           "timepoint": 29.399999618530273,
           "trajectory": "S_sol",
           "upper": 2289608.85
          },
          {
           "lower": 2289526.2,
           "timepoint": 29.5,
           "trajectory": "S_sol",
           "upper": 2289530.5125
          },
          {
           "lower": 2289446.7,
           "timepoint": 29.600000381469727,
           "trajectory": "S_sol",
           "upper": 2289451.7875
          },
          {
           "lower": 2289366.5625,
           "timepoint": 29.700000762939453,
           "trajectory": "S_sol",
           "upper": 2289372.2
          },
          {
           "lower": 2289286.45,
           "timepoint": 29.80000114440918,
           "trajectory": "S_sol",
           "upper": 2289292.475
          },
          {
           "lower": 2289205.175,
           "timepoint": 29.899999618530273,
           "trajectory": "S_sol",
           "upper": 2289212.3875
          },
          {
           "lower": 2289123.8125,
           "timepoint": 30,
           "trajectory": "S_sol",
           "upper": 2289128.275
          },
          {
           "lower": 2289041.5625,
           "timepoint": 30.100000381469727,
           "trajectory": "S_sol",
           "upper": 2289046.6375
          },
          {
           "lower": 2288960.425,
           "timepoint": 30.200000762939453,
           "trajectory": "S_sol",
           "upper": 2288964.75
          },
          {
           "lower": 2288878.925,
           "timepoint": 30.30000114440918,
           "trajectory": "S_sol",
           "upper": 2288882.25
          },
          {
           "lower": 2288795.65,
           "timepoint": 30.399999618530273,
           "trajectory": "S_sol",
           "upper": 2288799.275
          },
          {
           "lower": 2288711.4875,
           "timepoint": 30.5,
           "trajectory": "S_sol",
           "upper": 2288715.775
          },
          {
           "lower": 2288627.1,
           "timepoint": 30.600000381469727,
           "trajectory": "S_sol",
           "upper": 2288631.9375
          },
          {
           "lower": 2288542.325,
           "timepoint": 30.700000762939453,
           "trajectory": "S_sol",
           "upper": 2288547.325
          },
          {
           "lower": 2288456.9125,
           "timepoint": 30.80000114440918,
           "trajectory": "S_sol",
           "upper": 2288462.375
          },
          {
           "lower": 2288371,
           "timepoint": 30.899999618530273,
           "trajectory": "S_sol",
           "upper": 2288377.0375
          },
          {
           "lower": 2288287.25,
           "timepoint": 31,
           "trajectory": "S_sol",
           "upper": 2288288.6625
          },
          {
           "lower": 2288200.0875,
           "timepoint": 31.100000381469727,
           "trajectory": "S_sol",
           "upper": 2288201.775
          },
          {
           "lower": 2288112.7,
           "timepoint": 31.200000762939453,
           "trajectory": "S_sol",
           "upper": 2288114.6375
          },
          {
           "lower": 2288024.425,
           "timepoint": 31.30000114440918,
           "trajectory": "S_sol",
           "upper": 2288026.6375
          },
          {
           "lower": 2287935.65,
           "timepoint": 31.399999618530273,
           "trajectory": "S_sol",
           "upper": 2287938.25
          },
          {
           "lower": 2287846.125,
           "timepoint": 31.5,
           "trajectory": "S_sol",
           "upper": 2287849.3875
          },
          {
           "lower": 2287756.2125,
           "timepoint": 31.600000381469727,
           "trajectory": "S_sol",
           "upper": 2287760.3875
          },
          {
           "lower": 2287665.4375,
           "timepoint": 31.700000762939453,
           "trajectory": "S_sol",
           "upper": 2287670.525
          },
          {
           "lower": 2287574.1625,
           "timepoint": 31.80000114440918,
           "trajectory": "S_sol",
           "upper": 2287580.1625
          },
          {
           "lower": 2287482.0875,
           "timepoint": 31.899999618530273,
           "trajectory": "S_sol",
           "upper": 2287489.4125
          },
          {
           "lower": 2287394.6125,
           "timepoint": 32,
           "trajectory": "S_sol",
           "upper": 2287398.3
          },
          {
           "lower": 2287302.25,
           "timepoint": 32.10000228881836,
           "trajectory": "S_sol",
           "upper": 2287306.325
          },
          {
           "lower": 2287209.475,
           "timepoint": 32.20000076293945,
           "trajectory": "S_sol",
           "upper": 2287212.8
          },
          {
           "lower": 2287115.725,
           "timepoint": 32.29999923706055,
           "trajectory": "S_sol",
           "upper": 2287119.9125
          },
          {
           "lower": 2287021.7,
           "timepoint": 32.400001525878906,
           "trajectory": "S_sol",
           "upper": 2287025.075
          },
          {
           "lower": 2286926.925,
           "timepoint": 32.5,
           "trajectory": "S_sol",
           "upper": 2286929.75
          },
          {
           "lower": 2286831.425,
           "timepoint": 32.60000228881836,
           "trajectory": "S_sol",
           "upper": 2286834.75
          },
          {
           "lower": 2286735.65,
           "timepoint": 32.70000076293945,
           "trajectory": "S_sol",
           "upper": 2286739.25
          },
          {
           "lower": 2286639.2375,
           "timepoint": 32.79999923706055,
           "trajectory": "S_sol",
           "upper": 2286643.525
          },
          {
           "lower": 2286542.1,
           "timepoint": 32.900001525878906,
           "trajectory": "S_sol",
           "upper": 2286546.325
          },
          {
           "lower": 2286446.25,
           "timepoint": 33,
           "trajectory": "S_sol",
           "upper": 2286449.2375
          },
          {
           "lower": 2286347.975,
           "timepoint": 33.10000228881836,
           "trajectory": "S_sol",
           "upper": 2286349.6625
          },
          {
           "lower": 2286249.225,
           "timepoint": 33.20000076293945,
           "trajectory": "S_sol",
           "upper": 2286251.025
          },
          {
           "lower": 2286149.8375,
           "timepoint": 33.29999923706055,
           "trajectory": "S_sol",
           "upper": 2286151.775
          },
          {
           "lower": 2286049.5875,
           "timepoint": 33.400001525878906,
           "trajectory": "S_sol",
           "upper": 2286051.75
          },
          {
           "lower": 2285948.5875,
           "timepoint": 33.5,
           "trajectory": "S_sol",
           "upper": 2285951.3875
          },
          {
           "lower": 2285847.0625,
           "timepoint": 33.60000228881836,
           "trajectory": "S_sol",
           "upper": 2285850.775
          },
          {
           "lower": 2285745.0625,
           "timepoint": 33.70000076293945,
           "trajectory": "S_sol",
           "upper": 2285749.275
          },
          {
           "lower": 2285642.175,
           "timepoint": 33.79999923706055,
           "trajectory": "S_sol",
           "upper": 2285647.4125
          },
          {
           "lower": 2285539.8125,
           "timepoint": 33.900001525878906,
           "trajectory": "S_sol",
           "upper": 2285544.8
          },
          {
           "lower": 2285437.25,
           "timepoint": 34,
           "trajectory": "S_sol",
           "upper": 2285441.8
          },
          {
           "lower": 2285332.8625,
           "timepoint": 34.10000228881836,
           "trajectory": "S_sol",
           "upper": 2285336.125
          },
          {
           "lower": 2285227.3625,
           "timepoint": 34.20000076293945,
           "trajectory": "S_sol",
           "upper": 2285231.5375
          },
          {
           "lower": 2285121.225,
           "timepoint": 34.29999923706055,
           "trajectory": "S_sol",
           "upper": 2285126.3125
          },
          {
           "lower": 2285015.225,
           "timepoint": 34.400001525878906,
           "trajectory": "S_sol",
           "upper": 2285018.25
          },
          {
           "lower": 2284907.7,
           "timepoint": 34.5,
           "trajectory": "S_sol",
           "upper": 2284911.25
          },
          {
           "lower": 2284799.4,
           "timepoint": 34.60000228881836,
           "trajectory": "S_sol",
           "upper": 2284803.75
          },
          {
           "lower": 2284690.2375,
           "timepoint": 34.70000076293945,
           "trajectory": "S_sol",
           "upper": 2284695.6375
          },
          {
           "lower": 2284582.2,
           "timepoint": 34.79999923706055,
           "trajectory": "S_sol",
           "upper": 2284587.275
          },
          {
           "lower": 2284472.2,
           "timepoint": 34.900001525878906,
           "trajectory": "S_sol",
           "upper": 2284477.8875
          },
          {
           "lower": 2284361.2875,
           "timepoint": 35,
           "trajectory": "S_sol",
           "upper": 2284367.75
          },
          {
           "lower": 2284250.2125,
           "timepoint": 35.10000228881836,
           "trajectory": "S_sol",
           "upper": 2284257
          },
          {
           "lower": 2284140.9875,
           "timepoint": 35.20000076293945,
           "trajectory": "S_sol",
           "upper": 2284145.75
          },
          {
           "lower": 2284027.9625,
           "timepoint": 35.29999923706055,
           "trajectory": "S_sol",
           "upper": 2284033.75
          },
          {
           "lower": 2283914.4375,
           "timepoint": 35.400001525878906,
           "trajectory": "S_sol",
           "upper": 2283920.8875
          },
          {
           "lower": 2283802.8625,
           "timepoint": 35.5,
           "trajectory": "S_sol",
           "upper": 2283807.9125
          },
          {
           "lower": 2283688,
           "timepoint": 35.60000228881836,
           "trajectory": "S_sol",
           "upper": 2283694.025
          },
          {
           "lower": 2283572.6125,
           "timepoint": 35.70000076293945,
           "trajectory": "S_sol",
           "upper": 2283579.525
          },
          {
           "lower": 2283456.25,
           "timepoint": 35.79999923706055,
           "trajectory": "S_sol",
           "upper": 2283464.4125
          },
          {
           "lower": 2283341.3,
           "timepoint": 35.900001525878906,
           "trajectory": "S_sol",
           "upper": 2283348.55
          },
          {
           "lower": 2283223.9125,
           "timepoint": 36,
           "trajectory": "S_sol",
           "upper": 2283231.2875
          },
          {
           "lower": 2283108.5875,
           "timepoint": 36.10000228881836,
           "trajectory": "S_sol",
           "upper": 2283113.95
          },
          {
           "lower": 2282989.8375,
           "timepoint": 36.20000076293945,
           "trajectory": "S_sol",
           "upper": 2282995.975
          },
          {
           "lower": 2282870.5625,
           "timepoint": 36.29999923706055,
           "trajectory": "S_sol",
           "upper": 2282877.1625
          },
          {
           "lower": 2282750.2875,
           "timepoint": 36.400001525878906,
           "trajectory": "S_sol",
           "upper": 2282753.4625
          },
          {
           "lower": 2282629.15,
           "timepoint": 36.5,
           "trajectory": "S_sol",
           "upper": 2282632.7125
          },
          {
           "lower": 2282507.375,
           "timepoint": 36.60000228881836,
           "trajectory": "S_sol",
           "upper": 2282511.6
          },
          {
           "lower": 2282384.825,
           "timepoint": 36.70000076293945,
           "trajectory": "S_sol",
           "upper": 2282389.35
          },
          {
           "lower": 2282261.1875,
           "timepoint": 36.79999923706055,
           "trajectory": "S_sol",
           "upper": 2282265.775
          },
          {
           "lower": 2282136.75,
           "timepoint": 36.900001525878906,
           "trajectory": "S_sol",
           "upper": 2282142.025
          },
          {
           "lower": 2282011.5875,
           "timepoint": 37,
           "trajectory": "S_sol",
           "upper": 2282017.525
          },
          {
           "lower": 2281886.35,
           "timepoint": 37.10000228881836,
           "trajectory": "S_sol",
           "upper": 2281892.3875
          },
          {
           "lower": 2281759.6375,
           "timepoint": 37.20000076293945,
           "trajectory": "S_sol",
           "upper": 2281766.5
          },
          {
           "lower": 2281631.8125,
           "timepoint": 37.29999923706055,
           "trajectory": "S_sol",
           "upper": 2281640.025
          },
          {
           "lower": 2281510.3625,
           "timepoint": 37.400001525878906,
           "trajectory": "S_sol",
           "upper": 2281512.6625
          },
          {
           "lower": 2281382.1125,
           "timepoint": 37.5,
           "trajectory": "S_sol",
           "upper": 2281384.55
          },
          {
           "lower": 2281252.8625,
           "timepoint": 37.60000228881836,
           "trajectory": "S_sol",
           "upper": 2281255.9625
          },
          {
           "lower": 2281123.1125,
           "timepoint": 37.70000076293945,
           "trajectory": "S_sol",
           "upper": 2281126.4875
          },
          {
           "lower": 2280992.3625,
           "timepoint": 37.79999923706055,
           "trajectory": "S_sol",
           "upper": 2280996.15
          },
          {
           "lower": 2280860.5,
           "timepoint": 37.900001525878906,
           "trajectory": "S_sol",
           "upper": 2280865.2
          },
          {
           "lower": 2280728,
           "timepoint": 38,
           "trajectory": "S_sol",
           "upper": 2280730.525
          },
          {
           "lower": 2280594.5875,
           "timepoint": 38.10000228881836,
           "trajectory": "S_sol",
           "upper": 2280597.6625
          },
          {
           "lower": 2280460.3625,
           "timepoint": 38.20000076293945,
           "trajectory": "S_sol",
           "upper": 2280464.025
          },
          {
           "lower": 2280325.2,
           "timepoint": 38.29999923706055,
           "trajectory": "S_sol",
           "upper": 2280329.4125
          },
          {
           "lower": 2280188.925,
           "timepoint": 38.400001525878906,
           "trajectory": "S_sol",
           "upper": 2280194.1875
          },
          {
           "lower": 2280052.0375,
           "timepoint": 38.5,
           "trajectory": "S_sol",
           "upper": 2280058.075
          },
          {
           "lower": 2279914.375,
           "timepoint": 38.60000228881836,
           "trajectory": "S_sol",
           "upper": 2279921.1
          },
          {
           "lower": 2279775.375,
           "timepoint": 38.70000076293945,
           "trajectory": "S_sol",
           "upper": 2279782.6625
          },
          {
           "lower": 2279637.4625,
           "timepoint": 38.79999923706055,
           "trajectory": "S_sol",
           "upper": 2279643.9125
          },
          {
           "lower": 2279496.8875,
           "timepoint": 38.900001525878906,
           "trajectory": "S_sol",
           "upper": 2279504.275
          },
          {
           "lower": 2279361.725,
           "timepoint": 39,
           "trajectory": "S_sol",
           "upper": 2279363.8875
          },
          {
           "lower": 2279220.225,
           "timepoint": 39.10000228881836,
           "trajectory": "S_sol",
           "upper": 2279222.775
          },
          {
           "lower": 2279077.8625,
           "timepoint": 39.20000076293945,
           "trajectory": "S_sol",
           "upper": 2279080.6375
          },
          {
           "lower": 2278934.975,
           "timepoint": 39.29999923706055,
           "trajectory": "S_sol",
           "upper": 2278937.8875
          },
          {
           "lower": 2278790.5625,
           "timepoint": 39.400001525878906,
           "trajectory": "S_sol",
           "upper": 2278794.4125
          },
          {
           "lower": 2278645.5375,
           "timepoint": 39.5,
           "trajectory": "S_sol",
           "upper": 2278649.9375
          },
          {
           "lower": 2278499.375,
           "timepoint": 39.60000228881836,
           "trajectory": "S_sol",
           "upper": 2278504.825
          },
          {
           "lower": 2278352.2125,
           "timepoint": 39.70000076293945,
           "trajectory": "S_sol",
           "upper": 2278358.85
          },
          {
           "lower": 2278204.05,
           "timepoint": 39.79999923706055,
           "trajectory": "S_sol",
           "upper": 2278212.0125
          },
          {
           "lower": 2278057.6125,
           "timepoint": 39.900001525878906,
           "trajectory": "S_sol",
           "upper": 2278064.175
          },
          {
           "lower": 2277908.0875,
           "timepoint": 40,
           "trajectory": "S_sol",
           "upper": 2277913.1625
          },
          {
           "lower": 2277757.5875,
           "timepoint": 40.099998474121094,
           "trajectory": "S_sol",
           "upper": 2277763.1625
          },
          {
           "lower": 2277605.95,
           "timepoint": 40.20000076293945,
           "trajectory": "S_sol",
           "upper": 2277609.6375
          },
          {
           "lower": 2277453.5625,
           "timepoint": 40.29999923706055,
           "trajectory": "S_sol",
           "upper": 2277457.6375
          },
          {
           "lower": 2277300.0375,
           "timepoint": 40.39999771118164,
           "trajectory": "S_sol",
           "upper": 2277304.6375
          },
          {
           "lower": 2277145.5375,
           "timepoint": 40.5,
           "trajectory": "S_sol",
           "upper": 2277151
          },
          {
           "lower": 2276989.875,
           "timepoint": 40.599998474121094,
           "trajectory": "S_sol",
           "upper": 2276996.1375
          },
          {
           "lower": 2276833.1,
           "timepoint": 40.70000076293945,
           "trajectory": "S_sol",
           "upper": 2276840.775
          },
          {
           "lower": 2276679.6375,
           "timepoint": 40.79999923706055,
           "trajectory": "S_sol",
           "upper": 2276684.275
          },
          {
           "lower": 2276524.8625,
           "timepoint": 40.89999771118164,
           "trajectory": "S_sol",
           "upper": 2276526.6375
          },
          {
           "lower": 2276366.475,
           "timepoint": 41,
           "trajectory": "S_sol",
           "upper": 2276368.3875
          },
          {
           "lower": 2276206.8375,
           "timepoint": 41.099998474121094,
           "trajectory": "S_sol",
           "upper": 2276208.8875
          },
          {
           "lower": 2276046.225,
           "timepoint": 41.20000076293945,
           "trajectory": "S_sol",
           "upper": 2276048.6625
          },
          {
           "lower": 2275884.5,
           "timepoint": 41.29999923706055,
           "trajectory": "S_sol",
           "upper": 2275887.8
          },
          {
           "lower": 2275722.25,
           "timepoint": 41.39999771118164,
           "trajectory": "S_sol",
           "upper": 2275725.9125
          },
          {
           "lower": 2275558.8625,
           "timepoint": 41.5,
           "trajectory": "S_sol",
           "upper": 2275563.075
          },
          {
           "lower": 2275394.225,
           "timepoint": 41.599998474121094,
           "trajectory": "S_sol",
           "upper": 2275399.325
          },
          {
           "lower": 2275228.8625,
           "timepoint": 41.70000076293945,
           "trajectory": "S_sol",
           "upper": 2275233.6375
          },
          {
           "lower": 2275062.3375,
           "timepoint": 41.79999923706055,
           "trajectory": "S_sol",
           "upper": 2275067.1875
          },
          {
           "lower": 2274895.3625,
           "timepoint": 41.89999771118164,
           "trajectory": "S_sol",
           "upper": 2274900.4375
          },
          {
           "lower": 2274727,
           "timepoint": 42,
           "trajectory": "S_sol",
           "upper": 2274731.1375
          },
          {
           "lower": 2274557.25,
           "timepoint": 42.099998474121094,
           "trajectory": "S_sol",
           "upper": 2274562.325
          },
          {
           "lower": 2274386.725,
           "timepoint": 42.20000076293945,
           "trajectory": "S_sol",
           "upper": 2274388.5
          },
          {
           "lower": 2274214.5875,
           "timepoint": 42.29999923706055,
           "trajectory": "S_sol",
           "upper": 2274217
          },
          {
           "lower": 2274041.425,
           "timepoint": 42.39999771118164,
           "trajectory": "S_sol",
           "upper": 2274044.3875
          },
          {
           "lower": 2273867.5125,
           "timepoint": 42.5,
           "trajectory": "S_sol",
           "upper": 2273871.025
          },
          {
           "lower": 2273693.975,
           "timepoint": 42.599998474121094,
           "trajectory": "S_sol",
           "upper": 2273696.8875
          },
          {
           "lower": 2273518,
           "timepoint": 42.70000076293945,
           "trajectory": "S_sol",
           "upper": 2273521.3875
          },
          {
           "lower": 2273341.675,
           "timepoint": 42.79999923706055,
           "trajectory": "S_sol",
           "upper": 2273344.8875
          },
          {
           "lower": 2273163.5375,
           "timepoint": 42.89999771118164,
           "trajectory": "S_sol",
           "upper": 2273167.3875
          },
          {
           "lower": 2272984.0375,
           "timepoint": 43,
           "trajectory": "S_sol",
           "upper": 2272988.775
          },
          {
           "lower": 2272803.5125,
           "timepoint": 43.099998474121094,
           "trajectory": "S_sol",
           "upper": 2272809.05
          },
          {
           "lower": 2272624.0375,
           "timepoint": 43.20000076293945,
           "trajectory": "S_sol",
           "upper": 2272628.575
          },
          {
           "lower": 2272441.5125,
           "timepoint": 43.29999923706055,
           "trajectory": "S_sol",
           "upper": 2272446.85
          },
          {
           "lower": 2272257.875,
           "timepoint": 43.39999771118164,
           "trajectory": "S_sol",
           "upper": 2272263.875
          },
          {
           "lower": 2272073.2125,
           "timepoint": 43.5,
           "trajectory": "S_sol",
           "upper": 2272080.5375
          },
          {
           "lower": 2271889.225,
           "timepoint": 43.599998474121094,
           "trajectory": "S_sol",
           "upper": 2271892.825
          },
          {
           "lower": 2271702.5875,
           "timepoint": 43.70000076293945,
           "trajectory": "S_sol",
           "upper": 2271706.4625
          },
          {
           "lower": 2271515.5625,
           "timepoint": 43.79999923706055,
           "trajectory": "S_sol",
           "upper": 2271519.075
          },
          {
           "lower": 2271326.5375,
           "timepoint": 43.89999771118164,
           "trajectory": "S_sol",
           "upper": 2271330.575
          },
          {
           "lower": 2271136.15,
           "timepoint": 44,
           "trajectory": "S_sol",
           "upper": 2271140.9625
          },
          {
           "lower": 2270944.875,
           "timepoint": 44.099998474121094,
           "trajectory": "S_sol",
           "upper": 2270950.325
          },
          {
           "lower": 2270752.4625,
           "timepoint": 44.20000076293945,
           "trajectory": "S_sol",
           "upper": 2270758.575
          },
          {
           "lower": 2270558.55,
           "timepoint": 44.29999923706055,
           "trajectory": "S_sol",
           "upper": 2270565.4375
          },
          {
           "lower": 2270363.5,
           "timepoint": 44.39999771118164,
           "trajectory": "S_sol",
           "upper": 2270371.1875
          },
          {
           "lower": 2270167.3375,
           "timepoint": 44.5,
           "trajectory": "S_sol",
           "upper": 2270174.4875
          },
          {
           "lower": 2269969.7625,
           "timepoint": 44.599998474121094,
           "trajectory": "S_sol",
           "upper": 2269976.325
          },
          {
           "lower": 2269775.725,
           "timepoint": 44.70000076293945,
           "trajectory": "S_sol",
           "upper": 2269778.7375
          },
          {
           "lower": 2269576.475,
           "timepoint": 44.79999923706055,
           "trajectory": "S_sol",
           "upper": 2269580.0375
          },
          {
           "lower": 2269375.725,
           "timepoint": 44.89999771118164,
           "trajectory": "S_sol",
           "upper": 2269380.3375
          },
          {
           "lower": 2269173.8625,
           "timepoint": 45,
           "trajectory": "S_sol",
           "upper": 2269179.3875
          },
          {
           "lower": 2268970.8625,
           "timepoint": 45.099998474121094,
           "trajectory": "S_sol",
           "upper": 2268977.4625
          },
          {
           "lower": 2268766.3625,
           "timepoint": 45.20000076293945,
           "trajectory": "S_sol",
           "upper": 2268774.2875
          },
          {
           "lower": 2268560.8625,
           "timepoint": 45.29999923706055,
           "trajectory": "S_sol",
           "upper": 2268570
          },
          {
           "lower": 2268353.975,
           "timepoint": 45.39999771118164,
           "trajectory": "S_sol",
           "upper": 2268358.025
          },
          {
           "lower": 2268146.625,
           "timepoint": 45.5,
           "trajectory": "S_sol",
           "upper": 2268150.3875
          },
          {
           "lower": 2267937.375,
           "timepoint": 45.599998474121094,
           "trajectory": "S_sol",
           "upper": 2267941.75
          },
          {
           "lower": 2267728.3625,
           "timepoint": 45.70000076293945,
           "trajectory": "S_sol",
           "upper": 2267731.775
          },
          {
           "lower": 2267516.3625,
           "timepoint": 45.79999923706055,
           "trajectory": "S_sol",
           "upper": 2267519.575
          },
          {
           "lower": 2267303.45,
           "timepoint": 45.89999771118164,
           "trajectory": "S_sol",
           "upper": 2267306.8
          },
          {
           "lower": 2267089.0875,
           "timepoint": 46,
           "trajectory": "S_sol",
           "upper": 2267092.8
          },
          {
           "lower": 2266873.175,
           "timepoint": 46.099998474121094,
           "trajectory": "S_sol",
           "upper": 2266877.8
          },
          {
           "lower": 2266655.7875,
           "timepoint": 46.20000076293945,
           "trajectory": "S_sol",
           "upper": 2266660.6625
          },
          {
           "lower": 2266437.15,
           "timepoint": 46.29999923706055,
           "trajectory": "S_sol",
           "upper": 2266442.8
          },
          {
           "lower": 2266216.7375,
           "timepoint": 46.39999771118164,
           "trajectory": "S_sol",
           "upper": 2266223.9375
          },
          {
           "lower": 2265997.9875,
           "timepoint": 46.5,
           "trajectory": "S_sol",
           "upper": 2266003.575
          },
          {
           "lower": 2265775.575,
           "timepoint": 46.599998474121094,
           "trajectory": "S_sol",
           "upper": 2265782.1
          },
          {
           "lower": 2265551.575,
           "timepoint": 46.70000076293945,
           "trajectory": "S_sol",
           "upper": 2265559.5125
          },
          {
           "lower": 2265329.2625,
           "timepoint": 46.79999923706055,
           "trajectory": "S_sol",
           "upper": 2265335.15
          },
          {
           "lower": 2265102.7375,
           "timepoint": 46.89999771118164,
           "trajectory": "S_sol",
           "upper": 2265109.95
          },
          {
           "lower": 2264874.9375,
           "timepoint": 47,
           "trajectory": "S_sol",
           "upper": 2264883.225
          },
          {
           "lower": 2264645.6625,
           "timepoint": 47.099998474121094,
           "trajectory": "S_sol",
           "upper": 2264655.075
          },
          {
           "lower": 2264419.75,
           "timepoint": 47.20000076293945,
           "trajectory": "S_sol",
           "upper": 2264421.525
          },
          {
           "lower": 2264188.3625,
           "timepoint": 47.29999923706055,
           "trajectory": "S_sol",
           "upper": 2264190.275
          },
          {
           "lower": 2263955.6125,
           "timepoint": 47.39999771118164,
           "trajectory": "S_sol",
           "upper": 2263957.6625
          },
          {
           "lower": 2263721.475,
           "timepoint": 47.5,
           "trajectory": "S_sol",
           "upper": 2263723.3875
          },
          {
           "lower": 2263485.6125,
           "timepoint": 47.599998474121094,
           "trajectory": "S_sol",
           "upper": 2263487.8875
          },
          {
           "lower": 2263248.8375,
           "timepoint": 47.70000076293945,
           "trajectory": "S_sol",
           "upper": 2263251
          },
          {
           "lower": 2263010.2,
           "timepoint": 47.79999923706055,
           "trajectory": "S_sol",
           "upper": 2263012.8875
          },
          {
           "lower": 2262770.3375,
           "timepoint": 47.89999771118164,
           "trajectory": "S_sol",
           "upper": 2262773
          },
          {
           "lower": 2262529.625,
           "timepoint": 48,
           "trajectory": "S_sol",
           "upper": 2262532.3875
          },
          {
           "lower": 2262286.7375,
           "timepoint": 48.099998474121094,
           "trajectory": "S_sol",
           "upper": 2262289.8875
          },
          {
           "lower": 2262042.4625,
           "timepoint": 48.19999694824219,
           "trajectory": "S_sol",
           "upper": 2262045.9125
          },
          {
           "lower": 2261796.6875,
           "timepoint": 48.29999923706055,
           "trajectory": "S_sol",
           "upper": 2261800.525
          },
          {
           "lower": 2261549.525,
           "timepoint": 48.400001525878906,
           "trajectory": "S_sol",
           "upper": 2261553.6625
          },
          {
           "lower": 2261303.6125,
           "timepoint": 48.5,
           "trajectory": "S_sol",
           "upper": 2261305.4125
          },
          {
           "lower": 2261053.8625,
           "timepoint": 48.599998474121094,
           "trajectory": "S_sol",
           "upper": 2261055.8
          },
          {
           "lower": 2260802.3375,
           "timepoint": 48.69999694824219,
           "trajectory": "S_sol",
           "upper": 2260804.8
          },
          {
           "lower": 2260549.725,
           "timepoint": 48.79999923706055,
           "trajectory": "S_sol",
           "upper": 2260552.1625
          },
          {
           "lower": 2260295.0875,
           "timepoint": 48.900001525878906,
           "trajectory": "S_sol",
           "upper": 2260298.525
          },
          {
           "lower": 2260039.6125,
           "timepoint": 49,
           "trajectory": "S_sol",
           "upper": 2260043.1625
          },
          {
           "lower": 2259782.0875,
           "timepoint": 49.099998474121094,
           "trajectory": "S_sol",
           "upper": 2259786.1375
          },
          {
           "lower": 2259523.2,
           "timepoint": 49.19999694824219,
           "trajectory": "S_sol",
           "upper": 2259526.625
          },
          {
           "lower": 2259262.5625,
           "timepoint": 49.29999923706055,
           "trajectory": "S_sol",
           "upper": 2259266.7875
          },
          {
           "lower": 2259000.0375,
           "timepoint": 49.400001525878906,
           "trajectory": "S_sol",
           "upper": 2259005.0625
          },
          {
           "lower": 2258736.375,
           "timepoint": 49.5,
           "trajectory": "S_sol",
           "upper": 2258742.225
          },
          {
           "lower": 2258470.85,
           "timepoint": 49.599998474121094,
           "trajectory": "S_sol",
           "upper": 2258477.8875
          },
          {
           "lower": 2258203.575,
           "timepoint": 49.69999694824219,
           "trajectory": "S_sol",
           "upper": 2258208.25
          },
          {
           "lower": 2257934.6625,
           "timepoint": 49.79999923706055,
           "trajectory": "S_sol",
           "upper": 2257940.25
          },
          {
           "lower": 2257667.7875,
           "timepoint": 49.900001525878906,
           "trajectory": "S_sol",
           "upper": 2257670.6375
          },
          {
           "lower": 2257396.125,
           "timepoint": 50,
           "trajectory": "S_sol",
           "upper": 2257399.5
          },
          {
           "lower": 2257122.9625,
           "timepoint": 50.099998474121094,
           "trajectory": "S_sol",
           "upper": 2257127.1625
          },
          {
           "lower": 2256847.9375,
           "timepoint": 50.19999694824219,
           "trajectory": "S_sol",
           "upper": 2256852.025
          },
          {
           "lower": 2256571.3,
           "timepoint": 50.29999923706055,
           "trajectory": "S_sol",
           "upper": 2256576.05
          },
          {
           "lower": 2256292.8625,
           "timepoint": 50.400001525878906,
           "trajectory": "S_sol",
           "upper": 2256298.55
          },
          {
           "lower": 2256012.7875,
           "timepoint": 50.5,
           "trajectory": "S_sol",
           "upper": 2256019.1875
          },
          {
           "lower": 2255730.9875,
           "timepoint": 50.599998474121094,
           "trajectory": "S_sol",
           "upper": 2255738.4375
          },
          {
           "lower": 2255447.575,
           "timepoint": 50.69999694824219,
           "trajectory": "S_sol",
           "upper": 2255454.4125
          },
          {
           "lower": 2255167.975,
           "timepoint": 50.79999923706055,
           "trajectory": "S_sol",
           "upper": 2255170.325
          },
          {
           "lower": 2254881.975,
           "timepoint": 50.900001525878906,
           "trajectory": "S_sol",
           "upper": 2254884.325
          },
          {
           "lower": 2254594.0875,
           "timepoint": 51,
           "trajectory": "S_sol",
           "upper": 2254596.9875
          },
          {
           "lower": 2254304.5,
           "timepoint": 51.099998474121094,
           "trajectory": "S_sol",
           "upper": 2254307.625
          },
          {
           "lower": 2254013.1125,
           "timepoint": 51.19999694824219,
           "trajectory": "S_sol",
           "upper": 2254016.7625
          },
          {
           "lower": 2253719.8625,
           "timepoint": 51.29999923706055,
           "trajectory": "S_sol",
           "upper": 2253724.5375
          },
          {
           "lower": 2253424.8375,
           "timepoint": 51.400001525878906,
           "trajectory": "S_sol",
           "upper": 2253428.1375
          },
          {
           "lower": 2253129.0875,
           "timepoint": 51.5,
           "trajectory": "S_sol",
           "upper": 2253132.025
          },
          {
           "lower": 2252830.925,
           "timepoint": 51.599998474121094,
           "trajectory": "S_sol",
           "upper": 2252834.4125
          },
          {
           "lower": 2252530.925,
           "timepoint": 51.69999694824219,
           "trajectory": "S_sol",
           "upper": 2252535.05
          },
          {
           "lower": 2252229.0625,
           "timepoint": 51.79999923706055,
           "trajectory": "S_sol",
           "upper": 2252233.6875
          },
          {
           "lower": 2251926.6125,
           "timepoint": 51.900001525878906,
           "trajectory": "S_sol",
           "upper": 2251930.825
          },
          {
           "lower": 2251621.25,
           "timepoint": 52,
           "trajectory": "S_sol",
           "upper": 2251626.2125
          },
          {
           "lower": 2251314,
           "timepoint": 52.099998474121094,
           "trajectory": "S_sol",
           "upper": 2251319.6
          },
          {
           "lower": 2251004.6125,
           "timepoint": 52.19999694824219,
           "trajectory": "S_sol",
           "upper": 2251011.375
          },
          {
           "lower": 2250693.5875,
           "timepoint": 52.29999923706055,
           "trajectory": "S_sol",
           "upper": 2250698.7375
          },
          {
           "lower": 2250381.125,
           "timepoint": 52.400001525878906,
           "trajectory": "S_sol",
           "upper": 2250386.7625
          },
          {
           "lower": 2250068.3625,
           "timepoint": 52.5,
           "trajectory": "S_sol",
           "upper": 2250071
          },
          {
           "lower": 2249752.675,
           "timepoint": 52.599998474121094,
           "trajectory": "S_sol",
           "upper": 2249754.8875
          },
          {
           "lower": 2249434.65,
           "timepoint": 52.69999694824219,
           "trajectory": "S_sol",
           "upper": 2249437.3875
          },
          {
           "lower": 2249114.375,
           "timepoint": 52.79999923706055,
           "trajectory": "S_sol",
           "upper": 2249117.6625
          },
          {
           "lower": 2248792.4625,
           "timepoint": 52.900001525878906,
           "trajectory": "S_sol",
           "upper": 2248796.4125
          },
          {
           "lower": 2248468.9375,
           "timepoint": 53,
           "trajectory": "S_sol",
           "upper": 2248473.1875
          },
          {
           "lower": 2248142.775,
           "timepoint": 53.099998474121094,
           "trajectory": "S_sol",
           "upper": 2248148.3
          },
          {
           "lower": 2247818.1125,
           "timepoint": 53.19999694824219,
           "trajectory": "S_sol",
           "upper": 2247821.4125
          },
          {
           "lower": 2247488.725,
           "timepoint": 53.29999923706055,
           "trajectory": "S_sol",
           "upper": 2247492
          },
          {
           "lower": 2247157.475,
           "timepoint": 53.400001525878906,
           "trajectory": "S_sol",
           "upper": 2247161.9125
          },
          {
           "lower": 2246824.2,
           "timepoint": 53.5,
           "trajectory": "S_sol",
           "upper": 2246829.4375
          },
          {
           "lower": 2246488.8125,
           "timepoint": 53.599998474121094,
           "trajectory": "S_sol",
           "upper": 2246494.05
          },
          {
           "lower": 2246151.425,
           "timepoint": 53.69999694824219,
           "trajectory": "S_sol",
           "upper": 2246157.9375
          },
          {
           "lower": 2245812.15,
           "timepoint": 53.79999923706055,
           "trajectory": "S_sol",
           "upper": 2245819.8
          },
          {
           "lower": 2245470.6,
           "timepoint": 53.900001525878906,
           "trajectory": "S_sol",
           "upper": 2245478.3875
          },
          {
           "lower": 2245130.8625,
           "timepoint": 54,
           "trajectory": "S_sol",
           "upper": 2245132.8875
          },
          {
           "lower": 2244785.8625,
           "timepoint": 54.099998474121094,
           "trajectory": "S_sol",
           "upper": 2244788.275
          },
          {
           "lower": 2244438.8625,
           "timepoint": 54.19999694824219,
           "trajectory": "S_sol",
           "upper": 2244441.1875
          },
          {
           "lower": 2244089.8375,
           "timepoint": 54.29999923706055,
           "trajectory": "S_sol",
           "upper": 2244091.6375
          },
          {
           "lower": 2243738.5875,
           "timepoint": 54.400001525878906,
           "trajectory": "S_sol",
           "upper": 2243740.75
          },
          {
           "lower": 2243385.45,
           "timepoint": 54.5,
           "trajectory": "S_sol",
           "upper": 2243388
          },
          {
           "lower": 2243029.8125,
           "timepoint": 54.599998474121094,
           "trajectory": "S_sol",
           "upper": 2243033.1375
          },
          {
           "lower": 2242672.65,
           "timepoint": 54.69999694824219,
           "trajectory": "S_sol",
           "upper": 2242676.5
          },
          {
           "lower": 2242313.6625,
           "timepoint": 54.79999923706055,
           "trajectory": "S_sol",
           "upper": 2242317.6375
          },
          {
           "lower": 2241952.1125,
           "timepoint": 54.900001525878906,
           "trajectory": "S_sol",
           "upper": 2241956.75
          },
          {
           "lower": 2241588.2,
           "timepoint": 55,
           "trajectory": "S_sol",
           "upper": 2241594.1375
          },
          {
           "lower": 2241226.1125,
           "timepoint": 55.099998474121094,
           "trajectory": "S_sol",
           "upper": 2241229.525
          },
          {
           "lower": 2240858.6125,
           "timepoint": 55.19999694824219,
           "trajectory": "S_sol",
           "upper": 2240862.6625
          },
          {
           "lower": 2240488.725,
           "timepoint": 55.29999923706055,
           "trajectory": "S_sol",
           "upper": 2240493.825
          },
          {
           "lower": 2240116.8625,
           "timepoint": 55.400001525878906,
           "trajectory": "S_sol",
           "upper": 2240122.625
          },
          {
           "lower": 2239742.8125,
           "timepoint": 55.5,
           "trajectory": "S_sol",
           "upper": 2239749.65
          },
          {
           "lower": 2239367.75,
           "timepoint": 55.599998474121094,
           "trajectory": "S_sol",
           "upper": 2239372.275
          },
          {
           "lower": 2238989.6125,
           "timepoint": 55.69999694824219,
           "trajectory": "S_sol",
           "upper": 2238994.8
          },
          {
           "lower": 2238609.3625,
           "timepoint": 55.79999923706055,
           "trajectory": "S_sol",
           "upper": 2238614.3375
          },
          {
           "lower": 2238227,
           "timepoint": 55.900001525878906,
           "trajectory": "S_sol",
           "upper": 2238232.525
          },
          {
           "lower": 2237842.1125,
           "timepoint": 56,
           "trajectory": "S_sol",
           "upper": 2237844.35
          },
          {
           "lower": 2237455.25,
           "timepoint": 56.099998474121094,
           "trajectory": "S_sol",
           "upper": 2237457.4875
          },
          {
           "lower": 2237066,
           "timepoint": 56.19999694824219,
           "trajectory": "S_sol",
           "upper": 2237067.525
          },
          {
           "lower": 2236674.5,
           "timepoint": 56.29999923706055,
           "trajectory": "S_sol",
           "upper": 2236676.275
          },
          {
           "lower": 2236280.6125,
           "timepoint": 56.400001525878906,
           "trajectory": "S_sol",
           "upper": 2236282.75
          },
          {
           "lower": 2235884.725,
           "timepoint": 56.5,
           "trajectory": "S_sol",
           "upper": 2235887.525
          },
          {
           "lower": 2235486.3375,
           "timepoint": 56.599998474121094,
           "trajectory": "S_sol",
           "upper": 2235489.9125
          },
          {
           "lower": 2235085.5625,
           "timepoint": 56.69999694824219,
           "trajectory": "S_sol",
           "upper": 2235089.825
          },
          {
           "lower": 2234682.2875,
           "timepoint": 56.79999923706055,
           "trajectory": "S_sol",
           "upper": 2234687.85
          },
          {
           "lower": 2234276.65,
           "timepoint": 56.900001525878906,
           "trajectory": "S_sol",
           "upper": 2234281.9125
          },
          {
           "lower": 2233868.7375,
           "timepoint": 57,
           "trajectory": "S_sol",
           "upper": 2233874.9125
          },
          {
           "lower": 2233458.075,
           "timepoint": 57.099998474121094,
           "trajectory": "S_sol",
           "upper": 2233465.8875
          },
          {
           "lower": 2233048.3125,
           "timepoint": 57.19999694824219,
           "trajectory": "S_sol",
           "upper": 2233053.625
          },
          {
           "lower": 2232633.45,
           "timepoint": 57.29999923706055,
           "trajectory": "S_sol",
           "upper": 2232637.375
          },
          {
           "lower": 2232216.925,
           "timepoint": 57.400001525878906,
           "trajectory": "S_sol",
           "upper": 2232221.15
          },
          {
           "lower": 2231797.2375,
           "timepoint": 57.5,
           "trajectory": "S_sol",
           "upper": 2231800
          },
          {
           "lower": 2231375.1875,
           "timepoint": 57.599998474121094,
           "trajectory": "S_sol",
           "upper": 2231378.775
          },
          {
           "lower": 2230950.3625,
           "timepoint": 57.69999694824219,
           "trajectory": "S_sol",
           "upper": 2230955.025
          },
          {
           "lower": 2230527.0875,
           "timepoint": 57.79999923706055,
           "trajectory": "S_sol",
           "upper": 2230529.025
          },
          {
           "lower": 2230097.975,
           "timepoint": 57.900001525878906,
           "trajectory": "S_sol",
           "upper": 2230100.6875
          },
          {
           "lower": 2229666.225,
           "timepoint": 58,
           "trajectory": "S_sol",
           "upper": 2229669.9625
          },
          {
           "lower": 2229232.225,
           "timepoint": 58.099998474121094,
           "trajectory": "S_sol",
           "upper": 2229235.25
          },
          {
           "lower": 2228795.5,
           "timepoint": 58.19999694824219,
           "trajectory": "S_sol",
           "upper": 2228799.275
          },
          {
           "lower": 2228356.1125,
           "timepoint": 58.29999923706055,
           "trajectory": "S_sol",
           "upper": 2228361.3
          },
          {
           "lower": 2227914.225,
           "timepoint": 58.400001525878906,
           "trajectory": "S_sol",
           "upper": 2227919.6375
          },
          {
           "lower": 2227469.6125,
           "timepoint": 58.5,
           "trajectory": "S_sol",
           "upper": 2227476.6625
          },
          {
           "lower": 2227022.0875,
           "timepoint": 58.599998474121094,
           "trajectory": "S_sol",
           "upper": 2227030.75
          },
          {
           "lower": 2226572.3125,
           "timepoint": 58.69999694824219,
           "trajectory": "S_sol",
           "upper": 2226582.6625
          },
          {
           "lower": 2226124.4,
           "timepoint": 58.79999923706055,
           "trajectory": "S_sol",
           "upper": 2226132.3
          },
          {
           "lower": 2225672.125,
           "timepoint": 58.900001525878906,
           "trajectory": "S_sol",
           "upper": 2225679.4375
          },
          {
           "lower": 2225215.1,
           "timepoint": 59,
           "trajectory": "S_sol",
           "upper": 2225221.1125
          },
          {
           "lower": 2224757.975,
           "timepoint": 59.099998474121094,
           "trajectory": "S_sol",
           "upper": 2224762.9125
          },
          {
           "lower": 2224296.3625,
           "timepoint": 59.19999694824219,
           "trajectory": "S_sol",
           "upper": 2224302.2125
          },
          {
           "lower": 2223832.1125,
           "timepoint": 59.29999923706055,
           "trajectory": "S_sol",
           "upper": 2223834.525
          },
          {
           "lower": 2223365.1125,
           "timepoint": 59.400001525878906,
           "trajectory": "S_sol",
           "upper": 2223367.9125
          },
          {
           "lower": 2222895.3625,
           "timepoint": 59.5,
           "trajectory": "S_sol",
           "upper": 2222897.9125
          },
          {
           "lower": 2222423.25,
           "timepoint": 59.599998474121094,
           "trajectory": "S_sol",
           "upper": 2222425.8875
          },
          {
           "lower": 2221948.45,
           "timepoint": 59.69999694824219,
           "trajectory": "S_sol",
           "upper": 2221951.275
          },
          {
           "lower": 2221470.8125,
           "timepoint": 59.79999923706055,
           "trajectory": "S_sol",
           "upper": 2221474.275
          },
          {
           "lower": 2220991.1125,
           "timepoint": 59.900001525878906,
           "trajectory": "S_sol",
           "upper": 2220994.4375
          },
          {
           "lower": 2220508,
           "timepoint": 60,
           "trajectory": "S_sol",
           "upper": 2220512.2125
          },
          {
           "lower": 2220022,
           "timepoint": 60.099998474121094,
           "trajectory": "S_sol",
           "upper": 2220026.875
          },
          {
           "lower": 2219533.1125,
           "timepoint": 60.19999694824219,
           "trajectory": "S_sol",
           "upper": 2219539.5625
          },
          {
           "lower": 2219041.3625,
           "timepoint": 60.29999923706055,
           "trajectory": "S_sol",
           "upper": 2219049.1125
          },
          {
           "lower": 2218548.55,
           "timepoint": 60.400001525878906,
           "trajectory": "S_sol",
           "upper": 2218552.75
          },
          {
           "lower": 2218054.0875,
           "timepoint": 60.5,
           "trajectory": "S_sol",
           "upper": 2218056.3875
          },
          {
           "lower": 2217554.7,
           "timepoint": 60.599998474121094,
           "trajectory": "S_sol",
           "upper": 2217556.6625
          },
          {
           "lower": 2217052.3125,
           "timepoint": 60.69999694824219,
           "trajectory": "S_sol",
           "upper": 2217054.775
          },
          {
           "lower": 2216547.0125,
           "timepoint": 60.79999923706055,
           "trajectory": "S_sol",
           "upper": 2216550.05
          },
          {
           "lower": 2216038.85,
           "timepoint": 60.900001525878906,
           "trajectory": "S_sol",
           "upper": 2216042
          },
          {
           "lower": 2215527.6875,
           "timepoint": 61,
           "trajectory": "S_sol",
           "upper": 2215531.6375
          },
          {
           "lower": 2215013.8875,
           "timepoint": 61.099998474121094,
           "trajectory": "S_sol",
           "upper": 2215018.6625
          },
          {
           "lower": 2214500.1125,
           "timepoint": 61.19999694824219,
           "trajectory": "S_sol",
           "upper": 2214502.575
          },
          {
           "lower": 2213980.8625,
           "timepoint": 61.29999923706055,
           "trajectory": "S_sol",
           "upper": 2213983.85
          },
          {
           "lower": 2213458.475,
           "timepoint": 61.400001525878906,
           "trajectory": "S_sol",
           "upper": 2213462.2625
          },
          {
           "lower": 2212933.1125,
           "timepoint": 61.5,
           "trajectory": "S_sol",
           "upper": 2212937.95
          },
          {
           "lower": 2212405.1125,
           "timepoint": 61.599998474121094,
           "trajectory": "S_sol",
           "upper": 2212410.75
          },
          {
           "lower": 2211873.75,
           "timepoint": 61.69999694824219,
           "trajectory": "S_sol",
           "upper": 2211880.825
          },
          {
           "lower": 2211339.6125,
           "timepoint": 61.79999923706055,
           "trajectory": "S_sol",
           "upper": 2211343.6375
          },
          {
           "lower": 2210802.1125,
           "timepoint": 61.900001525878906,
           "trajectory": "S_sol",
           "upper": 2210807.025
          },
          {
           "lower": 2210265.25,
           "timepoint": 62,
           "trajectory": "S_sol",
           "upper": 2210267.75
          },
          {
           "lower": 2209722.0875,
           "timepoint": 62.099998474121094,
           "trajectory": "S_sol",
           "upper": 2209724.6625
          },
          {
           "lower": 2209177.225,
           "timepoint": 62.19999694824219,
           "trajectory": "S_sol",
           "upper": 2209179.7125
          },
          {
           "lower": 2208628.3375,
           "timepoint": 62.29999923706055,
           "trajectory": "S_sol",
           "upper": 2208631.2375
          },
          {
           "lower": 2208076.3375,
           "timepoint": 62.400001525878906,
           "trajectory": "S_sol",
           "upper": 2208080.125
          },
          {
           "lower": 2207521.8375,
           "timepoint": 62.5,
           "trajectory": "S_sol",
           "upper": 2207525.925
          },
          {
           "lower": 2206964.3625,
           "timepoint": 62.599998474121094,
           "trajectory": "S_sol",
           "upper": 2206969.175
          },
          {
           "lower": 2206403.1125,
           "timepoint": 62.69999694824219,
           "trajectory": "S_sol",
           "upper": 2206406.6625
          },
          {
           "lower": 2205838.5,
           "timepoint": 62.79999923706055,
           "trajectory": "S_sol",
           "upper": 2205843.55
          },
          {
           "lower": 2205270.75,
           "timepoint": 62.900001525878906,
           "trajectory": "S_sol",
           "upper": 2205277.4625
          },
          {
           "lower": 2204699.8625,
           "timepoint": 63,
           "trajectory": "S_sol",
           "upper": 2204705.8125
          },
          {
           "lower": 2204125.3625,
           "timepoint": 63.099998474121094,
           "trajectory": "S_sol",
           "upper": 2204133.0875
          },
          {
           "lower": 2203547.5875,
           "timepoint": 63.19999694824219,
           "trajectory": "S_sol",
           "upper": 2203557.4125
          },
          {
           "lower": 2202969.25,
           "timepoint": 63.29999923706055,
           "trajectory": "S_sol",
           "upper": 2202978.6
          },
          {
           "lower": 2202385.3125,
           "timepoint": 63.400001525878906,
           "trajectory": "S_sol",
           "upper": 2202392.025
          },
          {
           "lower": 2201803.3625,
           "timepoint": 63.5,
           "trajectory": "S_sol",
           "upper": 2201805.775
          },
          {
           "lower": 2201214.2,
           "timepoint": 63.599998474121094,
           "trajectory": "S_sol",
           "upper": 2201216.6875
          },
          {
           "lower": 2200621.675,
           "timepoint": 63.69999694824219,
           "trajectory": "S_sol",
           "upper": 2200624.325
          },
          {
           "lower": 2200025.5375,
           "timepoint": 63.79999923706055,
           "trajectory": "S_sol",
           "upper": 2200028.825
          },
          {
           "lower": 2199426.2625,
           "timepoint": 63.900001525878906,
           "trajectory": "S_sol",
           "upper": 2199430.075
          },
          {
           "lower": 2198823.4625,
           "timepoint": 64,
           "trajectory": "S_sol",
           "upper": 2198827.025
          },
          {
           "lower": 2198217.6625,
           "timepoint": 64.0999984741211,
           "trajectory": "S_sol",
           "upper": 2198221.8
          },
          {
           "lower": 2197608.1375,
           "timepoint": 64.19999694824219,
           "trajectory": "S_sol",
           "upper": 2197612.5
          },
          {
           "lower": 2196995.225,
           "timepoint": 64.30000305175781,
           "trajectory": "S_sol",
           "upper": 2197000.525
          },
          {
           "lower": 2196379.0375,
           "timepoint": 64.4000015258789,
           "trajectory": "S_sol",
           "upper": 2196385.1625
          },
          {
           "lower": 2195763.6125,
           "timepoint": 64.5,
           "trajectory": "S_sol",
           "upper": 2195767.075
          },
          {
           "lower": 2195140.975,
           "timepoint": 64.5999984741211,
           "trajectory": "S_sol",
           "upper": 2195145.4875
          },
          {
           "lower": 2194514.8375,
           "timepoint": 64.69999694824219,
           "trajectory": "S_sol",
           "upper": 2194520.7625
          },
          {
           "lower": 2193885.4,
           "timepoint": 64.80000305175781,
           "trajectory": "S_sol",
           "upper": 2193890.325
          },
          {
           "lower": 2193253.025,
           "timepoint": 64.9000015258789,
           "trajectory": "S_sol",
           "upper": 2193257.1375
          },
          {
           "lower": 2192616.25,
           "timepoint": 65,
           "trajectory": "S_sol",
           "upper": 2192621.5
          },
          {
           "lower": 2191979.95,
           "timepoint": 65.0999984741211,
           "trajectory": "S_sol",
           "upper": 2191982.1375
          },
          {
           "lower": 2191336.925,
           "timepoint": 65.19999694824219,
           "trajectory": "S_sol",
           "upper": 2191339.275
          },
          {
           "lower": 2190690.15,
           "timepoint": 65.30000305175781,
           "trajectory": "S_sol",
           "upper": 2190693.25
          },
          {
           "lower": 2190039.875,
           "timepoint": 65.4000015258789,
           "trajectory": "S_sol",
           "upper": 2190043.5
          },
          {
           "lower": 2189386.2125,
           "timepoint": 65.5,
           "trajectory": "S_sol",
           "upper": 2189390.5
          },
          {
           "lower": 2188731.5125,
           "timepoint": 65.5999984741211,
           "trajectory": "S_sol",
           "upper": 2188734.1375
          },
          {
           "lower": 2188071.1,
           "timepoint": 65.69999694824219,
           "trajectory": "S_sol",
           "upper": 2188074.1375
          },
          {
           "lower": 2187406.825,
           "timepoint": 65.80000305175781,
           "trajectory": "S_sol",
           "upper": 2187410.6375
          },
          {
           "lower": 2186739.05,
           "timepoint": 65.9000015258789,
           "trajectory": "S_sol",
           "upper": 2186743.775
          },
          {
           "lower": 2186070.475,
           "timepoint": 66,
           "trajectory": "S_sol",
           "upper": 2186073.3
          },
          {
           "lower": 2185396.0875,
           "timepoint": 66.0999984741211,
           "trajectory": "S_sol",
           "upper": 2185399.55
          },
          {
           "lower": 2184717.95,
           "timepoint": 66.19999694824219,
           "trajectory": "S_sol",
           "upper": 2184722.325
          },
          {
           "lower": 2184036.0625,
           "timepoint": 66.30000305175781,
           "trajectory": "S_sol",
           "upper": 2184041.1
          },
          {
           "lower": 2183350.675,
           "timepoint": 66.4000015258789,
           "trajectory": "S_sol",
           "upper": 2183354.2625
          },
          {
           "lower": 2182661.2875,
           "timepoint": 66.5,
           "trajectory": "S_sol",
           "upper": 2182665.5375
          },
          {
           "lower": 2181969.75,
           "timepoint": 66.5999984741211,
           "trajectory": "S_sol",
           "upper": 2181973.3375
          },
          {
           "lower": 2181273.5,
           "timepoint": 66.69999694824219,
           "trajectory": "S_sol",
           "upper": 2181274.75
          },
          {
           "lower": 2180573.475,
           "timepoint": 66.80000305175781,
           "trajectory": "S_sol",
           "upper": 2180575.025
          },
          {
           "lower": 2179869.5,
           "timepoint": 66.9000015258789,
           "trajectory": "S_sol",
           "upper": 2179871.4125
          },
          {
           "lower": 2179162.1125,
           "timepoint": 67,
           "trajectory": "S_sol",
           "upper": 2179164.6625
          },
          {
           "lower": 2178450.8625,
           "timepoint": 67.0999984741211,
           "trajectory": "S_sol",
           "upper": 2178453.9375
          },
          {
           "lower": 2177735.5875,
           "timepoint": 67.19999694824219,
           "trajectory": "S_sol",
           "upper": 2177739.4625
          },
          {
           "lower": 2177016.725,
           "timepoint": 67.30000305175781,
           "trajectory": "S_sol",
           "upper": 2177021.4875
          },
          {
           "lower": 2176294.225,
           "timepoint": 67.4000015258789,
           "trajectory": "S_sol",
           "upper": 2176299.625
          },
          {
           "lower": 2175567.6125,
           "timepoint": 67.5,
           "trajectory": "S_sol",
           "upper": 2175574.175
          },
          {
           "lower": 2174837.475,
           "timepoint": 67.5999984741211,
           "trajectory": "S_sol",
           "upper": 2174845.3125
          },
          {
           "lower": 2174103.5625,
           "timepoint": 67.69999694824219,
           "trajectory": "S_sol",
           "upper": 2174108.3375
          },
          {
           "lower": 2173366.25,
           "timepoint": 67.80000305175781,
           "trajectory": "S_sol",
           "upper": 2173371.1375
          },
          {
           "lower": 2172623.975,
           "timepoint": 67.9000015258789,
           "trajectory": "S_sol",
           "upper": 2172626.3875
          },
          {
           "lower": 2171877.425,
           "timepoint": 68,
           "trajectory": "S_sol",
           "upper": 2171880.8875
          },
          {
           "lower": 2171127.35,
           "timepoint": 68.0999984741211,
           "trajectory": "S_sol",
           "upper": 2171131.5
          },
          {
           "lower": 2170373.05,
           "timepoint": 68.19999694824219,
           "trajectory": "S_sol",
           "upper": 2170377.9125
          },
          {
           "lower": 2169613.8875,
           "timepoint": 68.30000305175781,
           "trajectory": "S_sol",
           "upper": 2169620.525
          },
          {
           "lower": 2168855.85,
           "timepoint": 68.4000015258789,
           "trajectory": "S_sol",
           "upper": 2168859.1375
          },
          {
           "lower": 2168089.8,
           "timepoint": 68.5,
           "trajectory": "S_sol",
           "upper": 2168094
          },
          {
           "lower": 2167319.475,
           "timepoint": 68.5999984741211,
           "trajectory": "S_sol",
           "upper": 2167324.6375
          },
          {
           "lower": 2166548.975,
           "timepoint": 68.69999694824219,
           "trajectory": "S_sol",
           "upper": 2166551.5
          },
          {
           "lower": 2165771.3625,
           "timepoint": 68.80000305175781,
           "trajectory": "S_sol",
           "upper": 2165774.05
          },
          {
           "lower": 2164989.2,
           "timepoint": 68.9000015258789,
           "trajectory": "S_sol",
           "upper": 2164992.8
          },
          {
           "lower": 2164203.175,
           "timepoint": 69,
           "trajectory": "S_sol",
           "upper": 2164207.55
          },
          {
           "lower": 2163412.9875,
           "timepoint": 69.0999984741211,
           "trajectory": "S_sol",
           "upper": 2163418.0125
          },
          {
           "lower": 2162621.725,
           "timepoint": 69.19999694824219,
           "trajectory": "S_sol",
           "upper": 2162624.875
          },
          {
           "lower": 2161823.6125,
           "timepoint": 69.30000305175781,
           "trajectory": "S_sol",
           "upper": 2161825.6375
          },
          {
           "lower": 2161020.975,
           "timepoint": 69.4000015258789,
           "trajectory": "S_sol",
           "upper": 2161023.8875
          },
          {
           "lower": 2160214.2,
           "timepoint": 69.5,
           "trajectory": "S_sol",
           "upper": 2160217.8875
          },
          {
           "lower": 2159403.375,
           "timepoint": 69.5999984741211,
           "trajectory": "S_sol",
           "upper": 2159407.8875
          },
          {
           "lower": 2158588.075,
           "timepoint": 69.69999694824219,
           "trajectory": "S_sol",
           "upper": 2158593.6375
          },
          {
           "lower": 2157771.6875,
           "timepoint": 69.80000305175781,
           "trajectory": "S_sol",
           "upper": 2157775.275
          },
          {
           "lower": 2156948.3875,
           "timepoint": 69.9000015258789,
           "trajectory": "S_sol",
           "upper": 2156952.6375
          },
          {
           "lower": 2156120.5625,
           "timepoint": 70,
           "trajectory": "S_sol",
           "upper": 2156125.8875
          },
          {
           "lower": 2155292.8625,
           "timepoint": 70.0999984741211,
           "trajectory": "S_sol",
           "upper": 2155294.75
          },
          {
           "lower": 2154457.3625,
           "timepoint": 70.19999694824219,
           "trajectory": "S_sol",
           "upper": 2154459.5
          },
          {
           "lower": 2153617.25,
           "timepoint": 70.30000305175781,
           "trajectory": "S_sol",
           "upper": 2153620
          },
          {
           "lower": 2152773.1125,
           "timepoint": 70.4000015258789,
           "trajectory": "S_sol",
           "upper": 2152776.3875
          },
          {
           "lower": 2151924.6125,
           "timepoint": 70.5,
           "trajectory": "S_sol",
           "upper": 2151928.3875
          },
          {
           "lower": 2151072.675,
           "timepoint": 70.5999984741211,
           "trajectory": "S_sol",
           "upper": 2151076.6375
          },
          {
           "lower": 2150216.475,
           "timepoint": 70.69999694824219,
           "trajectory": "S_sol",
           "upper": 2150220.25
          },
          {
           "lower": 2149355,
           "timepoint": 70.80000305175781,
           "trajectory": "S_sol",
           "upper": 2149359.75
          },
          {
           "lower": 2148489.3625,
           "timepoint": 70.9000015258789,
           "trajectory": "S_sol",
           "upper": 2148495.275
          },
          {
           "lower": 2147619,
           "timepoint": 71,
           "trajectory": "S_sol",
           "upper": 2147623.775
          },
          {
           "lower": 2146744.475,
           "timepoint": 71.0999984741211,
           "trajectory": "S_sol",
           "upper": 2146746.6375
          },
          {
           "lower": 2145865.925,
           "timepoint": 71.19999694824219,
           "trajectory": "S_sol",
           "upper": 2145868
          },
          {
           "lower": 2144982.2875,
           "timepoint": 71.30000305175781,
           "trajectory": "S_sol",
           "upper": 2144984.8875
          },
          {
           "lower": 2144095.725,
           "timepoint": 71.4000015258789,
           "trajectory": "S_sol",
           "upper": 2144097.25
          },
          {
           "lower": 2143203.5875,
           "timepoint": 71.5,
           "trajectory": "S_sol",
           "upper": 2143205.6375
          },
          {
           "lower": 2142306.8375,
           "timepoint": 71.5999984741211,
           "trajectory": "S_sol",
           "upper": 2142309.25
          },
          {
           "lower": 2141405.6125,
           "timepoint": 71.69999694824219,
           "trajectory": "S_sol",
           "upper": 2141408.1375
          },
          {
           "lower": 2140499.725,
           "timepoint": 71.80000305175781,
           "trajectory": "S_sol",
           "upper": 2140502.8875
          },
          {
           "lower": 2139589.6125,
           "timepoint": 71.9000015258789,
           "trajectory": "S_sol",
           "upper": 2139593.525
          },
          {
           "lower": 2138674.3625,
           "timepoint": 72,
           "trajectory": "S_sol",
           "upper": 2138678.5125
          },
          {
           "lower": 2137755.25,
           "timepoint": 72.0999984741211,
           "trajectory": "S_sol",
           "upper": 2137757.4125
          },
          {
           "lower": 2136830.8625,
           "timepoint": 72.19999694824219,
           "trajectory": "S_sol",
           "upper": 2136833.55
          },
          {
           "lower": 2135903.8625,
           "timepoint": 72.30000305175781,
           "trajectory": "S_sol",
           "upper": 2135905.1625
          },
          {
           "lower": 2134970.6125,
           "timepoint": 72.4000015258789,
           "trajectory": "S_sol",
           "upper": 2134972.1375
          },
          {
           "lower": 2134032.8625,
           "timepoint": 72.5,
           "trajectory": "S_sol",
           "upper": 2134034.525
          },
          {
           "lower": 2133090.3375,
           "timepoint": 72.5999984741211,
           "trajectory": "S_sol",
           "upper": 2133092.025
          },
          {
           "lower": 2132143.3375,
           "timepoint": 72.69999694824219,
           "trajectory": "S_sol",
           "upper": 2132145.25
          },
          {
           "lower": 2131192,
           "timepoint": 72.80000305175781,
           "trajectory": "S_sol",
           "upper": 2131193.6375
          },
          {
           "lower": 2130235.3625,
           "timepoint": 72.9000015258789,
           "trajectory": "S_sol",
           "upper": 2130237.5
          },
          {
           "lower": 2129274.6125,
           "timepoint": 73,
           "trajectory": "S_sol",
           "upper": 2129277.025
          },
          {
           "lower": 2128309,
           "timepoint": 73.0999984741211,
           "trajectory": "S_sol",
           "upper": 2128311.9125
          },
          {
           "lower": 2127338.475,
           "timepoint": 73.19999694824219,
           "trajectory": "S_sol",
           "upper": 2127342.1625
          },
          {
           "lower": 2126363,
           "timepoint": 73.30000305175781,
           "trajectory": "S_sol",
           "upper": 2126367.9625
          },
          {
           "lower": 2125383.2,
           "timepoint": 73.4000015258789,
           "trajectory": "S_sol",
           "upper": 2125389.2375
          },
          {
           "lower": 2124398.45,
           "timepoint": 73.5,
           "trajectory": "S_sol",
           "upper": 2124406.2875
          },
          {
           "lower": 2123409.3625,
           "timepoint": 73.5999984741211,
           "trajectory": "S_sol",
           "upper": 2123413.125
          },
          {
           "lower": 2122415,
           "timepoint": 73.69999694824219,
           "trajectory": "S_sol",
           "upper": 2122419.3125
          },
          {
           "lower": 2121415.6125,
           "timepoint": 73.80000305175781,
           "trajectory": "S_sol",
           "upper": 2121421
          },
          {
           "lower": 2120411.6125,
           "timepoint": 73.9000015258789,
           "trajectory": "S_sol",
           "upper": 2120417.85
          },
          {
           "lower": 2119402.3625,
           "timepoint": 74,
           "trajectory": "S_sol",
           "upper": 2119410.175
          },
          {
           "lower": 2118388.75,
           "timepoint": 74.0999984741211,
           "trajectory": "S_sol",
           "upper": 2118391.1
          },
          {
           "lower": 2117369.75,
           "timepoint": 74.19999694824219,
           "trajectory": "S_sol",
           "upper": 2117371.25
          },
          {
           "lower": 2116345.75,
           "timepoint": 74.30000305175781,
           "trajectory": "S_sol",
           "upper": 2116347.8875
          },
          {
           "lower": 2115316.6125,
           "timepoint": 74.4000015258789,
           "trajectory": "S_sol",
           "upper": 2115319.8
          },
          {
           "lower": 2114282.725,
           "timepoint": 74.5,
           "trajectory": "S_sol",
           "upper": 2114287.075
          },
          {
           "lower": 2113243.5625,
           "timepoint": 74.5999984741211,
           "trajectory": "S_sol",
           "upper": 2113249.35
          },
          {
           "lower": 2112199.9875,
           "timepoint": 74.69999694824219,
           "trajectory": "S_sol",
           "upper": 2112206.875
          },
          {
           "lower": 2111151.225,
           "timepoint": 74.80000305175781,
           "trajectory": "S_sol",
           "upper": 2111157.1875
          },
          {
           "lower": 2110100.8625,
           "timepoint": 74.9000015258789,
           "trajectory": "S_sol",
           "upper": 2110103.025
          },
          {
           "lower": 2109042.25,
           "timepoint": 75,
           "trajectory": "S_sol",
           "upper": 2109044.2375
          },
          {
           "lower": 2107979,
           "timepoint": 75.0999984741211,
           "trajectory": "S_sol",
           "upper": 2107981.2375
          },
          {
           "lower": 2106910.225,
           "timepoint": 75.19999694824219,
           "trajectory": "S_sol",
           "upper": 2106912.875
          },
          {
           "lower": 2105836.3625,
           "timepoint": 75.30000305175781,
           "trajectory": "S_sol",
           "upper": 2105837.8875
          },
          {
           "lower": 2104757.6125,
           "timepoint": 75.4000015258789,
           "trajectory": "S_sol",
           "upper": 2104759.25
          },
          {
           "lower": 2103673.5,
           "timepoint": 75.5,
           "trajectory": "S_sol",
           "upper": 2103675.5
          },
          {
           "lower": 2102584,
           "timepoint": 75.5999984741211,
           "trajectory": "S_sol",
           "upper": 2102586.75
          },
          {
           "lower": 2101489.75,
           "timepoint": 75.69999694824219,
           "trajectory": "S_sol",
           "upper": 2101493.1625
          },
          {
           "lower": 2100389.725,
           "timepoint": 75.80000305175781,
           "trajectory": "S_sol",
           "upper": 2100394.3
          },
          {
           "lower": 2099284.45,
           "timepoint": 75.9000015258789,
           "trajectory": "S_sol",
           "upper": 2099290.4625
          },
          {
           "lower": 2098173.925,
           "timepoint": 76,
           "trajectory": "S_sol",
           "upper": 2098179.8875
          },
          {
           "lower": 2097061.70625,
           "timepoint": 76.0999984741211,
           "trajectory": "S_sol",
           "upper": 2097065.31875
          },
          {
           "lower": 2095941.35,
           "timepoint": 76.19999694824219,
           "trajectory": "S_sol",
           "upper": 2095945.56875
          },
          {
           "lower": 2094819.30625,
           "timepoint": 76.30000305175781,
           "trajectory": "S_sol",
           "upper": 2094820.33125
          },
          {
           "lower": 2093689.125,
           "timepoint": 76.4000015258789,
           "trajectory": "S_sol",
           "upper": 2093690.2625
          },
          {
           "lower": 2092553.6125,
           "timepoint": 76.5,
           "trajectory": "S_sol",
           "upper": 2092554.95625
          },
          {
           "lower": 2091412.80625,
           "timepoint": 76.5999984741211,
           "trajectory": "S_sol",
           "upper": 2091414.45625
          },
          {
           "lower": 2090266.85,
           "timepoint": 76.69999694824219,
           "trajectory": "S_sol",
           "upper": 2090268.81875
          },
          {
           "lower": 2089115.3375,
           "timepoint": 76.80000305175781,
           "trajectory": "S_sol",
           "upper": 2089117.81875
          },
          {
           "lower": 2087958.75625,
           "timepoint": 76.9000015258789,
           "trajectory": "S_sol",
           "upper": 2087960.35625
          },
          {
           "lower": 2086796.4375,
           "timepoint": 77,
           "trajectory": "S_sol",
           "upper": 2086798.73125
          },
          {
           "lower": 2085629.91875,
           "timepoint": 77.0999984741211,
           "trajectory": "S_sol",
           "upper": 2085631.8
          },
          {
           "lower": 2084457.2125,
           "timepoint": 77.19999694824219,
           "trajectory": "S_sol",
           "upper": 2084459.8
          },
          {
           "lower": 2083278.90625,
           "timepoint": 77.30000305175781,
           "trajectory": "S_sol",
           "upper": 2083282.425
          },
          {
           "lower": 2082095.36875,
           "timepoint": 77.4000015258789,
           "trajectory": "S_sol",
           "upper": 2082097.1375
          },
          {
           "lower": 2080906.425,
           "timepoint": 77.5,
           "trajectory": "S_sol",
           "upper": 2080908.31875
          },
          {
           "lower": 2079712.08125,
           "timepoint": 77.5999984741211,
           "trajectory": "S_sol",
           "upper": 2079714.20625
          },
          {
           "lower": 2078513.79375,
           "timepoint": 77.69999694824219,
           "trajectory": "S_sol",
           "upper": 2078514.95625
          },
          {
           "lower": 2077308.6125,
           "timepoint": 77.80000305175781,
           "trajectory": "S_sol",
           "upper": 2077310.0375
          },
          {
           "lower": 2076097.9875,
           "timepoint": 77.9000015258789,
           "trajectory": "S_sol",
           "upper": 2076099.98125
          },
          {
           "lower": 2074881.93125,
           "timepoint": 78,
           "trajectory": "S_sol",
           "upper": 2074884.36875
          },
          {
           "lower": 2073660.85625,
           "timepoint": 78.0999984741211,
           "trajectory": "S_sol",
           "upper": 2073663.50625
          },
          {
           "lower": 2072434.0125,
           "timepoint": 78.19999694824219,
           "trajectory": "S_sol",
           "upper": 2072437.03125
          },
          {
           "lower": 2071201.41875,
           "timepoint": 78.30000305175781,
           "trajectory": "S_sol",
           "upper": 2071203.7625
          },
          {
           "lower": 2069963.325,
           "timepoint": 78.4000015258789,
           "trajectory": "S_sol",
           "upper": 2069966.19375
          },
          {
           "lower": 2068719.73125,
           "timepoint": 78.5,
           "trajectory": "S_sol",
           "upper": 2068723.19375
          },
          {
           "lower": 2067473.5,
           "timepoint": 78.5999984741211,
           "trajectory": "S_sol",
           "upper": 2067474.69375
          },
          {
           "lower": 2066219.1125,
           "timepoint": 78.69999694824219,
           "trajectory": "S_sol",
           "upper": 2066220.7625
          },
          {
           "lower": 2064959.3625,
           "timepoint": 78.80000305175781,
           "trajectory": "S_sol",
           "upper": 2064961.275
          },
          {
           "lower": 2063694.18125,
           "timepoint": 78.9000015258789,
           "trajectory": "S_sol",
           "upper": 2063696.1375
          },
          {
           "lower": 2062423.30625,
           "timepoint": 79,
           "trajectory": "S_sol",
           "upper": 2062425.71875
          },
          {
           "lower": 2061146.80625,
           "timepoint": 79.0999984741211,
           "trajectory": "S_sol",
           "upper": 2061149
          },
          {
           "lower": 2059864.68125,
           "timepoint": 79.19999694824219,
           "trajectory": "S_sol",
           "upper": 2059867.4125
          },
          {
           "lower": 2058576.80625,
           "timepoint": 79.30000305175781,
           "trajectory": "S_sol",
           "upper": 2058580.1875
          },
          {
           "lower": 2057283.43125,
           "timepoint": 79.4000015258789,
           "trajectory": "S_sol",
           "upper": 2057287.6125
          },
          {
           "lower": 2055984.43125,
           "timepoint": 79.5,
           "trajectory": "S_sol",
           "upper": 2055986.20625
          },
          {
           "lower": 2054679.6125,
           "timepoint": 79.5999984741211,
           "trajectory": "S_sol",
           "upper": 2054682.025
          },
          {
           "lower": 2053369.225,
           "timepoint": 79.69999694824219,
           "trajectory": "S_sol",
           "upper": 2053372.09375
          },
          {
           "lower": 2052052.95,
           "timepoint": 79.80000305175781,
           "trajectory": "S_sol",
           "upper": 2052056.58125
          },
          {
           "lower": 2050731.33125,
           "timepoint": 79.9000015258789,
           "trajectory": "S_sol",
           "upper": 2050735.0625
          },
          {
           "lower": 2049405.2375,
           "timepoint": 80,
           "trajectory": "S_sol",
           "upper": 2049408.20625
          },
          {
           "lower": 9.803942901953633e-09,
           "timepoint": 0,
           "trajectory": "V_sol",
           "upper": 3.177937788478857e-08
          },
          {
           "lower": 9656083788.8,
           "timepoint": 0.10000000149011612,
           "trajectory": "V_sol",
           "upper": 31300298035.199997
          },
          {
           "lower": 38048429260.8,
           "timepoint": 0.20000000298023224,
           "trajectory": "V_sol",
           "upper": 123334434406.4
          },
          {
           "lower": 84346650624,
           "timepoint": 0.30000001192092896,
           "trajectory": "V_sol",
           "upper": 273410508390.4
          },
          {
           "lower": 147763328204.8,
           "timepoint": 0.4000000059604645,
           "trajectory": "V_sol",
           "upper": 478976011468.8
          },
          {
           "lower": 227551409766.4,
           "timepoint": 0.5,
           "trajectory": "V_sol",
           "upper": 737609996697.6
          },
          {
           "lower": 323003003699.2,
           "timepoint": 0.6000000238418579,
           "trajectory": "V_sol",
           "upper": 1047017177087.9999
          },
          {
           "lower": 433446477824,
           "timepoint": 0.699999988079071,
           "trajectory": "V_sol",
           "upper": 1405019376844.7998
          },
          {
           "lower": 558245301452.8,
           "timepoint": 0.800000011920929,
           "trajectory": "V_sol",
           "upper": 1809557579366.4
          },
          {
           "lower": 696795814297.6,
           "timepoint": 0.9000000357627869,
           "trajectory": "V_sol",
           "upper": 2258671986278.4
          },
          {
           "lower": 848525672448,
           "timepoint": 1,
           "trajectory": "V_sol",
           "upper": 2750503688601.5996
          },
          {
           "lower": 1012892850585.6,
           "timepoint": 1.100000023841858,
           "trajectory": "V_sol",
           "upper": 3283299192012.8
          },
          {
           "lower": 1189382868172.8,
           "timepoint": 1.2000000476837158,
           "trajectory": "V_sol",
           "upper": 3855396254515.1997
          },
          {
           "lower": 1377508622336,
           "timepoint": 1.3000000715255737,
           "trajectory": "V_sol",
           "upper": 4465208498585.6
          },
          {
           "lower": 1576806685081.6,
           "timepoint": 1.399999976158142,
           "trajectory": "V_sol",
           "upper": 5111241139814.399
          },
          {
           "lower": 1786845416652.8,
           "timepoint": 1.5,
           "trajectory": "V_sol",
           "upper": 5792075507302.399
          },
          {
           "lower": 2007203191193.6,
           "timepoint": 1.600000023841858,
           "trajectory": "V_sol",
           "upper": 6506366527078.399
          },
          {
           "lower": 2237488673587.2,
           "timepoint": 1.7000000476837158,
           "trajectory": "V_sol",
           "upper": 7252853155430.399
          },
          {
           "lower": 2477338335641.6,
           "timepoint": 1.8000000715255737,
           "trajectory": "V_sol",
           "upper": 8030314640179.199
          },
          {
           "lower": 2726389730508.8,
           "timepoint": 1.899999976158142,
           "trajectory": "V_sol",
           "upper": 8837610995712
          },
          {
           "lower": 2984315846656,
           "timepoint": 2,
           "trajectory": "V_sol",
           "upper": 9673676842598.398
          },
          {
           "lower": 3250791396147.2,
           "timepoint": 2.1000001430511475,
           "trajectory": "V_sol",
           "upper": 10537467327283.2
          },
          {
           "lower": 3525526840934.4,
           "timepoint": 2.200000047683716,
           "trajectory": "V_sol",
           "upper": 11428015479193.6
          },
          {
           "lower": 3808235094016,
           "timepoint": 2.299999952316284,
           "trajectory": "V_sol",
           "upper": 12344425499852.799
          },
          {
           "lower": 4098654129356.8,
           "timepoint": 2.4000000953674316,
           "trajectory": "V_sol",
           "upper": 13285824607027.2
          },
          {
           "lower": 4396524830720,
           "timepoint": 2.5,
           "trajectory": "V_sol",
           "upper": 14251371003904
          },
          {
           "lower": 4701611163648,
           "timepoint": 2.6000001430511475,
           "trajectory": "V_sol",
           "upper": 15240306150604.799
          },
          {
           "lower": 5013676661145.6,
           "timepoint": 2.700000047683716,
           "trajectory": "V_sol",
           "upper": 16251878794854.398
          },
          {
           "lower": 5332519354368,
           "timepoint": 2.799999952316284,
           "trajectory": "V_sol",
           "upper": 17285409459404.799
          },
          {
           "lower": 5657933171916.8,
           "timepoint": 2.9000000953674316,
           "trajectory": "V_sol",
           "upper": 18340236702515.2
          },
          {
           "lower": 5989727259852.8,
           "timepoint": 3,
           "trajectory": "V_sol",
           "upper": 19415754919116.797
          },
          {
           "lower": 6327714316288,
           "timepoint": 3.1000001430511475,
           "trajectory": "V_sol",
           "upper": 20511346655232
          },
          {
           "lower": 6671731209011.2,
           "timepoint": 3.200000047683716,
           "trajectory": "V_sol",
           "upper": 21626481121689.598
          },
          {
           "lower": 7021612970803.2,
           "timepoint": 3.299999952316284,
           "trajectory": "V_sol",
           "upper": 22760628577894.4
          },
          {
           "lower": 7377208632934.4,
           "timepoint": 3.4000000953674316,
           "trajectory": "V_sol",
           "upper": 23913292103680
          },
          {
           "lower": 7738383532032,
           "timepoint": 3.5,
           "trajectory": "V_sol",
           "upper": 25084041992601.598
          },
          {
           "lower": 8104988848947.2,
           "timepoint": 3.6000001430511475,
           "trajectory": "V_sol",
           "upper": 26272389188812.797
          },
          {
           "lower": 8476902686720,
           "timepoint": 3.700000047683716,
           "trajectory": "V_sol",
           "upper": 27477955366092.797
          },
          {
           "lower": 8854005796044.8,
           "timepoint": 3.799999952316284,
           "trajectory": "V_sol",
           "upper": 28700336612966.4
          },
          {
           "lower": 9236178927616,
           "timepoint": 3.9000000953674316,
           "trajectory": "V_sol",
           "upper": 29939168549273.598
          },
          {
           "lower": 9623323489075.2,
           "timepoint": 4,
           "trajectory": "V_sol",
           "upper": 31194111331532.797
          },
          {
           "lower": 10015334098534.4,
           "timepoint": 4.099999904632568,
           "trajectory": "V_sol",
           "upper": 32464815154790.4
          },
          {
           "lower": 10412118533734.4,
           "timepoint": 4.200000286102295,
           "trajectory": "V_sol",
           "upper": 33751010639871.996
          },
          {
           "lower": 10813600694272,
           "timepoint": 4.300000190734863,
           "trajectory": "V_sol",
           "upper": 35052396740607.996
          },
          {
           "lower": 11219677950771.2,
           "timepoint": 4.400000095367432,
           "trajectory": "V_sol",
           "upper": 36368704392396.8
          },
          {
           "lower": 11630279602995.2,
           "timepoint": 4.5,
           "trajectory": "V_sol",
           "upper": 37699686760448
          },
          {
           "lower": 12045331411763.2,
           "timepoint": 4.599999904632568,
           "trajectory": "V_sol",
           "upper": 39045088201932.8
          },
          {
           "lower": 12464780319129.6,
           "timepoint": 4.700000286102295,
           "trajectory": "V_sol",
           "upper": 40404709801984
          },
          {
           "lower": 12888542439014.4,
           "timepoint": 4.800000190734863,
           "trajectory": "V_sol",
           "upper": 41778337231667.195
          },
          {
           "lower": 13316566967910.4,
           "timepoint": 4.900000095367432,
           "trajectory": "V_sol",
           "upper": 43165771471257.59
          },
          {
           "lower": 13748800533299.2,
           "timepoint": 5,
           "trajectory": "V_sol",
           "upper": 44566852508057.59
          },
          {
           "lower": 14185180063334.4,
           "timepoint": 5.099999904632568,
           "trajectory": "V_sol",
           "upper": 45981400406425.59
          },
          {
           "lower": 14625673681305.6,
           "timepoint": 5.200000286102295,
           "trajectory": "V_sol",
           "upper": 47409259347968
          },
          {
           "lower": 15070228067123.2,
           "timepoint": 5.300000190734863,
           "trajectory": "V_sol",
           "upper": 48850278966886.4
          },
          {
           "lower": 15518801906892.8,
           "timepoint": 5.400000095367432,
           "trajectory": "V_sol",
           "upper": 50304343080960
          },
          {
           "lower": 15971357137305.6,
           "timepoint": 5.5,
           "trajectory": "V_sol",
           "upper": 51771306567270.4
          },
          {
           "lower": 16427860099072,
           "timepoint": 5.599999904632568,
           "trajectory": "V_sol",
           "upper": 53251068133376
          },
          {
           "lower": 16888276503756.8,
           "timepoint": 5.700000286102295,
           "trajectory": "V_sol",
           "upper": 54743534665728
          },
          {
           "lower": 17352577043660.8,
           "timepoint": 5.800000190734863,
           "trajectory": "V_sol",
           "upper": 56248588304384
          },
          {
           "lower": 17820732987801.6,
           "timepoint": 5.900000095367432,
           "trajectory": "V_sol",
           "upper": 57766105527091.195
          },
          {
           "lower": 18292720376217.6,
           "timepoint": 6,
           "trajectory": "V_sol",
           "upper": 59296069346918.4
          },
          {
           "lower": 18768542931353.6,
           "timepoint": 6.099999904632568,
           "trajectory": "V_sol",
           "upper": 60838409089843.195
          },
          {
           "lower": 19248142142668.8,
           "timepoint": 6.200000286102295,
           "trajectory": "V_sol",
           "upper": 62393020527411.195
          },
          {
           "lower": 19731511089561.6,
           "timepoint": 6.300000190734863,
           "trajectory": "V_sol",
           "upper": 63959852908543.99
          },
          {
           "lower": 20218640282419.2,
           "timepoint": 6.400000095367432,
           "trajectory": "V_sol",
           "upper": 65538905813811.195
          },
          {
           "lower": 20709510899302.4,
           "timepoint": 6.5,
           "trajectory": "V_sol",
           "upper": 67130056559820.8
          },
          {
           "lower": 21204103803699.2,
           "timepoint": 6.599999904632568,
           "trajectory": "V_sol",
           "upper": 68733308082585.59
          },
          {
           "lower": 21702423294771.2,
           "timepoint": 6.700000286102295,
           "trajectory": "V_sol",
           "upper": 70348613825331.195
          },
          {
           "lower": 22204453172019.2,
           "timepoint": 6.800000190734863,
           "trajectory": "V_sol",
           "upper": 71975960995430.39
          },
          {
           "lower": 22710182949683.2,
           "timepoint": 6.900000095367432,
           "trajectory": "V_sol",
           "upper": 73615321700761.6
          },
          {
           "lower": 23219609586892.8,
           "timepoint": 7,
           "trajectory": "V_sol",
           "upper": 75266595278028.8
          },
          {
           "lower": 23732735390515.2,
           "timepoint": 7.099999904632568,
           "trajectory": "V_sol",
           "upper": 76929892247142.39
          },
          {
           "lower": 24249546624204.8,
           "timepoint": 7.200000286102295,
           "trajectory": "V_sol",
           "upper": 78605166470758.39
          },
          {
           "lower": 24770043287961.6,
           "timepoint": 7.300000190734863,
           "trajectory": "V_sol",
           "upper": 80292401171660.8
          },
          {
           "lower": 25294226954649.6,
           "timepoint": 7.400000095367432,
           "trajectory": "V_sol",
           "upper": 81991600963584
          },
          {
           "lower": 25822093954252.8,
           "timepoint": 7.5,
           "trajectory": "V_sol",
           "upper": 83702634145382.39
          },
          {
           "lower": 26353646593638.4,
           "timepoint": 7.599999904632568,
           "trajectory": "V_sol",
           "upper": 85425730564915.19
          },
          {
           "lower": 26888931953868.8,
           "timepoint": 7.700000286102295,
           "trajectory": "V_sol",
           "upper": 87160724127744
          },
          {
           "lower": 27427884184371.2,
           "timepoint": 7.800000190734863,
           "trajectory": "V_sol",
           "upper": 88907757020774.39
          },
          {
           "lower": 27970540719308.8,
           "timepoint": 7.900000095367432,
           "trajectory": "V_sol",
           "upper": 90666789817548.8
          },
          {
           "lower": 28516908584140.8,
           "timepoint": 8,
           "trajectory": "V_sol",
           "upper": 92437834262118.39
          },
          {
           "lower": 29066994280038.4,
           "timepoint": 8.100000381469727,
           "trajectory": "V_sol",
           "upper": 94220898323660.8
          },
          {
           "lower": 29620801057587.2,
           "timepoint": 8.199999809265137,
           "trajectory": "V_sol",
           "upper": 96016041980723.19
          },
          {
           "lower": 30178300605235.2,
           "timepoint": 8.300000190734863,
           "trajectory": "V_sol",
           "upper": 97823253908684.8
          },
          {
           "lower": 30739568001024,
           "timepoint": 8.40000057220459,
           "trajectory": "V_sol",
           "upper": 99642608346726.39
          },
          {
           "lower": 31304584370585.6,
           "timepoint": 8.5,
           "trajectory": "V_sol",
           "upper": 101474095647948.8
          },
          {
           "lower": 31873363030835.2,
           "timepoint": 8.600000381469727,
           "trajectory": "V_sol",
           "upper": 103317786696089.6
          },
          {
           "lower": 32445908176076.8,
           "timepoint": 8.699999809265137,
           "trajectory": "V_sol",
           "upper": 105173682330009.6
          },
          {
           "lower": 33022246020710.4,
           "timepoint": 8.800000190734863,
           "trajectory": "V_sol",
           "upper": 107041857208320
          },
          {
           "lower": 33602416410624,
           "timepoint": 8.90000057220459,
           "trajectory": "V_sol",
           "upper": 108922400250265.6
          },
          {
           "lower": 34186297815859.2,
           "timepoint": 9,
           "trajectory": "V_sol",
           "upper": 110815244346982.39
          },
          {
           "lower": 34774058742579.2,
           "timepoint": 9.100000381469727,
           "trajectory": "V_sol",
           "upper": 112720498130944
          },
          {
           "lower": 35365655465164.8,
           "timepoint": 9.199999809265137,
           "trajectory": "V_sol",
           "upper": 114638187606835.19
          },
          {
           "lower": 35961107801702.4,
           "timepoint": 9.300000190734863,
           "trajectory": "V_sol",
           "upper": 116568402113331.19
          },
          {
           "lower": 36560433577984,
           "timepoint": 9.40000057220459,
           "trajectory": "V_sol",
           "upper": 118511007432703.98
          },
          {
           "lower": 37163635100876.8,
           "timepoint": 9.5,
           "trajectory": "V_sol",
           "upper": 120466307232563.19
          },
          {
           "lower": 37770737221632,
           "timepoint": 9.600000381469727,
           "trajectory": "V_sol",
           "upper": 122434223918284.8
          },
          {
           "lower": 38381761121484.8,
           "timepoint": 9.699999809265137,
           "trajectory": "V_sol",
           "upper": 124414872833228.8
          },
          {
           "lower": 38996727037952,
           "timepoint": 9.800000190734863,
           "trajectory": "V_sol",
           "upper": 126408305147903.98
          },
          {
           "lower": 39615649441382.4,
           "timepoint": 9.90000057220459,
           "trajectory": "V_sol",
           "upper": 128414569096806.39
          },
          {
           "lower": 40238543536128,
           "timepoint": 10,
           "trajectory": "V_sol",
           "upper": 130433695298355.19
          },
          {
           "lower": 40865432181145.6,
           "timepoint": 10.100000381469727,
           "trajectory": "V_sol",
           "upper": 132465661942169.6
          },
          {
           "lower": 41496328378777.6,
           "timepoint": 10.199999809265137,
           "trajectory": "V_sol",
           "upper": 134510699714969.6
          },
          {
           "lower": 42131265578598.4,
           "timepoint": 10.300000190734863,
           "trajectory": "V_sol",
           "upper": 136568811552767.98
          },
          {
           "lower": 42770212952473.6,
           "timepoint": 10.40000057220459,
           "trajectory": "V_sol",
           "upper": 138640066242150.39
          },
          {
           "lower": 43413252813619.2,
           "timepoint": 10.5,
           "trajectory": "V_sol",
           "upper": 140724480979763.19
          },
          {
           "lower": 44060399108096,
           "timepoint": 10.600000381469727,
           "trajectory": "V_sol",
           "upper": 142822176561561.6
          },
          {
           "lower": 44711653723340.8,
           "timepoint": 10.699999809265137,
           "trajectory": "V_sol",
           "upper": 144933168087040
          },
          {
           "lower": 45367039098880,
           "timepoint": 10.800000190734863,
           "trajectory": "V_sol",
           "upper": 147057574674432
          },
          {
           "lower": 46026587950284.8,
           "timepoint": 10.90000057220459,
           "trajectory": "V_sol",
           "upper": 149195695797043.2
          },
          {
           "lower": 46690306778726.4,
           "timepoint": 11,
           "trajectory": "V_sol",
           "upper": 151347164872704
          },
          {
           "lower": 47358234381516.8,
           "timepoint": 11.100000381469727,
           "trajectory": "V_sol",
           "upper": 153512234398515.2
          },
          {
           "lower": 48030403054796.8,
           "timepoint": 11.199999809265137,
           "trajectory": "V_sol",
           "upper": 155691025170432
          },
          {
           "lower": 48706807975116.8,
           "timepoint": 11.300000190734863,
           "trajectory": "V_sol",
           "upper": 157883605136179.2
          },
          {
           "lower": 49387483745484.8,
           "timepoint": 11.40000057220459,
           "trajectory": "V_sol",
           "upper": 160090028821708.78
          },
          {
           "lower": 50072443368243.2,
           "timepoint": 11.5,
           "trajectory": "V_sol",
           "upper": 162310340686643.2
          },
          {
           "lower": 50761727528140.8,
           "timepoint": 11.600000381469727,
           "trajectory": "V_sol",
           "upper": 164544684176179.2
          },
          {
           "lower": 51455345033216,
           "timepoint": 11.699999809265137,
           "trajectory": "V_sol",
           "upper": 166793028252467.2
          },
          {
           "lower": 52153334680780.8,
           "timepoint": 11.800000190734863,
           "trajectory": "V_sol",
           "upper": 169055591858176
          },
          {
           "lower": 52855709053747.2,
           "timepoint": 11.90000057220459,
           "trajectory": "V_sol",
           "upper": 171332371637862.38
          },
          {
           "lower": 53562561475379.2,
           "timepoint": 12,
           "trajectory": "V_sol",
           "upper": 173623630993817.6
          },
          {
           "lower": 54273848534630.4,
           "timepoint": 12.100000381469727,
           "trajectory": "V_sol",
           "upper": 175929182860083.2
          },
          {
           "lower": 54989572538368,
           "timepoint": 12.199999809265137,
           "trajectory": "V_sol",
           "upper": 178249174876160
          },
          {
           "lower": 55709795772006.4,
           "timepoint": 12.300000190734863,
           "trajectory": "V_sol",
           "upper": 180583785719398.38
          },
          {
           "lower": 56434543820800,
           "timepoint": 12.40000057220459,
           "trajectory": "V_sol",
           "upper": 182933013712076.78
          },
          {
           "lower": 57163831784243.2,
           "timepoint": 12.5,
           "trajectory": "V_sol",
           "upper": 185296961195212.78
          },
          {
           "lower": 57897701605376,
           "timepoint": 12.600000381469727,
           "trajectory": "V_sol",
           "upper": 187675753159065.6
          },
          {
           "lower": 58636167335116.8,
           "timepoint": 12.699999809265137,
           "trajectory": "V_sol",
           "upper": 190069731019980.78
          },
          {
           "lower": 59379263576473.6,
           "timepoint": 12.800000190734863,
           "trajectory": "V_sol",
           "upper": 192478514774016
          },
          {
           "lower": 60127019689574.4,
           "timepoint": 12.90000057220459,
           "trajectory": "V_sol",
           "upper": 194902390472704
          },
          {
           "lower": 60879453500211.2,
           "timepoint": 13,
           "trajectory": "V_sol",
           "upper": 197341327078195.2
          },
          {
           "lower": 61636602757120,
           "timepoint": 13.100000381469727,
           "trajectory": "V_sol",
           "upper": 199795638324428.78
          },
          {
           "lower": 62398490319257.6,
           "timepoint": 13.199999809265137,
           "trajectory": "V_sol",
           "upper": 202265293173555.2
          },
          {
           "lower": 63165147434188.8,
           "timepoint": 13.300000190734863,
           "trajectory": "V_sol",
           "upper": 204750407388364.78
          },
          {
           "lower": 63936606817484.8,
           "timepoint": 13.40000057220459,
           "trajectory": "V_sol",
           "upper": 207251084987596.78
          },
          {
           "lower": 64712889021235.2,
           "timepoint": 13.5,
           "trajectory": "V_sol",
           "upper": 209767339393024
          },
          {
           "lower": 65494031374745.6,
           "timepoint": 13.600000381469727,
           "trajectory": "V_sol",
           "upper": 212299366059212.78
          },
          {
           "lower": 66280046880358.4,
           "timepoint": 13.699999809265137,
           "trajectory": "V_sol",
           "upper": 214847340308070.38
          },
          {
           "lower": 67070983353139.2,
           "timepoint": 13.800000190734863,
           "trajectory": "V_sol",
           "upper": 217411143860224
          },
          {
           "lower": 67866870572646.4,
           "timepoint": 13.90000057220459,
           "trajectory": "V_sol",
           "upper": 219990956231884.78
          },
          {
           "lower": 68667729090969.6,
           "timepoint": 14,
           "trajectory": "V_sol",
           "upper": 222586959455846.38
          },
          {
           "lower": 69473531645132.8,
           "timepoint": 14.100000381469727,
           "trajectory": "V_sol",
           "upper": 225199129205145.6
          },
          {
           "lower": 70284408677990.4,
           "timepoint": 14.199999809265137,
           "trajectory": "V_sol",
           "upper": 227827594664345.6
          },
          {
           "lower": 71100358302105.6,
           "timepoint": 14.300000190734863,
           "trajectory": "V_sol",
           "upper": 230472497600921.6
          },
          {
           "lower": 71921407780454.4,
           "timepoint": 14.40000057220459,
           "trajectory": "V_sol",
           "upper": 233133886668799.97
          },
          {
           "lower": 72747570954240,
           "timepoint": 14.5,
           "trajectory": "V_sol",
           "upper": 235811906990899.2
          },
          {
           "lower": 73578904027136,
           "timepoint": 14.600000381469727,
           "trajectory": "V_sol",
           "upper": 238506659230515.2
          },
          {
           "lower": 74415417694617.6,
           "timepoint": 14.699999809265137,
           "trajectory": "V_sol",
           "upper": 241218160164863.97
          },
          {
           "lower": 75257162288332.8,
           "timepoint": 14.800000190734863,
           "trajectory": "V_sol",
           "upper": 243946764632063.97
          },
          {
           "lower": 76104163603251.2,
           "timepoint": 14.90000057220459,
           "trajectory": "V_sol",
           "upper": 246692286405017.6
          },
          {
           "lower": 76956452048076.8,
           "timepoint": 15,
           "trajectory": "V_sol",
           "upper": 249454910871961.6
          },
          {
           "lower": 77814063484108.8,
           "timepoint": 15.100000381469727,
           "trajectory": "V_sol",
           "upper": 252234798255308.78
          },
          {
           "lower": 78676920316723.2,
           "timepoint": 15.199999809265137,
           "trajectory": "V_sol",
           "upper": 255032034957721.6
          },
          {
           "lower": 79545241069158.4,
           "timepoint": 15.300000190734863,
           "trajectory": "V_sol",
           "upper": 257846724159078.38
          },
          {
           "lower": 80418973941760,
           "timepoint": 15.40000057220459,
           "trajectory": "V_sol",
           "upper": 260678959811788.78
          },
          {
           "lower": 81298147036364.8,
           "timepoint": 15.5,
           "trajectory": "V_sol",
           "upper": 263528847612313.6
          },
          {
           "lower": 82182817395507.2,
           "timepoint": 15.600000381469727,
           "trajectory": "V_sol",
           "upper": 266396525972684.78
          },
          {
           "lower": 83072986696908.8,
           "timepoint": 15.699999809265137,
           "trajectory": "V_sol",
           "upper": 269282072906956.78
          },
          {
           "lower": 83968723307724.8,
           "timepoint": 15.800000190734863,
           "trajectory": "V_sol",
           "upper": 272185639410073.6
          },
          {
           "lower": 84870028066816,
           "timepoint": 15.90000057220459,
           "trajectory": "V_sol",
           "upper": 275107300140646.38
          },
          {
           "lower": 85776952773836.8,
           "timepoint": 16,
           "trajectory": "V_sol",
           "upper": 278047153245388.78
          },
          {
           "lower": 86689532241510.4,
           "timepoint": 16.100000381469727,
           "trajectory": "V_sol",
           "upper": 281005118193663.97
          },
          {
           "lower": 87607793313382.4,
           "timepoint": 16.200000762939453,
           "trajectory": "V_sol",
           "upper": 283981726823219.2
          },
          {
           "lower": 88531780868505.6,
           "timepoint": 16.30000114440918,
           "trajectory": "V_sol",
           "upper": 286976876793036.75
          },
          {
           "lower": 89461504134348.8,
           "timepoint": 16.399999618530273,
           "trajectory": "V_sol",
           "upper": 289990653666918.4
          },
          {
           "lower": 90397033575219.2,
           "timepoint": 16.5,
           "trajectory": "V_sol",
           "upper": 293023281420697.56
          },
          {
           "lower": 91338451399475.2,
           "timepoint": 16.600000381469727,
           "trajectory": "V_sol",
           "upper": 296074552016896
          },
          {
           "lower": 92285691337113.6,
           "timepoint": 16.700000762939453,
           "trajectory": "V_sol",
           "upper": 299145077823897.56
          },
          {
           "lower": 93238830563328,
           "timepoint": 16.80000114440918,
           "trajectory": "V_sol",
           "upper": 302234707846758.4
          },
          {
           "lower": 94197881241600,
           "timepoint": 16.899999618530273,
           "trajectory": "V_sol",
           "upper": 305343527649280
          },
          {
           "lower": 95162933968896,
           "timepoint": 17,
           "trajectory": "V_sol",
           "upper": 308471809022361.56
          },
          {
           "lower": 96133994197811.2,
           "timepoint": 17.100000381469727,
           "trajectory": "V_sol",
           "upper": 311619541899673.56
          },
          {
           "lower": 97111109743411.2,
           "timepoint": 17.200000762939453,
           "trajectory": "V_sol",
           "upper": 314786925930086.4
          },
          {
           "lower": 98094310385254.4,
           "timepoint": 17.30000114440918,
           "trajectory": "V_sol",
           "upper": 317974039966515.2
          },
          {
           "lower": 99083602834227.2,
           "timepoint": 17.399999618530273,
           "trajectory": "V_sol",
           "upper": 321180947762380.75
          },
          {
           "lower": 100079083139891.2,
           "timepoint": 17.5,
           "trajectory": "V_sol",
           "upper": 324407869099212.75
          },
          {
           "lower": 101080763465728,
           "timepoint": 17.600000381469727,
           "trajectory": "V_sol",
           "upper": 327654317437747.2
          },
          {
           "lower": 102088681141043.2,
           "timepoint": 17.700000762939453,
           "trajectory": "V_sol",
           "upper": 330921478927155.2
          },
          {
           "lower": 103102881044889.6,
           "timepoint": 17.80000114440918,
           "trajectory": "V_sol",
           "upper": 334208962658304
          },
          {
           "lower": 104123374501888,
           "timepoint": 17.899999618530273,
           "trajectory": "V_sol",
           "upper": 337516892782592
          },
          {
           "lower": 105150246236979.2,
           "timepoint": 18,
           "trajectory": "V_sol",
           "upper": 340845432039014.4
          },
          {
           "lower": 106183461437440,
           "timepoint": 18.100000381469727,
           "trajectory": "V_sol",
           "upper": 344194617337446.4
          },
          {
           "lower": 107223079662387.2,
           "timepoint": 18.200000762939453,
           "trajectory": "V_sol",
           "upper": 347564748990054.4
          },
          {
           "lower": 108269225063219.2,
           "timepoint": 18.30000114440918,
           "trajectory": "V_sol",
           "upper": 350955833707724.75
          },
          {
           "lower": 109321862827212.8,
           "timepoint": 18.399999618530273,
           "trajectory": "V_sol",
           "upper": 354368019129958.4
          },
          {
           "lower": 110381078937600,
           "timepoint": 18.5,
           "trajectory": "V_sol",
           "upper": 357801441152204.75
          },
          {
           "lower": 111446874233241.6,
           "timepoint": 18.600000381469727,
           "trajectory": "V_sol",
           "upper": 361256292712448
          },
          {
           "lower": 112519317081292.8,
           "timepoint": 18.700000762939453,
           "trajectory": "V_sol",
           "upper": 364732604009676.75
          },
          {
           "lower": 113598426775552,
           "timepoint": 18.80000114440918,
           "trajectory": "V_sol",
           "upper": 368230564626432
          },
          {
           "lower": 114684224287539.2,
           "timepoint": 18.899999618530273,
           "trajectory": "V_sol",
           "upper": 371750223216640
          },
          {
           "lower": 115776811119411.2,
           "timepoint": 19,
           "trajectory": "V_sol",
           "upper": 375291881770188.75
          },
          {
           "lower": 116876181818572.8,
           "timepoint": 19.100000381469727,
           "trajectory": "V_sol",
           "upper": 378855558742016
          },
          {
           "lower": 117982398880153.6,
           "timepoint": 19.200000762939453,
           "trajectory": "V_sol",
           "upper": 382441403449344
          },
          {
           "lower": 119095499633459.2,
           "timepoint": 19.30000114440918,
           "trajectory": "V_sol",
           "upper": 386049602119270.4
          },
          {
           "lower": 120215515955200,
           "timepoint": 19.399999618530273,
           "trajectory": "V_sol",
           "upper": 389680173206732.75
          },
          {
           "lower": 121342478463795.2,
           "timepoint": 19.5,
           "trajectory": "V_sol",
           "upper": 393333163687936
          },
          {
           "lower": 122476478175641.6,
           "timepoint": 19.600000381469727,
           "trajectory": "V_sol",
           "upper": 397009076879360
          },
          {
           "lower": 123617530609664,
           "timepoint": 19.700000762939453,
           "trajectory": "V_sol",
           "upper": 400707854060748.75
          },
          {
           "lower": 124765672256307.2,
           "timepoint": 19.80000114440918,
           "trajectory": "V_sol",
           "upper": 404429634482995.2
          },
          {
           "lower": 125920934992281.6,
           "timepoint": 19.899999618530273,
           "trajectory": "V_sol",
           "upper": 408174517131673.56
          },
          {
           "lower": 127083390540185.6,
           "timepoint": 20,
           "trajectory": "V_sol",
           "upper": 411942545627545.56
          },
          {
           "lower": 128253225965977.6,
           "timepoint": 20.100000381469727,
           "trajectory": "V_sol",
           "upper": 415734208187596.75
          },
          {
           "lower": 129430224004710.4,
           "timepoint": 20.200000762939453,
           "trajectory": "V_sol",
           "upper": 419549451124736
          },
          {
           "lower": 130614541103923.2,
           "timepoint": 20.30000114440918,
           "trajectory": "V_sol",
           "upper": 423388412012134.4
          },
          {
           "lower": 131806186491084.8,
           "timepoint": 20.399999618530273,
           "trajectory": "V_sol",
           "upper": 427251173058150.4
          },
          {
           "lower": 133005291028480,
           "timepoint": 20.5,
           "trajectory": "V_sol",
           "upper": 431137990954188.75
          },
          {
           "lower": 134211810675916.8,
           "timepoint": 20.600000381469727,
           "trajectory": "V_sol",
           "upper": 435049015017472
          },
          {
           "lower": 135425874617958.4,
           "timepoint": 20.700000762939453,
           "trajectory": "V_sol",
           "upper": 438984357655347.2
          },
          {
           "lower": 136647458947072,
           "timepoint": 20.80000114440918,
           "trajectory": "V_sol",
           "upper": 442944148052377.56
          },
          {
           "lower": 137876633288704,
           "timepoint": 20.899999618530273,
           "trajectory": "V_sol",
           "upper": 446928458350592
          },
          {
           "lower": 139113467687731.2,
           "timepoint": 21,
           "trajectory": "V_sol",
           "upper": 450937667715072
          },
          {
           "lower": 140357992762572.8,
           "timepoint": 21.100000381469727,
           "trajectory": "V_sol",
           "upper": 454971754335436.75
          },
          {
           "lower": 141610246681395.2,
           "timepoint": 21.200000762939453,
           "trajectory": "V_sol",
           "upper": 459030944704102.4
          },
          {
           "lower": 142870288583884.8,
           "timepoint": 21.30000114440918,
           "trajectory": "V_sol",
           "upper": 463115332773478.4
          },
          {
           "lower": 144138154960486.4,
           "timepoint": 21.399999618530273,
           "trajectory": "V_sol",
           "upper": 467225030950911.94
          },
          {
           "lower": 145413907048038.4,
           "timepoint": 21.5,
           "trajectory": "V_sol",
           "upper": 471360373103001.56
          },
          {
           "lower": 146697587209011.2,
           "timepoint": 21.600000381469727,
           "trajectory": "V_sol",
           "upper": 475521412916838.4
          },
          {
           "lower": 147989255002521.6,
           "timepoint": 21.700000762939453,
           "trajectory": "V_sol",
           "upper": 479708626865356.75
          },
          {
           "lower": 149288952791040,
           "timepoint": 21.80000114440918,
           "trajectory": "V_sol",
           "upper": 483921551897395.2
          },
          {
           "lower": 150596696093491.2,
           "timepoint": 21.899999618530273,
           "trajectory": "V_sol",
           "upper": 488160605765631.94
          },
          {
           "lower": 151912591445196.8,
           "timepoint": 22,
           "trajectory": "V_sol",
           "upper": 492426080393625.56
          },
          {
           "lower": 153236661495398.4,
           "timepoint": 22.100000381469727,
           "trajectory": "V_sol",
           "upper": 496718059667455.94
          },
          {
           "lower": 154568973352960,
           "timepoint": 22.200000762939453,
           "trajectory": "V_sol",
           "upper": 501036664383078.4
          },
          {
           "lower": 155909548408832,
           "timepoint": 22.30000114440918,
           "trajectory": "V_sol",
           "upper": 505382099222527.94
          },
          {
           "lower": 157258530527641.6,
           "timepoint": 22.399999618530273,
           "trajectory": "V_sol",
           "upper": 509755275188633.56
          },
          {
           "lower": 158615849664512,
           "timepoint": 22.5,
           "trajectory": "V_sol",
           "upper": 514154970900070.4
          },
          {
           "lower": 159981593060966.4,
           "timepoint": 22.600000381469727,
           "trajectory": "V_sol",
           "upper": 518582003407257.56
          },
          {
           "lower": 161355814404096,
           "timepoint": 22.700000762939453,
           "trajectory": "V_sol",
           "upper": 523036558937292.75
          },
          {
           "lower": 162738577447321.6,
           "timepoint": 22.80000114440918,
           "trajectory": "V_sol",
           "upper": 527518749897523.2
          },
          {
           "lower": 164129912809062.4,
           "timepoint": 22.899999618530273,
           "trajectory": "V_sol",
           "upper": 532028717216563.2
          },
          {
           "lower": 165529903955968,
           "timepoint": 23,
           "trajectory": "V_sol",
           "upper": 536566762884300.75
          },
          {
           "lower": 166938590733926.4,
           "timepoint": 23.100000381469727,
           "trajectory": "V_sol",
           "upper": 541133017763020.75
          },
          {
           "lower": 168356033960345.6,
           "timepoint": 23.200000762939453,
           "trajectory": "V_sol",
           "upper": 545727600970956.75
          },
          {
           "lower": 169782270125670.4,
           "timepoint": 23.30000114440918,
           "trajectory": "V_sol",
           "upper": 550350802753945.56
          },
          {
           "lower": 171217349561548.8,
           "timepoint": 23.399999618530273,
           "trajectory": "V_sol",
           "upper": 555002571102617.56
          },
          {
           "lower": 172661378803302.4,
           "timepoint": 23.5,
           "trajectory": "V_sol",
           "upper": 559683253305343.94
          },
          {
           "lower": 174114341073715.2,
           "timepoint": 23.600000381469727,
           "trajectory": "V_sol",
           "upper": 564393020489728
          },
          {
           "lower": 175576352135577.6,
           "timepoint": 23.700000762939453,
           "trajectory": "V_sol",
           "upper": 569132117603123.1
          },
          {
           "lower": 177047428766105.6,
           "timepoint": 23.80000114440918,
           "trajectory": "V_sol",
           "upper": 573900568133632
          },
          {
           "lower": 178527610391756.8,
           "timepoint": 23.899999618530273,
           "trajectory": "V_sol",
           "upper": 578699407235481.5
          },
          {
           "lower": 180017014453043.2,
           "timepoint": 24,
           "trajectory": "V_sol",
           "upper": 583527368228864
          },
          {
           "lower": 181515656049459.2,
           "timepoint": 24.100000381469727,
           "trajectory": "V_sol",
           "upper": 588385323529011.1
          },
          {
           "lower": 183023585512652.8,
           "timepoint": 24.200000762939453,
           "trajectory": "V_sol",
           "upper": 593273368766054.4
          },
          {
           "lower": 184540881695539.2,
           "timepoint": 24.30000114440918,
           "trajectory": "V_sol",
           "upper": 598191871361024
          },
          {
           "lower": 186067575635968,
           "timepoint": 24.399999618530273,
           "trajectory": "V_sol",
           "upper": 603140747427840
          },
          {
           "lower": 187603753736601.6,
           "timepoint": 24.5,
           "trajectory": "V_sol",
           "upper": 608120587524505.5
          },
          {
           "lower": 189149656750489.6,
           "timepoint": 24.600000381469727,
           "trajectory": "V_sol",
           "upper": 613131233945190.4
          },
          {
           "lower": 190705004498124.8,
           "timepoint": 24.700000762939453,
           "trajectory": "V_sol",
           "upper": 618172955125350.4
          },
          {
           "lower": 192270168594841.6,
           "timepoint": 24.80000114440918,
           "trajectory": "V_sol",
           "upper": 623245952391577.5
          },
          {
           "lower": 193844882282905.6,
           "timepoint": 24.899999618530273,
           "trajectory": "V_sol",
           "upper": 628350396871475.1
          },
          {
           "lower": 195429382959923.2,
           "timepoint": 25,
           "trajectory": "V_sol",
           "upper": 633486593910374.4
          },
          {
           "lower": 197023742767923.2,
           "timepoint": 25.100000381469727,
           "trajectory": "V_sol",
           "upper": 638654724702208
          },
          {
           "lower": 198627970095513.6,
           "timepoint": 25.200000762939453,
           "trajectory": "V_sol",
           "upper": 643854883199385.5
          },
          {
           "lower": 200242155539660.8,
           "timepoint": 25.30000114440918,
           "trajectory": "V_sol",
           "upper": 649087324415590.4
          },
          {
           "lower": 201866336849100.8,
           "timepoint": 25.399999618530273,
           "trajectory": "V_sol",
           "upper": 654352115459686.4
          },
          {
           "lower": 203500626431180.8,
           "timepoint": 25.5,
           "trajectory": "V_sol",
           "upper": 659649709316505.5
          },
          {
           "lower": 205145061195776,
           "timepoint": 25.600000381469727,
           "trajectory": "V_sol",
           "upper": 664980085853388.8
          },
          {
           "lower": 206799663792128,
           "timepoint": 25.700000762939453,
           "trajectory": "V_sol",
           "upper": 670343624235417.5
          },
          {
           "lower": 208464575987712,
           "timepoint": 25.80000114440918,
           "trajectory": "V_sol",
           "upper": 675740421770444.8
          },
          {
           "lower": 210139753322905.6,
           "timepoint": 25.899999618530273,
           "trajectory": "V_sol",
           "upper": 681170589188096
          },
          {
           "lower": 211825389574553.6,
           "timepoint": 26,
           "trajectory": "V_sol",
           "upper": 686634250639769.5
          },
          {
           "lower": 213521449510502.4,
           "timepoint": 26.100000381469727,
           "trajectory": "V_sol",
           "upper": 692131986617139.1
          },
          {
           "lower": 215228047215820.8,
           "timepoint": 26.200000762939453,
           "trajectory": "V_sol",
           "upper": 697663921271603.1
          },
          {
           "lower": 216945217922662.4,
           "timepoint": 26.30000114440918,
           "trajectory": "V_sol",
           "upper": 703230128422912
          },
          {
           "lower": 218673016156979.2,
           "timepoint": 26.399999618530273,
           "trajectory": "V_sol",
           "upper": 708830772487782.4
          },
          {
           "lower": 220411570264473.6,
           "timepoint": 26.5,
           "trajectory": "V_sol",
           "upper": 714466269541171.1
          },
          {
           "lower": 222160884439449.6,
           "timepoint": 26.600000381469727,
           "trajectory": "V_sol",
           "upper": 720136599450419.1
          },
          {
           "lower": 223921039212544,
           "timepoint": 26.700000762939453,
           "trajectory": "V_sol",
           "upper": 725842758782156.8
          },
          {
           "lower": 225692176351232,
           "timepoint": 26.80000114440918,
           "trajectory": "V_sol",
           "upper": 731583824789504
          },
          {
           "lower": 227474209452851.2,
           "timepoint": 26.899999618530273,
           "trajectory": "V_sol",
           "upper": 737360297433497.5
          },
          {
           "lower": 229267342360576,
           "timepoint": 27,
           "trajectory": "V_sol",
           "upper": 743172763916697.5
          },
          {
           "lower": 231071573396684.8,
           "timepoint": 27.100000381469727,
           "trajectory": "V_sol",
           "upper": 749021224239104
          },
          {
           "lower": 232887003224473.6,
           "timepoint": 27.200000762939453,
           "trajectory": "V_sol",
           "upper": 754905903215411.1
          },
          {
           "lower": 234713663720652.8,
           "timepoint": 27.30000114440918,
           "trajectory": "V_sol",
           "upper": 760827112901836.8
          },
          {
           "lower": 236551642965606.4,
           "timepoint": 27.399999618530273,
           "trajectory": "V_sol",
           "upper": 766784913696358.4
          },
          {
           "lower": 238401060077568,
           "timepoint": 27.5,
           "trajectory": "V_sol",
           "upper": 772779751872921.5
          },
          {
           "lower": 240261920928563.2,
           "timepoint": 27.600000381469727,
           "trajectory": "V_sol",
           "upper": 778811754938368
          },
          {
           "lower": 242134295982899.2,
           "timepoint": 27.700000762939453,
           "trajectory": "V_sol",
           "upper": 784881094020300.8
          },
          {
           "lower": 244018312747417.6,
           "timepoint": 27.80000114440918,
           "trajectory": "V_sol",
           "upper": 790988097952153.5
          },
          {
           "lower": 245913958639206.4,
           "timepoint": 27.899999618530273,
           "trajectory": "V_sol",
           "upper": 797132749956710.4
          },
          {
           "lower": 247821383814348.8,
           "timepoint": 28,
           "trajectory": "V_sol",
           "upper": 803315610392985.5
          },
          {
           "lower": 249740620988416,
           "timepoint": 28.100000381469727,
           "trajectory": "V_sol",
           "upper": 809536850388582.4
          },
          {
           "lower": 251671734753689.6,
           "timepoint": 28.200000762939453,
           "trajectory": "V_sol",
           "upper": 815796573962240
          },
          {
           "lower": 253614867716505.6,
           "timepoint": 28.30000114440918,
           "trajectory": "V_sol",
           "upper": 822095146857267.1
          },
          {
           "lower": 255569961995468.8,
           "timepoint": 28.399999618530273,
           "trajectory": "V_sol",
           "upper": 828432569073664
          },
          {
           "lower": 257537194590208,
           "timepoint": 28.5,
           "trajectory": "V_sol",
           "upper": 834809310373478.4
          },
          {
           "lower": 259516662808576,
           "timepoint": 28.600000381469727,
           "trajectory": "V_sol",
           "upper": 841225676102041.5
          },
          {
           "lower": 261508348195635.2,
           "timepoint": 28.700000762939453,
           "trajectory": "V_sol",
           "upper": 847681709880115.1
          },
          {
           "lower": 263512384969113.6,
           "timepoint": 28.80000114440918,
           "trajectory": "V_sol",
           "upper": 854178277412044.8
          },
          {
           "lower": 265528680854323.2,
           "timepoint": 28.899999618530273,
           "trajectory": "V_sol",
           "upper": 860714419041075.1
          },
          {
           "lower": 267557620888371.2,
           "timepoint": 29,
           "trajectory": "V_sol",
           "upper": 867291235352576
          },
          {
           "lower": 269599119507456,
           "timepoint": 29.100000381469727,
           "trajectory": "V_sol",
           "upper": 873908682725785.5
          },
          {
           "lower": 271653231237529.6,
           "timepoint": 29.200000762939453,
           "trajectory": "V_sol",
           "upper": 880567163813888
          },
          {
           "lower": 273720090296320,
           "timepoint": 29.30000114440918,
           "trajectory": "V_sol",
           "upper": 887266923564236.8
          },
          {
           "lower": 275799708427878.4,
           "timepoint": 29.399999618530273,
           "trajectory": "V_sol",
           "upper": 894007894867968
          },
          {
           "lower": 277892198878412.8,
           "timepoint": 29.5,
           "trajectory": "V_sol",
           "upper": 900790839410688
          },
          {
           "lower": 279997664827801.6,
           "timepoint": 29.600000381469727,
           "trajectory": "V_sol",
           "upper": 907615666595430.4
          },
          {
           "lower": 282116179256934.4,
           "timepoint": 29.700000762939453,
           "trajectory": "V_sol",
           "upper": 914482809274367.9
          },
          {
           "lower": 284247809274675.2,
           "timepoint": 29.80000114440918,
           "trajectory": "V_sol",
           "upper": 921392371466239.9
          },
          {
           "lower": 286392558236467.2,
           "timepoint": 29.899999618530273,
           "trajectory": "V_sol",
           "upper": 928344614895615.9
          },
          {
           "lower": 288550629985484.8,
           "timepoint": 30,
           "trajectory": "V_sol",
           "upper": 935339955637452.8
          },
          {
           "lower": 290722075692236.8,
           "timepoint": 30.100000381469727,
           "trajectory": "V_sol",
           "upper": 942378588307455.9
          },
          {
           "lower": 292906938977484.8,
           "timepoint": 30.200000762939453,
           "trajectory": "V_sol",
           "upper": 949460751142092.8
          },
          {
           "lower": 295105304566169.6,
           "timepoint": 30.30000114440918,
           "trajectory": "V_sol",
           "upper": 956587826583961.5
          },
          {
           "lower": 297317263894118.4,
           "timepoint": 30.399999618530273,
           "trajectory": "V_sol",
           "upper": 963757972494745.5
          },
          {
           "lower": 299542899169689.6,
           "timepoint": 30.5,
           "trajectory": "V_sol",
           "upper": 970972490786406.4
          },
          {
           "lower": 301782332027699.2,
           "timepoint": 30.600000381469727,
           "trajectory": "V_sol",
           "upper": 978231680093388.8
          },
          {
           "lower": 304035599378022.4,
           "timepoint": 30.700000762939453,
           "trajectory": "V_sol",
           "upper": 985535748453171.1
          },
          {
           "lower": 306302807755980.8,
           "timepoint": 30.80000114440918,
           "trajectory": "V_sol",
           "upper": 992885105229823.9
          },
          {
           "lower": 308583984005120,
           "timepoint": 30.899999618530273,
           "trajectory": "V_sol",
           "upper": 1000279632982835.1
          },
          {
           "lower": 310879815991296,
           "timepoint": 31,
           "trajectory": "V_sol",
           "upper": 1007720717510246.4
          },
          {
           "lower": 313189391872819.2,
           "timepoint": 31.100000381469727,
           "trajectory": "V_sol",
           "upper": 1015207248160358.4
          },
          {
           "lower": 315513252714905.6,
           "timepoint": 31.200000762939453,
           "trajectory": "V_sol",
           "upper": 1022740104059289.5
          },
          {
           "lower": 317851505052876.8,
           "timepoint": 31.30000114440918,
           "trajectory": "V_sol",
           "upper": 1030319523443507.1
          },
          {
           "lower": 320204191668633.6,
           "timepoint": 31.399999618530273,
           "trajectory": "V_sol",
           "upper": 1037945664018841.5
          },
          {
           "lower": 322571385543065.6,
           "timepoint": 31.5,
           "trajectory": "V_sol",
           "upper": 1045619076077977.5
          },
          {
           "lower": 324953290519347.2,
           "timepoint": 31.600000381469727,
           "trajectory": "V_sol",
           "upper": 1053339954236620.8
          },
          {
           "lower": 327349894853427.2,
           "timepoint": 31.700000762939453,
           "trajectory": "V_sol",
           "upper": 1061108634039091.1
          },
          {
           "lower": 329761320180121.6,
           "timepoint": 31.80000114440918,
           "trajectory": "V_sol",
           "upper": 1068925159106150.4
          },
          {
           "lower": 332187611797913.6,
           "timepoint": 31.899999618530273,
           "trajectory": "V_sol",
           "upper": 1076789962289971.1
          },
          {
           "lower": 334628946706432,
           "timepoint": 32,
           "trajectory": "V_sol",
           "upper": 1084703439532851.1
          },
          {
           "lower": 337085392014540.8,
           "timepoint": 32.10000228881836,
           "trajectory": "V_sol",
           "upper": 1092666037108735.9
          },
          {
           "lower": 339556950238822.4,
           "timepoint": 32.20000076293945,
           "trajectory": "V_sol",
           "upper": 1100677510070271.9
          },
          {
           "lower": 342043783279411.2,
           "timepoint": 32.29999923706055,
           "trajectory": "V_sol",
           "upper": 1108738599970406.4
          },
          {
           "lower": 344546061425049.6,
           "timepoint": 32.400001525878906,
           "trajectory": "V_sol",
           "upper": 1116849618865356.8
          },
          {
           "lower": 347063720922316.8,
           "timepoint": 32.5,
           "trajectory": "V_sol",
           "upper": 1125010841901465.5
          },
          {
           "lower": 349597057050214.4,
           "timepoint": 32.60000228881836,
           "trajectory": "V_sol",
           "upper": 1133222440206336
          },
          {
           "lower": 352145920491520,
           "timepoint": 32.70000076293945,
           "trajectory": "V_sol",
           "upper": 1141484574841241.5
          },
          {
           "lower": 354710524316876.8,
           "timepoint": 32.79999923706055,
           "trajectory": "V_sol",
           "upper": 1149797635037593.5
          },
          {
           "lower": 357291088307814.4,
           "timepoint": 32.900001525878906,
           "trajectory": "V_sol",
           "upper": 1158162577096704
          },
          {
           "lower": 359887097403801.6,
           "timepoint": 33,
           "trajectory": "V_sol",
           "upper": 1166578797038796.8
          },
          {
           "lower": 362499618635776,
           "timepoint": 33.10000228881836,
           "trajectory": "V_sol",
           "upper": 1175047163923660.8
          },
          {
           "lower": 365128153720422.4,
           "timepoint": 33.20000076293945,
           "trajectory": "V_sol",
           "upper": 1183567634130534.2
          },
          {
           "lower": 367772892240281.6,
           "timepoint": 33.29999923706055,
           "trajectory": "V_sol",
           "upper": 1192140637156147
          },
          {
           "lower": 370434069076377.6,
           "timepoint": 33.400001525878906,
           "trajectory": "V_sol",
           "upper": 1200766951463321.5
          },
          {
           "lower": 373111555044147.2,
           "timepoint": 33.5,
           "trajectory": "V_sol",
           "upper": 1209446409279897.5
          },
          {
           "lower": 375805684010188.8,
           "timepoint": 33.60000228881836,
           "trajectory": "V_sol",
           "upper": 1218179581031219
          },
          {
           "lower": 378516323434496,
           "timepoint": 33.70000076293945,
           "trajectory": "V_sol",
           "upper": 1226966151305625.5
          },
          {
           "lower": 381243693098598.4,
           "timepoint": 33.79999923706055,
           "trajectory": "V_sol",
           "upper": 1235807267664691
          },
          {
           "lower": 383988024528076.8,
           "timepoint": 33.900001525878906,
           "trajectory": "V_sol",
           "upper": 1244703319339827
          },
          {
           "lower": 386749141562163.2,
           "timepoint": 34,
           "trajectory": "V_sol",
           "upper": 1253653843279872
          },
          {
           "lower": 389527460275814.4,
           "timepoint": 34.10000228881836,
           "trajectory": "V_sol",
           "upper": 1262660060866150.2
          },
          {
           "lower": 392322759209779.2,
           "timepoint": 34.20000076293945,
           "trajectory": "V_sol",
           "upper": 1271721468782182.2
          },
          {
           "lower": 395135333643059.2,
           "timepoint": 34.29999923706055,
           "trajectory": "V_sol",
           "upper": 1280838704562176
          },
          {
           "lower": 397965378191360,
           "timepoint": 34.400001525878906,
           "trajectory": "V_sol",
           "upper": 1290011009875968
          },
          {
           "lower": 400812731793408,
           "timepoint": 34.5,
           "trajectory": "V_sol",
           "upper": 1299241055656345.5
          },
          {
           "lower": 403677750126182.4,
           "timepoint": 34.60000228881836,
           "trajectory": "V_sol",
           "upper": 1308528553335193.5
          },
          {
           "lower": 406560376147148.8,
           "timepoint": 34.70000076293945,
           "trajectory": "V_sol",
           "upper": 1317872670762598.2
          },
          {
           "lower": 409460740718592,
           "timepoint": 34.79999923706055,
           "trajectory": "V_sol",
           "upper": 1327272488547123
          },
          {
           "lower": 412379095498752,
           "timepoint": 34.900001525878906,
           "trajectory": "V_sol",
           "upper": 1336732583513292.8
          },
          {
           "lower": 415315323047116.8,
           "timepoint": 35,
           "trajectory": "V_sol",
           "upper": 1346250506187571
          },
          {
           "lower": 418269914936115.2,
           "timepoint": 35.10000228881836,
           "trajectory": "V_sol",
           "upper": 1355827625590784
          },
          {
           "lower": 421242517166489.6,
           "timepoint": 35.20000076293945,
           "trajectory": "V_sol",
           "upper": 1365463243790745.5
          },
          {
           "lower": 424233396495974.4,
           "timepoint": 35.29999923706055,
           "trajectory": "V_sol",
           "upper": 1375158192937369.5
          },
          {
           "lower": 427242829748633.6,
           "timepoint": 35.400001525878906,
           "trajectory": "V_sol",
           "upper": 1384913472952729.5
          },
          {
           "lower": 430270696128512,
           "timepoint": 35.5,
           "trajectory": "V_sol",
           "upper": 1394728412748185.5
          },
          {
           "lower": 433317347957145.6,
           "timepoint": 35.60000228881836,
           "trajectory": "V_sol",
           "upper": 1404604341079244.8
          },
          {
           "lower": 436382642628198.4,
           "timepoint": 35.70000076293945,
           "trajectory": "V_sol",
           "upper": 1414540600279040
          },
          {
           "lower": 439466786501427.2,
           "timepoint": 35.79999923706055,
           "trajectory": "V_sol",
           "upper": 1424538217113190.2
          },
          {
           "lower": 442570088277606.4,
           "timepoint": 35.900001525878906,
           "trajectory": "V_sol",
           "upper": 1434597701609062.2
          },
          {
           "lower": 445692373473689.6,
           "timepoint": 36,
           "trajectory": "V_sol",
           "upper": 1444718812174745.5
          },
          {
           "lower": 448833986022604.8,
           "timepoint": 36.10000228881836,
           "trajectory": "V_sol",
           "upper": 1454902535310540.8
          },
          {
           "lower": 451994823583334.4,
           "timepoint": 36.20000076293945,
           "trajectory": "V_sol",
           "upper": 1465148797196697.5
          },
          {
           "lower": 455175137814118.4,
           "timepoint": 36.29999923706055,
           "trajectory": "V_sol",
           "upper": 1475456329475686.2
          },
          {
           "lower": 458375148496486.4,
           "timepoint": 36.400001525878906,
           "trajectory": "V_sol",
           "upper": 1485829245920870.2
          },
          {
           "lower": 461594702957772.8,
           "timepoint": 36.5,
           "trajectory": "V_sol",
           "upper": 1496265640640512
          },
          {
           "lower": 464834245794201.6,
           "timepoint": 36.60000228881836,
           "trajectory": "V_sol",
           "upper": 1506766493424025.5
          },
          {
           "lower": 468093537091584,
           "timepoint": 36.70000076293945,
           "trajectory": "V_sol",
           "upper": 1517331764006092.8
          },
          {
           "lower": 471372883872972.8,
           "timepoint": 36.79999923706055,
           "trajectory": "V_sol",
           "upper": 1527962485863219
          },
          {
           "lower": 474672589805977.6,
           "timepoint": 36.900001525878906,
           "trajectory": "V_sol",
           "upper": 1538658793213132.8
          },
          {
           "lower": 477992455241728,
           "timepoint": 37,
           "trajectory": "V_sol",
           "upper": 1549420263269990.2
          },
          {
           "lower": 481333399571660.8,
           "timepoint": 37.10000228881836,
           "trajectory": "V_sol",
           "upper": 1560248459670323
          },
          {
           "lower": 484694327243571.2,
           "timepoint": 37.20000076293945,
           "trajectory": "V_sol",
           "upper": 1571142711325491
          },
          {
           "lower": 488075877469388.8,
           "timepoint": 37.29999923706055,
           "trajectory": "V_sol",
           "upper": 1582104152375296
          },
          {
           "lower": 491478365660774.4,
           "timepoint": 37.400001525878906,
           "trajectory": "V_sol",
           "upper": 1593133319690649.5
          },
          {
           "lower": 494901689476710.4,
           "timepoint": 37.5,
           "trajectory": "V_sol",
           "upper": 1604229897859891
          },
          {
           "lower": 498346189494681.6,
           "timepoint": 37.60000228881836,
           "trajectory": "V_sol",
           "upper": 1615395081420800
          },
          {
           "lower": 501811719752908.8,
           "timepoint": 37.70000076293945,
           "trajectory": "V_sol",
           "upper": 1626628481141964.8
          },
          {
           "lower": 505298523521024,
           "timepoint": 37.79999923706055,
           "trajectory": "V_sol",
           "upper": 1637930875486208
          },
          {
           "lower": 508806929632460.8,
           "timepoint": 37.900001525878906,
           "trajectory": "V_sol",
           "upper": 1649303244242944
          },
          {
           "lower": 512336829035315.2,
           "timepoint": 38,
           "trajectory": "V_sol",
           "upper": 1660745023697715
          },
          {
           "lower": 515888404601241.6,
           "timepoint": 38.10000228881836,
           "trajectory": "V_sol",
           "upper": 1672257408388300.8
          },
          {
           "lower": 519461777126195.2,
           "timepoint": 38.20000076293945,
           "trajectory": "V_sol",
           "upper": 1683840243964313.5
          },
          {
           "lower": 523057129481830.4,
           "timepoint": 38.29999923706055,
           "trajectory": "V_sol",
           "upper": 1695496181225881.5
          },
          {
           "lower": 526674657961574.4,
           "timepoint": 38.400001525878906,
           "trajectory": "V_sol",
           "upper": 1707222576083763
          },
          {
           "lower": 530314293778841.6,
           "timepoint": 38.5,
           "trajectory": "V_sol",
           "upper": 1719020421749145.5
          },
          {
           "lower": 533976439586816,
           "timepoint": 38.60000228881836,
           "trajectory": "V_sol",
           "upper": 1730891194617036.8
          },
          {
           "lower": 537660907480678.4,
           "timepoint": 38.70000076293945,
           "trajectory": "V_sol",
           "upper": 1742835082592256
          },
          {
           "lower": 541368224265011.2,
           "timepoint": 38.79999923706055,
           "trajectory": "V_sol",
           "upper": 1754851609201868.8
          },
          {
           "lower": 545098284243353.6,
           "timepoint": 38.900001525878906,
           "trajectory": "V_sol",
           "upper": 1766942613228748.8
          },
          {
           "lower": 548850834079744,
           "timepoint": 39,
           "trajectory": "V_sol",
           "upper": 1779107262522982.2
          },
          {
           "lower": 552626833430937.6,
           "timepoint": 39.10000228881836,
           "trajectory": "V_sol",
           "upper": 1791346999925145.5
          },
          {
           "lower": 556425836022988.8,
           "timepoint": 39.20000076293945,
           "trajectory": "V_sol",
           "upper": 1803661590554214.2
          },
          {
           "lower": 560248177400217.6,
           "timepoint": 39.29999923706055,
           "trajectory": "V_sol",
           "upper": 1816051611546419
          },
          {
           "lower": 564094075666432,
           "timepoint": 39.400001525878906,
           "trajectory": "V_sol",
           "upper": 1828518170198015.8
          },
          {
           "lower": 567963525788467.2,
           "timepoint": 39.5,
           "trajectory": "V_sol",
           "upper": 1841060622263910.2
          },
          {
           "lower": 571856807945830.4,
           "timepoint": 39.60000228881836,
           "trajectory": "V_sol",
           "upper": 1853680699152793.5
          },
          {
           "lower": 575773781209907.2,
           "timepoint": 39.70000076293945,
           "trajectory": "V_sol",
           "upper": 1866377535160319.8
          },
          {
           "lower": 579714848233881.6,
           "timepoint": 39.79999923706055,
           "trajectory": "V_sol",
           "upper": 1879152472463769.5
          },
          {
           "lower": 583680215377510.4,
           "timepoint": 39.900001525878906,
           "trajectory": "V_sol",
           "upper": 1892006182151782.2
          },
          {
           "lower": 587669773588889.6,
           "timepoint": 40,
           "trajectory": "V_sol",
           "upper": 1904937932737740.8
          },
          {
           "lower": 591683803047526.4,
           "timepoint": 40.099998474121094,
           "trajectory": "V_sol",
           "upper": 1917949261014630.2
          },
          {
           "lower": 595722614131916.8,
           "timepoint": 40.20000076293945,
           "trajectory": "V_sol",
           "upper": 1931042636588646.2
          },
          {
           "lower": 599785963572428.8,
           "timepoint": 40.29999923706055,
           "trajectory": "V_sol",
           "upper": 1944214086615039.8
          },
          {
           "lower": 603874337908326.4,
           "timepoint": 40.39999771118164,
           "trajectory": "V_sol",
           "upper": 1957466362557235
          },
          {
           "lower": 607987859613286.4,
           "timepoint": 40.5,
           "trajectory": "V_sol",
           "upper": 1970800303276031.8
          },
          {
           "lower": 612126521976422.4,
           "timepoint": 40.599998474121094,
           "trajectory": "V_sol",
           "upper": 1984215492696473.5
          },
          {
           "lower": 616290642087116.8,
           "timepoint": 40.70000076293945,
           "trajectory": "V_sol",
           "upper": 1997712809944678.2
          },
          {
           "lower": 620479439804825.6,
           "timepoint": 40.79999923706055,
           "trajectory": "V_sol",
           "upper": 2011292637541171
          },
          {
           "lower": 624694537486336,
           "timepoint": 40.89999771118164,
           "trajectory": "V_sol",
           "upper": 2024955901588275
          },
          {
           "lower": 628935604620492.8,
           "timepoint": 41,
           "trajectory": "V_sol",
           "upper": 2038703273174630.2
          },
          {
           "lower": 633202439880704,
           "timepoint": 41.099998474121094,
           "trajectory": "V_sol",
           "upper": 2052534517419212.8
          },
          {
           "lower": 637495591881932.8,
           "timepoint": 41.20000076293945,
           "trajectory": "V_sol",
           "upper": 2066450748329164.8
          },
          {
           "lower": 641814840842649.6,
           "timepoint": 41.29999923706055,
           "trajectory": "V_sol",
           "upper": 2080451892084735.8
          },
          {
           "lower": 646160559217049.6,
           "timepoint": 41.39999771118164,
           "trajectory": "V_sol",
           "upper": 2094538532533043
          },
          {
           "lower": 650533013762867.2,
           "timepoint": 41.5,
           "trajectory": "V_sol",
           "upper": 2108712038694911.8
          },
          {
           "lower": 654932113883136,
           "timepoint": 41.599998474121094,
           "trajectory": "V_sol",
           "upper": 2122971726059929.5
          },
          {
           "lower": 659358267264204.8,
           "timepoint": 41.70000076293945,
           "trajectory": "V_sol",
           "upper": 2137319144842854.2
          },
          {
           "lower": 663811346399232,
           "timepoint": 41.79999923706055,
           "trajectory": "V_sol",
           "upper": 2151754160825958.2
          },
          {
           "lower": 668291594557849.6,
           "timepoint": 41.89999771118164,
           "trajectory": "V_sol",
           "upper": 2166277129686220.8
          },
          {
           "lower": 672799474791219.2,
           "timepoint": 42,
           "trajectory": "V_sol",
           "upper": 2180889621771059
          },
          {
           "lower": 677334774028697.6,
           "timepoint": 42.099998474121094,
           "trajectory": "V_sol",
           "upper": 2195591019678924.8
          },
          {
           "lower": 681897948610560,
           "timepoint": 42.20000076293945,
           "trajectory": "V_sol",
           "upper": 2210382021342003
          },
          {
           "lower": 686488829086924.8,
           "timepoint": 42.29999923706055,
           "trajectory": "V_sol",
           "upper": 2225263653525913.5
          },
          {
           "lower": 691107797978316.8,
           "timepoint": 42.39999771118164,
           "trajectory": "V_sol",
           "upper": 2240236164533452.8
          },
          {
           "lower": 695755184118169.6,
           "timepoint": 42.5,
           "trajectory": "V_sol",
           "upper": 2255300862987468.5
          },
          {
           "lower": 700430762691788.8,
           "timepoint": 42.599998474121094,
           "trajectory": "V_sol",
           "upper": 2270456762387660.5
          },
          {
           "lower": 705135221565030.4,
           "timepoint": 42.70000076293945,
           "trajectory": "V_sol",
           "upper": 2285706224966041.5
          },
          {
           "lower": 709868362766745.6,
           "timepoint": 42.79999923706055,
           "trajectory": "V_sol",
           "upper": 2301048056184832
          },
          {
           "lower": 714630206429593.6,
           "timepoint": 42.89999771118164,
           "trajectory": "V_sol",
           "upper": 2316483685462835
          },
          {
           "lower": 719421326334361.6,
           "timepoint": 43,
           "trajectory": "V_sol",
           "upper": 2332014689858355
          },
          {
           "lower": 724241521154457.6,
           "timepoint": 43.099998474121094,
           "trajectory": "V_sol",
           "upper": 2347639230588518
          },
          {
           "lower": 729091351248896,
           "timepoint": 43.20000076293945,
           "trajectory": "V_sol",
           "upper": 2363360340973977.5
          },
          {
           "lower": 733970568314880,
           "timepoint": 43.29999923706055,
           "trajectory": "V_sol",
           "upper": 2379176678837452.5
          },
          {
           "lower": 738879689090662.4,
           "timepoint": 43.39999771118164,
           "trajectory": "V_sol",
           "upper": 2395089680308633.5
          },
          {
           "lower": 743818810884096,
           "timepoint": 43.5,
           "trajectory": "V_sol",
           "upper": 2411100472816435
          },
          {
           "lower": 748787970605056,
           "timepoint": 43.599998474121094,
           "trajectory": "V_sol",
           "upper": 2427208197367398
          },
          {
           "lower": 753787661503692.8,
           "timepoint": 43.70000076293945,
           "trajectory": "V_sol",
           "upper": 2443414934336307
          },
          {
           "lower": 758817608433664,
           "timepoint": 43.79999923706055,
           "trajectory": "V_sol",
           "upper": 2459720213961113.5
          },
          {
           "lower": 763878361687654.4,
           "timepoint": 43.89999771118164,
           "trajectory": "V_sol",
           "upper": 2476124720752230
          },
          {
           "lower": 768970095748710.4,
           "timepoint": 44,
           "trajectory": "V_sol",
           "upper": 2492630119009484.5
          },
          {
           "lower": 774092659621888,
           "timepoint": 44.099998474121094,
           "trajectory": "V_sol",
           "upper": 2509232945915494
          },
          {
           "lower": 779246697552281.6,
           "timepoint": 44.20000076293945,
           "trajectory": "V_sol",
           "upper": 2525939872091340.5
          },
          {
           "lower": 784431937748992,
           "timepoint": 44.29999923706055,
           "trajectory": "V_sol",
           "upper": 2542748226604236.5
          },
          {
           "lower": 789648779509760,
           "timepoint": 44.39999771118164,
           "trajectory": "V_sol",
           "upper": 2559659056352460.5
          },
          {
           "lower": 794897638909542.4,
           "timepoint": 44.5,
           "trajectory": "V_sol",
           "upper": 2576670267539456
          },
          {
           "lower": 800177620045004.8,
           "timepoint": 44.599998474121094,
           "trajectory": "V_sol",
           "upper": 2593787027547750
          },
          {
           "lower": 805490692561305.6,
           "timepoint": 44.70000076293945,
           "trajectory": "V_sol",
           "upper": 2611009121628979
          },
          {
           "lower": 810835799493836.8,
           "timepoint": 44.79999923706055,
           "trajectory": "V_sol",
           "upper": 2628335127075225.5
          },
          {
           "lower": 816213477713510.4,
           "timepoint": 44.89999771118164,
           "trajectory": "V_sol",
           "upper": 2645767003465318
          },
          {
           "lower": 821624056053760,
           "timepoint": 45,
           "trajectory": "V_sol",
           "upper": 2663305529262080
          },
          {
           "lower": 827067407007744,
           "timepoint": 45.099998474121094,
           "trajectory": "V_sol",
           "upper": 2680950167594598
          },
          {
           "lower": 832544047313715.2,
           "timepoint": 45.20000076293945,
           "trajectory": "V_sol",
           "upper": 2698702797511065.5
          },
          {
           "lower": 838053893085593.6,
           "timepoint": 45.29999923706055,
           "trajectory": "V_sol",
           "upper": 2716562734501068.5
          },
          {
           "lower": 843597169138073.6,
           "timepoint": 45.39999771118164,
           "trajectory": "V_sol",
           "upper": 2734531522068480
          },
          {
           "lower": 849174422408396.8,
           "timepoint": 45.5,
           "trajectory": "V_sol",
           "upper": 2752610153424486
          },
          {
           "lower": 854785337484902.4,
           "timepoint": 45.599998474121094,
           "trajectory": "V_sol",
           "upper": 2770798386977177.5
          },
          {
           "lower": 860430676053196.8,
           "timepoint": 45.70000076293945,
           "trajectory": "V_sol",
           "upper": 2789097591747379
          },
          {
           "lower": 866110022038323.2,
           "timepoint": 45.79999923706055,
           "trajectory": "V_sol",
           "upper": 2807509391769600
          },
          {
           "lower": 871823925732966.4,
           "timepoint": 45.89999771118164,
           "trajectory": "V_sol",
           "upper": 2826031317437644.5
          },
          {
           "lower": 877572739458662.4,
           "timepoint": 46,
           "trajectory": "V_sol",
           "upper": 2844667046317260.5
          },
          {
           "lower": 883356328997683.2,
           "timepoint": 46.099998474121094,
           "trajectory": "V_sol",
           "upper": 2863414940952166
          },
          {
           "lower": 889175187600179.2,
           "timepoint": 46.20000076293945,
           "trajectory": "V_sol",
           "upper": 2882275417417318
          },
          {
           "lower": 895029436062105.6,
           "timepoint": 46.29999923706055,
           "trajectory": "V_sol",
           "upper": 2901251602985779
          },
          {
           "lower": 900919027407257.6,
           "timepoint": 46.39999771118164,
           "trajectory": "V_sol",
           "upper": 2920342933943091
          },
          {
           "lower": 906845105841766.4,
           "timepoint": 46.5,
           "trajectory": "V_sol",
           "upper": 2939550873262489.5
          },
          {
           "lower": 912806510382284.8,
           "timepoint": 46.599998474121094,
           "trajectory": "V_sol",
           "upper": 2958874884073062
          },
          {
           "lower": 918804341614182.4,
           "timepoint": 46.70000076293945,
           "trajectory": "V_sol",
           "upper": 2978316993062502
          },
          {
           "lower": 924838391499980.8,
           "timepoint": 46.79999923706055,
           "trajectory": "V_sol",
           "upper": 2997876005693030
          },
          {
           "lower": 930909009005772.8,
           "timepoint": 46.89999771118164,
           "trajectory": "V_sol",
           "upper": 3017553894965248
          },
          {
           "lower": 937016771267788.8,
           "timepoint": 47,
           "trajectory": "V_sol",
           "upper": 3037351935947571
          },
          {
           "lower": 943161124637900.8,
           "timepoint": 47.099998474121094,
           "trajectory": "V_sol",
           "upper": 3057269511238451
          },
          {
           "lower": 949343152924262.4,
           "timepoint": 47.20000076293945,
           "trajectory": "V_sol",
           "upper": 3077308580416716.5
          },
          {
           "lower": 955562466895462.4,
           "timepoint": 47.29999923706055,
           "trajectory": "V_sol",
           "upper": 3097468016053452.5
          },
          {
           "lower": 961819418873036.8,
           "timepoint": 47.39999771118164,
           "trajectory": "V_sol",
           "upper": 3117750113271808
          },
          {
           "lower": 968114582637772.8,
           "timepoint": 47.5,
           "trajectory": "V_sol",
           "upper": 3138158214093209.5
          },
          {
           "lower": 974447481716736,
           "timepoint": 47.599998474121094,
           "trajectory": "V_sol",
           "upper": 3158687204822220.5
          },
          {
           "lower": 980819018724147.2,
           "timepoint": 47.70000076293945,
           "trajectory": "V_sol",
           "upper": 3179341393847910
          },
          {
           "lower": 987228962134425.6,
           "timepoint": 47.79999923706055,
           "trajectory": "V_sol",
           "upper": 3200120002707456
          },
          {
           "lower": 993677724667084.8,
           "timepoint": 47.89999771118164,
           "trajectory": "V_sol",
           "upper": 3221024400421683
          },
          {
           "lower": 1000166024386969.6,
           "timepoint": 48,
           "trajectory": "V_sol",
           "upper": 3242053271656857.5
          },
          {
           "lower": 1006693096253030.4,
           "timepoint": 48.099998474121094,
           "trajectory": "V_sol",
           "upper": 3263211126128640
          },
          {
           "lower": 1013260198556467.2,
           "timepoint": 48.19999694824219,
           "trajectory": "V_sol",
           "upper": 3284497601449164.5
          },
          {
           "lower": 1019866764227379.2,
           "timepoint": 48.29999923706055,
           "trajectory": "V_sol",
           "upper": 3305913086849843
          },
          {
           "lower": 1026513427444531.2,
           "timepoint": 48.400001525878906,
           "trajectory": "V_sol",
           "upper": 3327458535276544
          },
          {
           "lower": 1033200043923865.6,
           "timepoint": 48.5,
           "trajectory": "V_sol",
           "upper": 3349133503810764.5
          },
          {
           "lower": 1039927100204646.4,
           "timepoint": 48.599998474121094,
           "trajectory": "V_sol",
           "upper": 3370939240677376
          },
          {
           "lower": 1046694707016499.2,
           "timepoint": 48.69999694824219,
           "trajectory": "V_sol",
           "upper": 3392877235693158
          },
          {
           "lower": 1053503666310348.8,
           "timepoint": 48.79999923706055,
           "trajectory": "V_sol",
           "upper": 3414948388116889.5
          },
          {
           "lower": 1060353652608204.8,
           "timepoint": 48.900001525878906,
           "trajectory": "V_sol",
           "upper": 3437153261663027
          },
          {
           "lower": 1067244917568307.2,
           "timepoint": 49,
           "trajectory": "V_sol",
           "upper": 3459491614739660.5
          },
          {
           "lower": 1074177524944076.8,
           "timepoint": 49.099998474121094,
           "trajectory": "V_sol",
           "upper": 3481964588197478
          },
          {
           "lower": 1081152216288460.8,
           "timepoint": 49.19999694824219,
           "trajectory": "V_sol",
           "upper": 3504572275988889.5
          },
          {
           "lower": 1088169431164518.4,
           "timepoint": 49.29999923706055,
           "trajectory": "V_sol",
           "upper": 3527318476475596.5
          },
          {
           "lower": 1095228803828940.8,
           "timepoint": 49.400001525878906,
           "trajectory": "V_sol",
           "upper": 3550201766949683
          },
          {
           "lower": 1102330589295411.2,
           "timepoint": 49.5,
           "trajectory": "V_sol",
           "upper": 3573222536642560
          },
          {
           "lower": 1109475166729011.2,
           "timepoint": 49.599998474121094,
           "trajectory": "V_sol",
           "upper": 3596382154575052.5
          },
          {
           "lower": 1116663009247232,
           "timepoint": 49.69999694824219,
           "trajectory": "V_sol",
           "upper": 3619679882549657.5
          },
          {
           "lower": 1123894542991360,
           "timepoint": 49.79999923706055,
           "trajectory": "V_sol",
           "upper": 3643120538982809.5
          },
          {
           "lower": 1131169637099110.5,
           "timepoint": 49.900001525878906,
           "trajectory": "V_sol",
           "upper": 3666702634057727.5
          },
          {
           "lower": 1138488204328960,
           "timepoint": 50,
           "trajectory": "V_sol",
           "upper": 3690425993291366
          },
          {
           "lower": 1145850925835878.5,
           "timepoint": 50.099998474121094,
           "trajectory": "V_sol",
           "upper": 3714292200452915
          },
          {
           "lower": 1153257986169241.5,
           "timepoint": 50.19999694824219,
           "trajectory": "V_sol",
           "upper": 3738302476923699
          },
          {
           "lower": 1160710016152371.2,
           "timepoint": 50.29999923706055,
           "trajectory": "V_sol",
           "upper": 3762458245411635
          },
          {
           "lower": 1168206898344755.2,
           "timepoint": 50.400001525878906,
           "trajectory": "V_sol",
           "upper": 3786759666977996.5
          },
          {
           "lower": 1175748750186905.5,
           "timepoint": 50.5,
           "trajectory": "V_sol",
           "upper": 3811206312126054
          },
          {
           "lower": 1183335830047948.8,
           "timepoint": 50.599998474121094,
           "trajectory": "V_sol",
           "upper": 3835800368604774
          },
          {
           "lower": 1190968745263104,
           "timepoint": 50.69999694824219,
           "trajectory": "V_sol",
           "upper": 3860542453815705.5
          },
          {
           "lower": 1198647838087577.5,
           "timepoint": 50.79999923706055,
           "trajectory": "V_sol",
           "upper": 3885434419963494
          },
          {
           "lower": 1206373168919347.2,
           "timepoint": 50.900001525878906,
           "trajectory": "V_sol",
           "upper": 3910475971769139
          },
          {
           "lower": 1214144677360435.2,
           "timepoint": 51,
           "trajectory": "V_sol",
           "upper": 3935667404511641.5
          },
          {
           "lower": 1221962849950105.5,
           "timepoint": 51.099998474121094,
           "trajectory": "V_sol",
           "upper": 3961010476443238
          },
          {
           "lower": 1229828112829644.8,
           "timepoint": 51.19999694824219,
           "trajectory": "V_sol",
           "upper": 3986505576795340.5
          },
          {
           "lower": 1237741063267942.5,
           "timepoint": 51.29999923706055,
           "trajectory": "V_sol",
           "upper": 4012155242283007.5
          },
          {
           "lower": 1245701385853337.5,
           "timepoint": 51.400001525878906,
           "trajectory": "V_sol",
           "upper": 4037958506538598
          },
          {
           "lower": 1253708996699750.5,
           "timepoint": 51.5,
           "trajectory": "V_sol",
           "upper": 4063916335929753.5
          },
          {
           "lower": 1261764801776844.8,
           "timepoint": 51.599998474121094,
           "trajectory": "V_sol",
           "upper": 4090029831041843
          },
          {
           "lower": 1269869076230963.2,
           "timepoint": 51.69999694824219,
           "trajectory": "V_sol",
           "upper": 4116300065616691
          },
          {
           "lower": 1278022390487449.5,
           "timepoint": 51.79999923706055,
           "trajectory": "V_sol",
           "upper": 4142729482416947
          },
          {
           "lower": 1286224610328576,
           "timepoint": 51.900001525878906,
           "trajectory": "V_sol",
           "upper": 4169317249292697.5
          },
          {
           "lower": 1294475749176115.2,
           "timepoint": 52,
           "trajectory": "V_sol",
           "upper": 4196063540726988.5
          },
          {
           "lower": 1302776400943513.5,
           "timepoint": 52.099998474121094,
           "trajectory": "V_sol",
           "upper": 4222970477359923
          },
          {
           "lower": 1311126666294067.2,
           "timepoint": 52.19999694824219,
           "trajectory": "V_sol",
           "upper": 4250038891341414
          },
          {
           "lower": 1319527481396428.8,
           "timepoint": 52.29999923706055,
           "trajectory": "V_sol",
           "upper": 4277270366440652.5
          },
          {
           "lower": 1327978554327040,
           "timepoint": 52.400001525878906,
           "trajectory": "V_sol",
           "upper": 4304665224780185.5
          },
          {
           "lower": 1336479921995776,
           "timepoint": 52.5,
           "trajectory": "V_sol",
           "upper": 4332223439516467
          },
          {
           "lower": 1345032205159628.8,
           "timepoint": 52.599998474121094,
           "trajectory": "V_sol",
           "upper": 4359942903431167.5
          },
          {
           "lower": 1353635695742156.8,
           "timepoint": 52.69999694824219,
           "trajectory": "V_sol",
           "upper": 4387831776962150
          },
          {
           "lower": 1362290967524147.2,
           "timepoint": 52.79999923706055,
           "trajectory": "V_sol",
           "upper": 4415888476340223.5
          },
          {
           "lower": 1370998141301555.2,
           "timepoint": 52.900001525878906,
           "trajectory": "V_sol",
           "upper": 4444113095517798
          },
          {
           "lower": 1379756962060697.5,
           "timepoint": 53,
           "trajectory": "V_sol",
           "upper": 4472505513698918
          },
          {
           "lower": 1388568282084147.2,
           "timepoint": 53.099998474121094,
           "trajectory": "V_sol",
           "upper": 4501069274231603
          },
          {
           "lower": 1397433235511705.5,
           "timepoint": 53.19999694824219,
           "trajectory": "V_sol",
           "upper": 4529802779924889
          },
          {
           "lower": 1406351312316006.5,
           "timepoint": 53.29999923706055,
           "trajectory": "V_sol",
           "upper": 4558708916459929
          },
          {
           "lower": 1415322150109184,
           "timepoint": 53.400001525878906,
           "trajectory": "V_sol",
           "upper": 4587788099911680
          },
          {
           "lower": 1424346352871014.5,
           "timepoint": 53.5,
           "trajectory": "V_sol",
           "upper": 4617039739722137
          },
          {
           "lower": 1433424282989363.2,
           "timepoint": 53.599998474121094,
           "trajectory": "V_sol",
           "upper": 4646466506824089
          },
          {
           "lower": 1442556638396416,
           "timepoint": 53.69999694824219,
           "trajectory": "V_sol",
           "upper": 4676068414639308
          },
          {
           "lower": 1451743781480038.5,
           "timepoint": 53.79999923706055,
           "trajectory": "V_sol",
           "upper": 4705848858876313
          },
          {
           "lower": 1460985873301504,
           "timepoint": 53.900001525878906,
           "trajectory": "V_sol",
           "upper": 4735806336296550
          },
          {
           "lower": 1470282752799539.2,
           "timepoint": 54,
           "trajectory": "V_sol",
           "upper": 4765941517988659
          },
          {
           "lower": 1479635252124057.5,
           "timepoint": 54.099998474121094,
           "trajectory": "V_sol",
           "upper": 4796257088307200
          },
          {
           "lower": 1489043377985945.5,
           "timepoint": 54.19999694824219,
           "trajectory": "V_sol",
           "upper": 4826752617755443
          },
          {
           "lower": 1498508096752844.8,
           "timepoint": 54.29999923706055,
           "trajectory": "V_sol",
           "upper": 4857433287137689
          },
          {
           "lower": 1508029200387276.8,
           "timepoint": 54.400001525878906,
           "trajectory": "V_sol",
           "upper": 4888295365201100
          },
          {
           "lower": 1517606836528742.5,
           "timepoint": 54.5,
           "trajectory": "V_sol",
           "upper": 4919339845156864
          },
          {
           "lower": 1527241622578790.5,
           "timepoint": 54.599998474121094,
           "trajectory": "V_sol",
           "upper": 4950570082448179
          },
          {
           "lower": 1536933779996672,
           "timepoint": 54.69999694824219,
           "trajectory": "V_sol",
           "upper": 4981985701265408
          },
          {
           "lower": 1546682073979289.5,
           "timepoint": 54.79999923706055,
           "trajectory": "V_sol",
           "upper": 5013589815459840
          },
          {
           "lower": 1556490000898457.5,
           "timepoint": 54.900001525878906,
           "trajectory": "V_sol",
           "upper": 5045381888160563
          },
          {
           "lower": 1566356238709555.2,
           "timepoint": 55,
           "trajectory": "V_sol",
           "upper": 5077362268333670
          },
          {
           "lower": 1576278532554752,
           "timepoint": 55.099998474121094,
           "trajectory": "V_sol",
           "upper": 5109532271312896
          },
          {
           "lower": 1586262103503667.2,
           "timepoint": 55.19999694824219,
           "trajectory": "V_sol",
           "upper": 5141894044581888
          },
          {
           "lower": 1596305273834700.8,
           "timepoint": 55.29999923706055,
           "trajectory": "V_sol",
           "upper": 5174449145066291
          },
          {
           "lower": 1606408070391398.5,
           "timepoint": 55.400001525878906,
           "trajectory": "V_sol",
           "upper": 5207198217011200
          },
          {
           "lower": 1616570466330214.5,
           "timepoint": 55.5,
           "trajectory": "V_sol",
           "upper": 5240140616171520
          },
          {
           "lower": 1626793327355494.5,
           "timepoint": 55.599998474121094,
           "trajectory": "V_sol",
           "upper": 5273278060534169
          },
          {
           "lower": 1637076921902694.5,
           "timepoint": 55.69999694824219,
           "trajectory": "V_sol",
           "upper": 5306613476045619
          },
          {
           "lower": 1647421847240704,
           "timepoint": 55.79999923706055,
           "trajectory": "V_sol",
           "upper": 5340147345889689
          },
          {
           "lower": 1657828150345728,
           "timepoint": 55.900001525878906,
           "trajectory": "V_sol",
           "upper": 5373880260624384
          },
          {
           "lower": 1668295918459289.5,
           "timepoint": 56,
           "trajectory": "V_sol",
           "upper": 5407805482519756
          },
          {
           "lower": 1678825513969254.5,
           "timepoint": 56.099998474121094,
           "trajectory": "V_sol",
           "upper": 5441937453403340
          },
          {
           "lower": 1689417634807808,
           "timepoint": 56.19999694824219,
           "trajectory": "V_sol",
           "upper": 5476272468865843
          },
          {
           "lower": 1700072985618022.5,
           "timepoint": 56.29999923706055,
           "trajectory": "V_sol",
           "upper": 5510811710023270
          },
          {
           "lower": 1710790405416550.5,
           "timepoint": 56.400001525878906,
           "trajectory": "V_sol",
           "upper": 5545555311093350
          },
          {
           "lower": 1721571692720947.2,
           "timepoint": 56.5,
           "trajectory": "V_sol",
           "upper": 5580503621042176
          },
          {
           "lower": 1732417411245670.5,
           "timepoint": 56.599998474121094,
           "trajectory": "V_sol",
           "upper": 5615658304169574
          },
          {
           "lower": 1743326755684352,
           "timepoint": 56.69999694824219,
           "trajectory": "V_sol",
           "upper": 5651021105306009
          },
          {
           "lower": 1754301061503385.5,
           "timepoint": 56.79999923706055,
           "trajectory": "V_sol",
           "upper": 5686594520901222
          },
          {
           "lower": 1765340301859225.5,
           "timepoint": 56.900001525878906,
           "trajectory": "V_sol",
           "upper": 5722378550955212
          },
          {
           "lower": 1776444369377689.5,
           "timepoint": 57,
           "trajectory": "V_sol",
           "upper": 5758372417005158
          },
          {
           "lower": 1787613955280076.8,
           "timepoint": 57.099998474121094,
           "trajectory": "V_sol",
           "upper": 5794578508126617
          },
          {
           "lower": 1798849636702617.5,
           "timepoint": 57.19999694824219,
           "trajectory": "V_sol",
           "upper": 5830998971803238
          },
          {
           "lower": 1810152004203315.2,
           "timepoint": 57.29999923706055,
           "trajectory": "V_sol",
           "upper": 5867635713926758
          },
          {
           "lower": 1821521051071283.2,
           "timepoint": 57.400001525878906,
           "trajectory": "V_sol",
           "upper": 5904488385531084
          },
          {
           "lower": 1832956931656908.8,
           "timepoint": 57.5,
           "trajectory": "V_sol",
           "upper": 5941557738235494
          },
          {
           "lower": 1844460209674649.5,
           "timepoint": 57.599998474121094,
           "trajectory": "V_sol",
           "upper": 5978845167904358
          },
          {
           "lower": 1856031381730099.2,
           "timepoint": 57.69999694824219,
           "trajectory": "V_sol",
           "upper": 6016352875708416
          },
          {
           "lower": 1867671253129625.5,
           "timepoint": 57.79999923706055,
           "trajectory": "V_sol",
           "upper": 6054083546002227
          },
          {
           "lower": 1879378434719744,
           "timepoint": 57.900001525878906,
           "trajectory": "V_sol",
           "upper": 6092036158731059
          },
          {
           "lower": 1891155134382080,
           "timepoint": 58,
           "trajectory": "V_sol",
           "upper": 6130210821269094
          },
          {
           "lower": 1903001540021452.8,
           "timepoint": 58.099998474121094,
           "trajectory": "V_sol",
           "upper": 6168609707943526
          },
          {
           "lower": 1914917490576588.8,
           "timepoint": 58.19999694824219,
           "trajectory": "V_sol",
           "upper": 6207235127299276
          },
          {
           "lower": 1926903918860697.5,
           "timepoint": 58.29999923706055,
           "trajectory": "V_sol",
           "upper": 6246089226819993
          },
          {
           "lower": 1938960630258073.5,
           "timepoint": 58.400001525878906,
           "trajectory": "V_sol",
           "upper": 6285171415947673
          },
          {
           "lower": 1951088208615833.5,
           "timepoint": 58.5,
           "trajectory": "V_sol",
           "upper": 6324481989961318
          },
          {
           "lower": 1963286606957772.8,
           "timepoint": 58.599998474121094,
           "trajectory": "V_sol",
           "upper": 6364024223773491
          },
          {
           "lower": 1975556992978124.8,
           "timepoint": 58.69999694824219,
           "trajectory": "V_sol",
           "upper": 6403797822105190
          },
          {
           "lower": 1987900145139712,
           "timepoint": 58.79999923706055,
           "trajectory": "V_sol",
           "upper": 6443807563107532
          },
          {
           "lower": 2000315479595417.5,
           "timepoint": 58.900001525878906,
           "trajectory": "V_sol",
           "upper": 6484051701950054
          },
          {
           "lower": 2012803143984742.5,
           "timepoint": 59,
           "trajectory": "V_sol",
           "upper": 6524528601176473
          },
          {
           "lower": 2025364379821670.5,
           "timepoint": 59.099998474121094,
           "trajectory": "V_sol",
           "upper": 6565244542176460
          },
          {
           "lower": 2037999234082406.5,
           "timepoint": 59.19999694824219,
           "trajectory": "V_sol",
           "upper": 6606198585425920
          },
          {
           "lower": 2050708585893068.8,
           "timepoint": 59.29999923706055,
           "trajectory": "V_sol",
           "upper": 6647392985782681
          },
          {
           "lower": 2063492556049612.8,
           "timepoint": 59.400001525878906,
           "trajectory": "V_sol",
           "upper": 6688829622294937
          },
          {
           "lower": 2076345755710259.2,
           "timepoint": 59.5,
           "trajectory": "V_sol",
           "upper": 6730507877561139
          },
          {
           "lower": 2089278580038041.5,
           "timepoint": 59.599998474121094,
           "trajectory": "V_sol",
           "upper": 6772429657473024
          },
          {
           "lower": 2102286975657574.5,
           "timepoint": 59.69999694824219,
           "trajectory": "V_sol",
           "upper": 6814596706861056
          },
          {
           "lower": 2115372157239296,
           "timepoint": 59.79999923706055,
           "trajectory": "V_sol",
           "upper": 6857012112732979
          },
          {
           "lower": 2128533641599385.5,
           "timepoint": 59.900001525878906,
           "trajectory": "V_sol",
           "upper": 6899675526122700
          },
          {
           "lower": 2141771885078118.5,
           "timepoint": 60,
           "trajectory": "V_sol",
           "upper": 6942585926975488
          },
          {
           "lower": 2155086968206131.2,
           "timepoint": 60.099998474121094,
           "trajectory": "V_sol",
           "upper": 6985747851850547
          },
          {
           "lower": 2168480394221977.5,
           "timepoint": 60.19999694824219,
           "trajectory": "V_sol",
           "upper": 7029161649713971
          },
          {
           "lower": 2181952096016793.5,
           "timepoint": 60.29999923706055,
           "trajectory": "V_sol",
           "upper": 7072830380729958
          },
          {
           "lower": 2195502556774400,
           "timepoint": 60.400001525878906,
           "trajectory": "V_sol",
           "upper": 7116754071742054
          },
          {
           "lower": 2209131561746432,
           "timepoint": 60.5,
           "trajectory": "V_sol",
           "upper": 7160932159035801
          },
          {
           "lower": 2222840077300531.2,
           "timepoint": 60.599998474121094,
           "trajectory": "V_sol",
           "upper": 7205367246435123
          },
          {
           "lower": 2236628257787084.8,
           "timepoint": 60.69999694824219,
           "trajectory": "V_sol",
           "upper": 7250061857233305
          },
          {
           "lower": 2250497586311987.2,
           "timepoint": 60.79999923706055,
           "trajectory": "V_sol",
           "upper": 7295017816791449
          },
          {
           "lower": 2264447452184576,
           "timepoint": 60.900001525878906,
           "trajectory": "V_sol",
           "upper": 7340233675558092
          },
          {
           "lower": 2278478003044352,
           "timepoint": 61,
           "trajectory": "V_sol",
           "upper": 7385712601071615
          },
          {
           "lower": 2292586252546867,
           "timepoint": 61.099998474121094,
           "trajectory": "V_sol",
           "upper": 7431455801291571
          },
          {
           "lower": 2306779663197798.5,
           "timepoint": 61.19999694824219,
           "trajectory": "V_sol",
           "upper": 7477464537864601
          },
          {
           "lower": 2321056490166681.5,
           "timepoint": 61.29999923706055,
           "trajectory": "V_sol",
           "upper": 7523742327295180
          },
          {
           "lower": 2335415975123353.5,
           "timepoint": 61.400001525878906,
           "trajectory": "V_sol",
           "upper": 7570289169583308
          },
          {
           "lower": 2349858339527065.5,
           "timepoint": 61.5,
           "trajectory": "V_sol",
           "upper": 7617104527858073
          },
          {
           "lower": 2364384529612800,
           "timepoint": 61.599998474121094,
           "trajectory": "V_sol",
           "upper": 7664190979099852
          },
          {
           "lower": 2378994941322854.5,
           "timepoint": 61.69999694824219,
           "trajectory": "V_sol",
           "upper": 7711550348669747
          },
          {
           "lower": 2393690494048665.5,
           "timepoint": 61.79999923706055,
           "trajectory": "V_sol",
           "upper": 7759186287289958
          },
          {
           "lower": 2408471167657574.5,
           "timepoint": 61.900001525878906,
           "trajectory": "V_sol",
           "upper": 7807097613844479
          },
          {
           "lower": 2423337056101990.5,
           "timepoint": 62,
           "trajectory": "V_sol",
           "upper": 7855284784673587
          },
          {
           "lower": 2438288917712077,
           "timepoint": 62.099998474121094,
           "trajectory": "V_sol",
           "upper": 7903756577616691
          },
          {
           "lower": 2453327020923289.5,
           "timepoint": 62.19999694824219,
           "trajectory": "V_sol",
           "upper": 7952504268521471
          },
          {
           "lower": 2468452848841523,
           "timepoint": 62.29999923706055,
           "trajectory": "V_sol",
           "upper": 8001536339948339
          },
          {
           "lower": 2483665965259161.5,
           "timepoint": 62.400001525878906,
           "trajectory": "V_sol",
           "upper": 8050851476563558
          },
          {
           "lower": 2498966417152409.5,
           "timepoint": 62.5,
           "trajectory": "V_sol",
           "upper": 8100442189017907
          },
          {
           "lower": 2514356848610509,
           "timepoint": 62.599998474121094,
           "trajectory": "V_sol",
           "upper": 8150325469275750
          },
          {
           "lower": 2529833078751232,
           "timepoint": 62.69999694824219,
           "trajectory": "V_sol",
           "upper": 8200497478710067
          },
          {
           "lower": 2545400919202201.5,
           "timepoint": 62.79999923706055,
           "trajectory": "V_sol",
           "upper": 8250959827933593
          },
          {
           "lower": 2561058021153177.5,
           "timepoint": 62.900001525878906,
           "trajectory": "V_sol",
           "upper": 8301713295409151
          },
          {
           "lower": 2576804968451277,
           "timepoint": 63,
           "trajectory": "V_sol",
           "upper": 8352757156361011
          },
          {
           "lower": 2592642613379072,
           "timepoint": 63.099998474121094,
           "trajectory": "V_sol",
           "upper": 8404095652069375
          },
          {
           "lower": 2608571418987725,
           "timepoint": 63.19999694824219,
           "trajectory": "V_sol",
           "upper": 8455728782534246
          },
          {
           "lower": 2624592385199309,
           "timepoint": 63.29999923706055,
           "trajectory": "V_sol",
           "upper": 8507661433280921
          },
          {
           "lower": 2640705632809779,
           "timepoint": 63.400001525878906,
           "trajectory": "V_sol",
           "upper": 8559892772159487
          },
          {
           "lower": 2656910819563929.5,
           "timepoint": 63.5,
           "trajectory": "V_sol",
           "upper": 8612422557578035
          },
          {
           "lower": 2673209019203584,
           "timepoint": 63.599998474121094,
           "trajectory": "V_sol",
           "upper": 8665249286298009
          },
          {
           "lower": 2689600889395609.5,
           "timepoint": 63.69999694824219,
           "trajectory": "V_sol",
           "upper": 8718383132023193
          },
          {
           "lower": 2706087282422579,
           "timepoint": 63.79999923706055,
           "trajectory": "V_sol",
           "upper": 8771823718943948
          },
          {
           "lower": 2722668392900198.5,
           "timepoint": 63.900001525878906,
           "trajectory": "V_sol",
           "upper": 8825570859155455
          },
          {
           "lower": 2739343952393011,
           "timepoint": 64,
           "trajectory": "V_sol",
           "upper": 8879628015475097
          },
          {
           "lower": 2756114766207385.5,
           "timepoint": 64.0999984741211,
           "trajectory": "V_sol",
           "upper": 8933991027153305
          },
          {
           "lower": 2772981908085145.5,
           "timepoint": 64.19999694824219,
           "trajectory": "V_sol",
           "upper": 8988665316586291
          },
          {
           "lower": 2789945995427840,
           "timepoint": 64.30000305175781,
           "trajectory": "V_sol",
           "upper": 9043658265749094
          },
          {
           "lower": 2807006639004057.5,
           "timepoint": 64.4000015258789,
           "trajectory": "V_sol",
           "upper": 9098959861999206
          },
          {
           "lower": 2824164483058893,
           "timepoint": 64.5,
           "trajectory": "V_sol",
           "upper": 9154577863121304
          },
          {
           "lower": 2841420480538214.5,
           "timepoint": 64.5999984741211,
           "trajectory": "V_sol",
           "upper": 9210514523973222
          },
          {
           "lower": 2858775262265344,
           "timepoint": 64.69999694824219,
           "trajectory": "V_sol",
           "upper": 9266770327738776
          },
          {
           "lower": 2876230170417561.5,
           "timepoint": 64.80000305175781,
           "trajectory": "V_sol",
           "upper": 9323351126310912
          },
          {
           "lower": 2893783768865177.5,
           "timepoint": 64.9000015258789,
           "trajectory": "V_sol",
           "upper": 9380250826204774
          },
          {
           "lower": 2911437440050790.5,
           "timepoint": 65,
           "trajectory": "V_sol",
           "upper": 9437475145095576
          },
          {
           "lower": 2929191680579993.5,
           "timepoint": 65.0999984741211,
           "trajectory": "V_sol",
           "upper": 9495022928710860
          },
          {
           "lower": 2947047040745472,
           "timepoint": 65.19999694824219,
           "trajectory": "V_sol",
           "upper": 9552901048998296
          },
          {
           "lower": 2965005305643008,
           "timepoint": 65.30000305175781,
           "trajectory": "V_sol",
           "upper": 9611112029251174
          },
          {
           "lower": 2983064717020365,
           "timepoint": 65.4000015258789,
           "trajectory": "V_sol",
           "upper": 9669652165060198
          },
          {
           "lower": 3001226617054822.5,
           "timepoint": 65.5,
           "trajectory": "V_sol",
           "upper": 9728522905976832
          },
          {
           "lower": 3019488066378137.5,
           "timepoint": 65.5999984741211,
           "trajectory": "V_sol",
           "upper": 9787719205414502
          },
          {
           "lower": 3037856218795213,
           "timepoint": 65.69999694824219,
           "trajectory": "V_sol",
           "upper": 9847260283351858
          },
          {
           "lower": 3056328349686169.5,
           "timepoint": 65.80000305175781,
           "trajectory": "V_sol",
           "upper": 9907143401747250
          },
          {
           "lower": 3074905425418649.5,
           "timepoint": 65.9000015258789,
           "trajectory": "V_sol",
           "upper": 9967362708707736
          },
          {
           "lower": 3093587593632153.5,
           "timepoint": 66,
           "trajectory": "V_sol",
           "upper": 10027922391826432
          },
          {
           "lower": 3112375538837094.5,
           "timepoint": 66.0999984741211,
           "trajectory": "V_sol",
           "upper": 10088824813335346
          },
          {
           "lower": 3131270066339840,
           "timepoint": 66.19999694824219,
           "trajectory": "V_sol",
           "upper": 10150073946079232
          },
          {
           "lower": 3150272759909581,
           "timepoint": 66.30000305175781,
           "trajectory": "V_sol",
           "upper": 10211675105080114
          },
          {
           "lower": 3169381646545715,
           "timepoint": 66.4000015258789,
           "trajectory": "V_sol",
           "upper": 10273618197164850
          },
          {
           "lower": 3188597987894886.5,
           "timepoint": 66.5,
           "trajectory": "V_sol",
           "upper": 10335912993384038
          },
          {
           "lower": 3207923448256921.5,
           "timepoint": 66.5999984741211,
           "trajectory": "V_sol",
           "upper": 10398559225302220
          },
          {
           "lower": 3227357437073817.5,
           "timepoint": 66.69999694824219,
           "trajectory": "V_sol",
           "upper": 10461536062328012
          },
          {
           "lower": 3246902880292045,
           "timepoint": 66.80000305175781,
           "trajectory": "V_sol",
           "upper": 10524893379769138
          },
          {
           "lower": 3266556851965133,
           "timepoint": 66.9000015258789,
           "trajectory": "V_sol",
           "upper": 10588600844419072
          },
          {
           "lower": 3286319754746265.5,
           "timepoint": 67,
           "trajectory": "V_sol",
           "upper": 10652664361857842
          },
          {
           "lower": 3306195319888281.5,
           "timepoint": 67.0999984741211,
           "trajectory": "V_sol",
           "upper": 10717090965094400
          },
          {
           "lower": 3326182607867085,
           "timepoint": 67.19999694824219,
           "trajectory": "V_sol",
           "upper": 10781881674183474
          },
          {
           "lower": 3346284450676736,
           "timepoint": 67.30000305175781,
           "trajectory": "V_sol",
           "upper": 10847040408282726
          },
          {
           "lower": 3366496982846669,
           "timepoint": 67.4000015258789,
           "trajectory": "V_sol",
           "upper": 10912559919634840
          },
          {
           "lower": 3386823143745126.5,
           "timepoint": 67.5,
           "trajectory": "V_sol",
           "upper": 10978447831806770
          },
          {
           "lower": 3407263067589837,
           "timepoint": 67.5999984741211,
           "trajectory": "V_sol",
           "upper": 11044705809098342
          },
          {
           "lower": 3427817787857305.5,
           "timepoint": 67.69999694824219,
           "trajectory": "V_sol",
           "upper": 11111334442067558
          },
          {
           "lower": 3448489170173952,
           "timepoint": 67.80000305175781,
           "trajectory": "V_sol",
           "upper": 11178342105900646
          },
          {
           "lower": 3469274664402944,
           "timepoint": 67.9000015258789,
           "trajectory": "V_sol",
           "upper": 11245720425411378
          },
          {
           "lower": 3490176364340838.5,
           "timepoint": 68,
           "trajectory": "V_sol",
           "upper": 11313474554560512
          },
          {
           "lower": 3511195169246413,
           "timepoint": 68.0999984741211,
           "trajectory": "V_sol",
           "upper": 11381607929321880
          },
          {
           "lower": 3532331495194624,
           "timepoint": 68.19999694824219,
           "trajectory": "V_sol",
           "upper": 11450123287737138
          },
          {
           "lower": 3553587556777984,
           "timepoint": 68.30000305175781,
           "trajectory": "V_sol",
           "upper": 11519026857508864
          },
          {
           "lower": 3574959367729971,
           "timepoint": 68.4000015258789,
           "trajectory": "V_sol",
           "upper": 11588291687717272
          },
          {
           "lower": 3596451545140429,
           "timepoint": 68.5,
           "trajectory": "V_sol",
           "upper": 11657957184687308
          },
          {
           "lower": 3618063337390080,
           "timepoint": 68.5999984741211,
           "trajectory": "V_sol",
           "upper": 11728010034020352
          },
          {
           "lower": 3639792825165414.5,
           "timepoint": 68.69999694824219,
           "trajectory": "V_sol",
           "upper": 11798453940125696
          },
          {
           "lower": 3661646960944742.5,
           "timepoint": 68.80000305175781,
           "trajectory": "V_sol",
           "upper": 11869293197970636
          },
          {
           "lower": 3683620859202765,
           "timepoint": 68.9000015258789,
           "trajectory": "V_sol",
           "upper": 11940521365104230
          },
          {
           "lower": 3705716855327949,
           "timepoint": 69,
           "trajectory": "V_sol",
           "upper": 12012145367161240
          },
          {
           "lower": 3727935365395251,
           "timepoint": 69.0999984741211,
           "trajectory": "V_sol",
           "upper": 12084164345148210
          },
          {
           "lower": 3750277221554585.5,
           "timepoint": 69.19999694824219,
           "trajectory": "V_sol",
           "upper": 12156584526767718
          },
          {
           "lower": 3772744584711373,
           "timepoint": 69.30000305175781,
           "trajectory": "V_sol",
           "upper": 12229410904919244
          },
          {
           "lower": 3795334636293325,
           "timepoint": 69.4000015258789,
           "trajectory": "V_sol",
           "upper": 12302634299110194
          },
          {
           "lower": 3818049751954227,
           "timepoint": 69.5,
           "trajectory": "V_sol",
           "upper": 12376262118159154
          },
          {
           "lower": 3840890871218176,
           "timepoint": 69.5999984741211,
           "trajectory": "V_sol",
           "upper": 12450307246968012
          },
          {
           "lower": 3863857645119078.5,
           "timepoint": 69.69999694824219,
           "trajectory": "V_sol",
           "upper": 12524751968796672
          },
          {
           "lower": 3886951603739033.5,
           "timepoint": 69.80000305175781,
           "trajectory": "V_sol",
           "upper": 12599623288252006
          },
          {
           "lower": 3910172518907904,
           "timepoint": 69.9000015258789,
           "trajectory": "V_sol",
           "upper": 12674894039665868
          },
          {
           "lower": 3933521383836877,
           "timepoint": 70,
           "trajectory": "V_sol",
           "upper": 12750578986988338
          },
          {
           "lower": 3956998480383181,
           "timepoint": 70.0999984741211,
           "trajectory": "V_sol",
           "upper": 12826682532560896
          },
          {
           "lower": 3980605137302323,
           "timepoint": 70.19999694824219,
           "trajectory": "V_sol",
           "upper": 12903202904709528
          },
          {
           "lower": 4004343394703769.5,
           "timepoint": 70.30000305175781,
           "trajectory": "V_sol",
           "upper": 12980151538784664
          },
          {
           "lower": 4028210380328141,
           "timepoint": 70.4000015258789,
           "trajectory": "V_sol",
           "upper": 13057516999435878
          },
          {
           "lower": 4052208281924403,
           "timepoint": 70.5,
           "trajectory": "V_sol",
           "upper": 13135305245930290
          },
          {
           "lower": 4076337931642470.5,
           "timepoint": 70.5999984741211,
           "trajectory": "V_sol",
           "upper": 13213521754351206
          },
          {
           "lower": 4100599866353254.5,
           "timepoint": 70.69999694824219,
           "trajectory": "V_sol",
           "upper": 13292165934140620
          },
          {
           "lower": 4124996421445222.5,
           "timepoint": 70.80000305175781,
           "trajectory": "V_sol",
           "upper": 13371247341600768
          },
          {
           "lower": 4149524872298496,
           "timepoint": 70.9000015258789,
           "trajectory": "V_sol",
           "upper": 13450764419806002
          },
          {
           "lower": 4174187460349133,
           "timepoint": 71,
           "trajectory": "V_sol",
           "upper": 13530709491502284
          },
          {
           "lower": 4198984910372864,
           "timepoint": 71.0999984741211,
           "trajectory": "V_sol",
           "upper": 13611081536634880
          },
          {
           "lower": 4223918148472013,
           "timepoint": 71.19999694824219,
           "trajectory": "V_sol",
           "upper": 13691899936243712
          },
          {
           "lower": 4248988986585907,
           "timepoint": 71.30000305175781,
           "trajectory": "V_sol",
           "upper": 13773166998873702
          },
          {
           "lower": 4274191197011968,
           "timepoint": 71.4000015258789,
           "trajectory": "V_sol",
           "upper": 13854868765881138
          },
          {
           "lower": 4299533369684787,
           "timepoint": 71.5,
           "trajectory": "V_sol",
           "upper": 13937016565242264
          },
          {
           "lower": 4325013719508582.5,
           "timepoint": 71.5999984741211,
           "trajectory": "V_sol",
           "upper": 14019610289582898
          },
          {
           "lower": 4350632246483353.5,
           "timepoint": 71.69999694824219,
           "trajectory": "V_sol",
           "upper": 14102655414986342
          },
          {
           "lower": 4376391634963661,
           "timepoint": 71.80000305175781,
           "trajectory": "V_sol",
           "upper": 14186155860610252
          },
          {
           "lower": 4402288663724032,
           "timepoint": 71.9000015258789,
           "trajectory": "V_sol",
           "upper": 14270103090207128
          },
          {
           "lower": 4428326164758528,
           "timepoint": 72,
           "trajectory": "V_sol",
           "upper": 14354508270691942
          },
          {
           "lower": 4454504715203379,
           "timepoint": 72.0999984741211,
           "trajectory": "V_sol",
           "upper": 14439368664023040
          },
          {
           "lower": 4480824033201357,
           "timepoint": 72.19999694824219,
           "trajectory": "V_sol",
           "upper": 14524690605277184
          },
          {
           "lower": 4507288346610893,
           "timepoint": 72.30000305175781,
           "trajectory": "V_sol",
           "upper": 14610473181773824
          },
          {
           "lower": 4533893078607462,
           "timepoint": 72.4000015258789,
           "trajectory": "V_sol",
           "upper": 14696720258983526
          },
          {
           "lower": 4560640819593216,
           "timepoint": 72.5,
           "trajectory": "V_sol",
           "upper": 14783418683568946
          },
          {
           "lower": 4587538240189235,
           "timepoint": 72.5999984741211,
           "trajectory": "V_sol",
           "upper": 14870595835946598
          },
          {
           "lower": 4614576213590016,
           "timepoint": 72.69999694824219,
           "trajectory": "V_sol",
           "upper": 14958242267188428
          },
          {
           "lower": 4641764618220339,
           "timepoint": 72.80000305175781,
           "trajectory": "V_sol",
           "upper": 15046367533596670
          },
          {
           "lower": 4669094837302067,
           "timepoint": 72.9000015258789,
           "trajectory": "V_sol",
           "upper": 15134959824011262
          },
          {
           "lower": 4696571904000000,
           "timepoint": 73,
           "trajectory": "V_sol",
           "upper": 15224029500040806
          },
          {
           "lower": 4724196261232640,
           "timepoint": 73.0999984741211,
           "trajectory": "V_sol",
           "upper": 15313577313304574
          },
          {
           "lower": 4751968445870899,
           "timepoint": 73.19999694824219,
           "trajectory": "V_sol",
           "upper": 15403606323966770
          },
          {
           "lower": 4779892256276480,
           "timepoint": 73.30000305175781,
           "trajectory": "V_sol",
           "upper": 15494123833471794
          },
          {
           "lower": 4807962874032947,
           "timepoint": 73.4000015258789,
           "trajectory": "V_sol",
           "upper": 15585120392891596
          },
          {
           "lower": 4836183600896410,
           "timepoint": 73.5,
           "trajectory": "V_sol",
           "upper": 15676605451154226
          },
          {
           "lower": 4864555081111962,
           "timepoint": 73.5999984741211,
           "trajectory": "V_sol",
           "upper": 15768550768849714
          },
          {
           "lower": 4893077945502925,
           "timepoint": 73.69999694824219,
           "trajectory": "V_sol",
           "upper": 15861009872007986
          },
          {
           "lower": 4921754918689178,
           "timepoint": 73.80000305175781,
           "trajectory": "V_sol",
           "upper": 15953968801985330
          },
          {
           "lower": 4950582792867021,
           "timepoint": 73.9000015258789,
           "trajectory": "V_sol",
           "upper": 16047408499864370
          },
          {
           "lower": 4979563849737830,
           "timepoint": 74,
           "trajectory": "V_sol",
           "upper": 16141351567910502
          },
          {
           "lower": 5008701431323034,
           "timepoint": 74.0999984741211,
           "trajectory": "V_sol",
           "upper": 16235792422666238
          },
          {
           "lower": 5037990061539328,
           "timepoint": 74.19999694824219,
           "trajectory": "V_sol",
           "upper": 16330736325466520
          },
          {
           "lower": 5067437833715712,
           "timepoint": 74.30000305175781,
           "trajectory": "V_sol",
           "upper": 16426190899878296
          },
          {
           "lower": 5097038788585062,
           "timepoint": 74.4000015258789,
           "trajectory": "V_sol",
           "upper": 16522142079883672
          },
          {
           "lower": 5126797261379994,
           "timepoint": 74.5,
           "trajectory": "V_sol",
           "upper": 16618601086084710
          },
          {
           "lower": 5156712581011866,
           "timepoint": 74.5999984741211,
           "trajectory": "V_sol",
           "upper": 16715570280713420
          },
          {
           "lower": 5186785713848320,
           "timepoint": 74.69999694824219,
           "trajectory": "V_sol",
           "upper": 16813051113321266
          },
          {
           "lower": 5217020364298650,
           "timepoint": 74.80000305175781,
           "trajectory": "V_sol",
           "upper": 16911052871775026
          },
          {
           "lower": 5247411512619827,
           "timepoint": 74.9000015258789,
           "trajectory": "V_sol",
           "upper": 17009563046982450
          },
          {
           "lower": 5277962863221146,
           "timepoint": 75,
           "trajectory": "V_sol",
           "upper": 17108614441756262
          },
          {
           "lower": 5308674711381606,
           "timepoint": 75.0999984741211,
           "trajectory": "V_sol",
           "upper": 17208167864519884
          },
          {
           "lower": 5339547835564032,
           "timepoint": 75.19999694824219,
           "trajectory": "V_sol",
           "upper": 17308242696313240
          },
          {
           "lower": 5370585738851123,
           "timepoint": 75.30000305175781,
           "trajectory": "V_sol",
           "upper": 17408861700463000
          },
          {
           "lower": 5401783455186944,
           "timepoint": 75.4000015258789,
           "trajectory": "V_sol",
           "upper": 17509992127843532
          },
          {
           "lower": 5433150245594726,
           "timepoint": 75.5,
           "trajectory": "V_sol",
           "upper": 17611651963630386
          },
          {
           "lower": 5464674714989363,
           "timepoint": 75.5999984741211,
           "trajectory": "V_sol",
           "upper": 17713844160613580
          },
          {
           "lower": 5496365158026445,
           "timepoint": 75.69999694824219,
           "trajectory": "V_sol",
           "upper": 17816569953596210
          },
          {
           "lower": 5528224232216986,
           "timepoint": 75.80000305175781,
           "trajectory": "V_sol",
           "upper": 17919839328377240
          },
          {
           "lower": 5560246622538957,
           "timepoint": 75.9000015258789,
           "trajectory": "V_sol",
           "upper": 18023637037822770
          },
          {
           "lower": 5592435791809741,
           "timepoint": 76,
           "trajectory": "V_sol",
           "upper": 18127976664766870
          },
          {
           "lower": 5624793109050163,
           "timepoint": 76.0999984741211,
           "trajectory": "V_sol",
           "upper": 18232858209209548
          },
          {
           "lower": 5657317393144218,
           "timepoint": 76.19999694824219,
           "trajectory": "V_sol",
           "upper": 18338284087069900
          },
          {
           "lower": 5690013771209114,
           "timepoint": 76.30000305175781,
           "trajectory": "V_sol",
           "upper": 18444280819770980
          },
          {
           "lower": 5722877116127642,
           "timepoint": 76.4000015258789,
           "trajectory": "V_sol",
           "upper": 18550807175626750
          },
          {
           "lower": 5755909924349542,
           "timepoint": 76.5,
           "trajectory": "V_sol",
           "upper": 18657883340983500
          },
          {
           "lower": 5789113994392371,
           "timepoint": 76.5999984741211,
           "trajectory": "V_sol",
           "upper": 18765513342373068
          },
          {
           "lower": 5822490051031859,
           "timepoint": 76.69999694824219,
           "trajectory": "V_sol",
           "upper": 18873711192126256
          },
          {
           "lower": 5856040885996749,
           "timepoint": 76.80000305175781,
           "trajectory": "V_sol",
           "upper": 18982468461369750
          },
          {
           "lower": 5889762472755200,
           "timepoint": 76.9000015258789,
           "trajectory": "V_sol",
           "upper": 19091775056930404
          },
          {
           "lower": 5923657093008589,
           "timepoint": 77,
           "trajectory": "V_sol",
           "upper": 19201645044826110
          },
          {
           "lower": 5957726491587379,
           "timepoint": 77.0999984741211,
           "trajectory": "V_sol",
           "upper": 19312078639805230
          },
          {
           "lower": 5991970212151296,
           "timepoint": 77.19999694824219,
           "trajectory": "V_sol",
           "upper": 19423080673705984
          },
          {
           "lower": 6026393140225638,
           "timepoint": 77.30000305175781,
           "trajectory": "V_sol",
           "upper": 19534661561824050
          },
          {
           "lower": 6060989370230374,
           "timepoint": 77.4000015258789,
           "trajectory": "V_sol",
           "upper": 19646804661161164
          },
          {
           "lower": 6095762713948979,
           "timepoint": 77.5,
           "trajectory": "V_sol",
           "upper": 19759523071367576
          },
          {
           "lower": 6130714137749094,
           "timepoint": 77.5999984741211,
           "trajectory": "V_sol",
           "upper": 19872815611327280
          },
          {
           "lower": 6165843883222630,
           "timepoint": 77.69999694824219,
           "trajectory": "V_sol",
           "upper": 19986697206051630
          },
          {
           "lower": 6201155708465971,
           "timepoint": 77.80000305175781,
           "trajectory": "V_sol",
           "upper": 20101159909851136
          },
          {
           "lower": 6236644540048998,
           "timepoint": 77.9000015258789,
           "trajectory": "V_sol",
           "upper": 20216195562287920
          },
          {
           "lower": 6272314082381005,
           "timepoint": 78,
           "trajectory": "V_sol",
           "upper": 20331817477760612
          },
          {
           "lower": 6308159315718963,
           "timepoint": 78.0999984741211,
           "trajectory": "V_sol",
           "upper": 20448027159507760
          },
          {
           "lower": 6344191272760115,
           "timepoint": 78.19999694824219,
           "trajectory": "V_sol",
           "upper": 20564824285406820
          },
          {
           "lower": 6380410597749555,
           "timepoint": 78.30000305175781,
           "trajectory": "V_sol",
           "upper": 20682224639462604
          },
          {
           "lower": 6416808512847872,
           "timepoint": 78.4000015258789,
           "trajectory": "V_sol",
           "upper": 20800209109070640
          },
          {
           "lower": 6453390064641638,
           "timepoint": 78.5,
           "trajectory": "V_sol",
           "upper": 20918788216900812
          },
          {
           "lower": 6490156326872678,
           "timepoint": 78.5999984741211,
           "trajectory": "V_sol",
           "upper": 21037967224288050
          },
          {
           "lower": 6527108078003814,
           "timepoint": 78.69999694824219,
           "trajectory": "V_sol",
           "upper": 21157748708212736
          },
          {
           "lower": 6564248243981517,
           "timepoint": 78.80000305175781,
           "trajectory": "V_sol",
           "upper": 21278139862745090
          },
          {
           "lower": 6601572825117491,
           "timepoint": 78.9000015258789,
           "trajectory": "V_sol",
           "upper": 21399126836615576
          },
          {
           "lower": 6639084747358208,
           "timepoint": 79,
           "trajectory": "V_sol",
           "upper": 21520723481093732
          },
          {
           "lower": 6676785084445491,
           "timepoint": 79.0999984741211,
           "trajectory": "V_sol",
           "upper": 21642918629264588
          },
          {
           "lower": 6714674319563162,
           "timepoint": 79.19999694824219,
           "trajectory": "V_sol",
           "upper": 21765734829706444
          },
          {
           "lower": 6752755378657690,
           "timepoint": 79.30000305175781,
           "trajectory": "V_sol",
           "upper": 21889173585657856
          },
          {
           "lower": 6791023537265050,
           "timepoint": 79.4000015258789,
           "trajectory": "V_sol",
           "upper": 22013217931998000
          },
          {
           "lower": 6829483519849267,
           "timepoint": 79.5,
           "trajectory": "V_sol",
           "upper": 22137891383672830
          },
          {
           "lower": 6868134547947520,
           "timepoint": 79.5999984741211,
           "trajectory": "V_sol",
           "upper": 22263175364948784
          },
          {
           "lower": 6906972863463424,
           "timepoint": 79.69999694824219,
           "trajectory": "V_sol",
           "upper": 22389085445082316
          },
          {
           "lower": 6946010841271501,
           "timepoint": 79.80000305175781,
           "trajectory": "V_sol",
           "upper": 22515626670659990
          },
          {
           "lower": 6985239274035610,
           "timepoint": 79.9000015258789,
           "trajectory": "V_sol",
           "upper": 22642785190412290
          },
          {
           "lower": 7024662215131136,
           "timepoint": 80,
           "trajectory": "V_sol",
           "upper": 22770573889241090
          }
         ]
        },
        {
         "name": "traces",
         "transform": [
          {
           "expr": "isValid(datum.value)",
           "type": "filter"
          }
         ],
         "values": []
        },
        {
         "name": "points",
         "values": [
          {
           "sample_id": 0,
           "timepoint": 0,
           "trajectory": "V_data",
           "value": 34248644946672.49
          },
          {
           "sample_id": 0,
           "timepoint": 1,
           "trajectory": "V_data",
           "value": 74826106143484.64
          },
          {
           "sample_id": 0,
           "timepoint": 2,
           "trajectory": "V_data",
           "value": 110773028557372.94
          },
          {
           "sample_id": 0,
           "timepoint": 3,
           "trajectory": "V_data",
           "value": 145513240668548.56
          },
          {
           "sample_id": 0,
           "timepoint": 4,
           "trajectory": "V_data",
           "value": 178946061331467.97
          },
          {
           "sample_id": 0,
           "timepoint": 5,
           "trajectory": "V_data",
           "value": 212605525246655
          },
          {
           "sample_id": 0,
           "timepoint": 6,
           "trajectory": "V_data",
           "value": 251907793363823.03
          },
          {
           "sample_id": 0,
           "timepoint": 7,
           "trajectory": "V_data",
           "value": 297287589715033.2
          },
          {
           "sample_id": 0,
           "timepoint": 8,
           "trajectory": "V_data",
           "value": 342358854009788.3
          },
          {
           "sample_id": 0,
           "timepoint": 9,
           "trajectory": "V_data",
           "value": 384063741361757.2
          },
          {
           "sample_id": 0,
           "timepoint": 10,
           "trajectory": "V_data",
           "value": 424100106521029.9
          },
          {
           "sample_id": 0,
           "timepoint": 11,
           "trajectory": "V_data",
           "value": 461851790928127.2
          },
          {
           "sample_id": 0,
           "timepoint": 12,
           "trajectory": "V_data",
           "value": 498304408988044.25
          },
          {
           "sample_id": 0,
           "timepoint": 13,
           "trajectory": "V_data",
           "value": 548221065716523.4
          },
          {
           "sample_id": 0,
           "timepoint": 14,
           "trajectory": "V_data",
           "value": 675643977072622
          },
          {
           "sample_id": 0,
           "timepoint": 15,
           "trajectory": "V_data",
           "value": 751562707678120.9
          },
          {
           "sample_id": 0,
           "timepoint": 16,
           "trajectory": "V_data",
           "value": 829899121500651
          },
          {
           "sample_id": 0,
           "timepoint": 17,
           "trajectory": "V_data",
           "value": 1046326843815478.8
          },
          {
           "sample_id": 0,
           "timepoint": 18,
           "trajectory": "V_data",
           "value": 1295875135538839
          },
          {
           "sample_id": 0,
           "timepoint": 19,
           "trajectory": "V_data",
           "value": 1460571482384016.5
          },
          {
           "sample_id": 0,
           "timepoint": 20,
           "trajectory": "V_data",
           "value": 1592292378295384
          },
          {
           "sample_id": 0,
           "timepoint": 21,
           "trajectory": "V_data",
           "value": 1740882414015524.2
          },
          {
           "sample_id": 0,
           "timepoint": 22,
           "trajectory": "V_data",
           "value": 1882566054918674
          },
          {
           "sample_id": 0,
           "timepoint": 23,
           "trajectory": "V_data",
           "value": 1972015344112838.5
          },
          {
           "sample_id": 0,
           "timepoint": 24,
           "trajectory": "V_data",
           "value": 2071441710342036
          },
          {
           "sample_id": 0,
           "timepoint": 25,
           "trajectory": "V_data",
           "value": 2190128418258483.5
          },
          {
           "sample_id": 0,
           "timepoint": 26,
           "trajectory": "V_data",
           "value": 2284263053733268
          },
          {
           "sample_id": 0,
           "timepoint": 27,
           "trajectory": "V_data",
           "value": 2401528070828421
          },
          {
           "sample_id": 0,
           "timepoint": 28,
           "trajectory": "V_data",
           "value": 2539043189426808
          },
          {
           "sample_id": 0,
           "timepoint": 29,
           "trajectory": "V_data",
           "value": 2623445134633728
          },
          {
           "sample_id": 0,
           "timepoint": 30,
           "trajectory": "V_data",
           "value": 2868773959451638
          },
          {
           "sample_id": 0,
           "timepoint": 31,
           "trajectory": "V_data",
           "value": 2991191174214979
          },
          {
           "sample_id": 0,
           "timepoint": 32,
           "trajectory": "V_data",
           "value": 3129047214690892.5
          },
          {
           "sample_id": 0,
           "timepoint": 33,
           "trajectory": "V_data",
           "value": 3403912214913465
          },
          {
           "sample_id": 0,
           "timepoint": 34,
           "trajectory": "V_data",
           "value": 3718451936404473.5
          },
          {
           "sample_id": 0,
           "timepoint": 35,
           "trajectory": "V_data",
           "value": 3894076572072785.5
          },
          {
           "sample_id": 0,
           "timepoint": 36,
           "trajectory": "V_data",
           "value": 4190012056978476
          },
          {
           "sample_id": 0,
           "timepoint": 37,
           "trajectory": "V_data",
           "value": 4379172150627225.5
          },
          {
           "sample_id": 0,
           "timepoint": 38,
           "trajectory": "V_data",
           "value": 4584996690364133
          },
          {
           "sample_id": 0,
           "timepoint": 39,
           "trajectory": "V_data",
           "value": 4842715961786298
          },
          {
           "sample_id": 0,
           "timepoint": 40,
           "trajectory": "V_data",
           "value": 5057017833310725
          },
          {
           "sample_id": 0,
           "timepoint": 41,
           "trajectory": "V_data",
           "value": 5334255093252734
          },
          {
           "sample_id": 0,
           "timepoint": 42,
           "trajectory": "V_data",
           "value": 5613459509330455
          },
          {
           "sample_id": 0,
           "timepoint": 43,
           "trajectory": "V_data",
           "value": 5900675119579128
          },
          {
           "sample_id": 0,
           "timepoint": 44,
           "trajectory": "V_data",
           "value": 6137835221456338
          },
          {
           "sample_id": 0,
           "timepoint": 45,
           "trajectory": "V_data",
           "value": 6455786439569586
          },
          {
           "sample_id": 0,
           "timepoint": 46,
           "trajectory": "V_data",
           "value": 6737865202057693
          },
          {
           "sample_id": 0,
           "timepoint": 47,
           "trajectory": "V_data",
           "value": 7082040828667748
          },
          {
           "sample_id": 0,
           "timepoint": 48,
           "trajectory": "V_data",
           "value": 7473588619526592
          },
          {
           "sample_id": 0,
           "timepoint": 49,
           "trajectory": "V_data",
           "value": 7802169943421971
          },
          {
           "sample_id": 0,
           "timepoint": 50,
           "trajectory": "V_data",
           "value": 8064264769284555
          },
          {
           "sample_id": 0,
           "timepoint": 51,
           "trajectory": "V_data",
           "value": 8350528001810362
          },
          {
           "sample_id": 0,
           "timepoint": 52,
           "trajectory": "V_data",
           "value": 8620926151000598
          },
          {
           "sample_id": 0,
           "timepoint": 53,
           "trajectory": "V_data",
           "value": 8967823176668702
          },
          {
           "sample_id": 0,
           "timepoint": 54,
           "trajectory": "V_data",
           "value": 9347385175287846
          },
          {
           "sample_id": 0,
           "timepoint": 55,
           "trajectory": "V_data",
           "value": 10400775744728212
          },
          {
           "sample_id": 0,
           "timepoint": 56,
           "trajectory": "V_data",
           "value": 10924150605249734
          },
          {
           "sample_id": 0,
           "timepoint": 57,
           "trajectory": "V_data",
           "value": 11705167142508414
          },
          {
           "sample_id": 0,
           "timepoint": 58,
           "trajectory": "V_data",
           "value": 12359300512467032
          },
          {
           "sample_id": 0,
           "timepoint": 59,
           "trajectory": "V_data",
           "value": 12986780639190464
          },
          {
           "sample_id": 0,
           "timepoint": 60,
           "trajectory": "V_data",
           "value": 13550907207646232
          },
          {
           "sample_id": 0,
           "timepoint": 61,
           "trajectory": "V_data",
           "value": 14248041314600788
          },
          {
           "sample_id": 0,
           "timepoint": 62,
           "trajectory": "V_data",
           "value": 15848276614633882
          },
          {
           "sample_id": 0,
           "timepoint": 63,
           "trajectory": "V_data",
           "value": 17038987764329418
          },
          {
           "sample_id": 0,
           "timepoint": 64,
           "trajectory": "V_data",
           "value": 18260590802877810
          },
          {
           "sample_id": 0,
           "timepoint": 65,
           "trajectory": "V_data",
           "value": 20209504393071680
          },
          {
           "sample_id": 0,
           "timepoint": 66,
           "trajectory": "V_data",
           "value": 21264574070527824
          },
          {
           "sample_id": 0,
           "timepoint": 67,
           "trajectory": "V_data",
           "value": 24405223143174390
          },
          {
           "sample_id": 0,
           "timepoint": 68,
           "trajectory": "V_data",
           "value": 26892652544175644
          },
          {
           "sample_id": 0,
           "timepoint": 69,
           "trajectory": "V_data",
           "value": 28282864516791200
          },
          {
           "sample_id": 0,
           "timepoint": 70,
           "trajectory": "V_data",
           "value": 29394041033392708
          },
          {
           "sample_id": 0,
           "timepoint": 71,
           "trajectory": "V_data",
           "value": 30685003617018490
          },
          {
           "sample_id": 0,
           "timepoint": 72,
           "trajectory": "V_data",
           "value": 32085327926567616
          },
          {
           "sample_id": 0,
           "timepoint": 73,
           "trajectory": "V_data",
           "value": 33217196172771584
          },
          {
           "sample_id": 0,
           "timepoint": 74,
           "trajectory": "V_data",
           "value": 34991952115553804
          },
          {
           "sample_id": 0,
           "timepoint": 75,
           "trajectory": "V_data",
           "value": 36597766934503620
          },
          {
           "sample_id": 0,
           "timepoint": 76,
           "trajectory": "V_data",
           "value": 37222723829582630
          },
          {
           "sample_id": 0,
           "timepoint": 77,
           "trajectory": "V_data",
           "value": 38307418298165540
          },
          {
           "sample_id": 0,
           "timepoint": 78,
           "trajectory": "V_data",
           "value": 39548322728633350
          },
          {
           "sample_id": 0,
           "timepoint": 79,
           "trajectory": "V_data",
           "value": 40640493939989390
          }
         ]
        },
        {
         "name": "markers",
         "values": []
        },
        {
         "name": "selected",
         "on": [
          {
           "remove": true,
           "trigger": "clear"
          },
          {
           "remove": true,
           "trigger": "!shift"
          },
          {
           "insert": "clicked",
           "trigger": "!shift && clicked"
          },
          {
           "toggle": "clicked",
           "trigger": "shift && clicked"
          }
         ]
        }
       ],
       "height": 300,
       "legends": [
        {
         "encode": {
          "labels": {
           "interactive": true,
           "name": "legendLabel",
           "update": {
            "opacity": [
             {
              "test": "!length(data('selected')) || indata('selected', 'value', datum.value)",
              "value": 1
             },
             {
              "value": 0.25
             }
            ]
           }
          },
          "symbols": {
           "interactive": true,
           "name": "legendSymbol",
           "update": {
            "fill": {
             "value": "transparent"
            },
            "opacity": [
             {
              "test": "!length(data('selected')) || indata('selected', 'value', datum.value)",
              "value": 0.7
             },
             {
              "value": 0.15
             }
            ],
            "size": {
             "value": 64
            },
            "strokeWidth": {
             "value": 2
            }
           }
          }
         },
         "name": "color_legend",
         "stroke": "color"
        }
       ],
       "marks": [
        {
         "from": {
          "facet": {
           "data": "points",
           "groupby": "trajectory",
           "name": "points_split"
          }
         },
         "marks": [
          {
           "encode": {
            "hover": {
             "fillOpacity": {
              "value": 0.9
             }
            },
            "update": {
             "fill": {
              "field": "trajectory",
              "scale": "color"
             },
             "fillOpacity": [
              {
               "test": "!length(data('selected')) || indata('selected', 'value', datum.trajectory)",
               "value": 0.5
              },
              {
               "value": 0.15
              }
             ],
             "size": {
              "value": 10
             },
             "stroke": {
              "field": "trajectory",
              "scale": "color"
             },
             "strokeOpacity": [
              {
               "test": "!length(data('selected')) || indata('selected', 'value', datum.trajectory)",
               "value": 0.75
              },
              {
               "value": 0.15
              }
             ],
             "strokeWidth": {
              "value": 2
             },
             "tooltip": {
              "field": "value"
             },
             "x": {
              "field": "timepoint",
              "scale": "xscale"
             },
             "y": {
              "field": "value",
              "scale": "yscale"
             }
            }
           },
           "from": {
            "data": "points"
           },
           "name": "_points_symbol",
           "type": "symbol",
           "zindex": 3
          },
          {
           "encode": {
            "hover": {
             "fillOpacity": {
              "value": 0.9
             }
            },
            "update": {
             "interpolate": {
              "value": "linear"
             },
             "stroke": {
              "field": "trajectory",
              "scale": "color"
             },
             "strokeOpacity": [
              {
               "test": "!length(data('selected')) || indata('selected', 'value', datum.trajectory)",
               "value": 0.3
              },
              {
               "value": 0.1
              }
             ],
             "strokeWidth": {
              "value": 2
             },
             "x": {
              "field": "timepoint",
              "scale": "xscale"
             },
             "y": {
              "field": "value",
              "scale": "yscale"
             }
            }
           },
           "from": {
            "data": "points"
           },
           "name": "_points_line",
           "type": "line",
           "zindex": 3
          }
         ],
         "name": "_points",
         "type": "group",
         "zindex": 3
        },
        {
         "from": {
          "facet": {
           "data": "traces",
           "groupby": "trajectory",
           "name": "traces_split"
          }
         },
         "marks": [
          {
           "encode": {
            "hover": {
             "fillOpacity": {
              "value": 0.9
             }
            },
            "update": {
             "interpolate": {
              "value": "linear"
             },
             "stroke": {
              "field": "trajectory",
              "scale": "color"
             },
             "strokeOpacity": [
              {
               "test": "!length(data('selected')) || indata('selected', 'value', datum.trajectory)",
               "value": 0.75
              },
              {
               "value": 0.15
              }
             ],
             "strokeWidth": {
              "value": 2
             },
             "x": {
              "field": "timepoint",
              "scale": "xscale"
             },
             "y": {
              "field": "value",
              "scale": "yscale"
             }
            }
           },
           "from": {
            "data": "traces_split"
           },
           "name": "_traces_lines",
           "type": "line"
          }
         ],
         "name": "_traces",
         "type": "group",
         "zindex": 2
        },
        {
         "from": {
          "facet": {
           "data": "distributions",
           "groupby": "trajectory",
           "name": "trajectory_split"
          }
         },
         "marks": [
          {
           "encode": {
            "hover": {
             "fillOpacity": {
              "value": 0.9
             }
            },
            "update": {
             "fill": {
              "field": "trajectory",
              "scale": "color"
             },
             "fillOpacity": [
              {
               "test": "!length(data('selected')) || indata('selected', 'value', datum.trajectory)",
               "value": 0.5
              },
              {
               "value": 0.15
              }
             ],
             "interpolate": {
              "value": "linear"
             },
             "stroke": {
              "field": "trajectory",
              "scale": "color"
             },
             "strokeOpacity": [
              {
               "test": "!length(data('selected')) || indata('selected', 'value', datum.trajectory)",
               "value": 0.75
              },
              {
               "value": 0.15
              }
             ],
             "strokeWidth": {
              "value": 2
             },
             "x": {
              "field": "timepoint",
              "scale": "xscale"
             },
             "y": {
              "field": "upper",
              "scale": "yscale"
             },
             "y2": {
              "field": "lower",
              "scale": "yscale"
             }
            }
           },
           "from": {
            "data": "trajectory_split"
           },
           "type": "area"
          }
         ],
         "name": "_distributions",
         "type": "group",
         "zindex": 1
        },
        {
         "marks": [
          {
           "encode": {
            "enter": {
             "stroke": {
              "value": "lightgray"
             }
            },
            "update": {
             "opacity": {
              "value": 1
             },
             "x": {
              "field": "timepoint",
              "scale": "xscale"
             },
             "y": {
              "signal": "height"
             },
             "y2": {
              "value": 0
             }
            }
           },
           "from": {
            "data": "markers"
           },
           "name": "_marker text",
           "type": "rule"
          },
          {
           "encode": {
            "enter": {
             "fontSize": {
              "value": 8
             },
             "text": {
              "field": "datum.label"
             },
             "y": {
              "value": 0
             }
            }
           },
           "from": {
            "data": "_marker text"
           },
           "name": "_marker flags",
           "transform": [
            {
             "as": [
              "x",
              "_y",
              "opacity",
              "align",
              "baseline"
             ],
             "lineAnchor": "start",
             "offset": [
              1
             ],
             "size": {
              "signal": "[width, height]"
             },
             "type": "label"
            }
           ],
           "type": "text"
          }
         ],
         "name": "_markers",
         "type": "group"
        }
       ],
       "padding": 5,
       "scales": [
        {
         "domain": {
          "fields": [
           {
            "data": "distributions",
            "field": "timepoint"
           },
           {
            "data": "traces",
            "field": "timepoint"
           },
           {
            "data": "points",
            "field": "timepoint"
           },
           {
            "data": "markers",
            "field": "timepoint"
           }
          ]
         },
         "name": "xscale",
         "range": "width",
         "type": "linear",
         "zero": false
        },
        {
         "domain": {
          "fields": [
           {
            "data": "distributions",
            "field": "lower"
           },
           {
            "data": "distributions",
            "field": "upper"
           },
           {
            "data": "traces",
            "field": "value"
           },
           {
            "data": "points",
            "field": "value"
           }
          ]
         },
         "name": "yscale",
         "nice": true,
         "range": "height",
         "type": "linear",
         "zero": true
        },
        {
         "domain": {
          "fields": [
           {
            "data": "distributions",
            "field": "trajectory"
           },
           {
            "data": "traces",
            "field": "trajectory"
           },
           {
            "data": "points",
            "field": "trajectory"
           }
          ]
         },
         "name": "color",
         "range": "category",
         "type": "ordinal"
        }
       ],
       "signals": [
        {
         "name": "clear",
         "on": [
          {
           "events": "mouseup[!event.item]",
           "force": true,
           "update": "true"
          }
         ],
         "value": true
        },
        {
         "name": "shift",
         "on": [
          {
           "events": "@legendSymbol:click, @legendLabel:click",
           "force": true,
           "update": "event.shiftKey"
          }
         ],
         "value": false
        },
        {
         "name": "clicked",
         "on": [
          {
           "events": "@legendSymbol:click, @legendLabel:click",
           "force": true,
           "update": "{value: datum.value}"
          }
         ],
         "value": null
        }
       ],
       "width": 500
      }
     },
     "metadata": {},
     "output_type": "display_data"
    }
   ],
   "source": [
    "num_samples = 10\n",
    "start_time = 0\n",
    "end_time = 80 #226 # between 10/02/2020 and 01/25/2021\n",
    "num_timepoints = (end_time-start_time)*10 + 1\n",
    "\n",
    "timepoints = list(get_tspan(start_time, end_time, num_timepoints).detach().numpy())\n",
    "\n",
    "prior_samples = load_and_sample_petri_model(tm, num_samples, timepoints=timepoints, method=\"dopri5\",\n",
    "                                            visual_options={\"title\": \"3_base\", \"subset\":[\"I_sol\", \"E_sol\", \"V_sol\"]}, \n",
    "                                            time_unit=\"days\")\n",
    "#display(prior_samples)\n",
    "\n",
    "schema = plots.trajectories(pd.DataFrame(prior_samples[\"data\"]), subset=\".*_sol\",\n",
    "                            points=ww_data_train.reset_index(drop=True).rename(columns={\"V\":\"V_data\"}))\n",
    "schema = plots.pad(schema, 5)\n",
    "plots.ipy_display(schema)"
   ]
  },
  {
   "cell_type": "code",
   "execution_count": null,
   "id": "0aef2fd3-1de4-4033-8382-796d3b8344a6",
   "metadata": {},
   "outputs": [],
   "source": [
    "post_samples = load_and_calibrate_and_sample_petri_model(\n",
    "    tm,\n",
    "    'ww_data3.csv',\n",
    "    num_samples,\n",
    "    num_iterations=100,\n",
    "    timepoints=timepoints,\n",
    "    verbose=True,\n",
    "    noise_scale=1.,\n",
    "    method=\"euler\", time_unit=\"days\")"
   ]
  },
  {
   "cell_type": "code",
   "execution_count": null,
   "id": "3c7aab62-6e64-4d3f-8818-2a48b460e8b5",
   "metadata": {},
   "outputs": [],
   "source": [
    "schema = plots.trajectories(pd.DataFrame(post_samples[\"data\"]), subset=\".*_sol\",\n",
    "                            points=ww_data_train.reset_index(drop=True).rename(columns={\"V\":\"V_data\"}))\n",
    "schema = plots.pad(schema, 5)\n",
    "plots.ipy_display(schema)"
   ]
  },
  {
   "cell_type": "code",
   "execution_count": null,
   "id": "69ba5934-19d0-4ea6-82a6-e374846f3ca3",
   "metadata": {},
   "outputs": [],
   "source": [
    "# Add uncertainty\n",
    "parameters = {\n",
    "    'gamma': Parameter(name='gamma', value=0.08, units=per_day_units(),\n",
    "                       distribution=Distribution(type='Uniform1',\n",
    "                                                 parameters={\n",
    "                                                     'minimum': 0.06,\n",
    "                                                     'maximum': 0.09\n",
    "                                                 })),\n",
    "    'delta': Parameter(name='delta', value=1/8, units=per_day_units()),\n",
    "    'alpha': Parameter(name='alpha', value=500, units=gram_units(),\n",
    "                       distribution=Distribution(type='Uniform1',\n",
    "                                                 parameters={\n",
    "                                                     'minimum': 51,\n",
    "                                                     'maximum': 796\n",
    "                                                 })),\n",
    "    'lambda': Parameter(name='lambda', value=9.66e-8, units=per_day_per_person_units(),\n",
    "                       distribution=Distribution(type='Uniform1',\n",
    "                                                 parameters={\n",
    "                                                     'minimum': 6.66e-8,\n",
    "                                                     'maximum': 12.66e-8\n",
    "                                                 })),\n",
    "    'beta': Parameter(name='beta', value=4.49e7, units=virus_per_gram_units()),\n",
    "    'k': Parameter(name='k', value=1/3, units=per_day_units()),\n",
    "}\n",
    "\n",
    "# E here is E(0) -> (10, 100, 1000, 5000)\n",
    "initials = {\n",
    "    'S': Initial(concept=Concept(name='S'), value=2_300_000),\n",
    "    'E': Initial(concept=Concept(name='E'), value=1000),\n",
    "    'I': Initial(concept=Concept(name='I'), value=0),\n",
    "    'V': Initial(concept=Concept(name='V'), value=0),\n",
    "}\n",
    "\n",
    "tm = TemplateModel(\n",
    "    templates=templates,\n",
    "    parameters=parameters,\n",
    "    initials=initials,\n",
    "    time=Time(name='t', units=day_units()),\n",
    "    observables=observables,\n",
    "    annotations=Annotations(name='Scenario 3 base model'))"
   ]
  },
  {
   "cell_type": "code",
   "execution_count": null,
   "id": "3e943e82-4bd1-4891-a267-5d1a6720a41e",
   "metadata": {},
   "outputs": [],
   "source": [
    "from mira.modeling.askenet.petrinet import AskeNetPetriNetModel"
   ]
  },
  {
   "cell_type": "code",
   "execution_count": null,
   "id": "46116c0b-ce49-4eb8-928e-6a7d07c341a2",
   "metadata": {},
   "outputs": [],
   "source": [
    "AskeNetPetriNetModel(Model(tm)).to_json_file('my_model.json')\n",
    "tm.observables"
   ]
  },
  {
   "cell_type": "code",
   "execution_count": null,
   "id": "640ebd7c-c56f-4524-9d26-49548f0651d2",
   "metadata": {},
   "outputs": [],
   "source": [
    "num_samples = 10\n",
    "start_time = 0\n",
    "end_time = 80 #226 # between 10/02/2020 and 01/25/2021\n",
    "num_timepoints = (end_time-start_time)*10 + 1\n",
    "timepoints = list(get_tspan(start_time, end_time, num_timepoints).detach().numpy())\n",
    "\n",
    "prior_samples = load_and_sample_petri_model(tm, num_samples, timepoints=timepoints, method=\"dopri5\",\n",
    "                                            visual_options={\"title\": \"3_base\", \"subset\":[\"I_sol\", \"E_sol\", \"V_sol\"]}, \n",
    "                                            time_unit=\"days\")\n",
    "\n",
    "# Plot results\n",
    "schema = plots.trajectories(pd.DataFrame(prior_samples[\"data\"]), subset=\".*_sol\",\n",
    "                            points=ww_data_train.reset_index(drop=True).rename(columns={\"V\":\"V_data\"}))\n",
    "schema = plots.pad(schema, 5)\n",
    "plots.ipy_display(schema)"
   ]
  },
  {
   "cell_type": "code",
   "execution_count": null,
   "id": "b5e86da8-c0b9-4977-9d59-bcb5092c3918",
   "metadata": {},
   "outputs": [],
   "source": [
    "post_samples = load_and_calibrate_and_sample_petri_model(\n",
    "    tm,\n",
    "    'ww_data3.csv',\n",
    "    num_samples,\n",
    "    num_iterations=100,\n",
    "    timepoints=timepoints,\n",
    "    verbose=True,\n",
    "    noise_scale=1.,\n",
    "    method=\"euler\", time_unit=\"days\")\n",
    "\n",
    "# Plot results\n",
    "schema = plots.trajectories(pd.DataFrame(post_samples[\"data\"]), subset=\".*_sol\",\n",
    "                            points=ww_data_train.reset_index(drop=True).rename(columns={\"V\":\"V_data\"}))\n",
    "schema = plots.pad(schema, 5)\n",
    "plots.ipy_display(schema)"
   ]
  },
  {
   "cell_type": "markdown",
   "id": "9ab97c24-a40e-4dde-9c0f-ed174f2fa0a7",
   "metadata": {},
   "source": [
    "## Calibrate ensemble"
   ]
  },
  {
   "cell_type": "code",
   "execution_count": null,
   "id": "10fe2a44-9984-4a58-97cc-acfb917c4ebf",
   "metadata": {
    "scrolled": true
   },
   "outputs": [],
   "source": [
    "num_samples = 2\n",
    "model_paths = [\"../../notebook/ensemble_eval_sa/SEIRHDS_ww.json\"]\n",
    "data_path = \"../../notebook/ensemble_eval_sa/ww_data3.csv\"\n",
    "weights = [1]\n",
    "solution_mappings = [{\"V\": \"V_load\"}]\n",
    "\n",
    "# Run the calibration and sampling\n",
    "result = load_and_calibrate_and_sample_ensemble_model(\n",
    "    model_paths,\n",
    "    data_path,\n",
    "    weights,\n",
    "    solution_mappings,\n",
    "    num_samples,\n",
    "    timepoints,\n",
    "    verbose=True,\n",
    "    num_iterations=200,\n",
    "    time_unit=\"days\",\n",
    "    visual_options={\"title\": \"Calibrated Ensemble\", \"subset\":\".*_sol\"}\n",
    ")\n",
    "\n",
    "# # Save results\n",
    "# result[\"data\"].to_csv(\n",
    "#     os.path.join(DEMO_PATH, \"results_petri_ensemble/calibrated_sample_results.csv\"), index=False\n",
    "# )\n",
    "# result[\"quantiles\"].to_csv(\n",
    "#     os.path.join(DEMO_PATH, \"results_petri_ensemble/calibrated_quantile_results.csv\"), index=False\n",
    "# )\n",
    "\n",
    "# Plot results\n",
    "schema = plots.trajectories(pd.DataFrame(result[\"data\"]), subset=\".*_sol\",\n",
    "                            points=test_data.reset_index(drop=True).rename(columns={\"V\":\"V_data\"}),\n",
    "                           )\n",
    "schema = plots.pad(schema, 5)\n",
    "plots.ipy_display(schema)"
   ]
  },
  {
   "cell_type": "code",
   "execution_count": null,
   "id": "07908bd3-0e32-4c06-92a7-eccfea7dceda",
   "metadata": {},
   "outputs": [],
   "source": [
    "model1 = \"../../notebook/ensemble_eval_sa/SEIRHDS_ww.json\"\n",
    "prior_samples = load_and_sample_petri_model(model1, num_samples, timepoints=timepoints, method=\"dopri5\",\n",
    "                                            visual_options={\"title\": \"3_base\", \"subset\":[\"I_sol\", \"E_sol\", \"V_sol\"]}, \n",
    "                                            time_unit=\"days\")"
   ]
  },
  {
   "cell_type": "code",
   "execution_count": 7,
   "id": "7dfa97f7-48e6-4028-9dce-aa499bd9c3d0",
   "metadata": {},
   "outputs": [
    {
     "name": "stderr",
     "output_type": "stream",
     "text": [
      "ERROR:root:\n",
      "                ###############################\n",
      "\n",
      "                There was an exception in pyciemss\n",
      "                \n",
      "                Error occured in function: sample_ensemble_model\n",
      "\n",
      "                Function docs : \n",
      "    Sample from an ensemble model.\n",
      "    \n",
      "\n",
      "                ################################\n",
      "            \n",
      "Traceback (most recent call last):\n",
      "  File \"/Users/altu809/Projects/pyciemss/src/pyciemss/custom_decorators.py\", line 9, in wrapped\n",
      "    result = function(*args, **kwargs)\n",
      "  File \"/Users/altu809/Projects/pyciemss/src/pyciemss/Ensemble/interfaces.py\", line 506, in sample_ensemble_model\n",
      "    return Predictive(new_ensemble, guide=inferred_parameters, num_samples=num_samples)(\n",
      "  File \"/Users/altu809/.pyenv/versions/3.10.9/lib/python3.10/site-packages/torch/nn/modules/module.py\", line 1501, in _call_impl\n",
      "    return forward_call(*args, **kwargs)\n",
      "  File \"/Users/altu809/.pyenv/versions/3.10.9/lib/python3.10/site-packages/pyro/infer/predictive.py\", line 273, in forward\n",
      "    return _predictive(\n",
      "  File \"/Users/altu809/.pyenv/versions/3.10.9/lib/python3.10/site-packages/pyro/infer/predictive.py\", line 78, in _predictive\n",
      "    max_plate_nesting = _guess_max_plate_nesting(model, model_args, model_kwargs)\n",
      "  File \"/Users/altu809/.pyenv/versions/3.10.9/lib/python3.10/site-packages/pyro/infer/predictive.py\", line 21, in _guess_max_plate_nesting\n",
      "    model_trace = poutine.trace(model).get_trace(*args, **kwargs)\n",
      "  File \"/Users/altu809/.pyenv/versions/3.10.9/lib/python3.10/site-packages/pyro/poutine/trace_messenger.py\", line 198, in get_trace\n",
      "    self(*args, **kwargs)\n",
      "  File \"/Users/altu809/.pyenv/versions/3.10.9/lib/python3.10/site-packages/pyro/poutine/trace_messenger.py\", line 174, in __call__\n",
      "    ret = self.fn(*args, **kwargs)\n",
      "  File \"/Users/altu809/.pyenv/versions/3.10.9/lib/python3.10/site-packages/torch/utils/_contextlib.py\", line 115, in decorate_context\n",
      "    return func(*args, **kwargs)\n",
      "  File \"/Users/altu809/.pyenv/versions/3.10.9/lib/python3.10/site-packages/pyro/poutine/messenger.py\", line 12, in _context_wrap\n",
      "    return fn(*args, **kwargs)\n",
      "  File \"/Users/altu809/.pyenv/versions/3.10.9/lib/python3.10/site-packages/pyro/nn/module.py\", line 448, in __call__\n",
      "    result = super().__call__(*args, **kwargs)\n",
      "  File \"/Users/altu809/.pyenv/versions/3.10.9/lib/python3.10/site-packages/torch/nn/modules/module.py\", line 1501, in _call_impl\n",
      "    return forward_call(*args, **kwargs)\n",
      "  File \"/Users/altu809/Projects/pyciemss/src/pyciemss/interfaces.py\", line 60, in forward\n",
      "    solution = self.get_solution(*args, **kwargs)\n",
      "  File \"/Users/altu809/Projects/pyciemss/src/pyciemss/Ensemble/base.py\", line 111, in get_solution\n",
      "    solutions = [mapping(model.get_solution(*args, **kwargs)) for model, mapping in zip(self.models, self.solution_mappings)]\n",
      "  File \"/Users/altu809/Projects/pyciemss/src/pyciemss/Ensemble/base.py\", line 111, in <listcomp>\n",
      "    solutions = [mapping(model.get_solution(*args, **kwargs)) for model, mapping in zip(self.models, self.solution_mappings)]\n",
      "  File \"/Users/altu809/Projects/pyciemss/src/pyciemss/utils/interface_utils.py\", line 256, in solution_mapping_f\n",
      "    mapped_result_dict[mapped_to_key] = result_dict[mapped_from_key]\n",
      "KeyError: 'V'\n",
      "ERROR:root:\n",
      "                ###############################\n",
      "\n",
      "                There was an exception in pyciemss\n",
      "                \n",
      "                Error occured in function: load_and_sample_petri_ensemble\n",
      "\n",
      "                Function docs : \n",
      "    Load a petri net from a file, compile it into a probabilistic program, and sample from it.\n",
      "\n",
      "    Args:\n",
      "        petri_model_or_paths: Iterable[Union[str, mira.metamodel.TemplateModel, mira.modeling.Model]\n",
      "            - Each element of the iterable is a path to a petri net file, or a petri net object.\n",
      "            - This path can be a URL or a local path to a mira model or AMR model.\n",
      "            - Alternatively, this can be a mira template model directly.\n",
      "        weights: Iterable[float]\n",
      "            - Weights representing prior belief about which models are more likely to be correct.\n",
      "            - By convention these weights should sum to 1.0.\n",
      "        solution_mappings: Iterable[Callable]\n",
      "            - A list of functions that map the output of the model to the output of the shared state space.\n",
      "            - Each element of the iterable is a function that takes in a model output\n",
      "              and returns a dict of the form {variable_name: value}.\n",
      "            - The order of the functions should match the order of the models.\n",
      "        num_samples: int\n",
      "            - The number of samples to draw from the model.\n",
      "        timepoints: [Iterable[float]]\n",
      "            - The timepoints to simulate the model from. Backcasting and/or forecasting is reflected\n",
      "                in the choice of timepoints.\n",
      "        start_states: Optional[Iterable[dict[str, float]]]\n",
      "            - Each element of the iterable is the initial state of the component model.\n",
      "            - If None, the initial state is taken from each of the mira models.\n",
      "            - Note: Currently users must specify the initial state for all or none of the models.\n",
      "        total_population: float > 0.0\n",
      "            - The total population of the model. This is used to scale the model to the correct population.\n",
      "        pseudocount: float > 0.0\n",
      "            - The pseudocount to use for adding uncertainty to the observations.\n",
      "            - Larger values of pseudocount correspond to more certainty about the observations.\n",
      "        dirichlet_concentration: float > 0.0\n",
      "            - The concentration parameter for the dirichlet distribution used to sample the ensemble mixture weights.\n",
      "            - Larger values of dirichlet_concentration correspond to more certainty about the weights.\n",
      "        start_time: float\n",
      "            - The start time of the model. This is used to align the `start_state` with the `timepoints`.\n",
      "            - By default we set the `start_time` to be a small negative number to avoid numerical\n",
      "              issues w/ collision with the `timepoints` which typically start at 0.\n",
      "        method: str\n",
      "            - The method to use for solving the ODE. See torchdiffeq's `odeint` method for more details.\n",
      "            - If performance is incredibly slow, we suggest using `euler` to debug. If using `euler` results\n",
      "              in faster simulation, the issue is likely that the model is stiff.\n",
      "        time_unit: str\n",
      "            - Time unit (used for labeling outputs)\n",
      "        visual_options: None, bool, dict[str, any]\n",
      "            - True output a visual\n",
      "            - False do not output a visual\n",
      "            - dict output a visual with the dictionary passed to the visualization as kwargs\n",
      "        alpha_qs: Optional[Iterable[float]]\n",
      "            - The quantiles required for estimating weighted interval score to test ensemble forecasting accuracy.\n",
      "        stacking_order: Optional[str]\n",
      "            - The stacking order requested for the ensemble quantiles to keep the selected quantity together for each state.\n",
      "            - Options: \"timepoints\" or \"quantiles\"\n",
      "\n",
      "    Returns:\n",
      "        result: dict\n",
      "            - Dictionary of outputs with following attribute:\n",
      "                * data: The samples from the model as a pandas DataFrame.\n",
      "                * quantiles: The quantiles for ensemble score calculation as a pandas DataFrames.\n",
      "                * visual: Visualization. (If visual_options is truthy)\n",
      "    \n",
      "\n",
      "                ################################\n",
      "            \n",
      "Traceback (most recent call last):\n",
      "  File \"/Users/altu809/Projects/pyciemss/src/pyciemss/custom_decorators.py\", line 9, in wrapped\n",
      "    result = function(*args, **kwargs)\n",
      "  File \"/Users/altu809/Projects/pyciemss/src/pyciemss/Ensemble/interfaces.py\", line 156, in load_and_sample_petri_ensemble\n",
      "    samples = sample(\n",
      "  File \"/Users/altu809/.pyenv/versions/3.10.9/lib/python3.10/functools.py\", line 889, in wrapper\n",
      "    return dispatch(args[0].__class__)(*args, **kw)\n",
      "  File \"/Users/altu809/Projects/pyciemss/src/pyciemss/custom_decorators.py\", line 30, in wrapped\n",
      "    raise e\n",
      "  File \"/Users/altu809/Projects/pyciemss/src/pyciemss/custom_decorators.py\", line 9, in wrapped\n",
      "    result = function(*args, **kwargs)\n",
      "  File \"/Users/altu809/Projects/pyciemss/src/pyciemss/Ensemble/interfaces.py\", line 506, in sample_ensemble_model\n",
      "    return Predictive(new_ensemble, guide=inferred_parameters, num_samples=num_samples)(\n",
      "  File \"/Users/altu809/.pyenv/versions/3.10.9/lib/python3.10/site-packages/torch/nn/modules/module.py\", line 1501, in _call_impl\n",
      "    return forward_call(*args, **kwargs)\n",
      "  File \"/Users/altu809/.pyenv/versions/3.10.9/lib/python3.10/site-packages/pyro/infer/predictive.py\", line 273, in forward\n",
      "    return _predictive(\n",
      "  File \"/Users/altu809/.pyenv/versions/3.10.9/lib/python3.10/site-packages/pyro/infer/predictive.py\", line 78, in _predictive\n",
      "    max_plate_nesting = _guess_max_plate_nesting(model, model_args, model_kwargs)\n",
      "  File \"/Users/altu809/.pyenv/versions/3.10.9/lib/python3.10/site-packages/pyro/infer/predictive.py\", line 21, in _guess_max_plate_nesting\n",
      "    model_trace = poutine.trace(model).get_trace(*args, **kwargs)\n",
      "  File \"/Users/altu809/.pyenv/versions/3.10.9/lib/python3.10/site-packages/pyro/poutine/trace_messenger.py\", line 198, in get_trace\n",
      "    self(*args, **kwargs)\n",
      "  File \"/Users/altu809/.pyenv/versions/3.10.9/lib/python3.10/site-packages/pyro/poutine/trace_messenger.py\", line 174, in __call__\n",
      "    ret = self.fn(*args, **kwargs)\n",
      "  File \"/Users/altu809/.pyenv/versions/3.10.9/lib/python3.10/site-packages/torch/utils/_contextlib.py\", line 115, in decorate_context\n",
      "    return func(*args, **kwargs)\n",
      "  File \"/Users/altu809/.pyenv/versions/3.10.9/lib/python3.10/site-packages/pyro/poutine/messenger.py\", line 12, in _context_wrap\n",
      "    return fn(*args, **kwargs)\n",
      "  File \"/Users/altu809/.pyenv/versions/3.10.9/lib/python3.10/site-packages/pyro/nn/module.py\", line 448, in __call__\n",
      "    result = super().__call__(*args, **kwargs)\n",
      "  File \"/Users/altu809/.pyenv/versions/3.10.9/lib/python3.10/site-packages/torch/nn/modules/module.py\", line 1501, in _call_impl\n",
      "    return forward_call(*args, **kwargs)\n",
      "  File \"/Users/altu809/Projects/pyciemss/src/pyciemss/interfaces.py\", line 60, in forward\n",
      "    solution = self.get_solution(*args, **kwargs)\n",
      "  File \"/Users/altu809/Projects/pyciemss/src/pyciemss/Ensemble/base.py\", line 111, in get_solution\n",
      "    solutions = [mapping(model.get_solution(*args, **kwargs)) for model, mapping in zip(self.models, self.solution_mappings)]\n",
      "  File \"/Users/altu809/Projects/pyciemss/src/pyciemss/Ensemble/base.py\", line 111, in <listcomp>\n",
      "    solutions = [mapping(model.get_solution(*args, **kwargs)) for model, mapping in zip(self.models, self.solution_mappings)]\n",
      "  File \"/Users/altu809/Projects/pyciemss/src/pyciemss/utils/interface_utils.py\", line 256, in solution_mapping_f\n",
      "    mapped_result_dict[mapped_to_key] = result_dict[mapped_from_key]\n",
      "KeyError: 'V'\n"
     ]
    },
    {
     "ename": "KeyError",
     "evalue": "'V'",
     "output_type": "error",
     "traceback": [
      "\u001b[0;31m---------------------------------------------------------------------------\u001b[0m",
      "\u001b[0;31mKeyError\u001b[0m                                  Traceback (most recent call last)",
      "Cell \u001b[0;32mIn[7], line 4\u001b[0m\n\u001b[1;32m      1\u001b[0m solution_mappings \u001b[38;5;241m=\u001b[39m [{\u001b[38;5;124m\"\u001b[39m\u001b[38;5;124mV\u001b[39m\u001b[38;5;124m\"\u001b[39m: \u001b[38;5;124m\"\u001b[39m\u001b[38;5;124mV\u001b[39m\u001b[38;5;124m\"\u001b[39m}, \n\u001b[1;32m      2\u001b[0m                     \u001b[38;5;66;03m# {\"V\": \"V\"}\u001b[39;00m\n\u001b[1;32m      3\u001b[0m                     ]\n\u001b[0;32m----> 4\u001b[0m result \u001b[38;5;241m=\u001b[39m \u001b[43mload_and_sample_petri_ensemble\u001b[49m\u001b[43m(\u001b[49m\n\u001b[1;32m      5\u001b[0m \u001b[43m    \u001b[49m\u001b[43m[\u001b[49m\u001b[38;5;124;43m\"\u001b[39;49m\u001b[38;5;124;43m../../notebook/ensemble_eval_sa/my_model.json\u001b[39;49m\u001b[38;5;124;43m\"\u001b[39;49m\u001b[43m]\u001b[49m\u001b[43m,\u001b[49m\u001b[43m \u001b[49m\u001b[43m[\u001b[49m\u001b[38;5;241;43m1\u001b[39;49m\u001b[43m]\u001b[49m\u001b[43m,\u001b[49m\u001b[43m \u001b[49m\u001b[43msolution_mappings\u001b[49m\u001b[43m,\u001b[49m\u001b[43m \u001b[49m\u001b[43mnum_samples\u001b[49m\u001b[43m,\u001b[49m\u001b[43m \u001b[49m\u001b[43mtimepoints\u001b[49m\u001b[43m,\u001b[49m\u001b[43m \u001b[49m\u001b[43mmethod\u001b[49m\u001b[38;5;241;43m=\u001b[39;49m\u001b[38;5;124;43m\"\u001b[39;49m\u001b[38;5;124;43meuler\u001b[39;49m\u001b[38;5;124;43m\"\u001b[39;49m\u001b[43m,\u001b[49m\u001b[43m \u001b[49m\n\u001b[1;32m      6\u001b[0m \u001b[43m    \u001b[49m\u001b[43mtime_unit\u001b[49m\u001b[38;5;241;43m=\u001b[39;49m\u001b[38;5;124;43m\"\u001b[39;49m\u001b[38;5;124;43mdays\u001b[39;49m\u001b[38;5;124;43m\"\u001b[39;49m\u001b[43m,\u001b[49m\n\u001b[1;32m      7\u001b[0m \u001b[43m    \u001b[49m\u001b[43mvisual_options\u001b[49m\u001b[38;5;241;43m=\u001b[39;49m\u001b[43m{\u001b[49m\u001b[38;5;124;43m\"\u001b[39;49m\u001b[38;5;124;43msubset\u001b[39;49m\u001b[38;5;124;43m\"\u001b[39;49m\u001b[43m:\u001b[49m\u001b[38;5;124;43m\"\u001b[39;49m\u001b[38;5;124;43m.*_sol\u001b[39;49m\u001b[38;5;124;43m\"\u001b[39;49m\u001b[43m}\u001b[49m\n\u001b[1;32m      8\u001b[0m \u001b[43m)\u001b[49m\n",
      "File \u001b[0;32m~/Projects/pyciemss/src/pyciemss/custom_decorators.py:30\u001b[0m, in \u001b[0;36mpyciemss_logging_wrapper.<locals>.wrapped\u001b[0;34m(*args, **kwargs)\u001b[0m\n\u001b[1;32m     18\u001b[0m log_message \u001b[38;5;241m=\u001b[39m \u001b[38;5;124m\"\"\"\u001b[39m\n\u001b[1;32m     19\u001b[0m \u001b[38;5;124m    ###############################\u001b[39m\n\u001b[1;32m     20\u001b[0m \n\u001b[0;32m   (...)\u001b[0m\n\u001b[1;32m     27\u001b[0m \u001b[38;5;124m    ################################\u001b[39m\n\u001b[1;32m     28\u001b[0m \u001b[38;5;124m\u001b[39m\u001b[38;5;124m\"\"\"\u001b[39m\n\u001b[1;32m     29\u001b[0m logging\u001b[38;5;241m.\u001b[39mexception(log_message, function\u001b[38;5;241m.\u001b[39m\u001b[38;5;18m__name__\u001b[39m, function\u001b[38;5;241m.\u001b[39m\u001b[38;5;18m__doc__\u001b[39m)\n\u001b[0;32m---> 30\u001b[0m \u001b[38;5;28;01mraise\u001b[39;00m e\n",
      "File \u001b[0;32m~/Projects/pyciemss/src/pyciemss/custom_decorators.py:9\u001b[0m, in \u001b[0;36mpyciemss_logging_wrapper.<locals>.wrapped\u001b[0;34m(*args, **kwargs)\u001b[0m\n\u001b[1;32m      7\u001b[0m \u001b[38;5;28;01mtry\u001b[39;00m:\n\u001b[1;32m      8\u001b[0m     start_time \u001b[38;5;241m=\u001b[39m time\u001b[38;5;241m.\u001b[39mperf_counter()\n\u001b[0;32m----> 9\u001b[0m     result \u001b[38;5;241m=\u001b[39m \u001b[43mfunction\u001b[49m\u001b[43m(\u001b[49m\u001b[38;5;241;43m*\u001b[39;49m\u001b[43margs\u001b[49m\u001b[43m,\u001b[49m\u001b[43m \u001b[49m\u001b[38;5;241;43m*\u001b[39;49m\u001b[38;5;241;43m*\u001b[39;49m\u001b[43mkwargs\u001b[49m\u001b[43m)\u001b[49m\n\u001b[1;32m     10\u001b[0m     end_time \u001b[38;5;241m=\u001b[39m time\u001b[38;5;241m.\u001b[39mperf_counter()\n\u001b[1;32m     11\u001b[0m     logging\u001b[38;5;241m.\u001b[39minfo(\n\u001b[1;32m     12\u001b[0m         \u001b[38;5;124m\"\u001b[39m\u001b[38;5;124mElapsed time for \u001b[39m\u001b[38;5;132;01m%s\u001b[39;00m\u001b[38;5;124m: \u001b[39m\u001b[38;5;132;01m%f\u001b[39;00m\u001b[38;5;124m\"\u001b[39m,\n\u001b[1;32m     13\u001b[0m         function\u001b[38;5;241m.\u001b[39m\u001b[38;5;18m__name__\u001b[39m, end_time \u001b[38;5;241m-\u001b[39m start_time\n\u001b[1;32m     14\u001b[0m     )\n",
      "File \u001b[0;32m~/Projects/pyciemss/src/pyciemss/Ensemble/interfaces.py:156\u001b[0m, in \u001b[0;36mload_and_sample_petri_ensemble\u001b[0;34m(petri_model_or_paths, weights, solution_mappings, num_samples, timepoints, start_states, total_population, dirichlet_concentration, start_time, method, compile_rate_law_p, time_unit, visual_options, alpha_qs, stacking_order)\u001b[0m\n\u001b[1;32m    141\u001b[0m     start_states \u001b[38;5;241m=\u001b[39m [\n\u001b[1;32m    142\u001b[0m         {get_name(v): v\u001b[38;5;241m.\u001b[39mdata[\u001b[38;5;124m\"\u001b[39m\u001b[38;5;124minitial_value\u001b[39m\u001b[38;5;124m\"\u001b[39m] \u001b[38;5;28;01mfor\u001b[39;00m v \u001b[38;5;129;01min\u001b[39;00m model\u001b[38;5;241m.\u001b[39mG\u001b[38;5;241m.\u001b[39mvariables\u001b[38;5;241m.\u001b[39mvalues()}\n\u001b[1;32m    143\u001b[0m         \u001b[38;5;28;01mfor\u001b[39;00m model \u001b[38;5;129;01min\u001b[39;00m models\n\u001b[1;32m    144\u001b[0m     ]\n\u001b[1;32m    146\u001b[0m models \u001b[38;5;241m=\u001b[39m setup_model(\n\u001b[1;32m    147\u001b[0m     models,\n\u001b[1;32m    148\u001b[0m     weights,\n\u001b[0;32m   (...)\u001b[0m\n\u001b[1;32m    153\u001b[0m     dirichlet_concentration\u001b[38;5;241m=\u001b[39mdirichlet_concentration,\n\u001b[1;32m    154\u001b[0m )\n\u001b[0;32m--> 156\u001b[0m samples \u001b[38;5;241m=\u001b[39m \u001b[43msample\u001b[49m\u001b[43m(\u001b[49m\n\u001b[1;32m    157\u001b[0m \u001b[43m    \u001b[49m\u001b[43mmodels\u001b[49m\u001b[43m,\u001b[49m\n\u001b[1;32m    158\u001b[0m \u001b[43m    \u001b[49m\u001b[43mtimepoints\u001b[49m\u001b[43m,\u001b[49m\n\u001b[1;32m    159\u001b[0m \u001b[43m    \u001b[49m\u001b[43mnum_samples\u001b[49m\u001b[43m,\u001b[49m\n\u001b[1;32m    160\u001b[0m \u001b[43m    \u001b[49m\u001b[43mmethod\u001b[49m\u001b[38;5;241;43m=\u001b[39;49m\u001b[43mmethod\u001b[49m\u001b[43m,\u001b[49m\n\u001b[1;32m    161\u001b[0m \u001b[43m\u001b[49m\u001b[43m)\u001b[49m\n\u001b[1;32m    162\u001b[0m processed_samples, q_ensemble \u001b[38;5;241m=\u001b[39m convert_to_output_format(\n\u001b[1;32m    163\u001b[0m     samples, timepoints, time_unit\u001b[38;5;241m=\u001b[39mtime_unit,\n\u001b[1;32m    164\u001b[0m     quantiles\u001b[38;5;241m=\u001b[39m\u001b[38;5;28;01mTrue\u001b[39;00m, alpha_qs\u001b[38;5;241m=\u001b[39malpha_qs, stacking_order\u001b[38;5;241m=\u001b[39mstacking_order\n\u001b[1;32m    165\u001b[0m )\n\u001b[1;32m    167\u001b[0m \u001b[38;5;28;01mif\u001b[39;00m visual_options:\n",
      "File \u001b[0;32m~/.pyenv/versions/3.10.9/lib/python3.10/functools.py:889\u001b[0m, in \u001b[0;36msingledispatch.<locals>.wrapper\u001b[0;34m(*args, **kw)\u001b[0m\n\u001b[1;32m    885\u001b[0m \u001b[38;5;28;01mif\u001b[39;00m \u001b[38;5;129;01mnot\u001b[39;00m args:\n\u001b[1;32m    886\u001b[0m     \u001b[38;5;28;01mraise\u001b[39;00m \u001b[38;5;167;01mTypeError\u001b[39;00m(\u001b[38;5;124mf\u001b[39m\u001b[38;5;124m'\u001b[39m\u001b[38;5;132;01m{\u001b[39;00mfuncname\u001b[38;5;132;01m}\u001b[39;00m\u001b[38;5;124m requires at least \u001b[39m\u001b[38;5;124m'\u001b[39m\n\u001b[1;32m    887\u001b[0m                     \u001b[38;5;124m'\u001b[39m\u001b[38;5;124m1 positional argument\u001b[39m\u001b[38;5;124m'\u001b[39m)\n\u001b[0;32m--> 889\u001b[0m \u001b[38;5;28;01mreturn\u001b[39;00m \u001b[43mdispatch\u001b[49m\u001b[43m(\u001b[49m\u001b[43margs\u001b[49m\u001b[43m[\u001b[49m\u001b[38;5;241;43m0\u001b[39;49m\u001b[43m]\u001b[49m\u001b[38;5;241;43m.\u001b[39;49m\u001b[38;5;18;43m__class__\u001b[39;49m\u001b[43m)\u001b[49m\u001b[43m(\u001b[49m\u001b[38;5;241;43m*\u001b[39;49m\u001b[43margs\u001b[49m\u001b[43m,\u001b[49m\u001b[43m \u001b[49m\u001b[38;5;241;43m*\u001b[39;49m\u001b[38;5;241;43m*\u001b[39;49m\u001b[43mkw\u001b[49m\u001b[43m)\u001b[49m\n",
      "File \u001b[0;32m~/Projects/pyciemss/src/pyciemss/custom_decorators.py:30\u001b[0m, in \u001b[0;36mpyciemss_logging_wrapper.<locals>.wrapped\u001b[0;34m(*args, **kwargs)\u001b[0m\n\u001b[1;32m     18\u001b[0m log_message \u001b[38;5;241m=\u001b[39m \u001b[38;5;124m\"\"\"\u001b[39m\n\u001b[1;32m     19\u001b[0m \u001b[38;5;124m    ###############################\u001b[39m\n\u001b[1;32m     20\u001b[0m \n\u001b[0;32m   (...)\u001b[0m\n\u001b[1;32m     27\u001b[0m \u001b[38;5;124m    ################################\u001b[39m\n\u001b[1;32m     28\u001b[0m \u001b[38;5;124m\u001b[39m\u001b[38;5;124m\"\"\"\u001b[39m\n\u001b[1;32m     29\u001b[0m logging\u001b[38;5;241m.\u001b[39mexception(log_message, function\u001b[38;5;241m.\u001b[39m\u001b[38;5;18m__name__\u001b[39m, function\u001b[38;5;241m.\u001b[39m\u001b[38;5;18m__doc__\u001b[39m)\n\u001b[0;32m---> 30\u001b[0m \u001b[38;5;28;01mraise\u001b[39;00m e\n",
      "File \u001b[0;32m~/Projects/pyciemss/src/pyciemss/custom_decorators.py:9\u001b[0m, in \u001b[0;36mpyciemss_logging_wrapper.<locals>.wrapped\u001b[0;34m(*args, **kwargs)\u001b[0m\n\u001b[1;32m      7\u001b[0m \u001b[38;5;28;01mtry\u001b[39;00m:\n\u001b[1;32m      8\u001b[0m     start_time \u001b[38;5;241m=\u001b[39m time\u001b[38;5;241m.\u001b[39mperf_counter()\n\u001b[0;32m----> 9\u001b[0m     result \u001b[38;5;241m=\u001b[39m \u001b[43mfunction\u001b[49m\u001b[43m(\u001b[49m\u001b[38;5;241;43m*\u001b[39;49m\u001b[43margs\u001b[49m\u001b[43m,\u001b[49m\u001b[43m \u001b[49m\u001b[38;5;241;43m*\u001b[39;49m\u001b[38;5;241;43m*\u001b[39;49m\u001b[43mkwargs\u001b[49m\u001b[43m)\u001b[49m\n\u001b[1;32m     10\u001b[0m     end_time \u001b[38;5;241m=\u001b[39m time\u001b[38;5;241m.\u001b[39mperf_counter()\n\u001b[1;32m     11\u001b[0m     logging\u001b[38;5;241m.\u001b[39minfo(\n\u001b[1;32m     12\u001b[0m         \u001b[38;5;124m\"\u001b[39m\u001b[38;5;124mElapsed time for \u001b[39m\u001b[38;5;132;01m%s\u001b[39;00m\u001b[38;5;124m: \u001b[39m\u001b[38;5;132;01m%f\u001b[39;00m\u001b[38;5;124m\"\u001b[39m,\n\u001b[1;32m     13\u001b[0m         function\u001b[38;5;241m.\u001b[39m\u001b[38;5;18m__name__\u001b[39m, end_time \u001b[38;5;241m-\u001b[39m start_time\n\u001b[1;32m     14\u001b[0m     )\n",
      "File \u001b[0;32m~/Projects/pyciemss/src/pyciemss/Ensemble/interfaces.py:506\u001b[0m, in \u001b[0;36msample_ensemble_model\u001b[0;34m(ensemble, timepoints, num_samples, inferred_parameters, *args, **kwargs)\u001b[0m\n\u001b[1;32m    504\u001b[0m new_ensemble\u001b[38;5;241m.\u001b[39mload_events(logging_events)\n\u001b[1;32m    505\u001b[0m \u001b[38;5;66;03m# **kwargs is used to pass in optional model parameters, such as the solver method for an ODE.\u001b[39;00m\n\u001b[0;32m--> 506\u001b[0m \u001b[38;5;28;01mreturn\u001b[39;00m \u001b[43mPredictive\u001b[49m\u001b[43m(\u001b[49m\u001b[43mnew_ensemble\u001b[49m\u001b[43m,\u001b[49m\u001b[43m \u001b[49m\u001b[43mguide\u001b[49m\u001b[38;5;241;43m=\u001b[39;49m\u001b[43minferred_parameters\u001b[49m\u001b[43m,\u001b[49m\u001b[43m \u001b[49m\u001b[43mnum_samples\u001b[49m\u001b[38;5;241;43m=\u001b[39;49m\u001b[43mnum_samples\u001b[49m\u001b[43m)\u001b[49m\u001b[43m(\u001b[49m\n\u001b[1;32m    507\u001b[0m \u001b[43m    \u001b[49m\u001b[38;5;241;43m*\u001b[39;49m\u001b[43margs\u001b[49m\u001b[43m,\u001b[49m\u001b[43m \u001b[49m\u001b[38;5;241;43m*\u001b[39;49m\u001b[38;5;241;43m*\u001b[39;49m\u001b[43mkwargs\u001b[49m\n\u001b[1;32m    508\u001b[0m \u001b[43m\u001b[49m\u001b[43m)\u001b[49m\n",
      "File \u001b[0;32m~/.pyenv/versions/3.10.9/lib/python3.10/site-packages/torch/nn/modules/module.py:1501\u001b[0m, in \u001b[0;36mModule._call_impl\u001b[0;34m(self, *args, **kwargs)\u001b[0m\n\u001b[1;32m   1496\u001b[0m \u001b[38;5;66;03m# If we don't have any hooks, we want to skip the rest of the logic in\u001b[39;00m\n\u001b[1;32m   1497\u001b[0m \u001b[38;5;66;03m# this function, and just call forward.\u001b[39;00m\n\u001b[1;32m   1498\u001b[0m \u001b[38;5;28;01mif\u001b[39;00m \u001b[38;5;129;01mnot\u001b[39;00m (\u001b[38;5;28mself\u001b[39m\u001b[38;5;241m.\u001b[39m_backward_hooks \u001b[38;5;129;01mor\u001b[39;00m \u001b[38;5;28mself\u001b[39m\u001b[38;5;241m.\u001b[39m_backward_pre_hooks \u001b[38;5;129;01mor\u001b[39;00m \u001b[38;5;28mself\u001b[39m\u001b[38;5;241m.\u001b[39m_forward_hooks \u001b[38;5;129;01mor\u001b[39;00m \u001b[38;5;28mself\u001b[39m\u001b[38;5;241m.\u001b[39m_forward_pre_hooks\n\u001b[1;32m   1499\u001b[0m         \u001b[38;5;129;01mor\u001b[39;00m _global_backward_pre_hooks \u001b[38;5;129;01mor\u001b[39;00m _global_backward_hooks\n\u001b[1;32m   1500\u001b[0m         \u001b[38;5;129;01mor\u001b[39;00m _global_forward_hooks \u001b[38;5;129;01mor\u001b[39;00m _global_forward_pre_hooks):\n\u001b[0;32m-> 1501\u001b[0m     \u001b[38;5;28;01mreturn\u001b[39;00m \u001b[43mforward_call\u001b[49m\u001b[43m(\u001b[49m\u001b[38;5;241;43m*\u001b[39;49m\u001b[43margs\u001b[49m\u001b[43m,\u001b[49m\u001b[43m \u001b[49m\u001b[38;5;241;43m*\u001b[39;49m\u001b[38;5;241;43m*\u001b[39;49m\u001b[43mkwargs\u001b[49m\u001b[43m)\u001b[49m\n\u001b[1;32m   1502\u001b[0m \u001b[38;5;66;03m# Do not call functions when jit is used\u001b[39;00m\n\u001b[1;32m   1503\u001b[0m full_backward_hooks, non_full_backward_hooks \u001b[38;5;241m=\u001b[39m [], []\n",
      "File \u001b[0;32m~/.pyenv/versions/3.10.9/lib/python3.10/site-packages/pyro/infer/predictive.py:273\u001b[0m, in \u001b[0;36mPredictive.forward\u001b[0;34m(self, *args, **kwargs)\u001b[0m\n\u001b[1;32m    263\u001b[0m     return_sites \u001b[38;5;241m=\u001b[39m \u001b[38;5;28;01mNone\u001b[39;00m \u001b[38;5;28;01mif\u001b[39;00m \u001b[38;5;129;01mnot\u001b[39;00m return_sites \u001b[38;5;28;01melse\u001b[39;00m return_sites\n\u001b[1;32m    264\u001b[0m     posterior_samples \u001b[38;5;241m=\u001b[39m _predictive(\n\u001b[1;32m    265\u001b[0m         \u001b[38;5;28mself\u001b[39m\u001b[38;5;241m.\u001b[39mguide,\n\u001b[1;32m    266\u001b[0m         posterior_samples,\n\u001b[0;32m   (...)\u001b[0m\n\u001b[1;32m    271\u001b[0m         model_kwargs\u001b[38;5;241m=\u001b[39mkwargs,\n\u001b[1;32m    272\u001b[0m     )\n\u001b[0;32m--> 273\u001b[0m \u001b[38;5;28;01mreturn\u001b[39;00m \u001b[43m_predictive\u001b[49m\u001b[43m(\u001b[49m\n\u001b[1;32m    274\u001b[0m \u001b[43m    \u001b[49m\u001b[38;5;28;43mself\u001b[39;49m\u001b[38;5;241;43m.\u001b[39;49m\u001b[43mmodel\u001b[49m\u001b[43m,\u001b[49m\n\u001b[1;32m    275\u001b[0m \u001b[43m    \u001b[49m\u001b[43mposterior_samples\u001b[49m\u001b[43m,\u001b[49m\n\u001b[1;32m    276\u001b[0m \u001b[43m    \u001b[49m\u001b[38;5;28;43mself\u001b[39;49m\u001b[38;5;241;43m.\u001b[39;49m\u001b[43mnum_samples\u001b[49m\u001b[43m,\u001b[49m\n\u001b[1;32m    277\u001b[0m \u001b[43m    \u001b[49m\u001b[43mreturn_sites\u001b[49m\u001b[38;5;241;43m=\u001b[39;49m\u001b[43mreturn_sites\u001b[49m\u001b[43m,\u001b[49m\n\u001b[1;32m    278\u001b[0m \u001b[43m    \u001b[49m\u001b[43mparallel\u001b[49m\u001b[38;5;241;43m=\u001b[39;49m\u001b[38;5;28;43mself\u001b[39;49m\u001b[38;5;241;43m.\u001b[39;49m\u001b[43mparallel\u001b[49m\u001b[43m,\u001b[49m\n\u001b[1;32m    279\u001b[0m \u001b[43m    \u001b[49m\u001b[43mmodel_args\u001b[49m\u001b[38;5;241;43m=\u001b[39;49m\u001b[43margs\u001b[49m\u001b[43m,\u001b[49m\n\u001b[1;32m    280\u001b[0m \u001b[43m    \u001b[49m\u001b[43mmodel_kwargs\u001b[49m\u001b[38;5;241;43m=\u001b[39;49m\u001b[43mkwargs\u001b[49m\u001b[43m,\u001b[49m\n\u001b[1;32m    281\u001b[0m \u001b[43m\u001b[49m\u001b[43m)\u001b[49m\n",
      "File \u001b[0;32m~/.pyenv/versions/3.10.9/lib/python3.10/site-packages/pyro/infer/predictive.py:78\u001b[0m, in \u001b[0;36m_predictive\u001b[0;34m(model, posterior_samples, num_samples, return_sites, return_trace, parallel, model_args, model_kwargs)\u001b[0m\n\u001b[1;32m     67\u001b[0m \u001b[38;5;28;01mdef\u001b[39;00m \u001b[38;5;21m_predictive\u001b[39m(\n\u001b[1;32m     68\u001b[0m     model,\n\u001b[1;32m     69\u001b[0m     posterior_samples,\n\u001b[0;32m   (...)\u001b[0m\n\u001b[1;32m     75\u001b[0m     model_kwargs\u001b[38;5;241m=\u001b[39m{},\n\u001b[1;32m     76\u001b[0m ):\n\u001b[1;32m     77\u001b[0m     model \u001b[38;5;241m=\u001b[39m torch\u001b[38;5;241m.\u001b[39mno_grad()(poutine\u001b[38;5;241m.\u001b[39mmask(model, mask\u001b[38;5;241m=\u001b[39m\u001b[38;5;28;01mFalse\u001b[39;00m))\n\u001b[0;32m---> 78\u001b[0m     max_plate_nesting \u001b[38;5;241m=\u001b[39m \u001b[43m_guess_max_plate_nesting\u001b[49m\u001b[43m(\u001b[49m\u001b[43mmodel\u001b[49m\u001b[43m,\u001b[49m\u001b[43m \u001b[49m\u001b[43mmodel_args\u001b[49m\u001b[43m,\u001b[49m\u001b[43m \u001b[49m\u001b[43mmodel_kwargs\u001b[49m\u001b[43m)\u001b[49m\n\u001b[1;32m     79\u001b[0m     vectorize \u001b[38;5;241m=\u001b[39m pyro\u001b[38;5;241m.\u001b[39mplate(\n\u001b[1;32m     80\u001b[0m         \u001b[38;5;124m\"\u001b[39m\u001b[38;5;124m_num_predictive_samples\u001b[39m\u001b[38;5;124m\"\u001b[39m, num_samples, dim\u001b[38;5;241m=\u001b[39m\u001b[38;5;241m-\u001b[39mmax_plate_nesting \u001b[38;5;241m-\u001b[39m \u001b[38;5;241m1\u001b[39m\n\u001b[1;32m     81\u001b[0m     )\n\u001b[1;32m     82\u001b[0m     model_trace \u001b[38;5;241m=\u001b[39m prune_subsample_sites(\n\u001b[1;32m     83\u001b[0m         poutine\u001b[38;5;241m.\u001b[39mtrace(model)\u001b[38;5;241m.\u001b[39mget_trace(\u001b[38;5;241m*\u001b[39mmodel_args, \u001b[38;5;241m*\u001b[39m\u001b[38;5;241m*\u001b[39mmodel_kwargs)\n\u001b[1;32m     84\u001b[0m     )\n",
      "File \u001b[0;32m~/.pyenv/versions/3.10.9/lib/python3.10/site-packages/pyro/infer/predictive.py:21\u001b[0m, in \u001b[0;36m_guess_max_plate_nesting\u001b[0;34m(model, args, kwargs)\u001b[0m\n\u001b[1;32m     15\u001b[0m \u001b[38;5;250m\u001b[39m\u001b[38;5;124;03m\"\"\"\u001b[39;00m\n\u001b[1;32m     16\u001b[0m \u001b[38;5;124;03mGuesses max_plate_nesting by running the model once\u001b[39;00m\n\u001b[1;32m     17\u001b[0m \u001b[38;5;124;03mwithout enumeration. This optimistically assumes static model\u001b[39;00m\n\u001b[1;32m     18\u001b[0m \u001b[38;5;124;03mstructure.\u001b[39;00m\n\u001b[1;32m     19\u001b[0m \u001b[38;5;124;03m\"\"\"\u001b[39;00m\n\u001b[1;32m     20\u001b[0m \u001b[38;5;28;01mwith\u001b[39;00m poutine\u001b[38;5;241m.\u001b[39mblock():\n\u001b[0;32m---> 21\u001b[0m     model_trace \u001b[38;5;241m=\u001b[39m \u001b[43mpoutine\u001b[49m\u001b[38;5;241;43m.\u001b[39;49m\u001b[43mtrace\u001b[49m\u001b[43m(\u001b[49m\u001b[43mmodel\u001b[49m\u001b[43m)\u001b[49m\u001b[38;5;241;43m.\u001b[39;49m\u001b[43mget_trace\u001b[49m\u001b[43m(\u001b[49m\u001b[38;5;241;43m*\u001b[39;49m\u001b[43margs\u001b[49m\u001b[43m,\u001b[49m\u001b[43m \u001b[49m\u001b[38;5;241;43m*\u001b[39;49m\u001b[38;5;241;43m*\u001b[39;49m\u001b[43mkwargs\u001b[49m\u001b[43m)\u001b[49m\n\u001b[1;32m     22\u001b[0m sites \u001b[38;5;241m=\u001b[39m [site \u001b[38;5;28;01mfor\u001b[39;00m site \u001b[38;5;129;01min\u001b[39;00m model_trace\u001b[38;5;241m.\u001b[39mnodes\u001b[38;5;241m.\u001b[39mvalues() \u001b[38;5;28;01mif\u001b[39;00m site[\u001b[38;5;124m\"\u001b[39m\u001b[38;5;124mtype\u001b[39m\u001b[38;5;124m\"\u001b[39m] \u001b[38;5;241m==\u001b[39m \u001b[38;5;124m\"\u001b[39m\u001b[38;5;124msample\u001b[39m\u001b[38;5;124m\"\u001b[39m]\n\u001b[1;32m     24\u001b[0m dims \u001b[38;5;241m=\u001b[39m [\n\u001b[1;32m     25\u001b[0m     frame\u001b[38;5;241m.\u001b[39mdim\n\u001b[1;32m     26\u001b[0m     \u001b[38;5;28;01mfor\u001b[39;00m site \u001b[38;5;129;01min\u001b[39;00m sites\n\u001b[1;32m     27\u001b[0m     \u001b[38;5;28;01mfor\u001b[39;00m frame \u001b[38;5;129;01min\u001b[39;00m site[\u001b[38;5;124m\"\u001b[39m\u001b[38;5;124mcond_indep_stack\u001b[39m\u001b[38;5;124m\"\u001b[39m]\n\u001b[1;32m     28\u001b[0m     \u001b[38;5;28;01mif\u001b[39;00m frame\u001b[38;5;241m.\u001b[39mvectorized\n\u001b[1;32m     29\u001b[0m ]\n",
      "File \u001b[0;32m~/.pyenv/versions/3.10.9/lib/python3.10/site-packages/pyro/poutine/trace_messenger.py:198\u001b[0m, in \u001b[0;36mTraceHandler.get_trace\u001b[0;34m(self, *args, **kwargs)\u001b[0m\n\u001b[1;32m    190\u001b[0m \u001b[38;5;28;01mdef\u001b[39;00m \u001b[38;5;21mget_trace\u001b[39m(\u001b[38;5;28mself\u001b[39m, \u001b[38;5;241m*\u001b[39margs, \u001b[38;5;241m*\u001b[39m\u001b[38;5;241m*\u001b[39mkwargs):\n\u001b[1;32m    191\u001b[0m \u001b[38;5;250m    \u001b[39m\u001b[38;5;124;03m\"\"\"\u001b[39;00m\n\u001b[1;32m    192\u001b[0m \u001b[38;5;124;03m    :returns: data structure\u001b[39;00m\n\u001b[1;32m    193\u001b[0m \u001b[38;5;124;03m    :rtype: pyro.poutine.Trace\u001b[39;00m\n\u001b[0;32m   (...)\u001b[0m\n\u001b[1;32m    196\u001b[0m \u001b[38;5;124;03m    Calls this poutine and returns its trace instead of the function's return value.\u001b[39;00m\n\u001b[1;32m    197\u001b[0m \u001b[38;5;124;03m    \"\"\"\u001b[39;00m\n\u001b[0;32m--> 198\u001b[0m     \u001b[38;5;28;43mself\u001b[39;49m\u001b[43m(\u001b[49m\u001b[38;5;241;43m*\u001b[39;49m\u001b[43margs\u001b[49m\u001b[43m,\u001b[49m\u001b[43m \u001b[49m\u001b[38;5;241;43m*\u001b[39;49m\u001b[38;5;241;43m*\u001b[39;49m\u001b[43mkwargs\u001b[49m\u001b[43m)\u001b[49m\n\u001b[1;32m    199\u001b[0m     \u001b[38;5;28;01mreturn\u001b[39;00m \u001b[38;5;28mself\u001b[39m\u001b[38;5;241m.\u001b[39mmsngr\u001b[38;5;241m.\u001b[39mget_trace()\n",
      "File \u001b[0;32m~/.pyenv/versions/3.10.9/lib/python3.10/site-packages/pyro/poutine/trace_messenger.py:174\u001b[0m, in \u001b[0;36mTraceHandler.__call__\u001b[0;34m(self, *args, **kwargs)\u001b[0m\n\u001b[1;32m    170\u001b[0m \u001b[38;5;28mself\u001b[39m\u001b[38;5;241m.\u001b[39mmsngr\u001b[38;5;241m.\u001b[39mtrace\u001b[38;5;241m.\u001b[39madd_node(\n\u001b[1;32m    171\u001b[0m     \u001b[38;5;124m\"\u001b[39m\u001b[38;5;124m_INPUT\u001b[39m\u001b[38;5;124m\"\u001b[39m, name\u001b[38;5;241m=\u001b[39m\u001b[38;5;124m\"\u001b[39m\u001b[38;5;124m_INPUT\u001b[39m\u001b[38;5;124m\"\u001b[39m, \u001b[38;5;28mtype\u001b[39m\u001b[38;5;241m=\u001b[39m\u001b[38;5;124m\"\u001b[39m\u001b[38;5;124margs\u001b[39m\u001b[38;5;124m\"\u001b[39m, args\u001b[38;5;241m=\u001b[39margs, kwargs\u001b[38;5;241m=\u001b[39mkwargs\n\u001b[1;32m    172\u001b[0m )\n\u001b[1;32m    173\u001b[0m \u001b[38;5;28;01mtry\u001b[39;00m:\n\u001b[0;32m--> 174\u001b[0m     ret \u001b[38;5;241m=\u001b[39m \u001b[38;5;28;43mself\u001b[39;49m\u001b[38;5;241;43m.\u001b[39;49m\u001b[43mfn\u001b[49m\u001b[43m(\u001b[49m\u001b[38;5;241;43m*\u001b[39;49m\u001b[43margs\u001b[49m\u001b[43m,\u001b[49m\u001b[43m \u001b[49m\u001b[38;5;241;43m*\u001b[39;49m\u001b[38;5;241;43m*\u001b[39;49m\u001b[43mkwargs\u001b[49m\u001b[43m)\u001b[49m\n\u001b[1;32m    175\u001b[0m \u001b[38;5;28;01mexcept\u001b[39;00m (\u001b[38;5;167;01mValueError\u001b[39;00m, \u001b[38;5;167;01mRuntimeError\u001b[39;00m) \u001b[38;5;28;01mas\u001b[39;00m e:\n\u001b[1;32m    176\u001b[0m     exc_type, exc_value, traceback \u001b[38;5;241m=\u001b[39m sys\u001b[38;5;241m.\u001b[39mexc_info()\n",
      "File \u001b[0;32m~/.pyenv/versions/3.10.9/lib/python3.10/site-packages/torch/utils/_contextlib.py:115\u001b[0m, in \u001b[0;36mcontext_decorator.<locals>.decorate_context\u001b[0;34m(*args, **kwargs)\u001b[0m\n\u001b[1;32m    112\u001b[0m \u001b[38;5;129m@functools\u001b[39m\u001b[38;5;241m.\u001b[39mwraps(func)\n\u001b[1;32m    113\u001b[0m \u001b[38;5;28;01mdef\u001b[39;00m \u001b[38;5;21mdecorate_context\u001b[39m(\u001b[38;5;241m*\u001b[39margs, \u001b[38;5;241m*\u001b[39m\u001b[38;5;241m*\u001b[39mkwargs):\n\u001b[1;32m    114\u001b[0m     \u001b[38;5;28;01mwith\u001b[39;00m ctx_factory():\n\u001b[0;32m--> 115\u001b[0m         \u001b[38;5;28;01mreturn\u001b[39;00m \u001b[43mfunc\u001b[49m\u001b[43m(\u001b[49m\u001b[38;5;241;43m*\u001b[39;49m\u001b[43margs\u001b[49m\u001b[43m,\u001b[49m\u001b[43m \u001b[49m\u001b[38;5;241;43m*\u001b[39;49m\u001b[38;5;241;43m*\u001b[39;49m\u001b[43mkwargs\u001b[49m\u001b[43m)\u001b[49m\n",
      "File \u001b[0;32m~/.pyenv/versions/3.10.9/lib/python3.10/site-packages/pyro/poutine/messenger.py:12\u001b[0m, in \u001b[0;36m_context_wrap\u001b[0;34m(context, fn, *args, **kwargs)\u001b[0m\n\u001b[1;32m     10\u001b[0m \u001b[38;5;28;01mdef\u001b[39;00m \u001b[38;5;21m_context_wrap\u001b[39m(context, fn, \u001b[38;5;241m*\u001b[39margs, \u001b[38;5;241m*\u001b[39m\u001b[38;5;241m*\u001b[39mkwargs):\n\u001b[1;32m     11\u001b[0m     \u001b[38;5;28;01mwith\u001b[39;00m context:\n\u001b[0;32m---> 12\u001b[0m         \u001b[38;5;28;01mreturn\u001b[39;00m \u001b[43mfn\u001b[49m\u001b[43m(\u001b[49m\u001b[38;5;241;43m*\u001b[39;49m\u001b[43margs\u001b[49m\u001b[43m,\u001b[49m\u001b[43m \u001b[49m\u001b[38;5;241;43m*\u001b[39;49m\u001b[38;5;241;43m*\u001b[39;49m\u001b[43mkwargs\u001b[49m\u001b[43m)\u001b[49m\n",
      "File \u001b[0;32m~/.pyenv/versions/3.10.9/lib/python3.10/site-packages/pyro/nn/module.py:448\u001b[0m, in \u001b[0;36mPyroModule.__call__\u001b[0;34m(self, *args, **kwargs)\u001b[0m\n\u001b[1;32m    446\u001b[0m \u001b[38;5;28;01mdef\u001b[39;00m \u001b[38;5;21m__call__\u001b[39m(\u001b[38;5;28mself\u001b[39m, \u001b[38;5;241m*\u001b[39margs, \u001b[38;5;241m*\u001b[39m\u001b[38;5;241m*\u001b[39mkwargs):\n\u001b[1;32m    447\u001b[0m     \u001b[38;5;28;01mwith\u001b[39;00m \u001b[38;5;28mself\u001b[39m\u001b[38;5;241m.\u001b[39m_pyro_context:\n\u001b[0;32m--> 448\u001b[0m         result \u001b[38;5;241m=\u001b[39m \u001b[38;5;28;43msuper\u001b[39;49m\u001b[43m(\u001b[49m\u001b[43m)\u001b[49m\u001b[38;5;241;43m.\u001b[39;49m\u001b[38;5;21;43m__call__\u001b[39;49m\u001b[43m(\u001b[49m\u001b[38;5;241;43m*\u001b[39;49m\u001b[43margs\u001b[49m\u001b[43m,\u001b[49m\u001b[43m \u001b[49m\u001b[38;5;241;43m*\u001b[39;49m\u001b[38;5;241;43m*\u001b[39;49m\u001b[43mkwargs\u001b[49m\u001b[43m)\u001b[49m\n\u001b[1;32m    449\u001b[0m     \u001b[38;5;28;01mif\u001b[39;00m (\n\u001b[1;32m    450\u001b[0m         pyro\u001b[38;5;241m.\u001b[39msettings\u001b[38;5;241m.\u001b[39mget(\u001b[38;5;124m\"\u001b[39m\u001b[38;5;124mvalidate_poutine\u001b[39m\u001b[38;5;124m\"\u001b[39m)\n\u001b[1;32m    451\u001b[0m         \u001b[38;5;129;01mand\u001b[39;00m \u001b[38;5;129;01mnot\u001b[39;00m \u001b[38;5;28mself\u001b[39m\u001b[38;5;241m.\u001b[39m_pyro_context\u001b[38;5;241m.\u001b[39mactive\n\u001b[1;32m    452\u001b[0m         \u001b[38;5;129;01mand\u001b[39;00m _is_module_local_param_enabled()\n\u001b[1;32m    453\u001b[0m     ):\n\u001b[1;32m    454\u001b[0m         \u001b[38;5;28mself\u001b[39m\u001b[38;5;241m.\u001b[39m_check_module_local_param_usage()\n",
      "File \u001b[0;32m~/.pyenv/versions/3.10.9/lib/python3.10/site-packages/torch/nn/modules/module.py:1501\u001b[0m, in \u001b[0;36mModule._call_impl\u001b[0;34m(self, *args, **kwargs)\u001b[0m\n\u001b[1;32m   1496\u001b[0m \u001b[38;5;66;03m# If we don't have any hooks, we want to skip the rest of the logic in\u001b[39;00m\n\u001b[1;32m   1497\u001b[0m \u001b[38;5;66;03m# this function, and just call forward.\u001b[39;00m\n\u001b[1;32m   1498\u001b[0m \u001b[38;5;28;01mif\u001b[39;00m \u001b[38;5;129;01mnot\u001b[39;00m (\u001b[38;5;28mself\u001b[39m\u001b[38;5;241m.\u001b[39m_backward_hooks \u001b[38;5;129;01mor\u001b[39;00m \u001b[38;5;28mself\u001b[39m\u001b[38;5;241m.\u001b[39m_backward_pre_hooks \u001b[38;5;129;01mor\u001b[39;00m \u001b[38;5;28mself\u001b[39m\u001b[38;5;241m.\u001b[39m_forward_hooks \u001b[38;5;129;01mor\u001b[39;00m \u001b[38;5;28mself\u001b[39m\u001b[38;5;241m.\u001b[39m_forward_pre_hooks\n\u001b[1;32m   1499\u001b[0m         \u001b[38;5;129;01mor\u001b[39;00m _global_backward_pre_hooks \u001b[38;5;129;01mor\u001b[39;00m _global_backward_hooks\n\u001b[1;32m   1500\u001b[0m         \u001b[38;5;129;01mor\u001b[39;00m _global_forward_hooks \u001b[38;5;129;01mor\u001b[39;00m _global_forward_pre_hooks):\n\u001b[0;32m-> 1501\u001b[0m     \u001b[38;5;28;01mreturn\u001b[39;00m \u001b[43mforward_call\u001b[49m\u001b[43m(\u001b[49m\u001b[38;5;241;43m*\u001b[39;49m\u001b[43margs\u001b[49m\u001b[43m,\u001b[49m\u001b[43m \u001b[49m\u001b[38;5;241;43m*\u001b[39;49m\u001b[38;5;241;43m*\u001b[39;49m\u001b[43mkwargs\u001b[49m\u001b[43m)\u001b[49m\n\u001b[1;32m   1502\u001b[0m \u001b[38;5;66;03m# Do not call functions when jit is used\u001b[39;00m\n\u001b[1;32m   1503\u001b[0m full_backward_hooks, non_full_backward_hooks \u001b[38;5;241m=\u001b[39m [], []\n",
      "File \u001b[0;32m~/Projects/pyciemss/src/pyciemss/interfaces.py:60\u001b[0m, in \u001b[0;36mDynamicalSystem.forward\u001b[0;34m(self, *args, **kwargs)\u001b[0m\n\u001b[1;32m     57\u001b[0m \u001b[38;5;28mself\u001b[39m\u001b[38;5;241m.\u001b[39mparam_prior()\n\u001b[1;32m     59\u001b[0m \u001b[38;5;66;03m# Solve the ODE\u001b[39;00m\n\u001b[0;32m---> 60\u001b[0m solution \u001b[38;5;241m=\u001b[39m \u001b[38;5;28;43mself\u001b[39;49m\u001b[38;5;241;43m.\u001b[39;49m\u001b[43mget_solution\u001b[49m\u001b[43m(\u001b[49m\u001b[38;5;241;43m*\u001b[39;49m\u001b[43margs\u001b[49m\u001b[43m,\u001b[49m\u001b[43m \u001b[49m\u001b[38;5;241;43m*\u001b[39;49m\u001b[38;5;241;43m*\u001b[39;49m\u001b[43mkwargs\u001b[49m\u001b[43m)\u001b[49m\n\u001b[1;32m     62\u001b[0m \u001b[38;5;66;03m# Add the observation likelihoods\u001b[39;00m\n\u001b[1;32m     63\u001b[0m \u001b[38;5;28mself\u001b[39m\u001b[38;5;241m.\u001b[39madd_observation_likelihoods(solution)\n",
      "File \u001b[0;32m~/Projects/pyciemss/src/pyciemss/Ensemble/base.py:111\u001b[0m, in \u001b[0;36mEnsembleSystem.get_solution\u001b[0;34m(self, *args, **kwargs)\u001b[0m\n\u001b[1;32m    106\u001b[0m \u001b[38;5;250m\u001b[39m\u001b[38;5;124;03m'''\u001b[39;00m\n\u001b[1;32m    107\u001b[0m \u001b[38;5;124;03mGet the solution of the ensemble.\u001b[39;00m\n\u001b[1;32m    108\u001b[0m \u001b[38;5;124;03m'''\u001b[39;00m\n\u001b[1;32m    109\u001b[0m model_weights \u001b[38;5;241m=\u001b[39m pyro\u001b[38;5;241m.\u001b[39msample(\u001b[38;5;124m'\u001b[39m\u001b[38;5;124mmodel_weights\u001b[39m\u001b[38;5;124m'\u001b[39m, pyro\u001b[38;5;241m.\u001b[39mdistributions\u001b[38;5;241m.\u001b[39mDirichlet(\u001b[38;5;28mself\u001b[39m\u001b[38;5;241m.\u001b[39mdirichlet_alpha))\n\u001b[0;32m--> 111\u001b[0m solutions \u001b[38;5;241m=\u001b[39m [mapping(model\u001b[38;5;241m.\u001b[39mget_solution(\u001b[38;5;241m*\u001b[39margs, \u001b[38;5;241m*\u001b[39m\u001b[38;5;241m*\u001b[39mkwargs)) \u001b[38;5;28;01mfor\u001b[39;00m model, mapping \u001b[38;5;129;01min\u001b[39;00m \u001b[38;5;28mzip\u001b[39m(\u001b[38;5;28mself\u001b[39m\u001b[38;5;241m.\u001b[39mmodels, \u001b[38;5;28mself\u001b[39m\u001b[38;5;241m.\u001b[39msolution_mappings)]\n\u001b[1;32m    113\u001b[0m \u001b[38;5;66;03m# TODO: make this broadcasted instead of looping over the keys.\u001b[39;00m\n\u001b[1;32m    114\u001b[0m solution \u001b[38;5;241m=\u001b[39m {k: \u001b[38;5;28msum\u001b[39m([model_weights[i] \u001b[38;5;241m*\u001b[39m v[k] \u001b[38;5;28;01mfor\u001b[39;00m i, v \u001b[38;5;129;01min\u001b[39;00m \u001b[38;5;28menumerate\u001b[39m(solutions)]) \u001b[38;5;28;01mfor\u001b[39;00m k \u001b[38;5;129;01min\u001b[39;00m solutions[\u001b[38;5;241m0\u001b[39m]\u001b[38;5;241m.\u001b[39mkeys()}\n",
      "File \u001b[0;32m~/Projects/pyciemss/src/pyciemss/Ensemble/base.py:111\u001b[0m, in \u001b[0;36m<listcomp>\u001b[0;34m(.0)\u001b[0m\n\u001b[1;32m    106\u001b[0m \u001b[38;5;250m\u001b[39m\u001b[38;5;124;03m'''\u001b[39;00m\n\u001b[1;32m    107\u001b[0m \u001b[38;5;124;03mGet the solution of the ensemble.\u001b[39;00m\n\u001b[1;32m    108\u001b[0m \u001b[38;5;124;03m'''\u001b[39;00m\n\u001b[1;32m    109\u001b[0m model_weights \u001b[38;5;241m=\u001b[39m pyro\u001b[38;5;241m.\u001b[39msample(\u001b[38;5;124m'\u001b[39m\u001b[38;5;124mmodel_weights\u001b[39m\u001b[38;5;124m'\u001b[39m, pyro\u001b[38;5;241m.\u001b[39mdistributions\u001b[38;5;241m.\u001b[39mDirichlet(\u001b[38;5;28mself\u001b[39m\u001b[38;5;241m.\u001b[39mdirichlet_alpha))\n\u001b[0;32m--> 111\u001b[0m solutions \u001b[38;5;241m=\u001b[39m [\u001b[43mmapping\u001b[49m\u001b[43m(\u001b[49m\u001b[43mmodel\u001b[49m\u001b[38;5;241;43m.\u001b[39;49m\u001b[43mget_solution\u001b[49m\u001b[43m(\u001b[49m\u001b[38;5;241;43m*\u001b[39;49m\u001b[43margs\u001b[49m\u001b[43m,\u001b[49m\u001b[43m \u001b[49m\u001b[38;5;241;43m*\u001b[39;49m\u001b[38;5;241;43m*\u001b[39;49m\u001b[43mkwargs\u001b[49m\u001b[43m)\u001b[49m\u001b[43m)\u001b[49m \u001b[38;5;28;01mfor\u001b[39;00m model, mapping \u001b[38;5;129;01min\u001b[39;00m \u001b[38;5;28mzip\u001b[39m(\u001b[38;5;28mself\u001b[39m\u001b[38;5;241m.\u001b[39mmodels, \u001b[38;5;28mself\u001b[39m\u001b[38;5;241m.\u001b[39msolution_mappings)]\n\u001b[1;32m    113\u001b[0m \u001b[38;5;66;03m# TODO: make this broadcasted instead of looping over the keys.\u001b[39;00m\n\u001b[1;32m    114\u001b[0m solution \u001b[38;5;241m=\u001b[39m {k: \u001b[38;5;28msum\u001b[39m([model_weights[i] \u001b[38;5;241m*\u001b[39m v[k] \u001b[38;5;28;01mfor\u001b[39;00m i, v \u001b[38;5;129;01min\u001b[39;00m \u001b[38;5;28menumerate\u001b[39m(solutions)]) \u001b[38;5;28;01mfor\u001b[39;00m k \u001b[38;5;129;01min\u001b[39;00m solutions[\u001b[38;5;241m0\u001b[39m]\u001b[38;5;241m.\u001b[39mkeys()}\n",
      "File \u001b[0;32m~/Projects/pyciemss/src/pyciemss/utils/interface_utils.py:256\u001b[0m, in \u001b[0;36mcreate_mapping_function_from_observables.<locals>.solution_mapping_f\u001b[0;34m(solution)\u001b[0m\n\u001b[1;32m    254\u001b[0m mapped_result_dict \u001b[38;5;241m=\u001b[39m {}\n\u001b[1;32m    255\u001b[0m \u001b[38;5;28;01mfor\u001b[39;00m mapped_to_key, mapped_from_key \u001b[38;5;129;01min\u001b[39;00m solution_mapping\u001b[38;5;241m.\u001b[39mitems():\n\u001b[0;32m--> 256\u001b[0m     mapped_result_dict[mapped_to_key] \u001b[38;5;241m=\u001b[39m \u001b[43mresult_dict\u001b[49m\u001b[43m[\u001b[49m\u001b[43mmapped_from_key\u001b[49m\u001b[43m]\u001b[49m\n\u001b[1;32m    258\u001b[0m \u001b[38;5;28;01mreturn\u001b[39;00m mapped_result_dict\n",
      "\u001b[0;31mKeyError\u001b[0m: 'V'"
     ]
    }
   ],
   "source": [
    "solution_mappings = [{\"V\": \"V\"}, \n",
    "                    # {\"V\": \"V\"}\n",
    "                    ]\n",
    "result = load_and_sample_petri_ensemble(\n",
    "    [\"../../notebook/ensemble_eval_sa/my_model.json\"], [1], solution_mappings, num_samples, timepoints, method=\"euler\", \n",
    "    time_unit=\"days\",\n",
    "    visual_options={\"subset\":\".*_sol\"}\n",
    ")"
   ]
  },
  {
   "cell_type": "code",
   "execution_count": null,
   "id": "88bff7ee-095f-4aad-83e8-030264c1a9f6",
   "metadata": {},
   "outputs": [],
   "source": [
    "schema = plots.trajectories(pd.DataFrame(result[\"data\"]), subset=\".*_sol\",\n",
    "                            # points=test_data.reset_index(drop=True).rename(columns={\"V\":\"V_data\"}),\n",
    "                           )\n",
    "schema = plots.pad(schema, 5)\n",
    "plots.ipy_display(schema)"
   ]
  },
  {
   "cell_type": "code",
   "execution_count": null,
   "id": "2e1a20d6-88f2-4154-83f5-6b83f1ca4506",
   "metadata": {},
   "outputs": [],
   "source": []
  }
 ],
 "metadata": {
  "kernelspec": {
   "display_name": "Python 3 (ipykernel)",
   "language": "python",
   "name": "python3"
  },
  "language_info": {
   "codemirror_mode": {
    "name": "ipython",
    "version": 3
   },
   "file_extension": ".py",
   "mimetype": "text/x-python",
   "name": "python",
   "nbconvert_exporter": "python",
   "pygments_lexer": "ipython3",
   "version": "3.10.9"
  }
 },
 "nbformat": 4,
 "nbformat_minor": 5
}
