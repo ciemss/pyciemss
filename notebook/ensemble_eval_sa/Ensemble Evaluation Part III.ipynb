{
 "cells": [
  {
   "cell_type": "markdown",
   "id": "68211931",
   "metadata": {},
   "source": [
    "# Ensemble Evaluation: Timepoint 3\n",
    "\n",
    "Location: New York State\n",
    "\n",
    "Timepoint 3: January 4, 2022. Setting: New York State coinciding with the arrival of the first Omicron wave. At-home testing widely available.\n",
    "\n",
    "For each timepoint, consider the following:\n",
    " - What is the most relevant data to use for model calibration?\n",
    " - What was our understanding of COVID-19 viral mechanisms at the time? For example, early in the pandemic, we didn't know if reinfection was a common occurance, or even possible.\n",
    " - What are the parameters related to contagiousness/transmissibility and severity of the dominant strain at the time?\n",
    " - What policies were in place for a stated location, and how can this information be incorporated into models?\n",
    "\n",
    "For each timepoint:\n",
    "\n",
    "1. (a) Take a single model, calibrate it using any historical data prior to the given date, and create a 4-week forecast for cases, hospitalizations, and deaths beginning on the given date. (b) Evaluate the forecast using the COVID-19 Forecasting Hub Error Metrics (WIS, MAE). The single model evaluation should be done in the same way as the ensemble.\n",
    "\n",
    "2. Repeat (1), but with an ensemble of different models.\n",
    "\n",
    "a. It is fine to calibrate each model independently and weight naively.\n",
    "\n",
    "b. It would also be fine to calibrate the ensemble as a whole, assigning weights to the different component models, so that you minimize the error of the ensemble vs. historical data.\n",
    "\n",
    "c. Use the calibration scores and error metrics computed by the CDC Forecasting Hub. As stated on their website:\n",
    "\n",
    "“Periodically, we evaluate the accuracy and precision of the ensemble forecast and component models over recent and historical forecasting periods. Models forecasting incident hospitalizations at a national and state level are evaluated using adjusted relative weighted interval scores (WIS, a measure of distributional accuracy), and adjusted relative mean absolute error (MAE), and calibration scores. Scores are evaluated across weeks, locations, and targets. You can read a paper explaining these procedures in more detail, and look at the most recent monthly evaluation reports. The final report that includes case and death forecast evaluations is 2023-03-13.”\n",
    "\n",
    "3. Produce the forecast outputs in the format specified by the CDC forecasting challenge, including the specified quantiles."
   ]
  },
  {
   "cell_type": "markdown",
   "id": "cfc39ca6-fb26-4d12-affd-7bc901ae3c0a",
   "metadata": {},
   "source": [
    "### Load dependencies"
   ]
  },
  {
   "cell_type": "code",
   "execution_count": 1,
   "id": "df082181",
   "metadata": {},
   "outputs": [],
   "source": [
    "import os\n",
    "import pandas as pd\n",
    "import numpy as np\n",
    "from pyciemss.Ensemble.interfaces import (\n",
    "    load_and_sample_petri_ensemble, load_and_calibrate_and_sample_ensemble_model\n",
    ")\n",
    "from pyciemss.PetriNetODE.interfaces import (\n",
    "    load_and_sample_petri_model,\n",
    "    load_and_calibrate_and_sample_petri_model,\n",
    "    load_and_optimize_and_sample_petri_model,\n",
    "    load_and_calibrate_and_optimize_and_sample_petri_model\n",
    ")\n",
    "from pyciemss.visuals import plots"
   ]
  },
  {
   "cell_type": "markdown",
   "id": "4d63a62a-6ac8-451f-a87b-6b85acb27ed6",
   "metadata": {},
   "source": [
    "## Get data"
   ]
  },
  {
   "cell_type": "code",
   "execution_count": 2,
   "id": "c10d89e9-b232-4116-9bfa-c6edba3cc89a",
   "metadata": {},
   "outputs": [],
   "source": [
    "# url = 'https://raw.githubusercontent.com/DARPA-ASKEM/experiments/main/thin-thread-examples/milestone_12month/evaluation/ensemble_eval_SA/datasets/aabb3684-a7ea-4f60-98f1-a8e673ad6df5/dataset.csv'\n",
    "url = 'https://raw.githubusercontent.com/ciemss/pyciemss/283-july-evaluation-scenario-3/notebook/july_evaluation/Scenario3/data/processed_dataset.csv'\n",
    "ww_data = pd.read_csv(url, index_col=\"time\")\n",
    "ww_data_train = ww_data[0:80]\n",
    "ww_data_train.to_csv(\"ww_data3.csv\")\n",
    "# # Grab test data for four-week forecast (01/04/2022 - 02/01/2022)\n",
    "# test_data = ny_data[0:742].drop(columns=\"timestep\")\n",
    "\n",
    "# # Select historical data up to Timepoint 3: 01/03/2022 (the first 714 rows)\n",
    "# ny_data = ny_data[0:713]\n",
    "# ny_data[[\"I\", \"H\", \"D\"]].to_csv(\"NY_data3.csv\")"
   ]
  },
  {
   "cell_type": "markdown",
   "id": "5ff64276-79a0-4c29-86bc-d0e1154957dd",
   "metadata": {},
   "source": [
    "## Select relevant models"
   ]
  },
  {
   "cell_type": "code",
   "execution_count": 3,
   "id": "cd6e5c0b",
   "metadata": {},
   "outputs": [],
   "source": [
    "import sympy\n",
    "import itertools\n",
    "from mira.metamodel import *\n",
    "from mira.modeling import Model\n",
    "from mira.modeling.askenet.petrinet import AskeNetPetriNetModel\n",
    "\n",
    "person_units = lambda: Unit(expression=sympy.Symbol('person'))\n",
    "virus_units = lambda: Unit(expression=sympy.Symbol('virus'))\n",
    "virus_per_gram_units = lambda: Unit(expression=sympy.Symbol('virus')/sympy.Symbol('gram'))\n",
    "day_units = lambda: Unit(expression=sympy.Symbol('day'))\n",
    "per_day_units = lambda: Unit(expression=1/sympy.Symbol('day'))\n",
    "dimensionless_units = lambda: Unit(expression=sympy.Integer('1'))\n",
    "gram_units = lambda: Unit(expression=sympy.Symbol('gram'))\n",
    "per_day_per_person_units = lambda: Unit(expression=1/(sympy.Symbol('day')*sympy.Symbol('person')))\n",
    "\n",
    "# See Table 1 of the paper\n",
    "c = {\n",
    "    'S': Concept(name='S', units=person_units(), identifiers={'ido': '0000514'}),\n",
    "    'E': Concept(name='E', units=person_units(), identifiers={'apollosv': '0000154'}),\n",
    "    'I': Concept(name='I', units=person_units(), identifiers={'ido': '0000511'}),\n",
    "    'V': Concept(name='V', units=person_units(), identifiers={'vido': '0001331'}),\n",
    "}\n",
    "\n",
    "\n",
    "parameters = {\n",
    "    'gamma': Parameter(name='gamma', value=0.08, units=per_day_units()),\n",
    "    'delta': Parameter(name='delta', value=1/8, units=per_day_units()),\n",
    "    'alpha': Parameter(name='alpha', value=500, units=gram_units(),\n",
    "                       distribution=Distribution(type='Uniform1',\n",
    "                                                 parameters={\n",
    "                                                     'minimum': 51,\n",
    "                                                     'maximum': 796\n",
    "                                                 })),\n",
    "    'lambda': Parameter(name='lambda', value=9.66e-8, units=per_day_per_person_units()),\n",
    "    'beta': Parameter(name='beta', value=4.49e7, units=virus_per_gram_units()),\n",
    "    'k': Parameter(name='k', value=1/3, units=per_day_units()),\n",
    "}\n",
    "\n",
    "initials = {\n",
    "    'S': Initial(concept=Concept(name='S'), value=2_300_000),\n",
    "    'E': Initial(concept=Concept(name='E'), value=1000),\n",
    "    'I': Initial(concept=Concept(name='I'), value=0),\n",
    "    'V': Initial(concept=Concept(name='V'), value=0),\n",
    "}\n",
    "\n",
    "S, E, I, V, gamma, delta, alpha, lmbd, beta, k = \\\n",
    "    sympy.symbols('S E I V gamma delta alpha lambda beta k')\n",
    "\n",
    "t1 = ControlledConversion(subject=c['S'],\n",
    "                          outcome=c['E'],\n",
    "                          controller=c['I'],\n",
    "                          rate_law=S*I*lmbd)\n",
    "t2 = NaturalConversion(subject=c['E'],\n",
    "                       outcome=c['I'],\n",
    "                       rate_law=k*E)\n",
    "t3 = NaturalDegradation(subject=c['I'],\n",
    "                        rate_law=delta*I)\n",
    "t4 = ControlledProduction(outcome=c['V'],\n",
    "                          controller=c['I'],\n",
    "                          rate_law=alpha*beta*(1-gamma)*I)\n",
    "templates = [t1, t2, t3, t4]\n",
    "observables = {}\n",
    "tm = TemplateModel(\n",
    "    templates=templates,\n",
    "    parameters=parameters,\n",
    "    initials=initials,\n",
    "    time=Time(name='t', units=day_units()),\n",
    "    observables=observables,\n",
    "    annotations=Annotations(name='Scenario 3 base model'))"
   ]
  },
  {
   "cell_type": "code",
   "execution_count": 7,
   "id": "bdfc739c-69d1-4493-a941-2f2dd2f3663b",
   "metadata": {},
   "outputs": [],
   "source": [
    "from pyciemss.utils import get_tspan"
   ]
  },
  {
   "cell_type": "code",
   "execution_count": null,
   "id": "b7009199",
   "metadata": {
    "jupyter": {
     "source_hidden": true
    }
   },
   "outputs": [],
   "source": [
    "num_samples = 10\n",
    "start_time = 0\n",
    "end_time = 80 #226 # between 10/02/2020 and 01/25/2021\n",
    "num_timepoints = (end_time-start_time)*10 + 1\n",
    "\n",
    "timepoints = list(get_tspan(start_time, end_time, num_timepoints).detach().numpy())\n",
    "\n",
    "prior_samples = load_and_sample_petri_model(tm, num_samples, timepoints=timepoints, method=\"dopri5\",\n",
    "                                            visual_options={\"title\": \"3_base\", \"subset\":[\"I_sol\", \"E_sol\", \"V_sol\"]}, \n",
    "                                            time_unit=\"days\")\n",
    "#display(prior_samples)\n",
    "\n",
    "schema = plots.trajectories(pd.DataFrame(prior_samples[\"data\"]), subset=\".*_sol\",\n",
    "                            points=ww_data_train.reset_index(drop=True).rename(columns={\"V\":\"V_data\"}))\n",
    "schema = plots.pad(schema, 5)\n",
    "plots.ipy_display(schema)"
   ]
  },
  {
   "cell_type": "code",
   "execution_count": null,
   "id": "0aef2fd3-1de4-4033-8382-796d3b8344a6",
   "metadata": {},
   "outputs": [],
   "source": [
    "post_samples = load_and_calibrate_and_sample_petri_model(\n",
    "    tm,\n",
    "    'ww_data3.csv',\n",
    "    num_samples,\n",
    "    num_iterations=100,\n",
    "    timepoints=timepoints,\n",
    "    verbose=True,\n",
    "    noise_scale=1.,\n",
    "    method=\"euler\", time_unit=\"days\")"
   ]
  },
  {
   "cell_type": "code",
   "execution_count": null,
   "id": "3c7aab62-6e64-4d3f-8818-2a48b460e8b5",
   "metadata": {},
   "outputs": [],
   "source": [
    "schema = plots.trajectories(pd.DataFrame(post_samples[\"data\"]), subset=\".*_sol\",\n",
    "                            points=ww_data_train.reset_index(drop=True).rename(columns={\"V\":\"V_data\"}))\n",
    "schema = plots.pad(schema, 5)\n",
    "plots.ipy_display(schema)"
   ]
  },
  {
   "cell_type": "code",
   "execution_count": 4,
   "id": "69ba5934-19d0-4ea6-82a6-e374846f3ca3",
   "metadata": {},
   "outputs": [],
   "source": [
    "# Add uncertainty\n",
    "parameters = {\n",
    "    'gamma': Parameter(name='gamma', value=0.08, units=per_day_units(),\n",
    "                       distribution=Distribution(type='Uniform1',\n",
    "                                                 parameters={\n",
    "                                                     'minimum': 0.06,\n",
    "                                                     'maximum': 0.09\n",
    "                                                 })),\n",
    "    'delta': Parameter(name='delta', value=1/8, units=per_day_units()),\n",
    "    'alpha': Parameter(name='alpha', value=500, units=gram_units(),\n",
    "                       distribution=Distribution(type='Uniform1',\n",
    "                                                 parameters={\n",
    "                                                     'minimum': 51,\n",
    "                                                     'maximum': 796\n",
    "                                                 })),\n",
    "    'lambda': Parameter(name='lambda', value=9.66e-8, units=per_day_per_person_units(),\n",
    "                       distribution=Distribution(type='Uniform1',\n",
    "                                                 parameters={\n",
    "                                                     'minimum': 6.66e-8,\n",
    "                                                     'maximum': 12.66e-8\n",
    "                                                 })),\n",
    "    'beta': Parameter(name='beta', value=4.49e7, units=virus_per_gram_units()),\n",
    "    'k': Parameter(name='k', value=1/3, units=per_day_units()),\n",
    "}\n",
    "\n",
    "# E here is E(0) -> (10, 100, 1000, 5000)\n",
    "initials = {\n",
    "    'S': Initial(concept=Concept(name='S'), value=2_300_000),\n",
    "    'E': Initial(concept=Concept(name='E'), value=1000),\n",
    "    'I': Initial(concept=Concept(name='I'), value=0),\n",
    "    'V': Initial(concept=Concept(name='V'), value=0),\n",
    "}\n",
    "\n",
    "tm = TemplateModel(\n",
    "    templates=templates,\n",
    "    parameters=parameters,\n",
    "    initials=initials,\n",
    "    time=Time(name='t', units=day_units()),\n",
    "    observables=observables,\n",
    "    annotations=Annotations(name='Scenario 3 base model'))"
   ]
  },
  {
   "cell_type": "code",
   "execution_count": 8,
   "id": "640ebd7c-c56f-4524-9d26-49548f0651d2",
   "metadata": {},
   "outputs": [
    {
     "name": "stdout",
     "output_type": "stream",
     "text": [
      "\n"
     ]
    },
    {
     "data": {
      "application/vnd.vega.v5+json": {
       "$schema": "https://vega.github.io/schema/vega/v5.json",
       "axes": [
        {
         "name": "x_axis",
         "orient": "bottom",
         "scale": "xscale",
         "zindex": 100
        },
        {
         "name": "y_axis",
         "orient": "left",
         "scale": "yscale",
         "zindex": 100
        }
       ],
       "data": [
        {
         "name": "distributions",
         "values": [
          {
           "lower": 1000,
           "timepoint": 0,
           "trajectory": "E_sol",
           "upper": 1000
          },
          {
           "lower": 967.5056640625,
           "timepoint": 0.10000000149011612,
           "trajectory": "E_sol",
           "upper": 967.6234832763672
          },
          {
           "lower": 936.6353179931641,
           "timepoint": 0.20000000298023224,
           "trajectory": "E_sol",
           "upper": 937.0960540771484
          },
          {
           "lower": 907.3105560302735,
           "timepoint": 0.30000001192092896,
           "trajectory": "E_sol",
           "upper": 908.3206573486328
          },
          {
           "lower": 879.4581420898437,
           "timepoint": 0.4000000059604645,
           "trajectory": "E_sol",
           "upper": 881.2087249755859
          },
          {
           "lower": 853.0056121826171,
           "timepoint": 0.5,
           "trajectory": "E_sol",
           "upper": 855.6733367919921
          },
          {
           "lower": 827.8869079589844,
           "timepoint": 0.6000000238418579,
           "trajectory": "E_sol",
           "upper": 831.6326599121094
          },
          {
           "lower": 804.037631225586,
           "timepoint": 0.699999988079071,
           "trajectory": "E_sol",
           "upper": 809.0131469726563
          },
          {
           "lower": 781.3966217041016,
           "timepoint": 0.800000011920929,
           "trajectory": "E_sol",
           "upper": 787.7383819580078
          },
          {
           "lower": 759.905517578125,
           "timepoint": 0.9000000357627869,
           "trajectory": "E_sol",
           "upper": 767.7405364990234
          },
          {
           "lower": 739.5100708007812,
           "timepoint": 1,
           "trajectory": "E_sol",
           "upper": 748.9549835205078
          },
          {
           "lower": 720.1567657470703,
           "timepoint": 1.100000023841858,
           "trajectory": "E_sol",
           "upper": 731.3176300048829
          },
          {
           "lower": 701.7949951171875,
           "timepoint": 1.2000000476837158,
           "trajectory": "E_sol",
           "upper": 714.7716766357422
          },
          {
           "lower": 684.3780151367188,
           "timepoint": 1.3000000715255737,
           "trajectory": "E_sol",
           "upper": 699.2608367919922
          },
          {
           "lower": 667.860791015625,
           "timepoint": 1.399999976158142,
           "trajectory": "E_sol",
           "upper": 684.7320495605469
          },
          {
           "lower": 652.1991577148438,
           "timepoint": 1.5,
           "trajectory": "E_sol",
           "upper": 671.1362365722656
          },
          {
           "lower": 637.3534118652344,
           "timepoint": 1.600000023841858,
           "trajectory": "E_sol",
           "upper": 658.4251739501954
          },
          {
           "lower": 623.2830230712891,
           "timepoint": 1.7000000476837158,
           "trajectory": "E_sol",
           "upper": 646.5541351318359
          },
          {
           "lower": 609.951303100586,
           "timepoint": 1.8000000715255737,
           "trajectory": "E_sol",
           "upper": 635.4808746337891
          },
          {
           "lower": 597.3243560791016,
           "timepoint": 1.899999976158142,
           "trajectory": "E_sol",
           "upper": 625.1650390625
          },
          {
           "lower": 585.3651336669922,
           "timepoint": 2,
           "trajectory": "E_sol",
           "upper": 615.5676971435547
          },
          {
           "lower": 574.0443389892578,
           "timepoint": 2.1000001430511475,
           "trajectory": "E_sol",
           "upper": 606.6538757324219
          },
          {
           "lower": 563.3295257568359,
           "timepoint": 2.200000047683716,
           "trajectory": "E_sol",
           "upper": 598.3884460449219
          },
          {
           "lower": 553.1940063476562,
           "timepoint": 2.299999952316284,
           "trajectory": "E_sol",
           "upper": 590.7396942138672
          },
          {
           "lower": 543.6081420898438,
           "timepoint": 2.4000000953674316,
           "trajectory": "E_sol",
           "upper": 583.6760864257812
          },
          {
           "lower": 534.5464447021484,
           "timepoint": 2.5,
           "trajectory": "E_sol",
           "upper": 577.169091796875
          },
          {
           "lower": 525.9838775634765,
           "timepoint": 2.6000001430511475,
           "trajectory": "E_sol",
           "upper": 571.1907928466796
          },
          {
           "lower": 517.8962280273438,
           "timepoint": 2.700000047683716,
           "trajectory": "E_sol",
           "upper": 565.7140991210938
          },
          {
           "lower": 510.26099853515626,
           "timepoint": 2.799999952316284,
           "trajectory": "E_sol",
           "upper": 560.7168701171875
          },
          {
           "lower": 503.05655670166016,
           "timepoint": 2.9000000953674316,
           "trajectory": "E_sol",
           "upper": 556.1733489990235
          },
          {
           "lower": 496.26231079101564,
           "timepoint": 3,
           "trajectory": "E_sol",
           "upper": 552.061978149414
          },
          {
           "lower": 489.85887603759767,
           "timepoint": 3.1000001430511475,
           "trajectory": "E_sol",
           "upper": 548.3606323242187
          },
          {
           "lower": 483.8271286010742,
           "timepoint": 3.200000047683716,
           "trajectory": "E_sol",
           "upper": 545.0518493652344
          },
          {
           "lower": 478.1498596191406,
           "timepoint": 3.299999952316284,
           "trajectory": "E_sol",
           "upper": 542.114877319336
          },
          {
           "lower": 472.810546875,
           "timepoint": 3.4000000953674316,
           "trajectory": "E_sol",
           "upper": 539.532275390625
          },
          {
           "lower": 467.79242248535155,
           "timepoint": 3.5,
           "trajectory": "E_sol",
           "upper": 537.2868713378906
          },
          {
           "lower": 463.0805038452148,
           "timepoint": 3.6000001430511475,
           "trajectory": "E_sol",
           "upper": 535.3629669189453
          },
          {
           "lower": 458.66022338867185,
           "timepoint": 3.700000047683716,
           "trajectory": "E_sol",
           "upper": 533.7450134277344
          },
          {
           "lower": 454.5177749633789,
           "timepoint": 3.799999952316284,
           "trajectory": "E_sol",
           "upper": 532.4193664550781
          },
          {
           "lower": 450.6399948120117,
           "timepoint": 3.9000000953674316,
           "trajectory": "E_sol",
           "upper": 531.371615600586
          },
          {
           "lower": 447.01420440673826,
           "timepoint": 4,
           "trajectory": "E_sol",
           "upper": 530.5892730712891
          },
          {
           "lower": 443.6286682128906,
           "timepoint": 4.099999904632568,
           "trajectory": "E_sol",
           "upper": 530.0600158691407
          },
          {
           "lower": 440.4718841552734,
           "timepoint": 4.200000286102295,
           "trajectory": "E_sol",
           "upper": 529.7719146728516
          },
          {
           "lower": 437.5332427978516,
           "timepoint": 4.300000190734863,
           "trajectory": "E_sol",
           "upper": 529.7147277832031
          },
          {
           "lower": 434.8024276733398,
           "timepoint": 4.400000095367432,
           "trajectory": "E_sol",
           "upper": 529.8773376464844
          },
          {
           "lower": 432.2695510864258,
           "timepoint": 4.5,
           "trajectory": "E_sol",
           "upper": 530.2505645751953
          },
          {
           "lower": 429.9251998901367,
           "timepoint": 4.599999904632568,
           "trajectory": "E_sol",
           "upper": 530.8248291015625
          },
          {
           "lower": 427.76078643798826,
           "timepoint": 4.700000286102295,
           "trajectory": "E_sol",
           "upper": 531.5920166015625
          },
          {
           "lower": 425.7678192138672,
           "timepoint": 4.800000190734863,
           "trajectory": "E_sol",
           "upper": 532.5425750732422
          },
          {
           "lower": 423.93771209716795,
           "timepoint": 4.900000095367432,
           "trajectory": "E_sol",
           "upper": 533.6697662353515
          },
          {
           "lower": 422.26355743408203,
           "timepoint": 5,
           "trajectory": "E_sol",
           "upper": 534.9659271240234
          },
          {
           "lower": 420.73828887939453,
           "timepoint": 5.099999904632568,
           "trajectory": "E_sol",
           "upper": 536.4228454589844
          },
          {
           "lower": 419.35416412353516,
           "timepoint": 5.200000286102295,
           "trajectory": "E_sol",
           "upper": 538.0350036621094
          },
          {
           "lower": 418.10545806884767,
           "timepoint": 5.300000190734863,
           "trajectory": "E_sol",
           "upper": 539.7961914062499
          },
          {
           "lower": 416.9851806640625,
           "timepoint": 5.400000095367432,
           "trajectory": "E_sol",
           "upper": 541.7002136230468
          },
          {
           "lower": 415.9875289916992,
           "timepoint": 5.5,
           "trajectory": "E_sol",
           "upper": 543.7413055419921
          },
          {
           "lower": 415.1070755004883,
           "timepoint": 5.599999904632568,
           "trajectory": "E_sol",
           "upper": 545.9146453857421
          },
          {
           "lower": 414.33840026855466,
           "timepoint": 5.700000286102295,
           "trajectory": "E_sol",
           "upper": 548.2149291992188
          },
          {
           "lower": 413.6756530761719,
           "timepoint": 5.800000190734863,
           "trajectory": "E_sol",
           "upper": 550.6372436523437
          },
          {
           "lower": 413.11485748291017,
           "timepoint": 5.900000095367432,
           "trajectory": "E_sol",
           "upper": 553.1773162841797
          },
          {
           "lower": 412.65138092041013,
           "timepoint": 6,
           "trajectory": "E_sol",
           "upper": 555.8309448242187
          },
          {
           "lower": 412.28027191162107,
           "timepoint": 6.099999904632568,
           "trajectory": "E_sol",
           "upper": 558.5927001953124
          },
          {
           "lower": 411.9975982666016,
           "timepoint": 6.200000286102295,
           "trajectory": "E_sol",
           "upper": 561.4609710693359
          },
          {
           "lower": 411.79913635253905,
           "timepoint": 6.300000190734863,
           "trajectory": "E_sol",
           "upper": 564.4312072753906
          },
          {
           "lower": 411.68133239746095,
           "timepoint": 6.400000095367432,
           "trajectory": "E_sol",
           "upper": 567.5000244140625
          },
          {
           "lower": 411.6403381347656,
           "timepoint": 6.5,
           "trajectory": "E_sol",
           "upper": 570.6642822265625
          },
          {
           "lower": 411.6729141235352,
           "timepoint": 6.599999904632568,
           "trajectory": "E_sol",
           "upper": 573.9222045898438
          },
          {
           "lower": 411.77566986083986,
           "timepoint": 6.700000286102295,
           "trajectory": "E_sol",
           "upper": 577.2693389892578
          },
          {
           "lower": 411.9453414916992,
           "timepoint": 6.800000190734863,
           "trajectory": "E_sol",
           "upper": 580.7034057617187
          },
          {
           "lower": 412.1792877197266,
           "timepoint": 6.900000095367432,
           "trajectory": "E_sol",
           "upper": 584.2219116210937
          },
          {
           "lower": 412.47410736083987,
           "timepoint": 7,
           "trajectory": "E_sol",
           "upper": 587.8227081298828
          },
          {
           "lower": 412.82774963378904,
           "timepoint": 7.099999904632568,
           "trajectory": "E_sol",
           "upper": 591.5042327880859
          },
          {
           "lower": 413.23738250732424,
           "timepoint": 7.200000286102295,
           "trajectory": "E_sol",
           "upper": 595.2632415771484
          },
          {
           "lower": 413.7003860473633,
           "timepoint": 7.300000190734863,
           "trajectory": "E_sol",
           "upper": 599.0978881835937
          },
          {
           "lower": 414.21472015380857,
           "timepoint": 7.400000095367432,
           "trajectory": "E_sol",
           "upper": 603.0068969726562
          },
          {
           "lower": 414.7782455444336,
           "timepoint": 7.5,
           "trajectory": "E_sol",
           "upper": 606.9882110595703
          },
          {
           "lower": 415.38860473632815,
           "timepoint": 7.599999904632568,
           "trajectory": "E_sol",
           "upper": 611.0401947021484
          },
          {
           "lower": 416.0438568115234,
           "timepoint": 7.700000286102295,
           "trajectory": "E_sol",
           "upper": 615.1626739501953
          },
          {
           "lower": 416.7421173095703,
           "timepoint": 7.800000190734863,
           "trajectory": "E_sol",
           "upper": 619.3521118164062
          },
          {
           "lower": 417.4817916870117,
           "timepoint": 7.900000095367432,
           "trajectory": "E_sol",
           "upper": 623.6084167480468
          },
          {
           "lower": 418.2608383178711,
           "timepoint": 8,
           "trajectory": "E_sol",
           "upper": 627.9297790527344
          },
          {
           "lower": 419.07794189453125,
           "timepoint": 8.100000381469727,
           "trajectory": "E_sol",
           "upper": 632.3153045654296
          },
          {
           "lower": 419.9311996459961,
           "timepoint": 8.199999809265137,
           "trajectory": "E_sol",
           "upper": 636.7637603759765
          },
          {
           "lower": 420.8193420410156,
           "timepoint": 8.300000190734863,
           "trajectory": "E_sol",
           "upper": 641.2752380371094
          },
          {
           "lower": 421.7409423828125,
           "timepoint": 8.40000057220459,
           "trajectory": "E_sol",
           "upper": 645.8471740722656
          },
          {
           "lower": 422.6947875976563,
           "timepoint": 8.5,
           "trajectory": "E_sol",
           "upper": 650.4793731689452
          },
          {
           "lower": 423.6793670654297,
           "timepoint": 8.600000381469727,
           "trajectory": "E_sol",
           "upper": 655.1709533691406
          },
          {
           "lower": 424.69336853027346,
           "timepoint": 8.699999809265137,
           "trajectory": "E_sol",
           "upper": 659.9212158203125
          },
          {
           "lower": 425.7359878540039,
           "timepoint": 8.800000190734863,
           "trajectory": "E_sol",
           "upper": 664.7294891357421
          },
          {
           "lower": 426.8060134887695,
           "timepoint": 8.90000057220459,
           "trajectory": "E_sol",
           "upper": 669.5948913574218
          },
          {
           "lower": 427.90230865478514,
           "timepoint": 9,
           "trajectory": "E_sol",
           "upper": 674.5184936523438
          },
          {
           "lower": 429.02429351806643,
           "timepoint": 9.100000381469727,
           "trajectory": "E_sol",
           "upper": 679.4975433349609
          },
          {
           "lower": 430.17054290771483,
           "timepoint": 9.199999809265137,
           "trajectory": "E_sol",
           "upper": 684.5320495605469
          },
          {
           "lower": 431.3404144287109,
           "timepoint": 9.300000190734863,
           "trajectory": "E_sol",
           "upper": 689.6221160888672
          },
          {
           "lower": 432.5321838378906,
           "timepoint": 9.40000057220459,
           "trajectory": "E_sol",
           "upper": 694.7670989990235
          },
          {
           "lower": 433.7463745117187,
           "timepoint": 9.5,
           "trajectory": "E_sol",
           "upper": 699.9665618896485
          },
          {
           "lower": 434.9816421508789,
           "timepoint": 9.600000381469727,
           "trajectory": "E_sol",
           "upper": 705.2201599121094
          },
          {
           "lower": 436.23731231689453,
           "timepoint": 9.699999809265137,
           "trajectory": "E_sol",
           "upper": 710.5286163330078
          },
          {
           "lower": 437.51244659423827,
           "timepoint": 9.800000190734863,
           "trajectory": "E_sol",
           "upper": 715.8902282714844
          },
          {
           "lower": 438.8066665649414,
           "timepoint": 9.90000057220459,
           "trajectory": "E_sol",
           "upper": 721.305581665039
          },
          {
           "lower": 440.11942291259766,
           "timepoint": 10,
           "trajectory": "E_sol",
           "upper": 726.7741302490234
          },
          {
           "lower": 441.44988708496095,
           "timepoint": 10.100000381469727,
           "trajectory": "E_sol",
           "upper": 732.2959350585937
          },
          {
           "lower": 442.79752960205076,
           "timepoint": 10.199999809265137,
           "trajectory": "E_sol",
           "upper": 737.8708343505859
          },
          {
           "lower": 444.1618316650391,
           "timepoint": 10.300000190734863,
           "trajectory": "E_sol",
           "upper": 743.4987854003906
          },
          {
           "lower": 445.5423858642578,
           "timepoint": 10.40000057220459,
           "trajectory": "E_sol",
           "upper": 749.1789428710937
          },
          {
           "lower": 446.9389251708984,
           "timepoint": 10.5,
           "trajectory": "E_sol",
           "upper": 754.9123779296874
          },
          {
           "lower": 448.35052490234375,
           "timepoint": 10.600000381469727,
           "trajectory": "E_sol",
           "upper": 760.6987152099609
          },
          {
           "lower": 449.7769805908203,
           "timepoint": 10.699999809265137,
           "trajectory": "E_sol",
           "upper": 766.5374572753906
          },
          {
           "lower": 451.21717376708983,
           "timepoint": 10.800000190734863,
           "trajectory": "E_sol",
           "upper": 772.429360961914
          },
          {
           "lower": 452.6718154907227,
           "timepoint": 10.90000057220459,
           "trajectory": "E_sol",
           "upper": 778.3741119384765
          },
          {
           "lower": 454.1400863647461,
           "timepoint": 11,
           "trajectory": "E_sol",
           "upper": 784.3717224121093
          },
          {
           "lower": 455.6216339111328,
           "timepoint": 11.100000381469727,
           "trajectory": "E_sol",
           "upper": 790.4224578857421
          },
          {
           "lower": 457.1161056518555,
           "timepoint": 11.199999809265137,
           "trajectory": "E_sol",
           "upper": 796.526235961914
          },
          {
           "lower": 458.62327880859374,
           "timepoint": 11.300000190734863,
           "trajectory": "E_sol",
           "upper": 802.6834747314452
          },
          {
           "lower": 460.1427688598633,
           "timepoint": 11.40000057220459,
           "trajectory": "E_sol",
           "upper": 808.8938720703125
          },
          {
           "lower": 461.6737579345703,
           "timepoint": 11.5,
           "trajectory": "E_sol",
           "upper": 815.1575714111327
          },
          {
           "lower": 463.21684112548826,
           "timepoint": 11.600000381469727,
           "trajectory": "E_sol",
           "upper": 821.4750671386719
          },
          {
           "lower": 464.771418762207,
           "timepoint": 11.699999809265137,
           "trajectory": "E_sol",
           "upper": 827.846368408203
          },
          {
           "lower": 466.33721618652345,
           "timepoint": 11.800000190734863,
           "trajectory": "E_sol",
           "upper": 834.2718017578125
          },
          {
           "lower": 467.91405029296874,
           "timepoint": 11.90000057220459,
           "trajectory": "E_sol",
           "upper": 840.7514068603515
          },
          {
           "lower": 469.5016235351562,
           "timepoint": 12,
           "trajectory": "E_sol",
           "upper": 847.2853942871093
          },
          {
           "lower": 471.0997619628906,
           "timepoint": 12.100000381469727,
           "trajectory": "E_sol",
           "upper": 853.8741149902344
          },
          {
           "lower": 472.7082458496094,
           "timepoint": 12.199999809265137,
           "trajectory": "E_sol",
           "upper": 860.5173492431641
          },
          {
           "lower": 474.3269439697266,
           "timepoint": 12.300000190734863,
           "trajectory": "E_sol",
           "upper": 867.2160522460937
          },
          {
           "lower": 475.95618896484376,
           "timepoint": 12.40000057220459,
           "trajectory": "E_sol",
           "upper": 873.970166015625
          },
          {
           "lower": 477.5948715209961,
           "timepoint": 12.5,
           "trajectory": "E_sol",
           "upper": 880.7797576904296
          },
          {
           "lower": 479.2432525634766,
           "timepoint": 12.600000381469727,
           "trajectory": "E_sol",
           "upper": 887.6454986572265
          },
          {
           "lower": 480.9011932373047,
           "timepoint": 12.699999809265137,
           "trajectory": "E_sol",
           "upper": 894.5673614501952
          },
          {
           "lower": 482.56849975585936,
           "timepoint": 12.800000190734863,
           "trajectory": "E_sol",
           "upper": 901.5458679199219
          },
          {
           "lower": 484.2450744628906,
           "timepoint": 12.90000057220459,
           "trajectory": "E_sol",
           "upper": 908.5812683105469
          },
          {
           "lower": 485.930973815918,
           "timepoint": 13,
           "trajectory": "E_sol",
           "upper": 915.6737182617187
          },
          {
           "lower": 487.62574005126953,
           "timepoint": 13.100000381469727,
           "trajectory": "E_sol",
           "upper": 922.8238067626953
          },
          {
           "lower": 489.32933044433594,
           "timepoint": 13.199999809265137,
           "trajectory": "E_sol",
           "upper": 930.0329193115234
          },
          {
           "lower": 491.04237365722656,
           "timepoint": 13.300000190734863,
           "trajectory": "E_sol",
           "upper": 937.2993743896484
          },
          {
           "lower": 492.7637680053711,
           "timepoint": 13.40000057220459,
           "trajectory": "E_sol",
           "upper": 944.6244232177734
          },
          {
           "lower": 494.493717956543,
           "timepoint": 13.5,
           "trajectory": "E_sol",
           "upper": 952.0072784423828
          },
          {
           "lower": 496.23231048583983,
           "timepoint": 13.600000381469727,
           "trajectory": "E_sol",
           "upper": 959.4503631591796
          },
          {
           "lower": 497.9793304443359,
           "timepoint": 13.699999809265137,
           "trajectory": "E_sol",
           "upper": 966.9529968261718
          },
          {
           "lower": 499.7347381591797,
           "timepoint": 13.800000190734863,
           "trajectory": "E_sol",
           "upper": 974.5158203125
          },
          {
           "lower": 501.4984786987305,
           "timepoint": 13.90000057220459,
           "trajectory": "E_sol",
           "upper": 982.1390594482422
          },
          {
           "lower": 503.2703796386719,
           "timepoint": 14,
           "trajectory": "E_sol",
           "upper": 989.823159790039
          },
          {
           "lower": 505.05052337646487,
           "timepoint": 14.100000381469727,
           "trajectory": "E_sol",
           "upper": 997.5685760498046
          },
          {
           "lower": 506.83875579833983,
           "timepoint": 14.199999809265137,
           "trajectory": "E_sol",
           "upper": 1005.3755859375
          },
          {
           "lower": 508.6354675292969,
           "timepoint": 14.300000190734863,
           "trajectory": "E_sol",
           "upper": 1013.2447845458984
          },
          {
           "lower": 510.43992614746094,
           "timepoint": 14.40000057220459,
           "trajectory": "E_sol",
           "upper": 1021.1759063720702
          },
          {
           "lower": 512.2523727416992,
           "timepoint": 14.5,
           "trajectory": "E_sol",
           "upper": 1029.170391845703
          },
          {
           "lower": 514.0727966308593,
           "timepoint": 14.600000381469727,
           "trajectory": "E_sol",
           "upper": 1037.2282470703124
          },
          {
           "lower": 515.9011138916015,
           "timepoint": 14.699999809265137,
           "trajectory": "E_sol",
           "upper": 1045.349819946289
          },
          {
           "lower": 517.7373138427735,
           "timepoint": 14.800000190734863,
           "trajectory": "E_sol",
           "upper": 1053.535791015625
          },
          {
           "lower": 519.5813522338867,
           "timepoint": 14.90000057220459,
           "trajectory": "E_sol",
           "upper": 1061.786309814453
          },
          {
           "lower": 521.4331619262696,
           "timepoint": 15,
           "trajectory": "E_sol",
           "upper": 1070.1020629882812
          },
          {
           "lower": 523.2931884765625,
           "timepoint": 15.100000381469727,
           "trajectory": "E_sol",
           "upper": 1078.4835021972656
          },
          {
           "lower": 525.1606506347656,
           "timepoint": 15.199999809265137,
           "trajectory": "E_sol",
           "upper": 1086.931018066406
          },
          {
           "lower": 527.0351287841797,
           "timepoint": 15.300000190734863,
           "trajectory": "E_sol",
           "upper": 1095.4451110839843
          },
          {
           "lower": 528.9179153442383,
           "timepoint": 15.40000057220459,
           "trajectory": "E_sol",
           "upper": 1104.026202392578
          },
          {
           "lower": 530.8083618164062,
           "timepoint": 15.5,
           "trajectory": "E_sol",
           "upper": 1112.6748901367187
          },
          {
           "lower": 532.7065063476563,
           "timepoint": 15.600000381469727,
           "trajectory": "E_sol",
           "upper": 1121.3915893554686
          },
          {
           "lower": 534.6122665405273,
           "timepoint": 15.699999809265137,
           "trajectory": "E_sol",
           "upper": 1130.1765624999998
          },
          {
           "lower": 536.5257247924804,
           "timepoint": 15.800000190734863,
           "trajectory": "E_sol",
           "upper": 1139.0308227539062
          },
          {
           "lower": 538.4467544555664,
           "timepoint": 15.90000057220459,
           "trajectory": "E_sol",
           "upper": 1147.9546813964844
          },
          {
           "lower": 540.3754486083984,
           "timepoint": 16,
           "trajectory": "E_sol",
           "upper": 1156.9484375
          },
          {
           "lower": 542.31171875,
           "timepoint": 16.100000381469727,
           "trajectory": "E_sol",
           "upper": 1166.0139343261717
          },
          {
           "lower": 544.2555603027344,
           "timepoint": 16.200000762939453,
           "trajectory": "E_sol",
           "upper": 1175.1495056152344
          },
          {
           "lower": 546.2075927734375,
           "timepoint": 16.30000114440918,
           "trajectory": "E_sol",
           "upper": 1184.3568420410156
          },
          {
           "lower": 548.1667785644531,
           "timepoint": 16.399999618530273,
           "trajectory": "E_sol",
           "upper": 1193.6360534667967
          },
          {
           "lower": 550.1336181640625,
           "timepoint": 16.5,
           "trajectory": "E_sol",
           "upper": 1202.9884826660154
          },
          {
           "lower": 552.1080108642578,
           "timepoint": 16.600000381469727,
           "trajectory": "E_sol",
           "upper": 1212.4137756347654
          },
          {
           "lower": 554.0901397705078,
           "timepoint": 16.700000762939453,
           "trajectory": "E_sol",
           "upper": 1221.9130554199219
          },
          {
           "lower": 556.0798217773438,
           "timepoint": 16.80000114440918,
           "trajectory": "E_sol",
           "upper": 1231.4868103027343
          },
          {
           "lower": 558.0770629882812,
           "timepoint": 16.899999618530273,
           "trajectory": "E_sol",
           "upper": 1241.1350830078125
          },
          {
           "lower": 560.0820404052735,
           "timepoint": 17,
           "trajectory": "E_sol",
           "upper": 1250.858996582031
          },
          {
           "lower": 562.094692993164,
           "timepoint": 17.100000381469727,
           "trajectory": "E_sol",
           "upper": 1260.6591857910155
          },
          {
           "lower": 564.1149871826171,
           "timepoint": 17.200000762939453,
           "trajectory": "E_sol",
           "upper": 1270.5357604980468
          },
          {
           "lower": 566.1430114746094,
           "timepoint": 17.30000114440918,
           "trajectory": "E_sol",
           "upper": 1280.4876159667967
          },
          {
           "lower": 568.1786834716797,
           "timepoint": 17.399999618530273,
           "trajectory": "E_sol",
           "upper": 1290.5187255859373
          },
          {
           "lower": 570.2219909667969,
           "timepoint": 17.5,
           "trajectory": "E_sol",
           "upper": 1300.6282409667967
          },
          {
           "lower": 572.2725524902344,
           "timepoint": 17.600000381469727,
           "trajectory": "E_sol",
           "upper": 1310.816552734375
          },
          {
           "lower": 574.3312438964844,
           "timepoint": 17.700000762939453,
           "trajectory": "E_sol",
           "upper": 1321.086669921875
          },
          {
           "lower": 576.397705078125,
           "timepoint": 17.80000114440918,
           "trajectory": "E_sol",
           "upper": 1331.4351562499999
          },
          {
           "lower": 578.4705200195312,
           "timepoint": 17.899999618530273,
           "trajectory": "E_sol",
           "upper": 1341.864172363281
          },
          {
           "lower": 580.5522003173828,
           "timepoint": 18,
           "trajectory": "E_sol",
           "upper": 1352.374737548828
          },
          {
           "lower": 582.6415710449219,
           "timepoint": 18.100000381469727,
           "trajectory": "E_sol",
           "upper": 1362.9672973632812
          },
          {
           "lower": 584.7387390136719,
           "timepoint": 18.200000762939453,
           "trajectory": "E_sol",
           "upper": 1373.642529296875
          },
          {
           "lower": 586.8437469482421,
           "timepoint": 18.30000114440918,
           "trajectory": "E_sol",
           "upper": 1384.4009338378905
          },
          {
           "lower": 588.9564178466796,
           "timepoint": 18.399999618530273,
           "trajectory": "E_sol",
           "upper": 1395.2429321289062
          },
          {
           "lower": 591.0770233154296,
           "timepoint": 18.5,
           "trajectory": "E_sol",
           "upper": 1406.1697692871094
          },
          {
           "lower": 593.2053527832031,
           "timepoint": 18.600000381469727,
           "trajectory": "E_sol",
           "upper": 1417.1816894531248
          },
          {
           "lower": 595.3416168212891,
           "timepoint": 18.700000762939453,
           "trajectory": "E_sol",
           "upper": 1428.2794799804688
          },
          {
           "lower": 597.485693359375,
           "timepoint": 18.80000114440918,
           "trajectory": "E_sol",
           "upper": 1439.463653564453
          },
          {
           "lower": 599.6376098632812,
           "timepoint": 18.899999618530273,
           "trajectory": "E_sol",
           "upper": 1450.734765625
          },
          {
           "lower": 601.7975219726562,
           "timepoint": 19,
           "trajectory": "E_sol",
           "upper": 1462.0937255859374
          },
          {
           "lower": 603.9655609130859,
           "timepoint": 19.100000381469727,
           "trajectory": "E_sol",
           "upper": 1473.5413452148437
          },
          {
           "lower": 606.141323852539,
           "timepoint": 19.200000762939453,
           "trajectory": "E_sol",
           "upper": 1485.07734375
          },
          {
           "lower": 608.3251434326172,
           "timepoint": 19.30000114440918,
           "trajectory": "E_sol",
           "upper": 1496.703692626953
          },
          {
           "lower": 610.5167083740234,
           "timepoint": 19.399999618530273,
           "trajectory": "E_sol",
           "upper": 1508.4203796386716
          },
          {
           "lower": 612.7164733886718,
           "timepoint": 19.5,
           "trajectory": "E_sol",
           "upper": 1520.2284362792968
          },
          {
           "lower": 614.9242553710938,
           "timepoint": 19.600000381469727,
           "trajectory": "E_sol",
           "upper": 1532.1286254882812
          },
          {
           "lower": 617.1400207519531,
           "timepoint": 19.700000762939453,
           "trajectory": "E_sol",
           "upper": 1544.121044921875
          },
          {
           "lower": 619.3639251708985,
           "timepoint": 19.80000114440918,
           "trajectory": "E_sol",
           "upper": 1556.2067993164062
          },
          {
           "lower": 621.5958740234375,
           "timepoint": 19.899999618530273,
           "trajectory": "E_sol",
           "upper": 1568.3861572265623
          },
          {
           "lower": 623.8359283447265,
           "timepoint": 20,
           "trajectory": "E_sol",
           "upper": 1580.6605834960935
          },
          {
           "lower": 626.0841827392578,
           "timepoint": 20.100000381469727,
           "trajectory": "E_sol",
           "upper": 1593.0304138183592
          },
          {
           "lower": 628.3405090332031,
           "timepoint": 20.200000762939453,
           "trajectory": "E_sol",
           "upper": 1605.4961791992187
          },
          {
           "lower": 630.6050842285156,
           "timepoint": 20.30000114440918,
           "trajectory": "E_sol",
           "upper": 1618.0591247558593
          },
          {
           "lower": 632.8778259277344,
           "timepoint": 20.399999618530273,
           "trajectory": "E_sol",
           "upper": 1630.7192504882812
          },
          {
           "lower": 635.158822631836,
           "timepoint": 20.5,
           "trajectory": "E_sol",
           "upper": 1643.4777770996093
          },
          {
           "lower": 637.4480010986329,
           "timepoint": 20.600000381469727,
           "trajectory": "E_sol",
           "upper": 1656.335595703125
          },
          {
           "lower": 639.7454681396484,
           "timepoint": 20.700000762939453,
           "trajectory": "E_sol",
           "upper": 1669.293359375
          },
          {
           "lower": 642.0513061523437,
           "timepoint": 20.80000114440918,
           "trajectory": "E_sol",
           "upper": 1682.3515258789062
          },
          {
           "lower": 644.3661834716797,
           "timepoint": 20.899999618530273,
           "trajectory": "E_sol",
           "upper": 1695.5109374999997
          },
          {
           "lower": 646.6887451171875,
           "timepoint": 21,
           "trajectory": "E_sol",
           "upper": 1708.772717285156
          },
          {
           "lower": 649.0214385986328,
           "timepoint": 21.100000381469727,
           "trajectory": "E_sol",
           "upper": 1722.137463378906
          },
          {
           "lower": 651.3610656738281,
           "timepoint": 21.200000762939453,
           "trajectory": "E_sol",
           "upper": 1735.606359863281
          },
          {
           "lower": 653.7092132568359,
           "timepoint": 21.30000114440918,
           "trajectory": "E_sol",
           "upper": 1749.1792541503905
          },
          {
           "lower": 656.0657470703125,
           "timepoint": 21.399999618530273,
           "trajectory": "E_sol",
           "upper": 1762.8573486328123
          },
          {
           "lower": 658.4308685302734,
           "timepoint": 21.5,
           "trajectory": "E_sol",
           "upper": 1776.641632080078
          },
          {
           "lower": 660.8045928955078,
           "timepoint": 21.600000381469727,
           "trajectory": "E_sol",
           "upper": 1790.5329162597654
          },
          {
           "lower": 663.1868316650391,
           "timepoint": 21.700000762939453,
           "trajectory": "E_sol",
           "upper": 1804.5337890624999
          },
          {
           "lower": 665.5776519775391,
           "timepoint": 21.80000114440918,
           "trajectory": "E_sol",
           "upper": 1818.6416931152341
          },
          {
           "lower": 667.9770690917969,
           "timepoint": 21.899999618530273,
           "trajectory": "E_sol",
           "upper": 1832.858441162109
          },
          {
           "lower": 670.3852172851563,
           "timepoint": 22,
           "trajectory": "E_sol",
           "upper": 1847.185821533203
          },
          {
           "lower": 672.8019958496094,
           "timepoint": 22.100000381469727,
           "trajectory": "E_sol",
           "upper": 1861.624200439453
          },
          {
           "lower": 675.2275329589844,
           "timepoint": 22.200000762939453,
           "trajectory": "E_sol",
           "upper": 1876.174591064453
          },
          {
           "lower": 677.6617889404297,
           "timepoint": 22.30000114440918,
           "trajectory": "E_sol",
           "upper": 1890.8376464843748
          },
          {
           "lower": 680.104769897461,
           "timepoint": 22.399999618530273,
           "trajectory": "E_sol",
           "upper": 1905.6139343261716
          },
          {
           "lower": 682.5565582275391,
           "timepoint": 22.5,
           "trajectory": "E_sol",
           "upper": 1920.5050537109373
          },
          {
           "lower": 685.0171875,
           "timepoint": 22.600000381469727,
           "trajectory": "E_sol",
           "upper": 1935.5114501953124
          },
          {
           "lower": 687.4867126464844,
           "timepoint": 22.700000762939453,
           "trajectory": "E_sol",
           "upper": 1950.6342224121092
          },
          {
           "lower": 689.9650512695313,
           "timepoint": 22.80000114440918,
           "trajectory": "E_sol",
           "upper": 1965.8738159179686
          },
          {
           "lower": 692.4523193359375,
           "timepoint": 22.899999618530273,
           "trajectory": "E_sol",
           "upper": 1981.2313171386718
          },
          {
           "lower": 694.948681640625,
           "timepoint": 23,
           "trajectory": "E_sol",
           "upper": 1996.7072570800779
          },
          {
           "lower": 697.4539245605469,
           "timepoint": 23.100000381469727,
           "trajectory": "E_sol",
           "upper": 2012.303643798828
          },
          {
           "lower": 699.9693603515625,
           "timepoint": 23.200000762939453,
           "trajectory": "E_sol",
           "upper": 2028.020538330078
          },
          {
           "lower": 702.4927795410156,
           "timepoint": 23.30000114440918,
           "trajectory": "E_sol",
           "upper": 2043.8589416503905
          },
          {
           "lower": 705.0253051757812,
           "timepoint": 23.399999618530273,
           "trajectory": "E_sol",
           "upper": 2059.819964599609
          },
          {
           "lower": 707.5669311523437,
           "timepoint": 23.5,
           "trajectory": "E_sol",
           "upper": 2075.9044494628906
          },
          {
           "lower": 710.1176696777344,
           "timepoint": 23.600000381469727,
           "trajectory": "E_sol",
           "upper": 2092.1132324218747
          },
          {
           "lower": 712.6776916503907,
           "timepoint": 23.700000762939453,
           "trajectory": "E_sol",
           "upper": 2108.4476135253904
          },
          {
           "lower": 715.2468475341797,
           "timepoint": 23.80000114440918,
           "trajectory": "E_sol",
           "upper": 2124.9080566406246
          },
          {
           "lower": 717.8252044677735,
           "timepoint": 23.899999618530273,
           "trajectory": "E_sol",
           "upper": 2141.4956970214844
          },
          {
           "lower": 720.4128936767578,
           "timepoint": 24,
           "trajectory": "E_sol",
           "upper": 2158.211700439453
          },
          {
           "lower": 723.0098449707032,
           "timepoint": 24.100000381469727,
           "trajectory": "E_sol",
           "upper": 2175.0566650390624
          },
          {
           "lower": 725.6162017822265,
           "timepoint": 24.200000762939453,
           "trajectory": "E_sol",
           "upper": 2192.03212890625
          },
          {
           "lower": 728.2318969726563,
           "timepoint": 24.30000114440918,
           "trajectory": "E_sol",
           "upper": 2209.1386108398438
          },
          {
           "lower": 730.8569366455079,
           "timepoint": 24.399999618530273,
           "trajectory": "E_sol",
           "upper": 2226.3770874023435
          },
          {
           "lower": 733.4914031982422,
           "timepoint": 24.5,
           "trajectory": "E_sol",
           "upper": 2243.748937988281
          },
          {
           "lower": 736.1353912353516,
           "timepoint": 24.600000381469727,
           "trajectory": "E_sol",
           "upper": 2261.2549194335934
          },
          {
           "lower": 738.7888671875,
           "timepoint": 24.700000762939453,
           "trajectory": "E_sol",
           "upper": 2278.896362304687
          },
          {
           "lower": 741.4518981933594,
           "timepoint": 24.80000114440918,
           "trajectory": "E_sol",
           "upper": 2296.6692138671874
          },
          {
           "lower": 744.1244232177735,
           "timepoint": 24.899999618530273,
           "trajectory": "E_sol",
           "upper": 2314.582641601562
          },
          {
           "lower": 746.806607055664,
           "timepoint": 25,
           "trajectory": "E_sol",
           "upper": 2332.6345092773436
          },
          {
           "lower": 749.4984344482422,
           "timepoint": 25.100000381469727,
           "trajectory": "E_sol",
           "upper": 2350.8258789062497
          },
          {
           "lower": 752.1998931884766,
           "timepoint": 25.200000762939453,
           "trajectory": "E_sol",
           "upper": 2369.157336425781
          },
          {
           "lower": 754.9110565185547,
           "timepoint": 25.30000114440918,
           "trajectory": "E_sol",
           "upper": 2387.630432128906
          },
          {
           "lower": 757.6319061279297,
           "timepoint": 25.399999618530273,
           "trajectory": "E_sol",
           "upper": 2406.246594238281
          },
          {
           "lower": 760.3625427246094,
           "timepoint": 25.5,
           "trajectory": "E_sol",
           "upper": 2425.0054077148434
          },
          {
           "lower": 763.102993774414,
           "timepoint": 25.600000381469727,
           "trajectory": "E_sol",
           "upper": 2443.908837890625
          },
          {
           "lower": 765.8534271240235,
           "timepoint": 25.700000762939453,
           "trajectory": "E_sol",
           "upper": 2462.9579956054686
          },
          {
           "lower": 768.6133605957032,
           "timepoint": 25.80000114440918,
           "trajectory": "E_sol",
           "upper": 2482.153723144531
          },
          {
           "lower": 771.3833221435547,
           "timepoint": 25.899999618530273,
           "trajectory": "E_sol",
           "upper": 2501.4969116210937
          },
          {
           "lower": 774.163363647461,
           "timepoint": 26,
           "trajectory": "E_sol",
           "upper": 2520.989379882812
          },
          {
           "lower": 776.953335571289,
           "timepoint": 26.100000381469727,
           "trajectory": "E_sol",
           "upper": 2540.632153320312
          },
          {
           "lower": 779.7533264160156,
           "timepoint": 26.200000762939453,
           "trajectory": "E_sol",
           "upper": 2560.4257202148433
          },
          {
           "lower": 782.5633483886719,
           "timepoint": 26.30000114440918,
           "trajectory": "E_sol",
           "upper": 2580.3719238281246
          },
          {
           "lower": 785.3833770751953,
           "timepoint": 26.399999618530273,
           "trajectory": "E_sol",
           "upper": 2600.4711425781247
          },
          {
           "lower": 788.2135864257813,
           "timepoint": 26.5,
           "trajectory": "E_sol",
           "upper": 2620.7242553710935
          },
          {
           "lower": 791.0540252685547,
           "timepoint": 26.600000381469727,
           "trajectory": "E_sol",
           "upper": 2641.1341674804685
          },
          {
           "lower": 793.9045104980469,
           "timepoint": 26.700000762939453,
           "trajectory": "E_sol",
           "upper": 2661.70107421875
          },
          {
           "lower": 796.7653076171875,
           "timepoint": 26.80000114440918,
           "trajectory": "E_sol",
           "upper": 2682.425793457031
          },
          {
           "lower": 799.6362731933593,
           "timepoint": 26.899999618530273,
           "trajectory": "E_sol",
           "upper": 2703.309594726562
          },
          {
           "lower": 802.5176239013672,
           "timepoint": 27,
           "trajectory": "E_sol",
           "upper": 2724.3538940429685
          },
          {
           "lower": 805.4091918945312,
           "timepoint": 27.100000381469727,
           "trajectory": "E_sol",
           "upper": 2745.5602539062497
          },
          {
           "lower": 808.311166381836,
           "timepoint": 27.200000762939453,
           "trajectory": "E_sol",
           "upper": 2766.9293823242183
          },
          {
           "lower": 811.2235534667968,
           "timepoint": 27.30000114440918,
           "trajectory": "E_sol",
           "upper": 2788.4623901367186
          },
          {
           "lower": 814.1463348388672,
           "timepoint": 27.399999618530273,
           "trajectory": "E_sol",
           "upper": 2810.160412597656
          },
          {
           "lower": 817.0796173095703,
           "timepoint": 27.5,
           "trajectory": "E_sol",
           "upper": 2832.025512695312
          },
          {
           "lower": 820.0233551025391,
           "timepoint": 27.600000381469727,
           "trajectory": "E_sol",
           "upper": 2854.0580444335933
          },
          {
           "lower": 822.9776763916016,
           "timepoint": 27.700000762939453,
           "trajectory": "E_sol",
           "upper": 2876.259680175781
          },
          {
           "lower": 825.9425811767578,
           "timepoint": 27.80000114440918,
           "trajectory": "E_sol",
           "upper": 2898.631994628906
          },
          {
           "lower": 828.9180084228516,
           "timepoint": 27.899999618530273,
           "trajectory": "E_sol",
           "upper": 2921.174853515625
          },
          {
           "lower": 831.9041625976563,
           "timepoint": 28,
           "trajectory": "E_sol",
           "upper": 2943.8912597656245
          },
          {
           "lower": 834.9010498046875,
           "timepoint": 28.100000381469727,
           "trajectory": "E_sol",
           "upper": 2966.781298828125
          },
          {
           "lower": 837.9086364746094,
           "timepoint": 28.200000762939453,
           "trajectory": "E_sol",
           "upper": 2989.847436523437
          },
          {
           "lower": 840.9269836425781,
           "timepoint": 28.30000114440918,
           "trajectory": "E_sol",
           "upper": 3013.093969726562
          },
          {
           "lower": 843.9561065673828,
           "timepoint": 28.399999618530273,
           "trajectory": "E_sol",
           "upper": 3036.5145385742185
          },
          {
           "lower": 846.9967376708985,
           "timepoint": 28.5,
           "trajectory": "E_sol",
           "upper": 3060.1148925781245
          },
          {
           "lower": 850.0477752685547,
           "timepoint": 28.600000381469727,
           "trajectory": "E_sol",
           "upper": 3083.8961914062497
          },
          {
           "lower": 853.1096771240234,
           "timepoint": 28.700000762939453,
           "trajectory": "E_sol",
           "upper": 3107.8593261718747
          },
          {
           "lower": 856.1825775146484,
           "timepoint": 28.80000114440918,
           "trajectory": "E_sol",
           "upper": 3132.005981445312
          },
          {
           "lower": 859.2662872314453,
           "timepoint": 28.899999618530273,
           "trajectory": "E_sol",
           "upper": 3156.3369140624995
          },
          {
           "lower": 862.3612060546875,
           "timepoint": 29,
           "trajectory": "E_sol",
           "upper": 3180.8543457031246
          },
          {
           "lower": 865.4671173095703,
           "timepoint": 29.100000381469727,
           "trajectory": "E_sol",
           "upper": 3205.5578491210936
          },
          {
           "lower": 868.5841918945313,
           "timepoint": 29.200000762939453,
           "trajectory": "E_sol",
           "upper": 3230.451770019531
          },
          {
           "lower": 871.712353515625,
           "timepoint": 29.30000114440918,
           "trajectory": "E_sol",
           "upper": 3255.535656738281
          },
          {
           "lower": 874.8517791748047,
           "timepoint": 29.399999618530273,
           "trajectory": "E_sol",
           "upper": 3280.8108886718746
          },
          {
           "lower": 878.0023406982422,
           "timepoint": 29.5,
           "trajectory": "E_sol",
           "upper": 3306.2795288085936
          },
          {
           "lower": 881.1642150878906,
           "timepoint": 29.600000381469727,
           "trajectory": "E_sol",
           "upper": 3331.9428710937495
          },
          {
           "lower": 884.3373931884765,
           "timepoint": 29.700000762939453,
           "trajectory": "E_sol",
           "upper": 3357.802087402343
          },
          {
           "lower": 887.521939086914,
           "timepoint": 29.80000114440918,
           "trajectory": "E_sol",
           "upper": 3383.8585815429683
          },
          {
           "lower": 890.7177764892579,
           "timepoint": 29.899999618530273,
           "trajectory": "E_sol",
           "upper": 3410.1133300781244
          },
          {
           "lower": 893.9250762939453,
           "timepoint": 30,
           "trajectory": "E_sol",
           "upper": 3436.5690429687497
          },
          {
           "lower": 897.1439056396484,
           "timepoint": 30.100000381469727,
           "trajectory": "E_sol",
           "upper": 3463.2251342773434
          },
          {
           "lower": 900.3741638183594,
           "timepoint": 30.200000762939453,
           "trajectory": "E_sol",
           "upper": 3490.085534667968
          },
          {
           "lower": 903.6160400390625,
           "timepoint": 30.30000114440918,
           "trajectory": "E_sol",
           "upper": 3517.150964355468
          },
          {
           "lower": 906.8693237304688,
           "timepoint": 30.399999618530273,
           "trajectory": "E_sol",
           "upper": 3544.4215820312497
          },
          {
           "lower": 910.1343963623046,
           "timepoint": 30.5,
           "trajectory": "E_sol",
           "upper": 3571.9007690429685
          },
          {
           "lower": 913.4110473632812,
           "timepoint": 30.600000381469727,
           "trajectory": "E_sol",
           "upper": 3599.589025878906
          },
          {
           "lower": 916.6994934082031,
           "timepoint": 30.700000762939453,
           "trajectory": "E_sol",
           "upper": 3627.488293457031
          },
          {
           "lower": 919.9996124267578,
           "timepoint": 30.80000114440918,
           "trajectory": "E_sol",
           "upper": 3655.599682617187
          },
          {
           "lower": 923.31142578125,
           "timepoint": 30.899999618530273,
           "trajectory": "E_sol",
           "upper": 3683.9242797851557
          },
          {
           "lower": 926.6351501464844,
           "timepoint": 31,
           "trajectory": "E_sol",
           "upper": 3712.4694824218745
          },
          {
           "lower": 929.9719940185547,
           "timepoint": 31.100000381469727,
           "trajectory": "E_sol",
           "upper": 3741.227844238281
          },
          {
           "lower": 933.3196716308594,
           "timepoint": 31.200000762939453,
           "trajectory": "E_sol",
           "upper": 3770.204992675781
          },
          {
           "lower": 936.6792816162109,
           "timepoint": 31.30000114440918,
           "trajectory": "E_sol",
           "upper": 3799.4025268554683
          },
          {
           "lower": 940.0508361816406,
           "timepoint": 31.399999618530273,
           "trajectory": "E_sol",
           "upper": 3828.8213989257806
          },
          {
           "lower": 943.4344451904296,
           "timepoint": 31.5,
           "trajectory": "E_sol",
           "upper": 3858.464282226562
          },
          {
           "lower": 946.8301635742188,
           "timepoint": 31.600000381469727,
           "trajectory": "E_sol",
           "upper": 3888.3323242187494
          },
          {
           "lower": 950.2380920410156,
           "timepoint": 31.700000762939453,
           "trajectory": "E_sol",
           "upper": 3918.426977539062
          },
          {
           "lower": 953.6580963134766,
           "timepoint": 31.80000114440918,
           "trajectory": "E_sol",
           "upper": 3948.7496582031245
          },
          {
           "lower": 957.09033203125,
           "timepoint": 31.899999618530273,
           "trajectory": "E_sol",
           "upper": 3979.301672363281
          },
          {
           "lower": 960.534799194336,
           "timepoint": 32,
           "trajectory": "E_sol",
           "upper": 4010.0865234374996
          },
          {
           "lower": 963.9916748046875,
           "timepoint": 32.10000228881836,
           "trajectory": "E_sol",
           "upper": 4041.105310058593
          },
          {
           "lower": 967.4607818603515,
           "timepoint": 32.20000076293945,
           "trajectory": "E_sol",
           "upper": 4072.358129882812
          },
          {
           "lower": 970.9421417236329,
           "timepoint": 32.29999923706055,
           "trajectory": "E_sol",
           "upper": 4103.84775390625
          },
          {
           "lower": 974.4360992431641,
           "timepoint": 32.400001525878906,
           "trajectory": "E_sol",
           "upper": 4135.576831054687
          },
          {
           "lower": 977.9425415039062,
           "timepoint": 32.5,
           "trajectory": "E_sol",
           "upper": 4167.5454223632805
          },
          {
           "lower": 981.4614044189453,
           "timepoint": 32.60000228881836,
           "trajectory": "E_sol",
           "upper": 4199.754956054687
          },
          {
           "lower": 984.9928955078125,
           "timepoint": 32.70000076293945,
           "trajectory": "E_sol",
           "upper": 4232.208898925781
          },
          {
           "lower": 988.5368835449219,
           "timepoint": 32.79999923706055,
           "trajectory": "E_sol",
           "upper": 4264.908581542968
          },
          {
           "lower": 992.0935791015625,
           "timepoint": 32.900001525878906,
           "trajectory": "E_sol",
           "upper": 4297.856176757812
          },
          {
           "lower": 995.6629699707031,
           "timepoint": 33,
           "trajectory": "E_sol",
           "upper": 4331.051892089843
          },
          {
           "lower": 999.2451019287109,
           "timepoint": 33.10000228881836,
           "trajectory": "E_sol",
           "upper": 4364.499792480468
          },
          {
           "lower": 1002.8400177001953,
           "timepoint": 33.20000076293945,
           "trajectory": "E_sol",
           "upper": 4398.198962402343
          },
          {
           "lower": 1006.4475738525391,
           "timepoint": 33.29999923706055,
           "trajectory": "E_sol",
           "upper": 4432.152587890624
          },
          {
           "lower": 1010.0682678222656,
           "timepoint": 33.400001525878906,
           "trajectory": "E_sol",
           "upper": 4466.364038085937
          },
          {
           "lower": 1013.7017578125,
           "timepoint": 33.5,
           "trajectory": "E_sol",
           "upper": 4500.832275390624
          },
          {
           "lower": 1017.3482543945313,
           "timepoint": 33.60000228881836,
           "trajectory": "E_sol",
           "upper": 4535.560131835937
          },
          {
           "lower": 1021.007699584961,
           "timepoint": 33.70000076293945,
           "trajectory": "E_sol",
           "upper": 4570.549975585936
          },
          {
           "lower": 1024.6792602539062,
           "timepoint": 33.79999923706055,
           "trajectory": "E_sol",
           "upper": 4605.803540039062
          },
          {
           "lower": 1028.364828491211,
           "timepoint": 33.900001525878906,
           "trajectory": "E_sol",
           "upper": 4641.323217773437
          },
          {
           "lower": 1032.0633697509766,
           "timepoint": 34,
           "trajectory": "E_sol",
           "upper": 4677.109326171874
          },
          {
           "lower": 1035.7751708984374,
           "timepoint": 34.10000228881836,
           "trajectory": "E_sol",
           "upper": 4713.166479492187
          },
          {
           "lower": 1039.5001647949218,
           "timepoint": 34.20000076293945,
           "trajectory": "E_sol",
           "upper": 4749.493310546874
          },
          {
           "lower": 1043.238363647461,
           "timepoint": 34.29999923706055,
           "trajectory": "E_sol",
           "upper": 4786.098291015624
          },
          {
           "lower": 1046.9903350830077,
           "timepoint": 34.400001525878906,
           "trajectory": "E_sol",
           "upper": 4822.975073242187
          },
          {
           "lower": 1050.7552642822266,
           "timepoint": 34.5,
           "trajectory": "E_sol",
           "upper": 4860.128417968749
          },
          {
           "lower": 1054.5337310791015,
           "timepoint": 34.60000228881836,
           "trajectory": "E_sol",
           "upper": 4897.562231445312
          },
          {
           "lower": 1058.3253692626954,
           "timepoint": 34.70000076293945,
           "trajectory": "E_sol",
           "upper": 4935.275268554687
          },
          {
           "lower": 1062.130697631836,
           "timepoint": 34.79999923706055,
           "trajectory": "E_sol",
           "upper": 4973.271264648437
          },
          {
           "lower": 1065.9496520996095,
           "timepoint": 34.900001525878906,
           "trajectory": "E_sol",
           "upper": 5011.554174804687
          },
          {
           "lower": 1069.7820434570312,
           "timepoint": 35,
           "trajectory": "E_sol",
           "upper": 5050.122314453124
          },
          {
           "lower": 1073.628225708008,
           "timepoint": 35.10000228881836,
           "trajectory": "E_sol",
           "upper": 5088.981274414062
          },
          {
           "lower": 1077.487844848633,
           "timepoint": 35.20000076293945,
           "trajectory": "E_sol",
           "upper": 5128.138940429687
          },
          {
           "lower": 1081.361376953125,
           "timepoint": 35.29999923706055,
           "trajectory": "E_sol",
           "upper": 5167.582275390624
          },
          {
           "lower": 1085.2486999511718,
           "timepoint": 35.400001525878906,
           "trajectory": "E_sol",
           "upper": 5207.322705078124
          },
          {
           "lower": 1089.1497467041015,
           "timepoint": 35.5,
           "trajectory": "E_sol",
           "upper": 5247.358935546874
          },
          {
           "lower": 1093.0647735595703,
           "timepoint": 35.60000228881836,
           "trajectory": "E_sol",
           "upper": 5287.696875
          },
          {
           "lower": 1096.9936462402343,
           "timepoint": 35.70000076293945,
           "trajectory": "E_sol",
           "upper": 5328.334667968749
          },
          {
           "lower": 1100.9363983154296,
           "timepoint": 35.79999923706055,
           "trajectory": "E_sol",
           "upper": 5369.276171874999
          },
          {
           "lower": 1104.8933837890625,
           "timepoint": 35.900001525878906,
           "trajectory": "E_sol",
           "upper": 5410.525122070312
          },
          {
           "lower": 1108.8642486572267,
           "timepoint": 36,
           "trajectory": "E_sol",
           "upper": 5452.079272460936
          },
          {
           "lower": 1112.8492919921875,
           "timepoint": 36.10000228881836,
           "trajectory": "E_sol",
           "upper": 5493.946850585937
          },
          {
           "lower": 1116.8484802246094,
           "timepoint": 36.20000076293945,
           "trajectory": "E_sol",
           "upper": 5536.124414062499
          },
          {
           "lower": 1120.861868286133,
           "timepoint": 36.29999923706055,
           "trajectory": "E_sol",
           "upper": 5578.617065429687
          },
          {
           "lower": 1124.8896118164062,
           "timepoint": 36.400001525878906,
           "trajectory": "E_sol",
           "upper": 5621.428588867187
          },
          {
           "lower": 1128.9328186035157,
           "timepoint": 36.5,
           "trajectory": "E_sol",
           "upper": 5664.557153320312
          },
          {
           "lower": 1132.9894592285157,
           "timepoint": 36.60000228881836,
           "trajectory": "E_sol",
           "upper": 5708.008325195312
          },
          {
           "lower": 1137.0602996826171,
           "timepoint": 36.70000076293945,
           "trajectory": "E_sol",
           "upper": 5751.781835937499
          },
          {
           "lower": 1141.1455505371093,
           "timepoint": 36.79999923706055,
           "trajectory": "E_sol",
           "upper": 5795.887768554687
          },
          {
           "lower": 1145.2455444335938,
           "timepoint": 36.900001525878906,
           "trajectory": "E_sol",
           "upper": 5840.317114257811
          },
          {
           "lower": 1149.3599914550782,
           "timepoint": 37,
           "trajectory": "E_sol",
           "upper": 5885.075854492186
          },
          {
           "lower": 1153.4891052246094,
           "timepoint": 37.10000228881836,
           "trajectory": "E_sol",
           "upper": 5930.168310546874
          },
          {
           "lower": 1157.6328491210938,
           "timepoint": 37.20000076293945,
           "trajectory": "E_sol",
           "upper": 5975.594531249999
          },
          {
           "lower": 1161.7899475097656,
           "timepoint": 37.29999923706055,
           "trajectory": "E_sol",
           "upper": 6021.357617187499
          },
          {
           "lower": 1165.9630859375,
           "timepoint": 37.400001525878906,
           "trajectory": "E_sol",
           "upper": 6067.462011718749
          },
          {
           "lower": 1170.1509887695313,
           "timepoint": 37.5,
           "trajectory": "E_sol",
           "upper": 6113.907055664062
          },
          {
           "lower": 1174.35380859375,
           "timepoint": 37.60000228881836,
           "trajectory": "E_sol",
           "upper": 6160.698168945311
          },
          {
           "lower": 1178.5714599609375,
           "timepoint": 37.70000076293945,
           "trajectory": "E_sol",
           "upper": 6207.835107421874
          },
          {
           "lower": 1182.8039978027343,
           "timepoint": 37.79999923706055,
           "trajectory": "E_sol",
           "upper": 6255.320532226561
          },
          {
           "lower": 1187.0517517089843,
           "timepoint": 37.900001525878906,
           "trajectory": "E_sol",
           "upper": 6303.158911132811
          },
          {
           "lower": 1191.314404296875,
           "timepoint": 38,
           "trajectory": "E_sol",
           "upper": 6351.349096679686
          },
          {
           "lower": 1195.59228515625,
           "timepoint": 38.10000228881836,
           "trajectory": "E_sol",
           "upper": 6399.897656249999
          },
          {
           "lower": 1199.8851379394532,
           "timepoint": 38.20000076293945,
           "trajectory": "E_sol",
           "upper": 6448.803222656249
          },
          {
           "lower": 1204.1933654785157,
           "timepoint": 38.29999923706055,
           "trajectory": "E_sol",
           "upper": 6498.069873046874
          },
          {
           "lower": 1208.5167541503906,
           "timepoint": 38.400001525878906,
           "trajectory": "E_sol",
           "upper": 6547.707299804686
          },
          {
           "lower": 1212.8555053710938,
           "timepoint": 38.5,
           "trajectory": "E_sol",
           "upper": 6597.7044921874985
          },
          {
           "lower": 1217.2098266601563,
           "timepoint": 38.60000228881836,
           "trajectory": "E_sol",
           "upper": 6648.072558593749
          },
          {
           "lower": 1221.5792663574218,
           "timepoint": 38.70000076293945,
           "trajectory": "E_sol",
           "upper": 6698.809667968749
          },
          {
           "lower": 1225.9642211914063,
           "timepoint": 38.79999923706055,
           "trajectory": "E_sol",
           "upper": 6749.920898437499
          },
          {
           "lower": 1230.3646911621095,
           "timepoint": 38.900001525878906,
           "trajectory": "E_sol",
           "upper": 6801.4100585937485
          },
          {
           "lower": 1234.7808349609375,
           "timepoint": 39,
           "trajectory": "E_sol",
           "upper": 6853.276000976562
          },
          {
           "lower": 1239.2126586914062,
           "timepoint": 39.10000228881836,
           "trajectory": "E_sol",
           "upper": 6905.525122070311
          },
          {
           "lower": 1243.6602966308594,
           "timepoint": 39.20000076293945,
           "trajectory": "E_sol",
           "upper": 6958.156176757811
          },
          {
           "lower": 1248.1233947753906,
           "timepoint": 39.29999923706055,
           "trajectory": "E_sol",
           "upper": 7011.1739746093735
          },
          {
           "lower": 1252.6024963378907,
           "timepoint": 39.400001525878906,
           "trajectory": "E_sol",
           "upper": 7064.582812499999
          },
          {
           "lower": 1257.0972473144532,
           "timepoint": 39.5,
           "trajectory": "E_sol",
           "upper": 7118.387963867186
          },
          {
           "lower": 1261.6080993652345,
           "timepoint": 39.60000228881836,
           "trajectory": "E_sol",
           "upper": 7172.5846191406235
          },
          {
           "lower": 1266.1347229003907,
           "timepoint": 39.70000076293945,
           "trajectory": "E_sol",
           "upper": 7227.175781249999
          },
          {
           "lower": 1270.677392578125,
           "timepoint": 39.79999923706055,
           "trajectory": "E_sol",
           "upper": 7282.167504882811
          },
          {
           "lower": 1275.23623046875,
           "timepoint": 39.900001525878906,
           "trajectory": "E_sol",
           "upper": 7337.563061523437
          },
          {
           "lower": 1279.8110046386719,
           "timepoint": 40,
           "trajectory": "E_sol",
           "upper": 7393.362426757812
          },
          {
           "lower": 1284.402001953125,
           "timepoint": 40.099998474121094,
           "trajectory": "E_sol",
           "upper": 7449.569946289062
          },
          {
           "lower": 1289.0126586914062,
           "timepoint": 40.20000076293945,
           "trajectory": "E_sol",
           "upper": 7506.1898437499985
          },
          {
           "lower": 1293.6364501953126,
           "timepoint": 40.29999923706055,
           "trajectory": "E_sol",
           "upper": 7563.221630859373
          },
          {
           "lower": 1298.2765319824218,
           "timepoint": 40.39999771118164,
           "trajectory": "E_sol",
           "upper": 7620.669262695311
          },
          {
           "lower": 1302.9331481933593,
           "timepoint": 40.5,
           "trajectory": "E_sol",
           "upper": 7678.537402343749
          },
          {
           "lower": 1307.606219482422,
           "timepoint": 40.599998474121094,
           "trajectory": "E_sol",
           "upper": 7736.825512695311
          },
          {
           "lower": 1312.295880126953,
           "timepoint": 40.70000076293945,
           "trajectory": "E_sol",
           "upper": 7795.540136718749
          },
          {
           "lower": 1317.002020263672,
           "timepoint": 40.79999923706055,
           "trajectory": "E_sol",
           "upper": 7854.680517578124
          },
          {
           "lower": 1321.7246154785157,
           "timepoint": 40.89999771118164,
           "trajectory": "E_sol",
           "upper": 7914.250781249999
          },
          {
           "lower": 1326.464208984375,
           "timepoint": 41,
           "trajectory": "E_sol",
           "upper": 7974.247558593748
          },
          {
           "lower": 1331.2202697753905,
           "timepoint": 41.099998474121094,
           "trajectory": "E_sol",
           "upper": 8034.6847167968735
          },
          {
           "lower": 1335.9934387207031,
           "timepoint": 41.20000076293945,
           "trajectory": "E_sol",
           "upper": 8095.562255859373
          },
          {
           "lower": 1340.7831970214843,
           "timepoint": 41.29999923706055,
           "trajectory": "E_sol",
           "upper": 8156.879321289061
          },
          {
           "lower": 1345.5898193359376,
           "timepoint": 41.39999771118164,
           "trajectory": "E_sol",
           "upper": 8218.639916992186
          },
          {
           "lower": 1350.413507080078,
           "timepoint": 41.5,
           "trajectory": "E_sol",
           "upper": 8280.865039062499
          },
          {
           "lower": 1355.2548522949219,
           "timepoint": 41.599998474121094,
           "trajectory": "E_sol",
           "upper": 8343.525341796874
          },
          {
           "lower": 1360.1128234863281,
           "timepoint": 41.70000076293945,
           "trajectory": "E_sol",
           "upper": 8406.642822265623
          },
          {
           "lower": 1364.9878479003905,
           "timepoint": 41.79999923706055,
           "trajectory": "E_sol",
           "upper": 8470.212719726562
          },
          {
           "lower": 1369.87998046875,
           "timepoint": 41.89999771118164,
           "trajectory": "E_sol",
           "upper": 8534.242285156248
          },
          {
           "lower": 1374.7896301269532,
           "timepoint": 42,
           "trajectory": "E_sol",
           "upper": 8598.736499023436
          },
          {
           "lower": 1379.7164001464844,
           "timepoint": 42.099998474121094,
           "trajectory": "E_sol",
           "upper": 8663.693530273436
          },
          {
           "lower": 1384.6606323242188,
           "timepoint": 42.20000076293945,
           "trajectory": "E_sol",
           "upper": 8729.1203125
          },
          {
           "lower": 1389.6222717285157,
           "timepoint": 42.29999923706055,
           "trajectory": "E_sol",
           "upper": 8795.016406249999
          },
          {
           "lower": 1394.6013061523438,
           "timepoint": 42.39999771118164,
           "trajectory": "E_sol",
           "upper": 8861.386791992187
          },
          {
           "lower": 1399.5981140136719,
           "timepoint": 42.5,
           "trajectory": "E_sol",
           "upper": 8928.23459472656
          },
          {
           "lower": 1404.6123168945312,
           "timepoint": 42.599998474121094,
           "trajectory": "E_sol",
           "upper": 8995.561816406249
          },
          {
           "lower": 1409.6449401855468,
           "timepoint": 42.70000076293945,
           "trajectory": "E_sol",
           "upper": 9063.37470703125
          },
          {
           "lower": 1414.6946105957031,
           "timepoint": 42.79999923706055,
           "trajectory": "E_sol",
           "upper": 9131.671533203124
          },
          {
           "lower": 1419.7619750976562,
           "timepoint": 42.89999771118164,
           "trajectory": "E_sol",
           "upper": 9200.457617187498
          },
          {
           "lower": 1424.8474670410155,
           "timepoint": 43,
           "trajectory": "E_sol",
           "upper": 9269.740527343749
          },
          {
           "lower": 1429.9507080078124,
           "timepoint": 43.099998474121094,
           "trajectory": "E_sol",
           "upper": 9339.520019531248
          },
          {
           "lower": 1435.0720642089843,
           "timepoint": 43.20000076293945,
           "trajectory": "E_sol",
           "upper": 9409.796484374998
          },
          {
           "lower": 1440.2112915039063,
           "timepoint": 43.29999923706055,
           "trajectory": "E_sol",
           "upper": 9480.572265624998
          },
          {
           "lower": 1445.3686218261719,
           "timepoint": 43.39999771118164,
           "trajectory": "E_sol",
           "upper": 9551.854101562498
          },
          {
           "lower": 1450.544256591797,
           "timepoint": 43.5,
           "trajectory": "E_sol",
           "upper": 9623.647070312498
          },
          {
           "lower": 1455.737939453125,
           "timepoint": 43.599998474121094,
           "trajectory": "E_sol",
           "upper": 9695.947705078122
          },
          {
           "lower": 1460.9500915527344,
           "timepoint": 43.70000076293945,
           "trajectory": "E_sol",
           "upper": 9768.767480468749
          },
          {
           "lower": 1466.180224609375,
           "timepoint": 43.79999923706055,
           "trajectory": "E_sol",
           "upper": 9842.101220703124
          },
          {
           "lower": 1471.4288818359375,
           "timepoint": 43.89999771118164,
           "trajectory": "E_sol",
           "upper": 9915.956933593749
          },
          {
           "lower": 1476.6961730957032,
           "timepoint": 44,
           "trajectory": "E_sol",
           "upper": 9990.342871093748
          },
          {
           "lower": 1481.9820983886718,
           "timepoint": 44.099998474121094,
           "trajectory": "E_sol",
           "upper": 10065.250341796873
          },
          {
           "lower": 1487.2865478515625,
           "timepoint": 44.20000076293945,
           "trajectory": "E_sol",
           "upper": 10140.693408203124
          },
          {
           "lower": 1492.6095336914063,
           "timepoint": 44.29999923706055,
           "trajectory": "E_sol",
           "upper": 10216.666259765623
          },
          {
           "lower": 1497.95107421875,
           "timepoint": 44.39999771118164,
           "trajectory": "E_sol",
           "upper": 10293.177441406247
          },
          {
           "lower": 1503.3116943359375,
           "timepoint": 44.5,
           "trajectory": "E_sol",
           "upper": 10370.237207031249
          },
          {
           "lower": 1508.690936279297,
           "timepoint": 44.599998474121094,
           "trajectory": "E_sol",
           "upper": 10447.835009765624
          },
          {
           "lower": 1514.0893005371095,
           "timepoint": 44.70000076293945,
           "trajectory": "E_sol",
           "upper": 10525.984033203124
          },
          {
           "lower": 1519.5064636230468,
           "timepoint": 44.79999923706055,
           "trajectory": "E_sol",
           "upper": 10604.679296874998
          },
          {
           "lower": 1524.942559814453,
           "timepoint": 44.89999771118164,
           "trajectory": "E_sol",
           "upper": 10683.929785156248
          },
          {
           "lower": 1530.3980102539062,
           "timepoint": 45,
           "trajectory": "E_sol",
           "upper": 10763.741259765622
          },
          {
           "lower": 1535.8723937988282,
           "timepoint": 45.099998474121094,
           "trajectory": "E_sol",
           "upper": 10844.110888671872
          },
          {
           "lower": 1541.3661865234376,
           "timepoint": 45.20000076293945,
           "trajectory": "E_sol",
           "upper": 10925.047998046874
          },
          {
           "lower": 1546.8802734375,
           "timepoint": 45.29999923706055,
           "trajectory": "E_sol",
           "upper": 11006.549755859372
          },
          {
           "lower": 1552.4125183105468,
           "timepoint": 45.39999771118164,
           "trajectory": "E_sol",
           "upper": 11088.622998046872
          },
          {
           "lower": 1557.9644714355468,
           "timepoint": 45.5,
           "trajectory": "E_sol",
           "upper": 11171.278710937499
          },
          {
           "lower": 1563.5356872558593,
           "timepoint": 45.599998474121094,
           "trajectory": "E_sol",
           "upper": 11254.506738281249
          },
          {
           "lower": 1569.126611328125,
           "timepoint": 45.70000076293945,
           "trajectory": "E_sol",
           "upper": 11338.319042968747
          },
          {
           "lower": 1574.7370666503907,
           "timepoint": 45.79999923706055,
           "trajectory": "E_sol",
           "upper": 11422.714306640622
          },
          {
           "lower": 1580.3670288085937,
           "timepoint": 45.89999771118164,
           "trajectory": "E_sol",
           "upper": 11507.690673828123
          },
          {
           "lower": 1586.0169738769532,
           "timepoint": 46,
           "trajectory": "E_sol",
           "upper": 11593.268701171874
          },
          {
           "lower": 1591.6866271972656,
           "timepoint": 46.099998474121094,
           "trajectory": "E_sol",
           "upper": 11679.440087890624
          },
          {
           "lower": 1597.3762634277343,
           "timepoint": 46.20000076293945,
           "trajectory": "E_sol",
           "upper": 11766.212646484373
          },
          {
           "lower": 1603.0857849121094,
           "timepoint": 46.29999923706055,
           "trajectory": "E_sol",
           "upper": 11853.585205078123
          },
          {
           "lower": 1608.815234375,
           "timepoint": 46.39999771118164,
           "trajectory": "E_sol",
           "upper": 11941.564990234372
          },
          {
           "lower": 1614.564227294922,
           "timepoint": 46.5,
           "trajectory": "E_sol",
           "upper": 12030.156347656248
          },
          {
           "lower": 1620.3337646484374,
           "timepoint": 46.599998474121094,
           "trajectory": "E_sol",
           "upper": 12119.359082031247
          },
          {
           "lower": 1626.1237731933593,
           "timepoint": 46.70000076293945,
           "trajectory": "E_sol",
           "upper": 12209.179980468747
          },
          {
           "lower": 1631.93388671875,
           "timepoint": 46.79999923706055,
           "trajectory": "E_sol",
           "upper": 12299.619189453122
          },
          {
           "lower": 1637.764337158203,
           "timepoint": 46.89999771118164,
           "trajectory": "E_sol",
           "upper": 12390.681884765623
          },
          {
           "lower": 1643.615301513672,
           "timepoint": 47,
           "trajectory": "E_sol",
           "upper": 12482.376855468749
          },
          {
           "lower": 1649.4864929199218,
           "timepoint": 47.099998474121094,
           "trajectory": "E_sol",
           "upper": 12574.700439453123
          },
          {
           "lower": 1655.3786743164062,
           "timepoint": 47.20000076293945,
           "trajectory": "E_sol",
           "upper": 12667.662353515623
          },
          {
           "lower": 1661.2910278320312,
           "timepoint": 47.29999923706055,
           "trajectory": "E_sol",
           "upper": 12761.265039062499
          },
          {
           "lower": 1667.2240478515625,
           "timepoint": 47.39999771118164,
           "trajectory": "E_sol",
           "upper": 12855.505029296872
          },
          {
           "lower": 1673.17802734375,
           "timepoint": 47.5,
           "trajectory": "E_sol",
           "upper": 12950.394628906248
          },
          {
           "lower": 1679.152685546875,
           "timepoint": 47.599998474121094,
           "trajectory": "E_sol",
           "upper": 13045.929394531247
          },
          {
           "lower": 1685.148455810547,
           "timepoint": 47.70000076293945,
           "trajectory": "E_sol",
           "upper": 13142.121679687498
          },
          {
           "lower": 1691.1647399902345,
           "timepoint": 47.79999923706055,
           "trajectory": "E_sol",
           "upper": 13238.967578124997
          },
          {
           "lower": 1697.2025939941407,
           "timepoint": 47.89999771118164,
           "trajectory": "E_sol",
           "upper": 13336.474365234373
          },
          {
           "lower": 1703.2614440917969,
           "timepoint": 48,
           "trajectory": "E_sol",
           "upper": 13434.647119140622
          },
          {
           "lower": 1709.3412963867188,
           "timepoint": 48.099998474121094,
           "trajectory": "E_sol",
           "upper": 13533.486279296872
          },
          {
           "lower": 1715.4421264648438,
           "timepoint": 48.19999694824219,
           "trajectory": "E_sol",
           "upper": 13632.996289062497
          },
          {
           "lower": 1721.564599609375,
           "timepoint": 48.29999923706055,
           "trajectory": "E_sol",
           "upper": 13733.185156249998
          },
          {
           "lower": 1727.708514404297,
           "timepoint": 48.400001525878906,
           "trajectory": "E_sol",
           "upper": 13834.053124999997
          },
          {
           "lower": 1733.8736083984375,
           "timepoint": 48.5,
           "trajectory": "E_sol",
           "upper": 13935.602001953122
          },
          {
           "lower": 1740.0600219726562,
           "timepoint": 48.599998474121094,
           "trajectory": "E_sol",
           "upper": 14037.831445312497
          },
          {
           "lower": 1746.2683349609374,
           "timepoint": 48.69999694824219,
           "trajectory": "E_sol",
           "upper": 14140.755615234371
          },
          {
           "lower": 1752.498486328125,
           "timepoint": 48.79999923706055,
           "trajectory": "E_sol",
           "upper": 14244.378271484373
          },
          {
           "lower": 1758.7503479003906,
           "timepoint": 48.900001525878906,
           "trajectory": "E_sol",
           "upper": 14348.698632812497
          },
          {
           "lower": 1765.0247497558594,
           "timepoint": 49,
           "trajectory": "E_sol",
           "upper": 14453.716943359372
          },
          {
           "lower": 1771.319873046875,
           "timepoint": 49.099998474121094,
           "trajectory": "E_sol",
           "upper": 14559.440332031247
          },
          {
           "lower": 1777.6373657226563,
           "timepoint": 49.19999694824219,
           "trajectory": "E_sol",
           "upper": 14665.871533203122
          },
          {
           "lower": 1783.97685546875,
           "timepoint": 49.29999923706055,
           "trajectory": "E_sol",
           "upper": 14773.021142578122
          },
          {
           "lower": 1790.3384765625,
           "timepoint": 49.400001525878906,
           "trajectory": "E_sol",
           "upper": 14880.886035156247
          },
          {
           "lower": 1796.7221130371095,
           "timepoint": 49.5,
           "trajectory": "E_sol",
           "upper": 14989.467382812498
          },
          {
           "lower": 1803.1277465820312,
           "timepoint": 49.599998474121094,
           "trajectory": "E_sol",
           "upper": 15098.772900390622
          },
          {
           "lower": 1809.5558166503906,
           "timepoint": 49.69999694824219,
           "trajectory": "E_sol",
           "upper": 15208.806054687497
          },
          {
           "lower": 1816.006768798828,
           "timepoint": 49.79999923706055,
           "trajectory": "E_sol",
           "upper": 15319.573779296872
          },
          {
           "lower": 1822.4797607421874,
           "timepoint": 49.900001525878906,
           "trajectory": "E_sol",
           "upper": 15431.080273437497
          },
          {
           "lower": 1828.9754333496094,
           "timepoint": 50,
           "trajectory": "E_sol",
           "upper": 15543.328076171872
          },
          {
           "lower": 1835.4932800292968,
           "timepoint": 50.099998474121094,
           "trajectory": "E_sol",
           "upper": 15656.312841796873
          },
          {
           "lower": 1842.034161376953,
           "timepoint": 50.19999694824219,
           "trajectory": "E_sol",
           "upper": 15770.044189453121
          },
          {
           "lower": 1848.598077392578,
           "timepoint": 50.29999923706055,
           "trajectory": "E_sol",
           "upper": 15884.530810546872
          },
          {
           "lower": 1855.1846557617187,
           "timepoint": 50.400001525878906,
           "trajectory": "E_sol",
           "upper": 15999.773779296873
          },
          {
           "lower": 1861.7924560546876,
           "timepoint": 50.5,
           "trajectory": "E_sol",
           "upper": 16115.768554687496
          },
          {
           "lower": 1868.4244384765625,
           "timepoint": 50.599998474121094,
           "trajectory": "E_sol",
           "upper": 16232.525732421871
          },
          {
           "lower": 1875.0797424316406,
           "timepoint": 50.69999694824219,
           "trajectory": "E_sol",
           "upper": 16350.046874999996
          },
          {
           "lower": 1881.7582580566407,
           "timepoint": 50.79999923706055,
           "trajectory": "E_sol",
           "upper": 16468.344726562496
          },
          {
           "lower": 1888.459942626953,
           "timepoint": 50.900001525878906,
           "trajectory": "E_sol",
           "upper": 16587.413671874998
          },
          {
           "lower": 1895.1849487304687,
           "timepoint": 51,
           "trajectory": "E_sol",
           "upper": 16707.253955078122
          },
          {
           "lower": 1901.9328369140626,
           "timepoint": 51.099998474121094,
           "trajectory": "E_sol",
           "upper": 16827.87592773437
          },
          {
           "lower": 1908.7046203613281,
           "timepoint": 51.19999694824219,
           "trajectory": "E_sol",
           "upper": 16949.282226562496
          },
          {
           "lower": 1915.5000366210938,
           "timepoint": 51.29999923706055,
           "trajectory": "E_sol",
           "upper": 17071.483105468746
          },
          {
           "lower": 1922.3174377441405,
           "timepoint": 51.400001525878906,
           "trajectory": "E_sol",
           "upper": 17194.47387695312
          },
          {
           "lower": 1929.1596557617188,
           "timepoint": 51.5,
           "trajectory": "E_sol",
           "upper": 17318.254394531246
          },
          {
           "lower": 1936.025439453125,
           "timepoint": 51.599998474121094,
           "trajectory": "E_sol",
           "upper": 17442.876953124996
          },
          {
           "lower": 1942.9152099609375,
           "timepoint": 51.69999694824219,
           "trajectory": "E_sol",
           "upper": 17568.269824218747
          },
          {
           "lower": 1949.829119873047,
           "timepoint": 51.79999923706055,
           "trajectory": "E_sol",
           "upper": 17694.47583007812
          },
          {
           "lower": 1956.766796875,
           "timepoint": 51.900001525878906,
           "trajectory": "E_sol",
           "upper": 17821.49194335937
          },
          {
           "lower": 1963.7284362792968,
           "timepoint": 52,
           "trajectory": "E_sol",
           "upper": 17949.32055664062
          },
          {
           "lower": 1970.7140625,
           "timepoint": 52.099998474121094,
           "trajectory": "E_sol",
           "upper": 18077.967285156246
          },
          {
           "lower": 1977.7239624023437,
           "timepoint": 52.19999694824219,
           "trajectory": "E_sol",
           "upper": 18207.434130859372
          },
          {
           "lower": 1984.7584228515625,
           "timepoint": 52.29999923706055,
           "trajectory": "E_sol",
           "upper": 18337.734472656248
          },
          {
           "lower": 1991.8169799804687,
           "timepoint": 52.400001525878906,
           "trajectory": "E_sol",
           "upper": 18468.865332031248
          },
          {
           "lower": 1998.8998779296876,
           "timepoint": 52.5,
           "trajectory": "E_sol",
           "upper": 18600.823632812495
          },
          {
           "lower": 2006.0073364257812,
           "timepoint": 52.599998474121094,
           "trajectory": "E_sol",
           "upper": 18733.620898437497
          },
          {
           "lower": 2013.1391357421876,
           "timepoint": 52.69999694824219,
           "trajectory": "E_sol",
           "upper": 18867.250488281246
          },
          {
           "lower": 2020.2960266113282,
           "timepoint": 52.79999923706055,
           "trajectory": "E_sol",
           "upper": 19001.737109374997
          },
          {
           "lower": 2027.4775451660157,
           "timepoint": 52.900001525878906,
           "trajectory": "E_sol",
           "upper": 19137.071777343746
          },
          {
           "lower": 2034.6837341308594,
           "timepoint": 53,
           "trajectory": "E_sol",
           "upper": 19273.281542968747
          },
          {
           "lower": 2041.9137451171875,
           "timepoint": 53.099998474121094,
           "trajectory": "E_sol",
           "upper": 19410.325292968744
          },
          {
           "lower": 2049.16962890625,
           "timepoint": 53.19999694824219,
           "trajectory": "E_sol",
           "upper": 19548.227246093746
          },
          {
           "lower": 2056.450653076172,
           "timepoint": 53.29999923706055,
           "trajectory": "E_sol",
           "upper": 19686.998925781245
          },
          {
           "lower": 2063.7569213867187,
           "timepoint": 53.400001525878906,
           "trajectory": "E_sol",
           "upper": 19826.637304687494
          },
          {
           "lower": 2071.088171386719,
           "timepoint": 53.5,
           "trajectory": "E_sol",
           "upper": 19967.140429687497
          },
          {
           "lower": 2078.4479431152345,
           "timepoint": 53.599998474121094,
           "trajectory": "E_sol",
           "upper": 20108.516308593746
          },
          {
           "lower": 2085.8301025390624,
           "timepoint": 53.69999694824219,
           "trajectory": "E_sol",
           "upper": 20250.769726562496
          },
          {
           "lower": 2093.2381958007813,
           "timepoint": 53.79999923706055,
           "trajectory": "E_sol",
           "upper": 20393.908691406246
          },
          {
           "lower": 2100.6718017578123,
           "timepoint": 53.900001525878906,
           "trajectory": "E_sol",
           "upper": 20537.931054687495
          },
          {
           "lower": 2108.13076171875,
           "timepoint": 54,
           "trajectory": "E_sol",
           "upper": 20682.836816406245
          },
          {
           "lower": 2115.6154357910154,
           "timepoint": 54.099998474121094,
           "trajectory": "E_sol",
           "upper": 20828.658398437496
          },
          {
           "lower": 2123.1255737304687,
           "timepoint": 54.19999694824219,
           "trajectory": "E_sol",
           "upper": 20975.388378906246
          },
          {
           "lower": 2130.662353515625,
           "timepoint": 54.29999923706055,
           "trajectory": "E_sol",
           "upper": 21122.997656249994
          },
          {
           "lower": 2138.2249084472655,
           "timepoint": 54.400001525878906,
           "trajectory": "E_sol",
           "upper": 21271.509179687495
          },
          {
           "lower": 2145.813330078125,
           "timepoint": 54.5,
           "trajectory": "E_sol",
           "upper": 21420.922753906245
          },
          {
           "lower": 2153.427838134766,
           "timepoint": 54.599998474121094,
           "trajectory": "E_sol",
           "upper": 21571.245507812495
          },
          {
           "lower": 2161.068255615234,
           "timepoint": 54.69999694824219,
           "trajectory": "E_sol",
           "upper": 21722.481835937495
          },
          {
           "lower": 2168.7358215332033,
           "timepoint": 54.79999923706055,
           "trajectory": "E_sol",
           "upper": 21874.639257812494
          },
          {
           "lower": 2176.429406738281,
           "timepoint": 54.900001525878906,
           "trajectory": "E_sol",
           "upper": 22027.717578124997
          },
          {
           "lower": 2184.1492126464846,
           "timepoint": 55,
           "trajectory": "E_sol",
           "upper": 22181.711621093746
          },
          {
           "lower": 2191.895788574219,
           "timepoint": 55.099998474121094,
           "trajectory": "E_sol",
           "upper": 22336.634179687495
          },
          {
           "lower": 2199.6686950683593,
           "timepoint": 55.19999694824219,
           "trajectory": "E_sol",
           "upper": 22492.484374999996
          },
          {
           "lower": 2207.468817138672,
           "timepoint": 55.29999923706055,
           "trajectory": "E_sol",
           "upper": 22649.273925781246
          },
          {
           "lower": 2215.2957763671875,
           "timepoint": 55.400001525878906,
           "trajectory": "E_sol",
           "upper": 22807.000195312496
          },
          {
           "lower": 2223.14921875,
           "timepoint": 55.5,
           "trajectory": "E_sol",
           "upper": 22965.695214843745
          },
          {
           "lower": 2231.029833984375,
           "timepoint": 55.599998474121094,
           "trajectory": "E_sol",
           "upper": 23125.307714843744
          },
          {
           "lower": 2238.936901855469,
           "timepoint": 55.69999694824219,
           "trajectory": "E_sol",
           "upper": 23285.863476562496
          },
          {
           "lower": 2246.8693725585936,
           "timepoint": 55.79999923706055,
           "trajectory": "E_sol",
           "upper": 23447.377441406246
          },
          {
           "lower": 2254.831475830078,
           "timepoint": 55.900001525878906,
           "trajectory": "E_sol",
           "upper": 23609.844628906245
          },
          {
           "lower": 2262.8205505371093,
           "timepoint": 56,
           "trajectory": "E_sol",
           "upper": 23773.259179687495
          },
          {
           "lower": 2270.836883544922,
           "timepoint": 56.099998474121094,
           "trajectory": "E_sol",
           "upper": 23937.634765624996
          },
          {
           "lower": 2278.88076171875,
           "timepoint": 56.19999694824219,
           "trajectory": "E_sol",
           "upper": 24102.971582031245
          },
          {
           "lower": 2286.952606201172,
           "timepoint": 56.29999923706055,
           "trajectory": "E_sol",
           "upper": 24269.279199218745
          },
          {
           "lower": 2295.0518432617187,
           "timepoint": 56.400001525878906,
           "trajectory": "E_sol",
           "upper": 24436.555664062496
          },
          {
           "lower": 2303.1788024902344,
           "timepoint": 56.5,
           "trajectory": "E_sol",
           "upper": 24604.797265624995
          },
          {
           "lower": 2311.333526611328,
           "timepoint": 56.599998474121094,
           "trajectory": "E_sol",
           "upper": 24774.009667968745
          },
          {
           "lower": 2319.516241455078,
           "timepoint": 56.69999694824219,
           "trajectory": "E_sol",
           "upper": 24944.192480468744
          },
          {
           "lower": 2327.7270324707033,
           "timepoint": 56.79999923706055,
           "trajectory": "E_sol",
           "upper": 25115.403320312493
          },
          {
           "lower": 2335.9661865234375,
           "timepoint": 56.900001525878906,
           "trajectory": "E_sol",
           "upper": 25287.568359374993
          },
          {
           "lower": 2344.2330627441406,
           "timepoint": 57,
           "trajectory": "E_sol",
           "upper": 25460.714355468743
          },
          {
           "lower": 2352.528216552734,
           "timepoint": 57.099998474121094,
           "trajectory": "E_sol",
           "upper": 25634.847460937493
          },
          {
           "lower": 2360.8518005371093,
           "timepoint": 57.19999694824219,
           "trajectory": "E_sol",
           "upper": 25809.974804687496
          },
          {
           "lower": 2369.2043212890626,
           "timepoint": 57.29999923706055,
           "trajectory": "E_sol",
           "upper": 25986.099218749994
          },
          {
           "lower": 2377.5851196289063,
           "timepoint": 57.400001525878906,
           "trajectory": "E_sol",
           "upper": 26163.223046874995
          },
          {
           "lower": 2385.9943908691407,
           "timepoint": 57.5,
           "trajectory": "E_sol",
           "upper": 26341.338085937496
          },
          {
           "lower": 2394.432336425781,
           "timepoint": 57.599998474121094,
           "trajectory": "E_sol",
           "upper": 26520.457128906244
          },
          {
           "lower": 2402.899133300781,
           "timepoint": 57.69999694824219,
           "trajectory": "E_sol",
           "upper": 26700.576074218745
          },
          {
           "lower": 2411.3950439453124,
           "timepoint": 57.79999923706055,
           "trajectory": "E_sol",
           "upper": 26881.713964843744
          },
          {
           "lower": 2419.9203369140623,
           "timepoint": 57.900001525878906,
           "trajectory": "E_sol",
           "upper": 27063.859570312496
          },
          {
           "lower": 2428.4718627929688,
           "timepoint": 58,
           "trajectory": "E_sol",
           "upper": 27246.978027343743
          },
          {
           "lower": 2437.054547119141,
           "timepoint": 58.099998474121094,
           "trajectory": "E_sol",
           "upper": 27431.137792968744
          },
          {
           "lower": 2445.666680908203,
           "timepoint": 58.19999694824219,
           "trajectory": "E_sol",
           "upper": 27616.319921874994
          },
          {
           "lower": 2454.30810546875,
           "timepoint": 58.29999923706055,
           "trajectory": "E_sol",
           "upper": 27802.522070312494
          },
          {
           "lower": 2462.97919921875,
           "timepoint": 58.400001525878906,
           "trajectory": "E_sol",
           "upper": 27989.743847656246
          },
          {
           "lower": 2471.6794311523436,
           "timepoint": 58.5,
           "trajectory": "E_sol",
           "upper": 28177.979003906243
          },
          {
           "lower": 2480.4093994140626,
           "timepoint": 58.599998474121094,
           "trajectory": "E_sol",
           "upper": 28367.237109374993
          },
          {
           "lower": 2489.1689697265624,
           "timepoint": 58.69999694824219,
           "trajectory": "E_sol",
           "upper": 28557.522460937493
          },
          {
           "lower": 2497.95869140625,
           "timepoint": 58.79999923706055,
           "trajectory": "E_sol",
           "upper": 28748.843554687493
          },
          {
           "lower": 2506.7783081054686,
           "timepoint": 58.900001525878906,
           "trajectory": "E_sol",
           "upper": 28941.188671874996
          },
          {
           "lower": 2515.6276123046873,
           "timepoint": 59,
           "trajectory": "E_sol",
           "upper": 29134.560644531244
          },
          {
           "lower": 2524.506872558594,
           "timepoint": 59.099998474121094,
           "trajectory": "E_sol",
           "upper": 29328.965527343746
          },
          {
           "lower": 2533.4161987304688,
           "timepoint": 59.19999694824219,
           "trajectory": "E_sol",
           "upper": 29524.402050781246
          },
          {
           "lower": 2542.3563232421875,
           "timepoint": 59.29999923706055,
           "trajectory": "E_sol",
           "upper": 29720.949218749993
          },
          {
           "lower": 2551.3267333984377,
           "timepoint": 59.400001525878906,
           "trajectory": "E_sol",
           "upper": 29918.489062499993
          },
          {
           "lower": 2560.3269897460937,
           "timepoint": 59.5,
           "trajectory": "E_sol",
           "upper": 30117.055761718744
          },
          {
           "lower": 2569.358020019531,
           "timepoint": 59.599998474121094,
           "trajectory": "E_sol",
           "upper": 30316.668359374995
          },
          {
           "lower": 2578.419470214844,
           "timepoint": 59.69999694824219,
           "trajectory": "E_sol",
           "upper": 30517.324121093745
          },
          {
           "lower": 2587.5121826171876,
           "timepoint": 59.79999923706055,
           "trajectory": "E_sol",
           "upper": 30719.029980468742
          },
          {
           "lower": 2596.635400390625,
           "timepoint": 59.900001525878906,
           "trajectory": "E_sol",
           "upper": 30921.786328124992
          },
          {
           "lower": 2605.7892822265626,
           "timepoint": 60,
           "trajectory": "E_sol",
           "upper": 31125.579394531243
          },
          {
           "lower": 2614.9741821289062,
           "timepoint": 60.099998474121094,
           "trajectory": "E_sol",
           "upper": 31330.422949218744
          },
          {
           "lower": 2624.190319824219,
           "timepoint": 60.19999694824219,
           "trajectory": "E_sol",
           "upper": 31536.31533203124
          },
          {
           "lower": 2633.4396728515626,
           "timepoint": 60.29999923706055,
           "trajectory": "E_sol",
           "upper": 31743.265234374994
          },
          {
           "lower": 2642.718994140625,
           "timepoint": 60.400001525878906,
           "trajectory": "E_sol",
           "upper": 31951.269140624994
          },
          {
           "lower": 2652.028955078125,
           "timepoint": 60.5,
           "trajectory": "E_sol",
           "upper": 32160.296093749992
          },
          {
           "lower": 2661.373486328125,
           "timepoint": 60.599998474121094,
           "trajectory": "E_sol",
           "upper": 32370.402636718743
          },
          {
           "lower": 2670.747033691406,
           "timepoint": 60.69999694824219,
           "trajectory": "E_sol",
           "upper": 32581.55703124999
          },
          {
           "lower": 2680.1524169921877,
           "timepoint": 60.79999923706055,
           "trajectory": "E_sol",
           "upper": 32793.774609374996
          },
          {
           "lower": 2689.5897705078123,
           "timepoint": 60.900001525878906,
           "trajectory": "E_sol",
           "upper": 33007.047558593746
          },
          {
           "lower": 2699.05869140625,
           "timepoint": 61,
           "trajectory": "E_sol",
           "upper": 33221.36552734374
          },
          {
           "lower": 2708.5593139648436,
           "timepoint": 61.099998474121094,
           "trajectory": "E_sol",
           "upper": 33436.738867187494
          },
          {
           "lower": 2718.0922607421876,
           "timepoint": 61.19999694824219,
           "trajectory": "E_sol",
           "upper": 33653.168066406244
          },
          {
           "lower": 2727.6574829101564,
           "timepoint": 61.29999923706055,
           "trajectory": "E_sol",
           "upper": 33870.662207031244
          },
          {
           "lower": 2737.254919433594,
           "timepoint": 61.400001525878906,
           "trajectory": "E_sol",
           "upper": 34089.210058593744
          },
          {
           "lower": 2746.884387207031,
           "timepoint": 61.5,
           "trajectory": "E_sol",
           "upper": 34308.80859374999
          },
          {
           "lower": 2756.5463989257814,
           "timepoint": 61.599998474121094,
           "trajectory": "E_sol",
           "upper": 34529.45781249999
          },
          {
           "lower": 2766.2408203125,
           "timepoint": 61.69999694824219,
           "trajectory": "E_sol",
           "upper": 34751.165136718744
          },
          {
           "lower": 2775.9684936523436,
           "timepoint": 61.79999923706055,
           "trajectory": "E_sol",
           "upper": 34973.989843749994
          },
          {
           "lower": 2785.7288208007812,
           "timepoint": 61.900001525878906,
           "trajectory": "E_sol",
           "upper": 35197.83535156249
          },
          {
           "lower": 2795.5214233398438,
           "timepoint": 62,
           "trajectory": "E_sol",
           "upper": 35422.72285156249
          },
          {
           "lower": 2805.34716796875,
           "timepoint": 62.099998474121094,
           "trajectory": "E_sol",
           "upper": 35648.667578124994
          },
          {
           "lower": 2815.2056518554687,
           "timepoint": 62.19999694824219,
           "trajectory": "E_sol",
           "upper": 35875.66347656249
          },
          {
           "lower": 2825.0977416992187,
           "timepoint": 62.29999923706055,
           "trajectory": "E_sol",
           "upper": 36103.72656249999
          },
          {
           "lower": 2835.0231689453126,
           "timepoint": 62.400001525878906,
           "trajectory": "E_sol",
           "upper": 36332.84296874999
          },
          {
           "lower": 2844.9842163085937,
           "timepoint": 62.5,
           "trajectory": "E_sol",
           "upper": 36563.00410156249
          },
          {
           "lower": 2854.976208496094,
           "timepoint": 62.599998474121094,
           "trajectory": "E_sol",
           "upper": 36794.21513671874
          },
          {
           "lower": 2865.0018920898438,
           "timepoint": 62.69999694824219,
           "trajectory": "E_sol",
           "upper": 37026.47949218749
          },
          {
           "lower": 2875.0612915039064,
           "timepoint": 62.79999923706055,
           "trajectory": "E_sol",
           "upper": 37259.79726562499
          },
          {
           "lower": 2885.155139160156,
           "timepoint": 62.900001525878906,
           "trajectory": "E_sol",
           "upper": 37494.13574218749
          },
          {
           "lower": 2895.2839599609374,
           "timepoint": 63,
           "trajectory": "E_sol",
           "upper": 37729.534765624994
          },
          {
           "lower": 2905.444970703125,
           "timepoint": 63.099998474121094,
           "trajectory": "E_sol",
           "upper": 37966.030859374994
          },
          {
           "lower": 2915.640270996094,
           "timepoint": 63.19999694824219,
           "trajectory": "E_sol",
           "upper": 38203.52871093749
          },
          {
           "lower": 2925.869836425781,
           "timepoint": 63.29999923706055,
           "trajectory": "E_sol",
           "upper": 38442.078710937494
          },
          {
           "lower": 2936.1337158203123,
           "timepoint": 63.400001525878906,
           "trajectory": "E_sol",
           "upper": 38681.66874999999
          },
          {
           "lower": 2946.431774902344,
           "timepoint": 63.5,
           "trajectory": "E_sol",
           "upper": 38922.28847656249
          },
          {
           "lower": 2956.7639892578127,
           "timepoint": 63.599998474121094,
           "trajectory": "E_sol",
           "upper": 39163.94648437499
          },
          {
           "lower": 2967.1310913085936,
           "timepoint": 63.69999694824219,
           "trajectory": "E_sol",
           "upper": 39406.63769531249
          },
          {
           "lower": 2977.532922363281,
           "timepoint": 63.79999923706055,
           "trajectory": "E_sol",
           "upper": 39650.37031249999
          },
          {
           "lower": 2987.97001953125,
           "timepoint": 63.900001525878906,
           "trajectory": "E_sol",
           "upper": 39895.129492187494
          },
          {
           "lower": 2998.4412475585937,
           "timepoint": 64,
           "trajectory": "E_sol",
           "upper": 40140.91406249999
          },
          {
           "lower": 3008.947473144531,
           "timepoint": 64.0999984741211,
           "trajectory": "E_sol",
           "upper": 40387.72539062499
          },
          {
           "lower": 3019.4889404296873,
           "timepoint": 64.19999694824219,
           "trajectory": "E_sol",
           "upper": 40635.55253906249
          },
          {
           "lower": 3030.0662231445312,
           "timepoint": 64.30000305175781,
           "trajectory": "E_sol",
           "upper": 40884.43300781249
          },
          {
           "lower": 3040.678259277344,
           "timepoint": 64.4000015258789,
           "trajectory": "E_sol",
           "upper": 41134.30195312499
          },
          {
           "lower": 3051.3255981445313,
           "timepoint": 64.5,
           "trajectory": "E_sol",
           "upper": 41385.18164062499
          },
          {
           "lower": 3062.0086669921875,
           "timepoint": 64.5999984741211,
           "trajectory": "E_sol",
           "upper": 41637.08027343749
          },
          {
           "lower": 3072.7249755859375,
           "timepoint": 64.69999694824219,
           "trajectory": "E_sol",
           "upper": 41889.980078124994
          },
          {
           "lower": 3083.4796752929688,
           "timepoint": 64.80000305175781,
           "trajectory": "E_sol",
           "upper": 42143.91015624999
          },
          {
           "lower": 3094.2693481445312,
           "timepoint": 64.9000015258789,
           "trajectory": "E_sol",
           "upper": 42398.81328124999
          },
          {
           "lower": 3105.095104980469,
           "timepoint": 65,
           "trajectory": "E_sol",
           "upper": 42654.71894531249
          },
          {
           "lower": 3115.95673828125,
           "timepoint": 65.0999984741211,
           "trajectory": "E_sol",
           "upper": 42911.61542968749
          },
          {
           "lower": 3126.854211425781,
           "timepoint": 65.19999694824219,
           "trajectory": "E_sol",
           "upper": 43169.440039062494
          },
          {
           "lower": 3137.7892944335936,
           "timepoint": 65.30000305175781,
           "trajectory": "E_sol",
           "upper": 43428.31621093749
          },
          {
           "lower": 3148.759899902344,
           "timepoint": 65.4000015258789,
           "trajectory": "E_sol",
           "upper": 43688.156835937494
          },
          {
           "lower": 3159.7666748046877,
           "timepoint": 65.5,
           "trajectory": "E_sol",
           "upper": 43948.96757812499
          },
          {
           "lower": 3170.80986328125,
           "timepoint": 65.5999984741211,
           "trajectory": "E_sol",
           "upper": 44210.81035156249
          },
          {
           "lower": 3181.8901489257814,
           "timepoint": 65.69999694824219,
           "trajectory": "E_sol",
           "upper": 44473.56933593749
          },
          {
           "lower": 3193.007775878906,
           "timepoint": 65.80000305175781,
           "trajectory": "E_sol",
           "upper": 44737.30937499999
          },
          {
           "lower": 3204.161413574219,
           "timepoint": 65.9000015258789,
           "trajectory": "E_sol",
           "upper": 45001.98925781249
          },
          {
           "lower": 3215.3520629882814,
           "timepoint": 66,
           "trajectory": "E_sol",
           "upper": 45267.61640624999
          },
          {
           "lower": 3226.5795654296876,
           "timepoint": 66.0999984741211,
           "trajectory": "E_sol",
           "upper": 45534.19550781249
          },
          {
           "lower": 3237.844519042969,
           "timepoint": 66.19999694824219,
           "trajectory": "E_sol",
           "upper": 45801.71152343749
          },
          {
           "lower": 3249.1475219726562,
           "timepoint": 66.30000305175781,
           "trajectory": "E_sol",
           "upper": 46070.18613281249
          },
          {
           "lower": 3260.487109375,
           "timepoint": 66.4000015258789,
           "trajectory": "E_sol",
           "upper": 46339.57246093749
          },
          {
           "lower": 3271.8640625,
           "timepoint": 66.5,
           "trajectory": "E_sol",
           "upper": 46609.87617187499
          },
          {
           "lower": 3283.2790405273436,
           "timepoint": 66.5999984741211,
           "trajectory": "E_sol",
           "upper": 46881.10253906249
          },
          {
           "lower": 3294.7302368164064,
           "timepoint": 66.69999694824219,
           "trajectory": "E_sol",
           "upper": 47153.23769531249
          },
          {
           "lower": 3306.2209350585936,
           "timepoint": 66.80000305175781,
           "trajectory": "E_sol",
           "upper": 47426.31015624999
          },
          {
           "lower": 3317.748974609375,
           "timepoint": 66.9000015258789,
           "trajectory": "E_sol",
           "upper": 47700.24960937499
          },
          {
           "lower": 3329.314794921875,
           "timepoint": 67,
           "trajectory": "E_sol",
           "upper": 47975.08144531249
          },
          {
           "lower": 3340.9191284179688,
           "timepoint": 67.0999984741211,
           "trajectory": "E_sol",
           "upper": 48250.79707031249
          },
          {
           "lower": 3352.5612915039064,
           "timepoint": 67.19999694824219,
           "trajectory": "E_sol",
           "upper": 48527.38730468749
          },
          {
           "lower": 3364.242956542969,
           "timepoint": 67.30000305175781,
           "trajectory": "E_sol",
           "upper": 48804.86269531249
          },
          {
           "lower": 3375.96201171875,
           "timepoint": 67.4000015258789,
           "trajectory": "E_sol",
           "upper": 49083.281249999985
          },
          {
           "lower": 3387.7196411132813,
           "timepoint": 67.5,
           "trajectory": "E_sol",
           "upper": 49362.48105468749
          },
          {
           "lower": 3399.5191650390625,
           "timepoint": 67.5999984741211,
           "trajectory": "E_sol",
           "upper": 49642.53261718749
          },
          {
           "lower": 3411.354357910156,
           "timepoint": 67.69999694824219,
           "trajectory": "E_sol",
           "upper": 49923.42421874999
          },
          {
           "lower": 3423.22958984375,
           "timepoint": 67.80000305175781,
           "trajectory": "E_sol",
           "upper": 50205.17070312499
          },
          {
           "lower": 3435.1423828125,
           "timepoint": 67.9000015258789,
           "trajectory": "E_sol",
           "upper": 50487.72519531249
          },
          {
           "lower": 3447.0947265625,
           "timepoint": 68,
           "trajectory": "E_sol",
           "upper": 50771.13417968749
          },
          {
           "lower": 3459.0864013671876,
           "timepoint": 68.0999984741211,
           "trajectory": "E_sol",
           "upper": 51055.318359374985
          },
          {
           "lower": 3471.116833496094,
           "timepoint": 68.19999694824219,
           "trajectory": "E_sol",
           "upper": 51340.30624999999
          },
          {
           "lower": 3483.18779296875,
           "timepoint": 68.30000305175781,
           "trajectory": "E_sol",
           "upper": 51626.10878906249
          },
          {
           "lower": 3495.2974609375,
           "timepoint": 68.4000015258789,
           "trajectory": "E_sol",
           "upper": 51912.67441406249
          },
          {
           "lower": 3507.4465087890626,
           "timepoint": 68.5,
           "trajectory": "E_sol",
           "upper": 52200.01738281249
          },
          {
           "lower": 3519.6348388671877,
           "timepoint": 68.5999984741211,
           "trajectory": "E_sol",
           "upper": 52488.15351562499
          },
          {
           "lower": 3531.8726196289062,
           "timepoint": 68.69999694824219,
           "trajectory": "E_sol",
           "upper": 52777.02265624999
          },
          {
           "lower": 3544.1436279296877,
           "timepoint": 68.80000305175781,
           "trajectory": "E_sol",
           "upper": 53066.65976562499
          },
          {
           "lower": 3556.4533935546874,
           "timepoint": 68.9000015258789,
           "trajectory": "E_sol",
           "upper": 53357.01582031249
          },
          {
           "lower": 3568.803857421875,
           "timepoint": 69,
           "trajectory": "E_sol",
           "upper": 53648.09687499999
          },
          {
           "lower": 3581.19462890625,
           "timepoint": 69.0999984741211,
           "trajectory": "E_sol",
           "upper": 53939.89218749999
          },
          {
           "lower": 3593.625524902344,
           "timepoint": 69.19999694824219,
           "trajectory": "E_sol",
           "upper": 54232.39960937499
          },
          {
           "lower": 3606.098095703125,
           "timepoint": 69.30000305175781,
           "trajectory": "E_sol",
           "upper": 54525.61601562499
          },
          {
           "lower": 3618.61083984375,
           "timepoint": 69.4000015258789,
           "trajectory": "E_sol",
           "upper": 54819.50214843749
          },
          {
           "lower": 3631.1641479492187,
           "timepoint": 69.5,
           "trajectory": "E_sol",
           "upper": 55114.06621093749
          },
          {
           "lower": 3643.75869140625,
           "timepoint": 69.5999984741211,
           "trajectory": "E_sol",
           "upper": 55409.293945312485
          },
          {
           "lower": 3656.3942016601563,
           "timepoint": 69.69999694824219,
           "trajectory": "E_sol",
           "upper": 55705.23027343749
          },
          {
           "lower": 3669.0716064453127,
           "timepoint": 69.80000305175781,
           "trajectory": "E_sol",
           "upper": 56001.78652343749
          },
          {
           "lower": 3681.7880126953123,
           "timepoint": 69.9000015258789,
           "trajectory": "E_sol",
           "upper": 56298.95527343749
          },
          {
           "lower": 3694.547082519531,
           "timepoint": 70,
           "trajectory": "E_sol",
           "upper": 56596.74003906249
          },
          {
           "lower": 3707.3478271484373,
           "timepoint": 70.0999984741211,
           "trajectory": "E_sol",
           "upper": 56895.13046874999
          },
          {
           "lower": 3720.1902465820312,
           "timepoint": 70.19999694824219,
           "trajectory": "E_sol",
           "upper": 57194.11835937499
          },
          {
           "lower": 3733.074914550781,
           "timepoint": 70.30000305175781,
           "trajectory": "E_sol",
           "upper": 57493.71367187499
          },
          {
           "lower": 3746.0009887695314,
           "timepoint": 70.4000015258789,
           "trajectory": "E_sol",
           "upper": 57793.87246093749
          },
          {
           "lower": 3758.9688720703125,
           "timepoint": 70.5,
           "trajectory": "E_sol",
           "upper": 58094.57832031249
          },
          {
           "lower": 3771.9792236328126,
           "timepoint": 70.5999984741211,
           "trajectory": "E_sol",
           "upper": 58395.83320312499
          },
          {
           "lower": 3785.03125,
           "timepoint": 70.69999694824219,
           "trajectory": "E_sol",
           "upper": 58697.61972656249
          },
          {
           "lower": 3798.123425292969,
           "timepoint": 70.80000305175781,
           "trajectory": "E_sol",
           "upper": 58999.94062499999
          },
          {
           "lower": 3811.2603515625,
           "timepoint": 70.9000015258789,
           "trajectory": "E_sol",
           "upper": 59302.75507812499
          },
          {
           "lower": 3824.4392578125,
           "timepoint": 71,
           "trajectory": "E_sol",
           "upper": 59606.06523437499
          },
          {
           "lower": 3837.66103515625,
           "timepoint": 71.0999984741211,
           "trajectory": "E_sol",
           "upper": 59909.860351562485
          },
          {
           "lower": 3850.9257690429686,
           "timepoint": 71.19999694824219,
           "trajectory": "E_sol",
           "upper": 60214.11699218749
          },
          {
           "lower": 3864.234033203125,
           "timepoint": 71.30000305175781,
           "trajectory": "E_sol",
           "upper": 60518.853906249984
          },
          {
           "lower": 3877.5845458984377,
           "timepoint": 71.4000015258789,
           "trajectory": "E_sol",
           "upper": 60824.010742187485
          },
          {
           "lower": 3890.978369140625,
           "timepoint": 71.5,
           "trajectory": "E_sol",
           "upper": 61129.601562499985
          },
          {
           "lower": 3904.415148925781,
           "timepoint": 71.5999984741211,
           "trajectory": "E_sol",
           "upper": 61435.60371093749
          },
          {
           "lower": 3917.8952392578126,
           "timepoint": 71.69999694824219,
           "trajectory": "E_sol",
           "upper": 61741.999023437485
          },
          {
           "lower": 3931.419921875,
           "timepoint": 71.80000305175781,
           "trajectory": "E_sol",
           "upper": 62048.81269531249
          },
          {
           "lower": 3944.9871215820312,
           "timepoint": 71.9000015258789,
           "trajectory": "E_sol",
           "upper": 62355.80683593749
          },
          {
           "lower": 3958.5981567382814,
           "timepoint": 72,
           "trajectory": "E_sol",
           "upper": 62663.27812499999
          },
          {
           "lower": 3972.2527709960937,
           "timepoint": 72.0999984741211,
           "trajectory": "E_sol",
           "upper": 62971.08378906249
          },
          {
           "lower": 3985.9500122070312,
           "timepoint": 72.19999694824219,
           "trajectory": "E_sol",
           "upper": 63279.206445312484
          },
          {
           "lower": 3999.6936767578127,
           "timepoint": 72.30000305175781,
           "trajectory": "E_sol",
           "upper": 63587.65488281249
          },
          {
           "lower": 4013.480432128906,
           "timepoint": 72.4000015258789,
           "trajectory": "E_sol",
           "upper": 63896.35722656248
          },
          {
           "lower": 4027.3116455078125,
           "timepoint": 72.5,
           "trajectory": "E_sol",
           "upper": 64205.340234374984
          },
          {
           "lower": 4041.186877441406,
           "timepoint": 72.5999984741211,
           "trajectory": "E_sol",
           "upper": 64514.57109374998
          },
          {
           "lower": 4055.1070556640625,
           "timepoint": 72.69999694824219,
           "trajectory": "E_sol",
           "upper": 64824.02812499998
          },
          {
           "lower": 4069.0698120117186,
           "timepoint": 72.80000305175781,
           "trajectory": "E_sol",
           "upper": 65133.74082031249
          },
          {
           "lower": 4083.0787353515625,
           "timepoint": 72.9000015258789,
           "trajectory": "E_sol",
           "upper": 65443.623437499984
          },
          {
           "lower": 4097.132824707031,
           "timepoint": 73,
           "trajectory": "E_sol",
           "upper": 65753.69414062498
          },
          {
           "lower": 4111.231994628906,
           "timepoint": 73.0999984741211,
           "trajectory": "E_sol",
           "upper": 66064.05156249998
          },
          {
           "lower": 4125.375891113281,
           "timepoint": 73.19999694824219,
           "trajectory": "E_sol",
           "upper": 66374.47402343749
          },
          {
           "lower": 4139.5662841796875,
           "timepoint": 73.30000305175781,
           "trajectory": "E_sol",
           "upper": 66685.04824218749
          },
          {
           "lower": 4153.800866699219,
           "timepoint": 73.4000015258789,
           "trajectory": "E_sol",
           "upper": 66995.72480468749
          },
          {
           "lower": 4168.081018066407,
           "timepoint": 73.5,
           "trajectory": "E_sol",
           "upper": 67306.50117187499
          },
          {
           "lower": 4182.406689453125,
           "timepoint": 73.5999984741211,
           "trajectory": "E_sol",
           "upper": 67617.35742187499
          },
          {
           "lower": 4196.778149414063,
           "timepoint": 73.69999694824219,
           "trajectory": "E_sol",
           "upper": 67928.23378906249
          },
          {
           "lower": 4211.196240234375,
           "timepoint": 73.80000305175781,
           "trajectory": "E_sol",
           "upper": 68239.21503906249
          },
          {
           "lower": 4225.659228515625,
           "timepoint": 73.9000015258789,
           "trajectory": "E_sol",
           "upper": 68550.20332031249
          },
          {
           "lower": 4240.1685791015625,
           "timepoint": 74,
           "trajectory": "E_sol",
           "upper": 68861.19960937499
          },
          {
           "lower": 4254.723498535156,
           "timepoint": 74.0999984741211,
           "trajectory": "E_sol",
           "upper": 69172.18222656248
          },
          {
           "lower": 4269.325,
           "timepoint": 74.19999694824219,
           "trajectory": "E_sol",
           "upper": 69483.11835937499
          },
          {
           "lower": 4283.974499511719,
           "timepoint": 74.30000305175781,
           "trajectory": "E_sol",
           "upper": 69794.04687499999
          },
          {
           "lower": 4298.668994140625,
           "timepoint": 74.4000015258789,
           "trajectory": "E_sol",
           "upper": 70104.87246093749
          },
          {
           "lower": 4313.410375976562,
           "timepoint": 74.5,
           "trajectory": "E_sol",
           "upper": 70415.61249999999
          },
          {
           "lower": 4328.1935546875,
           "timepoint": 74.5999984741211,
           "trajectory": "E_sol",
           "upper": 70726.24101562498
          },
          {
           "lower": 4343.02783203125,
           "timepoint": 74.69999694824219,
           "trajectory": "E_sol",
           "upper": 71036.74160156249
          },
          {
           "lower": 4357.910815429687,
           "timepoint": 74.80000305175781,
           "trajectory": "E_sol",
           "upper": 71347.14492187499
          },
          {
           "lower": 4372.8392333984375,
           "timepoint": 74.9000015258789,
           "trajectory": "E_sol",
           "upper": 71657.33769531248
          },
          {
           "lower": 4387.814892578125,
           "timepoint": 75,
           "trajectory": "E_sol",
           "upper": 71967.33847656248
          },
          {
           "lower": 4402.838110351562,
           "timepoint": 75.0999984741211,
           "trajectory": "E_sol",
           "upper": 72277.13593749999
          },
          {
           "lower": 4417.908837890625,
           "timepoint": 75.19999694824219,
           "trajectory": "E_sol",
           "upper": 72586.69804687498
          },
          {
           "lower": 4433.028051757812,
           "timepoint": 75.30000305175781,
           "trajectory": "E_sol",
           "upper": 72896.04550781248
          },
          {
           "lower": 4448.19384765625,
           "timepoint": 75.4000015258789,
           "trajectory": "E_sol",
           "upper": 73205.09023437499
          },
          {
           "lower": 4463.4075927734375,
           "timepoint": 75.5,
           "trajectory": "E_sol",
           "upper": 73513.84140624998
          },
          {
           "lower": 4478.669470214843,
           "timepoint": 75.5999984741211,
           "trajectory": "E_sol",
           "upper": 73822.27578124999
          },
          {
           "lower": 4493.979211425782,
           "timepoint": 75.69999694824219,
           "trajectory": "E_sol",
           "upper": 74130.36757812499
          },
          {
           "lower": 4509.337927246093,
           "timepoint": 75.80000305175781,
           "trajectory": "E_sol",
           "upper": 74438.12695312499
          },
          {
           "lower": 4524.743884277344,
           "timepoint": 75.9000015258789,
           "trajectory": "E_sol",
           "upper": 74745.51289062499
          },
          {
           "lower": 4540.198681640625,
           "timepoint": 76,
           "trajectory": "E_sol",
           "upper": 75052.47421874998
          },
          {
           "lower": 4555.7017822265625,
           "timepoint": 76.0999984741211,
           "trajectory": "E_sol",
           "upper": 75359.01249999998
          },
          {
           "lower": 4571.253588867187,
           "timepoint": 76.19999694824219,
           "trajectory": "E_sol",
           "upper": 75665.09882812499
          },
          {
           "lower": 4586.855029296875,
           "timepoint": 76.30000305175781,
           "trajectory": "E_sol",
           "upper": 75970.74804687499
          },
          {
           "lower": 4602.504602050782,
           "timepoint": 76.4000015258789,
           "trajectory": "E_sol",
           "upper": 76275.88476562499
          },
          {
           "lower": 4618.203186035156,
           "timepoint": 76.5,
           "trajectory": "E_sol",
           "upper": 76580.62148437499
          },
          {
           "lower": 4633.951135253907,
           "timepoint": 76.5999984741211,
           "trajectory": "E_sol",
           "upper": 76884.73124999998
          },
          {
           "lower": 4649.7479248046875,
           "timepoint": 76.69999694824219,
           "trajectory": "E_sol",
           "upper": 77188.29726562499
          },
          {
           "lower": 4665.588513183594,
           "timepoint": 76.80000305175781,
           "trajectory": "E_sol",
           "upper": 77491.29453124998
          },
          {
           "lower": 4681.488256835937,
           "timepoint": 76.9000015258789,
           "trajectory": "E_sol",
           "upper": 77793.67617187499
          },
          {
           "lower": 4697.4334716796875,
           "timepoint": 77,
           "trajectory": "E_sol",
           "upper": 78095.43515624998
          },
          {
           "lower": 4713.428234863281,
           "timepoint": 77.0999984741211,
           "trajectory": "E_sol",
           "upper": 78396.55781249999
          },
          {
           "lower": 4729.472985839844,
           "timepoint": 77.19999694824219,
           "trajectory": "E_sol",
           "upper": 78697.00507812499
          },
          {
           "lower": 4745.569274902344,
           "timepoint": 77.30000305175781,
           "trajectory": "E_sol",
           "upper": 78996.78906249999
          },
          {
           "lower": 4761.713647460938,
           "timepoint": 77.4000015258789,
           "trajectory": "E_sol",
           "upper": 79295.83359374998
          },
          {
           "lower": 4777.908715820313,
           "timepoint": 77.5,
           "trajectory": "E_sol",
           "upper": 79594.06132812498
          },
          {
           "lower": 4794.153552246094,
           "timepoint": 77.5999984741211,
           "trajectory": "E_sol",
           "upper": 79891.59140624998
          },
          {
           "lower": 4810.449792480469,
           "timepoint": 77.69999694824219,
           "trajectory": "E_sol",
           "upper": 80188.34570312499
          },
          {
           "lower": 4826.7965087890625,
           "timepoint": 77.80000305175781,
           "trajectory": "E_sol",
           "upper": 80484.31289062499
          },
          {
           "lower": 4843.1931640625,
           "timepoint": 77.9000015258789,
           "trajectory": "E_sol",
           "upper": 80779.41757812498
          },
          {
           "lower": 4859.640698242188,
           "timepoint": 78,
           "trajectory": "E_sol",
           "upper": 81073.67968749999
          },
          {
           "lower": 4876.139013671875,
           "timepoint": 78.0999984741211,
           "trajectory": "E_sol",
           "upper": 81366.98984374998
          },
          {
           "lower": 4892.688024902343,
           "timepoint": 78.19999694824219,
           "trajectory": "E_sol",
           "upper": 81659.44687499998
          },
          {
           "lower": 4909.289147949219,
           "timepoint": 78.30000305175781,
           "trajectory": "E_sol",
           "upper": 81951.00937499998
          },
          {
           "lower": 4925.940966796875,
           "timepoint": 78.4000015258789,
           "trajectory": "E_sol",
           "upper": 82241.58867187498
          },
          {
           "lower": 4942.643615722656,
           "timepoint": 78.5,
           "trajectory": "E_sol",
           "upper": 82531.14648437499
          },
          {
           "lower": 4959.39775390625,
           "timepoint": 78.5999984741211,
           "trajectory": "E_sol",
           "upper": 82819.74257812499
          },
          {
           "lower": 4976.202856445312,
           "timepoint": 78.69999694824219,
           "trajectory": "E_sol",
           "upper": 83107.30273437499
          },
          {
           "lower": 4993.070495605469,
           "timepoint": 78.80000305175781,
           "trajectory": "E_sol",
           "upper": 83393.82968749998
          },
          {
           "lower": 5009.980517578125,
           "timepoint": 78.9000015258789,
           "trajectory": "E_sol",
           "upper": 83679.26523437498
          },
          {
           "lower": 5026.943225097656,
           "timepoint": 79,
           "trajectory": "E_sol",
           "upper": 83963.59726562498
          },
          {
           "lower": 5043.957690429687,
           "timepoint": 79.0999984741211,
           "trajectory": "E_sol",
           "upper": 84246.80664062499
          },
          {
           "lower": 5061.029187011719,
           "timepoint": 79.19999694824219,
           "trajectory": "E_sol",
           "upper": 84528.95898437499
          },
          {
           "lower": 5078.150048828125,
           "timepoint": 79.30000305175781,
           "trajectory": "E_sol",
           "upper": 84809.88632812498
          },
          {
           "lower": 5095.322399902344,
           "timepoint": 79.4000015258789,
           "trajectory": "E_sol",
           "upper": 85089.61992187498
          },
          {
           "lower": 5112.547216796875,
           "timepoint": 79.5,
           "trajectory": "E_sol",
           "upper": 85368.07539062499
          },
          {
           "lower": 5129.824853515625,
           "timepoint": 79.5999984741211,
           "trajectory": "E_sol",
           "upper": 85645.31874999999
          },
          {
           "lower": 5147.155529785156,
           "timepoint": 79.69999694824219,
           "trajectory": "E_sol",
           "upper": 85921.29570312498
          },
          {
           "lower": 5164.539953613281,
           "timepoint": 79.80000305175781,
           "trajectory": "E_sol",
           "upper": 86195.99492187498
          },
          {
           "lower": 5181.976708984375,
           "timepoint": 79.9000015258789,
           "trajectory": "E_sol",
           "upper": 86469.35664062499
          },
          {
           "lower": 5199.466284179687,
           "timepoint": 80,
           "trajectory": "E_sol",
           "upper": 86741.37304687499
          },
          {
           "lower": 3.333333253863202e-08,
           "timepoint": 0,
           "trajectory": "I_sol",
           "upper": 3.33333360913457e-08
          },
          {
           "lower": 32.58194580078125,
           "timepoint": 0.10000000149011612,
           "trajectory": "I_sol",
           "upper": 32.583281707763675
          },
          {
           "lower": 63.70993919372559,
           "timepoint": 0.20000000298023224,
           "trajectory": "I_sol",
           "upper": 63.72023811340332
          },
          {
           "lower": 93.45450973510742,
           "timepoint": 0.30000001192092896,
           "trajectory": "I_sol",
           "upper": 93.48852615356445
          },
          {
           "lower": 121.88280868530273,
           "timepoint": 0.4000000059604645,
           "trajectory": "I_sol",
           "upper": 121.96163139343261
          },
          {
           "lower": 149.05877380371095,
           "timepoint": 0.5,
           "trajectory": "I_sol",
           "upper": 149.20935134887696
          },
          {
           "lower": 175.04324035644532,
           "timepoint": 0.6000000238418579,
           "trajectory": "I_sol",
           "upper": 175.29777069091796
          },
          {
           "lower": 199.8939109802246,
           "timepoint": 0.699999988079071,
           "trajectory": "I_sol",
           "upper": 200.2895050048828
          },
          {
           "lower": 223.6662940979004,
           "timepoint": 0.800000011920929,
           "trajectory": "I_sol",
           "upper": 224.24396133422852
          },
          {
           "lower": 246.41247177124023,
           "timepoint": 0.9000000357627869,
           "trajectory": "I_sol",
           "upper": 247.21759948730468
          },
          {
           "lower": 268.18251953125,
           "timepoint": 1,
           "trajectory": "I_sol",
           "upper": 269.2635665893555
          },
          {
           "lower": 289.02406311035156,
           "timepoint": 1.100000023841858,
           "trajectory": "I_sol",
           "upper": 290.432682800293
          },
          {
           "lower": 308.981999206543,
           "timepoint": 1.2000000476837158,
           "trajectory": "I_sol",
           "upper": 310.77298736572266
          },
          {
           "lower": 328.09982147216795,
           "timepoint": 1.3000000715255737,
           "trajectory": "I_sol",
           "upper": 330.3295669555664
          },
          {
           "lower": 346.4181503295898,
           "timepoint": 1.399999976158142,
           "trajectory": "I_sol",
           "upper": 349.14596099853514
          },
          {
           "lower": 363.9761459350586,
           "timepoint": 1.5,
           "trajectory": "I_sol",
           "upper": 367.2632629394531
          },
          {
           "lower": 380.8108428955078,
           "timepoint": 1.600000023841858,
           "trajectory": "I_sol",
           "upper": 384.7194351196289
          },
          {
           "lower": 396.95758056640625,
           "timepoint": 1.7000000476837158,
           "trajectory": "I_sol",
           "upper": 401.5521667480469
          },
          {
           "lower": 412.4501617431641,
           "timepoint": 1.8000000715255737,
           "trajectory": "I_sol",
           "upper": 417.7956085205078
          },
          {
           "lower": 427.32010650634766,
           "timepoint": 1.899999976158142,
           "trajectory": "I_sol",
           "upper": 433.4833648681641
          },
          {
           "lower": 441.5984619140625,
           "timepoint": 2,
           "trajectory": "I_sol",
           "upper": 448.6463684082031
          },
          {
           "lower": 455.31398010253906,
           "timepoint": 2.1000001430511475,
           "trajectory": "I_sol",
           "upper": 463.31465911865234
          },
          {
           "lower": 468.4938720703125,
           "timepoint": 2.200000047683716,
           "trajectory": "I_sol",
           "upper": 477.5164169311523
          },
          {
           "lower": 481.1654220581055,
           "timepoint": 2.299999952316284,
           "trajectory": "I_sol",
           "upper": 491.27800903320315
          },
          {
           "lower": 493.35267944335936,
           "timepoint": 2.4000000953674316,
           "trajectory": "I_sol",
           "upper": 504.62536468505857
          },
          {
           "lower": 505.07983551025393,
           "timepoint": 2.5,
           "trajectory": "I_sol",
           "upper": 517.581655883789
          },
          {
           "lower": 516.3697174072265,
           "timepoint": 2.6000001430511475,
           "trajectory": "I_sol",
           "upper": 530.170376586914
          },
          {
           "lower": 527.2434844970703,
           "timepoint": 2.700000047683716,
           "trajectory": "I_sol",
           "upper": 542.4136688232422
          },
          {
           "lower": 537.7213836669922,
           "timepoint": 2.799999952316284,
           "trajectory": "I_sol",
           "upper": 554.3314971923828
          },
          {
           "lower": 547.8235168457031,
           "timepoint": 2.9000000953674316,
           "trajectory": "I_sol",
           "upper": 565.9430694580078
          },
          {
           "lower": 557.5688873291016,
           "timepoint": 3,
           "trajectory": "I_sol",
           "upper": 577.2669860839844
          },
          {
           "lower": 566.9742095947265,
           "timepoint": 3.1000001430511475,
           "trajectory": "I_sol",
           "upper": 588.3215789794922
          },
          {
           "lower": 576.0575164794922,
           "timepoint": 3.200000047683716,
           "trajectory": "I_sol",
           "upper": 599.1219940185547
          },
          {
           "lower": 584.8335479736328,
           "timepoint": 3.299999952316284,
           "trajectory": "I_sol",
           "upper": 609.6850067138672
          },
          {
           "lower": 593.318408203125,
           "timepoint": 3.4000000953674316,
           "trajectory": "I_sol",
           "upper": 620.0254913330078
          },
          {
           "lower": 601.5264221191406,
           "timepoint": 3.5,
           "trajectory": "I_sol",
           "upper": 630.1579559326171
          },
          {
           "lower": 609.4711334228516,
           "timepoint": 3.6000001430511475,
           "trajectory": "I_sol",
           "upper": 640.0951416015625
          },
          {
           "lower": 617.1663269042969,
           "timepoint": 3.700000047683716,
           "trajectory": "I_sol",
           "upper": 649.849951171875
          },
          {
           "lower": 624.6231536865234,
           "timepoint": 3.799999952316284,
           "trajectory": "I_sol",
           "upper": 659.43583984375
          },
          {
           "lower": 631.8552093505859,
           "timepoint": 3.9000000953674316,
           "trajectory": "I_sol",
           "upper": 668.8630828857422
          },
          {
           "lower": 638.872933959961,
           "timepoint": 4,
           "trajectory": "I_sol",
           "upper": 678.1428436279297
          },
          {
           "lower": 645.6874053955078,
           "timepoint": 4.099999904632568,
           "trajectory": "I_sol",
           "upper": 687.285610961914
          },
          {
           "lower": 652.3095336914063,
           "timepoint": 4.200000286102295,
           "trajectory": "I_sol",
           "upper": 696.3015106201171
          },
          {
           "lower": 658.7480895996093,
           "timepoint": 4.300000190734863,
           "trajectory": "I_sol",
           "upper": 705.1999084472657
          },
          {
           "lower": 665.0129913330078,
           "timepoint": 4.400000095367432,
           "trajectory": "I_sol",
           "upper": 713.9883209228516
          },
          {
           "lower": 671.1128295898437,
           "timepoint": 4.5,
           "trajectory": "I_sol",
           "upper": 722.6771575927735
          },
          {
           "lower": 677.0556365966797,
           "timepoint": 4.599999904632568,
           "trajectory": "I_sol",
           "upper": 731.27373046875
          },
          {
           "lower": 682.8504180908203,
           "timepoint": 4.700000286102295,
           "trajectory": "I_sol",
           "upper": 739.7860443115235
          },
          {
           "lower": 688.5044738769532,
           "timepoint": 4.800000190734863,
           "trajectory": "I_sol",
           "upper": 748.2213012695313
          },
          {
           "lower": 694.0249877929688,
           "timepoint": 4.900000095367432,
           "trajectory": "I_sol",
           "upper": 756.5860290527344
          },
          {
           "lower": 699.4191528320313,
           "timepoint": 5,
           "trajectory": "I_sol",
           "upper": 764.8870452880859
          },
          {
           "lower": 704.6922088623047,
           "timepoint": 5.099999904632568,
           "trajectory": "I_sol",
           "upper": 773.1304016113281
          },
          {
           "lower": 709.8523345947266,
           "timepoint": 5.200000286102295,
           "trajectory": "I_sol",
           "upper": 781.3219055175781
          },
          {
           "lower": 714.9048736572265,
           "timepoint": 5.300000190734863,
           "trajectory": "I_sol",
           "upper": 789.4679107666016
          },
          {
           "lower": 719.8555358886719,
           "timepoint": 5.400000095367432,
           "trajectory": "I_sol",
           "upper": 797.5733367919922
          },
          {
           "lower": 724.7092010498047,
           "timepoint": 5.5,
           "trajectory": "I_sol",
           "upper": 805.6433166503906
          },
          {
           "lower": 729.4716888427735,
           "timepoint": 5.599999904632568,
           "trajectory": "I_sol",
           "upper": 813.6828338623047
          },
          {
           "lower": 734.1476867675781,
           "timepoint": 5.700000286102295,
           "trajectory": "I_sol",
           "upper": 821.6972686767579
          },
          {
           "lower": 738.7419647216797,
           "timepoint": 5.800000190734863,
           "trajectory": "I_sol",
           "upper": 829.6898773193359
          },
          {
           "lower": 743.2587097167968,
           "timepoint": 5.900000095367432,
           "trajectory": "I_sol",
           "upper": 837.6655212402344
          },
          {
           "lower": 747.7029754638672,
           "timepoint": 6,
           "trajectory": "I_sol",
           "upper": 845.6281311035157
          },
          {
           "lower": 752.0778625488281,
           "timepoint": 6.099999904632568,
           "trajectory": "I_sol",
           "upper": 853.5817626953125
          },
          {
           "lower": 756.3877075195312,
           "timepoint": 6.200000286102295,
           "trajectory": "I_sol",
           "upper": 861.529330444336
          },
          {
           "lower": 760.6363525390625,
           "timepoint": 6.300000190734863,
           "trajectory": "I_sol",
           "upper": 869.4752258300781
          },
          {
           "lower": 764.8270446777344,
           "timepoint": 6.400000095367432,
           "trajectory": "I_sol",
           "upper": 877.4225463867188
          },
          {
           "lower": 768.9619232177735,
           "timepoint": 6.5,
           "trajectory": "I_sol",
           "upper": 885.3743499755859
          },
          {
           "lower": 773.046109008789,
           "timepoint": 6.599999904632568,
           "trajectory": "I_sol",
           "upper": 893.3329711914063
          },
          {
           "lower": 777.0819427490235,
           "timepoint": 6.700000286102295,
           "trajectory": "I_sol",
           "upper": 901.3030334472656
          },
          {
           "lower": 781.0713470458984,
           "timepoint": 6.800000190734863,
           "trajectory": "I_sol",
           "upper": 909.2860809326172
          },
          {
           "lower": 785.0183380126953,
           "timepoint": 6.900000095367432,
           "trajectory": "I_sol",
           "upper": 917.2849517822266
          },
          {
           "lower": 788.9254669189453,
           "timepoint": 7,
           "trajectory": "I_sol",
           "upper": 925.3022583007812
          },
          {
           "lower": 792.7945526123046,
           "timepoint": 7.099999904632568,
           "trajectory": "I_sol",
           "upper": 933.3418090820312
          },
          {
           "lower": 796.6282348632812,
           "timepoint": 7.200000286102295,
           "trajectory": "I_sol",
           "upper": 941.4039581298828
          },
          {
           "lower": 800.4290130615234,
           "timepoint": 7.300000190734863,
           "trajectory": "I_sol",
           "upper": 949.4916259765624
          },
          {
           "lower": 804.1987731933593,
           "timepoint": 7.400000095367432,
           "trajectory": "I_sol",
           "upper": 957.6070587158202
          },
          {
           "lower": 807.938754272461,
           "timepoint": 7.5,
           "trajectory": "I_sol",
           "upper": 965.7524200439453
          },
          {
           "lower": 811.6523071289063,
           "timepoint": 7.599999904632568,
           "trajectory": "I_sol",
           "upper": 973.929541015625
          },
          {
           "lower": 815.3406982421875,
           "timepoint": 7.700000286102295,
           "trajectory": "I_sol",
           "upper": 982.1413940429687
          },
          {
           "lower": 819.0056976318359,
           "timepoint": 7.800000190734863,
           "trajectory": "I_sol",
           "upper": 990.3884094238281
          },
          {
           "lower": 822.6484191894531,
           "timepoint": 7.900000095367432,
           "trajectory": "I_sol",
           "upper": 998.6721160888671
          },
          {
           "lower": 826.2713256835938,
           "timepoint": 8,
           "trajectory": "I_sol",
           "upper": 1006.995458984375
          },
          {
           "lower": 829.87666015625,
           "timepoint": 8.100000381469727,
           "trajectory": "I_sol",
           "upper": 1015.3596313476562
          },
          {
           "lower": 833.4640808105469,
           "timepoint": 8.199999809265137,
           "trajectory": "I_sol",
           "upper": 1023.7661712646484
          },
          {
           "lower": 837.0358795166015,
           "timepoint": 8.300000190734863,
           "trajectory": "I_sol",
           "upper": 1032.2164367675782
          },
          {
           "lower": 840.5931823730468,
           "timepoint": 8.40000057220459,
           "trajectory": "I_sol",
           "upper": 1040.7122009277343
          },
          {
           "lower": 844.1374969482422,
           "timepoint": 8.5,
           "trajectory": "I_sol",
           "upper": 1049.25634765625
          },
          {
           "lower": 847.6697418212891,
           "timepoint": 8.600000381469727,
           "trajectory": "I_sol",
           "upper": 1057.8478271484375
          },
          {
           "lower": 851.1914886474609,
           "timepoint": 8.699999809265137,
           "trajectory": "I_sol",
           "upper": 1066.4887939453124
          },
          {
           "lower": 854.703466796875,
           "timepoint": 8.800000190734863,
           "trajectory": "I_sol",
           "upper": 1075.1809143066405
          },
          {
           "lower": 858.206753540039,
           "timepoint": 8.90000057220459,
           "trajectory": "I_sol",
           "upper": 1083.925207519531
          },
          {
           "lower": 861.7023986816406,
           "timepoint": 9,
           "trajectory": "I_sol",
           "upper": 1092.7219116210938
          },
          {
           "lower": 865.1913452148438,
           "timepoint": 9.100000381469727,
           "trajectory": "I_sol",
           "upper": 1101.5738708496094
          },
          {
           "lower": 868.6745574951171,
           "timepoint": 9.199999809265137,
           "trajectory": "I_sol",
           "upper": 1110.483312988281
          },
          {
           "lower": 872.1529907226562,
           "timepoint": 9.300000190734863,
           "trajectory": "I_sol",
           "upper": 1119.4487915039062
          },
          {
           "lower": 875.6269744873047,
           "timepoint": 9.40000057220459,
           "trajectory": "I_sol",
           "upper": 1128.4723022460937
          },
          {
           "lower": 879.0980285644531,
           "timepoint": 9.5,
           "trajectory": "I_sol",
           "upper": 1137.555157470703
          },
          {
           "lower": 882.5665100097656,
           "timepoint": 9.600000381469727,
           "trajectory": "I_sol",
           "upper": 1146.6982666015624
          },
          {
           "lower": 886.0333129882813,
           "timepoint": 9.699999809265137,
           "trajectory": "I_sol",
           "upper": 1155.9026306152343
          },
          {
           "lower": 889.4974700927735,
           "timepoint": 9.800000190734863,
           "trajectory": "I_sol",
           "upper": 1165.16943359375
          },
          {
           "lower": 892.9619689941406,
           "timepoint": 9.90000057220459,
           "trajectory": "I_sol",
           "upper": 1174.499884033203
          },
          {
           "lower": 896.4278747558594,
           "timepoint": 10,
           "trajectory": "I_sol",
           "upper": 1183.8942749023438
          },
          {
           "lower": 899.8936004638672,
           "timepoint": 10.100000381469727,
           "trajectory": "I_sol",
           "upper": 1193.354180908203
          },
          {
           "lower": 903.3606567382812,
           "timepoint": 10.199999809265137,
           "trajectory": "I_sol",
           "upper": 1202.8799133300781
          },
          {
           "lower": 906.8296264648437,
           "timepoint": 10.300000190734863,
           "trajectory": "I_sol",
           "upper": 1212.4729919433594
          },
          {
           "lower": 910.3008697509765,
           "timepoint": 10.40000057220459,
           "trajectory": "I_sol",
           "upper": 1222.1357055664062
          },
          {
           "lower": 913.7752899169922,
           "timepoint": 10.5,
           "trajectory": "I_sol",
           "upper": 1231.866125488281
          },
          {
           "lower": 917.2529388427735,
           "timepoint": 10.600000381469727,
           "trajectory": "I_sol",
           "upper": 1241.6666687011718
          },
          {
           "lower": 920.7345764160157,
           "timepoint": 10.699999809265137,
           "trajectory": "I_sol",
           "upper": 1251.5380432128907
          },
          {
           "lower": 924.2196563720703,
           "timepoint": 10.800000190734863,
           "trajectory": "I_sol",
           "upper": 1261.4810302734375
          },
          {
           "lower": 927.7100219726562,
           "timepoint": 10.90000057220459,
           "trajectory": "I_sol",
           "upper": 1271.4966491699217
          },
          {
           "lower": 931.2054290771484,
           "timepoint": 11,
           "trajectory": "I_sol",
           "upper": 1281.585467529297
          },
          {
           "lower": 934.7063598632812,
           "timepoint": 11.100000381469727,
           "trajectory": "I_sol",
           "upper": 1291.748693847656
          },
          {
           "lower": 938.2130859375,
           "timepoint": 11.199999809265137,
           "trajectory": "I_sol",
           "upper": 1301.9869506835937
          },
          {
           "lower": 941.7245239257812,
           "timepoint": 11.300000190734863,
           "trajectory": "I_sol",
           "upper": 1312.3010375976562
          },
          {
           "lower": 945.2434173583985,
           "timepoint": 11.40000057220459,
           "trajectory": "I_sol",
           "upper": 1322.6919982910156
          },
          {
           "lower": 948.7700347900391,
           "timepoint": 11.5,
           "trajectory": "I_sol",
           "upper": 1333.1602783203125
          },
          {
           "lower": 952.303109741211,
           "timepoint": 11.600000381469727,
           "trajectory": "I_sol",
           "upper": 1343.7070068359374
          },
          {
           "lower": 955.8435638427734,
           "timepoint": 11.699999809265137,
           "trajectory": "I_sol",
           "upper": 1354.3328308105467
          },
          {
           "lower": 959.3916778564453,
           "timepoint": 11.800000190734863,
           "trajectory": "I_sol",
           "upper": 1365.03876953125
          },
          {
           "lower": 962.9478088378906,
           "timepoint": 11.90000057220459,
           "trajectory": "I_sol",
           "upper": 1375.8252014160155
          },
          {
           "lower": 966.5119903564453,
           "timepoint": 12,
           "trajectory": "I_sol",
           "upper": 1386.693292236328
          },
          {
           "lower": 970.0857543945312,
           "timepoint": 12.100000381469727,
           "trajectory": "I_sol",
           "upper": 1397.6437866210938
          },
          {
           "lower": 973.6674682617188,
           "timepoint": 12.199999809265137,
           "trajectory": "I_sol",
           "upper": 1408.6780334472655
          },
          {
           "lower": 977.2583526611328,
           "timepoint": 12.300000190734863,
           "trajectory": "I_sol",
           "upper": 1419.79580078125
          },
          {
           "lower": 980.8577911376954,
           "timepoint": 12.40000057220459,
           "trajectory": "I_sol",
           "upper": 1430.9982604980469
          },
          {
           "lower": 984.4670684814453,
           "timepoint": 12.5,
           "trajectory": "I_sol",
           "upper": 1442.2850219726563
          },
          {
           "lower": 988.0860260009765,
           "timepoint": 12.600000381469727,
           "trajectory": "I_sol",
           "upper": 1453.659130859375
          },
          {
           "lower": 991.7147186279296,
           "timepoint": 12.699999809265137,
           "trajectory": "I_sol",
           "upper": 1465.1203186035157
          },
          {
           "lower": 995.3535400390625,
           "timepoint": 12.800000190734863,
           "trajectory": "I_sol",
           "upper": 1476.669384765625
          },
          {
           "lower": 999.002490234375,
           "timepoint": 12.90000057220459,
           "trajectory": "I_sol",
           "upper": 1488.3071411132812
          },
          {
           "lower": 1002.6610565185547,
           "timepoint": 13,
           "trajectory": "I_sol",
           "upper": 1500.034307861328
          },
          {
           "lower": 1006.3306884765625,
           "timepoint": 13.100000381469727,
           "trajectory": "I_sol",
           "upper": 1511.8518310546874
          },
          {
           "lower": 1010.0112365722656,
           "timepoint": 13.199999809265137,
           "trajectory": "I_sol",
           "upper": 1523.7589782714842
          },
          {
           "lower": 1013.7026245117188,
           "timepoint": 13.300000190734863,
           "trajectory": "I_sol",
           "upper": 1535.7588867187499
          },
          {
           "lower": 1017.404995727539,
           "timepoint": 13.40000057220459,
           "trajectory": "I_sol",
           "upper": 1547.8514709472656
          },
          {
           "lower": 1021.118539428711,
           "timepoint": 13.5,
           "trajectory": "I_sol",
           "upper": 1560.0383728027343
          },
          {
           "lower": 1024.8435089111329,
           "timepoint": 13.600000381469727,
           "trajectory": "I_sol",
           "upper": 1572.3186706542967
          },
          {
           "lower": 1028.5799499511718,
           "timepoint": 13.699999809265137,
           "trajectory": "I_sol",
           "upper": 1584.6939331054687
          },
          {
           "lower": 1032.328060913086,
           "timepoint": 13.800000190734863,
           "trajectory": "I_sol",
           "upper": 1597.1650024414062
          },
          {
           "lower": 1036.08798828125,
           "timepoint": 13.90000057220459,
           "trajectory": "I_sol",
           "upper": 1609.7327331542967
          },
          {
           "lower": 1039.8590393066406,
           "timepoint": 14,
           "trajectory": "I_sol",
           "upper": 1622.3975952148437
          },
          {
           "lower": 1043.6426208496093,
           "timepoint": 14.100000381469727,
           "trajectory": "I_sol",
           "upper": 1635.1608825683593
          },
          {
           "lower": 1047.438427734375,
           "timepoint": 14.199999809265137,
           "trajectory": "I_sol",
           "upper": 1648.0229675292967
          },
          {
           "lower": 1051.2453399658202,
           "timepoint": 14.300000190734863,
           "trajectory": "I_sol",
           "upper": 1660.985021972656
          },
          {
           "lower": 1055.0655731201173,
           "timepoint": 14.40000057220459,
           "trajectory": "I_sol",
           "upper": 1674.04931640625
          },
          {
           "lower": 1058.8981201171875,
           "timepoint": 14.5,
           "trajectory": "I_sol",
           "upper": 1687.2137390136718
          },
          {
           "lower": 1062.743359375,
           "timepoint": 14.600000381469727,
           "trajectory": "I_sol",
           "upper": 1700.4806884765624
          },
          {
           "lower": 1066.601055908203,
           "timepoint": 14.699999809265137,
           "trajectory": "I_sol",
           "upper": 1713.850500488281
          },
          {
           "lower": 1070.471630859375,
           "timepoint": 14.800000190734863,
           "trajectory": "I_sol",
           "upper": 1727.3246154785156
          },
          {
           "lower": 1074.35517578125,
           "timepoint": 14.90000057220459,
           "trajectory": "I_sol",
           "upper": 1740.9035766601562
          },
          {
           "lower": 1078.2513549804687,
           "timepoint": 15,
           "trajectory": "I_sol",
           "upper": 1754.5880981445312
          },
          {
           "lower": 1082.1610778808595,
           "timepoint": 15.100000381469727,
           "trajectory": "I_sol",
           "upper": 1768.3794311523436
          },
          {
           "lower": 1086.0836242675782,
           "timepoint": 15.199999809265137,
           "trajectory": "I_sol",
           "upper": 1782.278057861328
          },
          {
           "lower": 1090.019549560547,
           "timepoint": 15.300000190734863,
           "trajectory": "I_sol",
           "upper": 1796.2850524902342
          },
          {
           "lower": 1093.9688415527344,
           "timepoint": 15.40000057220459,
           "trajectory": "I_sol",
           "upper": 1810.4014038085936
          },
          {
           "lower": 1097.9315795898438,
           "timepoint": 15.5,
           "trajectory": "I_sol",
           "upper": 1824.6276123046873
          },
          {
           "lower": 1101.9078063964844,
           "timepoint": 15.600000381469727,
           "trajectory": "I_sol",
           "upper": 1838.9649108886717
          },
          {
           "lower": 1105.8976989746093,
           "timepoint": 15.699999809265137,
           "trajectory": "I_sol",
           "upper": 1853.412823486328
          },
          {
           "lower": 1109.9011474609374,
           "timepoint": 15.800000190734863,
           "trajectory": "I_sol",
           "upper": 1867.9744201660155
          },
          {
           "lower": 1113.9186279296875,
           "timepoint": 15.90000057220459,
           "trajectory": "I_sol",
           "upper": 1882.649816894531
          },
          {
           "lower": 1117.9497985839844,
           "timepoint": 16,
           "trajectory": "I_sol",
           "upper": 1897.439599609375
          },
          {
           "lower": 1121.9949890136718,
           "timepoint": 16.100000381469727,
           "trajectory": "I_sol",
           "upper": 1912.3430603027343
          },
          {
           "lower": 1126.0542785644532,
           "timepoint": 16.200000762939453,
           "trajectory": "I_sol",
           "upper": 1927.3641784667968
          },
          {
           "lower": 1130.1280944824218,
           "timepoint": 16.30000114440918,
           "trajectory": "I_sol",
           "upper": 1942.5025634765625
          },
          {
           "lower": 1134.2157348632813,
           "timepoint": 16.399999618530273,
           "trajectory": "I_sol",
           "upper": 1957.7587890625
          },
          {
           "lower": 1138.3164001464843,
           "timepoint": 16.5,
           "trajectory": "I_sol",
           "upper": 1973.134436035156
          },
          {
           "lower": 1142.4325012207032,
           "timepoint": 16.600000381469727,
           "trajectory": "I_sol",
           "upper": 1988.6299133300781
          },
          {
           "lower": 1146.562811279297,
           "timepoint": 16.700000762939453,
           "trajectory": "I_sol",
           "upper": 2004.2463317871093
          },
          {
           "lower": 1150.707763671875,
           "timepoint": 16.80000114440918,
           "trajectory": "I_sol",
           "upper": 2019.9846923828125
          },
          {
           "lower": 1154.8671569824219,
           "timepoint": 16.899999618530273,
           "trajectory": "I_sol",
           "upper": 2035.8452697753905
          },
          {
           "lower": 1159.0413024902343,
           "timepoint": 17,
           "trajectory": "I_sol",
           "upper": 2051.8302795410154
          },
          {
           "lower": 1163.2301330566406,
           "timepoint": 17.100000381469727,
           "trajectory": "I_sol",
           "upper": 2067.939837646484
          },
          {
           "lower": 1167.433837890625,
           "timepoint": 17.200000762939453,
           "trajectory": "I_sol",
           "upper": 2084.1750244140626
          },
          {
           "lower": 1171.6523498535157,
           "timepoint": 17.30000114440918,
           "trajectory": "I_sol",
           "upper": 2100.53896484375
          },
          {
           "lower": 1175.8856567382813,
           "timepoint": 17.399999618530273,
           "trajectory": "I_sol",
           "upper": 2117.028845214844
          },
          {
           "lower": 1180.1342041015625,
           "timepoint": 17.5,
           "trajectory": "I_sol",
           "upper": 2133.647607421875
          },
          {
           "lower": 1184.3972412109374,
           "timepoint": 17.600000381469727,
           "trajectory": "I_sol",
           "upper": 2150.396142578125
          },
          {
           "lower": 1188.6757690429688,
           "timepoint": 17.700000762939453,
           "trajectory": "I_sol",
           "upper": 2167.2771850585937
          },
          {
           "lower": 1192.9694702148438,
           "timepoint": 17.80000114440918,
           "trajectory": "I_sol",
           "upper": 2184.2887939453126
          },
          {
           "lower": 1197.2770446777345,
           "timepoint": 17.899999618530273,
           "trajectory": "I_sol",
           "upper": 2201.4325927734376
          },
          {
           "lower": 1201.601055908203,
           "timepoint": 18,
           "trajectory": "I_sol",
           "upper": 2218.710766601562
          },
          {
           "lower": 1205.9404602050781,
           "timepoint": 18.100000381469727,
           "trajectory": "I_sol",
           "upper": 2236.1235961914062
          },
          {
           "lower": 1210.2953491210938,
           "timepoint": 18.200000762939453,
           "trajectory": "I_sol",
           "upper": 2253.6724853515625
          },
          {
           "lower": 1214.6657958984374,
           "timepoint": 18.30000114440918,
           "trajectory": "I_sol",
           "upper": 2271.3583862304686
          },
          {
           "lower": 1219.0514831542969,
           "timepoint": 18.399999618530273,
           "trajectory": "I_sol",
           "upper": 2289.181860351562
          },
          {
           "lower": 1223.4530944824219,
           "timepoint": 18.5,
           "trajectory": "I_sol",
           "upper": 2307.145031738281
          },
          {
           "lower": 1227.8703674316407,
           "timepoint": 18.600000381469727,
           "trajectory": "I_sol",
           "upper": 2325.2485961914062
          },
          {
           "lower": 1232.3033752441406,
           "timepoint": 18.700000762939453,
           "trajectory": "I_sol",
           "upper": 2343.4930175781246
          },
          {
           "lower": 1236.7522216796874,
           "timepoint": 18.80000114440918,
           "trajectory": "I_sol",
           "upper": 2361.879895019531
          },
          {
           "lower": 1241.2169494628906,
           "timepoint": 18.899999618530273,
           "trajectory": "I_sol",
           "upper": 2380.410229492187
          },
          {
           "lower": 1245.6975891113282,
           "timepoint": 19,
           "trajectory": "I_sol",
           "upper": 2399.0852416992184
          },
          {
           "lower": 1250.1940368652345,
           "timepoint": 19.100000381469727,
           "trajectory": "I_sol",
           "upper": 2417.90615234375
          },
          {
           "lower": 1254.7067504882812,
           "timepoint": 19.200000762939453,
           "trajectory": "I_sol",
           "upper": 2436.8730712890624
          },
          {
           "lower": 1259.23564453125,
           "timepoint": 19.30000114440918,
           "trajectory": "I_sol",
           "upper": 2455.988671875
          },
          {
           "lower": 1263.7814697265626,
           "timepoint": 19.399999618530273,
           "trajectory": "I_sol",
           "upper": 2475.2529907226562
          },
          {
           "lower": 1268.3428344726562,
           "timepoint": 19.5,
           "trajectory": "I_sol",
           "upper": 2494.6681640624997
          },
          {
           "lower": 1272.920703125,
           "timepoint": 19.600000381469727,
           "trajectory": "I_sol",
           "upper": 2514.2379760742188
          },
          {
           "lower": 1277.5147827148437,
           "timepoint": 19.700000762939453,
           "trajectory": "I_sol",
           "upper": 2533.957763671875
          },
          {
           "lower": 1282.1254089355468,
           "timepoint": 19.80000114440918,
           "trajectory": "I_sol",
           "upper": 2553.8313354492184
          },
          {
           "lower": 1286.7524475097657,
           "timepoint": 19.899999618530273,
           "trajectory": "I_sol",
           "upper": 2573.8592285156246
          },
          {
           "lower": 1291.3960754394532,
           "timepoint": 20,
           "trajectory": "I_sol",
           "upper": 2594.0441284179688
          },
          {
           "lower": 1296.0564270019531,
           "timepoint": 20.100000381469727,
           "trajectory": "I_sol",
           "upper": 2614.3864135742188
          },
          {
           "lower": 1300.7334106445312,
           "timepoint": 20.200000762939453,
           "trajectory": "I_sol",
           "upper": 2634.8873046874996
          },
          {
           "lower": 1305.4271301269532,
           "timepoint": 20.30000114440918,
           "trajectory": "I_sol",
           "upper": 2655.5480468749997
          },
          {
           "lower": 1310.1376037597656,
           "timepoint": 20.399999618530273,
           "trajectory": "I_sol",
           "upper": 2676.3697509765625
          },
          {
           "lower": 1314.8649658203126,
           "timepoint": 20.5,
           "trajectory": "I_sol",
           "upper": 2697.354260253906
          },
          {
           "lower": 1319.6093505859376,
           "timepoint": 20.600000381469727,
           "trajectory": "I_sol",
           "upper": 2718.5022216796874
          },
          {
           "lower": 1324.3706115722657,
           "timepoint": 20.700000762939453,
           "trajectory": "I_sol",
           "upper": 2739.8153198242185
          },
          {
           "lower": 1329.149072265625,
           "timepoint": 20.80000114440918,
           "trajectory": "I_sol",
           "upper": 2761.2945556640625
          },
          {
           "lower": 1333.9466735839844,
           "timepoint": 20.899999618530273,
           "trajectory": "I_sol",
           "upper": 2782.940686035156
          },
          {
           "lower": 1338.7596496582032,
           "timepoint": 21,
           "trajectory": "I_sol",
           "upper": 2804.7563720703124
          },
          {
           "lower": 1343.5911987304687,
           "timepoint": 21.100000381469727,
           "trajectory": "I_sol",
           "upper": 2826.7418212890625
          },
          {
           "lower": 1348.4390930175782,
           "timepoint": 21.200000762939453,
           "trajectory": "I_sol",
           "upper": 2848.894506835937
          },
          {
           "lower": 1353.3043640136718,
           "timepoint": 21.30000114440918,
           "trajectory": "I_sol",
           "upper": 2871.223779296875
          },
          {
           "lower": 1358.187109375,
           "timepoint": 21.399999618530273,
           "trajectory": "I_sol",
           "upper": 2893.7262084960935
          },
          {
           "lower": 1363.0873962402343,
           "timepoint": 21.5,
           "trajectory": "I_sol",
           "upper": 2916.4045288085936
          },
          {
           "lower": 1368.0052795410156,
           "timepoint": 21.600000381469727,
           "trajectory": "I_sol",
           "upper": 2939.2596923828123
          },
          {
           "lower": 1372.9408935546876,
           "timepoint": 21.700000762939453,
           "trajectory": "I_sol",
           "upper": 2962.2926147460935
          },
          {
           "lower": 1377.8943359375,
           "timepoint": 21.80000114440918,
           "trajectory": "I_sol",
           "upper": 2985.5051147460936
          },
          {
           "lower": 1382.8653198242187,
           "timepoint": 21.899999618530273,
           "trajectory": "I_sol",
           "upper": 3008.898059082031
          },
          {
           "lower": 1387.8543884277344,
           "timepoint": 22,
           "trajectory": "I_sol",
           "upper": 3032.4735839843747
          },
          {
           "lower": 1392.8612976074219,
           "timepoint": 22.100000381469727,
           "trajectory": "I_sol",
           "upper": 3056.2327270507812
          },
          {
           "lower": 1397.886212158203,
           "timepoint": 22.200000762939453,
           "trajectory": "I_sol",
           "upper": 3080.1767822265624
          },
          {
           "lower": 1402.9292541503905,
           "timepoint": 22.30000114440918,
           "trajectory": "I_sol",
           "upper": 3104.3074584960937
          },
          {
           "lower": 1407.9902038574219,
           "timepoint": 22.399999618530273,
           "trajectory": "I_sol",
           "upper": 3128.6251342773435
          },
          {
           "lower": 1413.069580078125,
           "timepoint": 22.5,
           "trajectory": "I_sol",
           "upper": 3153.1328491210934
          },
          {
           "lower": 1418.1670288085938,
           "timepoint": 22.600000381469727,
           "trajectory": "I_sol",
           "upper": 3177.8311889648435
          },
          {
           "lower": 1423.2829711914062,
           "timepoint": 22.700000762939453,
           "trajectory": "I_sol",
           "upper": 3202.7218139648435
          },
          {
           "lower": 1428.417218017578,
           "timepoint": 22.80000114440918,
           "trajectory": "I_sol",
           "upper": 3227.8059448242184
          },
          {
           "lower": 1433.5697265625,
           "timepoint": 22.899999618530273,
           "trajectory": "I_sol",
           "upper": 3253.0850952148435
          },
          {
           "lower": 1438.742608642578,
           "timepoint": 23,
           "trajectory": "I_sol",
           "upper": 3278.559790039062
          },
          {
           "lower": 1443.9325317382813,
           "timepoint": 23.100000381469727,
           "trajectory": "I_sol",
           "upper": 3304.2339111328124
          },
          {
           "lower": 1449.141259765625,
           "timepoint": 23.200000762939453,
           "trajectory": "I_sol",
           "upper": 3330.107580566406
          },
          {
           "lower": 1454.3686462402343,
           "timepoint": 23.30000114440918,
           "trajectory": "I_sol",
           "upper": 3356.182202148437
          },
          {
           "lower": 1459.6148254394532,
           "timepoint": 23.399999618530273,
           "trajectory": "I_sol",
           "upper": 3382.4595092773434
          },
          {
           "lower": 1464.8800170898437,
           "timepoint": 23.5,
           "trajectory": "I_sol",
           "upper": 3408.944702148437
          },
          {
           "lower": 1470.1639892578125,
           "timepoint": 23.600000381469727,
           "trajectory": "I_sol",
           "upper": 3435.6331909179685
          },
          {
           "lower": 1475.4669860839845,
           "timepoint": 23.700000762939453,
           "trajectory": "I_sol",
           "upper": 3462.5288940429687
          },
          {
           "lower": 1480.7891845703125,
           "timepoint": 23.80000114440918,
           "trajectory": "I_sol",
           "upper": 3489.6336791992185
          },
          {
           "lower": 1486.1303955078124,
           "timepoint": 23.899999618530273,
           "trajectory": "I_sol",
           "upper": 3516.948876953125
          },
          {
           "lower": 1491.4909973144531,
           "timepoint": 24,
           "trajectory": "I_sol",
           "upper": 3544.4767578124997
          },
          {
           "lower": 1496.8707336425782,
           "timepoint": 24.100000381469727,
           "trajectory": "I_sol",
           "upper": 3572.2184326171873
          },
          {
           "lower": 1502.2697814941407,
           "timepoint": 24.200000762939453,
           "trajectory": "I_sol",
           "upper": 3600.175695800781
          },
          {
           "lower": 1507.688330078125,
           "timepoint": 24.30000114440918,
           "trajectory": "I_sol",
           "upper": 3628.3501953124996
          },
          {
           "lower": 1513.1261779785157,
           "timepoint": 24.399999618530273,
           "trajectory": "I_sol",
           "upper": 3656.7432617187496
          },
          {
           "lower": 1518.5838806152344,
           "timepoint": 24.5,
           "trajectory": "I_sol",
           "upper": 3685.3572753906246
          },
          {
           "lower": 1524.0610290527343,
           "timepoint": 24.600000381469727,
           "trajectory": "I_sol",
           "upper": 3714.1937011718746
          },
          {
           "lower": 1529.5580078125,
           "timepoint": 24.700000762939453,
           "trajectory": "I_sol",
           "upper": 3743.2540039062496
          },
          {
           "lower": 1535.074609375,
           "timepoint": 24.80000114440918,
           "trajectory": "I_sol",
           "upper": 3772.538488769531
          },
          {
           "lower": 1540.6110534667969,
           "timepoint": 24.899999618530273,
           "trajectory": "I_sol",
           "upper": 3802.0508789062496
          },
          {
           "lower": 1546.167529296875,
           "timepoint": 25,
           "trajectory": "I_sol",
           "upper": 3831.792700195312
          },
          {
           "lower": 1551.743914794922,
           "timepoint": 25.100000381469727,
           "trajectory": "I_sol",
           "upper": 3861.765954589843
          },
          {
           "lower": 1557.3403198242188,
           "timepoint": 25.200000762939453,
           "trajectory": "I_sol",
           "upper": 3891.971484375
          },
          {
           "lower": 1562.9568664550782,
           "timepoint": 25.30000114440918,
           "trajectory": "I_sol",
           "upper": 3922.4115112304685
          },
          {
           "lower": 1568.5934997558593,
           "timepoint": 25.399999618530273,
           "trajectory": "I_sol",
           "upper": 3953.087170410156
          },
          {
           "lower": 1574.250506591797,
           "timepoint": 25.5,
           "trajectory": "I_sol",
           "upper": 3984.0006347656245
          },
          {
           "lower": 1579.927667236328,
           "timepoint": 25.600000381469727,
           "trajectory": "I_sol",
           "upper": 4015.154418945312
          },
          {
           "lower": 1585.6264526367188,
           "timepoint": 25.700000762939453,
           "trajectory": "I_sol",
           "upper": 4046.5500366210936
          },
          {
           "lower": 1591.34541015625,
           "timepoint": 25.80000114440918,
           "trajectory": "I_sol",
           "upper": 4078.188635253906
          },
          {
           "lower": 1597.0841918945312,
           "timepoint": 25.899999618530273,
           "trajectory": "I_sol",
           "upper": 4110.072265625
          },
          {
           "lower": 1602.8438232421875,
           "timepoint": 26,
           "trajectory": "I_sol",
           "upper": 4142.203320312499
          },
          {
           "lower": 1608.624072265625,
           "timepoint": 26.100000381469727,
           "trajectory": "I_sol",
           "upper": 4174.583740234375
          },
          {
           "lower": 1614.425115966797,
           "timepoint": 26.200000762939453,
           "trajectory": "I_sol",
           "upper": 4207.215161132812
          },
          {
           "lower": 1620.247021484375,
           "timepoint": 26.30000114440918,
           "trajectory": "I_sol",
           "upper": 4240.098876953125
          },
          {
           "lower": 1626.0897094726563,
           "timepoint": 26.399999618530273,
           "trajectory": "I_sol",
           "upper": 4273.237219238281
          },
          {
           "lower": 1631.9536010742188,
           "timepoint": 26.5,
           "trajectory": "I_sol",
           "upper": 4306.6343994140625
          },
          {
           "lower": 1637.8385864257812,
           "timepoint": 26.600000381469727,
           "trajectory": "I_sol",
           "upper": 4340.289038085937
          },
          {
           "lower": 1643.7447326660156,
           "timepoint": 26.700000762939453,
           "trajectory": "I_sol",
           "upper": 4374.203881835937
          },
          {
           "lower": 1649.6719604492187,
           "timepoint": 26.80000114440918,
           "trajectory": "I_sol",
           "upper": 4408.381640625
          },
          {
           "lower": 1655.6205688476562,
           "timepoint": 26.899999618530273,
           "trajectory": "I_sol",
           "upper": 4442.8232421875
          },
          {
           "lower": 1661.5906127929688,
           "timepoint": 27,
           "trajectory": "I_sol",
           "upper": 4477.531982421875
          },
          {
           "lower": 1667.58212890625,
           "timepoint": 27.100000381469727,
           "trajectory": "I_sol",
           "upper": 4512.51025390625
          },
          {
           "lower": 1673.595233154297,
           "timepoint": 27.200000762939453,
           "trajectory": "I_sol",
           "upper": 4547.7568359375
          },
          {
           "lower": 1679.6298522949219,
           "timepoint": 27.30000114440918,
           "trajectory": "I_sol",
           "upper": 4583.277734374999
          },
          {
           "lower": 1685.6861083984375,
           "timepoint": 27.399999618530273,
           "trajectory": "I_sol",
           "upper": 4619.072705078124
          },
          {
           "lower": 1691.7643310546875,
           "timepoint": 27.5,
           "trajectory": "I_sol",
           "upper": 4655.145068359375
          },
          {
           "lower": 1697.8643310546875,
           "timepoint": 27.600000381469727,
           "trajectory": "I_sol",
           "upper": 4691.496655273437
          },
          {
           "lower": 1703.9862670898438,
           "timepoint": 27.700000762939453,
           "trajectory": "I_sol",
           "upper": 4728.12919921875
          },
          {
           "lower": 1710.1303466796876,
           "timepoint": 27.80000114440918,
           "trajectory": "I_sol",
           "upper": 4765.044653320312
          },
          {
           "lower": 1716.296240234375,
           "timepoint": 27.899999618530273,
           "trajectory": "I_sol",
           "upper": 4802.245239257812
          },
          {
           "lower": 1722.4845092773437,
           "timepoint": 28,
           "trajectory": "I_sol",
           "upper": 4839.734155273437
          },
          {
           "lower": 1728.6949890136718,
           "timepoint": 28.100000381469727,
           "trajectory": "I_sol",
           "upper": 4877.512158203124
          },
          {
           "lower": 1734.9279235839845,
           "timepoint": 28.200000762939453,
           "trajectory": "I_sol",
           "upper": 4915.582006835937
          },
          {
           "lower": 1741.183056640625,
           "timepoint": 28.30000114440918,
           "trajectory": "I_sol",
           "upper": 4953.947924804687
          },
          {
           "lower": 1747.4607666015625,
           "timepoint": 28.399999618530273,
           "trajectory": "I_sol",
           "upper": 4992.607763671875
          },
          {
           "lower": 1753.7587341308595,
           "timepoint": 28.5,
           "trajectory": "I_sol",
           "upper": 5031.567089843749
          },
          {
           "lower": 1760.0809509277344,
           "timepoint": 28.600000381469727,
           "trajectory": "I_sol",
           "upper": 5070.827050781249
          },
          {
           "lower": 1766.4262451171876,
           "timepoint": 28.700000762939453,
           "trajectory": "I_sol",
           "upper": 5110.390283203124
          },
          {
           "lower": 1772.7943481445313,
           "timepoint": 28.80000114440918,
           "trajectory": "I_sol",
           "upper": 5150.258862304687
          },
          {
           "lower": 1779.1851928710937,
           "timepoint": 28.899999618530273,
           "trajectory": "I_sol",
           "upper": 5190.434301757812
          },
          {
           "lower": 1785.5990234375,
           "timepoint": 29,
           "trajectory": "I_sol",
           "upper": 5230.919799804687
          },
          {
           "lower": 1792.0359497070312,
           "timepoint": 29.100000381469727,
           "trajectory": "I_sol",
           "upper": 5271.719482421874
          },
          {
           "lower": 1798.4959716796875,
           "timepoint": 29.200000762939453,
           "trajectory": "I_sol",
           "upper": 5312.832519531249
          },
          {
           "lower": 1804.979266357422,
           "timepoint": 29.30000114440918,
           "trajectory": "I_sol",
           "upper": 5354.263134765624
          },
          {
           "lower": 1811.4856567382812,
           "timepoint": 29.399999618530273,
           "trajectory": "I_sol",
           "upper": 5396.011669921874
          },
          {
           "lower": 1818.0155090332032,
           "timepoint": 29.5,
           "trajectory": "I_sol",
           "upper": 5438.082885742187
          },
          {
           "lower": 1824.5690002441406,
           "timepoint": 29.600000381469727,
           "trajectory": "I_sol",
           "upper": 5480.478295898437
          },
          {
           "lower": 1831.1458068847655,
           "timepoint": 29.700000762939453,
           "trajectory": "I_sol",
           "upper": 5523.20078125
          },
          {
           "lower": 1837.7462524414063,
           "timepoint": 29.80000114440918,
           "trajectory": "I_sol",
           "upper": 5566.251416015624
          },
          {
           "lower": 1844.3704467773437,
           "timepoint": 29.899999618530273,
           "trajectory": "I_sol",
           "upper": 5609.63388671875
          },
          {
           "lower": 1851.0182556152345,
           "timepoint": 30,
           "trajectory": "I_sol",
           "upper": 5653.350903320312
          },
          {
           "lower": 1857.6900695800782,
           "timepoint": 30.100000381469727,
           "trajectory": "I_sol",
           "upper": 5697.408715820312
          },
          {
           "lower": 1864.3857971191405,
           "timepoint": 30.200000762939453,
           "trajectory": "I_sol",
           "upper": 5741.802026367187
          },
          {
           "lower": 1871.1056274414063,
           "timepoint": 30.30000114440918,
           "trajectory": "I_sol",
           "upper": 5786.536865234374
          },
          {
           "lower": 1877.8493957519531,
           "timepoint": 30.399999618530273,
           "trajectory": "I_sol",
           "upper": 5831.615039062499
          },
          {
           "lower": 1884.6176513671876,
           "timepoint": 30.5,
           "trajectory": "I_sol",
           "upper": 5877.040917968749
          },
          {
           "lower": 1891.4100219726563,
           "timepoint": 30.600000381469727,
           "trajectory": "I_sol",
           "upper": 5922.817163085937
          },
          {
           "lower": 1898.2267944335938,
           "timepoint": 30.700000762939453,
           "trajectory": "I_sol",
           "upper": 5968.944531249999
          },
          {
           "lower": 1905.0679931640625,
           "timepoint": 30.80000114440918,
           "trajectory": "I_sol",
           "upper": 6015.426708984374
          },
          {
           "lower": 1911.933612060547,
           "timepoint": 30.899999618530273,
           "trajectory": "I_sol",
           "upper": 6062.265429687499
          },
          {
           "lower": 1918.8240539550782,
           "timepoint": 31,
           "trajectory": "I_sol",
           "upper": 6109.470239257812
          },
          {
           "lower": 1925.7396240234375,
           "timepoint": 31.100000381469727,
           "trajectory": "I_sol",
           "upper": 6157.033374023436
          },
          {
           "lower": 1932.679510498047,
           "timepoint": 31.200000762939453,
           "trajectory": "I_sol",
           "upper": 6204.962377929687
          },
          {
           "lower": 1939.6444396972656,
           "timepoint": 31.30000114440918,
           "trajectory": "I_sol",
           "upper": 6253.259570312499
          },
          {
           "lower": 1946.6341247558594,
           "timepoint": 31.399999618530273,
           "trajectory": "I_sol",
           "upper": 6301.92685546875
          },
          {
           "lower": 1953.6490295410156,
           "timepoint": 31.5,
           "trajectory": "I_sol",
           "upper": 6350.968603515625
          },
          {
           "lower": 1960.6889770507812,
           "timepoint": 31.600000381469727,
           "trajectory": "I_sol",
           "upper": 6400.387548828125
          },
          {
           "lower": 1967.7515014648438,
           "timepoint": 31.700000762939453,
           "trajectory": "I_sol",
           "upper": 6450.186059570312
          },
          {
           "lower": 1974.841864013672,
           "timepoint": 31.80000114440918,
           "trajectory": "I_sol",
           "upper": 6500.366577148437
          },
          {
           "lower": 1981.9577575683593,
           "timepoint": 31.899999618530273,
           "trajectory": "I_sol",
           "upper": 6550.916918945311
          },
          {
           "lower": 1989.0989135742188,
           "timepoint": 32,
           "trajectory": "I_sol",
           "upper": 6601.868139648437
          },
          {
           "lower": 1996.2658447265626,
           "timepoint": 32.10000228881836,
           "trajectory": "I_sol",
           "upper": 6653.211328124999
          },
          {
           "lower": 2003.4584594726562,
           "timepoint": 32.20000076293945,
           "trajectory": "I_sol",
           "upper": 6704.946118164062
          },
          {
           "lower": 2010.6767578125,
           "timepoint": 32.29999923706055,
           "trajectory": "I_sol",
           "upper": 6757.077270507812
          },
          {
           "lower": 2017.9211853027343,
           "timepoint": 32.400001525878906,
           "trajectory": "I_sol",
           "upper": 6809.609667968749
          },
          {
           "lower": 2025.1911193847657,
           "timepoint": 32.5,
           "trajectory": "I_sol",
           "upper": 6862.542553710937
          },
          {
           "lower": 2032.4876220703125,
           "timepoint": 32.60000228881836,
           "trajectory": "I_sol",
           "upper": 6915.884277343749
          },
          {
           "lower": 2039.8098999023437,
           "timepoint": 32.70000076293945,
           "trajectory": "I_sol",
           "upper": 6969.631616210937
          },
          {
           "lower": 2047.1584350585938,
           "timepoint": 32.79999923706055,
           "trajectory": "I_sol",
           "upper": 7023.790332031249
          },
          {
           "lower": 2054.533410644531,
           "timepoint": 32.900001525878906,
           "trajectory": "I_sol",
           "upper": 7078.365624999999
          },
          {
           "lower": 2061.934686279297,
           "timepoint": 33,
           "trajectory": "I_sol",
           "upper": 7133.356249999999
          },
          {
           "lower": 2069.3627990722657,
           "timepoint": 33.10000228881836,
           "trajectory": "I_sol",
           "upper": 7188.770166015624
          },
          {
           "lower": 2076.8170166015625,
           "timepoint": 33.20000076293945,
           "trajectory": "I_sol",
           "upper": 7244.605419921874
          },
          {
           "lower": 2084.298046875,
           "timepoint": 33.29999923706055,
           "trajectory": "I_sol",
           "upper": 7300.867602539061
          },
          {
           "lower": 2091.8064208984374,
           "timepoint": 33.400001525878906,
           "trajectory": "I_sol",
           "upper": 7357.562451171874
          },
          {
           "lower": 2099.340966796875,
           "timepoint": 33.5,
           "trajectory": "I_sol",
           "upper": 7414.687963867186
          },
          {
           "lower": 2106.902899169922,
           "timepoint": 33.60000228881836,
           "trajectory": "I_sol",
           "upper": 7472.252587890624
          },
          {
           "lower": 2114.491668701172,
           "timepoint": 33.70000076293945,
           "trajectory": "I_sol",
           "upper": 7530.254589843749
          },
          {
           "lower": 2122.1074279785157,
           "timepoint": 33.79999923706055,
           "trajectory": "I_sol",
           "upper": 7588.699560546874
          },
          {
           "lower": 2129.7510620117187,
           "timepoint": 33.900001525878906,
           "trajectory": "I_sol",
           "upper": 7647.593286132812
          },
          {
           "lower": 2137.4214416503905,
           "timepoint": 34,
           "trajectory": "I_sol",
           "upper": 7706.933984374999
          },
          {
           "lower": 2145.1196533203124,
           "timepoint": 34.10000228881836,
           "trajectory": "I_sol",
           "upper": 7766.729931640624
          },
          {
           "lower": 2152.845184326172,
           "timepoint": 34.20000076293945,
           "trajectory": "I_sol",
           "upper": 7826.979516601562
          },
          {
           "lower": 2160.598260498047,
           "timepoint": 34.29999923706055,
           "trajectory": "I_sol",
           "upper": 7887.6864257812485
          },
          {
           "lower": 2168.3796997070312,
           "timepoint": 34.400001525878906,
           "trajectory": "I_sol",
           "upper": 7948.860180664062
          },
          {
           "lower": 2176.188348388672,
           "timepoint": 34.5,
           "trajectory": "I_sol",
           "upper": 8010.499096679687
          },
          {
           "lower": 2184.02529296875,
           "timepoint": 34.60000228881836,
           "trajectory": "I_sol",
           "upper": 8072.609912109374
          },
          {
           "lower": 2191.8900451660156,
           "timepoint": 34.70000076293945,
           "trajectory": "I_sol",
           "upper": 8135.190991210937
          },
          {
           "lower": 2199.782849121094,
           "timepoint": 34.79999923706055,
           "trajectory": "I_sol",
           "upper": 8198.250024414061
          },
          {
           "lower": 2207.7041259765624,
           "timepoint": 34.900001525878906,
           "trajectory": "I_sol",
           "upper": 8261.790380859375
          },
          {
           "lower": 2215.653387451172,
           "timepoint": 35,
           "trajectory": "I_sol",
           "upper": 8325.813134765624
          },
          {
           "lower": 2223.6316528320312,
           "timepoint": 35.10000228881836,
           "trajectory": "I_sol",
           "upper": 8390.325122070311
          },
          {
           "lower": 2231.6379272460936,
           "timepoint": 35.20000076293945,
           "trajectory": "I_sol",
           "upper": 8455.316650390623
          },
          {
           "lower": 2239.6728698730467,
           "timepoint": 35.29999923706055,
           "trajectory": "I_sol",
           "upper": 8520.810034179687
          },
          {
           "lower": 2247.7366638183594,
           "timepoint": 35.400001525878906,
           "trajectory": "I_sol",
           "upper": 8586.804125976561
          },
          {
           "lower": 2255.8290161132813,
           "timepoint": 35.5,
           "trajectory": "I_sol",
           "upper": 8653.296874999998
          },
          {
           "lower": 2263.950817871094,
           "timepoint": 35.60000228881836,
           "trajectory": "I_sol",
           "upper": 8720.297387695311
          },
          {
           "lower": 2272.101110839844,
           "timepoint": 35.70000076293945,
           "trajectory": "I_sol",
           "upper": 8787.80390625
          },
          {
           "lower": 2280.28076171875,
           "timepoint": 35.79999923706055,
           "trajectory": "I_sol",
           "upper": 8855.823291015624
          },
          {
           "lower": 2288.4896606445313,
           "timepoint": 35.900001525878906,
           "trajectory": "I_sol",
           "upper": 8924.362353515624
          },
          {
           "lower": 2296.7275390625,
           "timepoint": 36,
           "trajectory": "I_sol",
           "upper": 8993.4146484375
          },
          {
           "lower": 2304.995263671875,
           "timepoint": 36.10000228881836,
           "trajectory": "I_sol",
           "upper": 9062.997070312498
          },
          {
           "lower": 2313.2923217773437,
           "timepoint": 36.20000076293945,
           "trajectory": "I_sol",
           "upper": 9133.104248046873
          },
          {
           "lower": 2321.6187133789062,
           "timepoint": 36.29999923706055,
           "trajectory": "I_sol",
           "upper": 9203.742480468749
          },
          {
           "lower": 2329.975439453125,
           "timepoint": 36.400001525878906,
           "trajectory": "I_sol",
           "upper": 9274.919238281249
          },
          {
           "lower": 2338.364221191406,
           "timepoint": 36.5,
           "trajectory": "I_sol",
           "upper": 9346.631298828124
          },
          {
           "lower": 2346.7810302734374,
           "timepoint": 36.60000228881836,
           "trajectory": "I_sol",
           "upper": 9418.889892578123
          },
          {
           "lower": 2355.2275268554686,
           "timepoint": 36.70000076293945,
           "trajectory": "I_sol",
           "upper": 9491.693408203124
          },
          {
           "lower": 2363.703955078125,
           "timepoint": 36.79999923706055,
           "trajectory": "I_sol",
           "upper": 9565.055859375
          },
          {
           "lower": 2372.2109130859376,
           "timepoint": 36.900001525878906,
           "trajectory": "I_sol",
           "upper": 9638.968066406249
          },
          {
           "lower": 2380.748181152344,
           "timepoint": 37,
           "trajectory": "I_sol",
           "upper": 9713.437646484374
          },
          {
           "lower": 2389.3163330078123,
           "timepoint": 37.10000228881836,
           "trajectory": "I_sol",
           "upper": 9788.471337890624
          },
          {
           "lower": 2397.9147705078126,
           "timepoint": 37.20000076293945,
           "trajectory": "I_sol",
           "upper": 9864.070751953124
          },
          {
           "lower": 2406.5442504882812,
           "timepoint": 37.29999923706055,
           "trajectory": "I_sol",
           "upper": 9940.240771484374
          },
          {
           "lower": 2415.204211425781,
           "timepoint": 37.400001525878906,
           "trajectory": "I_sol",
           "upper": 10016.988525390623
          },
          {
           "lower": 2423.894812011719,
           "timepoint": 37.5,
           "trajectory": "I_sol",
           "upper": 10094.311767578123
          },
          {
           "lower": 2432.61689453125,
           "timepoint": 37.60000228881836,
           "trajectory": "I_sol",
           "upper": 10172.2228515625
          },
          {
           "lower": 2441.3696166992186,
           "timepoint": 37.70000076293945,
           "trajectory": "I_sol",
           "upper": 10250.72431640625
          },
          {
           "lower": 2450.153601074219,
           "timepoint": 37.79999923706055,
           "trajectory": "I_sol",
           "upper": 10329.812158203124
          },
          {
           "lower": 2458.969372558594,
           "timepoint": 37.900001525878906,
           "trajectory": "I_sol",
           "upper": 10409.499414062499
          },
          {
           "lower": 2467.816162109375,
           "timepoint": 38,
           "trajectory": "I_sol",
           "upper": 10489.784033203123
          },
          {
           "lower": 2476.6948974609377,
           "timepoint": 38.10000228881836,
           "trajectory": "I_sol",
           "upper": 10570.675781249998
          },
          {
           "lower": 2485.604870605469,
           "timepoint": 38.20000076293945,
           "trajectory": "I_sol",
           "upper": 10652.174755859374
          },
          {
           "lower": 2494.5466552734374,
           "timepoint": 38.29999923706055,
           "trajectory": "I_sol",
           "upper": 10734.286035156249
          },
          {
           "lower": 2503.5206298828125,
           "timepoint": 38.400001525878906,
           "trajectory": "I_sol",
           "upper": 10817.036474609373
          },
          {
           "lower": 2512.526416015625,
           "timepoint": 38.5,
           "trajectory": "I_sol",
           "upper": 10900.391015624999
          },
          {
           "lower": 2521.5646362304688,
           "timepoint": 38.60000228881836,
           "trajectory": "I_sol",
           "upper": 10984.375097656248
          },
          {
           "lower": 2530.634313964844,
           "timepoint": 38.70000076293945,
           "trajectory": "I_sol",
           "upper": 11068.987744140624
          },
          {
           "lower": 2539.736865234375,
           "timepoint": 38.79999923706055,
           "trajectory": "I_sol",
           "upper": 11154.236328124998
          },
          {
           "lower": 2548.871960449219,
           "timepoint": 38.900001525878906,
           "trajectory": "I_sol",
           "upper": 11240.1291015625
          },
          {
           "lower": 2558.039111328125,
           "timepoint": 39,
           "trajectory": "I_sol",
           "upper": 11326.662988281249
          },
          {
           "lower": 2567.2393798828125,
           "timepoint": 39.10000228881836,
           "trajectory": "I_sol",
           "upper": 11413.849951171873
          },
          {
           "lower": 2576.4741943359377,
           "timepoint": 39.20000076293945,
           "trajectory": "I_sol",
           "upper": 11501.686816406249
          },
          {
           "lower": 2585.740124511719,
           "timepoint": 39.29999923706055,
           "trajectory": "I_sol",
           "upper": 11590.183251953124
          },
          {
           "lower": 2595.0393920898437,
           "timepoint": 39.400001525878906,
           "trajectory": "I_sol",
           "upper": 11679.345947265623
          },
          {
           "lower": 2604.371447753906,
           "timepoint": 39.5,
           "trajectory": "I_sol",
           "upper": 11769.177783203124
          },
          {
           "lower": 2613.7369750976563,
           "timepoint": 39.60000228881836,
           "trajectory": "I_sol",
           "upper": 11859.682031249999
          },
          {
           "lower": 2623.1357299804686,
           "timepoint": 39.70000076293945,
           "trajectory": "I_sol",
           "upper": 11950.860253906249
          },
          {
           "lower": 2632.5679565429687,
           "timepoint": 39.79999923706055,
           "trajectory": "I_sol",
           "upper": 12042.720898437497
          },
          {
           "lower": 2642.034033203125,
           "timepoint": 39.900001525878906,
           "trajectory": "I_sol",
           "upper": 12135.270361328123
          },
          {
           "lower": 2651.5336669921876,
           "timepoint": 40,
           "trajectory": "I_sol",
           "upper": 12228.510253906248
          },
          {
           "lower": 2661.067041015625,
           "timepoint": 40.099998474121094,
           "trajectory": "I_sol",
           "upper": 12322.446093749999
          },
          {
           "lower": 2670.6326904296875,
           "timepoint": 40.20000076293945,
           "trajectory": "I_sol",
           "upper": 12417.087988281248
          },
          {
           "lower": 2680.2336669921874,
           "timepoint": 40.29999923706055,
           "trajectory": "I_sol",
           "upper": 12512.432666015624
          },
          {
           "lower": 2689.8690673828123,
           "timepoint": 40.39999771118164,
           "trajectory": "I_sol",
           "upper": 12608.489013671873
          },
          {
           "lower": 2699.53935546875,
           "timepoint": 40.5,
           "trajectory": "I_sol",
           "upper": 12705.264941406249
          },
          {
           "lower": 2709.2433349609373,
           "timepoint": 40.599998474121094,
           "trajectory": "I_sol",
           "upper": 12802.758496093747
          },
          {
           "lower": 2718.9822021484374,
           "timepoint": 40.70000076293945,
           "trajectory": "I_sol",
           "upper": 12900.982470703124
          },
          {
           "lower": 2728.7556030273436,
           "timepoint": 40.79999923706055,
           "trajectory": "I_sol",
           "upper": 12999.933496093749
          },
          {
           "lower": 2738.5636474609373,
           "timepoint": 40.89999771118164,
           "trajectory": "I_sol",
           "upper": 13099.620898437497
          },
          {
           "lower": 2748.4070434570312,
           "timepoint": 41,
           "trajectory": "I_sol",
           "upper": 13200.071435546874
          },
          {
           "lower": 2758.285192871094,
           "timepoint": 41.099998474121094,
           "trajectory": "I_sol",
           "upper": 13301.250390624999
          },
          {
           "lower": 2768.1987426757814,
           "timepoint": 41.20000076293945,
           "trajectory": "I_sol",
           "upper": 13403.187695312497
          },
          {
           "lower": 2778.1473754882813,
           "timepoint": 41.29999923706055,
           "trajectory": "I_sol",
           "upper": 13505.876220703123
          },
          {
           "lower": 2788.131384277344,
           "timepoint": 41.39999771118164,
           "trajectory": "I_sol",
           "upper": 13609.328857421873
          },
          {
           "lower": 2798.151159667969,
           "timepoint": 41.5,
           "trajectory": "I_sol",
           "upper": 13713.560302734373
          },
          {
           "lower": 2808.202734375,
           "timepoint": 41.599998474121094,
           "trajectory": "I_sol",
           "upper": 13818.554931640623
          },
          {
           "lower": 2818.2935302734377,
           "timepoint": 41.70000076293945,
           "trajectory": "I_sol",
           "upper": 13924.332958984372
          },
          {
           "lower": 2828.419812011719,
           "timepoint": 41.79999923706055,
           "trajectory": "I_sol",
           "upper": 14030.891357421873
          },
          {
           "lower": 2838.5822631835936,
           "timepoint": 41.89999771118164,
           "trajectory": "I_sol",
           "upper": 14138.238671874999
          },
          {
           "lower": 2848.780798339844,
           "timepoint": 42,
           "trajectory": "I_sol",
           "upper": 14246.385205078122
          },
          {
           "lower": 2859.0156372070314,
           "timepoint": 42.099998474121094,
           "trajectory": "I_sol",
           "upper": 14355.328466796873
          },
          {
           "lower": 2869.287219238281,
           "timepoint": 42.20000076293945,
           "trajectory": "I_sol",
           "upper": 14465.081445312499
          },
          {
           "lower": 2879.5947509765624,
           "timepoint": 42.29999923706055,
           "trajectory": "I_sol",
           "upper": 14575.642529296872
          },
          {
           "lower": 2889.9389404296876,
           "timepoint": 42.39999771118164,
           "trajectory": "I_sol",
           "upper": 14687.019287109373
          },
          {
           "lower": 2900.3200073242188,
           "timepoint": 42.5,
           "trajectory": "I_sol",
           "upper": 14799.237939453124
          },
          {
           "lower": 2910.7379760742188,
           "timepoint": 42.599998474121094,
           "trajectory": "I_sol",
           "upper": 14912.269287109373
          },
          {
           "lower": 2921.19169921875,
           "timepoint": 42.70000076293945,
           "trajectory": "I_sol",
           "upper": 15026.139208984372
          },
          {
           "lower": 2931.6832885742188,
           "timepoint": 42.79999923706055,
           "trajectory": "I_sol",
           "upper": 15140.845166015622
          },
          {
           "lower": 2942.2124877929687,
           "timepoint": 42.89999771118164,
           "trajectory": "I_sol",
           "upper": 15256.397363281249
          },
          {
           "lower": 2952.7791381835937,
           "timepoint": 43,
           "trajectory": "I_sol",
           "upper": 15372.805029296873
          },
          {
           "lower": 2963.3830444335936,
           "timepoint": 43.099998474121094,
           "trajectory": "I_sol",
           "upper": 15490.058984374999
          },
          {
           "lower": 2974.024865722656,
           "timepoint": 43.20000076293945,
           "trajectory": "I_sol",
           "upper": 15608.185693359374
          },
          {
           "lower": 2984.704296875,
           "timepoint": 43.29999923706055,
           "trajectory": "I_sol",
           "upper": 15727.178027343747
          },
          {
           "lower": 2995.4212036132812,
           "timepoint": 43.39999771118164,
           "trajectory": "I_sol",
           "upper": 15847.042724609373
          },
          {
           "lower": 3006.177001953125,
           "timepoint": 43.5,
           "trajectory": "I_sol",
           "upper": 15967.795166015623
          },
          {
           "lower": 3016.970166015625,
           "timepoint": 43.599998474121094,
           "trajectory": "I_sol",
           "upper": 16089.429492187497
          },
          {
           "lower": 3027.8023071289062,
           "timepoint": 43.70000076293945,
           "trajectory": "I_sol",
           "upper": 16211.961523437498
          },
          {
           "lower": 3038.67216796875,
           "timepoint": 43.79999923706055,
           "trajectory": "I_sol",
           "upper": 16335.386523437497
          },
          {
           "lower": 3049.58056640625,
           "timepoint": 43.89999771118164,
           "trajectory": "I_sol",
           "upper": 16459.717431640624
          },
          {
           "lower": 3060.528210449219,
           "timepoint": 44,
           "trajectory": "I_sol",
           "upper": 16584.95942382812
          },
          {
           "lower": 3071.513134765625,
           "timepoint": 44.099998474121094,
           "trajectory": "I_sol",
           "upper": 16711.116308593748
          },
          {
           "lower": 3082.5383178710936,
           "timepoint": 44.20000076293945,
           "trajectory": "I_sol",
           "upper": 16838.203173828122
          },
          {
           "lower": 3093.602502441406,
           "timepoint": 44.29999923706055,
           "trajectory": "I_sol",
           "upper": 16966.213525390624
          },
          {
           "lower": 3104.7052001953125,
           "timepoint": 44.39999771118164,
           "trajectory": "I_sol",
           "upper": 17095.15844726562
          },
          {
           "lower": 3115.8482055664062,
           "timepoint": 44.5,
           "trajectory": "I_sol",
           "upper": 17225.045117187496
          },
          {
           "lower": 3127.0301025390627,
           "timepoint": 44.599998474121094,
           "trajectory": "I_sol",
           "upper": 17355.879492187498
          },
          {
           "lower": 3138.2520385742187,
           "timepoint": 44.70000076293945,
           "trajectory": "I_sol",
           "upper": 17487.67421875
          },
          {
           "lower": 3149.5132446289062,
           "timepoint": 44.79999923706055,
           "trajectory": "I_sol",
           "upper": 17620.421679687497
          },
          {
           "lower": 3160.814489746094,
           "timepoint": 44.89999771118164,
           "trajectory": "I_sol",
           "upper": 17754.14008789062
          },
          {
           "lower": 3172.155908203125,
           "timepoint": 45,
           "trajectory": "I_sol",
           "upper": 17888.835302734373
          },
          {
           "lower": 3183.5367919921873,
           "timepoint": 45.099998474121094,
           "trajectory": "I_sol",
           "upper": 18024.507519531246
          },
          {
           "lower": 3194.95869140625,
           "timepoint": 45.20000076293945,
           "trajectory": "I_sol",
           "upper": 18161.170410156246
          },
          {
           "lower": 3206.4206787109374,
           "timepoint": 45.29999923706055,
           "trajectory": "I_sol",
           "upper": 18298.819433593748
          },
          {
           "lower": 3217.923547363281,
           "timepoint": 45.39999771118164,
           "trajectory": "I_sol",
           "upper": 18437.471679687496
          },
          {
           "lower": 3229.4671630859375,
           "timepoint": 45.5,
           "trajectory": "I_sol",
           "upper": 18577.13759765625
          },
          {
           "lower": 3241.051062011719,
           "timepoint": 45.599998474121094,
           "trajectory": "I_sol",
           "upper": 18717.8099609375
          },
          {
           "lower": 3252.676708984375,
           "timepoint": 45.70000076293945,
           "trajectory": "I_sol",
           "upper": 18859.5052734375
          },
          {
           "lower": 3264.34296875,
           "timepoint": 45.79999923706055,
           "trajectory": "I_sol",
           "upper": 19002.224609374996
          },
          {
           "lower": 3276.050244140625,
           "timepoint": 45.89999771118164,
           "trajectory": "I_sol",
           "upper": 19145.940136718746
          },
          {
           "lower": 3287.799597167969,
           "timepoint": 46,
           "trajectory": "I_sol",
           "upper": 19290.730175781246
          },
          {
           "lower": 3299.58994140625,
           "timepoint": 46.099998474121094,
           "trajectory": "I_sol",
           "upper": 19436.559179687498
          },
          {
           "lower": 3311.4225830078126,
           "timepoint": 46.20000076293945,
           "trajectory": "I_sol",
           "upper": 19583.447363281248
          },
          {
           "lower": 3323.296350097656,
           "timepoint": 46.29999923706055,
           "trajectory": "I_sol",
           "upper": 19731.389453124997
          },
          {
           "lower": 3335.2121704101564,
           "timepoint": 46.39999771118164,
           "trajectory": "I_sol",
           "upper": 19880.396582031248
          },
          {
           "lower": 3347.1707763671875,
           "timepoint": 46.5,
           "trajectory": "I_sol",
           "upper": 20030.485156249997
          },
          {
           "lower": 3359.170947265625,
           "timepoint": 46.599998474121094,
           "trajectory": "I_sol",
           "upper": 20181.646777343747
          },
          {
           "lower": 3371.2138793945314,
           "timepoint": 46.70000076293945,
           "trajectory": "I_sol",
           "upper": 20333.899804687495
          },
          {
           "lower": 3383.2993774414062,
           "timepoint": 46.79999923706055,
           "trajectory": "I_sol",
           "upper": 20487.244921874997
          },
          {
           "lower": 3395.4273071289062,
           "timepoint": 46.89999771118164,
           "trajectory": "I_sol",
           "upper": 20641.686035156246
          },
          {
           "lower": 3407.5984130859374,
           "timepoint": 47,
           "trajectory": "I_sol",
           "upper": 20797.244140624996
          },
          {
           "lower": 3419.8120849609377,
           "timepoint": 47.099998474121094,
           "trajectory": "I_sol",
           "upper": 20953.915234374996
          },
          {
           "lower": 3432.0694946289063,
           "timepoint": 47.20000076293945,
           "trajectory": "I_sol",
           "upper": 21111.708496093746
          },
          {
           "lower": 3444.3695068359375,
           "timepoint": 47.29999923706055,
           "trajectory": "I_sol",
           "upper": 21270.652734374995
          },
          {
           "lower": 3456.71298828125,
           "timepoint": 47.39999771118164,
           "trajectory": "I_sol",
           "upper": 21430.712890624996
          },
          {
           "lower": 3469.1008056640626,
           "timepoint": 47.5,
           "trajectory": "I_sol",
           "upper": 21591.922363281246
          },
          {
           "lower": 3481.531604003906,
           "timepoint": 47.599998474121094,
           "trajectory": "I_sol",
           "upper": 21754.278710937495
          },
          {
           "lower": 3494.0070678710936,
           "timepoint": 47.70000076293945,
           "trajectory": "I_sol",
           "upper": 21917.797363281246
          },
          {
           "lower": 3506.5258666992186,
           "timepoint": 47.79999923706055,
           "trajectory": "I_sol",
           "upper": 22082.479199218746
          },
          {
           "lower": 3519.0854614257814,
           "timepoint": 47.89999771118164,
           "trajectory": "I_sol",
           "upper": 22248.332421874995
          },
          {
           "lower": 3531.69267578125,
           "timepoint": 48,
           "trajectory": "I_sol",
           "upper": 22415.374609374994
          },
          {
           "lower": 3544.344091796875,
           "timepoint": 48.099998474121094,
           "trajectory": "I_sol",
           "upper": 22583.596191406246
          },
          {
           "lower": 3557.0401245117187,
           "timepoint": 48.19999694824219,
           "trajectory": "I_sol",
           "upper": 22753.016503906245
          },
          {
           "lower": 3569.781530761719,
           "timepoint": 48.29999923706055,
           "trajectory": "I_sol",
           "upper": 22923.645703124996
          },
          {
           "lower": 3582.5676879882812,
           "timepoint": 48.400001525878906,
           "trajectory": "I_sol",
           "upper": 23095.484863281246
          },
          {
           "lower": 3595.3982421875,
           "timepoint": 48.5,
           "trajectory": "I_sol",
           "upper": 23268.534472656247
          },
          {
           "lower": 3608.274169921875,
           "timepoint": 48.599998474121094,
           "trajectory": "I_sol",
           "upper": 23442.795996093744
          },
          {
           "lower": 3621.1956420898437,
           "timepoint": 48.69999694824219,
           "trajectory": "I_sol",
           "upper": 23618.308789062496
          },
          {
           "lower": 3634.1630615234376,
           "timepoint": 48.79999923706055,
           "trajectory": "I_sol",
           "upper": 23795.062792968747
          },
          {
           "lower": 3647.1762084960938,
           "timepoint": 48.900001525878906,
           "trajectory": "I_sol",
           "upper": 23973.067285156245
          },
          {
           "lower": 3660.231823730469,
           "timepoint": 49,
           "trajectory": "I_sol",
           "upper": 24152.320117187497
          },
          {
           "lower": 3673.335803222656,
           "timepoint": 49.099998474121094,
           "trajectory": "I_sol",
           "upper": 24332.836230468747
          },
          {
           "lower": 3686.4858154296876,
           "timepoint": 49.19999694824219,
           "trajectory": "I_sol",
           "upper": 24514.623632812494
          },
          {
           "lower": 3699.6826171875,
           "timepoint": 49.29999923706055,
           "trajectory": "I_sol",
           "upper": 24697.697070312497
          },
          {
           "lower": 3712.92607421875,
           "timepoint": 49.400001525878906,
           "trajectory": "I_sol",
           "upper": 24882.058300781246
          },
          {
           "lower": 3726.2155639648436,
           "timepoint": 49.5,
           "trajectory": "I_sol",
           "upper": 25067.706835937497
          },
          {
           "lower": 3739.5515747070312,
           "timepoint": 49.599998474121094,
           "trajectory": "I_sol",
           "upper": 25254.657031249997
          },
          {
           "lower": 3752.9342407226563,
           "timepoint": 49.69999694824219,
           "trajectory": "I_sol",
           "upper": 25442.919042968744
          },
          {
           "lower": 3766.36484375,
           "timepoint": 49.79999923706055,
           "trajectory": "I_sol",
           "upper": 25632.506542968746
          },
          {
           "lower": 3779.8424560546873,
           "timepoint": 49.900001525878906,
           "trajectory": "I_sol",
           "upper": 25823.421679687497
          },
          {
           "lower": 3793.366809082031,
           "timepoint": 50,
           "trajectory": "I_sol",
           "upper": 26015.660546874995
          },
          {
           "lower": 3806.9392333984374,
           "timepoint": 50.099998474121094,
           "trajectory": "I_sol",
           "upper": 26209.259863281244
          },
          {
           "lower": 3820.5586181640624,
           "timepoint": 50.19999694824219,
           "trajectory": "I_sol",
           "upper": 26404.195410156244
          },
          {
           "lower": 3834.2262573242188,
           "timepoint": 50.29999923706055,
           "trajectory": "I_sol",
           "upper": 26600.494335937496
          },
          {
           "lower": 3847.942492675781,
           "timepoint": 50.400001525878906,
           "trajectory": "I_sol",
           "upper": 26798.161230468744
          },
          {
           "lower": 3861.7068115234374,
           "timepoint": 50.5,
           "trajectory": "I_sol",
           "upper": 26997.196289062496
          },
          {
           "lower": 3875.5187866210936,
           "timepoint": 50.599998474121094,
           "trajectory": "I_sol",
           "upper": 27197.610546874996
          },
          {
           "lower": 3889.3789672851562,
           "timepoint": 50.69999694824219,
           "trajectory": "I_sol",
           "upper": 27399.417480468746
          },
          {
           "lower": 3903.2885009765623,
           "timepoint": 50.79999923706055,
           "trajectory": "I_sol",
           "upper": 27602.632226562495
          },
          {
           "lower": 3917.2464599609375,
           "timepoint": 50.900001525878906,
           "trajectory": "I_sol",
           "upper": 27807.251757812493
          },
          {
           "lower": 3931.252795410156,
           "timepoint": 51,
           "trajectory": "I_sol",
           "upper": 28013.280859374994
          },
          {
           "lower": 3945.3081298828124,
           "timepoint": 51.099998474121094,
           "trajectory": "I_sol",
           "upper": 28220.733593749996
          },
          {
           "lower": 3959.412731933594,
           "timepoint": 51.19999694824219,
           "trajectory": "I_sol",
           "upper": 28429.617773437494
          },
          {
           "lower": 3973.56748046875,
           "timepoint": 51.29999923706055,
           "trajectory": "I_sol",
           "upper": 28639.957128906244
          },
          {
           "lower": 3987.7823486328125,
           "timepoint": 51.400001525878906,
           "trajectory": "I_sol",
           "upper": 28851.738671874995
          },
          {
           "lower": 4002.036901855469,
           "timepoint": 51.5,
           "trajectory": "I_sol",
           "upper": 29064.968359374994
          },
          {
           "lower": 4016.341687011719,
           "timepoint": 51.599998474121094,
           "trajectory": "I_sol",
           "upper": 29279.662207031244
          },
          {
           "lower": 4030.6962280273438,
           "timepoint": 51.69999694824219,
           "trajectory": "I_sol",
           "upper": 29495.830664062494
          },
          {
           "lower": 4045.1020629882814,
           "timepoint": 51.79999923706055,
           "trajectory": "I_sol",
           "upper": 29713.488183593745
          },
          {
           "lower": 4059.5582275390625,
           "timepoint": 51.900001525878906,
           "trajectory": "I_sol",
           "upper": 29932.637207031243
          },
          {
           "lower": 4074.064318847656,
           "timepoint": 52,
           "trajectory": "I_sol",
           "upper": 30153.275097656246
          },
          {
           "lower": 4088.6213500976564,
           "timepoint": 52.099998474121094,
           "trajectory": "I_sol",
           "upper": 30375.419433593743
          },
          {
           "lower": 4103.229064941406,
           "timepoint": 52.19999694824219,
           "trajectory": "I_sol",
           "upper": 30599.083007812493
          },
          {
           "lower": 4117.889050292969,
           "timepoint": 52.29999923706055,
           "trajectory": "I_sol",
           "upper": 30824.277929687494
          },
          {
           "lower": 4132.600024414062,
           "timepoint": 52.400001525878906,
           "trajectory": "I_sol",
           "upper": 31051.005078124996
          },
          {
           "lower": 4147.361987304687,
           "timepoint": 52.5,
           "trajectory": "I_sol",
           "upper": 31279.262304687494
          },
          {
           "lower": 4162.176086425781,
           "timepoint": 52.599998474121094,
           "trajectory": "I_sol",
           "upper": 31509.070410156244
          },
          {
           "lower": 4177.041174316406,
           "timepoint": 52.69999694824219,
           "trajectory": "I_sol",
           "upper": 31740.428906249996
          },
          {
           "lower": 4191.959289550781,
           "timepoint": 52.79999923706055,
           "trajectory": "I_sol",
           "upper": 31973.371191406244
          },
          {
           "lower": 4206.929895019532,
           "timepoint": 52.900001525878906,
           "trajectory": "I_sol",
           "upper": 32207.883496093746
          },
          {
           "lower": 4221.951623535157,
           "timepoint": 53,
           "trajectory": "I_sol",
           "upper": 32444.001855468745
          },
          {
           "lower": 4237.026550292969,
           "timepoint": 53.099998474121094,
           "trajectory": "I_sol",
           "upper": 32681.689062499994
          },
          {
           "lower": 4252.1541015625,
           "timepoint": 53.19999694824219,
           "trajectory": "I_sol",
           "upper": 32920.978710937496
          },
          {
           "lower": 4267.334985351563,
           "timepoint": 53.29999923706055,
           "trajectory": "I_sol",
           "upper": 33161.88603515625
          },
          {
           "lower": 4282.568762207031,
           "timepoint": 53.400001525878906,
           "trajectory": "I_sol",
           "upper": 33404.41826171875
          },
          {
           "lower": 4297.855029296875,
           "timepoint": 53.5,
           "trajectory": "I_sol",
           "upper": 33648.565136718746
          },
          {
           "lower": 4313.193444824219,
           "timepoint": 53.599998474121094,
           "trajectory": "I_sol",
           "upper": 33894.354296875
          },
          {
           "lower": 4328.586560058594,
           "timepoint": 53.69999694824219,
           "trajectory": "I_sol",
           "upper": 34141.78408203124
          },
          {
           "lower": 4344.034240722656,
           "timepoint": 53.79999923706055,
           "trajectory": "I_sol",
           "upper": 34390.88476562499
          },
          {
           "lower": 4359.535656738281,
           "timepoint": 53.900001525878906,
           "trajectory": "I_sol",
           "upper": 34641.64599609374
          },
          {
           "lower": 4375.091198730469,
           "timepoint": 54,
           "trajectory": "I_sol",
           "upper": 34894.07080078124
          },
          {
           "lower": 4390.700207519531,
           "timepoint": 54.099998474121094,
           "trajectory": "I_sol",
           "upper": 35148.1443359375
          },
          {
           "lower": 4406.36396484375,
           "timepoint": 54.19999694824219,
           "trajectory": "I_sol",
           "upper": 35403.88232421874
          },
          {
           "lower": 4422.082958984375,
           "timepoint": 54.29999923706055,
           "trajectory": "I_sol",
           "upper": 35661.369335937496
          },
          {
           "lower": 4437.857141113282,
           "timepoint": 54.400001525878906,
           "trajectory": "I_sol",
           "upper": 35920.56240234374
          },
          {
           "lower": 4453.685363769531,
           "timepoint": 54.5,
           "trajectory": "I_sol",
           "upper": 36181.45888671874
          },
          {
           "lower": 4469.568737792969,
           "timepoint": 54.599998474121094,
           "trajectory": "I_sol",
           "upper": 36444.078320312496
          },
          {
           "lower": 4485.507385253906,
           "timepoint": 54.69999694824219,
           "trajectory": "I_sol",
           "upper": 36708.433789062496
          },
          {
           "lower": 4501.502685546875,
           "timepoint": 54.79999923706055,
           "trajectory": "I_sol",
           "upper": 36974.53945312499
          },
          {
           "lower": 4517.55322265625,
           "timepoint": 54.900001525878906,
           "trajectory": "I_sol",
           "upper": 37242.39238281249
          },
          {
           "lower": 4533.6593017578125,
           "timepoint": 55,
           "trajectory": "I_sol",
           "upper": 37511.997265624996
          },
          {
           "lower": 4549.821325683593,
           "timepoint": 55.099998474121094,
           "trajectory": "I_sol",
           "upper": 37783.36718749999
          },
          {
           "lower": 4566.039819335938,
           "timepoint": 55.19999694824219,
           "trajectory": "I_sol",
           "upper": 38056.51249999999
          },
          {
           "lower": 4582.315014648438,
           "timepoint": 55.29999923706055,
           "trajectory": "I_sol",
           "upper": 38331.45488281249
          },
          {
           "lower": 4598.6473388671875,
           "timepoint": 55.400001525878906,
           "trajectory": "I_sol",
           "upper": 38608.20800781249
          },
          {
           "lower": 4615.035656738281,
           "timepoint": 55.5,
           "trajectory": "I_sol",
           "upper": 38886.735546874996
          },
          {
           "lower": 4631.481018066406,
           "timepoint": 55.599998474121094,
           "trajectory": "I_sol",
           "upper": 39167.074414062496
          },
          {
           "lower": 4647.979089355469,
           "timepoint": 55.69999694824219,
           "trajectory": "I_sol",
           "upper": 39449.24121093749
          },
          {
           "lower": 4664.5431640625,
           "timepoint": 55.79999923706055,
           "trajectory": "I_sol",
           "upper": 39733.24062499999
          },
          {
           "lower": 4681.16103515625,
           "timepoint": 55.900001525878906,
           "trajectory": "I_sol",
           "upper": 40019.08222656249
          },
          {
           "lower": 4697.836218261718,
           "timepoint": 56,
           "trajectory": "I_sol",
           "upper": 40306.75859374999
          },
          {
           "lower": 4714.569470214844,
           "timepoint": 56.099998474121094,
           "trajectory": "I_sol",
           "upper": 40596.29101562499
          },
          {
           "lower": 4731.360607910156,
           "timepoint": 56.19999694824219,
           "trajectory": "I_sol",
           "upper": 40887.69160156249
          },
          {
           "lower": 4748.211047363281,
           "timepoint": 56.29999923706055,
           "trajectory": "I_sol",
           "upper": 41180.97167968749
          },
          {
           "lower": 4765.119689941406,
           "timepoint": 56.400001525878906,
           "trajectory": "I_sol",
           "upper": 41476.13203124999
          },
          {
           "lower": 4782.086572265625,
           "timepoint": 56.5,
           "trajectory": "I_sol",
           "upper": 41773.17578124999
          },
          {
           "lower": 4799.111962890625,
           "timepoint": 56.599998474121094,
           "trajectory": "I_sol",
           "upper": 42072.11757812499
          },
          {
           "lower": 4816.196875,
           "timepoint": 56.69999694824219,
           "trajectory": "I_sol",
           "upper": 42372.94550781249
          },
          {
           "lower": 4833.341625976563,
           "timepoint": 56.79999923706055,
           "trajectory": "I_sol",
           "upper": 42675.74726562499
          },
          {
           "lower": 4850.545727539063,
           "timepoint": 56.900001525878906,
           "trajectory": "I_sol",
           "upper": 42980.44941406249
          },
          {
           "lower": 4867.809350585938,
           "timepoint": 57,
           "trajectory": "I_sol",
           "upper": 43287.07656249999
          },
          {
           "lower": 4885.132495117187,
           "timepoint": 57.099998474121094,
           "trajectory": "I_sol",
           "upper": 43595.64472656249
          },
          {
           "lower": 4902.515209960938,
           "timepoint": 57.19999694824219,
           "trajectory": "I_sol",
           "upper": 43906.161718749994
          },
          {
           "lower": 4919.959399414062,
           "timepoint": 57.29999923706055,
           "trajectory": "I_sol",
           "upper": 44218.658789062494
          },
          {
           "lower": 4937.463110351562,
           "timepoint": 57.400001525878906,
           "trajectory": "I_sol",
           "upper": 44533.12285156249
          },
          {
           "lower": 4955.027807617187,
           "timepoint": 57.5,
           "trajectory": "I_sol",
           "upper": 44849.55273437499
          },
          {
           "lower": 4972.652783203125,
           "timepoint": 57.599998474121094,
           "trajectory": "I_sol",
           "upper": 45167.967382812494
          },
          {
           "lower": 4990.339184570313,
           "timepoint": 57.69999694824219,
           "trajectory": "I_sol",
           "upper": 45488.37988281249
          },
          {
           "lower": 5008.0867919921875,
           "timepoint": 57.79999923706055,
           "trajectory": "I_sol",
           "upper": 45810.81367187499
          },
          {
           "lower": 5025.896044921875,
           "timepoint": 57.900001525878906,
           "trajectory": "I_sol",
           "upper": 46135.256445312494
          },
          {
           "lower": 5043.772265625,
           "timepoint": 58,
           "trajectory": "I_sol",
           "upper": 46461.67968749999
          },
          {
           "lower": 5061.704809570312,
           "timepoint": 58.099998474121094,
           "trajectory": "I_sol",
           "upper": 46790.14863281249
          },
          {
           "lower": 5079.699975585938,
           "timepoint": 58.19999694824219,
           "trajectory": "I_sol",
           "upper": 47120.66191406249
          },
          {
           "lower": 5097.755346679687,
           "timepoint": 58.29999923706055,
           "trajectory": "I_sol",
           "upper": 47453.23066406249
          },
          {
           "lower": 5115.87548828125,
           "timepoint": 58.400001525878906,
           "trajectory": "I_sol",
           "upper": 47787.84453124999
          },
          {
           "lower": 5134.0574951171875,
           "timepoint": 58.5,
           "trajectory": "I_sol",
           "upper": 48124.51347656249
          },
          {
           "lower": 5152.301904296875,
           "timepoint": 58.599998474121094,
           "trajectory": "I_sol",
           "upper": 48463.24531249999
          },
          {
           "lower": 5170.60986328125,
           "timepoint": 58.69999694824219,
           "trajectory": "I_sol",
           "upper": 48804.06132812499
          },
          {
           "lower": 5188.981762695313,
           "timepoint": 58.79999923706055,
           "trajectory": "I_sol",
           "upper": 49146.96542968749
          },
          {
           "lower": 5207.417041015625,
           "timepoint": 58.900001525878906,
           "trajectory": "I_sol",
           "upper": 49491.96757812499
          },
          {
           "lower": 5225.915112304688,
           "timepoint": 59,
           "trajectory": "I_sol",
           "upper": 49839.06171874999
          },
          {
           "lower": 5244.477709960937,
           "timepoint": 59.099998474121094,
           "trajectory": "I_sol",
           "upper": 50188.25996093749
          },
          {
           "lower": 5263.103857421875,
           "timepoint": 59.19999694824219,
           "trajectory": "I_sol",
           "upper": 50539.57578124999
          },
          {
           "lower": 5281.794653320312,
           "timepoint": 59.29999923706055,
           "trajectory": "I_sol",
           "upper": 50893.15546874999
          },
          {
           "lower": 5300.5504150390625,
           "timepoint": 59.400001525878906,
           "trajectory": "I_sol",
           "upper": 51248.76425781249
          },
          {
           "lower": 5319.370263671875,
           "timepoint": 59.5,
           "trajectory": "I_sol",
           "upper": 51606.50410156249
          },
          {
           "lower": 5338.2544921875,
           "timepoint": 59.599998474121094,
           "trajectory": "I_sol",
           "upper": 51966.393554687485
          },
          {
           "lower": 5357.204174804688,
           "timepoint": 59.69999694824219,
           "trajectory": "I_sol",
           "upper": 52328.44570312499
          },
          {
           "lower": 5376.22001953125,
           "timepoint": 59.79999923706055,
           "trajectory": "I_sol",
           "upper": 52692.67519531249
          },
          {
           "lower": 5395.30078125,
           "timepoint": 59.900001525878906,
           "trajectory": "I_sol",
           "upper": 53059.08339843749
          },
          {
           "lower": 5414.447436523437,
           "timepoint": 60,
           "trajectory": "I_sol",
           "upper": 53427.65859374999
          },
          {
           "lower": 5433.6595458984375,
           "timepoint": 60.099998474121094,
           "trajectory": "I_sol",
           "upper": 53798.42460937499
          },
          {
           "lower": 5452.937451171875,
           "timepoint": 60.19999694824219,
           "trajectory": "I_sol",
           "upper": 54171.38886718749
          },
          {
           "lower": 5472.281665039062,
           "timepoint": 60.29999923706055,
           "trajectory": "I_sol",
           "upper": 54546.571289062485
          },
          {
           "lower": 5491.69375,
           "timepoint": 60.400001525878906,
           "trajectory": "I_sol",
           "upper": 54923.96796874999
          },
          {
           "lower": 5511.1710205078125,
           "timepoint": 60.5,
           "trajectory": "I_sol",
           "upper": 55303.54062499999
          },
          {
           "lower": 5530.7144775390625,
           "timepoint": 60.599998474121094,
           "trajectory": "I_sol",
           "upper": 55685.38007812499
          },
          {
           "lower": 5550.326586914062,
           "timepoint": 60.69999694824219,
           "trajectory": "I_sol",
           "upper": 56069.43886718749
          },
          {
           "lower": 5570.006176757813,
           "timepoint": 60.79999923706055,
           "trajectory": "I_sol",
           "upper": 56455.75312499999
          },
          {
           "lower": 5589.7537841796875,
           "timepoint": 60.900001525878906,
           "trajectory": "I_sol",
           "upper": 56844.316406249985
          },
          {
           "lower": 5609.5684814453125,
           "timepoint": 61,
           "trajectory": "I_sol",
           "upper": 57235.11699218749
          },
          {
           "lower": 5629.451416015625,
           "timepoint": 61.099998474121094,
           "trajectory": "I_sol",
           "upper": 57628.18515624999
          },
          {
           "lower": 5649.402758789062,
           "timepoint": 61.19999694824219,
           "trajectory": "I_sol",
           "upper": 58023.521484374985
          },
          {
           "lower": 5669.423095703125,
           "timepoint": 61.29999923706055,
           "trajectory": "I_sol",
           "upper": 58421.14414062499
          },
          {
           "lower": 5689.512109375,
           "timepoint": 61.400001525878906,
           "trajectory": "I_sol",
           "upper": 58821.05527343749
          },
          {
           "lower": 5709.6693115234375,
           "timepoint": 61.5,
           "trajectory": "I_sol",
           "upper": 59223.23886718749
          },
          {
           "lower": 5729.895825195313,
           "timepoint": 61.599998474121094,
           "trajectory": "I_sol",
           "upper": 59627.71835937499
          },
          {
           "lower": 5750.191845703125,
           "timepoint": 61.69999694824219,
           "trajectory": "I_sol",
           "upper": 60034.498046874985
          },
          {
           "lower": 5770.558276367187,
           "timepoint": 61.79999923706055,
           "trajectory": "I_sol",
           "upper": 60443.60527343749
          },
          {
           "lower": 5790.994580078125,
           "timepoint": 61.900001525878906,
           "trajectory": "I_sol",
           "upper": 60855.038476562484
          },
          {
           "lower": 5811.499780273438,
           "timepoint": 62,
           "trajectory": "I_sol",
           "upper": 61268.766601562485
          },
          {
           "lower": 5832.0755615234375,
           "timepoint": 62.099998474121094,
           "trajectory": "I_sol",
           "upper": 61684.82187499999
          },
          {
           "lower": 5852.721923828125,
           "timepoint": 62.19999694824219,
           "trajectory": "I_sol",
           "upper": 62103.21640624999
          },
          {
           "lower": 5873.4395751953125,
           "timepoint": 62.29999923706055,
           "trajectory": "I_sol",
           "upper": 62523.963281249984
          },
          {
           "lower": 5894.228735351562,
           "timepoint": 62.400001525878906,
           "trajectory": "I_sol",
           "upper": 62947.05722656249
          },
          {
           "lower": 5915.085180664062,
           "timepoint": 62.5,
           "trajectory": "I_sol",
           "upper": 63372.48789062499
          },
          {
           "lower": 5936.01484375,
           "timepoint": 62.599998474121094,
           "trajectory": "I_sol",
           "upper": 63800.278710937484
          },
          {
           "lower": 5957.0167236328125,
           "timepoint": 62.69999694824219,
           "trajectory": "I_sol",
           "upper": 64230.433984374984
          },
          {
           "lower": 5978.091040039062,
           "timepoint": 62.79999923706055,
           "trajectory": "I_sol",
           "upper": 64662.98320312498
          },
          {
           "lower": 5999.2376708984375,
           "timepoint": 62.900001525878906,
           "trajectory": "I_sol",
           "upper": 65097.843749999985
          },
          {
           "lower": 6020.44990234375,
           "timepoint": 63,
           "trajectory": "I_sol",
           "upper": 65535.115234374985
          },
          {
           "lower": 6041.739404296875,
           "timepoint": 63.099998474121094,
           "trajectory": "I_sol",
           "upper": 65974.76406249999
          },
          {
           "lower": 6063.102099609375,
           "timepoint": 63.19999694824219,
           "trajectory": "I_sol",
           "upper": 66416.80273437499
          },
          {
           "lower": 6084.537939453125,
           "timepoint": 63.29999923706055,
           "trajectory": "I_sol",
           "upper": 66861.24843749999
          },
          {
           "lower": 6106.047192382813,
           "timepoint": 63.400001525878906,
           "trajectory": "I_sol",
           "upper": 67308.10292968749
          },
          {
           "lower": 6127.628393554687,
           "timepoint": 63.5,
           "trajectory": "I_sol",
           "upper": 67757.34707031249
          },
          {
           "lower": 6149.283447265625,
           "timepoint": 63.599998474121094,
           "trajectory": "I_sol",
           "upper": 68209.00273437498
          },
          {
           "lower": 6171.01240234375,
           "timepoint": 63.69999694824219,
           "trajectory": "I_sol",
           "upper": 68663.06894531248
          },
          {
           "lower": 6192.816186523438,
           "timepoint": 63.79999923706055,
           "trajectory": "I_sol",
           "upper": 69119.56484374999
          },
          {
           "lower": 6214.693994140625,
           "timepoint": 63.900001525878906,
           "trajectory": "I_sol",
           "upper": 69578.49726562499
          },
          {
           "lower": 6236.645922851562,
           "timepoint": 64,
           "trajectory": "I_sol",
           "upper": 70039.75175781248
          },
          {
           "lower": 6258.67197265625,
           "timepoint": 64.0999984741211,
           "trajectory": "I_sol",
           "upper": 70503.49960937498
          },
          {
           "lower": 6280.773291015625,
           "timepoint": 64.19999694824219,
           "trajectory": "I_sol",
           "upper": 70969.68847656249
          },
          {
           "lower": 6302.951025390625,
           "timepoint": 64.30000305175781,
           "trajectory": "I_sol",
           "upper": 71438.28554687499
          },
          {
           "lower": 6325.202661132813,
           "timepoint": 64.4000015258789,
           "trajectory": "I_sol",
           "upper": 71909.33027343749
          },
          {
           "lower": 6347.529736328125,
           "timepoint": 64.5,
           "trajectory": "I_sol",
           "upper": 72382.81523437498
          },
          {
           "lower": 6369.932568359375,
           "timepoint": 64.5999984741211,
           "trajectory": "I_sol",
           "upper": 72858.74902343749
          },
          {
           "lower": 6392.421704101563,
           "timepoint": 64.69999694824219,
           "trajectory": "I_sol",
           "upper": 73337.13339843748
          },
          {
           "lower": 6414.979931640625,
           "timepoint": 64.80000305175781,
           "trajectory": "I_sol",
           "upper": 73817.99882812498
          },
          {
           "lower": 6437.612719726562,
           "timepoint": 64.9000015258789,
           "trajectory": "I_sol",
           "upper": 74301.27929687499
          },
          {
           "lower": 6460.32333984375,
           "timepoint": 65,
           "trajectory": "I_sol",
           "upper": 74787.02343749999
          },
          {
           "lower": 6483.11015625,
           "timepoint": 65.0999984741211,
           "trajectory": "I_sol",
           "upper": 75275.22343749998
          },
          {
           "lower": 6505.97431640625,
           "timepoint": 65.19999694824219,
           "trajectory": "I_sol",
           "upper": 75765.93710937498
          },
          {
           "lower": 6528.92099609375,
           "timepoint": 65.30000305175781,
           "trajectory": "I_sol",
           "upper": 76259.10703124998
          },
          {
           "lower": 6551.941137695312,
           "timepoint": 65.4000015258789,
           "trajectory": "I_sol",
           "upper": 76754.69726562499
          },
          {
           "lower": 6575.039379882813,
           "timepoint": 65.5,
           "trajectory": "I_sol",
           "upper": 77252.76523437498
          },
          {
           "lower": 6598.215893554688,
           "timepoint": 65.5999984741211,
           "trajectory": "I_sol",
           "upper": 77753.30664062499
          },
          {
           "lower": 6621.470239257813,
           "timepoint": 65.69999694824219,
           "trajectory": "I_sol",
           "upper": 78256.31171874999
          },
          {
           "lower": 6644.8062744140625,
           "timepoint": 65.80000305175781,
           "trajectory": "I_sol",
           "upper": 78761.83007812499
          },
          {
           "lower": 6668.218676757812,
           "timepoint": 65.9000015258789,
           "trajectory": "I_sol",
           "upper": 79269.77851562499
          },
          {
           "lower": 6691.710546875,
           "timepoint": 66,
           "trajectory": "I_sol",
           "upper": 79780.19687499998
          },
          {
           "lower": 6715.281884765625,
           "timepoint": 66.0999984741211,
           "trajectory": "I_sol",
           "upper": 80293.09218749998
          },
          {
           "lower": 6738.9327392578125,
           "timepoint": 66.19999694824219,
           "trajectory": "I_sol",
           "upper": 80808.45664062498
          },
          {
           "lower": 6762.6658935546875,
           "timepoint": 66.30000305175781,
           "trajectory": "I_sol",
           "upper": 81326.38437499998
          },
          {
           "lower": 6786.47666015625,
           "timepoint": 66.4000015258789,
           "trajectory": "I_sol",
           "upper": 81846.71132812498
          },
          {
           "lower": 6810.36875,
           "timepoint": 66.5,
           "trajectory": "I_sol",
           "upper": 82369.51796874998
          },
          {
           "lower": 6834.341723632812,
           "timepoint": 66.5999984741211,
           "trajectory": "I_sol",
           "upper": 82894.80507812498
          },
          {
           "lower": 6858.3951416015625,
           "timepoint": 66.69999694824219,
           "trajectory": "I_sol",
           "upper": 83422.56328124998
          },
          {
           "lower": 6882.5311279296875,
           "timepoint": 66.80000305175781,
           "trajectory": "I_sol",
           "upper": 83952.76093749999
          },
          {
           "lower": 6906.7481689453125,
           "timepoint": 66.9000015258789,
           "trajectory": "I_sol",
           "upper": 84485.45390624998
          },
          {
           "lower": 6931.045483398438,
           "timepoint": 67,
           "trajectory": "I_sol",
           "upper": 85020.62656249998
          },
          {
           "lower": 6955.4251708984375,
           "timepoint": 67.0999984741211,
           "trajectory": "I_sol",
           "upper": 85558.25820312498
          },
          {
           "lower": 6979.88681640625,
           "timepoint": 67.19999694824219,
           "trajectory": "I_sol",
           "upper": 86098.36874999998
          },
          {
           "lower": 7004.433056640625,
           "timepoint": 67.30000305175781,
           "trajectory": "I_sol",
           "upper": 86640.98593749998
          },
          {
           "lower": 7029.0601806640625,
           "timepoint": 67.4000015258789,
           "trajectory": "I_sol",
           "upper": 87186.05234374998
          },
          {
           "lower": 7053.769775390625,
           "timepoint": 67.5,
           "trajectory": "I_sol",
           "upper": 87733.56679687498
          },
          {
           "lower": 7078.565234375,
           "timepoint": 67.5999984741211,
           "trajectory": "I_sol",
           "upper": 88283.52890624998
          },
          {
           "lower": 7103.44208984375,
           "timepoint": 67.69999694824219,
           "trajectory": "I_sol",
           "upper": 88835.95468749998
          },
          {
           "lower": 7128.404516601562,
           "timepoint": 67.80000305175781,
           "trajectory": "I_sol",
           "upper": 89390.87499999999
          },
          {
           "lower": 7153.448974609375,
           "timepoint": 67.9000015258789,
           "trajectory": "I_sol",
           "upper": 89948.21718749998
          },
          {
           "lower": 7178.577856445312,
           "timepoint": 68,
           "trajectory": "I_sol",
           "upper": 90507.95742187498
          },
          {
           "lower": 7203.790625,
           "timepoint": 68.0999984741211,
           "trajectory": "I_sol",
           "upper": 91070.17382812499
          },
          {
           "lower": 7229.08896484375,
           "timepoint": 68.19999694824219,
           "trajectory": "I_sol",
           "upper": 91634.82421874999
          },
          {
           "lower": 7254.473852539062,
           "timepoint": 68.30000305175781,
           "trajectory": "I_sol",
           "upper": 92201.95312499999
          },
          {
           "lower": 7279.94130859375,
           "timepoint": 68.4000015258789,
           "trajectory": "I_sol",
           "upper": 92771.47109374998
          },
          {
           "lower": 7305.494946289063,
           "timepoint": 68.5,
           "trajectory": "I_sol",
           "upper": 93343.40507812498
          },
          {
           "lower": 7331.1341552734375,
           "timepoint": 68.5999984741211,
           "trajectory": "I_sol",
           "upper": 93918.03203124998
          },
          {
           "lower": 7356.855078125,
           "timepoint": 68.69999694824219,
           "trajectory": "I_sol",
           "upper": 94494.86445312497
          },
          {
           "lower": 7382.6673828125,
           "timepoint": 68.80000305175781,
           "trajectory": "I_sol",
           "upper": 95074.15976562498
          },
          {
           "lower": 7408.564990234375,
           "timepoint": 68.9000015258789,
           "trajectory": "I_sol",
           "upper": 95655.81406249998
          },
          {
           "lower": 7434.548876953125,
           "timepoint": 69,
           "trajectory": "I_sol",
           "upper": 96239.87929687498
          },
          {
           "lower": 7460.620190429688,
           "timepoint": 69.0999984741211,
           "trajectory": "I_sol",
           "upper": 96826.35117187498
          },
          {
           "lower": 7486.778051757812,
           "timepoint": 69.19999694824219,
           "trajectory": "I_sol",
           "upper": 97415.20117187497
          },
          {
           "lower": 7513.025463867188,
           "timepoint": 69.30000305175781,
           "trajectory": "I_sol",
           "upper": 98006.39960937497
          },
          {
           "lower": 7539.358618164062,
           "timepoint": 69.4000015258789,
           "trajectory": "I_sol",
           "upper": 98600.00039062498
          },
          {
           "lower": 7565.7799072265625,
           "timepoint": 69.5,
           "trajectory": "I_sol",
           "upper": 99195.95859374998
          },
          {
           "lower": 7592.28916015625,
           "timepoint": 69.5999984741211,
           "trajectory": "I_sol",
           "upper": 99794.28281249998
          },
          {
           "lower": 7618.886279296875,
           "timepoint": 69.69999694824219,
           "trajectory": "I_sol",
           "upper": 100395.15351562497
          },
          {
           "lower": 7645.575610351562,
           "timepoint": 69.80000305175781,
           "trajectory": "I_sol",
           "upper": 100998.26249999998
          },
          {
           "lower": 7672.3603515625,
           "timepoint": 69.9000015258789,
           "trajectory": "I_sol",
           "upper": 101603.66640624998
          },
          {
           "lower": 7699.2267578125,
           "timepoint": 70,
           "trajectory": "I_sol",
           "upper": 102211.40703124998
          },
          {
           "lower": 7726.1820068359375,
           "timepoint": 70.0999984741211,
           "trajectory": "I_sol",
           "upper": 102821.46015624997
          },
          {
           "lower": 7753.227075195313,
           "timepoint": 70.19999694824219,
           "trajectory": "I_sol",
           "upper": 103433.83789062497
          },
          {
           "lower": 7780.364526367188,
           "timepoint": 70.30000305175781,
           "trajectory": "I_sol",
           "upper": 104048.55742187498
          },
          {
           "lower": 7807.590380859375,
           "timepoint": 70.4000015258789,
           "trajectory": "I_sol",
           "upper": 104665.58437499998
          },
          {
           "lower": 7834.905786132813,
           "timepoint": 70.5,
           "trajectory": "I_sol",
           "upper": 105284.85820312498
          },
          {
           "lower": 7862.313037109375,
           "timepoint": 70.5999984741211,
           "trajectory": "I_sol",
           "upper": 105906.40664062498
          },
          {
           "lower": 7889.81064453125,
           "timepoint": 70.69999694824219,
           "trajectory": "I_sol",
           "upper": 106530.22265624997
          },
          {
           "lower": 7917.406884765625,
           "timepoint": 70.80000305175781,
           "trajectory": "I_sol",
           "upper": 107156.37187499998
          },
          {
           "lower": 7945.088452148438,
           "timepoint": 70.9000015258789,
           "trajectory": "I_sol",
           "upper": 107784.69882812498
          },
          {
           "lower": 7972.862573242188,
           "timepoint": 71,
           "trajectory": "I_sol",
           "upper": 108415.25976562497
          },
          {
           "lower": 8000.728198242187,
           "timepoint": 71.0999984741211,
           "trajectory": "I_sol",
           "upper": 109048.04335937498
          },
          {
           "lower": 8028.68779296875,
           "timepoint": 71.19999694824219,
           "trajectory": "I_sol",
           "upper": 109683.03593749998
          },
          {
           "lower": 8056.741455078125,
           "timepoint": 71.30000305175781,
           "trajectory": "I_sol",
           "upper": 110320.27539062497
          },
          {
           "lower": 8084.88642578125,
           "timepoint": 71.4000015258789,
           "trajectory": "I_sol",
           "upper": 110959.66484374998
          },
          {
           "lower": 8113.123608398438,
           "timepoint": 71.5,
           "trajectory": "I_sol",
           "upper": 111601.13749999998
          },
          {
           "lower": 8141.455737304687,
           "timepoint": 71.5999984741211,
           "trajectory": "I_sol",
           "upper": 112244.83203124997
          },
          {
           "lower": 8169.881567382812,
           "timepoint": 71.69999694824219,
           "trajectory": "I_sol",
           "upper": 112890.67226562498
          },
          {
           "lower": 8198.403588867188,
           "timepoint": 71.80000305175781,
           "trajectory": "I_sol",
           "upper": 113538.69218749998
          },
          {
           "lower": 8227.0181640625,
           "timepoint": 71.9000015258789,
           "trajectory": "I_sol",
           "upper": 114188.83828124998
          },
          {
           "lower": 8255.726806640625,
           "timepoint": 72,
           "trajectory": "I_sol",
           "upper": 114841.04140624998
          },
          {
           "lower": 8284.531005859375,
           "timepoint": 72.0999984741211,
           "trajectory": "I_sol",
           "upper": 115495.32187499998
          },
          {
           "lower": 8313.432836914062,
           "timepoint": 72.19999694824219,
           "trajectory": "I_sol",
           "upper": 116151.67812499998
          },
          {
           "lower": 8342.430297851562,
           "timepoint": 72.30000305175781,
           "trajectory": "I_sol",
           "upper": 116810.13789062497
          },
          {
           "lower": 8371.521728515625,
           "timepoint": 72.4000015258789,
           "trajectory": "I_sol",
           "upper": 117470.59023437498
          },
          {
           "lower": 8400.709252929688,
           "timepoint": 72.5,
           "trajectory": "I_sol",
           "upper": 118133.06640624997
          },
          {
           "lower": 8429.992700195313,
           "timepoint": 72.5999984741211,
           "trajectory": "I_sol",
           "upper": 118797.63085937497
          },
          {
           "lower": 8459.373120117187,
           "timepoint": 72.69999694824219,
           "trajectory": "I_sol",
           "upper": 119464.11171874998
          },
          {
           "lower": 8488.842553710938,
           "timepoint": 72.80000305175781,
           "trajectory": "I_sol",
           "upper": 120132.61835937497
          },
          {
           "lower": 8518.415966796874,
           "timepoint": 72.9000015258789,
           "trajectory": "I_sol",
           "upper": 120803.02070312497
          },
          {
           "lower": 8548.086547851562,
           "timepoint": 73,
           "trajectory": "I_sol",
           "upper": 121475.36835937497
          },
          {
           "lower": 8577.855517578126,
           "timepoint": 73.0999984741211,
           "trajectory": "I_sol",
           "upper": 122149.81054687497
          },
          {
           "lower": 8607.721655273437,
           "timepoint": 73.19999694824219,
           "trajectory": "I_sol",
           "upper": 122826.01874999997
          },
          {
           "lower": 8637.68857421875,
           "timepoint": 73.30000305175781,
           "trajectory": "I_sol",
           "upper": 123504.16718749997
          },
          {
           "lower": 8667.752026367187,
           "timepoint": 73.4000015258789,
           "trajectory": "I_sol",
           "upper": 124184.13085937497
          },
          {
           "lower": 8697.913696289062,
           "timepoint": 73.5,
           "trajectory": "I_sol",
           "upper": 124865.93593749998
          },
          {
           "lower": 8728.175268554687,
           "timepoint": 73.5999984741211,
           "trajectory": "I_sol",
           "upper": 125549.57187499997
          },
          {
           "lower": 8758.535766601562,
           "timepoint": 73.69999694824219,
           "trajectory": "I_sol",
           "upper": 126234.98320312497
          },
          {
           "lower": 8788.998461914063,
           "timepoint": 73.80000305175781,
           "trajectory": "I_sol",
           "upper": 126922.26054687497
          },
          {
           "lower": 8819.558056640624,
           "timepoint": 73.9000015258789,
           "trajectory": "I_sol",
           "upper": 127611.25273437497
          },
          {
           "lower": 8850.218432617188,
           "timepoint": 74,
           "trajectory": "I_sol",
           "upper": 128301.99999999997
          },
          {
           "lower": 8880.979760742188,
           "timepoint": 74.0999984741211,
           "trajectory": "I_sol",
           "upper": 128994.44140624997
          },
          {
           "lower": 8911.8408203125,
           "timepoint": 74.19999694824219,
           "trajectory": "I_sol",
           "upper": 129688.51718749997
          },
          {
           "lower": 8942.806372070312,
           "timepoint": 74.30000305175781,
           "trajectory": "I_sol",
           "upper": 130384.38554687497
          },
          {
           "lower": 8973.870678710937,
           "timepoint": 74.4000015258789,
           "trajectory": "I_sol",
           "upper": 131081.84765624997
          },
          {
           "lower": 9005.035766601562,
           "timepoint": 74.5,
           "trajectory": "I_sol",
           "upper": 131780.96601562496
          },
          {
           "lower": 9036.302319335937,
           "timepoint": 74.5999984741211,
           "trajectory": "I_sol",
           "upper": 132481.64726562498
          },
          {
           "lower": 9067.671362304687,
           "timepoint": 74.69999694824219,
           "trajectory": "I_sol",
           "upper": 133183.93281249996
          },
          {
           "lower": 9099.149658203125,
           "timepoint": 74.80000305175781,
           "trajectory": "I_sol",
           "upper": 133887.88046874997
          },
          {
           "lower": 9130.724951171875,
           "timepoint": 74.9000015258789,
           "trajectory": "I_sol",
           "upper": 134593.26406249998
          },
          {
           "lower": 9162.403149414062,
           "timepoint": 75,
           "trajectory": "I_sol",
           "upper": 135300.14648437497
          },
          {
           "lower": 9194.1849609375,
           "timepoint": 75.0999984741211,
           "trajectory": "I_sol",
           "upper": 136008.51562499997
          },
          {
           "lower": 9226.07021484375,
           "timepoint": 75.19999694824219,
           "trajectory": "I_sol",
           "upper": 136718.31445312497
          },
          {
           "lower": 9258.06181640625,
           "timepoint": 75.30000305175781,
           "trajectory": "I_sol",
           "upper": 137429.74609374997
          },
          {
           "lower": 9290.155444335938,
           "timepoint": 75.4000015258789,
           "trajectory": "I_sol",
           "upper": 138142.42968749997
          },
          {
           "lower": 9322.353833007812,
           "timepoint": 75.5,
           "trajectory": "I_sol",
           "upper": 138856.48046874997
          },
          {
           "lower": 9354.656982421875,
           "timepoint": 75.5999984741211,
           "trajectory": "I_sol",
           "upper": 139571.88632812497
          },
          {
           "lower": 9387.065161132812,
           "timepoint": 75.69999694824219,
           "trajectory": "I_sol",
           "upper": 140288.61953124998
          },
          {
           "lower": 9419.581469726563,
           "timepoint": 75.80000305175781,
           "trajectory": "I_sol",
           "upper": 141006.70624999996
          },
          {
           "lower": 9452.2005859375,
           "timepoint": 75.9000015258789,
           "trajectory": "I_sol",
           "upper": 141726.09726562497
          },
          {
           "lower": 9484.925537109375,
           "timepoint": 76,
           "trajectory": "I_sol",
           "upper": 142446.65546874996
          },
          {
           "lower": 9517.757275390624,
           "timepoint": 76.0999984741211,
           "trajectory": "I_sol",
           "upper": 143168.45273437497
          },
          {
           "lower": 9550.695727539063,
           "timepoint": 76.19999694824219,
           "trajectory": "I_sol",
           "upper": 143891.43203124998
          },
          {
           "lower": 9583.74345703125,
           "timepoint": 76.30000305175781,
           "trajectory": "I_sol",
           "upper": 144615.62968749998
          },
          {
           "lower": 9616.896118164062,
           "timepoint": 76.4000015258789,
           "trajectory": "I_sol",
           "upper": 145340.89843749997
          },
          {
           "lower": 9650.1556640625,
           "timepoint": 76.5,
           "trajectory": "I_sol",
           "upper": 146066.96718749998
          },
          {
           "lower": 9683.523071289062,
           "timepoint": 76.5999984741211,
           "trajectory": "I_sol",
           "upper": 146794.32187499997
          },
          {
           "lower": 9716.999047851563,
           "timepoint": 76.69999694824219,
           "trajectory": "I_sol",
           "upper": 147522.71328124998
          },
          {
           "lower": 9750.57490234375,
           "timepoint": 76.80000305175781,
           "trajectory": "I_sol",
           "upper": 148252.14843749997
          },
          {
           "lower": 9784.26669921875,
           "timepoint": 76.9000015258789,
           "trajectory": "I_sol",
           "upper": 148982.49374999997
          },
          {
           "lower": 9818.067138671875,
           "timepoint": 77,
           "trajectory": "I_sol",
           "upper": 149713.76640624995
          },
          {
           "lower": 9851.976147460937,
           "timepoint": 77.0999984741211,
           "trajectory": "I_sol",
           "upper": 150445.92187499997
          },
          {
           "lower": 9885.99541015625,
           "timepoint": 77.19999694824219,
           "trajectory": "I_sol",
           "upper": 151178.94609374995
          },
          {
           "lower": 9920.12685546875,
           "timepoint": 77.30000305175781,
           "trajectory": "I_sol",
           "upper": 151912.84609374998
          },
          {
           "lower": 9954.36572265625,
           "timepoint": 77.4000015258789,
           "trajectory": "I_sol",
           "upper": 152647.46796874996
          },
          {
           "lower": 9988.714306640624,
           "timepoint": 77.5,
           "trajectory": "I_sol",
           "upper": 153383.19140624997
          },
          {
           "lower": 10023.174194335938,
           "timepoint": 77.5999984741211,
           "trajectory": "I_sol",
           "upper": 154119.39765624996
          },
          {
           "lower": 10057.744775390625,
           "timepoint": 77.69999694824219,
           "trajectory": "I_sol",
           "upper": 154856.31874999998
          },
          {
           "lower": 10092.429321289062,
           "timepoint": 77.80000305175781,
           "trajectory": "I_sol",
           "upper": 155593.94218749995
          },
          {
           "lower": 10127.223217773437,
           "timepoint": 77.9000015258789,
           "trajectory": "I_sol",
           "upper": 156332.16796874997
          },
          {
           "lower": 10162.128784179688,
           "timepoint": 78,
           "trajectory": "I_sol",
           "upper": 157070.97812499997
          },
          {
           "lower": 10197.1470703125,
           "timepoint": 78.0999984741211,
           "trajectory": "I_sol",
           "upper": 157810.25546874997
          },
          {
           "lower": 10232.277368164063,
           "timepoint": 78.19999694824219,
           "trajectory": "I_sol",
           "upper": 158550.14999999997
          },
          {
           "lower": 10267.523315429688,
           "timepoint": 78.30000305175781,
           "trajectory": "I_sol",
           "upper": 159290.59453124995
          },
          {
           "lower": 10302.8796875,
           "timepoint": 78.4000015258789,
           "trajectory": "I_sol",
           "upper": 160031.45390624995
          },
          {
           "lower": 10338.3501953125,
           "timepoint": 78.5,
           "trajectory": "I_sol",
           "upper": 160772.36562499998
          },
          {
           "lower": 10373.933154296876,
           "timepoint": 78.5999984741211,
           "trajectory": "I_sol",
           "upper": 161513.91718749996
          },
          {
           "lower": 10409.63203125,
           "timepoint": 78.69999694824219,
           "trajectory": "I_sol",
           "upper": 162255.80937499995
          },
          {
           "lower": 10445.436083984376,
           "timepoint": 78.80000305175781,
           "trajectory": "I_sol",
           "upper": 162998.04062499997
          },
          {
           "lower": 10481.3609375,
           "timepoint": 78.9000015258789,
           "trajectory": "I_sol",
           "upper": 163740.46718749998
          },
          {
           "lower": 10517.401171875,
           "timepoint": 79,
           "trajectory": "I_sol",
           "upper": 164483.13203124996
          },
          {
           "lower": 10553.555810546875,
           "timepoint": 79.0999984741211,
           "trajectory": "I_sol",
           "upper": 165225.95937499998
          },
          {
           "lower": 10589.821435546875,
           "timepoint": 79.19999694824219,
           "trajectory": "I_sol",
           "upper": 165968.76328124997
          },
          {
           "lower": 10626.20947265625,
           "timepoint": 79.30000305175781,
           "trajectory": "I_sol",
           "upper": 166711.82812499997
          },
          {
           "lower": 10662.71103515625,
           "timepoint": 79.4000015258789,
           "trajectory": "I_sol",
           "upper": 167454.87499999997
          },
          {
           "lower": 10699.328857421875,
           "timepoint": 79.5,
           "trajectory": "I_sol",
           "upper": 168198.20312499997
          },
          {
           "lower": 10736.062841796875,
           "timepoint": 79.5999984741211,
           "trajectory": "I_sol",
           "upper": 168941.30390624996
          },
          {
           "lower": 10772.91328125,
           "timepoint": 79.69999694824219,
           "trajectory": "I_sol",
           "upper": 169684.33828124998
          },
          {
           "lower": 10809.88466796875,
           "timepoint": 79.80000305175781,
           "trajectory": "I_sol",
           "upper": 170427.32031249997
          },
          {
           "lower": 10846.969921875,
           "timepoint": 79.9000015258789,
           "trajectory": "I_sol",
           "upper": 171170.10937499997
          },
          {
           "lower": 10884.173388671876,
           "timepoint": 80,
           "trajectory": "I_sol",
           "upper": 171912.70234374996
          },
          {
           "lower": 2300000,
           "timepoint": 0,
           "trajectory": "S_sol",
           "upper": 2300000
          },
          {
           "lower": 2299997.7875,
           "timepoint": 0.10000000149011612,
           "trajectory": "S_sol",
           "upper": 2299999.8875
          },
          {
           "lower": 2299998.0875,
           "timepoint": 0.20000000298023224,
           "trajectory": "S_sol",
           "upper": 2300001
          },
          {
           "lower": 2299993.7,
           "timepoint": 0.30000001192092896,
           "trajectory": "S_sol",
           "upper": 2300001
          },
          {
           "lower": 2299992.5125,
           "timepoint": 0.4000000059604645,
           "trajectory": "S_sol",
           "upper": 2299995.775
          },
          {
           "lower": 2299990.3625,
           "timepoint": 0.5,
           "trajectory": "S_sol",
           "upper": 2299992.75
          },
          {
           "lower": 2299985.95,
           "timepoint": 0.6000000238418579,
           "trajectory": "S_sol",
           "upper": 2299990.6375
          },
          {
           "lower": 2299981.3375,
           "timepoint": 0.699999988079071,
           "trajectory": "S_sol",
           "upper": 2299986.5
          },
          {
           "lower": 2299975.5875,
           "timepoint": 0.800000011920929,
           "trajectory": "S_sol",
           "upper": 2299983.6875
          },
          {
           "lower": 2299968.9125,
           "timepoint": 0.9000000357627869,
           "trajectory": "S_sol",
           "upper": 2299979.625
          },
          {
           "lower": 2299964.0375,
           "timepoint": 1,
           "trajectory": "S_sol",
           "upper": 2299974.55
          },
          {
           "lower": 2299957.175,
           "timepoint": 1.100000023841858,
           "trajectory": "S_sol",
           "upper": 2299968.1375
          },
          {
           "lower": 2299949.625,
           "timepoint": 1.2000000476837158,
           "trajectory": "S_sol",
           "upper": 2299965.5
          },
          {
           "lower": 2299940.9875,
           "timepoint": 1.3000000715255737,
           "trajectory": "S_sol",
           "upper": 2299959.6125
          },
          {
           "lower": 2299932.025,
           "timepoint": 1.399999976158142,
           "trajectory": "S_sol",
           "upper": 2299952.5375
          },
          {
           "lower": 2299924.5,
           "timepoint": 1.5,
           "trajectory": "S_sol",
           "upper": 2299947.8
          },
          {
           "lower": 2299913.6875,
           "timepoint": 1.600000023841858,
           "trajectory": "S_sol",
           "upper": 2299941.5125
          },
          {
           "lower": 2299904.0125,
           "timepoint": 1.7000000476837158,
           "trajectory": "S_sol",
           "upper": 2299932.25
          },
          {
           "lower": 2299894.325,
           "timepoint": 1.8000000715255737,
           "trajectory": "S_sol",
           "upper": 2299925.8
          },
          {
           "lower": 2299882.95,
           "timepoint": 1.899999976158142,
           "trajectory": "S_sol",
           "upper": 2299920.3625
          },
          {
           "lower": 2299872.75,
           "timepoint": 2,
           "trajectory": "S_sol",
           "upper": 2299909.625
          },
          {
           "lower": 2299861.1625,
           "timepoint": 2.1000001430511475,
           "trajectory": "S_sol",
           "upper": 2299901.6875
          },
          {
           "lower": 2299849.55,
           "timepoint": 2.200000047683716,
           "trajectory": "S_sol",
           "upper": 2299896.55
          },
          {
           "lower": 2299836.55,
           "timepoint": 2.299999952316284,
           "trajectory": "S_sol",
           "upper": 2299885.7125
          },
          {
           "lower": 2299823.7125,
           "timepoint": 2.4000000953674316,
           "trajectory": "S_sol",
           "upper": 2299877.35
          },
          {
           "lower": 2299812.1125,
           "timepoint": 2.5,
           "trajectory": "S_sol",
           "upper": 2299869.6625
          },
          {
           "lower": 2299799.725,
           "timepoint": 2.6000001430511475,
           "trajectory": "S_sol",
           "upper": 2299859.15
          },
          {
           "lower": 2299785.7125,
           "timepoint": 2.700000047683716,
           "trajectory": "S_sol",
           "upper": 2299850.4875
          },
          {
           "lower": 2299771.125,
           "timepoint": 2.799999952316284,
           "trajectory": "S_sol",
           "upper": 2299840.6625
          },
          {
           "lower": 2299756.575,
           "timepoint": 2.9000000953674316,
           "trajectory": "S_sol",
           "upper": 2299832.5875
          },
          {
           "lower": 2299742.0875,
           "timepoint": 3,
           "trajectory": "S_sol",
           "upper": 2299820.6375
          },
          {
           "lower": 2299728.8625,
           "timepoint": 3.1000001430511475,
           "trajectory": "S_sol",
           "upper": 2299811.8375
          },
          {
           "lower": 2299712.9125,
           "timepoint": 3.200000047683716,
           "trajectory": "S_sol",
           "upper": 2299801.0625
          },
          {
           "lower": 2299697.1125,
           "timepoint": 3.299999952316284,
           "trajectory": "S_sol",
           "upper": 2299792.35
          },
          {
           "lower": 2299681.9375,
           "timepoint": 3.4000000953674316,
           "trajectory": "S_sol",
           "upper": 2299779.65
          },
          {
           "lower": 2299666.725,
           "timepoint": 3.5,
           "trajectory": "S_sol",
           "upper": 2299769.3125
          },
          {
           "lower": 2299650.675,
           "timepoint": 3.6000001430511475,
           "trajectory": "S_sol",
           "upper": 2299758.6875
          },
          {
           "lower": 2299634.2125,
           "timepoint": 3.700000047683716,
           "trajectory": "S_sol",
           "upper": 2299749.1125
          },
          {
           "lower": 2299618.6,
           "timepoint": 3.799999952316284,
           "trajectory": "S_sol",
           "upper": 2299735.35
          },
          {
           "lower": 2299601.5125,
           "timepoint": 3.9000000953674316,
           "trajectory": "S_sol",
           "upper": 2299723.8125
          },
          {
           "lower": 2299584.7375,
           "timepoint": 4,
           "trajectory": "S_sol",
           "upper": 2299713.4
          },
          {
           "lower": 2299568.2375,
           "timepoint": 4.099999904632568,
           "trajectory": "S_sol",
           "upper": 2299702.3375
          },
          {
           "lower": 2299550.3625,
           "timepoint": 4.200000286102295,
           "trajectory": "S_sol",
           "upper": 2299690.3125
          },
          {
           "lower": 2299533.0375,
           "timepoint": 4.300000190734863,
           "trajectory": "S_sol",
           "upper": 2299678.8375
          },
          {
           "lower": 2299514.45,
           "timepoint": 4.400000095367432,
           "trajectory": "S_sol",
           "upper": 2299667.3625
          },
          {
           "lower": 2299496.125,
           "timepoint": 4.5,
           "trajectory": "S_sol",
           "upper": 2299655.1
          },
          {
           "lower": 2299477.775,
           "timepoint": 4.599999904632568,
           "trajectory": "S_sol",
           "upper": 2299643.1875
          },
          {
           "lower": 2299460.55,
           "timepoint": 4.700000286102295,
           "trajectory": "S_sol",
           "upper": 2299632
          },
          {
           "lower": 2299441.2375,
           "timepoint": 4.800000190734863,
           "trajectory": "S_sol",
           "upper": 2299621.6
          },
          {
           "lower": 2299422.7125,
           "timepoint": 4.900000095367432,
           "trajectory": "S_sol",
           "upper": 2299606.3875
          },
          {
           "lower": 2299404.325,
           "timepoint": 5,
           "trajectory": "S_sol",
           "upper": 2299594.075
          },
          {
           "lower": 2299384.425,
           "timepoint": 5.099999904632568,
           "trajectory": "S_sol",
           "upper": 2299580.625
          },
          {
           "lower": 2299364.225,
           "timepoint": 5.200000286102295,
           "trajectory": "S_sol",
           "upper": 2299567.025
          },
          {
           "lower": 2299344.95,
           "timepoint": 5.300000190734863,
           "trajectory": "S_sol",
           "upper": 2299555.925
          },
          {
           "lower": 2299325.425,
           "timepoint": 5.400000095367432,
           "trajectory": "S_sol",
           "upper": 2299543.3625
          },
          {
           "lower": 2299306.375,
           "timepoint": 5.5,
           "trajectory": "S_sol",
           "upper": 2299530.5875
          },
          {
           "lower": 2299285.9875,
           "timepoint": 5.599999904632568,
           "trajectory": "S_sol",
           "upper": 2299518.2875
          },
          {
           "lower": 2299263.8,
           "timepoint": 5.700000286102295,
           "trajectory": "S_sol",
           "upper": 2299506.3625
          },
          {
           "lower": 2299243.275,
           "timepoint": 5.800000190734863,
           "trajectory": "S_sol",
           "upper": 2299489.6375
          },
          {
           "lower": 2299222.775,
           "timepoint": 5.900000095367432,
           "trajectory": "S_sol",
           "upper": 2299474.5375
          },
          {
           "lower": 2299202.1375,
           "timepoint": 6,
           "trajectory": "S_sol",
           "upper": 2299464.1625
          },
          {
           "lower": 2299180.1625,
           "timepoint": 6.099999904632568,
           "trajectory": "S_sol",
           "upper": 2299450.4875
          },
          {
           "lower": 2299158.2125,
           "timepoint": 6.200000286102295,
           "trajectory": "S_sol",
           "upper": 2299436.725
          },
          {
           "lower": 2299136.575,
           "timepoint": 6.300000190734863,
           "trajectory": "S_sol",
           "upper": 2299424.2875
          },
          {
           "lower": 2299114.5125,
           "timepoint": 6.400000095367432,
           "trajectory": "S_sol",
           "upper": 2299410.8625
          },
          {
           "lower": 2299091.8625,
           "timepoint": 6.5,
           "trajectory": "S_sol",
           "upper": 2299396.525
          },
          {
           "lower": 2299066.975,
           "timepoint": 6.599999904632568,
           "trajectory": "S_sol",
           "upper": 2299382.2375
          },
          {
           "lower": 2299047.2125,
           "timepoint": 6.700000286102295,
           "trajectory": "S_sol",
           "upper": 2299368.3375
          },
          {
           "lower": 2299024.4125,
           "timepoint": 6.800000190734863,
           "trajectory": "S_sol",
           "upper": 2299356.0875
          },
          {
           "lower": 2299001.1125,
           "timepoint": 6.900000095367432,
           "trajectory": "S_sol",
           "upper": 2299343.35
          },
          {
           "lower": 2298977.8125,
           "timepoint": 7,
           "trajectory": "S_sol",
           "upper": 2299327.7
          },
          {
           "lower": 2298954.8125,
           "timepoint": 7.099999904632568,
           "trajectory": "S_sol",
           "upper": 2299314.175
          },
          {
           "lower": 2298931.15,
           "timepoint": 7.200000286102295,
           "trajectory": "S_sol",
           "upper": 2299301.075
          },
          {
           "lower": 2298907.6625,
           "timepoint": 7.300000190734863,
           "trajectory": "S_sol",
           "upper": 2299283.9875
          },
          {
           "lower": 2298883.5875,
           "timepoint": 7.400000095367432,
           "trajectory": "S_sol",
           "upper": 2299269.0125
          },
          {
           "lower": 2298858.875,
           "timepoint": 7.5,
           "trajectory": "S_sol",
           "upper": 2299255.9375
          },
          {
           "lower": 2298833.475,
           "timepoint": 7.599999904632568,
           "trajectory": "S_sol",
           "upper": 2299241.0125
          },
          {
           "lower": 2298810.7125,
           "timepoint": 7.700000286102295,
           "trajectory": "S_sol",
           "upper": 2299226.0875
          },
          {
           "lower": 2298785.6875,
           "timepoint": 7.800000190734863,
           "trajectory": "S_sol",
           "upper": 2299210.9125
          },
          {
           "lower": 2298760.975,
           "timepoint": 7.900000095367432,
           "trajectory": "S_sol",
           "upper": 2299196.95
          },
          {
           "lower": 2298735.925,
           "timepoint": 8,
           "trajectory": "S_sol",
           "upper": 2299181.8375
          },
          {
           "lower": 2298710.6,
           "timepoint": 8.100000381469727,
           "trajectory": "S_sol",
           "upper": 2299168.4
          },
          {
           "lower": 2298685.5,
           "timepoint": 8.199999809265137,
           "trajectory": "S_sol",
           "upper": 2299153.7
          },
          {
           "lower": 2298660.125,
           "timepoint": 8.300000190734863,
           "trajectory": "S_sol",
           "upper": 2299139.275
          },
          {
           "lower": 2298634.3625,
           "timepoint": 8.40000057220459,
           "trajectory": "S_sol",
           "upper": 2299124.7125
          },
          {
           "lower": 2298606.875,
           "timepoint": 8.5,
           "trajectory": "S_sol",
           "upper": 2299110.025
          },
          {
           "lower": 2298580.325,
           "timepoint": 8.600000381469727,
           "trajectory": "S_sol",
           "upper": 2299095.5375
          },
          {
           "lower": 2298553.9375,
           "timepoint": 8.699999809265137,
           "trajectory": "S_sol",
           "upper": 2299078.3
          },
          {
           "lower": 2298527.35,
           "timepoint": 8.800000190734863,
           "trajectory": "S_sol",
           "upper": 2299062.9
          },
          {
           "lower": 2298500.8375,
           "timepoint": 8.90000057220459,
           "trajectory": "S_sol",
           "upper": 2299047.0875
          },
          {
           "lower": 2298470.3875,
           "timepoint": 9,
           "trajectory": "S_sol",
           "upper": 2299031.3
          },
          {
           "lower": 2298441.325,
           "timepoint": 9.100000381469727,
           "trajectory": "S_sol",
           "upper": 2299016.0875
          },
          {
           "lower": 2298416.875,
           "timepoint": 9.199999809265137,
           "trajectory": "S_sol",
           "upper": 2298999.8125
          },
          {
           "lower": 2298388.6875,
           "timepoint": 9.300000190734863,
           "trajectory": "S_sol",
           "upper": 2298982.6
          },
          {
           "lower": 2298360.0875,
           "timepoint": 9.40000057220459,
           "trajectory": "S_sol",
           "upper": 2298970.75
          },
          {
           "lower": 2298331.15,
           "timepoint": 9.5,
           "trajectory": "S_sol",
           "upper": 2298955.325
          },
          {
           "lower": 2298301.7125,
           "timepoint": 9.600000381469727,
           "trajectory": "S_sol",
           "upper": 2298940.0125
          },
          {
           "lower": 2298273.3375,
           "timepoint": 9.699999809265137,
           "trajectory": "S_sol",
           "upper": 2298924.5875
          },
          {
           "lower": 2298243,
           "timepoint": 9.800000190734863,
           "trajectory": "S_sol",
           "upper": 2298908.65
          },
          {
           "lower": 2298216.375,
           "timepoint": 9.90000057220459,
           "trajectory": "S_sol",
           "upper": 2298893.55
          },
          {
           "lower": 2298186.55,
           "timepoint": 10,
           "trajectory": "S_sol",
           "upper": 2298875.95
          },
          {
           "lower": 2298156.5875,
           "timepoint": 10.100000381469727,
           "trajectory": "S_sol",
           "upper": 2298860.025
          },
          {
           "lower": 2298126.375,
           "timepoint": 10.199999809265137,
           "trajectory": "S_sol",
           "upper": 2298843.9625
          },
          {
           "lower": 2298096.05,
           "timepoint": 10.300000190734863,
           "trajectory": "S_sol",
           "upper": 2298828.15
          },
          {
           "lower": 2298065.75,
           "timepoint": 10.40000057220459,
           "trajectory": "S_sol",
           "upper": 2298812.225
          },
          {
           "lower": 2298034.925,
           "timepoint": 10.5,
           "trajectory": "S_sol",
           "upper": 2298795.4
          },
          {
           "lower": 2298003.6,
           "timepoint": 10.600000381469727,
           "trajectory": "S_sol",
           "upper": 2298779.3625
          },
          {
           "lower": 2297972.95,
           "timepoint": 10.699999809265137,
           "trajectory": "S_sol",
           "upper": 2298763.075
          },
          {
           "lower": 2297941.5125,
           "timepoint": 10.800000190734863,
           "trajectory": "S_sol",
           "upper": 2298745.9625
          },
          {
           "lower": 2297909.6875,
           "timepoint": 10.90000057220459,
           "trajectory": "S_sol",
           "upper": 2298729.5125
          },
          {
           "lower": 2297877.6125,
           "timepoint": 11,
           "trajectory": "S_sol",
           "upper": 2298712.95
          },
          {
           "lower": 2297845.175,
           "timepoint": 11.100000381469727,
           "trajectory": "S_sol",
           "upper": 2298696.3875
          },
          {
           "lower": 2297812.625,
           "timepoint": 11.199999809265137,
           "trajectory": "S_sol",
           "upper": 2298679.8
          },
          {
           "lower": 2297779,
           "timepoint": 11.300000190734863,
           "trajectory": "S_sol",
           "upper": 2298661.8375
          },
          {
           "lower": 2297745.675,
           "timepoint": 11.40000057220459,
           "trajectory": "S_sol",
           "upper": 2298644.6375
          },
          {
           "lower": 2297713.2,
           "timepoint": 11.5,
           "trajectory": "S_sol",
           "upper": 2298628.925
          },
          {
           "lower": 2297679.575,
           "timepoint": 11.600000381469727,
           "trajectory": "S_sol",
           "upper": 2298612.25
          },
          {
           "lower": 2297645.3375,
           "timepoint": 11.699999809265137,
           "trajectory": "S_sol",
           "upper": 2298595.325
          },
          {
           "lower": 2297610.9375,
           "timepoint": 11.800000190734863,
           "trajectory": "S_sol",
           "upper": 2298578.7625
          },
          {
           "lower": 2297576.65,
           "timepoint": 11.90000057220459,
           "trajectory": "S_sol",
           "upper": 2298562.175
          },
          {
           "lower": 2297541.5,
           "timepoint": 12,
           "trajectory": "S_sol",
           "upper": 2298545.95
          },
          {
           "lower": 2297506.6875,
           "timepoint": 12.100000381469727,
           "trajectory": "S_sol",
           "upper": 2298526.55
          },
          {
           "lower": 2297474.2125,
           "timepoint": 12.199999809265137,
           "trajectory": "S_sol",
           "upper": 2298509.5375
          },
          {
           "lower": 2297439.2875,
           "timepoint": 12.300000190734863,
           "trajectory": "S_sol",
           "upper": 2298492.275
          },
          {
           "lower": 2297404.45,
           "timepoint": 12.40000057220459,
           "trajectory": "S_sol",
           "upper": 2298473.9125
          },
          {
           "lower": 2297365.425,
           "timepoint": 12.5,
           "trajectory": "S_sol",
           "upper": 2298456.15
          },
          {
           "lower": 2297328.9375,
           "timepoint": 12.600000381469727,
           "trajectory": "S_sol",
           "upper": 2298438.75
          },
          {
           "lower": 2297292.175,
           "timepoint": 12.699999809265137,
           "trajectory": "S_sol",
           "upper": 2298421.125
          },
          {
           "lower": 2297255.05,
           "timepoint": 12.800000190734863,
           "trajectory": "S_sol",
           "upper": 2298403.3625
          },
          {
           "lower": 2297217.4,
           "timepoint": 12.90000057220459,
           "trajectory": "S_sol",
           "upper": 2298385.7375
          },
          {
           "lower": 2297179.5,
           "timepoint": 13,
           "trajectory": "S_sol",
           "upper": 2298368.45
          },
          {
           "lower": 2297140.9625,
           "timepoint": 13.100000381469727,
           "trajectory": "S_sol",
           "upper": 2298350.6875
          },
          {
           "lower": 2297104.4875,
           "timepoint": 13.199999809265137,
           "trajectory": "S_sol",
           "upper": 2298332.95
          },
          {
           "lower": 2297066,
           "timepoint": 13.300000190734863,
           "trajectory": "S_sol",
           "upper": 2298313.7
          },
          {
           "lower": 2297027.2625,
           "timepoint": 13.40000057220459,
           "trajectory": "S_sol",
           "upper": 2298295.3
          },
          {
           "lower": 2296988.5375,
           "timepoint": 13.5,
           "trajectory": "S_sol",
           "upper": 2298277.15
          },
          {
           "lower": 2296949.1625,
           "timepoint": 13.600000381469727,
           "trajectory": "S_sol",
           "upper": 2298258.525
          },
          {
           "lower": 2296909.2375,
           "timepoint": 13.699999809265137,
           "trajectory": "S_sol",
           "upper": 2298239.375
          },
          {
           "lower": 2296868.95,
           "timepoint": 13.800000190734863,
           "trajectory": "S_sol",
           "upper": 2298220.225
          },
          {
           "lower": 2296828.4125,
           "timepoint": 13.90000057220459,
           "trajectory": "S_sol",
           "upper": 2298200.575
          },
          {
           "lower": 2296787.075,
           "timepoint": 14,
           "trajectory": "S_sol",
           "upper": 2298182.8375
          },
          {
           "lower": 2296745.625,
           "timepoint": 14.100000381469727,
           "trajectory": "S_sol",
           "upper": 2298163.225
          },
          {
           "lower": 2296703.2625,
           "timepoint": 14.199999809265137,
           "trajectory": "S_sol",
           "upper": 2298143.0875
          },
          {
           "lower": 2296661.0125,
           "timepoint": 14.300000190734863,
           "trajectory": "S_sol",
           "upper": 2298129.55
          },
          {
           "lower": 2296623.925,
           "timepoint": 14.40000057220459,
           "trajectory": "S_sol",
           "upper": 2298110.65
          },
          {
           "lower": 2296581.9125,
           "timepoint": 14.5,
           "trajectory": "S_sol",
           "upper": 2298092.025
          },
          {
           "lower": 2296539.375,
           "timepoint": 14.600000381469727,
           "trajectory": "S_sol",
           "upper": 2298073.0125
          },
          {
           "lower": 2296496.5,
           "timepoint": 14.699999809265137,
           "trajectory": "S_sol",
           "upper": 2298054
          },
          {
           "lower": 2296453.35,
           "timepoint": 14.800000190734863,
           "trajectory": "S_sol",
           "upper": 2298034.85
          },
          {
           "lower": 2296409.8375,
           "timepoint": 14.90000057220459,
           "trajectory": "S_sol",
           "upper": 2298015.8375
          },
          {
           "lower": 2296366.1875,
           "timepoint": 15,
           "trajectory": "S_sol",
           "upper": 2297996.575
          },
          {
           "lower": 2296322.0375,
           "timepoint": 15.100000381469727,
           "trajectory": "S_sol",
           "upper": 2297976.975
          },
          {
           "lower": 2296277.6625,
           "timepoint": 15.199999809265137,
           "trajectory": "S_sol",
           "upper": 2297957.7375
          },
          {
           "lower": 2296232.65,
           "timepoint": 15.300000190734863,
           "trajectory": "S_sol",
           "upper": 2297938.5
          },
          {
           "lower": 2296187.75,
           "timepoint": 15.40000057220459,
           "trajectory": "S_sol",
           "upper": 2297919.0125
          },
          {
           "lower": 2296142.125,
           "timepoint": 15.5,
           "trajectory": "S_sol",
           "upper": 2297899.3875
          },
          {
           "lower": 2296096.3625,
           "timepoint": 15.600000381469727,
           "trajectory": "S_sol",
           "upper": 2297879.65
          },
          {
           "lower": 2296048.425,
           "timepoint": 15.699999809265137,
           "trajectory": "S_sol",
           "upper": 2297859.9125
          },
          {
           "lower": 2296001.4125,
           "timepoint": 15.800000190734863,
           "trajectory": "S_sol",
           "upper": 2297840.0375
          },
          {
           "lower": 2295954.35,
           "timepoint": 15.90000057220459,
           "trajectory": "S_sol",
           "upper": 2297820.1875
          },
          {
           "lower": 2295906.95,
           "timepoint": 16,
           "trajectory": "S_sol",
           "upper": 2297800.2
          },
          {
           "lower": 2295860.15,
           "timepoint": 16.100000381469727,
           "trajectory": "S_sol",
           "upper": 2297779.9875
          },
          {
           "lower": 2295812.1125,
           "timepoint": 16.200000762939453,
           "trajectory": "S_sol",
           "upper": 2297759.8875
          },
          {
           "lower": 2295763.8,
           "timepoint": 16.30000114440918,
           "trajectory": "S_sol",
           "upper": 2297740.6625
          },
          {
           "lower": 2295714.875,
           "timepoint": 16.399999618530273,
           "trajectory": "S_sol",
           "upper": 2297720.5625
          },
          {
           "lower": 2295665.8125,
           "timepoint": 16.5,
           "trajectory": "S_sol",
           "upper": 2297700.1875
          },
          {
           "lower": 2295616.25,
           "timepoint": 16.600000381469727,
           "trajectory": "S_sol",
           "upper": 2297679.725
          },
          {
           "lower": 2295566.1875,
           "timepoint": 16.700000762939453,
           "trajectory": "S_sol",
           "upper": 2297659.2375
          },
          {
           "lower": 2295516.0125,
           "timepoint": 16.80000114440918,
           "trajectory": "S_sol",
           "upper": 2297638.6375
          },
          {
           "lower": 2295465.2,
           "timepoint": 16.899999618530273,
           "trajectory": "S_sol",
           "upper": 2297617.675
          },
          {
           "lower": 2295414.3875,
           "timepoint": 17,
           "trajectory": "S_sol",
           "upper": 2297596.9625
          },
          {
           "lower": 2295362.825,
           "timepoint": 17.100000381469727,
           "trajectory": "S_sol",
           "upper": 2297576.025
          },
          {
           "lower": 2295311.0375,
           "timepoint": 17.200000762939453,
           "trajectory": "S_sol",
           "upper": 2297554.425
          },
          {
           "lower": 2295256.6625,
           "timepoint": 17.30000114440918,
           "trajectory": "S_sol",
           "upper": 2297533.125
          },
          {
           "lower": 2295203.7125,
           "timepoint": 17.399999618530273,
           "trajectory": "S_sol",
           "upper": 2297511.4625
          },
          {
           "lower": 2295150.2625,
           "timepoint": 17.5,
           "trajectory": "S_sol",
           "upper": 2297489.6625
          },
          {
           "lower": 2295096.45,
           "timepoint": 17.600000381469727,
           "trajectory": "S_sol",
           "upper": 2297471.4625
          },
          {
           "lower": 2295042.7875,
           "timepoint": 17.700000762939453,
           "trajectory": "S_sol",
           "upper": 2297450.0875
          },
          {
           "lower": 2294988.3375,
           "timepoint": 17.80000114440918,
           "trajectory": "S_sol",
           "upper": 2297428.7375
          },
          {
           "lower": 2294933.475,
           "timepoint": 17.899999618530273,
           "trajectory": "S_sol",
           "upper": 2297408.4875
          },
          {
           "lower": 2294878,
           "timepoint": 18,
           "trajectory": "S_sol",
           "upper": 2297387.025
          },
          {
           "lower": 2294822.3875,
           "timepoint": 18.100000381469727,
           "trajectory": "S_sol",
           "upper": 2297365.425
          },
          {
           "lower": 2294766.1625,
           "timepoint": 18.200000762939453,
           "trajectory": "S_sol",
           "upper": 2297343.9625
          },
          {
           "lower": 2294709.6875,
           "timepoint": 18.30000114440918,
           "trajectory": "S_sol",
           "upper": 2297322.25
          },
          {
           "lower": 2294652.575,
           "timepoint": 18.399999618530273,
           "trajectory": "S_sol",
           "upper": 2297300.2875
          },
          {
           "lower": 2294595.075,
           "timepoint": 18.5,
           "trajectory": "S_sol",
           "upper": 2297278.4625
          },
          {
           "lower": 2294537.2125,
           "timepoint": 18.600000381469727,
           "trajectory": "S_sol",
           "upper": 2297256.6375
          },
          {
           "lower": 2294479.1,
           "timepoint": 18.700000762939453,
           "trajectory": "S_sol",
           "upper": 2297234.8125
          },
          {
           "lower": 2294420.1875,
           "timepoint": 18.80000114440918,
           "trajectory": "S_sol",
           "upper": 2297212.7375
          },
          {
           "lower": 2294360.9375,
           "timepoint": 18.899999618530273,
           "trajectory": "S_sol",
           "upper": 2297190.8
          },
          {
           "lower": 2294301.3,
           "timepoint": 19,
           "trajectory": "S_sol",
           "upper": 2297168.75
          },
          {
           "lower": 2294241.1625,
           "timepoint": 19.100000381469727,
           "trajectory": "S_sol",
           "upper": 2297147.375
          },
          {
           "lower": 2294179.125,
           "timepoint": 19.200000762939453,
           "trajectory": "S_sol",
           "upper": 2297125.4625
          },
          {
           "lower": 2294118.075,
           "timepoint": 19.30000114440918,
           "trajectory": "S_sol",
           "upper": 2297103.55
          },
          {
           "lower": 2294056.525,
           "timepoint": 19.399999618530273,
           "trajectory": "S_sol",
           "upper": 2297079.1875
          },
          {
           "lower": 2293994.475,
           "timepoint": 19.5,
           "trajectory": "S_sol",
           "upper": 2297056.75
          },
          {
           "lower": 2293930.125,
           "timepoint": 19.600000381469727,
           "trajectory": "S_sol",
           "upper": 2297034.0375
          },
          {
           "lower": 2293866.85,
           "timepoint": 19.700000762939453,
           "trajectory": "S_sol",
           "upper": 2297011.1
          },
          {
           "lower": 2293803.075,
           "timepoint": 19.80000114440918,
           "trajectory": "S_sol",
           "upper": 2296988.55
          },
          {
           "lower": 2293738.9125,
           "timepoint": 19.899999618530273,
           "trajectory": "S_sol",
           "upper": 2296965.725
          },
          {
           "lower": 2293674.25,
           "timepoint": 20,
           "trajectory": "S_sol",
           "upper": 2296942.8125
          },
          {
           "lower": 2293609.2,
           "timepoint": 20.100000381469727,
           "trajectory": "S_sol",
           "upper": 2296919.9
          },
          {
           "lower": 2293543.4,
           "timepoint": 20.200000762939453,
           "trajectory": "S_sol",
           "upper": 2296896.9625
          },
          {
           "lower": 2293477.35,
           "timepoint": 20.30000114440918,
           "trajectory": "S_sol",
           "upper": 2296873.9375
          },
          {
           "lower": 2293410.525,
           "timepoint": 20.399999618530273,
           "trajectory": "S_sol",
           "upper": 2296850.9125
          },
          {
           "lower": 2293343.45,
           "timepoint": 20.5,
           "trajectory": "S_sol",
           "upper": 2296828.1625
          },
          {
           "lower": 2293275.7625,
           "timepoint": 20.600000381469727,
           "trajectory": "S_sol",
           "upper": 2296804.8875
          },
          {
           "lower": 2293207.575,
           "timepoint": 20.700000762939453,
           "trajectory": "S_sol",
           "upper": 2296781.8875
          },
          {
           "lower": 2293138.975,
           "timepoint": 20.80000114440918,
           "trajectory": "S_sol",
           "upper": 2296759.025
          },
          {
           "lower": 2293069.5125,
           "timepoint": 20.899999618530273,
           "trajectory": "S_sol",
           "upper": 2296736.3625
          },
          {
           "lower": 2292999.9125,
           "timepoint": 21,
           "trajectory": "S_sol",
           "upper": 2296713.25
          },
          {
           "lower": 2292929.5625,
           "timepoint": 21.100000381469727,
           "trajectory": "S_sol",
           "upper": 2296683.95
          },
          {
           "lower": 2292857.975,
           "timepoint": 21.200000762939453,
           "trajectory": "S_sol",
           "upper": 2296659.925
          },
          {
           "lower": 2292786.35,
           "timepoint": 21.30000114440918,
           "trajectory": "S_sol",
           "upper": 2296635.85
          },
          {
           "lower": 2292714.725,
           "timepoint": 21.399999618530273,
           "trajectory": "S_sol",
           "upper": 2296611.55
          },
          {
           "lower": 2292642.2125,
           "timepoint": 21.5,
           "trajectory": "S_sol",
           "upper": 2296587.3875
          },
          {
           "lower": 2292569.0625,
           "timepoint": 21.600000381469727,
           "trajectory": "S_sol",
           "upper": 2296562.8375
          },
          {
           "lower": 2292492.0375,
           "timepoint": 21.700000762939453,
           "trajectory": "S_sol",
           "upper": 2296538.675
          },
          {
           "lower": 2292417.6625,
           "timepoint": 21.80000114440918,
           "trajectory": "S_sol",
           "upper": 2296513.875
          },
          {
           "lower": 2292342.675,
           "timepoint": 21.899999618530273,
           "trajectory": "S_sol",
           "upper": 2296489.325
          },
          {
           "lower": 2292266.9125,
           "timepoint": 22,
           "trajectory": "S_sol",
           "upper": 2296464.525
          },
          {
           "lower": 2292190.65,
           "timepoint": 22.100000381469727,
           "trajectory": "S_sol",
           "upper": 2296439.725
          },
          {
           "lower": 2292113.8875,
           "timepoint": 22.200000762939453,
           "trajectory": "S_sol",
           "upper": 2296414.5625
          },
          {
           "lower": 2292036.125,
           "timepoint": 22.30000114440918,
           "trajectory": "S_sol",
           "upper": 2296389.7875
          },
          {
           "lower": 2291958.225,
           "timepoint": 22.399999618530273,
           "trajectory": "S_sol",
           "upper": 2296364.4875
          },
          {
           "lower": 2291879.55,
           "timepoint": 22.5,
           "trajectory": "S_sol",
           "upper": 2296339.2125
          },
          {
           "lower": 2291800.2625,
           "timepoint": 22.600000381469727,
           "trajectory": "S_sol",
           "upper": 2296313.775
          },
          {
           "lower": 2291720.45,
           "timepoint": 22.700000762939453,
           "trajectory": "S_sol",
           "upper": 2296288.3625
          },
          {
           "lower": 2291639.6375,
           "timepoint": 22.80000114440918,
           "trajectory": "S_sol",
           "upper": 2296262.8125
          },
          {
           "lower": 2291558.55,
           "timepoint": 22.899999618530273,
           "trajectory": "S_sol",
           "upper": 2296236.875
          },
          {
           "lower": 2291478.225,
           "timepoint": 23,
           "trajectory": "S_sol",
           "upper": 2296211.2125
          },
          {
           "lower": 2291396.025,
           "timepoint": 23.100000381469727,
           "trajectory": "S_sol",
           "upper": 2296185.025
          },
          {
           "lower": 2291313.325,
           "timepoint": 23.200000762939453,
           "trajectory": "S_sol",
           "upper": 2296161.175
          },
          {
           "lower": 2291229.9875,
           "timepoint": 23.30000114440918,
           "trajectory": "S_sol",
           "upper": 2296135.15
          },
          {
           "lower": 2291145.7625,
           "timepoint": 23.399999618530273,
           "trajectory": "S_sol",
           "upper": 2296109.15
          },
          {
           "lower": 2291058.8375,
           "timepoint": 23.5,
           "trajectory": "S_sol",
           "upper": 2296083.125
          },
          {
           "lower": 2290972.8875,
           "timepoint": 23.600000381469727,
           "trajectory": "S_sol",
           "upper": 2296056.85
          },
          {
           "lower": 2290886.6875,
           "timepoint": 23.700000762939453,
           "trajectory": "S_sol",
           "upper": 2296030.575
          },
          {
           "lower": 2290799.85,
           "timepoint": 23.80000114440918,
           "trajectory": "S_sol",
           "upper": 2296004.2125
          },
          {
           "lower": 2290712.15,
           "timepoint": 23.899999618530273,
           "trajectory": "S_sol",
           "upper": 2295977.7125
          },
          {
           "lower": 2290623.675,
           "timepoint": 24,
           "trajectory": "S_sol",
           "upper": 2295951.1875
          },
          {
           "lower": 2290534.8375,
           "timepoint": 24.100000381469727,
           "trajectory": "S_sol",
           "upper": 2295924.4375
          },
          {
           "lower": 2290445.225,
           "timepoint": 24.200000762939453,
           "trajectory": "S_sol",
           "upper": 2295897.6625
          },
          {
           "lower": 2290354.725,
           "timepoint": 24.30000114440918,
           "trajectory": "S_sol",
           "upper": 2295870.6625
          },
          {
           "lower": 2290263.6125,
           "timepoint": 24.399999618530273,
           "trajectory": "S_sol",
           "upper": 2295843.6625
          },
          {
           "lower": 2290171.6125,
           "timepoint": 24.5,
           "trajectory": "S_sol",
           "upper": 2295816.6375
          },
          {
           "lower": 2290079.225,
           "timepoint": 24.600000381469727,
           "trajectory": "S_sol",
           "upper": 2295789.275
          },
          {
           "lower": 2289985.7,
           "timepoint": 24.700000762939453,
           "trajectory": "S_sol",
           "upper": 2295762.025
          },
          {
           "lower": 2289891.925,
           "timepoint": 24.80000114440918,
           "trajectory": "S_sol",
           "upper": 2295734.775
          },
          {
           "lower": 2289797.15,
           "timepoint": 24.899999618530273,
           "trajectory": "S_sol",
           "upper": 2295707.275
          },
          {
           "lower": 2289701.625,
           "timepoint": 25,
           "trajectory": "S_sol",
           "upper": 2295679.6375
          },
          {
           "lower": 2289605.6,
           "timepoint": 25.100000381469727,
           "trajectory": "S_sol",
           "upper": 2295652.05
          },
          {
           "lower": 2289508.55,
           "timepoint": 25.200000762939453,
           "trajectory": "S_sol",
           "upper": 2295624.1875
          },
          {
           "lower": 2289410.8625,
           "timepoint": 25.30000114440918,
           "trajectory": "S_sol",
           "upper": 2295596.3
          },
          {
           "lower": 2289311.3,
           "timepoint": 25.399999618530273,
           "trajectory": "S_sol",
           "upper": 2295568.1875
          },
          {
           "lower": 2289212,
           "timepoint": 25.5,
           "trajectory": "S_sol",
           "upper": 2295540.1875
          },
          {
           "lower": 2289111.925,
           "timepoint": 25.600000381469727,
           "trajectory": "S_sol",
           "upper": 2295512.075
          },
          {
           "lower": 2289010.85,
           "timepoint": 25.700000762939453,
           "trajectory": "S_sol",
           "upper": 2295484.95
          },
          {
           "lower": 2288909.1625,
           "timepoint": 25.80000114440918,
           "trajectory": "S_sol",
           "upper": 2295456.475
          },
          {
           "lower": 2288806.5625,
           "timepoint": 25.899999618530273,
           "trajectory": "S_sol",
           "upper": 2295428.1125
          },
          {
           "lower": 2288703.35,
           "timepoint": 26,
           "trajectory": "S_sol",
           "upper": 2295399.525
          },
          {
           "lower": 2288599.3625,
           "timepoint": 26.100000381469727,
           "trajectory": "S_sol",
           "upper": 2295370.9375
          },
          {
           "lower": 2288494.125,
           "timepoint": 26.200000762939453,
           "trajectory": "S_sol",
           "upper": 2295342.1
          },
          {
           "lower": 2288388.275,
           "timepoint": 26.30000114440918,
           "trajectory": "S_sol",
           "upper": 2295313.2375
          },
          {
           "lower": 2288281.625,
           "timepoint": 26.399999618530273,
           "trajectory": "S_sol",
           "upper": 2295284.15
          },
          {
           "lower": 2288175.7875,
           "timepoint": 26.5,
           "trajectory": "S_sol",
           "upper": 2295255.175
          },
          {
           "lower": 2288067.8,
           "timepoint": 26.600000381469727,
           "trajectory": "S_sol",
           "upper": 2295225.975
          },
          {
           "lower": 2287958.425,
           "timepoint": 26.700000762939453,
           "trajectory": "S_sol",
           "upper": 2295196.775
          },
          {
           "lower": 2287848.8,
           "timepoint": 26.80000114440918,
           "trajectory": "S_sol",
           "upper": 2295167.05
          },
          {
           "lower": 2287738.0375,
           "timepoint": 26.899999618530273,
           "trajectory": "S_sol",
           "upper": 2295137.7125
          },
          {
           "lower": 2287626.25,
           "timepoint": 27,
           "trajectory": "S_sol",
           "upper": 2295108.0125
          },
          {
           "lower": 2287513.9875,
           "timepoint": 27.100000381469727,
           "trajectory": "S_sol",
           "upper": 2295078.175
          },
          {
           "lower": 2287401.125,
           "timepoint": 27.200000762939453,
           "trajectory": "S_sol",
           "upper": 2295048.225
          },
          {
           "lower": 2287286.8125,
           "timepoint": 27.30000114440918,
           "trajectory": "S_sol",
           "upper": 2295018.3875
          },
          {
           "lower": 2287171.5,
           "timepoint": 27.399999618530273,
           "trajectory": "S_sol",
           "upper": 2294988.05
          },
          {
           "lower": 2287055.3,
           "timepoint": 27.5,
           "trajectory": "S_sol",
           "upper": 2294957.7375
          },
          {
           "lower": 2286938.35,
           "timepoint": 27.600000381469727,
           "trajectory": "S_sol",
           "upper": 2294927.5375
          },
          {
           "lower": 2286820.375,
           "timepoint": 27.700000762939453,
           "trajectory": "S_sol",
           "upper": 2294896.8375
          },
          {
           "lower": 2286701.375,
           "timepoint": 27.80000114440918,
           "trajectory": "S_sol",
           "upper": 2294866.25
          },
          {
           "lower": 2286581.375,
           "timepoint": 27.899999618530273,
           "trajectory": "S_sol",
           "upper": 2294835.4125
          },
          {
           "lower": 2286460.125,
           "timepoint": 28,
           "trajectory": "S_sol",
           "upper": 2294804.7125
          },
          {
           "lower": 2286338.1,
           "timepoint": 28.100000381469727,
           "trajectory": "S_sol",
           "upper": 2294773.5125
          },
          {
           "lower": 2286215.05,
           "timepoint": 28.200000762939453,
           "trajectory": "S_sol",
           "upper": 2294742.425
          },
          {
           "lower": 2286095.7875,
           "timepoint": 28.30000114440918,
           "trajectory": "S_sol",
           "upper": 2294710.975
          },
          {
           "lower": 2285971.2875,
           "timepoint": 28.399999618530273,
           "trajectory": "S_sol",
           "upper": 2294679.6375
          },
          {
           "lower": 2285846.0375,
           "timepoint": 28.5,
           "trajectory": "S_sol",
           "upper": 2294648.3
          },
          {
           "lower": 2285719.7625,
           "timepoint": 28.600000381469727,
           "trajectory": "S_sol",
           "upper": 2294620.3125
          },
          {
           "lower": 2285592.5125,
           "timepoint": 28.700000762939453,
           "trajectory": "S_sol",
           "upper": 2294588.8
          },
          {
           "lower": 2285464.1,
           "timepoint": 28.80000114440918,
           "trajectory": "S_sol",
           "upper": 2294557.125
          },
          {
           "lower": 2285335.075,
           "timepoint": 28.899999618530273,
           "trajectory": "S_sol",
           "upper": 2294525.5875
          },
          {
           "lower": 2285204.6375,
           "timepoint": 29,
           "trajectory": "S_sol",
           "upper": 2294493.8
          },
          {
           "lower": 2285074.4375,
           "timepoint": 29.100000381469727,
           "trajectory": "S_sol",
           "upper": 2294461.9
          },
          {
           "lower": 2284942.225,
           "timepoint": 29.200000762939453,
           "trajectory": "S_sol",
           "upper": 2294429.8625
          },
          {
           "lower": 2284808.875,
           "timepoint": 29.30000114440918,
           "trajectory": "S_sol",
           "upper": 2294397.7125
          },
          {
           "lower": 2284674.525,
           "timepoint": 29.399999618530273,
           "trajectory": "S_sol",
           "upper": 2294365.5875
          },
          {
           "lower": 2284538.7625,
           "timepoint": 29.5,
           "trajectory": "S_sol",
           "upper": 2294333.1875
          },
          {
           "lower": 2284402.3875,
           "timepoint": 29.600000381469727,
           "trajectory": "S_sol",
           "upper": 2294300.7875
          },
          {
           "lower": 2284264.4875,
           "timepoint": 29.700000762939453,
           "trajectory": "S_sol",
           "upper": 2294268.275
          },
          {
           "lower": 2284125.5875,
           "timepoint": 29.80000114440918,
           "trajectory": "S_sol",
           "upper": 2294235.65
          },
          {
           "lower": 2283985.9125,
           "timepoint": 29.899999618530273,
           "trajectory": "S_sol",
           "upper": 2294202.75
          },
          {
           "lower": 2283844.4625,
           "timepoint": 30,
           "trajectory": "S_sol",
           "upper": 2294169.875
          },
          {
           "lower": 2283706,
           "timepoint": 30.100000381469727,
           "trajectory": "S_sol",
           "upper": 2294136.8625
          },
          {
           "lower": 2283563.325,
           "timepoint": 30.200000762939453,
           "trajectory": "S_sol",
           "upper": 2294103.625
          },
          {
           "lower": 2283419.2875,
           "timepoint": 30.30000114440918,
           "trajectory": "S_sol",
           "upper": 2294070.3875
          },
          {
           "lower": 2283274.3625,
           "timepoint": 30.399999618530273,
           "trajectory": "S_sol",
           "upper": 2294037.0125
          },
          {
           "lower": 2283128.55,
           "timepoint": 30.5,
           "trajectory": "S_sol",
           "upper": 2294003.6625
          },
          {
           "lower": 2282981.125,
           "timepoint": 30.600000381469727,
           "trajectory": "S_sol",
           "upper": 2293970.0375
          },
          {
           "lower": 2282832.925,
           "timepoint": 30.700000762939453,
           "trajectory": "S_sol",
           "upper": 2293936.4375
          },
          {
           "lower": 2282683.475,
           "timepoint": 30.80000114440918,
           "trajectory": "S_sol",
           "upper": 2293902.7
          },
          {
           "lower": 2282533.1375,
           "timepoint": 30.899999618530273,
           "trajectory": "S_sol",
           "upper": 2293868.85
          },
          {
           "lower": 2282382.1125,
           "timepoint": 31,
           "trajectory": "S_sol",
           "upper": 2293834.75
          },
          {
           "lower": 2282229.6125,
           "timepoint": 31.100000381469727,
           "trajectory": "S_sol",
           "upper": 2293800.9625
          },
          {
           "lower": 2282076.025,
           "timepoint": 31.200000762939453,
           "trajectory": "S_sol",
           "upper": 2293766.75
          },
          {
           "lower": 2281921.025,
           "timepoint": 31.30000114440918,
           "trajectory": "S_sol",
           "upper": 2293732.4
          },
          {
           "lower": 2281765.05,
           "timepoint": 31.399999618530273,
           "trajectory": "S_sol",
           "upper": 2293697.9625
          },
          {
           "lower": 2281607.9125,
           "timepoint": 31.5,
           "trajectory": "S_sol",
           "upper": 2293663.3625
          },
          {
           "lower": 2281449.6875,
           "timepoint": 31.600000381469727,
           "trajectory": "S_sol",
           "upper": 2293628.675
          },
          {
           "lower": 2281290.3,
           "timepoint": 31.700000762939453,
           "trajectory": "S_sol",
           "upper": 2293590.9375
          },
          {
           "lower": 2281129.55,
           "timepoint": 31.80000114440918,
           "trajectory": "S_sol",
           "upper": 2293555.6125
          },
          {
           "lower": 2280961.2875,
           "timepoint": 31.899999618530273,
           "trajectory": "S_sol",
           "upper": 2293520.4
          },
          {
           "lower": 2280797.4375,
           "timepoint": 32,
           "trajectory": "S_sol",
           "upper": 2293484.9375
          },
          {
           "lower": 2280632.3125,
           "timepoint": 32.10000228881836,
           "trajectory": "S_sol",
           "upper": 2293449.225
          },
          {
           "lower": 2280465.9375,
           "timepoint": 32.20000076293945,
           "trajectory": "S_sol",
           "upper": 2293413.65
          },
          {
           "lower": 2280298.2875,
           "timepoint": 32.29999923706055,
           "trajectory": "S_sol",
           "upper": 2293377.825
          },
          {
           "lower": 2280129.1625,
           "timepoint": 32.400001525878906,
           "trajectory": "S_sol",
           "upper": 2293341.775
          },
          {
           "lower": 2279958.9875,
           "timepoint": 32.5,
           "trajectory": "S_sol",
           "upper": 2293305.675
          },
          {
           "lower": 2279786.775,
           "timepoint": 32.60000228881836,
           "trajectory": "S_sol",
           "upper": 2293269.2625
          },
          {
           "lower": 2279613.7125,
           "timepoint": 32.70000076293945,
           "trajectory": "S_sol",
           "upper": 2293232.825
          },
          {
           "lower": 2279439.675,
           "timepoint": 32.79999923706055,
           "trajectory": "S_sol",
           "upper": 2293196.275
          },
          {
           "lower": 2279263.95,
           "timepoint": 32.900001525878906,
           "trajectory": "S_sol",
           "upper": 2293159.475
          },
          {
           "lower": 2279087.1375,
           "timepoint": 33,
           "trajectory": "S_sol",
           "upper": 2293122.8125
          },
          {
           "lower": 2278908.9125,
           "timepoint": 33.10000228881836,
           "trajectory": "S_sol",
           "upper": 2293085.7625
          },
          {
           "lower": 2278729.3,
           "timepoint": 33.20000076293945,
           "trajectory": "S_sol",
           "upper": 2293048.35
          },
          {
           "lower": 2278548.4375,
           "timepoint": 33.29999923706055,
           "trajectory": "S_sol",
           "upper": 2293011.1875
          },
          {
           "lower": 2278366.3,
           "timepoint": 33.400001525878906,
           "trajectory": "S_sol",
           "upper": 2292973.55
          },
          {
           "lower": 2278182.4125,
           "timepoint": 33.5,
           "trajectory": "S_sol",
           "upper": 2292936.025
          },
          {
           "lower": 2277995.7125,
           "timepoint": 33.60000228881836,
           "trajectory": "S_sol",
           "upper": 2292898.25
          },
          {
           "lower": 2277809.1375,
           "timepoint": 33.70000076293945,
           "trajectory": "S_sol",
           "upper": 2292860.3875
          },
          {
           "lower": 2277620.95,
           "timepoint": 33.79999923706055,
           "trajectory": "S_sol",
           "upper": 2292825.5125
          },
          {
           "lower": 2277431.4375,
           "timepoint": 33.900001525878906,
           "trajectory": "S_sol",
           "upper": 2292787.7125
          },
          {
           "lower": 2277240.675,
           "timepoint": 34,
           "trajectory": "S_sol",
           "upper": 2292749.6875
          },
          {
           "lower": 2277048.3,
           "timepoint": 34.10000228881836,
           "trajectory": "S_sol",
           "upper": 2292711.4125
          },
          {
           "lower": 2276854.65,
           "timepoint": 34.20000076293945,
           "trajectory": "S_sol",
           "upper": 2292673.25
          },
          {
           "lower": 2276657.925,
           "timepoint": 34.29999923706055,
           "trajectory": "S_sol",
           "upper": 2292634.8625
          },
          {
           "lower": 2276461.1625,
           "timepoint": 34.400001525878906,
           "trajectory": "S_sol",
           "upper": 2292596.2
          },
          {
           "lower": 2276262.7625,
           "timepoint": 34.5,
           "trajectory": "S_sol",
           "upper": 2292557.425
          },
          {
           "lower": 2276062.975,
           "timepoint": 34.60000228881836,
           "trajectory": "S_sol",
           "upper": 2292518.5375
          },
          {
           "lower": 2275861.9375,
           "timepoint": 34.70000076293945,
           "trajectory": "S_sol",
           "upper": 2292479.65
          },
          {
           "lower": 2275659.125,
           "timepoint": 34.79999923706055,
           "trajectory": "S_sol",
           "upper": 2292440.375
          },
          {
           "lower": 2275455.0625,
           "timepoint": 34.900001525878906,
           "trajectory": "S_sol",
           "upper": 2292401.2375
          },
          {
           "lower": 2275249.5,
           "timepoint": 35,
           "trajectory": "S_sol",
           "upper": 2292361.7375
          },
          {
           "lower": 2275042.4125,
           "timepoint": 35.10000228881836,
           "trajectory": "S_sol",
           "upper": 2292322.1
          },
          {
           "lower": 2274829.4,
           "timepoint": 35.20000076293945,
           "trajectory": "S_sol",
           "upper": 2292282.6
          },
          {
           "lower": 2274618.4875,
           "timepoint": 35.29999923706055,
           "trajectory": "S_sol",
           "upper": 2292242.85
          },
          {
           "lower": 2274405.9125,
           "timepoint": 35.400001525878906,
           "trajectory": "S_sol",
           "upper": 2292202.7125
          },
          {
           "lower": 2274191.7,
           "timepoint": 35.5,
           "trajectory": "S_sol",
           "upper": 2292162.7125
          },
          {
           "lower": 2273975.7125,
           "timepoint": 35.60000228881836,
           "trajectory": "S_sol",
           "upper": 2292122.2125
          },
          {
           "lower": 2273758.475,
           "timepoint": 35.70000076293945,
           "trajectory": "S_sol",
           "upper": 2292081.9625
          },
          {
           "lower": 2273539.2125,
           "timepoint": 35.79999923706055,
           "trajectory": "S_sol",
           "upper": 2292041.35
          },
          {
           "lower": 2273318.2875,
           "timepoint": 35.900001525878906,
           "trajectory": "S_sol",
           "upper": 2292000.7375
          },
          {
           "lower": 2273094.15,
           "timepoint": 36,
           "trajectory": "S_sol",
           "upper": 2291959.7375
          },
          {
           "lower": 2272869.8375,
           "timepoint": 36.10000228881836,
           "trajectory": "S_sol",
           "upper": 2291918.9
          },
          {
           "lower": 2272643.775,
           "timepoint": 36.20000076293945,
           "trajectory": "S_sol",
           "upper": 2291877.625
          },
          {
           "lower": 2272415.55,
           "timepoint": 36.29999923706055,
           "trajectory": "S_sol",
           "upper": 2291836.5375
          },
          {
           "lower": 2272186.05,
           "timepoint": 36.400001525878906,
           "trajectory": "S_sol",
           "upper": 2291795.0375
          },
          {
           "lower": 2271954.575,
           "timepoint": 36.5,
           "trajectory": "S_sol",
           "upper": 2291752.075
          },
          {
           "lower": 2271721.55,
           "timepoint": 36.60000228881836,
           "trajectory": "S_sol",
           "upper": 2291710.35
          },
          {
           "lower": 2271486.6125,
           "timepoint": 36.70000076293945,
           "trajectory": "S_sol",
           "upper": 2291668.15
          },
          {
           "lower": 2271251.875,
           "timepoint": 36.79999923706055,
           "trajectory": "S_sol",
           "upper": 2291625.925
          },
          {
           "lower": 2271013.4375,
           "timepoint": 36.900001525878906,
           "trajectory": "S_sol",
           "upper": 2291583.725
          },
          {
           "lower": 2270773.3875,
           "timepoint": 37,
           "trajectory": "S_sol",
           "upper": 2291541.1375
          },
          {
           "lower": 2270531.4,
           "timepoint": 37.10000228881836,
           "trajectory": "S_sol",
           "upper": 2291498.1625
          },
          {
           "lower": 2270287.775,
           "timepoint": 37.20000076293945,
           "trajectory": "S_sol",
           "upper": 2291455.4625
          },
          {
           "lower": 2270041.9,
           "timepoint": 37.29999923706055,
           "trajectory": "S_sol",
           "upper": 2291414.85
          },
          {
           "lower": 2269794.3625,
           "timepoint": 37.400001525878906,
           "trajectory": "S_sol",
           "upper": 2291371.7875
          },
          {
           "lower": 2269544.9125,
           "timepoint": 37.5,
           "trajectory": "S_sol",
           "upper": 2291328.6375
          },
          {
           "lower": 2269293.625,
           "timepoint": 37.60000228881836,
           "trajectory": "S_sol",
           "upper": 2291285.4375
          },
          {
           "lower": 2269039.5875,
           "timepoint": 37.70000076293945,
           "trajectory": "S_sol",
           "upper": 2291241.7875
          },
          {
           "lower": 2268784.25,
           "timepoint": 37.79999923706055,
           "trajectory": "S_sol",
           "upper": 2291198.3625
          },
          {
           "lower": 2268526.975,
           "timepoint": 37.900001525878906,
           "trajectory": "S_sol",
           "upper": 2291154.4625
          },
          {
           "lower": 2268267.7,
           "timepoint": 38,
           "trajectory": "S_sol",
           "upper": 2291110.5375
          },
          {
           "lower": 2268006.5125,
           "timepoint": 38.10000228881836,
           "trajectory": "S_sol",
           "upper": 2291066.525
          },
          {
           "lower": 2267743.05,
           "timepoint": 38.20000076293945,
           "trajectory": "S_sol",
           "upper": 2291022.375
          },
          {
           "lower": 2267478.0625,
           "timepoint": 38.29999923706055,
           "trajectory": "S_sol",
           "upper": 2290977.8625
          },
          {
           "lower": 2267212.8875,
           "timepoint": 38.400001525878906,
           "trajectory": "S_sol",
           "upper": 2290933.2125
          },
          {
           "lower": 2266943.875,
           "timepoint": 38.5,
           "trajectory": "S_sol",
           "upper": 2290888.45
          },
          {
           "lower": 2266672.8625,
           "timepoint": 38.60000228881836,
           "trajectory": "S_sol",
           "upper": 2290843.575
          },
          {
           "lower": 2266399.9375,
           "timepoint": 38.70000076293945,
           "trajectory": "S_sol",
           "upper": 2290798.5625
          },
          {
           "lower": 2266124.9875,
           "timepoint": 38.79999923706055,
           "trajectory": "S_sol",
           "upper": 2290753.1875
          },
          {
           "lower": 2265848.0125,
           "timepoint": 38.900001525878906,
           "trajectory": "S_sol",
           "upper": 2290707.8375
          },
          {
           "lower": 2265568.9,
           "timepoint": 39,
           "trajectory": "S_sol",
           "upper": 2290662.1
          },
          {
           "lower": 2265287.65,
           "timepoint": 39.10000228881836,
           "trajectory": "S_sol",
           "upper": 2290616.3625
          },
          {
           "lower": 2265004.6,
           "timepoint": 39.20000076293945,
           "trajectory": "S_sol",
           "upper": 2290571.4125
          },
          {
           "lower": 2264719.1875,
           "timepoint": 39.29999923706055,
           "trajectory": "S_sol",
           "upper": 2290525.5375
          },
          {
           "lower": 2264431.975,
           "timepoint": 39.400001525878906,
           "trajectory": "S_sol",
           "upper": 2290479.1875
          },
          {
           "lower": 2264138.4125,
           "timepoint": 39.5,
           "trajectory": "S_sol",
           "upper": 2290432.95
          },
          {
           "lower": 2263846.5875,
           "timepoint": 39.60000228881836,
           "trajectory": "S_sol",
           "upper": 2290386.4875
          },
          {
           "lower": 2263551.9875,
           "timepoint": 39.70000076293945,
           "trajectory": "S_sol",
           "upper": 2290339.8875
          },
          {
           "lower": 2263255.3875,
           "timepoint": 39.79999923706055,
           "trajectory": "S_sol",
           "upper": 2290293.0625
          },
          {
           "lower": 2262954.8125,
           "timepoint": 39.900001525878906,
           "trajectory": "S_sol",
           "upper": 2290245.9875
          },
          {
           "lower": 2262653.5,
           "timepoint": 40,
           "trajectory": "S_sol",
           "upper": 2290198.8875
          },
          {
           "lower": 2262349.8,
           "timepoint": 40.099998474121094,
           "trajectory": "S_sol",
           "upper": 2290151.45
          },
          {
           "lower": 2262043.825,
           "timepoint": 40.20000076293945,
           "trajectory": "S_sol",
           "upper": 2290103.85
          },
          {
           "lower": 2261735.575,
           "timepoint": 40.29999923706055,
           "trajectory": "S_sol",
           "upper": 2290056.05
          },
          {
           "lower": 2261424.8,
           "timepoint": 40.39999771118164,
           "trajectory": "S_sol",
           "upper": 2290008.1125
          },
          {
           "lower": 2261111.725,
           "timepoint": 40.5,
           "trajectory": "S_sol",
           "upper": 2289959.925
          },
          {
           "lower": 2260796.0375,
           "timepoint": 40.599998474121094,
           "trajectory": "S_sol",
           "upper": 2289911.5125
          },
          {
           "lower": 2260478.1875,
           "timepoint": 40.70000076293945,
           "trajectory": "S_sol",
           "upper": 2289863.1
          },
          {
           "lower": 2260157.45,
           "timepoint": 40.79999923706055,
           "trajectory": "S_sol",
           "upper": 2289814.325
          },
          {
           "lower": 2259834.3,
           "timepoint": 40.89999771118164,
           "trajectory": "S_sol",
           "upper": 2289765.4125
          },
          {
           "lower": 2259510.675,
           "timepoint": 41,
           "trajectory": "S_sol",
           "upper": 2289716.275
          },
          {
           "lower": 2259182.9,
           "timepoint": 41.099998474121094,
           "trajectory": "S_sol",
           "upper": 2289667.1125
          },
          {
           "lower": 2258852.375,
           "timepoint": 41.20000076293945,
           "trajectory": "S_sol",
           "upper": 2289617.5
          },
          {
           "lower": 2258519.55,
           "timepoint": 41.29999923706055,
           "trajectory": "S_sol",
           "upper": 2289567.75
          },
          {
           "lower": 2258184.2,
           "timepoint": 41.39999771118164,
           "trajectory": "S_sol",
           "upper": 2289518
          },
          {
           "lower": 2257851.4125,
           "timepoint": 41.5,
           "trajectory": "S_sol",
           "upper": 2289467.775
          },
          {
           "lower": 2257511.7,
           "timepoint": 41.599998474121094,
           "trajectory": "S_sol",
           "upper": 2289420.9
          },
          {
           "lower": 2257169.7125,
           "timepoint": 41.70000076293945,
           "trajectory": "S_sol",
           "upper": 2289370.7625
          },
          {
           "lower": 2256824.675,
           "timepoint": 41.79999923706055,
           "trajectory": "S_sol",
           "upper": 2289320.625
          },
          {
           "lower": 2256477.5,
           "timepoint": 41.89999771118164,
           "trajectory": "S_sol",
           "upper": 2289270.1
          },
          {
           "lower": 2256127.4375,
           "timepoint": 42,
           "trajectory": "S_sol",
           "upper": 2289219.35
          },
          {
           "lower": 2255774.825,
           "timepoint": 42.099998474121094,
           "trajectory": "S_sol",
           "upper": 2289168.7375
          },
          {
           "lower": 2255419.4125,
           "timepoint": 42.20000076293945,
           "trajectory": "S_sol",
           "upper": 2289117.7375
          },
          {
           "lower": 2255061.5,
           "timepoint": 42.29999923706055,
           "trajectory": "S_sol",
           "upper": 2289066.4875
          },
          {
           "lower": 2254700.9,
           "timepoint": 42.39999771118164,
           "trajectory": "S_sol",
           "upper": 2289015.2625
          },
          {
           "lower": 2254336.15,
           "timepoint": 42.5,
           "trajectory": "S_sol",
           "upper": 2288963.65
          },
          {
           "lower": 2253969.775,
           "timepoint": 42.599998474121094,
           "trajectory": "S_sol",
           "upper": 2288911.925
          },
          {
           "lower": 2253600.4625,
           "timepoint": 42.70000076293945,
           "trajectory": "S_sol",
           "upper": 2288859.7875
          },
          {
           "lower": 2253228.375,
           "timepoint": 42.79999923706055,
           "trajectory": "S_sol",
           "upper": 2288807.5875
          },
          {
           "lower": 2252853.625,
           "timepoint": 42.89999771118164,
           "trajectory": "S_sol",
           "upper": 2288755.3625
          },
          {
           "lower": 2252475.6875,
           "timepoint": 43,
           "trajectory": "S_sol",
           "upper": 2288702.9125
          },
          {
           "lower": 2252099.4,
           "timepoint": 43.099998474121094,
           "trajectory": "S_sol",
           "upper": 2288650.1875
          },
          {
           "lower": 2251716.7125,
           "timepoint": 43.20000076293945,
           "trajectory": "S_sol",
           "upper": 2288597.35
          },
          {
           "lower": 2251331.1375,
           "timepoint": 43.29999923706055,
           "trajectory": "S_sol",
           "upper": 2288544.2875
          },
          {
           "lower": 2250942.7625,
           "timepoint": 43.39999771118164,
           "trajectory": "S_sol",
           "upper": 2288490.95
          },
          {
           "lower": 2250551.6375,
           "timepoint": 43.5,
           "trajectory": "S_sol",
           "upper": 2288437.6375
          },
          {
           "lower": 2250157.6,
           "timepoint": 43.599998474121094,
           "trajectory": "S_sol",
           "upper": 2288384.05
          },
          {
           "lower": 2249760.65,
           "timepoint": 43.70000076293945,
           "trajectory": "S_sol",
           "upper": 2288330.2375
          },
          {
           "lower": 2249360.5375,
           "timepoint": 43.79999923706055,
           "trajectory": "S_sol",
           "upper": 2288276.0375
          },
          {
           "lower": 2248957.9,
           "timepoint": 43.89999771118164,
           "trajectory": "S_sol",
           "upper": 2288221.8625
          },
          {
           "lower": 2248550.5,
           "timepoint": 44,
           "trajectory": "S_sol",
           "upper": 2288167.55
          },
          {
           "lower": 2248141.425,
           "timepoint": 44.099998474121094,
           "trajectory": "S_sol",
           "upper": 2288112.5625
          },
          {
           "lower": 2247729.4625,
           "timepoint": 44.20000076293945,
           "trajectory": "S_sol",
           "upper": 2288057.5
          },
          {
           "lower": 2247314.3625,
           "timepoint": 44.29999923706055,
           "trajectory": "S_sol",
           "upper": 2288002.35
          },
          {
           "lower": 2246896.325,
           "timepoint": 44.39999771118164,
           "trajectory": "S_sol",
           "upper": 2287947.0625
          },
          {
           "lower": 2246473.6375,
           "timepoint": 44.5,
           "trajectory": "S_sol",
           "upper": 2287891.525
          },
          {
           "lower": 2246049.025,
           "timepoint": 44.599998474121094,
           "trajectory": "S_sol",
           "upper": 2287835.875
          },
          {
           "lower": 2245621.5,
           "timepoint": 44.70000076293945,
           "trajectory": "S_sol",
           "upper": 2287779.6375
          },
          {
           "lower": 2245190.5625,
           "timepoint": 44.79999923706055,
           "trajectory": "S_sol",
           "upper": 2287723.4875
          },
          {
           "lower": 2244756.35,
           "timepoint": 44.89999771118164,
           "trajectory": "S_sol",
           "upper": 2287666.95
          },
          {
           "lower": 2244319.1125,
           "timepoint": 45,
           "trajectory": "S_sol",
           "upper": 2287610.2125
          },
          {
           "lower": 2243878.325,
           "timepoint": 45.099998474121094,
           "trajectory": "S_sol",
           "upper": 2287553.3375
          },
          {
           "lower": 2243434.4,
           "timepoint": 45.20000076293945,
           "trajectory": "S_sol",
           "upper": 2287496.075
          },
          {
           "lower": 2242987.0375,
           "timepoint": 45.29999923706055,
           "trajectory": "S_sol",
           "upper": 2287441.5875
          },
          {
           "lower": 2242536.5375,
           "timepoint": 45.39999771118164,
           "trajectory": "S_sol",
           "upper": 2287384.125
          },
          {
           "lower": 2242083.1625,
           "timepoint": 45.5,
           "trajectory": "S_sol",
           "upper": 2287326.6875
          },
          {
           "lower": 2241625.925,
           "timepoint": 45.599998474121094,
           "trajectory": "S_sol",
           "upper": 2287269.1125
          },
          {
           "lower": 2241165.1375,
           "timepoint": 45.70000076293945,
           "trajectory": "S_sol",
           "upper": 2287210.925
          },
          {
           "lower": 2240701.1875,
           "timepoint": 45.79999923706055,
           "trajectory": "S_sol",
           "upper": 2287152.7375
          },
          {
           "lower": 2240235.6375,
           "timepoint": 45.89999771118164,
           "trajectory": "S_sol",
           "upper": 2287094.325
          },
          {
           "lower": 2239765.025,
           "timepoint": 46,
           "trajectory": "S_sol",
           "upper": 2287035.3875
          },
          {
           "lower": 2239291.1375,
           "timepoint": 46.099998474121094,
           "trajectory": "S_sol",
           "upper": 2286976.6125
          },
          {
           "lower": 2238813.675,
           "timepoint": 46.20000076293945,
           "trajectory": "S_sol",
           "upper": 2286917.5875
          },
          {
           "lower": 2238332.6875,
           "timepoint": 46.29999923706055,
           "trajectory": "S_sol",
           "upper": 2286857.95
          },
          {
           "lower": 2237848.15,
           "timepoint": 46.39999771118164,
           "trajectory": "S_sol",
           "upper": 2286798.175
          },
          {
           "lower": 2237360.175,
           "timepoint": 46.5,
           "trajectory": "S_sol",
           "upper": 2286742.25
          },
          {
           "lower": 2236868.5625,
           "timepoint": 46.599998474121094,
           "trajectory": "S_sol",
           "upper": 2286682.45
          },
          {
           "lower": 2236372.875,
           "timepoint": 46.70000076293945,
           "trajectory": "S_sol",
           "upper": 2286622.425
          },
          {
           "lower": 2235874.1375,
           "timepoint": 46.79999923706055,
           "trajectory": "S_sol",
           "upper": 2286562.2375
          },
          {
           "lower": 2235371.35,
           "timepoint": 46.89999771118164,
           "trajectory": "S_sol",
           "upper": 2286501.9625
          },
          {
           "lower": 2234865.0125,
           "timepoint": 47,
           "trajectory": "S_sol",
           "upper": 2286441.1625
          },
          {
           "lower": 2234352.375,
           "timepoint": 47.099998474121094,
           "trajectory": "S_sol",
           "upper": 2286380.275
          },
          {
           "lower": 2233837.9875,
           "timepoint": 47.20000076293945,
           "trajectory": "S_sol",
           "upper": 2286319.1375
          },
          {
           "lower": 2233323.9,
           "timepoint": 47.29999923706055,
           "trajectory": "S_sol",
           "upper": 2286257.8625
          },
          {
           "lower": 2232802.625,
           "timepoint": 47.39999771118164,
           "trajectory": "S_sol",
           "upper": 2286196.225
          },
          {
           "lower": 2232277.8,
           "timepoint": 47.5,
           "trajectory": "S_sol",
           "upper": 2286134.5625
          },
          {
           "lower": 2231748.7875,
           "timepoint": 47.599998474121094,
           "trajectory": "S_sol",
           "upper": 2286072.5375
          },
          {
           "lower": 2231216.25,
           "timepoint": 47.70000076293945,
           "trajectory": "S_sol",
           "upper": 2286010.2875
          },
          {
           "lower": 2230679.775,
           "timepoint": 47.79999923706055,
           "trajectory": "S_sol",
           "upper": 2285947.4
          },
          {
           "lower": 2230139.525,
           "timepoint": 47.89999771118164,
           "trajectory": "S_sol",
           "upper": 2285887.5125
          },
          {
           "lower": 2229595.225,
           "timepoint": 48,
           "trajectory": "S_sol",
           "upper": 2285824.675
          },
          {
           "lower": 2229047.15,
           "timepoint": 48.099998474121094,
           "trajectory": "S_sol",
           "upper": 2285761.95
          },
          {
           "lower": 2228495.25,
           "timepoint": 48.19999694824219,
           "trajectory": "S_sol",
           "upper": 2285698.8625
          },
          {
           "lower": 2227939.1875,
           "timepoint": 48.29999923706055,
           "trajectory": "S_sol",
           "upper": 2285635.6625
          },
          {
           "lower": 2227379.35,
           "timepoint": 48.400001525878906,
           "trajectory": "S_sol",
           "upper": 2285571.875
          },
          {
           "lower": 2226815.325,
           "timepoint": 48.5,
           "trajectory": "S_sol",
           "upper": 2285508.2875
          },
          {
           "lower": 2226246.6,
           "timepoint": 48.599998474121094,
           "trajectory": "S_sol",
           "upper": 2285444.225
          },
          {
           "lower": 2225672.4625,
           "timepoint": 48.69999694824219,
           "trajectory": "S_sol",
           "upper": 2285380.1625
          },
          {
           "lower": 2225095.675,
           "timepoint": 48.79999923706055,
           "trajectory": "S_sol",
           "upper": 2285315.7375
          },
          {
           "lower": 2224514.8625,
           "timepoint": 48.900001525878906,
           "trajectory": "S_sol",
           "upper": 2285251.3125
          },
          {
           "lower": 2223929.95,
           "timepoint": 49,
           "trajectory": "S_sol",
           "upper": 2285185.0375
          },
          {
           "lower": 2223340.65,
           "timepoint": 49.099998474121094,
           "trajectory": "S_sol",
           "upper": 2285119.775
          },
          {
           "lower": 2222747.2125,
           "timepoint": 49.19999694824219,
           "trajectory": "S_sol",
           "upper": 2285054.4
          },
          {
           "lower": 2222149.45,
           "timepoint": 49.29999923706055,
           "trajectory": "S_sol",
           "upper": 2284988.775
          },
          {
           "lower": 2221547.5,
           "timepoint": 49.400001525878906,
           "trajectory": "S_sol",
           "upper": 2284923.0125
          },
          {
           "lower": 2220941.1375,
           "timepoint": 49.5,
           "trajectory": "S_sol",
           "upper": 2284856.75
          },
          {
           "lower": 2220330.225,
           "timepoint": 49.599998474121094,
           "trajectory": "S_sol",
           "upper": 2284790.5125
          },
          {
           "lower": 2219715.0375,
           "timepoint": 49.69999694824219,
           "trajectory": "S_sol",
           "upper": 2284724.025
          },
          {
           "lower": 2219095.4125,
           "timepoint": 49.79999923706055,
           "trajectory": "S_sol",
           "upper": 2284657.3125
          },
          {
           "lower": 2218471.125,
           "timepoint": 49.900001525878906,
           "trajectory": "S_sol",
           "upper": 2284590.35
          },
          {
           "lower": 2217843.4375,
           "timepoint": 50,
           "trajectory": "S_sol",
           "upper": 2284523.1375
          },
          {
           "lower": 2217209.5875,
           "timepoint": 50.099998474121094,
           "trajectory": "S_sol",
           "upper": 2284455.7875
          },
          {
           "lower": 2216572.2375,
           "timepoint": 50.19999694824219,
           "trajectory": "S_sol",
           "upper": 2284388.1
          },
          {
           "lower": 2215930.225,
           "timepoint": 50.29999923706055,
           "trajectory": "S_sol",
           "upper": 2284320.4125
          },
          {
           "lower": 2215283.3875,
           "timepoint": 50.400001525878906,
           "trajectory": "S_sol",
           "upper": 2284252.225
          },
          {
           "lower": 2214632.3,
           "timepoint": 50.5,
           "trajectory": "S_sol",
           "upper": 2284181.7
          },
          {
           "lower": 2213976.475,
           "timepoint": 50.599998474121094,
           "trajectory": "S_sol",
           "upper": 2284113.0125
          },
          {
           "lower": 2213316.125,
           "timepoint": 50.69999694824219,
           "trajectory": "S_sol",
           "upper": 2284043.9625
          },
          {
           "lower": 2212650.95,
           "timepoint": 50.79999923706055,
           "trajectory": "S_sol",
           "upper": 2283974.8875
          },
          {
           "lower": 2211981.1125,
           "timepoint": 50.900001525878906,
           "trajectory": "S_sol",
           "upper": 2283905.3375
          },
          {
           "lower": 2211306.475,
           "timepoint": 51,
           "trajectory": "S_sol",
           "upper": 2283835.675
          },
          {
           "lower": 2210627.4,
           "timepoint": 51.099998474121094,
           "trajectory": "S_sol",
           "upper": 2283765.7625
          },
          {
           "lower": 2209943.275,
           "timepoint": 51.19999694824219,
           "trajectory": "S_sol",
           "upper": 2283695.6
          },
          {
           "lower": 2209253.3125,
           "timepoint": 51.29999923706055,
           "trajectory": "S_sol",
           "upper": 2283625.1875
          },
          {
           "lower": 2208559.45,
           "timepoint": 51.400001525878906,
           "trajectory": "S_sol",
           "upper": 2283553.3125
          },
          {
           "lower": 2207860.5375,
           "timepoint": 51.5,
           "trajectory": "S_sol",
           "upper": 2283482.175
          },
          {
           "lower": 2207155.5875,
           "timepoint": 51.599998474121094,
           "trajectory": "S_sol",
           "upper": 2283410.8125
          },
          {
           "lower": 2206446.825,
           "timepoint": 51.69999694824219,
           "trajectory": "S_sol",
           "upper": 2283339.2
          },
          {
           "lower": 2205732.85,
           "timepoint": 51.79999923706055,
           "trajectory": "S_sol",
           "upper": 2283267.6125
          },
          {
           "lower": 2205013.9875,
           "timepoint": 51.900001525878906,
           "trajectory": "S_sol",
           "upper": 2283195.6125
          },
          {
           "lower": 2204289.8875,
           "timepoint": 52,
           "trajectory": "S_sol",
           "upper": 2283123.275
          },
          {
           "lower": 2203561.125,
           "timepoint": 52.099998474121094,
           "trajectory": "S_sol",
           "upper": 2283050.6875
          },
          {
           "lower": 2202827.0625,
           "timepoint": 52.19999694824219,
           "trajectory": "S_sol",
           "upper": 2282977.875
          },
          {
           "lower": 2202087.9,
           "timepoint": 52.29999923706055,
           "trajectory": "S_sol",
           "upper": 2282904.8125
          },
          {
           "lower": 2201343.35,
           "timepoint": 52.400001525878906,
           "trajectory": "S_sol",
           "upper": 2282831.25
          },
          {
           "lower": 2200593.95,
           "timepoint": 52.5,
           "trajectory": "S_sol",
           "upper": 2282757.6875
          },
          {
           "lower": 2199839.3875,
           "timepoint": 52.599998474121094,
           "trajectory": "S_sol",
           "upper": 2282683.65
          },
          {
           "lower": 2199077.675,
           "timepoint": 52.69999694824219,
           "trajectory": "S_sol",
           "upper": 2282609.75
          },
          {
           "lower": 2198312.125,
           "timepoint": 52.79999923706055,
           "trajectory": "S_sol",
           "upper": 2282535.4625
          },
          {
           "lower": 2197541.275,
           "timepoint": 52.900001525878906,
           "trajectory": "S_sol",
           "upper": 2282460.7
          },
          {
           "lower": 2196764.1875,
           "timepoint": 53,
           "trajectory": "S_sol",
           "upper": 2282385.6875
          },
          {
           "lower": 2195982.4375,
           "timepoint": 53.099998474121094,
           "trajectory": "S_sol",
           "upper": 2282309.9
          },
          {
           "lower": 2195195.1625,
           "timepoint": 53.19999694824219,
           "trajectory": "S_sol",
           "upper": 2282234.1625
          },
          {
           "lower": 2194402.5375,
           "timepoint": 53.29999923706055,
           "trajectory": "S_sol",
           "upper": 2282158.3125
          },
          {
           "lower": 2193604.3625,
           "timepoint": 53.400001525878906,
           "trajectory": "S_sol",
           "upper": 2282082.075
          },
          {
           "lower": 2192800.5,
           "timepoint": 53.5,
           "trajectory": "S_sol",
           "upper": 2282005.6125
          },
          {
           "lower": 2191991.45,
           "timepoint": 53.599998474121094,
           "trajectory": "S_sol",
           "upper": 2281930.675
          },
          {
           "lower": 2191176.4375,
           "timepoint": 53.69999694824219,
           "trajectory": "S_sol",
           "upper": 2281854.075
          },
          {
           "lower": 2190356.375,
           "timepoint": 53.79999923706055,
           "trajectory": "S_sol",
           "upper": 2281776.8375
          },
          {
           "lower": 2189530.1,
           "timepoint": 53.900001525878906,
           "trajectory": "S_sol",
           "upper": 2281699.5125
          },
          {
           "lower": 2188698.6625,
           "timepoint": 54,
           "trajectory": "S_sol",
           "upper": 2281621.9375
          },
          {
           "lower": 2187859.8,
           "timepoint": 54.099998474121094,
           "trajectory": "S_sol",
           "upper": 2281544.0875
          },
          {
           "lower": 2187016.7625,
           "timepoint": 54.19999694824219,
           "trajectory": "S_sol",
           "upper": 2281465.7625
          },
          {
           "lower": 2186167.4,
           "timepoint": 54.29999923706055,
           "trajectory": "S_sol",
           "upper": 2281387.4625
          },
          {
           "lower": 2185312.7125,
           "timepoint": 54.400001525878906,
           "trajectory": "S_sol",
           "upper": 2281308.6375
          },
          {
           "lower": 2184451.5875,
           "timepoint": 54.5,
           "trajectory": "S_sol",
           "upper": 2281229.5875
          },
          {
           "lower": 2183584.8625,
           "timepoint": 54.599998474121094,
           "trajectory": "S_sol",
           "upper": 2281150.15
          },
          {
           "lower": 2182712.3875,
           "timepoint": 54.69999694824219,
           "trajectory": "S_sol",
           "upper": 2281070.6
          },
          {
           "lower": 2181833.925,
           "timepoint": 54.79999923706055,
           "trajectory": "S_sol",
           "upper": 2280990.6875
          },
          {
           "lower": 2180949.3875,
           "timepoint": 54.900001525878906,
           "trajectory": "S_sol",
           "upper": 2280910.6625
          },
          {
           "lower": 2180058.9375,
           "timepoint": 55,
           "trajectory": "S_sol",
           "upper": 2280830
          },
          {
           "lower": 2179162.4125,
           "timepoint": 55.099998474121094,
           "trajectory": "S_sol",
           "upper": 2280749.225
          },
          {
           "lower": 2178259.7875,
           "timepoint": 55.19999694824219,
           "trajectory": "S_sol",
           "upper": 2280668.3125
          },
          {
           "lower": 2177351.6375,
           "timepoint": 55.29999923706055,
           "trajectory": "S_sol",
           "upper": 2280586.8125
          },
          {
           "lower": 2176435.45,
           "timepoint": 55.400001525878906,
           "trajectory": "S_sol",
           "upper": 2280505.2875
          },
          {
           "lower": 2175511.2875,
           "timepoint": 55.5,
           "trajectory": "S_sol",
           "upper": 2280423.4
          },
          {
           "lower": 2174583.6375,
           "timepoint": 55.599998474121094,
           "trajectory": "S_sol",
           "upper": 2280340.9
          },
          {
           "lower": 2173649.575,
           "timepoint": 55.69999694824219,
           "trajectory": "S_sol",
           "upper": 2280261.5375
          },
          {
           "lower": 2172709.05,
           "timepoint": 55.79999923706055,
           "trajectory": "S_sol",
           "upper": 2280177.15
          },
          {
           "lower": 2171762.425,
           "timepoint": 55.900001525878906,
           "trajectory": "S_sol",
           "upper": 2280094.225
          },
          {
           "lower": 2170809.275,
           "timepoint": 56,
           "trajectory": "S_sol",
           "upper": 2280010.9125
          },
          {
           "lower": 2169849.775,
           "timepoint": 56.099998474121094,
           "trajectory": "S_sol",
           "upper": 2279927.375
          },
          {
           "lower": 2168883.5875,
           "timepoint": 56.19999694824219,
           "trajectory": "S_sol",
           "upper": 2279843.5875
          },
          {
           "lower": 2167911.35,
           "timepoint": 56.29999923706055,
           "trajectory": "S_sol",
           "upper": 2279759.325
          },
          {
           "lower": 2166932.4,
           "timepoint": 56.400001525878906,
           "trajectory": "S_sol",
           "upper": 2279674.675
          },
          {
           "lower": 2165946.9,
           "timepoint": 56.5,
           "trajectory": "S_sol",
           "upper": 2279590.025
          },
          {
           "lower": 2164954.9375,
           "timepoint": 56.599998474121094,
           "trajectory": "S_sol",
           "upper": 2279505.0375
          },
          {
           "lower": 2163954.9375,
           "timepoint": 56.69999694824219,
           "trajectory": "S_sol",
           "upper": 2279419.525
          },
          {
           "lower": 2162949.975,
           "timepoint": 56.79999923706055,
           "trajectory": "S_sol",
           "upper": 2279333.925
          },
          {
           "lower": 2161937.7625,
           "timepoint": 56.900001525878906,
           "trajectory": "S_sol",
           "upper": 2279247.9625
          },
          {
           "lower": 2160918.8625,
           "timepoint": 57,
           "trajectory": "S_sol",
           "upper": 2279161.725
          },
          {
           "lower": 2159893.1375,
           "timepoint": 57.099998474121094,
           "trajectory": "S_sol",
           "upper": 2279075.0125
          },
          {
           "lower": 2158860.8125,
           "timepoint": 57.19999694824219,
           "trajectory": "S_sol",
           "upper": 2278988.1875
          },
          {
           "lower": 2157821.55,
           "timepoint": 57.29999923706055,
           "trajectory": "S_sol",
           "upper": 2278900.8625
          },
          {
           "lower": 2156775.4625,
           "timepoint": 57.400001525878906,
           "trajectory": "S_sol",
           "upper": 2278813.5625
          },
          {
           "lower": 2155722.55,
           "timepoint": 57.5,
           "trajectory": "S_sol",
           "upper": 2278725.875
          },
          {
           "lower": 2154662.8375,
           "timepoint": 57.599998474121094,
           "trajectory": "S_sol",
           "upper": 2278637.7125
          },
          {
           "lower": 2153596.1625,
           "timepoint": 57.69999694824219,
           "trajectory": "S_sol",
           "upper": 2278549.4125
          },
          {
           "lower": 2152522.8875,
           "timepoint": 57.79999923706055,
           "trajectory": "S_sol",
           "upper": 2278460.6125
          },
          {
           "lower": 2151442.2875,
           "timepoint": 57.900001525878906,
           "trajectory": "S_sol",
           "upper": 2278371.725
          },
          {
           "lower": 2150351.5875,
           "timepoint": 58,
           "trajectory": "S_sol",
           "upper": 2278282.225
          },
          {
           "lower": 2149256.4,
           "timepoint": 58.099998474121094,
           "trajectory": "S_sol",
           "upper": 2278192.6125
          },
          {
           "lower": 2148152.5625,
           "timepoint": 58.19999694824219,
           "trajectory": "S_sol",
           "upper": 2278102.475
          },
          {
           "lower": 2147042.75,
           "timepoint": 58.29999923706055,
           "trajectory": "S_sol",
           "upper": 2278012.1375
          },
          {
           "lower": 2145925.3625,
           "timepoint": 58.400001525878906,
           "trajectory": "S_sol",
           "upper": 2277921.525
          },
          {
           "lower": 2144801.15,
           "timepoint": 58.5,
           "trajectory": "S_sol",
           "upper": 2277830.55
          },
          {
           "lower": 2143669.2,
           "timepoint": 58.599998474121094,
           "trajectory": "S_sol",
           "upper": 2277739.2375
          },
          {
           "lower": 2142529.7,
           "timepoint": 58.69999694824219,
           "trajectory": "S_sol",
           "upper": 2277647.5375
          },
          {
           "lower": 2141383.2375,
           "timepoint": 58.79999923706055,
           "trajectory": "S_sol",
           "upper": 2277555.8375
          },
          {
           "lower": 2140228.925,
           "timepoint": 58.900001525878906,
           "trajectory": "S_sol",
           "upper": 2277463.55
          },
          {
           "lower": 2139066.95,
           "timepoint": 59,
           "trajectory": "S_sol",
           "upper": 2277370.875
          },
          {
           "lower": 2137897.4875,
           "timepoint": 59.099998474121094,
           "trajectory": "S_sol",
           "upper": 2277278.0875
          },
          {
           "lower": 2136720.3125,
           "timepoint": 59.19999694824219,
           "trajectory": "S_sol",
           "upper": 2277184.8
          },
          {
           "lower": 2135537.8125,
           "timepoint": 59.29999923706055,
           "trajectory": "S_sol",
           "upper": 2277091.5625
          },
          {
           "lower": 2134348.4625,
           "timepoint": 59.400001525878906,
           "trajectory": "S_sol",
           "upper": 2276997.8
          },
          {
           "lower": 2133149.2875,
           "timepoint": 59.5,
           "trajectory": "S_sol",
           "upper": 2276903.5625
          },
          {
           "lower": 2131942.5375,
           "timepoint": 59.599998474121094,
           "trajectory": "S_sol",
           "upper": 2276809.1875
          },
          {
           "lower": 2130727.9375,
           "timepoint": 59.69999694824219,
           "trajectory": "S_sol",
           "upper": 2276714.3375
          },
          {
           "lower": 2129505.65,
           "timepoint": 59.79999923706055,
           "trajectory": "S_sol",
           "upper": 2276619.5125
          },
          {
           "lower": 2128275.5125,
           "timepoint": 59.900001525878906,
           "trajectory": "S_sol",
           "upper": 2276524.3
          },
          {
           "lower": 2127037.4375,
           "timepoint": 60,
           "trajectory": "S_sol",
           "upper": 2276428.6125
          },
          {
           "lower": 2125791.7625,
           "timepoint": 60.099998474121094,
           "trajectory": "S_sol",
           "upper": 2276332.675
          },
          {
           "lower": 2124538.0125,
           "timepoint": 60.19999694824219,
           "trajectory": "S_sol",
           "upper": 2276236.4
          },
          {
           "lower": 2123275.9125,
           "timepoint": 60.29999923706055,
           "trajectory": "S_sol",
           "upper": 2276139.65
          },
          {
           "lower": 2122005.85,
           "timepoint": 60.400001525878906,
           "trajectory": "S_sol",
           "upper": 2276042.7625
          },
          {
           "lower": 2120728.125,
           "timepoint": 60.5,
           "trajectory": "S_sol",
           "upper": 2275945.7875
          },
          {
           "lower": 2119443.7625,
           "timepoint": 60.599998474121094,
           "trajectory": "S_sol",
           "upper": 2275845.2625
          },
          {
           "lower": 2118150.3125,
           "timepoint": 60.69999694824219,
           "trajectory": "S_sol",
           "upper": 2275746.9875
          },
          {
           "lower": 2116848.5125,
           "timepoint": 60.79999923706055,
           "trajectory": "S_sol",
           "upper": 2275648.375
          },
          {
           "lower": 2115538.25,
           "timepoint": 60.900001525878906,
           "trajectory": "S_sol",
           "upper": 2275549.375
          },
          {
           "lower": 2114220.3,
           "timepoint": 61,
           "trajectory": "S_sol",
           "upper": 2275450.15
          },
          {
           "lower": 2112893.75,
           "timepoint": 61.099998474121094,
           "trajectory": "S_sol",
           "upper": 2275350.5625
          },
          {
           "lower": 2111559.2375,
           "timepoint": 61.19999694824219,
           "trajectory": "S_sol",
           "upper": 2275250.5875
          },
          {
           "lower": 2110216.15,
           "timepoint": 61.29999923706055,
           "trajectory": "S_sol",
           "upper": 2275150.275
          },
          {
           "lower": 2108864.91875,
           "timepoint": 61.400001525878906,
           "trajectory": "S_sol",
           "upper": 2275049.4625
          },
          {
           "lower": 2107505.3625,
           "timepoint": 61.5,
           "trajectory": "S_sol",
           "upper": 2274948.5375
          },
          {
           "lower": 2106137.3,
           "timepoint": 61.599998474121094,
           "trajectory": "S_sol",
           "upper": 2274847.1375
          },
          {
           "lower": 2104760.8875,
           "timepoint": 61.69999694824219,
           "trajectory": "S_sol",
           "upper": 2274745.35
          },
          {
           "lower": 2103374.48125,
           "timepoint": 61.79999923706055,
           "trajectory": "S_sol",
           "upper": 2274643.2
          },
          {
           "lower": 2101983.11875,
           "timepoint": 61.900001525878906,
           "trajectory": "S_sol",
           "upper": 2274540.7125
          },
          {
           "lower": 2100581.3125,
           "timepoint": 62,
           "trajectory": "S_sol",
           "upper": 2274437.975
          },
          {
           "lower": 2099170.93125,
           "timepoint": 62.099998474121094,
           "trajectory": "S_sol",
           "upper": 2274334.625
          },
          {
           "lower": 2097751.88125,
           "timepoint": 62.19999694824219,
           "trajectory": "S_sol",
           "upper": 2274230.9125
          },
          {
           "lower": 2096324.25625,
           "timepoint": 62.29999923706055,
           "trajectory": "S_sol",
           "upper": 2274126.975
          },
          {
           "lower": 2094888.28125,
           "timepoint": 62.400001525878906,
           "trajectory": "S_sol",
           "upper": 2274022.7875
          },
          {
           "lower": 2093443.6375,
           "timepoint": 62.5,
           "trajectory": "S_sol",
           "upper": 2273919.3375
          },
          {
           "lower": 2091990.16875,
           "timepoint": 62.599998474121094,
           "trajectory": "S_sol",
           "upper": 2273814.4
          },
          {
           "lower": 2090528.0125,
           "timepoint": 62.69999694824219,
           "trajectory": "S_sol",
           "upper": 2273709.2375
          },
          {
           "lower": 2089057.6375,
           "timepoint": 62.79999923706055,
           "trajectory": "S_sol",
           "upper": 2273603.575
          },
          {
           "lower": 2087576.19375,
           "timepoint": 62.900001525878906,
           "trajectory": "S_sol",
           "upper": 2273497.55
          },
          {
           "lower": 2086087.6625,
           "timepoint": 63,
           "trajectory": "S_sol",
           "upper": 2273389.7625
          },
          {
           "lower": 2084587.2,
           "timepoint": 63.099998474121094,
           "trajectory": "S_sol",
           "upper": 2273282.9
          },
          {
           "lower": 2083080.25,
           "timepoint": 63.19999694824219,
           "trajectory": "S_sol",
           "upper": 2273175.65
          },
          {
           "lower": 2081564.26875,
           "timepoint": 63.29999923706055,
           "trajectory": "S_sol",
           "upper": 2273067.925
          },
          {
           "lower": 2080039.25625,
           "timepoint": 63.400001525878906,
           "trajectory": "S_sol",
           "upper": 2272960.0375
          },
          {
           "lower": 2078505.28125,
           "timepoint": 63.5,
           "trajectory": "S_sol",
           "upper": 2272851.5875
          },
          {
           "lower": 2076962.4125,
           "timepoint": 63.599998474121094,
           "trajectory": "S_sol",
           "upper": 2272742.8875
          },
          {
           "lower": 2075410.33125,
           "timepoint": 63.69999694824219,
           "trajectory": "S_sol",
           "upper": 2272633.55
          },
          {
           "lower": 2073849.3875,
           "timepoint": 63.79999923706055,
           "trajectory": "S_sol",
           "upper": 2272524.0125
          },
          {
           "lower": 2072278.99375,
           "timepoint": 63.900001525878906,
           "trajectory": "S_sol",
           "upper": 2272414.0875
          },
          {
           "lower": 2070698.44375,
           "timepoint": 64,
           "trajectory": "S_sol",
           "upper": 2272303.8
          },
          {
           "lower": 2069109.4625,
           "timepoint": 64.0999984741211,
           "trajectory": "S_sol",
           "upper": 2272193.0125
          },
          {
           "lower": 2067511.39375,
           "timepoint": 64.19999694824219,
           "trajectory": "S_sol",
           "upper": 2272081.8875
          },
          {
           "lower": 2065903.6125,
           "timepoint": 64.30000305175781,
           "trajectory": "S_sol",
           "upper": 2271970.625
          },
          {
           "lower": 2064286.8,
           "timepoint": 64.4000015258789,
           "trajectory": "S_sol",
           "upper": 2271858.775
          },
          {
           "lower": 2062660.70625,
           "timepoint": 64.5,
           "trajectory": "S_sol",
           "upper": 2271746.5125
          },
          {
           "lower": 2061025.1375,
           "timepoint": 64.5999984741211,
           "trajectory": "S_sol",
           "upper": 2271633.9375
          },
          {
           "lower": 2059380.175,
           "timepoint": 64.69999694824219,
           "trajectory": "S_sol",
           "upper": 2271521.65
          },
          {
           "lower": 2057725.8625,
           "timepoint": 64.80000305175781,
           "trajectory": "S_sol",
           "upper": 2271408.075
          },
          {
           "lower": 2056062.2375,
           "timepoint": 64.9000015258789,
           "trajectory": "S_sol",
           "upper": 2271294.5
          },
          {
           "lower": 2054388.94375,
           "timepoint": 65,
           "trajectory": "S_sol",
           "upper": 2271180.3375
          },
          {
           "lower": 2052706.3125,
           "timepoint": 65.0999984741211,
           "trajectory": "S_sol",
           "upper": 2271065.925
          },
          {
           "lower": 2051012.60625,
           "timepoint": 65.19999694824219,
           "trajectory": "S_sol",
           "upper": 2270950.9
          },
          {
           "lower": 2049310.33125,
           "timepoint": 65.30000305175781,
           "trajectory": "S_sol",
           "upper": 2270835.7875
          },
          {
           "lower": 2047598.59375,
           "timepoint": 65.4000015258789,
           "trajectory": "S_sol",
           "upper": 2270720.15
          },
          {
           "lower": 2045877.01875,
           "timepoint": 65.5,
           "trajectory": "S_sol",
           "upper": 2270604.0375
          },
          {
           "lower": 2044145.95625,
           "timepoint": 65.5999984741211,
           "trajectory": "S_sol",
           "upper": 2270487.5625
          },
          {
           "lower": 2042405.1125,
           "timepoint": 65.69999694824219,
           "trajectory": "S_sol",
           "upper": 2270370.5875
          },
          {
           "lower": 2040654.5,
           "timepoint": 65.80000305175781,
           "trajectory": "S_sol",
           "upper": 2270253.1125
          },
          {
           "lower": 2038894.0375,
           "timepoint": 65.9000015258789,
           "trajectory": "S_sol",
           "upper": 2270135.4375
          },
          {
           "lower": 2037123.9875,
           "timepoint": 66,
           "trajectory": "S_sol",
           "upper": 2270017.35
          },
          {
           "lower": 2035343.89375,
           "timepoint": 66.0999984741211,
           "trajectory": "S_sol",
           "upper": 2269898.8125
          },
          {
           "lower": 2033554.0875,
           "timepoint": 66.19999694824219,
           "trajectory": "S_sol",
           "upper": 2269779.9125
          },
          {
           "lower": 2031754.86875,
           "timepoint": 66.30000305175781,
           "trajectory": "S_sol",
           "upper": 2269660.4875
          },
          {
           "lower": 2029945.33125,
           "timepoint": 66.4000015258789,
           "trajectory": "S_sol",
           "upper": 2269540.725
          },
          {
           "lower": 2028126,
           "timepoint": 66.5,
           "trajectory": "S_sol",
           "upper": 2269420.6
          },
          {
           "lower": 2026296.65,
           "timepoint": 66.5999984741211,
           "trajectory": "S_sol",
           "upper": 2269300.225
          },
          {
           "lower": 2024457.3375,
           "timepoint": 66.69999694824219,
           "trajectory": "S_sol",
           "upper": 2269178.475
          },
          {
           "lower": 2022607.29375,
           "timepoint": 66.80000305175781,
           "trajectory": "S_sol",
           "upper": 2269056.9
          },
          {
           "lower": 2020747.79375,
           "timepoint": 66.9000015258789,
           "trajectory": "S_sol",
           "upper": 2268934.825
          },
          {
           "lower": 2018878.06875,
           "timepoint": 67,
           "trajectory": "S_sol",
           "upper": 2268812.775
          },
          {
           "lower": 2016998.45,
           "timepoint": 67.0999984741211,
           "trajectory": "S_sol",
           "upper": 2268689.975
          },
          {
           "lower": 2015108.48125,
           "timepoint": 67.19999694824219,
           "trajectory": "S_sol",
           "upper": 2268566.5875
          },
          {
           "lower": 2013208.3,
           "timepoint": 67.30000305175781,
           "trajectory": "S_sol",
           "upper": 2268443.3125
          },
          {
           "lower": 2011299.94375,
           "timepoint": 67.4000015258789,
           "trajectory": "S_sol",
           "upper": 2268319.2
          },
          {
           "lower": 2009379.93125,
           "timepoint": 67.5,
           "trajectory": "S_sol",
           "upper": 2268194.8375
          },
          {
           "lower": 2007449.83125,
           "timepoint": 67.5999984741211,
           "trajectory": "S_sol",
           "upper": 2268069.45
          },
          {
           "lower": 2005509.3375,
           "timepoint": 67.69999694824219,
           "trajectory": "S_sol",
           "upper": 2267944.1125
          },
          {
           "lower": 2003558.63125,
           "timepoint": 67.80000305175781,
           "trajectory": "S_sol",
           "upper": 2267818.05
          },
          {
           "lower": 2001597.7125,
           "timepoint": 67.9000015258789,
           "trajectory": "S_sol",
           "upper": 2267691.85
          },
          {
           "lower": 1999627.50625,
           "timepoint": 68,
           "trajectory": "S_sol",
           "upper": 2267565.0625
          },
          {
           "lower": 1997646.275,
           "timepoint": 68.0999984741211,
           "trajectory": "S_sol",
           "upper": 2267438.05
          },
          {
           "lower": 1995654.775,
           "timepoint": 68.19999694824219,
           "trajectory": "S_sol",
           "upper": 2267310.2875
          },
          {
           "lower": 1993652.8125,
           "timepoint": 68.30000305175781,
           "trajectory": "S_sol",
           "upper": 2267182.1625
          },
          {
           "lower": 1991640.625,
           "timepoint": 68.4000015258789,
           "trajectory": "S_sol",
           "upper": 2267053.5625
          },
          {
           "lower": 1989618.19375,
           "timepoint": 68.5,
           "trajectory": "S_sol",
           "upper": 2266924.6
          },
          {
           "lower": 1987585.06875,
           "timepoint": 68.5999984741211,
           "trajectory": "S_sol",
           "upper": 2266795.05
          },
          {
           "lower": 1985541.88125,
           "timepoint": 68.69999694824219,
           "trajectory": "S_sol",
           "upper": 2266666.6875
          },
          {
           "lower": 1983488.175,
           "timepoint": 68.80000305175781,
           "trajectory": "S_sol",
           "upper": 2266536.6125
          },
          {
           "lower": 1981424.39375,
           "timepoint": 68.9000015258789,
           "trajectory": "S_sol",
           "upper": 2266405.925
          },
          {
           "lower": 1979350.1625,
           "timepoint": 69,
           "trajectory": "S_sol",
           "upper": 2266275.0375
          },
          {
           "lower": 1977265.6375,
           "timepoint": 69.0999984741211,
           "trajectory": "S_sol",
           "upper": 2266143.5125
          },
          {
           "lower": 1975170.73125,
           "timepoint": 69.19999694824219,
           "trajectory": "S_sol",
           "upper": 2266011.7375
          },
          {
           "lower": 1973063.9,
           "timepoint": 69.30000305175781,
           "trajectory": "S_sol",
           "upper": 2265879.375
          },
          {
           "lower": 1970947.99375,
           "timepoint": 69.4000015258789,
           "trajectory": "S_sol",
           "upper": 2265746.625
          },
          {
           "lower": 1968821.58125,
           "timepoint": 69.5,
           "trajectory": "S_sol",
           "upper": 2265613.5125
          },
          {
           "lower": 1966684.83125,
           "timepoint": 69.5999984741211,
           "trajectory": "S_sol",
           "upper": 2265479.925
          },
          {
           "lower": 1964535.04375,
           "timepoint": 69.69999694824219,
           "trajectory": "S_sol",
           "upper": 2265345.975
          },
          {
           "lower": 1962376.525,
           "timepoint": 69.80000305175781,
           "trajectory": "S_sol",
           "upper": 2265211.8
          },
          {
           "lower": 1960207.7625,
           "timepoint": 69.9000015258789,
           "trajectory": "S_sol",
           "upper": 2265075.3375
          },
          {
           "lower": 1958028.48125,
           "timepoint": 70,
           "trajectory": "S_sol",
           "upper": 2264940.025
          },
          {
           "lower": 1955838.69375,
           "timepoint": 70.0999984741211,
           "trajectory": "S_sol",
           "upper": 2264804.2125
          },
          {
           "lower": 1953638.20625,
           "timepoint": 70.19999694824219,
           "trajectory": "S_sol",
           "upper": 2264668.0375
          },
          {
           "lower": 1951427.2,
           "timepoint": 70.30000305175781,
           "trajectory": "S_sol",
           "upper": 2264531.25
          },
          {
           "lower": 1949205.54375,
           "timepoint": 70.4000015258789,
           "trajectory": "S_sol",
           "upper": 2264394.2125
          },
          {
           "lower": 1946973.60625,
           "timepoint": 70.5,
           "trajectory": "S_sol",
           "upper": 2264256.925
          },
          {
           "lower": 1944731.10625,
           "timepoint": 70.5999984741211,
           "trajectory": "S_sol",
           "upper": 2264119.05
          },
          {
           "lower": 1942478.0875,
           "timepoint": 70.69999694824219,
           "trajectory": "S_sol",
           "upper": 2263980.9
          },
          {
           "lower": 1940212.89375,
           "timepoint": 70.80000305175781,
           "trajectory": "S_sol",
           "upper": 2263835.75
          },
          {
           "lower": 1937938.4625,
           "timepoint": 70.9000015258789,
           "trajectory": "S_sol",
           "upper": 2263695.8625
          },
          {
           "lower": 1935653.33125,
           "timepoint": 71,
           "trajectory": "S_sol",
           "upper": 2263555.3375
          },
          {
           "lower": 1933357.525,
           "timepoint": 71.0999984741211,
           "trajectory": "S_sol",
           "upper": 2263414.3625
          },
          {
           "lower": 1931051.15625,
           "timepoint": 71.19999694824219,
           "trajectory": "S_sol",
           "upper": 2263273
          },
          {
           "lower": 1928734.0875,
           "timepoint": 71.30000305175781,
           "trajectory": "S_sol",
           "upper": 2263131.1625
          },
          {
           "lower": 1926406.525,
           "timepoint": 71.4000015258789,
           "trajectory": "S_sol",
           "upper": 2262988.7375
          },
          {
           "lower": 1924068.89375,
           "timepoint": 71.5,
           "trajectory": "S_sol",
           "upper": 2262845.925
          },
          {
           "lower": 1921720.25,
           "timepoint": 71.5999984741211,
           "trajectory": "S_sol",
           "upper": 2262702.75
          },
          {
           "lower": 1919360.9875,
           "timepoint": 71.69999694824219,
           "trajectory": "S_sol",
           "upper": 2262558.9875
          },
          {
           "lower": 1916991.10625,
           "timepoint": 71.80000305175781,
           "trajectory": "S_sol",
           "upper": 2262414.475
          },
          {
           "lower": 1914610.05625,
           "timepoint": 71.9000015258789,
           "trajectory": "S_sol",
           "upper": 2262269.85
          },
          {
           "lower": 1912218.98125,
           "timepoint": 72,
           "trajectory": "S_sol",
           "upper": 2262124.6125
          },
          {
           "lower": 1909817.21875,
           "timepoint": 72.0999984741211,
           "trajectory": "S_sol",
           "upper": 2261978.7875
          },
          {
           "lower": 1907404.725,
           "timepoint": 72.19999694824219,
           "trajectory": "S_sol",
           "upper": 2261832.3
          },
          {
           "lower": 1904981.475,
           "timepoint": 72.30000305175781,
           "trajectory": "S_sol",
           "upper": 2261685.475
          },
          {
           "lower": 1902547.74375,
           "timepoint": 72.4000015258789,
           "trajectory": "S_sol",
           "upper": 2261538.2
          },
          {
           "lower": 1900103.25625,
           "timepoint": 72.5,
           "trajectory": "S_sol",
           "upper": 2261390.4
          },
          {
           "lower": 1897649.525,
           "timepoint": 72.5999984741211,
           "trajectory": "S_sol",
           "upper": 2261242.375
          },
          {
           "lower": 1895184.025,
           "timepoint": 72.69999694824219,
           "trajectory": "S_sol",
           "upper": 2261093.375
          },
          {
           "lower": 1892707.90625,
           "timepoint": 72.80000305175781,
           "trajectory": "S_sol",
           "upper": 2260943.475
          },
          {
           "lower": 1890221.16875,
           "timepoint": 72.9000015258789,
           "trajectory": "S_sol",
           "upper": 2260793.75
          },
          {
           "lower": 1887723.75625,
           "timepoint": 73,
           "trajectory": "S_sol",
           "upper": 2260643.3
          },
          {
           "lower": 1885218.875,
           "timepoint": 73.0999984741211,
           "trajectory": "S_sol",
           "upper": 2260492.4875
          },
          {
           "lower": 1882700.99375,
           "timepoint": 73.19999694824219,
           "trajectory": "S_sol",
           "upper": 2260341.0875
          },
          {
           "lower": 1880172.25625,
           "timepoint": 73.30000305175781,
           "trajectory": "S_sol",
           "upper": 2260189.325
          },
          {
           "lower": 1877633.23125,
           "timepoint": 73.4000015258789,
           "trajectory": "S_sol",
           "upper": 2260037.0625
          },
          {
           "lower": 1875083.7375,
           "timepoint": 73.5,
           "trajectory": "S_sol",
           "upper": 2259884.35
          },
          {
           "lower": 1872523.6375,
           "timepoint": 73.5999984741211,
           "trajectory": "S_sol",
           "upper": 2259730.8625
          },
          {
           "lower": 1869955.9375,
           "timepoint": 73.69999694824219,
           "trajectory": "S_sol",
           "upper": 2259577.0625
          },
          {
           "lower": 1867375.25625,
           "timepoint": 73.80000305175781,
           "trajectory": "S_sol",
           "upper": 2259422.7625
          },
          {
           "lower": 1864784.34375,
           "timepoint": 73.9000015258789,
           "trajectory": "S_sol",
           "upper": 2259268.2125
          },
          {
           "lower": 1862183.01875,
           "timepoint": 74,
           "trajectory": "S_sol",
           "upper": 2259112.9375
          },
          {
           "lower": 1859571.35,
           "timepoint": 74.0999984741211,
           "trajectory": "S_sol",
           "upper": 2258957.075
          },
          {
           "lower": 1856950.15,
           "timepoint": 74.19999694824219,
           "trajectory": "S_sol",
           "upper": 2258800.85
          },
          {
           "lower": 1854317.7375,
           "timepoint": 74.30000305175781,
           "trajectory": "S_sol",
           "upper": 2258644.2875
          },
          {
           "lower": 1851675.23125,
           "timepoint": 74.4000015258789,
           "trajectory": "S_sol",
           "upper": 2258487.0875
          },
          {
           "lower": 1849022.5625,
           "timepoint": 74.5,
           "trajectory": "S_sol",
           "upper": 2258329.575
          },
          {
           "lower": 1846359.49375,
           "timepoint": 74.5999984741211,
           "trajectory": "S_sol",
           "upper": 2258166.8625
          },
          {
           "lower": 1843686.1375,
           "timepoint": 74.69999694824219,
           "trajectory": "S_sol",
           "upper": 2258007.575
          },
          {
           "lower": 1841002.6625,
           "timepoint": 74.80000305175781,
           "trajectory": "S_sol",
           "upper": 2257846.6625
          },
          {
           "lower": 1838309.0625,
           "timepoint": 74.9000015258789,
           "trajectory": "S_sol",
           "upper": 2257686.2875
          },
          {
           "lower": 1835605.1875,
           "timepoint": 75,
           "trajectory": "S_sol",
           "upper": 2257525.3
          },
          {
           "lower": 1832891.34375,
           "timepoint": 75.0999984741211,
           "trajectory": "S_sol",
           "upper": 2257363.7
          },
          {
           "lower": 1830167.225,
           "timepoint": 75.19999694824219,
           "trajectory": "S_sol",
           "upper": 2257201.625
          },
          {
           "lower": 1827433.79375,
           "timepoint": 75.30000305175781,
           "trajectory": "S_sol",
           "upper": 2257038.9375
          },
          {
           "lower": 1824689.70625,
           "timepoint": 75.4000015258789,
           "trajectory": "S_sol",
           "upper": 2256875.775
          },
          {
           "lower": 1821935.85625,
           "timepoint": 75.5,
           "trajectory": "S_sol",
           "upper": 2256712
          },
          {
           "lower": 1819171.98125,
           "timepoint": 75.5999984741211,
           "trajectory": "S_sol",
           "upper": 2256547.75
          },
          {
           "lower": 1816398.21875,
           "timepoint": 75.69999694824219,
           "trajectory": "S_sol",
           "upper": 2256382.8875
          },
          {
           "lower": 1813614.2625,
           "timepoint": 75.80000305175781,
           "trajectory": "S_sol",
           "upper": 2256217.3
          },
          {
           "lower": 1810819.8,
           "timepoint": 75.9000015258789,
           "trajectory": "S_sol",
           "upper": 2256051.6
          },
          {
           "lower": 1808016.34375,
           "timepoint": 76,
           "trajectory": "S_sol",
           "upper": 2255885.15
          },
          {
           "lower": 1805202.9875,
           "timepoint": 76.0999984741211,
           "trajectory": "S_sol",
           "upper": 2255718.1125
          },
          {
           "lower": 1802379.95,
           "timepoint": 76.19999694824219,
           "trajectory": "S_sol",
           "upper": 2255550.6
          },
          {
           "lower": 1799547.025,
           "timepoint": 76.30000305175781,
           "trajectory": "S_sol",
           "upper": 2255382.3625
          },
          {
           "lower": 1796704.51875,
           "timepoint": 76.4000015258789,
           "trajectory": "S_sol",
           "upper": 2255213.6
          },
          {
           "lower": 1793852.1125,
           "timepoint": 76.5,
           "trajectory": "S_sol",
           "upper": 2255044.3875
          },
          {
           "lower": 1790990.2875,
           "timepoint": 76.5999984741211,
           "trajectory": "S_sol",
           "upper": 2254874.7
          },
          {
           "lower": 1788119.14375,
           "timepoint": 76.69999694824219,
           "trajectory": "S_sol",
           "upper": 2254704.5125
          },
          {
           "lower": 1785238.125,
           "timepoint": 76.80000305175781,
           "trajectory": "S_sol",
           "upper": 2254533.375
          },
          {
           "lower": 1782347.99375,
           "timepoint": 76.9000015258789,
           "trajectory": "S_sol",
           "upper": 2254360.5
          },
          {
           "lower": 1779447.1125,
           "timepoint": 77,
           "trajectory": "S_sol",
           "upper": 2254188.225
          },
          {
           "lower": 1776537.75625,
           "timepoint": 77.0999984741211,
           "trajectory": "S_sol",
           "upper": 2254015.3875
          },
          {
           "lower": 1773618.96875,
           "timepoint": 77.19999694824219,
           "trajectory": "S_sol",
           "upper": 2253841.9125
          },
          {
           "lower": 1770690.69375,
           "timepoint": 77.30000305175781,
           "trajectory": "S_sol",
           "upper": 2253667.85
          },
          {
           "lower": 1767753.16875,
           "timepoint": 77.4000015258789,
           "trajectory": "S_sol",
           "upper": 2253493.0375
          },
          {
           "lower": 1764807.50625,
           "timepoint": 77.5,
           "trajectory": "S_sol",
           "upper": 2253317.75
          },
          {
           "lower": 1761851.78125,
           "timepoint": 77.5999984741211,
           "trajectory": "S_sol",
           "upper": 2253142.1
          },
          {
           "lower": 1758887.05,
           "timepoint": 77.69999694824219,
           "trajectory": "S_sol",
           "upper": 2252965.3625
          },
          {
           "lower": 1755912.875,
           "timepoint": 77.80000305175781,
           "trajectory": "S_sol",
           "upper": 2252788.4
          },
          {
           "lower": 1752930,
           "timepoint": 77.9000015258789,
           "trajectory": "S_sol",
           "upper": 2252610.4625
          },
          {
           "lower": 1749937.94375,
           "timepoint": 78,
           "trajectory": "S_sol",
           "upper": 2252431.8875
          },
          {
           "lower": 1746938.1875,
           "timepoint": 78.0999984741211,
           "trajectory": "S_sol",
           "upper": 2252252.8625
          },
          {
           "lower": 1743928.66875,
           "timepoint": 78.19999694824219,
           "trajectory": "S_sol",
           "upper": 2252072.975
          },
          {
           "lower": 1740910.24375,
           "timepoint": 78.30000305175781,
           "trajectory": "S_sol",
           "upper": 2251892.6125
          },
          {
           "lower": 1737883.23125,
           "timepoint": 78.4000015258789,
           "trajectory": "S_sol",
           "upper": 2251711.275
          },
          {
           "lower": 1734847.20625,
           "timepoint": 78.5,
           "trajectory": "S_sol",
           "upper": 2251529.4375
          },
          {
           "lower": 1731802.8125,
           "timepoint": 78.5999984741211,
           "trajectory": "S_sol",
           "upper": 2251347.0375
          },
          {
           "lower": 1728749.83125,
           "timepoint": 78.69999694824219,
           "trajectory": "S_sol",
           "upper": 2251163.75
          },
          {
           "lower": 1725688.19375,
           "timepoint": 78.80000305175781,
           "trajectory": "S_sol",
           "upper": 2250983.8125
          },
          {
           "lower": 1722618.10625,
           "timepoint": 78.9000015258789,
           "trajectory": "S_sol",
           "upper": 2250800.025
          },
          {
           "lower": 1719539.79375,
           "timepoint": 79,
           "trajectory": "S_sol",
           "upper": 2250615.4875
          },
          {
           "lower": 1716452.8375,
           "timepoint": 79.0999984741211,
           "trajectory": "S_sol",
           "upper": 2250429.975
          },
          {
           "lower": 1713357.6125,
           "timepoint": 79.19999694824219,
           "trajectory": "S_sol",
           "upper": 2250248.0875
          },
          {
           "lower": 1710253.86875,
           "timepoint": 79.30000305175781,
           "trajectory": "S_sol",
           "upper": 2250062.0125
          },
          {
           "lower": 1707142.15,
           "timepoint": 79.4000015258789,
           "trajectory": "S_sol",
           "upper": 2249875.1
          },
          {
           "lower": 1704023.825,
           "timepoint": 79.5,
           "trajectory": "S_sol",
           "upper": 2249687.9625
          },
          {
           "lower": 1700896.25625,
           "timepoint": 79.5999984741211,
           "trajectory": "S_sol",
           "upper": 2249500.075
          },
          {
           "lower": 1697760.81875,
           "timepoint": 79.69999694824219,
           "trajectory": "S_sol",
           "upper": 2249311.7125
          },
          {
           "lower": 1694617.05625,
           "timepoint": 79.80000305175781,
           "trajectory": "S_sol",
           "upper": 2249122.5125
          },
          {
           "lower": 1691465.8125,
           "timepoint": 79.9000015258789,
           "trajectory": "S_sol",
           "upper": 2248932.95
          },
          {
           "lower": 1688306.75625,
           "timepoint": 80,
           "trajectory": "S_sol",
           "upper": 2248742.6375
          },
          {
           "lower": 1.8901204557053577e-08,
           "timepoint": 0,
           "trajectory": "V_sol",
           "upper": 5.3841341873805956e-08
          },
          {
           "lower": 18616091904,
           "timepoint": 0.10000000149011612,
           "trajectory": "V_sol",
           "upper": 53029181849.6
          },
          {
           "lower": 73352980275.20001,
           "timepoint": 0.20000000298023224,
           "trajectory": "V_sol",
           "upper": 208950230220.8
          },
          {
           "lower": 162606539980.8,
           "timepoint": 0.30000001192092896,
           "trajectory": "V_sol",
           "upper": 463192517836.8
          },
          {
           "lower": 284853861580.80005,
           "timepoint": 0.4000000059604645,
           "trajectory": "V_sol",
           "upper": 811414241280
          },
          {
           "lower": 438648077516.80005,
           "timepoint": 0.5,
           "trajectory": "V_sol",
           "upper": 1249492133478.4
          },
          {
           "lower": 622615558553.6001,
           "timepoint": 0.6000000238418579,
           "trajectory": "V_sol",
           "upper": 1773508827545.5999
          },
          {
           "lower": 835452836249.6001,
           "timepoint": 0.699999988079071,
           "trajectory": "V_sol",
           "upper": 2379744319897.6
          },
          {
           "lower": 1075921023795.2,
           "timepoint": 0.800000011920929,
           "trajectory": "V_sol",
           "upper": 3064668762931.1997
          },
          {
           "lower": 1342844652748.8,
           "timepoint": 0.9000000357627869,
           "trajectory": "V_sol",
           "upper": 3824922119372.8
          },
          {
           "lower": 1635106386739.2002,
           "timepoint": 1,
           "trajectory": "V_sol",
           "upper": 4657323756748.8
          },
          {
           "lower": 1951650083635.2002,
           "timepoint": 1.100000023841858,
           "trajectory": "V_sol",
           "upper": 5558842556416
          },
          {
           "lower": 2291466626662.4004,
           "timepoint": 1.2000000476837158,
           "trajectory": "V_sol",
           "upper": 6526609391616
          },
          {
           "lower": 2653602054144,
           "timepoint": 1.3000000715255737,
           "trajectory": "V_sol",
           "upper": 7557901398835.2
          },
          {
           "lower": 3037147706163.2,
           "timepoint": 1.399999976158142,
           "trajectory": "V_sol",
           "upper": 8650112814284.8
          },
          {
           "lower": 3441244890726.4004,
           "timepoint": 1.5,
           "trajectory": "V_sol",
           "upper": 9800801163673.6
          },
          {
           "lower": 3865086151884.8,
           "timepoint": 1.600000023841858,
           "trajectory": "V_sol",
           "upper": 11007632657612.799
          },
          {
           "lower": 4307883917312,
           "timepoint": 1.7000000476837158,
           "trajectory": "V_sol",
           "upper": 12268385704345.6
          },
          {
           "lower": 4768911484518.4,
           "timepoint": 1.8000000715255737,
           "trajectory": "V_sol",
           "upper": 13580964619878.4
          },
          {
           "lower": 5247467205427.2,
           "timepoint": 1.899999976158142,
           "trajectory": "V_sol",
           "upper": 14943350685696
          },
          {
           "lower": 5742891211161.6,
           "timepoint": 2,
           "trajectory": "V_sol",
           "upper": 16353680320102.4
          },
          {
           "lower": 6254555312947.2,
           "timepoint": 2.1000001430511475,
           "trajectory": "V_sol",
           "upper": 17810144152780.8
          },
          {
           "lower": 6781865872588.801,
           "timepoint": 2.200000047683716,
           "trajectory": "V_sol",
           "upper": 19311035311718.4
          },
          {
           "lower": 7324257144012.801,
           "timepoint": 2.299999952316284,
           "trajectory": "V_sol",
           "upper": 20854743026892.8
          },
          {
           "lower": 7881191640268.801,
           "timepoint": 2.4000000953674316,
           "trajectory": "V_sol",
           "upper": 22439739680358.4
          },
          {
           "lower": 8452166464307.2,
           "timepoint": 2.5,
           "trajectory": "V_sol",
           "upper": 24064561250304
          },
          {
           "lower": 9036694972006.4,
           "timepoint": 2.6000001430511475,
           "trajectory": "V_sol",
           "upper": 25727772131328
          },
          {
           "lower": 9634321635737.602,
           "timepoint": 2.700000047683716,
           "trajectory": "V_sol",
           "upper": 27428149893529.598
          },
          {
           "lower": 10244630301900.8,
           "timepoint": 2.799999952316284,
           "trajectory": "V_sol",
           "upper": 29164417790771.2
          },
          {
           "lower": 10867191001907.2,
           "timepoint": 2.9000000953674316,
           "trajectory": "V_sol",
           "upper": 30935412323123.2
          },
          {
           "lower": 11501624203673.602,
           "timepoint": 3,
           "trajectory": "V_sol",
           "upper": 32739994632192
          },
          {
           "lower": 12147562669670.4,
           "timepoint": 3.1000001430511475,
           "trajectory": "V_sol",
           "upper": 34577125264588.8
          },
          {
           "lower": 12804650932633.602,
           "timepoint": 3.200000047683716,
           "trajectory": "V_sol",
           "upper": 36445781753856
          },
          {
           "lower": 13472566738944,
           "timepoint": 3.299999952316284,
           "trajectory": "V_sol",
           "upper": 38345077528985.6
          },
          {
           "lower": 14151001335398.4,
           "timepoint": 3.4000000953674316,
           "trajectory": "V_sol",
           "upper": 40274051360358.4
          },
          {
           "lower": 14839647777587.2,
           "timepoint": 3.5,
           "trajectory": "V_sol",
           "upper": 42231860822016
          },
          {
           "lower": 15538247276953.602,
           "timepoint": 3.6000001430511475,
           "trajectory": "V_sol",
           "upper": 44217721159680
          },
          {
           "lower": 16246518317056,
           "timepoint": 3.700000047683716,
           "trajectory": "V_sol",
           "upper": 46230840069324.8
          },
          {
           "lower": 16964213879603.2,
           "timepoint": 3.799999952316284,
           "trajectory": "V_sol",
           "upper": 48270523603353.6
          },
          {
           "lower": 17691113527705.6,
           "timepoint": 3.9000000953674316,
           "trajectory": "V_sol",
           "upper": 50336079911321.6
          },
          {
           "lower": 18426935902208,
           "timepoint": 4,
           "trajectory": "V_sol",
           "upper": 52426871039590.4
          },
          {
           "lower": 19171537741414.4,
           "timepoint": 4.099999904632568,
           "trajectory": "V_sol",
           "upper": 54542288814080
          },
          {
           "lower": 19924682486579.203,
           "timepoint": 4.200000286102295,
           "trajectory": "V_sol",
           "upper": 56681751484825.6
          },
          {
           "lower": 20686187318476.8,
           "timepoint": 4.300000190734863,
           "trajectory": "V_sol",
           "upper": 58844707500851.195
          },
          {
           "lower": 21455939515187.203,
           "timepoint": 4.400000095367432,
           "trajectory": "V_sol",
           "upper": 61030654594252.8
          },
          {
           "lower": 22233673052979.203,
           "timepoint": 4.5,
           "trajectory": "V_sol",
           "upper": 63239068477030.4
          },
          {
           "lower": 23019283860684.8,
           "timepoint": 4.599999904632568,
           "trajectory": "V_sol",
           "upper": 65469544608563.195
          },
          {
           "lower": 23812605267148.8,
           "timepoint": 4.700000286102295,
           "trajectory": "V_sol",
           "upper": 67721648458956.8
          },
          {
           "lower": 24613532886630.4,
           "timepoint": 4.800000190734863,
           "trajectory": "V_sol",
           "upper": 69994961017241.6
          },
          {
           "lower": 25421881016320,
           "timepoint": 4.900000095367432,
           "trajectory": "V_sol",
           "upper": 72289114233241.6
          },
          {
           "lower": 26237556175667.203,
           "timepoint": 5,
           "trajectory": "V_sol",
           "upper": 74603575640064
          },
          {
           "lower": 27060433846272,
           "timepoint": 5.099999904632568,
           "trajectory": "V_sol",
           "upper": 76938242267545.6
          },
          {
           "lower": 27890416353280,
           "timepoint": 5.200000286102295,
           "trajectory": "V_sol",
           "upper": 79292716915097.6
          },
          {
           "lower": 28727388877619.203,
           "timepoint": 5.300000190734863,
           "trajectory": "V_sol",
           "upper": 81666655230361.6
          },
          {
           "lower": 29571262342758.4,
           "timepoint": 5.400000095367432,
           "trajectory": "V_sol",
           "upper": 84059894893772.8
          },
          {
           "lower": 30421958839500.8,
           "timepoint": 5.5,
           "trajectory": "V_sol",
           "upper": 86472027380121.6
          },
          {
           "lower": 31279385726156.8,
           "timepoint": 5.599999904632568,
           "trajectory": "V_sol",
           "upper": 88902858073702.4
          },
          {
           "lower": 32143422521344,
           "timepoint": 5.700000286102295,
           "trajectory": "V_sol",
           "upper": 91352155448934.4
          },
          {
           "lower": 33014056799436.8,
           "timepoint": 5.800000190734863,
           "trajectory": "V_sol",
           "upper": 93819671203020.8
          },
          {
           "lower": 33891201476198.4,
           "timepoint": 5.900000095367432,
           "trajectory": "V_sol",
           "upper": 96305389397606.4
          },
          {
           "lower": 34774773818982.4,
           "timepoint": 6,
           "trajectory": "V_sol",
           "upper": 98808875922227.2
          },
          {
           "lower": 35664741846220.8,
           "timepoint": 6.099999904632568,
           "trajectory": "V_sol",
           "upper": 101330058215424
          },
          {
           "lower": 36561043639500.8,
           "timepoint": 6.200000286102295,
           "trajectory": "V_sol",
           "upper": 103868797865164.8
          },
          {
           "lower": 37463622313574.41,
           "timepoint": 6.300000190734863,
           "trajectory": "V_sol",
           "upper": 106427676046131.2
          },
          {
           "lower": 38372439490560,
           "timepoint": 6.400000095367432,
           "trajectory": "V_sol",
           "upper": 109009396406681.6
          },
          {
           "lower": 39287424077004.8,
           "timepoint": 6.5,
           "trajectory": "V_sol",
           "upper": 111608767237324.8
          },
          {
           "lower": 40208582154649.6,
           "timepoint": 6.599999904632568,
           "trajectory": "V_sol",
           "upper": 114225607763558.4
          },
          {
           "lower": 41135863286988.8,
           "timepoint": 6.700000286102295,
           "trajectory": "V_sol",
           "upper": 116859804739174.4
          },
          {
           "lower": 42069221860966.41,
           "timepoint": 6.800000190734863,
           "trajectory": "V_sol",
           "upper": 119511236529356.8
          },
          {
           "lower": 43008635332198.41,
           "timepoint": 6.900000095367432,
           "trajectory": "V_sol",
           "upper": 122180073422848
          },
          {
           "lower": 43954068887961.6,
           "timepoint": 7,
           "trajectory": "V_sol",
           "upper": 124865876695449.6
          },
          {
           "lower": 44905513195929.6,
           "timepoint": 7.099999904632568,
           "trajectory": "V_sol",
           "upper": 127568739041280
          },
          {
           "lower": 45862956616908.8,
           "timepoint": 7.200000286102295,
           "trajectory": "V_sol",
           "upper": 130288599642931.2
          },
          {
           "lower": 46826339486924.8,
           "timepoint": 7.300000190734863,
           "trajectory": "V_sol",
           "upper": 133025383422361.6
          },
          {
           "lower": 47795683616358.41,
           "timepoint": 7.400000095367432,
           "trajectory": "V_sol",
           "upper": 135779106317926.4
          },
          {
           "lower": 48770977051443.2,
           "timepoint": 7.5,
           "trajectory": "V_sol",
           "upper": 138549645017088
          },
          {
           "lower": 49752193053491.2,
           "timepoint": 7.599999904632568,
           "trajectory": "V_sol",
           "upper": 141337029299404.8
          },
          {
           "lower": 50739330154496,
           "timepoint": 7.700000286102295,
           "trajectory": "V_sol",
           "upper": 144141221416140.8
          },
          {
           "lower": 51732350396006.41,
           "timepoint": 7.800000190734863,
           "trajectory": "V_sol",
           "upper": 146962190329446.4
          },
          {
           "lower": 52731283452723.2,
           "timepoint": 7.900000095367432,
           "trajectory": "V_sol",
           "upper": 149900122442956.8
          },
          {
           "lower": 53736119468032,
           "timepoint": 8,
           "trajectory": "V_sol",
           "upper": 152867612655616
          },
          {
           "lower": 54746881615462.41,
           "timepoint": 8.100000381469727,
           "trajectory": "V_sol",
           "upper": 155856764770713.6
          },
          {
           "lower": 55763503100723.2,
           "timepoint": 8.199999809265137,
           "trajectory": "V_sol",
           "upper": 158867730622054.4
          },
          {
           "lower": 56786030585446.41,
           "timepoint": 8.300000190734863,
           "trajectory": "V_sol",
           "upper": 161900588223692.8
          },
          {
           "lower": 57814437435801.6,
           "timepoint": 8.40000057220459,
           "trajectory": "V_sol",
           "upper": 164955412234240
          },
          {
           "lower": 58848838366003.2,
           "timepoint": 8.5,
           "trajectory": "V_sol",
           "upper": 168031956028620.8
          },
          {
           "lower": 59889102723481.6,
           "timepoint": 8.600000381469727,
           "trajectory": "V_sol",
           "upper": 171130785837875.2
          },
          {
           "lower": 60935284509900.8,
           "timepoint": 8.699999809265137,
           "trajectory": "V_sol",
           "upper": 174251837908582.4
          },
          {
           "lower": 61987396622745.6,
           "timepoint": 8.800000190734863,
           "trajectory": "V_sol",
           "upper": 177395139923148.8
          },
          {
           "lower": 63045442836889.6,
           "timepoint": 8.90000057220459,
           "trajectory": "V_sol",
           "upper": 180560818549555.2
          },
          {
           "lower": 64109428395212.8,
           "timepoint": 9,
           "trajectory": "V_sol",
           "upper": 183748926636032
          },
          {
           "lower": 65179441587814.41,
           "timepoint": 9.100000381469727,
           "trajectory": "V_sol",
           "upper": 186959630277017.6
          },
          {
           "lower": 66255373572505.6,
           "timepoint": 9.199999809265137,
           "trajectory": "V_sol",
           "upper": 190193172742144
          },
          {
           "lower": 67337299532185.6,
           "timepoint": 9.300000190734863,
           "trajectory": "V_sol",
           "upper": 193449403875328
          },
          {
           "lower": 68425253021286.41,
           "timepoint": 9.40000057220459,
           "trajectory": "V_sol",
           "upper": 196728643282534.4
          },
          {
           "lower": 69519196605644.805,
           "timepoint": 9.5,
           "trajectory": "V_sol",
           "upper": 200045239677747.2
          },
          {
           "lower": 70619174849740.81,
           "timepoint": 9.600000381469727,
           "trajectory": "V_sol",
           "upper": 203387584905216
          },
          {
           "lower": 71725195932467.2,
           "timepoint": 9.699999809265137,
           "trajectory": "V_sol",
           "upper": 206753845215232
          },
          {
           "lower": 72837430561996.81,
           "timepoint": 9.800000190734863,
           "trajectory": "V_sol",
           "upper": 210144182507929.6
          },
          {
           "lower": 73955665353113.6,
           "timepoint": 9.90000057220459,
           "trajectory": "V_sol",
           "upper": 213558521285836.8
          },
          {
           "lower": 75080014390886.4,
           "timepoint": 10,
           "trajectory": "V_sol",
           "upper": 216997274268467.2
          },
          {
           "lower": 76210510810316.81,
           "timepoint": 10.100000381469727,
           "trajectory": "V_sol",
           "upper": 220460548830003.2
          },
          {
           "lower": 77347153772544,
           "timepoint": 10.199999809265137,
           "trajectory": "V_sol",
           "upper": 223948401174118.4
          },
          {
           "lower": 78490000110387.2,
           "timepoint": 10.300000190734863,
           "trajectory": "V_sol",
           "upper": 227461030949683.2
          },
          {
           "lower": 79639065552486.4,
           "timepoint": 10.40000057220459,
           "trajectory": "V_sol",
           "upper": 230998545530880
          },
          {
           "lower": 80794270826496,
           "timepoint": 10.5,
           "trajectory": "V_sol",
           "upper": 234561108495564.8
          },
          {
           "lower": 81955797126348.81,
           "timepoint": 10.600000381469727,
           "trajectory": "V_sol",
           "upper": 238148898521088
          },
          {
           "lower": 83123593910681.6,
           "timepoint": 10.699999809265137,
           "trajectory": "V_sol",
           "upper": 241761869470105.6
          },
          {
           "lower": 84297659501772.81,
           "timepoint": 10.800000190734863,
           "trajectory": "V_sol",
           "upper": 245400507043020.8
          },
          {
           "lower": 85478096660070.4,
           "timepoint": 10.90000057220459,
           "trajectory": "V_sol",
           "upper": 249064874154393.6
          },
          {
           "lower": 86664887350067.2,
           "timepoint": 11,
           "trajectory": "V_sol",
           "upper": 252755013586124.78
          },
          {
           "lower": 87858089033728,
           "timepoint": 11.100000381469727,
           "trajectory": "V_sol",
           "upper": 256471175318732.78
          },
          {
           "lower": 89057698565324.81,
           "timepoint": 11.199999809265137,
           "trajectory": "V_sol",
           "upper": 260213474276147.2
          },
          {
           "lower": 90263760614195.2,
           "timepoint": 11.300000190734863,
           "trajectory": "V_sol",
           "upper": 263982130239897.6
          },
          {
           "lower": 91476139284889.6,
           "timepoint": 11.40000057220459,
           "trajectory": "V_sol",
           "upper": 267777278266572.78
          },
          {
           "lower": 92695124403814.4,
           "timepoint": 11.5,
           "trajectory": "V_sol",
           "upper": 271599279905177.6
          },
          {
           "lower": 93920654314700.81,
           "timepoint": 11.600000381469727,
           "trajectory": "V_sol",
           "upper": 275448006810009.6
          },
          {
           "lower": 95152725032960,
           "timepoint": 11.699999809265137,
           "trajectory": "V_sol",
           "upper": 279323838985011.2
          },
          {
           "lower": 96391395698278.4,
           "timepoint": 11.800000190734863,
           "trajectory": "V_sol",
           "upper": 283226855283097.6
          },
          {
           "lower": 97636679732428.81,
           "timepoint": 11.90000057220459,
           "trajectory": "V_sol",
           "upper": 287157268774912
          },
          {
           "lower": 98888589298892.81,
           "timepoint": 12,
           "trajectory": "V_sol",
           "upper": 291115217033625.56
          },
          {
           "lower": 100147191716249.6,
           "timepoint": 12.100000381469727,
           "trajectory": "V_sol",
           "upper": 295100896352665.56
          },
          {
           "lower": 101412640915456,
           "timepoint": 12.199999809265137,
           "trajectory": "V_sol",
           "upper": 299114523158118.4
          },
          {
           "lower": 102684745216819.2,
           "timepoint": 12.300000190734863,
           "trajectory": "V_sol",
           "upper": 303156256833536
          },
          {
           "lower": 103963674489651.2,
           "timepoint": 12.40000057220459,
           "trajectory": "V_sol",
           "upper": 307226308771840
          },
          {
           "lower": 105249369384550.4,
           "timepoint": 12.5,
           "trajectory": "V_sol",
           "upper": 311324813190758.4
          },
          {
           "lower": 106541949858611.2,
           "timepoint": 12.600000381469727,
           "trajectory": "V_sol",
           "upper": 315452706258944
          },
          {
           "lower": 107841365999616,
           "timepoint": 12.699999809265137,
           "trajectory": "V_sol",
           "upper": 319608936044953.56
          },
          {
           "lower": 109147742588108.81,
           "timepoint": 12.800000190734863,
           "trajectory": "V_sol",
           "upper": 323794354831360
          },
          {
           "lower": 110461067460608,
           "timepoint": 12.90000057220459,
           "trajectory": "V_sol",
           "upper": 328009048181964.8
          },
          {
           "lower": 111781355716608,
           "timepoint": 13,
           "trajectory": "V_sol",
           "upper": 332253197290700.8
          },
          {
           "lower": 113108694387916.81,
           "timepoint": 13.100000381469727,
           "trajectory": "V_sol",
           "upper": 336527125957836.8
          },
          {
           "lower": 114443169457766.4,
           "timepoint": 13.199999809265137,
           "trajectory": "V_sol",
           "upper": 340830882837299.2
          },
          {
           "lower": 115784678165708.81,
           "timepoint": 13.300000190734863,
           "trajectory": "V_sol",
           "upper": 345164783340748.8
          },
          {
           "lower": 117133331870515.2,
           "timepoint": 13.40000057220459,
           "trajectory": "V_sol",
           "upper": 349529035505664
          },
          {
           "lower": 118489146300825.6,
           "timepoint": 13.5,
           "trajectory": "V_sol",
           "upper": 353923374252032
          },
          {
           "lower": 119852199260979.2,
           "timepoint": 13.600000381469727,
           "trajectory": "V_sol",
           "upper": 358348992439910.4
          },
          {
           "lower": 121222487185817.6,
           "timepoint": 13.699999809265137,
           "trajectory": "V_sol",
           "upper": 362805328032563.2
          },
          {
           "lower": 122600071102464,
           "timepoint": 13.800000190734863,
           "trajectory": "V_sol",
           "upper": 367292892735078.4
          },
          {
           "lower": 123985013086617.6,
           "timepoint": 13.90000057220459,
           "trajectory": "V_sol",
           "upper": 371811820765184
          },
          {
           "lower": 125377300974796.81,
           "timepoint": 14,
           "trajectory": "V_sol",
           "upper": 376362301705420.8
          },
          {
           "lower": 126777018862796.81,
           "timepoint": 14.100000381469727,
           "trajectory": "V_sol",
           "upper": 380944598958080
          },
          {
           "lower": 128184192335872,
           "timepoint": 14.199999809265137,
           "trajectory": "V_sol",
           "upper": 385558965859123.2
          },
          {
           "lower": 129598460474163.2,
           "timepoint": 14.300000190734863,
           "trajectory": "V_sol",
           "upper": 390205561792102.4
          },
          {
           "lower": 131020565459763.2,
           "timepoint": 14.40000057220459,
           "trajectory": "V_sol",
           "upper": 394884643448422.4
          },
          {
           "lower": 132450211384524.8,
           "timepoint": 14.5,
           "trajectory": "V_sol",
           "upper": 399596418865561.56
          },
          {
           "lower": 133887467873894.4,
           "timepoint": 14.600000381469727,
           "trajectory": "V_sol",
           "upper": 404341111180492.75
          },
          {
           "lower": 135332352334233.61,
           "timepoint": 14.699999809265137,
           "trajectory": "V_sol",
           "upper": 409118883132211.2
          },
          {
           "lower": 136784939633868.8,
           "timepoint": 14.800000190734863,
           "trajectory": "V_sol",
           "upper": 413930135696179.2
          },
          {
           "lower": 138245247179161.61,
           "timepoint": 14.90000057220459,
           "trajectory": "V_sol",
           "upper": 418775003090124.75
          },
          {
           "lower": 139713308105113.61,
           "timepoint": 15,
           "trajectory": "V_sol",
           "upper": 423653683285196.75
          },
          {
           "lower": 141189186794291.2,
           "timepoint": 15.100000381469727,
           "trajectory": "V_sol",
           "upper": 428566461494067.2
          },
          {
           "lower": 142672890796441.62,
           "timepoint": 15.199999809265137,
           "trajectory": "V_sol",
           "upper": 433513539043328
          },
          {
           "lower": 144164514693120,
           "timepoint": 15.300000190734863,
           "trajectory": "V_sol",
           "upper": 438495246444134.4
          },
          {
           "lower": 145664051563724.8,
           "timepoint": 15.40000057220459,
           "trajectory": "V_sol",
           "upper": 443511743080038.4
          },
          {
           "lower": 147171564113100.8,
           "timepoint": 15.5,
           "trajectory": "V_sol",
           "upper": 448563215178137.56
          },
          {
           "lower": 148687101624320,
           "timepoint": 15.600000381469727,
           "trajectory": "V_sol",
           "upper": 453650041903513.56
          },
          {
           "lower": 150210699539251.2,
           "timepoint": 15.699999809265137,
           "trajectory": "V_sol",
           "upper": 458772379284275.2
          },
          {
           "lower": 151742422240460.8,
           "timepoint": 15.800000190734863,
           "trajectory": "V_sol",
           "upper": 463930502466764.75
          },
          {
           "lower": 153282300556083.2,
           "timepoint": 15.90000057220459,
           "trajectory": "V_sol",
           "upper": 469124678208716.75
          },
          {
           "lower": 154830361119948.8,
           "timepoint": 16,
           "trajectory": "V_sol",
           "upper": 474355569210163.2
          },
          {
           "lower": 156386679429529.62,
           "timepoint": 16.100000381469727,
           "trajectory": "V_sol",
           "upper": 479622851670835.2
          },
          {
           "lower": 157951287361536,
           "timepoint": 16.200000762939453,
           "trajectory": "V_sol",
           "upper": 484926794026188.75
          },
          {
           "lower": 159524230214451.2,
           "timepoint": 16.30000114440918,
           "trajectory": "V_sol",
           "upper": 490267800607129.56
          },
          {
           "lower": 161105526023782.4,
           "timepoint": 16.399999618530273,
           "trajectory": "V_sol",
           "upper": 495646030797209.56
          },
          {
           "lower": 162695207085670.4,
           "timepoint": 16.5,
           "trajectory": "V_sol",
           "upper": 501061964424806.4
          },
          {
           "lower": 164293403842969.62,
           "timepoint": 16.600000381469727,
           "trajectory": "V_sol",
           "upper": 506515723963596.75
          },
          {
           "lower": 165900142719795.2,
           "timepoint": 16.700000762939453,
           "trajectory": "V_sol",
           "upper": 512007655024230.4
          },
          {
           "lower": 167515142697779.2,
           "timepoint": 16.80000114440918,
           "trajectory": "V_sol",
           "upper": 517537932089753.56
          },
          {
           "lower": 169138949036441.62,
           "timepoint": 16.899999618530273,
           "trajectory": "V_sol",
           "upper": 523106811851571.2
          },
          {
           "lower": 170771442617548.8,
           "timepoint": 17,
           "trajectory": "V_sol",
           "upper": 528714676830207.94
          },
          {
           "lower": 172412661189836.8,
           "timepoint": 17.100000381469727,
           "trajectory": "V_sol",
           "upper": 534361750162636.75
          },
          {
           "lower": 174062594267545.62,
           "timepoint": 17.200000762939453,
           "trajectory": "V_sol",
           "upper": 540048325450137.56
          },
          {
           "lower": 175721321961881.62,
           "timepoint": 17.30000114440918,
           "trajectory": "V_sol",
           "upper": 545774703004876.75
          },
          {
           "lower": 177388880343859.2,
           "timepoint": 17.399999618530273,
           "trajectory": "V_sol",
           "upper": 551540842561535.94
          },
          {
           "lower": 179065387692851.2,
           "timepoint": 17.5,
           "trajectory": "V_sol",
           "upper": 557347613179903.94
          },
          {
           "lower": 180750778997145.62,
           "timepoint": 17.600000381469727,
           "trajectory": "V_sol",
           "upper": 563194830310604.8
          },
          {
           "lower": 182445196024217.62,
           "timepoint": 17.700000762939453,
           "trajectory": "V_sol",
           "upper": 569082636559974.4
          },
          {
           "lower": 184148642129510.4,
           "timepoint": 17.80000114440918,
           "trajectory": "V_sol",
           "upper": 575011919442739.1
          },
          {
           "lower": 185861153384038.4,
           "timepoint": 17.899999618530273,
           "trajectory": "V_sol",
           "upper": 580982517897625.5
          },
          {
           "lower": 187582838839705.62,
           "timepoint": 18,
           "trajectory": "V_sol",
           "upper": 586995010738585.5
          },
          {
           "lower": 189313708982272,
           "timepoint": 18.100000381469727,
           "trajectory": "V_sol",
           "upper": 593049621102592
          },
          {
           "lower": 191053828823449.62,
           "timepoint": 18.200000762939453,
           "trajectory": "V_sol",
           "upper": 599146498306867.1
          },
          {
           "lower": 192803132093235.2,
           "timepoint": 18.30000114440918,
           "trajectory": "V_sol",
           "upper": 605286006416998.4
          },
          {
           "lower": 194561831442841.62,
           "timepoint": 18.399999618530273,
           "trajectory": "V_sol",
           "upper": 611468360181350.4
          },
          {
           "lower": 196329963782144,
           "timepoint": 18.5,
           "trajectory": "V_sol",
           "upper": 617694109892608
          },
          {
           "lower": 198107525755699.2,
           "timepoint": 18.600000381469727,
           "trajectory": "V_sol",
           "upper": 623963426678374.4
          },
          {
           "lower": 199894582375219.2,
           "timepoint": 18.700000762939453,
           "trajectory": "V_sol",
           "upper": 630276511865241.5
          },
          {
           "lower": 201691177680896,
           "timepoint": 18.80000114440918,
           "trajectory": "V_sol",
           "upper": 636633831859814.4
          },
          {
           "lower": 203497373328998.4,
           "timepoint": 18.899999618530273,
           "trajectory": "V_sol",
           "upper": 643035447060070.4
          },
          {
           "lower": 205313231814656,
           "timepoint": 19,
           "trajectory": "V_sol",
           "upper": 649482078886297.5
          },
          {
           "lower": 207138789208883.2,
           "timepoint": 19.100000381469727,
           "trajectory": "V_sol",
           "upper": 655973673651404.8
          },
          {
           "lower": 208974151208140.8,
           "timepoint": 19.200000762939453,
           "trajectory": "V_sol",
           "upper": 662510556833382.4
          },
          {
           "lower": 210819277127680,
           "timepoint": 19.30000114440918,
           "trajectory": "V_sol",
           "upper": 669093365966438.4
          },
          {
           "lower": 212674099439206.4,
           "timepoint": 19.399999618530273,
           "trajectory": "V_sol",
           "upper": 675722067496140.8
          },
          {
           "lower": 214539011149004.8,
           "timepoint": 19.5,
           "trajectory": "V_sol",
           "upper": 682397248625049.5
          },
          {
           "lower": 216413886427955.2,
           "timepoint": 19.600000381469727,
           "trajectory": "V_sol",
           "upper": 689118593941503.9
          },
          {
           "lower": 218298781060300.8,
           "timepoint": 19.700000762939453,
           "trajectory": "V_sol",
           "upper": 695887522797977.5
          },
          {
           "lower": 220193760057753.62,
           "timepoint": 19.80000114440918,
           "trajectory": "V_sol",
           "upper": 702703830512435.1
          },
          {
           "lower": 222098828034048,
           "timepoint": 19.899999618530273,
           "trajectory": "V_sol",
           "upper": 709567651302604.8
          },
          {
           "lower": 224014170796851.2,
           "timepoint": 20,
           "trajectory": "V_sol",
           "upper": 716479615991807.9
          },
          {
           "lower": 225939726689894.4,
           "timepoint": 20.100000381469727,
           "trajectory": "V_sol",
           "upper": 723440029925375.9
          },
          {
           "lower": 227876110178713.62,
           "timepoint": 20.200000762939453,
           "trajectory": "V_sol",
           "upper": 730449070941798.4
          },
          {
           "lower": 229822410679910.4,
           "timepoint": 20.30000114440918,
           "trajectory": "V_sol",
           "upper": 737507252423884.8
          },
          {
           "lower": 231779095019520,
           "timepoint": 20.399999618530273,
           "trajectory": "V_sol",
           "upper": 744614557594419.1
          },
          {
           "lower": 233746312934195.2,
           "timepoint": 20.5,
           "trajectory": "V_sol",
           "upper": 751771895778508.8
          },
          {
           "lower": 235724055196467.2,
           "timepoint": 20.600000381469727,
           "trajectory": "V_sol",
           "upper": 758979213289062.2
          },
          {
           "lower": 237712421630771.2,
           "timepoint": 20.700000762939453,
           "trajectory": "V_sol",
           "upper": 766237023508889.5
          },
          {
           "lower": 239711412237107.2,
           "timepoint": 20.80000114440918,
           "trajectory": "V_sol",
           "upper": 773545584807116.8
          },
          {
           "lower": 241721092027187.2,
           "timepoint": 20.899999618530273,
           "trajectory": "V_sol",
           "upper": 780905158908313.5
          },
          {
           "lower": 243741610737664,
           "timepoint": 21,
           "trajectory": "V_sol",
           "upper": 788316443744665.5
          },
          {
           "lower": 245772928942080,
           "timepoint": 21.100000381469727,
           "trajectory": "V_sol",
           "upper": 795779529913139.1
          },
          {
           "lower": 247815145206579.22,
           "timepoint": 21.200000762939453,
           "trajectory": "V_sol",
           "upper": 803294927441100.8
          },
          {
           "lower": 249868306087936,
           "timepoint": 21.30000114440918,
           "trajectory": "V_sol",
           "upper": 810863743624806.2
          },
          {
           "lower": 251932461498368,
           "timepoint": 21.399999618530273,
           "trajectory": "V_sol",
           "upper": 818484659775078.2
          },
          {
           "lower": 254007720489779.22,
           "timepoint": 21.5,
           "trajectory": "V_sol",
           "upper": 826159085178060.8
          },
          {
           "lower": 256094108647424,
           "timepoint": 21.600000381469727,
           "trajectory": "V_sol",
           "upper": 833887190961356.8
          },
          {
           "lower": 258191695596748.8,
           "timepoint": 21.700000762939453,
           "trajectory": "V_sol",
           "upper": 841670366278451.1
          },
          {
           "lower": 260300541735731.22,
           "timepoint": 21.80000114440918,
           "trajectory": "V_sol",
           "upper": 849507309217382.2
          },
          {
           "lower": 262420662163865.6,
           "timepoint": 21.899999618530273,
           "trajectory": "V_sol",
           "upper": 857398882127052.8
          },
          {
           "lower": 264552226331033.6,
           "timepoint": 22,
           "trajectory": "V_sol",
           "upper": 865345970844467.1
          },
          {
           "lower": 266695229623500.8,
           "timepoint": 22.100000381469727,
           "trajectory": "V_sol",
           "upper": 873348655900262.2
          },
          {
           "lower": 268849702240256,
           "timepoint": 22.200000762939453,
           "trajectory": "V_sol",
           "upper": 881407457388134.2
          },
          {
           "lower": 271015778818457.6,
           "timepoint": 22.30000114440918,
           "trajectory": "V_sol",
           "upper": 889522643743539.1
          },
          {
           "lower": 273193435031142.4,
           "timepoint": 22.399999618530273,
           "trajectory": "V_sol",
           "upper": 897694510245478.2
          },
          {
           "lower": 275382825228697.6,
           "timepoint": 22.5,
           "trajectory": "V_sol",
           "upper": 906073414303743.9
          },
          {
           "lower": 277583969124352,
           "timepoint": 22.600000381469727,
           "trajectory": "V_sol",
           "upper": 914686706135859.1
          },
          {
           "lower": 279797481183641.6,
           "timepoint": 22.700000762939453,
           "trajectory": "V_sol",
           "upper": 923364469453619.1
          },
          {
           "lower": 282022434465382.4,
           "timepoint": 22.80000114440918,
           "trajectory": "V_sol",
           "upper": 932106882095513.5
          },
          {
           "lower": 284259292440166.4,
           "timepoint": 22.899999618530273,
           "trajectory": "V_sol",
           "upper": 940914457444351.9
          },
          {
           "lower": 286508229171609.6,
           "timepoint": 23,
           "trajectory": "V_sol",
           "upper": 949787933697638.2
          },
          {
           "lower": 288769289958195.25,
           "timepoint": 23.100000381469727,
           "trajectory": "V_sol",
           "upper": 958727267234611.1
          },
          {
           "lower": 291042692903731.25,
           "timepoint": 23.200000762939453,
           "trajectory": "V_sol",
           "upper": 967733615683174.2
          },
          {
           "lower": 293328154892697.6,
           "timepoint": 23.30000114440918,
           "trajectory": "V_sol",
           "upper": 976807190436249.5
          },
          {
           "lower": 295625867604787.25,
           "timepoint": 23.399999618530273,
           "trajectory": "V_sol",
           "upper": 985948407568793.5
          },
          {
           "lower": 297936017686528,
           "timepoint": 23.5,
           "trajectory": "V_sol",
           "upper": 995158173050470.2
          },
          {
           "lower": 300258592555008,
           "timepoint": 23.600000381469727,
           "trajectory": "V_sol",
           "upper": 1004436537212927.9
          },
          {
           "lower": 302593661835673.6,
           "timepoint": 23.700000762939453,
           "trajectory": "V_sol",
           "upper": 1013784070481510.2
          },
          {
           "lower": 304941325352960,
           "timepoint": 23.80000114440918,
           "trajectory": "V_sol",
           "upper": 1023201316438015.9
          },
          {
           "lower": 307301568007372.8,
           "timepoint": 23.899999618530273,
           "trajectory": "V_sol",
           "upper": 1032688721356390.2
          },
          {
           "lower": 309674610419302.4,
           "timepoint": 24,
           "trajectory": "V_sol",
           "upper": 1042247053633126.2
          },
          {
           "lower": 312060427003494.4,
           "timepoint": 24.100000381469727,
           "trajectory": "V_sol",
           "upper": 1051876803162931
          },
          {
           "lower": 314459102484889.6,
           "timepoint": 24.200000762939453,
           "trajectory": "V_sol",
           "upper": 1061578305490124.6
          },
          {
           "lower": 316870697261465.6,
           "timepoint": 24.30000114440918,
           "trajectory": "V_sol",
           "upper": 1071352231703347
          },
          {
           "lower": 319295247404236.8,
           "timepoint": 24.399999618530273,
           "trajectory": "V_sol",
           "upper": 1081198930768691
          },
          {
           "lower": 321440650677452.8,
           "timepoint": 24.5,
           "trajectory": "V_sol",
           "upper": 1091119214703411
          },
          {
           "lower": 323564519555072,
           "timepoint": 24.600000381469727,
           "trajectory": "V_sol",
           "upper": 1101113529781452.6
          },
          {
           "lower": 325696418847129.6,
           "timepoint": 24.700000762939453,
           "trajectory": "V_sol",
           "upper": 1111182308854988.6
          },
          {
           "lower": 327836448378060.8,
           "timepoint": 24.80000114440918,
           "trajectory": "V_sol",
           "upper": 1121326310254182.2
          },
          {
           "lower": 329984493223936,
           "timepoint": 24.899999618530273,
           "trajectory": "V_sol",
           "upper": 1131544836046847.8
          },
          {
           "lower": 332140766874828.8,
           "timepoint": 25,
           "trajectory": "V_sol",
           "upper": 1141840503478681.5
          },
          {
           "lower": 334305216063078.4,
           "timepoint": 25.100000381469727,
           "trajectory": "V_sol",
           "upper": 1152213074313215.8
          },
          {
           "lower": 336477894056345.6,
           "timepoint": 25.200000762939453,
           "trajectory": "V_sol",
           "upper": 1162662907582873.5
          },
          {
           "lower": 338658800854630.4,
           "timepoint": 25.30000114440918,
           "trajectory": "V_sol",
           "upper": 1173190660954521.5
          },
          {
           "lower": 340847931844198.4,
           "timepoint": 25.399999618530273,
           "trajectory": "V_sol",
           "upper": 1183796334428159.8
          },
          {
           "lower": 343045430889676.8,
           "timepoint": 25.5,
           "trajectory": "V_sol",
           "upper": 1194481679545139
          },
          {
           "lower": 345251212007833.6,
           "timepoint": 25.600000381469727,
           "trajectory": "V_sol",
           "upper": 1205246478201651
          },
          {
           "lower": 347465373345382.4,
           "timepoint": 25.700000762939453,
           "trajectory": "V_sol",
           "upper": 1216091606168371
          },
          {
           "lower": 349688192565248,
           "timepoint": 25.80000114440918,
           "trajectory": "V_sol",
           "upper": 1227017630515199.8
          },
          {
           "lower": 351919194033356.8,
           "timepoint": 25.899999618530273,
           "trajectory": "V_sol",
           "upper": 1238024759279615.8
          },
          {
           "lower": 354158707422003.25,
           "timepoint": 26,
           "trajectory": "V_sol",
           "upper": 1249114244041932.5
          },
          {
           "lower": 356406663105740.8,
           "timepoint": 26.100000381469727,
           "trajectory": "V_sol",
           "upper": 1260286145200127.8
          },
          {
           "lower": 358663179363942.4,
           "timepoint": 26.200000762939453,
           "trajectory": "V_sol",
           "upper": 1271541576761343.8
          },
          {
           "lower": 360928267940659.25,
           "timepoint": 26.30000114440918,
           "trajectory": "V_sol",
           "upper": 1282880672943308.5
          },
          {
           "lower": 363201907864371.25,
           "timepoint": 26.399999618530273,
           "trajectory": "V_sol",
           "upper": 1294304286028595
          },
          {
           "lower": 365484168760524.8,
           "timepoint": 26.5,
           "trajectory": "V_sol",
           "upper": 1305812845513932.5
          },
          {
           "lower": 367775129482035.25,
           "timepoint": 26.600000381469727,
           "trajectory": "V_sol",
           "upper": 1317407304345190.2
          },
          {
           "lower": 370074750602444.8,
           "timepoint": 26.700000762939453,
           "trajectory": "V_sol",
           "upper": 1329088333611007.8
          },
          {
           "lower": 372383122718720,
           "timepoint": 26.80000114440918,
           "trajectory": "V_sol",
           "upper": 1340857181536255.8
          },
          {
           "lower": 374700173688832,
           "timepoint": 26.899999618530273,
           "trajectory": "V_sol",
           "upper": 1352712720692019
          },
          {
           "lower": 377026075479244.8,
           "timepoint": 27,
           "trajectory": "V_sol",
           "upper": 1364656722752307
          },
          {
           "lower": 379360786146918.4,
           "timepoint": 27.100000381469727,
           "trajectory": "V_sol",
           "upper": 1376689691033599.8
          },
          {
           "lower": 381704366089830.4,
           "timepoint": 27.200000762939453,
           "trajectory": "V_sol",
           "upper": 1388811350389555
          },
          {
           "lower": 384056824535449.6,
           "timepoint": 27.30000114440918,
           "trajectory": "V_sol",
           "upper": 1401024116739276.5
          },
          {
           "lower": 386418161483776,
           "timepoint": 27.399999618530273,
           "trajectory": "V_sol",
           "upper": 1413327607562239.8
          },
          {
           "lower": 388788537157222.4,
           "timepoint": 27.5,
           "trajectory": "V_sol",
           "upper": 1425722849624063.8
          },
          {
           "lower": 391167809788313.6,
           "timepoint": 27.600000381469727,
           "trajectory": "V_sol",
           "upper": 1438210574411366.2
          },
          {
           "lower": 393556160570982.4,
           "timepoint": 27.700000762939453,
           "trajectory": "V_sol",
           "upper": 1450791003383398.2
          },
          {
           "lower": 395953589505228.8,
           "timepoint": 27.80000114440918,
           "trajectory": "V_sol",
           "upper": 1463465210281983.8
          },
          {
           "lower": 398360045420544,
           "timepoint": 27.899999618530273,
           "trajectory": "V_sol",
           "upper": 1476233537362329.5
          },
          {
           "lower": 400775618913894.4,
           "timepoint": 28,
           "trajectory": "V_sol",
           "upper": 1489097145607782.2
          },
          {
           "lower": 403200407293132.8,
           "timepoint": 28.100000381469727,
           "trajectory": "V_sol",
           "upper": 1502056511491276.5
          },
          {
           "lower": 405634443273830.4,
           "timepoint": 28.200000762939453,
           "trajectory": "V_sol",
           "upper": 1515112440319180.5
          },
          {
           "lower": 408077594315980.8,
           "timepoint": 28.30000114440918,
           "trajectory": "V_sol",
           "upper": 1528265421986201.2
          },
          {
           "lower": 410530023158579.25,
           "timepoint": 28.399999618530273,
           "trajectory": "V_sol",
           "upper": 1541516006785023.8
          },
          {
           "lower": 412991655143014.4,
           "timepoint": 28.5,
           "trajectory": "V_sol",
           "upper": 1554865463073177.2
          },
          {
           "lower": 415462817424998.4,
           "timepoint": 28.600000381469727,
           "trajectory": "V_sol",
           "upper": 1568314341143347
          },
          {
           "lower": 417943290223001.6,
           "timepoint": 28.700000762939453,
           "trajectory": "V_sol",
           "upper": 1581861500144844.5
          },
          {
           "lower": 420433147356774.4,
           "timepoint": 28.80000114440918,
           "trajectory": "V_sol",
           "upper": 1595510973320396.5
          },
          {
           "lower": 422932409797836.8,
           "timepoint": 28.899999618530273,
           "trajectory": "V_sol",
           "upper": 1609261653373747
          },
          {
           "lower": 425441195825561.6,
           "timepoint": 29,
           "trajectory": "V_sol",
           "upper": 1623114895903948.5
          },
          {
           "lower": 427959435814502.4,
           "timepoint": 29.100000381469727,
           "trajectory": "V_sol",
           "upper": 1637071371999641.2
          },
          {
           "lower": 430487299214540.8,
           "timepoint": 29.200000762939453,
           "trajectory": "V_sol",
           "upper": 1651131497735782.2
          },
          {
           "lower": 433024716400230.4,
           "timepoint": 29.30000114440918,
           "trajectory": "V_sol",
           "upper": 1665296091840511.8
          },
          {
           "lower": 435571696599040,
           "timepoint": 29.399999618530273,
           "trajectory": "V_sol",
           "upper": 1679565691184742.2
          },
          {
           "lower": 438128409260851.25,
           "timepoint": 29.5,
           "trajectory": "V_sol",
           "upper": 1693941738609049.2
          },
          {
           "lower": 440694803215155.25,
           "timepoint": 29.600000381469727,
           "trajectory": "V_sol",
           "upper": 1708424683742822
          },
          {
           "lower": 443270920404992,
           "timepoint": 29.700000762939453,
           "trajectory": "V_sol",
           "upper": 1723015284916223.8
          },
          {
           "lower": 445856749086310.4,
           "timepoint": 29.80000114440918,
           "trajectory": "V_sol",
           "upper": 1737714119265484.5
          },
          {
           "lower": 448452410055065.6,
           "timepoint": 29.899999618530273,
           "trajectory": "V_sol",
           "upper": 1752522025651404.5
          },
          {
           "lower": 451057921766195.25,
           "timepoint": 30,
           "trajectory": "V_sol",
           "upper": 1767440312696831.8
          },
          {
           "lower": 453673254020710.4,
           "timepoint": 30.100000381469727,
           "trajectory": "V_sol",
           "upper": 1782469336078745.2
          },
          {
           "lower": 456298548586086.4,
           "timepoint": 30.200000762939453,
           "trajectory": "V_sol",
           "upper": 1797610095719219
          },
          {
           "lower": 458933833144729.6,
           "timepoint": 30.30000114440918,
           "trajectory": "V_sol",
           "upper": 1812863410346393.2
          },
          {
           "lower": 461579017099673.6,
           "timepoint": 30.399999618530273,
           "trajectory": "V_sol",
           "upper": 1828229622215475
          },
          {
           "lower": 464234251445862.4,
           "timepoint": 30.5,
           "trajectory": "V_sol",
           "upper": 1843710308384767.8
          },
          {
           "lower": 466899573093171.25,
           "timepoint": 30.600000381469727,
           "trajectory": "V_sol",
           "upper": 1859305207129702
          },
          {
           "lower": 469575035728691.25,
           "timepoint": 30.700000762939453,
           "trajectory": "V_sol",
           "upper": 1875016539753676.5
          },
          {
           "lower": 472260588181913.6,
           "timepoint": 30.80000114440918,
           "trajectory": "V_sol",
           "upper": 1890844447185305.2
          },
          {
           "lower": 474956297561702.44,
           "timepoint": 30.899999618530273,
           "trajectory": "V_sol",
           "upper": 1906789674332979
          },
          {
           "lower": 477662256981606.44,
           "timepoint": 31,
           "trajectory": "V_sol",
           "upper": 1922855435711283
          },
          {
           "lower": 480378161935155.2,
           "timepoint": 31.100000381469727,
           "trajectory": "V_sol",
           "upper": 1939038872482611
          },
          {
           "lower": 483104655828582.44,
           "timepoint": 31.200000762939453,
           "trajectory": "V_sol",
           "upper": 1955342380433407.8
          },
          {
           "lower": 485841466870988.8,
           "timepoint": 31.30000114440918,
           "trajectory": "V_sol",
           "upper": 1971767006461951.8
          },
          {
           "lower": 488588576607436.8,
           "timepoint": 31.399999618530273,
           "trajectory": "V_sol",
           "upper": 1988313240462950
          },
          {
           "lower": 491346161198694.44,
           "timepoint": 31.5,
           "trajectory": "V_sol",
           "upper": 2004982538698751.8
          },
          {
           "lower": 494114144308428.8,
           "timepoint": 31.600000381469727,
           "trajectory": "V_sol",
           "upper": 2021775558836223.8
          },
          {
           "lower": 496892671898419.2,
           "timepoint": 31.700000762939453,
           "trajectory": "V_sol",
           "upper": 2038693106181734
          },
          {
           "lower": 499681676859801.6,
           "timepoint": 31.80000114440918,
           "trajectory": "V_sol",
           "upper": 2055736160524697.2
          },
          {
           "lower": 502481217073971.2,
           "timepoint": 31.899999618530273,
           "trajectory": "V_sol",
           "upper": 2072905319134003
          },
          {
           "lower": 505291413336883.2,
           "timepoint": 32,
           "trajectory": "V_sol",
           "upper": 2090202219465932.5
          },
          {
           "lower": 508112302558412.8,
           "timepoint": 32.10000228881836,
           "trajectory": "V_sol",
           "upper": 2107627740646604.5
          },
          {
           "lower": 510943708577792,
           "timepoint": 32.20000076293945,
           "trajectory": "V_sol",
           "upper": 2125181849121586.8
          },
          {
           "lower": 513785867953766.44,
           "timepoint": 32.29999923706055,
           "trajectory": "V_sol",
           "upper": 2142866041418546.8
          },
          {
           "lower": 516638901482291.2,
           "timepoint": 32.400001525878906,
           "trajectory": "V_sol",
           "upper": 2160682156320358
          },
          {
           "lower": 519502630486016,
           "timepoint": 32.5,
           "trajectory": "V_sol",
           "upper": 2178630267646770.8
          },
          {
           "lower": 522377319206092.8,
           "timepoint": 32.60000228881836,
           "trajectory": "V_sol",
           "upper": 2196710986088447.5
          },
          {
           "lower": 525262724372889.6,
           "timepoint": 32.70000076293945,
           "trajectory": "V_sol",
           "upper": 2214925533026713.2
          },
          {
           "lower": 528159061573632,
           "timepoint": 32.79999923706055,
           "trajectory": "V_sol",
           "upper": 2233275129842892.5
          },
          {
           "lower": 531066491030732.8,
           "timepoint": 32.900001525878906,
           "trajectory": "V_sol",
           "upper": 2251761273064652.5
          },
          {
           "lower": 533984813095321.6,
           "timepoint": 33,
           "trajectory": "V_sol",
           "upper": 2270383774787174
          },
          {
           "lower": 536914245871206.44,
           "timepoint": 33.10000228881836,
           "trajectory": "V_sol",
           "upper": 2289145050929561
          },
          {
           "lower": 539854692050534.44,
           "timepoint": 33.20000076293945,
           "trajectory": "V_sol",
           "upper": 2308044658573311.5
          },
          {
           "lower": 542806218742169.6,
           "timepoint": 33.29999923706055,
           "trajectory": "V_sol",
           "upper": 2327084141222297
          },
          {
           "lower": 545769025594982.44,
           "timepoint": 33.400001525878906,
           "trajectory": "V_sol",
           "upper": 2346265612805734
          },
          {
           "lower": 548742933931622.44,
           "timepoint": 33.5,
           "trajectory": "V_sol",
           "upper": 2365588214330163
          },
          {
           "lower": 551728261680332.8,
           "timepoint": 33.60000228881836,
           "trajectory": "V_sol",
           "upper": 2385054563041279.5
          },
          {
           "lower": 554724690912870.44,
           "timepoint": 33.70000076293945,
           "trajectory": "V_sol",
           "upper": 2404664806578585
          },
          {
           "lower": 557734251672371.2,
           "timepoint": 33.79999923706055,
           "trajectory": "V_sol",
           "upper": 2424419663006924.5
          },
          {
           "lower": 560753719377920,
           "timepoint": 33.900001525878906,
           "trajectory": "V_sol",
           "upper": 2444322018007449
          },
          {
           "lower": 563784518415155.2,
           "timepoint": 34,
           "trajectory": "V_sol",
           "upper": 2464370770994790
          },
          {
           "lower": 566826843399782.5,
           "timepoint": 34.10000228881836,
           "trajectory": "V_sol",
           "upper": 2484568572769075
          },
          {
           "lower": 569880659938508.8,
           "timepoint": 34.20000076293945,
           "trajectory": "V_sol",
           "upper": 2504915242136371
          },
          {
           "lower": 572945953770700.8,
           "timepoint": 34.29999923706055,
           "trajectory": "V_sol",
           "upper": 2525410235514879.5
          },
          {
           "lower": 576023104900300.8,
           "timepoint": 34.400001525878906,
           "trajectory": "V_sol",
           "upper": 2546061136206233
          },
          {
           "lower": 579111694735769.6,
           "timepoint": 34.5,
           "trajectory": "V_sol",
           "upper": 2566862763406131
          },
          {
           "lower": 582212128446873.6,
           "timepoint": 34.60000228881836,
           "trajectory": "V_sol",
           "upper": 2587818647040819
          },
          {
           "lower": 585324130048409.6,
           "timepoint": 34.70000076293945,
           "trajectory": "V_sol",
           "upper": 2608928760266751.5
          },
          {
           "lower": 588447889961779.2,
           "timepoint": 34.79999923706055,
           "trajectory": "V_sol",
           "upper": 2630195545846579
          },
          {
           "lower": 591583663200665.6,
           "timepoint": 34.900001525878906,
           "trajectory": "V_sol",
           "upper": 2651619782243123
          },
          {
           "lower": 594731094926950.5,
           "timepoint": 35,
           "trajectory": "V_sol",
           "upper": 2673201697626521
          },
          {
           "lower": 597890600376729.6,
           "timepoint": 35.10000228881836,
           "trajectory": "V_sol",
           "upper": 2694943976351334
          },
          {
           "lower": 601061952218726.5,
           "timepoint": 35.20000076293945,
           "trajectory": "V_sol",
           "upper": 2716846175499058.5
          },
          {
           "lower": 604245247760793.6,
           "timepoint": 35.29999923706055,
           "trajectory": "V_sol",
           "upper": 2738910496240434.5
          },
          {
           "lower": 607440777248768,
           "timepoint": 35.400001525878906,
           "trajectory": "V_sol",
           "upper": 2761138186800332.5
          },
          {
           "lower": 610648213526937.6,
           "timepoint": 35.5,
           "trajectory": "V_sol",
           "upper": 2783529488770662
          },
          {
           "lower": 613867981058867.2,
           "timepoint": 35.60000228881836,
           "trajectory": "V_sol",
           "upper": 2806086724118118
          },
          {
           "lower": 617099743461376,
           "timepoint": 35.70000076293945,
           "trajectory": "V_sol",
           "upper": 2828809651250790
          },
          {
           "lower": 620343739809792,
           "timepoint": 35.79999923706055,
           "trajectory": "V_sol",
           "upper": 2851700296856370.5
          },
          {
           "lower": 623600167236403.2,
           "timepoint": 35.900001525878906,
           "trajectory": "V_sol",
           "upper": 2874760929214463.5
          },
          {
           "lower": 626868758983475.2,
           "timepoint": 36,
           "trajectory": "V_sol",
           "upper": 2897992742862847.5
          },
          {
           "lower": 630149821235200,
           "timepoint": 36.10000228881836,
           "trajectory": "V_sol",
           "upper": 2921398771122175.5
          },
          {
           "lower": 633443166086758.5,
           "timepoint": 36.20000076293945,
           "trajectory": "V_sol",
           "upper": 2944973846609919.5
          },
          {
           "lower": 636749002414489.6,
           "timepoint": 36.29999923706055,
           "trajectory": "V_sol",
           "upper": 2968722747477196.5
          },
          {
           "lower": 640067460241817.6,
           "timepoint": 36.400001525878906,
           "trajectory": "V_sol",
           "upper": 2992648064126156.5
          },
          {
           "lower": 643398077356441.6,
           "timepoint": 36.5,
           "trajectory": "V_sol",
           "upper": 3016748897298022
          },
          {
           "lower": 646741645642956.8,
           "timepoint": 36.60000228881836,
           "trajectory": "V_sol",
           "upper": 3041028682966630
          },
          {
           "lower": 650097705405644.8,
           "timepoint": 36.70000076293945,
           "trajectory": "V_sol",
           "upper": 3065486575560294
          },
          {
           "lower": 653466535146291.2,
           "timepoint": 36.79999923706055,
           "trajectory": "V_sol",
           "upper": 3090124843358617
          },
          {
           "lower": 656848153319833.6,
           "timepoint": 36.900001525878906,
           "trajectory": "V_sol",
           "upper": 3114945929124249
          },
          {
           "lower": 660242411447910.5,
           "timepoint": 37,
           "trajectory": "V_sol",
           "upper": 3139949175190322.5
          },
          {
           "lower": 663649657657753.6,
           "timepoint": 37.10000228881836,
           "trajectory": "V_sol",
           "upper": 3165137829625855.5
          },
          {
           "lower": 667069743471001.6,
           "timepoint": 37.20000076293945,
           "trajectory": "V_sol",
           "upper": 3190511207920434.5
          },
          {
           "lower": 670502857631334.5,
           "timepoint": 37.29999923706055,
           "trajectory": "V_sol",
           "upper": 3216071806523801
          },
          {
           "lower": 673948965745459.2,
           "timepoint": 37.400001525878906,
           "trajectory": "V_sol",
           "upper": 3241822014511513
          },
          {
           "lower": 677407931917926.5,
           "timepoint": 37.5,
           "trajectory": "V_sol",
           "upper": 3267761201060249
          },
          {
           "lower": 680880034650521.6,
           "timepoint": 37.60000228881836,
           "trajectory": "V_sol",
           "upper": 3293892225007615.5
          },
          {
           "lower": 684365264715776,
           "timepoint": 37.70000076293945,
           "trajectory": "V_sol",
           "upper": 3320210308202495.5
          },
          {
           "lower": 687863631341158.5,
           "timepoint": 37.79999923706055,
           "trajectory": "V_sol",
           "upper": 3346722617871564
          },
          {
           "lower": 691375301459968,
           "timepoint": 37.900001525878906,
           "trajectory": "V_sol",
           "upper": 3373434281132031.5
          },
          {
           "lower": 694900159309414.5,
           "timepoint": 38,
           "trajectory": "V_sol",
           "upper": 3400341835166514.5
          },
          {
           "lower": 698438520301158.5,
           "timepoint": 38.10000228881836,
           "trajectory": "V_sol",
           "upper": 3427448165656166
          },
          {
           "lower": 701989966682521.6,
           "timepoint": 38.20000076293945,
           "trajectory": "V_sol",
           "upper": 3454753178648575.5
          },
          {
           "lower": 705555009319731.2,
           "timepoint": 38.29999923706055,
           "trajectory": "V_sol",
           "upper": 3482258967940300
          },
          {
           "lower": 709133522383667.2,
           "timepoint": 38.400001525878906,
           "trajectory": "V_sol",
           "upper": 3509968566851993
          },
          {
           "lower": 712725552850534.5,
           "timepoint": 38.5,
           "trajectory": "V_sol",
           "upper": 3537880660049919.5
          },
          {
           "lower": 716331192995020.8,
           "timepoint": 38.60000228881836,
           "trajectory": "V_sol",
           "upper": 3565999368018329
          },
          {
           "lower": 719950308599398.5,
           "timepoint": 38.70000076293945,
           "trajectory": "V_sol",
           "upper": 3594323576750079.5
          },
          {
           "lower": 723583215075328,
           "timepoint": 38.79999923706055,
           "trajectory": "V_sol",
           "upper": 3622856091395686
          },
          {
           "lower": 727229875512934.5,
           "timepoint": 38.900001525878906,
           "trajectory": "V_sol",
           "upper": 3651599797636300
          },
          {
           "lower": 730890229514240,
           "timepoint": 39,
           "trajectory": "V_sol",
           "upper": 3680553299607551.5
          },
          {
           "lower": 734564490149888,
           "timepoint": 39.10000228881836,
           "trajectory": "V_sol",
           "upper": 3709720704371916
          },
          {
           "lower": 738252462804172.8,
           "timepoint": 39.20000076293945,
           "trajectory": "V_sol",
           "upper": 3739101595854437.5
          },
          {
           "lower": 741954449466982.5,
           "timepoint": 39.29999923706055,
           "trajectory": "V_sol",
           "upper": 3768698175225855.5
          },
          {
           "lower": 745670542413004.8,
           "timepoint": 39.400001525878906,
           "trajectory": "V_sol",
           "upper": 3798513301323775.5
          },
          {
           "lower": 749400468173619.2,
           "timepoint": 39.5,
           "trajectory": "V_sol",
           "upper": 3828544544807321
          },
          {
           "lower": 753144741809356.8,
           "timepoint": 39.60000228881836,
           "trajectory": "V_sol",
           "upper": 3858799099746713
          },
          {
           "lower": 756902964022476.8,
           "timepoint": 39.70000076293945,
           "trajectory": "V_sol",
           "upper": 3889274523379301.5
          },
          {
           "lower": 760675339495014.5,
           "timepoint": 39.79999923706055,
           "trajectory": "V_sol",
           "upper": 3919973942978149.5
          },
          {
           "lower": 764462220548505.6,
           "timepoint": 39.900001525878906,
           "trajectory": "V_sol",
           "upper": 3950899264434994.5
          },
          {
           "lower": 768263050179379.2,
           "timepoint": 40,
           "trajectory": "V_sol",
           "upper": 3982050876981247
          },
          {
           "lower": 772078487732224,
           "timepoint": 40.099998474121094,
           "trajectory": "V_sol",
           "upper": 4013430686508645.5
          },
          {
           "lower": 775908033246003.2,
           "timepoint": 40.20000076293945,
           "trajectory": "V_sol",
           "upper": 4045041820290252
          },
          {
           "lower": 779752166549094.5,
           "timepoint": 40.29999923706055,
           "trajectory": "V_sol",
           "upper": 4076883526706789.5
          },
          {
           "lower": 783610907774156.8,
           "timepoint": 40.39999771118164,
           "trajectory": "V_sol",
           "upper": 4108958879344229.5
          },
          {
           "lower": 787484330740940.8,
           "timepoint": 40.5,
           "trajectory": "V_sol",
           "upper": 4141270200169266.5
          },
          {
           "lower": 791372222378803.2,
           "timepoint": 40.599998474121094,
           "trajectory": "V_sol",
           "upper": 4173817784460901.5
          },
          {
           "lower": 795274819246489.6,
           "timepoint": 40.70000076293945,
           "trajectory": "V_sol",
           "upper": 4206604316573695
          },
          {
           "lower": 799192163287040,
           "timepoint": 40.79999923706055,
           "trajectory": "V_sol",
           "upper": 4239629823351193
          },
          {
           "lower": 803124189069312,
           "timepoint": 40.89999771118164,
           "trajectory": "V_sol",
           "upper": 4272897458910002.5
          },
          {
           "lower": 807071240526233.6,
           "timepoint": 41,
           "trajectory": "V_sol",
           "upper": 4306412618802789.5
          },
          {
           "lower": 811033015667916.8,
           "timepoint": 41.099998474121094,
           "trajectory": "V_sol",
           "upper": 4340169813524479
          },
          {
           "lower": 815010011099955.2,
           "timepoint": 41.20000076293945,
           "trajectory": "V_sol",
           "upper": 4374177445104844
          },
          {
           "lower": 819001711761817.6,
           "timepoint": 41.29999923706055,
           "trajectory": "V_sol",
           "upper": 4408430574331493.5
          },
          {
           "lower": 823008498496307.2,
           "timepoint": 41.39999771118164,
           "trajectory": "V_sol",
           "upper": 4442934824927231
          },
          {
           "lower": 827030584374067.2,
           "timepoint": 41.5,
           "trajectory": "V_sol",
           "upper": 4477692169892658.5
          },
          {
           "lower": 831067551642419.2,
           "timepoint": 41.599998474121094,
           "trajectory": "V_sol",
           "upper": 4512702958193868
          },
          {
           "lower": 835119999247974.5,
           "timepoint": 41.70000076293945,
           "trajectory": "V_sol",
           "upper": 4547970760022425
          },
          {
           "lower": 839187690631987.2,
           "timepoint": 41.79999923706055,
           "trajectory": "V_sol",
           "upper": 4583495642487193
          },
          {
           "lower": 843270644249395.2,
           "timepoint": 41.89999771118164,
           "trajectory": "V_sol",
           "upper": 4619279685962956
          },
          {
           "lower": 847369115113881.6,
           "timepoint": 42,
           "trajectory": "V_sol",
           "upper": 4655326769342054
          },
          {
           "lower": 851483005917593.6,
           "timepoint": 42.099998474121094,
           "trajectory": "V_sol",
           "upper": 4691635926256844
          },
          {
           "lower": 855612558252441.6,
           "timepoint": 42.20000076293945,
           "trajectory": "V_sol",
           "upper": 4728211451674623
          },
          {
           "lower": 859757367787520,
           "timepoint": 42.29999923706055,
           "trajectory": "V_sol",
           "upper": 4765052338962431
          },
          {
           "lower": 863918020047667.2,
           "timepoint": 42.39999771118164,
           "trajectory": "V_sol",
           "upper": 4802162681760972
          },
          {
           "lower": 868094444568576,
           "timepoint": 42.5,
           "trajectory": "V_sol",
           "upper": 4839549902310604
          },
          {
           "lower": 872286391369728,
           "timepoint": 42.599998474121094,
           "trajectory": "V_sol",
           "upper": 4877204175873637
          },
          {
           "lower": 876494264782028.8,
           "timepoint": 42.70000076293945,
           "trajectory": "V_sol",
           "upper": 4915135649310309
          },
          {
           "lower": 880718007762944,
           "timepoint": 42.79999923706055,
           "trajectory": "V_sol",
           "upper": 4953341772483788
          },
          {
           "lower": 884957606890700.8,
           "timepoint": 42.89999771118164,
           "trajectory": "V_sol",
           "upper": 4991826880626687
          },
          {
           "lower": 889213340667084.8,
           "timepoint": 43,
           "trajectory": "V_sol",
           "upper": 5030593725202431
          },
          {
           "lower": 893484990988288,
           "timepoint": 43.099998474121094,
           "trajectory": "V_sol",
           "upper": 5069642306211020
          },
          {
           "lower": 897772957152051.2,
           "timepoint": 43.20000076293945,
           "trajectory": "V_sol",
           "upper": 5108976717293157
          },
          {
           "lower": 902076858315571.2,
           "timepoint": 43.29999923706055,
           "trajectory": "V_sol",
           "upper": 5148596502108569
          },
          {
           "lower": 906397056866713.6,
           "timepoint": 43.39999771118164,
           "trajectory": "V_sol",
           "upper": 5188504559760178
          },
          {
           "lower": 910733645080166.5,
           "timepoint": 43.5,
           "trajectory": "V_sol",
           "upper": 5228704594657279
          },
          {
           "lower": 915086428340224,
           "timepoint": 43.599998474121094,
           "trajectory": "V_sol",
           "upper": 5269195533058047
          },
          {
           "lower": 919455787489689.6,
           "timepoint": 43.70000076293945,
           "trajectory": "V_sol",
           "upper": 5309982851045784
          },
          {
           "lower": 923841499391590.4,
           "timepoint": 43.79999923706055,
           "trajectory": "V_sol",
           "upper": 5351066011749580
          },
          {
           "lower": 928243721751756.9,
           "timepoint": 43.89999771118164,
           "trajectory": "V_sol",
           "upper": 5392447162653080
          },
          {
           "lower": 932662816958054.4,
           "timepoint": 44,
           "trajectory": "V_sol",
           "upper": 5434135081595698
          },
          {
           "lower": 937097400890163.2,
           "timepoint": 44.099998474121094,
           "trajectory": "V_sol",
           "upper": 5476121608139570
          },
          {
           "lower": 941549716661862.4,
           "timepoint": 44.20000076293945,
           "trajectory": "V_sol",
           "upper": 5518414392695192
          },
          {
           "lower": 946018547924992,
           "timepoint": 44.29999923706055,
           "trajectory": "V_sol",
           "upper": 5561013623167384
          },
          {
           "lower": 950504265456025.6,
           "timepoint": 44.39999771118164,
           "trajectory": "V_sol",
           "upper": 5603922091284888
          },
          {
           "lower": 955006995084083.2,
           "timepoint": 44.5,
           "trajectory": "V_sol",
           "upper": 5647143796735999
          },
          {
           "lower": 959526592525107.2,
           "timepoint": 44.599998474121094,
           "trajectory": "V_sol",
           "upper": 5690684913536204
          },
          {
           "lower": 964063280916070.4,
           "timepoint": 44.70000076293945,
           "trajectory": "V_sol",
           "upper": 5734538516050738
          },
          {
           "lower": 968616976370892.9,
           "timepoint": 44.79999923706055,
           "trajectory": "V_sol",
           "upper": 5778708147627621
          },
          {
           "lower": 973187823173632,
           "timepoint": 44.89999771118164,
           "trajectory": "V_sol",
           "upper": 5823198156921240
          },
          {
           "lower": 977776052849868.9,
           "timepoint": 45,
           "trajectory": "V_sol",
           "upper": 5868013429456895
          },
          {
           "lower": 982381433874022.4,
           "timepoint": 45.099998474121094,
           "trajectory": "V_sol",
           "upper": 5913151522471935
          },
          {
           "lower": 987004239714713.6,
           "timepoint": 45.20000076293945,
           "trajectory": "V_sol",
           "upper": 5958618985791487
          },
          {
           "lower": 991643951955968,
           "timepoint": 45.29999923706055,
           "trajectory": "V_sol",
           "upper": 6004414745673727
          },
          {
           "lower": 996301515155046.4,
           "timepoint": 45.39999771118164,
           "trajectory": "V_sol",
           "upper": 6050542077031218
          },
          {
           "lower": 1000976679331430.4,
           "timepoint": 45.5,
           "trajectory": "V_sol",
           "upper": 6097008764492184
          },
          {
           "lower": 1005669375698534.4,
           "timepoint": 45.599998474121094,
           "trajectory": "V_sol",
           "upper": 6143807211333221
          },
          {
           "lower": 1010379830748774.4,
           "timepoint": 45.70000076293945,
           "trajectory": "V_sol",
           "upper": 6190946598046924
          },
          {
           "lower": 1015107933752524.9,
           "timepoint": 45.79999923706055,
           "trajectory": "V_sol",
           "upper": 6238426065639832
          },
          {
           "lower": 1019853679676620.9,
           "timepoint": 45.89999771118164,
           "trajectory": "V_sol",
           "upper": 6286248889024511
          },
          {
           "lower": 1024617570159820.9,
           "timepoint": 46,
           "trajectory": "V_sol",
           "upper": 6334420034256895
          },
          {
           "lower": 1029399224359321.6,
           "timepoint": 46.099998474121094,
           "trajectory": "V_sol",
           "upper": 6382934803716504
          },
          {
           "lower": 1034198976141721.6,
           "timepoint": 46.20000076293945,
           "trajectory": "V_sol",
           "upper": 6431804874345676
          },
          {
           "lower": 1039016557071564.9,
           "timepoint": 46.29999923706055,
           "trajectory": "V_sol",
           "upper": 6481025575367474
          },
          {
           "lower": 1043852337925324.9,
           "timepoint": 46.39999771118164,
           "trajectory": "V_sol",
           "upper": 6530602436552293
          },
          {
           "lower": 1048706959592652.9,
           "timepoint": 46.5,
           "trajectory": "V_sol",
           "upper": 6580538867030424
          },
          {
           "lower": 1053579182237286.4,
           "timepoint": 46.599998474121094,
           "trajectory": "V_sol",
           "upper": 6630834974176050
          },
          {
           "lower": 1058470064501555.2,
           "timepoint": 46.70000076293945,
           "trajectory": "V_sol",
           "upper": 6681495106643557
          },
          {
           "lower": 1063379007438848,
           "timepoint": 46.79999923706055,
           "trajectory": "V_sol",
           "upper": 6732519210745855
          },
          {
           "lower": 1068306470744883.2,
           "timepoint": 46.89999771118164,
           "trajectory": "V_sol",
           "upper": 6783910856674507
          },
          {
           "lower": 1073252672523468.9,
           "timepoint": 47,
           "trajectory": "V_sol",
           "upper": 6835675574199909
          },
          {
           "lower": 1078217231931801.6,
           "timepoint": 47.099998474121094,
           "trajectory": "V_sol",
           "upper": 6887826060319128
          },
          {
           "lower": 1083200729461555.2,
           "timepoint": 47.20000076293945,
           "trajectory": "V_sol",
           "upper": 6940342397121330
          },
          {
           "lower": 1088202807758028.9,
           "timepoint": 47.29999923706055,
           "trajectory": "V_sol",
           "upper": 6993235322024754
          },
          {
           "lower": 1093223601038950.4,
           "timepoint": 47.39999771118164,
           "trajectory": "V_sol",
           "upper": 7046508888404786
          },
          {
           "lower": 1098263471692185.6,
           "timepoint": 47.5,
           "trajectory": "V_sol",
           "upper": 7100168572344728
          },
          {
           "lower": 1103322159670886.4,
           "timepoint": 47.599998474121094,
           "trajectory": "V_sol",
           "upper": 7154213192728574
          },
          {
           "lower": 1108400022329753.6,
           "timepoint": 47.70000076293945,
           "trajectory": "V_sol",
           "upper": 7208648923571813
          },
          {
           "lower": 1113496841564979.2,
           "timepoint": 47.79999923706055,
           "trajectory": "V_sol",
           "upper": 7263474100574616
          },
          {
           "lower": 1118612575433523.2,
           "timepoint": 47.89999771118164,
           "trajectory": "V_sol",
           "upper": 7318693501888101
          },
          {
           "lower": 1123748004075929.6,
           "timepoint": 48,
           "trajectory": "V_sol",
           "upper": 7374311878819838
          },
          {
           "lower": 1128902407749632,
           "timepoint": 48.099998474121094,
           "trajectory": "V_sol",
           "upper": 7430328399219915
          },
          {
           "lower": 1134076343458201.5,
           "timepoint": 48.19999694824219,
           "trajectory": "V_sol",
           "upper": 7486747653334629
          },
          {
           "lower": 1139269750803661,
           "timepoint": 48.29999923706055,
           "trajectory": "V_sol",
           "upper": 7543574097192549
          },
          {
           "lower": 1144482792525005,
           "timepoint": 48.400001525878906,
           "trajectory": "V_sol",
           "upper": 7600808160290405
          },
          {
           "lower": 1149715185087283.2,
           "timepoint": 48.5,
           "trajectory": "V_sol",
           "upper": 7658450486873291
          },
          {
           "lower": 1154967253968486.5,
           "timepoint": 48.599998474121094,
           "trajectory": "V_sol",
           "upper": 7716510767461170
          },
          {
           "lower": 1160239031045325,
           "timepoint": 48.69999694824219,
           "trajectory": "V_sol",
           "upper": 7774984384964197
          },
          {
           "lower": 1165530794819584,
           "timepoint": 48.79999923706055,
           "trajectory": "V_sol",
           "upper": 7833879795099237
          },
          {
           "lower": 1170842592267469,
           "timepoint": 48.900001525878906,
           "trajectory": "V_sol",
           "upper": 7893196809961470
          },
          {
           "lower": 1176173076178534.5,
           "timepoint": 49,
           "trajectory": "V_sol",
           "upper": 7952937389129726
          },
          {
           "lower": 1181524392358707.2,
           "timepoint": 49.099998474121094,
           "trajectory": "V_sol",
           "upper": 8013113692730162
          },
          {
           "lower": 1186895899918336,
           "timepoint": 49.19999694824219,
           "trajectory": "V_sol",
           "upper": 8073714178038168
          },
          {
           "lower": 1192287793473126.5,
           "timepoint": 49.29999923706055,
           "trajectory": "V_sol",
           "upper": 8134750978336357
          },
          {
           "lower": 1197699831431168,
           "timepoint": 49.400001525878906,
           "trajectory": "V_sol",
           "upper": 8196224388903729
          },
          {
           "lower": 1203131981915750.5,
           "timepoint": 49.5,
           "trajectory": "V_sol",
           "upper": 8258135429795019
          },
          {
           "lower": 1208584620736512,
           "timepoint": 49.599998474121094,
           "trajectory": "V_sol",
           "upper": 8320489979746712
          },
          {
           "lower": 1214057742860288,
           "timepoint": 49.69999694824219,
           "trajectory": "V_sol",
           "upper": 8383289783589272
          },
          {
           "lower": 1219551589878989,
           "timepoint": 49.79999923706055,
           "trajectory": "V_sol",
           "upper": 8446540317406001
          },
          {
           "lower": 1225066082939699.2,
           "timepoint": 49.900001525878906,
           "trajectory": "V_sol",
           "upper": 8510243701837003
          },
          {
           "lower": 1230600943540633.5,
           "timepoint": 50,
           "trajectory": "V_sol",
           "upper": 8574398192051812
          },
          {
           "lower": 1236156770628403.2,
           "timepoint": 50.099998474121094,
           "trajectory": "V_sol",
           "upper": 8639011841114110
          },
          {
           "lower": 1241733396430848,
           "timepoint": 50.19999694824219,
           "trajectory": "V_sol",
           "upper": 8704086823351089
          },
          {
           "lower": 1247331188368998.5,
           "timepoint": 50.29999923706055,
           "trajectory": "V_sol",
           "upper": 8769627890070321
          },
          {
           "lower": 1252949941760819.2,
           "timepoint": 50.400001525878906,
           "trajectory": "V_sol",
           "upper": 8835636115013630
          },
          {
           "lower": 1258589490511872,
           "timepoint": 50.5,
           "trajectory": "V_sol",
           "upper": 8902112813514750
          },
          {
           "lower": 1264250292640153.5,
           "timepoint": 50.599998474121094,
           "trajectory": "V_sol",
           "upper": 8969061153112062
          },
          {
           "lower": 1269932316268953.5,
           "timepoint": 50.69999694824219,
           "trajectory": "V_sol",
           "upper": 9036488113127422
          },
          {
           "lower": 1275635955662848,
           "timepoint": 50.79999923706055,
           "trajectory": "V_sol",
           "upper": 9104398310650674
          },
          {
           "lower": 1281360918898278.5,
           "timepoint": 50.900001525878906,
           "trajectory": "V_sol",
           "upper": 9172790430348082
          },
          {
           "lower": 1287107224430182.5,
           "timepoint": 51,
           "trajectory": "V_sol",
           "upper": 9241667451853208
          },
          {
           "lower": 1292875108817305.5,
           "timepoint": 51.099998474121094,
           "trajectory": "V_sol",
           "upper": 9311034609657444
          },
          {
           "lower": 1298664692855603.2,
           "timepoint": 51.19999694824219,
           "trajectory": "V_sol",
           "upper": 9380893702278346
          },
          {
           "lower": 1304476115795968,
           "timepoint": 51.29999923706055,
           "trajectory": "V_sol",
           "upper": 9451245722927102
          },
          {
           "lower": 1310306552355225.5,
           "timepoint": 51.400001525878906,
           "trajectory": "V_sol",
           "upper": 9522102616981502
          },
          {
           "lower": 1316161169915904,
           "timepoint": 51.5,
           "trajectory": "V_sol",
           "upper": 9593459525759792
          },
          {
           "lower": 1322037644833587.2,
           "timepoint": 51.599998474121094,
           "trajectory": "V_sol",
           "upper": 9665323133304830
          },
          {
           "lower": 1327936274064998.5,
           "timepoint": 51.69999694824219,
           "trajectory": "V_sol",
           "upper": 9737695103916440
          },
          {
           "lower": 1333857039155200,
           "timepoint": 51.79999923706055,
           "trajectory": "V_sol",
           "upper": 9810584483869488
          },
          {
           "lower": 1339800237060915.2,
           "timepoint": 51.900001525878906,
           "trajectory": "V_sol",
           "upper": 9883988427748144
          },
          {
           "lower": 1345765255413760,
           "timepoint": 52,
           "trajectory": "V_sol",
           "upper": 9957911311050340
          },
          {
           "lower": 1351752688127181,
           "timepoint": 52.099998474121094,
           "trajectory": "V_sol",
           "upper": 10032365186528048
          },
          {
           "lower": 1357762432860160,
           "timepoint": 52.19999694824219,
           "trajectory": "V_sol",
           "upper": 10107338994640484
          },
          {
           "lower": 1363795130502349,
           "timepoint": 52.29999923706055,
           "trajectory": "V_sol",
           "upper": 10182845942412080
          },
          {
           "lower": 1369850400210944,
           "timepoint": 52.400001525878906,
           "trajectory": "V_sol",
           "upper": 10258887318333028
          },
          {
           "lower": 1375927945029222.5,
           "timepoint": 52.5,
           "trajectory": "V_sol",
           "upper": 10335463149246872
          },
          {
           "lower": 1382028321960755.2,
           "timepoint": 52.599998474121094,
           "trajectory": "V_sol",
           "upper": 10412580199727102
          },
          {
           "lower": 1388151549460480,
           "timepoint": 52.69999694824219,
           "trajectory": "V_sol",
           "upper": 10490228591348938
          },
          {
           "lower": 1394297906030182.5,
           "timepoint": 52.79999923706055,
           "trajectory": "V_sol",
           "upper": 10568438603631818
          },
          {
           "lower": 1400467354759987.2,
           "timepoint": 52.900001525878906,
           "trajectory": "V_sol",
           "upper": 10647200572899326
          },
          {
           "lower": 1406659533262029,
           "timepoint": 53,
           "trajectory": "V_sol",
           "upper": 10726514230716004
          },
          {
           "lower": 1412875238454067.2,
           "timepoint": 53.099998474121094,
           "trajectory": "V_sol",
           "upper": 10806386771152074
          },
          {
           "lower": 1419113832801894.5,
           "timepoint": 53.19999694824219,
           "trajectory": "V_sol",
           "upper": 10886821254371736
          },
          {
           "lower": 1425376113223270.5,
           "timepoint": 53.29999923706055,
           "trajectory": "V_sol",
           "upper": 10967826377683760
          },
          {
           "lower": 1431661661965517,
           "timepoint": 53.400001525878906,
           "trajectory": "V_sol",
           "upper": 11049399886230320
          },
          {
           "lower": 1437970618279526.5,
           "timepoint": 53.5,
           "trajectory": "V_sol",
           "upper": 11131545108611070
          },
          {
           "lower": 1444304050873958.5,
           "timepoint": 53.599998474121094,
           "trajectory": "V_sol",
           "upper": 11214269238896228
          },
          {
           "lower": 1450660221629235.2,
           "timepoint": 53.69999694824219,
           "trajectory": "V_sol",
           "upper": 11297574800379082
          },
          {
           "lower": 1457040877053542.5,
           "timepoint": 53.79999923706055,
           "trajectory": "V_sol",
           "upper": 11381466624897840
          },
          {
           "lower": 1463444958504550.5,
           "timepoint": 53.900001525878906,
           "trajectory": "V_sol",
           "upper": 11465948846358526
          },
          {
           "lower": 1469872902189875.2,
           "timepoint": 54,
           "trajectory": "V_sol",
           "upper": 11551018995154942
          },
          {
           "lower": 1476324857426739.2,
           "timepoint": 54.099998474121094,
           "trajectory": "V_sol",
           "upper": 11636673581626160
          },
          {
           "lower": 1482800971854643.2,
           "timepoint": 54.19999694824219,
           "trajectory": "V_sol",
           "upper": 11722939341943600
          },
          {
           "lower": 1489301487065497.5,
           "timepoint": 54.29999923706055,
           "trajectory": "V_sol",
           "upper": 11809811229520688
          },
          {
           "lower": 1495826486945382.5,
           "timepoint": 54.400001525878906,
           "trajectory": "V_sol",
           "upper": 11897292250834532
          },
          {
           "lower": 1502375469855539.2,
           "timepoint": 54.5,
           "trajectory": "V_sol",
           "upper": 11985380687898212
          },
          {
           "lower": 1508949095140557,
           "timepoint": 54.599998474121094,
           "trajectory": "V_sol",
           "upper": 12074084217965770
          },
          {
           "lower": 1515547158118400,
           "timepoint": 54.69999694824219,
           "trajectory": "V_sol",
           "upper": 12163408639243056
          },
          {
           "lower": 1522170141972889.5,
           "timepoint": 54.79999923706055,
           "trajectory": "V_sol",
           "upper": 12253359803623012
          },
          {
           "lower": 1528817925908070.5,
           "timepoint": 54.900001525878906,
           "trajectory": "V_sol",
           "upper": 12343937925854000
          },
          {
           "lower": 1535490509923942.5,
           "timepoint": 55,
           "trajectory": "V_sol",
           "upper": 12435148804141872
          },
          {
           "lower": 1542187699404800,
           "timepoint": 55.099998474121094,
           "trajectory": "V_sol",
           "upper": 12526991257370620
          },
          {
           "lower": 1548910125173965,
           "timepoint": 55.19999694824219,
           "trajectory": "V_sol",
           "upper": 12619473445978108
          },
          {
           "lower": 1555657897961062.5,
           "timepoint": 55.29999923706055,
           "trajectory": "V_sol",
           "upper": 12712602725095830
          },
          {
           "lower": 1562431037898752,
           "timepoint": 55.400001525878906,
           "trajectory": "V_sol",
           "upper": 12806394234483504
          },
          {
           "lower": 1569229051736883.2,
           "timepoint": 55.5,
           "trajectory": "V_sol",
           "upper": 12900822096963172
          },
          {
           "lower": 1576052627341312,
           "timepoint": 55.599998474121094,
           "trajectory": "V_sol",
           "upper": 12995907787371312
          },
          {
           "lower": 1582902677392589,
           "timepoint": 55.69999694824219,
           "trajectory": "V_sol",
           "upper": 13091652594198116
          },
          {
           "lower": 1589774047929958.5,
           "timepoint": 55.79999923706055,
           "trajectory": "V_sol",
           "upper": 13188066073745814
          },
          {
           "lower": 1596674268567961.5,
           "timepoint": 55.900001525878906,
           "trajectory": "V_sol",
           "upper": 13285148548136956
          },
          {
           "lower": 1603599930176307.2,
           "timepoint": 56,
           "trajectory": "V_sol",
           "upper": 13382900393181180
          },
          {
           "lower": 1610551579692237,
           "timepoint": 56.099998474121094,
           "trajectory": "V_sol",
           "upper": 13481330413561444
          },
          {
           "lower": 1617528864794214.5,
           "timepoint": 56.19999694824219,
           "trajectory": "V_sol",
           "upper": 13580440166203388
          },
          {
           "lower": 1624532657897472,
           "timepoint": 56.29999923706055,
           "trajectory": "V_sol",
           "upper": 13680252790243324
          },
          {
           "lower": 1631562643590349,
           "timepoint": 56.400001525878906,
           "trajectory": "V_sol",
           "upper": 13780745844477130
          },
          {
           "lower": 1638618580280934.5,
           "timepoint": 56.5,
           "trajectory": "V_sol",
           "upper": 13881930656881046
          },
          {
           "lower": 1645700709561139.2,
           "timepoint": 56.599998474121094,
           "trajectory": "V_sol",
           "upper": 13983814367838204
          },
          {
           "lower": 1652809346842624,
           "timepoint": 56.69999694824219,
           "trajectory": "V_sol",
           "upper": 14086402829241546
          },
          {
           "lower": 1659944770627174.5,
           "timepoint": 56.79999923706055,
           "trajectory": "V_sol",
           "upper": 14189693034613962
          },
          {
           "lower": 1667106618526925,
           "timepoint": 56.900001525878906,
           "trajectory": "V_sol",
           "upper": 14293704203934102
          },
          {
           "lower": 1674295142200115.2,
           "timepoint": 57,
           "trajectory": "V_sol",
           "upper": 14398427639893194
          },
          {
           "lower": 1681510452376371.2,
           "timepoint": 57.099998474121094,
           "trajectory": "V_sol",
           "upper": 14503872845106378
          },
          {
           "lower": 1688752512145817.5,
           "timepoint": 57.19999694824219,
           "trajectory": "V_sol",
           "upper": 14610044221915132
          },
          {
           "lower": 1696022073127731.2,
           "timepoint": 57.29999923706055,
           "trajectory": "V_sol",
           "upper": 14716950843437872
          },
          {
           "lower": 1703318615228416,
           "timepoint": 57.400001525878906,
           "trajectory": "V_sol",
           "upper": 14824593890790602
          },
          {
           "lower": 1710642064628121.5,
           "timepoint": 57.5,
           "trajectory": "V_sol",
           "upper": 14932971699673494
          },
          {
           "lower": 1717992904510669,
           "timepoint": 57.599998474121094,
           "trajectory": "V_sol",
           "upper": 15042093074769506
          },
          {
           "lower": 1725371124809728,
           "timepoint": 57.69999694824219,
           "trajectory": "V_sol",
           "upper": 15151940675148182
          },
          {
           "lower": 1732776967117209.5,
           "timepoint": 57.79999923706055,
           "trajectory": "V_sol",
           "upper": 15262564966675248
          },
          {
           "lower": 1740210552229069,
           "timepoint": 57.900001525878906,
           "trajectory": "V_sol",
           "upper": 15373945924065686
          },
          {
           "lower": 1747670235978137.5,
           "timepoint": 58,
           "trajectory": "V_sol",
           "upper": 15486086392735330
          },
          {
           "lower": 1755158944310886.5,
           "timepoint": 58.099998474121094,
           "trajectory": "V_sol",
           "upper": 15598992707760944
          },
          {
           "lower": 1762675395448013,
           "timepoint": 58.19999694824219,
           "trajectory": "V_sol",
           "upper": 15712668573551816
          },
          {
           "lower": 1770220468515635.2,
           "timepoint": 58.29999923706055,
           "trajectory": "V_sol",
           "upper": 15827128700370940
          },
          {
           "lower": 1777793351496499.2,
           "timepoint": 58.400001525878906,
           "trajectory": "V_sol",
           "upper": 15942368954312290
          },
          {
           "lower": 1785394014191616,
           "timepoint": 58.5,
           "trajectory": "V_sol",
           "upper": 16058391482859516
          },
          {
           "lower": 1793023097490636.8,
           "timepoint": 58.599998474121094,
           "trajectory": "V_sol",
           "upper": 16175205090695574
          },
          {
           "lower": 1800680480597606.5,
           "timepoint": 58.69999694824219,
           "trajectory": "V_sol",
           "upper": 16292813589603938
          },
          {
           "lower": 1808366673539891.2,
           "timepoint": 58.79999923706055,
           "trajectory": "V_sol",
           "upper": 16411227717002850
          },
          {
           "lower": 1816081481701785.8,
           "timepoint": 58.900001525878906,
           "trajectory": "V_sol",
           "upper": 16530446130715030
          },
          {
           "lower": 1823824431965798.5,
           "timepoint": 59,
           "trajectory": "V_sol",
           "upper": 16650471354033762
          },
          {
           "lower": 1831596554452992,
           "timepoint": 59.099998474121094,
           "trajectory": "V_sol",
           "upper": 16771305963939426
          },
          {
           "lower": 1839397376045875.2,
           "timepoint": 59.19999694824219,
           "trajectory": "V_sol",
           "upper": 16892964080137008
          },
          {
           "lower": 1847227527567769.8,
           "timepoint": 59.29999923706055,
           "trajectory": "V_sol",
           "upper": 17015450212342166
          },
          {
           "lower": 1855086609720934.5,
           "timepoint": 59.400001525878906,
           "trajectory": "V_sol",
           "upper": 17138769782951112
          },
          {
           "lower": 1862974827187404.8,
           "timepoint": 59.5,
           "trajectory": "V_sol",
           "upper": 17262919033867464
          },
          {
           "lower": 1870892216877056,
           "timepoint": 59.599998474121094,
           "trajectory": "V_sol",
           "upper": 17387904407542166
          },
          {
           "lower": 1878838936495718.5,
           "timepoint": 59.69999694824219,
           "trajectory": "V_sol",
           "upper": 17513737285638550
          },
          {
           "lower": 1886815590023168,
           "timepoint": 59.79999923706055,
           "trajectory": "V_sol",
           "upper": 17640423681110830
          },
          {
           "lower": 1894821805005209.8,
           "timepoint": 59.900001525878906,
           "trajectory": "V_sol",
           "upper": 17767962842339732
          },
          {
           "lower": 1902857396892467.2,
           "timepoint": 60,
           "trajectory": "V_sol",
           "upper": 17896359547476372
          },
          {
           "lower": 1910923033418137.8,
           "timepoint": 60.099998474121094,
           "trajectory": "V_sol",
           "upper": 18025617608304224
          },
          {
           "lower": 1919018288440934.5,
           "timepoint": 60.19999694824219,
           "trajectory": "V_sol",
           "upper": 18155749158105904
          },
          {
           "lower": 1927147601212211.2,
           "timepoint": 60.29999923706055,
           "trajectory": "V_sol",
           "upper": 18286757793916510
          },
          {
           "lower": 1935303901813145.8,
           "timepoint": 60.400001525878906,
           "trajectory": "V_sol",
           "upper": 18418639865013856
          },
          {
           "lower": 1943490294028697.8,
           "timepoint": 60.5,
           "trajectory": "V_sol",
           "upper": 18551407397306364
          },
          {
           "lower": 1951707110047744,
           "timepoint": 60.599998474121094,
           "trajectory": "V_sol",
           "upper": 18685094159974396
          },
          {
           "lower": 1959954390135603.2,
           "timepoint": 60.69999694824219,
           "trajectory": "V_sol",
           "upper": 18819653874745340
          },
          {
           "lower": 1968232550367232,
           "timepoint": 60.79999923706055,
           "trajectory": "V_sol",
           "upper": 18955119022309372
          },
          {
           "lower": 1976541238421094.5,
           "timepoint": 60.900001525878906,
           "trajectory": "V_sol",
           "upper": 19091491481714684
          },
          {
           "lower": 1984880648912896,
           "timepoint": 61,
           "trajectory": "V_sol",
           "upper": 19228769588661450
          },
          {
           "lower": 1993250865728716.8,
           "timepoint": 61.099998474121094,
           "trajectory": "V_sol",
           "upper": 19366966442799920
          },
          {
           "lower": 2001652204280217.8,
           "timepoint": 61.19999694824219,
           "trajectory": "V_sol",
           "upper": 19506085372729748
          },
          {
           "lower": 2010085137684889.8,
           "timepoint": 61.29999923706055,
           "trajectory": "V_sol",
           "upper": 19646135666317716
          },
          {
           "lower": 2018549229735116.8,
           "timepoint": 61.400001525878906,
           "trajectory": "V_sol",
           "upper": 19787122584898760
          },
          {
           "lower": 2027044406611148.8,
           "timepoint": 61.5,
           "trajectory": "V_sol",
           "upper": 19929041565070130
          },
          {
           "lower": 2035571020634521.8,
           "timepoint": 61.599998474121094,
           "trajectory": "V_sol",
           "upper": 20071907156033532
          },
          {
           "lower": 2044129276487270.5,
           "timepoint": 61.69999694824219,
           "trajectory": "V_sol",
           "upper": 20215722203204810
          },
          {
           "lower": 2052719526490931.2,
           "timepoint": 61.79999923706055,
           "trajectory": "V_sol",
           "upper": 20360501792656584
          },
          {
           "lower": 2061341733735628.8,
           "timepoint": 61.900001525878906,
           "trajectory": "V_sol",
           "upper": 20506193311039484
          },
          {
           "lower": 2069995498923622.5,
           "timepoint": 62,
           "trajectory": "V_sol",
           "upper": 20652882818760700
          },
          {
           "lower": 2078681342148608,
           "timepoint": 62.099998474121094,
           "trajectory": "V_sol",
           "upper": 20800541110042620
          },
          {
           "lower": 2087399300320460.8,
           "timepoint": 62.19999694824219,
           "trajectory": "V_sol",
           "upper": 20949176506384380
          },
          {
           "lower": 2096150004262502.5,
           "timepoint": 62.29999923706055,
           "trajectory": "V_sol",
           "upper": 21098799959952584
          },
          {
           "lower": 2104933027833446.5,
           "timepoint": 62.400001525878906,
           "trajectory": "V_sol",
           "upper": 21249414584598524
          },
          {
           "lower": 2113750219882496,
           "timepoint": 62.5,
           "trajectory": "V_sol",
           "upper": 21401012971503612
          },
          {
           "lower": 2122598188056576,
           "timepoint": 62.599998474121094,
           "trajectory": "V_sol",
           "upper": 21553614662769044
          },
          {
           "lower": 2131479032863129.8,
           "timepoint": 62.69999694824219,
           "trajectory": "V_sol",
           "upper": 21707216544543532
          },
          {
           "lower": 2140393180443443.2,
           "timepoint": 62.79999923706055,
           "trajectory": "V_sol",
           "upper": 21861836763063904
          },
          {
           "lower": 2149340241566105.8,
           "timepoint": 62.900001525878906,
           "trajectory": "V_sol",
           "upper": 22017476928942892
          },
          {
           "lower": 2158319494810828.8,
           "timepoint": 63,
           "trajectory": "V_sol",
           "upper": 22174130170232824
          },
          {
           "lower": 2167332540724019.2,
           "timepoint": 63.099998474121094,
           "trajectory": "V_sol",
           "upper": 22331764811549896
          },
          {
           "lower": 2176379057183129.8,
           "timepoint": 63.19999694824219,
           "trajectory": "V_sol",
           "upper": 22490469543968760
          },
          {
           "lower": 2185459322689945.8,
           "timepoint": 63.29999923706055,
           "trajectory": "V_sol",
           "upper": 22650215698582730
          },
          {
           "lower": 2194573011766476.8,
           "timepoint": 63.400001525878906,
           "trajectory": "V_sol",
           "upper": 22811006603991444
          },
          {
           "lower": 2203720208298803.2,
           "timepoint": 63.5,
           "trajectory": "V_sol",
           "upper": 22972841079078904
          },
          {
           "lower": 2212901274674790.5,
           "timepoint": 63.599998474121094,
           "trajectory": "V_sol",
           "upper": 23135728680147348
          },
          {
           "lower": 2222116284714188.8,
           "timepoint": 63.69999694824219,
           "trajectory": "V_sol",
           "upper": 23299675312776800
          },
          {
           "lower": 2231365637714739.2,
           "timepoint": 63.79999923706055,
           "trajectory": "V_sol",
           "upper": 23464695042985160
          },
          {
           "lower": 2240649491382272,
           "timepoint": 63.900001525878906,
           "trajectory": "V_sol",
           "upper": 23630787656024056
          },
          {
           "lower": 2249966973301555.2,
           "timepoint": 64,
           "trajectory": "V_sol",
           "upper": 23797946709442550
          },
          {
           "lower": 2259319039773901,
           "timepoint": 64.0999984741211,
           "trajectory": "V_sol",
           "upper": 23966190027354924
          },
          {
           "lower": 2268705523027149,
           "timepoint": 64.19999694824219,
           "trajectory": "V_sol",
           "upper": 24135520294115732
          },
          {
           "lower": 2278127704840602,
           "timepoint": 64.30000305175781,
           "trajectory": "V_sol",
           "upper": 24305990123074348
          },
          {
           "lower": 2287583756497715,
           "timepoint": 64.4000015258789,
           "trajectory": "V_sol",
           "upper": 24477520594206710
          },
          {
           "lower": 2297074781939302.5,
           "timepoint": 64.5,
           "trajectory": "V_sol",
           "upper": 24650190842285256
          },
          {
           "lower": 2306601032823603,
           "timepoint": 64.5999984741211,
           "trajectory": "V_sol",
           "upper": 24823950294070060
          },
          {
           "lower": 2316159563071488,
           "timepoint": 64.69999694824219,
           "trajectory": "V_sol",
           "upper": 24998828799583840
          },
          {
           "lower": 2325756597030093,
           "timepoint": 64.80000305175781,
           "trajectory": "V_sol",
           "upper": 25174841391212130
          },
          {
           "lower": 2335388299427840,
           "timepoint": 64.9000015258789,
           "trajectory": "V_sol",
           "upper": 25351976150420680
          },
          {
           "lower": 2345055532613632,
           "timepoint": 65,
           "trajectory": "V_sol",
           "upper": 25530245962111380
          },
          {
           "lower": 2354758622065459,
           "timepoint": 65.0999984741211,
           "trajectory": "V_sol",
           "upper": 25709656517115896
          },
          {
           "lower": 2364497215461786,
           "timepoint": 65.19999694824219,
           "trajectory": "V_sol",
           "upper": 25890219733968480
          },
          {
           "lower": 2374272685178880,
           "timepoint": 65.30000305175781,
           "trajectory": "V_sol",
           "upper": 26071947531203372
          },
          {
           "lower": 2384083380338688,
           "timepoint": 65.4000015258789,
           "trajectory": "V_sol",
           "upper": 26254824876435040
          },
          {
           "lower": 2393930284086067,
           "timepoint": 65.5,
           "trajectory": "V_sol",
           "upper": 26438867983165024
          },
          {
           "lower": 2403813564193178,
           "timepoint": 65.5999984741211,
           "trajectory": "V_sol",
           "upper": 26624059456775776
          },
          {
           "lower": 2413733015977984,
           "timepoint": 65.69999694824219,
           "trajectory": "V_sol",
           "upper": 26810471882214596
          },
          {
           "lower": 2423690105769165,
           "timepoint": 65.80000305175781,
           "trajectory": "V_sol",
           "upper": 26998064349917996
          },
          {
           "lower": 2433683098802586,
           "timepoint": 65.9000015258789,
           "trajectory": "V_sol",
           "upper": 27186834497653956
          },
          {
           "lower": 2443712820517274,
           "timepoint": 66,
           "trajectory": "V_sol",
           "upper": 27376800686407670
          },
          {
           "lower": 2453779512505139,
           "timepoint": 66.0999984741211,
           "trajectory": "V_sol",
           "upper": 27567967211146436
          },
          {
           "lower": 2463883248585933,
           "timepoint": 66.19999694824219,
           "trajectory": "V_sol",
           "upper": 27760343842920850
          },
          {
           "lower": 2474025142766797,
           "timepoint": 66.30000305175781,
           "trajectory": "V_sol",
           "upper": 27953948405845188
          },
          {
           "lower": 2484203413307392,
           "timepoint": 66.4000015258789,
           "trajectory": "V_sol",
           "upper": 28148759961953890
          },
          {
           "lower": 2494419211124736,
           "timepoint": 66.5,
           "trajectory": "V_sol",
           "upper": 28344795905864492
          },
          {
           "lower": 2504672610038579,
           "timepoint": 66.5999984741211,
           "trajectory": "V_sol",
           "upper": 28542063646395588
          },
          {
           "lower": 2514962727567360,
           "timepoint": 66.69999694824219,
           "trajectory": "V_sol",
           "upper": 28740569840746490
          },
          {
           "lower": 2525292295041843,
           "timepoint": 66.80000305175781,
           "trajectory": "V_sol",
           "upper": 28940369893995308
          },
          {
           "lower": 2535659064315085,
           "timepoint": 66.9000015258789,
           "trajectory": "V_sol",
           "upper": 29141377369925216
          },
          {
           "lower": 2546064558758298,
           "timepoint": 67,
           "trajectory": "V_sol",
           "upper": 29343643593395396
          },
          {
           "lower": 2556507812003840,
           "timepoint": 67.0999984741211,
           "trajectory": "V_sol",
           "upper": 29547173503618244
          },
          {
           "lower": 2566989270325658,
           "timepoint": 67.19999694824219,
           "trajectory": "V_sol",
           "upper": 29751973543044704
          },
          {
           "lower": 2577510473872179,
           "timepoint": 67.30000305175781,
           "trajectory": "V_sol",
           "upper": 29958065401259616
          },
          {
           "lower": 2588069288581530,
           "timepoint": 67.4000015258789,
           "trajectory": "V_sol",
           "upper": 30165421160975556
          },
          {
           "lower": 2598666902280602,
           "timepoint": 67.5,
           "trajectory": "V_sol",
           "upper": 30374066591996304
          },
          {
           "lower": 2609304462530970,
           "timepoint": 67.5999984741211,
           "trajectory": "V_sol",
           "upper": 30584003841805508
          },
          {
           "lower": 2619980305032806.5,
           "timepoint": 67.69999694824219,
           "trajectory": "V_sol",
           "upper": 30795241929834490
          },
          {
           "lower": 2630696134351258,
           "timepoint": 67.80000305175781,
           "trajectory": "V_sol",
           "upper": 31007801364552080
          },
          {
           "lower": 2641450205655859,
           "timepoint": 67.9000015258789,
           "trajectory": "V_sol",
           "upper": 31221655946657784
          },
          {
           "lower": 2652244153047450,
           "timepoint": 68,
           "trajectory": "V_sol",
           "upper": 31436851417553296
          },
          {
           "lower": 2663077734934118.5,
           "timepoint": 68.0999984741211,
           "trajectory": "V_sol",
           "upper": 31653382623277868
          },
          {
           "lower": 2673950988225741,
           "timepoint": 68.19999694824219,
           "trajectory": "V_sol",
           "upper": 31871223686653532
          },
          {
           "lower": 2684864990019584,
           "timepoint": 68.30000305175781,
           "trajectory": "V_sol",
           "upper": 32090416590985616
          },
          {
           "lower": 2695818106214810,
           "timepoint": 68.4000015258789,
           "trajectory": "V_sol",
           "upper": 32310937499205624
          },
          {
           "lower": 2706811450818560,
           "timepoint": 68.5,
           "trajectory": "V_sol",
           "upper": 32534337216629956
          },
          {
           "lower": 2717844986920960,
           "timepoint": 68.5999984741211,
           "trajectory": "V_sol",
           "upper": 32762663905787896
          },
          {
           "lower": 2728918993023795,
           "timepoint": 68.69999694824219,
           "trajectory": "V_sol",
           "upper": 32992382271723920
          },
          {
           "lower": 2740034656953958.5,
           "timepoint": 68.80000305175781,
           "trajectory": "V_sol",
           "upper": 33223528070040772
          },
          {
           "lower": 2751190196971110.5,
           "timepoint": 68.9000015258789,
           "trajectory": "V_sol",
           "upper": 33456074135070300
          },
          {
           "lower": 2762386727082394,
           "timepoint": 69,
           "trajectory": "V_sol",
           "upper": 33690037646681692
          },
          {
           "lower": 2773624116425523,
           "timepoint": 69.0999984741211,
           "trajectory": "V_sol",
           "upper": 33925428590673910
          },
          {
           "lower": 2784902569682534.5,
           "timepoint": 69.19999694824219,
           "trajectory": "V_sol",
           "upper": 34162251262014250
          },
          {
           "lower": 2796223684044390.5,
           "timepoint": 69.30000305175781,
           "trajectory": "V_sol",
           "upper": 34400526169171548
          },
          {
           "lower": 2807585026814771,
           "timepoint": 69.4000015258789,
           "trajectory": "V_sol",
           "upper": 34640233233173700
          },
          {
           "lower": 2818988195184640,
           "timepoint": 69.5,
           "trajectory": "V_sol",
           "upper": 34881382976690576
          },
          {
           "lower": 2830433262973747,
           "timepoint": 69.5999984741211,
           "trajectory": "V_sol",
           "upper": 35123988284624068
          },
          {
           "lower": 2841919951680307,
           "timepoint": 69.69999694824219,
           "trajectory": "V_sol",
           "upper": 35368094898375876
          },
          {
           "lower": 2853449932315034,
           "timepoint": 69.80000305175781,
           "trajectory": "V_sol",
           "upper": 35613662337879236
          },
          {
           "lower": 2865020349395763,
           "timepoint": 69.9000015258789,
           "trajectory": "V_sol",
           "upper": 35860676322367890
          },
          {
           "lower": 2876633907409715,
           "timepoint": 70,
           "trajectory": "V_sol",
           "upper": 36109176795037690
          },
          {
           "lower": 2888289921846477,
           "timepoint": 70.0999984741211,
           "trajectory": "V_sol",
           "upper": 36359161393656616
          },
          {
           "lower": 2899988429615923,
           "timepoint": 70.19999694824219,
           "trajectory": "V_sol",
           "upper": 36610635379559620
          },
          {
           "lower": 2911730749407232,
           "timepoint": 70.30000305175781,
           "trajectory": "V_sol",
           "upper": 36863628280646850
          },
          {
           "lower": 2923515136389939,
           "timepoint": 70.4000015258789,
           "trajectory": "V_sol",
           "upper": 37118113790243624
          },
          {
           "lower": 2935342610618778,
           "timepoint": 70.5,
           "trajectory": "V_sol",
           "upper": 37374104900626020
          },
          {
           "lower": 2947213786139853,
           "timepoint": 70.5999984741211,
           "trajectory": "V_sol",
           "upper": 37631609235360960
          },
          {
           "lower": 2959127733495398.5,
           "timepoint": 70.69999694824219,
           "trajectory": "V_sol",
           "upper": 37890632485280140
          },
          {
           "lower": 2971081979723776,
           "timepoint": 70.80000305175781,
           "trajectory": "V_sol",
           "upper": 38151183455066510
          },
          {
           "lower": 2983082863257190.5,
           "timepoint": 70.9000015258789,
           "trajectory": "V_sol",
           "upper": 38413262037345890
          },
          {
           "lower": 2995127448082842,
           "timepoint": 71,
           "trajectory": "V_sol",
           "upper": 38676877144175400
          },
          {
           "lower": 3007216197251891,
           "timepoint": 71.0999984741211,
           "trajectory": "V_sol",
           "upper": 38942038761354024
          },
          {
           "lower": 3019348795352678.5,
           "timepoint": 71.19999694824219,
           "trajectory": "V_sol",
           "upper": 39208746888881760
          },
          {
           "lower": 3031526876486042,
           "timepoint": 71.30000305175781,
           "trajectory": "V_sol",
           "upper": 39477026330194730
          },
          {
           "lower": 3043748249547571,
           "timepoint": 71.4000015258789,
           "trajectory": "V_sol",
           "upper": 39746850778618260
          },
          {
           "lower": 3056014233226445,
           "timepoint": 71.5,
           "trajectory": "V_sol",
           "upper": 40018241279492090
          },
          {
           "lower": 3068324622840627,
           "timepoint": 71.5999984741211,
           "trajectory": "V_sol",
           "upper": 40291202127783520
          },
          {
           "lower": 3080680421667635,
           "timepoint": 71.69999694824219,
           "trajectory": "V_sol",
           "upper": 40565736652092200
          },
          {
           "lower": 3093081851166720,
           "timepoint": 71.80000305175781,
           "trajectory": "V_sol",
           "upper": 40841874809815030
          },
          {
           "lower": 3105527575871488,
           "timepoint": 71.9000015258789,
           "trajectory": "V_sol",
           "upper": 41119574188149950
          },
          {
           "lower": 3118018542016922,
           "timepoint": 72,
           "trajectory": "V_sol",
           "upper": 41398865388738960
          },
          {
           "lower": 3130555065014682,
           "timepoint": 72.0999984741211,
           "trajectory": "V_sol",
           "upper": 41679760222742104
          },
          {
           "lower": 3143137604560486.5,
           "timepoint": 72.19999694824219,
           "trajectory": "V_sol",
           "upper": 41962247308496060
          },
          {
           "lower": 3155766596861952,
           "timepoint": 72.30000305175781,
           "trajectory": "V_sol",
           "upper": 42246371421034900
          },
          {
           "lower": 3168440478282547,
           "timepoint": 72.4000015258789,
           "trajectory": "V_sol",
           "upper": 42532085315718340
          },
          {
           "lower": 3181160195057254.5,
           "timepoint": 72.5,
           "trajectory": "V_sol",
           "upper": 42819416265588730
          },
          {
           "lower": 3193926267279770,
           "timepoint": 72.5999984741211,
           "trajectory": "V_sol",
           "upper": 43108423755943100
          },
          {
           "lower": 3206738658040218,
           "timepoint": 72.69999694824219,
           "trajectory": "V_sol",
           "upper": 43399019525203544
          },
          {
           "lower": 3219605078147072,
           "timepoint": 72.80000305175781,
           "trajectory": "V_sol",
           "upper": 43691270360111500
          },
          {
           "lower": 3232511461582438.5,
           "timepoint": 72.9000015258789,
           "trajectory": "V_sol",
           "upper": 43985139109199860
          },
          {
           "lower": 3245465240653005,
           "timepoint": 73,
           "trajectory": "V_sol",
           "upper": 44280653475007680
          },
          {
           "lower": 3258465858355200,
           "timepoint": 73.0999984741211,
           "trajectory": "V_sol",
           "upper": 44577780386286780
          },
          {
           "lower": 3271513982422221,
           "timepoint": 73.19999694824219,
           "trajectory": "V_sol",
           "upper": 44876588562513900
          },
          {
           "lower": 3284610169857638.5,
           "timepoint": 73.30000305175781,
           "trajectory": "V_sol",
           "upper": 45177079936424340
          },
          {
           "lower": 3297752917422899,
           "timepoint": 73.4000015258789,
           "trajectory": "V_sol",
           "upper": 45479211558345100
          },
          {
           "lower": 3310943728356557,
           "timepoint": 73.5,
           "trajectory": "V_sol",
           "upper": 45783004903112690
          },
          {
           "lower": 3324182139607450,
           "timepoint": 73.5999984741211,
           "trajectory": "V_sol",
           "upper": 46088474788364270
          },
          {
           "lower": 3337468929638400,
           "timepoint": 73.69999694824219,
           "trajectory": "V_sol",
           "upper": 46395681987887090
          },
          {
           "lower": 3350804655452979,
           "timepoint": 73.80000305175781,
           "trajectory": "V_sol",
           "upper": 46704548977521450
          },
          {
           "lower": 3364187813812634,
           "timepoint": 73.9000015258789,
           "trajectory": "V_sol",
           "upper": 47015082414466650
          },
          {
           "lower": 3377619371085005,
           "timepoint": 74,
           "trajectory": "V_sol",
           "upper": 47327306565287920
          },
          {
           "lower": 3391099696368845,
           "timepoint": 74.0999984741211,
           "trajectory": "V_sol",
           "upper": 47641223362720550
          },
          {
           "lower": 3404628735977062.5,
           "timepoint": 74.19999694824219,
           "trajectory": "V_sol",
           "upper": 47956838819718744
          },
          {
           "lower": 3418207899195802,
           "timepoint": 74.30000305175781,
           "trajectory": "V_sol",
           "upper": 48274191805736536
          },
          {
           "lower": 3431835219735347,
           "timepoint": 74.4000015258789,
           "trajectory": "V_sol",
           "upper": 48593233572895120
          },
          {
           "lower": 3445511717650432,
           "timepoint": 74.5,
           "trajectory": "V_sol",
           "upper": 48913987958262980
          },
          {
           "lower": 3459236305777459.5,
           "timepoint": 74.5999984741211,
           "trajectory": "V_sol",
           "upper": 49236468276238740
          },
          {
           "lower": 3473011977171763.5,
           "timepoint": 74.69999694824219,
           "trajectory": "V_sol",
           "upper": 49560672594087100
          },
          {
           "lower": 3486844536750080,
           "timepoint": 74.80000305175781,
           "trajectory": "V_sol",
           "upper": 49886588456402930
          },
          {
           "lower": 3500720643270246.5,
           "timepoint": 74.9000015258789,
           "trajectory": "V_sol",
           "upper": 50214243780473640
          },
          {
           "lower": 3514647765948825.5,
           "timepoint": 75,
           "trajectory": "V_sol",
           "upper": 50543635989318850
          },
          {
           "lower": 3528624549186765,
           "timepoint": 75.0999984741211,
           "trajectory": "V_sol",
           "upper": 50874767015673840
          },
          {
           "lower": 3542652106991206.5,
           "timepoint": 75.19999694824219,
           "trajectory": "V_sol",
           "upper": 51207642013499380
          },
          {
           "lower": 3556731721141453,
           "timepoint": 75.30000305175781,
           "trajectory": "V_sol",
           "upper": 51542275585684264
          },
          {
           "lower": 3570860901898649.5,
           "timepoint": 75.4000015258789,
           "trajectory": "V_sol",
           "upper": 51878645183650190
          },
          {
           "lower": 3585041729637581,
           "timepoint": 75.5,
           "trajectory": "V_sol",
           "upper": 52216773141227096
          },
          {
           "lower": 3599273184303513.5,
           "timepoint": 75.5999984741211,
           "trajectory": "V_sol",
           "upper": 52556656451937880
          },
          {
           "lower": 3613556527543091.5,
           "timepoint": 75.69999694824219,
           "trajectory": "V_sol",
           "upper": 52898301343485120
          },
          {
           "lower": 3627892148587725,
           "timepoint": 75.80000305175781,
           "trajectory": "V_sol",
           "upper": 53241740242871896
          },
          {
           "lower": 3642278953562931.5,
           "timepoint": 75.9000015258789,
           "trajectory": "V_sol",
           "upper": 53586923543225944
          },
          {
           "lower": 3656717794751283.5,
           "timepoint": 76,
           "trajectory": "V_sol",
           "upper": 53933881738815064
          },
          {
           "lower": 3671208450693529.5,
           "timepoint": 76.0999984741211,
           "trajectory": "V_sol",
           "upper": 54282610534671960
          },
          {
           "lower": 3685752035396813,
           "timepoint": 76.19999694824219,
           "trajectory": "V_sol",
           "upper": 54633127540162540
          },
          {
           "lower": 3700348454908723.5,
           "timepoint": 76.30000305175781,
           "trajectory": "V_sol",
           "upper": 54985452297388020
          },
          {
           "lower": 3714997098538598.5,
           "timepoint": 76.4000015258789,
           "trajectory": "V_sol",
           "upper": 55339532837244100
          },
          {
           "lower": 3729698483024691.5,
           "timepoint": 76.5,
           "trajectory": "V_sol",
           "upper": 55695415974874300
          },
          {
           "lower": 3744453447227801.5,
           "timepoint": 76.5999984741211,
           "trajectory": "V_sol",
           "upper": 56053084315661090
          },
          {
           "lower": 3759260930827878.5,
           "timepoint": 76.69999694824219,
           "trajectory": "V_sol",
           "upper": 56412549885512900
          },
          {
           "lower": 3774117531405517,
           "timepoint": 76.80000305175781,
           "trajectory": "V_sol",
           "upper": 56773843178697500
          },
          {
           "lower": 3789031483218329.5,
           "timepoint": 76.9000015258789,
           "trajectory": "V_sol",
           "upper": 57136903636176060
          },
          {
           "lower": 3803999162387661,
           "timepoint": 77,
           "trajectory": "V_sol",
           "upper": 57501734479174024
          },
          {
           "lower": 3819020958144921.5,
           "timepoint": 77.0999984741211,
           "trajectory": "V_sol",
           "upper": 57868405071413230
          },
          {
           "lower": 3834096870490112,
           "timepoint": 77.19999694824219,
           "trajectory": "V_sol",
           "upper": 58236886207116060
          },
          {
           "lower": 3849227845658214.5,
           "timepoint": 77.30000305175781,
           "trajectory": "V_sol",
           "upper": 58607202582344480
          },
          {
           "lower": 3864412064999014.5,
           "timepoint": 77.4000015258789,
           "trajectory": "V_sol",
           "upper": 58979309958935330
          },
          {
           "lower": 3879651682707046.5,
           "timepoint": 77.5,
           "trajectory": "V_sol",
           "upper": 59353240763891700
          },
          {
           "lower": 3894945417003008,
           "timepoint": 77.5999984741211,
           "trajectory": "V_sol",
           "upper": 59728981897563330
          },
          {
           "lower": 3910294623485952,
           "timepoint": 77.69999694824219,
           "trajectory": "V_sol",
           "upper": 60106548821832480
          },
          {
           "lower": 3925699765207040,
           "timepoint": 77.80000305175781,
           "trajectory": "V_sol",
           "upper": 60485967091754584
          },
          {
           "lower": 3941159432880128,
           "timepoint": 77.9000015258789,
           "trajectory": "V_sol",
           "upper": 60867188174199176
          },
          {
           "lower": 3956674646559949,
           "timepoint": 78,
           "trajectory": "V_sol",
           "upper": 61250231611267464
          },
          {
           "lower": 3972245721658163.5,
           "timepoint": 78.0999984741211,
           "trajectory": "V_sol",
           "upper": 61635120166286110
          },
          {
           "lower": 3987872436715520,
           "timepoint": 78.19999694824219,
           "trajectory": "V_sol",
           "upper": 62021828713696450
          },
          {
           "lower": 4003556925793894.5,
           "timepoint": 78.30000305175781,
           "trajectory": "V_sol",
           "upper": 62410403424396890
          },
          {
           "lower": 4019296014644019.5,
           "timepoint": 78.4000015258789,
           "trajectory": "V_sol",
           "upper": 62800785672083850
          },
          {
           "lower": 4035092320511590.5,
           "timepoint": 78.5,
           "trajectory": "V_sol",
           "upper": 63192964289842370
          },
          {
           "lower": 4050944729389465.5,
           "timepoint": 78.5999984741211,
           "trajectory": "V_sol",
           "upper": 63587014224851740
          },
          {
           "lower": 4066854207645286.5,
           "timepoint": 78.69999694824219,
           "trajectory": "V_sol",
           "upper": 63982904553347464
          },
          {
           "lower": 4082817500499149,
           "timepoint": 78.80000305175781,
           "trajectory": "V_sol",
           "upper": 64380668990822790
          },
          {
           "lower": 4098841023558451.5,
           "timepoint": 78.9000015258789,
           "trajectory": "V_sol",
           "upper": 64780241824278104
          },
          {
           "lower": 4114921595863040,
           "timepoint": 79,
           "trajectory": "V_sol",
           "upper": 65181666432883080
          },
          {
           "lower": 4131059552957235.5,
           "timepoint": 79.0999984741211,
           "trajectory": "V_sol",
           "upper": 65584939810160620
          },
          {
           "lower": 4147256230307430.5,
           "timepoint": 79.19999694824219,
           "trajectory": "V_sol",
           "upper": 65990022871908340
          },
          {
           "lower": 4163511332634624,
           "timepoint": 79.30000305175781,
           "trajectory": "V_sol",
           "upper": 66397019771083144
          },
          {
           "lower": 4179823410387353.5,
           "timepoint": 79.4000015258789,
           "trajectory": "V_sol",
           "upper": 66805825066237940
          },
          {
           "lower": 4196193986936832,
           "timepoint": 79.5,
           "trajectory": "V_sol",
           "upper": 67216416853039496
          },
          {
           "lower": 4212623062283059.5,
           "timepoint": 79.5999984741211,
           "trajectory": "V_sol",
           "upper": 67628905297398970
          },
          {
           "lower": 4229110710245785.5,
           "timepoint": 79.69999694824219,
           "trajectory": "V_sol",
           "upper": 68043244872663020
          },
          {
           "lower": 4245658917247385.5,
           "timepoint": 79.80000305175781,
           "trajectory": "V_sol",
           "upper": 68459466073099450
          },
          {
           "lower": 4262264509038592,
           "timepoint": 79.9000015258789,
           "trajectory": "V_sol",
           "upper": 68877492663038750
          },
          {
           "lower": 4278929787453440,
           "timepoint": 80,
           "trajectory": "V_sol",
           "upper": 69297383698281250
          }
         ]
        },
        {
         "name": "traces",
         "transform": [
          {
           "expr": "isValid(datum.value)",
           "type": "filter"
          }
         ],
         "values": []
        },
        {
         "name": "points",
         "values": [
          {
           "sample_id": 0,
           "timepoint": 0,
           "trajectory": "V_data",
           "value": 34248644946672.49
          },
          {
           "sample_id": 0,
           "timepoint": 1,
           "trajectory": "V_data",
           "value": 74826106143484.64
          },
          {
           "sample_id": 0,
           "timepoint": 2,
           "trajectory": "V_data",
           "value": 110773028557372.94
          },
          {
           "sample_id": 0,
           "timepoint": 3,
           "trajectory": "V_data",
           "value": 145513240668548.56
          },
          {
           "sample_id": 0,
           "timepoint": 4,
           "trajectory": "V_data",
           "value": 178946061331467.97
          },
          {
           "sample_id": 0,
           "timepoint": 5,
           "trajectory": "V_data",
           "value": 212605525246655
          },
          {
           "sample_id": 0,
           "timepoint": 6,
           "trajectory": "V_data",
           "value": 251907793363823.03
          },
          {
           "sample_id": 0,
           "timepoint": 7,
           "trajectory": "V_data",
           "value": 297287589715033.2
          },
          {
           "sample_id": 0,
           "timepoint": 8,
           "trajectory": "V_data",
           "value": 342358854009788.3
          },
          {
           "sample_id": 0,
           "timepoint": 9,
           "trajectory": "V_data",
           "value": 384063741361757.2
          },
          {
           "sample_id": 0,
           "timepoint": 10,
           "trajectory": "V_data",
           "value": 424100106521029.9
          },
          {
           "sample_id": 0,
           "timepoint": 11,
           "trajectory": "V_data",
           "value": 461851790928127.2
          },
          {
           "sample_id": 0,
           "timepoint": 12,
           "trajectory": "V_data",
           "value": 498304408988044.25
          },
          {
           "sample_id": 0,
           "timepoint": 13,
           "trajectory": "V_data",
           "value": 548221065716523.4
          },
          {
           "sample_id": 0,
           "timepoint": 14,
           "trajectory": "V_data",
           "value": 675643977072622
          },
          {
           "sample_id": 0,
           "timepoint": 15,
           "trajectory": "V_data",
           "value": 751562707678120.9
          },
          {
           "sample_id": 0,
           "timepoint": 16,
           "trajectory": "V_data",
           "value": 829899121500651
          },
          {
           "sample_id": 0,
           "timepoint": 17,
           "trajectory": "V_data",
           "value": 1046326843815478.8
          },
          {
           "sample_id": 0,
           "timepoint": 18,
           "trajectory": "V_data",
           "value": 1295875135538839
          },
          {
           "sample_id": 0,
           "timepoint": 19,
           "trajectory": "V_data",
           "value": 1460571482384016.5
          },
          {
           "sample_id": 0,
           "timepoint": 20,
           "trajectory": "V_data",
           "value": 1592292378295384
          },
          {
           "sample_id": 0,
           "timepoint": 21,
           "trajectory": "V_data",
           "value": 1740882414015524.2
          },
          {
           "sample_id": 0,
           "timepoint": 22,
           "trajectory": "V_data",
           "value": 1882566054918674
          },
          {
           "sample_id": 0,
           "timepoint": 23,
           "trajectory": "V_data",
           "value": 1972015344112838.5
          },
          {
           "sample_id": 0,
           "timepoint": 24,
           "trajectory": "V_data",
           "value": 2071441710342036
          },
          {
           "sample_id": 0,
           "timepoint": 25,
           "trajectory": "V_data",
           "value": 2190128418258483.5
          },
          {
           "sample_id": 0,
           "timepoint": 26,
           "trajectory": "V_data",
           "value": 2284263053733268
          },
          {
           "sample_id": 0,
           "timepoint": 27,
           "trajectory": "V_data",
           "value": 2401528070828421
          },
          {
           "sample_id": 0,
           "timepoint": 28,
           "trajectory": "V_data",
           "value": 2539043189426808
          },
          {
           "sample_id": 0,
           "timepoint": 29,
           "trajectory": "V_data",
           "value": 2623445134633728
          },
          {
           "sample_id": 0,
           "timepoint": 30,
           "trajectory": "V_data",
           "value": 2868773959451638
          },
          {
           "sample_id": 0,
           "timepoint": 31,
           "trajectory": "V_data",
           "value": 2991191174214979
          },
          {
           "sample_id": 0,
           "timepoint": 32,
           "trajectory": "V_data",
           "value": 3129047214690892.5
          },
          {
           "sample_id": 0,
           "timepoint": 33,
           "trajectory": "V_data",
           "value": 3403912214913465
          },
          {
           "sample_id": 0,
           "timepoint": 34,
           "trajectory": "V_data",
           "value": 3718451936404473.5
          },
          {
           "sample_id": 0,
           "timepoint": 35,
           "trajectory": "V_data",
           "value": 3894076572072785.5
          },
          {
           "sample_id": 0,
           "timepoint": 36,
           "trajectory": "V_data",
           "value": 4190012056978476
          },
          {
           "sample_id": 0,
           "timepoint": 37,
           "trajectory": "V_data",
           "value": 4379172150627225.5
          },
          {
           "sample_id": 0,
           "timepoint": 38,
           "trajectory": "V_data",
           "value": 4584996690364133
          },
          {
           "sample_id": 0,
           "timepoint": 39,
           "trajectory": "V_data",
           "value": 4842715961786298
          },
          {
           "sample_id": 0,
           "timepoint": 40,
           "trajectory": "V_data",
           "value": 5057017833310725
          },
          {
           "sample_id": 0,
           "timepoint": 41,
           "trajectory": "V_data",
           "value": 5334255093252734
          },
          {
           "sample_id": 0,
           "timepoint": 42,
           "trajectory": "V_data",
           "value": 5613459509330455
          },
          {
           "sample_id": 0,
           "timepoint": 43,
           "trajectory": "V_data",
           "value": 5900675119579128
          },
          {
           "sample_id": 0,
           "timepoint": 44,
           "trajectory": "V_data",
           "value": 6137835221456338
          },
          {
           "sample_id": 0,
           "timepoint": 45,
           "trajectory": "V_data",
           "value": 6455786439569586
          },
          {
           "sample_id": 0,
           "timepoint": 46,
           "trajectory": "V_data",
           "value": 6737865202057693
          },
          {
           "sample_id": 0,
           "timepoint": 47,
           "trajectory": "V_data",
           "value": 7082040828667748
          },
          {
           "sample_id": 0,
           "timepoint": 48,
           "trajectory": "V_data",
           "value": 7473588619526592
          },
          {
           "sample_id": 0,
           "timepoint": 49,
           "trajectory": "V_data",
           "value": 7802169943421971
          },
          {
           "sample_id": 0,
           "timepoint": 50,
           "trajectory": "V_data",
           "value": 8064264769284555
          },
          {
           "sample_id": 0,
           "timepoint": 51,
           "trajectory": "V_data",
           "value": 8350528001810362
          },
          {
           "sample_id": 0,
           "timepoint": 52,
           "trajectory": "V_data",
           "value": 8620926151000598
          },
          {
           "sample_id": 0,
           "timepoint": 53,
           "trajectory": "V_data",
           "value": 8967823176668702
          },
          {
           "sample_id": 0,
           "timepoint": 54,
           "trajectory": "V_data",
           "value": 9347385175287846
          },
          {
           "sample_id": 0,
           "timepoint": 55,
           "trajectory": "V_data",
           "value": 10400775744728212
          },
          {
           "sample_id": 0,
           "timepoint": 56,
           "trajectory": "V_data",
           "value": 10924150605249734
          },
          {
           "sample_id": 0,
           "timepoint": 57,
           "trajectory": "V_data",
           "value": 11705167142508414
          },
          {
           "sample_id": 0,
           "timepoint": 58,
           "trajectory": "V_data",
           "value": 12359300512467032
          },
          {
           "sample_id": 0,
           "timepoint": 59,
           "trajectory": "V_data",
           "value": 12986780639190464
          },
          {
           "sample_id": 0,
           "timepoint": 60,
           "trajectory": "V_data",
           "value": 13550907207646232
          },
          {
           "sample_id": 0,
           "timepoint": 61,
           "trajectory": "V_data",
           "value": 14248041314600788
          },
          {
           "sample_id": 0,
           "timepoint": 62,
           "trajectory": "V_data",
           "value": 15848276614633882
          },
          {
           "sample_id": 0,
           "timepoint": 63,
           "trajectory": "V_data",
           "value": 17038987764329418
          },
          {
           "sample_id": 0,
           "timepoint": 64,
           "trajectory": "V_data",
           "value": 18260590802877810
          },
          {
           "sample_id": 0,
           "timepoint": 65,
           "trajectory": "V_data",
           "value": 20209504393071680
          },
          {
           "sample_id": 0,
           "timepoint": 66,
           "trajectory": "V_data",
           "value": 21264574070527824
          },
          {
           "sample_id": 0,
           "timepoint": 67,
           "trajectory": "V_data",
           "value": 24405223143174390
          },
          {
           "sample_id": 0,
           "timepoint": 68,
           "trajectory": "V_data",
           "value": 26892652544175644
          },
          {
           "sample_id": 0,
           "timepoint": 69,
           "trajectory": "V_data",
           "value": 28282864516791200
          },
          {
           "sample_id": 0,
           "timepoint": 70,
           "trajectory": "V_data",
           "value": 29394041033392708
          },
          {
           "sample_id": 0,
           "timepoint": 71,
           "trajectory": "V_data",
           "value": 30685003617018490
          },
          {
           "sample_id": 0,
           "timepoint": 72,
           "trajectory": "V_data",
           "value": 32085327926567616
          },
          {
           "sample_id": 0,
           "timepoint": 73,
           "trajectory": "V_data",
           "value": 33217196172771584
          },
          {
           "sample_id": 0,
           "timepoint": 74,
           "trajectory": "V_data",
           "value": 34991952115553804
          },
          {
           "sample_id": 0,
           "timepoint": 75,
           "trajectory": "V_data",
           "value": 36597766934503620
          },
          {
           "sample_id": 0,
           "timepoint": 76,
           "trajectory": "V_data",
           "value": 37222723829582630
          },
          {
           "sample_id": 0,
           "timepoint": 77,
           "trajectory": "V_data",
           "value": 38307418298165540
          },
          {
           "sample_id": 0,
           "timepoint": 78,
           "trajectory": "V_data",
           "value": 39548322728633350
          },
          {
           "sample_id": 0,
           "timepoint": 79,
           "trajectory": "V_data",
           "value": 40640493939989390
          }
         ]
        },
        {
         "name": "markers",
         "values": []
        },
        {
         "name": "selected",
         "on": [
          {
           "remove": true,
           "trigger": "clear"
          },
          {
           "remove": true,
           "trigger": "!shift"
          },
          {
           "insert": "clicked",
           "trigger": "!shift && clicked"
          },
          {
           "toggle": "clicked",
           "trigger": "shift && clicked"
          }
         ]
        }
       ],
       "height": 300,
       "legends": [
        {
         "encode": {
          "labels": {
           "interactive": true,
           "name": "legendLabel",
           "update": {
            "opacity": [
             {
              "test": "!length(data('selected')) || indata('selected', 'value', datum.value)",
              "value": 1
             },
             {
              "value": 0.25
             }
            ]
           }
          },
          "symbols": {
           "interactive": true,
           "name": "legendSymbol",
           "update": {
            "fill": {
             "value": "transparent"
            },
            "opacity": [
             {
              "test": "!length(data('selected')) || indata('selected', 'value', datum.value)",
              "value": 0.7
             },
             {
              "value": 0.15
             }
            ],
            "size": {
             "value": 64
            },
            "strokeWidth": {
             "value": 2
            }
           }
          }
         },
         "name": "color_legend",
         "stroke": "color"
        }
       ],
       "marks": [
        {
         "from": {
          "facet": {
           "data": "points",
           "groupby": "trajectory",
           "name": "points_split"
          }
         },
         "marks": [
          {
           "encode": {
            "hover": {
             "fillOpacity": {
              "value": 0.9
             }
            },
            "update": {
             "fill": {
              "field": "trajectory",
              "scale": "color"
             },
             "fillOpacity": [
              {
               "test": "!length(data('selected')) || indata('selected', 'value', datum.trajectory)",
               "value": 0.5
              },
              {
               "value": 0.15
              }
             ],
             "size": {
              "value": 10
             },
             "stroke": {
              "field": "trajectory",
              "scale": "color"
             },
             "strokeOpacity": [
              {
               "test": "!length(data('selected')) || indata('selected', 'value', datum.trajectory)",
               "value": 0.75
              },
              {
               "value": 0.15
              }
             ],
             "strokeWidth": {
              "value": 2
             },
             "tooltip": {
              "field": "value"
             },
             "x": {
              "field": "timepoint",
              "scale": "xscale"
             },
             "y": {
              "field": "value",
              "scale": "yscale"
             }
            }
           },
           "from": {
            "data": "points"
           },
           "name": "_points_symbol",
           "type": "symbol",
           "zindex": 3
          },
          {
           "encode": {
            "hover": {
             "fillOpacity": {
              "value": 0.9
             }
            },
            "update": {
             "interpolate": {
              "value": "linear"
             },
             "stroke": {
              "field": "trajectory",
              "scale": "color"
             },
             "strokeOpacity": [
              {
               "test": "!length(data('selected')) || indata('selected', 'value', datum.trajectory)",
               "value": 0.3
              },
              {
               "value": 0.1
              }
             ],
             "strokeWidth": {
              "value": 2
             },
             "x": {
              "field": "timepoint",
              "scale": "xscale"
             },
             "y": {
              "field": "value",
              "scale": "yscale"
             }
            }
           },
           "from": {
            "data": "points"
           },
           "name": "_points_line",
           "type": "line",
           "zindex": 3
          }
         ],
         "name": "_points",
         "type": "group",
         "zindex": 3
        },
        {
         "from": {
          "facet": {
           "data": "traces",
           "groupby": "trajectory",
           "name": "traces_split"
          }
         },
         "marks": [
          {
           "encode": {
            "hover": {
             "fillOpacity": {
              "value": 0.9
             }
            },
            "update": {
             "interpolate": {
              "value": "linear"
             },
             "stroke": {
              "field": "trajectory",
              "scale": "color"
             },
             "strokeOpacity": [
              {
               "test": "!length(data('selected')) || indata('selected', 'value', datum.trajectory)",
               "value": 0.75
              },
              {
               "value": 0.15
              }
             ],
             "strokeWidth": {
              "value": 2
             },
             "x": {
              "field": "timepoint",
              "scale": "xscale"
             },
             "y": {
              "field": "value",
              "scale": "yscale"
             }
            }
           },
           "from": {
            "data": "traces_split"
           },
           "name": "_traces_lines",
           "type": "line"
          }
         ],
         "name": "_traces",
         "type": "group",
         "zindex": 2
        },
        {
         "from": {
          "facet": {
           "data": "distributions",
           "groupby": "trajectory",
           "name": "trajectory_split"
          }
         },
         "marks": [
          {
           "encode": {
            "hover": {
             "fillOpacity": {
              "value": 0.9
             }
            },
            "update": {
             "fill": {
              "field": "trajectory",
              "scale": "color"
             },
             "fillOpacity": [
              {
               "test": "!length(data('selected')) || indata('selected', 'value', datum.trajectory)",
               "value": 0.5
              },
              {
               "value": 0.15
              }
             ],
             "interpolate": {
              "value": "linear"
             },
             "stroke": {
              "field": "trajectory",
              "scale": "color"
             },
             "strokeOpacity": [
              {
               "test": "!length(data('selected')) || indata('selected', 'value', datum.trajectory)",
               "value": 0.75
              },
              {
               "value": 0.15
              }
             ],
             "strokeWidth": {
              "value": 2
             },
             "x": {
              "field": "timepoint",
              "scale": "xscale"
             },
             "y": {
              "field": "upper",
              "scale": "yscale"
             },
             "y2": {
              "field": "lower",
              "scale": "yscale"
             }
            }
           },
           "from": {
            "data": "trajectory_split"
           },
           "type": "area"
          }
         ],
         "name": "_distributions",
         "type": "group",
         "zindex": 1
        },
        {
         "marks": [
          {
           "encode": {
            "enter": {
             "stroke": {
              "value": "lightgray"
             }
            },
            "update": {
             "opacity": {
              "value": 1
             },
             "x": {
              "field": "timepoint",
              "scale": "xscale"
             },
             "y": {
              "signal": "height"
             },
             "y2": {
              "value": 0
             }
            }
           },
           "from": {
            "data": "markers"
           },
           "name": "_marker text",
           "type": "rule"
          },
          {
           "encode": {
            "enter": {
             "fontSize": {
              "value": 8
             },
             "text": {
              "field": "datum.label"
             },
             "y": {
              "value": 0
             }
            }
           },
           "from": {
            "data": "_marker text"
           },
           "name": "_marker flags",
           "transform": [
            {
             "as": [
              "x",
              "_y",
              "opacity",
              "align",
              "baseline"
             ],
             "lineAnchor": "start",
             "offset": [
              1
             ],
             "size": {
              "signal": "[width, height]"
             },
             "type": "label"
            }
           ],
           "type": "text"
          }
         ],
         "name": "_markers",
         "type": "group"
        }
       ],
       "padding": 5,
       "scales": [
        {
         "domain": {
          "fields": [
           {
            "data": "distributions",
            "field": "timepoint"
           },
           {
            "data": "traces",
            "field": "timepoint"
           },
           {
            "data": "points",
            "field": "timepoint"
           },
           {
            "data": "markers",
            "field": "timepoint"
           }
          ]
         },
         "name": "xscale",
         "range": "width",
         "type": "linear",
         "zero": false
        },
        {
         "domain": {
          "fields": [
           {
            "data": "distributions",
            "field": "lower"
           },
           {
            "data": "distributions",
            "field": "upper"
           },
           {
            "data": "traces",
            "field": "value"
           },
           {
            "data": "points",
            "field": "value"
           }
          ]
         },
         "name": "yscale",
         "nice": true,
         "range": "height",
         "type": "linear",
         "zero": true
        },
        {
         "domain": {
          "fields": [
           {
            "data": "distributions",
            "field": "trajectory"
           },
           {
            "data": "traces",
            "field": "trajectory"
           },
           {
            "data": "points",
            "field": "trajectory"
           }
          ]
         },
         "name": "color",
         "range": "category",
         "type": "ordinal"
        }
       ],
       "signals": [
        {
         "name": "clear",
         "on": [
          {
           "events": "mouseup[!event.item]",
           "force": true,
           "update": "true"
          }
         ],
         "value": true
        },
        {
         "name": "shift",
         "on": [
          {
           "events": "@legendSymbol:click, @legendLabel:click",
           "force": true,
           "update": "event.shiftKey"
          }
         ],
         "value": false
        },
        {
         "name": "clicked",
         "on": [
          {
           "events": "@legendSymbol:click, @legendLabel:click",
           "force": true,
           "update": "{value: datum.value}"
          }
         ],
         "value": null
        }
       ],
       "width": 500
      }
     },
     "metadata": {},
     "output_type": "display_data"
    }
   ],
   "source": [
    "num_samples = 10\n",
    "start_time = 0\n",
    "end_time = 80 #226 # between 10/02/2020 and 01/25/2021\n",
    "num_timepoints = (end_time-start_time)*10 + 1\n",
    "timepoints = list(get_tspan(start_time, end_time, num_timepoints).detach().numpy())\n",
    "\n",
    "prior_samples = load_and_sample_petri_model(tm, num_samples, timepoints=timepoints, method=\"dopri5\",\n",
    "                                            visual_options={\"title\": \"3_base\", \"subset\":[\"I_sol\", \"E_sol\", \"V_sol\"]}, \n",
    "                                            time_unit=\"days\")\n",
    "\n",
    "# Plot results\n",
    "schema = plots.trajectories(pd.DataFrame(prior_samples[\"data\"]), subset=\".*_sol\",\n",
    "                            points=ww_data_train.reset_index(drop=True).rename(columns={\"V\":\"V_data\"}))\n",
    "schema = plots.pad(schema, 5)\n",
    "plots.ipy_display(schema)"
   ]
  },
  {
   "cell_type": "code",
   "execution_count": null,
   "id": "b5e86da8-c0b9-4977-9d59-bcb5092c3918",
   "metadata": {},
   "outputs": [],
   "source": [
    "post_samples = load_and_calibrate_and_sample_petri_model(\n",
    "    tm,\n",
    "    'ww_data3.csv',\n",
    "    num_samples,\n",
    "    num_iterations=100,\n",
    "    timepoints=timepoints,\n",
    "    verbose=True,\n",
    "    noise_scale=1.,\n",
    "    method=\"euler\", time_unit=\"days\")\n",
    "\n",
    "# Plot results\n",
    "schema = plots.trajectories(pd.DataFrame(post_samples[\"data\"]), subset=\".*_sol\",\n",
    "                            points=ww_data_train.reset_index(drop=True).rename(columns={\"V\":\"V_data\"}))\n",
    "schema = plots.pad(schema, 5)\n",
    "plots.ipy_display(schema)"
   ]
  },
  {
   "cell_type": "markdown",
   "id": "9ab97c24-a40e-4dde-9c0f-ed174f2fa0a7",
   "metadata": {},
   "source": [
    "## Calibrate ensemble"
   ]
  },
  {
   "cell_type": "code",
   "execution_count": 15,
   "id": "10fe2a44-9984-4a58-97cc-acfb917c4ebf",
   "metadata": {},
   "outputs": [
    {
     "name": "stderr",
     "output_type": "stream",
     "text": [
      "ERROR:root:\n",
      "                ###############################\n",
      "\n",
      "                There was an exception in pyciemss\n",
      "                \n",
      "                Error occured in function: calibrate_ensemble_model\n",
      "\n",
      "                Function docs : \n",
      "    Calibrate a model. Dispatches to the calibrate method of the underlying model.\n",
      "    This method is only implemented for petri net models.\n",
      "    \n",
      "\n",
      "                ################################\n",
      "            \n",
      "Traceback (most recent call last):\n",
      "  File \"/Users/altu809/.pyenv/versions/3.10.9/lib/python3.10/site-packages/sympytorch/sympy_module.py\", line 158, in forward\n",
      "    arg_ = memodict[arg]\n",
      "KeyError: _Node()\n",
      "\n",
      "During handling of the above exception, another exception occurred:\n",
      "\n",
      "Traceback (most recent call last):\n",
      "  File \"/Users/altu809/.pyenv/versions/3.10.9/lib/python3.10/site-packages/sympytorch/sympy_module.py\", line 158, in forward\n",
      "    arg_ = memodict[arg]\n",
      "KeyError: <function _Node.__init__.<locals>.<lambda> at 0x2a64b1ea0>\n",
      "\n",
      "During handling of the above exception, another exception occurred:\n",
      "\n",
      "Traceback (most recent call last):\n",
      "  File \"/Users/altu809/Projects/pyciemss/src/pyciemss/custom_decorators.py\", line 9, in wrapped\n",
      "    result = function(*args, **kwargs)\n",
      "  File \"/Users/altu809/Projects/pyciemss/src/pyciemss/Ensemble/interfaces.py\", line 480, in calibrate_ensemble_model\n",
      "    loss = svi.step(method=method)\n",
      "  File \"/Users/altu809/.pyenv/versions/3.10.9/lib/python3.10/site-packages/pyro/infer/svi.py\", line 145, in step\n",
      "    loss = self.loss_and_grads(self.model, self.guide, *args, **kwargs)\n",
      "  File \"/Users/altu809/.pyenv/versions/3.10.9/lib/python3.10/site-packages/pyro/infer/trace_elbo.py\", line 140, in loss_and_grads\n",
      "    for model_trace, guide_trace in self._get_traces(model, guide, args, kwargs):\n",
      "  File \"/Users/altu809/.pyenv/versions/3.10.9/lib/python3.10/site-packages/pyro/infer/elbo.py\", line 236, in _get_traces\n",
      "    yield self._get_trace(model, guide, args, kwargs)\n",
      "  File \"/Users/altu809/.pyenv/versions/3.10.9/lib/python3.10/site-packages/pyro/infer/trace_elbo.py\", line 57, in _get_trace\n",
      "    model_trace, guide_trace = get_importance_trace(\n",
      "  File \"/Users/altu809/.pyenv/versions/3.10.9/lib/python3.10/site-packages/pyro/infer/enum.py\", line 60, in get_importance_trace\n",
      "    guide_trace = poutine.trace(guide, graph_type=graph_type).get_trace(\n",
      "  File \"/Users/altu809/.pyenv/versions/3.10.9/lib/python3.10/site-packages/pyro/poutine/trace_messenger.py\", line 198, in get_trace\n",
      "    self(*args, **kwargs)\n",
      "  File \"/Users/altu809/.pyenv/versions/3.10.9/lib/python3.10/site-packages/pyro/poutine/trace_messenger.py\", line 174, in __call__\n",
      "    ret = self.fn(*args, **kwargs)\n",
      "  File \"/Users/altu809/.pyenv/versions/3.10.9/lib/python3.10/site-packages/pyro/nn/module.py\", line 448, in __call__\n",
      "    result = super().__call__(*args, **kwargs)\n",
      "  File \"/Users/altu809/.pyenv/versions/3.10.9/lib/python3.10/site-packages/torch/nn/modules/module.py\", line 1501, in _call_impl\n",
      "    return forward_call(*args, **kwargs)\n",
      "  File \"/Users/altu809/.pyenv/versions/3.10.9/lib/python3.10/site-packages/pyro/infer/autoguide/guides.py\", line 759, in forward\n",
      "    self._setup_prototype(*args, **kwargs)\n",
      "  File \"/Users/altu809/.pyenv/versions/3.10.9/lib/python3.10/site-packages/pyro/infer/autoguide/guides.py\", line 999, in _setup_prototype\n",
      "    super()._setup_prototype(*args, **kwargs)\n",
      "  File \"/Users/altu809/.pyenv/versions/3.10.9/lib/python3.10/site-packages/pyro/infer/autoguide/guides.py\", line 636, in _setup_prototype\n",
      "    super()._setup_prototype(*args, **kwargs)\n",
      "  File \"/Users/altu809/.pyenv/versions/3.10.9/lib/python3.10/site-packages/pyro/infer/autoguide/guides.py\", line 157, in _setup_prototype\n",
      "    self.prototype_trace = poutine.block(poutine.trace(model).get_trace)(\n",
      "  File \"/Users/altu809/.pyenv/versions/3.10.9/lib/python3.10/site-packages/pyro/poutine/messenger.py\", line 12, in _context_wrap\n",
      "    return fn(*args, **kwargs)\n",
      "  File \"/Users/altu809/.pyenv/versions/3.10.9/lib/python3.10/site-packages/pyro/poutine/trace_messenger.py\", line 198, in get_trace\n",
      "    self(*args, **kwargs)\n",
      "  File \"/Users/altu809/.pyenv/versions/3.10.9/lib/python3.10/site-packages/pyro/poutine/trace_messenger.py\", line 174, in __call__\n",
      "    ret = self.fn(*args, **kwargs)\n",
      "  File \"/Users/altu809/.pyenv/versions/3.10.9/lib/python3.10/site-packages/pyro/poutine/messenger.py\", line 12, in _context_wrap\n",
      "    return fn(*args, **kwargs)\n",
      "  File \"/Users/altu809/.pyenv/versions/3.10.9/lib/python3.10/site-packages/pyro/poutine/messenger.py\", line 12, in _context_wrap\n",
      "    return fn(*args, **kwargs)\n",
      "  File \"/Users/altu809/.pyenv/versions/3.10.9/lib/python3.10/site-packages/pyro/nn/module.py\", line 448, in __call__\n",
      "    result = super().__call__(*args, **kwargs)\n",
      "  File \"/Users/altu809/.pyenv/versions/3.10.9/lib/python3.10/site-packages/torch/nn/modules/module.py\", line 1501, in _call_impl\n",
      "    return forward_call(*args, **kwargs)\n",
      "  File \"/Users/altu809/Projects/pyciemss/src/pyciemss/interfaces.py\", line 60, in forward\n",
      "    solution = self.get_solution(*args, **kwargs)\n",
      "  File \"/Users/altu809/Projects/pyciemss/src/pyciemss/Ensemble/base.py\", line 111, in get_solution\n",
      "    solutions = [mapping(model.get_solution(*args, **kwargs)) for model, mapping in zip(self.models, self.solution_mappings)]\n",
      "  File \"/Users/altu809/Projects/pyciemss/src/pyciemss/Ensemble/base.py\", line 111, in <listcomp>\n",
      "    solutions = [mapping(model.get_solution(*args, **kwargs)) for model, mapping in zip(self.models, self.solution_mappings)]\n",
      "  File \"/Users/altu809/Projects/pyciemss/src/pyciemss/utils/interface_utils.py\", line 252, in solution_mapping_f\n",
      "    result_dict[observable] = torch.squeeze(model.compiled_observables[observable](**solution), dim=-1)\n",
      "  File \"/Users/altu809/.pyenv/versions/3.10.9/lib/python3.10/site-packages/torch/nn/modules/module.py\", line 1501, in _call_impl\n",
      "    return forward_call(*args, **kwargs)\n",
      "  File \"/Users/altu809/.pyenv/versions/3.10.9/lib/python3.10/site-packages/sympytorch/sympy_module.py\", line 190, in forward\n",
      "    out = [node(symbols) for node in self._nodes]\n",
      "  File \"/Users/altu809/.pyenv/versions/3.10.9/lib/python3.10/site-packages/sympytorch/sympy_module.py\", line 190, in <listcomp>\n",
      "    out = [node(symbols) for node in self._nodes]\n",
      "  File \"/Users/altu809/.pyenv/versions/3.10.9/lib/python3.10/site-packages/torch/nn/modules/module.py\", line 1501, in _call_impl\n",
      "    return forward_call(*args, **kwargs)\n",
      "  File \"/Users/altu809/.pyenv/versions/3.10.9/lib/python3.10/site-packages/sympytorch/sympy_module.py\", line 160, in forward\n",
      "    arg_ = arg(memodict)\n",
      "  File \"/Users/altu809/.pyenv/versions/3.10.9/lib/python3.10/site-packages/torch/nn/modules/module.py\", line 1501, in _call_impl\n",
      "    return forward_call(*args, **kwargs)\n",
      "  File \"/Users/altu809/.pyenv/versions/3.10.9/lib/python3.10/site-packages/sympytorch/sympy_module.py\", line 160, in forward\n",
      "    arg_ = arg(memodict)\n",
      "  File \"/Users/altu809/.pyenv/versions/3.10.9/lib/python3.10/site-packages/sympytorch/sympy_module.py\", line 106, in <lambda>\n",
      "    self._args = ((lambda memodict: memodict[expr.name]),)\n",
      "KeyError: 'a_ww'\n",
      "ERROR:root:\n",
      "                ###############################\n",
      "\n",
      "                There was an exception in pyciemss\n",
      "                \n",
      "                Error occured in function: load_and_calibrate_and_sample_ensemble_model\n",
      "\n",
      "                Function docs : \n",
      "    Load a collection petri net from a file, compile them into an ensemble probabilistic program, calibrate it on data,\n",
      "    and sample from the calibrated model.\n",
      "\n",
      "    Args:\n",
      "        petri_model_or_paths: Iterable[Union[str, mira.metamodel.TemplateModel, mira.modeling.Model]\n",
      "            - Each element of the iterable is a path to a petri net file, or a petri net object.\n",
      "            - This path can be a URL or a local path to a mira model or AMR model.\n",
      "            - Alternatively, this can be a mira template model directly.\n",
      "        data_path: str\n",
      "            - The path to the data to calibrate the model to. See notebook/integration_demo/data.csv\n",
      "              for an example of the format.\n",
      "            - The data should be a csv with one column for \"time\" and remaining columns for each state variable.\n",
      "            - Each state variable must exactly align with the state variables in the shared ensemble representation.\n",
      "              (See `solution_mappings` for more details.)\n",
      "        weights: Iterable[float]\n",
      "            - Weights representing prior belief about which models are more likely to be correct.\n",
      "            - By convention these weights should sum to 1.0.\n",
      "        solution_mappings: Iterable[Callable]\n",
      "            - A list of functions that map the output of the model to the output of the shared state space.\n",
      "            - Each element of the iterable is a function that takes in a model output and returns a dict of\n",
      "              the form {variable_name: value}.\n",
      "            - The order of the functions should match the order of the models.\n",
      "        num_samples: int\n",
      "            - The number of samples to draw from the model.\n",
      "        timepoints: [Iterable[float]]\n",
      "            - The timepoints to simulate the model from. Backcasting and/or forecasting is reflected\n",
      "              in the choice of timepoints.\n",
      "        start_states: Optional[Iterable[dict[str, float]]]\n",
      "            - Each element of the iterable is the initial state of the component model.\n",
      "            - If None, the initial state is taken from each of the mira models.\n",
      "            - Note: Currently users must specify the initial state for all or none of the models.\n",
      "        total_population: float > 0.0\n",
      "            - The total population of the model. This is used to scale the model to the correct population.\n",
      "        pseudocount: float > 0.0\n",
      "            - The pseudocount to use for adding uncertainty to the observations.\n",
      "            - Larger values of pseudocount correspond to more certainty about the observations.\n",
      "        dirichlet_concentration: float > 0.0\n",
      "            - The concentration parameter for the dirichlet distribution used to sample the ensemble mixture weights.\n",
      "            - Larger values of dirichlet_concentration correspond to more certainty about the weights.\n",
      "        start_time: float\n",
      "            - The start time of the model. This is used to align the `start_state` with the `timepoints`.\n",
      "            - By default we set the `start_time` to be a small negative number to avoid numerical issues\n",
      "              w/ collision with the `timepoints` which typically start at 0.\n",
      "        num_iterations: int\n",
      "            - The number of iterations to run the calibration for.\n",
      "        lr: float\n",
      "            - The learning rate to use for the calibration.\n",
      "        verbose: bool\n",
      "            - Whether to print out the calibration progress. This will include summaries of the evidence lower\n",
      "              bound (ELBO) and the parameters.\n",
      "        verbose_every: int\n",
      "            - How often to print out the loss during calibration.\n",
      "        num_particles: int\n",
      "            - The number of particles to use for the calibration. Increasing this value will result in lower variance\n",
      "              gradient estimates, but will also increase the computational cost per gradient step.\n",
      "        autoguide: pyro.infer.autoguide.AutoGuide\n",
      "            - The autoguide to use for the calibration.\n",
      "        method: str\n",
      "            - The method to use for the ODE solver. See `torchdiffeq.odeint` for more details.\n",
      "            - If performance is incredibly slow, we suggest using `euler` to debug. If using `euler` results\n",
      "              in faster simulation, the issue is likely that the model is stiff.\n",
      "        time_unit: str\n",
      "            - Time unit (used for labeling outputs)\n",
      "        visual_options: None, bool, dict[str, any]\n",
      "            - True output a visual\n",
      "            - False do not output a visual\n",
      "            - dict output a visual with the dictionary passed to the visualization as kwargs\n",
      "        alpha_qs: Optional[Iterable[float]]\n",
      "            - The quantiles required for estimating weighted interval score to test ensemble forecasting accuracy.\n",
      "        stacking_order: Optional[str]\n",
      "            - The stacking order requested for the ensemble quantiles to keep the selected quantity together for each state.\n",
      "            - Options: \"timepoints\" or \"quantiles\"\n",
      "\n",
      "    Returns:\n",
      "        result: dict\n",
      "            - Dictionary of outputs with following attribute:\n",
      "                * data: The samples from the calibrated model as a pandas DataFrame.\n",
      "                * quantiles: The quantiles for ensemble score calculation after calibration as a pandas DataFrames.\n",
      "                * visual: Visualization. (If visual_options is truthy)\n",
      "    \n",
      "\n",
      "                ################################\n",
      "            \n",
      "Traceback (most recent call last):\n",
      "  File \"/Users/altu809/.pyenv/versions/3.10.9/lib/python3.10/site-packages/sympytorch/sympy_module.py\", line 158, in forward\n",
      "    arg_ = memodict[arg]\n",
      "KeyError: _Node()\n",
      "\n",
      "During handling of the above exception, another exception occurred:\n",
      "\n",
      "Traceback (most recent call last):\n",
      "  File \"/Users/altu809/.pyenv/versions/3.10.9/lib/python3.10/site-packages/sympytorch/sympy_module.py\", line 158, in forward\n",
      "    arg_ = memodict[arg]\n",
      "KeyError: <function _Node.__init__.<locals>.<lambda> at 0x2a64b1ea0>\n",
      "\n",
      "During handling of the above exception, another exception occurred:\n",
      "\n",
      "Traceback (most recent call last):\n",
      "  File \"/Users/altu809/Projects/pyciemss/src/pyciemss/custom_decorators.py\", line 9, in wrapped\n",
      "    result = function(*args, **kwargs)\n",
      "  File \"/Users/altu809/Projects/pyciemss/src/pyciemss/Ensemble/interfaces.py\", line 324, in load_and_calibrate_and_sample_ensemble_model\n",
      "    inferred_parameters = calibrate(\n",
      "  File \"/Users/altu809/.pyenv/versions/3.10.9/lib/python3.10/functools.py\", line 889, in wrapper\n",
      "    return dispatch(args[0].__class__)(*args, **kw)\n",
      "  File \"/Users/altu809/Projects/pyciemss/src/pyciemss/custom_decorators.py\", line 30, in wrapped\n",
      "    raise e\n",
      "  File \"/Users/altu809/Projects/pyciemss/src/pyciemss/custom_decorators.py\", line 9, in wrapped\n",
      "    result = function(*args, **kwargs)\n",
      "  File \"/Users/altu809/Projects/pyciemss/src/pyciemss/Ensemble/interfaces.py\", line 480, in calibrate_ensemble_model\n",
      "    loss = svi.step(method=method)\n",
      "  File \"/Users/altu809/.pyenv/versions/3.10.9/lib/python3.10/site-packages/pyro/infer/svi.py\", line 145, in step\n",
      "    loss = self.loss_and_grads(self.model, self.guide, *args, **kwargs)\n",
      "  File \"/Users/altu809/.pyenv/versions/3.10.9/lib/python3.10/site-packages/pyro/infer/trace_elbo.py\", line 140, in loss_and_grads\n",
      "    for model_trace, guide_trace in self._get_traces(model, guide, args, kwargs):\n",
      "  File \"/Users/altu809/.pyenv/versions/3.10.9/lib/python3.10/site-packages/pyro/infer/elbo.py\", line 236, in _get_traces\n",
      "    yield self._get_trace(model, guide, args, kwargs)\n",
      "  File \"/Users/altu809/.pyenv/versions/3.10.9/lib/python3.10/site-packages/pyro/infer/trace_elbo.py\", line 57, in _get_trace\n",
      "    model_trace, guide_trace = get_importance_trace(\n",
      "  File \"/Users/altu809/.pyenv/versions/3.10.9/lib/python3.10/site-packages/pyro/infer/enum.py\", line 60, in get_importance_trace\n",
      "    guide_trace = poutine.trace(guide, graph_type=graph_type).get_trace(\n",
      "  File \"/Users/altu809/.pyenv/versions/3.10.9/lib/python3.10/site-packages/pyro/poutine/trace_messenger.py\", line 198, in get_trace\n",
      "    self(*args, **kwargs)\n",
      "  File \"/Users/altu809/.pyenv/versions/3.10.9/lib/python3.10/site-packages/pyro/poutine/trace_messenger.py\", line 174, in __call__\n",
      "    ret = self.fn(*args, **kwargs)\n",
      "  File \"/Users/altu809/.pyenv/versions/3.10.9/lib/python3.10/site-packages/pyro/nn/module.py\", line 448, in __call__\n",
      "    result = super().__call__(*args, **kwargs)\n",
      "  File \"/Users/altu809/.pyenv/versions/3.10.9/lib/python3.10/site-packages/torch/nn/modules/module.py\", line 1501, in _call_impl\n",
      "    return forward_call(*args, **kwargs)\n",
      "  File \"/Users/altu809/.pyenv/versions/3.10.9/lib/python3.10/site-packages/pyro/infer/autoguide/guides.py\", line 759, in forward\n",
      "    self._setup_prototype(*args, **kwargs)\n",
      "  File \"/Users/altu809/.pyenv/versions/3.10.9/lib/python3.10/site-packages/pyro/infer/autoguide/guides.py\", line 999, in _setup_prototype\n",
      "    super()._setup_prototype(*args, **kwargs)\n",
      "  File \"/Users/altu809/.pyenv/versions/3.10.9/lib/python3.10/site-packages/pyro/infer/autoguide/guides.py\", line 636, in _setup_prototype\n",
      "    super()._setup_prototype(*args, **kwargs)\n",
      "  File \"/Users/altu809/.pyenv/versions/3.10.9/lib/python3.10/site-packages/pyro/infer/autoguide/guides.py\", line 157, in _setup_prototype\n",
      "    self.prototype_trace = poutine.block(poutine.trace(model).get_trace)(\n",
      "  File \"/Users/altu809/.pyenv/versions/3.10.9/lib/python3.10/site-packages/pyro/poutine/messenger.py\", line 12, in _context_wrap\n",
      "    return fn(*args, **kwargs)\n",
      "  File \"/Users/altu809/.pyenv/versions/3.10.9/lib/python3.10/site-packages/pyro/poutine/trace_messenger.py\", line 198, in get_trace\n",
      "    self(*args, **kwargs)\n",
      "  File \"/Users/altu809/.pyenv/versions/3.10.9/lib/python3.10/site-packages/pyro/poutine/trace_messenger.py\", line 174, in __call__\n",
      "    ret = self.fn(*args, **kwargs)\n",
      "  File \"/Users/altu809/.pyenv/versions/3.10.9/lib/python3.10/site-packages/pyro/poutine/messenger.py\", line 12, in _context_wrap\n",
      "    return fn(*args, **kwargs)\n",
      "  File \"/Users/altu809/.pyenv/versions/3.10.9/lib/python3.10/site-packages/pyro/poutine/messenger.py\", line 12, in _context_wrap\n",
      "    return fn(*args, **kwargs)\n",
      "  File \"/Users/altu809/.pyenv/versions/3.10.9/lib/python3.10/site-packages/pyro/nn/module.py\", line 448, in __call__\n",
      "    result = super().__call__(*args, **kwargs)\n",
      "  File \"/Users/altu809/.pyenv/versions/3.10.9/lib/python3.10/site-packages/torch/nn/modules/module.py\", line 1501, in _call_impl\n",
      "    return forward_call(*args, **kwargs)\n",
      "  File \"/Users/altu809/Projects/pyciemss/src/pyciemss/interfaces.py\", line 60, in forward\n",
      "    solution = self.get_solution(*args, **kwargs)\n",
      "  File \"/Users/altu809/Projects/pyciemss/src/pyciemss/Ensemble/base.py\", line 111, in get_solution\n",
      "    solutions = [mapping(model.get_solution(*args, **kwargs)) for model, mapping in zip(self.models, self.solution_mappings)]\n",
      "  File \"/Users/altu809/Projects/pyciemss/src/pyciemss/Ensemble/base.py\", line 111, in <listcomp>\n",
      "    solutions = [mapping(model.get_solution(*args, **kwargs)) for model, mapping in zip(self.models, self.solution_mappings)]\n",
      "  File \"/Users/altu809/Projects/pyciemss/src/pyciemss/utils/interface_utils.py\", line 252, in solution_mapping_f\n",
      "    result_dict[observable] = torch.squeeze(model.compiled_observables[observable](**solution), dim=-1)\n",
      "  File \"/Users/altu809/.pyenv/versions/3.10.9/lib/python3.10/site-packages/torch/nn/modules/module.py\", line 1501, in _call_impl\n",
      "    return forward_call(*args, **kwargs)\n",
      "  File \"/Users/altu809/.pyenv/versions/3.10.9/lib/python3.10/site-packages/sympytorch/sympy_module.py\", line 190, in forward\n",
      "    out = [node(symbols) for node in self._nodes]\n",
      "  File \"/Users/altu809/.pyenv/versions/3.10.9/lib/python3.10/site-packages/sympytorch/sympy_module.py\", line 190, in <listcomp>\n",
      "    out = [node(symbols) for node in self._nodes]\n",
      "  File \"/Users/altu809/.pyenv/versions/3.10.9/lib/python3.10/site-packages/torch/nn/modules/module.py\", line 1501, in _call_impl\n",
      "    return forward_call(*args, **kwargs)\n",
      "  File \"/Users/altu809/.pyenv/versions/3.10.9/lib/python3.10/site-packages/sympytorch/sympy_module.py\", line 160, in forward\n",
      "    arg_ = arg(memodict)\n",
      "  File \"/Users/altu809/.pyenv/versions/3.10.9/lib/python3.10/site-packages/torch/nn/modules/module.py\", line 1501, in _call_impl\n",
      "    return forward_call(*args, **kwargs)\n",
      "  File \"/Users/altu809/.pyenv/versions/3.10.9/lib/python3.10/site-packages/sympytorch/sympy_module.py\", line 160, in forward\n",
      "    arg_ = arg(memodict)\n",
      "  File \"/Users/altu809/.pyenv/versions/3.10.9/lib/python3.10/site-packages/sympytorch/sympy_module.py\", line 106, in <lambda>\n",
      "    self._args = ((lambda memodict: memodict[expr.name]),)\n",
      "KeyError: 'a_ww'\n"
     ]
    },
    {
     "ename": "KeyError",
     "evalue": "'a_ww'",
     "output_type": "error",
     "traceback": [
      "\u001b[0;31m---------------------------------------------------------------------------\u001b[0m",
      "\u001b[0;31mKeyError\u001b[0m                                  Traceback (most recent call last)",
      "File \u001b[0;32m~/.pyenv/versions/3.10.9/lib/python3.10/site-packages/sympytorch/sympy_module.py:158\u001b[0m, in \u001b[0;36m_Node.forward\u001b[0;34m(self, memodict)\u001b[0m\n\u001b[1;32m    157\u001b[0m \u001b[38;5;28;01mtry\u001b[39;00m:\n\u001b[0;32m--> 158\u001b[0m     arg_ \u001b[38;5;241m=\u001b[39m \u001b[43mmemodict\u001b[49m\u001b[43m[\u001b[49m\u001b[43marg\u001b[49m\u001b[43m]\u001b[49m\n\u001b[1;32m    159\u001b[0m \u001b[38;5;28;01mexcept\u001b[39;00m \u001b[38;5;167;01mKeyError\u001b[39;00m:\n",
      "\u001b[0;31mKeyError\u001b[0m: _Node()",
      "\nDuring handling of the above exception, another exception occurred:\n",
      "\u001b[0;31mKeyError\u001b[0m                                  Traceback (most recent call last)",
      "File \u001b[0;32m~/.pyenv/versions/3.10.9/lib/python3.10/site-packages/sympytorch/sympy_module.py:158\u001b[0m, in \u001b[0;36m_Node.forward\u001b[0;34m(self, memodict)\u001b[0m\n\u001b[1;32m    157\u001b[0m \u001b[38;5;28;01mtry\u001b[39;00m:\n\u001b[0;32m--> 158\u001b[0m     arg_ \u001b[38;5;241m=\u001b[39m \u001b[43mmemodict\u001b[49m\u001b[43m[\u001b[49m\u001b[43marg\u001b[49m\u001b[43m]\u001b[49m\n\u001b[1;32m    159\u001b[0m \u001b[38;5;28;01mexcept\u001b[39;00m \u001b[38;5;167;01mKeyError\u001b[39;00m:\n",
      "\u001b[0;31mKeyError\u001b[0m: <function _Node.__init__.<locals>.<lambda> at 0x2a64b1ea0>",
      "\nDuring handling of the above exception, another exception occurred:\n",
      "\u001b[0;31mKeyError\u001b[0m                                  Traceback (most recent call last)",
      "Cell \u001b[0;32mIn[15], line 8\u001b[0m\n\u001b[1;32m      5\u001b[0m solution_mappings \u001b[38;5;241m=\u001b[39m [{\u001b[38;5;124m\"\u001b[39m\u001b[38;5;124mV\u001b[39m\u001b[38;5;124m\"\u001b[39m: \u001b[38;5;124m\"\u001b[39m\u001b[38;5;124mV_load\u001b[39m\u001b[38;5;124m\"\u001b[39m}]\n\u001b[1;32m      7\u001b[0m \u001b[38;5;66;03m# Run the calibration and sampling\u001b[39;00m\n\u001b[0;32m----> 8\u001b[0m result \u001b[38;5;241m=\u001b[39m \u001b[43mload_and_calibrate_and_sample_ensemble_model\u001b[49m\u001b[43m(\u001b[49m\n\u001b[1;32m      9\u001b[0m \u001b[43m    \u001b[49m\u001b[43mmodel_paths\u001b[49m\u001b[43m,\u001b[49m\n\u001b[1;32m     10\u001b[0m \u001b[43m    \u001b[49m\u001b[43mdata_path\u001b[49m\u001b[43m,\u001b[49m\n\u001b[1;32m     11\u001b[0m \u001b[43m    \u001b[49m\u001b[43mweights\u001b[49m\u001b[43m,\u001b[49m\n\u001b[1;32m     12\u001b[0m \u001b[43m    \u001b[49m\u001b[43msolution_mappings\u001b[49m\u001b[43m,\u001b[49m\n\u001b[1;32m     13\u001b[0m \u001b[43m    \u001b[49m\u001b[43mnum_samples\u001b[49m\u001b[43m,\u001b[49m\n\u001b[1;32m     14\u001b[0m \u001b[43m    \u001b[49m\u001b[43mtimepoints\u001b[49m\u001b[43m,\u001b[49m\n\u001b[1;32m     15\u001b[0m \u001b[43m    \u001b[49m\u001b[43mverbose\u001b[49m\u001b[38;5;241;43m=\u001b[39;49m\u001b[38;5;28;43;01mTrue\u001b[39;49;00m\u001b[43m,\u001b[49m\n\u001b[1;32m     16\u001b[0m \u001b[43m    \u001b[49m\u001b[43mnum_iterations\u001b[49m\u001b[38;5;241;43m=\u001b[39;49m\u001b[38;5;241;43m200\u001b[39;49m\u001b[43m,\u001b[49m\n\u001b[1;32m     17\u001b[0m \u001b[43m    \u001b[49m\u001b[43mtime_unit\u001b[49m\u001b[38;5;241;43m=\u001b[39;49m\u001b[38;5;124;43m\"\u001b[39;49m\u001b[38;5;124;43mdays\u001b[39;49m\u001b[38;5;124;43m\"\u001b[39;49m\u001b[43m,\u001b[49m\n\u001b[1;32m     18\u001b[0m \u001b[43m    \u001b[49m\u001b[43mvisual_options\u001b[49m\u001b[38;5;241;43m=\u001b[39;49m\u001b[43m{\u001b[49m\u001b[38;5;124;43m\"\u001b[39;49m\u001b[38;5;124;43mtitle\u001b[39;49m\u001b[38;5;124;43m\"\u001b[39;49m\u001b[43m:\u001b[49m\u001b[43m \u001b[49m\u001b[38;5;124;43m\"\u001b[39;49m\u001b[38;5;124;43mCalibrated Ensemble\u001b[39;49m\u001b[38;5;124;43m\"\u001b[39;49m\u001b[43m,\u001b[49m\u001b[43m \u001b[49m\u001b[38;5;124;43m\"\u001b[39;49m\u001b[38;5;124;43msubset\u001b[39;49m\u001b[38;5;124;43m\"\u001b[39;49m\u001b[43m:\u001b[49m\u001b[38;5;124;43m\"\u001b[39;49m\u001b[38;5;124;43m.*_sol\u001b[39;49m\u001b[38;5;124;43m\"\u001b[39;49m\u001b[43m}\u001b[49m\n\u001b[1;32m     19\u001b[0m \u001b[43m)\u001b[49m\n\u001b[1;32m     21\u001b[0m \u001b[38;5;66;03m# # Save results\u001b[39;00m\n\u001b[1;32m     22\u001b[0m \u001b[38;5;66;03m# result[\"data\"].to_csv(\u001b[39;00m\n\u001b[1;32m     23\u001b[0m \u001b[38;5;66;03m#     os.path.join(DEMO_PATH, \"results_petri_ensemble/calibrated_sample_results.csv\"), index=False\u001b[39;00m\n\u001b[0;32m   (...)\u001b[0m\n\u001b[1;32m     28\u001b[0m \n\u001b[1;32m     29\u001b[0m \u001b[38;5;66;03m# Plot results\u001b[39;00m\n\u001b[1;32m     30\u001b[0m schema \u001b[38;5;241m=\u001b[39m plots\u001b[38;5;241m.\u001b[39mtrajectories(pd\u001b[38;5;241m.\u001b[39mDataFrame(result[\u001b[38;5;124m\"\u001b[39m\u001b[38;5;124mdata\u001b[39m\u001b[38;5;124m\"\u001b[39m]), subset\u001b[38;5;241m=\u001b[39m\u001b[38;5;124m\"\u001b[39m\u001b[38;5;124m.*_sol\u001b[39m\u001b[38;5;124m\"\u001b[39m,\n\u001b[1;32m     31\u001b[0m                             points\u001b[38;5;241m=\u001b[39mtest_data\u001b[38;5;241m.\u001b[39mreset_index(drop\u001b[38;5;241m=\u001b[39m\u001b[38;5;28;01mTrue\u001b[39;00m)\u001b[38;5;241m.\u001b[39mrename(columns\u001b[38;5;241m=\u001b[39m{\u001b[38;5;124m\"\u001b[39m\u001b[38;5;124mV\u001b[39m\u001b[38;5;124m\"\u001b[39m:\u001b[38;5;124m\"\u001b[39m\u001b[38;5;124mV_data\u001b[39m\u001b[38;5;124m\"\u001b[39m}),\n\u001b[1;32m     32\u001b[0m                            )\n",
      "File \u001b[0;32m~/Projects/pyciemss/src/pyciemss/custom_decorators.py:30\u001b[0m, in \u001b[0;36mpyciemss_logging_wrapper.<locals>.wrapped\u001b[0;34m(*args, **kwargs)\u001b[0m\n\u001b[1;32m     18\u001b[0m log_message \u001b[38;5;241m=\u001b[39m \u001b[38;5;124m\"\"\"\u001b[39m\n\u001b[1;32m     19\u001b[0m \u001b[38;5;124m    ###############################\u001b[39m\n\u001b[1;32m     20\u001b[0m \n\u001b[0;32m   (...)\u001b[0m\n\u001b[1;32m     27\u001b[0m \u001b[38;5;124m    ################################\u001b[39m\n\u001b[1;32m     28\u001b[0m \u001b[38;5;124m\u001b[39m\u001b[38;5;124m\"\"\"\u001b[39m\n\u001b[1;32m     29\u001b[0m logging\u001b[38;5;241m.\u001b[39mexception(log_message, function\u001b[38;5;241m.\u001b[39m\u001b[38;5;18m__name__\u001b[39m, function\u001b[38;5;241m.\u001b[39m\u001b[38;5;18m__doc__\u001b[39m)\n\u001b[0;32m---> 30\u001b[0m \u001b[38;5;28;01mraise\u001b[39;00m e\n",
      "File \u001b[0;32m~/Projects/pyciemss/src/pyciemss/custom_decorators.py:9\u001b[0m, in \u001b[0;36mpyciemss_logging_wrapper.<locals>.wrapped\u001b[0;34m(*args, **kwargs)\u001b[0m\n\u001b[1;32m      7\u001b[0m \u001b[38;5;28;01mtry\u001b[39;00m:\n\u001b[1;32m      8\u001b[0m     start_time \u001b[38;5;241m=\u001b[39m time\u001b[38;5;241m.\u001b[39mperf_counter()\n\u001b[0;32m----> 9\u001b[0m     result \u001b[38;5;241m=\u001b[39m \u001b[43mfunction\u001b[49m\u001b[43m(\u001b[49m\u001b[38;5;241;43m*\u001b[39;49m\u001b[43margs\u001b[49m\u001b[43m,\u001b[49m\u001b[43m \u001b[49m\u001b[38;5;241;43m*\u001b[39;49m\u001b[38;5;241;43m*\u001b[39;49m\u001b[43mkwargs\u001b[49m\u001b[43m)\u001b[49m\n\u001b[1;32m     10\u001b[0m     end_time \u001b[38;5;241m=\u001b[39m time\u001b[38;5;241m.\u001b[39mperf_counter()\n\u001b[1;32m     11\u001b[0m     logging\u001b[38;5;241m.\u001b[39minfo(\n\u001b[1;32m     12\u001b[0m         \u001b[38;5;124m\"\u001b[39m\u001b[38;5;124mElapsed time for \u001b[39m\u001b[38;5;132;01m%s\u001b[39;00m\u001b[38;5;124m: \u001b[39m\u001b[38;5;132;01m%f\u001b[39;00m\u001b[38;5;124m\"\u001b[39m,\n\u001b[1;32m     13\u001b[0m         function\u001b[38;5;241m.\u001b[39m\u001b[38;5;18m__name__\u001b[39m, end_time \u001b[38;5;241m-\u001b[39m start_time\n\u001b[1;32m     14\u001b[0m     )\n",
      "File \u001b[0;32m~/Projects/pyciemss/src/pyciemss/Ensemble/interfaces.py:324\u001b[0m, in \u001b[0;36mload_and_calibrate_and_sample_ensemble_model\u001b[0;34m(petri_model_or_paths, data_path, weights, solution_mappings, num_samples, timepoints, start_states, total_population, noise_model, noise_scale, dirichlet_concentration, start_time, num_iterations, lr, verbose, verbose_every, num_particles, autoguide, compile_rate_law_p, method, time_unit, visual_options, alpha_qs, stacking_order)\u001b[0m\n\u001b[1;32m    310\u001b[0m     solution_mapping_fs\u001b[38;5;241m.\u001b[39mappend(solution_mapping_f)\n\u001b[1;32m    312\u001b[0m models \u001b[38;5;241m=\u001b[39m setup_model(\n\u001b[1;32m    313\u001b[0m     models,\n\u001b[1;32m    314\u001b[0m     weights,\n\u001b[0;32m   (...)\u001b[0m\n\u001b[1;32m    321\u001b[0m     dirichlet_concentration\u001b[38;5;241m=\u001b[39mdirichlet_concentration,\n\u001b[1;32m    322\u001b[0m )\n\u001b[0;32m--> 324\u001b[0m inferred_parameters \u001b[38;5;241m=\u001b[39m \u001b[43mcalibrate\u001b[49m\u001b[43m(\u001b[49m\n\u001b[1;32m    325\u001b[0m \u001b[43m    \u001b[49m\u001b[43mmodels\u001b[49m\u001b[43m,\u001b[49m\n\u001b[1;32m    326\u001b[0m \u001b[43m    \u001b[49m\u001b[43mdata\u001b[49m\u001b[43m,\u001b[49m\n\u001b[1;32m    327\u001b[0m \u001b[43m    \u001b[49m\u001b[43mnum_iterations\u001b[49m\u001b[43m,\u001b[49m\n\u001b[1;32m    328\u001b[0m \u001b[43m    \u001b[49m\u001b[43mlr\u001b[49m\u001b[43m,\u001b[49m\n\u001b[1;32m    329\u001b[0m \u001b[43m    \u001b[49m\u001b[43mverbose\u001b[49m\u001b[43m,\u001b[49m\n\u001b[1;32m    330\u001b[0m \u001b[43m    \u001b[49m\u001b[43mverbose_every\u001b[49m\u001b[43m,\u001b[49m\n\u001b[1;32m    331\u001b[0m \u001b[43m    \u001b[49m\u001b[43mnum_particles\u001b[49m\u001b[43m,\u001b[49m\n\u001b[1;32m    332\u001b[0m \u001b[43m    \u001b[49m\u001b[43mautoguide\u001b[49m\u001b[43m,\u001b[49m\n\u001b[1;32m    333\u001b[0m \u001b[43m    \u001b[49m\u001b[43mmethod\u001b[49m\u001b[38;5;241;43m=\u001b[39;49m\u001b[43mmethod\u001b[49m\u001b[43m,\u001b[49m\n\u001b[1;32m    334\u001b[0m \u001b[43m\u001b[49m\u001b[43m)\u001b[49m\n\u001b[1;32m    336\u001b[0m samples \u001b[38;5;241m=\u001b[39m sample(\n\u001b[1;32m    337\u001b[0m     models,\n\u001b[1;32m    338\u001b[0m     timepoints,\n\u001b[0;32m   (...)\u001b[0m\n\u001b[1;32m    341\u001b[0m     method\u001b[38;5;241m=\u001b[39mmethod,\n\u001b[1;32m    342\u001b[0m )\n\u001b[1;32m    344\u001b[0m processed_samples, q_ensemble \u001b[38;5;241m=\u001b[39m convert_to_output_format(\n\u001b[1;32m    345\u001b[0m     samples, timepoints, time_unit\u001b[38;5;241m=\u001b[39mtime_unit,\n\u001b[1;32m    346\u001b[0m     quantiles\u001b[38;5;241m=\u001b[39m\u001b[38;5;28;01mTrue\u001b[39;00m, alpha_qs\u001b[38;5;241m=\u001b[39malpha_qs, stacking_order\u001b[38;5;241m=\u001b[39mstacking_order,\n\u001b[1;32m    347\u001b[0m     train_end_point \u001b[38;5;241m=\u001b[39m \u001b[38;5;28mmax\u001b[39m([d[\u001b[38;5;241m0\u001b[39m] \u001b[38;5;28;01mfor\u001b[39;00m d \u001b[38;5;129;01min\u001b[39;00m data])\n\u001b[1;32m    348\u001b[0m )\n",
      "File \u001b[0;32m~/.pyenv/versions/3.10.9/lib/python3.10/functools.py:889\u001b[0m, in \u001b[0;36msingledispatch.<locals>.wrapper\u001b[0;34m(*args, **kw)\u001b[0m\n\u001b[1;32m    885\u001b[0m \u001b[38;5;28;01mif\u001b[39;00m \u001b[38;5;129;01mnot\u001b[39;00m args:\n\u001b[1;32m    886\u001b[0m     \u001b[38;5;28;01mraise\u001b[39;00m \u001b[38;5;167;01mTypeError\u001b[39;00m(\u001b[38;5;124mf\u001b[39m\u001b[38;5;124m'\u001b[39m\u001b[38;5;132;01m{\u001b[39;00mfuncname\u001b[38;5;132;01m}\u001b[39;00m\u001b[38;5;124m requires at least \u001b[39m\u001b[38;5;124m'\u001b[39m\n\u001b[1;32m    887\u001b[0m                     \u001b[38;5;124m'\u001b[39m\u001b[38;5;124m1 positional argument\u001b[39m\u001b[38;5;124m'\u001b[39m)\n\u001b[0;32m--> 889\u001b[0m \u001b[38;5;28;01mreturn\u001b[39;00m \u001b[43mdispatch\u001b[49m\u001b[43m(\u001b[49m\u001b[43margs\u001b[49m\u001b[43m[\u001b[49m\u001b[38;5;241;43m0\u001b[39;49m\u001b[43m]\u001b[49m\u001b[38;5;241;43m.\u001b[39;49m\u001b[38;5;18;43m__class__\u001b[39;49m\u001b[43m)\u001b[49m\u001b[43m(\u001b[49m\u001b[38;5;241;43m*\u001b[39;49m\u001b[43margs\u001b[49m\u001b[43m,\u001b[49m\u001b[43m \u001b[49m\u001b[38;5;241;43m*\u001b[39;49m\u001b[38;5;241;43m*\u001b[39;49m\u001b[43mkw\u001b[49m\u001b[43m)\u001b[49m\n",
      "File \u001b[0;32m~/Projects/pyciemss/src/pyciemss/custom_decorators.py:30\u001b[0m, in \u001b[0;36mpyciemss_logging_wrapper.<locals>.wrapped\u001b[0;34m(*args, **kwargs)\u001b[0m\n\u001b[1;32m     18\u001b[0m log_message \u001b[38;5;241m=\u001b[39m \u001b[38;5;124m\"\"\"\u001b[39m\n\u001b[1;32m     19\u001b[0m \u001b[38;5;124m    ###############################\u001b[39m\n\u001b[1;32m     20\u001b[0m \n\u001b[0;32m   (...)\u001b[0m\n\u001b[1;32m     27\u001b[0m \u001b[38;5;124m    ################################\u001b[39m\n\u001b[1;32m     28\u001b[0m \u001b[38;5;124m\u001b[39m\u001b[38;5;124m\"\"\"\u001b[39m\n\u001b[1;32m     29\u001b[0m logging\u001b[38;5;241m.\u001b[39mexception(log_message, function\u001b[38;5;241m.\u001b[39m\u001b[38;5;18m__name__\u001b[39m, function\u001b[38;5;241m.\u001b[39m\u001b[38;5;18m__doc__\u001b[39m)\n\u001b[0;32m---> 30\u001b[0m \u001b[38;5;28;01mraise\u001b[39;00m e\n",
      "File \u001b[0;32m~/Projects/pyciemss/src/pyciemss/custom_decorators.py:9\u001b[0m, in \u001b[0;36mpyciemss_logging_wrapper.<locals>.wrapped\u001b[0;34m(*args, **kwargs)\u001b[0m\n\u001b[1;32m      7\u001b[0m \u001b[38;5;28;01mtry\u001b[39;00m:\n\u001b[1;32m      8\u001b[0m     start_time \u001b[38;5;241m=\u001b[39m time\u001b[38;5;241m.\u001b[39mperf_counter()\n\u001b[0;32m----> 9\u001b[0m     result \u001b[38;5;241m=\u001b[39m \u001b[43mfunction\u001b[49m\u001b[43m(\u001b[49m\u001b[38;5;241;43m*\u001b[39;49m\u001b[43margs\u001b[49m\u001b[43m,\u001b[49m\u001b[43m \u001b[49m\u001b[38;5;241;43m*\u001b[39;49m\u001b[38;5;241;43m*\u001b[39;49m\u001b[43mkwargs\u001b[49m\u001b[43m)\u001b[49m\n\u001b[1;32m     10\u001b[0m     end_time \u001b[38;5;241m=\u001b[39m time\u001b[38;5;241m.\u001b[39mperf_counter()\n\u001b[1;32m     11\u001b[0m     logging\u001b[38;5;241m.\u001b[39minfo(\n\u001b[1;32m     12\u001b[0m         \u001b[38;5;124m\"\u001b[39m\u001b[38;5;124mElapsed time for \u001b[39m\u001b[38;5;132;01m%s\u001b[39;00m\u001b[38;5;124m: \u001b[39m\u001b[38;5;132;01m%f\u001b[39;00m\u001b[38;5;124m\"\u001b[39m,\n\u001b[1;32m     13\u001b[0m         function\u001b[38;5;241m.\u001b[39m\u001b[38;5;18m__name__\u001b[39m, end_time \u001b[38;5;241m-\u001b[39m start_time\n\u001b[1;32m     14\u001b[0m     )\n",
      "File \u001b[0;32m~/Projects/pyciemss/src/pyciemss/Ensemble/interfaces.py:480\u001b[0m, in \u001b[0;36mcalibrate_ensemble_model\u001b[0;34m(ensemble, data, num_iterations, lr, verbose, verbose_every, num_particles, autoguide, method)\u001b[0m\n\u001b[1;32m    477\u001b[0m pyro\u001b[38;5;241m.\u001b[39mclear_param_store()\n\u001b[1;32m    479\u001b[0m \u001b[38;5;28;01mfor\u001b[39;00m i \u001b[38;5;129;01min\u001b[39;00m \u001b[38;5;28mrange\u001b[39m(num_iterations):\n\u001b[0;32m--> 480\u001b[0m     loss \u001b[38;5;241m=\u001b[39m \u001b[43msvi\u001b[49m\u001b[38;5;241;43m.\u001b[39;49m\u001b[43mstep\u001b[49m\u001b[43m(\u001b[49m\u001b[43mmethod\u001b[49m\u001b[38;5;241;43m=\u001b[39;49m\u001b[43mmethod\u001b[49m\u001b[43m)\u001b[49m\n\u001b[1;32m    481\u001b[0m     \u001b[38;5;28;01mif\u001b[39;00m verbose:\n\u001b[1;32m    482\u001b[0m         \u001b[38;5;28;01mif\u001b[39;00m i \u001b[38;5;241m%\u001b[39m verbose_every \u001b[38;5;241m==\u001b[39m \u001b[38;5;241m0\u001b[39m:\n",
      "File \u001b[0;32m~/.pyenv/versions/3.10.9/lib/python3.10/site-packages/pyro/infer/svi.py:145\u001b[0m, in \u001b[0;36mSVI.step\u001b[0;34m(self, *args, **kwargs)\u001b[0m\n\u001b[1;32m    143\u001b[0m \u001b[38;5;66;03m# get loss and compute gradients\u001b[39;00m\n\u001b[1;32m    144\u001b[0m \u001b[38;5;28;01mwith\u001b[39;00m poutine\u001b[38;5;241m.\u001b[39mtrace(param_only\u001b[38;5;241m=\u001b[39m\u001b[38;5;28;01mTrue\u001b[39;00m) \u001b[38;5;28;01mas\u001b[39;00m param_capture:\n\u001b[0;32m--> 145\u001b[0m     loss \u001b[38;5;241m=\u001b[39m \u001b[38;5;28;43mself\u001b[39;49m\u001b[38;5;241;43m.\u001b[39;49m\u001b[43mloss_and_grads\u001b[49m\u001b[43m(\u001b[49m\u001b[38;5;28;43mself\u001b[39;49m\u001b[38;5;241;43m.\u001b[39;49m\u001b[43mmodel\u001b[49m\u001b[43m,\u001b[49m\u001b[43m \u001b[49m\u001b[38;5;28;43mself\u001b[39;49m\u001b[38;5;241;43m.\u001b[39;49m\u001b[43mguide\u001b[49m\u001b[43m,\u001b[49m\u001b[43m \u001b[49m\u001b[38;5;241;43m*\u001b[39;49m\u001b[43margs\u001b[49m\u001b[43m,\u001b[49m\u001b[43m \u001b[49m\u001b[38;5;241;43m*\u001b[39;49m\u001b[38;5;241;43m*\u001b[39;49m\u001b[43mkwargs\u001b[49m\u001b[43m)\u001b[49m\n\u001b[1;32m    147\u001b[0m params \u001b[38;5;241m=\u001b[39m \u001b[38;5;28mset\u001b[39m(\n\u001b[1;32m    148\u001b[0m     site[\u001b[38;5;124m\"\u001b[39m\u001b[38;5;124mvalue\u001b[39m\u001b[38;5;124m\"\u001b[39m]\u001b[38;5;241m.\u001b[39munconstrained() \u001b[38;5;28;01mfor\u001b[39;00m site \u001b[38;5;129;01min\u001b[39;00m param_capture\u001b[38;5;241m.\u001b[39mtrace\u001b[38;5;241m.\u001b[39mnodes\u001b[38;5;241m.\u001b[39mvalues()\n\u001b[1;32m    149\u001b[0m )\n\u001b[1;32m    151\u001b[0m \u001b[38;5;66;03m# actually perform gradient steps\u001b[39;00m\n\u001b[1;32m    152\u001b[0m \u001b[38;5;66;03m# torch.optim objects gets instantiated for any params that haven't been seen yet\u001b[39;00m\n",
      "File \u001b[0;32m~/.pyenv/versions/3.10.9/lib/python3.10/site-packages/pyro/infer/trace_elbo.py:140\u001b[0m, in \u001b[0;36mTrace_ELBO.loss_and_grads\u001b[0;34m(self, model, guide, *args, **kwargs)\u001b[0m\n\u001b[1;32m    138\u001b[0m loss \u001b[38;5;241m=\u001b[39m \u001b[38;5;241m0.0\u001b[39m\n\u001b[1;32m    139\u001b[0m \u001b[38;5;66;03m# grab a trace from the generator\u001b[39;00m\n\u001b[0;32m--> 140\u001b[0m \u001b[38;5;28;01mfor\u001b[39;00m model_trace, guide_trace \u001b[38;5;129;01min\u001b[39;00m \u001b[38;5;28mself\u001b[39m\u001b[38;5;241m.\u001b[39m_get_traces(model, guide, args, kwargs):\n\u001b[1;32m    141\u001b[0m     loss_particle, surrogate_loss_particle \u001b[38;5;241m=\u001b[39m \u001b[38;5;28mself\u001b[39m\u001b[38;5;241m.\u001b[39m_differentiable_loss_particle(\n\u001b[1;32m    142\u001b[0m         model_trace, guide_trace\n\u001b[1;32m    143\u001b[0m     )\n\u001b[1;32m    144\u001b[0m     loss \u001b[38;5;241m+\u001b[39m\u001b[38;5;241m=\u001b[39m loss_particle \u001b[38;5;241m/\u001b[39m \u001b[38;5;28mself\u001b[39m\u001b[38;5;241m.\u001b[39mnum_particles\n",
      "File \u001b[0;32m~/.pyenv/versions/3.10.9/lib/python3.10/site-packages/pyro/infer/elbo.py:236\u001b[0m, in \u001b[0;36mELBO._get_traces\u001b[0;34m(self, model, guide, args, kwargs)\u001b[0m\n\u001b[1;32m    234\u001b[0m \u001b[38;5;28;01melse\u001b[39;00m:\n\u001b[1;32m    235\u001b[0m     \u001b[38;5;28;01mfor\u001b[39;00m i \u001b[38;5;129;01min\u001b[39;00m \u001b[38;5;28mrange\u001b[39m(\u001b[38;5;28mself\u001b[39m\u001b[38;5;241m.\u001b[39mnum_particles):\n\u001b[0;32m--> 236\u001b[0m         \u001b[38;5;28;01myield\u001b[39;00m \u001b[38;5;28;43mself\u001b[39;49m\u001b[38;5;241;43m.\u001b[39;49m\u001b[43m_get_trace\u001b[49m\u001b[43m(\u001b[49m\u001b[43mmodel\u001b[49m\u001b[43m,\u001b[49m\u001b[43m \u001b[49m\u001b[43mguide\u001b[49m\u001b[43m,\u001b[49m\u001b[43m \u001b[49m\u001b[43margs\u001b[49m\u001b[43m,\u001b[49m\u001b[43m \u001b[49m\u001b[43mkwargs\u001b[49m\u001b[43m)\u001b[49m\n",
      "File \u001b[0;32m~/.pyenv/versions/3.10.9/lib/python3.10/site-packages/pyro/infer/trace_elbo.py:57\u001b[0m, in \u001b[0;36mTrace_ELBO._get_trace\u001b[0;34m(self, model, guide, args, kwargs)\u001b[0m\n\u001b[1;32m     52\u001b[0m \u001b[38;5;28;01mdef\u001b[39;00m \u001b[38;5;21m_get_trace\u001b[39m(\u001b[38;5;28mself\u001b[39m, model, guide, args, kwargs):\n\u001b[1;32m     53\u001b[0m \u001b[38;5;250m    \u001b[39m\u001b[38;5;124;03m\"\"\"\u001b[39;00m\n\u001b[1;32m     54\u001b[0m \u001b[38;5;124;03m    Returns a single trace from the guide, and the model that is run\u001b[39;00m\n\u001b[1;32m     55\u001b[0m \u001b[38;5;124;03m    against it.\u001b[39;00m\n\u001b[1;32m     56\u001b[0m \u001b[38;5;124;03m    \"\"\"\u001b[39;00m\n\u001b[0;32m---> 57\u001b[0m     model_trace, guide_trace \u001b[38;5;241m=\u001b[39m \u001b[43mget_importance_trace\u001b[49m\u001b[43m(\u001b[49m\n\u001b[1;32m     58\u001b[0m \u001b[43m        \u001b[49m\u001b[38;5;124;43m\"\u001b[39;49m\u001b[38;5;124;43mflat\u001b[39;49m\u001b[38;5;124;43m\"\u001b[39;49m\u001b[43m,\u001b[49m\u001b[43m \u001b[49m\u001b[38;5;28;43mself\u001b[39;49m\u001b[38;5;241;43m.\u001b[39;49m\u001b[43mmax_plate_nesting\u001b[49m\u001b[43m,\u001b[49m\u001b[43m \u001b[49m\u001b[43mmodel\u001b[49m\u001b[43m,\u001b[49m\u001b[43m \u001b[49m\u001b[43mguide\u001b[49m\u001b[43m,\u001b[49m\u001b[43m \u001b[49m\u001b[43margs\u001b[49m\u001b[43m,\u001b[49m\u001b[43m \u001b[49m\u001b[43mkwargs\u001b[49m\n\u001b[1;32m     59\u001b[0m \u001b[43m    \u001b[49m\u001b[43m)\u001b[49m\n\u001b[1;32m     60\u001b[0m     \u001b[38;5;28;01mif\u001b[39;00m is_validation_enabled():\n\u001b[1;32m     61\u001b[0m         check_if_enumerated(guide_trace)\n",
      "File \u001b[0;32m~/.pyenv/versions/3.10.9/lib/python3.10/site-packages/pyro/infer/enum.py:60\u001b[0m, in \u001b[0;36mget_importance_trace\u001b[0;34m(graph_type, max_plate_nesting, model, guide, args, kwargs, detach)\u001b[0m\n\u001b[1;32m     58\u001b[0m     model_trace, guide_trace \u001b[38;5;241m=\u001b[39m unwrapped_guide\u001b[38;5;241m.\u001b[39mget_traces()\n\u001b[1;32m     59\u001b[0m \u001b[38;5;28;01melse\u001b[39;00m:\n\u001b[0;32m---> 60\u001b[0m     guide_trace \u001b[38;5;241m=\u001b[39m \u001b[43mpoutine\u001b[49m\u001b[38;5;241;43m.\u001b[39;49m\u001b[43mtrace\u001b[49m\u001b[43m(\u001b[49m\u001b[43mguide\u001b[49m\u001b[43m,\u001b[49m\u001b[43m \u001b[49m\u001b[43mgraph_type\u001b[49m\u001b[38;5;241;43m=\u001b[39;49m\u001b[43mgraph_type\u001b[49m\u001b[43m)\u001b[49m\u001b[38;5;241;43m.\u001b[39;49m\u001b[43mget_trace\u001b[49m\u001b[43m(\u001b[49m\n\u001b[1;32m     61\u001b[0m \u001b[43m        \u001b[49m\u001b[38;5;241;43m*\u001b[39;49m\u001b[43margs\u001b[49m\u001b[43m,\u001b[49m\u001b[43m \u001b[49m\u001b[38;5;241;43m*\u001b[39;49m\u001b[38;5;241;43m*\u001b[39;49m\u001b[43mkwargs\u001b[49m\n\u001b[1;32m     62\u001b[0m \u001b[43m    \u001b[49m\u001b[43m)\u001b[49m\n\u001b[1;32m     63\u001b[0m     \u001b[38;5;28;01mif\u001b[39;00m detach:\n\u001b[1;32m     64\u001b[0m         guide_trace\u001b[38;5;241m.\u001b[39mdetach_()\n",
      "File \u001b[0;32m~/.pyenv/versions/3.10.9/lib/python3.10/site-packages/pyro/poutine/trace_messenger.py:198\u001b[0m, in \u001b[0;36mTraceHandler.get_trace\u001b[0;34m(self, *args, **kwargs)\u001b[0m\n\u001b[1;32m    190\u001b[0m \u001b[38;5;28;01mdef\u001b[39;00m \u001b[38;5;21mget_trace\u001b[39m(\u001b[38;5;28mself\u001b[39m, \u001b[38;5;241m*\u001b[39margs, \u001b[38;5;241m*\u001b[39m\u001b[38;5;241m*\u001b[39mkwargs):\n\u001b[1;32m    191\u001b[0m \u001b[38;5;250m    \u001b[39m\u001b[38;5;124;03m\"\"\"\u001b[39;00m\n\u001b[1;32m    192\u001b[0m \u001b[38;5;124;03m    :returns: data structure\u001b[39;00m\n\u001b[1;32m    193\u001b[0m \u001b[38;5;124;03m    :rtype: pyro.poutine.Trace\u001b[39;00m\n\u001b[0;32m   (...)\u001b[0m\n\u001b[1;32m    196\u001b[0m \u001b[38;5;124;03m    Calls this poutine and returns its trace instead of the function's return value.\u001b[39;00m\n\u001b[1;32m    197\u001b[0m \u001b[38;5;124;03m    \"\"\"\u001b[39;00m\n\u001b[0;32m--> 198\u001b[0m     \u001b[38;5;28;43mself\u001b[39;49m\u001b[43m(\u001b[49m\u001b[38;5;241;43m*\u001b[39;49m\u001b[43margs\u001b[49m\u001b[43m,\u001b[49m\u001b[43m \u001b[49m\u001b[38;5;241;43m*\u001b[39;49m\u001b[38;5;241;43m*\u001b[39;49m\u001b[43mkwargs\u001b[49m\u001b[43m)\u001b[49m\n\u001b[1;32m    199\u001b[0m     \u001b[38;5;28;01mreturn\u001b[39;00m \u001b[38;5;28mself\u001b[39m\u001b[38;5;241m.\u001b[39mmsngr\u001b[38;5;241m.\u001b[39mget_trace()\n",
      "File \u001b[0;32m~/.pyenv/versions/3.10.9/lib/python3.10/site-packages/pyro/poutine/trace_messenger.py:174\u001b[0m, in \u001b[0;36mTraceHandler.__call__\u001b[0;34m(self, *args, **kwargs)\u001b[0m\n\u001b[1;32m    170\u001b[0m \u001b[38;5;28mself\u001b[39m\u001b[38;5;241m.\u001b[39mmsngr\u001b[38;5;241m.\u001b[39mtrace\u001b[38;5;241m.\u001b[39madd_node(\n\u001b[1;32m    171\u001b[0m     \u001b[38;5;124m\"\u001b[39m\u001b[38;5;124m_INPUT\u001b[39m\u001b[38;5;124m\"\u001b[39m, name\u001b[38;5;241m=\u001b[39m\u001b[38;5;124m\"\u001b[39m\u001b[38;5;124m_INPUT\u001b[39m\u001b[38;5;124m\"\u001b[39m, \u001b[38;5;28mtype\u001b[39m\u001b[38;5;241m=\u001b[39m\u001b[38;5;124m\"\u001b[39m\u001b[38;5;124margs\u001b[39m\u001b[38;5;124m\"\u001b[39m, args\u001b[38;5;241m=\u001b[39margs, kwargs\u001b[38;5;241m=\u001b[39mkwargs\n\u001b[1;32m    172\u001b[0m )\n\u001b[1;32m    173\u001b[0m \u001b[38;5;28;01mtry\u001b[39;00m:\n\u001b[0;32m--> 174\u001b[0m     ret \u001b[38;5;241m=\u001b[39m \u001b[38;5;28;43mself\u001b[39;49m\u001b[38;5;241;43m.\u001b[39;49m\u001b[43mfn\u001b[49m\u001b[43m(\u001b[49m\u001b[38;5;241;43m*\u001b[39;49m\u001b[43margs\u001b[49m\u001b[43m,\u001b[49m\u001b[43m \u001b[49m\u001b[38;5;241;43m*\u001b[39;49m\u001b[38;5;241;43m*\u001b[39;49m\u001b[43mkwargs\u001b[49m\u001b[43m)\u001b[49m\n\u001b[1;32m    175\u001b[0m \u001b[38;5;28;01mexcept\u001b[39;00m (\u001b[38;5;167;01mValueError\u001b[39;00m, \u001b[38;5;167;01mRuntimeError\u001b[39;00m) \u001b[38;5;28;01mas\u001b[39;00m e:\n\u001b[1;32m    176\u001b[0m     exc_type, exc_value, traceback \u001b[38;5;241m=\u001b[39m sys\u001b[38;5;241m.\u001b[39mexc_info()\n",
      "File \u001b[0;32m~/.pyenv/versions/3.10.9/lib/python3.10/site-packages/pyro/nn/module.py:448\u001b[0m, in \u001b[0;36mPyroModule.__call__\u001b[0;34m(self, *args, **kwargs)\u001b[0m\n\u001b[1;32m    446\u001b[0m \u001b[38;5;28;01mdef\u001b[39;00m \u001b[38;5;21m__call__\u001b[39m(\u001b[38;5;28mself\u001b[39m, \u001b[38;5;241m*\u001b[39margs, \u001b[38;5;241m*\u001b[39m\u001b[38;5;241m*\u001b[39mkwargs):\n\u001b[1;32m    447\u001b[0m     \u001b[38;5;28;01mwith\u001b[39;00m \u001b[38;5;28mself\u001b[39m\u001b[38;5;241m.\u001b[39m_pyro_context:\n\u001b[0;32m--> 448\u001b[0m         result \u001b[38;5;241m=\u001b[39m \u001b[38;5;28;43msuper\u001b[39;49m\u001b[43m(\u001b[49m\u001b[43m)\u001b[49m\u001b[38;5;241;43m.\u001b[39;49m\u001b[38;5;21;43m__call__\u001b[39;49m\u001b[43m(\u001b[49m\u001b[38;5;241;43m*\u001b[39;49m\u001b[43margs\u001b[49m\u001b[43m,\u001b[49m\u001b[43m \u001b[49m\u001b[38;5;241;43m*\u001b[39;49m\u001b[38;5;241;43m*\u001b[39;49m\u001b[43mkwargs\u001b[49m\u001b[43m)\u001b[49m\n\u001b[1;32m    449\u001b[0m     \u001b[38;5;28;01mif\u001b[39;00m (\n\u001b[1;32m    450\u001b[0m         pyro\u001b[38;5;241m.\u001b[39msettings\u001b[38;5;241m.\u001b[39mget(\u001b[38;5;124m\"\u001b[39m\u001b[38;5;124mvalidate_poutine\u001b[39m\u001b[38;5;124m\"\u001b[39m)\n\u001b[1;32m    451\u001b[0m         \u001b[38;5;129;01mand\u001b[39;00m \u001b[38;5;129;01mnot\u001b[39;00m \u001b[38;5;28mself\u001b[39m\u001b[38;5;241m.\u001b[39m_pyro_context\u001b[38;5;241m.\u001b[39mactive\n\u001b[1;32m    452\u001b[0m         \u001b[38;5;129;01mand\u001b[39;00m _is_module_local_param_enabled()\n\u001b[1;32m    453\u001b[0m     ):\n\u001b[1;32m    454\u001b[0m         \u001b[38;5;28mself\u001b[39m\u001b[38;5;241m.\u001b[39m_check_module_local_param_usage()\n",
      "File \u001b[0;32m~/.pyenv/versions/3.10.9/lib/python3.10/site-packages/torch/nn/modules/module.py:1501\u001b[0m, in \u001b[0;36mModule._call_impl\u001b[0;34m(self, *args, **kwargs)\u001b[0m\n\u001b[1;32m   1496\u001b[0m \u001b[38;5;66;03m# If we don't have any hooks, we want to skip the rest of the logic in\u001b[39;00m\n\u001b[1;32m   1497\u001b[0m \u001b[38;5;66;03m# this function, and just call forward.\u001b[39;00m\n\u001b[1;32m   1498\u001b[0m \u001b[38;5;28;01mif\u001b[39;00m \u001b[38;5;129;01mnot\u001b[39;00m (\u001b[38;5;28mself\u001b[39m\u001b[38;5;241m.\u001b[39m_backward_hooks \u001b[38;5;129;01mor\u001b[39;00m \u001b[38;5;28mself\u001b[39m\u001b[38;5;241m.\u001b[39m_backward_pre_hooks \u001b[38;5;129;01mor\u001b[39;00m \u001b[38;5;28mself\u001b[39m\u001b[38;5;241m.\u001b[39m_forward_hooks \u001b[38;5;129;01mor\u001b[39;00m \u001b[38;5;28mself\u001b[39m\u001b[38;5;241m.\u001b[39m_forward_pre_hooks\n\u001b[1;32m   1499\u001b[0m         \u001b[38;5;129;01mor\u001b[39;00m _global_backward_pre_hooks \u001b[38;5;129;01mor\u001b[39;00m _global_backward_hooks\n\u001b[1;32m   1500\u001b[0m         \u001b[38;5;129;01mor\u001b[39;00m _global_forward_hooks \u001b[38;5;129;01mor\u001b[39;00m _global_forward_pre_hooks):\n\u001b[0;32m-> 1501\u001b[0m     \u001b[38;5;28;01mreturn\u001b[39;00m \u001b[43mforward_call\u001b[49m\u001b[43m(\u001b[49m\u001b[38;5;241;43m*\u001b[39;49m\u001b[43margs\u001b[49m\u001b[43m,\u001b[49m\u001b[43m \u001b[49m\u001b[38;5;241;43m*\u001b[39;49m\u001b[38;5;241;43m*\u001b[39;49m\u001b[43mkwargs\u001b[49m\u001b[43m)\u001b[49m\n\u001b[1;32m   1502\u001b[0m \u001b[38;5;66;03m# Do not call functions when jit is used\u001b[39;00m\n\u001b[1;32m   1503\u001b[0m full_backward_hooks, non_full_backward_hooks \u001b[38;5;241m=\u001b[39m [], []\n",
      "File \u001b[0;32m~/.pyenv/versions/3.10.9/lib/python3.10/site-packages/pyro/infer/autoguide/guides.py:759\u001b[0m, in \u001b[0;36mAutoContinuous.forward\u001b[0;34m(self, *args, **kwargs)\u001b[0m\n\u001b[1;32m    757\u001b[0m \u001b[38;5;66;03m# if we've never run the model before, do so now so we can inspect the model structure\u001b[39;00m\n\u001b[1;32m    758\u001b[0m \u001b[38;5;28;01mif\u001b[39;00m \u001b[38;5;28mself\u001b[39m\u001b[38;5;241m.\u001b[39mprototype_trace \u001b[38;5;129;01mis\u001b[39;00m \u001b[38;5;28;01mNone\u001b[39;00m:\n\u001b[0;32m--> 759\u001b[0m     \u001b[38;5;28;43mself\u001b[39;49m\u001b[38;5;241;43m.\u001b[39;49m\u001b[43m_setup_prototype\u001b[49m\u001b[43m(\u001b[49m\u001b[38;5;241;43m*\u001b[39;49m\u001b[43margs\u001b[49m\u001b[43m,\u001b[49m\u001b[43m \u001b[49m\u001b[38;5;241;43m*\u001b[39;49m\u001b[38;5;241;43m*\u001b[39;49m\u001b[43mkwargs\u001b[49m\u001b[43m)\u001b[49m\n\u001b[1;32m    761\u001b[0m latent \u001b[38;5;241m=\u001b[39m \u001b[38;5;28mself\u001b[39m\u001b[38;5;241m.\u001b[39msample_latent(\u001b[38;5;241m*\u001b[39margs, \u001b[38;5;241m*\u001b[39m\u001b[38;5;241m*\u001b[39mkwargs)\n\u001b[1;32m    762\u001b[0m plates \u001b[38;5;241m=\u001b[39m \u001b[38;5;28mself\u001b[39m\u001b[38;5;241m.\u001b[39m_create_plates(\u001b[38;5;241m*\u001b[39margs, \u001b[38;5;241m*\u001b[39m\u001b[38;5;241m*\u001b[39mkwargs)\n",
      "File \u001b[0;32m~/.pyenv/versions/3.10.9/lib/python3.10/site-packages/pyro/infer/autoguide/guides.py:999\u001b[0m, in \u001b[0;36mAutoLowRankMultivariateNormal._setup_prototype\u001b[0;34m(self, *args, **kwargs)\u001b[0m\n\u001b[1;32m    998\u001b[0m \u001b[38;5;28;01mdef\u001b[39;00m \u001b[38;5;21m_setup_prototype\u001b[39m(\u001b[38;5;28mself\u001b[39m, \u001b[38;5;241m*\u001b[39margs, \u001b[38;5;241m*\u001b[39m\u001b[38;5;241m*\u001b[39mkwargs):\n\u001b[0;32m--> 999\u001b[0m     \u001b[38;5;28;43msuper\u001b[39;49m\u001b[43m(\u001b[49m\u001b[43m)\u001b[49m\u001b[38;5;241;43m.\u001b[39;49m\u001b[43m_setup_prototype\u001b[49m\u001b[43m(\u001b[49m\u001b[38;5;241;43m*\u001b[39;49m\u001b[43margs\u001b[49m\u001b[43m,\u001b[49m\u001b[43m \u001b[49m\u001b[38;5;241;43m*\u001b[39;49m\u001b[38;5;241;43m*\u001b[39;49m\u001b[43mkwargs\u001b[49m\u001b[43m)\u001b[49m\n\u001b[1;32m   1000\u001b[0m     \u001b[38;5;66;03m# Initialize guide params\u001b[39;00m\n\u001b[1;32m   1001\u001b[0m     \u001b[38;5;28mself\u001b[39m\u001b[38;5;241m.\u001b[39mloc \u001b[38;5;241m=\u001b[39m nn\u001b[38;5;241m.\u001b[39mParameter(\u001b[38;5;28mself\u001b[39m\u001b[38;5;241m.\u001b[39m_init_loc())\n",
      "File \u001b[0;32m~/.pyenv/versions/3.10.9/lib/python3.10/site-packages/pyro/infer/autoguide/guides.py:636\u001b[0m, in \u001b[0;36mAutoContinuous._setup_prototype\u001b[0;34m(self, *args, **kwargs)\u001b[0m\n\u001b[1;32m    635\u001b[0m \u001b[38;5;28;01mdef\u001b[39;00m \u001b[38;5;21m_setup_prototype\u001b[39m(\u001b[38;5;28mself\u001b[39m, \u001b[38;5;241m*\u001b[39margs, \u001b[38;5;241m*\u001b[39m\u001b[38;5;241m*\u001b[39mkwargs):\n\u001b[0;32m--> 636\u001b[0m     \u001b[38;5;28;43msuper\u001b[39;49m\u001b[43m(\u001b[49m\u001b[43m)\u001b[49m\u001b[38;5;241;43m.\u001b[39;49m\u001b[43m_setup_prototype\u001b[49m\u001b[43m(\u001b[49m\u001b[38;5;241;43m*\u001b[39;49m\u001b[43margs\u001b[49m\u001b[43m,\u001b[49m\u001b[43m \u001b[49m\u001b[38;5;241;43m*\u001b[39;49m\u001b[38;5;241;43m*\u001b[39;49m\u001b[43mkwargs\u001b[49m\u001b[43m)\u001b[49m\n\u001b[1;32m    637\u001b[0m     \u001b[38;5;28mself\u001b[39m\u001b[38;5;241m.\u001b[39m_unconstrained_shapes \u001b[38;5;241m=\u001b[39m {}\n\u001b[1;32m    638\u001b[0m     \u001b[38;5;28mself\u001b[39m\u001b[38;5;241m.\u001b[39m_cond_indep_stacks \u001b[38;5;241m=\u001b[39m {}\n",
      "File \u001b[0;32m~/.pyenv/versions/3.10.9/lib/python3.10/site-packages/pyro/infer/autoguide/guides.py:157\u001b[0m, in \u001b[0;36mAutoGuide._setup_prototype\u001b[0;34m(self, *args, **kwargs)\u001b[0m\n\u001b[1;32m    154\u001b[0m \u001b[38;5;28;01mdef\u001b[39;00m \u001b[38;5;21m_setup_prototype\u001b[39m(\u001b[38;5;28mself\u001b[39m, \u001b[38;5;241m*\u001b[39margs, \u001b[38;5;241m*\u001b[39m\u001b[38;5;241m*\u001b[39mkwargs):\n\u001b[1;32m    155\u001b[0m     \u001b[38;5;66;03m# run the model so we can inspect its structure\u001b[39;00m\n\u001b[1;32m    156\u001b[0m     model \u001b[38;5;241m=\u001b[39m poutine\u001b[38;5;241m.\u001b[39mblock(\u001b[38;5;28mself\u001b[39m\u001b[38;5;241m.\u001b[39mmodel, \u001b[38;5;28mself\u001b[39m\u001b[38;5;241m.\u001b[39m_prototype_hide_fn)\n\u001b[0;32m--> 157\u001b[0m     \u001b[38;5;28mself\u001b[39m\u001b[38;5;241m.\u001b[39mprototype_trace \u001b[38;5;241m=\u001b[39m \u001b[43mpoutine\u001b[49m\u001b[38;5;241;43m.\u001b[39;49m\u001b[43mblock\u001b[49m\u001b[43m(\u001b[49m\u001b[43mpoutine\u001b[49m\u001b[38;5;241;43m.\u001b[39;49m\u001b[43mtrace\u001b[49m\u001b[43m(\u001b[49m\u001b[43mmodel\u001b[49m\u001b[43m)\u001b[49m\u001b[38;5;241;43m.\u001b[39;49m\u001b[43mget_trace\u001b[49m\u001b[43m)\u001b[49m\u001b[43m(\u001b[49m\n\u001b[1;32m    158\u001b[0m \u001b[43m        \u001b[49m\u001b[38;5;241;43m*\u001b[39;49m\u001b[43margs\u001b[49m\u001b[43m,\u001b[49m\u001b[43m \u001b[49m\u001b[38;5;241;43m*\u001b[39;49m\u001b[38;5;241;43m*\u001b[39;49m\u001b[43mkwargs\u001b[49m\n\u001b[1;32m    159\u001b[0m \u001b[43m    \u001b[49m\u001b[43m)\u001b[49m\n\u001b[1;32m    160\u001b[0m     \u001b[38;5;28;01mif\u001b[39;00m \u001b[38;5;28mself\u001b[39m\u001b[38;5;241m.\u001b[39mmaster \u001b[38;5;129;01mis\u001b[39;00m \u001b[38;5;129;01mnot\u001b[39;00m \u001b[38;5;28;01mNone\u001b[39;00m:\n\u001b[1;32m    161\u001b[0m         \u001b[38;5;28mself\u001b[39m\u001b[38;5;241m.\u001b[39mmaster()\u001b[38;5;241m.\u001b[39m_check_prototype(\u001b[38;5;28mself\u001b[39m\u001b[38;5;241m.\u001b[39mprototype_trace)\n",
      "File \u001b[0;32m~/.pyenv/versions/3.10.9/lib/python3.10/site-packages/pyro/poutine/messenger.py:12\u001b[0m, in \u001b[0;36m_context_wrap\u001b[0;34m(context, fn, *args, **kwargs)\u001b[0m\n\u001b[1;32m     10\u001b[0m \u001b[38;5;28;01mdef\u001b[39;00m \u001b[38;5;21m_context_wrap\u001b[39m(context, fn, \u001b[38;5;241m*\u001b[39margs, \u001b[38;5;241m*\u001b[39m\u001b[38;5;241m*\u001b[39mkwargs):\n\u001b[1;32m     11\u001b[0m     \u001b[38;5;28;01mwith\u001b[39;00m context:\n\u001b[0;32m---> 12\u001b[0m         \u001b[38;5;28;01mreturn\u001b[39;00m \u001b[43mfn\u001b[49m\u001b[43m(\u001b[49m\u001b[38;5;241;43m*\u001b[39;49m\u001b[43margs\u001b[49m\u001b[43m,\u001b[49m\u001b[43m \u001b[49m\u001b[38;5;241;43m*\u001b[39;49m\u001b[38;5;241;43m*\u001b[39;49m\u001b[43mkwargs\u001b[49m\u001b[43m)\u001b[49m\n",
      "File \u001b[0;32m~/.pyenv/versions/3.10.9/lib/python3.10/site-packages/pyro/poutine/trace_messenger.py:198\u001b[0m, in \u001b[0;36mTraceHandler.get_trace\u001b[0;34m(self, *args, **kwargs)\u001b[0m\n\u001b[1;32m    190\u001b[0m \u001b[38;5;28;01mdef\u001b[39;00m \u001b[38;5;21mget_trace\u001b[39m(\u001b[38;5;28mself\u001b[39m, \u001b[38;5;241m*\u001b[39margs, \u001b[38;5;241m*\u001b[39m\u001b[38;5;241m*\u001b[39mkwargs):\n\u001b[1;32m    191\u001b[0m \u001b[38;5;250m    \u001b[39m\u001b[38;5;124;03m\"\"\"\u001b[39;00m\n\u001b[1;32m    192\u001b[0m \u001b[38;5;124;03m    :returns: data structure\u001b[39;00m\n\u001b[1;32m    193\u001b[0m \u001b[38;5;124;03m    :rtype: pyro.poutine.Trace\u001b[39;00m\n\u001b[0;32m   (...)\u001b[0m\n\u001b[1;32m    196\u001b[0m \u001b[38;5;124;03m    Calls this poutine and returns its trace instead of the function's return value.\u001b[39;00m\n\u001b[1;32m    197\u001b[0m \u001b[38;5;124;03m    \"\"\"\u001b[39;00m\n\u001b[0;32m--> 198\u001b[0m     \u001b[38;5;28;43mself\u001b[39;49m\u001b[43m(\u001b[49m\u001b[38;5;241;43m*\u001b[39;49m\u001b[43margs\u001b[49m\u001b[43m,\u001b[49m\u001b[43m \u001b[49m\u001b[38;5;241;43m*\u001b[39;49m\u001b[38;5;241;43m*\u001b[39;49m\u001b[43mkwargs\u001b[49m\u001b[43m)\u001b[49m\n\u001b[1;32m    199\u001b[0m     \u001b[38;5;28;01mreturn\u001b[39;00m \u001b[38;5;28mself\u001b[39m\u001b[38;5;241m.\u001b[39mmsngr\u001b[38;5;241m.\u001b[39mget_trace()\n",
      "File \u001b[0;32m~/.pyenv/versions/3.10.9/lib/python3.10/site-packages/pyro/poutine/trace_messenger.py:174\u001b[0m, in \u001b[0;36mTraceHandler.__call__\u001b[0;34m(self, *args, **kwargs)\u001b[0m\n\u001b[1;32m    170\u001b[0m \u001b[38;5;28mself\u001b[39m\u001b[38;5;241m.\u001b[39mmsngr\u001b[38;5;241m.\u001b[39mtrace\u001b[38;5;241m.\u001b[39madd_node(\n\u001b[1;32m    171\u001b[0m     \u001b[38;5;124m\"\u001b[39m\u001b[38;5;124m_INPUT\u001b[39m\u001b[38;5;124m\"\u001b[39m, name\u001b[38;5;241m=\u001b[39m\u001b[38;5;124m\"\u001b[39m\u001b[38;5;124m_INPUT\u001b[39m\u001b[38;5;124m\"\u001b[39m, \u001b[38;5;28mtype\u001b[39m\u001b[38;5;241m=\u001b[39m\u001b[38;5;124m\"\u001b[39m\u001b[38;5;124margs\u001b[39m\u001b[38;5;124m\"\u001b[39m, args\u001b[38;5;241m=\u001b[39margs, kwargs\u001b[38;5;241m=\u001b[39mkwargs\n\u001b[1;32m    172\u001b[0m )\n\u001b[1;32m    173\u001b[0m \u001b[38;5;28;01mtry\u001b[39;00m:\n\u001b[0;32m--> 174\u001b[0m     ret \u001b[38;5;241m=\u001b[39m \u001b[38;5;28;43mself\u001b[39;49m\u001b[38;5;241;43m.\u001b[39;49m\u001b[43mfn\u001b[49m\u001b[43m(\u001b[49m\u001b[38;5;241;43m*\u001b[39;49m\u001b[43margs\u001b[49m\u001b[43m,\u001b[49m\u001b[43m \u001b[49m\u001b[38;5;241;43m*\u001b[39;49m\u001b[38;5;241;43m*\u001b[39;49m\u001b[43mkwargs\u001b[49m\u001b[43m)\u001b[49m\n\u001b[1;32m    175\u001b[0m \u001b[38;5;28;01mexcept\u001b[39;00m (\u001b[38;5;167;01mValueError\u001b[39;00m, \u001b[38;5;167;01mRuntimeError\u001b[39;00m) \u001b[38;5;28;01mas\u001b[39;00m e:\n\u001b[1;32m    176\u001b[0m     exc_type, exc_value, traceback \u001b[38;5;241m=\u001b[39m sys\u001b[38;5;241m.\u001b[39mexc_info()\n",
      "File \u001b[0;32m~/.pyenv/versions/3.10.9/lib/python3.10/site-packages/pyro/poutine/messenger.py:12\u001b[0m, in \u001b[0;36m_context_wrap\u001b[0;34m(context, fn, *args, **kwargs)\u001b[0m\n\u001b[1;32m     10\u001b[0m \u001b[38;5;28;01mdef\u001b[39;00m \u001b[38;5;21m_context_wrap\u001b[39m(context, fn, \u001b[38;5;241m*\u001b[39margs, \u001b[38;5;241m*\u001b[39m\u001b[38;5;241m*\u001b[39mkwargs):\n\u001b[1;32m     11\u001b[0m     \u001b[38;5;28;01mwith\u001b[39;00m context:\n\u001b[0;32m---> 12\u001b[0m         \u001b[38;5;28;01mreturn\u001b[39;00m \u001b[43mfn\u001b[49m\u001b[43m(\u001b[49m\u001b[38;5;241;43m*\u001b[39;49m\u001b[43margs\u001b[49m\u001b[43m,\u001b[49m\u001b[43m \u001b[49m\u001b[38;5;241;43m*\u001b[39;49m\u001b[38;5;241;43m*\u001b[39;49m\u001b[43mkwargs\u001b[49m\u001b[43m)\u001b[49m\n",
      "File \u001b[0;32m~/.pyenv/versions/3.10.9/lib/python3.10/site-packages/pyro/poutine/messenger.py:12\u001b[0m, in \u001b[0;36m_context_wrap\u001b[0;34m(context, fn, *args, **kwargs)\u001b[0m\n\u001b[1;32m     10\u001b[0m \u001b[38;5;28;01mdef\u001b[39;00m \u001b[38;5;21m_context_wrap\u001b[39m(context, fn, \u001b[38;5;241m*\u001b[39margs, \u001b[38;5;241m*\u001b[39m\u001b[38;5;241m*\u001b[39mkwargs):\n\u001b[1;32m     11\u001b[0m     \u001b[38;5;28;01mwith\u001b[39;00m context:\n\u001b[0;32m---> 12\u001b[0m         \u001b[38;5;28;01mreturn\u001b[39;00m \u001b[43mfn\u001b[49m\u001b[43m(\u001b[49m\u001b[38;5;241;43m*\u001b[39;49m\u001b[43margs\u001b[49m\u001b[43m,\u001b[49m\u001b[43m \u001b[49m\u001b[38;5;241;43m*\u001b[39;49m\u001b[38;5;241;43m*\u001b[39;49m\u001b[43mkwargs\u001b[49m\u001b[43m)\u001b[49m\n",
      "File \u001b[0;32m~/.pyenv/versions/3.10.9/lib/python3.10/site-packages/pyro/nn/module.py:448\u001b[0m, in \u001b[0;36mPyroModule.__call__\u001b[0;34m(self, *args, **kwargs)\u001b[0m\n\u001b[1;32m    446\u001b[0m \u001b[38;5;28;01mdef\u001b[39;00m \u001b[38;5;21m__call__\u001b[39m(\u001b[38;5;28mself\u001b[39m, \u001b[38;5;241m*\u001b[39margs, \u001b[38;5;241m*\u001b[39m\u001b[38;5;241m*\u001b[39mkwargs):\n\u001b[1;32m    447\u001b[0m     \u001b[38;5;28;01mwith\u001b[39;00m \u001b[38;5;28mself\u001b[39m\u001b[38;5;241m.\u001b[39m_pyro_context:\n\u001b[0;32m--> 448\u001b[0m         result \u001b[38;5;241m=\u001b[39m \u001b[38;5;28;43msuper\u001b[39;49m\u001b[43m(\u001b[49m\u001b[43m)\u001b[49m\u001b[38;5;241;43m.\u001b[39;49m\u001b[38;5;21;43m__call__\u001b[39;49m\u001b[43m(\u001b[49m\u001b[38;5;241;43m*\u001b[39;49m\u001b[43margs\u001b[49m\u001b[43m,\u001b[49m\u001b[43m \u001b[49m\u001b[38;5;241;43m*\u001b[39;49m\u001b[38;5;241;43m*\u001b[39;49m\u001b[43mkwargs\u001b[49m\u001b[43m)\u001b[49m\n\u001b[1;32m    449\u001b[0m     \u001b[38;5;28;01mif\u001b[39;00m (\n\u001b[1;32m    450\u001b[0m         pyro\u001b[38;5;241m.\u001b[39msettings\u001b[38;5;241m.\u001b[39mget(\u001b[38;5;124m\"\u001b[39m\u001b[38;5;124mvalidate_poutine\u001b[39m\u001b[38;5;124m\"\u001b[39m)\n\u001b[1;32m    451\u001b[0m         \u001b[38;5;129;01mand\u001b[39;00m \u001b[38;5;129;01mnot\u001b[39;00m \u001b[38;5;28mself\u001b[39m\u001b[38;5;241m.\u001b[39m_pyro_context\u001b[38;5;241m.\u001b[39mactive\n\u001b[1;32m    452\u001b[0m         \u001b[38;5;129;01mand\u001b[39;00m _is_module_local_param_enabled()\n\u001b[1;32m    453\u001b[0m     ):\n\u001b[1;32m    454\u001b[0m         \u001b[38;5;28mself\u001b[39m\u001b[38;5;241m.\u001b[39m_check_module_local_param_usage()\n",
      "File \u001b[0;32m~/.pyenv/versions/3.10.9/lib/python3.10/site-packages/torch/nn/modules/module.py:1501\u001b[0m, in \u001b[0;36mModule._call_impl\u001b[0;34m(self, *args, **kwargs)\u001b[0m\n\u001b[1;32m   1496\u001b[0m \u001b[38;5;66;03m# If we don't have any hooks, we want to skip the rest of the logic in\u001b[39;00m\n\u001b[1;32m   1497\u001b[0m \u001b[38;5;66;03m# this function, and just call forward.\u001b[39;00m\n\u001b[1;32m   1498\u001b[0m \u001b[38;5;28;01mif\u001b[39;00m \u001b[38;5;129;01mnot\u001b[39;00m (\u001b[38;5;28mself\u001b[39m\u001b[38;5;241m.\u001b[39m_backward_hooks \u001b[38;5;129;01mor\u001b[39;00m \u001b[38;5;28mself\u001b[39m\u001b[38;5;241m.\u001b[39m_backward_pre_hooks \u001b[38;5;129;01mor\u001b[39;00m \u001b[38;5;28mself\u001b[39m\u001b[38;5;241m.\u001b[39m_forward_hooks \u001b[38;5;129;01mor\u001b[39;00m \u001b[38;5;28mself\u001b[39m\u001b[38;5;241m.\u001b[39m_forward_pre_hooks\n\u001b[1;32m   1499\u001b[0m         \u001b[38;5;129;01mor\u001b[39;00m _global_backward_pre_hooks \u001b[38;5;129;01mor\u001b[39;00m _global_backward_hooks\n\u001b[1;32m   1500\u001b[0m         \u001b[38;5;129;01mor\u001b[39;00m _global_forward_hooks \u001b[38;5;129;01mor\u001b[39;00m _global_forward_pre_hooks):\n\u001b[0;32m-> 1501\u001b[0m     \u001b[38;5;28;01mreturn\u001b[39;00m \u001b[43mforward_call\u001b[49m\u001b[43m(\u001b[49m\u001b[38;5;241;43m*\u001b[39;49m\u001b[43margs\u001b[49m\u001b[43m,\u001b[49m\u001b[43m \u001b[49m\u001b[38;5;241;43m*\u001b[39;49m\u001b[38;5;241;43m*\u001b[39;49m\u001b[43mkwargs\u001b[49m\u001b[43m)\u001b[49m\n\u001b[1;32m   1502\u001b[0m \u001b[38;5;66;03m# Do not call functions when jit is used\u001b[39;00m\n\u001b[1;32m   1503\u001b[0m full_backward_hooks, non_full_backward_hooks \u001b[38;5;241m=\u001b[39m [], []\n",
      "File \u001b[0;32m~/Projects/pyciemss/src/pyciemss/interfaces.py:60\u001b[0m, in \u001b[0;36mDynamicalSystem.forward\u001b[0;34m(self, *args, **kwargs)\u001b[0m\n\u001b[1;32m     57\u001b[0m \u001b[38;5;28mself\u001b[39m\u001b[38;5;241m.\u001b[39mparam_prior()\n\u001b[1;32m     59\u001b[0m \u001b[38;5;66;03m# Solve the ODE\u001b[39;00m\n\u001b[0;32m---> 60\u001b[0m solution \u001b[38;5;241m=\u001b[39m \u001b[38;5;28;43mself\u001b[39;49m\u001b[38;5;241;43m.\u001b[39;49m\u001b[43mget_solution\u001b[49m\u001b[43m(\u001b[49m\u001b[38;5;241;43m*\u001b[39;49m\u001b[43margs\u001b[49m\u001b[43m,\u001b[49m\u001b[43m \u001b[49m\u001b[38;5;241;43m*\u001b[39;49m\u001b[38;5;241;43m*\u001b[39;49m\u001b[43mkwargs\u001b[49m\u001b[43m)\u001b[49m\n\u001b[1;32m     62\u001b[0m \u001b[38;5;66;03m# Add the observation likelihoods\u001b[39;00m\n\u001b[1;32m     63\u001b[0m \u001b[38;5;28mself\u001b[39m\u001b[38;5;241m.\u001b[39madd_observation_likelihoods(solution)\n",
      "File \u001b[0;32m~/Projects/pyciemss/src/pyciemss/Ensemble/base.py:111\u001b[0m, in \u001b[0;36mEnsembleSystem.get_solution\u001b[0;34m(self, *args, **kwargs)\u001b[0m\n\u001b[1;32m    106\u001b[0m \u001b[38;5;250m\u001b[39m\u001b[38;5;124;03m'''\u001b[39;00m\n\u001b[1;32m    107\u001b[0m \u001b[38;5;124;03mGet the solution of the ensemble.\u001b[39;00m\n\u001b[1;32m    108\u001b[0m \u001b[38;5;124;03m'''\u001b[39;00m\n\u001b[1;32m    109\u001b[0m model_weights \u001b[38;5;241m=\u001b[39m pyro\u001b[38;5;241m.\u001b[39msample(\u001b[38;5;124m'\u001b[39m\u001b[38;5;124mmodel_weights\u001b[39m\u001b[38;5;124m'\u001b[39m, pyro\u001b[38;5;241m.\u001b[39mdistributions\u001b[38;5;241m.\u001b[39mDirichlet(\u001b[38;5;28mself\u001b[39m\u001b[38;5;241m.\u001b[39mdirichlet_alpha))\n\u001b[0;32m--> 111\u001b[0m solutions \u001b[38;5;241m=\u001b[39m [mapping(model\u001b[38;5;241m.\u001b[39mget_solution(\u001b[38;5;241m*\u001b[39margs, \u001b[38;5;241m*\u001b[39m\u001b[38;5;241m*\u001b[39mkwargs)) \u001b[38;5;28;01mfor\u001b[39;00m model, mapping \u001b[38;5;129;01min\u001b[39;00m \u001b[38;5;28mzip\u001b[39m(\u001b[38;5;28mself\u001b[39m\u001b[38;5;241m.\u001b[39mmodels, \u001b[38;5;28mself\u001b[39m\u001b[38;5;241m.\u001b[39msolution_mappings)]\n\u001b[1;32m    113\u001b[0m \u001b[38;5;66;03m# TODO: make this broadcasted instead of looping over the keys.\u001b[39;00m\n\u001b[1;32m    114\u001b[0m solution \u001b[38;5;241m=\u001b[39m {k: \u001b[38;5;28msum\u001b[39m([model_weights[i] \u001b[38;5;241m*\u001b[39m v[k] \u001b[38;5;28;01mfor\u001b[39;00m i, v \u001b[38;5;129;01min\u001b[39;00m \u001b[38;5;28menumerate\u001b[39m(solutions)]) \u001b[38;5;28;01mfor\u001b[39;00m k \u001b[38;5;129;01min\u001b[39;00m solutions[\u001b[38;5;241m0\u001b[39m]\u001b[38;5;241m.\u001b[39mkeys()}\n",
      "File \u001b[0;32m~/Projects/pyciemss/src/pyciemss/Ensemble/base.py:111\u001b[0m, in \u001b[0;36m<listcomp>\u001b[0;34m(.0)\u001b[0m\n\u001b[1;32m    106\u001b[0m \u001b[38;5;250m\u001b[39m\u001b[38;5;124;03m'''\u001b[39;00m\n\u001b[1;32m    107\u001b[0m \u001b[38;5;124;03mGet the solution of the ensemble.\u001b[39;00m\n\u001b[1;32m    108\u001b[0m \u001b[38;5;124;03m'''\u001b[39;00m\n\u001b[1;32m    109\u001b[0m model_weights \u001b[38;5;241m=\u001b[39m pyro\u001b[38;5;241m.\u001b[39msample(\u001b[38;5;124m'\u001b[39m\u001b[38;5;124mmodel_weights\u001b[39m\u001b[38;5;124m'\u001b[39m, pyro\u001b[38;5;241m.\u001b[39mdistributions\u001b[38;5;241m.\u001b[39mDirichlet(\u001b[38;5;28mself\u001b[39m\u001b[38;5;241m.\u001b[39mdirichlet_alpha))\n\u001b[0;32m--> 111\u001b[0m solutions \u001b[38;5;241m=\u001b[39m [\u001b[43mmapping\u001b[49m\u001b[43m(\u001b[49m\u001b[43mmodel\u001b[49m\u001b[38;5;241;43m.\u001b[39;49m\u001b[43mget_solution\u001b[49m\u001b[43m(\u001b[49m\u001b[38;5;241;43m*\u001b[39;49m\u001b[43margs\u001b[49m\u001b[43m,\u001b[49m\u001b[43m \u001b[49m\u001b[38;5;241;43m*\u001b[39;49m\u001b[38;5;241;43m*\u001b[39;49m\u001b[43mkwargs\u001b[49m\u001b[43m)\u001b[49m\u001b[43m)\u001b[49m \u001b[38;5;28;01mfor\u001b[39;00m model, mapping \u001b[38;5;129;01min\u001b[39;00m \u001b[38;5;28mzip\u001b[39m(\u001b[38;5;28mself\u001b[39m\u001b[38;5;241m.\u001b[39mmodels, \u001b[38;5;28mself\u001b[39m\u001b[38;5;241m.\u001b[39msolution_mappings)]\n\u001b[1;32m    113\u001b[0m \u001b[38;5;66;03m# TODO: make this broadcasted instead of looping over the keys.\u001b[39;00m\n\u001b[1;32m    114\u001b[0m solution \u001b[38;5;241m=\u001b[39m {k: \u001b[38;5;28msum\u001b[39m([model_weights[i] \u001b[38;5;241m*\u001b[39m v[k] \u001b[38;5;28;01mfor\u001b[39;00m i, v \u001b[38;5;129;01min\u001b[39;00m \u001b[38;5;28menumerate\u001b[39m(solutions)]) \u001b[38;5;28;01mfor\u001b[39;00m k \u001b[38;5;129;01min\u001b[39;00m solutions[\u001b[38;5;241m0\u001b[39m]\u001b[38;5;241m.\u001b[39mkeys()}\n",
      "File \u001b[0;32m~/Projects/pyciemss/src/pyciemss/utils/interface_utils.py:252\u001b[0m, in \u001b[0;36mcreate_mapping_function_from_observables.<locals>.solution_mapping_f\u001b[0;34m(solution)\u001b[0m\n\u001b[1;32m    250\u001b[0m result_dict \u001b[38;5;241m=\u001b[39m solution\n\u001b[1;32m    251\u001b[0m \u001b[38;5;28;01mfor\u001b[39;00m observable \u001b[38;5;129;01min\u001b[39;00m model\u001b[38;5;241m.\u001b[39mcompiled_observables:\n\u001b[0;32m--> 252\u001b[0m     result_dict[observable] \u001b[38;5;241m=\u001b[39m torch\u001b[38;5;241m.\u001b[39msqueeze(\u001b[43mmodel\u001b[49m\u001b[38;5;241;43m.\u001b[39;49m\u001b[43mcompiled_observables\u001b[49m\u001b[43m[\u001b[49m\u001b[43mobservable\u001b[49m\u001b[43m]\u001b[49m\u001b[43m(\u001b[49m\u001b[38;5;241;43m*\u001b[39;49m\u001b[38;5;241;43m*\u001b[39;49m\u001b[43msolution\u001b[49m\u001b[43m)\u001b[49m, dim\u001b[38;5;241m=\u001b[39m\u001b[38;5;241m-\u001b[39m\u001b[38;5;241m1\u001b[39m)\n\u001b[1;32m    254\u001b[0m mapped_result_dict \u001b[38;5;241m=\u001b[39m {}\n\u001b[1;32m    255\u001b[0m \u001b[38;5;28;01mfor\u001b[39;00m mapped_to_key, mapped_from_key \u001b[38;5;129;01min\u001b[39;00m solution_mapping\u001b[38;5;241m.\u001b[39mitems():\n",
      "File \u001b[0;32m~/.pyenv/versions/3.10.9/lib/python3.10/site-packages/torch/nn/modules/module.py:1501\u001b[0m, in \u001b[0;36mModule._call_impl\u001b[0;34m(self, *args, **kwargs)\u001b[0m\n\u001b[1;32m   1496\u001b[0m \u001b[38;5;66;03m# If we don't have any hooks, we want to skip the rest of the logic in\u001b[39;00m\n\u001b[1;32m   1497\u001b[0m \u001b[38;5;66;03m# this function, and just call forward.\u001b[39;00m\n\u001b[1;32m   1498\u001b[0m \u001b[38;5;28;01mif\u001b[39;00m \u001b[38;5;129;01mnot\u001b[39;00m (\u001b[38;5;28mself\u001b[39m\u001b[38;5;241m.\u001b[39m_backward_hooks \u001b[38;5;129;01mor\u001b[39;00m \u001b[38;5;28mself\u001b[39m\u001b[38;5;241m.\u001b[39m_backward_pre_hooks \u001b[38;5;129;01mor\u001b[39;00m \u001b[38;5;28mself\u001b[39m\u001b[38;5;241m.\u001b[39m_forward_hooks \u001b[38;5;129;01mor\u001b[39;00m \u001b[38;5;28mself\u001b[39m\u001b[38;5;241m.\u001b[39m_forward_pre_hooks\n\u001b[1;32m   1499\u001b[0m         \u001b[38;5;129;01mor\u001b[39;00m _global_backward_pre_hooks \u001b[38;5;129;01mor\u001b[39;00m _global_backward_hooks\n\u001b[1;32m   1500\u001b[0m         \u001b[38;5;129;01mor\u001b[39;00m _global_forward_hooks \u001b[38;5;129;01mor\u001b[39;00m _global_forward_pre_hooks):\n\u001b[0;32m-> 1501\u001b[0m     \u001b[38;5;28;01mreturn\u001b[39;00m \u001b[43mforward_call\u001b[49m\u001b[43m(\u001b[49m\u001b[38;5;241;43m*\u001b[39;49m\u001b[43margs\u001b[49m\u001b[43m,\u001b[49m\u001b[43m \u001b[49m\u001b[38;5;241;43m*\u001b[39;49m\u001b[38;5;241;43m*\u001b[39;49m\u001b[43mkwargs\u001b[49m\u001b[43m)\u001b[49m\n\u001b[1;32m   1502\u001b[0m \u001b[38;5;66;03m# Do not call functions when jit is used\u001b[39;00m\n\u001b[1;32m   1503\u001b[0m full_backward_hooks, non_full_backward_hooks \u001b[38;5;241m=\u001b[39m [], []\n",
      "File \u001b[0;32m~/.pyenv/versions/3.10.9/lib/python3.10/site-packages/sympytorch/sympy_module.py:190\u001b[0m, in \u001b[0;36mSymPyModule.forward\u001b[0;34m(self, **symbols)\u001b[0m\n\u001b[1;32m    189\u001b[0m \u001b[38;5;28;01mdef\u001b[39;00m \u001b[38;5;21mforward\u001b[39m(\u001b[38;5;28mself\u001b[39m, \u001b[38;5;241m*\u001b[39m\u001b[38;5;241m*\u001b[39msymbols):\n\u001b[0;32m--> 190\u001b[0m     out \u001b[38;5;241m=\u001b[39m [node(symbols) \u001b[38;5;28;01mfor\u001b[39;00m node \u001b[38;5;129;01min\u001b[39;00m \u001b[38;5;28mself\u001b[39m\u001b[38;5;241m.\u001b[39m_nodes]\n\u001b[1;32m    191\u001b[0m     out \u001b[38;5;241m=\u001b[39m torch\u001b[38;5;241m.\u001b[39mbroadcast_tensors(\u001b[38;5;241m*\u001b[39mout)\n\u001b[1;32m    192\u001b[0m     \u001b[38;5;28;01mreturn\u001b[39;00m torch\u001b[38;5;241m.\u001b[39mstack(out, dim\u001b[38;5;241m=\u001b[39m\u001b[38;5;241m-\u001b[39m\u001b[38;5;241m1\u001b[39m)\n",
      "File \u001b[0;32m~/.pyenv/versions/3.10.9/lib/python3.10/site-packages/sympytorch/sympy_module.py:190\u001b[0m, in \u001b[0;36m<listcomp>\u001b[0;34m(.0)\u001b[0m\n\u001b[1;32m    189\u001b[0m \u001b[38;5;28;01mdef\u001b[39;00m \u001b[38;5;21mforward\u001b[39m(\u001b[38;5;28mself\u001b[39m, \u001b[38;5;241m*\u001b[39m\u001b[38;5;241m*\u001b[39msymbols):\n\u001b[0;32m--> 190\u001b[0m     out \u001b[38;5;241m=\u001b[39m [\u001b[43mnode\u001b[49m\u001b[43m(\u001b[49m\u001b[43msymbols\u001b[49m\u001b[43m)\u001b[49m \u001b[38;5;28;01mfor\u001b[39;00m node \u001b[38;5;129;01min\u001b[39;00m \u001b[38;5;28mself\u001b[39m\u001b[38;5;241m.\u001b[39m_nodes]\n\u001b[1;32m    191\u001b[0m     out \u001b[38;5;241m=\u001b[39m torch\u001b[38;5;241m.\u001b[39mbroadcast_tensors(\u001b[38;5;241m*\u001b[39mout)\n\u001b[1;32m    192\u001b[0m     \u001b[38;5;28;01mreturn\u001b[39;00m torch\u001b[38;5;241m.\u001b[39mstack(out, dim\u001b[38;5;241m=\u001b[39m\u001b[38;5;241m-\u001b[39m\u001b[38;5;241m1\u001b[39m)\n",
      "File \u001b[0;32m~/.pyenv/versions/3.10.9/lib/python3.10/site-packages/torch/nn/modules/module.py:1501\u001b[0m, in \u001b[0;36mModule._call_impl\u001b[0;34m(self, *args, **kwargs)\u001b[0m\n\u001b[1;32m   1496\u001b[0m \u001b[38;5;66;03m# If we don't have any hooks, we want to skip the rest of the logic in\u001b[39;00m\n\u001b[1;32m   1497\u001b[0m \u001b[38;5;66;03m# this function, and just call forward.\u001b[39;00m\n\u001b[1;32m   1498\u001b[0m \u001b[38;5;28;01mif\u001b[39;00m \u001b[38;5;129;01mnot\u001b[39;00m (\u001b[38;5;28mself\u001b[39m\u001b[38;5;241m.\u001b[39m_backward_hooks \u001b[38;5;129;01mor\u001b[39;00m \u001b[38;5;28mself\u001b[39m\u001b[38;5;241m.\u001b[39m_backward_pre_hooks \u001b[38;5;129;01mor\u001b[39;00m \u001b[38;5;28mself\u001b[39m\u001b[38;5;241m.\u001b[39m_forward_hooks \u001b[38;5;129;01mor\u001b[39;00m \u001b[38;5;28mself\u001b[39m\u001b[38;5;241m.\u001b[39m_forward_pre_hooks\n\u001b[1;32m   1499\u001b[0m         \u001b[38;5;129;01mor\u001b[39;00m _global_backward_pre_hooks \u001b[38;5;129;01mor\u001b[39;00m _global_backward_hooks\n\u001b[1;32m   1500\u001b[0m         \u001b[38;5;129;01mor\u001b[39;00m _global_forward_hooks \u001b[38;5;129;01mor\u001b[39;00m _global_forward_pre_hooks):\n\u001b[0;32m-> 1501\u001b[0m     \u001b[38;5;28;01mreturn\u001b[39;00m \u001b[43mforward_call\u001b[49m\u001b[43m(\u001b[49m\u001b[38;5;241;43m*\u001b[39;49m\u001b[43margs\u001b[49m\u001b[43m,\u001b[49m\u001b[43m \u001b[49m\u001b[38;5;241;43m*\u001b[39;49m\u001b[38;5;241;43m*\u001b[39;49m\u001b[43mkwargs\u001b[49m\u001b[43m)\u001b[49m\n\u001b[1;32m   1502\u001b[0m \u001b[38;5;66;03m# Do not call functions when jit is used\u001b[39;00m\n\u001b[1;32m   1503\u001b[0m full_backward_hooks, non_full_backward_hooks \u001b[38;5;241m=\u001b[39m [], []\n",
      "File \u001b[0;32m~/.pyenv/versions/3.10.9/lib/python3.10/site-packages/sympytorch/sympy_module.py:160\u001b[0m, in \u001b[0;36m_Node.forward\u001b[0;34m(self, memodict)\u001b[0m\n\u001b[1;32m    158\u001b[0m     arg_ \u001b[38;5;241m=\u001b[39m memodict[arg]\n\u001b[1;32m    159\u001b[0m \u001b[38;5;28;01mexcept\u001b[39;00m \u001b[38;5;167;01mKeyError\u001b[39;00m:\n\u001b[0;32m--> 160\u001b[0m     arg_ \u001b[38;5;241m=\u001b[39m \u001b[43marg\u001b[49m\u001b[43m(\u001b[49m\u001b[43mmemodict\u001b[49m\u001b[43m)\u001b[49m\n\u001b[1;32m    161\u001b[0m     memodict[arg] \u001b[38;5;241m=\u001b[39m arg_\n\u001b[1;32m    162\u001b[0m args\u001b[38;5;241m.\u001b[39mappend(arg_)\n",
      "File \u001b[0;32m~/.pyenv/versions/3.10.9/lib/python3.10/site-packages/torch/nn/modules/module.py:1501\u001b[0m, in \u001b[0;36mModule._call_impl\u001b[0;34m(self, *args, **kwargs)\u001b[0m\n\u001b[1;32m   1496\u001b[0m \u001b[38;5;66;03m# If we don't have any hooks, we want to skip the rest of the logic in\u001b[39;00m\n\u001b[1;32m   1497\u001b[0m \u001b[38;5;66;03m# this function, and just call forward.\u001b[39;00m\n\u001b[1;32m   1498\u001b[0m \u001b[38;5;28;01mif\u001b[39;00m \u001b[38;5;129;01mnot\u001b[39;00m (\u001b[38;5;28mself\u001b[39m\u001b[38;5;241m.\u001b[39m_backward_hooks \u001b[38;5;129;01mor\u001b[39;00m \u001b[38;5;28mself\u001b[39m\u001b[38;5;241m.\u001b[39m_backward_pre_hooks \u001b[38;5;129;01mor\u001b[39;00m \u001b[38;5;28mself\u001b[39m\u001b[38;5;241m.\u001b[39m_forward_hooks \u001b[38;5;129;01mor\u001b[39;00m \u001b[38;5;28mself\u001b[39m\u001b[38;5;241m.\u001b[39m_forward_pre_hooks\n\u001b[1;32m   1499\u001b[0m         \u001b[38;5;129;01mor\u001b[39;00m _global_backward_pre_hooks \u001b[38;5;129;01mor\u001b[39;00m _global_backward_hooks\n\u001b[1;32m   1500\u001b[0m         \u001b[38;5;129;01mor\u001b[39;00m _global_forward_hooks \u001b[38;5;129;01mor\u001b[39;00m _global_forward_pre_hooks):\n\u001b[0;32m-> 1501\u001b[0m     \u001b[38;5;28;01mreturn\u001b[39;00m \u001b[43mforward_call\u001b[49m\u001b[43m(\u001b[49m\u001b[38;5;241;43m*\u001b[39;49m\u001b[43margs\u001b[49m\u001b[43m,\u001b[49m\u001b[43m \u001b[49m\u001b[38;5;241;43m*\u001b[39;49m\u001b[38;5;241;43m*\u001b[39;49m\u001b[43mkwargs\u001b[49m\u001b[43m)\u001b[49m\n\u001b[1;32m   1502\u001b[0m \u001b[38;5;66;03m# Do not call functions when jit is used\u001b[39;00m\n\u001b[1;32m   1503\u001b[0m full_backward_hooks, non_full_backward_hooks \u001b[38;5;241m=\u001b[39m [], []\n",
      "File \u001b[0;32m~/.pyenv/versions/3.10.9/lib/python3.10/site-packages/sympytorch/sympy_module.py:160\u001b[0m, in \u001b[0;36m_Node.forward\u001b[0;34m(self, memodict)\u001b[0m\n\u001b[1;32m    158\u001b[0m     arg_ \u001b[38;5;241m=\u001b[39m memodict[arg]\n\u001b[1;32m    159\u001b[0m \u001b[38;5;28;01mexcept\u001b[39;00m \u001b[38;5;167;01mKeyError\u001b[39;00m:\n\u001b[0;32m--> 160\u001b[0m     arg_ \u001b[38;5;241m=\u001b[39m \u001b[43marg\u001b[49m\u001b[43m(\u001b[49m\u001b[43mmemodict\u001b[49m\u001b[43m)\u001b[49m\n\u001b[1;32m    161\u001b[0m     memodict[arg] \u001b[38;5;241m=\u001b[39m arg_\n\u001b[1;32m    162\u001b[0m args\u001b[38;5;241m.\u001b[39mappend(arg_)\n",
      "File \u001b[0;32m~/.pyenv/versions/3.10.9/lib/python3.10/site-packages/sympytorch/sympy_module.py:106\u001b[0m, in \u001b[0;36m_Node.__init__.<locals>.<lambda>\u001b[0;34m(memodict)\u001b[0m\n\u001b[1;32m    104\u001b[0m     \u001b[38;5;28mself\u001b[39m\u001b[38;5;241m.\u001b[39m_name \u001b[38;5;241m=\u001b[39m expr\u001b[38;5;241m.\u001b[39mname\n\u001b[1;32m    105\u001b[0m     \u001b[38;5;28mself\u001b[39m\u001b[38;5;241m.\u001b[39m_torch_func \u001b[38;5;241m=\u001b[39m \u001b[38;5;28;01mlambda\u001b[39;00m value: value\n\u001b[0;32m--> 106\u001b[0m     \u001b[38;5;28mself\u001b[39m\u001b[38;5;241m.\u001b[39m_args \u001b[38;5;241m=\u001b[39m ((\u001b[38;5;28;01mlambda\u001b[39;00m memodict: \u001b[43mmemodict\u001b[49m\u001b[43m[\u001b[49m\u001b[43mexpr\u001b[49m\u001b[38;5;241;43m.\u001b[39;49m\u001b[43mname\u001b[49m\u001b[43m]\u001b[49m),)\n\u001b[1;32m    107\u001b[0m \u001b[38;5;28;01melse\u001b[39;00m:\n\u001b[1;32m    108\u001b[0m     \u001b[38;5;28mself\u001b[39m\u001b[38;5;241m.\u001b[39m_torch_func \u001b[38;5;241m=\u001b[39m _func_lookup[expr\u001b[38;5;241m.\u001b[39mfunc]\n",
      "\u001b[0;31mKeyError\u001b[0m: 'a_ww'"
     ]
    }
   ],
   "source": [
    "num_samples = 2\n",
    "model_paths = [\"../../notebook/ensemble_eval_sa/SEIRHDS_ww.json\"]\n",
    "data_path = \"../../notebook/ensemble_eval_sa/ww_data3.csv\"\n",
    "weights = [1]\n",
    "solution_mappings = [{\"V\": \"V_load\"}]\n",
    "\n",
    "# Run the calibration and sampling\n",
    "result = load_and_calibrate_and_sample_ensemble_model(\n",
    "    model_paths,\n",
    "    data_path,\n",
    "    weights,\n",
    "    solution_mappings,\n",
    "    num_samples,\n",
    "    timepoints,\n",
    "    verbose=True,\n",
    "    num_iterations=200,\n",
    "    time_unit=\"days\",\n",
    "    visual_options={\"title\": \"Calibrated Ensemble\", \"subset\":\".*_sol\"}\n",
    ")\n",
    "\n",
    "# # Save results\n",
    "# result[\"data\"].to_csv(\n",
    "#     os.path.join(DEMO_PATH, \"results_petri_ensemble/calibrated_sample_results.csv\"), index=False\n",
    "# )\n",
    "# result[\"quantiles\"].to_csv(\n",
    "#     os.path.join(DEMO_PATH, \"results_petri_ensemble/calibrated_quantile_results.csv\"), index=False\n",
    "# )\n",
    "\n",
    "# Plot results\n",
    "schema = plots.trajectories(pd.DataFrame(result[\"data\"]), subset=\".*_sol\",\n",
    "                            points=test_data.reset_index(drop=True).rename(columns={\"V\":\"V_data\"}),\n",
    "                           )\n",
    "schema = plots.pad(schema, 5)\n",
    "plots.ipy_display(schema)"
   ]
  },
  {
   "cell_type": "code",
   "execution_count": null,
   "id": "07908bd3-0e32-4c06-92a7-eccfea7dceda",
   "metadata": {},
   "outputs": [],
   "source": [
    "model1 = \"../../notebook/ensemble_eval_sa/SEIRHDS_ww.json\"\n",
    "prior_samples = load_and_sample_petri_model(model1, num_samples, timepoints=timepoints, method=\"dopri5\",\n",
    "                                            visual_options={\"title\": \"3_base\", \"subset\":[\"I_sol\", \"E_sol\", \"V_sol\"]}, \n",
    "                                            time_unit=\"days\")"
   ]
  },
  {
   "cell_type": "code",
   "execution_count": null,
   "id": "7dfa97f7-48e6-4028-9dce-aa499bd9c3d0",
   "metadata": {},
   "outputs": [],
   "source": []
  },
  {
   "cell_type": "code",
   "execution_count": null,
   "id": "88bff7ee-095f-4aad-83e8-030264c1a9f6",
   "metadata": {},
   "outputs": [],
   "source": []
  },
  {
   "cell_type": "code",
   "execution_count": null,
   "id": "2e1a20d6-88f2-4154-83f5-6b83f1ca4506",
   "metadata": {},
   "outputs": [],
   "source": []
  }
 ],
 "metadata": {
  "kernelspec": {
   "display_name": "Python 3 (ipykernel)",
   "language": "python",
   "name": "python3"
  },
  "language_info": {
   "codemirror_mode": {
    "name": "ipython",
    "version": 3
   },
   "file_extension": ".py",
   "mimetype": "text/x-python",
   "name": "python",
   "nbconvert_exporter": "python",
   "pygments_lexer": "ipython3",
   "version": "3.10.9"
  }
 },
 "nbformat": 4,
 "nbformat_minor": 5
}
