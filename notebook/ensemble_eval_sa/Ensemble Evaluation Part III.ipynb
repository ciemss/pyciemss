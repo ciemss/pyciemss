{
 "cells": [
  {
   "cell_type": "markdown",
   "id": "68211931",
   "metadata": {},
   "source": [
    "# Ensemble Evaluation: Timepoint 3\n",
    "\n",
    "Location: New York State\n",
    "\n",
    "Timepoint 3: January 4, 2022. Setting: New York State coinciding with the arrival of the first Omicron wave. At-home testing widely available.\n",
    "\n",
    "For each timepoint, consider the following:\n",
    " - What is the most relevant data to use for model calibration?\n",
    " - What was our understanding of COVID-19 viral mechanisms at the time? For example, early in the pandemic, we didn't know if reinfection was a common occurance, or even possible.\n",
    " - What are the parameters related to contagiousness/transmissibility and severity of the dominant strain at the time?\n",
    " - What policies were in place for a stated location, and how can this information be incorporated into models?\n",
    "\n",
    "For each timepoint:\n",
    "\n",
    "1. (a) Take a single model, calibrate it using any historical data prior to the given date, and create a 4-week forecast for cases, hospitalizations, and deaths beginning on the given date. (b) Evaluate the forecast using the COVID-19 Forecasting Hub Error Metrics (WIS, MAE). The single model evaluation should be done in the same way as the ensemble.\n",
    "\n",
    "2. Repeat (1), but with an ensemble of different models.\n",
    "\n",
    "a. It is fine to calibrate each model independently and weight naively.\n",
    "\n",
    "b. It would also be fine to calibrate the ensemble as a whole, assigning weights to the different component models, so that you minimize the error of the ensemble vs. historical data.\n",
    "\n",
    "c. Use the calibration scores and error metrics computed by the CDC Forecasting Hub. As stated on their website:\n",
    "\n",
    "“Periodically, we evaluate the accuracy and precision of the ensemble forecast and component models over recent and historical forecasting periods. Models forecasting incident hospitalizations at a national and state level are evaluated using adjusted relative weighted interval scores (WIS, a measure of distributional accuracy), and adjusted relative mean absolute error (MAE), and calibration scores. Scores are evaluated across weeks, locations, and targets. You can read a paper explaining these procedures in more detail, and look at the most recent monthly evaluation reports. The final report that includes case and death forecast evaluations is 2023-03-13.”\n",
    "\n",
    "3. Produce the forecast outputs in the format specified by the CDC forecasting challenge, including the specified quantiles."
   ]
  },
  {
   "cell_type": "markdown",
   "id": "cfc39ca6-fb26-4d12-affd-7bc901ae3c0a",
   "metadata": {},
   "source": [
    "### Load dependencies"
   ]
  },
  {
   "cell_type": "code",
   "execution_count": 1,
   "id": "df082181",
   "metadata": {},
   "outputs": [],
   "source": [
    "import os\n",
    "import pandas as pd\n",
    "import numpy as np\n",
    "from pyciemss.Ensemble.interfaces import (\n",
    "    load_and_sample_petri_ensemble, load_and_calibrate_and_sample_ensemble_model\n",
    ")\n",
    "from pyciemss.PetriNetODE.interfaces import (\n",
    "    load_and_sample_petri_model,\n",
    "    load_and_calibrate_and_sample_petri_model,\n",
    "    load_and_optimize_and_sample_petri_model,\n",
    "    load_and_calibrate_and_optimize_and_sample_petri_model\n",
    ")\n",
    "from pyciemss.visuals import plots"
   ]
  },
  {
   "cell_type": "markdown",
   "id": "4d63a62a-6ac8-451f-a87b-6b85acb27ed6",
   "metadata": {},
   "source": [
    "## Get data"
   ]
  },
  {
   "cell_type": "code",
   "execution_count": 7,
   "id": "c10d89e9-b232-4116-9bfa-c6edba3cc89a",
   "metadata": {},
   "outputs": [],
   "source": [
    "url = 'https://raw.githubusercontent.com/DARPA-ASKEM/experiments/main/thin-thread-examples/milestone_12month/evaluation/ensemble_eval_SA/datasets/aabb3684-a7ea-4f60-98f1-a8e673ad6df5/dataset.csv'\n",
    "ny_data = pd.read_csv(url)\n",
    "\n",
    "# Grab test data for four-week forecast (01/04/2022 - 02/01/2022)\n",
    "test_data = ny_data[0:742].drop(columns=\"timestep\")\n",
    "\n",
    "# Select historical data up to Timepoint 3: 01/03/2022 (the first 714 rows)\n",
    "ny_data = ny_data[0:713]\n",
    "ny_data[[\"I\", \"H\", \"D\"]].to_csv(\"NY_data3.csv\")"
   ]
  },
  {
   "cell_type": "markdown",
   "id": "5ff64276-79a0-4c29-86bc-d0e1154957dd",
   "metadata": {},
   "source": [
    "## Select relevant models"
   ]
  },
  {
   "cell_type": "code",
   "execution_count": null,
   "id": "cd6e5c0b",
   "metadata": {},
   "outputs": [],
   "source": []
  },
  {
   "cell_type": "code",
   "execution_count": null,
   "id": "b7009199",
   "metadata": {},
   "outputs": [],
   "source": []
  }
 ],
 "metadata": {
  "kernelspec": {
   "display_name": "Python 3 (ipykernel)",
   "language": "python",
   "name": "python3"
  },
  "language_info": {
   "codemirror_mode": {
    "name": "ipython",
    "version": 3
   },
   "file_extension": ".py",
   "mimetype": "text/x-python",
   "name": "python",
   "nbconvert_exporter": "python",
   "pygments_lexer": "ipython3",
   "version": "3.10.9"
  }
 },
 "nbformat": 4,
 "nbformat_minor": 5
}
