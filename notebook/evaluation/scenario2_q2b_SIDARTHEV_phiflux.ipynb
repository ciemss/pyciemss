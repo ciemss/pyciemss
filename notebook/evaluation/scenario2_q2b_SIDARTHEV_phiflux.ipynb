{
 "cells": [
  {
   "cell_type": "code",
   "execution_count": 1,
   "id": "b087c52b-a505-45d3-b643-df44d8c924a5",
   "metadata": {},
   "outputs": [],
   "source": [
    "%load_ext autoreload\n",
    "%autoreload 2"
   ]
  },
  {
   "cell_type": "markdown",
   "id": "542b06c1-28fb-47ec-9a34-170acc7d2a84",
   "metadata": {},
   "source": [
    "# Load Dependencies"
   ]
  },
  {
   "cell_type": "code",
   "execution_count": 2,
   "id": "84e0bb12-68af-4a6d-a384-db4837c44ac0",
   "metadata": {},
   "outputs": [],
   "source": [
    "import matplotlib.pyplot as plt\n",
    "\n",
    "import torch\n",
    "\n",
    "import pyro\n",
    "import numpy as np\n",
    "import pyro.distributions as dist\n",
    "# from pyro.poutine import trace, replay, block\n",
    "# from pyro.infer.autoguide.guides import AutoDelta, AutoNormal\n",
    "# from pyro.infer import SVI, Trace_ELBO, Predictive\n",
    "\n",
    "import sys\n",
    "sys.path.append(\"../../src/\")\n",
    "\n",
    "from pyciemss.ODE.askem_primitives import sample, infer_parameters, intervene, optimization\n",
    "\n",
    "# from pyciemss.utils import run_inference, get_tspan\n",
    "from pyciemss.utils import get_tspan\n",
    "\n",
    "import warnings\n",
    "warnings.filterwarnings('ignore')"
   ]
  },
  {
   "cell_type": "markdown",
   "id": "4855961d-9c38-4050-b6b7-aaae03500fc9",
   "metadata": {},
   "source": [
    "# Plotting Utilities"
   ]
  },
  {
   "cell_type": "code",
   "execution_count": 3,
   "id": "260901d9",
   "metadata": {},
   "outputs": [],
   "source": [
    "def setup_ax(ax=None):\n",
    "\n",
    "    if not ax:\n",
    "        fig = plt.figure(facecolor='w', figsize=(9, 5))\n",
    "        ax = fig.add_subplot(111, axisbelow=True)\n",
    "\n",
    "    ax.set_xlabel('Time (days)')\n",
    "    ax.set_ylabel('Total infected')\n",
    "    return ax\n",
    "\n",
    "def plot_predictive(prediction, tspan, tmin=None, ax=None, alpha=0.2, color=\"black\", ptiles=[0.05,0.95], **kwargs):\n",
    "    vars = [\"I_total_obs\"]\n",
    "    #infection_total = sum([prediction[x].squeeze().detach().numpy()/1000. for x in ['I_obs', 'D_obs', 'A_obs', 'R_obs', 'T_obs']])\n",
    "\n",
    "    I_low = torch.quantile(prediction[\"I_total_obs\"], ptiles[0], dim=0).detach().numpy()\n",
    "    I_up = torch.quantile(prediction[\"I_total_obs\"], ptiles[1], dim=0).detach().numpy()\n",
    "\n",
    "    if tmin:\n",
    "        indeces = tspan >= tmin\n",
    "    else:\n",
    "        indeces = torch.ones_like(tspan).bool()\n",
    "\n",
    "    if not ax:\n",
    "        fig = plt.figure(facecolor='w')\n",
    "        ax = fig.add_subplot(111, facecolor='#dddddd', axisbelow=True)\n",
    "    \n",
    "    ax.fill_between(tspan[indeces], I_low[indeces], I_up[indeces], alpha=alpha, color=color, **kwargs)\n",
    "\n",
    "    legend = ax.legend()\n",
    "    legend.get_frame().set_alpha(0.5)\n",
    "\n",
    "    return ax\n",
    "\n",
    "def plot_trajectory(data, tspan, ax=None, color='black', alpha=0.5, lw=0, marker='.', label=None, ind=0):\n",
    "    # Plot the data on three separate curves for S(t), I(t) and R(t)\n",
    "    if len(data['I_total_obs'].squeeze().detach().numpy().shape)>1:\n",
    "        plot_data = data['I_total_obs'].squeeze().detach().numpy()[ind,:]\n",
    "    else:\n",
    "        plot_data = data['I_total_obs'].squeeze().detach().numpy()\n",
    "\n",
    "    if not ax:\n",
    "        fig = plt.figure(facecolor='w')\n",
    "        ax = fig.add_subplot(111, facecolor='#dddddd', axisbelow=True)\n",
    "    #infection_total = sum([data[x].squeeze().detach().numpy()/1000. for x in ['I_obs', 'D_obs', 'A_obs', 'R_obs', 'T_obs']])\n",
    "    ax.plot(tspan, plot_data, color, alpha=alpha, lw=lw, marker=marker, label=label)\n",
    "    \n",
    "    return ax\n",
    "\n",
    "def plot_intervention_line(t, ax=None):\n",
    "    if not ax:\n",
    "        fig = plt.figure(facecolor='w')\n",
    "        ax = fig.add_subplot(111, facecolor='#dddddd', axisbelow=True)\n",
    "\n",
    "    ylim = ax.get_ylim()\n",
    "\n",
    "    ax.vlines(t, min(ylim), max(ylim), color=\"grey\", ls='-')\n",
    "\n",
    "    return ax\n",
    "\n",
    "def sideaxis(ax):\n",
    "    ax.spines['top'].set_visible(False)\n",
    "    ax.spines['right'].set_visible(False)\n",
    "    return\n",
    "\n",
    "def sideaxishist(ax):\n",
    "    ax.spines['top'].set_visible(False)\n",
    "    ax.spines['right'].set_visible(False)\n",
    "    ax.spines['left'].set_visible(False)\n",
    "    # For y-axis\n",
    "    ax.yaxis.set_major_locator(ticker.NullLocator())\n",
    "    ax.tick_params(axis='x', labelsize=12)  # change fontsize for x-axis tick labels\n",
    "    # ax.xaxis.major.formatter._useMathText = True\n",
    "    return"
   ]
  },
  {
   "cell_type": "code",
   "execution_count": 4,
   "id": "f233104e-c29d-4e25-859f-2a328ec7892a",
   "metadata": {},
   "outputs": [],
   "source": [
    "def LogNormalPrior(mean, variance):\n",
    "    mu = torch.log(mean**2/torch.sqrt((mean**2 + variance)))\n",
    "    scale = torch.sqrt(torch.log(1 + variance/mean**2))\n",
    "    return dist.LogNormal(mu, scale)\n",
    "\n",
    "def LogNormalPrior_propVar(mean, cov=0.05):\n",
    "    variance = mean*cov    \n",
    "    return LogNormalPrior(mean, variance)"
   ]
  },
  {
   "cell_type": "markdown",
   "id": "3e0c3726-5ec0-475d-8305-f20b5d84e424",
   "metadata": {},
   "source": [
    "# Setup Parameters"
   ]
  },
  {
   "cell_type": "code",
   "execution_count": 5,
   "id": "16608500-97b5-4081-9e6b-b7c193c10285",
   "metadata": {},
   "outputs": [],
   "source": [
    "tspan = get_tspan(1, 100, 100)\n",
    "\n",
    "num_samples = 50\n",
    "\n",
    "# Total population, N.\n",
    "N = 1\n",
    "# Initial number of infected and recovered individuals, I0 and R0.\n",
    "I0, D0, A0, R0, T0, H0, E0, V0 = 200/60e6, 20/60e6, 1/60e6, 2/60e6, 0, 0, 0, 0\n",
    "\n",
    "# Everyone else, S0, is susceptible to infection initially.\n",
    "S0 = N - I0 - D0 - A0 - R0 - T0 - H0 - E0 - V0\n",
    "\n",
    "initial_state = tuple(torch.as_tensor(s) for s in  (S0, I0, D0, A0, R0, T0, H0, E0, V0))"
   ]
  },
  {
   "cell_type": "markdown",
   "id": "23fc9c9d-f8bc-4e95-a243-865690d3b43b",
   "metadata": {},
   "source": [
    "# Probabilistic Forecasting - Passing unit test 1\n",
    "There are two ‘unit tests’ we want to pass, to ensure that we understood and can reproduce the published model:\n",
    "\n",
    "## 1.a Unit Test \\#1:\n",
    "\n",
    "Set the initial values and parameters, as described in the Supplementary Methods section of the publication (pg. 9 of the pdf): \n",
    "\n",
    "1. Initial Values: \n",
    "* $I = 200/60e6$,\n",
    "* $D = 20/60e6$, \n",
    "* $A = 1/60e6$, \n",
    "* $R = 2/60e6$, \n",
    "* $T = 0$, \n",
    "* $H = 0$, \n",
    "* $E = 0$; \n",
    "* $S = 1 – I – D – A – R – T – H – E$. \n",
    "\n",
    "Let total population = 60e6.\n",
    "Parameters: $$\\alpha = 0.570, \\beta = \\delta  = 0.011, \\gamma = 0.456, \\epsilon = 0.171, \\theta = 0.371, \\zeta = \\eta = 0.125, \\mu = 0.017, \\nu = 0.027, \\tau = 0.01, \\lambda = \\rho = 0.034$$ and $$\\kappa = \\xi = \\sigma = 0.017$$."
   ]
  },
  {
   "cell_type": "markdown",
   "id": "f6228f01",
   "metadata": {},
   "source": [
    "### Deterministic forecasting"
   ]
  },
  {
   "cell_type": "code",
   "execution_count": 6,
   "id": "dbd7d430-325f-4f40-9b20-d8a0c0264f62",
   "metadata": {},
   "outputs": [],
   "source": [
    "from pyciemss.ODE.models import SIDARTHEV\n",
    "\n",
    "pyro.set_rng_seed(0)\n",
    "\n",
    "ode_model = SIDARTHEV(N=1,\n",
    "                 alpha_prior=dist.Delta(torch.tensor (0.570)) ,\n",
    "                 beta_prior=dist.Delta(torch.tensor (0.011)) ,\n",
    "                 gamma_prior=dist.Delta(torch.tensor (0.456)) ,\n",
    "                 delta_prior=dist.Delta(torch.tensor (0.011)) ,\n",
    "                 epsilon_prior=dist.Delta(torch.tensor (0.171)) ,\n",
    "                 lamb_prior =dist.Delta(torch.tensor (0.034)) ,\n",
    "                 zeta_prior=dist.Delta(torch.tensor (0.125)) ,\n",
    "                 eta_prior=dist.Delta(torch.tensor (0.125)) ,\n",
    "                 kappa_prior=dist.Delta(torch.tensor (0.017)) ,\n",
    "                 theta_prior=dist.Delta(torch.tensor (0.371)) ,\n",
    "                 rho_prior=dist.Delta(torch.tensor (0.034)) ,\n",
    "                 xi_prior=dist.Delta(torch.tensor (0.017)) ,\n",
    "                 sigma_prior=dist.Delta(torch.tensor (0.017)) ,\n",
    "                 mu_prior=dist.Delta(torch.tensor (0.017)) ,\n",
    "                 nu_prior=dist.Delta(torch.tensor (0.027)) ,\n",
    "                 tau2_prior=dist.Delta(torch.tensor (0.01)) ,\n",
    "                 phi_prior=dist.Delta(torch.tensor (0.)) )"
   ]
  },
  {
   "cell_type": "code",
   "execution_count": 7,
   "id": "31473cdd-9896-42ed-b487-36362c1c9744",
   "metadata": {
    "scrolled": false
   },
   "outputs": [],
   "source": [
    "single_prediction = sample(ode_model, 1, initial_state, tspan)"
   ]
  },
  {
   "cell_type": "code",
   "execution_count": 8,
   "id": "15f03c6f-d085-4f36-bc7a-312057d82758",
   "metadata": {},
   "outputs": [
    {
     "data": {
      "text/plain": [
       "<matplotlib.lines.Line2D at 0x7f279786c2b0>"
      ]
     },
     "execution_count": 8,
     "metadata": {},
     "output_type": "execute_result"
    },
    {
     "data": {
      "image/png": "[encoded data removed]",
      "text/plain": [
       "<Figure size 900x500 with 1 Axes>"
      ]
     },
     "metadata": {},
     "output_type": "display_data"
    }
   ],
   "source": [
    "ax = plot_trajectory(single_prediction, tspan, ax=setup_ax(), color=\"blue\", marker='', lw=1., label=\"Before Seeing Data - Single Forecast\")\n",
    "ax.axvline(47)"
   ]
  },
  {
   "cell_type": "markdown",
   "id": "7c9b53f3",
   "metadata": {},
   "source": [
    "### Probabilistic forecasting"
   ]
  },
  {
   "cell_type": "code",
   "execution_count": 9,
   "id": "a8cebc75-730c-43f8-9081-ba846098f669",
   "metadata": {},
   "outputs": [],
   "source": [
    "pyro.set_rng_seed(0)\n",
    "\n",
    "# var_prior = 0.05**2\n",
    "mean_values = np.array([])\n",
    "\n",
    "ode_model = SIDARTHEV(N=1,\n",
    "                 alpha_prior=LogNormalPrior_propVar(torch.tensor(0.570)) ,\n",
    "                 beta_prior=LogNormalPrior_propVar(torch.tensor(0.011)) ,\n",
    "                 gamma_prior=LogNormalPrior_propVar(torch.tensor(0.456)) ,\n",
    "                 delta_prior=LogNormalPrior_propVar(torch.tensor(0.011)) ,\n",
    "                 epsilon_prior=LogNormalPrior_propVar(torch.tensor(0.171)) ,\n",
    "                 lamb_prior =LogNormalPrior_propVar(torch.tensor(0.034)) ,\n",
    "                 zeta_prior=LogNormalPrior_propVar(torch.tensor(0.125)) ,\n",
    "                 eta_prior=LogNormalPrior_propVar(torch.tensor(0.125)) ,\n",
    "                 kappa_prior=LogNormalPrior_propVar(torch.tensor(0.017)) ,\n",
    "                 theta_prior=LogNormalPrior_propVar(torch.tensor(0.371)) ,\n",
    "                 rho_prior=LogNormalPrior_propVar(torch.tensor(0.034)) ,\n",
    "                 xi_prior=LogNormalPrior_propVar(torch.tensor(0.017)) ,\n",
    "                 sigma_prior=LogNormalPrior_propVar(torch.tensor(0.017)) ,\n",
    "                 mu_prior=LogNormalPrior_propVar(torch.tensor(0.017)) ,\n",
    "                 nu_prior=LogNormalPrior_propVar(torch.tensor(0.027)) ,\n",
    "                 tau2_prior=LogNormalPrior_propVar(torch.tensor(0.01)) ,\n",
    "                 phi_prior=dist.Delta(torch.tensor (0.)) )\n",
    "\n",
    "# interventions = {\"alpha\": SI_alpha_intervention,\n",
    "#                  \"beta\": SD_beta_intervention,\n",
    "#                  \"gamma\": SA_gamma_intervention,\n",
    "#                  \"delta\": SR_delta_intervention,\n",
    "#                  \"epsilon\": ID_epsilon_intervention,\n",
    "#                  \"lambda\": IH_lamb_intervention,\n",
    "#                  \"zeta\": IA_zeta_intervention,\n",
    "#                  \"eta\": DR_eta_intervention,\n",
    "#                  \"kappa\": AH_kappa_intervention,\n",
    "#                 # \"theta\": AR_theta_intervention,\n",
    "#                  \"rho\": DH_rho_intervention,\n",
    "#                  \"xi\": RH_xi_intervention,\n",
    "#                  \"sigma\": TH_sigma_intervention,\n",
    "#                  \"mu\": AT_mu_intervention,\n",
    "#                  \"nu\": RT_nu_intervention}"
   ]
  },
  {
   "cell_type": "code",
   "execution_count": 10,
   "id": "795ecb3a",
   "metadata": {},
   "outputs": [],
   "source": [
    "prior_prediction = sample(ode_model, num_samples, initial_state, tspan)"
   ]
  },
  {
   "cell_type": "code",
   "execution_count": 11,
   "id": "f62475f8",
   "metadata": {},
   "outputs": [
    {
     "data": {
      "image/png": "[encoded data removed]",
      "text/plain": [
       "<Figure size 900x500 with 1 Axes>"
      ]
     },
     "metadata": {},
     "output_type": "display_data"
    }
   ],
   "source": [
    "ax1 = plot_predictive(prior_prediction, tspan, ax=setup_ax(), label=\"probabilistic forecast\", color=\"red\")\n",
    "ax1.axvline(30)\n",
    "sideaxis(ax1)"
   ]
  },
  {
   "cell_type": "markdown",
   "id": "c65bcf10-9d12-4efe-be10-cc313e123d14",
   "metadata": {},
   "source": [
    "## 1.d Policies that prevent infections from exceeding 1/3 of the population\n",
    "\n",
    "Now return to the situation in b.i (constant parameters that don’t change over time). Let’s say we want to increase testing, diagnostics, and contact tracing efforts (implemented by increasing the detection parameters  and ). Assume that $\\theta \\ge 2\\epsilon$ , because a symptomatic person is more likely to be tested. What minimum constant values do these parameters need to be over the course of a 100-day simulation, to ensure that the total infected population (sum over all the infected states I, D, A, R, T) never rises above 1/3 of the total population?\n",
    "\n",
    "\n",
    "### Problem Formulation\n",
    "* **Quantity of interest**:  Total infections out of $N=60,000,000$ population\n",
    "$$I_{total}(t; \\mathbf{u}, \\mathbf{Z}) = I(t) + D(t) + A(t) + R(t) + T(t)$$\n",
    "\n",
    "A conservative estimate for the quantity of interest is\n",
    "$$M(u, Z) = \\max_{1\\leq t \\leq 100} I_{total}(t; \\mathbf{u}, \\mathbf{Z})/N$$\n",
    "\n",
    "\n",
    "\n",
    "\n",
    "* **Control**: $\\mathbf{u}\\in \\mathcal{U} \\subseteq \\mathbb{R}^{n_u}$\n",
    "    * Detection parameter for Infected ($\\epsilon$) assuming that $\\theta=2\\epsilon$\n",
    "    * Two detection parameters $\\theta, \\epsilon$, constraining $\\theta \\ge 2\\epsilon$.\n",
    "    \n",
    "\n",
    "\n",
    "* **Risk-based optimization under uncertainty problem formulation**\n",
    "    * Objective Function - Minimize the magnitude of the parameter interventions.\n",
    "    * Constraint - Risk of normalized total infections exceeding the prescribed threshold of $1/3$, $\\mathcal{R}( M(\\mathbf{u},\\mathbf{Z}))$, is below the acceptable risk threshold, $\\mathcal{R}_\\text{threshold}$.\n",
    "\n",
    "\\begin{equation} \n",
    "\\begin{split} \n",
    "\\mathbf{u}^*= \\underset{\\mathbf{u}\\in\\mathcal{U}}{\\arg\\min}\\ & \\lVert \\mathbf{u} \\rVert_1 \\\\ \\text{s.t.}\\ & \\mathcal{R}( M(\\mathbf{u}, \\theta)) \\le \\mathcal{R}_\\text{threshold} \n",
    "\\end{split} \n",
    "\\end{equation}\n",
    "\n",
    "#### Formulation 1: Optimize $u=\\{\\alpha, \\beta, \\gamma, \\delta\\}$\n",
    "\\begin{equation} \n",
    "\\begin{split} \n",
    "u^*= \\underset{\\epsilon\\in\\mathcal{U}}{\\arg\\min}\\ & u\\\\ \\text{s.t.}\\ & \\mathbb{P}( M(u, \\mathbf{Z}) \\ge 1/3) \\le 0.05\n",
    "\\end{split} \n",
    "\\end{equation}\n",
    "\n",
    "#### Formulation 2: Optimize $\\epsilon$ and $\\theta$ constraining $\\theta \\ge 2\\epsilon$\n",
    "\\begin{equation} \n",
    "\\begin{split} \n",
    "\\epsilon^\\ast, \\theta^\\ast= \\underset{\\{\\epsilon,\\theta\\}\\in\\mathcal{U}}{\\arg\\min}\\ & \\theta + \\epsilon \\\\ \\text{s.t.}\\ & \\mathbb{P}( M(\\epsilon,\\theta, \\mathbf{Z}) \\ge 1/3) \\le 0.05, \\\\\n",
    "& \\theta \\ge 2\\epsilon\n",
    "\\end{split} \n",
    "\\end{equation}\n",
    "\n",
    "Apart from probability of exceedance, we will explore quantiles and superquantiles as risk measures."
   ]
  },
  {
   "cell_type": "code",
   "execution_count": 12,
   "id": "97ab7988",
   "metadata": {},
   "outputs": [],
   "source": [
    "from causal_pyro.query.do_messenger import do\n",
    "import time\n",
    "import pickle\n",
    "\n",
    "import numpy as np\n",
    "from scipy import stats\n",
    "from matplotlib import ticker\n",
    "\n",
    "from pyciemss.ODE.interventions import parameter_intervention_builder, time_and_state_dependent_intervention_builder, time_dependent_intervention_builder\n",
    "from pyciemss.risk.risk_measures import alpha_quantile, alpha_superquantile\n",
    "from pyciemss.risk.ouu import computeRisk, solveOUU\n",
    "from pyciemss.risk.qoi import max_total_infections_SIDARTHE\n",
    "import scipy\n",
    "\n",
    "\n",
    "co = ['#377eb8', '#ff7f00', '#984ea3', '#ffd92f', '#a65628']\n",
    "rlabel = ['Q_alpha-based OUU', 'barQ_alpha-based OUU']"
   ]
  },
  {
   "cell_type": "code",
   "execution_count": 13,
   "id": "161b391b",
   "metadata": {},
   "outputs": [],
   "source": [
    "def delayed_intervention_controller(name, x, init_value):\n",
    "    def delayed_intervention(t, flux):\n",
    "        if t<30:\n",
    "            return flux\n",
    "        else:\n",
    "            return flux/init_value*x\n",
    "    return time_and_state_dependent_intervention_builder(name, delayed_intervention, tspan)  \n",
    "\n",
    "def delayed_intervention_controller_flux(name, x):\n",
    "    def delayed_intervention(t):\n",
    "        if t<15:\n",
    "            return torch.tensor(0.)\n",
    "        else:\n",
    "            return x\n",
    "    return time_dependent_intervention_builder(name, delayed_intervention, tspan) "
   ]
  },
  {
   "cell_type": "code",
   "execution_count": 14,
   "id": "12a672fa",
   "metadata": {},
   "outputs": [],
   "source": [
    "# # Control action / intervention.\n",
    "# phi_init = torch.tensor(0.)\n",
    "# param_intervention = parameter_intervention_builder(\"phi\", phi_init)\n",
    "# control_model = intervene(ode_model,param_intervention)\n",
    "\n",
    "# # Control action / intervention.\n",
    "# alpha_init = torch.tensor(0.57)\n",
    "# param_intervention = parameter_intervention_builder(\"alpha\", alpha_init)\n",
    "# control_model = intervene(ode_model,param_intervention)\n",
    "control_model = ode_model\n",
    "\n",
    "# # intervened_tspan = tspan[torch.where(tspan > 30, True, False)]\n",
    "# INTERVENTION = lambda x: delayed_intervention_controller(\"SV_flux\", torch.from_numpy(np.array([x])), phi_init)\n",
    "\n",
    "INTERVENTION = lambda x: delayed_intervention_controller_flux(\"SV_flux\", torch.from_numpy(np.array([x])))"
   ]
  },
  {
   "cell_type": "markdown",
   "id": "5fb87509",
   "metadata": {},
   "source": [
    "## Exploring the intervention and difference between Quantiles and Superquantiles"
   ]
  },
  {
   "cell_type": "code",
   "execution_count": 15,
   "id": "35ebe5d7",
   "metadata": {
    "scrolled": false
   },
   "outputs": [
    {
     "name": "stdout",
     "output_type": "stream",
     "text": [
      "Forward UQ took 9.23 seconds total (1.85e-01 seconds per model evaluation).\n",
      "0.09005817361176013 0.37220816537737816\n"
     ]
    }
   ],
   "source": [
    "pyro.set_rng_seed(0)\n",
    "\n",
    "POLICY = np.array([0.05])\n",
    "N_SAMPLES = 50\n",
    "\n",
    "RISK = computeRisk(model=control_model,\n",
    "                 intervention_fun=INTERVENTION,\n",
    "                 qoi=lambda y: max_total_infections_SIDARTHE(y, contexts=[\"I_total_obs\"]),\n",
    "                 risk_measure=alpha_superquantile,\n",
    "                 num_samples=N_SAMPLES,\n",
    "                 model_state=initial_state,\n",
    "                 tspan=tspan,\n",
    "                 guide=None)\n",
    "\n",
    "start_time = time.time()\n",
    "sq_dataCube = RISK.propagate_uncertainty(POLICY)\n",
    "end_time = time.time()\n",
    "forward_time = end_time - start_time\n",
    "time_per_eval = forward_time / N_SAMPLES\n",
    "print(f\"Forward UQ took {forward_time:.2f} seconds total ({forward_time/N_SAMPLES:.2e} seconds per model evaluation).\")\n",
    "sq_qoi = RISK.qoi(sq_dataCube)\n",
    "sq_sv = RISK.risk_measure(sq_qoi)\n",
    "\n",
    "RISK.risk_measure = alpha_quantile\n",
    "q_sv = RISK(POLICY)\n",
    "print(q_sv, sq_sv)"
   ]
  },
  {
   "cell_type": "code",
   "execution_count": 16,
   "id": "b74d9c82",
   "metadata": {},
   "outputs": [
    {
     "name": "stderr",
     "output_type": "stream",
     "text": [
      "No artists with labels found to put in legend.  Note that artists whose label start with an underscore are ignored when legend() is called with no argument.\n"
     ]
    },
    {
     "data": {
      "image/png": "[encoded data removed]",
      "text/plain": [
       "<Figure size 900x500 with 1 Axes>"
      ]
     },
     "metadata": {},
     "output_type": "display_data"
    }
   ],
   "source": [
    "ax = setup_ax()\n",
    "ax = plot_predictive(sq_dataCube, tspan, ax=ax, color=co[1])\n",
    "ax.axvline(15)\n",
    "sideaxis(ax)"
   ]
  },
  {
   "cell_type": "code",
   "execution_count": 17,
   "id": "7fc330e1",
   "metadata": {},
   "outputs": [
    {
     "data": {
      "text/plain": [
       "<matplotlib.legend.Legend at 0x7f2795c70cd0>"
      ]
     },
     "execution_count": 17,
     "metadata": {},
     "output_type": "execute_result"
    },
    {
     "data": {
      "image/png": "[encoded data removed]",
      "text/plain": [
       "<Figure size 640x480 with 1 Axes>"
      ]
     },
     "metadata": {},
     "output_type": "display_data"
    }
   ],
   "source": [
    "bins_hist = 50\n",
    "fig1 = plt.figure()\n",
    "plt.rc('text', usetex=False)\n",
    "plt.rc('font', family='serif', size=18.)\n",
    "cax = plt.gca()\n",
    "sideaxishist(cax)\n",
    "cax.hist(sq_qoi, color=co[2], bins=bins_hist, histtype='stepfilled', alpha=0.5, label='total infections')\n",
    "miny = min(cax.get_ylim())\n",
    "maxy = max(cax.get_ylim())\n",
    "cax.vlines(q_sv, miny, maxy, linestyle='--', linewidth=2.5, label='alpha-quantile', color=co[0])\n",
    "cax.vlines(sq_sv, miny, maxy, linestyle='--', linewidth=2.5, label='alpha-superquantile', color=co[1])\n",
    "cax.set_xlabel('Maximum total infections over 100 days', size=14)\n",
    "cax.legend(loc='upper right', prop={'size': 14})"
   ]
  },
  {
   "cell_type": "markdown",
   "id": "2a4005a9",
   "metadata": {},
   "source": [
    "## Risk-based optimization under uncertainty with intervention on vaccination rate flux\n",
    "**NOTE:** This is a demonstration of the interface, optimization is not run to convergence nor are enough samples generated to accurately estimate the risk, so take the results with a grain of salt."
   ]
  },
  {
   "cell_type": "code",
   "execution_count": 18,
   "id": "ba6b2d82",
   "metadata": {},
   "outputs": [],
   "source": [
    "# Define problem specifics.\n",
    "RISK_BOUND = 1./3.\n",
    "RISK_ALPHA = 0.95\n",
    "X_MIN = 0.\n",
    "X_MAX = 2.\n",
    "N_SAMPLES = int(5e2)\n",
    "MAXITER = 0\n",
    "MAXFEVAL = 30\n",
    "\n",
    "INIT_GUESS = 0.05\n",
    "\n",
    "# Objective function.\n",
    "OBJFUN = lambda x: x  # minimize the scalar value itself.\n",
    "\n",
    "# Define the risk measure.\n",
    "RISK = computeRisk(\n",
    "                    model=control_model,\n",
    "                    intervention_fun=INTERVENTION,\n",
    "                    qoi=lambda y: max_total_infections_SIDARTHE(y, contexts=[\"I_total_obs\"]),\n",
    "                    model_state=initial_state,\n",
    "                    tspan=tspan,\n",
    "                    risk_measure=lambda z: alpha_superquantile(z, alpha=RISK_ALPHA),\n",
    "                    num_samples=N_SAMPLES,\n",
    "                    guide=None,\n",
    "                    )\n",
    "\n",
    "# Define problem constraints.\n",
    "CONSTRAINTS = (\n",
    "                # risk constraint\n",
    "                {'type': 'ineq', 'fun': lambda x: RISK_BOUND - RISK(x)},\n",
    "\n",
    "                # bounds on control\n",
    "                # NOTE: perhaps use scipy.optimize.LinearConstraint in the future\n",
    "                {'type': 'ineq', 'fun': lambda x: x - X_MIN},\n",
    "                {'type': 'ineq', 'fun': lambda x: X_MAX - x}\n",
    "               )"
   ]
  },
  {
   "cell_type": "code",
   "execution_count": null,
   "id": "13a9803a",
   "metadata": {
    "scrolled": false
   },
   "outputs": [
    {
     "name": "stdout",
     "output_type": "stream",
     "text": [
      "Performing risk-based optimization under uncertainty (using alpha-superquantile)...\n",
      "Estimated wait time 2768.5 seconds.\n"
     ]
    }
   ],
   "source": [
    "print(\"Performing risk-based optimization under uncertainty (using alpha-superquantile)...\")\n",
    "print(f\"Estimated wait time {time_per_eval*N_SAMPLES*(MAXITER+1)*MAXFEVAL:.1f} seconds.\")\n",
    "start_time = time.time()\n",
    "sq_result_1 = solveOUU(\n",
    "                     x0=INIT_GUESS,\n",
    "                     objfun=OBJFUN,\n",
    "                     constraints=CONSTRAINTS,\n",
    "                     maxiter=MAXITER,\n",
    "                     maxfeval=MAXFEVAL,\n",
    "                    ).solve()\n",
    "print(f\"Optimization completed in time {time.time()-start_time:.2f} seconds. Optimal solution:\\t{sq_result_1.x}\")"
   ]
  },
  {
   "cell_type": "markdown",
   "id": "abfeda8c",
   "metadata": {},
   "source": [
    "## Assess the effect of the control policy."
   ]
  },
  {
   "cell_type": "code",
   "execution_count": null,
   "id": "99166bc3",
   "metadata": {},
   "outputs": [],
   "source": [
    "RISK.num_samples = int(5e2)\n",
    "sq_optimal_prediction = RISK.propagate_uncertainty(sq_result_1.x)\n",
    "qois_sq = RISK.qoi(sq_optimal_prediction)"
   ]
  },
  {
   "cell_type": "code",
   "execution_count": null,
   "id": "60c9d1a9",
   "metadata": {
    "scrolled": false
   },
   "outputs": [],
   "source": [
    "sq_est = RISK.risk_measure(qois_sq)\n",
    "print('Estimated risk at optimal policy', sq_est)"
   ]
  },
  {
   "cell_type": "code",
   "execution_count": null,
   "id": "c92e52b7",
   "metadata": {
    "scrolled": false
   },
   "outputs": [],
   "source": [
    "ax = setup_ax()\n",
    "# print(sq_optimal_prediction.shape)\n",
    "ax = plot_predictive(sq_optimal_prediction, tspan, ax=ax, color=co[2], ptiles=[0.05,0.95])\n",
    "plt.title(\"Optimal vaccination rate flux intervention with risk-based OUU\", size=14)\n",
    "sideaxis(ax)"
   ]
  },
  {
   "cell_type": "code",
   "execution_count": null,
   "id": "13bf129e",
   "metadata": {},
   "outputs": [],
   "source": [
    "bins_hist = 50\n",
    "fig1 = plt.figure()\n",
    "plt.rc('font', family='serif', size=14.)\n",
    "cax = plt.gca()\n",
    "sideaxishist(cax)\n",
    "cax.hist(qois_sq, color=co[4], bins=bins_hist, histtype='stepfilled', alpha=0.5, density=True)\n",
    "miny = min(cax.get_ylim())\n",
    "maxy = max(cax.get_ylim())\n",
    "cax.set_xlabel('Maximum total infections over 100 days', size=14)"
   ]
  },
  {
   "cell_type": "code",
   "execution_count": null,
   "id": "4ac0e2cf",
   "metadata": {},
   "outputs": [],
   "source": []
  }
 ],
 "metadata": {
  "kernelspec": {
   "display_name": "Python 3 (ipykernel)",
   "language": "python",
   "name": "python3"
  },
  "language_info": {
   "codemirror_mode": {
    "name": "ipython",
    "version": 3
   },
   "file_extension": ".py",
   "mimetype": "text/x-python",
   "name": "python",
   "nbconvert_exporter": "python",
   "pygments_lexer": "ipython3",
   "version": "3.9.7"
  },
  "vscode": {
   "interpreter": {
    "hash": "a3e1d8fdda916c248c87d86618e3945b28961cf939001a0529e724463670a41a"
   }
  }
 },
 "nbformat": 4,
 "nbformat_minor": 5
}
