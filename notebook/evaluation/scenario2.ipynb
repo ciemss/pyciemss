{
 "cells": [
  {
   "cell_type": "code",
   "execution_count": 1,
   "id": "b087c52b-a505-45d3-b643-df44d8c924a5",
   "metadata": {},
   "outputs": [],
   "source": [
    "%load_ext autoreload\n",
    "%autoreload 2"
   ]
  },
  {
   "cell_type": "markdown",
   "id": "542b06c1-28fb-47ec-9a34-170acc7d2a84",
   "metadata": {},
   "source": [
    "# Load Dependencies"
   ]
  },
  {
   "cell_type": "code",
   "execution_count": 2,
   "id": "84e0bb12-68af-4a6d-a384-db4837c44ac0",
   "metadata": {},
   "outputs": [
    {
     "name": "stderr",
     "output_type": "stream",
     "text": [
      "/Users/zuck016/.pyenv/versions/jz-scenario2-eval/lib/python3.10/site-packages/tqdm/auto.py:22: TqdmWarning: IProgress not found. Please update jupyter and ipywidgets. See https://ipywidgets.readthedocs.io/en/stable/user_install.html\n",
      "  from .autonotebook import tqdm as notebook_tqdm\n"
     ]
    }
   ],
   "source": [
    "import matplotlib.pyplot as plt\n",
    "\n",
    "import torch\n",
    "\n",
    "import pyro\n",
    "import numpy as np\n",
    "import pyro.distributions as dist\n",
    "# from pyro.poutine import trace, replay, block\n",
    "# from pyro.infer.autoguide.guides import AutoDelta, AutoNormal\n",
    "# from pyro.infer import SVI, Trace_ELBO, Predictive\n",
    "\n",
    "from pyciemss.ODE.askem_primitives import sample, infer_parameters, intervene, optimization\n",
    "from pyciemss.ODE.base import get_name\n",
    "from pyciemss.ODE.interventions import time_and_state_dependent_intervention_builder\n",
    "# import sys\n",
    "# sys.path.append(\"../\")\n",
    "\n",
    "#\n",
    "from pyciemss.utils import get_tspan\n",
    "\n",
    "import warnings\n",
    "warnings.filterwarnings('ignore')"
   ]
  },
  {
   "cell_type": "markdown",
   "id": "4855961d-9c38-4050-b6b7-aaae03500fc9",
   "metadata": {},
   "source": [
    "# Plotting Utilities"
   ]
  },
  {
   "cell_type": "code",
   "execution_count": 3,
   "id": "f233104e-c29d-4e25-859f-2a328ec7892a",
   "metadata": {},
   "outputs": [],
   "source": [
    "def setup_ax(ax=None):\n",
    "\n",
    "    if not ax:\n",
    "        fig = plt.figure(facecolor='w', figsize=(9, 9))\n",
    "        ax = fig.add_subplot(111, axisbelow=True)\n",
    "\n",
    "    ax.set_xlabel('Time /days')\n",
    "    ax.set_ylabel('Infected ')\n",
    "    return ax\n",
    "\n",
    "def plot_predictive(prediction, tspan, tmin=None, ax=None, alpha=0.2, color=\"black\", **kwargs):\n",
    "    vars = [\"I_total_obs\"]\n",
    "    #infection_total = sum([prediction[x].squeeze().detach().numpy()/1000. for x in ['I_obs', 'D_obs', 'A_obs', 'R_obs', 'T_obs']])\n",
    "\n",
    "    I_low = torch.quantile(prediction[\"I_total_obs\"], 0.05, dim=0).detach().numpy()\n",
    "    I_up = torch.quantile(prediction[\"I_total_obs\"], 0.95, dim=0).detach().numpy()\n",
    "\n",
    "    if tmin:\n",
    "        indeces = tspan >= tmin\n",
    "    else:\n",
    "        indeces = torch.ones_like(tspan).bool()\n",
    "\n",
    "    if not ax:\n",
    "        fig = plt.figure(facecolor='w')\n",
    "        ax = fig.add_subplot(111, facecolor='#dddddd', axisbelow=True)\n",
    "    \n",
    "    ax.fill_between(tspan[indeces], I_low[indeces], I_up[indeces], alpha=alpha, color=color, **kwargs)\n",
    "\n",
    "    legend = ax.legend()\n",
    "    legend.get_frame().set_alpha(0.5)\n",
    "\n",
    "    return ax\n",
    "\n",
    "def plot_trajectory(data, tspan, ax=None, color='black', alpha=0.5, lw=0, marker='.', label=None, observation='I_total_obs'):\n",
    "    # Plot the data on three separate curves for S(t), I(t) and R(t)\n",
    "\n",
    "    if not ax:\n",
    "        fig = plt.figure(facecolor='w')\n",
    "        ax = fig.add_subplot(111, facecolor='#dddddd', axisbelow=True)\n",
    "    #infection_total = sum([data[x].squeeze().detach().numpy()/1000. for x in ['I_obs', 'D_obs', 'A_obs', 'R_obs', 'T_obs']])\n",
    "    ax.plot(tspan, data[observation].squeeze().detach().numpy(), color, alpha=alpha, lw=lw, marker=marker, label=label)\n",
    "    \n",
    "    return ax\n",
    "\n",
    "def plot_intervention_line(t, ax=None):\n",
    "    if not ax:\n",
    "        fig = plt.figure(facecolor='w')\n",
    "        ax = fig.add_subplot(111, facecolor='#dddddd', axisbelow=True)\n",
    "\n",
    "    ylim = ax.get_ylim()\n",
    "\n",
    "    ax.vlines(t, min(ylim), max(ylim), color=\"grey\", ls='-')\n",
    "\n",
    "    return ax"
   ]
  },
  {
   "cell_type": "markdown",
   "id": "3e0c3726-5ec0-475d-8305-f20b5d84e424",
   "metadata": {},
   "source": [
    "# Setup Parameters\n",
    "\n",
    "![SIDARTHE](../img/SIDARTHE.png)"
   ]
  },
  {
   "cell_type": "code",
   "execution_count": 4,
   "id": "16608500-97b5-4081-9e6b-b7c193c10285",
   "metadata": {},
   "outputs": [],
   "source": [
    "full_tspan = get_tspan(1, 100, 1000)\n",
    "\n",
    "num_samples = 500\n",
    "\n",
    "# Total population, N.\n",
    "N = 1\n",
    "# Initial number of infected and recovered individuals, I0 and R0.\n",
    "I0, D0, A0, R0, T0, H0, E0 = 200./60e6, 20./60e6, 1./60e6, 2./60e6, 0, 0, 0\n",
    "\n",
    "# Everyone else, S0, is susceptible to infection initially.\n",
    "\n",
    "S0 = N - I0 - D0 - A0 - R0 - T0 - H0 - E0\n",
    "\n",
    "\n",
    "#I_obs = torch.tensor([81.47, 84.3, 86.44, 89.66, 93.32, 94.1, 96.31])\n",
    "\n",
    "initial_state = tuple(torch.as_tensor(s) for s in  (S0, I0, D0, A0, R0, T0, H0, E0))\n",
    "final_observed_state = tuple(torch.as_tensor(s) for s in  (S0, I0, D0, A0, R0, T0, H0, E0))"
   ]
  },
  {
   "cell_type": "markdown",
   "id": "23fc9c9d-f8bc-4e95-a243-865690d3b43b",
   "metadata": {},
   "source": [
    "# Probabilistic Forecasting - Passing unit test 1\n",
    "There are two ‘unit tests’ we want to pass, to ensure that we understood and can reproduce the published model:\n",
    "\n",
    "## 1.a Unit Test \\#1:\n",
    "\n",
    "Set the initial values and parameters, as described in the Supplementary Methods section of the publication (pg. 9 of the pdf): \n",
    "\n",
    "### 1.a.1 Initial Values: \n",
    "* $I = 200/60e6$,\n",
    "* $D = 20/60e6$, \n",
    "* $A = 1/60e6$, \n",
    "* $R = 2/60e6$, \n",
    "* $T = 0$, \n",
    "* $H = 0$, \n",
    "* $E = 0$; \n",
    "* $S = 1 – I – D – A – R – T – H – E$. \n",
    "\n",
    "Let total population = 60e6.\n",
    "\n",
    "\n",
    "### 1.a.2 Parameters: \n",
    "\n",
    "$$\\alpha = 0.570, \\beta = \\delta  = 0.011, \\gamma = 0.456, \\epsilon = 0.171, \\theta = 0.371, \\zeta = \\eta = 0.125, \\mu = 0.017, \\nu = 0.027, \\tau = 0.01, \\lambda = \\rho = 0.034$$ and $$\\kappa = \\xi = \\sigma = 0.017$$."
   ]
  },
  {
   "cell_type": "markdown",
   "id": "2ebe2162-f586-48c6-a4b1-233c9895721c",
   "metadata": {},
   "source": [
    "### 1.a.3 Time of peak total infections\n",
    "\n",
    "Simulate for 100 days, and determine the day and level of peak total infections (sum over all the infected states I, D, A, R, T). Expected output: The peak should occur around day 47, when ~60% of the population is infected.\n"
   ]
  },
  {
   "cell_type": "code",
   "execution_count": 5,
   "id": "dbd7d430-325f-4f40-9b20-d8a0c0264f62",
   "metadata": {},
   "outputs": [],
   "source": [
    "from pyciemss.ODE.models import SIDARTHE\n",
    "\n",
    "pyro.set_rng_seed(0)\n",
    "\n",
    "# ode_model = SIDARTHE(N=1,\n",
    "#                  alpha_prior=dist.Delta(torch.tensor (0.570)) ,\n",
    "#                  beta_prior=dist.Delta(torch.tensor (0.011)) ,\n",
    "#                  gamma_prior=dist.Delta(torch.tensor (0.456)) ,\n",
    "#                  delta_prior=dist.Delta(torch.tensor (0.011)) ,\n",
    "#                  epsilon_prior=dist.Delta(torch.tensor (0.171)) ,\n",
    "#                  lamb_prior =dist.Delta(torch.tensor (0.034)) ,\n",
    "#                  zeta_prior=dist.Delta(torch.tensor (0.125)) ,\n",
    "#                  eta_prior=dist.Delta(torch.tensor (0.125)) ,\n",
    "#                  kappa_prior=dist.Delta(torch.tensor (0.017)) ,\n",
    "#                  theta_prior=dist.Delta(torch.tensor (0.371)) ,\n",
    "#                  rho_prior=dist.Delta(torch.tensor (0.034)) ,\n",
    "#                  xi_prior=dist.Delta(torch.tensor (0.017)) ,\n",
    "#                  sigma_prior=dist.Delta(torch.tensor (0.017)) ,\n",
    "#                  mu_prior=dist.Delta(torch.tensor (0.017)) ,\n",
    "#                  nu_prior=dist.Delta(torch.tensor (0.027)) ,\n",
    "#                  tau_prior=dist.Delta(torch.tensor (0.01)) )"
   ]
  },
  {
   "cell_type": "code",
   "execution_count": 6,
   "id": "9475b4c7-27b4-47e7-be57-539ff040ea1e",
   "metadata": {},
   "outputs": [
    {
     "data": {
      "text/plain": [
       "{'beta': <mira.modeling.Transition at 0x13c32f5e0>,\n",
       " 'gamma': <mira.modeling.Transition at 0x13c32e830>,\n",
       " 'delta': <mira.modeling.Transition at 0x13c32e230>,\n",
       " 'alpha': <mira.modeling.Transition at 0x13c32e410>,\n",
       " 'epsilon': <mira.modeling.Transition at 0x13c32d8a0>,\n",
       " 'zeta': <mira.modeling.Transition at 0x13c32c880>,\n",
       " 'lambda': <mira.modeling.Transition at 0x13c32c430>,\n",
       " 'eta': <mira.modeling.Transition at 0x13c32ebf0>,\n",
       " 'rho': <mira.modeling.Transition at 0x13c32f1f0>,\n",
       " 'theta': <mira.modeling.Transition at 0x13c32ded0>,\n",
       " 'kappa': <mira.modeling.Transition at 0x13c32c190>,\n",
       " 'mu': <mira.modeling.Transition at 0x13c32c040>,\n",
       " 'nu': <mira.modeling.Transition at 0x13c32cd60>,\n",
       " 'xi': <mira.modeling.Transition at 0x13c32d7b0>,\n",
       " 'tau': <mira.modeling.Transition at 0x13c32eef0>,\n",
       " 'sigma': <mira.modeling.Transition at 0x13c313160>}"
      ]
     },
     "execution_count": 6,
     "metadata": {},
     "output_type": "execute_result"
    }
   ],
   "source": [
    "from pyciemss.ODE.models import MIRA_SIDARTHE\n",
    "from pathlib import Path\n",
    "import os\n",
    "MODELPATH = '../../test/models/evaluation_examples/scenario_2/'\n",
    "\n",
    "SIDARTHEPATH = 'scenario2_sidarthe.json'\n",
    "plotting_ode_model = MIRA_SIDARTHE.from_mira(os.path.join(MODELPATH,SIDARTHEPATH))\n",
    "param2transition = {\n",
    "    trans.rate.key: trans\n",
    "    for trans in plotting_ode_model.G.transitions.values()\n",
    "}\n",
    "param2transition"
   ]
  },
  {
   "cell_type": "code",
   "execution_count": 7,
   "id": "30b811eb-83a8-4555-85ab-f9be7a987143",
   "metadata": {},
   "outputs": [
    {
     "data": {
      "text/plain": [
       "OrderedDict([('Ailing', <mira.modeling.Variable at 0x13c32d060>),\n",
       "             ('Diagnosed', <mira.modeling.Variable at 0x13c32e110>),\n",
       "             ('Extinct', <mira.modeling.Variable at 0x13c32ce50>),\n",
       "             ('Healed', <mira.modeling.Variable at 0x13c32ca30>),\n",
       "             ('Infected', <mira.modeling.Variable at 0x13c32f0d0>),\n",
       "             ('Recognized', <mira.modeling.Variable at 0x13c32f820>),\n",
       "             ('Susceptible', <mira.modeling.Variable at 0x13c32d090>),\n",
       "             ('Threatened', <mira.modeling.Variable at 0x13c32c160>)])"
      ]
     },
     "execution_count": 7,
     "metadata": {},
     "output_type": "execute_result"
    }
   ],
   "source": [
    "plotting_ode_model.var_order"
   ]
  },
  {
   "cell_type": "code",
   "execution_count": 8,
   "id": "d8967995-5cc5-46ad-858d-6446359a0869",
   "metadata": {},
   "outputs": [
    {
     "data": {
      "text/plain": [
       "(tensor(1.6667e-08),\n",
       " tensor(3.3333e-07),\n",
       " tensor(0.),\n",
       " tensor(0.),\n",
       " tensor(3.3333e-06),\n",
       " tensor(3.3333e-08),\n",
       " tensor(1.0000),\n",
       " tensor(0.))"
      ]
     },
     "execution_count": 8,
     "metadata": {},
     "output_type": "execute_result"
    }
   ],
   "source": [
    "initial_state = tuple(torch.as_tensor(v.data['initial_value'])\n",
    "                      if v.data['initial_value'] is not None else torch.as_tensor(0.)\n",
    "                      for v in plotting_ode_model.var_order.values())\n",
    "initial_state"
   ]
  },
  {
   "cell_type": "code",
   "execution_count": 9,
   "id": "31473cdd-9896-42ed-b487-36362c1c9744",
   "metadata": {
    "tags": []
   },
   "outputs": [],
   "source": [
    "#prior_prediction = sample(plotting_ode_model, num_samples, initial_state, full_tspan)\n",
    "single_prediction = sample(plotting_ode_model, 1, initial_state, full_tspan)"
   ]
  },
  {
   "cell_type": "markdown",
   "id": "0f212306-ed0d-42b1-9aa9-1a3f7af5bed5",
   "metadata": {},
   "source": [
    "### Day of peak infection\n",
    "\n",
    "Simulate for 100 days, and determine the day and level of peak total infections (sum over all the infected states I, D, A, R, T). Expected output: The peak should occur around day 47, when ~60% of the population is infected.\n"
   ]
  },
  {
   "cell_type": "code",
   "execution_count": 10,
   "id": "15f03c6f-d085-4f36-bc7a-312057d82758",
   "metadata": {},
   "outputs": [
    {
     "data": {
      "text/plain": [
       "<matplotlib.lines.Line2D at 0x13f41b2e0>"
      ]
     },
     "execution_count": 10,
     "metadata": {},
     "output_type": "execute_result"
    },
    {
     "data": {
      "image/png": "[encoded data removed]",
      "text/plain": [
       "<Figure size 900x900 with 1 Axes>"
      ]
     },
     "metadata": {},
     "output_type": "display_data"
    }
   ],
   "source": [
    "#single_prediction = sample(plotting_ode_model, 1, initial_state, full_tspan)\n",
    "ax = plot_trajectory(single_prediction, full_tspan, ax=setup_ax(), color=\"blue\", marker='', lw=1., label=\"Before Seeing Data - Single Forecast\",\n",
    "                    observation='obs_total_infections')\n",
    "#ax = plot_predictive(prior_prediction, full_tspan, ax=ax, label=\"Before Seeing Data - Probabilistic Forecast\", color=\"red\")\n",
    "ax.axvline(47)\n"
   ]
  },
  {
   "cell_type": "markdown",
   "id": "d17abb80-e619-4810-b9dd-f76a4c252ef7",
   "metadata": {},
   "source": [
    "## 1.b Unit Test \\#2: \n",
    "\n",
    "Now update the parameters to reflect various interventions that Italy implemented during the first wave, as described in detail on pg. 9.  Simulate for 100 days, reproduce the trajectories in Fig. 2B, and determine the day and level of peak total infections (sum over all the infected states I, D, A, R, T). Expected output: Trajectories in Fig. 2B, peak occurs around day 50, with ~0.2% of the total population infected."
   ]
  },
  {
   "cell_type": "markdown",
   "id": "11148b1b-3e9e-4190-a90b-c1dc6291fa2f",
   "metadata": {},
   "source": [
    "### Day 4 social distancing\n",
    "\n",
    "After day 4, as a consequence of basic social-distancing measures due to the public being aware of the epidemic outbreak and due to recommendations (such  as washing hands often, not touching one’s face, avoiding handshakes and keeping  distance) and early measures (such as closing schools) by the Italian government,  we set $\\alpha= 0.422, \\beta = \\delta = 0.0057$  and $\\gamma = 0.285$, so the new basic reproduction number becomes $R_0 = 1.66$.\n",
    "\n"
   ]
  },
  {
   "cell_type": "code",
   "execution_count": 11,
   "id": "3fd41fe4-57d7-4fe1-be7c-6deb93210584",
   "metadata": {},
   "outputs": [],
   "source": [
    "def SI_alpha_intervention(t, flux):\n",
    "    alpha = 0.570\n",
    "    if t < 4:\n",
    "        return flux\n",
    "    elif t < 22:\n",
    "        return flux/alpha * 0.422\n",
    "    elif t < 28:\n",
    "        return flux/alpha* 0.360\n",
    "    else:\n",
    "        return flux/alpha*0.210\n",
    "    \n",
    "def SD_beta_intervention(t, flux):\n",
    "    beta = 0.011\n",
    "    if t < 4:\n",
    "        return flux\n",
    "    elif t < 22:\n",
    "        return flux/beta * 0.0057\n",
    "    else:\n",
    "        return flux/beta* 0.005\n",
    "\n",
    "def SA_gamma_intervention(t, flux):\n",
    "    gamma = 0.456\n",
    "    if t < 4:\n",
    "        return flux\n",
    "    elif t < 22:\n",
    "        return flux/gamma * 0.285\n",
    "    elif t < 28:\n",
    "        return flux/gamma * 0.200\n",
    "    else:\n",
    "        return flux/gamma * 0.110\n",
    "\n",
    "def SR_delta_intervention(t, flux):\n",
    "    delta = 0.011\n",
    "    if t < 4:\n",
    "        return flux\n",
    "    elif t < 22:\n",
    "        return flux/delta* 0.0057\n",
    "    else:\n",
    "        return flux/delta* 0.0057\n",
    "\n"
   ]
  },
  {
   "cell_type": "markdown",
   "id": "37e07865-5065-4dbe-ac46-2590c8834a61",
   "metadata": {},
   "source": [
    "### Day 12 screening limited to symptomatic individuals\n",
    "Also, after day 12, we set $\\epsilon  = 0.143$ as a consequence of the policy limiting screening to symptomatic individuals only; thus, totally asymptomatic individuals  are almost no longer detected, while individuals with very mild symptoms are still  detected (hence $\\epsilon$ is not set exactly to zero). Due to this, $R_0 = 1.80$. "
   ]
  },
  {
   "cell_type": "code",
   "execution_count": 12,
   "id": "f17d16be",
   "metadata": {},
   "outputs": [],
   "source": [
    "def ID_epsilon_intervention(t, flux):\n",
    "    epsilon = 0.171\n",
    "    if t < 12:\n",
    "        return flux\n",
    "    elif t < 38:\n",
    "        return flux/epsilon * 0.143\n",
    "    else:\n",
    "        return flux/epsilon * 0.200\n",
    "    \n",
    "\n",
    "#plotting_ode_model = pyro.do(ode_model, {\"noise_var\": torch.tensor([0.000001])})"
   ]
  },
  {
   "cell_type": "markdown",
   "id": "b7fcf4fc-00a8-4c92-950a-15118ab8cf7d",
   "metadata": {},
   "source": [
    "### Day 22 incomplete lockdown\n",
    "![SIDARTHE](../img/SIDARTHE.png)\n",
    "\n",
    "After day 22, the lockdown, at first incomplete, yields $\\alpha  = 0.360,  \\beta = \\delta = 0.005$  and $\\gamma = 0.200$;  also, $\\zeta = \\eta = 0.034, \\mu = 0.008, \\nu = 0.015, \\lambda = 0.08$  and  $\\rho= \\kappa = \\xi = \\sigma = 0.017$. Hence, the new basic reproduction number becomes $R_0 = 1.60$.\n",
    "\n",
    "![SIDARTHE-eqn.png](../img/SIDARTHE-eqn.png)\n"
   ]
  },
  {
   "cell_type": "code",
   "execution_count": 13,
   "id": "7f577887-41c7-48c3-906f-424aae29c600",
   "metadata": {},
   "outputs": [],
   "source": [
    "\n",
    "def IA_zeta_intervention(t, flux):\n",
    "    zeta = 0.125\n",
    "    if t < 22:\n",
    "        return flux\n",
    "    elif t < 38:\n",
    "        return flux/zeta*0.034\n",
    "    else:\n",
    "        return flux/zeta*0.025\n",
    "    \n",
    "def DR_eta_intervention(t, flux):\n",
    "    eta = 0.125\n",
    "    if t < 22:\n",
    "        return flux\n",
    "    elif t < 38:\n",
    "        return flux/eta * 0.034\n",
    "    else: \n",
    "        return flux/eta*0.025\n",
    "    \n",
    "def AT_mu_intervention(t, flux):\n",
    "    mu = 0.017\n",
    "    if t < 22:\n",
    "        return flux\n",
    "    else:\n",
    "        return flux/mu * 0.008\n",
    "    \n",
    "def RT_nu_intervention(t, flux):\n",
    "    nu = 0.027\n",
    "    if t < 22:\n",
    "        return flux\n",
    "    else:\n",
    "        return flux/nu*0.015\n",
    "    \n",
    "def IH_lamb_intervention(t, flux):\n",
    "    lamb = 0.034\n",
    "    if t < 22:\n",
    "        return flux\n",
    "    else:\n",
    "        return flux/lamb*0.08\n",
    "\n",
    "def DH_rho_intervention(t, flux):\n",
    "    rho = 0.034\n",
    "    if t < 22:\n",
    "        return flux\n",
    "    elif t < 38:\n",
    "        return flux/rho*0.017\n",
    "    else:\n",
    "        return flux/rho*0.020\n",
    "\n",
    " "
   ]
  },
  {
   "cell_type": "markdown",
   "id": "aa345f66-ef80-4a3e-84c6-52d6fa44e30c",
   "metadata": {},
   "source": [
    "### Day 28 fully operational lockdown\n",
    "After day 28, the lockdown is fully operational and gets stricter (working is no longer a good reason for going out: gradually, non-indispensable activities are  stopped): we get $\\alpha  = 0.210$ and $\\gamma = \n",
    "0.110$,  hence $R_0 = 0.99$. "
   ]
  },
  {
   "cell_type": "markdown",
   "id": "8061e2a9-5541-4c14-bad5-d3a012077de2",
   "metadata": {},
   "source": [
    "### Day 38 wider testing campaign launched\n",
    "After day 38, a wider testing campaign is launched: this yields $\\epsilon  = 0.200$,  and also $\\rho  = \\kappa = \\xi = 0.020$,  while $\\sigma = 0.010$  and $\\zeta = \\eta = 0.025$.  Therefore, $R_0 = 0.85$."
   ]
  },
  {
   "cell_type": "code",
   "execution_count": 14,
   "id": "e67b4f96-696e-4a33-961f-2971f34fc86d",
   "metadata": {},
   "outputs": [],
   "source": [
    "def AH_kappa_intervention(t, flux):\n",
    "    kappa = 0.017\n",
    "    if t < 38:\n",
    "        return flux\n",
    "    else:\n",
    "        return flux/kappa*0.020\n",
    "\n",
    "def RH_xi_intervention(t, flux):\n",
    "    xi = 0.017\n",
    "    if t < 38:\n",
    "        return flux\n",
    "    else:\n",
    "        return flux/xi*0.020\n",
    "    \n",
    "def TH_sigma_intervention(t, flux):\n",
    "    sigma = 0.017\n",
    "    if t < 38:\n",
    "        return flux\n",
    "    else:\n",
    "        return flux/sigma*0.010"
   ]
  },
  {
   "cell_type": "code",
   "execution_count": null,
   "id": "f7acbcf7-e486-4198-9ae4-56ff7fcbe4f2",
   "metadata": {},
   "outputs": [],
   "source": []
  },
  {
   "cell_type": "markdown",
   "id": "8879bf6d-ff2c-4003-a14a-e6e0c295ce99",
   "metadata": {},
   "source": [
    "\n",
    "### Unit Test \\#2: \n",
    "Now update the parameters to reflect various interventions that Italy implemented during the first wave, as described in detail on pg. 9.  Simulate for 100 days, reproduce the trajectories in Fig. 2B, and determine the day and level of peak total infections (sum over all the infected states I, D, A, R, T). Expected output: Trajectories in Fig. 2B, peak occurs around day 50, with ~0.2% of the total population infected.\n",
    "\n",
    "![SIDARTHE.png](../img/SIDARTHE.png)"
   ]
  },
  {
   "cell_type": "markdown",
   "id": "b0b513c9-7b71-4d29-9c54-2df995c2c7be",
   "metadata": {},
   "source": [
    "Reproduction number $\\mathcal{R}_0$:\n",
    "$$r_1  =  \\epsilon + \\zeta  +  \\lambda$$ \n",
    "$$r_2  =  \\eta  +  \\rho$$  \n",
    "$$r_3  =  \\theta  +  \\mu  +  \\kappa$$  \n",
    "$$r_4  =\\nu +  \\xi  +  \\tau_1$$  \n",
    "$$r_5  =\\sigma +  \\tau_2$$  \n",
    "\n",
    " $$\\mathcal{R}_0 = \\frac{\\alpha  +  \\frac{\\beta\\epsilon}{r_2} +  \\frac{\\gamma\\zeta}{r_3} +  \\delta\\left(  \\frac{\\eta\\epsilon}{r_2r_4}+  \\frac{\\zeta\\theta}{r_3r_4}\\right)}{r_1}$$\n"
   ]
  },
  {
   "cell_type": "code",
   "execution_count": 15,
   "id": "19224127-fa94-43ff-bc82-96f14e614b07",
   "metadata": {},
   "outputs": [
    {
     "name": "stdout",
     "output_type": "stream",
     "text": [
      "flux_trans_(('Infected', ('identity', 'ido:0000511'), ('disease_status', 'ncit:C3833'), ('property', 'ncit:C113725')), ('Ailing', ('identity', 'ido:0000511'), ('disease_status', 'ncit:C25269'), ('property', 'ncit:C113725')), 'NaturalConversion') 5.000000\n"
     ]
    }
   ],
   "source": [
    "\n",
    "zeta = 'flux_' + get_name(param2transition['zeta'])\n",
    "print(zeta + \" %f\" % (5.0000))"
   ]
  },
  {
   "cell_type": "code",
   "execution_count": 16,
   "id": "60f90a2c-ee3e-4d28-9995-2f771f997140",
   "metadata": {},
   "outputs": [],
   "source": [
    "interventions = {\"alpha\": SI_alpha_intervention,\n",
    "                 \"beta\": SD_beta_intervention,\n",
    "                 \"gamma\": SA_gamma_intervention,\n",
    "                 \"delta\": SR_delta_intervention,\n",
    "                 \"epsilon\": ID_epsilon_intervention,\n",
    "                 \"lambda\": IH_lamb_intervention,\n",
    "                 \"zeta\": IA_zeta_intervention,\n",
    "                 \"eta\": DR_eta_intervention,\n",
    "                 \"kappa\": AH_kappa_intervention,\n",
    "                # \"theta\": AR_theta_intervention,\n",
    "                 \"rho\": DH_rho_intervention,\n",
    "                 \"xi\": RH_xi_intervention,\n",
    "                 \"sigma\": TH_sigma_intervention,\n",
    "                 \"mu\": AT_mu_intervention,\n",
    "                 \"nu\": RT_nu_intervention}\n",
    "parameter_intervention = {}\n",
    "intervened_ode_model = plotting_ode_model\n",
    "\n",
    "for param in interventions:\n",
    "    parameter_intervention.update(time_and_state_dependent_intervention_builder(\n",
    "        \"flux_\" + get_name(param2transition[param]),\n",
    "         interventions[param], full_tspan))\n",
    "    \n",
    "intervened_ode_model = intervene(intervened_ode_model, parameter_intervention)"
   ]
  },
  {
   "cell_type": "code",
   "execution_count": 18,
   "id": "4d22ad97-cbcc-489c-9c05-0516b20bc6bd",
   "metadata": {},
   "outputs": [
    {
     "data": {
      "text/plain": [
       "<matplotlib.lines.Line2D at 0x158b17f40>"
      ]
     },
     "execution_count": 18,
     "metadata": {},
     "output_type": "execute_result"
    },
    {
     "data": {
      "image/png": "[encoded data removed]",
      "text/plain": [
       "<Figure size 900x900 with 1 Axes>"
      ]
     },
     "metadata": {},
     "output_type": "display_data"
    }
   ],
   "source": [
    "single_prediction = sample(intervened_ode_model, 1, initial_state, full_tspan)\n",
    "ax = plot_trajectory(single_prediction, full_tspan, ax=setup_ax(), color=\"blue\", marker='', lw=1., label=\"Before Seeing Data - Single Forecast\",\n",
    "                    observation='obs_total_infections')\n",
    "#ax = plot_predictive(prior_prediction, full_tspan, ax=ax, label=\"Before Seeing Data - Probabilistic Forecast\", color=\"red\")\n",
    "ax.axvline(48)\n"
   ]
  },
  {
   "cell_type": "code",
   "execution_count": 19,
   "id": "142da20c-35b4-4cb1-8a3c-45d82d0f1a6e",
   "metadata": {
    "tags": []
   },
   "outputs": [
    {
     "ename": "NameError",
     "evalue": "name 'new_intervened_model' is not defined",
     "output_type": "error",
     "traceback": [
      "\u001b[0;31m---------------------------------------------------------------------------\u001b[0m",
      "\u001b[0;31mNameError\u001b[0m                                 Traceback (most recent call last)",
      "Cell \u001b[0;32mIn[19], line 2\u001b[0m\n\u001b[1;32m      1\u001b[0m \u001b[38;5;28;01mwith\u001b[39;00m pyro\u001b[38;5;241m.\u001b[39mpoutine\u001b[38;5;241m.\u001b[39mtrace() \u001b[38;5;28;01mas\u001b[39;00m tr:\n\u001b[0;32m----> 2\u001b[0m     \u001b[43mnew_intervened_model\u001b[49m(initial_state, full_tspan)\n\u001b[1;32m      4\u001b[0m \u001b[38;5;28mprint\u001b[39m(tr\u001b[38;5;241m.\u001b[39mtrace\u001b[38;5;241m.\u001b[39mnodes\u001b[38;5;241m.\u001b[39mkeys())\n",
      "\u001b[0;31mNameError\u001b[0m: name 'new_intervened_model' is not defined"
     ]
    }
   ],
   "source": [
    "with pyro.poutine.trace() as tr:\n",
    "    new_intervened_model(initial_state, full_tspan)\n",
    "    \n",
    "print(tr.trace.nodes.keys())\n"
   ]
  },
  {
   "cell_type": "code",
   "execution_count": 49,
   "id": "f388cd12-3b48-41a3-b325-4fafd7623734",
   "metadata": {},
   "outputs": [
    {
     "data": {
      "text/plain": [
       "{'type': 'sample',\n",
       " 'name': \"flux_trans_(('Infected', ('identity', 'ido:0000511'), ('disease_status', 'ncit:C3833'), ('property', 'ncit:C113725')), ('Ailing', ('identity', 'ido:0000511'), ('disease_status', 'ncit:C25269'), ('property', 'ncit:C113725')), 'NaturalConversion') 5.0\",\n",
       " 'fn': MaskedDistribution(),\n",
       " 'is_observed': True,\n",
       " 'args': (),\n",
       " 'kwargs': {},\n",
       " 'value': tensor(1.1530e-06),\n",
       " 'infer': {'_deterministic': True},\n",
       " 'scale': 1.0,\n",
       " 'mask': None,\n",
       " 'cond_indep_stack': (),\n",
       " 'done': True,\n",
       " 'stop': False,\n",
       " 'continuation': None}"
      ]
     },
     "execution_count": 49,
     "metadata": {},
     "output_type": "execute_result"
    }
   ],
   "source": [
    "tr.trace.nodes[f\"{zeta} 5.0\"]"
   ]
  },
  {
   "cell_type": "code",
   "execution_count": 15,
   "id": "a8cebc75-730c-43f8-9081-ba846098f669",
   "metadata": {},
   "outputs": [],
   "source": [
    "from pyciemss.ODE.models import SIDARTHE\n",
    "\n",
    "pyro.set_rng_seed(0)\n",
    "\n",
    "# ode_model = SIDARTHE(N=1,\n",
    "#                  alpha_prior=dist.LogNormal(torch.log(torch.tensor (0.570)), torch.tensor(0.5)) ,\n",
    "#                  beta_prior=dist.LogNormal(torch.log(torch.tensor (0.011)), torch.tensor(0.5)) ,\n",
    "#                  gamma_prior=dist.LogNormal(torch.log(torch.tensor (0.456)), torch.tensor(0.5)) ,\n",
    "#                  delta_prior=dist.LogNormal(torch.log(torch.tensor (0.011)), torch.tensor(0.5)) ,\n",
    "#                  epsilon_prior=dist.LogNormal(torch.log(torch.tensor (0.171)), torch.tensor(0.5)) ,\n",
    "#                  lamb_prior =dist.LogNormal(torch.log(torch.tensor (0.034)), torch.tensor(0.5)) ,\n",
    "#                  zeta_prior=dist.LogNormal(torch.log(torch.tensor (0.125)), torch.tensor(0.5)) ,\n",
    "#                  eta_prior=dist.LogNormal(torch.log(torch.tensor (0.125)), torch.tensor(0.5)) ,\n",
    "#                  kappa_prior=dist.LogNormal(torch.log(torch.tensor (0.017)), torch.tensor(0.5)) ,\n",
    "#                  theta_prior=dist.LogNormal(torch.log(torch.tensor (0.371)), torch.tensor(0.5)) ,\n",
    "#                  rho_prior=dist.LogNormal(torch.log(torch.tensor (0.034)), torch.tensor(0.5)) ,\n",
    "#                  xi_prior=dist.LogNormal(torch.log(torch.tensor (0.017)), torch.tensor(0.5)) ,\n",
    "#                  sigma_prior=dist.LogNormal(torch.log(torch.tensor (0.017)), torch.tensor(0.5)) ,\n",
    "#                  mu_prior=dist.LogNormal(torch.log(torch.tensor (0.017)), torch.tensor(0.5)) ,\n",
    "#                  nu_prior=dist.LogNormal(torch.log(torch.tensor (0.027)), torch.tensor(0.5)) ,\n",
    "#                  tau_prior=dist.LogNormal(torch.log(torch.tensor (0.01)), torch.tensor(0.5)) )"
   ]
  },
  {
   "cell_type": "markdown",
   "id": "da8e85b3-25df-4001-8cdf-cc47779fc584",
   "metadata": {},
   "source": [
    "## 1.c Sensitivity analysis"
   ]
  },
  {
   "cell_type": "code",
   "execution_count": null,
   "id": "79911dc3-6611-45d3-be49-f2e190b616c2",
   "metadata": {},
   "outputs": [],
   "source": []
  },
  {
   "cell_type": "markdown",
   "id": "2ed894bb-0eb9-4d26-aa96-886307b175d7",
   "metadata": {},
   "source": [
    "## 1.d Policies that prevent infections from exceeding 1/3 of the population\n",
    "\n",
    "Now return to the situation in b.i (constant parameters that don’t change over time). Let’s say we want to increase testing, diagnostics, and contact tracing efforts (implemented by increasing the detection parameters  and ). Assume that $\\theta \\ge 2\\epsilon$ , because a symptomatic person is more likely to be tested. What minimum constant values do these parameters need to be over the course of a 100-day simulation, to ensure that the total infected population (sum over all the infected states I, D, A, R, T) never rises above 1/3 of the total population?\n"
   ]
  },
  {
   "cell_type": "markdown",
   "id": "15526fb6-c00c-4b76-9dd3-3c961504006b",
   "metadata": {},
   "source": [
    "\n",
    "\n",
    "### Problem Formulation\n",
    "* **Quantity of interest**:  Total infections out of $N=60,000,000$ population\n",
    "$$I_{total}(t; \\mathbf{u}, \\mathbf{Z}) = I(t) + D(t) + A(t) + R(t) + T(t)$$\n",
    "\n",
    "A conservative estimate for the quantity of interest is\n",
    "$$M(u, Z) = \\max_{1\\leq t \\leq 100} I_{total}(t; \\mathbf{u}, \\mathbf{Z})/N$$\n",
    "\n",
    "\n",
    "\n",
    "\n",
    "* **Control**: $\\mathbf{u}\\in \\mathcal{U} \\subseteq \\mathbb{R}^{n_u}$\n",
    "    * Detection parameter for Infected ($\\epsilon$) assuming that $\\theta=2\\epsilon$\n",
    "    * Two detection parameters $\\theta, \\epsilon$, constraining $\\theta \\ge 2\\epsilon$.\n",
    "    "
   ]
  },
  {
   "cell_type": "markdown",
   "id": "c860c6aa-44e2-4456-8b12-90e87b4d8e0f",
   "metadata": {},
   "source": [
    "\n",
    "* **Risk-based optimization under uncertainty problem formulation**\n",
    "    * Objective Function - Minimize the magnitude of the parameter interventions.\n",
    "    * Constraint - Risk of normalized total infections exceeding the prescribed threshold of $1/3$, $\\mathcal{R}( M(\\mathbf{u},\\mathbf{Z}))$, is below the acceptable risk threshold, $\\mathcal{R}_\\text{threshold}$.\n",
    "\n",
    "\\begin{equation} \n",
    "\\begin{split} \n",
    "\\mathbf{u}^*= \\underset{\\mathbf{u}\\in\\mathcal{U}}{\\arg\\min}\\ & \\lVert \\mathbf{u} \\rVert_1 \\\\ \\text{s.t.}\\ & \\mathcal{R}( M(\\mathbf{u}, \\theta)) \\le \\mathcal{R}_\\text{threshold} \n",
    "\\end{split} \n",
    "\\end{equation}"
   ]
  },
  {
   "cell_type": "markdown",
   "id": "305ab3fb-0dfe-4d6f-9ae2-fadc960e83d5",
   "metadata": {
    "tags": []
   },
   "source": [
    "#### Formulation 1: Optimize $\\epsilon$ only, assuming $\\epsilon = \\theta$\n",
    "\\begin{equation} \n",
    "\\begin{split} \n",
    "\\epsilon^*= \\underset{\\epsilon\\in\\mathcal{U}}{\\arg\\min}\\ & \\epsilon \\\\ \\text{s.t.}\\ & \\mathbb{P}( M(\\epsilon, \\mathbf{Z}) \\ge 1/3) \\le 0.05\n",
    "\\end{split} \n",
    "\\end{equation}"
   ]
  },
  {
   "cell_type": "markdown",
   "id": "431d0bc3-4d3b-4cd9-9317-f02aefde7cb5",
   "metadata": {
    "tags": []
   },
   "source": [
    "#### Formulation 2: Optimize $\\epsilon$ and $\\theta$ constraining $\\theta \\ge 2\\epsilon$\n",
    "\\begin{equation} \n",
    "\\begin{split} \n",
    "\\epsilon^\\ast, \\theta^\\ast= \\underset{\\{\\epsilon,\\theta\\}\\in\\mathcal{U}}{\\arg\\min}\\ & \\theta + \\epsilon \\\\ \\text{s.t.}\\ & \\mathbb{P}( M(\\epsilon,\\theta, \\mathbf{Z}) \\ge 1/3) \\le 0.05, \\\\\n",
    "& \\theta \\ge 2\\epsilon\n",
    "\\end{split} \n",
    "\\end{equation}"
   ]
  },
  {
   "cell_type": "markdown",
   "id": "c65bcf10-9d12-4efe-be10-cc313e123d14",
   "metadata": {},
   "source": [
    "Apart from probability of exceedance, we will explore quantiles and superquantiles as risk measures."
   ]
  },
  {
   "cell_type": "code",
   "execution_count": null,
   "id": "69c1f480-87e4-4e35-b2ad-ac7769ff78ff",
   "metadata": {},
   "outputs": [],
   "source": []
  }
 ],
 "metadata": {
  "kernelspec": {
   "display_name": "jz-scenario2-eval",
   "language": "python",
   "name": "jz-scenario2-eval"
  },
  "language_info": {
   "codemirror_mode": {
    "name": "ipython",
    "version": 3
   },
   "file_extension": ".py",
   "mimetype": "text/x-python",
   "name": "python",
   "nbconvert_exporter": "python",
   "pygments_lexer": "ipython3",
   "version": "3.10.9"
  },
  "vscode": {
   "interpreter": {
    "hash": "a3e1d8fdda916c248c87d86618e3945b28961cf939001a0529e724463670a41a"
   }
  }
 },
 "nbformat": 4,
 "nbformat_minor": 5
}
