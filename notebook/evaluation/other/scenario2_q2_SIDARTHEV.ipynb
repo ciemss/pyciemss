{
 "cells": [
  {
   "cell_type": "code",
   "execution_count": 1,
   "id": "b087c52b-a505-45d3-b643-df44d8c924a5",
   "metadata": {},
   "outputs": [],
   "source": [
    "%load_ext autoreload\n",
    "%autoreload 2"
   ]
  },
  {
   "cell_type": "markdown",
   "id": "542b06c1-28fb-47ec-9a34-170acc7d2a84",
   "metadata": {},
   "source": [
    "# Load Dependencies"
   ]
  },
  {
   "cell_type": "code",
   "execution_count": 2,
   "id": "84e0bb12-68af-4a6d-a384-db4837c44ac0",
   "metadata": {},
   "outputs": [],
   "source": [
    "import matplotlib.pyplot as plt\n",
    "\n",
    "import torch\n",
    "\n",
    "import pyro\n",
    "import numpy as np\n",
    "import pyro.distributions as dist\n",
    "# from pyro.poutine import trace, replay, block\n",
    "# from pyro.infer.autoguide.guides import AutoDelta, AutoNormal\n",
    "# from pyro.infer import SVI, Trace_ELBO, Predictive\n",
    "\n",
    "import sys\n",
    "sys.path.append(\"../../src/\")\n",
    "\n",
    "from pyciemss.ODE.askem_primitives import sample, infer_parameters, intervene, optimization\n",
    "\n",
    "# from pyciemss.utils import run_inference, get_tspan\n",
    "from pyciemss.utils import get_tspan\n",
    "\n",
    "import warnings\n",
    "warnings.filterwarnings('ignore')"
   ]
  },
  {
   "cell_type": "markdown",
   "id": "4855961d-9c38-4050-b6b7-aaae03500fc9",
   "metadata": {},
   "source": [
    "# Plotting Utilities"
   ]
  },
  {
   "cell_type": "code",
   "execution_count": 3,
   "id": "260901d9",
   "metadata": {},
   "outputs": [],
   "source": [
    "def setup_ax(ax=None):\n",
    "\n",
    "    if not ax:\n",
    "        fig = plt.figure(facecolor='w', figsize=(9, 5))\n",
    "        ax = fig.add_subplot(111, axisbelow=True)\n",
    "\n",
    "    ax.set_xlabel('Time (days)')\n",
    "    ax.set_ylabel('Total infected')\n",
    "    return ax\n",
    "\n",
    "def plot_predictive(prediction, tspan, tmin=None, ax=None, alpha=0.2, color=\"black\", **kwargs):\n",
    "    vars = [\"I_total_obs\"]\n",
    "    #infection_total = sum([prediction[x].squeeze().detach().numpy()/1000. for x in ['I_obs', 'D_obs', 'A_obs', 'R_obs', 'T_obs']])\n",
    "\n",
    "    I_low = torch.quantile(prediction[\"I_total_obs\"], 0.05, dim=0).detach().numpy()\n",
    "    I_up = torch.quantile(prediction[\"I_total_obs\"], 0.95, dim=0).detach().numpy()\n",
    "\n",
    "    if tmin:\n",
    "        indeces = tspan >= tmin\n",
    "    else:\n",
    "        indeces = torch.ones_like(tspan).bool()\n",
    "\n",
    "    if not ax:\n",
    "        fig = plt.figure(facecolor='w')\n",
    "        ax = fig.add_subplot(111, facecolor='#dddddd', axisbelow=True)\n",
    "    \n",
    "    ax.fill_between(tspan[indeces], I_low[indeces], I_up[indeces], alpha=alpha, color=color, **kwargs)\n",
    "\n",
    "    legend = ax.legend()\n",
    "    legend.get_frame().set_alpha(0.5)\n",
    "\n",
    "    return ax\n",
    "\n",
    "def plot_trajectory(data, tspan, ax=None, color='black', alpha=0.5, lw=0, marker='.', label=None):\n",
    "    # Plot the data on three separate curves for S(t), I(t) and R(t)\n",
    "\n",
    "    if not ax:\n",
    "        fig = plt.figure(facecolor='w')\n",
    "        ax = fig.add_subplot(111, facecolor='#dddddd', axisbelow=True)\n",
    "    #infection_total = sum([data[x].squeeze().detach().numpy()/1000. for x in ['I_obs', 'D_obs', 'A_obs', 'R_obs', 'T_obs']])\n",
    "    ax.plot(tspan, data['I_total_obs'].squeeze().detach().numpy(), color, alpha=alpha, lw=lw, marker=marker, label=label)\n",
    "    \n",
    "    return ax\n",
    "\n",
    "def plot_intervention_line(t, ax=None):\n",
    "    if not ax:\n",
    "        fig = plt.figure(facecolor='w')\n",
    "        ax = fig.add_subplot(111, facecolor='#dddddd', axisbelow=True)\n",
    "\n",
    "    ylim = ax.get_ylim()\n",
    "\n",
    "    ax.vlines(t, min(ylim), max(ylim), color=\"grey\", ls='-')\n",
    "\n",
    "    return ax\n",
    "\n",
    "def sideaxis(ax):\n",
    "    ax.spines['top'].set_visible(False)\n",
    "    ax.spines['right'].set_visible(False)\n",
    "    return\n",
    "\n",
    "def sideaxishist(ax):\n",
    "    ax.spines['top'].set_visible(False)\n",
    "    ax.spines['right'].set_visible(False)\n",
    "    ax.spines['left'].set_visible(False)\n",
    "    # For y-axis\n",
    "    ax.yaxis.set_major_locator(ticker.NullLocator())\n",
    "    ax.tick_params(axis='x', labelsize=12)  # change fontsize for x-axis tick labels\n",
    "    # ax.xaxis.major.formatter._useMathText = True\n",
    "    return"
   ]
  },
  {
   "cell_type": "code",
   "execution_count": 4,
   "id": "f233104e-c29d-4e25-859f-2a328ec7892a",
   "metadata": {},
   "outputs": [],
   "source": [
    "def LogNormalPrior(mean, variance):\n",
    "    mu = torch.log(mean**2/torch.sqrt((mean**2 + variance)))\n",
    "    scale = torch.sqrt(torch.log(1 + variance/mean**2))\n",
    "    return dist.LogNormal(mu, scale)\n",
    "\n",
    "def LogNormalPrior_propVar(mean, cov=0.05):\n",
    "    variance = mean*cov    \n",
    "    return LogNormalPrior(mean, variance)"
   ]
  },
  {
   "cell_type": "markdown",
   "id": "3e0c3726-5ec0-475d-8305-f20b5d84e424",
   "metadata": {},
   "source": [
    "# Setup Parameters"
   ]
  },
  {
   "cell_type": "code",
   "execution_count": 5,
   "id": "16608500-97b5-4081-9e6b-b7c193c10285",
   "metadata": {},
   "outputs": [],
   "source": [
    "tspan = get_tspan(1, 100, 100)\n",
    "\n",
    "num_samples = 50\n",
    "\n",
    "# Total population, N.\n",
    "N = 1\n",
    "# Initial number of infected and recovered individuals, I0 and R0.\n",
    "I0, D0, A0, R0, T0, H0, E0, V0 = 200/60e6, 20/60e6, 1/60e6, 2/60e6, 0, 0, 0, 0\n",
    "\n",
    "# Everyone else, S0, is susceptible to infection initially.\n",
    "S0 = N - I0 - D0 - A0 - R0 - T0 - H0 - E0 - V0\n",
    "\n",
    "initial_state = tuple(torch.as_tensor(s) for s in  (S0, I0, D0, A0, R0, T0, H0, E0, V0))"
   ]
  },
  {
   "cell_type": "markdown",
   "id": "23fc9c9d-f8bc-4e95-a243-865690d3b43b",
   "metadata": {},
   "source": [
    "# Probabilistic Forecasting - Passing unit test 1\n",
    "There are two ‘unit tests’ we want to pass, to ensure that we understood and can reproduce the published model:\n",
    "\n",
    "## 1.a Unit Test \\#1:\n",
    "\n",
    "Set the initial values and parameters, as described in the Supplementary Methods section of the publication (pg. 9 of the pdf): \n",
    "\n",
    "1. Initial Values: \n",
    "* $I = 200/60e6$,\n",
    "* $D = 20/60e6$, \n",
    "* $A = 1/60e6$, \n",
    "* $R = 2/60e6$, \n",
    "* $T = 0$, \n",
    "* $H = 0$, \n",
    "* $E = 0$; \n",
    "* $S = 1 – I – D – A – R – T – H – E$. \n",
    "\n",
    "Let total population = 60e6.\n",
    "Parameters: $$\\alpha = 0.570, \\beta = \\delta  = 0.011, \\gamma = 0.456, \\epsilon = 0.171, \\theta = 0.371, \\zeta = \\eta = 0.125, \\mu = 0.017, \\nu = 0.027, \\tau = 0.01, \\lambda = \\rho = 0.034$$ and $$\\kappa = \\xi = \\sigma = 0.017$$."
   ]
  },
  {
   "cell_type": "markdown",
   "id": "f6228f01",
   "metadata": {},
   "source": [
    "### Deterministic forecasting"
   ]
  },
  {
   "cell_type": "code",
   "execution_count": 6,
   "id": "dbd7d430-325f-4f40-9b20-d8a0c0264f62",
   "metadata": {},
   "outputs": [],
   "source": [
    "from pyciemss.ODE.models import SIDARTHEV\n",
    "\n",
    "pyro.set_rng_seed(0)\n",
    "\n",
    "ode_model = SIDARTHEV(N=1,\n",
    "                 alpha_prior=dist.Delta(torch.tensor (0.570)) ,\n",
    "                 beta_prior=dist.Delta(torch.tensor (0.011)) ,\n",
    "                 gamma_prior=dist.Delta(torch.tensor (0.456)) ,\n",
    "                 delta_prior=dist.Delta(torch.tensor (0.011)) ,\n",
    "                 epsilon_prior=dist.Delta(torch.tensor (0.171)) ,\n",
    "                 lamb_prior =dist.Delta(torch.tensor (0.034)) ,\n",
    "                 zeta_prior=dist.Delta(torch.tensor (0.125)) ,\n",
    "                 eta_prior=dist.Delta(torch.tensor (0.125)) ,\n",
    "                 kappa_prior=dist.Delta(torch.tensor (0.017)) ,\n",
    "                 theta_prior=dist.Delta(torch.tensor (0.371)) ,\n",
    "                 rho_prior=dist.Delta(torch.tensor (0.034)) ,\n",
    "                 xi_prior=dist.Delta(torch.tensor (0.017)) ,\n",
    "                 sigma_prior=dist.Delta(torch.tensor (0.017)) ,\n",
    "                 mu_prior=dist.Delta(torch.tensor (0.017)) ,\n",
    "                 nu_prior=dist.Delta(torch.tensor (0.027)) ,\n",
    "                 tau2_prior=dist.Delta(torch.tensor (0.01)) ,\n",
    "                 phi_prior=dist.Delta(torch.tensor (0.)) )"
   ]
  },
  {
   "cell_type": "code",
   "execution_count": 7,
   "id": "31473cdd-9896-42ed-b487-36362c1c9744",
   "metadata": {
    "scrolled": false
   },
   "outputs": [],
   "source": [
    "single_prediction = sample(ode_model, 1, initial_state, tspan)"
   ]
  },
  {
   "cell_type": "code",
   "execution_count": 8,
   "id": "15f03c6f-d085-4f36-bc7a-312057d82758",
   "metadata": {},
   "outputs": [
    {
     "data": {
      "text/plain": [
       "<matplotlib.lines.Line2D at 0x7fa863e141c0>"
      ]
     },
     "execution_count": 8,
     "metadata": {},
     "output_type": "execute_result"
    },
    {
     "data": {
      "image/png": "[encoded data removed]",
      "text/plain": [
       "<Figure size 900x500 with 1 Axes>"
      ]
     },
     "metadata": {},
     "output_type": "display_data"
    }
   ],
   "source": [
    "ax = plot_trajectory(single_prediction, tspan, ax=setup_ax(), color=\"blue\", marker='', lw=1., label=\"Before Seeing Data - Single Forecast\")\n",
    "ax.axvline(47)"
   ]
  },
  {
   "cell_type": "markdown",
   "id": "7c9b53f3",
   "metadata": {},
   "source": [
    "### Probabilistic forecasting"
   ]
  },
  {
   "cell_type": "code",
   "execution_count": 9,
   "id": "a8cebc75-730c-43f8-9081-ba846098f669",
   "metadata": {},
   "outputs": [],
   "source": [
    "pyro.set_rng_seed(0)\n",
    "\n",
    "# var_prior = 0.05**2\n",
    "mean_values = np.array([])\n",
    "\n",
    "ode_model = SIDARTHEV(N=1,\n",
    "                 alpha_prior=LogNormalPrior_propVar(torch.tensor(0.570)) ,\n",
    "                 beta_prior=LogNormalPrior_propVar(torch.tensor(0.011)) ,\n",
    "                 gamma_prior=LogNormalPrior_propVar(torch.tensor(0.456)) ,\n",
    "                 delta_prior=LogNormalPrior_propVar(torch.tensor(0.011)) ,\n",
    "                 epsilon_prior=LogNormalPrior_propVar(torch.tensor(0.171)) ,\n",
    "                 lamb_prior =LogNormalPrior_propVar(torch.tensor(0.034)) ,\n",
    "                 zeta_prior=LogNormalPrior_propVar(torch.tensor(0.125)) ,\n",
    "                 eta_prior=LogNormalPrior_propVar(torch.tensor(0.125)) ,\n",
    "                 kappa_prior=LogNormalPrior_propVar(torch.tensor(0.017)) ,\n",
    "                 theta_prior=LogNormalPrior_propVar(torch.tensor(0.371)) ,\n",
    "                 rho_prior=LogNormalPrior_propVar(torch.tensor(0.034)) ,\n",
    "                 xi_prior=LogNormalPrior_propVar(torch.tensor(0.017)) ,\n",
    "                 sigma_prior=LogNormalPrior_propVar(torch.tensor(0.017)) ,\n",
    "                 mu_prior=LogNormalPrior_propVar(torch.tensor(0.017)) ,\n",
    "                 nu_prior=LogNormalPrior_propVar(torch.tensor(0.027)) ,\n",
    "                 tau2_prior=LogNormalPrior_propVar(torch.tensor(0.01)) ,\n",
    "                 phi_prior=dist.Delta(torch.tensor (0.)) )\n",
    "\n",
    "# interventions = {\"alpha\": SI_alpha_intervention,\n",
    "#                  \"beta\": SD_beta_intervention,\n",
    "#                  \"gamma\": SA_gamma_intervention,\n",
    "#                  \"delta\": SR_delta_intervention,\n",
    "#                  \"epsilon\": ID_epsilon_intervention,\n",
    "#                  \"lambda\": IH_lamb_intervention,\n",
    "#                  \"zeta\": IA_zeta_intervention,\n",
    "#                  \"eta\": DR_eta_intervention,\n",
    "#                  \"kappa\": AH_kappa_intervention,\n",
    "#                 # \"theta\": AR_theta_intervention,\n",
    "#                  \"rho\": DH_rho_intervention,\n",
    "#                  \"xi\": RH_xi_intervention,\n",
    "#                  \"sigma\": TH_sigma_intervention,\n",
    "#                  \"mu\": AT_mu_intervention,\n",
    "#                  \"nu\": RT_nu_intervention}"
   ]
  },
  {
   "cell_type": "code",
   "execution_count": 10,
   "id": "795ecb3a",
   "metadata": {},
   "outputs": [],
   "source": [
    "prior_prediction = sample(ode_model, num_samples, initial_state, tspan)"
   ]
  },
  {
   "cell_type": "code",
   "execution_count": 11,
   "id": "f62475f8",
   "metadata": {},
   "outputs": [
    {
     "data": {
      "image/png": "[encoded data removed]",
      "text/plain": [
       "<Figure size 900x500 with 1 Axes>"
      ]
     },
     "metadata": {},
     "output_type": "display_data"
    }
   ],
   "source": [
    "ax1 = plot_predictive(prior_prediction, tspan, ax=setup_ax(), label=\"probabilistic forecast\", color=\"red\")\n",
    "ax1.axvline(30)\n",
    "sideaxis(ax1)"
   ]
  },
  {
   "cell_type": "markdown",
   "id": "c65bcf10-9d12-4efe-be10-cc313e123d14",
   "metadata": {},
   "source": [
    "## 1.d Policies that prevent infections from exceeding 1/3 of the population\n",
    "\n",
    "Now return to the situation in b.i (constant parameters that don’t change over time). Let’s say we want to increase testing, diagnostics, and contact tracing efforts (implemented by increasing the detection parameters  and ). Assume that $\\theta \\ge 2\\epsilon$ , because a symptomatic person is more likely to be tested. What minimum constant values do these parameters need to be over the course of a 100-day simulation, to ensure that the total infected population (sum over all the infected states I, D, A, R, T) never rises above 1/3 of the total population?\n",
    "\n",
    "\n",
    "### Problem Formulation\n",
    "* **Quantity of interest**:  Total infections out of $N=60,000,000$ population\n",
    "$$I_{total}(t; \\mathbf{u}, \\mathbf{Z}) = I(t) + D(t) + A(t) + R(t) + T(t)$$\n",
    "\n",
    "A conservative estimate for the quantity of interest is\n",
    "$$M(u, Z) = \\max_{1\\leq t \\leq 100} I_{total}(t; \\mathbf{u}, \\mathbf{Z})/N$$\n",
    "\n",
    "\n",
    "\n",
    "\n",
    "* **Control**: $\\mathbf{u}\\in \\mathcal{U} \\subseteq \\mathbb{R}^{n_u}$\n",
    "    * Detection parameter for Infected ($\\epsilon$) assuming that $\\theta=2\\epsilon$\n",
    "    * Two detection parameters $\\theta, \\epsilon$, constraining $\\theta \\ge 2\\epsilon$.\n",
    "    \n",
    "\n",
    "\n",
    "* **Risk-based optimization under uncertainty problem formulation**\n",
    "    * Objective Function - Minimize the magnitude of the parameter interventions.\n",
    "    * Constraint - Risk of normalized total infections exceeding the prescribed threshold of $1/3$, $\\mathcal{R}( M(\\mathbf{u},\\mathbf{Z}))$, is below the acceptable risk threshold, $\\mathcal{R}_\\text{threshold}$.\n",
    "\n",
    "\\begin{equation} \n",
    "\\begin{split} \n",
    "\\mathbf{u}^*= \\underset{\\mathbf{u}\\in\\mathcal{U}}{\\arg\\min}\\ & \\lVert \\mathbf{u} \\rVert_1 \\\\ \\text{s.t.}\\ & \\mathcal{R}( M(\\mathbf{u}, \\theta)) \\le \\mathcal{R}_\\text{threshold} \n",
    "\\end{split} \n",
    "\\end{equation}\n",
    "\n",
    "#### Formulation 1: Optimize $u=\\{\\alpha, \\beta, \\gamma, \\delta\\}$\n",
    "\\begin{equation} \n",
    "\\begin{split} \n",
    "u^*= \\underset{\\epsilon\\in\\mathcal{U}}{\\arg\\min}\\ & u\\\\ \\text{s.t.}\\ & \\mathbb{P}( M(u, \\mathbf{Z}) \\ge 1/3) \\le 0.05\n",
    "\\end{split} \n",
    "\\end{equation}\n",
    "\n",
    "#### Formulation 2: Optimize $\\epsilon$ and $\\theta$ constraining $\\theta \\ge 2\\epsilon$\n",
    "\\begin{equation} \n",
    "\\begin{split} \n",
    "\\epsilon^\\ast, \\theta^\\ast= \\underset{\\{\\epsilon,\\theta\\}\\in\\mathcal{U}}{\\arg\\min}\\ & \\theta + \\epsilon \\\\ \\text{s.t.}\\ & \\mathbb{P}( M(\\epsilon,\\theta, \\mathbf{Z}) \\ge 1/3) \\le 0.05, \\\\\n",
    "& \\theta \\ge 2\\epsilon\n",
    "\\end{split} \n",
    "\\end{equation}\n",
    "\n",
    "Apart from probability of exceedance, we will explore quantiles and superquantiles as risk measures."
   ]
  },
  {
   "cell_type": "code",
   "execution_count": 12,
   "id": "97ab7988",
   "metadata": {},
   "outputs": [],
   "source": [
    "from causal_pyro.query.do_messenger import do\n",
    "import time\n",
    "import pickle\n",
    "\n",
    "import numpy as np\n",
    "from scipy import stats\n",
    "from matplotlib import ticker\n",
    "\n",
    "from pyciemss.ODE.interventions import parameter_intervention_builder, time_and_state_dependent_intervention_builder, time_dependent_intervention_builder\n",
    "from pyciemss.risk.risk_measures import alpha_quantile, alpha_superquantile\n",
    "from pyciemss.risk.ouu import computeRisk, solveOUU\n",
    "from pyciemss.risk.qoi import max_total_infections_SIDARTHE\n",
    "import scipy\n",
    "\n",
    "\n",
    "co = ['#377eb8', '#ff7f00', '#984ea3', '#ffd92f', '#a65628']\n",
    "rlabel = ['Q_alpha-based OUU', 'barQ_alpha-based OUU']"
   ]
  },
  {
   "cell_type": "code",
   "execution_count": 13,
   "id": "3613329e",
   "metadata": {},
   "outputs": [],
   "source": [
    "def delayed_intervention_controller(name, x, init_value):\n",
    "    def delayed_intervention(t, flux):\n",
    "        if t<30:\n",
    "            return flux\n",
    "        else:\n",
    "            return flux/init_value*x\n",
    "    return time_and_state_dependent_intervention_builder(name, delayed_intervention, tspan)  \n",
    "\n",
    "def delayed_intervention_controller_flux(name, x):\n",
    "    def delayed_intervention(t):\n",
    "        if t<15:\n",
    "            return torch.tensor(0.)\n",
    "        else:\n",
    "            return x\n",
    "    return time_dependent_intervention_builder(name, delayed_intervention, tspan) "
   ]
  },
  {
   "cell_type": "code",
   "execution_count": 14,
   "id": "09b64716",
   "metadata": {},
   "outputs": [],
   "source": [
    "# # Control action / intervention.\n",
    "# phi_init = torch.tensor(0.)\n",
    "# param_intervention = parameter_intervention_builder(\"phi\", phi_init)\n",
    "# control_model = intervene(ode_model,param_intervention)\n",
    "\n",
    "# # Control action / intervention.\n",
    "# alpha_init = torch.tensor(0.57)\n",
    "# param_intervention = parameter_intervention_builder(\"alpha\", alpha_init)\n",
    "# control_model = intervene(ode_model,param_intervention)\n",
    "control_model = ode_model\n",
    "\n",
    "# # intervened_tspan = tspan[torch.where(tspan > 30, True, False)]\n",
    "# INTERVENTION = lambda x: delayed_intervention_controller(\"SV_flux\", torch.from_numpy(np.array([x])), phi_init)\n",
    "\n",
    "INTERVENTION = lambda x: delayed_intervention_controller_flux(\"SV_flux\", torch.from_numpy(np.array([x])))"
   ]
  },
  {
   "cell_type": "markdown",
   "id": "5fb87509",
   "metadata": {},
   "source": [
    "## Exploring the intervention and difference between Quantiles and Superquantiles"
   ]
  },
  {
   "cell_type": "code",
   "execution_count": 15,
   "id": "35ebe5d7",
   "metadata": {
    "scrolled": false
   },
   "outputs": [
    {
     "name": "stdout",
     "output_type": "stream",
     "text": [
      "Forward UQ took 9.40 seconds total (1.88e-01 seconds per model evaluation).\n"
     ]
    },
    {
     "ename": "KeyboardInterrupt",
     "evalue": "",
     "output_type": "error",
     "traceback": [
      "\u001b[0;31m---------------------------------------------------------------------------\u001b[0m",
      "\u001b[0;31mKeyboardInterrupt\u001b[0m                         Traceback (most recent call last)",
      "Cell \u001b[0;32mIn[15], line 25\u001b[0m\n\u001b[1;32m     22\u001b[0m sq_sv \u001b[38;5;241m=\u001b[39m RISK\u001b[38;5;241m.\u001b[39mrisk_measure(sq_qoi)\n\u001b[1;32m     24\u001b[0m RISK\u001b[38;5;241m.\u001b[39mrisk_measure \u001b[38;5;241m=\u001b[39m alpha_quantile\n\u001b[0;32m---> 25\u001b[0m q_sv \u001b[38;5;241m=\u001b[39m \u001b[43mRISK\u001b[49m\u001b[43m(\u001b[49m\u001b[43mPOLICY\u001b[49m\u001b[43m)\u001b[49m\n\u001b[1;32m     26\u001b[0m \u001b[38;5;28mprint\u001b[39m(q_sv, sq_sv)\n",
      "File \u001b[0;32m/storage/achaudhuri/covid_askem/pyciemss/notebook/evaluation/../../src/pyciemss/risk/ouu.py:51\u001b[0m, in \u001b[0;36mcomputeRisk.__call__\u001b[0;34m(self, x)\u001b[0m\n\u001b[1;32m     49\u001b[0m \u001b[38;5;28;01mdef\u001b[39;00m \u001b[38;5;21m__call__\u001b[39m(\u001b[38;5;28mself\u001b[39m, x):\n\u001b[1;32m     50\u001b[0m     \u001b[38;5;66;03m# Apply intervention, perform forward uncertainty propagation\u001b[39;00m\n\u001b[0;32m---> 51\u001b[0m     samples \u001b[38;5;241m=\u001b[39m \u001b[38;5;28;43mself\u001b[39;49m\u001b[38;5;241;43m.\u001b[39;49m\u001b[43mpropagate_uncertainty\u001b[49m\u001b[43m(\u001b[49m\u001b[43mx\u001b[49m\u001b[43m)\u001b[49m\n\u001b[1;32m     52\u001b[0m     \u001b[38;5;66;03m# print(x)\u001b[39;00m\n\u001b[1;32m     53\u001b[0m \n\u001b[1;32m     54\u001b[0m     \u001b[38;5;66;03m# Compute quanity of interest\u001b[39;00m\n\u001b[1;32m     55\u001b[0m     sample_qoi \u001b[38;5;241m=\u001b[39m \u001b[38;5;28mself\u001b[39m\u001b[38;5;241m.\u001b[39mqoi(samples)\n",
      "File \u001b[0;32m/storage/achaudhuri/covid_askem/pyciemss/notebook/evaluation/../../src/pyciemss/risk/ouu.py:69\u001b[0m, in \u001b[0;36mcomputeRisk.propagate_uncertainty\u001b[0;34m(self, x)\u001b[0m\n\u001b[1;32m     66\u001b[0m \u001b[38;5;66;03m# Apply intervention to model\u001b[39;00m\n\u001b[1;32m     67\u001b[0m intervened_model \u001b[38;5;241m=\u001b[39m do(\u001b[38;5;28mself\u001b[39m\u001b[38;5;241m.\u001b[39mmodel, \u001b[38;5;28mself\u001b[39m\u001b[38;5;241m.\u001b[39mintervention_fun(x))\n\u001b[0;32m---> 69\u001b[0m samples \u001b[38;5;241m=\u001b[39m \u001b[43mPredictive\u001b[49m\u001b[43m(\u001b[49m\u001b[43mintervened_model\u001b[49m\u001b[43m,\u001b[49m\u001b[43m \u001b[49m\u001b[43mguide\u001b[49m\u001b[38;5;241;43m=\u001b[39;49m\u001b[38;5;28;43mself\u001b[39;49m\u001b[38;5;241;43m.\u001b[39;49m\u001b[43mguide\u001b[49m\u001b[43m,\u001b[49m\u001b[43m \u001b[49m\u001b[43mnum_samples\u001b[49m\u001b[38;5;241;43m=\u001b[39;49m\u001b[38;5;28;43mself\u001b[39;49m\u001b[38;5;241;43m.\u001b[39;49m\u001b[43mnum_samples\u001b[49m\u001b[43m)\u001b[49m\u001b[43m(\u001b[49m\u001b[38;5;28;43mself\u001b[39;49m\u001b[38;5;241;43m.\u001b[39;49m\u001b[43mmodel_state\u001b[49m\u001b[43m,\u001b[49m\u001b[43m \u001b[49m\u001b[38;5;28;43mself\u001b[39;49m\u001b[38;5;241;43m.\u001b[39;49m\u001b[43mtspan\u001b[49m\u001b[43m)\u001b[49m\n\u001b[1;32m     71\u001b[0m \u001b[38;5;28;01mreturn\u001b[39;00m samples\n",
      "File \u001b[0;32m/storage/achaudhuri/envs/anaconda3/envs/askem/lib/python3.9/site-packages/torch/nn/modules/module.py:1194\u001b[0m, in \u001b[0;36mModule._call_impl\u001b[0;34m(self, *input, **kwargs)\u001b[0m\n\u001b[1;32m   1190\u001b[0m \u001b[38;5;66;03m# If we don't have any hooks, we want to skip the rest of the logic in\u001b[39;00m\n\u001b[1;32m   1191\u001b[0m \u001b[38;5;66;03m# this function, and just call forward.\u001b[39;00m\n\u001b[1;32m   1192\u001b[0m \u001b[38;5;28;01mif\u001b[39;00m \u001b[38;5;129;01mnot\u001b[39;00m (\u001b[38;5;28mself\u001b[39m\u001b[38;5;241m.\u001b[39m_backward_hooks \u001b[38;5;129;01mor\u001b[39;00m \u001b[38;5;28mself\u001b[39m\u001b[38;5;241m.\u001b[39m_forward_hooks \u001b[38;5;129;01mor\u001b[39;00m \u001b[38;5;28mself\u001b[39m\u001b[38;5;241m.\u001b[39m_forward_pre_hooks \u001b[38;5;129;01mor\u001b[39;00m _global_backward_hooks\n\u001b[1;32m   1193\u001b[0m         \u001b[38;5;129;01mor\u001b[39;00m _global_forward_hooks \u001b[38;5;129;01mor\u001b[39;00m _global_forward_pre_hooks):\n\u001b[0;32m-> 1194\u001b[0m     \u001b[38;5;28;01mreturn\u001b[39;00m \u001b[43mforward_call\u001b[49m\u001b[43m(\u001b[49m\u001b[38;5;241;43m*\u001b[39;49m\u001b[38;5;28;43minput\u001b[39;49m\u001b[43m,\u001b[49m\u001b[43m \u001b[49m\u001b[38;5;241;43m*\u001b[39;49m\u001b[38;5;241;43m*\u001b[39;49m\u001b[43mkwargs\u001b[49m\u001b[43m)\u001b[49m\n\u001b[1;32m   1195\u001b[0m \u001b[38;5;66;03m# Do not call functions when jit is used\u001b[39;00m\n\u001b[1;32m   1196\u001b[0m full_backward_hooks, non_full_backward_hooks \u001b[38;5;241m=\u001b[39m [], []\n",
      "File \u001b[0;32m/storage/achaudhuri/envs/anaconda3/envs/askem/lib/python3.9/site-packages/pyro/infer/predictive.py:273\u001b[0m, in \u001b[0;36mPredictive.forward\u001b[0;34m(self, *args, **kwargs)\u001b[0m\n\u001b[1;32m    263\u001b[0m     return_sites \u001b[38;5;241m=\u001b[39m \u001b[38;5;28;01mNone\u001b[39;00m \u001b[38;5;28;01mif\u001b[39;00m \u001b[38;5;129;01mnot\u001b[39;00m return_sites \u001b[38;5;28;01melse\u001b[39;00m return_sites\n\u001b[1;32m    264\u001b[0m     posterior_samples \u001b[38;5;241m=\u001b[39m _predictive(\n\u001b[1;32m    265\u001b[0m         \u001b[38;5;28mself\u001b[39m\u001b[38;5;241m.\u001b[39mguide,\n\u001b[1;32m    266\u001b[0m         posterior_samples,\n\u001b[0;32m   (...)\u001b[0m\n\u001b[1;32m    271\u001b[0m         model_kwargs\u001b[38;5;241m=\u001b[39mkwargs,\n\u001b[1;32m    272\u001b[0m     )\n\u001b[0;32m--> 273\u001b[0m \u001b[38;5;28;01mreturn\u001b[39;00m \u001b[43m_predictive\u001b[49m\u001b[43m(\u001b[49m\n\u001b[1;32m    274\u001b[0m \u001b[43m    \u001b[49m\u001b[38;5;28;43mself\u001b[39;49m\u001b[38;5;241;43m.\u001b[39;49m\u001b[43mmodel\u001b[49m\u001b[43m,\u001b[49m\n\u001b[1;32m    275\u001b[0m \u001b[43m    \u001b[49m\u001b[43mposterior_samples\u001b[49m\u001b[43m,\u001b[49m\n\u001b[1;32m    276\u001b[0m \u001b[43m    \u001b[49m\u001b[38;5;28;43mself\u001b[39;49m\u001b[38;5;241;43m.\u001b[39;49m\u001b[43mnum_samples\u001b[49m\u001b[43m,\u001b[49m\n\u001b[1;32m    277\u001b[0m \u001b[43m    \u001b[49m\u001b[43mreturn_sites\u001b[49m\u001b[38;5;241;43m=\u001b[39;49m\u001b[43mreturn_sites\u001b[49m\u001b[43m,\u001b[49m\n\u001b[1;32m    278\u001b[0m \u001b[43m    \u001b[49m\u001b[43mparallel\u001b[49m\u001b[38;5;241;43m=\u001b[39;49m\u001b[38;5;28;43mself\u001b[39;49m\u001b[38;5;241;43m.\u001b[39;49m\u001b[43mparallel\u001b[49m\u001b[43m,\u001b[49m\n\u001b[1;32m    279\u001b[0m \u001b[43m    \u001b[49m\u001b[43mmodel_args\u001b[49m\u001b[38;5;241;43m=\u001b[39;49m\u001b[43margs\u001b[49m\u001b[43m,\u001b[49m\n\u001b[1;32m    280\u001b[0m \u001b[43m    \u001b[49m\u001b[43mmodel_kwargs\u001b[49m\u001b[38;5;241;43m=\u001b[39;49m\u001b[43mkwargs\u001b[49m\u001b[43m,\u001b[49m\n\u001b[1;32m    281\u001b[0m \u001b[43m\u001b[49m\u001b[43m)\u001b[49m\n",
      "File \u001b[0;32m/storage/achaudhuri/envs/anaconda3/envs/askem/lib/python3.9/site-packages/pyro/infer/predictive.py:127\u001b[0m, in \u001b[0;36m_predictive\u001b[0;34m(model, posterior_samples, num_samples, return_sites, return_trace, parallel, model_args, model_kwargs)\u001b[0m\n\u001b[1;32m    124\u001b[0m     return_site_shapes[\u001b[38;5;124m\"\u001b[39m\u001b[38;5;124m_RETURN\u001b[39m\u001b[38;5;124m\"\u001b[39m] \u001b[38;5;241m=\u001b[39m shape\n\u001b[1;32m    126\u001b[0m \u001b[38;5;28;01mif\u001b[39;00m \u001b[38;5;129;01mnot\u001b[39;00m parallel:\n\u001b[0;32m--> 127\u001b[0m     \u001b[38;5;28;01mreturn\u001b[39;00m \u001b[43m_predictive_sequential\u001b[49m\u001b[43m(\u001b[49m\n\u001b[1;32m    128\u001b[0m \u001b[43m        \u001b[49m\u001b[43mmodel\u001b[49m\u001b[43m,\u001b[49m\n\u001b[1;32m    129\u001b[0m \u001b[43m        \u001b[49m\u001b[43mposterior_samples\u001b[49m\u001b[43m,\u001b[49m\n\u001b[1;32m    130\u001b[0m \u001b[43m        \u001b[49m\u001b[43mmodel_args\u001b[49m\u001b[43m,\u001b[49m\n\u001b[1;32m    131\u001b[0m \u001b[43m        \u001b[49m\u001b[43mmodel_kwargs\u001b[49m\u001b[43m,\u001b[49m\n\u001b[1;32m    132\u001b[0m \u001b[43m        \u001b[49m\u001b[43mnum_samples\u001b[49m\u001b[43m,\u001b[49m\n\u001b[1;32m    133\u001b[0m \u001b[43m        \u001b[49m\u001b[43mreturn_site_shapes\u001b[49m\u001b[43m,\u001b[49m\n\u001b[1;32m    134\u001b[0m \u001b[43m        \u001b[49m\u001b[43mreturn_trace\u001b[49m\u001b[38;5;241;43m=\u001b[39;49m\u001b[38;5;28;43;01mFalse\u001b[39;49;00m\u001b[43m,\u001b[49m\n\u001b[1;32m    135\u001b[0m \u001b[43m    \u001b[49m\u001b[43m)\u001b[49m\n\u001b[1;32m    137\u001b[0m trace \u001b[38;5;241m=\u001b[39m poutine\u001b[38;5;241m.\u001b[39mtrace(\n\u001b[1;32m    138\u001b[0m     poutine\u001b[38;5;241m.\u001b[39mcondition(vectorize(model), reshaped_samples)\n\u001b[1;32m    139\u001b[0m )\u001b[38;5;241m.\u001b[39mget_trace(\u001b[38;5;241m*\u001b[39mmodel_args, \u001b[38;5;241m*\u001b[39m\u001b[38;5;241m*\u001b[39mmodel_kwargs)\n\u001b[1;32m    140\u001b[0m predictions \u001b[38;5;241m=\u001b[39m {}\n",
      "File \u001b[0;32m/storage/achaudhuri/envs/anaconda3/envs/askem/lib/python3.9/site-packages/pyro/infer/predictive.py:48\u001b[0m, in \u001b[0;36m_predictive_sequential\u001b[0;34m(model, posterior_samples, model_args, model_kwargs, num_samples, return_site_shapes, return_trace)\u001b[0m\n\u001b[1;32m     44\u001b[0m samples \u001b[38;5;241m=\u001b[39m [\n\u001b[1;32m     45\u001b[0m     {k: v[i] \u001b[38;5;28;01mfor\u001b[39;00m k, v \u001b[38;5;129;01min\u001b[39;00m posterior_samples\u001b[38;5;241m.\u001b[39mitems()} \u001b[38;5;28;01mfor\u001b[39;00m i \u001b[38;5;129;01min\u001b[39;00m \u001b[38;5;28mrange\u001b[39m(num_samples)\n\u001b[1;32m     46\u001b[0m ]\n\u001b[1;32m     47\u001b[0m \u001b[38;5;28;01mfor\u001b[39;00m i \u001b[38;5;129;01min\u001b[39;00m \u001b[38;5;28mrange\u001b[39m(num_samples):\n\u001b[0;32m---> 48\u001b[0m     trace \u001b[38;5;241m=\u001b[39m \u001b[43mpoutine\u001b[49m\u001b[38;5;241;43m.\u001b[39;49m\u001b[43mtrace\u001b[49m\u001b[43m(\u001b[49m\u001b[43mpoutine\u001b[49m\u001b[38;5;241;43m.\u001b[39;49m\u001b[43mcondition\u001b[49m\u001b[43m(\u001b[49m\u001b[43mmodel\u001b[49m\u001b[43m,\u001b[49m\u001b[43m \u001b[49m\u001b[43msamples\u001b[49m\u001b[43m[\u001b[49m\u001b[43mi\u001b[49m\u001b[43m]\u001b[49m\u001b[43m)\u001b[49m\u001b[43m)\u001b[49m\u001b[38;5;241;43m.\u001b[39;49m\u001b[43mget_trace\u001b[49m\u001b[43m(\u001b[49m\n\u001b[1;32m     49\u001b[0m \u001b[43m        \u001b[49m\u001b[38;5;241;43m*\u001b[39;49m\u001b[43mmodel_args\u001b[49m\u001b[43m,\u001b[49m\u001b[43m \u001b[49m\u001b[38;5;241;43m*\u001b[39;49m\u001b[38;5;241;43m*\u001b[39;49m\u001b[43mmodel_kwargs\u001b[49m\n\u001b[1;32m     50\u001b[0m \u001b[43m    \u001b[49m\u001b[43m)\u001b[49m\n\u001b[1;32m     51\u001b[0m     \u001b[38;5;28;01mif\u001b[39;00m return_trace:\n\u001b[1;32m     52\u001b[0m         collected\u001b[38;5;241m.\u001b[39mappend(trace)\n",
      "File \u001b[0;32m/storage/achaudhuri/envs/anaconda3/envs/askem/lib/python3.9/site-packages/pyro/poutine/trace_messenger.py:198\u001b[0m, in \u001b[0;36mTraceHandler.get_trace\u001b[0;34m(self, *args, **kwargs)\u001b[0m\n\u001b[1;32m    190\u001b[0m \u001b[38;5;28;01mdef\u001b[39;00m \u001b[38;5;21mget_trace\u001b[39m(\u001b[38;5;28mself\u001b[39m, \u001b[38;5;241m*\u001b[39margs, \u001b[38;5;241m*\u001b[39m\u001b[38;5;241m*\u001b[39mkwargs):\n\u001b[1;32m    191\u001b[0m     \u001b[38;5;124;03m\"\"\"\u001b[39;00m\n\u001b[1;32m    192\u001b[0m \u001b[38;5;124;03m    :returns: data structure\u001b[39;00m\n\u001b[1;32m    193\u001b[0m \u001b[38;5;124;03m    :rtype: pyro.poutine.Trace\u001b[39;00m\n\u001b[0;32m   (...)\u001b[0m\n\u001b[1;32m    196\u001b[0m \u001b[38;5;124;03m    Calls this poutine and returns its trace instead of the function's return value.\u001b[39;00m\n\u001b[1;32m    197\u001b[0m \u001b[38;5;124;03m    \"\"\"\u001b[39;00m\n\u001b[0;32m--> 198\u001b[0m     \u001b[38;5;28;43mself\u001b[39;49m\u001b[43m(\u001b[49m\u001b[38;5;241;43m*\u001b[39;49m\u001b[43margs\u001b[49m\u001b[43m,\u001b[49m\u001b[43m \u001b[49m\u001b[38;5;241;43m*\u001b[39;49m\u001b[38;5;241;43m*\u001b[39;49m\u001b[43mkwargs\u001b[49m\u001b[43m)\u001b[49m\n\u001b[1;32m    199\u001b[0m     \u001b[38;5;28;01mreturn\u001b[39;00m \u001b[38;5;28mself\u001b[39m\u001b[38;5;241m.\u001b[39mmsngr\u001b[38;5;241m.\u001b[39mget_trace()\n",
      "File \u001b[0;32m/storage/achaudhuri/envs/anaconda3/envs/askem/lib/python3.9/site-packages/pyro/poutine/trace_messenger.py:174\u001b[0m, in \u001b[0;36mTraceHandler.__call__\u001b[0;34m(self, *args, **kwargs)\u001b[0m\n\u001b[1;32m    170\u001b[0m \u001b[38;5;28mself\u001b[39m\u001b[38;5;241m.\u001b[39mmsngr\u001b[38;5;241m.\u001b[39mtrace\u001b[38;5;241m.\u001b[39madd_node(\n\u001b[1;32m    171\u001b[0m     \u001b[38;5;124m\"\u001b[39m\u001b[38;5;124m_INPUT\u001b[39m\u001b[38;5;124m\"\u001b[39m, name\u001b[38;5;241m=\u001b[39m\u001b[38;5;124m\"\u001b[39m\u001b[38;5;124m_INPUT\u001b[39m\u001b[38;5;124m\"\u001b[39m, \u001b[38;5;28mtype\u001b[39m\u001b[38;5;241m=\u001b[39m\u001b[38;5;124m\"\u001b[39m\u001b[38;5;124margs\u001b[39m\u001b[38;5;124m\"\u001b[39m, args\u001b[38;5;241m=\u001b[39margs, kwargs\u001b[38;5;241m=\u001b[39mkwargs\n\u001b[1;32m    172\u001b[0m )\n\u001b[1;32m    173\u001b[0m \u001b[38;5;28;01mtry\u001b[39;00m:\n\u001b[0;32m--> 174\u001b[0m     ret \u001b[38;5;241m=\u001b[39m \u001b[38;5;28;43mself\u001b[39;49m\u001b[38;5;241;43m.\u001b[39;49m\u001b[43mfn\u001b[49m\u001b[43m(\u001b[49m\u001b[38;5;241;43m*\u001b[39;49m\u001b[43margs\u001b[49m\u001b[43m,\u001b[49m\u001b[43m \u001b[49m\u001b[38;5;241;43m*\u001b[39;49m\u001b[38;5;241;43m*\u001b[39;49m\u001b[43mkwargs\u001b[49m\u001b[43m)\u001b[49m\n\u001b[1;32m    175\u001b[0m \u001b[38;5;28;01mexcept\u001b[39;00m (\u001b[38;5;167;01mValueError\u001b[39;00m, \u001b[38;5;167;01mRuntimeError\u001b[39;00m) \u001b[38;5;28;01mas\u001b[39;00m e:\n\u001b[1;32m    176\u001b[0m     exc_type, exc_value, traceback \u001b[38;5;241m=\u001b[39m sys\u001b[38;5;241m.\u001b[39mexc_info()\n",
      "File \u001b[0;32m/storage/achaudhuri/envs/anaconda3/envs/askem/lib/python3.9/site-packages/pyro/poutine/messenger.py:12\u001b[0m, in \u001b[0;36m_context_wrap\u001b[0;34m(context, fn, *args, **kwargs)\u001b[0m\n\u001b[1;32m     10\u001b[0m \u001b[38;5;28;01mdef\u001b[39;00m \u001b[38;5;21m_context_wrap\u001b[39m(context, fn, \u001b[38;5;241m*\u001b[39margs, \u001b[38;5;241m*\u001b[39m\u001b[38;5;241m*\u001b[39mkwargs):\n\u001b[1;32m     11\u001b[0m     \u001b[38;5;28;01mwith\u001b[39;00m context:\n\u001b[0;32m---> 12\u001b[0m         \u001b[38;5;28;01mreturn\u001b[39;00m \u001b[43mfn\u001b[49m\u001b[43m(\u001b[49m\u001b[38;5;241;43m*\u001b[39;49m\u001b[43margs\u001b[49m\u001b[43m,\u001b[49m\u001b[43m \u001b[49m\u001b[38;5;241;43m*\u001b[39;49m\u001b[38;5;241;43m*\u001b[39;49m\u001b[43mkwargs\u001b[49m\u001b[43m)\u001b[49m\n",
      "File \u001b[0;32m/storage/achaudhuri/envs/anaconda3/envs/askem/lib/python3.9/site-packages/torch/autograd/grad_mode.py:27\u001b[0m, in \u001b[0;36m_DecoratorContextManager.__call__.<locals>.decorate_context\u001b[0;34m(*args, **kwargs)\u001b[0m\n\u001b[1;32m     24\u001b[0m \u001b[38;5;129m@functools\u001b[39m\u001b[38;5;241m.\u001b[39mwraps(func)\n\u001b[1;32m     25\u001b[0m \u001b[38;5;28;01mdef\u001b[39;00m \u001b[38;5;21mdecorate_context\u001b[39m(\u001b[38;5;241m*\u001b[39margs, \u001b[38;5;241m*\u001b[39m\u001b[38;5;241m*\u001b[39mkwargs):\n\u001b[1;32m     26\u001b[0m     \u001b[38;5;28;01mwith\u001b[39;00m \u001b[38;5;28mself\u001b[39m\u001b[38;5;241m.\u001b[39mclone():\n\u001b[0;32m---> 27\u001b[0m         \u001b[38;5;28;01mreturn\u001b[39;00m \u001b[43mfunc\u001b[49m\u001b[43m(\u001b[49m\u001b[38;5;241;43m*\u001b[39;49m\u001b[43margs\u001b[49m\u001b[43m,\u001b[49m\u001b[43m \u001b[49m\u001b[38;5;241;43m*\u001b[39;49m\u001b[38;5;241;43m*\u001b[39;49m\u001b[43mkwargs\u001b[49m\u001b[43m)\u001b[49m\n",
      "File \u001b[0;32m/storage/achaudhuri/envs/anaconda3/envs/askem/lib/python3.9/site-packages/pyro/poutine/messenger.py:12\u001b[0m, in \u001b[0;36m_context_wrap\u001b[0;34m(context, fn, *args, **kwargs)\u001b[0m\n\u001b[1;32m     10\u001b[0m \u001b[38;5;28;01mdef\u001b[39;00m \u001b[38;5;21m_context_wrap\u001b[39m(context, fn, \u001b[38;5;241m*\u001b[39margs, \u001b[38;5;241m*\u001b[39m\u001b[38;5;241m*\u001b[39mkwargs):\n\u001b[1;32m     11\u001b[0m     \u001b[38;5;28;01mwith\u001b[39;00m context:\n\u001b[0;32m---> 12\u001b[0m         \u001b[38;5;28;01mreturn\u001b[39;00m \u001b[43mfn\u001b[49m\u001b[43m(\u001b[49m\u001b[38;5;241;43m*\u001b[39;49m\u001b[43margs\u001b[49m\u001b[43m,\u001b[49m\u001b[43m \u001b[49m\u001b[38;5;241;43m*\u001b[39;49m\u001b[38;5;241;43m*\u001b[39;49m\u001b[43mkwargs\u001b[49m\u001b[43m)\u001b[49m\n",
      "File \u001b[0;32m/storage/achaudhuri/envs/anaconda3/envs/askem/lib/python3.9/site-packages/pyro/poutine/messenger.py:12\u001b[0m, in \u001b[0;36m_context_wrap\u001b[0;34m(context, fn, *args, **kwargs)\u001b[0m\n\u001b[1;32m     10\u001b[0m \u001b[38;5;28;01mdef\u001b[39;00m \u001b[38;5;21m_context_wrap\u001b[39m(context, fn, \u001b[38;5;241m*\u001b[39margs, \u001b[38;5;241m*\u001b[39m\u001b[38;5;241m*\u001b[39mkwargs):\n\u001b[1;32m     11\u001b[0m     \u001b[38;5;28;01mwith\u001b[39;00m context:\n\u001b[0;32m---> 12\u001b[0m         \u001b[38;5;28;01mreturn\u001b[39;00m \u001b[43mfn\u001b[49m\u001b[43m(\u001b[49m\u001b[38;5;241;43m*\u001b[39;49m\u001b[43margs\u001b[49m\u001b[43m,\u001b[49m\u001b[43m \u001b[49m\u001b[38;5;241;43m*\u001b[39;49m\u001b[38;5;241;43m*\u001b[39;49m\u001b[43mkwargs\u001b[49m\u001b[43m)\u001b[49m\n",
      "File \u001b[0;32m/storage/achaudhuri/envs/anaconda3/envs/askem/lib/python3.9/site-packages/pyro/nn/module.py:448\u001b[0m, in \u001b[0;36mPyroModule.__call__\u001b[0;34m(self, *args, **kwargs)\u001b[0m\n\u001b[1;32m    446\u001b[0m \u001b[38;5;28;01mdef\u001b[39;00m \u001b[38;5;21m__call__\u001b[39m(\u001b[38;5;28mself\u001b[39m, \u001b[38;5;241m*\u001b[39margs, \u001b[38;5;241m*\u001b[39m\u001b[38;5;241m*\u001b[39mkwargs):\n\u001b[1;32m    447\u001b[0m     \u001b[38;5;28;01mwith\u001b[39;00m \u001b[38;5;28mself\u001b[39m\u001b[38;5;241m.\u001b[39m_pyro_context:\n\u001b[0;32m--> 448\u001b[0m         result \u001b[38;5;241m=\u001b[39m \u001b[38;5;28;43msuper\u001b[39;49m\u001b[43m(\u001b[49m\u001b[43m)\u001b[49m\u001b[38;5;241;43m.\u001b[39;49m\u001b[38;5;21;43m__call__\u001b[39;49m\u001b[43m(\u001b[49m\u001b[38;5;241;43m*\u001b[39;49m\u001b[43margs\u001b[49m\u001b[43m,\u001b[49m\u001b[43m \u001b[49m\u001b[38;5;241;43m*\u001b[39;49m\u001b[38;5;241;43m*\u001b[39;49m\u001b[43mkwargs\u001b[49m\u001b[43m)\u001b[49m\n\u001b[1;32m    449\u001b[0m     \u001b[38;5;28;01mif\u001b[39;00m (\n\u001b[1;32m    450\u001b[0m         pyro\u001b[38;5;241m.\u001b[39msettings\u001b[38;5;241m.\u001b[39mget(\u001b[38;5;124m\"\u001b[39m\u001b[38;5;124mvalidate_poutine\u001b[39m\u001b[38;5;124m\"\u001b[39m)\n\u001b[1;32m    451\u001b[0m         \u001b[38;5;129;01mand\u001b[39;00m \u001b[38;5;129;01mnot\u001b[39;00m \u001b[38;5;28mself\u001b[39m\u001b[38;5;241m.\u001b[39m_pyro_context\u001b[38;5;241m.\u001b[39mactive\n\u001b[1;32m    452\u001b[0m         \u001b[38;5;129;01mand\u001b[39;00m _is_module_local_param_enabled()\n\u001b[1;32m    453\u001b[0m     ):\n\u001b[1;32m    454\u001b[0m         \u001b[38;5;28mself\u001b[39m\u001b[38;5;241m.\u001b[39m_check_module_local_param_usage()\n",
      "File \u001b[0;32m/storage/achaudhuri/envs/anaconda3/envs/askem/lib/python3.9/site-packages/torch/nn/modules/module.py:1194\u001b[0m, in \u001b[0;36mModule._call_impl\u001b[0;34m(self, *input, **kwargs)\u001b[0m\n\u001b[1;32m   1190\u001b[0m \u001b[38;5;66;03m# If we don't have any hooks, we want to skip the rest of the logic in\u001b[39;00m\n\u001b[1;32m   1191\u001b[0m \u001b[38;5;66;03m# this function, and just call forward.\u001b[39;00m\n\u001b[1;32m   1192\u001b[0m \u001b[38;5;28;01mif\u001b[39;00m \u001b[38;5;129;01mnot\u001b[39;00m (\u001b[38;5;28mself\u001b[39m\u001b[38;5;241m.\u001b[39m_backward_hooks \u001b[38;5;129;01mor\u001b[39;00m \u001b[38;5;28mself\u001b[39m\u001b[38;5;241m.\u001b[39m_forward_hooks \u001b[38;5;129;01mor\u001b[39;00m \u001b[38;5;28mself\u001b[39m\u001b[38;5;241m.\u001b[39m_forward_pre_hooks \u001b[38;5;129;01mor\u001b[39;00m _global_backward_hooks\n\u001b[1;32m   1193\u001b[0m         \u001b[38;5;129;01mor\u001b[39;00m _global_forward_hooks \u001b[38;5;129;01mor\u001b[39;00m _global_forward_pre_hooks):\n\u001b[0;32m-> 1194\u001b[0m     \u001b[38;5;28;01mreturn\u001b[39;00m \u001b[43mforward_call\u001b[49m\u001b[43m(\u001b[49m\u001b[38;5;241;43m*\u001b[39;49m\u001b[38;5;28;43minput\u001b[39;49m\u001b[43m,\u001b[49m\u001b[43m \u001b[49m\u001b[38;5;241;43m*\u001b[39;49m\u001b[38;5;241;43m*\u001b[39;49m\u001b[43mkwargs\u001b[49m\u001b[43m)\u001b[49m\n\u001b[1;32m   1195\u001b[0m \u001b[38;5;66;03m# Do not call functions when jit is used\u001b[39;00m\n\u001b[1;32m   1196\u001b[0m full_backward_hooks, non_full_backward_hooks \u001b[38;5;241m=\u001b[39m [], []\n",
      "File \u001b[0;32m/storage/achaudhuri/covid_askem/pyciemss/notebook/evaluation/../../src/pyciemss/ODE/base.py:64\u001b[0m, in \u001b[0;36mODE.forward\u001b[0;34m(self, initial_state, tspan, data)\u001b[0m\n\u001b[1;32m     60\u001b[0m \u001b[38;5;28mself\u001b[39m\u001b[38;5;241m.\u001b[39mparam_prior()\n\u001b[1;32m     62\u001b[0m \u001b[38;5;66;03m# Simulate from ODE.\u001b[39;00m\n\u001b[1;32m     63\u001b[0m \u001b[38;5;66;03m# Constant deltaT method like `euler` necessary to get interventions without name collision.\u001b[39;00m\n\u001b[0;32m---> 64\u001b[0m solution \u001b[38;5;241m=\u001b[39m \u001b[43modeint\u001b[49m\u001b[43m(\u001b[49m\u001b[38;5;28;43mself\u001b[39;49m\u001b[38;5;241;43m.\u001b[39;49m\u001b[43mderiv\u001b[49m\u001b[43m,\u001b[49m\u001b[43m \u001b[49m\u001b[43minitial_state\u001b[49m\u001b[43m,\u001b[49m\u001b[43m \u001b[49m\u001b[43mtspan\u001b[49m\u001b[43m,\u001b[49m\u001b[43m \u001b[49m\u001b[43mmethod\u001b[49m\u001b[38;5;241;43m=\u001b[39;49m\u001b[38;5;124;43m\"\u001b[39;49m\u001b[38;5;124;43meuler\u001b[39;49m\u001b[38;5;124;43m\"\u001b[39;49m\u001b[43m)\u001b[49m\n\u001b[1;32m     66\u001b[0m \u001b[38;5;66;03m# Add Observation noise\u001b[39;00m\n\u001b[1;32m     67\u001b[0m observations \u001b[38;5;241m=\u001b[39m \u001b[38;5;28mself\u001b[39m\u001b[38;5;241m.\u001b[39mobservation_model(solution, data)\n",
      "File \u001b[0;32m/storage/achaudhuri/envs/anaconda3/envs/askem/lib/python3.9/site-packages/torchdiffeq/_impl/odeint.py:77\u001b[0m, in \u001b[0;36modeint\u001b[0;34m(func, y0, t, rtol, atol, method, options, event_fn)\u001b[0m\n\u001b[1;32m     74\u001b[0m solver \u001b[38;5;241m=\u001b[39m SOLVERS[method](func\u001b[38;5;241m=\u001b[39mfunc, y0\u001b[38;5;241m=\u001b[39my0, rtol\u001b[38;5;241m=\u001b[39mrtol, atol\u001b[38;5;241m=\u001b[39matol, \u001b[38;5;241m*\u001b[39m\u001b[38;5;241m*\u001b[39moptions)\n\u001b[1;32m     76\u001b[0m \u001b[38;5;28;01mif\u001b[39;00m event_fn \u001b[38;5;129;01mis\u001b[39;00m \u001b[38;5;28;01mNone\u001b[39;00m:\n\u001b[0;32m---> 77\u001b[0m     solution \u001b[38;5;241m=\u001b[39m \u001b[43msolver\u001b[49m\u001b[38;5;241;43m.\u001b[39;49m\u001b[43mintegrate\u001b[49m\u001b[43m(\u001b[49m\u001b[43mt\u001b[49m\u001b[43m)\u001b[49m\n\u001b[1;32m     78\u001b[0m \u001b[38;5;28;01melse\u001b[39;00m:\n\u001b[1;32m     79\u001b[0m     event_t, solution \u001b[38;5;241m=\u001b[39m solver\u001b[38;5;241m.\u001b[39mintegrate_until_event(t[\u001b[38;5;241m0\u001b[39m], event_fn)\n",
      "File \u001b[0;32m/storage/achaudhuri/envs/anaconda3/envs/askem/lib/python3.9/site-packages/torchdiffeq/_impl/solvers.py:105\u001b[0m, in \u001b[0;36mFixedGridODESolver.integrate\u001b[0;34m(self, t)\u001b[0m\n\u001b[1;32m    103\u001b[0m \u001b[38;5;28;01mfor\u001b[39;00m t0, t1 \u001b[38;5;129;01min\u001b[39;00m \u001b[38;5;28mzip\u001b[39m(time_grid[:\u001b[38;5;241m-\u001b[39m\u001b[38;5;241m1\u001b[39m], time_grid[\u001b[38;5;241m1\u001b[39m:]):\n\u001b[1;32m    104\u001b[0m     dt \u001b[38;5;241m=\u001b[39m t1 \u001b[38;5;241m-\u001b[39m t0\n\u001b[0;32m--> 105\u001b[0m     dy, f0 \u001b[38;5;241m=\u001b[39m \u001b[38;5;28;43mself\u001b[39;49m\u001b[38;5;241;43m.\u001b[39;49m\u001b[43m_step_func\u001b[49m\u001b[43m(\u001b[49m\u001b[38;5;28;43mself\u001b[39;49m\u001b[38;5;241;43m.\u001b[39;49m\u001b[43mfunc\u001b[49m\u001b[43m,\u001b[49m\u001b[43m \u001b[49m\u001b[43mt0\u001b[49m\u001b[43m,\u001b[49m\u001b[43m \u001b[49m\u001b[43mdt\u001b[49m\u001b[43m,\u001b[49m\u001b[43m \u001b[49m\u001b[43mt1\u001b[49m\u001b[43m,\u001b[49m\u001b[43m \u001b[49m\u001b[43my0\u001b[49m\u001b[43m)\u001b[49m\n\u001b[1;32m    106\u001b[0m     y1 \u001b[38;5;241m=\u001b[39m y0 \u001b[38;5;241m+\u001b[39m dy\n\u001b[1;32m    108\u001b[0m     \u001b[38;5;28;01mwhile\u001b[39;00m j \u001b[38;5;241m<\u001b[39m \u001b[38;5;28mlen\u001b[39m(t) \u001b[38;5;129;01mand\u001b[39;00m t1 \u001b[38;5;241m>\u001b[39m\u001b[38;5;241m=\u001b[39m t[j]:\n",
      "File \u001b[0;32m/storage/achaudhuri/envs/anaconda3/envs/askem/lib/python3.9/site-packages/torchdiffeq/_impl/fixed_grid.py:10\u001b[0m, in \u001b[0;36mEuler._step_func\u001b[0;34m(self, func, t0, dt, t1, y0)\u001b[0m\n\u001b[1;32m      9\u001b[0m \u001b[38;5;28;01mdef\u001b[39;00m \u001b[38;5;21m_step_func\u001b[39m(\u001b[38;5;28mself\u001b[39m, func, t0, dt, t1, y0):\n\u001b[0;32m---> 10\u001b[0m     f0 \u001b[38;5;241m=\u001b[39m \u001b[43mfunc\u001b[49m\u001b[43m(\u001b[49m\u001b[43mt0\u001b[49m\u001b[43m,\u001b[49m\u001b[43m \u001b[49m\u001b[43my0\u001b[49m\u001b[43m,\u001b[49m\u001b[43m \u001b[49m\u001b[43mperturb\u001b[49m\u001b[38;5;241;43m=\u001b[39;49m\u001b[43mPerturb\u001b[49m\u001b[38;5;241;43m.\u001b[39;49m\u001b[43mNEXT\u001b[49m\u001b[43m \u001b[49m\u001b[38;5;28;43;01mif\u001b[39;49;00m\u001b[43m \u001b[49m\u001b[38;5;28;43mself\u001b[39;49m\u001b[38;5;241;43m.\u001b[39;49m\u001b[43mperturb\u001b[49m\u001b[43m \u001b[49m\u001b[38;5;28;43;01melse\u001b[39;49;00m\u001b[43m \u001b[49m\u001b[43mPerturb\u001b[49m\u001b[38;5;241;43m.\u001b[39;49m\u001b[43mNONE\u001b[49m\u001b[43m)\u001b[49m\n\u001b[1;32m     11\u001b[0m     \u001b[38;5;28;01mreturn\u001b[39;00m dt \u001b[38;5;241m*\u001b[39m f0, f0\n",
      "File \u001b[0;32m/storage/achaudhuri/envs/anaconda3/envs/askem/lib/python3.9/site-packages/torch/nn/modules/module.py:1194\u001b[0m, in \u001b[0;36mModule._call_impl\u001b[0;34m(self, *input, **kwargs)\u001b[0m\n\u001b[1;32m   1190\u001b[0m \u001b[38;5;66;03m# If we don't have any hooks, we want to skip the rest of the logic in\u001b[39;00m\n\u001b[1;32m   1191\u001b[0m \u001b[38;5;66;03m# this function, and just call forward.\u001b[39;00m\n\u001b[1;32m   1192\u001b[0m \u001b[38;5;28;01mif\u001b[39;00m \u001b[38;5;129;01mnot\u001b[39;00m (\u001b[38;5;28mself\u001b[39m\u001b[38;5;241m.\u001b[39m_backward_hooks \u001b[38;5;129;01mor\u001b[39;00m \u001b[38;5;28mself\u001b[39m\u001b[38;5;241m.\u001b[39m_forward_hooks \u001b[38;5;129;01mor\u001b[39;00m \u001b[38;5;28mself\u001b[39m\u001b[38;5;241m.\u001b[39m_forward_pre_hooks \u001b[38;5;129;01mor\u001b[39;00m _global_backward_hooks\n\u001b[1;32m   1193\u001b[0m         \u001b[38;5;129;01mor\u001b[39;00m _global_forward_hooks \u001b[38;5;129;01mor\u001b[39;00m _global_forward_pre_hooks):\n\u001b[0;32m-> 1194\u001b[0m     \u001b[38;5;28;01mreturn\u001b[39;00m \u001b[43mforward_call\u001b[49m\u001b[43m(\u001b[49m\u001b[38;5;241;43m*\u001b[39;49m\u001b[38;5;28;43minput\u001b[39;49m\u001b[43m,\u001b[49m\u001b[43m \u001b[49m\u001b[38;5;241;43m*\u001b[39;49m\u001b[38;5;241;43m*\u001b[39;49m\u001b[43mkwargs\u001b[49m\u001b[43m)\u001b[49m\n\u001b[1;32m   1195\u001b[0m \u001b[38;5;66;03m# Do not call functions when jit is used\u001b[39;00m\n\u001b[1;32m   1196\u001b[0m full_backward_hooks, non_full_backward_hooks \u001b[38;5;241m=\u001b[39m [], []\n",
      "File \u001b[0;32m/storage/achaudhuri/envs/anaconda3/envs/askem/lib/python3.9/site-packages/torchdiffeq/_impl/misc.py:189\u001b[0m, in \u001b[0;36m_PerturbFunc.forward\u001b[0;34m(self, t, y, perturb)\u001b[0m\n\u001b[1;32m    186\u001b[0m \u001b[38;5;28;01melse\u001b[39;00m:\n\u001b[1;32m    187\u001b[0m     \u001b[38;5;66;03m# Do nothing.\u001b[39;00m\n\u001b[1;32m    188\u001b[0m     \u001b[38;5;28;01mpass\u001b[39;00m\n\u001b[0;32m--> 189\u001b[0m \u001b[38;5;28;01mreturn\u001b[39;00m \u001b[38;5;28;43mself\u001b[39;49m\u001b[38;5;241;43m.\u001b[39;49m\u001b[43mbase_func\u001b[49m\u001b[43m(\u001b[49m\u001b[43mt\u001b[49m\u001b[43m,\u001b[49m\u001b[43m \u001b[49m\u001b[43my\u001b[49m\u001b[43m)\u001b[49m\n",
      "File \u001b[0;32m/storage/achaudhuri/envs/anaconda3/envs/askem/lib/python3.9/site-packages/torch/nn/modules/module.py:1194\u001b[0m, in \u001b[0;36mModule._call_impl\u001b[0;34m(self, *input, **kwargs)\u001b[0m\n\u001b[1;32m   1190\u001b[0m \u001b[38;5;66;03m# If we don't have any hooks, we want to skip the rest of the logic in\u001b[39;00m\n\u001b[1;32m   1191\u001b[0m \u001b[38;5;66;03m# this function, and just call forward.\u001b[39;00m\n\u001b[1;32m   1192\u001b[0m \u001b[38;5;28;01mif\u001b[39;00m \u001b[38;5;129;01mnot\u001b[39;00m (\u001b[38;5;28mself\u001b[39m\u001b[38;5;241m.\u001b[39m_backward_hooks \u001b[38;5;129;01mor\u001b[39;00m \u001b[38;5;28mself\u001b[39m\u001b[38;5;241m.\u001b[39m_forward_hooks \u001b[38;5;129;01mor\u001b[39;00m \u001b[38;5;28mself\u001b[39m\u001b[38;5;241m.\u001b[39m_forward_pre_hooks \u001b[38;5;129;01mor\u001b[39;00m _global_backward_hooks\n\u001b[1;32m   1193\u001b[0m         \u001b[38;5;129;01mor\u001b[39;00m _global_forward_hooks \u001b[38;5;129;01mor\u001b[39;00m _global_forward_pre_hooks):\n\u001b[0;32m-> 1194\u001b[0m     \u001b[38;5;28;01mreturn\u001b[39;00m \u001b[43mforward_call\u001b[49m\u001b[43m(\u001b[49m\u001b[38;5;241;43m*\u001b[39;49m\u001b[38;5;28;43minput\u001b[39;49m\u001b[43m,\u001b[49m\u001b[43m \u001b[49m\u001b[38;5;241;43m*\u001b[39;49m\u001b[38;5;241;43m*\u001b[39;49m\u001b[43mkwargs\u001b[49m\u001b[43m)\u001b[49m\n\u001b[1;32m   1195\u001b[0m \u001b[38;5;66;03m# Do not call functions when jit is used\u001b[39;00m\n\u001b[1;32m   1196\u001b[0m full_backward_hooks, non_full_backward_hooks \u001b[38;5;241m=\u001b[39m [], []\n",
      "File \u001b[0;32m/storage/achaudhuri/envs/anaconda3/envs/askem/lib/python3.9/site-packages/torchdiffeq/_impl/misc.py:138\u001b[0m, in \u001b[0;36m_TupleFunc.forward\u001b[0;34m(self, t, y)\u001b[0m\n\u001b[1;32m    137\u001b[0m \u001b[38;5;28;01mdef\u001b[39;00m \u001b[38;5;21mforward\u001b[39m(\u001b[38;5;28mself\u001b[39m, t, y):\n\u001b[0;32m--> 138\u001b[0m     f \u001b[38;5;241m=\u001b[39m \u001b[38;5;28;43mself\u001b[39;49m\u001b[38;5;241;43m.\u001b[39;49m\u001b[43mbase_func\u001b[49m\u001b[43m(\u001b[49m\u001b[43mt\u001b[49m\u001b[43m,\u001b[49m\u001b[43m \u001b[49m\u001b[43m_flat_to_shape\u001b[49m\u001b[43m(\u001b[49m\u001b[43my\u001b[49m\u001b[43m,\u001b[49m\u001b[43m \u001b[49m\u001b[43m(\u001b[49m\u001b[43m)\u001b[49m\u001b[43m,\u001b[49m\u001b[43m \u001b[49m\u001b[38;5;28;43mself\u001b[39;49m\u001b[38;5;241;43m.\u001b[39;49m\u001b[43mshapes\u001b[49m\u001b[43m)\u001b[49m\u001b[43m)\u001b[49m\n\u001b[1;32m    139\u001b[0m     \u001b[38;5;28;01mreturn\u001b[39;00m torch\u001b[38;5;241m.\u001b[39mcat([f_\u001b[38;5;241m.\u001b[39mreshape(\u001b[38;5;241m-\u001b[39m\u001b[38;5;241m1\u001b[39m) \u001b[38;5;28;01mfor\u001b[39;00m f_ \u001b[38;5;129;01min\u001b[39;00m f])\n",
      "File \u001b[0;32m/storage/achaudhuri/envs/anaconda3/envs/askem/lib/python3.9/site-packages/pyro/nn/module.py:677\u001b[0m, in \u001b[0;36mpyro_method.<locals>.cached_fn\u001b[0;34m(self, *args, **kwargs)\u001b[0m\n\u001b[1;32m    674\u001b[0m \u001b[38;5;129m@functools\u001b[39m\u001b[38;5;241m.\u001b[39mwraps(fn)\n\u001b[1;32m    675\u001b[0m \u001b[38;5;28;01mdef\u001b[39;00m \u001b[38;5;21mcached_fn\u001b[39m(\u001b[38;5;28mself\u001b[39m, \u001b[38;5;241m*\u001b[39margs, \u001b[38;5;241m*\u001b[39m\u001b[38;5;241m*\u001b[39mkwargs):\n\u001b[1;32m    676\u001b[0m     \u001b[38;5;28;01mwith\u001b[39;00m \u001b[38;5;28mself\u001b[39m\u001b[38;5;241m.\u001b[39m_pyro_context:\n\u001b[0;32m--> 677\u001b[0m         \u001b[38;5;28;01mreturn\u001b[39;00m \u001b[43mfn\u001b[49m\u001b[43m(\u001b[49m\u001b[38;5;28;43mself\u001b[39;49m\u001b[43m,\u001b[49m\u001b[43m \u001b[49m\u001b[38;5;241;43m*\u001b[39;49m\u001b[43margs\u001b[49m\u001b[43m,\u001b[49m\u001b[43m \u001b[49m\u001b[38;5;241;43m*\u001b[39;49m\u001b[38;5;241;43m*\u001b[39;49m\u001b[43mkwargs\u001b[49m\u001b[43m)\u001b[49m\n",
      "File \u001b[0;32m/storage/achaudhuri/covid_askem/pyciemss/notebook/evaluation/../../src/pyciemss/ODE/models.py:335\u001b[0m, in \u001b[0;36mSIDARTHEV.deriv\u001b[0;34m(self, t, state)\u001b[0m\n\u001b[1;32m    332\u001b[0m \u001b[38;5;66;03m# Local fluxes exposed to pyro for interventions.\u001b[39;00m\n\u001b[1;32m    333\u001b[0m \u001b[38;5;66;03m# Note: This only works with solvers that use fixed time increments, such as Euler's method. Otherwise, we have name collisions.\u001b[39;00m\n\u001b[1;32m    334\u001b[0m SI_flux_  \u001b[38;5;241m=\u001b[39m pyro\u001b[38;5;241m.\u001b[39mdeterministic(\u001b[38;5;124m\"\u001b[39m\u001b[38;5;124mSI_flux \u001b[39m\u001b[38;5;132;01m%f\u001b[39;00m\u001b[38;5;124m\"\u001b[39m \u001b[38;5;241m%\u001b[39m (t),  \u001b[38;5;28mself\u001b[39m\u001b[38;5;241m.\u001b[39malpha \u001b[38;5;241m*\u001b[39m S \u001b[38;5;241m*\u001b[39m I \u001b[38;5;241m/\u001b[39m \u001b[38;5;28mself\u001b[39m\u001b[38;5;241m.\u001b[39mN)\n\u001b[0;32m--> 335\u001b[0m SD_flux_  \u001b[38;5;241m=\u001b[39m \u001b[43mpyro\u001b[49m\u001b[38;5;241;43m.\u001b[39;49m\u001b[43mdeterministic\u001b[49m\u001b[43m(\u001b[49m\u001b[38;5;124;43m\"\u001b[39;49m\u001b[38;5;124;43mSD_flux \u001b[39;49m\u001b[38;5;132;43;01m%f\u001b[39;49;00m\u001b[38;5;124;43m\"\u001b[39;49m\u001b[43m \u001b[49m\u001b[38;5;241;43m%\u001b[39;49m\u001b[43m \u001b[49m\u001b[43m(\u001b[49m\u001b[43mt\u001b[49m\u001b[43m)\u001b[49m\u001b[43m,\u001b[49m\u001b[43m  \u001b[49m\u001b[38;5;28;43mself\u001b[39;49m\u001b[38;5;241;43m.\u001b[39;49m\u001b[43mbeta\u001b[49m\u001b[43m  \u001b[49m\u001b[38;5;241;43m*\u001b[39;49m\u001b[43m \u001b[49m\u001b[43mS\u001b[49m\u001b[43m \u001b[49m\u001b[38;5;241;43m*\u001b[39;49m\u001b[43m \u001b[49m\u001b[43mD\u001b[49m\u001b[43m \u001b[49m\u001b[38;5;241;43m/\u001b[39;49m\u001b[43m \u001b[49m\u001b[38;5;28;43mself\u001b[39;49m\u001b[38;5;241;43m.\u001b[39;49m\u001b[43mN\u001b[49m\u001b[43m)\u001b[49m\n\u001b[1;32m    336\u001b[0m SA_flux_ \u001b[38;5;241m=\u001b[39m  pyro\u001b[38;5;241m.\u001b[39mdeterministic(\u001b[38;5;124m\"\u001b[39m\u001b[38;5;124mSA_flux \u001b[39m\u001b[38;5;132;01m%f\u001b[39;00m\u001b[38;5;124m\"\u001b[39m \u001b[38;5;241m%\u001b[39m (t),  \u001b[38;5;28mself\u001b[39m\u001b[38;5;241m.\u001b[39mgamma \u001b[38;5;241m*\u001b[39m S \u001b[38;5;241m*\u001b[39m A \u001b[38;5;241m/\u001b[39m \u001b[38;5;28mself\u001b[39m\u001b[38;5;241m.\u001b[39mN)\n\u001b[1;32m    337\u001b[0m SR_flux_ \u001b[38;5;241m=\u001b[39m  pyro\u001b[38;5;241m.\u001b[39mdeterministic(\u001b[38;5;124m\"\u001b[39m\u001b[38;5;124mSR_flux \u001b[39m\u001b[38;5;132;01m%f\u001b[39;00m\u001b[38;5;124m\"\u001b[39m \u001b[38;5;241m%\u001b[39m (t),  \u001b[38;5;28mself\u001b[39m\u001b[38;5;241m.\u001b[39mdelta \u001b[38;5;241m*\u001b[39m S \u001b[38;5;241m*\u001b[39m R \u001b[38;5;241m/\u001b[39m \u001b[38;5;28mself\u001b[39m\u001b[38;5;241m.\u001b[39mN)\n",
      "File \u001b[0;32m/storage/achaudhuri/envs/anaconda3/envs/askem/lib/python3.9/site-packages/pyro/primitives.py:211\u001b[0m, in \u001b[0;36mdeterministic\u001b[0;34m(name, value, event_dim)\u001b[0m\n\u001b[1;32m    192\u001b[0m \u001b[38;5;124;03m\"\"\"\u001b[39;00m\n\u001b[1;32m    193\u001b[0m \u001b[38;5;124;03mDeterministic statement to add a :class:`~pyro.distributions.Delta` site\u001b[39;00m\n\u001b[1;32m    194\u001b[0m \u001b[38;5;124;03mwith name `name` and value `value` to the trace. This is useful when we\u001b[39;00m\n\u001b[0;32m   (...)\u001b[0m\n\u001b[1;32m    206\u001b[0m \u001b[38;5;124;03m:param int event_dim: Optional event dimension, defaults to `value.ndim`.\u001b[39;00m\n\u001b[1;32m    207\u001b[0m \u001b[38;5;124;03m\"\"\"\u001b[39;00m\n\u001b[1;32m    208\u001b[0m event_dim \u001b[38;5;241m=\u001b[39m value\u001b[38;5;241m.\u001b[39mndim \u001b[38;5;28;01mif\u001b[39;00m event_dim \u001b[38;5;129;01mis\u001b[39;00m \u001b[38;5;28;01mNone\u001b[39;00m \u001b[38;5;28;01melse\u001b[39;00m event_dim\n\u001b[1;32m    209\u001b[0m \u001b[38;5;28;01mreturn\u001b[39;00m sample(\n\u001b[1;32m    210\u001b[0m     name,\n\u001b[0;32m--> 211\u001b[0m     \u001b[43mdist\u001b[49m\u001b[38;5;241;43m.\u001b[39;49m\u001b[43mDelta\u001b[49m\u001b[43m(\u001b[49m\u001b[43mvalue\u001b[49m\u001b[43m,\u001b[49m\u001b[43m \u001b[49m\u001b[43mevent_dim\u001b[49m\u001b[38;5;241;43m=\u001b[39;49m\u001b[43mevent_dim\u001b[49m\u001b[43m)\u001b[49m\u001b[38;5;241m.\u001b[39mmask(\u001b[38;5;28;01mFalse\u001b[39;00m),\n\u001b[1;32m    212\u001b[0m     obs\u001b[38;5;241m=\u001b[39mvalue,\n\u001b[1;32m    213\u001b[0m     infer\u001b[38;5;241m=\u001b[39m{\u001b[38;5;124m\"\u001b[39m\u001b[38;5;124m_deterministic\u001b[39m\u001b[38;5;124m\"\u001b[39m: \u001b[38;5;28;01mTrue\u001b[39;00m},\n\u001b[1;32m    214\u001b[0m )\n",
      "File \u001b[0;32m/storage/achaudhuri/envs/anaconda3/envs/askem/lib/python3.9/site-packages/pyro/distributions/distribution.py:24\u001b[0m, in \u001b[0;36mDistributionMeta.__call__\u001b[0;34m(cls, *args, **kwargs)\u001b[0m\n\u001b[1;32m     22\u001b[0m     \u001b[38;5;28;01mif\u001b[39;00m result \u001b[38;5;129;01mis\u001b[39;00m \u001b[38;5;129;01mnot\u001b[39;00m \u001b[38;5;28;01mNone\u001b[39;00m:\n\u001b[1;32m     23\u001b[0m         \u001b[38;5;28;01mreturn\u001b[39;00m result\n\u001b[0;32m---> 24\u001b[0m \u001b[38;5;28;01mreturn\u001b[39;00m \u001b[38;5;28;43msuper\u001b[39;49m\u001b[43m(\u001b[49m\u001b[43m)\u001b[49m\u001b[38;5;241;43m.\u001b[39;49m\u001b[38;5;21;43m__call__\u001b[39;49m\u001b[43m(\u001b[49m\u001b[38;5;241;43m*\u001b[39;49m\u001b[43margs\u001b[49m\u001b[43m,\u001b[49m\u001b[43m \u001b[49m\u001b[38;5;241;43m*\u001b[39;49m\u001b[38;5;241;43m*\u001b[39;49m\u001b[43mkwargs\u001b[49m\u001b[43m)\u001b[49m\n",
      "File \u001b[0;32m/storage/achaudhuri/envs/anaconda3/envs/askem/lib/python3.9/site-packages/pyro/distributions/delta.py:33\u001b[0m, in \u001b[0;36mDelta.__init__\u001b[0;34m(self, v, log_density, event_dim, validate_args)\u001b[0m\n\u001b[1;32m     32\u001b[0m \u001b[38;5;28;01mdef\u001b[39;00m \u001b[38;5;21m__init__\u001b[39m(\u001b[38;5;28mself\u001b[39m, v, log_density\u001b[38;5;241m=\u001b[39m\u001b[38;5;241m0.0\u001b[39m, event_dim\u001b[38;5;241m=\u001b[39m\u001b[38;5;241m0\u001b[39m, validate_args\u001b[38;5;241m=\u001b[39m\u001b[38;5;28;01mNone\u001b[39;00m):\n\u001b[0;32m---> 33\u001b[0m     \u001b[38;5;28;01mif\u001b[39;00m event_dim \u001b[38;5;241m>\u001b[39m \u001b[43mv\u001b[49m\u001b[38;5;241;43m.\u001b[39;49m\u001b[43mdim\u001b[49m():\n\u001b[1;32m     34\u001b[0m         \u001b[38;5;28;01mraise\u001b[39;00m \u001b[38;5;167;01mValueError\u001b[39;00m(\n\u001b[1;32m     35\u001b[0m             \u001b[38;5;124m\"\u001b[39m\u001b[38;5;124mExpected event_dim <= v.dim(), actual \u001b[39m\u001b[38;5;132;01m{}\u001b[39;00m\u001b[38;5;124m vs \u001b[39m\u001b[38;5;132;01m{}\u001b[39;00m\u001b[38;5;124m\"\u001b[39m\u001b[38;5;241m.\u001b[39mformat(\n\u001b[1;32m     36\u001b[0m                 event_dim, v\u001b[38;5;241m.\u001b[39mdim()\n\u001b[1;32m     37\u001b[0m             )\n\u001b[1;32m     38\u001b[0m         )\n\u001b[1;32m     39\u001b[0m     batch_dim \u001b[38;5;241m=\u001b[39m v\u001b[38;5;241m.\u001b[39mdim() \u001b[38;5;241m-\u001b[39m event_dim\n",
      "\u001b[0;31mKeyboardInterrupt\u001b[0m: "
     ]
    }
   ],
   "source": [
    "pyro.set_rng_seed(0)\n",
    "\n",
    "POLICY = np.array([0.025])\n",
    "N_SAMPLES = 50\n",
    "\n",
    "RISK = computeRisk(model=control_model,\n",
    "                 intervention_fun=INTERVENTION,\n",
    "                 qoi=lambda y: max_total_infections_SIDARTHE(y, contexts=[\"I_total_obs\"]),\n",
    "                 risk_measure=alpha_superquantile,\n",
    "                 num_samples=N_SAMPLES,\n",
    "                 model_state=initial_state,\n",
    "                 tspan=tspan,\n",
    "                 guide=None)\n",
    "\n",
    "start_time = time.time()\n",
    "sq_dataCube = RISK.propagate_uncertainty(POLICY)\n",
    "end_time = time.time()\n",
    "forward_time = end_time - start_time\n",
    "time_per_eval = forward_time / N_SAMPLES\n",
    "print(f\"Forward UQ took {forward_time:.2f} seconds total ({forward_time/N_SAMPLES:.2e} seconds per model evaluation).\")\n",
    "sq_qoi = RISK.qoi(sq_dataCube)\n",
    "sq_sv = RISK.risk_measure(sq_qoi)\n",
    "\n",
    "RISK.risk_measure = alpha_quantile\n",
    "q_sv = RISK(POLICY)\n",
    "print(q_sv, sq_sv)"
   ]
  },
  {
   "cell_type": "code",
   "execution_count": null,
   "id": "dead83d2",
   "metadata": {},
   "outputs": [],
   "source": [
    "ax = setup_ax()\n",
    "ax = plot_predictive(sq_dataCube, tspan, ax=ax, color=co[1])\n",
    "ax.axvline(15)\n",
    "sideaxis(ax)"
   ]
  },
  {
   "cell_type": "code",
   "execution_count": null,
   "id": "7fc330e1",
   "metadata": {},
   "outputs": [],
   "source": [
    "bins_hist = 50\n",
    "fig1 = plt.figure()\n",
    "plt.rc('text', usetex=False)\n",
    "plt.rc('font', family='serif', size=18.)\n",
    "cax = plt.gca()\n",
    "sideaxishist(cax)\n",
    "cax.hist(sq_qoi, color=co[2], bins=bins_hist, histtype='stepfilled', alpha=0.5, label='total infections')\n",
    "miny = min(cax.get_ylim())\n",
    "maxy = max(cax.get_ylim())\n",
    "cax.vlines(q_sv, miny, maxy, linestyle='--', linewidth=2.5, label='alpha-quantile', color=co[0])\n",
    "cax.vlines(sq_sv, miny, maxy, linestyle='--', linewidth=2.5, label='alpha-superquantile', color=co[1])\n",
    "cax.set_xlabel('Maximum total infections over 100 days', size=14)\n",
    "cax.legend(loc='upper right', prop={'size': 14})"
   ]
  },
  {
   "cell_type": "markdown",
   "id": "2a4005a9",
   "metadata": {},
   "source": [
    "## Risk-based optimization under uncertainty with intervention on $\\phi$\n",
    "**NOTE:** This is a demonstration of the interface, optimization is not run to convergence nor are enough samples generated to accurately estimate the risk, so take the results with a grain of salt."
   ]
  },
  {
   "cell_type": "code",
   "execution_count": null,
   "id": "ba6b2d82",
   "metadata": {},
   "outputs": [],
   "source": [
    "# Define problem specifics.\n",
    "RISK_BOUND = 1./3.\n",
    "RISK_ALPHA = 0.95\n",
    "X_MIN = 0.\n",
    "X_MAX = 3.\n",
    "N_SAMPLES = int(5e2)\n",
    "MAXITER = 0\n",
    "MAXFEVAL = 30\n",
    "\n",
    "INIT_GUESS = 0.025\n",
    "\n",
    "# Objective function.\n",
    "OBJFUN = lambda x: x  # minimize the scalar value itself.\n",
    "\n",
    "# Define the risk measure.\n",
    "RISK = computeRisk(\n",
    "                    model=control_model,\n",
    "                    intervention_fun=INTERVENTION,\n",
    "                    qoi=lambda y: max_total_infections_SIDARTHE(y, contexts=[\"I_total_obs\"]),\n",
    "                    model_state=initial_state,\n",
    "                    tspan=tspan,\n",
    "                    risk_measure=lambda z: alpha_superquantile(z, alpha=RISK_ALPHA),\n",
    "                    num_samples=N_SAMPLES,\n",
    "                    guide=None,\n",
    "                    )\n",
    "\n",
    "# Define problem constraints.\n",
    "CONSTRAINTS = (\n",
    "                # risk constraint\n",
    "                {'type': 'ineq', 'fun': lambda x: RISK_BOUND - RISK(x)},\n",
    "\n",
    "                # bounds on control\n",
    "                # NOTE: perhaps use scipy.optimize.LinearConstraint in the future\n",
    "                {'type': 'ineq', 'fun': lambda x: x - X_MIN},\n",
    "                {'type': 'ineq', 'fun': lambda x: X_MAX - x}\n",
    "               )"
   ]
  },
  {
   "cell_type": "code",
   "execution_count": null,
   "id": "13a9803a",
   "metadata": {
    "scrolled": false
   },
   "outputs": [],
   "source": [
    "print(\"Performing risk-based optimization under uncertainty (using alpha-superquantile)...\")\n",
    "print(f\"Estimated wait time {time_per_eval*N_SAMPLES*(MAXITER+1)*MAXFEVAL:.1f} seconds.\")\n",
    "start_time = time.time()\n",
    "sq_result_1 = solveOUU(\n",
    "                     x0=INIT_GUESS,\n",
    "                     objfun=OBJFUN,\n",
    "                     constraints=CONSTRAINTS,\n",
    "                     maxiter=MAXITER,\n",
    "                     maxfeval=MAXFEVAL,\n",
    "                    ).solve()\n",
    "print(f\"Optimization completed in time {time.time()-start_time:.2f} seconds. Optimal solution:\\t{sq_result_1.x}\")"
   ]
  },
  {
   "cell_type": "markdown",
   "id": "abfeda8c",
   "metadata": {},
   "source": [
    "## Assess the effect of the control policy."
   ]
  },
  {
   "cell_type": "code",
   "execution_count": null,
   "id": "60c9d1a9",
   "metadata": {
    "scrolled": false
   },
   "outputs": [],
   "source": [
    "RISK.num_samples = int(5e2)\n",
    "sq_optimal_prediction = RISK.propagate_uncertainty(sq_result_1.x)\n",
    "qois_sq = RISK.qoi(sq_optimal_prediction)"
   ]
  },
  {
   "cell_type": "code",
   "execution_count": null,
   "id": "c92e52b7",
   "metadata": {},
   "outputs": [],
   "source": [
    "ax = setup_ax()\n",
    "# print(sq_optimal_prediction.shape)\n",
    "ax = plot_predictive(sq_optimal_prediction, tspan, ax=ax, color=co[2], ptiles=[0.0,1.])\n",
    "plt.title(\"Optimal theta, epsilon parameter intervention (theta>=2*epsilon) \\n with risk-based OUU\", size=14)\n",
    "sideaxis(ax)"
   ]
  },
  {
   "cell_type": "code",
   "execution_count": null,
   "id": "13bf129e",
   "metadata": {},
   "outputs": [],
   "source": [
    "bins_hist = 50\n",
    "fig1 = plt.figure()\n",
    "plt.rc('font', family='serif', size=14.)\n",
    "cax = plt.gca()\n",
    "sideaxishist(cax)\n",
    "cax.hist(qois_sq, color=co[4], bins=bins_hist, histtype='stepfilled', alpha=0.5, density=True)\n",
    "miny = min(cax.get_ylim())\n",
    "maxy = max(cax.get_ylim())\n",
    "cax.set_xlabel('Maximum total infections over 100 days', size=14)"
   ]
  }
 ],
 "metadata": {
  "kernelspec": {
   "display_name": "Python 3 (ipykernel)",
   "language": "python",
   "name": "python3"
  },
  "language_info": {
   "codemirror_mode": {
    "name": "ipython",
    "version": 3
   },
   "file_extension": ".py",
   "mimetype": "text/x-python",
   "name": "python",
   "nbconvert_exporter": "python",
   "pygments_lexer": "ipython3",
   "version": "3.9.7"
  },
  "vscode": {
   "interpreter": {
    "hash": "a3e1d8fdda916c248c87d86618e3945b28961cf939001a0529e724463670a41a"
   }
  }
 },
 "nbformat": 4,
 "nbformat_minor": 5
}
