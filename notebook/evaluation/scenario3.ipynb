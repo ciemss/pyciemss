{
 "cells": [
  {
   "cell_type": "markdown",
   "id": "42e08ed8",
   "metadata": {},
   "source": [
    "# ASKEM 6-Month Evaluation: Scenario 3"
   ]
  },
  {
   "cell_type": "markdown",
   "id": "b5ea9b0a-aefe-469a-9687-208d39948601",
   "metadata": {},
   "source": [
    "# Scenario 3: Progressively Updating Model\n",
    "In this scenario, we will be starting with a simple compartmental model, calibrating parameters and comparing with historical data, and progressively adding complexity to the model, to see how the fit improves. For all data, we will be using US national-level data. For calibration of parameters, you have flexibility to decide which parameters you would like to set using values found in the literature, and which will be estimated using fitting algorithms with real data.\n",
    "\n",
    "## Time range of data: June 1st 2021 – June 1st, 2022\n",
    "*  For questions 1-4, the ‘training period’ over which calibration will be done with data, is June 1, 2021 – September 30, 2021 (covering the predominant period of the Delta variant in the United States). The out-of-sample ‘test period’ over which fitted models can be used to ‘forecast’ and compare against historical data, is October 1, 2021 – January 1, 2022 (covering the period leading up to the Omicron wave).\n",
    "* For questions 5-6, we want to consider multiple Covid waves. Let the ‘training period’ over which calibration will be done with data, be June 1st, 2021 – December 31st , 2021 (covering the Covid-19 Delta wave and part of the Omicron wave). The out-of-sample ‘test period’ over which fitted models can be used to ‘forecast’ and compare against historical data, is January 1st, 2022 – June 1st , 2022"
   ]
  },
  {
   "cell_type": "markdown",
   "id": "f7051406-a6de-4c3f-bdbe-831d24570a05",
   "metadata": {},
   "source": [
    "### Question 1: \n",
    "\n",
    "Begin with a basic SIR model without vital dynamics. Calibrate the model parameters using data on cases during the ‘training period’. Then evaluate the model during the out-of-sample ‘test period’."
   ]
  },
  {
   "cell_type": "markdown",
   "id": "1cf458e8-912b-4607-bd0a-e953d2caf33d",
   "metadata": {},
   "source": [
    "### Question 2\n",
    "One issue with using case data as the reference against which models should be fit, is that case data tends to be noisy, and also undercounts actual infection numbers. Not everybody who was infected got tested or had access to tests during this time period. (Side note: in 2022, the issue with using case data is different, as tests are much more widely available, but home tests are usually not reported to any central authoritative agency that aggregates and releases the ‘official’ case numbers). Usually data on deaths or hospitalizations is more accurate and dependable. We would like to update our model to include deaths/and or hospitalizations, in order to incorporate data on those outcomes. Explore the space of closely related models (structurally speaking) that incorporate either deaths, hospitalizations, or both. For each model, calibrate parameters using data on hospitalizations or deaths, evaluate performance in the ‘test period’ (compare model output against data), and do model selection based on how well the fitted model output compares with data, for both the ‘training’ and ‘test’ periods. Do not consider vaccination or age stratification (these will be considerations in the following tasks)."
   ]
  },
  {
   "cell_type": "markdown",
   "id": "304814bf-8c7a-4cc8-8e48-b97e05cb8c47",
   "metadata": {},
   "source": [
    "### Question 3\n",
    "\n",
    "Now update the model to include vaccination, and calibrate and comparison of model output, with data on deaths and/or hospitalizations broken down by vaccination status."
   ]
  },
  {
   "cell_type": "markdown",
   "id": "2530e727-913d-4c01-b266-c891aeb8e132",
   "metadata": {},
   "source": [
    "### Question 4 [Challenge]\n",
    "\n",
    " Add age stratification to the model. Repeat calibration and comparison of model output against data, using data on deaths and/or hospitalizations broken down by vaccination status and age group. The number of strata will depend on the age breakdowns in available data."
   ]
  },
  {
   "cell_type": "code",
   "execution_count": null,
   "id": "4c65208f-cf76-4fea-92f2-4af7424bf143",
   "metadata": {},
   "outputs": [],
   "source": []
  }
 ],
 "metadata": {
  "kernelspec": {
   "display_name": "Python 3 (ipykernel)",
   "language": "python",
   "name": "python3"
  },
  "language_info": {
   "codemirror_mode": {
    "name": "ipython",
    "version": 3
   },
   "file_extension": ".py",
   "mimetype": "text/x-python",
   "name": "python",
   "nbconvert_exporter": "python",
   "pygments_lexer": "ipython3",
   "version": "3.10.9"
  }
 },
 "nbformat": 4,
 "nbformat_minor": 5
}
