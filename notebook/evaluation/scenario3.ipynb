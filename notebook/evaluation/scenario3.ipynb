{
 "cells": [
  {
   "cell_type": "code",
   "execution_count": 13,
   "metadata": {},
   "outputs": [],
   "source": [
    "%reload_ext autoreload\n",
    "%autoreload 2\n",
    "\n",
    "import json\n",
    "import os\n",
    "\n",
    "import torch\n",
    "import pyro\n",
    "import numpy as np\n",
    "import pandas as pd\n",
    "import matplotlib.pyplot as plt\n",
    "import pyro.distributions as dist\n",
    "from typing import Dict, Optional\n",
    "\n",
    "import mira\n",
    "import mira.metamodel.io\n",
    "import mira.modeling\n",
    "import mira.sources.petri\n",
    "\n",
    "from pyciemss.ODE.askem_primitives import sample, infer_parameters, intervene, optimization\n",
    "from pyciemss.ODE.base import ODE, PetriNetODESystem, Time, State, Solution, Observation, get_name\n",
    "from pyciemss.utils import state_flux_constraint"
   ]
  },
  {
   "cell_type": "code",
   "execution_count": 16,
   "metadata": {},
   "outputs": [],
   "source": [
    "MODEL_PATH = \"../../../program-milestones/6-month-milestone/evaluation/scenario_3/ta_2/\"\n",
    "\n",
    "MODEL_FILES = {\n",
    "    \"biomd958\": (\"scenario3_biomd958.json\", \"scenario3_biomd958_mira.json\"),\n",
    "    \"biomd960\": (\"scenario3_biomd960.json\", \"scenario3_biomd960_mira.json\"),\n",
    "}\n",
    "\n",
    "def read_obs(filename):\n",
    "    df = pd.read_csv(filename)\n",
    "    obs = {}\n",
    "    for col in df.columns:\n",
    "        if col == 'date':\n",
    "            obs[col] = pd.to_datetime(df[col].values)\n",
    "        else:\n",
    "            obs[col] = torch.tensor(df[col].values)\n",
    "    return obs\n",
    "\n",
    "def load_mira_model(model_name: str) -> PetriNetODESystem:\n",
    "    model_file, metamodel_file = MODEL_FILES[model_name]\n",
    "    with open(os.path.join(MODEL_PATH, model_file), \"r\") as f:\n",
    "        model_json = json.load(f)\n",
    "    mira_model = mira.modeling.Model(\n",
    "        mira.sources.petri.template_model_from_petri_json(model_json)\n",
    "    )\n",
    "    mira_metamodel = mira.metamodel.io.model_from_json_file(os.path.join(MODEL_PATH, metamodel_file))\n",
    "    return mira_model, mira_metamodel"
   ]
  },
  {
   "cell_type": "code",
   "execution_count": 17,
   "metadata": {},
   "outputs": [],
   "source": [
    "pyro.set_rng_seed(0)\n",
    "pyro.clear_param_store()\n",
    "\n",
    "DATA_FILE = \"usa-IRDVHN_age.csv\"\n",
    "MODEL_NAME = \"biomd958\"\n",
    "NUM_ITERATIONS = 101\n",
    "NUM_TIMESTEPS = 100\n",
    "T1, T2 = 0., 100.\n",
    "\n",
    "# load from file\n",
    "mira_model, mira_metamodel = load_mira_model(MODEL_NAME)\n",
    "model = PetriNetODESystem(mira_model)\n",
    "data = read_obs(DATA_FILE)\n",
    "\n",
    "# load initial state\n",
    "initial_state = model.default_initial_state\n",
    "tspan = torch.linspace(T1, T2, NUM_TIMESTEPS)\n"
   ]
  },
  {
   "cell_type": "code",
   "execution_count": null,
   "metadata": {},
   "outputs": [],
   "source": [
    "posterior = infer_parameters(model, NUM_ITERATIONS, [], data, initial_state, tspan)"
   ]
  }
 ],
 "metadata": {
  "kernelspec": {
   "display_name": "Python 3",
   "language": "python",
   "name": "python3"
  },
  "language_info": {
   "codemirror_mode": {
    "name": "ipython",
    "version": 3
   },
   "file_extension": ".py",
   "mimetype": "text/x-python",
   "name": "python",
   "nbconvert_exporter": "python",
   "pygments_lexer": "ipython3",
   "version": "3.10.9"
  },
  "orig_nbformat": 4,
  "vscode": {
   "interpreter": {
    "hash": "767d51c1340bd893661ea55ea3124f6de3c7a262a8b4abca0554b478b1e2ff90"
   }
  }
 },
 "nbformat": 4,
 "nbformat_minor": 2
}
