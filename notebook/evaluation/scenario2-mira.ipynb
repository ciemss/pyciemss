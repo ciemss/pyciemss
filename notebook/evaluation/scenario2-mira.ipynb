{
 "cells": [
  {
   "cell_type": "code",
   "execution_count": 1,
   "id": "b087c52b-a505-45d3-b643-df44d8c924a5",
   "metadata": {},
   "outputs": [],
   "source": [
    "%load_ext autoreload\n",
    "%autoreload 2"
   ]
  },
  {
   "cell_type": "markdown",
   "id": "542b06c1-28fb-47ec-9a34-170acc7d2a84",
   "metadata": {},
   "source": [
    "# Load Dependencies"
   ]
  },
  {
   "cell_type": "code",
   "execution_count": 2,
   "id": "84e0bb12-68af-4a6d-a384-db4837c44ac0",
   "metadata": {},
   "outputs": [
    {
     "name": "stderr",
     "output_type": "stream",
     "text": [
      "/Users/zuck016/.pyenv/versions/jz-scenario2-eval/lib/python3.10/site-packages/tqdm/auto.py:22: TqdmWarning: IProgress not found. Please update jupyter and ipywidgets. See https://ipywidgets.readthedocs.io/en/stable/user_install.html\n",
      "  from .autonotebook import tqdm as notebook_tqdm\n"
     ]
    }
   ],
   "source": [
    "import matplotlib.pyplot as plt\n",
    "\n",
    "import torch\n",
    "\n",
    "import pyro\n",
    "import numpy as np\n",
    "import pyro.distributions as dist\n",
    "# from pyro.poutine import trace, replay, block\n",
    "# from pyro.infer.autoguide.guides import AutoDelta, AutoNormal\n",
    "# from pyro.infer import SVI, Trace_ELBO, Predictive\n",
    "\n",
    "from pyciemss.ODE.askem_primitives import sample, infer_parameters, intervene, optimization\n",
    "\n",
    "# import sys\n",
    "# sys.path.append(\"../\")\n",
    "\n",
    "#\n",
    "from pyciemss.utils import get_tspan\n",
    "\n",
    "import warnings\n",
    "warnings.filterwarnings('ignore')"
   ]
  },
  {
   "cell_type": "markdown",
   "id": "4855961d-9c38-4050-b6b7-aaae03500fc9",
   "metadata": {},
   "source": [
    "# Plotting Utilities"
   ]
  },
  {
   "cell_type": "code",
   "execution_count": 3,
   "id": "f233104e-c29d-4e25-859f-2a328ec7892a",
   "metadata": {},
   "outputs": [],
   "source": [
    "def setup_ax(ax=None):\n",
    "\n",
    "    if not ax:\n",
    "        fig = plt.figure(facecolor='w', figsize=(9, 9))\n",
    "        ax = fig.add_subplot(111, axisbelow=True)\n",
    "\n",
    "    ax.set_xlabel('Time /days')\n",
    "    ax.set_ylabel('Infected (1000s)')\n",
    "    return ax\n",
    "\n",
    "def plot_predictive(prediction, tspan, tmin=None, ax=None, alpha=0.2, color=\"black\", **kwargs):\n",
    "    vars = [\"I_total_obs\"]\n",
    "    #infection_total = sum([prediction[x].squeeze().detach().numpy()/1000. for x in ['I_obs', 'D_obs', 'A_obs', 'R_obs', 'T_obs']])\n",
    "\n",
    "    I_low = torch.quantile(prediction[\"I_total_obs\"], 0.05, dim=0).detach().numpy()\n",
    "    I_up = torch.quantile(prediction[\"I_total_obs\"], 0.95, dim=0).detach().numpy()\n",
    "\n",
    "    if tmin:\n",
    "        indeces = tspan >= tmin\n",
    "    else:\n",
    "        indeces = torch.ones_like(tspan).bool()\n",
    "\n",
    "    if not ax:\n",
    "        fig = plt.figure(facecolor='w')\n",
    "        ax = fig.add_subplot(111, facecolor='#dddddd', axisbelow=True)\n",
    "    \n",
    "    ax.fill_between(tspan[indeces], I_low[indeces], I_up[indeces], alpha=alpha, color=color, **kwargs)\n",
    "\n",
    "    legend = ax.legend()\n",
    "    legend.get_frame().set_alpha(0.5)\n",
    "\n",
    "    return ax\n",
    "\n",
    "def plot_trajectory(data, tspan, ax=None, color='black', alpha=0.5, lw=0, marker='.', label=None, observation='I_total_obs'):\n",
    "    # Plot the data on three separate curves for S(t), I(t) and R(t)\n",
    "\n",
    "    if not ax:\n",
    "        fig = plt.figure(facecolor='w')\n",
    "        ax = fig.add_subplot(111, facecolor='#dddddd', axisbelow=True)\n",
    "    #infection_total = sum([data[x].squeeze().detach().numpy()/1000. for x in ['I_obs', 'D_obs', 'A_obs', 'R_obs', 'T_obs']])\n",
    "    ax.plot(tspan, data[observation].squeeze().detach().numpy(), color, alpha=alpha, lw=lw, marker=marker, label=label)\n",
    "    \n",
    "    return ax\n",
    "\n",
    "def plot_intervention_line(t, ax=None):\n",
    "    if not ax:\n",
    "        fig = plt.figure(facecolor='w')\n",
    "        ax = fig.add_subplot(111, facecolor='#dddddd', axisbelow=True)\n",
    "\n",
    "    ylim = ax.get_ylim()\n",
    "\n",
    "    ax.vlines(t, min(ylim), max(ylim), color=\"grey\", ls='-')\n",
    "\n",
    "    return ax"
   ]
  },
  {
   "cell_type": "markdown",
   "id": "3e0c3726-5ec0-475d-8305-f20b5d84e424",
   "metadata": {},
   "source": [
    "# Setup Parameters"
   ]
  },
  {
   "cell_type": "code",
   "execution_count": 4,
   "id": "16608500-97b5-4081-9e6b-b7c193c10285",
   "metadata": {},
   "outputs": [],
   "source": [
    "full_tspan = get_tspan(1, 100, 100)\n",
    "\n",
    "num_samples = 500\n",
    "\n",
    "# Total population, N.\n",
    "N = 1\n",
    "# Initial number of infected and recovered individuals, I0 and R0.\n",
    "I0, D0, A0, R0, T0, H0, E0 = 200./60e6, 20./60e6, 1./60e6, 2./60e6, 0, 0, 0\n",
    "\n",
    "# Everyone else, S0, is susceptible to infection initially.\n",
    "\n",
    "S0 = N - I0 - D0 - A0 - R0 - T0 - H0 - E0\n",
    "\n",
    "\n",
    "#I_obs = torch.tensor([81.47, 84.3, 86.44, 89.66, 93.32, 94.1, 96.31])\n",
    "\n",
    "initial_state = tuple(torch.as_tensor(s) for s in  (S0, I0, D0, A0, R0, T0, H0, E0))\n",
    "final_observed_state = tuple(torch.as_tensor(s) for s in  (S0, I0, D0, A0, R0, T0, H0, E0))"
   ]
  },
  {
   "cell_type": "markdown",
   "id": "23fc9c9d-f8bc-4e95-a243-865690d3b43b",
   "metadata": {},
   "source": [
    "# Probabilistic Forecasting - Passing unit test 1\n",
    "There are two ‘unit tests’ we want to pass, to ensure that we understood and can reproduce the published model:\n",
    "\n",
    "## 1.a Unit Test \\#1:\n",
    "\n",
    "Set the initial values and parameters, as described in the Supplementary Methods section of the publication (pg. 9 of the pdf): \n",
    "\n",
    "### 1.a.1 Initial Values: \n",
    "* $I = 200/60e6$,\n",
    "* $D = 20/60e6$, \n",
    "* $A = 1/60e6$, \n",
    "* $R = 2/60e6$, \n",
    "* $T = 0$, \n",
    "* $H = 0$, \n",
    "* $E = 0$; \n",
    "* $S = 1 – I – D – A – R – T – H – E$. \n",
    "\n",
    "Let total population = 60e6.\n",
    "\n",
    "\n",
    "### 1.a.2 Parameters: \n",
    "\n",
    "$$\\alpha = 0.570, \\beta = \\delta  = 0.011, \\gamma = 0.456, \\epsilon = 0.171, \\theta = 0.371, \\zeta = \\eta = 0.125, \\mu = 0.017, \\nu = 0.027, \\tau = 0.01, \\lambda = \\rho = 0.034$$ and $$\\kappa = \\xi = \\sigma = 0.017$$."
   ]
  },
  {
   "cell_type": "markdown",
   "id": "2ebe2162-f586-48c6-a4b1-233c9895721c",
   "metadata": {},
   "source": [
    "### 1.a.3 Time of peak total infections\n",
    "\n",
    "Simulate for 100 days, and determine the day and level of peak total infections (sum over all the infected states I, D, A, R, T). Expected output: The peak should occur around day 47, when ~60% of the population is infected.\n"
   ]
  },
  {
   "cell_type": "code",
   "execution_count": 5,
   "id": "dbd7d430-325f-4f40-9b20-d8a0c0264f62",
   "metadata": {},
   "outputs": [],
   "source": [
    "from pyciemss.ODE.models import SIDARTHE\n",
    "\n",
    "pyro.set_rng_seed(0)\n",
    "\n",
    "ode_model = SIDARTHE(N=1,\n",
    "                 alpha_prior=dist.Delta(torch.tensor (0.570)) ,\n",
    "                 beta_prior=dist.Delta(torch.tensor (0.011)) ,\n",
    "                 gamma_prior=dist.Delta(torch.tensor (0.456)) ,\n",
    "                 delta_prior=dist.Delta(torch.tensor (0.011)) ,\n",
    "                 epsilon_prior=dist.Delta(torch.tensor (0.171)) ,\n",
    "                 lamb_prior =dist.Delta(torch.tensor (0.034)) ,\n",
    "                 zeta_prior=dist.Delta(torch.tensor (0.125)) ,\n",
    "                 eta_prior=dist.Delta(torch.tensor (0.125)) ,\n",
    "                 kappa_prior=dist.Delta(torch.tensor (0.017)) ,\n",
    "                 theta_prior=dist.Delta(torch.tensor (0.371)) ,\n",
    "                 rho_prior=dist.Delta(torch.tensor (0.034)) ,\n",
    "                 xi_prior=dist.Delta(torch.tensor (0.017)) ,\n",
    "                 sigma_prior=dist.Delta(torch.tensor (0.017)) ,\n",
    "                 mu_prior=dist.Delta(torch.tensor (0.017)) ,\n",
    "                 nu_prior=dist.Delta(torch.tensor (0.027)) ,\n",
    "                 tau_prior=dist.Delta(torch.tensor (0.01)) )"
   ]
  },
  {
   "cell_type": "code",
   "execution_count": 6,
   "id": "9475b4c7-27b4-47e7-be57-539ff040ea1e",
   "metadata": {},
   "outputs": [],
   "source": [
    "from pyciemss.ODE.models import MIRA_SIDARTHE\n",
    "from pathlib import Path\n",
    "import os\n",
    "MODELPATH = '../../test/models/evaluation_examples/scenario_2/'\n",
    "\n",
    "SIDARTHEPATH = 'scenario2_sidarthe.json'\n",
    "plotting_ode_model = MIRA_SIDARTHE.from_mira(os.path.join(MODELPATH,SIDARTHEPATH))"
   ]
  },
  {
   "cell_type": "code",
   "execution_count": 7,
   "id": "30b811eb-83a8-4555-85ab-f9be7a987143",
   "metadata": {},
   "outputs": [
    {
     "data": {
      "text/plain": [
       "OrderedDict([('Ailing', <mira.modeling.Variable at 0x13a6912a0>),\n",
       "             ('Diagnosed', <mira.modeling.Variable at 0x13a693df0>),\n",
       "             ('Extinct', <mira.modeling.Variable at 0x13a6749d0>),\n",
       "             ('Healed', <mira.modeling.Variable at 0x13a690ee0>),\n",
       "             ('Infected', <mira.modeling.Variable at 0x13a693430>),\n",
       "             ('Recognized', <mira.modeling.Variable at 0x13a693a00>),\n",
       "             ('Susceptible', <mira.modeling.Variable at 0x13a691990>),\n",
       "             ('Threatened', <mira.modeling.Variable at 0x13a692a10>)])"
      ]
     },
     "execution_count": 7,
     "metadata": {},
     "output_type": "execute_result"
    }
   ],
   "source": [
    "plotting_ode_model.var_order"
   ]
  },
  {
   "cell_type": "code",
   "execution_count": 8,
   "id": "d8967995-5cc5-46ad-858d-6446359a0869",
   "metadata": {},
   "outputs": [
    {
     "data": {
      "text/plain": [
       "(tensor(1.6667e-08),\n",
       " tensor(3.3333e-07),\n",
       " tensor(0.),\n",
       " tensor(0.),\n",
       " tensor(3.3333e-06),\n",
       " tensor(3.3333e-08),\n",
       " tensor(1.0000),\n",
       " tensor(0.))"
      ]
     },
     "execution_count": 8,
     "metadata": {},
     "output_type": "execute_result"
    }
   ],
   "source": [
    "initial_state = tuple(torch.as_tensor(v.data['initial_value'])\n",
    "                      if v.data['initial_value'] is not None else torch.as_tensor(0.)\n",
    "                      for v in plotting_ode_model.var_order.values())\n",
    "initial_state"
   ]
  },
  {
   "cell_type": "code",
   "execution_count": 9,
   "id": "31473cdd-9896-42ed-b487-36362c1c9744",
   "metadata": {
    "tags": []
   },
   "outputs": [],
   "source": [
    "#prior_prediction = sample(plotting_ode_model, num_samples, initial_state, full_tspan)\n",
    "single_prediction = sample(plotting_ode_model, 1, initial_state, full_tspan)"
   ]
  },
  {
   "cell_type": "markdown",
   "id": "0f212306-ed0d-42b1-9aa9-1a3f7af5bed5",
   "metadata": {},
   "source": [
    "### Day of peak infection\n",
    "\n",
    "Simulate for 100 days, and determine the day and level of peak total infections (sum over all the infected states I, D, A, R, T). Expected output: The peak should occur around day 47, when ~60% of the population is infected.\n"
   ]
  },
  {
   "cell_type": "code",
   "execution_count": 10,
   "id": "15f03c6f-d085-4f36-bc7a-312057d82758",
   "metadata": {},
   "outputs": [
    {
     "data": {
      "text/plain": [
       "<matplotlib.lines.Line2D at 0x13abafb80>"
      ]
     },
     "execution_count": 10,
     "metadata": {},
     "output_type": "execute_result"
    },
    {
     "data": {
      "image/png": "[encoded data removed]",
      "text/plain": [
       "<Figure size 900x900 with 1 Axes>"
      ]
     },
     "metadata": {},
     "output_type": "display_data"
    }
   ],
   "source": [
    "ax = plot_trajectory(single_prediction, full_tspan, ax=setup_ax(), color=\"blue\", marker='', lw=1., label=\"Before Seeing Data - Single Forecast\",\n",
    "                    observation='obs_total_infections')\n",
    "#ax = plot_predictive(prior_prediction, full_tspan, ax=ax, label=\"Before Seeing Data - Probabilistic Forecast\", color=\"red\")\n",
    "ax.axvline(47)\n"
   ]
  },
  {
   "cell_type": "code",
   "execution_count": 24,
   "id": "57fc1e41-25d0-495e-a381-c997500a583d",
   "metadata": {},
   "outputs": [
    {
     "data": {
      "text/plain": [
       "'zeta'"
      ]
     },
     "execution_count": 24,
     "metadata": {},
     "output_type": "execute_result"
    }
   ],
   "source": [
    "single_prediction\n"
   ]
  },
  {
   "cell_type": "markdown",
   "id": "d17abb80-e619-4810-b9dd-f76a4c252ef7",
   "metadata": {},
   "source": [
    "## 1.b Unit Test \\#2: \n",
    "\n",
    "Now update the parameters to reflect various interventions that Italy implemented during the first wave, as described in detail on pg. 9.  Simulate for 100 days, reproduce the trajectories in Fig. 2B, and determine the day and level of peak total infections (sum over all the infected states I, D, A, R, T). Expected output: Trajectories in Fig. 2B, peak occurs around day 50, with ~0.2% of the total population infected."
   ]
  },
  {
   "cell_type": "code",
   "execution_count": null,
   "id": "495c2a09-a0ef-4a8d-8a1c-b9330e197122",
   "metadata": {},
   "outputs": [],
   "source": []
  },
  {
   "cell_type": "markdown",
   "id": "11148b1b-3e9e-4190-a90b-c1dc6291fa2f",
   "metadata": {},
   "source": [
    "### Day 4 social distancing\n",
    "After day 4, as a consequence of basic social-distancing measures due to the public being aware of the epidemic outbreak and due to recommendations (such  as washing hands often, not touching one’s face, avoiding handshakes and keeping  distance) and early measures (such as closing schools) by the Italian government,  we set $\\alpha= 0.422, \\beta = \\delta = 0.0057$  and $\\gamma = 0.285$, so the new basic reproduction number becomes $R_0 = 1.66$."
   ]
  },
  {
   "cell_type": "code",
   "execution_count": null,
   "id": "3fd41fe4-57d7-4fe1-be7c-6deb93210584",
   "metadata": {},
   "outputs": [],
   "source": []
  },
  {
   "cell_type": "markdown",
   "id": "37e07865-5065-4dbe-ac46-2590c8834a61",
   "metadata": {},
   "source": [
    "### Day 12 screening limited to symptomatic individuals\n",
    "Also, after day 12, we set $\\epsilon  = 0.143$ as a consequence of the policy limiting screening to symptomatic individuals only; thus, totally asymptomatic individuals  are almost no longer detected, while individuals with very mild symptoms are still  detected (hence $\\epsilon$ is not set exactly to zero). Due to this, $R_0 = 1.80$. "
   ]
  },
  {
   "cell_type": "code",
   "execution_count": 19,
   "id": "f17d16be",
   "metadata": {},
   "outputs": [],
   "source": [
    "\n",
    "plotting_ode_model = pyro.do(ode_model, {\"noise_var\": torch.tensor([0.000001])})"
   ]
  },
  {
   "cell_type": "markdown",
   "id": "2701de12-74c7-4f8c-b5f1-da68e73e3c07",
   "metadata": {},
   "source": [
    "Simulate for $100$ days, and determine the day and level of peak total infections (sum over all the infected states $I, D, A, R, T$). Expected output: The peak should occur around day $47$, when $\\sim 60\\%$ of the population is infected."
   ]
  },
  {
   "cell_type": "markdown",
   "id": "1c438498-f6ff-414f-ab78-3b111fd78800",
   "metadata": {},
   "source": []
  },
  {
   "cell_type": "markdown",
   "id": "b7fcf4fc-00a8-4c92-950a-15118ab8cf7d",
   "metadata": {},
   "source": [
    "### Day 22 incomplete lockdown\n",
    "After day 22, the lockdown, at first incomplete, yields $\\alpha  = 0.360,  \\beta = \\delta = 0.005$  and $\\gamma = 0.200$;  also, $\\zeta = \\eta = 0.034, \\mu = 0.008, \\nu = 0.015, \\lambda = 0.08$  and  $\\rho= \\kappa = \\xi = \\sigma = 0.017$. Hence, the new basic reproduction number becomes $R_0 = 1.60$. "
   ]
  },
  {
   "cell_type": "code",
   "execution_count": null,
   "id": "7f577887-41c7-48c3-906f-424aae29c600",
   "metadata": {},
   "outputs": [],
   "source": []
  },
  {
   "cell_type": "markdown",
   "id": "aa345f66-ef80-4a3e-84c6-52d6fa44e30c",
   "metadata": {},
   "source": [
    "### Day 28 fully operational lockdown\n",
    "After day 28, the lockdown is fully operational and gets stricter (working is no longer a good reason for going out: gradually, non-indispensable activities are  stopped): we get $\\alpha  = 0.210$ and $\\gamma = \n",
    "0.110$,  hence $R_0 = 0.99$. "
   ]
  },
  {
   "cell_type": "code",
   "execution_count": null,
   "id": "e67b4f96-696e-4a33-961f-2971f34fc86d",
   "metadata": {},
   "outputs": [],
   "source": []
  },
  {
   "cell_type": "markdown",
   "id": "8061e2a9-5541-4c14-bad5-d3a012077de2",
   "metadata": {},
   "source": [
    "### Day 38 wider testing campaign launched\n",
    "After day 38, a wider testing campaign is launched: this yields $\\epsilon  = 0.200$,  and also $\\rho  = \\kappa = \\xi = 0.020$,  while $\\sigma = 0.010$  and $\\zeta = \\eta = 0.025$.  Therefore, $R_0 = 0.85$."
   ]
  },
  {
   "cell_type": "code",
   "execution_count": 15,
   "id": "a8cebc75-730c-43f8-9081-ba846098f669",
   "metadata": {},
   "outputs": [],
   "source": [
    "from pyciemss.ODE.models import SIDARTHE\n",
    "\n",
    "pyro.set_rng_seed(0)\n",
    "\n",
    "ode_model = SIDARTHE(N=1,\n",
    "                 alpha_prior=dist.LogNormal(torch.log(torch.tensor (0.570)), torch.tensor(0.5)) ,\n",
    "                 beta_prior=dist.LogNormal(torch.log(torch.tensor (0.011)), torch.tensor(0.5)) ,\n",
    "                 gamma_prior=dist.LogNormal(torch.log(torch.tensor (0.456)), torch.tensor(0.5)) ,\n",
    "                 delta_prior=dist.LogNormal(torch.log(torch.tensor (0.011)), torch.tensor(0.5)) ,\n",
    "                 epsilon_prior=dist.LogNormal(torch.log(torch.tensor (0.171)), torch.tensor(0.5)) ,\n",
    "                 lamb_prior =dist.LogNormal(torch.log(torch.tensor (0.034)), torch.tensor(0.5)) ,\n",
    "                 zeta_prior=dist.LogNormal(torch.log(torch.tensor (0.125)), torch.tensor(0.5)) ,\n",
    "                 eta_prior=dist.LogNormal(torch.log(torch.tensor (0.125)), torch.tensor(0.5)) ,\n",
    "                 kappa_prior=dist.LogNormal(torch.log(torch.tensor (0.017)), torch.tensor(0.5)) ,\n",
    "                 theta_prior=dist.LogNormal(torch.log(torch.tensor (0.371)), torch.tensor(0.5)) ,\n",
    "                 rho_prior=dist.LogNormal(torch.log(torch.tensor (0.034)), torch.tensor(0.5)) ,\n",
    "                 xi_prior=dist.LogNormal(torch.log(torch.tensor (0.017)), torch.tensor(0.5)) ,\n",
    "                 sigma_prior=dist.LogNormal(torch.log(torch.tensor (0.017)), torch.tensor(0.5)) ,\n",
    "                 mu_prior=dist.LogNormal(torch.log(torch.tensor (0.017)), torch.tensor(0.5)) ,\n",
    "                 nu_prior=dist.LogNormal(torch.log(torch.tensor (0.027)), torch.tensor(0.5)) ,\n",
    "                 tau_prior=dist.LogNormal(torch.log(torch.tensor (0.01)), torch.tensor(0.5)) )"
   ]
  },
  {
   "cell_type": "markdown",
   "id": "da8e85b3-25df-4001-8cdf-cc47779fc584",
   "metadata": {},
   "source": [
    "## 1.c Sensitivity analysis"
   ]
  },
  {
   "cell_type": "code",
   "execution_count": null,
   "id": "79911dc3-6611-45d3-be49-f2e190b616c2",
   "metadata": {},
   "outputs": [],
   "source": []
  },
  {
   "cell_type": "markdown",
   "id": "2ed894bb-0eb9-4d26-aa96-886307b175d7",
   "metadata": {},
   "source": [
    "## 1.d Policies that prevent infections from exceeding 1/3 of the population\n",
    "\n",
    "Now return to the situation in b.i (constant parameters that don’t change over time). Let’s say we want to increase testing, diagnostics, and contact tracing efforts (implemented by increasing the detection parameters  and ). Assume that $\\theta \\ge 2\\epsilon$ , because a symptomatic person is more likely to be tested. What minimum constant values do these parameters need to be over the course of a 100-day simulation, to ensure that the total infected population (sum over all the infected states I, D, A, R, T) never rises above 1/3 of the total population?\n"
   ]
  },
  {
   "cell_type": "markdown",
   "id": "15526fb6-c00c-4b76-9dd3-3c961504006b",
   "metadata": {},
   "source": [
    "\n",
    "\n",
    "### Problem Formulation\n",
    "* **Quantity of interest**:  Total infections out of $N=60,000,000$ population\n",
    "$$I_{total}(t; \\mathbf{u}, \\mathbf{Z}) = I(t) + D(t) + A(t) + R(t) + T(t)$$\n",
    "\n",
    "A conservative estimate for the quantity of interest is\n",
    "$$M(u, Z) = \\max_{1\\leq t \\leq 100} I_{total}(t; \\mathbf{u}, \\mathbf{Z})/N$$\n",
    "\n",
    "\n",
    "\n",
    "\n",
    "* **Control**: $\\mathbf{u}\\in \\mathcal{U} \\subseteq \\mathbb{R}^{n_u}$\n",
    "    * Detection parameter for Infected ($\\epsilon$) assuming that $\\theta=2\\epsilon$\n",
    "    * Two detection parameters $\\theta, \\epsilon$, constraining $\\theta \\ge 2\\epsilon$.\n",
    "    "
   ]
  },
  {
   "cell_type": "markdown",
   "id": "c860c6aa-44e2-4456-8b12-90e87b4d8e0f",
   "metadata": {},
   "source": [
    "\n",
    "* **Risk-based optimization under uncertainty problem formulation**\n",
    "    * Objective Function - Minimize the magnitude of the parameter interventions.\n",
    "    * Constraint - Risk of normalized total infections exceeding the prescribed threshold of $1/3$, $\\mathcal{R}( M(\\mathbf{u},\\mathbf{Z}))$, is below the acceptable risk threshold, $\\mathcal{R}_\\text{threshold}$.\n",
    "\n",
    "\\begin{equation} \n",
    "\\begin{split} \n",
    "\\mathbf{u}^*= \\underset{\\mathbf{u}\\in\\mathcal{U}}{\\arg\\min}\\ & \\lVert \\mathbf{u} \\rVert_1 \\\\ \\text{s.t.}\\ & \\mathcal{R}( M(\\mathbf{u}, \\theta)) \\le \\mathcal{R}_\\text{threshold} \n",
    "\\end{split} \n",
    "\\end{equation}"
   ]
  },
  {
   "cell_type": "markdown",
   "id": "305ab3fb-0dfe-4d6f-9ae2-fadc960e83d5",
   "metadata": {
    "tags": []
   },
   "source": [
    "#### Formulation 1: Optimize $\\epsilon$ only, assuming $\\epsilon = \\theta$\n",
    "\\begin{equation} \n",
    "\\begin{split} \n",
    "\\epsilon^*= \\underset{\\epsilon\\in\\mathcal{U}}{\\arg\\min}\\ & \\epsilon \\\\ \\text{s.t.}\\ & \\mathbb{P}( M(\\epsilon, \\mathbf{Z}) \\ge 1/3) \\le 0.05\n",
    "\\end{split} \n",
    "\\end{equation}"
   ]
  },
  {
   "cell_type": "markdown",
   "id": "431d0bc3-4d3b-4cd9-9317-f02aefde7cb5",
   "metadata": {
    "tags": []
   },
   "source": [
    "#### Formulation 2: Optimize $\\epsilon$ and $\\theta$ constraining $\\theta \\ge 2\\epsilon$\n",
    "\\begin{equation} \n",
    "\\begin{split} \n",
    "\\epsilon^\\ast, \\theta^\\ast= \\underset{\\{\\epsilon,\\theta\\}\\in\\mathcal{U}}{\\arg\\min}\\ & \\theta + \\epsilon \\\\ \\text{s.t.}\\ & \\mathbb{P}( M(\\epsilon,\\theta, \\mathbf{Z}) \\ge 1/3) \\le 0.05, \\\\\n",
    "& \\theta \\ge 2\\epsilon\n",
    "\\end{split} \n",
    "\\end{equation}"
   ]
  },
  {
   "cell_type": "markdown",
   "id": "c65bcf10-9d12-4efe-be10-cc313e123d14",
   "metadata": {},
   "source": [
    "Apart from probability of exceedance, we will explore quantiles and superquantiles as risk measures."
   ]
  },
  {
   "cell_type": "code",
   "execution_count": null,
   "id": "69c1f480-87e4-4e35-b2ad-ac7769ff78ff",
   "metadata": {},
   "outputs": [],
   "source": []
  },
  {
   "cell_type": "markdown",
   "id": "b17b31c6",
   "metadata": {},
   "source": [
    "# Probabilistic Forecasting - Exploring Possible Interventions\n"
   ]
  },
  {
   "cell_type": "code",
   "execution_count": null,
   "id": "44c86c6c",
   "metadata": {},
   "outputs": [],
   "source": [
    "\n",
    "# from causal_pyro.query.do_messenger import do\n",
    "from pyciemss.ODE.interventions import constant_intervention_builder, time_dependent_intervention_builder, state_dependent_intervention_builder, parameter_intervention_builder"
   ]
  },
  {
   "cell_type": "markdown",
   "id": "7b8a45b6",
   "metadata": {},
   "source": [
    "\n",
    "## Q: \"What would happen if we set the vaccination rate parameter, $\\nu$?\"\n"
   ]
  },
  {
   "cell_type": "code",
   "execution_count": null,
   "id": "14565c79",
   "metadata": {},
   "outputs": [],
   "source": [
    "pyro.set_rng_seed(0)\n",
    "\n",
    "rate_parameter_intervention = parameter_intervention_builder(\"nu\", torch.tensor([0.01]))\n",
    "# intervened_parameter_model = do(plotting_ode_model, rate_parameter_intervention)\n",
    "plotting_intervened_parameter_model = intervene(plotting_ode_model, rate_parameter_intervention)\n",
    "# intervened_parameter_prediction = Predictive(intervened_parameter_model, guide=guide, num_samples=num_samples)(final_observed_state, new_tspan)\n",
    "intervened_parameter_prediction = sample(plotting_intervened_parameter_model, num_samples, final_observed_state, new_tspan, inferred_parameters=inferred_parameters)\n"
   ]
  },
  {
   "cell_type": "code",
   "execution_count": null,
   "id": "cf692801",
   "metadata": {},
   "outputs": [],
   "source": [
    "\n",
    "ax = setup_ax()\n",
    "ax = plot_trajectory(data, observed_tspan, ax=ax)\n",
    "ax = plot_predictive(posterior_prediction, new_tspan, tmin=7, ax=ax, label=\"No Intervention\")\n",
    "ax = plot_predictive(intervened_parameter_prediction, new_tspan, ax=ax, color='red', label=\"Vaccination Rate Parameter Intervention\")\n",
    "ax = plot_intervention_line(7., ax=ax)"
   ]
  },
  {
   "cell_type": "markdown",
   "id": "4bc8965a",
   "metadata": {},
   "source": [
    "## Governor: \"We can't change the rate parameter directly. Bring me another policy!\"\n",
    "## Q: \"What would happen if we set the vaccination rate to a constant 500 people per day?\""
   ]
  },
  {
   "cell_type": "code",
   "execution_count": null,
   "id": "f6ca7568",
   "metadata": {},
   "outputs": [],
   "source": [
    "pyro.set_rng_seed(0)\n",
    "\n",
    "flux_intervention = constant_intervention_builder(\"SV_flux\", torch.tensor([500.])), full_tspan)\n",
    "# intervened_flux_model = do(ode_model, flux_intervention)\n",
    "plotting_intervened_flux_model = intervene(plotting_ode_model, flux_intervention)\n",
    "# intervened_flux_prediction = Predictive(plotting_intervened_flux, guide=guide, num_samples=num_samples)(final_observed_state, new_tspan)\n",
    "rate_intervention_prediction = sample(plotting_intervened_flux_model, num_samples, final_observed_state, new_tspan, inferred_parameters=inferred_parameters)"
   ]
  },
  {
   "cell_type": "code",
   "execution_count": null,
   "id": "30d23588",
   "metadata": {},
   "outputs": [],
   "source": [
    "\n",
    "ax = setup_ax()\n",
    "ax = plot_trajectory(data, observed_tspan, ax=ax)\n",
    "ax = plot_predictive(posterior_prediction, new_tspan, ax=ax, label=\"No Intervention\")\n",
    "ax = plot_predictive(rate_intervention_prediction, new_tspan, ax=ax, color='blue', label=\"Vaccination Rate Intervention\")\n",
    "ax = plot_intervention_line(7., ax=ax)"
   ]
  },
  {
   "cell_type": "markdown",
   "id": "2b752a9d",
   "metadata": {},
   "source": [
    "## Governor: \"We have a lot more vaccines than that, but they aren't available yet!\"\n",
    "## Q: \"What would happen if we set the vaccination rate to 500 people per day for the first month, then 750, then 1000?\"\n"
   ]
  },
  {
   "cell_type": "code",
   "execution_count": null,
   "id": "d90a867d",
   "metadata": {},
   "outputs": [],
   "source": [
    "pyro.set_rng_seed(0)\n",
    "\n",
    "def ramping_rate_up_intervention_function(t):\n",
    "    month = torch.floor(t / 30.).int()\n",
    "    return torch.tensor([500.0, 750.0, 1000.])[month]\n",
    "\n",
    "ramping_rate_up_intervention = time_dependent_intervention_builder(\"SV_flux\", ramping_rate_up_intervention_function, new_tspan)\n",
    "# ramping_rate_up_intervention_model = do(plotting_ode_model, ramping_rate_up_intervention)\n",
    "plotting_ramping_rate_up_intervention_model = intervene(plotting_ode_model, ramping_rate_up_intervention)\n",
    "# ramping_rate_up_intervention_prediction = Predictive(plotting_ramping_rate_up_intervention_model, guide=guide, num_samples=num_samples)(final_observed_state, new_tspan)\n",
    "ramping_intervention_prediction = sample(plotting_ramping_rate_up_intervention_model, num_samples, final_observed_state, new_tspan, inferred_parameters=inferred_parameters)\n"
   ]
  },
  {
   "cell_type": "code",
   "execution_count": null,
   "id": "5d266aaa",
   "metadata": {},
   "outputs": [],
   "source": [
    "\n",
    "ax = setup_ax()\n",
    "ax = plot_trajectory(data, observed_tspan, ax=ax)\n",
    "ax = plot_predictive(posterior_prediction, new_tspan, ax=ax, label=\"No Intervention\")\n",
    "ax = plot_predictive(ramping_intervention_prediction, new_tspan, ax=ax, color='green', label=\"Ramping Up Vaccination Rate Intervention\")\n",
    "ax = plot_intervention_line(7., ax=ax)\n"
   ]
  },
  {
   "cell_type": "markdown",
   "id": "acf81ffa",
   "metadata": {},
   "source": [
    "## Governor: \"We can't force people to take a vaccine. Let's run a marketing campaign to encourage vaccination!\"\n",
    "## Q: \"What would happen if the marketing campaign convinces 500 **more** people per day to get vaccinated than without it?\"\n"
   ]
  },
  {
   "cell_type": "code",
   "execution_count": null,
   "id": "06793cde",
   "metadata": {},
   "outputs": [],
   "source": [
    "pyro.set_rng_seed(0)\n",
    "\n",
    "def vaccination_encouragement_intervention_function(SV_flux):\n",
    "    return SV_flux + torch.tensor([500.])\n",
    "\n",
    "vaccination_encouragement_intervention = state_dependent_intervention_builder(\"SV_flux\", vaccination_encouragement_intervention_function, new_tspan)\n",
    "# plotting_vaccination_encouragement_intervention_model = do(ode_model, vaccination_encouragement_intervention)\n",
    "plotting_vaccination_encouragement_intervention_model = intervene(plotting_ode_model, vaccination_encouragement_intervention)\n",
    "# vaccination_encouragement_intervention_prediction = Predictive(vaccination_encouragement_intervention_model, guide=guide, num_samples=num_samples)(final_observed_state, new_tspan)\n",
    "vaccination_encouragement_intervention_prediction = sample(plotting_vaccination_encouragement_intervention_model, num_samples, final_observed_state, new_tspan, inferred_parameters=inferred_parameters)\n"
   ]
  },
  {
   "cell_type": "code",
   "execution_count": null,
   "id": "7c176f2f",
   "metadata": {},
   "outputs": [],
   "source": [
    "\n",
    "ax = setup_ax()\n",
    "ax = plot_trajectory(data, observed_tspan, ax=ax)\n",
    "ax = plot_predictive(posterior_prediction, new_tspan, ax=ax, color='black', label=\"No Intervention\")\n",
    "ax = plot_predictive(vaccination_encouragement_intervention_prediction, new_tspan, ax=ax, color='purple', label=\"Vaccination Encouragement Intervention\")\n",
    "ax = plot_intervention_line(7., ax=ax)\n"
   ]
  },
  {
   "cell_type": "code",
   "execution_count": null,
   "id": "3ee5bbe6",
   "metadata": {},
   "outputs": [],
   "source": [
    "\n",
    "ax = setup_ax()\n",
    "ax = plot_trajectory(data, observed_tspan, ax=ax)\n",
    "ax = plot_predictive(posterior_prediction, new_tspan, color='black', ax=ax, label=\"No Intervention\")\n",
    "ax = plot_predictive(intervened_parameter_prediction, new_tspan, hatch='.', edgecolor=\"red\", linewidth=2.5, facecolor=\"none\", ax=ax, alpha=0.3, label=\"Vaccination Rate Parameter Intervention\")\n",
    "ax = plot_predictive(rate_intervention_prediction, new_tspan, hatch='/', ax=ax, alpha=0.3, linewidth=2.5, edgecolor='blue', facecolor=\"none\", label=\"Vaccination Rate Intervention\")\n",
    "ax = plot_predictive(ramping_intervention_prediction, new_tspan, hatch='..', linewidth=3, ax=ax, alpha=0.3, edgecolor='green', facecolor=\"none\", label=\"Ramping Up Vaccination Rate Intervention\")\n",
    "ax = plot_predictive(vaccination_encouragement_intervention_prediction, new_tspan, hatch=\"\\\\\", linewidth=2.5, ax=ax, alpha=0.3, edgecolor='black', facecolor=\"none\", label=\"Vaccination Encouragement Intervention\")\n",
    "ax = plot_intervention_line(7., ax=ax)\n"
   ]
  },
  {
   "cell_type": "markdown",
   "id": "ddb2f846",
   "metadata": {},
   "source": [
    "## Governor: \"Let's only market to young people!\"\n",
    "## Q: \"What would happen if the marketing campaign convinces 500 more people age 18-24 per day to get vaccinated than without it?\"\n"
   ]
  },
  {
   "cell_type": "code",
   "execution_count": null,
   "id": "6365fa5a",
   "metadata": {},
   "outputs": [],
   "source": [
    "\n",
    "pyro.set_rng_seed(0)\n",
    "\n",
    "stratified_intervention = state_dependent_intervention_builder(\"SV_flux_18-24\", vaccination_encouragement_intervention_function, new_tspan)\n",
    "# stratified_intervention_model = do(ode_model, stratified_intervention)\n",
    "stratified_intervention_model = intervene(ode_model, stratified_intervention)\n"
   ]
  },
  {
   "cell_type": "code",
   "execution_count": null,
   "id": "23a9e307",
   "metadata": {},
   "outputs": [],
   "source": [
    "\n",
    "import sys\n",
    "ipython = get_ipython()\n",
    "\n",
    "def hide_traceback(exc_tuple=None, filename=None, tb_offset=None,\n",
    "                   exception_only=False, running_compiled_code=False):\n",
    "    etype, value, tb = sys.exc_info()\n",
    "    value.__cause__ = None  # suppress chained exceptions\n",
    "    return ipython._showtraceback(etype, value, ipython.InteractiveTB.get_exception_only(etype, value))\n",
    "\n",
    "ipython.showtraceback = hide_traceback\n",
    "\n",
    "raise ValueError(\"The Intervention Variable SV_flux_18-24 is not defined and can not be intervened on. To fix this error, revise the model to include SV_flux_18-24\").with_traceback(None) from None"
   ]
  },
  {
   "cell_type": "markdown",
   "id": "c5a0f08a",
   "metadata": {},
   "source": [
    "# Risk-based optimization under uncertainty\n",
    "## Q: \"What is the minimal vaccination policy that results in less than 150 infected individuals after 90 days?\"\n",
    "\n",
    "### Problem Formulation\n",
    "* **Quantity of interest**: 7-day average of total infections after 90 days\n",
    "    $$M(\\mathbf{u}, \\theta) = \\frac{1}{7}\\sum_{i=0}^6 I(t=90-i;\\mathbf{u},\\theta)+I_\\text{V}(t=90-i;\\mathbf{u},\\theta)$$\n",
    "\n",
    "* **Control**: $\\mathbf{u}\\in \\mathcal{U} \\subseteq \\mathbb{R}^{n_u}$\n",
    "    * Vaccination rate parameter: $u=\\nu$\n",
    "    * Scheduled intervention changing SV_flux over each month: $\\mathbf{u} \\in \\mathbb{R}^3$\n",
    "    * Other practical policies as interventions\n"
   ]
  },
  {
   "cell_type": "markdown",
   "id": "b6c3206a",
   "metadata": {},
   "source": [
    "\n",
    "* **Risk-based optimization under uncertainty problem formulation**\n",
    "    * Objective Function - Minimize the vaccination rate.\n",
    "    * Constraint - Risk of infections exceeding the prescribed threshold of 10, $\\mathcal{R}( M(\\mathbf{u}, \\theta))$, is below the acceptable risk threshold, $\\mathcal{R}_\\text{threshold}$.\n",
    "\n",
    "\\begin{equation} \n",
    "\\begin{split} \n",
    "\\mathbf{u}^*= \\underset{\\mathbf{u}\\in\\mathcal{U}}{\\arg\\min}\\ & \\lVert \\mathbf{u} \\rVert_1 \\\\ \\text{s.t.}\\ & \\mathcal{R}( M(\\mathbf{u}, \\theta)) \\le \\mathcal{R}_\\text{threshold} \n",
    "\\end{split} \n",
    "\\end{equation}"
   ]
  },
  {
   "cell_type": "markdown",
   "id": "76fbae58",
   "metadata": {},
   "source": [
    "## Comparing risk measures"
   ]
  },
  {
   "cell_type": "markdown",
   "id": "0269c73b",
   "metadata": {},
   "source": [
    "![table_risk.png](figures/table_risk.png)"
   ]
  },
  {
   "cell_type": "markdown",
   "id": "10da7281",
   "metadata": {},
   "source": [
    "#### Adavantages of using alpha-superquantile\n",
    "* Considers magnitude of infections exceeding the threshold:\n",
    "    * Overcome limitations of hard thresholding\n",
    "    * Desirable data-informed conservativeness\n",
    "* Preserves properties of underlying quantities of interest, such as convexity"
   ]
  },
  {
   "cell_type": "code",
   "execution_count": null,
   "id": "97ab7988",
   "metadata": {},
   "outputs": [],
   "source": [
    "import os\n",
    "import time\n",
    "import pickle\n",
    "\n",
    "import sys\n",
    "sys.path.append(\"../\")\n",
    "\n",
    "import numpy as np\n",
    "from scipy import stats\n",
    "from matplotlib import ticker\n",
    "\n",
    "from pyciemss.ODE.models import SVIIvR\n",
    "from pyciemss.ODE.interventions import constant_intervention_builder\n",
    "\n",
    "from pyciemss.risk.risk_measures import alpha_quantile, alpha_superquantile\n",
    "from pyciemss.risk.ouu import computeRisk\n",
    "from pyciemss.risk.qoi import nday_rolling_average\n",
    "\n",
    "# Plotting helpers\n",
    "def sideaxis(ax):\n",
    "    ax.spines['top'].set_visible(False)\n",
    "    ax.spines['right'].set_visible(False)\n",
    "    return\n",
    "\n",
    "def sideaxishist(ax):\n",
    "    ax.spines['top'].set_visible(False)\n",
    "    ax.spines['right'].set_visible(False)\n",
    "    ax.spines['left'].set_visible(False)\n",
    "    # For y-axis\n",
    "    ax.yaxis.set_major_locator(ticker.NullLocator())\n",
    "    ax.tick_params(axis='x', labelsize=12)  # change fontsize for x-axis tick labels\n",
    "    # ax.xaxis.major.formatter._useMathText = True\n",
    "    return\n",
    "\n",
    "\n",
    "co = ['#377eb8', '#ff7f00', '#984ea3', '#ffd92f', '#a65628']\n",
    "rlabel = ['Q_alpha-based OUU', 'barQ_alpha-based OUU']"
   ]
  },
  {
   "cell_type": "markdown",
   "id": "5fb87509",
   "metadata": {},
   "source": [
    "## Exploring the difference between Quantiles and Super-Quantiles"
   ]
  },
  {
   "cell_type": "code",
   "execution_count": null,
   "id": "35ebe5d7",
   "metadata": {},
   "outputs": [],
   "source": [
    "torch.manual_seed(1)\n",
    "\n",
    "POLICY = np.array([100.])\n",
    "N_SAMPLES = 1000\n",
    "\n",
    "RISK = computeRisk(model=ode_model,\n",
    "                 intervention_fun=lambda x: constant_intervention_builder(\"SV_flux\", torch.from_numpy(x)), new_tspan)),\n",
    "                 qoi=lambda y: nday_rolling_average(y, contexts=[\"I_obs\"])),\n",
    "                 risk_measure=alpha_superquantile,\n",
    "                 num_samples=N_SAMPLES,\n",
    "                 model_state=final_observed_state,\n",
    "                 tspan=new_tspan,\n",
    "                 guide=guide\n",
    "                )\n",
    "\n",
    "start_time = time.time()\n",
    "sq_dataCube = RISK.propagate_uncertainty(POLICY)\n",
    "end_time = time.time()\n",
    "forward_time = end_time - start_time\n",
    "time_per_eval = forward_time / N_SAMPLES\n",
    "print(f\"Forward UQ took {forward_time:.2f} seconds total ({forward_time/N_SAMPLES:.2e} seconds per model evaluation).\")\n",
    "sq_qoi = RISK.qoi(sq_dataCube)\n",
    "sq_sv = RISK.risk_measure(sq_qoi)\n",
    "\n",
    "RISK.risk_measure = alpha_quantile\n",
    "q_sv = RISK(POLICY)"
   ]
  },
  {
   "cell_type": "code",
   "execution_count": null,
   "id": "7fc330e1",
   "metadata": {},
   "outputs": [],
   "source": [
    "bins_hist = 50\n",
    "fig1 = plt.figure()\n",
    "plt.rc('text', usetex=False)\n",
    "plt.rc('font', family='serif', size=18.)\n",
    "cax = plt.gca()\n",
    "sideaxishist(cax)\n",
    "cax.hist(sq_qoi, color=co[2], bins=bins_hist, histtype='stepfilled', alpha=0.5, label='total infections')\n",
    "miny = min(cax.get_ylim())\n",
    "maxy = max(cax.get_ylim())\n",
    "cax.vlines(q_sv, miny, maxy, linestyle='--', linewidth=2.5, label='alpha-quantile', color=co[0])\n",
    "cax.vlines(sq_sv, miny, maxy, linestyle='--', linewidth=2.5, label='alpha-superquantile', color=co[1])\n",
    "cax.set_xlabel('7-day average infections at 90 days', size=20)\n",
    "cax.legend(loc='upper right', prop={'size': 20})\n",
    "plt.show()"
   ]
  },
  {
   "cell_type": "markdown",
   "id": "2a4005a9",
   "metadata": {},
   "source": [
    "## Risk-based optimization under uncertainty with intervention on vaccination rate parameter $\\nu$\n",
    "**NOTE:** This is a demonstration of the interface, optimization is not run to convergence nor are enough samples generated to accurately estimate the risk, so take the results with a grain of salt."
   ]
  },
  {
   "cell_type": "code",
   "execution_count": null,
   "id": "ba6b2d82",
   "metadata": {},
   "outputs": [],
   "source": [
    "from pyciemss.risk.ouu import RandomDisplacementBounds, computeRisk, solveOUU\n",
    "from pyciemss.risk.qoi import nday_rolling_average\n",
    "from pyciemss.risk.risk_measures import alpha_superquantile, alpha_quantile\n",
    "import scipy\n",
    "\n",
    "# Define problem specifics.\n",
    "RISK_BOUND = 250.\n",
    "X_MIN = 0.\n",
    "X_MAX = 0.95\n",
    "\n",
    "N_SAMPLES = int(5e2)\n",
    "MAXITER = 10\n",
    "TOL = 1e-5\n",
    "\n",
    "RISK_ALPHA = 0.9\n",
    "\n",
    "# Control action / intervention.\n",
    "INIT_ITERATE = 0.75\n",
    "INTERVENTION = lambda x: constant_intervention_builder(\"nu\", x, new_tspan)\n",
    "\n",
    "# Objective function.\n",
    "OBJFUN = lambda x: x  # minimize the scalar value itself.\n",
    "\n",
    "# Define the risk measure.\n",
    "VAX_RISK = computeRisk(\n",
    "                        model=noisy_ode_model,\n",
    "                        intervention_fun=INTERVENTION,\n",
    "                        qoi=lambda y: nday_rolling_average(y, contexts=[\"I_obs\"])),\n",
    "                        model_state=final_observed_state,\n",
    "                        tspan=new_tspan,\n",
    "                        risk_measure=lambda z: alpha_superquantile(z, alpha=RISK_ALPHA)),\n",
    "                        num_samples=N_SAMPLES,\n",
    "                        guide=guide,\n",
    "                        )\n",
    "\n",
    "# Define problem constraints.\n",
    "CONSTRAINTS = (\n",
    "                # risk constraint\n",
    "                {'type': 'ineq', 'fun': lambda x: RISK_BOUND - VAX_RISK(x)},\n",
    "\n",
    "                # bounds on control\n",
    "                # NOTE: perhaps use scipy.optimize.LinearConstraint in the future\n",
    "                {'type': 'ineq', 'fun': lambda x: x - X_MIN},\n",
    "                {'type': 'ineq', 'fun': lambda x: X_MAX - x}\n",
    "               )"
   ]
  },
  {
   "cell_type": "code",
   "execution_count": null,
   "id": "13a9803a",
   "metadata": {},
   "outputs": [],
   "source": [
    "# Go do the dang thing.\n",
    "print(\"Performing risk-based optimization under uncertainty ...\")\n",
    "print(f\"Estimated wait time {time_per_eval*N_SAMPLES*MAXITER:.0f} seconds.\")\n",
    "sq_result = solveOUU(\n",
    "                     x0=INIT_ITERATE,\n",
    "                     objfun=OBJFUN,\n",
    "                     constraints=CONSTRAINTS,\n",
    "                     optimizer_algorithm=\"COBYLA\",\n",
    "                     tol=TOL,\n",
    "                     options={\n",
    "                         \"disp\": False,\n",
    "                         \"maxiter\": MAXITER\n",
    "                             },\n",
    "                    ).solve()\n",
    "print(f\"Optimizer finished. Optimal Vaccination rate is:\\t{sq_result.x[0]:.4}\")\n",
    "est_risk = VAX_RISK(sq_result.x[0])\n",
    "print(f\"Estimated risk was:\\t{est_risk:.2f}\")"
   ]
  },
  {
   "cell_type": "markdown",
   "id": "abfeda8c",
   "metadata": {},
   "source": [
    "## Assess the effect of the control policy."
   ]
  },
  {
   "cell_type": "code",
   "execution_count": null,
   "id": "60c9d1a9",
   "metadata": {},
   "outputs": [],
   "source": [
    "intervened_prediction = VAX_RISK.propagate_uncertainty(POLICY)\n",
    "qois = VAX_RISK.qoi(intervened_prediction)"
   ]
  },
  {
   "cell_type": "code",
   "execution_count": null,
   "id": "c92e52b7",
   "metadata": {},
   "outputs": [],
   "source": [
    "\n",
    "ax = setup_ax()\n",
    "ax = plot_trajectory(data, observed_tspan, ax=ax)\n",
    "ax = plot_predictive(posterior_prediction, new_tspan, tmin=7, ax=ax, label=\"No Intervention\")\n",
    "ax = plot_predictive(intervened_prediction, new_tspan, ax=ax, color='red', label=\"Vaccination Rate Parameter Intervention\")\n",
    "ax = plot_intervention_line(7., ax=ax)\n"
   ]
  },
  {
   "cell_type": "code",
   "execution_count": null,
   "id": "13bf129e",
   "metadata": {},
   "outputs": [],
   "source": [
    "bins_hist = 50\n",
    "fig1 = plt.figure()\n",
    "# plt.rc('text')\n",
    "plt.rc('font', family='serif', size=18.)\n",
    "cax = plt.gca()\n",
    "sideaxishist(cax)\n",
    "cax.hist(qois, color=co[2], bins=bins_hist, histtype='stepfilled', alpha=0.5, label='total infections (intervened)', density=True)\n",
    "cax.hist(VAX_RISK.qoi(posterior_prediction)), color=co[4], bins=bins_hist, histtype='stepfilled', alpha=0.5, label='do nothing', density=True)\n",
    "miny = min(cax.get_ylim())\n",
    "maxy = max(cax.get_ylim())\n",
    "cax.vlines(est_risk, miny, maxy, linestyle='--', linewidth=2.5, label='alpha-superquantile', color=co[1])\n",
    "cax.set_xlabel('7-day average infections at 90 days', size=20)\n",
    "cax.legend(loc='upper right', prop={'size': 20})\n",
    "plt.show()"
   ]
  },
  {
   "cell_type": "code",
   "execution_count": null,
   "id": "180b6df1",
   "metadata": {},
   "outputs": [],
   "source": []
  }
 ],
 "metadata": {
  "kernelspec": {
   "display_name": "jz-scenario2-eval",
   "language": "python",
   "name": "jz-scenario2-eval"
  },
  "language_info": {
   "codemirror_mode": {
    "name": "ipython",
    "version": 3
   },
   "file_extension": ".py",
   "mimetype": "text/x-python",
   "name": "python",
   "nbconvert_exporter": "python",
   "pygments_lexer": "ipython3",
   "version": "3.10.9"
  },
  "vscode": {
   "interpreter": {
    "hash": "a3e1d8fdda916c248c87d86618e3945b28961cf939001a0529e724463670a41a"
   }
  }
 },
 "nbformat": 4,
 "nbformat_minor": 5
}
