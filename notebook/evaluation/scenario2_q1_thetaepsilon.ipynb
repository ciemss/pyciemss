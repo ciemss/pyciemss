{
 "cells": [
  {
   "cell_type": "code",
   "execution_count": 1,
   "id": "b087c52b-a505-45d3-b643-df44d8c924a5",
   "metadata": {},
   "outputs": [],
   "source": [
    "%load_ext autoreload\n",
    "%autoreload 2"
   ]
  },
  {
   "cell_type": "markdown",
   "id": "542b06c1-28fb-47ec-9a34-170acc7d2a84",
   "metadata": {},
   "source": [
    "# Load Dependencies"
   ]
  },
  {
   "cell_type": "code",
   "execution_count": 2,
   "id": "84e0bb12-68af-4a6d-a384-db4837c44ac0",
   "metadata": {},
   "outputs": [],
   "source": [
    "import matplotlib.pyplot as plt\n",
    "\n",
    "import torch\n",
    "\n",
    "import pyro\n",
    "import numpy as np\n",
    "import pyro.distributions as dist\n",
    "# from pyro.poutine import trace, replay, block\n",
    "# from pyro.infer.autoguide.guides import AutoDelta, AutoNormal\n",
    "# from pyro.infer import SVI, Trace_ELBO, Predictive\n",
    "\n",
    "import sys\n",
    "sys.path.append(\"../../src/\")\n",
    "\n",
    "from pyciemss.ODE.askem_primitives import sample, infer_parameters, intervene, optimization\n",
    "\n",
    "# from pyciemss.utils import run_inference, get_tspan\n",
    "from pyciemss.utils import get_tspan\n",
    "\n",
    "import warnings\n",
    "warnings.filterwarnings('ignore')"
   ]
  },
  {
   "cell_type": "markdown",
   "id": "4855961d-9c38-4050-b6b7-aaae03500fc9",
   "metadata": {},
   "source": [
    "# Plotting Utilities"
   ]
  },
  {
   "cell_type": "code",
   "execution_count": 3,
   "id": "f233104e-c29d-4e25-859f-2a328ec7892a",
   "metadata": {},
   "outputs": [],
   "source": [
    "def setup_ax(ax=None):\n",
    "\n",
    "    if not ax:\n",
    "        fig = plt.figure(facecolor='w', figsize=(9, 5))\n",
    "        ax = fig.add_subplot(111, axisbelow=True)\n",
    "\n",
    "    ax.set_xlabel('Time (days)')\n",
    "    ax.set_ylabel('Total infected')\n",
    "    return ax\n",
    "\n",
    "def plot_predictive(prediction, tspan, tmin=None, ax=None, alpha=0.2, color=\"black\", **kwargs):\n",
    "    vars = [\"I_total_obs\"]\n",
    "    #infection_total = sum([prediction[x].squeeze().detach().numpy()/1000. for x in ['I_obs', 'D_obs', 'A_obs', 'R_obs', 'T_obs']])\n",
    "\n",
    "    I_low = torch.quantile(prediction[\"I_total_obs\"], 0.05, dim=0).detach().numpy()\n",
    "    I_up = torch.quantile(prediction[\"I_total_obs\"], 0.95, dim=0).detach().numpy()\n",
    "\n",
    "    if tmin:\n",
    "        indeces = tspan >= tmin\n",
    "    else:\n",
    "        indeces = torch.ones_like(tspan).bool()\n",
    "\n",
    "    if not ax:\n",
    "        fig = plt.figure(facecolor='w')\n",
    "        ax = fig.add_subplot(111, facecolor='#dddddd', axisbelow=True)\n",
    "    \n",
    "    ax.fill_between(tspan[indeces], I_low[indeces], I_up[indeces], alpha=alpha, color=color, **kwargs)\n",
    "\n",
    "    legend = ax.legend()\n",
    "    legend.get_frame().set_alpha(0.5)\n",
    "\n",
    "    return ax\n",
    "\n",
    "def plot_trajectory(data, tspan, ax=None, color='black', alpha=0.5, lw=0, marker='.', label=None):\n",
    "    # Plot the data on three separate curves for S(t), I(t) and R(t)\n",
    "\n",
    "    if not ax:\n",
    "        fig = plt.figure(facecolor='w')\n",
    "        ax = fig.add_subplot(111, facecolor='#dddddd', axisbelow=True)\n",
    "    #infection_total = sum([data[x].squeeze().detach().numpy()/1000. for x in ['I_obs', 'D_obs', 'A_obs', 'R_obs', 'T_obs']])\n",
    "    ax.plot(tspan, data['I_total_obs'].squeeze().detach().numpy(), color, alpha=alpha, lw=lw, marker=marker, label=label)\n",
    "    \n",
    "    return ax\n",
    "\n",
    "def plot_intervention_line(t, ax=None):\n",
    "    if not ax:\n",
    "        fig = plt.figure(facecolor='w')\n",
    "        ax = fig.add_subplot(111, facecolor='#dddddd', axisbelow=True)\n",
    "\n",
    "    ylim = ax.get_ylim()\n",
    "\n",
    "    ax.vlines(t, min(ylim), max(ylim), color=\"grey\", ls='-')\n",
    "\n",
    "    return ax\n",
    "\n",
    "def sideaxis(ax):\n",
    "    ax.spines['top'].set_visible(False)\n",
    "    ax.spines['right'].set_visible(False)\n",
    "    return\n",
    "\n",
    "def sideaxishist(ax):\n",
    "    ax.spines['top'].set_visible(False)\n",
    "    ax.spines['right'].set_visible(False)\n",
    "    ax.spines['left'].set_visible(False)\n",
    "    # For y-axis\n",
    "    ax.yaxis.set_major_locator(ticker.NullLocator())\n",
    "    ax.tick_params(axis='x', labelsize=12)  # change fontsize for x-axis tick labels\n",
    "    # ax.xaxis.major.formatter._useMathText = True\n",
    "    return\n",
    "\n",
    "def LogNormalPrior(mean, variance):\n",
    "    mu = torch.log(mean**2/torch.sqrt((mean**2 + variance)))\n",
    "    scale = torch.sqrt(torch.log(1 + variance/mean**2))\n",
    "    return dist.LogNormal(mu, scale)"
   ]
  },
  {
   "cell_type": "markdown",
   "id": "3e0c3726-5ec0-475d-8305-f20b5d84e424",
   "metadata": {},
   "source": [
    "# Setup Parameters"
   ]
  },
  {
   "cell_type": "code",
   "execution_count": 4,
   "id": "16608500-97b5-4081-9e6b-b7c193c10285",
   "metadata": {},
   "outputs": [],
   "source": [
    "full_tspan = get_tspan(1, 100, 100)\n",
    "\n",
    "num_samples = 500\n",
    "\n",
    "# Total population, N.\n",
    "N = 1\n",
    "# Initial number of infected and recovered individuals, I0 and R0.\n",
    "I0, D0, A0, R0, T0, H0, E0 = 200/60e6, 20/60e6, 1/60e6, 2/60e6, 0, 0, 0\n",
    "\n",
    "# Everyone else, S0, is susceptible to infection initially.\n",
    "\n",
    "S0 = N - I0 - D0 - A0 - R0 - T0 - H0 - E0\n",
    "\n",
    "\n",
    "#I_obs = torch.tensor([81.47, 84.3, 86.44, 89.66, 93.32, 94.1, 96.31])\n",
    "\n",
    "initial_state = tuple(torch.as_tensor(s) for s in  (S0, I0, D0, A0, R0, T0, H0, E0))\n",
    "final_observed_state = tuple(torch.as_tensor(s) for s in  (S0, I0, D0, A0, R0, T0, H0, E0))"
   ]
  },
  {
   "cell_type": "markdown",
   "id": "23fc9c9d-f8bc-4e95-a243-865690d3b43b",
   "metadata": {},
   "source": [
    "# Probabilistic Forecasting - Passing unit test 1\n",
    "There are two ‘unit tests’ we want to pass, to ensure that we understood and can reproduce the published model:\n",
    "\n",
    "## 1.a Unit Test \\#1:\n",
    "\n",
    "Set the initial values and parameters, as described in the Supplementary Methods section of the publication (pg. 9 of the pdf): \n",
    "\n",
    "1. Initial Values: \n",
    "* $I = 200/60e6$,\n",
    "* $D = 20/60e6$, \n",
    "* $A = 1/60e6$, \n",
    "* $R = 2/60e6$, \n",
    "* $T = 0$, \n",
    "* $H = 0$, \n",
    "* $E = 0$; \n",
    "* $S = 1 – I – D – A – R – T – H – E$. \n",
    "\n",
    "Let total population = 60e6.\n",
    "Parameters: $$\\alpha = 0.570, \\beta = \\delta  = 0.011, \\gamma = 0.456, \\epsilon = 0.171, \\theta = 0.371, \\zeta = \\eta = 0.125, \\mu = 0.017, \\nu = 0.027, \\tau = 0.01, \\lambda = \\rho = 0.034$$ and $$\\kappa = \\xi = \\sigma = 0.017$$."
   ]
  },
  {
   "cell_type": "code",
   "execution_count": 5,
   "id": "dbd7d430-325f-4f40-9b20-d8a0c0264f62",
   "metadata": {},
   "outputs": [],
   "source": [
    "from pyciemss.ODE.models import SIDARTHE\n",
    "\n",
    "pyro.set_rng_seed(0)\n",
    "\n",
    "ode_model = SIDARTHE(N=1,\n",
    "                 alpha_prior=dist.Delta(torch.tensor (0.570)) ,\n",
    "                 beta_prior=dist.Delta(torch.tensor (0.011)) ,\n",
    "                 gamma_prior=dist.Delta(torch.tensor (0.456)) ,\n",
    "                 delta_prior=dist.Delta(torch.tensor (0.011)) ,\n",
    "                 epsilon_prior=dist.Delta(torch.tensor (0.171)) ,\n",
    "                 lamb_prior =dist.Delta(torch.tensor (0.034)) ,\n",
    "                 zeta_prior=dist.Delta(torch.tensor (0.125)) ,\n",
    "                 eta_prior=dist.Delta(torch.tensor (0.125)) ,\n",
    "                 kappa_prior=dist.Delta(torch.tensor (0.017)) ,\n",
    "                 theta_prior=dist.Delta(torch.tensor (0.371)) ,\n",
    "                 rho_prior=dist.Delta(torch.tensor (0.034)) ,\n",
    "                 xi_prior=dist.Delta(torch.tensor (0.017)) ,\n",
    "                 sigma_prior=dist.Delta(torch.tensor (0.017)) ,\n",
    "                 mu_prior=dist.Delta(torch.tensor (0.017)) ,\n",
    "                 nu_prior=dist.Delta(torch.tensor (0.027)) ,\n",
    "                 tau_prior=dist.Delta(torch.tensor (0.01)) )"
   ]
  },
  {
   "cell_type": "code",
   "execution_count": 6,
   "id": "31473cdd-9896-42ed-b487-36362c1c9744",
   "metadata": {},
   "outputs": [],
   "source": [
    "#prior_prediction = sample(plotting_ode_model, num_samples, initial_state, full_tspan)\n",
    "single_prediction = sample(ode_model, 1, initial_state, full_tspan)"
   ]
  },
  {
   "cell_type": "code",
   "execution_count": 7,
   "id": "15f03c6f-d085-4f36-bc7a-312057d82758",
   "metadata": {},
   "outputs": [
    {
     "data": {
      "text/plain": [
       "<matplotlib.lines.Line2D at 0x7fc6d40e3c10>"
      ]
     },
     "execution_count": 7,
     "metadata": {},
     "output_type": "execute_result"
    },
    {
     "data": {
      "image/png": "[encoded data removed]",
      "text/plain": [
       "<Figure size 900x500 with 1 Axes>"
      ]
     },
     "metadata": {},
     "output_type": "display_data"
    }
   ],
   "source": [
    "ax = plot_trajectory(single_prediction, full_tspan, ax=setup_ax(), color=\"blue\", marker='', lw=1., label=\"Before Seeing Data - Single Forecast\")\n",
    "#ax = plot_predictive(prior_prediction, full_tspan, ax=ax, label=\"Before Seeing Data - Probabilistic Forecast\", color=\"red\")\n",
    "ax.axvline(47)"
   ]
  },
  {
   "cell_type": "code",
   "execution_count": null,
   "id": "57fc1e41-25d0-495e-a381-c997500a583d",
   "metadata": {},
   "outputs": [],
   "source": []
  },
  {
   "cell_type": "markdown",
   "id": "d17abb80-e619-4810-b9dd-f76a4c252ef7",
   "metadata": {},
   "source": [
    "## 1.b Unit Test \\#2: \n",
    "\n",
    "Now update the parameters to reflect various interventions that Italy implemented during the first wave, as described in detail on pg. 9.  Simulate for 100 days, reproduce the trajectories in Fig. 2B, and determine the day and level of peak total infections (sum over all the infected states I, D, A, R, T). Expected output: Trajectories in Fig. 2B, peak occurs around day 50, with ~0.2% of the total population infected."
   ]
  },
  {
   "cell_type": "code",
   "execution_count": null,
   "id": "495c2a09-a0ef-4a8d-8a1c-b9330e197122",
   "metadata": {},
   "outputs": [],
   "source": []
  },
  {
   "cell_type": "markdown",
   "id": "11148b1b-3e9e-4190-a90b-c1dc6291fa2f",
   "metadata": {},
   "source": [
    "### Day 4 social distancing\n",
    "After day 4, as a consequence of basic social-distancing measures due to the public being aware of the epidemic outbreak and due to recommendations (such  as washing hands often, not touching one’s face, avoiding handshakes and keeping  distance) and early measures (such as closing schools) by the Italian government,  we set $\\alpha= 0.422, \\beta = \\delta = 0.0057$  and $\\gamma = 0.285$, so the new basic reproduction number becomes $R_0 = 1.66$."
   ]
  },
  {
   "cell_type": "code",
   "execution_count": null,
   "id": "3fd41fe4-57d7-4fe1-be7c-6deb93210584",
   "metadata": {},
   "outputs": [],
   "source": []
  },
  {
   "cell_type": "markdown",
   "id": "37e07865-5065-4dbe-ac46-2590c8834a61",
   "metadata": {},
   "source": [
    "### Day 12 screening limited to symptomatic individuals\n",
    "Also, after day 12, we set $\\epsilon  = 0.143$ as a consequence of the policy limiting screening to symptomatic individuals only; thus, totally asymptomatic individuals  are almost no longer detected, while individuals with very mild symptoms are still  detected (hence $\\epsilon$ is not set exactly to zero). Due to this, $R_0 = 1.80$. "
   ]
  },
  {
   "cell_type": "code",
   "execution_count": null,
   "id": "f17d16be",
   "metadata": {},
   "outputs": [],
   "source": []
  },
  {
   "cell_type": "markdown",
   "id": "2701de12-74c7-4f8c-b5f1-da68e73e3c07",
   "metadata": {},
   "source": [
    "Simulate for $100$ days, and determine the day and level of peak total infections (sum over all the infected states $I, D, A, R, T$). Expected output: The peak should occur around day $47$, when $\\sim 60\\%$ of the population is infected."
   ]
  },
  {
   "cell_type": "markdown",
   "id": "1c438498-f6ff-414f-ab78-3b111fd78800",
   "metadata": {},
   "source": []
  },
  {
   "cell_type": "markdown",
   "id": "b7fcf4fc-00a8-4c92-950a-15118ab8cf7d",
   "metadata": {},
   "source": [
    "### Day 22 incomplete lockdown\n",
    "After day 22, the lockdown, at first incomplete, yields $\\alpha  = 0.360,  \\beta = \\delta = 0.005$  and $\\gamma = 0.200$;  also, $\\zeta = \\eta = 0.034, \\mu = 0.008, \\nu = 0.015, \\lambda = 0.08$  and  $\\rho= \\kappa = \\xi = \\sigma = 0.017$. Hence, the new basic reproduction number becomes $R_0 = 1.60$. "
   ]
  },
  {
   "cell_type": "code",
   "execution_count": null,
   "id": "7f577887-41c7-48c3-906f-424aae29c600",
   "metadata": {},
   "outputs": [],
   "source": []
  },
  {
   "cell_type": "markdown",
   "id": "aa345f66-ef80-4a3e-84c6-52d6fa44e30c",
   "metadata": {},
   "source": [
    "### Day 28 fully operational lockdown\n",
    "After day 28, the lockdown is fully operational and gets stricter (working is no longer a good reason for going out: gradually, non-indispensable activities are  stopped): we get $\\alpha  = 0.210$ and $\\gamma = \n",
    "0.110$,  hence $R_0 = 0.99$. "
   ]
  },
  {
   "cell_type": "code",
   "execution_count": null,
   "id": "e67b4f96-696e-4a33-961f-2971f34fc86d",
   "metadata": {},
   "outputs": [],
   "source": []
  },
  {
   "cell_type": "markdown",
   "id": "8061e2a9-5541-4c14-bad5-d3a012077de2",
   "metadata": {},
   "source": [
    "### Day 38 wider testing campaign launched\n",
    "After day 38, a wider testing campaign is launched: this yields $\\epsilon  = 0.200$,  and also $\\rho  = \\kappa = \\xi = 0.020$,  while $\\sigma = 0.010$  and $\\zeta = \\eta = 0.025$.  Therefore, $R_0 = 0.85$."
   ]
  },
  {
   "cell_type": "code",
   "execution_count": 8,
   "id": "795ecb3a",
   "metadata": {},
   "outputs": [],
   "source": [
    "from pyciemss.ODE.models import SIDARTHE\n",
    "\n",
    "pyro.set_rng_seed(0)\n",
    "\n",
    "var_prior = 0.05**2\n",
    "\n",
    "ode_model = SIDARTHE(N=1,\n",
    "                 alpha_prior=LogNormalPrior(torch.tensor(0.570), torch.tensor(var_prior)) ,\n",
    "                 beta_prior=LogNormalPrior(torch.tensor(0.011), torch.tensor(var_prior)) ,\n",
    "                 gamma_prior=LogNormalPrior(torch.tensor(0.456), torch.tensor(var_prior)) ,\n",
    "                 delta_prior=LogNormalPrior(torch.tensor(0.011), torch.tensor(var_prior)) ,\n",
    "                 epsilon_prior=LogNormalPrior(torch.tensor(0.171), torch.tensor(var_prior)) ,\n",
    "                 lamb_prior =LogNormalPrior(torch.tensor(0.034), torch.tensor(var_prior)) ,\n",
    "                 zeta_prior=LogNormalPrior(torch.tensor(0.125), torch.tensor(var_prior)) ,\n",
    "                 eta_prior=LogNormalPrior(torch.tensor(0.125), torch.tensor(var_prior)) ,\n",
    "                 kappa_prior=LogNormalPrior(torch.tensor(0.017), torch.tensor(var_prior)) ,\n",
    "                 theta_prior=LogNormalPrior(torch.tensor(0.371), torch.tensor(var_prior)) ,\n",
    "                 rho_prior=LogNormalPrior(torch.tensor(0.034), torch.tensor(var_prior)) ,\n",
    "                 xi_prior=LogNormalPrior(torch.tensor(0.017), torch.tensor(var_prior)) ,\n",
    "                 sigma_prior=LogNormalPrior(torch.tensor(0.017), torch.tensor(var_prior)) ,\n",
    "                 mu_prior=LogNormalPrior(torch.tensor(0.017), torch.tensor(var_prior)) ,\n",
    "                 nu_prior=LogNormalPrior(torch.tensor(0.027), torch.tensor(var_prior)) ,\n",
    "                 tau_prior=LogNormalPrior(torch.tensor(0.01), torch.tensor(var_prior)) )\n",
    "\n",
    "prior_prediction = sample(ode_model, num_samples, initial_state, full_tspan)\n",
    "# single_prediction = sample(ode_model, 1, initial_state, full_tspan)\n",
    "# ax = plot_trajectory(single_prediction, full_tspan, ax=setup_ax(), color=\"blue\", marker='', lw=1., label=\"Before Seeing Data - Single Forecast\")"
   ]
  },
  {
   "cell_type": "code",
   "execution_count": 9,
   "id": "f62475f8",
   "metadata": {},
   "outputs": [
    {
     "data": {
      "image/png": "[encoded data removed]",
      "text/plain": [
       "<Figure size 900x500 with 1 Axes>"
      ]
     },
     "metadata": {},
     "output_type": "display_data"
    }
   ],
   "source": [
    "ax1 = plot_predictive(prior_prediction, full_tspan, ax=setup_ax(), label=\"probabilistic forecast\", color=\"red\")\n",
    "ax1.axvline(47)\n",
    "sideaxis(ax1)"
   ]
  },
  {
   "cell_type": "markdown",
   "id": "da8e85b3-25df-4001-8cdf-cc47779fc584",
   "metadata": {},
   "source": [
    "## 1.c Sensitivity analysis"
   ]
  },
  {
   "cell_type": "code",
   "execution_count": null,
   "id": "79911dc3-6611-45d3-be49-f2e190b616c2",
   "metadata": {},
   "outputs": [],
   "source": []
  },
  {
   "cell_type": "markdown",
   "id": "c65bcf10-9d12-4efe-be10-cc313e123d14",
   "metadata": {},
   "source": [
    "## 1.d Policies that prevent infections from exceeding 1/3 of the population\n",
    "\n",
    "Now return to the situation in b.i (constant parameters that don’t change over time). Let’s say we want to increase testing, diagnostics, and contact tracing efforts (implemented by increasing the detection parameters  and ). Assume that $\\theta \\ge 2\\epsilon$ , because a symptomatic person is more likely to be tested. What minimum constant values do these parameters need to be over the course of a 100-day simulation, to ensure that the total infected population (sum over all the infected states I, D, A, R, T) never rises above 1/3 of the total population?\n",
    "\n",
    "\n",
    "\n",
    "\n",
    "### Problem Formulation\n",
    "* **Quantity of interest**:  Total infections out of $N=60,000,000$ population\n",
    "$$I_{total}(t; \\mathbf{u}, \\mathbf{Z}) = I(t) + D(t) + A(t) + R(t) + T(t)$$\n",
    "\n",
    "A conservative estimate for the quantity of interest is\n",
    "$$M(u, Z) = \\max_{1\\leq t \\leq 100} I_{total}(t; \\mathbf{u}, \\mathbf{Z})/N$$\n",
    "\n",
    "\n",
    "\n",
    "\n",
    "* **Control**: $\\mathbf{u}\\in \\mathcal{U} \\subseteq \\mathbb{R}^{n_u}$\n",
    "    * Detection parameter for Infected ($\\epsilon$) assuming that $\\theta=2\\epsilon$\n",
    "    * Two detection parameters $\\theta, \\epsilon$, constraining $\\theta \\ge 2\\epsilon$.\n",
    "    \n",
    "\n",
    "\n",
    "* **Risk-based optimization under uncertainty problem formulation**\n",
    "    * Objective Function - Minimize the magnitude of the parameter interventions.\n",
    "    * Constraint - Risk of normalized total infections exceeding the prescribed threshold of $1/3$, $\\mathcal{R}( M(\\mathbf{u},\\mathbf{Z}))$, is below the acceptable risk threshold, $\\mathcal{R}_\\text{threshold}$.\n",
    "\n",
    "\\begin{equation} \n",
    "\\begin{split} \n",
    "\\mathbf{u}^*= \\underset{\\mathbf{u}\\in\\mathcal{U}}{\\arg\\min}\\ & \\lVert \\mathbf{u} \\rVert_1 \\\\ \\text{s.t.}\\ & \\mathcal{R}( M(\\mathbf{u}, \\theta)) \\le \\mathcal{R}_\\text{threshold} \n",
    "\\end{split} \n",
    "\\end{equation}\n",
    "\n",
    "#### Formulation 1: Optimize $\\epsilon$ only, assuming $\\theta = 2\\epsilon$\n",
    "\\begin{equation} \n",
    "\\begin{split} \n",
    "\\epsilon^*= \\underset{\\epsilon\\in\\mathcal{U}}{\\arg\\min}\\ & \\epsilon \\\\ \\text{s.t.}\\ & \\mathbb{P}( M(\\epsilon, \\mathbf{Z}) \\ge 1/3) \\le 0.05\n",
    "\\end{split} \n",
    "\\end{equation}\n",
    "\n",
    "#### Formulation 2: Optimize $\\epsilon$ and $\\theta$ constraining $\\theta \\ge 2\\epsilon$\n",
    "\\begin{equation} \n",
    "\\begin{split} \n",
    "\\epsilon^\\ast, \\theta^\\ast= \\underset{\\{\\epsilon,\\theta\\}\\in\\mathcal{U}}{\\arg\\min}\\ & \\theta + \\epsilon \\\\ \\text{s.t.}\\ & \\mathbb{P}( M(\\epsilon,\\theta, \\mathbf{Z}) \\ge 1/3) \\le 0.05, \\\\\n",
    "& \\theta \\ge 2\\epsilon\n",
    "\\end{split} \n",
    "\\end{equation}\n",
    "\n",
    "Apart from probability of exceedance, we will explore quantiles and superquantiles as risk measures."
   ]
  },
  {
   "cell_type": "markdown",
   "id": "b17b31c6",
   "metadata": {},
   "source": [
    "# Probabilistic forecasting - Exploring interventions\n"
   ]
  },
  {
   "cell_type": "code",
   "execution_count": 10,
   "id": "44c86c6c",
   "metadata": {},
   "outputs": [],
   "source": [
    "\n",
    "from causal_pyro.query.do_messenger import do\n",
    "from pyciemss.ODE.interventions import constant_intervention_builder, time_dependent_intervention_builder, state_dependent_intervention_builder, parameter_intervention_builder\n",
    "new_tspan = full_tspan"
   ]
  },
  {
   "cell_type": "markdown",
   "id": "7b8a45b6",
   "metadata": {},
   "source": [
    "\n",
    "## Q: \"What would happen if we set the diagnosis rate parameters, $\\theta, \\epsilon$?\"\n"
   ]
  },
  {
   "cell_type": "code",
   "execution_count": 11,
   "id": "14565c79",
   "metadata": {},
   "outputs": [],
   "source": [
    "pyro.set_rng_seed(0)\n",
    "\n",
    "# # Apply intervention to model\n",
    "# intervened_model = do(self.model, self.intervention_fun(x))\n",
    "# samples = Predictive(intervened_model, guide=None, num_samples=num_samples)(initial_state, new_tspan)\n",
    "\n",
    "plotting_intervened_parameter_model = do(ode_model, {\"epsilon\": torch.tensor([0.4]), \"theta\": torch.tensor([1.1])})\n",
    "# intervened_parameter_prediction = Predictive(intervened_parameter_model, guide=guide, num_samples=num_samples)(final_observed_state, new_tspan)\n",
    "intervened_parameter_prediction = sample(plotting_intervened_parameter_model, num_samples, initial_state, new_tspan)\n",
    "# posterior_prediction = Predictive(plotting_intervened_parameter_model, guide=None, num_samples=num_samples)(initial_state, new_tspan)"
   ]
  },
  {
   "cell_type": "code",
   "execution_count": 12,
   "id": "cf692801",
   "metadata": {},
   "outputs": [
    {
     "data": {
      "image/png": "[encoded data removed]",
      "text/plain": [
       "<Figure size 900x500 with 1 Axes>"
      ]
     },
     "metadata": {},
     "output_type": "display_data"
    }
   ],
   "source": [
    "ax = setup_ax()\n",
    "ax = plot_predictive(prior_prediction, new_tspan, tmin=7, ax=ax, label=\"no intervention\")\n",
    "ax = plot_predictive(intervened_parameter_prediction, new_tspan, ax=ax, color='red', label=\"epsilon parameter intervention\")\n",
    "sideaxis(ax)"
   ]
  },
  {
   "cell_type": "code",
   "execution_count": 13,
   "id": "97ab7988",
   "metadata": {},
   "outputs": [],
   "source": [
    "import os\n",
    "import time\n",
    "import pickle\n",
    "\n",
    "import numpy as np\n",
    "from scipy import stats\n",
    "from matplotlib import ticker\n",
    "\n",
    "# from pyciemss.ODE.models import SVIIvR\n",
    "from pyciemss.ODE.interventions import constant_intervention_builder, parameter_intervention_builder\n",
    "\n",
    "from pyciemss.risk.risk_measures import alpha_quantile, alpha_superquantile\n",
    "from pyciemss.risk.ouu import computeRisk, solveOUU\n",
    "from pyciemss.risk.qoi import max_total_infections_SIDARTHE\n",
    "import scipy\n",
    "\n",
    "co = ['#377eb8', '#ff7f00', '#984ea3', '#ffd92f', '#a65628']\n",
    "rlabel = ['Q_alpha-based OUU', 'barQ_alpha-based OUU']"
   ]
  },
  {
   "cell_type": "markdown",
   "id": "5fb87509",
   "metadata": {},
   "source": [
    "## Exploring the difference between Quantiles and Superquantiles"
   ]
  },
  {
   "cell_type": "code",
   "execution_count": 14,
   "id": "35ebe5d7",
   "metadata": {},
   "outputs": [
    {
     "name": "stdout",
     "output_type": "stream",
     "text": [
      "Forward UQ took 83.14 seconds total (1.66e-01 seconds per model evaluation).\n",
      "0.43504561185836754 0.6596933996677397\n"
     ]
    }
   ],
   "source": [
    "torch.manual_seed(1)\n",
    "\n",
    "POLICY = np.array([0.45,1.])\n",
    "N_SAMPLES = 500\n",
    "\n",
    "RISK = computeRisk(model=ode_model,\n",
    "#                  intervention_fun=lambda x: parameter_intervention_builder(\"epsilon\", torch.from_numpy(x)),\n",
    "                 intervention_fun=lambda x: {\"epsilon\": torch.from_numpy(np.array([x[0]])), \n",
    "                                             \"theta\": torch.from_numpy(np.array([x[1]]))},\n",
    "                 qoi=lambda y: max_total_infections_SIDARTHE(y, contexts=[\"I_total_obs\"]),\n",
    "                 risk_measure=alpha_superquantile,\n",
    "                 num_samples=N_SAMPLES,\n",
    "                 model_state=final_observed_state,\n",
    "                 tspan=new_tspan,\n",
    "                 guide=None)\n",
    "\n",
    "start_time = time.time()\n",
    "sq_dataCube = RISK.propagate_uncertainty(POLICY)\n",
    "end_time = time.time()\n",
    "forward_time = end_time - start_time\n",
    "time_per_eval = forward_time / N_SAMPLES\n",
    "print(f\"Forward UQ took {forward_time:.2f} seconds total ({forward_time/N_SAMPLES:.2e} seconds per model evaluation).\")\n",
    "sq_qoi = RISK.qoi(sq_dataCube)\n",
    "sq_sv = RISK.risk_measure(sq_qoi)\n",
    "\n",
    "RISK.risk_measure = alpha_quantile\n",
    "q_sv = RISK(POLICY)\n",
    "print(q_sv, sq_sv)"
   ]
  },
  {
   "cell_type": "code",
   "execution_count": 15,
   "id": "7fc330e1",
   "metadata": {},
   "outputs": [
    {
     "data": {
      "text/plain": [
       "<matplotlib.legend.Legend at 0x7fc6d2eb3340>"
      ]
     },
     "execution_count": 15,
     "metadata": {},
     "output_type": "execute_result"
    },
    {
     "data": {
      "image/png": "[encoded data removed]",
      "text/plain": [
       "<Figure size 640x480 with 1 Axes>"
      ]
     },
     "metadata": {},
     "output_type": "display_data"
    }
   ],
   "source": [
    "bins_hist = 50\n",
    "fig1 = plt.figure()\n",
    "plt.rc('text', usetex=False)\n",
    "plt.rc('font', family='serif', size=18.)\n",
    "cax = plt.gca()\n",
    "sideaxishist(cax)\n",
    "cax.hist(sq_qoi, color=co[2], bins=bins_hist, histtype='stepfilled', alpha=0.5, label='total infections')\n",
    "miny = min(cax.get_ylim())\n",
    "maxy = max(cax.get_ylim())\n",
    "cax.vlines(q_sv, miny, maxy, linestyle='--', linewidth=2.5, label='alpha-quantile', color=co[0])\n",
    "cax.vlines(sq_sv, miny, maxy, linestyle='--', linewidth=2.5, label='alpha-superquantile', color=co[1])\n",
    "cax.set_xlabel('Maximum total infections over 100 days', size=14)\n",
    "cax.legend(loc='upper right', prop={'size': 14})"
   ]
  },
  {
   "cell_type": "markdown",
   "id": "2a4005a9",
   "metadata": {},
   "source": [
    "## Risk-based optimization under uncertainty with intervention on detection rate parameters $\\theta, \\epsilon$\n",
    "**NOTE:** This is a demonstration of the interface, optimization is not run to convergence nor are enough samples generated to accurately estimate the risk, so take the results with a grain of salt."
   ]
  },
  {
   "cell_type": "code",
   "execution_count": 21,
   "id": "6fe11138",
   "metadata": {},
   "outputs": [],
   "source": [
    "# Define problem specifics.\n",
    "RISK_BOUND = 1./3.\n",
    "X_MIN = 0.\n",
    "X_MAX = 3.\n",
    "N_SAMPLES = int(5e2)\n",
    "MAXITER = 0\n",
    "MAXFEVAL = 30\n",
    "# TOL = 1e-5\n",
    "\n",
    "RISK_ALPHA = 0.95\n",
    "\n",
    "# Control action / intervention.\n",
    "INIT_GUESS = np.array([0.5,1.5])\n",
    "INTERVENTION = lambda x: {\"epsilon\": torch.from_numpy(np.array([x[0]])), \"theta\": torch.from_numpy(np.array([x[1]]))}\n",
    "\n",
    "# Objective function.\n",
    "OBJFUN = lambda x: np.sum(x)  # minimize the scalar value itself."
   ]
  },
  {
   "cell_type": "code",
   "execution_count": 22,
   "id": "ba6b2d82",
   "metadata": {},
   "outputs": [],
   "source": [
    "# Define the risk measure.\n",
    "RISK = computeRisk(\n",
    "                        model=ode_model,\n",
    "                        intervention_fun=INTERVENTION,\n",
    "                        qoi=lambda y: max_total_infections_SIDARTHE(y, contexts=[\"I_total_obs\"]),\n",
    "                        model_state=final_observed_state,\n",
    "                        tspan=new_tspan,\n",
    "                        risk_measure=lambda z: alpha_superquantile(z, alpha=RISK_ALPHA),\n",
    "                        num_samples=N_SAMPLES,\n",
    "                        guide=None,\n",
    "                        )\n",
    "\n",
    "# Define problem constraints.\n",
    "CONSTRAINTS = (\n",
    "                # risk constraint\n",
    "                {'type': 'ineq', 'fun': lambda x: RISK_BOUND - RISK(x)},\n",
    "                {'type': 'ineq', 'fun': lambda x: x[1] - 2*x[0]},\n",
    "\n",
    "                # bounds on control\n",
    "                # NOTE: perhaps use scipy.optimize.LinearConstraint in the future\n",
    "                {'type': 'ineq', 'fun': lambda x: x - X_MIN},\n",
    "                {'type': 'ineq', 'fun': lambda x: X_MAX - x}\n",
    "               )"
   ]
  },
  {
   "cell_type": "code",
   "execution_count": 23,
   "id": "13a9803a",
   "metadata": {
    "scrolled": false
   },
   "outputs": [
    {
     "name": "stdout",
     "output_type": "stream",
     "text": [
      "Performing risk-based optimization under uncertainty (using alpha-superquantile)...\n",
      "Estimated wait time 2494.3 seconds.\n",
      "Optimization completed in time 2655.18 seconds. Optimal epsilon:\t[0.4320148  1.80192281]\n"
     ]
    }
   ],
   "source": [
    "print(\"Performing risk-based optimization under uncertainty (using alpha-superquantile)...\")\n",
    "print(f\"Estimated wait time {time_per_eval*N_SAMPLES*(MAXITER+1)*MAXFEVAL:.1f} seconds.\")\n",
    "start_time = time.time()\n",
    "sq_result_1 = solveOUU(\n",
    "                     x0=INIT_GUESS,\n",
    "                     objfun=OBJFUN,\n",
    "                     constraints=CONSTRAINTS,\n",
    "                     maxiter=MAXITER,\n",
    "                     maxfeval=MAXFEVAL,\n",
    "                    ).solve()\n",
    "print(f\"Optimization completed in time {time.time()-start_time:.2f} seconds. Optimal epsilon:\\t{sq_result_1.x}\")\n",
    "# est_risk_sq1 = RISK(sq_result_1.x)\n",
    "# print(f\"Estimated risk:\\t{est_risk_sq1:.2f}\")"
   ]
  },
  {
   "cell_type": "code",
   "execution_count": 24,
   "id": "ff6e2279",
   "metadata": {},
   "outputs": [],
   "source": [
    "# Define the risk measure.\n",
    "RISK = computeRisk(\n",
    "                        model=ode_model,\n",
    "                        intervention_fun=INTERVENTION,\n",
    "                        qoi=lambda y: max_total_infections_SIDARTHE(y, contexts=[\"I_total_obs\"]),\n",
    "                        model_state=final_observed_state,\n",
    "                        tspan=new_tspan,\n",
    "                        risk_measure=lambda z: alpha_quantile(z, alpha=RISK_ALPHA),\n",
    "                        num_samples=N_SAMPLES,\n",
    "                        guide=None,\n",
    "                        )\n",
    "\n",
    "# Define problem constraints.\n",
    "CONSTRAINTS = (\n",
    "                # risk constraint\n",
    "                {'type': 'ineq', 'fun': lambda x: RISK_BOUND - RISK(x)},\n",
    "                {'type': 'ineq', 'fun': lambda x: x[1] - 2*x[0]},\n",
    "\n",
    "                # bounds on control\n",
    "                # NOTE: perhaps use scipy.optimize.LinearConstraint in the future\n",
    "                {'type': 'ineq', 'fun': lambda x: x - X_MIN},\n",
    "                {'type': 'ineq', 'fun': lambda x: X_MAX - x}\n",
    "               )"
   ]
  },
  {
   "cell_type": "code",
   "execution_count": null,
   "id": "93709fdf",
   "metadata": {
    "scrolled": false
   },
   "outputs": [
    {
     "name": "stdout",
     "output_type": "stream",
     "text": [
      "Performing risk-based optimization under uncertainty (using alpha-quantile)...\n",
      "Estimated wait time 2494.3 seconds.\n"
     ]
    }
   ],
   "source": [
    "print(\"Performing risk-based optimization under uncertainty (using alpha-quantile)...\")\n",
    "print(f\"Estimated wait time {time_per_eval*N_SAMPLES*(MAXITER+1)*MAXFEVAL:.1f} seconds.\")\n",
    "start_time = time.time()\n",
    "q_result_1 = solveOUU(\n",
    "                     x0=INIT_GUESS,\n",
    "                     objfun=OBJFUN,\n",
    "                     constraints=CONSTRAINTS,\n",
    "                     maxiter=MAXITER\n",
    "                    ).solve()\n",
    "print(f\"Optimization completed in time {time.time()-start_time:.2f} seconds. Optimal epsilon:\\t{q_result_1.x}\")\n",
    "# est_risk_q1 = RISK(q_result_1.x)\n",
    "# print(f\"Estimated risk:\\t{est_risk_q1:.2f}\")"
   ]
  },
  {
   "cell_type": "markdown",
   "id": "abfeda8c",
   "metadata": {},
   "source": [
    "## Assess the effect of the control policy."
   ]
  },
  {
   "cell_type": "code",
   "execution_count": null,
   "id": "60c9d1a9",
   "metadata": {},
   "outputs": [],
   "source": [
    "RISK.num_samples = int(5e2)\n",
    "q_optimal_prediction = RISK.propagate_uncertainty(q_result_1.x)\n",
    "sq_optimal_prediction = RISK.propagate_uncertainty(sq_result_1.x)\n",
    "qois_q = RISK.qoi(q_optimal_prediction)\n",
    "qois_sq = RISK.qoi(sq_optimal_prediction)\n",
    "# sq_sv = RISK.risk_measure(qois_q)\n",
    "# RISK.risk_measure = alpha_quantile\n",
    "# q_sv = RISK(POLICY)"
   ]
  },
  {
   "cell_type": "code",
   "execution_count": null,
   "id": "c92e52b7",
   "metadata": {},
   "outputs": [],
   "source": [
    "ax = setup_ax()\n",
    "ax = plot_predictive(q_optimal_prediction, new_tspan, ax=ax, color=co[1], label=\"alpha-quantile OUU\")\n",
    "ax = plot_predictive(sq_optimal_prediction, new_tspan, ax=ax, color=co[2], label=\"alpha-superquantile OUU\")\n",
    "plt.title(\"Epsilon parameter intervention (theta=2*epsilon)\", size=14)\n",
    "sideaxis(ax)"
   ]
  },
  {
   "cell_type": "code",
   "execution_count": null,
   "id": "13bf129e",
   "metadata": {},
   "outputs": [],
   "source": [
    "bins_hist = 50\n",
    "fig1 = plt.figure()\n",
    "plt.rc('font', family='serif', size=14.)\n",
    "cax = plt.gca()\n",
    "sideaxishist(cax)\n",
    "cax.hist(qois_q, color=co[2], bins=bins_hist, histtype='stepfilled', alpha=0.5, label=\"alpha-quantile OUU\", density=True)\n",
    "cax.hist(qois_sq, color=co[4], bins=bins_hist, histtype='stepfilled', alpha=0.5, label=\"alpha-superquantile OUU\", density=True)\n",
    "miny = min(cax.get_ylim())\n",
    "maxy = max(cax.get_ylim())\n",
    "# cax.vlines(est_risk, miny, maxy, linestyle='--', linewidth=2.5, label='alpha-superquantile', color=co[1])\n",
    "cax.set_xlabel('Maximum total infections over 100 days', size=14)\n",
    "cax.legend(loc='upper right', prop={'size': 14})"
   ]
  }
 ],
 "metadata": {
  "kernelspec": {
   "display_name": "Python 3 (ipykernel)",
   "language": "python",
   "name": "python3"
  },
  "language_info": {
   "codemirror_mode": {
    "name": "ipython",
    "version": 3
   },
   "file_extension": ".py",
   "mimetype": "text/x-python",
   "name": "python",
   "nbconvert_exporter": "python",
   "pygments_lexer": "ipython3",
   "version": "3.9.7"
  },
  "vscode": {
   "interpreter": {
    "hash": "a3e1d8fdda916c248c87d86618e3945b28961cf939001a0529e724463670a41a"
   }
  }
 },
 "nbformat": 4,
 "nbformat_minor": 5
}
