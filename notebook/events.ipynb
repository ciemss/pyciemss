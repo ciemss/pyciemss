{
 "cells": [
  {
   "cell_type": "code",
   "execution_count": 18,
   "metadata": {},
   "outputs": [],
   "source": [
    "import os\n",
    "\n",
    "from pyciemss.ODE.base import BetaNoisePetriNetODESystem\n",
    "from pyciemss.ODE.events import Event, StartEvent, LoggingEvent, ObservationEvent, StaticParameterInterventionEvent\n",
    "import pyciemss\n",
    "import torch"
   ]
  },
  {
   "cell_type": "code",
   "execution_count": 3,
   "metadata": {},
   "outputs": [
    {
     "data": {
      "text/plain": [
       "{'I': tensor([0.0097, 0.0093, 0.0089, 0.0084, 0.0079, 0.0074, 0.0068, 0.0063, 0.0058]),\n",
       " 'R': tensor([0.0096, 0.0188, 0.0276, 0.0360, 0.0439, 0.0513, 0.0582, 0.0646, 0.0704]),\n",
       " 'S': tensor([0.9807, 0.9719, 0.9635, 0.9556, 0.9482, 0.9413, 0.9350, 0.9291, 0.9238])}"
      ]
     },
     "execution_count": 3,
     "metadata": {},
     "output_type": "execute_result"
    }
   ],
   "source": [
    "STARTERKIT_PATH = \"../test/models/starter_kit_examples/\"\n",
    "MIRA_PATH = \"../test/models/evaluation_examples/\"\n",
    "\n",
    "filename = \"CHIME-SIR/model_petri.json\"\n",
    "filename = os.path.join(STARTERKIT_PATH, filename)\n",
    "\n",
    "model = BetaNoisePetriNetODESystem.from_mira(filename)\n",
    "\n",
    "start_event = StartEvent(0.0, {\"S\": 0.99, \"I\": 0.01, \"R\": 0.0})\n",
    "model.load_event(start_event)\n",
    "\n",
    "tspan = range(1, 10)\n",
    "logging_events = [LoggingEvent(t) for t in tspan]\n",
    "model.load_events(logging_events)\n",
    "\n",
    "solution = model()\n",
    "\n",
    "# See that the solution returns a dictionary where each value has length 10, one for each logging event.\n",
    "assert len(solution[\"I\"]) == len(solution[\"R\"]) == len(solution[\"S\"]) == len(tspan)\n",
    "\n",
    "solution"
   ]
  },
  {
   "cell_type": "code",
   "execution_count": 4,
   "metadata": {},
   "outputs": [],
   "source": [
    "# Remove logging events\n",
    "model.remove_logging_events()\n",
    "\n",
    "# Add observations\n",
    "observation_events = [ObservationEvent(1.1, {\"S\": 0.9, \"I\": 0.09, \"R\": 0.01}), \n",
    "                      ObservationEvent(2.1, {\"S\": 0.8, \"I\": 0.18, \"R\": 0.02}),\n",
    "                      ObservationEvent(3.1, {\"S\": 0.7, \"I\": 0.27, \"R\": 0.03}),\n",
    "                      ObservationEvent(4.1, {\"S\": 0.6, \"I\": 0.36, \"R\": 0.04})]\n",
    "\n",
    "model.load_events(observation_events)"
   ]
  },
  {
   "cell_type": "code",
   "execution_count": 5,
   "metadata": {},
   "outputs": [
    {
     "data": {
      "text/plain": [
       "[StartEvent(time=0.0, initial_state={'S': tensor(0.9900), 'I': tensor(0.0100), 'R': tensor(0.)}),\n",
       " ObservationEvent(time=1.100000023841858, observation={'S': tensor(0.9000), 'I': tensor(0.0900), 'R': tensor(0.0100)}),\n",
       " ObservationEvent(time=2.0999999046325684, observation={'S': tensor(0.8000), 'I': tensor(0.1800), 'R': tensor(0.0200)}),\n",
       " ObservationEvent(time=3.0999999046325684, observation={'S': tensor(0.7000), 'I': tensor(0.2700), 'R': tensor(0.0300)}),\n",
       " ObservationEvent(time=4.099999904632568, observation={'S': tensor(0.6000), 'I': tensor(0.3600), 'R': tensor(0.0400)})]"
      ]
     },
     "execution_count": 5,
     "metadata": {},
     "output_type": "execute_result"
    }
   ],
   "source": [
    "model._static_events"
   ]
  },
  {
   "cell_type": "code",
   "execution_count": 6,
   "metadata": {},
   "outputs": [
    {
     "name": "stdout",
     "output_type": "stream",
     "text": [
      "[iteration 0001] loss: 20.1702\n",
      "[iteration 0026] loss: 22.6139\n",
      "[iteration 0051] loss: 19.8579\n",
      "[iteration 0076] loss: 20.5666\n"
     ]
    }
   ],
   "source": [
    "# Show that inference works.\n",
    "\n",
    "from pyro.infer.autoguide import AutoNormal\n",
    "from pyro.poutine import block\n",
    "from pyro.infer import SVI, Trace_ELBO\n",
    "from pyro.optim import Adam\n",
    "import pyro\n",
    "\n",
    "guide = AutoNormal(model)\n",
    "optim = Adam({'lr': 0.03})\n",
    "loss_f = Trace_ELBO(num_particles=1)\n",
    "verbose = True\n",
    "\n",
    "svi = SVI(model, guide, optim, loss=loss_f)\n",
    "\n",
    "pyro.clear_param_store()\n",
    "\n",
    "for j in range(100):\n",
    "    # calculate the loss and take a gradient step\n",
    "    # Passing a data argument to svi.step() will condition the model on the data.\n",
    "    loss = svi.step()\n",
    "    if verbose:\n",
    "        if j % 25 == 0:\n",
    "            print(\"[iteration %04d] loss: %.4f\" % (j + 1, loss))"
   ]
  },
  {
   "cell_type": "code",
   "execution_count": 7,
   "metadata": {},
   "outputs": [],
   "source": [
    "# Remove the observation events\n",
    "model.remove_observation_events()"
   ]
  },
  {
   "cell_type": "code",
   "execution_count": 8,
   "metadata": {},
   "outputs": [],
   "source": [
    "# Load some static parameter intervention events\n",
    "model.load_event(StaticParameterInterventionEvent(2.99, \"beta\", 0.0))\n",
    "model.load_event(StaticParameterInterventionEvent(4.11, \"beta\", 10.))\n",
    "\n",
    "# Load the logging events again\n",
    "model.load_events(logging_events)"
   ]
  },
  {
   "cell_type": "code",
   "execution_count": 9,
   "metadata": {},
   "outputs": [
    {
     "data": {
      "text/plain": [
       "[StartEvent(time=0.0, initial_state={'S': tensor(0.9900), 'I': tensor(0.0100), 'R': tensor(0.)}),\n",
       " LoggingEvent(time=1),\n",
       " LoggingEvent(time=2),\n",
       " StaticParameterInterventionEvent(time=2.990000009536743, parameter=beta, value=0.0),\n",
       " LoggingEvent(time=3),\n",
       " LoggingEvent(time=4),\n",
       " StaticParameterInterventionEvent(time=4.110000133514404, parameter=beta, value=10.0),\n",
       " LoggingEvent(time=5),\n",
       " LoggingEvent(time=6),\n",
       " LoggingEvent(time=7),\n",
       " LoggingEvent(time=8),\n",
       " LoggingEvent(time=9)]"
      ]
     },
     "execution_count": 9,
     "metadata": {},
     "output_type": "execute_result"
    }
   ],
   "source": [
    "model._static_events"
   ]
  },
  {
   "cell_type": "code",
   "execution_count": 10,
   "metadata": {},
   "outputs": [
    {
     "data": {
      "text/plain": [
       "[]"
      ]
     },
     "execution_count": 10,
     "metadata": {},
     "output_type": "execute_result"
    }
   ],
   "source": [
    "model._observation_var_names"
   ]
  },
  {
   "cell_type": "code",
   "execution_count": 11,
   "metadata": {},
   "outputs": [],
   "source": [
    "# use pyro predictive\n",
    "from pyro.infer import Predictive\n",
    "\n",
    "# Get the return value of model.\n",
    "predictions = Predictive(model, guide=guide, num_samples=10)()"
   ]
  },
  {
   "cell_type": "code",
   "execution_count": 12,
   "metadata": {},
   "outputs": [
    {
     "data": {
      "text/plain": [
       "{'a_beta': tensor([1.0564, 1.0765, 1.0672, 1.0678, 1.0245, 1.0540, 1.0822, 1.0614, 1.0775,\n",
       "         1.0659]),\n",
       " 'a_gamma': tensor([0.9383, 0.9727, 0.9384, 0.9148, 0.9471, 0.9540, 0.9223, 0.9151, 0.9537,\n",
       "         0.9377]),\n",
       " 'I_sol': tensor([[0.0111, 0.0121, 0.0129, 0.0051, 0.6475, 0.2977, 0.1169, 0.0458, 0.0179],\n",
       "         [0.0109, 0.0118, 0.0124, 0.0047, 0.6390, 0.2889, 0.1096, 0.0415, 0.0157],\n",
       "         [0.0112, 0.0124, 0.0133, 0.0052, 0.6468, 0.2966, 0.1164, 0.0456, 0.0178],\n",
       "         [0.0115, 0.0130, 0.0143, 0.0057, 0.6515, 0.3015, 0.1211, 0.0486, 0.0195],\n",
       "         [0.0106, 0.0112, 0.0115, 0.0045, 0.6471, 0.2991, 0.1164, 0.0452, 0.0175],\n",
       "         [0.0109, 0.0117, 0.0123, 0.0047, 0.6442, 0.2948, 0.1140, 0.0439, 0.0169],\n",
       "         [0.0115, 0.0131, 0.0146, 0.0058, 0.6489, 0.2985, 0.1190, 0.0474, 0.0188],\n",
       "         [0.0114, 0.0128, 0.0141, 0.0056, 0.6519, 0.3021, 0.1213, 0.0486, 0.0195],\n",
       "         [0.0111, 0.0122, 0.0131, 0.0051, 0.6430, 0.2925, 0.1131, 0.0436, 0.0168],\n",
       "         [0.0112, 0.0124, 0.0133, 0.0052, 0.6470, 0.2969, 0.1166, 0.0457, 0.0179]]),\n",
       " 'R_sol': tensor([[0.0099, 0.0208, 0.0326, 0.0405, 0.2552, 0.7015, 0.8830, 0.9542, 0.9820],\n",
       "         [0.0102, 0.0212, 0.0330, 0.0407, 0.2544, 0.7101, 0.8902, 0.9584, 0.9842],\n",
       "         [0.0099, 0.0210, 0.0331, 0.0412, 0.2577, 0.7026, 0.8835, 0.9544, 0.9821],\n",
       "         [0.0098, 0.0210, 0.0335, 0.0421, 0.2613, 0.6977, 0.8788, 0.9514, 0.9805],\n",
       "         [0.0098, 0.0201, 0.0309, 0.0380, 0.2466, 0.7000, 0.8835, 0.9548, 0.9824],\n",
       "         [0.0100, 0.0207, 0.0322, 0.0398, 0.2522, 0.7043, 0.8859, 0.9560, 0.9830],\n",
       "         [0.0099, 0.0213, 0.0342, 0.0429, 0.2635, 0.7008, 0.8809, 0.9526, 0.9811],\n",
       "         [0.0098, 0.0209, 0.0332, 0.0416, 0.2598, 0.6972, 0.8786, 0.9513, 0.9805],\n",
       "         [0.0101, 0.0212, 0.0334, 0.0415, 0.2577, 0.7066, 0.8868, 0.9563, 0.9831],\n",
       "         [0.0099, 0.0210, 0.0331, 0.0412, 0.2575, 0.7023, 0.8833, 0.9542, 0.9821]]),\n",
       " 'S_sol': tensor([[9.7904e-01, 9.6712e-01, 9.5447e-01, 9.5447e-01, 9.7273e-02, 8.3697e-04,\n",
       "          1.2089e-04, 5.6628e-05, 4.2080e-05],\n",
       "         [9.7892e-01, 9.6704e-01, 9.5461e-01, 9.5461e-01, 1.0669e-01, 9.8470e-04,\n",
       "          1.5462e-04, 7.6676e-05, 5.8803e-05],\n",
       "         [9.7887e-01, 9.6664e-01, 9.5354e-01, 9.5354e-01, 9.5467e-02, 8.3379e-04,\n",
       "          1.2129e-04, 5.6976e-05, 4.2386e-05],\n",
       "         [9.7873e-01, 9.6605e-01, 9.5214e-01, 9.5214e-01, 8.7284e-02, 7.3926e-04,\n",
       "          1.0216e-04, 4.6177e-05, 3.3590e-05],\n",
       "         [9.7958e-01, 9.6868e-01, 9.5752e-01, 9.5752e-01, 1.0635e-01, 8.8609e-04,\n",
       "          1.2772e-04, 6.0170e-05, 4.4928e-05],\n",
       "         [9.7917e-01, 9.6759e-01, 9.5550e-01, 9.5550e-01, 1.0354e-01, 9.0581e-04,\n",
       "          1.3499e-04, 6.4747e-05, 4.8777e-05],\n",
       "         [9.7854e-01, 9.6556e-01, 9.5126e-01, 9.5126e-01, 8.7593e-02, 7.6473e-04,\n",
       "          1.0849e-04, 4.9852e-05, 3.6588e-05],\n",
       "         [9.7883e-01, 9.6634e-01, 9.5273e-01, 9.5273e-01, 8.8373e-02, 7.4235e-04,\n",
       "          1.0225e-04, 4.6171e-05, 3.3575e-05],\n",
       "         [9.7879e-01, 9.6654e-01, 9.5349e-01, 9.5349e-01, 9.9272e-02, 8.9672e-04,\n",
       "          1.3561e-04, 6.5401e-05, 4.9371e-05],\n",
       "         [9.7889e-01, 9.6668e-01, 9.5361e-01, 9.5361e-01, 9.5426e-02, 8.3126e-04,\n",
       "          1.2065e-04, 5.6592e-05, 4.2068e-05]])}"
      ]
     },
     "execution_count": 12,
     "metadata": {},
     "output_type": "execute_result"
    }
   ],
   "source": [
    "predictions"
   ]
  },
  {
   "cell_type": "code",
   "execution_count": null,
   "metadata": {},
   "outputs": [],
   "source": []
  },
  {
   "cell_type": "code",
   "execution_count": 13,
   "metadata": {},
   "outputs": [
    {
     "data": {
      "text/plain": [
       "{'I': tensor([0.0094, 0.0088, 0.0081, 0.0030, 0.6284, 0.2923, 0.1066, 0.0388, 0.0141]),\n",
       " 'R': tensor([0.0099, 0.0191, 0.0278, 0.0330, 0.2222, 0.7065, 0.8932, 0.9611, 0.9858]),\n",
       " 'S': tensor([9.8070e-01, 9.7203e-01, 9.6409e-01, 9.6409e-01, 1.4935e-01, 1.2540e-03,\n",
       "         1.9866e-04, 1.0157e-04, 7.9596e-05])}"
      ]
     },
     "execution_count": 13,
     "metadata": {},
     "output_type": "execute_result"
    }
   ],
   "source": [
    "model()"
   ]
  },
  {
   "cell_type": "code",
   "execution_count": 19,
   "metadata": {},
   "outputs": [],
   "source": [
    "# SCAFFOLDING FOR DYNAMIC EVENT HANDLING BELOW\n",
    "\n",
    "import pyro\n",
    "from torch import Tensor\n",
    "from torchdiffeq import odeint_event, odeint\n",
    "\n",
    "Time = Tensor\n",
    "State = tuple[Tensor, ...]\n",
    "\n",
    "class BaseODEModel(pyro.nn.PyroModule):\n",
    "\n",
    "    def __init__(self, static_events: list[Event]):\n",
    "        super().__init__()\n",
    "        # This is a list of events that are always sorted by time.\n",
    "        # TODO: probably pre-sort this list just in case.\n",
    "        self.static_events = static_events\n",
    "\n",
    "    def deriv(self, t: Time, state: State) -> State:\n",
    "        raise NotImplementedError\n",
    "\n",
    "    @pyro.nn.pyro_method\n",
    "    def param_prior(self):\n",
    "        raise NotImplementedError\n",
    "\n",
    "    @pyro.nn.pyro_method\n",
    "    def initial_conditions_prior(self):\n",
    "        raise NotImplementedError\n",
    "\n",
    "    # @pyro.nn.pyro_method\n",
    "    # def observation_model(self, state: State, tspan: Time, ?) -> ?: …\n",
    "\n",
    "    def solve(self, initial_state: State, initial_time: Time) -> tuple[State, State]:\n",
    "        \n",
    "        current_state = initial_state\n",
    "        current_time = initial_time\n",
    "\n",
    "        solution = torch.tensor([])\n",
    "\n",
    "        for i, static_event in enumerate(self.static_events):\n",
    "            \n",
    "            # TODO: change below\n",
    "            # Note: Immediate goal is to get self.solve() to generate ode solutions that stop at the event times.\n",
    "            # Note: Next we will add log likelihood at those events using an observation model.\n",
    "\n",
    "            # Note: each static_event is an Event object, which has a forward() method that returns a Tensor.\n",
    "            # TODO: Chad, could you please make this actually make sense.\n",
    "            event_time, event_solution = odeint(self.deriv, current_state, current_time, event_fn=static_event)\n",
    "    \n",
    "            # TODO: Add log likelihood for event_solution.\n",
    "            # Note: This will be done by adding an observation model to the ODE model and calling it with the event_solution as an argument.\n",
    "\n",
    "            solution = torch.cat([solution, event_solution], dim=-1)\n",
    "            # current = event_solution[-1]\n",
    "\n",
    "\n",
    "    def forward(self, initial_state: State, initial_time: Time) -> tuple[State, State]:\n",
    "        # Sample parameters from the prior. These parameters are generated as attributes of the model.\n",
    "        self.param_prior()\n",
    "\n",
    "        # TODO: Sample initial conditions from the prior instead of taking them as input.\n",
    "\n",
    "        # Solve the ODE, taking into account any intervention and conditioning events.\n",
    "        return self.solve(initial_state, initial_time)\n",
    "\n",
    "\n"
   ]
  },
  {
   "cell_type": "code",
   "execution_count": null,
   "metadata": {},
   "outputs": [],
   "source": []
  },
  {
   "cell_type": "code",
   "execution_count": null,
   "metadata": {},
   "outputs": [],
   "source": []
  },
  {
   "cell_type": "code",
   "execution_count": 16,
   "metadata": {},
   "outputs": [
    {
     "ename": "NameError",
     "evalue": "name 'self' is not defined",
     "output_type": "error",
     "traceback": [
      "\u001b[0;31m---------------------------------------------------------------------------\u001b[0m",
      "\u001b[0;31mNameError\u001b[0m                                 Traceback (most recent call last)",
      "Cell \u001b[0;32mIn[16], line 1\u001b[0m\n\u001b[0;32m----> 1\u001b[0m event_time, event_solution \u001b[38;5;241m=\u001b[39m odeint(\u001b[38;5;28;43mself\u001b[39;49m\u001b[38;5;241m.\u001b[39mderiv, current_state, current_time, event_fn\u001b[38;5;241m=\u001b[39mstatic_event)\n",
      "\u001b[0;31mNameError\u001b[0m: name 'self' is not defined"
     ]
    }
   ],
   "source": [
    "event_time, event_solution = odeint(self.deriv, current_state, current_time, event_fn=static_event)"
   ]
  },
  {
   "cell_type": "code",
   "execution_count": null,
   "metadata": {},
   "outputs": [],
   "source": [
    "\n",
    "# TODO: Chad, initialize a stop event here.\n",
    "# stop_event = ...\n",
    "\n",
    "# TODO: Chad, create a model the subclasses BaseODEModel and has all of the above missing methods implemented.\n",
    "# deriv, param_prior, initial_conditions_prior, observation_model\n",
    "# class ActualODEModel(BaseODEModel):\n",
    "#   ...\n",
    "\n",
    "# TODO: Chad, instantiate the model here.\n",
    "# model = ActualODEModel([stop_event])\n",
    "\n",
    "# TODO: Chad, Call model.forward() here.\n",
    "# solution, _ = model(initial_state, tspan)"
   ]
  },
  {
   "cell_type": "code",
   "execution_count": 20,
   "metadata": {},
   "outputs": [],
   "source": [
    "observations = [ObservationEvent(torch.tensor([2.1]), {\"I\": torch.tensor([0.1])})]\n"
   ]
  },
  {
   "cell_type": "code",
   "execution_count": 22,
   "metadata": {},
   "outputs": [
    {
     "ename": "AttributeError",
     "evalue": "module 'pyciemss' has no attribute 'observe'",
     "output_type": "error",
     "traceback": [
      "\u001b[0;31m---------------------------------------------------------------------------\u001b[0m",
      "\u001b[0;31mAttributeError\u001b[0m                            Traceback (most recent call last)",
      "Cell \u001b[0;32mIn[22], line 1\u001b[0m\n\u001b[0;32m----> 1\u001b[0m conditioned_model \u001b[38;5;241m=\u001b[39m \u001b[43mpyciemss\u001b[49m\u001b[38;5;241;43m.\u001b[39;49m\u001b[43mobserve\u001b[49m(model, observations)\n",
      "\u001b[0;31mAttributeError\u001b[0m: module 'pyciemss' has no attribute 'observe'"
     ]
    }
   ],
   "source": [
    "conditioned_model = pyciemss.observe(model, observations)"
   ]
  },
  {
   "cell_type": "code",
   "execution_count": null,
   "metadata": {},
   "outputs": [],
   "source": []
  }
 ],
 "metadata": {
  "kernelspec": {
   "display_name": "ak-bddtests-staging",
   "language": "python",
   "name": "ak-bddtests-staging"
  },
  "language_info": {
   "codemirror_mode": {
    "name": "ipython",
    "version": 3
   },
   "file_extension": ".py",
   "mimetype": "text/x-python",
   "name": "python",
   "nbconvert_exporter": "python",
   "pygments_lexer": "ipython3",
   "version": "3.10.9"
  }
 },
 "nbformat": 4,
 "nbformat_minor": 4
}
