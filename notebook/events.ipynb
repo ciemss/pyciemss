{
 "cells": [
  {
   "cell_type": "code",
   "execution_count": 1,
   "metadata": {},
   "outputs": [],
   "source": [
    "import os\n",
    "import torch\n",
    "\n",
    "from pyro.distributions import Uniform\n",
    "\n",
    "from pyciemss.ODE.base import PetriNetODESystem, GaussianNoisePetriNetODESystem\n",
    "from pyciemss.ODE.events import Event, ObservationEvent, LoggingEvent, StartEvent, DynamicStopEvent\n",
    "import pyciemss"
   ]
  },
  {
   "cell_type": "code",
   "execution_count": 2,
   "metadata": {},
   "outputs": [
    {
     "data": {
      "text/plain": [
       "{'I': tensor([0.0883, 0.0734, 0.0582, 0.0445, 0.0332, 0.0243, 0.0175, 0.0125, 0.0089,\n",
       "         0.0063]),\n",
       " 'R': tensor([0.0864, 0.1604, 0.2204, 0.2671, 0.3024, 0.3284, 0.3474, 0.3610, 0.3706,\n",
       "         0.3775]),\n",
       " 'S': tensor([0.8253, 0.7662, 0.7214, 0.6884, 0.6644, 0.6473, 0.6351, 0.6265, 0.6205,\n",
       "         0.6162])}"
      ]
     },
     "execution_count": 2,
     "metadata": {},
     "output_type": "execute_result"
    }
   ],
   "source": [
    "STARTERKIT_PATH = \"test/models/starter_kit_examples/\"\n",
    "MIRA_PATH = \"test/models/evaluation_examples/\"\n",
    "\n",
    "filename = \"CHIME-SIR/model_petri.json\"\n",
    "filename = os.path.join(STARTERKIT_PATH, filename)\n",
    "\n",
    "model = GaussianNoisePetriNetODESystem.from_mira(filename)\n",
    "model.load_start_event(0.0, {\"S\": 0.9, \"I\": 0.1, \"R\": 0.0})\n",
    "model.load_logging_events(torch.linspace(1, 10, 10))\n",
    "\n",
    "solution = model()\n",
    "\n",
    "# See that the solution returns a dictionary where each value has length 10, one for each logging event.\n",
    "assert len(solution[\"I\"]) == len(solution[\"R\"]) == len(solution[\"S\"]) == 10\n",
    "\n",
    "solution"
   ]
  },
  {
   "cell_type": "code",
   "execution_count": 3,
   "metadata": {},
   "outputs": [
    {
     "data": {
      "text/plain": [
       "{'I': tensor([]), 'R': tensor([]), 'S': tensor([])}"
      ]
     },
     "execution_count": 3,
     "metadata": {},
     "output_type": "execute_result"
    }
   ],
   "source": [
    "# Remove the logging events.\n",
    "model.delete_logging_events()\n",
    "\n",
    "# Add observation events.\n",
    "# TODO: implement a pyciemss.condition operation that returns a model with observation_events\n",
    "model._observation_events = [ObservationEvent(1.3, \"R\", torch.tensor(1.0)), ObservationEvent(2.3, \"I\", torch.tensor(0.2))]\n",
    "model._construct_static_events()\n",
    "\n",
    "model._static_events\n",
    "\n",
    "model()\n"
   ]
  },
  {
   "cell_type": "code",
   "execution_count": 4,
   "metadata": {},
   "outputs": [
    {
     "name": "stdout",
     "output_type": "stream",
     "text": [
      "[iteration 0001] loss: 7.7232\n",
      "[iteration 0026] loss: 5.1529\n",
      "[iteration 0051] loss: 3.8828\n",
      "[iteration 0076] loss: 3.2353\n"
     ]
    }
   ],
   "source": [
    "# Show that inference works.\n",
    "\n",
    "from pyro.infer.autoguide import AutoNormal\n",
    "from pyro.poutine import block\n",
    "from pyro.infer import SVI, Trace_ELBO\n",
    "from pyro.optim import Adam\n",
    "import pyro\n",
    "\n",
    "guide = AutoNormal(model)\n",
    "optim = Adam({'lr': 0.03})\n",
    "loss_f = Trace_ELBO(num_particles=1)\n",
    "verbose = True\n",
    "\n",
    "svi = SVI(model, guide, optim, loss=loss_f)\n",
    "\n",
    "pyro.clear_param_store()\n",
    "\n",
    "for j in range(100):\n",
    "    # calculate the loss and take a gradient step\n",
    "    # Passing a data argument to svi.step() will condition the model on the data.\n",
    "    loss = svi.step()\n",
    "    if verbose:\n",
    "        if j % 25 == 0:\n",
    "            print(\"[iteration %04d] loss: %.4f\" % (j + 1, loss))"
   ]
  },
  {
   "cell_type": "code",
   "execution_count": 8,
   "metadata": {},
   "outputs": [],
   "source": [
    "# use pyro predictive\n",
    "from pyro.infer import Predictive\n",
    "\n",
    "# Remove the observation events and add logging events.\n",
    "\n",
    "model.delete_observation_events()\n",
    "model.load_logging_events(torch.linspace(1, 10, 10))\n",
    "\n",
    "\n",
    "# Get the return value of model.\n",
    "predictions = Predictive(model, guide=guide, num_samples=10)()"
   ]
  },
  {
   "cell_type": "code",
   "execution_count": 9,
   "metadata": {},
   "outputs": [
    {
     "data": {
      "text/plain": [
       "{'a_beta': tensor([0.9714, 0.9642, 0.9368, 0.9756, 1.0346, 0.9873, 0.9798, 0.9226, 1.0033,\n",
       "         1.0057]),\n",
       " 'a_gamma': tensor([1.0449, 0.9688, 0.9644, 0.9423, 0.9799, 0.9895, 1.0262, 0.9967, 0.9844,\n",
       "         0.9640]),\n",
       " 'I_sol': tensor([[0.0811, 0.0617, 0.0449, 0.0317, 0.0219, 0.0149, 0.0100, 0.0067, 0.0045,\n",
       "          0.0030],\n",
       "         [0.0869, 0.0707, 0.0547, 0.0408, 0.0296, 0.0211, 0.0149, 0.0104, 0.0072,\n",
       "          0.0050],\n",
       "         [0.0854, 0.0685, 0.0525, 0.0389, 0.0281, 0.0200, 0.0141, 0.0098, 0.0068,\n",
       "          0.0047],\n",
       "         [0.0901, 0.0756, 0.0601, 0.0459, 0.0340, 0.0247, 0.0176, 0.0125, 0.0088,\n",
       "          0.0061],\n",
       "         [0.0910, 0.0765, 0.0605, 0.0457, 0.0334, 0.0239, 0.0168, 0.0117, 0.0081,\n",
       "          0.0056],\n",
       "         [0.0868, 0.0703, 0.0540, 0.0399, 0.0288, 0.0203, 0.0142, 0.0098, 0.0068,\n",
       "          0.0046],\n",
       "         [0.0832, 0.0648, 0.0481, 0.0345, 0.0242, 0.0167, 0.0114, 0.0077, 0.0052,\n",
       "          0.0035],\n",
       "         [0.0818, 0.0631, 0.0467, 0.0335, 0.0236, 0.0164, 0.0113, 0.0077, 0.0052,\n",
       "          0.0035],\n",
       "         [0.0883, 0.0726, 0.0564, 0.0421, 0.0305, 0.0217, 0.0152, 0.0106, 0.0073,\n",
       "          0.0050],\n",
       "         [0.0903, 0.0757, 0.0599, 0.0454, 0.0334, 0.0240, 0.0170, 0.0119, 0.0083,\n",
       "          0.0057]]),\n",
       " 'R_sol': tensor([[0.0949, 0.1694, 0.2248, 0.2645, 0.2922, 0.3112, 0.3241, 0.3327, 0.3385,\n",
       "          0.3424],\n",
       "         [0.0910, 0.1674, 0.2281, 0.2741, 0.3080, 0.3324, 0.3496, 0.3617, 0.3702,\n",
       "          0.3760],\n",
       "         [0.0897, 0.1640, 0.2222, 0.2661, 0.2982, 0.3212, 0.3375, 0.3489, 0.3568,\n",
       "          0.3623],\n",
       "         [0.0901, 0.1683, 0.2322, 0.2820, 0.3194, 0.3469, 0.3666, 0.3807, 0.3906,\n",
       "          0.3975],\n",
       "         [0.0942, 0.1766, 0.2437, 0.2955, 0.3341, 0.3619, 0.3817, 0.3955, 0.4051,\n",
       "          0.4117],\n",
       "         [0.0929, 0.1707, 0.2320, 0.2782, 0.3120, 0.3361, 0.3530, 0.3647, 0.3728,\n",
       "          0.3784],\n",
       "         [0.0943, 0.1702, 0.2279, 0.2700, 0.2999, 0.3206, 0.3349, 0.3446, 0.3512,\n",
       "          0.3556],\n",
       "         [0.0908, 0.1629, 0.2173, 0.2570, 0.2852, 0.3050, 0.3186, 0.3279, 0.3343,\n",
       "          0.3386],\n",
       "         [0.0932, 0.1726, 0.2360, 0.2843, 0.3198, 0.3453, 0.3633, 0.3758, 0.3845,\n",
       "          0.3905],\n",
       "         [0.0923, 0.1726, 0.2379, 0.2885, 0.3262, 0.3537, 0.3733, 0.3871, 0.3967,\n",
       "          0.4034]]),\n",
       " 'S_sol': tensor([[0.8240, 0.7689, 0.7303, 0.7038, 0.6859, 0.6739, 0.6659, 0.6605, 0.6570,\n",
       "          0.6547],\n",
       "         [0.8221, 0.7618, 0.7172, 0.6851, 0.6624, 0.6465, 0.6355, 0.6279, 0.6227,\n",
       "          0.6191],\n",
       "         [0.8249, 0.7675, 0.7253, 0.6950, 0.6737, 0.6588, 0.6484, 0.6413, 0.6364,\n",
       "          0.6330],\n",
       "         [0.8199, 0.7561, 0.7077, 0.6721, 0.6466, 0.6285, 0.6157, 0.6068, 0.6007,\n",
       "          0.5964],\n",
       "         [0.8148, 0.7469, 0.6959, 0.6588, 0.6325, 0.6142, 0.6015, 0.5928, 0.5868,\n",
       "          0.5827],\n",
       "         [0.8204, 0.7591, 0.7140, 0.6818, 0.6592, 0.6436, 0.6328, 0.6254, 0.6204,\n",
       "          0.6170],\n",
       "         [0.8225, 0.7650, 0.7240, 0.6955, 0.6759, 0.6627, 0.6537, 0.6477, 0.6436,\n",
       "          0.6409],\n",
       "         [0.8275, 0.7741, 0.7360, 0.7095, 0.6912, 0.6787, 0.6701, 0.6644, 0.6605,\n",
       "          0.6578],\n",
       "         [0.8184, 0.7548, 0.7076, 0.6736, 0.6497, 0.6330, 0.6215, 0.6136, 0.6082,\n",
       "          0.6045],\n",
       "         [0.8174, 0.7517, 0.7022, 0.6661, 0.6404, 0.6223, 0.6097, 0.6010, 0.5950,\n",
       "          0.5908]])}"
      ]
     },
     "execution_count": 9,
     "metadata": {},
     "output_type": "execute_result"
    }
   ],
   "source": [
    "predictions"
   ]
  },
  {
   "cell_type": "code",
   "execution_count": null,
   "metadata": {},
   "outputs": [],
   "source": [
    "# SCAFFOLDING FOR DYNAMIC EVENT HANDLING BELOW\n",
    "\n",
    "import pyro\n",
    "from torch import Tensor\n",
    "from torchdiffeq import odeint_event, odeint\n",
    "\n",
    "Time = Tensor\n",
    "State = tuple[Tensor, ...]\n",
    "\n",
    "class BaseODEModel(pyro.nn.PyroModule):\n",
    "\n",
    "    def __init__(self, static_events: list[Event]):\n",
    "        super().__init__()\n",
    "        # This is a list of events that are always sorted by time.\n",
    "        # TODO: probably pre-sort this list just in case.\n",
    "        self.static_events = static_events\n",
    "\n",
    "    def deriv(self, t: Time, state: State) -> State:\n",
    "        raise NotImplementedError\n",
    "\n",
    "    @pyro.nn.pyro_method\n",
    "    def param_prior(self):\n",
    "        raise NotImplementedError\n",
    "\n",
    "    @pyro.nn.pyro_method\n",
    "    def initial_conditions_prior(self):\n",
    "        raise NotImplementedError\n",
    "\n",
    "    # @pyro.nn.pyro_method\n",
    "    # def observation_model(self, state: State, tspan: Time, ?) -> ?: …\n",
    "\n",
    "    def solve(self, initial_state: State, initial_time: Time) -> tuple[State, State]:\n",
    "        \n",
    "        current_state = initial_state\n",
    "        current_time = initial_time\n",
    "\n",
    "        solution = torch.tensor([])\n",
    "\n",
    "        for i, static_event in enumerate(self.static_events):\n",
    "            \n",
    "            # TODO: change below\n",
    "            # Note: Immediate goal is to get self.solve() to generate ode solutions that stop at the event times.\n",
    "            # Note: Next we will add log likelihood at those events using an observation model.\n",
    "\n",
    "            # Note: each static_event is an Event object, which has a forward() method that returns a Tensor.\n",
    "            # TODO: Chad, could you please make this actually make sense.\n",
    "            event_time, event_solution = odeint(self.deriv, current_state, current_time, event_fn=static_event)\n",
    "    \n",
    "            # TODO: Add log likelihood for event_solution.\n",
    "            # Note: This will be done by adding an observation model to the ODE model and calling it with the event_solution as an argument.\n",
    "\n",
    "            solution = torch.cat([solution, event_solution], dim=-1)\n",
    "            # current = event_solution[-1]\n",
    "\n",
    "\n",
    "    def forward(self, initial_state: State, initial_time: Time) -> tuple[State, State]:\n",
    "        # Sample parameters from the prior. These parameters are generated as attributes of the model.\n",
    "        self.param_prior()\n",
    "\n",
    "        # TODO: Sample initial conditions from the prior instead of taking them as input.\n",
    "\n",
    "        # Solve the ODE, taking into account any intervention and conditioning events.\n",
    "        return self.solve(initial_state, initial_time)\n",
    "\n",
    "\n"
   ]
  },
  {
   "cell_type": "code",
   "execution_count": null,
   "metadata": {},
   "outputs": [],
   "source": []
  },
  {
   "cell_type": "code",
   "execution_count": null,
   "metadata": {},
   "outputs": [],
   "source": []
  },
  {
   "cell_type": "code",
   "execution_count": null,
   "metadata": {},
   "outputs": [],
   "source": [
    "event_time, event_solution = odeint(self.deriv, current_state, current_time, event_fn=static_event)"
   ]
  },
  {
   "cell_type": "code",
   "execution_count": null,
   "metadata": {},
   "outputs": [],
   "source": [
    "\n",
    "# TODO: Chad, initialize a stop event here.\n",
    "# stop_event = ...\n",
    "\n",
    "# TODO: Chad, create a model the subclasses BaseODEModel and has all of the above missing methods implemented.\n",
    "# deriv, param_prior, initial_conditions_prior, observation_model\n",
    "# class ActualODEModel(BaseODEModel):\n",
    "#   ...\n",
    "\n",
    "# TODO: Chad, instantiate the model here.\n",
    "# model = ActualODEModel([stop_event])\n",
    "\n",
    "# TODO: Chad, Call model.forward() here.\n",
    "# solution, _ = model(initial_state, tspan)"
   ]
  },
  {
   "cell_type": "code",
   "execution_count": 7,
   "metadata": {},
   "outputs": [],
   "source": [
    "observations = [ObservationEvent(torch.tensor([2.1]), {\"I\": torch.tensor([0.1])})]\n"
   ]
  },
  {
   "cell_type": "code",
   "execution_count": 8,
   "metadata": {},
   "outputs": [
    {
     "ename": "AttributeError",
     "evalue": "module 'pyciemss' has no attribute 'condition'",
     "output_type": "error",
     "traceback": [
      "\u001b[0;31m---------------------------------------------------------------------------\u001b[0m",
      "\u001b[0;31mAttributeError\u001b[0m                            Traceback (most recent call last)",
      "\u001b[1;32m/Users/sam-basis/Desktop/Research/pyciemss/notebook/events.ipynb Cell 4\u001b[0m in \u001b[0;36m1\n\u001b[0;32m----> <a href='vscode-notebook-cell:/Users/sam-basis/Desktop/Research/pyciemss/notebook/events.ipynb#W3sZmlsZQ%3D%3D?line=0'>1</a>\u001b[0m conditioned_model \u001b[39m=\u001b[39m pyciemss\u001b[39m.\u001b[39;49mcondition(model, observations)\n",
      "\u001b[0;31mAttributeError\u001b[0m: module 'pyciemss' has no attribute 'condition'"
     ]
    }
   ],
   "source": [
    "conditioned_model = pyciemss.condition(model, observations)"
   ]
  },
  {
   "cell_type": "code",
   "execution_count": null,
   "metadata": {},
   "outputs": [],
   "source": []
  }
 ],
 "metadata": {
  "kernelspec": {
   "display_name": "venv",
   "language": "python",
   "name": "python3"
  },
  "language_info": {
   "codemirror_mode": {
    "name": "ipython",
    "version": 3
   },
   "file_extension": ".py",
   "mimetype": "text/x-python",
   "name": "python",
   "nbconvert_exporter": "python",
   "pygments_lexer": "ipython3",
   "version": "3.10.8"
  },
  "orig_nbformat": 4
 },
 "nbformat": 4,
 "nbformat_minor": 2
}
