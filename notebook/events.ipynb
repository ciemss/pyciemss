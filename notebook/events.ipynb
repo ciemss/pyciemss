{
 "cells": [
  {
   "cell_type": "code",
   "execution_count": 1,
   "metadata": {},
   "outputs": [],
   "source": [
    "import os\n",
    "\n",
    "from pyro.distributions import Uniform\n",
    "\n",
    "from pyciemss.ODE.base import PetriNetODESystem, BetaNoisePetriNetODESystem\n",
    "from pyciemss.ODE.events import Event, ObservationEvent, LoggingEvent, StartEvent, DynamicStopEvent\n",
    "import pyciemss"
   ]
  },
  {
   "cell_type": "code",
   "execution_count": 2,
   "metadata": {},
   "outputs": [
    {
     "data": {
      "text/plain": [
       "pyciemss.ODE.events.StartEvent"
      ]
     },
     "execution_count": 2,
     "metadata": {},
     "output_type": "execute_result"
    }
   ],
   "source": [
    "from typing import Type\n",
    "\n",
    "StartEvent"
   ]
  },
  {
   "cell_type": "code",
   "execution_count": 3,
   "metadata": {},
   "outputs": [
    {
     "data": {
      "text/plain": [
       "{'I': tensor([0.0092, 0.0085, 0.0077, 0.0070, 0.0063, 0.0056, 0.0050, 0.0044, 0.0039]),\n",
       " 'R': tensor([0.0099, 0.0189, 0.0272, 0.0348, 0.0415, 0.0476, 0.0530, 0.0578, 0.0620]),\n",
       " 'S': tensor([0.9809, 0.9726, 0.9651, 0.9583, 0.9522, 0.9468, 0.9420, 0.9378, 0.9341])}"
      ]
     },
     "execution_count": 3,
     "metadata": {},
     "output_type": "execute_result"
    }
   ],
   "source": [
    "STARTERKIT_PATH = \"test/models/starter_kit_examples/\"\n",
    "MIRA_PATH = \"test/models/evaluation_examples/\"\n",
    "\n",
    "filename = \"CHIME-SIR/model_petri.json\"\n",
    "filename = os.path.join(STARTERKIT_PATH, filename)\n",
    "\n",
    "model = BetaNoisePetriNetODESystem.from_mira(filename)\n",
    "\n",
    "start_event = StartEvent(0.0, {\"S\": 0.99, \"I\": 0.01, \"R\": 0.0})\n",
    "model.load_event(start_event)\n",
    "\n",
    "tspan = range(1, 10)\n",
    "logging_events = [LoggingEvent(t) for t in tspan]\n",
    "model.load_events(logging_events)\n",
    "\n",
    "# tspan = torch.linspace(1, 10, 10)\n",
    "# model.load_logging_events(tspan)\n",
    "\n",
    "solution = model()\n",
    "\n",
    "# See that the solution returns a dictionary where each value has length 10, one for each logging event.\n",
    "assert len(solution[\"I\"]) == len(solution[\"R\"]) == len(solution[\"S\"]) == len(tspan)\n",
    "\n",
    "solution"
   ]
  },
  {
   "cell_type": "code",
   "execution_count": 4,
   "metadata": {},
   "outputs": [],
   "source": [
    "# Remove logging events\n",
    "model.remove_logging_events()\n",
    "\n",
    "# Add observations\n",
    "observation_events = [ObservationEvent(1.1, {\"S\": 0.9, \"I\": 0.09, \"R\": 0.01}), \n",
    "                      ObservationEvent(2.1, {\"S\": 0.8, \"I\": 0.18, \"R\": 0.02}),\n",
    "                      ObservationEvent(3.1, {\"S\": 0.7, \"I\": 0.27, \"R\": 0.03}),\n",
    "                      ObservationEvent(4.1, {\"S\": 0.6, \"I\": 0.36, \"R\": 0.04})]\n",
    "\n",
    "model.load_events(observation_events)"
   ]
  },
  {
   "cell_type": "code",
   "execution_count": 5,
   "metadata": {},
   "outputs": [
    {
     "data": {
      "text/plain": [
       "[StartEvent(time=0.0, initial_state={'S': tensor(0.9900), 'I': tensor(0.0100), 'R': tensor(0.)}),\n",
       " ObservationEvent(time=1.100000023841858, observation={'S': tensor(0.9000), 'I': tensor(0.0900), 'R': tensor(0.0100)}),\n",
       " ObservationEvent(time=2.0999999046325684, observation={'S': tensor(0.8000), 'I': tensor(0.1800), 'R': tensor(0.0200)}),\n",
       " ObservationEvent(time=3.0999999046325684, observation={'S': tensor(0.7000), 'I': tensor(0.2700), 'R': tensor(0.0300)}),\n",
       " ObservationEvent(time=4.099999904632568, observation={'S': tensor(0.6000), 'I': tensor(0.3600), 'R': tensor(0.0400)})]"
      ]
     },
     "execution_count": 5,
     "metadata": {},
     "output_type": "execute_result"
    }
   ],
   "source": [
    "model._static_events"
   ]
  },
  {
   "cell_type": "code",
   "execution_count": 6,
   "metadata": {},
   "outputs": [
    {
     "name": "stdout",
     "output_type": "stream",
     "text": [
      "[iteration 0001] loss: 16.4383\n",
      "[iteration 0026] loss: 13.4627\n",
      "[iteration 0051] loss: 12.5196\n",
      "[iteration 0076] loss: 12.4522\n"
     ]
    }
   ],
   "source": [
    "# Show that inference works.\n",
    "\n",
    "from pyro.infer.autoguide import AutoNormal\n",
    "from pyro.poutine import block\n",
    "from pyro.infer import SVI, Trace_ELBO\n",
    "from pyro.optim import Adam\n",
    "import pyro\n",
    "\n",
    "guide = AutoNormal(model)\n",
    "optim = Adam({'lr': 0.03})\n",
    "loss_f = Trace_ELBO(num_particles=1)\n",
    "verbose = True\n",
    "\n",
    "svi = SVI(model, guide, optim, loss=loss_f)\n",
    "\n",
    "pyro.clear_param_store()\n",
    "\n",
    "for j in range(100):\n",
    "    # calculate the loss and take a gradient step\n",
    "    # Passing a data argument to svi.step() will condition the model on the data.\n",
    "    loss = svi.step()\n",
    "    if verbose:\n",
    "        if j % 25 == 0:\n",
    "            print(\"[iteration %04d] loss: %.4f\" % (j + 1, loss))"
   ]
  },
  {
   "cell_type": "code",
   "execution_count": 7,
   "metadata": {},
   "outputs": [],
   "source": [
    "# Remove the observation events\n",
    "model.remove_observation_events()"
   ]
  },
  {
   "cell_type": "code",
   "execution_count": 8,
   "metadata": {},
   "outputs": [],
   "source": [
    "# Load some static parameter intervention events\n",
    "model.load_event(StaticParameterInterventionEvent(2.99, \"beta\", 0.0))\n",
    "model.load_event(StaticParameterInterventionEvent(4.11, \"beta\", 10.))\n",
    "\n",
    "# Load the logging events again\n",
    "model.load_events(logging_events)"
   ]
  },
  {
   "cell_type": "code",
   "execution_count": 9,
   "metadata": {},
   "outputs": [
    {
     "data": {
      "text/plain": [
       "[StartEvent(time=0.0, initial_state={'S': tensor(0.9900), 'I': tensor(0.0100), 'R': tensor(0.)}),\n",
       " LoggingEvent(time=1),\n",
       " LoggingEvent(time=2),\n",
       " StaticParameterInterventionEvent(time=2.990000009536743, parameter=beta, value=0.0),\n",
       " LoggingEvent(time=3),\n",
       " LoggingEvent(time=4),\n",
       " StaticParameterInterventionEvent(time=4.110000133514404, parameter=beta, value=10.0),\n",
       " LoggingEvent(time=5),\n",
       " LoggingEvent(time=6),\n",
       " LoggingEvent(time=7),\n",
       " LoggingEvent(time=8),\n",
       " LoggingEvent(time=9)]"
      ]
     },
     "execution_count": 9,
     "metadata": {},
     "output_type": "execute_result"
    }
   ],
   "source": [
    "model._static_events"
   ]
  },
  {
   "cell_type": "code",
   "execution_count": 10,
   "metadata": {},
   "outputs": [
    {
     "data": {
      "text/plain": [
       "[]"
      ]
     },
     "execution_count": 10,
     "metadata": {},
     "output_type": "execute_result"
    }
   ],
   "source": [
    "model._observation_var_names"
   ]
  },
  {
   "cell_type": "code",
   "execution_count": 11,
   "metadata": {},
   "outputs": [],
   "source": [
    "# use pyro predictive\n",
    "from pyro.infer import Predictive\n",
    "\n",
    "# Get the return value of model.\n",
    "predictions = Predictive(model, guide=guide, num_samples=10)()"
   ]
  },
  {
   "cell_type": "code",
   "execution_count": 12,
   "metadata": {},
   "outputs": [
    {
     "data": {
      "text/plain": [
       "{'a_beta': tensor([0.9531, 1.0604, 0.9963, 1.0584, 1.0436, 0.9849, 1.0022, 0.9444, 0.9956,\n",
       "         0.9495]),\n",
       " 'a_gamma': tensor([0.9833, 0.9789, 1.0076, 1.0023, 0.9844, 0.9864, 1.0258, 1.0240, 0.9999,\n",
       "         1.0351]),\n",
       " 'I_sol': tensor([[0.0096, 0.0091, 0.0085, 0.0032, 0.6377, 0.2993, 0.1124, 0.0421, 0.0158],\n",
       "         [0.0107, 0.0113, 0.0116, 0.0044, 0.6382, 0.2893, 0.1092, 0.0411, 0.0154],\n",
       "         [0.0097, 0.0094, 0.0089, 0.0033, 0.6310, 0.2906, 0.1066, 0.0390, 0.0142],\n",
       "         [0.0104, 0.0107, 0.0108, 0.0040, 0.6325, 0.2853, 0.1052, 0.0387, 0.0142],\n",
       "         [0.0104, 0.0108, 0.0109, 0.0041, 0.6374, 0.2900, 0.1088, 0.0407, 0.0152],\n",
       "         [0.0098, 0.0096, 0.0092, 0.0034, 0.6373, 0.2955, 0.1107, 0.0413, 0.0154],\n",
       "         [0.0096, 0.0092, 0.0086, 0.0031, 0.6254, 0.2869, 0.1034, 0.0371, 0.0133],\n",
       "         [0.0091, 0.0082, 0.0073, 0.0026, 0.6233, 0.2931, 0.1058, 0.0381, 0.0137],\n",
       "         [0.0098, 0.0095, 0.0091, 0.0033, 0.6333, 0.2920, 0.1079, 0.0398, 0.0146],\n",
       "         [0.0091, 0.0081, 0.0072, 0.0026, 0.6194, 0.2908, 0.1039, 0.0369, 0.0131]]),\n",
       " 'R_sol': tensor([[0.0096, 0.0188, 0.0275, 0.0328, 0.2240, 0.6996, 0.8874, 0.9578, 0.9842],\n",
       "         [0.0101, 0.0209, 0.0321, 0.0394, 0.2496, 0.7096, 0.8907, 0.9589, 0.9845],\n",
       "         [0.0100, 0.0196, 0.0289, 0.0345, 0.2293, 0.7082, 0.8932, 0.9609, 0.9857],\n",
       "         [0.0102, 0.0208, 0.0317, 0.0385, 0.2448, 0.7135, 0.8946, 0.9612, 0.9857],\n",
       "         [0.0101, 0.0205, 0.0313, 0.0381, 0.2447, 0.7089, 0.8910, 0.9592, 0.9847],\n",
       "         [0.0098, 0.0194, 0.0287, 0.0345, 0.2307, 0.7034, 0.8892, 0.9586, 0.9845],\n",
       "         [0.0101, 0.0197, 0.0289, 0.0344, 0.2271, 0.7118, 0.8964, 0.9628, 0.9866],\n",
       "         [0.0098, 0.0187, 0.0267, 0.0313, 0.2140, 0.7056, 0.8940, 0.9618, 0.9862],\n",
       "         [0.0099, 0.0196, 0.0290, 0.0347, 0.2306, 0.7068, 0.8919, 0.9601, 0.9853],\n",
       "         [0.0099, 0.0188, 0.0267, 0.0313, 0.2128, 0.7078, 0.8959, 0.9629, 0.9868]]),\n",
       " 'S_sol': tensor([[9.8081e-01, 9.7212e-01, 9.6407e-01, 9.6407e-01, 1.3835e-01, 1.0972e-03,\n",
       "          1.6251e-04, 7.9419e-05, 6.0744e-05],\n",
       "         [9.7920e-01, 9.6787e-01, 9.5625e-01, 9.5625e-01, 1.1223e-01, 1.0207e-03,\n",
       "          1.6056e-04, 8.0010e-05, 6.1573e-05],\n",
       "         [9.8030e-01, 9.7099e-01, 9.6222e-01, 9.6222e-01, 1.3968e-01, 1.2051e-03,\n",
       "          1.9212e-04, 9.8096e-05, 7.6728e-05],\n",
       "         [9.7936e-01, 9.6846e-01, 9.5756e-01, 9.5756e-01, 1.2269e-01, 1.1425e-03,\n",
       "          1.8763e-04, 9.6513e-05, 7.5597e-05],\n",
       "         [9.7949e-01, 9.6869e-01, 9.5783e-01, 9.5783e-01, 1.1796e-01, 1.0553e-03,\n",
       "          1.6599e-04, 8.3026e-05, 6.4074e-05],\n",
       "         [9.8037e-01, 9.7102e-01, 9.6212e-01, 9.6212e-01, 1.3202e-01, 1.0952e-03,\n",
       "          1.6657e-04, 8.2388e-05, 6.3350e-05],\n",
       "         [9.8031e-01, 9.7111e-01, 9.6255e-01, 9.6255e-01, 1.4759e-01, 1.3091e-03,\n",
       "          2.1647e-04, 1.1333e-04, 8.9843e-05],\n",
       "         [9.8111e-01, 9.7311e-01, 9.6603e-01, 9.6603e-01, 1.6277e-01, 1.3383e-03,\n",
       "          2.1258e-04, 1.0957e-04, 8.6335e-05],\n",
       "         [9.8028e-01, 9.7088e-01, 9.6196e-01, 9.6196e-01, 1.3603e-01, 1.1623e-03,\n",
       "          1.8260e-04, 9.2254e-05, 7.1743e-05],\n",
       "         [9.8109e-01, 9.7312e-01, 9.6610e-01, 9.6610e-01, 1.6778e-01, 1.4054e-03,\n",
       "          2.2839e-04, 1.1953e-04, 9.4946e-05]])}"
      ]
     },
     "execution_count": 12,
     "metadata": {},
     "output_type": "execute_result"
    }
   ],
   "source": [
    "predictions"
   ]
  },
  {
   "cell_type": "code",
   "execution_count": null,
   "metadata": {},
   "outputs": [],
   "source": []
  },
  {
   "cell_type": "code",
   "execution_count": 13,
   "metadata": {},
   "outputs": [
    {
     "data": {
      "text/plain": [
       "{'I': tensor([0.0102, 0.0102, 0.0101, 0.0041, 0.6588, 0.3154, 0.1273, 0.0513, 0.0206]),\n",
       " 'R': tensor([0.0092, 0.0185, 0.0278, 0.0338, 0.2332, 0.6838, 0.8726, 0.9487, 0.9793]),\n",
       " 'S': tensor([9.8066e-01, 9.7130e-01, 9.6210e-01, 9.6210e-01, 1.0798e-01, 7.6387e-04,\n",
       "         9.5966e-05, 4.1588e-05, 2.9698e-05])}"
      ]
     },
     "execution_count": 13,
     "metadata": {},
     "output_type": "execute_result"
    }
   ],
   "source": [
    "model()"
   ]
  },
  {
   "cell_type": "code",
   "execution_count": null,
   "metadata": {},
   "outputs": [],
   "source": [
    "# SCAFFOLDING FOR DYNAMIC EVENT HANDLING BELOW\n",
    "\n",
    "import pyro\n",
    "from torch import Tensor\n",
    "from torchdiffeq import odeint_event, odeint\n",
    "\n",
    "Time = Tensor\n",
    "State = tuple[Tensor, ...]\n",
    "\n",
    "class BaseODEModel(pyro.nn.PyroModule):\n",
    "\n",
    "    def __init__(self, static_events: list[Event]):\n",
    "        super().__init__()\n",
    "        # This is a list of events that are always sorted by time.\n",
    "        # TODO: probably pre-sort this list just in case.\n",
    "        self.static_events = static_events\n",
    "\n",
    "    def deriv(self, t: Time, state: State) -> State:\n",
    "        raise NotImplementedError\n",
    "\n",
    "    @pyro.nn.pyro_method\n",
    "    def param_prior(self):\n",
    "        raise NotImplementedError\n",
    "\n",
    "    @pyro.nn.pyro_method\n",
    "    def initial_conditions_prior(self):\n",
    "        raise NotImplementedError\n",
    "\n",
    "    # @pyro.nn.pyro_method\n",
    "    # def observation_model(self, state: State, tspan: Time, ?) -> ?: …\n",
    "\n",
    "    def solve(self, initial_state: State, initial_time: Time) -> tuple[State, State]:\n",
    "        \n",
    "        current_state = initial_state\n",
    "        current_time = initial_time\n",
    "\n",
    "        solution = torch.tensor([])\n",
    "\n",
    "        for i, static_event in enumerate(self.static_events):\n",
    "            \n",
    "            # TODO: change below\n",
    "            # Note: Immediate goal is to get self.solve() to generate ode solutions that stop at the event times.\n",
    "            # Note: Next we will add log likelihood at those events using an observation model.\n",
    "\n",
    "            # Note: each static_event is an Event object, which has a forward() method that returns a Tensor.\n",
    "            # TODO: Chad, could you please make this actually make sense.\n",
    "            event_time, event_solution = odeint(self.deriv, current_state, current_time, event_fn=static_event)\n",
    "    \n",
    "            # TODO: Add log likelihood for event_solution.\n",
    "            # Note: This will be done by adding an observation model to the ODE model and calling it with the event_solution as an argument.\n",
    "\n",
    "            solution = torch.cat([solution, event_solution], dim=-1)\n",
    "            # current = event_solution[-1]\n",
    "\n",
    "\n",
    "    def forward(self, initial_state: State, initial_time: Time) -> tuple[State, State]:\n",
    "        # Sample parameters from the prior. These parameters are generated as attributes of the model.\n",
    "        self.param_prior()\n",
    "\n",
    "        # TODO: Sample initial conditions from the prior instead of taking them as input.\n",
    "\n",
    "        # Solve the ODE, taking into account any intervention and conditioning events.\n",
    "        return self.solve(initial_state, initial_time)\n",
    "\n",
    "\n"
   ]
  },
  {
   "cell_type": "code",
   "execution_count": null,
   "metadata": {},
   "outputs": [],
   "source": []
  },
  {
   "cell_type": "code",
   "execution_count": null,
   "metadata": {},
   "outputs": [],
   "source": []
  },
  {
   "cell_type": "code",
   "execution_count": null,
   "metadata": {},
   "outputs": [],
   "source": [
    "event_time, event_solution = odeint(self.deriv, current_state, current_time, event_fn=static_event)"
   ]
  },
  {
   "cell_type": "code",
   "execution_count": null,
   "metadata": {},
   "outputs": [],
   "source": [
    "\n",
    "# TODO: Chad, initialize a stop event here.\n",
    "# stop_event = ...\n",
    "\n",
    "# TODO: Chad, create a model the subclasses BaseODEModel and has all of the above missing methods implemented.\n",
    "# deriv, param_prior, initial_conditions_prior, observation_model\n",
    "# class ActualODEModel(BaseODEModel):\n",
    "#   ...\n",
    "\n",
    "# TODO: Chad, instantiate the model here.\n",
    "# model = ActualODEModel([stop_event])\n",
    "\n",
    "# TODO: Chad, Call model.forward() here.\n",
    "# solution, _ = model(initial_state, tspan)"
   ]
  },
  {
   "cell_type": "code",
   "execution_count": 7,
   "metadata": {},
   "outputs": [],
   "source": [
    "observations = [ObservationEvent(torch.tensor([2.1]), {\"I\": torch.tensor([0.1])})]\n"
   ]
  },
  {
   "cell_type": "code",
   "execution_count": 8,
   "metadata": {},
   "outputs": [
    {
     "ename": "AttributeError",
     "evalue": "module 'pyciemss' has no attribute 'condition'",
     "output_type": "error",
     "traceback": [
      "\u001b[0;31m---------------------------------------------------------------------------\u001b[0m",
      "\u001b[0;31mAttributeError\u001b[0m                            Traceback (most recent call last)",
      "\u001b[1;32m/Users/sam-basis/Desktop/Research/pyciemss/notebook/events.ipynb Cell 4\u001b[0m in \u001b[0;36m1\n\u001b[0;32m----> <a href='vscode-notebook-cell:/Users/sam-basis/Desktop/Research/pyciemss/notebook/events.ipynb#W3sZmlsZQ%3D%3D?line=0'>1</a>\u001b[0m conditioned_model \u001b[39m=\u001b[39m pyciemss\u001b[39m.\u001b[39;49mcondition(model, observations)\n",
      "\u001b[0;31mAttributeError\u001b[0m: module 'pyciemss' has no attribute 'condition'"
     ]
    }
   ],
   "source": [
    "conditioned_model = pyciemss.condition(model, observations)"
   ]
  },
  {
   "cell_type": "code",
   "execution_count": null,
   "metadata": {},
   "outputs": [],
   "source": []
  }
 ],
 "metadata": {
  "kernelspec": {
   "display_name": "venv",
   "language": "python",
   "name": "python3"
  },
  "language_info": {
   "codemirror_mode": {
    "name": "ipython",
    "version": 3
   },
   "file_extension": ".py",
   "mimetype": "text/x-python",
   "name": "python",
   "nbconvert_exporter": "python",
   "pygments_lexer": "ipython3",
   "version": "3.10.8"
  },
  "orig_nbformat": 4
 },
 "nbformat": 4,
 "nbformat_minor": 2
}
