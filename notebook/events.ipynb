{
 "cells": [
  {
   "cell_type": "code",
   "execution_count": 2,
   "metadata": {},
   "outputs": [],
   "source": [
    "import os\n",
    "\n",
    "from pyciemss.PetriNetODE.base import BetaNoisePetriNetODESystem\n",
    "from pyciemss.PetriNetODE.events import Event, StartEvent, LoggingEvent, ObservationEvent, StaticParameterInterventionEvent\n",
    "import pyciemss\n",
    "\n",
    "from pyciemss.interfaces import setup_model, reset_model, calibrate, intervene, sample, optimize\n",
    "from pyciemss.PetriNetODE.interfaces import load_petri_model"
   ]
  },
  {
   "cell_type": "code",
   "execution_count": null,
   "metadata": {},
   "outputs": [],
   "source": [
    "import sys\n"
   ]
  },
  {
   "cell_type": "code",
   "execution_count": 7,
   "metadata": {},
   "outputs": [
    {
     "data": {
      "text/plain": [
       "{'I': tensor([0.0101, 0.0101, 0.0100, 0.0098, 0.0095, 0.0091, 0.0087, 0.0082, 0.0077]),\n",
       " 'R': tensor([0.0097, 0.0195, 0.0292, 0.0388, 0.0481, 0.0571, 0.0657, 0.0740, 0.0817]),\n",
       " 'S': tensor([0.9802, 0.9704, 0.9608, 0.9515, 0.9424, 0.9338, 0.9256, 0.9178, 0.9106])}"
      ]
     },
     "execution_count": 7,
     "metadata": {},
     "output_type": "execute_result"
    }
   ],
   "source": [
    "STARTERKIT_PATH = \"../test/models/starter_kit_examples/\"\n",
    "MIRA_PATH = \"../test/models/evaluation_examples/\"\n",
    "\n",
    "filename = \"CHIME-SIR/model_petri.json\"\n",
    "chime_model_filename = os.path.join(STARTERKIT_PATH, filename)\n",
    "\n",
    "model = BetaNoisePetriNetODESystem.from_mira(chime_model_filename)\n",
    "\n",
    "start_event = StartEvent(0.0, {\"S\": 0.99, \"I\": 0.01, \"R\": 0.0})\n",
    "model.load_event(start_event)\n",
    "\n",
    "tspan = range(1, 10)\n",
    "logging_events = [LoggingEvent(t) for t in tspan]\n",
    "model.load_events(logging_events)\n",
    "\n",
    "solution = model()\n",
    "\n",
    "# See that the solution returns a dictionary where each value has length 10, one for each logging event.\n",
    "assert len(solution[\"I\"]) == len(solution[\"R\"]) == len(solution[\"S\"]) == len(tspan)\n",
    "\n",
    "solution"
   ]
  },
  {
   "cell_type": "code",
   "execution_count": 8,
   "metadata": {},
   "outputs": [],
   "source": [
    "# Remove logging events\n",
    "model.remove_logging_events()\n",
    "\n",
    "# Add observations\n",
    "observation_events = [ObservationEvent(1.1, {\"S\": 0.9, \"I\": 0.09, \"R\": 0.01}), \n",
    "                      ObservationEvent(2.1, {\"S\": 0.8, \"I\": 0.18, \"R\": 0.02}),\n",
    "                      ObservationEvent(3.1, {\"S\": 0.7, \"I\": 0.27, \"R\": 0.03}),\n",
    "                      ObservationEvent(4.1, {\"S\": 0.6, \"I\": 0.36, \"R\": 0.04})]\n",
    "\n",
    "model.load_events(observation_events)"
   ]
  },
  {
   "cell_type": "code",
   "execution_count": 9,
   "metadata": {},
   "outputs": [
    {
     "data": {
      "text/plain": [
       "[StartEvent(time=0.0, initial_state={'S': tensor(0.9900), 'I': tensor(0.0100), 'R': tensor(0.)}),\n",
       " ObservationEvent(time=1.100000023841858, observation={'S': tensor(0.9000), 'I': tensor(0.0900), 'R': tensor(0.0100)}),\n",
       " ObservationEvent(time=2.0999999046325684, observation={'S': tensor(0.8000), 'I': tensor(0.1800), 'R': tensor(0.0200)}),\n",
       " ObservationEvent(time=3.0999999046325684, observation={'S': tensor(0.7000), 'I': tensor(0.2700), 'R': tensor(0.0300)}),\n",
       " ObservationEvent(time=4.099999904632568, observation={'S': tensor(0.6000), 'I': tensor(0.3600), 'R': tensor(0.0400)})]"
      ]
     },
     "execution_count": 9,
     "metadata": {},
     "output_type": "execute_result"
    }
   ],
   "source": [
    "model._static_events"
   ]
  },
  {
   "cell_type": "code",
   "execution_count": 10,
   "metadata": {},
   "outputs": [
    {
     "name": "stdout",
     "output_type": "stream",
     "text": [
      "[iteration 0001] loss: 25.3501\n",
      "[iteration 0026] loss: 22.4490\n",
      "[iteration 0051] loss: 21.1329\n",
      "[iteration 0076] loss: 20.7050\n"
     ]
    }
   ],
   "source": [
    "# Show that inference works.\n",
    "\n",
    "from pyro.infer.autoguide import AutoNormal\n",
    "from pyro.poutine import block\n",
    "from pyro.infer import SVI, Trace_ELBO\n",
    "from pyro.optim import Adam\n",
    "import pyro\n",
    "\n",
    "guide = AutoNormal(model)\n",
    "optim = Adam({'lr': 0.03})\n",
    "loss_f = Trace_ELBO(num_particles=1)\n",
    "verbose = True\n",
    "\n",
    "svi = SVI(model, guide, optim, loss=loss_f)\n",
    "\n",
    "pyro.clear_param_store()\n",
    "\n",
    "for j in range(100):\n",
    "    # calculate the loss and take a gradient step\n",
    "    # Passing a data argument to svi.step() will condition the model on the data.\n",
    "    loss = svi.step()\n",
    "    if verbose:\n",
    "        if j % 25 == 0:\n",
    "            print(\"[iteration %04d] loss: %.4f\" % (j + 1, loss))"
   ]
  },
  {
   "cell_type": "code",
   "execution_count": 11,
   "metadata": {},
   "outputs": [
    {
     "data": {
      "text/plain": [
       "(pyro.nn.module.PyroModule,)"
      ]
     },
     "execution_count": 11,
     "metadata": {},
     "output_type": "execute_result"
    }
   ],
   "source": [
    "# import AutoGuide\n",
    "from pyro.infer.autoguide import AutoGuide\n",
    "\n",
    "AutoGuide.__bases__"
   ]
  },
  {
   "cell_type": "code",
   "execution_count": 12,
   "metadata": {},
   "outputs": [],
   "source": [
    "# Remove the observation events\n",
    "model.remove_observation_events()"
   ]
  },
  {
   "cell_type": "code",
   "execution_count": 13,
   "metadata": {},
   "outputs": [],
   "source": [
    "# Load some static parameter intervention events\n",
    "model.load_event(StaticParameterInterventionEvent(2.99, \"beta\", 0.0))\n",
    "model.load_event(StaticParameterInterventionEvent(4.11, \"beta\", 10.))\n",
    "\n",
    "# Load the logging events again\n",
    "model.load_events(logging_events)"
   ]
  },
  {
   "cell_type": "code",
   "execution_count": 14,
   "metadata": {},
   "outputs": [
    {
     "data": {
      "text/plain": [
       "[StartEvent(time=0.0, initial_state={'S': tensor(0.9900), 'I': tensor(0.0100), 'R': tensor(0.)}),\n",
       " LoggingEvent(time=1),\n",
       " LoggingEvent(time=2),\n",
       " StaticParameterInterventionEvent(time=2.990000009536743, parameter=beta, value=0.0),\n",
       " LoggingEvent(time=3),\n",
       " LoggingEvent(time=4),\n",
       " StaticParameterInterventionEvent(time=4.110000133514404, parameter=beta, value=10.0),\n",
       " LoggingEvent(time=5),\n",
       " LoggingEvent(time=6),\n",
       " LoggingEvent(time=7),\n",
       " LoggingEvent(time=8),\n",
       " LoggingEvent(time=9)]"
      ]
     },
     "execution_count": 14,
     "metadata": {},
     "output_type": "execute_result"
    }
   ],
   "source": [
    "model._static_events"
   ]
  },
  {
   "cell_type": "code",
   "execution_count": 15,
   "metadata": {},
   "outputs": [
    {
     "data": {
      "text/plain": [
       "[]"
      ]
     },
     "execution_count": 15,
     "metadata": {},
     "output_type": "execute_result"
    }
   ],
   "source": [
    "model._observation_var_names"
   ]
  },
  {
   "cell_type": "code",
   "execution_count": 16,
   "metadata": {},
   "outputs": [],
   "source": [
    "# use pyro predictive\n",
    "from pyro.infer import Predictive\n",
    "\n",
    "# Get the return value of model.\n",
    "predictions = Predictive(model, guide=guide, num_samples=10)()"
   ]
  },
  {
   "cell_type": "code",
   "execution_count": 17,
   "metadata": {},
   "outputs": [
    {
     "data": {
      "text/plain": [
       "{'a_beta': tensor([1.0687, 1.0809, 1.0395, 1.0667, 1.0757, 0.9896, 1.0584, 1.0661, 1.0438,\n",
       "         0.9999]),\n",
       " 'a_gamma': tensor([1.0232, 0.9595, 0.9236, 0.9465, 0.9389, 0.9252, 0.9382, 0.9198, 1.0222,\n",
       "         0.9282]),\n",
       " 'I_sol': tensor([[0.0103, 0.0105, 0.0104, 0.0037, 0.6268, 0.2807, 0.1014, 0.0365, 0.0131],\n",
       "         [0.0111, 0.0122, 0.0130, 0.0050, 0.6416, 0.2910, 0.1119, 0.0429, 0.0164],\n",
       "         [0.0111, 0.0121, 0.0129, 0.0051, 0.6516, 0.3025, 0.1205, 0.0479, 0.0190],\n",
       "         [0.0111, 0.0122, 0.0130, 0.0050, 0.6452, 0.2950, 0.1149, 0.0446, 0.0173],\n",
       "         [0.0113, 0.0126, 0.0136, 0.0053, 0.6462, 0.2957, 0.1160, 0.0454, 0.0178],\n",
       "         [0.0105, 0.0109, 0.0111, 0.0044, 0.6536, 0.3071, 0.1221, 0.0484, 0.0192],\n",
       "         [0.0111, 0.0122, 0.0130, 0.0051, 0.6474, 0.2975, 0.1168, 0.0457, 0.0179],\n",
       "         [0.0114, 0.0128, 0.0140, 0.0056, 0.6506, 0.3006, 0.1202, 0.0479, 0.0191],\n",
       "         [0.0101, 0.0100, 0.0098, 0.0035, 0.6271, 0.2834, 0.1025, 0.0369, 0.0133],\n",
       "         [0.0106, 0.0111, 0.0114, 0.0045, 0.6525, 0.3054, 0.1211, 0.0479, 0.0189]]),\n",
       " 'R_sol': tensor([[0.0104, 0.0210, 0.0318, 0.0385, 0.2432, 0.7180, 0.8984, 0.9634, 0.9868],\n",
       "         [0.0101, 0.0213, 0.0335, 0.0415, 0.2576, 0.7081, 0.8880, 0.9570, 0.9835],\n",
       "         [0.0097, 0.0204, 0.0320, 0.0398, 0.2536, 0.6968, 0.8794, 0.9521, 0.9810],\n",
       "         [0.0100, 0.0210, 0.0330, 0.0409, 0.2564, 0.7041, 0.8850, 0.9553, 0.9826],\n",
       "         [0.0100, 0.0212, 0.0335, 0.0419, 0.2596, 0.7035, 0.8839, 0.9545, 0.9822],\n",
       "         [0.0095, 0.0194, 0.0297, 0.0364, 0.2421, 0.6921, 0.8778, 0.9515, 0.9808],\n",
       "         [0.0099, 0.0208, 0.0327, 0.0406, 0.2557, 0.7016, 0.8831, 0.9542, 0.9820],\n",
       "         [0.0098, 0.0210, 0.0334, 0.0418, 0.2602, 0.6986, 0.8797, 0.9520, 0.9808],\n",
       "         [0.0103, 0.0205, 0.0307, 0.0369, 0.2376, 0.7154, 0.8973, 0.9630, 0.9866],\n",
       "         [0.0096, 0.0196, 0.0301, 0.0370, 0.2440, 0.6937, 0.8788, 0.9520, 0.9810]]),\n",
       " 'S_sol': tensor([[9.7931e-01, 9.6849e-01, 9.5778e-01, 9.5778e-01, 1.3000e-01, 1.2551e-03,\n",
       "          2.1543e-04, 1.1413e-04, 9.0803e-05],\n",
       "         [9.7877e-01, 9.6653e-01, 9.5352e-01, 9.5352e-01, 1.0084e-01, 9.2155e-04,\n",
       "          1.4131e-04, 6.8803e-05, 5.2212e-05],\n",
       "         [9.7923e-01, 9.6752e-01, 9.5511e-01, 9.5511e-01, 9.4837e-02, 7.8200e-04,\n",
       "          1.0821e-04, 4.9280e-05, 3.6054e-05],\n",
       "         [9.7892e-01, 9.6685e-01, 9.5402e-01, 9.5402e-01, 9.8462e-02, 8.6836e-04,\n",
       "          1.2846e-04, 6.1104e-05, 4.5787e-05],\n",
       "         [9.7874e-01, 9.6627e-01, 9.5281e-01, 9.5281e-01, 9.4243e-02, 8.3344e-04,\n",
       "          1.2205e-04, 5.7504e-05, 4.2836e-05],\n",
       "         [9.8000e-01, 9.6965e-01, 9.5916e-01, 9.5916e-01, 1.0434e-01, 8.0590e-04,\n",
       "          1.0832e-04, 4.8826e-05, 3.5595e-05],\n",
       "         [9.7901e-01, 9.6703e-01, 9.5428e-01, 9.5428e-01, 9.6878e-02, 8.3581e-04,\n",
       "          1.2085e-04, 5.6629e-05, 4.2084e-05],\n",
       "         [9.7878e-01, 9.6625e-01, 9.5258e-01, 9.5258e-01, 8.9212e-02, 7.5902e-04,\n",
       "          1.0596e-04, 4.8278e-05, 3.5286e-05],\n",
       "         [9.7968e-01, 9.6946e-01, 9.5956e-01, 9.5956e-01, 1.3529e-01, 1.2623e-03,\n",
       "          2.1293e-04, 1.1203e-04, 8.8889e-05],\n",
       "         [9.7986e-01, 9.6929e-01, 9.5852e-01, 9.5852e-01, 1.0355e-01, 8.1415e-04,\n",
       "          1.1089e-04, 5.0360e-05, 3.6856e-05]])}"
      ]
     },
     "execution_count": 17,
     "metadata": {},
     "output_type": "execute_result"
    }
   ],
   "source": [
    "predictions"
   ]
  },
  {
   "cell_type": "code",
   "execution_count": null,
   "metadata": {},
   "outputs": [],
   "source": []
  },
  {
   "cell_type": "code",
   "execution_count": 18,
   "metadata": {},
   "outputs": [],
   "source": [
    "# SCAFFOLDING FOR DYNAMIC EVENT HANDLING BELOW\n",
    "\n",
    "import pyro\n",
    "from torch import Tensor\n",
    "from torchdiffeq import odeint_event, odeint\n",
    "\n",
    "Time = Tensor\n",
    "State = tuple[Tensor, ...]\n",
    "\n",
    "class BaseODEModel(pyro.nn.PyroModule):\n",
    "\n",
    "    def __init__(self, static_events: list[Event]):\n",
    "        super().__init__()\n",
    "        # This is a list of events that are always sorted by time.\n",
    "        # TODO: probably pre-sort this list just in case.\n",
    "        self.static_events = static_events\n",
    "\n",
    "    def deriv(self, t: Time, state: State) -> State:\n",
    "        raise NotImplementedError\n",
    "\n",
    "    @pyro.nn.pyro_method\n",
    "    def param_prior(self):\n",
    "        raise NotImplementedError\n",
    "\n",
    "    @pyro.nn.pyro_method\n",
    "    def initial_conditions_prior(self):\n",
    "        raise NotImplementedError\n",
    "\n",
    "    # @pyro.nn.pyro_method\n",
    "    # def observation_model(self, state: State, tspan: Time, ?) -> ?: …\n",
    "\n",
    "    def solve(self, initial_state: State, initial_time: Time) -> tuple[State, State]:\n",
    "        \n",
    "        current_state = initial_state\n",
    "        current_time = initial_time\n",
    "\n",
    "        solution = torch.tensor([])\n",
    "\n",
    "        for i, static_event in enumerate(self.static_events):\n",
    "            \n",
    "            # TODO: change below\n",
    "            # Note: Immediate goal is to get self.solve() to generate ode solutions that stop at the event times.\n",
    "            # Note: Next we will add log likelihood at those events using an observation model.\n",
    "\n",
    "            # Note: each static_event is an Event object, which has a forward() method that returns a Tensor.\n",
    "            # TODO: Chad, could you please make this actually make sense.\n",
    "            event_time, event_solution = odeint(self.deriv, current_state, current_time, event_fn=static_event)\n",
    "    \n",
    "            # TODO: Add log likelihood for event_solution.\n",
    "            # Note: This will be done by adding an observation model to the ODE model and calling it with the event_solution as an argument.\n",
    "\n",
    "            solution = torch.cat([solution, event_solution], dim=-1)\n",
    "            # current = event_solution[-1]\n",
    "\n",
    "\n",
    "    def forward(self, initial_state: State, initial_time: Time) -> tuple[State, State]:\n",
    "        # Sample parameters from the prior. These parameters are generated as attributes of the model.\n",
    "        self.param_prior()\n",
    "\n",
    "        # TODO: Sample initial conditions from the prior instead of taking them as input.\n",
    "\n",
    "        # Solve the ODE, taking into account any intervention and conditioning events.\n",
    "        return self.solve(initial_state, initial_time)\n",
    "\n",
    "\n"
   ]
  },
  {
   "cell_type": "code",
   "execution_count": null,
   "metadata": {},
   "outputs": [],
   "source": []
  },
  {
   "cell_type": "code",
   "execution_count": null,
   "metadata": {},
   "outputs": [],
   "source": []
  },
  {
   "cell_type": "code",
   "execution_count": null,
   "metadata": {},
   "outputs": [],
   "source": []
  }
 ],
 "metadata": {
  "kernelspec": {
   "display_name": "jz-sviivr",
   "language": "python",
   "name": "jz-sviivr"
  },
  "language_info": {
   "codemirror_mode": {
    "name": "ipython",
    "version": 3
   },
   "file_extension": ".py",
   "mimetype": "text/x-python",
   "name": "python",
   "nbconvert_exporter": "python",
   "pygments_lexer": "ipython3",
   "version": "3.10.9"
  }
 },
 "nbformat": 4,
 "nbformat_minor": 4
}
