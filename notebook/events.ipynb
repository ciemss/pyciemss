{
 "cells": [
  {
   "cell_type": "code",
   "execution_count": 1,
   "metadata": {},
   "outputs": [],
   "source": [
    "import os\n",
    "import torch\n",
    "\n",
    "from pyro.distributions import Uniform\n",
    "\n",
    "from pyciemss.ODE.base import PetriNetODESystem, BetaNoisePetriNetODESystem\n",
    "from pyciemss.ODE.events import Event, ObservationEvent, LoggingEvent, StartEvent, DynamicStopEvent\n",
    "import pyciemss"
   ]
  },
  {
   "cell_type": "code",
   "execution_count": 2,
   "metadata": {},
   "outputs": [
    {
     "name": "stderr",
     "output_type": "stream",
     "text": [
      "/Users/sam-basis/Desktop/Research/pyciemss/src/pyciemss/ODE/base.py:73: UserWarning: To copy construct from a tensor, it is recommended to use sourceTensor.clone().detach() or sourceTensor.clone().detach().requires_grad_(True), rather than torch.tensor(sourceTensor).\n",
      "  logging_events = [LoggingEvent(torch.tensor(t)) for t in times]\n"
     ]
    },
    {
     "data": {
      "text/plain": [
       "{'I': tensor([0.0861, 0.0688, 0.0520, 0.0378, 0.0267, 0.0185, 0.0127, 0.0086, 0.0058,\n",
       "         0.0039]),\n",
       " 'R': tensor([0.0965, 0.1764, 0.2385, 0.2846, 0.3176, 0.3407, 0.3567, 0.3675, 0.3749,\n",
       "         0.3799]),\n",
       " 'S': tensor([0.8175, 0.7548, 0.7095, 0.6776, 0.6557, 0.6407, 0.6306, 0.6238, 0.6193,\n",
       "         0.6162])}"
      ]
     },
     "execution_count": 2,
     "metadata": {},
     "output_type": "execute_result"
    }
   ],
   "source": [
    "STARTERKIT_PATH = \"test/models/starter_kit_examples/\"\n",
    "MIRA_PATH = \"test/models/evaluation_examples/\"\n",
    "\n",
    "filename = \"CHIME-SIR/model_petri.json\"\n",
    "filename = os.path.join(STARTERKIT_PATH, filename)\n",
    "\n",
    "model = BetaNoisePetriNetODESystem.from_mira(filename)\n",
    "model.load_start_event(0.0, {\"S\": 0.9, \"I\": 0.1, \"R\": 0.0})\n",
    "\n",
    "tspan = torch.linspace(1, 10, 10)\n",
    "model.load_logging_events(tspan)\n",
    "\n",
    "solution = model()\n",
    "\n",
    "# See that the solution returns a dictionary where each value has length 10, one for each logging event.\n",
    "assert len(solution[\"I\"]) == len(solution[\"R\"]) == len(solution[\"S\"]) == len(tspan)\n",
    "\n",
    "solution"
   ]
  },
  {
   "cell_type": "code",
   "execution_count": 3,
   "metadata": {},
   "outputs": [
    {
     "data": {
      "text/plain": [
       "{'I': tensor([]), 'R': tensor([]), 'S': tensor([])}"
      ]
     },
     "execution_count": 3,
     "metadata": {},
     "output_type": "execute_result"
    }
   ],
   "source": [
    "# Remove the logging events.\n",
    "model.delete_logging_events()\n",
    "\n",
    "# Add observation events.\n",
    "# TODO: implement a pyciemss.condition operation that returns a model with observation_events\n",
    "observations = {1.3: {\"R\": 0.2, \"I\":0.15}, 2.3: {\"I\": 0.1}}\n",
    "model.load_observation_events(observations)\n",
    "\n",
    "model()\n"
   ]
  },
  {
   "cell_type": "code",
   "execution_count": 4,
   "metadata": {},
   "outputs": [
    {
     "name": "stdout",
     "output_type": "stream",
     "text": [
      "[iteration 0001] loss: 7.1361\n",
      "[iteration 0026] loss: 6.8324\n",
      "[iteration 0051] loss: 5.1047\n",
      "[iteration 0076] loss: 3.1802\n"
     ]
    }
   ],
   "source": [
    "# Show that inference works.\n",
    "\n",
    "from pyro.infer.autoguide import AutoNormal\n",
    "from pyro.poutine import block\n",
    "from pyro.infer import SVI, Trace_ELBO\n",
    "from pyro.optim import Adam\n",
    "import pyro\n",
    "\n",
    "guide = AutoNormal(model)\n",
    "optim = Adam({'lr': 0.03})\n",
    "loss_f = Trace_ELBO(num_particles=1)\n",
    "verbose = True\n",
    "\n",
    "svi = SVI(model, guide, optim, loss=loss_f)\n",
    "\n",
    "pyro.clear_param_store()\n",
    "\n",
    "for j in range(100):\n",
    "    # calculate the loss and take a gradient step\n",
    "    # Passing a data argument to svi.step() will condition the model on the data.\n",
    "    loss = svi.step()\n",
    "    if verbose:\n",
    "        if j % 25 == 0:\n",
    "            print(\"[iteration %04d] loss: %.4f\" % (j + 1, loss))"
   ]
  },
  {
   "cell_type": "code",
   "execution_count": 5,
   "metadata": {},
   "outputs": [],
   "source": [
    "# use pyro predictive\n",
    "from pyro.infer import Predictive\n",
    "\n",
    "# Remove the observation events and add logging events.\n",
    "\n",
    "model.delete_observation_events()\n",
    "model.load_logging_events(torch.linspace(1, 10, 10))\n",
    "\n",
    "\n",
    "# Get the return value of model.\n",
    "predictions = Predictive(model, guide=guide, num_samples=10)()"
   ]
  },
  {
   "cell_type": "code",
   "execution_count": 6,
   "metadata": {},
   "outputs": [
    {
     "data": {
      "text/plain": [
       "{'a_beta': tensor([1.0571, 0.9763, 0.9913, 0.9369, 1.0276, 0.9485, 0.9565, 1.0730, 1.0156,\n",
       "         1.0680]),\n",
       " 'a_gamma': tensor([0.9417, 0.9620, 0.9400, 1.0504, 1.0620, 1.0572, 1.0083, 0.9713, 1.0538,\n",
       "         1.0467]),\n",
       " 'I_sol': tensor([[0.0962, 0.0849, 0.0698, 0.0545, 0.0409, 0.0298, 0.0213, 0.0151, 0.0105,\n",
       "          0.0073],\n",
       "         [0.0884, 0.0729, 0.0570, 0.0429, 0.0314, 0.0225, 0.0159, 0.0112, 0.0078,\n",
       "          0.0054],\n",
       "         [0.0914, 0.0777, 0.0623, 0.0478, 0.0356, 0.0259, 0.0186, 0.0131, 0.0092,\n",
       "          0.0065],\n",
       "         [0.0784, 0.0581, 0.0413, 0.0286, 0.0195, 0.0131, 0.0087, 0.0058, 0.0038,\n",
       "          0.0025],\n",
       "         [0.0835, 0.0648, 0.0477, 0.0339, 0.0235, 0.0160, 0.0108, 0.0072, 0.0048,\n",
       "          0.0032],\n",
       "         [0.0786, 0.0583, 0.0415, 0.0287, 0.0195, 0.0131, 0.0087, 0.0058, 0.0038,\n",
       "          0.0025],\n",
       "         [0.0831, 0.0648, 0.0483, 0.0349, 0.0246, 0.0171, 0.0117, 0.0080, 0.0054,\n",
       "          0.0037],\n",
       "         [0.0946, 0.0820, 0.0663, 0.0509, 0.0376, 0.0270, 0.0191, 0.0133, 0.0092,\n",
       "          0.0063],\n",
       "         [0.0833, 0.0647, 0.0477, 0.0340, 0.0236, 0.0161, 0.0109, 0.0073, 0.0049,\n",
       "          0.0032],\n",
       "         [0.0875, 0.0706, 0.0536, 0.0390, 0.0275, 0.0190, 0.0130, 0.0088, 0.0059,\n",
       "          0.0039]]),\n",
       " 'R_sol': tensor([[0.0931, 0.1788, 0.2518, 0.3102, 0.3549, 0.3880, 0.4119, 0.4288, 0.4407,\n",
       "          0.4491],\n",
       "         [0.0911, 0.1688, 0.2312, 0.2791, 0.3146, 0.3403, 0.3586, 0.3715, 0.3806,\n",
       "          0.3868],\n",
       "         [0.0905, 0.1702, 0.2360, 0.2876, 0.3267, 0.3554, 0.3761, 0.3909, 0.4013,\n",
       "          0.4086],\n",
       "         [0.0938, 0.1652, 0.2171, 0.2535, 0.2785, 0.2954, 0.3066, 0.3142, 0.3191,\n",
       "          0.3224],\n",
       "         [0.0978, 0.1765, 0.2360, 0.2791, 0.3093, 0.3300, 0.3441, 0.3535, 0.3598,\n",
       "          0.3640],\n",
       "         [0.0945, 0.1667, 0.2191, 0.2559, 0.2811, 0.2981, 0.3095, 0.3170, 0.3220,\n",
       "          0.3253],\n",
       "         [0.0926, 0.1671, 0.2239, 0.2656, 0.2953, 0.3161, 0.3305, 0.3403, 0.3470,\n",
       "          0.3515],\n",
       "         [0.0953, 0.1815, 0.2536, 0.3104, 0.3531, 0.3843, 0.4065, 0.4221, 0.4329,\n",
       "          0.4404],\n",
       "         [0.0970, 0.1750, 0.2339, 0.2767, 0.3067, 0.3274, 0.3415, 0.3510, 0.3573,\n",
       "          0.3616],\n",
       "         [0.0987, 0.1817, 0.2466, 0.2948, 0.3293, 0.3535, 0.3701, 0.3813, 0.3889,\n",
       "          0.3940]]),\n",
       " 'S_sol': tensor([[0.8107, 0.7363, 0.6784, 0.6353, 0.6042, 0.5822, 0.5668, 0.5561, 0.5487,\n",
       "          0.5436],\n",
       "         [0.8205, 0.7583, 0.7118, 0.6780, 0.6540, 0.6372, 0.6254, 0.6173, 0.6117,\n",
       "          0.6078],\n",
       "         [0.8181, 0.7521, 0.7017, 0.6645, 0.6377, 0.6187, 0.6053, 0.5960, 0.5895,\n",
       "          0.5850],\n",
       "         [0.8278, 0.7767, 0.7416, 0.7179, 0.7021, 0.6916, 0.6846, 0.6801, 0.6771,\n",
       "          0.6751],\n",
       "         [0.8187, 0.7587, 0.7162, 0.6870, 0.6672, 0.6539, 0.6451, 0.6392, 0.6354,\n",
       "          0.6328],\n",
       "         [0.8268, 0.7750, 0.7394, 0.7154, 0.6994, 0.6888, 0.6818, 0.6772, 0.6742,\n",
       "          0.6722],\n",
       "         [0.8243, 0.7681, 0.7278, 0.6996, 0.6801, 0.6668, 0.6578, 0.6517, 0.6476,\n",
       "          0.6448],\n",
       "         [0.8101, 0.7365, 0.6801, 0.6387, 0.6093, 0.5886, 0.5744, 0.5646, 0.5579,\n",
       "          0.5533],\n",
       "         [0.8197, 0.7604, 0.7183, 0.6893, 0.6697, 0.6564, 0.6476, 0.6417, 0.6378,\n",
       "          0.6352],\n",
       "         [0.8137, 0.7477, 0.6998, 0.6662, 0.6431, 0.6275, 0.6169, 0.6099, 0.6052,\n",
       "          0.6021]])}"
      ]
     },
     "execution_count": 6,
     "metadata": {},
     "output_type": "execute_result"
    }
   ],
   "source": [
    "predictions"
   ]
  },
  {
   "cell_type": "code",
   "execution_count": null,
   "metadata": {},
   "outputs": [],
   "source": [
    "# SCAFFOLDING FOR DYNAMIC EVENT HANDLING BELOW\n",
    "\n",
    "import pyro\n",
    "from torch import Tensor\n",
    "from torchdiffeq import odeint_event, odeint\n",
    "\n",
    "Time = Tensor\n",
    "State = tuple[Tensor, ...]\n",
    "\n",
    "class BaseODEModel(pyro.nn.PyroModule):\n",
    "\n",
    "    def __init__(self, static_events: list[Event]):\n",
    "        super().__init__()\n",
    "        # This is a list of events that are always sorted by time.\n",
    "        # TODO: probably pre-sort this list just in case.\n",
    "        self.static_events = static_events\n",
    "\n",
    "    def deriv(self, t: Time, state: State) -> State:\n",
    "        raise NotImplementedError\n",
    "\n",
    "    @pyro.nn.pyro_method\n",
    "    def param_prior(self):\n",
    "        raise NotImplementedError\n",
    "\n",
    "    @pyro.nn.pyro_method\n",
    "    def initial_conditions_prior(self):\n",
    "        raise NotImplementedError\n",
    "\n",
    "    # @pyro.nn.pyro_method\n",
    "    # def observation_model(self, state: State, tspan: Time, ?) -> ?: …\n",
    "\n",
    "    def solve(self, initial_state: State, initial_time: Time) -> tuple[State, State]:\n",
    "        \n",
    "        current_state = initial_state\n",
    "        current_time = initial_time\n",
    "\n",
    "        solution = torch.tensor([])\n",
    "\n",
    "        for i, static_event in enumerate(self.static_events):\n",
    "            \n",
    "            # TODO: change below\n",
    "            # Note: Immediate goal is to get self.solve() to generate ode solutions that stop at the event times.\n",
    "            # Note: Next we will add log likelihood at those events using an observation model.\n",
    "\n",
    "            # Note: each static_event is an Event object, which has a forward() method that returns a Tensor.\n",
    "            # TODO: Chad, could you please make this actually make sense.\n",
    "            event_time, event_solution = odeint(self.deriv, current_state, current_time, event_fn=static_event)\n",
    "    \n",
    "            # TODO: Add log likelihood for event_solution.\n",
    "            # Note: This will be done by adding an observation model to the ODE model and calling it with the event_solution as an argument.\n",
    "\n",
    "            solution = torch.cat([solution, event_solution], dim=-1)\n",
    "            # current = event_solution[-1]\n",
    "\n",
    "\n",
    "    def forward(self, initial_state: State, initial_time: Time) -> tuple[State, State]:\n",
    "        # Sample parameters from the prior. These parameters are generated as attributes of the model.\n",
    "        self.param_prior()\n",
    "\n",
    "        # TODO: Sample initial conditions from the prior instead of taking them as input.\n",
    "\n",
    "        # Solve the ODE, taking into account any intervention and conditioning events.\n",
    "        return self.solve(initial_state, initial_time)\n",
    "\n",
    "\n"
   ]
  },
  {
   "cell_type": "code",
   "execution_count": null,
   "metadata": {},
   "outputs": [],
   "source": []
  },
  {
   "cell_type": "code",
   "execution_count": null,
   "metadata": {},
   "outputs": [],
   "source": []
  },
  {
   "cell_type": "code",
   "execution_count": null,
   "metadata": {},
   "outputs": [],
   "source": [
    "event_time, event_solution = odeint(self.deriv, current_state, current_time, event_fn=static_event)"
   ]
  },
  {
   "cell_type": "code",
   "execution_count": null,
   "metadata": {},
   "outputs": [],
   "source": [
    "\n",
    "# TODO: Chad, initialize a stop event here.\n",
    "# stop_event = ...\n",
    "\n",
    "# TODO: Chad, create a model the subclasses BaseODEModel and has all of the above missing methods implemented.\n",
    "# deriv, param_prior, initial_conditions_prior, observation_model\n",
    "# class ActualODEModel(BaseODEModel):\n",
    "#   ...\n",
    "\n",
    "# TODO: Chad, instantiate the model here.\n",
    "# model = ActualODEModel([stop_event])\n",
    "\n",
    "# TODO: Chad, Call model.forward() here.\n",
    "# solution, _ = model(initial_state, tspan)"
   ]
  },
  {
   "cell_type": "code",
   "execution_count": 7,
   "metadata": {},
   "outputs": [],
   "source": [
    "observations = [ObservationEvent(torch.tensor([2.1]), {\"I\": torch.tensor([0.1])})]\n"
   ]
  },
  {
   "cell_type": "code",
   "execution_count": 8,
   "metadata": {},
   "outputs": [
    {
     "ename": "AttributeError",
     "evalue": "module 'pyciemss' has no attribute 'condition'",
     "output_type": "error",
     "traceback": [
      "\u001b[0;31m---------------------------------------------------------------------------\u001b[0m",
      "\u001b[0;31mAttributeError\u001b[0m                            Traceback (most recent call last)",
      "\u001b[1;32m/Users/sam-basis/Desktop/Research/pyciemss/notebook/events.ipynb Cell 4\u001b[0m in \u001b[0;36m1\n\u001b[0;32m----> <a href='vscode-notebook-cell:/Users/sam-basis/Desktop/Research/pyciemss/notebook/events.ipynb#W3sZmlsZQ%3D%3D?line=0'>1</a>\u001b[0m conditioned_model \u001b[39m=\u001b[39m pyciemss\u001b[39m.\u001b[39;49mcondition(model, observations)\n",
      "\u001b[0;31mAttributeError\u001b[0m: module 'pyciemss' has no attribute 'condition'"
     ]
    }
   ],
   "source": [
    "conditioned_model = pyciemss.condition(model, observations)"
   ]
  },
  {
   "cell_type": "code",
   "execution_count": null,
   "metadata": {},
   "outputs": [],
   "source": []
  }
 ],
 "metadata": {
  "kernelspec": {
   "display_name": "venv",
   "language": "python",
   "name": "python3"
  },
  "language_info": {
   "codemirror_mode": {
    "name": "ipython",
    "version": 3
   },
   "file_extension": ".py",
   "mimetype": "text/x-python",
   "name": "python",
   "nbconvert_exporter": "python",
   "pygments_lexer": "ipython3",
   "version": "3.10.8"
  },
  "orig_nbformat": 4
 },
 "nbformat": 4,
 "nbformat_minor": 2
}
