{
 "cells": [
  {
   "cell_type": "code",
   "execution_count": 1,
   "metadata": {},
   "outputs": [],
   "source": [
    "import os\n",
    "\n",
    "from pyciemss.PetriNetODE.base import MiraPetriNetODESystem, ScaledBetaNoisePetriNetODESystem\n",
    "from pyciemss.PetriNetODE.events import Event, StartEvent, LoggingEvent, ObservationEvent, StaticParameterInterventionEvent\n",
    "import pyciemss\n",
    "\n",
    "from pyciemss.PetriNetODE.interfaces import load_petri_model, setup_model, reset_model, intervene, sample, calibrate, optimize"
   ]
  },
  {
   "cell_type": "code",
   "execution_count": 7,
   "metadata": {},
   "outputs": [
    {
     "data": {
      "text/plain": [
       "ScaledBetaNoisePetriNetODESystem(\n",
       "\tbeta = Uniform(low: 0.09000000357627869, high: 0.10999999940395355),\n",
       "\tgamma = Uniform(low: 0.18000000715255737, high: 0.2199999988079071),\n",
       "\tpseudocount = 1\n",
       ")"
      ]
     },
     "execution_count": 7,
     "metadata": {},
     "output_type": "execute_result"
    }
   ],
   "source": [
    "MIRA_PATH = \"test/models/evaluation_examples/scenario_1/\"\n",
    "\n",
    "filename = \"scenario1_sir_mira.json\"\n",
    "filename = os.path.join(MIRA_PATH, filename)\n",
    "model = ScaledBetaNoisePetriNetODESystem.from_mira(filename)\n",
    "model\n"
   ]
  },
  {
   "cell_type": "code",
   "execution_count": 8,
   "metadata": {},
   "outputs": [
    {
     "data": {
      "text/plain": [
       "{'immune_population': tensor([0.0019, 0.0037, 0.0052, 0.0066, 0.0078, 0.0089, 0.0099, 0.0107, 0.0115]),\n",
       " 'infected_population': tensor([0.0089, 0.0079, 0.0071, 0.0063, 0.0056, 0.0050, 0.0044, 0.0039, 0.0035]),\n",
       " 'susceptible_population': tensor([0.9891, 0.9884, 0.9877, 0.9871, 0.9866, 0.9861, 0.9857, 0.9853, 0.9850])}"
      ]
     },
     "execution_count": 8,
     "metadata": {},
     "output_type": "execute_result"
    }
   ],
   "source": [
    "\n",
    "\n",
    "start_event = StartEvent(0.0, {\"susceptible_population\": 0.99, \"infected_population\": 0.01, \"immune_population\": 0.0})\n",
    "model.load_event(start_event)\n",
    "\n",
    "tspan = range(1, 10)\n",
    "logging_events = [LoggingEvent(t) for t in tspan]\n",
    "model.load_events(logging_events)\n",
    "\n",
    "solution = model()\n",
    "\n",
    "# See that the solution returns a dictionary where each value has length 10, one for each logging event.\n",
    "assert len(solution[\"susceptible_population\"]) == len(solution[\"infected_population\"]) == len(solution[\"immune_population\"]) == len(tspan)\n",
    "\n",
    "solution"
   ]
  },
  {
   "cell_type": "code",
   "execution_count": 9,
   "metadata": {},
   "outputs": [
    {
     "data": {
      "text/plain": [
       "ScaledBetaNoisePetriNetODESystem(\n",
       "\tbeta = Uniform(low: 0.09000000357627869, high: 0.10999999940395355),\n",
       "\tgamma = Uniform(low: 0.18000000715255737, high: 0.2199999988079071),\n",
       "\tpseudocount = 1\n",
       ")"
      ]
     },
     "execution_count": 9,
     "metadata": {},
     "output_type": "execute_result"
    }
   ],
   "source": [
    "# Remove logging events\n",
    "model.remove_logging_events()\n",
    "\n",
    "# Add observations\n",
    "observation_events = [ObservationEvent(1.1, {\"susceptible_population\": 0.9, \"infected_population\": 0.09, \"immune_population\": 0.01}), \n",
    "                      ObservationEvent(2.1, {\"susceptible_population\": 0.8, \"infected_population\": 0.18, \"immune_population\": 0.02}),\n",
    "                      ObservationEvent(3.1, {\"susceptible_population\": 0.7, \"infected_population\": 0.27, \"immune_population\": 0.03}),\n",
    "                      ObservationEvent(4.1, {\"susceptible_population\": 0.6, \"infected_population\": 0.36, \"immune_population\": 0.04})]\n",
    "\n",
    "model.load_events(observation_events)\n",
    "model"
   ]
  },
  {
   "cell_type": "code",
   "execution_count": 10,
   "metadata": {},
   "outputs": [
    {
     "data": {
      "text/plain": [
       "[StartEvent(time=0.0, initial_state={'susceptible_population': tensor(0.9900), 'infected_population': tensor(0.0100), 'immune_population': tensor(0.)}),\n",
       " ObservationEvent(time=1.100000023841858, observation={'susceptible_population': tensor(0.9000), 'infected_population': tensor(0.0900), 'immune_population': tensor(0.0100)}),\n",
       " ObservationEvent(time=2.0999999046325684, observation={'susceptible_population': tensor(0.8000), 'infected_population': tensor(0.1800), 'immune_population': tensor(0.0200)}),\n",
       " ObservationEvent(time=3.0999999046325684, observation={'susceptible_population': tensor(0.7000), 'infected_population': tensor(0.2700), 'immune_population': tensor(0.0300)}),\n",
       " ObservationEvent(time=4.099999904632568, observation={'susceptible_population': tensor(0.6000), 'infected_population': tensor(0.3600), 'immune_population': tensor(0.0400)})]"
      ]
     },
     "execution_count": 10,
     "metadata": {},
     "output_type": "execute_result"
    }
   ],
   "source": [
    "model._static_events"
   ]
  },
  {
   "cell_type": "code",
   "execution_count": 11,
   "metadata": {},
   "outputs": [
    {
     "name": "stdout",
     "output_type": "stream",
     "text": [
      "[iteration 0001] loss: 36.5507\n",
      "[iteration 0026] loss: 35.0466\n",
      "[iteration 0051] loss: 33.5636\n",
      "[iteration 0076] loss: 30.1845\n"
     ]
    }
   ],
   "source": [
    "# Show that inference works.\n",
    "\n",
    "from pyro.infer.autoguide import AutoNormal\n",
    "from pyro.poutine import block\n",
    "from pyro.infer import SVI, Trace_ELBO\n",
    "from pyro.optim import Adam\n",
    "import pyro\n",
    "\n",
    "guide = AutoNormal(model)\n",
    "optim = Adam({'lr': 0.03})\n",
    "loss_f = Trace_ELBO(num_particles=1)\n",
    "verbose = True\n",
    "\n",
    "svi = SVI(model, guide, optim, loss=loss_f)\n",
    "\n",
    "pyro.clear_param_store()\n",
    "\n",
    "for j in range(100):\n",
    "    # calculate the loss and take a gradient step\n",
    "    # Passing a data argument to svi.step() will condition the model on the data.\n",
    "    loss = svi.step()\n",
    "    if verbose:\n",
    "        if j % 25 == 0:\n",
    "            print(\"[iteration %04d] loss: %.4f\" % (j + 1, loss))"
   ]
  },
  {
   "cell_type": "code",
   "execution_count": 12,
   "metadata": {},
   "outputs": [],
   "source": [
    "# Remove the observation events\n",
    "model.remove_observation_events()"
   ]
  },
  {
   "cell_type": "code",
   "execution_count": 13,
   "metadata": {},
   "outputs": [],
   "source": [
    "# Load some static parameter intervention events\n",
    "model.load_event(StaticParameterInterventionEvent(2.99, \"beta\", 0.0))\n",
    "model.load_event(StaticParameterInterventionEvent(4.11, \"beta\", 10.))\n",
    "\n",
    "# Load the logging events again\n",
    "model.load_events(logging_events)"
   ]
  },
  {
   "cell_type": "code",
   "execution_count": 14,
   "metadata": {},
   "outputs": [
    {
     "data": {
      "text/plain": [
       "[StartEvent(time=0.0, initial_state={'susceptible_population': tensor(0.9900), 'infected_population': tensor(0.0100), 'immune_population': tensor(0.)}),\n",
       " LoggingEvent(time=1),\n",
       " LoggingEvent(time=2),\n",
       " StaticParameterInterventionEvent(time=2.990000009536743, parameter=beta, value=0.0),\n",
       " LoggingEvent(time=3),\n",
       " LoggingEvent(time=4),\n",
       " StaticParameterInterventionEvent(time=4.110000133514404, parameter=beta, value=10.0),\n",
       " LoggingEvent(time=5),\n",
       " LoggingEvent(time=6),\n",
       " LoggingEvent(time=7),\n",
       " LoggingEvent(time=8),\n",
       " LoggingEvent(time=9)]"
      ]
     },
     "execution_count": 14,
     "metadata": {},
     "output_type": "execute_result"
    }
   ],
   "source": [
    "model._static_events"
   ]
  },
  {
   "cell_type": "code",
   "execution_count": 15,
   "metadata": {},
   "outputs": [
    {
     "data": {
      "text/plain": [
       "{'beta': <mira.modeling.ModelParameter at 0x7fb9c540b010>,\n",
       " 'gamma': <mira.modeling.ModelParameter at 0x7fb9c540b2e0>}"
      ]
     },
     "execution_count": 15,
     "metadata": {},
     "output_type": "execute_result"
    }
   ],
   "source": [
    "model.G.parameters"
   ]
  },
  {
   "cell_type": "code",
   "execution_count": 16,
   "metadata": {},
   "outputs": [
    {
     "data": {
      "text/plain": [
       "['beta', 'gamma']"
      ]
     },
     "execution_count": 16,
     "metadata": {},
     "output_type": "execute_result"
    }
   ],
   "source": [
    "from pyciemss.PetriNetODE.base import get_name\n",
    "[get_name(p) for p in model.G.parameters.values()]\n",
    "# model.G.parameters"
   ]
  },
  {
   "cell_type": "code",
   "execution_count": 17,
   "metadata": {},
   "outputs": [
    {
     "data": {
      "text/plain": [
       "{'immune_population': tensor([0.0020, 0.0038, 0.0054, 0.0068, 0.0800, 0.2577, 0.4017, 0.5177, 0.6112]),\n",
       " 'infected_population': tensor([0.0089, 0.0078, 0.0069, 0.0056, 0.8868, 0.7422, 0.5983, 0.4823, 0.3888]),\n",
       " 'susceptible_population': tensor([9.8911e-01, 9.8832e-01, 9.8763e-01, 9.8763e-01, 3.3194e-02, 8.7191e-06,\n",
       "         1.1156e-08, 1.3891e-11, 8.2939e-11])}"
      ]
     },
     "execution_count": 17,
     "metadata": {},
     "output_type": "execute_result"
    }
   ],
   "source": [
    "model._observation_var_names\n",
    "model()"
   ]
  },
  {
   "cell_type": "code",
   "execution_count": 18,
   "metadata": {},
   "outputs": [],
   "source": [
    "# use pyro predictive\n",
    "from pyro.infer import Predictive\n",
    "\n",
    "# Get the return value of model.\n",
    "predictions = Predictive(model, guide=guide, num_samples=10)()"
   ]
  },
  {
   "cell_type": "code",
   "execution_count": 19,
   "metadata": {},
   "outputs": [
    {
     "data": {
      "text/plain": [
       "{'gamma': tensor([0.2131, 0.2103, 0.2031, 0.2098, 0.2073, 0.2040, 0.2022, 0.2031, 0.1951,\n",
       "         0.1888]),\n",
       " 'immune_population_sol': tensor([[0.1062, 0.2776, 0.4163, 0.5283, 0.6189, 0.6920, 0.7511, 0.7989, 0.8375],\n",
       "         [0.1048, 0.2745, 0.4120, 0.5235, 0.6139, 0.6871, 0.7464, 0.7945, 0.8335],\n",
       "         [0.1015, 0.2665, 0.4013, 0.5113, 0.6011, 0.6744, 0.7343, 0.7831, 0.8230],\n",
       "         [0.1046, 0.2740, 0.4114, 0.5228, 0.6131, 0.6863, 0.7457, 0.7938, 0.8328],\n",
       "         [0.1035, 0.2712, 0.4077, 0.5186, 0.6087, 0.6820, 0.7415, 0.7899, 0.8293],\n",
       "         [0.1019, 0.2675, 0.4027, 0.5129, 0.6028, 0.6760, 0.7358, 0.7846, 0.8243],\n",
       "         [0.1012, 0.2656, 0.4001, 0.5099, 0.5997, 0.6730, 0.7328, 0.7818, 0.8217],\n",
       "         [0.1016, 0.2666, 0.4014, 0.5114, 0.6012, 0.6745, 0.7344, 0.7832, 0.8230],\n",
       "         [0.0978, 0.2576, 0.3892, 0.4974, 0.5865, 0.6598, 0.7201, 0.7697, 0.8105],\n",
       "         [0.0949, 0.2505, 0.3795, 0.4862, 0.5746, 0.6478, 0.7084, 0.7586, 0.8001]]),\n",
       " 'infected_population_sol': tensor([[0.8870, 0.7224, 0.5837, 0.4717, 0.3811, 0.3080, 0.2489, 0.2011, 0.1625],\n",
       "         [0.8884, 0.7255, 0.5880, 0.4765, 0.3861, 0.3129, 0.2536, 0.2055, 0.1665],\n",
       "         [0.8918, 0.7335, 0.5987, 0.4887, 0.3989, 0.3256, 0.2657, 0.2169, 0.1770],\n",
       "         [0.8886, 0.7260, 0.5886, 0.4772, 0.3869, 0.3137, 0.2543, 0.2062, 0.1672],\n",
       "         [0.8898, 0.7288, 0.5923, 0.4814, 0.3913, 0.3180, 0.2585, 0.2101, 0.1707],\n",
       "         [0.8914, 0.7325, 0.5973, 0.4871, 0.3972, 0.3240, 0.2642, 0.2154, 0.1757],\n",
       "         [0.8922, 0.7344, 0.5999, 0.4901, 0.4003, 0.3270, 0.2672, 0.2182, 0.1783],\n",
       "         [0.8918, 0.7334, 0.5986, 0.4886, 0.3988, 0.3255, 0.2656, 0.2168, 0.1770],\n",
       "         [0.8956, 0.7424, 0.6108, 0.5026, 0.4135, 0.3402, 0.2799, 0.2303, 0.1895],\n",
       "         [0.8986, 0.7495, 0.6205, 0.5138, 0.4254, 0.3522, 0.2916, 0.2414, 0.1999]]),\n",
       " 'susceptible_population_sol': tensor([[ 6.7963e-03,  2.1827e-06,  3.4129e-09,  3.4129e-09,  5.0375e-10,\n",
       "           4.2985e-11,  6.9396e-12,  9.1859e-13,  1.5222e-13],\n",
       "         [ 6.7598e-03,  2.1215e-06,  3.2145e-09,  3.2145e-09, -1.7791e-11,\n",
       "           2.5626e-11,  3.7103e-12,  4.1718e-13,  6.8830e-14],\n",
       "         [ 6.6696e-03,  1.9749e-06,  2.6927e-09,  2.6927e-09, -4.6340e-11,\n",
       "           3.8652e-11,  6.4510e-12,  6.9934e-13,  1.0637e-13],\n",
       "         [ 6.7542e-03,  2.1120e-06,  3.1621e-09,  3.1621e-09, -2.7273e-11,\n",
       "           2.5844e-11,  4.0459e-12,  4.5192e-13,  7.4017e-14],\n",
       "         [ 6.7229e-03,  2.0605e-06,  3.0509e-09,  3.0509e-09, -3.6284e-11,\n",
       "           2.8411e-11,  4.7809e-12,  5.2534e-13,  8.3535e-14],\n",
       "         [ 6.6808e-03,  1.9927e-06,  2.7684e-09,  2.7684e-09,  4.2268e-11,\n",
       "           8.9761e-12,  5.1193e-12,  6.4564e-13,  9.5237e-14],\n",
       "         [ 6.6593e-03,  1.9588e-06,  2.6813e-09,  2.6813e-09, -1.8521e-11,\n",
       "           9.3793e-12,  5.9391e-12,  6.8739e-13,  9.9914e-14],\n",
       "         [ 6.6702e-03,  1.9761e-06,  2.8291e-09,  2.8291e-09, -4.7234e-11,\n",
       "           4.9836e-11,  7.2459e-12,  7.9159e-13,  1.2123e-13],\n",
       "         [ 6.5703e-03,  1.8229e-06,  2.3992e-09,  2.3992e-09, -3.3289e-11,\n",
       "           5.8573e-12,  1.0078e-11,  1.3514e-12,  1.8137e-13],\n",
       "         [ 6.4933e-03,  1.7109e-06,  1.9823e-09,  1.9823e-09, -6.3876e-11,\n",
       "           9.8274e-12,  1.8759e-11,  2.9738e-12,  3.8386e-13]])}"
      ]
     },
     "execution_count": 19,
     "metadata": {},
     "output_type": "execute_result"
    }
   ],
   "source": [
    "predictions"
   ]
  },
  {
   "cell_type": "code",
   "execution_count": null,
   "metadata": {},
   "outputs": [],
   "source": []
  },
  {
   "cell_type": "code",
   "execution_count": null,
   "metadata": {},
   "outputs": [],
   "source": [
    "# SCAFFOLDING FOR DYNAMIC EVENT HANDLING BELOW\n",
    "\n",
    "import pyro\n",
    "from torch import Tensor\n",
    "from torchdiffeq import odeint_event, odeint\n",
    "\n",
    "Time = Tensor\n",
    "State = tuple[Tensor, ...]\n",
    "\n",
    "class BaseODEModel(pyro.nn.PyroModule):\n",
    "\n",
    "    def __init__(self, static_events: list[Event]):\n",
    "        super().__init__()\n",
    "        # This is a list of events that are always sorted by time.\n",
    "        # TODO: probably pre-sort this list just in case.\n",
    "        self.static_events = static_events\n",
    "\n",
    "    def deriv(self, t: Time, state: State) -> State:\n",
    "        raise NotImplementedError\n",
    "\n",
    "    @pyro.nn.pyro_method\n",
    "    def param_prior(self):\n",
    "        raise NotImplementedError\n",
    "\n",
    "    @pyro.nn.pyro_method\n",
    "    def initial_conditions_prior(self):\n",
    "        raise NotImplementedError\n",
    "\n",
    "    # @pyro.nn.pyro_method\n",
    "    # def observation_model(self, state: State, tspan: Time, ?) -> ?: …\n",
    "\n",
    "    def solve(self, initial_state: State, initial_time: Time) -> tuple[State, State]:\n",
    "        \n",
    "        current_state = initial_state\n",
    "        current_time = initial_time\n",
    "\n",
    "        solution = torch.tensor([])\n",
    "\n",
    "        for i, static_event in enumerate(self.static_events):\n",
    "            \n",
    "            # TODO: change below\n",
    "            # Note: Immediate goal is to get self.solve() to generate ode solutions that stop at the event times.\n",
    "            # Note: Next we will add log likelihood at those events using an observation model.\n",
    "\n",
    "            # Note: each static_event is an Event object, which has a forward() method that returns a Tensor.\n",
    "            # TODO: Chad, could you please make this actually make sense.\n",
    "            event_time, event_solution = odeint(self.deriv, current_state, current_time, event_fn=static_event)\n",
    "    \n",
    "            # TODO: Add log likelihood for event_solution.\n",
    "            # Note: This will be done by adding an observation model to the ODE model and calling it with the event_solution as an argument.\n",
    "\n",
    "            solution = torch.cat([solution, event_solution], dim=-1)\n",
    "            # current = event_solution[-1]\n",
    "\n",
    "\n",
    "    def forward(self, initial_state: State, initial_time: Time) -> tuple[State, State]:\n",
    "        # Sample parameters from the prior. These parameters are generated as attributes of the model.\n",
    "        self.param_prior()\n",
    "\n",
    "        # TODO: Sample initial conditions from the prior instead of taking them as input.\n",
    "\n",
    "        # Solve the ODE, taking into account any intervention and conditioning events.\n",
    "        return self.solve(initial_state, initial_time)\n",
    "\n",
    "\n"
   ]
  },
  {
   "cell_type": "code",
   "execution_count": null,
   "metadata": {},
   "outputs": [],
   "source": []
  },
  {
   "cell_type": "code",
   "execution_count": null,
   "metadata": {},
   "outputs": [],
   "source": []
  },
  {
   "cell_type": "code",
   "execution_count": null,
   "metadata": {},
   "outputs": [],
   "source": []
  }
 ],
 "metadata": {
  "kernelspec": {
   "display_name": "venv",
   "language": "python",
   "name": "python3"
  },
  "language_info": {
   "codemirror_mode": {
    "name": "ipython",
    "version": 3
   },
   "file_extension": ".py",
   "mimetype": "text/x-python",
   "name": "python",
   "nbconvert_exporter": "python",
   "pygments_lexer": "ipython3",
   "version": "3.10.0"
  },
  "orig_nbformat": 4
 },
 "nbformat": 4,
 "nbformat_minor": 2
}
