{
 "cells": [
  {
   "cell_type": "code",
   "execution_count": 18,
   "metadata": {},
   "outputs": [],
   "source": [
    "import os\n",
    "\n",
    "from pyciemss.PetriNetODE.base import MiraPetriNetODESystem, BetaNoisePetriNetODESystem\n",
    "from pyciemss.PetriNetODE.events import Event, StartEvent, LoggingEvent, ObservationEvent, StaticParameterInterventionEvent\n",
    "import pyciemss\n",
    "\n",
    "from pyciemss.PetriNetODE.interfaces import load_petri_model, setup_model, reset_model, intervene, sample, calibrate, optimize"
   ]
  },
  {
   "cell_type": "code",
   "execution_count": 32,
   "metadata": {},
   "outputs": [
    {
     "data": {
      "text/plain": [
       "{'I': tensor([0.0092, 0.0084, 0.0076, 0.0069, 0.0062, 0.0055, 0.0049, 0.0044, 0.0038]),\n",
       " 'R': tensor([0.0093, 0.0179, 0.0257, 0.0327, 0.0391, 0.0447, 0.0498, 0.0543, 0.0583]),\n",
       " 'S': tensor([0.9815, 0.9737, 0.9667, 0.9604, 0.9548, 0.9497, 0.9453, 0.9413, 0.9379])}"
      ]
     },
     "execution_count": 32,
     "metadata": {},
     "output_type": "execute_result"
    }
   ],
   "source": [
    "STARTERKIT_PATH = \"test/models/starter_kit_examples/\"\n",
    "MIRA_PATH = \"test/models/evaluation_examples/\"\n",
    "\n",
    "filename = \"CHIME-SIR/model_petri.json\"\n",
    "filename = os.path.join(STARTERKIT_PATH, filename)\n",
    "\n",
    "model = BetaNoisePetriNetODESystem.from_mira(filename)\n",
    "# model = MiraPetriNetODESystem.from_mira(filename)\n",
    "\n",
    "start_event = StartEvent(0.0, {\"S\": 0.99, \"I\": 0.01, \"R\": 0.0})\n",
    "model.load_event(start_event)\n",
    "\n",
    "tspan = range(1, 10)\n",
    "logging_events = [LoggingEvent(t) for t in tspan]\n",
    "model.load_events(logging_events)\n",
    "\n",
    "solution = model()\n",
    "\n",
    "# See that the solution returns a dictionary where each value has length 10, one for each logging event.\n",
    "assert len(solution[\"I\"]) == len(solution[\"R\"]) == len(solution[\"S\"]) == len(tspan)\n",
    "\n",
    "solution"
   ]
  },
  {
   "cell_type": "code",
   "execution_count": 33,
   "metadata": {},
   "outputs": [],
   "source": [
    "# Remove logging events\n",
    "model.remove_logging_events()\n",
    "\n",
    "# Add observations\n",
    "observation_events = [ObservationEvent(1.1, {\"S\": 0.9, \"I\": 0.09, \"R\": 0.01}), \n",
    "                      ObservationEvent(2.1, {\"S\": 0.8, \"I\": 0.18, \"R\": 0.02}),\n",
    "                      ObservationEvent(3.1, {\"S\": 0.7, \"I\": 0.27, \"R\": 0.03}),\n",
    "                      ObservationEvent(4.1, {\"S\": 0.6, \"I\": 0.36, \"R\": 0.04})]\n",
    "\n",
    "model.load_events(observation_events)"
   ]
  },
  {
   "cell_type": "code",
   "execution_count": 34,
   "metadata": {},
   "outputs": [
    {
     "data": {
      "text/plain": [
       "[StartEvent(time=0.0, initial_state={'S': tensor(0.9900), 'I': tensor(0.0100), 'R': tensor(0.)}),\n",
       " ObservationEvent(time=1.100000023841858, observation={'S': tensor(0.9000), 'I': tensor(0.0900), 'R': tensor(0.0100)}),\n",
       " ObservationEvent(time=2.0999999046325684, observation={'S': tensor(0.8000), 'I': tensor(0.1800), 'R': tensor(0.0200)}),\n",
       " ObservationEvent(time=3.0999999046325684, observation={'S': tensor(0.7000), 'I': tensor(0.2700), 'R': tensor(0.0300)}),\n",
       " ObservationEvent(time=4.099999904632568, observation={'S': tensor(0.6000), 'I': tensor(0.3600), 'R': tensor(0.0400)})]"
      ]
     },
     "execution_count": 34,
     "metadata": {},
     "output_type": "execute_result"
    }
   ],
   "source": [
    "model._static_events"
   ]
  },
  {
   "cell_type": "code",
   "execution_count": 35,
   "metadata": {},
   "outputs": [
    {
     "name": "stdout",
     "output_type": "stream",
     "text": [
      "[iteration 0001] loss: 25.2661\n",
      "[iteration 0026] loss: 21.5414\n",
      "[iteration 0051] loss: 21.2547\n",
      "[iteration 0076] loss: 20.8130\n"
     ]
    }
   ],
   "source": [
    "# Show that inference works.\n",
    "\n",
    "from pyro.infer.autoguide import AutoNormal\n",
    "from pyro.poutine import block\n",
    "from pyro.infer import SVI, Trace_ELBO\n",
    "from pyro.optim import Adam\n",
    "import pyro\n",
    "\n",
    "guide = AutoNormal(model)\n",
    "optim = Adam({'lr': 0.03})\n",
    "loss_f = Trace_ELBO(num_particles=1)\n",
    "verbose = True\n",
    "\n",
    "svi = SVI(model, guide, optim, loss=loss_f)\n",
    "\n",
    "pyro.clear_param_store()\n",
    "\n",
    "for j in range(100):\n",
    "    # calculate the loss and take a gradient step\n",
    "    # Passing a data argument to svi.step() will condition the model on the data.\n",
    "    loss = svi.step()\n",
    "    if verbose:\n",
    "        if j % 25 == 0:\n",
    "            print(\"[iteration %04d] loss: %.4f\" % (j + 1, loss))"
   ]
  },
  {
   "cell_type": "code",
   "execution_count": 36,
   "metadata": {},
   "outputs": [],
   "source": [
    "# Remove the observation events\n",
    "model.remove_observation_events()"
   ]
  },
  {
   "cell_type": "code",
   "execution_count": 37,
   "metadata": {},
   "outputs": [],
   "source": [
    "# Load some static parameter intervention events\n",
    "model.load_event(StaticParameterInterventionEvent(2.99, \"beta\", 0.0))\n",
    "model.load_event(StaticParameterInterventionEvent(4.11, \"beta\", 10.))\n",
    "\n",
    "# Load the logging events again\n",
    "model.load_events(logging_events)"
   ]
  },
  {
   "cell_type": "code",
   "execution_count": 38,
   "metadata": {},
   "outputs": [
    {
     "data": {
      "text/plain": [
       "[StartEvent(time=0.0, initial_state={'S': tensor(0.9900), 'I': tensor(0.0100), 'R': tensor(0.)}),\n",
       " LoggingEvent(time=1),\n",
       " LoggingEvent(time=2),\n",
       " StaticParameterInterventionEvent(time=2.990000009536743, parameter=beta, value=0.0),\n",
       " LoggingEvent(time=3),\n",
       " LoggingEvent(time=4),\n",
       " StaticParameterInterventionEvent(time=4.110000133514404, parameter=beta, value=10.0),\n",
       " LoggingEvent(time=5),\n",
       " LoggingEvent(time=6),\n",
       " LoggingEvent(time=7),\n",
       " LoggingEvent(time=8),\n",
       " LoggingEvent(time=9)]"
      ]
     },
     "execution_count": 38,
     "metadata": {},
     "output_type": "execute_result"
    }
   ],
   "source": [
    "model._static_events"
   ]
  },
  {
   "cell_type": "code",
   "execution_count": 39,
   "metadata": {},
   "outputs": [
    {
     "data": {
      "text/plain": [
       "[]"
      ]
     },
     "execution_count": 39,
     "metadata": {},
     "output_type": "execute_result"
    }
   ],
   "source": [
    "model._observation_var_names"
   ]
  },
  {
   "cell_type": "code",
   "execution_count": 40,
   "metadata": {},
   "outputs": [],
   "source": [
    "# use pyro predictive\n",
    "from pyro.infer import Predictive\n",
    "\n",
    "# Get the return value of model.\n",
    "predictions = Predictive(model, guide=guide, num_samples=10)()"
   ]
  },
  {
   "cell_type": "code",
   "execution_count": 41,
   "metadata": {},
   "outputs": [
    {
     "data": {
      "text/plain": [
       "{'a_gamma': tensor([0.9626, 0.9235, 0.9970, 0.9383, 0.9102, 0.9466, 1.0690, 0.9930, 0.9729,\n",
       "         1.0212]),\n",
       " 'I_sol': tensor([[6.1250e-01, 2.4397e-01, 9.3330e-02, 3.5642e-02, 1.3620e-02, 5.2049e-03,\n",
       "          1.9889e-03, 7.6000e-04, 2.9041e-04],\n",
       "         [6.2359e-01, 2.5746e-01, 1.0238e-01, 4.0657e-02, 1.6153e-02, 6.4175e-03,\n",
       "          2.5496e-03, 1.0129e-03, 4.0240e-04],\n",
       "         [6.0297e-01, 2.3273e-01, 8.6052e-02, 3.1751e-02, 1.1725e-02, 4.3298e-03,\n",
       "          1.5989e-03, 5.9041e-04, 2.1801e-04],\n",
       "         [6.1936e-01, 2.5226e-01, 9.8855e-02, 3.8681e-02, 1.5144e-02, 5.9286e-03,\n",
       "          2.3209e-03, 9.0859e-04, 3.5569e-04],\n",
       "         [6.2744e-01, 2.6225e-01, 1.0567e-01, 4.2527e-02, 1.7121e-02, 6.8931e-03,\n",
       "          2.7751e-03, 1.1172e-03, 4.4976e-04],\n",
       "         [6.1701e-01, 2.4939e-01, 9.6929e-02, 3.7614e-02, 1.4604e-02, 5.6705e-03,\n",
       "          2.2016e-03, 8.5477e-04, 3.3187e-04],\n",
       "         [5.8374e-01, 2.1110e-01, 7.2706e-02, 2.4964e-02, 8.5837e-03, 2.9516e-03,\n",
       "          1.0149e-03, 3.4895e-04, 1.1998e-04],\n",
       "         [6.0408e-01, 2.3403e-01, 8.6878e-02, 3.2186e-02, 1.1934e-02, 4.4247e-03,\n",
       "          1.6405e-03, 6.0823e-04, 2.2551e-04],\n",
       "         [6.0962e-01, 2.4053e-01, 9.1079e-02, 3.4425e-02, 1.3021e-02, 4.9248e-03,\n",
       "          1.8626e-03, 7.0448e-04, 2.6644e-04],\n",
       "         [5.9641e-01, 2.2520e-01, 8.1303e-02, 2.9282e-02, 1.0557e-02, 3.8062e-03,\n",
       "          1.3722e-03, 4.9469e-04, 1.7834e-04]]),\n",
       " 'R_sol': tensor([[0.3652, 0.7556, 0.9066, 0.9643, 0.9863, 0.9947, 0.9980, 0.9992, 0.9997],\n",
       "         [0.3553, 0.7422, 0.8976, 0.9593, 0.9838, 0.9935, 0.9974, 0.9989, 0.9996],\n",
       "         [0.3737, 0.7668, 0.9138, 0.9681, 0.9882, 0.9956, 0.9983, 0.9993, 0.9997],\n",
       "         [0.3591, 0.7474, 0.9011, 0.9613, 0.9848, 0.9940, 0.9976, 0.9990, 0.9996],\n",
       "         [0.3518, 0.7374, 0.8943, 0.9574, 0.9828, 0.9931, 0.9972, 0.9988, 0.9995],\n",
       "         [0.3612, 0.7502, 0.9030, 0.9623, 0.9853, 0.9943, 0.9977, 0.9991, 0.9996],\n",
       "         [0.3906, 0.7883, 0.9271, 0.9749, 0.9913, 0.9969, 0.9988, 0.9995, 0.9997],\n",
       "         [0.3727, 0.7655, 0.9130, 0.9677, 0.9880, 0.9955, 0.9983, 0.9993, 0.9997],\n",
       "         [0.3678, 0.7591, 0.9088, 0.9655, 0.9869, 0.9950, 0.9981, 0.9992, 0.9997],\n",
       "         [0.3795, 0.7743, 0.9186, 0.9706, 0.9893, 0.9961, 0.9985, 0.9994, 0.9997]]),\n",
       " 'S_sol': tensor([[2.2279e-02, 3.8586e-04, 8.1191e-05, 8.1191e-05, 6.7027e-05, 6.1412e-05,\n",
       "          5.9393e-05, 5.8639e-05, 5.8354e-05],\n",
       "         [2.1131e-02, 3.2013e-04, 6.0159e-05, 6.0159e-05, 4.8138e-05, 4.3319e-05,\n",
       "          4.1541e-05, 4.0856e-05, 4.0586e-05],\n",
       "         [2.3325e-02, 4.5238e-04, 1.0443e-04, 1.0443e-04, 8.8286e-05, 8.1969e-05,\n",
       "          7.9753e-05, 7.8950e-05, 7.8655e-05],\n",
       "         [2.1560e-02, 3.4382e-04, 6.7503e-05, 6.7503e-05, 5.4686e-05, 4.9568e-05,\n",
       "          4.7697e-05, 4.6984e-05, 4.6708e-05],\n",
       "         [2.0750e-02, 2.9993e-04, 5.4121e-05, 5.4121e-05, 4.2799e-05, 3.8248e-05,\n",
       "          3.6555e-05, 3.5895e-05, 3.5633e-05],\n",
       "         [2.1804e-02, 3.5775e-04, 7.1947e-05, 7.1947e-05, 5.8675e-05, 5.3388e-05,\n",
       "          5.1466e-05, 5.0738e-05, 5.0459e-05],\n",
       "         [2.5621e-02, 6.2102e-04, 1.7069e-04, 1.7069e-04, 1.5025e-04, 1.4253e-04,\n",
       "          1.3997e-04, 1.3910e-04, 1.3880e-04],\n",
       "         [2.3200e-02, 4.4409e-04, 1.0143e-04, 1.0143e-04, 8.5528e-05, 7.9294e-05,\n",
       "          7.7099e-05, 7.6301e-05, 7.6008e-05],\n",
       "         [2.2590e-02, 4.0494e-04, 8.7669e-05, 8.7669e-05, 7.2918e-05, 6.7092e-05,\n",
       "          6.5012e-05, 6.4242e-05, 6.3954e-05],\n",
       "         [2.4080e-02, 5.0432e-04, 1.2379e-04, 1.2379e-04, 1.0622e-04, 9.9417e-05,\n",
       "          9.7074e-05, 9.6242e-05, 9.5944e-05]])}"
      ]
     },
     "execution_count": 41,
     "metadata": {},
     "output_type": "execute_result"
    }
   ],
   "source": [
    "predictions"
   ]
  },
  {
   "cell_type": "code",
   "execution_count": null,
   "metadata": {},
   "outputs": [],
   "source": []
  },
  {
   "cell_type": "code",
   "execution_count": null,
   "metadata": {},
   "outputs": [],
   "source": [
    "# SCAFFOLDING FOR DYNAMIC EVENT HANDLING BELOW\n",
    "\n",
    "import pyro\n",
    "from torch import Tensor\n",
    "from torchdiffeq import odeint_event, odeint\n",
    "\n",
    "Time = Tensor\n",
    "State = tuple[Tensor, ...]\n",
    "\n",
    "class BaseODEModel(pyro.nn.PyroModule):\n",
    "\n",
    "    def __init__(self, static_events: list[Event]):\n",
    "        super().__init__()\n",
    "        # This is a list of events that are always sorted by time.\n",
    "        # TODO: probably pre-sort this list just in case.\n",
    "        self.static_events = static_events\n",
    "\n",
    "    def deriv(self, t: Time, state: State) -> State:\n",
    "        raise NotImplementedError\n",
    "\n",
    "    @pyro.nn.pyro_method\n",
    "    def param_prior(self):\n",
    "        raise NotImplementedError\n",
    "\n",
    "    @pyro.nn.pyro_method\n",
    "    def initial_conditions_prior(self):\n",
    "        raise NotImplementedError\n",
    "\n",
    "    # @pyro.nn.pyro_method\n",
    "    # def observation_model(self, state: State, tspan: Time, ?) -> ?: …\n",
    "\n",
    "    def solve(self, initial_state: State, initial_time: Time) -> tuple[State, State]:\n",
    "        \n",
    "        current_state = initial_state\n",
    "        current_time = initial_time\n",
    "\n",
    "        solution = torch.tensor([])\n",
    "\n",
    "        for i, static_event in enumerate(self.static_events):\n",
    "            \n",
    "            # TODO: change below\n",
    "            # Note: Immediate goal is to get self.solve() to generate ode solutions that stop at the event times.\n",
    "            # Note: Next we will add log likelihood at those events using an observation model.\n",
    "\n",
    "            # Note: each static_event is an Event object, which has a forward() method that returns a Tensor.\n",
    "            # TODO: Chad, could you please make this actually make sense.\n",
    "            event_time, event_solution = odeint(self.deriv, current_state, current_time, event_fn=static_event)\n",
    "    \n",
    "            # TODO: Add log likelihood for event_solution.\n",
    "            # Note: This will be done by adding an observation model to the ODE model and calling it with the event_solution as an argument.\n",
    "\n",
    "            solution = torch.cat([solution, event_solution], dim=-1)\n",
    "            # current = event_solution[-1]\n",
    "\n",
    "\n",
    "    def forward(self, initial_state: State, initial_time: Time) -> tuple[State, State]:\n",
    "        # Sample parameters from the prior. These parameters are generated as attributes of the model.\n",
    "        self.param_prior()\n",
    "\n",
    "        # TODO: Sample initial conditions from the prior instead of taking them as input.\n",
    "\n",
    "        # Solve the ODE, taking into account any intervention and conditioning events.\n",
    "        return self.solve(initial_state, initial_time)\n",
    "\n",
    "\n"
   ]
  },
  {
   "cell_type": "code",
   "execution_count": null,
   "metadata": {},
   "outputs": [],
   "source": []
  },
  {
   "cell_type": "code",
   "execution_count": null,
   "metadata": {},
   "outputs": [],
   "source": []
  },
  {
   "cell_type": "code",
   "execution_count": null,
   "metadata": {},
   "outputs": [],
   "source": []
  }
 ],
 "metadata": {
  "kernelspec": {
   "display_name": "venv",
   "language": "python",
   "name": "python3"
  },
  "language_info": {
   "codemirror_mode": {
    "name": "ipython",
    "version": 3
   },
   "file_extension": ".py",
   "mimetype": "text/x-python",
   "name": "python",
   "nbconvert_exporter": "python",
   "pygments_lexer": "ipython3",
   "version": "3.10.0"
  },
  "orig_nbformat": 4
 },
 "nbformat": 4,
 "nbformat_minor": 2
}
