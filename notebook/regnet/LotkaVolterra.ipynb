{
 "cells": [
  {
   "cell_type": "code",
   "execution_count": 1,
   "id": "24572d7c-c0b0-4827-b0a4-27cd78a142aa",
   "metadata": {},
   "outputs": [],
   "source": [
    "%load_ext autoreload\n",
    "%autoreload 2\n",
    "\n",
    "import matplotlib.pyplot as plt\n",
    "\n",
    "import torch\n",
    "\n",
    "import pyciemss\n",
    "from pyciemss.PetriNetODE.interfaces import (setup_petri_model, reset_model, intervene_petri_model,\n",
    "                                             sample_petri, calibrate_petri, optimize, load_petri_model)\n",
    "import mira\n",
    "from pyciemss.utils import get_tspan\n",
    "\n",
    "import warnings\n",
    "warnings.filterwarnings('ignore')\n"
   ]
  },
  {
   "cell_type": "markdown",
   "id": "e479a8d6-1451-40ae-a254-8f5c723ea27a",
   "metadata": {},
   "source": [
    "# Manual Lotka Volterra\n",
    "\n",
    "## Load model"
   ]
  },
  {
   "cell_type": "code",
   "execution_count": 2,
   "id": "7a6ea851-43f8-4e4a-b11b-47f912fd087c",
   "metadata": {},
   "outputs": [
    {
     "data": {
      "text/plain": [
       "LotkaVolterra()"
      ]
     },
     "execution_count": 2,
     "metadata": {},
     "output_type": "execute_result"
    }
   ],
   "source": [
    "from pyciemss.PetriNetODE.models import LotkaVolterra\n",
    "\n",
    "lm = LotkaVolterra(alpha=0.67, beta=1.33, gamma=1.0, delta=1.0, add_uncertainty=False)\n",
    "lm"
   ]
  },
  {
   "cell_type": "markdown",
   "id": "9433f8f9-cd0c-41ee-9a88-bcd44f40e5e3",
   "metadata": {},
   "source": [
    "## Initialize model"
   ]
  },
  {
   "cell_type": "code",
   "execution_count": 3,
   "id": "4b3fdeaa-2f8b-47f4-a0fa-43532af4bc5e",
   "metadata": {},
   "outputs": [
    {
     "data": {
      "text/plain": [
       "LotkaVolterra()"
      ]
     },
     "execution_count": 3,
     "metadata": {},
     "output_type": "execute_result"
    }
   ],
   "source": [
    "manual_lotka_volterra = setup_petri_model(lm, start_time=0.0, start_state=dict(prey_population=1.0, predator_population=1.0))\n",
    "manual_lotka_volterra"
   ]
  },
  {
   "cell_type": "code",
   "execution_count": null,
   "id": "a4f199d3-644e-486a-b163-4bccac90e08c",
   "metadata": {},
   "outputs": [],
   "source": []
  },
  {
   "cell_type": "markdown",
   "id": "8a9b5fc7-8cf7-4ccf-bede-197b57b8def3",
   "metadata": {},
   "source": [
    "## Sample from prior"
   ]
  },
  {
   "cell_type": "code",
   "execution_count": 4,
   "id": "be7aae70-f12c-428f-a902-dcba47ff4596",
   "metadata": {},
   "outputs": [
    {
     "data": {
      "text/plain": [
       "{'prey_population_sol': tensor([[0.5775, 0.4934, 0.5817],\n",
       "         [0.5775, 0.4934, 0.5817],\n",
       "         [0.5775, 0.4934, 0.5817],\n",
       "         [0.5775, 0.4934, 0.5817],\n",
       "         [0.5775, 0.4934, 0.5817]]),\n",
       " 'predator_population_sol': tensor([[0.7790, 0.4805, 0.2991],\n",
       "         [0.7790, 0.4805, 0.2991],\n",
       "         [0.7790, 0.4805, 0.2991],\n",
       "         [0.7790, 0.4805, 0.2991],\n",
       "         [0.7790, 0.4805, 0.2991]])}"
      ]
     },
     "execution_count": 4,
     "metadata": {},
     "output_type": "execute_result"
    }
   ],
   "source": [
    "samples = sample_petri(manual_lotka_volterra, [1, 2, 3], 5)\n",
    "samples"
   ]
  },
  {
   "cell_type": "markdown",
   "id": "635eb727-4600-430a-9a71-45b56831a0ff",
   "metadata": {},
   "source": [
    "\n",
    "# Load lotka volterra  with uncertainty"
   ]
  },
  {
   "cell_type": "code",
   "execution_count": 5,
   "id": "209d2a0f-6f6d-438a-990a-b4955ad1b0cf",
   "metadata": {},
   "outputs": [
    {
     "data": {
      "text/plain": [
       "LotkaVolterra()"
      ]
     },
     "execution_count": 5,
     "metadata": {},
     "output_type": "execute_result"
    }
   ],
   "source": [
    "from pyciemss.PetriNetODE.models import LotkaVolterra\n",
    "\n",
    "uncertain_lotka_volterra_raw= LotkaVolterra(alpha=0.67, beta=1.33, gamma=1.0, delta=1.0)\n",
    "lm"
   ]
  },
  {
   "cell_type": "markdown",
   "id": "d5e0f90d-f5bf-45e3-be31-1028fd83eb44",
   "metadata": {},
   "source": [
    "## Initialize uncertain Lotka-volterra model"
   ]
  },
  {
   "cell_type": "code",
   "execution_count": 6,
   "id": "bfc5e490-e789-4c4f-8c9e-7eab189eadf9",
   "metadata": {},
   "outputs": [
    {
     "data": {
      "text/plain": [
       "LotkaVolterra()"
      ]
     },
     "execution_count": 6,
     "metadata": {},
     "output_type": "execute_result"
    }
   ],
   "source": [
    "uncertain_lotka_volterra = setup_petri_model(uncertain_lotka_volterra_raw,\n",
    "                                             start_time=0.0, \n",
    "                                             start_state=dict(\n",
    "                                                 prey_population=1.0, \n",
    "                                                 predator_population=1.0))\n",
    "uncertain_lotka_volterra"
   ]
  },
  {
   "cell_type": "markdown",
   "id": "0c25457d-1503-4f81-824c-9e34bee9bb1e",
   "metadata": {},
   "source": [
    "## Sample from prior"
   ]
  },
  {
   "cell_type": "code",
   "execution_count": 7,
   "id": "5a128472-7514-4bf2-a3e9-d32e301d7b3e",
   "metadata": {},
   "outputs": [
    {
     "data": {
      "text/plain": [
       "{'alpha': tensor([0.6570, 0.7121, 0.6432, 0.6077, 0.7099]),\n",
       " 'beta': tensor([1.2142, 1.4194, 1.4256, 1.2692, 1.4073]),\n",
       " 'gamma': tensor([0.9383, 0.9852, 0.9580, 0.9067, 1.0141]),\n",
       " 'delta': tensor([1.0158, 1.0602, 1.0584, 1.0652, 0.9489]),\n",
       " 'prey_population_sol': tensor([[0.6020, 0.4886, 0.5361],\n",
       "         [0.5382, 0.4393, 0.5152],\n",
       "         [0.4974, 0.3812, 0.4270],\n",
       "         [0.5302, 0.3896, 0.4051],\n",
       "         [0.5806, 0.5218, 0.6488]]),\n",
       " 'predator_population_sol': tensor([[0.8578, 0.5738, 0.3738],\n",
       "         [0.8079, 0.4961, 0.3034],\n",
       "         [0.8072, 0.4831, 0.2813],\n",
       "         [0.8795, 0.5684, 0.3471],\n",
       "         [0.7371, 0.4429, 0.2764]])}"
      ]
     },
     "execution_count": 7,
     "metadata": {},
     "output_type": "execute_result"
    }
   ],
   "source": [
    "samples = sample_petri(uncertain_lotka_volterra, [1, 2, 3], 5)\n",
    "samples"
   ]
  },
  {
   "cell_type": "markdown",
   "id": "cfb7f231-a8c0-4b25-94b3-640434d81297",
   "metadata": {},
   "source": [
    "## Calibrate uncertain Lotka Volterra"
   ]
  },
  {
   "cell_type": "code",
   "execution_count": 8,
   "id": "1b613074-83ce-4163-8de2-906d2614b1d7",
   "metadata": {},
   "outputs": [
    {
     "data": {
      "text/plain": [
       "AutoLowRankMultivariateNormal()"
      ]
     },
     "execution_count": 8,
     "metadata": {},
     "output_type": "execute_result"
    }
   ],
   "source": [
    "fitted_parameters = calibrate_petri(uncertain_lotka_volterra, \n",
    "                                data =[(1, dict(prey_population=0.5,\n",
    "                                        predator_population=0.7))])\n",
    "fitted_parameters"
   ]
  },
  {
   "cell_type": "code",
   "execution_count": 9,
   "id": "f2c07d28-407d-4d05-afe4-0c622c7926e5",
   "metadata": {},
   "outputs": [
    {
     "data": {
      "text/plain": [
       "{'alpha': tensor([0.6796, 0.6477, 0.6701, 0.7218, 0.7087, 0.6328, 0.7041, 0.7278, 0.6972,\n",
       "         0.6320, 0.6285, 0.6298, 0.6052, 0.6053, 0.6535, 0.7297, 0.6239, 0.6258,\n",
       "         0.6547, 0.6540, 0.7329, 0.6930, 0.6753, 0.7181, 0.6713, 0.7222, 0.6368,\n",
       "         0.7355, 0.6453, 0.6665, 0.6170, 0.7186, 0.7182, 0.6706, 0.6045, 0.6332,\n",
       "         0.6652, 0.6349, 0.6591, 0.6663, 0.7094, 0.6855, 0.6532, 0.6727, 0.7126,\n",
       "         0.6113, 0.7277, 0.7353, 0.6323, 0.6953]),\n",
       " 'beta': tensor([1.2092, 1.4336, 1.2174, 1.3852, 1.3751, 1.4024, 1.2277, 1.4320, 1.2308,\n",
       "         1.4309, 1.4102, 1.2296, 1.3513, 1.2453, 1.3468, 1.4444, 1.4201, 1.2638,\n",
       "         1.4293, 1.2524, 1.2192, 1.3845, 1.3041, 1.4338, 1.2349, 1.3105, 1.2822,\n",
       "         1.3041, 1.2683, 1.2601, 1.3337, 1.3482, 1.3276, 1.3896, 1.3836, 1.4062,\n",
       "         1.2360, 1.3213, 1.2685, 1.4179, 1.2688, 1.2125, 1.4394, 1.2308, 1.3665,\n",
       "         1.4025, 1.4082, 1.3654, 1.3267, 1.3457]),\n",
       " 'gamma': tensor([1.0143, 1.0504, 0.9182, 0.9873, 1.0148, 1.0911, 1.0040, 1.0845, 1.0890,\n",
       "         0.9868, 0.9897, 0.9771, 1.0661, 0.9855, 1.0734, 0.9319, 1.0888, 1.0580,\n",
       "         0.9168, 1.0866, 1.0856, 0.9775, 1.0745, 0.9444, 0.9293, 1.0436, 1.0232,\n",
       "         0.9735, 1.0466, 0.9172, 1.0935, 1.0827, 1.0670, 1.0881, 1.0277, 0.9626,\n",
       "         0.9097, 1.0299, 1.0913, 1.0536, 1.0504, 0.9497, 1.0857, 0.9390, 1.0400,\n",
       "         0.9188, 0.9125, 0.9512, 0.9996, 0.9540]),\n",
       " 'delta': tensor([0.9878, 0.9333, 0.9284, 1.0843, 0.9364, 1.0323, 1.0554, 0.9780, 1.0062,\n",
       "         1.0955, 1.0556, 1.0505, 1.0816, 1.0104, 1.0817, 0.9278, 0.9805, 1.0159,\n",
       "         0.9693, 0.9213, 0.9395, 0.9586, 1.0655, 0.9348, 1.0750, 1.0463, 1.0752,\n",
       "         0.9709, 1.0953, 1.0499, 0.9338, 0.9858, 0.9882, 0.9360, 1.0903, 1.0769,\n",
       "         0.9526, 1.0743, 1.0540, 0.9987, 0.9130, 1.0979, 1.0217, 1.0372, 0.9879,\n",
       "         1.0930, 0.9021, 0.9155, 1.0651, 1.0882]),\n",
       " 'prey_population_sol': tensor([[0.6487, 0.5821, 0.6866],\n",
       "         [0.5536, 0.4979, 0.6223],\n",
       "         [0.6245, 0.5293, 0.5956],\n",
       "         [0.5518, 0.4492, 0.5222],\n",
       "         [0.5980, 0.5448, 0.6779],\n",
       "         [0.5479, 0.4822, 0.5932],\n",
       "         [0.6306, 0.5415, 0.6230],\n",
       "         [0.5938, 0.5622, 0.7317],\n",
       "         [0.6669, 0.6339, 0.7857],\n",
       "         [0.4906, 0.3763, 0.4239],\n",
       "         [0.5073, 0.4000, 0.4558],\n",
       "         [0.5838, 0.4733, 0.5244],\n",
       "         [0.5371, 0.4475, 0.5245],\n",
       "         [0.5768, 0.4750, 0.5338],\n",
       "         [0.5640, 0.4857, 0.5829],\n",
       "         [0.5529, 0.4664, 0.5565],\n",
       "         [0.5479, 0.4906, 0.6109],\n",
       "         [0.5991, 0.5282, 0.6284],\n",
       "         [0.5096, 0.3971, 0.4461],\n",
       "         [0.6532, 0.6333, 0.8012],\n",
       "         [0.7125, 0.7176, 0.9179],\n",
       "         [0.5680, 0.4880, 0.5836],\n",
       "         [0.5984, 0.5301, 0.6410],\n",
       "         [0.5542, 0.4694, 0.5609],\n",
       "         [0.5805, 0.4503, 0.4825],\n",
       "         [0.6150, 0.5479, 0.6633],\n",
       "         [0.5708, 0.4727, 0.5418],\n",
       "         [0.6229, 0.5492, 0.6532],\n",
       "         [0.5835, 0.4911, 0.5685],\n",
       "         [0.5689, 0.4398, 0.4725],\n",
       "         [0.5937, 0.5535, 0.6942],\n",
       "         [0.6246, 0.5927, 0.7566],\n",
       "         [0.6284, 0.5893, 0.7416],\n",
       "         [0.5949, 0.5639, 0.7257],\n",
       "         [0.5106, 0.4063, 0.4643],\n",
       "         [0.4979, 0.3787, 0.4205],\n",
       "         [0.6032, 0.4955, 0.5485],\n",
       "         [0.5548, 0.4588, 0.5308],\n",
       "         [0.6149, 0.5550, 0.6737],\n",
       "         [0.5542, 0.4887, 0.6032],\n",
       "         [0.6680, 0.6500, 0.8243],\n",
       "         [0.5990, 0.4722, 0.5095],\n",
       "         [0.5433, 0.4813, 0.5998],\n",
       "         [0.5964, 0.4795, 0.5255],\n",
       "         [0.5984, 0.5427, 0.6740],\n",
       "         [0.4739, 0.3374, 0.3562],\n",
       "         [0.5684, 0.4811, 0.5682],\n",
       "         [0.6012, 0.5312, 0.6416],\n",
       "         [0.5443, 0.4388, 0.4983],\n",
       "         [0.5453, 0.4256, 0.4746]]),\n",
       " 'predator_population_sol': tensor([[0.7951, 0.5205, 0.3490],\n",
       "         [0.6893, 0.3869, 0.2255],\n",
       "         [0.8261, 0.5545, 0.3694],\n",
       "         [0.8300, 0.5210, 0.3245],\n",
       "         [0.7372, 0.4482, 0.2844],\n",
       "         [0.7103, 0.3980, 0.2300],\n",
       "         [0.8416, 0.5617, 0.3758],\n",
       "         [0.7051, 0.4114, 0.2579],\n",
       "         [0.7536, 0.4791, 0.3248],\n",
       "         [0.8007, 0.4698, 0.2685],\n",
       "         [0.7841, 0.4611, 0.2664],\n",
       "         [0.8364, 0.5383, 0.3384],\n",
       "         [0.7532, 0.4329, 0.2492],\n",
       "         [0.7985, 0.4980, 0.3062],\n",
       "         [0.7616, 0.4499, 0.2706],\n",
       "         [0.7781, 0.4830, 0.3023],\n",
       "         [0.6840, 0.3760, 0.2145],\n",
       "         [0.7528, 0.4549, 0.2808],\n",
       "         [0.7951, 0.4844, 0.2886],\n",
       "         [0.6975, 0.4184, 0.2698],\n",
       "         [0.7330, 0.4763, 0.3419],\n",
       "         [0.7669, 0.4701, 0.2922],\n",
       "         [0.7692, 0.4696, 0.2953],\n",
       "         [0.7727, 0.4763, 0.2964],\n",
       "         [0.8965, 0.6042, 0.3895],\n",
       "         [0.7911, 0.5020, 0.3286],\n",
       "         [0.8043, 0.4966, 0.3043],\n",
       "         [0.8051, 0.5278, 0.3530],\n",
       "         [0.8044, 0.4986, 0.3089],\n",
       "         [0.8825, 0.5875, 0.3750],\n",
       "         [0.6756, 0.3800, 0.2252],\n",
       "         [0.7254, 0.4392, 0.2850],\n",
       "         [0.7412, 0.4567, 0.2990],\n",
       "         [0.6803, 0.3870, 0.2352],\n",
       "         [0.7750, 0.4478, 0.2547],\n",
       "         [0.8151, 0.4889, 0.2841],\n",
       "         [0.8399, 0.5614, 0.3679],\n",
       "         [0.7886, 0.4757, 0.2856],\n",
       "         [0.7570, 0.4618, 0.2924],\n",
       "         [0.7231, 0.4164, 0.2473],\n",
       "         [0.7253, 0.4553, 0.3080],\n",
       "         [0.9056, 0.6185, 0.4053],\n",
       "         [0.7059, 0.3944, 0.2284],\n",
       "         [0.8692, 0.5830, 0.3796],\n",
       "         [0.7484, 0.4561, 0.2902],\n",
       "         [0.8499, 0.5173, 0.2986],\n",
       "         [0.7859, 0.4981, 0.3176],\n",
       "         [0.7771, 0.4955, 0.3236],\n",
       "         [0.8030, 0.4890, 0.2931],\n",
       "         [0.8596, 0.5500, 0.3418]])}"
      ]
     },
     "execution_count": 9,
     "metadata": {},
     "output_type": "execute_result"
    }
   ],
   "source": [
    "posterior_samples = sample_petri(uncertain_lotka_volterra, \n",
    "                                 timepoints=[1,2,3], num_samples=50, \n",
    "                           inferred_parameters=fitted_parameters)\n",
    "posterior_samples"
   ]
  },
  {
   "cell_type": "code",
   "execution_count": null,
   "id": "2728d5df-4105-4d09-8dbc-7afad0799419",
   "metadata": {},
   "outputs": [],
   "source": []
  },
  {
   "cell_type": "markdown",
   "id": "1b26ab8e-041f-4338-9dc7-716b6244dbde",
   "metadata": {},
   "source": [
    "## Intervene on uncertain Lotka Volterra"
   ]
  },
  {
   "cell_type": "code",
   "execution_count": 18,
   "id": "d6f0cd2b-532a-4727-8c80-94b6a7e6bd7f",
   "metadata": {},
   "outputs": [
    {
     "data": {
      "text/plain": [
       "LotkaVolterra()"
      ]
     },
     "execution_count": 18,
     "metadata": {},
     "output_type": "execute_result"
    }
   ],
   "source": [
    "intervened_lotka_volterra = intervene_petri_model(uncertain_lotka_volterra,\n",
    "                                                  [(1.5, 'alpha', 1.0)])\n",
    "intervened_lotka_volterra"
   ]
  },
  {
   "cell_type": "markdown",
   "id": "022bd5dc-170f-4b67-8bcb-143712a9d755",
   "metadata": {},
   "source": [
    "## Sample from intervened model"
   ]
  },
  {
   "cell_type": "code",
   "execution_count": 19,
   "id": "b42d67e0-e081-4a0b-ad17-f2789801e5c7",
   "metadata": {},
   "outputs": [
    {
     "data": {
      "text/plain": [
       "{'alpha': tensor([0.6670, 0.6623, 0.7019, 0.7128, 0.6147, 0.6533, 0.6137, 0.6914, 0.7369,\n",
       "         0.6240]),\n",
       " 'beta': tensor([1.2821, 1.3085, 1.3782, 1.4407, 1.3363, 1.2409, 1.3578, 1.4014, 1.4448,\n",
       "         1.4597]),\n",
       " 'gamma': tensor([1.0409, 1.0674, 1.0513, 1.0621, 0.9292, 1.0458, 0.9394, 1.0553, 0.9870,\n",
       "         1.0499]),\n",
       " 'delta': tensor([0.9999, 0.9684, 0.9476, 1.0931, 0.9296, 1.0504, 0.9138, 0.9702, 0.9111,\n",
       "         1.0429]),\n",
       " 'prey_population_sol': tensor([[0.6110, 0.6431, 1.0235, 1.6249, 1.7142, 0.8916, 0.5384, 0.5701],\n",
       "         [0.6126, 0.6685, 1.1043, 1.7982, 1.8320, 0.8659, 0.5291, 0.5925],\n",
       "         [0.6018, 0.6489, 1.0590, 1.7483, 1.9223, 0.9526, 0.5430, 0.5715],\n",
       "         [0.5456, 0.5405, 0.8474, 1.4099, 1.7245, 0.9618, 0.5102, 0.4937],\n",
       "         [0.5435, 0.5306, 0.8355, 1.4092, 1.8830, 1.2057, 0.5668, 0.4492],\n",
       "         [0.6118, 0.6322, 0.9893, 1.5360, 1.5895, 0.8515, 0.5326, 0.5687],\n",
       "         [0.5406, 0.5353, 0.8577, 1.4700, 1.9761, 1.2189, 0.5581, 0.4482],\n",
       "         [0.5814, 0.6181, 1.0127, 1.6989, 1.9326, 0.9567, 0.5263, 0.5451],\n",
       "         [0.5788, 0.5955, 0.9367, 1.5628, 1.9788, 1.1702, 0.5861, 0.5166],\n",
       "         [0.5065, 0.5069, 0.8441, 1.5019, 1.9706, 1.0111, 0.4688, 0.4406]]),\n",
       " 'predator_population_sol': tensor([[0.7621, 0.4824, 0.3830, 0.5052, 1.0484, 1.3652, 0.9405, 0.5656],\n",
       "         [0.7223, 0.4422, 0.3496, 0.4869, 1.0999, 1.3732, 0.8840, 0.5119],\n",
       "         [0.7171, 0.4356, 0.3335, 0.4355, 0.9671, 1.3290, 0.8952, 0.5188],\n",
       "         [0.7667, 0.4604, 0.3319, 0.3870, 0.8061, 1.2698, 0.9257, 0.5404],\n",
       "         [0.7783, 0.4872, 0.3559, 0.3914, 0.7515, 1.3523, 1.1518, 0.7115],\n",
       "         [0.7912, 0.5106, 0.4111, 0.5423, 1.0839, 1.3732, 0.9553, 0.5856],\n",
       "         [0.7590, 0.4668, 0.3378, 0.3746, 0.7474, 1.3678, 1.1340, 0.6849],\n",
       "         [0.7179, 0.4294, 0.3215, 0.4105, 0.9271, 1.3316, 0.8998, 0.5148],\n",
       "         [0.7350, 0.4518, 0.3312, 0.3786, 0.7578, 1.2617, 0.9893, 0.5949],\n",
       "         [0.7270, 0.4135, 0.2854, 0.3306, 0.7724, 1.3712, 0.9656, 0.5298]])}"
      ]
     },
     "execution_count": 19,
     "metadata": {},
     "output_type": "execute_result"
    }
   ],
   "source": [
    "intervened_samples = sample_petri(intervened_lotka_volterra,\n",
    "                                  timepoints=[1, 2, 3, 4, 5, 6, 7, 8], num_samples = 10\n",
    "                                  )\n",
    "intervened_samples"
   ]
  }
 ],
 "metadata": {
  "kernelspec": {
   "display_name": "sa_covid_data",
   "language": "python",
   "name": "sa_covid_data"
  },
  "language_info": {
   "codemirror_mode": {
    "name": "ipython",
    "version": 3
   },
   "file_extension": ".py",
   "mimetype": "text/x-python",
   "name": "python",
   "nbconvert_exporter": "python",
   "pygments_lexer": "ipython3",
   "version": "3.10.9"
  }
 },
 "nbformat": 4,
 "nbformat_minor": 5
}
