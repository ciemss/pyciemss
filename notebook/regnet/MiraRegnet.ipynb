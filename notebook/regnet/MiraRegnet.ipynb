{
 "cells": [
  {
   "cell_type": "markdown",
   "id": "57507d5b-6fc8-4061-8b26-b8b940e4547f",
   "metadata": {},
   "source": [
    "# Mira regnet"
   ]
  },
  {
   "cell_type": "code",
   "execution_count": 1,
   "id": "22f957c4",
   "metadata": {},
   "outputs": [],
   "source": [
    "%load_ext autoreload\n",
    "%autoreload 2"
   ]
  },
  {
   "cell_type": "code",
   "execution_count": 2,
   "id": "24572d7c-c0b0-4827-b0a4-27cd78a142aa",
   "metadata": {},
   "outputs": [],
   "source": [
    "import matplotlib.pyplot as plt\n",
    "\n",
    "import torch\n",
    "\n",
    "import pyciemss\n",
    "from pyciemss.PetriNetODE.interfaces import (setup_petri_model, reset_model, intervene_petri_model, intervene,\n",
    "                                             sample_petri, calibrate_petri, optimize, load_petri_model)\n",
    "from pyciemss.PetriNetODE.models import MiraRegNetODESystem, LotkaVolterra\n",
    "import mira\n",
    "from pyciemss.utils import get_tspan\n",
    "from pyciemss.utils.interface_utils import convert_to_output_format\n",
    "from pyciemss.visuals import vega\n",
    "import pandas as pd\n",
    "\n",
    "import warnings\n",
    "warnings.filterwarnings('ignore')\n"
   ]
  },
  {
   "cell_type": "markdown",
   "id": "f6440a81-f081-49de-a1af-1d4c8d738651",
   "metadata": {},
   "source": [
    "## Plotting utils"
   ]
  },
  {
   "cell_type": "code",
   "execution_count": 3,
   "id": "6c87c093-83d2-4dea-a55c-375bd97b7abc",
   "metadata": {},
   "outputs": [],
   "source": [
    "def setup_ax(ax=None):\n",
    "\n",
    "    if not ax:\n",
    "        fig = plt.figure(facecolor='w', figsize=(9, 9))\n",
    "        ax = fig.add_subplot(111, axisbelow=True)\n",
    "\n",
    "    ax.set_xlabel('Time (days)')\n",
    "    ax.set_ylabel('Population')\n",
    "    return ax\n",
    "\n",
    "def plot_trajectory(data, tspan, ax=None, color='black', alpha=0.5, lw=0, marker='.', label=None):\n",
    "    # Plot the data on three separate curves for S(t), I(t) and R(t)\n",
    "\n",
    "    if not ax:\n",
    "        fig = plt.figure(facecolor='w')\n",
    "        ax = fig.add_subplot(111, facecolor='#dddddd', axisbelow=True)\n",
    "\n",
    "    ax.plot(tspan, data.squeeze().detach().numpy(), color, alpha=alpha, lw=lw, marker=marker, label=label)\n",
    "    \n",
    "    return ax\n",
    "\n",
    "COLORS=['red','blue','green','black','gold', 'magenta', 'purple']\n",
    "\n",
    "def plot_trajectories(sol, tspan, data=None):\n",
    "    fig = plt.figure(facecolor='w', figsize=(6, 6))\n",
    "    ax = fig.add_subplot(111, axisbelow=True) # setup graph\n",
    "    d_keys = [list(x[1].keys())[0] for x in data] if data else [] # get affected variables\n",
    "    torch_tspan = torch.as_tensor(tspan) # for use in multi-trajectory graph\n",
    "    indices = torch.ones_like(tspan).bool()\n",
    "    \n",
    "    for i,var in enumerate([s for s in sol if '_sol' in s]): # skip beta, gamma parameters\n",
    "        \n",
    "        if len(sol[var]) == 1: # single trajectory, draw line\n",
    "            ax.plot(tspan, sol[var].squeeze().detach().numpy(), COLORS[i], alpha=0.5, lw=3, label=var[:-4])\n",
    "        \n",
    "        else: # fill between multiple trajectories\n",
    "            I_low = torch.quantile(sol[var], 0.05, dim=0).detach().numpy()\n",
    "            I_up  = torch.quantile(sol[var], 0.95, dim=0).detach().numpy()\n",
    "            ax.fill_between(torch_tspan, I_low, I_up,\n",
    "                            alpha=0.2, color=COLORS[i], label=var[:-4])\n",
    "        \n",
    "        if var[:-4] in d_keys: # plot training points of this variable\n",
    "            x = np.array([x[0] for x in data if var[:-4] in list(x[1].keys())])\n",
    "            y = np.array([x[1][var[:-4]] for x in data if var[:-4] in list(x[1].keys())]) # without '_sol' suffix\n",
    "            ax.scatter(x,y,label=var[:-4]+\" data\",color=COLORS[i])\n",
    "    \n",
    "    ax.legend()\n",
    "    return ax\n",
    "    \n",
    "def plot_intervention_line(t, ax=None):\n",
    "    if not ax:\n",
    "        fig = plt.figure(facecolor='w')\n",
    "        ax = fig.add_subplot(111, facecolor='#dddddd', axisbelow=True)\n",
    "\n",
    "    ylim = ax.get_ylim()\n",
    "\n",
    "    ax.vlines(t, min(ylim), max(ylim), color=\"grey\", ls='--', label=f'intervention at T={t}')\n",
    "\n",
    "    return ax\n"
   ]
  },
  {
   "cell_type": "markdown",
   "id": "5a6ce686-9736-42cc-b52e-3e20f4c86bd5",
   "metadata": {},
   "source": [
    "## Petri utils"
   ]
  },
  {
   "cell_type": "code",
   "execution_count": 4,
   "id": "a42ab36e-81df-4429-94e0-ad10cd6bcba4",
   "metadata": {},
   "outputs": [],
   "source": [
    "from pyciemss.interfaces import DynamicalSystem\n",
    "def reparameterize(model: DynamicalSystem, parameters: dict) -> DynamicalSystem:\n",
    "    \"\"\"Intervenes on an initialized model to set the parameters as specified in the dictionary.\"\"\"\n",
    "    parameter_interventions = [ ((i+1)*1e-5, param, value) for i, (param, value) in enumerate(parameters.items())]\n",
    "    return intervene(model, parameter_interventions)\n"
   ]
  },
  {
   "cell_type": "markdown",
   "id": "e479a8d6-1451-40ae-a254-8f5c723ea27a",
   "metadata": {},
   "source": [
    "# Lotka Volterra\n",
    "\n",
    "### Load model"
   ]
  },
  {
   "cell_type": "code",
   "execution_count": 12,
   "id": "7a6ea851-43f8-4e4a-b11b-47f912fd087c",
   "metadata": {},
   "outputs": [],
   "source": [
    "from pyciemss.PetriNetODE.models import MiraRegNetODESystem\n",
    "from pyciemss.PetriNetODE.base import get_name\n",
    "import os\n",
    "ASKENET_PATH = \"../../test/models/may-hackathon\"\n",
    "filename = \"lotka_volterra.json\"\n",
    "filename = os.path.join(ASKENET_PATH, filename)\n",
    "\n",
    "deterministic_lotka_volterra = MiraRegNetODESystem.from_askenet(filename)\n"
   ]
  },
  {
   "cell_type": "code",
   "execution_count": 6,
   "id": "a4f199d3-644e-486a-b163-4bccac90e08c",
   "metadata": {},
   "outputs": [],
   "source": [
    "tspan = get_tspan(1, 50, 500)\n",
    "def read_variables(variables):\n",
    "    if variables is None:\n",
    "        return \"\"\n",
    "    else:\n",
    "        return \",\".join([v.data['name'] for v in variables if hasattr(v, 'data') and 'name' in v.data and v.data['name']])\n",
    "def read_parameters(param):\n",
    "    return param.value"
   ]
  },
  {
   "cell_type": "markdown",
   "id": "9433f8f9-cd0c-41ee-9a88-bcd44f40e5e3",
   "metadata": {},
   "source": [
    "### Sample trajectories from prior distribution"
   ]
  },
  {
   "cell_type": "code",
   "execution_count": 7,
   "id": "84f12ac5-c478-4a11-99f3-d8b0cd49d815",
   "metadata": {},
   "outputs": [
    {
     "data": {
      "text/plain": [
       "<Axes: >"
      ]
     },
     "execution_count": 7,
     "metadata": {},
     "output_type": "execute_result"
    },
    {
     "data": {
      "image/png": "[encoded data removed]",
      "text/plain": [
       "<Figure size 600x600 with 1 Axes>"
      ]
     },
     "metadata": {},
     "output_type": "display_data"
    }
   ],
   "source": [
    "raw_lotka_volterra = MiraRegNetODESystem.from_askenet(filename)\n",
    "uncertain_lotka_volterra = setup_petri_model(\n",
    "    raw_lotka_volterra, start_time=0.0, start_state=dict(\n",
    "        Rabbits=1.0, Wolves=1.0))\n",
    "prior_samples = sample_petri(uncertain_lotka_volterra, tspan, 50)\n",
    "plot_trajectories(prior_samples, tspan)"
   ]
  },
  {
   "cell_type": "markdown",
   "id": "cfb7f231-a8c0-4b25-94b3-640434d81297",
   "metadata": {},
   "source": [
    "## Calibrate uncertain Lotka Volterra\n",
    "\n",
    "We make one observation per day. Because we simulate 500 data points over 50 days, we need to sample every 10th timepoint."
   ]
  },
  {
   "cell_type": "markdown",
   "id": "444198e8-6560-4176-803e-640bf0639482",
   "metadata": {},
   "source": [
    "### Sample trajectory"
   ]
  },
  {
   "cell_type": "code",
   "execution_count": 13,
   "id": "26ed5d7b-9d13-4d36-afc4-d42fb2453895",
   "metadata": {},
   "outputs": [
    {
     "name": "stderr",
     "output_type": "stream",
     "text": [
      "ERROR:root:\n",
      "                ###############################\n",
      "\n",
      "                There was an exception in pyciemss\n",
      "                \n",
      "                Error occured in function: sample_petri\n",
      "\n",
      "                Function docs : \n",
      "    Sample `num_samples` trajectories from the prior or posterior distribution over ODE models.\n",
      "    \n",
      "\n",
      "                ################################\n",
      "            \n",
      "Traceback (most recent call last):\n",
      "  File \"/Users/altu809/Projects/pyciemss/src/pyciemss/custom_decorators.py\", line 9, in wrapped\n",
      "    result = function(*args, **kwargs)\n",
      "  File \"/Users/altu809/Projects/pyciemss/src/pyciemss/PetriNetODE/interfaces.py\", line 900, in sample_petri\n",
      "    assert len(petri._static_events) > 0, \"No events initialized.\"\n",
      "AssertionError: No events initialized.\n"
     ]
    },
    {
     "ename": "AssertionError",
     "evalue": "No events initialized.",
     "output_type": "error",
     "traceback": [
      "\u001b[0;31m---------------------------------------------------------------------------\u001b[0m",
      "\u001b[0;31mAssertionError\u001b[0m                            Traceback (most recent call last)",
      "Cell \u001b[0;32mIn[13], line 4\u001b[0m\n\u001b[1;32m      1\u001b[0m observed_lotka_volterra \u001b[38;5;241m=\u001b[39m reparameterize(\n\u001b[1;32m      2\u001b[0m     uncertain_lotka_volterra,\n\u001b[1;32m      3\u001b[0m     \u001b[38;5;28mdict\u001b[39m(alpha\u001b[38;5;241m=\u001b[39m\u001b[38;5;241m0.67\u001b[39m,beta\u001b[38;5;241m=\u001b[39m\u001b[38;5;241m1.33\u001b[39m,gamma\u001b[38;5;241m=\u001b[39m\u001b[38;5;241m1.0\u001b[39m, delta \u001b[38;5;241m=\u001b[39m \u001b[38;5;241m1.0\u001b[39m))\n\u001b[0;32m----> 4\u001b[0m observed_trajectory \u001b[38;5;241m=\u001b[39m \u001b[43msample_petri\u001b[49m\u001b[43m(\u001b[49m\u001b[43mdeterministic_lotka_volterra\u001b[49m\u001b[43m,\u001b[49m\u001b[43m \u001b[49m\u001b[43mtspan\u001b[49m\u001b[43m,\u001b[49m\u001b[43m \u001b[49m\u001b[38;5;241;43m1\u001b[39;49m\u001b[43m)\u001b[49m\n\u001b[1;32m      5\u001b[0m data \u001b[38;5;241m=\u001b[39m[(i, \u001b[38;5;28mdict\u001b[39m(Rabbits\u001b[38;5;241m=\u001b[39mobserved_trajectory[\u001b[38;5;124m'\u001b[39m\u001b[38;5;124mRabbits_sol\u001b[39m\u001b[38;5;124m'\u001b[39m][\u001b[38;5;241m0\u001b[39m][i\u001b[38;5;241m*\u001b[39m\u001b[38;5;241m10\u001b[39m]))\n\u001b[1;32m      6\u001b[0m             \u001b[38;5;28;01mfor\u001b[39;00m i \u001b[38;5;129;01min\u001b[39;00m \u001b[38;5;28mrange\u001b[39m(\u001b[38;5;241m1\u001b[39m,\u001b[38;5;241m50\u001b[39m)]\n\u001b[1;32m      7\u001b[0m plot_trajectories(observed_trajectory, tspan, data)\n",
      "File \u001b[0;32m~/Projects/pyciemss/src/pyciemss/custom_decorators.py:30\u001b[0m, in \u001b[0;36mpyciemss_logging_wrapper.<locals>.wrapped\u001b[0;34m(*args, **kwargs)\u001b[0m\n\u001b[1;32m     18\u001b[0m log_message \u001b[38;5;241m=\u001b[39m \u001b[38;5;124m\"\"\"\u001b[39m\n\u001b[1;32m     19\u001b[0m \u001b[38;5;124m    ###############################\u001b[39m\n\u001b[1;32m     20\u001b[0m \n\u001b[0;32m   (...)\u001b[0m\n\u001b[1;32m     27\u001b[0m \u001b[38;5;124m    ################################\u001b[39m\n\u001b[1;32m     28\u001b[0m \u001b[38;5;124m\u001b[39m\u001b[38;5;124m\"\"\"\u001b[39m\n\u001b[1;32m     29\u001b[0m logging\u001b[38;5;241m.\u001b[39mexception(log_message, function\u001b[38;5;241m.\u001b[39m\u001b[38;5;18m__name__\u001b[39m, function\u001b[38;5;241m.\u001b[39m\u001b[38;5;18m__doc__\u001b[39m)\n\u001b[0;32m---> 30\u001b[0m \u001b[38;5;28;01mraise\u001b[39;00m e\n",
      "File \u001b[0;32m~/Projects/pyciemss/src/pyciemss/custom_decorators.py:9\u001b[0m, in \u001b[0;36mpyciemss_logging_wrapper.<locals>.wrapped\u001b[0;34m(*args, **kwargs)\u001b[0m\n\u001b[1;32m      7\u001b[0m \u001b[38;5;28;01mtry\u001b[39;00m:\n\u001b[1;32m      8\u001b[0m     start_time \u001b[38;5;241m=\u001b[39m time\u001b[38;5;241m.\u001b[39mperf_counter()\n\u001b[0;32m----> 9\u001b[0m     result \u001b[38;5;241m=\u001b[39m \u001b[43mfunction\u001b[49m\u001b[43m(\u001b[49m\u001b[38;5;241;43m*\u001b[39;49m\u001b[43margs\u001b[49m\u001b[43m,\u001b[49m\u001b[43m \u001b[49m\u001b[38;5;241;43m*\u001b[39;49m\u001b[38;5;241;43m*\u001b[39;49m\u001b[43mkwargs\u001b[49m\u001b[43m)\u001b[49m\n\u001b[1;32m     10\u001b[0m     end_time \u001b[38;5;241m=\u001b[39m time\u001b[38;5;241m.\u001b[39mperf_counter()\n\u001b[1;32m     11\u001b[0m     logging\u001b[38;5;241m.\u001b[39minfo(\n\u001b[1;32m     12\u001b[0m         \u001b[38;5;124m\"\u001b[39m\u001b[38;5;124mElapsed time for \u001b[39m\u001b[38;5;132;01m%s\u001b[39;00m\u001b[38;5;124m: \u001b[39m\u001b[38;5;132;01m%f\u001b[39;00m\u001b[38;5;124m\"\u001b[39m,\n\u001b[1;32m     13\u001b[0m         function\u001b[38;5;241m.\u001b[39m\u001b[38;5;18m__name__\u001b[39m, end_time \u001b[38;5;241m-\u001b[39m start_time\n\u001b[1;32m     14\u001b[0m     )\n",
      "File \u001b[0;32m~/Projects/pyciemss/src/pyciemss/PetriNetODE/interfaces.py:900\u001b[0m, in \u001b[0;36msample_petri\u001b[0;34m(petri, timepoints, num_samples, inferred_parameters, method)\u001b[0m\n\u001b[1;32m    894\u001b[0m \u001b[38;5;124;03m\"\"\"\u001b[39;00m\n\u001b[1;32m    895\u001b[0m \u001b[38;5;124;03mSample `num_samples` trajectories from the prior or posterior distribution over ODE models.\u001b[39;00m\n\u001b[1;32m    896\u001b[0m \u001b[38;5;124;03m\"\"\"\u001b[39;00m\n\u001b[1;32m    897\u001b[0m \u001b[38;5;28;01massert\u001b[39;00m \u001b[38;5;28mhasattr\u001b[39m(\n\u001b[1;32m    898\u001b[0m     petri, \u001b[38;5;124m\"\u001b[39m\u001b[38;5;124m_static_events\u001b[39m\u001b[38;5;124m\"\u001b[39m\n\u001b[1;32m    899\u001b[0m ), \u001b[38;5;124m\"\u001b[39m\u001b[38;5;124mPlease initialize the model before sampling.\u001b[39m\u001b[38;5;124m\"\u001b[39m\n\u001b[0;32m--> 900\u001b[0m \u001b[38;5;28;01massert\u001b[39;00m \u001b[38;5;28mlen\u001b[39m(petri\u001b[38;5;241m.\u001b[39m_static_events) \u001b[38;5;241m>\u001b[39m \u001b[38;5;241m0\u001b[39m, \u001b[38;5;124m\"\u001b[39m\u001b[38;5;124mNo events initialized.\u001b[39m\u001b[38;5;124m\"\u001b[39m\n\u001b[1;32m    901\u001b[0m \u001b[38;5;28;01massert\u001b[39;00m \u001b[38;5;28misinstance\u001b[39m(\n\u001b[1;32m    902\u001b[0m     petri\u001b[38;5;241m.\u001b[39m_static_events[\u001b[38;5;241m0\u001b[39m], StartEvent\n\u001b[1;32m    903\u001b[0m ), \u001b[38;5;124m\"\u001b[39m\u001b[38;5;124mFirst event should be a StartEvent.\u001b[39m\u001b[38;5;124m\"\u001b[39m\n\u001b[1;32m    904\u001b[0m logging_events \u001b[38;5;241m=\u001b[39m [LoggingEvent(timepoint) \u001b[38;5;28;01mfor\u001b[39;00m timepoint \u001b[38;5;129;01min\u001b[39;00m timepoints]\n",
      "\u001b[0;31mAssertionError\u001b[0m: No events initialized."
     ]
    }
   ],
   "source": [
    "observed_lotka_volterra = reparameterize(\n",
    "    uncertain_lotka_volterra,\n",
    "    dict(alpha=0.67,beta=1.33,gamma=1.0, delta = 1.0))\n",
    "observed_trajectory = sample_petri(deterministic_lotka_volterra, tspan, 1)\n",
    "data =[(i, dict(Rabbits=observed_trajectory['Rabbits_sol'][0][i*10]))\n",
    "            for i in range(1,50)]\n",
    "plot_trajectories(observed_trajectory, tspan, data)"
   ]
  },
  {
   "cell_type": "markdown",
   "id": "a0ecdab7-f03d-457b-bb27-2928ed46de5a",
   "metadata": {},
   "source": [
    "trajectory = sample_petri(deterministic_lotka_volterra, tspan, 1)\n",
    "data =[(i, dict(Rabbits=trajectory['Rabbits_sol'][0][i*10]))\n",
    "            for i in range(1,50)]\n",
    "fitted_parameters = calibrate_petri(uncertain_lotka_volterra, data = data )\n",
    "posterior_samples = sample_petri(uncertain_lotka_volterra, \n",
    "                                 timepoints=tspan, num_samples=50, \n",
    "                           inferred_parameters=fitted_parameters)\n",
    "plot_trajectories(dict(\n",
    "        Rabbits_prior_sol= prior_samples['Rabbits_sol'], \n",
    "        Wolves_prior_sol= prior_samples['Wolves_sol'],\n",
    "        Rabbits_posterior_sol= posterior_samples['Rabbits_sol'],\n",
    "        Wolves_posterior_sol= posterior_samples['Wolves_sol'],\n",
    "        Rabbits_data_sol=trajectory['Rabbits_sol'],\n",
    "    ),    \n",
    "    tspan, data=data)"
   ]
  },
  {
   "cell_type": "code",
   "execution_count": null,
   "id": "22a20727-4116-4349-a743-3d9d6e24501e",
   "metadata": {},
   "outputs": [],
   "source": [
    "import numpy as np\n",
    "var = 'Rabbits_sol'\n",
    "x = np.array([x[0] for x in data if var[:-4] in list(x[1].keys())])\n",
    "x\n",
    "y = np.array([x[1][var[:-4]] for x in data if var[:-4] in list(x[1].keys())]) # without '_sol' suffix\n",
    "y"
   ]
  },
  {
   "cell_type": "markdown",
   "id": "022bd5dc-170f-4b67-8bcb-143712a9d755",
   "metadata": {},
   "source": [
    "### Sample trajectories from interventional distribution\n",
    "At $t=25$ we intervene on the prior parameters to set $\\alpha=1.5$."
   ]
  },
  {
   "cell_type": "code",
   "execution_count": null,
   "id": "047c53ed-b864-4cf2-b92e-b0444dde9507",
   "metadata": {},
   "outputs": [],
   "source": [
    "intervened_lotka_volterra = intervene_petri_model(\n",
    "    uncertain_lotka_volterra, [(25, 'alpha', 1.5)])\n",
    "intervened_samples = sample_petri(\n",
    "    intervened_lotka_volterra, timepoints=tspan, num_samples = 50)\n",
    "ax = plot_trajectories(intervened_samples, tspan, data)\n",
    "ax = plot_intervention_line(25, ax=ax)\n",
    "ax.legend()"
   ]
  },
  {
   "cell_type": "markdown",
   "id": "c04e3cfa-3007-49f4-ba62-94a331cb21cf",
   "metadata": {},
   "source": [
    "### Sample trajectories from counterfactual distribution\n",
    "At $t=25$ here we intervene on the calibrated parameters to set $\\alpha=1.5$"
   ]
  },
  {
   "cell_type": "code",
   "execution_count": null,
   "id": "745cf193-976d-412a-9882-7385f528a3b7",
   "metadata": {},
   "outputs": [],
   "source": [
    "observed_lotka_volterra = reparameterize(\n",
    "    uncertain_lotka_volterra,\n",
    "    dict(alpha=0.67,beta=1.33,gamma=1.0, delta = 1.0))\n",
    "observed_trajectory = sample_petri(deterministic_lotka_volterra, tspan, 1)\n",
    "data =[(i, dict(Rabbits=observed_trajectory['Rabbits_sol'][0][i*10]))\n",
    "            for i in range(1,50)]\n",
    "calibrated_parameters = calibrate_petri(\n",
    "    uncertain_lotka_volterra, data = data)\n",
    "counterfactual_samples = sample_petri(\n",
    "    intervened_lotka_volterra, timepoints=tspan, num_samples = 50,\n",
    "    inferred_parameters=calibrated_parameters)"
   ]
  },
  {
   "cell_type": "code",
   "execution_count": null,
   "id": "d6bf0f7c-74f1-431e-a3c4-b72e8dcc161d",
   "metadata": {},
   "outputs": [],
   "source": [
    "ax= plot_trajectories(counterfactual_samples, tspan, data=data)\n",
    "ax = plot_intervention_line(25, ax)\n",
    "ax.legend()"
   ]
  },
  {
   "cell_type": "code",
   "execution_count": null,
   "id": "26ef8cd1-7b5c-4da6-9790-64ab9bdf9915",
   "metadata": {},
   "outputs": [],
   "source": [
    "data"
   ]
  },
  {
   "cell_type": "code",
   "execution_count": null,
   "id": "1a09ee87-4029-4926-a7b7-afaa84223f2d",
   "metadata": {},
   "outputs": [],
   "source": [
    "d_keys = [list(x[1].keys())[0] for x in data] if data else [] # get affected variables\n",
    "d_keys"
   ]
  },
  {
   "cell_type": "code",
   "execution_count": null,
   "id": "a30bda63-5f81-4d88-980a-9f6c1d29bf8e",
   "metadata": {},
   "outputs": [],
   "source": [
    "observed_trajectory"
   ]
  }
 ],
 "metadata": {
  "kernelspec": {
   "display_name": "Python 3 (ipykernel)",
   "language": "python",
   "name": "python3"
  },
  "language_info": {
   "codemirror_mode": {
    "name": "ipython",
    "version": 3
   },
   "file_extension": ".py",
   "mimetype": "text/x-python",
   "name": "python",
   "nbconvert_exporter": "python",
   "pygments_lexer": "ipython3",
   "version": "3.10.9"
  }
 },
 "nbformat": 4,
 "nbformat_minor": 5
}
