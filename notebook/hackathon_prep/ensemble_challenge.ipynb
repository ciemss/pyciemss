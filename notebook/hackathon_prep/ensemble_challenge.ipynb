{
 "cells": [
  {
   "attachments": {},
   "cell_type": "markdown",
   "metadata": {},
   "source": [
    "# Ensemble Challenge"
   ]
  },
  {
   "attachments": {},
   "cell_type": "markdown",
   "metadata": {},
   "source": [
    "For each timepoint, consider the following questions and complete the associated tasks:\n",
    "1. Timepoint 1: May 1st, 2020, location = Michigan state, at the beginning of the pandemic,\n",
    "when the main preventive measure was masking. No vaccines were available during this\n",
    "time\n",
    "2. Timepoint 2: May 1st, 2021, location = Michigan state, prior to the Covid wave caused by\n",
    "the arrival of the Delta variant. Vaccines were available at this time\n",
    "3. Timepoint 3: December 15th, 2021, location = Michigan state, during the start of the\n",
    "winter Covid wave caused by the original Omicron variant\n",
    "\n",
    "(Bonus: For all 3 timepoints, now consider Louisiana, which had different Covid-19 dynamics\n",
    "compared to the northern and northeastern states)"
   ]
  },
  {
   "attachments": {},
   "cell_type": "markdown",
   "metadata": {},
   "source": [
    "## Exploratory Work"
   ]
  },
  {
   "attachments": {},
   "cell_type": "markdown",
   "metadata": {},
   "source": [
    "For each timepoint, consider the following during model and data selection:\n",
    "\n",
    "TA? Task 1: What is the most relevant data to use for model calibration?\n",
    "\n",
    "TA? Task 2: What was our understanding of Covid-19 viral mechanisms at the time?\n",
    "\n",
    "TA? Task 3: What are the values of parameter values related to contagiousness/transmissibility, and\n",
    "severity of the dominant strain at the time?\n",
    "\n",
    "TA? Task 4: What policies were in place for a stated location, and how can this information be\n",
    "incorporated into models?"
   ]
  },
  {
   "attachments": {},
   "cell_type": "markdown",
   "metadata": {},
   "source": [
    "## Part 1"
   ]
  },
  {
   "attachments": {},
   "cell_type": "markdown",
   "metadata": {},
   "source": [
    "For each timepoint:"
   ]
  },
  {
   "attachments": {},
   "cell_type": "markdown",
   "metadata": {},
   "source": [
    "**TA3 Task 1** : Take a single model, calibrate it using any historical data prior to the\n",
    "given date, and predict cases, hospitalizations, and deaths over a 4-week timeframe\n",
    "beginning from the given date, as done in the CDC forecasting challenge. Evaluate the\n",
    "forecast using the Covid-19 forecasting hub error metrics (WIS, MAE) described below.\n",
    "(Note: The single model forecast should be evaluated in the same way as the ensemble)\n",
    "\n",
    "Information on WIS: https://arxiv.org/abs/2005.12881\n",
    "\n",
    "Information on ensemble evaluation method: https://www.medrxiv.org/content/10.1101/2021.02.03.21250974v1\n"
   ]
  },
  {
   "attachments": {},
   "cell_type": "markdown",
   "metadata": {},
   "source": [
    "## Part 2"
   ]
  },
  {
   "attachments": {},
   "cell_type": "markdown",
   "metadata": {},
   "source": [
    "**(A)/(B) TA3 Task 2**: For the ensemble, it is fine to calibrate each model independently and weight\n",
    "them naively based on their skill. Or, it would also be fine to calibrate the ensemble as a whole, assigning weights to\n",
    "the different component models, so that you minimize the error of the ensemble on the historical data. \n",
    "\n",
    "Use the calibration scores and error metrics computed by the CDC forecasting\n",
    "hub. "
   ]
  },
  {
   "attachments": {},
   "cell_type": "markdown",
   "metadata": {},
   "source": [
    "**(C) TA3 Task 3**: Produce the forecast outputs in the format specified by the CDC forecasting challenge,\n",
    "including the specified quantiles."
   ]
  }
 ],
 "metadata": {
  "kernelspec": {
   "display_name": "Python 3",
   "language": "python",
   "name": "python3"
  },
  "language_info": {
   "name": "python",
   "version": "3.9.6"
  },
  "orig_nbformat": 4
 },
 "nbformat": 4,
 "nbformat_minor": 2
}
