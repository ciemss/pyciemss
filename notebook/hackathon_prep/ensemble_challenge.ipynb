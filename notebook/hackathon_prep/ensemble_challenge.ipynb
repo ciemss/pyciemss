{
 "cells": [
  {
   "attachments": {},
   "cell_type": "markdown",
   "metadata": {},
   "source": [
    "# Ensemble Challenge"
   ]
  },
  {
   "attachments": {},
   "cell_type": "markdown",
   "metadata": {},
   "source": [
    "For each timepoint, consider the following questions and complete the associated tasks:\n",
    "1. Timepoint 1: May 1st, 2020, location = Michigan state, at the beginning of the pandemic,\n",
    "when the main preventive measure was masking. No vaccines were available during this\n",
    "time\n",
    "2. Timepoint 2: May 1st, 2021, location = Michigan state, prior to the Covid wave caused by\n",
    "the arrival of the Delta variant. Vaccines were available at this time\n",
    "3. Timepoint 3: December 15th, 2021, location = Michigan state, during the start of the\n",
    "winter Covid wave caused by the original Omicron variant\n",
    "\n",
    "(Bonus: For all 3 timepoints, now consider Louisiana, which had different Covid-19 dynamics\n",
    "compared to the northern and northeastern states)"
   ]
  },
  {
   "attachments": {},
   "cell_type": "markdown",
   "metadata": {},
   "source": [
    "## Exploratory Work"
   ]
  },
  {
   "attachments": {},
   "cell_type": "markdown",
   "metadata": {},
   "source": [
    "For each timepoint, consider the following during model and data selection:\n",
    "\n",
    "TA ? Task 1: What is the most relevant data to use for model calibration?\n",
    "\n",
    "TA ? Task 2: What was our understanding of Covid-19 viral mechanisms at the time?\n",
    "\n",
    "TA ? Task 3: What are the values of parameter values related to contagiousness/transmissibility, and\n",
    "severity of the dominant strain at the time?\n",
    "\n",
    "TA ? Task 4: What policies were in place for a stated location, and how can this information be\n",
    "incorporated into models?"
   ]
  },
  {
   "attachments": {},
   "cell_type": "markdown",
   "metadata": {},
   "source": [
    "## Part 1"
   ]
  },
  {
   "attachments": {},
   "cell_type": "markdown",
   "metadata": {},
   "source": [
    "**TA 3 Task 1**: Take a single model, calibrate it using any historical data prior to the\n",
    "given date, and predict cases, hospitalizations, and deaths over a 4-week timeframe\n",
    "beginning from the given date, as done in the CDC forecasting challenge."
   ]
  }
 ],
 "metadata": {
  "kernelspec": {
   "display_name": "Python 3",
   "language": "python",
   "name": "python3"
  },
  "language_info": {
   "name": "python",
   "version": "3.9.6"
  },
  "orig_nbformat": 4
 },
 "nbformat": 4,
 "nbformat_minor": 2
}
