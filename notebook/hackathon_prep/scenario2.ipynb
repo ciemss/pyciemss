{
 "cells": [
  {
   "cell_type": "code",
   "execution_count": 34,
   "id": "96dc1195",
   "metadata": {},
   "outputs": [],
   "source": [
    "import os\n",
    "import urllib.request, json \n",
    "import pandas as pd\n",
    "from IPython.display import HTML\n",
    "from IPython import display\n",
    "from pyciemss.PetriNetODE.interfaces import (\n",
    "    load_and_sample_petri_model,\n",
    "    load_and_calibrate_and_sample_petri_model,\n",
    "    load_petri_model,\n",
    "    setup_petri_model,\n",
    "    sample\n",
    ")\n",
    "import numpy as np\n",
    "from typing import Iterable\n",
    "from pyciemss.utils.interface_utils import (\n",
    "    assign_interventions_to_timepoints,\n",
    "    interventions_and_sampled_params_to_interval,\n",
    "    convert_to_output_format\n",
    ")\n",
    "from pyciemss.utils import get_tspan\n",
    "import matplotlib.pyplot as plt\n",
    "import torch\n",
    "from torch import tensor"
   ]
  },
  {
   "cell_type": "markdown",
   "id": "4dcfa1b9",
   "metadata": {},
   "source": [
    "Utils"
   ]
  },
  {
   "cell_type": "code",
   "execution_count": 16,
   "id": "30826018",
   "metadata": {},
   "outputs": [],
   "source": [
    "def plot_all_QoIs(t, S, I, R, V=None, A=None, L=None, R0=None, Alpha=None, CFR=None, ax=None, title=None):\n",
    "    if ax is None:\n",
    "        f, ax = plt.subplots(1,1,figsize=(10,4))\n",
    "    # N = S[0] + E[0] + I[0] + R[0] + D[0]\n",
    "    ax.plot(t, S, 'b--', alpha=0.7, linewidth=2, label='S')\n",
    "    if V is not None:\n",
    "        ax.plot(t, V, 'y', alpha=0.7, linewidth=2, label='V')\n",
    "    ax.plot(t, I+A, 'r', alpha=0.7, linewidth=2, label=\"I+A\")\n",
    "    ax.plot(t, R, 'g-.', alpha=0.7, linewidth=2, label='R')\n",
    "\n",
    "    # if D is not None:\n",
    "    #     ax.plot(t, D/N, 'k', alpha=0.7, linewidth=2, label='Dead')\n",
    "    #     ax.plot(t, ((S+E+I+R+D)/N)*100, 'c:', alpha=0.7, linewidth=2, label='Total')\n",
    "    # else:\n",
    "    #     ax.plot(t, ((S+E+I+R)/N)*100, 'c:', alpha=0.7, linewidth=2, label='Total')\n",
    "\n",
    "    ax.set_xlabel('Time (days)')\n",
    "    ax.set_ylabel('Percentage of Population (%)')\n",
    "\n",
    "    ax.yaxis.set_tick_params(length=0)\n",
    "    ax.xaxis.set_tick_params(length=0)\n",
    "    ax.grid(visible=True, which='major', c='w', lw=2, ls='-')\n",
    "    legend = ax.legend(borderpad=2.0)\n",
    "    legend.get_frame().set_alpha(0.5)\n",
    "    for spine in ('top', 'right', 'bottom', 'left'):\n",
    "        ax.spines[spine].set_visible(False)\n",
    "    if title is not None:\n",
    "        plt.title(title)\n",
    "    if L is not None:\n",
    "        plt.title(\"Lockdown after {} days\".format(L))\n",
    "    # plt.show()\n",
    "\n",
    "    if R0 is not None or CFR is not None:\n",
    "        f = plt.figure(figsize=(12,4))\n",
    "    \n",
    "    if R0 is not None:\n",
    "        # sp1\n",
    "        ax1 = f.add_subplot(121)\n",
    "        ax1.plot(t, R0, 'b--', alpha=0.7, linewidth=2, label='R_0')\n",
    "\n",
    "        ax1.set_xlabel('Time (days)')\n",
    "        ax1.title.set_text('R_0 over time')\n",
    "        # ax.set_ylabel('Number (1000s)')\n",
    "        # ax.set_ylim(0,1.2)\n",
    "        ax1.yaxis.set_tick_params(length=0)\n",
    "        ax1.xaxis.set_tick_params(length=0)\n",
    "        ax1.grid(b=True, which='major', c='w', lw=2, ls='-')\n",
    "        legend = ax1.legend()\n",
    "        legend.get_frame().set_alpha(0.5)\n",
    "        for spine in ('top', 'right', 'bottom', 'left'):\n",
    "            ax.spines[spine].set_visible(False)\n",
    "\n",
    "    if Alpha is not None:\n",
    "        # sp2\n",
    "        ax2 = f.add_subplot(122)\n",
    "        ax2.plot(t, Alpha, 'r--', alpha=0.7, linewidth=2, label='alpha')\n",
    "\n",
    "        ax2.set_xlabel('Time (days)')\n",
    "        ax2.title.set_text('fatality rate over time')\n",
    "        # ax.set_ylabel('Number (1000s)')\n",
    "        # ax.set_ylim(0,1.2)\n",
    "        ax2.yaxis.set_tick_params(length=0)\n",
    "        ax2.xaxis.set_tick_params(length=0)\n",
    "        ax2.grid(b=True, which='major', c='w', lw=2, ls='-')\n",
    "        legend = ax2.legend()\n",
    "        legend.get_frame().set_alpha(0.5)\n",
    "        for spine in ('top', 'right', 'bottom', 'left'):\n",
    "            ax.spines[spine].set_visible(False)\n",
    "\n",
    "    # plt.show()\n",
    "\n",
    "def aggregate_results(samples_df, num_samples=1):\n",
    "    # QoIs = [\"D_sol\", \"E_sol\", \"I_sol\", \"R_sol\", \"S_sol\"]\n",
    "    QoIs = []\n",
    "    for col in samples_df.columns:\n",
    "        if \"_sol\" in col:\n",
    "            QoIs.append(col)\n",
    "    # print(QoIs)\n",
    "    all_QoIs = {key: None for key in QoIs}\n",
    "    for QoI in QoIs:\n",
    "        # Aggregate results\n",
    "        # TODO: After they introduce normalized models, remove normalization here.\n",
    "        # /total_pop * 100\n",
    "        # total_pop = 0\n",
    "        # for val in QoIs:\n",
    "        #     total_pop += samples_df[samples_df[\"sample_id\"] == 0][val].to_numpy()[0]\n",
    "        all_QoIs[QoI] = [samples_df[samples_df[\"sample_id\"] == i][QoI].to_numpy() for i in range(num_samples)]\n",
    "    return all_QoIs\n",
    "\n",
    "# Add '?raw=true' at the end of the link to the file to get the rawgithubusercontent link.\n",
    "def update_AMR(SEIRD_model_url, SEIRD_model_path):\n",
    "    with urllib.request.urlopen(SEIRD_model_url) as url:\n",
    "        json_object = json.load(url)\n",
    "        with open(SEIRD_model_path, \"w\") as outfile:\n",
    "            json.dump(json_object, outfile)\n",
    "\n",
    "def change_model_parameters(filename, new_params):\n",
    "    # new params = [(param, value), (param, value)]\n",
    "    with open(filename, 'r') as f:\n",
    "        model = json.load(f)\n",
    "        # Change initial parameters\n",
    "        for (param, value) in new_params:\n",
    "            for idx in model[\"semantics\"][\"ode\"][\"parameters\"]:\n",
    "                if idx[\"id\"] == param:\n",
    "                    idx[\"value\"] = value\n",
    "    return model"
   ]
  },
  {
   "cell_type": "markdown",
   "id": "fd9370ca",
   "metadata": {},
   "source": [
    "# SCENARIO 2: Multiple Vaccines and Variants"
   ]
  },
  {
   "cell_type": "markdown",
   "id": "3d8dbcf3",
   "metadata": {},
   "source": [
    "### PART 1\n",
    "**(A)** TA1/TA2 provide the AMR for a COVID-19 model which includes multiple vaccines and variants of concern. \\\n",
    "Model Source: https://www.nature.com/articles/s41598-022-06159-x \\\n",
    "AMR location: https://github.com/indralab/mira/blob/hackathon/notebooks/hackathon_2023.07/scenario2_a.json \\\n",
    "Model Schematic:\n",
    "\n",
    "<div>\n",
    "<img src=\"attachment:image-3.png\" width=\"400\" align=\"left\"/>\n",
    "</div>"
   ]
  },
  {
   "cell_type": "markdown",
   "id": "19336d05",
   "metadata": {},
   "source": [
    "Load the model"
   ]
  },
  {
   "cell_type": "code",
   "execution_count": 35,
   "id": "5c4029e8",
   "metadata": {},
   "outputs": [],
   "source": [
    "# 2a\n",
    "SEIRD_model_path = \"scenario2_a_beta_scale_static.json\"\n",
    "SEIRD_model_url = \"https://raw.githubusercontent.com/indralab/mira/hackathon/notebooks/hackathon_2023.07/scenario2_a_beta_scale_static.json\"\n",
    "# NOTE: This is only if you wish to update the AMR.\n",
    "update_AMR(SEIRD_model_url, SEIRD_model_path)"
   ]
  },
  {
   "cell_type": "markdown",
   "id": "6da1c75e",
   "metadata": {},
   "source": [
    "**(B) TA3 TASK 1:** Perform model simulation over a 14-month period beginning January 1, 2020. Consider only the Wild Type variant, and no vaccination.\n",
    " - Use parameter values for wild type from supplementary material\n",
    " - 2019 population of Ontario: 14.57 million people\n",
    " - Natural death rate $\\mu = 2.05e-5$\n",
    " - Initial conditions: let $I(0) = 1e-6$, $S(0) = 1 - (I(0) + A(0))$, and all other values be zero\n",
    " \n",
    "Questions: \n",
    "1. When do $I(t)$ and $A(t)$ peak, and what is the value of these variables at their peaks? \n",
    "2. How do the $I(t)$ and $A(t)$ profiles compare with Fig. 3d, f (below)? \n",
    "3. Given that this question assumes only the presence of the wild type variant, do the results seem reasonable?\n",
    "\n",
    "<div>\n",
    "<img src=\"attachment:image-4.png\" width=\"500\" align=\"left\"/>\n",
    "</div>"
   ]
  },
  {
   "cell_type": "markdown",
   "id": "7eb80ea1",
   "metadata": {},
   "source": [
    "Simulation Parameters"
   ]
  },
  {
   "cell_type": "code",
   "execution_count": 36,
   "id": "ffac8f98",
   "metadata": {},
   "outputs": [],
   "source": [
    "num_samples = 1\n",
    "start_time = 0\n",
    "end_time = 425 # 14 months\n",
    "num_timepoints = (end_time-start_time)*10 + 1\n",
    "timepoints = get_tspan(start_time, end_time, num_timepoints)"
   ]
  },
  {
   "cell_type": "code",
   "execution_count": 66,
   "id": "dbc8b30b",
   "metadata": {},
   "outputs": [],
   "source": [
    "# fsfs = load_petri_model(SEIRD_model_path, compile_rate_law_p=True)\n",
    "# expr = fsfs.compile_rate_law()\n",
    "# # print(fsfs.var_order)\n",
    "# expr = str(expr)\n",
    "# expr = expr.split(\"SymPyModule(expressions=(\")[1]\n",
    "# list_of_exprs = expr.split(\", \")\n",
    "# # print(expr.replace(', ', ')\\n'))\n",
    "# for i, key in enumerate(fsfs.var_order):\n",
    "#     print(f\"d{key}/dt\", '=', list_of_exprs[i])\n",
    "#     print('\\n')"
   ]
  },
  {
   "cell_type": "code",
   "execution_count": 37,
   "id": "4b665242",
   "metadata": {},
   "outputs": [
    {
     "data": {
      "image/png": "[encoded data removed]",
      "text/plain": [
       "<Figure size 1000x400 with 1 Axes>"
      ]
     },
     "metadata": {},
     "output_type": "display_data"
    }
   ],
   "source": [
    "implement_1variant_novax_samples = load_and_sample_petri_model(\n",
    "        SEIRD_model_path, num_samples, timepoints=timepoints)\n",
    "QoIs = aggregate_results(implement_1variant_novax_samples, num_samples=num_samples)\n",
    "plot_all_QoIs(timepoints, S=QoIs[\"S_sol\"][0]*100, V=QoIs[\"V1_sol\"][0]+QoIs[\"V2_sol\"][0]*100, I=QoIs[\"I_sol\"][0]*100, R=QoIs[\"R_sol\"][0]*100, A=QoIs[\"A_sol\"][0]*100,\\\n",
    "              title=\"Wild Type Variant + No Vaccines\")"
   ]
  },
  {
   "cell_type": "code",
   "execution_count": 14,
   "id": "39e9bdfe",
   "metadata": {},
   "outputs": [
    {
     "name": "stdout",
     "output_type": "stream",
     "text": [
      "I_peak:  12.91%\n",
      "A_peak:  13.13%\n",
      "I_peak_time:  tensor(249.8000)\n",
      "A_peak_time:  tensor(250.1000)\n",
      " I(t) and A(t) peak in August, earlier than they do in the paper (December). They also peak with a significantly larger magnitude, \n",
      "    with a max of 12.9% and 13.1% of the total population becoming infected and asymptomatically infected respectively, \n",
      "    compared to the paper's ~0.34%. Given the fact that this simulation considers one variant (wild type) and no vaccinations, \n",
      "    this seems like a plausible result.\n",
      "    \n"
     ]
    }
   ],
   "source": [
    "# Find I_Sol and A_sol peak and time to peak\n",
    "I_sol = QoIs[\"I_sol\"][0]\n",
    "A_sol = QoIs[\"A_sol\"][0]\n",
    "I_peak = np.max(I_sol)\n",
    "A_peak = np.max(A_sol)\n",
    "I_peak_time = np.argmax(I_sol)\n",
    "A_peak_time = np.argmax(A_sol)\n",
    "# Format percent to be two decimals\n",
    "print(\"I_peak: \", f\"{I_peak*100:.2f}%\") \n",
    "print(\"A_peak: \", f\"{A_peak*100:.2f}%\")\n",
    "print(\"I_peak_time: \", timepoints[I_peak_time])\n",
    "print(\"A_peak_time: \", timepoints[A_peak_time])\n",
    "print(\n",
    "    f\"\"\" I(t) and A(t) peak in August, earlier than they do in the paper (December). They also peak with a significantly larger magnitude, \n",
    "    with a max of {I_peak*100:.1f}% and {A_peak*100:.1f}% of the total population becoming infected and asymptomatically infected respectively, \n",
    "    compared to the paper's ~0.34%. Given the fact that this simulation considers one variant (wild type) and no vaccinations, \n",
    "    this seems like a plausible result.\n",
    "    \"\"\"\n",
    ")"
   ]
  },
  {
   "cell_type": "markdown",
   "id": "6b084d43",
   "metadata": {},
   "source": [
    "### PART 2 - Extend the model to include multiple strains and (two) vaccine types\n",
    "**(A) and (B)** TA1/TA2 extract and/or transform the model to include variants and vaccines. \\\n",
    "New schematic for transitions involving susceptible individuals:\n",
    "\n",
    "<div>\n",
    "<img src=\"attachment:image-2.png\" width=\"300\" align=\"left\"/>\n",
    "</div>"
   ]
  },
  {
   "cell_type": "markdown",
   "id": "400867f1",
   "metadata": {},
   "source": [
    "**(C) TA3 TASK 2:** Simulate the model over the two-year period from January 1, 2020 to December 31, 2021. \n",
    " - Include the two vaccine types: Pfizer and AstraZeneca\n",
    " - Include three COVID-19 variants/strains: Wild Type, Alpha, and Delta (ignore Omicron for now) \n",
    " - Initial conditions: assume the entire population of Ontario is susceptible, except for 15 infected symptomatic individuals\n",
    " - Reproduce *Figs. 3a, b, d, and e*\n",
    "\n",
    "<div>\n",
    "<img src=\"attachment:image-2.png\" width=\"300\" align=\"left\"/>\n",
    "</div>"
   ]
  },
  {
   "cell_type": "code",
   "execution_count": 67,
   "id": "d768ac8c",
   "metadata": {},
   "outputs": [],
   "source": [
    "# 2a\n",
    "SEIRD_model_path = \"scenario2_2_b_multi_vax_multi_strain.json\"\n",
    "SEIRD_model_url = \"https://raw.githubusercontent.com/indralab/mira/hackathon/notebooks/hackathon_2023.07/scenario2_2_b_multi_vax_multi_strain.json\"\n",
    "# NOTE: This is only if you wish to update the AMR.\n",
    "update_AMR(SEIRD_model_url, SEIRD_model_path)"
   ]
  },
  {
   "cell_type": "markdown",
   "id": "f0016865",
   "metadata": {},
   "source": [
    "Simulation Parameters"
   ]
  },
  {
   "cell_type": "code",
   "execution_count": 68,
   "id": "d5814337",
   "metadata": {},
   "outputs": [],
   "source": [
    "num_samples = 1\n",
    "start_time = 0\n",
    "# 2 years in days\n",
    "end_time = 730\n",
    "num_timepoints = (end_time-start_time)*10 + 1\n",
    "timepoints = get_tspan(start_time, end_time, num_timepoints)"
   ]
  },
  {
   "cell_type": "code",
   "execution_count": 69,
   "id": "a930618b",
   "metadata": {},
   "outputs": [
    {
     "name": "stderr",
     "output_type": "stream",
     "text": [
      "ERROR:root:\n",
      "                ###############################\n",
      "\n",
      "                There was an exception in pyciemss\n",
      "                \n",
      "                Error occured in function: setup_petri_model\n",
      "\n",
      "                Function docs : \n",
      "    Instantiate a model for a particular configuration of initial conditions\n",
      "    \n",
      "\n",
      "                ################################\n",
      "            \n",
      "Traceback (most recent call last):\n",
      "  File \"/Users/vigneshsella/Documents/GitHub/pyciemss/src/pyciemss/custom_decorators.py\", line 9, in wrapped\n",
      "    result = function(*args, **kwargs)\n",
      "  File \"/Users/vigneshsella/Documents/GitHub/pyciemss/src/pyciemss/PetriNetODE/interfaces.py\", line 654, in setup_petri_model\n",
      "    start_event = StartEvent(start_time, start_state)\n",
      "  File \"/Users/vigneshsella/Documents/GitHub/pyciemss/src/pyciemss/PetriNetODE/events.py\", line 52, in __init__\n",
      "    self.initial_state = {k: torch.as_tensor(v) for k, v in initial_state.items()}\n",
      "  File \"/Users/vigneshsella/Documents/GitHub/pyciemss/src/pyciemss/PetriNetODE/events.py\", line 52, in <dictcomp>\n",
      "    self.initial_state = {k: torch.as_tensor(v) for k, v in initial_state.items()}\n",
      "RuntimeError: Could not infer dtype of NoneType\n",
      "ERROR:root:\n",
      "                ###############################\n",
      "\n",
      "                There was an exception in pyciemss\n",
      "                \n",
      "                Error occured in function: load_and_sample_petri_model\n",
      "\n",
      "                Function docs : \n",
      "    Load a petri net from a file, compile it into a probabilistic program, and sample from it.\n",
      "\n",
      "    Args:\n",
      "        petri_model_or_path: Union[str, mira.metamodel.TemplateModel, mira.modeling.Model]\n",
      "            - A path to a petri net file, or a petri net object.\n",
      "            - This path can be a URL or a local path to a mira model or AMR model.\n",
      "            - Alternatively, this can be a mira template model directly.\n",
      "        num_samples: int\n",
      "            - The number of samples to draw from the model.\n",
      "        timepoints: [Iterable[float]]\n",
      "            - The timepoints to simulate the model from. Backcasting and/or forecasting is reflected in the choice of timepoints.\n",
      "        interventions: Optional[Iterable[Tuple[float, str, float]]]\n",
      "            - A list of interventions to apply to the model. Each intervention is a tuple of the form (time, parameter_name, value).\n",
      "        start_state: Optional[dict[str, float]]\n",
      "            - The initial state of the model. If None, the initial state is taken from the mira model.\n",
      "        start_time: float\n",
      "            - The start time of the model. This is used to align the `start_state` with the `timepoints`.\n",
      "            - By default we set the `start_time` to be a small negative number to avoid numerical issues w/ collision with the `timepoints` which typically start at 0.\n",
      "        method: str\n",
      "            - The method to use for solving the ODE. See torchdiffeq's `odeint` method for more details.\n",
      "            - If performance is incredibly slow, we suggest using `euler` to debug. If using `euler` results in faster simulation, the issue is likely that the model is stiff.\n",
      "        time_unit: str\n",
      "            - Time unit (used for labeling outputs)\n",
      "        visual_options: None, bool, dict[str, any]\n",
      "            - True output a visual\n",
      "            - False do not output a visual\n",
      "            - dict output a visual with the dictionary passed to the visualization as kwargs\n",
      "\n",
      "    Returns:\n",
      "        samples:\n",
      "            - PetriSolution: The samples from the model as a pandas DataFrame. (If visual_options is falsy)\n",
      "            - dict {data: <samples>, visual: <visual>}: The PetriSolution and a visualization. (If visual_options is truthy)\n",
      "    \n",
      "\n",
      "                ################################\n",
      "            \n",
      "Traceback (most recent call last):\n",
      "  File \"/Users/vigneshsella/Documents/GitHub/pyciemss/src/pyciemss/custom_decorators.py\", line 9, in wrapped\n",
      "    result = function(*args, **kwargs)\n",
      "  File \"/Users/vigneshsella/Documents/GitHub/pyciemss/src/pyciemss/PetriNetODE/interfaces.py\", line 124, in load_and_sample_petri_model\n",
      "    model = setup_model(model, start_time=start_time, start_state=start_state)\n",
      "  File \"/usr/local/Cellar/python@3.9/3.9.13_1/Frameworks/Python.framework/Versions/3.9/lib/python3.9/functools.py\", line 888, in wrapper\n",
      "    return dispatch(args[0].__class__)(*args, **kw)\n",
      "  File \"/Users/vigneshsella/Documents/GitHub/pyciemss/src/pyciemss/custom_decorators.py\", line 30, in wrapped\n",
      "    raise e\n",
      "  File \"/Users/vigneshsella/Documents/GitHub/pyciemss/src/pyciemss/custom_decorators.py\", line 9, in wrapped\n",
      "    result = function(*args, **kwargs)\n",
      "  File \"/Users/vigneshsella/Documents/GitHub/pyciemss/src/pyciemss/PetriNetODE/interfaces.py\", line 654, in setup_petri_model\n",
      "    start_event = StartEvent(start_time, start_state)\n",
      "  File \"/Users/vigneshsella/Documents/GitHub/pyciemss/src/pyciemss/PetriNetODE/events.py\", line 52, in __init__\n",
      "    self.initial_state = {k: torch.as_tensor(v) for k, v in initial_state.items()}\n",
      "  File \"/Users/vigneshsella/Documents/GitHub/pyciemss/src/pyciemss/PetriNetODE/events.py\", line 52, in <dictcomp>\n",
      "    self.initial_state = {k: torch.as_tensor(v) for k, v in initial_state.items()}\n",
      "RuntimeError: Could not infer dtype of NoneType\n"
     ]
    },
    {
     "ename": "RuntimeError",
     "evalue": "Could not infer dtype of NoneType",
     "output_type": "error",
     "traceback": [
      "\u001b[0;31m---------------------------------------------------------------------------\u001b[0m",
      "\u001b[0;31mRuntimeError\u001b[0m                              Traceback (most recent call last)",
      "Cell \u001b[0;32mIn[69], line 1\u001b[0m\n\u001b[0;32m----> 1\u001b[0m implement_multivar_multivax_samples \u001b[39m=\u001b[39m load_and_sample_petri_model(\n\u001b[1;32m      2\u001b[0m         SEIRD_model_path, num_samples, timepoints\u001b[39m=\u001b[39;49mtimepoints)\n\u001b[1;32m      3\u001b[0m QoIs \u001b[39m=\u001b[39m aggregate_results(implement_multivar_multivax_samples, num_samples\u001b[39m=\u001b[39mnum_samples)\n\u001b[1;32m      4\u001b[0m plot_all_QoIs(timepoints, S\u001b[39m=\u001b[39mQoIs[\u001b[39m\"\u001b[39m\u001b[39mS_sol\u001b[39m\u001b[39m\"\u001b[39m][\u001b[39m0\u001b[39m]\u001b[39m*\u001b[39m\u001b[39m100\u001b[39m, V\u001b[39m=\u001b[39mQoIs[\u001b[39m\"\u001b[39m\u001b[39mV1_sol\u001b[39m\u001b[39m\"\u001b[39m][\u001b[39m0\u001b[39m]\u001b[39m+\u001b[39mQoIs[\u001b[39m\"\u001b[39m\u001b[39mV2_sol\u001b[39m\u001b[39m\"\u001b[39m][\u001b[39m0\u001b[39m]\u001b[39m*\u001b[39m\u001b[39m100\u001b[39m, I\u001b[39m=\u001b[39mQoIs[\u001b[39m\"\u001b[39m\u001b[39mI_sol\u001b[39m\u001b[39m\"\u001b[39m][\u001b[39m0\u001b[39m]\u001b[39m*\u001b[39m\u001b[39m100\u001b[39m, R\u001b[39m=\u001b[39mQoIs[\u001b[39m\"\u001b[39m\u001b[39mR_sol\u001b[39m\u001b[39m\"\u001b[39m][\u001b[39m0\u001b[39m]\u001b[39m*\u001b[39m\u001b[39m100\u001b[39m, A\u001b[39m=\u001b[39mQoIs[\u001b[39m\"\u001b[39m\u001b[39mA_sol\u001b[39m\u001b[39m\"\u001b[39m][\u001b[39m0\u001b[39m]\u001b[39m*\u001b[39m\u001b[39m100\u001b[39m,\\\n\u001b[1;32m      5\u001b[0m               title\u001b[39m=\u001b[39m\u001b[39m\"\u001b[39m\u001b[39mWild Type Variant + No Vaccines\u001b[39m\u001b[39m\"\u001b[39m)\n",
      "File \u001b[0;32m~/Documents/GitHub/pyciemss/src/pyciemss/custom_decorators.py:30\u001b[0m, in \u001b[0;36mpyciemss_logging_wrappper.<locals>.wrapped\u001b[0;34m(*args, **kwargs)\u001b[0m\n\u001b[1;32m     18\u001b[0m log_message \u001b[39m=\u001b[39m \u001b[39mf\u001b[39m\u001b[39m\"\"\"\u001b[39m\n\u001b[1;32m     19\u001b[0m \u001b[39m    ###############################\u001b[39m\n\u001b[1;32m     20\u001b[0m \n\u001b[0;32m   (...)\u001b[0m\n\u001b[1;32m     27\u001b[0m \u001b[39m    ################################\u001b[39m\n\u001b[1;32m     28\u001b[0m \u001b[39m\u001b[39m\u001b[39m\"\"\"\u001b[39m\n\u001b[1;32m     29\u001b[0m logging\u001b[39m.\u001b[39mexception(log_message)\n\u001b[0;32m---> 30\u001b[0m \u001b[39mraise\u001b[39;00m e\n",
      "File \u001b[0;32m~/Documents/GitHub/pyciemss/src/pyciemss/custom_decorators.py:9\u001b[0m, in \u001b[0;36mpyciemss_logging_wrappper.<locals>.wrapped\u001b[0;34m(*args, **kwargs)\u001b[0m\n\u001b[1;32m      7\u001b[0m \u001b[39mtry\u001b[39;00m:\n\u001b[1;32m      8\u001b[0m     start_time \u001b[39m=\u001b[39m time\u001b[39m.\u001b[39mperf_counter()\n\u001b[0;32m----> 9\u001b[0m     result \u001b[39m=\u001b[39m function(\u001b[39m*\u001b[39;49margs, \u001b[39m*\u001b[39;49m\u001b[39m*\u001b[39;49mkwargs)\n\u001b[1;32m     10\u001b[0m     end_time \u001b[39m=\u001b[39m time\u001b[39m.\u001b[39mperf_counter()\n\u001b[1;32m     11\u001b[0m     logging\u001b[39m.\u001b[39minfo(\n\u001b[1;32m     12\u001b[0m         \u001b[39mf\u001b[39m\u001b[39m\"\u001b[39m\u001b[39mElapsed time for \u001b[39m\u001b[39m{\u001b[39;00mfunction\u001b[39m.\u001b[39m\u001b[39m__name__\u001b[39m\u001b[39m}\u001b[39;00m\u001b[39m:\u001b[39m\u001b[39m\"\u001b[39m,\n\u001b[1;32m     13\u001b[0m         end_time \u001b[39m-\u001b[39m start_time\n\u001b[1;32m     14\u001b[0m         )\n",
      "File \u001b[0;32m~/Documents/GitHub/pyciemss/src/pyciemss/PetriNetODE/interfaces.py:124\u001b[0m, in \u001b[0;36mload_and_sample_petri_model\u001b[0;34m(petri_model_or_path, num_samples, timepoints, interventions, start_state, start_time, method, compile_rate_law_p, time_unit, visual_options)\u001b[0m\n\u001b[1;32m    119\u001b[0m \u001b[39mif\u001b[39;00m start_state \u001b[39mis\u001b[39;00m \u001b[39mNone\u001b[39;00m:\n\u001b[1;32m    120\u001b[0m     start_state \u001b[39m=\u001b[39m {\n\u001b[1;32m    121\u001b[0m         get_name(v): v\u001b[39m.\u001b[39mdata[\u001b[39m\"\u001b[39m\u001b[39minitial_value\u001b[39m\u001b[39m\"\u001b[39m] \u001b[39mfor\u001b[39;00m v \u001b[39min\u001b[39;00m model\u001b[39m.\u001b[39mG\u001b[39m.\u001b[39mvariables\u001b[39m.\u001b[39mvalues()\n\u001b[1;32m    122\u001b[0m     }\n\u001b[0;32m--> 124\u001b[0m model \u001b[39m=\u001b[39m setup_model(model, start_time\u001b[39m=\u001b[39;49mstart_time, start_state\u001b[39m=\u001b[39;49mstart_state)\n\u001b[1;32m    126\u001b[0m \u001b[39mif\u001b[39;00m interventions \u001b[39mis\u001b[39;00m \u001b[39mnot\u001b[39;00m \u001b[39mNone\u001b[39;00m:\n\u001b[1;32m    127\u001b[0m     intervention_events \u001b[39m=\u001b[39m [\n\u001b[1;32m    128\u001b[0m         StaticParameterInterventionEvent(timepoint, parameter, value)\n\u001b[1;32m    129\u001b[0m         \u001b[39mfor\u001b[39;00m timepoint, parameter, value \u001b[39min\u001b[39;00m interventions\n\u001b[1;32m    130\u001b[0m     ]\n",
      "File \u001b[0;32m/usr/local/Cellar/python@3.9/3.9.13_1/Frameworks/Python.framework/Versions/3.9/lib/python3.9/functools.py:888\u001b[0m, in \u001b[0;36msingledispatch.<locals>.wrapper\u001b[0;34m(*args, **kw)\u001b[0m\n\u001b[1;32m    884\u001b[0m \u001b[39mif\u001b[39;00m \u001b[39mnot\u001b[39;00m args:\n\u001b[1;32m    885\u001b[0m     \u001b[39mraise\u001b[39;00m \u001b[39mTypeError\u001b[39;00m(\u001b[39mf\u001b[39m\u001b[39m'\u001b[39m\u001b[39m{\u001b[39;00mfuncname\u001b[39m}\u001b[39;00m\u001b[39m requires at least \u001b[39m\u001b[39m'\u001b[39m\n\u001b[1;32m    886\u001b[0m                     \u001b[39m'\u001b[39m\u001b[39m1 positional argument\u001b[39m\u001b[39m'\u001b[39m)\n\u001b[0;32m--> 888\u001b[0m \u001b[39mreturn\u001b[39;00m dispatch(args[\u001b[39m0\u001b[39;49m]\u001b[39m.\u001b[39;49m\u001b[39m__class__\u001b[39;49m)(\u001b[39m*\u001b[39;49margs, \u001b[39m*\u001b[39;49m\u001b[39m*\u001b[39;49mkw)\n",
      "File \u001b[0;32m~/Documents/GitHub/pyciemss/src/pyciemss/custom_decorators.py:30\u001b[0m, in \u001b[0;36mpyciemss_logging_wrappper.<locals>.wrapped\u001b[0;34m(*args, **kwargs)\u001b[0m\n\u001b[1;32m     18\u001b[0m log_message \u001b[39m=\u001b[39m \u001b[39mf\u001b[39m\u001b[39m\"\"\"\u001b[39m\n\u001b[1;32m     19\u001b[0m \u001b[39m    ###############################\u001b[39m\n\u001b[1;32m     20\u001b[0m \n\u001b[0;32m   (...)\u001b[0m\n\u001b[1;32m     27\u001b[0m \u001b[39m    ################################\u001b[39m\n\u001b[1;32m     28\u001b[0m \u001b[39m\u001b[39m\u001b[39m\"\"\"\u001b[39m\n\u001b[1;32m     29\u001b[0m logging\u001b[39m.\u001b[39mexception(log_message)\n\u001b[0;32m---> 30\u001b[0m \u001b[39mraise\u001b[39;00m e\n",
      "File \u001b[0;32m~/Documents/GitHub/pyciemss/src/pyciemss/custom_decorators.py:9\u001b[0m, in \u001b[0;36mpyciemss_logging_wrappper.<locals>.wrapped\u001b[0;34m(*args, **kwargs)\u001b[0m\n\u001b[1;32m      7\u001b[0m \u001b[39mtry\u001b[39;00m:\n\u001b[1;32m      8\u001b[0m     start_time \u001b[39m=\u001b[39m time\u001b[39m.\u001b[39mperf_counter()\n\u001b[0;32m----> 9\u001b[0m     result \u001b[39m=\u001b[39m function(\u001b[39m*\u001b[39;49margs, \u001b[39m*\u001b[39;49m\u001b[39m*\u001b[39;49mkwargs)\n\u001b[1;32m     10\u001b[0m     end_time \u001b[39m=\u001b[39m time\u001b[39m.\u001b[39mperf_counter()\n\u001b[1;32m     11\u001b[0m     logging\u001b[39m.\u001b[39minfo(\n\u001b[1;32m     12\u001b[0m         \u001b[39mf\u001b[39m\u001b[39m\"\u001b[39m\u001b[39mElapsed time for \u001b[39m\u001b[39m{\u001b[39;00mfunction\u001b[39m.\u001b[39m\u001b[39m__name__\u001b[39m\u001b[39m}\u001b[39;00m\u001b[39m:\u001b[39m\u001b[39m\"\u001b[39m,\n\u001b[1;32m     13\u001b[0m         end_time \u001b[39m-\u001b[39m start_time\n\u001b[1;32m     14\u001b[0m         )\n",
      "File \u001b[0;32m~/Documents/GitHub/pyciemss/src/pyciemss/PetriNetODE/interfaces.py:654\u001b[0m, in \u001b[0;36msetup_petri_model\u001b[0;34m(petri, start_time, start_state)\u001b[0m\n\u001b[1;32m    650\u001b[0m \u001b[39m\u001b[39m\u001b[39m\"\"\"\u001b[39;00m\n\u001b[1;32m    651\u001b[0m \u001b[39mInstantiate a model for a particular configuration of initial conditions\u001b[39;00m\n\u001b[1;32m    652\u001b[0m \u001b[39m\"\"\"\u001b[39;00m\n\u001b[1;32m    653\u001b[0m \u001b[39m# TODO: Figure out how to do this without copying the petri net.\u001b[39;00m\n\u001b[0;32m--> 654\u001b[0m start_event \u001b[39m=\u001b[39m StartEvent(start_time, start_state)\n\u001b[1;32m    655\u001b[0m new_petri \u001b[39m=\u001b[39m copy\u001b[39m.\u001b[39mdeepcopy(petri)\n\u001b[1;32m    656\u001b[0m new_petri\u001b[39m.\u001b[39mload_event(start_event)\n",
      "File \u001b[0;32m~/Documents/GitHub/pyciemss/src/pyciemss/PetriNetODE/events.py:52\u001b[0m, in \u001b[0;36mStartEvent.__init__\u001b[0;34m(self, time, initial_state)\u001b[0m\n\u001b[1;32m     51\u001b[0m \u001b[39mdef\u001b[39;00m \u001b[39m__init__\u001b[39m(\u001b[39mself\u001b[39m, time: \u001b[39mfloat\u001b[39m, initial_state: Dict[\u001b[39mstr\u001b[39m, \u001b[39mfloat\u001b[39m]):\n\u001b[0;32m---> 52\u001b[0m     \u001b[39mself\u001b[39m\u001b[39m.\u001b[39minitial_state \u001b[39m=\u001b[39m {k: torch\u001b[39m.\u001b[39mas_tensor(v) \u001b[39mfor\u001b[39;00m k, v \u001b[39min\u001b[39;00m initial_state\u001b[39m.\u001b[39mitems()}\n\u001b[1;32m     53\u001b[0m     \u001b[39msuper\u001b[39m()\u001b[39m.\u001b[39m\u001b[39m__init__\u001b[39m(time)\n",
      "File \u001b[0;32m~/Documents/GitHub/pyciemss/src/pyciemss/PetriNetODE/events.py:52\u001b[0m, in \u001b[0;36m<dictcomp>\u001b[0;34m(.0)\u001b[0m\n\u001b[1;32m     51\u001b[0m \u001b[39mdef\u001b[39;00m \u001b[39m__init__\u001b[39m(\u001b[39mself\u001b[39m, time: \u001b[39mfloat\u001b[39m, initial_state: Dict[\u001b[39mstr\u001b[39m, \u001b[39mfloat\u001b[39m]):\n\u001b[0;32m---> 52\u001b[0m     \u001b[39mself\u001b[39m\u001b[39m.\u001b[39minitial_state \u001b[39m=\u001b[39m {k: torch\u001b[39m.\u001b[39;49mas_tensor(v) \u001b[39mfor\u001b[39;00m k, v \u001b[39min\u001b[39;00m initial_state\u001b[39m.\u001b[39mitems()}\n\u001b[1;32m     53\u001b[0m     \u001b[39msuper\u001b[39m()\u001b[39m.\u001b[39m\u001b[39m__init__\u001b[39m(time)\n",
      "\u001b[0;31mRuntimeError\u001b[0m: Could not infer dtype of NoneType"
     ]
    }
   ],
   "source": [
    "implement_multivar_multivax_samples = load_and_sample_petri_model(\n",
    "        SEIRD_model_path, num_samples, timepoints=timepoints)\n",
    "QoIs = aggregate_results(implement_multivar_multivax_samples, num_samples=num_samples)\n",
    "plot_all_QoIs(timepoints, S=QoIs[\"S_sol\"][0]*100, V=QoIs[\"V1_sol\"][0]+QoIs[\"V2_sol\"][0]*100, I=QoIs[\"I_sol\"][0]*100, R=QoIs[\"R_sol\"][0]*100, A=QoIs[\"A_sol\"][0]*100,\\\n",
    "              title=\"Wild Type Variant + No Vaccines\")"
   ]
  },
  {
   "cell_type": "markdown",
   "id": "b5eee698",
   "metadata": {},
   "source": [
    "### PART 3\n",
    "**(D) TA3 TASK 3:** Implement the three additional scenarios described below, and used in the paper to create Fig. 7, and simulate from January 1, 2020 - December 31, 2021: \n",
    "1. Assume that a smaller percentage of vaccinations were with Pfizer, but keep the total vaccinations the same as in 2c. Given that the Pfizer vaccine offered stronger protection against all variants, compared to AstraZeneca, what is the impact?\n",
    "2. Assume a lower provincial vaccination rate compared to the baseline percentage of 74% of the population vaccinated by September 1st, 2021. \n",
    "3. Assume less stringent NPIs than what actually took place. \n",
    "\n",
    "Qualitatively compare with simulations in Fig. 7, where: \n",
    "1. “PZ/AZ,” lower fraction of vaccines being Pfizer (from 95 to 40%), with the reduction made up with AstraZeneca, which offers reduced protection from Delta infections and a longer dosing delay\n",
    "2. “Vac rate,” vaccination rate reduced by 20%\n",
    "3. “NPI”, less stringent lockdown measured, with mobility increased by 25%\n",
    "\n",
    "<div>\n",
    "<img src=\"attachment:image.png\" width=\"300\" align=\"left\"/>\n",
    "</div>"
   ]
  },
  {
   "cell_type": "markdown",
   "id": "1ef54650",
   "metadata": {},
   "source": [
    "### PART 4 - Omicron Variant\n",
    "**(A)** TA2 simplifies the model structure to consider multiple vaccines, but only the Delta and Omicron variants \\\n",
    "**(B) TA3 TASK 4:** Using epidemiological data for Ontario (https://storage.googleapis.com/covid19-open-data/v3/location/CA_ON.csv) and summary data on Omicron-related characteristics (https://www.cdc.gov/mmwr/volumes/71/wr/mm7137a4.htm) to set relevant model parameters, simulate the simplified model from July to December 2021 and compare with the hypothetical outcomes with the fictitious Neos variant as in Fig. 9\n",
    "\n",
    "<div>\n",
    "<img src=\"attachment:image.png\" width=\"600\" align=\"left\"/>\n",
    "</div>"
   ]
  },
  {
   "cell_type": "markdown",
   "id": "b1d2e787",
   "metadata": {},
   "source": [
    "### PART 5 - Change the model setting to the United States\n",
    "**(A)** TA1 updates parameter values for the US, and changes vaccine types to (1) Moderna and Pfizer mRNA and (2) Janssen/J&J viral vector vaccine. \\\n",
    "**(B) TA3 TASK 5:** With the updated US-specific AMR, rerun the simulation from January 1, 2020 to December 31, 2021. How do the outcomes compare with Question 2c?"
   ]
  },
  {
   "cell_type": "markdown",
   "id": "a3d8f7d0",
   "metadata": {},
   "source": []
  }
 ],
 "metadata": {
  "kernelspec": {
   "display_name": "Python CIEMSS",
   "language": "python",
   "name": "ciemss_env"
  },
  "language_info": {
   "codemirror_mode": {
    "name": "ipython",
    "version": 3
   },
   "file_extension": ".py",
   "mimetype": "text/x-python",
   "name": "python",
   "nbconvert_exporter": "python",
   "pygments_lexer": "ipython3",
   "version": "3.9.13"
  }
 },
 "nbformat": 4,
 "nbformat_minor": 5
}
