{
 "cells": [
  {
   "cell_type": "code",
   "execution_count": 1,
   "id": "96dc1195",
   "metadata": {},
   "outputs": [],
   "source": [
    "import os\n",
    "import urllib.request, json \n",
    "import pandas as pd\n",
    "from IPython.display import HTML\n",
    "from IPython import display\n",
    "from pyciemss.PetriNetODE.interfaces import (\n",
    "    load_and_sample_petri_model,\n",
    "    load_and_calibrate_and_sample_petri_model,\n",
    "    load_petri_model,\n",
    "    setup_petri_model,\n",
    "    sample\n",
    ")\n",
    "import numpy as np\n",
    "from typing import Iterable\n",
    "from pyciemss.utils.interface_utils import (\n",
    "    assign_interventions_to_timepoints,\n",
    "    interventions_and_sampled_params_to_interval,\n",
    "    convert_to_output_format\n",
    ")\n",
    "from pyciemss.utils import get_tspan\n",
    "import matplotlib.pyplot as plt\n",
    "import torch\n",
    "from torch import tensor"
   ]
  },
  {
   "cell_type": "markdown",
   "id": "4dcfa1b9",
   "metadata": {},
   "source": [
    "Utils"
   ]
  },
  {
   "cell_type": "code",
   "execution_count": 3,
   "id": "30826018",
   "metadata": {},
   "outputs": [],
   "source": [
    "def aggregate_results(samples_df, num_samples=1):\n",
    "    QoIs = [\"D_sol\", \"E_sol\", \"I_sol\", \"R_sol\", \"S_sol\"]\n",
    "    all_QoIs = {key: None for key in QoIs}\n",
    "    for QoI in QoIs:\n",
    "        # Aggregate results\n",
    "        # TODO: After they introduce normalized models, remove normalization here.\n",
    "        # /total_pop * 100\n",
    "        # total_pop = 0\n",
    "        # for val in QoIs:\n",
    "        #     total_pop += samples_df[samples_df[\"sample_id\"] == 0][val].to_numpy()[0]\n",
    "        all_QoIs[QoI] = [samples_df[samples_df[\"sample_id\"] == i][QoI].to_numpy() for i in range(num_samples)]\n",
    "    return all_QoIs\n",
    "\n",
    "# Add '?raw=true' at the end of the link to the file to get the rawgithubusercontent link.\n",
    "def update_AMR(SEIRD_model_url, SEIRD_model_path):\n",
    "    with urllib.request.urlopen(SEIRD_model_url) as url:\n",
    "        json_object = json.load(url)\n",
    "        with open(SEIRD_model_path, \"w\") as outfile:\n",
    "            json.dump(json_object, outfile)"
   ]
  },
  {
   "cell_type": "markdown",
   "id": "fd9370ca",
   "metadata": {},
   "source": [
    "# SCENARIO 2: Multiple Vaccines and Variants"
   ]
  },
  {
   "cell_type": "markdown",
   "id": "3d8dbcf3",
   "metadata": {},
   "source": [
    "### PART 1\n",
    "**(A)** TA1/TA2 provide the AMR for a COVID-19 model which includes multiple vaccines and variants of concern. \\\n",
    "Model Source: https://www.nature.com/articles/s41598-022-06159-x \\\n",
    "AMR location: https://github.com/indralab/mira/blob/hackathon/notebooks/hackathon_2023.07/scenario2_a.json \\\n",
    "Model Schematic:\n",
    "\n",
    "<div>\n",
    "<img src=\"attachment:image-3.png\" width=\"400\" align=\"left\"/>\n",
    "</div>"
   ]
  },
  {
   "cell_type": "markdown",
   "id": "19336d05",
   "metadata": {},
   "source": [
    "Load the model"
   ]
  },
  {
   "cell_type": "code",
   "execution_count": 4,
   "id": "5c4029e8",
   "metadata": {},
   "outputs": [],
   "source": [
    "# 1b\n",
    "SEIRD_model_path = \"scenario2_a_beta_scale_static.json\"\n",
    "SEIRD_model_url = \"https://raw.githubusercontent.com/indralab/mira/hackathon/notebooks/hackathon_2023.07/scenario2_a_beta_scale_static.json\"\n",
    "# NOTE: This is only if you wish to update the AMR.\n",
    "update_AMR(SEIRD_model_url, SEIRD_model_path)"
   ]
  },
  {
   "cell_type": "markdown",
   "id": "6da1c75e",
   "metadata": {},
   "source": [
    "**(B) TA3 TASK 1:** Perform model simulation over a 14-month period beginning January 1, 2020. Consider only the Wild Type variant, and no vaccination.\n",
    " - Use parameter values for wild type from supplementary material\n",
    " - 2019 population of Ontario: 14.57 million people\n",
    " - Natural death rate $\\mu = 2.05e-5$\n",
    " - Initial conditions: let $I(0) = 1e-6$, $S(0) = 1 - (I(0) + A(0))$, and all other values be zero\n",
    " \n",
    "Questions: \n",
    "1. When do $I(t)$ and $A(t)$ peak, and what is the value of these variables at their peaks? \n",
    "2. How do the $I(t)$ and $A(t)$ profiles compare with Fig. 3d, f (below)? \n",
    "3. Given that this question assumes only the presence of the wild type variant, do the results seem reasonable?\n",
    "\n",
    "<div>\n",
    "<img src=\"attachment:image-4.png\" width=\"500\" align=\"left\"/>\n",
    "</div>"
   ]
  },
  {
   "cell_type": "code",
   "execution_count": null,
   "id": "a747a825",
   "metadata": {},
   "outputs": [],
   "source": [
    "# NOTE: mu is set in the AMR, not sure where to find/set I(0).\n"
   ]
  },
  {
   "cell_type": "markdown",
   "id": "6b084d43",
   "metadata": {},
   "source": [
    "### PART 2 - Extend the model to include multiple strains and (two) vaccine types\n",
    "**(A) and (B)** TA1/TA2 extract and/or transform the model to include variants and vaccines. \\\n",
    "New schematic for transitions involving susceptible individuals:\n",
    "\n",
    "<div>\n",
    "<img src=\"attachment:image-2.png\" width=\"300\" align=\"left\"/>\n",
    "</div>"
   ]
  },
  {
   "cell_type": "markdown",
   "id": "400867f1",
   "metadata": {},
   "source": [
    "**(C) TA3 TASK 2:** Simulate the model over the two-year period from January 1, 2020 to December 31, 2021. \n",
    " - Include the two vaccine types: Pfizer and AstraZeneca\n",
    " - Include three COVID-19 variants/strains: Wild Type, Alpha, and Delta (ignore Omicron for now) \n",
    " - Initial conditions: assume the entire population of Ontario is susceptible, except for 15 infected symptomatic individuals\n",
    " - Reproduce *Figs. 3a, b, d, and e*\n",
    "\n",
    "<div>\n",
    "<img src=\"attachment:image-2.png\" width=\"300\" align=\"left\"/>\n",
    "</div>"
   ]
  },
  {
   "cell_type": "markdown",
   "id": "b5eee698",
   "metadata": {},
   "source": [
    "### PART 3\n",
    "**(D) TA3 TASK 3:** Implement the three additional scenarios described below, and used in the paper to create Fig. 7, and simulate from January 1, 2020 - December 31, 2021: \n",
    "1. Assume that a smaller percentage of vaccinations were with Pfizer, but keep the total vaccinations the same as in 2c. Given that the Pfizer vaccine offered stronger protection against all variants, compared to AstraZeneca, what is the impact?\n",
    "2. Assume a lower provincial vaccination rate compared to the baseline percentage of 74% of the population vaccinated by September 1st, 2021. \n",
    "3. Assume less stringent NPIs than what actually took place. \n",
    "\n",
    "Qualitatively compare with simulations in Fig. 7, where: \n",
    "1. “PZ/AZ,” lower fraction of vaccines being Pfizer (from 95 to 40%), with the reduction made up with AstraZeneca, which offers reduced protection from Delta infections and a longer dosing delay\n",
    "2. “Vac rate,” vaccination rate reduced by 20%\n",
    "3. “NPI”, less stringent lockdown measured, with mobility increased by 25%\n",
    "\n",
    "<div>\n",
    "<img src=\"attachment:image.png\" width=\"300\" align=\"left\"/>\n",
    "</div>"
   ]
  },
  {
   "cell_type": "markdown",
   "id": "1ef54650",
   "metadata": {},
   "source": [
    "### PART 4 - Omicron Variant\n",
    "**(A)** TA2 simplifies the model structure to consider multiple vaccines, but only the Delta and Omicron variants \\\n",
    "**(B) TA3 TASK 4:** Using epidemiological data for Ontario (https://storage.googleapis.com/covid19-open-data/v3/location/CA_ON.csv) and summary data on Omicron-related characteristics (https://www.cdc.gov/mmwr/volumes/71/wr/mm7137a4.htm) to set relevant model parameters, simulate the simplified model from July to December 2021 and compare with the hypothetical outcomes with the fictitious Neos variant as in Fig. 9\n",
    "\n",
    "<div>\n",
    "<img src=\"attachment:image.png\" width=\"600\" align=\"left\"/>\n",
    "</div>"
   ]
  },
  {
   "cell_type": "markdown",
   "id": "b1d2e787",
   "metadata": {},
   "source": [
    "### PART 5 - Change the model setting to the United States\n",
    "**(A)** TA1 updates parameter values for the US, and changes vaccine types to (1) Moderna and Pfizer mRNA and (2) Janssen/J&J viral vector vaccine. \\\n",
    "**(B) TA3 TASK 5:** With the updated US-specific AMR, rerun the simulation from January 1, 2020 to December 31, 2021. How do the outcomes compare with Question 2c?"
   ]
  },
  {
   "cell_type": "markdown",
   "id": "a3d8f7d0",
   "metadata": {},
   "source": []
  }
 ],
 "metadata": {
  "kernelspec": {
   "display_name": "Python CIEMSS",
   "language": "python",
   "name": "ciemss_env"
  },
  "language_info": {
   "codemirror_mode": {
    "name": "ipython",
    "version": 3
   },
   "file_extension": ".py",
   "mimetype": "text/x-python",
   "name": "python",
   "nbconvert_exporter": "python",
   "pygments_lexer": "ipython3",
   "version": "3.9.13"
  }
 },
 "nbformat": 4,
 "nbformat_minor": 5
}
