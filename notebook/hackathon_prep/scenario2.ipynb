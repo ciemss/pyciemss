{
 "cells": [
  {
   "cell_type": "code",
   "execution_count": 1,
   "id": "96dc1195",
   "metadata": {},
   "outputs": [],
   "source": [
    "import os\n",
    "import urllib.request, json \n",
    "import pandas as pd\n",
    "from IPython.display import HTML\n",
    "from IPython import display\n",
    "from pyciemss.PetriNetODE.interfaces import (\n",
    "    load_and_sample_petri_model,\n",
    "    load_and_calibrate_and_sample_petri_model,\n",
    "    load_petri_model,\n",
    "    setup_petri_model,\n",
    "    sample\n",
    ")\n",
    "import numpy as np\n",
    "from typing import Iterable\n",
    "from pyciemss.utils.interface_utils import (\n",
    "    assign_interventions_to_timepoints,\n",
    "    interventions_and_sampled_params_to_interval,\n",
    "    convert_to_output_format\n",
    ")\n",
    "from pyciemss.utils import get_tspan\n",
    "import matplotlib.pyplot as plt\n",
    "import torch\n",
    "from torch import tensor"
   ]
  },
  {
   "cell_type": "markdown",
   "id": "4dcfa1b9",
   "metadata": {},
   "source": [
    "Utils"
   ]
  },
  {
   "cell_type": "code",
   "execution_count": 2,
   "id": "30826018",
   "metadata": {},
   "outputs": [],
   "source": [
    "def plot_all_QoIs(t, S, I, R, V=None, A=None, L=None, R0=None, Alpha=None, CFR=None, ax=None, title=None):\n",
    "    if ax is None:\n",
    "        f, ax = plt.subplots(1,1,figsize=(10,4))\n",
    "    # N = S[0] + E[0] + I[0] + R[0] + D[0]\n",
    "    ax.plot(t, S, 'b--', alpha=0.7, linewidth=2, label='S')\n",
    "    if V is not None:\n",
    "        ax.plot(t, V, 'y', alpha=0.7, linewidth=2, label='V')\n",
    "    ax.plot(t, I+A, 'r', alpha=0.7, linewidth=2, label=\"I+A\")\n",
    "    ax.plot(t, R, 'g-.', alpha=0.7, linewidth=2, label='R')\n",
    "\n",
    "    # if D is not None:\n",
    "    #     ax.plot(t, D/N, 'k', alpha=0.7, linewidth=2, label='Dead')\n",
    "    #     ax.plot(t, ((S+E+I+R+D)/N)*100, 'c:', alpha=0.7, linewidth=2, label='Total')\n",
    "    # else:\n",
    "    #     ax.plot(t, ((S+E+I+R)/N)*100, 'c:', alpha=0.7, linewidth=2, label='Total')\n",
    "\n",
    "    ax.set_xlabel('Time (days)')\n",
    "    ax.set_ylabel('Percentage of Population (%)')\n",
    "\n",
    "    ax.yaxis.set_tick_params(length=0)\n",
    "    ax.xaxis.set_tick_params(length=0)\n",
    "    ax.grid(visible=True, which='major', c='w', lw=2, ls='-')\n",
    "    legend = ax.legend(borderpad=2.0)\n",
    "    legend.get_frame().set_alpha(0.5)\n",
    "    for spine in ('top', 'right', 'bottom', 'left'):\n",
    "        ax.spines[spine].set_visible(False)\n",
    "    if title is not None:\n",
    "        plt.title(title)\n",
    "    if L is not None:\n",
    "        plt.title(\"Lockdown after {} days\".format(L))\n",
    "    # plt.show()\n",
    "\n",
    "    if R0 is not None or CFR is not None:\n",
    "        f = plt.figure(figsize=(12,4))\n",
    "    \n",
    "    if R0 is not None:\n",
    "        # sp1\n",
    "        ax1 = f.add_subplot(121)\n",
    "        ax1.plot(t, R0, 'b--', alpha=0.7, linewidth=2, label='R_0')\n",
    "\n",
    "        ax1.set_xlabel('Time (days)')\n",
    "        ax1.title.set_text('R_0 over time')\n",
    "        # ax.set_ylabel('Number (1000s)')\n",
    "        # ax.set_ylim(0,1.2)\n",
    "        ax1.yaxis.set_tick_params(length=0)\n",
    "        ax1.xaxis.set_tick_params(length=0)\n",
    "        ax1.grid(b=True, which='major', c='w', lw=2, ls='-')\n",
    "        legend = ax1.legend()\n",
    "        legend.get_frame().set_alpha(0.5)\n",
    "        for spine in ('top', 'right', 'bottom', 'left'):\n",
    "            ax.spines[spine].set_visible(False)\n",
    "\n",
    "    if Alpha is not None:\n",
    "        # sp2\n",
    "        ax2 = f.add_subplot(122)\n",
    "        ax2.plot(t, Alpha, 'r--', alpha=0.7, linewidth=2, label='alpha')\n",
    "\n",
    "        ax2.set_xlabel('Time (days)')\n",
    "        ax2.title.set_text('fatality rate over time')\n",
    "        # ax.set_ylabel('Number (1000s)')\n",
    "        # ax.set_ylim(0,1.2)\n",
    "        ax2.yaxis.set_tick_params(length=0)\n",
    "        ax2.xaxis.set_tick_params(length=0)\n",
    "        ax2.grid(b=True, which='major', c='w', lw=2, ls='-')\n",
    "        legend = ax2.legend()\n",
    "        legend.get_frame().set_alpha(0.5)\n",
    "        for spine in ('top', 'right', 'bottom', 'left'):\n",
    "            ax.spines[spine].set_visible(False)\n",
    "\n",
    "    # plt.show()\n",
    "\n",
    "def aggregate_results(samples_df, num_samples=1):\n",
    "    # QoIs = [\"D_sol\", \"E_sol\", \"I_sol\", \"R_sol\", \"S_sol\"]\n",
    "    QoIs = []\n",
    "    for col in samples_df.columns:\n",
    "        if \"_sol\" in col:\n",
    "            QoIs.append(col)\n",
    "    # print(QoIs)\n",
    "    all_QoIs = {key: None for key in QoIs}\n",
    "    for QoI in QoIs:\n",
    "        # Aggregate results\n",
    "        # TODO: After they introduce normalized models, remove normalization here.\n",
    "        # /total_pop * 100\n",
    "        # total_pop = 0\n",
    "        # for val in QoIs:\n",
    "        #     total_pop += samples_df[samples_df[\"sample_id\"] == 0][val].to_numpy()[0]\n",
    "        all_QoIs[QoI] = [samples_df[samples_df[\"sample_id\"] == i][QoI].to_numpy() for i in range(num_samples)]\n",
    "    return all_QoIs\n",
    "\n",
    "# Add '?raw=true' at the end of the link to the file to get the rawgithubusercontent link.\n",
    "def update_AMR(SEIRD_model_url, SEIRD_model_path):\n",
    "    with urllib.request.urlopen(SEIRD_model_url) as url:\n",
    "        json_object = json.load(url)\n",
    "        with open(SEIRD_model_path, \"w\") as outfile:\n",
    "            json.dump(json_object, outfile)"
   ]
  },
  {
   "cell_type": "markdown",
   "id": "fd9370ca",
   "metadata": {},
   "source": [
    "# SCENARIO 2: Multiple Vaccines and Variants"
   ]
  },
  {
   "cell_type": "markdown",
   "id": "3d8dbcf3",
   "metadata": {},
   "source": [
    "### PART 1\n",
    "**(A)** TA1/TA2 provide the AMR for a COVID-19 model which includes multiple vaccines and variants of concern. \\\n",
    "Model Source: https://www.nature.com/articles/s41598-022-06159-x \\\n",
    "AMR location: https://github.com/indralab/mira/blob/hackathon/notebooks/hackathon_2023.07/scenario2_a.json \\\n",
    "Model Schematic:\n",
    "\n",
    "<div>\n",
    "<img src=\"attachment:image-3.png\" width=\"400\" align=\"left\"/>\n",
    "</div>"
   ]
  },
  {
   "cell_type": "markdown",
   "id": "19336d05",
   "metadata": {},
   "source": [
    "Load the model"
   ]
  },
  {
   "cell_type": "code",
   "execution_count": 3,
   "id": "5c4029e8",
   "metadata": {},
   "outputs": [],
   "source": [
    "# 2a\n",
    "SEIRD_model_path = \"scenario2_a_beta_scale_static.json\"\n",
    "SEIRD_model_url = \"https://raw.githubusercontent.com/indralab/mira/hackathon/notebooks/hackathon_2023.07/scenario2_a_beta_scale_static.json\"\n",
    "# NOTE: This is only if you wish to update the AMR.\n",
    "update_AMR(SEIRD_model_url, SEIRD_model_path)"
   ]
  },
  {
   "cell_type": "markdown",
   "id": "6da1c75e",
   "metadata": {},
   "source": [
    "**(B) TA3 TASK 1:** Perform model simulation over a 14-month period beginning January 1, 2020. Consider only the Wild Type variant, and no vaccination.\n",
    " - Use parameter values for wild type from supplementary material\n",
    " - 2019 population of Ontario: 14.57 million people\n",
    " - Natural death rate $\\mu = 2.05e-5$\n",
    " - Initial conditions: let $I(0) = 1e-6$, $S(0) = 1 - (I(0) + A(0))$, and all other values be zero\n",
    " \n",
    "Questions: \n",
    "1. When do $I(t)$ and $A(t)$ peak, and what is the value of these variables at their peaks? \n",
    "2. How do the $I(t)$ and $A(t)$ profiles compare with Fig. 3d, f (below)? \n",
    "3. Given that this question assumes only the presence of the wild type variant, do the results seem reasonable?\n",
    "\n",
    "<div>\n",
    "<img src=\"attachment:image-4.png\" width=\"500\" align=\"left\"/>\n",
    "</div>"
   ]
  },
  {
   "cell_type": "markdown",
   "id": "7eb80ea1",
   "metadata": {},
   "source": [
    "Simulation Parameters"
   ]
  },
  {
   "cell_type": "code",
   "execution_count": 4,
   "id": "ffac8f98",
   "metadata": {},
   "outputs": [],
   "source": [
    "def change_model_parameters(filename, new_params):\n",
    "    # new params = [(param, value), (param, value)]\n",
    "    with open(filename, 'r') as f:\n",
    "        model = json.load(f)\n",
    "        # Change initial parameters\n",
    "        for (param, value) in new_params:\n",
    "            for idx in model[\"semantics\"][\"ode\"][\"parameters\"]:\n",
    "                if idx[\"id\"] == param:\n",
    "                    idx[\"value\"] = value\n",
    "    return model"
   ]
  },
  {
   "cell_type": "code",
   "execution_count": 5,
   "id": "716381f9",
   "metadata": {},
   "outputs": [],
   "source": [
    "num_samples = 1\n",
    "start_time = 0\n",
    "end_time = 425 # 14 months\n",
    "num_timepoints = (end_time-start_time)*10 + 1\n",
    "timepoints = get_tspan(start_time, end_time, num_timepoints)"
   ]
  },
  {
   "cell_type": "code",
   "execution_count": 6,
   "id": "4b665242",
   "metadata": {},
   "outputs": [
    {
     "name": "stderr",
     "output_type": "stream",
     "text": [
      "/Users/vigneshsella/Documents/GitHub/pyciemss/src/pyciemss/PetriNetODE/base.py:330: UserWarning: Parameter (('S', ('identity', 'ido:0000514'), ('vaccination_status', 'vo:0001377')), ('A', ('identity', 'ido:0000511'), ('disease_severity', 'ncit:C3833')), ('I', ('identity', 'ido:0000511')), 'ControlledConversion', 'rate') has value None and will be set to Uniform(0, 1)\n",
      "  warnings.warn(warnings_string)\n",
      "/Users/vigneshsella/Documents/GitHub/pyciemss/src/pyciemss/PetriNetODE/base.py:330: UserWarning: Parameter (('V1', ('identity', 'ido:0000514'), ('vaccination_status', 'askemo:0000018')), ('A', ('identity', 'ido:0000511'), ('disease_severity', 'ncit:C3833')), ('I', ('identity', 'ido:0000511')), 'ControlledConversion', 'rate') has value None and will be set to Uniform(0, 1)\n",
      "  warnings.warn(warnings_string)\n",
      "/Users/vigneshsella/Documents/GitHub/pyciemss/src/pyciemss/PetriNetODE/base.py:330: UserWarning: Parameter (('V2', ('identity', 'ido:0000514'), ('vaccination_status', 'askemo:0000019')), ('A', ('identity', 'ido:0000511'), ('disease_severity', 'ncit:C3833')), ('I', ('identity', 'ido:0000511')), 'ControlledConversion', 'rate') has value None and will be set to Uniform(0, 1)\n",
      "  warnings.warn(warnings_string)\n",
      "/Users/vigneshsella/Documents/GitHub/pyciemss/src/pyciemss/PetriNetODE/base.py:330: UserWarning: Parameter (('S', ('identity', 'ido:0000514'), ('vaccination_status', 'vo:0001377')), ('I', ('identity', 'ido:0000511')), ('I', ('identity', 'ido:0000511')), 'ControlledConversion', 'rate') has value None and will be set to Uniform(0, 1)\n",
      "  warnings.warn(warnings_string)\n",
      "/Users/vigneshsella/Documents/GitHub/pyciemss/src/pyciemss/PetriNetODE/base.py:330: UserWarning: Parameter (('V1', ('identity', 'ido:0000514'), ('vaccination_status', 'askemo:0000018')), ('IV', ('identity', 'ido:0000511'), ('vaccination_status', 'vo:0001376')), ('I', ('identity', 'ido:0000511')), 'ControlledConversion', 'rate') has value None and will be set to Uniform(0, 1)\n",
      "  warnings.warn(warnings_string)\n",
      "/Users/vigneshsella/Documents/GitHub/pyciemss/src/pyciemss/PetriNetODE/base.py:330: UserWarning: Parameter (('V2', ('identity', 'ido:0000514'), ('vaccination_status', 'askemo:0000019')), ('IV', ('identity', 'ido:0000511'), ('vaccination_status', 'vo:0001376')), ('I', ('identity', 'ido:0000511')), 'ControlledConversion', 'rate') has value None and will be set to Uniform(0, 1)\n",
      "  warnings.warn(warnings_string)\n",
      "/Users/vigneshsella/Documents/GitHub/pyciemss/src/pyciemss/PetriNetODE/base.py:330: UserWarning: Parameter (('R', ('identity', 'ido:0000514'), ('disease_severity', 'ido:0000592')), ('AR', ('identity', 'ido:0000511'), ('disease_severity', 'ncit:C3833')), ('I', ('identity', 'ido:0000511')), 'ControlledConversion', 'rate') has value None and will be set to Uniform(0, 1)\n",
      "  warnings.warn(warnings_string)\n",
      "/Users/vigneshsella/Documents/GitHub/pyciemss/src/pyciemss/PetriNetODE/base.py:330: UserWarning: Parameter (('R', ('identity', 'ido:0000514'), ('disease_severity', 'ido:0000592')), ('IR', ('identity', 'ido:0000511'), ('disease_history', 'ido:0000592')), ('I', ('identity', 'ido:0000511')), 'ControlledConversion', 'rate') has value None and will be set to Uniform(0, 1)\n",
      "  warnings.warn(warnings_string)\n",
      "/Users/vigneshsella/Documents/GitHub/pyciemss/src/pyciemss/PetriNetODE/base.py:330: UserWarning: Parameter (('S', ('identity', 'ido:0000514'), ('vaccination_status', 'vo:0001377')), ('A', ('identity', 'ido:0000511'), ('disease_severity', 'ncit:C3833')), ('IV', ('identity', 'ido:0000511'), ('vaccination_status', 'vo:0001376')), 'ControlledConversion', 'rate') has value None and will be set to Uniform(0, 1)\n",
      "  warnings.warn(warnings_string)\n",
      "/Users/vigneshsella/Documents/GitHub/pyciemss/src/pyciemss/PetriNetODE/base.py:330: UserWarning: Parameter (('V1', ('identity', 'ido:0000514'), ('vaccination_status', 'askemo:0000018')), ('A', ('identity', 'ido:0000511'), ('disease_severity', 'ncit:C3833')), ('IV', ('identity', 'ido:0000511'), ('vaccination_status', 'vo:0001376')), 'ControlledConversion', 'rate') has value None and will be set to Uniform(0, 1)\n",
      "  warnings.warn(warnings_string)\n",
      "/Users/vigneshsella/Documents/GitHub/pyciemss/src/pyciemss/PetriNetODE/base.py:330: UserWarning: Parameter (('V2', ('identity', 'ido:0000514'), ('vaccination_status', 'askemo:0000019')), ('A', ('identity', 'ido:0000511'), ('disease_severity', 'ncit:C3833')), ('IV', ('identity', 'ido:0000511'), ('vaccination_status', 'vo:0001376')), 'ControlledConversion', 'rate') has value None and will be set to Uniform(0, 1)\n",
      "  warnings.warn(warnings_string)\n",
      "/Users/vigneshsella/Documents/GitHub/pyciemss/src/pyciemss/PetriNetODE/base.py:330: UserWarning: Parameter (('S', ('identity', 'ido:0000514'), ('vaccination_status', 'vo:0001377')), ('I', ('identity', 'ido:0000511')), ('IV', ('identity', 'ido:0000511'), ('vaccination_status', 'vo:0001376')), 'ControlledConversion', 'rate') has value None and will be set to Uniform(0, 1)\n",
      "  warnings.warn(warnings_string)\n",
      "/Users/vigneshsella/Documents/GitHub/pyciemss/src/pyciemss/PetriNetODE/base.py:330: UserWarning: Parameter (('V1', ('identity', 'ido:0000514'), ('vaccination_status', 'askemo:0000018')), ('IV', ('identity', 'ido:0000511'), ('vaccination_status', 'vo:0001376')), ('IV', ('identity', 'ido:0000511'), ('vaccination_status', 'vo:0001376')), 'ControlledConversion', 'rate') has value None and will be set to Uniform(0, 1)\n",
      "  warnings.warn(warnings_string)\n",
      "/Users/vigneshsella/Documents/GitHub/pyciemss/src/pyciemss/PetriNetODE/base.py:330: UserWarning: Parameter (('V2', ('identity', 'ido:0000514'), ('vaccination_status', 'askemo:0000019')), ('IV', ('identity', 'ido:0000511'), ('vaccination_status', 'vo:0001376')), ('IV', ('identity', 'ido:0000511'), ('vaccination_status', 'vo:0001376')), 'ControlledConversion', 'rate') has value None and will be set to Uniform(0, 1)\n",
      "  warnings.warn(warnings_string)\n",
      "/Users/vigneshsella/Documents/GitHub/pyciemss/src/pyciemss/PetriNetODE/base.py:330: UserWarning: Parameter (('R', ('identity', 'ido:0000514'), ('disease_severity', 'ido:0000592')), ('AR', ('identity', 'ido:0000511'), ('disease_severity', 'ncit:C3833')), ('IV', ('identity', 'ido:0000511'), ('vaccination_status', 'vo:0001376')), 'ControlledConversion', 'rate') has value None and will be set to Uniform(0, 1)\n",
      "  warnings.warn(warnings_string)\n",
      "/Users/vigneshsella/Documents/GitHub/pyciemss/src/pyciemss/PetriNetODE/base.py:330: UserWarning: Parameter (('R', ('identity', 'ido:0000514'), ('disease_severity', 'ido:0000592')), ('IR', ('identity', 'ido:0000511'), ('disease_history', 'ido:0000592')), ('IV', ('identity', 'ido:0000511'), ('vaccination_status', 'vo:0001376')), 'ControlledConversion', 'rate') has value None and will be set to Uniform(0, 1)\n",
      "  warnings.warn(warnings_string)\n",
      "/Users/vigneshsella/Documents/GitHub/pyciemss/src/pyciemss/PetriNetODE/base.py:330: UserWarning: Parameter (('S', ('identity', 'ido:0000514'), ('vaccination_status', 'vo:0001377')), ('A', ('identity', 'ido:0000511'), ('disease_severity', 'ncit:C3833')), ('IR', ('identity', 'ido:0000511'), ('disease_history', 'ido:0000592')), 'ControlledConversion', 'rate') has value None and will be set to Uniform(0, 1)\n",
      "  warnings.warn(warnings_string)\n",
      "/Users/vigneshsella/Documents/GitHub/pyciemss/src/pyciemss/PetriNetODE/base.py:330: UserWarning: Parameter (('V1', ('identity', 'ido:0000514'), ('vaccination_status', 'askemo:0000018')), ('A', ('identity', 'ido:0000511'), ('disease_severity', 'ncit:C3833')), ('IR', ('identity', 'ido:0000511'), ('disease_history', 'ido:0000592')), 'ControlledConversion', 'rate') has value None and will be set to Uniform(0, 1)\n",
      "  warnings.warn(warnings_string)\n",
      "/Users/vigneshsella/Documents/GitHub/pyciemss/src/pyciemss/PetriNetODE/base.py:330: UserWarning: Parameter (('V2', ('identity', 'ido:0000514'), ('vaccination_status', 'askemo:0000019')), ('A', ('identity', 'ido:0000511'), ('disease_severity', 'ncit:C3833')), ('IR', ('identity', 'ido:0000511'), ('disease_history', 'ido:0000592')), 'ControlledConversion', 'rate') has value None and will be set to Uniform(0, 1)\n",
      "  warnings.warn(warnings_string)\n",
      "/Users/vigneshsella/Documents/GitHub/pyciemss/src/pyciemss/PetriNetODE/base.py:330: UserWarning: Parameter (('S', ('identity', 'ido:0000514'), ('vaccination_status', 'vo:0001377')), ('I', ('identity', 'ido:0000511')), ('IR', ('identity', 'ido:0000511'), ('disease_history', 'ido:0000592')), 'ControlledConversion', 'rate') has value None and will be set to Uniform(0, 1)\n",
      "  warnings.warn(warnings_string)\n",
      "/Users/vigneshsella/Documents/GitHub/pyciemss/src/pyciemss/PetriNetODE/base.py:330: UserWarning: Parameter (('V1', ('identity', 'ido:0000514'), ('vaccination_status', 'askemo:0000018')), ('IV', ('identity', 'ido:0000511'), ('vaccination_status', 'vo:0001376')), ('IR', ('identity', 'ido:0000511'), ('disease_history', 'ido:0000592')), 'ControlledConversion', 'rate') has value None and will be set to Uniform(0, 1)\n",
      "  warnings.warn(warnings_string)\n",
      "/Users/vigneshsella/Documents/GitHub/pyciemss/src/pyciemss/PetriNetODE/base.py:330: UserWarning: Parameter (('V2', ('identity', 'ido:0000514'), ('vaccination_status', 'askemo:0000019')), ('IV', ('identity', 'ido:0000511'), ('vaccination_status', 'vo:0001376')), ('IR', ('identity', 'ido:0000511'), ('disease_history', 'ido:0000592')), 'ControlledConversion', 'rate') has value None and will be set to Uniform(0, 1)\n",
      "  warnings.warn(warnings_string)\n",
      "/Users/vigneshsella/Documents/GitHub/pyciemss/src/pyciemss/PetriNetODE/base.py:330: UserWarning: Parameter (('R', ('identity', 'ido:0000514'), ('disease_severity', 'ido:0000592')), ('AR', ('identity', 'ido:0000511'), ('disease_severity', 'ncit:C3833')), ('IR', ('identity', 'ido:0000511'), ('disease_history', 'ido:0000592')), 'ControlledConversion', 'rate') has value None and will be set to Uniform(0, 1)\n",
      "  warnings.warn(warnings_string)\n",
      "/Users/vigneshsella/Documents/GitHub/pyciemss/src/pyciemss/PetriNetODE/base.py:330: UserWarning: Parameter (('R', ('identity', 'ido:0000514'), ('disease_severity', 'ido:0000592')), ('IR', ('identity', 'ido:0000511'), ('disease_history', 'ido:0000592')), ('IR', ('identity', 'ido:0000511'), ('disease_history', 'ido:0000592')), 'ControlledConversion', 'rate') has value None and will be set to Uniform(0, 1)\n",
      "  warnings.warn(warnings_string)\n",
      "/Users/vigneshsella/Documents/GitHub/pyciemss/src/pyciemss/PetriNetODE/base.py:330: UserWarning: Parameter (('S', ('identity', 'ido:0000514'), ('vaccination_status', 'vo:0001377')), ('A', ('identity', 'ido:0000511'), ('disease_severity', 'ncit:C3833')), ('A', ('identity', 'ido:0000511'), ('disease_severity', 'ncit:C3833')), 'ControlledConversion', 'rate') has value None and will be set to Uniform(0, 1)\n",
      "  warnings.warn(warnings_string)\n",
      "/Users/vigneshsella/Documents/GitHub/pyciemss/src/pyciemss/PetriNetODE/base.py:330: UserWarning: Parameter (('V1', ('identity', 'ido:0000514'), ('vaccination_status', 'askemo:0000018')), ('A', ('identity', 'ido:0000511'), ('disease_severity', 'ncit:C3833')), ('A', ('identity', 'ido:0000511'), ('disease_severity', 'ncit:C3833')), 'ControlledConversion', 'rate') has value None and will be set to Uniform(0, 1)\n",
      "  warnings.warn(warnings_string)\n",
      "/Users/vigneshsella/Documents/GitHub/pyciemss/src/pyciemss/PetriNetODE/base.py:330: UserWarning: Parameter (('V2', ('identity', 'ido:0000514'), ('vaccination_status', 'askemo:0000019')), ('A', ('identity', 'ido:0000511'), ('disease_severity', 'ncit:C3833')), ('A', ('identity', 'ido:0000511'), ('disease_severity', 'ncit:C3833')), 'ControlledConversion', 'rate') has value None and will be set to Uniform(0, 1)\n",
      "  warnings.warn(warnings_string)\n",
      "/Users/vigneshsella/Documents/GitHub/pyciemss/src/pyciemss/PetriNetODE/base.py:330: UserWarning: Parameter (('S', ('identity', 'ido:0000514'), ('vaccination_status', 'vo:0001377')), ('I', ('identity', 'ido:0000511')), ('A', ('identity', 'ido:0000511'), ('disease_severity', 'ncit:C3833')), 'ControlledConversion', 'rate') has value None and will be set to Uniform(0, 1)\n",
      "  warnings.warn(warnings_string)\n",
      "/Users/vigneshsella/Documents/GitHub/pyciemss/src/pyciemss/PetriNetODE/base.py:330: UserWarning: Parameter (('V1', ('identity', 'ido:0000514'), ('vaccination_status', 'askemo:0000018')), ('IV', ('identity', 'ido:0000511'), ('vaccination_status', 'vo:0001376')), ('A', ('identity', 'ido:0000511'), ('disease_severity', 'ncit:C3833')), 'ControlledConversion', 'rate') has value None and will be set to Uniform(0, 1)\n",
      "  warnings.warn(warnings_string)\n",
      "/Users/vigneshsella/Documents/GitHub/pyciemss/src/pyciemss/PetriNetODE/base.py:330: UserWarning: Parameter (('V2', ('identity', 'ido:0000514'), ('vaccination_status', 'askemo:0000019')), ('IV', ('identity', 'ido:0000511'), ('vaccination_status', 'vo:0001376')), ('A', ('identity', 'ido:0000511'), ('disease_severity', 'ncit:C3833')), 'ControlledConversion', 'rate') has value None and will be set to Uniform(0, 1)\n",
      "  warnings.warn(warnings_string)\n",
      "/Users/vigneshsella/Documents/GitHub/pyciemss/src/pyciemss/PetriNetODE/base.py:330: UserWarning: Parameter (('R', ('identity', 'ido:0000514'), ('disease_severity', 'ido:0000592')), ('AR', ('identity', 'ido:0000511'), ('disease_severity', 'ncit:C3833')), ('A', ('identity', 'ido:0000511'), ('disease_severity', 'ncit:C3833')), 'ControlledConversion', 'rate') has value None and will be set to Uniform(0, 1)\n",
      "  warnings.warn(warnings_string)\n",
      "/Users/vigneshsella/Documents/GitHub/pyciemss/src/pyciemss/PetriNetODE/base.py:330: UserWarning: Parameter (('R', ('identity', 'ido:0000514'), ('disease_severity', 'ido:0000592')), ('IR', ('identity', 'ido:0000511'), ('disease_history', 'ido:0000592')), ('A', ('identity', 'ido:0000511'), ('disease_severity', 'ncit:C3833')), 'ControlledConversion', 'rate') has value None and will be set to Uniform(0, 1)\n",
      "  warnings.warn(warnings_string)\n",
      "/Users/vigneshsella/Documents/GitHub/pyciemss/src/pyciemss/PetriNetODE/base.py:330: UserWarning: Parameter (('S', ('identity', 'ido:0000514'), ('vaccination_status', 'vo:0001377')), ('A', ('identity', 'ido:0000511'), ('disease_severity', 'ncit:C3833')), ('AR', ('identity', 'ido:0000511'), ('disease_severity', 'ncit:C3833')), 'ControlledConversion', 'rate') has value None and will be set to Uniform(0, 1)\n",
      "  warnings.warn(warnings_string)\n",
      "/Users/vigneshsella/Documents/GitHub/pyciemss/src/pyciemss/PetriNetODE/base.py:330: UserWarning: Parameter (('V1', ('identity', 'ido:0000514'), ('vaccination_status', 'askemo:0000018')), ('A', ('identity', 'ido:0000511'), ('disease_severity', 'ncit:C3833')), ('AR', ('identity', 'ido:0000511'), ('disease_severity', 'ncit:C3833')), 'ControlledConversion', 'rate') has value None and will be set to Uniform(0, 1)\n",
      "  warnings.warn(warnings_string)\n",
      "/Users/vigneshsella/Documents/GitHub/pyciemss/src/pyciemss/PetriNetODE/base.py:330: UserWarning: Parameter (('V2', ('identity', 'ido:0000514'), ('vaccination_status', 'askemo:0000019')), ('A', ('identity', 'ido:0000511'), ('disease_severity', 'ncit:C3833')), ('AR', ('identity', 'ido:0000511'), ('disease_severity', 'ncit:C3833')), 'ControlledConversion', 'rate') has value None and will be set to Uniform(0, 1)\n",
      "  warnings.warn(warnings_string)\n",
      "/Users/vigneshsella/Documents/GitHub/pyciemss/src/pyciemss/PetriNetODE/base.py:330: UserWarning: Parameter (('S', ('identity', 'ido:0000514'), ('vaccination_status', 'vo:0001377')), ('I', ('identity', 'ido:0000511')), ('AR', ('identity', 'ido:0000511'), ('disease_severity', 'ncit:C3833')), 'ControlledConversion', 'rate') has value None and will be set to Uniform(0, 1)\n",
      "  warnings.warn(warnings_string)\n",
      "/Users/vigneshsella/Documents/GitHub/pyciemss/src/pyciemss/PetriNetODE/base.py:330: UserWarning: Parameter (('V1', ('identity', 'ido:0000514'), ('vaccination_status', 'askemo:0000018')), ('IV', ('identity', 'ido:0000511'), ('vaccination_status', 'vo:0001376')), ('AR', ('identity', 'ido:0000511'), ('disease_severity', 'ncit:C3833')), 'ControlledConversion', 'rate') has value None and will be set to Uniform(0, 1)\n",
      "  warnings.warn(warnings_string)\n",
      "/Users/vigneshsella/Documents/GitHub/pyciemss/src/pyciemss/PetriNetODE/base.py:330: UserWarning: Parameter (('V2', ('identity', 'ido:0000514'), ('vaccination_status', 'askemo:0000019')), ('IV', ('identity', 'ido:0000511'), ('vaccination_status', 'vo:0001376')), ('AR', ('identity', 'ido:0000511'), ('disease_severity', 'ncit:C3833')), 'ControlledConversion', 'rate') has value None and will be set to Uniform(0, 1)\n",
      "  warnings.warn(warnings_string)\n",
      "/Users/vigneshsella/Documents/GitHub/pyciemss/src/pyciemss/PetriNetODE/base.py:330: UserWarning: Parameter (('R', ('identity', 'ido:0000514'), ('disease_severity', 'ido:0000592')), ('AR', ('identity', 'ido:0000511'), ('disease_severity', 'ncit:C3833')), ('AR', ('identity', 'ido:0000511'), ('disease_severity', 'ncit:C3833')), 'ControlledConversion', 'rate') has value None and will be set to Uniform(0, 1)\n",
      "  warnings.warn(warnings_string)\n",
      "/Users/vigneshsella/Documents/GitHub/pyciemss/src/pyciemss/PetriNetODE/base.py:330: UserWarning: Parameter (('R', ('identity', 'ido:0000514'), ('disease_severity', 'ido:0000592')), ('IR', ('identity', 'ido:0000511'), ('disease_history', 'ido:0000592')), ('AR', ('identity', 'ido:0000511'), ('disease_severity', 'ncit:C3833')), 'ControlledConversion', 'rate') has value None and will be set to Uniform(0, 1)\n",
      "  warnings.warn(warnings_string)\n",
      "/Users/vigneshsella/Documents/GitHub/pyciemss/src/pyciemss/PetriNetODE/base.py:330: UserWarning: Parameter (('S', ('identity', 'ido:0000514'), ('vaccination_status', 'vo:0001377')), ('V1', ('identity', 'ido:0000514'), ('vaccination_status', 'askemo:0000018')), 'NaturalConversion', 'rate') has value None and will be set to Uniform(0, 1)\n",
      "  warnings.warn(warnings_string)\n",
      "/Users/vigneshsella/Documents/GitHub/pyciemss/src/pyciemss/PetriNetODE/base.py:330: UserWarning: Parameter (('A', ('identity', 'ido:0000511'), ('disease_severity', 'ncit:C3833')), ('V1', ('identity', 'ido:0000514'), ('vaccination_status', 'askemo:0000018')), 'NaturalConversion', 'rate') has value None and will be set to Uniform(0, 1)\n",
      "  warnings.warn(warnings_string)\n",
      "/Users/vigneshsella/Documents/GitHub/pyciemss/src/pyciemss/PetriNetODE/base.py:330: UserWarning: Parameter (('V1', ('identity', 'ido:0000514'), ('vaccination_status', 'askemo:0000018')), ('V2', ('identity', 'ido:0000514'), ('vaccination_status', 'askemo:0000019')), 'NaturalConversion', 'rate') has value None and will be set to Uniform(0, 1)\n",
      "  warnings.warn(warnings_string)\n"
     ]
    },
    {
     "data": {
      "image/png": "[encoded data removed]",
      "text/plain": [
       "<Figure size 1000x400 with 1 Axes>"
      ]
     },
     "metadata": {},
     "output_type": "display_data"
    }
   ],
   "source": [
    "implement_0day_samples = load_and_sample_petri_model(\n",
    "        SEIRD_model_path, num_samples, timepoints=timepoints)\n",
    "QoIs = aggregate_results(implement_0day_samples, num_samples=num_samples)\n",
    "plot_all_QoIs(timepoints, S=QoIs[\"S_sol\"][0]*100, V=QoIs[\"V1_sol\"][0]+QoIs[\"V2_sol\"][0]*100, I=QoIs[\"I_sol\"][0]*100, R=QoIs[\"R_sol\"][0]*100, A=QoIs[\"A_sol\"][0]*100,\\\n",
    "              title=\"Wild Type Variant + No Vaccines\")"
   ]
  },
  {
   "cell_type": "code",
   "execution_count": 7,
   "id": "39e9bdfe",
   "metadata": {},
   "outputs": [
    {
     "name": "stdout",
     "output_type": "stream",
     "text": [
      "I_peak:  10.91%\n",
      "A_peak:  12.83%\n",
      "I_peak_time:  tensor(261.7000)\n",
      "A_peak_time:  tensor(262.)\n",
      " I(t) and A(t) peak in August, earlier than they do in the paper (December). They also peak with a significantly larger magnitude, \n",
      "    with a max of ~12% of the total population becoming infected and asymptomatically infected, compared to the paper's ~0.34%.\n",
      "    Given the fact that this simulation considers one variant (wild type) and no vaccinations, this seems like a plausible result.\n",
      "    \n"
     ]
    }
   ],
   "source": [
    "# Find I_Sol and A_sol peak and time to peak\n",
    "I_sol = QoIs[\"I_sol\"][0]\n",
    "A_sol = QoIs[\"A_sol\"][0]\n",
    "I_peak = np.max(I_sol)\n",
    "A_peak = np.max(A_sol)\n",
    "I_peak_time = np.argmax(I_sol)\n",
    "A_peak_time = np.argmax(A_sol)\n",
    "# Format percent to be two decimals\n",
    "print(\"I_peak: \", f\"{I_peak*100:.2f}%\") \n",
    "print(\"A_peak: \", f\"{A_peak*100:.2f}%\")\n",
    "print(\"I_peak_time: \", timepoints[I_peak_time])\n",
    "print(\"A_peak_time: \", timepoints[A_peak_time])\n",
    "print(\n",
    "    \"\"\" I(t) and A(t) peak in August, earlier than they do in the paper (December). They also peak with a significantly larger magnitude, \n",
    "    with a max of ~12% of the total population becoming infected and asymptomatically infected, compared to the paper's ~0.34%.\n",
    "    Given the fact that this simulation considers one variant (wild type) and no vaccinations, this seems like a plausible result.\n",
    "    \"\"\"\n",
    ")"
   ]
  },
  {
   "cell_type": "markdown",
   "id": "6b084d43",
   "metadata": {},
   "source": [
    "### PART 2 - Extend the model to include multiple strains and (two) vaccine types\n",
    "**(A) and (B)** TA1/TA2 extract and/or transform the model to include variants and vaccines. \\\n",
    "New schematic for transitions involving susceptible individuals:\n",
    "\n",
    "<div>\n",
    "<img src=\"attachment:image-2.png\" width=\"300\" align=\"left\"/>\n",
    "</div>"
   ]
  },
  {
   "cell_type": "markdown",
   "id": "400867f1",
   "metadata": {},
   "source": [
    "**(C) TA3 TASK 2:** Simulate the model over the two-year period from January 1, 2020 to December 31, 2021. \n",
    " - Include the two vaccine types: Pfizer and AstraZeneca\n",
    " - Include three COVID-19 variants/strains: Wild Type, Alpha, and Delta (ignore Omicron for now) \n",
    " - Initial conditions: assume the entire population of Ontario is susceptible, except for 15 infected symptomatic individuals\n",
    " - Reproduce *Figs. 3a, b, d, and e*\n",
    "\n",
    "<div>\n",
    "<img src=\"attachment:image-2.png\" width=\"300\" align=\"left\"/>\n",
    "</div>"
   ]
  },
  {
   "cell_type": "code",
   "execution_count": 8,
   "id": "d768ac8c",
   "metadata": {},
   "outputs": [],
   "source": [
    "# TODO: Waiting on TA1/2 to produce the AMR."
   ]
  },
  {
   "cell_type": "markdown",
   "id": "b5eee698",
   "metadata": {},
   "source": [
    "### PART 3\n",
    "**(D) TA3 TASK 3:** Implement the three additional scenarios described below, and used in the paper to create Fig. 7, and simulate from January 1, 2020 - December 31, 2021: \n",
    "1. Assume that a smaller percentage of vaccinations were with Pfizer, but keep the total vaccinations the same as in 2c. Given that the Pfizer vaccine offered stronger protection against all variants, compared to AstraZeneca, what is the impact?\n",
    "2. Assume a lower provincial vaccination rate compared to the baseline percentage of 74% of the population vaccinated by September 1st, 2021. \n",
    "3. Assume less stringent NPIs than what actually took place. \n",
    "\n",
    "Qualitatively compare with simulations in Fig. 7, where: \n",
    "1. “PZ/AZ,” lower fraction of vaccines being Pfizer (from 95 to 40%), with the reduction made up with AstraZeneca, which offers reduced protection from Delta infections and a longer dosing delay\n",
    "2. “Vac rate,” vaccination rate reduced by 20%\n",
    "3. “NPI”, less stringent lockdown measured, with mobility increased by 25%\n",
    "\n",
    "<div>\n",
    "<img src=\"attachment:image.png\" width=\"300\" align=\"left\"/>\n",
    "</div>"
   ]
  },
  {
   "cell_type": "markdown",
   "id": "1ef54650",
   "metadata": {},
   "source": [
    "### PART 4 - Omicron Variant\n",
    "**(A)** TA2 simplifies the model structure to consider multiple vaccines, but only the Delta and Omicron variants \\\n",
    "**(B) TA3 TASK 4:** Using epidemiological data for Ontario (https://storage.googleapis.com/covid19-open-data/v3/location/CA_ON.csv) and summary data on Omicron-related characteristics (https://www.cdc.gov/mmwr/volumes/71/wr/mm7137a4.htm) to set relevant model parameters, simulate the simplified model from July to December 2021 and compare with the hypothetical outcomes with the fictitious Neos variant as in Fig. 9\n",
    "\n",
    "<div>\n",
    "<img src=\"attachment:image.png\" width=\"600\" align=\"left\"/>\n",
    "</div>"
   ]
  },
  {
   "cell_type": "markdown",
   "id": "b1d2e787",
   "metadata": {},
   "source": [
    "### PART 5 - Change the model setting to the United States\n",
    "**(A)** TA1 updates parameter values for the US, and changes vaccine types to (1) Moderna and Pfizer mRNA and (2) Janssen/J&J viral vector vaccine. \\\n",
    "**(B) TA3 TASK 5:** With the updated US-specific AMR, rerun the simulation from January 1, 2020 to December 31, 2021. How do the outcomes compare with Question 2c?"
   ]
  },
  {
   "cell_type": "markdown",
   "id": "a3d8f7d0",
   "metadata": {},
   "source": []
  }
 ],
 "metadata": {
  "kernelspec": {
   "display_name": "Python CIEMSS",
   "language": "python",
   "name": "ciemss_env"
  },
  "language_info": {
   "codemirror_mode": {
    "name": "ipython",
    "version": 3
   },
   "file_extension": ".py",
   "mimetype": "text/x-python",
   "name": "python",
   "nbconvert_exporter": "python",
   "pygments_lexer": "ipython3",
   "version": "3.9.13"
  }
 },
 "nbformat": 4,
 "nbformat_minor": 5
}
