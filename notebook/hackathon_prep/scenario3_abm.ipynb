{
 "cells": [
  {
   "cell_type": "markdown",
   "id": "6d0c5195",
   "metadata": {},
   "source": [
    "This is about running ABMs with COmplexVID-19"
   ]
  },
  {
   "cell_type": "code",
   "execution_count": 9,
   "id": "fbab91eb",
   "metadata": {},
   "outputs": [],
   "source": [
    "import sys\n",
    "sys.path.append(\"/src/pyciemss/utils/complexvid_scabini\")\n",
    "from pyciemss.utils.complexvid_scabini import comunities\n",
    "from pyciemss.utils.complexvid_scabini import model\n",
    "from pyciemss.utils.complexvid_scabini import dynamics_OTM"
   ]
  },
  {
   "cell_type": "code",
   "execution_count": null,
   "id": "afacaba8",
   "metadata": {},
   "outputs": [],
   "source": []
  }
 ],
 "metadata": {
  "kernelspec": {
   "display_name": "Python 3 (ipykernel)",
   "language": "python",
   "name": "python3"
  },
  "language_info": {
   "codemirror_mode": {
    "name": "ipython",
    "version": 3
   },
   "file_extension": ".py",
   "mimetype": "text/x-python",
   "name": "python",
   "nbconvert_exporter": "python",
   "pygments_lexer": "ipython3",
   "version": "3.10.9"
  }
 },
 "nbformat": 4,
 "nbformat_minor": 5
}
