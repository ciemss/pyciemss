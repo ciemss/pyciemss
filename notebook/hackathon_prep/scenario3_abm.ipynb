{
 "cells": [
  {
   "cell_type": "markdown",
   "id": "6d0c5195",
   "metadata": {},
   "source": [
    "This is about running ABMs with COmplexVID-19"
   ]
  },
  {
   "cell_type": "code",
   "execution_count": 2,
   "id": "fbab91eb",
   "metadata": {},
   "outputs": [
    {
     "ename": "ModuleNotFoundError",
     "evalue": "No module named 'requests'",
     "output_type": "error",
     "traceback": [
      "\u001b[0;31m---------------------------------------------------------------------------\u001b[0m",
      "\u001b[0;31mModuleNotFoundError\u001b[0m                       Traceback (most recent call last)",
      "Cell \u001b[0;32mIn[2], line 1\u001b[0m\n\u001b[0;32m----> 1\u001b[0m \u001b[38;5;28;01mfrom\u001b[39;00m \u001b[38;5;21;01mpyciemss\u001b[39;00m\u001b[38;5;21;01m.\u001b[39;00m\u001b[38;5;21;01mutils\u001b[39;00m\u001b[38;5;21;01m.\u001b[39;00m\u001b[38;5;21;01mcomplexvid_scabini\u001b[39;00m\u001b[38;5;21;01m.\u001b[39;00m\u001b[38;5;21;01mdynamics_OTM\u001b[39;00m \u001b[38;5;28;01mimport\u001b[39;00m \u001b[38;5;241m*\u001b[39m\n",
      "File \u001b[0;32m~/Projects/pyciemss/src/pyciemss/utils/__init__.py:1\u001b[0m\n\u001b[0;32m----> 1\u001b[0m \u001b[38;5;28;01mfrom\u001b[39;00m \u001b[38;5;21;01m.\u001b[39;00m\u001b[38;5;21;01mpetri_utils\u001b[39;00m \u001b[38;5;28;01mimport\u001b[39;00m (seq_id_suffix,\n\u001b[1;32m      2\u001b[0m                           reparameterize,\n\u001b[1;32m      3\u001b[0m            load_sim_result,\n\u001b[1;32m      4\u001b[0m            load,\n\u001b[1;32m      5\u001b[0m            draw_petri,\n\u001b[1;32m      6\u001b[0m            natural_order,\n\u001b[1;32m      7\u001b[0m            add_state_indicies,\n\u001b[1;32m      8\u001b[0m            register_template,\n\u001b[1;32m      9\u001b[0m            natural_conversion,\n\u001b[1;32m     10\u001b[0m            natural_degradation,\n\u001b[1;32m     11\u001b[0m            natural_order,\n\u001b[1;32m     12\u001b[0m            controlled_conversion,\n\u001b[1;32m     13\u001b[0m            grouped_controlled_conversion,\n\u001b[1;32m     14\u001b[0m            deterministic,\n\u001b[1;32m     15\u001b[0m            petri_to_ode,\n\u001b[1;32m     16\u001b[0m            order_state,\n\u001b[1;32m     17\u001b[0m            unorder_state,\n\u001b[1;32m     18\u001b[0m            duplicate_petri_net,\n\u001b[1;32m     19\u001b[0m            intervene_petri_net)\n\u001b[1;32m     20\u001b[0m \u001b[38;5;28;01mfrom\u001b[39;00m \u001b[38;5;21;01m.\u001b[39;00m\u001b[38;5;21;01minference_utils\u001b[39;00m \u001b[38;5;28;01mimport\u001b[39;00m (get_tspan,\n\u001b[1;32m     21\u001b[0m                               state_flux_constraint,\n\u001b[1;32m     22\u001b[0m                               run_inference,\n\u001b[1;32m     23\u001b[0m                               is_density_equal,\n\u001b[1;32m     24\u001b[0m                               is_intervention_density_equal)\n\u001b[1;32m     25\u001b[0m \u001b[38;5;28;01mfrom\u001b[39;00m \u001b[38;5;21;01m.\u001b[39;00m\u001b[38;5;21;01mplot_utils\u001b[39;00m \u001b[38;5;28;01mimport\u001b[39;00m (setup_ax,\n\u001b[1;32m     26\u001b[0m            plot_predictive,\n\u001b[1;32m     27\u001b[0m            plot_trajectory,\n\u001b[0;32m   (...)\u001b[0m\n\u001b[1;32m     30\u001b[0m            sideaxis,\n\u001b[1;32m     31\u001b[0m            sideaxishist)\n",
      "File \u001b[0;32m~/Projects/pyciemss/src/pyciemss/utils/petri_utils.py:9\u001b[0m\n\u001b[1;32m      7\u001b[0m \u001b[38;5;28;01mimport\u001b[39;00m \u001b[38;5;21;01mnumbers\u001b[39;00m\n\u001b[1;32m      8\u001b[0m \u001b[38;5;28;01mfrom\u001b[39;00m \u001b[38;5;21;01mtyping\u001b[39;00m \u001b[38;5;28;01mimport\u001b[39;00m TypedDict, Literal, TypeVar, Optional, Callable, List, Tuple, Dict, Union, NamedTuple\n\u001b[0;32m----> 9\u001b[0m \u001b[38;5;28;01mimport\u001b[39;00m \u001b[38;5;21;01mrequests\u001b[39;00m\n\u001b[1;32m     10\u001b[0m \u001b[38;5;28;01mimport\u001b[39;00m \u001b[38;5;21;01mtorch\u001b[39;00m\n\u001b[1;32m     11\u001b[0m \u001b[38;5;28;01mimport\u001b[39;00m \u001b[38;5;21;01mnumpy\u001b[39;00m\n",
      "\u001b[0;31mModuleNotFoundError\u001b[0m: No module named 'requests'"
     ]
    }
   ],
   "source": [
    "from pyciemss.utils.complexvid_scabini.dynamics_OTM import *"
   ]
  },
  {
   "cell_type": "code",
   "execution_count": null,
   "id": "afacaba8",
   "metadata": {},
   "outputs": [],
   "source": []
  }
 ],
 "metadata": {
  "kernelspec": {
   "display_name": "Python 3 (ipykernel)",
   "language": "python",
   "name": "python3"
  },
  "language_info": {
   "codemirror_mode": {
    "name": "ipython",
    "version": 3
   },
   "file_extension": ".py",
   "mimetype": "text/x-python",
   "name": "python",
   "nbconvert_exporter": "python",
   "pygments_lexer": "ipython3",
   "version": "3.10.9"
  }
 },
 "nbformat": 4,
 "nbformat_minor": 5
}
