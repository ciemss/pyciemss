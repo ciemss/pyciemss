{
 "cells": [
  {
   "cell_type": "code",
   "execution_count": 20,
   "id": "1c8e7493",
   "metadata": {},
   "outputs": [],
   "source": [
    "import os\n",
    "from IPython.display import HTML\n",
    "from IPython import display\n",
    "from pyciemss.PetriNetODE.interfaces import (\n",
    "    load_and_sample_petri_model,\n",
    "    load_and_calibrate_and_sample_petri_model,\n",
    "    load_petri_model,\n",
    "    setup_petri_model,\n",
    "    sample\n",
    ")\n",
    "import numpy as np\n",
    "from typing import Iterable\n",
    "from pyciemss.utils.interface_utils import (\n",
    "    assign_interventions_to_timepoints,\n",
    "    interventions_and_sampled_params_to_interval,\n",
    "    convert_to_output_format\n",
    ")\n",
    "from pyciemss.utils import get_tspan\n",
    "import matplotlib.pyplot as plt\n",
    "import torch\n",
    "from torch import tensor"
   ]
  },
  {
   "attachments": {},
   "cell_type": "markdown",
   "id": "50c652ff",
   "metadata": {},
   "source": [
    "Plotting utils"
   ]
  },
  {
   "cell_type": "code",
   "execution_count": 7,
   "id": "1e3199e5",
   "metadata": {},
   "outputs": [],
   "source": [
    "COLORS=['red','green','blue','black','gold','purple','orangered']\n",
    "# TODO: Add plot title, axis labels\n",
    "\n",
    "# def plot_allsolns(samples_df, title):\n",
    "#     QoIs = [\"D_sol\", \"E_sol\", \"I_sol\", \"R_sol\", \"S_sol\"]\n",
    "#     QoI_samples = {key: None for key in QoIs}\n",
    "#     for QoI in QoIs:\n",
    "#         # Aggregate results\n",
    "#         total_pop = samples_df[samples_df[\"sample_id\"] == 0][\"S_sol\"].to_numpy()[0]\n",
    "#         QoI_samples[QoI] = [samples_df[samples_df[\"sample_id\"] == i][QoI].to_numpy()/total_pop * 100 for i in range(num_samples)]\n",
    "#     # Plot median of all QoIs\n",
    "#     fig, ax = plt.subplots()\n",
    "#     for i, QoI in enumerate(QoIs):\n",
    "#         ax.plot(timepoints, np.percentile(QoI_samples[QoI], 50, axis=0), color=COLORS[i], label=QoI)\n",
    "#         ax.set_title(title)\n",
    "#         ax.legend()\n",
    "def aggregate_results(samples_df, num_samples=1):\n",
    "    QoIs = [\"D_sol\", \"E_sol\", \"I_sol\", \"R_sol\", \"S_sol\"]\n",
    "    all_QoIs = {key: None for key in QoIs}\n",
    "    for QoI in QoIs:\n",
    "        # Aggregate results\n",
    "        total_pop = samples_df[samples_df[\"sample_id\"] == 0][\"S_sol\"].to_numpy()[0]\n",
    "        all_QoIs[QoI] = [samples_df[samples_df[\"sample_id\"] == i][QoI].to_numpy()/total_pop * 100 for i in range(num_samples)]\n",
    "    return all_QoIs"
   ]
  },
  {
   "cell_type": "code",
   "execution_count": 8,
   "id": "d62d843c",
   "metadata": {},
   "outputs": [],
   "source": [
    "def plotseird(t, S, E, I, R, D=None, L=None, R0=None, Alpha=None, CFR=None):\n",
    "    f, ax = plt.subplots(1,1,figsize=(10,4))\n",
    "    ax.plot(t, (S/N)*100, 'b--', alpha=0.7, linewidth=2, label='Susceptible')\n",
    "    ax.plot(t, (E/N)*100, 'y.', alpha=0.7, linewidth=2, label='Exposed')\n",
    "    ax.plot(t, (I/N)*100, 'r', alpha=0.7, linewidth=2, label='Infected')\n",
    "    ax.plot(t, (R/N)*100, 'g-.', alpha=0.7, linewidth=2, label='Recovered')\n",
    "  \n",
    "    if D is not None:\n",
    "        ax.plot(t, D/N, 'k', alpha=0.7, linewidth=2, label='Dead')\n",
    "        ax.plot(t, ((S+E+I+R+D)/N)*100, 'c:', alpha=0.7, linewidth=2, label='Total')\n",
    "    else:\n",
    "        ax.plot(t, ((S+E+I+R)/N)*100, 'c:', alpha=0.7, linewidth=2, label='Total')\n",
    "\n",
    "    ax.set_xlabel('Time (days)')\n",
    "    ax.set_ylabel('Percentage of Population (%)')\n",
    "\n",
    "    ax.yaxis.set_tick_params(length=0)\n",
    "    ax.xaxis.set_tick_params(length=0)\n",
    "    ax.grid(b=True, which='major', c='w', lw=2, ls='-')\n",
    "    legend = ax.legend(borderpad=2.0)\n",
    "    legend.get_frame().set_alpha(0.5)\n",
    "    for spine in ('top', 'right', 'bottom', 'left'):\n",
    "        ax.spines[spine].set_visible(False)\n",
    "    if L is not None:\n",
    "        plt.title(\"Lockdown after {} days\".format(L))\n",
    "    plt.show();\n",
    "\n",
    "    if R0 is not None or CFR is not None:\n",
    "       f = plt.figure(figsize=(12,4))\n",
    "    \n",
    "    if R0 is not None:\n",
    "        # sp1\n",
    "        ax1 = f.add_subplot(121)\n",
    "        ax1.plot(t, R0, 'b--', alpha=0.7, linewidth=2, label='R_0')\n",
    "\n",
    "        ax1.set_xlabel('Time (days)')\n",
    "        ax1.title.set_text('R_0 over time')\n",
    "        # ax.set_ylabel('Number (1000s)')\n",
    "        # ax.set_ylim(0,1.2)\n",
    "        ax1.yaxis.set_tick_params(length=0)\n",
    "        ax1.xaxis.set_tick_params(length=0)\n",
    "        ax1.grid(b=True, which='major', c='w', lw=2, ls='-')\n",
    "        legend = ax1.legend()\n",
    "        legend.get_frame().set_alpha(0.5)\n",
    "        for spine in ('top', 'right', 'bottom', 'left'):\n",
    "            ax.spines[spine].set_visible(False)\n",
    "\n",
    "    if Alpha is not None:\n",
    "        # sp2\n",
    "        ax2 = f.add_subplot(122)\n",
    "        ax2.plot(t, Alpha, 'r--', alpha=0.7, linewidth=2, label='alpha')\n",
    "\n",
    "        ax2.set_xlabel('Time (days)')\n",
    "        ax2.title.set_text('fatality rate over time')\n",
    "        # ax.set_ylabel('Number (1000s)')\n",
    "        # ax.set_ylim(0,1.2)\n",
    "        ax2.yaxis.set_tick_params(length=0)\n",
    "        ax2.xaxis.set_tick_params(length=0)\n",
    "        ax2.grid(b=True, which='major', c='w', lw=2, ls='-')\n",
    "        legend = ax2.legend()\n",
    "        legend.get_frame().set_alpha(0.5)\n",
    "        for spine in ('top', 'right', 'bottom', 'left'):\n",
    "            ax.spines[spine].set_visible(False)\n",
    "\n",
    "    plt.show()"
   ]
  },
  {
   "attachments": {},
   "cell_type": "markdown",
   "id": "fd9370ca",
   "metadata": {},
   "source": [
    "# SCENARIO 1: Forecasting with non-pharmaceutical interventions (NPIs) such as, masking and social distancing. \n",
    "\n",
    "**\"You want to implement a masking intervention in a simple compartmental model and simulate epidemic trajectories under different compliance scenarios. You found an existing model that incorporates masking as a time-dependent modification to the $\\beta$ parameter, and you want to ensure that the model is working as expected by reproducing plots in the publication\"**"
   ]
  },
  {
   "attachments": {},
   "cell_type": "markdown",
   "id": "3d8dbcf3",
   "metadata": {},
   "source": [
    "### PART 1\n",
    "**(A)** TA1/TA2 provide the AMR for a COVID-19 model with compartments SEIRD (Susceptible, Exposed, Infected, Recovered, Death) and, importantly, a time-dependent transmission rate $\\beta$. A mask order may be implemented $t_0$ days after the first case is detected (at time $t = 0$), and $\\beta$ varies in time according to the effectiveness of the NPI under various levels of compliance.\\\n",
    "Transmission rate $\\beta(t)$ is defined as, \\begin{align} \\beta(t) &= \\kappa m(t) \\\\\n",
    "m(t) &= \\beta_c + \\frac{\\beta_s - \\beta_c}{1 + e^{-k (t_0 - t)}},\n",
    "\\end{align}\n",
    "where $\\kappa$ is an arbitrary constant, and $m(t)$ represents adoption of a mask order $t_0$ days after the first case is detected, assuming 100% compliance. \\\n",
    "Model Source: https://doi.org/10.3390/ijerph18179027 \\\n",
    "AMR location: https://github.com/indralab/mira/blob/hackathon/notebooks/hackathon_2023.07/scenario1_a.json \n",
    "\n",
    "Model Schematic:\n",
    "\n",
    "<div>\n",
    "<img src=\"https://i.imgur.com/GXshSZH.png\" width=\"600\" align=\"left\"/>\n",
    "</div>"
   ]
  },
  {
   "cell_type": "code",
   "execution_count": 9,
   "id": "af756436",
   "metadata": {},
   "outputs": [],
   "source": [
    "DEMO_PATH = \"scenario1.ipynb\"\n",
    "\n",
    "SEIRD_model_path = \"scenario1_a.json\""
   ]
  },
  {
   "attachments": {},
   "cell_type": "markdown",
   "id": "05bf9d37",
   "metadata": {},
   "source": [
    "### TA3 TASK 1:\n",
    "**(B)** Perform model simulation with various delays ($t_0$ values) in mask order implementation, and reproduce Fig. 3, including peak prevalence estimates. \n",
    "\n",
    "Figure 3 from the paper\n",
    "<div>\n",
    "<img src=\"https://i.imgur.com/u41OiB6.png\" width=\"500\" align=\"left\"/>\n",
    "</div>"
   ]
  },
  {
   "attachments": {},
   "cell_type": "markdown",
   "id": "968b26fb",
   "metadata": {},
   "source": [
    "Simulation Parameters"
   ]
  },
  {
   "cell_type": "code",
   "execution_count": 10,
   "id": "595a9cdf",
   "metadata": {},
   "outputs": [],
   "source": [
    "num_samples = 1\n",
    "start_time = 0\n",
    "end_time = 365\n",
    "num_timepoints = (end_time-start_time)*10 + 1\n",
    "timepoints = get_tspan(start_time, end_time, num_timepoints)"
   ]
  },
  {
   "attachments": {},
   "cell_type": "markdown",
   "id": "b671237f",
   "metadata": {},
   "source": [
    "Delayed Masking Implementation"
   ]
  },
  {
   "attachments": {},
   "cell_type": "markdown",
   "id": "656b3a2b",
   "metadata": {},
   "source": [
    "Modifying modified logistic function ($m(t)$ in the paper)\n",
    "\n",
    "Used to model this transition by setting the infection rate before and after implementing mask mandate assuming 100% compliance."
   ]
  },
  {
   "cell_type": "code",
   "execution_count": 11,
   "id": "03766294",
   "metadata": {},
   "outputs": [],
   "source": [
    "# def modify_logistic_func(t, t0=0, k=1, beta_c=0.4, beta_s=1):\n",
    "#     return beta_c + (beta_s-beta_c)/(1+np.exp(-1*k*(t0-t)))"
   ]
  },
  {
   "attachments": {},
   "cell_type": "markdown",
   "id": "91101c5a",
   "metadata": {},
   "source": [
    "Acquire array of betas for intervention according to  $\\beta(t) = \\kappa m(t)$\n",
    "\n",
    "Note: In order to intervene on a distribution of $\\beta$ values, randomly sampled values of $\\beta_s$ can be passed in respectively"
   ]
  },
  {
   "cell_type": "code",
   "execution_count": 12,
   "id": "e64f055b",
   "metadata": {},
   "outputs": [],
   "source": [
    "# def get_intervention_betas(start_intervene_day, start_day, end_day, kappa=1, beta_s=1, beta_c=0.4):\n",
    "#     intervention_time = np.arange(start_day,end_day+1) + 1e-6\n",
    "#     m = [modify_logistic_func(t,t0=start_intervene_day) for t in intervention_time]\n",
    "#     intervened_beta_values = kappa*m\n",
    "#     return [(intervention_time[i], 'beta_s', intervened_beta_values[i]) for i in range(len(intervention_time))]"
   ]
  },
  {
   "attachments": {},
   "cell_type": "markdown",
   "id": "7dbea42b",
   "metadata": {},
   "source": [
    "Reproduction of figure 1 from the paper"
   ]
  },
  {
   "cell_type": "code",
   "execution_count": 13,
   "id": "105f0580",
   "metadata": {},
   "outputs": [],
   "source": [
    "# intervention_time = np.arange(start_time,end_time+1)\n",
    "# m = [modify_logistic_func(t,t0=89) for t in intervention_time]\n",
    "# plt.plot(intervention_time, m)"
   ]
  },
  {
   "attachments": {},
   "cell_type": "markdown",
   "id": "d2f78dea",
   "metadata": {},
   "source": [
    "#### Figure 3 Recreation\n",
    "\n",
    "Case A - 0 Days Delay of Mask Mandate"
   ]
  },
  {
   "cell_type": "code",
   "execution_count": 14,
   "id": "2040f1eb",
   "metadata": {},
   "outputs": [],
   "source": [
    "intervened_t0 = [(1e-6,'t_0',0)]\n",
    "implement_0day_samples = load_and_sample_petri_model(\n",
    "    SEIRD_model_path, num_samples, timepoints=timepoints, interventions=intervened_t0\n",
    ")"
   ]
  },
  {
   "attachments": {},
   "cell_type": "markdown",
   "id": "0aab9805",
   "metadata": {},
   "source": [
    "Case B - 50 Days Delay of Mask Mandate"
   ]
  },
  {
   "cell_type": "code",
   "execution_count": 15,
   "id": "026a51dc",
   "metadata": {},
   "outputs": [],
   "source": [
    "intervened_t0 = [(50+1e-6,'t_0',50)]\n",
    "implement_50day_samples = load_and_sample_petri_model(\n",
    "    SEIRD_model_path, num_samples, timepoints=timepoints, interventions=intervened_t0\n",
    ")"
   ]
  },
  {
   "attachments": {},
   "cell_type": "markdown",
   "id": "655597ef",
   "metadata": {},
   "source": [
    "Case C - 100 Days Delay of Mask Mandate"
   ]
  },
  {
   "cell_type": "code",
   "execution_count": 16,
   "id": "c77544b6-9a96-4af7-a22b-ca6ea45c6a89",
   "metadata": {},
   "outputs": [],
   "source": [
    "intervened_t0 = [(100+1e-6,'t_0',100)]\n",
    "implement_100day_samples = load_and_sample_petri_model(\n",
    "    SEIRD_model_path, num_samples, timepoints=timepoints, interventions=intervened_t0\n",
    ")"
   ]
  },
  {
   "attachments": {},
   "cell_type": "markdown",
   "id": "e667beca",
   "metadata": {},
   "source": [
    "Case D - Control (no intervention)"
   ]
  },
  {
   "cell_type": "code",
   "execution_count": 18,
   "id": "637c8ade",
   "metadata": {},
   "outputs": [
    {
     "ename": "TypeError",
     "evalue": "getattr(): attribute name must be string",
     "output_type": "error",
     "traceback": [
      "\u001b[0;31m---------------------------------------------------------------------------\u001b[0m",
      "\u001b[0;31mTypeError\u001b[0m                                 Traceback (most recent call last)",
      "Cell \u001b[0;32mIn[18], line 2\u001b[0m\n\u001b[1;32m      1\u001b[0m \u001b[39m# intervened_betas = [(1e-6,'beta_s',1)]\u001b[39;00m\n\u001b[0;32m----> 2\u001b[0m control_samples \u001b[39m=\u001b[39m load_and_sample_petri_model(\n\u001b[1;32m      3\u001b[0m     SEIRD_model_path, num_samples, timepoints\u001b[39m=\u001b[39;49mtimepoints)\n",
      "File \u001b[0;32m~/Documents/GitHub/pyciemss/src/pyciemss/PetriNetODE/interfaces.py:113\u001b[0m, in \u001b[0;36mload_and_sample_petri_model\u001b[0;34m(petri_model_or_path, num_samples, timepoints, interventions, start_state, pseudocount, start_time, method, compile_rate_law_p)\u001b[0m\n\u001b[1;32m    107\u001b[0m     intervention_events \u001b[39m=\u001b[39m [\n\u001b[1;32m    108\u001b[0m         StaticParameterInterventionEvent(timepoint, parameter, value)\n\u001b[1;32m    109\u001b[0m         \u001b[39mfor\u001b[39;00m timepoint, parameter, value \u001b[39min\u001b[39;00m interventions\n\u001b[1;32m    110\u001b[0m     ]\n\u001b[1;32m    111\u001b[0m     model\u001b[39m.\u001b[39mload_events(intervention_events)\n\u001b[0;32m--> 113\u001b[0m samples \u001b[39m=\u001b[39m sample(\n\u001b[1;32m    114\u001b[0m     model,\n\u001b[1;32m    115\u001b[0m     timepoints,\n\u001b[1;32m    116\u001b[0m     num_samples,\n\u001b[1;32m    117\u001b[0m     method\u001b[39m=\u001b[39;49mmethod,\n\u001b[1;32m    118\u001b[0m )\n\u001b[1;32m    119\u001b[0m \u001b[39m# Fix the parameters here with reparameterize.\u001b[39;00m\n\u001b[1;32m    121\u001b[0m processed_samples \u001b[39m=\u001b[39m convert_to_output_format(samples, timepoints, interventions\u001b[39m=\u001b[39minterventions)\n",
      "File \u001b[0;32m/usr/local/Cellar/python@3.9/3.9.13_1/Frameworks/Python.framework/Versions/3.9/lib/python3.9/functools.py:888\u001b[0m, in \u001b[0;36msingledispatch.<locals>.wrapper\u001b[0;34m(*args, **kw)\u001b[0m\n\u001b[1;32m    884\u001b[0m \u001b[39mif\u001b[39;00m \u001b[39mnot\u001b[39;00m args:\n\u001b[1;32m    885\u001b[0m     \u001b[39mraise\u001b[39;00m \u001b[39mTypeError\u001b[39;00m(\u001b[39mf\u001b[39m\u001b[39m'\u001b[39m\u001b[39m{\u001b[39;00mfuncname\u001b[39m}\u001b[39;00m\u001b[39m requires at least \u001b[39m\u001b[39m'\u001b[39m\n\u001b[1;32m    886\u001b[0m                     \u001b[39m'\u001b[39m\u001b[39m1 positional argument\u001b[39m\u001b[39m'\u001b[39m)\n\u001b[0;32m--> 888\u001b[0m \u001b[39mreturn\u001b[39;00m dispatch(args[\u001b[39m0\u001b[39;49m]\u001b[39m.\u001b[39;49m\u001b[39m__class__\u001b[39;49m)(\u001b[39m*\u001b[39;49margs, \u001b[39m*\u001b[39;49m\u001b[39m*\u001b[39;49mkw)\n",
      "File \u001b[0;32m~/Documents/GitHub/pyciemss/src/pyciemss/PetriNetODE/interfaces.py:363\u001b[0m, in \u001b[0;36msample_petri\u001b[0;34m(petri, timepoints, num_samples, inferred_parameters, method)\u001b[0m\n\u001b[1;32m    361\u001b[0m new_petri \u001b[39m=\u001b[39m copy\u001b[39m.\u001b[39mdeepcopy(petri)\n\u001b[1;32m    362\u001b[0m new_petri\u001b[39m.\u001b[39mload_events(logging_events)\n\u001b[0;32m--> 363\u001b[0m \u001b[39mreturn\u001b[39;00m Predictive(new_petri, guide\u001b[39m=\u001b[39;49minferred_parameters, num_samples\u001b[39m=\u001b[39;49mnum_samples)(\n\u001b[1;32m    364\u001b[0m     method\u001b[39m=\u001b[39;49mmethod\n\u001b[1;32m    365\u001b[0m )\n",
      "File \u001b[0;32m~/Documents/GitHub/pyciemss/.venv/lib/python3.9/site-packages/torch/nn/modules/module.py:1501\u001b[0m, in \u001b[0;36mModule._call_impl\u001b[0;34m(self, *args, **kwargs)\u001b[0m\n\u001b[1;32m   1496\u001b[0m \u001b[39m# If we don't have any hooks, we want to skip the rest of the logic in\u001b[39;00m\n\u001b[1;32m   1497\u001b[0m \u001b[39m# this function, and just call forward.\u001b[39;00m\n\u001b[1;32m   1498\u001b[0m \u001b[39mif\u001b[39;00m \u001b[39mnot\u001b[39;00m (\u001b[39mself\u001b[39m\u001b[39m.\u001b[39m_backward_hooks \u001b[39mor\u001b[39;00m \u001b[39mself\u001b[39m\u001b[39m.\u001b[39m_backward_pre_hooks \u001b[39mor\u001b[39;00m \u001b[39mself\u001b[39m\u001b[39m.\u001b[39m_forward_hooks \u001b[39mor\u001b[39;00m \u001b[39mself\u001b[39m\u001b[39m.\u001b[39m_forward_pre_hooks\n\u001b[1;32m   1499\u001b[0m         \u001b[39mor\u001b[39;00m _global_backward_pre_hooks \u001b[39mor\u001b[39;00m _global_backward_hooks\n\u001b[1;32m   1500\u001b[0m         \u001b[39mor\u001b[39;00m _global_forward_hooks \u001b[39mor\u001b[39;00m _global_forward_pre_hooks):\n\u001b[0;32m-> 1501\u001b[0m     \u001b[39mreturn\u001b[39;00m forward_call(\u001b[39m*\u001b[39;49margs, \u001b[39m*\u001b[39;49m\u001b[39m*\u001b[39;49mkwargs)\n\u001b[1;32m   1502\u001b[0m \u001b[39m# Do not call functions when jit is used\u001b[39;00m\n\u001b[1;32m   1503\u001b[0m full_backward_hooks, non_full_backward_hooks \u001b[39m=\u001b[39m [], []\n",
      "File \u001b[0;32m~/Documents/GitHub/pyciemss/.venv/lib/python3.9/site-packages/pyro/infer/predictive.py:273\u001b[0m, in \u001b[0;36mPredictive.forward\u001b[0;34m(self, *args, **kwargs)\u001b[0m\n\u001b[1;32m    263\u001b[0m     return_sites \u001b[39m=\u001b[39m \u001b[39mNone\u001b[39;00m \u001b[39mif\u001b[39;00m \u001b[39mnot\u001b[39;00m return_sites \u001b[39melse\u001b[39;00m return_sites\n\u001b[1;32m    264\u001b[0m     posterior_samples \u001b[39m=\u001b[39m _predictive(\n\u001b[1;32m    265\u001b[0m         \u001b[39mself\u001b[39m\u001b[39m.\u001b[39mguide,\n\u001b[1;32m    266\u001b[0m         posterior_samples,\n\u001b[0;32m   (...)\u001b[0m\n\u001b[1;32m    271\u001b[0m         model_kwargs\u001b[39m=\u001b[39mkwargs,\n\u001b[1;32m    272\u001b[0m     )\n\u001b[0;32m--> 273\u001b[0m \u001b[39mreturn\u001b[39;00m _predictive(\n\u001b[1;32m    274\u001b[0m     \u001b[39mself\u001b[39;49m\u001b[39m.\u001b[39;49mmodel,\n\u001b[1;32m    275\u001b[0m     posterior_samples,\n\u001b[1;32m    276\u001b[0m     \u001b[39mself\u001b[39;49m\u001b[39m.\u001b[39;49mnum_samples,\n\u001b[1;32m    277\u001b[0m     return_sites\u001b[39m=\u001b[39;49mreturn_sites,\n\u001b[1;32m    278\u001b[0m     parallel\u001b[39m=\u001b[39;49m\u001b[39mself\u001b[39;49m\u001b[39m.\u001b[39;49mparallel,\n\u001b[1;32m    279\u001b[0m     model_args\u001b[39m=\u001b[39;49margs,\n\u001b[1;32m    280\u001b[0m     model_kwargs\u001b[39m=\u001b[39;49mkwargs,\n\u001b[1;32m    281\u001b[0m )\n",
      "File \u001b[0;32m~/Documents/GitHub/pyciemss/.venv/lib/python3.9/site-packages/pyro/infer/predictive.py:78\u001b[0m, in \u001b[0;36m_predictive\u001b[0;34m(model, posterior_samples, num_samples, return_sites, return_trace, parallel, model_args, model_kwargs)\u001b[0m\n\u001b[1;32m     67\u001b[0m \u001b[39mdef\u001b[39;00m \u001b[39m_predictive\u001b[39m(\n\u001b[1;32m     68\u001b[0m     model,\n\u001b[1;32m     69\u001b[0m     posterior_samples,\n\u001b[0;32m   (...)\u001b[0m\n\u001b[1;32m     75\u001b[0m     model_kwargs\u001b[39m=\u001b[39m{},\n\u001b[1;32m     76\u001b[0m ):\n\u001b[1;32m     77\u001b[0m     model \u001b[39m=\u001b[39m torch\u001b[39m.\u001b[39mno_grad()(poutine\u001b[39m.\u001b[39mmask(model, mask\u001b[39m=\u001b[39m\u001b[39mFalse\u001b[39;00m))\n\u001b[0;32m---> 78\u001b[0m     max_plate_nesting \u001b[39m=\u001b[39m _guess_max_plate_nesting(model, model_args, model_kwargs)\n\u001b[1;32m     79\u001b[0m     vectorize \u001b[39m=\u001b[39m pyro\u001b[39m.\u001b[39mplate(\n\u001b[1;32m     80\u001b[0m         \u001b[39m\"\u001b[39m\u001b[39m_num_predictive_samples\u001b[39m\u001b[39m\"\u001b[39m, num_samples, dim\u001b[39m=\u001b[39m\u001b[39m-\u001b[39mmax_plate_nesting \u001b[39m-\u001b[39m \u001b[39m1\u001b[39m\n\u001b[1;32m     81\u001b[0m     )\n\u001b[1;32m     82\u001b[0m     model_trace \u001b[39m=\u001b[39m prune_subsample_sites(\n\u001b[1;32m     83\u001b[0m         poutine\u001b[39m.\u001b[39mtrace(model)\u001b[39m.\u001b[39mget_trace(\u001b[39m*\u001b[39mmodel_args, \u001b[39m*\u001b[39m\u001b[39m*\u001b[39mmodel_kwargs)\n\u001b[1;32m     84\u001b[0m     )\n",
      "File \u001b[0;32m~/Documents/GitHub/pyciemss/.venv/lib/python3.9/site-packages/pyro/infer/predictive.py:21\u001b[0m, in \u001b[0;36m_guess_max_plate_nesting\u001b[0;34m(model, args, kwargs)\u001b[0m\n\u001b[1;32m     15\u001b[0m \u001b[39m\u001b[39m\u001b[39m\"\"\"\u001b[39;00m\n\u001b[1;32m     16\u001b[0m \u001b[39mGuesses max_plate_nesting by running the model once\u001b[39;00m\n\u001b[1;32m     17\u001b[0m \u001b[39mwithout enumeration. This optimistically assumes static model\u001b[39;00m\n\u001b[1;32m     18\u001b[0m \u001b[39mstructure.\u001b[39;00m\n\u001b[1;32m     19\u001b[0m \u001b[39m\"\"\"\u001b[39;00m\n\u001b[1;32m     20\u001b[0m \u001b[39mwith\u001b[39;00m poutine\u001b[39m.\u001b[39mblock():\n\u001b[0;32m---> 21\u001b[0m     model_trace \u001b[39m=\u001b[39m poutine\u001b[39m.\u001b[39;49mtrace(model)\u001b[39m.\u001b[39;49mget_trace(\u001b[39m*\u001b[39;49margs, \u001b[39m*\u001b[39;49m\u001b[39m*\u001b[39;49mkwargs)\n\u001b[1;32m     22\u001b[0m sites \u001b[39m=\u001b[39m [site \u001b[39mfor\u001b[39;00m site \u001b[39min\u001b[39;00m model_trace\u001b[39m.\u001b[39mnodes\u001b[39m.\u001b[39mvalues() \u001b[39mif\u001b[39;00m site[\u001b[39m\"\u001b[39m\u001b[39mtype\u001b[39m\u001b[39m\"\u001b[39m] \u001b[39m==\u001b[39m \u001b[39m\"\u001b[39m\u001b[39msample\u001b[39m\u001b[39m\"\u001b[39m]\n\u001b[1;32m     24\u001b[0m dims \u001b[39m=\u001b[39m [\n\u001b[1;32m     25\u001b[0m     frame\u001b[39m.\u001b[39mdim\n\u001b[1;32m     26\u001b[0m     \u001b[39mfor\u001b[39;00m site \u001b[39min\u001b[39;00m sites\n\u001b[1;32m     27\u001b[0m     \u001b[39mfor\u001b[39;00m frame \u001b[39min\u001b[39;00m site[\u001b[39m\"\u001b[39m\u001b[39mcond_indep_stack\u001b[39m\u001b[39m\"\u001b[39m]\n\u001b[1;32m     28\u001b[0m     \u001b[39mif\u001b[39;00m frame\u001b[39m.\u001b[39mvectorized\n\u001b[1;32m     29\u001b[0m ]\n",
      "File \u001b[0;32m~/Documents/GitHub/pyciemss/.venv/lib/python3.9/site-packages/pyro/poutine/trace_messenger.py:198\u001b[0m, in \u001b[0;36mTraceHandler.get_trace\u001b[0;34m(self, *args, **kwargs)\u001b[0m\n\u001b[1;32m    190\u001b[0m \u001b[39mdef\u001b[39;00m \u001b[39mget_trace\u001b[39m(\u001b[39mself\u001b[39m, \u001b[39m*\u001b[39margs, \u001b[39m*\u001b[39m\u001b[39m*\u001b[39mkwargs):\n\u001b[1;32m    191\u001b[0m \u001b[39m    \u001b[39m\u001b[39m\"\"\"\u001b[39;00m\n\u001b[1;32m    192\u001b[0m \u001b[39m    :returns: data structure\u001b[39;00m\n\u001b[1;32m    193\u001b[0m \u001b[39m    :rtype: pyro.poutine.Trace\u001b[39;00m\n\u001b[0;32m   (...)\u001b[0m\n\u001b[1;32m    196\u001b[0m \u001b[39m    Calls this poutine and returns its trace instead of the function's return value.\u001b[39;00m\n\u001b[1;32m    197\u001b[0m \u001b[39m    \"\"\"\u001b[39;00m\n\u001b[0;32m--> 198\u001b[0m     \u001b[39mself\u001b[39;49m(\u001b[39m*\u001b[39;49margs, \u001b[39m*\u001b[39;49m\u001b[39m*\u001b[39;49mkwargs)\n\u001b[1;32m    199\u001b[0m     \u001b[39mreturn\u001b[39;00m \u001b[39mself\u001b[39m\u001b[39m.\u001b[39mmsngr\u001b[39m.\u001b[39mget_trace()\n",
      "File \u001b[0;32m~/Documents/GitHub/pyciemss/.venv/lib/python3.9/site-packages/pyro/poutine/trace_messenger.py:174\u001b[0m, in \u001b[0;36mTraceHandler.__call__\u001b[0;34m(self, *args, **kwargs)\u001b[0m\n\u001b[1;32m    170\u001b[0m \u001b[39mself\u001b[39m\u001b[39m.\u001b[39mmsngr\u001b[39m.\u001b[39mtrace\u001b[39m.\u001b[39madd_node(\n\u001b[1;32m    171\u001b[0m     \u001b[39m\"\u001b[39m\u001b[39m_INPUT\u001b[39m\u001b[39m\"\u001b[39m, name\u001b[39m=\u001b[39m\u001b[39m\"\u001b[39m\u001b[39m_INPUT\u001b[39m\u001b[39m\"\u001b[39m, \u001b[39mtype\u001b[39m\u001b[39m=\u001b[39m\u001b[39m\"\u001b[39m\u001b[39margs\u001b[39m\u001b[39m\"\u001b[39m, args\u001b[39m=\u001b[39margs, kwargs\u001b[39m=\u001b[39mkwargs\n\u001b[1;32m    172\u001b[0m )\n\u001b[1;32m    173\u001b[0m \u001b[39mtry\u001b[39;00m:\n\u001b[0;32m--> 174\u001b[0m     ret \u001b[39m=\u001b[39m \u001b[39mself\u001b[39;49m\u001b[39m.\u001b[39;49mfn(\u001b[39m*\u001b[39;49margs, \u001b[39m*\u001b[39;49m\u001b[39m*\u001b[39;49mkwargs)\n\u001b[1;32m    175\u001b[0m \u001b[39mexcept\u001b[39;00m (\u001b[39mValueError\u001b[39;00m, \u001b[39mRuntimeError\u001b[39;00m) \u001b[39mas\u001b[39;00m e:\n\u001b[1;32m    176\u001b[0m     exc_type, exc_value, traceback \u001b[39m=\u001b[39m sys\u001b[39m.\u001b[39mexc_info()\n",
      "File \u001b[0;32m~/Documents/GitHub/pyciemss/.venv/lib/python3.9/site-packages/torch/utils/_contextlib.py:115\u001b[0m, in \u001b[0;36mcontext_decorator.<locals>.decorate_context\u001b[0;34m(*args, **kwargs)\u001b[0m\n\u001b[1;32m    112\u001b[0m \u001b[39m@functools\u001b[39m\u001b[39m.\u001b[39mwraps(func)\n\u001b[1;32m    113\u001b[0m \u001b[39mdef\u001b[39;00m \u001b[39mdecorate_context\u001b[39m(\u001b[39m*\u001b[39margs, \u001b[39m*\u001b[39m\u001b[39m*\u001b[39mkwargs):\n\u001b[1;32m    114\u001b[0m     \u001b[39mwith\u001b[39;00m ctx_factory():\n\u001b[0;32m--> 115\u001b[0m         \u001b[39mreturn\u001b[39;00m func(\u001b[39m*\u001b[39;49margs, \u001b[39m*\u001b[39;49m\u001b[39m*\u001b[39;49mkwargs)\n",
      "File \u001b[0;32m~/Documents/GitHub/pyciemss/.venv/lib/python3.9/site-packages/pyro/poutine/messenger.py:12\u001b[0m, in \u001b[0;36m_context_wrap\u001b[0;34m(context, fn, *args, **kwargs)\u001b[0m\n\u001b[1;32m     10\u001b[0m \u001b[39mdef\u001b[39;00m \u001b[39m_context_wrap\u001b[39m(context, fn, \u001b[39m*\u001b[39margs, \u001b[39m*\u001b[39m\u001b[39m*\u001b[39mkwargs):\n\u001b[1;32m     11\u001b[0m     \u001b[39mwith\u001b[39;00m context:\n\u001b[0;32m---> 12\u001b[0m         \u001b[39mreturn\u001b[39;00m fn(\u001b[39m*\u001b[39;49margs, \u001b[39m*\u001b[39;49m\u001b[39m*\u001b[39;49mkwargs)\n",
      "File \u001b[0;32m~/Documents/GitHub/pyciemss/.venv/lib/python3.9/site-packages/pyro/nn/module.py:449\u001b[0m, in \u001b[0;36mPyroModule.__call__\u001b[0;34m(self, *args, **kwargs)\u001b[0m\n\u001b[1;32m    447\u001b[0m \u001b[39mdef\u001b[39;00m \u001b[39m__call__\u001b[39m(\u001b[39mself\u001b[39m, \u001b[39m*\u001b[39margs, \u001b[39m*\u001b[39m\u001b[39m*\u001b[39mkwargs):\n\u001b[1;32m    448\u001b[0m     \u001b[39mwith\u001b[39;00m \u001b[39mself\u001b[39m\u001b[39m.\u001b[39m_pyro_context:\n\u001b[0;32m--> 449\u001b[0m         result \u001b[39m=\u001b[39m \u001b[39msuper\u001b[39;49m()\u001b[39m.\u001b[39;49m\u001b[39m__call__\u001b[39;49m(\u001b[39m*\u001b[39;49margs, \u001b[39m*\u001b[39;49m\u001b[39m*\u001b[39;49mkwargs)\n\u001b[1;32m    450\u001b[0m     \u001b[39mif\u001b[39;00m (\n\u001b[1;32m    451\u001b[0m         pyro\u001b[39m.\u001b[39msettings\u001b[39m.\u001b[39mget(\u001b[39m\"\u001b[39m\u001b[39mvalidate_poutine\u001b[39m\u001b[39m\"\u001b[39m)\n\u001b[1;32m    452\u001b[0m         \u001b[39mand\u001b[39;00m \u001b[39mnot\u001b[39;00m \u001b[39mself\u001b[39m\u001b[39m.\u001b[39m_pyro_context\u001b[39m.\u001b[39mactive\n\u001b[1;32m    453\u001b[0m         \u001b[39mand\u001b[39;00m _is_module_local_param_enabled()\n\u001b[1;32m    454\u001b[0m     ):\n\u001b[1;32m    455\u001b[0m         \u001b[39mself\u001b[39m\u001b[39m.\u001b[39m_check_module_local_param_usage()\n",
      "File \u001b[0;32m~/Documents/GitHub/pyciemss/.venv/lib/python3.9/site-packages/torch/nn/modules/module.py:1501\u001b[0m, in \u001b[0;36mModule._call_impl\u001b[0;34m(self, *args, **kwargs)\u001b[0m\n\u001b[1;32m   1496\u001b[0m \u001b[39m# If we don't have any hooks, we want to skip the rest of the logic in\u001b[39;00m\n\u001b[1;32m   1497\u001b[0m \u001b[39m# this function, and just call forward.\u001b[39;00m\n\u001b[1;32m   1498\u001b[0m \u001b[39mif\u001b[39;00m \u001b[39mnot\u001b[39;00m (\u001b[39mself\u001b[39m\u001b[39m.\u001b[39m_backward_hooks \u001b[39mor\u001b[39;00m \u001b[39mself\u001b[39m\u001b[39m.\u001b[39m_backward_pre_hooks \u001b[39mor\u001b[39;00m \u001b[39mself\u001b[39m\u001b[39m.\u001b[39m_forward_hooks \u001b[39mor\u001b[39;00m \u001b[39mself\u001b[39m\u001b[39m.\u001b[39m_forward_pre_hooks\n\u001b[1;32m   1499\u001b[0m         \u001b[39mor\u001b[39;00m _global_backward_pre_hooks \u001b[39mor\u001b[39;00m _global_backward_hooks\n\u001b[1;32m   1500\u001b[0m         \u001b[39mor\u001b[39;00m _global_forward_hooks \u001b[39mor\u001b[39;00m _global_forward_pre_hooks):\n\u001b[0;32m-> 1501\u001b[0m     \u001b[39mreturn\u001b[39;00m forward_call(\u001b[39m*\u001b[39;49margs, \u001b[39m*\u001b[39;49m\u001b[39m*\u001b[39;49mkwargs)\n\u001b[1;32m   1502\u001b[0m \u001b[39m# Do not call functions when jit is used\u001b[39;00m\n\u001b[1;32m   1503\u001b[0m full_backward_hooks, non_full_backward_hooks \u001b[39m=\u001b[39m [], []\n",
      "File \u001b[0;32m~/Documents/GitHub/pyciemss/src/pyciemss/interfaces.py:60\u001b[0m, in \u001b[0;36mDynamicalSystem.forward\u001b[0;34m(self, *args, **kwargs)\u001b[0m\n\u001b[1;32m     57\u001b[0m \u001b[39mself\u001b[39m\u001b[39m.\u001b[39mparam_prior()\n\u001b[1;32m     59\u001b[0m \u001b[39m# Solve the ODE\u001b[39;00m\n\u001b[0;32m---> 60\u001b[0m solution \u001b[39m=\u001b[39m \u001b[39mself\u001b[39;49m\u001b[39m.\u001b[39;49mget_solution(\u001b[39m*\u001b[39;49margs, \u001b[39m*\u001b[39;49m\u001b[39m*\u001b[39;49mkwargs)\n\u001b[1;32m     62\u001b[0m \u001b[39m# Add the observation likelihoods\u001b[39;00m\n\u001b[1;32m     63\u001b[0m \u001b[39mself\u001b[39m\u001b[39m.\u001b[39madd_observation_likelihoods(solution)\n",
      "File \u001b[0;32m~/Documents/GitHub/pyciemss/.venv/lib/python3.9/site-packages/pyro/nn/module.py:686\u001b[0m, in \u001b[0;36mpyro_method.<locals>.cached_fn\u001b[0;34m(self, *args, **kwargs)\u001b[0m\n\u001b[1;32m    683\u001b[0m \u001b[39m@functools\u001b[39m\u001b[39m.\u001b[39mwraps(fn)\n\u001b[1;32m    684\u001b[0m \u001b[39mdef\u001b[39;00m \u001b[39mcached_fn\u001b[39m(\u001b[39mself\u001b[39m, \u001b[39m*\u001b[39margs, \u001b[39m*\u001b[39m\u001b[39m*\u001b[39mkwargs):\n\u001b[1;32m    685\u001b[0m     \u001b[39mwith\u001b[39;00m \u001b[39mself\u001b[39m\u001b[39m.\u001b[39m_pyro_context:\n\u001b[0;32m--> 686\u001b[0m         \u001b[39mreturn\u001b[39;00m fn(\u001b[39mself\u001b[39;49m, \u001b[39m*\u001b[39;49margs, \u001b[39m*\u001b[39;49m\u001b[39m*\u001b[39;49mkwargs)\n",
      "File \u001b[0;32m~/Documents/GitHub/pyciemss/src/pyciemss/PetriNetODE/base.py:222\u001b[0m, in \u001b[0;36mPetriNetODESystem.get_solution\u001b[0;34m(self, method)\u001b[0m\n\u001b[1;32m    219\u001b[0m local_tspan \u001b[39m=\u001b[39m tspan[start:stop\u001b[39m+\u001b[39m\u001b[39m1\u001b[39m]\n\u001b[1;32m    221\u001b[0m \u001b[39m# Simulate from ODE with the new local tspan\u001b[39;00m\n\u001b[0;32m--> 222\u001b[0m local_solution \u001b[39m=\u001b[39m odeint(\u001b[39mself\u001b[39;49m\u001b[39m.\u001b[39;49mderiv, initial_state, local_tspan, method\u001b[39m=\u001b[39;49mmethod)\n\u001b[1;32m    224\u001b[0m \u001b[39m# Add the solution to the solutions list.\u001b[39;00m\n\u001b[1;32m    225\u001b[0m solutions\u001b[39m.\u001b[39mappend(\u001b[39mtuple\u001b[39m(s[\u001b[39m1\u001b[39m:] \u001b[39mfor\u001b[39;00m s \u001b[39min\u001b[39;00m local_solution))\n",
      "File \u001b[0;32m~/Documents/GitHub/pyciemss/.venv/lib/python3.9/site-packages/torchdiffeq/_impl/odeint.py:77\u001b[0m, in \u001b[0;36modeint\u001b[0;34m(func, y0, t, rtol, atol, method, options, event_fn)\u001b[0m\n\u001b[1;32m     74\u001b[0m solver \u001b[39m=\u001b[39m SOLVERS[method](func\u001b[39m=\u001b[39mfunc, y0\u001b[39m=\u001b[39my0, rtol\u001b[39m=\u001b[39mrtol, atol\u001b[39m=\u001b[39matol, \u001b[39m*\u001b[39m\u001b[39m*\u001b[39moptions)\n\u001b[1;32m     76\u001b[0m \u001b[39mif\u001b[39;00m event_fn \u001b[39mis\u001b[39;00m \u001b[39mNone\u001b[39;00m:\n\u001b[0;32m---> 77\u001b[0m     solution \u001b[39m=\u001b[39m solver\u001b[39m.\u001b[39;49mintegrate(t)\n\u001b[1;32m     78\u001b[0m \u001b[39melse\u001b[39;00m:\n\u001b[1;32m     79\u001b[0m     event_t, solution \u001b[39m=\u001b[39m solver\u001b[39m.\u001b[39mintegrate_until_event(t[\u001b[39m0\u001b[39m], event_fn)\n",
      "File \u001b[0;32m~/Documents/GitHub/pyciemss/.venv/lib/python3.9/site-packages/torchdiffeq/_impl/solvers.py:28\u001b[0m, in \u001b[0;36mAdaptiveStepsizeODESolver.integrate\u001b[0;34m(self, t)\u001b[0m\n\u001b[1;32m     26\u001b[0m solution[\u001b[39m0\u001b[39m] \u001b[39m=\u001b[39m \u001b[39mself\u001b[39m\u001b[39m.\u001b[39my0\n\u001b[1;32m     27\u001b[0m t \u001b[39m=\u001b[39m t\u001b[39m.\u001b[39mto(\u001b[39mself\u001b[39m\u001b[39m.\u001b[39mdtype)\n\u001b[0;32m---> 28\u001b[0m \u001b[39mself\u001b[39;49m\u001b[39m.\u001b[39;49m_before_integrate(t)\n\u001b[1;32m     29\u001b[0m \u001b[39mfor\u001b[39;00m i \u001b[39min\u001b[39;00m \u001b[39mrange\u001b[39m(\u001b[39m1\u001b[39m, \u001b[39mlen\u001b[39m(t)):\n\u001b[1;32m     30\u001b[0m     solution[i] \u001b[39m=\u001b[39m \u001b[39mself\u001b[39m\u001b[39m.\u001b[39m_advance(t[i])\n",
      "File \u001b[0;32m~/Documents/GitHub/pyciemss/.venv/lib/python3.9/site-packages/torchdiffeq/_impl/rk_common.py:161\u001b[0m, in \u001b[0;36mRKAdaptiveStepsizeODESolver._before_integrate\u001b[0;34m(self, t)\u001b[0m\n\u001b[1;32m    159\u001b[0m \u001b[39mdef\u001b[39;00m \u001b[39m_before_integrate\u001b[39m(\u001b[39mself\u001b[39m, t):\n\u001b[1;32m    160\u001b[0m     t0 \u001b[39m=\u001b[39m t[\u001b[39m0\u001b[39m]\n\u001b[0;32m--> 161\u001b[0m     f0 \u001b[39m=\u001b[39m \u001b[39mself\u001b[39;49m\u001b[39m.\u001b[39;49mfunc(t[\u001b[39m0\u001b[39;49m], \u001b[39mself\u001b[39;49m\u001b[39m.\u001b[39;49my0)\n\u001b[1;32m    162\u001b[0m     \u001b[39mif\u001b[39;00m \u001b[39mself\u001b[39m\u001b[39m.\u001b[39mfirst_step \u001b[39mis\u001b[39;00m \u001b[39mNone\u001b[39;00m:\n\u001b[1;32m    163\u001b[0m         first_step \u001b[39m=\u001b[39m _select_initial_step(\u001b[39mself\u001b[39m\u001b[39m.\u001b[39mfunc, t[\u001b[39m0\u001b[39m], \u001b[39mself\u001b[39m\u001b[39m.\u001b[39my0, \u001b[39mself\u001b[39m\u001b[39m.\u001b[39morder \u001b[39m-\u001b[39m \u001b[39m1\u001b[39m, \u001b[39mself\u001b[39m\u001b[39m.\u001b[39mrtol, \u001b[39mself\u001b[39m\u001b[39m.\u001b[39matol,\n\u001b[1;32m    164\u001b[0m                                           \u001b[39mself\u001b[39m\u001b[39m.\u001b[39mnorm, f0\u001b[39m=\u001b[39mf0)\n",
      "File \u001b[0;32m~/Documents/GitHub/pyciemss/.venv/lib/python3.9/site-packages/torch/nn/modules/module.py:1501\u001b[0m, in \u001b[0;36mModule._call_impl\u001b[0;34m(self, *args, **kwargs)\u001b[0m\n\u001b[1;32m   1496\u001b[0m \u001b[39m# If we don't have any hooks, we want to skip the rest of the logic in\u001b[39;00m\n\u001b[1;32m   1497\u001b[0m \u001b[39m# this function, and just call forward.\u001b[39;00m\n\u001b[1;32m   1498\u001b[0m \u001b[39mif\u001b[39;00m \u001b[39mnot\u001b[39;00m (\u001b[39mself\u001b[39m\u001b[39m.\u001b[39m_backward_hooks \u001b[39mor\u001b[39;00m \u001b[39mself\u001b[39m\u001b[39m.\u001b[39m_backward_pre_hooks \u001b[39mor\u001b[39;00m \u001b[39mself\u001b[39m\u001b[39m.\u001b[39m_forward_hooks \u001b[39mor\u001b[39;00m \u001b[39mself\u001b[39m\u001b[39m.\u001b[39m_forward_pre_hooks\n\u001b[1;32m   1499\u001b[0m         \u001b[39mor\u001b[39;00m _global_backward_pre_hooks \u001b[39mor\u001b[39;00m _global_backward_hooks\n\u001b[1;32m   1500\u001b[0m         \u001b[39mor\u001b[39;00m _global_forward_hooks \u001b[39mor\u001b[39;00m _global_forward_pre_hooks):\n\u001b[0;32m-> 1501\u001b[0m     \u001b[39mreturn\u001b[39;00m forward_call(\u001b[39m*\u001b[39;49margs, \u001b[39m*\u001b[39;49m\u001b[39m*\u001b[39;49mkwargs)\n\u001b[1;32m   1502\u001b[0m \u001b[39m# Do not call functions when jit is used\u001b[39;00m\n\u001b[1;32m   1503\u001b[0m full_backward_hooks, non_full_backward_hooks \u001b[39m=\u001b[39m [], []\n",
      "File \u001b[0;32m~/Documents/GitHub/pyciemss/.venv/lib/python3.9/site-packages/torchdiffeq/_impl/misc.py:189\u001b[0m, in \u001b[0;36m_PerturbFunc.forward\u001b[0;34m(self, t, y, perturb)\u001b[0m\n\u001b[1;32m    186\u001b[0m \u001b[39melse\u001b[39;00m:\n\u001b[1;32m    187\u001b[0m     \u001b[39m# Do nothing.\u001b[39;00m\n\u001b[1;32m    188\u001b[0m     \u001b[39mpass\u001b[39;00m\n\u001b[0;32m--> 189\u001b[0m \u001b[39mreturn\u001b[39;00m \u001b[39mself\u001b[39;49m\u001b[39m.\u001b[39;49mbase_func(t, y)\n",
      "File \u001b[0;32m~/Documents/GitHub/pyciemss/.venv/lib/python3.9/site-packages/torch/nn/modules/module.py:1501\u001b[0m, in \u001b[0;36mModule._call_impl\u001b[0;34m(self, *args, **kwargs)\u001b[0m\n\u001b[1;32m   1496\u001b[0m \u001b[39m# If we don't have any hooks, we want to skip the rest of the logic in\u001b[39;00m\n\u001b[1;32m   1497\u001b[0m \u001b[39m# this function, and just call forward.\u001b[39;00m\n\u001b[1;32m   1498\u001b[0m \u001b[39mif\u001b[39;00m \u001b[39mnot\u001b[39;00m (\u001b[39mself\u001b[39m\u001b[39m.\u001b[39m_backward_hooks \u001b[39mor\u001b[39;00m \u001b[39mself\u001b[39m\u001b[39m.\u001b[39m_backward_pre_hooks \u001b[39mor\u001b[39;00m \u001b[39mself\u001b[39m\u001b[39m.\u001b[39m_forward_hooks \u001b[39mor\u001b[39;00m \u001b[39mself\u001b[39m\u001b[39m.\u001b[39m_forward_pre_hooks\n\u001b[1;32m   1499\u001b[0m         \u001b[39mor\u001b[39;00m _global_backward_pre_hooks \u001b[39mor\u001b[39;00m _global_backward_hooks\n\u001b[1;32m   1500\u001b[0m         \u001b[39mor\u001b[39;00m _global_forward_hooks \u001b[39mor\u001b[39;00m _global_forward_pre_hooks):\n\u001b[0;32m-> 1501\u001b[0m     \u001b[39mreturn\u001b[39;00m forward_call(\u001b[39m*\u001b[39;49margs, \u001b[39m*\u001b[39;49m\u001b[39m*\u001b[39;49mkwargs)\n\u001b[1;32m   1502\u001b[0m \u001b[39m# Do not call functions when jit is used\u001b[39;00m\n\u001b[1;32m   1503\u001b[0m full_backward_hooks, non_full_backward_hooks \u001b[39m=\u001b[39m [], []\n",
      "File \u001b[0;32m~/Documents/GitHub/pyciemss/.venv/lib/python3.9/site-packages/torchdiffeq/_impl/misc.py:138\u001b[0m, in \u001b[0;36m_TupleFunc.forward\u001b[0;34m(self, t, y)\u001b[0m\n\u001b[1;32m    137\u001b[0m \u001b[39mdef\u001b[39;00m \u001b[39mforward\u001b[39m(\u001b[39mself\u001b[39m, t, y):\n\u001b[0;32m--> 138\u001b[0m     f \u001b[39m=\u001b[39m \u001b[39mself\u001b[39;49m\u001b[39m.\u001b[39;49mbase_func(t, _flat_to_shape(y, (), \u001b[39mself\u001b[39;49m\u001b[39m.\u001b[39;49mshapes))\n\u001b[1;32m    139\u001b[0m     \u001b[39mreturn\u001b[39;00m torch\u001b[39m.\u001b[39mcat([f_\u001b[39m.\u001b[39mreshape(\u001b[39m-\u001b[39m\u001b[39m1\u001b[39m) \u001b[39mfor\u001b[39;00m f_ \u001b[39min\u001b[39;00m f])\n",
      "File \u001b[0;32m~/Documents/GitHub/pyciemss/.venv/lib/python3.9/site-packages/pyro/nn/module.py:686\u001b[0m, in \u001b[0;36mpyro_method.<locals>.cached_fn\u001b[0;34m(self, *args, **kwargs)\u001b[0m\n\u001b[1;32m    683\u001b[0m \u001b[39m@functools\u001b[39m\u001b[39m.\u001b[39mwraps(fn)\n\u001b[1;32m    684\u001b[0m \u001b[39mdef\u001b[39;00m \u001b[39mcached_fn\u001b[39m(\u001b[39mself\u001b[39m, \u001b[39m*\u001b[39margs, \u001b[39m*\u001b[39m\u001b[39m*\u001b[39mkwargs):\n\u001b[1;32m    685\u001b[0m     \u001b[39mwith\u001b[39;00m \u001b[39mself\u001b[39m\u001b[39m.\u001b[39m_pyro_context:\n\u001b[0;32m--> 686\u001b[0m         \u001b[39mreturn\u001b[39;00m fn(\u001b[39mself\u001b[39;49m, \u001b[39m*\u001b[39;49margs, \u001b[39m*\u001b[39;49m\u001b[39m*\u001b[39;49mkwargs)\n",
      "File \u001b[0;32m~/Documents/GitHub/pyciemss/src/pyciemss/PetriNetODE/base.py:466\u001b[0m, in \u001b[0;36mMiraPetriNetODESystem.deriv\u001b[0;34m(self, t, state)\u001b[0m\n\u001b[1;32m    464\u001b[0m states \u001b[39m=\u001b[39m {v: state[i] \u001b[39mfor\u001b[39;00m i, v \u001b[39min\u001b[39;00m \u001b[39menumerate\u001b[39m(\u001b[39mself\u001b[39m\u001b[39m.\u001b[39mvar_order\u001b[39m.\u001b[39mkeys())}\n\u001b[1;32m    465\u001b[0m \u001b[39m# Get the parameters\u001b[39;00m\n\u001b[0;32m--> 466\u001b[0m parameters \u001b[39m=\u001b[39m {k: \u001b[39mgetattr\u001b[39m (\u001b[39mself\u001b[39m, k) \u001b[39mfor\u001b[39;00m k \u001b[39min\u001b[39;00m \u001b[39mself\u001b[39m\u001b[39m.\u001b[39mG\u001b[39m.\u001b[39mparameters}\n\u001b[1;32m    468\u001b[0m \u001b[39m# Evaluate the rate laws for each transition\u001b[39;00m\n\u001b[1;32m    469\u001b[0m deriv_tensor \u001b[39m=\u001b[39m \u001b[39mself\u001b[39m\u001b[39m.\u001b[39mcompiled_rate_law(\u001b[39m*\u001b[39m\u001b[39m*\u001b[39mstates, \u001b[39m*\u001b[39m\u001b[39m*\u001b[39mparameters, \u001b[39m*\u001b[39m\u001b[39m*\u001b[39m\u001b[39mdict\u001b[39m(t\u001b[39m=\u001b[39mt))\n",
      "File \u001b[0;32m~/Documents/GitHub/pyciemss/src/pyciemss/PetriNetODE/base.py:466\u001b[0m, in \u001b[0;36m<dictcomp>\u001b[0;34m(.0)\u001b[0m\n\u001b[1;32m    464\u001b[0m states \u001b[39m=\u001b[39m {v: state[i] \u001b[39mfor\u001b[39;00m i, v \u001b[39min\u001b[39;00m \u001b[39menumerate\u001b[39m(\u001b[39mself\u001b[39m\u001b[39m.\u001b[39mvar_order\u001b[39m.\u001b[39mkeys())}\n\u001b[1;32m    465\u001b[0m \u001b[39m# Get the parameters\u001b[39;00m\n\u001b[0;32m--> 466\u001b[0m parameters \u001b[39m=\u001b[39m {k: \u001b[39mgetattr\u001b[39;49m (\u001b[39mself\u001b[39;49m, k) \u001b[39mfor\u001b[39;00m k \u001b[39min\u001b[39;00m \u001b[39mself\u001b[39m\u001b[39m.\u001b[39mG\u001b[39m.\u001b[39mparameters}\n\u001b[1;32m    468\u001b[0m \u001b[39m# Evaluate the rate laws for each transition\u001b[39;00m\n\u001b[1;32m    469\u001b[0m deriv_tensor \u001b[39m=\u001b[39m \u001b[39mself\u001b[39m\u001b[39m.\u001b[39mcompiled_rate_law(\u001b[39m*\u001b[39m\u001b[39m*\u001b[39mstates, \u001b[39m*\u001b[39m\u001b[39m*\u001b[39mparameters, \u001b[39m*\u001b[39m\u001b[39m*\u001b[39m\u001b[39mdict\u001b[39m(t\u001b[39m=\u001b[39mt))\n",
      "\u001b[0;31mTypeError\u001b[0m: getattr(): attribute name must be string"
     ]
    }
   ],
   "source": [
    "control_t0 = [(365+1e-6,'t_0',365)] # NOTE: I'm not sure if this will overlap with pre-existing simulation timepoint.\n",
    "control_samples = load_and_sample_petri_model(\n",
    "    SEIRD_model_path, num_samples, timepoints=timepoints, interventions=intervened_t0)\n"
   ]
  },
  {
   "cell_type": "code",
   "execution_count": null,
   "id": "eb68a1ea",
   "metadata": {},
   "outputs": [],
   "source": [
    "control_samples"
   ]
  },
  {
   "attachments": {},
   "cell_type": "markdown",
   "id": "0039aa91",
   "metadata": {},
   "source": [
    "Plot results and recreate Figure 3"
   ]
  },
  {
   "cell_type": "code",
   "execution_count": null,
   "id": "34dcd515",
   "metadata": {
    "scrolled": true
   },
   "outputs": [],
   "source": [
    "QoIs_0day = aggregate_results(implement_0day_samples, num_samples)\n",
    "QoIs_50day = aggregate_results(implement_50day_samples, num_samples)\n",
    "QoIs_100day = aggregate_results(implement_100day_samples, num_samples)\n",
    "QoIs_control = aggregate_results(control_samples, num_samples)\n",
    "\n",
    "# [\"D_sol\", \"E_sol\", \"I_sol\", \"R_sol\", \"S_sol\"]\n",
    "# plotseird(t, S, E, I, R, D=None, L=None, R0=None, Alpha=None, CFR=None)\n",
    "plotseird(timepoints, QoIs_0day[\"S_sol\"], QoIs_0day[\"E_sol\"], QoIs_0day[\"I_sol\"], QoIs_0day[\"R_sol\"])\n",
    "plotseird(timepoints, QoIs_50day[\"S_sol\"], QoIs_50day[\"E_sol\"], QoIs_50day[\"I_sol\"], QoIs_50day[\"R_sol\"])\n",
    "plotseird(timepoints, QoIs_100day[\"S_sol\"], QoIs_100day[\"E_sol\"], QoIs_100day[\"I_sol\"], QoIs_100day[\"R_sol\"])\n",
    "plotseird(timepoints, QoIs_control[\"S_sol\"], QoIs_control[\"E_sol\"], QoIs_control[\"I_sol\"], QoIs_control[\"R_sol\"])"
   ]
  },
  {
   "cell_type": "code",
   "execution_count": null,
   "id": "6c02cef8",
   "metadata": {},
   "outputs": [],
   "source": [
    "# # Plot fill-between of all QoIs\n",
    "# fig, ax = plt.subplots()\n",
    "# for i, QoI in enumerate(QoIs):\n",
    "#     ax.fill_between(timepoints, np.percentile(QoI_samples[QoI], 25, axis=0), np.percentile(QoI_samples[QoI], 75, axis=0), color=COLORS[i], alpha=0.5)\n",
    "#     ax.plot(timepoints, np.percentile(QoI_samples[QoI], 50, axis=0), color=COLORS[i], label=QoI)\n",
    "#     ax.legend()"
   ]
  },
  {
   "cell_type": "code",
   "execution_count": null,
   "id": "38a4e85f",
   "metadata": {},
   "outputs": [],
   "source": [
    "# # Plot median of all QoIs\n",
    "# fig, ax = plt.subplots()\n",
    "# for i, QoI in enumerate(QoIs):\n",
    "#     ax.plot(timepoints, np.percentile(QoI_samples[QoI], 50, axis=0), color=COLORS[i], label=QoI)\n",
    "#     ax.legend()"
   ]
  },
  {
   "attachments": {},
   "cell_type": "markdown",
   "id": "9088f1d0",
   "metadata": {},
   "source": [
    "**(C)** TA2 updates the AMR to redefine $\\beta(t)$ as, \\begin{align} \\beta(t) &= \\kappa m(t) \\\\\n",
    "m(t) &= \\beta_{nc} + \\frac{\\beta_s - \\beta_c}{1 + e^{-k_1(t_0 - t)}} + \\frac{\\beta_c - \\beta_{nc}}{1 + e^{-k_2(t_1 - t)}}, \\end{align}\n",
    "to model gradual non-compliance with a mask order. \\\n",
    "AMR location: https://github.com/indralab/mira/blob/hackathon/notebooks/hackathon_2023.07/scenario1_c.json \n",
    "\n",
    "**TA3 TASK 2:** Perform model simulation over a range of delays in mask enforcement, and plot the peak prevalence to reproduce Fig. 5.\n",
    "<div>\n",
    "<img src=\"https://i.imgur.com/dDQX87i.png\" width=\"500\" align=\"left\"/>\n",
    "</div>"
   ]
  },
  {
   "attachments": {},
   "cell_type": "markdown",
   "id": "3bcc4afa",
   "metadata": {},
   "source": [
    "**(D)** TA2 updates AMR of SEIRD model to include possibility for reinfection, producing the SEIRS model.\n",
    "AMR location: https://github.com/indralab/mira/blob/hackathon/notebooks/hackathon_2023.07/scenario1_d.json \\\n",
    "Model Schematic:\n",
    "<div>\n",
    "<img src=\"https://i.imgur.com/KMgRtbO.png\" width=\"300\" align=\"left\"/>\n",
    "</div>"
   ]
  },
  {
   "attachments": {},
   "cell_type": "markdown",
   "id": "1cd001fb",
   "metadata": {},
   "source": [
    "**TA3 TASK 3:** Perform model simulation and again reproduce Fig. 5 (as in TASK 2). Compare with previous results (as in 1C), \"what impact does immunity loss and potential for reinfection have?\""
   ]
  },
  {
   "attachments": {},
   "cell_type": "markdown",
   "id": "740fc3b5",
   "metadata": {},
   "source": [
    "**(E) TA3 TASK 4:** Repeat the previous SEIRS model simulation (as in TASK 3), but add *uncertainty* by assessing a range of non-compliance levels (as defined by $\\beta_{nc}$ and $k_2$) and reinfection rates (as controlled through $\\epsilon$). Plot the state variables over time along with the uncertainty ranges."
   ]
  },
  {
   "attachments": {},
   "cell_type": "markdown",
   "id": "6dd62699",
   "metadata": {},
   "source": [
    "### PART 2\n",
    "**(D) TA3 Recommended TASK 5:** Find a real-world example of a mask order being implemented. Calibrate the model from Part 1A using data from the COVID-19 ForecastHub for a period before the mask intervention is implemented, and forecast through the intervention period. Demonstrate how the forecast varies based on compliance rates."
   ]
  },
  {
   "cell_type": "code",
   "execution_count": null,
   "id": "b7efb442",
   "metadata": {},
   "outputs": [],
   "source": []
  },
  {
   "cell_type": "code",
   "execution_count": null,
   "id": "9d50f271",
   "metadata": {},
   "outputs": [],
   "source": []
  },
  {
   "cell_type": "code",
   "execution_count": null,
   "id": "ee0d6c80",
   "metadata": {},
   "outputs": [],
   "source": []
  }
 ],
 "metadata": {
  "kernelspec": {
   "display_name": "Python CIEMSS",
   "language": "python",
   "name": "ciemss_env"
  },
  "language_info": {
   "codemirror_mode": {
    "name": "ipython",
    "version": 3
   },
   "file_extension": ".py",
   "mimetype": "text/x-python",
   "name": "python",
   "nbconvert_exporter": "python",
   "pygments_lexer": "ipython3",
   "version": "3.9.13"
  }
 },
 "nbformat": 4,
 "nbformat_minor": 5
}
