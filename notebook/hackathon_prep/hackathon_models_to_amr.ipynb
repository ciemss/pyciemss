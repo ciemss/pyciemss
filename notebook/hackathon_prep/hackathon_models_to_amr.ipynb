{
 "cells": [
  {
   "cell_type": "markdown",
   "id": "2d26a345",
   "metadata": {},
   "source": [
    "# Produce ASKEM Model Representations of models to be used during the 12-month Hackathon"
   ]
  },
  {
   "cell_type": "code",
   "execution_count": 5,
   "id": "6d523e3d",
   "metadata": {},
   "outputs": [],
   "source": [
    "import sympy\n",
    "from mira.metamodel import *\n",
    "from mira.modeling import Model\n",
    "from mira.modeling.askenet.petrinet import AskeNetPetriNetModel"
   ]
  },
  {
   "cell_type": "code",
   "execution_count": 6,
   "id": "a94a4534",
   "metadata": {},
   "outputs": [],
   "source": [
    "person_units = Unit(expression=sympy.Symbol('person'))\n",
    "day_units = Unit(expression=sympy.Symbol('day'))\n",
    "per_day_units = Unit(expression=1/sympy.Symbol('day'))\n",
    "dimensionless_units = Unit(expression=sympy.Integer('1'))\n",
    "\n",
    "c = {\n",
    "    'S': Concept(name='S', units=person_units),\n",
    "    'E': Concept(name='E', units=person_units),\n",
    "    'I': Concept(name='I', units=person_units),\n",
    "    'R': Concept(name='R', units=person_units),\n",
    "    'D': Concept(name='D', units=person_units)\n",
    "}\n",
    "\n",
    "\n",
    "parameters = {\n",
    "    'gamma': Parameter(name='gamma', value=1/11, units=per_day_units),\n",
    "    'delta': Parameter(name='delta', value=1/5, units=per_day_units),\n",
    "    'alpha': Parameter(name='alpha', value=0.000064, units=dimensionless_units),\n",
    "    'rho': Parameter(name='rho', value=1/9, units=per_day_units),\n",
    "    'N': Parameter(name='N', value=5_600_000, units=person_units),\n",
    "    'beta_s': Parameter(name='beta_s', value=1),\n",
    "    'beta_c': Parameter(name='beta_c', value=0.4),\n",
    "    't_0': Parameter(name='t_0', value=89, unts=day_units),\n",
    "    # D=11, gamma = 1/D, R_0 = 5 and\n",
    "    # beta = R_0 * gamma * mask(t) so kappa = 5/11\n",
    "    'kappa': Parameter(name='kappa', value=5/11),\n",
    "}\n",
    "\n",
    "initials = {\n",
    "    'S': Initial(concept=Concept(name='S'), value=5_600_000-1),\n",
    "    'E': Initial(concept=Concept(name='E'), value=1),\n",
    "    'I': Initial(concept=Concept(name='I'), value=0),\n",
    "    'R': Initial(concept=Concept(name='R'), value=0),\n",
    "    'D': Initial(concept=Concept(name='D'), value=0),\n",
    "}"
   ]
  },
  {
   "cell_type": "code",
   "execution_count": 7,
   "id": "3731a873",
   "metadata": {},
   "outputs": [],
   "source": [
    "S, E, I, R, D, N, kappa, beta_s, beta_c, k, t_0, t, alpha, delta, rho, gamma = \\\n",
    "    sympy.symbols('S E I R D N kappa beta_s beta_c k t_0 t alpha delta rho gamma')"
   ]
  },
  {
   "cell_type": "code",
   "execution_count": 8,
   "id": "2a4a8123",
   "metadata": {},
   "outputs": [],
   "source": [
    "beta = kappa*beta_s\n",
    "\n",
    "t1 = ControlledConversion(subject=c['S'],\n",
    "                          outcome=c['E'],\n",
    "                          controller=c['E'],\n",
    "                          rate_law=S*I*beta / N)\n",
    "t2 = NaturalConversion(subject=c['E'],\n",
    "                       outcome=c['I'],\n",
    "                       rate_law=delta*E)\n",
    "t3 = NaturalConversion(subject=c['I'],\n",
    "                       outcome=c['R'],\n",
    "                       rate_law=(1-alpha)*gamma*I)\n",
    "t4 = NaturalConversion(subject=c['I'],\n",
    "                       outcome=c['D'],\n",
    "                       rate_law=alpha*rho*I)\n",
    "templates = [t1, t2, t3, t4]\n",
    "tm = TemplateModel(\n",
    "    templates=templates,\n",
    "    parameters=parameters,\n",
    "    initials=initials,\n",
    "    time=Time(name='t', units=day_units)\n",
    ")\n",
    "AskeNetPetriNetModel(Model(tm)).to_json_file('scenario1_constant_beta.json')"
   ]
  },
  {
   "cell_type": "code",
   "execution_count": 9,
   "id": "7ea74406",
   "metadata": {},
   "outputs": [],
   "source": [
    "beta = kappa*beta_s\n",
    "\n",
    "t1 = ControlledConversion(subject=c['S'],\n",
    "                          outcome=c['E'],\n",
    "                          controller=c['I'],\n",
    "                          rate_law=S*I*beta / N)\n",
    "t2 = NaturalConversion(subject=c['E'],\n",
    "                       outcome=c['I'],\n",
    "                       rate_law=delta*E)\n",
    "t3 = NaturalConversion(subject=c['I'],\n",
    "                       outcome=c['R'],\n",
    "                       rate_law=(1-alpha)*gamma*I)\n",
    "t4 = NaturalConversion(subject=c['I'],\n",
    "                       outcome=c['D'],\n",
    "                       rate_law=alpha*rho*I)\n",
    "templates = [t1, t2, t3, t4]\n",
    "tm = TemplateModel(\n",
    "    templates=templates,\n",
    "    parameters=parameters,\n",
    "    initials=initials,\n",
    "    time=Time(name='t', units=day_units)\n",
    ")\n",
    "AskeNetPetriNetModel(Model(tm)).to_json_file('scenario1_constant_beta_try_again.json')"
   ]
  },
  {
   "cell_type": "code",
   "execution_count": null,
   "id": "32a788d6",
   "metadata": {},
   "outputs": [],
   "source": []
  },
  {
   "cell_type": "code",
   "execution_count": null,
   "id": "4c262416",
   "metadata": {},
   "outputs": [],
   "source": []
  }
 ],
 "metadata": {
  "kernelspec": {
   "display_name": "Python 3 (ipykernel)",
   "language": "python",
   "name": "python3"
  },
  "language_info": {
   "codemirror_mode": {
    "name": "ipython",
    "version": 3
   },
   "file_extension": ".py",
   "mimetype": "text/x-python",
   "name": "python",
   "nbconvert_exporter": "python",
   "pygments_lexer": "ipython3",
   "version": "3.10.9"
  }
 },
 "nbformat": 4,
 "nbformat_minor": 5
}
