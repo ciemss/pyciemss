{
 "cells": [
  {
   "cell_type": "code",
   "execution_count": 6,
   "id": "a1299176",
   "metadata": {},
   "outputs": [],
   "source": [
    "%load_ext autoreload\n",
    "%autoreload 2"
   ]
  },
  {
   "cell_type": "code",
   "execution_count": 7,
   "id": "5c1729f7-1b0d-4913-8048-01624c506cc5",
   "metadata": {},
   "outputs": [],
   "source": [
    "import networkx as nx\n",
    "from pyciemss.visuals import plots"
   ]
  },
  {
   "cell_type": "code",
   "execution_count": 2,
   "id": "997ef041-0312-4b83-bbe2-32a6ddfe3d6c",
   "metadata": {},
   "outputs": [],
   "source": [
    "g = nx.generators.barabasi_albert_graph(5, 3)"
   ]
  },
  {
   "cell_type": "code",
   "execution_count": 3,
   "id": "a4b1668c",
   "metadata": {},
   "outputs": [],
   "source": [
    "import random\n",
    "def rand_attributions():\n",
    "    possible = \"ABCD\"\n",
    "    return random.sample(possible, random.randint(1, len(possible)))\n",
    "\n",
    "def rand_label():\n",
    "    possible = \"TUVWXYZ\"\n",
    "    return random.randint(1, 10)\n",
    "    return random.sample(possible, 1)[0]\n",
    "\n",
    "node_properties = {n: {\"attribution\": rand_attributions(), \n",
    "                       \"label\": rand_label()}\n",
    "                    for n in g.nodes()}\n",
    "\n",
    "edge_attributions = {e: {\"attribution\": rand_attributions()} for e in g.edges()}\n",
    "\n",
    "nx.set_node_attributes(g, node_properties)\n",
    "nx.set_edge_attributes(g, edge_attributions)"
   ]
  },
  {
   "cell_type": "code",
   "execution_count": 4,
   "id": "ed6f4175",
   "metadata": {},
   "outputs": [
    {
     "name": "stdout",
     "output_type": "stream",
     "text": [
      "\n"
     ]
    },
    {
     "data": {
      "application/vnd.vega.v5+json": {
       "$schema": "https://vega.github.io/schema/vega/v5.json",
       "data": [
        {
         "name": "node-data",
         "values": [
          {
           "attribution": [
            "C",
            "A"
           ],
           "id": 0,
           "label": 6
          },
          {
           "attribution": [
            "B",
            "C"
           ],
           "id": 1,
           "label": 8
          },
          {
           "attribution": [
            "C",
            "A"
           ],
           "id": 2,
           "label": 8
          },
          {
           "attribution": [
            "B"
           ],
           "id": 3,
           "label": 3
          },
          {
           "attribution": [
            "D",
            "C"
           ],
           "id": 4,
           "label": 10
          }
         ]
        },
        {
         "name": "link-data",
         "values": [
          {
           "attribution": [
            "B",
            "A",
            "C"
           ],
           "source": 0,
           "target": 1
          },
          {
           "attribution": [
            "C",
            "D",
            "B"
           ],
           "source": 0,
           "target": 2
          },
          {
           "attribution": [
            "A",
            "B",
            "C",
            "D"
           ],
           "source": 0,
           "target": 3
          },
          {
           "attribution": [
            "D",
            "B"
           ],
           "source": 0,
           "target": 4
          },
          {
           "attribution": [
            "C",
            "B",
            "A"
           ],
           "source": 1,
           "target": 4
          },
          {
           "attribution": [
            "D",
            "C"
           ],
           "source": 2,
           "target": 4
          }
         ]
        },
        {
         "name": "position",
         "source": "node-data",
         "transform": [
          {
           "forces": [
            {
             "force": "center",
             "x": {
              "signal": "cx"
             },
             "y": {
              "signal": "cy"
             }
            },
            {
             "force": "collide",
             "radius": {
              "signal": "innerRadius+bandWidth"
             }
            },
            {
             "force": "nbody",
             "strength": {
              "signal": "nodeCharge"
             }
            },
            {
             "distance": {
              "signal": "linkDistance"
             },
             "force": "link",
             "links": "link-data"
            }
           ],
           "iterations": 300,
           "signal": "position-tick",
           "type": "force"
          }
         ]
        },
        {
         "name": "node-attributions",
         "source": "position",
         "transform": [
          {
           "fields": [
            "attribution"
           ],
           "type": "flatten"
          },
          {
           "as": "weight",
           "expr": "1",
           "type": "formula"
          }
         ]
        },
        {
         "name": "link-attributions",
         "source": "link-data",
         "transform": [
          {
           "fields": [
            "attribution"
           ],
           "index": "_idx",
           "type": "flatten"
          },
          {
           "as": "weight",
           "expr": "1",
           "type": "formula"
          },
          {
           "as": [
            "id",
            "weight",
            "attribution",
            "_idx",
            "x",
            "y",
            "x2",
            "y2"
           ],
           "fields": [
            "id",
            "weight",
            "attribution",
            "_idx",
            "source.x",
            "source.y",
            "target.x",
            "target.y"
           ],
           "type": "project"
          }
         ]
        }
       ],
       "description": "A node-link diagram with force-directed layout, depicting character co-occurrence in the novel Les Misérables.",
       "height": 300,
       "legends": [
        {
         "stroke": "color",
         "symbolType": "stroke",
         "title": "Attributions"
        }
       ],
       "marks": [
        {
         "data": [
          {
           "name": "linky-data",
           "source": "link-facets",
           "transform": [
            {
             "as": "x",
             "expr": "datum.x+(datum._idx*3)",
             "type": "formula"
            },
            {
             "as": "x2",
             "expr": "datum.x2+(datum._idx*3)",
             "type": "formula"
            }
           ]
          }
         ],
         "from": {
          "facet": {
           "data": "link-attributions",
           "groupby": "id",
           "name": "link-facets"
          }
         },
         "marks": [
          {
           "encode": {
            "enter": {
             "stroke": {
              "field": "attribution",
              "scale": "color"
             },
             "strokeWidth": {
              "value": 3
             }
            },
            "update": {
             "x": {
              "field": "x"
             },
             "x2": {
              "field": "x2"
             },
             "y": {
              "field": "y"
             },
             "y2": {
              "field": "y2"
             }
            }
           },
           "from": {
            "data": "linky-data"
           },
           "name": "lines",
           "type": "rule"
          }
         ],
         "name": "links",
         "type": "group"
        },
        {
         "data": [
          {
           "name": "attribution-arcs",
           "source": "node-facets",
           "transform": [
            {
             "endAngle": 6.29,
             "field": "weight",
             "sort": true,
             "startAngle": 0,
             "type": "pie"
            }
           ]
          }
         ],
         "from": {
          "facet": {
           "data": "node-attributions",
           "groupby": "id",
           "name": "node-facets"
          }
         },
         "marks": [
          {
           "encode": {
            "enter": {
             "fill": {
              "value": "white"
             },
             "size": {
              "signal": "2 * (innerRadius+bandWidth+1) * (innerRadius+bandWidth+1)"
             }
            },
            "update": {
             "x": {
              "field": "x"
             },
             "y": {
              "field": "y"
             }
            }
           },
           "from": {
            "data": "attribution-arcs"
           },
           "type": "symbol"
          },
          {
           "encode": {
            "enter": {
             "endAngle": {
              "field": "endAngle"
             },
             "fill": {
              "field": "attribution",
              "scale": "color"
             },
             "innerRadius": {
              "signal": "innerRadius"
             },
             "outerRadius": {
              "signal": "innerRadius+bandWidth"
             },
             "startAngle": {
              "field": "startAngle"
             }
            },
            "update": {
             "x": {
              "field": "x"
             },
             "y": {
              "field": "y"
             }
            }
           },
           "from": {
            "data": "attribution-arcs"
           },
           "type": "arc"
          }
         ],
         "name": "nodes",
         "type": "group"
        },
        {
         "encode": {
          "enter": {
           "align": {
            "value": "center"
           },
           "baseline": {
            "value": "middle"
           },
           "fill": {
            "value": "black"
           },
           "text": {
            "field": "label"
           }
          },
          "update": {
           "x": {
            "field": "x"
           },
           "y": {
            "field": "y"
           }
          }
         },
         "from": {
          "data": "position"
         },
         "name": "labels",
         "type": "text"
        }
       ],
       "padding": 0,
       "scales": [
        {
         "domain": {
          "fields": [
           {
            "data": "node-attributions",
            "field": "attribution"
           },
           {
            "data": "link-attributions",
            "field": "attribution"
           }
          ]
         },
         "name": "color",
         "range": {
          "scheme": "category20"
         },
         "type": "ordinal"
        }
       ],
       "signals": [
        {
         "name": "cx",
         "update": "width / 2"
        },
        {
         "name": "cy",
         "update": "height / 2"
        },
        {
         "name": "innerRadius",
         "value": 15
        },
        {
         "name": "bandWidth",
         "value": 5
        },
        {
         "name": "nodeCharge",
         "value": -80
        },
        {
         "name": "linkDistance",
         "value": 80
        }
       ],
       "width": 300
      }
     },
     "metadata": {},
     "output_type": "display_data"
    }
   ],
   "source": [
    "schema = plots.attributed_graph(g)\n",
    "plots.save_schema(schema, \"_schema.json\")\n",
    "plots.ipy_display(schema)"
   ]
  },
  {
   "cell_type": "code",
   "execution_count": 36,
   "id": "e0d2ada7",
   "metadata": {},
   "outputs": [
    {
     "name": "stdout",
     "output_type": "stream",
     "text": [
      "\n"
     ]
    },
    {
     "data": {
      "application/vnd.vega.v5+json": {
       "$schema": "https://vega.github.io/schema/vega/v5.json",
       "data": [
        {
         "name": "node-data",
         "values": [
          {
           "id": 0
          },
          {
           "id": 1
          },
          {
           "id": 2
          },
          {
           "id": 3
          },
          {
           "id": 4
          }
         ]
        },
        {
         "name": "link-data",
         "values": [
          {
           "source": 0,
           "target": 1
          },
          {
           "source": 0,
           "target": 2
          },
          {
           "source": 0,
           "target": 3
          },
          {
           "source": 0,
           "target": 4
          },
          {
           "source": 2,
           "target": 4
          },
          {
           "source": 3,
           "target": 4
          }
         ]
        }
       ],
       "description": "A node-link diagram with force-directed layout.",
       "height": 300,
       "marks": [
        {
         "encode": {
          "enter": {
           "fill": {
            "field": "group",
            "scale": "color"
           },
           "stroke": {
            "value": "white"
           }
          },
          "update": {
           "cursor": {
            "value": "pointer"
           },
           "size": {
            "signal": "2 * nodeRadius * nodeRadius"
           }
          }
         },
         "from": {
          "data": "node-data"
         },
         "name": "nodes",
         "on": [
          {
           "modify": "node",
           "trigger": "fix",
           "values": "fix === true ? {fx: node.x, fy: node.y} : {fx: fix[0], fy: fix[1]}"
          },
          {
           "modify": "node",
           "trigger": "!fix",
           "values": "{fx: null, fy: null}"
          }
         ],
         "transform": [
          {
           "forces": [
            {
             "force": "center",
             "x": {
              "signal": "cx"
             },
             "y": {
              "signal": "cy"
             }
            },
            {
             "force": "collide",
             "radius": {
              "signal": "nodeRadius"
             }
            },
            {
             "force": "nbody",
             "strength": {
              "signal": "nodeCharge"
             }
            },
            {
             "distance": {
              "signal": "linkDistance"
             },
             "force": "link",
             "links": "link-data"
            }
           ],
           "iterations": 300,
           "restart": {
            "signal": "restart"
           },
           "signal": "force",
           "static": {
            "signal": "static"
           },
           "type": "force"
          }
         ],
         "type": "symbol",
         "zindex": 1
        },
        {
         "encode": {
          "update": {
           "stroke": {
            "value": "#ccc"
           },
           "strokeWidth": {
            "value": 0.5
           }
          }
         },
         "from": {
          "data": "link-data"
         },
         "interactive": false,
         "transform": [
          {
           "require": {
            "signal": "force"
           },
           "shape": "line",
           "sourceX": "datum.source.x",
           "sourceY": "datum.source.y",
           "targetX": "datum.target.x",
           "targetY": "datum.target.y",
           "type": "linkpath"
          }
         ],
         "type": "path"
        },
        {
         "encode": {
          "enter": {
           "align": {
            "value": "center"
           },
           "baseline": {
            "value": "top"
           },
           "fill": {
            "value": "black"
           },
           "fontSize": {
            "value": 15
           }
          },
          "update": {
           "text": {
            "field": "datum.id"
           },
           "x": {
            "field": "x"
           },
           "y": {
            "field": "y"
           }
          }
         },
         "from": {
          "data": "nodes"
         },
         "name": "labels",
         "transform": [
          {
           "as": "y",
           "expr": "datum.y + nodeRadius",
           "type": "formula"
          }
         ],
         "type": "text"
        }
       ],
       "padding": 0,
       "scales": [
        {
         "domain": {
          "data": "node-data",
          "field": "group"
         },
         "name": "color",
         "range": {
          "scheme": "category20c"
         },
         "type": "ordinal"
        }
       ],
       "signals": [
        {
         "name": "cx",
         "update": "width / 2"
        },
        {
         "name": "cy",
         "update": "height / 2"
        },
        {
         "name": "nodeRadius",
         "value": 15
        },
        {
         "name": "nodeCharge",
         "value": -80
        },
        {
         "name": "linkDistance",
         "value": 80
        },
        {
         "bind": {
          "input": "checkbox"
         },
         "name": "static",
         "value": true
        },
        {
         "description": "State variable for active node fix status.",
         "name": "fix",
         "on": [
          {
           "events": "symbol:mouseout[!event.buttons], window:mouseup",
           "update": "false"
          },
          {
           "events": "symbol:mouseover",
           "update": "fix || true"
          },
          {
           "events": "[symbol:mousedown, window:mouseup] > window:mousemove!",
           "force": true,
           "update": "xy()"
          }
         ],
         "value": false
        },
        {
         "description": "Graph node most recently interacted with.",
         "name": "node",
         "on": [
          {
           "events": "symbol:mouseover",
           "update": "fix === true ? item() : node"
          }
         ],
         "value": null
        },
        {
         "description": "Flag to restart Force simulation upon data changes.",
         "name": "restart",
         "on": [
          {
           "events": {
            "signal": "fix"
           },
           "update": "fix && fix.length"
          }
         ],
         "value": false
        }
       ],
       "width": 300
      }
     },
     "metadata": {},
     "output_type": "display_data"
    }
   ],
   "source": [
    "g = nx.generators.barabasi_albert_graph(5, 3)\n",
    "schema = plots.spring_force_graph(g, node_labels=None)\n",
    "plots.save_schema(schema, \"_schema.json\")\n",
    "plots.ipy_display(schema)"
   ]
  },
  {
   "cell_type": "code",
   "execution_count": null,
   "id": "ece8d8e5",
   "metadata": {},
   "outputs": [],
   "source": []
  }
 ],
 "metadata": {
  "kernelspec": {
   "display_name": "Python 3 (ipykernel)",
   "language": "python",
   "name": "python3"
  },
  "language_info": {
   "codemirror_mode": {
    "name": "ipython",
    "version": 3
   },
   "file_extension": ".py",
   "mimetype": "text/x-python",
   "name": "python",
   "nbconvert_exporter": "python",
   "pygments_lexer": "ipython3",
   "version": "3.11.4"
  }
 },
 "nbformat": 4,
 "nbformat_minor": 5
}
