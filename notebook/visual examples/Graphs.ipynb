{
 "cells": [
  {
   "cell_type": "code",
   "execution_count": 25,
   "id": "a1299176",
   "metadata": {},
   "outputs": [
    {
     "name": "stdout",
     "output_type": "stream",
     "text": [
      "The autoreload extension is already loaded. To reload it, use:\n",
      "  %reload_ext autoreload\n"
     ]
    }
   ],
   "source": [
    "%load_ext autoreload\n",
    "%autoreload 2"
   ]
  },
  {
   "cell_type": "code",
   "execution_count": 26,
   "id": "5c1729f7-1b0d-4913-8048-01624c506cc5",
   "metadata": {},
   "outputs": [],
   "source": [
    "import networkx as nx\n",
    "from pyciemss.visuals import plots"
   ]
  },
  {
   "cell_type": "code",
   "execution_count": null,
   "id": "07d29614",
   "metadata": {},
   "outputs": [],
   "source": []
  },
  {
   "cell_type": "code",
   "execution_count": 27,
   "id": "997ef041-0312-4b83-bbe2-32a6ddfe3d6c",
   "metadata": {},
   "outputs": [],
   "source": [
    "g = nx.generators.barabasi_albert_graph(5, 3)"
   ]
  },
  {
   "cell_type": "code",
   "execution_count": 28,
   "id": "a4b1668c",
   "metadata": {},
   "outputs": [
    {
     "data": {
      "image/png": "[encoded data removed]",
      "text/plain": [
       "<IPython.core.display.Image object>"
      ]
     },
     "execution_count": 28,
     "metadata": {},
     "output_type": "execute_result"
    }
   ],
   "source": [
    "import random\n",
    "def rand_attributions():\n",
    "    possible = \"ABCD\"\n",
    "    return random.sample(possible, random.randint(1, len(possible)))\n",
    "\n",
    "def rand_label():\n",
    "    possible = \"TUVWXYZ\"\n",
    "    return random.randint(1, 10)\n",
    "    return random.sample(possible, 1)[0]\n",
    "\n",
    "node_properties = {n: {\"attribution\": rand_attributions(), \n",
    "                       \"label\": rand_label()}\n",
    "                    for n in g.nodes()}\n",
    "\n",
    "edge_attributions = {e: {\"attribution\": rand_attributions()} for e in g.edges()}\n",
    "\n",
    "nx.set_node_attributes(g, node_properties)\n",
    "nx.set_edge_attributes(g, edge_attributions)\n",
    "\n",
    "schema = plots.attributed_graph(g)\n",
    "plots.save_schema(schema, \"_schema.json\")\n",
    "plots.ipy_display(schema)"
   ]
  },
  {
   "cell_type": "code",
   "execution_count": null,
   "id": "ece8d8e5",
   "metadata": {},
   "outputs": [],
   "source": []
  },
  {
   "cell_type": "code",
   "execution_count": 29,
   "id": "67ab6bf5",
   "metadata": {},
   "outputs": [
    {
     "name": "stdout",
     "output_type": "stream",
     "text": [
      "\n"
     ]
    },
    {
     "data": {
      "application/vnd.vega.v5+json": {
       "$schema": "https://vega.github.io/schema/vega/v5.json",
       "axes": [
        {
         "labelOverlap": true,
         "orient": "bottom",
         "scale": "x",
         "tickCount": {
          "signal": "ceil(width/3)"
         },
         "title": {
          "signal": "x_name"
         }
        },
        {
         "labelOverlap": true,
         "orient": "left",
         "scale": "y",
         "tickCount": {
          "signal": "ceil(height/3)"
         },
         "title": {
          "signal": "y_name"
         }
        }
       ],
       "data": [
        {
         "name": "points",
         "values": "[{\"test4\":2.3389687606,\"test5\":0.8135953674},{\"test4\":2.6590271001,\"test5\":0.8008701805},{\"test4\":1.5129229361,\"test5\":0.4457111582},{\"test4\":1.5792187823,\"test5\":1.0142655819},{\"test4\":1.1095948425,\"test5\":0.5733811824},{\"test4\":2.0975157798,\"test5\":0.1534112432},{\"test4\":2.7084104667,\"test5\":2.3295966942},{\"test4\":0.7673074465,\"test5\":1.1011841738},{\"test4\":1.2916022411,\"test5\":1.6798882553},{\"test4\":2.2619399042,\"test5\":1.1336157932},{\"test4\":0.3490490415,\"test5\":2.6438989771},{\"test4\":2.369523497,\"test5\":0.0173215868},{\"test4\":1.409545432,\"test5\":2.8644457454},{\"test4\":0.6713249611,\"test5\":1.4244780962},{\"test4\":0.1995290119,\"test5\":0.2443084749},{\"test4\":2.009250694,\"test5\":0.0175584272},{\"test4\":1.7330245896,\"test5\":1.9141346469},{\"test4\":1.7095122416,\"test5\":0.4438142308},{\"test4\":2.2219451033,\"test5\":1.4426433642},{\"test4\":1.791603694,\"test5\":0.1059528426},{\"test4\":0.9976736508,\"test5\":2.3141953614},{\"test4\":0.3329174721,\"test5\":2.9381107853},{\"test4\":1.2378490977,\"test5\":0.5906726836},{\"test4\":1.9357938841,\"test5\":1.4413703738},{\"test4\":2.0795777934,\"test5\":1.5302922568},{\"test4\":1.9104009227,\"test5\":2.2640249273},{\"test4\":1.3427265772,\"test5\":1.3529534731},{\"test4\":0.6243170406,\"test5\":2.3369293035},{\"test4\":2.3196054845,\"test5\":0.6529682207},{\"test4\":0.4379418994,\"test5\":2.0458780632},{\"test4\":1.1110876532,\"test5\":2.5276283677},{\"test4\":1.7171992917,\"test5\":0.365961323},{\"test4\":2.2286924862,\"test5\":1.2884930194},{\"test4\":2.9636731127,\"test5\":1.3386296785},{\"test4\":0.5581887859,\"test5\":2.0154387421},{\"test4\":2.4237147704,\"test5\":1.7309904743},{\"test4\":1.5330007515,\"test5\":2.7450338213},{\"test4\":0.5926398152,\"test5\":0.2601606429},{\"test4\":2.812180343,\"test5\":1.2857042941},{\"test4\":2.873128607,\"test5\":0.1451823469},{\"test4\":0.4819888109,\"test5\":0.2048047378},{\"test4\":0.8609247717,\"test5\":1.0972223768},{\"test4\":1.8590556436,\"test5\":0.7894524992},{\"test4\":2.2176292392,\"test5\":0.8935714785},{\"test4\":0.6389085639,\"test5\":1.1659910188},{\"test4\":1.4302593762,\"test5\":0.470817026},{\"test4\":0.7352744897,\"test5\":0.6805254481},{\"test4\":2.2512617839,\"test5\":2.189420805},{\"test4\":2.9416590879,\"test5\":1.3487657259},{\"test4\":1.1982783015,\"test5\":0.3190258877},{\"test4\":0.258680436,\"test5\":1.4830344451},{\"test4\":0.3711074969,\"test5\":2.954386107},{\"test4\":1.2827942064,\"test5\":1.9168891227},{\"test4\":0.9064919469,\"test5\":2.5269335328},{\"test4\":1.0741613916,\"test5\":0.8028745748},{\"test4\":0.6803064717,\"test5\":1.4536172857},{\"test4\":1.5929456682,\"test5\":2.9292846673},{\"test4\":2.915067904,\"test5\":0.4514302463},{\"test4\":1.3420919367,\"test5\":2.6809294036},{\"test4\":0.2349473684,\"test5\":0.0294382082},{\"test4\":2.3193215735,\"test5\":0.678348888},{\"test4\":2.3824877179,\"test5\":2.928086999},{\"test4\":0.8153828838,\"test5\":2.7004967485},{\"test4\":1.8910190785,\"test5\":1.2285419434},{\"test4\":1.433852898,\"test5\":0.0720218565},{\"test4\":1.9979361969,\"test5\":1.173773258},{\"test4\":2.2055261698,\"test5\":2.39263459},{\"test4\":2.2018249135,\"test5\":1.6778292766},{\"test4\":2.2105904327,\"test5\":2.9360410422},{\"test4\":0.6425844405,\"test5\":2.1197513069},{\"test4\":0.388118192,\"test5\":2.3663092941},{\"test4\":0.399656878,\"test5\":0.9084511041},{\"test4\":2.5084152975,\"test5\":2.6823678454},{\"test4\":0.3359636684,\"test5\":2.958517299},{\"test4\":1.001495251,\"test5\":2.3272477655},{\"test4\":1.4292232351,\"test5\":1.9031796397},{\"test4\":1.5803799132,\"test5\":2.047472843},{\"test4\":0.6573489698,\"test5\":0.4850056588},{\"test4\":1.6404802787,\"test5\":2.6036623506},{\"test4\":1.5277439695,\"test5\":1.8232795582},{\"test4\":0.6505908459,\"test5\":0.9898401909},{\"test4\":2.8786042153,\"test5\":0.565570201},{\"test4\":0.6898245923,\"test5\":2.3044716285},{\"test4\":2.8000047146,\"test5\":2.7979682566},{\"test4\":2.6664899845,\"test5\":1.7664017917},{\"test4\":2.0439244494,\"test5\":2.9011884524},{\"test4\":0.1666099699,\"test5\":0.0000899551},{\"test4\":0.6689021089,\"test5\":0.0269741244},{\"test4\":2.3199668676,\"test5\":1.1715100677},{\"test4\":0.9318865658,\"test5\":0.702080737},{\"test4\":2.9961519277,\"test5\":1.8651330661},{\"test4\":2.229638752,\"test5\":0.5332356714},{\"test4\":0.7310253152,\"test5\":2.1742253292},{\"test4\":1.938257909,\"test5\":1.2598002619},{\"test4\":0.2268321785,\"test5\":1.6051635623},{\"test4\":0.7320925724,\"test5\":1.3185592757},{\"test4\":0.7082029917,\"test5\":1.5400348163},{\"test4\":0.8826482743,\"test5\":2.7594769883},{\"test4\":1.5060117976,\"test5\":2.8034319834},{\"test4\":2.7656685037,\"test5\":2.5497663169}]"
        },
        {
         "format": {
          "type": "json"
         },
         "name": "source_0",
         "transform": [
          {
           "field": {
            "signal": "x_name"
           },
           "signal": "x_extent",
           "type": "extent"
          },
          {
           "as": [
            "x_start",
            "x_end"
           ],
           "extent": {
            "signal": "x_extent"
           },
           "field": {
            "signal": "x_name"
           },
           "maxbins": {
            "signal": "bandwidthX"
           },
           "signal": "x_bins",
           "type": "bin"
          },
          {
           "field": {
            "signal": "y_name"
           },
           "signal": "y_extent",
           "type": "extent"
          },
          {
           "as": [
            "y_start",
            "y_end"
           ],
           "extent": {
            "signal": "y_extent"
           },
           "field": {
            "signal": "y_name"
           },
           "maxbins": {
            "signal": "bandwidthY"
           },
           "signal": "y_bins",
           "type": "bin"
          },
          {
           "as": [
            "__count"
           ],
           "groupby": [
            "x_start",
            "x_end",
            "y_start",
            "y_end"
           ],
           "ops": [
            "count"
           ],
           "type": "aggregate"
          }
         ],
         "values": "[{\"test4\":2.3389687606,\"test5\":0.8135953674},{\"test4\":2.6590271001,\"test5\":0.8008701805},{\"test4\":1.5129229361,\"test5\":0.4457111582},{\"test4\":1.5792187823,\"test5\":1.0142655819},{\"test4\":1.1095948425,\"test5\":0.5733811824},{\"test4\":2.0975157798,\"test5\":0.1534112432},{\"test4\":2.7084104667,\"test5\":2.3295966942},{\"test4\":0.7673074465,\"test5\":1.1011841738},{\"test4\":1.2916022411,\"test5\":1.6798882553},{\"test4\":2.2619399042,\"test5\":1.1336157932},{\"test4\":0.3490490415,\"test5\":2.6438989771},{\"test4\":2.369523497,\"test5\":0.0173215868},{\"test4\":1.409545432,\"test5\":2.8644457454},{\"test4\":0.6713249611,\"test5\":1.4244780962},{\"test4\":0.1995290119,\"test5\":0.2443084749},{\"test4\":2.009250694,\"test5\":0.0175584272},{\"test4\":1.7330245896,\"test5\":1.9141346469},{\"test4\":1.7095122416,\"test5\":0.4438142308},{\"test4\":2.2219451033,\"test5\":1.4426433642},{\"test4\":1.791603694,\"test5\":0.1059528426},{\"test4\":0.9976736508,\"test5\":2.3141953614},{\"test4\":0.3329174721,\"test5\":2.9381107853},{\"test4\":1.2378490977,\"test5\":0.5906726836},{\"test4\":1.9357938841,\"test5\":1.4413703738},{\"test4\":2.0795777934,\"test5\":1.5302922568},{\"test4\":1.9104009227,\"test5\":2.2640249273},{\"test4\":1.3427265772,\"test5\":1.3529534731},{\"test4\":0.6243170406,\"test5\":2.3369293035},{\"test4\":2.3196054845,\"test5\":0.6529682207},{\"test4\":0.4379418994,\"test5\":2.0458780632},{\"test4\":1.1110876532,\"test5\":2.5276283677},{\"test4\":1.7171992917,\"test5\":0.365961323},{\"test4\":2.2286924862,\"test5\":1.2884930194},{\"test4\":2.9636731127,\"test5\":1.3386296785},{\"test4\":0.5581887859,\"test5\":2.0154387421},{\"test4\":2.4237147704,\"test5\":1.7309904743},{\"test4\":1.5330007515,\"test5\":2.7450338213},{\"test4\":0.5926398152,\"test5\":0.2601606429},{\"test4\":2.812180343,\"test5\":1.2857042941},{\"test4\":2.873128607,\"test5\":0.1451823469},{\"test4\":0.4819888109,\"test5\":0.2048047378},{\"test4\":0.8609247717,\"test5\":1.0972223768},{\"test4\":1.8590556436,\"test5\":0.7894524992},{\"test4\":2.2176292392,\"test5\":0.8935714785},{\"test4\":0.6389085639,\"test5\":1.1659910188},{\"test4\":1.4302593762,\"test5\":0.470817026},{\"test4\":0.7352744897,\"test5\":0.6805254481},{\"test4\":2.2512617839,\"test5\":2.189420805},{\"test4\":2.9416590879,\"test5\":1.3487657259},{\"test4\":1.1982783015,\"test5\":0.3190258877},{\"test4\":0.258680436,\"test5\":1.4830344451},{\"test4\":0.3711074969,\"test5\":2.954386107},{\"test4\":1.2827942064,\"test5\":1.9168891227},{\"test4\":0.9064919469,\"test5\":2.5269335328},{\"test4\":1.0741613916,\"test5\":0.8028745748},{\"test4\":0.6803064717,\"test5\":1.4536172857},{\"test4\":1.5929456682,\"test5\":2.9292846673},{\"test4\":2.915067904,\"test5\":0.4514302463},{\"test4\":1.3420919367,\"test5\":2.6809294036},{\"test4\":0.2349473684,\"test5\":0.0294382082},{\"test4\":2.3193215735,\"test5\":0.678348888},{\"test4\":2.3824877179,\"test5\":2.928086999},{\"test4\":0.8153828838,\"test5\":2.7004967485},{\"test4\":1.8910190785,\"test5\":1.2285419434},{\"test4\":1.433852898,\"test5\":0.0720218565},{\"test4\":1.9979361969,\"test5\":1.173773258},{\"test4\":2.2055261698,\"test5\":2.39263459},{\"test4\":2.2018249135,\"test5\":1.6778292766},{\"test4\":2.2105904327,\"test5\":2.9360410422},{\"test4\":0.6425844405,\"test5\":2.1197513069},{\"test4\":0.388118192,\"test5\":2.3663092941},{\"test4\":0.399656878,\"test5\":0.9084511041},{\"test4\":2.5084152975,\"test5\":2.6823678454},{\"test4\":0.3359636684,\"test5\":2.958517299},{\"test4\":1.001495251,\"test5\":2.3272477655},{\"test4\":1.4292232351,\"test5\":1.9031796397},{\"test4\":1.5803799132,\"test5\":2.047472843},{\"test4\":0.6573489698,\"test5\":0.4850056588},{\"test4\":1.6404802787,\"test5\":2.6036623506},{\"test4\":1.5277439695,\"test5\":1.8232795582},{\"test4\":0.6505908459,\"test5\":0.9898401909},{\"test4\":2.8786042153,\"test5\":0.565570201},{\"test4\":0.6898245923,\"test5\":2.3044716285},{\"test4\":2.8000047146,\"test5\":2.7979682566},{\"test4\":2.6664899845,\"test5\":1.7664017917},{\"test4\":2.0439244494,\"test5\":2.9011884524},{\"test4\":0.1666099699,\"test5\":0.0000899551},{\"test4\":0.6689021089,\"test5\":0.0269741244},{\"test4\":2.3199668676,\"test5\":1.1715100677},{\"test4\":0.9318865658,\"test5\":0.702080737},{\"test4\":2.9961519277,\"test5\":1.8651330661},{\"test4\":2.229638752,\"test5\":0.5332356714},{\"test4\":0.7310253152,\"test5\":2.1742253292},{\"test4\":1.938257909,\"test5\":1.2598002619},{\"test4\":0.2268321785,\"test5\":1.6051635623},{\"test4\":0.7320925724,\"test5\":1.3185592757},{\"test4\":0.7082029917,\"test5\":1.5400348163},{\"test4\":0.8826482743,\"test5\":2.7594769883},{\"test4\":1.5060117976,\"test5\":2.8034319834},{\"test4\":2.7656685037,\"test5\":2.5497663169}]"
        }
       ],
       "height": 200,
       "legends": [
        {
         "fill": "color",
         "gradientLength": {
          "signal": "height - 16"
         },
         "title": "Count of Records"
        }
       ],
       "marks": [
        {
         "encode": {
          "update": {
           "fill": {
            "field": "__count",
            "scale": "color"
           },
           "x": {
            "field": "x_end",
            "scale": "x"
           },
           "x2": {
            "field": "x_start",
            "scale": "x"
           },
           "y": {
            "field": "y_end",
            "scale": "y"
           },
           "y2": {
            "field": "y_start",
            "scale": "y"
           }
          }
         },
         "from": {
          "data": "source_0"
         },
         "name": "marks",
         "style": [
          "rect"
         ],
         "type": "rect"
        },
        {
         "encode": {
          "enter": {
           "fill": {
            "value": "black"
           },
           "fillOpacity": {
            "value": 1
           }
          },
          "update": {
           "size": {
            "value": 10
           },
           "x": {
            "field": {
             "signal": "x_name"
            },
            "scale": "x"
           },
           "y": {
            "field": {
             "signal": "y_name"
            },
            "scale": "y"
           }
          }
         },
         "from": {
          "data": "points"
         },
         "type": "symbol"
        }
       ],
       "scales": [
        {
         "bins": {
          "signal": "x_bins"
         },
         "domain": {
          "signal": "[x_bins.start, x_bins.stop]"
         },
         "name": "x",
         "range": [
          0,
          {
           "signal": "width"
          }
         ],
         "type": "linear",
         "zero": false
        },
        {
         "bins": {
          "signal": "y_bins"
         },
         "domain": {
          "signal": "[y_bins.start, y_bins.stop]"
         },
         "name": "y",
         "range": [
          {
           "signal": "height"
          },
          0
         ],
         "type": "linear",
         "zero": false
        },
        {
         "domain": {
          "data": "source_0",
          "field": "__count"
         },
         "interpolate": "hcl",
         "name": "color",
         "range": "heatmap",
         "type": "linear",
         "zero": false
        }
       ],
       "signals": [
        {
         "bind": {
          "input": "range",
          "max": 100,
          "min": 1,
          "step": 1
         },
         "name": "bandwidthX",
         "value": 4
        },
        {
         "bind": {
          "input": "range",
          "max": 100,
          "min": 1,
          "step": 1
         },
         "name": "bandwidthY",
         "value": 4
        },
        {
         "bind": {
          "input": "text"
         },
         "name": "x_name",
         "value": "test4"
        },
        {
         "bind": {
          "input": "text"
         },
         "name": "y_name",
         "value": "test5"
        }
       ],
       "width": 300
      }
     },
     "metadata": {},
     "output_type": "display_data"
    }
   ],
   "source": [
    "import pandas as pd\n",
    "import numpy as np\n",
    "\n",
    "df = pd.DataFrame(3*np.random.random((100, 2)), columns=['test4', 'test5'])\n",
    "schema = plots.heatmap_scatter(data = df, x_bin=4, y_bin=4, x_name = \"test4\", y_name = \"test5\")\n",
    "plots.save_schema(schema, \"_schema.json\")\n",
    "plots.ipy_display(schema, format=\"interactive\")"
   ]
  },
  {
   "cell_type": "code",
   "execution_count": 30,
   "id": "6e083016",
   "metadata": {},
   "outputs": [
    {
     "name": "stdout",
     "output_type": "stream",
     "text": [
      "\n"
     ]
    },
    {
     "data": {
      "application/vnd.vega.v5+json": {
       "$schema": "https://vega.github.io/schema/vega/v5.json",
       "axes": [
        {
         "labelOverlap": true,
         "orient": "bottom",
         "scale": "x",
         "tickCount": {
          "signal": "ceil(width/3)"
         },
         "title": "gamma"
        },
        {
         "labelOverlap": true,
         "orient": "left",
         "scale": "y",
         "tickCount": {
          "signal": "ceil(height/3)"
         },
         "title": "alpha"
        }
       ],
       "data": [
        {
         "name": "points",
         "values": "[{\"alpha\":2.4941097556,\"gamma\":0.491877337},{\"alpha\":5.4916487786,\"gamma\":8.9050898135},{\"alpha\":6.1883209755,\"gamma\":5.3498343783},{\"alpha\":4.7133538111,\"gamma\":5.07601772},{\"alpha\":6.9510067267,\"gamma\":3.9905130078},{\"alpha\":6.1436310303,\"gamma\":6.5355283235},{\"alpha\":3.8140624404,\"gamma\":7.4253065041},{\"alpha\":2.0901248133,\"gamma\":4.4082673612},{\"alpha\":1.4948496831,\"gamma\":3.9158741426},{\"alpha\":5.7927646405,\"gamma\":3.665035212},{\"alpha\":7.5689618602,\"gamma\":3.0024591588},{\"alpha\":7.6967120977,\"gamma\":5.5251144463},{\"alpha\":8.9068707812,\"gamma\":5.3789684996},{\"alpha\":2.3915918903,\"gamma\":0.8804195483},{\"alpha\":4.810426372,\"gamma\":9.2174218496},{\"alpha\":8.0711734137,\"gamma\":6.861215942},{\"alpha\":6.8742253919,\"gamma\":0.6237200955},{\"alpha\":3.616352471,\"gamma\":1.137751595},{\"alpha\":4.5889754774,\"gamma\":3.7952866961},{\"alpha\":7.6747519139,\"gamma\":5.4623798626},{\"alpha\":1.8371159758,\"gamma\":1.7979114859},{\"alpha\":9.5101526501,\"gamma\":2.3681349063},{\"alpha\":8.8762298248,\"gamma\":5.6173989327},{\"alpha\":8.4458152765,\"gamma\":5.4789692721},{\"alpha\":0.5936206976,\"gamma\":2.7935126434},{\"alpha\":0.9399608247,\"gamma\":2.9486668502},{\"alpha\":8.8730104638,\"gamma\":3.0060695262},{\"alpha\":3.0482532488,\"gamma\":0.7507204902},{\"alpha\":2.7009099059,\"gamma\":6.9156236518},{\"alpha\":2.990995151,\"gamma\":5.0533098116},{\"alpha\":3.1705942034,\"gamma\":1.4672552159},{\"alpha\":8.0614988123,\"gamma\":2.2679368597},{\"alpha\":7.3581516116,\"gamma\":6.6820747045},{\"alpha\":4.7862411516,\"gamma\":1.9564610407},{\"alpha\":9.6320292894,\"gamma\":9.3978368623},{\"alpha\":0.1676171314,\"gamma\":8.5451876965},{\"alpha\":8.2748094882,\"gamma\":3.189858448},{\"alpha\":6.645866501,\"gamma\":3.2291098604},{\"alpha\":0.7263678212,\"gamma\":9.8736277711},{\"alpha\":7.8070406313,\"gamma\":5.0209342594},{\"alpha\":7.6395777059,\"gamma\":0.7078412009},{\"alpha\":3.82521828,\"gamma\":6.4122752046},{\"alpha\":8.9071189295,\"gamma\":4.3306041868},{\"alpha\":2.3144892359,\"gamma\":0.2914232245},{\"alpha\":6.8334065573,\"gamma\":3.1138831339},{\"alpha\":3.1762943228,\"gamma\":0.2760065385},{\"alpha\":1.7191606598,\"gamma\":3.8809438152},{\"alpha\":3.3716516674,\"gamma\":7.295586763},{\"alpha\":7.2307718636,\"gamma\":7.37477227},{\"alpha\":9.9772154144,\"gamma\":8.5787824983},{\"alpha\":9.7801721291,\"gamma\":6.993086164},{\"alpha\":4.0729674836,\"gamma\":6.2961698534},{\"alpha\":7.0760340847,\"gamma\":4.8946589306},{\"alpha\":4.0149378353,\"gamma\":6.2901621882},{\"alpha\":8.5456074673,\"gamma\":8.4753218054},{\"alpha\":2.3830719609,\"gamma\":2.053266005},{\"alpha\":2.2300239309,\"gamma\":3.5170155564},{\"alpha\":3.4145378956,\"gamma\":8.9175758379},{\"alpha\":7.0590733107,\"gamma\":2.4109639597},{\"alpha\":7.6135401028,\"gamma\":5.3587524014},{\"alpha\":7.5307127842,\"gamma\":2.3061359148},{\"alpha\":5.8493829052,\"gamma\":7.1777874375},{\"alpha\":5.6631203078,\"gamma\":5.9376530785},{\"alpha\":0.0396541392,\"gamma\":0.6871877632},{\"alpha\":2.9158901497,\"gamma\":0.5277294823},{\"alpha\":1.7390143669,\"gamma\":0.444961612},{\"alpha\":3.1793547476,\"gamma\":4.9615190538},{\"alpha\":7.3884184561,\"gamma\":7.927064496},{\"alpha\":4.5427318595,\"gamma\":3.5978711305},{\"alpha\":8.0158769277,\"gamma\":1.0399950251},{\"alpha\":6.0271425982,\"gamma\":3.7793291324},{\"alpha\":1.8198310623,\"gamma\":3.8102700274},{\"alpha\":1.5756943826,\"gamma\":9.7159209617},{\"alpha\":8.6255444448,\"gamma\":1.7088630709},{\"alpha\":9.8493764961,\"gamma\":5.0024870729},{\"alpha\":0.6498726295,\"gamma\":9.3333765068},{\"alpha\":0.6844310284,\"gamma\":8.9711999664},{\"alpha\":2.264712023,\"gamma\":4.7933726764},{\"alpha\":6.9167568633,\"gamma\":4.651737349},{\"alpha\":9.838691601,\"gamma\":5.7428742443},{\"alpha\":4.6197930688,\"gamma\":4.6284123258},{\"alpha\":5.5700571171,\"gamma\":0.5972053814},{\"alpha\":8.2028413893,\"gamma\":4.6035276279},{\"alpha\":2.7748939158,\"gamma\":6.3093007455},{\"alpha\":9.4974376085,\"gamma\":9.2595294571},{\"alpha\":3.1865525749,\"gamma\":8.8588040935},{\"alpha\":8.9274052928,\"gamma\":0.265350536},{\"alpha\":6.807803729,\"gamma\":7.3597290815},{\"alpha\":6.9678846986,\"gamma\":8.2881803482},{\"alpha\":3.8908313907,\"gamma\":4.1382519359},{\"alpha\":9.8205244882,\"gamma\":3.9370654163},{\"alpha\":7.322692264,\"gamma\":3.5530622598},{\"alpha\":9.43865899,\"gamma\":1.5541987867},{\"alpha\":8.9567845315,\"gamma\":3.8672708871},{\"alpha\":0.4816832432,\"gamma\":3.3268481028},{\"alpha\":4.4864633384,\"gamma\":8.7009567727},{\"alpha\":0.3118255398,\"gamma\":9.6427688565},{\"alpha\":9.7988478899,\"gamma\":9.4367764659},{\"alpha\":5.348588812,\"gamma\":7.6886534111},{\"alpha\":6.5146158684,\"gamma\":7.9278194852}]"
        },
        {
         "format": {
          "type": "json"
         },
         "name": "mesh",
         "values": "[{\"x_start\":-0.5555555556,\"x_end\":0.5555555556,\"y_start\":-0.5555555556,\"y_end\":0.5555555556,\"__count\":0.0},{\"x_start\":0.5555555556,\"x_end\":1.6666666667,\"y_start\":-0.5555555556,\"y_end\":0.5555555556,\"__count\":1.2345679012},{\"x_start\":1.6666666667,\"x_end\":2.7777777778,\"y_start\":-0.5555555556,\"y_end\":0.5555555556,\"__count\":4.9382716049},{\"x_start\":2.7777777778,\"x_end\":3.8888888889,\"y_start\":-0.5555555556,\"y_end\":0.5555555556,\"__count\":11.1111111111},{\"x_start\":3.8888888889,\"x_end\":5.0,\"y_start\":-0.5555555556,\"y_end\":0.5555555556,\"__count\":19.7530864198},{\"x_start\":5.0,\"x_end\":6.1111111111,\"y_start\":-0.5555555556,\"y_end\":0.5555555556,\"__count\":30.8641975309},{\"x_start\":6.1111111111,\"x_end\":7.2222222222,\"y_start\":-0.5555555556,\"y_end\":0.5555555556,\"__count\":44.4444444444},{\"x_start\":7.2222222222,\"x_end\":8.3333333333,\"y_start\":-0.5555555556,\"y_end\":0.5555555556,\"__count\":60.4938271605},{\"x_start\":8.3333333333,\"x_end\":9.4444444444,\"y_start\":-0.5555555556,\"y_end\":0.5555555556,\"__count\":79.012345679},{\"x_start\":9.4444444444,\"x_end\":10.5555555556,\"y_start\":-0.5555555556,\"y_end\":0.5555555556,\"__count\":100.0},{\"x_start\":-0.5555555556,\"x_end\":0.5555555556,\"y_start\":0.5555555556,\"y_end\":1.6666666667,\"__count\":1.2345679012},{\"x_start\":0.5555555556,\"x_end\":1.6666666667,\"y_start\":0.5555555556,\"y_end\":1.6666666667,\"__count\":2.4691358025},{\"x_start\":1.6666666667,\"x_end\":2.7777777778,\"y_start\":0.5555555556,\"y_end\":1.6666666667,\"__count\":6.1728395062},{\"x_start\":2.7777777778,\"x_end\":3.8888888889,\"y_start\":0.5555555556,\"y_end\":1.6666666667,\"__count\":12.3456790123},{\"x_start\":3.8888888889,\"x_end\":5.0,\"y_start\":0.5555555556,\"y_end\":1.6666666667,\"__count\":20.987654321},{\"x_start\":5.0,\"x_end\":6.1111111111,\"y_start\":0.5555555556,\"y_end\":1.6666666667,\"__count\":32.0987654321},{\"x_start\":6.1111111111,\"x_end\":7.2222222222,\"y_start\":0.5555555556,\"y_end\":1.6666666667,\"__count\":45.6790123457},{\"x_start\":7.2222222222,\"x_end\":8.3333333333,\"y_start\":0.5555555556,\"y_end\":1.6666666667,\"__count\":61.7283950617},{\"x_start\":8.3333333333,\"x_end\":9.4444444444,\"y_start\":0.5555555556,\"y_end\":1.6666666667,\"__count\":80.2469135802},{\"x_start\":9.4444444444,\"x_end\":10.5555555556,\"y_start\":0.5555555556,\"y_end\":1.6666666667,\"__count\":101.2345679012},{\"x_start\":-0.5555555556,\"x_end\":0.5555555556,\"y_start\":1.6666666667,\"y_end\":2.7777777778,\"__count\":4.9382716049},{\"x_start\":0.5555555556,\"x_end\":1.6666666667,\"y_start\":1.6666666667,\"y_end\":2.7777777778,\"__count\":6.1728395062},{\"x_start\":1.6666666667,\"x_end\":2.7777777778,\"y_start\":1.6666666667,\"y_end\":2.7777777778,\"__count\":9.8765432099},{\"x_start\":2.7777777778,\"x_end\":3.8888888889,\"y_start\":1.6666666667,\"y_end\":2.7777777778,\"__count\":16.049382716},{\"x_start\":3.8888888889,\"x_end\":5.0,\"y_start\":1.6666666667,\"y_end\":2.7777777778,\"__count\":24.6913580247},{\"x_start\":5.0,\"x_end\":6.1111111111,\"y_start\":1.6666666667,\"y_end\":2.7777777778,\"__count\":35.8024691358},{\"x_start\":6.1111111111,\"x_end\":7.2222222222,\"y_start\":1.6666666667,\"y_end\":2.7777777778,\"__count\":49.3827160494},{\"x_start\":7.2222222222,\"x_end\":8.3333333333,\"y_start\":1.6666666667,\"y_end\":2.7777777778,\"__count\":65.4320987654},{\"x_start\":8.3333333333,\"x_end\":9.4444444444,\"y_start\":1.6666666667,\"y_end\":2.7777777778,\"__count\":83.950617284},{\"x_start\":9.4444444444,\"x_end\":10.5555555556,\"y_start\":1.6666666667,\"y_end\":2.7777777778,\"__count\":104.9382716049},{\"x_start\":-0.5555555556,\"x_end\":0.5555555556,\"y_start\":2.7777777778,\"y_end\":3.8888888889,\"__count\":11.1111111111},{\"x_start\":0.5555555556,\"x_end\":1.6666666667,\"y_start\":2.7777777778,\"y_end\":3.8888888889,\"__count\":12.3456790123},{\"x_start\":1.6666666667,\"x_end\":2.7777777778,\"y_start\":2.7777777778,\"y_end\":3.8888888889,\"__count\":16.049382716},{\"x_start\":2.7777777778,\"x_end\":3.8888888889,\"y_start\":2.7777777778,\"y_end\":3.8888888889,\"__count\":22.2222222222},{\"x_start\":3.8888888889,\"x_end\":5.0,\"y_start\":2.7777777778,\"y_end\":3.8888888889,\"__count\":30.8641975309},{\"x_start\":5.0,\"x_end\":6.1111111111,\"y_start\":2.7777777778,\"y_end\":3.8888888889,\"__count\":41.975308642},{\"x_start\":6.1111111111,\"x_end\":7.2222222222,\"y_start\":2.7777777778,\"y_end\":3.8888888889,\"__count\":55.5555555556},{\"x_start\":7.2222222222,\"x_end\":8.3333333333,\"y_start\":2.7777777778,\"y_end\":3.8888888889,\"__count\":71.6049382716},{\"x_start\":8.3333333333,\"x_end\":9.4444444444,\"y_start\":2.7777777778,\"y_end\":3.8888888889,\"__count\":90.1234567901},{\"x_start\":9.4444444444,\"x_end\":10.5555555556,\"y_start\":2.7777777778,\"y_end\":3.8888888889,\"__count\":111.1111111111},{\"x_start\":-0.5555555556,\"x_end\":0.5555555556,\"y_start\":3.8888888889,\"y_end\":5.0,\"__count\":19.7530864198},{\"x_start\":0.5555555556,\"x_end\":1.6666666667,\"y_start\":3.8888888889,\"y_end\":5.0,\"__count\":20.987654321},{\"x_start\":1.6666666667,\"x_end\":2.7777777778,\"y_start\":3.8888888889,\"y_end\":5.0,\"__count\":24.6913580247},{\"x_start\":2.7777777778,\"x_end\":3.8888888889,\"y_start\":3.8888888889,\"y_end\":5.0,\"__count\":30.8641975309},{\"x_start\":3.8888888889,\"x_end\":5.0,\"y_start\":3.8888888889,\"y_end\":5.0,\"__count\":39.5061728395},{\"x_start\":5.0,\"x_end\":6.1111111111,\"y_start\":3.8888888889,\"y_end\":5.0,\"__count\":50.6172839506},{\"x_start\":6.1111111111,\"x_end\":7.2222222222,\"y_start\":3.8888888889,\"y_end\":5.0,\"__count\":64.1975308642},{\"x_start\":7.2222222222,\"x_end\":8.3333333333,\"y_start\":3.8888888889,\"y_end\":5.0,\"__count\":80.2469135802},{\"x_start\":8.3333333333,\"x_end\":9.4444444444,\"y_start\":3.8888888889,\"y_end\":5.0,\"__count\":98.7654320988},{\"x_start\":9.4444444444,\"x_end\":10.5555555556,\"y_start\":3.8888888889,\"y_end\":5.0,\"__count\":119.7530864198},{\"x_start\":-0.5555555556,\"x_end\":0.5555555556,\"y_start\":5.0,\"y_end\":6.1111111111,\"__count\":30.8641975309},{\"x_start\":0.5555555556,\"x_end\":1.6666666667,\"y_start\":5.0,\"y_end\":6.1111111111,\"__count\":32.0987654321},{\"x_start\":1.6666666667,\"x_end\":2.7777777778,\"y_start\":5.0,\"y_end\":6.1111111111,\"__count\":35.8024691358},{\"x_start\":2.7777777778,\"x_end\":3.8888888889,\"y_start\":5.0,\"y_end\":6.1111111111,\"__count\":41.975308642},{\"x_start\":3.8888888889,\"x_end\":5.0,\"y_start\":5.0,\"y_end\":6.1111111111,\"__count\":50.6172839506},{\"x_start\":5.0,\"x_end\":6.1111111111,\"y_start\":5.0,\"y_end\":6.1111111111,\"__count\":61.7283950617},{\"x_start\":6.1111111111,\"x_end\":7.2222222222,\"y_start\":5.0,\"y_end\":6.1111111111,\"__count\":75.3086419753},{\"x_start\":7.2222222222,\"x_end\":8.3333333333,\"y_start\":5.0,\"y_end\":6.1111111111,\"__count\":91.3580246914},{\"x_start\":8.3333333333,\"x_end\":9.4444444444,\"y_start\":5.0,\"y_end\":6.1111111111,\"__count\":109.8765432099},{\"x_start\":9.4444444444,\"x_end\":10.5555555556,\"y_start\":5.0,\"y_end\":6.1111111111,\"__count\":130.8641975309},{\"x_start\":-0.5555555556,\"x_end\":0.5555555556,\"y_start\":6.1111111111,\"y_end\":7.2222222222,\"__count\":44.4444444444},{\"x_start\":0.5555555556,\"x_end\":1.6666666667,\"y_start\":6.1111111111,\"y_end\":7.2222222222,\"__count\":45.6790123457},{\"x_start\":1.6666666667,\"x_end\":2.7777777778,\"y_start\":6.1111111111,\"y_end\":7.2222222222,\"__count\":49.3827160494},{\"x_start\":2.7777777778,\"x_end\":3.8888888889,\"y_start\":6.1111111111,\"y_end\":7.2222222222,\"__count\":55.5555555556},{\"x_start\":3.8888888889,\"x_end\":5.0,\"y_start\":6.1111111111,\"y_end\":7.2222222222,\"__count\":64.1975308642},{\"x_start\":5.0,\"x_end\":6.1111111111,\"y_start\":6.1111111111,\"y_end\":7.2222222222,\"__count\":75.3086419753},{\"x_start\":6.1111111111,\"x_end\":7.2222222222,\"y_start\":6.1111111111,\"y_end\":7.2222222222,\"__count\":88.8888888889},{\"x_start\":7.2222222222,\"x_end\":8.3333333333,\"y_start\":6.1111111111,\"y_end\":7.2222222222,\"__count\":104.9382716049},{\"x_start\":8.3333333333,\"x_end\":9.4444444444,\"y_start\":6.1111111111,\"y_end\":7.2222222222,\"__count\":123.4567901235},{\"x_start\":9.4444444444,\"x_end\":10.5555555556,\"y_start\":6.1111111111,\"y_end\":7.2222222222,\"__count\":144.4444444444},{\"x_start\":-0.5555555556,\"x_end\":0.5555555556,\"y_start\":7.2222222222,\"y_end\":8.3333333333,\"__count\":60.4938271605},{\"x_start\":0.5555555556,\"x_end\":1.6666666667,\"y_start\":7.2222222222,\"y_end\":8.3333333333,\"__count\":61.7283950617},{\"x_start\":1.6666666667,\"x_end\":2.7777777778,\"y_start\":7.2222222222,\"y_end\":8.3333333333,\"__count\":65.4320987654},{\"x_start\":2.7777777778,\"x_end\":3.8888888889,\"y_start\":7.2222222222,\"y_end\":8.3333333333,\"__count\":71.6049382716},{\"x_start\":3.8888888889,\"x_end\":5.0,\"y_start\":7.2222222222,\"y_end\":8.3333333333,\"__count\":80.2469135802},{\"x_start\":5.0,\"x_end\":6.1111111111,\"y_start\":7.2222222222,\"y_end\":8.3333333333,\"__count\":91.3580246914},{\"x_start\":6.1111111111,\"x_end\":7.2222222222,\"y_start\":7.2222222222,\"y_end\":8.3333333333,\"__count\":104.9382716049},{\"x_start\":7.2222222222,\"x_end\":8.3333333333,\"y_start\":7.2222222222,\"y_end\":8.3333333333,\"__count\":120.987654321},{\"x_start\":8.3333333333,\"x_end\":9.4444444444,\"y_start\":7.2222222222,\"y_end\":8.3333333333,\"__count\":139.5061728395},{\"x_start\":9.4444444444,\"x_end\":10.5555555556,\"y_start\":7.2222222222,\"y_end\":8.3333333333,\"__count\":160.4938271605},{\"x_start\":-0.5555555556,\"x_end\":0.5555555556,\"y_start\":8.3333333333,\"y_end\":9.4444444444,\"__count\":79.012345679},{\"x_start\":0.5555555556,\"x_end\":1.6666666667,\"y_start\":8.3333333333,\"y_end\":9.4444444444,\"__count\":80.2469135802},{\"x_start\":1.6666666667,\"x_end\":2.7777777778,\"y_start\":8.3333333333,\"y_end\":9.4444444444,\"__count\":83.950617284},{\"x_start\":2.7777777778,\"x_end\":3.8888888889,\"y_start\":8.3333333333,\"y_end\":9.4444444444,\"__count\":90.1234567901},{\"x_start\":3.8888888889,\"x_end\":5.0,\"y_start\":8.3333333333,\"y_end\":9.4444444444,\"__count\":98.7654320988},{\"x_start\":5.0,\"x_end\":6.1111111111,\"y_start\":8.3333333333,\"y_end\":9.4444444444,\"__count\":109.8765432099},{\"x_start\":6.1111111111,\"x_end\":7.2222222222,\"y_start\":8.3333333333,\"y_end\":9.4444444444,\"__count\":123.4567901235},{\"x_start\":7.2222222222,\"x_end\":8.3333333333,\"y_start\":8.3333333333,\"y_end\":9.4444444444,\"__count\":139.5061728395},{\"x_start\":8.3333333333,\"x_end\":9.4444444444,\"y_start\":8.3333333333,\"y_end\":9.4444444444,\"__count\":158.024691358},{\"x_start\":9.4444444444,\"x_end\":10.5555555556,\"y_start\":8.3333333333,\"y_end\":9.4444444444,\"__count\":179.012345679},{\"x_start\":-0.5555555556,\"x_end\":0.5555555556,\"y_start\":9.4444444444,\"y_end\":10.5555555556,\"__count\":100.0},{\"x_start\":0.5555555556,\"x_end\":1.6666666667,\"y_start\":9.4444444444,\"y_end\":10.5555555556,\"__count\":101.2345679012},{\"x_start\":1.6666666667,\"x_end\":2.7777777778,\"y_start\":9.4444444444,\"y_end\":10.5555555556,\"__count\":104.9382716049},{\"x_start\":2.7777777778,\"x_end\":3.8888888889,\"y_start\":9.4444444444,\"y_end\":10.5555555556,\"__count\":111.1111111111},{\"x_start\":3.8888888889,\"x_end\":5.0,\"y_start\":9.4444444444,\"y_end\":10.5555555556,\"__count\":119.7530864198},{\"x_start\":5.0,\"x_end\":6.1111111111,\"y_start\":9.4444444444,\"y_end\":10.5555555556,\"__count\":130.8641975309},{\"x_start\":6.1111111111,\"x_end\":7.2222222222,\"y_start\":9.4444444444,\"y_end\":10.5555555556,\"__count\":144.4444444444},{\"x_start\":7.2222222222,\"x_end\":8.3333333333,\"y_start\":9.4444444444,\"y_end\":10.5555555556,\"__count\":160.4938271605},{\"x_start\":8.3333333333,\"x_end\":9.4444444444,\"y_start\":9.4444444444,\"y_end\":10.5555555556,\"__count\":179.012345679},{\"x_start\":9.4444444444,\"x_end\":10.5555555556,\"y_start\":9.4444444444,\"y_end\":10.5555555556,\"__count\":200.0}]"
        }
       ],
       "height": 200,
       "legends": [
        {
         "fill": "color",
         "gradientLength": {
          "signal": "height - 16"
         },
         "title": "Histogram Values"
        }
       ],
       "marks": [
        {
         "encode": {
          "update": {
           "fill": {
            "field": "__count",
            "scale": "color"
           },
           "x": {
            "field": "x_end",
            "scale": "x"
           },
           "x2": {
            "field": "x_start",
            "scale": "x"
           },
           "y": {
            "field": "y_end",
            "scale": "y"
           },
           "y2": {
            "field": "y_start",
            "scale": "y"
           }
          }
         },
         "from": {
          "data": "mesh"
         },
         "name": "marks",
         "style": [
          "rect"
         ],
         "type": "rect"
        },
        {
         "encode": {
          "enter": {
           "fill": {
            "value": "black"
           },
           "fillOpacity": {
            "value": 1
           }
          },
          "update": {
           "size": {
            "value": 10
           },
           "x": {
            "field": "gamma",
            "scale": "x"
           },
           "y": {
            "field": "alpha",
            "scale": "y"
           }
          }
         },
         "from": {
          "data": "points"
         },
         "type": "symbol"
        }
       ],
       "scales": [
        {
         "domain": {
          "fields": [
           {
            "data": "points",
            "field": "gamma"
           },
           {
            "data": "mesh",
            "field": "x_start"
           },
           {
            "data": "mesh",
            "field": "y_end"
           }
          ]
         },
         "name": "x",
         "range": [
          0,
          {
           "signal": "width"
          }
         ],
         "type": "linear"
        },
        {
         "domain": {
          "fields": [
           {
            "data": "points",
            "field": "alpha"
           },
           {
            "data": "mesh",
            "field": "y_start"
           },
           {
            "data": "mesh",
            "field": "y_end"
           }
          ]
         },
         "name": "y",
         "range": [
          {
           "signal": "height"
          },
          0
         ],
         "type": "linear"
        },
        {
         "domain": {
          "data": "mesh",
          "field": "__count"
         },
         "interpolate": "hcl",
         "name": "color",
         "range": "heatmap",
         "type": "linear",
         "zero": false
        }
       ],
       "width": 300
      }
     },
     "metadata": {},
     "output_type": "display_data"
    }
   ],
   "source": [
    "import numpy as np\n",
    "import pandas as pd\n",
    "from pyciemss.visuals import plots, vega\n",
    "\n",
    "def create_fake_data():\n",
    "    nx, ny = (10, 10)\n",
    "    x = np.linspace(0, 10, nx)\n",
    "    y, a = np.linspace(0, 10, ny, retstep = True)\n",
    "\n",
    "    # create mesh data\n",
    "    xv, yv = np.meshgrid(x, y)\n",
    "    zz = xv**2 + yv**2\n",
    "\n",
    "    # create scatter plot\n",
    "    df = pd.DataFrame(10*np.random.random((100, 2)), columns=['alpha', 'gamma'])\n",
    "    return (xv, yv, zz), df\n",
    "\n",
    "mesh_data, scatter_data = create_fake_data()\n",
    "\n",
    "\n",
    "schema = plots.mesh_scatter(mesh_data = mesh_data, scatter_data = scatter_data)\n",
    "plots.save_schema(schema, \"_schema.json\")\n",
    "plots.ipy_display(schema, format=\"interactive\")"
   ]
  }
 ],
 "metadata": {
  "kernelspec": {
   "display_name": "Python 3 (ipykernel)",
   "language": "python",
   "name": "python3"
  },
  "language_info": {
   "codemirror_mode": {
    "name": "ipython",
    "version": 3
   },
   "file_extension": ".py",
   "mimetype": "text/x-python",
   "name": "python",
   "nbconvert_exporter": "python",
   "pygments_lexer": "ipython3",
   "version": "3.11.4"
  }
 },
 "nbformat": 4,
 "nbformat_minor": 5
}
