{
 "cells": [
  {
   "cell_type": "code",
   "execution_count": 46,
   "id": "a1299176",
   "metadata": {},
   "outputs": [
    {
     "name": "stdout",
     "output_type": "stream",
     "text": [
      "The autoreload extension is already loaded. To reload it, use:\n",
      "  %reload_ext autoreload\n"
     ]
    }
   ],
   "source": [
    "%load_ext autoreload\n",
    "%autoreload 2"
   ]
  },
  {
   "cell_type": "code",
   "execution_count": 47,
   "id": "5c1729f7-1b0d-4913-8048-01624c506cc5",
   "metadata": {},
   "outputs": [],
   "source": [
    "import networkx as nx\n",
    "from pyciemss.visuals import plots, vega\n"
   ]
  },
  {
   "cell_type": "code",
   "execution_count": null,
   "id": "07d29614",
   "metadata": {},
   "outputs": [],
   "source": []
  },
  {
   "cell_type": "code",
   "execution_count": 48,
   "id": "997ef041-0312-4b83-bbe2-32a6ddfe3d6c",
   "metadata": {},
   "outputs": [],
   "source": [
    "g = nx.generators.barabasi_albert_graph(5, 3)"
   ]
  },
  {
   "cell_type": "code",
   "execution_count": 49,
   "id": "a4b1668c",
   "metadata": {},
   "outputs": [
    {
     "data": {
      "image/png": "[encoded data removed]",
      "text/plain": [
       "<IPython.core.display.Image object>"
      ]
     },
     "execution_count": 49,
     "metadata": {},
     "output_type": "execute_result"
    }
   ],
   "source": [
    "import random\n",
    "def rand_attributions():\n",
    "    possible = \"ABCD\"\n",
    "    return random.sample(possible, random.randint(1, len(possible)))\n",
    "\n",
    "def rand_label():\n",
    "    possible = \"TUVWXYZ\"\n",
    "    return random.randint(1, 10)\n",
    "    return random.sample(possible, 1)[0]\n",
    "\n",
    "node_properties = {n: {\"attribution\": rand_attributions(), \n",
    "                       \"label\": rand_label()}\n",
    "                    for n in g.nodes()}\n",
    "\n",
    "edge_attributions = {e: {\"attribution\": rand_attributions()} for e in g.edges()}\n",
    "\n",
    "nx.set_node_attributes(g, node_properties)\n",
    "nx.set_edge_attributes(g, edge_attributions)\n",
    "\n",
    "schema = plots.attributed_graph(g)\n",
    "plots.save_schema(schema, \"_schema.json\")\n",
    "plots.ipy_display(schema)"
   ]
  },
  {
   "cell_type": "code",
   "execution_count": 50,
   "id": "ece8d8e5",
   "metadata": {},
   "outputs": [
    {
     "name": "stdout",
     "output_type": "stream",
     "text": [
      "\n"
     ]
    },
    {
     "data": {
      "application/vnd.vega.v5+json": {
       "$schema": "https://vega.github.io/schema/vega/v5.json",
       "data": [
        {
         "name": "node-data",
         "on": [
          {
           "modify": "node.datum",
           "trigger": "fix.length == 2",
           "values": "{fixedx: fix[0], fixedy: fix[1]}"
          },
          {
           "modify": "reset",
           "trigger": "reset",
           "values": "{fixedx: -100, fixedy: -100}"
          }
         ],
         "values": [
          {
           "fixedx": -100,
           "fixedy": -100,
           "fx": 38,
           "fy": 15,
           "group": "V",
           "id": 0,
           "label": 0
          },
          {
           "fixedx": -100,
           "fixedy": -100,
           "fx": 81,
           "fy": 95,
           "group": "T",
           "id": 1,
           "label": 1
          },
          {
           "fixedx": -100,
           "fixedy": -100,
           "fx": 77,
           "fy": 16,
           "group": "V",
           "id": 2,
           "label": 2
          },
          {
           "fixedx": -100,
           "fixedy": -100,
           "fx": 55,
           "fy": 57,
           "group": "U",
           "id": 3,
           "label": 3
          },
          {
           "fixedx": -100,
           "fixedy": -100,
           "fx": 13,
           "fy": 56,
           "group": "X",
           "id": 4,
           "label": 4
          }
         ]
        },
        {
         "name": "link-data",
         "values": [
          {
           "group": "Y",
           "source": 0,
           "target": 1
          },
          {
           "group": "Y",
           "source": 0,
           "target": 2
          },
          {
           "group": "Y",
           "source": 0,
           "target": 3
          },
          {
           "group": "W",
           "source": 0,
           "target": 4
          },
          {
           "group": "X",
           "source": 1,
           "target": 4
          },
          {
           "group": "X",
           "source": 3,
           "target": 4
          }
         ]
        }
       ],
       "description": "A node-link diagram with force-directed layout.",
       "height": 500,
       "legends": [
        {
         "stroke": "color",
         "symbolType": "stroke",
         "title": "Group"
        },
        {
         "stroke": "colorlink",
         "symbolType": "stroke",
         "title": "Link Group"
        }
       ],
       "marks": [
        {
         "encode": {
          "enter": {
           "fill": {
            "field": "group",
            "value": "color"
           },
           "stroke": {
            "value": "white"
           }
          },
          "update": {
           "cursor": {
            "value": "pointer"
           },
           "fx": {
            "signal": "datum.fixedx != -100 ? datum.fixedx  : ((layoutdata ? scale('xscale', datum.fx) : null))"
           },
           "fy": {
            "signal": "datum.fixedy != -100 ? datum.fixedy : ((layoutdata ? scale('yscale', datum.fy) : null))"
           },
           "size": {
            "signal": "2 * nodeRadius * nodeRadius"
           }
          }
         },
         "from": {
          "data": "node-data"
         },
         "name": "nodes",
         "transform": [
          {
           "forces": [
            {
             "force": "center",
             "x": {
              "signal": "cx"
             },
             "y": {
              "signal": "cy"
             }
            },
            {
             "force": "collide",
             "radius": {
              "signal": "nodeRadius"
             }
            },
            {
             "force": "nbody",
             "strength": {
              "signal": "nodeCharge"
             }
            },
            {
             "distance": {
              "signal": "linkDistance"
             },
             "force": "link",
             "links": "link-data"
            }
           ],
           "iterations": 300,
           "restart": {
            "signal": "restart"
           },
           "signal": "force",
           "static": true,
           "type": "force"
          }
         ],
         "type": "symbol",
         "zindex": 1
        },
        {
         "encode": {
          "enter": {
           "align": {
            "value": "center"
           },
           "baseline": {
            "value": "middle"
           },
           "fill": {
            "value": "black"
           },
           "fontSize": {
            "value": 10
           },
           "text": {
            "field": "datum.label"
           }
          },
          "update": {
           "x": {
            "field": "x"
           },
           "y": {
            "field": "y"
           }
          }
         },
         "from": {
          "data": "nodes"
         },
         "interactive": false,
         "name": "labels",
         "transform": [
          {
           "anchor": [
            "top",
            "bottom",
            "right",
            "left"
           ],
           "avoidMarks": [
            "nodes"
           ],
           "offset": [
            1
           ],
           "size": {
            "signal": "[width + 60, height]"
           },
           "type": "label"
          }
         ],
         "type": "text",
         "zindex": 2
        },
        {
         "encode": {
          "update": {
           "stroke": {
            "field": "group",
            "scale": "colorlink"
           },
           "strokeWidth": {
            "value": 0.5
           }
          }
         },
         "from": {
          "data": "link-data"
         },
         "interactive": false,
         "transform": [
          {
           "require": {
            "signal": "force"
           },
           "shape": "line",
           "sourceX": "datum.source.x",
           "sourceY": "datum.source.y",
           "targetX": "datum.target.x",
           "targetY": "datum.target.y",
           "type": "linkpath"
          }
         ],
         "type": "path"
        },
        {
         "encode": {
          "enter": {
           "fill": {
            "field": "group",
            "scale": "colorlink"
           },
           "shape": {
            "value": "triangle-right"
           },
           "size": {
            "value": 40
           },
           "stroke": {
            "field": "group",
            "scale": "colorlink"
           }
          },
          "hover": {
           "opacity": {
            "value": 1
           }
          },
          "update": {
           "x": {
            "field": "target.x"
           },
           "y": {
            "field": "target.y"
           }
          }
         },
         "from": {
          "data": "link-data"
         },
         "name": "arrows",
         "transform": [
          {
           "as": "tan",
           "expr": "atan2((datum.datum.target.y-datum.datum.source.y),(datum.datum.target.x-datum.datum.source.x))",
           "type": "formula"
          },
          {
           "as": "angle",
           "expr": "datum.tan*180/PI",
           "type": "formula"
          },
          {
           "as": "y",
           "expr": "datum.datum.target.y - nodeRadius*sin(datum.tan)",
           "type": "formula"
          },
          {
           "as": "x",
           "expr": "datum.datum.target.x - nodeRadius*cos(datum.tan)",
           "type": "formula"
          }
         ],
         "type": "symbol",
         "zindex": {
          "value": 40
         }
        }
       ],
       "padding": 0,
       "scales": [
        {
         "domain": {
          "data": "node-data",
          "field": "group"
         },
         "name": "color",
         "range": {
          "scheme": "category20c"
         },
         "type": "ordinal"
        },
        {
         "domain": {
          "data": "link-data",
          "field": "group"
         },
         "name": "colorlink",
         "range": {
          "scheme": "category20c"
         },
         "type": "ordinal"
        },
        {
         "domain": {
          "data": "node-data",
          "field": "fx"
         },
         "name": "xscale",
         "range": [
          10,
          {
           "signal": "width - 10"
          }
         ]
        },
        {
         "domain": {
          "data": "node-data",
          "field": "fy"
         },
         "name": "yscale",
         "range": [
          10,
          {
           "signal": "height - 10"
          }
         ]
        }
       ],
       "signals": [
        {
         "name": "cx",
         "update": "width / 2"
        },
        {
         "name": "cy",
         "update": "height / 2"
        },
        {
         "name": "nodeRadius",
         "value": 15
        },
        {
         "name": "nodeCharge",
         "value": -80
        },
        {
         "name": "linkDistance",
         "value": 80
        },
        {
         "bind": {
          "input": "checkbox"
         },
         "name": "layoutdata",
         "value": true
        },
        {
         "description": "State variable for active node fix status.",
         "name": "fix",
         "on": [
          {
           "events": "symbol:mouseout[!event.buttons], window:mouseup",
           "update": "false"
          },
          {
           "events": "symbol:mouseover",
           "update": "fix || true"
          },
          {
           "events": "[symbol:mousedown, window:mouseup] > window:mousemove!",
           "force": true,
           "update": "xy()"
          }
         ],
         "value": false
        },
        {
         "description": "Unfix node",
         "name": "reset",
         "on": [
          {
           "events": "symbol:dblclick",
           "update": "item().datum"
          }
         ],
         "value": null
        },
        {
         "description": "Graph node most recently interacted with.",
         "name": "node",
         "on": [
          {
           "events": "symbol:mouseover",
           "update": "fix === true ? item() : node"
          }
         ],
         "value": null
        },
        {
         "description": "Flag to restart Force simulation upon data changes.",
         "name": "restart",
         "on": [
          {
           "events": {
            "signal": "fix"
           },
           "update": "fix && fix.length"
          },
          {
           "events": {
            "signal": "layoutdata"
           },
           "update": "true"
          },
          {
           "events": {
            "signal": "reset"
           },
           "update": "true"
          }
         ],
         "value": false
        }
       ],
       "width": 500
      }
     },
     "metadata": {},
     "output_type": "display_data"
    }
   ],
   "source": [
    "g = nx.generators.barabasi_albert_graph(5, 3)\n",
    "def rand_group():\n",
    "    possible = \"TUVWXYZ\"\n",
    "    return random.sample(possible, 1)[0]\n",
    "\n",
    "node_properties = {n: {\"group\": rand_group(), \n",
    "                       \"fx\": random.randint(1, 100),\n",
    "                       \"fy\": random.randint(1, 100),\n",
    "                       \"fixedx\": -100,\n",
    "                       \"fixedy\": -100}\n",
    "                    for n in g.nodes()}\n",
    "\n",
    "edge_attributions = {e: {\"group\": rand_group()}\n",
    "                    for e in g.edges()}\n",
    "\n",
    "nx.set_node_attributes(g, node_properties)\n",
    "nx.set_edge_attributes(g, edge_attributions)\n",
    "nx.set_node_attributes(g, {k:f\"n{i}\" for i, k in enumerate(g.nodes)}, \"label\")\n",
    "\n",
    "schema = plots.spring_force_graph(g, node_labels=\"label\")\n",
    "plots.save_schema(schema, \"_schema.json\")\n",
    "plots.ipy_display(schema, format=\"interactive\")"
   ]
  }
 ],
 "metadata": {
  "kernelspec": {
   "display_name": "Python 3 (ipykernel)",
   "language": "python",
   "name": "python3"
  },
  "language_info": {
   "codemirror_mode": {
    "name": "ipython",
    "version": 3
   },
   "file_extension": ".py",
   "mimetype": "text/x-python",
   "name": "python",
   "nbconvert_exporter": "python",
   "pygments_lexer": "ipython3",
   "version": "3.10.11"
  }
 },
 "nbformat": 4,
 "nbformat_minor": 5
}
