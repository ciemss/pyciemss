{
 "cells": [
  {
   "cell_type": "code",
   "execution_count": 1,
   "id": "a1299176",
   "metadata": {},
   "outputs": [],
   "source": [
    "%load_ext autoreload\n",
    "%autoreload 2"
   ]
  },
  {
   "cell_type": "code",
   "execution_count": 2,
   "id": "5c1729f7-1b0d-4913-8048-01624c506cc5",
   "metadata": {},
   "outputs": [],
   "source": [
    "import networkx as nx\n",
    "from pyciemss.visuals import plots, vega\n"
   ]
  },
  {
   "cell_type": "code",
   "execution_count": 3,
   "id": "997ef041-0312-4b83-bbe2-32a6ddfe3d6c",
   "metadata": {},
   "outputs": [],
   "source": [
    "g = nx.generators.barabasi_albert_graph(5, 3)"
   ]
  },
  {
   "cell_type": "code",
   "execution_count": 4,
   "id": "a4b1668c",
   "metadata": {},
   "outputs": [
    {
     "data": {
      "image/png": "[encoded data removed]",
      "text/plain": [
       "<IPython.core.display.Image object>"
      ]
     },
     "execution_count": 4,
     "metadata": {},
     "output_type": "execute_result"
    }
   ],
   "source": [
    "import random\n",
    "def rand_attributions():\n",
    "    possible = \"ABCD\"\n",
    "    return random.sample(possible, random.randint(1, len(possible)))\n",
    "\n",
    "def rand_label():\n",
    "    possible = \"TUVWXYZ\"\n",
    "    return random.randint(1, 10)\n",
    "    return random.sample(possible, 1)[0]\n",
    "\n",
    "node_properties = {n: {\"attribution\": rand_attributions(), \n",
    "                       \"label\": rand_label()}\n",
    "                    for n in g.nodes()}\n",
    "\n",
    "edge_attributions = {e: {\"attribution\": rand_attributions()} for e in g.edges()}\n",
    "\n",
    "nx.set_node_attributes(g, node_properties)\n",
    "nx.set_edge_attributes(g, edge_attributions)\n",
    "\n",
    "schema = plots.attributed_graph(g)\n",
    "plots.save_schema(schema, \"_schema.json\")\n",
    "plots.ipy_display(schema)"
   ]
  },
  {
   "cell_type": "code",
   "execution_count": 5,
   "id": "ece8d8e5",
   "metadata": {},
   "outputs": [
    {
     "name": "stdout",
     "output_type": "stream",
     "text": [
      "\n"
     ]
    },
    {
     "data": {
      "application/vnd.vega.v5+json": {
       "$schema": "https://vega.github.io/schema/vega/v5.json",
       "data": [
        {
         "name": "node-data",
         "on": [
          {
           "modify": "node.datum",
           "trigger": "fix.length == 2",
           "values": "{interactionX: fix[0], interactionY: fix[1]}"
          },
          {
           "modify": "reset",
           "trigger": "reset",
           "values": "{interactionX: null, interactionY: null}"
          }
         ],
         "values": [
          {
           "fx": null,
           "fy": null,
           "group": "U",
           "id": 0,
           "inputX": -0.1482166732511968,
           "inputY": 0.06905348785594277,
           "label": 0
          },
          {
           "fx": null,
           "fy": null,
           "group": "X",
           "id": 1,
           "inputX": -1,
           "inputY": 0.4564093903149109,
           "label": 1
          },
          {
           "fx": null,
           "fy": null,
           "group": "W",
           "id": 2,
           "inputX": 0.5833384369100308,
           "inputY": 0.4592981281583665,
           "label": 2
          },
          {
           "fx": null,
           "fy": null,
           "group": "Z",
           "id": 3,
           "inputX": 0.034337072693475655,
           "inputY": -0.7451349045498585,
           "label": 3
          },
          {
           "fx": null,
           "fy": null,
           "group": "W",
           "id": 4,
           "inputX": 0.5305411636476903,
           "inputY": -0.2396261017793615,
           "label": 4
          }
         ]
        },
        {
         "name": "link-data",
         "values": [
          {
           "group": "T",
           "source": 0,
           "target": 1
          },
          {
           "group": "V",
           "source": 0,
           "target": 2
          },
          {
           "group": "V",
           "source": 0,
           "target": 3
          },
          {
           "group": "U",
           "source": 0,
           "target": 4
          },
          {
           "group": "W",
           "source": 2,
           "target": 4
          },
          {
           "group": "Y",
           "source": 3,
           "target": 4
          }
         ]
        }
       ],
       "description": "A node-link diagram with force-directed layout.",
       "height": 500,
       "legends": [
        {
         "stroke": "color",
         "symbolType": "stroke",
         "title": "Group"
        },
        {
         "stroke": "colorlink",
         "symbolType": "stroke",
         "title": "Link Group"
        }
       ],
       "marks": [
        {
         "encode": {
          "enter": {
           "fill": {
            "field": "group",
            "scale": "color"
           },
           "stroke": {
            "value": "white"
           }
          },
          "update": {
           "cursor": {
            "value": "pointer"
           },
           "fx": {
            "signal": "datum.interactionX == null ? scale('xscale', datum.inputX) : datum.interactionX"
           },
           "fy": {
            "signal": "datum.interactionY == null ? scale('yscale', datum.inputY) : datum.interactionY"
           },
           "size": {
            "signal": "2 * nodeRadius * nodeRadius"
           }
          }
         },
         "from": {
          "data": "node-data"
         },
         "name": "nodes",
         "transform": [
          {
           "forces": [
            {
             "force": "center",
             "x": {
              "signal": "cx"
             },
             "y": {
              "signal": "cy"
             }
            },
            {
             "force": "collide",
             "radius": {
              "signal": "nodeRadius"
             }
            },
            {
             "force": "nbody",
             "strength": {
              "signal": "nodeCharge"
             }
            },
            {
             "distance": {
              "signal": "linkDistance"
             },
             "force": "link",
             "links": "link-data"
            }
           ],
           "iterations": 300,
           "restart": {
            "signal": "restart"
           },
           "signal": "force",
           "static": true,
           "type": "force"
          }
         ],
         "type": "symbol",
         "zindex": 1
        },
        {
         "encode": {
          "enter": {
           "align": {
            "value": "center"
           },
           "baseline": {
            "value": "middle"
           },
           "fill": {
            "value": "black"
           },
           "fontSize": {
            "value": 10
           },
           "text": {
            "field": "datum.label"
           }
          },
          "update": {
           "x": {
            "field": "x"
           },
           "y": {
            "field": "y"
           }
          }
         },
         "from": {
          "data": "nodes"
         },
         "interactive": false,
         "name": "labels",
         "transform": [
          {
           "anchor": [
            "top",
            "bottom",
            "right",
            "left"
           ],
           "avoidMarks": [
            "nodes"
           ],
           "offset": [
            1
           ],
           "size": {
            "signal": "[width + 60, height]"
           },
           "type": "label"
          }
         ],
         "type": "text",
         "zindex": 2
        },
        {
         "encode": {
          "update": {
           "stroke": {
            "field": "group",
            "scale": "colorlink"
           },
           "strokeWidth": {
            "value": 0.5
           }
          }
         },
         "from": {
          "data": "link-data"
         },
         "interactive": false,
         "transform": [
          {
           "require": {
            "signal": "force"
           },
           "shape": "line",
           "sourceX": "datum.source.x",
           "sourceY": "datum.source.y",
           "targetX": "datum.target.x",
           "targetY": "datum.target.y",
           "type": "linkpath"
          }
         ],
         "type": "path"
        },
        {
         "encode": {
          "enter": {
           "fill": {
            "field": "group",
            "scale": "colorlink"
           },
           "shape": {
            "value": "triangle-right"
           },
           "size": {
            "value": 40
           },
           "stroke": {
            "field": "group",
            "scale": "colorlink"
           }
          },
          "hover": {
           "opacity": {
            "value": 1
           }
          },
          "update": {
           "x": {
            "field": "target.x"
           },
           "y": {
            "field": "target.y"
           }
          }
         },
         "from": {
          "data": "link-data"
         },
         "name": "arrows",
         "transform": [
          {
           "as": "tan",
           "expr": "atan2((datum.datum.target.y-datum.datum.source.y),(datum.datum.target.x-datum.datum.source.x))",
           "type": "formula"
          },
          {
           "as": "angle",
           "expr": "datum.tan*180/PI",
           "type": "formula"
          },
          {
           "as": "y",
           "expr": "datum.datum.target.y - nodeRadius*sin(datum.tan)",
           "type": "formula"
          },
          {
           "as": "x",
           "expr": "datum.datum.target.x - nodeRadius*cos(datum.tan)",
           "type": "formula"
          }
         ],
         "type": "symbol",
         "zindex": {
          "value": 40
         }
        }
       ],
       "padding": 0,
       "scales": [
        {
         "domain": {
          "data": "node-data",
          "field": "group"
         },
         "name": "color",
         "range": {
          "scheme": "category20c"
         },
         "type": "ordinal"
        },
        {
         "domain": {
          "data": "link-data",
          "field": "group"
         },
         "name": "colorlink",
         "range": {
          "scheme": "category20c"
         },
         "type": "ordinal"
        },
        {
         "domain": {
          "data": "node-data",
          "field": "inputX"
         },
         "name": "xscale",
         "range": [
          10,
          {
           "signal": "width - 10"
          }
         ]
        },
        {
         "domain": {
          "data": "node-data",
          "field": "inputY"
         },
         "name": "yscale",
         "range": [
          10,
          {
           "signal": "height - 10"
          }
         ]
        }
       ],
       "signals": [
        {
         "name": "cx",
         "update": "width / 2"
        },
        {
         "name": "cy",
         "update": "height / 2"
        },
        {
         "name": "nodeRadius",
         "value": 15
        },
        {
         "name": "nodeCharge",
         "value": -80
        },
        {
         "name": "linkDistance",
         "value": 80
        },
        {
         "description": "State variable for active node fix status.",
         "name": "fix",
         "on": [
          {
           "events": "symbol:mouseout[!event.buttons], window:mouseup",
           "update": "false"
          },
          {
           "events": "symbol:mouseover",
           "update": "fix || true"
          },
          {
           "events": "[symbol:mousedown, window:mouseup] > window:mousemove!",
           "force": true,
           "update": "xy()"
          }
         ],
         "value": false
        },
        {
         "description": "Unfix node",
         "name": "reset",
         "on": [
          {
           "events": "symbol:dblclick",
           "update": "item().datum"
          }
         ],
         "value": null
        },
        {
         "description": "Graph node most recently interacted with.",
         "name": "node",
         "on": [
          {
           "events": "symbol:mouseover",
           "update": "fix === true ? item() : node"
          }
         ],
         "value": null
        },
        {
         "description": "Flag to restart Force simulation upon data changes.",
         "name": "restart",
         "on": [
          {
           "events": {
            "signal": "fix"
           },
           "update": "fix && fix.length"
          },
          {
           "events": {
            "signal": "reset"
           },
           "update": "true"
          }
         ],
         "value": false
        }
       ],
       "width": 500
      }
     },
     "metadata": {},
     "output_type": "display_data"
    }
   ],
   "source": [
    "g = nx.generators.barabasi_albert_graph(5, 3)\n",
    "def rand_group():\n",
    "    possible = \"TUVWXYZ\"\n",
    "    return random.sample(possible, 1)[0]\n",
    "\n",
    "node_properties = {n: {\"group\": rand_group()} for n in g.nodes()}\n",
    "\n",
    "pos = nx.fruchterman_reingold_layout(g)\n",
    "\n",
    "edge_attributions = {e: {\"group\": rand_group()}\n",
    "                    for e in g.edges()}\n",
    "\n",
    "nx.set_node_attributes(g, node_properties)\n",
    "nx.set_edge_attributes(g, edge_attributions)\n",
    "nx.set_node_attributes(g, {k:f\"n{i}\" for i, k in enumerate(g.nodes)}, \"label\")\n",
    "\n",
    "schema = plots.spring_force_graph(g, node_labels=\"label\", layout=pos)\n",
    "plots.save_schema(schema, \"_schema.json\")\n",
    "plots.ipy_display(schema, format=\"interactive\")"
   ]
  },
  {
   "cell_type": "code",
   "execution_count": 6,
   "id": "29942999",
   "metadata": {},
   "outputs": [
    {
     "name": "stdout",
     "output_type": "stream",
     "text": [
      "\n"
     ]
    },
    {
     "data": {
      "application/vnd.vega.v5+json": {
       "$schema": "https://vega.github.io/schema/vega/v5.json",
       "data": [
        {
         "name": "node-data",
         "on": [
          {
           "modify": "node.datum",
           "trigger": "fix.length == 2",
           "values": "{interactionX: fix[0], interactionY: fix[1]}"
          },
          {
           "modify": "reset",
           "trigger": "reset",
           "values": "{interactionX: null, interactionY: null}"
          }
         ],
         "values": [
          {
           "group": "U",
           "id": 0,
           "label": 0
          },
          {
           "group": "T",
           "id": 1,
           "label": 1
          },
          {
           "group": "Z",
           "id": 2,
           "label": 2
          },
          {
           "group": "U",
           "id": 3,
           "label": 3
          },
          {
           "group": "W",
           "id": 4,
           "label": 4
          }
         ]
        },
        {
         "name": "link-data",
         "values": [
          {
           "group": "Y",
           "source": 0,
           "target": 1
          },
          {
           "group": "T",
           "source": 0,
           "target": 2
          },
          {
           "group": "T",
           "source": 0,
           "target": 3
          },
          {
           "group": "W",
           "source": 0,
           "target": 4
          },
          {
           "group": "X",
           "source": 1,
           "target": 4
          },
          {
           "group": "T",
           "source": 2,
           "target": 4
          }
         ]
        }
       ],
       "description": "A node-link diagram with force-directed layout.",
       "height": 500,
       "legends": [
        {
         "stroke": "color",
         "symbolType": "stroke",
         "title": "Group"
        },
        {
         "stroke": "colorlink",
         "symbolType": "stroke",
         "title": "Link Group"
        }
       ],
       "marks": [
        {
         "encode": {
          "enter": {
           "fill": {
            "field": "group",
            "scale": "color"
           },
           "stroke": {
            "value": "white"
           }
          },
          "update": {
           "cursor": {
            "value": "pointer"
           },
           "fx": {
            "signal": "datum.interactionX == null ? scale('xscale', datum.inputX) : datum.interactionX"
           },
           "fy": {
            "signal": "datum.interactionY == null ? scale('yscale', datum.inputY) : datum.interactionY"
           },
           "size": {
            "signal": "2 * nodeRadius * nodeRadius"
           }
          }
         },
         "from": {
          "data": "node-data"
         },
         "name": "nodes",
         "transform": [
          {
           "forces": [
            {
             "force": "center",
             "x": {
              "signal": "cx"
             },
             "y": {
              "signal": "cy"
             }
            },
            {
             "force": "collide",
             "radius": {
              "signal": "nodeRadius"
             }
            },
            {
             "force": "nbody",
             "strength": {
              "signal": "nodeCharge"
             }
            },
            {
             "distance": {
              "signal": "linkDistance"
             },
             "force": "link",
             "links": "link-data"
            }
           ],
           "iterations": 300,
           "restart": {
            "signal": "restart"
           },
           "signal": "force",
           "static": true,
           "type": "force"
          }
         ],
         "type": "symbol",
         "zindex": 1
        },
        {
         "encode": {
          "enter": {
           "align": {
            "value": "center"
           },
           "baseline": {
            "value": "middle"
           },
           "fill": {
            "value": "black"
           },
           "fontSize": {
            "value": 10
           },
           "text": {
            "field": "datum.label"
           }
          },
          "update": {
           "x": {
            "field": "x"
           },
           "y": {
            "field": "y"
           }
          }
         },
         "from": {
          "data": "nodes"
         },
         "interactive": false,
         "name": "labels",
         "transform": [
          {
           "anchor": [
            "top",
            "bottom",
            "right",
            "left"
           ],
           "avoidMarks": [
            "nodes"
           ],
           "offset": [
            1
           ],
           "size": {
            "signal": "[width + 60, height]"
           },
           "type": "label"
          }
         ],
         "type": "text",
         "zindex": 2
        },
        {
         "encode": {
          "update": {
           "stroke": {
            "field": "group",
            "scale": "colorlink"
           },
           "strokeWidth": {
            "value": 0.5
           }
          }
         },
         "from": {
          "data": "link-data"
         },
         "interactive": false,
         "transform": [
          {
           "require": {
            "signal": "force"
           },
           "shape": "line",
           "sourceX": "datum.source.x",
           "sourceY": "datum.source.y",
           "targetX": "datum.target.x",
           "targetY": "datum.target.y",
           "type": "linkpath"
          }
         ],
         "type": "path"
        },
        {
         "encode": {
          "enter": {
           "fill": {
            "field": "group",
            "scale": "colorlink"
           },
           "shape": {
            "value": "triangle-right"
           },
           "size": {
            "value": 40
           },
           "stroke": {
            "field": "group",
            "scale": "colorlink"
           }
          },
          "hover": {
           "opacity": {
            "value": 1
           }
          },
          "update": {
           "x": {
            "field": "target.x"
           },
           "y": {
            "field": "target.y"
           }
          }
         },
         "from": {
          "data": "link-data"
         },
         "name": "arrows",
         "transform": [
          {
           "as": "tan",
           "expr": "atan2((datum.datum.target.y-datum.datum.source.y),(datum.datum.target.x-datum.datum.source.x))",
           "type": "formula"
          },
          {
           "as": "angle",
           "expr": "datum.tan*180/PI",
           "type": "formula"
          },
          {
           "as": "y",
           "expr": "datum.datum.target.y - nodeRadius*sin(datum.tan)",
           "type": "formula"
          },
          {
           "as": "x",
           "expr": "datum.datum.target.x - nodeRadius*cos(datum.tan)",
           "type": "formula"
          }
         ],
         "type": "symbol",
         "zindex": {
          "value": 40
         }
        }
       ],
       "padding": 0,
       "scales": [
        {
         "domain": {
          "data": "node-data",
          "field": "group"
         },
         "name": "color",
         "range": {
          "scheme": "category20c"
         },
         "type": "ordinal"
        },
        {
         "domain": {
          "data": "link-data",
          "field": "group"
         },
         "name": "colorlink",
         "range": {
          "scheme": "category20c"
         },
         "type": "ordinal"
        },
        {
         "domain": {
          "data": "node-data",
          "field": "inputX"
         },
         "name": "xscale",
         "range": [
          10,
          {
           "signal": "width - 10"
          }
         ]
        },
        {
         "domain": {
          "data": "node-data",
          "field": "inputY"
         },
         "name": "yscale",
         "range": [
          10,
          {
           "signal": "height - 10"
          }
         ]
        }
       ],
       "signals": [
        {
         "name": "cx",
         "update": "width / 2"
        },
        {
         "name": "cy",
         "update": "height / 2"
        },
        {
         "name": "nodeRadius",
         "value": 15
        },
        {
         "name": "nodeCharge",
         "value": -80
        },
        {
         "name": "linkDistance",
         "value": 80
        },
        {
         "description": "State variable for active node fix status.",
         "name": "fix",
         "on": [
          {
           "events": "symbol:mouseout[!event.buttons], window:mouseup",
           "update": "false"
          },
          {
           "events": "symbol:mouseover",
           "update": "fix || true"
          },
          {
           "events": "[symbol:mousedown, window:mouseup] > window:mousemove!",
           "force": true,
           "update": "xy()"
          }
         ],
         "value": false
        },
        {
         "description": "Unfix node",
         "name": "reset",
         "on": [
          {
           "events": "symbol:dblclick",
           "update": "item().datum"
          }
         ],
         "value": null
        },
        {
         "description": "Graph node most recently interacted with.",
         "name": "node",
         "on": [
          {
           "events": "symbol:mouseover",
           "update": "fix === true ? item() : node"
          }
         ],
         "value": null
        },
        {
         "description": "Flag to restart Force simulation upon data changes.",
         "name": "restart",
         "on": [
          {
           "events": {
            "signal": "fix"
           },
           "update": "fix && fix.length"
          },
          {
           "events": {
            "signal": "reset"
           },
           "update": "true"
          }
         ],
         "value": false
        }
       ],
       "width": 500
      }
     },
     "metadata": {},
     "output_type": "display_data"
    }
   ],
   "source": [
    "g = nx.generators.barabasi_albert_graph(5, 3)\n",
    "def rand_group():\n",
    "    possible = \"TUVWXYZ\"\n",
    "    return random.sample(possible, 1)[0]\n",
    "\n",
    "node_properties = {n: {\"group\": rand_group()}\n",
    "                    for n in g.nodes()}\n",
    "\n",
    "edge_attributions = {e: {\"group\": rand_group()}\n",
    "                    for e in g.edges()}\n",
    "\n",
    "nx.set_node_attributes(g, node_properties)\n",
    "nx.set_edge_attributes(g, edge_attributions)\n",
    "nx.set_node_attributes(g, {k:f\"n{i}\" for i, k in enumerate(g.nodes)}, \"label\")\n",
    "\n",
    "schema = plots.spring_force_graph(g, node_labels=\"label\")\n",
    "plots.save_schema(schema, \"_schema.json\")\n",
    "plots.ipy_display(schema, format=\"interactive\")"
   ]
  },
  {
   "cell_type": "code",
   "execution_count": null,
   "id": "dec992e7",
   "metadata": {},
   "outputs": [
    {
     "name": "stdout",
     "output_type": "stream",
     "text": [
      "\n"
     ]
    },
    {
     "data": {
      "application/vnd.vega.v5+json": {
       "$schema": "https://vega.github.io/schema/vega/v5.json",
       "data": [
        {
         "name": "contributions",
         "url": "data/contour_grid.json",
         "values": {
          "height": 5,
          "values": [
           0,
           0,
           0,
           0,
           1.498402725210836e-38,
           0,
           0,
           0,
           0,
           0,
           0,
           0,
           5.2830153811902673e-20,
           0.00036892682736643605,
           5.2830153811902673e-20,
           0,
           0,
           0,
           0,
           0,
           2.69691990847841e-19,
           0.018740314683544666,
           0.09566719783014153,
           0.018740314683544666,
           2.69691990847841e-19,
           0,
           0,
           0,
           5.2830153811902673e-20,
           0.006669344506751382,
           0.09566719783014153,
           0.18647789029523318,
           0.09566719783014153,
           0.006669344506751382,
           5.2830153811902673e-20,
           0,
           1.498402725210836e-38,
           2.4912102049040447e-21,
           5.283015381190342e-20,
           1.8708484803113998e-19,
           2.6969199084783906e-19,
           1.8708484803113998e-19,
           5.283015381190342e-20,
           2.4912102049040447e-21,
           1.498402725210836e-38
          ],
          "width": 9
         }
        },
        {
         "name": "contours",
         "source": "contributions",
         "transform": [
          {
           "scale": {
            "expr": "width / datum.width"
           },
           "smooth": true,
           "type": "isocontour",
           "zero": false
          }
         ]
        }
       ],
       "description": "A plot of relative contribution from three points on a triangle",
       "height": 195,
       "legends": [
        {
         "orient": "left",
         "stroke": "color",
         "symbolType": "stroke"
        }
       ],
       "marks": [
        {
         "encode": {
          "enter": {
           "fill": {
            "field": "contour.value",
            "scale": "color"
           },
           "stroke": {
            "value": "#ccc"
           },
           "strokeWidth": {
            "value": 0.5
           },
           "x": {
            "value": 50
           },
           "y": {
            "value": 0
           }
          }
         },
         "from": {
          "data": "contours"
         },
         "name": "_contours",
         "transform": [
          {
           "field": "datum.contour",
           "type": "geopath"
          }
         ],
         "type": "path"
        },
        {
         "encode": {
          "enter": {
           "stroke": {
            "value": "#ccc"
           }
          },
          "update": {
           "opacity": {
            "value": 1
           },
           "path": {
            "value": "L0,195 L193,0 L387,195 L0,195"
           },
           "strokeWidth": {
            "value": 1
           },
           "x": {
            "value": 50
           },
           "y": {
            "value": 0
           }
          }
         },
         "name": "outline",
         "type": "path"
        },
        {
         "marks": [
          {
           "encode": {
            "enter": {
             "fill": {
              "value": "#000"
             },
             "text": {
              "value": "Model 2"
             }
            },
            "update": {
             "opacity": {
              "value": 1
             },
             "x": {
              "value": 0
             },
             "y": {
              "value": 195
             }
            }
           },
           "type": "text"
          },
          {
           "encode": {
            "enter": {
             "fill": {
              "value": "#000"
             },
             "text": {
              "value": "Model 3"
             }
            },
            "update": {
             "opacity": {
              "value": 1
             },
             "x": {
              "value": 195
             },
             "y": {
              "value": 0
             }
            }
           },
           "type": "text"
          },
          {
           "encode": {
            "enter": {
             "fill": {
              "value": "#000"
             },
             "text": {
              "value": "Model 2"
             }
            },
            "update": {
             "opacity": {
              "value": 1
             },
             "x": {
              "value": 450
             },
             "y": {
              "value": 195
             }
            }
           },
           "type": "text"
          }
         ],
         "name": "labels",
         "type": "group"
        }
       ],
       "scales": [
        {
         "domain": {
          "data": "contours",
          "field": "contour.value"
         },
         "name": "color",
         "range": {
          "scheme": "reds"
         },
         "type": "linear"
        }
       ],
       "width": 387
      }
     },
     "metadata": {},
     "output_type": "display_data"
    }
   ],
   "source": [
    "import torch\n",
    "import numpy as np\n",
    "from pyciemss.visuals import plots, vega, graphs, calibration, barycenter\n",
    "\n",
    "sample = torch.from_numpy(np.array([[1/3, 1/3, 1/3], [1/3, 1/3, 1/3], [1/3, 1/3, 1/3]]))\n",
    "schema = plots.triangle_contour(sample, contour=True)\n",
    "\n",
    "plots.save_schema(schema, \"_schema.json\")\n",
    "plots.ipy_display(schema, format=\"interactive\")"
   ]
  },
  {
   "cell_type": "code",
   "execution_count": 13,
   "id": "e06a0544",
   "metadata": {},
   "outputs": [
    {
     "name": "stdout",
     "output_type": "stream",
     "text": [
      "\n"
     ]
    },
    {
     "data": {
      "application/vnd.vega.v5+json": {
       "$schema": "https://vega.github.io/schema/vega/v5.json",
       "data": [
        {
         "name": "node-data",
         "values": [
          {
           "attribution": [
            "A",
            "B",
            "D"
           ],
           "id": 0,
           "label": "Zero"
          },
          {
           "attribution": [
            "B",
            "C"
           ],
           "id": 1,
           "label": "One"
          },
          {
           "attribution": [
            "C",
            "D"
           ],
           "id": 2,
           "label": "Two"
          },
          {
           "attribution": [
            "A",
            "C"
           ],
           "id": 3,
           "label": "Three"
          },
          {
           "attribution": [
            "C"
           ],
           "id": 4,
           "label": "Four"
          },
          {
           "attribution": [
            "C"
           ],
           "id": 5,
           "label": "Five"
          },
          {
           "attribution": [
            "D"
           ],
           "id": 6,
           "label": "Six"
          }
         ]
        },
        {
         "name": "link-data",
         "values": [
          {
           "attribution": [
            "A",
            "B"
           ],
           "id": 1,
           "source": 0,
           "target": 1
          },
          {
           "attribution": [
            "B",
            "C"
           ],
           "id": 2,
           "source": 0,
           "target": 2
          },
          {
           "attribution": [
            "A",
            "C"
           ],
           "id": 3,
           "source": 0,
           "target": 3
          },
          {
           "attribution": [
            "D"
           ],
           "id": 4,
           "source": 0,
           "target": 4
          },
          {
           "attribution": [
            "D"
           ],
           "id": 5,
           "source": 0,
           "target": 5
          },
          {
           "attribution": [
            "D"
           ],
           "id": 6,
           "source": 0,
           "target": 6
          }
         ]
        },
        {
         "name": "node-attributions",
         "source": "node-data",
         "transform": [
          {
           "fields": [
            "attribution"
           ],
           "type": "flatten"
          },
          {
           "as": "weight",
           "expr": "1",
           "type": "formula"
          }
         ]
        },
        {
         "name": "link-attributions",
         "source": "link-data",
         "transform": [
          {
           "fields": [
            "attribution"
           ],
           "index": "_idx",
           "type": "flatten"
          }
         ]
        }
       ],
       "description": "A node-link diagram with force-directed and attributions as arc-segments, multilines.",
       "height": 300,
       "legends": [
        {
         "stroke": "color",
         "symbolType": "stroke",
         "title": "Attributions"
        }
       ],
       "marks": [
        {
         "encode": {
          "enter": {
           "fill": {
            "value": "white"
           },
           "size": {
            "signal": "2 * (innerRadius+bandWidth+1) * (innerRadius+bandWidth+1)"
           }
          },
          "update": {
           "cursor": {
            "value": "pointer"
           }
          }
         },
         "from": {
          "data": "node-data"
         },
         "name": "nodes",
         "on": [
          {
           "modify": "node",
           "trigger": "fix",
           "values": "fix === true ? {fx: node.x, fy: node.y} : {fx: fix[0], fy: fix[1]}"
          },
          {
           "modify": "node",
           "trigger": "!fix",
           "values": "{fx: null, fy: null}"
          }
         ],
         "transform": [
          {
           "forces": [
            {
             "force": "center",
             "x": {
              "signal": "cx"
             },
             "y": {
              "signal": "cy"
             }
            },
            {
             "force": "collide",
             "radius": {
              "signal": "innerRadius+bandWidth"
             }
            },
            {
             "force": "nbody",
             "strength": {
              "signal": "nodeCharge"
             }
            },
            {
             "distance": {
              "signal": "linkDistance"
             },
             "force": "link",
             "links": "link-data"
            }
           ],
           "iterations": 300,
           "restart": {
            "signal": "restart"
           },
           "signal": "force",
           "static": {
            "signal": "static"
           },
           "type": "force"
          }
         ],
         "type": "symbol",
         "zindex": 1
        },
        {
         "data": [
          {
           "name": "linky-data",
           "source": "link-facets",
           "transform": [
            {
             "fields": [
              "attribution"
             ],
             "index": "_idx",
             "type": "flatten"
            },
            {
             "as": "weight",
             "expr": "1",
             "type": "formula"
            },
            {
             "as": "slot",
             "expr": "if(datum._idx%2==0, datum._idx/2, -(datum._idx+1)/2)",
             "type": "formula"
            },
            {
             "as": "idx",
             "expr": "datum.source.x-datum.target.x",
             "type": "formula"
            },
            {
             "as": "idy",
             "expr": "datum.source.y-datum.target.y",
             "type": "formula"
            },
            {
             "as": "length",
             "expr": "sqrt(pow(datum.idx, 2) + pow(datum.idy, 2))",
             "type": "formula"
            },
            {
             "as": "Ax",
             "expr": "-datum.idy/datum.length",
             "type": "formula"
            },
            {
             "as": "Ay",
             "expr": "datum.idx/datum.length",
             "type": "formula"
            },
            {
             "as": "nx",
             "expr": "datum.source.x + datum.slot * lineWidth * datum.Ax",
             "type": "formula"
            },
            {
             "as": "nx2",
             "expr": "datum.target.x + datum.slot * lineWidth * datum.Ax",
             "type": "formula"
            },
            {
             "as": "ny",
             "expr": "datum.source.y + datum.slot * lineWidth * datum.Ay",
             "type": "formula"
            },
            {
             "as": "ny2",
             "expr": "datum.target.y + datum.slot * lineWidth * datum.Ay",
             "type": "formula"
            }
           ]
          }
         ],
         "from": {
          "facet": {
           "data": "link-data",
           "groupby": "id",
           "name": "link-facets"
          }
         },
         "marks": [
          {
           "encode": {
            "enter": {
             "stroke": {
              "field": "attribution",
              "scale": "color"
             },
             "strokeWidth": {
              "signal": "lineWidth"
             }
            },
            "update": {
             "x": {
              "field": "nx"
             },
             "x2": {
              "field": "nx2"
             },
             "y": {
              "field": "ny"
             },
             "y2": {
              "field": "ny2"
             }
            }
           },
           "from": {
            "data": "linky-data"
           },
           "name": "lines",
           "type": "rule"
          }
         ],
         "name": "links",
         "type": "group",
         "zindex": 0
        },
        {
         "data": [
          {
           "name": "attribution-arcs",
           "source": "node-facets",
           "transform": [
            {
             "endAngle": 6.29,
             "field": "weight",
             "sort": true,
             "startAngle": 0,
             "type": "pie"
            },
            {
             "fields": [
              "id"
             ],
             "from": "nodes",
             "key": "datum.id",
             "type": "lookup",
             "values": [
              "x",
              "y"
             ]
            }
           ]
          }
         ],
         "from": {
          "facet": {
           "data": "node-attributions",
           "groupby": "id",
           "name": "node-facets"
          }
         },
         "marks": [
          {
           "encode": {
            "enter": {
             "endAngle": {
              "field": "endAngle"
             },
             "fill": {
              "field": "attribution",
              "scale": "color"
             },
             "innerRadius": {
              "signal": "innerRadius"
             },
             "outerRadius": {
              "signal": "innerRadius+bandWidth"
             },
             "startAngle": {
              "field": "startAngle"
             }
            },
            "update": {
             "x": {
              "field": "x"
             },
             "y": {
              "field": "y"
             }
            }
           },
           "from": {
            "data": "attribution-arcs"
           },
           "type": "arc"
          }
         ],
         "name": "nodeHalos",
         "type": "group"
        },
        {
         "encode": {
          "enter": {
           "align": {
            "value": "center"
           },
           "baseline": {
            "value": "middle"
           },
           "fill": {
            "value": "black"
           },
           "text": {
            "field": "datum.label"
           }
          },
          "update": {
           "x": {
            "field": "x"
           },
           "y": {
            "field": "y"
           }
          }
         },
         "from": {
          "data": "nodes"
         },
         "interactive": false,
         "name": "labels",
         "type": "text",
         "zindex": 2
        }
       ],
       "padding": 0,
       "scales": [
        {
         "domain": {
          "fields": [
           {
            "data": "node-attributions",
            "field": "attribution"
           },
           {
            "data": "link-attributions",
            "field": "attribution"
           }
          ]
         },
         "name": "color",
         "range": {
          "scheme": "category20"
         },
         "type": "ordinal"
        }
       ],
       "signals": [
        {
         "name": "cx",
         "update": "width / 2"
        },
        {
         "name": "cy",
         "update": "height / 2"
        },
        {
         "name": "innerRadius",
         "value": 15
        },
        {
         "name": "bandWidth",
         "value": 5
        },
        {
         "name": "nodeCharge",
         "value": -80
        },
        {
         "name": "linkDistance",
         "value": 80
        },
        {
         "name": "lineWidth",
         "value": 3
        },
        {
         "bind": {
          "input": "checkbox"
         },
         "name": "static",
         "value": true
        },
        {
         "description": "State variable for active node fix status.",
         "name": "fix",
         "on": [
          {
           "events": "symbol:mouseout[!event.buttons], window:mouseup",
           "update": "false"
          },
          {
           "events": "symbol:mouseover",
           "update": "fix || true"
          },
          {
           "events": "[symbol:mousedown, window:mouseup] > window:mousemove!",
           "force": true,
           "update": "xy()"
          }
         ],
         "value": false
        },
        {
         "description": "Graph node most recently interacted with.",
         "name": "node",
         "on": [
          {
           "events": "symbol:mouseover",
           "update": "fix === true ? item() : node"
          }
         ],
         "value": null
        },
        {
         "description": "Flag to restart Force simulation upon data changes.",
         "name": "restart",
         "on": [
          {
           "events": {
            "signal": "fix"
           },
           "update": "fix && fix.length"
          }
         ],
         "value": false
        }
       ],
       "width": 300
      }
     },
     "metadata": {},
     "output_type": "display_data"
    },
    {
     "name": "stdout",
     "output_type": "stream",
     "text": [
      "\n"
     ]
    },
    {
     "data": {
      "application/vnd.vega.v5+json": {
       "$schema": "https://vega.github.io/schema/vega/v5.json",
       "data": [
        {
         "name": "contributions",
         "url": "data/contour_grid.json"
        },
        {
         "name": "contours",
         "source": "contributions",
         "transform": [
          {
           "scale": {
            "expr": "width / datum.width"
           },
           "smooth": true,
           "type": "isocontour",
           "zero": false
          }
         ]
        }
       ],
       "description": "A plot of relative contribution from three points on a triangle",
       "height": 195,
       "legends": [
        {
         "orient": "left",
         "stroke": "color",
         "symbolType": "stroke"
        }
       ],
       "marks": [
        {
         "encode": {
          "enter": {
           "fill": {
            "field": "contour.value",
            "scale": "color"
           },
           "stroke": {
            "value": "#ccc"
           },
           "strokeWidth": {
            "value": 0.5
           },
           "x": {
            "value": 50
           },
           "y": {
            "value": 0
           }
          }
         },
         "from": {
          "data": "contours"
         },
         "name": "_contours",
         "transform": [
          {
           "field": "datum.contour",
           "type": "geopath"
          }
         ],
         "type": "path"
        },
        {
         "encode": {
          "enter": {
           "stroke": {
            "value": "#ccc"
           }
          },
          "update": {
           "opacity": {
            "value": 1
           },
           "path": {
            "value": "L0,195 L193,0 L387,195 L0,195"
           },
           "strokeWidth": {
            "value": 1
           },
           "x": {
            "value": 50
           },
           "y": {
            "value": 0
           }
          }
         },
         "name": "outline",
         "type": "path"
        },
        {
         "marks": [
          {
           "encode": {
            "enter": {
             "fill": {
              "value": "#000"
             },
             "text": {
              "value": "Model 2"
             }
            },
            "update": {
             "opacity": {
              "value": 1
             },
             "x": {
              "value": 0
             },
             "y": {
              "value": 195
             }
            }
           },
           "type": "text"
          },
          {
           "encode": {
            "enter": {
             "fill": {
              "value": "#000"
             },
             "text": {
              "value": "Model 3"
             }
            },
            "update": {
             "opacity": {
              "value": 1
             },
             "x": {
              "value": 195
             },
             "y": {
              "value": 0
             }
            }
           },
           "type": "text"
          },
          {
           "encode": {
            "enter": {
             "fill": {
              "value": "#000"
             },
             "text": {
              "value": "Model 2"
             }
            },
            "update": {
             "opacity": {
              "value": 1
             },
             "x": {
              "value": 450
             },
             "y": {
              "value": 195
             }
            }
           },
           "type": "text"
          }
         ],
         "name": "labels",
         "type": "group"
        }
       ],
       "scales": [
        {
         "domain": {
          "data": "contours",
          "field": "contour.value"
         },
         "name": "color",
         "range": {
          "scheme": "reds"
         },
         "type": "linear"
        }
       ],
       "width": 387
      }
     },
     "metadata": {},
     "output_type": "display_data"
    },
    {
     "name": "stdout",
     "output_type": "stream",
     "text": [
      "\n"
     ]
    },
    {
     "data": {
      "application/vnd.vega.v5+json": {
       "$schema": "https://vega.github.io/schema/vega/v5.json",
       "axes": [
        {
         "name": "x_axis",
         "orient": "bottom",
         "scale": "xscale",
         "zindex": 100
        },
        {
         "name": "y_axis",
         "orient": "left",
         "scale": "yscale",
         "zindex": 100
        }
       ],
       "data": [
        {
         "name": "distributions",
         "values": [
          {
           "lower": 10,
           "timepoint": 1,
           "trajectory": "a",
           "upper": 10
          },
          {
           "lower": 25,
           "timepoint": 2,
           "trajectory": "a",
           "upper": 20
          },
          {
           "lower": 40,
           "timepoint": 3,
           "trajectory": "a",
           "upper": 30
          },
          {
           "lower": 50,
           "timepoint": 4,
           "trajectory": "a",
           "upper": 20
          },
          {
           "lower": 20,
           "timepoint": 5,
           "trajectory": "a",
           "upper": 10
          },
          {
           "lower": 10,
           "timepoint": 6,
           "trajectory": "a",
           "upper": 0
          },
          {
           "lower": -20,
           "timepoint": 1,
           "trajectory": "b",
           "upper": -30
          },
          {
           "lower": -10,
           "timepoint": 2,
           "trajectory": "b",
           "upper": -40
          },
          {
           "lower": 0,
           "timepoint": 3,
           "trajectory": "b",
           "upper": -20
          },
          {
           "lower": 10,
           "timepoint": 4,
           "trajectory": "b",
           "upper": 0
          },
          {
           "lower": 20,
           "timepoint": 5,
           "trajectory": "b",
           "upper": 10
          },
          {
           "lower": 40,
           "timepoint": 6,
           "trajectory": "b",
           "upper": 30
          }
         ]
        },
        {
         "name": "traces",
         "transform": [
          {
           "expr": "isValid(datum.value)",
           "type": "filter"
          }
         ],
         "values": [
          {
           "timepoint": 6,
           "trajectory": "c",
           "value": 30
          },
          {
           "timepoint": 6,
           "trajectory": "d",
           "value": 30
          }
         ]
        },
        {
         "name": "points",
         "values": [
          {
           "timepoint": 6,
           "trajectory": "d",
           "value": 30
          },
          {
           "timepoint": 10,
           "trajectory": "d",
           "value": 40
          },
          {
           "timepoint": 5,
           "trajectory": "e",
           "value": 10
          },
          {
           "timepoint": 6,
           "trajectory": "e",
           "value": 15
          }
         ]
        },
        {
         "name": "markers",
         "values": [
          {
           "label": "Low marker",
           "timepoint": 3
          },
          {
           "label": "High marker",
           "timepoint": 7
          }
         ]
        },
        {
         "name": "selected",
         "on": [
          {
           "remove": true,
           "trigger": "clear"
          },
          {
           "remove": true,
           "trigger": "!shift"
          },
          {
           "insert": "clicked",
           "trigger": "!shift && clicked"
          },
          {
           "toggle": "clicked",
           "trigger": "shift && clicked"
          }
         ]
        },
        {
         "name": "selectedData",
         "on": [
          {
           "remove": true,
           "trigger": "clearData"
          },
          {
           "toggle": "clickedData",
           "trigger": "clickedData"
          }
         ]
        }
       ],
       "height": 300,
       "legends": [
        {
         "encode": {
          "labels": {
           "interactive": true,
           "name": "legendLabel",
           "update": {
            "opacity": [
             {
              "test": "!length(data('selectedData')) || indata('selectedData', 'value', datum.value)",
              "value": 1
             },
             {
              "value": 0.25
             }
            ]
           }
          },
          "symbols": {
           "interactive": true,
           "name": "legendSymbol",
           "update": {
            "fill": {
             "value": "transparent"
            },
            "opacity": [
             {
              "test": "!length(data('selected')) || indata('selected', 'value', datum.value) || indata('selectedData', 'value', datum.value)",
              "value": 0.7
             },
             {
              "value": 0.15
             }
            ],
            "size": {
             "value": 64
            },
            "strokeWidth": {
             "value": 2
            }
           }
          }
         },
         "name": "color_legend",
         "stroke": "color"
        }
       ],
       "marks": [
        {
         "from": {
          "facet": {
           "data": "points",
           "groupby": "trajectory",
           "name": "points_split"
          }
         },
         "marks": [
          {
           "encode": {
            "hover": {
             "fillOpacity": {
              "value": 0.9
             }
            },
            "update": {
             "fill": {
              "field": "trajectory",
              "scale": "color"
             },
             "fillOpacity": [
              {
               "test": "!length(data('selected')) || indata('selected', 'value', datum.trajectory)",
               "value": 0.5
              },
              {
               "value": 0.15
              }
             ],
             "size": {
              "value": 10
             },
             "stroke": {
              "field": "trajectory",
              "scale": "color"
             },
             "strokeOpacity": [
              {
               "test": "!length(data('selected')) || indata('selected', 'value', datum.trajectory)",
               "value": 0.75
              },
              {
               "value": 0.15
              }
             ],
             "strokeWidth": {
              "value": 2
             },
             "tooltip": {
              "field": "value"
             },
             "x": {
              "field": "timepoint",
              "scale": "xscale"
             },
             "y": {
              "field": "value",
              "scale": "yscale"
             }
            }
           },
           "from": {
            "data": "points_split"
           },
           "name": "_points_symbol",
           "type": "symbol",
           "zindex": 3
          },
          {
           "encode": {
            "hover": {
             "fillOpacity": {
              "value": 0.9
             }
            },
            "update": {
             "interpolate": {
              "value": "linear"
             },
             "stroke": {
              "field": "trajectory",
              "scale": "color"
             },
             "strokeOpacity": [
              {
               "test": "!length(data('selected')) || indata('selected', 'value', datum.trajectory)",
               "value": 0.3
              },
              {
               "value": 0.1
              }
             ],
             "strokeWidth": {
              "value": 2
             },
             "x": {
              "field": "timepoint",
              "scale": "xscale"
             },
             "y": {
              "field": "value",
              "scale": "yscale"
             }
            }
           },
           "from": {
            "data": "points_split"
           },
           "name": "_points_line",
           "type": "line",
           "zindex": 3
          }
         ],
         "name": "_points",
         "type": "group",
         "zindex": 3
        },
        {
         "from": {
          "facet": {
           "data": "traces",
           "groupby": "trajectory",
           "name": "traces_split"
          }
         },
         "marks": [
          {
           "encode": {
            "hover": {
             "fillOpacity": {
              "value": 0.9
             }
            },
            "update": {
             "interpolate": {
              "value": "linear"
             },
             "stroke": {
              "field": "trajectory",
              "scale": "color"
             },
             "strokeOpacity": [
              {
               "test": "!length(data('selected')) || indata('selected', 'value', datum.trajectory)",
               "value": 0.75
              },
              {
               "value": 0.15
              }
             ],
             "strokeWidth": {
              "value": 2
             },
             "x": {
              "field": "timepoint",
              "scale": "xscale"
             },
             "y": {
              "field": "value",
              "scale": "yscale"
             }
            }
           },
           "from": {
            "data": "traces_split"
           },
           "name": "_traces_lines",
           "type": "line"
          }
         ],
         "name": "_traces",
         "type": "group",
         "zindex": 2
        },
        {
         "from": {
          "facet": {
           "data": "distributions",
           "groupby": "trajectory",
           "name": "trajectory_split"
          }
         },
         "marks": [
          {
           "encode": {
            "hover": {
             "fillOpacity": {
              "value": 0.9
             }
            },
            "update": {
             "fill": {
              "field": "trajectory",
              "scale": "color"
             },
             "fillOpacity": [
              {
               "test": "!length(data('selected')) || indata('selected', 'value', datum.trajectory)",
               "value": 0.5
              },
              {
               "value": 0.15
              }
             ],
             "interpolate": {
              "value": "linear"
             },
             "stroke": {
              "field": "trajectory",
              "scale": "color"
             },
             "strokeOpacity": [
              {
               "test": "!length(data('selected')) || indata('selected', 'value', datum.trajectory)",
               "value": 0.75
              },
              {
               "value": 0.15
              }
             ],
             "strokeWidth": {
              "value": 2
             },
             "x": {
              "field": "timepoint",
              "scale": "xscale"
             },
             "y": {
              "field": "upper",
              "scale": "yscale"
             },
             "y2": {
              "field": "lower",
              "scale": "yscale"
             }
            }
           },
           "from": {
            "data": "trajectory_split"
           },
           "interactive": true,
           "name": "area",
           "type": "area"
          }
         ],
         "name": "_distributions",
         "type": "group",
         "zindex": 1
        },
        {
         "marks": [
          {
           "encode": {
            "enter": {
             "stroke": {
              "value": "lightgray"
             }
            },
            "update": {
             "opacity": {
              "value": 1
             },
             "x": {
              "field": "timepoint",
              "scale": "xscale"
             },
             "y": {
              "signal": "height"
             },
             "y2": {
              "value": 0
             }
            }
           },
           "from": {
            "data": "markers"
           },
           "name": "_marker text",
           "type": "rule"
          },
          {
           "encode": {
            "enter": {
             "fontSize": {
              "value": 8
             },
             "text": {
              "field": "datum.label"
             },
             "y": {
              "value": 0
             }
            }
           },
           "from": {
            "data": "_marker text"
           },
           "name": "_marker flags",
           "transform": [
            {
             "as": [
              "x",
              "_y",
              "opacity",
              "align",
              "baseline"
             ],
             "lineAnchor": "start",
             "offset": [
              1
             ],
             "size": {
              "signal": "[width, height]"
             },
             "type": "label"
            }
           ],
           "type": "text"
          }
         ],
         "name": "_markers",
         "type": "group"
        }
       ],
       "scales": [
        {
         "domain": {
          "fields": [
           {
            "data": "distributions",
            "field": "timepoint"
           },
           {
            "data": "traces",
            "field": "timepoint"
           },
           {
            "data": "points",
            "field": "timepoint"
           },
           {
            "data": "markers",
            "field": "timepoint"
           }
          ]
         },
         "name": "xscale",
         "range": "width",
         "type": "linear",
         "zero": false
        },
        {
         "domain": {
          "fields": [
           {
            "data": "distributions",
            "field": "lower"
           },
           {
            "data": "distributions",
            "field": "upper"
           },
           {
            "data": "traces",
            "field": "value"
           },
           {
            "data": "points",
            "field": "value"
           }
          ]
         },
         "name": "yscale",
         "nice": true,
         "range": "height",
         "type": "linear",
         "zero": true
        },
        {
         "domain": {
          "fields": [
           {
            "data": "distributions",
            "field": "trajectory"
           },
           {
            "data": "traces",
            "field": "trajectory"
           },
           {
            "data": "points",
            "field": "trajectory"
           }
          ]
         },
         "name": "color",
         "range": "category",
         "type": "ordinal"
        }
       ],
       "signals": [
        {
         "name": "clear",
         "on": [
          {
           "events": "mouseup[!event.item]",
           "force": true,
           "update": "true"
          }
         ],
         "value": true
        },
        {
         "name": "shift",
         "on": [
          {
           "events": "@legendSymbol:click, @legendLabel:click",
           "force": true,
           "update": "event.shiftKey"
          }
         ],
         "value": false
        },
        {
         "name": "clicked",
         "on": [
          {
           "events": "@legendSymbol:click, @legendLabel:click",
           "force": true,
           "update": "{value: datum.value}"
          }
         ],
         "value": null
        },
        {
         "name": "clearData",
         "on": [
          {
           "events": "mouseup[!event.item]",
           "force": true,
           "update": "true"
          }
         ],
         "value": true
        },
        {
         "name": "clickedData",
         "on": [
          {
           "events": "@area:click",
           "force": true,
           "update": "{value: datum.trajectory}"
          }
         ],
         "value": null
        }
       ],
       "width": 500
      }
     },
     "metadata": {},
     "output_type": "display_data"
    },
    {
     "name": "stdout",
     "output_type": "stream",
     "text": [
      "\n"
     ]
    },
    {
     "data": {
      "application/vnd.vega.v5+json": {
       "$schema": "https://vega.github.io/schema/vega/v5.json",
       "axes": [
        {
         "orient": "bottom",
         "scale": "time",
         "title": "Time since start of pandemic (days)"
        },
        {
         "domain": false,
         "format": "%",
         "grid": true,
         "orient": "left",
         "scale": "y1",
         "title": "Cases (Prop. of Population)"
        }
       ],
       "data": [
        {
         "name": "table",
         "transform": [
          {
           "expr": "(datum.column_names === Variable) ",
           "type": "filter"
          },
          {
           "as": "opac",
           "expr": "(datum.calibration ? .3 : .3)",
           "type": "formula"
          }
         ],
         "url": "calibrate.json"
        }
       ],
       "description": "Line chart with distributiosn.",
       "height": 200,
       "legends": [
        {
         "encode": {
          "labels": {
           "hover": {
            "fill": {
             "value": "firebrick"
            }
           },
           "interactive": true,
           "update": {
            "fill": {
             "value": "black"
            },
            "fontSize": {
             "value": 12
            }
           }
          },
          "legend": {
           "update": {
            "stroke": {
             "value": "#ccc"
            },
            "strokeWidth": {
             "value": 1.5
            }
           }
          },
          "symbols": {
           "update": {
            "stroke": {
             "value": "transparent"
            }
           }
          },
          "title": {
           "update": {
            "fontSize": {
             "value": 14
            }
           }
          }
         },
         "fill": "color",
         "title": "Calibrate"
        }
       ],
       "marks": [
        {
         "from": {
          "facet": {
           "data": "table",
           "groupby": [
            "calibration",
            "column_names"
           ],
           "name": "series"
          }
         },
         "marks": [
          {
           "encode": {
            "enter": {
             "fill": {
              "field": "calibration",
              "scale": "color"
             },
             "fillOpacity": {
              "field": "opac"
             },
             "x": {
              "field": "time",
              "scale": "time"
             },
             "y": {
              "field": "y1",
              "scale": "y1"
             },
             "y2": {
              "field": "y0",
              "scale": "y1"
             }
            }
           },
           "from": {
            "data": "series"
           },
           "type": "area"
          },
          {
           "encode": {
            "enter": {
             "stroke": {
              "field": "calibration",
              "scale": "color"
             },
             "strokeWidth": {
              "value": 1
             },
             "x": {
              "field": "time",
              "scale": "time"
             },
             "y": {
              "field": "y",
              "scale": "y1"
             }
            }
           },
           "from": {
            "data": "series"
           },
           "type": "line"
          }
         ],
         "type": "group"
        }
       ],
       "scales": [
        {
         "domain": {
          "data": "table",
          "field": "time"
         },
         "name": "time",
         "range": "width"
        },
        {
         "domain": {
          "data": "table",
          "field": "y1"
         },
         "name": "y1",
         "nice": true,
         "range": "height",
         "type": "linear",
         "zero": true
        },
        {
         "domain": {
          "data": "table",
          "field": "calibration"
         },
         "name": "color",
         "range": {
          "scheme": "category10"
         },
         "type": "ordinal"
        }
       ],
       "signals": [
        {
         "bind": {
          "input": "select",
          "options": [
           "Ailing_sol",
           "Diagnosed_sol",
           "Extinct_sol",
           "Healed_sol",
           "Infected_sol",
           "Recognized_sol",
           "Susceptible_sol",
           "Threatened_sol"
          ]
         },
         "name": "Variable",
         "value": "Ailing_sol"
        }
       ],
       "width": 500
      }
     },
     "metadata": {},
     "output_type": "display_data"
    },
    {
     "name": "stdout",
     "output_type": "stream",
     "text": [
      "\n"
     ]
    },
    {
     "data": {
      "application/vnd.vega.v5+json": {
       "$schema": "https://vega.github.io/schema/vega/v5.json",
       "data": [
        {
         "name": "node-data",
         "values": [
          {
           "id": 0,
           "label": "Zero"
          },
          {
           "id": 1,
           "label": "One"
          },
          {
           "id": 2,
           "label": "Two"
          },
          {
           "id": 3,
           "label": "Three"
          },
          {
           "id": 4,
           "label": "Four"
          },
          {
           "id": 5,
           "label": "Five"
          },
          {
           "id": 6,
           "label": "Six"
          }
         ]
        },
        {
         "name": "link-data",
         "values": [
          {
           "id": 1,
           "source": 0,
           "target": 1
          },
          {
           "id": 2,
           "source": 0,
           "target": 2
          },
          {
           "id": 3,
           "source": 0,
           "target": 3
          },
          {
           "id": 4,
           "source": 0,
           "target": 4
          },
          {
           "id": 5,
           "source": 0,
           "target": 5
          },
          {
           "id": 6,
           "source": 0,
           "target": 6
          }
         ]
        }
       ],
       "description": "A node-link diagram with force-directed layout.",
       "height": 300,
       "legends": [
        {
         "stroke": "color",
         "symbolType": "stroke",
         "title": "Group"
        }
       ],
       "marks": [
        {
         "encode": {
          "enter": {
           "fill": {
            "field": "group",
            "scale": "color"
           },
           "stroke": {
            "value": "white"
           }
          },
          "update": {
           "cursor": {
            "value": "pointer"
           },
           "size": {
            "signal": "2 * nodeRadius * nodeRadius"
           }
          }
         },
         "from": {
          "data": "node-data"
         },
         "name": "nodes",
         "on": [
          {
           "modify": "node",
           "trigger": "fix",
           "values": "fix === true ? {fx: node.x, fy: node.y} : {fx: fix[0], fy: fix[1]}"
          },
          {
           "modify": "node",
           "trigger": "!fix",
           "values": "{fx: null, fy: null}"
          }
         ],
         "transform": [
          {
           "forces": [
            {
             "force": "center",
             "x": {
              "signal": "cx"
             },
             "y": {
              "signal": "cy"
             }
            },
            {
             "force": "collide",
             "radius": {
              "signal": "nodeRadius"
             }
            },
            {
             "force": "nbody",
             "strength": {
              "signal": "nodeCharge"
             }
            },
            {
             "distance": {
              "signal": "linkDistance"
             },
             "force": "link",
             "links": "link-data"
            }
           ],
           "iterations": 300,
           "restart": {
            "signal": "restart"
           },
           "signal": "force",
           "static": {
            "signal": "static"
           },
           "type": "force"
          }
         ],
         "type": "symbol",
         "zindex": 1
        },
        {
         "encode": {
          "enter": {
           "align": {
            "value": "center"
           },
           "baseline": {
            "value": "middle"
           },
           "fill": {
            "value": "black"
           },
           "fontSize": {
            "value": 15
           },
           "text": {
            "field": "datum.label"
           }
          },
          "update": {
           "x": {
            "field": "x"
           },
           "y": {
            "field": "y"
           }
          }
         },
         "from": {
          "data": "nodes"
         },
         "interactive": false,
         "name": "labels",
         "transform": [
          {
           "as": "y",
           "expr": "datum.y",
           "type": "formula"
          }
         ],
         "type": "text",
         "zindex": 2
        },
        {
         "encode": {
          "update": {
           "stroke": {
            "value": "#ccc"
           },
           "strokeWidth": {
            "value": 0.5
           }
          }
         },
         "from": {
          "data": "link-data"
         },
         "interactive": false,
         "transform": [
          {
           "require": {
            "signal": "force"
           },
           "shape": "line",
           "sourceX": "datum.source.x",
           "sourceY": "datum.source.y",
           "targetX": "datum.target.x",
           "targetY": "datum.target.y",
           "type": "linkpath"
          }
         ],
         "type": "path"
        }
       ],
       "padding": 0,
       "scales": [
        {
         "domain": {
          "data": "node-data",
          "field": "group"
         },
         "name": "color",
         "range": {
          "scheme": "category20c"
         },
         "type": "ordinal"
        }
       ],
       "signals": [
        {
         "name": "cx",
         "update": "width / 2"
        },
        {
         "name": "cy",
         "update": "height / 2"
        },
        {
         "name": "nodeRadius",
         "value": 15
        },
        {
         "name": "nodeCharge",
         "value": -80
        },
        {
         "name": "linkDistance",
         "value": 80
        },
        {
         "bind": {
          "input": "checkbox"
         },
         "name": "static",
         "value": true
        },
        {
         "description": "State variable for active node fix status.",
         "name": "fix",
         "on": [
          {
           "events": "symbol:mouseout[!event.buttons], window:mouseup",
           "update": "false"
          },
          {
           "events": "symbol:mouseover",
           "update": "fix || true"
          },
          {
           "events": "[symbol:mousedown, window:mouseup] > window:mousemove!",
           "force": true,
           "update": "xy()"
          }
         ],
         "value": false
        },
        {
         "description": "Graph node most recently interacted with.",
         "name": "node",
         "on": [
          {
           "events": "symbol:mouseover",
           "update": "fix === true ? item() : node"
          }
         ],
         "value": null
        },
        {
         "description": "Flag to restart Force simulation upon data changes.",
         "name": "restart",
         "on": [
          {
           "events": {
            "signal": "fix"
           },
           "update": "fix && fix.length"
          }
         ],
         "value": false
        }
       ],
       "width": 300
      }
     },
     "metadata": {},
     "output_type": "display_data"
    },
    {
     "name": "stdout",
     "output_type": "stream",
     "text": [
      "\n"
     ]
    },
    {
     "data": {
      "application/vnd.vega.v5+json": {
       "$schema": "https://vega.github.io/schema/vega/v5.json",
       "axes": [
        {
         "orient": "bottom",
         "scale": "xscale",
         "zindex": 1
        },
        {
         "orient": "left",
         "scale": "yscale",
         "tickCount": 5,
         "zindex": 1
        }
       ],
       "data": [
        {
         "name": "binned",
         "values": [
          {
           "bin0": 68577.46875,
           "bin1": 70759.6796875,
           "count": 77,
           "label": "s30"
          },
          {
           "bin0": 70759.6796875,
           "bin1": 72941.890625,
           "count": 65,
           "label": "s30"
          },
          {
           "bin0": 72941.890625,
           "bin1": 75124.1015625,
           "count": 68,
           "label": "s30"
          },
          {
           "bin0": 75124.1015625,
           "bin1": 77306.3125,
           "count": 81,
           "label": "s30"
          },
          {
           "bin0": 77306.3125,
           "bin1": 79488.5234375,
           "count": 590,
           "label": "s30"
          },
          {
           "bin0": 79488.5234375,
           "bin1": 81670.734375,
           "count": 123,
           "label": "s30"
          }
         ]
        },
        {
         "name": "xref",
         "values": [
          {
           "value": 10000
          },
          {
           "value": 74000
          }
         ]
        },
        {
         "name": "yref",
         "values": [
          {
           "value": 100
          },
          {
           "value": 400
          }
         ]
        },
        {
         "name": "_ranges",
         "source": [
          "binned"
         ],
         "transform": [
          {
           "as": [
            "min",
            "max"
           ],
           "fields": [
            "bin0",
            "bin1"
           ],
           "ops": [
            "min",
            "max"
           ],
           "type": "aggregate"
          }
         ]
        }
       ],
       "description": "Histogram for visualizing a univariate distribution using static bins.",
       "height": 100,
       "legends": [
        {
         "fill": "color"
        }
       ],
       "marks": [
        {
         "encode": {
          "hover": {
           "fill": {
            "value": "firebrick"
           }
          },
          "update": {
           "fill": {
            "field": "label",
            "scale": "color"
           },
           "opacity": {
            "value": 0.7
           },
           "tooltip": {
            "field": "count"
           },
           "x": {
            "field": "bin0",
            "scale": "xscale"
           },
           "x2": {
            "field": "bin1",
            "offset": -0.5,
            "scale": "xscale"
           },
           "y": {
            "field": "count",
            "scale": "yscale"
           },
           "y2": {
            "scale": "yscale",
            "value": 0
           }
          }
         },
         "from": {
          "data": "binned"
         },
         "name": "bins",
         "type": "rect"
        },
        {
         "clip": true,
         "encode": {
          "enter": {
           "stroke": {
            "value": "red"
           }
          },
          "update": {
           "opacity": {
            "value": 1
           },
           "x": {
            "field": "value",
            "scale": "xscale"
           },
           "y": {
            "signal": "height"
           },
           "y2": {
            "value": 0
           }
          }
         },
         "from": {
          "data": "xref"
         },
         "name": "x_highlights",
         "type": "rule"
        },
        {
         "clip": true,
         "encode": {
          "enter": {
           "stroke": {
            "value": "red"
           }
          },
          "update": {
           "opacity": {
            "value": 1
           },
           "x": {
            "signal": "width"
           },
           "x2": {
            "value": 0
           },
           "y": {
            "field": "value",
            "scale": "yscale"
           }
          }
         },
         "from": {
          "data": "yref"
         },
         "name": "y_highlights",
         "type": "rule"
        }
       ],
       "padding": 5,
       "scales": [
        {
         "domain": {
          "data": "_ranges",
          "fields": [
           "min",
           "max"
          ]
         },
         "name": "xscale",
         "range": "width",
         "type": "linear"
        },
        {
         "domain": {
          "data": "binned",
          "field": "count"
         },
         "name": "yscale",
         "nice": true,
         "range": "height",
         "round": true,
         "type": "linear",
         "zero": true
        },
        {
         "domain": {
          "data": "binned",
          "field": "label"
         },
         "name": "color",
         "range": {
          "scheme": "dark2"
         },
         "type": "ordinal"
        }
       ],
       "title": {
        "anchor": "start",
        "frame": "group",
        "orient": "top",
        "text": "Histogram"
       },
       "width": 500
      }
     },
     "metadata": {},
     "output_type": "display_data"
    }
   ],
   "source": [
    "import glob\n",
    "import pyciemss\n",
    "import pathlib\n",
    "from pyciemss.visuals import plots\n",
    "from pyciemss.visuals import vega\n",
    "import os\n",
    "for vg_schema_file in os.listdir('../../src/pyciemss/visuals/schemas/'):\n",
    "    if vg_schema_file.endswith('.vg.json'):\n",
    "        schema = vega.load_schema(vg_schema_file)\n",
    "        plots.ipy_display(schema, format=\"interactive\")"
   ]
  }
 ],
 "metadata": {
  "kernelspec": {
   "display_name": "Python 3 (ipykernel)",
   "language": "python",
   "name": "python3"
  },
  "language_info": {
   "codemirror_mode": {
    "name": "ipython",
    "version": 3
   },
   "file_extension": ".py",
   "mimetype": "text/x-python",
   "name": "python",
   "nbconvert_exporter": "python",
   "pygments_lexer": "ipython3",
   "version": "3.10.11"
  }
 },
 "nbformat": 4,
 "nbformat_minor": 5
}
