{
 "cells": [
  {
   "cell_type": "code",
   "execution_count": 7,
   "id": "a1299176",
   "metadata": {},
   "outputs": [],
   "source": [
    "%load_ext autoreload\n",
    "%autoreload 2"
   ]
  },
  {
   "cell_type": "code",
   "execution_count": 11,
   "id": "5c1729f7-1b0d-4913-8048-01624c506cc5",
   "metadata": {},
   "outputs": [],
   "source": [
    "import networkx as nx\n",
    "from pyciemss.visuals import plots, vega\n"
   ]
  },
  {
   "cell_type": "code",
   "execution_count": null,
   "id": "07d29614",
   "metadata": {},
   "outputs": [],
   "source": []
  },
  {
   "cell_type": "code",
   "execution_count": 9,
   "id": "997ef041-0312-4b83-bbe2-32a6ddfe3d6c",
   "metadata": {},
   "outputs": [],
   "source": [
    "g = nx.generators.barabasi_albert_graph(5, 3)"
   ]
  },
  {
   "cell_type": "code",
   "execution_count": 10,
   "id": "a4b1668c",
   "metadata": {},
   "outputs": [
    {
     "data": {
      "image/png": "[encoded data removed]",
      "text/plain": [
       "<IPython.core.display.Image object>"
      ]
     },
     "execution_count": 10,
     "metadata": {},
     "output_type": "execute_result"
    }
   ],
   "source": [
    "import random\n",
    "def rand_attributions():\n",
    "    possible = \"ABCD\"\n",
    "    return random.sample(possible, random.randint(1, len(possible)))\n",
    "\n",
    "def rand_label():\n",
    "    possible = \"TUVWXYZ\"\n",
    "    return random.randint(1, 10)\n",
    "    return random.sample(possible, 1)[0]\n",
    "\n",
    "node_properties = {n: {\"attribution\": rand_attributions(), \n",
    "                       \"label\": rand_label()}\n",
    "                    for n in g.nodes()}\n",
    "\n",
    "edge_attributions = {e: {\"attribution\": rand_attributions()} for e in g.edges()}\n",
    "\n",
    "nx.set_node_attributes(g, node_properties)\n",
    "nx.set_edge_attributes(g, edge_attributions)\n",
    "\n",
    "schema = plots.attributed_graph(g)\n",
    "plots.save_schema(schema, \"_schema.json\")\n",
    "plots.ipy_display(schema)"
   ]
  },
  {
   "cell_type": "code",
   "execution_count": 11,
   "id": "ece8d8e5",
   "metadata": {},
   "outputs": [
    {
     "name": "stdout",
     "output_type": "stream",
     "text": [
      "\n"
     ]
    },
    {
     "data": {
      "application/vnd.vega.v5+json": {
       "$schema": "https://vega.github.io/schema/vega/v5.json",
       "data": [
        {
         "name": "node-data",
         "on": [
          {
           "modify": "node.datum",
           "trigger": "fix.length == 2",
           "values": "{fixedx: fix[0], fixedy: fix[1]}"
          },
          {
           "modify": "reset",
           "trigger": "reset",
           "values": "{fixedx: -100, fixedy: -100}"
          }
         ],
         "values": [
          {
           "fixedx": -100,
           "fixedy": -100,
           "fx": 63,
           "fy": 97,
           "group": "V",
           "id": 0,
           "label": 0
          },
          {
           "fixedx": -100,
           "fixedy": -100,
           "fx": 16,
           "fy": 94,
           "group": "U",
           "id": 1,
           "label": 1
          },
          {
           "fixedx": -100,
           "fixedy": -100,
           "fx": 73,
           "fy": 76,
           "group": "W",
           "id": 2,
           "label": 2
          },
          {
           "fixedx": -100,
           "fixedy": -100,
           "fx": 36,
           "fy": 65,
           "group": "T",
           "id": 3,
           "label": 3
          },
          {
           "fixedx": -100,
           "fixedy": -100,
           "fx": 99,
           "fy": 32,
           "group": "T",
           "id": 4,
           "label": 4
          }
         ]
        },
        {
         "name": "link-data",
         "values": [
          {
           "group": "Y",
           "source": 0,
           "target": 1
          },
          {
           "group": "V",
           "source": 0,
           "target": 2
          },
          {
           "group": "Z",
           "source": 0,
           "target": 3
          },
          {
           "group": "W",
           "source": 0,
           "target": 4
          },
          {
           "group": "Z",
           "source": 1,
           "target": 4
          },
          {
           "group": "Z",
           "source": 2,
           "target": 4
          }
         ]
        }
       ],
       "description": "A node-link diagram with force-directed layout.",
       "height": 500,
       "legends": [
        {
         "stroke": "color",
         "symbolType": "stroke",
         "title": "Group"
        },
        {
         "stroke": "colorlink",
         "symbolType": "stroke",
         "title": "Link Group"
        }
       ],
       "marks": [
        {
         "encode": {
          "enter": {
           "fill": {
            "field": "group",
            "value": "color"
           },
           "stroke": {
            "value": "white"
           }
          },
          "update": {
           "cursor": {
            "value": "pointer"
           },
           "fx": {
            "signal": "datum.fixedx != -100 ? datum.fixedx  : (layoutdata ? scale('xscale', datum.fx) : null)"
           },
           "fy": {
            "signal": "datum.fixedy != -100 ? datum.fixedy : (layoutdata ? scale('yscale', datum.fy) : null)"
           },
           "size": {
            "signal": "2 * nodeRadius * nodeRadius"
           }
          }
         },
         "from": {
          "data": "node-data"
         },
         "name": "nodes",
         "transform": [
          {
           "forces": [
            {
             "force": "center",
             "x": {
              "signal": "cx"
             },
             "y": {
              "signal": "cy"
             }
            },
            {
             "force": "collide",
             "radius": {
              "signal": "nodeRadius"
             }
            },
            {
             "force": "nbody",
             "strength": {
              "signal": "nodeCharge"
             }
            },
            {
             "distance": {
              "signal": "linkDistance"
             },
             "force": "link",
             "links": "link-data"
            }
           ],
           "iterations": 300,
           "restart": {
            "signal": "restart"
           },
           "signal": "force",
           "static": true,
           "type": "force"
          }
         ],
         "type": "symbol",
         "zindex": 1
        },
        {
         "encode": {
          "enter": {
           "align": {
            "value": "center"
           },
           "baseline": {
            "value": "middle"
           },
           "fill": {
            "value": "black"
           },
           "fontSize": {
            "value": 10
           },
           "text": {
            "field": "datum.label"
           }
          },
          "update": {
           "x": {
            "field": "x"
           },
           "y": {
            "field": "y"
           }
          }
         },
         "from": {
          "data": "nodes"
         },
         "interactive": false,
         "name": "labels",
         "transform": [
          {
           "anchor": [
            "top",
            "bottom",
            "right",
            "left"
           ],
           "avoidMarks": [
            "nodes"
           ],
           "offset": [
            1
           ],
           "size": {
            "signal": "[width + 60, height]"
           },
           "type": "label"
          }
         ],
         "type": "text",
         "zindex": 2
        },
        {
         "encode": {
          "update": {
           "stroke": {
            "field": "group",
            "scale": "colorlink"
           },
           "strokeWidth": {
            "value": 0.5
           }
          }
         },
         "from": {
          "data": "link-data"
         },
         "interactive": false,
         "transform": [
          {
           "require": {
            "signal": "force"
           },
           "shape": "line",
           "sourceX": "datum.source.x",
           "sourceY": "datum.source.y",
           "targetX": "datum.target.x",
           "targetY": "datum.target.y",
           "type": "linkpath"
          }
         ],
         "type": "path"
        },
        {
         "encode": {
          "enter": {
           "fill": {
            "field": "group",
            "scale": "colorlink"
           },
           "shape": {
            "value": "triangle-right"
           },
           "size": {
            "value": 40
           },
           "stroke": {
            "field": "group",
            "scale": "colorlink"
           }
          },
          "hover": {
           "opacity": {
            "value": 1
           }
          },
          "update": {
           "x": {
            "field": "target.x"
           },
           "y": {
            "field": "target.y"
           }
          }
         },
         "from": {
          "data": "link-data"
         },
         "name": "arrows",
         "transform": [
          {
           "as": "tan",
           "expr": "atan2((datum.datum.target.y-datum.datum.source.y),(datum.datum.target.x-datum.datum.source.x))",
           "type": "formula"
          },
          {
           "as": "angle",
           "expr": "datum.tan*180/PI",
           "type": "formula"
          },
          {
           "as": "y",
           "expr": "datum.datum.target.y - nodeRadius*sin(datum.tan)",
           "type": "formula"
          },
          {
           "as": "x",
           "expr": "datum.datum.target.x - nodeRadius*cos(datum.tan)",
           "type": "formula"
          }
         ],
         "type": "symbol",
         "zindex": {
          "value": 40
         }
        }
       ],
       "padding": 0,
       "scales": [
        {
         "domain": {
          "data": "node-data",
          "field": "group"
         },
         "name": "color",
         "range": {
          "scheme": "category20c"
         },
         "type": "ordinal"
        },
        {
         "domain": {
          "data": "link-data",
          "field": "group"
         },
         "name": "colorlink",
         "range": {
          "scheme": "category20c"
         },
         "type": "ordinal"
        },
        {
         "domain": {
          "data": "node-data",
          "field": "fx"
         },
         "name": "xscale",
         "range": [
          10,
          {
           "signal": "width - 10"
          }
         ]
        },
        {
         "domain": {
          "data": "node-data",
          "field": "fy"
         },
         "name": "yscale",
         "range": [
          10,
          {
           "signal": "height - 10"
          }
         ]
        }
       ],
       "signals": [
        {
         "name": "cx",
         "update": "width / 2"
        },
        {
         "name": "cy",
         "update": "height / 2"
        },
        {
         "name": "nodeRadius",
         "value": 15
        },
        {
         "name": "nodeCharge",
         "value": -80
        },
        {
         "name": "linkDistance",
         "value": 80
        },
        {
         "bind": {
          "input": "checkbox"
         },
         "name": "layoutdata",
         "value": false
        },
        {
         "description": "State variable for active node fix status.",
         "name": "fix",
         "on": [
          {
           "events": "symbol:mouseout[!event.buttons], window:mouseup",
           "update": "false"
          },
          {
           "events": "symbol:mouseover",
           "update": "fix || true"
          },
          {
           "events": "[symbol:mousedown, window:mouseup] > window:mousemove!",
           "force": true,
           "update": "xy()"
          }
         ],
         "value": false
        },
        {
         "description": "Unfix node",
         "name": "reset",
         "on": [
          {
           "events": "symbol:dblclick",
           "update": "item().datum"
          }
         ],
         "value": null
        },
        {
         "description": "Graph node most recently interacted with.",
         "name": "node",
         "on": [
          {
           "events": "symbol:mouseover",
           "update": "fix === true ? item() : node"
          }
         ],
         "value": null
        },
        {
         "description": "Flag to restart Force simulation upon data changes.",
         "name": "restart",
         "on": [
          {
           "events": {
            "signal": "fix"
           },
           "update": "fix && fix.length"
          },
          {
           "events": {
            "signal": "layoutdata"
           },
           "update": "true"
          },
          {
           "events": {
            "signal": "reset"
           },
           "update": "true"
          }
         ],
         "value": false
        }
       ],
       "width": 500
      }
     },
     "metadata": {},
     "output_type": "display_data"
    }
   ],
   "source": [
    "g = nx.generators.barabasi_albert_graph(5, 3)\n",
    "def rand_group():\n",
    "    possible = \"TUVWXYZ\"\n",
    "    return random.sample(possible, 1)[0]\n",
    "\n",
    "node_properties = {n: {\"group\": rand_group(), \n",
    "                       \"fx\": random.randint(1, 100),\n",
    "                       \"fy\": random.randint(1, 100)}\n",
    "                    for n in g.nodes()}\n",
    "\n",
    "edge_attributions = {e: {\"group\": rand_group()}\n",
    "                    for e in g.edges()}\n",
    "\n",
    "nx.set_node_attributes(g, node_properties)\n",
    "nx.set_edge_attributes(g, edge_attributions)\n",
    "nx.set_node_attributes(g, {k:f\"n{i}\" for i, k in enumerate(g.nodes)}, \"label\")\n",
    "\n",
    "schema = plots.spring_force_graph(g, node_labels=\"label\", input_layout = False)\n",
    "plots.save_schema(schema, \"_schema.json\")\n",
    "plots.ipy_display(schema, format=\"interactive\")"
   ]
  },
  {
   "cell_type": "code",
   "execution_count": 4,
   "id": "67ab6bf5",
   "metadata": {},
   "outputs": [
    {
     "name": "stdout",
     "output_type": "stream",
     "text": [
      "\n"
     ]
    },
    {
     "data": {
      "application/vnd.vega.v5+json": {
       "$schema": "https://vega.github.io/schema/vega/v5.json",
       "axes": [
        {
         "labelOverlap": true,
         "orient": "bottom",
         "scale": "x",
         "tickCount": {
          "signal": "ceil(width/3)"
         },
         "title": {
          "signal": "x_name"
         }
        },
        {
         "labelOverlap": true,
         "orient": "left",
         "scale": "y",
         "tickCount": {
          "signal": "ceil(height/3)"
         },
         "title": {
          "signal": "y_name"
         }
        }
       ],
       "data": [
        {
         "name": "points",
         "values": "[{\"test4\":1.8784064673,\"test5\":0.8898053354},{\"test4\":1.9190135737,\"test5\":1.6940083693},{\"test4\":1.7611340994,\"test5\":0.4606405369},{\"test4\":0.703245089,\"test5\":2.1182349001},{\"test4\":0.9491339829,\"test5\":2.7805685584},{\"test4\":0.2415687533,\"test5\":1.5568788514},{\"test4\":0.3982287974,\"test5\":1.4302995332},{\"test4\":1.6280448708,\"test5\":2.5436315735},{\"test4\":2.3247808418,\"test5\":2.4961271219},{\"test4\":2.4567336834,\"test5\":1.0024588392},{\"test4\":1.5694236074,\"test5\":1.9119798878},{\"test4\":0.782538235,\"test5\":1.168015209},{\"test4\":0.5286082131,\"test5\":2.8618444128},{\"test4\":0.8430785029,\"test5\":0.9917698437},{\"test4\":2.7396019243,\"test5\":0.4499174893},{\"test4\":0.6462360245,\"test5\":2.6960607943},{\"test4\":2.7295301245,\"test5\":2.8192203883},{\"test4\":0.3773807431,\"test5\":2.226443238},{\"test4\":0.8549384382,\"test5\":0.3309554595},{\"test4\":1.4275320392,\"test5\":0.0391494775},{\"test4\":1.194702444,\"test5\":2.9588307158},{\"test4\":0.4594872855,\"test5\":1.4656934946},{\"test4\":2.3920118731,\"test5\":2.1050639176},{\"test4\":0.8165151617,\"test5\":0.4268024193},{\"test4\":0.7579433608,\"test5\":0.018024669},{\"test4\":1.0281123887,\"test5\":2.5888121746},{\"test4\":2.9180940177,\"test5\":0.2210222407},{\"test4\":0.5602716962,\"test5\":2.7290280488},{\"test4\":0.080116291,\"test5\":1.3813955338},{\"test4\":2.0030151172,\"test5\":0.4339551205},{\"test4\":1.6277076391,\"test5\":1.3768270819},{\"test4\":0.7262732296,\"test5\":2.8261542824},{\"test4\":1.6581643407,\"test5\":2.48517745},{\"test4\":2.7503728948,\"test5\":2.9724783682},{\"test4\":2.3532666338,\"test5\":1.8883357507},{\"test4\":0.8139503964,\"test5\":2.6154057272},{\"test4\":1.2070305653,\"test5\":0.1948596475},{\"test4\":0.2111076324,\"test5\":1.1311831264},{\"test4\":1.9816098148,\"test5\":1.4957274217},{\"test4\":0.5470110795,\"test5\":1.3272991158},{\"test4\":1.5000260033,\"test5\":2.0074185985},{\"test4\":1.5807771135,\"test5\":1.2764058494},{\"test4\":1.600701093,\"test5\":0.8378900014},{\"test4\":2.0451367915,\"test5\":0.3710550722},{\"test4\":2.7245102708,\"test5\":2.8719187024},{\"test4\":0.8187306631,\"test5\":2.9051530677},{\"test4\":2.9663990313,\"test5\":1.5226344053},{\"test4\":1.3274667547,\"test5\":1.2267662193},{\"test4\":1.2524303986,\"test5\":1.4247951071},{\"test4\":1.9441148298,\"test5\":0.7637938487},{\"test4\":1.00281166,\"test5\":0.6577579081},{\"test4\":2.2275192202,\"test5\":1.2374736444},{\"test4\":1.4467336805,\"test5\":0.9216043537},{\"test4\":1.8359053649,\"test5\":0.8320471726},{\"test4\":2.5667024559,\"test5\":2.7201482806},{\"test4\":1.111236513,\"test5\":1.3392553261},{\"test4\":1.3916302574,\"test5\":0.7519075084},{\"test4\":0.0026225978,\"test5\":0.3747018478},{\"test4\":0.8064660551,\"test5\":2.609786251},{\"test4\":1.8029847112,\"test5\":0.6682012272},{\"test4\":1.9223870976,\"test5\":1.0220106343},{\"test4\":1.6779029221,\"test5\":1.3967184047},{\"test4\":1.5890665737,\"test5\":2.5894271522},{\"test4\":0.6201529371,\"test5\":0.5518590114},{\"test4\":0.4097904593,\"test5\":1.5284234793},{\"test4\":0.2698618947,\"test5\":1.8544130255},{\"test4\":1.552639482,\"test5\":1.3840644835},{\"test4\":0.9955580025,\"test5\":2.1653380601},{\"test4\":2.0492062725,\"test5\":0.4289997537},{\"test4\":2.8256485381,\"test5\":0.4134450868},{\"test4\":1.2881220231,\"test5\":2.2034068855},{\"test4\":0.7468594125,\"test5\":0.9740313712},{\"test4\":0.9911921899,\"test5\":1.2615342464},{\"test4\":1.1580698392,\"test5\":0.5212541244},{\"test4\":2.801415095,\"test5\":0.1429130491},{\"test4\":1.3530788152,\"test5\":1.0742765389},{\"test4\":0.5216311831,\"test5\":2.1118977929},{\"test4\":1.1557674531,\"test5\":1.4418857484},{\"test4\":0.4635227138,\"test5\":2.1016647848},{\"test4\":1.3825420053,\"test5\":2.285834979},{\"test4\":1.3471802928,\"test5\":1.2391869335},{\"test4\":1.1540776074,\"test5\":2.481689932},{\"test4\":0.8136585983,\"test5\":0.0504566818},{\"test4\":1.1915879522,\"test5\":2.9781431052},{\"test4\":1.8403666292,\"test5\":1.1471927404},{\"test4\":2.9716636438,\"test5\":1.0441080078},{\"test4\":1.7765933254,\"test5\":1.7035094899},{\"test4\":2.8446915164,\"test5\":0.4998418301},{\"test4\":0.3796152703,\"test5\":2.1073922508},{\"test4\":1.985493886,\"test5\":2.394757662},{\"test4\":0.4782244813,\"test5\":0.6135911428},{\"test4\":0.3571622283,\"test5\":2.6797214156},{\"test4\":0.6937141937,\"test5\":1.4870715125},{\"test4\":2.5673298886,\"test5\":0.2581776667},{\"test4\":2.43553221,\"test5\":0.434436144},{\"test4\":1.7487153466,\"test5\":1.7634163707},{\"test4\":2.0453483998,\"test5\":2.4495230811},{\"test4\":2.6215811127,\"test5\":1.8322924848},{\"test4\":2.4501306484,\"test5\":1.7331885687},{\"test4\":2.8030034753,\"test5\":2.4346667074}]"
        },
        {
         "format": {
          "type": "json"
         },
         "name": "source_0",
         "transform": [
          {
           "field": {
            "signal": "x_name"
           },
           "signal": "x_extent",
           "type": "extent"
          },
          {
           "as": [
            "x_start",
            "x_end"
           ],
           "extent": {
            "signal": "x_extent"
           },
           "field": {
            "signal": "x_name"
           },
           "maxbins": {
            "signal": "bandwidthX"
           },
           "signal": "x_bins",
           "type": "bin"
          },
          {
           "field": {
            "signal": "y_name"
           },
           "signal": "y_extent",
           "type": "extent"
          },
          {
           "as": [
            "y_start",
            "y_end"
           ],
           "extent": {
            "signal": "y_extent"
           },
           "field": {
            "signal": "y_name"
           },
           "maxbins": {
            "signal": "bandwidthY"
           },
           "signal": "y_bins",
           "type": "bin"
          },
          {
           "as": [
            "__count"
           ],
           "groupby": [
            "x_start",
            "x_end",
            "y_start",
            "y_end"
           ],
           "ops": [
            "count"
           ],
           "type": "aggregate"
          }
         ],
         "values": "[{\"test4\":1.8784064673,\"test5\":0.8898053354},{\"test4\":1.9190135737,\"test5\":1.6940083693},{\"test4\":1.7611340994,\"test5\":0.4606405369},{\"test4\":0.703245089,\"test5\":2.1182349001},{\"test4\":0.9491339829,\"test5\":2.7805685584},{\"test4\":0.2415687533,\"test5\":1.5568788514},{\"test4\":0.3982287974,\"test5\":1.4302995332},{\"test4\":1.6280448708,\"test5\":2.5436315735},{\"test4\":2.3247808418,\"test5\":2.4961271219},{\"test4\":2.4567336834,\"test5\":1.0024588392},{\"test4\":1.5694236074,\"test5\":1.9119798878},{\"test4\":0.782538235,\"test5\":1.168015209},{\"test4\":0.5286082131,\"test5\":2.8618444128},{\"test4\":0.8430785029,\"test5\":0.9917698437},{\"test4\":2.7396019243,\"test5\":0.4499174893},{\"test4\":0.6462360245,\"test5\":2.6960607943},{\"test4\":2.7295301245,\"test5\":2.8192203883},{\"test4\":0.3773807431,\"test5\":2.226443238},{\"test4\":0.8549384382,\"test5\":0.3309554595},{\"test4\":1.4275320392,\"test5\":0.0391494775},{\"test4\":1.194702444,\"test5\":2.9588307158},{\"test4\":0.4594872855,\"test5\":1.4656934946},{\"test4\":2.3920118731,\"test5\":2.1050639176},{\"test4\":0.8165151617,\"test5\":0.4268024193},{\"test4\":0.7579433608,\"test5\":0.018024669},{\"test4\":1.0281123887,\"test5\":2.5888121746},{\"test4\":2.9180940177,\"test5\":0.2210222407},{\"test4\":0.5602716962,\"test5\":2.7290280488},{\"test4\":0.080116291,\"test5\":1.3813955338},{\"test4\":2.0030151172,\"test5\":0.4339551205},{\"test4\":1.6277076391,\"test5\":1.3768270819},{\"test4\":0.7262732296,\"test5\":2.8261542824},{\"test4\":1.6581643407,\"test5\":2.48517745},{\"test4\":2.7503728948,\"test5\":2.9724783682},{\"test4\":2.3532666338,\"test5\":1.8883357507},{\"test4\":0.8139503964,\"test5\":2.6154057272},{\"test4\":1.2070305653,\"test5\":0.1948596475},{\"test4\":0.2111076324,\"test5\":1.1311831264},{\"test4\":1.9816098148,\"test5\":1.4957274217},{\"test4\":0.5470110795,\"test5\":1.3272991158},{\"test4\":1.5000260033,\"test5\":2.0074185985},{\"test4\":1.5807771135,\"test5\":1.2764058494},{\"test4\":1.600701093,\"test5\":0.8378900014},{\"test4\":2.0451367915,\"test5\":0.3710550722},{\"test4\":2.7245102708,\"test5\":2.8719187024},{\"test4\":0.8187306631,\"test5\":2.9051530677},{\"test4\":2.9663990313,\"test5\":1.5226344053},{\"test4\":1.3274667547,\"test5\":1.2267662193},{\"test4\":1.2524303986,\"test5\":1.4247951071},{\"test4\":1.9441148298,\"test5\":0.7637938487},{\"test4\":1.00281166,\"test5\":0.6577579081},{\"test4\":2.2275192202,\"test5\":1.2374736444},{\"test4\":1.4467336805,\"test5\":0.9216043537},{\"test4\":1.8359053649,\"test5\":0.8320471726},{\"test4\":2.5667024559,\"test5\":2.7201482806},{\"test4\":1.111236513,\"test5\":1.3392553261},{\"test4\":1.3916302574,\"test5\":0.7519075084},{\"test4\":0.0026225978,\"test5\":0.3747018478},{\"test4\":0.8064660551,\"test5\":2.609786251},{\"test4\":1.8029847112,\"test5\":0.6682012272},{\"test4\":1.9223870976,\"test5\":1.0220106343},{\"test4\":1.6779029221,\"test5\":1.3967184047},{\"test4\":1.5890665737,\"test5\":2.5894271522},{\"test4\":0.6201529371,\"test5\":0.5518590114},{\"test4\":0.4097904593,\"test5\":1.5284234793},{\"test4\":0.2698618947,\"test5\":1.8544130255},{\"test4\":1.552639482,\"test5\":1.3840644835},{\"test4\":0.9955580025,\"test5\":2.1653380601},{\"test4\":2.0492062725,\"test5\":0.4289997537},{\"test4\":2.8256485381,\"test5\":0.4134450868},{\"test4\":1.2881220231,\"test5\":2.2034068855},{\"test4\":0.7468594125,\"test5\":0.9740313712},{\"test4\":0.9911921899,\"test5\":1.2615342464},{\"test4\":1.1580698392,\"test5\":0.5212541244},{\"test4\":2.801415095,\"test5\":0.1429130491},{\"test4\":1.3530788152,\"test5\":1.0742765389},{\"test4\":0.5216311831,\"test5\":2.1118977929},{\"test4\":1.1557674531,\"test5\":1.4418857484},{\"test4\":0.4635227138,\"test5\":2.1016647848},{\"test4\":1.3825420053,\"test5\":2.285834979},{\"test4\":1.3471802928,\"test5\":1.2391869335},{\"test4\":1.1540776074,\"test5\":2.481689932},{\"test4\":0.8136585983,\"test5\":0.0504566818},{\"test4\":1.1915879522,\"test5\":2.9781431052},{\"test4\":1.8403666292,\"test5\":1.1471927404},{\"test4\":2.9716636438,\"test5\":1.0441080078},{\"test4\":1.7765933254,\"test5\":1.7035094899},{\"test4\":2.8446915164,\"test5\":0.4998418301},{\"test4\":0.3796152703,\"test5\":2.1073922508},{\"test4\":1.985493886,\"test5\":2.394757662},{\"test4\":0.4782244813,\"test5\":0.6135911428},{\"test4\":0.3571622283,\"test5\":2.6797214156},{\"test4\":0.6937141937,\"test5\":1.4870715125},{\"test4\":2.5673298886,\"test5\":0.2581776667},{\"test4\":2.43553221,\"test5\":0.434436144},{\"test4\":1.7487153466,\"test5\":1.7634163707},{\"test4\":2.0453483998,\"test5\":2.4495230811},{\"test4\":2.6215811127,\"test5\":1.8322924848},{\"test4\":2.4501306484,\"test5\":1.7331885687},{\"test4\":2.8030034753,\"test5\":2.4346667074}]"
        }
       ],
       "height": 200,
       "legends": [
        {
         "fill": "color",
         "gradientLength": {
          "signal": "height - 16"
         },
         "title": "Count of Records"
        }
       ],
       "marks": [
        {
         "encode": {
          "update": {
           "fill": {
            "field": "__count",
            "scale": "color"
           },
           "x": {
            "field": "x_end",
            "scale": "x"
           },
           "x2": {
            "field": "x_start",
            "scale": "x"
           },
           "y": {
            "field": "y_end",
            "scale": "y"
           },
           "y2": {
            "field": "y_start",
            "scale": "y"
           }
          }
         },
         "from": {
          "data": "source_0"
         },
         "name": "marks",
         "style": [
          "rect"
         ],
         "type": "rect"
        },
        {
         "encode": {
          "enter": {
           "fill": {
            "value": "black"
           },
           "fillOpacity": {
            "value": 1
           }
          },
          "update": {
           "size": {
            "value": 10
           },
           "x": {
            "field": {
             "signal": "x_name"
            },
            "scale": "x"
           },
           "y": {
            "field": {
             "signal": "y_name"
            },
            "scale": "y"
           }
          }
         },
         "from": {
          "data": "points"
         },
         "type": "symbol"
        }
       ],
       "scales": [
        {
         "bins": {
          "signal": "x_bins"
         },
         "domain": {
          "signal": "[x_bins.start, x_bins.stop]"
         },
         "name": "x",
         "range": [
          0,
          {
           "signal": "width"
          }
         ],
         "type": "linear",
         "zero": false
        },
        {
         "bins": {
          "signal": "y_bins"
         },
         "domain": {
          "signal": "[y_bins.start, y_bins.stop]"
         },
         "name": "y",
         "range": [
          {
           "signal": "height"
          },
          0
         ],
         "type": "linear",
         "zero": false
        },
        {
         "domain": {
          "data": "source_0",
          "field": "__count"
         },
         "interpolate": "hcl",
         "name": "color",
         "range": "heatmap",
         "type": "linear",
         "zero": false
        }
       ],
       "signals": [
        {
         "bind": {
          "input": "range",
          "max": 100,
          "min": 1,
          "step": 1
         },
         "name": "bandwidthX",
         "value": 4
        },
        {
         "bind": {
          "input": "range",
          "max": 100,
          "min": 1,
          "step": 1
         },
         "name": "bandwidthY",
         "value": 4
        },
        {
         "bind": {
          "input": "text"
         },
         "name": "x_name",
         "value": "test4"
        },
        {
         "bind": {
          "input": "text"
         },
         "name": "y_name",
         "value": "test5"
        }
       ],
       "width": 300
      }
     },
     "metadata": {},
     "output_type": "display_data"
    }
   ],
   "source": [
    "import pandas as pd\n",
    "import numpy as np\n",
    "\n",
    "df = pd.DataFrame(3*np.random.random((100, 2)), columns=['test4', 'test5'])\n",
    "schema = plots.heatmap_scatter(data = df, x_bin=4, y_bin=4, x_name = \"test4\", y_name = \"test5\")\n",
    "plots.save_schema(schema, \"_schema.json\")\n",
    "plots.ipy_display(schema, format=\"interactive\")"
   ]
  },
  {
   "cell_type": "code",
   "execution_count": 1,
   "id": "6e083016",
   "metadata": {},
   "outputs": [
    {
     "name": "stdout",
     "output_type": "stream",
     "text": [
      "\n"
     ]
    },
    {
     "data": {
      "application/vnd.vega.v5+json": {
       "$schema": "https://vega.github.io/schema/vega/v5.json",
       "axes": [
        {
         "labelOverlap": true,
         "orient": "bottom",
         "scale": "x",
         "tickCount": {
          "signal": "ceil(width/3)"
         },
         "title": "gamma"
        },
        {
         "labelOverlap": true,
         "orient": "left",
         "scale": "y",
         "tickCount": {
          "signal": "ceil(height/3)"
         },
         "title": "alpha"
        }
       ],
       "data": [
        {
         "name": "points",
         "values": "[{\"alpha\":7.731442971,\"gamma\":3.3582627108},{\"alpha\":1.9377935165,\"gamma\":2.7901001886},{\"alpha\":8.0474273941,\"gamma\":8.1511563483},{\"alpha\":3.8754515035,\"gamma\":1.9005792302},{\"alpha\":4.2250109367,\"gamma\":0.4425303784},{\"alpha\":8.4652796835,\"gamma\":4.3972451019},{\"alpha\":9.0660358869,\"gamma\":5.9722741148},{\"alpha\":5.1210902494,\"gamma\":4.920690896},{\"alpha\":1.6353408236,\"gamma\":3.9397647087},{\"alpha\":8.0110653955,\"gamma\":6.6801298366},{\"alpha\":3.8531591954,\"gamma\":3.3526427498},{\"alpha\":7.9126901045,\"gamma\":7.3941143123},{\"alpha\":8.1135287874,\"gamma\":2.6509832452},{\"alpha\":9.3967737318,\"gamma\":8.6709517109},{\"alpha\":1.9482353061,\"gamma\":1.6015391705},{\"alpha\":0.7448235499,\"gamma\":3.5211278394},{\"alpha\":5.1751504998,\"gamma\":6.7405738375},{\"alpha\":4.4376305901,\"gamma\":3.067541149},{\"alpha\":2.6342284507,\"gamma\":9.1015783532},{\"alpha\":2.7646154857,\"gamma\":3.2238478708},{\"alpha\":3.3438850845,\"gamma\":3.3236057862},{\"alpha\":4.835496021,\"gamma\":7.0699795507},{\"alpha\":4.7784447944,\"gamma\":2.6095069317},{\"alpha\":3.0165465664,\"gamma\":7.0598952975},{\"alpha\":1.6922635119,\"gamma\":5.2301727822},{\"alpha\":4.6869372991,\"gamma\":7.2073409555},{\"alpha\":4.9519720577,\"gamma\":6.61874249},{\"alpha\":7.4273922901,\"gamma\":7.0164185527},{\"alpha\":6.9676591637,\"gamma\":4.5049132088},{\"alpha\":7.0747989669,\"gamma\":4.5937315579},{\"alpha\":2.5809010549,\"gamma\":7.9433992215},{\"alpha\":0.8513059341,\"gamma\":4.8638690368},{\"alpha\":8.3526146628,\"gamma\":2.8821857937},{\"alpha\":5.2344941188,\"gamma\":3.3853607601},{\"alpha\":4.8751704145,\"gamma\":6.4803989699},{\"alpha\":4.0701820732,\"gamma\":1.6375379445},{\"alpha\":8.5621971,\"gamma\":6.3451065258},{\"alpha\":3.8044197466,\"gamma\":2.7424490755},{\"alpha\":2.2670059427,\"gamma\":1.1176416412},{\"alpha\":4.8947462341,\"gamma\":0.015333916},{\"alpha\":9.8376354443,\"gamma\":3.1712894894},{\"alpha\":2.5524498257,\"gamma\":9.3464713829},{\"alpha\":7.0486195686,\"gamma\":0.2775656226},{\"alpha\":2.7982599856,\"gamma\":9.9665343349},{\"alpha\":1.1320789497,\"gamma\":5.9862834429},{\"alpha\":7.5430893251,\"gamma\":1.7040633166},{\"alpha\":8.7870961301,\"gamma\":6.9660821095},{\"alpha\":1.8423605635,\"gamma\":5.6495405943},{\"alpha\":2.8921893746,\"gamma\":4.8833645923},{\"alpha\":9.0022764383,\"gamma\":1.1762280242},{\"alpha\":8.0121694626,\"gamma\":2.7898108582},{\"alpha\":6.5344851125,\"gamma\":0.0342709287},{\"alpha\":1.566562016,\"gamma\":0.5722494519},{\"alpha\":6.5366154007,\"gamma\":0.153749874},{\"alpha\":1.6804917567,\"gamma\":7.3165995286},{\"alpha\":5.1184200488,\"gamma\":9.6400060732},{\"alpha\":4.5145020247,\"gamma\":6.5814852019},{\"alpha\":8.2013379113,\"gamma\":8.4900799201},{\"alpha\":7.9042682966,\"gamma\":6.0366061071},{\"alpha\":2.2439552288,\"gamma\":2.9800129557},{\"alpha\":4.6173009988,\"gamma\":4.0596884202},{\"alpha\":7.5153405842,\"gamma\":7.5805052551},{\"alpha\":6.8777483597,\"gamma\":5.5121034358},{\"alpha\":6.8512090707,\"gamma\":5.7429074411},{\"alpha\":6.8178157193,\"gamma\":8.9192813693},{\"alpha\":3.5167545001,\"gamma\":6.9251616593},{\"alpha\":8.5929068164,\"gamma\":1.5526484293},{\"alpha\":7.0326901048,\"gamma\":5.8239379923},{\"alpha\":5.0753202842,\"gamma\":6.4520921237},{\"alpha\":0.9636635317,\"gamma\":0.3085132171},{\"alpha\":0.3806607725,\"gamma\":7.8022845632},{\"alpha\":4.70311968,\"gamma\":9.9672721302},{\"alpha\":2.0975252805,\"gamma\":7.0484255278},{\"alpha\":7.0832109864,\"gamma\":9.4290172118},{\"alpha\":0.7736133632,\"gamma\":7.7895369627},{\"alpha\":4.4942119429,\"gamma\":0.0938453045},{\"alpha\":3.8042376279,\"gamma\":5.7992158513},{\"alpha\":9.443710286,\"gamma\":3.1700937842},{\"alpha\":0.8350034158,\"gamma\":1.1697223584},{\"alpha\":1.8592118513,\"gamma\":7.9161084579},{\"alpha\":5.755814899,\"gamma\":7.2931027997},{\"alpha\":5.1130049593,\"gamma\":4.180740007},{\"alpha\":1.3256585833,\"gamma\":9.493598483},{\"alpha\":4.3298672813,\"gamma\":3.2815342052},{\"alpha\":7.9356606385,\"gamma\":0.7414410807},{\"alpha\":2.4007995102,\"gamma\":5.1925944012},{\"alpha\":0.253652919,\"gamma\":3.2127624372},{\"alpha\":0.1118804684,\"gamma\":4.0212030696},{\"alpha\":9.6699121153,\"gamma\":8.1905986667},{\"alpha\":6.8682513611,\"gamma\":3.5354407533},{\"alpha\":2.3801961592,\"gamma\":4.4816584919},{\"alpha\":4.725407425,\"gamma\":1.4599644914},{\"alpha\":8.446783646,\"gamma\":5.0975776457},{\"alpha\":4.5131550075,\"gamma\":3.2420022385},{\"alpha\":9.2177897955,\"gamma\":8.8080291118},{\"alpha\":3.9604630455,\"gamma\":2.9237214783},{\"alpha\":8.7299215721,\"gamma\":1.2802788749},{\"alpha\":3.7737037108,\"gamma\":2.2803668528},{\"alpha\":2.1649398784,\"gamma\":9.4803418666},{\"alpha\":2.250195767,\"gamma\":4.5891808678}]"
        },
        {
         "format": {
          "type": "json"
         },
         "name": "mesh",
         "values": "[{\"x_start\":-0.5555555556,\"x_end\":0.5555555556,\"y_start\":-0.5555555556,\"y_end\":0.5555555556,\"__count\":0.0},{\"x_start\":0.5555555556,\"x_end\":1.6666666667,\"y_start\":-0.5555555556,\"y_end\":0.5555555556,\"__count\":1.2345679012},{\"x_start\":1.6666666667,\"x_end\":2.7777777778,\"y_start\":-0.5555555556,\"y_end\":0.5555555556,\"__count\":4.9382716049},{\"x_start\":2.7777777778,\"x_end\":3.8888888889,\"y_start\":-0.5555555556,\"y_end\":0.5555555556,\"__count\":11.1111111111},{\"x_start\":3.8888888889,\"x_end\":5.0,\"y_start\":-0.5555555556,\"y_end\":0.5555555556,\"__count\":19.7530864198},{\"x_start\":5.0,\"x_end\":6.1111111111,\"y_start\":-0.5555555556,\"y_end\":0.5555555556,\"__count\":30.8641975309},{\"x_start\":6.1111111111,\"x_end\":7.2222222222,\"y_start\":-0.5555555556,\"y_end\":0.5555555556,\"__count\":44.4444444444},{\"x_start\":7.2222222222,\"x_end\":8.3333333333,\"y_start\":-0.5555555556,\"y_end\":0.5555555556,\"__count\":60.4938271605},{\"x_start\":8.3333333333,\"x_end\":9.4444444444,\"y_start\":-0.5555555556,\"y_end\":0.5555555556,\"__count\":79.012345679},{\"x_start\":9.4444444444,\"x_end\":10.5555555556,\"y_start\":-0.5555555556,\"y_end\":0.5555555556,\"__count\":100.0},{\"x_start\":-0.5555555556,\"x_end\":0.5555555556,\"y_start\":0.5555555556,\"y_end\":1.6666666667,\"__count\":1.2345679012},{\"x_start\":0.5555555556,\"x_end\":1.6666666667,\"y_start\":0.5555555556,\"y_end\":1.6666666667,\"__count\":2.4691358025},{\"x_start\":1.6666666667,\"x_end\":2.7777777778,\"y_start\":0.5555555556,\"y_end\":1.6666666667,\"__count\":6.1728395062},{\"x_start\":2.7777777778,\"x_end\":3.8888888889,\"y_start\":0.5555555556,\"y_end\":1.6666666667,\"__count\":12.3456790123},{\"x_start\":3.8888888889,\"x_end\":5.0,\"y_start\":0.5555555556,\"y_end\":1.6666666667,\"__count\":20.987654321},{\"x_start\":5.0,\"x_end\":6.1111111111,\"y_start\":0.5555555556,\"y_end\":1.6666666667,\"__count\":32.0987654321},{\"x_start\":6.1111111111,\"x_end\":7.2222222222,\"y_start\":0.5555555556,\"y_end\":1.6666666667,\"__count\":45.6790123457},{\"x_start\":7.2222222222,\"x_end\":8.3333333333,\"y_start\":0.5555555556,\"y_end\":1.6666666667,\"__count\":61.7283950617},{\"x_start\":8.3333333333,\"x_end\":9.4444444444,\"y_start\":0.5555555556,\"y_end\":1.6666666667,\"__count\":80.2469135802},{\"x_start\":9.4444444444,\"x_end\":10.5555555556,\"y_start\":0.5555555556,\"y_end\":1.6666666667,\"__count\":101.2345679012},{\"x_start\":-0.5555555556,\"x_end\":0.5555555556,\"y_start\":1.6666666667,\"y_end\":2.7777777778,\"__count\":4.9382716049},{\"x_start\":0.5555555556,\"x_end\":1.6666666667,\"y_start\":1.6666666667,\"y_end\":2.7777777778,\"__count\":6.1728395062},{\"x_start\":1.6666666667,\"x_end\":2.7777777778,\"y_start\":1.6666666667,\"y_end\":2.7777777778,\"__count\":9.8765432099},{\"x_start\":2.7777777778,\"x_end\":3.8888888889,\"y_start\":1.6666666667,\"y_end\":2.7777777778,\"__count\":16.049382716},{\"x_start\":3.8888888889,\"x_end\":5.0,\"y_start\":1.6666666667,\"y_end\":2.7777777778,\"__count\":24.6913580247},{\"x_start\":5.0,\"x_end\":6.1111111111,\"y_start\":1.6666666667,\"y_end\":2.7777777778,\"__count\":35.8024691358},{\"x_start\":6.1111111111,\"x_end\":7.2222222222,\"y_start\":1.6666666667,\"y_end\":2.7777777778,\"__count\":49.3827160494},{\"x_start\":7.2222222222,\"x_end\":8.3333333333,\"y_start\":1.6666666667,\"y_end\":2.7777777778,\"__count\":65.4320987654},{\"x_start\":8.3333333333,\"x_end\":9.4444444444,\"y_start\":1.6666666667,\"y_end\":2.7777777778,\"__count\":83.950617284},{\"x_start\":9.4444444444,\"x_end\":10.5555555556,\"y_start\":1.6666666667,\"y_end\":2.7777777778,\"__count\":104.9382716049},{\"x_start\":-0.5555555556,\"x_end\":0.5555555556,\"y_start\":2.7777777778,\"y_end\":3.8888888889,\"__count\":11.1111111111},{\"x_start\":0.5555555556,\"x_end\":1.6666666667,\"y_start\":2.7777777778,\"y_end\":3.8888888889,\"__count\":12.3456790123},{\"x_start\":1.6666666667,\"x_end\":2.7777777778,\"y_start\":2.7777777778,\"y_end\":3.8888888889,\"__count\":16.049382716},{\"x_start\":2.7777777778,\"x_end\":3.8888888889,\"y_start\":2.7777777778,\"y_end\":3.8888888889,\"__count\":22.2222222222},{\"x_start\":3.8888888889,\"x_end\":5.0,\"y_start\":2.7777777778,\"y_end\":3.8888888889,\"__count\":30.8641975309},{\"x_start\":5.0,\"x_end\":6.1111111111,\"y_start\":2.7777777778,\"y_end\":3.8888888889,\"__count\":41.975308642},{\"x_start\":6.1111111111,\"x_end\":7.2222222222,\"y_start\":2.7777777778,\"y_end\":3.8888888889,\"__count\":55.5555555556},{\"x_start\":7.2222222222,\"x_end\":8.3333333333,\"y_start\":2.7777777778,\"y_end\":3.8888888889,\"__count\":71.6049382716},{\"x_start\":8.3333333333,\"x_end\":9.4444444444,\"y_start\":2.7777777778,\"y_end\":3.8888888889,\"__count\":90.1234567901},{\"x_start\":9.4444444444,\"x_end\":10.5555555556,\"y_start\":2.7777777778,\"y_end\":3.8888888889,\"__count\":111.1111111111},{\"x_start\":-0.5555555556,\"x_end\":0.5555555556,\"y_start\":3.8888888889,\"y_end\":5.0,\"__count\":19.7530864198},{\"x_start\":0.5555555556,\"x_end\":1.6666666667,\"y_start\":3.8888888889,\"y_end\":5.0,\"__count\":20.987654321},{\"x_start\":1.6666666667,\"x_end\":2.7777777778,\"y_start\":3.8888888889,\"y_end\":5.0,\"__count\":24.6913580247},{\"x_start\":2.7777777778,\"x_end\":3.8888888889,\"y_start\":3.8888888889,\"y_end\":5.0,\"__count\":30.8641975309},{\"x_start\":3.8888888889,\"x_end\":5.0,\"y_start\":3.8888888889,\"y_end\":5.0,\"__count\":39.5061728395},{\"x_start\":5.0,\"x_end\":6.1111111111,\"y_start\":3.8888888889,\"y_end\":5.0,\"__count\":50.6172839506},{\"x_start\":6.1111111111,\"x_end\":7.2222222222,\"y_start\":3.8888888889,\"y_end\":5.0,\"__count\":64.1975308642},{\"x_start\":7.2222222222,\"x_end\":8.3333333333,\"y_start\":3.8888888889,\"y_end\":5.0,\"__count\":80.2469135802},{\"x_start\":8.3333333333,\"x_end\":9.4444444444,\"y_start\":3.8888888889,\"y_end\":5.0,\"__count\":98.7654320988},{\"x_start\":9.4444444444,\"x_end\":10.5555555556,\"y_start\":3.8888888889,\"y_end\":5.0,\"__count\":119.7530864198},{\"x_start\":-0.5555555556,\"x_end\":0.5555555556,\"y_start\":5.0,\"y_end\":6.1111111111,\"__count\":30.8641975309},{\"x_start\":0.5555555556,\"x_end\":1.6666666667,\"y_start\":5.0,\"y_end\":6.1111111111,\"__count\":32.0987654321},{\"x_start\":1.6666666667,\"x_end\":2.7777777778,\"y_start\":5.0,\"y_end\":6.1111111111,\"__count\":35.8024691358},{\"x_start\":2.7777777778,\"x_end\":3.8888888889,\"y_start\":5.0,\"y_end\":6.1111111111,\"__count\":41.975308642},{\"x_start\":3.8888888889,\"x_end\":5.0,\"y_start\":5.0,\"y_end\":6.1111111111,\"__count\":50.6172839506},{\"x_start\":5.0,\"x_end\":6.1111111111,\"y_start\":5.0,\"y_end\":6.1111111111,\"__count\":61.7283950617},{\"x_start\":6.1111111111,\"x_end\":7.2222222222,\"y_start\":5.0,\"y_end\":6.1111111111,\"__count\":75.3086419753},{\"x_start\":7.2222222222,\"x_end\":8.3333333333,\"y_start\":5.0,\"y_end\":6.1111111111,\"__count\":91.3580246914},{\"x_start\":8.3333333333,\"x_end\":9.4444444444,\"y_start\":5.0,\"y_end\":6.1111111111,\"__count\":109.8765432099},{\"x_start\":9.4444444444,\"x_end\":10.5555555556,\"y_start\":5.0,\"y_end\":6.1111111111,\"__count\":130.8641975309},{\"x_start\":-0.5555555556,\"x_end\":0.5555555556,\"y_start\":6.1111111111,\"y_end\":7.2222222222,\"__count\":44.4444444444},{\"x_start\":0.5555555556,\"x_end\":1.6666666667,\"y_start\":6.1111111111,\"y_end\":7.2222222222,\"__count\":45.6790123457},{\"x_start\":1.6666666667,\"x_end\":2.7777777778,\"y_start\":6.1111111111,\"y_end\":7.2222222222,\"__count\":49.3827160494},{\"x_start\":2.7777777778,\"x_end\":3.8888888889,\"y_start\":6.1111111111,\"y_end\":7.2222222222,\"__count\":55.5555555556},{\"x_start\":3.8888888889,\"x_end\":5.0,\"y_start\":6.1111111111,\"y_end\":7.2222222222,\"__count\":64.1975308642},{\"x_start\":5.0,\"x_end\":6.1111111111,\"y_start\":6.1111111111,\"y_end\":7.2222222222,\"__count\":75.3086419753},{\"x_start\":6.1111111111,\"x_end\":7.2222222222,\"y_start\":6.1111111111,\"y_end\":7.2222222222,\"__count\":88.8888888889},{\"x_start\":7.2222222222,\"x_end\":8.3333333333,\"y_start\":6.1111111111,\"y_end\":7.2222222222,\"__count\":104.9382716049},{\"x_start\":8.3333333333,\"x_end\":9.4444444444,\"y_start\":6.1111111111,\"y_end\":7.2222222222,\"__count\":123.4567901235},{\"x_start\":9.4444444444,\"x_end\":10.5555555556,\"y_start\":6.1111111111,\"y_end\":7.2222222222,\"__count\":144.4444444444},{\"x_start\":-0.5555555556,\"x_end\":0.5555555556,\"y_start\":7.2222222222,\"y_end\":8.3333333333,\"__count\":60.4938271605},{\"x_start\":0.5555555556,\"x_end\":1.6666666667,\"y_start\":7.2222222222,\"y_end\":8.3333333333,\"__count\":61.7283950617},{\"x_start\":1.6666666667,\"x_end\":2.7777777778,\"y_start\":7.2222222222,\"y_end\":8.3333333333,\"__count\":65.4320987654},{\"x_start\":2.7777777778,\"x_end\":3.8888888889,\"y_start\":7.2222222222,\"y_end\":8.3333333333,\"__count\":71.6049382716},{\"x_start\":3.8888888889,\"x_end\":5.0,\"y_start\":7.2222222222,\"y_end\":8.3333333333,\"__count\":80.2469135802},{\"x_start\":5.0,\"x_end\":6.1111111111,\"y_start\":7.2222222222,\"y_end\":8.3333333333,\"__count\":91.3580246914},{\"x_start\":6.1111111111,\"x_end\":7.2222222222,\"y_start\":7.2222222222,\"y_end\":8.3333333333,\"__count\":104.9382716049},{\"x_start\":7.2222222222,\"x_end\":8.3333333333,\"y_start\":7.2222222222,\"y_end\":8.3333333333,\"__count\":120.987654321},{\"x_start\":8.3333333333,\"x_end\":9.4444444444,\"y_start\":7.2222222222,\"y_end\":8.3333333333,\"__count\":139.5061728395},{\"x_start\":9.4444444444,\"x_end\":10.5555555556,\"y_start\":7.2222222222,\"y_end\":8.3333333333,\"__count\":160.4938271605},{\"x_start\":-0.5555555556,\"x_end\":0.5555555556,\"y_start\":8.3333333333,\"y_end\":9.4444444444,\"__count\":79.012345679},{\"x_start\":0.5555555556,\"x_end\":1.6666666667,\"y_start\":8.3333333333,\"y_end\":9.4444444444,\"__count\":80.2469135802},{\"x_start\":1.6666666667,\"x_end\":2.7777777778,\"y_start\":8.3333333333,\"y_end\":9.4444444444,\"__count\":83.950617284},{\"x_start\":2.7777777778,\"x_end\":3.8888888889,\"y_start\":8.3333333333,\"y_end\":9.4444444444,\"__count\":90.1234567901},{\"x_start\":3.8888888889,\"x_end\":5.0,\"y_start\":8.3333333333,\"y_end\":9.4444444444,\"__count\":98.7654320988},{\"x_start\":5.0,\"x_end\":6.1111111111,\"y_start\":8.3333333333,\"y_end\":9.4444444444,\"__count\":109.8765432099},{\"x_start\":6.1111111111,\"x_end\":7.2222222222,\"y_start\":8.3333333333,\"y_end\":9.4444444444,\"__count\":123.4567901235},{\"x_start\":7.2222222222,\"x_end\":8.3333333333,\"y_start\":8.3333333333,\"y_end\":9.4444444444,\"__count\":139.5061728395},{\"x_start\":8.3333333333,\"x_end\":9.4444444444,\"y_start\":8.3333333333,\"y_end\":9.4444444444,\"__count\":158.024691358},{\"x_start\":9.4444444444,\"x_end\":10.5555555556,\"y_start\":8.3333333333,\"y_end\":9.4444444444,\"__count\":179.012345679},{\"x_start\":-0.5555555556,\"x_end\":0.5555555556,\"y_start\":9.4444444444,\"y_end\":10.5555555556,\"__count\":100.0},{\"x_start\":0.5555555556,\"x_end\":1.6666666667,\"y_start\":9.4444444444,\"y_end\":10.5555555556,\"__count\":101.2345679012},{\"x_start\":1.6666666667,\"x_end\":2.7777777778,\"y_start\":9.4444444444,\"y_end\":10.5555555556,\"__count\":104.9382716049},{\"x_start\":2.7777777778,\"x_end\":3.8888888889,\"y_start\":9.4444444444,\"y_end\":10.5555555556,\"__count\":111.1111111111},{\"x_start\":3.8888888889,\"x_end\":5.0,\"y_start\":9.4444444444,\"y_end\":10.5555555556,\"__count\":119.7530864198},{\"x_start\":5.0,\"x_end\":6.1111111111,\"y_start\":9.4444444444,\"y_end\":10.5555555556,\"__count\":130.8641975309},{\"x_start\":6.1111111111,\"x_end\":7.2222222222,\"y_start\":9.4444444444,\"y_end\":10.5555555556,\"__count\":144.4444444444},{\"x_start\":7.2222222222,\"x_end\":8.3333333333,\"y_start\":9.4444444444,\"y_end\":10.5555555556,\"__count\":160.4938271605},{\"x_start\":8.3333333333,\"x_end\":9.4444444444,\"y_start\":9.4444444444,\"y_end\":10.5555555556,\"__count\":179.012345679},{\"x_start\":9.4444444444,\"x_end\":10.5555555556,\"y_start\":9.4444444444,\"y_end\":10.5555555556,\"__count\":200.0}]"
        }
       ],
       "height": 200,
       "legends": [
        {
         "fill": "color",
         "gradientLength": {
          "signal": "height - 16"
         },
         "title": "Histogram Values"
        }
       ],
       "marks": [
        {
         "encode": {
          "update": {
           "fill": {
            "field": "__count",
            "scale": "color"
           },
           "x": {
            "field": "x_end",
            "scale": "x"
           },
           "x2": {
            "field": "x_start",
            "scale": "x"
           },
           "y": {
            "field": "y_end",
            "scale": "y"
           },
           "y2": {
            "field": "y_start",
            "scale": "y"
           }
          }
         },
         "from": {
          "data": "mesh"
         },
         "name": "marks",
         "style": [
          "rect"
         ],
         "type": "rect"
        },
        {
         "encode": {
          "enter": {
           "fill": {
            "value": "black"
           },
           "fillOpacity": {
            "value": 1
           }
          },
          "update": {
           "size": {
            "value": 10
           },
           "x": {
            "field": "gamma",
            "scale": "x"
           },
           "y": {
            "field": "alpha",
            "scale": "y"
           }
          }
         },
         "from": {
          "data": "points"
         },
         "type": "symbol"
        }
       ],
       "scales": [
        {
         "domain": {
          "fields": [
           {
            "data": "points",
            "field": "gamma"
           },
           {
            "data": "mesh",
            "field": "x_start"
           },
           {
            "data": "mesh",
            "field": "y_end"
           }
          ]
         },
         "name": "x",
         "range": [
          0,
          {
           "signal": "width"
          }
         ],
         "type": "linear"
        },
        {
         "domain": {
          "fields": [
           {
            "data": "points",
            "field": "alpha"
           },
           {
            "data": "mesh",
            "field": "y_start"
           },
           {
            "data": "mesh",
            "field": "y_end"
           }
          ]
         },
         "name": "y",
         "range": [
          {
           "signal": "height"
          },
          0
         ],
         "type": "linear"
        },
        {
         "domain": {
          "data": "mesh",
          "field": "__count"
         },
         "interpolate": "hcl",
         "name": "color",
         "range": "heatmap",
         "type": "linear",
         "zero": false
        }
       ],
       "width": 300
      }
     },
     "metadata": {},
     "output_type": "display_data"
    }
   ],
   "source": [
    "import numpy as np\n",
    "import pandas as pd\n",
    "from pyciemss.visuals import plots, vega\n",
    "\n",
    "def create_fake_data():\n",
    "    nx, ny = (10, 10)\n",
    "    x = np.linspace(0, 10, nx)\n",
    "    y, a = np.linspace(0, 10, ny, retstep = True)\n",
    "\n",
    "    # create mesh data\n",
    "    xv, yv = np.meshgrid(x, y)\n",
    "    zz = xv**2 + yv**2\n",
    "\n",
    "    # create scatter plot\n",
    "    df = pd.DataFrame(10*np.random.random((100, 2)), columns=['alpha', 'gamma'])\n",
    "    return (xv, yv, zz), df\n",
    "\n",
    "mesh_data, scatter_data = create_fake_data()\n",
    "\n",
    "\n",
    "schema = plots.mesh_scatter(mesh_data = mesh_data, scatter_data = scatter_data)\n",
    "plots.save_schema(schema, \"_schema.json\")\n",
    "plots.ipy_display(schema, format=\"interactive\")"
   ]
  }
 ],
 "metadata": {
  "kernelspec": {
   "display_name": "Python 3 (ipykernel)",
   "language": "python",
   "name": "python3"
  },
  "language_info": {
   "codemirror_mode": {
    "name": "ipython",
    "version": 3
   },
   "file_extension": ".py",
   "mimetype": "text/x-python",
   "name": "python",
   "nbconvert_exporter": "python",
   "pygments_lexer": "ipython3",
   "version": "3.10.11"
  }
 },
 "nbformat": 4,
 "nbformat_minor": 5
}
