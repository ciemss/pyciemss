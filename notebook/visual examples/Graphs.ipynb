{
 "cells": [
  {
   "cell_type": "code",
   "execution_count": 1,
   "id": "a1299176",
   "metadata": {},
   "outputs": [],
   "source": [
    "%load_ext autoreload\n",
    "%autoreload 2"
   ]
  },
  {
   "cell_type": "code",
   "execution_count": 2,
   "id": "5c1729f7-1b0d-4913-8048-01624c506cc5",
   "metadata": {},
   "outputs": [],
   "source": [
    "import networkx as nx\n",
    "from pyciemss.visuals import plots"
   ]
  },
  {
   "cell_type": "code",
   "execution_count": 3,
   "id": "997ef041-0312-4b83-bbe2-32a6ddfe3d6c",
   "metadata": {},
   "outputs": [],
   "source": [
    "g = nx.generators.barabasi_albert_graph(5, 3)"
   ]
  },
  {
   "cell_type": "code",
   "execution_count": 4,
   "id": "a4b1668c",
   "metadata": {},
   "outputs": [
    {
     "data": {
      "image/png": "[encoded data removed]",
      "text/plain": [
       "<IPython.core.display.Image object>"
      ]
     },
     "execution_count": 4,
     "metadata": {},
     "output_type": "execute_result"
    }
   ],
   "source": [
    "import random\n",
    "def rand_attributions():\n",
    "    possible = \"ABCD\"\n",
    "    return random.sample(possible, random.randint(1, len(possible)))\n",
    "\n",
    "def rand_label():\n",
    "    possible = \"TUVWXYZ\"\n",
    "    return random.randint(1, 10)\n",
    "    return random.sample(possible, 1)[0]\n",
    "\n",
    "node_properties = {n: {\"attribution\": rand_attributions(), \n",
    "                       \"label\": rand_label()}\n",
    "                    for n in g.nodes()}\n",
    "\n",
    "edge_attributions = {e: {\"attribution\": rand_attributions()} for e in g.edges()}\n",
    "\n",
    "nx.set_node_attributes(g, node_properties)\n",
    "nx.set_edge_attributes(g, edge_attributions)\n",
    "\n",
    "schema = plots.attributed_graph(g)\n",
    "plots.save_schema(schema, \"_schema.json\")\n",
    "plots.ipy_display(schema)"
   ]
  },
  {
   "cell_type": "code",
   "execution_count": 5,
   "id": "ece8d8e5",
   "metadata": {},
   "outputs": [
    {
     "name": "stdout",
     "output_type": "stream",
     "text": [
      "\n"
     ]
    },
    {
     "data": {
      "application/vnd.vega.v5+json": {
       "$schema": "https://vega.github.io/schema/vega/v5.json",
       "data": [
        {
         "name": "node-data",
         "values": [
          {
           "id": 0,
           "label": "n0"
          },
          {
           "id": 1,
           "label": "n1"
          },
          {
           "id": 2,
           "label": "n2"
          },
          {
           "id": 3,
           "label": "n3"
          },
          {
           "id": 4,
           "label": "n4"
          }
         ]
        },
        {
         "name": "link-data",
         "values": [
          {
           "source": 0,
           "target": 1
          },
          {
           "source": 0,
           "target": 2
          },
          {
           "source": 0,
           "target": 3
          },
          {
           "source": 0,
           "target": 4
          },
          {
           "source": 2,
           "target": 4
          },
          {
           "source": 3,
           "target": 4
          }
         ]
        }
       ],
       "description": "A node-link diagram with force-directed layout.",
       "height": 300,
       "legends": [
        {
         "stroke": "color",
         "symbolType": "stroke",
         "title": "Group"
        }
       ],
       "marks": [
        {
         "encode": {
          "enter": {
           "fill": {
            "field": "group",
            "scale": "color"
           },
           "stroke": {
            "value": "white"
           }
          },
          "update": {
           "cursor": {
            "value": "pointer"
           },
           "size": {
            "signal": "2 * nodeRadius * nodeRadius"
           }
          }
         },
         "from": {
          "data": "node-data"
         },
         "name": "nodes",
         "on": [
          {
           "modify": "node",
           "trigger": "fix",
           "values": "fix === true ? {fx: node.x, fy: node.y} : {fx: fix[0], fy: fix[1]}"
          },
          {
           "modify": "node",
           "trigger": "!fix",
           "values": "{fx: null, fy: null}"
          }
         ],
         "transform": [
          {
           "forces": [
            {
             "force": "center",
             "x": {
              "signal": "cx"
             },
             "y": {
              "signal": "cy"
             }
            },
            {
             "force": "collide",
             "radius": {
              "signal": "nodeRadius"
             }
            },
            {
             "force": "nbody",
             "strength": {
              "signal": "nodeCharge"
             }
            },
            {
             "distance": {
              "signal": "linkDistance"
             },
             "force": "link",
             "links": "link-data"
            }
           ],
           "iterations": 300,
           "restart": {
            "signal": "restart"
           },
           "signal": "force",
           "static": {
            "signal": "static"
           },
           "type": "force"
          }
         ],
         "type": "symbol",
         "zindex": 1
        },
        {
         "encode": {
          "enter": {
           "align": {
            "value": "center"
           },
           "baseline": {
            "value": "middle"
           },
           "fill": {
            "value": "black"
           },
           "fontSize": {
            "value": 15
           },
           "text": {
            "field": "datum.label"
           }
          },
          "update": {
           "x": {
            "field": "x"
           },
           "y": {
            "field": "y"
           }
          }
         },
         "from": {
          "data": "nodes"
         },
         "interactive": false,
         "name": "labels",
         "transform": [
          {
           "as": "y",
           "expr": "datum.y",
           "type": "formula"
          }
         ],
         "type": "text",
         "zindex": 2
        },
        {
         "encode": {
          "update": {
           "stroke": {
            "value": "#ccc"
           },
           "strokeWidth": {
            "value": 0.5
           }
          }
         },
         "from": {
          "data": "link-data"
         },
         "interactive": false,
         "transform": [
          {
           "require": {
            "signal": "force"
           },
           "shape": "line",
           "sourceX": "datum.source.x",
           "sourceY": "datum.source.y",
           "targetX": "datum.target.x",
           "targetY": "datum.target.y",
           "type": "linkpath"
          }
         ],
         "type": "path"
        }
       ],
       "padding": 0,
       "scales": [
        {
         "domain": {
          "data": "node-data",
          "field": "group"
         },
         "name": "color",
         "range": {
          "scheme": "category20c"
         },
         "type": "ordinal"
        }
       ],
       "signals": [
        {
         "name": "cx",
         "update": "width / 2"
        },
        {
         "name": "cy",
         "update": "height / 2"
        },
        {
         "name": "nodeRadius",
         "value": 15
        },
        {
         "name": "nodeCharge",
         "value": -80
        },
        {
         "name": "linkDistance",
         "value": 80
        },
        {
         "bind": {
          "input": "checkbox"
         },
         "name": "static",
         "value": true
        },
        {
         "description": "State variable for active node fix status.",
         "name": "fix",
         "on": [
          {
           "events": "symbol:mouseout[!event.buttons], window:mouseup",
           "update": "false"
          },
          {
           "events": "symbol:mouseover",
           "update": "fix || true"
          },
          {
           "events": "[symbol:mousedown, window:mouseup] > window:mousemove!",
           "force": true,
           "update": "xy()"
          }
         ],
         "value": false
        },
        {
         "description": "Graph node most recently interacted with.",
         "name": "node",
         "on": [
          {
           "events": "symbol:mouseover",
           "update": "fix === true ? item() : node"
          }
         ],
         "value": null
        },
        {
         "description": "Flag to restart Force simulation upon data changes.",
         "name": "restart",
         "on": [
          {
           "events": {
            "signal": "fix"
           },
           "update": "fix && fix.length"
          }
         ],
         "value": false
        }
       ],
       "width": 300
      }
     },
     "metadata": {},
     "output_type": "display_data"
    }
   ],
   "source": [
    "g = nx.generators.barabasi_albert_graph(5, 3)\n",
    "nx.set_node_attributes(g, {k:f\"n{i}\" for i, k in enumerate(g.nodes)}, \"label\")\n",
    "schema = plots.spring_force_graph(g, node_labels=\"label\")\n",
    "plots.save_schema(schema, \"_schema.json\")\n",
    "plots.ipy_display(schema, format=\"interactive\")"
   ]
  },
  {
   "cell_type": "code",
   "execution_count": 6,
   "id": "67ab6bf5",
   "metadata": {},
   "outputs": [
    {
     "name": "stdout",
     "output_type": "stream",
     "text": [
      "\n"
     ]
    },
    {
     "data": {
      "application/vnd.vega.v5+json": {
       "$schema": "https://vega.github.io/schema/vega/v5.json",
       "axes": [
        {
         "labelOverlap": true,
         "orient": "bottom",
         "scale": "x",
         "tickCount": {
          "signal": "ceil(width/3)"
         },
         "title": {
          "signal": "x_name"
         }
        },
        {
         "labelOverlap": true,
         "orient": "left",
         "scale": "y",
         "tickCount": {
          "signal": "ceil(height/3)"
         },
         "title": {
          "signal": "y_name"
         }
        }
       ],
       "data": [
        {
         "name": "points",
         "values": "[{\"test4\":2.3348590442,\"test5\":0.2712182995},{\"test4\":0.2144947687,\"test5\":0.9767061828},{\"test4\":2.3188727945,\"test5\":2.6969569739},{\"test4\":0.7167875054,\"test5\":1.77661548},{\"test4\":0.5514330679,\"test5\":0.0774925977},{\"test4\":1.4245896807,\"test5\":2.3557295581},{\"test4\":0.2285742039,\"test5\":2.8437622138},{\"test4\":2.394866654,\"test5\":1.3498931413},{\"test4\":1.9290782771,\"test5\":0.1068625621},{\"test4\":2.1384810614,\"test5\":2.1085191322},{\"test4\":2.9527357272,\"test5\":0.0595834411},{\"test4\":2.5212139394,\"test5\":2.1765572299},{\"test4\":1.8922160253,\"test5\":2.1005165649},{\"test4\":2.2198537637,\"test5\":0.0491441348},{\"test4\":2.198887691,\"test5\":0.1155430042},{\"test4\":1.1662090567,\"test5\":0.300377092},{\"test4\":2.9466405115,\"test5\":0.4055795123},{\"test4\":2.1178780263,\"test5\":2.0475157891},{\"test4\":0.0048592977,\"test5\":2.7499933728},{\"test4\":1.8273575779,\"test5\":2.1260846461},{\"test4\":1.7871900485,\"test5\":2.1433206758},{\"test4\":1.4532700025,\"test5\":0.4199883591},{\"test4\":0.170132751,\"test5\":2.1707215977},{\"test4\":2.6042727454,\"test5\":1.5375877111},{\"test4\":2.1744041837,\"test5\":0.3427814975},{\"test4\":1.0339076003,\"test5\":1.9223627771},{\"test4\":0.423043565,\"test5\":0.2065328365},{\"test4\":1.7961578009,\"test5\":2.0869075306},{\"test4\":2.2031778096,\"test5\":2.0084639486},{\"test4\":0.6126361317,\"test5\":1.9423741123},{\"test4\":0.3570198414,\"test5\":2.0998365039},{\"test4\":0.2882957323,\"test5\":1.4150430387},{\"test4\":0.4665868419,\"test5\":1.4916269783},{\"test4\":0.5294072727,\"test5\":0.2759106282},{\"test4\":1.4700349256,\"test5\":0.7509436969},{\"test4\":1.9376577338,\"test5\":2.5210219407},{\"test4\":2.1998739885,\"test5\":0.4082455289},{\"test4\":0.1689895854,\"test5\":0.3605879401},{\"test4\":0.9730890168,\"test5\":1.9125914404},{\"test4\":0.4954918735,\"test5\":0.2571398243},{\"test4\":2.6516707257,\"test5\":2.1644383181},{\"test4\":0.2967112,\"test5\":2.1327648779},{\"test4\":2.153963475,\"test5\":1.1734484043},{\"test4\":2.2482676805,\"test5\":1.60473134},{\"test4\":1.6501718583,\"test5\":1.2305434411},{\"test4\":1.0295837078,\"test5\":0.1844131721},{\"test4\":2.6298723401,\"test5\":2.2214149572},{\"test4\":1.8172141819,\"test5\":2.9964462948},{\"test4\":2.3272076694,\"test5\":0.0263564532},{\"test4\":0.4094814856,\"test5\":2.6432695186},{\"test4\":0.1369154553,\"test5\":0.3667310604},{\"test4\":0.7698561113,\"test5\":0.1762800367},{\"test4\":0.10577095,\"test5\":0.0039848093},{\"test4\":0.8666344048,\"test5\":1.0268002136},{\"test4\":0.1069138928,\"test5\":1.7429880782},{\"test4\":1.1561898797,\"test5\":1.7606952918},{\"test4\":1.3425133863,\"test5\":2.7877912234},{\"test4\":0.2744728725,\"test5\":2.38555807},{\"test4\":1.0164857921,\"test5\":2.9268643057},{\"test4\":0.7972219005,\"test5\":0.6338578783},{\"test4\":1.4682863959,\"test5\":0.104126304},{\"test4\":0.995834735,\"test5\":0.8528991642},{\"test4\":0.9604881615,\"test5\":2.1928803212},{\"test4\":0.2588238059,\"test5\":1.7155080647},{\"test4\":1.7311075762,\"test5\":1.6441124653},{\"test4\":1.8715521927,\"test5\":1.1474262471},{\"test4\":0.3762945142,\"test5\":1.506274159},{\"test4\":2.7614589694,\"test5\":1.0609808155},{\"test4\":0.7714080892,\"test5\":1.5215820523},{\"test4\":0.2959484282,\"test5\":0.8833524292},{\"test4\":1.5760752044,\"test5\":0.0593999971},{\"test4\":2.8426919553,\"test5\":1.2345136792},{\"test4\":1.1020017445,\"test5\":2.4342063675},{\"test4\":1.3412508844,\"test5\":0.8663748371},{\"test4\":0.902900827,\"test5\":2.8035134105},{\"test4\":1.1230422503,\"test5\":2.1542746153},{\"test4\":1.2023707162,\"test5\":0.619915459},{\"test4\":0.5117769132,\"test5\":0.3660642219},{\"test4\":0.4117983728,\"test5\":1.5517257151},{\"test4\":2.3029275612,\"test5\":2.8016403933},{\"test4\":0.5517392891,\"test5\":2.6930808222},{\"test4\":1.909802762,\"test5\":1.1067743025},{\"test4\":2.5884369377,\"test5\":1.1001814539},{\"test4\":1.6398737236,\"test5\":1.27260421},{\"test4\":2.3864567005,\"test5\":0.4719399055},{\"test4\":0.8462355007,\"test5\":0.7843519899},{\"test4\":2.7717702144,\"test5\":0.2950229292},{\"test4\":2.9158797362,\"test5\":0.9048293594},{\"test4\":1.251075601,\"test5\":2.7938619304},{\"test4\":1.8436921427,\"test5\":1.530109161},{\"test4\":0.1602360811,\"test5\":1.7203953147},{\"test4\":0.4471806781,\"test5\":2.9948051492},{\"test4\":0.2794293733,\"test5\":0.5293953044},{\"test4\":2.1253794892,\"test5\":1.828617966},{\"test4\":1.2429901922,\"test5\":2.7037567468},{\"test4\":2.8415024588,\"test5\":1.0843213746},{\"test4\":1.7923193585,\"test5\":2.4254832391},{\"test4\":0.4936275671,\"test5\":1.3730365064},{\"test4\":0.5773451247,\"test5\":0.6554258983},{\"test4\":1.1003505073,\"test5\":0.0418173634}]"
        },
        {
         "format": {
          "type": "json"
         },
         "name": "source_0",
         "transform": [
          {
           "field": {
            "signal": "x_name"
           },
           "signal": "x_extent",
           "type": "extent"
          },
          {
           "as": [
            "x_start",
            "x_end"
           ],
           "extent": {
            "signal": "x_extent"
           },
           "field": {
            "signal": "x_name"
           },
           "maxbins": {
            "signal": "max_x_bins"
           },
           "signal": "x_bins",
           "type": "bin"
          },
          {
           "field": {
            "signal": "y_name"
           },
           "signal": "y_extent",
           "type": "extent"
          },
          {
           "as": [
            "y_start",
            "y_end"
           ],
           "extent": {
            "signal": "y_extent"
           },
           "field": {
            "signal": "y_name"
           },
           "maxbins": {
            "signal": "max_y_bins"
           },
           "signal": "y_bins",
           "type": "bin"
          },
          {
           "as": [
            "__count"
           ],
           "groupby": [
            "x_start",
            "x_end",
            "y_start",
            "y_end"
           ],
           "ops": [
            "count"
           ],
           "type": "aggregate"
          }
         ],
         "values": "[{\"test4\":2.3348590442,\"test5\":0.2712182995},{\"test4\":0.2144947687,\"test5\":0.9767061828},{\"test4\":2.3188727945,\"test5\":2.6969569739},{\"test4\":0.7167875054,\"test5\":1.77661548},{\"test4\":0.5514330679,\"test5\":0.0774925977},{\"test4\":1.4245896807,\"test5\":2.3557295581},{\"test4\":0.2285742039,\"test5\":2.8437622138},{\"test4\":2.394866654,\"test5\":1.3498931413},{\"test4\":1.9290782771,\"test5\":0.1068625621},{\"test4\":2.1384810614,\"test5\":2.1085191322},{\"test4\":2.9527357272,\"test5\":0.0595834411},{\"test4\":2.5212139394,\"test5\":2.1765572299},{\"test4\":1.8922160253,\"test5\":2.1005165649},{\"test4\":2.2198537637,\"test5\":0.0491441348},{\"test4\":2.198887691,\"test5\":0.1155430042},{\"test4\":1.1662090567,\"test5\":0.300377092},{\"test4\":2.9466405115,\"test5\":0.4055795123},{\"test4\":2.1178780263,\"test5\":2.0475157891},{\"test4\":0.0048592977,\"test5\":2.7499933728},{\"test4\":1.8273575779,\"test5\":2.1260846461},{\"test4\":1.7871900485,\"test5\":2.1433206758},{\"test4\":1.4532700025,\"test5\":0.4199883591},{\"test4\":0.170132751,\"test5\":2.1707215977},{\"test4\":2.6042727454,\"test5\":1.5375877111},{\"test4\":2.1744041837,\"test5\":0.3427814975},{\"test4\":1.0339076003,\"test5\":1.9223627771},{\"test4\":0.423043565,\"test5\":0.2065328365},{\"test4\":1.7961578009,\"test5\":2.0869075306},{\"test4\":2.2031778096,\"test5\":2.0084639486},{\"test4\":0.6126361317,\"test5\":1.9423741123},{\"test4\":0.3570198414,\"test5\":2.0998365039},{\"test4\":0.2882957323,\"test5\":1.4150430387},{\"test4\":0.4665868419,\"test5\":1.4916269783},{\"test4\":0.5294072727,\"test5\":0.2759106282},{\"test4\":1.4700349256,\"test5\":0.7509436969},{\"test4\":1.9376577338,\"test5\":2.5210219407},{\"test4\":2.1998739885,\"test5\":0.4082455289},{\"test4\":0.1689895854,\"test5\":0.3605879401},{\"test4\":0.9730890168,\"test5\":1.9125914404},{\"test4\":0.4954918735,\"test5\":0.2571398243},{\"test4\":2.6516707257,\"test5\":2.1644383181},{\"test4\":0.2967112,\"test5\":2.1327648779},{\"test4\":2.153963475,\"test5\":1.1734484043},{\"test4\":2.2482676805,\"test5\":1.60473134},{\"test4\":1.6501718583,\"test5\":1.2305434411},{\"test4\":1.0295837078,\"test5\":0.1844131721},{\"test4\":2.6298723401,\"test5\":2.2214149572},{\"test4\":1.8172141819,\"test5\":2.9964462948},{\"test4\":2.3272076694,\"test5\":0.0263564532},{\"test4\":0.4094814856,\"test5\":2.6432695186},{\"test4\":0.1369154553,\"test5\":0.3667310604},{\"test4\":0.7698561113,\"test5\":0.1762800367},{\"test4\":0.10577095,\"test5\":0.0039848093},{\"test4\":0.8666344048,\"test5\":1.0268002136},{\"test4\":0.1069138928,\"test5\":1.7429880782},{\"test4\":1.1561898797,\"test5\":1.7606952918},{\"test4\":1.3425133863,\"test5\":2.7877912234},{\"test4\":0.2744728725,\"test5\":2.38555807},{\"test4\":1.0164857921,\"test5\":2.9268643057},{\"test4\":0.7972219005,\"test5\":0.6338578783},{\"test4\":1.4682863959,\"test5\":0.104126304},{\"test4\":0.995834735,\"test5\":0.8528991642},{\"test4\":0.9604881615,\"test5\":2.1928803212},{\"test4\":0.2588238059,\"test5\":1.7155080647},{\"test4\":1.7311075762,\"test5\":1.6441124653},{\"test4\":1.8715521927,\"test5\":1.1474262471},{\"test4\":0.3762945142,\"test5\":1.506274159},{\"test4\":2.7614589694,\"test5\":1.0609808155},{\"test4\":0.7714080892,\"test5\":1.5215820523},{\"test4\":0.2959484282,\"test5\":0.8833524292},{\"test4\":1.5760752044,\"test5\":0.0593999971},{\"test4\":2.8426919553,\"test5\":1.2345136792},{\"test4\":1.1020017445,\"test5\":2.4342063675},{\"test4\":1.3412508844,\"test5\":0.8663748371},{\"test4\":0.902900827,\"test5\":2.8035134105},{\"test4\":1.1230422503,\"test5\":2.1542746153},{\"test4\":1.2023707162,\"test5\":0.619915459},{\"test4\":0.5117769132,\"test5\":0.3660642219},{\"test4\":0.4117983728,\"test5\":1.5517257151},{\"test4\":2.3029275612,\"test5\":2.8016403933},{\"test4\":0.5517392891,\"test5\":2.6930808222},{\"test4\":1.909802762,\"test5\":1.1067743025},{\"test4\":2.5884369377,\"test5\":1.1001814539},{\"test4\":1.6398737236,\"test5\":1.27260421},{\"test4\":2.3864567005,\"test5\":0.4719399055},{\"test4\":0.8462355007,\"test5\":0.7843519899},{\"test4\":2.7717702144,\"test5\":0.2950229292},{\"test4\":2.9158797362,\"test5\":0.9048293594},{\"test4\":1.251075601,\"test5\":2.7938619304},{\"test4\":1.8436921427,\"test5\":1.530109161},{\"test4\":0.1602360811,\"test5\":1.7203953147},{\"test4\":0.4471806781,\"test5\":2.9948051492},{\"test4\":0.2794293733,\"test5\":0.5293953044},{\"test4\":2.1253794892,\"test5\":1.828617966},{\"test4\":1.2429901922,\"test5\":2.7037567468},{\"test4\":2.8415024588,\"test5\":1.0843213746},{\"test4\":1.7923193585,\"test5\":2.4254832391},{\"test4\":0.4936275671,\"test5\":1.3730365064},{\"test4\":0.5773451247,\"test5\":0.6554258983},{\"test4\":1.1003505073,\"test5\":0.0418173634}]"
        }
       ],
       "height": 200,
       "legends": [
        {
         "fill": "color",
         "gradientLength": {
          "signal": "height - 16"
         },
         "title": "Count of Records"
        }
       ],
       "marks": [
        {
         "encode": {
          "update": {
           "fill": {
            "field": "__count",
            "scale": "color"
           },
           "x": {
            "field": "x_end",
            "scale": "x"
           },
           "x2": {
            "field": "x_start",
            "scale": "x"
           },
           "y": {
            "field": "y_end",
            "scale": "y"
           },
           "y2": {
            "field": "y_start",
            "scale": "y"
           }
          }
         },
         "from": {
          "data": "source_0"
         },
         "name": "marks",
         "style": [
          "rect"
         ],
         "type": "rect"
        },
        {
         "encode": {
          "enter": {
           "fill": {
            "value": "black"
           },
           "fillOpacity": {
            "value": 1
           }
          },
          "update": {
           "size": {
            "value": 10
           },
           "x": {
            "field": {
             "signal": "x_name"
            },
            "scale": "x"
           },
           "y": {
            "field": {
             "signal": "y_name"
            },
            "scale": "y"
           }
          }
         },
         "from": {
          "data": "points"
         },
         "type": "symbol"
        }
       ],
       "scales": [
        {
         "bins": {
          "signal": "x_bins"
         },
         "domain": {
          "signal": "[x_bins.start, x_bins.stop]"
         },
         "name": "x",
         "range": [
          0,
          {
           "signal": "width"
          }
         ],
         "type": "linear",
         "zero": false
        },
        {
         "bins": {
          "signal": "y_bins"
         },
         "domain": {
          "signal": "[y_bins.start, y_bins.stop]"
         },
         "name": "y",
         "range": [
          {
           "signal": "height"
          },
          0
         ],
         "type": "linear",
         "zero": false
        },
        {
         "domain": {
          "data": "source_0",
          "field": "__count"
         },
         "interpolate": "hcl",
         "name": "color",
         "range": "heatmap",
         "type": "linear",
         "zero": true
        }
       ],
       "signals": [
        {
         "bind": {
          "input": "range",
          "max": 100,
          "min": 1,
          "step": 1
         },
         "description": "Max number X bins",
         "name": "max_x_bins",
         "value": 4
        },
        {
         "bind": {
          "input": "range",
          "max": 100,
          "min": 1,
          "step": 1
         },
         "description": "Max number Y bins",
         "name": "max_y_bins",
         "value": 4
        },
        {
         "name": "x_name",
         "value": "test4"
        },
        {
         "name": "y_name",
         "value": "test5"
        }
       ],
       "width": 300
      }
     },
     "metadata": {},
     "output_type": "display_data"
    }
   ],
   "source": [
    "import pandas as pd\n",
    "import numpy as np\n",
    "\n",
    "df = pd.DataFrame(3*np.random.random((100, 2)), columns=['test4', 'test5'])\n",
    "schema = plots.heatmap_scatter(df, max_x_bins=4, max_y_bins=4)\n",
    "plots.save_schema(schema, \"_schema.json\")\n",
    "plots.ipy_display(schema, format=\"interactive\")"
   ]
  },
  {
   "cell_type": "code",
   "execution_count": 7,
   "id": "6e083016",
   "metadata": {},
   "outputs": [
    {
     "name": "stdout",
     "output_type": "stream",
     "text": [
      "\n"
     ]
    },
    {
     "data": {
      "application/vnd.vega.v5+json": {
       "$schema": "https://vega.github.io/schema/vega/v5.json",
       "axes": [
        {
         "labelOverlap": true,
         "orient": "bottom",
         "scale": "x",
         "tickCount": {
          "signal": "ceil(width/3)"
         },
         "title": "gamma"
        },
        {
         "labelOverlap": true,
         "orient": "left",
         "scale": "y",
         "tickCount": {
          "signal": "ceil(height/3)"
         },
         "title": "alpha"
        }
       ],
       "data": [
        {
         "name": "points",
         "values": "[{\"alpha\":9.0111248704,\"gamma\":9.0873809945},{\"alpha\":9.8701246194,\"gamma\":2.2059751763},{\"alpha\":5.2997158554,\"gamma\":9.9435900577},{\"alpha\":1.6388726633,\"gamma\":9.3079426553},{\"alpha\":5.6001526798,\"gamma\":6.2312201088},{\"alpha\":3.3648647508,\"gamma\":1.6144870539},{\"alpha\":2.5893820794,\"gamma\":9.7529343818},{\"alpha\":9.5007710505,\"gamma\":4.8708214102},{\"alpha\":2.9706158268,\"gamma\":3.9002799116},{\"alpha\":1.5602866465,\"gamma\":1.278103873},{\"alpha\":9.0777872168,\"gamma\":9.2487472811},{\"alpha\":7.0082547578,\"gamma\":1.7458875023},{\"alpha\":9.7120253388,\"gamma\":2.1836920041},{\"alpha\":9.7759877654,\"gamma\":3.1953749759},{\"alpha\":0.1643477874,\"gamma\":0.605041575},{\"alpha\":3.744343067,\"gamma\":8.6020365188},{\"alpha\":0.6762237777,\"gamma\":9.2040565358},{\"alpha\":7.344491906,\"gamma\":5.0052237182},{\"alpha\":8.5670302361,\"gamma\":1.5512801459},{\"alpha\":9.348035735,\"gamma\":4.4796192084},{\"alpha\":7.1988255027,\"gamma\":5.9127290741},{\"alpha\":2.9132672372,\"gamma\":8.1901838501},{\"alpha\":4.3259748033,\"gamma\":8.7238903524},{\"alpha\":2.0163859204,\"gamma\":0.2646710167},{\"alpha\":6.8368444699,\"gamma\":0.5547313018},{\"alpha\":5.6814306586,\"gamma\":0.6640087606},{\"alpha\":7.6294198572,\"gamma\":7.1040692495},{\"alpha\":3.9164696237,\"gamma\":8.0797840027},{\"alpha\":5.5973159089,\"gamma\":3.8640713682},{\"alpha\":3.8745421231,\"gamma\":2.5338948309},{\"alpha\":1.087268958,\"gamma\":3.0377030738},{\"alpha\":0.523418727,\"gamma\":3.5751713488},{\"alpha\":1.6247400337,\"gamma\":9.6006699908},{\"alpha\":0.6678254488,\"gamma\":1.4138976099},{\"alpha\":4.9737713218,\"gamma\":2.5818449874},{\"alpha\":8.4234990147,\"gamma\":3.7267473251},{\"alpha\":4.2331231221,\"gamma\":2.4328188996},{\"alpha\":7.1693796084,\"gamma\":8.9442262253},{\"alpha\":0.3399209904,\"gamma\":4.7551721251},{\"alpha\":9.2782618027,\"gamma\":5.3615640053},{\"alpha\":6.4797567308,\"gamma\":2.7855133405},{\"alpha\":7.1079409071,\"gamma\":5.3985888342},{\"alpha\":9.0179693582,\"gamma\":1.1361682184},{\"alpha\":5.7928902264,\"gamma\":6.4008977266},{\"alpha\":7.4709566364,\"gamma\":6.642870116},{\"alpha\":6.9478306529,\"gamma\":1.1170089568},{\"alpha\":1.7360730507,\"gamma\":6.8137477878},{\"alpha\":6.1875101038,\"gamma\":1.0125132592},{\"alpha\":3.0034996055,\"gamma\":9.8552808511},{\"alpha\":0.9604130552,\"gamma\":6.8402874053},{\"alpha\":6.4293313017,\"gamma\":8.1225681435},{\"alpha\":4.8632605395,\"gamma\":2.4696956787},{\"alpha\":4.9380310043,\"gamma\":6.9209701943},{\"alpha\":4.3902885412,\"gamma\":9.7418784318},{\"alpha\":4.9630845012,\"gamma\":4.5611556781},{\"alpha\":7.23536602,\"gamma\":2.1241193729},{\"alpha\":3.9964393116,\"gamma\":0.8444734236},{\"alpha\":1.4597485918,\"gamma\":5.6929336497},{\"alpha\":9.9688980344,\"gamma\":6.0851378254},{\"alpha\":5.9227996186,\"gamma\":5.2316356217},{\"alpha\":2.352935333,\"gamma\":3.8121038063},{\"alpha\":9.2049139282,\"gamma\":5.7465736305},{\"alpha\":5.927094988,\"gamma\":8.8947478274},{\"alpha\":5.7362000274,\"gamma\":7.6800040086},{\"alpha\":2.0121971917,\"gamma\":0.9425286621},{\"alpha\":9.992517504,\"gamma\":6.2646732375},{\"alpha\":1.1135516939,\"gamma\":1.7201251785},{\"alpha\":4.9704635703,\"gamma\":5.9276732297},{\"alpha\":3.1569958282,\"gamma\":6.9047878268},{\"alpha\":2.2007911526,\"gamma\":4.4116393107},{\"alpha\":3.5014309287,\"gamma\":1.723577859},{\"alpha\":1.730478027,\"gamma\":2.6352760979},{\"alpha\":8.8927108417,\"gamma\":7.4735220167},{\"alpha\":2.3502645492,\"gamma\":8.56926877},{\"alpha\":0.7198459007,\"gamma\":4.8559928253},{\"alpha\":4.330908307,\"gamma\":3.1860129999},{\"alpha\":8.0245110393,\"gamma\":2.8973991764},{\"alpha\":1.3678984541,\"gamma\":9.5248181123},{\"alpha\":2.8290816844,\"gamma\":3.5921158711},{\"alpha\":9.5146938776,\"gamma\":2.562210456},{\"alpha\":5.7200311017,\"gamma\":5.7271344541},{\"alpha\":5.6005876519,\"gamma\":0.1885587526},{\"alpha\":9.4007567262,\"gamma\":2.9147558011},{\"alpha\":4.0329138818,\"gamma\":6.4824497483},{\"alpha\":6.8956703067,\"gamma\":0.9255625037},{\"alpha\":5.7224573998,\"gamma\":3.1873672802},{\"alpha\":6.6975770049,\"gamma\":5.8107985659},{\"alpha\":4.6972556689,\"gamma\":3.8944793548},{\"alpha\":1.6008425763,\"gamma\":8.1317096818},{\"alpha\":1.988672619,\"gamma\":5.2833932686},{\"alpha\":8.7586853252,\"gamma\":8.7671158346},{\"alpha\":9.6752247071,\"gamma\":0.7365507528},{\"alpha\":3.2983135486,\"gamma\":9.2239686136},{\"alpha\":0.0992947183,\"gamma\":3.4874789115},{\"alpha\":5.0365566644,\"gamma\":2.1604106385},{\"alpha\":4.7903086917,\"gamma\":8.8832094028},{\"alpha\":6.471802688,\"gamma\":4.1767764864},{\"alpha\":4.5985656778,\"gamma\":9.9520240033},{\"alpha\":8.5098092758,\"gamma\":7.9722549336},{\"alpha\":3.522194691,\"gamma\":5.9232806723}]"
        },
        {
         "format": {
          "type": "json"
         },
         "name": "mesh",
         "values": "[{\"x_start\":-0.5555555556,\"x_end\":0.5555555556,\"y_start\":-0.5555555556,\"y_end\":0.5555555556,\"__count\":0.0},{\"x_start\":0.5555555556,\"x_end\":1.6666666667,\"y_start\":-0.5555555556,\"y_end\":0.5555555556,\"__count\":1.2345679012},{\"x_start\":1.6666666667,\"x_end\":2.7777777778,\"y_start\":-0.5555555556,\"y_end\":0.5555555556,\"__count\":4.9382716049},{\"x_start\":2.7777777778,\"x_end\":3.8888888889,\"y_start\":-0.5555555556,\"y_end\":0.5555555556,\"__count\":11.1111111111},{\"x_start\":3.8888888889,\"x_end\":5.0,\"y_start\":-0.5555555556,\"y_end\":0.5555555556,\"__count\":19.7530864198},{\"x_start\":5.0,\"x_end\":6.1111111111,\"y_start\":-0.5555555556,\"y_end\":0.5555555556,\"__count\":30.8641975309},{\"x_start\":6.1111111111,\"x_end\":7.2222222222,\"y_start\":-0.5555555556,\"y_end\":0.5555555556,\"__count\":44.4444444444},{\"x_start\":7.2222222222,\"x_end\":8.3333333333,\"y_start\":-0.5555555556,\"y_end\":0.5555555556,\"__count\":60.4938271605},{\"x_start\":8.3333333333,\"x_end\":9.4444444444,\"y_start\":-0.5555555556,\"y_end\":0.5555555556,\"__count\":79.012345679},{\"x_start\":9.4444444444,\"x_end\":10.5555555556,\"y_start\":-0.5555555556,\"y_end\":0.5555555556,\"__count\":100.0},{\"x_start\":-0.5555555556,\"x_end\":0.5555555556,\"y_start\":0.5555555556,\"y_end\":1.6666666667,\"__count\":1.2345679012},{\"x_start\":0.5555555556,\"x_end\":1.6666666667,\"y_start\":0.5555555556,\"y_end\":1.6666666667,\"__count\":2.4691358025},{\"x_start\":1.6666666667,\"x_end\":2.7777777778,\"y_start\":0.5555555556,\"y_end\":1.6666666667,\"__count\":6.1728395062},{\"x_start\":2.7777777778,\"x_end\":3.8888888889,\"y_start\":0.5555555556,\"y_end\":1.6666666667,\"__count\":12.3456790123},{\"x_start\":3.8888888889,\"x_end\":5.0,\"y_start\":0.5555555556,\"y_end\":1.6666666667,\"__count\":20.987654321},{\"x_start\":5.0,\"x_end\":6.1111111111,\"y_start\":0.5555555556,\"y_end\":1.6666666667,\"__count\":32.0987654321},{\"x_start\":6.1111111111,\"x_end\":7.2222222222,\"y_start\":0.5555555556,\"y_end\":1.6666666667,\"__count\":45.6790123457},{\"x_start\":7.2222222222,\"x_end\":8.3333333333,\"y_start\":0.5555555556,\"y_end\":1.6666666667,\"__count\":61.7283950617},{\"x_start\":8.3333333333,\"x_end\":9.4444444444,\"y_start\":0.5555555556,\"y_end\":1.6666666667,\"__count\":80.2469135802},{\"x_start\":9.4444444444,\"x_end\":10.5555555556,\"y_start\":0.5555555556,\"y_end\":1.6666666667,\"__count\":101.2345679012},{\"x_start\":-0.5555555556,\"x_end\":0.5555555556,\"y_start\":1.6666666667,\"y_end\":2.7777777778,\"__count\":4.9382716049},{\"x_start\":0.5555555556,\"x_end\":1.6666666667,\"y_start\":1.6666666667,\"y_end\":2.7777777778,\"__count\":6.1728395062},{\"x_start\":1.6666666667,\"x_end\":2.7777777778,\"y_start\":1.6666666667,\"y_end\":2.7777777778,\"__count\":9.8765432099},{\"x_start\":2.7777777778,\"x_end\":3.8888888889,\"y_start\":1.6666666667,\"y_end\":2.7777777778,\"__count\":16.049382716},{\"x_start\":3.8888888889,\"x_end\":5.0,\"y_start\":1.6666666667,\"y_end\":2.7777777778,\"__count\":24.6913580247},{\"x_start\":5.0,\"x_end\":6.1111111111,\"y_start\":1.6666666667,\"y_end\":2.7777777778,\"__count\":35.8024691358},{\"x_start\":6.1111111111,\"x_end\":7.2222222222,\"y_start\":1.6666666667,\"y_end\":2.7777777778,\"__count\":49.3827160494},{\"x_start\":7.2222222222,\"x_end\":8.3333333333,\"y_start\":1.6666666667,\"y_end\":2.7777777778,\"__count\":65.4320987654},{\"x_start\":8.3333333333,\"x_end\":9.4444444444,\"y_start\":1.6666666667,\"y_end\":2.7777777778,\"__count\":83.950617284},{\"x_start\":9.4444444444,\"x_end\":10.5555555556,\"y_start\":1.6666666667,\"y_end\":2.7777777778,\"__count\":104.9382716049},{\"x_start\":-0.5555555556,\"x_end\":0.5555555556,\"y_start\":2.7777777778,\"y_end\":3.8888888889,\"__count\":11.1111111111},{\"x_start\":0.5555555556,\"x_end\":1.6666666667,\"y_start\":2.7777777778,\"y_end\":3.8888888889,\"__count\":12.3456790123},{\"x_start\":1.6666666667,\"x_end\":2.7777777778,\"y_start\":2.7777777778,\"y_end\":3.8888888889,\"__count\":16.049382716},{\"x_start\":2.7777777778,\"x_end\":3.8888888889,\"y_start\":2.7777777778,\"y_end\":3.8888888889,\"__count\":22.2222222222},{\"x_start\":3.8888888889,\"x_end\":5.0,\"y_start\":2.7777777778,\"y_end\":3.8888888889,\"__count\":30.8641975309},{\"x_start\":5.0,\"x_end\":6.1111111111,\"y_start\":2.7777777778,\"y_end\":3.8888888889,\"__count\":41.975308642},{\"x_start\":6.1111111111,\"x_end\":7.2222222222,\"y_start\":2.7777777778,\"y_end\":3.8888888889,\"__count\":55.5555555556},{\"x_start\":7.2222222222,\"x_end\":8.3333333333,\"y_start\":2.7777777778,\"y_end\":3.8888888889,\"__count\":71.6049382716},{\"x_start\":8.3333333333,\"x_end\":9.4444444444,\"y_start\":2.7777777778,\"y_end\":3.8888888889,\"__count\":90.1234567901},{\"x_start\":9.4444444444,\"x_end\":10.5555555556,\"y_start\":2.7777777778,\"y_end\":3.8888888889,\"__count\":111.1111111111},{\"x_start\":-0.5555555556,\"x_end\":0.5555555556,\"y_start\":3.8888888889,\"y_end\":5.0,\"__count\":19.7530864198},{\"x_start\":0.5555555556,\"x_end\":1.6666666667,\"y_start\":3.8888888889,\"y_end\":5.0,\"__count\":20.987654321},{\"x_start\":1.6666666667,\"x_end\":2.7777777778,\"y_start\":3.8888888889,\"y_end\":5.0,\"__count\":24.6913580247},{\"x_start\":2.7777777778,\"x_end\":3.8888888889,\"y_start\":3.8888888889,\"y_end\":5.0,\"__count\":30.8641975309},{\"x_start\":3.8888888889,\"x_end\":5.0,\"y_start\":3.8888888889,\"y_end\":5.0,\"__count\":39.5061728395},{\"x_start\":5.0,\"x_end\":6.1111111111,\"y_start\":3.8888888889,\"y_end\":5.0,\"__count\":50.6172839506},{\"x_start\":6.1111111111,\"x_end\":7.2222222222,\"y_start\":3.8888888889,\"y_end\":5.0,\"__count\":64.1975308642},{\"x_start\":7.2222222222,\"x_end\":8.3333333333,\"y_start\":3.8888888889,\"y_end\":5.0,\"__count\":80.2469135802},{\"x_start\":8.3333333333,\"x_end\":9.4444444444,\"y_start\":3.8888888889,\"y_end\":5.0,\"__count\":98.7654320988},{\"x_start\":9.4444444444,\"x_end\":10.5555555556,\"y_start\":3.8888888889,\"y_end\":5.0,\"__count\":119.7530864198},{\"x_start\":-0.5555555556,\"x_end\":0.5555555556,\"y_start\":5.0,\"y_end\":6.1111111111,\"__count\":30.8641975309},{\"x_start\":0.5555555556,\"x_end\":1.6666666667,\"y_start\":5.0,\"y_end\":6.1111111111,\"__count\":32.0987654321},{\"x_start\":1.6666666667,\"x_end\":2.7777777778,\"y_start\":5.0,\"y_end\":6.1111111111,\"__count\":35.8024691358},{\"x_start\":2.7777777778,\"x_end\":3.8888888889,\"y_start\":5.0,\"y_end\":6.1111111111,\"__count\":41.975308642},{\"x_start\":3.8888888889,\"x_end\":5.0,\"y_start\":5.0,\"y_end\":6.1111111111,\"__count\":50.6172839506},{\"x_start\":5.0,\"x_end\":6.1111111111,\"y_start\":5.0,\"y_end\":6.1111111111,\"__count\":61.7283950617},{\"x_start\":6.1111111111,\"x_end\":7.2222222222,\"y_start\":5.0,\"y_end\":6.1111111111,\"__count\":75.3086419753},{\"x_start\":7.2222222222,\"x_end\":8.3333333333,\"y_start\":5.0,\"y_end\":6.1111111111,\"__count\":91.3580246914},{\"x_start\":8.3333333333,\"x_end\":9.4444444444,\"y_start\":5.0,\"y_end\":6.1111111111,\"__count\":109.8765432099},{\"x_start\":9.4444444444,\"x_end\":10.5555555556,\"y_start\":5.0,\"y_end\":6.1111111111,\"__count\":130.8641975309},{\"x_start\":-0.5555555556,\"x_end\":0.5555555556,\"y_start\":6.1111111111,\"y_end\":7.2222222222,\"__count\":44.4444444444},{\"x_start\":0.5555555556,\"x_end\":1.6666666667,\"y_start\":6.1111111111,\"y_end\":7.2222222222,\"__count\":45.6790123457},{\"x_start\":1.6666666667,\"x_end\":2.7777777778,\"y_start\":6.1111111111,\"y_end\":7.2222222222,\"__count\":49.3827160494},{\"x_start\":2.7777777778,\"x_end\":3.8888888889,\"y_start\":6.1111111111,\"y_end\":7.2222222222,\"__count\":55.5555555556},{\"x_start\":3.8888888889,\"x_end\":5.0,\"y_start\":6.1111111111,\"y_end\":7.2222222222,\"__count\":64.1975308642},{\"x_start\":5.0,\"x_end\":6.1111111111,\"y_start\":6.1111111111,\"y_end\":7.2222222222,\"__count\":75.3086419753},{\"x_start\":6.1111111111,\"x_end\":7.2222222222,\"y_start\":6.1111111111,\"y_end\":7.2222222222,\"__count\":88.8888888889},{\"x_start\":7.2222222222,\"x_end\":8.3333333333,\"y_start\":6.1111111111,\"y_end\":7.2222222222,\"__count\":104.9382716049},{\"x_start\":8.3333333333,\"x_end\":9.4444444444,\"y_start\":6.1111111111,\"y_end\":7.2222222222,\"__count\":123.4567901235},{\"x_start\":9.4444444444,\"x_end\":10.5555555556,\"y_start\":6.1111111111,\"y_end\":7.2222222222,\"__count\":144.4444444444},{\"x_start\":-0.5555555556,\"x_end\":0.5555555556,\"y_start\":7.2222222222,\"y_end\":8.3333333333,\"__count\":60.4938271605},{\"x_start\":0.5555555556,\"x_end\":1.6666666667,\"y_start\":7.2222222222,\"y_end\":8.3333333333,\"__count\":61.7283950617},{\"x_start\":1.6666666667,\"x_end\":2.7777777778,\"y_start\":7.2222222222,\"y_end\":8.3333333333,\"__count\":65.4320987654},{\"x_start\":2.7777777778,\"x_end\":3.8888888889,\"y_start\":7.2222222222,\"y_end\":8.3333333333,\"__count\":71.6049382716},{\"x_start\":3.8888888889,\"x_end\":5.0,\"y_start\":7.2222222222,\"y_end\":8.3333333333,\"__count\":80.2469135802},{\"x_start\":5.0,\"x_end\":6.1111111111,\"y_start\":7.2222222222,\"y_end\":8.3333333333,\"__count\":91.3580246914},{\"x_start\":6.1111111111,\"x_end\":7.2222222222,\"y_start\":7.2222222222,\"y_end\":8.3333333333,\"__count\":104.9382716049},{\"x_start\":7.2222222222,\"x_end\":8.3333333333,\"y_start\":7.2222222222,\"y_end\":8.3333333333,\"__count\":120.987654321},{\"x_start\":8.3333333333,\"x_end\":9.4444444444,\"y_start\":7.2222222222,\"y_end\":8.3333333333,\"__count\":139.5061728395},{\"x_start\":9.4444444444,\"x_end\":10.5555555556,\"y_start\":7.2222222222,\"y_end\":8.3333333333,\"__count\":160.4938271605},{\"x_start\":-0.5555555556,\"x_end\":0.5555555556,\"y_start\":8.3333333333,\"y_end\":9.4444444444,\"__count\":79.012345679},{\"x_start\":0.5555555556,\"x_end\":1.6666666667,\"y_start\":8.3333333333,\"y_end\":9.4444444444,\"__count\":80.2469135802},{\"x_start\":1.6666666667,\"x_end\":2.7777777778,\"y_start\":8.3333333333,\"y_end\":9.4444444444,\"__count\":83.950617284},{\"x_start\":2.7777777778,\"x_end\":3.8888888889,\"y_start\":8.3333333333,\"y_end\":9.4444444444,\"__count\":90.1234567901},{\"x_start\":3.8888888889,\"x_end\":5.0,\"y_start\":8.3333333333,\"y_end\":9.4444444444,\"__count\":98.7654320988},{\"x_start\":5.0,\"x_end\":6.1111111111,\"y_start\":8.3333333333,\"y_end\":9.4444444444,\"__count\":109.8765432099},{\"x_start\":6.1111111111,\"x_end\":7.2222222222,\"y_start\":8.3333333333,\"y_end\":9.4444444444,\"__count\":123.4567901235},{\"x_start\":7.2222222222,\"x_end\":8.3333333333,\"y_start\":8.3333333333,\"y_end\":9.4444444444,\"__count\":139.5061728395},{\"x_start\":8.3333333333,\"x_end\":9.4444444444,\"y_start\":8.3333333333,\"y_end\":9.4444444444,\"__count\":158.024691358},{\"x_start\":9.4444444444,\"x_end\":10.5555555556,\"y_start\":8.3333333333,\"y_end\":9.4444444444,\"__count\":179.012345679},{\"x_start\":-0.5555555556,\"x_end\":0.5555555556,\"y_start\":9.4444444444,\"y_end\":10.5555555556,\"__count\":100.0},{\"x_start\":0.5555555556,\"x_end\":1.6666666667,\"y_start\":9.4444444444,\"y_end\":10.5555555556,\"__count\":101.2345679012},{\"x_start\":1.6666666667,\"x_end\":2.7777777778,\"y_start\":9.4444444444,\"y_end\":10.5555555556,\"__count\":104.9382716049},{\"x_start\":2.7777777778,\"x_end\":3.8888888889,\"y_start\":9.4444444444,\"y_end\":10.5555555556,\"__count\":111.1111111111},{\"x_start\":3.8888888889,\"x_end\":5.0,\"y_start\":9.4444444444,\"y_end\":10.5555555556,\"__count\":119.7530864198},{\"x_start\":5.0,\"x_end\":6.1111111111,\"y_start\":9.4444444444,\"y_end\":10.5555555556,\"__count\":130.8641975309},{\"x_start\":6.1111111111,\"x_end\":7.2222222222,\"y_start\":9.4444444444,\"y_end\":10.5555555556,\"__count\":144.4444444444},{\"x_start\":7.2222222222,\"x_end\":8.3333333333,\"y_start\":9.4444444444,\"y_end\":10.5555555556,\"__count\":160.4938271605},{\"x_start\":8.3333333333,\"x_end\":9.4444444444,\"y_start\":9.4444444444,\"y_end\":10.5555555556,\"__count\":179.012345679},{\"x_start\":9.4444444444,\"x_end\":10.5555555556,\"y_start\":9.4444444444,\"y_end\":10.5555555556,\"__count\":200.0}]"
        }
       ],
       "height": 200,
       "legends": [
        {
         "fill": "color",
         "gradientLength": {
          "signal": "height - 16"
         },
         "title": "Histogram Values"
        }
       ],
       "marks": [
        {
         "encode": {
          "update": {
           "fill": {
            "field": "__count",
            "scale": "color"
           },
           "x": {
            "field": "x_end",
            "scale": "x"
           },
           "x2": {
            "field": "x_start",
            "scale": "x"
           },
           "y": {
            "field": "y_end",
            "scale": "y"
           },
           "y2": {
            "field": "y_start",
            "scale": "y"
           }
          }
         },
         "from": {
          "data": "mesh"
         },
         "name": "marks",
         "style": [
          "rect"
         ],
         "type": "rect"
        },
        {
         "encode": {
          "enter": {
           "fill": {
            "value": "black"
           },
           "fillOpacity": {
            "value": 1
           }
          },
          "update": {
           "size": {
            "value": 10
           },
           "x": {
            "field": "gamma",
            "scale": "x"
           },
           "y": {
            "field": "alpha",
            "scale": "y"
           }
          }
         },
         "from": {
          "data": "points"
         },
         "type": "symbol"
        }
       ],
       "scales": [
        {
         "domain": {
          "fields": [
           {
            "data": "points",
            "field": "gamma"
           },
           {
            "data": "mesh",
            "field": "x_start"
           },
           {
            "data": "mesh",
            "field": "y_end"
           }
          ]
         },
         "name": "x",
         "range": [
          0,
          {
           "signal": "width"
          }
         ],
         "type": "linear"
        },
        {
         "domain": {
          "fields": [
           {
            "data": "points",
            "field": "alpha"
           },
           {
            "data": "mesh",
            "field": "y_start"
           },
           {
            "data": "mesh",
            "field": "y_end"
           }
          ]
         },
         "name": "y",
         "range": [
          {
           "signal": "height"
          },
          0
         ],
         "type": "linear"
        },
        {
         "domain": {
          "data": "mesh",
          "field": "__count"
         },
         "interpolate": "hcl",
         "name": "color",
         "range": "heatmap",
         "type": "linear",
         "zero": true
        }
       ],
       "width": 300
      }
     },
     "metadata": {},
     "output_type": "display_data"
    }
   ],
   "source": [
    "import numpy as np\n",
    "import pandas as pd\n",
    "from pyciemss.visuals import plots, vega\n",
    "\n",
    "def create_fake_data():\n",
    "    nx, ny = (10, 10)\n",
    "    x = np.linspace(0, 10, nx)\n",
    "    y, a = np.linspace(0, 10, ny, retstep = True)\n",
    "\n",
    "    # create mesh data\n",
    "    xv, yv = np.meshgrid(x, y)\n",
    "    zz = xv**2 + yv**2\n",
    "\n",
    "    # create scatter plot\n",
    "    df = pd.DataFrame(10*np.random.random((100, 2)), columns=['alpha', 'gamma'])\n",
    "    return (xv, yv, zz), df\n",
    "\n",
    "mesh_data, scatter_data = create_fake_data()\n",
    "\n",
    "schema = plots.heatmap_scatter(scatter_data, mesh_data)\n",
    "plots.save_schema(schema, \"_schema.json\")\n",
    "plots.ipy_display(schema, format=\"interactive\")"
   ]
  },
  {
   "cell_type": "code",
   "execution_count": 8,
   "id": "8893b1bc",
   "metadata": {},
   "outputs": [
    {
     "ename": "NameError",
     "evalue": "name 'spar' is not defined",
     "output_type": "error",
     "traceback": [
      "\u001b[0;31m---------------------------------------------------------------------------\u001b[0m",
      "\u001b[0;31mNameError\u001b[0m                                 Traceback (most recent call last)",
      "\u001b[1;32m/Users/cott741/projects/ASKEM/pyciemss/notebook/visual examples/Graphs.ipynb Cell 8\u001b[0m line \u001b[0;36m1\n\u001b[0;32m----> <a href='vscode-notebook-cell:/Users/cott741/projects/ASKEM/pyciemss/notebook/visual%20examples/Graphs.ipynb#X22sZmlsZQ%3D%3D?line=0'>1</a>\u001b[0m np\u001b[39m.\u001b[39mmeshgrid(spar)\n",
      "\u001b[0;31mNameError\u001b[0m: name 'spar' is not defined"
     ]
    }
   ],
   "source": [
    "np.meshgrid(spar)"
   ]
  },
  {
   "cell_type": "code",
   "execution_count": null,
   "id": "9d3ad843",
   "metadata": {},
   "outputs": [],
   "source": []
  }
 ],
 "metadata": {
  "kernelspec": {
   "display_name": "Python 3 (ipykernel)",
   "language": "python",
   "name": "python3"
  },
  "language_info": {
   "codemirror_mode": {
    "name": "ipython",
    "version": 3
   },
   "file_extension": ".py",
   "mimetype": "text/x-python",
   "name": "python",
   "nbconvert_exporter": "python",
   "pygments_lexer": "ipython3",
   "version": "3.11.4"
  }
 },
 "nbformat": 4,
 "nbformat_minor": 5
}
