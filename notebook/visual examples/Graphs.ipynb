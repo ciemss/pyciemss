{
 "cells": [
  {
   "cell_type": "code",
   "execution_count": 7,
   "id": "a1299176",
   "metadata": {},
   "outputs": [],
   "source": [
    "%load_ext autoreload\n",
    "%autoreload 2"
   ]
  },
  {
   "cell_type": "code",
   "execution_count": 17,
   "id": "5c1729f7-1b0d-4913-8048-01624c506cc5",
   "metadata": {},
   "outputs": [],
   "source": [
    "import networkx as nx\n",
    "from pyciemss.visuals import plots, vega\n"
   ]
  },
  {
   "cell_type": "code",
   "execution_count": null,
   "id": "07d29614",
   "metadata": {},
   "outputs": [],
   "source": []
  },
  {
   "cell_type": "code",
   "execution_count": 9,
   "id": "997ef041-0312-4b83-bbe2-32a6ddfe3d6c",
   "metadata": {},
   "outputs": [],
   "source": [
    "g = nx.generators.barabasi_albert_graph(5, 3)"
   ]
  },
  {
   "cell_type": "code",
   "execution_count": 10,
   "id": "a4b1668c",
   "metadata": {},
   "outputs": [
    {
     "data": {
      "image/png": "[encoded data removed]",
      "text/plain": [
       "<IPython.core.display.Image object>"
      ]
     },
     "execution_count": 10,
     "metadata": {},
     "output_type": "execute_result"
    }
   ],
   "source": [
    "import random\n",
    "def rand_attributions():\n",
    "    possible = \"ABCD\"\n",
    "    return random.sample(possible, random.randint(1, len(possible)))\n",
    "\n",
    "def rand_label():\n",
    "    possible = \"TUVWXYZ\"\n",
    "    return random.randint(1, 10)\n",
    "    return random.sample(possible, 1)[0]\n",
    "\n",
    "node_properties = {n: {\"attribution\": rand_attributions(), \n",
    "                       \"label\": rand_label()}\n",
    "                    for n in g.nodes()}\n",
    "\n",
    "edge_attributions = {e: {\"attribution\": rand_attributions()} for e in g.edges()}\n",
    "\n",
    "nx.set_node_attributes(g, node_properties)\n",
    "nx.set_edge_attributes(g, edge_attributions)\n",
    "\n",
    "schema = plots.attributed_graph(g)\n",
    "plots.save_schema(schema, \"_schema.json\")\n",
    "plots.ipy_display(schema)"
   ]
  },
  {
   "cell_type": "code",
   "execution_count": 11,
   "id": "ece8d8e5",
   "metadata": {},
   "outputs": [
    {
     "name": "stdout",
     "output_type": "stream",
     "text": [
      "\n"
     ]
    },
    {
     "data": {
      "application/vnd.vega.v5+json": {
       "$schema": "https://vega.github.io/schema/vega/v5.json",
       "data": [
        {
         "name": "node-data",
         "on": [
          {
           "modify": "node.datum",
           "trigger": "fix.length == 2",
           "values": "{fixedx: fix[0], fixedy: fix[1]}"
          },
          {
           "modify": "reset",
           "trigger": "reset",
           "values": "{fixedx: -100, fixedy: -100}"
          }
         ],
         "values": [
          {
           "fixedx": -100,
           "fixedy": -100,
           "fx": 63,
           "fy": 97,
           "group": "V",
           "id": 0,
           "label": 0
          },
          {
           "fixedx": -100,
           "fixedy": -100,
           "fx": 16,
           "fy": 94,
           "group": "U",
           "id": 1,
           "label": 1
          },
          {
           "fixedx": -100,
           "fixedy": -100,
           "fx": 73,
           "fy": 76,
           "group": "W",
           "id": 2,
           "label": 2
          },
          {
           "fixedx": -100,
           "fixedy": -100,
           "fx": 36,
           "fy": 65,
           "group": "T",
           "id": 3,
           "label": 3
          },
          {
           "fixedx": -100,
           "fixedy": -100,
           "fx": 99,
           "fy": 32,
           "group": "T",
           "id": 4,
           "label": 4
          }
         ]
        },
        {
         "name": "link-data",
         "values": [
          {
           "group": "Y",
           "source": 0,
           "target": 1
          },
          {
           "group": "V",
           "source": 0,
           "target": 2
          },
          {
           "group": "Z",
           "source": 0,
           "target": 3
          },
          {
           "group": "W",
           "source": 0,
           "target": 4
          },
          {
           "group": "Z",
           "source": 1,
           "target": 4
          },
          {
           "group": "Z",
           "source": 2,
           "target": 4
          }
         ]
        }
       ],
       "description": "A node-link diagram with force-directed layout.",
       "height": 500,
       "legends": [
        {
         "stroke": "color",
         "symbolType": "stroke",
         "title": "Group"
        },
        {
         "stroke": "colorlink",
         "symbolType": "stroke",
         "title": "Link Group"
        }
       ],
       "marks": [
        {
         "encode": {
          "enter": {
           "fill": {
            "field": "group",
            "value": "color"
           },
           "stroke": {
            "value": "white"
           }
          },
          "update": {
           "cursor": {
            "value": "pointer"
           },
           "fx": {
            "signal": "datum.fixedx != -100 ? datum.fixedx  : (layoutdata ? scale('xscale', datum.fx) : null)"
           },
           "fy": {
            "signal": "datum.fixedy != -100 ? datum.fixedy : (layoutdata ? scale('yscale', datum.fy) : null)"
           },
           "size": {
            "signal": "2 * nodeRadius * nodeRadius"
           }
          }
         },
         "from": {
          "data": "node-data"
         },
         "name": "nodes",
         "transform": [
          {
           "forces": [
            {
             "force": "center",
             "x": {
              "signal": "cx"
             },
             "y": {
              "signal": "cy"
             }
            },
            {
             "force": "collide",
             "radius": {
              "signal": "nodeRadius"
             }
            },
            {
             "force": "nbody",
             "strength": {
              "signal": "nodeCharge"
             }
            },
            {
             "distance": {
              "signal": "linkDistance"
             },
             "force": "link",
             "links": "link-data"
            }
           ],
           "iterations": 300,
           "restart": {
            "signal": "restart"
           },
           "signal": "force",
           "static": true,
           "type": "force"
          }
         ],
         "type": "symbol",
         "zindex": 1
        },
        {
         "encode": {
          "enter": {
           "align": {
            "value": "center"
           },
           "baseline": {
            "value": "middle"
           },
           "fill": {
            "value": "black"
           },
           "fontSize": {
            "value": 10
           },
           "text": {
            "field": "datum.label"
           }
          },
          "update": {
           "x": {
            "field": "x"
           },
           "y": {
            "field": "y"
           }
          }
         },
         "from": {
          "data": "nodes"
         },
         "interactive": false,
         "name": "labels",
         "transform": [
          {
           "anchor": [
            "top",
            "bottom",
            "right",
            "left"
           ],
           "avoidMarks": [
            "nodes"
           ],
           "offset": [
            1
           ],
           "size": {
            "signal": "[width + 60, height]"
           },
           "type": "label"
          }
         ],
         "type": "text",
         "zindex": 2
        },
        {
         "encode": {
          "update": {
           "stroke": {
            "field": "group",
            "scale": "colorlink"
           },
           "strokeWidth": {
            "value": 0.5
           }
          }
         },
         "from": {
          "data": "link-data"
         },
         "interactive": false,
         "transform": [
          {
           "require": {
            "signal": "force"
           },
           "shape": "line",
           "sourceX": "datum.source.x",
           "sourceY": "datum.source.y",
           "targetX": "datum.target.x",
           "targetY": "datum.target.y",
           "type": "linkpath"
          }
         ],
         "type": "path"
        },
        {
         "encode": {
          "enter": {
           "fill": {
            "field": "group",
            "scale": "colorlink"
           },
           "shape": {
            "value": "triangle-right"
           },
           "size": {
            "value": 40
           },
           "stroke": {
            "field": "group",
            "scale": "colorlink"
           }
          },
          "hover": {
           "opacity": {
            "value": 1
           }
          },
          "update": {
           "x": {
            "field": "target.x"
           },
           "y": {
            "field": "target.y"
           }
          }
         },
         "from": {
          "data": "link-data"
         },
         "name": "arrows",
         "transform": [
          {
           "as": "tan",
           "expr": "atan2((datum.datum.target.y-datum.datum.source.y),(datum.datum.target.x-datum.datum.source.x))",
           "type": "formula"
          },
          {
           "as": "angle",
           "expr": "datum.tan*180/PI",
           "type": "formula"
          },
          {
           "as": "y",
           "expr": "datum.datum.target.y - nodeRadius*sin(datum.tan)",
           "type": "formula"
          },
          {
           "as": "x",
           "expr": "datum.datum.target.x - nodeRadius*cos(datum.tan)",
           "type": "formula"
          }
         ],
         "type": "symbol",
         "zindex": {
          "value": 40
         }
        }
       ],
       "padding": 0,
       "scales": [
        {
         "domain": {
          "data": "node-data",
          "field": "group"
         },
         "name": "color",
         "range": {
          "scheme": "category20c"
         },
         "type": "ordinal"
        },
        {
         "domain": {
          "data": "link-data",
          "field": "group"
         },
         "name": "colorlink",
         "range": {
          "scheme": "category20c"
         },
         "type": "ordinal"
        },
        {
         "domain": {
          "data": "node-data",
          "field": "fx"
         },
         "name": "xscale",
         "range": [
          10,
          {
           "signal": "width - 10"
          }
         ]
        },
        {
         "domain": {
          "data": "node-data",
          "field": "fy"
         },
         "name": "yscale",
         "range": [
          10,
          {
           "signal": "height - 10"
          }
         ]
        }
       ],
       "signals": [
        {
         "name": "cx",
         "update": "width / 2"
        },
        {
         "name": "cy",
         "update": "height / 2"
        },
        {
         "name": "nodeRadius",
         "value": 15
        },
        {
         "name": "nodeCharge",
         "value": -80
        },
        {
         "name": "linkDistance",
         "value": 80
        },
        {
         "bind": {
          "input": "checkbox"
         },
         "name": "layoutdata",
         "value": false
        },
        {
         "description": "State variable for active node fix status.",
         "name": "fix",
         "on": [
          {
           "events": "symbol:mouseout[!event.buttons], window:mouseup",
           "update": "false"
          },
          {
           "events": "symbol:mouseover",
           "update": "fix || true"
          },
          {
           "events": "[symbol:mousedown, window:mouseup] > window:mousemove!",
           "force": true,
           "update": "xy()"
          }
         ],
         "value": false
        },
        {
         "description": "Unfix node",
         "name": "reset",
         "on": [
          {
           "events": "symbol:dblclick",
           "update": "item().datum"
          }
         ],
         "value": null
        },
        {
         "description": "Graph node most recently interacted with.",
         "name": "node",
         "on": [
          {
           "events": "symbol:mouseover",
           "update": "fix === true ? item() : node"
          }
         ],
         "value": null
        },
        {
         "description": "Flag to restart Force simulation upon data changes.",
         "name": "restart",
         "on": [
          {
           "events": {
            "signal": "fix"
           },
           "update": "fix && fix.length"
          },
          {
           "events": {
            "signal": "layoutdata"
           },
           "update": "true"
          },
          {
           "events": {
            "signal": "reset"
           },
           "update": "true"
          }
         ],
         "value": false
        }
       ],
       "width": 500
      }
     },
     "metadata": {},
     "output_type": "display_data"
    }
   ],
   "source": [
    "g = nx.generators.barabasi_albert_graph(5, 3)\n",
    "def rand_group():\n",
    "    possible = \"TUVWXYZ\"\n",
    "    return random.sample(possible, 1)[0]\n",
    "\n",
    "node_properties = {n: {\"group\": rand_group(), \n",
    "                       \"fx\": random.randint(1, 100),\n",
    "                       \"fy\": random.randint(1, 100)}\n",
    "                    for n in g.nodes()}\n",
    "\n",
    "edge_attributions = {e: {\"group\": rand_group()}\n",
    "                    for e in g.edges()}\n",
    "\n",
    "nx.set_node_attributes(g, node_properties)\n",
    "nx.set_edge_attributes(g, edge_attributions)\n",
    "nx.set_node_attributes(g, {k:f\"n{i}\" for i, k in enumerate(g.nodes)}, \"label\")\n",
    "\n",
    "schema = plots.spring_force_graph(g, node_labels=\"label\", input_layout = False)\n",
    "plots.save_schema(schema, \"_schema.json\")\n",
    "plots.ipy_display(schema, format=\"interactive\")"
   ]
  },
  {
   "cell_type": "code",
   "execution_count": 21,
   "id": "67ab6bf5",
   "metadata": {},
   "outputs": [
    {
     "name": "stdout",
     "output_type": "stream",
     "text": [
      "\n"
     ]
    },
    {
     "data": {
      "application/vnd.vega.v5+json": {
       "$schema": "https://vega.github.io/schema/vega/v5.json",
       "axes": [
        {
         "labelOverlap": true,
         "orient": "bottom",
         "scale": "x",
         "tickCount": {
          "signal": "ceil(width/3)"
         },
         "title": {
          "signal": "x_name"
         }
        },
        {
         "labelOverlap": true,
         "orient": "left",
         "scale": "y",
         "tickCount": {
          "signal": "ceil(height/3)"
         },
         "title": {
          "signal": "y_name"
         }
        }
       ],
       "data": [
        {
         "name": "points",
         "values": "[{\"test4\":2.1491272018,\"test5\":0.5178268104},{\"test4\":1.2748559971,\"test5\":0.3055854392},{\"test4\":1.5719262675,\"test5\":2.7039687096},{\"test4\":1.4145295351,\"test5\":1.9411530457},{\"test4\":1.7352084333,\"test5\":2.2652053278},{\"test4\":0.3802347456,\"test5\":1.9834396009},{\"test4\":1.5478275261,\"test5\":1.3814647432},{\"test4\":0.5596878496,\"test5\":1.9059083299},{\"test4\":2.8144230894,\"test5\":0.8418347213},{\"test4\":2.53430348,\"test5\":2.4793211357},{\"test4\":2.2265911563,\"test5\":2.0676749491},{\"test4\":0.7397659083,\"test5\":1.0804269252},{\"test4\":0.5435750359,\"test5\":0.7014619659},{\"test4\":0.54982373,\"test5\":1.5228200234},{\"test4\":1.2279478108,\"test5\":2.1346784049},{\"test4\":1.4770369855,\"test5\":0.4471283945},{\"test4\":2.6954412186,\"test5\":1.9859160335},{\"test4\":2.4008832341,\"test5\":2.1489395838},{\"test4\":1.3972484994,\"test5\":2.3798177779},{\"test4\":0.6939159827,\"test5\":0.4158924588},{\"test4\":0.7072729077,\"test5\":1.5326346876},{\"test4\":2.6643318707,\"test5\":2.3270470224},{\"test4\":1.9448298118,\"test5\":1.6031440076},{\"test4\":2.8758595936,\"test5\":1.311317583},{\"test4\":1.4805585442,\"test5\":0.0438578965},{\"test4\":1.7429253505,\"test5\":1.2295807022},{\"test4\":2.8396261687,\"test5\":1.5202098117},{\"test4\":1.6947212505,\"test5\":1.7083334587},{\"test4\":1.2274367238,\"test5\":0.6790058773},{\"test4\":1.2575160804,\"test5\":2.7923121978},{\"test4\":2.0225409109,\"test5\":0.0251100844},{\"test4\":0.7545323037,\"test5\":1.4760487817},{\"test4\":2.0337409445,\"test5\":2.6626707035},{\"test4\":2.5327272963,\"test5\":1.9356273565},{\"test4\":1.8887714097,\"test5\":1.5035973986},{\"test4\":2.988796187,\"test5\":1.1770841188},{\"test4\":1.3235496899,\"test5\":1.2746386974},{\"test4\":2.8299915121,\"test5\":0.9029260425},{\"test4\":1.2678394604,\"test5\":0.4799614998},{\"test4\":1.4043252314,\"test5\":2.9063328181},{\"test4\":0.526840709,\"test5\":1.3855081345},{\"test4\":1.8258872783,\"test5\":1.2643119607},{\"test4\":2.1577124339,\"test5\":0.7877646295},{\"test4\":0.8867259553,\"test5\":1.4002474795},{\"test4\":0.856941101,\"test5\":0.9284187485},{\"test4\":2.8928338031,\"test5\":2.2791688096},{\"test4\":1.1788183542,\"test5\":2.415588742},{\"test4\":0.248182918,\"test5\":0.8323422903},{\"test4\":2.0991039926,\"test5\":2.0817606978},{\"test4\":1.7946005213,\"test5\":0.9729481981},{\"test4\":1.6702124103,\"test5\":0.4638405599},{\"test4\":2.5576056928,\"test5\":2.8114042886},{\"test4\":1.1641460419,\"test5\":1.3521002897},{\"test4\":1.2942735224,\"test5\":1.4926665777},{\"test4\":0.0374000444,\"test5\":2.1604714924},{\"test4\":0.1322208135,\"test5\":0.1388894},{\"test4\":1.9265318905,\"test5\":1.9134605869},{\"test4\":0.9766585788,\"test5\":1.866837188},{\"test4\":1.46698724,\"test5\":2.5117903946},{\"test4\":2.3305173275,\"test5\":2.5790228502},{\"test4\":1.6133490141,\"test5\":0.8686601426},{\"test4\":2.6916228016,\"test5\":1.8470568426},{\"test4\":1.0649735816,\"test5\":2.1068970678},{\"test4\":1.1965945658,\"test5\":2.4751799291},{\"test4\":1.7365728906,\"test5\":0.9207907616},{\"test4\":1.4421839755,\"test5\":1.6274505112},{\"test4\":0.3296179269,\"test5\":0.9044027346},{\"test4\":2.8023721,\"test5\":0.3857737532},{\"test4\":1.1614234361,\"test5\":0.9286973756},{\"test4\":0.0683747953,\"test5\":2.2669806068},{\"test4\":0.1974345792,\"test5\":1.8113945887},{\"test4\":2.4954119651,\"test5\":0.570111288},{\"test4\":0.2245776858,\"test5\":0.4644050054},{\"test4\":0.6801183124,\"test5\":2.1445725034},{\"test4\":1.0810547301,\"test5\":1.4672670511},{\"test4\":1.2681254323,\"test5\":2.766809902},{\"test4\":0.542040085,\"test5\":1.8196650604},{\"test4\":1.9954425437,\"test5\":2.2196599271},{\"test4\":2.8694069238,\"test5\":2.8662001339},{\"test4\":1.4109040253,\"test5\":2.2614449842},{\"test4\":2.6748603498,\"test5\":2.3775802586},{\"test4\":2.329128592,\"test5\":2.9133302207},{\"test4\":0.1659011209,\"test5\":0.8566866544},{\"test4\":0.7191621659,\"test5\":0.4278506016},{\"test4\":0.5648947686,\"test5\":0.6739362636},{\"test4\":2.1350743591,\"test5\":0.0173834181},{\"test4\":0.3920630063,\"test5\":0.0035548278},{\"test4\":0.7015539976,\"test5\":0.9176268446},{\"test4\":1.3502212756,\"test5\":0.4744748615},{\"test4\":1.6873369259,\"test5\":1.1222609948},{\"test4\":1.7302054597,\"test5\":1.8912905405},{\"test4\":0.4734661029,\"test5\":0.5383314839},{\"test4\":2.1430240795,\"test5\":0.6361265741},{\"test4\":1.6692390058,\"test5\":2.7942121991},{\"test4\":2.1410026973,\"test5\":2.214503934},{\"test4\":1.2551729946,\"test5\":0.4157586639},{\"test4\":0.8878061817,\"test5\":0.5394513966},{\"test4\":0.0206568515,\"test5\":2.6906274785},{\"test4\":1.5712937545,\"test5\":1.609397646},{\"test4\":2.3282285838,\"test5\":2.0858953754}]"
        },
        {
         "format": {
          "type": "json"
         },
         "name": "source_0",
         "transform": [
          {
           "field": {
            "signal": "x_name"
           },
           "signal": "x_extent",
           "type": "extent"
          },
          {
           "as": [
            "x_start",
            "x_end"
           ],
           "extent": {
            "signal": "x_extent"
           },
           "field": {
            "signal": "x_name"
           },
           "maxbins": {
            "signal": "bandwidthX"
           },
           "signal": "x_bins",
           "type": "bin"
          },
          {
           "field": {
            "signal": "y_name"
           },
           "signal": "y_extent",
           "type": "extent"
          },
          {
           "as": [
            "y_start",
            "y_end"
           ],
           "extent": {
            "signal": "y_extent"
           },
           "field": {
            "signal": "y_name"
           },
           "maxbins": {
            "signal": "bandwidthY"
           },
           "signal": "y_bins",
           "type": "bin"
          },
          {
           "as": [
            "__count"
           ],
           "groupby": [
            "x_start",
            "x_end",
            "y_start",
            "y_end"
           ],
           "ops": [
            "count"
           ],
           "type": "aggregate"
          }
         ],
         "values": "[{\"test4\":2.1491272018,\"test5\":0.5178268104},{\"test4\":1.2748559971,\"test5\":0.3055854392},{\"test4\":1.5719262675,\"test5\":2.7039687096},{\"test4\":1.4145295351,\"test5\":1.9411530457},{\"test4\":1.7352084333,\"test5\":2.2652053278},{\"test4\":0.3802347456,\"test5\":1.9834396009},{\"test4\":1.5478275261,\"test5\":1.3814647432},{\"test4\":0.5596878496,\"test5\":1.9059083299},{\"test4\":2.8144230894,\"test5\":0.8418347213},{\"test4\":2.53430348,\"test5\":2.4793211357},{\"test4\":2.2265911563,\"test5\":2.0676749491},{\"test4\":0.7397659083,\"test5\":1.0804269252},{\"test4\":0.5435750359,\"test5\":0.7014619659},{\"test4\":0.54982373,\"test5\":1.5228200234},{\"test4\":1.2279478108,\"test5\":2.1346784049},{\"test4\":1.4770369855,\"test5\":0.4471283945},{\"test4\":2.6954412186,\"test5\":1.9859160335},{\"test4\":2.4008832341,\"test5\":2.1489395838},{\"test4\":1.3972484994,\"test5\":2.3798177779},{\"test4\":0.6939159827,\"test5\":0.4158924588},{\"test4\":0.7072729077,\"test5\":1.5326346876},{\"test4\":2.6643318707,\"test5\":2.3270470224},{\"test4\":1.9448298118,\"test5\":1.6031440076},{\"test4\":2.8758595936,\"test5\":1.311317583},{\"test4\":1.4805585442,\"test5\":0.0438578965},{\"test4\":1.7429253505,\"test5\":1.2295807022},{\"test4\":2.8396261687,\"test5\":1.5202098117},{\"test4\":1.6947212505,\"test5\":1.7083334587},{\"test4\":1.2274367238,\"test5\":0.6790058773},{\"test4\":1.2575160804,\"test5\":2.7923121978},{\"test4\":2.0225409109,\"test5\":0.0251100844},{\"test4\":0.7545323037,\"test5\":1.4760487817},{\"test4\":2.0337409445,\"test5\":2.6626707035},{\"test4\":2.5327272963,\"test5\":1.9356273565},{\"test4\":1.8887714097,\"test5\":1.5035973986},{\"test4\":2.988796187,\"test5\":1.1770841188},{\"test4\":1.3235496899,\"test5\":1.2746386974},{\"test4\":2.8299915121,\"test5\":0.9029260425},{\"test4\":1.2678394604,\"test5\":0.4799614998},{\"test4\":1.4043252314,\"test5\":2.9063328181},{\"test4\":0.526840709,\"test5\":1.3855081345},{\"test4\":1.8258872783,\"test5\":1.2643119607},{\"test4\":2.1577124339,\"test5\":0.7877646295},{\"test4\":0.8867259553,\"test5\":1.4002474795},{\"test4\":0.856941101,\"test5\":0.9284187485},{\"test4\":2.8928338031,\"test5\":2.2791688096},{\"test4\":1.1788183542,\"test5\":2.415588742},{\"test4\":0.248182918,\"test5\":0.8323422903},{\"test4\":2.0991039926,\"test5\":2.0817606978},{\"test4\":1.7946005213,\"test5\":0.9729481981},{\"test4\":1.6702124103,\"test5\":0.4638405599},{\"test4\":2.5576056928,\"test5\":2.8114042886},{\"test4\":1.1641460419,\"test5\":1.3521002897},{\"test4\":1.2942735224,\"test5\":1.4926665777},{\"test4\":0.0374000444,\"test5\":2.1604714924},{\"test4\":0.1322208135,\"test5\":0.1388894},{\"test4\":1.9265318905,\"test5\":1.9134605869},{\"test4\":0.9766585788,\"test5\":1.866837188},{\"test4\":1.46698724,\"test5\":2.5117903946},{\"test4\":2.3305173275,\"test5\":2.5790228502},{\"test4\":1.6133490141,\"test5\":0.8686601426},{\"test4\":2.6916228016,\"test5\":1.8470568426},{\"test4\":1.0649735816,\"test5\":2.1068970678},{\"test4\":1.1965945658,\"test5\":2.4751799291},{\"test4\":1.7365728906,\"test5\":0.9207907616},{\"test4\":1.4421839755,\"test5\":1.6274505112},{\"test4\":0.3296179269,\"test5\":0.9044027346},{\"test4\":2.8023721,\"test5\":0.3857737532},{\"test4\":1.1614234361,\"test5\":0.9286973756},{\"test4\":0.0683747953,\"test5\":2.2669806068},{\"test4\":0.1974345792,\"test5\":1.8113945887},{\"test4\":2.4954119651,\"test5\":0.570111288},{\"test4\":0.2245776858,\"test5\":0.4644050054},{\"test4\":0.6801183124,\"test5\":2.1445725034},{\"test4\":1.0810547301,\"test5\":1.4672670511},{\"test4\":1.2681254323,\"test5\":2.766809902},{\"test4\":0.542040085,\"test5\":1.8196650604},{\"test4\":1.9954425437,\"test5\":2.2196599271},{\"test4\":2.8694069238,\"test5\":2.8662001339},{\"test4\":1.4109040253,\"test5\":2.2614449842},{\"test4\":2.6748603498,\"test5\":2.3775802586},{\"test4\":2.329128592,\"test5\":2.9133302207},{\"test4\":0.1659011209,\"test5\":0.8566866544},{\"test4\":0.7191621659,\"test5\":0.4278506016},{\"test4\":0.5648947686,\"test5\":0.6739362636},{\"test4\":2.1350743591,\"test5\":0.0173834181},{\"test4\":0.3920630063,\"test5\":0.0035548278},{\"test4\":0.7015539976,\"test5\":0.9176268446},{\"test4\":1.3502212756,\"test5\":0.4744748615},{\"test4\":1.6873369259,\"test5\":1.1222609948},{\"test4\":1.7302054597,\"test5\":1.8912905405},{\"test4\":0.4734661029,\"test5\":0.5383314839},{\"test4\":2.1430240795,\"test5\":0.6361265741},{\"test4\":1.6692390058,\"test5\":2.7942121991},{\"test4\":2.1410026973,\"test5\":2.214503934},{\"test4\":1.2551729946,\"test5\":0.4157586639},{\"test4\":0.8878061817,\"test5\":0.5394513966},{\"test4\":0.0206568515,\"test5\":2.6906274785},{\"test4\":1.5712937545,\"test5\":1.609397646},{\"test4\":2.3282285838,\"test5\":2.0858953754}]"
        }
       ],
       "height": 200,
       "legends": [
        {
         "fill": "color",
         "gradientLength": {
          "signal": "height - 16"
         },
         "title": "Count of Records"
        }
       ],
       "marks": [
        {
         "encode": {
          "update": {
           "fill": {
            "field": "__count",
            "scale": "color"
           },
           "x": {
            "field": "x_end",
            "scale": "x"
           },
           "x2": {
            "field": "x_start",
            "scale": "x"
           },
           "y": {
            "field": "y_end",
            "scale": "y"
           },
           "y2": {
            "field": "y_start",
            "scale": "y"
           }
          }
         },
         "from": {
          "data": "source_0"
         },
         "name": "marks",
         "style": [
          "rect"
         ],
         "type": "rect"
        },
        {
         "encode": {
          "enter": {
           "fill": {
            "value": "black"
           },
           "fillOpacity": {
            "value": 1
           }
          },
          "update": {
           "size": {
            "value": 10
           },
           "x": {
            "field": {
             "signal": "x_name"
            },
            "scale": "x"
           },
           "y": {
            "field": {
             "signal": "y_name"
            },
            "scale": "y"
           }
          }
         },
         "from": {
          "data": "points"
         },
         "type": "symbol"
        }
       ],
       "scales": [
        {
         "bins": {
          "signal": "x_bins"
         },
         "domain": {
          "signal": "[x_bins.start, x_bins.stop]"
         },
         "name": "x",
         "range": [
          0,
          {
           "signal": "width"
          }
         ],
         "type": "linear",
         "zero": false
        },
        {
         "bins": {
          "signal": "y_bins"
         },
         "domain": {
          "signal": "[y_bins.start, y_bins.stop]"
         },
         "name": "y",
         "range": [
          {
           "signal": "height"
          },
          0
         ],
         "type": "linear",
         "zero": false
        },
        {
         "domain": {
          "data": "source_0",
          "field": "__count"
         },
         "interpolate": "hcl",
         "name": "color",
         "range": "heatmap",
         "type": "linear",
         "zero": false
        }
       ],
       "signals": [
        {
         "bind": {
          "input": "range",
          "max": 100,
          "min": 1,
          "step": 1
         },
         "name": "bandwidthX",
         "value": 4
        },
        {
         "bind": {
          "input": "range",
          "max": 100,
          "min": 1,
          "step": 1
         },
         "name": "bandwidthY",
         "value": 4
        },
        {
         "bind": {
          "input": "text"
         },
         "name": "x_name",
         "value": "test4"
        },
        {
         "bind": {
          "input": "text"
         },
         "name": "y_name",
         "value": "test5"
        }
       ],
       "width": 300
      }
     },
     "metadata": {},
     "output_type": "display_data"
    }
   ],
   "source": [
    "import pandas as pd\n",
    "import numpy as np\n",
    "\n",
    "df = pd.DataFrame(3*np.random.random((100, 2)), columns=['test4', 'test5'])\n",
    "schema = plots.heatmap_scatter(data = df, x_bin=4, y_bin=4, x_name = \"test4\", y_name = \"test5\")\n",
    "plots.save_schema(schema, \"_schema.json\")\n",
    "plots.ipy_display(schema, format=\"interactive\")"
   ]
  },
  {
   "cell_type": "code",
   "execution_count": 7,
   "id": "6e083016",
   "metadata": {},
   "outputs": [
    {
     "name": "stdout",
     "output_type": "stream",
     "text": [
      "[0.   0.25 0.5  0.75 1.  ]\n",
      "0.25\n"
     ]
    },
    {
     "data": {
      "text/plain": [
       "'[{\"x_start\":-0.0555555556,\"x_end\":0.0555555556,\"y_start\":0.125,\"__count\":0.0},{\"x_start\":0.0555555556,\"x_end\":0.1666666667,\"y_start\":0.125,\"__count\":0.1111111111},{\"x_start\":0.1666666667,\"x_end\":0.2777777778,\"y_start\":0.125,\"__count\":0.2222222222},{\"x_start\":0.2777777778,\"x_end\":0.3888888889,\"y_start\":0.125,\"__count\":0.3333333333},{\"x_start\":0.3888888889,\"x_end\":0.5,\"y_start\":0.125,\"__count\":0.4444444444},{\"x_start\":0.5,\"x_end\":0.6111111111,\"y_start\":0.125,\"__count\":0.5555555556},{\"x_start\":0.6111111111,\"x_end\":0.7222222222,\"y_start\":0.125,\"__count\":0.6666666667},{\"x_start\":0.7222222222,\"x_end\":0.8333333333,\"y_start\":0.125,\"__count\":0.7777777778},{\"x_start\":0.8333333333,\"x_end\":0.9444444444,\"y_start\":0.125,\"__count\":0.8888888889},{\"x_start\":0.9444444444,\"x_end\":1.0555555556,\"y_start\":0.125,\"__count\":1.0},{\"x_start\":-0.0555555556,\"x_end\":0.0555555556,\"y_start\":0.375,\"__count\":0.25},{\"x_start\":0.0555555556,\"x_end\":0.1666666667,\"y_start\":0.375,\"__count\":0.2735793834},{\"x_start\":0.1666666667,\"x_end\":0.2777777778,\"y_start\":0.375,\"__count\":0.3344887383},{\"x_start\":0.2777777778,\"x_end\":0.3888888889,\"y_start\":0.375,\"__count\":0.4166666667},{\"x_start\":0.3888888889,\"x_end\":0.5,\"y_start\":0.375,\"__count\":0.5099322153},{\"x_start\":0.5,\"x_end\":0.6111111111,\"y_start\":0.375,\"__count\":0.6092142278},{\"x_start\":0.6111111111,\"x_end\":0.7222222222,\"y_start\":0.375,\"__count\":0.7120003121},{\"x_start\":0.7222222222,\"x_end\":0.8333333333,\"y_start\":0.375,\"__count\":0.8169689539},{\"x_start\":0.8333333333,\"x_end\":0.9444444444,\"y_start\":0.375,\"__count\":0.9233761188},{\"x_start\":0.9444444444,\"x_end\":1.0555555556,\"y_start\":0.375,\"__count\":1.0307764064},{\"x_start\":-0.0555555556,\"x_end\":0.0555555556,\"y_start\":0.625,\"__count\":0.5},{\"x_start\":0.0555555556,\"x_end\":0.1666666667,\"y_start\":0.625,\"__count\":0.5121969143},{\"x_start\":0.1666666667,\"x_end\":0.2777777778,\"y_start\":0.625,\"__count\":0.5471587668},{\"x_start\":0.2777777778,\"x_end\":0.3888888889,\"y_start\":0.625,\"__count\":0.6009252126},{\"x_start\":0.3888888889,\"x_end\":0.5,\"y_start\":0.625,\"__count\":0.6689774766},{\"x_start\":0.5,\"x_end\":0.6111111111,\"y_start\":0.625,\"__count\":0.7474235582},{\"x_start\":0.6111111111,\"x_end\":0.7222222222,\"y_start\":0.625,\"__count\":0.8333333333},{\"x_start\":0.7222222222,\"x_end\":0.8333333333,\"y_start\":0.625,\"__count\":0.9246287209},{\"x_start\":0.8333333333,\"x_end\":0.9444444444,\"y_start\":0.625,\"__count\":1.0198644306},{\"x_start\":0.9444444444,\"x_end\":1.0555555556,\"y_start\":0.625,\"__count\":1.1180339887},{\"x_start\":-0.0555555556,\"x_end\":0.0555555556,\"y_start\":0.875,\"__count\":0.75},{\"x_start\":0.0555555556,\"x_end\":0.1666666667,\"y_start\":0.875,\"__count\":0.7581857813},{\"x_start\":0.1666666667,\"x_end\":0.2777777778,\"y_start\":0.875,\"__count\":0.7822293245},{\"x_start\":0.2777777778,\"x_end\":0.3888888889,\"y_start\":0.875,\"__count\":0.8207381501},{\"x_start\":0.3888888889,\"x_end\":0.5,\"y_start\":0.875,\"__count\":0.8717974904},{\"x_start\":0.5,\"x_end\":0.6111111111,\"y_start\":0.875,\"__count\":0.9333498676},{\"x_start\":0.6111111111,\"x_end\":0.7222222222,\"y_start\":0.875,\"__count\":1.0034662149},{\"x_start\":0.7222222222,\"x_end\":0.8333333333,\"y_start\":0.875,\"__count\":1.0804805744},{\"x_start\":0.8333333333,\"x_end\":0.9444444444,\"y_start\":0.875,\"__count\":1.163023412},{\"x_start\":0.9444444444,\"x_end\":1.0555555556,\"y_start\":0.875,\"__count\":1.25},{\"x_start\":-0.0555555556,\"x_end\":0.0555555556,\"y_start\":1.125,\"__count\":1.0},{\"x_start\":0.0555555556,\"x_end\":0.1666666667,\"y_start\":1.125,\"__count\":1.0061539042},{\"x_start\":0.1666666667,\"x_end\":0.2777777778,\"y_start\":1.125,\"__count\":1.0243938286},{\"x_start\":0.2777777778,\"x_end\":0.3888888889,\"y_start\":1.125,\"__count\":1.0540925534},{\"x_start\":0.3888888889,\"x_end\":0.5,\"y_start\":1.125,\"__count\":1.0943175335},{\"x_start\":0.5,\"x_end\":0.6111111111,\"y_start\":1.125,\"__count\":1.1439589046},{\"x_start\":0.6111111111,\"x_end\":0.7222222222,\"y_start\":1.125,\"__count\":1.2018504252},{\"x_start\":0.7222222222,\"x_end\":0.8333333333,\"y_start\":1.125,\"__count\":1.2668615834},{\"x_start\":0.8333333333,\"x_end\":0.9444444444,\"y_start\":1.125,\"__count\":1.3379549532},{\"x_start\":0.9444444444,\"x_end\":1.0555555556,\"y_start\":1.125,\"__count\":1.4142135624}]'"
      ]
     },
     "execution_count": 7,
     "metadata": {},
     "output_type": "execute_result"
    }
   ],
   "source": [
    "import numpy as np\n",
    "import pandas as pd\n",
    "nx, ny = (10, 5)\n",
    "x = np.linspace(0, 1, nx)\n",
    "y, a = np.linspace(0, 1, ny, retstep = True)\n",
    "print(y)\n",
    "print(a)\n",
    "xv, yv = np.meshgrid(x, y)\n",
    "zz = np.sqrt(xv**2 + yv**2)\n",
    "\n",
    "def mesh_to_heatmap(xv, yv, zz):\n",
    "    end_x = (xv[0, 1] - xv[0, 0])/2\n",
    "    end_y = (yv[1, 0] - yv[0, 0])/2\n",
    "    dataset = pd.DataFrame({\"x_start\": xv.ravel() - end_x, \\\n",
    "                            \"x_end\": xv.ravel() + end_x, \\\n",
    "                                \"y_start\": yv.ravel() - end_y,     \n",
    "                                \"y_start\": yv.ravel() + end_y,\n",
    "                                '__count': zz.ravel()})\n",
    "    return dataset.to_json(orient=\"records\")\n",
    "    \n",
    "mesh_to_heatmap(xv, yv, zz)"
   ]
  }
 ],
 "metadata": {
  "kernelspec": {
   "display_name": "Python 3 (ipykernel)",
   "language": "python",
   "name": "python3"
  },
  "language_info": {
   "codemirror_mode": {
    "name": "ipython",
    "version": 3
   },
   "file_extension": ".py",
   "mimetype": "text/x-python",
   "name": "python",
   "nbconvert_exporter": "python",
   "pygments_lexer": "ipython3",
   "version": "3.10.11"
  }
 },
 "nbformat": 4,
 "nbformat_minor": 5
}
