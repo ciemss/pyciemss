{
 "cells": [
  {
   "cell_type": "code",
   "execution_count": 1,
   "id": "a1299176",
   "metadata": {},
   "outputs": [],
   "source": [
    "%load_ext autoreload\n",
    "%autoreload 2"
   ]
  },
  {
   "cell_type": "code",
   "execution_count": 2,
   "id": "5c1729f7-1b0d-4913-8048-01624c506cc5",
   "metadata": {},
   "outputs": [],
   "source": [
    "import networkx as nx\n",
    "from pyciemss.visuals import plots"
   ]
  },
  {
   "cell_type": "code",
   "execution_count": 3,
   "id": "997ef041-0312-4b83-bbe2-32a6ddfe3d6c",
   "metadata": {},
   "outputs": [],
   "source": [
    "g = nx.generators.barabasi_albert_graph(5, 3)"
   ]
  },
  {
   "cell_type": "code",
   "execution_count": 4,
   "id": "a4b1668c",
   "metadata": {},
   "outputs": [
    {
     "data": {
      "image/png": "[encoded data removed]",
      "text/plain": [
       "<IPython.core.display.Image object>"
      ]
     },
     "execution_count": 4,
     "metadata": {},
     "output_type": "execute_result"
    }
   ],
   "source": [
    "import random\n",
    "def rand_attributions():\n",
    "    possible = \"ABCD\"\n",
    "    return random.sample(possible, random.randint(1, len(possible)))\n",
    "\n",
    "def rand_label():\n",
    "    possible = \"TUVWXYZ\"\n",
    "    return random.randint(1, 10)\n",
    "    return random.sample(possible, 1)[0]\n",
    "\n",
    "node_properties = {n: {\"attribution\": rand_attributions(), \n",
    "                       \"label\": rand_label()}\n",
    "                    for n in g.nodes()}\n",
    "\n",
    "edge_attributions = {e: {\"attribution\": rand_attributions()} for e in g.edges()}\n",
    "\n",
    "nx.set_node_attributes(g, node_properties)\n",
    "nx.set_edge_attributes(g, edge_attributions)\n",
    "\n",
    "schema = plots.attributed_graph(g)\n",
    "plots.save_schema(schema, \"_schema.json\")\n",
    "plots.ipy_display(schema)"
   ]
  },
  {
   "cell_type": "code",
   "execution_count": 5,
   "id": "ece8d8e5",
   "metadata": {},
   "outputs": [
    {
     "name": "stdout",
     "output_type": "stream",
     "text": [
      "\n"
     ]
    },
    {
     "data": {
      "application/vnd.vega.v5+json": {
       "$schema": "https://vega.github.io/schema/vega/v5.json",
       "data": [
        {
         "name": "node-data",
         "values": [
          {
           "id": 0,
           "label": "n0"
          },
          {
           "id": 1,
           "label": "n1"
          },
          {
           "id": 2,
           "label": "n2"
          },
          {
           "id": 3,
           "label": "n3"
          },
          {
           "id": 4,
           "label": "n4"
          }
         ]
        },
        {
         "name": "link-data",
         "values": [
          {
           "source": 0,
           "target": 1
          },
          {
           "source": 0,
           "target": 2
          },
          {
           "source": 0,
           "target": 3
          },
          {
           "source": 0,
           "target": 4
          },
          {
           "source": 1,
           "target": 4
          },
          {
           "source": 2,
           "target": 4
          }
         ]
        }
       ],
       "description": "A node-link diagram with force-directed layout.",
       "height": 300,
       "legends": [
        {
         "stroke": "color",
         "symbolType": "stroke",
         "title": "Group"
        }
       ],
       "marks": [
        {
         "encode": {
          "enter": {
           "fill": {
            "field": "group",
            "scale": "color"
           },
           "stroke": {
            "value": "white"
           }
          },
          "update": {
           "cursor": {
            "value": "pointer"
           },
           "size": {
            "signal": "2 * nodeRadius * nodeRadius"
           }
          }
         },
         "from": {
          "data": "node-data"
         },
         "name": "nodes",
         "on": [
          {
           "modify": "node",
           "trigger": "fix",
           "values": "fix === true ? {fx: node.x, fy: node.y} : {fx: fix[0], fy: fix[1]}"
          },
          {
           "modify": "node",
           "trigger": "!fix",
           "values": "{fx: null, fy: null}"
          }
         ],
         "transform": [
          {
           "forces": [
            {
             "force": "center",
             "x": {
              "signal": "cx"
             },
             "y": {
              "signal": "cy"
             }
            },
            {
             "force": "collide",
             "radius": {
              "signal": "nodeRadius"
             }
            },
            {
             "force": "nbody",
             "strength": {
              "signal": "nodeCharge"
             }
            },
            {
             "distance": {
              "signal": "linkDistance"
             },
             "force": "link",
             "links": "link-data"
            }
           ],
           "iterations": 300,
           "restart": {
            "signal": "restart"
           },
           "signal": "force",
           "static": {
            "signal": "static"
           },
           "type": "force"
          }
         ],
         "type": "symbol",
         "zindex": 1
        },
        {
         "encode": {
          "enter": {
           "align": {
            "value": "center"
           },
           "baseline": {
            "value": "middle"
           },
           "fill": {
            "value": "black"
           },
           "fontSize": {
            "value": 15
           },
           "text": {
            "field": "datum.label"
           }
          },
          "update": {
           "x": {
            "field": "x"
           },
           "y": {
            "field": "y"
           }
          }
         },
         "from": {
          "data": "nodes"
         },
         "interactive": false,
         "name": "labels",
         "transform": [
          {
           "as": "y",
           "expr": "datum.y",
           "type": "formula"
          }
         ],
         "type": "text",
         "zindex": 2
        },
        {
         "encode": {
          "update": {
           "stroke": {
            "value": "#ccc"
           },
           "strokeWidth": {
            "value": 0.5
           }
          }
         },
         "from": {
          "data": "link-data"
         },
         "interactive": false,
         "transform": [
          {
           "require": {
            "signal": "force"
           },
           "shape": "line",
           "sourceX": "datum.source.x",
           "sourceY": "datum.source.y",
           "targetX": "datum.target.x",
           "targetY": "datum.target.y",
           "type": "linkpath"
          }
         ],
         "type": "path"
        }
       ],
       "padding": 0,
       "scales": [
        {
         "domain": {
          "data": "node-data",
          "field": "group"
         },
         "name": "color",
         "range": {
          "scheme": "category20c"
         },
         "type": "ordinal"
        }
       ],
       "signals": [
        {
         "name": "cx",
         "update": "width / 2"
        },
        {
         "name": "cy",
         "update": "height / 2"
        },
        {
         "name": "nodeRadius",
         "value": 15
        },
        {
         "name": "nodeCharge",
         "value": -80
        },
        {
         "name": "linkDistance",
         "value": 80
        },
        {
         "bind": {
          "input": "checkbox"
         },
         "name": "static",
         "value": true
        },
        {
         "description": "State variable for active node fix status.",
         "name": "fix",
         "on": [
          {
           "events": "symbol:mouseout[!event.buttons], window:mouseup",
           "update": "false"
          },
          {
           "events": "symbol:mouseover",
           "update": "fix || true"
          },
          {
           "events": "[symbol:mousedown, window:mouseup] > window:mousemove!",
           "force": true,
           "update": "xy()"
          }
         ],
         "value": false
        },
        {
         "description": "Graph node most recently interacted with.",
         "name": "node",
         "on": [
          {
           "events": "symbol:mouseover",
           "update": "fix === true ? item() : node"
          }
         ],
         "value": null
        },
        {
         "description": "Flag to restart Force simulation upon data changes.",
         "name": "restart",
         "on": [
          {
           "events": {
            "signal": "fix"
           },
           "update": "fix && fix.length"
          }
         ],
         "value": false
        }
       ],
       "width": 300
      }
     },
     "metadata": {},
     "output_type": "display_data"
    }
   ],
   "source": [
    "g = nx.generators.barabasi_albert_graph(5, 3)\n",
    "nx.set_node_attributes(g, {k:f\"n{i}\" for i, k in enumerate(g.nodes)}, \"label\")\n",
    "schema = plots.spring_force_graph(g, node_labels=\"label\")\n",
    "plots.save_schema(schema, \"_schema.json\")\n",
    "plots.ipy_display(schema, format=\"interactive\")"
   ]
  },
  {
   "cell_type": "code",
   "execution_count": 6,
   "id": "67ab6bf5",
   "metadata": {},
   "outputs": [
    {
     "name": "stdout",
     "output_type": "stream",
     "text": [
      "\n"
     ]
    },
    {
     "data": {
      "application/vnd.vega.v5+json": {
       "$schema": "https://vega.github.io/schema/vega/v5.json",
       "axes": [
        {
         "labelOverlap": true,
         "orient": "bottom",
         "scale": "x",
         "tickCount": {
          "signal": "ceil(width/3)"
         },
         "title": {
          "signal": "x_name"
         }
        },
        {
         "labelOverlap": true,
         "orient": "left",
         "scale": "y",
         "tickCount": {
          "signal": "ceil(height/3)"
         },
         "title": {
          "signal": "y_name"
         }
        }
       ],
       "data": [
        {
         "name": "points",
         "values": [
          {
           "test4": 1.4985307211641574,
           "test5": 2.154607120895615
          },
          {
           "test4": 0.18609256309747202,
           "test5": 2.3105514262657434
          },
          {
           "test4": 0.47365861217910066,
           "test5": 2.6389708988828726
          },
          {
           "test4": 0.6529136273654698,
           "test5": 1.8746561195115532
          },
          {
           "test4": 1.0258656914380422,
           "test5": 2.3491502520810226
          },
          {
           "test4": 0.13522530872952987,
           "test5": 0.49398692445857395
          },
          {
           "test4": 1.4751072740157576,
           "test5": 1.6431532503705286
          },
          {
           "test4": 2.2566940412156447,
           "test5": 1.3195861907995494
          },
          {
           "test4": 1.8196267913668573,
           "test5": 1.1753115113703947
          },
          {
           "test4": 1.1598924368134358,
           "test5": 0.47374993866559056
          },
          {
           "test4": 2.152795947691504,
           "test5": 1.9353053773207733
          },
          {
           "test4": 2.0077608975753667,
           "test5": 1.8668277621406988
          },
          {
           "test4": 1.2696228845606785,
           "test5": 2.4119750574743666
          },
          {
           "test4": 1.5552730789901883,
           "test5": 1.3823309742853707
          },
          {
           "test4": 2.709014544885976,
           "test5": 1.0035561976902507
          },
          {
           "test4": 1.4859239549423227,
           "test5": 2.853648281882421
          },
          {
           "test4": 1.8797520124101714,
           "test5": 0.07172509031605623
          },
          {
           "test4": 0.0529950581500499,
           "test5": 2.8849215687763756
          },
          {
           "test4": 2.799792617436673,
           "test5": 2.647288912100909
          },
          {
           "test4": 2.504093490837053,
           "test5": 2.5890733832651955
          },
          {
           "test4": 0.5305829920906653,
           "test5": 0.5705606580044874
          },
          {
           "test4": 1.9588182814646262,
           "test5": 0.18310103319131665
          },
          {
           "test4": 1.1272266850222323,
           "test5": 2.889369324890685
          },
          {
           "test4": 1.3644342002964345,
           "test5": 0.37746594810276013
          },
          {
           "test4": 1.224295775676109,
           "test5": 1.0141927872142495
          },
          {
           "test4": 1.2181870783617077,
           "test5": 1.3313868743709856
          },
          {
           "test4": 0.5467254294411026,
           "test5": 0.7905630441613349
          },
          {
           "test4": 0.46550432319129564,
           "test5": 2.60211174598442
          },
          {
           "test4": 2.2528919924217035,
           "test5": 0.4581321569558453
          },
          {
           "test4": 1.456860633335322,
           "test5": 2.274943935477351
          },
          {
           "test4": 1.3055831319399918,
           "test5": 1.84444708551169
          },
          {
           "test4": 0.5679788670259793,
           "test5": 1.1630667246746462
          },
          {
           "test4": 2.5740719917519033,
           "test5": 0.10185120756517496
          },
          {
           "test4": 0.7301914277196087,
           "test5": 1.3786499822600482
          },
          {
           "test4": 1.9109344303280946,
           "test5": 2.943297512416426
          },
          {
           "test4": 2.25540894512815,
           "test5": 2.212723565914129
          },
          {
           "test4": 2.3352075983638336,
           "test5": 0.783406207286168
          },
          {
           "test4": 0.02283136835837163,
           "test5": 0.18181898145991882
          },
          {
           "test4": 0.02475758544677964,
           "test5": 2.2003336934933166
          },
          {
           "test4": 2.327738139987348,
           "test5": 1.4159487983246937
          },
          {
           "test4": 2.2383654646991924,
           "test5": 1.212455454199069
          },
          {
           "test4": 1.4924640059318905,
           "test5": 2.5506066992594487
          },
          {
           "test4": 1.698916644404029,
           "test5": 1.2745598107925749
          },
          {
           "test4": 1.3939399413961238,
           "test5": 2.814773718806941
          },
          {
           "test4": 1.1893867039570174,
           "test5": 1.061832360000596
          },
          {
           "test4": 0.7120596752879254,
           "test5": 2.2821828781848867
          },
          {
           "test4": 1.656245113274614,
           "test5": 2.919580489671201
          },
          {
           "test4": 2.3013108123643486,
           "test5": 2.7428716031493012
          },
          {
           "test4": 2.0477961132953,
           "test5": 1.3012967933635218
          },
          {
           "test4": 1.779260771043534,
           "test5": 0.7453085761290418
          },
          {
           "test4": 1.5713491811490585,
           "test5": 1.1339159944917174
          },
          {
           "test4": 2.148226191158722,
           "test5": 0.2866846606620249
          },
          {
           "test4": 2.4079038863512157,
           "test5": 2.8526670686670874
          },
          {
           "test4": 1.1265835177179668,
           "test5": 0.6042723263631427
          },
          {
           "test4": 2.8894290018953184,
           "test5": 2.232964421668804
          },
          {
           "test4": 0.4261770042864017,
           "test5": 2.614597186336121
          },
          {
           "test4": 1.9974289628417854,
           "test5": 1.995591378169098
          },
          {
           "test4": 0.8363946407444185,
           "test5": 0.3664487313636553
          },
          {
           "test4": 0.7360817660361261,
           "test5": 0.08553153557376991
          },
          {
           "test4": 2.8332770256710953,
           "test5": 2.449405333195559
          },
          {
           "test4": 2.084704834237357,
           "test5": 2.3506502735763632
          },
          {
           "test4": 1.2228548082550597,
           "test5": 0.5938350538368318
          },
          {
           "test4": 0.1963360913772535,
           "test5": 2.7691410954572495
          },
          {
           "test4": 1.9578881564309953,
           "test5": 0.13676158086018042
          },
          {
           "test4": 1.0343131983677738,
           "test5": 1.0882257445349262
          },
          {
           "test4": 1.5796951658307956,
           "test5": 0.8327815391775865
          },
          {
           "test4": 0.21720319258520926,
           "test5": 1.3195551914172206
          },
          {
           "test4": 2.8236483893153292,
           "test5": 1.5395262617027394
          },
          {
           "test4": 1.798060810555087,
           "test5": 0.020931837549403864
          },
          {
           "test4": 2.396296032427898,
           "test5": 1.1930258856302352
          },
          {
           "test4": 1.4233328943912555,
           "test5": 1.351803617437887
          },
          {
           "test4": 2.2397704096501783,
           "test5": 2.9929655425738595
          },
          {
           "test4": 2.5754868086614873,
           "test5": 2.8824192610679757
          },
          {
           "test4": 1.246658001754116,
           "test5": 0.5743531555783497
          },
          {
           "test4": 0.9700506985169077,
           "test5": 0.05005928237258972
          },
          {
           "test4": 1.9072980088949423,
           "test5": 0.6224974086439526
          },
          {
           "test4": 2.295107597888712,
           "test5": 0.08047138751003646
          },
          {
           "test4": 1.5378463652613958,
           "test5": 2.126388105070153
          },
          {
           "test4": 1.2524981960146357,
           "test5": 2.1941420922425476
          },
          {
           "test4": 0.570420306441215,
           "test5": 1.039056253169505
          },
          {
           "test4": 0.8298752388413594,
           "test5": 1.0421367688193477
          },
          {
           "test4": 0.9273114340249197,
           "test5": 0.4162711053077539
          },
          {
           "test4": 1.6566035678780215,
           "test5": 2.3041243121435
          },
          {
           "test4": 2.972974740688411,
           "test5": 0.09131923703460687
          },
          {
           "test4": 0.47973366861308564,
           "test5": 2.9145794048449583
          },
          {
           "test4": 1.7028140362780348,
           "test5": 0.8732078555783949
          },
          {
           "test4": 0.14184154388103598,
           "test5": 1.4349753541838812
          },
          {
           "test4": 1.8523605259580773,
           "test5": 0.9412051066833718
          },
          {
           "test4": 2.0331406123411186,
           "test5": 0.8940637158429265
          },
          {
           "test4": 1.272302136072152,
           "test5": 0.3367990685785932
          },
          {
           "test4": 2.830511701546474,
           "test5": 0.6094527448958251
          },
          {
           "test4": 2.5605583662839733,
           "test5": 2.0510964757723245
          },
          {
           "test4": 2.0960847244251997,
           "test5": 2.4839298036892785
          },
          {
           "test4": 1.407905427566821,
           "test5": 1.4025349022394389
          },
          {
           "test4": 1.7512156811245276,
           "test5": 0.14200898693980002
          },
          {
           "test4": 1.8430702570666848,
           "test5": 0.6992728216108067
          },
          {
           "test4": 2.0966538476742502,
           "test5": 2.0519601860923427
          },
          {
           "test4": 2.8237054684976557,
           "test5": 0.4064742462852521
          },
          {
           "test4": 1.2357399178375341,
           "test5": 1.8528981769588575
          },
          {
           "test4": 1.7453568506662316,
           "test5": 2.719417044089297
          }
         ]
        },
        {
         "name": "heatmap_bins",
         "source": "points",
         "transform": [
          {
           "field": {
            "signal": "x_name"
           },
           "signal": "x_extent",
           "type": "extent"
          },
          {
           "as": [
            "x_start",
            "x_end"
           ],
           "extent": {
            "signal": "x_extent"
           },
           "field": {
            "signal": "x_name"
           },
           "maxbins": {
            "signal": "max_x_bins"
           },
           "signal": "x_bins",
           "type": "bin"
          },
          {
           "field": {
            "signal": "y_name"
           },
           "signal": "y_extent",
           "type": "extent"
          },
          {
           "as": [
            "y_start",
            "y_end"
           ],
           "extent": {
            "signal": "y_extent"
           },
           "field": {
            "signal": "y_name"
           },
           "maxbins": {
            "signal": "max_y_bins"
           },
           "signal": "y_bins",
           "type": "bin"
          },
          {
           "as": [
            "__count"
           ],
           "groupby": [
            "x_start",
            "x_end",
            "y_start",
            "y_end"
           ],
           "ops": [
            "count"
           ],
           "type": "aggregate"
          }
         ]
        }
       ],
       "height": 200,
       "legends": [
        {
         "fill": "color",
         "gradientLength": {
          "signal": "height - 16"
         },
         "title": "Count of Records"
        }
       ],
       "marks": [
        {
         "encode": {
          "update": {
           "fill": {
            "field": "__count",
            "scale": "color"
           },
           "x": {
            "field": "x_end",
            "scale": "x"
           },
           "x2": {
            "field": "x_start",
            "scale": "x"
           },
           "y": {
            "field": "y_end",
            "scale": "y"
           },
           "y2": {
            "field": "y_start",
            "scale": "y"
           }
          }
         },
         "from": {
          "data": "heatmap_bins"
         },
         "name": "marks",
         "style": [
          "rect"
         ],
         "type": "rect"
        },
        {
         "encode": {
          "enter": {
           "fill": {
            "value": "black"
           },
           "fillOpacity": {
            "value": 1
           }
          },
          "update": {
           "size": {
            "value": 10
           },
           "x": {
            "field": {
             "signal": "x_name"
            },
            "scale": "x"
           },
           "y": {
            "field": {
             "signal": "y_name"
            },
            "scale": "y"
           }
          }
         },
         "from": {
          "data": "points"
         },
         "type": "symbol"
        }
       ],
       "scales": [
        {
         "bins": {
          "signal": "x_bins"
         },
         "domain": {
          "signal": "[x_bins.start, x_bins.stop]"
         },
         "name": "x",
         "range": [
          0,
          {
           "signal": "width"
          }
         ],
         "type": "linear",
         "zero": false
        },
        {
         "bins": {
          "signal": "y_bins"
         },
         "domain": {
          "signal": "[y_bins.start, y_bins.stop]"
         },
         "name": "y",
         "range": [
          {
           "signal": "height"
          },
          0
         ],
         "type": "linear",
         "zero": false
        },
        {
         "domain": {
          "data": "heatmap_bins",
          "field": "__count"
         },
         "interpolate": "hcl",
         "name": "color",
         "range": "heatmap",
         "type": "linear",
         "zero": true
        }
       ],
       "signals": [
        {
         "bind": {
          "input": "range",
          "max": 100,
          "min": 1,
          "step": 1
         },
         "description": "Max number X bins",
         "name": "max_x_bins",
         "value": 4
        },
        {
         "bind": {
          "input": "range",
          "max": 100,
          "min": 1,
          "step": 1
         },
         "description": "Max number Y bins",
         "name": "max_y_bins",
         "value": 4
        },
        {
         "name": "x_name",
         "value": "test4"
        },
        {
         "name": "y_name",
         "value": "test5"
        }
       ],
       "width": 300
      }
     },
     "metadata": {},
     "output_type": "display_data"
    }
   ],
   "source": [
    "import pandas as pd\n",
    "import numpy as np\n",
    "\n",
    "df = pd.DataFrame(3*np.random.random((100, 2)), columns=['test4', 'test5'])\n",
    "schema = plots.heatmap_scatter(df, max_x_bins=4, max_y_bins=4)\n",
    "plots.save_schema(schema, \"_schema.json\")\n",
    "plots.ipy_display(schema, format=\"interactive\")"
   ]
  },
  {
   "cell_type": "code",
   "execution_count": 7,
   "id": "6e083016",
   "metadata": {},
   "outputs": [
    {
     "name": "stdout",
     "output_type": "stream",
     "text": [
      "\n"
     ]
    },
    {
     "data": {
      "application/vnd.vega.v5+json": {
       "$schema": "https://vega.github.io/schema/vega/v5.json",
       "axes": [
        {
         "labelOverlap": true,
         "orient": "bottom",
         "scale": "x",
         "tickCount": {
          "signal": "ceil(width/3)"
         },
         "title": "gamma"
        },
        {
         "labelOverlap": true,
         "orient": "left",
         "scale": "y",
         "tickCount": {
          "signal": "ceil(height/3)"
         },
         "title": "alpha"
        }
       ],
       "data": [
        {
         "name": "points",
         "values": [
          {
           "alpha": 5.9784883316857185,
           "gamma": 8.945626575409701
          },
          {
           "alpha": 1.97190570168565,
           "gamma": 5.603352372388732
          },
          {
           "alpha": 8.091437097306919,
           "gamma": 3.766757411797653
          },
          {
           "alpha": 6.719283797935544,
           "gamma": 6.592948316435251
          },
          {
           "alpha": 0.8302807742935314,
           "gamma": 6.974357899271521
          },
          {
           "alpha": 8.97712332766224,
           "gamma": 5.630352422593903
          },
          {
           "alpha": 0.8980978433162434,
           "gamma": 1.9296292855161856
          },
          {
           "alpha": 1.114907196144591,
           "gamma": 6.077597682137238
          },
          {
           "alpha": 9.547709481680823,
           "gamma": 5.146462909515672
          },
          {
           "alpha": 1.9988505366594433,
           "gamma": 5.698685596568787
          },
          {
           "alpha": 2.0175887787394418,
           "gamma": 2.096583695160273
          },
          {
           "alpha": 0.11087500439810105,
           "gamma": 1.0573980617461343
          },
          {
           "alpha": 1.6543172193979983,
           "gamma": 1.2306383886016992
          },
          {
           "alpha": 8.22860414224558,
           "gamma": 3.0502711540460425
          },
          {
           "alpha": 1.0321781510987482,
           "gamma": 1.6396565189340295
          },
          {
           "alpha": 4.49595306492898,
           "gamma": 8.283032157180251
          },
          {
           "alpha": 0.2743003894776863,
           "gamma": 9.86366496864936
          },
          {
           "alpha": 1.8146260626588373,
           "gamma": 9.709411574895036
          },
          {
           "alpha": 6.963656671726587,
           "gamma": 2.6868158714961443
          },
          {
           "alpha": 6.536821218336284,
           "gamma": 2.197035257435166
          },
          {
           "alpha": 1.5149135921322043,
           "gamma": 8.436156651617777
          },
          {
           "alpha": 0.2785972085521615,
           "gamma": 2.2325938777671714
          },
          {
           "alpha": 3.3181276403154145,
           "gamma": 8.717358568443666
          },
          {
           "alpha": 2.474106358507134,
           "gamma": 0.386641491579266
          },
          {
           "alpha": 5.296282935101208,
           "gamma": 3.1728881483746827
          },
          {
           "alpha": 5.718592403580539,
           "gamma": 3.566812591038677
          },
          {
           "alpha": 3.689487911148607,
           "gamma": 1.9628702800775388
          },
          {
           "alpha": 2.9217203324791994,
           "gamma": 6.839246117153723
          },
          {
           "alpha": 2.8443453227487425,
           "gamma": 7.505494523642388
          },
          {
           "alpha": 2.2950335516947016,
           "gamma": 4.796755286344181
          },
          {
           "alpha": 3.096256778889787,
           "gamma": 2.4210371241552298
          },
          {
           "alpha": 6.793706575831284,
           "gamma": 5.565714011997791
          },
          {
           "alpha": 1.0881512415680417,
           "gamma": 9.184776428199731
          },
          {
           "alpha": 5.575685899560202,
           "gamma": 9.229475957746583
          },
          {
           "alpha": 0.7429916874172227,
           "gamma": 1.4436889581099366
          },
          {
           "alpha": 4.014391203442362,
           "gamma": 5.348156464650822
          },
          {
           "alpha": 9.930139858319244,
           "gamma": 2.251169532724686
          },
          {
           "alpha": 2.3775880339844138,
           "gamma": 2.499144372252969
          },
          {
           "alpha": 8.716506264004936,
           "gamma": 3.466037761395526
          },
          {
           "alpha": 9.56649351937782,
           "gamma": 3.095125195602871
          },
          {
           "alpha": 5.194171921508484,
           "gamma": 8.49882338800778
          },
          {
           "alpha": 5.433498150345617,
           "gamma": 4.9870936458408615
          },
          {
           "alpha": 9.044828467632017,
           "gamma": 4.887782135547382
          },
          {
           "alpha": 9.80080449102157,
           "gamma": 6.133047017336271
          },
          {
           "alpha": 6.893436106345878,
           "gamma": 9.412341151775985
          },
          {
           "alpha": 0.4915038369941327,
           "gamma": 5.915008409057517
          },
          {
           "alpha": 6.45628844732773,
           "gamma": 6.032006215570812
          },
          {
           "alpha": 8.730086941424268,
           "gamma": 3.215246885129157
          },
          {
           "alpha": 6.339664301750898,
           "gamma": 9.326154995310219
          },
          {
           "alpha": 1.186880390424453,
           "gamma": 5.05998632702063
          },
          {
           "alpha": 3.543481197691667,
           "gamma": 1.2121177958635643
          },
          {
           "alpha": 3.8032987466926604,
           "gamma": 7.998051073304431
          },
          {
           "alpha": 0.16156623215720645,
           "gamma": 9.936193111653665
          },
          {
           "alpha": 8.088889375699225,
           "gamma": 4.390966189990508
          },
          {
           "alpha": 0.8684176232504204,
           "gamma": 2.7592914315896175
          },
          {
           "alpha": 9.371691990461535,
           "gamma": 3.5105549898062294
          },
          {
           "alpha": 7.135681016473187,
           "gamma": 0.16381541400300348
          },
          {
           "alpha": 6.198539755106342,
           "gamma": 8.667924340029126
          },
          {
           "alpha": 7.204821246007685,
           "gamma": 3.9624958931966745
          },
          {
           "alpha": 0.542091357290958,
           "gamma": 3.62803282290856
          },
          {
           "alpha": 4.502193386808278,
           "gamma": 4.741881575265121
          },
          {
           "alpha": 6.3946016136889305,
           "gamma": 5.689904025947912
          },
          {
           "alpha": 9.206447906015686,
           "gamma": 2.878361477635888
          },
          {
           "alpha": 3.0701403484232657,
           "gamma": 0.012621606291097764
          },
          {
           "alpha": 9.179441021534426,
           "gamma": 2.49402239024802
          },
          {
           "alpha": 4.324923826776729,
           "gamma": 4.216521090519461
          },
          {
           "alpha": 5.429449136208006,
           "gamma": 7.9352614686759715
          },
          {
           "alpha": 0.11309549462388935,
           "gamma": 2.4031999090392606
          },
          {
           "alpha": 4.8729059893101105,
           "gamma": 1.8194287226187922
          },
          {
           "alpha": 2.7229181599246646,
           "gamma": 6.82608287194432
          },
          {
           "alpha": 2.120110573972467,
           "gamma": 4.486804597037244
          },
          {
           "alpha": 6.462215975367914,
           "gamma": 9.664411381388742
          },
          {
           "alpha": 5.944719068984467,
           "gamma": 0.8059835924413405
          },
          {
           "alpha": 6.421942274914542,
           "gamma": 7.021311096530556
          },
          {
           "alpha": 2.399593095457152,
           "gamma": 3.1551458751475514
          },
          {
           "alpha": 1.6094802807049036,
           "gamma": 1.7974988018399929
          },
          {
           "alpha": 0.7735513764777624,
           "gamma": 0.3605064383241785
          },
          {
           "alpha": 9.968517986892211,
           "gamma": 5.6595050426192675
          },
          {
           "alpha": 5.057528429110262,
           "gamma": 2.680764515429328
          },
          {
           "alpha": 9.61679099480759,
           "gamma": 6.284721433093141
          },
          {
           "alpha": 9.287305878916953,
           "gamma": 2.8203088845495374
          },
          {
           "alpha": 1.0716279774521809,
           "gamma": 0.6176054154997013
          },
          {
           "alpha": 3.998391037373048,
           "gamma": 6.168454220210502
          },
          {
           "alpha": 5.518414970533564,
           "gamma": 2.0090544995198902
          },
          {
           "alpha": 4.878017262401734,
           "gamma": 8.680525562900204
          },
          {
           "alpha": 7.887914662167519,
           "gamma": 6.687600297706644
          },
          {
           "alpha": 5.955583903704154,
           "gamma": 9.522290412961071
          },
          {
           "alpha": 7.318022175779435,
           "gamma": 1.3274612866805335
          },
          {
           "alpha": 2.3629151886593283,
           "gamma": 7.351405954116991
          },
          {
           "alpha": 2.2418618806852186,
           "gamma": 6.6030199401732155
          },
          {
           "alpha": 8.01875971303388,
           "gamma": 6.433771120559827
          },
          {
           "alpha": 5.585783359608416,
           "gamma": 5.966928279523178
          },
          {
           "alpha": 8.970646831230432,
           "gamma": 7.487108631296909
          },
          {
           "alpha": 1.7203414856913113,
           "gamma": 7.496808099473677
          },
          {
           "alpha": 3.7615505683990236,
           "gamma": 4.665213854056351
          },
          {
           "alpha": 4.890100371737165,
           "gamma": 6.713397497814646
          },
          {
           "alpha": 1.5132750750905566,
           "gamma": 0.4791103262244045
          },
          {
           "alpha": 4.5830335131339535,
           "gamma": 1.7743642674865034
          },
          {
           "alpha": 7.280682169822569,
           "gamma": 2.3118861486970363
          },
          {
           "alpha": 8.517101335669354,
           "gamma": 0.6752709207759078
          }
         ]
        },
        {
         "name": "mesh",
         "values": [
          {
           "__count": 0,
           "x_end": 0.5555555555555556,
           "x_start": -0.5555555555555556,
           "y_end": 0.5555555555555556,
           "y_start": -0.5555555555555556
          },
          {
           "__count": 1.234567901234568,
           "x_end": 1.6666666666666667,
           "x_start": 0.5555555555555556,
           "y_end": 0.5555555555555556,
           "y_start": -0.5555555555555556
          },
          {
           "__count": 4.938271604938272,
           "x_end": 2.7777777777777777,
           "x_start": 1.6666666666666667,
           "y_end": 0.5555555555555556,
           "y_start": -0.5555555555555556
          },
          {
           "__count": 11.111111111111112,
           "x_end": 3.8888888888888893,
           "x_start": 2.7777777777777777,
           "y_end": 0.5555555555555556,
           "y_start": -0.5555555555555556
          },
          {
           "__count": 19.75308641975309,
           "x_end": 5,
           "x_start": 3.8888888888888893,
           "y_end": 0.5555555555555556,
           "y_start": -0.5555555555555556
          },
          {
           "__count": 30.864197530864196,
           "x_end": 6.111111111111111,
           "x_start": 5,
           "y_end": 0.5555555555555556,
           "y_start": -0.5555555555555556
          },
          {
           "__count": 44.44444444444445,
           "x_end": 7.222222222222222,
           "x_start": 6.111111111111112,
           "y_end": 0.5555555555555556,
           "y_start": -0.5555555555555556
          },
          {
           "__count": 60.49382716049384,
           "x_end": 8.333333333333334,
           "x_start": 7.222222222222223,
           "y_end": 0.5555555555555556,
           "y_start": -0.5555555555555556
          },
          {
           "__count": 79.01234567901236,
           "x_end": 9.444444444444445,
           "x_start": 8.333333333333334,
           "y_end": 0.5555555555555556,
           "y_start": -0.5555555555555556
          },
          {
           "__count": 100,
           "x_end": 10.555555555555555,
           "x_start": 9.444444444444445,
           "y_end": 0.5555555555555556,
           "y_start": -0.5555555555555556
          },
          {
           "__count": 1.234567901234568,
           "x_end": 0.5555555555555556,
           "x_start": -0.5555555555555556,
           "y_end": 1.6666666666666667,
           "y_start": 0.5555555555555556
          },
          {
           "__count": 2.469135802469136,
           "x_end": 1.6666666666666667,
           "x_start": 0.5555555555555556,
           "y_end": 1.6666666666666667,
           "y_start": 0.5555555555555556
          },
          {
           "__count": 6.17283950617284,
           "x_end": 2.7777777777777777,
           "x_start": 1.6666666666666667,
           "y_end": 1.6666666666666667,
           "y_start": 0.5555555555555556
          },
          {
           "__count": 12.34567901234568,
           "x_end": 3.8888888888888893,
           "x_start": 2.7777777777777777,
           "y_end": 1.6666666666666667,
           "y_start": 0.5555555555555556
          },
          {
           "__count": 20.98765432098766,
           "x_end": 5,
           "x_start": 3.8888888888888893,
           "y_end": 1.6666666666666667,
           "y_start": 0.5555555555555556
          },
          {
           "__count": 32.098765432098766,
           "x_end": 6.111111111111111,
           "x_start": 5,
           "y_end": 1.6666666666666667,
           "y_start": 0.5555555555555556
          },
          {
           "__count": 45.67901234567902,
           "x_end": 7.222222222222222,
           "x_start": 6.111111111111112,
           "y_end": 1.6666666666666667,
           "y_start": 0.5555555555555556
          },
          {
           "__count": 61.728395061728406,
           "x_end": 8.333333333333334,
           "x_start": 7.222222222222223,
           "y_end": 1.6666666666666667,
           "y_start": 0.5555555555555556
          },
          {
           "__count": 80.24691358024693,
           "x_end": 9.444444444444445,
           "x_start": 8.333333333333334,
           "y_end": 1.6666666666666667,
           "y_start": 0.5555555555555556
          },
          {
           "__count": 101.23456790123457,
           "x_end": 10.555555555555555,
           "x_start": 9.444444444444445,
           "y_end": 1.6666666666666667,
           "y_start": 0.5555555555555556
          },
          {
           "__count": 4.938271604938272,
           "x_end": 0.5555555555555556,
           "x_start": -0.5555555555555556,
           "y_end": 2.7777777777777777,
           "y_start": 1.6666666666666667
          },
          {
           "__count": 6.17283950617284,
           "x_end": 1.6666666666666667,
           "x_start": 0.5555555555555556,
           "y_end": 2.7777777777777777,
           "y_start": 1.6666666666666667
          },
          {
           "__count": 9.876543209876544,
           "x_end": 2.7777777777777777,
           "x_start": 1.6666666666666667,
           "y_end": 2.7777777777777777,
           "y_start": 1.6666666666666667
          },
          {
           "__count": 16.049382716049386,
           "x_end": 3.8888888888888893,
           "x_start": 2.7777777777777777,
           "y_end": 2.7777777777777777,
           "y_start": 1.6666666666666667
          },
          {
           "__count": 24.69135802469136,
           "x_end": 5,
           "x_start": 3.8888888888888893,
           "y_end": 2.7777777777777777,
           "y_start": 1.6666666666666667
          },
          {
           "__count": 35.80246913580247,
           "x_end": 6.111111111111111,
           "x_start": 5,
           "y_end": 2.7777777777777777,
           "y_start": 1.6666666666666667
          },
          {
           "__count": 49.38271604938272,
           "x_end": 7.222222222222222,
           "x_start": 6.111111111111112,
           "y_end": 2.7777777777777777,
           "y_start": 1.6666666666666667
          },
          {
           "__count": 65.4320987654321,
           "x_end": 8.333333333333334,
           "x_start": 7.222222222222223,
           "y_end": 2.7777777777777777,
           "y_start": 1.6666666666666667
          },
          {
           "__count": 83.95061728395063,
           "x_end": 9.444444444444445,
           "x_start": 8.333333333333334,
           "y_end": 2.7777777777777777,
           "y_start": 1.6666666666666667
          },
          {
           "__count": 104.93827160493828,
           "x_end": 10.555555555555555,
           "x_start": 9.444444444444445,
           "y_end": 2.7777777777777777,
           "y_start": 1.6666666666666667
          },
          {
           "__count": 11.111111111111112,
           "x_end": 0.5555555555555556,
           "x_start": -0.5555555555555556,
           "y_end": 3.8888888888888893,
           "y_start": 2.7777777777777777
          },
          {
           "__count": 12.34567901234568,
           "x_end": 1.6666666666666667,
           "x_start": 0.5555555555555556,
           "y_end": 3.8888888888888893,
           "y_start": 2.7777777777777777
          },
          {
           "__count": 16.049382716049386,
           "x_end": 2.7777777777777777,
           "x_start": 1.6666666666666667,
           "y_end": 3.8888888888888893,
           "y_start": 2.7777777777777777
          },
          {
           "__count": 22.222222222222225,
           "x_end": 3.8888888888888893,
           "x_start": 2.7777777777777777,
           "y_end": 3.8888888888888893,
           "y_start": 2.7777777777777777
          },
          {
           "__count": 30.864197530864203,
           "x_end": 5,
           "x_start": 3.8888888888888893,
           "y_end": 3.8888888888888893,
           "y_start": 2.7777777777777777
          },
          {
           "__count": 41.97530864197531,
           "x_end": 6.111111111111111,
           "x_start": 5,
           "y_end": 3.8888888888888893,
           "y_start": 2.7777777777777777
          },
          {
           "__count": 55.555555555555564,
           "x_end": 7.222222222222222,
           "x_start": 6.111111111111112,
           "y_end": 3.8888888888888893,
           "y_start": 2.7777777777777777
          },
          {
           "__count": 71.60493827160495,
           "x_end": 8.333333333333334,
           "x_start": 7.222222222222223,
           "y_end": 3.8888888888888893,
           "y_start": 2.7777777777777777
          },
          {
           "__count": 90.12345679012347,
           "x_end": 9.444444444444445,
           "x_start": 8.333333333333334,
           "y_end": 3.8888888888888893,
           "y_start": 2.7777777777777777
          },
          {
           "__count": 111.11111111111111,
           "x_end": 10.555555555555555,
           "x_start": 9.444444444444445,
           "y_end": 3.8888888888888893,
           "y_start": 2.7777777777777777
          },
          {
           "__count": 19.75308641975309,
           "x_end": 0.5555555555555556,
           "x_start": -0.5555555555555556,
           "y_end": 5,
           "y_start": 3.8888888888888893
          },
          {
           "__count": 20.98765432098766,
           "x_end": 1.6666666666666667,
           "x_start": 0.5555555555555556,
           "y_end": 5,
           "y_start": 3.8888888888888893
          },
          {
           "__count": 24.69135802469136,
           "x_end": 2.7777777777777777,
           "x_start": 1.6666666666666667,
           "y_end": 5,
           "y_start": 3.8888888888888893
          },
          {
           "__count": 30.864197530864203,
           "x_end": 3.8888888888888893,
           "x_start": 2.7777777777777777,
           "y_end": 5,
           "y_start": 3.8888888888888893
          },
          {
           "__count": 39.50617283950618,
           "x_end": 5,
           "x_start": 3.8888888888888893,
           "y_end": 5,
           "y_start": 3.8888888888888893
          },
          {
           "__count": 50.617283950617285,
           "x_end": 6.111111111111111,
           "x_start": 5,
           "y_end": 5,
           "y_start": 3.8888888888888893
          },
          {
           "__count": 64.19753086419755,
           "x_end": 7.222222222222222,
           "x_start": 6.111111111111112,
           "y_end": 5,
           "y_start": 3.8888888888888893
          },
          {
           "__count": 80.24691358024693,
           "x_end": 8.333333333333334,
           "x_start": 7.222222222222223,
           "y_end": 5,
           "y_start": 3.8888888888888893
          },
          {
           "__count": 98.76543209876544,
           "x_end": 9.444444444444445,
           "x_start": 8.333333333333334,
           "y_end": 5,
           "y_start": 3.8888888888888893
          },
          {
           "__count": 119.75308641975309,
           "x_end": 10.555555555555555,
           "x_start": 9.444444444444445,
           "y_end": 5,
           "y_start": 3.8888888888888893
          },
          {
           "__count": 30.864197530864196,
           "x_end": 0.5555555555555556,
           "x_start": -0.5555555555555556,
           "y_end": 6.111111111111111,
           "y_start": 5
          },
          {
           "__count": 32.098765432098766,
           "x_end": 1.6666666666666667,
           "x_start": 0.5555555555555556,
           "y_end": 6.111111111111111,
           "y_start": 5
          },
          {
           "__count": 35.80246913580247,
           "x_end": 2.7777777777777777,
           "x_start": 1.6666666666666667,
           "y_end": 6.111111111111111,
           "y_start": 5
          },
          {
           "__count": 41.97530864197531,
           "x_end": 3.8888888888888893,
           "x_start": 2.7777777777777777,
           "y_end": 6.111111111111111,
           "y_start": 5
          },
          {
           "__count": 50.617283950617285,
           "x_end": 5,
           "x_start": 3.8888888888888893,
           "y_end": 6.111111111111111,
           "y_start": 5
          },
          {
           "__count": 61.72839506172839,
           "x_end": 6.111111111111111,
           "x_start": 5,
           "y_end": 6.111111111111111,
           "y_start": 5
          },
          {
           "__count": 75.30864197530865,
           "x_end": 7.222222222222222,
           "x_start": 6.111111111111112,
           "y_end": 6.111111111111111,
           "y_start": 5
          },
          {
           "__count": 91.35802469135803,
           "x_end": 8.333333333333334,
           "x_start": 7.222222222222223,
           "y_end": 6.111111111111111,
           "y_start": 5
          },
          {
           "__count": 109.87654320987656,
           "x_end": 9.444444444444445,
           "x_start": 8.333333333333334,
           "y_end": 6.111111111111111,
           "y_start": 5
          },
          {
           "__count": 130.8641975308642,
           "x_end": 10.555555555555555,
           "x_start": 9.444444444444445,
           "y_end": 6.111111111111111,
           "y_start": 5
          },
          {
           "__count": 44.44444444444445,
           "x_end": 0.5555555555555556,
           "x_start": -0.5555555555555556,
           "y_end": 7.222222222222222,
           "y_start": 6.111111111111112
          },
          {
           "__count": 45.67901234567902,
           "x_end": 1.6666666666666667,
           "x_start": 0.5555555555555556,
           "y_end": 7.222222222222222,
           "y_start": 6.111111111111112
          },
          {
           "__count": 49.38271604938272,
           "x_end": 2.7777777777777777,
           "x_start": 1.6666666666666667,
           "y_end": 7.222222222222222,
           "y_start": 6.111111111111112
          },
          {
           "__count": 55.555555555555564,
           "x_end": 3.8888888888888893,
           "x_start": 2.7777777777777777,
           "y_end": 7.222222222222222,
           "y_start": 6.111111111111112
          },
          {
           "__count": 64.19753086419755,
           "x_end": 5,
           "x_start": 3.8888888888888893,
           "y_end": 7.222222222222222,
           "y_start": 6.111111111111112
          },
          {
           "__count": 75.30864197530865,
           "x_end": 6.111111111111111,
           "x_start": 5,
           "y_end": 7.222222222222222,
           "y_start": 6.111111111111112
          },
          {
           "__count": 88.8888888888889,
           "x_end": 7.222222222222222,
           "x_start": 6.111111111111112,
           "y_end": 7.222222222222222,
           "y_start": 6.111111111111112
          },
          {
           "__count": 104.93827160493828,
           "x_end": 8.333333333333334,
           "x_start": 7.222222222222223,
           "y_end": 7.222222222222222,
           "y_start": 6.111111111111112
          },
          {
           "__count": 123.45679012345681,
           "x_end": 9.444444444444445,
           "x_start": 8.333333333333334,
           "y_end": 7.222222222222222,
           "y_start": 6.111111111111112
          },
          {
           "__count": 144.44444444444446,
           "x_end": 10.555555555555555,
           "x_start": 9.444444444444445,
           "y_end": 7.222222222222222,
           "y_start": 6.111111111111112
          },
          {
           "__count": 60.49382716049384,
           "x_end": 0.5555555555555556,
           "x_start": -0.5555555555555556,
           "y_end": 8.333333333333334,
           "y_start": 7.222222222222223
          },
          {
           "__count": 61.728395061728406,
           "x_end": 1.6666666666666667,
           "x_start": 0.5555555555555556,
           "y_end": 8.333333333333334,
           "y_start": 7.222222222222223
          },
          {
           "__count": 65.4320987654321,
           "x_end": 2.7777777777777777,
           "x_start": 1.6666666666666667,
           "y_end": 8.333333333333334,
           "y_start": 7.222222222222223
          },
          {
           "__count": 71.60493827160495,
           "x_end": 3.8888888888888893,
           "x_start": 2.7777777777777777,
           "y_end": 8.333333333333334,
           "y_start": 7.222222222222223
          },
          {
           "__count": 80.24691358024693,
           "x_end": 5,
           "x_start": 3.8888888888888893,
           "y_end": 8.333333333333334,
           "y_start": 7.222222222222223
          },
          {
           "__count": 91.35802469135803,
           "x_end": 6.111111111111111,
           "x_start": 5,
           "y_end": 8.333333333333334,
           "y_start": 7.222222222222223
          },
          {
           "__count": 104.93827160493828,
           "x_end": 7.222222222222222,
           "x_start": 6.111111111111112,
           "y_end": 8.333333333333334,
           "y_start": 7.222222222222223
          },
          {
           "__count": 120.98765432098767,
           "x_end": 8.333333333333334,
           "x_start": 7.222222222222223,
           "y_end": 8.333333333333334,
           "y_start": 7.222222222222223
          },
          {
           "__count": 139.50617283950618,
           "x_end": 9.444444444444445,
           "x_start": 8.333333333333334,
           "y_end": 8.333333333333334,
           "y_start": 7.222222222222223
          },
          {
           "__count": 160.49382716049382,
           "x_end": 10.555555555555555,
           "x_start": 9.444444444444445,
           "y_end": 8.333333333333334,
           "y_start": 7.222222222222223
          },
          {
           "__count": 79.01234567901236,
           "x_end": 0.5555555555555556,
           "x_start": -0.5555555555555556,
           "y_end": 9.444444444444445,
           "y_start": 8.333333333333334
          },
          {
           "__count": 80.24691358024693,
           "x_end": 1.6666666666666667,
           "x_start": 0.5555555555555556,
           "y_end": 9.444444444444445,
           "y_start": 8.333333333333334
          },
          {
           "__count": 83.95061728395063,
           "x_end": 2.7777777777777777,
           "x_start": 1.6666666666666667,
           "y_end": 9.444444444444445,
           "y_start": 8.333333333333334
          },
          {
           "__count": 90.12345679012347,
           "x_end": 3.8888888888888893,
           "x_start": 2.7777777777777777,
           "y_end": 9.444444444444445,
           "y_start": 8.333333333333334
          },
          {
           "__count": 98.76543209876544,
           "x_end": 5,
           "x_start": 3.8888888888888893,
           "y_end": 9.444444444444445,
           "y_start": 8.333333333333334
          },
          {
           "__count": 109.87654320987656,
           "x_end": 6.111111111111111,
           "x_start": 5,
           "y_end": 9.444444444444445,
           "y_start": 8.333333333333334
          },
          {
           "__count": 123.45679012345681,
           "x_end": 7.222222222222222,
           "x_start": 6.111111111111112,
           "y_end": 9.444444444444445,
           "y_start": 8.333333333333334
          },
          {
           "__count": 139.50617283950618,
           "x_end": 8.333333333333334,
           "x_start": 7.222222222222223,
           "y_end": 9.444444444444445,
           "y_start": 8.333333333333334
          },
          {
           "__count": 158.0246913580247,
           "x_end": 9.444444444444445,
           "x_start": 8.333333333333334,
           "y_end": 9.444444444444445,
           "y_start": 8.333333333333334
          },
          {
           "__count": 179.01234567901236,
           "x_end": 10.555555555555555,
           "x_start": 9.444444444444445,
           "y_end": 9.444444444444445,
           "y_start": 8.333333333333334
          },
          {
           "__count": 100,
           "x_end": 0.5555555555555556,
           "x_start": -0.5555555555555556,
           "y_end": 10.555555555555555,
           "y_start": 9.444444444444445
          },
          {
           "__count": 101.23456790123457,
           "x_end": 1.6666666666666667,
           "x_start": 0.5555555555555556,
           "y_end": 10.555555555555555,
           "y_start": 9.444444444444445
          },
          {
           "__count": 104.93827160493828,
           "x_end": 2.7777777777777777,
           "x_start": 1.6666666666666667,
           "y_end": 10.555555555555555,
           "y_start": 9.444444444444445
          },
          {
           "__count": 111.11111111111111,
           "x_end": 3.8888888888888893,
           "x_start": 2.7777777777777777,
           "y_end": 10.555555555555555,
           "y_start": 9.444444444444445
          },
          {
           "__count": 119.75308641975309,
           "x_end": 5,
           "x_start": 3.8888888888888893,
           "y_end": 10.555555555555555,
           "y_start": 9.444444444444445
          },
          {
           "__count": 130.8641975308642,
           "x_end": 6.111111111111111,
           "x_start": 5,
           "y_end": 10.555555555555555,
           "y_start": 9.444444444444445
          },
          {
           "__count": 144.44444444444446,
           "x_end": 7.222222222222222,
           "x_start": 6.111111111111112,
           "y_end": 10.555555555555555,
           "y_start": 9.444444444444445
          },
          {
           "__count": 160.49382716049382,
           "x_end": 8.333333333333334,
           "x_start": 7.222222222222223,
           "y_end": 10.555555555555555,
           "y_start": 9.444444444444445
          },
          {
           "__count": 179.01234567901236,
           "x_end": 9.444444444444445,
           "x_start": 8.333333333333334,
           "y_end": 10.555555555555555,
           "y_start": 9.444444444444445
          },
          {
           "__count": 200,
           "x_end": 10.555555555555555,
           "x_start": 9.444444444444445,
           "y_end": 10.555555555555555,
           "y_start": 9.444444444444445
          }
         ]
        }
       ],
       "height": 200,
       "legends": [
        {
         "fill": "color",
         "gradientLength": {
          "signal": "height - 16"
         },
         "title": "Histogram Values"
        }
       ],
       "marks": [
        {
         "encode": {
          "update": {
           "fill": {
            "field": "__count",
            "scale": "color"
           },
           "x": {
            "field": "x_end",
            "scale": "x"
           },
           "x2": {
            "field": "x_start",
            "scale": "x"
           },
           "y": {
            "field": "y_end",
            "scale": "y"
           },
           "y2": {
            "field": "y_start",
            "scale": "y"
           }
          }
         },
         "from": {
          "data": "mesh"
         },
         "name": "marks",
         "style": [
          "rect"
         ],
         "type": "rect"
        },
        {
         "encode": {
          "enter": {
           "fill": {
            "value": "black"
           },
           "fillOpacity": {
            "value": 1
           }
          },
          "update": {
           "size": {
            "value": 10
           },
           "x": {
            "field": "gamma",
            "scale": "x"
           },
           "y": {
            "field": "alpha",
            "scale": "y"
           }
          }
         },
         "from": {
          "data": "points"
         },
         "type": "symbol"
        }
       ],
       "scales": [
        {
         "domain": {
          "fields": [
           {
            "data": "points",
            "field": "gamma"
           },
           {
            "data": "mesh",
            "field": "x_start"
           },
           {
            "data": "mesh",
            "field": "y_end"
           }
          ]
         },
         "name": "x",
         "range": [
          0,
          {
           "signal": "width"
          }
         ],
         "type": "linear"
        },
        {
         "domain": {
          "fields": [
           {
            "data": "points",
            "field": "alpha"
           },
           {
            "data": "mesh",
            "field": "y_start"
           },
           {
            "data": "mesh",
            "field": "y_end"
           }
          ]
         },
         "name": "y",
         "range": [
          {
           "signal": "height"
          },
          0
         ],
         "type": "linear"
        },
        {
         "domain": {
          "data": "mesh",
          "field": "__count"
         },
         "interpolate": "hcl",
         "name": "color",
         "range": "heatmap",
         "type": "linear",
         "zero": true
        }
       ],
       "width": 300
      }
     },
     "metadata": {},
     "output_type": "display_data"
    }
   ],
   "source": [
    "import numpy as np\n",
    "import pandas as pd\n",
    "from pyciemss.visuals import plots, vega\n",
    "\n",
    "def create_fake_data():\n",
    "    nx, ny = (10, 10)\n",
    "    x = np.linspace(0, 10, nx)\n",
    "    y, a = np.linspace(0, 10, ny, retstep = True)\n",
    "\n",
    "    # create mesh data\n",
    "    xv, yv = np.meshgrid(x, y)\n",
    "    zz = xv**2 + yv**2\n",
    "\n",
    "    # create scatter plot\n",
    "    df = pd.DataFrame(10*np.random.random((100, 2)), columns=['alpha', 'gamma'])\n",
    "    return (xv, yv, zz), df\n",
    "\n",
    "mesh_data, scatter_data = create_fake_data()\n",
    "\n",
    "schema = plots.heatmap_scatter(scatter_data, mesh_data)\n",
    "plots.save_schema(schema, \"_schema.json\")\n",
    "plots.ipy_display(schema, format=\"interactive\")"
   ]
  },
  {
   "cell_type": "code",
   "execution_count": null,
   "id": "9d3ad843",
   "metadata": {},
   "outputs": [],
   "source": []
  }
 ],
 "metadata": {
  "kernelspec": {
   "display_name": "Python 3 (ipykernel)",
   "language": "python",
   "name": "python3"
  },
  "language_info": {
   "codemirror_mode": {
    "name": "ipython",
    "version": 3
   },
   "file_extension": ".py",
   "mimetype": "text/x-python",
   "name": "python",
   "nbconvert_exporter": "python",
   "pygments_lexer": "ipython3",
   "version": "3.11.4"
  }
 },
 "nbformat": 4,
 "nbformat_minor": 5
}
