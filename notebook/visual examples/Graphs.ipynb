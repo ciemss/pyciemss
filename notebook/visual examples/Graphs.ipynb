{
 "cells": [
  {
   "cell_type": "code",
   "execution_count": 7,
   "id": "a1299176",
   "metadata": {},
   "outputs": [
    {
     "name": "stdout",
     "output_type": "stream",
     "text": [
      "The autoreload extension is already loaded. To reload it, use:\n",
      "  %reload_ext autoreload\n"
     ]
    }
   ],
   "source": [
    "%load_ext autoreload\n",
    "%autoreload 2"
   ]
  },
  {
   "cell_type": "code",
   "execution_count": 7,
   "id": "5c1729f7-1b0d-4913-8048-01624c506cc5",
   "metadata": {},
   "outputs": [],
   "source": [
    "import networkx as nx\n",
    "from pyciemss.visuals import plots"
   ]
  },
  {
   "cell_type": "code",
   "execution_count": null,
   "id": "07d29614",
   "metadata": {},
   "outputs": [],
   "source": []
  },
  {
   "cell_type": "code",
   "execution_count": 9,
   "id": "997ef041-0312-4b83-bbe2-32a6ddfe3d6c",
   "metadata": {},
   "outputs": [],
   "source": [
    "g = nx.generators.barabasi_albert_graph(5, 3)"
   ]
  },
  {
   "cell_type": "code",
   "execution_count": 10,
   "id": "a4b1668c",
   "metadata": {},
   "outputs": [
    {
     "data": {
      "image/png": "[encoded data removed]",
      "text/plain": [
       "<IPython.core.display.Image object>"
      ]
     },
     "execution_count": 10,
     "metadata": {},
     "output_type": "execute_result"
    }
   ],
   "source": [
    "import random\n",
    "def rand_attributions():\n",
    "    possible = \"ABCD\"\n",
    "    return random.sample(possible, random.randint(1, len(possible)))\n",
    "\n",
    "def rand_label():\n",
    "    possible = \"TUVWXYZ\"\n",
    "    return random.randint(1, 10)\n",
    "    return random.sample(possible, 1)[0]\n",
    "\n",
    "node_properties = {n: {\"attribution\": rand_attributions(), \n",
    "                       \"label\": rand_label()}\n",
    "                    for n in g.nodes()}\n",
    "\n",
    "edge_attributions = {e: {\"attribution\": rand_attributions()} for e in g.edges()}\n",
    "\n",
    "nx.set_node_attributes(g, node_properties)\n",
    "nx.set_edge_attributes(g, edge_attributions)\n",
    "\n",
    "schema = plots.attributed_graph(g)\n",
    "plots.save_schema(schema, \"_schema.json\")\n",
    "plots.ipy_display(schema)"
   ]
  },
  {
   "cell_type": "code",
   "execution_count": 11,
   "id": "ece8d8e5",
   "metadata": {},
   "outputs": [
    {
     "name": "stdout",
     "output_type": "stream",
     "text": [
      "\n"
     ]
    },
    {
     "data": {
      "application/vnd.vega.v5+json": {
       "$schema": "https://vega.github.io/schema/vega/v5.json",
       "data": [
        {
         "name": "node-data",
         "values": [
          {
           "fixedx": -100,
           "fixedy": -100,
           "fx": 63,
           "fy": 97,
           "group": "V",
           "id": 0,
           "label": "n0"
          },
          {
           "fixedx": -100,
           "fixedy": -100,
           "fx": 16,
           "fy": 94,
           "group": "U",
           "id": 1,
           "label": "n1"
          },
          {
           "fixedx": -100,
           "fixedy": -100,
           "fx": 73,
           "fy": 76,
           "group": "W",
           "id": 2,
           "label": "n2"
          },
          {
           "fixedx": -100,
           "fixedy": -100,
           "fx": 36,
           "fy": 65,
           "group": "T",
           "id": 3,
           "label": "n3"
          },
          {
           "fixedx": -100,
           "fixedy": -100,
           "fx": 99,
           "fy": 32,
           "group": "T",
           "id": 4,
           "label": "n4"
          }
         ]
        },
        {
         "name": "link-data",
         "values": [
          {
           "source": 0,
           "target": 1
          },
          {
           "group": "V",
           "source": 0,
           "target": 2
          },
          {
           "source": 0,
           "target": 3
          },
          {
           "group": "W",
           "source": 0,
           "target": 4
          },
          {
           "group": "Z",
           "source": 1,
           "target": 4
          },
          {
           "group": "Z",
           "source": 2,
           "target": 4
          }
         ]
        }
       ],
       "description": "A node-link diagram with force-directed layout.",
       "height": 300,
       "legends": [
        {
         "stroke": "color",
         "symbolType": "stroke",
         "title": "Group"
        }
       ],
       "marks": [
        {
         "encode": {
          "enter": {
           "fill": {
            "field": "group",
            "scale": "color"
           },
           "stroke": {
            "value": "white"
           }
          },
          "update": {
           "cursor": {
            "value": "pointer"
           },
           "size": {
            "signal": "2 * nodeRadius * nodeRadius"
           }
          }
         },
         "from": {
          "data": "node-data"
         },
         "name": "nodes",
         "on": [
          {
           "modify": "node",
           "trigger": "fix",
           "values": "fix === true ? {fx: node.x, fy: node.y} : {fx: fix[0], fy: fix[1]}"
          },
          {
           "modify": "node",
           "trigger": "!fix",
           "values": "{fx: null, fy: null}"
          }
         ],
         "transform": [
          {
           "forces": [
            {
             "force": "center",
             "x": {
              "signal": "cx"
             },
             "y": {
              "signal": "cy"
             }
            },
            {
             "force": "collide",
             "radius": {
              "signal": "nodeRadius"
             }
            },
            {
             "force": "nbody",
             "strength": {
              "signal": "nodeCharge"
             }
            },
            {
             "distance": {
              "signal": "linkDistance"
             },
             "force": "link",
             "links": "link-data"
            }
           ],
           "iterations": 300,
           "restart": {
            "signal": "restart"
           },
           "signal": "force",
           "static": {
            "signal": "static"
           },
           "type": "force"
          }
         ],
         "type": "symbol",
         "zindex": 1
        },
        {
         "encode": {
          "enter": {
           "align": {
            "value": "center"
           },
           "baseline": {
            "value": "middle"
           },
           "fill": {
            "value": "black"
           },
           "fontSize": {
            "value": 15
           },
           "text": {
            "field": "datum.label"
           }
          },
          "update": {
           "x": {
            "field": "x"
           },
           "y": {
            "field": "y"
           }
          }
         },
         "from": {
          "data": "nodes"
         },
         "interactive": false,
         "name": "labels",
         "transform": [
          {
           "as": "y",
           "expr": "datum.y",
           "type": "formula"
          }
         ],
         "type": "text",
         "zindex": 2
        },
        {
         "encode": {
          "update": {
           "stroke": {
            "value": "#ccc"
           },
           "strokeWidth": {
            "value": 0.5
           }
          }
         },
         "from": {
          "data": "link-data"
         },
         "interactive": false,
         "transform": [
          {
           "require": {
            "signal": "force"
           },
           "shape": "line",
           "sourceX": "datum.source.x",
           "sourceY": "datum.source.y",
           "targetX": "datum.target.x",
           "targetY": "datum.target.y",
           "type": "linkpath"
          }
         ],
         "type": "path"
        }
       ],
       "padding": 0,
       "scales": [
        {
         "domain": {
          "data": "node-data",
          "field": "group"
         },
         "name": "color",
         "range": {
          "scheme": "category20c"
         },
         "type": "ordinal"
        }
       ],
       "signals": [
        {
         "name": "cx",
         "update": "width / 2"
        },
        {
         "name": "cy",
         "update": "height / 2"
        },
        {
         "name": "nodeRadius",
         "value": 15
        },
        {
         "name": "nodeCharge",
         "value": -80
        },
        {
         "name": "linkDistance",
         "value": 80
        },
        {
         "bind": {
          "input": "checkbox"
         },
         "name": "static",
         "value": true
        },
        {
         "description": "State variable for active node fix status.",
         "name": "fix",
         "on": [
          {
           "events": "symbol:mouseout[!event.buttons], window:mouseup",
           "update": "false"
          },
          {
           "events": "symbol:mouseover",
           "update": "fix || true"
          },
          {
           "events": "[symbol:mousedown, window:mouseup] > window:mousemove!",
           "force": true,
           "update": "xy()"
          }
         ],
         "value": false
        },
        {
         "description": "Graph node most recently interacted with.",
         "name": "node",
         "on": [
          {
           "events": "symbol:mouseover",
           "update": "fix === true ? item() : node"
          }
         ],
         "value": null
        },
        {
         "description": "Flag to restart Force simulation upon data changes.",
         "name": "restart",
         "on": [
          {
           "events": {
            "signal": "fix"
           },
           "update": "fix && fix.length"
          }
         ],
         "value": false
        }
       ],
       "width": 300
      }
     },
     "metadata": {},
     "output_type": "display_data"
    }
   ],
   "source": [
    "g = nx.generators.barabasi_albert_graph(5, 3)\n",
    "nx.set_node_attributes(g, {k:f\"n{i}\" for i, k in enumerate(g.nodes)}, \"label\")\n",
    "schema = plots.spring_force_graph(g, node_labels=\"label\")\n",
    "plots.save_schema(schema, \"_schema.json\")\n",
    "plots.ipy_display(schema, format=\"interactive\")"
   ]
  },
  {
   "cell_type": "code",
   "execution_count": 7,
   "id": "67ab6bf5",
   "metadata": {},
   "outputs": [
    {
     "name": "stdout",
     "output_type": "stream",
     "text": [
      "\n"
     ]
    },
    {
     "data": {
      "application/vnd.vega.v5+json": {
       "$schema": "https://vega.github.io/schema/vega/v5.json",
       "axes": [
        {
         "grid": false,
         "labelFlush": true,
         "labelOverlap": true,
         "orient": "bottom",
         "scale": "x",
         "tickCount": {
          "signal": "ceil(width/3)"
         },
         "title": "X (binned)",
         "zindex": 1
        },
        {
         "grid": false,
         "labelOverlap": true,
         "orient": "left",
         "scale": "y",
         "tickCount": {
          "signal": "ceil(height/3)"
         },
         "title": "Y (binned)",
         "zindex": 1
        }
       ],
       "background": "white",
       "config": {
        "style": {
         "cell": {
          "stroke": "transparent"
         }
        }
       },
       "data": [
        {
         "name": "points",
         "values": "[{\"test1\":1,\"test2\":2},{\"test1\":2,\"test2\":2},{\"test1\":0,\"test2\":0},{\"test1\":0,\"test2\":1},{\"test1\":2,\"test2\":2},{\"test1\":2,\"test2\":2},{\"test1\":0,\"test2\":1},{\"test1\":2,\"test2\":2},{\"test1\":1,\"test2\":0},{\"test1\":1,\"test2\":0},{\"test1\":0,\"test2\":0},{\"test1\":2,\"test2\":2},{\"test1\":0,\"test2\":2},{\"test1\":1,\"test2\":1},{\"test1\":1,\"test2\":0},{\"test1\":2,\"test2\":1},{\"test1\":2,\"test2\":2},{\"test1\":0,\"test2\":1},{\"test1\":1,\"test2\":2},{\"test1\":0,\"test2\":0},{\"test1\":1,\"test2\":1},{\"test1\":2,\"test2\":1},{\"test1\":1,\"test2\":2},{\"test1\":0,\"test2\":1},{\"test1\":0,\"test2\":1},{\"test1\":0,\"test2\":1},{\"test1\":0,\"test2\":0},{\"test1\":1,\"test2\":1},{\"test1\":1,\"test2\":2},{\"test1\":1,\"test2\":2},{\"test1\":0,\"test2\":0},{\"test1\":1,\"test2\":1},{\"test1\":2,\"test2\":2},{\"test1\":2,\"test2\":1},{\"test1\":0,\"test2\":2},{\"test1\":1,\"test2\":1},{\"test1\":1,\"test2\":0},{\"test1\":1,\"test2\":1},{\"test1\":2,\"test2\":1},{\"test1\":0,\"test2\":2},{\"test1\":1,\"test2\":2},{\"test1\":0,\"test2\":2},{\"test1\":1,\"test2\":0},{\"test1\":1,\"test2\":1},{\"test1\":0,\"test2\":2},{\"test1\":0,\"test2\":0},{\"test1\":1,\"test2\":1},{\"test1\":1,\"test2\":2},{\"test1\":0,\"test2\":0},{\"test1\":2,\"test2\":1},{\"test1\":1,\"test2\":1},{\"test1\":2,\"test2\":1},{\"test1\":0,\"test2\":2},{\"test1\":2,\"test2\":1},{\"test1\":1,\"test2\":0},{\"test1\":1,\"test2\":0},{\"test1\":1,\"test2\":0},{\"test1\":2,\"test2\":1},{\"test1\":0,\"test2\":1},{\"test1\":0,\"test2\":1},{\"test1\":1,\"test2\":2},{\"test1\":0,\"test2\":1},{\"test1\":1,\"test2\":2},{\"test1\":2,\"test2\":0},{\"test1\":0,\"test2\":2},{\"test1\":2,\"test2\":1},{\"test1\":2,\"test2\":1},{\"test1\":1,\"test2\":2},{\"test1\":2,\"test2\":1},{\"test1\":0,\"test2\":1},{\"test1\":0,\"test2\":2},{\"test1\":1,\"test2\":2},{\"test1\":2,\"test2\":0},{\"test1\":0,\"test2\":2},{\"test1\":0,\"test2\":1},{\"test1\":0,\"test2\":2},{\"test1\":0,\"test2\":0},{\"test1\":0,\"test2\":0},{\"test1\":2,\"test2\":2},{\"test1\":0,\"test2\":2},{\"test1\":0,\"test2\":0},{\"test1\":0,\"test2\":0},{\"test1\":2,\"test2\":0},{\"test1\":1,\"test2\":1},{\"test1\":1,\"test2\":1},{\"test1\":0,\"test2\":1},{\"test1\":2,\"test2\":1},{\"test1\":0,\"test2\":1},{\"test1\":1,\"test2\":0},{\"test1\":1,\"test2\":0},{\"test1\":0,\"test2\":1},{\"test1\":2,\"test2\":1},{\"test1\":0,\"test2\":2},{\"test1\":1,\"test2\":1},{\"test1\":1,\"test2\":0},{\"test1\":1,\"test2\":2},{\"test1\":2,\"test2\":1},{\"test1\":1,\"test2\":1},{\"test1\":2,\"test2\":0},{\"test1\":1,\"test2\":0}]"
        },
        {
         "format": {
          "type": "json"
         },
         "name": "source_0",
         "transform": [
          {
           "field": {
            "signal": "x_name"
           },
           "signal": "x_extent",
           "type": "extent"
          },
          {
           "as": [
            "x_start",
            "x_end"
           ],
           "extent": {
            "signal": "x_extent"
           },
           "field": {
            "signal": "x_name"
           },
           "maxbins": {
            "signal": "bandwidthX"
           },
           "signal": "x_bins",
           "type": "bin"
          },
          {
           "field": {
            "signal": "y_name"
           },
           "signal": "y_extent",
           "type": "extent"
          },
          {
           "as": [
            "y_start",
            "y_end"
           ],
           "extent": {
            "signal": "y_extent"
           },
           "field": {
            "signal": "y_name"
           },
           "maxbins": {
            "signal": "bandwidthY"
           },
           "signal": "y_bins",
           "type": "bin"
          },
          {
           "as": [
            "__count"
           ],
           "groupby": [
            "x_start",
            "x_end",
            "y_start",
            "y_end"
           ],
           "ops": [
            "count"
           ],
           "type": "aggregate"
          }
         ],
         "values": "[{\"test1\":1,\"test2\":2},{\"test1\":2,\"test2\":2},{\"test1\":0,\"test2\":0},{\"test1\":0,\"test2\":1},{\"test1\":2,\"test2\":2},{\"test1\":2,\"test2\":2},{\"test1\":0,\"test2\":1},{\"test1\":2,\"test2\":2},{\"test1\":1,\"test2\":0},{\"test1\":1,\"test2\":0},{\"test1\":0,\"test2\":0},{\"test1\":2,\"test2\":2},{\"test1\":0,\"test2\":2},{\"test1\":1,\"test2\":1},{\"test1\":1,\"test2\":0},{\"test1\":2,\"test2\":1},{\"test1\":2,\"test2\":2},{\"test1\":0,\"test2\":1},{\"test1\":1,\"test2\":2},{\"test1\":0,\"test2\":0},{\"test1\":1,\"test2\":1},{\"test1\":2,\"test2\":1},{\"test1\":1,\"test2\":2},{\"test1\":0,\"test2\":1},{\"test1\":0,\"test2\":1},{\"test1\":0,\"test2\":1},{\"test1\":0,\"test2\":0},{\"test1\":1,\"test2\":1},{\"test1\":1,\"test2\":2},{\"test1\":1,\"test2\":2},{\"test1\":0,\"test2\":0},{\"test1\":1,\"test2\":1},{\"test1\":2,\"test2\":2},{\"test1\":2,\"test2\":1},{\"test1\":0,\"test2\":2},{\"test1\":1,\"test2\":1},{\"test1\":1,\"test2\":0},{\"test1\":1,\"test2\":1},{\"test1\":2,\"test2\":1},{\"test1\":0,\"test2\":2},{\"test1\":1,\"test2\":2},{\"test1\":0,\"test2\":2},{\"test1\":1,\"test2\":0},{\"test1\":1,\"test2\":1},{\"test1\":0,\"test2\":2},{\"test1\":0,\"test2\":0},{\"test1\":1,\"test2\":1},{\"test1\":1,\"test2\":2},{\"test1\":0,\"test2\":0},{\"test1\":2,\"test2\":1},{\"test1\":1,\"test2\":1},{\"test1\":2,\"test2\":1},{\"test1\":0,\"test2\":2},{\"test1\":2,\"test2\":1},{\"test1\":1,\"test2\":0},{\"test1\":1,\"test2\":0},{\"test1\":1,\"test2\":0},{\"test1\":2,\"test2\":1},{\"test1\":0,\"test2\":1},{\"test1\":0,\"test2\":1},{\"test1\":1,\"test2\":2},{\"test1\":0,\"test2\":1},{\"test1\":1,\"test2\":2},{\"test1\":2,\"test2\":0},{\"test1\":0,\"test2\":2},{\"test1\":2,\"test2\":1},{\"test1\":2,\"test2\":1},{\"test1\":1,\"test2\":2},{\"test1\":2,\"test2\":1},{\"test1\":0,\"test2\":1},{\"test1\":0,\"test2\":2},{\"test1\":1,\"test2\":2},{\"test1\":2,\"test2\":0},{\"test1\":0,\"test2\":2},{\"test1\":0,\"test2\":1},{\"test1\":0,\"test2\":2},{\"test1\":0,\"test2\":0},{\"test1\":0,\"test2\":0},{\"test1\":2,\"test2\":2},{\"test1\":0,\"test2\":2},{\"test1\":0,\"test2\":0},{\"test1\":0,\"test2\":0},{\"test1\":2,\"test2\":0},{\"test1\":1,\"test2\":1},{\"test1\":1,\"test2\":1},{\"test1\":0,\"test2\":1},{\"test1\":2,\"test2\":1},{\"test1\":0,\"test2\":1},{\"test1\":1,\"test2\":0},{\"test1\":1,\"test2\":0},{\"test1\":0,\"test2\":1},{\"test1\":2,\"test2\":1},{\"test1\":0,\"test2\":2},{\"test1\":1,\"test2\":1},{\"test1\":1,\"test2\":0},{\"test1\":1,\"test2\":2},{\"test1\":2,\"test2\":1},{\"test1\":1,\"test2\":1},{\"test1\":2,\"test2\":0},{\"test1\":1,\"test2\":0}]"
        }
       ],
       "height": 200,
       "legends": [
        {
         "fill": "color",
         "gradientLength": {
          "signal": "height - 16"
         },
         "title": "Count of Records"
        }
       ],
       "marks": [
        {
         "encode": {
          "update": {
           "fill": {
            "field": "__count",
            "scale": "color"
           },
           "x": {
            "field": "x_end",
            "scale": "x"
           },
           "x2": {
            "field": "x_start",
            "scale": "x"
           },
           "y": {
            "field": "y_end",
            "scale": "y"
           },
           "y2": {
            "field": "y_start",
            "scale": "y"
           }
          }
         },
         "from": {
          "data": "source_0"
         },
         "name": "marks",
         "style": [
          "rect"
         ],
         "type": "rect"
        },
        {
         "encode": {
          "enter": {
           "fill": {
            "value": "black"
           },
           "fillOpacity": {
            "value": 0.2
           }
          },
          "update": {
           "size": {
            "value": 5
           },
           "x": {
            "field": "IMDB Rating",
            "scale": "x"
           },
           "y": {
            "field": "Rotten Tomatoes Rating",
            "scale": "y"
           }
          }
         },
         "from": {
          "data": "points"
         },
         "type": "symbol"
        }
       ],
       "padding": 5,
       "scales": [
        {
         "bins": {
          "signal": "x_bins"
         },
         "domain": {
          "signal": "[x_bins.start, x_bins.stop]"
         },
         "name": "x",
         "range": [
          0,
          {
           "signal": "width"
          }
         ],
         "type": "linear",
         "zero": false
        },
        {
         "bins": {
          "signal": "y_bins"
         },
         "domain": {
          "signal": "[y_bins.start, y_bins.stop]"
         },
         "name": "y",
         "range": [
          {
           "signal": "height"
          },
          0
         ],
         "type": "linear",
         "zero": false
        },
        {
         "domain": {
          "data": "source_0",
          "field": "__count"
         },
         "interpolate": "hcl",
         "name": "color",
         "range": "heatmap",
         "type": "linear",
         "zero": false
        }
       ],
       "signals": [
        {
         "bind": {
          "input": "range",
          "max": 100,
          "min": 10,
          "step": 1
         },
         "name": "bandwidthX",
         "value": 4
        },
        {
         "bind": {
          "input": "range",
          "max": 100,
          "min": 10,
          "step": 1
         },
         "name": "bandwidthY",
         "value": 4
        },
        {
         "bind": {
          "input": "text"
         },
         "name": "x_name",
         "value": "test1"
        },
        {
         "bind": {
          "input": "text"
         },
         "name": "y_name",
         "value": "test2"
        }
       ],
       "style": "cell",
       "width": 300
      }
     },
     "metadata": {},
     "output_type": "display_data"
    }
   ],
   "source": [
    "import pandas as pd\n",
    "import numpy as np\n",
    "\n",
    "df = pd.DataFrame(np.random.randint(0,3,size=(100, 2)), columns=['test1', 'test2'])\n",
    "schema = plots.heatmap_scatter(data = df, x_bin=4, y_bin=4, x_name = \"test1\", y_name = \"test2\")\n",
    "plots.save_schema(schema, \"_schema.json\")\n",
    "plots.ipy_display(schema, format=\"interactive\")"
   ]
  }
 ],
 "metadata": {
  "kernelspec": {
   "display_name": "Python 3 (ipykernel)",
   "language": "python",
   "name": "python3"
  },
  "language_info": {
   "codemirror_mode": {
    "name": "ipython",
    "version": 3
   },
   "file_extension": ".py",
   "mimetype": "text/x-python",
   "name": "python",
   "nbconvert_exporter": "python",
   "pygments_lexer": "ipython3",
   "version": "3.11.4"
  }
 },
 "nbformat": 4,
 "nbformat_minor": 5
}
