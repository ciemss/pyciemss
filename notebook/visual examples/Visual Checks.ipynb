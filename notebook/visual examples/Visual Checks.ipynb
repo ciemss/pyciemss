{
 "cells": [
  {
   "cell_type": "code",
   "execution_count": 1,
   "id": "5c1729f7-1b0d-4913-8048-01624c506cc5",
   "metadata": {},
   "outputs": [],
   "source": [
    "import xarray as xr\n",
    "\n",
    "from pathlib import Path\n",
    "from pyciemss.visuals import plots, checks"
   ]
  },
  {
   "cell_type": "code",
   "execution_count": 2,
   "id": "ae5f488f-834f-41ef-ae88-ac332ece6e32",
   "metadata": {},
   "outputs": [],
   "source": [
    "data_file = Path(\"..\")/'../test/data/ciemss_datacube.nc'\n",
    "\n",
    "def read_cube(file):\n",
    "    ds = xr.open_mfdataset([data_file])\n",
    "    real_data  = ds.to_dataframe().reset_index()\n",
    "    real_data.rename(columns={'timesteps': 'time', \n",
    "                              'experimental conditions': 'conditions', \n",
    "                              'attributes': 'state_names', \n",
    "                              '__xarray_dataarray_variable__': \"state_values\"}, \n",
    "                     inplace=True)\n",
    "    return real_data\n",
    "\n",
    "raw_data = read_cube(data_file)\n",
    "s30 = raw_data.loc[(raw_data['time']== 30) & (raw_data['state_names'] == \"S\")]\n",
    "i30 = raw_data.loc[(raw_data['time']== 30) & (raw_data['state_names'] == \"I\")]\n",
    "r30 = raw_data.loc[(raw_data['time']== 30) & (raw_data['state_names'] == \"R\")]"
   ]
  },
  {
   "cell_type": "code",
   "execution_count": 3,
   "id": "2408699e-5565-43e4-9009-4913b91f9b9f",
   "metadata": {},
   "outputs": [
    {
     "data": {
      "image/png": "[encoded data removed]",
      "text/plain": [
       "<IPython.core.display.Image object>"
      ]
     },
     "execution_count": 3,
     "metadata": {},
     "output_type": "execute_result"
    }
   ],
   "source": [
    "lower, upper = 70_000, 94_000\n",
    "result = checks.check_distribution_range(\n",
    "                    s30, lower, upper,\n",
    "                    label=\"s30\",\n",
    "                    tests={\"full\": checks.contains(lower, upper), \n",
    "                            \"most\": checks.contains(lower, upper, .99)})\n",
    "plots.ipy_display(result.schema)"
   ]
  },
  {
   "cell_type": "code",
   "execution_count": 4,
   "id": "68b1aa39-456d-4bc4-a811-d6e7378775f7",
   "metadata": {},
   "outputs": [
    {
     "data": {
      "text/plain": [
       "Result(status:False, checks:{'full': True, 'most': False}, schema:<present>; Additional Fields: ['bins'])"
      ]
     },
     "execution_count": 4,
     "metadata": {},
     "output_type": "execute_result"
    }
   ],
   "source": [
    "result"
   ]
  },
  {
   "cell_type": "code",
   "execution_count": 5,
   "id": "1dbb3b4d-3229-4480-9d0f-a0a562ad1d71",
   "metadata": {},
   "outputs": [
    {
     "data": {
      "text/plain": [
       "Result(status:False, checks:{'full': True, 'most': False}, schema:<present>; Additional Fields: ['bins'])"
      ]
     },
     "execution_count": 5,
     "metadata": {},
     "output_type": "execute_result"
    }
   ],
   "source": [
    "result"
   ]
  },
  {
   "cell_type": "code",
   "execution_count": null,
   "id": "ed0d5cd8",
   "metadata": {},
   "outputs": [],
   "source": []
  }
 ],
 "metadata": {
  "kernelspec": {
   "display_name": "Python 3 (ipykernel)",
   "language": "python",
   "name": "python3"
  },
  "language_info": {
   "codemirror_mode": {
    "name": "ipython",
    "version": 3
   },
   "file_extension": ".py",
   "mimetype": "text/x-python",
   "name": "python",
   "nbconvert_exporter": "python",
   "pygments_lexer": "ipython3",
   "version": "3.11.4"
  }
 },
 "nbformat": 4,
 "nbformat_minor": 5
}
