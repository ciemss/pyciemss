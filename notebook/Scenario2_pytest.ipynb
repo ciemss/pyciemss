{
 "cells": [
  {
   "cell_type": "code",
   "execution_count": null,
   "id": "79739105-cc0a-4f65-b124-d586b77e1350",
   "metadata": {},
   "outputs": [],
   "source": [
    "import pytest\n",
    "from pytest_bdd import scenario, given, when, then\n",
    "import torch\n",
    "from pyciemss.ODE.models import SIDARTHE\n",
    "from pyciemss.utils import get_tspan\n",
    "from pyciemss.ODE.askem_primitives import sample\n",
    "import pyro.distributions as dist"
   ]
  },
  {
   "cell_type": "markdown",
   "id": "c81dc84e-a44a-4b86-b891-5a8b13879e8b",
   "metadata": {},
   "source": [
    "# Unit Test 1"
   ]
  },
  {
   "cell_type": "markdown",
   "id": "501a4d0e-ba5b-4b0d-9c4b-94e87372709d",
   "metadata": {},
   "source": [
    "Set the initial values and parameters, as described in the Supplementary Methods section of the publication (pg. 9 of the pdf) and simulate for 100 days. Peak should be at day 47"
   ]
  },
  {
   "cell_type": "markdown",
   "id": "a422c84f-32e2-454a-b8e8-fe5fc8fa1cae",
   "metadata": {},
   "source": [
    "evaluation_scenario_2.feature  file\n",
    "```\n",
    "Feature: Evaluation Scenario 2\n",
    "    Reproduce the result in page 9 of the supplementary methods section of the SIDARTHE publication\n",
    "\n",
    "    Scenario: Unit test 1\n",
    "        Given initial conditions\n",
    "        And parameters\n",
    "        And SIDARTHE model\n",
    "\n",
    "        When simulating the model for 100 days\n",
    "\n",
    "        Then peak of infection is around day 47\n",
    "```"
   ]
  },
  {
   "cell_type": "code",
   "execution_count": null,
   "id": "6d425442-8f0a-4662-9174-925b17e85502",
   "metadata": {
    "tags": []
   },
   "outputs": [],
   "source": [
    "@scenario('evaluation_scenario_2.feature', 'Unit test 1')\n",
    "def test_UnitTest1():\n",
    "    pass\n",
    "\n",
    "\n",
    "@given(\"initial conditions\", target_fixture=\"initial_conditions\")\n",
    "def initial_conditions():\n",
    "    num_samples = 100\n",
    "    N = 1\n",
    "    # Initial number of infected and recovered individuals, I0 and R0.\n",
    "    I0, D0, A0, R0, T0, H0, E0 = 200/60e6, 20/60e6, 1/60e6, 2/60e6, 0, 0, 0\n",
    "    # Everyone else\n",
    "    S0 = N - I0 - D0 - A0 - R0 - T0 - H0 - E0\n",
    "    return dict(N=1, initial_state=tuple(torch.as_tensor(s) for s in  (S0, I0, D0, A0, R0, T0, H0, E0)),\n",
    "                final_observed_state = tuple(torch.as_tensor(s) for s in  (S0, I0, D0, A0, R0, T0, H0, E0)))\n",
    "\n",
    "@given(\"parameters\", target_fixture=\"parameters\")\n",
    "def parameters():\n",
    "    return dict(alpha_prior=dist.Delta(torch.tensor (0.570)) ,\n",
    "                beta_prior=dist.Delta(torch.tensor  (0.011)) ,\n",
    "                gamma_prior=dist.Delta(torch.tensor (0.456)) ,\n",
    "                delta_prior=dist.Delta(torch.tensor (0.011)) ,\n",
    "                epsilon_prior=dist.Delta(torch.tensor(0.171)),\n",
    "                lamb_prior =dist.Delta(torch.tensor (0.034)) ,\n",
    "                zeta_prior=dist.Delta(torch.tensor  (0.125)) ,\n",
    "                eta_prior=dist.Delta(torch.tensor   (0.125)) ,\n",
    "                kappa_prior=dist.Delta(torch.tensor (0.017)) ,\n",
    "                theta_prior=dist.Delta(torch.tensor (0.371)) ,\n",
    "                rho_prior=dist.Delta(torch.tensor   (0.034)) ,\n",
    "                xi_prior=dist.Delta(torch.tensor    (0.017)) ,\n",
    "                sigma_prior=dist.Delta(torch.tensor (0.017)) ,\n",
    "                mu_prior=dist.Delta(torch.tensor    (0.017)) ,\n",
    "                nu_prior=dist.Delta(torch.tensor    (0.027)) ,\n",
    "                tau_prior=dist.Delta(torch.tensor   (0.01))  )\n",
    "\n",
    "\n",
    "@given(\"SIDARTHE model\", target_fixture=\"initialize_SIDARTHE_model\")\n",
    "def initialize_SIDARTHE_model(initial_conditions, parameters):\n",
    "    return SIDARTHE(initial_conditions[\"N\"],**parameters)\n",
    "\n",
    "\n",
    "@when(\"simulating the model for 100 days\", target_fixture=\"simulate_for_days\")\n",
    "def simulate_for_days(initialize_SIDARTHE_model,initial_conditions,days=100):\n",
    "    return sample(initialize_SIDARTHE_model, 1, initial_conditions[\"initial_state\"], get_tspan(1, days, days))\n",
    "\n",
    "\n",
    "@then(\"peak of infection is around day 47\")\n",
    "def day_around_47(simulate_for_days):\n",
    "    assert torch.abs(torch.argmax(simulate_for_days[\"I_total_obs\"]) - torch.tensor(47)) <= 3"
   ]
  },
  {
   "cell_type": "markdown",
   "id": "d79110b9-fac9-4441-8f2d-31d8cf8058dd",
   "metadata": {},
   "source": [
    "# Unit Test 2"
   ]
  },
  {
   "cell_type": "markdown",
   "id": "5fccc768-3877-41f0-b581-732bd4952823",
   "metadata": {},
   "source": [
    "Now update the parameters to reflect various interventions that Italy implemented during the first wave, as described in detail on pg. 9. Simulate for 100 days, reproduce the trajectories in Fig. 2B, and determine the day and level of peak total infections (sum over all the infected states I, D, A, R, T). Expected output: Trajectories in Fig. 2B, peak occurs around day 50, with ~0.2% of the total population infected.\n",
    "\n",
    "TLDR; Same test but using multiple new parameter sets. Peak at day 50 with y= ~0.2% (+or- 0.2)"
   ]
  },
  {
   "cell_type": "code",
   "execution_count": null,
   "id": "8a1a5dc0-0871-4f21-9fae-b76009562a07",
   "metadata": {},
   "outputs": [],
   "source": [
    "#evaluation_scenario_2.feature  file\n",
    "\n",
    "#Feature: Evaluation Scenario 2\n",
    "#    Reproduce the result in page 9 of the supplementary methods section of the SIDARTHE publication\n",
    "\n",
    "    Scenario: Unit test 2\n",
    "        Given initial conditions\n",
    "        And parameters\n",
    "        And SIDARTHE model\n",
    "\n",
    "        When simulating the model for 100 days\n",
    "\n",
    "        Then peak of infection is around day 47\n",
    "        \n",
    "Feature: Multiple site support\n",
    "\n",
    "  Background:\n",
    "    Given a global administrator named \"Greg\"\n",
    "    And a blog named \"Greg's anti-tax rants\"\n",
    "    And a customer named \"Wilson\"\n",
    "    And a blog named \"Expensive Therapy\" owned by \"Wilson\"\n",
    "\n",
    "  Scenario: Wilson posts to his own blog\n",
    "    Given I am logged in as Wilson\n",
    "    When I try to post to \"Expensive Therapy\"\n",
    "    Then I should see \"Your article was published.\"\n",
    "\n",
    "  Scenario: Greg posts to a client's blog\n",
    "    Given I am logged in as Greg\n",
    "    When I try to post to \"Expensive Therapy\"\n",
    "    Then I should see \"Your article was published.\""
   ]
  }
 ],
 "metadata": {
  "kernelspec": {
   "display_name": "Python 3 (ipykernel)",
   "language": "python",
   "name": "python3"
  },
  "language_info": {
   "codemirror_mode": {
    "name": "ipython",
    "version": 3
   },
   "file_extension": ".py",
   "mimetype": "text/x-python",
   "name": "python",
   "nbconvert_exporter": "python",
   "pygments_lexer": "ipython3",
   "version": "3.11.0"
  }
 },
 "nbformat": 4,
 "nbformat_minor": 5
}
