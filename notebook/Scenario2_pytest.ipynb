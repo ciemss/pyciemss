{
 "cells": [
  {
   "cell_type": "code",
   "execution_count": 2,
   "id": "79739105-cc0a-4f65-b124-d586b77e1350",
   "metadata": {},
   "outputs": [
    {
     "ename": "ModuleNotFoundError",
     "evalue": "No module named 'pytest_bdd'",
     "output_type": "error",
     "traceback": [
      "\u001b[0;31m---------------------------------------------------------------------------\u001b[0m",
      "\u001b[0;31mModuleNotFoundError\u001b[0m                       Traceback (most recent call last)",
      "Cell \u001b[0;32mIn[2], line 1\u001b[0m\n\u001b[0;32m----> 1\u001b[0m \u001b[38;5;28;01mfrom\u001b[39;00m \u001b[38;5;21;01mpytest_bdd\u001b[39;00m \u001b[38;5;28;01mimport\u001b[39;00m scenario, given, when, then\n",
      "\u001b[0;31mModuleNotFoundError\u001b[0m: No module named 'pytest_bdd'"
     ]
    }
   ],
   "source": [
    "import pytest\n",
    "from pytest_bdd import scenario, given, when, then"
   ]
  },
  {
   "cell_type": "markdown",
   "id": "a21f5408-2d6e-4cb1-ab77-d469b2584462",
   "metadata": {},
   "source": [
    "```\n",
    "Feature: UnitTest1\n",
    "    Reproduce the result in page 9 of the supplementary methods section of the SIDARTHE publication\n",
    "    \n",
    "    Scenario: Forecast peak of infection over 100 days\n",
    "        Given SIDARTHE model\n",
    "        And initial conditions\n",
    "        And parameters\n",
    "        And tspan\n",
    "\n",
    "        When simulating the model for 100 days\n",
    "\n",
    "        Then infection peaks day is around 47\n",
    " ```"
   ]
  },
  {
   "cell_type": "code",
   "execution_count": 3,
   "id": "6d425442-8f0a-4662-9174-925b17e85502",
   "metadata": {},
   "outputs": [
    {
     "ename": "ModuleNotFoundError",
     "evalue": "No module named 'torch'",
     "output_type": "error",
     "traceback": [
      "\u001b[0;31m---------------------------------------------------------------------------\u001b[0m",
      "\u001b[0;31mModuleNotFoundError\u001b[0m                       Traceback (most recent call last)",
      "Cell \u001b[0;32mIn[3], line 1\u001b[0m\n\u001b[0;32m----> 1\u001b[0m \u001b[38;5;28;01mimport\u001b[39;00m \u001b[38;5;21;01mtorch\u001b[39;00m\n\u001b[1;32m      2\u001b[0m \u001b[38;5;28;01mfrom\u001b[39;00m \u001b[38;5;21;01mpyciemss\u001b[39;00m\u001b[38;5;21;01m.\u001b[39;00m\u001b[38;5;21;01mODE\u001b[39;00m\u001b[38;5;21;01m.\u001b[39;00m\u001b[38;5;21;01mmodels\u001b[39;00m \u001b[38;5;28;01mimport\u001b[39;00m SIDARTHE\n\u001b[1;32m      4\u001b[0m \u001b[38;5;129m@scenario\u001b[39m(\u001b[38;5;124m'\u001b[39m\u001b[38;5;124mpublish_article.feature\u001b[39m\u001b[38;5;124m'\u001b[39m, \u001b[38;5;124m'\u001b[39m\u001b[38;5;124mPublishing the article\u001b[39m\u001b[38;5;124m'\u001b[39m)\n\u001b[1;32m      5\u001b[0m \u001b[38;5;28;01mdef\u001b[39;00m \u001b[38;5;21mtest_UnitTest1\u001b[39m():\n",
      "\u001b[0;31mModuleNotFoundError\u001b[0m: No module named 'torch'"
     ]
    }
   ],
   "source": [
    "import torch\n",
    "from pyciemss.ODE.models import SIDARTHE\n",
    "\n",
    "@scenario('publish_article.feature', 'Publishing the article')\n",
    "def test_UnitTest1():\n",
    "    pass\n",
    "\n",
    "\n",
    "@given(\"initial conditions\", target_fixture=\"article\")\n",
    "def initial_conditions():\n",
    "    num_samples = 100\n",
    "    N = 1\n",
    "    # Initial number of infected and recovered individuals, I0 and R0.\n",
    "    I0, D0, A0, R0, T0, H0, E0 = 200/60e6, 20/60e6, 1/60e6, 2/60e6, 0, 0, 0\n",
    "    # Everyone else\n",
    "    S0 = N - I0 - D0 - A0 - R0 - T0 - H0 - E0\n",
    "    return dict(N=1,\n",
    "                initial_state=tuple(torch.as_tensor(s) for s in  (S0, I0, D0, A0, R0, T0, H0, E0)),\n",
    "                final_observed_state = tuple(torch.as_tensor(s) for s in  (S0, I0, D0, A0, R0, T0, H0, E0)))\n",
    "\n",
    "@given(\"parameters\", target_fixture=\"article\")\n",
    "def parameters():\n",
    "    return dict(alpha_prior=dist.Delta(torch.tensor (0.570)),\n",
    "                beta_prior=dist.Delta(torch.tensor (0.011)) ,\n",
    "                 gamma_prior=dist.Delta(torch.tensor (0.456)) ,\n",
    "                 delta_prior=dist.Delta(torch.tensor (0.011)) ,\n",
    "                 epsilon_prior=dist.Delta(torch.tensor (0.171)) ,\n",
    "                 lamb_prior =dist.Delta(torch.tensor (0.034)) ,\n",
    "                 zeta_prior=dist.Delta(torch.tensor (0.125)) ,\n",
    "                 eta_prior=dist.Delta(torch.tensor (0.125)) ,\n",
    "                 kappa_prior=dist.Delta(torch.tensor (0.017)) ,\n",
    "                 theta_prior=dist.Delta(torch.tensor (0.371)) ,\n",
    "                 rho_prior=dist.Delta(torch.tensor (0.034)) ,\n",
    "                 xi_prior=dist.Delta(torch.tensor (0.017)) ,\n",
    "                 sigma_prior=dist.Delta(torch.tensor (0.017)) ,\n",
    "                 mu_prior=dist.Delta(torch.tensor (0.017)) ,\n",
    "                 nu_prior=dist.Delta(torch.tensor (0.027)) ,\n",
    "                 tau_prior=dist.Delta(torch.tensor (0.01)) )\n",
    "    \n",
    "\n",
    "@given(\"SIDARTHE model\")\n",
    "def initialize_SIDARTHE_model(initial_conditions,parameters):\n",
    "    return SIDARTHE(initial_conditions[\"N\"],**parameters)\n",
    "    \n",
    "    \n",
    "@when(\"simulating the model for 100 days\")\n",
    "def simulate_for_days(initialize_SIDARTHE_model,initial_conditions,days=100):\n",
    "    return sample(initialize_SIDARTHE_model, 1, initial_conditions[\"initial_state\"], get_tspan(1, days, days))\n",
    "\n",
    "\n",
    "@then(\"day is around 47\")\n",
    "def day_around_47(simulate_for_days):\n",
    "    assert torch.abs(torch.argmax(simulate_for_days[\"I_obs_total\"]) - torch.tensor(47)) <= 5\n",
    "    \n",
    "    "
   ]
  },
  {
   "cell_type": "code",
   "execution_count": null,
   "id": "78edeb71-749f-420c-b0dd-83fa17f1a2f7",
   "metadata": {},
   "outputs": [],
   "source": []
  }
 ],
 "metadata": {
  "kernelspec": {
   "display_name": "ac-riskouu",
   "language": "python",
   "name": "ac-riskouu"
  },
  "language_info": {
   "codemirror_mode": {
    "name": "ipython",
    "version": 3
   },
   "file_extension": ".py",
   "mimetype": "text/x-python",
   "name": "python",
   "nbconvert_exporter": "python",
   "pygments_lexer": "ipython3",
   "version": "3.10.9"
  }
 },
 "nbformat": 4,
 "nbformat_minor": 5
}
