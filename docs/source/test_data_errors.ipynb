{
 "cells": [
  {
   "cell_type": "markdown",
   "id": "715031d6",
   "metadata": {},
   "source": [
    "## This notebook tests different types of possible data errors, and makes sure that they are handled gracefully within the `load_data` function."
   ]
  },
  {
   "cell_type": "markdown",
   "id": "e6566b20",
   "metadata": {},
   "source": [
    "### Load dependencies"
   ]
  },
  {
   "cell_type": "code",
   "execution_count": 1,
   "id": "75ce8777",
   "metadata": {},
   "outputs": [],
   "source": [
    "import os\n",
    "import pyciemss\n",
    "from pyciemss.integration_utils.observation import load_data"
   ]
  },
  {
   "cell_type": "markdown",
   "id": "1cbcff86",
   "metadata": {},
   "source": [
    "### Set the data path and data mapping"
   ]
  },
  {
   "cell_type": "code",
   "execution_count": null,
   "id": "8f6447da",
   "metadata": {},
   "outputs": [],
   "source": [
    "DATA_PATH = \"https://raw.githubusercontent.com/ciemss/pyciemss/sa-load-data-tests/docs/source/sa-testing-notebooks/\"\n",
    "data_mapping = {\"case\": \"I\", \"hosp\": \"H\"}"
   ]
  },
  {
   "cell_type": "markdown",
   "id": "b641d510",
   "metadata": {},
   "source": [
    "### Check for errors with different data sets"
   ]
  },
  {
   "cell_type": "code",
   "execution_count": null,
   "id": "b70cf51b",
   "metadata": {},
   "outputs": [],
   "source": [
    "# There should be no errors here\n",
    "dataset = os.path.join(DATA_PATH, \"SIR_data_case_hosp.csv\")\n",
    "load_data(dataset, data_mapping)    "
   ]
  },
  {
   "cell_type": "code",
   "execution_count": null,
   "id": "840ce831",
   "metadata": {},
   "outputs": [],
   "source": [
    "# Should throw an error for missing data\n",
    "dataset = os.path.join(DATA_PATH, \"SIR_missing_data.csv\")\n",
    "load_data(dataset, data_mapping)"
   ]
  },
  {
   "cell_type": "code",
   "execution_count": null,
   "id": "d8d07064",
   "metadata": {},
   "outputs": [],
   "source": [
    "# Should throw an error for NaN-type data\n",
    "dataset = os.path.join(DATA_PATH, \"SIR_data_nan.csv\")\n",
    "load_data(dataset, data_mapping)"
   ]
  },
  {
   "cell_type": "code",
   "execution_count": null,
   "id": "26c24d2f",
   "metadata": {},
   "outputs": [],
   "source": [
    "# Should throw an error for missing data in the form of a space\n",
    "dataset = os.path.join(DATA_PATH, \"SIR_missing_data_space.csv\")\n",
    "load_data(dataset, data_mapping)"
   ]
  },
  {
   "cell_type": "code",
   "execution_count": null,
   "id": "583d7b4a",
   "metadata": {},
   "outputs": [],
   "source": [
    "# Should throw an error for None-type data\n",
    "dataset = os.path.join(DATA_PATH, \"SIR_data_none_type.csv\")\n",
    "load_data(dataset, data_mapping)"
   ]
  },
  {
   "cell_type": "code",
   "execution_count": null,
   "id": "4d417aab",
   "metadata": {},
   "outputs": [],
   "source": [
    "# Should throw an error for having the wrong column name\n",
    "dataset = os.path.join(DATA_PATH, \"SIR_data_wrong_time_col_name.csv\")\n",
    "load_data(dataset, data_mapping)"
   ]
  },
  {
   "cell_type": "code",
   "execution_count": null,
   "id": "64badecc",
   "metadata": {},
   "outputs": [],
   "source": []
  },
  {
   "cell_type": "code",
   "execution_count": null,
   "id": "298ee978",
   "metadata": {},
   "outputs": [],
   "source": []
  }
 ],
 "metadata": {
  "kernelspec": {
   "display_name": "Python (pyciemss)",
   "language": "python",
   "name": "pyciemss"
  },
  "language_info": {
   "codemirror_mode": {
    "name": "ipython",
    "version": 3
   },
   "file_extension": ".py",
   "mimetype": "text/x-python",
   "name": "python",
   "nbconvert_exporter": "python",
   "pygments_lexer": "ipython3",
   "version": "3.10.9"
  }
 },
 "nbformat": 4,
 "nbformat_minor": 5
}
