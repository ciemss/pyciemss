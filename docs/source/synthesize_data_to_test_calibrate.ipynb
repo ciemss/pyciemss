{
 "cells": [
  {
   "cell_type": "markdown",
   "id": "d34d3305",
   "metadata": {},
   "source": [
    "# This is a notebook for synthesizing data to test calibration\n",
    "\n",
    "In order to check that `calibrate` is returning a result that makes sense, we are going to:  \n",
    "\n",
    "1. `sample` a model\n",
    "2. use that output to generate synthetic data\n",
    "3. then calibrate the model to that synthetic dataset\n",
    "4. sanity check that the parameters/results are reasonable compared to the parameters used to create the synthetic data\n",
    "\n",
    "See [this issue](https://github.com/ciemss/pyciemss/issues/448)."
   ]
  },
  {
   "cell_type": "markdown",
   "id": "450584e7",
   "metadata": {},
   "source": [
    "### Load dependencies"
   ]
  },
  {
   "cell_type": "code",
   "execution_count": null,
   "id": "b97258c8",
   "metadata": {},
   "outputs": [],
   "source": [
    "import os\n",
    "import numpy as np\n",
    "import pandas as pd\n",
    "import matplotlib.pyplot as plt\n",
    "import pyciemss\n",
    "from pyciemss.interfaces import calibrate"
   ]
  },
  {
   "cell_type": "markdown",
   "id": "d62f14d7",
   "metadata": {},
   "source": [
    "### Collect model and data paths"
   ]
  },
  {
   "cell_type": "code",
   "execution_count": null,
   "id": "97d0a526",
   "metadata": {},
   "outputs": [],
   "source": [
    "MODEL_PATH = \"https://raw.githubusercontent.com/DARPA-ASKEM/simulation-integration/main/data/models/\"\n",
    "DATA_PATH = \"../../docs/source/\"\n",
    "\n",
    "# Models\n",
    "petri1 = os.path.join(MODEL_PATH, \"SEIRHD_with_reinfection01_petrinet.json\")\n",
    "regnet1 = os.path.join(MODEL_PATH, \"LV_rabbits_wolves_model02_regnet.json\")\n",
    "stock1 = os.path.join(MODEL_PATH, \"SIR_stockflow.json\")\n",
    "stock2 = os.path.join(MODEL_PATH, \"SEIRHDS_stockflow.json\")"
   ]
  },
  {
   "cell_type": "markdown",
   "id": "122c47b5",
   "metadata": {},
   "source": [
    "### Set parameters for sampling"
   ]
  },
  {
   "cell_type": "code",
   "execution_count": null,
   "id": "156a677f",
   "metadata": {},
   "outputs": [],
   "source": [
    "# What is logging_step_size?"
   ]
  },
  {
   "cell_type": "code",
   "execution_count": null,
   "id": "50b58957",
   "metadata": {},
   "outputs": [],
   "source": [
    "start_time = 0.0\n",
    "end_time = 150.0\n",
    "logging_step_size = 10.0"
   ]
  },
  {
   "cell_type": "markdown",
   "id": "b3aa521b",
   "metadata": {},
   "source": [
    "### Define functions for generating synthetic data"
   ]
  },
  {
   "cell_type": "code",
   "execution_count": null,
   "id": "5719c2bf",
   "metadata": {},
   "outputs": [],
   "source": [
    "# Function to add Gaussian noise to `sample` results\n",
    "def add_gaussian_noise(data: pd.DataFrame, std_dev: float, col_state_map: dict) -> pd.DataFrame:\n",
    "    noise = np.random.normal(0, std_dev, size=data.shape)\n",
    "    noisy_data = data + noise\n",
    "    noisy_data.insert(0, 'Timestamp', noisy_data.index.astype(float))\n",
    "    col_state_map = {'Timestamp': 'Timestamp', **col_state_map}\n",
    "    noisy_data = noisy_data.rename(columns=col_state_map)\n",
    "    return noisy_data\n",
    "\n",
    "# Function to sample from a model and generate synthetic data\n",
    "def synthetic_data(model, col_state_map, end_time, logging_step_size, noise_level):\n",
    "    num_samples = 1\n",
    "    result = pyciemss.sample(model, end_time, logging_step_size, num_samples)\n",
    "    data_df = result[\"data\"][list(col_state_map.keys())]\n",
    "    noisy_data = add_gaussian_noise(data_df, noise_level, col_state_map)\n",
    "    petri_noisy_data.to_csv('noisy_data.csv', index=False)\n",
    "    return petri_noisy_data\n",
    "\n",
    "# TODO: make_plot=True"
   ]
  },
  {
   "cell_type": "markdown",
   "id": "4bb17901",
   "metadata": {},
   "source": [
    "## (1) Create synthetic data from a given model"
   ]
  },
  {
   "cell_type": "code",
   "execution_count": null,
   "id": "382428cd",
   "metadata": {},
   "outputs": [],
   "source": [
    "col_state_map = {'I_state_state': 'Cases', 'H_state_state': 'Hosp', 'D_state_state': 'Deaths'}\n",
    "noise_level = 0.0\n",
    "synthetic_data(petri1, col_state_map, end_time, logging_step_size, noise_level)"
   ]
  },
  {
   "cell_type": "markdown",
   "id": "d942d378",
   "metadata": {},
   "source": [
    "## (2) Calibrate the model to the synthetic data"
   ]
  },
  {
   "cell_type": "code",
   "execution_count": null,
   "id": "9dbf33e9",
   "metadata": {},
   "outputs": [],
   "source": [
    "data_mapping = {\"Cases\": \"I\", \"Hosp\": \"H\", \"Deaths\": \"D\"} # data_mapping = \"column_name\": \"observable/state_variable\"\n",
    "num_iterations = 100\n",
    "dataset = DATA_PATH + \"noisy_data.csv\"\n",
    "\n",
    "calibrated_results = calibrate(petri1, dataset, data_mapping=data_mapping, num_iterations=num_iterations)\n",
    "parameter_estimates = calibrated_results[\"inferred_parameters\"]\n",
    "calibrated_results"
   ]
  },
  {
   "cell_type": "code",
   "execution_count": null,
   "id": "84d9c95a",
   "metadata": {},
   "outputs": [],
   "source": [
    "parameter_estimates()"
   ]
  },
  {
   "cell_type": "code",
   "execution_count": null,
   "id": "bb8e1389",
   "metadata": {},
   "outputs": [],
   "source": [
    "calibrated_sample_results = pyciemss.sample(model1, end_time, logging_step_size, num_samples, \n",
    "                start_time=start_time, inferred_parameters=parameter_estimates)\n",
    "calibrated_sample_results"
   ]
  },
  {
   "cell_type": "code",
   "execution_count": null,
   "id": "609f8d78",
   "metadata": {},
   "outputs": [],
   "source": []
  },
  {
   "cell_type": "code",
   "execution_count": null,
   "id": "488edea3",
   "metadata": {},
   "outputs": [],
   "source": [
    "# Sanity check: compare calibrated parameters to original"
   ]
  },
  {
   "cell_type": "code",
   "execution_count": null,
   "id": "14b8409d",
   "metadata": {},
   "outputs": [],
   "source": []
  },
  {
   "cell_type": "code",
   "execution_count": null,
   "id": "174964e5",
   "metadata": {},
   "outputs": [],
   "source": []
  }
 ],
 "metadata": {
  "kernelspec": {
   "display_name": "Python (pyciemss)",
   "language": "python",
   "name": "pyciemss"
  },
  "language_info": {
   "codemirror_mode": {
    "name": "ipython",
    "version": 3
   },
   "file_extension": ".py",
   "mimetype": "text/x-python",
   "name": "python",
   "nbconvert_exporter": "python",
   "pygments_lexer": "ipython3",
   "version": "3.10.9"
  }
 },
 "nbformat": 4,
 "nbformat_minor": 5
}
