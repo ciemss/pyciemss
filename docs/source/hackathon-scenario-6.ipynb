{
 "cells": [
  {
   "cell_type": "code",
   "execution_count": 1,
   "id": "80fe569b-2546-440f-97d6-14cb2eac2e95",
   "metadata": {},
   "outputs": [],
   "source": [
    "import os\n",
    "import pyciemss\n",
    "import torch\n",
    "\n",
    "from pyciemss.compiled_dynamics import CompiledDynamics\n",
    "\n",
    "import pyciemss.visuals.plots as plots\n",
    "import pyciemss.visuals.vega as vega\n",
    "import pyciemss.visuals.trajectories as trajectories"
   ]
  },
  {
   "cell_type": "code",
   "execution_count": 2,
   "id": "e22b8cbc-6fe6-4f63-8d0e-a6a0aec508a3",
   "metadata": {},
   "outputs": [],
   "source": [
    "MODEL_PATH = \"https://raw.githubusercontent.com/gyorilab/mira/main/notebooks/hackathon_2024.02/scenario6/\"\n",
    "\n",
    "chen_petri = os.path.join(MODEL_PATH, \"scenario6_chen_petrinet.json\")\n",
    "hunt_petri = os.path.join(MODEL_PATH, \"scenario6_hunt_petrinet.json\")\n",
    "chen_regnet = os.path.join(MODEL_PATH, \"scenario6_chen_regnet.json\")\n",
    "hunt_regnet = os.path.join(MODEL_PATH, \"scenario6_hunt_regnet.json\")"
   ]
  },
  {
   "cell_type": "code",
   "execution_count": 3,
   "id": "04b87762-c6d1-4a0f-a2ac-3f774226ba40",
   "metadata": {},
   "outputs": [],
   "source": [
    "start_time = 0.0\n",
    "end_time = 100.0\n",
    "logging_step_size = 10.0\n",
    "num_samples = 1 # these models do not include uncertainty, so only one sample is needed"
   ]
  },
  {
   "cell_type": "code",
   "execution_count": 4,
   "id": "40c3cb3d-e055-40e6-875f-c8f11f007cd6",
   "metadata": {},
   "outputs": [
    {
     "data": {
      "text/plain": [
       "CompiledDynamics(\n",
       "  (numeric_deriv_func): SymPyModule(expressions=(C_0*p_1 - V_0*r_1, C_1*p_1 - V_1*r_2, C_2*p_1 - V_2*r_3, L_0*r_1 - U_0*p_1, L_1*r_2 - U_1*p_2, L_2*r_3 - U_2*p_3))\n",
       "  (numeric_initial_state_func): SymPyModule(expressions=(3.00000000000000, 6.00000000000000, 5.00000000000000, 100.000000000000, 500.000000000000, 1.00000000000000))\n",
       ")"
      ]
     },
     "metadata": {},
     "output_type": "display_data"
    }
   ],
   "source": [
    "# Print Chen petrinet dynamics\n",
    "chen_petri_model = CompiledDynamics.load(chen_petri)\n",
    "display(chen_petri_model)"
   ]
  },
  {
   "cell_type": "code",
   "execution_count": 5,
   "id": "c9d8065c-5c93-4516-8d7f-362ee232e423",
   "metadata": {},
   "outputs": [
    {
     "data": {
      "text/plain": [
       "CompiledDynamics(\n",
       "  (numeric_deriv_func): SymPyModule(expressions=(r_1*(C_0*p_1 + V_0), r_2*(C_1*p_1 + V_1), r_3*(C_2*p_1 + V_2), p_1*(L_0*r_1 + U_0), p_2*(L_1*r_2 + U_1), p_3*(L_2*r_3 + U_2)))\n",
       "  (numeric_initial_state_func): SymPyModule(expressions=(3.00000000000000, 6.00000000000000, 5.00000000000000, 100.000000000000, 500.000000000000, 1.00000000000000))\n",
       ")"
      ]
     },
     "metadata": {},
     "output_type": "display_data"
    }
   ],
   "source": [
    "# Print Chen regnet dynamics\n",
    "chen_regnet_model = CompiledDynamics.load(chen_regnet)\n",
    "display(chen_regnet_model)"
   ]
  },
  {
   "cell_type": "code",
   "execution_count": null,
   "id": "b488aca7-ef87-465f-81e2-5d1f4cd61fe4",
   "metadata": {},
   "outputs": [],
   "source": []
  }
 ],
 "metadata": {
  "kernelspec": {
   "display_name": "Python 3 (ipykernel)",
   "language": "python",
   "name": "python3"
  },
  "language_info": {
   "codemirror_mode": {
    "name": "ipython",
    "version": 3
   },
   "file_extension": ".py",
   "mimetype": "text/x-python",
   "name": "python",
   "nbconvert_exporter": "python",
   "pygments_lexer": "ipython3",
   "version": "3.10.9"
  }
 },
 "nbformat": 4,
 "nbformat_minor": 5
}
