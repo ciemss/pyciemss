{
 "cells": [
  {
   "cell_type": "markdown",
   "metadata": {},
   "source": [
    "# A tour of PyCIEMSS interfaces and functionality"
   ]
  },
  {
   "cell_type": "markdown",
   "metadata": {},
   "source": [
    "### Load dependencies and interfaces"
   ]
  },
  {
   "cell_type": "code",
   "execution_count": 1,
   "metadata": {},
   "outputs": [],
   "source": [
    "import os\n",
    "import pyciemss\n",
    "import torch\n",
    "import pandas as pd\n",
    "import numpy as np\n",
    "from typing import Dict, List, Callable\n",
    "\n",
    "import pyciemss.visuals.plots as plots\n",
    "import pyciemss.visuals.vega as vega\n",
    "import pyciemss.visuals.trajectories as trajectories\n",
    "\n",
    "from pyciemss.integration_utils.intervention_builder import (\n",
    "    param_value_objective,\n",
    "    start_time_objective,\n",
    ")\n",
    "\n",
    "smoke_test = ('CI' in os.environ)"
   ]
  },
  {
   "cell_type": "markdown",
   "metadata": {},
   "source": [
    "### Select models and data"
   ]
  },
  {
   "cell_type": "code",
   "execution_count": 2,
   "metadata": {},
   "outputs": [],
   "source": [
    "MODEL_PATH = \"https://raw.githubusercontent.com/DARPA-ASKEM/simulation-integration/main/data/models/\"\n",
    "DATA_PATH = \"https://raw.githubusercontent.com/DARPA-ASKEM/simulation-integration/main/data/datasets/\"\n",
    "\n",
    "model1 = os.path.join(MODEL_PATH, \"SEIRHD_NPI_Type1_petrinet.json\")\n",
    "model2 = os.path.join(MODEL_PATH, \"SEIRHD_NPI_Type2_petrinet.json\")\n",
    "model3 = os.path.join(MODEL_PATH, \"SIR_stockflow.json\")\n",
    "\n",
    "dataset1 = os.path.join(DATA_PATH, \"SIR_data_case_hosp.csv\")\n",
    "dataset2 = os.path.join(DATA_PATH, \"traditional.csv\")"
   ]
  },
  {
   "cell_type": "markdown",
   "metadata": {},
   "source": [
    "### Set parameters for sampling"
   ]
  },
  {
   "cell_type": "code",
   "execution_count": 3,
   "metadata": {},
   "outputs": [],
   "source": [
    "start_time = 0.0\n",
    "end_time = 100.0\n",
    "logging_step_size = 10.0\n",
    "num_samples = 3 if smoke_test else 100"
   ]
  },
  {
   "cell_type": "markdown",
   "metadata": {},
   "source": [
    "## Sample interface\n",
    "Take `num_samples` number of samples from the (prior) distribution invoked by the chosen model."
   ]
  },
  {
   "cell_type": "markdown",
   "metadata": {},
   "source": [
    "### Sample from model 1"
   ]
  },
  {
   "cell_type": "code",
   "execution_count": 4,
   "metadata": {},
   "outputs": [
    {
     "data": {
      "text/html": [
       "<div>\n",
       "<style scoped>\n",
       "    .dataframe tbody tr th:only-of-type {\n",
       "        vertical-align: middle;\n",
       "    }\n",
       "\n",
       "    .dataframe tbody tr th {\n",
       "        vertical-align: top;\n",
       "    }\n",
       "\n",
       "    .dataframe thead th {\n",
       "        text-align: right;\n",
       "    }\n",
       "</style>\n",
       "<table border=\"1\" class=\"dataframe\">\n",
       "  <thead>\n",
       "    <tr style=\"text-align: right;\">\n",
       "      <th></th>\n",
       "      <th>timepoint_id</th>\n",
       "      <th>sample_id</th>\n",
       "      <th>timepoint_unknown</th>\n",
       "      <th>persistent_beta_c_param</th>\n",
       "      <th>persistent_kappa_param</th>\n",
       "      <th>persistent_gamma_param</th>\n",
       "      <th>persistent_hosp_param</th>\n",
       "      <th>persistent_death_hosp_param</th>\n",
       "      <th>persistent_I0_param</th>\n",
       "      <th>D_state</th>\n",
       "      <th>E_state</th>\n",
       "      <th>H_state</th>\n",
       "      <th>I_state</th>\n",
       "      <th>R_state</th>\n",
       "      <th>S_state</th>\n",
       "      <th>infected_observable_state</th>\n",
       "      <th>exposed_observable_state</th>\n",
       "      <th>hospitalized_observable_state</th>\n",
       "      <th>dead_observable_state</th>\n",
       "    </tr>\n",
       "  </thead>\n",
       "  <tbody>\n",
       "    <tr>\n",
       "      <th>0</th>\n",
       "      <td>0</td>\n",
       "      <td>0</td>\n",
       "      <td>10.0</td>\n",
       "      <td>0.102173</td>\n",
       "      <td>0.463178</td>\n",
       "      <td>0.226658</td>\n",
       "      <td>0.009906</td>\n",
       "      <td>0.020484</td>\n",
       "      <td>10.959357</td>\n",
       "      <td>0.007508</td>\n",
       "      <td>74.391472</td>\n",
       "      <td>0.392217</td>\n",
       "      <td>56.500904</td>\n",
       "      <td>76.200882</td>\n",
       "      <td>19339832.0</td>\n",
       "      <td>56.500904</td>\n",
       "      <td>74.391472</td>\n",
       "      <td>0.392217</td>\n",
       "      <td>0.007508</td>\n",
       "    </tr>\n",
       "    <tr>\n",
       "      <th>1</th>\n",
       "      <td>1</td>\n",
       "      <td>0</td>\n",
       "      <td>20.0</td>\n",
       "      <td>0.102173</td>\n",
       "      <td>0.463178</td>\n",
       "      <td>0.226658</td>\n",
       "      <td>0.009906</td>\n",
       "      <td>0.020484</td>\n",
       "      <td>10.959357</td>\n",
       "      <td>0.036956</td>\n",
       "      <td>206.506409</td>\n",
       "      <td>1.162896</td>\n",
       "      <td>157.010162</td>\n",
       "      <td>298.333862</td>\n",
       "      <td>19339402.0</td>\n",
       "      <td>157.010162</td>\n",
       "      <td>206.506409</td>\n",
       "      <td>1.162896</td>\n",
       "      <td>0.036956</td>\n",
       "    </tr>\n",
       "    <tr>\n",
       "      <th>2</th>\n",
       "      <td>2</td>\n",
       "      <td>0</td>\n",
       "      <td>30.0</td>\n",
       "      <td>0.102173</td>\n",
       "      <td>0.463178</td>\n",
       "      <td>0.226658</td>\n",
       "      <td>0.009906</td>\n",
       "      <td>0.020484</td>\n",
       "      <td>10.959357</td>\n",
       "      <td>0.120052</td>\n",
       "      <td>573.515686</td>\n",
       "      <td>3.239816</td>\n",
       "      <td>436.067322</td>\n",
       "      <td>915.379089</td>\n",
       "      <td>19338054.0</td>\n",
       "      <td>436.067322</td>\n",
       "      <td>573.515686</td>\n",
       "      <td>3.239816</td>\n",
       "      <td>0.120052</td>\n",
       "    </tr>\n",
       "    <tr>\n",
       "      <th>3</th>\n",
       "      <td>3</td>\n",
       "      <td>0</td>\n",
       "      <td>40.0</td>\n",
       "      <td>0.102173</td>\n",
       "      <td>0.463178</td>\n",
       "      <td>0.226658</td>\n",
       "      <td>0.009906</td>\n",
       "      <td>0.020484</td>\n",
       "      <td>10.959357</td>\n",
       "      <td>0.351004</td>\n",
       "      <td>1592.436035</td>\n",
       "      <td>8.998420</td>\n",
       "      <td>1210.891724</td>\n",
       "      <td>2628.974121</td>\n",
       "      <td>19334610.0</td>\n",
       "      <td>1210.891724</td>\n",
       "      <td>1592.436035</td>\n",
       "      <td>8.998420</td>\n",
       "      <td>0.351004</td>\n",
       "    </tr>\n",
       "    <tr>\n",
       "      <th>4</th>\n",
       "      <td>4</td>\n",
       "      <td>0</td>\n",
       "      <td>50.0</td>\n",
       "      <td>0.102173</td>\n",
       "      <td>0.463178</td>\n",
       "      <td>0.226658</td>\n",
       "      <td>0.009906</td>\n",
       "      <td>0.020484</td>\n",
       "      <td>10.959357</td>\n",
       "      <td>0.992275</td>\n",
       "      <td>4418.884766</td>\n",
       "      <td>24.980379</td>\n",
       "      <td>3360.889648</td>\n",
       "      <td>7386.252441</td>\n",
       "      <td>19324848.0</td>\n",
       "      <td>3360.889648</td>\n",
       "      <td>4418.884766</td>\n",
       "      <td>24.980379</td>\n",
       "      <td>0.992275</td>\n",
       "    </tr>\n",
       "  </tbody>\n",
       "</table>\n",
       "</div>"
      ],
      "text/plain": [
       "   timepoint_id  sample_id timepoint_unknown  persistent_beta_c_param  \\\n",
       "0             0          0              10.0                 0.102173   \n",
       "1             1          0              20.0                 0.102173   \n",
       "2             2          0              30.0                 0.102173   \n",
       "3             3          0              40.0                 0.102173   \n",
       "4             4          0              50.0                 0.102173   \n",
       "\n",
       "   persistent_kappa_param  persistent_gamma_param  persistent_hosp_param  \\\n",
       "0                0.463178                0.226658               0.009906   \n",
       "1                0.463178                0.226658               0.009906   \n",
       "2                0.463178                0.226658               0.009906   \n",
       "3                0.463178                0.226658               0.009906   \n",
       "4                0.463178                0.226658               0.009906   \n",
       "\n",
       "   persistent_death_hosp_param  persistent_I0_param   D_state      E_state  \\\n",
       "0                     0.020484            10.959357  0.007508    74.391472   \n",
       "1                     0.020484            10.959357  0.036956   206.506409   \n",
       "2                     0.020484            10.959357  0.120052   573.515686   \n",
       "3                     0.020484            10.959357  0.351004  1592.436035   \n",
       "4                     0.020484            10.959357  0.992275  4418.884766   \n",
       "\n",
       "     H_state      I_state      R_state     S_state  infected_observable_state  \\\n",
       "0   0.392217    56.500904    76.200882  19339832.0                  56.500904   \n",
       "1   1.162896   157.010162   298.333862  19339402.0                 157.010162   \n",
       "2   3.239816   436.067322   915.379089  19338054.0                 436.067322   \n",
       "3   8.998420  1210.891724  2628.974121  19334610.0                1210.891724   \n",
       "4  24.980379  3360.889648  7386.252441  19324848.0                3360.889648   \n",
       "\n",
       "   exposed_observable_state  hospitalized_observable_state  \\\n",
       "0                 74.391472                       0.392217   \n",
       "1                206.506409                       1.162896   \n",
       "2                573.515686                       3.239816   \n",
       "3               1592.436035                       8.998420   \n",
       "4               4418.884766                      24.980379   \n",
       "\n",
       "   dead_observable_state  \n",
       "0               0.007508  \n",
       "1               0.036956  \n",
       "2               0.120052  \n",
       "3               0.351004  \n",
       "4               0.992275  "
      ]
     },
     "metadata": {},
     "output_type": "display_data"
    }
   ],
   "source": [
    "result1 = pyciemss.sample(model1, end_time, logging_step_size, num_samples, start_time=start_time)\n",
    "display(result1['data'].head())"
   ]
  },
  {
   "cell_type": "code",
   "execution_count": 15,
   "metadata": {},
   "outputs": [
    {
     "name": "stdout",
     "output_type": "stream",
     "text": [
      "The autoreload extension is already loaded. To reload it, use:\n",
      "  %reload_ext autoreload\n"
     ]
    }
   ],
   "source": [
    "%load_ext autoreload\n",
    "%autoreload 1\n",
    "%aimport pyciemss.visuals.plots\n",
    "%aimport pyciemss.visuals.trajectories\n",
    "import pyciemss.visuals.trajectories as trajectories"
   ]
  },
  {
   "cell_type": "code",
   "execution_count": 6,
   "metadata": {},
   "outputs": [
    {
     "data": {
      "image/png": "[encoded data removed]",
      "text/plain": [
       "<IPython.core.display.Image object>"
      ]
     },
     "execution_count": 6,
     "metadata": {},
     "output_type": "execute_result"
    }
   ],
   "source": [
    "values = [e/100 for e in range(0,50, 5)]\n",
    "qlow: float = [0+v for v in values]\n",
    "qhigh: float = [1-v for v in values]\n",
    "\n",
    "schema = plots.trajectories(result1[\"data\"], keep=\"D_state\", qlow=qlow, qhigh=qhigh)\n",
    "schema = plots.resize(schema, w=500)\n",
    "plots.save_schema(schema, \"_schema.json\")\n",
    "plots.ipy_display(schema, format=\"png\")"
   ]
  },
  {
   "cell_type": "code",
   "execution_count": null,
   "metadata": {},
   "outputs": [],
   "source": []
  }
 ],
 "metadata": {
  "kernelspec": {
   "display_name": "Python 3 (ipykernel)",
   "language": "python",
   "name": "python3"
  },
  "language_info": {
   "codemirror_mode": {
    "name": "ipython",
    "version": 3
   },
   "file_extension": ".py",
   "mimetype": "text/x-python",
   "name": "python",
   "nbconvert_exporter": "python",
   "pygments_lexer": "ipython3",
   "version": "3.11.5"
  }
 },
 "nbformat": 4,
 "nbformat_minor": 4
}
