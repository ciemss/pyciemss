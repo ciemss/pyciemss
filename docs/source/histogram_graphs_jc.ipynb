{
 "cells": [
  {
   "cell_type": "code",
   "execution_count": 1,
   "metadata": {},
   "outputs": [],
   "source": [
    "import os\n",
    "import json\n",
    "import sympy\n",
    "import requests\n",
    "\n",
    "import pyciemss\n",
    "import pyciemss.visuals.plots as plots\n",
    "import pyciemss.visuals.vega as vega\n",
    "import pyciemss.visuals.trajectories as trajectories\n",
    "\n",
    "from mira.metamodel import *\n",
    "from mira.modeling.amr.petrinet import AMRPetriNetModel, template_model_to_petrinet_json\n",
    "from mira.sources.amr.petrinet import template_model_from_amr_json"
   ]
  },
  {
   "cell_type": "code",
   "execution_count": 2,
   "metadata": {},
   "outputs": [],
   "source": [
    "MODEL_PATH = \"https://raw.githubusercontent.com/DARPA-ASKEM/simulation-integration/main/data/models/\"\n",
    "\n",
    "model1 = os.path.join(MODEL_PATH, \"SEIRD_base_model01_petrinet.json\")\n",
    "model2 = os.path.join(MODEL_PATH, \"SEIRHD_base_model01_petrinet.json\")\n",
    "model3 = os.path.join(MODEL_PATH, \"LV_sheep_foxes.json\")"
   ]
  },
  {
   "cell_type": "code",
   "execution_count": 3,
   "metadata": {},
   "outputs": [],
   "source": [
    "start_time = 0.0\n",
    "end_time = 100.0\n",
    "logging_step_size = 1\n",
    "num_samples = 100"
   ]
  },
  {
   "cell_type": "code",
   "execution_count": 4,
   "metadata": {},
   "outputs": [
    {
     "data": {
      "text/html": [
       "<div>\n",
       "<style scoped>\n",
       "    .dataframe tbody tr th:only-of-type {\n",
       "        vertical-align: middle;\n",
       "    }\n",
       "\n",
       "    .dataframe tbody tr th {\n",
       "        vertical-align: top;\n",
       "    }\n",
       "\n",
       "    .dataframe thead th {\n",
       "        text-align: right;\n",
       "    }\n",
       "</style>\n",
       "<table border=\"1\" class=\"dataframe\">\n",
       "  <thead>\n",
       "    <tr style=\"text-align: right;\">\n",
       "      <th></th>\n",
       "      <th>timepoint_id</th>\n",
       "      <th>sample_id</th>\n",
       "      <th>timepoint_unknown</th>\n",
       "      <th>persistent_beta_param</th>\n",
       "      <th>persistent_death_param</th>\n",
       "      <th>persistent_gamma_param</th>\n",
       "      <th>persistent_I0_param</th>\n",
       "      <th>S_state</th>\n",
       "      <th>I_state</th>\n",
       "      <th>E_state</th>\n",
       "      <th>R_state</th>\n",
       "      <th>D_state</th>\n",
       "      <th>infected_observable_state</th>\n",
       "      <th>dead_observable_state</th>\n",
       "    </tr>\n",
       "  </thead>\n",
       "  <tbody>\n",
       "    <tr>\n",
       "      <th>0</th>\n",
       "      <td>0</td>\n",
       "      <td>0</td>\n",
       "      <td>0.0</td>\n",
       "      <td>0.616334</td>\n",
       "      <td>0.005355</td>\n",
       "      <td>0.27871</td>\n",
       "      <td>9.615122</td>\n",
       "      <td>19339990.0</td>\n",
       "      <td>9.615122</td>\n",
       "      <td>40.000000</td>\n",
       "      <td>0.000000</td>\n",
       "      <td>0.000000</td>\n",
       "      <td>9.615122</td>\n",
       "      <td>0.000000</td>\n",
       "    </tr>\n",
       "    <tr>\n",
       "      <th>1</th>\n",
       "      <td>1</td>\n",
       "      <td>0</td>\n",
       "      <td>1.0</td>\n",
       "      <td>0.616334</td>\n",
       "      <td>0.005355</td>\n",
       "      <td>0.27871</td>\n",
       "      <td>9.615122</td>\n",
       "      <td>19339982.0</td>\n",
       "      <td>15.725588</td>\n",
       "      <td>38.227234</td>\n",
       "      <td>3.561627</td>\n",
       "      <td>0.019175</td>\n",
       "      <td>15.725588</td>\n",
       "      <td>0.019175</td>\n",
       "    </tr>\n",
       "    <tr>\n",
       "      <th>2</th>\n",
       "      <td>2</td>\n",
       "      <td>0</td>\n",
       "      <td>2.0</td>\n",
       "      <td>0.616334</td>\n",
       "      <td>0.005355</td>\n",
       "      <td>0.27871</td>\n",
       "      <td>9.615122</td>\n",
       "      <td>19339972.0</td>\n",
       "      <td>20.365023</td>\n",
       "      <td>39.706032</td>\n",
       "      <td>8.585239</td>\n",
       "      <td>0.046220</td>\n",
       "      <td>20.365023</td>\n",
       "      <td>0.046220</td>\n",
       "    </tr>\n",
       "    <tr>\n",
       "      <th>3</th>\n",
       "      <td>3</td>\n",
       "      <td>0</td>\n",
       "      <td>3.0</td>\n",
       "      <td>0.616334</td>\n",
       "      <td>0.005355</td>\n",
       "      <td>0.27871</td>\n",
       "      <td>9.615122</td>\n",
       "      <td>19339958.0</td>\n",
       "      <td>24.443735</td>\n",
       "      <td>43.198795</td>\n",
       "      <td>14.802108</td>\n",
       "      <td>0.079690</td>\n",
       "      <td>24.443735</td>\n",
       "      <td>0.079690</td>\n",
       "    </tr>\n",
       "    <tr>\n",
       "      <th>4</th>\n",
       "      <td>4</td>\n",
       "      <td>0</td>\n",
       "      <td>4.0</td>\n",
       "      <td>0.616334</td>\n",
       "      <td>0.005355</td>\n",
       "      <td>0.27871</td>\n",
       "      <td>9.615122</td>\n",
       "      <td>19339942.0</td>\n",
       "      <td>28.461281</td>\n",
       "      <td>48.109119</td>\n",
       "      <td>22.132668</td>\n",
       "      <td>0.119155</td>\n",
       "      <td>28.461281</td>\n",
       "      <td>0.119155</td>\n",
       "    </tr>\n",
       "  </tbody>\n",
       "</table>\n",
       "</div>"
      ],
      "text/plain": [
       "   timepoint_id  sample_id timepoint_unknown  persistent_beta_param  \\\n",
       "0             0          0               0.0               0.616334   \n",
       "1             1          0               1.0               0.616334   \n",
       "2             2          0               2.0               0.616334   \n",
       "3             3          0               3.0               0.616334   \n",
       "4             4          0               4.0               0.616334   \n",
       "\n",
       "   persistent_death_param  persistent_gamma_param  persistent_I0_param  \\\n",
       "0                0.005355                 0.27871             9.615122   \n",
       "1                0.005355                 0.27871             9.615122   \n",
       "2                0.005355                 0.27871             9.615122   \n",
       "3                0.005355                 0.27871             9.615122   \n",
       "4                0.005355                 0.27871             9.615122   \n",
       "\n",
       "      S_state    I_state    E_state    R_state   D_state  \\\n",
       "0  19339990.0   9.615122  40.000000   0.000000  0.000000   \n",
       "1  19339982.0  15.725588  38.227234   3.561627  0.019175   \n",
       "2  19339972.0  20.365023  39.706032   8.585239  0.046220   \n",
       "3  19339958.0  24.443735  43.198795  14.802108  0.079690   \n",
       "4  19339942.0  28.461281  48.109119  22.132668  0.119155   \n",
       "\n",
       "   infected_observable_state  dead_observable_state  \n",
       "0                   9.615122               0.000000  \n",
       "1                  15.725588               0.019175  \n",
       "2                  20.365023               0.046220  \n",
       "3                  24.443735               0.079690  \n",
       "4                  28.461281               0.119155  "
      ]
     },
     "metadata": {},
     "output_type": "display_data"
    }
   ],
   "source": [
    "result1 = pyciemss.sample(model1, end_time, logging_step_size, num_samples, start_time=start_time)\n",
    "display(result1['data'].head())\n",
    "result1['data'][['timepoint_id', 'sample_id', 'S_state', 'I_state', 'R_state']].to_csv('sir.csv', index= False)\n"
   ]
  },
  {
   "cell_type": "markdown",
   "metadata": {},
   "source": [
    "### Plot histogram per state combination\n"
   ]
  },
  {
   "cell_type": "code",
   "execution_count": null,
   "metadata": {},
   "outputs": [],
   "source": []
  },
  {
   "cell_type": "code",
   "execution_count": 1,
   "metadata": {},
   "outputs": [
    {
     "name": "stderr",
     "output_type": "stream",
     "text": [
      "/var/folders/vn/q5vrjvfn60bfsnnd058cb6ww0000gn/T/ipykernel_91929/3192032678.py:55: RuntimeWarning: divide by zero encountered in log10\n",
      "  min_log= np.log10(min_val)\n"
     ]
    },
    {
     "name": "stdout",
     "output_type": "stream",
     "text": [
      "\n"
     ]
    },
    {
     "data": {
      "application/vnd.vega.v5+json": {
       "$schema": "https://vega.github.io/schema/vega/v5.json",
       "data": [
        {
         "name": "node-data",
         "on": [
          {
           "modify": "node.datum",
           "trigger": "fix.length == 2",
           "values": "{interactionX: fix[0], interactionY: fix[1]}"
          },
          {
           "modify": "reset",
           "trigger": "reset",
           "values": "{interactionX: null, interactionY: null}"
          }
         ],
         "values": [
          {
           "id": 0,
           "label": "bin_0"
          },
          {
           "id": 1,
           "label": "bin_1"
          },
          {
           "id": 2,
           "label": "bin_2"
          },
          {
           "id": 3,
           "label": "bin_3"
          },
          {
           "id": 4,
           "label": "bin_4"
          },
          {
           "id": 5,
           "label": "bin_5"
          },
          {
           "id": 6,
           "label": "bin_6"
          },
          {
           "id": 7,
           "label": "bin_7"
          },
          {
           "id": 8,
           "label": "bin_8"
          },
          {
           "id": 9,
           "label": "bin_9"
          },
          {
           "id": 10,
           "label": "bin_10"
          },
          {
           "id": 11,
           "label": "bin_11"
          },
          {
           "id": 12,
           "label": "bin_12"
          },
          {
           "id": 13,
           "label": "bin_13"
          },
          {
           "id": 14,
           "label": "bin_14"
          },
          {
           "id": 15,
           "label": "bin_15"
          },
          {
           "id": 16,
           "label": "bin_16"
          },
          {
           "id": 17,
           "label": "bin_17"
          },
          {
           "id": 18,
           "label": "bin_18"
          },
          {
           "id": 19,
           "label": "bin_19"
          },
          {
           "id": 20,
           "label": "bin_20"
          },
          {
           "id": 21,
           "label": "bin_21"
          },
          {
           "id": 22,
           "label": "bin_22"
          },
          {
           "id": 23,
           "label": "bin_23"
          },
          {
           "id": 24,
           "label": "bin_24"
          },
          {
           "id": 25,
           "label": "bin_25"
          },
          {
           "id": 26,
           "label": "bin_26"
          },
          {
           "id": 27,
           "label": "bin_27"
          },
          {
           "id": 28,
           "label": "bin_28"
          },
          {
           "id": 29,
           "label": "bin_29"
          },
          {
           "id": 30,
           "label": "bin_30"
          },
          {
           "id": 31,
           "label": "bin_31"
          },
          {
           "id": 32,
           "label": "bin_32"
          },
          {
           "id": 33,
           "label": "bin_33"
          },
          {
           "id": 34,
           "label": "bin_34"
          },
          {
           "id": 35,
           "label": "bin_35"
          },
          {
           "id": 36,
           "label": "bin_36"
          },
          {
           "id": 37,
           "label": "bin_37"
          },
          {
           "id": 38,
           "label": "bin_38"
          },
          {
           "id": 39,
           "label": "bin_39"
          },
          {
           "id": 40,
           "label": "bin_40"
          },
          {
           "id": 41,
           "label": "bin_41"
          },
          {
           "id": 42,
           "label": "bin_42"
          },
          {
           "id": 43,
           "label": "bin_43"
          },
          {
           "id": 44,
           "label": "bin_44"
          },
          {
           "id": 45,
           "label": "bin_45"
          },
          {
           "id": 46,
           "label": "bin_46"
          },
          {
           "id": 47,
           "label": "bin_47"
          },
          {
           "id": 48,
           "label": "bin_48"
          },
          {
           "id": 49,
           "label": "bin_49"
          },
          {
           "id": 50,
           "label": "bin_50"
          },
          {
           "id": 51,
           "label": "bin_51"
          },
          {
           "id": 52,
           "label": "bin_52"
          },
          {
           "id": 53,
           "label": "bin_53"
          },
          {
           "id": 54,
           "label": "bin_54"
          },
          {
           "id": 55,
           "label": "bin_55"
          },
          {
           "id": 56,
           "label": "bin_56"
          },
          {
           "id": 57,
           "label": "bin_57"
          },
          {
           "id": 58,
           "label": "bin_58"
          },
          {
           "id": 59,
           "label": "bin_59"
          },
          {
           "id": 60,
           "label": "bin_60"
          },
          {
           "id": 61,
           "label": "bin_61"
          },
          {
           "id": 62,
           "label": "bin_62"
          },
          {
           "id": 63,
           "label": "bin_63"
          },
          {
           "id": 64,
           "label": "bin_64"
          },
          {
           "id": 65,
           "label": "bin_65"
          },
          {
           "id": 66,
           "label": "bin_66"
          },
          {
           "id": 67,
           "label": "bin_67"
          },
          {
           "id": 68,
           "label": "bin_68"
          },
          {
           "id": 69,
           "label": "bin_69"
          },
          {
           "id": 70,
           "label": "bin_70"
          },
          {
           "id": 71,
           "label": "bin_71"
          },
          {
           "id": 72,
           "label": "bin_72"
          },
          {
           "id": 73,
           "label": "bin_73"
          },
          {
           "id": 74,
           "label": "bin_74"
          },
          {
           "id": 75,
           "label": "bin_75"
          },
          {
           "id": 76,
           "label": "bin_76"
          },
          {
           "id": 77,
           "label": "bin_77"
          },
          {
           "id": 78,
           "label": "bin_78"
          },
          {
           "id": 79,
           "label": "bin_79"
          },
          {
           "id": 80,
           "label": "bin_80"
          },
          {
           "id": 81,
           "label": "bin_81"
          },
          {
           "id": 82,
           "label": "bin_82"
          },
          {
           "id": 83,
           "label": "bin_83"
          },
          {
           "id": 84,
           "label": "bin_84"
          },
          {
           "id": 85,
           "label": "bin_85"
          },
          {
           "id": 86,
           "label": "bin_86"
          },
          {
           "id": 87,
           "label": "bin_87"
          }
         ]
        },
        {
         "name": "link-data",
         "values": [
          {
           "source": 0,
           "target": 1,
           "weight": 32
          },
          {
           "source": 0,
           "target": 2,
           "weight": 16
          },
          {
           "source": 0,
           "target": 32,
           "weight": 10
          },
          {
           "source": 0,
           "target": 80,
           "weight": 1
          },
          {
           "source": 0,
           "target": 25,
           "weight": 1
          },
          {
           "source": 1,
           "target": 2,
           "weight": 43
          },
          {
           "source": 1,
           "target": 1,
           "weight": 3
          },
          {
           "source": 2,
           "target": 3,
           "weight": 92
          },
          {
           "source": 2,
           "target": 2,
           "weight": 82
          },
          {
           "source": 2,
           "target": 60,
           "weight": 2
          },
          {
           "source": 2,
           "target": 36,
           "weight": 5
          },
          {
           "source": 3,
           "target": 3,
           "weight": 314
          },
          {
           "source": 3,
           "target": 4,
           "weight": 5
          },
          {
           "source": 3,
           "target": 21,
           "weight": 64
          },
          {
           "source": 3,
           "target": 36,
           "weight": 17
          },
          {
           "source": 3,
           "target": 53,
           "weight": 6
          },
          {
           "source": 4,
           "target": 4,
           "weight": 280
          },
          {
           "source": 4,
           "target": 5,
           "weight": 46
          },
          {
           "source": 4,
           "target": 37,
           "weight": 13
          },
          {
           "source": 5,
           "target": 5,
           "weight": 411
          },
          {
           "source": 5,
           "target": 6,
           "weight": 37
          },
          {
           "source": 5,
           "target": 33,
           "weight": 14
          },
          {
           "source": 5,
           "target": 7,
           "weight": 1
          },
          {
           "source": 6,
           "target": 6,
           "weight": 250
          },
          {
           "source": 6,
           "target": 7,
           "weight": 38
          },
          {
           "source": 6,
           "target": 38,
           "weight": 11
          },
          {
           "source": 7,
           "target": 7,
           "weight": 402
          },
          {
           "source": 7,
           "target": 8,
           "weight": 38
          },
          {
           "source": 7,
           "target": 34,
           "weight": 12
          },
          {
           "source": 7,
           "target": 9,
           "weight": 1
          },
          {
           "source": 8,
           "target": 8,
           "weight": 253
          },
          {
           "source": 8,
           "target": 9,
           "weight": 37
          },
          {
           "source": 8,
           "target": 39,
           "weight": 11
          },
          {
           "source": 8,
           "target": 10,
           "weight": 1
          },
          {
           "source": 9,
           "target": 9,
           "weight": 329
          },
          {
           "source": 9,
           "target": 10,
           "weight": 36
          },
          {
           "source": 9,
           "target": 35,
           "weight": 6
          },
          {
           "source": 9,
           "target": 11,
           "weight": 2
          },
          {
           "source": 10,
           "target": 10,
           "weight": 260
          },
          {
           "source": 10,
           "target": 11,
           "weight": 35
          },
          {
           "source": 10,
           "target": 40,
           "weight": 12
          },
          {
           "source": 10,
           "target": 12,
           "weight": 1
          },
          {
           "source": 11,
           "target": 11,
           "weight": 243
          },
          {
           "source": 11,
           "target": 12,
           "weight": 36
          },
          {
           "source": 11,
           "target": 52,
           "weight": 4
          },
          {
           "source": 12,
           "target": 12,
           "weight": 276
          },
          {
           "source": 12,
           "target": 13,
           "weight": 32
          },
          {
           "source": 12,
           "target": 41,
           "weight": 12
          },
          {
           "source": 12,
           "target": 14,
           "weight": 3
          },
          {
           "source": 13,
           "target": 14,
           "weight": 32
          },
          {
           "source": 13,
           "target": 13,
           "weight": 176
          },
          {
           "source": 14,
           "target": 14,
           "weight": 257
          },
          {
           "source": 14,
           "target": 15,
           "weight": 30
          },
          {
           "source": 14,
           "target": 42,
           "weight": 14
          },
          {
           "source": 14,
           "target": 16,
           "weight": 3
          },
          {
           "source": 15,
           "target": 16,
           "weight": 28
          },
          {
           "source": 15,
           "target": 15,
           "weight": 114
          },
          {
           "source": 16,
           "target": 16,
           "weight": 262
          },
          {
           "source": 16,
           "target": 17,
           "weight": 2
          },
          {
           "source": 16,
           "target": 27,
           "weight": 25
          },
          {
           "source": 16,
           "target": 43,
           "weight": 15
          },
          {
           "source": 17,
           "target": 17,
           "weight": 199
          },
          {
           "source": 17,
           "target": 18,
           "weight": 2
          },
          {
           "source": 17,
           "target": 30,
           "weight": 17
          },
          {
           "source": 17,
           "target": 44,
           "weight": 13
          },
          {
           "source": 18,
           "target": 18,
           "weight": 134
          },
          {
           "source": 18,
           "target": 19,
           "weight": 9
          },
          {
           "source": 18,
           "target": 45,
           "weight": 4
          },
          {
           "source": 18,
           "target": 51,
           "weight": 7
          },
          {
           "source": 19,
           "target": 20,
           "weight": 9
          },
          {
           "source": 19,
           "target": 19,
           "weight": 4
          },
          {
           "source": 20,
           "target": 20,
           "weight": 43
          },
          {
           "source": 20,
           "target": 79,
           "weight": 2
          },
          {
           "source": 21,
           "target": 21,
           "weight": 452
          },
          {
           "source": 21,
           "target": 22,
           "weight": 19
          },
          {
           "source": 21,
           "target": 26,
           "weight": 12
          },
          {
           "source": 21,
           "target": 4,
           "weight": 32
          },
          {
           "source": 21,
           "target": 5,
           "weight": 1
          },
          {
           "source": 22,
           "target": 22,
           "weight": 406
          },
          {
           "source": 22,
           "target": 23,
           "weight": 5
          },
          {
           "source": 22,
           "target": 28,
           "weight": 20
          },
          {
           "source": 23,
           "target": 23,
           "weight": 274
          },
          {
           "source": 23,
           "target": 24,
           "weight": 5
          },
          {
           "source": 23,
           "target": 87,
           "weight": 1
          },
          {
           "source": 24,
           "target": 24,
           "weight": 171
          },
          {
           "source": 24,
           "target": 54,
           "weight": 3
          },
          {
           "source": 25,
           "target": 2,
           "weight": 18
          },
          {
           "source": 25,
           "target": 1,
           "weight": 11
          },
          {
           "source": 26,
           "target": 26,
           "weight": 350
          },
          {
           "source": 26,
           "target": 23,
           "weight": 3
          },
          {
           "source": 26,
           "target": 5,
           "weight": 5
          },
          {
           "source": 26,
           "target": 83,
           "weight": 2
          },
          {
           "source": 27,
           "target": 27,
           "weight": 59
          },
          {
           "source": 27,
           "target": 17,
           "weight": 20
          },
          {
           "source": 28,
           "target": 28,
           "weight": 309
          },
          {
           "source": 28,
           "target": 29,
           "weight": 17
          },
          {
           "source": 28,
           "target": 24,
           "weight": 2
          },
          {
           "source": 29,
           "target": 29,
           "weight": 1011
          },
          {
           "source": 30,
           "target": 30,
           "weight": 49
          },
          {
           "source": 30,
           "target": 18,
           "weight": 11
          },
          {
           "source": 31,
           "target": 32,
           "weight": 12
          },
          {
           "source": 31,
           "target": 0,
           "weight": 2
          },
          {
           "source": 32,
           "target": 2,
           "weight": 21
          },
          {
           "source": 32,
           "target": 80,
           "weight": 1
          },
          {
           "source": 33,
           "target": 33,
           "weight": 193
          },
          {
           "source": 33,
           "target": 7,
           "weight": 12
          },
          {
           "source": 34,
           "target": 34,
           "weight": 91
          },
          {
           "source": 34,
           "target": 9,
           "weight": 8
          },
          {
           "source": 35,
           "target": 35,
           "weight": 24
          },
          {
           "source": 35,
           "target": 11,
           "weight": 6
          },
          {
           "source": 36,
           "target": 36,
           "weight": 51
          },
          {
           "source": 36,
           "target": 4,
           "weight": 22
          },
          {
           "source": 36,
           "target": 37,
           "weight": 2
          },
          {
           "source": 37,
           "target": 37,
           "weight": 32
          },
          {
           "source": 37,
           "target": 6,
           "weight": 12
          },
          {
           "source": 37,
           "target": 38,
           "weight": 3
          },
          {
           "source": 38,
           "target": 8,
           "weight": 11
          },
          {
           "source": 38,
           "target": 38,
           "weight": 31
          },
          {
           "source": 38,
           "target": 39,
           "weight": 3
          },
          {
           "source": 39,
           "target": 39,
           "weight": 37
          },
          {
           "source": 39,
           "target": 10,
           "weight": 11
          },
          {
           "source": 39,
           "target": 61,
           "weight": 1
          },
          {
           "source": 39,
           "target": 40,
           "weight": 2
          },
          {
           "source": 40,
           "target": 40,
           "weight": 37
          },
          {
           "source": 40,
           "target": 12,
           "weight": 12
          },
          {
           "source": 40,
           "target": 62,
           "weight": 1
          },
          {
           "source": 40,
           "target": 41,
           "weight": 2
          },
          {
           "source": 41,
           "target": 41,
           "weight": 41
          },
          {
           "source": 41,
           "target": 14,
           "weight": 12
          },
          {
           "source": 41,
           "target": 63,
           "weight": 3
          },
          {
           "source": 42,
           "target": 42,
           "weight": 47
          },
          {
           "source": 42,
           "target": 16,
           "weight": 14
          },
          {
           "source": 42,
           "target": 64,
           "weight": 2
          },
          {
           "source": 42,
           "target": 43,
           "weight": 1
          },
          {
           "source": 43,
           "target": 43,
           "weight": 52
          },
          {
           "source": 43,
           "target": 17,
           "weight": 15
          },
          {
           "source": 43,
           "target": 65,
           "weight": 3
          },
          {
           "source": 44,
           "target": 44,
           "weight": 59
          },
          {
           "source": 44,
           "target": 18,
           "weight": 13
          },
          {
           "source": 44,
           "target": 66,
           "weight": 3
          },
          {
           "source": 45,
           "target": 45,
           "weight": 44
          },
          {
           "source": 45,
           "target": 46,
           "weight": 4
          },
          {
           "source": 45,
           "target": 47,
           "weight": 2
          },
          {
           "source": 45,
           "target": 67,
           "weight": 6
          },
          {
           "source": 46,
           "target": 46,
           "weight": 2
          },
          {
           "source": 46,
           "target": 47,
           "weight": 4
          },
          {
           "source": 47,
           "target": 47,
           "weight": 28
          },
          {
           "source": 47,
           "target": 48,
           "weight": 9
          },
          {
           "source": 48,
           "target": 48,
           "weight": 32
          },
          {
           "source": 48,
           "target": 49,
           "weight": 11
          },
          {
           "source": 49,
           "target": 49,
           "weight": 31
          },
          {
           "source": 49,
           "target": 50,
           "weight": 1
          },
          {
           "source": 49,
           "target": 55,
           "weight": 8
          },
          {
           "source": 49,
           "target": 56,
           "weight": 2
          },
          {
           "source": 50,
           "target": 50,
           "weight": 3
          },
          {
           "source": 51,
           "target": 45,
           "weight": 8
          },
          {
           "source": 51,
           "target": 51,
           "weight": 4
          },
          {
           "source": 52,
           "target": 52,
           "weight": 4
          },
          {
           "source": 52,
           "target": 13,
           "weight": 4
          },
          {
           "source": 53,
           "target": 53,
           "weight": 25
          },
          {
           "source": 53,
           "target": 22,
           "weight": 6
          },
          {
           "source": 53,
           "target": 28,
           "weight": 1
          },
          {
           "source": 54,
           "target": 54,
           "weight": 58
          },
          {
           "source": 55,
           "target": 55,
           "weight": 14
          },
          {
           "source": 55,
           "target": 56,
           "weight": 2
          },
          {
           "source": 55,
           "target": 69,
           "weight": 5
          },
          {
           "source": 56,
           "target": 56,
           "weight": 18
          },
          {
           "source": 56,
           "target": 57,
           "weight": 2
          },
          {
           "source": 57,
           "target": 57,
           "weight": 5
          },
          {
           "source": 57,
           "target": 58,
           "weight": 2
          },
          {
           "source": 57,
           "target": 84,
           "weight": 1
          },
          {
           "source": 58,
           "target": 58,
           "weight": 16
          },
          {
           "source": 58,
           "target": 59,
           "weight": 2
          },
          {
           "source": 59,
           "target": 59,
           "weight": 4
          },
          {
           "source": 60,
           "target": 36,
           "weight": 2
          },
          {
           "source": 61,
           "target": 40,
           "weight": 1
          },
          {
           "source": 62,
           "target": 41,
           "weight": 1
          },
          {
           "source": 63,
           "target": 42,
           "weight": 3
          },
          {
           "source": 64,
           "target": 43,
           "weight": 2
          },
          {
           "source": 65,
           "target": 65,
           "weight": 2
          },
          {
           "source": 65,
           "target": 44,
           "weight": 3
          },
          {
           "source": 66,
           "target": 45,
           "weight": 2
          },
          {
           "source": 66,
           "target": 51,
           "weight": 1
          },
          {
           "source": 67,
           "target": 67,
           "weight": 3
          },
          {
           "source": 67,
           "target": 68,
           "weight": 3
          },
          {
           "source": 67,
           "target": 47,
           "weight": 3
          },
          {
           "source": 68,
           "target": 48,
           "weight": 2
          },
          {
           "source": 68,
           "target": 68,
           "weight": 1
          },
          {
           "source": 68,
           "target": 49,
           "weight": 1
          },
          {
           "source": 69,
           "target": 69,
           "weight": 14
          },
          {
           "source": 69,
           "target": 70,
           "weight": 3
          },
          {
           "source": 69,
           "target": 84,
           "weight": 1
          },
          {
           "source": 69,
           "target": 57,
           "weight": 1
          },
          {
           "source": 70,
           "target": 70,
           "weight": 4
          },
          {
           "source": 70,
           "target": 71,
           "weight": 3
          },
          {
           "source": 71,
           "target": 71,
           "weight": 6
          },
          {
           "source": 71,
           "target": 72,
           "weight": 3
          },
          {
           "source": 72,
           "target": 72,
           "weight": 8
          },
          {
           "source": 72,
           "target": 73,
           "weight": 3
          },
          {
           "source": 73,
           "target": 73,
           "weight": 6
          },
          {
           "source": 73,
           "target": 74,
           "weight": 2
          },
          {
           "source": 73,
           "target": 81,
           "weight": 1
          },
          {
           "source": 74,
           "target": 74,
           "weight": 4
          },
          {
           "source": 74,
           "target": 75,
           "weight": 2
          },
          {
           "source": 75,
           "target": 75,
           "weight": 6
          },
          {
           "source": 75,
           "target": 76,
           "weight": 2
          },
          {
           "source": 75,
           "target": 82,
           "weight": 1
          },
          {
           "source": 76,
           "target": 76,
           "weight": 16
          },
          {
           "source": 76,
           "target": 77,
           "weight": 2
          },
          {
           "source": 77,
           "target": 77,
           "weight": 16
          },
          {
           "source": 77,
           "target": 78,
           "weight": 1
          },
          {
           "source": 77,
           "target": 86,
           "weight": 1
          },
          {
           "source": 79,
           "target": 79,
           "weight": 6
          },
          {
           "source": 80,
           "target": 80,
           "weight": 1
          },
          {
           "source": 80,
           "target": 53,
           "weight": 1
          },
          {
           "source": 80,
           "target": 2,
           "weight": 1
          },
          {
           "source": 81,
           "target": 81,
           "weight": 8
          },
          {
           "source": 81,
           "target": 75,
           "weight": 1
          },
          {
           "source": 82,
           "target": 82,
           "weight": 5
          },
          {
           "source": 83,
           "target": 83,
           "weight": 39
          },
          {
           "source": 83,
           "target": 33,
           "weight": 1
          },
          {
           "source": 84,
           "target": 84,
           "weight": 15
          },
          {
           "source": 84,
           "target": 85,
           "weight": 1
          },
          {
           "source": 85,
           "target": 85,
           "weight": 5
          },
          {
           "source": 87,
           "target": 87,
           "weight": 2
          }
         ]
        }
       ],
       "description": "A node-link diagram with force-directed layout.",
       "height": 500,
       "legends": [
        {
         "stroke": "color",
         "symbolType": "stroke",
         "title": "Group"
        },
        {
         "stroke": "colorlink",
         "symbolType": "stroke",
         "title": "Link Group"
        }
       ],
       "marks": [
        {
         "encode": {
          "enter": {
           "fill": {
            "field": "group",
            "scale": "color"
           },
           "stroke": {
            "value": "white"
           }
          },
          "update": {
           "cursor": {
            "value": "pointer"
           },
           "fx": {
            "signal": "datum.interactionX == null ? scale('xscale', datum.inputX) : datum.interactionX"
           },
           "fy": {
            "signal": "datum.interactionY == null ? scale('yscale', datum.inputY) : datum.interactionY"
           },
           "size": {
            "signal": "2 * nodeRadius * nodeRadius"
           }
          }
         },
         "from": {
          "data": "node-data"
         },
         "name": "nodes",
         "transform": [
          {
           "forces": [
            {
             "force": "center",
             "x": {
              "signal": "cx"
             },
             "y": {
              "signal": "cy"
             }
            },
            {
             "force": "collide",
             "radius": {
              "signal": "nodeRadius"
             }
            },
            {
             "force": "nbody",
             "strength": {
              "signal": "nodeCharge"
             }
            },
            {
             "distance": {
              "signal": "linkDistance"
             },
             "force": "link",
             "links": "link-data"
            }
           ],
           "iterations": 300,
           "restart": {
            "signal": "restart"
           },
           "signal": "force",
           "static": true,
           "type": "force"
          }
         ],
         "type": "symbol",
         "zindex": 1
        },
        {
         "encode": {
          "enter": {
           "align": {
            "value": "center"
           },
           "baseline": {
            "value": "middle"
           },
           "fill": {
            "value": "black"
           },
           "fontSize": {
            "value": 10
           },
           "text": {
            "field": "datum.label"
           }
          },
          "update": {
           "x": {
            "field": "x"
           },
           "y": {
            "field": "y"
           }
          }
         },
         "from": {
          "data": "nodes"
         },
         "interactive": false,
         "name": "labels",
         "transform": [
          {
           "anchor": [
            "top",
            "bottom",
            "right",
            "left"
           ],
           "avoidMarks": [
            "nodes"
           ],
           "offset": [
            1
           ],
           "size": {
            "signal": "[width + 60, height]"
           },
           "type": "label"
          }
         ],
         "type": "text",
         "zindex": 2
        },
        {
         "encode": {
          "update": {
           "stroke": {
            "field": "group",
            "scale": "colorlink"
           },
           "strokeWidth": {
            "value": 0.5
           }
          }
         },
         "from": {
          "data": "link-data"
         },
         "interactive": false,
         "transform": [
          {
           "require": {
            "signal": "force"
           },
           "shape": "line",
           "sourceX": "datum.source.x",
           "sourceY": "datum.source.y",
           "targetX": "datum.target.x",
           "targetY": "datum.target.y",
           "type": "linkpath"
          }
         ],
         "type": "path"
        },
        {
         "encode": {
          "enter": {
           "fill": {
            "field": "group",
            "scale": "colorlink"
           },
           "shape": {
            "value": "triangle-right"
           },
           "size": {
            "value": 40
           },
           "stroke": {
            "field": "group",
            "scale": "colorlink"
           }
          },
          "hover": {
           "opacity": {
            "value": 1
           }
          },
          "update": {
           "x": {
            "field": "target.x"
           },
           "y": {
            "field": "target.y"
           }
          }
         },
         "from": {
          "data": "link-data"
         },
         "name": "arrows",
         "transform": [
          {
           "as": "tan",
           "expr": "atan2((datum.datum.target.y-datum.datum.source.y),(datum.datum.target.x-datum.datum.source.x))",
           "type": "formula"
          },
          {
           "as": "angle",
           "expr": "datum.tan*180/PI",
           "type": "formula"
          },
          {
           "as": "y",
           "expr": "datum.datum.target.y - nodeRadius*sin(datum.tan)",
           "type": "formula"
          },
          {
           "as": "x",
           "expr": "datum.datum.target.x - nodeRadius*cos(datum.tan)",
           "type": "formula"
          }
         ],
         "type": "symbol",
         "zindex": {
          "value": 40
         }
        }
       ],
       "padding": 0,
       "scales": [
        {
         "domain": {
          "data": "node-data",
          "field": "group"
         },
         "name": "color",
         "range": {
          "scheme": "category20c"
         },
         "type": "ordinal"
        },
        {
         "domain": {
          "data": "link-data",
          "field": "group"
         },
         "name": "colorlink",
         "range": {
          "scheme": "category20c"
         },
         "type": "ordinal"
        },
        {
         "domain": {
          "data": "node-data",
          "field": "inputX"
         },
         "name": "xscale",
         "range": [
          10,
          {
           "signal": "width - 10"
          }
         ]
        },
        {
         "domain": {
          "data": "node-data",
          "field": "inputY"
         },
         "name": "yscale",
         "range": [
          10,
          {
           "signal": "height - 10"
          }
         ]
        }
       ],
       "signals": [
        {
         "name": "cx",
         "update": "width / 2"
        },
        {
         "name": "cy",
         "update": "height / 2"
        },
        {
         "name": "nodeRadius",
         "value": 15
        },
        {
         "name": "nodeCharge",
         "value": -80
        },
        {
         "name": "linkDistance",
         "value": 80
        },
        {
         "description": "State variable for active node fix status.",
         "name": "fix",
         "on": [
          {
           "events": "symbol:mouseout[!event.buttons], window:mouseup",
           "update": "false"
          },
          {
           "events": "symbol:mouseover",
           "update": "fix || true"
          },
          {
           "events": "[symbol:mousedown, window:mouseup] > window:mousemove!",
           "force": true,
           "update": "xy()"
          }
         ],
         "value": false
        },
        {
         "description": "Unfix node",
         "name": "reset",
         "on": [
          {
           "events": "symbol:dblclick",
           "update": "item().datum"
          }
         ],
         "value": null
        },
        {
         "description": "Graph node most recently interacted with.",
         "name": "node",
         "on": [
          {
           "events": "symbol:mouseover",
           "update": "fix === true ? item() : node"
          }
         ],
         "value": null
        },
        {
         "description": "Flag to restart Force simulation upon data changes.",
         "name": "restart",
         "on": [
          {
           "events": {
            "signal": "fix"
           },
           "update": "fix && fix.length"
          },
          {
           "events": {
            "signal": "reset"
           },
           "update": "true"
          }
         ],
         "value": false
        }
       ],
       "width": 500
      }
     },
     "metadata": {},
     "output_type": "display_data"
    }
   ],
   "source": [
    "import pandas as pd\n",
    "import numpy as np\n",
    "import math\n",
    "import matplotlib.pyplot as plt\n",
    "from itertools import combinations\n",
    "import networkx as nx\n",
    "from pyciemss.visuals import plots, vega\n",
    "bin_outliers = False\n",
    "log = False\n",
    "\n",
    "# loading SIR data\n",
    "sir_dataset = pd.read_csv(\"sir.csv\")\n",
    "\n",
    "\n",
    "def process_dataset(sir_dataset, bin_outliers, log):\n",
    "    \"\"\"\n",
    "    This function bins the columns in the dataset that includes \"_state\" and plots histograms for each column.\n",
    "    \n",
    "    Inputs:\n",
    "    sir_dataset (pd.DataFrame): The dataset with states, timepoint_id and sample_id\n",
    "    bin_outliers (bool): A boolean value indicating whether to bin outliers separately in their own bin.\n",
    "    log (bool): A boolean value indicating whether to use a log scale for the bins.\n",
    "    \n",
    "    Outputs:\n",
    "    sir_dataset (pd.DataFrame): The processed dataset with added bin columns.\n",
    "    bin_dict (dict): A dictionary storing the min and max values of each bin per column.\n",
    "    \"\"\"\n",
    "    # Determine the number of bins using Sturges' rule and the nu\n",
    "    num_bins =  math.ceil(math.log2(sir_dataset.shape[0]))\n",
    "\n",
    "    sir_dataset_state = sir_dataset.loc[:, sir_dataset.columns.str.contains('_state')]\n",
    "\n",
    "    # dictionary to store the min and max values of each bin per column\n",
    "    bin_dict = {}\n",
    "\n",
    "    sir_dataset_output = sir_dataset.copy()\n",
    "\n",
    "    for col in sir_dataset_state.columns:\n",
    "        max_val = sir_dataset_output[col].max()\n",
    "        min_val = sir_dataset_output[col].min()\n",
    "\n",
    "        # Calculate the 5th and 95th percentiles\n",
    "        p5, p95 = sir_dataset_output[col].quantile([0.05, 0.95])\n",
    "\n",
    "        # get histogram in the logspace\n",
    "        if log:\n",
    "            if bin_outliers:\n",
    "                # put all outliers in their own bin at the end (trying to avoid the massive histogram bin for the S_state)\n",
    "                p5_log = np.log10(p5)\n",
    "                p95_log = np.log10(p95)\n",
    "\n",
    "                bin_edges = np.logspace(np.max([0.0, p5_log]), p95_log, num=num_bins)\n",
    "                bin_edges = np.concatenate(([min_val], bin_edges, [max_val]))\n",
    "            else:\n",
    "                min_log= np.log10(min_val)\n",
    "                max_log = np.log10(max_val)\n",
    "                bin_edges = np.logspace(np.max([0.0, min_log]), max_log, num=num_bins)\n",
    "        else:\n",
    "            if bin_outliers:\n",
    "                bin_edges = np.linspace(p5, p95, num=num_bins)\n",
    "                bin_edges = np.concatenate(([min_val], bin_edges, [max_val]))\n",
    "            else: \n",
    "                bin_edges = np.linspace(min_val, max_val, num=num_bins)\n",
    "\n",
    "        # saving bins edges in dictionary by state and bin number\n",
    "        bin_dict[col] = [{i:(bin_edges[i], bin_edges[i+1])} for i in range(len(bin_edges)-1)]\n",
    "        # add column with the bin number per histogram\n",
    "        sir_dataset_output[col + '_bin'] = sir_dataset_output[col].apply(lambda x: np.digitize(x, bin_edges))\n",
    "\n",
    "    # create a new column that combines the bin information for each state\n",
    "    sir_dataset_output['combined_bin'] = sir_dataset_output.apply(lambda row: '_'.join([f'{col}_{row[col]}' for col in sir_dataset_output.columns if '_bin' in col]), axis=1)\n",
    "\n",
    "    # create a mapping from original labels to shorter labels\n",
    "    unique_bins = sir_dataset_output['combined_bin'].unique()\n",
    "    label_mapping = {bin: f'bin_{i}' for i, bin in enumerate(unique_bins)}\n",
    "    sir_dataset_output['short_bin'] = sir_dataset_output['combined_bin'].map(label_mapping)\n",
    "\n",
    "    # save the mapping to a CSV file\n",
    "    pd.DataFrame(list(label_mapping.items()), columns=['original_label', 'short_label']).to_csv('label_mapping.csv', index=False)\n",
    "\n",
    "    return sir_dataset_output, bin_dict\n",
    "\n",
    "def plot_paths(binned_data, *, n=None, fig_width=10):\n",
    "    if n is None:\n",
    "        n = len(sir_dataset_output['sample_id'].unique())\n",
    "\n",
    "    G = nx.DiGraph()\n",
    "    for sample_id in sir_dataset_output['sample_id'].unique()[:n]:\n",
    "        sample_df = sir_dataset_output[sir_dataset_output['sample_id'] == sample_id]\n",
    "        bins = sample_df['short_bin'].values\n",
    "        for i in range(len(bins) - 1):\n",
    "            if G.has_edge(bins[i], bins[i+1]):\n",
    "                # we added this one before, just increase the weight by one\n",
    "                G[bins[i]][bins[i+1]]['weight'] += 1\n",
    "            else:\n",
    "                # new edge. add with weight=1\n",
    "                G.add_edge(bins[i], bins[i+1], weight=1)\n",
    "    return G\n",
    "\n",
    "\n",
    "sir_dataset_output, bin_dict= process_dataset(sir_dataset, bin_outliers = False, log = True)\n",
    "G = plot_paths(sir_dataset_output)\n",
    "schema = plots.spring_force_graph(graph = G)\n",
    "# check bidirectional, add edge weights\n",
    "plots.ipy_display(schema, format=\"interactive\", dpi=72)"
   ]
  },
  {
   "cell_type": "code",
   "execution_count": null,
   "metadata": {},
   "outputs": [],
   "source": []
  },
  {
   "cell_type": "code",
   "execution_count": 6,
   "metadata": {},
   "outputs": [
    {
     "data": {
      "image/png": "[encoded data removed]",
      "text/plain": [
       "<Figure size 640x480 with 1 Axes>"
      ]
     },
     "metadata": {},
     "output_type": "display_data"
    },
    {
     "name": "stdout",
     "output_type": "stream",
     "text": [
      "Node: name_1_position_0, Attributes: {'count': 4}\n",
      "Node: name_2_position_1, Attributes: {'count': 3}\n",
      "Node: name_3_position_2, Attributes: {'count': 3}\n",
      "Node: name_4_position_1, Attributes: {'count': 1}\n",
      "Node: name_2_position_2, Attributes: {'count': 1}\n"
     ]
    },
    {
     "ename": "ValueError",
     "evalue": "too many values to unpack (expected 2)",
     "output_type": "error",
     "traceback": [
      "\u001b[0;31m---------------------------------------------------------------------------\u001b[0m",
      "\u001b[0;31mValueError\u001b[0m                                Traceback (most recent call last)",
      "Cell \u001b[0;32mIn[6], line 54\u001b[0m\n\u001b[1;32m     51\u001b[0m     \u001b[38;5;28mprint\u001b[39m(\u001b[38;5;124mf\u001b[39m\u001b[38;5;124m\"\u001b[39m\u001b[38;5;124mNode: \u001b[39m\u001b[38;5;132;01m{\u001b[39;00mnode\u001b[38;5;132;01m}\u001b[39;00m\u001b[38;5;124m, Attributes: \u001b[39m\u001b[38;5;132;01m{\u001b[39;00mdata\u001b[38;5;132;01m}\u001b[39;00m\u001b[38;5;124m\"\u001b[39m)\n\u001b[1;32m     53\u001b[0m \u001b[38;5;66;03m# Print all edges with their attributes\u001b[39;00m\n\u001b[0;32m---> 54\u001b[0m \u001b[38;5;28;01mfor\u001b[39;00m edge, data \u001b[38;5;129;01min\u001b[39;00m G\u001b[38;5;241m.\u001b[39medges(data\u001b[38;5;241m=\u001b[39m\u001b[38;5;28;01mTrue\u001b[39;00m):\n\u001b[1;32m     55\u001b[0m     \u001b[38;5;28mprint\u001b[39m(\u001b[38;5;124mf\u001b[39m\u001b[38;5;124m\"\u001b[39m\u001b[38;5;124mEdge: \u001b[39m\u001b[38;5;132;01m{\u001b[39;00medge\u001b[38;5;132;01m}\u001b[39;00m\u001b[38;5;124m, Attributes: \u001b[39m\u001b[38;5;132;01m{\u001b[39;00mdata\u001b[38;5;132;01m}\u001b[39;00m\u001b[38;5;124m\"\u001b[39m)\n",
      "\u001b[0;31mValueError\u001b[0m: too many values to unpack (expected 2)"
     ]
    }
   ],
   "source": [
    "import networkx as nx\n",
    "import matplotlib.pyplot as plt\n",
    "from collections import defaultdict\n",
    "\n",
    "db = [\n",
    "    [1, 2, 3],\n",
    "    [1, 2, 3],\n",
    "    [1, 2, 3],\n",
    "    [1, 4, 2],\n",
    "]\n",
    "\n",
    "# Create a directed graph\n",
    "G = nx.DiGraph()\n",
    "\n",
    "# Create a dictionary to store nodes and their counts\n",
    "nodes = defaultdict(int)\n",
    "\n",
    "# Create a dictionary to store edges and their weights\n",
    "edges = defaultdict(int)\n",
    "\n",
    "# Add nodes and edges to the graph\n",
    "for sublist in db:\n",
    "    for i in range(len(sublist)):\n",
    "        node = f\"name_{sublist[i]}_position_{i}\"\n",
    "        nodes[node] += 1\n",
    "        if i < len(sublist) - 1:\n",
    "            next_node = f\"name_{sublist[i + 1]}_position_{i + 1}\"\n",
    "            edges[(node, next_node)] += 1\n",
    "\n",
    "# Add nodes with counts to the graph\n",
    "for node, count in nodes.items():\n",
    "    G.add_node(node, count=count)\n",
    "\n",
    "# Add edges with weights to the graph\n",
    "for edge, weight in edges.items():\n",
    "    G.add_edge(*edge, weight=weight)\n",
    "\n",
    "# Define positions for each node\n",
    "pos = {node: (int(node.split('_')[3]), -int(node.split('_')[1])) for node in G.nodes()}\n",
    "\n",
    "# Draw the graph\n",
    "labels = {node: f\"{node}\\n(count: {data['count']})\" for node, data in G.nodes(data=True)}\n",
    "nx.draw(G, pos, with_labels=True, node_color='skyblue', node_size=1500)\n",
    "nx.draw_networkx_labels(G, pos, labels)\n",
    "edge_labels = nx.get_edge_attributes(G, 'weight')\n",
    "nx.draw_networkx_edge_labels(G, pos, edge_labels=edge_labels)\n",
    "plt.show()\n",
    "\n",
    "# Print all nodes with their attributes\n",
    "for node, data in G.nodes(data=True):\n",
    "    print(f\"Node: {node}, Attributes: {data}\")\n",
    "\n",
    "# Print all edges with their attributes\n",
    "for edge, data in G.edges(data=True):\n",
    "    print(f\"Edge: {edge}, Attributes: {data}\")"
   ]
  },
  {
   "cell_type": "code",
   "execution_count": null,
   "metadata": {},
   "outputs": [],
   "source": []
  }
 ],
 "metadata": {
  "kernelspec": {
   "display_name": "pyciems310",
   "language": "python",
   "name": "python3"
  },
  "language_info": {
   "codemirror_mode": {
    "name": "ipython",
    "version": 3
   },
   "file_extension": ".py",
   "mimetype": "text/x-python",
   "name": "python",
   "nbconvert_exporter": "python",
   "pygments_lexer": "ipython3",
   "version": "3.10.13"
  }
 },
 "nbformat": 4,
 "nbformat_minor": 2
}
