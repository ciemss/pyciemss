{
 "cells": [
  {
   "cell_type": "markdown",
   "id": "3e74eb3e-c652-444f-8cab-1957ed8c7237",
   "metadata": {},
   "source": [
    "# *A Bayesian workflow for mitigation analysis and decision making with epidemiological models*\n",
    "\n",
    "This notebook contains all of the code used to produce the results and figures included in the paper"
   ]
  },
  {
   "cell_type": "markdown",
   "id": "6fd01066-f87f-43d9-8a70-1ef3dd7463b9",
   "metadata": {},
   "source": [
    "## Setting: Washington State -- July 31, 2021 (Delta Wave)"
   ]
  },
  {
   "cell_type": "markdown",
   "id": "b429f5c9-b353-4c9c-8c7d-356804e87cb5",
   "metadata": {},
   "source": [
    "### Load dependencies"
   ]
  },
  {
   "cell_type": "code",
   "execution_count": 1,
   "id": "61353132-bd97-465b-9c8f-33bf3a1ab76e",
   "metadata": {},
   "outputs": [],
   "source": [
    "import os\n",
    "import json\n",
    "import sympy\n",
    "import torch\n",
    "import numpy as np\n",
    "import pandas as pd\n",
    "from typing import Dict, List, Callable\n",
    "\n",
    "# MIRA modeling dependencies\n",
    "from mira.metamodel import *\n",
    "from mira.metamodel.ops import stratify\n",
    "from mira.examples.concepts import susceptible, exposed, infected, recovered\n",
    "from mira.modeling import Model\n",
    "from mira.modeling.amr.petrinet import AMRPetriNetModel, template_model_to_petrinet_json\n",
    "from mira.sources.amr.petrinet import template_model_from_amr_json\n",
    "from mira.metamodel.io import model_to_json_file, model_from_json_file\n",
    "\n",
    "# PyCIEMSS dependencies\n",
    "import pyciemss\n",
    "import pyciemss.visuals.plots as plots\n",
    "import pyciemss.visuals.vega as vega\n",
    "import pyciemss.visuals.trajectories as trajectories\n",
    "from pyciemss.integration_utils.intervention_builder import (\n",
    "    param_value_objective,\n",
    "    start_time_objective,\n",
    ")"
   ]
  },
  {
   "cell_type": "markdown",
   "id": "06f22aac-8213-40f5-a5e5-2e1d9ba4c228",
   "metadata": {},
   "source": [
    "## Data processing\n",
    "\n",
    "Cumulative case, hospitalization, and death data from [COVID-19 Forecast Hub](https://github.com/reichlab/covid19-forecast-hub/blob/master/data-truth/README.md)"
   ]
  },
  {
   "cell_type": "code",
   "execution_count": 6,
   "id": "0b1e163e-c1fc-438b-808d-58e9f4b28fac",
   "metadata": {},
   "outputs": [],
   "source": [
    "location = \"Washington\"\n",
    "# BETTER_NAMES = {'Cases': 'Infected',\n",
    "#                 'Hospitalizations': 'Hospitalized',\n",
    "#                 'Deaths': 'Dead'}\n",
    "# ## instantiate, making sure no dates are skipped between start and end (could be found dynamically)\n",
    "# full_dataset = pd.DataFrame({'date':pd.date_range(start='1/22/2020', end='3/29/2024')})\n",
    "\n",
    "# ## fill the instantiated dataset\n",
    "# for i in ['Cases','Hospitalizations','Deaths']:\n",
    "#     all_data = pd.read_csv(f'https://media.githubusercontent.com/media/reichlab/covid19-forecast-hub/master/data-truth/truth-Incident%20{i}.csv')\n",
    "#     subset   = all_data[all_data.location_name == location].groupby(\"date\")[\"value\"].sum().reset_index()\n",
    "#     subset.date = pd.to_datetime(subset.date)\n",
    "#     subset['cumsum'] = subset.value.cumsum()\n",
    "#     full_dataset = full_dataset.merge(subset[['date','cumsum']], how='outer', on='date').rename(columns={'cumsum':BETTER_NAMES[i]})\n",
    "\n",
    "# full_dataset[(full_dataset.date >= '2021-06-01') & (full_dataset.date < '2021-09-06')].reset_index(drop=True).reset_index(names=['Timestamp']).drop(['date'],axis=1)\n",
    "\n",
    "# # Save full dataset\n",
    "# full_dataset.to_csv('full_dataset.csv', index=False)\n",
    "\n",
    "# Read full dataset\n",
    "full_dataset = pd.read_csv('full_dataset.csv')\n",
    "\n",
    "## Define a function to select a subset of the data\n",
    "def get_data_between(start='2021-06-01',end='2021-07-31'):\n",
    "    return full_dataset[(full_dataset.date >= start) & (full_dataset.date < end)].reset_index(drop=True).reset_index(names=['Timestamp']).drop(['date'],axis=1)"
   ]
  },
  {
   "cell_type": "markdown",
   "id": "b737f813-a085-4ce6-9d71-bb6d09bcfb37",
   "metadata": {},
   "source": [
    "### Gather population values and initial conditions\n",
    "\n",
    "Population values from [Census Reporter - Washington State](https://censusreporter.org/profiles/04000US53-washington/)\n",
    "\n",
    "Initial conditions estimated from [COVID-19 Forecast Hub (CFH)](https://github.com/reichlab/covid19-forecast-hub/blob/master/data-truth/README.md) and [Washington State Department of Health Respiratory Illness Data Dashboard](https://doh.wa.gov/data-and-statistical-reports/diseases-and-chronic-conditions/communicable-disease-surveillance-data/respiratory-illness-data-dashboard#Vaccination)"
   ]
  },
  {
   "cell_type": "code",
   "execution_count": 9,
   "id": "52f0881f-906d-4f0c-8c40-32fdde14b6f9",
   "metadata": {},
   "outputs": [],
   "source": [
    "WA_state_total_pop = 7_785_786 # US Census Bureau\n",
    "p_vacc = 675_796 / WA_state_total_pop # Percent vaccinated June 2021, from WA State Dept. of Health\n",
    "initial_cumulative_cases = 436_984.0 # 06/01/2021, from CFH data\n",
    "initial_deaths = 5789.0 # 06/01/2021, from NYT data\n",
    "initial_hosp = 450.0 # 06/01/2021, from WA State Dept. of Health\n",
    "initial_recovered = 430_415.0 # Estimate of recovered population = cumulative cases 05/25/2021, from CFH data \n",
    "initial_cases = 436_984.0 - 430_415.0 # Estimate of active cases 06/01/2021, from CFH data\n",
    "initial_exposed = 2*initial_cases # Estimate of exposed population 06/01/2021\n",
    "initial_susceptible =WA_state_total_pop - (initial_deaths + initial_hosp + initial_recovered + initial_cases + initial_exposed)"
   ]
  },
  {
   "cell_type": "markdown",
   "id": "322b1746-b2ce-4e5d-9cf3-6936dac0d930",
   "metadata": {},
   "source": [
    "# Model derivation and initialization"
   ]
  },
  {
   "cell_type": "markdown",
   "id": "41470f7b-8291-4542-ae70-0b3907409ea1",
   "metadata": {},
   "source": [
    "### Define units"
   ]
  },
  {
   "cell_type": "code",
   "execution_count": 5,
   "id": "d96906ba-2c13-41cc-bcac-d52fa14629f9",
   "metadata": {},
   "outputs": [],
   "source": [
    "person_units = lambda: Unit(expression=sympy.Symbol('person'))\n",
    "day_units = lambda: Unit(expression=sympy.Symbol('day'))\n",
    "per_day_units = lambda: Unit(expression=1/sympy.Symbol('day'))\n",
    "dimensionless_units = lambda: Unit(expression=sympy.Integer('1'))\n",
    "per_day_per_person_units = lambda: Unit(expression=1/(sympy.Symbol('day')*sympy.Symbol('person')))"
   ]
  },
  {
   "cell_type": "markdown",
   "id": "af829238-3d32-41d6-bdff-92fa272b0c3e",
   "metadata": {},
   "source": [
    "### Define model concepts"
   ]
  },
  {
   "cell_type": "code",
   "execution_count": 10,
   "id": "5b921140-3887-4c99-8718-6f22b76343b9",
   "metadata": {},
   "outputs": [],
   "source": [
    "_susceptible = Concept(name='S', units=person_units(), identifiers={'ido': '0000514'})\n",
    "_exposed = Concept(name='E', units=person_units(), identifiers={'apollosv': '00000154'})\n",
    "_infected = Concept(name='I', units=person_units(), identifiers={'ido': '0000511'})\n",
    "_recovered = Concept(name='R', units=person_units(), identifiers={'ido': '0000592'})\n",
    "_hospitalized = Concept(name=\"H\", units=person_units(), identifiers={\"ido\": \"0000511\"},\n",
    "                        context={\"property\": \"ncit:C25179\"})\n",
    "_deceased = Concept(name=\"D\", units=person_units(), identifiers={\"ncit\": \"C28554\"})\n",
    "\n",
    "c = {\n",
    "    'S_1': _susceptible.with_context(status=\"age1\"),\n",
    "    'S_2': _susceptible.with_context(status=\"age2\"),\n",
    "    'S_3': _susceptible.with_context(status=\"age3\"),\n",
    "    'S_4': _susceptible.with_context(status=\"age4\"),\n",
    "    \n",
    "    'E_1': _susceptible.with_context(status=\"age1\"),\n",
    "    'E_2': _susceptible.with_context(status=\"age2\"),\n",
    "    'E_3': _susceptible.with_context(status=\"age3\"),\n",
    "    'E_4': _susceptible.with_context(status=\"age4\"),\n",
    "    \n",
    "    'I_1': _susceptible.with_context(status=\"age1\"),\n",
    "    'I_2': _susceptible.with_context(status=\"age2\"),\n",
    "    'I_3': _susceptible.with_context(status=\"age3\"),\n",
    "    'I_4': _susceptible.with_context(status=\"age4\"),\n",
    "    \n",
    "    'R_1': _susceptible.with_context(status=\"age1\"),\n",
    "    'R_2': _susceptible.with_context(status=\"age2\"),\n",
    "    'R_3': _susceptible.with_context(status=\"age3\"),\n",
    "    'R_4': _susceptible.with_context(status=\"age4\"),\n",
    "    \n",
    "    'H_1': _susceptible.with_context(status=\"age1\"),\n",
    "    'H_2': _susceptible.with_context(status=\"age2\"),\n",
    "    'H_3': _susceptible.with_context(status=\"age3\"),\n",
    "    'H_4': _susceptible.with_context(status=\"age4\"),\n",
    "    \n",
    "    'D_1': _susceptible.with_context(status=\"age1\"),\n",
    "    'D_2': _susceptible.with_context(status=\"age2\"),\n",
    "    'D_3': _susceptible.with_context(status=\"age3\"),\n",
    "    'D_4': _susceptible.with_context(status=\"age4\"),\n",
    "    \n",
    "    \"Cumulative_cases\": Concept(name=\"Cumulative_cases\", units=person_units()),\n",
    "    \"Cumulative_hosp\": Concept(name=\"Cumulative_hosp\", units=person_units()),\n",
    "}\n",
    "\n",
    "for concept in c:\n",
    "    c[concept].name = concept"
   ]
  },
  {
   "cell_type": "markdown",
   "id": "c43d352a-ad7c-4fcd-8181-d05fbed0fab5",
   "metadata": {},
   "source": [
    "### Define model parameters with uncertainty"
   ]
  },
  {
   "cell_type": "code",
   "execution_count": null,
   "id": "e936e5d9-868d-4be8-aa55-0c69f7d1b560",
   "metadata": {},
   "outputs": [],
   "source": [
    "parameters = {\n",
    "    'beta': Parameter(name='beta', value=sympy.Float(0.42), units=per_day_units(),\n",
    "                      distribution=Distribution(type='StandardUniform1',\n",
    "                                                parameters={'minimum': 0.37,\n",
    "                                                            'maximum': 0.45})),  # Transmission rate\n",
    "    'N': Parameter(name='total_population', value=sympy.Float(WA_total_pop), units=person_units()),  # Total population\n",
    "\n",
    "    'I0': Parameter(name='I0', value=sympy.Float(all_initials[1]), units=per_day_units(),\n",
    "                     distribution=Distribution(type='StandardUniform1',\n",
    "                                                parameters={'minimum': 0.9*all_initials[1],\n",
    "                                                            'maximum': 1.1*all_initials[1]})),  # Initial value for I\n",
    "    \n",
    "    'r_EI': Parameter(name='r_EI', value=sympy.Float(0.2424), units=per_day_units(),\n",
    "                     distribution=Distribution(type='StandardUniform1',\n",
    "                                                parameters={'minimum': 0.2,\n",
    "                                                            'maximum': 0.3})),  # Rate of progressing E -> I\n",
    "    \n",
    "    'r_IR': Parameter(name='r_IR', value=sympy.Float(0.256), units=per_day_units(),\n",
    "                 distribution=Distribution(type='StandardUniform1',\n",
    "                                                parameters={'minimum': 0.2,\n",
    "                                                            'maximum': 0.3})),  # Rate of progressing I -> R, H\n",
    "\n",
    "    'p_IH': Parameter(name='p_IH', value=sympy.Float(0.095), units=per_day_units(),\n",
    "                 distribution=Distribution(type='StandardUniform1',\n",
    "                                                parameters={'minimum': 0.09,\n",
    "                                                            'maximum': 0.12})),  # Percent of I -> H\n",
    "    \n",
    "    'r_HR': Parameter(name='r_HR', value=sympy.Float(0.148), units=per_day_units(),\n",
    "                 distribution=Distribution(type='StandardUniform1',\n",
    "                                                parameters={'minimum': 0.1,\n",
    "                                                            'maximum': 0.2})),  # Rate of progressing H -> R = (1/avg_length_of_hospital_stay)\n",
    "    \n",
    "    'p_HD': Parameter(name='r_HD', value=sympy.Float(0.084), units=per_day_units(),\n",
    "                 distribution=Distribution(type='StandardUniform1',\n",
    "                                                parameters={'minimum': 0.06,\n",
    "                                                            'maximum': 0.095})),  # Percent of H -> D\n",
    "}"
   ]
  },
  {
   "cell_type": "markdown",
   "id": "33e68092-9495-45c3-b65c-a1756be16b6e",
   "metadata": {},
   "source": [
    "### Define `SymPy` variables"
   ]
  },
  {
   "cell_type": "code",
   "execution_count": null,
   "id": "01bb9361-f64f-47ab-90ac-772ff64c3d36",
   "metadata": {},
   "outputs": [],
   "source": [
    "S, E, I, R, H, D, Cumulative_cases, Cumulative_hosp, beta, N, I0, r_EI, r_IR, p_IH, r_HR, p_HD = sympy.symbols(\n",
    "    'S E I R H D Cumulative_cases Cumulative_hosp beta N I0 r_EI r_IR p_IH r_HR p_HD')"
   ]
  },
  {
   "cell_type": "markdown",
   "id": "a79c2868-9a59-4646-93fa-699fcff31a52",
   "metadata": {},
   "source": [
    "### Set initial conditions"
   ]
  },
  {
   "cell_type": "code",
   "execution_count": null,
   "id": "71f1d4f5-266a-4930-85ff-d6ddb11c0ef6",
   "metadata": {},
   "outputs": [],
   "source": [
    "initials = {\n",
    "    \"S\": Initial(concept=c[\"S\"], expression=WA_total_pop - (sum(all_initials) - all_initials[1] + I0)),\n",
    "    \"E\": Initial(concept=c[\"E\"], expression=all_initials[0]),\n",
    "    \"I\": Initial(concept=c[\"I\"], expression=I0),\n",
    "    \"R\": Initial(concept=c[\"R\"], expression=all_initials[2]),\n",
    "    'H': Initial(concept=c[\"H\"], expression=all_initials[3]),\n",
    "    'D': Initial(concept=c[\"D\"], expression=all_initials[4]),\n",
    "    \"Cumulative_cases\": Initial(concept=c[\"Cumulative_cases\"], expression=cumul_cases0),\n",
    "    \"Cumulative_hosp\": Initial(concept=c[\"Cumulative_hosp\"], expression=cumul_hosp0)\n",
    "}"
   ]
  },
  {
   "cell_type": "markdown",
   "id": "423ed646-5812-4539-aeb3-1bd5b3b9b019",
   "metadata": {},
   "source": [
    "### Define templates"
   ]
  },
  {
   "cell_type": "code",
   "execution_count": null,
   "id": "0a3e672a-b69c-4883-8e70-148b3a8958ab",
   "metadata": {},
   "outputs": [],
   "source": [
    "##### S -> E\n",
    "se = ControlledConversion(\n",
    "    subject=c['S'],\n",
    "    outcome=c['E'],\n",
    "    controller=c['I'],\n",
    "    rate_law=beta*S*I / N\n",
    ")\n",
    "\n",
    "\n",
    "#### E -> I\n",
    "ei = NaturalConversion(\n",
    "    subject=c['E'],\n",
    "    outcome=c['I'],\n",
    "    rate_law=r_EI*E\n",
    ")\n",
    "\n",
    "\n",
    "#### I -> R\n",
    "ir = NaturalConversion(\n",
    "    subject=c['I'],\n",
    "    outcome=c['R'],\n",
    "    rate_law=r_IR*(1 - p_IH)*I\n",
    ")\n",
    "\n",
    "\n",
    "#### I -> H\n",
    "ih = NaturalConversion(\n",
    "    subject=c['I'],\n",
    "    outcome=c['H'],\n",
    "    rate_law=r_IR*p_IH*I\n",
    ")\n",
    "\n",
    "\n",
    "#### H -> R\n",
    "hr = NaturalConversion(\n",
    "    subject=c['H'],\n",
    "    outcome=c['R'],\n",
    "    rate_law=r_HR*(1 - p_HD)*H\n",
    ")\n",
    "\n",
    "\n",
    "#### H -> D\n",
    "hd = NaturalConversion(\n",
    "    subject=c['H'],\n",
    "    outcome=c['D'],\n",
    "    rate_law=r_HR*p_HD*H\n",
    ")\n",
    "\n",
    "\n",
    "### Cumulative Cases\n",
    "# E -> I\n",
    "ccei = ControlledProduction(\n",
    "    controller=c['E'],\n",
    "    outcome=c['Cumulative_cases'],\n",
    "    rate_law=r_EI*E\n",
    ")\n",
    "\n",
    "\n",
    "### Cumulative Hospitalizations\n",
    "# I -> H\n",
    "chih = ControlledProduction(\n",
    "    controller=c['I'],\n",
    "    outcome=c['Cumulative_hosp'],\n",
    "    rate_law=r_IR*p_IH*I\n",
    ")"
   ]
  },
  {
   "cell_type": "markdown",
   "id": "65fac259-a695-43b9-acee-c3b482841346",
   "metadata": {},
   "source": [
    "### Define observables"
   ]
  },
  {
   "cell_type": "code",
   "execution_count": null,
   "id": "aab61d28-cb05-4476-adcb-0c4268858238",
   "metadata": {},
   "outputs": [],
   "source": [
    "observables_seir = {\n",
    "    # 'susceptible': Observable(name='susceptible', expression=S),\n",
    "    'exposed': Observable(name='exposed', expression=E),\n",
    "    'infected': Observable(name='infected', expression=I),\n",
    "    'recovered': Observable(name='recovered', expression=R),\n",
    "    'hospitalized': Observable(name='hospitalized', expression=H),\n",
    "    'deceased': Observable(name='deceased', expression=D),\n",
    "    'cumulative_cases': Observable(name='cumulative_cases', expression=Cumulative_cases),\n",
    "    'cumulative_hosp': Observable(name='cumulative_hosp', expression=Cumulative_hosp),\n",
    "}"
   ]
  },
  {
   "cell_type": "markdown",
   "id": "b4525d7b-95f9-4028-adec-71cb440d59ab",
   "metadata": {},
   "source": [
    "### Define template model and save as petrinet AMR"
   ]
  },
  {
   "cell_type": "code",
   "execution_count": null,
   "id": "539b10fe-f584-4839-821b-d4e48aad1e00",
   "metadata": {},
   "outputs": [],
   "source": [
    "seir_model = TemplateModel(\n",
    "    templates=[\n",
    "        se,\n",
    "        ei,\n",
    "        ir,\n",
    "        ih,\n",
    "        hr,\n",
    "        hd,\n",
    "        ccei,\n",
    "        chih\n",
    "    ],\n",
    "    parameters=parameters,\n",
    "    initials=initials,\n",
    "    time=Time(name='t', units=day_units()),\n",
    "    observables=observables_seir,\n",
    "    annotations=Annotations(name='SEIRHD base model')\n",
    ")\n",
    "\n",
    "# Save as JSON\n",
    "with open(\"SEIRHD_base_petrinet.json\", 'w') as fh:\n",
    "    json.dump(template_model_to_petrinet_json(seir_model), fh, indent=1)"
   ]
  },
  {
   "cell_type": "markdown",
   "id": "4c262ebb-308e-4c6a-9fde-69c15335bf62",
   "metadata": {},
   "source": [
    "# Sample from model prior"
   ]
  },
  {
   "cell_type": "markdown",
   "id": "b0900e5e-672a-468c-9654-922dc62a9c20",
   "metadata": {},
   "source": [
    "### Set model path and parameters for sampling"
   ]
  },
  {
   "cell_type": "code",
   "execution_count": null,
   "id": "c9c1ad89-bc9a-4396-bb82-484e33102c6e",
   "metadata": {},
   "outputs": [],
   "source": [
    "model1 = \"SEIRHD_base_petrinet.json\"\n",
    "num_iterations = 1000\n",
    "num_samples = 200\n",
    "start_time = 0.0\n",
    "logging_step_size = 1.0\n",
    "\n",
    "solution_mapping = [lambda x : x]\n",
    "# data_mapping = {'Infected': 'Cumulative_cases', 'Hospitalized': 'Cumulative_hosp', 'Dead': 'deceased'}\n",
    "data_mapping = {'positive': 'Cumulative_cases', 'hospitalizedCurrently': 'Cumulative_hosp', 'death': 'deceased'}\n",
    "\n",
    "# data_end_date = \"2020-12-01\"\n",
    "# dataset = get_data_between('2020-11-01', data_end_date)\n",
    "dataset = pd.read_csv(\"wa_data.csv\")\n",
    "end_time = len(dataset) + 31"
   ]
  },
  {
   "cell_type": "markdown",
   "id": "400b4c34-a82e-4298-b607-35099d207d29",
   "metadata": {},
   "source": [
    "### Sample from model prior and plot output"
   ]
  },
  {
   "cell_type": "code",
   "execution_count": null,
   "id": "efb5c21b-1666-4439-ba53-7227952883fd",
   "metadata": {},
   "outputs": [],
   "source": [
    "result1 = pyciemss.sample(model1, end_time, logging_step_size, num_samples, start_time=start_time)\n",
    "# display(result1['data'].head())\n",
    "\n",
    "# Plot results for all states\n",
    "schema = plot_all_results(result1)\n",
    "plots.save_schema(schema, \"_schema.json\")\n",
    "plots.ipy_display(schema, dpi=150)"
   ]
  },
  {
   "cell_type": "markdown",
   "id": "d2f8f3bf-494b-41f8-a6ad-549081f16835",
   "metadata": {},
   "source": [
    "# Calibrate model to data"
   ]
  },
  {
   "cell_type": "code",
   "execution_count": null,
   "id": "ed5c8f19-6fdf-4d4f-840c-a5cca7a79581",
   "metadata": {},
   "outputs": [],
   "source": [
    "num_iterations = 100\n",
    "calibrated_results = pyciemss.calibrate(model1, dataset, data_mapping=data_mapping, num_iterations=num_iterations)\n",
    "parameter_estimates = calibrated_results[\"inferred_parameters\"]\n",
    "\n",
    "print(parameter_estimates())\n",
    "\n",
    "calibrated_sample_results = pyciemss.sample(model1, end_time, logging_step_size, num_samples, \n",
    "                                            start_time=start_time, inferred_parameters=parameter_estimates)\n",
    "# display(calibrated_sample_results[\"data\"].head())\n",
    "\n",
    "# Plot the result with data\n",
    "schema = plot_results_and_data(calibrated_sample_results, dataset)\n",
    "plots.save_schema(schema, \"_schema.json\")\n",
    "plots.ipy_display(schema, dpi=150)"
   ]
  },
  {
   "cell_type": "code",
   "execution_count": null,
   "id": "3f0cf27d-866d-43f0-bbf6-241acd85d0c7",
   "metadata": {},
   "outputs": [],
   "source": [
    "# Plot results for all states\n",
    "schema = plot_all_results(result1)\n",
    "plots.save_schema(schema, \"_schema.json\")\n",
    "plots.ipy_display(schema, dpi=150)"
   ]
  },
  {
   "cell_type": "markdown",
   "id": "9d658462-3be9-49fe-b0bf-35f4e8c2f240",
   "metadata": {},
   "source": [
    "# Intervene on the model to simulate a mask mandate\n",
    "\n",
    "Reduce the transmission rate `beta` to `0.3` on day 10 (November 11, 2020)"
   ]
  },
  {
   "cell_type": "code",
   "execution_count": null,
   "id": "007027a0-e6c5-4346-99d1-42f5ed9fe753",
   "metadata": {},
   "outputs": [],
   "source": [
    "intervened_result = pyciemss.sample(model1, end_time, logging_step_size, num_samples, start_time=start_time,\n",
    "                                    inferred_parameters=parameter_estimates,\n",
    "                                    static_parameter_interventions={torch.tensor(10.0): {\"beta\": torch.tensor(0.3)}})\n",
    "# display(intervened_result[\"data\"].head())\n",
    "\n",
    "# Plot the result\n",
    "schema = plot_all_results(intervened_result)\n",
    "plots.save_schema(schema, \"_schema.json\")\n",
    "plots.ipy_display(schema, dpi=150)"
   ]
  },
  {
   "cell_type": "code",
   "execution_count": null,
   "id": "5722ba1e-bf44-4b8e-8cee-017cb50477ec",
   "metadata": {},
   "outputs": [],
   "source": [
    "schema = plot_results_and_data(intervened_result, dataset)\n",
    "plots.save_schema(schema, \"_schema.json\")\n",
    "plots.ipy_display(schema, dpi=150)"
   ]
  },
  {
   "cell_type": "markdown",
   "id": "e19fb3a9-8c40-4da6-b8d8-fee20032773b",
   "metadata": {},
   "source": [
    "# Find the optimal time to implement a masking policy\n",
    "\n",
    "Assume that masking reduces the transmission rate to 0.35"
   ]
  },
  {
   "cell_type": "markdown",
   "id": "7121efa8-fdb1-41ce-87fa-9d609b701752",
   "metadata": {},
   "source": [
    "### Define a function to return the n-day-average of a given quantity of interest"
   ]
  },
  {
   "cell_type": "code",
   "execution_count": null,
   "id": "eed4de55-4849-4c64-a759-18cb5ae3f021",
   "metadata": {},
   "outputs": [],
   "source": [
    "def obs_nday_average_qoi(\n",
    "    samples: Dict[str, torch.Tensor], contexts: List, ndays: int = 7\n",
    ") -> np.ndarray:\n",
    "    \"\"\"\n",
    "    Return estimate of last n-day average of each sample.\n",
    "    samples is is the output from a Pyro Predictive object.\n",
    "    samples[VARIABLE] is expected to have dimension (nreplicates, ntimepoints)\n",
    "    Note: last ndays timepoints is assumed to represent last n-days of simulation.\n",
    "    \"\"\"\n",
    "    dataQoI = samples[contexts[0]].detach().numpy()\n",
    "    return np.mean(dataQoI[:, -ndays:], axis=1)"
   ]
  },
  {
   "cell_type": "markdown",
   "id": "c547ac2e-dabd-4df9-922a-2f0640aa623b",
   "metadata": {},
   "source": [
    "### Perform optimization"
   ]
  },
  {
   "cell_type": "code",
   "execution_count": null,
   "id": "2c21e0bc-f037-488b-b536-3685b7b49d6d",
   "metadata": {},
   "outputs": [],
   "source": [
    "initial_guess_interventions = 0.0\n",
    "bounds_interventions = [[start_time], [end_time]]\n",
    "\n",
    "risk_bound = 8600.0\n",
    "observed_params = [\"Cumulative_hosp_state\"]\n",
    "qoi = lambda x: obs_nday_average_qoi(x, observed_params, 1)\n",
    "objfun = lambda x: -x\n",
    "\n",
    "static_parameter_interventions = start_time_objective(\n",
    "    param_name = [\"beta\"],\n",
    "    param_value = torch.tensor([0.37]),\n",
    ")\n",
    "opt_result = pyciemss.optimize(\n",
    "    model1,\n",
    "    end_time,\n",
    "    logging_step_size,\n",
    "    qoi,\n",
    "    risk_bound,\n",
    "    static_parameter_interventions,\n",
    "    objfun,\n",
    "    initial_guess_interventions=initial_guess_interventions,\n",
    "    bounds_interventions=bounds_interventions,\n",
    "    start_time=start_time,\n",
    "    inferred_parameters=parameter_estimates\n",
    ")\n",
    "\n",
    "print(f'Optimal policy:', opt_result[\"policy\"])\n",
    "print(opt_result)"
   ]
  },
  {
   "cell_type": "markdown",
   "id": "1a4033eb-6f07-4f0e-a05a-5a9662e90159",
   "metadata": {},
   "source": [
    "### Sample with the intervention implemented at the optimal time and plot the results"
   ]
  },
  {
   "cell_type": "code",
   "execution_count": null,
   "id": "85bbd7ed-749c-4369-bcf2-09440c57a71d",
   "metadata": {},
   "outputs": [],
   "source": [
    "optimized_result = pyciemss.sample(\n",
    "    model1,\n",
    "    end_time,\n",
    "    logging_step_size,\n",
    "    num_samples,\n",
    "    start_time=start_time,\n",
    "    inferred_parameters=parameter_estimates,\n",
    "    static_parameter_interventions=static_parameter_interventions(opt_result[\"policy\"]),\n",
    ")\n",
    "\n",
    "# Plot the result\n",
    "schema = plot_all_results(optimized_result)\n",
    "plots.save_schema(schema, \"_schema.json\")\n",
    "plots.ipy_display(schema, dpi=150)"
   ]
  },
  {
   "cell_type": "code",
   "execution_count": null,
   "id": "dde2596a-ccb2-4d0c-95cc-e6350add6fff",
   "metadata": {},
   "outputs": [],
   "source": [
    "schema = plot_results_and_data(optimized_result, dataset)\n",
    "plots.save_schema(schema, \"_schema.json\")\n",
    "plots.ipy_display(schema, dpi=150)"
   ]
  },
  {
   "cell_type": "code",
   "execution_count": null,
   "id": "c6dfa256-4026-4a41-9016-8e703d0fc389",
   "metadata": {},
   "outputs": [],
   "source": []
  },
  {
   "cell_type": "code",
   "execution_count": null,
   "id": "4e214966-4460-4abc-b670-8887bcc43519",
   "metadata": {},
   "outputs": [],
   "source": []
  },
  {
   "cell_type": "code",
   "execution_count": null,
   "id": "fb1f158c-5c38-4e3f-bed6-c213d257714a",
   "metadata": {},
   "outputs": [],
   "source": [
    "MODEL_PATH = \"https://raw.githubusercontent.com/DARPA-ASKEM/simulation-integration/main/data/models/\"\n",
    "DATA_PATH = \"https://raw.githubusercontent.com/DARPA-ASKEM/simulation-integration/main/data/datasets/\"\n",
    "\n",
    "model1 = os.path.join(MODEL_PATH, \"SEIRHD_NPI_Type1_petrinet.json\")\n",
    "model2 = os.path.join(MODEL_PATH, \"SEIRHD_NPI_Type2_petrinet.json\")\n",
    "model3 = os.path.join(MODEL_PATH, \"SIR_stockflow.json\")\n",
    "\n",
    "dataset1 = os.path.join(DATA_PATH, \"SIR_data_case_hosp.csv\")\n",
    "dataset2 = os.path.join(DATA_PATH, \"traditional.csv\")"
   ]
  },
  {
   "cell_type": "code",
   "execution_count": null,
   "id": "cba32c57-3a5d-467c-89ad-04b943453fce",
   "metadata": {},
   "outputs": [],
   "source": [
    "# df = pd.read_csv('https://raw.githubusercontent.com/nytimes/covid-19-data/master/us-states.csv')\n",
    "df = pd.read_csv('us-states.csv')\n",
    "df = df[df['state'] == 'Washington']\n",
    "df = df.drop('fips', axis=1)\n",
    "df = df.sort_values('date')\n",
    "print(df)"
   ]
  },
  {
   "cell_type": "code",
   "execution_count": null,
   "id": "36750f40-e31d-4c40-b456-891db5df5ece",
   "metadata": {},
   "outputs": [],
   "source": [
    "# https://covidtracking.com/data\n",
    "df = pd.read_csv('all-states-history.csv')\n",
    "df = df[df['state'] == 'WA']\n",
    "# df = df[['date', 'death', 'hospitalizedCurrently', 'inIcuCurrently', 'positive']]\n",
    "df = df[['date', 'death', 'hospitalizedCurrently', 'positive']]\n",
    "df = df.sort_values('date')\n",
    "print(df[84:86])\n",
    "df = df.drop('date', axis=1)\n",
    "df = df.iloc[84:114]\n",
    "df['Timestamp'] = range(1, len(df) + 1)\n",
    "df.set_index('Timestamp', inplace=True)\n",
    "print(df)\n",
    "df.to_csv('wa_data.csv')"
   ]
  },
  {
   "cell_type": "code",
   "execution_count": null,
   "id": "2ef204d6-10b2-4584-b69c-bd32056fc461",
   "metadata": {},
   "outputs": [],
   "source": [
    "result1 = pyciemss.sample(model1, end_time, logging_step_size, num_samples, start_time=start_time)\n",
    "# display(result1['data'].head())\n",
    "\n",
    "# Plot the result with data\n",
    "nice_labels = {\n",
    "        \"deceased_observable_state\": \"Deceased\", \n",
    "        \"hospitalized_observable_state\": \"Hospitalized\",\n",
    "        \"infected_observable_state\": \"Infected\",\n",
    "        }\n",
    "nice_data_names = {\n",
    "        \"positive\": \"Case Data\",\n",
    "        \"hospitalizedCurrently\": \"Hosp Data\",\n",
    "        \"death\": \"Death Data\"\n",
    "        }\n",
    "data_df = dataset\n",
    "data_df.rename(columns=nice_data_names, inplace=True)\n",
    "schema = plots.trajectories(pd.DataFrame(result1[\"data\"]), \n",
    "                           keep=[\"infected_observable_state\", \"hospitalized_observable_state\", \"deceased_observable_state\"], \n",
    "                           relabel=nice_labels,\n",
    "                           points=data_df.drop(columns=['Timestamp']).reset_index(drop=True)\n",
    "                           )\n",
    "plots.save_schema(schema, \"_schema.json\")\n",
    "plots.ipy_display(schema, dpi=150)"
   ]
  },
  {
   "cell_type": "code",
   "execution_count": null,
   "id": "26a6f7ce-85e9-4036-91f9-3387ef5c2ab5",
   "metadata": {},
   "outputs": [],
   "source": [
    "num_iterations = 500\n",
    "dataset = pd.read_csv('wa_data.csv')\n",
    "calibrated_results = pyciemss.calibrate(model1, dataset, data_mapping=data_mapping, num_iterations=num_iterations)\n",
    "parameter_estimates = calibrated_results[\"inferred_parameters\"]\n",
    "\n",
    "print(parameter_estimates())\n",
    "\n",
    "calibrated_sample_results = pyciemss.sample(model1, end_time, logging_step_size, num_samples, \n",
    "                                            start_time=start_time, inferred_parameters=parameter_estimates)\n",
    "# display(calibrated_sample_results[\"data\"].head())\n",
    "\n",
    "# Plot the result with data\n",
    "nice_labels = {\n",
    "        \"deceased_observable_state\": \"Deceased\", \n",
    "        \"hospitalized_observable_state\": \"Hospitalized\",\n",
    "        \"infected_observable_state\": \"Infected\",\n",
    "        }\n",
    "nice_data_names = {\n",
    "        \"positive\": \"Case Data\",\n",
    "        \"hospitalizedCurrently\": \"Hosp Data\",\n",
    "        \"death\": \"Death Data\"\n",
    "        }\n",
    "data_df = dataset\n",
    "data_df.rename(columns=nice_data_names, inplace=True)\n",
    "schema = plots.trajectories(pd.DataFrame(calibrated_sample_results[\"data\"]), \n",
    "                           keep=[\"infected_observable_state\", \"hospitalized_observable_state\", \"deceased_observable_state\"], \n",
    "                           relabel=nice_labels,\n",
    "                           points=data_df.drop(columns=['Timestamp']).reset_index(drop=True)\n",
    "                           )\n",
    "plots.save_schema(schema, \"_schema.json\")\n",
    "plots.ipy_display(schema, dpi=150)"
   ]
  },
  {
   "cell_type": "code",
   "execution_count": null,
   "id": "efcd29c5-7d18-4db6-adcf-3db9b1ebf3cd",
   "metadata": {},
   "outputs": [],
   "source": []
  },
  {
   "cell_type": "code",
   "execution_count": null,
   "id": "1aeb26cd-267c-44a4-9ff3-5abcd321bf64",
   "metadata": {},
   "outputs": [],
   "source": []
  },
  {
   "cell_type": "code",
   "execution_count": null,
   "id": "7bf67757-8052-4609-9b05-23eb36bfd239",
   "metadata": {},
   "outputs": [],
   "source": []
  },
  {
   "cell_type": "code",
   "execution_count": null,
   "id": "2952749c-57bb-47ed-8ba8-dfb4109c7f0c",
   "metadata": {},
   "outputs": [],
   "source": []
  },
  {
   "cell_type": "code",
   "execution_count": null,
   "id": "464984f5-4dbd-4722-9155-6cafa27b2f96",
   "metadata": {},
   "outputs": [],
   "source": []
  },
  {
   "cell_type": "code",
   "execution_count": null,
   "id": "a57764e0-bfb6-4630-8c78-f987ce4ba7fc",
   "metadata": {},
   "outputs": [],
   "source": []
  },
  {
   "cell_type": "code",
   "execution_count": null,
   "id": "b307b0a0-1ae0-41fa-923b-5694d72d8d7e",
   "metadata": {},
   "outputs": [],
   "source": []
  }
 ],
 "metadata": {
  "kernelspec": {
   "display_name": "Python 3 (ipykernel)",
   "language": "python",
   "name": "python3"
  },
  "language_info": {
   "codemirror_mode": {
    "name": "ipython",
    "version": 3
   },
   "file_extension": ".py",
   "mimetype": "text/x-python",
   "name": "python",
   "nbconvert_exporter": "python",
   "pygments_lexer": "ipython3",
   "version": "3.10.9"
  }
 },
 "nbformat": 4,
 "nbformat_minor": 5
}
