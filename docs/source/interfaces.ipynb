{
 "cells": [
  {
   "cell_type": "markdown",
   "metadata": {},
   "source": [
    "# A tour of PyCIEMSS interfaces and functionality"
   ]
  },
  {
   "cell_type": "markdown",
   "metadata": {},
   "source": [
    "### Load dependencies and interfaces"
   ]
  },
  {
   "cell_type": "code",
   "execution_count": 6,
   "metadata": {},
   "outputs": [],
   "source": [
    "import os\n",
    "import pyciemss\n",
    "import torch\n",
    "import pandas as pd\n",
    "import numpy as np\n",
    "from typing import Dict, List, Callable\n",
    "\n",
    "import pyciemss.visuals.plots as plots\n",
    "import pyciemss.visuals.vega as vega\n",
    "import pyciemss.visuals.trajectories as trajectories\n",
    "\n",
    "from pyciemss.interfaces import ensemble_calibrate\n",
    "\n",
    "from pyciemss.integration_utils.intervention_builder import (\n",
    "    param_value_objective,\n",
    "    start_time_objective,\n",
    ")\n",
    "\n",
    "smoke_test = ('CI' in os.environ)"
   ]
  },
  {
   "cell_type": "markdown",
   "metadata": {},
   "source": [
    "### Select models and data"
   ]
  },
  {
   "cell_type": "code",
   "execution_count": 2,
   "metadata": {},
   "outputs": [],
   "source": [
    "MODEL_PATH = \"https://raw.githubusercontent.com/DARPA-ASKEM/simulation-integration/main/data/models/\"\n",
    "DATA_PATH = \"https://raw.githubusercontent.com/DARPA-ASKEM/simulation-integration/main/data/datasets/\"\n",
    "\n",
    "model1 = os.path.join(MODEL_PATH, \"SEIRHD_NPI_Type1_petrinet.json\")\n",
    "model2 = os.path.join(MODEL_PATH, \"SEIRHD_NPI_Type2_petrinet.json\")\n",
    "model3 = os.path.join(MODEL_PATH, \"SIR_stockflow.json\")\n",
    "\n",
    "dataset1 = os.path.join(DATA_PATH, \"SIR_data_case_hosp.csv\")\n",
    "dataset2 = os.path.join(DATA_PATH, \"traditional.csv\")"
   ]
  },
  {
   "cell_type": "markdown",
   "metadata": {},
   "source": [
    "### Set parameters for sampling"
   ]
  },
  {
   "cell_type": "code",
   "execution_count": 3,
   "metadata": {},
   "outputs": [],
   "source": [
    "start_time = 0.0\n",
    "end_time = 100.0\n",
    "logging_step_size = 10.0\n",
    "num_samples = 3 if smoke_test else 10"
   ]
  },
  {
   "cell_type": "markdown",
   "metadata": {},
   "source": [
    "## Sample interface\n",
    "Take `num_samples` number of samples from the (prior) distribution invoked by the chosen model."
   ]
  },
  {
   "cell_type": "markdown",
   "metadata": {},
   "source": [
    "### Sample from model 1"
   ]
  },
  {
   "cell_type": "code",
   "execution_count": null,
   "metadata": {},
   "outputs": [],
   "source": [
    "result1 = pyciemss.sample(model1, end_time, logging_step_size, num_samples, start_time=start_time)\n",
    "display(result1['data'].head())\n",
    "\n",
    "# Plot results for all states\n",
    "schema = plots.trajectories(result1[\"data\"], keep=\".*_state\")\n",
    "plots.save_schema(schema, \"_schema.json\")\n",
    "plots.ipy_display(schema, dpi=150)"
   ]
  },
  {
   "cell_type": "markdown",
   "metadata": {},
   "source": [
    "### Sample from model 2"
   ]
  },
  {
   "cell_type": "code",
   "execution_count": null,
   "metadata": {},
   "outputs": [],
   "source": [
    "result2 = pyciemss.sample(model2, end_time, logging_step_size, num_samples, start_time=start_time)\n",
    "display(result2['data'].head())\n",
    "\n",
    "# Plot the result\n",
    "schema = plots.trajectories(pd.DataFrame(result2[\"data\"]), keep=\".*_state\")\n",
    "plots.save_schema(schema, \"_schema.json\")\n",
    "plots.ipy_display(schema, dpi=150)"
   ]
  },
  {
   "cell_type": "markdown",
   "metadata": {},
   "source": [
    "## Calibrate interface\n",
    "Calibrate a model to a dataset by mapping model state varibales or observables to columns in the dataset. The `data_mapping` must be a dictionary where the keys are column names in the dataset, and the values are the state variables or observables they are mapped to (as in, `data_mapping = {\"column_name\": \"observable/state_variable\"}`)."
   ]
  },
  {
   "cell_type": "code",
   "execution_count": null,
   "metadata": {},
   "outputs": [],
   "source": [
    "data_mapping = {\"case\": \"infected\", \"hosp\": \"hospitalized\"} # data is mapped to observables\n",
    "# data_mapping = {\"case\": \"I\", \"hosp\": \"H\"} # data is mapped to state variables\n",
    "\n",
    "num_iterations = 10 if smoke_test else 1000\n",
    "calibrated_results = pyciemss.calibrate(model1, dataset1, data_mapping=data_mapping, num_iterations=num_iterations)\n",
    "parameter_estimates = calibrated_results[\"inferred_parameters\"]\n",
    "calibrated_results"
   ]
  },
  {
   "cell_type": "code",
   "execution_count": null,
   "metadata": {},
   "outputs": [],
   "source": [
    "parameter_estimates()"
   ]
  },
  {
   "cell_type": "markdown",
   "metadata": {},
   "source": [
    "### Use calibrated parameter estimates in `sample` to sample from the calibrated model (posterior distr.)"
   ]
  },
  {
   "cell_type": "code",
   "execution_count": null,
   "metadata": {},
   "outputs": [],
   "source": [
    "calibrated_sample_results = pyciemss.sample(model1, end_time, logging_step_size, num_samples, \n",
    "                start_time=start_time, inferred_parameters=parameter_estimates)\n",
    "display(calibrated_sample_results[\"data\"].head())\n",
    "\n",
    "# Plot the result\n",
    "nice_labels = {\n",
    "        \"dead_observable_state\": \"Deceased\", \n",
    "        \"hospitalized_observable_state\": \"Hospitalized\",\n",
    "        \"infected_observable_state\": \"Infected\",\n",
    "        }\n",
    "nice_data_names = {\n",
    "        \"case\": \"Case Data\",\n",
    "        \"hosp\": \"Hosp Data\"\n",
    "        }\n",
    "data_df = pd.read_csv(dataset1)\n",
    "data_df.rename(columns=nice_data_names, inplace=True)\n",
    "schema = plots.trajectories(pd.DataFrame(calibrated_sample_results[\"data\"]), \n",
    "                           keep=[\"infected_observable_state\", \"hospitalized_observable_state\", \"dead_observable_state\"], \n",
    "                           relabel=nice_labels,\n",
    "                           points=data_df.drop(columns=['Timestamp']).reset_index(drop=True)\n",
    "                           )\n",
    "\n",
    "plots.save_schema(schema, \"_schema.json\")\n",
    "plots.ipy_display(schema, dpi=150)"
   ]
  },
  {
   "cell_type": "markdown",
   "metadata": {},
   "source": [
    "## Ensemble Sample Interface\n",
    "Sample from an ensemble of model 1 and model 2 "
   ]
  },
  {
   "cell_type": "code",
   "execution_count": 4,
   "metadata": {},
   "outputs": [
    {
     "data": {
      "text/html": [
       "<div>\n",
       "<style scoped>\n",
       "    .dataframe tbody tr th:only-of-type {\n",
       "        vertical-align: middle;\n",
       "    }\n",
       "\n",
       "    .dataframe tbody tr th {\n",
       "        vertical-align: top;\n",
       "    }\n",
       "\n",
       "    .dataframe thead th {\n",
       "        text-align: right;\n",
       "    }\n",
       "</style>\n",
       "<table border=\"1\" class=\"dataframe\">\n",
       "  <thead>\n",
       "    <tr style=\"text-align: right;\">\n",
       "      <th></th>\n",
       "      <th>timepoint_id</th>\n",
       "      <th>sample_id</th>\n",
       "      <th>timepoint_unknown</th>\n",
       "      <th>model_0/weight_param</th>\n",
       "      <th>model_1/weight_param</th>\n",
       "      <th>model_0/persistent_beta_c_param</th>\n",
       "      <th>model_0/persistent_kappa_param</th>\n",
       "      <th>model_0/persistent_gamma_param</th>\n",
       "      <th>model_0/persistent_hosp_param</th>\n",
       "      <th>model_0/persistent_death_hosp_param</th>\n",
       "      <th>...</th>\n",
       "      <th>D_state</th>\n",
       "      <th>E_state</th>\n",
       "      <th>H_state</th>\n",
       "      <th>I_state</th>\n",
       "      <th>R_state</th>\n",
       "      <th>S_state</th>\n",
       "      <th>infected_state</th>\n",
       "      <th>exposed_state</th>\n",
       "      <th>hospitalized_state</th>\n",
       "      <th>dead_state</th>\n",
       "    </tr>\n",
       "  </thead>\n",
       "  <tbody>\n",
       "    <tr>\n",
       "      <th>0</th>\n",
       "      <td>0</td>\n",
       "      <td>0</td>\n",
       "      <td>10.0</td>\n",
       "      <td>0.694763</td>\n",
       "      <td>0.305237</td>\n",
       "      <td>0.576136</td>\n",
       "      <td>0.122832</td>\n",
       "      <td>0.321152</td>\n",
       "      <td>0.067631</td>\n",
       "      <td>0.011312</td>\n",
       "      <td>...</td>\n",
       "      <td>0.129044</td>\n",
       "      <td>8.438724</td>\n",
       "      <td>1.886078</td>\n",
       "      <td>9.108309</td>\n",
       "      <td>43.414001</td>\n",
       "      <td>19339984.0</td>\n",
       "      <td>9.108309</td>\n",
       "      <td>8.438724</td>\n",
       "      <td>1.886078</td>\n",
       "      <td>0.129044</td>\n",
       "    </tr>\n",
       "    <tr>\n",
       "      <th>1</th>\n",
       "      <td>1</td>\n",
       "      <td>0</td>\n",
       "      <td>20.0</td>\n",
       "      <td>0.694763</td>\n",
       "      <td>0.305237</td>\n",
       "      <td>0.576136</td>\n",
       "      <td>0.122832</td>\n",
       "      <td>0.321152</td>\n",
       "      <td>0.067631</td>\n",
       "      <td>0.011312</td>\n",
       "      <td>...</td>\n",
       "      <td>0.241314</td>\n",
       "      <td>2.588445</td>\n",
       "      <td>0.862401</td>\n",
       "      <td>2.931868</td>\n",
       "      <td>62.795918</td>\n",
       "      <td>19339980.0</td>\n",
       "      <td>2.931868</td>\n",
       "      <td>2.588445</td>\n",
       "      <td>0.862401</td>\n",
       "      <td>0.241314</td>\n",
       "    </tr>\n",
       "    <tr>\n",
       "      <th>2</th>\n",
       "      <td>2</td>\n",
       "      <td>0</td>\n",
       "      <td>30.0</td>\n",
       "      <td>0.694763</td>\n",
       "      <td>0.305237</td>\n",
       "      <td>0.576136</td>\n",
       "      <td>0.122832</td>\n",
       "      <td>0.321152</td>\n",
       "      <td>0.067631</td>\n",
       "      <td>0.011312</td>\n",
       "      <td>...</td>\n",
       "      <td>0.279146</td>\n",
       "      <td>0.833377</td>\n",
       "      <td>0.291170</td>\n",
       "      <td>0.954853</td>\n",
       "      <td>69.167862</td>\n",
       "      <td>19339980.0</td>\n",
       "      <td>0.954853</td>\n",
       "      <td>0.833377</td>\n",
       "      <td>0.291170</td>\n",
       "      <td>0.279146</td>\n",
       "    </tr>\n",
       "    <tr>\n",
       "      <th>3</th>\n",
       "      <td>3</td>\n",
       "      <td>0</td>\n",
       "      <td>40.0</td>\n",
       "      <td>0.694763</td>\n",
       "      <td>0.305237</td>\n",
       "      <td>0.576136</td>\n",
       "      <td>0.122832</td>\n",
       "      <td>0.321152</td>\n",
       "      <td>0.067631</td>\n",
       "      <td>0.011312</td>\n",
       "      <td>...</td>\n",
       "      <td>0.289565</td>\n",
       "      <td>0.275146</td>\n",
       "      <td>0.092255</td>\n",
       "      <td>0.317425</td>\n",
       "      <td>71.251038</td>\n",
       "      <td>19339980.0</td>\n",
       "      <td>0.317425</td>\n",
       "      <td>0.275146</td>\n",
       "      <td>0.092255</td>\n",
       "      <td>0.289565</td>\n",
       "    </tr>\n",
       "    <tr>\n",
       "      <th>4</th>\n",
       "      <td>4</td>\n",
       "      <td>0</td>\n",
       "      <td>50.0</td>\n",
       "      <td>0.694763</td>\n",
       "      <td>0.305237</td>\n",
       "      <td>0.576136</td>\n",
       "      <td>0.122832</td>\n",
       "      <td>0.321152</td>\n",
       "      <td>0.067631</td>\n",
       "      <td>0.011312</td>\n",
       "      <td>...</td>\n",
       "      <td>0.292291</td>\n",
       "      <td>0.092297</td>\n",
       "      <td>0.029212</td>\n",
       "      <td>0.106936</td>\n",
       "      <td>71.939941</td>\n",
       "      <td>19339980.0</td>\n",
       "      <td>0.106936</td>\n",
       "      <td>0.092297</td>\n",
       "      <td>0.029212</td>\n",
       "      <td>0.292291</td>\n",
       "    </tr>\n",
       "  </tbody>\n",
       "</table>\n",
       "<p>5 rows × 48 columns</p>\n",
       "</div>"
      ],
      "text/plain": [
       "   timepoint_id  sample_id timepoint_unknown  model_0/weight_param  \\\n",
       "0             0          0              10.0              0.694763   \n",
       "1             1          0              20.0              0.694763   \n",
       "2             2          0              30.0              0.694763   \n",
       "3             3          0              40.0              0.694763   \n",
       "4             4          0              50.0              0.694763   \n",
       "\n",
       "   model_1/weight_param  model_0/persistent_beta_c_param  \\\n",
       "0              0.305237                         0.576136   \n",
       "1              0.305237                         0.576136   \n",
       "2              0.305237                         0.576136   \n",
       "3              0.305237                         0.576136   \n",
       "4              0.305237                         0.576136   \n",
       "\n",
       "   model_0/persistent_kappa_param  model_0/persistent_gamma_param  \\\n",
       "0                        0.122832                        0.321152   \n",
       "1                        0.122832                        0.321152   \n",
       "2                        0.122832                        0.321152   \n",
       "3                        0.122832                        0.321152   \n",
       "4                        0.122832                        0.321152   \n",
       "\n",
       "   model_0/persistent_hosp_param  model_0/persistent_death_hosp_param  ...  \\\n",
       "0                       0.067631                             0.011312  ...   \n",
       "1                       0.067631                             0.011312  ...   \n",
       "2                       0.067631                             0.011312  ...   \n",
       "3                       0.067631                             0.011312  ...   \n",
       "4                       0.067631                             0.011312  ...   \n",
       "\n",
       "    D_state   E_state   H_state   I_state    R_state     S_state  \\\n",
       "0  0.129044  8.438724  1.886078  9.108309  43.414001  19339984.0   \n",
       "1  0.241314  2.588445  0.862401  2.931868  62.795918  19339980.0   \n",
       "2  0.279146  0.833377  0.291170  0.954853  69.167862  19339980.0   \n",
       "3  0.289565  0.275146  0.092255  0.317425  71.251038  19339980.0   \n",
       "4  0.292291  0.092297  0.029212  0.106936  71.939941  19339980.0   \n",
       "\n",
       "   infected_state  exposed_state  hospitalized_state  dead_state  \n",
       "0        9.108309       8.438724            1.886078    0.129044  \n",
       "1        2.931868       2.588445            0.862401    0.241314  \n",
       "2        0.954853       0.833377            0.291170    0.279146  \n",
       "3        0.317425       0.275146            0.092255    0.289565  \n",
       "4        0.106936       0.092297            0.029212    0.292291  \n",
       "\n",
       "[5 rows x 48 columns]"
      ]
     },
     "metadata": {},
     "output_type": "display_data"
    },
    {
     "data": {
      "image/png": "[encoded data removed]",
      "text/plain": [
       "<IPython.core.display.Image object>"
      ]
     },
     "execution_count": 4,
     "metadata": {},
     "output_type": "execute_result"
    }
   ],
   "source": [
    "model_paths = [model1, model2]\n",
    "solution_mappings = [lambda x : x, lambda x : x] # Conveniently, these two models operate on exactly the same state space, with the same names.\n",
    "\n",
    "ensemble_result = pyciemss.ensemble_sample(model_paths, solution_mappings, end_time, logging_step_size, num_samples, start_time=start_time)\n",
    "display(ensemble_result['data'].head())\n",
    "\n",
    "# Plot the ensemble result for cases, hospitalizations, and deaths\n",
    "nice_labels={\"dead_state\": \"Deaths\", \n",
    "                 \"hospitalized_state\": \"Hospitalizations\",\n",
    "                 \"infected_state\": \"Cases\"\n",
    "                }\n",
    "schema = plots.trajectories(ensemble_result[\"data\"], \n",
    "                           keep=[\"infected_state\", \"hospitalized_state\", \"dead_state\"], \n",
    "                           relabel=nice_labels,\n",
    "                          )\n",
    "plots.save_schema(schema, \"_schema.json\")\n",
    "plots.ipy_display(schema, dpi=150)"
   ]
  },
  {
   "cell_type": "markdown",
   "metadata": {},
   "source": [
    "## Calibrate ensemble interface\n",
    "Calibrate an ensemble of model 1 and model 2 to data"
   ]
  },
  {
   "cell_type": "code",
   "execution_count": 17,
   "metadata": {},
   "outputs": [
    {
     "name": "stdout",
     "output_type": "stream",
     "text": [
      "Mapped solution A: {'case': 'infected', 'hosp': 'hospitalized'}\n",
      "Mapped solution B: {'case': 'infected', 'hosp': 'hospitalized'}\n",
      "\n",
      "Mapped solution A: {'case': 'infected', 'hosp': 'hospitalized'}\n",
      "Mapped solution B: {'case': 'infected', 'hosp': 'hospitalized'}\n",
      "\n"
     ]
    }
   ],
   "source": [
    "from typing import Callable, Dict\n",
    "import torch\n",
    "\n",
    "# Sample solution mappings functions\n",
    "def map_solution_a(solution: Dict[str, str]) -> Dict[str, str]:\n",
    "    \"\"\"\n",
    "    Map solution of model A to a common solution space.\n",
    "    \"\"\"\n",
    "    # Perform mapping for model A's solution\n",
    "    mapped_solution = {col: state for col, state in solution.items()}\n",
    "    return mapped_solution\n",
    "\n",
    "def map_solution_b(solution: Dict[str, str]) -> Dict[str, str]:\n",
    "    \"\"\"\n",
    "    Map solution of model B to a common solution space.\n",
    "    \"\"\"\n",
    "    # Perform mapping for model B's solution\n",
    "    mapped_solution = {col: state for col, state in solution.items()}\n",
    "    return mapped_solution\n",
    "\n",
    "# List of solution mapping functions\n",
    "solution_mappings: List[Callable[[Dict[str, str]], Dict[str, str]]] = [\n",
    "    map_solution_a,\n",
    "    map_solution_a\n",
    "]\n",
    "\n",
    "# Sample solution dictionary\n",
    "model_a_solution = {'case': 'infected', 'hosp': 'hospitalized'}\n",
    "model_b_solution = {'case': 'infected', 'hosp': 'hospitalized'}\n",
    "\n",
    "# Apply solution mappings to each model's solution\n",
    "for mapping_func in solution_mappings:\n",
    "    mapped_solution_a = mapping_func(model_a_solution)\n",
    "    mapped_solution_b = mapping_func(model_b_solution)\n",
    "    \n",
    "    print(\"Mapped solution A:\", mapped_solution_a)\n",
    "    print(\"Mapped solution B:\", mapped_solution_b)\n",
    "    print()"
   ]
  },
  {
   "cell_type": "code",
   "execution_count": 19,
   "metadata": {},
   "outputs": [
    {
     "data": {
      "text/plain": [
       "[{'case': 'infected', 'hosp': 'hospitalized'},\n",
       " {'case': 'infected', 'hosp': 'hospitalized'}]"
      ]
     },
     "execution_count": 19,
     "metadata": {},
     "output_type": "execute_result"
    }
   ],
   "source": [
    "solution_mappings"
   ]
  },
  {
   "cell_type": "code",
   "execution_count": 20,
   "metadata": {},
   "outputs": [
    {
     "ename": "TypeError",
     "evalue": "map_solutions() missing 1 required positional argument: 'solution'",
     "output_type": "error",
     "traceback": [
      "\u001b[0;31m---------------------------------------------------------------------------\u001b[0m",
      "\u001b[0;31mTypeError\u001b[0m                                 Traceback (most recent call last)",
      "Cell \u001b[0;32mIn[20], line 13\u001b[0m\n\u001b[1;32m      9\u001b[0m     \u001b[38;5;28;01mreturn\u001b[39;00m mapped_solution\n\u001b[1;32m     11\u001b[0m \u001b[38;5;66;03m# model_solution1 = {'case': 'infected', 'hosp': 'hospitalized'}\u001b[39;00m\n\u001b[1;32m     12\u001b[0m solution_mappings: List[Callable[[Dict[\u001b[38;5;28mstr\u001b[39m, \u001b[38;5;28mstr\u001b[39m]], Dict[\u001b[38;5;28mstr\u001b[39m, \u001b[38;5;28mstr\u001b[39m]]] \u001b[38;5;241m=\u001b[39m [\n\u001b[0;32m---> 13\u001b[0m     \u001b[43mmap_solutions\u001b[49m\u001b[43m(\u001b[49m\u001b[43m)\u001b[49m,\n\u001b[1;32m     14\u001b[0m     map_solutions()\n\u001b[1;32m     15\u001b[0m ]\n\u001b[1;32m     17\u001b[0m calibrated_results \u001b[38;5;241m=\u001b[39m ensemble_calibrate(model_paths, solution_mappings, dataset1)\n\u001b[1;32m     19\u001b[0m \u001b[38;5;66;03m# ensemble_result = pyciemss.ensemble_sample(model_paths, solution_mappings, end_time, logging_step_size, num_samples, start_time=start_time)\u001b[39;00m\n\u001b[1;32m     20\u001b[0m \u001b[38;5;66;03m# display(ensemble_result['data'].head())\u001b[39;00m\n\u001b[1;32m     21\u001b[0m \n\u001b[0;32m   (...)\u001b[0m\n\u001b[1;32m     31\u001b[0m \u001b[38;5;66;03m# plots.save_schema(schema, \"_schema.json\")\u001b[39;00m\n\u001b[1;32m     32\u001b[0m \u001b[38;5;66;03m# plots.ipy_display(schema, dpi=150)\u001b[39;00m\n",
      "\u001b[0;31mTypeError\u001b[0m: map_solutions() missing 1 required positional argument: 'solution'"
     ]
    }
   ],
   "source": [
    "model_paths = [model1, model2]\n",
    "\n",
    "def map_solutions(solution: Dict[str, str]) -> Dict[str, str]:\n",
    "    \"\"\"\n",
    "    Map solution of model A to a common solution space.\n",
    "    \"\"\"\n",
    "    # Perform mapping for model A's solution\n",
    "    mapped_solution = {col: state for col, state in solution.items()}\n",
    "    return mapped_solution\n",
    "\n",
    "# model_solution1 = {'case': 'infected', 'hosp': 'hospitalized'}\n",
    "solution_mappings: List[Callable[[Dict[str, str]], Dict[str, str]]] = [\n",
    "    map_solutions(model_solution1),\n",
    "    map_solutions(model_solution1)\n",
    "]\n",
    "\n",
    "calibrated_results = ensemble_calibrate(model_paths, solution_mappings, dataset1)\n",
    "\n",
    "# ensemble_result = pyciemss.ensemble_sample(model_paths, solution_mappings, end_time, logging_step_size, num_samples, start_time=start_time)\n",
    "# display(ensemble_result['data'].head())\n",
    "\n",
    "# # Plot the ensemble result for cases, hospitalizations, and deaths\n",
    "# nice_labels={\"dead_state\": \"Deaths\", \n",
    "#                  \"hospitalized_state\": \"Hospitalizations\",\n",
    "#                  \"infected_state\": \"Cases\"\n",
    "#                 }\n",
    "# schema = plots.trajectories(ensemble_result[\"data\"], \n",
    "#                            keep=[\"infected_state\", \"hospitalized_state\", \"dead_state\"], \n",
    "#                            relabel=nice_labels,\n",
    "#                           )\n",
    "# plots.save_schema(schema, \"_schema.json\")\n",
    "# plots.ipy_display(schema, dpi=150)"
   ]
  },
  {
   "cell_type": "markdown",
   "metadata": {},
   "source": [
    "## Sample interface with static parameter intervention\n",
    "Change the value of the parameter `p_cbeta` to 0.5 on day 1"
   ]
  },
  {
   "cell_type": "code",
   "execution_count": null,
   "metadata": {},
   "outputs": [],
   "source": [
    "start_time = 0.0\n",
    "end_time = 100.0\n",
    "logging_step_size = 1.0\n",
    "num_samples = 5 if smoke_test else 100\n",
    "\n",
    "result = pyciemss.sample(model3, end_time, logging_step_size, num_samples, start_time=start_time, \n",
    "                         static_parameter_interventions={torch.tensor(1.): {\"p_cbeta\": torch.tensor(0.5)}})\n",
    "display(result[\"data\"].head())\n",
    "\n",
    "# Plot the result\n",
    "schema = plots.trajectories(pd.DataFrame(result[\"data\"]), keep=\".*_state\")\n",
    "plots.save_schema(schema, \"_schema.json\")\n",
    "plots.ipy_display(schema, dpi=150)"
   ]
  },
  {
   "cell_type": "markdown",
   "metadata": {},
   "source": [
    "## Sample interface with static state intervention\n",
    "Change the Infected state `I` to 20.0 on day 5"
   ]
  },
  {
   "cell_type": "code",
   "execution_count": null,
   "metadata": {},
   "outputs": [],
   "source": [
    "result = pyciemss.sample(model3, end_time, logging_step_size, num_samples, start_time=start_time, \n",
    "                         static_state_interventions={torch.tensor(5.): {\"I\": torch.tensor(20.0)}}, solver_method=\"dopri5\")\n",
    "display(result[\"data\"].head())\n",
    "\n",
    "# Plot the result\n",
    "schema = plots.trajectories(pd.DataFrame(result[\"data\"]), keep=\".*_state\")\n",
    "plots.save_schema(schema, \"_schema.json\")\n",
    "plots.ipy_display(schema, dpi=150)"
   ]
  },
  {
   "cell_type": "markdown",
   "metadata": {},
   "source": [
    "## Sample interface with dynamic parameter interventions\n",
    "Change the parameter `p_cbeta` from 0.35 to 0.3 when the infectious population `I` exceeds 200."
   ]
  },
  {
   "cell_type": "code",
   "execution_count": null,
   "metadata": {},
   "outputs": [],
   "source": [
    "# Define the threshold for when the intervention should be applied\n",
    "def make_var_threshold(var: str, threshold: torch.Tensor):\n",
    "    def var_threshold(time, state):\n",
    "        return state[var] - threshold\n",
    "    return var_threshold\n",
    "    \n",
    "infection_threshold = make_var_threshold(\"I\", torch.tensor(150.0))\n",
    "dynamic_parameter_interventions1 = {infection_threshold: {\"p_cbeta\": torch.tensor(0.3)}}\n",
    "\n",
    "result = pyciemss.sample(model3, end_time, logging_step_size, num_samples, start_time=start_time, \n",
    "                         dynamic_parameter_interventions=dynamic_parameter_interventions1, \n",
    "                         solver_method=\"dopri5\")\n",
    "display(result[\"data\"].head())\n",
    "\n",
    "# Plot the result\n",
    "schema = plots.trajectories(pd.DataFrame(result[\"data\"]), keep=\".*_state\")\n",
    "plots.save_schema(schema, \"_schema.json\")\n",
    "plots.ipy_display(schema, dpi=150)"
   ]
  },
  {
   "cell_type": "code",
   "execution_count": null,
   "metadata": {},
   "outputs": [],
   "source": [
    "# # NOTE: If you change the solver to \"euler\", you need to specify the step size in `solver_options` as below:\n",
    "# # Specify solver options including the step_size\n",
    "# solver_options = {\"step_size\": 1e-2}  # Example step size, adjust as needed\n",
    "# result = pyciemss.sample(model3, end_time, logging_step_size, num_samples, start_time=start_time, \n",
    "#                          dynamic_parameter_interventions=dynamic_parameter_interventions1, \n",
    "#                          solver_method=\"euler\",\n",
    "#                          solver_options=solver_options)"
   ]
  },
  {
   "cell_type": "markdown",
   "metadata": {},
   "source": [
    "## Sample interface with dynamic state interventions\n",
    "Reduce the susceptible population `S` to 200.0 when infections `I` exceed 400. "
   ]
  },
  {
   "cell_type": "code",
   "execution_count": null,
   "metadata": {},
   "outputs": [],
   "source": [
    "# Define the threshold for when the intervention should be applied\n",
    "def make_var_threshold(var: str, threshold: torch.Tensor):\n",
    "    def var_threshold(time, state):\n",
    "        return state[var] - threshold  \n",
    "    return var_threshold\n",
    "    \n",
    "infection_threshold = make_var_threshold(\"I\", torch.tensor(400.0))\n",
    "dynamic_state_interventions1 = {infection_threshold: {\"S\": torch.tensor(200.0)}} \n",
    "\n",
    "result = pyciemss.sample(model3, end_time, logging_step_size, num_samples, start_time=start_time, \n",
    "                         dynamic_state_interventions=dynamic_state_interventions1, \n",
    "                         solver_method=\"dopri5\")\n",
    "display(result[\"data\"].head())\n",
    "\n",
    "# Plot the result\n",
    "schema = plots.trajectories(pd.DataFrame(result[\"data\"]), keep=\".*_state\")\n",
    "plots.save_schema(schema, \"_schema.json\")\n",
    "plots.ipy_display(schema, dpi=150)"
   ]
  },
  {
   "cell_type": "markdown",
   "metadata": {},
   "source": [
    "## Optimize interface\n",
    "Get infections below 300 individuals at 100 days for SIR model with minimum change to current value for intervention parameter"
   ]
  },
  {
   "cell_type": "code",
   "execution_count": null,
   "metadata": {},
   "outputs": [],
   "source": [
    "def obs_nday_average_qoi(\n",
    "    samples: Dict[str, torch.Tensor], contexts: List, ndays: int = 7\n",
    ") -> np.ndarray:\n",
    "    \"\"\"\n",
    "    Return estimate of last n-day average of each sample.\n",
    "    samples is is the output from a Pyro Predictive object.\n",
    "    samples[VARIABLE] is expected to have dimension (nreplicates, ntimepoints)\n",
    "    Note: last ndays timepoints is assumed to represent last n-days of simulation.\n",
    "    \"\"\"\n",
    "    dataQoI = samples[contexts[0]].detach().numpy()\n",
    "    return np.mean(dataQoI[:, -ndays:], axis=1)\n",
    "\n",
    "start_time = 0.0\n",
    "end_time = 40.0\n",
    "logging_step_size = 1.0\n",
    "observed_params = [\"I_state\"]\n",
    "intervention_time = [torch.tensor(1.0)]\n",
    "intervened_params = [\"p_cbeta\"]"
   ]
  },
  {
   "cell_type": "code",
   "execution_count": null,
   "metadata": {},
   "outputs": [],
   "source": [
    "p_cbeta_current = 0.35\n",
    "initial_guess_interventions = 0.15\n",
    "bounds_interventions = [[0.1], [0.5]]\n",
    "\n",
    "risk_bound = 300.0\n",
    "qoi = lambda x: obs_nday_average_qoi(x, observed_params, 1)\n",
    "objfun = lambda x: np.abs(p_cbeta_current - x)\n",
    "\n",
    "static_parameter_interventions = param_value_objective(\n",
    "    param_name = intervened_params,\n",
    "    param_value = [lambda x: torch.tensor([x])],\n",
    "    start_time = intervention_time,\n",
    ")\n",
    "opt_result = pyciemss.optimize(\n",
    "    model3,\n",
    "    end_time,\n",
    "    logging_step_size,\n",
    "    qoi,\n",
    "    risk_bound,\n",
    "    static_parameter_interventions,\n",
    "    objfun,\n",
    "    initial_guess_interventions=initial_guess_interventions,\n",
    "    bounds_interventions=bounds_interventions,\n",
    "    start_time=0.0,\n",
    "    n_samples_ouu=int(1e2),\n",
    "    maxiter=0,\n",
    "    maxfeval=20,\n",
    "    solver_method=\"euler\",\n",
    "    solver_options={\"step_size\": logging_step_size/2},\n",
    ")\n",
    "print(f'Optimal policy:', opt_result[\"policy\"])\n",
    "print(opt_result)"
   ]
  },
  {
   "cell_type": "markdown",
   "metadata": {},
   "source": [
    "### Sample using the optimal policy as an intervention"
   ]
  },
  {
   "cell_type": "code",
   "execution_count": null,
   "metadata": {},
   "outputs": [],
   "source": [
    "num_samples = 10 if smoke_test else 100\n",
    "result = pyciemss.sample(\n",
    "    model3,\n",
    "    end_time,\n",
    "    logging_step_size,\n",
    "    num_samples,\n",
    "    start_time=start_time,\n",
    "    static_parameter_interventions=static_parameter_interventions(opt_result[\"policy\"]),\n",
    "    solver_method=\"euler\",\n",
    "    solver_options={\"step_size\": 1e-2},\n",
    ")\n",
    "\n",
    "display(result[\"data\"].head())\n",
    "\n",
    "# Plot the result\n",
    "schema = plots.trajectories(pd.DataFrame(result[\"data\"]), keep=\".*_state\")\n",
    "plots.save_schema(schema, \"_schema.json\")\n",
    "plots.ipy_display(schema, dpi=150)"
   ]
  },
  {
   "cell_type": "markdown",
   "metadata": {},
   "source": [
    "## Optimize interface for optimizing start time"
   ]
  },
  {
   "cell_type": "code",
   "execution_count": null,
   "metadata": {},
   "outputs": [],
   "source": [
    "initial_guess_interventions = 0.0\n",
    "bounds_interventions = [[start_time], [end_time]]\n",
    "\n",
    "risk_bound = 300.0\n",
    "qoi = lambda x: obs_nday_average_qoi(x, observed_params, 1)\n",
    "objfun = lambda x: -x\n",
    "\n",
    "static_parameter_interventions = start_time_objective(\n",
    "    param_name = intervened_params,\n",
    "    param_value = torch.tensor([0.15]),\n",
    ")\n",
    "opt_result = pyciemss.optimize(\n",
    "    model3,\n",
    "    end_time,\n",
    "    logging_step_size,\n",
    "    qoi,\n",
    "    risk_bound,\n",
    "    static_parameter_interventions,\n",
    "    objfun,\n",
    "    initial_guess_interventions=initial_guess_interventions,\n",
    "    bounds_interventions=bounds_interventions,\n",
    "    start_time=0.0,\n",
    "    n_samples_ouu=int(1e2),\n",
    "    maxiter=1,\n",
    "    maxfeval=2,\n",
    "    solver_method=\"euler\",\n",
    "    solver_options={\"step_size\": logging_step_size/2},\n",
    ")\n",
    "\n",
    "print(f'Optimal policy:', opt_result[\"policy\"])\n",
    "print(opt_result)"
   ]
  },
  {
   "cell_type": "markdown",
   "metadata": {},
   "source": [
    "### Sample with the intervention implemented at the optimal time"
   ]
  },
  {
   "cell_type": "code",
   "execution_count": null,
   "metadata": {},
   "outputs": [],
   "source": [
    "num_samples = 10 if smoke_test else 100\n",
    "result = pyciemss.sample(\n",
    "    model3,\n",
    "    end_time,\n",
    "    logging_step_size,\n",
    "    num_samples,\n",
    "    start_time=start_time,\n",
    "    static_parameter_interventions=static_parameter_interventions(opt_result[\"policy\"]),\n",
    "    solver_method=\"euler\",\n",
    "    solver_options={\"step_size\": 1e-2},\n",
    ")\n",
    "\n",
    "display(result[\"data\"].head())\n",
    "\n",
    "# Plot the result\n",
    "schema = plots.trajectories(pd.DataFrame(result[\"data\"]), keep=\".*_state\")\n",
    "plots.save_schema(schema, \"_schema.json\")\n",
    "plots.ipy_display(schema, dpi=150)"
   ]
  },
  {
   "cell_type": "code",
   "execution_count": null,
   "metadata": {},
   "outputs": [],
   "source": []
  }
 ],
 "metadata": {
  "kernelspec": {
   "display_name": "Python 3 (ipykernel)",
   "language": "python",
   "name": "python3"
  },
  "language_info": {
   "codemirror_mode": {
    "name": "ipython",
    "version": 3
   },
   "file_extension": ".py",
   "mimetype": "text/x-python",
   "name": "python",
   "nbconvert_exporter": "python",
   "pygments_lexer": "ipython3",
   "version": "3.10.9"
  }
 },
 "nbformat": 4,
 "nbformat_minor": 4
}
