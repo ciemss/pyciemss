{
 "cells": [
  {
   "cell_type": "markdown",
   "id": "ca996451",
   "metadata": {},
   "source": [
    "# Testing PyCIEMSS functionality with standard models\n",
    "\n",
    "This notebook will run each of the \"small-box\" functions: `simulate`, `calibrate`, and `optimize`, with the standard models used for testing [here](https://github.com/DARPA-ASKEM/simulation-integration/tree/main/data/models). "
   ]
  },
  {
   "cell_type": "markdown",
   "id": "30f21292",
   "metadata": {},
   "source": [
    "### Load dependencies"
   ]
  },
  {
   "cell_type": "code",
   "execution_count": 2,
   "id": "dfa6e7b7",
   "metadata": {},
   "outputs": [],
   "source": [
    "import os\n",
    "import pyciemss\n",
    "import matplotlib.pyplot as plt"
   ]
  },
  {
   "cell_type": "markdown",
   "id": "e7708e3e",
   "metadata": {},
   "source": [
    "### Gather models"
   ]
  },
  {
   "cell_type": "code",
   "execution_count": 10,
   "id": "9d40a8ab",
   "metadata": {},
   "outputs": [],
   "source": [
    "MODEL_PATH = \"https://raw.githubusercontent.com/DARPA-ASKEM/simulation-integration/main/data/models/\"\n",
    "\n",
    "# Petrinets\n",
    "petri1 = os.path.join(MODEL_PATH, \"SEIRD_base_model01_petrinet.json\")\n",
    "petri2 = os.path.join(MODEL_PATH, \"SEIRHD_base_model01_petrinet.json\")\n",
    "petri3 = os.path.join(MODEL_PATH, \"SEIRHD_with_reinfection01_petrinet.json\")\n",
    "petri4 = os.path.join(MODEL_PATH, \"SEIRHD_NPI_Type1_petrinet.json\")\n",
    "petri5 = os.path.join(MODEL_PATH, \"SEIRHD_NPI_Type2_petrinet.json\")\n",
    "\n",
    "# Regnets\n",
    "regnet1 = os.path.join(MODEL_PATH, \"LV_goat_chupacabra_regnet.json\")\n",
    "regnet2 = os.path.join(MODEL_PATH, \"LV_sheep_foxes_regnet.json\")\n",
    "regnet3 = os.path.join(MODEL_PATH, \"LV_rabbits_wolves_regnet.json\")\n",
    "regnet4 = os.path.join(MODEL_PATH, \"LV_rabbits_wolves_model02_regnet.json\")\n",
    "regnet5 = os.path.join(MODEL_PATH, \"LV_rabbits_wolves_model03_regnet.json\")\n",
    "\n",
    "# Stock-and-Flow\n",
    "stock1 = os.path.join(MODEL_PATH, \"SIR_stockflow.json\")\n",
    "stock2 = os.path.join(MODEL_PATH, \"SEIR_stockflow.json\")\n",
    "stock3 = os.path.join(MODEL_PATH, \"SEIRD_stockflow.json\")\n",
    "stock4 = os.path.join(MODEL_PATH, \"SEIRHD_stockflow.json\")\n",
    "stock5 = os.path.join(MODEL_PATH, \"SEIRHDS_stockflow.json\")\n",
    "\n",
    "all_models = [petri1, petri2, petri3, petri4, petri5, regnet1, regnet2, regnet3, regnet4, regnet5, stock1, stock2, stock3, stock4, stock5]"
   ]
  },
  {
   "cell_type": "markdown",
   "id": "658279d2",
   "metadata": {},
   "source": [
    "### Gather datasets"
   ]
  },
  {
   "cell_type": "code",
   "execution_count": 13,
   "id": "2d4d21f7",
   "metadata": {},
   "outputs": [],
   "source": [
    "DATA_PATH = \"https://raw.githubusercontent.com/DARPA-ASKEM/simulation-integration/main/data/datasets/\"\n",
    "\n",
    "dataset1 = os.path.join(DATA_PATH, \"traditional.csv\")\n",
    "dataset2 = os.path.join(DATA_PATH, \"optimize.csv\")"
   ]
  },
  {
   "cell_type": "markdown",
   "id": "a2d38216",
   "metadata": {},
   "source": [
    "### Define functions for plotting results"
   ]
  },
  {
   "cell_type": "code",
   "execution_count": null,
   "id": "af1450da",
   "metadata": {},
   "outputs": [],
   "source": [
    "# These plotting utils will not be needed for long!\n",
    "\n",
    "# TODO: write functions to plot simulation results (with and without data)"
   ]
  },
  {
   "cell_type": "markdown",
   "id": "8f79f2a5",
   "metadata": {},
   "source": [
    "### Simulate all models "
   ]
  },
  {
   "cell_type": "code",
   "execution_count": 11,
   "id": "9a0465fa",
   "metadata": {},
   "outputs": [
    {
     "data": {
      "text/plain": [
       "{'persistent_p_cbeta': tensor([0.2701, 0.3266, 0.4341]),\n",
       " 'persistent_p_cdelta': tensor([0.2883, 0.2811, 0.1901]),\n",
       " 'persistent_p_cgamma': tensor([0.2074, 0.1939, 0.1519]),\n",
       " 'persistent_p_hosp': tensor([0.1649, 0.0627, 0.1586]),\n",
       " 'persistent_p_death': tensor([0.0867, 0.0528, 0.0500]),\n",
       " 'persistent_p_los': tensor([8.6175, 6.5303, 8.0322]),\n",
       " 'persistent_p_roil': tensor([0.0037, 0.0043, 0.0048]),\n",
       " 'persistent_I0': tensor([8.5961, 5.3298, 1.3690]),\n",
       " 'persistent_H0': tensor([7.2517, 4.4899, 3.7942]),\n",
       " 'D_state': tensor([[0.5112, 0.8144, 1.0970, 1.4270, 1.8298, 2.3106, 2.8598, 3.4553, 4.0666],\n",
       "         [0.2001, 0.2769, 0.3557, 0.4830, 0.6888, 0.9845, 1.3449, 1.7127, 2.0319],\n",
       "         [0.1420, 0.2078, 0.3040, 0.5588, 1.2055, 2.4580, 4.1122, 5.6340, 6.7170]]),\n",
       " 'E_state': tensor([[  5.5020,   7.2819,   9.2922,  11.3826,  13.2779,  14.6535,  15.2443,\n",
       "           14.9546,  13.8956],\n",
       "         [  5.4388,  10.1703,  17.8820,  28.3985,  38.5909,  42.8903,  38.7354,\n",
       "           29.6171,  20.4408],\n",
       "         [  3.2597,  10.1967,  30.0136,  75.0166, 128.9336, 126.0114,  76.8879,\n",
       "           38.8879,  20.0567]]),\n",
       " 'H_state': tensor([[ 3.5705,  2.7388,  2.9795,  3.6193,  4.3946,  5.1450,  5.7335,  6.0513,\n",
       "           6.0462],\n",
       "         [ 1.2776,  0.8332,  1.2024,  2.0099,  3.1088,  4.1515,  4.6368,  4.3381,\n",
       "           3.5042],\n",
       "         [ 1.3175,  1.0500,  2.3603,  6.4761, 15.0486, 24.6648, 26.8903, 21.2238,\n",
       "          13.7358]]),\n",
       " 'I_state': tensor([[  6.7258,   8.9404,  11.5719,  14.4317,  17.2046,  19.4683,  20.8113,\n",
       "           20.9883,  20.0202],\n",
       "         [  5.9215,  11.1788,  20.1528,  33.4244,  48.6123,  59.1830,  59.1000,\n",
       "           49.3858,  36.2629],\n",
       "         [  2.3318,   7.3103,  22.0716,  59.3283, 120.9944, 156.6623, 128.2153,\n",
       "           78.3522,  42.5927]]),\n",
       " 'R_state': tensor([[ 16.2743,  32.0824,  51.2571,  74.9373, 103.3596, 135.9057, 171.0974,\n",
       "          206.8004, 240.6761],\n",
       "         [ 11.9526,  27.5838,  55.1032, 102.1978, 174.7126, 269.7979, 371.7611,\n",
       "          460.0758, 522.5266],\n",
       "         [  4.5231,  11.0029,  29.1225,  80.4458, 200.5506, 394.4231, 589.7506,\n",
       "          718.7589, 778.7339]]),\n",
       " 'S_state': tensor([[968.4163, 949.1414, 924.8018, 895.2020, 860.9333, 823.5163, 785.2538,\n",
       "          748.7503, 716.2957],\n",
       "         [976.2093, 950.9565, 906.3037, 834.4866, 735.2853, 623.9930, 525.4217,\n",
       "          455.8699, 416.2333],\n",
       "         [989.4258, 971.2322, 917.1279, 779.1744, 534.2675, 296.7802, 175.1436,\n",
       "          138.1435, 139.1647]])}"
      ]
     },
     "execution_count": 11,
     "metadata": {},
     "output_type": "execute_result"
    }
   ],
   "source": [
    "start_time = 0.0\n",
    "end_time = 100.\n",
    "logging_step_size = 10.0\n",
    "num_samples = 3\n",
    "\n",
    "for model in all_models:\n",
    "    result = pyciemss.sample(model, end_time, logging_step_size, num_samples, start_time=start_time)\n",
    "#     result[\"data\"]\n",
    "#     result[\"unprocessed_result\"]\n",
    "\n",
    "result[\"unprocessed_result\"]"
   ]
  },
  {
   "cell_type": "markdown",
   "id": "d7e7d801",
   "metadata": {},
   "source": [
    "### Calibrate models"
   ]
  },
  {
   "cell_type": "code",
   "execution_count": 12,
   "id": "12ef60bd",
   "metadata": {},
   "outputs": [],
   "source": [
    "# TODO: use PyCIEMSS `calibrate` interface to calibrate each model to the appropriate dataset"
   ]
  },
  {
   "cell_type": "markdown",
   "id": "2a81dc90",
   "metadata": {},
   "source": [
    "### Optimize models"
   ]
  },
  {
   "cell_type": "code",
   "execution_count": null,
   "id": "99e783e2",
   "metadata": {},
   "outputs": [],
   "source": [
    "# TODO: use PyCIEMSS `optimize` interface with each model and appropriate dataset"
   ]
  },
  {
   "cell_type": "code",
   "execution_count": null,
   "id": "3275c27b",
   "metadata": {},
   "outputs": [],
   "source": []
  }
 ],
 "metadata": {
  "kernelspec": {
   "display_name": "Python (pyciemss)",
   "language": "python",
   "name": "pyciemss"
  },
  "language_info": {
   "codemirror_mode": {
    "name": "ipython",
    "version": 3
   },
   "file_extension": ".py",
   "mimetype": "text/x-python",
   "name": "python",
   "nbconvert_exporter": "python",
   "pygments_lexer": "ipython3",
   "version": "3.10.9"
  }
 },
 "nbformat": 4,
 "nbformat_minor": 5
}
