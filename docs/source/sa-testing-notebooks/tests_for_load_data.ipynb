{
 "cells": [
  {
   "cell_type": "markdown",
   "id": "d05511a2",
   "metadata": {},
   "source": [
    "# Tests for `load_data` \n",
    "This notebook serves to address [this](https://github.com/ciemss/pyciemss/issues/434) Github issue.\n",
    "\n",
    "The new interface for calibrate requires csv files, but there are lots of ways that csv files can fail to provide information in the right format. Test the most common failure modes, such as:\n",
    "\n",
    "1. Missing data\n",
    "2. Incorrectly typed columns\n",
    "3. Mislabeled columns\n",
    "4. Header columns have one fewer column than data\n",
    "5. Alignment issues\n",
    "6. Escaping commas\n",
    "7. Na, NaN, None, '',,\n",
    "\n",
    "All of these issues will make it difficult to convert a dataframe to a correctly typed tensor."
   ]
  },
  {
   "cell_type": "markdown",
   "id": "8db62293",
   "metadata": {},
   "source": [
    "### Load dependencies"
   ]
  },
  {
   "cell_type": "code",
   "execution_count": 1,
   "id": "a375d1bd",
   "metadata": {},
   "outputs": [],
   "source": [
    "import os\n",
    "import pyciemss\n",
    "from pyciemss.interfaces import calibrate"
   ]
  },
  {
   "cell_type": "markdown",
   "id": "9c79d592",
   "metadata": {},
   "source": [
    "### Load models"
   ]
  },
  {
   "cell_type": "code",
   "execution_count": 2,
   "id": "bf1e6db2",
   "metadata": {},
   "outputs": [],
   "source": [
    "MODEL_PATH = \"https://raw.githubusercontent.com/DARPA-ASKEM/simulation-integration/main/data/models/\"\n",
    "\n",
    "# Petrinets\n",
    "petri1 = os.path.join(MODEL_PATH, \"SEIRD_base_model01_petrinet.json\")\n",
    "petri2 = os.path.join(MODEL_PATH, \"SEIRHD_base_model01_petrinet.json\")\n",
    "petri3 = os.path.join(MODEL_PATH, \"SEIRHD_with_reinfection01_petrinet.json\")\n",
    "petri4 = os.path.join(MODEL_PATH, \"SEIRHD_NPI_Type1_petrinet.json\")\n",
    "petri5 = os.path.join(MODEL_PATH, \"SEIRHD_NPI_Type2_petrinet.json\")\n",
    "\n",
    "# Regnets\n",
    "regnet1 = os.path.join(MODEL_PATH, \"LV_goat_chupacabra_regnet.json\")\n",
    "regnet2 = os.path.join(MODEL_PATH, \"LV_sheep_foxes_regnet.json\")\n",
    "regnet3 = os.path.join(MODEL_PATH, \"LV_rabbits_wolves_regnet.json\")\n",
    "regnet4 = os.path.join(MODEL_PATH, \"LV_rabbits_wolves_model02_regnet.json\")\n",
    "regnet5 = os.path.join(MODEL_PATH, \"LV_rabbits_wolves_model03_regnet.json\")\n",
    "\n",
    "# Stock-and-Flow\n",
    "stock1 = os.path.join(MODEL_PATH, \"SIR_stockflow.json\")\n",
    "stock2 = os.path.join(MODEL_PATH, \"SEIR_stockflow.json\")\n",
    "stock3 = os.path.join(MODEL_PATH, \"SEIRD_stockflow.json\")\n",
    "stock4 = os.path.join(MODEL_PATH, \"SEIRHD_stockflow.json\")\n",
    "stock5 = os.path.join(MODEL_PATH, \"SEIRHDS_stockflow.json\")"
   ]
  },
  {
   "cell_type": "markdown",
   "id": "0b05d93b",
   "metadata": {},
   "source": [
    "### Load datasets"
   ]
  },
  {
   "cell_type": "code",
   "execution_count": 3,
   "id": "b5a4ee1a",
   "metadata": {},
   "outputs": [],
   "source": [
    "dataset1 = \"../../../docs/source/sa-testing-notebooks/SIR_data_case_hosp.csv\" # this dataset should work fine\n",
    "# dataset2 = \"../../../docs/source/sa-testing-notebooks/SIR_missing_data.csv\"\n",
    "# dataset3 = \"../../../docs/source/sa-testing-notebooks/SIR_data_nan.csv\"\n",
    "# dataset4 = \"../../../docs/source/sa-testing-notebooks/SIR_missing_data_space.csv\"\n",
    "# dataset5 = \"../../../docs/source/sa-testing-notebooks/SIR_data_none_type.csv\""
   ]
  },
  {
   "cell_type": "markdown",
   "id": "7f3a1c5b",
   "metadata": {},
   "source": [
    "### Calibrate models to data"
   ]
  },
  {
   "cell_type": "markdown",
   "id": "3928be1f",
   "metadata": {},
   "source": [
    "### Calibrate works when data is mapped to STATE VARIABLES..."
   ]
  },
  {
   "cell_type": "code",
   "execution_count": null,
   "id": "cf57f5c6",
   "metadata": {},
   "outputs": [],
   "source": [
    "num_iterations = 10"
   ]
  },
  {
   "cell_type": "code",
   "execution_count": null,
   "id": "4ff377b9",
   "metadata": {},
   "outputs": [],
   "source": [
    "data_mapping = {\"case\": \"I\", \"hosp\": \"H\"} # data_mapping = \"column_name\": \"observable/state_variable\"\n",
    "calibrated_results = calibrate(petri2, dataset1, data_mapping=data_mapping, num_iterations=num_iterations)\n",
    "parameter_estimates = calibrated_results[0]\n",
    "calibrated_results"
   ]
  },
  {
   "cell_type": "code",
   "execution_count": null,
   "id": "76698f60",
   "metadata": {},
   "outputs": [],
   "source": [
    "point_estimates = calibrated_results[0](0)\n",
    "point_estimates"
   ]
  },
  {
   "cell_type": "code",
   "execution_count": null,
   "id": "23c3b26f",
   "metadata": {},
   "outputs": [],
   "source": [
    "gaussian_estimates = calibrated_results[0](1)\n",
    "gaussian_estimates"
   ]
  },
  {
   "cell_type": "markdown",
   "id": "d5673215",
   "metadata": {},
   "source": [
    "### Pass inferred parameters to sample "
   ]
  },
  {
   "cell_type": "code",
   "execution_count": 5,
   "id": "e46b59f8",
   "metadata": {},
   "outputs": [],
   "source": [
    "start_time = 0.0\n",
    "end_time = 100.\n",
    "logging_step_size = 10.0\n",
    "num_samples = 3\n",
    "\n",
    "# pyciemss.sample(petri2, end_time, logging_step_size, num_samples, \n",
    "#                 start_time=start_time, inferred_parameters=parameter_estimates)"
   ]
  },
  {
   "cell_type": "code",
   "execution_count": 6,
   "id": "e18333de",
   "metadata": {},
   "outputs": [
    {
     "data": {
      "text/plain": [
       "{'data':     timepoint_id  sample_id  persistent_beta_param  persistent_gamma_param  \\\n",
       " 0              0          0               0.356015                0.229369   \n",
       " 1              1          0               0.356015                0.229369   \n",
       " 2              2          0               0.356015                0.229369   \n",
       " 3              3          0               0.356015                0.229369   \n",
       " 4              4          0               0.356015                0.229369   \n",
       " 5              5          0               0.356015                0.229369   \n",
       " 6              6          0               0.356015                0.229369   \n",
       " 7              7          0               0.356015                0.229369   \n",
       " 8              8          0               0.356015                0.229369   \n",
       " 9              0          1               0.244306                0.334480   \n",
       " 10             1          1               0.244306                0.334480   \n",
       " 11             2          1               0.244306                0.334480   \n",
       " 12             3          1               0.244306                0.334480   \n",
       " 13             4          1               0.244306                0.334480   \n",
       " 14             5          1               0.244306                0.334480   \n",
       " 15             6          1               0.244306                0.334480   \n",
       " 16             7          1               0.244306                0.334480   \n",
       " 17             8          1               0.244306                0.334480   \n",
       " 18             0          2               0.433764                0.191084   \n",
       " 19             1          2               0.433764                0.191084   \n",
       " 20             2          2               0.433764                0.191084   \n",
       " 21             3          2               0.433764                0.191084   \n",
       " 22             4          2               0.433764                0.191084   \n",
       " 23             5          2               0.433764                0.191084   \n",
       " 24             6          2               0.433764                0.191084   \n",
       " 25             7          2               0.433764                0.191084   \n",
       " 26             8          2               0.433764                0.191084   \n",
       " \n",
       "     persistent_hosp_param  persistent_death_hosp_param  persistent_I0_param  \\\n",
       " 0                0.025061                     0.071767            13.299953   \n",
       " 1                0.025061                     0.071767            13.299953   \n",
       " 2                0.025061                     0.071767            13.299953   \n",
       " 3                0.025061                     0.071767            13.299953   \n",
       " 4                0.025061                     0.071767            13.299953   \n",
       " 5                0.025061                     0.071767            13.299953   \n",
       " 6                0.025061                     0.071767            13.299953   \n",
       " 7                0.025061                     0.071767            13.299953   \n",
       " 8                0.025061                     0.071767            13.299953   \n",
       " 9                0.181124                     0.069085            14.461399   \n",
       " 10               0.181124                     0.069085            14.461399   \n",
       " 11               0.181124                     0.069085            14.461399   \n",
       " 12               0.181124                     0.069085            14.461399   \n",
       " 13               0.181124                     0.069085            14.461399   \n",
       " 14               0.181124                     0.069085            14.461399   \n",
       " 15               0.181124                     0.069085            14.461399   \n",
       " 16               0.181124                     0.069085            14.461399   \n",
       " 17               0.181124                     0.069085            14.461399   \n",
       " 18               0.128570                     0.099269             2.935102   \n",
       " 19               0.128570                     0.099269             2.935102   \n",
       " 20               0.128570                     0.099269             2.935102   \n",
       " 21               0.128570                     0.099269             2.935102   \n",
       " 22               0.128570                     0.099269             2.935102   \n",
       " 23               0.128570                     0.099269             2.935102   \n",
       " 24               0.128570                     0.099269             2.935102   \n",
       " 25               0.128570                     0.099269             2.935102   \n",
       " 26               0.128570                     0.099269             2.935102   \n",
       " \n",
       "     D_state_state  E_state_state  H_state_state  I_state_state  R_state_state  \\\n",
       " 0        0.063746      49.114727       0.851080      42.506794      68.489853   \n",
       " 1        0.242556      88.344086       1.689111      76.634834     200.334503   \n",
       " 2        0.574329     159.091766       3.063206     138.007996     437.930023   \n",
       " 3        1.173121     286.484650       5.519136     248.522079     865.812500   \n",
       " 4        2.251580     515.848511       9.938771     447.505127    1636.315796   \n",
       " 5        4.193510     928.713806      17.895271     805.714783    3023.647217   \n",
       " 6        7.689758    1671.605347      32.215790    1450.354614    5521.232422   \n",
       " 7       13.982883    3007.401367      57.978569    2609.791748   10016.251953   \n",
       " 8       25.305477    5406.257812     104.286819    4692.946289   18102.027344   \n",
       " 9        0.459394      20.122398       4.941858      17.085381      58.596706   \n",
       " 10       1.103698      13.257376       4.105817      11.312943     105.663376   \n",
       " 11       1.579638       8.752478       2.825567       7.469022     137.435440   \n",
       " 12       1.900720       5.778429       1.881006       4.931088     158.503998   \n",
       " 13       2.113627       3.814951       1.243954       3.255525     172.426147   \n",
       " 14       2.254316       2.518641       0.821549       2.149313     181.619217   \n",
       " 15       2.347220       1.662817       0.542429       1.418984     187.688705   \n",
       " 16       2.408556       1.097797       0.358119       0.936820     191.696121   \n",
       " 17       2.449051       0.724772       0.236432       0.618492     194.341644   \n",
       " 18       0.317555      60.640377       3.677203      50.216785      49.486828   \n",
       " 19       1.732568     182.066971      11.933106     151.139465     214.897461   \n",
       " 20       6.062563     547.323486      35.995033     454.363922     712.915955   \n",
       " 21      19.089449    1644.988770     108.216019    1365.715820    2210.065186   \n",
       " 22      58.242233    4940.826172     325.181488    4103.083496    6709.149902   \n",
       " 23     175.831253   14811.174805     976.110474   12309.478516   20216.681641   \n",
       " 24     528.244873   44141.113281    2920.783203   36771.464844   60657.039062   \n",
       " 25    1577.809937  129290.664062    8657.923828  108456.859375  180727.562500   \n",
       " 26    4646.415527  360139.468750   24968.503906  308268.187500  528638.375000   \n",
       " \n",
       "     S_state_state  infected_observable_state  exposed_observable_state  \\\n",
       " 0      19339866.0                  42.506794                 49.114727   \n",
       " 1      19339644.0                  76.634834                 88.344086   \n",
       " 2      19339296.0                 138.007996                159.091766   \n",
       " 3      19338626.0                 248.522079                286.484650   \n",
       " 4      19337430.0                 447.505127                515.848511   \n",
       " 5      19335250.0                 805.714783                928.713806   \n",
       " 6      19331344.0                1450.354614               1671.605347   \n",
       " 7      19324326.0                2609.791748               3007.401367   \n",
       " 8      19311730.0                4692.946289               5406.257812   \n",
       " 9      19339940.0                  17.085381                 20.122398   \n",
       " 10     19339906.0                  11.312943                 13.257376   \n",
       " 11     19339882.0                   7.469022                  8.752478   \n",
       " 12     19339868.0                   4.931088                  5.778429   \n",
       " 13     19339856.0                   3.255525                  3.814951   \n",
       " 14     19339848.0                   2.149313                  2.518641   \n",
       " 15     19339848.0                   1.418984                  1.662817   \n",
       " 16     19339848.0                   0.936820                  1.097797   \n",
       " 17     19339848.0                   0.618492                  0.724772   \n",
       " 18     19339876.0                  50.216785                 60.640377   \n",
       " 19     19339444.0                 151.139465                182.066971   \n",
       " 20     19338286.0                 454.363922                547.323486   \n",
       " 21     19334694.0                1365.715820               1644.988770   \n",
       " 22     19323888.0                4103.083496               4940.826172   \n",
       " 23     19291532.0               12309.478516              14811.174805   \n",
       " 24     19195018.0               36771.464844              44141.113281   \n",
       " 25     18911316.0              108456.859375             129290.664062   \n",
       " 26     18113386.0              308268.187500             360139.468750   \n",
       " \n",
       "     hospitalized_observable_state  dead_observable_state  \n",
       " 0                        0.851080               0.063746  \n",
       " 1                        1.689111               0.242556  \n",
       " 2                        3.063206               0.574329  \n",
       " 3                        5.519136               1.173121  \n",
       " 4                        9.938771               2.251580  \n",
       " 5                       17.895271               4.193510  \n",
       " 6                       32.215790               7.689758  \n",
       " 7                       57.978569              13.982883  \n",
       " 8                      104.286819              25.305477  \n",
       " 9                        4.941858               0.459394  \n",
       " 10                       4.105817               1.103698  \n",
       " 11                       2.825567               1.579638  \n",
       " 12                       1.881006               1.900720  \n",
       " 13                       1.243954               2.113627  \n",
       " 14                       0.821549               2.254316  \n",
       " 15                       0.542429               2.347220  \n",
       " 16                       0.358119               2.408556  \n",
       " 17                       0.236432               2.449051  \n",
       " 18                       3.677203               0.317555  \n",
       " 19                      11.933106               1.732568  \n",
       " 20                      35.995033               6.062563  \n",
       " 21                     108.216019              19.089449  \n",
       " 22                     325.181488              58.242233  \n",
       " 23                     976.110474             175.831253  \n",
       " 24                    2920.783203             528.244873  \n",
       " 25                    8657.923828            1577.809937  \n",
       " 26                   24968.503906            4646.415527  ,\n",
       " 'unprocessed_result': {'persistent_beta': tensor([0.3560, 0.2443, 0.4338]),\n",
       "  'persistent_gamma': tensor([0.2294, 0.3345, 0.1911]),\n",
       "  'persistent_hosp': tensor([0.0251, 0.1811, 0.1286]),\n",
       "  'persistent_death_hosp': tensor([0.0718, 0.0691, 0.0993]),\n",
       "  'persistent_I0': tensor([13.3000, 14.4614,  2.9351]),\n",
       "  'D_state': tensor([[6.3746e-02, 2.4256e-01, 5.7433e-01, 1.1731e+00, 2.2516e+00, 4.1935e+00,\n",
       "           7.6898e+00, 1.3983e+01, 2.5305e+01],\n",
       "          [4.5939e-01, 1.1037e+00, 1.5796e+00, 1.9007e+00, 2.1136e+00, 2.2543e+00,\n",
       "           2.3472e+00, 2.4086e+00, 2.4491e+00],\n",
       "          [3.1755e-01, 1.7326e+00, 6.0626e+00, 1.9089e+01, 5.8242e+01, 1.7583e+02,\n",
       "           5.2824e+02, 1.5778e+03, 4.6464e+03]]),\n",
       "  'E_state': tensor([[4.9115e+01, 8.8344e+01, 1.5909e+02, 2.8648e+02, 5.1585e+02, 9.2871e+02,\n",
       "           1.6716e+03, 3.0074e+03, 5.4063e+03],\n",
       "          [2.0122e+01, 1.3257e+01, 8.7525e+00, 5.7784e+00, 3.8150e+00, 2.5186e+00,\n",
       "           1.6628e+00, 1.0978e+00, 7.2477e-01],\n",
       "          [6.0640e+01, 1.8207e+02, 5.4732e+02, 1.6450e+03, 4.9408e+03, 1.4811e+04,\n",
       "           4.4141e+04, 1.2929e+05, 3.6014e+05]]),\n",
       "  'H_state': tensor([[8.5108e-01, 1.6891e+00, 3.0632e+00, 5.5191e+00, 9.9388e+00, 1.7895e+01,\n",
       "           3.2216e+01, 5.7979e+01, 1.0429e+02],\n",
       "          [4.9419e+00, 4.1058e+00, 2.8256e+00, 1.8810e+00, 1.2440e+00, 8.2155e-01,\n",
       "           5.4243e-01, 3.5812e-01, 2.3643e-01],\n",
       "          [3.6772e+00, 1.1933e+01, 3.5995e+01, 1.0822e+02, 3.2518e+02, 9.7611e+02,\n",
       "           2.9208e+03, 8.6579e+03, 2.4969e+04]]),\n",
       "  'I_state': tensor([[4.2507e+01, 7.6635e+01, 1.3801e+02, 2.4852e+02, 4.4751e+02, 8.0571e+02,\n",
       "           1.4504e+03, 2.6098e+03, 4.6929e+03],\n",
       "          [1.7085e+01, 1.1313e+01, 7.4690e+00, 4.9311e+00, 3.2555e+00, 2.1493e+00,\n",
       "           1.4190e+00, 9.3682e-01, 6.1849e-01],\n",
       "          [5.0217e+01, 1.5114e+02, 4.5436e+02, 1.3657e+03, 4.1031e+03, 1.2309e+04,\n",
       "           3.6771e+04, 1.0846e+05, 3.0827e+05]]),\n",
       "  'R_state': tensor([[6.8490e+01, 2.0033e+02, 4.3793e+02, 8.6581e+02, 1.6363e+03, 3.0236e+03,\n",
       "           5.5212e+03, 1.0016e+04, 1.8102e+04],\n",
       "          [5.8597e+01, 1.0566e+02, 1.3744e+02, 1.5850e+02, 1.7243e+02, 1.8162e+02,\n",
       "           1.8769e+02, 1.9170e+02, 1.9434e+02],\n",
       "          [4.9487e+01, 2.1490e+02, 7.1292e+02, 2.2101e+03, 6.7091e+03, 2.0217e+04,\n",
       "           6.0657e+04, 1.8073e+05, 5.2864e+05]]),\n",
       "  'S_state': tensor([[19339866., 19339644., 19339296., 19338626., 19337430., 19335250.,\n",
       "           19331344., 19324326., 19311730.],\n",
       "          [19339940., 19339906., 19339882., 19339868., 19339856., 19339848.,\n",
       "           19339848., 19339848., 19339848.],\n",
       "          [19339876., 19339444., 19338286., 19334694., 19323888., 19291532.,\n",
       "           19195018., 18911316., 18113386.]]),\n",
       "  'infected_observable': tensor([[4.2507e+01, 7.6635e+01, 1.3801e+02, 2.4852e+02, 4.4751e+02, 8.0571e+02,\n",
       "           1.4504e+03, 2.6098e+03, 4.6929e+03],\n",
       "          [1.7085e+01, 1.1313e+01, 7.4690e+00, 4.9311e+00, 3.2555e+00, 2.1493e+00,\n",
       "           1.4190e+00, 9.3682e-01, 6.1849e-01],\n",
       "          [5.0217e+01, 1.5114e+02, 4.5436e+02, 1.3657e+03, 4.1031e+03, 1.2309e+04,\n",
       "           3.6771e+04, 1.0846e+05, 3.0827e+05]]),\n",
       "  'exposed_observable': tensor([[4.9115e+01, 8.8344e+01, 1.5909e+02, 2.8648e+02, 5.1585e+02, 9.2871e+02,\n",
       "           1.6716e+03, 3.0074e+03, 5.4063e+03],\n",
       "          [2.0122e+01, 1.3257e+01, 8.7525e+00, 5.7784e+00, 3.8150e+00, 2.5186e+00,\n",
       "           1.6628e+00, 1.0978e+00, 7.2477e-01],\n",
       "          [6.0640e+01, 1.8207e+02, 5.4732e+02, 1.6450e+03, 4.9408e+03, 1.4811e+04,\n",
       "           4.4141e+04, 1.2929e+05, 3.6014e+05]]),\n",
       "  'hospitalized_observable': tensor([[8.5108e-01, 1.6891e+00, 3.0632e+00, 5.5191e+00, 9.9388e+00, 1.7895e+01,\n",
       "           3.2216e+01, 5.7979e+01, 1.0429e+02],\n",
       "          [4.9419e+00, 4.1058e+00, 2.8256e+00, 1.8810e+00, 1.2440e+00, 8.2155e-01,\n",
       "           5.4243e-01, 3.5812e-01, 2.3643e-01],\n",
       "          [3.6772e+00, 1.1933e+01, 3.5995e+01, 1.0822e+02, 3.2518e+02, 9.7611e+02,\n",
       "           2.9208e+03, 8.6579e+03, 2.4969e+04]]),\n",
       "  'dead_observable': tensor([[6.3746e-02, 2.4256e-01, 5.7433e-01, 1.1731e+00, 2.2516e+00, 4.1935e+00,\n",
       "           7.6898e+00, 1.3983e+01, 2.5305e+01],\n",
       "          [4.5939e-01, 1.1037e+00, 1.5796e+00, 1.9007e+00, 2.1136e+00, 2.2543e+00,\n",
       "           2.3472e+00, 2.4086e+00, 2.4491e+00],\n",
       "          [3.1755e-01, 1.7326e+00, 6.0626e+00, 1.9089e+01, 5.8242e+01, 1.7583e+02,\n",
       "           5.2824e+02, 1.5778e+03, 4.6464e+03]])}}"
      ]
     },
     "execution_count": 6,
     "metadata": {},
     "output_type": "execute_result"
    }
   ],
   "source": [
    "pyciemss.sample(petri2, end_time, logging_step_size, num_samples, \n",
    "                start_time=start_time)"
   ]
  },
  {
   "cell_type": "markdown",
   "id": "1d2f1d51",
   "metadata": {},
   "source": [
    "### ...but NOT when data is mapped to OBSERVABLES"
   ]
  },
  {
   "cell_type": "code",
   "execution_count": null,
   "id": "aaec8b6b",
   "metadata": {},
   "outputs": [],
   "source": [
    "# Try with infected_observable \n",
    "data_mapping = {\"hosp\": \"hospitalized_observable\", \"case\": \"infected_observable\"}\n",
    "results = calibrate(petri2, dataset2, data_mapping=data_mapping)\n",
    "results"
   ]
  },
  {
   "cell_type": "code",
   "execution_count": null,
   "id": "c0c1fc90",
   "metadata": {},
   "outputs": [],
   "source": [
    "data_mapping = {\"case\": \"infected\", \"hosp\": \"hospitalized\"}\n",
    "results = calibrate(petri2, dataset2, data_mapping=data_mapping)\n",
    "results"
   ]
  },
  {
   "cell_type": "markdown",
   "id": "0b781da9",
   "metadata": {},
   "source": [
    "### (1) Missing data"
   ]
  },
  {
   "cell_type": "code",
   "execution_count": null,
   "id": "707db856",
   "metadata": {},
   "outputs": [],
   "source": [
    "# Calibrate fails when there is missing data (an empty string) in the dataset\n",
    "data_mapping = {\"case\": \"I\", \"hosp\": \"H\"} # data_mapping = \"column_name\": \"observable/state_variable\"\n",
    "calibrated_results = calibrate(petri2, dataset2, data_mapping=data_mapping)\n",
    "parameter_estimates = calibrated_results[0]\n",
    "calibrated_results"
   ]
  },
  {
   "cell_type": "code",
   "execution_count": null,
   "id": "f13f8bfd",
   "metadata": {},
   "outputs": [],
   "source": [
    "# Calibrate fails when there is a NaN value in the dataset\n",
    "data_mapping = {\"case\": \"I\", \"hosp\": \"H\"} # data_mapping = \"column_name\": \"observable/state_variable\"\n",
    "calibrated_results = calibrate(petri2, dataset3, data_mapping=data_mapping)\n",
    "parameter_estimates = calibrated_results[0]\n",
    "calibrated_results"
   ]
  },
  {
   "cell_type": "code",
   "execution_count": null,
   "id": "624ca608",
   "metadata": {},
   "outputs": [],
   "source": [
    "# Calibrate fails when there is a space ' ' in the dataset\n",
    "data_mapping = {\"case\": \"I\", \"hosp\": \"H\"} # data_mapping = \"column_name\": \"observable/state_variable\"\n",
    "calibrated_results = calibrate(petri2, dataset4, data_mapping=data_mapping)\n",
    "parameter_estimates = calibrated_results[0]\n",
    "calibrated_results"
   ]
  },
  {
   "cell_type": "code",
   "execution_count": null,
   "id": "8298f1f2",
   "metadata": {},
   "outputs": [],
   "source": [
    "# Calibrate fails when there is None type in the dataset\n",
    "data_mapping = {\"case\": \"I\", \"hosp\": \"H\"} # data_mapping = \"column_name\": \"observable/state_variable\"\n",
    "calibrated_results = calibrate(petri2, dataset5, data_mapping=data_mapping)\n",
    "parameter_estimates = calibrated_results[0]\n",
    "calibrated_results"
   ]
  },
  {
   "cell_type": "code",
   "execution_count": null,
   "id": "23f11ae9",
   "metadata": {},
   "outputs": [],
   "source": []
  },
  {
   "cell_type": "markdown",
   "id": "95a08931",
   "metadata": {},
   "source": [
    "### (2) Incorrectly typed columns"
   ]
  },
  {
   "cell_type": "code",
   "execution_count": null,
   "id": "284c95a4",
   "metadata": {},
   "outputs": [],
   "source": []
  },
  {
   "cell_type": "markdown",
   "id": "5b32a953",
   "metadata": {},
   "source": [
    "### (3) Mislabeled columns"
   ]
  },
  {
   "cell_type": "code",
   "execution_count": null,
   "id": "fb54630e",
   "metadata": {},
   "outputs": [],
   "source": []
  },
  {
   "cell_type": "markdown",
   "id": "48334515",
   "metadata": {},
   "source": [
    "### (4) Header columns have one fewer column than data"
   ]
  },
  {
   "cell_type": "code",
   "execution_count": null,
   "id": "cbb740c7",
   "metadata": {},
   "outputs": [],
   "source": []
  },
  {
   "cell_type": "markdown",
   "id": "05e0cf19",
   "metadata": {},
   "source": [
    "### (5) Other alignment issues"
   ]
  },
  {
   "cell_type": "code",
   "execution_count": null,
   "id": "0bba4800",
   "metadata": {},
   "outputs": [],
   "source": []
  },
  {
   "cell_type": "markdown",
   "id": "c69afabe",
   "metadata": {},
   "source": [
    "### (6) Escaping commas"
   ]
  },
  {
   "cell_type": "code",
   "execution_count": null,
   "id": "812e3311",
   "metadata": {},
   "outputs": [],
   "source": []
  },
  {
   "cell_type": "markdown",
   "id": "ffdab905",
   "metadata": {},
   "source": [
    "### (7) Na, NaN, None, empty string"
   ]
  },
  {
   "cell_type": "code",
   "execution_count": null,
   "id": "30c78bbe",
   "metadata": {},
   "outputs": [],
   "source": []
  },
  {
   "cell_type": "code",
   "execution_count": null,
   "id": "b32b3a1a",
   "metadata": {},
   "outputs": [],
   "source": []
  },
  {
   "cell_type": "code",
   "execution_count": null,
   "id": "09db8348",
   "metadata": {},
   "outputs": [],
   "source": []
  }
 ],
 "metadata": {
  "kernelspec": {
   "display_name": "Python (pyciemss)",
   "language": "python",
   "name": "pyciemss"
  },
  "language_info": {
   "codemirror_mode": {
    "name": "ipython",
    "version": 3
   },
   "file_extension": ".py",
   "mimetype": "text/x-python",
   "name": "python",
   "nbconvert_exporter": "python",
   "pygments_lexer": "ipython3",
   "version": "3.10.9"
  }
 },
 "nbformat": 4,
 "nbformat_minor": 5
}
