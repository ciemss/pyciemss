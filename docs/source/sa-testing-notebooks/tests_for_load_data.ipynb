{
 "cells": [
  {
   "cell_type": "markdown",
   "id": "d05511a2",
   "metadata": {},
   "source": [
    "# Tests for `load_data` \n",
    "This notebook serves to address [this](https://github.com/ciemss/pyciemss/issues/434) Github issue.\n",
    "\n",
    "The new interface for calibrate requires csv files, but there are lots of ways that csv files can fail to provide information in the right format. Test the most common failure modes, such as:\n",
    "\n",
    "- missing data\n",
    "- incorrectly typed columns\n",
    "- mislabeled columns\n",
    "- header columns have one fewer column than data\n",
    "- alignment issues\n",
    "- Escaping commas\n",
    "- Na, NaN, None, '',,\n",
    "\n",
    "All of these issues will make it difficult to convert a dataframe to a correctly typed tensor."
   ]
  },
  {
   "cell_type": "markdown",
   "id": "8db62293",
   "metadata": {},
   "source": [
    "### Load dependencies"
   ]
  },
  {
   "cell_type": "code",
   "execution_count": 15,
   "id": "a375d1bd",
   "metadata": {},
   "outputs": [],
   "source": [
    "import os\n",
    "import pyciemss\n",
    "from pyciemss.interfaces import calibrate"
   ]
  },
  {
   "cell_type": "markdown",
   "id": "9c79d592",
   "metadata": {},
   "source": [
    "### Load models"
   ]
  },
  {
   "cell_type": "code",
   "execution_count": 4,
   "id": "bf1e6db2",
   "metadata": {},
   "outputs": [],
   "source": [
    "MODEL_PATH = \"https://raw.githubusercontent.com/DARPA-ASKEM/simulation-integration/main/data/models/\"\n",
    "\n",
    "# Petrinets\n",
    "petri1 = os.path.join(MODEL_PATH, \"SEIRD_base_model01_petrinet.json\")\n",
    "petri2 = os.path.join(MODEL_PATH, \"SEIRHD_base_model01_petrinet.json\")\n",
    "petri3 = os.path.join(MODEL_PATH, \"SEIRHD_with_reinfection01_petrinet.json\")\n",
    "petri4 = os.path.join(MODEL_PATH, \"SEIRHD_NPI_Type1_petrinet.json\")\n",
    "petri5 = os.path.join(MODEL_PATH, \"SEIRHD_NPI_Type2_petrinet.json\")\n",
    "\n",
    "# Regnets\n",
    "regnet1 = os.path.join(MODEL_PATH, \"LV_goat_chupacabra_regnet.json\")\n",
    "regnet2 = os.path.join(MODEL_PATH, \"LV_sheep_foxes_regnet.json\")\n",
    "regnet3 = os.path.join(MODEL_PATH, \"LV_rabbits_wolves_regnet.json\")\n",
    "regnet4 = os.path.join(MODEL_PATH, \"LV_rabbits_wolves_model02_regnet.json\")\n",
    "regnet5 = os.path.join(MODEL_PATH, \"LV_rabbits_wolves_model03_regnet.json\")\n",
    "\n",
    "# Stock-and-Flow\n",
    "stock1 = os.path.join(MODEL_PATH, \"SIR_stockflow.json\")\n",
    "stock2 = os.path.join(MODEL_PATH, \"SEIR_stockflow.json\")\n",
    "stock3 = os.path.join(MODEL_PATH, \"SEIRD_stockflow.json\")\n",
    "stock4 = os.path.join(MODEL_PATH, \"SEIRHD_stockflow.json\")\n",
    "stock5 = os.path.join(MODEL_PATH, \"SEIRHDS_stockflow.json\")"
   ]
  },
  {
   "cell_type": "markdown",
   "id": "0b05d93b",
   "metadata": {},
   "source": [
    "### Missing data"
   ]
  },
  {
   "cell_type": "code",
   "execution_count": 32,
   "id": "b5a4ee1a",
   "metadata": {},
   "outputs": [
    {
     "name": "stdout",
     "output_type": "stream",
     "text": [
      "['Timestamp', 'S', 'I']\n",
      "['1.1', '15.0', '0.1']\n",
      "['2.2', '18.0', '1.0']\n",
      "['3.3', '20.0', '2.2']\n"
     ]
    }
   ],
   "source": [
    "dataset1 = \"/Users/altu809/Projects/pyciemss/docs/source/sa-testing-notebooks/SIR_missing_data.csv\"\n",
    "dataset2 = \"/Users/altu809/Projects/pyciemss/docs/source/sa-testing-notebooks/SIR_data_case_hosp.csv\"\n",
    "\n",
    "import csv\n",
    "\n",
    "# Specify the path to your CSV file\n",
    "# csv_file_path = 'path/to/your/file.csv'\n",
    "\n",
    "# Open the CSV file and create a CSV reader\n",
    "with open(dataset1, 'r') as file:\n",
    "    csv_reader = csv.reader(file)\n",
    "\n",
    "    # Iterate through each row in the CSV file\n",
    "    for row in csv_reader:\n",
    "        # Print each row\n",
    "        print(row)\n",
    "\n",
    "\n",
    "# TODO: write tests for missing data"
   ]
  },
  {
   "cell_type": "code",
   "execution_count": 33,
   "id": "4ff377b9",
   "metadata": {},
   "outputs": [
    {
     "data": {
      "text/plain": [
       "(AutoGuideList(\n",
       "   (0): AutoDelta()\n",
       "   (1): AutoLowRankMultivariateNormal()\n",
       " ),\n",
       " 253.0996860563755)"
      ]
     },
     "execution_count": 33,
     "metadata": {},
     "output_type": "execute_result"
    }
   ],
   "source": [
    "# data_mapping = {\"I\": \"I\"}\n",
    "# results = calibrate(petri2, dataset1, data_mapping=data_mapping)\n",
    "results"
   ]
  },
  {
   "cell_type": "code",
   "execution_count": null,
   "id": "c0c1fc90",
   "metadata": {},
   "outputs": [],
   "source": [
    "data_mapping = {\"case\": \"I\", \"hosp\": \"H\"}\n",
    "results = calibrate(petri2, dataset2, data_mapping=data_mapping)\n",
    "results"
   ]
  },
  {
   "cell_type": "code",
   "execution_count": null,
   "id": "de0abd65",
   "metadata": {},
   "outputs": [],
   "source": []
  },
  {
   "cell_type": "markdown",
   "id": "95a08931",
   "metadata": {},
   "source": [
    "### Incorrectly typed columns"
   ]
  },
  {
   "cell_type": "code",
   "execution_count": null,
   "id": "284c95a4",
   "metadata": {},
   "outputs": [],
   "source": []
  },
  {
   "cell_type": "markdown",
   "id": "5b32a953",
   "metadata": {},
   "source": [
    "### Mislabeled columns"
   ]
  },
  {
   "cell_type": "code",
   "execution_count": null,
   "id": "fb54630e",
   "metadata": {},
   "outputs": [],
   "source": []
  },
  {
   "cell_type": "markdown",
   "id": "48334515",
   "metadata": {},
   "source": [
    "### Header columns have one fewer column than data"
   ]
  },
  {
   "cell_type": "code",
   "execution_count": null,
   "id": "cbb740c7",
   "metadata": {},
   "outputs": [],
   "source": []
  },
  {
   "cell_type": "markdown",
   "id": "05e0cf19",
   "metadata": {},
   "source": [
    "### Other alignment issues"
   ]
  },
  {
   "cell_type": "code",
   "execution_count": null,
   "id": "0bba4800",
   "metadata": {},
   "outputs": [],
   "source": []
  },
  {
   "cell_type": "markdown",
   "id": "c69afabe",
   "metadata": {},
   "source": [
    "### Escaping commas"
   ]
  },
  {
   "cell_type": "code",
   "execution_count": null,
   "id": "812e3311",
   "metadata": {},
   "outputs": [],
   "source": []
  },
  {
   "cell_type": "markdown",
   "id": "ffdab905",
   "metadata": {},
   "source": [
    "### Na, NaN, None, empty string"
   ]
  },
  {
   "cell_type": "code",
   "execution_count": null,
   "id": "30c78bbe",
   "metadata": {},
   "outputs": [],
   "source": []
  },
  {
   "cell_type": "code",
   "execution_count": null,
   "id": "b32b3a1a",
   "metadata": {},
   "outputs": [],
   "source": []
  },
  {
   "cell_type": "code",
   "execution_count": null,
   "id": "09db8348",
   "metadata": {},
   "outputs": [],
   "source": []
  }
 ],
 "metadata": {
  "kernelspec": {
   "display_name": "Python (pyciemss)",
   "language": "python",
   "name": "pyciemss"
  },
  "language_info": {
   "codemirror_mode": {
    "name": "ipython",
    "version": 3
   },
   "file_extension": ".py",
   "mimetype": "text/x-python",
   "name": "python",
   "nbconvert_exporter": "python",
   "pygments_lexer": "ipython3",
   "version": "3.10.9"
  }
 },
 "nbformat": 4,
 "nbformat_minor": 5
}
