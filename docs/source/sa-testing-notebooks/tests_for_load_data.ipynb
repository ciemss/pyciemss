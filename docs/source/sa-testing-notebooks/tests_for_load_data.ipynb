{
 "cells": [
  {
   "cell_type": "markdown",
   "id": "d05511a2",
   "metadata": {},
   "source": [
    "# Tests for `load_data` \n",
    "This notebook serves to address [this](https://github.com/ciemss/pyciemss/issues/434) Github issue.\n",
    "\n",
    "The new interface for calibrate requires csv files, but there are lots of ways that csv files can fail to provide information in the right format. Test the most common failure modes, such as:\n",
    "\n",
    "1. Missing data\n",
    "2. Incorrectly typed columns\n",
    "3. Mislabeled columns\n",
    "4. Header columns have one fewer column than data\n",
    "5. Alignment issues\n",
    "6. Escaping commas\n",
    "7. Na, NaN, None, '',,\n",
    "\n",
    "All of these issues will make it difficult to convert a dataframe to a correctly typed tensor."
   ]
  },
  {
   "cell_type": "markdown",
   "id": "8db62293",
   "metadata": {},
   "source": [
    "### Load dependencies"
   ]
  },
  {
   "cell_type": "code",
   "execution_count": 1,
   "id": "a375d1bd",
   "metadata": {},
   "outputs": [],
   "source": [
    "import os\n",
    "import pyciemss\n",
    "from pyciemss.interfaces import calibrate"
   ]
  },
  {
   "cell_type": "markdown",
   "id": "9c79d592",
   "metadata": {},
   "source": [
    "### Load a few models"
   ]
  },
  {
   "cell_type": "code",
   "execution_count": 2,
   "id": "bf1e6db2",
   "metadata": {},
   "outputs": [],
   "source": [
    "MODEL_PATH = \"https://raw.githubusercontent.com/DARPA-ASKEM/simulation-integration/main/data/models/\"\n",
    "\n",
    "petri1 = os.path.join(MODEL_PATH, \"SEIRHD_base_model01_petrinet.json\")\n",
    "regnet1 = os.path.join(MODEL_PATH, \"LV_goat_chupacabra_regnet.json\")\n",
    "stock1 = os.path.join(MODEL_PATH, \"SIR_stockflow.json\")"
   ]
  },
  {
   "cell_type": "markdown",
   "id": "0b05d93b",
   "metadata": {},
   "source": [
    "### Load datasets with various errors and forms of missing data"
   ]
  },
  {
   "cell_type": "code",
   "execution_count": 6,
   "id": "b5a4ee1a",
   "metadata": {},
   "outputs": [],
   "source": [
    "dataset1 = \"../../../docs/source/sa-testing-notebooks/SIR_data_case_hosp.csv\" # this dataset should work fine\n",
    "dataset2 = \"../../../docs/source/sa-testing-notebooks/SIR_missing_data.csv\"\n",
    "dataset3 = \"../../../docs/source/sa-testing-notebooks/SIR_data_nan.csv\"\n",
    "dataset4 = \"../../../docs/source/sa-testing-notebooks/SIR_missing_data_space.csv\"\n",
    "dataset5 = \"../../../docs/source/sa-testing-notebooks/SIR_data_none_type.csv\"\n",
    "dataset6 = \"../../../docs/source/sa-testing-notebooks/SIR_data_wrong_time_col_name.csv\""
   ]
  },
  {
   "cell_type": "markdown",
   "id": "384e5c99",
   "metadata": {},
   "source": [
    "# Build `check_data` function to go inside of `load_data`"
   ]
  },
  {
   "cell_type": "markdown",
   "id": "301d5636",
   "metadata": {},
   "source": [
    "### Define `load` function"
   ]
  },
  {
   "cell_type": "code",
   "execution_count": 31,
   "id": "c4932293",
   "metadata": {},
   "outputs": [],
   "source": [
    "from typing import Dict, Tuple\n",
    "\n",
    "import pandas as pd\n",
    "import torch\n",
    "\n",
    "def load_data(\n",
    "    path: str, data_mapping: Dict[str, str] = {}\n",
    ") -> Tuple[torch.Tensor, Dict[str, torch.Tensor]]:\n",
    "    \"\"\"\n",
    "    Load data from a CSV file.\n",
    "\n",
    "    - path: path to the CSV file\n",
    "    - data_mapping: A mapping from column names in the data file to state variable names in the model.\n",
    "        - keys: str name of column in dataset\n",
    "        - values: str name of state/observable in model\n",
    "    - If not provided, we will assume that the column names in the data file match the state variable names.\n",
    "    \"\"\"\n",
    "\n",
    "    def check_data(data_path: str):\n",
    "        # This function checks a dataset formatting errors, and returns a dataframe\n",
    "        data_df = pd.read_csv(path)\n",
    "        print(data_df.head())\n",
    "        \n",
    "        # Check that the first column name is \"Timestamp\"\n",
    "        assert data_df.columns[0] == \"Timestamp\", \"The column of timepoints must be first, and named 'Timestamp'.\"\n",
    "        \n",
    "        # Check that there are no NaN values or empty entries\n",
    "        assert not data_df.isna().any().any(), \"Dataset cannot contain NaN or empty entries\"\n",
    "        \n",
    "        # Check that there is no missing data in the form of None type or char values\n",
    "        assert data_df.applymap(lambda x: isinstance(x, (int, float))).all().all(), \"Dataset cannot contain None type or char values. All entries must be of type `int` or `float`.\"\n",
    "        \n",
    "        return data_df\n",
    "    \n",
    "    df = check_data(path)\n",
    "\n",
    "    data_timepoints = torch.tensor(df[\"Timestamp\"].values, dtype=torch.float32)\n",
    "    data = {}\n",
    "\n",
    "    for col in df.columns:\n",
    "        if col == \"Timestamp\":\n",
    "            continue\n",
    "\n",
    "        if col in data_mapping:\n",
    "            data[data_mapping[col]] = torch.tensor(df[col].values, dtype=torch.float32)\n",
    "        else:\n",
    "            data[col] = torch.tensor(df[col].values, dtype=torch.float32)\n",
    "        # TODO: address missing data\n",
    "\n",
    "    return data_timepoints, data"
   ]
  },
  {
   "cell_type": "markdown",
   "id": "1e8555eb",
   "metadata": {},
   "source": [
    "### Check for errors in datasets"
   ]
  },
  {
   "cell_type": "code",
   "execution_count": 36,
   "id": "86f423ca",
   "metadata": {},
   "outputs": [
    {
     "name": "stdout",
     "output_type": "stream",
     "text": [
      "   Timestamp  case  hosp\n",
      "0        1.1  15.0   0.1\n",
      "1        2.2   NaN   1.0\n",
      "2        3.3  20.0   2.2\n"
     ]
    },
    {
     "ename": "AssertionError",
     "evalue": "Dataset cannot contain NaN or empty entries",
     "output_type": "error",
     "traceback": [
      "\u001b[0;31m---------------------------------------------------------------------------\u001b[0m",
      "\u001b[0;31mAssertionError\u001b[0m                            Traceback (most recent call last)",
      "Cell \u001b[0;32mIn[36], line 3\u001b[0m\n\u001b[1;32m      1\u001b[0m data_mapping \u001b[38;5;241m=\u001b[39m {\u001b[38;5;124m\"\u001b[39m\u001b[38;5;124mcase\u001b[39m\u001b[38;5;124m\"\u001b[39m: \u001b[38;5;124m\"\u001b[39m\u001b[38;5;124mI\u001b[39m\u001b[38;5;124m\"\u001b[39m, \u001b[38;5;124m\"\u001b[39m\u001b[38;5;124mhosp\u001b[39m\u001b[38;5;124m\"\u001b[39m: \u001b[38;5;124m\"\u001b[39m\u001b[38;5;124mH\u001b[39m\u001b[38;5;124m\"\u001b[39m}\n\u001b[0;32m----> 3\u001b[0m \u001b[43mload_data\u001b[49m\u001b[43m(\u001b[49m\u001b[43mdataset3\u001b[49m\u001b[43m,\u001b[49m\u001b[43m \u001b[49m\u001b[43mdata_mapping\u001b[49m\u001b[43m)\u001b[49m\n",
      "Cell \u001b[0;32mIn[31], line 39\u001b[0m, in \u001b[0;36mload_data\u001b[0;34m(path, data_mapping)\u001b[0m\n\u001b[1;32m     33\u001b[0m     \u001b[38;5;28;01massert\u001b[39;00m data_df\u001b[38;5;241m.\u001b[39mapplymap(\u001b[38;5;28;01mlambda\u001b[39;00m x: \u001b[38;5;28misinstance\u001b[39m(x, (\u001b[38;5;28mint\u001b[39m, \u001b[38;5;28mfloat\u001b[39m)))\u001b[38;5;241m.\u001b[39mall()\u001b[38;5;241m.\u001b[39mall(), \u001b[38;5;124m\"\u001b[39m\u001b[38;5;124mNot all entries are int or float\u001b[39m\u001b[38;5;124m\"\u001b[39m\n\u001b[1;32m     37\u001b[0m     \u001b[38;5;28;01mreturn\u001b[39;00m data_df\n\u001b[0;32m---> 39\u001b[0m df \u001b[38;5;241m=\u001b[39m \u001b[43mcheck_data\u001b[49m\u001b[43m(\u001b[49m\u001b[43mpath\u001b[49m\u001b[43m)\u001b[49m\n\u001b[1;32m     41\u001b[0m data_timepoints \u001b[38;5;241m=\u001b[39m torch\u001b[38;5;241m.\u001b[39mtensor(df[\u001b[38;5;124m\"\u001b[39m\u001b[38;5;124mTimestamp\u001b[39m\u001b[38;5;124m\"\u001b[39m]\u001b[38;5;241m.\u001b[39mvalues, dtype\u001b[38;5;241m=\u001b[39mtorch\u001b[38;5;241m.\u001b[39mfloat32)\n\u001b[1;32m     42\u001b[0m data \u001b[38;5;241m=\u001b[39m {}\n",
      "Cell \u001b[0;32mIn[31], line 28\u001b[0m, in \u001b[0;36mload_data.<locals>.check_data\u001b[0;34m(data_path)\u001b[0m\n\u001b[1;32m     25\u001b[0m         \u001b[38;5;28;01massert\u001b[39;00m data_df\u001b[38;5;241m.\u001b[39mcolumns[\u001b[38;5;241m0\u001b[39m] \u001b[38;5;241m==\u001b[39m \u001b[38;5;124m\"\u001b[39m\u001b[38;5;124mTimestamp\u001b[39m\u001b[38;5;124m\"\u001b[39m, \u001b[38;5;124m\"\u001b[39m\u001b[38;5;124mThe column of timepoints must be first, and named \u001b[39m\u001b[38;5;124m'\u001b[39m\u001b[38;5;124mTimestamp\u001b[39m\u001b[38;5;124m'\u001b[39m\u001b[38;5;124m.\u001b[39m\u001b[38;5;124m\"\u001b[39m\n\u001b[1;32m     27\u001b[0m         \u001b[38;5;66;03m# Check that there are no NaN values or empty entries\u001b[39;00m\n\u001b[0;32m---> 28\u001b[0m         \u001b[38;5;28;01massert\u001b[39;00m \u001b[38;5;129;01mnot\u001b[39;00m data_df\u001b[38;5;241m.\u001b[39misna()\u001b[38;5;241m.\u001b[39many()\u001b[38;5;241m.\u001b[39many(), \u001b[38;5;124m\"\u001b[39m\u001b[38;5;124mDataset cannot contain NaN or empty entries\u001b[39m\u001b[38;5;124m\"\u001b[39m\n\u001b[1;32m     30\u001b[0m         \u001b[38;5;66;03m# Check that there is no missing data\u001b[39;00m\n\u001b[1;32m     31\u001b[0m \u001b[38;5;66;03m#         assert all(pd.to_numeric(data_df.values.flatten(), errors='coerce').notna()), \"Dataset cannot contain missing data. All entries must be of type `int` or `float`.\"\u001b[39;00m\n\u001b[1;32m     32\u001b[0m \u001b[38;5;66;03m#         # Assert statement to check the data types\u001b[39;00m\n\u001b[1;32m     33\u001b[0m         \u001b[38;5;28;01massert\u001b[39;00m data_df\u001b[38;5;241m.\u001b[39mapplymap(\u001b[38;5;28;01mlambda\u001b[39;00m x: \u001b[38;5;28misinstance\u001b[39m(x, (\u001b[38;5;28mint\u001b[39m, \u001b[38;5;28mfloat\u001b[39m)))\u001b[38;5;241m.\u001b[39mall()\u001b[38;5;241m.\u001b[39mall(), \u001b[38;5;124m\"\u001b[39m\u001b[38;5;124mNot all entries are int or float\u001b[39m\u001b[38;5;124m\"\u001b[39m\n",
      "\u001b[0;31mAssertionError\u001b[0m: Dataset cannot contain NaN or empty entries"
     ]
    }
   ],
   "source": [
    "data_mapping = {\"case\": \"I\", \"hosp\": \"H\"}\n",
    "\n",
    "load_data(dataset3, data_mapping)"
   ]
  },
  {
   "cell_type": "code",
   "execution_count": null,
   "id": "d97f7f20",
   "metadata": {},
   "outputs": [],
   "source": []
  },
  {
   "cell_type": "markdown",
   "id": "7f3a1c5b",
   "metadata": {},
   "source": [
    "## Calibrate models to data"
   ]
  },
  {
   "cell_type": "markdown",
   "id": "3928be1f",
   "metadata": {},
   "source": [
    "### Calibrate works when data is mapped to STATE VARIABLES..."
   ]
  },
  {
   "cell_type": "code",
   "execution_count": 4,
   "id": "4ff377b9",
   "metadata": {},
   "outputs": [
    {
     "data": {
      "text/plain": [
       "(AutoGuideList(\n",
       "   (0): AutoDelta()\n",
       "   (1): AutoLowRankMultivariateNormal()\n",
       " ),\n",
       " 49.29112687706947)"
      ]
     },
     "execution_count": 4,
     "metadata": {},
     "output_type": "execute_result"
    }
   ],
   "source": [
    "data_mapping = {\"case\": \"I\", \"hosp\": \"H\"} # data_mapping = \"column_name\": \"observable/state_variable\"\n",
    "num_iterations = 10\n",
    "calibrated_results = calibrate(petri1, dataset1, data_mapping=data_mapping, num_iterations=num_iterations)\n",
    "parameter_estimates = calibrated_results[0]\n",
    "calibrated_results"
   ]
  },
  {
   "cell_type": "code",
   "execution_count": 5,
   "id": "76698f60",
   "metadata": {},
   "outputs": [
    {
     "data": {
      "text/plain": [
       "{'persistent_beta': tensor(0.3970, grad_fn=<ExpandBackward0>),\n",
       " 'persistent_gamma': tensor(0.3801, grad_fn=<ExpandBackward0>),\n",
       " 'persistent_hosp': tensor(0.0948, grad_fn=<ExpandBackward0>),\n",
       " 'persistent_death_hosp': tensor(0.0401, grad_fn=<ExpandBackward0>),\n",
       " 'persistent_I0': tensor(8.8743, grad_fn=<ExpandBackward0>)}"
      ]
     },
     "execution_count": 5,
     "metadata": {},
     "output_type": "execute_result"
    }
   ],
   "source": [
    "point_estimates = calibrated_results[0](0)\n",
    "point_estimates"
   ]
  },
  {
   "cell_type": "code",
   "execution_count": 6,
   "id": "23c3b26f",
   "metadata": {},
   "outputs": [
    {
     "data": {
      "text/plain": [
       "{'persistent_beta': tensor(0.4286, grad_fn=<ExpandBackward0>),\n",
       " 'persistent_gamma': tensor(0.3866, grad_fn=<ExpandBackward0>),\n",
       " 'persistent_hosp': tensor(0.1157, grad_fn=<ExpandBackward0>),\n",
       " 'persistent_death_hosp': tensor(0.0383, grad_fn=<ExpandBackward0>),\n",
       " 'persistent_I0': tensor(10.0013, grad_fn=<ExpandBackward0>)}"
      ]
     },
     "execution_count": 6,
     "metadata": {},
     "output_type": "execute_result"
    }
   ],
   "source": [
    "gaussian_estimates = calibrated_results[0](1)\n",
    "gaussian_estimates"
   ]
  },
  {
   "cell_type": "markdown",
   "id": "d5673215",
   "metadata": {},
   "source": [
    "### Pass inferred parameters to sample "
   ]
  },
  {
   "cell_type": "code",
   "execution_count": 9,
   "id": "e46b59f8",
   "metadata": {},
   "outputs": [
    {
     "data": {
      "text/plain": [
       "{'data':     timepoint_id  sample_id  persistent_beta_param  persistent_gamma_param  \\\n",
       " 0              0          0               0.491275                0.369251   \n",
       " 1              1          0               0.491275                0.369251   \n",
       " 2              2          0               0.491275                0.369251   \n",
       " 3              3          0               0.491275                0.369251   \n",
       " 4              4          0               0.491275                0.369251   \n",
       " 5              5          0               0.491275                0.369251   \n",
       " 6              6          0               0.491275                0.369251   \n",
       " 7              7          0               0.491275                0.369251   \n",
       " 8              8          0               0.491275                0.369251   \n",
       " 9              0          1               0.419461                0.365113   \n",
       " 10             1          1               0.419461                0.365113   \n",
       " 11             2          1               0.419461                0.365113   \n",
       " 12             3          1               0.419461                0.365113   \n",
       " 13             4          1               0.419461                0.365113   \n",
       " 14             5          1               0.419461                0.365113   \n",
       " 15             6          1               0.419461                0.365113   \n",
       " 16             7          1               0.419461                0.365113   \n",
       " 17             8          1               0.419461                0.365113   \n",
       " 18             0          2               0.407609                0.389131   \n",
       " 19             1          2               0.407609                0.389131   \n",
       " 20             2          2               0.407609                0.389131   \n",
       " 21             3          2               0.407609                0.389131   \n",
       " 22             4          2               0.407609                0.389131   \n",
       " 23             5          2               0.407609                0.389131   \n",
       " 24             6          2               0.407609                0.389131   \n",
       " 25             7          2               0.407609                0.389131   \n",
       " 26             8          2               0.407609                0.389131   \n",
       " \n",
       "     persistent_hosp_param  persistent_death_hosp_param  persistent_I0_param  \\\n",
       " 0                0.118377                     0.049095            10.748927   \n",
       " 1                0.118377                     0.049095            10.748927   \n",
       " 2                0.118377                     0.049095            10.748927   \n",
       " 3                0.118377                     0.049095            10.748927   \n",
       " 4                0.118377                     0.049095            10.748927   \n",
       " 5                0.118377                     0.049095            10.748927   \n",
       " 6                0.118377                     0.049095            10.748927   \n",
       " 7                0.118377                     0.049095            10.748927   \n",
       " 8                0.118377                     0.049095            10.748927   \n",
       " 9                0.114694                     0.048103            10.594998   \n",
       " 10               0.114694                     0.048103            10.594998   \n",
       " 11               0.114694                     0.048103            10.594998   \n",
       " 12               0.114694                     0.048103            10.594998   \n",
       " 13               0.114694                     0.048103            10.594998   \n",
       " 14               0.114694                     0.048103            10.594998   \n",
       " 15               0.114694                     0.048103            10.594998   \n",
       " 16               0.114694                     0.048103            10.594998   \n",
       " 17               0.114694                     0.048103            10.594998   \n",
       " 18               0.121583                     0.043746            10.011129   \n",
       " 19               0.121583                     0.043746            10.011129   \n",
       " 20               0.121583                     0.043746            10.011129   \n",
       " 21               0.121583                     0.043746            10.011129   \n",
       " 22               0.121583                     0.043746            10.011129   \n",
       " 23               0.121583                     0.043746            10.011129   \n",
       " 24               0.121583                     0.043746            10.011129   \n",
       " 25               0.121583                     0.043746            10.011129   \n",
       " 26               0.121583                     0.043746            10.011129   \n",
       " \n",
       "     D_state_state  E_state_state  H_state_state  I_state_state  R_state_state  \\\n",
       " 0        0.250408      48.706890       4.669540      29.316059      77.613762   \n",
       " 1        0.876820      77.031395       8.173925      46.391647     210.871918   \n",
       " 2        1.901204     121.854622      13.037069      73.386475     422.329437   \n",
       " 3        3.526189     192.752991      20.637331     116.085999     756.916077   \n",
       " 4        6.097249     304.885468      32.646049     183.620636    1286.176636   \n",
       " 5       10.164112     482.209351      51.636440     290.422760    2123.321777   \n",
       " 6       16.596325     762.562439      81.664726     459.289520    3447.303223   \n",
       " 7       26.768272    1205.653687     129.134567     726.204224    5540.932129   \n",
       " 8       42.850861    1905.561279     204.145126    1147.885742    8850.793945   \n",
       " 9        0.220276      37.472713       3.967827      24.214685      70.333038   \n",
       " 10       0.686224      46.368916       5.591292      29.995937     166.853973   \n",
       " 11       1.291350      57.402130       7.013937      37.133465     286.912323   \n",
       " 12       2.044297      71.059746       8.695312      45.968742     435.613434   \n",
       " 13       2.976914      87.965569      10.765824      56.905334     619.704834   \n",
       " 14       4.131481     108.890953      13.327233      70.442574     847.592529   \n",
       " 15       5.560716     134.790924      16.497469      87.198135    1129.689575   \n",
       " 16       7.329903     166.846176      20.421247     107.935928    1478.882935   \n",
       " 17       9.519832     206.516663      25.277405     133.601059    1911.118042   \n",
       " 18       0.208576      32.778297       3.995073      20.655069      67.870354   \n",
       " 19       0.609241      35.190704       4.972165      22.200743     149.859222   \n",
       " 20       1.065394      37.797520       5.432904      23.845301     238.494339   \n",
       " 21       1.558827      40.596947       5.847837      25.611521     333.771118   \n",
       " 22       2.089284      43.603447       6.282641      27.508293     436.114899   \n",
       " 23       2.659089      46.832165       6.748129      29.545277     546.039185   \n",
       " 24       3.271097      50.299473       7.247823      31.732777     664.102966   \n",
       " 25       3.928411      54.022854       7.784419      34.081867     790.907776   \n",
       " 26       4.634402      58.021339       8.360631      36.604542     927.098755   \n",
       " \n",
       "     S_state_state  infected_observable_state  exposed_observable_state  \\\n",
       " 0      19339882.0                  29.316059                 48.706890   \n",
       " 1      19339700.0                  46.391647                 77.031395   \n",
       " 2      19339396.0                  73.386475                121.854622   \n",
       " 3      19338952.0                 116.085999                192.752991   \n",
       " 4      19338222.0                 183.620636                304.885468   \n",
       " 5      19337102.0                 290.422760                482.209351   \n",
       " 6      19335278.0                 459.289520                762.562439   \n",
       " 7      19332418.0                 726.204224               1205.653687   \n",
       " 8      19327890.0                1147.885742               1905.561279   \n",
       " 9      19339898.0                  24.214685                 37.472713   \n",
       " 10     19339790.0                  29.995937                 46.368916   \n",
       " 11     19339648.0                  37.133465                 57.402130   \n",
       " 12     19339476.0                  45.968742                 71.059746   \n",
       " 13     19339262.0                  56.905334                 87.965569   \n",
       " 14     19338994.0                  70.442574                108.890953   \n",
       " 15     19338656.0                  87.198135                134.790924   \n",
       " 16     19338258.0                 107.935928                166.846176   \n",
       " 17     19337732.0                 133.601059                206.516663   \n",
       " 18     19339914.0                  20.655069                 32.778297   \n",
       " 19     19339828.0                  22.200743                 35.190704   \n",
       " 20     19339704.0                  23.845301                 37.797520   \n",
       " 21     19339630.0                  25.611521                 40.596947   \n",
       " 22     19339522.0                  27.508293                 43.603447   \n",
       " 23     19339406.0                  29.545277                 46.832165   \n",
       " 24     19339272.0                  31.732777                 50.299473   \n",
       " 25     19339118.0                  34.081867                 54.022854   \n",
       " 26     19339004.0                  36.604542                 58.021339   \n",
       " \n",
       "     hospitalized_observable_state  dead_observable_state  \n",
       " 0                        4.669540               0.250408  \n",
       " 1                        8.173925               0.876820  \n",
       " 2                       13.037069               1.901204  \n",
       " 3                       20.637331               3.526189  \n",
       " 4                       32.646049               6.097249  \n",
       " 5                       51.636440              10.164112  \n",
       " 6                       81.664726              16.596325  \n",
       " 7                      129.134567              26.768272  \n",
       " 8                      204.145126              42.850861  \n",
       " 9                        3.967827               0.220276  \n",
       " 10                       5.591292               0.686224  \n",
       " 11                       7.013937               1.291350  \n",
       " 12                       8.695312               2.044297  \n",
       " 13                      10.765824               2.976914  \n",
       " 14                      13.327233               4.131481  \n",
       " 15                      16.497469               5.560716  \n",
       " 16                      20.421247               7.329903  \n",
       " 17                      25.277405               9.519832  \n",
       " 18                       3.995073               0.208576  \n",
       " 19                       4.972165               0.609241  \n",
       " 20                       5.432904               1.065394  \n",
       " 21                       5.847837               1.558827  \n",
       " 22                       6.282641               2.089284  \n",
       " 23                       6.748129               2.659089  \n",
       " 24                       7.247823               3.271097  \n",
       " 25                       7.784419               3.928411  \n",
       " 26                       8.360631               4.634402  ,\n",
       " 'unprocessed_result': {'persistent_beta': tensor([0.4913, 0.4195, 0.4076]),\n",
       "  'persistent_gamma': tensor([0.3693, 0.3651, 0.3891]),\n",
       "  'persistent_hosp': tensor([0.1184, 0.1147, 0.1216]),\n",
       "  'persistent_death_hosp': tensor([0.0491, 0.0481, 0.0437]),\n",
       "  'persistent_I0': tensor([10.7489, 10.5950, 10.0111]),\n",
       "  'D_state': tensor([[ 0.2504,  0.8768,  1.9012,  3.5262,  6.0972, 10.1641, 16.5963, 26.7683,\n",
       "           42.8509],\n",
       "          [ 0.2203,  0.6862,  1.2913,  2.0443,  2.9769,  4.1315,  5.5607,  7.3299,\n",
       "            9.5198],\n",
       "          [ 0.2086,  0.6092,  1.0654,  1.5588,  2.0893,  2.6591,  3.2711,  3.9284,\n",
       "            4.6344]]),\n",
       "  'E_state': tensor([[  48.7069,   77.0314,  121.8546,  192.7530,  304.8855,  482.2094,\n",
       "            762.5624, 1205.6537, 1905.5613],\n",
       "          [  37.4727,   46.3689,   57.4021,   71.0597,   87.9656,  108.8910,\n",
       "            134.7909,  166.8462,  206.5167],\n",
       "          [  32.7783,   35.1907,   37.7975,   40.5969,   43.6034,   46.8322,\n",
       "             50.2995,   54.0229,   58.0213]]),\n",
       "  'H_state': tensor([[  4.6695,   8.1739,  13.0371,  20.6373,  32.6460,  51.6364,  81.6647,\n",
       "           129.1346, 204.1451],\n",
       "          [  3.9678,   5.5913,   7.0139,   8.6953,  10.7658,  13.3272,  16.4975,\n",
       "            20.4212,  25.2774],\n",
       "          [  3.9951,   4.9722,   5.4329,   5.8478,   6.2826,   6.7481,   7.2478,\n",
       "             7.7844,   8.3606]]),\n",
       "  'I_state': tensor([[  29.3161,   46.3916,   73.3865,  116.0860,  183.6206,  290.4228,\n",
       "            459.2895,  726.2042, 1147.8857],\n",
       "          [  24.2147,   29.9959,   37.1335,   45.9687,   56.9053,   70.4426,\n",
       "             87.1981,  107.9359,  133.6011],\n",
       "          [  20.6551,   22.2007,   23.8453,   25.6115,   27.5083,   29.5453,\n",
       "             31.7328,   34.0819,   36.6045]]),\n",
       "  'R_state': tensor([[  77.6138,  210.8719,  422.3294,  756.9161, 1286.1766, 2123.3218,\n",
       "           3447.3032, 5540.9321, 8850.7939],\n",
       "          [  70.3330,  166.8540,  286.9123,  435.6134,  619.7048,  847.5925,\n",
       "           1129.6896, 1478.8829, 1911.1180],\n",
       "          [  67.8704,  149.8592,  238.4943,  333.7711,  436.1149,  546.0392,\n",
       "            664.1030,  790.9078,  927.0988]]),\n",
       "  'S_state': tensor([[19339882., 19339700., 19339396., 19338952., 19338222., 19337102.,\n",
       "           19335278., 19332418., 19327890.],\n",
       "          [19339898., 19339790., 19339648., 19339476., 19339262., 19338994.,\n",
       "           19338656., 19338258., 19337732.],\n",
       "          [19339914., 19339828., 19339704., 19339630., 19339522., 19339406.,\n",
       "           19339272., 19339118., 19339004.]]),\n",
       "  'infected_observable': tensor([[  29.3161,   46.3916,   73.3865,  116.0860,  183.6206,  290.4228,\n",
       "            459.2895,  726.2042, 1147.8857],\n",
       "          [  24.2147,   29.9959,   37.1335,   45.9687,   56.9053,   70.4426,\n",
       "             87.1981,  107.9359,  133.6011],\n",
       "          [  20.6551,   22.2007,   23.8453,   25.6115,   27.5083,   29.5453,\n",
       "             31.7328,   34.0819,   36.6045]]),\n",
       "  'exposed_observable': tensor([[  48.7069,   77.0314,  121.8546,  192.7530,  304.8855,  482.2094,\n",
       "            762.5624, 1205.6537, 1905.5613],\n",
       "          [  37.4727,   46.3689,   57.4021,   71.0597,   87.9656,  108.8910,\n",
       "            134.7909,  166.8462,  206.5167],\n",
       "          [  32.7783,   35.1907,   37.7975,   40.5969,   43.6034,   46.8322,\n",
       "             50.2995,   54.0229,   58.0213]]),\n",
       "  'hospitalized_observable': tensor([[  4.6695,   8.1739,  13.0371,  20.6373,  32.6460,  51.6364,  81.6647,\n",
       "           129.1346, 204.1451],\n",
       "          [  3.9678,   5.5913,   7.0139,   8.6953,  10.7658,  13.3272,  16.4975,\n",
       "            20.4212,  25.2774],\n",
       "          [  3.9951,   4.9722,   5.4329,   5.8478,   6.2826,   6.7481,   7.2478,\n",
       "             7.7844,   8.3606]]),\n",
       "  'dead_observable': tensor([[ 0.2504,  0.8768,  1.9012,  3.5262,  6.0972, 10.1641, 16.5963, 26.7683,\n",
       "           42.8509],\n",
       "          [ 0.2203,  0.6862,  1.2913,  2.0443,  2.9769,  4.1315,  5.5607,  7.3299,\n",
       "            9.5198],\n",
       "          [ 0.2086,  0.6092,  1.0654,  1.5588,  2.0893,  2.6591,  3.2711,  3.9284,\n",
       "            4.6344]])}}"
      ]
     },
     "execution_count": 9,
     "metadata": {},
     "output_type": "execute_result"
    }
   ],
   "source": [
    "start_time = 0.0\n",
    "end_time = 100.\n",
    "logging_step_size = 10.0\n",
    "num_samples = 3\n",
    "\n",
    "results = pyciemss.sample(petri1, end_time, logging_step_size, num_samples, \n",
    "                start_time=start_time, inferred_parameters=parameter_estimates)\n",
    "results"
   ]
  },
  {
   "cell_type": "markdown",
   "id": "1d2f1d51",
   "metadata": {},
   "source": [
    "### ...but NOT when data is mapped to OBSERVABLES"
   ]
  },
  {
   "cell_type": "code",
   "execution_count": 10,
   "id": "aaec8b6b",
   "metadata": {},
   "outputs": [
    {
     "ename": "KeyError",
     "evalue": "'infected_observable'",
     "output_type": "error",
     "traceback": [
      "\u001b[0;31m---------------------------------------------------------------------------\u001b[0m",
      "\u001b[0;31mKeyError\u001b[0m                                  Traceback (most recent call last)",
      "Cell \u001b[0;32mIn[10], line 3\u001b[0m\n\u001b[1;32m      1\u001b[0m \u001b[38;5;66;03m# Try with infected_observable \u001b[39;00m\n\u001b[1;32m      2\u001b[0m data_mapping \u001b[38;5;241m=\u001b[39m {\u001b[38;5;124m\"\u001b[39m\u001b[38;5;124mhosp\u001b[39m\u001b[38;5;124m\"\u001b[39m: \u001b[38;5;124m\"\u001b[39m\u001b[38;5;124mhospitalized_observable\u001b[39m\u001b[38;5;124m\"\u001b[39m, \u001b[38;5;124m\"\u001b[39m\u001b[38;5;124mcase\u001b[39m\u001b[38;5;124m\"\u001b[39m: \u001b[38;5;124m\"\u001b[39m\u001b[38;5;124minfected_observable\u001b[39m\u001b[38;5;124m\"\u001b[39m}\n\u001b[0;32m----> 3\u001b[0m results \u001b[38;5;241m=\u001b[39m \u001b[43mcalibrate\u001b[49m\u001b[43m(\u001b[49m\u001b[43mpetri1\u001b[49m\u001b[43m,\u001b[49m\u001b[43m \u001b[49m\u001b[43mdataset1\u001b[49m\u001b[43m,\u001b[49m\u001b[43m \u001b[49m\u001b[43mdata_mapping\u001b[49m\u001b[38;5;241;43m=\u001b[39;49m\u001b[43mdata_mapping\u001b[49m\u001b[43m)\u001b[49m\n\u001b[1;32m      4\u001b[0m results\n",
      "File \u001b[0;32m~/Projects/pyciemss/pyciemss/interfaces.py:486\u001b[0m, in \u001b[0;36mcalibrate\u001b[0;34m(model_path_or_json, data_path, data_mapping, noise_model, noise_model_kwargs, solver_method, solver_options, start_time, static_state_interventions, static_parameter_interventions, dynamic_state_interventions, dynamic_parameter_interventions, num_iterations, lr, verbose, num_particles, deterministic_learnable_parameters)\u001b[0m\n\u001b[1;32m    480\u001b[0m                     stack\u001b[38;5;241m.\u001b[39menter_context(handler)\n\u001b[1;32m    481\u001b[0m                 model(\n\u001b[1;32m    482\u001b[0m                     torch\u001b[38;5;241m.\u001b[39mas_tensor(start_time),\n\u001b[1;32m    483\u001b[0m                     torch\u001b[38;5;241m.\u001b[39mas_tensor(data_timepoints[\u001b[38;5;241m-\u001b[39m\u001b[38;5;241m1\u001b[39m]),\n\u001b[1;32m    484\u001b[0m                 )\n\u001b[0;32m--> 486\u001b[0m inferred_parameters \u001b[38;5;241m=\u001b[39m \u001b[43mautoguide\u001b[49m\u001b[43m(\u001b[49m\u001b[43mwrapped_model\u001b[49m\u001b[43m)\u001b[49m\n\u001b[1;32m    488\u001b[0m optim \u001b[38;5;241m=\u001b[39m pyro\u001b[38;5;241m.\u001b[39moptim\u001b[38;5;241m.\u001b[39mAdam({\u001b[38;5;124m\"\u001b[39m\u001b[38;5;124mlr\u001b[39m\u001b[38;5;124m\"\u001b[39m: lr})\n\u001b[1;32m    489\u001b[0m loss \u001b[38;5;241m=\u001b[39m pyro\u001b[38;5;241m.\u001b[39minfer\u001b[38;5;241m.\u001b[39mTrace_ELBO(num_particles\u001b[38;5;241m=\u001b[39mnum_particles)\n",
      "File \u001b[0;32m~/Projects/pyciemss/pyciemss/interfaces.py:428\u001b[0m, in \u001b[0;36mcalibrate.<locals>.autoguide\u001b[0;34m(model)\u001b[0m\n\u001b[1;32m    424\u001b[0m \u001b[38;5;28;01mtry\u001b[39;00m:\n\u001b[1;32m    425\u001b[0m     mvn_guide \u001b[38;5;241m=\u001b[39m pyro\u001b[38;5;241m.\u001b[39minfer\u001b[38;5;241m.\u001b[39mautoguide\u001b[38;5;241m.\u001b[39mAutoLowRankMultivariateNormal(\n\u001b[1;32m    426\u001b[0m         pyro\u001b[38;5;241m.\u001b[39mpoutine\u001b[38;5;241m.\u001b[39mblock(model, hide\u001b[38;5;241m=\u001b[39mdeterministic_learnable_parameters)\n\u001b[1;32m    427\u001b[0m     )\n\u001b[0;32m--> 428\u001b[0m     \u001b[43mmvn_guide\u001b[49m\u001b[38;5;241;43m.\u001b[39;49m\u001b[43m_setup_prototype\u001b[49m\u001b[43m(\u001b[49m\u001b[43m)\u001b[49m\n\u001b[1;32m    429\u001b[0m     guide\u001b[38;5;241m.\u001b[39mappend(mvn_guide)\n\u001b[1;32m    430\u001b[0m \u001b[38;5;28;01mexcept\u001b[39;00m \u001b[38;5;167;01mRuntimeError\u001b[39;00m \u001b[38;5;28;01mas\u001b[39;00m re:\n",
      "File \u001b[0;32m~/anaconda3/lib/python3.10/site-packages/pyro/infer/autoguide/guides.py:1002\u001b[0m, in \u001b[0;36mAutoLowRankMultivariateNormal._setup_prototype\u001b[0;34m(self, *args, **kwargs)\u001b[0m\n\u001b[1;32m   1001\u001b[0m \u001b[38;5;28;01mdef\u001b[39;00m \u001b[38;5;21m_setup_prototype\u001b[39m(\u001b[38;5;28mself\u001b[39m, \u001b[38;5;241m*\u001b[39margs, \u001b[38;5;241m*\u001b[39m\u001b[38;5;241m*\u001b[39mkwargs):\n\u001b[0;32m-> 1002\u001b[0m     \u001b[38;5;28;43msuper\u001b[39;49m\u001b[43m(\u001b[49m\u001b[43m)\u001b[49m\u001b[38;5;241;43m.\u001b[39;49m\u001b[43m_setup_prototype\u001b[49m\u001b[43m(\u001b[49m\u001b[38;5;241;43m*\u001b[39;49m\u001b[43margs\u001b[49m\u001b[43m,\u001b[49m\u001b[43m \u001b[49m\u001b[38;5;241;43m*\u001b[39;49m\u001b[38;5;241;43m*\u001b[39;49m\u001b[43mkwargs\u001b[49m\u001b[43m)\u001b[49m\n\u001b[1;32m   1003\u001b[0m     \u001b[38;5;66;03m# Initialize guide params\u001b[39;00m\n\u001b[1;32m   1004\u001b[0m     \u001b[38;5;28mself\u001b[39m\u001b[38;5;241m.\u001b[39mloc \u001b[38;5;241m=\u001b[39m nn\u001b[38;5;241m.\u001b[39mParameter(\u001b[38;5;28mself\u001b[39m\u001b[38;5;241m.\u001b[39m_init_loc())\n",
      "File \u001b[0;32m~/anaconda3/lib/python3.10/site-packages/pyro/infer/autoguide/guides.py:636\u001b[0m, in \u001b[0;36mAutoContinuous._setup_prototype\u001b[0;34m(self, *args, **kwargs)\u001b[0m\n\u001b[1;32m    635\u001b[0m \u001b[38;5;28;01mdef\u001b[39;00m \u001b[38;5;21m_setup_prototype\u001b[39m(\u001b[38;5;28mself\u001b[39m, \u001b[38;5;241m*\u001b[39margs, \u001b[38;5;241m*\u001b[39m\u001b[38;5;241m*\u001b[39mkwargs):\n\u001b[0;32m--> 636\u001b[0m     \u001b[38;5;28;43msuper\u001b[39;49m\u001b[43m(\u001b[49m\u001b[43m)\u001b[49m\u001b[38;5;241;43m.\u001b[39;49m\u001b[43m_setup_prototype\u001b[49m\u001b[43m(\u001b[49m\u001b[38;5;241;43m*\u001b[39;49m\u001b[43margs\u001b[49m\u001b[43m,\u001b[49m\u001b[43m \u001b[49m\u001b[38;5;241;43m*\u001b[39;49m\u001b[38;5;241;43m*\u001b[39;49m\u001b[43mkwargs\u001b[49m\u001b[43m)\u001b[49m\n\u001b[1;32m    637\u001b[0m     \u001b[38;5;28mself\u001b[39m\u001b[38;5;241m.\u001b[39m_unconstrained_shapes \u001b[38;5;241m=\u001b[39m {}\n\u001b[1;32m    638\u001b[0m     \u001b[38;5;28mself\u001b[39m\u001b[38;5;241m.\u001b[39m_cond_indep_stacks \u001b[38;5;241m=\u001b[39m {}\n",
      "File \u001b[0;32m~/anaconda3/lib/python3.10/site-packages/pyro/infer/autoguide/guides.py:157\u001b[0m, in \u001b[0;36mAutoGuide._setup_prototype\u001b[0;34m(self, *args, **kwargs)\u001b[0m\n\u001b[1;32m    154\u001b[0m \u001b[38;5;28;01mdef\u001b[39;00m \u001b[38;5;21m_setup_prototype\u001b[39m(\u001b[38;5;28mself\u001b[39m, \u001b[38;5;241m*\u001b[39margs, \u001b[38;5;241m*\u001b[39m\u001b[38;5;241m*\u001b[39mkwargs):\n\u001b[1;32m    155\u001b[0m     \u001b[38;5;66;03m# run the model so we can inspect its structure\u001b[39;00m\n\u001b[1;32m    156\u001b[0m     model \u001b[38;5;241m=\u001b[39m poutine\u001b[38;5;241m.\u001b[39mblock(\u001b[38;5;28mself\u001b[39m\u001b[38;5;241m.\u001b[39mmodel, \u001b[38;5;28mself\u001b[39m\u001b[38;5;241m.\u001b[39m_prototype_hide_fn)\n\u001b[0;32m--> 157\u001b[0m     \u001b[38;5;28mself\u001b[39m\u001b[38;5;241m.\u001b[39mprototype_trace \u001b[38;5;241m=\u001b[39m \u001b[43mpoutine\u001b[49m\u001b[38;5;241;43m.\u001b[39;49m\u001b[43mblock\u001b[49m\u001b[43m(\u001b[49m\u001b[43mpoutine\u001b[49m\u001b[38;5;241;43m.\u001b[39;49m\u001b[43mtrace\u001b[49m\u001b[43m(\u001b[49m\u001b[43mmodel\u001b[49m\u001b[43m)\u001b[49m\u001b[38;5;241;43m.\u001b[39;49m\u001b[43mget_trace\u001b[49m\u001b[43m)\u001b[49m\u001b[43m(\u001b[49m\n\u001b[1;32m    158\u001b[0m \u001b[43m        \u001b[49m\u001b[38;5;241;43m*\u001b[39;49m\u001b[43margs\u001b[49m\u001b[43m,\u001b[49m\u001b[43m \u001b[49m\u001b[38;5;241;43m*\u001b[39;49m\u001b[38;5;241;43m*\u001b[39;49m\u001b[43mkwargs\u001b[49m\n\u001b[1;32m    159\u001b[0m \u001b[43m    \u001b[49m\u001b[43m)\u001b[49m\n\u001b[1;32m    160\u001b[0m     \u001b[38;5;28;01mif\u001b[39;00m \u001b[38;5;28mself\u001b[39m\u001b[38;5;241m.\u001b[39mmaster \u001b[38;5;129;01mis\u001b[39;00m \u001b[38;5;129;01mnot\u001b[39;00m \u001b[38;5;28;01mNone\u001b[39;00m:\n\u001b[1;32m    161\u001b[0m         \u001b[38;5;28mself\u001b[39m\u001b[38;5;241m.\u001b[39mmaster()\u001b[38;5;241m.\u001b[39m_check_prototype(\u001b[38;5;28mself\u001b[39m\u001b[38;5;241m.\u001b[39mprototype_trace)\n",
      "File \u001b[0;32m~/anaconda3/lib/python3.10/site-packages/pyro/poutine/messenger.py:12\u001b[0m, in \u001b[0;36m_context_wrap\u001b[0;34m(context, fn, *args, **kwargs)\u001b[0m\n\u001b[1;32m     10\u001b[0m \u001b[38;5;28;01mdef\u001b[39;00m \u001b[38;5;21m_context_wrap\u001b[39m(context, fn, \u001b[38;5;241m*\u001b[39margs, \u001b[38;5;241m*\u001b[39m\u001b[38;5;241m*\u001b[39mkwargs):\n\u001b[1;32m     11\u001b[0m     \u001b[38;5;28;01mwith\u001b[39;00m context:\n\u001b[0;32m---> 12\u001b[0m         \u001b[38;5;28;01mreturn\u001b[39;00m \u001b[43mfn\u001b[49m\u001b[43m(\u001b[49m\u001b[38;5;241;43m*\u001b[39;49m\u001b[43margs\u001b[49m\u001b[43m,\u001b[49m\u001b[43m \u001b[49m\u001b[38;5;241;43m*\u001b[39;49m\u001b[38;5;241;43m*\u001b[39;49m\u001b[43mkwargs\u001b[49m\u001b[43m)\u001b[49m\n",
      "File \u001b[0;32m~/anaconda3/lib/python3.10/site-packages/pyro/poutine/trace_messenger.py:198\u001b[0m, in \u001b[0;36mTraceHandler.get_trace\u001b[0;34m(self, *args, **kwargs)\u001b[0m\n\u001b[1;32m    190\u001b[0m \u001b[38;5;28;01mdef\u001b[39;00m \u001b[38;5;21mget_trace\u001b[39m(\u001b[38;5;28mself\u001b[39m, \u001b[38;5;241m*\u001b[39margs, \u001b[38;5;241m*\u001b[39m\u001b[38;5;241m*\u001b[39mkwargs):\n\u001b[1;32m    191\u001b[0m     \u001b[38;5;124;03m\"\"\"\u001b[39;00m\n\u001b[1;32m    192\u001b[0m \u001b[38;5;124;03m    :returns: data structure\u001b[39;00m\n\u001b[1;32m    193\u001b[0m \u001b[38;5;124;03m    :rtype: pyro.poutine.Trace\u001b[39;00m\n\u001b[0;32m   (...)\u001b[0m\n\u001b[1;32m    196\u001b[0m \u001b[38;5;124;03m    Calls this poutine and returns its trace instead of the function's return value.\u001b[39;00m\n\u001b[1;32m    197\u001b[0m \u001b[38;5;124;03m    \"\"\"\u001b[39;00m\n\u001b[0;32m--> 198\u001b[0m     \u001b[38;5;28;43mself\u001b[39;49m\u001b[43m(\u001b[49m\u001b[38;5;241;43m*\u001b[39;49m\u001b[43margs\u001b[49m\u001b[43m,\u001b[49m\u001b[43m \u001b[49m\u001b[38;5;241;43m*\u001b[39;49m\u001b[38;5;241;43m*\u001b[39;49m\u001b[43mkwargs\u001b[49m\u001b[43m)\u001b[49m\n\u001b[1;32m    199\u001b[0m     \u001b[38;5;28;01mreturn\u001b[39;00m \u001b[38;5;28mself\u001b[39m\u001b[38;5;241m.\u001b[39mmsngr\u001b[38;5;241m.\u001b[39mget_trace()\n",
      "File \u001b[0;32m~/anaconda3/lib/python3.10/site-packages/pyro/poutine/trace_messenger.py:174\u001b[0m, in \u001b[0;36mTraceHandler.__call__\u001b[0;34m(self, *args, **kwargs)\u001b[0m\n\u001b[1;32m    170\u001b[0m \u001b[38;5;28mself\u001b[39m\u001b[38;5;241m.\u001b[39mmsngr\u001b[38;5;241m.\u001b[39mtrace\u001b[38;5;241m.\u001b[39madd_node(\n\u001b[1;32m    171\u001b[0m     \u001b[38;5;124m\"\u001b[39m\u001b[38;5;124m_INPUT\u001b[39m\u001b[38;5;124m\"\u001b[39m, name\u001b[38;5;241m=\u001b[39m\u001b[38;5;124m\"\u001b[39m\u001b[38;5;124m_INPUT\u001b[39m\u001b[38;5;124m\"\u001b[39m, \u001b[38;5;28mtype\u001b[39m\u001b[38;5;241m=\u001b[39m\u001b[38;5;124m\"\u001b[39m\u001b[38;5;124margs\u001b[39m\u001b[38;5;124m\"\u001b[39m, args\u001b[38;5;241m=\u001b[39margs, kwargs\u001b[38;5;241m=\u001b[39mkwargs\n\u001b[1;32m    172\u001b[0m )\n\u001b[1;32m    173\u001b[0m \u001b[38;5;28;01mtry\u001b[39;00m:\n\u001b[0;32m--> 174\u001b[0m     ret \u001b[38;5;241m=\u001b[39m \u001b[38;5;28;43mself\u001b[39;49m\u001b[38;5;241;43m.\u001b[39;49m\u001b[43mfn\u001b[49m\u001b[43m(\u001b[49m\u001b[38;5;241;43m*\u001b[39;49m\u001b[43margs\u001b[49m\u001b[43m,\u001b[49m\u001b[43m \u001b[49m\u001b[38;5;241;43m*\u001b[39;49m\u001b[38;5;241;43m*\u001b[39;49m\u001b[43mkwargs\u001b[49m\u001b[43m)\u001b[49m\n\u001b[1;32m    175\u001b[0m \u001b[38;5;28;01mexcept\u001b[39;00m (\u001b[38;5;167;01mValueError\u001b[39;00m, \u001b[38;5;167;01mRuntimeError\u001b[39;00m) \u001b[38;5;28;01mas\u001b[39;00m e:\n\u001b[1;32m    176\u001b[0m     exc_type, exc_value, traceback \u001b[38;5;241m=\u001b[39m sys\u001b[38;5;241m.\u001b[39mexc_info()\n",
      "File \u001b[0;32m~/anaconda3/lib/python3.10/site-packages/pyro/poutine/messenger.py:12\u001b[0m, in \u001b[0;36m_context_wrap\u001b[0;34m(context, fn, *args, **kwargs)\u001b[0m\n\u001b[1;32m     10\u001b[0m \u001b[38;5;28;01mdef\u001b[39;00m \u001b[38;5;21m_context_wrap\u001b[39m(context, fn, \u001b[38;5;241m*\u001b[39margs, \u001b[38;5;241m*\u001b[39m\u001b[38;5;241m*\u001b[39mkwargs):\n\u001b[1;32m     11\u001b[0m     \u001b[38;5;28;01mwith\u001b[39;00m context:\n\u001b[0;32m---> 12\u001b[0m         \u001b[38;5;28;01mreturn\u001b[39;00m \u001b[43mfn\u001b[49m\u001b[43m(\u001b[49m\u001b[38;5;241;43m*\u001b[39;49m\u001b[43margs\u001b[49m\u001b[43m,\u001b[49m\u001b[43m \u001b[49m\u001b[38;5;241;43m*\u001b[39;49m\u001b[38;5;241;43m*\u001b[39;49m\u001b[43mkwargs\u001b[49m\u001b[43m)\u001b[49m\n",
      "File \u001b[0;32m~/anaconda3/lib/python3.10/site-packages/pyro/poutine/messenger.py:12\u001b[0m, in \u001b[0;36m_context_wrap\u001b[0;34m(context, fn, *args, **kwargs)\u001b[0m\n\u001b[1;32m     10\u001b[0m \u001b[38;5;28;01mdef\u001b[39;00m \u001b[38;5;21m_context_wrap\u001b[39m(context, fn, \u001b[38;5;241m*\u001b[39margs, \u001b[38;5;241m*\u001b[39m\u001b[38;5;241m*\u001b[39mkwargs):\n\u001b[1;32m     11\u001b[0m     \u001b[38;5;28;01mwith\u001b[39;00m context:\n\u001b[0;32m---> 12\u001b[0m         \u001b[38;5;28;01mreturn\u001b[39;00m \u001b[43mfn\u001b[49m\u001b[43m(\u001b[49m\u001b[38;5;241;43m*\u001b[39;49m\u001b[43margs\u001b[49m\u001b[43m,\u001b[49m\u001b[43m \u001b[49m\u001b[38;5;241;43m*\u001b[39;49m\u001b[38;5;241;43m*\u001b[39;49m\u001b[43mkwargs\u001b[49m\u001b[43m)\u001b[49m\n",
      "File \u001b[0;32m~/anaconda3/lib/python3.10/site-packages/pyro/poutine/messenger.py:12\u001b[0m, in \u001b[0;36m_context_wrap\u001b[0;34m(context, fn, *args, **kwargs)\u001b[0m\n\u001b[1;32m     10\u001b[0m \u001b[38;5;28;01mdef\u001b[39;00m \u001b[38;5;21m_context_wrap\u001b[39m(context, fn, \u001b[38;5;241m*\u001b[39margs, \u001b[38;5;241m*\u001b[39m\u001b[38;5;241m*\u001b[39mkwargs):\n\u001b[1;32m     11\u001b[0m     \u001b[38;5;28;01mwith\u001b[39;00m context:\n\u001b[0;32m---> 12\u001b[0m         \u001b[38;5;28;01mreturn\u001b[39;00m \u001b[43mfn\u001b[49m\u001b[43m(\u001b[49m\u001b[38;5;241;43m*\u001b[39;49m\u001b[43margs\u001b[49m\u001b[43m,\u001b[49m\u001b[43m \u001b[49m\u001b[38;5;241;43m*\u001b[39;49m\u001b[38;5;241;43m*\u001b[39;49m\u001b[43mkwargs\u001b[49m\u001b[43m)\u001b[49m\n",
      "File \u001b[0;32m~/Projects/pyciemss/pyciemss/interfaces.py:481\u001b[0m, in \u001b[0;36mcalibrate.<locals>.wrapped_model\u001b[0;34m()\u001b[0m\n\u001b[1;32m    479\u001b[0m \u001b[38;5;28;01mfor\u001b[39;00m handler \u001b[38;5;129;01min\u001b[39;00m intervention_handlers:\n\u001b[1;32m    480\u001b[0m     stack\u001b[38;5;241m.\u001b[39menter_context(handler)\n\u001b[0;32m--> 481\u001b[0m \u001b[43mmodel\u001b[49m\u001b[43m(\u001b[49m\n\u001b[1;32m    482\u001b[0m \u001b[43m    \u001b[49m\u001b[43mtorch\u001b[49m\u001b[38;5;241;43m.\u001b[39;49m\u001b[43mas_tensor\u001b[49m\u001b[43m(\u001b[49m\u001b[43mstart_time\u001b[49m\u001b[43m)\u001b[49m\u001b[43m,\u001b[49m\n\u001b[1;32m    483\u001b[0m \u001b[43m    \u001b[49m\u001b[43mtorch\u001b[49m\u001b[38;5;241;43m.\u001b[39;49m\u001b[43mas_tensor\u001b[49m\u001b[43m(\u001b[49m\u001b[43mdata_timepoints\u001b[49m\u001b[43m[\u001b[49m\u001b[38;5;241;43m-\u001b[39;49m\u001b[38;5;241;43m1\u001b[39;49m\u001b[43m]\u001b[49m\u001b[43m)\u001b[49m\u001b[43m,\u001b[49m\n\u001b[1;32m    484\u001b[0m \u001b[43m\u001b[49m\u001b[43m)\u001b[49m\n",
      "File \u001b[0;32m~/anaconda3/lib/python3.10/site-packages/pyro/nn/module.py:449\u001b[0m, in \u001b[0;36mPyroModule.__call__\u001b[0;34m(self, *args, **kwargs)\u001b[0m\n\u001b[1;32m    447\u001b[0m \u001b[38;5;28;01mdef\u001b[39;00m \u001b[38;5;21m__call__\u001b[39m(\u001b[38;5;28mself\u001b[39m, \u001b[38;5;241m*\u001b[39margs, \u001b[38;5;241m*\u001b[39m\u001b[38;5;241m*\u001b[39mkwargs):\n\u001b[1;32m    448\u001b[0m     \u001b[38;5;28;01mwith\u001b[39;00m \u001b[38;5;28mself\u001b[39m\u001b[38;5;241m.\u001b[39m_pyro_context:\n\u001b[0;32m--> 449\u001b[0m         result \u001b[38;5;241m=\u001b[39m \u001b[38;5;28;43msuper\u001b[39;49m\u001b[43m(\u001b[49m\u001b[43m)\u001b[49m\u001b[38;5;241;43m.\u001b[39;49m\u001b[38;5;21;43m__call__\u001b[39;49m\u001b[43m(\u001b[49m\u001b[38;5;241;43m*\u001b[39;49m\u001b[43margs\u001b[49m\u001b[43m,\u001b[49m\u001b[43m \u001b[49m\u001b[38;5;241;43m*\u001b[39;49m\u001b[38;5;241;43m*\u001b[39;49m\u001b[43mkwargs\u001b[49m\u001b[43m)\u001b[49m\n\u001b[1;32m    450\u001b[0m     \u001b[38;5;28;01mif\u001b[39;00m (\n\u001b[1;32m    451\u001b[0m         pyro\u001b[38;5;241m.\u001b[39msettings\u001b[38;5;241m.\u001b[39mget(\u001b[38;5;124m\"\u001b[39m\u001b[38;5;124mvalidate_poutine\u001b[39m\u001b[38;5;124m\"\u001b[39m)\n\u001b[1;32m    452\u001b[0m         \u001b[38;5;129;01mand\u001b[39;00m \u001b[38;5;129;01mnot\u001b[39;00m \u001b[38;5;28mself\u001b[39m\u001b[38;5;241m.\u001b[39m_pyro_context\u001b[38;5;241m.\u001b[39mactive\n\u001b[1;32m    453\u001b[0m         \u001b[38;5;129;01mand\u001b[39;00m _is_module_local_param_enabled()\n\u001b[1;32m    454\u001b[0m     ):\n\u001b[1;32m    455\u001b[0m         \u001b[38;5;28mself\u001b[39m\u001b[38;5;241m.\u001b[39m_check_module_local_param_usage()\n",
      "File \u001b[0;32m~/anaconda3/lib/python3.10/site-packages/torch/nn/modules/module.py:1130\u001b[0m, in \u001b[0;36mModule._call_impl\u001b[0;34m(self, *input, **kwargs)\u001b[0m\n\u001b[1;32m   1126\u001b[0m \u001b[38;5;66;03m# If we don't have any hooks, we want to skip the rest of the logic in\u001b[39;00m\n\u001b[1;32m   1127\u001b[0m \u001b[38;5;66;03m# this function, and just call forward.\u001b[39;00m\n\u001b[1;32m   1128\u001b[0m \u001b[38;5;28;01mif\u001b[39;00m \u001b[38;5;129;01mnot\u001b[39;00m (\u001b[38;5;28mself\u001b[39m\u001b[38;5;241m.\u001b[39m_backward_hooks \u001b[38;5;129;01mor\u001b[39;00m \u001b[38;5;28mself\u001b[39m\u001b[38;5;241m.\u001b[39m_forward_hooks \u001b[38;5;129;01mor\u001b[39;00m \u001b[38;5;28mself\u001b[39m\u001b[38;5;241m.\u001b[39m_forward_pre_hooks \u001b[38;5;129;01mor\u001b[39;00m _global_backward_hooks\n\u001b[1;32m   1129\u001b[0m         \u001b[38;5;129;01mor\u001b[39;00m _global_forward_hooks \u001b[38;5;129;01mor\u001b[39;00m _global_forward_pre_hooks):\n\u001b[0;32m-> 1130\u001b[0m     \u001b[38;5;28;01mreturn\u001b[39;00m \u001b[43mforward_call\u001b[49m\u001b[43m(\u001b[49m\u001b[38;5;241;43m*\u001b[39;49m\u001b[38;5;28;43minput\u001b[39;49m\u001b[43m,\u001b[49m\u001b[43m \u001b[49m\u001b[38;5;241;43m*\u001b[39;49m\u001b[38;5;241;43m*\u001b[39;49m\u001b[43mkwargs\u001b[49m\u001b[43m)\u001b[49m\n\u001b[1;32m   1131\u001b[0m \u001b[38;5;66;03m# Do not call functions when jit is used\u001b[39;00m\n\u001b[1;32m   1132\u001b[0m full_backward_hooks, non_full_backward_hooks \u001b[38;5;241m=\u001b[39m [], []\n",
      "File \u001b[0;32m~/Projects/pyciemss/pyciemss/compiled_dynamics.py:72\u001b[0m, in \u001b[0;36mCompiledDynamics.forward\u001b[0;34m(self, start_time, end_time)\u001b[0m\n\u001b[1;32m     65\u001b[0m \u001b[38;5;28;01mdef\u001b[39;00m \u001b[38;5;21mforward\u001b[39m(\n\u001b[1;32m     66\u001b[0m     \u001b[38;5;28mself\u001b[39m,\n\u001b[1;32m     67\u001b[0m     start_time: torch\u001b[38;5;241m.\u001b[39mTensor,\n\u001b[1;32m     68\u001b[0m     end_time: torch\u001b[38;5;241m.\u001b[39mTensor,\n\u001b[1;32m     69\u001b[0m ):\n\u001b[1;32m     70\u001b[0m     \u001b[38;5;28mself\u001b[39m\u001b[38;5;241m.\u001b[39minstantiate_parameters()\n\u001b[0;32m---> 72\u001b[0m     state \u001b[38;5;241m=\u001b[39m \u001b[43msimulate\u001b[49m\u001b[43m(\u001b[49m\u001b[38;5;28;43mself\u001b[39;49m\u001b[38;5;241;43m.\u001b[39;49m\u001b[43mderiv\u001b[49m\u001b[43m,\u001b[49m\u001b[43m \u001b[49m\u001b[38;5;28;43mself\u001b[39;49m\u001b[38;5;241;43m.\u001b[39;49m\u001b[43minitial_state\u001b[49m\u001b[43m(\u001b[49m\u001b[43m)\u001b[49m\u001b[43m,\u001b[49m\u001b[43m \u001b[49m\u001b[43mstart_time\u001b[49m\u001b[43m,\u001b[49m\u001b[43m \u001b[49m\u001b[43mend_time\u001b[49m\u001b[43m)\u001b[49m\n\u001b[1;32m     74\u001b[0m     observables \u001b[38;5;241m=\u001b[39m \u001b[38;5;28mself\u001b[39m\u001b[38;5;241m.\u001b[39mobservables(state)\n\u001b[1;32m     76\u001b[0m     \u001b[38;5;28;01mreturn\u001b[39;00m {\u001b[38;5;241m*\u001b[39m\u001b[38;5;241m*\u001b[39mstate, \u001b[38;5;241m*\u001b[39m\u001b[38;5;241m*\u001b[39mobservables}\n",
      "File \u001b[0;32m~/anaconda3/lib/python3.10/site-packages/pyro/poutine/runtime.py:281\u001b[0m, in \u001b[0;36meffectful.<locals>._fn\u001b[0;34m(*args, **kwargs)\u001b[0m\n\u001b[1;32m    264\u001b[0m msg \u001b[38;5;241m=\u001b[39m {\n\u001b[1;32m    265\u001b[0m     \u001b[38;5;124m\"\u001b[39m\u001b[38;5;124mtype\u001b[39m\u001b[38;5;124m\"\u001b[39m: \u001b[38;5;28mtype\u001b[39m,\n\u001b[1;32m    266\u001b[0m     \u001b[38;5;124m\"\u001b[39m\u001b[38;5;124mname\u001b[39m\u001b[38;5;124m\"\u001b[39m: name,\n\u001b[0;32m   (...)\u001b[0m\n\u001b[1;32m    278\u001b[0m     \u001b[38;5;124m\"\u001b[39m\u001b[38;5;124minfer\u001b[39m\u001b[38;5;124m\"\u001b[39m: infer,\n\u001b[1;32m    279\u001b[0m }\n\u001b[1;32m    280\u001b[0m \u001b[38;5;66;03m# apply the stack and return its return value\u001b[39;00m\n\u001b[0;32m--> 281\u001b[0m \u001b[43mapply_stack\u001b[49m\u001b[43m(\u001b[49m\u001b[43mmsg\u001b[49m\u001b[43m)\u001b[49m\n\u001b[1;32m    282\u001b[0m \u001b[38;5;28;01mreturn\u001b[39;00m msg[\u001b[38;5;124m\"\u001b[39m\u001b[38;5;124mvalue\u001b[39m\u001b[38;5;124m\"\u001b[39m]\n",
      "File \u001b[0;32m~/anaconda3/lib/python3.10/site-packages/pyro/poutine/runtime.py:220\u001b[0m, in \u001b[0;36mapply_stack\u001b[0;34m(initial_msg)\u001b[0m\n\u001b[1;32m    217\u001b[0m default_process_message(msg)\n\u001b[1;32m    219\u001b[0m \u001b[38;5;28;01mfor\u001b[39;00m frame \u001b[38;5;129;01min\u001b[39;00m stack[\u001b[38;5;241m-\u001b[39mpointer:]:\n\u001b[0;32m--> 220\u001b[0m     \u001b[43mframe\u001b[49m\u001b[38;5;241;43m.\u001b[39;49m\u001b[43m_postprocess_message\u001b[49m\u001b[43m(\u001b[49m\u001b[43mmsg\u001b[49m\u001b[43m)\u001b[49m\n\u001b[1;32m    222\u001b[0m cont \u001b[38;5;241m=\u001b[39m msg[\u001b[38;5;124m\"\u001b[39m\u001b[38;5;124mcontinuation\u001b[39m\u001b[38;5;124m\"\u001b[39m]\n\u001b[1;32m    223\u001b[0m \u001b[38;5;28;01mif\u001b[39;00m cont \u001b[38;5;129;01mis\u001b[39;00m \u001b[38;5;129;01mnot\u001b[39;00m \u001b[38;5;28;01mNone\u001b[39;00m:\n",
      "File \u001b[0;32m~/anaconda3/lib/python3.10/site-packages/pyro/poutine/messenger.py:168\u001b[0m, in \u001b[0;36mMessenger._postprocess_message\u001b[0;34m(self, msg)\u001b[0m\n\u001b[1;32m    166\u001b[0m method \u001b[38;5;241m=\u001b[39m \u001b[38;5;28mgetattr\u001b[39m(\u001b[38;5;28mself\u001b[39m, \u001b[38;5;124m\"\u001b[39m\u001b[38;5;124m_pyro_post_\u001b[39m\u001b[38;5;132;01m{}\u001b[39;00m\u001b[38;5;124m\"\u001b[39m\u001b[38;5;241m.\u001b[39mformat(msg[\u001b[38;5;124m\"\u001b[39m\u001b[38;5;124mtype\u001b[39m\u001b[38;5;124m\"\u001b[39m]), \u001b[38;5;28;01mNone\u001b[39;00m)\n\u001b[1;32m    167\u001b[0m \u001b[38;5;28;01mif\u001b[39;00m method \u001b[38;5;129;01mis\u001b[39;00m \u001b[38;5;129;01mnot\u001b[39;00m \u001b[38;5;28;01mNone\u001b[39;00m:\n\u001b[0;32m--> 168\u001b[0m     \u001b[38;5;28;01mreturn\u001b[39;00m \u001b[43mmethod\u001b[49m\u001b[43m(\u001b[49m\u001b[43mmsg\u001b[49m\u001b[43m)\u001b[49m\n\u001b[1;32m    169\u001b[0m \u001b[38;5;28;01mreturn\u001b[39;00m \u001b[38;5;28;01mNone\u001b[39;00m\n",
      "File \u001b[0;32m~/Projects/chirho/chirho/dynamical/handlers/interruption.py:249\u001b[0m, in \u001b[0;36mStaticBatchObservation._pyro_post_simulate\u001b[0;34m(self, msg)\u001b[0m\n\u001b[1;32m    247\u001b[0m \u001b[38;5;28;01mdef\u001b[39;00m \u001b[38;5;21m_pyro_post_simulate\u001b[39m(\u001b[38;5;28mself\u001b[39m, msg: \u001b[38;5;28mdict\u001b[39m) \u001b[38;5;241m-\u001b[39m\u001b[38;5;241m>\u001b[39m \u001b[38;5;28;01mNone\u001b[39;00m:\n\u001b[1;32m    248\u001b[0m     \u001b[38;5;28msuper\u001b[39m()\u001b[38;5;241m.\u001b[39m_pyro_post_simulate(msg)\n\u001b[0;32m--> 249\u001b[0m     \u001b[38;5;28mself\u001b[39m\u001b[38;5;241m.\u001b[39mtrajectory \u001b[38;5;241m=\u001b[39m \u001b[43mobserve\u001b[49m\u001b[43m(\u001b[49m\u001b[38;5;28;43mself\u001b[39;49m\u001b[38;5;241;43m.\u001b[39;49m\u001b[43mtrajectory\u001b[49m\u001b[43m,\u001b[49m\u001b[43m \u001b[49m\u001b[38;5;28;43mself\u001b[39;49m\u001b[38;5;241;43m.\u001b[39;49m\u001b[43mobservation\u001b[49m\u001b[43m)\u001b[49m\n",
      "File \u001b[0;32m~/anaconda3/lib/python3.10/functools.py:889\u001b[0m, in \u001b[0;36msingledispatch.<locals>.wrapper\u001b[0;34m(*args, **kw)\u001b[0m\n\u001b[1;32m    885\u001b[0m \u001b[38;5;28;01mif\u001b[39;00m \u001b[38;5;129;01mnot\u001b[39;00m args:\n\u001b[1;32m    886\u001b[0m     \u001b[38;5;28;01mraise\u001b[39;00m \u001b[38;5;167;01mTypeError\u001b[39;00m(\u001b[38;5;124mf\u001b[39m\u001b[38;5;124m'\u001b[39m\u001b[38;5;132;01m{\u001b[39;00mfuncname\u001b[38;5;132;01m}\u001b[39;00m\u001b[38;5;124m requires at least \u001b[39m\u001b[38;5;124m'\u001b[39m\n\u001b[1;32m    887\u001b[0m                     \u001b[38;5;124m'\u001b[39m\u001b[38;5;124m1 positional argument\u001b[39m\u001b[38;5;124m'\u001b[39m)\n\u001b[0;32m--> 889\u001b[0m \u001b[38;5;28;01mreturn\u001b[39;00m \u001b[43mdispatch\u001b[49m\u001b[43m(\u001b[49m\u001b[43margs\u001b[49m\u001b[43m[\u001b[49m\u001b[38;5;241;43m0\u001b[39;49m\u001b[43m]\u001b[49m\u001b[38;5;241;43m.\u001b[39;49m\u001b[38;5;18;43m__class__\u001b[39;49m\u001b[43m)\u001b[49m\u001b[43m(\u001b[49m\u001b[38;5;241;43m*\u001b[39;49m\u001b[43margs\u001b[49m\u001b[43m,\u001b[49m\u001b[43m \u001b[49m\u001b[38;5;241;43m*\u001b[39;49m\u001b[38;5;241;43m*\u001b[39;49m\u001b[43mkw\u001b[49m\u001b[43m)\u001b[49m\n",
      "File \u001b[0;32m~/Projects/chirho/chirho/observational/internals.py:56\u001b[0m, in \u001b[0;36m_observe_dict\u001b[0;34m(rv, obs, name, **kwargs)\u001b[0m\n\u001b[1;32m     47\u001b[0m \u001b[38;5;129m@observe\u001b[39m\u001b[38;5;241m.\u001b[39mregister(\u001b[38;5;28mdict\u001b[39m)\n\u001b[1;32m     48\u001b[0m \u001b[38;5;28;01mdef\u001b[39;00m \u001b[38;5;21m_observe_dict\u001b[39m(\n\u001b[1;32m     49\u001b[0m     rv: Mapping[K, T],\n\u001b[0;32m   (...)\u001b[0m\n\u001b[1;32m     53\u001b[0m     \u001b[38;5;241m*\u001b[39m\u001b[38;5;241m*\u001b[39mkwargs,\n\u001b[1;32m     54\u001b[0m ) \u001b[38;5;241m-\u001b[39m\u001b[38;5;241m>\u001b[39m Mapping[K, T]:\n\u001b[1;32m     55\u001b[0m     \u001b[38;5;28;01mif\u001b[39;00m callable(obs):\n\u001b[0;32m---> 56\u001b[0m         obs \u001b[38;5;241m=\u001b[39m \u001b[43mobs\u001b[49m\u001b[43m(\u001b[49m\u001b[43mrv\u001b[49m\u001b[43m)\u001b[49m\n\u001b[1;32m     57\u001b[0m         \u001b[38;5;28;01mif\u001b[39;00m obs \u001b[38;5;129;01mis\u001b[39;00m \u001b[38;5;129;01mnot\u001b[39;00m rv \u001b[38;5;129;01mand\u001b[39;00m obs \u001b[38;5;129;01mis\u001b[39;00m \u001b[38;5;129;01mnot\u001b[39;00m \u001b[38;5;28;01mNone\u001b[39;00m:\n\u001b[1;32m     58\u001b[0m             \u001b[38;5;28;01mraise\u001b[39;00m \u001b[38;5;167;01mNotImplementedError\u001b[39;00m(\u001b[38;5;124m\"\u001b[39m\u001b[38;5;124mDependent observations are not yet supported\u001b[39m\u001b[38;5;124m\"\u001b[39m)\n",
      "File \u001b[0;32m~/anaconda3/lib/python3.10/site-packages/pyro/poutine/messenger.py:12\u001b[0m, in \u001b[0;36m_context_wrap\u001b[0;34m(context, fn, *args, **kwargs)\u001b[0m\n\u001b[1;32m     10\u001b[0m \u001b[38;5;28;01mdef\u001b[39;00m \u001b[38;5;21m_context_wrap\u001b[39m(context, fn, \u001b[38;5;241m*\u001b[39margs, \u001b[38;5;241m*\u001b[39m\u001b[38;5;241m*\u001b[39mkwargs):\n\u001b[1;32m     11\u001b[0m     \u001b[38;5;28;01mwith\u001b[39;00m context:\n\u001b[0;32m---> 12\u001b[0m         \u001b[38;5;28;01mreturn\u001b[39;00m \u001b[43mfn\u001b[49m\u001b[43m(\u001b[49m\u001b[38;5;241;43m*\u001b[39;49m\u001b[43margs\u001b[49m\u001b[43m,\u001b[49m\u001b[43m \u001b[49m\u001b[38;5;241;43m*\u001b[39;49m\u001b[38;5;241;43m*\u001b[39;49m\u001b[43mkwargs\u001b[49m\u001b[43m)\u001b[49m\n",
      "File \u001b[0;32m~/anaconda3/lib/python3.10/site-packages/pyro/nn/module.py:449\u001b[0m, in \u001b[0;36mPyroModule.__call__\u001b[0;34m(self, *args, **kwargs)\u001b[0m\n\u001b[1;32m    447\u001b[0m \u001b[38;5;28;01mdef\u001b[39;00m \u001b[38;5;21m__call__\u001b[39m(\u001b[38;5;28mself\u001b[39m, \u001b[38;5;241m*\u001b[39margs, \u001b[38;5;241m*\u001b[39m\u001b[38;5;241m*\u001b[39mkwargs):\n\u001b[1;32m    448\u001b[0m     \u001b[38;5;28;01mwith\u001b[39;00m \u001b[38;5;28mself\u001b[39m\u001b[38;5;241m.\u001b[39m_pyro_context:\n\u001b[0;32m--> 449\u001b[0m         result \u001b[38;5;241m=\u001b[39m \u001b[38;5;28;43msuper\u001b[39;49m\u001b[43m(\u001b[49m\u001b[43m)\u001b[49m\u001b[38;5;241;43m.\u001b[39;49m\u001b[38;5;21;43m__call__\u001b[39;49m\u001b[43m(\u001b[49m\u001b[38;5;241;43m*\u001b[39;49m\u001b[43margs\u001b[49m\u001b[43m,\u001b[49m\u001b[43m \u001b[49m\u001b[38;5;241;43m*\u001b[39;49m\u001b[38;5;241;43m*\u001b[39;49m\u001b[43mkwargs\u001b[49m\u001b[43m)\u001b[49m\n\u001b[1;32m    450\u001b[0m     \u001b[38;5;28;01mif\u001b[39;00m (\n\u001b[1;32m    451\u001b[0m         pyro\u001b[38;5;241m.\u001b[39msettings\u001b[38;5;241m.\u001b[39mget(\u001b[38;5;124m\"\u001b[39m\u001b[38;5;124mvalidate_poutine\u001b[39m\u001b[38;5;124m\"\u001b[39m)\n\u001b[1;32m    452\u001b[0m         \u001b[38;5;129;01mand\u001b[39;00m \u001b[38;5;129;01mnot\u001b[39;00m \u001b[38;5;28mself\u001b[39m\u001b[38;5;241m.\u001b[39m_pyro_context\u001b[38;5;241m.\u001b[39mactive\n\u001b[1;32m    453\u001b[0m         \u001b[38;5;129;01mand\u001b[39;00m _is_module_local_param_enabled()\n\u001b[1;32m    454\u001b[0m     ):\n\u001b[1;32m    455\u001b[0m         \u001b[38;5;28mself\u001b[39m\u001b[38;5;241m.\u001b[39m_check_module_local_param_usage()\n",
      "File \u001b[0;32m~/anaconda3/lib/python3.10/site-packages/torch/nn/modules/module.py:1130\u001b[0m, in \u001b[0;36mModule._call_impl\u001b[0;34m(self, *input, **kwargs)\u001b[0m\n\u001b[1;32m   1126\u001b[0m \u001b[38;5;66;03m# If we don't have any hooks, we want to skip the rest of the logic in\u001b[39;00m\n\u001b[1;32m   1127\u001b[0m \u001b[38;5;66;03m# this function, and just call forward.\u001b[39;00m\n\u001b[1;32m   1128\u001b[0m \u001b[38;5;28;01mif\u001b[39;00m \u001b[38;5;129;01mnot\u001b[39;00m (\u001b[38;5;28mself\u001b[39m\u001b[38;5;241m.\u001b[39m_backward_hooks \u001b[38;5;129;01mor\u001b[39;00m \u001b[38;5;28mself\u001b[39m\u001b[38;5;241m.\u001b[39m_forward_hooks \u001b[38;5;129;01mor\u001b[39;00m \u001b[38;5;28mself\u001b[39m\u001b[38;5;241m.\u001b[39m_forward_pre_hooks \u001b[38;5;129;01mor\u001b[39;00m _global_backward_hooks\n\u001b[1;32m   1129\u001b[0m         \u001b[38;5;129;01mor\u001b[39;00m _global_forward_hooks \u001b[38;5;129;01mor\u001b[39;00m _global_forward_pre_hooks):\n\u001b[0;32m-> 1130\u001b[0m     \u001b[38;5;28;01mreturn\u001b[39;00m \u001b[43mforward_call\u001b[49m\u001b[43m(\u001b[49m\u001b[38;5;241;43m*\u001b[39;49m\u001b[38;5;28;43minput\u001b[39;49m\u001b[43m,\u001b[49m\u001b[43m \u001b[49m\u001b[38;5;241;43m*\u001b[39;49m\u001b[38;5;241;43m*\u001b[39;49m\u001b[43mkwargs\u001b[49m\u001b[43m)\u001b[49m\n\u001b[1;32m   1131\u001b[0m \u001b[38;5;66;03m# Do not call functions when jit is used\u001b[39;00m\n\u001b[1;32m   1132\u001b[0m full_backward_hooks, non_full_backward_hooks \u001b[38;5;241m=\u001b[39m [], []\n",
      "File \u001b[0;32m~/Projects/pyciemss/pyciemss/observation.py:33\u001b[0m, in \u001b[0;36mStateIndependentNoiseModel.forward\u001b[0;34m(self, state)\u001b[0m\n\u001b[1;32m     29\u001b[0m \u001b[38;5;28;01mdef\u001b[39;00m \u001b[38;5;21mforward\u001b[39m(\u001b[38;5;28mself\u001b[39m, state: Dict[\u001b[38;5;28mstr\u001b[39m, torch\u001b[38;5;241m.\u001b[39mTensor]) \u001b[38;5;241m-\u001b[39m\u001b[38;5;241m>\u001b[39m \u001b[38;5;28;01mNone\u001b[39;00m:\n\u001b[1;32m     30\u001b[0m     \u001b[38;5;28;01mfor\u001b[39;00m k \u001b[38;5;129;01min\u001b[39;00m \u001b[38;5;28mself\u001b[39m\u001b[38;5;241m.\u001b[39mvars:\n\u001b[1;32m     31\u001b[0m         pyro\u001b[38;5;241m.\u001b[39msample(\n\u001b[1;32m     32\u001b[0m             \u001b[38;5;124mf\u001b[39m\u001b[38;5;124m\"\u001b[39m\u001b[38;5;132;01m{\u001b[39;00mk\u001b[38;5;132;01m}\u001b[39;00m\u001b[38;5;124m_noisy\u001b[39m\u001b[38;5;124m\"\u001b[39m,\n\u001b[0;32m---> 33\u001b[0m             \u001b[38;5;28mself\u001b[39m\u001b[38;5;241m.\u001b[39mmarkov_kernel(k, \u001b[43mstate\u001b[49m\u001b[43m[\u001b[49m\u001b[43mk\u001b[49m\u001b[43m]\u001b[49m),\n\u001b[1;32m     34\u001b[0m         )\n",
      "\u001b[0;31mKeyError\u001b[0m: 'infected_observable'"
     ]
    }
   ],
   "source": [
    "# Try with infected_observable \n",
    "data_mapping = {\"hosp\": \"hospitalized_observable\", \"case\": \"infected_observable\"}\n",
    "results = calibrate(petri1, dataset1, data_mapping=data_mapping)\n",
    "results"
   ]
  },
  {
   "cell_type": "markdown",
   "id": "0b781da9",
   "metadata": {},
   "source": [
    "### (1) Missing data"
   ]
  },
  {
   "cell_type": "code",
   "execution_count": 41,
   "id": "707db856",
   "metadata": {},
   "outputs": [
    {
     "ename": "ValueError",
     "evalue": "Error while computing log_prob at site 'I_noisy':\nExpected value argument (Tensor of shape (3,)) to be within the support (Real()) of the distribution Normal(loc: torch.Size([3]), scale: torch.Size([3])), but found invalid values:\ntensor([15., nan, 20.])\n                               Trace Shapes:    \n                                Param Sites:    \nnumeric_initial_state_func$$$_nodes.2._value    \nnumeric_initial_state_func$$$_nodes.3._value    \nnumeric_initial_state_func$$$_nodes.4._value    \nnumeric_initial_state_func$$$_nodes.5._value    \n                               Sample Sites:    \n                        persistent_beta dist |  \n                                       value |  \n                                    log_prob |  \n                       persistent_gamma dist |  \n                                       value |  \n                                    log_prob |  \n                        persistent_hosp dist |  \n                                       value |  \n                                    log_prob |  \n                  persistent_death_hosp dist |  \n                                       value |  \n                                    log_prob |  \n                          persistent_I0 dist |  \n                                       value |  \n                                    log_prob |  \n                                H_noisy dist | 3\n                                       value | 3\n                                    log_prob |  \n                                I_noisy dist | 3\n                                       value | 3",
     "output_type": "error",
     "traceback": [
      "\u001b[0;31m---------------------------------------------------------------------------\u001b[0m",
      "\u001b[0;31mValueError\u001b[0m                                Traceback (most recent call last)",
      "File \u001b[0;32m~/anaconda3/lib/python3.10/site-packages/pyro/poutine/trace_struct.py:230\u001b[0m, in \u001b[0;36mTrace.compute_log_prob\u001b[0;34m(self, site_filter)\u001b[0m\n\u001b[1;32m    229\u001b[0m \u001b[38;5;28;01mtry\u001b[39;00m:\n\u001b[0;32m--> 230\u001b[0m     log_p \u001b[38;5;241m=\u001b[39m \u001b[43msite\u001b[49m\u001b[43m[\u001b[49m\u001b[38;5;124;43m\"\u001b[39;49m\u001b[38;5;124;43mfn\u001b[39;49m\u001b[38;5;124;43m\"\u001b[39;49m\u001b[43m]\u001b[49m\u001b[38;5;241;43m.\u001b[39;49m\u001b[43mlog_prob\u001b[49m\u001b[43m(\u001b[49m\n\u001b[1;32m    231\u001b[0m \u001b[43m        \u001b[49m\u001b[43msite\u001b[49m\u001b[43m[\u001b[49m\u001b[38;5;124;43m\"\u001b[39;49m\u001b[38;5;124;43mvalue\u001b[39;49m\u001b[38;5;124;43m\"\u001b[39;49m\u001b[43m]\u001b[49m\u001b[43m,\u001b[49m\u001b[43m \u001b[49m\u001b[38;5;241;43m*\u001b[39;49m\u001b[43msite\u001b[49m\u001b[43m[\u001b[49m\u001b[38;5;124;43m\"\u001b[39;49m\u001b[38;5;124;43margs\u001b[39;49m\u001b[38;5;124;43m\"\u001b[39;49m\u001b[43m]\u001b[49m\u001b[43m,\u001b[49m\u001b[43m \u001b[49m\u001b[38;5;241;43m*\u001b[39;49m\u001b[38;5;241;43m*\u001b[39;49m\u001b[43msite\u001b[49m\u001b[43m[\u001b[49m\u001b[38;5;124;43m\"\u001b[39;49m\u001b[38;5;124;43mkwargs\u001b[39;49m\u001b[38;5;124;43m\"\u001b[39;49m\u001b[43m]\u001b[49m\n\u001b[1;32m    232\u001b[0m \u001b[43m    \u001b[49m\u001b[43m)\u001b[49m\n\u001b[1;32m    233\u001b[0m \u001b[38;5;28;01mexcept\u001b[39;00m \u001b[38;5;167;01mValueError\u001b[39;00m \u001b[38;5;28;01mas\u001b[39;00m e:\n",
      "File \u001b[0;32m~/anaconda3/lib/python3.10/site-packages/torch/distributions/independent.py:95\u001b[0m, in \u001b[0;36mIndependent.log_prob\u001b[0;34m(self, value)\u001b[0m\n\u001b[1;32m     94\u001b[0m \u001b[38;5;28;01mdef\u001b[39;00m \u001b[38;5;21mlog_prob\u001b[39m(\u001b[38;5;28mself\u001b[39m, value):\n\u001b[0;32m---> 95\u001b[0m     log_prob \u001b[38;5;241m=\u001b[39m \u001b[38;5;28;43mself\u001b[39;49m\u001b[38;5;241;43m.\u001b[39;49m\u001b[43mbase_dist\u001b[49m\u001b[38;5;241;43m.\u001b[39;49m\u001b[43mlog_prob\u001b[49m\u001b[43m(\u001b[49m\u001b[43mvalue\u001b[49m\u001b[43m)\u001b[49m\n\u001b[1;32m     96\u001b[0m     \u001b[38;5;28;01mreturn\u001b[39;00m _sum_rightmost(log_prob, \u001b[38;5;28mself\u001b[39m\u001b[38;5;241m.\u001b[39mreinterpreted_batch_ndims)\n",
      "File \u001b[0;32m~/anaconda3/lib/python3.10/site-packages/torch/distributions/normal.py:77\u001b[0m, in \u001b[0;36mNormal.log_prob\u001b[0;34m(self, value)\u001b[0m\n\u001b[1;32m     76\u001b[0m \u001b[38;5;28;01mif\u001b[39;00m \u001b[38;5;28mself\u001b[39m\u001b[38;5;241m.\u001b[39m_validate_args:\n\u001b[0;32m---> 77\u001b[0m     \u001b[38;5;28;43mself\u001b[39;49m\u001b[38;5;241;43m.\u001b[39;49m\u001b[43m_validate_sample\u001b[49m\u001b[43m(\u001b[49m\u001b[43mvalue\u001b[49m\u001b[43m)\u001b[49m\n\u001b[1;32m     78\u001b[0m \u001b[38;5;66;03m# compute the variance\u001b[39;00m\n",
      "File \u001b[0;32m~/anaconda3/lib/python3.10/site-packages/torch/distributions/distribution.py:293\u001b[0m, in \u001b[0;36mDistribution._validate_sample\u001b[0;34m(self, value)\u001b[0m\n\u001b[1;32m    292\u001b[0m \u001b[38;5;28;01mif\u001b[39;00m \u001b[38;5;129;01mnot\u001b[39;00m valid\u001b[38;5;241m.\u001b[39mall():\n\u001b[0;32m--> 293\u001b[0m     \u001b[38;5;28;01mraise\u001b[39;00m \u001b[38;5;167;01mValueError\u001b[39;00m(\n\u001b[1;32m    294\u001b[0m         \u001b[38;5;124m\"\u001b[39m\u001b[38;5;124mExpected value argument \u001b[39m\u001b[38;5;124m\"\u001b[39m\n\u001b[1;32m    295\u001b[0m         \u001b[38;5;124mf\u001b[39m\u001b[38;5;124m\"\u001b[39m\u001b[38;5;124m(\u001b[39m\u001b[38;5;132;01m{\u001b[39;00m\u001b[38;5;28mtype\u001b[39m(value)\u001b[38;5;241m.\u001b[39m\u001b[38;5;18m__name__\u001b[39m\u001b[38;5;132;01m}\u001b[39;00m\u001b[38;5;124m of shape \u001b[39m\u001b[38;5;132;01m{\u001b[39;00m\u001b[38;5;28mtuple\u001b[39m(value\u001b[38;5;241m.\u001b[39mshape)\u001b[38;5;132;01m}\u001b[39;00m\u001b[38;5;124m) \u001b[39m\u001b[38;5;124m\"\u001b[39m\n\u001b[1;32m    296\u001b[0m         \u001b[38;5;124mf\u001b[39m\u001b[38;5;124m\"\u001b[39m\u001b[38;5;124mto be within the support (\u001b[39m\u001b[38;5;132;01m{\u001b[39;00m\u001b[38;5;28mrepr\u001b[39m(support)\u001b[38;5;132;01m}\u001b[39;00m\u001b[38;5;124m) \u001b[39m\u001b[38;5;124m\"\u001b[39m\n\u001b[1;32m    297\u001b[0m         \u001b[38;5;124mf\u001b[39m\u001b[38;5;124m\"\u001b[39m\u001b[38;5;124mof the distribution \u001b[39m\u001b[38;5;132;01m{\u001b[39;00m\u001b[38;5;28mrepr\u001b[39m(\u001b[38;5;28mself\u001b[39m)\u001b[38;5;132;01m}\u001b[39;00m\u001b[38;5;124m, \u001b[39m\u001b[38;5;124m\"\u001b[39m\n\u001b[1;32m    298\u001b[0m         \u001b[38;5;124mf\u001b[39m\u001b[38;5;124m\"\u001b[39m\u001b[38;5;124mbut found invalid values:\u001b[39m\u001b[38;5;130;01m\\n\u001b[39;00m\u001b[38;5;132;01m{\u001b[39;00mvalue\u001b[38;5;132;01m}\u001b[39;00m\u001b[38;5;124m\"\u001b[39m\n\u001b[1;32m    299\u001b[0m     )\n",
      "\u001b[0;31mValueError\u001b[0m: Expected value argument (Tensor of shape (3,)) to be within the support (Real()) of the distribution Normal(loc: torch.Size([3]), scale: torch.Size([3])), but found invalid values:\ntensor([15., nan, 20.])",
      "\nThe above exception was the direct cause of the following exception:\n",
      "\u001b[0;31mValueError\u001b[0m                                Traceback (most recent call last)",
      "Cell \u001b[0;32mIn[41], line 2\u001b[0m\n\u001b[1;32m      1\u001b[0m data_mapping \u001b[38;5;241m=\u001b[39m {\u001b[38;5;124m\"\u001b[39m\u001b[38;5;124mcase\u001b[39m\u001b[38;5;124m\"\u001b[39m: \u001b[38;5;124m\"\u001b[39m\u001b[38;5;124mI\u001b[39m\u001b[38;5;124m\"\u001b[39m, \u001b[38;5;124m\"\u001b[39m\u001b[38;5;124mhosp\u001b[39m\u001b[38;5;124m\"\u001b[39m: \u001b[38;5;124m\"\u001b[39m\u001b[38;5;124mH\u001b[39m\u001b[38;5;124m\"\u001b[39m} \u001b[38;5;66;03m# data_mapping = \"column_name\": \"observable/state_variable\"\u001b[39;00m\n\u001b[0;32m----> 2\u001b[0m calibrated_results \u001b[38;5;241m=\u001b[39m \u001b[43mcalibrate\u001b[49m\u001b[43m(\u001b[49m\u001b[43mpetri2\u001b[49m\u001b[43m,\u001b[49m\u001b[43m \u001b[49m\u001b[43mdataset2\u001b[49m\u001b[43m,\u001b[49m\u001b[43m \u001b[49m\u001b[43mdata_mapping\u001b[49m\u001b[38;5;241;43m=\u001b[39;49m\u001b[43mdata_mapping\u001b[49m\u001b[43m)\u001b[49m\n\u001b[1;32m      3\u001b[0m parameter_estimates \u001b[38;5;241m=\u001b[39m calibrated_results[\u001b[38;5;241m0\u001b[39m]\n\u001b[1;32m      4\u001b[0m calibrated_results\n",
      "File \u001b[0;32m~/Projects/pyciemss/pyciemss/interfaces.py:495\u001b[0m, in \u001b[0;36mcalibrate\u001b[0;34m(model_path_or_json, data_path, data_mapping, noise_model, noise_model_kwargs, solver_method, solver_options, start_time, static_state_interventions, static_parameter_interventions, dynamic_state_interventions, dynamic_parameter_interventions, num_iterations, lr, verbose, num_particles, deterministic_learnable_parameters)\u001b[0m\n\u001b[1;32m    492\u001b[0m pyro\u001b[38;5;241m.\u001b[39mclear_param_store()\n\u001b[1;32m    494\u001b[0m \u001b[38;5;28;01mfor\u001b[39;00m i \u001b[38;5;129;01min\u001b[39;00m \u001b[38;5;28mrange\u001b[39m(num_iterations):\n\u001b[0;32m--> 495\u001b[0m     loss \u001b[38;5;241m=\u001b[39m \u001b[43msvi\u001b[49m\u001b[38;5;241;43m.\u001b[39;49m\u001b[43mstep\u001b[49m\u001b[43m(\u001b[49m\u001b[43m)\u001b[49m\n\u001b[1;32m    496\u001b[0m     \u001b[38;5;28;01mif\u001b[39;00m verbose:\n\u001b[1;32m    497\u001b[0m         \u001b[38;5;28;01mif\u001b[39;00m i \u001b[38;5;241m%\u001b[39m \u001b[38;5;241m25\u001b[39m \u001b[38;5;241m==\u001b[39m \u001b[38;5;241m0\u001b[39m:\n",
      "File \u001b[0;32m~/anaconda3/lib/python3.10/site-packages/pyro/infer/svi.py:145\u001b[0m, in \u001b[0;36mSVI.step\u001b[0;34m(self, *args, **kwargs)\u001b[0m\n\u001b[1;32m    143\u001b[0m \u001b[38;5;66;03m# get loss and compute gradients\u001b[39;00m\n\u001b[1;32m    144\u001b[0m \u001b[38;5;28;01mwith\u001b[39;00m poutine\u001b[38;5;241m.\u001b[39mtrace(param_only\u001b[38;5;241m=\u001b[39m\u001b[38;5;28;01mTrue\u001b[39;00m) \u001b[38;5;28;01mas\u001b[39;00m param_capture:\n\u001b[0;32m--> 145\u001b[0m     loss \u001b[38;5;241m=\u001b[39m \u001b[38;5;28;43mself\u001b[39;49m\u001b[38;5;241;43m.\u001b[39;49m\u001b[43mloss_and_grads\u001b[49m\u001b[43m(\u001b[49m\u001b[38;5;28;43mself\u001b[39;49m\u001b[38;5;241;43m.\u001b[39;49m\u001b[43mmodel\u001b[49m\u001b[43m,\u001b[49m\u001b[43m \u001b[49m\u001b[38;5;28;43mself\u001b[39;49m\u001b[38;5;241;43m.\u001b[39;49m\u001b[43mguide\u001b[49m\u001b[43m,\u001b[49m\u001b[43m \u001b[49m\u001b[38;5;241;43m*\u001b[39;49m\u001b[43margs\u001b[49m\u001b[43m,\u001b[49m\u001b[43m \u001b[49m\u001b[38;5;241;43m*\u001b[39;49m\u001b[38;5;241;43m*\u001b[39;49m\u001b[43mkwargs\u001b[49m\u001b[43m)\u001b[49m\n\u001b[1;32m    147\u001b[0m params \u001b[38;5;241m=\u001b[39m \u001b[38;5;28mset\u001b[39m(\n\u001b[1;32m    148\u001b[0m     site[\u001b[38;5;124m\"\u001b[39m\u001b[38;5;124mvalue\u001b[39m\u001b[38;5;124m\"\u001b[39m]\u001b[38;5;241m.\u001b[39munconstrained() \u001b[38;5;28;01mfor\u001b[39;00m site \u001b[38;5;129;01min\u001b[39;00m param_capture\u001b[38;5;241m.\u001b[39mtrace\u001b[38;5;241m.\u001b[39mnodes\u001b[38;5;241m.\u001b[39mvalues()\n\u001b[1;32m    149\u001b[0m )\n\u001b[1;32m    151\u001b[0m \u001b[38;5;66;03m# actually perform gradient steps\u001b[39;00m\n\u001b[1;32m    152\u001b[0m \u001b[38;5;66;03m# torch.optim objects gets instantiated for any params that haven't been seen yet\u001b[39;00m\n",
      "File \u001b[0;32m~/anaconda3/lib/python3.10/site-packages/pyro/infer/trace_elbo.py:140\u001b[0m, in \u001b[0;36mTrace_ELBO.loss_and_grads\u001b[0;34m(self, model, guide, *args, **kwargs)\u001b[0m\n\u001b[1;32m    138\u001b[0m loss \u001b[38;5;241m=\u001b[39m \u001b[38;5;241m0.0\u001b[39m\n\u001b[1;32m    139\u001b[0m \u001b[38;5;66;03m# grab a trace from the generator\u001b[39;00m\n\u001b[0;32m--> 140\u001b[0m \u001b[38;5;28;01mfor\u001b[39;00m model_trace, guide_trace \u001b[38;5;129;01min\u001b[39;00m \u001b[38;5;28mself\u001b[39m\u001b[38;5;241m.\u001b[39m_get_traces(model, guide, args, kwargs):\n\u001b[1;32m    141\u001b[0m     loss_particle, surrogate_loss_particle \u001b[38;5;241m=\u001b[39m \u001b[38;5;28mself\u001b[39m\u001b[38;5;241m.\u001b[39m_differentiable_loss_particle(\n\u001b[1;32m    142\u001b[0m         model_trace, guide_trace\n\u001b[1;32m    143\u001b[0m     )\n\u001b[1;32m    144\u001b[0m     loss \u001b[38;5;241m+\u001b[39m\u001b[38;5;241m=\u001b[39m loss_particle \u001b[38;5;241m/\u001b[39m \u001b[38;5;28mself\u001b[39m\u001b[38;5;241m.\u001b[39mnum_particles\n",
      "File \u001b[0;32m~/anaconda3/lib/python3.10/site-packages/pyro/infer/elbo.py:237\u001b[0m, in \u001b[0;36mELBO._get_traces\u001b[0;34m(self, model, guide, args, kwargs)\u001b[0m\n\u001b[1;32m    235\u001b[0m \u001b[38;5;28;01melse\u001b[39;00m:\n\u001b[1;32m    236\u001b[0m     \u001b[38;5;28;01mfor\u001b[39;00m i \u001b[38;5;129;01min\u001b[39;00m \u001b[38;5;28mrange\u001b[39m(\u001b[38;5;28mself\u001b[39m\u001b[38;5;241m.\u001b[39mnum_particles):\n\u001b[0;32m--> 237\u001b[0m         \u001b[38;5;28;01myield\u001b[39;00m \u001b[38;5;28;43mself\u001b[39;49m\u001b[38;5;241;43m.\u001b[39;49m\u001b[43m_get_trace\u001b[49m\u001b[43m(\u001b[49m\u001b[43mmodel\u001b[49m\u001b[43m,\u001b[49m\u001b[43m \u001b[49m\u001b[43mguide\u001b[49m\u001b[43m,\u001b[49m\u001b[43m \u001b[49m\u001b[43margs\u001b[49m\u001b[43m,\u001b[49m\u001b[43m \u001b[49m\u001b[43mkwargs\u001b[49m\u001b[43m)\u001b[49m\n",
      "File \u001b[0;32m~/anaconda3/lib/python3.10/site-packages/pyro/infer/trace_elbo.py:57\u001b[0m, in \u001b[0;36mTrace_ELBO._get_trace\u001b[0;34m(self, model, guide, args, kwargs)\u001b[0m\n\u001b[1;32m     52\u001b[0m \u001b[38;5;28;01mdef\u001b[39;00m \u001b[38;5;21m_get_trace\u001b[39m(\u001b[38;5;28mself\u001b[39m, model, guide, args, kwargs):\n\u001b[1;32m     53\u001b[0m     \u001b[38;5;124;03m\"\"\"\u001b[39;00m\n\u001b[1;32m     54\u001b[0m \u001b[38;5;124;03m    Returns a single trace from the guide, and the model that is run\u001b[39;00m\n\u001b[1;32m     55\u001b[0m \u001b[38;5;124;03m    against it.\u001b[39;00m\n\u001b[1;32m     56\u001b[0m \u001b[38;5;124;03m    \"\"\"\u001b[39;00m\n\u001b[0;32m---> 57\u001b[0m     model_trace, guide_trace \u001b[38;5;241m=\u001b[39m \u001b[43mget_importance_trace\u001b[49m\u001b[43m(\u001b[49m\n\u001b[1;32m     58\u001b[0m \u001b[43m        \u001b[49m\u001b[38;5;124;43m\"\u001b[39;49m\u001b[38;5;124;43mflat\u001b[39;49m\u001b[38;5;124;43m\"\u001b[39;49m\u001b[43m,\u001b[49m\u001b[43m \u001b[49m\u001b[38;5;28;43mself\u001b[39;49m\u001b[38;5;241;43m.\u001b[39;49m\u001b[43mmax_plate_nesting\u001b[49m\u001b[43m,\u001b[49m\u001b[43m \u001b[49m\u001b[43mmodel\u001b[49m\u001b[43m,\u001b[49m\u001b[43m \u001b[49m\u001b[43mguide\u001b[49m\u001b[43m,\u001b[49m\u001b[43m \u001b[49m\u001b[43margs\u001b[49m\u001b[43m,\u001b[49m\u001b[43m \u001b[49m\u001b[43mkwargs\u001b[49m\n\u001b[1;32m     59\u001b[0m \u001b[43m    \u001b[49m\u001b[43m)\u001b[49m\n\u001b[1;32m     60\u001b[0m     \u001b[38;5;28;01mif\u001b[39;00m is_validation_enabled():\n\u001b[1;32m     61\u001b[0m         check_if_enumerated(guide_trace)\n",
      "File \u001b[0;32m~/anaconda3/lib/python3.10/site-packages/pyro/infer/enum.py:75\u001b[0m, in \u001b[0;36mget_importance_trace\u001b[0;34m(graph_type, max_plate_nesting, model, guide, args, kwargs, detach)\u001b[0m\n\u001b[1;32m     72\u001b[0m guide_trace \u001b[38;5;241m=\u001b[39m prune_subsample_sites(guide_trace)\n\u001b[1;32m     73\u001b[0m model_trace \u001b[38;5;241m=\u001b[39m prune_subsample_sites(model_trace)\n\u001b[0;32m---> 75\u001b[0m \u001b[43mmodel_trace\u001b[49m\u001b[38;5;241;43m.\u001b[39;49m\u001b[43mcompute_log_prob\u001b[49m\u001b[43m(\u001b[49m\u001b[43m)\u001b[49m\n\u001b[1;32m     76\u001b[0m guide_trace\u001b[38;5;241m.\u001b[39mcompute_score_parts()\n\u001b[1;32m     77\u001b[0m \u001b[38;5;28;01mif\u001b[39;00m is_validation_enabled():\n",
      "File \u001b[0;32m~/anaconda3/lib/python3.10/site-packages/pyro/poutine/trace_struct.py:236\u001b[0m, in \u001b[0;36mTrace.compute_log_prob\u001b[0;34m(self, site_filter)\u001b[0m\n\u001b[1;32m    234\u001b[0m     _, exc_value, traceback \u001b[38;5;241m=\u001b[39m sys\u001b[38;5;241m.\u001b[39mexc_info()\n\u001b[1;32m    235\u001b[0m     shapes \u001b[38;5;241m=\u001b[39m \u001b[38;5;28mself\u001b[39m\u001b[38;5;241m.\u001b[39mformat_shapes(last_site\u001b[38;5;241m=\u001b[39msite[\u001b[38;5;124m\"\u001b[39m\u001b[38;5;124mname\u001b[39m\u001b[38;5;124m\"\u001b[39m])\n\u001b[0;32m--> 236\u001b[0m     \u001b[38;5;28;01mraise\u001b[39;00m \u001b[38;5;167;01mValueError\u001b[39;00m(\n\u001b[1;32m    237\u001b[0m         \u001b[38;5;124m\"\u001b[39m\u001b[38;5;124mError while computing log_prob at site \u001b[39m\u001b[38;5;124m'\u001b[39m\u001b[38;5;132;01m{}\u001b[39;00m\u001b[38;5;124m'\u001b[39m\u001b[38;5;124m:\u001b[39m\u001b[38;5;130;01m\\n\u001b[39;00m\u001b[38;5;132;01m{}\u001b[39;00m\u001b[38;5;130;01m\\n\u001b[39;00m\u001b[38;5;132;01m{}\u001b[39;00m\u001b[38;5;124m\"\u001b[39m\u001b[38;5;241m.\u001b[39mformat(\n\u001b[1;32m    238\u001b[0m             name, exc_value, shapes\n\u001b[1;32m    239\u001b[0m         )\n\u001b[1;32m    240\u001b[0m     )\u001b[38;5;241m.\u001b[39mwith_traceback(traceback) \u001b[38;5;28;01mfrom\u001b[39;00m \u001b[38;5;21;01me\u001b[39;00m\n\u001b[1;32m    241\u001b[0m site[\u001b[38;5;124m\"\u001b[39m\u001b[38;5;124munscaled_log_prob\u001b[39m\u001b[38;5;124m\"\u001b[39m] \u001b[38;5;241m=\u001b[39m log_p\n\u001b[1;32m    242\u001b[0m log_p \u001b[38;5;241m=\u001b[39m scale_and_mask(log_p, site[\u001b[38;5;124m\"\u001b[39m\u001b[38;5;124mscale\u001b[39m\u001b[38;5;124m\"\u001b[39m], site[\u001b[38;5;124m\"\u001b[39m\u001b[38;5;124mmask\u001b[39m\u001b[38;5;124m\"\u001b[39m])\n",
      "File \u001b[0;32m~/anaconda3/lib/python3.10/site-packages/pyro/poutine/trace_struct.py:230\u001b[0m, in \u001b[0;36mTrace.compute_log_prob\u001b[0;34m(self, site_filter)\u001b[0m\n\u001b[1;32m    228\u001b[0m \u001b[38;5;28;01mif\u001b[39;00m \u001b[38;5;124m\"\u001b[39m\u001b[38;5;124mlog_prob\u001b[39m\u001b[38;5;124m\"\u001b[39m \u001b[38;5;129;01mnot\u001b[39;00m \u001b[38;5;129;01min\u001b[39;00m site:\n\u001b[1;32m    229\u001b[0m     \u001b[38;5;28;01mtry\u001b[39;00m:\n\u001b[0;32m--> 230\u001b[0m         log_p \u001b[38;5;241m=\u001b[39m \u001b[43msite\u001b[49m\u001b[43m[\u001b[49m\u001b[38;5;124;43m\"\u001b[39;49m\u001b[38;5;124;43mfn\u001b[39;49m\u001b[38;5;124;43m\"\u001b[39;49m\u001b[43m]\u001b[49m\u001b[38;5;241;43m.\u001b[39;49m\u001b[43mlog_prob\u001b[49m\u001b[43m(\u001b[49m\n\u001b[1;32m    231\u001b[0m \u001b[43m            \u001b[49m\u001b[43msite\u001b[49m\u001b[43m[\u001b[49m\u001b[38;5;124;43m\"\u001b[39;49m\u001b[38;5;124;43mvalue\u001b[39;49m\u001b[38;5;124;43m\"\u001b[39;49m\u001b[43m]\u001b[49m\u001b[43m,\u001b[49m\u001b[43m \u001b[49m\u001b[38;5;241;43m*\u001b[39;49m\u001b[43msite\u001b[49m\u001b[43m[\u001b[49m\u001b[38;5;124;43m\"\u001b[39;49m\u001b[38;5;124;43margs\u001b[39;49m\u001b[38;5;124;43m\"\u001b[39;49m\u001b[43m]\u001b[49m\u001b[43m,\u001b[49m\u001b[43m \u001b[49m\u001b[38;5;241;43m*\u001b[39;49m\u001b[38;5;241;43m*\u001b[39;49m\u001b[43msite\u001b[49m\u001b[43m[\u001b[49m\u001b[38;5;124;43m\"\u001b[39;49m\u001b[38;5;124;43mkwargs\u001b[39;49m\u001b[38;5;124;43m\"\u001b[39;49m\u001b[43m]\u001b[49m\n\u001b[1;32m    232\u001b[0m \u001b[43m        \u001b[49m\u001b[43m)\u001b[49m\n\u001b[1;32m    233\u001b[0m     \u001b[38;5;28;01mexcept\u001b[39;00m \u001b[38;5;167;01mValueError\u001b[39;00m \u001b[38;5;28;01mas\u001b[39;00m e:\n\u001b[1;32m    234\u001b[0m         _, exc_value, traceback \u001b[38;5;241m=\u001b[39m sys\u001b[38;5;241m.\u001b[39mexc_info()\n",
      "File \u001b[0;32m~/anaconda3/lib/python3.10/site-packages/torch/distributions/independent.py:95\u001b[0m, in \u001b[0;36mIndependent.log_prob\u001b[0;34m(self, value)\u001b[0m\n\u001b[1;32m     94\u001b[0m \u001b[38;5;28;01mdef\u001b[39;00m \u001b[38;5;21mlog_prob\u001b[39m(\u001b[38;5;28mself\u001b[39m, value):\n\u001b[0;32m---> 95\u001b[0m     log_prob \u001b[38;5;241m=\u001b[39m \u001b[38;5;28;43mself\u001b[39;49m\u001b[38;5;241;43m.\u001b[39;49m\u001b[43mbase_dist\u001b[49m\u001b[38;5;241;43m.\u001b[39;49m\u001b[43mlog_prob\u001b[49m\u001b[43m(\u001b[49m\u001b[43mvalue\u001b[49m\u001b[43m)\u001b[49m\n\u001b[1;32m     96\u001b[0m     \u001b[38;5;28;01mreturn\u001b[39;00m _sum_rightmost(log_prob, \u001b[38;5;28mself\u001b[39m\u001b[38;5;241m.\u001b[39mreinterpreted_batch_ndims)\n",
      "File \u001b[0;32m~/anaconda3/lib/python3.10/site-packages/torch/distributions/normal.py:77\u001b[0m, in \u001b[0;36mNormal.log_prob\u001b[0;34m(self, value)\u001b[0m\n\u001b[1;32m     75\u001b[0m \u001b[38;5;28;01mdef\u001b[39;00m \u001b[38;5;21mlog_prob\u001b[39m(\u001b[38;5;28mself\u001b[39m, value):\n\u001b[1;32m     76\u001b[0m     \u001b[38;5;28;01mif\u001b[39;00m \u001b[38;5;28mself\u001b[39m\u001b[38;5;241m.\u001b[39m_validate_args:\n\u001b[0;32m---> 77\u001b[0m         \u001b[38;5;28;43mself\u001b[39;49m\u001b[38;5;241;43m.\u001b[39;49m\u001b[43m_validate_sample\u001b[49m\u001b[43m(\u001b[49m\u001b[43mvalue\u001b[49m\u001b[43m)\u001b[49m\n\u001b[1;32m     78\u001b[0m     \u001b[38;5;66;03m# compute the variance\u001b[39;00m\n\u001b[1;32m     79\u001b[0m     var \u001b[38;5;241m=\u001b[39m (\u001b[38;5;28mself\u001b[39m\u001b[38;5;241m.\u001b[39mscale \u001b[38;5;241m*\u001b[39m\u001b[38;5;241m*\u001b[39m \u001b[38;5;241m2\u001b[39m)\n",
      "File \u001b[0;32m~/anaconda3/lib/python3.10/site-packages/torch/distributions/distribution.py:293\u001b[0m, in \u001b[0;36mDistribution._validate_sample\u001b[0;34m(self, value)\u001b[0m\n\u001b[1;32m    291\u001b[0m valid \u001b[38;5;241m=\u001b[39m support\u001b[38;5;241m.\u001b[39mcheck(value)\n\u001b[1;32m    292\u001b[0m \u001b[38;5;28;01mif\u001b[39;00m \u001b[38;5;129;01mnot\u001b[39;00m valid\u001b[38;5;241m.\u001b[39mall():\n\u001b[0;32m--> 293\u001b[0m     \u001b[38;5;28;01mraise\u001b[39;00m \u001b[38;5;167;01mValueError\u001b[39;00m(\n\u001b[1;32m    294\u001b[0m         \u001b[38;5;124m\"\u001b[39m\u001b[38;5;124mExpected value argument \u001b[39m\u001b[38;5;124m\"\u001b[39m\n\u001b[1;32m    295\u001b[0m         \u001b[38;5;124mf\u001b[39m\u001b[38;5;124m\"\u001b[39m\u001b[38;5;124m(\u001b[39m\u001b[38;5;132;01m{\u001b[39;00m\u001b[38;5;28mtype\u001b[39m(value)\u001b[38;5;241m.\u001b[39m\u001b[38;5;18m__name__\u001b[39m\u001b[38;5;132;01m}\u001b[39;00m\u001b[38;5;124m of shape \u001b[39m\u001b[38;5;132;01m{\u001b[39;00m\u001b[38;5;28mtuple\u001b[39m(value\u001b[38;5;241m.\u001b[39mshape)\u001b[38;5;132;01m}\u001b[39;00m\u001b[38;5;124m) \u001b[39m\u001b[38;5;124m\"\u001b[39m\n\u001b[1;32m    296\u001b[0m         \u001b[38;5;124mf\u001b[39m\u001b[38;5;124m\"\u001b[39m\u001b[38;5;124mto be within the support (\u001b[39m\u001b[38;5;132;01m{\u001b[39;00m\u001b[38;5;28mrepr\u001b[39m(support)\u001b[38;5;132;01m}\u001b[39;00m\u001b[38;5;124m) \u001b[39m\u001b[38;5;124m\"\u001b[39m\n\u001b[1;32m    297\u001b[0m         \u001b[38;5;124mf\u001b[39m\u001b[38;5;124m\"\u001b[39m\u001b[38;5;124mof the distribution \u001b[39m\u001b[38;5;132;01m{\u001b[39;00m\u001b[38;5;28mrepr\u001b[39m(\u001b[38;5;28mself\u001b[39m)\u001b[38;5;132;01m}\u001b[39;00m\u001b[38;5;124m, \u001b[39m\u001b[38;5;124m\"\u001b[39m\n\u001b[1;32m    298\u001b[0m         \u001b[38;5;124mf\u001b[39m\u001b[38;5;124m\"\u001b[39m\u001b[38;5;124mbut found invalid values:\u001b[39m\u001b[38;5;130;01m\\n\u001b[39;00m\u001b[38;5;132;01m{\u001b[39;00mvalue\u001b[38;5;132;01m}\u001b[39;00m\u001b[38;5;124m\"\u001b[39m\n\u001b[1;32m    299\u001b[0m     )\n",
      "\u001b[0;31mValueError\u001b[0m: Error while computing log_prob at site 'I_noisy':\nExpected value argument (Tensor of shape (3,)) to be within the support (Real()) of the distribution Normal(loc: torch.Size([3]), scale: torch.Size([3])), but found invalid values:\ntensor([15., nan, 20.])\n                               Trace Shapes:    \n                                Param Sites:    \nnumeric_initial_state_func$$$_nodes.2._value    \nnumeric_initial_state_func$$$_nodes.3._value    \nnumeric_initial_state_func$$$_nodes.4._value    \nnumeric_initial_state_func$$$_nodes.5._value    \n                               Sample Sites:    \n                        persistent_beta dist |  \n                                       value |  \n                                    log_prob |  \n                       persistent_gamma dist |  \n                                       value |  \n                                    log_prob |  \n                        persistent_hosp dist |  \n                                       value |  \n                                    log_prob |  \n                  persistent_death_hosp dist |  \n                                       value |  \n                                    log_prob |  \n                          persistent_I0 dist |  \n                                       value |  \n                                    log_prob |  \n                                H_noisy dist | 3\n                                       value | 3\n                                    log_prob |  \n                                I_noisy dist | 3\n                                       value | 3"
     ]
    }
   ],
   "source": [
    "# Calibrate fails when there is missing data (an empty string) in the dataset\n",
    "data_mapping = {\"case\": \"I\", \"hosp\": \"H\"} # data_mapping = \"column_name\": \"observable/state_variable\"\n",
    "calibrated_results = calibrate(petri2, dataset2, data_mapping=data_mapping)\n",
    "parameter_estimates = calibrated_results[0]\n",
    "calibrated_results"
   ]
  },
  {
   "cell_type": "code",
   "execution_count": 42,
   "id": "f13f8bfd",
   "metadata": {},
   "outputs": [
    {
     "ename": "ValueError",
     "evalue": "Error while computing log_prob at site 'I_noisy':\nExpected value argument (Tensor of shape (3,)) to be within the support (Real()) of the distribution Normal(loc: torch.Size([3]), scale: torch.Size([3])), but found invalid values:\ntensor([15., nan, 20.])\n                               Trace Shapes:    \n                                Param Sites:    \nnumeric_initial_state_func$$$_nodes.2._value    \nnumeric_initial_state_func$$$_nodes.3._value    \nnumeric_initial_state_func$$$_nodes.4._value    \nnumeric_initial_state_func$$$_nodes.5._value    \n                               Sample Sites:    \n                        persistent_beta dist |  \n                                       value |  \n                                    log_prob |  \n                       persistent_gamma dist |  \n                                       value |  \n                                    log_prob |  \n                        persistent_hosp dist |  \n                                       value |  \n                                    log_prob |  \n                  persistent_death_hosp dist |  \n                                       value |  \n                                    log_prob |  \n                          persistent_I0 dist |  \n                                       value |  \n                                    log_prob |  \n                                H_noisy dist | 3\n                                       value | 3\n                                    log_prob |  \n                                I_noisy dist | 3\n                                       value | 3",
     "output_type": "error",
     "traceback": [
      "\u001b[0;31m---------------------------------------------------------------------------\u001b[0m",
      "\u001b[0;31mValueError\u001b[0m                                Traceback (most recent call last)",
      "File \u001b[0;32m~/anaconda3/lib/python3.10/site-packages/pyro/poutine/trace_struct.py:230\u001b[0m, in \u001b[0;36mTrace.compute_log_prob\u001b[0;34m(self, site_filter)\u001b[0m\n\u001b[1;32m    229\u001b[0m \u001b[38;5;28;01mtry\u001b[39;00m:\n\u001b[0;32m--> 230\u001b[0m     log_p \u001b[38;5;241m=\u001b[39m \u001b[43msite\u001b[49m\u001b[43m[\u001b[49m\u001b[38;5;124;43m\"\u001b[39;49m\u001b[38;5;124;43mfn\u001b[39;49m\u001b[38;5;124;43m\"\u001b[39;49m\u001b[43m]\u001b[49m\u001b[38;5;241;43m.\u001b[39;49m\u001b[43mlog_prob\u001b[49m\u001b[43m(\u001b[49m\n\u001b[1;32m    231\u001b[0m \u001b[43m        \u001b[49m\u001b[43msite\u001b[49m\u001b[43m[\u001b[49m\u001b[38;5;124;43m\"\u001b[39;49m\u001b[38;5;124;43mvalue\u001b[39;49m\u001b[38;5;124;43m\"\u001b[39;49m\u001b[43m]\u001b[49m\u001b[43m,\u001b[49m\u001b[43m \u001b[49m\u001b[38;5;241;43m*\u001b[39;49m\u001b[43msite\u001b[49m\u001b[43m[\u001b[49m\u001b[38;5;124;43m\"\u001b[39;49m\u001b[38;5;124;43margs\u001b[39;49m\u001b[38;5;124;43m\"\u001b[39;49m\u001b[43m]\u001b[49m\u001b[43m,\u001b[49m\u001b[43m \u001b[49m\u001b[38;5;241;43m*\u001b[39;49m\u001b[38;5;241;43m*\u001b[39;49m\u001b[43msite\u001b[49m\u001b[43m[\u001b[49m\u001b[38;5;124;43m\"\u001b[39;49m\u001b[38;5;124;43mkwargs\u001b[39;49m\u001b[38;5;124;43m\"\u001b[39;49m\u001b[43m]\u001b[49m\n\u001b[1;32m    232\u001b[0m \u001b[43m    \u001b[49m\u001b[43m)\u001b[49m\n\u001b[1;32m    233\u001b[0m \u001b[38;5;28;01mexcept\u001b[39;00m \u001b[38;5;167;01mValueError\u001b[39;00m \u001b[38;5;28;01mas\u001b[39;00m e:\n",
      "File \u001b[0;32m~/anaconda3/lib/python3.10/site-packages/torch/distributions/independent.py:95\u001b[0m, in \u001b[0;36mIndependent.log_prob\u001b[0;34m(self, value)\u001b[0m\n\u001b[1;32m     94\u001b[0m \u001b[38;5;28;01mdef\u001b[39;00m \u001b[38;5;21mlog_prob\u001b[39m(\u001b[38;5;28mself\u001b[39m, value):\n\u001b[0;32m---> 95\u001b[0m     log_prob \u001b[38;5;241m=\u001b[39m \u001b[38;5;28;43mself\u001b[39;49m\u001b[38;5;241;43m.\u001b[39;49m\u001b[43mbase_dist\u001b[49m\u001b[38;5;241;43m.\u001b[39;49m\u001b[43mlog_prob\u001b[49m\u001b[43m(\u001b[49m\u001b[43mvalue\u001b[49m\u001b[43m)\u001b[49m\n\u001b[1;32m     96\u001b[0m     \u001b[38;5;28;01mreturn\u001b[39;00m _sum_rightmost(log_prob, \u001b[38;5;28mself\u001b[39m\u001b[38;5;241m.\u001b[39mreinterpreted_batch_ndims)\n",
      "File \u001b[0;32m~/anaconda3/lib/python3.10/site-packages/torch/distributions/normal.py:77\u001b[0m, in \u001b[0;36mNormal.log_prob\u001b[0;34m(self, value)\u001b[0m\n\u001b[1;32m     76\u001b[0m \u001b[38;5;28;01mif\u001b[39;00m \u001b[38;5;28mself\u001b[39m\u001b[38;5;241m.\u001b[39m_validate_args:\n\u001b[0;32m---> 77\u001b[0m     \u001b[38;5;28;43mself\u001b[39;49m\u001b[38;5;241;43m.\u001b[39;49m\u001b[43m_validate_sample\u001b[49m\u001b[43m(\u001b[49m\u001b[43mvalue\u001b[49m\u001b[43m)\u001b[49m\n\u001b[1;32m     78\u001b[0m \u001b[38;5;66;03m# compute the variance\u001b[39;00m\n",
      "File \u001b[0;32m~/anaconda3/lib/python3.10/site-packages/torch/distributions/distribution.py:293\u001b[0m, in \u001b[0;36mDistribution._validate_sample\u001b[0;34m(self, value)\u001b[0m\n\u001b[1;32m    292\u001b[0m \u001b[38;5;28;01mif\u001b[39;00m \u001b[38;5;129;01mnot\u001b[39;00m valid\u001b[38;5;241m.\u001b[39mall():\n\u001b[0;32m--> 293\u001b[0m     \u001b[38;5;28;01mraise\u001b[39;00m \u001b[38;5;167;01mValueError\u001b[39;00m(\n\u001b[1;32m    294\u001b[0m         \u001b[38;5;124m\"\u001b[39m\u001b[38;5;124mExpected value argument \u001b[39m\u001b[38;5;124m\"\u001b[39m\n\u001b[1;32m    295\u001b[0m         \u001b[38;5;124mf\u001b[39m\u001b[38;5;124m\"\u001b[39m\u001b[38;5;124m(\u001b[39m\u001b[38;5;132;01m{\u001b[39;00m\u001b[38;5;28mtype\u001b[39m(value)\u001b[38;5;241m.\u001b[39m\u001b[38;5;18m__name__\u001b[39m\u001b[38;5;132;01m}\u001b[39;00m\u001b[38;5;124m of shape \u001b[39m\u001b[38;5;132;01m{\u001b[39;00m\u001b[38;5;28mtuple\u001b[39m(value\u001b[38;5;241m.\u001b[39mshape)\u001b[38;5;132;01m}\u001b[39;00m\u001b[38;5;124m) \u001b[39m\u001b[38;5;124m\"\u001b[39m\n\u001b[1;32m    296\u001b[0m         \u001b[38;5;124mf\u001b[39m\u001b[38;5;124m\"\u001b[39m\u001b[38;5;124mto be within the support (\u001b[39m\u001b[38;5;132;01m{\u001b[39;00m\u001b[38;5;28mrepr\u001b[39m(support)\u001b[38;5;132;01m}\u001b[39;00m\u001b[38;5;124m) \u001b[39m\u001b[38;5;124m\"\u001b[39m\n\u001b[1;32m    297\u001b[0m         \u001b[38;5;124mf\u001b[39m\u001b[38;5;124m\"\u001b[39m\u001b[38;5;124mof the distribution \u001b[39m\u001b[38;5;132;01m{\u001b[39;00m\u001b[38;5;28mrepr\u001b[39m(\u001b[38;5;28mself\u001b[39m)\u001b[38;5;132;01m}\u001b[39;00m\u001b[38;5;124m, \u001b[39m\u001b[38;5;124m\"\u001b[39m\n\u001b[1;32m    298\u001b[0m         \u001b[38;5;124mf\u001b[39m\u001b[38;5;124m\"\u001b[39m\u001b[38;5;124mbut found invalid values:\u001b[39m\u001b[38;5;130;01m\\n\u001b[39;00m\u001b[38;5;132;01m{\u001b[39;00mvalue\u001b[38;5;132;01m}\u001b[39;00m\u001b[38;5;124m\"\u001b[39m\n\u001b[1;32m    299\u001b[0m     )\n",
      "\u001b[0;31mValueError\u001b[0m: Expected value argument (Tensor of shape (3,)) to be within the support (Real()) of the distribution Normal(loc: torch.Size([3]), scale: torch.Size([3])), but found invalid values:\ntensor([15., nan, 20.])",
      "\nThe above exception was the direct cause of the following exception:\n",
      "\u001b[0;31mValueError\u001b[0m                                Traceback (most recent call last)",
      "Cell \u001b[0;32mIn[42], line 2\u001b[0m\n\u001b[1;32m      1\u001b[0m data_mapping \u001b[38;5;241m=\u001b[39m {\u001b[38;5;124m\"\u001b[39m\u001b[38;5;124mcase\u001b[39m\u001b[38;5;124m\"\u001b[39m: \u001b[38;5;124m\"\u001b[39m\u001b[38;5;124mI\u001b[39m\u001b[38;5;124m\"\u001b[39m, \u001b[38;5;124m\"\u001b[39m\u001b[38;5;124mhosp\u001b[39m\u001b[38;5;124m\"\u001b[39m: \u001b[38;5;124m\"\u001b[39m\u001b[38;5;124mH\u001b[39m\u001b[38;5;124m\"\u001b[39m} \u001b[38;5;66;03m# data_mapping = \"column_name\": \"observable/state_variable\"\u001b[39;00m\n\u001b[0;32m----> 2\u001b[0m calibrated_results \u001b[38;5;241m=\u001b[39m \u001b[43mcalibrate\u001b[49m\u001b[43m(\u001b[49m\u001b[43mpetri2\u001b[49m\u001b[43m,\u001b[49m\u001b[43m \u001b[49m\u001b[43mdataset3\u001b[49m\u001b[43m,\u001b[49m\u001b[43m \u001b[49m\u001b[43mdata_mapping\u001b[49m\u001b[38;5;241;43m=\u001b[39;49m\u001b[43mdata_mapping\u001b[49m\u001b[43m)\u001b[49m\n\u001b[1;32m      3\u001b[0m parameter_estimates \u001b[38;5;241m=\u001b[39m calibrated_results[\u001b[38;5;241m0\u001b[39m]\n\u001b[1;32m      4\u001b[0m calibrated_results\n",
      "File \u001b[0;32m~/Projects/pyciemss/pyciemss/interfaces.py:495\u001b[0m, in \u001b[0;36mcalibrate\u001b[0;34m(model_path_or_json, data_path, data_mapping, noise_model, noise_model_kwargs, solver_method, solver_options, start_time, static_state_interventions, static_parameter_interventions, dynamic_state_interventions, dynamic_parameter_interventions, num_iterations, lr, verbose, num_particles, deterministic_learnable_parameters)\u001b[0m\n\u001b[1;32m    492\u001b[0m pyro\u001b[38;5;241m.\u001b[39mclear_param_store()\n\u001b[1;32m    494\u001b[0m \u001b[38;5;28;01mfor\u001b[39;00m i \u001b[38;5;129;01min\u001b[39;00m \u001b[38;5;28mrange\u001b[39m(num_iterations):\n\u001b[0;32m--> 495\u001b[0m     loss \u001b[38;5;241m=\u001b[39m \u001b[43msvi\u001b[49m\u001b[38;5;241;43m.\u001b[39;49m\u001b[43mstep\u001b[49m\u001b[43m(\u001b[49m\u001b[43m)\u001b[49m\n\u001b[1;32m    496\u001b[0m     \u001b[38;5;28;01mif\u001b[39;00m verbose:\n\u001b[1;32m    497\u001b[0m         \u001b[38;5;28;01mif\u001b[39;00m i \u001b[38;5;241m%\u001b[39m \u001b[38;5;241m25\u001b[39m \u001b[38;5;241m==\u001b[39m \u001b[38;5;241m0\u001b[39m:\n",
      "File \u001b[0;32m~/anaconda3/lib/python3.10/site-packages/pyro/infer/svi.py:145\u001b[0m, in \u001b[0;36mSVI.step\u001b[0;34m(self, *args, **kwargs)\u001b[0m\n\u001b[1;32m    143\u001b[0m \u001b[38;5;66;03m# get loss and compute gradients\u001b[39;00m\n\u001b[1;32m    144\u001b[0m \u001b[38;5;28;01mwith\u001b[39;00m poutine\u001b[38;5;241m.\u001b[39mtrace(param_only\u001b[38;5;241m=\u001b[39m\u001b[38;5;28;01mTrue\u001b[39;00m) \u001b[38;5;28;01mas\u001b[39;00m param_capture:\n\u001b[0;32m--> 145\u001b[0m     loss \u001b[38;5;241m=\u001b[39m \u001b[38;5;28;43mself\u001b[39;49m\u001b[38;5;241;43m.\u001b[39;49m\u001b[43mloss_and_grads\u001b[49m\u001b[43m(\u001b[49m\u001b[38;5;28;43mself\u001b[39;49m\u001b[38;5;241;43m.\u001b[39;49m\u001b[43mmodel\u001b[49m\u001b[43m,\u001b[49m\u001b[43m \u001b[49m\u001b[38;5;28;43mself\u001b[39;49m\u001b[38;5;241;43m.\u001b[39;49m\u001b[43mguide\u001b[49m\u001b[43m,\u001b[49m\u001b[43m \u001b[49m\u001b[38;5;241;43m*\u001b[39;49m\u001b[43margs\u001b[49m\u001b[43m,\u001b[49m\u001b[43m \u001b[49m\u001b[38;5;241;43m*\u001b[39;49m\u001b[38;5;241;43m*\u001b[39;49m\u001b[43mkwargs\u001b[49m\u001b[43m)\u001b[49m\n\u001b[1;32m    147\u001b[0m params \u001b[38;5;241m=\u001b[39m \u001b[38;5;28mset\u001b[39m(\n\u001b[1;32m    148\u001b[0m     site[\u001b[38;5;124m\"\u001b[39m\u001b[38;5;124mvalue\u001b[39m\u001b[38;5;124m\"\u001b[39m]\u001b[38;5;241m.\u001b[39munconstrained() \u001b[38;5;28;01mfor\u001b[39;00m site \u001b[38;5;129;01min\u001b[39;00m param_capture\u001b[38;5;241m.\u001b[39mtrace\u001b[38;5;241m.\u001b[39mnodes\u001b[38;5;241m.\u001b[39mvalues()\n\u001b[1;32m    149\u001b[0m )\n\u001b[1;32m    151\u001b[0m \u001b[38;5;66;03m# actually perform gradient steps\u001b[39;00m\n\u001b[1;32m    152\u001b[0m \u001b[38;5;66;03m# torch.optim objects gets instantiated for any params that haven't been seen yet\u001b[39;00m\n",
      "File \u001b[0;32m~/anaconda3/lib/python3.10/site-packages/pyro/infer/trace_elbo.py:140\u001b[0m, in \u001b[0;36mTrace_ELBO.loss_and_grads\u001b[0;34m(self, model, guide, *args, **kwargs)\u001b[0m\n\u001b[1;32m    138\u001b[0m loss \u001b[38;5;241m=\u001b[39m \u001b[38;5;241m0.0\u001b[39m\n\u001b[1;32m    139\u001b[0m \u001b[38;5;66;03m# grab a trace from the generator\u001b[39;00m\n\u001b[0;32m--> 140\u001b[0m \u001b[38;5;28;01mfor\u001b[39;00m model_trace, guide_trace \u001b[38;5;129;01min\u001b[39;00m \u001b[38;5;28mself\u001b[39m\u001b[38;5;241m.\u001b[39m_get_traces(model, guide, args, kwargs):\n\u001b[1;32m    141\u001b[0m     loss_particle, surrogate_loss_particle \u001b[38;5;241m=\u001b[39m \u001b[38;5;28mself\u001b[39m\u001b[38;5;241m.\u001b[39m_differentiable_loss_particle(\n\u001b[1;32m    142\u001b[0m         model_trace, guide_trace\n\u001b[1;32m    143\u001b[0m     )\n\u001b[1;32m    144\u001b[0m     loss \u001b[38;5;241m+\u001b[39m\u001b[38;5;241m=\u001b[39m loss_particle \u001b[38;5;241m/\u001b[39m \u001b[38;5;28mself\u001b[39m\u001b[38;5;241m.\u001b[39mnum_particles\n",
      "File \u001b[0;32m~/anaconda3/lib/python3.10/site-packages/pyro/infer/elbo.py:237\u001b[0m, in \u001b[0;36mELBO._get_traces\u001b[0;34m(self, model, guide, args, kwargs)\u001b[0m\n\u001b[1;32m    235\u001b[0m \u001b[38;5;28;01melse\u001b[39;00m:\n\u001b[1;32m    236\u001b[0m     \u001b[38;5;28;01mfor\u001b[39;00m i \u001b[38;5;129;01min\u001b[39;00m \u001b[38;5;28mrange\u001b[39m(\u001b[38;5;28mself\u001b[39m\u001b[38;5;241m.\u001b[39mnum_particles):\n\u001b[0;32m--> 237\u001b[0m         \u001b[38;5;28;01myield\u001b[39;00m \u001b[38;5;28;43mself\u001b[39;49m\u001b[38;5;241;43m.\u001b[39;49m\u001b[43m_get_trace\u001b[49m\u001b[43m(\u001b[49m\u001b[43mmodel\u001b[49m\u001b[43m,\u001b[49m\u001b[43m \u001b[49m\u001b[43mguide\u001b[49m\u001b[43m,\u001b[49m\u001b[43m \u001b[49m\u001b[43margs\u001b[49m\u001b[43m,\u001b[49m\u001b[43m \u001b[49m\u001b[43mkwargs\u001b[49m\u001b[43m)\u001b[49m\n",
      "File \u001b[0;32m~/anaconda3/lib/python3.10/site-packages/pyro/infer/trace_elbo.py:57\u001b[0m, in \u001b[0;36mTrace_ELBO._get_trace\u001b[0;34m(self, model, guide, args, kwargs)\u001b[0m\n\u001b[1;32m     52\u001b[0m \u001b[38;5;28;01mdef\u001b[39;00m \u001b[38;5;21m_get_trace\u001b[39m(\u001b[38;5;28mself\u001b[39m, model, guide, args, kwargs):\n\u001b[1;32m     53\u001b[0m     \u001b[38;5;124;03m\"\"\"\u001b[39;00m\n\u001b[1;32m     54\u001b[0m \u001b[38;5;124;03m    Returns a single trace from the guide, and the model that is run\u001b[39;00m\n\u001b[1;32m     55\u001b[0m \u001b[38;5;124;03m    against it.\u001b[39;00m\n\u001b[1;32m     56\u001b[0m \u001b[38;5;124;03m    \"\"\"\u001b[39;00m\n\u001b[0;32m---> 57\u001b[0m     model_trace, guide_trace \u001b[38;5;241m=\u001b[39m \u001b[43mget_importance_trace\u001b[49m\u001b[43m(\u001b[49m\n\u001b[1;32m     58\u001b[0m \u001b[43m        \u001b[49m\u001b[38;5;124;43m\"\u001b[39;49m\u001b[38;5;124;43mflat\u001b[39;49m\u001b[38;5;124;43m\"\u001b[39;49m\u001b[43m,\u001b[49m\u001b[43m \u001b[49m\u001b[38;5;28;43mself\u001b[39;49m\u001b[38;5;241;43m.\u001b[39;49m\u001b[43mmax_plate_nesting\u001b[49m\u001b[43m,\u001b[49m\u001b[43m \u001b[49m\u001b[43mmodel\u001b[49m\u001b[43m,\u001b[49m\u001b[43m \u001b[49m\u001b[43mguide\u001b[49m\u001b[43m,\u001b[49m\u001b[43m \u001b[49m\u001b[43margs\u001b[49m\u001b[43m,\u001b[49m\u001b[43m \u001b[49m\u001b[43mkwargs\u001b[49m\n\u001b[1;32m     59\u001b[0m \u001b[43m    \u001b[49m\u001b[43m)\u001b[49m\n\u001b[1;32m     60\u001b[0m     \u001b[38;5;28;01mif\u001b[39;00m is_validation_enabled():\n\u001b[1;32m     61\u001b[0m         check_if_enumerated(guide_trace)\n",
      "File \u001b[0;32m~/anaconda3/lib/python3.10/site-packages/pyro/infer/enum.py:75\u001b[0m, in \u001b[0;36mget_importance_trace\u001b[0;34m(graph_type, max_plate_nesting, model, guide, args, kwargs, detach)\u001b[0m\n\u001b[1;32m     72\u001b[0m guide_trace \u001b[38;5;241m=\u001b[39m prune_subsample_sites(guide_trace)\n\u001b[1;32m     73\u001b[0m model_trace \u001b[38;5;241m=\u001b[39m prune_subsample_sites(model_trace)\n\u001b[0;32m---> 75\u001b[0m \u001b[43mmodel_trace\u001b[49m\u001b[38;5;241;43m.\u001b[39;49m\u001b[43mcompute_log_prob\u001b[49m\u001b[43m(\u001b[49m\u001b[43m)\u001b[49m\n\u001b[1;32m     76\u001b[0m guide_trace\u001b[38;5;241m.\u001b[39mcompute_score_parts()\n\u001b[1;32m     77\u001b[0m \u001b[38;5;28;01mif\u001b[39;00m is_validation_enabled():\n",
      "File \u001b[0;32m~/anaconda3/lib/python3.10/site-packages/pyro/poutine/trace_struct.py:236\u001b[0m, in \u001b[0;36mTrace.compute_log_prob\u001b[0;34m(self, site_filter)\u001b[0m\n\u001b[1;32m    234\u001b[0m     _, exc_value, traceback \u001b[38;5;241m=\u001b[39m sys\u001b[38;5;241m.\u001b[39mexc_info()\n\u001b[1;32m    235\u001b[0m     shapes \u001b[38;5;241m=\u001b[39m \u001b[38;5;28mself\u001b[39m\u001b[38;5;241m.\u001b[39mformat_shapes(last_site\u001b[38;5;241m=\u001b[39msite[\u001b[38;5;124m\"\u001b[39m\u001b[38;5;124mname\u001b[39m\u001b[38;5;124m\"\u001b[39m])\n\u001b[0;32m--> 236\u001b[0m     \u001b[38;5;28;01mraise\u001b[39;00m \u001b[38;5;167;01mValueError\u001b[39;00m(\n\u001b[1;32m    237\u001b[0m         \u001b[38;5;124m\"\u001b[39m\u001b[38;5;124mError while computing log_prob at site \u001b[39m\u001b[38;5;124m'\u001b[39m\u001b[38;5;132;01m{}\u001b[39;00m\u001b[38;5;124m'\u001b[39m\u001b[38;5;124m:\u001b[39m\u001b[38;5;130;01m\\n\u001b[39;00m\u001b[38;5;132;01m{}\u001b[39;00m\u001b[38;5;130;01m\\n\u001b[39;00m\u001b[38;5;132;01m{}\u001b[39;00m\u001b[38;5;124m\"\u001b[39m\u001b[38;5;241m.\u001b[39mformat(\n\u001b[1;32m    238\u001b[0m             name, exc_value, shapes\n\u001b[1;32m    239\u001b[0m         )\n\u001b[1;32m    240\u001b[0m     )\u001b[38;5;241m.\u001b[39mwith_traceback(traceback) \u001b[38;5;28;01mfrom\u001b[39;00m \u001b[38;5;21;01me\u001b[39;00m\n\u001b[1;32m    241\u001b[0m site[\u001b[38;5;124m\"\u001b[39m\u001b[38;5;124munscaled_log_prob\u001b[39m\u001b[38;5;124m\"\u001b[39m] \u001b[38;5;241m=\u001b[39m log_p\n\u001b[1;32m    242\u001b[0m log_p \u001b[38;5;241m=\u001b[39m scale_and_mask(log_p, site[\u001b[38;5;124m\"\u001b[39m\u001b[38;5;124mscale\u001b[39m\u001b[38;5;124m\"\u001b[39m], site[\u001b[38;5;124m\"\u001b[39m\u001b[38;5;124mmask\u001b[39m\u001b[38;5;124m\"\u001b[39m])\n",
      "File \u001b[0;32m~/anaconda3/lib/python3.10/site-packages/pyro/poutine/trace_struct.py:230\u001b[0m, in \u001b[0;36mTrace.compute_log_prob\u001b[0;34m(self, site_filter)\u001b[0m\n\u001b[1;32m    228\u001b[0m \u001b[38;5;28;01mif\u001b[39;00m \u001b[38;5;124m\"\u001b[39m\u001b[38;5;124mlog_prob\u001b[39m\u001b[38;5;124m\"\u001b[39m \u001b[38;5;129;01mnot\u001b[39;00m \u001b[38;5;129;01min\u001b[39;00m site:\n\u001b[1;32m    229\u001b[0m     \u001b[38;5;28;01mtry\u001b[39;00m:\n\u001b[0;32m--> 230\u001b[0m         log_p \u001b[38;5;241m=\u001b[39m \u001b[43msite\u001b[49m\u001b[43m[\u001b[49m\u001b[38;5;124;43m\"\u001b[39;49m\u001b[38;5;124;43mfn\u001b[39;49m\u001b[38;5;124;43m\"\u001b[39;49m\u001b[43m]\u001b[49m\u001b[38;5;241;43m.\u001b[39;49m\u001b[43mlog_prob\u001b[49m\u001b[43m(\u001b[49m\n\u001b[1;32m    231\u001b[0m \u001b[43m            \u001b[49m\u001b[43msite\u001b[49m\u001b[43m[\u001b[49m\u001b[38;5;124;43m\"\u001b[39;49m\u001b[38;5;124;43mvalue\u001b[39;49m\u001b[38;5;124;43m\"\u001b[39;49m\u001b[43m]\u001b[49m\u001b[43m,\u001b[49m\u001b[43m \u001b[49m\u001b[38;5;241;43m*\u001b[39;49m\u001b[43msite\u001b[49m\u001b[43m[\u001b[49m\u001b[38;5;124;43m\"\u001b[39;49m\u001b[38;5;124;43margs\u001b[39;49m\u001b[38;5;124;43m\"\u001b[39;49m\u001b[43m]\u001b[49m\u001b[43m,\u001b[49m\u001b[43m \u001b[49m\u001b[38;5;241;43m*\u001b[39;49m\u001b[38;5;241;43m*\u001b[39;49m\u001b[43msite\u001b[49m\u001b[43m[\u001b[49m\u001b[38;5;124;43m\"\u001b[39;49m\u001b[38;5;124;43mkwargs\u001b[39;49m\u001b[38;5;124;43m\"\u001b[39;49m\u001b[43m]\u001b[49m\n\u001b[1;32m    232\u001b[0m \u001b[43m        \u001b[49m\u001b[43m)\u001b[49m\n\u001b[1;32m    233\u001b[0m     \u001b[38;5;28;01mexcept\u001b[39;00m \u001b[38;5;167;01mValueError\u001b[39;00m \u001b[38;5;28;01mas\u001b[39;00m e:\n\u001b[1;32m    234\u001b[0m         _, exc_value, traceback \u001b[38;5;241m=\u001b[39m sys\u001b[38;5;241m.\u001b[39mexc_info()\n",
      "File \u001b[0;32m~/anaconda3/lib/python3.10/site-packages/torch/distributions/independent.py:95\u001b[0m, in \u001b[0;36mIndependent.log_prob\u001b[0;34m(self, value)\u001b[0m\n\u001b[1;32m     94\u001b[0m \u001b[38;5;28;01mdef\u001b[39;00m \u001b[38;5;21mlog_prob\u001b[39m(\u001b[38;5;28mself\u001b[39m, value):\n\u001b[0;32m---> 95\u001b[0m     log_prob \u001b[38;5;241m=\u001b[39m \u001b[38;5;28;43mself\u001b[39;49m\u001b[38;5;241;43m.\u001b[39;49m\u001b[43mbase_dist\u001b[49m\u001b[38;5;241;43m.\u001b[39;49m\u001b[43mlog_prob\u001b[49m\u001b[43m(\u001b[49m\u001b[43mvalue\u001b[49m\u001b[43m)\u001b[49m\n\u001b[1;32m     96\u001b[0m     \u001b[38;5;28;01mreturn\u001b[39;00m _sum_rightmost(log_prob, \u001b[38;5;28mself\u001b[39m\u001b[38;5;241m.\u001b[39mreinterpreted_batch_ndims)\n",
      "File \u001b[0;32m~/anaconda3/lib/python3.10/site-packages/torch/distributions/normal.py:77\u001b[0m, in \u001b[0;36mNormal.log_prob\u001b[0;34m(self, value)\u001b[0m\n\u001b[1;32m     75\u001b[0m \u001b[38;5;28;01mdef\u001b[39;00m \u001b[38;5;21mlog_prob\u001b[39m(\u001b[38;5;28mself\u001b[39m, value):\n\u001b[1;32m     76\u001b[0m     \u001b[38;5;28;01mif\u001b[39;00m \u001b[38;5;28mself\u001b[39m\u001b[38;5;241m.\u001b[39m_validate_args:\n\u001b[0;32m---> 77\u001b[0m         \u001b[38;5;28;43mself\u001b[39;49m\u001b[38;5;241;43m.\u001b[39;49m\u001b[43m_validate_sample\u001b[49m\u001b[43m(\u001b[49m\u001b[43mvalue\u001b[49m\u001b[43m)\u001b[49m\n\u001b[1;32m     78\u001b[0m     \u001b[38;5;66;03m# compute the variance\u001b[39;00m\n\u001b[1;32m     79\u001b[0m     var \u001b[38;5;241m=\u001b[39m (\u001b[38;5;28mself\u001b[39m\u001b[38;5;241m.\u001b[39mscale \u001b[38;5;241m*\u001b[39m\u001b[38;5;241m*\u001b[39m \u001b[38;5;241m2\u001b[39m)\n",
      "File \u001b[0;32m~/anaconda3/lib/python3.10/site-packages/torch/distributions/distribution.py:293\u001b[0m, in \u001b[0;36mDistribution._validate_sample\u001b[0;34m(self, value)\u001b[0m\n\u001b[1;32m    291\u001b[0m valid \u001b[38;5;241m=\u001b[39m support\u001b[38;5;241m.\u001b[39mcheck(value)\n\u001b[1;32m    292\u001b[0m \u001b[38;5;28;01mif\u001b[39;00m \u001b[38;5;129;01mnot\u001b[39;00m valid\u001b[38;5;241m.\u001b[39mall():\n\u001b[0;32m--> 293\u001b[0m     \u001b[38;5;28;01mraise\u001b[39;00m \u001b[38;5;167;01mValueError\u001b[39;00m(\n\u001b[1;32m    294\u001b[0m         \u001b[38;5;124m\"\u001b[39m\u001b[38;5;124mExpected value argument \u001b[39m\u001b[38;5;124m\"\u001b[39m\n\u001b[1;32m    295\u001b[0m         \u001b[38;5;124mf\u001b[39m\u001b[38;5;124m\"\u001b[39m\u001b[38;5;124m(\u001b[39m\u001b[38;5;132;01m{\u001b[39;00m\u001b[38;5;28mtype\u001b[39m(value)\u001b[38;5;241m.\u001b[39m\u001b[38;5;18m__name__\u001b[39m\u001b[38;5;132;01m}\u001b[39;00m\u001b[38;5;124m of shape \u001b[39m\u001b[38;5;132;01m{\u001b[39;00m\u001b[38;5;28mtuple\u001b[39m(value\u001b[38;5;241m.\u001b[39mshape)\u001b[38;5;132;01m}\u001b[39;00m\u001b[38;5;124m) \u001b[39m\u001b[38;5;124m\"\u001b[39m\n\u001b[1;32m    296\u001b[0m         \u001b[38;5;124mf\u001b[39m\u001b[38;5;124m\"\u001b[39m\u001b[38;5;124mto be within the support (\u001b[39m\u001b[38;5;132;01m{\u001b[39;00m\u001b[38;5;28mrepr\u001b[39m(support)\u001b[38;5;132;01m}\u001b[39;00m\u001b[38;5;124m) \u001b[39m\u001b[38;5;124m\"\u001b[39m\n\u001b[1;32m    297\u001b[0m         \u001b[38;5;124mf\u001b[39m\u001b[38;5;124m\"\u001b[39m\u001b[38;5;124mof the distribution \u001b[39m\u001b[38;5;132;01m{\u001b[39;00m\u001b[38;5;28mrepr\u001b[39m(\u001b[38;5;28mself\u001b[39m)\u001b[38;5;132;01m}\u001b[39;00m\u001b[38;5;124m, \u001b[39m\u001b[38;5;124m\"\u001b[39m\n\u001b[1;32m    298\u001b[0m         \u001b[38;5;124mf\u001b[39m\u001b[38;5;124m\"\u001b[39m\u001b[38;5;124mbut found invalid values:\u001b[39m\u001b[38;5;130;01m\\n\u001b[39;00m\u001b[38;5;132;01m{\u001b[39;00mvalue\u001b[38;5;132;01m}\u001b[39;00m\u001b[38;5;124m\"\u001b[39m\n\u001b[1;32m    299\u001b[0m     )\n",
      "\u001b[0;31mValueError\u001b[0m: Error while computing log_prob at site 'I_noisy':\nExpected value argument (Tensor of shape (3,)) to be within the support (Real()) of the distribution Normal(loc: torch.Size([3]), scale: torch.Size([3])), but found invalid values:\ntensor([15., nan, 20.])\n                               Trace Shapes:    \n                                Param Sites:    \nnumeric_initial_state_func$$$_nodes.2._value    \nnumeric_initial_state_func$$$_nodes.3._value    \nnumeric_initial_state_func$$$_nodes.4._value    \nnumeric_initial_state_func$$$_nodes.5._value    \n                               Sample Sites:    \n                        persistent_beta dist |  \n                                       value |  \n                                    log_prob |  \n                       persistent_gamma dist |  \n                                       value |  \n                                    log_prob |  \n                        persistent_hosp dist |  \n                                       value |  \n                                    log_prob |  \n                  persistent_death_hosp dist |  \n                                       value |  \n                                    log_prob |  \n                          persistent_I0 dist |  \n                                       value |  \n                                    log_prob |  \n                                H_noisy dist | 3\n                                       value | 3\n                                    log_prob |  \n                                I_noisy dist | 3\n                                       value | 3"
     ]
    }
   ],
   "source": [
    "# Calibrate fails when there is a NaN value in the dataset\n",
    "data_mapping = {\"case\": \"I\", \"hosp\": \"H\"} # data_mapping = \"column_name\": \"observable/state_variable\"\n",
    "calibrated_results = calibrate(petri2, dataset3, data_mapping=data_mapping)\n",
    "parameter_estimates = calibrated_results[0]\n",
    "calibrated_results"
   ]
  },
  {
   "cell_type": "code",
   "execution_count": 43,
   "id": "624ca608",
   "metadata": {},
   "outputs": [
    {
     "ename": "TypeError",
     "evalue": "can't convert np.ndarray of type numpy.object_. The only supported types are: float64, float32, float16, complex64, complex128, int64, int32, int16, int8, uint8, and bool.",
     "output_type": "error",
     "traceback": [
      "\u001b[0;31m---------------------------------------------------------------------------\u001b[0m",
      "\u001b[0;31mTypeError\u001b[0m                                 Traceback (most recent call last)",
      "Cell \u001b[0;32mIn[43], line 2\u001b[0m\n\u001b[1;32m      1\u001b[0m data_mapping \u001b[38;5;241m=\u001b[39m {\u001b[38;5;124m\"\u001b[39m\u001b[38;5;124mcase\u001b[39m\u001b[38;5;124m\"\u001b[39m: \u001b[38;5;124m\"\u001b[39m\u001b[38;5;124mI\u001b[39m\u001b[38;5;124m\"\u001b[39m, \u001b[38;5;124m\"\u001b[39m\u001b[38;5;124mhosp\u001b[39m\u001b[38;5;124m\"\u001b[39m: \u001b[38;5;124m\"\u001b[39m\u001b[38;5;124mH\u001b[39m\u001b[38;5;124m\"\u001b[39m} \u001b[38;5;66;03m# data_mapping = \"column_name\": \"observable/state_variable\"\u001b[39;00m\n\u001b[0;32m----> 2\u001b[0m calibrated_results \u001b[38;5;241m=\u001b[39m \u001b[43mcalibrate\u001b[49m\u001b[43m(\u001b[49m\u001b[43mpetri2\u001b[49m\u001b[43m,\u001b[49m\u001b[43m \u001b[49m\u001b[43mdataset4\u001b[49m\u001b[43m,\u001b[49m\u001b[43m \u001b[49m\u001b[43mdata_mapping\u001b[49m\u001b[38;5;241;43m=\u001b[39;49m\u001b[43mdata_mapping\u001b[49m\u001b[43m)\u001b[49m\n\u001b[1;32m      3\u001b[0m parameter_estimates \u001b[38;5;241m=\u001b[39m calibrated_results[\u001b[38;5;241m0\u001b[39m]\n\u001b[1;32m      4\u001b[0m calibrated_results\n",
      "File \u001b[0;32m~/Projects/pyciemss/pyciemss/interfaces.py:414\u001b[0m, in \u001b[0;36mcalibrate\u001b[0;34m(model_path_or_json, data_path, data_mapping, noise_model, noise_model_kwargs, solver_method, solver_options, start_time, static_state_interventions, static_parameter_interventions, dynamic_state_interventions, dynamic_parameter_interventions, num_iterations, lr, verbose, num_particles, deterministic_learnable_parameters)\u001b[0m\n\u001b[1;32m    410\u001b[0m pyro\u001b[38;5;241m.\u001b[39mclear_param_store()\n\u001b[1;32m    412\u001b[0m model \u001b[38;5;241m=\u001b[39m CompiledDynamics\u001b[38;5;241m.\u001b[39mload(model_path_or_json)\n\u001b[0;32m--> 414\u001b[0m data_timepoints, data \u001b[38;5;241m=\u001b[39m \u001b[43mload_data\u001b[49m\u001b[43m(\u001b[49m\u001b[43mdata_path\u001b[49m\u001b[43m,\u001b[49m\u001b[43m \u001b[49m\u001b[43mdata_mapping\u001b[49m\u001b[38;5;241;43m=\u001b[39;49m\u001b[43mdata_mapping\u001b[49m\u001b[43m)\u001b[49m\n\u001b[1;32m    416\u001b[0m \u001b[38;5;28;01mdef\u001b[39;00m \u001b[38;5;21mautoguide\u001b[39m(model):\n\u001b[1;32m    417\u001b[0m     guide \u001b[38;5;241m=\u001b[39m pyro\u001b[38;5;241m.\u001b[39minfer\u001b[38;5;241m.\u001b[39mautoguide\u001b[38;5;241m.\u001b[39mAutoGuideList(model)\n",
      "File \u001b[0;32m~/Projects/pyciemss/pyciemss/integration_utils/observation.py:34\u001b[0m, in \u001b[0;36mload_data\u001b[0;34m(path, data_mapping)\u001b[0m\n\u001b[1;32m     31\u001b[0m     \u001b[38;5;28;01mcontinue\u001b[39;00m\n\u001b[1;32m     33\u001b[0m \u001b[38;5;28;01mif\u001b[39;00m col \u001b[38;5;129;01min\u001b[39;00m data_mapping:\n\u001b[0;32m---> 34\u001b[0m     data[data_mapping[col]] \u001b[38;5;241m=\u001b[39m \u001b[43mtorch\u001b[49m\u001b[38;5;241;43m.\u001b[39;49m\u001b[43mtensor\u001b[49m\u001b[43m(\u001b[49m\u001b[43mdf\u001b[49m\u001b[43m[\u001b[49m\u001b[43mcol\u001b[49m\u001b[43m]\u001b[49m\u001b[38;5;241;43m.\u001b[39;49m\u001b[43mvalues\u001b[49m\u001b[43m,\u001b[49m\u001b[43m \u001b[49m\u001b[43mdtype\u001b[49m\u001b[38;5;241;43m=\u001b[39;49m\u001b[43mtorch\u001b[49m\u001b[38;5;241;43m.\u001b[39;49m\u001b[43mfloat32\u001b[49m\u001b[43m)\u001b[49m\n\u001b[1;32m     35\u001b[0m \u001b[38;5;28;01melse\u001b[39;00m:\n\u001b[1;32m     36\u001b[0m     data[col] \u001b[38;5;241m=\u001b[39m torch\u001b[38;5;241m.\u001b[39mtensor(df[col]\u001b[38;5;241m.\u001b[39mvalues, dtype\u001b[38;5;241m=\u001b[39mtorch\u001b[38;5;241m.\u001b[39mfloat32)\n",
      "\u001b[0;31mTypeError\u001b[0m: can't convert np.ndarray of type numpy.object_. The only supported types are: float64, float32, float16, complex64, complex128, int64, int32, int16, int8, uint8, and bool."
     ]
    }
   ],
   "source": [
    "# Calibrate fails when there is a space ' ' in the dataset\n",
    "data_mapping = {\"case\": \"I\", \"hosp\": \"H\"} # data_mapping = \"column_name\": \"observable/state_variable\"\n",
    "calibrated_results = calibrate(petri2, dataset4, data_mapping=data_mapping)\n",
    "parameter_estimates = calibrated_results[0]\n",
    "calibrated_results"
   ]
  },
  {
   "cell_type": "code",
   "execution_count": 44,
   "id": "8298f1f2",
   "metadata": {},
   "outputs": [
    {
     "ename": "TypeError",
     "evalue": "can't convert np.ndarray of type numpy.object_. The only supported types are: float64, float32, float16, complex64, complex128, int64, int32, int16, int8, uint8, and bool.",
     "output_type": "error",
     "traceback": [
      "\u001b[0;31m---------------------------------------------------------------------------\u001b[0m",
      "\u001b[0;31mTypeError\u001b[0m                                 Traceback (most recent call last)",
      "Cell \u001b[0;32mIn[44], line 2\u001b[0m\n\u001b[1;32m      1\u001b[0m data_mapping \u001b[38;5;241m=\u001b[39m {\u001b[38;5;124m\"\u001b[39m\u001b[38;5;124mcase\u001b[39m\u001b[38;5;124m\"\u001b[39m: \u001b[38;5;124m\"\u001b[39m\u001b[38;5;124mI\u001b[39m\u001b[38;5;124m\"\u001b[39m, \u001b[38;5;124m\"\u001b[39m\u001b[38;5;124mhosp\u001b[39m\u001b[38;5;124m\"\u001b[39m: \u001b[38;5;124m\"\u001b[39m\u001b[38;5;124mH\u001b[39m\u001b[38;5;124m\"\u001b[39m} \u001b[38;5;66;03m# data_mapping = \"column_name\": \"observable/state_variable\"\u001b[39;00m\n\u001b[0;32m----> 2\u001b[0m calibrated_results \u001b[38;5;241m=\u001b[39m \u001b[43mcalibrate\u001b[49m\u001b[43m(\u001b[49m\u001b[43mpetri2\u001b[49m\u001b[43m,\u001b[49m\u001b[43m \u001b[49m\u001b[43mdataset5\u001b[49m\u001b[43m,\u001b[49m\u001b[43m \u001b[49m\u001b[43mdata_mapping\u001b[49m\u001b[38;5;241;43m=\u001b[39;49m\u001b[43mdata_mapping\u001b[49m\u001b[43m)\u001b[49m\n\u001b[1;32m      3\u001b[0m parameter_estimates \u001b[38;5;241m=\u001b[39m calibrated_results[\u001b[38;5;241m0\u001b[39m]\n\u001b[1;32m      4\u001b[0m calibrated_results\n",
      "File \u001b[0;32m~/Projects/pyciemss/pyciemss/interfaces.py:414\u001b[0m, in \u001b[0;36mcalibrate\u001b[0;34m(model_path_or_json, data_path, data_mapping, noise_model, noise_model_kwargs, solver_method, solver_options, start_time, static_state_interventions, static_parameter_interventions, dynamic_state_interventions, dynamic_parameter_interventions, num_iterations, lr, verbose, num_particles, deterministic_learnable_parameters)\u001b[0m\n\u001b[1;32m    410\u001b[0m pyro\u001b[38;5;241m.\u001b[39mclear_param_store()\n\u001b[1;32m    412\u001b[0m model \u001b[38;5;241m=\u001b[39m CompiledDynamics\u001b[38;5;241m.\u001b[39mload(model_path_or_json)\n\u001b[0;32m--> 414\u001b[0m data_timepoints, data \u001b[38;5;241m=\u001b[39m \u001b[43mload_data\u001b[49m\u001b[43m(\u001b[49m\u001b[43mdata_path\u001b[49m\u001b[43m,\u001b[49m\u001b[43m \u001b[49m\u001b[43mdata_mapping\u001b[49m\u001b[38;5;241;43m=\u001b[39;49m\u001b[43mdata_mapping\u001b[49m\u001b[43m)\u001b[49m\n\u001b[1;32m    416\u001b[0m \u001b[38;5;28;01mdef\u001b[39;00m \u001b[38;5;21mautoguide\u001b[39m(model):\n\u001b[1;32m    417\u001b[0m     guide \u001b[38;5;241m=\u001b[39m pyro\u001b[38;5;241m.\u001b[39minfer\u001b[38;5;241m.\u001b[39mautoguide\u001b[38;5;241m.\u001b[39mAutoGuideList(model)\n",
      "File \u001b[0;32m~/Projects/pyciemss/pyciemss/integration_utils/observation.py:34\u001b[0m, in \u001b[0;36mload_data\u001b[0;34m(path, data_mapping)\u001b[0m\n\u001b[1;32m     31\u001b[0m     \u001b[38;5;28;01mcontinue\u001b[39;00m\n\u001b[1;32m     33\u001b[0m \u001b[38;5;28;01mif\u001b[39;00m col \u001b[38;5;129;01min\u001b[39;00m data_mapping:\n\u001b[0;32m---> 34\u001b[0m     data[data_mapping[col]] \u001b[38;5;241m=\u001b[39m \u001b[43mtorch\u001b[49m\u001b[38;5;241;43m.\u001b[39;49m\u001b[43mtensor\u001b[49m\u001b[43m(\u001b[49m\u001b[43mdf\u001b[49m\u001b[43m[\u001b[49m\u001b[43mcol\u001b[49m\u001b[43m]\u001b[49m\u001b[38;5;241;43m.\u001b[39;49m\u001b[43mvalues\u001b[49m\u001b[43m,\u001b[49m\u001b[43m \u001b[49m\u001b[43mdtype\u001b[49m\u001b[38;5;241;43m=\u001b[39;49m\u001b[43mtorch\u001b[49m\u001b[38;5;241;43m.\u001b[39;49m\u001b[43mfloat32\u001b[49m\u001b[43m)\u001b[49m\n\u001b[1;32m     35\u001b[0m \u001b[38;5;28;01melse\u001b[39;00m:\n\u001b[1;32m     36\u001b[0m     data[col] \u001b[38;5;241m=\u001b[39m torch\u001b[38;5;241m.\u001b[39mtensor(df[col]\u001b[38;5;241m.\u001b[39mvalues, dtype\u001b[38;5;241m=\u001b[39mtorch\u001b[38;5;241m.\u001b[39mfloat32)\n",
      "\u001b[0;31mTypeError\u001b[0m: can't convert np.ndarray of type numpy.object_. The only supported types are: float64, float32, float16, complex64, complex128, int64, int32, int16, int8, uint8, and bool."
     ]
    }
   ],
   "source": [
    "# Calibrate fails when there is None type in the dataset\n",
    "data_mapping = {\"case\": \"I\", \"hosp\": \"H\"} # data_mapping = \"column_name\": \"observable/state_variable\"\n",
    "calibrated_results = calibrate(petri2, dataset5, data_mapping=data_mapping)\n",
    "parameter_estimates = calibrated_results[0]\n",
    "calibrated_results"
   ]
  },
  {
   "cell_type": "code",
   "execution_count": null,
   "id": "23f11ae9",
   "metadata": {},
   "outputs": [],
   "source": []
  },
  {
   "cell_type": "markdown",
   "id": "95a08931",
   "metadata": {},
   "source": [
    "### (2) Incorrectly typed columns"
   ]
  },
  {
   "cell_type": "code",
   "execution_count": null,
   "id": "284c95a4",
   "metadata": {},
   "outputs": [],
   "source": []
  },
  {
   "cell_type": "markdown",
   "id": "5b32a953",
   "metadata": {},
   "source": [
    "### (3) Mislabeled columns"
   ]
  },
  {
   "cell_type": "code",
   "execution_count": null,
   "id": "fb54630e",
   "metadata": {},
   "outputs": [],
   "source": []
  },
  {
   "cell_type": "markdown",
   "id": "48334515",
   "metadata": {},
   "source": [
    "### (4) Header columns have one fewer column than data"
   ]
  },
  {
   "cell_type": "code",
   "execution_count": null,
   "id": "cbb740c7",
   "metadata": {},
   "outputs": [],
   "source": []
  },
  {
   "cell_type": "markdown",
   "id": "05e0cf19",
   "metadata": {},
   "source": [
    "### (5) Other alignment issues"
   ]
  },
  {
   "cell_type": "code",
   "execution_count": null,
   "id": "0bba4800",
   "metadata": {},
   "outputs": [],
   "source": []
  },
  {
   "cell_type": "markdown",
   "id": "c69afabe",
   "metadata": {},
   "source": [
    "### (6) Escaping commas"
   ]
  },
  {
   "cell_type": "code",
   "execution_count": null,
   "id": "812e3311",
   "metadata": {},
   "outputs": [],
   "source": []
  },
  {
   "cell_type": "markdown",
   "id": "ffdab905",
   "metadata": {},
   "source": [
    "### (7) Na, NaN, None, empty string"
   ]
  },
  {
   "cell_type": "code",
   "execution_count": null,
   "id": "30c78bbe",
   "metadata": {},
   "outputs": [],
   "source": []
  },
  {
   "cell_type": "markdown",
   "id": "76cbd293",
   "metadata": {},
   "source": [
    "### Check `load_data` function for each dataset"
   ]
  },
  {
   "cell_type": "code",
   "execution_count": 13,
   "id": "b32b3a1a",
   "metadata": {},
   "outputs": [],
   "source": [
    "from typing import Dict, Tuple\n",
    "\n",
    "import pandas as pd\n",
    "import torch\n",
    "\n",
    "def load_data(\n",
    "    path: str, data_mapping: Dict[str, str] = {}\n",
    ") -> Tuple[torch.Tensor, Dict[str, torch.Tensor]]:\n",
    "    \"\"\"\n",
    "    Load data from a CSV file.\n",
    "\n",
    "    - path: path to the CSV file\n",
    "    - data_mapping: A mapping from column names in the data file to state variable names in the model.\n",
    "        - keys: str name of column in dataset\n",
    "        - values: str name of state/observable in model\n",
    "    - If not provided, we will assume that the column names in the data file match the state variable names.\n",
    "    \"\"\"\n",
    "\n",
    "    df = pd.read_csv(path)\n",
    "\n",
    "    data_timepoints = torch.tensor(df[\"Timestamp\"].values, dtype=torch.float32)\n",
    "    data = {}\n",
    "\n",
    "    for col in df.columns:\n",
    "        if col == \"Timestamp\":\n",
    "            continue\n",
    "\n",
    "        if col in data_mapping:\n",
    "            data[data_mapping[col]] = torch.tensor(df[col].values, dtype=torch.float32)\n",
    "        else:\n",
    "            data[col] = torch.tensor(df[col].values, dtype=torch.float32)\n",
    "        # TODO: address missing data\n",
    "\n",
    "    return data_timepoints, data"
   ]
  },
  {
   "cell_type": "code",
   "execution_count": 18,
   "id": "09db8348",
   "metadata": {},
   "outputs": [
    {
     "ename": "TypeError",
     "evalue": "can't convert np.ndarray of type numpy.object_. The only supported types are: float64, float32, float16, complex64, complex128, int64, int32, int16, int8, uint8, and bool.",
     "output_type": "error",
     "traceback": [
      "\u001b[0;31m---------------------------------------------------------------------------\u001b[0m",
      "\u001b[0;31mTypeError\u001b[0m                                 Traceback (most recent call last)",
      "Cell \u001b[0;32mIn[18], line 1\u001b[0m\n\u001b[0;32m----> 1\u001b[0m \u001b[43mload_data\u001b[49m\u001b[43m(\u001b[49m\u001b[43mdataset5\u001b[49m\u001b[43m,\u001b[49m\u001b[43m \u001b[49m\u001b[43mdata_mapping\u001b[49m\u001b[43m)\u001b[49m\n",
      "Cell \u001b[0;32mIn[13], line 29\u001b[0m, in \u001b[0;36mload_data\u001b[0;34m(path, data_mapping)\u001b[0m\n\u001b[1;32m     26\u001b[0m     \u001b[38;5;28;01mcontinue\u001b[39;00m\n\u001b[1;32m     28\u001b[0m \u001b[38;5;28;01mif\u001b[39;00m col \u001b[38;5;129;01min\u001b[39;00m data_mapping:\n\u001b[0;32m---> 29\u001b[0m     data[data_mapping[col]] \u001b[38;5;241m=\u001b[39m \u001b[43mtorch\u001b[49m\u001b[38;5;241;43m.\u001b[39;49m\u001b[43mtensor\u001b[49m\u001b[43m(\u001b[49m\u001b[43mdf\u001b[49m\u001b[43m[\u001b[49m\u001b[43mcol\u001b[49m\u001b[43m]\u001b[49m\u001b[38;5;241;43m.\u001b[39;49m\u001b[43mvalues\u001b[49m\u001b[43m,\u001b[49m\u001b[43m \u001b[49m\u001b[43mdtype\u001b[49m\u001b[38;5;241;43m=\u001b[39;49m\u001b[43mtorch\u001b[49m\u001b[38;5;241;43m.\u001b[39;49m\u001b[43mfloat32\u001b[49m\u001b[43m)\u001b[49m\n\u001b[1;32m     30\u001b[0m \u001b[38;5;28;01melse\u001b[39;00m:\n\u001b[1;32m     31\u001b[0m     data[col] \u001b[38;5;241m=\u001b[39m torch\u001b[38;5;241m.\u001b[39mtensor(df[col]\u001b[38;5;241m.\u001b[39mvalues, dtype\u001b[38;5;241m=\u001b[39mtorch\u001b[38;5;241m.\u001b[39mfloat32)\n",
      "\u001b[0;31mTypeError\u001b[0m: can't convert np.ndarray of type numpy.object_. The only supported types are: float64, float32, float16, complex64, complex128, int64, int32, int16, int8, uint8, and bool."
     ]
    }
   ],
   "source": [
    "# Load data function works for datasets 1 - 3, but fails for datasets 4 (space ' ') and 5 (None type data)\n",
    "load_data(dataset5, data_mapping)"
   ]
  },
  {
   "cell_type": "code",
   "execution_count": null,
   "id": "08478921",
   "metadata": {},
   "outputs": [],
   "source": []
  }
 ],
 "metadata": {
  "kernelspec": {
   "display_name": "Python (pyciemss)",
   "language": "python",
   "name": "pyciemss"
  },
  "language_info": {
   "codemirror_mode": {
    "name": "ipython",
    "version": 3
   },
   "file_extension": ".py",
   "mimetype": "text/x-python",
   "name": "python",
   "nbconvert_exporter": "python",
   "pygments_lexer": "ipython3",
   "version": "3.10.9"
  }
 },
 "nbformat": 4,
 "nbformat_minor": 5
}
