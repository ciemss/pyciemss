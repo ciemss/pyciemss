{
 "cells": [
  {
   "cell_type": "markdown",
   "id": "d05511a2",
   "metadata": {},
   "source": [
    "# Tests for `load_data` \n",
    "This notebook serves to address [this](https://github.com/ciemss/pyciemss/issues/434) Github issue.\n",
    "\n",
    "The new interface for calibrate requires csv files, but there are lots of ways that csv files can fail to provide information in the right format. Test the most common failure modes, such as:\n",
    "\n",
    "- missing data\n",
    "- incorrectly typed columns\n",
    "- mislabeled columns\n",
    "- header columns have one fewer column than data\n",
    "- alignment issues\n",
    "- Escaping commas\n",
    "- Na, NaN, None, '',,\n",
    "\n",
    "All of these issues will make it difficult to convert a dataframe to a correctly typed tensor."
   ]
  },
  {
   "cell_type": "markdown",
   "id": "0b05d93b",
   "metadata": {},
   "source": [
    "### Missing data"
   ]
  },
  {
   "cell_type": "code",
   "execution_count": 14,
   "id": "b5a4ee1a",
   "metadata": {},
   "outputs": [
    {
     "name": "stdout",
     "output_type": "stream",
     "text": [
      "['Timestamp', 'Infected', 'Hospitalized']\n",
      "['1.1', '15.0', '0.1']\n",
      "['2.2', '18.0', '']\n",
      "['3.3', '20.0', '2.2']\n"
     ]
    }
   ],
   "source": [
    "dataset1 = \"/Users/altu809/Projects/pyciemss/docs/source/sa-testing-notebooks/SIR_missing_data.csv\"\n",
    "\n",
    "import csv\n",
    "\n",
    "# Specify the path to your CSV file\n",
    "# csv_file_path = 'path/to/your/file.csv'\n",
    "\n",
    "# Open the CSV file and create a CSV reader\n",
    "with open(dataset1, 'r') as file:\n",
    "    csv_reader = csv.reader(file)\n",
    "\n",
    "    # Iterate through each row in the CSV file\n",
    "    for row in csv_reader:\n",
    "        # Print each row\n",
    "        print(row)\n",
    "\n",
    "\n",
    "# TODO: write tests for missing data"
   ]
  },
  {
   "cell_type": "markdown",
   "id": "95a08931",
   "metadata": {},
   "source": [
    "### Incorrectly typed columns"
   ]
  },
  {
   "cell_type": "code",
   "execution_count": 9,
   "id": "284c95a4",
   "metadata": {},
   "outputs": [
    {
     "name": "stdout",
     "output_type": "stream",
     "text": [
      "/Users/altu809/Projects/pyciemss/docs/source/sa-testing-notebooks/__file__\n"
     ]
    }
   ],
   "source": [
    "# Get the path of the Jupyter Notebook\n",
    "notebook_path = os.path.abspath('__file__')\n",
    "\n",
    "# Print the path\n",
    "print(notebook_path)"
   ]
  },
  {
   "cell_type": "markdown",
   "id": "5b32a953",
   "metadata": {},
   "source": [
    "### Mislabeled columns"
   ]
  },
  {
   "cell_type": "code",
   "execution_count": 11,
   "id": "fb54630e",
   "metadata": {},
   "outputs": [
    {
     "name": "stdout",
     "output_type": "stream",
     "text": [
      "/Users/altu809/Projects/pyciemss/docs/source/sa-testing-notebooks/path/to/your/file.txt\n"
     ]
    }
   ],
   "source": [
    "import os\n",
    "\n",
    "# Get the current working directory\n",
    "current_directory = os.getcwd()\n",
    "\n",
    "# Specify the relative path to your file\n",
    "relative_path = 'path/to/your/file.txt'\n",
    "\n",
    "# Construct the full path\n",
    "file_path = os.path.join(current_directory, relative_path)\n",
    "\n",
    "# Print the full path\n",
    "print(file_path)\n"
   ]
  },
  {
   "cell_type": "markdown",
   "id": "48334515",
   "metadata": {},
   "source": [
    "### Header columns have one fewer column than data"
   ]
  },
  {
   "cell_type": "code",
   "execution_count": null,
   "id": "cbb740c7",
   "metadata": {},
   "outputs": [],
   "source": []
  },
  {
   "cell_type": "markdown",
   "id": "05e0cf19",
   "metadata": {},
   "source": [
    "### Other alignment issues"
   ]
  },
  {
   "cell_type": "code",
   "execution_count": null,
   "id": "0bba4800",
   "metadata": {},
   "outputs": [],
   "source": []
  },
  {
   "cell_type": "markdown",
   "id": "c69afabe",
   "metadata": {},
   "source": [
    "### Escaping commas"
   ]
  },
  {
   "cell_type": "code",
   "execution_count": null,
   "id": "812e3311",
   "metadata": {},
   "outputs": [],
   "source": []
  },
  {
   "cell_type": "markdown",
   "id": "ffdab905",
   "metadata": {},
   "source": [
    "### Na, NaN, None, empty string"
   ]
  },
  {
   "cell_type": "code",
   "execution_count": null,
   "id": "30c78bbe",
   "metadata": {},
   "outputs": [],
   "source": []
  },
  {
   "cell_type": "code",
   "execution_count": null,
   "id": "b32b3a1a",
   "metadata": {},
   "outputs": [],
   "source": []
  },
  {
   "cell_type": "code",
   "execution_count": null,
   "id": "09db8348",
   "metadata": {},
   "outputs": [],
   "source": []
  }
 ],
 "metadata": {
  "kernelspec": {
   "display_name": "Python (pyciemss)",
   "language": "python",
   "name": "pyciemss"
  },
  "language_info": {
   "codemirror_mode": {
    "name": "ipython",
    "version": 3
   },
   "file_extension": ".py",
   "mimetype": "text/x-python",
   "name": "python",
   "nbconvert_exporter": "python",
   "pygments_lexer": "ipython3",
   "version": "3.10.9"
  }
 },
 "nbformat": 4,
 "nbformat_minor": 5
}
