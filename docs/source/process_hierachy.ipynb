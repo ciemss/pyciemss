{
 "cells": [
  {
   "cell_type": "code",
   "execution_count": 24,
   "metadata": {},
   "outputs": [],
   "source": [
    "import json\n",
    "\n",
    "def get_difference(word1, word2, word_list):\n",
    "    try:\n",
    "        index1 = word_list.index(word1)\n",
    "        index2 = word_list.index(word2)\n",
    "        return index2 - index1\n",
    "    except ValueError:\n",
    "        return \"One or both words not found in the list\"\n",
    "\n",
    "def update_hierarchy(data, parent_full_name='', root_word ='', parent_id=5):\n",
    "    if 'horizonal_id' not in data.keys():\n",
    "        data['horizonal_id'] = parent_id \n",
    "    for child in data['children']:\n",
    "        # Update name\n",
    "        old_name = child['full_name']\n",
    "        new_word = ' '.join(word for word in old_name.split() if word not in parent_full_name.split())\n",
    "        child['name'] = new_word\n",
    "\n",
    "        # Update horizontal_id\n",
    "        child['horizonal_id'] = get_difference(root_word, child['name'], old_name.split()) + parent_id\n",
    "\n",
    "        # Recursive call for child's children\n",
    "        if 'children' in child:\n",
    "            update_hierarchy(child, child[\"full_name\"], root_word)\n",
    "\n",
    "# Load JSON file\n",
    "with open('hier_input.json', 'r') as f:\n",
    "    data = json.load(f)\n",
    "\n",
    "# Update hierarchy\n",
    "update_hierarchy(data, data['full_name'], data['full_name'])\n",
    "\n",
    "# Save updated JSON file\n",
    "with open('output_hier.json', 'w') as f:\n",
    "    json.dump(data, f, indent=4)"
   ]
  },
  {
   "cell_type": "code",
   "execution_count": 33,
   "metadata": {},
   "outputs": [
    {
     "name": "stdout",
     "output_type": "stream",
     "text": [
      "node\n",
      "('world', {'name': 'world', 'full_name': 'world', 'horizontal_id': 5})\n",
      "('cup', {'name': 'cup', 'full_name': 'world cup', 'horizontal_id': 6})\n",
      "('first', {'name': 'first', 'full_name': 'first world cup', 'horizontal_id': 4})\n",
      "('goal', {'name': 'goal', 'full_name': 'first world cup goal', 'horizontal_id': 7})\n",
      "('own', {'name': 'own', 'full_name': 'first world cup own', 'horizontal_id': 7})\n",
      "('my', {'name': 'my', 'full_name': 'my first world cup', 'horizontal_id': 3})\n",
      "edge\n",
      "('world', 'cup', {})\n",
      "('cup', 'first', {})\n",
      "('first', 'goal', {})\n",
      "('first', 'own', {})\n",
      "('first', 'my', {})\n"
     ]
    }
   ],
   "source": [
    "import networkx as nx\n",
    "import json\n",
    "\n",
    "def add_edges(graph, data, parent_node=None):\n",
    "    full_name = data['full_name']\n",
    "    name = data.get('name', full_name)\n",
    "    horizontal_id = data.get('horizonal_id', None)\n",
    "\n",
    "    graph.add_node(name, name=name, full_name=full_name, horizontal_id=horizontal_id)\n",
    "\n",
    "    if parent_node is not None:\n",
    "        graph.add_edge(parent_node, name)\n",
    "\n",
    "    for child in data.get('children', []):\n",
    "        add_edges(graph, child, parent_node=name)\n",
    "\n",
    "# Load JSON file\n",
    "with open('output_hier.json', 'r') as f:\n",
    "    data = json.load(f)\n",
    "\n",
    "# Create directed graph\n",
    "G = nx.DiGraph()\n",
    "\n",
    "# Add edges to the graph\n",
    "add_edges(G, data)\n",
    "\n",
    "# Print nodes with their properties\n",
    "print(\"node\")\n",
    "for node in G.nodes(data=True):\n",
    "    print(node)\n",
    "print(\"edge\")\n",
    "for edge in G.edges(data=True):\n",
    "    print(edge)\n"
   ]
  },
  {
   "cell_type": "code",
   "execution_count": 48,
   "metadata": {},
   "outputs": [
    {
     "name": "stdout",
     "output_type": "stream",
     "text": [
      "[{\"id\":\"world\",\"properties\":{\"name\":\"world\",\"full_name\":\"world\",\"horizontal_id\":5}},{\"id\":\"cup\",\"properties\":{\"name\":\"cup\",\"full_name\":\"world cup\",\"horizontal_id\":6}},{\"id\":\"first\",\"properties\":{\"name\":\"first\",\"full_name\":\"first world cup\",\"horizontal_id\":4}},{\"id\":\"goal\",\"properties\":{\"name\":\"goal\",\"full_name\":\"first world cup goal\",\"horizontal_id\":7}},{\"id\":\"own\",\"properties\":{\"name\":\"own\",\"full_name\":\"first world cup own\",\"horizontal_id\":7}},{\"id\":\"my\",\"properties\":{\"name\":\"my\",\"full_name\":\"my first world cup\",\"horizontal_id\":3}}]\n",
      "[{\"source\":\"world\",\"target\":\"cup\",\"properties\":{}},{\"source\":\"cup\",\"target\":\"first\",\"properties\":{}},{\"source\":\"first\",\"target\":\"goal\",\"properties\":{}},{\"source\":\"first\",\"target\":\"own\",\"properties\":{}},{\"source\":\"first\",\"target\":\"my\",\"properties\":{}}]\n"
     ]
    }
   ],
   "source": [
    "import pandas as pd\n",
    "# Convert nodes and edges to dataframes\n",
    "nodes_df = pd.DataFrame(G.nodes(data=True), columns=['id', 'properties'])\n",
    "edges_df = pd.DataFrame(G.edges(data=True), columns=['source', 'target', 'properties'])\n",
    "\n",
    "# Convert dataframes to JSON\n",
    "nodes_json = nodes_df.to_json(orient='records')\n",
    "edges_json = edges_df.to_json(orient='records')\n",
    "\n",
    "print(nodes_json)\n",
    "print(edges_json)\n",
    "\n",
    "\n"
   ]
  },
  {
   "cell_type": "code",
   "execution_count": 49,
   "metadata": {},
   "outputs": [
    {
     "name": "stdout",
     "output_type": "stream",
     "text": [
      "\n"
     ]
    },
    {
     "data": {
      "application/vnd.vega.v5+json": {
       "$schema": "https://vega.github.io/schema/vega/v5.json",
       "autosize": "none",
       "axes": [
        {
         "orient": "bottom",
         "scale": "xscale"
        }
       ],
       "data": [
        {
         "format": {
          "type": "json"
         },
         "name": "node-data",
         "values": "[{\"id\":\"world\",\"properties\":{\"name\":\"world\",\"full_name\":\"world\",\"horizontal_id\":5}},{\"id\":\"cup\",\"properties\":{\"name\":\"cup\",\"full_name\":\"world cup\",\"horizontal_id\":6}},{\"id\":\"first\",\"properties\":{\"name\":\"first\",\"full_name\":\"first world cup\",\"horizontal_id\":4}},{\"id\":\"goal\",\"properties\":{\"name\":\"goal\",\"full_name\":\"first world cup goal\",\"horizontal_id\":7}},{\"id\":\"own\",\"properties\":{\"name\":\"own\",\"full_name\":\"first world cup own\",\"horizontal_id\":7}},{\"id\":\"my\",\"properties\":{\"name\":\"my\",\"full_name\":\"my first world cup\",\"horizontal_id\":3}}]"
        },
        {
         "format": {
          "type": "json"
         },
         "name": "link-data",
         "values": "[{\"source\":\"world\",\"target\":\"cup\",\"properties\":{}},{\"source\":\"cup\",\"target\":\"first\",\"properties\":{}},{\"source\":\"first\",\"target\":\"goal\",\"properties\":{}},{\"source\":\"first\",\"target\":\"own\",\"properties\":{}},{\"source\":\"first\",\"target\":\"my\",\"properties\":{}}]"
        }
       ],
       "description": "A beeswarm chart example that uses a force-directed layout to group items by category.",
       "height": 500,
       "marks": [
        {
         "encode": {
          "enter": {
           "fill": {
            "field": "layer",
            "scale": "color"
           },
           "opacity": {
            "value": 0.4
           },
           "xfocus": {
            "band": 0.5,
            "field": "properties.horizontal_id",
            "scale": "xscale"
           },
           "yfocus": {
            "signal": "cy"
           }
          },
          "hover": {
           "stroke": {
            "value": "purple"
           },
           "strokeWidth": {
            "value": 3
           },
           "zindex": {
            "value": 1
           }
          },
          "update": {
           "size": {
            "signal": "pow(2 * radius, 2)"
           },
           "stroke": [
            {
             "test": "datum['name'] === node_name",
             "value": "purple"
            },
            {
             "value": "blue"
            }
           ],
           "strokeWidth": {
            "value": 1
           },
           "zindex": {
            "value": 0
           }
          }
         },
         "from": {
          "data": "node-data"
         },
         "name": "nodes",
         "on": [
          {
           "modify": "node",
           "trigger": "fix",
           "values": "fix === true ? {fx: node.x, fy: node.y} : {fx: fix[0], fy: fix[1]}"
          },
          {
           "modify": "node",
           "trigger": "!fix",
           "values": "{fx: null}"
          }
         ],
         "transform": [
          {
           "forces": [
            {
             "force": "collide",
             "iterations": 1,
             "radius": {
              "signal": "radius"
             }
            },
            {
             "force": "nbody",
             "strength": -100
            },
            {
             "force": "x",
             "strength": 1,
             "x": "xfocus"
            },
            {
             "force": "y",
             "strength": 0.05,
             "y": "yfocus"
            },
            {
             "distance": 0,
             "force": "link",
             "id": "datum.id",
             "links": "link-data",
             "strength": 0
            }
           ],
           "iterations": 600,
           "restart": {
            "signal": "restart"
           },
           "signal": "force",
           "static": {
            "signal": "static"
           },
           "type": "force"
          }
         ],
         "type": "symbol",
         "zindex": 1
        },
        {
         "encode": {
          "enter": {
           "align": {
            "value": "center"
           },
           "baseline": {
            "value": "middle"
           },
           "fill": {
            "value": "black"
           },
           "fontSize": {
            "value": 10
           },
           "fontWeight": {
            "value": "bold"
           },
           "text": {
            "field": "datum.id"
           }
          },
          "update": {
           "x": {
            "field": "x"
           },
           "y": {
            "field": "y"
           }
          }
         },
         "from": {
          "data": "nodes"
         },
         "transform": [
          {
           "anchor": [
            "top",
            "bottom",
            "right",
            "left"
           ],
           "avoidMarks": [
            "nodes"
           ],
           "offset": [
            1
           ],
           "size": {
            "signal": "[width + 60, height]"
           },
           "type": "label"
          }
         ],
         "type": "text",
         "zindex": 10
        },
        {
         "encode": {
          "update": {
           "stroke": {
            "field": "type",
            "scale": "color_scale"
           },
           "strokeWidth": {
            "value": 2
           }
          }
         },
         "from": {
          "data": "link-data"
         },
         "interactive": false,
         "transform": [
          {
           "require": {
            "signal": "force"
           },
           "shape": "line",
           "sourceX": "datum.source.x",
           "sourceY": "datum.source.y",
           "targetX": "datum.target.x",
           "targetY": "datum.target.y",
           "type": "linkpath"
          }
         ],
         "type": "path"
        },
        {
         "encode": {
          "enter": {
           "angle": {
            "field": "angle"
           },
           "fill": {
            "field": "type",
            "scale": "color_scale"
           },
           "stroke": {
            "field": "type",
            "scale": "color_scale"
           }
          },
          "hover": {
           "opacity": {
            "value": 0.5
           }
          },
          "update": {
           "shape": {
            "value": "triangle-right"
           },
           "x": {
            "field": "target.x"
           },
           "y": {
            "field": "target.y"
           }
          }
         },
         "from": {
          "data": "link-data"
         },
         "transform": [
          {
           "as": "angle",
           "expr": "atan2((datum.datum.target.y-datum.datum.source.y),(datum.datum.target.x-datum.datum.source.x))*180/PI",
           "type": "formula"
          },
          {
           "as": "y",
           "expr": "datum.datum.target.y - 10*sin(atan2((datum.datum.target.y-datum.datum.source.y),(datum.datum.target.x-datum.datum.source.x)))",
           "type": "formula"
          },
          {
           "as": "x",
           "expr": "datum.datum.target.x - 10*cos(atan2((datum.datum.target.y-datum.datum.source.y),(datum.datum.target.x-datum.datum.source.x)))",
           "type": "formula"
          }
         ],
         "type": "symbol",
         "zindex": {
          "value": 40
         }
        }
       ],
       "padding": {
        "bottom": 20,
        "left": 5,
        "right": 5
       },
       "scales": [
        {
         "domain": {
          "data": "node-data",
          "field": "properties.horizontal_id",
          "sort": true
         },
         "name": "xscale",
         "range": "width",
         "type": "band"
        },
        {
         "domain": {
          "data": "node-data",
          "field": "layer"
         },
         "name": "color",
         "range": {
          "scheme": "pastel2"
         },
         "type": "ordinal"
        },
        {
         "domain": {
          "data": "link-data",
          "field": "type"
         },
         "name": "color_scale",
         "range": {
          "scheme": "pastel2"
         },
         "type": "ordinal"
        }
       ],
       "signals": [
        {
         "name": "cx",
         "update": "width / 2"
        },
        {
         "name": "cy",
         "update": "height / 2"
        },
        {
         "bind": {
          "input": "range",
          "max": 15,
          "min": 2,
          "step": 1
         },
         "name": "radius",
         "value": 8
        },
        {
         "bind": {
          "input": "checkbox"
         },
         "name": "static",
         "value": false
        },
        {
         "description": "State variable for active node fix status.",
         "name": "fix",
         "on": [
          {
           "events": "symbol:mouseout[!event.buttons], window:mouseup",
           "update": "false"
          },
          {
           "events": "symbol:mouseover",
           "update": "fix || true"
          },
          {
           "events": "[symbol:mousedown, window:mouseup] > window:mousemove!",
           "force": true,
           "update": "xy()"
          }
         ],
         "value": false
        },
        {
         "description": "Graph node most recently interacted with.",
         "name": "node",
         "on": [
          {
           "events": "symbol:mouseover",
           "update": "fix === true ? item() : node"
          }
         ],
         "value": null
        },
        {
         "description": "Name of raph node most recently interacted with.",
         "name": "node_name",
         "on": [
          {
           "events": "symbol:mouseover",
           "update": "node != null ? node.datum.name: null"
          }
         ],
         "value": []
        },
        {
         "description": "Flag to restart Force simulation upon data changes.",
         "name": "restart",
         "on": [
          {
           "events": "symbol:mouseout[!event.buttons], window:mouseup",
           "update": "true"
          },
          {
           "events": {
            "signal": "fix"
           },
           "update": "fix && fix.length"
          }
         ],
         "value": false
        }
       ],
       "width": 800
      }
     },
     "metadata": {},
     "output_type": "display_data"
    }
   ],
   "source": [
    "import networkx as nx\n",
    "import numpy as np\n",
    "import pandas as pd\n",
    "import pytest\n",
    "import IPython.display\n",
    "import pyciemss\n",
    "\n",
    "\n",
    "\n",
    "def spring_force_graph(\n",
    "    nodes_json,edges_json):\n",
    "\n",
    "\n",
    "    schema = pyciemss.visuals.vega.load_schema(\"word_graph.vg.json\")\n",
    "\n",
    "\n",
    "    schema[\"data\"] = pyciemss.visuals.vega.replace_named_with(\n",
    "        schema[\"data\"], \"node-data\", [\"values\"], nodes_json\n",
    "    )\n",
    "\n",
    "    schema[\"data\"] = pyciemss.visuals.vega.replace_named_with(\n",
    "        schema[\"data\"], \"link-data\", [\"values\"], edges_json\n",
    "    )\n",
    "\n",
    "\n",
    "    return schema\n",
    "schema = spring_force_graph(nodes_json,edges_json )\n",
    "pyciemss.visuals.plots.ipy_display(schema, format=\"interactive\", dpi=72)"
   ]
  }
 ],
 "metadata": {
  "kernelspec": {
   "display_name": "Python 3",
   "language": "python",
   "name": "python3"
  },
  "language_info": {
   "codemirror_mode": {
    "name": "ipython",
    "version": 3
   },
   "file_extension": ".py",
   "mimetype": "text/x-python",
   "name": "python",
   "nbconvert_exporter": "python",
   "pygments_lexer": "ipython3",
   "version": "3.10.13"
  }
 },
 "nbformat": 4,
 "nbformat_minor": 2
}
