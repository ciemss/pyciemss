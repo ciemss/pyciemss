{
 "cells": [
  {
   "cell_type": "markdown",
   "id": "f8595745",
   "metadata": {},
   "source": [
    "# Evaluation Scenario 2"
   ]
  },
  {
   "cell_type": "code",
   "execution_count": 1,
   "id": "1f3c7f39",
   "metadata": {},
   "outputs": [],
   "source": [
    "import json\n",
    "import sympy\n",
    "from mira.metamodel import *\n",
    "from mira.modeling.amr.petrinet import template_model_to_petrinet_json\n",
    "from copy import deepcopy"
   ]
  },
  {
   "cell_type": "code",
   "execution_count": 2,
   "id": "e03b7f5b",
   "metadata": {},
   "outputs": [],
   "source": [
    "c = lambda x: Concept(name=x, units=Unit(expression=s('person')))\n",
    "s = lambda x: sympy.Symbol(x)"
   ]
  },
  {
   "cell_type": "markdown",
   "id": "47d2689d",
   "metadata": {},
   "source": [
    "### Set up parameters with values and units"
   ]
  },
  {
   "cell_type": "code",
   "execution_count": 3,
   "id": "c556a3a3",
   "metadata": {},
   "outputs": [],
   "source": [
    "params = {\n",
    "    'beta': (0.18, s('person')/s('day')),\n",
    "    'rih': (0.07, 1/s('day')),\n",
    "    'rir': (0.07, 1/s('day')),\n",
    "    'rhr': (0.07, 1/s('day')),\n",
    "    'rhd': (0.3, 1/s('day')),\n",
    "    'pir': (0.9, 1),\n",
    "    'pih': (0.1, 1),\n",
    "    'phr': (0.87, 1),\n",
    "    'phd': (0.13, 1),\n",
    "    'N': (150e6, s('person')),\n",
    "    'I0': (1000, s('person')),\n",
    "    'R0': (0, s('person')),\n",
    "    'H0': (0, s('person')),\n",
    "    'D0': (781454, s('person'))\n",
    "}"
   ]
  },
  {
   "cell_type": "markdown",
   "id": "308ff83b",
   "metadata": {},
   "source": [
    "### Implement base model templates and initials"
   ]
  },
  {
   "cell_type": "code",
   "execution_count": 4,
   "id": "cf9c8b69",
   "metadata": {},
   "outputs": [],
   "source": [
    "templates = [\n",
    "    ControlledConversion(subject=c('S'), outcome=c('I'),\n",
    "                         controller=c('I'),\n",
    "                         rate_law=s('beta')*s('I')*s('S')/s('N')),\n",
    "    NaturalConversion(subject=c('I'), outcome=c('R'),\n",
    "                      rate_law=s('rir')*s('pir')*s('I')),\n",
    "    NaturalConversion(subject=c('I'), outcome=c('H'),\n",
    "                      rate_law=s('rih')*s('pih')*s('I')),\n",
    "    NaturalConversion(subject=c('H'), outcome=c('D'),\n",
    "                      rate_law=s('rhd')*s('phd')*s('H')),\n",
    "    NaturalConversion(subject=c('H'), outcome=c('R'),\n",
    "                      rate_law=s('rhr')*s('phr')*s('H')),\n",
    "    \n",
    "]"
   ]
  },
  {
   "cell_type": "code",
   "execution_count": 5,
   "id": "6c6d3307",
   "metadata": {},
   "outputs": [],
   "source": [
    "initials = {\n",
    "    'S0': Initial(concept=c('S'), expression=s('N')-s('I0')-s('R0')-s('H0')-s('D0')),\n",
    "    'I0': Initial(concept=c('I'), expression=s('I0')),\n",
    "    'R0': Initial(concept=c('R'), expression=s('R0')),\n",
    "    'H0': Initial(concept=c('H'), expression=s('H0')),\n",
    "    'D0': Initial(concept=c('D'), expression=s('D0')),\n",
    "}"
   ]
  },
  {
   "cell_type": "code",
   "execution_count": 6,
   "id": "8b93be12",
   "metadata": {},
   "outputs": [],
   "source": [
    "parameters = {\n",
    "    p: Parameter(name=p, value=v, units=Unit(expression=u))\n",
    "    for p, (v, u) in params.items()\n",
    "}"
   ]
  },
  {
   "cell_type": "markdown",
   "id": "e890a3ba",
   "metadata": {},
   "source": [
    "Instantiate the template model"
   ]
  },
  {
   "cell_type": "code",
   "execution_count": 7,
   "id": "4d2c58bc",
   "metadata": {},
   "outputs": [],
   "source": [
    "tm = TemplateModel(\n",
    "    templates=templates,\n",
    "    initials=initials,\n",
    "    parameters=parameters\n",
    ")"
   ]
  },
  {
   "cell_type": "code",
   "execution_count": 8,
   "id": "a18a9009",
   "metadata": {},
   "outputs": [],
   "source": [
    "#tm.draw_jupyter()"
   ]
  },
  {
   "cell_type": "code",
   "execution_count": 9,
   "id": "33d45aa9",
   "metadata": {},
   "outputs": [],
   "source": [
    "with open('scenario2_q1_petrinet.json', 'w') as fh:\n",
    "    json.dump(template_model_to_petrinet_json(tm), fh, indent=1)"
   ]
  },
  {
   "cell_type": "markdown",
   "id": "696f90ac",
   "metadata": {},
   "source": [
    "## Implement one-step vaccination"
   ]
  },
  {
   "cell_type": "code",
   "execution_count": 10,
   "id": "e3c9b368",
   "metadata": {},
   "outputs": [],
   "source": [
    "tm_vax = deepcopy(tm)\n",
    "tm_vax = stratify(tm_vax,\n",
    "                  strata=['u', 'v'],\n",
    "                  key='vax',\n",
    "                  concepts_to_stratify=['S', 'I', 'H', 'R'],\n",
    "                  structure=[],\n",
    "                  cartesian_control=True,\n",
    "                  params_to_preserve=['N'])\n",
    "\n",
    "tm_vax.templates.append(\n",
    "    NaturalConversion(subject=c('S_u').with_context(vax='u'),\n",
    "                      outcome=c('S_v').with_context(vax='v'),\n",
    "                      rate_law=s('S_u')*s('v_a')*s('v_b'))\n",
    ")\n",
    "tm_vax.parameters['v_a'] = Parameter(name='v_a', value=0.3,\n",
    "                                     units=Unit(expression=1/s('day')))\n",
    "tm_vax.parameters['v_b'] = Parameter(name='v_b', value=1.0,\n",
    "                                     units=Unit(expression=1))"
   ]
  },
  {
   "cell_type": "code",
   "execution_count": 11,
   "id": "a20e37d1",
   "metadata": {},
   "outputs": [],
   "source": [
    "#tm_vax.draw_jupyter()"
   ]
  },
  {
   "cell_type": "code",
   "execution_count": 12,
   "id": "dca91d8a",
   "metadata": {},
   "outputs": [],
   "source": [
    "with open('scenario2_q4_petrinet.json', 'w') as fh:\n",
    "    json.dump(template_model_to_petrinet_json(tm_vax), fh, indent=1)"
   ]
  },
  {
   "cell_type": "markdown",
   "id": "dfaefbcf",
   "metadata": {},
   "source": [
    "## Implement testing"
   ]
  },
  {
   "cell_type": "code",
   "execution_count": 13,
   "id": "ae5bb7fd",
   "metadata": {},
   "outputs": [],
   "source": [
    "tm_test = deepcopy(tm_vax)"
   ]
  },
  {
   "cell_type": "code",
   "execution_count": 14,
   "id": "cc887ef0",
   "metadata": {},
   "outputs": [],
   "source": [
    "tm_test.parameters['p_test_acc'] = Parameter(name='p_test_acc', value=0.75)\n",
    "tm_test.parameters['p_dec_transm_min'] = Parameter(name='p_dec_transm_min', value=0.25)\n",
    "tm_test.parameters['p_dec_transm_max'] = Parameter(name='p_dec_transm_max', value=0.5)\n",
    "\n",
    "p_dec_transm = s('p_dec_transm_min') + s('t')*(s('p_dec_transm_max') - s('p_dec_transm_min')) / 60\n",
    "rate_factor = (1 - s('p_test_acc')) * (1 - p_dec_transm)\n",
    "\n",
    "for template in tm_test.templates:\n",
    "    if 'beta' in str(template.rate_law.args[0]):\n",
    "        template.rate_law = SympyExprStr(template.rate_law.args[0] * rate_factor)"
   ]
  },
  {
   "cell_type": "code",
   "execution_count": 15,
   "id": "9d26c30f",
   "metadata": {},
   "outputs": [],
   "source": [
    "with open('scenario2_q8_petrinet.json', 'w') as fh:\n",
    "    json.dump(template_model_to_petrinet_json(tm_test), fh, indent=1)"
   ]
  },
  {
   "cell_type": "markdown",
   "id": "7e022313",
   "metadata": {},
   "source": [
    "## Implement testing + multi-stage vaccination"
   ]
  },
  {
   "cell_type": "markdown",
   "id": "2d30c273",
   "metadata": {},
   "source": [
    "First we reimplement testing on the base model"
   ]
  },
  {
   "cell_type": "code",
   "execution_count": 16,
   "id": "d139b473",
   "metadata": {},
   "outputs": [],
   "source": [
    "tm_base_test = deepcopy(tm)\n",
    "\n",
    "tm_base_test.parameters['p_test_acc'] = Parameter(name='p_test_acc', value=0.75)\n",
    "tm_base_test.parameters['p_dec_transm_min'] = Parameter(name='p_dec_transm_min', value=0.25)\n",
    "tm_base_test.parameters['p_dec_transm_max'] = Parameter(name='p_dec_transm_max', value=0.5)\n",
    "\n",
    "p_dec_transm = s('p_dec_transm_min') + s('t')*(s('p_dec_transm_max') - s('p_dec_transm_min')) / 60\n",
    "rate_factor = (1 - s('p_test_acc')) * (1 - p_dec_transm)\n",
    "\n",
    "for template in tm_base_test.templates:\n",
    "    if 'beta' in str(template.rate_law.args[0]):\n",
    "        template.rate_law = SympyExprStr(template.rate_law.args[0] * rate_factor)"
   ]
  },
  {
   "cell_type": "code",
   "execution_count": 17,
   "id": "d0126c94",
   "metadata": {},
   "outputs": [],
   "source": [
    "tm_strat = deepcopy(tm_base_test)"
   ]
  },
  {
   "cell_type": "markdown",
   "id": "40ce8a9b",
   "metadata": {},
   "source": [
    "Next we reimplement vaccination, now in two steps"
   ]
  },
  {
   "cell_type": "code",
   "execution_count": 18,
   "id": "e1993843",
   "metadata": {},
   "outputs": [],
   "source": [
    "tm_strat = stratify(tm_strat,\n",
    "                    strata=['u', 'v1', 'v2'],\n",
    "                    key='vax',\n",
    "                    concepts_to_stratify=['S', 'I', 'H', 'R'],\n",
    "                    structure=[],\n",
    "                    cartesian_control=True,\n",
    "                    params_to_preserve=['N', 'p_test_acc', 'p_dec_transm_min', 'p_dec_transm_max'])\n",
    "\n",
    "tm_vax.templates.extend([\n",
    "    NaturalConversion(subject=c('S_u').with_context(vax='u'),\n",
    "                      outcome=c('S_v1').with_context(vax='v1'),\n",
    "                      rate_law=s('S_u')*s('v1_a')*s('v1_b')),\n",
    "    NaturalConversion(subject=c('S_v1').with_context(vax='v1'),\n",
    "                      outcome=c('S_v2').with_context(vax='v2'),\n",
    "                      rate_law=s('S_v1')*s('v2_a')*s('v2_b'))\n",
    "])\n",
    "tm_vax.parameters['v1_a'] = Parameter(name='v1_a', value=0.3,\n",
    "                                     units=Unit(expression=1/s('day')))\n",
    "tm_vax.parameters['v1_b'] = Parameter(name='v1_b', value=1.0,\n",
    "                                     units=Unit(expression=1))\n",
    "tm_vax.parameters['v2_a'] = Parameter(name='v2_a', value=0.3,\n",
    "                                     units=Unit(expression=1/s('day')))\n",
    "tm_vax.parameters['v2_b'] = Parameter(name='v2_b', value=1.0,\n",
    "                                     units=Unit(expression=1))"
   ]
  },
  {
   "cell_type": "code",
   "execution_count": 19,
   "id": "9df87fa5",
   "metadata": {},
   "outputs": [],
   "source": [
    "#tm_strat.draw_jupyter()"
   ]
  },
  {
   "cell_type": "markdown",
   "id": "2e86cf6c",
   "metadata": {},
   "source": [
    "### Stratify by age, sex, ethnicity"
   ]
  },
  {
   "cell_type": "code",
   "execution_count": 20,
   "id": "6c2863b1",
   "metadata": {},
   "outputs": [],
   "source": [
    "tm_strat = stratify(tm_strat,\n",
    "                    strata=['young', 'old'],\n",
    "                    key='age',\n",
    "                    structure=[],\n",
    "                    cartesian_control=True,\n",
    "                    params_to_preserve=['N'])"
   ]
  },
  {
   "cell_type": "code",
   "execution_count": 21,
   "id": "23c8e449",
   "metadata": {},
   "outputs": [],
   "source": [
    "#tm_strat.draw_jupyter()"
   ]
  },
  {
   "cell_type": "code",
   "execution_count": 22,
   "id": "54424a91",
   "metadata": {},
   "outputs": [],
   "source": [
    "tm_strat = stratify(tm_strat,\n",
    "                    strata=['m', 'f'],\n",
    "                    key='sex',\n",
    "                    structure=[],\n",
    "                    cartesian_control=True,\n",
    "                    params_to_preserve=['N'])"
   ]
  },
  {
   "cell_type": "code",
   "execution_count": 23,
   "id": "a23892c0",
   "metadata": {},
   "outputs": [],
   "source": [
    "#tm_strat.draw_jupyter()"
   ]
  },
  {
   "cell_type": "code",
   "execution_count": 24,
   "id": "2bbbdc29",
   "metadata": {},
   "outputs": [],
   "source": [
    "tm_strat = stratify(tm_strat,\n",
    "                    strata=['hisp', 'nonhisp'],\n",
    "                    key='ethnicity',\n",
    "                    structure=[],\n",
    "                    cartesian_control=True,\n",
    "                    params_to_preserve=['N'])"
   ]
  },
  {
   "cell_type": "code",
   "execution_count": 25,
   "id": "5adafd04",
   "metadata": {},
   "outputs": [],
   "source": [
    "#tm_strat.draw_jupyter()"
   ]
  },
  {
   "cell_type": "code",
   "execution_count": 26,
   "id": "5b37e340",
   "metadata": {},
   "outputs": [],
   "source": [
    "with open('scenario2_q9_petrinet.json', 'w') as fh:\n",
    "    json.dump(template_model_to_petrinet_json(tm_strat), fh, indent=1)"
   ]
  },
  {
   "cell_type": "code",
   "execution_count": null,
   "id": "b67a6141",
   "metadata": {},
   "outputs": [],
   "source": []
  }
 ],
 "metadata": {
  "kernelspec": {
   "display_name": "Python 3 (ipykernel)",
   "language": "python",
   "name": "python3"
  },
  "language_info": {
   "codemirror_mode": {
    "name": "ipython",
    "version": 3
   },
   "file_extension": ".py",
   "mimetype": "text/x-python",
   "name": "python",
   "nbconvert_exporter": "python",
   "pygments_lexer": "ipython3",
   "version": "3.12.2"
  }
 },
 "nbformat": 4,
 "nbformat_minor": 5
}
