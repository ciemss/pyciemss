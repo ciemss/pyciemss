{
 "cells": [
  {
   "cell_type": "markdown",
   "metadata": {},
   "source": [
    "# Hierarchical model\n"
   ]
  },
  {
   "cell_type": "code",
   "execution_count": 22,
   "metadata": {},
   "outputs": [
    {
     "data": {
      "text/plain": [
       "['gamma_mean', 'gamma', 'beta_mean', 'beta']"
      ]
     },
     "execution_count": 22,
     "metadata": {},
     "output_type": "execute_result"
    }
   ],
   "source": [
    "import sympy\n",
    "import mira\n",
    "from mira.metamodel import *\n",
    "from mira.modeling import Model\n",
    "from mira.modeling.amr.petrinet import template_model_to_petrinet_json\n",
    "from mira.sources.amr import model_from_json, model_from_url\n",
    "from pyro.infer.inspect import get_dependencies\n",
    "from pyciemss.compiled_dynamics import CompiledDynamics\n",
    "from pyciemss.mira_integration.distributions import sort_mira_dependencies\n",
    "import torch\n",
    "import json\n",
    "from chirho.dynamical.handlers.solver import TorchDiffEq\n",
    "from pyciemss.compiled_dynamics import (\n",
    "    _compile_param_values,\n",
    "    get_name,\n",
    ")\n",
    "def test_acyclic_distribution_expressions():\n",
    "     \n",
    "    person_units = lambda: Unit(expression=sympy.Symbol('person'))\n",
    " \n",
    "    beta_mean = Parameter(name='beta_mean',\n",
    "                    distribution=Distribution(type=\"Beta1\",\n",
    "                    parameters={'alpha': sympy.Float(1.0)*sympy.Symbol(\"gamma_mean\"),\n",
    "                                'beta': sympy.Float(10.0)}))\n",
    "    gamma_mean = Parameter(name='gamma_mean',\n",
    "                    distribution=Distribution(type=\"Beta1\",\n",
    "                    parameters={'alpha': sympy.Float(10.0),\n",
    "                                'beta': sympy.Float(10.0)}))\n",
    "    beta = Parameter(name='beta',\n",
    "                    distribution=Distribution(type=\"InverseGamma1\",\n",
    "                    parameters={'shape': sympy.Symbol('beta_mean')*sympy.Symbol('gamma_mean'),\n",
    "                                'scale': sympy.Float(0.01)}))\n",
    "    gamma = Parameter(name='gamma',\n",
    "                    distribution=Distribution(type=\"InverseGamma1\",\n",
    "                    parameters={'shape': sympy.Symbol('gamma_mean'),\n",
    "                                'scale': sympy.Float(0.01)}))\n",
    "    c = {\n",
    "    \"S\": Concept(name=\"S\", units=person_units(), identifiers={\"ido\": \"0000514\"}), # susceptible\n",
    "    \"I\": Concept(name=\"I\", units=person_units(), identifiers={\"ido\": \"0000511\"}), # infectious\n",
    "    \"R\": Concept(name=\"R\", units=person_units(), identifiers={\"ido\": \"0000592\"}), # recovered\n",
    "    }\n",
    "\n",
    "\n",
    "    # Make an SIR model with beta and gamma in rate laws\n",
    "    sir_model = TemplateModel(\n",
    "        templates=[\n",
    "            ControlledConversion(\n",
    "                subject=c[\"S\"],\n",
    "                outcome=c['I'],\n",
    "                controller=c['I'],\n",
    "                rate_law=sympy.Symbol('S') * sympy.Symbol('I') * sympy.Symbol('beta')\n",
    "            ),\n",
    "            NaturalConversion(\n",
    "                subject=c['I'],\n",
    "                outcome=c['R'],\n",
    "                rate_law=sympy.Symbol('I') * sympy.Symbol('gamma')\n",
    "            ),\n",
    "        ],\n",
    "        parameters={\n",
    "            'beta': beta,\n",
    "            'gamma': gamma,\n",
    "            'beta_mean': beta_mean,\n",
    "            'gamma_mean': gamma_mean,\n",
    "            },\n",
    "        initials={'S': Initial(concept=c['S'], expression=sympy.Float(1.0)), \n",
    "                  'I': Initial(concept=c['I'], expression=sympy.Float(0.0)),\n",
    "                  'R': Initial(concept=c['R'], expression=sympy.Float(0.0))}\n",
    "    )\n",
    "\n",
    "    model = Model(sir_model)\n",
    "    pn_json = template_model_to_petrinet_json(sir_model)\n",
    "    with open('multilevel_sir_model.json', 'w') as fh:\n",
    "        json.dump(pn_json, fh)\n",
    "        \n",
    "    params = pn_json['semantics']['ode']['parameters']\n",
    "    assert {p['id'] for p in params} == \\\n",
    "        {'beta_mean', 'gamma_mean', 'beta', 'gamma'}\n",
    "    beta = [p for p in params if p['id'] == 'beta'][0]\n",
    "    assert beta['distribution']['type'] == 'InverseGamma1'\n",
    "    assert beta['distribution']['parameters']['shape'] == 'beta_mean*gamma_mean'\n",
    "\n",
    "    # Now read the model back and check if it is deserialized\n",
    "    tm = model_from_json(pn_json)\n",
    "    assert tm.parameters['beta'].distribution.type == 'InverseGamma1'\n",
    "    assert isinstance(tm.parameters['beta'].distribution.parameters['shape'],\n",
    "        mira.metamodel.utils.SympyExprStr)\n",
    "    assert tm.parameters['beta'].distribution.parameters['shape'].args[0] == \\\n",
    "        sympy.Symbol('beta_mean')*sympy.Symbol('gamma_mean')\n",
    "    return sir_model\n",
    "\n",
    "sort_mira_dependencies(test_acyclic_distribution_expressions())"
   ]
  },
  {
   "cell_type": "code",
   "execution_count": 21,
   "metadata": {},
   "outputs": [
    {
     "data": {
      "text/plain": [
       "TemplateModel(templates=[ControlledConversion(rate_law=I*S*beta, name='t1', display_name=None, type='ControlledConversion', controller=Concept(name='I', display_name='I', description=None, identifiers={}, context={}, units=None), subject=Concept(name='S', display_name='S', description=None, identifiers={}, context={}, units=None), outcome=Concept(name='I', display_name='I', description=None, identifiers={}, context={}, units=None), provenance=[]), NaturalConversion(rate_law=I*gamma, name='t2', display_name=None, type='NaturalConversion', subject=Concept(name='I', display_name='I', description=None, identifiers={}, context={}, units=None), outcome=Concept(name='R', display_name='R', description=None, identifiers={}, context={}, units=None), provenance=[])], parameters={'beta': Parameter(name='beta', display_name=None, description=None, identifiers={}, context={}, units=None, value=None, distribution=Distribution(type='InverseGamma1', parameters={'shape': beta_mean*gamma_mean, 'scale': 0.01})), 'gamma': Parameter(name='gamma', display_name=None, description=None, identifiers={}, context={}, units=None, value=None, distribution=Distribution(type='InverseGamma1', parameters={'shape': gamma_mean, 'scale': 0.01})), 'beta_mean': Parameter(name='beta_mean', display_name=None, description=None, identifiers={}, context={}, units=None, value=1.0, distribution=None), 'gamma_mean': Parameter(name='gamma_mean', display_name=None, description=None, identifiers={}, context={}, units=None, value=2.0, distribution=None)}, initials={'S': Initial(concept=Concept(name='S', display_name='S', description=None, identifiers={}, context={}, units=None), expression=1.0), 'I': Initial(concept=Concept(name='I', display_name='I', description=None, identifiers={}, context={}, units=None), expression=0.0), 'R': Initial(concept=Concept(name='R', display_name='R', description=None, identifiers={}, context={}, units=None), expression=0.0)}, observables={}, annotations=Annotations(name='Model', description='Model', license=None, authors=[], references=[], time_scale=None, time_start=None, time_end=None, locations=[], pathogens=[], diseases=[], hosts=[], model_types=[]), time=Time(name='t', units=None))"
      ]
     },
     "execution_count": 21,
     "metadata": {},
     "output_type": "execute_result"
    }
   ],
   "source": [
    "model_from_url(\"https://raw.githubusercontent.com/DARPA-ASKEM/simulation-integration/refs/heads/main/data/models/multilevel_sir_nodist_model.json\")"
   ]
  },
  {
   "cell_type": "code",
   "execution_count": 18,
   "metadata": {},
   "outputs": [
    {
     "data": {
      "text/plain": [
       "['gamma_mean', 'beta_mean', 'gamma', 'beta']"
      ]
     },
     "execution_count": 18,
     "metadata": {},
     "output_type": "execute_result"
    }
   ],
   "source": [
    "def test_acyclic_nondistribution_expressions():\n",
    "    person_units = lambda: Unit(expression=sympy.Symbol('person'))\n",
    "\n",
    "    beta_mean = Parameter(name='beta_mean',\n",
    "                    value=1.0)\n",
    "    gamma_mean = Parameter(name='gamma_mean',\n",
    "                    value=2.0)\n",
    "    beta = Parameter(name='beta',\n",
    "                    distribution=Distribution(type=\"InverseGamma1\",\n",
    "                    parameters={'shape': sympy.Symbol('beta_mean')*sympy.Symbol('gamma_mean'),\n",
    "                                'scale': sympy.Float(0.01)}))\n",
    "    gamma = Parameter(name='gamma',\n",
    "                    distribution=Distribution(type=\"InverseGamma1\",\n",
    "                    parameters={'shape': sympy.Symbol('gamma_mean'),\n",
    "                                'scale': sympy.Float(0.01)}))\n",
    "    c = {\n",
    "        \"S\": Concept(name=\"S\", units=person_units(), identifiers={\"ido\": \"0000514\"}), # susceptible\n",
    "        \"I\": Concept(name=\"I\", units=person_units(), identifiers={\"ido\": \"0000511\"}), # infectious\n",
    "        \"R\": Concept(name=\"R\", units=person_units(), identifiers={\"ido\": \"0000592\"}), # recovered\n",
    "    }\n",
    "\n",
    "    # Make an SIR model with beta and gamma in rate laws\n",
    "    sir_model = TemplateModel(\n",
    "        templates=[\n",
    "            ControlledConversion(\n",
    "                subject=Concept(name='S'),\n",
    "                outcome=Concept(name='I'),\n",
    "                controller=Concept(name='I'),\n",
    "                rate_law=sympy.Symbol('S') * sympy.Symbol('I') * sympy.Symbol('beta')\n",
    "            ),\n",
    "            NaturalConversion(\n",
    "                subject=Concept(name='I'),\n",
    "                outcome=Concept(name='R'),\n",
    "                rate_law=sympy.Symbol('I') * sympy.Symbol('gamma')\n",
    "            ),\n",
    "        ],\n",
    "        parameters={\n",
    "            'beta': beta,\n",
    "            'gamma': gamma,\n",
    "            'beta_mean': beta_mean,\n",
    "            'gamma_mean': gamma_mean,\n",
    "            },\n",
    "        initials={'S': Initial(concept=c['S'], expression=sympy.Float(1.0)), \n",
    "                  'I': Initial(concept=c['I'], expression=sympy.Float(0.0)),\n",
    "                  'R': Initial(concept=c['R'], expression=sympy.Float(0.0))}\n",
    "\n",
    "    )\n",
    "\n",
    "    model = Model(sir_model)\n",
    "    pn_json = template_model_to_petrinet_json(sir_model)\n",
    "    with open('multilevel_sir_nodist_model.json', 'w') as fh:\n",
    "        json.dump(pn_json, fh)\n",
    "        \n",
    "    params = pn_json['semantics']['ode']['parameters']\n",
    "    assert {p['id'] for p in params} == \\\n",
    "        {'beta_mean', 'gamma_mean', 'beta', 'gamma'}\n",
    "    beta = [p for p in params if p['id'] == 'beta'][0]\n",
    "    assert beta['distribution']['type'] == 'InverseGamma1'\n",
    "    assert beta['distribution']['parameters']['shape'] == 'beta_mean*gamma_mean'\n",
    "\n",
    "    # Now read the model back and check if it is deserialized\n",
    "    tm = model_from_json(pn_json)\n",
    "    assert tm.parameters['beta'].distribution.type == 'InverseGamma1'\n",
    "    assert isinstance(tm.parameters['beta'].distribution.parameters['shape'],\n",
    "        mira.metamodel.utils.SympyExprStr)\n",
    "    assert tm.parameters['beta'].distribution.parameters['shape'].args[0] == \\\n",
    "        sympy.Symbol('beta_mean')*sympy.Symbol('gamma_mean')\n",
    "    return sir_model\n",
    "\n",
    "sort_mira_dependencies(test_acyclic_nondistribution_expressions())"
   ]
  },
  {
   "cell_type": "code",
   "execution_count": 13,
   "metadata": {},
   "outputs": [
    {
     "data": {
      "text/plain": [
       "tensor(2.)"
      ]
     },
     "execution_count": 13,
     "metadata": {},
     "output_type": "execute_result"
    }
   ],
   "source": [
    "from typing import Optional, Dict\n",
    "import sympytorch\n",
    "\n",
    "def safe_sympytorch_parse_expr(expr: SympyExprStr, local_dict: Optional[Dict]) -> torch.Tensor:\n",
    "    \"\"\"\n",
    "    Converts a sympy expression to a PyTorch tensor.\n",
    "\n",
    "    Parameters\n",
    "    ----------\n",
    "    expr : SympyExprStr\n",
    "        The sympy expression to convert to a PyTorch tensor.\n",
    "    local_dict : Optional[Dict]\n",
    "        A dictionary of free symbols and their variables to use in the sympy expression.\"\"\"\n",
    "    return sympytorch.SymPyModule(expressions=[expr])(**local_dict).squeeze()\n",
    "\n",
    "scale = safe_sympytorch_parse_expr(sympy.Symbol('beta_mean')*sympy.Symbol('gamma_mean'), {'beta_mean': torch.tensor(1.0), 'gamma_mean': torch.tensor(2.0)})\n"
   ]
  },
  {
   "cell_type": "code",
   "execution_count": null,
   "metadata": {},
   "outputs": [],
   "source": [
    "mod = sympytorch.SymPyModule(expressions=[sympy.Symbol('beta_mean')*sympy.Symbol('gamma_mean')])"
   ]
  },
  {
   "cell_type": "code",
   "execution_count": 4,
   "metadata": {},
   "outputs": [
    {
     "ename": "NetworkXUnfeasible",
     "evalue": "Graph contains a cycle or graph changed during iteration",
     "output_type": "error",
     "traceback": [
      "\u001b[0;31m---------------------------------------------------------------------------\u001b[0m",
      "\u001b[0;31mNetworkXUnfeasible\u001b[0m                        Traceback (most recent call last)",
      "Cell \u001b[0;32mIn[4], line 63\u001b[0m\n\u001b[1;32m     59\u001b[0m     \u001b[38;5;28;01massert\u001b[39;00m tm\u001b[38;5;241m.\u001b[39mparameters[\u001b[38;5;124m'\u001b[39m\u001b[38;5;124mbeta\u001b[39m\u001b[38;5;124m'\u001b[39m]\u001b[38;5;241m.\u001b[39mdistribution\u001b[38;5;241m.\u001b[39mparameters[\u001b[38;5;124m'\u001b[39m\u001b[38;5;124mshape\u001b[39m\u001b[38;5;124m'\u001b[39m]\u001b[38;5;241m.\u001b[39margs[\u001b[38;5;241m0\u001b[39m] \u001b[38;5;241m==\u001b[39m \\\n\u001b[1;32m     60\u001b[0m         sympy\u001b[38;5;241m.\u001b[39mSymbol(\u001b[38;5;124m'\u001b[39m\u001b[38;5;124mbeta_mean\u001b[39m\u001b[38;5;124m'\u001b[39m)\u001b[38;5;241m*\u001b[39msympy\u001b[38;5;241m.\u001b[39mSymbol(\u001b[38;5;124m'\u001b[39m\u001b[38;5;124mgamma_mean\u001b[39m\u001b[38;5;124m'\u001b[39m)\n\u001b[1;32m     61\u001b[0m     \u001b[38;5;28;01mreturn\u001b[39;00m sir_model\n\u001b[0;32m---> 63\u001b[0m \u001b[43msort_mira_dependencies\u001b[49m\u001b[43m(\u001b[49m\u001b[43mtest_beta_mean_cycle_distribution_expressions\u001b[49m\u001b[43m(\u001b[49m\u001b[43m)\u001b[49m\u001b[43m)\u001b[49m\n",
      "File \u001b[0;32m~/Projects/ASKEM/build/pyciemss/pyciemss/mira_integration/distributions.py:38\u001b[0m, in \u001b[0;36msort_mira_dependencies\u001b[0;34m(src)\u001b[0m\n\u001b[1;32m     36\u001b[0m                 \u001b[38;5;28;01mfor\u001b[39;00m free_symbol \u001b[38;5;129;01min\u001b[39;00m v\u001b[38;5;241m.\u001b[39mfree_symbols:\n\u001b[1;32m     37\u001b[0m                     dependencies\u001b[38;5;241m.\u001b[39madd_edge(\u001b[38;5;28mstr\u001b[39m(free_symbol), \u001b[38;5;28mstr\u001b[39m(param_name))\n\u001b[0;32m---> 38\u001b[0m \u001b[38;5;28;01mreturn\u001b[39;00m \u001b[38;5;28;43mlist\u001b[39;49m\u001b[43m(\u001b[49m\u001b[43mnx\u001b[49m\u001b[38;5;241;43m.\u001b[39;49m\u001b[43mtopological_sort\u001b[49m\u001b[43m(\u001b[49m\u001b[43mdependencies\u001b[49m\u001b[43m)\u001b[49m\u001b[43m)\u001b[49m\n",
      "File \u001b[0;32m~/.pyenv/versions/miniconda3-3.11-24.1.2-0/envs/pyciemss/lib/python3.12/site-packages/networkx/algorithms/dag.py:309\u001b[0m, in \u001b[0;36mtopological_sort\u001b[0;34m(G)\u001b[0m\n\u001b[1;32m    244\u001b[0m \u001b[38;5;129m@nx\u001b[39m\u001b[38;5;241m.\u001b[39m_dispatch\n\u001b[1;32m    245\u001b[0m \u001b[38;5;28;01mdef\u001b[39;00m \u001b[38;5;21mtopological_sort\u001b[39m(G):\n\u001b[1;32m    246\u001b[0m \u001b[38;5;250m    \u001b[39m\u001b[38;5;124;03m\"\"\"Returns a generator of nodes in topologically sorted order.\u001b[39;00m\n\u001b[1;32m    247\u001b[0m \n\u001b[1;32m    248\u001b[0m \u001b[38;5;124;03m    A topological sort is a nonunique permutation of the nodes of a\u001b[39;00m\n\u001b[0;32m   (...)\u001b[0m\n\u001b[1;32m    307\u001b[0m \u001b[38;5;124;03m       *Introduction to Algorithms - A Creative Approach.* Addison-Wesley.\u001b[39;00m\n\u001b[1;32m    308\u001b[0m \u001b[38;5;124;03m    \"\"\"\u001b[39;00m\n\u001b[0;32m--> 309\u001b[0m \u001b[43m    \u001b[49m\u001b[38;5;28;43;01mfor\u001b[39;49;00m\u001b[43m \u001b[49m\u001b[43mgeneration\u001b[49m\u001b[43m \u001b[49m\u001b[38;5;129;43;01min\u001b[39;49;00m\u001b[43m \u001b[49m\u001b[43mnx\u001b[49m\u001b[38;5;241;43m.\u001b[39;49m\u001b[43mtopological_generations\u001b[49m\u001b[43m(\u001b[49m\u001b[43mG\u001b[49m\u001b[43m)\u001b[49m\u001b[43m:\u001b[49m\n\u001b[1;32m    310\u001b[0m \u001b[43m        \u001b[49m\u001b[38;5;28;43;01myield from\u001b[39;49;00m\u001b[43m \u001b[49m\u001b[43mgeneration\u001b[49m\n",
      "File \u001b[0;32m~/.pyenv/versions/miniconda3-3.11-24.1.2-0/envs/pyciemss/lib/python3.12/site-packages/networkx/algorithms/dag.py:239\u001b[0m, in \u001b[0;36mtopological_generations\u001b[0;34m(G)\u001b[0m\n\u001b[1;32m    236\u001b[0m     \u001b[38;5;28;01myield\u001b[39;00m this_generation\n\u001b[1;32m    238\u001b[0m \u001b[38;5;28;01mif\u001b[39;00m indegree_map:\n\u001b[0;32m--> 239\u001b[0m     \u001b[38;5;28;01mraise\u001b[39;00m nx\u001b[38;5;241m.\u001b[39mNetworkXUnfeasible(\n\u001b[1;32m    240\u001b[0m         \u001b[38;5;124m\"\u001b[39m\u001b[38;5;124mGraph contains a cycle or graph changed during iteration\u001b[39m\u001b[38;5;124m\"\u001b[39m\n\u001b[1;32m    241\u001b[0m     )\n",
      "\u001b[0;31mNetworkXUnfeasible\u001b[0m: Graph contains a cycle or graph changed during iteration"
     ]
    }
   ],
   "source": [
    "def test_beta_mean_cycle_distribution_expressions():\n",
    "    beta_mean = Parameter(name='beta_mean',\n",
    "                    distribution=Distribution(type=\"Beta1\",\n",
    "                    parameters={'alpha': sympy.Float(1.0)*sympy.Symbol(\"beta_mean\"),\n",
    "                                'beta': sympy.Float(10.0)}))\n",
    "    gamma_mean = Parameter(name='gamma_mean',\n",
    "                    distribution=Distribution(type=\"Beta1\",\n",
    "                    parameters={'alpha': sympy.Float(10.0),\n",
    "                                'beta': sympy.Float(10.0)}))\n",
    "    beta = Parameter(name='beta',\n",
    "                    distribution=Distribution(type=\"InverseGamma1\",\n",
    "                    parameters={'shape': sympy.Symbol('beta_mean')*sympy.Symbol('gamma_mean'),\n",
    "                                'scale': sympy.Float(0.01)}))\n",
    "    gamma = Parameter(name='gamma',\n",
    "                    distribution=Distribution(type=\"InverseGamma1\",\n",
    "                    parameters={'shape': sympy.Symbol('gamma_mean'),\n",
    "                                'scale': sympy.Float(0.01)}))\n",
    "\n",
    "    # Make an SIR model with beta and gamma in rate laws\n",
    "    sir_model = TemplateModel(\n",
    "        templates=[\n",
    "            ControlledConversion(\n",
    "                subject=Concept(name='S'),\n",
    "                outcome=Concept(name='I'),\n",
    "                controller=Concept(name='I'),\n",
    "                rate_law=sympy.Symbol('S') * sympy.Symbol('I') * sympy.Symbol('beta')\n",
    "            ),\n",
    "            NaturalConversion(\n",
    "                subject=Concept(name='I'),\n",
    "                outcome=Concept(name='R'),\n",
    "                rate_law=sympy.Symbol('I') * sympy.Symbol('gamma')\n",
    "            ),\n",
    "        ],\n",
    "        parameters={\n",
    "            'beta': beta,\n",
    "            'gamma': gamma,\n",
    "            'beta_mean': beta_mean,\n",
    "            'gamma_mean': gamma_mean,\n",
    "            }\n",
    "    )\n",
    "\n",
    "    model = Model(sir_model)\n",
    "    pn_json = template_model_to_petrinet_json(sir_model)\n",
    "    with open('beta_mean_cycle_sir_model.json', 'w') as fh:\n",
    "        json.dump(pn_json, fh)\n",
    "        \n",
    "    params = pn_json['semantics']['ode']['parameters']\n",
    "    assert {p['id'] for p in params} == \\\n",
    "        {'beta_mean', 'gamma_mean', 'beta', 'gamma'}\n",
    "    beta = [p for p in params if p['id'] == 'beta'][0]\n",
    "    assert beta['distribution']['type'] == 'InverseGamma1'\n",
    "    assert beta['distribution']['parameters']['shape'] == 'beta_mean*gamma_mean'\n",
    "\n",
    "    # Now read the model back and check if it is deserialized\n",
    "    tm = model_from_json(pn_json)\n",
    "    assert tm.parameters['beta'].distribution.type == 'InverseGamma1'\n",
    "    assert isinstance(tm.parameters['beta'].distribution.parameters['shape'],\n",
    "        mira.metamodel.utils.SympyExprStr)\n",
    "    assert tm.parameters['beta'].distribution.parameters['shape'].args[0] == \\\n",
    "        sympy.Symbol('beta_mean')*sympy.Symbol('gamma_mean')\n",
    "    return sir_model\n",
    "\n",
    "sort_mira_dependencies(test_beta_mean_cycle_distribution_expressions())"
   ]
  },
  {
   "cell_type": "code",
   "execution_count": 5,
   "metadata": {},
   "outputs": [
    {
     "ename": "NetworkXUnfeasible",
     "evalue": "Graph contains a cycle or graph changed during iteration",
     "output_type": "error",
     "traceback": [
      "\u001b[0;31m---------------------------------------------------------------------------\u001b[0m",
      "\u001b[0;31mNetworkXUnfeasible\u001b[0m                        Traceback (most recent call last)",
      "Cell \u001b[0;32mIn[5], line 63\u001b[0m\n\u001b[1;32m     59\u001b[0m     \u001b[38;5;28;01massert\u001b[39;00m tm\u001b[38;5;241m.\u001b[39mparameters[\u001b[38;5;124m'\u001b[39m\u001b[38;5;124mbeta\u001b[39m\u001b[38;5;124m'\u001b[39m]\u001b[38;5;241m.\u001b[39mdistribution\u001b[38;5;241m.\u001b[39mparameters[\u001b[38;5;124m'\u001b[39m\u001b[38;5;124mshape\u001b[39m\u001b[38;5;124m'\u001b[39m]\u001b[38;5;241m.\u001b[39margs[\u001b[38;5;241m0\u001b[39m] \u001b[38;5;241m==\u001b[39m \\\n\u001b[1;32m     60\u001b[0m         sympy\u001b[38;5;241m.\u001b[39mSymbol(\u001b[38;5;124m'\u001b[39m\u001b[38;5;124mbeta_mean\u001b[39m\u001b[38;5;124m'\u001b[39m)\u001b[38;5;241m*\u001b[39msympy\u001b[38;5;241m.\u001b[39mSymbol(\u001b[38;5;124m'\u001b[39m\u001b[38;5;124mgamma_mean\u001b[39m\u001b[38;5;124m'\u001b[39m)\n\u001b[1;32m     61\u001b[0m     \u001b[38;5;28;01mreturn\u001b[39;00m sir_model\n\u001b[0;32m---> 63\u001b[0m \u001b[43msort_mira_dependencies\u001b[49m\u001b[43m(\u001b[49m\u001b[43mtest_gamma_mean_beta_mean_acyclic_distribution_expressions\u001b[49m\u001b[43m(\u001b[49m\u001b[43m)\u001b[49m\u001b[43m)\u001b[49m\n",
      "File \u001b[0;32m~/Projects/ASKEM/build/pyciemss/pyciemss/mira_integration/distributions.py:38\u001b[0m, in \u001b[0;36msort_mira_dependencies\u001b[0;34m(src)\u001b[0m\n\u001b[1;32m     36\u001b[0m                 \u001b[38;5;28;01mfor\u001b[39;00m free_symbol \u001b[38;5;129;01min\u001b[39;00m v\u001b[38;5;241m.\u001b[39mfree_symbols:\n\u001b[1;32m     37\u001b[0m                     dependencies\u001b[38;5;241m.\u001b[39madd_edge(\u001b[38;5;28mstr\u001b[39m(free_symbol), \u001b[38;5;28mstr\u001b[39m(param_name))\n\u001b[0;32m---> 38\u001b[0m \u001b[38;5;28;01mreturn\u001b[39;00m \u001b[38;5;28;43mlist\u001b[39;49m\u001b[43m(\u001b[49m\u001b[43mnx\u001b[49m\u001b[38;5;241;43m.\u001b[39;49m\u001b[43mtopological_sort\u001b[49m\u001b[43m(\u001b[49m\u001b[43mdependencies\u001b[49m\u001b[43m)\u001b[49m\u001b[43m)\u001b[49m\n",
      "File \u001b[0;32m~/.pyenv/versions/miniconda3-3.11-24.1.2-0/envs/pyciemss/lib/python3.12/site-packages/networkx/algorithms/dag.py:309\u001b[0m, in \u001b[0;36mtopological_sort\u001b[0;34m(G)\u001b[0m\n\u001b[1;32m    244\u001b[0m \u001b[38;5;129m@nx\u001b[39m\u001b[38;5;241m.\u001b[39m_dispatch\n\u001b[1;32m    245\u001b[0m \u001b[38;5;28;01mdef\u001b[39;00m \u001b[38;5;21mtopological_sort\u001b[39m(G):\n\u001b[1;32m    246\u001b[0m \u001b[38;5;250m    \u001b[39m\u001b[38;5;124;03m\"\"\"Returns a generator of nodes in topologically sorted order.\u001b[39;00m\n\u001b[1;32m    247\u001b[0m \n\u001b[1;32m    248\u001b[0m \u001b[38;5;124;03m    A topological sort is a nonunique permutation of the nodes of a\u001b[39;00m\n\u001b[0;32m   (...)\u001b[0m\n\u001b[1;32m    307\u001b[0m \u001b[38;5;124;03m       *Introduction to Algorithms - A Creative Approach.* Addison-Wesley.\u001b[39;00m\n\u001b[1;32m    308\u001b[0m \u001b[38;5;124;03m    \"\"\"\u001b[39;00m\n\u001b[0;32m--> 309\u001b[0m \u001b[43m    \u001b[49m\u001b[38;5;28;43;01mfor\u001b[39;49;00m\u001b[43m \u001b[49m\u001b[43mgeneration\u001b[49m\u001b[43m \u001b[49m\u001b[38;5;129;43;01min\u001b[39;49;00m\u001b[43m \u001b[49m\u001b[43mnx\u001b[49m\u001b[38;5;241;43m.\u001b[39;49m\u001b[43mtopological_generations\u001b[49m\u001b[43m(\u001b[49m\u001b[43mG\u001b[49m\u001b[43m)\u001b[49m\u001b[43m:\u001b[49m\n\u001b[1;32m    310\u001b[0m \u001b[43m        \u001b[49m\u001b[38;5;28;43;01myield from\u001b[39;49;00m\u001b[43m \u001b[49m\u001b[43mgeneration\u001b[49m\n",
      "File \u001b[0;32m~/.pyenv/versions/miniconda3-3.11-24.1.2-0/envs/pyciemss/lib/python3.12/site-packages/networkx/algorithms/dag.py:239\u001b[0m, in \u001b[0;36mtopological_generations\u001b[0;34m(G)\u001b[0m\n\u001b[1;32m    236\u001b[0m     \u001b[38;5;28;01myield\u001b[39;00m this_generation\n\u001b[1;32m    238\u001b[0m \u001b[38;5;28;01mif\u001b[39;00m indegree_map:\n\u001b[0;32m--> 239\u001b[0m     \u001b[38;5;28;01mraise\u001b[39;00m nx\u001b[38;5;241m.\u001b[39mNetworkXUnfeasible(\n\u001b[1;32m    240\u001b[0m         \u001b[38;5;124m\"\u001b[39m\u001b[38;5;124mGraph contains a cycle or graph changed during iteration\u001b[39m\u001b[38;5;124m\"\u001b[39m\n\u001b[1;32m    241\u001b[0m     )\n",
      "\u001b[0;31mNetworkXUnfeasible\u001b[0m: Graph contains a cycle or graph changed during iteration"
     ]
    }
   ],
   "source": [
    "def test_gamma_mean_beta_mean_acyclic_distribution_expressions():\n",
    "    beta_mean = Parameter(name='beta_mean',\n",
    "                    distribution=Distribution(type=\"Beta1\",\n",
    "                    parameters={'alpha': sympy.Integer(1)*sympy.Symbol(\"gamma_mean\"),\n",
    "                                'beta': sympy.Integer(10)}))\n",
    "    gamma_mean = Parameter(name='gamma_mean',\n",
    "                    distribution=Distribution(type=\"Beta1\",\n",
    "                    parameters={'alpha': sympy.Integer(10)*sympy.Symbol(\"beta_mean\"),\n",
    "                                'beta': sympy.Integer(10)}))\n",
    "    beta = Parameter(name='beta',\n",
    "                    distribution=Distribution(type=\"InverseGamma1\",\n",
    "                    parameters={'shape': sympy.Symbol('beta_mean')*sympy.Symbol('gamma_mean'),\n",
    "                                'scale': sympy.Float(0.01)}))\n",
    "    gamma = Parameter(name='gamma',\n",
    "                    distribution=Distribution(type=\"InverseGamma1\",\n",
    "                    parameters={'shape': sympy.Symbol('gamma_mean'),\n",
    "                                'scale': sympy.Float(0.01)}))\n",
    "\n",
    "    # Make an SIR model with beta and gamma in rate laws\n",
    "    sir_model = TemplateModel(\n",
    "        templates=[\n",
    "            ControlledConversion(\n",
    "                subject=Concept(name='S'),\n",
    "                outcome=Concept(name='I'),\n",
    "                controller=Concept(name='I'),\n",
    "                rate_law=sympy.Symbol('S') * sympy.Symbol('I') * sympy.Symbol('beta')\n",
    "            ),\n",
    "            NaturalConversion(\n",
    "                subject=Concept(name='I'),\n",
    "                outcome=Concept(name='R'),\n",
    "                rate_law=sympy.Symbol('I') * sympy.Symbol('gamma')\n",
    "            ),\n",
    "        ],\n",
    "        parameters={\n",
    "            'beta': beta,\n",
    "            'gamma': gamma,\n",
    "            'beta_mean': beta_mean,\n",
    "            'gamma_mean': gamma_mean,\n",
    "            }\n",
    "    )\n",
    "\n",
    "    model = Model(sir_model)\n",
    "    pn_json = template_model_to_petrinet_json(sir_model)\n",
    "    with open('gamma_mean_beta_mean_cycle_sir_model.json', 'w') as fh:\n",
    "        json.dump(pn_json, fh)\n",
    "        \n",
    "    params = pn_json['semantics']['ode']['parameters']\n",
    "    assert {p['id'] for p in params} == \\\n",
    "        {'beta_mean', 'gamma_mean', 'beta', 'gamma'}\n",
    "    beta = [p for p in params if p['id'] == 'beta'][0]\n",
    "    assert beta['distribution']['type'] == 'InverseGamma1'\n",
    "    assert beta['distribution']['parameters']['shape'] == 'beta_mean*gamma_mean'\n",
    "\n",
    "    # Now read the model back and check if it is deserialized\n",
    "    tm = model_from_json(pn_json)\n",
    "    assert tm.parameters['beta'].distribution.type == 'InverseGamma1'\n",
    "    assert isinstance(tm.parameters['beta'].distribution.parameters['shape'],\n",
    "        mira.metamodel.utils.SympyExprStr)\n",
    "    assert tm.parameters['beta'].distribution.parameters['shape'].args[0] == \\\n",
    "        sympy.Symbol('beta_mean')*sympy.Symbol('gamma_mean')\n",
    "    return sir_model\n",
    "\n",
    "sort_mira_dependencies(test_gamma_mean_beta_mean_acyclic_distribution_expressions())"
   ]
  },
  {
   "cell_type": "code",
   "execution_count": 6,
   "metadata": {},
   "outputs": [
    {
     "ename": "NetworkXUnfeasible",
     "evalue": "Graph contains a cycle or graph changed during iteration",
     "output_type": "error",
     "traceback": [
      "\u001b[0;31m---------------------------------------------------------------------------\u001b[0m",
      "\u001b[0;31mNetworkXUnfeasible\u001b[0m                        Traceback (most recent call last)",
      "Cell \u001b[0;32mIn[6], line 64\u001b[0m\n\u001b[1;32m     61\u001b[0m     \u001b[38;5;28;01mreturn\u001b[39;00m sir_model\n\u001b[1;32m     63\u001b[0m beta_mean_gamma_cycle \u001b[38;5;241m=\u001b[39m test_beta_mean_gamma_cycle_distribution_expressions()\n\u001b[0;32m---> 64\u001b[0m \u001b[43msort_mira_dependencies\u001b[49m\u001b[43m(\u001b[49m\u001b[43mbeta_mean_gamma_cycle\u001b[49m\u001b[43m)\u001b[49m\n\u001b[1;32m     66\u001b[0m model \u001b[38;5;241m=\u001b[39m model_from_json_file(\u001b[38;5;124m\"\u001b[39m\u001b[38;5;124mbeta_mean_gamma_cycle_sir_model.json\u001b[39m\u001b[38;5;124m\"\u001b[39m)\n\u001b[1;32m     67\u001b[0m sort_mira_dependencies(model)\n",
      "File \u001b[0;32m~/Projects/ASKEM/build/pyciemss/pyciemss/mira_integration/distributions.py:38\u001b[0m, in \u001b[0;36msort_mira_dependencies\u001b[0;34m(src)\u001b[0m\n\u001b[1;32m     36\u001b[0m                 \u001b[38;5;28;01mfor\u001b[39;00m free_symbol \u001b[38;5;129;01min\u001b[39;00m v\u001b[38;5;241m.\u001b[39mfree_symbols:\n\u001b[1;32m     37\u001b[0m                     dependencies\u001b[38;5;241m.\u001b[39madd_edge(\u001b[38;5;28mstr\u001b[39m(free_symbol), \u001b[38;5;28mstr\u001b[39m(param_name))\n\u001b[0;32m---> 38\u001b[0m \u001b[38;5;28;01mreturn\u001b[39;00m \u001b[38;5;28;43mlist\u001b[39;49m\u001b[43m(\u001b[49m\u001b[43mnx\u001b[49m\u001b[38;5;241;43m.\u001b[39;49m\u001b[43mtopological_sort\u001b[49m\u001b[43m(\u001b[49m\u001b[43mdependencies\u001b[49m\u001b[43m)\u001b[49m\u001b[43m)\u001b[49m\n",
      "File \u001b[0;32m~/.pyenv/versions/miniconda3-3.11-24.1.2-0/envs/pyciemss/lib/python3.12/site-packages/networkx/algorithms/dag.py:309\u001b[0m, in \u001b[0;36mtopological_sort\u001b[0;34m(G)\u001b[0m\n\u001b[1;32m    244\u001b[0m \u001b[38;5;129m@nx\u001b[39m\u001b[38;5;241m.\u001b[39m_dispatch\n\u001b[1;32m    245\u001b[0m \u001b[38;5;28;01mdef\u001b[39;00m \u001b[38;5;21mtopological_sort\u001b[39m(G):\n\u001b[1;32m    246\u001b[0m \u001b[38;5;250m    \u001b[39m\u001b[38;5;124;03m\"\"\"Returns a generator of nodes in topologically sorted order.\u001b[39;00m\n\u001b[1;32m    247\u001b[0m \n\u001b[1;32m    248\u001b[0m \u001b[38;5;124;03m    A topological sort is a nonunique permutation of the nodes of a\u001b[39;00m\n\u001b[0;32m   (...)\u001b[0m\n\u001b[1;32m    307\u001b[0m \u001b[38;5;124;03m       *Introduction to Algorithms - A Creative Approach.* Addison-Wesley.\u001b[39;00m\n\u001b[1;32m    308\u001b[0m \u001b[38;5;124;03m    \"\"\"\u001b[39;00m\n\u001b[0;32m--> 309\u001b[0m \u001b[43m    \u001b[49m\u001b[38;5;28;43;01mfor\u001b[39;49;00m\u001b[43m \u001b[49m\u001b[43mgeneration\u001b[49m\u001b[43m \u001b[49m\u001b[38;5;129;43;01min\u001b[39;49;00m\u001b[43m \u001b[49m\u001b[43mnx\u001b[49m\u001b[38;5;241;43m.\u001b[39;49m\u001b[43mtopological_generations\u001b[49m\u001b[43m(\u001b[49m\u001b[43mG\u001b[49m\u001b[43m)\u001b[49m\u001b[43m:\u001b[49m\n\u001b[1;32m    310\u001b[0m \u001b[43m        \u001b[49m\u001b[38;5;28;43;01myield from\u001b[39;49;00m\u001b[43m \u001b[49m\u001b[43mgeneration\u001b[49m\n",
      "File \u001b[0;32m~/.pyenv/versions/miniconda3-3.11-24.1.2-0/envs/pyciemss/lib/python3.12/site-packages/networkx/algorithms/dag.py:239\u001b[0m, in \u001b[0;36mtopological_generations\u001b[0;34m(G)\u001b[0m\n\u001b[1;32m    236\u001b[0m     \u001b[38;5;28;01myield\u001b[39;00m this_generation\n\u001b[1;32m    238\u001b[0m \u001b[38;5;28;01mif\u001b[39;00m indegree_map:\n\u001b[0;32m--> 239\u001b[0m     \u001b[38;5;28;01mraise\u001b[39;00m nx\u001b[38;5;241m.\u001b[39mNetworkXUnfeasible(\n\u001b[1;32m    240\u001b[0m         \u001b[38;5;124m\"\u001b[39m\u001b[38;5;124mGraph contains a cycle or graph changed during iteration\u001b[39m\u001b[38;5;124m\"\u001b[39m\n\u001b[1;32m    241\u001b[0m     )\n",
      "\u001b[0;31mNetworkXUnfeasible\u001b[0m: Graph contains a cycle or graph changed during iteration"
     ]
    }
   ],
   "source": [
    "def test_beta_mean_gamma_cycle_distribution_expressions():\n",
    "    beta_mean = Parameter(name='beta_mean',\n",
    "                    distribution=Distribution(type=\"Beta1\",\n",
    "                    parameters={'alpha': sympy.Integer(10)*sympy.Symbol(\"gamma\"),\n",
    "                                'beta': sympy.Integer(10)}))\n",
    "    gamma_mean = Parameter(name='gamma_mean',\n",
    "                    distribution=Distribution(type=\"Beta1\",\n",
    "                    parameters={'alpha': sympy.Integer(10),\n",
    "                                'beta': sympy.Integer(10)}))\n",
    "    beta = Parameter(name='beta',\n",
    "                    distribution=Distribution(type=\"InverseGamma1\",\n",
    "                    parameters={'shape': sympy.Symbol('beta_mean')*sympy.Symbol('gamma_mean'),\n",
    "                                'scale': sympy.Float(0.01)}))\n",
    "    gamma = Parameter(name='gamma',\n",
    "                    distribution=Distribution(type=\"InverseGamma1\",\n",
    "                    parameters={'shape': sympy.Symbol('beta_mean'),\n",
    "                                'scale': sympy.Float(0.01)}))\n",
    "\n",
    "    # Make an SIR model with beta and gamma in rate laws\n",
    "    sir_model = TemplateModel(\n",
    "        templates=[\n",
    "            ControlledConversion(\n",
    "                subject=Concept(name='S'),\n",
    "                outcome=Concept(name='I'),\n",
    "                controller=Concept(name='I'),\n",
    "                rate_law=sympy.Symbol('S') * sympy.Symbol('I') * sympy.Symbol('beta')\n",
    "            ),\n",
    "            NaturalConversion(\n",
    "                subject=Concept(name='I'),\n",
    "                outcome=Concept(name='R'),\n",
    "                rate_law=sympy.Symbol('I') * sympy.Symbol('gamma')\n",
    "            ),\n",
    "        ],\n",
    "        parameters={\n",
    "            'beta': beta,\n",
    "            'gamma': gamma,\n",
    "            'beta_mean': beta_mean,\n",
    "            'gamma_mean': gamma_mean,\n",
    "            }\n",
    "    )\n",
    "\n",
    "    model = Model(sir_model)\n",
    "    pn_json = template_model_to_petrinet_json(sir_model)\n",
    "    with open('beta_mean_gamma_cycle_sir_model.json', 'w') as fh:\n",
    "        json.dump(pn_json, fh)\n",
    "        \n",
    "    params = pn_json['semantics']['ode']['parameters']\n",
    "    assert {p['id'] for p in params} == \\\n",
    "        {'beta_mean', 'gamma_mean', 'beta', 'gamma'}\n",
    "    beta = [p for p in params if p['id'] == 'beta'][0]\n",
    "    assert beta['distribution']['type'] == 'InverseGamma1'\n",
    "    assert beta['distribution']['parameters']['shape'] == 'beta_mean*gamma_mean'\n",
    "\n",
    "    # Now read the model back and check if it is deserialized\n",
    "    tm = model_from_json(pn_json)\n",
    "    assert tm.parameters['beta'].distribution.type == 'InverseGamma1'\n",
    "    assert isinstance(tm.parameters['beta'].distribution.parameters['shape'],\n",
    "        mira.metamodel.utils.SympyExprStr)\n",
    "    assert tm.parameters['beta'].distribution.parameters['shape'].args[0] == \\\n",
    "        sympy.Symbol('beta_mean')*sympy.Symbol('gamma_mean')\n",
    "    return sir_model\n",
    "\n",
    "beta_mean_gamma_cycle = test_beta_mean_gamma_cycle_distribution_expressions()\n",
    "sort_mira_dependencies(beta_mean_gamma_cycle)\n",
    "\n",
    "model = model_from_json_file(\"beta_mean_gamma_cycle_sir_model.json\")\n",
    "sort_mira_dependencies(model)"
   ]
  },
  {
   "cell_type": "markdown",
   "metadata": {},
   "source": [
    "# Compile the non-hierarchical model and get dependencies"
   ]
  },
  {
   "cell_type": "code",
   "execution_count": 7,
   "metadata": {},
   "outputs": [
    {
     "data": {
      "text/plain": [
       "{'prior_dependencies': {'persistent_beta': {'persistent_beta': set()},\n",
       "  'persistent_gamma': {'persistent_gamma': set()}},\n",
       " 'posterior_dependencies': {'persistent_beta': {'persistent_beta': set()},\n",
       "  'persistent_gamma': {'persistent_gamma': set()}}}"
      ]
     },
     "execution_count": 7,
     "metadata": {},
     "output_type": "execute_result"
    }
   ],
   "source": [
    "url_sirhd = \"https://raw.githubusercontent.com/DARPA-ASKEM/simulation-integration/refs/heads/main/data/models/sirhd.json\"\n",
    "compiled_model = CompiledDynamics.load(url_sirhd)\n",
    "with TorchDiffEq():\n",
    "    #simulation = compiled_model(start_time=torch.as_tensor(0.0), end_time=torch.as_tensor(0.0))\n",
    "    dependencies = get_dependencies(compiled_model, model_args=[torch.as_tensor(0.0), torch.as_tensor(0.0)])\n",
    "dependencies"
   ]
  },
  {
   "cell_type": "markdown",
   "metadata": {},
   "source": [
    "# Compile the hierarchical model and get dependencies"
   ]
  },
  {
   "cell_type": "code",
   "execution_count": null,
   "metadata": {},
   "outputs": [],
   "source": [
    "test_acyclic_distribution_expressions()\n"
   ]
  },
  {
   "cell_type": "markdown",
   "metadata": {},
   "source": [
    "## Get all the mira parameters and their dependencies before we compile the dynamics"
   ]
  },
  {
   "cell_type": "code",
   "execution_count": 8,
   "metadata": {},
   "outputs": [
    {
     "data": {
      "text/plain": [
       "{'beta': Parameter(name='beta', display_name=None, description=None, identifiers={}, context={}, units=None, value=None, distribution=Distribution(type='InverseGamma1', parameters={'shape': beta_mean*gamma_mean, 'scale': 0.01})),\n",
       " 'gamma': Parameter(name='gamma', display_name=None, description=None, identifiers={}, context={}, units=None, value=None, distribution=Distribution(type='InverseGamma1', parameters={'shape': gamma_mean, 'scale': 0.01})),\n",
       " 'beta_mean': Parameter(name='beta_mean', display_name=None, description=None, identifiers={}, context={}, units=None, value=None, distribution=Distribution(type='Beta1', parameters={'alpha': gamma_mean, 'beta': 10})),\n",
       " 'gamma_mean': Parameter(name='gamma_mean', display_name=None, description=None, identifiers={}, context={}, units=None, value=None, distribution=Distribution(type='Beta1', parameters={'alpha': 10, 'beta': 10}))}"
      ]
     },
     "execution_count": 8,
     "metadata": {},
     "output_type": "execute_result"
    }
   ],
   "source": [
    "sir_model = test_acyclic_distribution_expressions()\n",
    "sir_model.parameters"
   ]
  },
  {
   "cell_type": "markdown",
   "metadata": {},
   "source": [
    "## Get the dependencies in the mira model\n",
    "\n",
    "First we go through each mira `Parameter` that is of type `Distribution`, and determine what other parameters it depends on based on whether the `Distribution.parameter` is a `SymPyExprStr` and the name of the parameter it depends on. Build a dependency DAG based on the this investigation, and return the DAG.\n",
    "\n",
    "Then we topologically sort the DAG and call `MIRA_TO_PYRO` for each parameter in order."
   ]
  },
  {
   "cell_type": "code",
   "execution_count": 20,
   "metadata": {},
   "outputs": [],
   "source": [
    "import networkx as nx\n",
    "def get_distribution_parameters(mira_dist: mira.metamodel.Distribution) -> list:\n",
    "    return {k: v for k, v in mira_dist.parameters.items()}\n",
    "\n",
    "def sort_mira_dependencies(src: TemplateModel, verbose=False) -> dict:\n",
    "    dependencies = nx.DiGraph()\n",
    "\n",
    "    for param_info in src.parameters.values():\n",
    "        param_name = param_info.name\n",
    "        param_dist = getattr(param_info, \"distribution\", None)\n",
    "        if param_dist is None:\n",
    "            param_value = param_info.value\n",
    "        else:\n",
    "            # Check to see if the distribution parameters are sympy expressions \n",
    "            for k, v in param_dist.parameters.items():\n",
    "                if isinstance(v, mira.metamodel.utils.SympyExprStr):\n",
    "                    if verbose:\n",
    "                        print(f\"Model parameter {param_name} has a sympy expression for distribution parameter {k} which has value {v}\")\n",
    "                    for free_symbol in v.free_symbols:\n",
    "                        dependencies.add_edge(free_symbol, param_name)\n",
    "                        if verbose:\n",
    "                            print(f\"    and free symbol {free_symbol}\")\n",
    "                elif verbose:\n",
    "                    print(f\"Model parameter {param_name} has a value for distribution parameter {k} which has value {v}\")\n",
    "    return list(nx.topological_sort(dependencies))\n",
    "\n"
   ]
  },
  {
   "cell_type": "code",
   "execution_count": null,
   "metadata": {},
   "outputs": [],
   "source": []
  },
  {
   "cell_type": "code",
   "execution_count": null,
   "metadata": {},
   "outputs": [],
   "source": []
  },
  {
   "cell_type": "markdown",
   "metadata": {},
   "source": [
    "### Create a recursive mira distributions to pyro\n",
    "However, I think we want to go one step above this so that we can determine the dependencies before we call MIRA_TO_PYRO."
   ]
  },
  {
   "cell_type": "markdown",
   "metadata": {},
   "source": [
    "## Inspect the hiearchical parameters"
   ]
  },
  {
   "cell_type": "code",
   "execution_count": 21,
   "metadata": {},
   "outputs": [
    {
     "ename": "NameError",
     "evalue": "name 'get_mira_dependencies' is not defined",
     "output_type": "error",
     "traceback": [
      "\u001b[0;31m---------------------------------------------------------------------------\u001b[0m",
      "\u001b[0;31mNameError\u001b[0m                                 Traceback (most recent call last)",
      "Cell \u001b[0;32mIn[21], line 6\u001b[0m\n\u001b[1;32m      4\u001b[0m url_hierarchical \u001b[38;5;241m=\u001b[39m \u001b[38;5;124m\"\u001b[39m\u001b[38;5;124mhttps://raw.githubusercontent.com/DARPA-ASKEM/simulation-integration/refs/heads/main/data/models/hierarchical_sir_model.json\u001b[39m\u001b[38;5;124m\"\u001b[39m\n\u001b[1;32m      5\u001b[0m src \u001b[38;5;241m=\u001b[39m model_from_url(url_hierarchical)\n\u001b[0;32m----> 6\u001b[0m mira_dependencies \u001b[38;5;241m=\u001b[39m \u001b[43mget_mira_dependencies\u001b[49m(sir_model)\n\u001b[1;32m      7\u001b[0m \u001b[38;5;66;03m#for param_info in src.parameters.values():\u001b[39;00m\n\u001b[1;32m      8\u001b[0m \u001b[38;5;66;03m#    if isinstance(param_info, Parameter):\u001b[39;00m\n\u001b[1;32m      9\u001b[0m \u001b[38;5;66;03m#        param_name = get_name(param_info)\u001b[39;00m\n\u001b[1;32m     11\u001b[0m mira_dependencies       \n",
      "\u001b[0;31mNameError\u001b[0m: name 'get_mira_dependencies' is not defined"
     ]
    }
   ],
   "source": [
    "def get_name(param_info):\n",
    "    return param_info.name\n",
    "\n",
    "url_hierarchical = \"https://raw.githubusercontent.com/DARPA-ASKEM/simulation-integration/refs/heads/main/data/models/hierarchical_sir_model.json\"\n",
    "src = model_from_url(url_hierarchical)\n",
    "mira_dependencies = get_mira_dependencies(sir_model)\n",
    "#for param_info in src.parameters.values():\n",
    "#    if isinstance(param_info, Parameter):\n",
    "#        param_name = get_name(param_info)\n",
    "        \n",
    "mira_dependencies       \n"
   ]
  },
  {
   "cell_type": "code",
   "execution_count": 18,
   "metadata": {},
   "outputs": [
    {
     "name": "stderr",
     "output_type": "stream",
     "text": [
      "/Users/zuck016/Projects/ASKEM/build/pyciemss/pyciemss/mira_integration/distributions.py:257: UserWarning: Conversion from MIRA distribution type InverseGamma1 to Pyro distribution has not been tested.\n",
      "  warnings.warn(\n"
     ]
    },
    {
     "ename": "ValueError",
     "evalue": "The model parameters could not be compiled. Please check the model definition.",
     "output_type": "error",
     "traceback": [
      "\u001b[0;31m---------------------------------------------------------------------------\u001b[0m",
      "\u001b[0;31mRuntimeError\u001b[0m                              Traceback (most recent call last)",
      "File \u001b[0;32m~/Projects/ASKEM/build/pyciemss/pyciemss/compiled_dynamics.py:26\u001b[0m, in \u001b[0;36mCompiledDynamics.__init__\u001b[0;34m(self, src, **kwargs)\u001b[0m\n\u001b[1;32m     25\u001b[0m \u001b[38;5;28;01mtry\u001b[39;00m:\n\u001b[0;32m---> 26\u001b[0m     params \u001b[38;5;241m=\u001b[39m \u001b[43m_compile_param_values\u001b[49m\u001b[43m(\u001b[49m\u001b[38;5;28;43mself\u001b[39;49m\u001b[38;5;241;43m.\u001b[39;49m\u001b[43msrc\u001b[49m\u001b[43m)\u001b[49m\n\u001b[1;32m     27\u001b[0m \u001b[38;5;28;01mexcept\u001b[39;00m \u001b[38;5;167;01mException\u001b[39;00m \u001b[38;5;28;01mas\u001b[39;00m e:\n",
      "File \u001b[0;32m~/.pyenv/versions/miniconda3-3.11-24.1.2-0/envs/pyciemss/lib/python3.12/functools.py:909\u001b[0m, in \u001b[0;36msingledispatch.<locals>.wrapper\u001b[0;34m(*args, **kw)\u001b[0m\n\u001b[1;32m    906\u001b[0m     \u001b[38;5;28;01mraise\u001b[39;00m \u001b[38;5;167;01mTypeError\u001b[39;00m(\u001b[38;5;124mf\u001b[39m\u001b[38;5;124m'\u001b[39m\u001b[38;5;132;01m{\u001b[39;00mfuncname\u001b[38;5;132;01m}\u001b[39;00m\u001b[38;5;124m requires at least \u001b[39m\u001b[38;5;124m'\u001b[39m\n\u001b[1;32m    907\u001b[0m                     \u001b[38;5;124m'\u001b[39m\u001b[38;5;124m1 positional argument\u001b[39m\u001b[38;5;124m'\u001b[39m)\n\u001b[0;32m--> 909\u001b[0m \u001b[38;5;28;01mreturn\u001b[39;00m \u001b[43mdispatch\u001b[49m\u001b[43m(\u001b[49m\u001b[43margs\u001b[49m\u001b[43m[\u001b[49m\u001b[38;5;241;43m0\u001b[39;49m\u001b[43m]\u001b[49m\u001b[38;5;241;43m.\u001b[39;49m\u001b[38;5;18;43m__class__\u001b[39;49m\u001b[43m)\u001b[49m\u001b[43m(\u001b[49m\u001b[38;5;241;43m*\u001b[39;49m\u001b[43margs\u001b[49m\u001b[43m,\u001b[49m\u001b[43m \u001b[49m\u001b[38;5;241;43m*\u001b[39;49m\u001b[38;5;241;43m*\u001b[39;49m\u001b[43mkw\u001b[49m\u001b[43m)\u001b[49m\n",
      "File \u001b[0;32m~/Projects/ASKEM/build/pyciemss/pyciemss/mira_integration/compiled_dynamics.py:98\u001b[0m, in \u001b[0;36m_compile_param_values_mira\u001b[0;34m(src)\u001b[0m\n\u001b[1;32m     97\u001b[0m \u001b[38;5;28;01melse\u001b[39;00m:\n\u001b[0;32m---> 98\u001b[0m     param_value \u001b[38;5;241m=\u001b[39m \u001b[43mmira_distribution_to_pyro\u001b[49m\u001b[43m(\u001b[49m\u001b[43mparam_dist\u001b[49m\u001b[43m)\u001b[49m\n\u001b[1;32m    100\u001b[0m \u001b[38;5;28;01mif\u001b[39;00m \u001b[38;5;28misinstance\u001b[39m(param_value, torch\u001b[38;5;241m.\u001b[39mnn\u001b[38;5;241m.\u001b[39mParameter):\n",
      "File \u001b[0;32m~/Projects/ASKEM/build/pyciemss/pyciemss/mira_integration/distributions.py:261\u001b[0m, in \u001b[0;36mmira_distribution_to_pyro\u001b[0;34m(mira_dist)\u001b[0m\n\u001b[1;32m    257\u001b[0m     warnings\u001b[38;5;241m.\u001b[39mwarn(\n\u001b[1;32m    258\u001b[0m         \u001b[38;5;124mf\u001b[39m\u001b[38;5;124m\"\u001b[39m\u001b[38;5;124mConversion from MIRA distribution type \u001b[39m\u001b[38;5;132;01m{\u001b[39;00mmira_dist\u001b[38;5;241m.\u001b[39mtype\u001b[38;5;132;01m}\u001b[39;00m\u001b[38;5;124m to Pyro distribution has not been tested.\u001b[39m\u001b[38;5;124m\"\u001b[39m\n\u001b[1;32m    259\u001b[0m     )\n\u001b[0;32m--> 261\u001b[0m parameters \u001b[38;5;241m=\u001b[39m {k: \u001b[43mtorch\u001b[49m\u001b[38;5;241;43m.\u001b[39;49m\u001b[43mas_tensor\u001b[49m\u001b[43m(\u001b[49m\u001b[43mv\u001b[49m\u001b[43m)\u001b[49m \u001b[38;5;28;01mfor\u001b[39;00m k, v \u001b[38;5;129;01min\u001b[39;00m mira_dist\u001b[38;5;241m.\u001b[39mparameters\u001b[38;5;241m.\u001b[39mitems()}\n\u001b[1;32m    263\u001b[0m \u001b[38;5;28;01mreturn\u001b[39;00m _MIRA_TO_PYRO[mira_dist\u001b[38;5;241m.\u001b[39mtype](parameters)\n",
      "\u001b[0;31mRuntimeError\u001b[0m: Could not infer dtype of SympyExprStr",
      "\nThe above exception was the direct cause of the following exception:\n",
      "\u001b[0;31mValueError\u001b[0m                                Traceback (most recent call last)",
      "Cell \u001b[0;32mIn[18], line 2\u001b[0m\n\u001b[1;32m      1\u001b[0m url_hierarchical \u001b[38;5;241m=\u001b[39m \u001b[38;5;124m\"\u001b[39m\u001b[38;5;124mhttps://raw.githubusercontent.com/DARPA-ASKEM/simulation-integration/refs/heads/main/data/models/hierarchical_sir_model.json\u001b[39m\u001b[38;5;124m\"\u001b[39m\n\u001b[0;32m----> 2\u001b[0m compiled_model \u001b[38;5;241m=\u001b[39m \u001b[43mCompiledDynamics\u001b[49m\u001b[38;5;241;43m.\u001b[39;49m\u001b[43mload\u001b[49m\u001b[43m(\u001b[49m\u001b[43murl_hierarchical\u001b[49m\u001b[43m)\u001b[49m\n\u001b[1;32m      3\u001b[0m \u001b[38;5;28;01mwith\u001b[39;00m TorchDiffEq():\n\u001b[1;32m      4\u001b[0m     \u001b[38;5;66;03m#simulation = compiled_model(start_time=torch.as_tensor(0.0), end_time=torch.as_tensor(0.0))\u001b[39;00m\n\u001b[1;32m      5\u001b[0m     dependencies \u001b[38;5;241m=\u001b[39m get_dependencies(compiled_model, model_args\u001b[38;5;241m=\u001b[39m[torch\u001b[38;5;241m.\u001b[39mas_tensor(\u001b[38;5;241m0.0\u001b[39m), torch\u001b[38;5;241m.\u001b[39mas_tensor(\u001b[38;5;241m0.0\u001b[39m)])\n",
      "File \u001b[0;32m~/.pyenv/versions/miniconda3-3.11-24.1.2-0/envs/pyciemss/lib/python3.12/functools.py:946\u001b[0m, in \u001b[0;36msingledispatchmethod.__get__.<locals>._method\u001b[0;34m(*args, **kwargs)\u001b[0m\n\u001b[1;32m    944\u001b[0m \u001b[38;5;28;01mdef\u001b[39;00m \u001b[38;5;21m_method\u001b[39m(\u001b[38;5;241m*\u001b[39margs, \u001b[38;5;241m*\u001b[39m\u001b[38;5;241m*\u001b[39mkwargs):\n\u001b[1;32m    945\u001b[0m     method \u001b[38;5;241m=\u001b[39m \u001b[38;5;28mself\u001b[39m\u001b[38;5;241m.\u001b[39mdispatcher\u001b[38;5;241m.\u001b[39mdispatch(args[\u001b[38;5;241m0\u001b[39m]\u001b[38;5;241m.\u001b[39m\u001b[38;5;18m__class__\u001b[39m)\n\u001b[0;32m--> 946\u001b[0m     \u001b[38;5;28;01mreturn\u001b[39;00m \u001b[43mmethod\u001b[49m\u001b[38;5;241;43m.\u001b[39;49m\u001b[38;5;21;43m__get__\u001b[39;49m\u001b[43m(\u001b[49m\u001b[43mobj\u001b[49m\u001b[43m,\u001b[49m\u001b[43m \u001b[49m\u001b[38;5;28;43mcls\u001b[39;49m\u001b[43m)\u001b[49m\u001b[43m(\u001b[49m\u001b[38;5;241;43m*\u001b[39;49m\u001b[43margs\u001b[49m\u001b[43m,\u001b[49m\u001b[43m \u001b[49m\u001b[38;5;241;43m*\u001b[39;49m\u001b[38;5;241;43m*\u001b[39;49m\u001b[43mkwargs\u001b[49m\u001b[43m)\u001b[49m\n",
      "File \u001b[0;32m~/Projects/ASKEM/build/pyciemss/pyciemss/compiled_dynamics.py:169\u001b[0m, in \u001b[0;36mCompiledDynamics._load_from_url_or_path\u001b[0;34m(cls, path)\u001b[0m\n\u001b[1;32m    167\u001b[0m \u001b[38;5;28;01melse\u001b[39;00m:\n\u001b[1;32m    168\u001b[0m     model \u001b[38;5;241m=\u001b[39m mira\u001b[38;5;241m.\u001b[39msources\u001b[38;5;241m.\u001b[39mamr\u001b[38;5;241m.\u001b[39mmodel_from_json_file(path)\n\u001b[0;32m--> 169\u001b[0m \u001b[38;5;28;01mreturn\u001b[39;00m \u001b[38;5;28;43mcls\u001b[39;49m\u001b[38;5;241;43m.\u001b[39;49m\u001b[43mload\u001b[49m\u001b[43m(\u001b[49m\u001b[43mmodel\u001b[49m\u001b[43m)\u001b[49m\n",
      "File \u001b[0;32m~/.pyenv/versions/miniconda3-3.11-24.1.2-0/envs/pyciemss/lib/python3.12/functools.py:946\u001b[0m, in \u001b[0;36msingledispatchmethod.__get__.<locals>._method\u001b[0;34m(*args, **kwargs)\u001b[0m\n\u001b[1;32m    944\u001b[0m \u001b[38;5;28;01mdef\u001b[39;00m \u001b[38;5;21m_method\u001b[39m(\u001b[38;5;241m*\u001b[39margs, \u001b[38;5;241m*\u001b[39m\u001b[38;5;241m*\u001b[39mkwargs):\n\u001b[1;32m    945\u001b[0m     method \u001b[38;5;241m=\u001b[39m \u001b[38;5;28mself\u001b[39m\u001b[38;5;241m.\u001b[39mdispatcher\u001b[38;5;241m.\u001b[39mdispatch(args[\u001b[38;5;241m0\u001b[39m]\u001b[38;5;241m.\u001b[39m\u001b[38;5;18m__class__\u001b[39m)\n\u001b[0;32m--> 946\u001b[0m     \u001b[38;5;28;01mreturn\u001b[39;00m \u001b[43mmethod\u001b[49m\u001b[38;5;241;43m.\u001b[39;49m\u001b[38;5;21;43m__get__\u001b[39;49m\u001b[43m(\u001b[49m\u001b[43mobj\u001b[49m\u001b[43m,\u001b[49m\u001b[43m \u001b[49m\u001b[38;5;28;43mcls\u001b[39;49m\u001b[43m)\u001b[49m\u001b[43m(\u001b[49m\u001b[38;5;241;43m*\u001b[39;49m\u001b[43margs\u001b[49m\u001b[43m,\u001b[49m\u001b[43m \u001b[49m\u001b[38;5;241;43m*\u001b[39;49m\u001b[38;5;241;43m*\u001b[39;49m\u001b[43mkwargs\u001b[49m\u001b[43m)\u001b[49m\n",
      "File \u001b[0;32m~/Projects/ASKEM/build/pyciemss/pyciemss/compiled_dynamics.py:179\u001b[0m, in \u001b[0;36mCompiledDynamics._load_from_template_model\u001b[0;34m(cls, template)\u001b[0m\n\u001b[1;32m    176\u001b[0m \u001b[38;5;129m@load\u001b[39m\u001b[38;5;241m.\u001b[39mregister(mira\u001b[38;5;241m.\u001b[39mmetamodel\u001b[38;5;241m.\u001b[39mTemplateModel)\n\u001b[1;32m    177\u001b[0m \u001b[38;5;129m@classmethod\u001b[39m\n\u001b[1;32m    178\u001b[0m \u001b[38;5;28;01mdef\u001b[39;00m \u001b[38;5;21m_load_from_template_model\u001b[39m(\u001b[38;5;28mcls\u001b[39m, template: mira\u001b[38;5;241m.\u001b[39mmetamodel\u001b[38;5;241m.\u001b[39mTemplateModel):\n\u001b[0;32m--> 179\u001b[0m     \u001b[38;5;28;01mreturn\u001b[39;00m \u001b[38;5;28;43mcls\u001b[39;49m\u001b[38;5;241;43m.\u001b[39;49m\u001b[43mload\u001b[49m\u001b[43m(\u001b[49m\u001b[43mmira\u001b[49m\u001b[38;5;241;43m.\u001b[39;49m\u001b[43mmodeling\u001b[49m\u001b[38;5;241;43m.\u001b[39;49m\u001b[43mModel\u001b[49m\u001b[43m(\u001b[49m\u001b[43mtemplate\u001b[49m\u001b[43m)\u001b[49m\u001b[43m)\u001b[49m\n",
      "File \u001b[0;32m~/.pyenv/versions/miniconda3-3.11-24.1.2-0/envs/pyciemss/lib/python3.12/functools.py:946\u001b[0m, in \u001b[0;36msingledispatchmethod.__get__.<locals>._method\u001b[0;34m(*args, **kwargs)\u001b[0m\n\u001b[1;32m    944\u001b[0m \u001b[38;5;28;01mdef\u001b[39;00m \u001b[38;5;21m_method\u001b[39m(\u001b[38;5;241m*\u001b[39margs, \u001b[38;5;241m*\u001b[39m\u001b[38;5;241m*\u001b[39mkwargs):\n\u001b[1;32m    945\u001b[0m     method \u001b[38;5;241m=\u001b[39m \u001b[38;5;28mself\u001b[39m\u001b[38;5;241m.\u001b[39mdispatcher\u001b[38;5;241m.\u001b[39mdispatch(args[\u001b[38;5;241m0\u001b[39m]\u001b[38;5;241m.\u001b[39m\u001b[38;5;18m__class__\u001b[39m)\n\u001b[0;32m--> 946\u001b[0m     \u001b[38;5;28;01mreturn\u001b[39;00m \u001b[43mmethod\u001b[49m\u001b[38;5;241;43m.\u001b[39;49m\u001b[38;5;21;43m__get__\u001b[39;49m\u001b[43m(\u001b[49m\u001b[43mobj\u001b[49m\u001b[43m,\u001b[49m\u001b[43m \u001b[49m\u001b[38;5;28;43mcls\u001b[39;49m\u001b[43m)\u001b[49m\u001b[43m(\u001b[49m\u001b[38;5;241;43m*\u001b[39;49m\u001b[43margs\u001b[49m\u001b[43m,\u001b[49m\u001b[43m \u001b[49m\u001b[38;5;241;43m*\u001b[39;49m\u001b[38;5;241;43m*\u001b[39;49m\u001b[43mkwargs\u001b[49m\u001b[43m)\u001b[49m\n",
      "File \u001b[0;32m~/Projects/ASKEM/build/pyciemss/pyciemss/compiled_dynamics.py:184\u001b[0m, in \u001b[0;36mCompiledDynamics._load_from_mira_model\u001b[0;34m(cls, src)\u001b[0m\n\u001b[1;32m    181\u001b[0m \u001b[38;5;129m@load\u001b[39m\u001b[38;5;241m.\u001b[39mregister(mira\u001b[38;5;241m.\u001b[39mmodeling\u001b[38;5;241m.\u001b[39mModel)\n\u001b[1;32m    182\u001b[0m \u001b[38;5;129m@classmethod\u001b[39m\n\u001b[1;32m    183\u001b[0m \u001b[38;5;28;01mdef\u001b[39;00m \u001b[38;5;21m_load_from_mira_model\u001b[39m(\u001b[38;5;28mcls\u001b[39m, src: mira\u001b[38;5;241m.\u001b[39mmodeling\u001b[38;5;241m.\u001b[39mModel):\n\u001b[0;32m--> 184\u001b[0m     \u001b[38;5;28;01mreturn\u001b[39;00m \u001b[38;5;28;43mcls\u001b[39;49m\u001b[43m(\u001b[49m\u001b[43msrc\u001b[49m\u001b[43m)\u001b[49m\n",
      "File \u001b[0;32m~/Projects/ASKEM/build/pyciemss/pyciemss/compiled_dynamics.py:28\u001b[0m, in \u001b[0;36mCompiledDynamics.__init__\u001b[0;34m(self, src, **kwargs)\u001b[0m\n\u001b[1;32m     26\u001b[0m     params \u001b[38;5;241m=\u001b[39m _compile_param_values(\u001b[38;5;28mself\u001b[39m\u001b[38;5;241m.\u001b[39msrc)\n\u001b[1;32m     27\u001b[0m \u001b[38;5;28;01mexcept\u001b[39;00m \u001b[38;5;167;01mException\u001b[39;00m \u001b[38;5;28;01mas\u001b[39;00m e:\n\u001b[0;32m---> 28\u001b[0m     \u001b[38;5;28;01mraise\u001b[39;00m \u001b[38;5;167;01mValueError\u001b[39;00m(\n\u001b[1;32m     29\u001b[0m         \u001b[38;5;124m\"\u001b[39m\u001b[38;5;124mThe model parameters could not be compiled. Please check the model definition.\u001b[39m\u001b[38;5;124m\"\u001b[39m\n\u001b[1;32m     30\u001b[0m     ) \u001b[38;5;28;01mfrom\u001b[39;00m \u001b[38;5;21;01me\u001b[39;00m\n\u001b[1;32m     32\u001b[0m \u001b[38;5;28;01mfor\u001b[39;00m k, v \u001b[38;5;129;01min\u001b[39;00m params\u001b[38;5;241m.\u001b[39mitems():\n\u001b[1;32m     33\u001b[0m     \u001b[38;5;28;01mif\u001b[39;00m \u001b[38;5;28mhasattr\u001b[39m(\u001b[38;5;28mself\u001b[39m, get_name(k)):\n",
      "\u001b[0;31mValueError\u001b[0m: The model parameters could not be compiled. Please check the model definition."
     ]
    }
   ],
   "source": [
    "url_hierarchical = \"https://raw.githubusercontent.com/DARPA-ASKEM/simulation-integration/refs/heads/main/data/models/hierarchical_sir_model.json\"\n",
    "compiled_model = CompiledDynamics.load(url_hierarchical)\n",
    "with TorchDiffEq():\n",
    "    #simulation = compiled_model(start_time=torch.as_tensor(0.0), end_time=torch.as_tensor(0.0))\n",
    "    dependencies = get_dependencies(compiled_model, model_args=[torch.as_tensor(0.0), torch.as_tensor(0.0)])\n",
    "dependencies"
   ]
  }
 ],
 "metadata": {
  "kernelspec": {
   "display_name": "pyciemss",
   "language": "python",
   "name": "python3"
  },
  "language_info": {
   "codemirror_mode": {
    "name": "ipython",
    "version": 3
   },
   "file_extension": ".py",
   "mimetype": "text/x-python",
   "name": "python",
   "nbconvert_exporter": "python",
   "pygments_lexer": "ipython3",
   "version": "3.12.2"
  }
 },
 "nbformat": 4,
 "nbformat_minor": 2
}
