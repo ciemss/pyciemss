{
 "cells": [
  {
   "cell_type": "markdown",
   "metadata": {},
   "source": [
    "# Hierarchical model\n"
   ]
  },
  {
   "cell_type": "code",
   "execution_count": 1,
   "metadata": {},
   "outputs": [],
   "source": [
    "import sympy\n",
    "\n",
    "from mira.metamodel import *\n",
    "from mira.modeling import Model\n",
    "from mira.modeling.amr.petrinet import template_model_to_petrinet_json\n",
    "from mira.sources.amr import model_from_json\n",
    "\n",
    "\n",
    "def test_distribution_expressions():\n",
    "    beta_mean = Parameter(name='beta_mean',\n",
    "                          distribution=Distribution(type=\"Beta1\",\n",
    "                                                    parameters={'alpha': sympy.Integer(1),\n",
    "                                                                'beta': sympy.Integer(10)}))\n",
    "    gamma_mean = Parameter(name='gamma_mean',\n",
    "                           distribution=Distribution(type=\"Beta1\",\n",
    "                                                     parameters={'alpha': sympy.Integer(10),\n",
    "                                                                 'beta': sympy.Integer(10)}))\n",
    "    beta = Parameter(name='beta',\n",
    "                     distribution=Distribution(type=\"InverseGamma1\",\n",
    "                                               parameters={'shape': sympy.Symbol('beta_mean'),\n",
    "                                                           'scale': sympy.Float(0.01)}))\n",
    "    gamma = Parameter(name='gamma',\n",
    "                      distribution=Distribution(type=\"InverseGamma1\",\n",
    "                                                parameters={'shape': sympy.Symbol('gamma_mean'),\n",
    "                                                            'scale': sympy.Float(0.01)}))\n",
    "\n",
    "    # Make an SIR model with beta and gamma in rate laws\n",
    "    sir_model = TemplateModel(\n",
    "        templates=[\n",
    "            ControlledConversion(\n",
    "                subject=Concept(name='S'),\n",
    "                outcome=Concept(name='I'),\n",
    "                controller=Concept(name='I'),\n",
    "                rate_law=sympy.Symbol('S') * sympy.Symbol('I') * sympy.Symbol('beta')\n",
    "            ),\n",
    "            NaturalConversion(\n",
    "                subject=Concept(name='I'),\n",
    "                outcome=Concept(name='R'),\n",
    "                rate_law=sympy.Symbol('I') * sympy.Symbol('gamma')\n",
    "            ),\n",
    "        ],\n",
    "        parameters={\n",
    "            'beta': beta,\n",
    "            'gamma': gamma,\n",
    "            'beta_mean': beta_mean,\n",
    "            'gamma_mean': gamma_mean,\n",
    "            }\n",
    "    )\n",
    "\n",
    "    model = Model(sir_model)\n",
    "    pn_json = template_model_to_petrinet_json(sir_model)\n",
    "    with open('hierarchical_sir_model.json', 'w') as fh:\n",
    "        json.dump(pn_json, fh)\n",
    "        \n",
    "    params = pn_json['semantics']['ode']['parameters']\n",
    "    assert {p['id'] for p in params} == \\\n",
    "        {'beta_mean', 'gamma_mean', 'beta', 'gamma'}\n",
    "    beta = [p for p in params if p['id'] == 'beta'][0]\n",
    "    assert beta['distribution']['type'] == 'InverseGamma1'\n",
    "    assert beta['distribution']['parameters']['shape'] == 'beta_mean'\n",
    "\n",
    "    # Now read the model back and check if it is deserialized\n",
    "    tm = model_from_json(pn_json)\n",
    "    assert tm.parameters['beta'].distribution.type == 'InverseGamma1'\n",
    "    assert isinstance(tm.parameters['beta'].distribution.parameters['shape'],\n",
    "                      SympyExprStr)\n",
    "    assert tm.parameters['beta'].distribution.parameters['shape'].args[0] == \\\n",
    "        sympy.Symbol('beta_mean')"
   ]
  }
 ],
 "metadata": {
  "kernelspec": {
   "display_name": "pyciemss",
   "language": "python",
   "name": "python3"
  },
  "language_info": {
   "codemirror_mode": {
    "name": "ipython",
    "version": 3
   },
   "file_extension": ".py",
   "mimetype": "text/x-python",
   "name": "python",
   "nbconvert_exporter": "python",
   "pygments_lexer": "ipython3",
   "version": "3.12.2"
  }
 },
 "nbformat": 4,
 "nbformat_minor": 2
}
