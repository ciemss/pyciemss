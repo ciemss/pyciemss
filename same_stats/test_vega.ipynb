{
 "cells": [
  {
   "cell_type": "code",
   "execution_count": 112,
   "metadata": {},
   "outputs": [],
   "source": [
    "\n",
    "# bundle = {\"application/vnd.vega.v5+json\": schema}\n",
    "# print(\"\", end=None)\n",
    "# IPython.display.display(bundle, raw=True)\n",
    "\n",
    "\n",
    "\n"
   ]
  },
  {
   "cell_type": "code",
   "execution_count": 113,
   "metadata": {},
   "outputs": [],
   "source": [
    "import networkx as nx\n",
    "import numpy as np\n",
    "import pandas as pd\n",
    "from pyciemss.integration_utils.result_processing import convert_to_output_format\n",
    "from pyciemss.visuals import  vega, plots\n",
    "from pathlib import Path\n",
    "import os\n",
    "import json \n",
    "\n",
    "from IPython.display import display"
   ]
  },
  {
   "cell_type": "code",
   "execution_count": 114,
   "metadata": {},
   "outputs": [],
   "source": [
    "import json\n",
    "import random\n",
    "from itertools import chain\n",
    "from pathlib import Path\n",
    "\n",
    "import networkx as nx\n",
    "import numpy as np\n",
    "import pandas as pd\n",
    "import pytest\n",
    "\n",
    "import pyciemss\n",
    "from pyciemss.integration_utils.result_processing import convert_to_output_format\n",
    "from pyciemss.visuals import plots, vega\n",
    "\n"
   ]
  },
  {
   "cell_type": "code",
   "execution_count": null,
   "metadata": {},
   "outputs": [],
   "source": [
    "\n"
   ]
  },
  {
   "cell_type": "code",
   "execution_count": 115,
   "metadata": {},
   "outputs": [
    {
     "name": "stdout",
     "output_type": "stream",
     "text": [
      "   timepoint_id  sample_id  persistent_beta_c_param  persistent_kappa_param  \\\n",
      "0             0          0                 0.128003                0.125241   \n",
      "1             1          0                 0.128003                0.125241   \n",
      "2             2          0                 0.128003                0.125241   \n",
      "3             3          0                 0.128003                0.125241   \n",
      "4             4          0                 0.128003                0.125241   \n",
      "\n",
      "   persistent_gamma_param  persistent_hosp_param  persistent_death_hosp_param  \\\n",
      "0                0.361102                0.17915                     0.074241   \n",
      "1                0.361102                0.17915                     0.074241   \n",
      "2                0.361102                0.17915                     0.074241   \n",
      "3                0.361102                0.17915                     0.074241   \n",
      "4                0.361102                0.17915                     0.074241   \n",
      "\n",
      "   persistent_I0_param   D_state    E_state   H_state    I_state    R_state  \\\n",
      "0             1.253513  0.000000  30.156992  0.081091  10.800868   0.371554   \n",
      "1             1.253513  0.001204  23.970459  0.763596  14.439903   3.588058   \n",
      "2             1.253513  0.012542  19.786316  1.545014  15.218244   8.009577   \n",
      "3             1.253513  0.035483  16.745687  2.220500  14.669489  12.806484   \n",
      "4             1.253513  0.068454  14.396490  2.725390  13.558733  17.565804   \n",
      "\n",
      "      S_state  infected_observable_state  exposed_observable_state  \\\n",
      "0  19339998.0                  10.800868                 30.156992   \n",
      "1  19339996.0                  14.439903                 23.970459   \n",
      "2  19339994.0                  15.218244                 19.786316   \n",
      "3  19339992.0                  14.669489                 16.745687   \n",
      "4  19339990.0                  13.558733                 14.396490   \n",
      "\n",
      "   hospitalized_observable_state  dead_observable_state  timepoint_notional  \n",
      "0                       0.081091               0.000000            0.000000  \n",
      "1                       0.763596               0.001204            1.020408  \n",
      "2                       1.545014               0.012542            2.040816  \n",
      "3                       2.220500               0.035483            3.061224  \n",
      "4                       2.725390               0.068454            4.081633  \n",
      "Index(['timepoint_id', 'sample_id', 'persistent_beta_c_param',\n",
      "       'persistent_kappa_param', 'persistent_gamma_param',\n",
      "       'persistent_hosp_param', 'persistent_death_hosp_param',\n",
      "       'persistent_I0_param', 'D_state', 'E_state', 'H_state', 'I_state',\n",
      "       'R_state', 'S_state', 'infected_observable_state',\n",
      "       'exposed_observable_state', 'hospitalized_observable_state',\n",
      "       'dead_observable_state', 'timepoint_notional'],\n",
      "      dtype='object')\n"
     ]
    }
   ],
   "source": [
    "def distributions():\n",
    "    model_1_path = (\n",
    "            \"https://raw.githubusercontent.com/DARPA-ASKEM/simulation-integration\"\n",
    "            \"/main/data/models/SEIRHD_NPI_Type1_petrinet.json\"\n",
    "    )\n",
    "    start_time = 0.0\n",
    "    end_time = 100.0\n",
    "    logging_step_size = 1\n",
    "    num_samples = 30\n",
    "    sample = pyciemss.sample(\n",
    "        model_1_path,\n",
    "        end_time,\n",
    "        logging_step_size,\n",
    "        num_samples,\n",
    "        start_time=start_time,\n",
    "        solver_method=\"euler\",\n",
    "    )[\"unprocessed_result\"]\n",
    "\n",
    "    for e in sample.values():\n",
    "        if len(e.shape) > 1:\n",
    "            num_timepoints = e.shape[1]\n",
    "\n",
    "    return convert_to_output_format(\n",
    "        sample,\n",
    "        timepoints=np.linspace(start_time, end_time, num_timepoints),\n",
    "        time_unit=\"notional\",\n",
    "    )\n",
    "\n",
    "distributions = distributions()\n",
    "print(distributions.head())\n",
    "print(distributions.columns)\n",
    "all_columns = [\"timepoint_id\", \"sample_id\", 'infected_observable_state',\n",
    "       'exposed_observable_state', 'hospitalized_observable_state',\n",
    "       'dead_observable_state']\n",
    "all_columns = [\"timepoint_id\", \"sample_id\", 'infected_observable_state']\n",
    "\n",
    "distributions = distributions[all_columns]"
   ]
  },
  {
   "cell_type": "code",
   "execution_count": 116,
   "metadata": {},
   "outputs": [],
   "source": [
    "# def traces(distributions):\n",
    "#     return (\n",
    "#         distributions[distributions[\"sample_id\"] == 0]\n",
    "#         .set_index(\"timepoint_notional\")[[\"dead_observable_state\", \"I_state\"]]\n",
    "#         .rename(\n",
    "#             columns={\n",
    "#                 \"dead_observable_state\": \"dead_exemplar\",\n",
    "#                 \"I_state\": \"I_exemplar\",\n",
    "#             }\n",
    "#         )\n",
    "#     )\n",
    "# traces = traces(distributions)\n",
    "# traces"
   ]
  },
  {
   "cell_type": "code",
   "execution_count": 117,
   "metadata": {},
   "outputs": [
    {
     "name": "stdout",
     "output_type": "stream",
     "text": [
      "\n",
      "Granger Causality\n",
      "number of lags (no zero) 10\n",
      "ssr based F test:         F=2.8761  , p=0.0047  , df_denom=68, df_num=10\n",
      "ssr based chi2 test:   chi2=37.6427 , p=0.0000  , df=10\n",
      "likelihood ratio test: chi2=31.3932 , p=0.0005  , df=10\n",
      "parameter F test:         F=3.3620  , p=0.0027  , df_denom=68, df_num=8\n",
      "\n",
      "Granger Causality\n",
      "number of lags (no zero) 10\n",
      "ssr based F test:         F=19.0399 , p=0.0000  , df_denom=68, df_num=10\n",
      "ssr based chi2 test:   chi2=249.1992, p=0.0000  , df=10\n",
      "likelihood ratio test: chi2=118.8149, p=0.0000  , df=10\n",
      "parameter F test:         F=19.0428 , p=0.0000  , df_denom=68, df_num=10\n",
      "\n",
      "Granger Causality\n",
      "number of lags (no zero) 10\n",
      "ssr based F test:         F=2.8251  , p=0.0054  , df_denom=68, df_num=10\n",
      "ssr based chi2 test:   chi2=36.9749 , p=0.0001  , df=10\n",
      "likelihood ratio test: chi2=30.9227 , p=0.0006  , df=10\n",
      "parameter F test:         F=3.3404  , p=0.0028  , df_denom=68, df_num=8\n",
      "\n",
      "Granger Causality\n",
      "number of lags (no zero) 10\n",
      "ssr based F test:         F=72.2333 , p=0.0000  , df_denom=68, df_num=10\n",
      "ssr based chi2 test:   chi2=945.4070, p=0.0000  , df=10\n",
      "likelihood ratio test: chi2=218.3123, p=0.0000  , df=10\n",
      "parameter F test:         F=72.2361 , p=0.0000  , df_denom=68, df_num=10\n",
      "\n",
      "Granger Causality\n",
      "number of lags (no zero) 10\n",
      "ssr based F test:         F=3.2455  , p=0.0018  , df_denom=68, df_num=10\n",
      "ssr based chi2 test:   chi2=42.4775 , p=0.0000  , df=10\n",
      "likelihood ratio test: chi2=34.7277 , p=0.0001  , df=10\n",
      "parameter F test:         F=3.1877  , p=0.0028  , df_denom=68, df_num=9\n",
      "\n",
      "Granger Causality\n",
      "number of lags (no zero) 10\n",
      "ssr based F test:         F=2.3775  , p=0.0176  , df_denom=68, df_num=10\n",
      "ssr based chi2 test:   chi2=31.1173 , p=0.0006  , df=10\n",
      "likelihood ratio test: chi2=26.6851 , p=0.0029  , df=10\n",
      "parameter F test:         F=2.8172  , p=0.0093  , df_denom=68, df_num=8\n",
      "\n",
      "Granger Causality\n",
      "number of lags (no zero) 10\n",
      "ssr based F test:         F=13.4966 , p=0.0000  , df_denom=68, df_num=10\n",
      "ssr based chi2 test:   chi2=176.6461, p=0.0000  , df=10\n",
      "likelihood ratio test: chi2=97.3240 , p=0.0000  , df=10\n",
      "parameter F test:         F=13.4972 , p=0.0000  , df_denom=68, df_num=10\n",
      "\n",
      "Granger Causality\n",
      "number of lags (no zero) 10\n",
      "ssr based F test:         F=3.4288  , p=0.0011  , df_denom=68, df_num=10\n",
      "ssr based chi2 test:   chi2=44.8768 , p=0.0000  , df=10\n",
      "likelihood ratio test: chi2=36.3372 , p=0.0001  , df=10\n",
      "parameter F test:         F=3.2062  , p=0.0027  , df_denom=68, df_num=9\n",
      "\n",
      "Granger Causality\n",
      "number of lags (no zero) 10\n",
      "ssr based F test:         F=3.2498  , p=0.0018  , df_denom=68, df_num=10\n",
      "ssr based chi2 test:   chi2=42.5335 , p=0.0000  , df=10\n",
      "likelihood ratio test: chi2=34.7657 , p=0.0001  , df=10\n",
      "parameter F test:         F=3.1824  , p=0.0029  , df_denom=68, df_num=9\n",
      "\n",
      "Granger Causality\n",
      "number of lags (no zero) 10\n",
      "ssr based F test:         F=55.4578 , p=0.0000  , df_denom=68, df_num=10\n",
      "ssr based chi2 test:   chi2=725.8448, p=0.0000  , df=10\n",
      "likelihood ratio test: chi2=197.0782, p=0.0000  , df=10\n",
      "parameter F test:         F=55.4551 , p=0.0000  , df_denom=68, df_num=10\n",
      "\n",
      "Granger Causality\n",
      "number of lags (no zero) 10\n",
      "ssr based F test:         F=16.8971 , p=0.0000  , df_denom=68, df_num=10\n",
      "ssr based chi2 test:   chi2=221.1531, p=0.0000  , df=10\n",
      "likelihood ratio test: chi2=111.1102, p=0.0000  , df=10\n",
      "parameter F test:         F=18.7873 , p=0.0000  , df_denom=68, df_num=9\n",
      "\n",
      "Granger Causality\n",
      "number of lags (no zero) 10\n",
      "ssr based F test:         F=1.5847  , p=0.1300  , df_denom=68, df_num=10\n",
      "ssr based chi2 test:   chi2=20.7406 , p=0.0230  , df=10\n",
      "likelihood ratio test: chi2=18.6440 , p=0.0450  , df=10\n",
      "parameter F test:         F=1.8109  , p=0.0900  , df_denom=68, df_num=8\n",
      "\n",
      "Granger Causality\n",
      "number of lags (no zero) 10\n",
      "ssr based F test:         F=34.1636 , p=0.0000  , df_denom=68, df_num=10\n",
      "ssr based chi2 test:   chi2=447.1409, p=0.0000  , df=10\n",
      "likelihood ratio test: chi2=159.8227, p=0.0000  , df=10\n",
      "parameter F test:         F=34.1642 , p=0.0000  , df_denom=68, df_num=10\n",
      "\n",
      "Granger Causality\n",
      "number of lags (no zero) 10\n",
      "ssr based F test:         F=18.3145 , p=0.0000  , df_denom=68, df_num=10\n",
      "ssr based chi2 test:   chi2=239.7051, p=0.0000  , df=10\n",
      "likelihood ratio test: chi2=116.2807, p=0.0000  , df=10\n",
      "parameter F test:         F=18.3149 , p=0.0000  , df_denom=68, df_num=10\n",
      "\n",
      "Granger Causality\n",
      "number of lags (no zero) 10\n",
      "ssr based F test:         F=3.0160  , p=0.0033  , df_denom=68, df_num=10\n",
      "ssr based chi2 test:   chi2=39.4746 , p=0.0000  , df=10\n",
      "likelihood ratio test: chi2=32.6714 , p=0.0003  , df=10\n",
      "parameter F test:         F=3.1459  , p=0.0032  , df_denom=68, df_num=9\n",
      "\n",
      "Granger Causality\n",
      "number of lags (no zero) 10\n",
      "ssr based F test:         F=11.9070 , p=0.0000  , df_denom=68, df_num=10\n",
      "ssr based chi2 test:   chi2=155.8423, p=0.0000  , df=10\n",
      "likelihood ratio test: chi2=90.0660 , p=0.0000  , df=10\n",
      "parameter F test:         F=11.9185 , p=0.0000  , df_denom=68, df_num=10\n",
      "\n",
      "Granger Causality\n",
      "number of lags (no zero) 10\n",
      "ssr based F test:         F=3.4137  , p=0.0012  , df_denom=68, df_num=10\n",
      "ssr based chi2 test:   chi2=44.6794 , p=0.0000  , df=10\n",
      "likelihood ratio test: chi2=36.2059 , p=0.0001  , df=10\n",
      "parameter F test:         F=3.2215  , p=0.0026  , df_denom=68, df_num=9\n",
      "\n",
      "Granger Causality\n",
      "number of lags (no zero) 10\n",
      "ssr based F test:         F=13.6942 , p=0.0000  , df_denom=68, df_num=10\n",
      "ssr based chi2 test:   chi2=179.2325, p=0.0000  , df=10\n",
      "likelihood ratio test: chi2=98.1864 , p=0.0000  , df=10\n",
      "parameter F test:         F=13.6932 , p=0.0000  , df_denom=68, df_num=10\n",
      "\n",
      "Granger Causality\n",
      "number of lags (no zero) 10\n",
      "ssr based F test:         F=11.3910 , p=0.0000  , df_denom=68, df_num=10\n",
      "ssr based chi2 test:   chi2=149.0880, p=0.0000  , df=10\n",
      "likelihood ratio test: chi2=87.5763 , p=0.0000  , df=10\n",
      "parameter F test:         F=11.3922 , p=0.0000  , df_denom=68, df_num=10\n",
      "\n",
      "Granger Causality\n",
      "number of lags (no zero) 10\n",
      "ssr based F test:         F=3.3672  , p=0.0013  , df_denom=68, df_num=10\n",
      "ssr based chi2 test:   chi2=44.0703 , p=0.0000  , df=10\n",
      "likelihood ratio test: chi2=35.7995 , p=0.0001  , df=10\n",
      "parameter F test:         F=3.2061  , p=0.0027  , df_denom=68, df_num=9\n",
      "\n",
      "Granger Causality\n",
      "number of lags (no zero) 10\n",
      "ssr based F test:         F=14.1847 , p=0.0000  , df_denom=68, df_num=10\n",
      "ssr based chi2 test:   chi2=185.6525, p=0.0000  , df=10\n",
      "likelihood ratio test: chi2=100.2914, p=0.0000  , df=10\n",
      "parameter F test:         F=14.1842 , p=0.0000  , df_denom=68, df_num=10\n",
      "\n",
      "Granger Causality\n",
      "number of lags (no zero) 10\n",
      "ssr based F test:         F=22.8475 , p=0.0000  , df_denom=68, df_num=10\n",
      "ssr based chi2 test:   chi2=299.0328, p=0.0000  , df=10\n",
      "likelihood ratio test: chi2=131.0484, p=0.0000  , df=10\n",
      "parameter F test:         F=22.8468 , p=0.0000  , df_denom=68, df_num=10\n",
      "\n",
      "Granger Causality\n",
      "number of lags (no zero) 10\n",
      "ssr based F test:         F=3.4366  , p=0.0011  , df_denom=68, df_num=10\n",
      "ssr based chi2 test:   chi2=44.9785 , p=0.0000  , df=10\n",
      "likelihood ratio test: chi2=36.4048 , p=0.0001  , df=10\n",
      "parameter F test:         F=3.2334  , p=0.0025  , df_denom=68, df_num=9\n",
      "\n",
      "Granger Causality\n",
      "number of lags (no zero) 10\n",
      "ssr based F test:         F=28.8881 , p=0.0000  , df_denom=68, df_num=10\n",
      "ssr based chi2 test:   chi2=378.0942, p=0.0000  , df=10\n",
      "likelihood ratio test: chi2=147.5526, p=0.0000  , df=10\n",
      "parameter F test:         F=28.8867 , p=0.0000  , df_denom=68, df_num=10\n",
      "\n",
      "Granger Causality\n",
      "number of lags (no zero) 10\n",
      "ssr based F test:         F=15.5740 , p=0.0000  , df_denom=68, df_num=10\n",
      "ssr based chi2 test:   chi2=203.8368, p=0.0000  , df=10\n",
      "likelihood ratio test: chi2=105.9971, p=0.0000  , df=10\n",
      "parameter F test:         F=17.3287 , p=0.0000  , df_denom=68, df_num=9\n",
      "\n",
      "Granger Causality\n",
      "number of lags (no zero) 10\n",
      "ssr based F test:         F=12.4076 , p=0.0000  , df_denom=68, df_num=10\n",
      "ssr based chi2 test:   chi2=162.3932, p=0.0000  , df=10\n",
      "likelihood ratio test: chi2=92.4160 , p=0.0000  , df=10\n",
      "parameter F test:         F=13.7745 , p=0.0000  , df_denom=68, df_num=9\n",
      "\n",
      "Granger Causality\n",
      "number of lags (no zero) 10\n",
      "ssr based F test:         F=24.5096 , p=0.0000  , df_denom=68, df_num=10\n",
      "ssr based chi2 test:   chi2=320.7875, p=0.0000  , df=10\n",
      "likelihood ratio test: chi2=135.9032, p=0.0000  , df=10\n",
      "parameter F test:         F=24.5117 , p=0.0000  , df_denom=68, df_num=10\n",
      "\n",
      "Granger Causality\n",
      "number of lags (no zero) 10\n",
      "ssr based F test:         F=3.7417  , p=0.0005  , df_denom=68, df_num=10\n",
      "ssr based chi2 test:   chi2=48.9723 , p=0.0000  , df=10\n",
      "likelihood ratio test: chi2=39.0191 , p=0.0000  , df=10\n",
      "parameter F test:         F=3.7371  , p=0.0005  , df_denom=68, df_num=10\n",
      "\n",
      "Granger Causality\n",
      "number of lags (no zero) 10\n",
      "ssr based F test:         F=2.8430  , p=0.0052  , df_denom=68, df_num=10\n",
      "ssr based chi2 test:   chi2=37.2099 , p=0.0001  , df=10\n",
      "likelihood ratio test: chi2=31.0886 , p=0.0006  , df=10\n",
      "parameter F test:         F=3.3232  , p=0.0029  , df_denom=68, df_num=8\n",
      "\n",
      "Granger Causality\n",
      "number of lags (no zero) 10\n",
      "ssr based F test:         F=6.1733  , p=0.0000  , df_denom=68, df_num=10\n",
      "ssr based chi2 test:   chi2=80.7976 , p=0.0000  , df=10\n",
      "likelihood ratio test: chi2=57.4914 , p=0.0000  , df=10\n",
      "parameter F test:         F=6.1774  , p=0.0000  , df_denom=68, df_num=10\n"
     ]
    },
    {
     "name": "stderr",
     "output_type": "stream",
     "text": [
      "/Users/oost464/opt/anaconda3/envs/pyciems310/lib/python3.10/site-packages/statsmodels/base/model.py:1896: ValueWarning: covariance of constraints does not have full rank. The number of constraints is 10, but rank is 8\n",
      "  warnings.warn('covariance of constraints does not have full '\n",
      "/Users/oost464/opt/anaconda3/envs/pyciems310/lib/python3.10/site-packages/statsmodels/base/model.py:1896: ValueWarning: covariance of constraints does not have full rank. The number of constraints is 10, but rank is 8\n",
      "  warnings.warn('covariance of constraints does not have full '\n",
      "/Users/oost464/opt/anaconda3/envs/pyciems310/lib/python3.10/site-packages/statsmodels/base/model.py:1896: ValueWarning: covariance of constraints does not have full rank. The number of constraints is 10, but rank is 9\n",
      "  warnings.warn('covariance of constraints does not have full '\n",
      "/Users/oost464/opt/anaconda3/envs/pyciems310/lib/python3.10/site-packages/statsmodels/base/model.py:1896: ValueWarning: covariance of constraints does not have full rank. The number of constraints is 10, but rank is 8\n",
      "  warnings.warn('covariance of constraints does not have full '\n",
      "/Users/oost464/opt/anaconda3/envs/pyciems310/lib/python3.10/site-packages/statsmodels/base/model.py:1896: ValueWarning: covariance of constraints does not have full rank. The number of constraints is 10, but rank is 9\n",
      "  warnings.warn('covariance of constraints does not have full '\n",
      "/Users/oost464/opt/anaconda3/envs/pyciems310/lib/python3.10/site-packages/statsmodels/base/model.py:1896: ValueWarning: covariance of constraints does not have full rank. The number of constraints is 10, but rank is 9\n",
      "  warnings.warn('covariance of constraints does not have full '\n",
      "/Users/oost464/opt/anaconda3/envs/pyciems310/lib/python3.10/site-packages/statsmodels/base/model.py:1896: ValueWarning: covariance of constraints does not have full rank. The number of constraints is 10, but rank is 9\n",
      "  warnings.warn('covariance of constraints does not have full '\n",
      "/Users/oost464/opt/anaconda3/envs/pyciems310/lib/python3.10/site-packages/statsmodels/base/model.py:1896: ValueWarning: covariance of constraints does not have full rank. The number of constraints is 10, but rank is 8\n",
      "  warnings.warn('covariance of constraints does not have full '\n",
      "/Users/oost464/opt/anaconda3/envs/pyciems310/lib/python3.10/site-packages/statsmodels/base/model.py:1896: ValueWarning: covariance of constraints does not have full rank. The number of constraints is 10, but rank is 9\n",
      "  warnings.warn('covariance of constraints does not have full '\n",
      "/Users/oost464/opt/anaconda3/envs/pyciems310/lib/python3.10/site-packages/statsmodels/base/model.py:1896: ValueWarning: covariance of constraints does not have full rank. The number of constraints is 10, but rank is 9\n",
      "  warnings.warn('covariance of constraints does not have full '\n",
      "/Users/oost464/opt/anaconda3/envs/pyciems310/lib/python3.10/site-packages/statsmodels/base/model.py:1896: ValueWarning: covariance of constraints does not have full rank. The number of constraints is 10, but rank is 9\n",
      "  warnings.warn('covariance of constraints does not have full '\n",
      "/Users/oost464/opt/anaconda3/envs/pyciems310/lib/python3.10/site-packages/statsmodels/base/model.py:1896: ValueWarning: covariance of constraints does not have full rank. The number of constraints is 10, but rank is 9\n",
      "  warnings.warn('covariance of constraints does not have full '\n",
      "/Users/oost464/opt/anaconda3/envs/pyciems310/lib/python3.10/site-packages/statsmodels/base/model.py:1896: ValueWarning: covariance of constraints does not have full rank. The number of constraints is 10, but rank is 9\n",
      "  warnings.warn('covariance of constraints does not have full '\n",
      "/Users/oost464/opt/anaconda3/envs/pyciems310/lib/python3.10/site-packages/statsmodels/base/model.py:1896: ValueWarning: covariance of constraints does not have full rank. The number of constraints is 10, but rank is 9\n",
      "  warnings.warn('covariance of constraints does not have full '\n",
      "/Users/oost464/opt/anaconda3/envs/pyciems310/lib/python3.10/site-packages/statsmodels/base/model.py:1896: ValueWarning: covariance of constraints does not have full rank. The number of constraints is 10, but rank is 8\n",
      "  warnings.warn('covariance of constraints does not have full '\n"
     ]
    }
   ],
   "source": [
    "%matplotlib inline\n",
    "\n",
    "_output_root = \"output_images/\"\n",
    "\n",
    "def save_result(data, name, ref_ext):\n",
    "    \"\"\"Save new reference files\"\"\"\n",
    "    # _output_root.mkdir(parents=True, exist_ok=True)\n",
    "\n",
    "    mode = \"w\" if ref_ext == \"svg\" else \"wb\"\n",
    "    with open(os.path.join(_output_root, f\"{name}.{ref_ext}\"), mode) as f:\n",
    "        f.write(data)\n",
    "        \n",
    "#select_by \"mean\", \"var\", \"granger\"\n",
    "\n",
    "traces = pyciemss.visuals.trajectories.select_traces(distributions, select_by = \"mean\")\n",
    "traces[\"timepoint_id\"] = traces.index\n",
    "traces = traces.rename(columns={c: c+'_mean' for c in traces.columns if c not in [\"timepoint_id\"]})\n",
    "traces_var = pyciemss.visuals.trajectories.select_traces(distributions, select_by = \"var\")\n",
    "traces_var[\"timepoint_id\"] = traces.index\n",
    "traces_var = traces_var.rename(columns={c: c+'_var' for c in traces_var.columns if c not in [\"timepoint_id\"]})\n",
    "traces_granger = pyciemss.visuals.trajectories.select_traces(distributions, select_by = \"granger\")\n",
    "traces_granger[\"timepoint_id\"] = traces.index\n",
    "traces_granger = traces_granger.rename(columns={c: c+'_granger' for c in traces_granger.columns if c not in [\"timepoint_id\"]})\n",
    "\n",
    "new_df = pd.merge(traces, traces_var,  how='left', on=[\"timepoint_id\"])\n",
    "traces = pd.merge(new_df, traces_granger,  how='left', on=[\"timepoint_id\"])"
   ]
  },
  {
   "cell_type": "code",
   "execution_count": 118,
   "metadata": {},
   "outputs": [
    {
     "name": "stdout",
     "output_type": "stream",
     "text": [
      "\n"
     ]
    },
    {
     "data": {
      "application/vnd.vega.v5+json": {
       "$schema": "https://vega.github.io/schema/vega/v5.json",
       "axes": [
        {
         "name": "x_axis",
         "orient": "bottom",
         "scale": "xscale",
         "zindex": 100
        },
        {
         "name": "y_axis",
         "orient": "left",
         "scale": "yscale",
         "zindex": 100
        }
       ],
       "data": [
        {
         "name": "distributions",
         "transform": [
          {
           "sort": {
            "field": [
             "trajectory",
             "timepoint"
            ]
           },
           "type": "collect"
          }
         ],
         "values": [
          {
           "lower": 11.213274288177491,
           "timepoint": 0,
           "trajectory": "infected_observable_state",
           "upper": 21.48441047668457
          },
          {
           "lower": 15.593919658660889,
           "timepoint": 1,
           "trajectory": "infected_observable_state",
           "upper": 27.698816680908198
          },
          {
           "lower": 15.359690427780151,
           "timepoint": 2,
           "trajectory": "infected_observable_state",
           "upper": 32.64205408096313
          },
          {
           "lower": 14.565283393859863,
           "timepoint": 3,
           "trajectory": "infected_observable_state",
           "upper": 37.47304763793945
          },
          {
           "lower": 13.324045562744141,
           "timepoint": 4,
           "trajectory": "infected_observable_state",
           "upper": 42.708728790283196
          },
          {
           "lower": 11.98137674331665,
           "timepoint": 5,
           "trajectory": "infected_observable_state",
           "upper": 48.587938308715806
          },
          {
           "lower": 10.677094078063964,
           "timepoint": 6,
           "trajectory": "infected_observable_state",
           "upper": 55.845745468139626
          },
          {
           "lower": 9.468545246124268,
           "timepoint": 7,
           "trajectory": "infected_observable_state",
           "upper": 65.1930065155029
          },
          {
           "lower": 8.36341814994812,
           "timepoint": 8,
           "trajectory": "infected_observable_state",
           "upper": 76.1005317687988
          },
          {
           "lower": 7.297171592712402,
           "timepoint": 9,
           "trajectory": "infected_observable_state",
           "upper": 88.83140983581539
          },
          {
           "lower": 6.352532887458802,
           "timepoint": 10,
           "trajectory": "infected_observable_state",
           "upper": 104.26207122802731
          },
          {
           "lower": 5.515615749359131,
           "timepoint": 11,
           "trajectory": "infected_observable_state",
           "upper": 122.84765777587887
          },
          {
           "lower": 4.787167191505432,
           "timepoint": 12,
           "trajectory": "infected_observable_state",
           "upper": 144.76252670288082
          },
          {
           "lower": 4.154363107681275,
           "timepoint": 13,
           "trajectory": "infected_observable_state",
           "upper": 170.6060218811035
          },
          {
           "lower": 3.6052691221237185,
           "timepoint": 14,
           "trajectory": "infected_observable_state",
           "upper": 201.08591461181638
          },
          {
           "lower": 3.1291083097457886,
           "timepoint": 15,
           "trajectory": "infected_observable_state",
           "upper": 237.0380577087402
          },
          {
           "lower": 2.7163164615631104,
           "timepoint": 16,
           "trajectory": "infected_observable_state",
           "upper": 279.56993865966797
          },
          {
           "lower": 2.3584921598434447,
           "timepoint": 17,
           "trajectory": "infected_observable_state",
           "upper": 330.33876342773436
          },
          {
           "lower": 2.0483018934726718,
           "timepoint": 18,
           "trajectory": "infected_observable_state",
           "upper": 390.3710098266601
          },
          {
           "lower": 1.7793694853782656,
           "timepoint": 19,
           "trajectory": "infected_observable_state",
           "upper": 461.3646209716796
          },
          {
           "lower": 1.546163696050644,
           "timepoint": 20,
           "trajectory": "infected_observable_state",
           "upper": 545.3300781249999
          },
          {
           "lower": 1.343893140554428,
           "timepoint": 21,
           "trajectory": "infected_observable_state",
           "upper": 644.6481109619139
          },
          {
           "lower": 1.1684108138084413,
           "timepoint": 22,
           "trajectory": "infected_observable_state",
           "upper": 762.1381835937498
          },
          {
           "lower": 1.0161289751529694,
           "timepoint": 23,
           "trajectory": "infected_observable_state",
           "upper": 901.1395050048824
          },
          {
           "lower": 0.8874454796314241,
           "timepoint": 24,
           "trajectory": "infected_observable_state",
           "upper": 1065.6073516845697
          },
          {
           "lower": 0.7764742612838746,
           "timepoint": 25,
           "trajectory": "infected_observable_state",
           "upper": 1260.2267089843742
          },
          {
           "lower": 0.6792875200510026,
           "timepoint": 26,
           "trajectory": "infected_observable_state",
           "upper": 1490.547558593749
          },
          {
           "lower": 0.5942916080355645,
           "timepoint": 27,
           "trajectory": "infected_observable_state",
           "upper": 1763.1448669433582
          },
          {
           "lower": 0.519953989982605,
           "timepoint": 28,
           "trajectory": "infected_observable_state",
           "upper": 2085.8079589843733
          },
          {
           "lower": 0.4549351960420609,
           "timepoint": 29,
           "trajectory": "infected_observable_state",
           "upper": 2467.7656494140606
          },
          {
           "lower": 0.3980645120143891,
           "timepoint": 30,
           "trajectory": "infected_observable_state",
           "upper": 2919.9517089843725
          },
          {
           "lower": 0.3483185559511185,
           "timepoint": 31,
           "trajectory": "infected_observable_state",
           "upper": 3455.320654296872
          },
          {
           "lower": 0.30480282306671147,
           "timepoint": 32,
           "trajectory": "infected_observable_state",
           "upper": 4089.2205810546834
          },
          {
           "lower": 0.2667352989315987,
           "timepoint": 33,
           "trajectory": "infected_observable_state",
           "upper": 4839.8343383789015
          },
          {
           "lower": 0.23343238383531573,
           "timepoint": 34,
           "trajectory": "infected_observable_state",
           "upper": 5728.702612304682
          },
          {
           "lower": 0.20429642871022227,
           "timepoint": 35,
           "trajectory": "infected_observable_state",
           "upper": 6781.341406249992
          },
          {
           "lower": 0.17880490198731425,
           "timepoint": 36,
           "trajectory": "infected_observable_state",
           "upper": 8027.970703124991
          },
          {
           "lower": 0.1565009642392397,
           "timepoint": 37,
           "trajectory": "infected_observable_state",
           "upper": 9504.376245117175
          },
          {
           "lower": 0.13698516190052035,
           "timepoint": 38,
           "trajectory": "infected_observable_state",
           "upper": 11252.925097656236
          },
          {
           "lower": 0.11990819573402406,
           "timepoint": 39,
           "trajectory": "infected_observable_state",
           "upper": 13323.759326171858
          },
          {
           "lower": 0.10496462956070901,
           "timepoint": 40,
           "trajectory": "infected_observable_state",
           "upper": 15776.204785156227
          },
          {
           "lower": 0.09188736118376256,
           "timepoint": 41,
           "trajectory": "infected_observable_state",
           "upper": 18680.415722656224
          },
          {
           "lower": 0.0804428167641163,
           "timepoint": 42,
           "trajectory": "infected_observable_state",
           "upper": 22119.307714843715
          },
          {
           "lower": 0.07042670194059611,
           "timepoint": 43,
           "trajectory": "infected_observable_state",
           "upper": 26190.81230468746
          },
          {
           "lower": 0.06166034359484912,
           "timepoint": 44,
           "trajectory": "infected_observable_state",
           "upper": 31010.492089843698
          },
          {
           "lower": 0.05398747492581607,
           "timepoint": 45,
           "trajectory": "infected_observable_state",
           "upper": 36714.57988281244
          },
          {
           "lower": 0.047271401993930345,
           "timepoint": 46,
           "trajectory": "infected_observable_state",
           "upper": 43463.468652343676
          },
          {
           "lower": 0.0413925588130951,
           "timepoint": 47,
           "trajectory": "infected_observable_state",
           "upper": 51445.71093749991
          },
          {
           "lower": 0.036246353015303615,
           "timepoint": 48,
           "trajectory": "infected_observable_state",
           "upper": 60882.54511718739
          },
          {
           "lower": 0.03174128998070956,
           "timepoint": 49,
           "trajectory": "infected_observable_state",
           "upper": 72032.98339843737
          },
          {
           "lower": 0.02779731992632151,
           "timepoint": 50,
           "trajectory": "infected_observable_state",
           "upper": 85199.43515624983
          },
          {
           "lower": 0.024344414100050928,
           "timepoint": 51,
           "trajectory": "infected_observable_state",
           "upper": 100733.7884765623
          },
          {
           "lower": 0.021321299951523546,
           "timepoint": 52,
           "trajectory": "infected_observable_state",
           "upper": 119043.89726562476
          },
          {
           "lower": 0.018674369622021916,
           "timepoint": 53,
           "trajectory": "infected_observable_state",
           "upper": 140600.09999999971
          },
          {
           "lower": 0.016356712859123948,
           "timepoint": 54,
           "trajectory": "infected_observable_state",
           "upper": 165941.60664062464
          },
          {
           "lower": 0.014327283343300225,
           "timepoint": 55,
           "trajectory": "infected_observable_state",
           "upper": 195681.95351562457
          },
          {
           "lower": 0.012550162198022009,
           "timepoint": 56,
           "trajectory": "infected_observable_state",
           "upper": 230512.91718749952
          },
          {
           "lower": 0.01099391579627991,
           "timepoint": 57,
           "trajectory": "infected_observable_state",
           "upper": 271205.63046874944
          },
          {
           "lower": 0.009631035267375411,
           "timepoint": 58,
           "trajectory": "infected_observable_state",
           "upper": 318607.3124999993
          },
          {
           "lower": 0.008437444921582939,
           "timepoint": 59,
           "trajectory": "infected_observable_state",
           "upper": 373631.76249999914
          },
          {
           "lower": 0.007392073399387302,
           "timepoint": 60,
           "trajectory": "infected_observable_state",
           "upper": 437240.946874999
          },
          {
           "lower": 0.006476477463729681,
           "timepoint": 61,
           "trajectory": "infected_observable_state",
           "upper": 510414.8015624988
          },
          {
           "lower": 0.005674513394478709,
           "timepoint": 62,
           "trajectory": "infected_observable_state",
           "upper": 594106.0718749986
          },
          {
           "lower": 0.004972049756906927,
           "timepoint": 63,
           "trajectory": "infected_observable_state",
           "upper": 689177.1937499985
          },
          {
           "lower": 0.0043567163636907946,
           "timepoint": 64,
           "trajectory": "infected_observable_state",
           "upper": 796316.6703124982
          },
          {
           "lower": 0.003817684424575419,
           "timepoint": 65,
           "trajectory": "infected_observable_state",
           "upper": 915934.9031249979
          },
          {
           "lower": 0.0033454734017141167,
           "timepoint": 66,
           "trajectory": "infected_observable_state",
           "upper": 1048042.3374999976
          },
          {
           "lower": 0.0029317833192180846,
           "timepoint": 67,
           "trajectory": "infected_observable_state",
           "upper": 1192116.8156249973
          },
          {
           "lower": 0.0025693471892736857,
           "timepoint": 68,
           "trajectory": "infected_observable_state",
           "upper": 1346974.656249997
          },
          {
           "lower": 0.002251802466344089,
           "timepoint": 69,
           "trajectory": "infected_observable_state",
           "upper": 1510665.4906249968
          },
          {
           "lower": 0.0019735776935704058,
           "timepoint": 70,
           "trajectory": "infected_observable_state",
           "upper": 1680416.5562499966
          },
          {
           "lower": 0.001729794690618292,
           "timepoint": 71,
           "trajectory": "infected_observable_state",
           "upper": 1852653.5437499965
          },
          {
           "lower": 0.0015161813702434304,
           "timepoint": 72,
           "trajectory": "infected_observable_state",
           "upper": 2023119.6937499961
          },
          {
           "lower": 0.0013289967144373806,
           "timepoint": 73,
           "trajectory": "infected_observable_state",
           "upper": 2187101.987499996
          },
          {
           "lower": 0.001164964685449377,
           "timepoint": 74,
           "trajectory": "infected_observable_state",
           "upper": 2339749.5374999964
          },
          {
           "lower": 0.0010212159919319678,
           "timepoint": 75,
           "trajectory": "infected_observable_state",
           "upper": 2319734.618749997
          },
          {
           "lower": 0.0008952376811066645,
           "timepoint": 76,
           "trajectory": "infected_observable_state",
           "upper": 2234298.768749999
          },
          {
           "lower": 0.0007848286913940685,
           "timepoint": 77,
           "trajectory": "infected_observable_state",
           "upper": 2165759.5125
          },
          {
           "lower": 0.0006880612869281323,
           "timepoint": 78,
           "trajectory": "infected_observable_state",
           "upper": 2253598.2999999993
          },
          {
           "lower": 0.0006032467470504345,
           "timepoint": 79,
           "trajectory": "infected_observable_state",
           "upper": 2438558.3999999994
          },
          {
           "lower": 0.0005289057880872862,
           "timepoint": 80,
           "trajectory": "infected_observable_state",
           "upper": 2615275.7624999993
          },
          {
           "lower": 0.00046374268567888076,
           "timepoint": 81,
           "trajectory": "infected_observable_state",
           "upper": 2714834.6624999996
          },
          {
           "lower": 0.0004066222427354661,
           "timepoint": 82,
           "trajectory": "infected_observable_state",
           "upper": 2716753.8249999993
          },
          {
           "lower": 0.00035654998573591006,
           "timepoint": 83,
           "trajectory": "infected_observable_state",
           "upper": 2707936.349999998
          },
          {
           "lower": 0.00031265459983842453,
           "timepoint": 84,
           "trajectory": "infected_observable_state",
           "upper": 2680287.5624999977
          },
          {
           "lower": 0.000274172717035981,
           "timepoint": 85,
           "trajectory": "infected_observable_state",
           "upper": 2634452.1874999967
          },
          {
           "lower": 0.0002404354705504375,
           "timepoint": 86,
           "trajectory": "infected_observable_state",
           "upper": 2571269.674999996
          },
          {
           "lower": 0.00021085682565171742,
           "timepoint": 87,
           "trajectory": "infected_observable_state",
           "upper": 2488688.5312499953
          },
          {
           "lower": 0.00018492294693714942,
           "timepoint": 88,
           "trajectory": "infected_observable_state",
           "upper": 2473110.312499996
          },
          {
           "lower": 0.00016214598945225593,
           "timepoint": 89,
           "trajectory": "infected_observable_state",
           "upper": 2457134.431249996
          },
          {
           "lower": 0.0001396831214151462,
           "timepoint": 90,
           "trajectory": "infected_observable_state",
           "upper": 2394913.0249999966
          },
          {
           "lower": 0.00011692703228618486,
           "timepoint": 91,
           "trajectory": "infected_observable_state",
           "upper": 2280621.8749999977
          },
          {
           "lower": 0.0000960757552093128,
           "timepoint": 92,
           "trajectory": "infected_observable_state",
           "upper": 2139948.874999998
          },
          {
           "lower": 0.00007796373793098612,
           "timepoint": 93,
           "trajectory": "infected_observable_state",
           "upper": 1988173.4249999986
          },
          {
           "lower": 0.00006271964648476571,
           "timepoint": 94,
           "trajectory": "infected_observable_state",
           "upper": 1834283.5249999992
          },
          {
           "lower": 0.00005014529688196491,
           "timepoint": 95,
           "trajectory": "infected_observable_state",
           "upper": 1683558.6249999998
          },
          {
           "lower": 0.00003991276516899234,
           "timepoint": 96,
           "trajectory": "infected_observable_state",
           "upper": 1545322.1624999999
          },
          {
           "lower": 0.000031664201833336855,
           "timepoint": 97,
           "trajectory": "infected_observable_state",
           "upper": 1420486.4312499994
          },
          {
           "lower": 0.000025059652489289878,
           "timepoint": 98,
           "trajectory": "infected_observable_state",
           "upper": 1301903.612499999
          }
         ]
        },
        {
         "name": "traces",
         "transform": [
          {
           "expr": "isValid(datum.value)",
           "type": "filter"
          },
          {
           "sort": {
            "field": [
             "trajectory",
             "timepoint"
            ]
           },
           "type": "collect"
          }
         ],
         "values": [
          {
           "sample_id": 0,
           "timepoint": 0,
           "trajectory": "infected_observable_state_mean",
           "value": 11.969684600830078
          },
          {
           "sample_id": 0,
           "timepoint": 1,
           "trajectory": "infected_observable_state_mean",
           "value": 15.828713417053223
          },
          {
           "sample_id": 0,
           "timepoint": 2,
           "trajectory": "infected_observable_state_mean",
           "value": 18.44500732421875
          },
          {
           "sample_id": 0,
           "timepoint": 3,
           "trajectory": "infected_observable_state_mean",
           "value": 20.906946182250977
          },
          {
           "sample_id": 0,
           "timepoint": 4,
           "trajectory": "infected_observable_state_mean",
           "value": 23.540363311767578
          },
          {
           "sample_id": 0,
           "timepoint": 5,
           "trajectory": "infected_observable_state_mean",
           "value": 26.46222686767578
          },
          {
           "sample_id": 0,
           "timepoint": 6,
           "trajectory": "infected_observable_state_mean",
           "value": 29.734764099121094
          },
          {
           "sample_id": 0,
           "timepoint": 7,
           "trajectory": "infected_observable_state_mean",
           "value": 33.4086799621582
          },
          {
           "sample_id": 0,
           "timepoint": 8,
           "trajectory": "infected_observable_state_mean",
           "value": 37.53559875488281
          },
          {
           "sample_id": 0,
           "timepoint": 9,
           "trajectory": "infected_observable_state_mean",
           "value": 42.17204666137695
          },
          {
           "sample_id": 0,
           "timepoint": 10,
           "trajectory": "infected_observable_state_mean",
           "value": 47.38111114501953
          },
          {
           "sample_id": 0,
           "timepoint": 11,
           "trajectory": "infected_observable_state_mean",
           "value": 53.23356628417969
          },
          {
           "sample_id": 0,
           "timepoint": 12,
           "trajectory": "infected_observable_state_mean",
           "value": 59.80888748168945
          },
          {
           "sample_id": 0,
           "timepoint": 13,
           "trajectory": "infected_observable_state_mean",
           "value": 67.19635772705078
          },
          {
           "sample_id": 0,
           "timepoint": 14,
           "trajectory": "infected_observable_state_mean",
           "value": 75.49628448486328
          },
          {
           "sample_id": 0,
           "timepoint": 15,
           "trajectory": "infected_observable_state_mean",
           "value": 84.82136535644531
          },
          {
           "sample_id": 0,
           "timepoint": 16,
           "trajectory": "infected_observable_state_mean",
           "value": 95.29821014404297
          },
          {
           "sample_id": 0,
           "timepoint": 17,
           "trajectory": "infected_observable_state_mean",
           "value": 107.0690689086914
          },
          {
           "sample_id": 0,
           "timepoint": 18,
           "trajectory": "infected_observable_state_mean",
           "value": 120.29374694824219
          },
          {
           "sample_id": 0,
           "timepoint": 19,
           "trajectory": "infected_observable_state_mean",
           "value": 135.15179443359375
          },
          {
           "sample_id": 0,
           "timepoint": 20,
           "trajectory": "infected_observable_state_mean",
           "value": 151.84490966796875
          },
          {
           "sample_id": 0,
           "timepoint": 21,
           "trajectory": "infected_observable_state_mean",
           "value": 170.5997314453125
          },
          {
           "sample_id": 0,
           "timepoint": 22,
           "trajectory": "infected_observable_state_mean",
           "value": 191.6708526611328
          },
          {
           "sample_id": 0,
           "timepoint": 23,
           "trajectory": "infected_observable_state_mean",
           "value": 215.34429931640625
          },
          {
           "sample_id": 0,
           "timepoint": 24,
           "trajectory": "infected_observable_state_mean",
           "value": 241.94140625
          },
          {
           "sample_id": 0,
           "timepoint": 25,
           "trajectory": "infected_observable_state_mean",
           "value": 271.8231506347656
          },
          {
           "sample_id": 0,
           "timepoint": 26,
           "trajectory": "infected_observable_state_mean",
           "value": 305.3951110839844
          },
          {
           "sample_id": 0,
           "timepoint": 27,
           "trajectory": "infected_observable_state_mean",
           "value": 343.1129150390625
          },
          {
           "sample_id": 0,
           "timepoint": 28,
           "trajectory": "infected_observable_state_mean",
           "value": 385.48834228515625
          },
          {
           "sample_id": 0,
           "timepoint": 29,
           "trajectory": "infected_observable_state_mean",
           "value": 433.09637451171875
          },
          {
           "sample_id": 0,
           "timepoint": 30,
           "trajectory": "infected_observable_state_mean",
           "value": 486.58294677734375
          },
          {
           "sample_id": 0,
           "timepoint": 31,
           "trajectory": "infected_observable_state_mean",
           "value": 546.6736450195312
          },
          {
           "sample_id": 0,
           "timepoint": 32,
           "trajectory": "infected_observable_state_mean",
           "value": 614.1835327148438
          },
          {
           "sample_id": 0,
           "timepoint": 33,
           "trajectory": "infected_observable_state_mean",
           "value": 690.0281372070312
          },
          {
           "sample_id": 0,
           "timepoint": 34,
           "trajectory": "infected_observable_state_mean",
           "value": 775.2359008789062
          },
          {
           "sample_id": 0,
           "timepoint": 35,
           "trajectory": "infected_observable_state_mean",
           "value": 870.9620361328125
          },
          {
           "sample_id": 0,
           "timepoint": 36,
           "trajectory": "infected_observable_state_mean",
           "value": 978.5040283203125
          },
          {
           "sample_id": 0,
           "timepoint": 37,
           "trajectory": "infected_observable_state_mean",
           "value": 1099.3192138671875
          },
          {
           "sample_id": 0,
           "timepoint": 38,
           "trajectory": "infected_observable_state_mean",
           "value": 1235.0443115234375
          },
          {
           "sample_id": 0,
           "timepoint": 39,
           "trajectory": "infected_observable_state_mean",
           "value": 1387.517578125
          },
          {
           "sample_id": 0,
           "timepoint": 40,
           "trajectory": "infected_observable_state_mean",
           "value": 1558.80322265625
          },
          {
           "sample_id": 0,
           "timepoint": 41,
           "trajectory": "infected_observable_state_mean",
           "value": 1751.219482421875
          },
          {
           "sample_id": 0,
           "timepoint": 42,
           "trajectory": "infected_observable_state_mean",
           "value": 1967.36962890625
          },
          {
           "sample_id": 0,
           "timepoint": 43,
           "trajectory": "infected_observable_state_mean",
           "value": 2210.17626953125
          },
          {
           "sample_id": 0,
           "timepoint": 44,
           "trajectory": "infected_observable_state_mean",
           "value": 2482.9208984375
          },
          {
           "sample_id": 0,
           "timepoint": 45,
           "trajectory": "infected_observable_state_mean",
           "value": 2789.287353515625
          },
          {
           "sample_id": 0,
           "timepoint": 46,
           "trajectory": "infected_observable_state_mean",
           "value": 3133.4111328125
          },
          {
           "sample_id": 0,
           "timepoint": 47,
           "trajectory": "infected_observable_state_mean",
           "value": 3519.93359375
          },
          {
           "sample_id": 0,
           "timepoint": 48,
           "trajectory": "infected_observable_state_mean",
           "value": 3954.0634765625
          },
          {
           "sample_id": 0,
           "timepoint": 49,
           "trajectory": "infected_observable_state_mean",
           "value": 4441.6455078125
          },
          {
           "sample_id": 0,
           "timepoint": 50,
           "trajectory": "infected_observable_state_mean",
           "value": 4989.2373046875
          },
          {
           "sample_id": 0,
           "timepoint": 51,
           "trajectory": "infected_observable_state_mean",
           "value": 5604.19482421875
          },
          {
           "sample_id": 0,
           "timepoint": 52,
           "trajectory": "infected_observable_state_mean",
           "value": 6294.76708984375
          },
          {
           "sample_id": 0,
           "timepoint": 53,
           "trajectory": "infected_observable_state_mean",
           "value": 7070.2041015625
          },
          {
           "sample_id": 0,
           "timepoint": 54,
           "trajectory": "infected_observable_state_mean",
           "value": 7940.875
          },
          {
           "sample_id": 0,
           "timepoint": 55,
           "trajectory": "infected_observable_state_mean",
           "value": 8918.3984375
          },
          {
           "sample_id": 0,
           "timepoint": 56,
           "trajectory": "infected_observable_state_mean",
           "value": 10015.79296875
          },
          {
           "sample_id": 0,
           "timepoint": 57,
           "trajectory": "infected_observable_state_mean",
           "value": 11247.63671875
          },
          {
           "sample_id": 0,
           "timepoint": 58,
           "trajectory": "infected_observable_state_mean",
           "value": 12630.25
          },
          {
           "sample_id": 0,
           "timepoint": 59,
           "trajectory": "infected_observable_state_mean",
           "value": 14181.8916015625
          },
          {
           "sample_id": 0,
           "timepoint": 60,
           "trajectory": "infected_observable_state_mean",
           "value": 15922.986328125
          },
          {
           "sample_id": 0,
           "timepoint": 61,
           "trajectory": "infected_observable_state_mean",
           "value": 17876.359375
          },
          {
           "sample_id": 0,
           "timepoint": 62,
           "trajectory": "infected_observable_state_mean",
           "value": 20067.50390625
          },
          {
           "sample_id": 0,
           "timepoint": 63,
           "trajectory": "infected_observable_state_mean",
           "value": 22524.8828125
          },
          {
           "sample_id": 0,
           "timepoint": 64,
           "trajectory": "infected_observable_state_mean",
           "value": 25280.232421875
          },
          {
           "sample_id": 0,
           "timepoint": 65,
           "trajectory": "infected_observable_state_mean",
           "value": 28368.9140625
          },
          {
           "sample_id": 0,
           "timepoint": 66,
           "trajectory": "infected_observable_state_mean",
           "value": 31830.287109375
          },
          {
           "sample_id": 0,
           "timepoint": 67,
           "trajectory": "infected_observable_state_mean",
           "value": 35708.10546875
          },
          {
           "sample_id": 0,
           "timepoint": 68,
           "trajectory": "infected_observable_state_mean",
           "value": 40050.94140625
          },
          {
           "sample_id": 0,
           "timepoint": 69,
           "trajectory": "infected_observable_state_mean",
           "value": 44912.63671875
          },
          {
           "sample_id": 0,
           "timepoint": 70,
           "trajectory": "infected_observable_state_mean",
           "value": 50352.76953125
          },
          {
           "sample_id": 0,
           "timepoint": 71,
           "trajectory": "infected_observable_state_mean",
           "value": 56437.125
          },
          {
           "sample_id": 0,
           "timepoint": 72,
           "trajectory": "infected_observable_state_mean",
           "value": 63238.1953125
          },
          {
           "sample_id": 0,
           "timepoint": 73,
           "trajectory": "infected_observable_state_mean",
           "value": 70835.6328125
          },
          {
           "sample_id": 0,
           "timepoint": 74,
           "trajectory": "infected_observable_state_mean",
           "value": 79316.71875
          },
          {
           "sample_id": 0,
           "timepoint": 75,
           "trajectory": "infected_observable_state_mean",
           "value": 88776.75
          },
          {
           "sample_id": 0,
           "timepoint": 76,
           "trajectory": "infected_observable_state_mean",
           "value": 99319.375
          },
          {
           "sample_id": 0,
           "timepoint": 77,
           "trajectory": "infected_observable_state_mean",
           "value": 111056.828125
          },
          {
           "sample_id": 0,
           "timepoint": 78,
           "trajectory": "infected_observable_state_mean",
           "value": 124109.96875
          },
          {
           "sample_id": 0,
           "timepoint": 79,
           "trajectory": "infected_observable_state_mean",
           "value": 138608.15625
          },
          {
           "sample_id": 0,
           "timepoint": 80,
           "trajectory": "infected_observable_state_mean",
           "value": 154688.84375
          },
          {
           "sample_id": 0,
           "timepoint": 81,
           "trajectory": "infected_observable_state_mean",
           "value": 172496.8125
          },
          {
           "sample_id": 0,
           "timepoint": 82,
           "trajectory": "infected_observable_state_mean",
           "value": 192182.984375
          },
          {
           "sample_id": 0,
           "timepoint": 83,
           "trajectory": "infected_observable_state_mean",
           "value": 213902.6875
          },
          {
           "sample_id": 0,
           "timepoint": 84,
           "trajectory": "infected_observable_state_mean",
           "value": 237813.25
          },
          {
           "sample_id": 0,
           "timepoint": 85,
           "trajectory": "infected_observable_state_mean",
           "value": 264070.875
          },
          {
           "sample_id": 0,
           "timepoint": 86,
           "trajectory": "infected_observable_state_mean",
           "value": 292826.5625
          },
          {
           "sample_id": 0,
           "timepoint": 87,
           "trajectory": "infected_observable_state_mean",
           "value": 324220.9375
          },
          {
           "sample_id": 0,
           "timepoint": 88,
           "trajectory": "infected_observable_state_mean",
           "value": 358376.78125
          },
          {
           "sample_id": 0,
           "timepoint": 89,
           "trajectory": "infected_observable_state_mean",
           "value": 395164.78125
          },
          {
           "sample_id": 0,
           "timepoint": 90,
           "trajectory": "infected_observable_state_mean",
           "value": 416110
          },
          {
           "sample_id": 0,
           "timepoint": 91,
           "trajectory": "infected_observable_state_mean",
           "value": 410575.5
          },
          {
           "sample_id": 0,
           "timepoint": 92,
           "trajectory": "infected_observable_state_mean",
           "value": 393285.625
          },
          {
           "sample_id": 0,
           "timepoint": 93,
           "trajectory": "infected_observable_state_mean",
           "value": 371373.0625
          },
          {
           "sample_id": 0,
           "timepoint": 94,
           "trajectory": "infected_observable_state_mean",
           "value": 348138.09375
          },
          {
           "sample_id": 0,
           "timepoint": 95,
           "trajectory": "infected_observable_state_mean",
           "value": 325088.84375
          },
          {
           "sample_id": 0,
           "timepoint": 96,
           "trajectory": "infected_observable_state_mean",
           "value": 302895.0625
          },
          {
           "sample_id": 0,
           "timepoint": 97,
           "trajectory": "infected_observable_state_mean",
           "value": 281833.75
          },
          {
           "sample_id": 0,
           "timepoint": 98,
           "trajectory": "infected_observable_state_mean",
           "value": 261997.953125
          },
          {
           "sample_id": 0,
           "timepoint": 0,
           "trajectory": "infected_observable_state_var",
           "value": 11.969684600830078
          },
          {
           "sample_id": 0,
           "timepoint": 1,
           "trajectory": "infected_observable_state_var",
           "value": 15.828713417053223
          },
          {
           "sample_id": 0,
           "timepoint": 2,
           "trajectory": "infected_observable_state_var",
           "value": 18.44500732421875
          },
          {
           "sample_id": 0,
           "timepoint": 3,
           "trajectory": "infected_observable_state_var",
           "value": 20.906946182250977
          },
          {
           "sample_id": 0,
           "timepoint": 4,
           "trajectory": "infected_observable_state_var",
           "value": 23.540363311767578
          },
          {
           "sample_id": 0,
           "timepoint": 5,
           "trajectory": "infected_observable_state_var",
           "value": 26.46222686767578
          },
          {
           "sample_id": 0,
           "timepoint": 6,
           "trajectory": "infected_observable_state_var",
           "value": 29.734764099121094
          },
          {
           "sample_id": 0,
           "timepoint": 7,
           "trajectory": "infected_observable_state_var",
           "value": 33.4086799621582
          },
          {
           "sample_id": 0,
           "timepoint": 8,
           "trajectory": "infected_observable_state_var",
           "value": 37.53559875488281
          },
          {
           "sample_id": 0,
           "timepoint": 9,
           "trajectory": "infected_observable_state_var",
           "value": 42.17204666137695
          },
          {
           "sample_id": 0,
           "timepoint": 10,
           "trajectory": "infected_observable_state_var",
           "value": 47.38111114501953
          },
          {
           "sample_id": 0,
           "timepoint": 11,
           "trajectory": "infected_observable_state_var",
           "value": 53.23356628417969
          },
          {
           "sample_id": 0,
           "timepoint": 12,
           "trajectory": "infected_observable_state_var",
           "value": 59.80888748168945
          },
          {
           "sample_id": 0,
           "timepoint": 13,
           "trajectory": "infected_observable_state_var",
           "value": 67.19635772705078
          },
          {
           "sample_id": 0,
           "timepoint": 14,
           "trajectory": "infected_observable_state_var",
           "value": 75.49628448486328
          },
          {
           "sample_id": 0,
           "timepoint": 15,
           "trajectory": "infected_observable_state_var",
           "value": 84.82136535644531
          },
          {
           "sample_id": 0,
           "timepoint": 16,
           "trajectory": "infected_observable_state_var",
           "value": 95.29821014404297
          },
          {
           "sample_id": 0,
           "timepoint": 17,
           "trajectory": "infected_observable_state_var",
           "value": 107.0690689086914
          },
          {
           "sample_id": 0,
           "timepoint": 18,
           "trajectory": "infected_observable_state_var",
           "value": 120.29374694824219
          },
          {
           "sample_id": 0,
           "timepoint": 19,
           "trajectory": "infected_observable_state_var",
           "value": 135.15179443359375
          },
          {
           "sample_id": 0,
           "timepoint": 20,
           "trajectory": "infected_observable_state_var",
           "value": 151.84490966796875
          },
          {
           "sample_id": 0,
           "timepoint": 21,
           "trajectory": "infected_observable_state_var",
           "value": 170.5997314453125
          },
          {
           "sample_id": 0,
           "timepoint": 22,
           "trajectory": "infected_observable_state_var",
           "value": 191.6708526611328
          },
          {
           "sample_id": 0,
           "timepoint": 23,
           "trajectory": "infected_observable_state_var",
           "value": 215.34429931640625
          },
          {
           "sample_id": 0,
           "timepoint": 24,
           "trajectory": "infected_observable_state_var",
           "value": 241.94140625
          },
          {
           "sample_id": 0,
           "timepoint": 25,
           "trajectory": "infected_observable_state_var",
           "value": 271.8231506347656
          },
          {
           "sample_id": 0,
           "timepoint": 26,
           "trajectory": "infected_observable_state_var",
           "value": 305.3951110839844
          },
          {
           "sample_id": 0,
           "timepoint": 27,
           "trajectory": "infected_observable_state_var",
           "value": 343.1129150390625
          },
          {
           "sample_id": 0,
           "timepoint": 28,
           "trajectory": "infected_observable_state_var",
           "value": 385.48834228515625
          },
          {
           "sample_id": 0,
           "timepoint": 29,
           "trajectory": "infected_observable_state_var",
           "value": 433.09637451171875
          },
          {
           "sample_id": 0,
           "timepoint": 30,
           "trajectory": "infected_observable_state_var",
           "value": 486.58294677734375
          },
          {
           "sample_id": 0,
           "timepoint": 31,
           "trajectory": "infected_observable_state_var",
           "value": 546.6736450195312
          },
          {
           "sample_id": 0,
           "timepoint": 32,
           "trajectory": "infected_observable_state_var",
           "value": 614.1835327148438
          },
          {
           "sample_id": 0,
           "timepoint": 33,
           "trajectory": "infected_observable_state_var",
           "value": 690.0281372070312
          },
          {
           "sample_id": 0,
           "timepoint": 34,
           "trajectory": "infected_observable_state_var",
           "value": 775.2359008789062
          },
          {
           "sample_id": 0,
           "timepoint": 35,
           "trajectory": "infected_observable_state_var",
           "value": 870.9620361328125
          },
          {
           "sample_id": 0,
           "timepoint": 36,
           "trajectory": "infected_observable_state_var",
           "value": 978.5040283203125
          },
          {
           "sample_id": 0,
           "timepoint": 37,
           "trajectory": "infected_observable_state_var",
           "value": 1099.3192138671875
          },
          {
           "sample_id": 0,
           "timepoint": 38,
           "trajectory": "infected_observable_state_var",
           "value": 1235.0443115234375
          },
          {
           "sample_id": 0,
           "timepoint": 39,
           "trajectory": "infected_observable_state_var",
           "value": 1387.517578125
          },
          {
           "sample_id": 0,
           "timepoint": 40,
           "trajectory": "infected_observable_state_var",
           "value": 1558.80322265625
          },
          {
           "sample_id": 0,
           "timepoint": 41,
           "trajectory": "infected_observable_state_var",
           "value": 1751.219482421875
          },
          {
           "sample_id": 0,
           "timepoint": 42,
           "trajectory": "infected_observable_state_var",
           "value": 1967.36962890625
          },
          {
           "sample_id": 0,
           "timepoint": 43,
           "trajectory": "infected_observable_state_var",
           "value": 2210.17626953125
          },
          {
           "sample_id": 0,
           "timepoint": 44,
           "trajectory": "infected_observable_state_var",
           "value": 2482.9208984375
          },
          {
           "sample_id": 0,
           "timepoint": 45,
           "trajectory": "infected_observable_state_var",
           "value": 2789.287353515625
          },
          {
           "sample_id": 0,
           "timepoint": 46,
           "trajectory": "infected_observable_state_var",
           "value": 3133.4111328125
          },
          {
           "sample_id": 0,
           "timepoint": 47,
           "trajectory": "infected_observable_state_var",
           "value": 3519.93359375
          },
          {
           "sample_id": 0,
           "timepoint": 48,
           "trajectory": "infected_observable_state_var",
           "value": 3954.0634765625
          },
          {
           "sample_id": 0,
           "timepoint": 49,
           "trajectory": "infected_observable_state_var",
           "value": 4441.6455078125
          },
          {
           "sample_id": 0,
           "timepoint": 50,
           "trajectory": "infected_observable_state_var",
           "value": 4989.2373046875
          },
          {
           "sample_id": 0,
           "timepoint": 51,
           "trajectory": "infected_observable_state_var",
           "value": 5604.19482421875
          },
          {
           "sample_id": 0,
           "timepoint": 52,
           "trajectory": "infected_observable_state_var",
           "value": 6294.76708984375
          },
          {
           "sample_id": 0,
           "timepoint": 53,
           "trajectory": "infected_observable_state_var",
           "value": 7070.2041015625
          },
          {
           "sample_id": 0,
           "timepoint": 54,
           "trajectory": "infected_observable_state_var",
           "value": 7940.875
          },
          {
           "sample_id": 0,
           "timepoint": 55,
           "trajectory": "infected_observable_state_var",
           "value": 8918.3984375
          },
          {
           "sample_id": 0,
           "timepoint": 56,
           "trajectory": "infected_observable_state_var",
           "value": 10015.79296875
          },
          {
           "sample_id": 0,
           "timepoint": 57,
           "trajectory": "infected_observable_state_var",
           "value": 11247.63671875
          },
          {
           "sample_id": 0,
           "timepoint": 58,
           "trajectory": "infected_observable_state_var",
           "value": 12630.25
          },
          {
           "sample_id": 0,
           "timepoint": 59,
           "trajectory": "infected_observable_state_var",
           "value": 14181.8916015625
          },
          {
           "sample_id": 0,
           "timepoint": 60,
           "trajectory": "infected_observable_state_var",
           "value": 15922.986328125
          },
          {
           "sample_id": 0,
           "timepoint": 61,
           "trajectory": "infected_observable_state_var",
           "value": 17876.359375
          },
          {
           "sample_id": 0,
           "timepoint": 62,
           "trajectory": "infected_observable_state_var",
           "value": 20067.50390625
          },
          {
           "sample_id": 0,
           "timepoint": 63,
           "trajectory": "infected_observable_state_var",
           "value": 22524.8828125
          },
          {
           "sample_id": 0,
           "timepoint": 64,
           "trajectory": "infected_observable_state_var",
           "value": 25280.232421875
          },
          {
           "sample_id": 0,
           "timepoint": 65,
           "trajectory": "infected_observable_state_var",
           "value": 28368.9140625
          },
          {
           "sample_id": 0,
           "timepoint": 66,
           "trajectory": "infected_observable_state_var",
           "value": 31830.287109375
          },
          {
           "sample_id": 0,
           "timepoint": 67,
           "trajectory": "infected_observable_state_var",
           "value": 35708.10546875
          },
          {
           "sample_id": 0,
           "timepoint": 68,
           "trajectory": "infected_observable_state_var",
           "value": 40050.94140625
          },
          {
           "sample_id": 0,
           "timepoint": 69,
           "trajectory": "infected_observable_state_var",
           "value": 44912.63671875
          },
          {
           "sample_id": 0,
           "timepoint": 70,
           "trajectory": "infected_observable_state_var",
           "value": 50352.76953125
          },
          {
           "sample_id": 0,
           "timepoint": 71,
           "trajectory": "infected_observable_state_var",
           "value": 56437.125
          },
          {
           "sample_id": 0,
           "timepoint": 72,
           "trajectory": "infected_observable_state_var",
           "value": 63238.1953125
          },
          {
           "sample_id": 0,
           "timepoint": 73,
           "trajectory": "infected_observable_state_var",
           "value": 70835.6328125
          },
          {
           "sample_id": 0,
           "timepoint": 74,
           "trajectory": "infected_observable_state_var",
           "value": 79316.71875
          },
          {
           "sample_id": 0,
           "timepoint": 75,
           "trajectory": "infected_observable_state_var",
           "value": 88776.75
          },
          {
           "sample_id": 0,
           "timepoint": 76,
           "trajectory": "infected_observable_state_var",
           "value": 99319.375
          },
          {
           "sample_id": 0,
           "timepoint": 77,
           "trajectory": "infected_observable_state_var",
           "value": 111056.828125
          },
          {
           "sample_id": 0,
           "timepoint": 78,
           "trajectory": "infected_observable_state_var",
           "value": 124109.96875
          },
          {
           "sample_id": 0,
           "timepoint": 79,
           "trajectory": "infected_observable_state_var",
           "value": 138608.15625
          },
          {
           "sample_id": 0,
           "timepoint": 80,
           "trajectory": "infected_observable_state_var",
           "value": 154688.84375
          },
          {
           "sample_id": 0,
           "timepoint": 81,
           "trajectory": "infected_observable_state_var",
           "value": 172496.8125
          },
          {
           "sample_id": 0,
           "timepoint": 82,
           "trajectory": "infected_observable_state_var",
           "value": 192182.984375
          },
          {
           "sample_id": 0,
           "timepoint": 83,
           "trajectory": "infected_observable_state_var",
           "value": 213902.6875
          },
          {
           "sample_id": 0,
           "timepoint": 84,
           "trajectory": "infected_observable_state_var",
           "value": 237813.25
          },
          {
           "sample_id": 0,
           "timepoint": 85,
           "trajectory": "infected_observable_state_var",
           "value": 264070.875
          },
          {
           "sample_id": 0,
           "timepoint": 86,
           "trajectory": "infected_observable_state_var",
           "value": 292826.5625
          },
          {
           "sample_id": 0,
           "timepoint": 87,
           "trajectory": "infected_observable_state_var",
           "value": 324220.9375
          },
          {
           "sample_id": 0,
           "timepoint": 88,
           "trajectory": "infected_observable_state_var",
           "value": 358376.78125
          },
          {
           "sample_id": 0,
           "timepoint": 89,
           "trajectory": "infected_observable_state_var",
           "value": 395164.78125
          },
          {
           "sample_id": 0,
           "timepoint": 90,
           "trajectory": "infected_observable_state_var",
           "value": 416110
          },
          {
           "sample_id": 0,
           "timepoint": 91,
           "trajectory": "infected_observable_state_var",
           "value": 410575.5
          },
          {
           "sample_id": 0,
           "timepoint": 92,
           "trajectory": "infected_observable_state_var",
           "value": 393285.625
          },
          {
           "sample_id": 0,
           "timepoint": 93,
           "trajectory": "infected_observable_state_var",
           "value": 371373.0625
          },
          {
           "sample_id": 0,
           "timepoint": 94,
           "trajectory": "infected_observable_state_var",
           "value": 348138.09375
          },
          {
           "sample_id": 0,
           "timepoint": 95,
           "trajectory": "infected_observable_state_var",
           "value": 325088.84375
          },
          {
           "sample_id": 0,
           "timepoint": 96,
           "trajectory": "infected_observable_state_var",
           "value": 302895.0625
          },
          {
           "sample_id": 0,
           "timepoint": 97,
           "trajectory": "infected_observable_state_var",
           "value": 281833.75
          },
          {
           "sample_id": 0,
           "timepoint": 98,
           "trajectory": "infected_observable_state_var",
           "value": 261997.953125
          },
          {
           "sample_id": 0,
           "timepoint": 0,
           "trajectory": "infected_observable_state_granger",
           "value": 16.476085662841797
          },
          {
           "sample_id": 0,
           "timepoint": 1,
           "trajectory": "infected_observable_state_granger",
           "value": 20.648046493530273
          },
          {
           "sample_id": 0,
           "timepoint": 2,
           "trajectory": "infected_observable_state_granger",
           "value": 24.22441864013672
          },
          {
           "sample_id": 0,
           "timepoint": 3,
           "trajectory": "infected_observable_state_granger",
           "value": 27.968774795532227
          },
          {
           "sample_id": 0,
           "timepoint": 4,
           "trajectory": "infected_observable_state_granger",
           "value": 32.160099029541016
          },
          {
           "sample_id": 0,
           "timepoint": 5,
           "trajectory": "infected_observable_state_granger",
           "value": 36.94042205810547
          },
          {
           "sample_id": 0,
           "timepoint": 6,
           "trajectory": "infected_observable_state_granger",
           "value": 42.419647216796875
          },
          {
           "sample_id": 0,
           "timepoint": 7,
           "trajectory": "infected_observable_state_granger",
           "value": 48.70810317993164
          },
          {
           "sample_id": 0,
           "timepoint": 8,
           "trajectory": "infected_observable_state_granger",
           "value": 55.927734375
          },
          {
           "sample_id": 0,
           "timepoint": 9,
           "trajectory": "infected_observable_state_granger",
           "value": 64.21714782714844
          },
          {
           "sample_id": 0,
           "timepoint": 10,
           "trajectory": "infected_observable_state_granger",
           "value": 73.73507690429688
          },
          {
           "sample_id": 0,
           "timepoint": 11,
           "trajectory": "infected_observable_state_granger",
           "value": 84.66364288330078
          },
          {
           "sample_id": 0,
           "timepoint": 12,
           "trajectory": "infected_observable_state_granger",
           "value": 97.21192932128906
          },
          {
           "sample_id": 0,
           "timepoint": 13,
           "trajectory": "infected_observable_state_granger",
           "value": 111.61997985839844
          },
          {
           "sample_id": 0,
           "timepoint": 14,
           "trajectory": "infected_observable_state_granger",
           "value": 128.16342163085938
          },
          {
           "sample_id": 0,
           "timepoint": 15,
           "trajectory": "infected_observable_state_granger",
           "value": 147.15869140625
          },
          {
           "sample_id": 0,
           "timepoint": 16,
           "trajectory": "infected_observable_state_granger",
           "value": 168.96917724609375
          },
          {
           "sample_id": 0,
           "timepoint": 17,
           "trajectory": "infected_observable_state_granger",
           "value": 194.01202392578125
          },
          {
           "sample_id": 0,
           "timepoint": 18,
           "trajectory": "infected_observable_state_granger",
           "value": 222.76626586914062
          },
          {
           "sample_id": 0,
           "timepoint": 19,
           "trajectory": "infected_observable_state_granger",
           "value": 255.78182983398438
          },
          {
           "sample_id": 0,
           "timepoint": 20,
           "trajectory": "infected_observable_state_granger",
           "value": 293.690185546875
          },
          {
           "sample_id": 0,
           "timepoint": 21,
           "trajectory": "infected_observable_state_granger",
           "value": 337.21624755859375
          },
          {
           "sample_id": 0,
           "timepoint": 22,
           "trajectory": "infected_observable_state_granger",
           "value": 387.1924133300781
          },
          {
           "sample_id": 0,
           "timepoint": 23,
           "trajectory": "infected_observable_state_granger",
           "value": 444.5743103027344
          },
          {
           "sample_id": 0,
           "timepoint": 24,
           "trajectory": "infected_observable_state_granger",
           "value": 510.45904541015625
          },
          {
           "sample_id": 0,
           "timepoint": 25,
           "trajectory": "infected_observable_state_granger",
           "value": 586.1062622070312
          },
          {
           "sample_id": 0,
           "timepoint": 26,
           "trajectory": "infected_observable_state_granger",
           "value": 672.9620361328125
          },
          {
           "sample_id": 0,
           "timepoint": 27,
           "trajectory": "infected_observable_state_granger",
           "value": 772.6864624023438
          },
          {
           "sample_id": 0,
           "timepoint": 28,
           "trajectory": "infected_observable_state_granger",
           "value": 887.1853637695312
          },
          {
           "sample_id": 0,
           "timepoint": 29,
           "trajectory": "infected_observable_state_granger",
           "value": 1018.646484375
          },
          {
           "sample_id": 0,
           "timepoint": 30,
           "trajectory": "infected_observable_state_granger",
           "value": 1169.5814208984375
          },
          {
           "sample_id": 0,
           "timepoint": 31,
           "trajectory": "infected_observable_state_granger",
           "value": 1342.872802734375
          },
          {
           "sample_id": 0,
           "timepoint": 32,
           "trajectory": "infected_observable_state_granger",
           "value": 1541.8297119140625
          },
          {
           "sample_id": 0,
           "timepoint": 33,
           "trajectory": "infected_observable_state_granger",
           "value": 1770.25
          },
          {
           "sample_id": 0,
           "timepoint": 34,
           "trajectory": "infected_observable_state_granger",
           "value": 2032.492431640625
          },
          {
           "sample_id": 0,
           "timepoint": 35,
           "trajectory": "infected_observable_state_granger",
           "value": 2333.5595703125
          },
          {
           "sample_id": 0,
           "timepoint": 36,
           "trajectory": "infected_observable_state_granger",
           "value": 2679.19189453125
          },
          {
           "sample_id": 0,
           "timepoint": 37,
           "trajectory": "infected_observable_state_granger",
           "value": 3075.97607421875
          },
          {
           "sample_id": 0,
           "timepoint": 38,
           "trajectory": "infected_observable_state_granger",
           "value": 3531.46923828125
          },
          {
           "sample_id": 0,
           "timepoint": 39,
           "trajectory": "infected_observable_state_granger",
           "value": 4054.34130859375
          },
          {
           "sample_id": 0,
           "timepoint": 40,
           "trajectory": "infected_observable_state_granger",
           "value": 4654.5361328125
          },
          {
           "sample_id": 0,
           "timepoint": 41,
           "trajectory": "infected_observable_state_granger",
           "value": 5343.45849609375
          },
          {
           "sample_id": 0,
           "timepoint": 42,
           "trajectory": "infected_observable_state_granger",
           "value": 6134.18603515625
          },
          {
           "sample_id": 0,
           "timepoint": 43,
           "trajectory": "infected_observable_state_granger",
           "value": 7041.7109375
          },
          {
           "sample_id": 0,
           "timepoint": 44,
           "trajectory": "infected_observable_state_granger",
           "value": 8083.21630859375
          },
          {
           "sample_id": 0,
           "timepoint": 45,
           "trajectory": "infected_observable_state_granger",
           "value": 9278.392578125
          },
          {
           "sample_id": 0,
           "timepoint": 46,
           "trajectory": "infected_observable_state_granger",
           "value": 10649.794921875
          },
          {
           "sample_id": 0,
           "timepoint": 47,
           "trajectory": "infected_observable_state_granger",
           "value": 12223.2509765625
          },
          {
           "sample_id": 0,
           "timepoint": 48,
           "trajectory": "infected_observable_state_granger",
           "value": 14028.32421875
          },
          {
           "sample_id": 0,
           "timepoint": 49,
           "trajectory": "infected_observable_state_granger",
           "value": 16098.8388671875
          },
          {
           "sample_id": 0,
           "timepoint": 50,
           "trajectory": "infected_observable_state_granger",
           "value": 18473.47265625
          },
          {
           "sample_id": 0,
           "timepoint": 51,
           "trajectory": "infected_observable_state_granger",
           "value": 21196.421875
          },
          {
           "sample_id": 0,
           "timepoint": 52,
           "trajectory": "infected_observable_state_granger",
           "value": 24318.1640625
          },
          {
           "sample_id": 0,
           "timepoint": 53,
           "trajectory": "infected_observable_state_granger",
           "value": 27896.291015625
          },
          {
           "sample_id": 0,
           "timepoint": 54,
           "trajectory": "infected_observable_state_granger",
           "value": 31996.453125
          },
          {
           "sample_id": 0,
           "timepoint": 55,
           "trajectory": "infected_observable_state_granger",
           "value": 36693.4140625
          },
          {
           "sample_id": 0,
           "timepoint": 56,
           "trajectory": "infected_observable_state_granger",
           "value": 42072.18359375
          },
          {
           "sample_id": 0,
           "timepoint": 57,
           "trajectory": "infected_observable_state_granger",
           "value": 48229.31640625
          },
          {
           "sample_id": 0,
           "timepoint": 58,
           "trajectory": "infected_observable_state_granger",
           "value": 55274.25390625
          },
          {
           "sample_id": 0,
           "timepoint": 59,
           "trajectory": "infected_observable_state_granger",
           "value": 63330.8359375
          },
          {
           "sample_id": 0,
           "timepoint": 60,
           "trajectory": "infected_observable_state_granger",
           "value": 72538.859375
          },
          {
           "sample_id": 0,
           "timepoint": 61,
           "trajectory": "infected_observable_state_granger",
           "value": 83055.6953125
          },
          {
           "sample_id": 0,
           "timepoint": 62,
           "trajectory": "infected_observable_state_granger",
           "value": 95057.984375
          },
          {
           "sample_id": 0,
           "timepoint": 63,
           "trajectory": "infected_observable_state_granger",
           "value": 108743.265625
          },
          {
           "sample_id": 0,
           "timepoint": 64,
           "trajectory": "infected_observable_state_granger",
           "value": 124331.484375
          },
          {
           "sample_id": 0,
           "timepoint": 65,
           "trajectory": "infected_observable_state_granger",
           "value": 142066.328125
          },
          {
           "sample_id": 0,
           "timepoint": 66,
           "trajectory": "infected_observable_state_granger",
           "value": 162216.171875
          },
          {
           "sample_id": 0,
           "timepoint": 67,
           "trajectory": "infected_observable_state_granger",
           "value": 185074.484375
          },
          {
           "sample_id": 0,
           "timepoint": 68,
           "trajectory": "infected_observable_state_granger",
           "value": 210959.4375
          },
          {
           "sample_id": 0,
           "timepoint": 69,
           "trajectory": "infected_observable_state_granger",
           "value": 240212.40625
          },
          {
           "sample_id": 0,
           "timepoint": 70,
           "trajectory": "infected_observable_state_granger",
           "value": 273195
          },
          {
           "sample_id": 0,
           "timepoint": 71,
           "trajectory": "infected_observable_state_granger",
           "value": 310284.1875
          },
          {
           "sample_id": 0,
           "timepoint": 72,
           "trajectory": "infected_observable_state_granger",
           "value": 351864.875
          },
          {
           "sample_id": 0,
           "timepoint": 73,
           "trajectory": "infected_observable_state_granger",
           "value": 398319.6875
          },
          {
           "sample_id": 0,
           "timepoint": 74,
           "trajectory": "infected_observable_state_granger",
           "value": 450014.875
          },
          {
           "sample_id": 0,
           "timepoint": 75,
           "trajectory": "infected_observable_state_granger",
           "value": 507282.125
          },
          {
           "sample_id": 0,
           "timepoint": 76,
           "trajectory": "infected_observable_state_granger",
           "value": 570395.625
          },
          {
           "sample_id": 0,
           "timepoint": 77,
           "trajectory": "infected_observable_state_granger",
           "value": 639544.0625
          },
          {
           "sample_id": 0,
           "timepoint": 78,
           "trajectory": "infected_observable_state_granger",
           "value": 714798
          },
          {
           "sample_id": 0,
           "timepoint": 79,
           "trajectory": "infected_observable_state_granger",
           "value": 796072.3125
          },
          {
           "sample_id": 0,
           "timepoint": 80,
           "trajectory": "infected_observable_state_granger",
           "value": 883086.0625
          },
          {
           "sample_id": 0,
           "timepoint": 81,
           "trajectory": "infected_observable_state_granger",
           "value": 975321.25
          },
          {
           "sample_id": 0,
           "timepoint": 82,
           "trajectory": "infected_observable_state_granger",
           "value": 1071984.5
          },
          {
           "sample_id": 0,
           "timepoint": 83,
           "trajectory": "infected_observable_state_granger",
           "value": 1171975
          },
          {
           "sample_id": 0,
           "timepoint": 84,
           "trajectory": "infected_observable_state_granger",
           "value": 1273865.375
          },
          {
           "sample_id": 0,
           "timepoint": 85,
           "trajectory": "infected_observable_state_granger",
           "value": 1375901.125
          },
          {
           "sample_id": 0,
           "timepoint": 86,
           "trajectory": "infected_observable_state_granger",
           "value": 1476023.25
          },
          {
           "sample_id": 0,
           "timepoint": 87,
           "trajectory": "infected_observable_state_granger",
           "value": 1571920.375
          },
          {
           "sample_id": 0,
           "timepoint": 88,
           "trajectory": "infected_observable_state_granger",
           "value": 1661110.25
          },
          {
           "sample_id": 0,
           "timepoint": 89,
           "trajectory": "infected_observable_state_granger",
           "value": 1740788.375
          },
          {
           "sample_id": 0,
           "timepoint": 90,
           "trajectory": "infected_observable_state_granger",
           "value": 1788865
          },
          {
           "sample_id": 0,
           "timepoint": 91,
           "trajectory": "infected_observable_state_granger",
           "value": 1795966
          },
          {
           "sample_id": 0,
           "timepoint": 92,
           "trajectory": "infected_observable_state_granger",
           "value": 1778251
          },
          {
           "sample_id": 0,
           "timepoint": 93,
           "trajectory": "infected_observable_state_granger",
           "value": 1743638.75
          },
          {
           "sample_id": 0,
           "timepoint": 94,
           "trajectory": "infected_observable_state_granger",
           "value": 1696330.875
          },
          {
           "sample_id": 0,
           "timepoint": 95,
           "trajectory": "infected_observable_state_granger",
           "value": 1638979.75
          },
          {
           "sample_id": 0,
           "timepoint": 96,
           "trajectory": "infected_observable_state_granger",
           "value": 1573598.25
          },
          {
           "sample_id": 0,
           "timepoint": 97,
           "trajectory": "infected_observable_state_granger",
           "value": 1501925.125
          },
          {
           "sample_id": 0,
           "timepoint": 98,
           "trajectory": "infected_observable_state_granger",
           "value": 1425556.75
          }
         ]
        },
        {
         "name": "points",
         "values": []
        },
        {
         "name": "markers",
         "values": []
        },
        {
         "name": "selected",
         "on": [
          {
           "remove": true,
           "trigger": "clear"
          },
          {
           "remove": true,
           "trigger": "!shift"
          },
          {
           "insert": "clicked",
           "trigger": "!shift && clicked"
          },
          {
           "toggle": "clicked",
           "trigger": "shift && clicked"
          }
         ]
        },
        {
         "name": "selectedData",
         "on": [
          {
           "remove": true,
           "trigger": "clearData"
          },
          {
           "toggle": "clickedData",
           "trigger": "clickedData"
          }
         ]
        }
       ],
       "height": 300,
       "legends": [
        {
         "encode": {
          "labels": {
           "interactive": true,
           "name": "legendLabel",
           "update": {
            "opacity": [
             {
              "test": "!length(data('selectedData')) || indata('selectedData', 'value', datum.value)",
              "value": 1
             },
             {
              "value": 0.25
             }
            ]
           }
          },
          "symbols": {
           "interactive": true,
           "name": "legendSymbol",
           "update": {
            "fill": {
             "value": "transparent"
            },
            "opacity": [
             {
              "test": "!length(data('selected')) || indata('selected', 'value', datum.value) || indata('selectedData', 'value', datum.value)",
              "value": 0.7
             },
             {
              "value": 0.15
             }
            ],
            "size": {
             "value": 64
            },
            "strokeWidth": {
             "value": 2
            }
           }
          }
         },
         "name": "color_legend",
         "stroke": "color"
        }
       ],
       "marks": [
        {
         "from": {
          "facet": {
           "data": "points",
           "groupby": "trajectory",
           "name": "points_split"
          }
         },
         "marks": [
          {
           "encode": {
            "hover": {
             "fillOpacity": {
              "value": 0.9
             }
            },
            "update": {
             "fill": {
              "field": "trajectory",
              "scale": "color"
             },
             "fillOpacity": [
              {
               "test": "!length(data('selected')) || indata('selected', 'value', datum.trajectory)",
               "value": 0.5
              },
              {
               "value": 0.15
              }
             ],
             "size": {
              "value": 35
             },
             "stroke": {
              "field": "trajectory",
              "scale": "color"
             },
             "strokeOpacity": [
              {
               "test": "!length(data('selected')) || indata('selected', 'value', datum.trajectory)",
               "value": 0.75
              },
              {
               "value": 0.15
              }
             ],
             "strokeWidth": {
              "value": 2
             },
             "tooltip": {
              "field": "value"
             },
             "x": {
              "field": "timepoint",
              "scale": "xscale"
             },
             "y": {
              "field": "value",
              "scale": "yscale"
             }
            }
           },
           "from": {
            "data": "points_split"
           },
           "name": "_points_symbol",
           "type": "symbol",
           "zindex": 3
          },
          {
           "encode": {
            "hover": {
             "fillOpacity": {
              "value": 0.9
             }
            },
            "update": {
             "interpolate": {
              "value": "linear"
             },
             "stroke": {
              "field": "trajectory",
              "scale": "color"
             },
             "strokeDash": {
              "value": [
               5,
               3
              ]
             },
             "strokeOpacity": [
              {
               "test": "!length(data('selected')) || indata('selected', 'value', datum.trajectory)",
               "value": 0.3
              },
              {
               "value": 0.1
              }
             ],
             "strokeWidth": {
              "value": 2
             },
             "x": {
              "field": "timepoint",
              "scale": "xscale"
             },
             "y": {
              "field": "value",
              "scale": "yscale"
             }
            }
           },
           "from": {
            "data": "points_split"
           },
           "name": "_points_line",
           "type": "line",
           "zindex": 3
          }
         ],
         "name": "_points",
         "type": "group",
         "zindex": 3
        },
        {
         "from": {
          "facet": {
           "data": "traces",
           "groupby": "trajectory",
           "name": "traces_split"
          }
         },
         "marks": [
          {
           "encode": {
            "hover": {
             "fillOpacity": {
              "value": 0.9
             }
            },
            "update": {
             "interpolate": {
              "value": "linear"
             },
             "stroke": {
              "field": "trajectory",
              "scale": "color"
             },
             "strokeOpacity": [
              {
               "test": "!length(data('selected')) || indata('selected', 'value', datum.trajectory)",
               "value": 0.75
              },
              {
               "value": 0.15
              }
             ],
             "strokeWidth": {
              "value": 2
             },
             "x": {
              "field": "timepoint",
              "scale": "xscale"
             },
             "y": {
              "field": "value",
              "scale": "yscale"
             }
            }
           },
           "from": {
            "data": "traces_split"
           },
           "name": "_traces_lines",
           "type": "line"
          }
         ],
         "name": "_traces",
         "type": "group",
         "zindex": 2
        },
        {
         "from": {
          "facet": {
           "data": "distributions",
           "groupby": "trajectory",
           "name": "trajectory_split"
          }
         },
         "marks": [
          {
           "encode": {
            "hover": {
             "fillOpacity": {
              "value": 0.9
             }
            },
            "update": {
             "fill": {
              "field": "trajectory",
              "scale": "color"
             },
             "fillOpacity": [
              {
               "test": "!length(data('selected')) || indata('selected', 'value', datum.trajectory)",
               "value": 0.5
              },
              {
               "value": 0.15
              }
             ],
             "interpolate": {
              "value": "linear"
             },
             "stroke": {
              "field": "trajectory",
              "scale": "color"
             },
             "strokeOpacity": [
              {
               "test": "!length(data('selected')) || indata('selected', 'value', datum.trajectory)",
               "value": 0.75
              },
              {
               "value": 0.15
              }
             ],
             "strokeWidth": {
              "value": 2
             },
             "x": {
              "field": "timepoint",
              "scale": "xscale"
             },
             "y": {
              "field": "upper",
              "scale": "yscale"
             },
             "y2": {
              "field": "lower",
              "scale": "yscale"
             }
            }
           },
           "from": {
            "data": "trajectory_split"
           },
           "interactive": true,
           "name": "area",
           "type": "area"
          }
         ],
         "name": "_distributions",
         "type": "group",
         "zindex": 1
        },
        {
         "marks": [
          {
           "encode": {
            "enter": {
             "stroke": {
              "value": "lightgray"
             }
            },
            "update": {
             "opacity": {
              "value": 1
             },
             "x": {
              "field": "timepoint",
              "scale": "xscale"
             },
             "y": {
              "signal": "height"
             },
             "y2": {
              "value": 0
             }
            }
           },
           "from": {
            "data": "markers"
           },
           "name": "_marker text",
           "type": "rule"
          },
          {
           "encode": {
            "enter": {
             "fontSize": {
              "value": 8
             },
             "text": {
              "field": "datum.label"
             },
             "y": {
              "value": 0
             }
            }
           },
           "from": {
            "data": "_marker text"
           },
           "name": "_marker flags",
           "transform": [
            {
             "as": [
              "x",
              "_y",
              "opacity",
              "align",
              "baseline"
             ],
             "lineAnchor": "start",
             "offset": [
              1
             ],
             "size": {
              "signal": "[width, height]"
             },
             "type": "label"
            }
           ],
           "type": "text"
          }
         ],
         "name": "_markers",
         "type": "group"
        }
       ],
       "scales": [
        {
         "domain": {
          "fields": [
           {
            "data": "distributions",
            "field": "timepoint"
           },
           {
            "data": "traces",
            "field": "timepoint"
           },
           {
            "data": "points",
            "field": "timepoint"
           },
           {
            "data": "markers",
            "field": "timepoint"
           }
          ]
         },
         "name": "xscale",
         "range": "width",
         "type": "linear",
         "zero": false
        },
        {
         "domain": {
          "fields": [
           {
            "data": "distributions",
            "field": "lower"
           },
           {
            "data": "distributions",
            "field": "upper"
           },
           {
            "data": "traces",
            "field": "value"
           },
           {
            "data": "points",
            "field": "value"
           }
          ]
         },
         "name": "yscale",
         "nice": true,
         "range": "height",
         "type": "linear",
         "zero": true
        },
        {
         "domain": {
          "fields": [
           {
            "data": "distributions",
            "field": "trajectory"
           },
           {
            "data": "traces",
            "field": "trajectory"
           },
           {
            "data": "points",
            "field": "trajectory"
           }
          ],
          "sort": {
           "order": "ascending"
          }
         },
         "name": "color",
         "range": "category",
         "type": "ordinal"
        }
       ],
       "signals": [
        {
         "name": "clear",
         "on": [
          {
           "events": "mouseup[!event.item]",
           "force": true,
           "update": "true"
          }
         ],
         "value": true
        },
        {
         "name": "shift",
         "on": [
          {
           "events": "@legendSymbol:click, @legendLabel:click",
           "force": true,
           "update": "event.shiftKey"
          }
         ],
         "value": false
        },
        {
         "name": "clicked",
         "on": [
          {
           "events": "@legendSymbol:click, @legendLabel:click",
           "force": true,
           "update": "{value: datum.value}"
          }
         ],
         "value": null
        },
        {
         "name": "clearData",
         "on": [
          {
           "events": "mouseup[!event.item]",
           "force": true,
           "update": "true"
          }
         ],
         "value": true
        },
        {
         "name": "clickedData",
         "on": [
          {
           "events": "@area:click",
           "force": true,
           "update": "{value: datum.trajectory}"
          }
         ],
         "value": null
        }
       ],
       "width": 500
      }
     },
     "metadata": {},
     "output_type": "display_data"
    }
   ],
   "source": [
    "schema = plots.trajectories(distributions, traces = traces,  keep=\".*_state\")\n",
    "\n",
    "plots.save_schema(schema, \"_schema.json\")\n",
    "\n",
    "plots.ipy_display(schema, format=\"interactive\")\n",
    "image = plots.ipy_display(schema, format=\"PNG\").data\n",
    "save_result(image, \"traj_infected_observable\", \"png\")\n"
   ]
  },
  {
   "cell_type": "code",
   "execution_count": null,
   "metadata": {},
   "outputs": [],
   "source": [
    "\n"
   ]
  },
  {
   "cell_type": "code",
   "execution_count": null,
   "metadata": {},
   "outputs": [],
   "source": []
  },
  {
   "cell_type": "code",
   "execution_count": null,
   "metadata": {},
   "outputs": [],
   "source": [
    "\n"
   ]
  },
  {
   "cell_type": "code",
   "execution_count": 119,
   "metadata": {},
   "outputs": [
    {
     "name": "stdout",
     "output_type": "stream",
     "text": [
      "\n",
      "Granger Causality\n",
      "number of lags (no zero) 10\n",
      "ssr based F test:         F=1.5077  , p=0.1554  , df_denom=69, df_num=10\n",
      "ssr based chi2 test:   chi2=19.6658 , p=0.0326  , df=10\n",
      "likelihood ratio test: chi2=17.7865 , p=0.0587  , df=10\n",
      "parameter F test:         F=1.5077  , p=0.1554  , df_denom=69, df_num=10\n",
      "\n",
      "Granger Causality\n",
      "number of lags (no zero) 10\n",
      "ssr based F test:         F=1.7838  , p=0.0800  , df_denom=69, df_num=10\n",
      "ssr based chi2 test:   chi2=23.2664 , p=0.0098  , df=10\n",
      "likelihood ratio test: chi2=20.6939 , p=0.0233  , df=10\n",
      "parameter F test:         F=1.7838  , p=0.0800  , df_denom=69, df_num=10\n",
      "\n",
      "Granger Causality\n",
      "number of lags (no zero) 10\n",
      "ssr based F test:         F=0.5552  , p=0.8443  , df_denom=69, df_num=10\n",
      "ssr based chi2 test:   chi2=7.2420  , p=0.7024  , df=10\n",
      "likelihood ratio test: chi2=6.9653  , p=0.7287  , df=10\n",
      "parameter F test:         F=0.5552  , p=0.8443  , df_denom=69, df_num=10\n",
      "\n",
      "Granger Causality\n",
      "number of lags (no zero) 10\n",
      "ssr based F test:         F=1.1772  , p=0.3212  , df_denom=69, df_num=10\n",
      "ssr based chi2 test:   chi2=15.3550 , p=0.1196  , df=10\n",
      "likelihood ratio test: chi2=14.1773 , p=0.1651  , df=10\n",
      "parameter F test:         F=1.1772  , p=0.3212  , df_denom=69, df_num=10\n",
      "\n",
      "Granger Causality\n",
      "number of lags (no zero) 10\n",
      "ssr based F test:         F=0.9923  , p=0.4586  , df_denom=69, df_num=10\n",
      "ssr based chi2 test:   chi2=12.9428 , p=0.2269  , df=10\n",
      "likelihood ratio test: chi2=12.0928 , p=0.2789  , df=10\n",
      "parameter F test:         F=0.9923  , p=0.4586  , df_denom=69, df_num=10\n",
      "\n",
      "Granger Causality\n",
      "number of lags (no zero) 10\n",
      "ssr based F test:         F=1.5651  , p=0.1358  , df_denom=69, df_num=10\n",
      "ssr based chi2 test:   chi2=20.4148 , p=0.0256  , df=10\n",
      "likelihood ratio test: chi2=18.3991 , p=0.0486  , df=10\n",
      "parameter F test:         F=1.5651  , p=0.1358  , df_denom=69, df_num=10\n",
      "\n",
      "Granger Causality\n",
      "number of lags (no zero) 10\n",
      "ssr based F test:         F=1.0013  , p=0.4512  , df_denom=69, df_num=10\n",
      "ssr based chi2 test:   chi2=13.0606 , p=0.2203  , df=10\n",
      "likelihood ratio test: chi2=12.1957 , p=0.2722  , df=10\n",
      "parameter F test:         F=1.0013  , p=0.4512  , df_denom=69, df_num=10\n",
      "\n",
      "Granger Causality\n",
      "number of lags (no zero) 10\n",
      "ssr based F test:         F=0.3740  , p=0.9539  , df_denom=69, df_num=10\n",
      "ssr based chi2 test:   chi2=4.8779  , p=0.8992  , df=10\n",
      "likelihood ratio test: chi2=4.7503  , p=0.9072  , df=10\n",
      "parameter F test:         F=0.3740  , p=0.9539  , df_denom=69, df_num=10\n",
      "\n",
      "Granger Causality\n",
      "number of lags (no zero) 10\n",
      "ssr based F test:         F=1.4854  , p=0.1636  , df_denom=69, df_num=10\n",
      "ssr based chi2 test:   chi2=19.3750 , p=0.0357  , df=10\n",
      "likelihood ratio test: chi2=17.5476 , p=0.0631  , df=10\n",
      "parameter F test:         F=1.4854  , p=0.1636  , df_denom=69, df_num=10\n",
      "\n",
      "Granger Causality\n",
      "number of lags (no zero) 10\n",
      "ssr based F test:         F=0.8165  , p=0.6138  , df_denom=69, df_num=10\n",
      "ssr based chi2 test:   chi2=10.6504 , p=0.3854  , df=10\n",
      "likelihood ratio test: chi2=10.0659 , p=0.4347  , df=10\n",
      "parameter F test:         F=0.8165  , p=0.6138  , df_denom=69, df_num=10\n",
      "\n",
      "Granger Causality\n",
      "number of lags (no zero) 10\n",
      "ssr based F test:         F=1.2924  , p=0.2521  , df_denom=69, df_num=10\n",
      "ssr based chi2 test:   chi2=16.8572 , p=0.0776  , df=10\n",
      "likelihood ratio test: chi2=15.4515 , p=0.1164  , df=10\n",
      "parameter F test:         F=1.2924  , p=0.2521  , df_denom=69, df_num=10\n",
      "\n",
      "Granger Causality\n",
      "number of lags (no zero) 10\n",
      "ssr based F test:         F=1.0893  , p=0.3826  , df_denom=69, df_num=10\n",
      "ssr based chi2 test:   chi2=14.2078 , p=0.1637  , df=10\n",
      "likelihood ratio test: chi2=13.1920 , p=0.2131  , df=10\n",
      "parameter F test:         F=1.0893  , p=0.3826  , df_denom=69, df_num=10\n",
      "\n",
      "Granger Causality\n",
      "number of lags (no zero) 10\n",
      "ssr based F test:         F=1.0478  , p=0.4141  , df_denom=69, df_num=10\n",
      "ssr based chi2 test:   chi2=13.6672 , p=0.1887  , df=10\n",
      "likelihood ratio test: chi2=12.7238 , p=0.2395  , df=10\n",
      "parameter F test:         F=1.0478  , p=0.4141  , df_denom=69, df_num=10\n",
      "\n",
      "Granger Causality\n",
      "number of lags (no zero) 10\n",
      "ssr based F test:         F=0.8899  , p=0.5470  , df_denom=69, df_num=10\n",
      "ssr based chi2 test:   chi2=11.6069 , p=0.3122  , df=10\n",
      "likelihood ratio test: chi2=10.9172 , p=0.3640  , df=10\n",
      "parameter F test:         F=0.8899  , p=0.5470  , df_denom=69, df_num=10\n",
      "\n",
      "Granger Causality\n",
      "number of lags (no zero) 10\n",
      "ssr based F test:         F=0.5213  , p=0.8695  , df_denom=69, df_num=10\n",
      "ssr based chi2 test:   chi2=6.7991  , p=0.7443  , df=10\n",
      "likelihood ratio test: chi2=6.5545  , p=0.7667  , df=10\n",
      "parameter F test:         F=0.5213  , p=0.8695  , df_denom=69, df_num=10\n",
      "\n",
      "Granger Causality\n",
      "number of lags (no zero) 10\n",
      "ssr based F test:         F=1.0490  , p=0.4132  , df_denom=69, df_num=10\n",
      "ssr based chi2 test:   chi2=13.6823 , p=0.1880  , df=10\n",
      "likelihood ratio test: chi2=12.7370 , p=0.2388  , df=10\n",
      "parameter F test:         F=1.0490  , p=0.4132  , df_denom=69, df_num=10\n",
      "\n",
      "Granger Causality\n",
      "number of lags (no zero) 10\n",
      "ssr based F test:         F=0.8188  , p=0.6116  , df_denom=69, df_num=10\n",
      "ssr based chi2 test:   chi2=10.6806 , p=0.3829  , df=10\n",
      "likelihood ratio test: chi2=10.0929 , p=0.4324  , df=10\n",
      "parameter F test:         F=0.8188  , p=0.6116  , df_denom=69, df_num=10\n",
      "\n",
      "Granger Causality\n",
      "number of lags (no zero) 10\n",
      "ssr based F test:         F=1.1600  , p=0.3326  , df_denom=69, df_num=10\n",
      "ssr based chi2 test:   chi2=15.1300 , p=0.1274  , df=10\n",
      "likelihood ratio test: chi2=13.9849 , p=0.1737  , df=10\n",
      "parameter F test:         F=1.1600  , p=0.3326  , df_denom=69, df_num=10\n",
      "\n",
      "Granger Causality\n",
      "number of lags (no zero) 10\n",
      "ssr based F test:         F=0.9316  , p=0.5102  , df_denom=69, df_num=10\n",
      "ssr based chi2 test:   chi2=12.1513 , p=0.2751  , df=10\n",
      "likelihood ratio test: chi2=11.3981 , p=0.3274  , df=10\n",
      "parameter F test:         F=0.9316  , p=0.5102  , df_denom=69, df_num=10\n",
      "\n",
      "Granger Causality\n",
      "number of lags (no zero) 10\n",
      "ssr based F test:         F=0.9554  , p=0.4897  , df_denom=69, df_num=10\n",
      "ssr based chi2 test:   chi2=12.4615 , p=0.2554  , df=10\n",
      "likelihood ratio test: chi2=11.6710 , p=0.3077  , df=10\n",
      "parameter F test:         F=0.9554  , p=0.4897  , df_denom=69, df_num=10\n",
      "\n",
      "Granger Causality\n",
      "number of lags (no zero) 10\n",
      "ssr based F test:         F=1.5148  , p=0.1528  , df_denom=69, df_num=10\n",
      "ssr based chi2 test:   chi2=19.7581 , p=0.0316  , df=10\n",
      "likelihood ratio test: chi2=17.8622 , p=0.0573  , df=10\n",
      "parameter F test:         F=1.5148  , p=0.1528  , df_denom=69, df_num=10\n",
      "\n",
      "Granger Causality\n",
      "number of lags (no zero) 10\n",
      "ssr based F test:         F=0.4072  , p=0.9388  , df_denom=69, df_num=10\n",
      "ssr based chi2 test:   chi2=5.3107  , p=0.8695  , df=10\n",
      "likelihood ratio test: chi2=5.1599  , p=0.8802  , df=10\n",
      "parameter F test:         F=0.4072  , p=0.9388  , df_denom=69, df_num=10\n",
      "\n",
      "Granger Causality\n",
      "number of lags (no zero) 10\n",
      "ssr based F test:         F=3.1316  , p=0.0024  , df_denom=69, df_num=10\n",
      "ssr based chi2 test:   chi2=40.8474 , p=0.0000  , df=10\n",
      "likelihood ratio test: chi2=33.6800 , p=0.0002  , df=10\n",
      "parameter F test:         F=3.1316  , p=0.0024  , df_denom=69, df_num=10\n",
      "\n",
      "Granger Causality\n",
      "number of lags (no zero) 10\n",
      "ssr based F test:         F=2.9508  , p=0.0038  , df_denom=69, df_num=10\n",
      "ssr based chi2 test:   chi2=38.4887 , p=0.0000  , df=10\n",
      "likelihood ratio test: chi2=32.0428 , p=0.0004  , df=10\n",
      "parameter F test:         F=2.9508  , p=0.0038  , df_denom=69, df_num=10\n",
      "\n",
      "Granger Causality\n",
      "number of lags (no zero) 10\n",
      "ssr based F test:         F=1.0389  , p=0.4211  , df_denom=69, df_num=10\n",
      "ssr based chi2 test:   chi2=13.5506 , p=0.1945  , df=10\n",
      "likelihood ratio test: chi2=12.6226 , p=0.2455  , df=10\n",
      "parameter F test:         F=1.0389  , p=0.4211  , df_denom=69, df_num=10\n",
      "\n",
      "Granger Causality\n",
      "number of lags (no zero) 10\n",
      "ssr based F test:         F=0.5709  , p=0.8321  , df_denom=69, df_num=10\n",
      "ssr based chi2 test:   chi2=7.4461  , p=0.6828  , df=10\n",
      "likelihood ratio test: chi2=7.1541  , p=0.7108  , df=10\n",
      "parameter F test:         F=0.5709  , p=0.8321  , df_denom=69, df_num=10\n",
      "\n",
      "Granger Causality\n",
      "number of lags (no zero) 10\n",
      "ssr based F test:         F=1.0800  , p=0.3895  , df_denom=69, df_num=10\n",
      "ssr based chi2 test:   chi2=14.0866 , p=0.1691  , df=10\n",
      "likelihood ratio test: chi2=13.0873 , p=0.2188  , df=10\n",
      "parameter F test:         F=1.0800  , p=0.3895  , df_denom=69, df_num=10\n",
      "\n",
      "Granger Causality\n",
      "number of lags (no zero) 10\n",
      "ssr based F test:         F=1.1390  , p=0.3469  , df_denom=69, df_num=10\n",
      "ssr based chi2 test:   chi2=14.8568 , p=0.1374  , df=10\n",
      "likelihood ratio test: chi2=13.7508 , p=0.1847  , df=10\n",
      "parameter F test:         F=1.1390  , p=0.3469  , df_denom=69, df_num=10\n",
      "\n",
      "Granger Causality\n",
      "number of lags (no zero) 10\n",
      "ssr based F test:         F=0.8030  , p=0.6262  , df_denom=69, df_num=10\n",
      "ssr based chi2 test:   chi2=10.4745 , p=0.3999  , df=10\n",
      "likelihood ratio test: chi2=9.9085  , p=0.4486  , df=10\n",
      "parameter F test:         F=0.8030  , p=0.6262  , df_denom=69, df_num=10\n",
      "\n",
      "Granger Causality\n",
      "number of lags (no zero) 10\n",
      "ssr based F test:         F=0.8379  , p=0.5942  , df_denom=69, df_num=10\n",
      "ssr based chi2 test:   chi2=10.9288 , p=0.3631  , df=10\n",
      "likelihood ratio test: chi2=10.3145 , p=0.4133  , df=10\n",
      "parameter F test:         F=0.8379  , p=0.5942  , df_denom=69, df_num=10\n",
      "\n",
      "Granger Causality\n",
      "number of lags (no zero) 10\n",
      "ssr based F test:         F=1.1755  , p=0.3223  , df_denom=69, df_num=10\n",
      "ssr based chi2 test:   chi2=15.3327 , p=0.1204  , df=10\n",
      "likelihood ratio test: chi2=14.1583 , p=0.1659  , df=10\n",
      "parameter F test:         F=1.1755  , p=0.3223  , df_denom=69, df_num=10\n",
      "\n",
      "Granger Causality\n",
      "number of lags (no zero) 10\n",
      "ssr based F test:         F=2.8195  , p=0.0054  , df_denom=69, df_num=10\n",
      "ssr based chi2 test:   chi2=36.7762 , p=0.0001  , df=10\n",
      "likelihood ratio test: chi2=30.8353 , p=0.0006  , df=10\n",
      "parameter F test:         F=2.8195  , p=0.0054  , df_denom=69, df_num=10\n",
      "\n",
      "Granger Causality\n",
      "number of lags (no zero) 10\n",
      "ssr based F test:         F=1.0483  , p=0.4137  , df_denom=69, df_num=10\n",
      "ssr based chi2 test:   chi2=13.6740 , p=0.1884  , df=10\n",
      "likelihood ratio test: chi2=12.7298 , p=0.2392  , df=10\n",
      "parameter F test:         F=1.0483  , p=0.4137  , df_denom=69, df_num=10\n",
      "\n",
      "Granger Causality\n",
      "number of lags (no zero) 10\n",
      "ssr based F test:         F=1.2402  , p=0.2818  , df_denom=69, df_num=10\n",
      "ssr based chi2 test:   chi2=16.1765 , p=0.0947  , df=10\n",
      "likelihood ratio test: chi2=14.8764 , p=0.1366  , df=10\n",
      "parameter F test:         F=1.2402  , p=0.2818  , df_denom=69, df_num=10\n",
      "\n",
      "Granger Causality\n",
      "number of lags (no zero) 10\n",
      "ssr based F test:         F=0.6036  , p=0.8055  , df_denom=69, df_num=10\n",
      "ssr based chi2 test:   chi2=7.8729  , p=0.6412  , df=10\n",
      "likelihood ratio test: chi2=7.5474  , p=0.6729  , df=10\n",
      "parameter F test:         F=0.6036  , p=0.8055  , df_denom=69, df_num=10\n",
      "\n",
      "Granger Causality\n",
      "number of lags (no zero) 10\n",
      "ssr based F test:         F=0.2763  , p=0.9844  , df_denom=69, df_num=10\n",
      "ssr based chi2 test:   chi2=3.6046  , p=0.9634  , df=10\n",
      "likelihood ratio test: chi2=3.5342  , p=0.9659  , df=10\n",
      "parameter F test:         F=0.2763  , p=0.9844  , df_denom=69, df_num=10\n",
      "\n",
      "Granger Causality\n",
      "number of lags (no zero) 10\n",
      "ssr based F test:         F=1.4984  , p=0.1588  , df_denom=69, df_num=10\n",
      "ssr based chi2 test:   chi2=19.5438 , p=0.0339  , df=10\n",
      "likelihood ratio test: chi2=17.6863 , p=0.0605  , df=10\n",
      "parameter F test:         F=1.4984  , p=0.1588  , df_denom=69, df_num=10\n",
      "\n",
      "Granger Causality\n",
      "number of lags (no zero) 10\n",
      "ssr based F test:         F=1.9069  , p=0.0588  , df_denom=69, df_num=10\n",
      "ssr based chi2 test:   chi2=24.8732 , p=0.0056  , df=10\n",
      "likelihood ratio test: chi2=21.9617 , p=0.0153  , df=10\n",
      "parameter F test:         F=1.9069  , p=0.0588  , df_denom=69, df_num=10\n",
      "\n",
      "Granger Causality\n",
      "number of lags (no zero) 10\n",
      "ssr based F test:         F=1.2623  , p=0.2689  , df_denom=69, df_num=10\n",
      "ssr based chi2 test:   chi2=16.4653 , p=0.0871  , df=10\n",
      "likelihood ratio test: chi2=15.1208 , p=0.1277  , df=10\n",
      "parameter F test:         F=1.2623  , p=0.2689  , df_denom=69, df_num=10\n",
      "\n",
      "Granger Causality\n",
      "number of lags (no zero) 10\n",
      "ssr based F test:         F=0.9384  , p=0.5043  , df_denom=69, df_num=10\n",
      "ssr based chi2 test:   chi2=12.2398 , p=0.2693  , df=10\n",
      "likelihood ratio test: chi2=11.4760 , p=0.3217  , df=10\n",
      "parameter F test:         F=0.9384  , p=0.5043  , df_denom=69, df_num=10\n",
      "\n",
      "Granger Causality\n",
      "number of lags (no zero) 10\n",
      "ssr based F test:         F=0.4400  , p=0.9215  , df_denom=69, df_num=10\n",
      "ssr based chi2 test:   chi2=5.7389  , p=0.8367  , df=10\n",
      "likelihood ratio test: chi2=5.5634  , p=0.8505  , df=10\n",
      "parameter F test:         F=0.4400  , p=0.9215  , df_denom=69, df_num=10\n",
      "\n",
      "Granger Causality\n",
      "number of lags (no zero) 10\n",
      "ssr based F test:         F=0.7324  , p=0.6915  , df_denom=69, df_num=10\n",
      "ssr based chi2 test:   chi2=9.5527  , p=0.4806  , df=10\n",
      "likelihood ratio test: chi2=9.0790  , p=0.5246  , df=10\n",
      "parameter F test:         F=0.7324  , p=0.6915  , df_denom=69, df_num=10\n",
      "\n",
      "Granger Causality\n",
      "number of lags (no zero) 10\n",
      "ssr based F test:         F=1.4740  , p=0.1680  , df_denom=69, df_num=10\n",
      "ssr based chi2 test:   chi2=19.2265 , p=0.0375  , df=10\n",
      "likelihood ratio test: chi2=17.4252 , p=0.0655  , df=10\n",
      "parameter F test:         F=1.4740  , p=0.1680  , df_denom=69, df_num=10\n",
      "\n",
      "Granger Causality\n",
      "number of lags (no zero) 10\n",
      "ssr based F test:         F=0.9319  , p=0.5099  , df_denom=69, df_num=10\n",
      "ssr based chi2 test:   chi2=12.1548 , p=0.2748  , df=10\n",
      "likelihood ratio test: chi2=11.4011 , p=0.3271  , df=10\n",
      "parameter F test:         F=0.9319  , p=0.5099  , df_denom=69, df_num=10\n",
      "\n",
      "Granger Causality\n",
      "number of lags (no zero) 10\n",
      "ssr based F test:         F=1.5138  , p=0.1532  , df_denom=69, df_num=10\n",
      "ssr based chi2 test:   chi2=19.7451 , p=0.0318  , df=10\n",
      "likelihood ratio test: chi2=17.8516 , p=0.0575  , df=10\n",
      "parameter F test:         F=1.5138  , p=0.1532  , df_denom=69, df_num=10\n",
      "\n",
      "Granger Causality\n",
      "number of lags (no zero) 10\n",
      "ssr based F test:         F=1.3941  , p=0.2015  , df_denom=69, df_num=10\n",
      "ssr based chi2 test:   chi2=18.1840 , p=0.0519  , df=10\n",
      "likelihood ratio test: chi2=16.5621 , p=0.0846  , df=10\n",
      "parameter F test:         F=1.3941  , p=0.2015  , df_denom=69, df_num=10\n",
      "\n",
      "Granger Causality\n",
      "number of lags (no zero) 10\n",
      "ssr based F test:         F=0.7392  , p=0.6852  , df_denom=69, df_num=10\n",
      "ssr based chi2 test:   chi2=9.6423  , p=0.4724  , df=10\n",
      "likelihood ratio test: chi2=9.1600  , p=0.5170  , df=10\n",
      "parameter F test:         F=0.7392  , p=0.6852  , df_denom=69, df_num=10\n",
      "\n",
      "Granger Causality\n",
      "number of lags (no zero) 10\n",
      "ssr based F test:         F=2.1095  , p=0.0351  , df_denom=69, df_num=10\n",
      "ssr based chi2 test:   chi2=27.5146 , p=0.0022  , df=10\n",
      "likelihood ratio test: chi2=24.0078 , p=0.0076  , df=10\n",
      "parameter F test:         F=2.1095  , p=0.0351  , df_denom=69, df_num=10\n",
      "\n",
      "Granger Causality\n",
      "number of lags (no zero) 10\n",
      "ssr based F test:         F=0.6224  , p=0.7897  , df_denom=69, df_num=10\n",
      "ssr based chi2 test:   chi2=8.1185  , p=0.6173  , df=10\n",
      "likelihood ratio test: chi2=7.7730  , p=0.6510  , df=10\n",
      "parameter F test:         F=0.6224  , p=0.7897  , df_denom=69, df_num=10\n",
      "\n",
      "Granger Causality\n",
      "number of lags (no zero) 10\n",
      "ssr based F test:         F=1.5942  , p=0.1268  , df_denom=69, df_num=10\n",
      "ssr based chi2 test:   chi2=20.7938 , p=0.0226  , df=10\n",
      "likelihood ratio test: chi2=18.7075 , p=0.0441  , df=10\n",
      "parameter F test:         F=1.5942  , p=0.1268  , df_denom=69, df_num=10\n",
      "\n",
      "Granger Causality\n",
      "number of lags (no zero) 10\n",
      "ssr based F test:         F=1.1778  , p=0.3208  , df_denom=69, df_num=10\n",
      "ssr based chi2 test:   chi2=15.3624 , p=0.1194  , df=10\n",
      "likelihood ratio test: chi2=14.1837 , p=0.1648  , df=10\n",
      "parameter F test:         F=1.1778  , p=0.3208  , df_denom=69, df_num=10\n",
      "\n",
      "Granger Causality\n",
      "number of lags (no zero) 10\n",
      "ssr based F test:         F=0.6946  , p=0.7261  , df_denom=69, df_num=10\n",
      "ssr based chi2 test:   chi2=9.0597  , p=0.5264  , df=10\n",
      "likelihood ratio test: chi2=8.6322  , p=0.5673  , df=10\n",
      "parameter F test:         F=0.6946  , p=0.7261  , df_denom=69, df_num=10\n",
      "\n",
      "Granger Causality\n",
      "number of lags (no zero) 10\n",
      "ssr based F test:         F=2.1472  , p=0.0318  , df_denom=69, df_num=10\n",
      "ssr based chi2 test:   chi2=28.0069 , p=0.0018  , df=10\n",
      "likelihood ratio test: chi2=24.3840 , p=0.0066  , df=10\n",
      "parameter F test:         F=2.1472  , p=0.0318  , df_denom=69, df_num=10\n",
      "\n",
      "Granger Causality\n",
      "number of lags (no zero) 10\n",
      "ssr based F test:         F=1.7927  , p=0.0782  , df_denom=69, df_num=10\n",
      "ssr based chi2 test:   chi2=23.3831 , p=0.0094  , df=10\n",
      "likelihood ratio test: chi2=20.7866 , p=0.0226  , df=10\n",
      "parameter F test:         F=1.7927  , p=0.0782  , df_denom=69, df_num=10\n",
      "\n",
      "Granger Causality\n",
      "number of lags (no zero) 10\n",
      "ssr based F test:         F=1.0073  , p=0.4463  , df_denom=69, df_num=10\n",
      "ssr based chi2 test:   chi2=13.1387 , p=0.2160  , df=10\n",
      "likelihood ratio test: chi2=12.2639 , p=0.2678  , df=10\n",
      "parameter F test:         F=1.0073  , p=0.4463  , df_denom=69, df_num=10\n",
      "\n",
      "Granger Causality\n",
      "number of lags (no zero) 10\n",
      "ssr based F test:         F=2.1720  , p=0.0298  , df_denom=69, df_num=10\n",
      "ssr based chi2 test:   chi2=28.3306 , p=0.0016  , df=10\n",
      "likelihood ratio test: chi2=24.6305 , p=0.0061  , df=10\n",
      "parameter F test:         F=2.1720  , p=0.0298  , df_denom=69, df_num=10\n",
      "\n",
      "Granger Causality\n",
      "number of lags (no zero) 10\n",
      "ssr based F test:         F=1.2202  , p=0.2939  , df_denom=69, df_num=10\n",
      "ssr based chi2 test:   chi2=15.9155 , p=0.1021  , df=10\n",
      "likelihood ratio test: chi2=14.6549 , p=0.1452  , df=10\n",
      "parameter F test:         F=1.2202  , p=0.2939  , df_denom=69, df_num=10\n",
      "\n",
      "Granger Causality\n",
      "number of lags (no zero) 10\n",
      "ssr based F test:         F=1.4815  , p=0.1651  , df_denom=69, df_num=10\n",
      "ssr based chi2 test:   chi2=19.3239 , p=0.0363  , df=10\n",
      "likelihood ratio test: chi2=17.5055 , p=0.0639  , df=10\n",
      "parameter F test:         F=1.4815  , p=0.1651  , df_denom=69, df_num=10\n",
      "\n",
      "Granger Causality\n",
      "number of lags (no zero) 10\n",
      "ssr based F test:         F=1.2395  , p=0.2823  , df_denom=69, df_num=10\n",
      "ssr based chi2 test:   chi2=16.1669 , p=0.0950  , df=10\n",
      "likelihood ratio test: chi2=14.8683 , p=0.1369  , df=10\n",
      "parameter F test:         F=1.2395  , p=0.2823  , df_denom=69, df_num=10\n",
      "\n",
      "Granger Causality\n",
      "number of lags (no zero) 10\n",
      "ssr based F test:         F=1.6691  , p=0.1059  , df_denom=69, df_num=10\n",
      "ssr based chi2 test:   chi2=21.7705 , p=0.0163  , df=10\n",
      "likelihood ratio test: chi2=19.4974 , p=0.0344  , df=10\n",
      "parameter F test:         F=1.6691  , p=0.1059  , df_denom=69, df_num=10\n",
      "\n",
      "Granger Causality\n",
      "number of lags (no zero) 10\n",
      "ssr based F test:         F=0.5424  , p=0.8540  , df_denom=69, df_num=10\n",
      "ssr based chi2 test:   chi2=7.0753  , p=0.7183  , df=10\n",
      "likelihood ratio test: chi2=6.8110  , p=0.7432  , df=10\n",
      "parameter F test:         F=0.5424  , p=0.8540  , df_denom=69, df_num=10\n",
      "\n",
      "Granger Causality\n",
      "number of lags (no zero) 10\n",
      "ssr based F test:         F=1.0160  , p=0.4393  , df_denom=69, df_num=10\n",
      "ssr based chi2 test:   chi2=13.2518 , p=0.2099  , df=10\n",
      "likelihood ratio test: chi2=12.3625 , p=0.2615  , df=10\n",
      "parameter F test:         F=1.0160  , p=0.4393  , df_denom=69, df_num=10\n",
      "\n",
      "Granger Causality\n",
      "number of lags (no zero) 10\n",
      "ssr based F test:         F=0.7353  , p=0.6889  , df_denom=69, df_num=10\n",
      "ssr based chi2 test:   chi2=9.5908  , p=0.4771  , df=10\n",
      "likelihood ratio test: chi2=9.1134  , p=0.5214  , df=10\n",
      "parameter F test:         F=0.7353  , p=0.6889  , df_denom=69, df_num=10\n",
      "\n",
      "Granger Causality\n",
      "number of lags (no zero) 10\n",
      "ssr based F test:         F=0.4537  , p=0.9136  , df_denom=69, df_num=10\n",
      "ssr based chi2 test:   chi2=5.9185  , p=0.8221  , df=10\n",
      "likelihood ratio test: chi2=5.7320  , p=0.8373  , df=10\n",
      "parameter F test:         F=0.4537  , p=0.9136  , df_denom=69, df_num=10\n",
      "\n",
      "Granger Causality\n",
      "number of lags (no zero) 10\n",
      "ssr based F test:         F=1.1379  , p=0.3477  , df_denom=69, df_num=10\n",
      "ssr based chi2 test:   chi2=14.8423 , p=0.1379  , df=10\n",
      "likelihood ratio test: chi2=13.7383 , p=0.1853  , df=10\n",
      "parameter F test:         F=1.1379  , p=0.3477  , df_denom=69, df_num=10\n",
      "\n",
      "Granger Causality\n",
      "number of lags (no zero) 10\n",
      "ssr based F test:         F=0.9065  , p=0.5322  , df_denom=69, df_num=10\n",
      "ssr based chi2 test:   chi2=11.8235 , p=0.2970  , df=10\n",
      "likelihood ratio test: chi2=11.1088 , p=0.3491  , df=10\n",
      "parameter F test:         F=0.9065  , p=0.5322  , df_denom=69, df_num=10\n",
      "\n",
      "Granger Causality\n",
      "number of lags (no zero) 10\n",
      "ssr based F test:         F=1.3518  , p=0.2214  , df_denom=69, df_num=10\n",
      "ssr based chi2 test:   chi2=17.6328 , p=0.0615  , df=10\n",
      "likelihood ratio test: chi2=16.1024 , p=0.0967  , df=10\n",
      "parameter F test:         F=1.3518  , p=0.2214  , df_denom=69, df_num=10\n",
      "\n",
      "Granger Causality\n",
      "number of lags (no zero) 10\n",
      "ssr based F test:         F=1.3256  , p=0.2346  , df_denom=69, df_num=10\n",
      "ssr based chi2 test:   chi2=17.2908 , p=0.0682  , df=10\n",
      "likelihood ratio test: chi2=15.8160 , p=0.1050  , df=10\n",
      "parameter F test:         F=1.3256  , p=0.2346  , df_denom=69, df_num=10\n",
      "\n",
      "Granger Causality\n",
      "number of lags (no zero) 10\n",
      "ssr based F test:         F=1.8301  , p=0.0713  , df_denom=69, df_num=10\n",
      "ssr based chi2 test:   chi2=23.8702 , p=0.0080  , df=10\n",
      "likelihood ratio test: chi2=21.1725 , p=0.0199  , df=10\n",
      "parameter F test:         F=1.8301  , p=0.0713  , df_denom=69, df_num=10\n",
      "\n",
      "Granger Causality\n",
      "number of lags (no zero) 10\n",
      "ssr based F test:         F=0.9349  , p=0.5073  , df_denom=69, df_num=10\n",
      "ssr based chi2 test:   chi2=12.1947 , p=0.2722  , df=10\n",
      "likelihood ratio test: chi2=11.4363 , p=0.3245  , df=10\n",
      "parameter F test:         F=0.9349  , p=0.5073  , df_denom=69, df_num=10\n",
      "\n",
      "Granger Causality\n",
      "number of lags (no zero) 10\n",
      "ssr based F test:         F=1.8135  , p=0.0743  , df_denom=69, df_num=10\n",
      "ssr based chi2 test:   chi2=23.6549 , p=0.0086  , df=10\n",
      "likelihood ratio test: chi2=21.0022 , p=0.0211  , df=10\n",
      "parameter F test:         F=1.8135  , p=0.0743  , df_denom=69, df_num=10\n",
      "\n",
      "Granger Causality\n",
      "number of lags (no zero) 10\n",
      "ssr based F test:         F=2.2430  , p=0.0248  , df_denom=69, df_num=10\n",
      "ssr based chi2 test:   chi2=29.2563 , p=0.0011  , df=10\n",
      "likelihood ratio test: chi2=25.3319 , p=0.0048  , df=10\n",
      "parameter F test:         F=2.2430  , p=0.0248  , df_denom=69, df_num=10\n",
      "\n",
      "Granger Causality\n",
      "number of lags (no zero) 10\n",
      "ssr based F test:         F=1.3486  , p=0.2230  , df_denom=69, df_num=10\n",
      "ssr based chi2 test:   chi2=17.5910 , p=0.0623  , df=10\n",
      "likelihood ratio test: chi2=16.0674 , p=0.0977  , df=10\n",
      "parameter F test:         F=1.3486  , p=0.2230  , df_denom=69, df_num=10\n",
      "\n",
      "Granger Causality\n",
      "number of lags (no zero) 10\n",
      "ssr based F test:         F=1.2732  , p=0.2627  , df_denom=69, df_num=10\n",
      "ssr based chi2 test:   chi2=16.6074 , p=0.0835  , df=10\n",
      "likelihood ratio test: chi2=15.2409 , p=0.1235  , df=10\n",
      "parameter F test:         F=1.2732  , p=0.2627  , df_denom=69, df_num=10\n",
      "\n",
      "Granger Causality\n",
      "number of lags (no zero) 10\n",
      "ssr based F test:         F=1.4388  , p=0.1821  , df_denom=69, df_num=10\n",
      "ssr based chi2 test:   chi2=18.7669 , p=0.0433  , df=10\n",
      "likelihood ratio test: chi2=17.0458 , p=0.0734  , df=10\n",
      "parameter F test:         F=1.4388  , p=0.1821  , df_denom=69, df_num=10\n",
      "\n",
      "Granger Causality\n",
      "number of lags (no zero) 10\n",
      "ssr based F test:         F=1.3853  , p=0.2056  , df_denom=69, df_num=10\n",
      "ssr based chi2 test:   chi2=18.0687 , p=0.0538  , df=10\n",
      "likelihood ratio test: chi2=16.4661 , p=0.0870  , df=10\n",
      "parameter F test:         F=1.3853  , p=0.2056  , df_denom=69, df_num=10\n",
      "\n",
      "Granger Causality\n",
      "number of lags (no zero) 10\n",
      "ssr based F test:         F=0.6387  , p=0.7757  , df_denom=69, df_num=10\n",
      "ssr based chi2 test:   chi2=8.3313  , p=0.5965  , df=10\n",
      "likelihood ratio test: chi2=7.9680  , p=0.6320  , df=10\n",
      "parameter F test:         F=0.6387  , p=0.7757  , df_denom=69, df_num=10\n",
      "\n",
      "Granger Causality\n",
      "number of lags (no zero) 10\n",
      "ssr based F test:         F=1.0509  , p=0.4117  , df_denom=69, df_num=10\n",
      "ssr based chi2 test:   chi2=13.7068 , p=0.1868  , df=10\n",
      "likelihood ratio test: chi2=12.7582 , p=0.2375  , df=10\n",
      "parameter F test:         F=1.0509  , p=0.4117  , df_denom=69, df_num=10\n",
      "\n",
      "Granger Causality\n",
      "number of lags (no zero) 10\n",
      "ssr based F test:         F=0.9324  , p=0.5095  , df_denom=69, df_num=10\n",
      "ssr based chi2 test:   chi2=12.1612 , p=0.2744  , df=10\n",
      "likelihood ratio test: chi2=11.4068 , p=0.3267  , df=10\n",
      "parameter F test:         F=0.9324  , p=0.5095  , df_denom=69, df_num=10\n",
      "\n",
      "Granger Causality\n",
      "number of lags (no zero) 10\n",
      "ssr based F test:         F=2.0019  , p=0.0462  , df_denom=69, df_num=10\n",
      "ssr based chi2 test:   chi2=26.1114 , p=0.0036  , df=10\n",
      "likelihood ratio test: chi2=22.9266 , p=0.0110  , df=10\n",
      "parameter F test:         F=2.0019  , p=0.0462  , df_denom=69, df_num=10\n",
      "\n",
      "Granger Causality\n",
      "number of lags (no zero) 10\n",
      "ssr based F test:         F=1.1830  , p=0.3174  , df_denom=69, df_num=10\n",
      "ssr based chi2 test:   chi2=15.4307 , p=0.1171  , df=10\n",
      "likelihood ratio test: chi2=14.2419 , p=0.1622  , df=10\n",
      "parameter F test:         F=1.1830  , p=0.3174  , df_denom=69, df_num=10\n",
      "\n",
      "Granger Causality\n",
      "number of lags (no zero) 10\n",
      "ssr based F test:         F=1.6334  , p=0.1154  , df_denom=69, df_num=10\n",
      "ssr based chi2 test:   chi2=21.3053 , p=0.0191  , df=10\n",
      "likelihood ratio test: chi2=19.1221 , p=0.0387  , df=10\n",
      "parameter F test:         F=1.6334  , p=0.1154  , df_denom=69, df_num=10\n",
      "\n",
      "Granger Causality\n",
      "number of lags (no zero) 10\n",
      "ssr based F test:         F=0.9118  , p=0.5275  , df_denom=69, df_num=10\n",
      "ssr based chi2 test:   chi2=11.8934 , p=0.2923  , df=10\n",
      "likelihood ratio test: chi2=11.1705 , p=0.3444  , df=10\n",
      "parameter F test:         F=0.9118  , p=0.5275  , df_denom=69, df_num=10\n",
      "\n",
      "Granger Causality\n",
      "number of lags (no zero) 10\n",
      "ssr based F test:         F=0.8631  , p=0.5712  , df_denom=69, df_num=10\n",
      "ssr based chi2 test:   chi2=11.2573 , p=0.3378  , df=10\n",
      "likelihood ratio test: chi2=10.6070 , p=0.3889  , df=10\n",
      "parameter F test:         F=0.8631  , p=0.5712  , df_denom=69, df_num=10\n",
      "\n",
      "Granger Causality\n",
      "number of lags (no zero) 10\n",
      "ssr based F test:         F=1.1522  , p=0.3379  , df_denom=69, df_num=10\n",
      "ssr based chi2 test:   chi2=15.0293 , p=0.1310  , df=10\n",
      "likelihood ratio test: chi2=13.8987 , p=0.1777  , df=10\n",
      "parameter F test:         F=1.1522  , p=0.3379  , df_denom=69, df_num=10\n",
      "\n",
      "Granger Causality\n",
      "number of lags (no zero) 10\n",
      "ssr based F test:         F=1.6972  , p=0.0989  , df_denom=69, df_num=10\n",
      "ssr based chi2 test:   chi2=22.1373 , p=0.0144  , df=10\n",
      "likelihood ratio test: chi2=19.7923 , p=0.0313  , df=10\n",
      "parameter F test:         F=1.6972  , p=0.0989  , df_denom=69, df_num=10\n",
      "\n",
      "Granger Causality\n",
      "number of lags (no zero) 10\n",
      "ssr based F test:         F=1.3491  , p=0.2228  , df_denom=69, df_num=10\n",
      "ssr based chi2 test:   chi2=17.5973 , p=0.0621  , df=10\n",
      "likelihood ratio test: chi2=16.0727 , p=0.0976  , df=10\n",
      "parameter F test:         F=1.3491  , p=0.2228  , df_denom=69, df_num=10\n",
      "\n",
      "Granger Causality\n",
      "number of lags (no zero) 10\n",
      "ssr based F test:         F=2.0819  , p=0.0377  , df_denom=69, df_num=10\n",
      "ssr based chi2 test:   chi2=27.1556 , p=0.0025  , df=10\n",
      "likelihood ratio test: chi2=23.7324 , p=0.0083  , df=10\n",
      "parameter F test:         F=2.0819  , p=0.0377  , df_denom=69, df_num=10\n",
      "\n",
      "Granger Causality\n",
      "number of lags (no zero) 10\n",
      "ssr based F test:         F=1.4102  , p=0.1943  , df_denom=69, df_num=10\n",
      "ssr based chi2 test:   chi2=18.3939 , p=0.0487  , df=10\n",
      "likelihood ratio test: chi2=16.7366 , p=0.0804  , df=10\n",
      "parameter F test:         F=1.4102  , p=0.1943  , df_denom=69, df_num=10\n",
      "\n",
      "Granger Causality\n",
      "number of lags (no zero) 10\n",
      "ssr based F test:         F=0.9027  , p=0.5356  , df_denom=69, df_num=10\n",
      "ssr based chi2 test:   chi2=11.7743 , p=0.3004  , df=10\n",
      "likelihood ratio test: chi2=11.0654 , p=0.3524  , df=10\n",
      "parameter F test:         F=0.9027  , p=0.5356  , df_denom=69, df_num=10\n",
      "\n",
      "Granger Causality\n",
      "number of lags (no zero) 10\n",
      "ssr based F test:         F=0.5510  , p=0.8475  , df_denom=69, df_num=10\n",
      "ssr based chi2 test:   chi2=7.1868  , p=0.7077  , df=10\n",
      "likelihood ratio test: chi2=6.9143  , p=0.7335  , df=10\n",
      "parameter F test:         F=0.5510  , p=0.8475  , df_denom=69, df_num=10\n",
      "\n",
      "Granger Causality\n",
      "number of lags (no zero) 10\n",
      "ssr based F test:         F=2.3885  , p=0.0170  , df_denom=69, df_num=10\n",
      "ssr based chi2 test:   chi2=31.1549 , p=0.0006  , df=10\n",
      "likelihood ratio test: chi2=26.7534 , p=0.0028  , df=10\n",
      "parameter F test:         F=2.3885  , p=0.0170  , df_denom=69, df_num=10\n",
      "\n",
      "Granger Causality\n",
      "number of lags (no zero) 10\n",
      "ssr based F test:         F=0.3455  , p=0.9649  , df_denom=69, df_num=10\n",
      "ssr based chi2 test:   chi2=4.5069  , p=0.9216  , df=10\n",
      "likelihood ratio test: chi2=4.3977  , p=0.9276  , df=10\n",
      "parameter F test:         F=0.3455  , p=0.9649  , df_denom=69, df_num=10\n",
      "\n",
      "Granger Causality\n",
      "number of lags (no zero) 10\n",
      "ssr based F test:         F=1.9409  , p=0.0540  , df_denom=69, df_num=10\n",
      "ssr based chi2 test:   chi2=25.3164 , p=0.0048  , df=10\n",
      "likelihood ratio test: chi2=22.3083 , p=0.0136  , df=10\n",
      "parameter F test:         F=1.9409  , p=0.0540  , df_denom=69, df_num=10\n",
      "\n",
      "Granger Causality\n",
      "number of lags (no zero) 10\n",
      "ssr based F test:         F=1.0421  , p=0.4186  , df_denom=69, df_num=10\n",
      "ssr based chi2 test:   chi2=13.5922 , p=0.1924  , df=10\n",
      "likelihood ratio test: chi2=12.6587 , p=0.2434  , df=10\n",
      "parameter F test:         F=1.0421  , p=0.4186  , df_denom=69, df_num=10\n",
      "\n",
      "Granger Causality\n",
      "number of lags (no zero) 10\n",
      "ssr based F test:         F=1.0258  , p=0.4314  , df_denom=69, df_num=10\n",
      "ssr based chi2 test:   chi2=13.3798 , p=0.2032  , df=10\n",
      "likelihood ratio test: chi2=12.4740 , p=0.2546  , df=10\n",
      "parameter F test:         F=1.0258  , p=0.4314  , df_denom=69, df_num=10\n",
      "\n",
      "Granger Causality\n",
      "number of lags (no zero) 10\n",
      "ssr based F test:         F=1.5367  , p=0.1452  , df_denom=69, df_num=10\n",
      "ssr based chi2 test:   chi2=20.0442 , p=0.0288  , df=10\n",
      "likelihood ratio test: chi2=18.0965 , p=0.0534  , df=10\n",
      "parameter F test:         F=1.5367  , p=0.1452  , df_denom=69, df_num=10\n",
      "\n",
      "Granger Causality\n",
      "number of lags (no zero) 10\n",
      "ssr based F test:         F=0.8757  , p=0.5597  , df_denom=69, df_num=10\n",
      "ssr based chi2 test:   chi2=11.4222 , p=0.3256  , df=10\n",
      "likelihood ratio test: chi2=10.7534 , p=0.3770  , df=10\n",
      "parameter F test:         F=0.8757  , p=0.5597  , df_denom=69, df_num=10\n",
      "\n",
      "Granger Causality\n",
      "number of lags (no zero) 10\n",
      "ssr based F test:         F=2.3577  , p=0.0184  , df_denom=69, df_num=10\n",
      "ssr based chi2 test:   chi2=30.7527 , p=0.0006  , df=10\n",
      "likelihood ratio test: chi2=26.4542 , p=0.0032  , df=10\n",
      "parameter F test:         F=2.3577  , p=0.0184  , df_denom=69, df_num=10\n",
      "\n",
      "Granger Causality\n",
      "number of lags (no zero) 10\n",
      "ssr based F test:         F=2.6618  , p=0.0083  , df_denom=69, df_num=10\n",
      "ssr based chi2 test:   chi2=34.7195 , p=0.0001  , df=10\n",
      "likelihood ratio test: chi2=29.3632 , p=0.0011  , df=10\n",
      "parameter F test:         F=2.6618  , p=0.0083  , df_denom=69, df_num=10\n",
      "\n",
      "Granger Causality\n",
      "number of lags (no zero) 10\n",
      "ssr based F test:         F=2.0762  , p=0.0382  , df_denom=69, df_num=10\n",
      "ssr based chi2 test:   chi2=27.0811 , p=0.0025  , df=10\n",
      "likelihood ratio test: chi2=23.6752 , p=0.0085  , df=10\n",
      "parameter F test:         F=2.0762  , p=0.0382  , df_denom=69, df_num=10\n",
      "trajectory  infected_observable_state_var  timepoint_id\n",
      "timepoint                                              \n",
      "0                               11.969685             0\n",
      "1                               15.828713             1\n",
      "2                               18.445007             2\n",
      "3                               20.906946             3\n",
      "4                               23.540363             4\n",
      "...                                   ...           ...\n",
      "94                          348138.093750            94\n",
      "95                          325088.843750            95\n",
      "96                          302895.062500            96\n",
      "97                          281833.750000            97\n",
      "98                          261997.953125            98\n",
      "\n",
      "[99 rows x 2 columns]\n",
      "\n"
     ]
    },
    {
     "data": {
      "application/vnd.vega.v5+json": {
       "$schema": "https://vega.github.io/schema/vega/v5.json",
       "axes": [
        {
         "name": "x_axis",
         "orient": "bottom",
         "scale": "xscale",
         "zindex": 100
        },
        {
         "name": "y_axis",
         "orient": "left",
         "scale": "yscale",
         "zindex": 100
        }
       ],
       "data": [
        {
         "name": "distributions",
         "transform": [
          {
           "sort": {
            "field": [
             "trajectory",
             "timepoint"
            ]
           },
           "type": "collect"
          }
         ],
         "values": [
          {
           "lower": -1.7834892778883542,
           "timepoint": 0,
           "trajectory": "same_stat_state",
           "upper": 1.3900639471799674
          },
          {
           "lower": -0.780080189116058,
           "timepoint": 1,
           "trajectory": "same_stat_state",
           "upper": 2.3925369393794997
          },
          {
           "lower": -0.593122501064032,
           "timepoint": 2,
           "trajectory": "same_stat_state",
           "upper": 2.5809007643862025
          },
          {
           "lower": -0.4785007816560029,
           "timepoint": 3,
           "trajectory": "same_stat_state",
           "upper": 2.719668123853845
          },
          {
           "lower": -0.3796376501556569,
           "timepoint": 4,
           "trajectory": "same_stat_state",
           "upper": 2.80239625696613
          },
          {
           "lower": -0.298330820384118,
           "timepoint": 5,
           "trajectory": "same_stat_state",
           "upper": 2.891686787193309
          },
          {
           "lower": -0.2285293179707949,
           "timepoint": 6,
           "trajectory": "same_stat_state",
           "upper": 2.961491054943401
          },
          {
           "lower": -0.1669057756185466,
           "timepoint": 7,
           "trajectory": "same_stat_state",
           "upper": 3.02083180976195
          },
          {
           "lower": -0.1091911850798565,
           "timepoint": 8,
           "trajectory": "same_stat_state",
           "upper": 3.079911466722354
          },
          {
           "lower": -0.0585025914646292,
           "timepoint": 9,
           "trajectory": "same_stat_state",
           "upper": 3.120811133756415
          },
          {
           "lower": -0.0184489344374204,
           "timepoint": 10,
           "trajectory": "same_stat_state",
           "upper": 3.1795175392867416
          },
          {
           "lower": 0.0322531901622851,
           "timepoint": 11,
           "trajectory": "same_stat_state",
           "upper": 3.2162030216147635
          },
          {
           "lower": 0.0760097867393407,
           "timepoint": 12,
           "trajectory": "same_stat_state",
           "upper": 3.256361468732471
          },
          {
           "lower": 0.1194953885092811,
           "timepoint": 13,
           "trajectory": "same_stat_state",
           "upper": 3.2995333324875804
          },
          {
           "lower": 0.1474289805293499,
           "timepoint": 14,
           "trajectory": "same_stat_state",
           "upper": 3.328961406142881
          },
          {
           "lower": 0.1709880629820405,
           "timepoint": 15,
           "trajectory": "same_stat_state",
           "upper": 3.368755203443033
          },
          {
           "lower": 0.2124900380528692,
           "timepoint": 16,
           "trajectory": "same_stat_state",
           "upper": 3.3964859352135885
          },
          {
           "lower": 0.2426253847907864,
           "timepoint": 17,
           "trajectory": "same_stat_state",
           "upper": 3.425882346627541
          },
          {
           "lower": 0.2738594601455394,
           "timepoint": 18,
           "trajectory": "same_stat_state",
           "upper": 3.4540068187923416
          },
          {
           "lower": 0.2981338115986687,
           "timepoint": 19,
           "trajectory": "same_stat_state",
           "upper": 3.488207309919084
          },
          {
           "lower": 0.3221669511976944,
           "timepoint": 20,
           "trajectory": "same_stat_state",
           "upper": 3.519989057291298
          },
          {
           "lower": 0.350848809123462,
           "timepoint": 21,
           "trajectory": "same_stat_state",
           "upper": 3.538727555648171
          },
          {
           "lower": 0.3715744491434801,
           "timepoint": 22,
           "trajectory": "same_stat_state",
           "upper": 3.569194357921544
          },
          {
           "lower": 0.4036836123578073,
           "timepoint": 23,
           "trajectory": "same_stat_state",
           "upper": 3.588116899370726
          },
          {
           "lower": 0.4289837342007742,
           "timepoint": 24,
           "trajectory": "same_stat_state",
           "upper": 3.609986959453517
          },
          {
           "lower": 0.4488989087398392,
           "timepoint": 25,
           "trajectory": "same_stat_state",
           "upper": 3.6393936131388944
          },
          {
           "lower": 0.4687279796900025,
           "timepoint": 26,
           "trajectory": "same_stat_state",
           "upper": 3.651970916799916
          },
          {
           "lower": 0.4983197435648562,
           "timepoint": 27,
           "trajectory": "same_stat_state",
           "upper": 3.6787280610439783
          },
          {
           "lower": 0.5199180518936453,
           "timepoint": 28,
           "trajectory": "same_stat_state",
           "upper": 3.694633257166808
          },
          {
           "lower": 0.539851917156682,
           "timepoint": 29,
           "trajectory": "same_stat_state",
           "upper": 3.712755686617232
          },
          {
           "lower": 0.5571336846919487,
           "timepoint": 30,
           "trajectory": "same_stat_state",
           "upper": 3.735207405905759
          },
          {
           "lower": 0.5783431425954144,
           "timepoint": 31,
           "trajectory": "same_stat_state",
           "upper": 3.7522147945308193
          },
          {
           "lower": 0.5896849530228498,
           "timepoint": 32,
           "trajectory": "same_stat_state",
           "upper": 3.771917737795631
          },
          {
           "lower": 0.60763530798767,
           "timepoint": 33,
           "trajectory": "same_stat_state",
           "upper": 3.791356406563904
          },
          {
           "lower": 0.6246723484087972,
           "timepoint": 34,
           "trajectory": "same_stat_state",
           "upper": 3.811195006126507
          },
          {
           "lower": 0.6461690645413671,
           "timepoint": 35,
           "trajectory": "same_stat_state",
           "upper": 3.828613645252626
          },
          {
           "lower": 0.6676741613192554,
           "timepoint": 36,
           "trajectory": "same_stat_state",
           "upper": 3.843517380101877
          },
          {
           "lower": 0.6782258393585591,
           "timepoint": 37,
           "trajectory": "same_stat_state",
           "upper": 3.867350638714603
          },
          {
           "lower": 0.6981640577147674,
           "timepoint": 38,
           "trajectory": "same_stat_state",
           "upper": 3.8743787375182857
          },
          {
           "lower": 0.7188976882815954,
           "timepoint": 39,
           "trajectory": "same_stat_state",
           "upper": 3.8912973033768177
          },
          {
           "lower": 0.7294195902027184,
           "timepoint": 40,
           "trajectory": "same_stat_state",
           "upper": 3.916159398686459
          },
          {
           "lower": 0.7457150946395172,
           "timepoint": 41,
           "trajectory": "same_stat_state",
           "upper": 3.920675313047081
          },
          {
           "lower": 0.7544312879039741,
           "timepoint": 42,
           "trajectory": "same_stat_state",
           "upper": 3.941422494921242
          },
          {
           "lower": 0.7705127865302607,
           "timepoint": 43,
           "trajectory": "same_stat_state",
           "upper": 3.954586677736789
          },
          {
           "lower": 0.7856560206258201,
           "timepoint": 44,
           "trajectory": "same_stat_state",
           "upper": 3.978853946107277
          },
          {
           "lower": 0.8007024922351642,
           "timepoint": 45,
           "trajectory": "same_stat_state",
           "upper": 3.988872827128938
          },
          {
           "lower": 0.8113262191096221,
           "timepoint": 46,
           "trajectory": "same_stat_state",
           "upper": 3.99944655373888
          },
          {
           "lower": 0.8247151743791894,
           "timepoint": 47,
           "trajectory": "same_stat_state",
           "upper": 4.016264980495853
          },
          {
           "lower": 0.8420904939531095,
           "timepoint": 48,
           "trajectory": "same_stat_state",
           "upper": 4.029677764091781
          },
          {
           "lower": 0.8544576259419839,
           "timepoint": 49,
           "trajectory": "same_stat_state",
           "upper": 4.0497755907724144
          },
          {
           "lower": 0.8797674016930909,
           "timepoint": 50,
           "trajectory": "same_stat_state",
           "upper": 4.059967954733181
          },
          {
           "lower": 0.8821734689905132,
           "timepoint": 51,
           "trajectory": "same_stat_state",
           "upper": 4.066043377994334
          },
          {
           "lower": 0.89844937958926,
           "timepoint": 52,
           "trajectory": "same_stat_state",
           "upper": 4.08809223300766
          },
          {
           "lower": 0.9081757487026172,
           "timepoint": 53,
           "trajectory": "same_stat_state",
           "upper": 4.099401433881755
          },
          {
           "lower": 0.9283017612557756,
           "timepoint": 54,
           "trajectory": "same_stat_state",
           "upper": 4.109813180630644
          },
          {
           "lower": 0.9397165995720628,
           "timepoint": 55,
           "trajectory": "same_stat_state",
           "upper": 4.119967444724599
          },
          {
           "lower": 0.9448908163227728,
           "timepoint": 56,
           "trajectory": "same_stat_state",
           "upper": 4.139223927314519
          },
          {
           "lower": 0.9582599579523264,
           "timepoint": 57,
           "trajectory": "same_stat_state",
           "upper": 4.149730406030827
          },
          {
           "lower": 0.9741645152647616,
           "timepoint": 58,
           "trajectory": "same_stat_state",
           "upper": 4.1565919871557
          },
          {
           "lower": 0.9804930077410258,
           "timepoint": 59,
           "trajectory": "same_stat_state",
           "upper": 4.1656552762946895
          },
          {
           "lower": 0.992178366201086,
           "timepoint": 60,
           "trajectory": "same_stat_state",
           "upper": 4.173543994531411
          },
          {
           "lower": 1.000908813003312,
           "timepoint": 61,
           "trajectory": "same_stat_state",
           "upper": 4.192141519349807
          },
          {
           "lower": 1.0110996928123028,
           "timepoint": 62,
           "trajectory": "same_stat_state",
           "upper": 4.20765496463298
          },
          {
           "lower": 1.0235078008816352,
           "timepoint": 63,
           "trajectory": "same_stat_state",
           "upper": 4.217641642886089
          },
          {
           "lower": 1.032669312210171,
           "timepoint": 64,
           "trajectory": "same_stat_state",
           "upper": 4.227216562970369
          },
          {
           "lower": 1.0584084220287664,
           "timepoint": 65,
           "trajectory": "same_stat_state",
           "upper": 4.230923090462001
          },
          {
           "lower": 1.0680975366739942,
           "timepoint": 66,
           "trajectory": "same_stat_state",
           "upper": 4.243646643809233
          },
          {
           "lower": 1.076291003535328,
           "timepoint": 67,
           "trajectory": "same_stat_state",
           "upper": 4.257415639376221
          },
          {
           "lower": 1.0862504639297614,
           "timepoint": 68,
           "trajectory": "same_stat_state",
           "upper": 4.2670148445848906
          },
          {
           "lower": 1.0999884301457925,
           "timepoint": 69,
           "trajectory": "same_stat_state",
           "upper": 4.279926309563949
          },
          {
           "lower": 1.1008227391019902,
           "timepoint": 70,
           "trajectory": "same_stat_state",
           "upper": 4.280323032521334
          },
          {
           "lower": 1.1169672816005358,
           "timepoint": 71,
           "trajectory": "same_stat_state",
           "upper": 4.293495180510775
          },
          {
           "lower": 1.12312571492027,
           "timepoint": 72,
           "trajectory": "same_stat_state",
           "upper": 4.305949995266531
          },
          {
           "lower": 1.1312350876302315,
           "timepoint": 73,
           "trajectory": "same_stat_state",
           "upper": 4.3126528573099385
          },
          {
           "lower": 1.140091260139379,
           "timepoint": 74,
           "trajectory": "same_stat_state",
           "upper": 4.327486784356327
          },
          {
           "lower": 1.155811205080482,
           "timepoint": 75,
           "trajectory": "same_stat_state",
           "upper": 4.335230915152542
          },
          {
           "lower": 1.1646724077001558,
           "timepoint": 76,
           "trajectory": "same_stat_state",
           "upper": 4.342684749036812
          },
          {
           "lower": 1.1760871536602178,
           "timepoint": 77,
           "trajectory": "same_stat_state",
           "upper": 4.356983781976807
          },
          {
           "lower": 1.1884256559256052,
           "timepoint": 78,
           "trajectory": "same_stat_state",
           "upper": 4.367443556506477
          },
          {
           "lower": 1.1972969606746244,
           "timepoint": 79,
           "trajectory": "same_stat_state",
           "upper": 4.3775326663527885
          },
          {
           "lower": 1.2099835272014854,
           "timepoint": 80,
           "trajectory": "same_stat_state",
           "upper": 4.380657058134965
          },
          {
           "lower": 1.2134481143002482,
           "timepoint": 81,
           "trajectory": "same_stat_state",
           "upper": 4.396554130031791
          },
          {
           "lower": 1.2280298179022264,
           "timepoint": 82,
           "trajectory": "same_stat_state",
           "upper": 4.409720093147641
          },
          {
           "lower": 1.2215986067697993,
           "timepoint": 83,
           "trajectory": "same_stat_state",
           "upper": 4.417854487325607
          },
          {
           "lower": 1.2309292436474424,
           "timepoint": 84,
           "trajectory": "same_stat_state",
           "upper": 4.426603891383651
          },
          {
           "lower": 1.2457913799706233,
           "timepoint": 85,
           "trajectory": "same_stat_state",
           "upper": 4.432245951892988
          },
          {
           "lower": 1.2504651749558748,
           "timepoint": 86,
           "trajectory": "same_stat_state",
           "upper": 4.448823399367061
          },
          {
           "lower": 1.2647252165963023,
           "timepoint": 87,
           "trajectory": "same_stat_state",
           "upper": 4.449414971735963
          },
          {
           "lower": 1.2796274207614209,
           "timepoint": 88,
           "trajectory": "same_stat_state",
           "upper": 4.459913506261045
          },
          {
           "lower": 1.2819962273914165,
           "timepoint": 89,
           "trajectory": "same_stat_state",
           "upper": 4.463342417201657
          },
          {
           "lower": 1.2978937761884164,
           "timepoint": 90,
           "trajectory": "same_stat_state",
           "upper": 4.472548784605021
          },
          {
           "lower": 1.2998254167282268,
           "timepoint": 91,
           "trajectory": "same_stat_state",
           "upper": 4.489989101639474
          },
          {
           "lower": 1.3094396433482824,
           "timepoint": 92,
           "trajectory": "same_stat_state",
           "upper": 4.499788009774211
          },
          {
           "lower": 1.3186992110278413,
           "timepoint": 93,
           "trajectory": "same_stat_state",
           "upper": 4.509606206386113
          },
          {
           "lower": 1.329112244066514,
           "timepoint": 94,
           "trajectory": "same_stat_state",
           "upper": 4.507444661848803
          },
          {
           "lower": 1.3335169935544176,
           "timepoint": 95,
           "trajectory": "same_stat_state",
           "upper": 4.51712402109434
          },
          {
           "lower": 1.3415061417541263,
           "timepoint": 96,
           "trajectory": "same_stat_state",
           "upper": 4.528967603258526
          },
          {
           "lower": 1.34723790642819,
           "timepoint": 97,
           "trajectory": "same_stat_state",
           "upper": 4.5308478349684185
          },
          {
           "lower": 1.3585464736865611,
           "timepoint": 98,
           "trajectory": "same_stat_state",
           "upper": 4.549286978301236
          },
          {
           "lower": 1.361879887667369,
           "timepoint": 99,
           "trajectory": "same_stat_state",
           "upper": 4.544047157116784
          }
         ]
        },
        {
         "name": "traces",
         "transform": [
          {
           "expr": "isValid(datum.value)",
           "type": "filter"
          },
          {
           "sort": {
            "field": [
             "trajectory",
             "timepoint"
            ]
           },
           "type": "collect"
          }
         ],
         "values": [
          {
           "sample_id": 0,
           "timepoint": 0,
           "trajectory": "same_stat_state",
           "value": -0.1297565833536062
          },
          {
           "sample_id": 0,
           "timepoint": 1,
           "trajectory": "same_stat_state",
           "value": 0.9076389603159684
          },
          {
           "sample_id": 0,
           "timepoint": 2,
           "trajectory": "same_stat_state",
           "value": 1.1058294800916464
          },
          {
           "sample_id": 0,
           "timepoint": 3,
           "trajectory": "same_stat_state",
           "value": 1.257447986551134
          },
          {
           "sample_id": 0,
           "timepoint": 4,
           "trajectory": "same_stat_state",
           "value": 1.3602700147354705
          },
          {
           "sample_id": 0,
           "timepoint": 5,
           "trajectory": "same_stat_state",
           "value": 1.4415671499242388
          },
          {
           "sample_id": 0,
           "timepoint": 6,
           "trajectory": "same_stat_state",
           "value": 1.5092731851115615
          },
          {
           "sample_id": 0,
           "timepoint": 7,
           "trajectory": "same_stat_state",
           "value": 1.5549129463048057
          },
          {
           "sample_id": 0,
           "timepoint": 8,
           "trajectory": "same_stat_state",
           "value": 1.5758706045471993
          },
          {
           "sample_id": 0,
           "timepoint": 9,
           "trajectory": "same_stat_state",
           "value": 1.5786421566198854
          },
          {
           "sample_id": 0,
           "timepoint": 10,
           "trajectory": "same_stat_state",
           "value": 1.6354486857153243
          },
          {
           "sample_id": 0,
           "timepoint": 11,
           "trajectory": "same_stat_state",
           "value": 1.6116454716903958
          },
          {
           "sample_id": 0,
           "timepoint": 12,
           "trajectory": "same_stat_state",
           "value": 1.6170610461995896
          },
          {
           "sample_id": 0,
           "timepoint": 13,
           "trajectory": "same_stat_state",
           "value": 1.6242312031471278
          },
          {
           "sample_id": 0,
           "timepoint": 14,
           "trajectory": "same_stat_state",
           "value": 1.6401695884604943
          },
          {
           "sample_id": 0,
           "timepoint": 15,
           "trajectory": "same_stat_state",
           "value": 1.6453648709487998
          },
          {
           "sample_id": 0,
           "timepoint": 16,
           "trajectory": "same_stat_state",
           "value": 1.6631624516353831
          },
          {
           "sample_id": 0,
           "timepoint": 17,
           "trajectory": "same_stat_state",
           "value": 1.6886166648456418
          },
          {
           "sample_id": 0,
           "timepoint": 18,
           "trajectory": "same_stat_state",
           "value": 1.7133021413155474
          },
          {
           "sample_id": 0,
           "timepoint": 19,
           "trajectory": "same_stat_state",
           "value": 1.8326772496275323
          },
          {
           "sample_id": 0,
           "timepoint": 20,
           "trajectory": "same_stat_state",
           "value": 1.8187170595924045
          },
          {
           "sample_id": 0,
           "timepoint": 21,
           "trajectory": "same_stat_state",
           "value": 1.8591864031751069
          },
          {
           "sample_id": 0,
           "timepoint": 22,
           "trajectory": "same_stat_state",
           "value": 1.9155135003022763
          },
          {
           "sample_id": 0,
           "timepoint": 23,
           "trajectory": "same_stat_state",
           "value": 1.9839240940594796
          },
          {
           "sample_id": 0,
           "timepoint": 24,
           "trajectory": "same_stat_state",
           "value": 2.035310926418973
          },
          {
           "sample_id": 0,
           "timepoint": 25,
           "trajectory": "same_stat_state",
           "value": 2.09689048370364
          },
          {
           "sample_id": 0,
           "timepoint": 26,
           "trajectory": "same_stat_state",
           "value": 2.1506013893263884
          },
          {
           "sample_id": 0,
           "timepoint": 27,
           "trajectory": "same_stat_state",
           "value": 2.2020849641675206
          },
          {
           "sample_id": 0,
           "timepoint": 28,
           "trajectory": "same_stat_state",
           "value": 2.237619743163671
          },
          {
           "sample_id": 0,
           "timepoint": 29,
           "trajectory": "same_stat_state",
           "value": 2.264591587741406
          },
          {
           "sample_id": 0,
           "timepoint": 30,
           "trajectory": "same_stat_state",
           "value": 2.301835063088898
          },
          {
           "sample_id": 0,
           "timepoint": 31,
           "trajectory": "same_stat_state",
           "value": 2.3346851276957823
          },
          {
           "sample_id": 0,
           "timepoint": 32,
           "trajectory": "same_stat_state",
           "value": 2.299019899068106
          },
          {
           "sample_id": 0,
           "timepoint": 33,
           "trajectory": "same_stat_state",
           "value": 2.298700803414496
          },
          {
           "sample_id": 0,
           "timepoint": 34,
           "trajectory": "same_stat_state",
           "value": 2.271311232496592
          },
          {
           "sample_id": 0,
           "timepoint": 35,
           "trajectory": "same_stat_state",
           "value": 2.2601387016048173
          },
          {
           "sample_id": 0,
           "timepoint": 36,
           "trajectory": "same_stat_state",
           "value": 2.248135894820819
          },
          {
           "sample_id": 0,
           "timepoint": 37,
           "trajectory": "same_stat_state",
           "value": 2.2279517150214816
          },
          {
           "sample_id": 0,
           "timepoint": 38,
           "trajectory": "same_stat_state",
           "value": 2.2077453782450807
          },
          {
           "sample_id": 0,
           "timepoint": 39,
           "trajectory": "same_stat_state",
           "value": 2.19581595246074
          },
          {
           "sample_id": 0,
           "timepoint": 40,
           "trajectory": "same_stat_state",
           "value": 2.204339675619667
          },
          {
           "sample_id": 0,
           "timepoint": 41,
           "trajectory": "same_stat_state",
           "value": 2.1885858715465205
          },
          {
           "sample_id": 0,
           "timepoint": 42,
           "trajectory": "same_stat_state",
           "value": 2.2016980546595217
          },
          {
           "sample_id": 0,
           "timepoint": 43,
           "trajectory": "same_stat_state",
           "value": 2.21898542845514
          },
          {
           "sample_id": 0,
           "timepoint": 44,
           "trajectory": "same_stat_state",
           "value": 2.2423114132982187
          },
          {
           "sample_id": 0,
           "timepoint": 45,
           "trajectory": "same_stat_state",
           "value": 2.2747055301978114
          },
          {
           "sample_id": 0,
           "timepoint": 46,
           "trajectory": "same_stat_state",
           "value": 2.316322393708816
          },
          {
           "sample_id": 0,
           "timepoint": 47,
           "trajectory": "same_stat_state",
           "value": 2.361645439854722
          },
          {
           "sample_id": 0,
           "timepoint": 48,
           "trajectory": "same_stat_state",
           "value": 2.4140619802529426
          },
          {
           "sample_id": 0,
           "timepoint": 49,
           "trajectory": "same_stat_state",
           "value": 2.4600650526820624
          },
          {
           "sample_id": 0,
           "timepoint": 50,
           "trajectory": "same_stat_state",
           "value": 2.521975044735429
          },
          {
           "sample_id": 0,
           "timepoint": 51,
           "trajectory": "same_stat_state",
           "value": 2.5572268366097863
          },
          {
           "sample_id": 0,
           "timepoint": 52,
           "trajectory": "same_stat_state",
           "value": 2.599916158602754
          },
          {
           "sample_id": 0,
           "timepoint": 53,
           "trajectory": "same_stat_state",
           "value": 2.6907364071903377
          },
          {
           "sample_id": 0,
           "timepoint": 54,
           "trajectory": "same_stat_state",
           "value": 2.6601928196898155
          },
          {
           "sample_id": 0,
           "timepoint": 55,
           "trajectory": "same_stat_state",
           "value": 2.667026050591583
          },
          {
           "sample_id": 0,
           "timepoint": 56,
           "trajectory": "same_stat_state",
           "value": 2.745938364954552
          },
          {
           "sample_id": 0,
           "timepoint": 57,
           "trajectory": "same_stat_state",
           "value": 2.6771386222033366
          },
          {
           "sample_id": 0,
           "timepoint": 58,
           "trajectory": "same_stat_state",
           "value": 2.665033249608508
          },
          {
           "sample_id": 0,
           "timepoint": 59,
           "trajectory": "same_stat_state",
           "value": 2.6506556863710298
          },
          {
           "sample_id": 0,
           "timepoint": 60,
           "trajectory": "same_stat_state",
           "value": 2.629736003951185
          },
          {
           "sample_id": 0,
           "timepoint": 61,
           "trajectory": "same_stat_state",
           "value": 2.609302482796886
          },
          {
           "sample_id": 0,
           "timepoint": 62,
           "trajectory": "same_stat_state",
           "value": 2.561684601091021
          },
          {
           "sample_id": 0,
           "timepoint": 63,
           "trajectory": "same_stat_state",
           "value": 2.5355286692463994
          },
          {
           "sample_id": 0,
           "timepoint": 64,
           "trajectory": "same_stat_state",
           "value": 2.49841304146713
          },
          {
           "sample_id": 0,
           "timepoint": 65,
           "trajectory": "same_stat_state",
           "value": 2.5231075675814174
          },
          {
           "sample_id": 0,
           "timepoint": 66,
           "trajectory": "same_stat_state",
           "value": 2.4971647885388677
          },
          {
           "sample_id": 0,
           "timepoint": 67,
           "trajectory": "same_stat_state",
           "value": 2.5233361591755736
          },
          {
           "sample_id": 0,
           "timepoint": 68,
           "trajectory": "same_stat_state",
           "value": 2.5209674233917427
          },
          {
           "sample_id": 0,
           "timepoint": 69,
           "trajectory": "same_stat_state",
           "value": 2.5450908044165907
          },
          {
           "sample_id": 0,
           "timepoint": 70,
           "trajectory": "same_stat_state",
           "value": 2.57860085477218
          },
          {
           "sample_id": 0,
           "timepoint": 71,
           "trajectory": "same_stat_state",
           "value": 2.6043965925083565
          },
          {
           "sample_id": 0,
           "timepoint": 72,
           "trajectory": "same_stat_state",
           "value": 2.6496024823303053
          },
          {
           "sample_id": 0,
           "timepoint": 73,
           "trajectory": "same_stat_state",
           "value": 2.6905428187962626
          },
          {
           "sample_id": 0,
           "timepoint": 74,
           "trajectory": "same_stat_state",
           "value": 2.7426224477358243
          },
          {
           "sample_id": 0,
           "timepoint": 75,
           "trajectory": "same_stat_state",
           "value": 2.7531942538604675
          },
          {
           "sample_id": 0,
           "timepoint": 76,
           "trajectory": "same_stat_state",
           "value": 2.8185450819878723
          },
          {
           "sample_id": 0,
           "timepoint": 77,
           "trajectory": "same_stat_state",
           "value": 2.8624113941115668
          },
          {
           "sample_id": 0,
           "timepoint": 78,
           "trajectory": "same_stat_state",
           "value": 2.898508037935469
          },
          {
           "sample_id": 0,
           "timepoint": 79,
           "trajectory": "same_stat_state",
           "value": 2.919575178376405
          },
          {
           "sample_id": 0,
           "timepoint": 80,
           "trajectory": "same_stat_state",
           "value": 2.94524560558718
          },
          {
           "sample_id": 0,
           "timepoint": 81,
           "trajectory": "same_stat_state",
           "value": 2.9532807753354797
          },
          {
           "sample_id": 0,
           "timepoint": 82,
           "trajectory": "same_stat_state",
           "value": 2.941370891794863
          },
          {
           "sample_id": 0,
           "timepoint": 83,
           "trajectory": "same_stat_state",
           "value": 2.9325834057740976
          },
          {
           "sample_id": 0,
           "timepoint": 84,
           "trajectory": "same_stat_state",
           "value": 2.9124826528568324
          },
          {
           "sample_id": 0,
           "timepoint": 85,
           "trajectory": "same_stat_state",
           "value": 2.8885138543665936
          },
          {
           "sample_id": 0,
           "timepoint": 86,
           "trajectory": "same_stat_state",
           "value": 2.85511247403463
          },
          {
           "sample_id": 0,
           "timepoint": 87,
           "trajectory": "same_stat_state",
           "value": 2.834060291760767
          },
          {
           "sample_id": 0,
           "timepoint": 88,
           "trajectory": "same_stat_state",
           "value": 2.797726276445428
          },
          {
           "sample_id": 0,
           "timepoint": 89,
           "trajectory": "same_stat_state",
           "value": 2.790228016046404
          },
          {
           "sample_id": 0,
           "timepoint": 90,
           "trajectory": "same_stat_state",
           "value": 2.7593739943769213
          },
          {
           "sample_id": 0,
           "timepoint": 91,
           "trajectory": "same_stat_state",
           "value": 2.748052885088641
          },
          {
           "sample_id": 0,
           "timepoint": 92,
           "trajectory": "same_stat_state",
           "value": 2.743867550486052
          },
          {
           "sample_id": 0,
           "timepoint": 93,
           "trajectory": "same_stat_state",
           "value": 2.760262470066652
          },
          {
           "sample_id": 0,
           "timepoint": 94,
           "trajectory": "same_stat_state",
           "value": 2.675225762636682
          },
          {
           "sample_id": 0,
           "timepoint": 95,
           "trajectory": "same_stat_state",
           "value": 2.7853608437504067
          },
          {
           "sample_id": 0,
           "timepoint": 96,
           "trajectory": "same_stat_state",
           "value": 2.830819360214654
          },
          {
           "sample_id": 0,
           "timepoint": 97,
           "trajectory": "same_stat_state",
           "value": 2.871942245478453
          },
          {
           "sample_id": 0,
           "timepoint": 98,
           "trajectory": "same_stat_state",
           "value": 2.90182156080653
          },
          {
           "sample_id": 0,
           "timepoint": 99,
           "trajectory": "same_stat_state",
           "value": 2.951372783395004
          },
          {
           "sample_id": 0,
           "timepoint": 0,
           "trajectory": "traces_var",
           "value": -1.5228308064596208
          },
          {
           "sample_id": 0,
           "timepoint": 1,
           "trajectory": "traces_var",
           "value": -0.4577611929164358
          },
          {
           "sample_id": 0,
           "timepoint": 2,
           "trajectory": "traces_var",
           "value": -0.3857590609088918
          },
          {
           "sample_id": 0,
           "timepoint": 3,
           "trajectory": "traces_var",
           "value": -0.2419554604553507
          },
          {
           "sample_id": 0,
           "timepoint": 4,
           "trajectory": "traces_var",
           "value": -0.1603216603525751
          },
          {
           "sample_id": 0,
           "timepoint": 5,
           "trajectory": "traces_var",
           "value": -0.0969729267262902
          },
          {
           "sample_id": 0,
           "timepoint": 6,
           "trajectory": "traces_var",
           "value": -0.043565218735763
          },
          {
           "sample_id": 0,
           "timepoint": 7,
           "trajectory": "traces_var",
           "value": 0.0053853466201398
          },
          {
           "sample_id": 0,
           "timepoint": 8,
           "trajectory": "traces_var",
           "value": 0.0674261978723985
          },
          {
           "sample_id": 0,
           "timepoint": 9,
           "trajectory": "traces_var",
           "value": 0.1216519999942093
          },
          {
           "sample_id": 0,
           "timepoint": 10,
           "trajectory": "traces_var",
           "value": 0.2369742718161444
          },
          {
           "sample_id": 0,
           "timepoint": 11,
           "trajectory": "traces_var",
           "value": 0.2522688679689687
          },
          {
           "sample_id": 0,
           "timepoint": 12,
           "trajectory": "traces_var",
           "value": 0.3123342580683418
          },
          {
           "sample_id": 0,
           "timepoint": 13,
           "trajectory": "traces_var",
           "value": 0.3589836081215589
          },
          {
           "sample_id": 0,
           "timepoint": 14,
           "trajectory": "traces_var",
           "value": 0.4238544115387487
          },
          {
           "sample_id": 0,
           "timepoint": 15,
           "trajectory": "traces_var",
           "value": 0.4330909770922476
          },
          {
           "sample_id": 0,
           "timepoint": 16,
           "trajectory": "traces_var",
           "value": 0.4431937255064937
          },
          {
           "sample_id": 0,
           "timepoint": 17,
           "trajectory": "traces_var",
           "value": 0.4601626787623446
          },
          {
           "sample_id": 0,
           "timepoint": 18,
           "trajectory": "traces_var",
           "value": 0.4699576631890215
          },
          {
           "sample_id": 0,
           "timepoint": 19,
           "trajectory": "traces_var",
           "value": 0.4770604037598819
          },
          {
           "sample_id": 0,
           "timepoint": 20,
           "trajectory": "traces_var",
           "value": 0.4983138106260572
          },
          {
           "sample_id": 0,
           "timepoint": 21,
           "trajectory": "traces_var",
           "value": 0.5189732990769667
          },
          {
           "sample_id": 0,
           "timepoint": 22,
           "trajectory": "traces_var",
           "value": 0.5505991289678889
          },
          {
           "sample_id": 0,
           "timepoint": 23,
           "trajectory": "traces_var",
           "value": 0.6003319215277091
          },
          {
           "sample_id": 0,
           "timepoint": 24,
           "trajectory": "traces_var",
           "value": 0.6358996237843536
          },
          {
           "sample_id": 0,
           "timepoint": 25,
           "trajectory": "traces_var",
           "value": 0.6837864784610851
          },
          {
           "sample_id": 0,
           "timepoint": 26,
           "trajectory": "traces_var",
           "value": 0.7185519898173609
          },
          {
           "sample_id": 0,
           "timepoint": 27,
           "trajectory": "traces_var",
           "value": 0.7469481099251561
          },
          {
           "sample_id": 0,
           "timepoint": 28,
           "trajectory": "traces_var",
           "value": 0.7515637348335104
          },
          {
           "sample_id": 0,
           "timepoint": 29,
           "trajectory": "traces_var",
           "value": 0.7731962440808988
          },
          {
           "sample_id": 0,
           "timepoint": 30,
           "trajectory": "traces_var",
           "value": 0.7695875023048613
          },
          {
           "sample_id": 0,
           "timepoint": 31,
           "trajectory": "traces_var",
           "value": 0.7513285870471023
          },
          {
           "sample_id": 0,
           "timepoint": 32,
           "trajectory": "traces_var",
           "value": 0.7659773731703048
          },
          {
           "sample_id": 0,
           "timepoint": 33,
           "trajectory": "traces_var",
           "value": 0.7788479727496901
          },
          {
           "sample_id": 0,
           "timepoint": 34,
           "trajectory": "traces_var",
           "value": 0.798594158500782
          },
          {
           "sample_id": 0,
           "timepoint": 35,
           "trajectory": "traces_var",
           "value": 0.8149030397804503
          },
          {
           "sample_id": 0,
           "timepoint": 36,
           "trajectory": "traces_var",
           "value": 0.8418503315330766
          },
          {
           "sample_id": 0,
           "timepoint": 37,
           "trajectory": "traces_var",
           "value": 0.8935217287625209
          },
          {
           "sample_id": 0,
           "timepoint": 38,
           "trajectory": "traces_var",
           "value": 0.9279810180798146
          },
          {
           "sample_id": 0,
           "timepoint": 39,
           "trajectory": "traces_var",
           "value": 0.9585963147839484
          },
          {
           "sample_id": 0,
           "timepoint": 40,
           "trajectory": "traces_var",
           "value": 1.0170265076211789
          },
          {
           "sample_id": 0,
           "timepoint": 41,
           "trajectory": "traces_var",
           "value": 0.991029441122784
          },
          {
           "sample_id": 0,
           "timepoint": 42,
           "trajectory": "traces_var",
           "value": 1.0678572031424938
          },
          {
           "sample_id": 0,
           "timepoint": 43,
           "trajectory": "traces_var",
           "value": 0.9913428452056852
          },
          {
           "sample_id": 0,
           "timepoint": 44,
           "trajectory": "traces_var",
           "value": 0.9724507245839912
          },
          {
           "sample_id": 0,
           "timepoint": 45,
           "trajectory": "traces_var",
           "value": 0.9821487314832396
          },
          {
           "sample_id": 0,
           "timepoint": 46,
           "trajectory": "traces_var",
           "value": 0.9921020987050856
          },
          {
           "sample_id": 0,
           "timepoint": 47,
           "trajectory": "traces_var",
           "value": 0.9585405089586388
          },
          {
           "sample_id": 0,
           "timepoint": 48,
           "trajectory": "traces_var",
           "value": 1.0192494637334435
          },
          {
           "sample_id": 0,
           "timepoint": 49,
           "trajectory": "traces_var",
           "value": 1.0518938953259351
          },
          {
           "sample_id": 0,
           "timepoint": 50,
           "trajectory": "traces_var",
           "value": 1.0703679567489204
          },
          {
           "sample_id": 0,
           "timepoint": 51,
           "trajectory": "traces_var",
           "value": 1.1122520978741064
          },
          {
           "sample_id": 0,
           "timepoint": 52,
           "trajectory": "traces_var",
           "value": 1.148946929270492
          },
          {
           "sample_id": 0,
           "timepoint": 53,
           "trajectory": "traces_var",
           "value": 1.1641482242466012
          },
          {
           "sample_id": 0,
           "timepoint": 54,
           "trajectory": "traces_var",
           "value": 1.1665904760323844
          },
          {
           "sample_id": 0,
           "timepoint": 55,
           "trajectory": "traces_var",
           "value": 1.2054219131629318
          },
          {
           "sample_id": 0,
           "timepoint": 56,
           "trajectory": "traces_var",
           "value": 1.1684509598725934
          },
          {
           "sample_id": 0,
           "timepoint": 57,
           "trajectory": "traces_var",
           "value": 1.1595347136444856
          },
          {
           "sample_id": 0,
           "timepoint": 58,
           "trajectory": "traces_var",
           "value": 1.1507657516604717
          },
          {
           "sample_id": 0,
           "timepoint": 59,
           "trajectory": "traces_var",
           "value": 1.1220063800956428
          },
          {
           "sample_id": 0,
           "timepoint": 60,
           "trajectory": "traces_var",
           "value": 1.1871958614902152
          },
          {
           "sample_id": 0,
           "timepoint": 61,
           "trajectory": "traces_var",
           "value": 1.167963139125796
          },
          {
           "sample_id": 0,
           "timepoint": 62,
           "trajectory": "traces_var",
           "value": 1.287916321418804
          },
          {
           "sample_id": 0,
           "timepoint": 63,
           "trajectory": "traces_var",
           "value": 1.2455983316566506
          },
          {
           "sample_id": 0,
           "timepoint": 64,
           "trajectory": "traces_var",
           "value": 1.2795617612944603
          },
          {
           "sample_id": 0,
           "timepoint": 65,
           "trajectory": "traces_var",
           "value": 1.2862220303491323
          },
          {
           "sample_id": 0,
           "timepoint": 66,
           "trajectory": "traces_var",
           "value": 1.309402656103491
          },
          {
           "sample_id": 0,
           "timepoint": 67,
           "trajectory": "traces_var",
           "value": 1.321621041044127
          },
          {
           "sample_id": 0,
           "timepoint": 68,
           "trajectory": "traces_var",
           "value": 1.3267630569259523
          },
          {
           "sample_id": 0,
           "timepoint": 69,
           "trajectory": "traces_var",
           "value": 1.3141383482957871
          },
          {
           "sample_id": 0,
           "timepoint": 70,
           "trajectory": "traces_var",
           "value": 1.304267690127005
          },
          {
           "sample_id": 0,
           "timepoint": 71,
           "trajectory": "traces_var",
           "value": 1.2811574775044052
          },
          {
           "sample_id": 0,
           "timepoint": 72,
           "trajectory": "traces_var",
           "value": 1.290325081201078
          },
          {
           "sample_id": 0,
           "timepoint": 73,
           "trajectory": "traces_var",
           "value": 1.308538652269078
          },
          {
           "sample_id": 0,
           "timepoint": 74,
           "trajectory": "traces_var",
           "value": 1.3209817815111524
          },
          {
           "sample_id": 0,
           "timepoint": 75,
           "trajectory": "traces_var",
           "value": 1.3532177589028922
          },
          {
           "sample_id": 0,
           "timepoint": 76,
           "trajectory": "traces_var",
           "value": 1.3487656813581748
          },
          {
           "sample_id": 0,
           "timepoint": 77,
           "trajectory": "traces_var",
           "value": 1.4064950098439242
          },
          {
           "sample_id": 0,
           "timepoint": 78,
           "trajectory": "traces_var",
           "value": 1.4317862399384946
          },
          {
           "sample_id": 0,
           "timepoint": 79,
           "trajectory": "traces_var",
           "value": 1.4456012084878738
          },
          {
           "sample_id": 0,
           "timepoint": 80,
           "trajectory": "traces_var",
           "value": 1.4567008965344832
          },
          {
           "sample_id": 0,
           "timepoint": 81,
           "trajectory": "traces_var",
           "value": 1.4548970814797852
          },
          {
           "sample_id": 0,
           "timepoint": 82,
           "trajectory": "traces_var",
           "value": 1.4419880197432469
          },
          {
           "sample_id": 0,
           "timepoint": 83,
           "trajectory": "traces_var",
           "value": 1.4341197943977295
          },
          {
           "sample_id": 0,
           "timepoint": 84,
           "trajectory": "traces_var",
           "value": 1.4221860574943284
          },
          {
           "sample_id": 0,
           "timepoint": 85,
           "trajectory": "traces_var",
           "value": 1.4172249538633797
          },
          {
           "sample_id": 0,
           "timepoint": 86,
           "trajectory": "traces_var",
           "value": 1.4254852647497986
          },
          {
           "sample_id": 0,
           "timepoint": 87,
           "trajectory": "traces_var",
           "value": 1.4410376872978763
          },
          {
           "sample_id": 0,
           "timepoint": 88,
           "trajectory": "traces_var",
           "value": 1.4641331324656697
          },
          {
           "sample_id": 0,
           "timepoint": 89,
           "trajectory": "traces_var",
           "value": 1.5091287255246724
          },
          {
           "sample_id": 0,
           "timepoint": 90,
           "trajectory": "traces_var",
           "value": 1.5180839900571514
          },
          {
           "sample_id": 0,
           "timepoint": 91,
           "trajectory": "traces_var",
           "value": 1.5483637995580202
          },
          {
           "sample_id": 0,
           "timepoint": 92,
           "trajectory": "traces_var",
           "value": 1.5397143117364185
          },
          {
           "sample_id": 0,
           "timepoint": 93,
           "trajectory": "traces_var",
           "value": 1.5688230156673222
          },
          {
           "sample_id": 0,
           "timepoint": 94,
           "trajectory": "traces_var",
           "value": 1.574497737250358
          },
          {
           "sample_id": 0,
           "timepoint": 95,
           "trajectory": "traces_var",
           "value": 1.604781089836296
          },
          {
           "sample_id": 0,
           "timepoint": 96,
           "trajectory": "traces_var",
           "value": 1.550125116394826
          },
          {
           "sample_id": 0,
           "timepoint": 97,
           "trajectory": "traces_var",
           "value": 1.5360068064158434
          },
          {
           "sample_id": 0,
           "timepoint": 98,
           "trajectory": "traces_var",
           "value": 1.5220153485627148
          },
          {
           "sample_id": 0,
           "timepoint": 99,
           "trajectory": "traces_var",
           "value": 1.5045034024606931
          },
          {
           "sample_id": 0,
           "timepoint": 0,
           "trajectory": "traces_granger",
           "value": 0.3650792611066101
          },
          {
           "sample_id": 0,
           "timepoint": 1,
           "trajectory": "traces_granger",
           "value": 1.2309896832364973
          },
          {
           "sample_id": 0,
           "timepoint": 2,
           "trajectory": "traces_granger",
           "value": 1.32247479322825
          },
          {
           "sample_id": 0,
           "timepoint": 3,
           "trajectory": "traces_granger",
           "value": 1.3933008973220913
          },
          {
           "sample_id": 0,
           "timepoint": 4,
           "trajectory": "traces_granger",
           "value": 1.485482974659874
          },
          {
           "sample_id": 0,
           "timepoint": 5,
           "trajectory": "traces_granger",
           "value": 1.6488017597332163
          },
          {
           "sample_id": 0,
           "timepoint": 6,
           "trajectory": "traces_granger",
           "value": 1.769415095746126
          },
          {
           "sample_id": 0,
           "timepoint": 7,
           "trajectory": "traces_granger",
           "value": 1.9907995538378336
          },
          {
           "sample_id": 0,
           "timepoint": 8,
           "trajectory": "traces_granger",
           "value": 2.1772501107782483
          },
          {
           "sample_id": 0,
           "timepoint": 9,
           "trajectory": "traces_granger",
           "value": 2.3108708500640587
          },
          {
           "sample_id": 0,
           "timepoint": 10,
           "trajectory": "traces_granger",
           "value": 2.4023069597085898
          },
          {
           "sample_id": 0,
           "timepoint": 11,
           "trajectory": "traces_granger",
           "value": 2.395823001156771
          },
          {
           "sample_id": 0,
           "timepoint": 12,
           "trajectory": "traces_granger",
           "value": 2.342532395461077
          },
          {
           "sample_id": 0,
           "timepoint": 13,
           "trajectory": "traces_granger",
           "value": 2.2859795653183705
          },
          {
           "sample_id": 0,
           "timepoint": 14,
           "trajectory": "traces_granger",
           "value": 2.211819181142356
          },
          {
           "sample_id": 0,
           "timepoint": 15,
           "trajectory": "traces_granger",
           "value": 2.111050628972656
          },
          {
           "sample_id": 0,
           "timepoint": 16,
           "trajectory": "traces_granger",
           "value": 2.091950327755462
          },
          {
           "sample_id": 0,
           "timepoint": 17,
           "trajectory": "traces_granger",
           "value": 2.090939343094294
          },
          {
           "sample_id": 0,
           "timepoint": 18,
           "trajectory": "traces_granger",
           "value": 2.175524478881758
          },
          {
           "sample_id": 0,
           "timepoint": 19,
           "trajectory": "traces_granger",
           "value": 2.292578239597864
          },
          {
           "sample_id": 0,
           "timepoint": 20,
           "trajectory": "traces_granger",
           "value": 2.4596803804401195
          },
          {
           "sample_id": 0,
           "timepoint": 21,
           "trajectory": "traces_granger",
           "value": 2.618121055320615
          },
          {
           "sample_id": 0,
           "timepoint": 22,
           "trajectory": "traces_granger",
           "value": 2.6716395586778403
          },
          {
           "sample_id": 0,
           "timepoint": 23,
           "trajectory": "traces_granger",
           "value": 2.82262342867258
          },
          {
           "sample_id": 0,
           "timepoint": 24,
           "trajectory": "traces_granger",
           "value": 2.814938849446521
          },
          {
           "sample_id": 0,
           "timepoint": 25,
           "trajectory": "traces_granger",
           "value": 2.720907540667191
          },
          {
           "sample_id": 0,
           "timepoint": 26,
           "trajectory": "traces_granger",
           "value": 2.6684456197899453
          },
          {
           "sample_id": 0,
           "timepoint": 27,
           "trajectory": "traces_granger",
           "value": 2.576106249734642
          },
          {
           "sample_id": 0,
           "timepoint": 28,
           "trajectory": "traces_granger",
           "value": 2.4681561905057867
          },
          {
           "sample_id": 0,
           "timepoint": 29,
           "trajectory": "traces_granger",
           "value": 2.4007142674144504
          },
          {
           "sample_id": 0,
           "timepoint": 30,
           "trajectory": "traces_granger",
           "value": 2.405174211784674
          },
          {
           "sample_id": 0,
           "timepoint": 31,
           "trajectory": "traces_granger",
           "value": 2.4603619510988497
          },
          {
           "sample_id": 0,
           "timepoint": 32,
           "trajectory": "traces_granger",
           "value": 2.5779181375244287
          },
          {
           "sample_id": 0,
           "timepoint": 33,
           "trajectory": "traces_granger",
           "value": 2.714088909783527
          },
          {
           "sample_id": 0,
           "timepoint": 34,
           "trajectory": "traces_granger",
           "value": 2.865713432655097
          },
          {
           "sample_id": 0,
           "timepoint": 35,
           "trajectory": "traces_granger",
           "value": 2.991680277173139
          },
          {
           "sample_id": 0,
           "timepoint": 36,
           "trajectory": "traces_granger",
           "value": 3.0561389997872808
          },
          {
           "sample_id": 0,
           "timepoint": 37,
           "trajectory": "traces_granger",
           "value": 3.077960715658513
          },
          {
           "sample_id": 0,
           "timepoint": 38,
           "trajectory": "traces_granger",
           "value": 3.0306220789446323
          },
          {
           "sample_id": 0,
           "timepoint": 39,
           "trajectory": "traces_granger",
           "value": 2.928679907319883
          },
          {
           "sample_id": 0,
           "timepoint": 40,
           "trajectory": "traces_granger",
           "value": 2.810361395089213
          },
          {
           "sample_id": 0,
           "timepoint": 41,
           "trajectory": "traces_granger",
           "value": 2.7083364731247364
          },
          {
           "sample_id": 0,
           "timepoint": 42,
           "trajectory": "traces_granger",
           "value": 2.628749958774248
          },
          {
           "sample_id": 0,
           "timepoint": 43,
           "trajectory": "traces_granger",
           "value": 2.6244643925362667
          },
          {
           "sample_id": 0,
           "timepoint": 44,
           "trajectory": "traces_granger",
           "value": 2.662685289394738
          },
          {
           "sample_id": 0,
           "timepoint": 45,
           "trajectory": "traces_granger",
           "value": 2.8123947940495992
          },
          {
           "sample_id": 0,
           "timepoint": 46,
           "trajectory": "traces_granger",
           "value": 2.8961012879675945
          },
          {
           "sample_id": 0,
           "timepoint": 47,
           "trajectory": "traces_granger",
           "value": 3.034155539125565
          },
          {
           "sample_id": 0,
           "timepoint": 48,
           "trajectory": "traces_granger",
           "value": 3.1760447517775625
          },
          {
           "sample_id": 0,
           "timepoint": 49,
           "trajectory": "traces_granger",
           "value": 3.2567519077442304
          },
          {
           "sample_id": 0,
           "timepoint": 50,
           "trajectory": "traces_granger",
           "value": 3.275404362241221
          },
          {
           "sample_id": 0,
           "timepoint": 51,
           "trajectory": "traces_granger",
           "value": 3.2359104721763927
          },
          {
           "sample_id": 0,
           "timepoint": 52,
           "trajectory": "traces_granger",
           "value": 3.142828508126634
          },
          {
           "sample_id": 0,
           "timepoint": 53,
           "trajectory": "traces_granger",
           "value": 2.99101366946475
          },
          {
           "sample_id": 0,
           "timepoint": 54,
           "trajectory": "traces_granger",
           "value": 2.945798100732101
          },
          {
           "sample_id": 0,
           "timepoint": 55,
           "trajectory": "traces_granger",
           "value": 2.824889365570422
          },
          {
           "sample_id": 0,
           "timepoint": 56,
           "trajectory": "traces_granger",
           "value": 2.7966418976280907
          },
          {
           "sample_id": 0,
           "timepoint": 57,
           "trajectory": "traces_granger",
           "value": 2.80709971619397
          },
          {
           "sample_id": 0,
           "timepoint": 58,
           "trajectory": "traces_granger",
           "value": 2.9022051719088653
          },
          {
           "sample_id": 0,
           "timepoint": 59,
           "trajectory": "traces_granger",
           "value": 3.044058078637164
          },
          {
           "sample_id": 0,
           "timepoint": 60,
           "trajectory": "traces_granger",
           "value": 3.1944895075739845
          },
          {
           "sample_id": 0,
           "timepoint": 61,
           "trajectory": "traces_granger",
           "value": 3.3181071298830886
          },
          {
           "sample_id": 0,
           "timepoint": 62,
           "trajectory": "traces_granger",
           "value": 3.406916660259734
          },
          {
           "sample_id": 0,
           "timepoint": 63,
           "trajectory": "traces_granger",
           "value": 3.416399685635747
          },
          {
           "sample_id": 0,
           "timepoint": 64,
           "trajectory": "traces_granger",
           "value": 3.399326670129237
          },
          {
           "sample_id": 0,
           "timepoint": 65,
           "trajectory": "traces_granger",
           "value": 3.315926564676471
          },
          {
           "sample_id": 0,
           "timepoint": 66,
           "trajectory": "traces_granger",
           "value": 3.1991989528926346
          },
          {
           "sample_id": 0,
           "timepoint": 67,
           "trajectory": "traces_granger",
           "value": 3.0798921300384645
          },
          {
           "sample_id": 0,
           "timepoint": 68,
           "trajectory": "traces_granger",
           "value": 3.025262863073563
          },
          {
           "sample_id": 0,
           "timepoint": 69,
           "trajectory": "traces_granger",
           "value": 2.954232280522936
          },
          {
           "sample_id": 0,
           "timepoint": 70,
           "trajectory": "traces_granger",
           "value": 2.9669566238053267
          },
          {
           "sample_id": 0,
           "timepoint": 71,
           "trajectory": "traces_granger",
           "value": 3.0456523609661104
          },
          {
           "sample_id": 0,
           "timepoint": 72,
           "trajectory": "traces_granger",
           "value": 3.157640038589463
          },
          {
           "sample_id": 0,
           "timepoint": 73,
           "trajectory": "traces_granger",
           "value": 3.3069826941884157
          },
          {
           "sample_id": 0,
           "timepoint": 74,
           "trajectory": "traces_granger",
           "value": 3.4335694264291825
          },
          {
           "sample_id": 0,
           "timepoint": 75,
           "trajectory": "traces_granger",
           "value": 3.538619012214732
          },
          {
           "sample_id": 0,
           "timepoint": 76,
           "trajectory": "traces_granger",
           "value": 3.573420423590579
          },
          {
           "sample_id": 0,
           "timepoint": 77,
           "trajectory": "traces_granger",
           "value": 3.540597620702039
          },
          {
           "sample_id": 0,
           "timepoint": 78,
           "trajectory": "traces_granger",
           "value": 3.473474024602334
          },
          {
           "sample_id": 0,
           "timepoint": 79,
           "trajectory": "traces_granger",
           "value": 3.339710080818836
          },
          {
           "sample_id": 0,
           "timepoint": 80,
           "trajectory": "traces_granger",
           "value": 3.2281725145493927
          },
          {
           "sample_id": 0,
           "timepoint": 81,
           "trajectory": "traces_granger",
           "value": 3.1323640808282165
          },
          {
           "sample_id": 0,
           "timepoint": 82,
           "trajectory": "traces_granger",
           "value": 3.072712829324702
          },
          {
           "sample_id": 0,
           "timepoint": 83,
           "trajectory": "traces_granger",
           "value": 3.088576255281157
          },
          {
           "sample_id": 0,
           "timepoint": 84,
           "trajectory": "traces_granger",
           "value": 3.156460801065465
          },
          {
           "sample_id": 0,
           "timepoint": 85,
           "trajectory": "traces_granger",
           "value": 3.302441500258277
          },
          {
           "sample_id": 0,
           "timepoint": 86,
           "trajectory": "traces_granger",
           "value": 3.469305015455734
          },
          {
           "sample_id": 0,
           "timepoint": 87,
           "trajectory": "traces_granger",
           "value": 3.5413093299793093
          },
          {
           "sample_id": 0,
           "timepoint": 88,
           "trajectory": "traces_granger",
           "value": 3.64542535552898
          },
          {
           "sample_id": 0,
           "timepoint": 89,
           "trajectory": "traces_granger",
           "value": 3.683461436817789
          },
          {
           "sample_id": 0,
           "timepoint": 90,
           "trajectory": "traces_granger",
           "value": 3.668649787179901
          },
          {
           "sample_id": 0,
           "timepoint": 91,
           "trajectory": "traces_granger",
           "value": 3.609437664104844
          },
          {
           "sample_id": 0,
           "timepoint": 92,
           "trajectory": "traces_granger",
           "value": 3.492548861873228
          },
          {
           "sample_id": 0,
           "timepoint": 93,
           "trajectory": "traces_granger",
           "value": 3.3685194361731763
          },
          {
           "sample_id": 0,
           "timepoint": 94,
           "trajectory": "traces_granger",
           "value": 3.258363931483504
          },
          {
           "sample_id": 0,
           "timepoint": 95,
           "trajectory": "traces_granger",
           "value": 3.196335607698747
          },
          {
           "sample_id": 0,
           "timepoint": 96,
           "trajectory": "traces_granger",
           "value": 3.190387733435576
          },
          {
           "sample_id": 0,
           "timepoint": 97,
           "trajectory": "traces_granger",
           "value": 3.2596868651291744
          },
          {
           "sample_id": 0,
           "timepoint": 98,
           "trajectory": "traces_granger",
           "value": 3.366470173364481
          },
          {
           "sample_id": 0,
           "timepoint": 99,
           "trajectory": "traces_granger",
           "value": 3.486448856180325
          }
         ]
        },
        {
         "name": "points",
         "values": []
        },
        {
         "name": "markers",
         "values": []
        },
        {
         "name": "selected",
         "on": [
          {
           "remove": true,
           "trigger": "clear"
          },
          {
           "remove": true,
           "trigger": "!shift"
          },
          {
           "insert": "clicked",
           "trigger": "!shift && clicked"
          },
          {
           "toggle": "clicked",
           "trigger": "shift && clicked"
          }
         ]
        },
        {
         "name": "selectedData",
         "on": [
          {
           "remove": true,
           "trigger": "clearData"
          },
          {
           "toggle": "clickedData",
           "trigger": "clickedData"
          }
         ]
        }
       ],
       "height": 300,
       "legends": [
        {
         "encode": {
          "labels": {
           "interactive": true,
           "name": "legendLabel",
           "update": {
            "opacity": [
             {
              "test": "!length(data('selectedData')) || indata('selectedData', 'value', datum.value)",
              "value": 1
             },
             {
              "value": 0.25
             }
            ]
           }
          },
          "symbols": {
           "interactive": true,
           "name": "legendSymbol",
           "update": {
            "fill": {
             "value": "transparent"
            },
            "opacity": [
             {
              "test": "!length(data('selected')) || indata('selected', 'value', datum.value) || indata('selectedData', 'value', datum.value)",
              "value": 0.7
             },
             {
              "value": 0.15
             }
            ],
            "size": {
             "value": 64
            },
            "strokeWidth": {
             "value": 2
            }
           }
          }
         },
         "name": "color_legend",
         "stroke": "color"
        }
       ],
       "marks": [
        {
         "from": {
          "facet": {
           "data": "points",
           "groupby": "trajectory",
           "name": "points_split"
          }
         },
         "marks": [
          {
           "encode": {
            "hover": {
             "fillOpacity": {
              "value": 0.9
             }
            },
            "update": {
             "fill": {
              "field": "trajectory",
              "scale": "color"
             },
             "fillOpacity": [
              {
               "test": "!length(data('selected')) || indata('selected', 'value', datum.trajectory)",
               "value": 0.5
              },
              {
               "value": 0.15
              }
             ],
             "size": {
              "value": 35
             },
             "stroke": {
              "field": "trajectory",
              "scale": "color"
             },
             "strokeOpacity": [
              {
               "test": "!length(data('selected')) || indata('selected', 'value', datum.trajectory)",
               "value": 0.75
              },
              {
               "value": 0.15
              }
             ],
             "strokeWidth": {
              "value": 2
             },
             "tooltip": {
              "field": "value"
             },
             "x": {
              "field": "timepoint",
              "scale": "xscale"
             },
             "y": {
              "field": "value",
              "scale": "yscale"
             }
            }
           },
           "from": {
            "data": "points_split"
           },
           "name": "_points_symbol",
           "type": "symbol",
           "zindex": 3
          },
          {
           "encode": {
            "hover": {
             "fillOpacity": {
              "value": 0.9
             }
            },
            "update": {
             "interpolate": {
              "value": "linear"
             },
             "stroke": {
              "field": "trajectory",
              "scale": "color"
             },
             "strokeDash": {
              "value": [
               5,
               3
              ]
             },
             "strokeOpacity": [
              {
               "test": "!length(data('selected')) || indata('selected', 'value', datum.trajectory)",
               "value": 0.3
              },
              {
               "value": 0.1
              }
             ],
             "strokeWidth": {
              "value": 2
             },
             "x": {
              "field": "timepoint",
              "scale": "xscale"
             },
             "y": {
              "field": "value",
              "scale": "yscale"
             }
            }
           },
           "from": {
            "data": "points_split"
           },
           "name": "_points_line",
           "type": "line",
           "zindex": 3
          }
         ],
         "name": "_points",
         "type": "group",
         "zindex": 3
        },
        {
         "from": {
          "facet": {
           "data": "traces",
           "groupby": "trajectory",
           "name": "traces_split"
          }
         },
         "marks": [
          {
           "encode": {
            "hover": {
             "fillOpacity": {
              "value": 0.9
             }
            },
            "update": {
             "interpolate": {
              "value": "linear"
             },
             "stroke": {
              "field": "trajectory",
              "scale": "color"
             },
             "strokeOpacity": [
              {
               "test": "!length(data('selected')) || indata('selected', 'value', datum.trajectory)",
               "value": 0.75
              },
              {
               "value": 0.15
              }
             ],
             "strokeWidth": {
              "value": 2
             },
             "x": {
              "field": "timepoint",
              "scale": "xscale"
             },
             "y": {
              "field": "value",
              "scale": "yscale"
             }
            }
           },
           "from": {
            "data": "traces_split"
           },
           "name": "_traces_lines",
           "type": "line"
          }
         ],
         "name": "_traces",
         "type": "group",
         "zindex": 2
        },
        {
         "from": {
          "facet": {
           "data": "distributions",
           "groupby": "trajectory",
           "name": "trajectory_split"
          }
         },
         "marks": [
          {
           "encode": {
            "hover": {
             "fillOpacity": {
              "value": 0.9
             }
            },
            "update": {
             "fill": {
              "field": "trajectory",
              "scale": "color"
             },
             "fillOpacity": [
              {
               "test": "!length(data('selected')) || indata('selected', 'value', datum.trajectory)",
               "value": 0.5
              },
              {
               "value": 0.15
              }
             ],
             "interpolate": {
              "value": "linear"
             },
             "stroke": {
              "field": "trajectory",
              "scale": "color"
             },
             "strokeOpacity": [
              {
               "test": "!length(data('selected')) || indata('selected', 'value', datum.trajectory)",
               "value": 0.75
              },
              {
               "value": 0.15
              }
             ],
             "strokeWidth": {
              "value": 2
             },
             "x": {
              "field": "timepoint",
              "scale": "xscale"
             },
             "y": {
              "field": "upper",
              "scale": "yscale"
             },
             "y2": {
              "field": "lower",
              "scale": "yscale"
             }
            }
           },
           "from": {
            "data": "trajectory_split"
           },
           "interactive": true,
           "name": "area",
           "type": "area"
          }
         ],
         "name": "_distributions",
         "type": "group",
         "zindex": 1
        },
        {
         "marks": [
          {
           "encode": {
            "enter": {
             "stroke": {
              "value": "lightgray"
             }
            },
            "update": {
             "opacity": {
              "value": 1
             },
             "x": {
              "field": "timepoint",
              "scale": "xscale"
             },
             "y": {
              "signal": "height"
             },
             "y2": {
              "value": 0
             }
            }
           },
           "from": {
            "data": "markers"
           },
           "name": "_marker text",
           "type": "rule"
          },
          {
           "encode": {
            "enter": {
             "fontSize": {
              "value": 8
             },
             "text": {
              "field": "datum.label"
             },
             "y": {
              "value": 0
             }
            }
           },
           "from": {
            "data": "_marker text"
           },
           "name": "_marker flags",
           "transform": [
            {
             "as": [
              "x",
              "_y",
              "opacity",
              "align",
              "baseline"
             ],
             "lineAnchor": "start",
             "offset": [
              1
             ],
             "size": {
              "signal": "[width, height]"
             },
             "type": "label"
            }
           ],
           "type": "text"
          }
         ],
         "name": "_markers",
         "type": "group"
        }
       ],
       "scales": [
        {
         "domain": {
          "fields": [
           {
            "data": "distributions",
            "field": "timepoint"
           },
           {
            "data": "traces",
            "field": "timepoint"
           },
           {
            "data": "points",
            "field": "timepoint"
           },
           {
            "data": "markers",
            "field": "timepoint"
           }
          ]
         },
         "name": "xscale",
         "range": "width",
         "type": "linear",
         "zero": false
        },
        {
         "domain": {
          "fields": [
           {
            "data": "distributions",
            "field": "lower"
           },
           {
            "data": "distributions",
            "field": "upper"
           },
           {
            "data": "traces",
            "field": "value"
           },
           {
            "data": "points",
            "field": "value"
           }
          ]
         },
         "name": "yscale",
         "nice": true,
         "range": "height",
         "type": "linear",
         "zero": true
        },
        {
         "domain": {
          "fields": [
           {
            "data": "distributions",
            "field": "trajectory"
           },
           {
            "data": "traces",
            "field": "trajectory"
           },
           {
            "data": "points",
            "field": "trajectory"
           }
          ],
          "sort": {
           "order": "ascending"
          }
         },
         "name": "color",
         "range": "category",
         "type": "ordinal"
        }
       ],
       "signals": [
        {
         "name": "clear",
         "on": [
          {
           "events": "mouseup[!event.item]",
           "force": true,
           "update": "true"
          }
         ],
         "value": true
        },
        {
         "name": "shift",
         "on": [
          {
           "events": "@legendSymbol:click, @legendLabel:click",
           "force": true,
           "update": "event.shiftKey"
          }
         ],
         "value": false
        },
        {
         "name": "clicked",
         "on": [
          {
           "events": "@legendSymbol:click, @legendLabel:click",
           "force": true,
           "update": "{value: datum.value}"
          }
         ],
         "value": null
        },
        {
         "name": "clearData",
         "on": [
          {
           "events": "mouseup[!event.item]",
           "force": true,
           "update": "true"
          }
         ],
         "value": true
        },
        {
         "name": "clickedData",
         "on": [
          {
           "events": "@area:click",
           "force": true,
           "update": "{value: datum.trajectory}"
          }
         ],
         "value": null
        }
       ],
       "width": 500
      }
     },
     "metadata": {},
     "output_type": "display_data"
    }
   ],
   "source": [
    "#'timepoint_id', 'sample_id'\n",
    "sin_distribution = pd.read_csv(\"paper_sin_05/paper_sin_05_new_df.csv\")\n",
    "sin_distribution = sin_distribution.rename(\n",
    "            columns={\n",
    "                'Unnamed: 0.1': \"timepoint_id\",\n",
    "                'Unnamed: 0': \"100\",\n",
    "            }\n",
    "        )\n",
    "sin_distribution = sin_distribution.melt(id_vars=[\"timepoint_id\"], \n",
    "        var_name=\"sample_id\", \n",
    "        value_name=\"same_stat_state\")\n",
    "\n",
    "\n",
    "traces = pyciemss.visuals.trajectories.select_traces(sin_distribution, select_by = \"mean\")\n",
    "traces['traces_var'] = pyciemss.visuals.trajectories.select_traces(sin_distribution, select_by = \"var\")[\"same_stat_state\"]\n",
    "traces['traces_granger'] = pyciemss.visuals.trajectories.select_traces(sin_distribution, select_by = \"granger\")[\"same_stat_state\"]\n",
    "schema = plots.trajectories(sin_distribution, traces = traces)\n",
    "print(traces_var)\n",
    "plots.save_schema(schema, \"_schema.json\")\n",
    "\n",
    "plots.ipy_display(schema, format=\"interactive\")\n",
    "image = plots.ipy_display(schema, format=\"PNG\").data\n",
    "save_result(image, \"paper_sin_05\", \"png\")"
   ]
  },
  {
   "cell_type": "code",
   "execution_count": 120,
   "metadata": {},
   "outputs": [
    {
     "name": "stdout",
     "output_type": "stream",
     "text": [
      "\n",
      "Granger Causality\n",
      "number of lags (no zero) 10\n",
      "ssr based F test:         F=3.5378  , p=0.0008  , df_denom=69, df_num=10\n",
      "ssr based chi2 test:   chi2=46.1456 , p=0.0000  , df=10\n",
      "likelihood ratio test: chi2=37.2524 , p=0.0001  , df=10\n",
      "parameter F test:         F=3.5378  , p=0.0008  , df_denom=69, df_num=10\n",
      "\n",
      "Granger Causality\n",
      "number of lags (no zero) 10\n",
      "ssr based F test:         F=4.3569  , p=0.0001  , df_denom=69, df_num=10\n",
      "ssr based chi2 test:   chi2=56.8291 , p=0.0000  , df=10\n",
      "likelihood ratio test: chi2=44.0513 , p=0.0000  , df=10\n",
      "parameter F test:         F=4.3569  , p=0.0001  , df_denom=69, df_num=10\n",
      "\n",
      "Granger Causality\n",
      "number of lags (no zero) 10\n",
      "ssr based F test:         F=3.1382  , p=0.0023  , df_denom=69, df_num=10\n",
      "ssr based chi2 test:   chi2=40.9324 , p=0.0000  , df=10\n",
      "likelihood ratio test: chi2=33.7385 , p=0.0002  , df=10\n",
      "parameter F test:         F=3.1382  , p=0.0023  , df_denom=69, df_num=10\n",
      "\n",
      "Granger Causality\n",
      "number of lags (no zero) 10\n",
      "ssr based F test:         F=2.3890  , p=0.0169  , df_denom=69, df_num=10\n",
      "ssr based chi2 test:   chi2=31.1603 , p=0.0006  , df=10\n",
      "likelihood ratio test: chi2=26.7575 , p=0.0028  , df=10\n",
      "parameter F test:         F=2.3890  , p=0.0169  , df_denom=69, df_num=10\n",
      "\n",
      "Granger Causality\n",
      "number of lags (no zero) 10\n",
      "ssr based F test:         F=1.4022  , p=0.1979  , df_denom=69, df_num=10\n",
      "ssr based chi2 test:   chi2=18.2891 , p=0.0503  , df=10\n",
      "likelihood ratio test: chi2=16.6495 , p=0.0825  , df=10\n",
      "parameter F test:         F=1.4022  , p=0.1979  , df_denom=69, df_num=10\n",
      "\n",
      "Granger Causality\n",
      "number of lags (no zero) 10\n",
      "ssr based F test:         F=2.1683  , p=0.0301  , df_denom=69, df_num=10\n",
      "ssr based chi2 test:   chi2=28.2818 , p=0.0016  , df=10\n",
      "likelihood ratio test: chi2=24.5934 , p=0.0062  , df=10\n",
      "parameter F test:         F=2.1683  , p=0.0301  , df_denom=69, df_num=10\n",
      "\n",
      "Granger Causality\n",
      "number of lags (no zero) 10\n",
      "ssr based F test:         F=3.1216  , p=0.0024  , df_denom=69, df_num=10\n",
      "ssr based chi2 test:   chi2=40.7170 , p=0.0000  , df=10\n",
      "likelihood ratio test: chi2=33.5902 , p=0.0002  , df=10\n",
      "parameter F test:         F=3.1216  , p=0.0024  , df_denom=69, df_num=10\n",
      "\n",
      "Granger Causality\n",
      "number of lags (no zero) 10\n",
      "ssr based F test:         F=2.4106  , p=0.0160  , df_denom=69, df_num=10\n",
      "ssr based chi2 test:   chi2=31.4420 , p=0.0005  , df=10\n",
      "likelihood ratio test: chi2=26.9664 , p=0.0026  , df=10\n",
      "parameter F test:         F=2.4106  , p=0.0160  , df_denom=69, df_num=10\n",
      "\n",
      "Granger Causality\n",
      "number of lags (no zero) 10\n",
      "ssr based F test:         F=2.7123  , p=0.0072  , df_denom=69, df_num=10\n",
      "ssr based chi2 test:   chi2=35.3777 , p=0.0001  , df=10\n",
      "likelihood ratio test: chi2=29.8369 , p=0.0009  , df=10\n",
      "parameter F test:         F=2.7123  , p=0.0072  , df_denom=69, df_num=10\n",
      "\n",
      "Granger Causality\n",
      "number of lags (no zero) 10\n",
      "ssr based F test:         F=3.1381  , p=0.0023  , df_denom=69, df_num=10\n",
      "ssr based chi2 test:   chi2=40.9323 , p=0.0000  , df=10\n",
      "likelihood ratio test: chi2=33.7384 , p=0.0002  , df=10\n",
      "parameter F test:         F=3.1381  , p=0.0023  , df_denom=69, df_num=10\n",
      "\n",
      "Granger Causality\n",
      "number of lags (no zero) 10\n",
      "ssr based F test:         F=4.5040  , p=0.0001  , df_denom=69, df_num=10\n",
      "ssr based chi2 test:   chi2=58.7483 , p=0.0000  , df=10\n",
      "likelihood ratio test: chi2=45.2201 , p=0.0000  , df=10\n",
      "parameter F test:         F=4.5040  , p=0.0001  , df_denom=69, df_num=10\n",
      "\n",
      "Granger Causality\n",
      "number of lags (no zero) 10\n",
      "ssr based F test:         F=1.8445  , p=0.0688  , df_denom=69, df_num=10\n",
      "ssr based chi2 test:   chi2=24.0589 , p=0.0074  , df=10\n",
      "likelihood ratio test: chi2=21.3215 , p=0.0190  , df=10\n",
      "parameter F test:         F=1.8445  , p=0.0688  , df_denom=69, df_num=10\n",
      "\n",
      "Granger Causality\n",
      "number of lags (no zero) 10\n",
      "ssr based F test:         F=3.8212  , p=0.0004  , df_denom=69, df_num=10\n",
      "ssr based chi2 test:   chi2=49.8423 , p=0.0000  , df=10\n",
      "likelihood ratio test: chi2=39.6635 , p=0.0000  , df=10\n",
      "parameter F test:         F=3.8212  , p=0.0004  , df_denom=69, df_num=10\n",
      "\n",
      "Granger Causality\n",
      "number of lags (no zero) 10\n",
      "ssr based F test:         F=2.3056  , p=0.0211  , df_denom=69, df_num=10\n",
      "ssr based chi2 test:   chi2=30.0737 , p=0.0008  , df=10\n",
      "likelihood ratio test: chi2=25.9466 , p=0.0038  , df=10\n",
      "parameter F test:         F=2.3056  , p=0.0211  , df_denom=69, df_num=10\n",
      "\n",
      "Granger Causality\n",
      "number of lags (no zero) 10\n",
      "ssr based F test:         F=3.9460  , p=0.0003  , df_denom=69, df_num=10\n",
      "ssr based chi2 test:   chi2=51.4693 , p=0.0000  , df=10\n",
      "likelihood ratio test: chi2=40.7045 , p=0.0000  , df=10\n",
      "parameter F test:         F=3.9460  , p=0.0003  , df_denom=69, df_num=10\n",
      "\n",
      "Granger Causality\n",
      "number of lags (no zero) 10\n",
      "ssr based F test:         F=3.3546  , p=0.0013  , df_denom=69, df_num=10\n",
      "ssr based chi2 test:   chi2=43.7561 , p=0.0000  , df=10\n",
      "likelihood ratio test: chi2=35.6588 , p=0.0001  , df=10\n",
      "parameter F test:         F=3.3546  , p=0.0013  , df_denom=69, df_num=10\n",
      "\n",
      "Granger Causality\n",
      "number of lags (no zero) 10\n",
      "ssr based F test:         F=1.9252  , p=0.0561  , df_denom=69, df_num=10\n",
      "ssr based chi2 test:   chi2=25.1117 , p=0.0051  , df=10\n",
      "likelihood ratio test: chi2=22.1484 , p=0.0144  , df=10\n",
      "parameter F test:         F=1.9252  , p=0.0561  , df_denom=69, df_num=10\n",
      "\n",
      "Granger Causality\n",
      "number of lags (no zero) 10\n",
      "ssr based F test:         F=2.8465  , p=0.0051  , df_denom=69, df_num=10\n",
      "ssr based chi2 test:   chi2=37.1287 , p=0.0001  , df=10\n",
      "likelihood ratio test: chi2=31.0851 , p=0.0006  , df=10\n",
      "parameter F test:         F=2.8465  , p=0.0051  , df_denom=69, df_num=10\n",
      "\n",
      "Granger Causality\n",
      "number of lags (no zero) 10\n",
      "ssr based F test:         F=1.3431  , p=0.2258  , df_denom=69, df_num=10\n",
      "ssr based chi2 test:   chi2=17.5184 , p=0.0637  , df=10\n",
      "likelihood ratio test: chi2=16.0067 , p=0.0994  , df=10\n",
      "parameter F test:         F=1.3431  , p=0.2258  , df_denom=69, df_num=10\n",
      "\n",
      "Granger Causality\n",
      "number of lags (no zero) 10\n",
      "ssr based F test:         F=1.7854  , p=0.0797  , df_denom=69, df_num=10\n",
      "ssr based chi2 test:   chi2=23.2872 , p=0.0097  , df=10\n",
      "likelihood ratio test: chi2=20.7105 , p=0.0232  , df=10\n",
      "parameter F test:         F=1.7854  , p=0.0797  , df_denom=69, df_num=10\n",
      "\n",
      "Granger Causality\n",
      "number of lags (no zero) 10\n",
      "ssr based F test:         F=2.6884  , p=0.0077  , df_denom=69, df_num=10\n",
      "ssr based chi2 test:   chi2=35.0660 , p=0.0001  , df=10\n",
      "likelihood ratio test: chi2=29.6129 , p=0.0010  , df=10\n",
      "parameter F test:         F=2.6884  , p=0.0077  , df_denom=69, df_num=10\n",
      "\n",
      "Granger Causality\n",
      "number of lags (no zero) 10\n",
      "ssr based F test:         F=5.4997  , p=0.0000  , df_denom=69, df_num=10\n",
      "ssr based chi2 test:   chi2=71.7356 , p=0.0000  , df=10\n",
      "likelihood ratio test: chi2=52.7538 , p=0.0000  , df=10\n",
      "parameter F test:         F=5.4997  , p=0.0000  , df_denom=69, df_num=10\n",
      "\n",
      "Granger Causality\n",
      "number of lags (no zero) 10\n",
      "ssr based F test:         F=1.3909  , p=0.2030  , df_denom=69, df_num=10\n",
      "ssr based chi2 test:   chi2=18.1425 , p=0.0526  , df=10\n",
      "likelihood ratio test: chi2=16.5276 , p=0.0855  , df=10\n",
      "parameter F test:         F=1.3909  , p=0.2030  , df_denom=69, df_num=10\n",
      "\n",
      "Granger Causality\n",
      "number of lags (no zero) 10\n",
      "ssr based F test:         F=1.3210  , p=0.2370  , df_denom=69, df_num=10\n",
      "ssr based chi2 test:   chi2=17.2306 , p=0.0694  , df=10\n",
      "likelihood ratio test: chi2=15.7654 , p=0.1065  , df=10\n",
      "parameter F test:         F=1.3210  , p=0.2370  , df_denom=69, df_num=10\n",
      "\n",
      "Granger Causality\n",
      "number of lags (no zero) 10\n",
      "ssr based F test:         F=3.2513  , p=0.0017  , df_denom=69, df_num=10\n",
      "ssr based chi2 test:   chi2=42.4078 , p=0.0000  , df=10\n",
      "likelihood ratio test: chi2=34.7469 , p=0.0001  , df=10\n",
      "parameter F test:         F=3.2513  , p=0.0017  , df_denom=69, df_num=10\n",
      "\n",
      "Granger Causality\n",
      "number of lags (no zero) 10\n",
      "ssr based F test:         F=2.3480  , p=0.0189  , df_denom=69, df_num=10\n",
      "ssr based chi2 test:   chi2=30.6257 , p=0.0007  , df=10\n",
      "likelihood ratio test: chi2=26.3594 , p=0.0033  , df=10\n",
      "parameter F test:         F=2.3480  , p=0.0189  , df_denom=69, df_num=10\n",
      "\n",
      "Granger Causality\n",
      "number of lags (no zero) 10\n",
      "ssr based F test:         F=2.6990  , p=0.0075  , df_denom=69, df_num=10\n",
      "ssr based chi2 test:   chi2=35.2041 , p=0.0001  , df=10\n",
      "likelihood ratio test: chi2=29.7122 , p=0.0010  , df=10\n",
      "parameter F test:         F=2.6990  , p=0.0075  , df_denom=69, df_num=10\n",
      "\n",
      "Granger Causality\n",
      "number of lags (no zero) 10\n",
      "ssr based F test:         F=2.1013  , p=0.0358  , df_denom=69, df_num=10\n",
      "ssr based chi2 test:   chi2=27.4081 , p=0.0022  , df=10\n",
      "likelihood ratio test: chi2=23.9261 , p=0.0078  , df=10\n",
      "parameter F test:         F=2.1013  , p=0.0358  , df_denom=69, df_num=10\n",
      "\n",
      "Granger Causality\n",
      "number of lags (no zero) 10\n",
      "ssr based F test:         F=3.3756  , p=0.0012  , df_denom=69, df_num=10\n",
      "ssr based chi2 test:   chi2=44.0291 , p=0.0000  , df=10\n",
      "likelihood ratio test: chi2=35.8422 , p=0.0001  , df=10\n",
      "parameter F test:         F=3.3756  , p=0.0012  , df_denom=69, df_num=10\n",
      "\n",
      "Granger Causality\n",
      "number of lags (no zero) 10\n",
      "ssr based F test:         F=4.1978  , p=0.0001  , df_denom=69, df_num=10\n",
      "ssr based chi2 test:   chi2=54.7537 , p=0.0000  , df=10\n",
      "likelihood ratio test: chi2=42.7702 , p=0.0000  , df=10\n",
      "parameter F test:         F=4.1978  , p=0.0001  , df_denom=69, df_num=10\n",
      "\n",
      "Granger Causality\n",
      "number of lags (no zero) 10\n",
      "ssr based F test:         F=3.6290  , p=0.0006  , df_denom=69, df_num=10\n",
      "ssr based chi2 test:   chi2=47.3347 , p=0.0000  , df=10\n",
      "likelihood ratio test: chi2=38.0350 , p=0.0000  , df=10\n",
      "parameter F test:         F=3.6290  , p=0.0006  , df_denom=69, df_num=10\n",
      "\n",
      "Granger Causality\n",
      "number of lags (no zero) 10\n",
      "ssr based F test:         F=2.8593  , p=0.0049  , df_denom=69, df_num=10\n",
      "ssr based chi2 test:   chi2=37.2954 , p=0.0001  , df=10\n",
      "likelihood ratio test: chi2=31.2031 , p=0.0005  , df=10\n",
      "parameter F test:         F=2.8593  , p=0.0049  , df_denom=69, df_num=10\n",
      "\n",
      "Granger Causality\n",
      "number of lags (no zero) 10\n",
      "ssr based F test:         F=2.8519  , p=0.0050  , df_denom=69, df_num=10\n",
      "ssr based chi2 test:   chi2=37.1987 , p=0.0001  , df=10\n",
      "likelihood ratio test: chi2=31.1347 , p=0.0006  , df=10\n",
      "parameter F test:         F=2.8519  , p=0.0050  , df_denom=69, df_num=10\n",
      "\n",
      "Granger Causality\n",
      "number of lags (no zero) 10\n",
      "ssr based F test:         F=2.7751  , p=0.0061  , df_denom=69, df_num=10\n",
      "ssr based chi2 test:   chi2=36.1974 , p=0.0001  , df=10\n",
      "likelihood ratio test: chi2=30.4234 , p=0.0007  , df=10\n",
      "parameter F test:         F=2.7751  , p=0.0061  , df_denom=69, df_num=10\n",
      "\n",
      "Granger Causality\n",
      "number of lags (no zero) 10\n",
      "ssr based F test:         F=3.5744  , p=0.0007  , df_denom=69, df_num=10\n",
      "ssr based chi2 test:   chi2=46.6224 , p=0.0000  , df=10\n",
      "likelihood ratio test: chi2=37.5670 , p=0.0000  , df=10\n",
      "parameter F test:         F=3.5744  , p=0.0007  , df_denom=69, df_num=10\n",
      "\n",
      "Granger Causality\n",
      "number of lags (no zero) 10\n",
      "ssr based F test:         F=2.8619  , p=0.0049  , df_denom=69, df_num=10\n",
      "ssr based chi2 test:   chi2=37.3293 , p=0.0000  , df=10\n",
      "likelihood ratio test: chi2=31.2271 , p=0.0005  , df=10\n",
      "parameter F test:         F=2.8619  , p=0.0049  , df_denom=69, df_num=10\n",
      "\n",
      "Granger Causality\n",
      "number of lags (no zero) 10\n",
      "ssr based F test:         F=3.6562  , p=0.0006  , df_denom=69, df_num=10\n",
      "ssr based chi2 test:   chi2=47.6899 , p=0.0000  , df=10\n",
      "likelihood ratio test: chi2=38.2675 , p=0.0000  , df=10\n",
      "parameter F test:         F=3.6562  , p=0.0006  , df_denom=69, df_num=10\n",
      "\n",
      "Granger Causality\n",
      "number of lags (no zero) 10\n",
      "ssr based F test:         F=3.4306  , p=0.0011  , df_denom=69, df_num=10\n",
      "ssr based chi2 test:   chi2=44.7474 , p=0.0000  , df=10\n",
      "likelihood ratio test: chi2=36.3233 , p=0.0001  , df=10\n",
      "parameter F test:         F=3.4306  , p=0.0011  , df_denom=69, df_num=10\n",
      "\n",
      "Granger Causality\n",
      "number of lags (no zero) 10\n",
      "ssr based F test:         F=3.5957  , p=0.0007  , df_denom=69, df_num=10\n",
      "ssr based chi2 test:   chi2=46.8999 , p=0.0000  , df=10\n",
      "likelihood ratio test: chi2=37.7497 , p=0.0000  , df=10\n",
      "parameter F test:         F=3.5957  , p=0.0007  , df_denom=69, df_num=10\n",
      "\n",
      "Granger Causality\n",
      "number of lags (no zero) 10\n",
      "ssr based F test:         F=5.2721  , p=0.0000  , df_denom=69, df_num=10\n",
      "ssr based chi2 test:   chi2=68.7660 , p=0.0000  , df=10\n",
      "likelihood ratio test: chi2=51.0860 , p=0.0000  , df=10\n",
      "parameter F test:         F=5.2721  , p=0.0000  , df_denom=69, df_num=10\n",
      "\n",
      "Granger Causality\n",
      "number of lags (no zero) 10\n",
      "ssr based F test:         F=1.5466  , p=0.1419  , df_denom=69, df_num=10\n",
      "ssr based chi2 test:   chi2=20.1735 , p=0.0277  , df=10\n",
      "likelihood ratio test: chi2=18.2022 , p=0.0516  , df=10\n",
      "parameter F test:         F=1.5466  , p=0.1419  , df_denom=69, df_num=10\n",
      "\n",
      "Granger Causality\n",
      "number of lags (no zero) 10\n",
      "ssr based F test:         F=4.7632  , p=0.0000  , df_denom=69, df_num=10\n",
      "ssr based chi2 test:   chi2=62.1281 , p=0.0000  , df=10\n",
      "likelihood ratio test: chi2=47.2422 , p=0.0000  , df=10\n",
      "parameter F test:         F=4.7632  , p=0.0000  , df_denom=69, df_num=10\n",
      "\n",
      "Granger Causality\n",
      "number of lags (no zero) 10\n",
      "ssr based F test:         F=2.8467  , p=0.0051  , df_denom=69, df_num=10\n",
      "ssr based chi2 test:   chi2=37.1310 , p=0.0001  , df=10\n",
      "likelihood ratio test: chi2=31.0867 , p=0.0006  , df=10\n",
      "parameter F test:         F=2.8467  , p=0.0051  , df_denom=69, df_num=10\n",
      "\n",
      "Granger Causality\n",
      "number of lags (no zero) 10\n",
      "ssr based F test:         F=2.2221  , p=0.0262  , df_denom=69, df_num=10\n",
      "ssr based chi2 test:   chi2=28.9835 , p=0.0013  , df=10\n",
      "likelihood ratio test: chi2=25.1258 , p=0.0051  , df=10\n",
      "parameter F test:         F=2.2221  , p=0.0262  , df_denom=69, df_num=10\n",
      "\n",
      "Granger Causality\n",
      "number of lags (no zero) 10\n",
      "ssr based F test:         F=3.6649  , p=0.0006  , df_denom=69, df_num=10\n",
      "ssr based chi2 test:   chi2=47.8028 , p=0.0000  , df=10\n",
      "likelihood ratio test: chi2=38.3413 , p=0.0000  , df=10\n",
      "parameter F test:         F=3.6649  , p=0.0006  , df_denom=69, df_num=10\n",
      "\n",
      "Granger Causality\n",
      "number of lags (no zero) 10\n",
      "ssr based F test:         F=3.0759  , p=0.0028  , df_denom=69, df_num=10\n",
      "ssr based chi2 test:   chi2=40.1204 , p=0.0000  , df=10\n",
      "likelihood ratio test: chi2=33.1785 , p=0.0003  , df=10\n",
      "parameter F test:         F=3.0759  , p=0.0028  , df_denom=69, df_num=10\n",
      "\n",
      "Granger Causality\n",
      "number of lags (no zero) 10\n",
      "ssr based F test:         F=3.3153  , p=0.0015  , df_denom=69, df_num=10\n",
      "ssr based chi2 test:   chi2=43.2433 , p=0.0000  , df=10\n",
      "likelihood ratio test: chi2=35.3130 , p=0.0001  , df=10\n",
      "parameter F test:         F=3.3153  , p=0.0015  , df_denom=69, df_num=10\n",
      "\n",
      "Granger Causality\n",
      "number of lags (no zero) 10\n",
      "ssr based F test:         F=1.8130  , p=0.0744  , df_denom=69, df_num=10\n",
      "ssr based chi2 test:   chi2=23.6480 , p=0.0086  , df=10\n",
      "likelihood ratio test: chi2=20.9966 , p=0.0211  , df=10\n",
      "parameter F test:         F=1.8130  , p=0.0744  , df_denom=69, df_num=10\n",
      "\n",
      "Granger Causality\n",
      "number of lags (no zero) 10\n",
      "ssr based F test:         F=1.5249  , p=0.1493  , df_denom=69, df_num=10\n",
      "ssr based chi2 test:   chi2=19.8904 , p=0.0303  , df=10\n",
      "likelihood ratio test: chi2=17.9707 , p=0.0555  , df=10\n",
      "parameter F test:         F=1.5249  , p=0.1493  , df_denom=69, df_num=10\n",
      "\n",
      "Granger Causality\n",
      "number of lags (no zero) 10\n",
      "ssr based F test:         F=1.8642  , p=0.0654  , df_denom=69, df_num=10\n",
      "ssr based chi2 test:   chi2=24.3159 , p=0.0068  , df=10\n",
      "likelihood ratio test: chi2=21.5240 , p=0.0177  , df=10\n",
      "parameter F test:         F=1.8642  , p=0.0654  , df_denom=69, df_num=10\n",
      "\n",
      "Granger Causality\n",
      "number of lags (no zero) 10\n",
      "ssr based F test:         F=4.3282  , p=0.0001  , df_denom=69, df_num=10\n",
      "ssr based chi2 test:   chi2=56.4542 , p=0.0000  , df=10\n",
      "likelihood ratio test: chi2=43.8213 , p=0.0000  , df=10\n",
      "parameter F test:         F=4.3282  , p=0.0001  , df_denom=69, df_num=10\n",
      "\n",
      "Granger Causality\n",
      "number of lags (no zero) 10\n",
      "ssr based F test:         F=2.7253  , p=0.0070  , df_denom=69, df_num=10\n",
      "ssr based chi2 test:   chi2=35.5468 , p=0.0001  , df=10\n",
      "likelihood ratio test: chi2=29.9582 , p=0.0009  , df=10\n",
      "parameter F test:         F=2.7253  , p=0.0070  , df_denom=69, df_num=10\n",
      "\n",
      "Granger Causality\n",
      "number of lags (no zero) 10\n",
      "ssr based F test:         F=4.1538  , p=0.0002  , df_denom=69, df_num=10\n",
      "ssr based chi2 test:   chi2=54.1803 , p=0.0000  , df=10\n",
      "likelihood ratio test: chi2=42.4129 , p=0.0000  , df=10\n",
      "parameter F test:         F=4.1538  , p=0.0002  , df_denom=69, df_num=10\n",
      "\n",
      "Granger Causality\n",
      "number of lags (no zero) 10\n",
      "ssr based F test:         F=1.9118  , p=0.0581  , df_denom=69, df_num=10\n",
      "ssr based chi2 test:   chi2=24.9369 , p=0.0055  , df=10\n",
      "likelihood ratio test: chi2=22.0116 , p=0.0150  , df=10\n",
      "parameter F test:         F=1.9118  , p=0.0581  , df_denom=69, df_num=10\n",
      "\n",
      "Granger Causality\n",
      "number of lags (no zero) 10\n",
      "ssr based F test:         F=3.7911  , p=0.0004  , df_denom=69, df_num=10\n",
      "ssr based chi2 test:   chi2=49.4487 , p=0.0000  , df=10\n",
      "likelihood ratio test: chi2=39.4098 , p=0.0000  , df=10\n",
      "parameter F test:         F=3.7911  , p=0.0004  , df_denom=69, df_num=10\n",
      "\n",
      "Granger Causality\n",
      "number of lags (no zero) 10\n",
      "ssr based F test:         F=1.9472  , p=0.0531  , df_denom=69, df_num=10\n",
      "ssr based chi2 test:   chi2=25.3982 , p=0.0046  , df=10\n",
      "likelihood ratio test: chi2=22.3721 , p=0.0133  , df=10\n",
      "parameter F test:         F=1.9472  , p=0.0531  , df_denom=69, df_num=10\n",
      "\n",
      "Granger Causality\n",
      "number of lags (no zero) 10\n",
      "ssr based F test:         F=4.7787  , p=0.0000  , df_denom=69, df_num=10\n",
      "ssr based chi2 test:   chi2=62.3304 , p=0.0000  , df=10\n",
      "likelihood ratio test: chi2=47.3618 , p=0.0000  , df=10\n",
      "parameter F test:         F=4.7787  , p=0.0000  , df_denom=69, df_num=10\n",
      "\n",
      "Granger Causality\n",
      "number of lags (no zero) 10\n",
      "ssr based F test:         F=4.0434  , p=0.0002  , df_denom=69, df_num=10\n",
      "ssr based chi2 test:   chi2=52.7402 , p=0.0000  , df=10\n",
      "likelihood ratio test: chi2=41.5095 , p=0.0000  , df=10\n",
      "parameter F test:         F=4.0434  , p=0.0002  , df_denom=69, df_num=10\n",
      "\n",
      "Granger Causality\n",
      "number of lags (no zero) 10\n",
      "ssr based F test:         F=2.6443  , p=0.0086  , df_denom=69, df_num=10\n",
      "ssr based chi2 test:   chi2=34.4915 , p=0.0002  , df=10\n",
      "likelihood ratio test: chi2=29.1985 , p=0.0012  , df=10\n",
      "parameter F test:         F=2.6443  , p=0.0086  , df_denom=69, df_num=10\n",
      "\n",
      "Granger Causality\n",
      "number of lags (no zero) 10\n",
      "ssr based F test:         F=2.7131  , p=0.0072  , df_denom=69, df_num=10\n",
      "ssr based chi2 test:   chi2=35.3882 , p=0.0001  , df=10\n",
      "likelihood ratio test: chi2=29.8445 , p=0.0009  , df=10\n",
      "parameter F test:         F=2.7131  , p=0.0072  , df_denom=69, df_num=10\n",
      "\n",
      "Granger Causality\n",
      "number of lags (no zero) 10\n",
      "ssr based F test:         F=1.5226  , p=0.1501  , df_denom=69, df_num=10\n",
      "ssr based chi2 test:   chi2=19.8603 , p=0.0306  , df=10\n",
      "likelihood ratio test: chi2=17.9460 , p=0.0559  , df=10\n",
      "parameter F test:         F=1.5226  , p=0.1501  , df_denom=69, df_num=10\n",
      "\n",
      "Granger Causality\n",
      "number of lags (no zero) 10\n",
      "ssr based F test:         F=2.2619  , p=0.0236  , df_denom=69, df_num=10\n",
      "ssr based chi2 test:   chi2=29.5026 , p=0.0010  , df=10\n",
      "likelihood ratio test: chi2=25.5175 , p=0.0044  , df=10\n",
      "parameter F test:         F=2.2619  , p=0.0236  , df_denom=69, df_num=10\n",
      "\n",
      "Granger Causality\n",
      "number of lags (no zero) 10\n",
      "ssr based F test:         F=0.3713  , p=0.9550  , df_denom=69, df_num=10\n",
      "ssr based chi2 test:   chi2=4.8437  , p=0.9014  , df=10\n",
      "likelihood ratio test: chi2=4.7178  , p=0.9092  , df=10\n",
      "parameter F test:         F=0.3713  , p=0.9550  , df_denom=69, df_num=10\n",
      "\n",
      "Granger Causality\n",
      "number of lags (no zero) 10\n",
      "ssr based F test:         F=2.1868  , p=0.0287  , df_denom=69, df_num=10\n",
      "ssr based chi2 test:   chi2=28.5234 , p=0.0015  , df=10\n",
      "likelihood ratio test: chi2=24.7771 , p=0.0058  , df=10\n",
      "parameter F test:         F=2.1868  , p=0.0287  , df_denom=69, df_num=10\n",
      "\n",
      "Granger Causality\n",
      "number of lags (no zero) 10\n",
      "ssr based F test:         F=2.5681  , p=0.0106  , df_denom=69, df_num=10\n",
      "ssr based chi2 test:   chi2=33.4964 , p=0.0002  , df=10\n",
      "likelihood ratio test: chi2=28.4762 , p=0.0015  , df=10\n",
      "parameter F test:         F=2.5681  , p=0.0106  , df_denom=69, df_num=10\n",
      "\n",
      "Granger Causality\n",
      "number of lags (no zero) 10\n",
      "ssr based F test:         F=2.2597  , p=0.0238  , df_denom=69, df_num=10\n",
      "ssr based chi2 test:   chi2=29.4738 , p=0.0010  , df=10\n",
      "likelihood ratio test: chi2=25.4959 , p=0.0045  , df=10\n",
      "parameter F test:         F=2.2597  , p=0.0238  , df_denom=69, df_num=10\n",
      "\n",
      "Granger Causality\n",
      "number of lags (no zero) 10\n",
      "ssr based F test:         F=2.3687  , p=0.0179  , df_denom=69, df_num=10\n",
      "ssr based chi2 test:   chi2=30.8967 , p=0.0006  , df=10\n",
      "likelihood ratio test: chi2=26.5614 , p=0.0031  , df=10\n",
      "parameter F test:         F=2.3687  , p=0.0179  , df_denom=69, df_num=10\n",
      "\n",
      "Granger Causality\n",
      "number of lags (no zero) 10\n",
      "ssr based F test:         F=3.5143  , p=0.0009  , df_denom=69, df_num=10\n",
      "ssr based chi2 test:   chi2=45.8389 , p=0.0000  , df=10\n",
      "likelihood ratio test: chi2=37.0494 , p=0.0001  , df=10\n",
      "parameter F test:         F=3.5143  , p=0.0009  , df_denom=69, df_num=10\n",
      "\n",
      "Granger Causality\n",
      "number of lags (no zero) 10\n",
      "ssr based F test:         F=2.1129  , p=0.0348  , df_denom=69, df_num=10\n",
      "ssr based chi2 test:   chi2=27.5599 , p=0.0021  , df=10\n",
      "likelihood ratio test: chi2=24.0424 , p=0.0075  , df=10\n",
      "parameter F test:         F=2.1129  , p=0.0348  , df_denom=69, df_num=10\n",
      "\n",
      "Granger Causality\n",
      "number of lags (no zero) 10\n",
      "ssr based F test:         F=4.2885  , p=0.0001  , df_denom=69, df_num=10\n",
      "ssr based chi2 test:   chi2=55.9369 , p=0.0000  , df=10\n",
      "likelihood ratio test: chi2=43.5028 , p=0.0000  , df=10\n",
      "parameter F test:         F=4.2885  , p=0.0001  , df_denom=69, df_num=10\n",
      "\n",
      "Granger Causality\n",
      "number of lags (no zero) 10\n",
      "ssr based F test:         F=2.0646  , p=0.0394  , df_denom=69, df_num=10\n",
      "ssr based chi2 test:   chi2=26.9302 , p=0.0027  , df=10\n",
      "likelihood ratio test: chi2=23.5590 , p=0.0089  , df=10\n",
      "parameter F test:         F=2.0646  , p=0.0394  , df_denom=69, df_num=10\n",
      "\n",
      "Granger Causality\n",
      "number of lags (no zero) 10\n",
      "ssr based F test:         F=4.1702  , p=0.0002  , df_denom=69, df_num=10\n",
      "ssr based chi2 test:   chi2=54.3934 , p=0.0000  , df=10\n",
      "likelihood ratio test: chi2=42.5459 , p=0.0000  , df=10\n",
      "parameter F test:         F=4.1702  , p=0.0002  , df_denom=69, df_num=10\n",
      "\n",
      "Granger Causality\n",
      "number of lags (no zero) 10\n",
      "ssr based F test:         F=2.6102  , p=0.0095  , df_denom=69, df_num=10\n",
      "ssr based chi2 test:   chi2=34.0459 , p=0.0002  , df=10\n",
      "likelihood ratio test: chi2=28.8758 , p=0.0013  , df=10\n",
      "parameter F test:         F=2.6102  , p=0.0095  , df_denom=69, df_num=10\n",
      "\n",
      "Granger Causality\n",
      "number of lags (no zero) 10\n",
      "ssr based F test:         F=4.6097  , p=0.0001  , df_denom=69, df_num=10\n",
      "ssr based chi2 test:   chi2=60.1261 , p=0.0000  , df=10\n",
      "likelihood ratio test: chi2=46.0499 , p=0.0000  , df=10\n",
      "parameter F test:         F=4.6097  , p=0.0001  , df_denom=69, df_num=10\n",
      "\n",
      "Granger Causality\n",
      "number of lags (no zero) 10\n",
      "ssr based F test:         F=5.0160  , p=0.0000  , df_denom=69, df_num=10\n",
      "ssr based chi2 test:   chi2=65.4259 , p=0.0000  , df=10\n",
      "likelihood ratio test: chi2=49.1723 , p=0.0000  , df=10\n",
      "parameter F test:         F=5.0160  , p=0.0000  , df_denom=69, df_num=10\n",
      "\n",
      "Granger Causality\n",
      "number of lags (no zero) 10\n",
      "ssr based F test:         F=3.2420  , p=0.0018  , df_denom=69, df_num=10\n",
      "ssr based chi2 test:   chi2=42.2874 , p=0.0000  , df=10\n",
      "likelihood ratio test: chi2=34.6650 , p=0.0001  , df=10\n",
      "parameter F test:         F=3.2420  , p=0.0018  , df_denom=69, df_num=10\n",
      "\n",
      "Granger Causality\n",
      "number of lags (no zero) 10\n",
      "ssr based F test:         F=3.9470  , p=0.0003  , df_denom=69, df_num=10\n",
      "ssr based chi2 test:   chi2=51.4820 , p=0.0000  , df=10\n",
      "likelihood ratio test: chi2=40.7127 , p=0.0000  , df=10\n",
      "parameter F test:         F=3.9470  , p=0.0003  , df_denom=69, df_num=10\n",
      "\n",
      "Granger Causality\n",
      "number of lags (no zero) 10\n",
      "ssr based F test:         F=3.7203  , p=0.0005  , df_denom=69, df_num=10\n",
      "ssr based chi2 test:   chi2=48.5260 , p=0.0000  , df=10\n",
      "likelihood ratio test: chi2=38.8124 , p=0.0000  , df=10\n",
      "parameter F test:         F=3.7203  , p=0.0005  , df_denom=69, df_num=10\n",
      "\n",
      "Granger Causality\n",
      "number of lags (no zero) 10\n",
      "ssr based F test:         F=3.3653  , p=0.0013  , df_denom=69, df_num=10\n",
      "ssr based chi2 test:   chi2=43.8957 , p=0.0000  , df=10\n",
      "likelihood ratio test: chi2=35.7526 , p=0.0001  , df=10\n",
      "parameter F test:         F=3.3653  , p=0.0013  , df_denom=69, df_num=10\n",
      "\n",
      "Granger Causality\n",
      "number of lags (no zero) 10\n",
      "ssr based F test:         F=5.7811  , p=0.0000  , df_denom=69, df_num=10\n",
      "ssr based chi2 test:   chi2=75.4059 , p=0.0000  , df=10\n",
      "likelihood ratio test: chi2=54.7734 , p=0.0000  , df=10\n",
      "parameter F test:         F=5.7811  , p=0.0000  , df_denom=69, df_num=10\n",
      "\n",
      "Granger Causality\n",
      "number of lags (no zero) 10\n",
      "ssr based F test:         F=4.2840  , p=0.0001  , df_denom=69, df_num=10\n",
      "ssr based chi2 test:   chi2=55.8788 , p=0.0000  , df=10\n",
      "likelihood ratio test: chi2=43.4670 , p=0.0000  , df=10\n",
      "parameter F test:         F=4.2840  , p=0.0001  , df_denom=69, df_num=10\n",
      "\n",
      "Granger Causality\n",
      "number of lags (no zero) 10\n",
      "ssr based F test:         F=2.4336  , p=0.0151  , df_denom=69, df_num=10\n",
      "ssr based chi2 test:   chi2=31.7424 , p=0.0004  , df=10\n",
      "likelihood ratio test: chi2=27.1888 , p=0.0024  , df=10\n",
      "parameter F test:         F=2.4336  , p=0.0151  , df_denom=69, df_num=10\n",
      "\n",
      "Granger Causality\n",
      "number of lags (no zero) 10\n",
      "ssr based F test:         F=3.5721  , p=0.0007  , df_denom=69, df_num=10\n",
      "ssr based chi2 test:   chi2=46.5924 , p=0.0000  , df=10\n",
      "likelihood ratio test: chi2=37.5473 , p=0.0000  , df=10\n",
      "parameter F test:         F=3.5721  , p=0.0007  , df_denom=69, df_num=10\n",
      "\n",
      "Granger Causality\n",
      "number of lags (no zero) 10\n",
      "ssr based F test:         F=2.8174  , p=0.0055  , df_denom=69, df_num=10\n",
      "ssr based chi2 test:   chi2=36.7491 , p=0.0001  , df=10\n",
      "likelihood ratio test: chi2=30.8160 , p=0.0006  , df=10\n",
      "parameter F test:         F=2.8174  , p=0.0055  , df_denom=69, df_num=10\n",
      "\n",
      "Granger Causality\n",
      "number of lags (no zero) 10\n",
      "ssr based F test:         F=2.2109  , p=0.0270  , df_denom=69, df_num=10\n",
      "ssr based chi2 test:   chi2=28.8378 , p=0.0013  , df=10\n",
      "likelihood ratio test: chi2=25.0155 , p=0.0053  , df=10\n",
      "parameter F test:         F=2.2109  , p=0.0270  , df_denom=69, df_num=10\n",
      "\n",
      "Granger Causality\n",
      "number of lags (no zero) 10\n",
      "ssr based F test:         F=1.2965  , p=0.2499  , df_denom=69, df_num=10\n",
      "ssr based chi2 test:   chi2=16.9104 , p=0.0764  , df=10\n",
      "likelihood ratio test: chi2=15.4964 , p=0.1150  , df=10\n",
      "parameter F test:         F=1.2965  , p=0.2499  , df_denom=69, df_num=10\n",
      "\n",
      "Granger Causality\n",
      "number of lags (no zero) 10\n",
      "ssr based F test:         F=2.9238  , p=0.0041  , df_denom=69, df_num=10\n",
      "ssr based chi2 test:   chi2=38.1367 , p=0.0000  , df=10\n",
      "likelihood ratio test: chi2=31.7959 , p=0.0004  , df=10\n",
      "parameter F test:         F=2.9238  , p=0.0041  , df_denom=69, df_num=10\n",
      "\n",
      "Granger Causality\n",
      "number of lags (no zero) 10\n",
      "ssr based F test:         F=2.7420  , p=0.0067  , df_denom=69, df_num=10\n",
      "ssr based chi2 test:   chi2=35.7652 , p=0.0001  , df=10\n",
      "likelihood ratio test: chi2=30.1146 , p=0.0008  , df=10\n",
      "parameter F test:         F=2.7420  , p=0.0067  , df_denom=69, df_num=10\n",
      "\n",
      "Granger Causality\n",
      "number of lags (no zero) 10\n",
      "ssr based F test:         F=3.1117  , p=0.0025  , df_denom=69, df_num=10\n",
      "ssr based chi2 test:   chi2=40.5872 , p=0.0000  , df=10\n",
      "likelihood ratio test: chi2=33.5009 , p=0.0002  , df=10\n",
      "parameter F test:         F=3.1117  , p=0.0025  , df_denom=69, df_num=10\n",
      "\n",
      "Granger Causality\n",
      "number of lags (no zero) 10\n",
      "ssr based F test:         F=2.0078  , p=0.0455  , df_denom=69, df_num=10\n",
      "ssr based chi2 test:   chi2=26.1889 , p=0.0035  , df=10\n",
      "likelihood ratio test: chi2=22.9867 , p=0.0108  , df=10\n",
      "parameter F test:         F=2.0078  , p=0.0455  , df_denom=69, df_num=10\n",
      "\n",
      "Granger Causality\n",
      "number of lags (no zero) 10\n",
      "ssr based F test:         F=1.4758  , p=0.1673  , df_denom=69, df_num=10\n",
      "ssr based chi2 test:   chi2=19.2489 , p=0.0372  , df=10\n",
      "likelihood ratio test: chi2=17.4437 , p=0.0651  , df=10\n",
      "parameter F test:         F=1.4758  , p=0.1673  , df_denom=69, df_num=10\n",
      "\n",
      "Granger Causality\n",
      "number of lags (no zero) 10\n",
      "ssr based F test:         F=1.9148  , p=0.0576  , df_denom=69, df_num=10\n",
      "ssr based chi2 test:   chi2=24.9756 , p=0.0054  , df=10\n",
      "likelihood ratio test: chi2=22.0419 , p=0.0149  , df=10\n",
      "parameter F test:         F=1.9148  , p=0.0576  , df_denom=69, df_num=10\n",
      "\n",
      "Granger Causality\n",
      "number of lags (no zero) 10\n",
      "ssr based F test:         F=3.4558  , p=0.0010  , df_denom=69, df_num=10\n",
      "ssr based chi2 test:   chi2=45.0752 , p=0.0000  , df=10\n",
      "likelihood ratio test: chi2=36.5420 , p=0.0001  , df=10\n",
      "parameter F test:         F=3.4558  , p=0.0010  , df_denom=69, df_num=10\n",
      "\n",
      "Granger Causality\n",
      "number of lags (no zero) 10\n",
      "ssr based F test:         F=4.7400  , p=0.0000  , df_denom=69, df_num=10\n",
      "ssr based chi2 test:   chi2=61.8265 , p=0.0000  , df=10\n",
      "likelihood ratio test: chi2=47.0636 , p=0.0000  , df=10\n",
      "parameter F test:         F=4.7400  , p=0.0000  , df_denom=69, df_num=10\n",
      "\n",
      "Granger Causality\n",
      "number of lags (no zero) 10\n",
      "ssr based F test:         F=1.9998  , p=0.0465  , df_denom=69, df_num=10\n",
      "ssr based chi2 test:   chi2=26.0838 , p=0.0036  , df=10\n",
      "likelihood ratio test: chi2=22.9052 , p=0.0111  , df=10\n",
      "parameter F test:         F=1.9998  , p=0.0465  , df_denom=69, df_num=10\n",
      "\n",
      "Granger Causality\n",
      "number of lags (no zero) 10\n",
      "ssr based F test:         F=2.8010  , p=0.0057  , df_denom=69, df_num=10\n",
      "ssr based chi2 test:   chi2=36.5349 , p=0.0001  , df=10\n",
      "likelihood ratio test: chi2=30.6638 , p=0.0007  , df=10\n",
      "parameter F test:         F=2.8010  , p=0.0057  , df_denom=69, df_num=10\n",
      "\n",
      "Granger Causality\n",
      "number of lags (no zero) 10\n",
      "ssr based F test:         F=2.9189  , p=0.0042  , df_denom=69, df_num=10\n",
      "ssr based chi2 test:   chi2=38.0720 , p=0.0000  , df=10\n",
      "likelihood ratio test: chi2=31.7505 , p=0.0004  , df=10\n",
      "parameter F test:         F=2.9189  , p=0.0042  , df_denom=69, df_num=10\n",
      "\n",
      "Granger Causality\n",
      "number of lags (no zero) 10\n",
      "ssr based F test:         F=3.1708  , p=0.0021  , df_denom=69, df_num=10\n",
      "ssr based chi2 test:   chi2=41.3584 , p=0.0000  , df=10\n",
      "likelihood ratio test: chi2=34.0308 , p=0.0002  , df=10\n",
      "parameter F test:         F=3.1708  , p=0.0021  , df_denom=69, df_num=10\n",
      "\n",
      "Granger Causality\n",
      "number of lags (no zero) 10\n",
      "ssr based F test:         F=1.4345  , p=0.1839  , df_denom=69, df_num=10\n",
      "ssr based chi2 test:   chi2=18.7109 , p=0.0441  , df=10\n",
      "likelihood ratio test: chi2=16.9994 , p=0.0744  , df=10\n",
      "parameter F test:         F=1.4345  , p=0.1839  , df_denom=69, df_num=10\n",
      "\n",
      "Granger Causality\n",
      "number of lags (no zero) 10\n",
      "ssr based F test:         F=3.7152  , p=0.0005  , df_denom=69, df_num=10\n",
      "ssr based chi2 test:   chi2=48.4588 , p=0.0000  , df=10\n",
      "likelihood ratio test: chi2=38.7687 , p=0.0000  , df=10\n",
      "parameter F test:         F=3.7152  , p=0.0005  , df_denom=69, df_num=10\n",
      "trajectory  infected_observable_state_var  timepoint_id\n",
      "timepoint                                              \n",
      "0                               11.969685             0\n",
      "1                               15.828713             1\n",
      "2                               18.445007             2\n",
      "3                               20.906946             3\n",
      "4                               23.540363             4\n",
      "...                                   ...           ...\n",
      "94                          348138.093750            94\n",
      "95                          325088.843750            95\n",
      "96                          302895.062500            96\n",
      "97                          281833.750000            97\n",
      "98                          261997.953125            98\n",
      "\n",
      "[99 rows x 2 columns]\n",
      "\n"
     ]
    },
    {
     "data": {
      "application/vnd.vega.v5+json": {
       "$schema": "https://vega.github.io/schema/vega/v5.json",
       "axes": [
        {
         "name": "x_axis",
         "orient": "bottom",
         "scale": "xscale",
         "zindex": 100
        },
        {
         "name": "y_axis",
         "orient": "left",
         "scale": "yscale",
         "zindex": 100
        }
       ],
       "data": [
        {
         "name": "distributions",
         "transform": [
          {
           "sort": {
            "field": [
             "trajectory",
             "timepoint"
            ]
           },
           "type": "collect"
          }
         ],
         "values": [
          {
           "lower": -1.6052828033086974,
           "timepoint": 0,
           "trajectory": "same_stat_state",
           "upper": 1.481148161157664
          },
          {
           "lower": -0.6081200216287366,
           "timepoint": 1,
           "trajectory": "same_stat_state",
           "upper": 2.4885477255393242
          },
          {
           "lower": -0.4199580345450631,
           "timepoint": 2,
           "trajectory": "same_stat_state",
           "upper": 2.666714873967182
          },
          {
           "lower": -0.2892186564104897,
           "timepoint": 3,
           "trajectory": "same_stat_state",
           "upper": 2.794817784851409
          },
          {
           "lower": -0.18914742287294303,
           "timepoint": 4,
           "trajectory": "same_stat_state",
           "upper": 2.8996372690979455
          },
          {
           "lower": -0.10908151004881787,
           "timepoint": 5,
           "trajectory": "same_stat_state",
           "upper": 2.9797375650258178
          },
          {
           "lower": -0.039460764662519666,
           "timepoint": 6,
           "trajectory": "same_stat_state",
           "upper": 3.0490753663097294
          },
          {
           "lower": 0.027999810941489577,
           "timepoint": 7,
           "trajectory": "same_stat_state",
           "upper": 3.1046958398560047
          },
          {
           "lower": 0.07199669889627837,
           "timepoint": 8,
           "trajectory": "same_stat_state",
           "upper": 3.1672967405289008
          },
          {
           "lower": 0.12096359801014406,
           "timepoint": 9,
           "trajectory": "same_stat_state",
           "upper": 3.212340718511523
          },
          {
           "lower": 0.17302504190222717,
           "timepoint": 10,
           "trajectory": "same_stat_state",
           "upper": 3.258563363347868
          },
          {
           "lower": 0.21255594360541358,
           "timepoint": 11,
           "trajectory": "same_stat_state",
           "upper": 3.3080639164569323
          },
          {
           "lower": 0.2514361090614094,
           "timepoint": 12,
           "trajectory": "same_stat_state",
           "upper": 3.3490476059465837
          },
          {
           "lower": 0.29554416871128913,
           "timepoint": 13,
           "trajectory": "same_stat_state",
           "upper": 3.3775985181872312
          },
          {
           "lower": 0.3303547284244177,
           "timepoint": 14,
           "trajectory": "same_stat_state",
           "upper": 3.4193030050344975
          },
          {
           "lower": 0.36195744352518955,
           "timepoint": 15,
           "trajectory": "same_stat_state",
           "upper": 3.447419104246101
          },
          {
           "lower": 0.39024397614766265,
           "timepoint": 16,
           "trajectory": "same_stat_state",
           "upper": 3.489014401786503
          },
          {
           "lower": 0.4227504862381384,
           "timepoint": 17,
           "trajectory": "same_stat_state",
           "upper": 3.5129998615555147
          },
          {
           "lower": 0.45246961317147183,
           "timepoint": 18,
           "trajectory": "same_stat_state",
           "upper": 3.549526574292283
          },
          {
           "lower": 0.48410208624101014,
           "timepoint": 19,
           "trajectory": "same_stat_state",
           "upper": 3.565051850401998
          },
          {
           "lower": 0.5100244319710182,
           "timepoint": 20,
           "trajectory": "same_stat_state",
           "upper": 3.593758281439002
          },
          {
           "lower": 0.5373598112355183,
           "timepoint": 21,
           "trajectory": "same_stat_state",
           "upper": 3.625150069793013
          },
          {
           "lower": 0.5629867699122701,
           "timepoint": 22,
           "trajectory": "same_stat_state",
           "upper": 3.6441724872238344
          },
          {
           "lower": 0.5850300782402483,
           "timepoint": 23,
           "trajectory": "same_stat_state",
           "upper": 3.673245171580674
          },
          {
           "lower": 0.6128741951488033,
           "timepoint": 24,
           "trajectory": "same_stat_state",
           "upper": 3.690330349352129
          },
          {
           "lower": 0.6380591966766018,
           "timepoint": 25,
           "trajectory": "same_stat_state",
           "upper": 3.7139838391345195
          },
          {
           "lower": 0.6526558879720923,
           "timepoint": 26,
           "trajectory": "same_stat_state",
           "upper": 3.7332186283334403
          },
          {
           "lower": 0.6799942275309699,
           "timepoint": 27,
           "trajectory": "same_stat_state",
           "upper": 3.760584535898978
          },
          {
           "lower": 0.6951481880797801,
           "timepoint": 28,
           "trajectory": "same_stat_state",
           "upper": 3.7802842268722014
          },
          {
           "lower": 0.7199125875326855,
           "timepoint": 29,
           "trajectory": "same_stat_state",
           "upper": 3.800835592243125
          },
          {
           "lower": 0.7383976260837929,
           "timepoint": 30,
           "trajectory": "same_stat_state",
           "upper": 3.8217476922110727
          },
          {
           "lower": 0.7592611280845227,
           "timepoint": 31,
           "trajectory": "same_stat_state",
           "upper": 3.8403551749141394
          },
          {
           "lower": 0.7780798529710248,
           "timepoint": 32,
           "trajectory": "same_stat_state",
           "upper": 3.8501452155614
          },
          {
           "lower": 0.7974557671361284,
           "timepoint": 33,
           "trajectory": "same_stat_state",
           "upper": 3.872366075200324
          },
          {
           "lower": 0.8168808022155014,
           "timepoint": 34,
           "trajectory": "same_stat_state",
           "upper": 3.893969892758883
          },
          {
           "lower": 0.8298759116594375,
           "timepoint": 35,
           "trajectory": "same_stat_state",
           "upper": 3.910955614035185
          },
          {
           "lower": 0.8448884774762127,
           "timepoint": 36,
           "trajectory": "same_stat_state",
           "upper": 3.9385370192504574
          },
          {
           "lower": 0.865326993127101,
           "timepoint": 37,
           "trajectory": "same_stat_state",
           "upper": 3.9499823568123147
          },
          {
           "lower": 0.8735675289318795,
           "timepoint": 38,
           "trajectory": "same_stat_state",
           "upper": 3.9697356377450563
          },
          {
           "lower": 0.897016157608633,
           "timepoint": 39,
           "trajectory": "same_stat_state",
           "upper": 3.976316864941169
          },
          {
           "lower": 0.9190747815565913,
           "timepoint": 40,
           "trajectory": "same_stat_state",
           "upper": 3.993870646518311
          },
          {
           "lower": 0.9286461689930497,
           "timepoint": 41,
           "trajectory": "same_stat_state",
           "upper": 4.016366839409622
          },
          {
           "lower": 0.9400380505513305,
           "timepoint": 42,
           "trajectory": "same_stat_state",
           "upper": 4.028619857991993
          },
          {
           "lower": 0.9570313016536449,
           "timepoint": 43,
           "trajectory": "same_stat_state",
           "upper": 4.04221558134143
          },
          {
           "lower": 0.9779218106178281,
           "timepoint": 44,
           "trajectory": "same_stat_state",
           "upper": 4.056451888092376
          },
          {
           "lower": 0.9853351946203998,
           "timepoint": 45,
           "trajectory": "same_stat_state",
           "upper": 4.077076663489549
          },
          {
           "lower": 1.0071633850520292,
           "timepoint": 46,
           "trajectory": "same_stat_state",
           "upper": 4.085113680159415
          },
          {
           "lower": 1.018464458627461,
           "timepoint": 47,
           "trajectory": "same_stat_state",
           "upper": 4.098199542848346
          },
          {
           "lower": 1.0258397561025865,
           "timepoint": 48,
           "trajectory": "same_stat_state",
           "upper": 4.118817863963979
          },
          {
           "lower": 1.044442012610856,
           "timepoint": 49,
           "trajectory": "same_stat_state",
           "upper": 4.121757768968479
          },
          {
           "lower": 1.0511623030830883,
           "timepoint": 50,
           "trajectory": "same_stat_state",
           "upper": 4.139141612080464
          },
          {
           "lower": 1.0666084581512563,
           "timepoint": 51,
           "trajectory": "same_stat_state",
           "upper": 4.150123333977551
          },
          {
           "lower": 1.0801419785873767,
           "timepoint": 52,
           "trajectory": "same_stat_state",
           "upper": 4.169966463540192
          },
          {
           "lower": 1.0938898298580424,
           "timepoint": 53,
           "trajectory": "same_stat_state",
           "upper": 4.176371567805628
          },
          {
           "lower": 1.106247311288809,
           "timepoint": 54,
           "trajectory": "same_stat_state",
           "upper": 4.1941380449798515
          },
          {
           "lower": 1.1206420722854649,
           "timepoint": 55,
           "trajectory": "same_stat_state",
           "upper": 4.2095437904067445
          },
          {
           "lower": 1.1300476206480525,
           "timepoint": 56,
           "trajectory": "same_stat_state",
           "upper": 4.2198292381799005
          },
          {
           "lower": 1.1400986544935787,
           "timepoint": 57,
           "trajectory": "same_stat_state",
           "upper": 4.227406540973609
          },
          {
           "lower": 1.1563250757810997,
           "timepoint": 58,
           "trajectory": "same_stat_state",
           "upper": 4.240064190765288
          },
          {
           "lower": 1.16002819226748,
           "timepoint": 59,
           "trajectory": "same_stat_state",
           "upper": 4.257397592894406
          },
          {
           "lower": 1.184481588748571,
           "timepoint": 60,
           "trajectory": "same_stat_state",
           "upper": 4.26094852924323
          },
          {
           "lower": 1.193132821351393,
           "timepoint": 61,
           "trajectory": "same_stat_state",
           "upper": 4.27468842895537
          },
          {
           "lower": 1.2010101529759851,
           "timepoint": 62,
           "trajectory": "same_stat_state",
           "upper": 4.281944129278523
          },
          {
           "lower": 1.2101840996410205,
           "timepoint": 63,
           "trajectory": "same_stat_state",
           "upper": 4.299942821566202
          },
          {
           "lower": 1.2238363983795493,
           "timepoint": 64,
           "trajectory": "same_stat_state",
           "upper": 4.304799243164373
          },
          {
           "lower": 1.2315939589262848,
           "timepoint": 65,
           "trajectory": "same_stat_state",
           "upper": 4.3278847559728835
          },
          {
           "lower": 1.2481517230788608,
           "timepoint": 66,
           "trajectory": "same_stat_state",
           "upper": 4.3329503216687595
          },
          {
           "lower": 1.2561552675845193,
           "timepoint": 67,
           "trajectory": "same_stat_state",
           "upper": 4.348524137033169
          },
          {
           "lower": 1.2606247870376042,
           "timepoint": 68,
           "trajectory": "same_stat_state",
           "upper": 4.3524425012516845
          },
          {
           "lower": 1.2785653234764338,
           "timepoint": 69,
           "trajectory": "same_stat_state",
           "upper": 4.369122263417824
          },
          {
           "lower": 1.281967235759408,
           "timepoint": 70,
           "trajectory": "same_stat_state",
           "upper": 4.37982924006395
          },
          {
           "lower": 1.2924558600584095,
           "timepoint": 71,
           "trajectory": "same_stat_state",
           "upper": 4.389544199175197
          },
          {
           "lower": 1.31012310569524,
           "timepoint": 72,
           "trajectory": "same_stat_state",
           "upper": 4.397336814536653
          },
          {
           "lower": 1.3270201165490558,
           "timepoint": 73,
           "trajectory": "same_stat_state",
           "upper": 4.409909368669354
          },
          {
           "lower": 1.3305961331635896,
           "timepoint": 74,
           "trajectory": "same_stat_state",
           "upper": 4.419634044538007
          },
          {
           "lower": 1.3327094826459522,
           "timepoint": 75,
           "trajectory": "same_stat_state",
           "upper": 4.422476185497583
          },
          {
           "lower": 1.346217891394117,
           "timepoint": 76,
           "trajectory": "same_stat_state",
           "upper": 4.4373917179090805
          },
          {
           "lower": 1.3594990783853111,
           "timepoint": 77,
           "trajectory": "same_stat_state",
           "upper": 4.4492216469018615
          },
          {
           "lower": 1.3698409087648764,
           "timepoint": 78,
           "trajectory": "same_stat_state",
           "upper": 4.457133387578324
          },
          {
           "lower": 1.3788723998861407,
           "timepoint": 79,
           "trajectory": "same_stat_state",
           "upper": 4.463328793201896
          },
          {
           "lower": 1.3810279712892468,
           "timepoint": 80,
           "trajectory": "same_stat_state",
           "upper": 4.47712774520749
          },
          {
           "lower": 1.392017301145798,
           "timepoint": 81,
           "trajectory": "same_stat_state",
           "upper": 4.483193282715963
          },
          {
           "lower": 1.4073630159324788,
           "timepoint": 82,
           "trajectory": "same_stat_state",
           "upper": 4.489109553054662
          },
          {
           "lower": 1.413037919997679,
           "timepoint": 83,
           "trajectory": "same_stat_state",
           "upper": 4.496700099811968
          },
          {
           "lower": 1.4256531746035146,
           "timepoint": 84,
           "trajectory": "same_stat_state",
           "upper": 4.50824541081791
          },
          {
           "lower": 1.4372825228062738,
           "timepoint": 85,
           "trajectory": "same_stat_state",
           "upper": 4.519854650754782
          },
          {
           "lower": 1.447332581708802,
           "timepoint": 86,
           "trajectory": "same_stat_state",
           "upper": 4.526424024957397
          },
          {
           "lower": 1.4542847632151112,
           "timepoint": 87,
           "trajectory": "same_stat_state",
           "upper": 4.537605770624512
          },
          {
           "lower": 1.457935780441964,
           "timepoint": 88,
           "trajectory": "same_stat_state",
           "upper": 4.548042737762991
          },
          {
           "lower": 1.4609264556960595,
           "timepoint": 89,
           "trajectory": "same_stat_state",
           "upper": 4.552978012356336
          },
          {
           "lower": 1.4773237655713967,
           "timepoint": 90,
           "trajectory": "same_stat_state",
           "upper": 4.567866273785207
          },
          {
           "lower": 1.4878123988944447,
           "timepoint": 91,
           "trajectory": "same_stat_state",
           "upper": 4.567689306921188
          },
          {
           "lower": 1.49838273391816,
           "timepoint": 92,
           "trajectory": "same_stat_state",
           "upper": 4.579405976173168
          },
          {
           "lower": 1.506832239629911,
           "timepoint": 93,
           "trajectory": "same_stat_state",
           "upper": 4.5847365199918935
          },
          {
           "lower": 1.5162480795301179,
           "timepoint": 94,
           "trajectory": "same_stat_state",
           "upper": 4.597717639175226
          },
          {
           "lower": 1.5109947026223862,
           "timepoint": 95,
           "trajectory": "same_stat_state",
           "upper": 4.609652880060913
          },
          {
           "lower": 1.5205094891243194,
           "timepoint": 96,
           "trajectory": "same_stat_state",
           "upper": 4.618592504178073
          },
          {
           "lower": 1.538173573253646,
           "timepoint": 97,
           "trajectory": "same_stat_state",
           "upper": 4.614439869144297
          },
          {
           "lower": 1.5467546892585338,
           "timepoint": 98,
           "trajectory": "same_stat_state",
           "upper": 4.629883560597639
          },
          {
           "lower": 1.550395685723782,
           "timepoint": 99,
           "trajectory": "same_stat_state",
           "upper": 4.6391272458996395
          }
         ]
        },
        {
         "name": "traces",
         "transform": [
          {
           "expr": "isValid(datum.value)",
           "type": "filter"
          },
          {
           "sort": {
            "field": [
             "trajectory",
             "timepoint"
            ]
           },
           "type": "collect"
          }
         ],
         "values": [
          {
           "sample_id": 0,
           "timepoint": 0,
           "trajectory": "traces_mean",
           "value": 0.1165885320727533
          },
          {
           "sample_id": 0,
           "timepoint": 1,
           "trajectory": "traces_mean",
           "value": 0.98257343522157
          },
          {
           "sample_id": 0,
           "timepoint": 2,
           "trajectory": "traces_mean",
           "value": 1.1677192964909806
          },
          {
           "sample_id": 0,
           "timepoint": 3,
           "trajectory": "traces_mean",
           "value": 1.2756911575232524
          },
          {
           "sample_id": 0,
           "timepoint": 4,
           "trajectory": "traces_mean",
           "value": 1.3889579356363522
          },
          {
           "sample_id": 0,
           "timepoint": 5,
           "trajectory": "traces_mean",
           "value": 1.4432262597300134
          },
          {
           "sample_id": 0,
           "timepoint": 6,
           "trajectory": "traces_mean",
           "value": 1.4864262203356884
          },
          {
           "sample_id": 0,
           "timepoint": 7,
           "trajectory": "traces_mean",
           "value": 1.5417300622948815
          },
          {
           "sample_id": 0,
           "timepoint": 8,
           "trajectory": "traces_mean",
           "value": 1.5861135298768454
          },
          {
           "sample_id": 0,
           "timepoint": 9,
           "trajectory": "traces_mean",
           "value": 1.6316729275619544
          },
          {
           "sample_id": 0,
           "timepoint": 10,
           "trajectory": "traces_mean",
           "value": 1.65802662092253
          },
          {
           "sample_id": 0,
           "timepoint": 11,
           "trajectory": "traces_mean",
           "value": 1.6783443334119466
          },
          {
           "sample_id": 0,
           "timepoint": 12,
           "trajectory": "traces_mean",
           "value": 1.7165725949849884
          },
          {
           "sample_id": 0,
           "timepoint": 13,
           "trajectory": "traces_mean",
           "value": 1.7368738231116876
          },
          {
           "sample_id": 0,
           "timepoint": 14,
           "trajectory": "traces_mean",
           "value": 1.7334600011253192
          },
          {
           "sample_id": 0,
           "timepoint": 15,
           "trajectory": "traces_mean",
           "value": 1.748206897791705
          },
          {
           "sample_id": 0,
           "timepoint": 16,
           "trajectory": "traces_mean",
           "value": 1.8347930472123628
          },
          {
           "sample_id": 0,
           "timepoint": 17,
           "trajectory": "traces_mean",
           "value": 1.792328376826285
          },
          {
           "sample_id": 0,
           "timepoint": 18,
           "trajectory": "traces_mean",
           "value": 1.828220683978376
          },
          {
           "sample_id": 0,
           "timepoint": 19,
           "trajectory": "traces_mean",
           "value": 1.8639744343928315
          },
          {
           "sample_id": 0,
           "timepoint": 20,
           "trajectory": "traces_mean",
           "value": 1.870754171770316
          },
          {
           "sample_id": 0,
           "timepoint": 21,
           "trajectory": "traces_mean",
           "value": 1.8883956549798049
          },
          {
           "sample_id": 0,
           "timepoint": 22,
           "trajectory": "traces_mean",
           "value": 1.9033729879525496
          },
          {
           "sample_id": 0,
           "timepoint": 23,
           "trajectory": "traces_mean",
           "value": 1.9252334596212768
          },
          {
           "sample_id": 0,
           "timepoint": 24,
           "trajectory": "traces_mean",
           "value": 1.929706844900525
          },
          {
           "sample_id": 0,
           "timepoint": 25,
           "trajectory": "traces_mean",
           "value": 1.947493442524236
          },
          {
           "sample_id": 0,
           "timepoint": 26,
           "trajectory": "traces_mean",
           "value": 1.9612366162603088
          },
          {
           "sample_id": 0,
           "timepoint": 27,
           "trajectory": "traces_mean",
           "value": 2.020743883952438
          },
          {
           "sample_id": 0,
           "timepoint": 28,
           "trajectory": "traces_mean",
           "value": 1.9955912261418969
          },
          {
           "sample_id": 0,
           "timepoint": 29,
           "trajectory": "traces_mean",
           "value": 2.077654542889408
          },
          {
           "sample_id": 0,
           "timepoint": 30,
           "trajectory": "traces_mean",
           "value": 2.0191716913056337
          },
          {
           "sample_id": 0,
           "timepoint": 31,
           "trajectory": "traces_mean",
           "value": 2.062012586561062
          },
          {
           "sample_id": 0,
           "timepoint": 32,
           "trajectory": "traces_mean",
           "value": 2.048790676143133
          },
          {
           "sample_id": 0,
           "timepoint": 33,
           "trajectory": "traces_mean",
           "value": 2.07998635978141
          },
          {
           "sample_id": 0,
           "timepoint": 34,
           "trajectory": "traces_mean",
           "value": 2.1812713054395574
          },
          {
           "sample_id": 0,
           "timepoint": 35,
           "trajectory": "traces_mean",
           "value": 2.1279143787578545
          },
          {
           "sample_id": 0,
           "timepoint": 36,
           "trajectory": "traces_mean",
           "value": 2.102255956860012
          },
          {
           "sample_id": 0,
           "timepoint": 37,
           "trajectory": "traces_mean",
           "value": 2.119388627269807
          },
          {
           "sample_id": 0,
           "timepoint": 38,
           "trajectory": "traces_mean",
           "value": 2.132860346421244
          },
          {
           "sample_id": 0,
           "timepoint": 39,
           "trajectory": "traces_mean",
           "value": 2.1610875172648187
          },
          {
           "sample_id": 0,
           "timepoint": 40,
           "trajectory": "traces_mean",
           "value": 2.267675151050508
          },
          {
           "sample_id": 0,
           "timepoint": 41,
           "trajectory": "traces_mean",
           "value": 2.117278586706485
          },
          {
           "sample_id": 0,
           "timepoint": 42,
           "trajectory": "traces_mean",
           "value": 2.220559022048788
          },
          {
           "sample_id": 0,
           "timepoint": 43,
           "trajectory": "traces_mean",
           "value": 2.2267738725570307
          },
          {
           "sample_id": 0,
           "timepoint": 44,
           "trajectory": "traces_mean",
           "value": 2.2657574302341144
          },
          {
           "sample_id": 0,
           "timepoint": 45,
           "trajectory": "traces_mean",
           "value": 2.275734807941733
          },
          {
           "sample_id": 0,
           "timepoint": 46,
           "trajectory": "traces_mean",
           "value": 2.211893278934516
          },
          {
           "sample_id": 0,
           "timepoint": 47,
           "trajectory": "traces_mean",
           "value": 2.186135036493703
          },
          {
           "sample_id": 0,
           "timepoint": 48,
           "trajectory": "traces_mean",
           "value": 2.328218976939897
          },
          {
           "sample_id": 0,
           "timepoint": 49,
           "trajectory": "traces_mean",
           "value": 2.3832158132947256
          },
          {
           "sample_id": 0,
           "timepoint": 50,
           "trajectory": "traces_mean",
           "value": 2.4297109917714947
          },
          {
           "sample_id": 0,
           "timepoint": 51,
           "trajectory": "traces_mean",
           "value": 2.359328889977056
          },
          {
           "sample_id": 0,
           "timepoint": 52,
           "trajectory": "traces_mean",
           "value": 2.4123369057407964
          },
          {
           "sample_id": 0,
           "timepoint": 53,
           "trajectory": "traces_mean",
           "value": 2.427961581253383
          },
          {
           "sample_id": 0,
           "timepoint": 54,
           "trajectory": "traces_mean",
           "value": 2.424195034832548
          },
          {
           "sample_id": 0,
           "timepoint": 55,
           "trajectory": "traces_mean",
           "value": 2.4790385313251804
          },
          {
           "sample_id": 0,
           "timepoint": 56,
           "trajectory": "traces_mean",
           "value": 2.50762152931137
          },
          {
           "sample_id": 0,
           "timepoint": 57,
           "trajectory": "traces_mean",
           "value": 2.5329008375343203
          },
          {
           "sample_id": 0,
           "timepoint": 58,
           "trajectory": "traces_mean",
           "value": 2.55322216932685
          },
          {
           "sample_id": 0,
           "timepoint": 59,
           "trajectory": "traces_mean",
           "value": 2.6071297365341017
          },
          {
           "sample_id": 0,
           "timepoint": 60,
           "trajectory": "traces_mean",
           "value": 2.590435120164238
          },
          {
           "sample_id": 0,
           "timepoint": 61,
           "trajectory": "traces_mean",
           "value": 2.603565920559579
          },
          {
           "sample_id": 0,
           "timepoint": 62,
           "trajectory": "traces_mean",
           "value": 2.6576563911989552
          },
          {
           "sample_id": 0,
           "timepoint": 63,
           "trajectory": "traces_mean",
           "value": 2.6285393345516894
          },
          {
           "sample_id": 0,
           "timepoint": 64,
           "trajectory": "traces_mean",
           "value": 2.746458300731359
          },
          {
           "sample_id": 0,
           "timepoint": 65,
           "trajectory": "traces_mean",
           "value": 2.7162377407589577
          },
          {
           "sample_id": 0,
           "timepoint": 66,
           "trajectory": "traces_mean",
           "value": 2.693705120562201
          },
          {
           "sample_id": 0,
           "timepoint": 67,
           "trajectory": "traces_mean",
           "value": 2.771621278648986
          },
          {
           "sample_id": 0,
           "timepoint": 68,
           "trajectory": "traces_mean",
           "value": 2.740689519864348
          },
          {
           "sample_id": 0,
           "timepoint": 69,
           "trajectory": "traces_mean",
           "value": 2.8123625038534987
          },
          {
           "sample_id": 0,
           "timepoint": 70,
           "trajectory": "traces_mean",
           "value": 2.8499801155211792
          },
          {
           "sample_id": 0,
           "timepoint": 71,
           "trajectory": "traces_mean",
           "value": 2.87298698839507
          },
          {
           "sample_id": 0,
           "timepoint": 72,
           "trajectory": "traces_mean",
           "value": 2.887882181343926
          },
          {
           "sample_id": 0,
           "timepoint": 73,
           "trajectory": "traces_mean",
           "value": 2.877188848046804
          },
          {
           "sample_id": 0,
           "timepoint": 74,
           "trajectory": "traces_mean",
           "value": 2.9353632309289366
          },
          {
           "sample_id": 0,
           "timepoint": 75,
           "trajectory": "traces_mean",
           "value": 2.955766833546866
          },
          {
           "sample_id": 0,
           "timepoint": 76,
           "trajectory": "traces_mean",
           "value": 2.9701317912709766
          },
          {
           "sample_id": 0,
           "timepoint": 77,
           "trajectory": "traces_mean",
           "value": 2.98808183867856
          },
          {
           "sample_id": 0,
           "timepoint": 78,
           "trajectory": "traces_mean",
           "value": 3.0090850634031727
          },
          {
           "sample_id": 0,
           "timepoint": 79,
           "trajectory": "traces_mean",
           "value": 3.054957484677664
          },
          {
           "sample_id": 0,
           "timepoint": 80,
           "trajectory": "traces_mean",
           "value": 3.029566450750876
          },
          {
           "sample_id": 0,
           "timepoint": 81,
           "trajectory": "traces_mean",
           "value": 3.085262043906509
          },
          {
           "sample_id": 0,
           "timepoint": 82,
           "trajectory": "traces_mean",
           "value": 3.103618425388033
          },
          {
           "sample_id": 0,
           "timepoint": 83,
           "trajectory": "traces_mean",
           "value": 3.149411281947657
          },
          {
           "sample_id": 0,
           "timepoint": 84,
           "trajectory": "traces_mean",
           "value": 3.225152292085544
          },
          {
           "sample_id": 0,
           "timepoint": 85,
           "trajectory": "traces_mean",
           "value": 3.1371834580834514
          },
          {
           "sample_id": 0,
           "timepoint": 86,
           "trajectory": "traces_mean",
           "value": 3.1759923890766526
          },
          {
           "sample_id": 0,
           "timepoint": 87,
           "trajectory": "traces_mean",
           "value": 3.155226699568046
          },
          {
           "sample_id": 0,
           "timepoint": 88,
           "trajectory": "traces_mean",
           "value": 3.2143776249763407
          },
          {
           "sample_id": 0,
           "timepoint": 89,
           "trajectory": "traces_mean",
           "value": 3.2138101820169296
          },
          {
           "sample_id": 0,
           "timepoint": 90,
           "trajectory": "traces_mean",
           "value": 3.29837728284205
          },
          {
           "sample_id": 0,
           "timepoint": 91,
           "trajectory": "traces_mean",
           "value": 3.259975524468581
          },
          {
           "sample_id": 0,
           "timepoint": 92,
           "trajectory": "traces_mean",
           "value": 3.2656013022082058
          },
          {
           "sample_id": 0,
           "timepoint": 93,
           "trajectory": "traces_mean",
           "value": 3.28025891914996
          },
          {
           "sample_id": 0,
           "timepoint": 94,
           "trajectory": "traces_mean",
           "value": 3.290072412453963
          },
          {
           "sample_id": 0,
           "timepoint": 95,
           "trajectory": "traces_mean",
           "value": 3.295026919062252
          },
          {
           "sample_id": 0,
           "timepoint": 96,
           "trajectory": "traces_mean",
           "value": 3.309560561195243
          },
          {
           "sample_id": 0,
           "timepoint": 97,
           "trajectory": "traces_mean",
           "value": 3.3015091759768964
          },
          {
           "sample_id": 0,
           "timepoint": 98,
           "trajectory": "traces_mean",
           "value": 3.3541640152207552
          },
          {
           "sample_id": 0,
           "timepoint": 99,
           "trajectory": "traces_mean",
           "value": 3.3092242379989294
          },
          {
           "sample_id": 0,
           "timepoint": 0,
           "trajectory": "traces_var",
           "value": -0.990478671186078
          },
          {
           "sample_id": 0,
           "timepoint": 1,
           "trajectory": "traces_var",
           "value": 0.1360968642862011
          },
          {
           "sample_id": 0,
           "timepoint": 2,
           "trajectory": "traces_var",
           "value": 0.3291959980406825
          },
          {
           "sample_id": 0,
           "timepoint": 3,
           "trajectory": "traces_var",
           "value": 0.424493533389106
          },
          {
           "sample_id": 0,
           "timepoint": 4,
           "trajectory": "traces_var",
           "value": 0.5040881529144119
          },
          {
           "sample_id": 0,
           "timepoint": 5,
           "trajectory": "traces_var",
           "value": 0.5885881594098038
          },
          {
           "sample_id": 0,
           "timepoint": 6,
           "trajectory": "traces_var",
           "value": 0.6472318915756978
          },
          {
           "sample_id": 0,
           "timepoint": 7,
           "trajectory": "traces_var",
           "value": 0.7046086912860082
          },
          {
           "sample_id": 0,
           "timepoint": 8,
           "trajectory": "traces_var",
           "value": 0.7633046972493825
          },
          {
           "sample_id": 0,
           "timepoint": 9,
           "trajectory": "traces_var",
           "value": 0.790204187624054
          },
          {
           "sample_id": 0,
           "timepoint": 10,
           "trajectory": "traces_var",
           "value": 0.7591288139322143
          },
          {
           "sample_id": 0,
           "timepoint": 11,
           "trajectory": "traces_var",
           "value": 0.8576106803098681
          },
          {
           "sample_id": 0,
           "timepoint": 12,
           "trajectory": "traces_var",
           "value": 0.8606740822943301
          },
          {
           "sample_id": 0,
           "timepoint": 13,
           "trajectory": "traces_var",
           "value": 0.90405872542556
          },
          {
           "sample_id": 0,
           "timepoint": 14,
           "trajectory": "traces_var",
           "value": 0.9225885099170232
          },
          {
           "sample_id": 0,
           "timepoint": 15,
           "trajectory": "traces_var",
           "value": 0.9376472601960392
          },
          {
           "sample_id": 0,
           "timepoint": 16,
           "trajectory": "traces_var",
           "value": 0.9405963265671932
          },
          {
           "sample_id": 0,
           "timepoint": 17,
           "trajectory": "traces_var",
           "value": 0.978457727214963
          },
          {
           "sample_id": 0,
           "timepoint": 18,
           "trajectory": "traces_var",
           "value": 0.9141381511023894
          },
          {
           "sample_id": 0,
           "timepoint": 19,
           "trajectory": "traces_var",
           "value": 1.0075461592181156
          },
          {
           "sample_id": 0,
           "timepoint": 20,
           "trajectory": "traces_var",
           "value": 1.0298110920583896
          },
          {
           "sample_id": 0,
           "timepoint": 21,
           "trajectory": "traces_var",
           "value": 1.0406816738239373
          },
          {
           "sample_id": 0,
           "timepoint": 22,
           "trajectory": "traces_var",
           "value": 1.0467539178034726
          },
          {
           "sample_id": 0,
           "timepoint": 23,
           "trajectory": "traces_var",
           "value": 0.9858179132549364
          },
          {
           "sample_id": 0,
           "timepoint": 24,
           "trajectory": "traces_var",
           "value": 1.079915016243085
          },
          {
           "sample_id": 0,
           "timepoint": 25,
           "trajectory": "traces_var",
           "value": 1.1233477661764062
          },
          {
           "sample_id": 0,
           "timepoint": 26,
           "trajectory": "traces_var",
           "value": 1.101026916067627
          },
          {
           "sample_id": 0,
           "timepoint": 27,
           "trajectory": "traces_var",
           "value": 1.1399069514031244
          },
          {
           "sample_id": 0,
           "timepoint": 28,
           "trajectory": "traces_var",
           "value": 1.1802781792215564
          },
          {
           "sample_id": 0,
           "timepoint": 29,
           "trajectory": "traces_var",
           "value": 1.152439608161683
          },
          {
           "sample_id": 0,
           "timepoint": 30,
           "trajectory": "traces_var",
           "value": 1.211969267180148
          },
          {
           "sample_id": 0,
           "timepoint": 31,
           "trajectory": "traces_var",
           "value": 1.175742727820816
          },
          {
           "sample_id": 0,
           "timepoint": 32,
           "trajectory": "traces_var",
           "value": 1.2432927540038667
          },
          {
           "sample_id": 0,
           "timepoint": 33,
           "trajectory": "traces_var",
           "value": 1.2238803061932275
          },
          {
           "sample_id": 0,
           "timepoint": 34,
           "trajectory": "traces_var",
           "value": 1.206845897085687
          },
          {
           "sample_id": 0,
           "timepoint": 35,
           "trajectory": "traces_var",
           "value": 1.2826946455555115
          },
          {
           "sample_id": 0,
           "timepoint": 36,
           "trajectory": "traces_var",
           "value": 1.2507176320735522
          },
          {
           "sample_id": 0,
           "timepoint": 37,
           "trajectory": "traces_var",
           "value": 1.2878129402254856
          },
          {
           "sample_id": 0,
           "timepoint": 38,
           "trajectory": "traces_var",
           "value": 1.1648941856296522
          },
          {
           "sample_id": 0,
           "timepoint": 39,
           "trajectory": "traces_var",
           "value": 1.3260015243991206
          },
          {
           "sample_id": 0,
           "timepoint": 40,
           "trajectory": "traces_var",
           "value": 1.3529310277357902
          },
          {
           "sample_id": 0,
           "timepoint": 41,
           "trajectory": "traces_var",
           "value": 1.3600222771605863
          },
          {
           "sample_id": 0,
           "timepoint": 42,
           "trajectory": "traces_var",
           "value": 1.3380142239287345
          },
          {
           "sample_id": 0,
           "timepoint": 43,
           "trajectory": "traces_var",
           "value": 1.473349199359184
          },
          {
           "sample_id": 0,
           "timepoint": 44,
           "trajectory": "traces_var",
           "value": 1.442761265761174
          },
          {
           "sample_id": 0,
           "timepoint": 45,
           "trajectory": "traces_var",
           "value": 1.4866948409153244
          },
          {
           "sample_id": 0,
           "timepoint": 46,
           "trajectory": "traces_var",
           "value": 1.3778667619949292
          },
          {
           "sample_id": 0,
           "timepoint": 47,
           "trajectory": "traces_var",
           "value": 1.5197914435628923
          },
          {
           "sample_id": 0,
           "timepoint": 48,
           "trajectory": "traces_var",
           "value": 1.5349032909534723
          },
          {
           "sample_id": 0,
           "timepoint": 49,
           "trajectory": "traces_var",
           "value": 1.579579838316311
          },
          {
           "sample_id": 0,
           "timepoint": 50,
           "trajectory": "traces_var",
           "value": 1.5954026379089197
          },
          {
           "sample_id": 0,
           "timepoint": 51,
           "trajectory": "traces_var",
           "value": 1.6488637657451608
          },
          {
           "sample_id": 0,
           "timepoint": 52,
           "trajectory": "traces_var",
           "value": 1.5756928941850177
          },
          {
           "sample_id": 0,
           "timepoint": 53,
           "trajectory": "traces_var",
           "value": 1.5487919337716358
          },
          {
           "sample_id": 0,
           "timepoint": 54,
           "trajectory": "traces_var",
           "value": 1.6865158459675584
          },
          {
           "sample_id": 0,
           "timepoint": 55,
           "trajectory": "traces_var",
           "value": 1.703563815597286
          },
          {
           "sample_id": 0,
           "timepoint": 56,
           "trajectory": "traces_var",
           "value": 1.740490223458342
          },
          {
           "sample_id": 0,
           "timepoint": 57,
           "trajectory": "traces_var",
           "value": 1.7551342553705027
          },
          {
           "sample_id": 0,
           "timepoint": 58,
           "trajectory": "traces_var",
           "value": 1.802061066673421
          },
          {
           "sample_id": 0,
           "timepoint": 59,
           "trajectory": "traces_var",
           "value": 1.833482343006074
          },
          {
           "sample_id": 0,
           "timepoint": 60,
           "trajectory": "traces_var",
           "value": 1.8487506381657948
          },
          {
           "sample_id": 0,
           "timepoint": 61,
           "trajectory": "traces_var",
           "value": 1.8307947449709228
          },
          {
           "sample_id": 0,
           "timepoint": 62,
           "trajectory": "traces_var",
           "value": 1.9217078076208445
          },
          {
           "sample_id": 0,
           "timepoint": 63,
           "trajectory": "traces_var",
           "value": 1.9311006958313133
          },
          {
           "sample_id": 0,
           "timepoint": 64,
           "trajectory": "traces_var",
           "value": 1.9203245803636888
          },
          {
           "sample_id": 0,
           "timepoint": 65,
           "trajectory": "traces_var",
           "value": 1.9634787014381652
          },
          {
           "sample_id": 0,
           "timepoint": 66,
           "trajectory": "traces_var",
           "value": 1.923653208077258
          },
          {
           "sample_id": 0,
           "timepoint": 67,
           "trajectory": "traces_var",
           "value": 1.9782501814519424
          },
          {
           "sample_id": 0,
           "timepoint": 68,
           "trajectory": "traces_var",
           "value": 2.008683379379811
          },
          {
           "sample_id": 0,
           "timepoint": 69,
           "trajectory": "traces_var",
           "value": 1.893271895878484
          },
          {
           "sample_id": 0,
           "timepoint": 70,
           "trajectory": "traces_var",
           "value": 2.0325493772675176
          },
          {
           "sample_id": 0,
           "timepoint": 71,
           "trajectory": "traces_var",
           "value": 2.0947162743837557
          },
          {
           "sample_id": 0,
           "timepoint": 72,
           "trajectory": "traces_var",
           "value": 2.0841924359571835
          },
          {
           "sample_id": 0,
           "timepoint": 73,
           "trajectory": "traces_var",
           "value": 2.0091455187452127
          },
          {
           "sample_id": 0,
           "timepoint": 74,
           "trajectory": "traces_var",
           "value": 2.108151236531895
          },
          {
           "sample_id": 0,
           "timepoint": 75,
           "trajectory": "traces_var",
           "value": 2.1222130281262706
          },
          {
           "sample_id": 0,
           "timepoint": 76,
           "trajectory": "traces_var",
           "value": 2.043649721248072
          },
          {
           "sample_id": 0,
           "timepoint": 77,
           "trajectory": "traces_var",
           "value": 2.127439121057124
          },
          {
           "sample_id": 0,
           "timepoint": 78,
           "trajectory": "traces_var",
           "value": 2.1373071869627265
          },
          {
           "sample_id": 0,
           "timepoint": 79,
           "trajectory": "traces_var",
           "value": 2.151226214770367
          },
          {
           "sample_id": 0,
           "timepoint": 80,
           "trajectory": "traces_var",
           "value": 2.115398317632682
          },
          {
           "sample_id": 0,
           "timepoint": 81,
           "trajectory": "traces_var",
           "value": 2.1599675024066327
          },
          {
           "sample_id": 0,
           "timepoint": 82,
           "trajectory": "traces_var",
           "value": 2.153593760848726
          },
          {
           "sample_id": 0,
           "timepoint": 83,
           "trajectory": "traces_var",
           "value": 2.1222210035801434
          },
          {
           "sample_id": 0,
           "timepoint": 84,
           "trajectory": "traces_var",
           "value": 2.021907098148189
          },
          {
           "sample_id": 0,
           "timepoint": 85,
           "trajectory": "traces_var",
           "value": 2.1630571280953084
          },
          {
           "sample_id": 0,
           "timepoint": 86,
           "trajectory": "traces_var",
           "value": 2.1753311862621283
          },
          {
           "sample_id": 0,
           "timepoint": 87,
           "trajectory": "traces_var",
           "value": 2.17434576167576
          },
          {
           "sample_id": 0,
           "timepoint": 88,
           "trajectory": "traces_var",
           "value": 2.175717770227311
          },
          {
           "sample_id": 0,
           "timepoint": 89,
           "trajectory": "traces_var",
           "value": 2.1527760021551443
          },
          {
           "sample_id": 0,
           "timepoint": 90,
           "trajectory": "traces_var",
           "value": 2.1507230930144146
          },
          {
           "sample_id": 0,
           "timepoint": 91,
           "trajectory": "traces_var",
           "value": 2.1469212120869057
          },
          {
           "sample_id": 0,
           "timepoint": 92,
           "trajectory": "traces_var",
           "value": 2.157500086231638
          },
          {
           "sample_id": 0,
           "timepoint": 93,
           "trajectory": "traces_var",
           "value": 2.156396886172098
          },
          {
           "sample_id": 0,
           "timepoint": 94,
           "trajectory": "traces_var",
           "value": 2.1483340146618466
          },
          {
           "sample_id": 0,
           "timepoint": 95,
           "trajectory": "traces_var",
           "value": 2.09525247845322
          },
          {
           "sample_id": 0,
           "timepoint": 96,
           "trajectory": "traces_var",
           "value": 2.1414258750166137
          },
          {
           "sample_id": 0,
           "timepoint": 97,
           "trajectory": "traces_var",
           "value": 2.1130863144455163
          },
          {
           "sample_id": 0,
           "timepoint": 98,
           "trajectory": "traces_var",
           "value": 2.1407335075214573
          },
          {
           "sample_id": 0,
           "timepoint": 99,
           "trajectory": "traces_var",
           "value": 2.0428141726301234
          },
          {
           "sample_id": 0,
           "timepoint": 0,
           "trajectory": "traces_granger",
           "value": 0.000314952379138
          },
          {
           "sample_id": 0,
           "timepoint": 1,
           "trajectory": "traces_granger",
           "value": 1.0817795780643489
          },
          {
           "sample_id": 0,
           "timepoint": 2,
           "trajectory": "traces_granger",
           "value": 1.296728000116987
          },
          {
           "sample_id": 0,
           "timepoint": 3,
           "trajectory": "traces_granger",
           "value": 1.5333064049668068
          },
          {
           "sample_id": 0,
           "timepoint": 4,
           "trajectory": "traces_granger",
           "value": 1.6884892645725351
          },
          {
           "sample_id": 0,
           "timepoint": 5,
           "trajectory": "traces_granger",
           "value": 1.7501361492110137
          },
          {
           "sample_id": 0,
           "timepoint": 6,
           "trajectory": "traces_granger",
           "value": 1.9840100367070832
          },
          {
           "sample_id": 0,
           "timepoint": 7,
           "trajectory": "traces_granger",
           "value": 2.1496263452112028
          },
          {
           "sample_id": 0,
           "timepoint": 8,
           "trajectory": "traces_granger",
           "value": 2.224358841970065
          },
          {
           "sample_id": 0,
           "timepoint": 9,
           "trajectory": "traces_granger",
           "value": 2.2949148023919066
          },
          {
           "sample_id": 0,
           "timepoint": 10,
           "trajectory": "traces_granger",
           "value": 2.3357820273234786
          },
          {
           "sample_id": 0,
           "timepoint": 11,
           "trajectory": "traces_granger",
           "value": 2.504261556285828
          },
          {
           "sample_id": 0,
           "timepoint": 12,
           "trajectory": "traces_granger",
           "value": 2.5724094743404198
          },
          {
           "sample_id": 0,
           "timepoint": 13,
           "trajectory": "traces_granger",
           "value": 2.631924232994656
          },
          {
           "sample_id": 0,
           "timepoint": 14,
           "trajectory": "traces_granger",
           "value": 2.76556278528891
          },
          {
           "sample_id": 0,
           "timepoint": 15,
           "trajectory": "traces_granger",
           "value": 2.7753432228371184
          },
          {
           "sample_id": 0,
           "timepoint": 16,
           "trajectory": "traces_granger",
           "value": 2.7786681249369694
          },
          {
           "sample_id": 0,
           "timepoint": 17,
           "trajectory": "traces_granger",
           "value": 2.9108698226640186
          },
          {
           "sample_id": 0,
           "timepoint": 18,
           "trajectory": "traces_granger",
           "value": 2.858880780784532
          },
          {
           "sample_id": 0,
           "timepoint": 19,
           "trajectory": "traces_granger",
           "value": 2.898057733646619
          },
          {
           "sample_id": 0,
           "timepoint": 20,
           "trajectory": "traces_granger",
           "value": 2.911390373845213
          },
          {
           "sample_id": 0,
           "timepoint": 21,
           "trajectory": "traces_granger",
           "value": 2.891943291710057
          },
          {
           "sample_id": 0,
           "timepoint": 22,
           "trajectory": "traces_granger",
           "value": 2.91984390409537
          },
          {
           "sample_id": 0,
           "timepoint": 23,
           "trajectory": "traces_granger",
           "value": 2.93451334158601
          },
          {
           "sample_id": 0,
           "timepoint": 24,
           "trajectory": "traces_granger",
           "value": 2.8972842540525217
          },
          {
           "sample_id": 0,
           "timepoint": 25,
           "trajectory": "traces_granger",
           "value": 2.87775068817694
          },
          {
           "sample_id": 0,
           "timepoint": 26,
           "trajectory": "traces_granger",
           "value": 2.861710607816434
          },
          {
           "sample_id": 0,
           "timepoint": 27,
           "trajectory": "traces_granger",
           "value": 2.816956763247436
          },
          {
           "sample_id": 0,
           "timepoint": 28,
           "trajectory": "traces_granger",
           "value": 2.818921461785873
          },
          {
           "sample_id": 0,
           "timepoint": 29,
           "trajectory": "traces_granger",
           "value": 2.6959439710095694
          },
          {
           "sample_id": 0,
           "timepoint": 30,
           "trajectory": "traces_granger",
           "value": 2.704294519353991
          },
          {
           "sample_id": 0,
           "timepoint": 31,
           "trajectory": "traces_granger",
           "value": 2.622496085854379
          },
          {
           "sample_id": 0,
           "timepoint": 32,
           "trajectory": "traces_granger",
           "value": 2.590648407185598
          },
          {
           "sample_id": 0,
           "timepoint": 33,
           "trajectory": "traces_granger",
           "value": 2.537037129616872
          },
          {
           "sample_id": 0,
           "timepoint": 34,
           "trajectory": "traces_granger",
           "value": 2.4744407951493743
          },
          {
           "sample_id": 0,
           "timepoint": 35,
           "trajectory": "traces_granger",
           "value": 2.4082004632184657
          },
          {
           "sample_id": 0,
           "timepoint": 36,
           "trajectory": "traces_granger",
           "value": 2.3599358595226416
          },
          {
           "sample_id": 0,
           "timepoint": 37,
           "trajectory": "traces_granger",
           "value": 2.318302960078704
          },
          {
           "sample_id": 0,
           "timepoint": 38,
           "trajectory": "traces_granger",
           "value": 2.232987202021511
          },
          {
           "sample_id": 0,
           "timepoint": 39,
           "trajectory": "traces_granger",
           "value": 2.165985813711504
          },
          {
           "sample_id": 0,
           "timepoint": 40,
           "trajectory": "traces_granger",
           "value": 2.145380700419197
          },
          {
           "sample_id": 0,
           "timepoint": 41,
           "trajectory": "traces_granger",
           "value": 2.102593521122018
          },
          {
           "sample_id": 0,
           "timepoint": 42,
           "trajectory": "traces_granger",
           "value": 2.030847601273106
          },
          {
           "sample_id": 0,
           "timepoint": 43,
           "trajectory": "traces_granger",
           "value": 1.999827495816515
          },
          {
           "sample_id": 0,
           "timepoint": 44,
           "trajectory": "traces_granger",
           "value": 1.95103971576743
          },
          {
           "sample_id": 0,
           "timepoint": 45,
           "trajectory": "traces_granger",
           "value": 1.952160761018808
          },
          {
           "sample_id": 0,
           "timepoint": 46,
           "trajectory": "traces_granger",
           "value": 1.891600092155276
          },
          {
           "sample_id": 0,
           "timepoint": 47,
           "trajectory": "traces_granger",
           "value": 1.8535305873417196
          },
          {
           "sample_id": 0,
           "timepoint": 48,
           "trajectory": "traces_granger",
           "value": 1.8180296696697595
          },
          {
           "sample_id": 0,
           "timepoint": 49,
           "trajectory": "traces_granger",
           "value": 1.837386776855913
          },
          {
           "sample_id": 0,
           "timepoint": 50,
           "trajectory": "traces_granger",
           "value": 1.8109906139032208
          },
          {
           "sample_id": 0,
           "timepoint": 51,
           "trajectory": "traces_granger",
           "value": 1.7407084259148302
          },
          {
           "sample_id": 0,
           "timepoint": 52,
           "trajectory": "traces_granger",
           "value": 1.7993113433657577
          },
          {
           "sample_id": 0,
           "timepoint": 53,
           "trajectory": "traces_granger",
           "value": 1.9448160198389617
          },
          {
           "sample_id": 0,
           "timepoint": 54,
           "trajectory": "traces_granger",
           "value": 1.811659123773504
          },
          {
           "sample_id": 0,
           "timepoint": 55,
           "trajectory": "traces_granger",
           "value": 1.829429212203812
          },
          {
           "sample_id": 0,
           "timepoint": 56,
           "trajectory": "traces_granger",
           "value": 1.8725651488905235
          },
          {
           "sample_id": 0,
           "timepoint": 57,
           "trajectory": "traces_granger",
           "value": 1.9087690527306835
          },
          {
           "sample_id": 0,
           "timepoint": 58,
           "trajectory": "traces_granger",
           "value": 1.9380355154614055
          },
          {
           "sample_id": 0,
           "timepoint": 59,
           "trajectory": "traces_granger",
           "value": 1.995745657640609
          },
          {
           "sample_id": 0,
           "timepoint": 60,
           "trajectory": "traces_granger",
           "value": 2.183164329593871
          },
          {
           "sample_id": 0,
           "timepoint": 61,
           "trajectory": "traces_granger",
           "value": 2.0789495851687025
          },
          {
           "sample_id": 0,
           "timepoint": 62,
           "trajectory": "traces_granger",
           "value": 2.164673652122789
          },
          {
           "sample_id": 0,
           "timepoint": 63,
           "trajectory": "traces_granger",
           "value": 2.2423417455915424
          },
          {
           "sample_id": 0,
           "timepoint": 64,
           "trajectory": "traces_granger",
           "value": 2.303549387847236
          },
          {
           "sample_id": 0,
           "timepoint": 65,
           "trajectory": "traces_granger",
           "value": 2.371088231008822
          },
          {
           "sample_id": 0,
           "timepoint": 66,
           "trajectory": "traces_granger",
           "value": 2.465471426720645
          },
          {
           "sample_id": 0,
           "timepoint": 67,
           "trajectory": "traces_granger",
           "value": 2.517067884527194
          },
          {
           "sample_id": 0,
           "timepoint": 68,
           "trajectory": "traces_granger",
           "value": 2.616169190105409
          },
          {
           "sample_id": 0,
           "timepoint": 69,
           "trajectory": "traces_granger",
           "value": 2.698270570967259
          },
          {
           "sample_id": 0,
           "timepoint": 70,
           "trajectory": "traces_granger",
           "value": 2.7906551621924907
          },
          {
           "sample_id": 0,
           "timepoint": 71,
           "trajectory": "traces_granger",
           "value": 2.9351567589464502
          },
          {
           "sample_id": 0,
           "timepoint": 72,
           "trajectory": "traces_granger",
           "value": 2.956481391468648
          },
          {
           "sample_id": 0,
           "timepoint": 73,
           "trajectory": "traces_granger",
           "value": 3.1144990051085544
          },
          {
           "sample_id": 0,
           "timepoint": 74,
           "trajectory": "traces_granger",
           "value": 3.1141383533340745
          },
          {
           "sample_id": 0,
           "timepoint": 75,
           "trajectory": "traces_granger",
           "value": 3.203167281452316
          },
          {
           "sample_id": 0,
           "timepoint": 76,
           "trajectory": "traces_granger",
           "value": 3.2596936827352825
          },
          {
           "sample_id": 0,
           "timepoint": 77,
           "trajectory": "traces_granger",
           "value": 3.3551887140281
          },
          {
           "sample_id": 0,
           "timepoint": 78,
           "trajectory": "traces_granger",
           "value": 3.426415968901342
          },
          {
           "sample_id": 0,
           "timepoint": 79,
           "trajectory": "traces_granger",
           "value": 3.492968221050995
          },
          {
           "sample_id": 0,
           "timepoint": 80,
           "trajectory": "traces_granger",
           "value": 3.5823995865680063
          },
          {
           "sample_id": 0,
           "timepoint": 81,
           "trajectory": "traces_granger",
           "value": 3.60438042402336
          },
          {
           "sample_id": 0,
           "timepoint": 82,
           "trajectory": "traces_granger",
           "value": 3.699710609776431
          },
          {
           "sample_id": 0,
           "timepoint": 83,
           "trajectory": "traces_granger",
           "value": 3.720685684066592
          },
          {
           "sample_id": 0,
           "timepoint": 84,
           "trajectory": "traces_granger",
           "value": 3.767175551407193
          },
          {
           "sample_id": 0,
           "timepoint": 85,
           "trajectory": "traces_granger",
           "value": 3.8563789755628712
          },
          {
           "sample_id": 0,
           "timepoint": 86,
           "trajectory": "traces_granger",
           "value": 3.838960756984804
          },
          {
           "sample_id": 0,
           "timepoint": 87,
           "trajectory": "traces_granger",
           "value": 3.844727736497023
          },
          {
           "sample_id": 0,
           "timepoint": 88,
           "trajectory": "traces_granger",
           "value": 3.872229950589889
          },
          {
           "sample_id": 0,
           "timepoint": 89,
           "trajectory": "traces_granger",
           "value": 3.897327220746592
          },
          {
           "sample_id": 0,
           "timepoint": 90,
           "trajectory": "traces_granger",
           "value": 3.859995814918669
          },
          {
           "sample_id": 0,
           "timepoint": 91,
           "trajectory": "traces_granger",
           "value": 3.920459283065117
          },
          {
           "sample_id": 0,
           "timepoint": 92,
           "trajectory": "traces_granger",
           "value": 3.944207211351984
          },
          {
           "sample_id": 0,
           "timepoint": 93,
           "trajectory": "traces_granger",
           "value": 3.866552317155844
          },
          {
           "sample_id": 0,
           "timepoint": 94,
           "trajectory": "traces_granger",
           "value": 3.954597637534128
          },
          {
           "sample_id": 0,
           "timepoint": 95,
           "trajectory": "traces_granger",
           "value": 3.818224593593391
          },
          {
           "sample_id": 0,
           "timepoint": 96,
           "trajectory": "traces_granger",
           "value": 3.7856737814067634
          },
          {
           "sample_id": 0,
           "timepoint": 97,
           "trajectory": "traces_granger",
           "value": 3.748347067282644
          },
          {
           "sample_id": 0,
           "timepoint": 98,
           "trajectory": "traces_granger",
           "value": 3.714562159214347
          },
          {
           "sample_id": 0,
           "timepoint": 99,
           "trajectory": "traces_granger",
           "value": 3.668248466174894
          }
         ]
        },
        {
         "name": "points",
         "values": []
        },
        {
         "name": "markers",
         "values": []
        },
        {
         "name": "selected",
         "on": [
          {
           "remove": true,
           "trigger": "clear"
          },
          {
           "remove": true,
           "trigger": "!shift"
          },
          {
           "insert": "clicked",
           "trigger": "!shift && clicked"
          },
          {
           "toggle": "clicked",
           "trigger": "shift && clicked"
          }
         ]
        },
        {
         "name": "selectedData",
         "on": [
          {
           "remove": true,
           "trigger": "clearData"
          },
          {
           "toggle": "clickedData",
           "trigger": "clickedData"
          }
         ]
        }
       ],
       "height": 300,
       "legends": [
        {
         "encode": {
          "labels": {
           "interactive": true,
           "name": "legendLabel",
           "update": {
            "opacity": [
             {
              "test": "!length(data('selectedData')) || indata('selectedData', 'value', datum.value)",
              "value": 1
             },
             {
              "value": 0.25
             }
            ]
           }
          },
          "symbols": {
           "interactive": true,
           "name": "legendSymbol",
           "update": {
            "fill": {
             "value": "transparent"
            },
            "opacity": [
             {
              "test": "!length(data('selected')) || indata('selected', 'value', datum.value) || indata('selectedData', 'value', datum.value)",
              "value": 0.7
             },
             {
              "value": 0.15
             }
            ],
            "size": {
             "value": 64
            },
            "strokeWidth": {
             "value": 2
            }
           }
          }
         },
         "name": "color_legend",
         "stroke": "color"
        }
       ],
       "marks": [
        {
         "from": {
          "facet": {
           "data": "points",
           "groupby": "trajectory",
           "name": "points_split"
          }
         },
         "marks": [
          {
           "encode": {
            "hover": {
             "fillOpacity": {
              "value": 0.9
             }
            },
            "update": {
             "fill": {
              "field": "trajectory",
              "scale": "color"
             },
             "fillOpacity": [
              {
               "test": "!length(data('selected')) || indata('selected', 'value', datum.trajectory)",
               "value": 0.5
              },
              {
               "value": 0.15
              }
             ],
             "size": {
              "value": 35
             },
             "stroke": {
              "field": "trajectory",
              "scale": "color"
             },
             "strokeOpacity": [
              {
               "test": "!length(data('selected')) || indata('selected', 'value', datum.trajectory)",
               "value": 0.75
              },
              {
               "value": 0.15
              }
             ],
             "strokeWidth": {
              "value": 2
             },
             "tooltip": {
              "field": "value"
             },
             "x": {
              "field": "timepoint",
              "scale": "xscale"
             },
             "y": {
              "field": "value",
              "scale": "yscale"
             }
            }
           },
           "from": {
            "data": "points_split"
           },
           "name": "_points_symbol",
           "type": "symbol",
           "zindex": 3
          },
          {
           "encode": {
            "hover": {
             "fillOpacity": {
              "value": 0.9
             }
            },
            "update": {
             "interpolate": {
              "value": "linear"
             },
             "stroke": {
              "field": "trajectory",
              "scale": "color"
             },
             "strokeDash": {
              "value": [
               5,
               3
              ]
             },
             "strokeOpacity": [
              {
               "test": "!length(data('selected')) || indata('selected', 'value', datum.trajectory)",
               "value": 0.3
              },
              {
               "value": 0.1
              }
             ],
             "strokeWidth": {
              "value": 2
             },
             "x": {
              "field": "timepoint",
              "scale": "xscale"
             },
             "y": {
              "field": "value",
              "scale": "yscale"
             }
            }
           },
           "from": {
            "data": "points_split"
           },
           "name": "_points_line",
           "type": "line",
           "zindex": 3
          }
         ],
         "name": "_points",
         "type": "group",
         "zindex": 3
        },
        {
         "from": {
          "facet": {
           "data": "traces",
           "groupby": "trajectory",
           "name": "traces_split"
          }
         },
         "marks": [
          {
           "encode": {
            "hover": {
             "fillOpacity": {
              "value": 0.9
             }
            },
            "update": {
             "interpolate": {
              "value": "linear"
             },
             "stroke": {
              "field": "trajectory",
              "scale": "color"
             },
             "strokeOpacity": [
              {
               "test": "!length(data('selected')) || indata('selected', 'value', datum.trajectory)",
               "value": 0.75
              },
              {
               "value": 0.15
              }
             ],
             "strokeWidth": {
              "value": 2
             },
             "x": {
              "field": "timepoint",
              "scale": "xscale"
             },
             "y": {
              "field": "value",
              "scale": "yscale"
             }
            }
           },
           "from": {
            "data": "traces_split"
           },
           "name": "_traces_lines",
           "type": "line"
          }
         ],
         "name": "_traces",
         "type": "group",
         "zindex": 2
        },
        {
         "from": {
          "facet": {
           "data": "distributions",
           "groupby": "trajectory",
           "name": "trajectory_split"
          }
         },
         "marks": [
          {
           "encode": {
            "hover": {
             "fillOpacity": {
              "value": 0.9
             }
            },
            "update": {
             "fill": {
              "field": "trajectory",
              "scale": "color"
             },
             "fillOpacity": [
              {
               "test": "!length(data('selected')) || indata('selected', 'value', datum.trajectory)",
               "value": 0.5
              },
              {
               "value": 0.15
              }
             ],
             "interpolate": {
              "value": "linear"
             },
             "stroke": {
              "field": "trajectory",
              "scale": "color"
             },
             "strokeOpacity": [
              {
               "test": "!length(data('selected')) || indata('selected', 'value', datum.trajectory)",
               "value": 0.75
              },
              {
               "value": 0.15
              }
             ],
             "strokeWidth": {
              "value": 2
             },
             "x": {
              "field": "timepoint",
              "scale": "xscale"
             },
             "y": {
              "field": "upper",
              "scale": "yscale"
             },
             "y2": {
              "field": "lower",
              "scale": "yscale"
             }
            }
           },
           "from": {
            "data": "trajectory_split"
           },
           "interactive": true,
           "name": "area",
           "type": "area"
          }
         ],
         "name": "_distributions",
         "type": "group",
         "zindex": 1
        },
        {
         "marks": [
          {
           "encode": {
            "enter": {
             "stroke": {
              "value": "lightgray"
             }
            },
            "update": {
             "opacity": {
              "value": 1
             },
             "x": {
              "field": "timepoint",
              "scale": "xscale"
             },
             "y": {
              "signal": "height"
             },
             "y2": {
              "value": 0
             }
            }
           },
           "from": {
            "data": "markers"
           },
           "name": "_marker text",
           "type": "rule"
          },
          {
           "encode": {
            "enter": {
             "fontSize": {
              "value": 8
             },
             "text": {
              "field": "datum.label"
             },
             "y": {
              "value": 0
             }
            }
           },
           "from": {
            "data": "_marker text"
           },
           "name": "_marker flags",
           "transform": [
            {
             "as": [
              "x",
              "_y",
              "opacity",
              "align",
              "baseline"
             ],
             "lineAnchor": "start",
             "offset": [
              1
             ],
             "size": {
              "signal": "[width, height]"
             },
             "type": "label"
            }
           ],
           "type": "text"
          }
         ],
         "name": "_markers",
         "type": "group"
        }
       ],
       "scales": [
        {
         "domain": {
          "fields": [
           {
            "data": "distributions",
            "field": "timepoint"
           },
           {
            "data": "traces",
            "field": "timepoint"
           },
           {
            "data": "points",
            "field": "timepoint"
           },
           {
            "data": "markers",
            "field": "timepoint"
           }
          ]
         },
         "name": "xscale",
         "range": "width",
         "type": "linear",
         "zero": false
        },
        {
         "domain": {
          "fields": [
           {
            "data": "distributions",
            "field": "lower"
           },
           {
            "data": "distributions",
            "field": "upper"
           },
           {
            "data": "traces",
            "field": "value"
           },
           {
            "data": "points",
            "field": "value"
           }
          ]
         },
         "name": "yscale",
         "nice": true,
         "range": "height",
         "type": "linear",
         "zero": true
        },
        {
         "domain": {
          "fields": [
           {
            "data": "distributions",
            "field": "trajectory"
           },
           {
            "data": "traces",
            "field": "trajectory"
           },
           {
            "data": "points",
            "field": "trajectory"
           }
          ],
          "sort": {
           "order": "ascending"
          }
         },
         "name": "color",
         "range": "category",
         "type": "ordinal"
        }
       ],
       "signals": [
        {
         "name": "clear",
         "on": [
          {
           "events": "mouseup[!event.item]",
           "force": true,
           "update": "true"
          }
         ],
         "value": true
        },
        {
         "name": "shift",
         "on": [
          {
           "events": "@legendSymbol:click, @legendLabel:click",
           "force": true,
           "update": "event.shiftKey"
          }
         ],
         "value": false
        },
        {
         "name": "clicked",
         "on": [
          {
           "events": "@legendSymbol:click, @legendLabel:click",
           "force": true,
           "update": "{value: datum.value}"
          }
         ],
         "value": null
        },
        {
         "name": "clearData",
         "on": [
          {
           "events": "mouseup[!event.item]",
           "force": true,
           "update": "true"
          }
         ],
         "value": true
        },
        {
         "name": "clickedData",
         "on": [
          {
           "events": "@area:click",
           "force": true,
           "update": "{value: datum.trajectory}"
          }
         ],
         "value": null
        }
       ],
       "width": 500
      }
     },
     "metadata": {},
     "output_type": "display_data"
    }
   ],
   "source": [
    "#'timepoint_id', 'sample_id'\n",
    "sin_distribution = pd.read_csv(\"paper_sin/paper_sin_new_df.csv\")\n",
    "sin_distribution = sin_distribution.rename(\n",
    "            columns={\n",
    "                'Unnamed: 0': \"timepoint_id\",\n",
    "            }\n",
    "        )\n",
    "sin_distribution = sin_distribution.melt(id_vars=[\"timepoint_id\"], \n",
    "        var_name=\"sample_id\", \n",
    "        value_name=\"same_stat_state\")\n",
    "\n",
    "\n",
    "traces = pyciemss.visuals.trajectories.select_traces(sin_distribution, select_by = \"mean\")\n",
    "traces = traces.rename(\n",
    "            columns={\n",
    "                'same_stat_state': \"traces_mean\",\n",
    "            }\n",
    "        )\n",
    "traces['traces_var'] = pyciemss.visuals.trajectories.select_traces(sin_distribution, select_by = \"var\")[\"same_stat_state\"]\n",
    "traces['traces_granger'] = pyciemss.visuals.trajectories.select_traces(sin_distribution, select_by = \"granger\")[\"same_stat_state\"]\n",
    "schema = plots.trajectories(sin_distribution, traces = traces)\n",
    "print(traces_var)\n",
    "plots.save_schema(schema, \"_schema.json\")\n",
    "\n",
    "plots.ipy_display(schema, format=\"interactive\")\n",
    "image = plots.ipy_display(schema, format=\"PNG\").data\n",
    "save_result(image, \"paper_sin\", \"png\")"
   ]
  },
  {
   "cell_type": "code",
   "execution_count": 121,
   "metadata": {},
   "outputs": [
    {
     "name": "stdout",
     "output_type": "stream",
     "text": [
      "\n",
      "Granger Causality\n",
      "number of lags (no zero) 10\n",
      "ssr based F test:         F=-7.8988 , p=1.0000  , df_denom=79, df_num=10\n",
      "ssr based chi2 test:   chi2=-89.9865, p=1.0000  , df=10\n",
      "likelihood ratio test: chi2=-792.3666, p=1.0000  , df=10\n",
      "parameter F test:         F=9832.5499, p=0.0000  , df_denom=79, df_num=6\n",
      "\n",
      "Granger Causality\n",
      "number of lags (no zero) 10\n",
      "ssr based F test:         F=-7.8986 , p=1.0000  , df_denom=79, df_num=10\n",
      "ssr based chi2 test:   chi2=-89.9844, p=1.0000  , df=10\n",
      "likelihood ratio test: chi2=-779.4979, p=1.0000  , df=10\n",
      "parameter F test:         F=11157.7647, p=0.0000  , df_denom=79, df_num=6\n",
      "\n",
      "Granger Causality\n",
      "number of lags (no zero) 10\n",
      "ssr based F test:         F=-7.1956 , p=1.0000  , df_denom=79, df_num=10\n",
      "ssr based chi2 test:   chi2=-81.9749, p=1.0000  , df=10\n",
      "likelihood ratio test: chi2=-217.5511, p=1.0000  , df=10\n",
      "parameter F test:         F=5832969.5496, p=0.0000  , df_denom=79, df_num=6\n",
      "\n",
      "Granger Causality\n",
      "number of lags (no zero) 10\n",
      "ssr based F test:         F=-7.8954 , p=1.0000  , df_denom=79, df_num=10\n",
      "ssr based chi2 test:   chi2=-89.9471, p=1.0000  , df=10\n",
      "likelihood ratio test: chi2=-669.4455, p=1.0000  , df=10\n",
      "parameter F test:         F=38419.4781, p=0.0000  , df_denom=79, df_num=6\n",
      "\n",
      "Granger Causality\n",
      "number of lags (no zero) 10\n",
      "ssr based F test:         F=-7.0081 , p=1.0000  , df_denom=79, df_num=10\n",
      "ssr based chi2 test:   chi2=-79.8391, p=1.0000  , df=10\n",
      "likelihood ratio test: chi2=-196.3140, p=1.0000  , df=10\n",
      "parameter F test:         F=7352486.2257, p=0.0000  , df_denom=79, df_num=6\n",
      "\n",
      "Granger Causality\n",
      "number of lags (no zero) 10\n",
      "ssr based F test:         F=-7.8299 , p=1.0000  , df_denom=79, df_num=10\n",
      "ssr based chi2 test:   chi2=-89.2018, p=1.0000  , df=10\n",
      "likelihood ratio test: chi2=-425.2682, p=1.0000  , df=10\n",
      "parameter F test:         F=585936.3919, p=0.0000  , df_denom=79, df_num=6\n",
      "\n",
      "Granger Causality\n",
      "number of lags (no zero) 10\n",
      "ssr based F test:         F=-7.8917 , p=1.0000  , df_denom=79, df_num=10\n",
      "ssr based chi2 test:   chi2=-89.9055, p=1.0000  , df=10\n",
      "likelihood ratio test: chi2=-617.3006, p=1.0000  , df=10\n",
      "parameter F test:         F=68711.8970, p=0.0000  , df_denom=79, df_num=6\n",
      "\n",
      "Granger Causality\n",
      "number of lags (no zero) 10\n",
      "ssr based F test:         F=-7.8986 , p=1.0000  , df_denom=79, df_num=10\n",
      "ssr based chi2 test:   chi2=-89.9835, p=1.0000  , df=10\n",
      "likelihood ratio test: chi2=-774.4186, p=1.0000  , df=10\n",
      "parameter F test:         F=11877.9506, p=0.0000  , df_denom=79, df_num=6\n",
      "\n",
      "Granger Causality\n",
      "number of lags (no zero) 10\n",
      "ssr based F test:         F=-7.8683 , p=1.0000  , df_denom=79, df_num=10\n",
      "ssr based chi2 test:   chi2=-89.6390, p=1.0000  , df=10\n",
      "likelihood ratio test: chi2=-496.6730, p=1.0000  , df=10\n",
      "parameter F test:         F=264872.7016, p=0.0000  , df_denom=79, df_num=6\n",
      "\n",
      "Granger Causality\n",
      "number of lags (no zero) 10\n",
      "ssr based F test:         F=-7.7357 , p=1.0000  , df_denom=79, df_num=10\n",
      "ssr based chi2 test:   chi2=-88.1277, p=1.0000  , df=10\n",
      "likelihood ratio test: chi2=-348.5391, p=1.0000  , df=10\n",
      "parameter F test:         F=1350920.2818, p=0.0000  , df_denom=79, df_num=6\n",
      "\n",
      "Granger Causality\n",
      "number of lags (no zero) 10\n",
      "ssr based F test:         F=-7.8988 , p=1.0000  , df_denom=79, df_num=10\n",
      "ssr based chi2 test:   chi2=-89.9864, p=1.0000  , df=10\n",
      "likelihood ratio test: chi2=-791.5124, p=1.0000  , df=10\n",
      "parameter F test:         F=9943.3997, p=0.0000  , df_denom=79, df_num=6\n",
      "\n",
      "Granger Causality\n",
      "number of lags (no zero) 10\n",
      "ssr based F test:         F=-7.8690 , p=1.0000  , df_denom=79, df_num=10\n",
      "ssr based chi2 test:   chi2=-89.6472, p=1.0000  , df=10\n",
      "likelihood ratio test: chi2=-498.7419, p=1.0000  , df=10\n",
      "parameter F test:         F=256017.7175, p=0.0000  , df_denom=79, df_num=6\n",
      "\n",
      "Granger Causality\n",
      "number of lags (no zero) 10\n",
      "ssr based F test:         F=-7.8220 , p=1.0000  , df_denom=79, df_num=10\n",
      "ssr based chi2 test:   chi2=-89.1118, p=1.0000  , df=10\n",
      "likelihood ratio test: chi2=-415.6530, p=1.0000  , df=10\n",
      "parameter F test:         F=644554.9546, p=0.0000  , df_denom=79, df_num=6\n",
      "\n",
      "Granger Causality\n",
      "number of lags (no zero) 10\n",
      "ssr based F test:         F=-7.8993 , p=1.0000  , df_denom=79, df_num=10\n",
      "ssr based chi2 test:   chi2=-89.9922, p=1.0000  , df=10\n",
      "likelihood ratio test: chi2=-842.1999, p=1.0000  , df=10\n",
      "parameter F test:         F=5642.0841, p=0.0000  , df_denom=79, df_num=6\n",
      "\n",
      "Granger Causality\n",
      "number of lags (no zero) 10\n",
      "ssr based F test:         F=-7.8982 , p=1.0000  , df_denom=79, df_num=10\n",
      "ssr based chi2 test:   chi2=-89.9798, p=1.0000  , df=10\n",
      "likelihood ratio test: chi2=-755.9570, p=1.0000  , df=10\n",
      "parameter F test:         F=14591.8147, p=0.0000  , df_denom=79, df_num=6\n",
      "\n",
      "Granger Causality\n",
      "number of lags (no zero) 10\n",
      "ssr based F test:         F=-7.7447 , p=1.0000  , df_denom=79, df_num=10\n",
      "ssr based chi2 test:   chi2=-88.2309, p=1.0000  , df=10\n",
      "likelihood ratio test: chi2=-353.6395, p=1.0000  , df=10\n",
      "parameter F test:         F=1275443.2450, p=0.0000  , df_denom=79, df_num=6\n",
      "\n",
      "Granger Causality\n",
      "number of lags (no zero) 10\n",
      "ssr based F test:         F=-7.8966 , p=1.0000  , df_denom=79, df_num=10\n",
      "ssr based chi2 test:   chi2=-89.9613, p=1.0000  , df=10\n",
      "likelihood ratio test: chi2=-697.6097, p=1.0000  , df=10\n",
      "parameter F test:         F=28200.5735, p=0.0000  , df_denom=79, df_num=6\n",
      "\n",
      "Granger Causality\n",
      "number of lags (no zero) 10\n",
      "ssr based F test:         F=-7.8996 , p=1.0000  , df_denom=79, df_num=10\n",
      "ssr based chi2 test:   chi2=-89.9952, p=1.0000  , df=10\n",
      "likelihood ratio test: chi2=-885.0585, p=1.0000  , df=10\n",
      "parameter F test:         F=3505.5855, p=0.0000  , df_denom=79, df_num=6\n",
      "\n",
      "Granger Causality\n",
      "number of lags (no zero) 10\n",
      "ssr based F test:         F=-7.8980 , p=1.0000  , df_denom=79, df_num=10\n",
      "ssr based chi2 test:   chi2=-89.9772, p=1.0000  , df=10\n",
      "likelihood ratio test: chi2=-745.3185, p=1.0000  , df=10\n",
      "parameter F test:         F=16565.1261, p=0.0000  , df_denom=79, df_num=6\n",
      "\n",
      "Granger Causality\n",
      "number of lags (no zero) 10\n",
      "ssr based F test:         F=-7.8977 , p=1.0000  , df_denom=79, df_num=10\n",
      "ssr based chi2 test:   chi2=-89.9737, p=1.0000  , df=10\n",
      "likelihood ratio test: chi2=-732.5792, p=1.0000  , df=10\n",
      "parameter F test:         F=19075.3554, p=0.0000  , df_denom=79, df_num=6\n",
      "\n",
      "Granger Causality\n",
      "number of lags (no zero) 10\n",
      "ssr based F test:         F=-7.8719 , p=1.0000  , df_denom=79, df_num=10\n",
      "ssr based chi2 test:   chi2=-89.6801, p=1.0000  , df=10\n",
      "likelihood ratio test: chi2=-507.5518, p=1.0000  , df=10\n",
      "parameter F test:         F=232548.3759, p=0.0000  , df_denom=79, df_num=6\n",
      "\n",
      "Granger Causality\n",
      "number of lags (no zero) 10\n",
      "ssr based F test:         F=-7.8828 , p=1.0000  , df_denom=79, df_num=10\n",
      "ssr based chi2 test:   chi2=-89.8036, p=1.0000  , df=10\n",
      "likelihood ratio test: chi2=-551.4507, p=1.0000  , df=10\n",
      "parameter F test:         F=143979.4314, p=0.0000  , df_denom=79, df_num=6\n",
      "\n",
      "Granger Causality\n",
      "number of lags (no zero) 10\n",
      "ssr based F test:         F=-7.8930 , p=1.0000  , df_denom=79, df_num=10\n",
      "ssr based chi2 test:   chi2=-89.9205, p=1.0000  , df=10\n",
      "likelihood ratio test: chi2=-632.8999, p=1.0000  , df=10\n",
      "parameter F test:         F=57069.8480, p=0.0000  , df_denom=79, df_num=6\n",
      "\n",
      "Granger Causality\n",
      "number of lags (no zero) 10\n",
      "ssr based F test:         F=-7.8994 , p=1.0000  , df_denom=79, df_num=10\n",
      "ssr based chi2 test:   chi2=-89.9929, p=1.0000  , df=10\n",
      "likelihood ratio test: chi2=-849.8138, p=1.0000  , df=10\n",
      "parameter F test:         F=5141.8738, p=0.0000  , df_denom=79, df_num=6\n",
      "\n",
      "Granger Causality\n",
      "number of lags (no zero) 10\n",
      "ssr based F test:         F=-7.8091 , p=1.0000  , df_denom=79, df_num=10\n",
      "ssr based chi2 test:   chi2=-88.9641, p=1.0000  , df=10\n",
      "likelihood ratio test: chi2=-401.8082, p=1.0000  , df=10\n",
      "parameter F test:         F=747129.8063, p=0.0000  , df_denom=79, df_num=6\n",
      "\n",
      "Granger Causality\n",
      "number of lags (no zero) 10\n",
      "ssr based F test:         F=-7.8828 , p=1.0000  , df_denom=79, df_num=10\n",
      "ssr based chi2 test:   chi2=-89.8045, p=1.0000  , df=10\n",
      "likelihood ratio test: chi2=-551.8676, p=1.0000  , df=10\n",
      "parameter F test:         F=141903.9972, p=0.0000  , df_denom=79, df_num=6\n",
      "\n",
      "Granger Causality\n",
      "number of lags (no zero) 10\n",
      "ssr based F test:         F=-7.8985 , p=1.0000  , df_denom=79, df_num=10\n",
      "ssr based chi2 test:   chi2=-89.9832, p=1.0000  , df=10\n",
      "likelihood ratio test: chi2=-773.0240, p=1.0000  , df=10\n",
      "parameter F test:         F=12369.6093, p=0.0000  , df_denom=79, df_num=6\n",
      "\n",
      "Granger Causality\n",
      "number of lags (no zero) 10\n",
      "ssr based F test:         F=-7.8973 , p=1.0000  , df_denom=79, df_num=10\n",
      "ssr based chi2 test:   chi2=-89.9692, p=1.0000  , df=10\n",
      "likelihood ratio test: chi2=-718.0874, p=1.0000  , df=10\n",
      "parameter F test:         F=22427.9549, p=0.0000  , df_denom=79, df_num=6\n",
      "\n",
      "Granger Causality\n",
      "number of lags (no zero) 10\n",
      "ssr based F test:         F=-7.8954 , p=1.0000  , df_denom=79, df_num=10\n",
      "ssr based chi2 test:   chi2=-89.9471, p=1.0000  , df=10\n",
      "likelihood ratio test: chi2=-669.4975, p=1.0000  , df=10\n",
      "parameter F test:         F=38128.9050, p=0.0000  , df_denom=79, df_num=6\n",
      "\n",
      "Granger Causality\n",
      "number of lags (no zero) 10\n",
      "ssr based F test:         F=-7.8092 , p=1.0000  , df_denom=79, df_num=10\n",
      "ssr based chi2 test:   chi2=-88.9657, p=1.0000  , df=10\n",
      "likelihood ratio test: chi2=-401.9446, p=1.0000  , df=10\n",
      "parameter F test:         F=749241.5704, p=0.0000  , df_denom=79, df_num=6\n",
      "\n",
      "Granger Causality\n",
      "number of lags (no zero) 10\n",
      "ssr based F test:         F=-7.8898 , p=1.0000  , df_denom=79, df_num=10\n",
      "ssr based chi2 test:   chi2=-89.8834, p=1.0000  , df=10\n",
      "likelihood ratio test: chi2=-598.4058, p=1.0000  , df=10\n",
      "parameter F test:         F=84447.3976, p=0.0000  , df_denom=79, df_num=6\n",
      "\n",
      "Granger Causality\n",
      "number of lags (no zero) 10\n",
      "ssr based F test:         F=-7.8923 , p=1.0000  , df_denom=79, df_num=10\n",
      "ssr based chi2 test:   chi2=-89.9122, p=1.0000  , df=10\n",
      "likelihood ratio test: chi2=-623.9021, p=1.0000  , df=10\n",
      "parameter F test:         F=63423.1020, p=0.0000  , df_denom=79, df_num=6\n",
      "\n",
      "Granger Causality\n",
      "number of lags (no zero) 10\n",
      "ssr based F test:         F=-7.8914 , p=1.0000  , df_denom=79, df_num=10\n",
      "ssr based chi2 test:   chi2=-89.9025, p=1.0000  , df=10\n",
      "likelihood ratio test: chi2=-614.4608, p=1.0000  , df=10\n",
      "parameter F test:         F=70211.1091, p=0.0000  , df_denom=79, df_num=6\n",
      "\n",
      "Granger Causality\n",
      "number of lags (no zero) 10\n",
      "ssr based F test:         F=-7.8963 , p=1.0000  , df_denom=79, df_num=10\n",
      "ssr based chi2 test:   chi2=-89.9578, p=1.0000  , df=10\n",
      "likelihood ratio test: chi2=-689.9177, p=1.0000  , df=10\n",
      "parameter F test:         F=30308.7586, p=0.0000  , df_denom=79, df_num=6\n",
      "\n",
      "Granger Causality\n",
      "number of lags (no zero) 10\n",
      "ssr based F test:         F=-7.8987 , p=1.0000  , df_denom=79, df_num=10\n",
      "ssr based chi2 test:   chi2=-89.9856, p=1.0000  , df=10\n",
      "likelihood ratio test: chi2=-786.9152, p=1.0000  , df=10\n",
      "parameter F test:         F=10501.1617, p=0.0000  , df_denom=79, df_num=6\n",
      "\n",
      "Granger Causality\n",
      "number of lags (no zero) 10\n",
      "ssr based F test:         F=-7.7284 , p=1.0000  , df_denom=79, df_num=10\n",
      "ssr based chi2 test:   chi2=-88.0446, p=1.0000  , df=10\n",
      "likelihood ratio test: chi2=-344.6306, p=1.0000  , df=10\n",
      "parameter F test:         F=1419226.4771, p=0.0000  , df_denom=79, df_num=6\n",
      "\n",
      "Granger Causality\n",
      "number of lags (no zero) 10\n",
      "ssr based F test:         F=-7.8968 , p=1.0000  , df_denom=79, df_num=10\n",
      "ssr based chi2 test:   chi2=-89.9640, p=1.0000  , df=10\n",
      "likelihood ratio test: chi2=-704.2337, p=1.0000  , df=10\n",
      "parameter F test:         F=26299.3190, p=0.0000  , df_denom=79, df_num=6\n",
      "\n",
      "Granger Causality\n",
      "number of lags (no zero) 10\n",
      "ssr based F test:         F=-7.8909 , p=1.0000  , df_denom=79, df_num=10\n",
      "ssr based chi2 test:   chi2=-89.8964, p=1.0000  , df=10\n",
      "likelihood ratio test: chi2=-609.0122, p=1.0000  , df=10\n",
      "parameter F test:         F=74699.5470, p=0.0000  , df_denom=79, df_num=6\n",
      "\n",
      "Granger Causality\n",
      "number of lags (no zero) 10\n",
      "ssr based F test:         F=-7.8800 , p=1.0000  , df_denom=79, df_num=10\n",
      "ssr based chi2 test:   chi2=-89.7719, p=1.0000  , df=10\n",
      "likelihood ratio test: chi2=-537.9894, p=1.0000  , df=10\n",
      "parameter F test:         F=166885.2172, p=0.0000  , df_denom=79, df_num=6\n",
      "\n",
      "Granger Causality\n",
      "number of lags (no zero) 10\n",
      "ssr based F test:         F=-7.8899 , p=1.0000  , df_denom=79, df_num=10\n",
      "ssr based chi2 test:   chi2=-89.8846, p=1.0000  , df=10\n",
      "likelihood ratio test: chi2=-599.3295, p=1.0000  , df=10\n",
      "parameter F test:         F=83962.4764, p=0.0000  , df_denom=79, df_num=6\n",
      "\n",
      "Granger Causality\n",
      "number of lags (no zero) 10\n",
      "ssr based F test:         F=-7.8962 , p=1.0000  , df_denom=79, df_num=10\n",
      "ssr based chi2 test:   chi2=-89.9567, p=1.0000  , df=10\n",
      "likelihood ratio test: chi2=-687.4821, p=1.0000  , df=10\n",
      "parameter F test:         F=31593.5351, p=0.0000  , df_denom=79, df_num=6\n",
      "\n",
      "Granger Causality\n",
      "number of lags (no zero) 10\n",
      "ssr based F test:         F=-7.3295 , p=1.0000  , df_denom=79, df_num=10\n",
      "ssr based chi2 test:   chi2=-83.5010, p=1.0000  , df=10\n",
      "likelihood ratio test: chi2=-236.5349, p=1.0000  , df=10\n",
      "parameter F test:         F=4773642.2877, p=0.0000  , df_denom=79, df_num=6\n",
      "\n",
      "Granger Causality\n",
      "number of lags (no zero) 10\n",
      "ssr based F test:         F=-7.7983 , p=1.0000  , df_denom=79, df_num=10\n",
      "ssr based chi2 test:   chi2=-88.8414, p=1.0000  , df=10\n",
      "likelihood ratio test: chi2=-391.7368, p=1.0000  , df=10\n",
      "parameter F test:         F=840149.0148, p=0.0000  , df_denom=79, df_num=6\n",
      "\n",
      "Granger Causality\n",
      "number of lags (no zero) 10\n",
      "ssr based F test:         F=-7.8987 , p=1.0000  , df_denom=79, df_num=10\n",
      "ssr based chi2 test:   chi2=-89.9857, p=1.0000  , df=10\n",
      "likelihood ratio test: chi2=-787.2423, p=1.0000  , df=10\n",
      "parameter F test:         F=10388.1870, p=0.0000  , df_denom=79, df_num=6\n",
      "\n",
      "Granger Causality\n",
      "number of lags (no zero) 10\n",
      "ssr based F test:         F=-7.8971 , p=1.0000  , df_denom=79, df_num=10\n",
      "ssr based chi2 test:   chi2=-89.9669, p=1.0000  , df=10\n",
      "likelihood ratio test: chi2=-711.8376, p=1.0000  , df=10\n",
      "parameter F test:         F=24153.2399, p=0.0000  , df_denom=79, df_num=6\n",
      "\n",
      "Granger Causality\n",
      "number of lags (no zero) 10\n",
      "ssr based F test:         F=-7.8897 , p=1.0000  , df_denom=79, df_num=10\n",
      "ssr based chi2 test:   chi2=-89.8826, p=1.0000  , df=10\n",
      "likelihood ratio test: chi2=-597.8025, p=1.0000  , df=10\n",
      "parameter F test:         F=84847.3435, p=0.0000  , df_denom=79, df_num=6\n",
      "\n",
      "Granger Causality\n",
      "number of lags (no zero) 10\n",
      "ssr based F test:         F=-7.8980 , p=1.0000  , df_denom=79, df_num=10\n",
      "ssr based chi2 test:   chi2=-89.9770, p=1.0000  , df=10\n",
      "likelihood ratio test: chi2=-744.5683, p=1.0000  , df=10\n",
      "parameter F test:         F=16680.4423, p=0.0000  , df_denom=79, df_num=6\n",
      "\n",
      "Granger Causality\n",
      "number of lags (no zero) 10\n",
      "ssr based F test:         F=-7.8998 , p=1.0000  , df_denom=79, df_num=10\n",
      "ssr based chi2 test:   chi2=-89.9980, p=1.0000  , df=10\n",
      "likelihood ratio test: chi2=-962.8046, p=1.0000  , df=10\n",
      "parameter F test:         F=1480.6842, p=0.0000  , df_denom=79, df_num=6\n",
      "\n",
      "Granger Causality\n",
      "number of lags (no zero) 10\n",
      "ssr based F test:         F=-7.8794 , p=1.0000  , df_denom=79, df_num=10\n",
      "ssr based chi2 test:   chi2=-89.7653, p=1.0000  , df=10\n",
      "likelihood ratio test: chi2=-535.4286, p=1.0000  , df=10\n",
      "parameter F test:         F=170307.4281, p=0.0000  , df_denom=79, df_num=6\n",
      "\n",
      "Granger Causality\n",
      "number of lags (no zero) 10\n",
      "ssr based F test:         F=-7.8917 , p=1.0000  , df_denom=79, df_num=10\n",
      "ssr based chi2 test:   chi2=-89.9059, p=1.0000  , df=10\n",
      "likelihood ratio test: chi2=-617.7070, p=1.0000  , df=10\n",
      "parameter F test:         F=68233.8962, p=0.0000  , df_denom=79, df_num=6\n",
      "\n",
      "Granger Causality\n",
      "number of lags (no zero) 10\n",
      "ssr based F test:         F=-7.8985 , p=1.0000  , df_denom=79, df_num=10\n",
      "ssr based chi2 test:   chi2=-89.9824, p=1.0000  , df=10\n",
      "likelihood ratio test: chi2=-768.4692, p=1.0000  , df=10\n",
      "parameter F test:         F=12859.5392, p=0.0000  , df_denom=79, df_num=6\n",
      "\n",
      "Granger Causality\n",
      "number of lags (no zero) 10\n"
     ]
    },
    {
     "name": "stderr",
     "output_type": "stream",
     "text": [
      "/Users/oost464/opt/anaconda3/envs/pyciems310/lib/python3.10/site-packages/statsmodels/base/model.py:1896: ValueWarning: covariance of constraints does not have full rank. The number of constraints is 10, but rank is 6\n",
      "  warnings.warn('covariance of constraints does not have full '\n",
      "/Users/oost464/opt/anaconda3/envs/pyciems310/lib/python3.10/site-packages/statsmodels/base/model.py:1896: ValueWarning: covariance of constraints does not have full rank. The number of constraints is 10, but rank is 6\n",
      "  warnings.warn('covariance of constraints does not have full '\n",
      "/Users/oost464/opt/anaconda3/envs/pyciems310/lib/python3.10/site-packages/statsmodels/base/model.py:1896: ValueWarning: covariance of constraints does not have full rank. The number of constraints is 10, but rank is 6\n",
      "  warnings.warn('covariance of constraints does not have full '\n",
      "/Users/oost464/opt/anaconda3/envs/pyciems310/lib/python3.10/site-packages/statsmodels/base/model.py:1896: ValueWarning: covariance of constraints does not have full rank. The number of constraints is 10, but rank is 6\n",
      "  warnings.warn('covariance of constraints does not have full '\n",
      "/Users/oost464/opt/anaconda3/envs/pyciems310/lib/python3.10/site-packages/statsmodels/base/model.py:1896: ValueWarning: covariance of constraints does not have full rank. The number of constraints is 10, but rank is 6\n",
      "  warnings.warn('covariance of constraints does not have full '\n",
      "/Users/oost464/opt/anaconda3/envs/pyciems310/lib/python3.10/site-packages/statsmodels/base/model.py:1896: ValueWarning: covariance of constraints does not have full rank. The number of constraints is 10, but rank is 6\n",
      "  warnings.warn('covariance of constraints does not have full '\n",
      "/Users/oost464/opt/anaconda3/envs/pyciems310/lib/python3.10/site-packages/statsmodels/base/model.py:1896: ValueWarning: covariance of constraints does not have full rank. The number of constraints is 10, but rank is 6\n",
      "  warnings.warn('covariance of constraints does not have full '\n",
      "/Users/oost464/opt/anaconda3/envs/pyciems310/lib/python3.10/site-packages/statsmodels/base/model.py:1896: ValueWarning: covariance of constraints does not have full rank. The number of constraints is 10, but rank is 6\n",
      "  warnings.warn('covariance of constraints does not have full '\n",
      "/Users/oost464/opt/anaconda3/envs/pyciems310/lib/python3.10/site-packages/statsmodels/base/model.py:1896: ValueWarning: covariance of constraints does not have full rank. The number of constraints is 10, but rank is 6\n",
      "  warnings.warn('covariance of constraints does not have full '\n",
      "/Users/oost464/opt/anaconda3/envs/pyciems310/lib/python3.10/site-packages/statsmodels/base/model.py:1896: ValueWarning: covariance of constraints does not have full rank. The number of constraints is 10, but rank is 6\n",
      "  warnings.warn('covariance of constraints does not have full '\n",
      "/Users/oost464/opt/anaconda3/envs/pyciems310/lib/python3.10/site-packages/statsmodels/base/model.py:1896: ValueWarning: covariance of constraints does not have full rank. The number of constraints is 10, but rank is 6\n",
      "  warnings.warn('covariance of constraints does not have full '\n",
      "/Users/oost464/opt/anaconda3/envs/pyciems310/lib/python3.10/site-packages/statsmodels/base/model.py:1896: ValueWarning: covariance of constraints does not have full rank. The number of constraints is 10, but rank is 6\n",
      "  warnings.warn('covariance of constraints does not have full '\n",
      "/Users/oost464/opt/anaconda3/envs/pyciems310/lib/python3.10/site-packages/statsmodels/base/model.py:1896: ValueWarning: covariance of constraints does not have full rank. The number of constraints is 10, but rank is 6\n",
      "  warnings.warn('covariance of constraints does not have full '\n",
      "/Users/oost464/opt/anaconda3/envs/pyciems310/lib/python3.10/site-packages/statsmodels/base/model.py:1896: ValueWarning: covariance of constraints does not have full rank. The number of constraints is 10, but rank is 6\n",
      "  warnings.warn('covariance of constraints does not have full '\n",
      "/Users/oost464/opt/anaconda3/envs/pyciems310/lib/python3.10/site-packages/statsmodels/base/model.py:1896: ValueWarning: covariance of constraints does not have full rank. The number of constraints is 10, but rank is 6\n",
      "  warnings.warn('covariance of constraints does not have full '\n",
      "/Users/oost464/opt/anaconda3/envs/pyciems310/lib/python3.10/site-packages/statsmodels/base/model.py:1896: ValueWarning: covariance of constraints does not have full rank. The number of constraints is 10, but rank is 6\n",
      "  warnings.warn('covariance of constraints does not have full '\n",
      "/Users/oost464/opt/anaconda3/envs/pyciems310/lib/python3.10/site-packages/statsmodels/base/model.py:1896: ValueWarning: covariance of constraints does not have full rank. The number of constraints is 10, but rank is 6\n",
      "  warnings.warn('covariance of constraints does not have full '\n",
      "/Users/oost464/opt/anaconda3/envs/pyciems310/lib/python3.10/site-packages/statsmodels/base/model.py:1896: ValueWarning: covariance of constraints does not have full rank. The number of constraints is 10, but rank is 6\n",
      "  warnings.warn('covariance of constraints does not have full '\n",
      "/Users/oost464/opt/anaconda3/envs/pyciems310/lib/python3.10/site-packages/statsmodels/base/model.py:1896: ValueWarning: covariance of constraints does not have full rank. The number of constraints is 10, but rank is 6\n",
      "  warnings.warn('covariance of constraints does not have full '\n",
      "/Users/oost464/opt/anaconda3/envs/pyciems310/lib/python3.10/site-packages/statsmodels/base/model.py:1896: ValueWarning: covariance of constraints does not have full rank. The number of constraints is 10, but rank is 6\n",
      "  warnings.warn('covariance of constraints does not have full '\n",
      "/Users/oost464/opt/anaconda3/envs/pyciems310/lib/python3.10/site-packages/statsmodels/base/model.py:1896: ValueWarning: covariance of constraints does not have full rank. The number of constraints is 10, but rank is 6\n",
      "  warnings.warn('covariance of constraints does not have full '\n",
      "/Users/oost464/opt/anaconda3/envs/pyciems310/lib/python3.10/site-packages/statsmodels/base/model.py:1896: ValueWarning: covariance of constraints does not have full rank. The number of constraints is 10, but rank is 6\n",
      "  warnings.warn('covariance of constraints does not have full '\n",
      "/Users/oost464/opt/anaconda3/envs/pyciems310/lib/python3.10/site-packages/statsmodels/base/model.py:1896: ValueWarning: covariance of constraints does not have full rank. The number of constraints is 10, but rank is 6\n",
      "  warnings.warn('covariance of constraints does not have full '\n",
      "/Users/oost464/opt/anaconda3/envs/pyciems310/lib/python3.10/site-packages/statsmodels/base/model.py:1896: ValueWarning: covariance of constraints does not have full rank. The number of constraints is 10, but rank is 6\n",
      "  warnings.warn('covariance of constraints does not have full '\n",
      "/Users/oost464/opt/anaconda3/envs/pyciems310/lib/python3.10/site-packages/statsmodels/base/model.py:1896: ValueWarning: covariance of constraints does not have full rank. The number of constraints is 10, but rank is 6\n",
      "  warnings.warn('covariance of constraints does not have full '\n",
      "/Users/oost464/opt/anaconda3/envs/pyciems310/lib/python3.10/site-packages/statsmodels/base/model.py:1896: ValueWarning: covariance of constraints does not have full rank. The number of constraints is 10, but rank is 6\n",
      "  warnings.warn('covariance of constraints does not have full '\n",
      "/Users/oost464/opt/anaconda3/envs/pyciems310/lib/python3.10/site-packages/statsmodels/base/model.py:1896: ValueWarning: covariance of constraints does not have full rank. The number of constraints is 10, but rank is 6\n",
      "  warnings.warn('covariance of constraints does not have full '\n",
      "/Users/oost464/opt/anaconda3/envs/pyciems310/lib/python3.10/site-packages/statsmodels/base/model.py:1896: ValueWarning: covariance of constraints does not have full rank. The number of constraints is 10, but rank is 6\n",
      "  warnings.warn('covariance of constraints does not have full '\n",
      "/Users/oost464/opt/anaconda3/envs/pyciems310/lib/python3.10/site-packages/statsmodels/base/model.py:1896: ValueWarning: covariance of constraints does not have full rank. The number of constraints is 10, but rank is 6\n",
      "  warnings.warn('covariance of constraints does not have full '\n",
      "/Users/oost464/opt/anaconda3/envs/pyciems310/lib/python3.10/site-packages/statsmodels/base/model.py:1896: ValueWarning: covariance of constraints does not have full rank. The number of constraints is 10, but rank is 6\n",
      "  warnings.warn('covariance of constraints does not have full '\n",
      "/Users/oost464/opt/anaconda3/envs/pyciems310/lib/python3.10/site-packages/statsmodels/base/model.py:1896: ValueWarning: covariance of constraints does not have full rank. The number of constraints is 10, but rank is 6\n",
      "  warnings.warn('covariance of constraints does not have full '\n",
      "/Users/oost464/opt/anaconda3/envs/pyciems310/lib/python3.10/site-packages/statsmodels/base/model.py:1896: ValueWarning: covariance of constraints does not have full rank. The number of constraints is 10, but rank is 6\n",
      "  warnings.warn('covariance of constraints does not have full '\n",
      "/Users/oost464/opt/anaconda3/envs/pyciems310/lib/python3.10/site-packages/statsmodels/base/model.py:1896: ValueWarning: covariance of constraints does not have full rank. The number of constraints is 10, but rank is 6\n",
      "  warnings.warn('covariance of constraints does not have full '\n",
      "/Users/oost464/opt/anaconda3/envs/pyciems310/lib/python3.10/site-packages/statsmodels/base/model.py:1896: ValueWarning: covariance of constraints does not have full rank. The number of constraints is 10, but rank is 6\n",
      "  warnings.warn('covariance of constraints does not have full '\n",
      "/Users/oost464/opt/anaconda3/envs/pyciems310/lib/python3.10/site-packages/statsmodels/base/model.py:1896: ValueWarning: covariance of constraints does not have full rank. The number of constraints is 10, but rank is 6\n",
      "  warnings.warn('covariance of constraints does not have full '\n",
      "/Users/oost464/opt/anaconda3/envs/pyciems310/lib/python3.10/site-packages/statsmodels/base/model.py:1896: ValueWarning: covariance of constraints does not have full rank. The number of constraints is 10, but rank is 6\n",
      "  warnings.warn('covariance of constraints does not have full '\n",
      "/Users/oost464/opt/anaconda3/envs/pyciems310/lib/python3.10/site-packages/statsmodels/base/model.py:1896: ValueWarning: covariance of constraints does not have full rank. The number of constraints is 10, but rank is 6\n",
      "  warnings.warn('covariance of constraints does not have full '\n",
      "/Users/oost464/opt/anaconda3/envs/pyciems310/lib/python3.10/site-packages/statsmodels/base/model.py:1896: ValueWarning: covariance of constraints does not have full rank. The number of constraints is 10, but rank is 6\n",
      "  warnings.warn('covariance of constraints does not have full '\n",
      "/Users/oost464/opt/anaconda3/envs/pyciems310/lib/python3.10/site-packages/statsmodels/base/model.py:1896: ValueWarning: covariance of constraints does not have full rank. The number of constraints is 10, but rank is 6\n",
      "  warnings.warn('covariance of constraints does not have full '\n",
      "/Users/oost464/opt/anaconda3/envs/pyciems310/lib/python3.10/site-packages/statsmodels/base/model.py:1896: ValueWarning: covariance of constraints does not have full rank. The number of constraints is 10, but rank is 6\n",
      "  warnings.warn('covariance of constraints does not have full '\n",
      "/Users/oost464/opt/anaconda3/envs/pyciems310/lib/python3.10/site-packages/statsmodels/base/model.py:1896: ValueWarning: covariance of constraints does not have full rank. The number of constraints is 10, but rank is 6\n",
      "  warnings.warn('covariance of constraints does not have full '\n",
      "/Users/oost464/opt/anaconda3/envs/pyciems310/lib/python3.10/site-packages/statsmodels/base/model.py:1896: ValueWarning: covariance of constraints does not have full rank. The number of constraints is 10, but rank is 6\n",
      "  warnings.warn('covariance of constraints does not have full '\n",
      "/Users/oost464/opt/anaconda3/envs/pyciems310/lib/python3.10/site-packages/statsmodels/base/model.py:1896: ValueWarning: covariance of constraints does not have full rank. The number of constraints is 10, but rank is 6\n",
      "  warnings.warn('covariance of constraints does not have full '\n",
      "/Users/oost464/opt/anaconda3/envs/pyciems310/lib/python3.10/site-packages/statsmodels/base/model.py:1896: ValueWarning: covariance of constraints does not have full rank. The number of constraints is 10, but rank is 6\n",
      "  warnings.warn('covariance of constraints does not have full '\n",
      "/Users/oost464/opt/anaconda3/envs/pyciems310/lib/python3.10/site-packages/statsmodels/base/model.py:1896: ValueWarning: covariance of constraints does not have full rank. The number of constraints is 10, but rank is 6\n",
      "  warnings.warn('covariance of constraints does not have full '\n",
      "/Users/oost464/opt/anaconda3/envs/pyciems310/lib/python3.10/site-packages/statsmodels/base/model.py:1896: ValueWarning: covariance of constraints does not have full rank. The number of constraints is 10, but rank is 6\n",
      "  warnings.warn('covariance of constraints does not have full '\n",
      "/Users/oost464/opt/anaconda3/envs/pyciems310/lib/python3.10/site-packages/statsmodels/base/model.py:1896: ValueWarning: covariance of constraints does not have full rank. The number of constraints is 10, but rank is 6\n",
      "  warnings.warn('covariance of constraints does not have full '\n",
      "/Users/oost464/opt/anaconda3/envs/pyciems310/lib/python3.10/site-packages/statsmodels/base/model.py:1896: ValueWarning: covariance of constraints does not have full rank. The number of constraints is 10, but rank is 6\n",
      "  warnings.warn('covariance of constraints does not have full '\n",
      "/Users/oost464/opt/anaconda3/envs/pyciems310/lib/python3.10/site-packages/statsmodels/base/model.py:1896: ValueWarning: covariance of constraints does not have full rank. The number of constraints is 10, but rank is 6\n",
      "  warnings.warn('covariance of constraints does not have full '\n",
      "/Users/oost464/opt/anaconda3/envs/pyciems310/lib/python3.10/site-packages/statsmodels/base/model.py:1896: ValueWarning: covariance of constraints does not have full rank. The number of constraints is 10, but rank is 6\n",
      "  warnings.warn('covariance of constraints does not have full '\n",
      "/Users/oost464/opt/anaconda3/envs/pyciems310/lib/python3.10/site-packages/statsmodels/base/model.py:1896: ValueWarning: covariance of constraints does not have full rank. The number of constraints is 10, but rank is 6\n",
      "  warnings.warn('covariance of constraints does not have full '\n",
      "/Users/oost464/opt/anaconda3/envs/pyciems310/lib/python3.10/site-packages/statsmodels/base/model.py:1896: ValueWarning: covariance of constraints does not have full rank. The number of constraints is 10, but rank is 6\n",
      "  warnings.warn('covariance of constraints does not have full '\n"
     ]
    },
    {
     "name": "stdout",
     "output_type": "stream",
     "text": [
      "ssr based F test:         F=-7.8784 , p=1.0000  , df_denom=79, df_num=10\n",
      "ssr based chi2 test:   chi2=-89.7535, p=1.0000  , df=10\n",
      "likelihood ratio test: chi2=-531.0184, p=1.0000  , df=10\n",
      "parameter F test:         F=180680.8853, p=0.0000  , df_denom=79, df_num=6\n",
      "\n",
      "Granger Causality\n",
      "number of lags (no zero) 10\n",
      "ssr based F test:         F=-7.8631 , p=1.0000  , df_denom=79, df_num=10\n",
      "ssr based chi2 test:   chi2=-89.5799, p=1.0000  , df=10\n",
      "likelihood ratio test: chi2=-483.0319, p=1.0000  , df=10\n",
      "parameter F test:         F=305790.2533, p=0.0000  , df_denom=79, df_num=6\n",
      "\n",
      "Granger Causality\n",
      "number of lags (no zero) 10\n",
      "ssr based F test:         F=-7.8977 , p=1.0000  , df_denom=79, df_num=10\n",
      "ssr based chi2 test:   chi2=-89.9736, p=1.0000  , df=10\n",
      "likelihood ratio test: chi2=-732.1803, p=1.0000  , df=10\n",
      "parameter F test:         F=18989.1084, p=0.0000  , df_denom=79, df_num=6\n",
      "\n",
      "Granger Causality\n",
      "number of lags (no zero) 10\n",
      "ssr based F test:         F=-7.8779 , p=1.0000  , df_denom=79, df_num=10\n",
      "ssr based chi2 test:   chi2=-89.7485, p=1.0000  , df=10\n",
      "likelihood ratio test: chi2=-529.2099, p=1.0000  , df=10\n",
      "parameter F test:         F=182927.0360, p=0.0000  , df_denom=79, df_num=6\n",
      "\n",
      "Granger Causality\n",
      "number of lags (no zero) 10\n",
      "ssr based F test:         F=-7.3519 , p=1.0000  , df_denom=79, df_num=10\n",
      "ssr based chi2 test:   chi2=-83.7557, p=1.0000  , df=10\n",
      "likelihood ratio test: chi2=-240.1327, p=1.0000  , df=10\n",
      "parameter F test:         F=4557346.1552, p=0.0000  , df_denom=79, df_num=6\n",
      "\n",
      "Granger Causality\n",
      "number of lags (no zero) 10\n",
      "ssr based F test:         F=-7.8833 , p=1.0000  , df_denom=79, df_num=10\n",
      "ssr based chi2 test:   chi2=-89.8092, p=1.0000  , df=10\n",
      "likelihood ratio test: chi2=-554.0729, p=1.0000  , df=10\n",
      "parameter F test:         F=137975.8717, p=0.0000  , df_denom=79, df_num=6\n",
      "\n",
      "Granger Causality\n",
      "number of lags (no zero) 10\n",
      "ssr based F test:         F=-7.8965 , p=1.0000  , df_denom=79, df_num=10\n",
      "ssr based chi2 test:   chi2=-89.9601, p=1.0000  , df=10\n",
      "likelihood ratio test: chi2=-694.8571, p=1.0000  , df=10\n",
      "parameter F test:         F=28834.0587, p=0.0000  , df_denom=79, df_num=6\n",
      "\n",
      "Granger Causality\n",
      "number of lags (no zero) 10\n",
      "ssr based F test:         F=-7.8854 , p=1.0000  , df_denom=79, df_num=10\n",
      "ssr based chi2 test:   chi2=-89.8332, p=1.0000  , df=10\n",
      "likelihood ratio test: chi2=-566.1784, p=1.0000  , df=10\n",
      "parameter F test:         F=121159.0712, p=0.0000  , df_denom=79, df_num=6\n",
      "\n",
      "Granger Causality\n",
      "number of lags (no zero) 10\n",
      "ssr based F test:         F=-7.8974 , p=1.0000  , df_denom=79, df_num=10\n",
      "ssr based chi2 test:   chi2=-89.9702, p=1.0000  , df=10\n",
      "likelihood ratio test: chi2=-721.0782, p=1.0000  , df=10\n",
      "parameter F test:         F=21588.0967, p=0.0000  , df_denom=79, df_num=6\n",
      "\n",
      "Granger Causality\n",
      "number of lags (no zero) 10\n",
      "ssr based F test:         F=-7.8999 , p=1.0000  , df_denom=79, df_num=10\n",
      "ssr based chi2 test:   chi2=-89.9984, p=1.0000  , df=10\n",
      "likelihood ratio test: chi2=-985.0935, p=1.0000  , df=10\n",
      "parameter F test:         F=1155.3691, p=0.0000  , df_denom=79, df_num=6\n",
      "\n",
      "Granger Causality\n",
      "number of lags (no zero) 10\n",
      "ssr based F test:         F=-7.8969 , p=1.0000  , df_denom=79, df_num=10\n",
      "ssr based chi2 test:   chi2=-89.9644, p=1.0000  , df=10\n",
      "likelihood ratio test: chi2=-705.0471, p=1.0000  , df=10\n",
      "parameter F test:         F=25871.8397, p=0.0000  , df_denom=79, df_num=6\n",
      "\n",
      "Granger Causality\n",
      "number of lags (no zero) 10\n",
      "ssr based F test:         F=-7.8610 , p=1.0000  , df_denom=79, df_num=10\n",
      "ssr based chi2 test:   chi2=-89.5558, p=1.0000  , df=10\n",
      "likelihood ratio test: chi2=-478.0101, p=1.0000  , df=10\n",
      "parameter F test:         F=323668.5846, p=0.0000  , df_denom=79, df_num=6\n",
      "\n",
      "Granger Causality\n",
      "number of lags (no zero) 10\n",
      "ssr based F test:         F=-7.8940 , p=1.0000  , df_denom=79, df_num=10\n",
      "ssr based chi2 test:   chi2=-89.9318, p=1.0000  , df=10\n",
      "likelihood ratio test: chi2=-646.6050, p=1.0000  , df=10\n",
      "parameter F test:         F=49909.2903, p=0.0000  , df_denom=79, df_num=6\n",
      "\n",
      "Granger Causality\n",
      "number of lags (no zero) 10\n",
      "ssr based F test:         F=-7.8994 , p=1.0000  , df_denom=79, df_num=10\n",
      "ssr based chi2 test:   chi2=-89.9926, p=1.0000  , df=10\n",
      "likelihood ratio test: chi2=-846.7431, p=1.0000  , df=10\n",
      "parameter F test:         F=5383.5216, p=0.0000  , df_denom=79, df_num=6\n",
      "\n",
      "Granger Causality\n",
      "number of lags (no zero) 10\n",
      "ssr based F test:         F=-7.8996 , p=1.0000  , df_denom=79, df_num=10\n",
      "ssr based chi2 test:   chi2=-89.9956, p=1.0000  , df=10\n",
      "likelihood ratio test: chi2=-892.3587, p=1.0000  , df=10\n",
      "parameter F test:         F=3213.3644, p=0.0000  , df_denom=79, df_num=6\n",
      "\n",
      "Granger Causality\n",
      "number of lags (no zero) 10\n",
      "ssr based F test:         F=-7.8811 , p=1.0000  , df_denom=79, df_num=10\n",
      "ssr based chi2 test:   chi2=-89.7844, p=1.0000  , df=10\n",
      "likelihood ratio test: chi2=-543.0867, p=1.0000  , df=10\n",
      "parameter F test:         F=157791.7648, p=0.0000  , df_denom=79, df_num=6\n",
      "\n",
      "Granger Causality\n",
      "number of lags (no zero) 10\n",
      "ssr based F test:         F=-7.8998 , p=1.0000  , df_denom=79, df_num=10\n",
      "ssr based chi2 test:   chi2=-89.9973, p=1.0000  , df=10\n",
      "likelihood ratio test: chi2=-936.4784, p=1.0000  , df=10\n",
      "parameter F test:         F=1971.2391, p=0.0000  , df_denom=79, df_num=6\n",
      "\n",
      "Granger Causality\n",
      "number of lags (no zero) 10\n",
      "ssr based F test:         F=-7.8894 , p=1.0000  , df_denom=79, df_num=10\n",
      "ssr based chi2 test:   chi2=-89.8797, p=1.0000  , df=10\n",
      "likelihood ratio test: chi2=-595.5943, p=1.0000  , df=10\n",
      "parameter F test:         F=87454.3974, p=0.0000  , df_denom=79, df_num=6\n",
      "\n",
      "Granger Causality\n",
      "number of lags (no zero) 10\n",
      "ssr based F test:         F=-7.8990 , p=1.0000  , df_denom=79, df_num=10\n",
      "ssr based chi2 test:   chi2=-89.9882, p=1.0000  , df=10\n",
      "likelihood ratio test: chi2=-804.7071, p=1.0000  , df=10\n",
      "parameter F test:         F=8570.3373, p=0.0000  , df_denom=79, df_num=6\n",
      "\n",
      "Granger Causality\n",
      "number of lags (no zero) 10\n",
      "ssr based F test:         F=-7.8974 , p=1.0000  , df_denom=79, df_num=10\n",
      "ssr based chi2 test:   chi2=-89.9708, p=1.0000  , df=10\n",
      "likelihood ratio test: chi2=-723.0417, p=1.0000  , df=10\n",
      "parameter F test:         F=21157.0991, p=0.0000  , df_denom=79, df_num=6\n",
      "\n",
      "Granger Causality\n",
      "number of lags (no zero) 10\n",
      "ssr based F test:         F=-7.8702 , p=1.0000  , df_denom=79, df_num=10\n",
      "ssr based chi2 test:   chi2=-89.6603, p=1.0000  , df=10\n",
      "likelihood ratio test: chi2=-502.1676, p=1.0000  , df=10\n",
      "parameter F test:         F=246661.8169, p=0.0000  , df_denom=79, df_num=6\n",
      "\n",
      "Granger Causality\n",
      "number of lags (no zero) 10\n",
      "ssr based F test:         F=-7.8976 , p=1.0000  , df_denom=79, df_num=10\n",
      "ssr based chi2 test:   chi2=-89.9732, p=1.0000  , df=10\n",
      "likelihood ratio test: chi2=-730.6237, p=1.0000  , df=10\n",
      "parameter F test:         F=19530.0027, p=0.0000  , df_denom=79, df_num=6\n",
      "\n",
      "Granger Causality\n",
      "number of lags (no zero) 10\n",
      "ssr based F test:         F=-7.8989 , p=1.0000  , df_denom=79, df_num=10\n",
      "ssr based chi2 test:   chi2=-89.9879, p=1.0000  , df=10\n",
      "likelihood ratio test: chi2=-801.9558, p=1.0000  , df=10\n",
      "parameter F test:         F=8903.2747, p=0.0000  , df_denom=79, df_num=6\n",
      "\n",
      "Granger Causality\n",
      "number of lags (no zero) 10\n",
      "ssr based F test:         F=-7.8982 , p=1.0000  , df_denom=79, df_num=10\n",
      "ssr based chi2 test:   chi2=-89.9796, p=1.0000  , df=10\n",
      "likelihood ratio test: chi2=-755.4222, p=1.0000  , df=10\n",
      "parameter F test:         F=14765.4695, p=0.0000  , df_denom=79, df_num=6\n",
      "\n",
      "Granger Causality\n",
      "number of lags (no zero) 10\n",
      "ssr based F test:         F=-7.8916 , p=1.0000  , df_denom=79, df_num=10\n",
      "ssr based chi2 test:   chi2=-89.9046, p=1.0000  , df=10\n",
      "likelihood ratio test: chi2=-616.4385, p=1.0000  , df=10\n",
      "parameter F test:         F=69594.5609, p=0.0000  , df_denom=79, df_num=6\n",
      "\n",
      "Granger Causality\n",
      "number of lags (no zero) 10\n",
      "ssr based F test:         F=-7.8633 , p=1.0000  , df_denom=79, df_num=10\n",
      "ssr based chi2 test:   chi2=-89.5821, p=1.0000  , df=10\n",
      "likelihood ratio test: chi2=-483.5066, p=1.0000  , df=10\n",
      "parameter F test:         F=307237.1430, p=0.0000  , df_denom=79, df_num=6\n",
      "\n",
      "Granger Causality\n",
      "number of lags (no zero) 10\n",
      "ssr based F test:         F=-7.8978 , p=1.0000  , df_denom=79, df_num=10\n",
      "ssr based chi2 test:   chi2=-89.9754, p=1.0000  , df=10\n",
      "likelihood ratio test: chi2=-738.3842, p=1.0000  , df=10\n",
      "parameter F test:         F=18136.6854, p=0.0000  , df_denom=79, df_num=6\n",
      "\n",
      "Granger Causality\n",
      "number of lags (no zero) 10\n",
      "ssr based F test:         F=-7.8711 , p=1.0000  , df_denom=79, df_num=10\n",
      "ssr based chi2 test:   chi2=-89.6713, p=1.0000  , df=10\n",
      "likelihood ratio test: chi2=-505.1133, p=1.0000  , df=10\n",
      "parameter F test:         F=239737.4801, p=0.0000  , df_denom=79, df_num=6\n",
      "\n",
      "Granger Causality\n",
      "number of lags (no zero) 10\n",
      "ssr based F test:         F=-7.8933 , p=1.0000  , df_denom=79, df_num=10\n",
      "ssr based chi2 test:   chi2=-89.9232, p=1.0000  , df=10\n",
      "likelihood ratio test: chi2=-635.9227, p=1.0000  , df=10\n",
      "parameter F test:         F=55212.3553, p=0.0000  , df_denom=79, df_num=6\n",
      "\n",
      "Granger Causality\n",
      "number of lags (no zero) 10\n",
      "ssr based F test:         F=-7.8994 , p=1.0000  , df_denom=79, df_num=10\n",
      "ssr based chi2 test:   chi2=-89.9932, p=1.0000  , df=10\n",
      "likelihood ratio test: chi2=-854.2541, p=1.0000  , df=10\n",
      "parameter F test:         F=4896.9452, p=0.0000  , df_denom=79, df_num=6\n",
      "\n",
      "Granger Causality\n",
      "number of lags (no zero) 10\n",
      "ssr based F test:         F=-7.8955 , p=1.0000  , df_denom=79, df_num=10\n",
      "ssr based chi2 test:   chi2=-89.9483, p=1.0000  , df=10\n",
      "likelihood ratio test: chi2=-671.5873, p=1.0000  , df=10\n",
      "parameter F test:         F=37367.6983, p=0.0000  , df_denom=79, df_num=6\n",
      "\n",
      "Granger Causality\n",
      "number of lags (no zero) 10\n",
      "ssr based F test:         F=-7.8678 , p=1.0000  , df_denom=79, df_num=10\n",
      "ssr based chi2 test:   chi2=-89.6333, p=1.0000  , df=10\n",
      "likelihood ratio test: chi2=-495.2648, p=1.0000  , df=10\n",
      "parameter F test:         F=268350.9102, p=0.0000  , df_denom=79, df_num=6\n",
      "\n",
      "Granger Causality\n",
      "number of lags (no zero) 10\n",
      "ssr based F test:         F=-7.8991 , p=1.0000  , df_denom=79, df_num=10\n",
      "ssr based chi2 test:   chi2=-89.9900, p=1.0000  , df=10\n",
      "likelihood ratio test: chi2=-819.0618, p=1.0000  , df=10\n",
      "parameter F test:         F=7264.2708, p=0.0000  , df_denom=79, df_num=6\n",
      "\n",
      "Granger Causality\n",
      "number of lags (no zero) 10\n",
      "ssr based F test:         F=-7.8980 , p=1.0000  , df_denom=79, df_num=10\n",
      "ssr based chi2 test:   chi2=-89.9771, p=1.0000  , df=10\n",
      "likelihood ratio test: chi2=-744.8119, p=1.0000  , df=10\n",
      "parameter F test:         F=16514.7727, p=0.0000  , df_denom=79, df_num=6\n",
      "\n",
      "Granger Causality\n",
      "number of lags (no zero) 10\n",
      "ssr based F test:         F=-7.8539 , p=1.0000  , df_denom=79, df_num=10\n",
      "ssr based chi2 test:   chi2=-89.4748, p=1.0000  , df=10\n",
      "likelihood ratio test: chi2=-462.9485, p=1.0000  , df=10\n",
      "parameter F test:         F=382786.1754, p=0.0000  , df_denom=79, df_num=6\n",
      "\n",
      "Granger Causality\n",
      "number of lags (no zero) 10\n",
      "ssr based F test:         F=-7.8998 , p=1.0000  , df_denom=79, df_num=10\n",
      "ssr based chi2 test:   chi2=-89.9972, p=1.0000  , df=10\n",
      "likelihood ratio test: chi2=-933.8297, p=1.0000  , df=10\n",
      "parameter F test:         F=2051.8590, p=0.0000  , df_denom=79, df_num=6\n",
      "\n",
      "Granger Causality\n",
      "number of lags (no zero) 10\n",
      "ssr based F test:         F=-7.5220 , p=1.0000  , df_denom=79, df_num=10\n",
      "ssr based chi2 test:   chi2=-85.6937, p=1.0000  , df=10\n",
      "likelihood ratio test: chi2=-273.5761, p=1.0000  , df=10\n",
      "parameter F test:         F=3158694.8002, p=0.0000  , df_denom=79, df_num=6\n",
      "\n",
      "Granger Causality\n",
      "number of lags (no zero) 10\n",
      "ssr based F test:         F=-7.7943 , p=1.0000  , df_denom=79, df_num=10\n",
      "ssr based chi2 test:   chi2=-88.7956, p=1.0000  , df=10\n",
      "likelihood ratio test: chi2=-388.2420, p=1.0000  , df=10\n",
      "parameter F test:         F=875287.7304, p=0.0000  , df_denom=79, df_num=6\n",
      "\n",
      "Granger Causality\n",
      "number of lags (no zero) 10\n",
      "ssr based F test:         F=-7.8981 , p=1.0000  , df_denom=79, df_num=10\n",
      "ssr based chi2 test:   chi2=-89.9781, p=1.0000  , df=10\n",
      "likelihood ratio test: chi2=-748.9022, p=1.0000  , df=10\n",
      "parameter F test:         F=15895.0946, p=0.0000  , df_denom=79, df_num=6\n",
      "\n",
      "Granger Causality\n",
      "number of lags (no zero) 10\n",
      "ssr based F test:         F=-7.8861 , p=1.0000  , df_denom=79, df_num=10\n",
      "ssr based chi2 test:   chi2=-89.8421, p=1.0000  , df=10\n",
      "likelihood ratio test: chi2=-571.1167, p=1.0000  , df=10\n",
      "parameter F test:         F=114917.4902, p=0.0000  , df_denom=79, df_num=6\n",
      "\n",
      "Granger Causality\n",
      "number of lags (no zero) 10\n",
      "ssr based F test:         F=-7.8966 , p=1.0000  , df_denom=79, df_num=10\n",
      "ssr based chi2 test:   chi2=-89.9612, p=1.0000  , df=10\n",
      "likelihood ratio test: chi2=-697.5172, p=1.0000  , df=10\n",
      "parameter F test:         F=28300.3482, p=0.0000  , df_denom=79, df_num=6\n",
      "\n",
      "Granger Causality\n",
      "number of lags (no zero) 10\n",
      "ssr based F test:         F=-7.8950 , p=1.0000  , df_denom=79, df_num=10\n",
      "ssr based chi2 test:   chi2=-89.9433, p=1.0000  , df=10\n",
      "likelihood ratio test: chi2=-663.2275, p=1.0000  , df=10\n",
      "parameter F test:         F=41036.6081, p=0.0000  , df_denom=79, df_num=6\n",
      "\n",
      "Granger Causality\n",
      "number of lags (no zero) 10\n",
      "ssr based F test:         F=-7.8962 , p=1.0000  , df_denom=79, df_num=10\n",
      "ssr based chi2 test:   chi2=-89.9573, p=1.0000  , df=10\n",
      "likelihood ratio test: chi2=-688.7527, p=1.0000  , df=10\n",
      "parameter F test:         F=31055.1455, p=0.0000  , df_denom=79, df_num=6\n",
      "\n",
      "Granger Causality\n",
      "number of lags (no zero) 10\n"
     ]
    },
    {
     "name": "stderr",
     "output_type": "stream",
     "text": [
      "/Users/oost464/opt/anaconda3/envs/pyciems310/lib/python3.10/site-packages/statsmodels/base/model.py:1896: ValueWarning: covariance of constraints does not have full rank. The number of constraints is 10, but rank is 6\n",
      "  warnings.warn('covariance of constraints does not have full '\n",
      "/Users/oost464/opt/anaconda3/envs/pyciems310/lib/python3.10/site-packages/statsmodels/base/model.py:1896: ValueWarning: covariance of constraints does not have full rank. The number of constraints is 10, but rank is 6\n",
      "  warnings.warn('covariance of constraints does not have full '\n",
      "/Users/oost464/opt/anaconda3/envs/pyciems310/lib/python3.10/site-packages/statsmodels/base/model.py:1896: ValueWarning: covariance of constraints does not have full rank. The number of constraints is 10, but rank is 6\n",
      "  warnings.warn('covariance of constraints does not have full '\n",
      "/Users/oost464/opt/anaconda3/envs/pyciems310/lib/python3.10/site-packages/statsmodels/base/model.py:1896: ValueWarning: covariance of constraints does not have full rank. The number of constraints is 10, but rank is 6\n",
      "  warnings.warn('covariance of constraints does not have full '\n",
      "/Users/oost464/opt/anaconda3/envs/pyciems310/lib/python3.10/site-packages/statsmodels/base/model.py:1896: ValueWarning: covariance of constraints does not have full rank. The number of constraints is 10, but rank is 6\n",
      "  warnings.warn('covariance of constraints does not have full '\n",
      "/Users/oost464/opt/anaconda3/envs/pyciems310/lib/python3.10/site-packages/statsmodels/base/model.py:1896: ValueWarning: covariance of constraints does not have full rank. The number of constraints is 10, but rank is 6\n",
      "  warnings.warn('covariance of constraints does not have full '\n",
      "/Users/oost464/opt/anaconda3/envs/pyciems310/lib/python3.10/site-packages/statsmodels/base/model.py:1896: ValueWarning: covariance of constraints does not have full rank. The number of constraints is 10, but rank is 6\n",
      "  warnings.warn('covariance of constraints does not have full '\n",
      "/Users/oost464/opt/anaconda3/envs/pyciems310/lib/python3.10/site-packages/statsmodels/base/model.py:1896: ValueWarning: covariance of constraints does not have full rank. The number of constraints is 10, but rank is 6\n",
      "  warnings.warn('covariance of constraints does not have full '\n",
      "/Users/oost464/opt/anaconda3/envs/pyciems310/lib/python3.10/site-packages/statsmodels/base/model.py:1896: ValueWarning: covariance of constraints does not have full rank. The number of constraints is 10, but rank is 6\n",
      "  warnings.warn('covariance of constraints does not have full '\n",
      "/Users/oost464/opt/anaconda3/envs/pyciems310/lib/python3.10/site-packages/statsmodels/base/model.py:1896: ValueWarning: covariance of constraints does not have full rank. The number of constraints is 10, but rank is 6\n",
      "  warnings.warn('covariance of constraints does not have full '\n",
      "/Users/oost464/opt/anaconda3/envs/pyciems310/lib/python3.10/site-packages/statsmodels/base/model.py:1896: ValueWarning: covariance of constraints does not have full rank. The number of constraints is 10, but rank is 6\n",
      "  warnings.warn('covariance of constraints does not have full '\n",
      "/Users/oost464/opt/anaconda3/envs/pyciems310/lib/python3.10/site-packages/statsmodels/base/model.py:1896: ValueWarning: covariance of constraints does not have full rank. The number of constraints is 10, but rank is 6\n",
      "  warnings.warn('covariance of constraints does not have full '\n",
      "/Users/oost464/opt/anaconda3/envs/pyciems310/lib/python3.10/site-packages/statsmodels/base/model.py:1896: ValueWarning: covariance of constraints does not have full rank. The number of constraints is 10, but rank is 6\n",
      "  warnings.warn('covariance of constraints does not have full '\n",
      "/Users/oost464/opt/anaconda3/envs/pyciems310/lib/python3.10/site-packages/statsmodels/base/model.py:1896: ValueWarning: covariance of constraints does not have full rank. The number of constraints is 10, but rank is 6\n",
      "  warnings.warn('covariance of constraints does not have full '\n",
      "/Users/oost464/opt/anaconda3/envs/pyciems310/lib/python3.10/site-packages/statsmodels/base/model.py:1896: ValueWarning: covariance of constraints does not have full rank. The number of constraints is 10, but rank is 6\n",
      "  warnings.warn('covariance of constraints does not have full '\n",
      "/Users/oost464/opt/anaconda3/envs/pyciems310/lib/python3.10/site-packages/statsmodels/base/model.py:1896: ValueWarning: covariance of constraints does not have full rank. The number of constraints is 10, but rank is 6\n",
      "  warnings.warn('covariance of constraints does not have full '\n",
      "/Users/oost464/opt/anaconda3/envs/pyciems310/lib/python3.10/site-packages/statsmodels/base/model.py:1896: ValueWarning: covariance of constraints does not have full rank. The number of constraints is 10, but rank is 6\n",
      "  warnings.warn('covariance of constraints does not have full '\n",
      "/Users/oost464/opt/anaconda3/envs/pyciems310/lib/python3.10/site-packages/statsmodels/base/model.py:1896: ValueWarning: covariance of constraints does not have full rank. The number of constraints is 10, but rank is 6\n",
      "  warnings.warn('covariance of constraints does not have full '\n",
      "/Users/oost464/opt/anaconda3/envs/pyciems310/lib/python3.10/site-packages/statsmodels/base/model.py:1896: ValueWarning: covariance of constraints does not have full rank. The number of constraints is 10, but rank is 6\n",
      "  warnings.warn('covariance of constraints does not have full '\n",
      "/Users/oost464/opt/anaconda3/envs/pyciems310/lib/python3.10/site-packages/statsmodels/base/model.py:1896: ValueWarning: covariance of constraints does not have full rank. The number of constraints is 10, but rank is 6\n",
      "  warnings.warn('covariance of constraints does not have full '\n",
      "/Users/oost464/opt/anaconda3/envs/pyciems310/lib/python3.10/site-packages/statsmodels/base/model.py:1896: ValueWarning: covariance of constraints does not have full rank. The number of constraints is 10, but rank is 6\n",
      "  warnings.warn('covariance of constraints does not have full '\n",
      "/Users/oost464/opt/anaconda3/envs/pyciems310/lib/python3.10/site-packages/statsmodels/base/model.py:1896: ValueWarning: covariance of constraints does not have full rank. The number of constraints is 10, but rank is 6\n",
      "  warnings.warn('covariance of constraints does not have full '\n",
      "/Users/oost464/opt/anaconda3/envs/pyciems310/lib/python3.10/site-packages/statsmodels/base/model.py:1896: ValueWarning: covariance of constraints does not have full rank. The number of constraints is 10, but rank is 6\n",
      "  warnings.warn('covariance of constraints does not have full '\n",
      "/Users/oost464/opt/anaconda3/envs/pyciems310/lib/python3.10/site-packages/statsmodels/base/model.py:1896: ValueWarning: covariance of constraints does not have full rank. The number of constraints is 10, but rank is 6\n",
      "  warnings.warn('covariance of constraints does not have full '\n",
      "/Users/oost464/opt/anaconda3/envs/pyciems310/lib/python3.10/site-packages/statsmodels/base/model.py:1896: ValueWarning: covariance of constraints does not have full rank. The number of constraints is 10, but rank is 6\n",
      "  warnings.warn('covariance of constraints does not have full '\n",
      "/Users/oost464/opt/anaconda3/envs/pyciems310/lib/python3.10/site-packages/statsmodels/base/model.py:1896: ValueWarning: covariance of constraints does not have full rank. The number of constraints is 10, but rank is 6\n",
      "  warnings.warn('covariance of constraints does not have full '\n",
      "/Users/oost464/opt/anaconda3/envs/pyciems310/lib/python3.10/site-packages/statsmodels/base/model.py:1896: ValueWarning: covariance of constraints does not have full rank. The number of constraints is 10, but rank is 6\n",
      "  warnings.warn('covariance of constraints does not have full '\n",
      "/Users/oost464/opt/anaconda3/envs/pyciems310/lib/python3.10/site-packages/statsmodels/base/model.py:1896: ValueWarning: covariance of constraints does not have full rank. The number of constraints is 10, but rank is 6\n",
      "  warnings.warn('covariance of constraints does not have full '\n",
      "/Users/oost464/opt/anaconda3/envs/pyciems310/lib/python3.10/site-packages/statsmodels/base/model.py:1896: ValueWarning: covariance of constraints does not have full rank. The number of constraints is 10, but rank is 6\n",
      "  warnings.warn('covariance of constraints does not have full '\n",
      "/Users/oost464/opt/anaconda3/envs/pyciems310/lib/python3.10/site-packages/statsmodels/base/model.py:1896: ValueWarning: covariance of constraints does not have full rank. The number of constraints is 10, but rank is 6\n",
      "  warnings.warn('covariance of constraints does not have full '\n",
      "/Users/oost464/opt/anaconda3/envs/pyciems310/lib/python3.10/site-packages/statsmodels/base/model.py:1896: ValueWarning: covariance of constraints does not have full rank. The number of constraints is 10, but rank is 6\n",
      "  warnings.warn('covariance of constraints does not have full '\n",
      "/Users/oost464/opt/anaconda3/envs/pyciems310/lib/python3.10/site-packages/statsmodels/base/model.py:1896: ValueWarning: covariance of constraints does not have full rank. The number of constraints is 10, but rank is 6\n",
      "  warnings.warn('covariance of constraints does not have full '\n",
      "/Users/oost464/opt/anaconda3/envs/pyciems310/lib/python3.10/site-packages/statsmodels/base/model.py:1896: ValueWarning: covariance of constraints does not have full rank. The number of constraints is 10, but rank is 6\n",
      "  warnings.warn('covariance of constraints does not have full '\n",
      "/Users/oost464/opt/anaconda3/envs/pyciems310/lib/python3.10/site-packages/statsmodels/base/model.py:1896: ValueWarning: covariance of constraints does not have full rank. The number of constraints is 10, but rank is 6\n",
      "  warnings.warn('covariance of constraints does not have full '\n",
      "/Users/oost464/opt/anaconda3/envs/pyciems310/lib/python3.10/site-packages/statsmodels/base/model.py:1896: ValueWarning: covariance of constraints does not have full rank. The number of constraints is 10, but rank is 6\n",
      "  warnings.warn('covariance of constraints does not have full '\n",
      "/Users/oost464/opt/anaconda3/envs/pyciems310/lib/python3.10/site-packages/statsmodels/base/model.py:1896: ValueWarning: covariance of constraints does not have full rank. The number of constraints is 10, but rank is 6\n",
      "  warnings.warn('covariance of constraints does not have full '\n",
      "/Users/oost464/opt/anaconda3/envs/pyciems310/lib/python3.10/site-packages/statsmodels/base/model.py:1896: ValueWarning: covariance of constraints does not have full rank. The number of constraints is 10, but rank is 6\n",
      "  warnings.warn('covariance of constraints does not have full '\n",
      "/Users/oost464/opt/anaconda3/envs/pyciems310/lib/python3.10/site-packages/statsmodels/base/model.py:1896: ValueWarning: covariance of constraints does not have full rank. The number of constraints is 10, but rank is 6\n",
      "  warnings.warn('covariance of constraints does not have full '\n",
      "/Users/oost464/opt/anaconda3/envs/pyciems310/lib/python3.10/site-packages/statsmodels/base/model.py:1896: ValueWarning: covariance of constraints does not have full rank. The number of constraints is 10, but rank is 6\n",
      "  warnings.warn('covariance of constraints does not have full '\n",
      "/Users/oost464/opt/anaconda3/envs/pyciems310/lib/python3.10/site-packages/statsmodels/base/model.py:1896: ValueWarning: covariance of constraints does not have full rank. The number of constraints is 10, but rank is 6\n",
      "  warnings.warn('covariance of constraints does not have full '\n",
      "/Users/oost464/opt/anaconda3/envs/pyciems310/lib/python3.10/site-packages/statsmodels/base/model.py:1896: ValueWarning: covariance of constraints does not have full rank. The number of constraints is 10, but rank is 6\n",
      "  warnings.warn('covariance of constraints does not have full '\n",
      "/Users/oost464/opt/anaconda3/envs/pyciems310/lib/python3.10/site-packages/statsmodels/base/model.py:1896: ValueWarning: covariance of constraints does not have full rank. The number of constraints is 10, but rank is 6\n",
      "  warnings.warn('covariance of constraints does not have full '\n",
      "/Users/oost464/opt/anaconda3/envs/pyciems310/lib/python3.10/site-packages/statsmodels/base/model.py:1896: ValueWarning: covariance of constraints does not have full rank. The number of constraints is 10, but rank is 6\n",
      "  warnings.warn('covariance of constraints does not have full '\n"
     ]
    },
    {
     "name": "stdout",
     "output_type": "stream",
     "text": [
      "ssr based F test:         F=-7.8872 , p=1.0000  , df_denom=79, df_num=10\n",
      "ssr based chi2 test:   chi2=-89.8541, p=1.0000  , df=10\n",
      "likelihood ratio test: chi2=-578.2452, p=1.0000  , df=10\n",
      "parameter F test:         F=105861.9438, p=0.0000  , df_denom=79, df_num=6\n",
      "\n",
      "Granger Causality\n",
      "number of lags (no zero) 10\n",
      "ssr based F test:         F=-3.7004 , p=1.0000  , df_denom=79, df_num=10\n",
      "ssr based chi2 test:   chi2=-42.1567, p=1.0000  , df=10\n",
      "likelihood ratio test: chi2=-56.8690, p=1.0000  , df=10\n",
      "parameter F test:         F=35295813.9609, p=0.0000  , df_denom=79, df_num=6\n",
      "\n",
      "Granger Causality\n",
      "number of lags (no zero) 10\n",
      "ssr based F test:         F=-7.8970 , p=1.0000  , df_denom=79, df_num=10\n",
      "ssr based chi2 test:   chi2=-89.9661, p=1.0000  , df=10\n",
      "likelihood ratio test: chi2=-709.6945, p=1.0000  , df=10\n",
      "parameter F test:         F=24424.8915, p=0.0000  , df_denom=79, df_num=6\n",
      "\n",
      "Granger Causality\n",
      "number of lags (no zero) 10\n",
      "ssr based F test:         F=-7.8985 , p=1.0000  , df_denom=79, df_num=10\n",
      "ssr based chi2 test:   chi2=-89.9832, p=1.0000  , df=10\n",
      "likelihood ratio test: chi2=-772.7335, p=1.0000  , df=10\n",
      "parameter F test:         F=12145.0790, p=0.0000  , df_denom=79, df_num=6\n",
      "\n",
      "Granger Causality\n",
      "number of lags (no zero) 10\n",
      "ssr based F test:         F=-7.8940 , p=1.0000  , df_denom=79, df_num=10\n",
      "ssr based chi2 test:   chi2=-89.9318, p=1.0000  , df=10\n",
      "likelihood ratio test: chi2=-646.7065, p=1.0000  , df=10\n",
      "parameter F test:         F=49349.2787, p=0.0000  , df_denom=79, df_num=6\n",
      "\n",
      "Granger Causality\n",
      "number of lags (no zero) 10\n",
      "ssr based F test:         F=-7.8997 , p=1.0000  , df_denom=79, df_num=10\n",
      "ssr based chi2 test:   chi2=-89.9963, p=1.0000  , df=10\n",
      "likelihood ratio test: chi2=-909.3363, p=1.0000  , df=10\n",
      "parameter F test:         F=2690.7576, p=0.0000  , df_denom=79, df_num=6\n"
     ]
    },
    {
     "name": "stderr",
     "output_type": "stream",
     "text": [
      "/Users/oost464/opt/anaconda3/envs/pyciems310/lib/python3.10/site-packages/statsmodels/base/model.py:1896: ValueWarning: covariance of constraints does not have full rank. The number of constraints is 10, but rank is 6\n",
      "  warnings.warn('covariance of constraints does not have full '\n",
      "/Users/oost464/opt/anaconda3/envs/pyciems310/lib/python3.10/site-packages/statsmodels/base/model.py:1896: ValueWarning: covariance of constraints does not have full rank. The number of constraints is 10, but rank is 6\n",
      "  warnings.warn('covariance of constraints does not have full '\n",
      "/Users/oost464/opt/anaconda3/envs/pyciems310/lib/python3.10/site-packages/statsmodels/base/model.py:1896: ValueWarning: covariance of constraints does not have full rank. The number of constraints is 10, but rank is 6\n",
      "  warnings.warn('covariance of constraints does not have full '\n",
      "/Users/oost464/opt/anaconda3/envs/pyciems310/lib/python3.10/site-packages/statsmodels/base/model.py:1896: ValueWarning: covariance of constraints does not have full rank. The number of constraints is 10, but rank is 6\n",
      "  warnings.warn('covariance of constraints does not have full '\n",
      "/Users/oost464/opt/anaconda3/envs/pyciems310/lib/python3.10/site-packages/statsmodels/base/model.py:1896: ValueWarning: covariance of constraints does not have full rank. The number of constraints is 10, but rank is 6\n",
      "  warnings.warn('covariance of constraints does not have full '\n"
     ]
    },
    {
     "name": "stdout",
     "output_type": "stream",
     "text": [
      "trajectory  infected_observable_state_var  timepoint_id\n",
      "timepoint                                              \n",
      "0                               11.969685             0\n",
      "1                               15.828713             1\n",
      "2                               18.445007             2\n",
      "3                               20.906946             3\n",
      "4                               23.540363             4\n",
      "...                                   ...           ...\n",
      "94                          348138.093750            94\n",
      "95                          325088.843750            95\n",
      "96                          302895.062500            96\n",
      "97                          281833.750000            97\n",
      "98                          261997.953125            98\n",
      "\n",
      "[99 rows x 2 columns]\n",
      "\n"
     ]
    },
    {
     "data": {
      "application/vnd.vega.v5+json": {
       "$schema": "https://vega.github.io/schema/vega/v5.json",
       "axes": [
        {
         "name": "x_axis",
         "orient": "bottom",
         "scale": "xscale",
         "zindex": 100
        },
        {
         "name": "y_axis",
         "orient": "left",
         "scale": "yscale",
         "zindex": 100
        }
       ],
       "data": [
        {
         "name": "distributions",
         "transform": [
          {
           "sort": {
            "field": [
             "trajectory",
             "timepoint"
            ]
           },
           "type": "collect"
          }
         ],
         "values": [
          {
           "lower": -1.602947479178989,
           "timepoint": 0,
           "trajectory": "same_stat_state",
           "upper": 1.4807614313944186
          },
          {
           "lower": -0.602947479178989,
           "timepoint": 1,
           "trajectory": "same_stat_state",
           "upper": 2.4807614313944186
          },
          {
           "lower": -0.41374036417626797,
           "timepoint": 2,
           "trajectory": "same_stat_state",
           "upper": 2.66996854639714
          },
          {
           "lower": -0.2868734662264967,
           "timepoint": 3,
           "trajectory": "same_stat_state",
           "upper": 2.796835444346911
          },
          {
           "lower": -0.18873391680589385,
           "timepoint": 4,
           "trajectory": "same_stat_state",
           "upper": 2.894974993767514
          },
          {
           "lower": -0.10759869795776847,
           "timepoint": 5,
           "trajectory": "same_stat_state",
           "upper": 2.9761102126156396
          },
          {
           "lower": -0.03786289910570167,
           "timepoint": 6,
           "trajectory": "same_stat_state",
           "upper": 3.045846011467706
          },
          {
           "lower": 0.023629082518796543,
           "timepoint": 7,
           "trajectory": "same_stat_state",
           "upper": 3.1073379930922043
          },
          {
           "lower": 0.07884535132843992,
           "timepoint": 8,
           "trajectory": "same_stat_state",
           "upper": 3.162554261901848
          },
          {
           "lower": 0.12910332838988814,
           "timepoint": 9,
           "trajectory": "same_stat_state",
           "upper": 3.212812238963296
          },
          {
           "lower": 0.17533193085993365,
           "timepoint": 10,
           "trajectory": "same_stat_state",
           "upper": 3.2590408414333414
          },
          {
           "lower": 0.21821280765888273,
           "timepoint": 11,
           "trajectory": "same_stat_state",
           "upper": 3.3019217182322906
          },
          {
           "lower": 0.25826223902521006,
           "timepoint": 12,
           "trajectory": "same_stat_state",
           "upper": 3.341971149598618
          },
          {
           "lower": 0.29588144293695273,
           "timepoint": 13,
           "trajectory": "same_stat_state",
           "upper": 3.3795903535103604
          },
          {
           "lower": 0.33138894108868033,
           "timepoint": 14,
           "trajectory": "same_stat_state",
           "upper": 3.415097851662088
          },
          {
           "lower": 0.36504219208644123,
           "timepoint": 15,
           "trajectory": "same_stat_state",
           "upper": 3.448751102659849
          },
          {
           "lower": 0.39705252082101095,
           "timepoint": 16,
           "trajectory": "same_stat_state",
           "upper": 3.4807614313944186
          },
          {
           "lower": 0.42759570568994154,
           "timepoint": 17,
           "trajectory": "same_stat_state",
           "upper": 3.511304616263349
          },
          {
           "lower": 0.4568196647281286,
           "timepoint": 18,
           "trajectory": "same_stat_state",
           "upper": 3.5405285753015363
          },
          {
           "lower": 0.4848501507508549,
           "timepoint": 19,
           "trajectory": "same_stat_state",
           "upper": 3.5685590613242626
          },
          {
           "lower": 0.5117950477021391,
           "timepoint": 20,
           "trajectory": "same_stat_state",
           "upper": 3.5955039582755473
          },
          {
           "lower": 0.5377476637490834,
           "timepoint": 21,
           "trajectory": "same_stat_state",
           "upper": 3.6214565743224916
          },
          {
           "lower": 0.5627892914890047,
           "timepoint": 22,
           "trajectory": "same_stat_state",
           "upper": 3.6464982020624124
          },
          {
           "lower": 0.586991223915853,
           "timepoint": 23,
           "trajectory": "same_stat_state",
           "upper": 3.6707001344892607
          },
          {
           "lower": 0.6104163602216539,
           "timepoint": 24,
           "trajectory": "same_stat_state",
           "upper": 3.6941252707950616
          },
          {
           "lower": 0.6331204983208008,
           "timepoint": 25,
           "trajectory": "same_stat_state",
           "upper": 3.7168294088942084
          },
          {
           "lower": 0.6551533851742366,
           "timepoint": 26,
           "trajectory": "same_stat_state",
           "upper": 3.7388622957476443
          },
          {
           "lower": 0.6765595777757885,
           "timepoint": 27,
           "trajectory": "same_stat_state",
           "upper": 3.760268488349196
          },
          {
           "lower": 0.6973791546122168,
           "timepoint": 28,
           "trajectory": "same_stat_state",
           "upper": 3.7810880651856245
          },
          {
           "lower": 0.7176483079270948,
           "timepoint": 29,
           "trajectory": "same_stat_state",
           "upper": 3.8013572185005025
          },
          {
           "lower": 0.737399840141727,
           "timepoint": 30,
           "trajectory": "same_stat_state",
           "upper": 3.8211087507151347
          },
          {
           "lower": 0.756663582591578,
           "timepoint": 31,
           "trajectory": "same_stat_state",
           "upper": 3.8403724931649856
          },
          {
           "lower": 0.775466750826453,
           "timepoint": 32,
           "trajectory": "same_stat_state",
           "upper": 3.8591756613998607
          },
          {
           "lower": 0.7938342477494411,
           "timepoint": 33,
           "trajectory": "same_stat_state",
           "upper": 3.8775431583228483
          },
          {
           "lower": 0.8117889235874289,
           "timepoint": 34,
           "trajectory": "same_stat_state",
           "upper": 3.8954978341608366
          },
          {
           "lower": 0.8293517999187985,
           "timepoint": 35,
           "trajectory": "same_stat_state",
           "upper": 3.9130607104922066
          },
          {
           "lower": 0.8465422636041888,
           "timepoint": 36,
           "trajectory": "same_stat_state",
           "upper": 3.9302511741775965
          },
          {
           "lower": 0.8633782353806716,
           "timepoint": 37,
           "trajectory": "same_stat_state",
           "upper": 3.9470871459540797
          },
          {
           "lower": 0.8798763170193993,
           "timepoint": 38,
           "trajectory": "same_stat_state",
           "upper": 3.9635852275928074
          },
          {
           "lower": 0.8960519202603943,
           "timepoint": 39,
           "trajectory": "same_stat_state",
           "upper": 3.979760830833801
          },
          {
           "lower": 0.9119193801868818,
           "timepoint": 40,
           "trajectory": "same_stat_state",
           "upper": 3.9956282907602896
          },
          {
           "lower": 0.927492055256254,
           "timepoint": 41,
           "trajectory": "same_stat_state",
           "upper": 4.011200965829661
          },
          {
           "lower": 0.9427824158428414,
           "timepoint": 42,
           "trajectory": "same_stat_state",
           "upper": 4.02649132641625
          },
          {
           "lower": 0.9578021228520258,
           "timepoint": 43,
           "trajectory": "same_stat_state",
           "upper": 4.041511033425434
          },
          {
           "lower": 0.9725620977224054,
           "timepoint": 44,
           "trajectory": "same_stat_state",
           "upper": 4.0562710082958136
          },
          {
           "lower": 0.9870725849323623,
           "timepoint": 45,
           "trajectory": "same_stat_state",
           "upper": 4.07078149550577
          },
          {
           "lower": 1.0013432079612288,
           "timepoint": 46,
           "trajectory": "same_stat_state",
           "upper": 4.0850521185346365
          },
          {
           "lower": 1.0153830195168962,
           "timepoint": 47,
           "trajectory": "same_stat_state",
           "upper": 4.099091930090304
          },
          {
           "lower": 1.029200546725996,
           "timepoint": 48,
           "trajectory": "same_stat_state",
           "upper": 4.112909457299403
          },
          {
           "lower": 1.0428038318856017,
           "timepoint": 49,
           "trajectory": "same_stat_state",
           "upper": 4.126512742459009
          },
          {
           "lower": 1.0562004692935052,
           "timepoint": 50,
           "trajectory": "same_stat_state",
           "upper": 4.139909379866913
          },
          {
           "lower": 1.0693976386047994,
           "timepoint": 51,
           "trajectory": "same_stat_state",
           "upper": 4.153106549178207
          },
          {
           "lower": 1.082402135103661,
           "timepoint": 52,
           "trajectory": "same_stat_state",
           "upper": 4.166111045677069
          },
          {
           "lower": 1.0952203972290961,
           "timepoint": 53,
           "trajectory": "same_stat_state",
           "upper": 4.1789293078025045
          },
          {
           "lower": 1.1078585316505454,
           "timepoint": 54,
           "trajectory": "same_stat_state",
           "upper": 4.1915674422239535
          },
          {
           "lower": 1.1203223361525112,
           "timepoint": 55,
           "trajectory": "same_stat_state",
           "upper": 4.204031246725919
          },
          {
           "lower": 1.1326173205557717,
           "timepoint": 56,
           "trajectory": "same_stat_state",
           "upper": 4.216326231129179
          },
          {
           "lower": 1.1447487258754834,
           "timepoint": 57,
           "trajectory": "same_stat_state",
           "upper": 4.2284576364488915
          },
          {
           "lower": 1.1567215418929055,
           "timepoint": 58,
           "trajectory": "same_stat_state",
           "upper": 4.240430452466313
          },
          {
           "lower": 1.168540523297047,
           "timepoint": 59,
           "trajectory": "same_stat_state",
           "upper": 4.252249433870454
          },
          {
           "lower": 1.1802102045347513,
           "timepoint": 60,
           "trajectory": "same_stat_state",
           "upper": 4.26391911510816
          },
          {
           "lower": 1.1917349134922521,
           "timepoint": 61,
           "trajectory": "same_stat_state",
           "upper": 4.27544382406566
          },
          {
           "lower": 1.203118784117694,
           "timepoint": 62,
           "trajectory": "same_stat_state",
           "upper": 4.286827694691102
          },
          {
           "lower": 1.2143657680822686,
           "timepoint": 63,
           "trajectory": "same_stat_state",
           "upper": 4.298074678655676
          },
          {
           "lower": 1.2254796455672012,
           "timepoint": 64,
           "trajectory": "same_stat_state",
           "upper": 4.309188556140609
          },
          {
           "lower": 1.2364640352546887,
           "timepoint": 65,
           "trajectory": "same_stat_state",
           "upper": 4.320172945828096
          },
          {
           "lower": 1.2473224035928092,
           "timepoint": 66,
           "trajectory": "same_stat_state",
           "upper": 4.331031314166217
          },
          {
           "lower": 1.2580580733973163,
           "timepoint": 67,
           "trajectory": "same_stat_state",
           "upper": 4.341766983970724
          },
          {
           "lower": 1.2686742318469115,
           "timepoint": 68,
           "trajectory": "same_stat_state",
           "upper": 4.35238314242032
          },
          {
           "lower": 1.279173937923017,
           "timepoint": 69,
           "trajectory": "same_stat_state",
           "upper": 4.362882848496425
          },
          {
           "lower": 1.289560129340089,
           "timepoint": 70,
           "trajectory": "same_stat_state",
           "upper": 4.373269039913496
          },
          {
           "lower": 1.2998356290081106,
           "timepoint": 71,
           "trajectory": "same_stat_state",
           "upper": 4.383544539581519
          },
          {
           "lower": 1.3100031510649515,
           "timepoint": 72,
           "trajectory": "same_stat_state",
           "upper": 4.393712061638359
          },
          {
           "lower": 1.3200653065127759,
           "timepoint": 73,
           "trajectory": "same_stat_state",
           "upper": 4.403774217086183
          },
          {
           "lower": 1.330024608489529,
           "timepoint": 74,
           "trajectory": "same_stat_state",
           "upper": 4.413733519062936
          },
          {
           "lower": 1.339883477203723,
           "timepoint": 75,
           "trajectory": "same_stat_state",
           "upper": 4.423592387777131
          },
          {
           "lower": 1.3496442445582002,
           "timepoint": 76,
           "trajectory": "same_stat_state",
           "upper": 4.433353155131608
          },
          {
           "lower": 1.3593091584863097,
           "timepoint": 77,
           "trajectory": "same_stat_state",
           "upper": 4.443018069059717
          },
          {
           "lower": 1.3688803870218524,
           "timepoint": 78,
           "trajectory": "same_stat_state",
           "upper": 4.45258929759526
          },
          {
           "lower": 1.3783600221223427,
           "timepoint": 79,
           "trajectory": "same_stat_state",
           "upper": 4.46206893269575
          },
          {
           "lower": 1.387750083263452,
           "timepoint": 80,
           "trajectory": "same_stat_state",
           "upper": 4.471458993836859
          },
          {
           "lower": 1.397052520821011,
           "timepoint": 81,
           "trajectory": "same_stat_state",
           "upper": 4.48076143139442
          },
          {
           "lower": 1.4062692192555748,
           "timepoint": 82,
           "trajectory": "same_stat_state",
           "upper": 4.489978129828983
          },
          {
           "lower": 1.415402000113344,
           "timepoint": 83,
           "trajectory": "same_stat_state",
           "upper": 4.499110910686752
          },
          {
           "lower": 1.4244526248561018,
           "timepoint": 84,
           "trajectory": "same_stat_state",
           "upper": 4.508161535429509
          },
          {
           "lower": 1.433422797531822,
           "timepoint": 85,
           "trajectory": "same_stat_state",
           "upper": 4.51713170810523
          },
          {
           "lower": 1.4423141672966802,
           "timepoint": 86,
           "trajectory": "same_stat_state",
           "upper": 4.5260230778700885
          },
          {
           "lower": 1.4511283307983625,
           "timepoint": 87,
           "trajectory": "same_stat_state",
           "upper": 4.53483724137177
          },
          {
           "lower": 1.459866834429797,
           "timepoint": 88,
           "trajectory": "same_stat_state",
           "upper": 4.543575745003205
          },
          {
           "lower": 1.468531176461744,
           "timepoint": 89,
           "trajectory": "same_stat_state",
           "upper": 4.552240087035151
          },
          {
           "lower": 1.477122809062034,
           "timepoint": 90,
           "trajectory": "same_stat_state",
           "upper": 4.560831719635442
          },
          {
           "lower": 1.485643140208672,
           "timepoint": 91,
           "trajectory": "same_stat_state",
           "upper": 4.56935205078208
          },
          {
           "lower": 1.4940935355034834,
           "timepoint": 92,
           "trajectory": "same_stat_state",
           "upper": 4.577802446076891
          },
          {
           "lower": 1.5024753198924923,
           "timepoint": 93,
           "trajectory": "same_stat_state",
           "upper": 4.5861842304659
          },
          {
           "lower": 1.5107897792987808,
           "timepoint": 94,
           "trajectory": "same_stat_state",
           "upper": 4.5944986898721885
          },
          {
           "lower": 1.5190381621731563,
           "timepoint": 95,
           "trajectory": "same_stat_state",
           "upper": 4.602747072746564
          },
          {
           "lower": 1.5272216809675856,
           "timepoint": 96,
           "trajectory": "same_stat_state",
           "upper": 4.610930591540993
          },
          {
           "lower": 1.5353415135360071,
           "timepoint": 97,
           "trajectory": "same_stat_state",
           "upper": 4.619050424109415
          },
          {
           "lower": 1.5433988044667994,
           "timepoint": 98,
           "trajectory": "same_stat_state",
           "upper": 4.627107715040207
          },
          {
           "lower": 1.5513946663509153,
           "timepoint": 99,
           "trajectory": "same_stat_state",
           "upper": 4.635103576924323
          }
         ]
        },
        {
         "name": "traces",
         "transform": [
          {
           "expr": "isValid(datum.value)",
           "type": "filter"
          },
          {
           "sort": {
            "field": [
             "trajectory",
             "timepoint"
            ]
           },
           "type": "collect"
          }
         ],
         "values": [
          {
           "sample_id": 0,
           "timepoint": 0,
           "trajectory": "traces_mean",
           "value": -0.1762356938378863
          },
          {
           "sample_id": 0,
           "timepoint": 1,
           "trajectory": "traces_mean",
           "value": 0.8237643061621137
          },
          {
           "sample_id": 0,
           "timepoint": 2,
           "trajectory": "traces_mean",
           "value": 1.0129714211648346
          },
          {
           "sample_id": 0,
           "timepoint": 3,
           "trajectory": "traces_mean",
           "value": 1.139838319114606
          },
          {
           "sample_id": 0,
           "timepoint": 4,
           "trajectory": "traces_mean",
           "value": 1.2379778685352087
          },
          {
           "sample_id": 0,
           "timepoint": 5,
           "trajectory": "traces_mean",
           "value": 1.319113087383334
          },
          {
           "sample_id": 0,
           "timepoint": 6,
           "trajectory": "traces_mean",
           "value": 1.388848886235401
          },
          {
           "sample_id": 0,
           "timepoint": 7,
           "trajectory": "traces_mean",
           "value": 1.4503408678598992
          },
          {
           "sample_id": 0,
           "timepoint": 8,
           "trajectory": "traces_mean",
           "value": 1.5055571366695426
          },
          {
           "sample_id": 0,
           "timepoint": 9,
           "trajectory": "traces_mean",
           "value": 1.5558151137309908
          },
          {
           "sample_id": 0,
           "timepoint": 10,
           "trajectory": "traces_mean",
           "value": 1.6020437162010364
          },
          {
           "sample_id": 0,
           "timepoint": 11,
           "trajectory": "traces_mean",
           "value": 1.6449245929999854
          },
          {
           "sample_id": 0,
           "timepoint": 12,
           "trajectory": "traces_mean",
           "value": 1.6849740243663127
          },
          {
           "sample_id": 0,
           "timepoint": 13,
           "trajectory": "traces_mean",
           "value": 1.7225932282780554
          },
          {
           "sample_id": 0,
           "timepoint": 14,
           "trajectory": "traces_mean",
           "value": 1.758100726429783
          },
          {
           "sample_id": 0,
           "timepoint": 15,
           "trajectory": "traces_mean",
           "value": 1.791753977427544
          },
          {
           "sample_id": 0,
           "timepoint": 16,
           "trajectory": "traces_mean",
           "value": 1.8237643061621136
          },
          {
           "sample_id": 0,
           "timepoint": 17,
           "trajectory": "traces_mean",
           "value": 1.854307491031044
          },
          {
           "sample_id": 0,
           "timepoint": 18,
           "trajectory": "traces_mean",
           "value": 1.8835314500692315
          },
          {
           "sample_id": 0,
           "timepoint": 19,
           "trajectory": "traces_mean",
           "value": 1.9115619360919576
          },
          {
           "sample_id": 0,
           "timepoint": 20,
           "trajectory": "traces_mean",
           "value": 1.9385068330432416
          },
          {
           "sample_id": 0,
           "timepoint": 21,
           "trajectory": "traces_mean",
           "value": 1.964459449090186
          },
          {
           "sample_id": 0,
           "timepoint": 22,
           "trajectory": "traces_mean",
           "value": 1.9895010768301076
          },
          {
           "sample_id": 0,
           "timepoint": 23,
           "trajectory": "traces_mean",
           "value": 2.013703009256956
          },
          {
           "sample_id": 0,
           "timepoint": 24,
           "trajectory": "traces_mean",
           "value": 2.037128145562757
          },
          {
           "sample_id": 0,
           "timepoint": 25,
           "trajectory": "traces_mean",
           "value": 2.0598322836619034
          },
          {
           "sample_id": 0,
           "timepoint": 26,
           "trajectory": "traces_mean",
           "value": 2.0818651705153397
          },
          {
           "sample_id": 0,
           "timepoint": 27,
           "trajectory": "traces_mean",
           "value": 2.103271363116891
          },
          {
           "sample_id": 0,
           "timepoint": 28,
           "trajectory": "traces_mean",
           "value": 2.1240909399533194
          },
          {
           "sample_id": 0,
           "timepoint": 29,
           "trajectory": "traces_mean",
           "value": 2.144360093268197
          },
          {
           "sample_id": 0,
           "timepoint": 30,
           "trajectory": "traces_mean",
           "value": 2.1641116254828296
          },
          {
           "sample_id": 0,
           "timepoint": 31,
           "trajectory": "traces_mean",
           "value": 2.1833753679326806
          },
          {
           "sample_id": 0,
           "timepoint": 32,
           "trajectory": "traces_mean",
           "value": 2.202178536167556
          },
          {
           "sample_id": 0,
           "timepoint": 33,
           "trajectory": "traces_mean",
           "value": 2.220546033090544
          },
          {
           "sample_id": 0,
           "timepoint": 34,
           "trajectory": "traces_mean",
           "value": 2.238500708928532
          },
          {
           "sample_id": 0,
           "timepoint": 35,
           "trajectory": "traces_mean",
           "value": 2.256063585259901
          },
          {
           "sample_id": 0,
           "timepoint": 36,
           "trajectory": "traces_mean",
           "value": 2.2732540489452915
          },
          {
           "sample_id": 0,
           "timepoint": 37,
           "trajectory": "traces_mean",
           "value": 2.2900900207217743
          },
          {
           "sample_id": 0,
           "timepoint": 38,
           "trajectory": "traces_mean",
           "value": 2.306588102360502
          },
          {
           "sample_id": 0,
           "timepoint": 39,
           "trajectory": "traces_mean",
           "value": 2.322763705601497
          },
          {
           "sample_id": 0,
           "timepoint": 40,
           "trajectory": "traces_mean",
           "value": 2.338631165527985
          },
          {
           "sample_id": 0,
           "timepoint": 41,
           "trajectory": "traces_mean",
           "value": 2.3542038405973567
          },
          {
           "sample_id": 0,
           "timepoint": 42,
           "trajectory": "traces_mean",
           "value": 2.369494201183944
          },
          {
           "sample_id": 0,
           "timepoint": 43,
           "trajectory": "traces_mean",
           "value": 2.3845139081931284
          },
          {
           "sample_id": 0,
           "timepoint": 44,
           "trajectory": "traces_mean",
           "value": 2.399273883063508
          },
          {
           "sample_id": 0,
           "timepoint": 45,
           "trajectory": "traces_mean",
           "value": 2.413784370273465
          },
          {
           "sample_id": 0,
           "timepoint": 46,
           "trajectory": "traces_mean",
           "value": 2.4280549933023314
          },
          {
           "sample_id": 0,
           "timepoint": 47,
           "trajectory": "traces_mean",
           "value": 2.442094804857999
          },
          {
           "sample_id": 0,
           "timepoint": 48,
           "trajectory": "traces_mean",
           "value": 2.4559123320670984
          },
          {
           "sample_id": 0,
           "timepoint": 49,
           "trajectory": "traces_mean",
           "value": 2.4695156172267043
          },
          {
           "sample_id": 0,
           "timepoint": 50,
           "trajectory": "traces_mean",
           "value": 2.482912254634608
          },
          {
           "sample_id": 0,
           "timepoint": 51,
           "trajectory": "traces_mean",
           "value": 2.496109423945902
          },
          {
           "sample_id": 0,
           "timepoint": 52,
           "trajectory": "traces_mean",
           "value": 2.509113920444764
          },
          {
           "sample_id": 0,
           "timepoint": 53,
           "trajectory": "traces_mean",
           "value": 2.521932182570199
          },
          {
           "sample_id": 0,
           "timepoint": 54,
           "trajectory": "traces_mean",
           "value": 2.534570316991648
          },
          {
           "sample_id": 0,
           "timepoint": 55,
           "trajectory": "traces_mean",
           "value": 2.547034121493614
          },
          {
           "sample_id": 0,
           "timepoint": 56,
           "trajectory": "traces_mean",
           "value": 2.5593291058968743
          },
          {
           "sample_id": 0,
           "timepoint": 57,
           "trajectory": "traces_mean",
           "value": 2.571460511216586
          },
          {
           "sample_id": 0,
           "timepoint": 58,
           "trajectory": "traces_mean",
           "value": 2.583433327234008
          },
          {
           "sample_id": 0,
           "timepoint": 59,
           "trajectory": "traces_mean",
           "value": 2.5952523086381496
          },
          {
           "sample_id": 0,
           "timepoint": 60,
           "trajectory": "traces_mean",
           "value": 2.606921989875854
          },
          {
           "sample_id": 0,
           "timepoint": 61,
           "trajectory": "traces_mean",
           "value": 2.618446698833355
          },
          {
           "sample_id": 0,
           "timepoint": 62,
           "trajectory": "traces_mean",
           "value": 2.6298305694587967
          },
          {
           "sample_id": 0,
           "timepoint": 63,
           "trajectory": "traces_mean",
           "value": 2.6410775534233712
          },
          {
           "sample_id": 0,
           "timepoint": 64,
           "trajectory": "traces_mean",
           "value": 2.652191430908304
          },
          {
           "sample_id": 0,
           "timepoint": 65,
           "trajectory": "traces_mean",
           "value": 2.663175820595791
          },
          {
           "sample_id": 0,
           "timepoint": 66,
           "trajectory": "traces_mean",
           "value": 2.674034188933912
          },
          {
           "sample_id": 0,
           "timepoint": 67,
           "trajectory": "traces_mean",
           "value": 2.684769858738419
          },
          {
           "sample_id": 0,
           "timepoint": 68,
           "trajectory": "traces_mean",
           "value": 2.695386017188014
          },
          {
           "sample_id": 0,
           "timepoint": 69,
           "trajectory": "traces_mean",
           "value": 2.70588572326412
          },
          {
           "sample_id": 0,
           "timepoint": 70,
           "trajectory": "traces_mean",
           "value": 2.716271914681192
          },
          {
           "sample_id": 0,
           "timepoint": 71,
           "trajectory": "traces_mean",
           "value": 2.726547414349213
          },
          {
           "sample_id": 0,
           "timepoint": 72,
           "trajectory": "traces_mean",
           "value": 2.736714936406054
          },
          {
           "sample_id": 0,
           "timepoint": 73,
           "trajectory": "traces_mean",
           "value": 2.7467770918538785
          },
          {
           "sample_id": 0,
           "timepoint": 74,
           "trajectory": "traces_mean",
           "value": 2.756736393830632
          },
          {
           "sample_id": 0,
           "timepoint": 75,
           "trajectory": "traces_mean",
           "value": 2.7665952625448256
          },
          {
           "sample_id": 0,
           "timepoint": 76,
           "trajectory": "traces_mean",
           "value": 2.776356029899303
          },
          {
           "sample_id": 0,
           "timepoint": 77,
           "trajectory": "traces_mean",
           "value": 2.7860209438274124
          },
          {
           "sample_id": 0,
           "timepoint": 78,
           "trajectory": "traces_mean",
           "value": 2.795592172362955
          },
          {
           "sample_id": 0,
           "timepoint": 79,
           "trajectory": "traces_mean",
           "value": 2.8050718074634453
          },
          {
           "sample_id": 0,
           "timepoint": 80,
           "trajectory": "traces_mean",
           "value": 2.8144618686045546
          },
          {
           "sample_id": 0,
           "timepoint": 81,
           "trajectory": "traces_mean",
           "value": 2.8237643061621136
          },
          {
           "sample_id": 0,
           "timepoint": 82,
           "trajectory": "traces_mean",
           "value": 2.832981004596677
          },
          {
           "sample_id": 0,
           "timepoint": 83,
           "trajectory": "traces_mean",
           "value": 2.8421137854544467
          },
          {
           "sample_id": 0,
           "timepoint": 84,
           "trajectory": "traces_mean",
           "value": 2.8511644101972045
          },
          {
           "sample_id": 0,
           "timepoint": 85,
           "trajectory": "traces_mean",
           "value": 2.8601345828729245
          },
          {
           "sample_id": 0,
           "timepoint": 86,
           "trajectory": "traces_mean",
           "value": 2.869025952637783
          },
          {
           "sample_id": 0,
           "timepoint": 87,
           "trajectory": "traces_mean",
           "value": 2.877840116139465
          },
          {
           "sample_id": 0,
           "timepoint": 88,
           "trajectory": "traces_mean",
           "value": 2.8865786197709
          },
          {
           "sample_id": 0,
           "timepoint": 89,
           "trajectory": "traces_mean",
           "value": 2.8952429618028463
          },
          {
           "sample_id": 0,
           "timepoint": 90,
           "trajectory": "traces_mean",
           "value": 2.9038345944031367
          },
          {
           "sample_id": 0,
           "timepoint": 91,
           "trajectory": "traces_mean",
           "value": 2.9123549255497747
          },
          {
           "sample_id": 0,
           "timepoint": 92,
           "trajectory": "traces_mean",
           "value": 2.920805320844586
          },
          {
           "sample_id": 0,
           "timepoint": 93,
           "trajectory": "traces_mean",
           "value": 2.929187105233595
          },
          {
           "sample_id": 0,
           "timepoint": 94,
           "trajectory": "traces_mean",
           "value": 2.9375015646398834
          },
          {
           "sample_id": 0,
           "timepoint": 95,
           "trajectory": "traces_mean",
           "value": 2.945749947514259
          },
          {
           "sample_id": 0,
           "timepoint": 96,
           "trajectory": "traces_mean",
           "value": 2.953933466308688
          },
          {
           "sample_id": 0,
           "timepoint": 97,
           "trajectory": "traces_mean",
           "value": 2.9620532988771098
          },
          {
           "sample_id": 0,
           "timepoint": 98,
           "trajectory": "traces_mean",
           "value": 2.970110589807902
          },
          {
           "sample_id": 0,
           "timepoint": 99,
           "trajectory": "traces_mean",
           "value": 2.978106451692018
          },
          {
           "sample_id": 0,
           "timepoint": 0,
           "trajectory": "traces_var",
           "value": -1.6414094060264903
          },
          {
           "sample_id": 0,
           "timepoint": 1,
           "trajectory": "traces_var",
           "value": -0.6414094060264903
          },
          {
           "sample_id": 0,
           "timepoint": 2,
           "trajectory": "traces_var",
           "value": -0.4522022910237693
          },
          {
           "sample_id": 0,
           "timepoint": 3,
           "trajectory": "traces_var",
           "value": -0.3253353930739979
          },
          {
           "sample_id": 0,
           "timepoint": 4,
           "trajectory": "traces_var",
           "value": -0.2271958436533951
          },
          {
           "sample_id": 0,
           "timepoint": 5,
           "trajectory": "traces_var",
           "value": -0.1460606248052698
          },
          {
           "sample_id": 0,
           "timepoint": 6,
           "trajectory": "traces_var",
           "value": -0.076324825953203
          },
          {
           "sample_id": 0,
           "timepoint": 7,
           "trajectory": "traces_var",
           "value": -0.0148328443287046
          },
          {
           "sample_id": 0,
           "timepoint": 8,
           "trajectory": "traces_var",
           "value": 0.0403834244809386
          },
          {
           "sample_id": 0,
           "timepoint": 9,
           "trajectory": "traces_var",
           "value": 0.0906414015423868
          },
          {
           "sample_id": 0,
           "timepoint": 10,
           "trajectory": "traces_var",
           "value": 0.1368700040124324
          },
          {
           "sample_id": 0,
           "timepoint": 11,
           "trajectory": "traces_var",
           "value": 0.1797508808113814
          },
          {
           "sample_id": 0,
           "timepoint": 12,
           "trajectory": "traces_var",
           "value": 0.2198003121777088
          },
          {
           "sample_id": 0,
           "timepoint": 13,
           "trajectory": "traces_var",
           "value": 0.2574195160894514
          },
          {
           "sample_id": 0,
           "timepoint": 14,
           "trajectory": "traces_var",
           "value": 0.292927014241179
          },
          {
           "sample_id": 0,
           "timepoint": 15,
           "trajectory": "traces_var",
           "value": 0.32658026523894
          },
          {
           "sample_id": 0,
           "timepoint": 16,
           "trajectory": "traces_var",
           "value": 0.3585905939735097
          },
          {
           "sample_id": 0,
           "timepoint": 17,
           "trajectory": "traces_var",
           "value": 0.3891337788424402
          },
          {
           "sample_id": 0,
           "timepoint": 18,
           "trajectory": "traces_var",
           "value": 0.4183577378806273
          },
          {
           "sample_id": 0,
           "timepoint": 19,
           "trajectory": "traces_var",
           "value": 0.4463882239033536
          },
          {
           "sample_id": 0,
           "timepoint": 20,
           "trajectory": "traces_var",
           "value": 0.4733331208546378
          },
          {
           "sample_id": 0,
           "timepoint": 21,
           "trajectory": "traces_var",
           "value": 0.4992857369015822
          },
          {
           "sample_id": 0,
           "timepoint": 22,
           "trajectory": "traces_var",
           "value": 0.5243273646415034
          },
          {
           "sample_id": 0,
           "timepoint": 23,
           "trajectory": "traces_var",
           "value": 0.5485292970683517
          },
          {
           "sample_id": 0,
           "timepoint": 24,
           "trajectory": "traces_var",
           "value": 0.5719544333741526
          },
          {
           "sample_id": 0,
           "timepoint": 25,
           "trajectory": "traces_var",
           "value": 0.5946585714732995
          },
          {
           "sample_id": 0,
           "timepoint": 26,
           "trajectory": "traces_var",
           "value": 0.6166914583267353
          },
          {
           "sample_id": 0,
           "timepoint": 27,
           "trajectory": "traces_var",
           "value": 0.6380976509282872
          },
          {
           "sample_id": 0,
           "timepoint": 28,
           "trajectory": "traces_var",
           "value": 0.6589172277647155
          },
          {
           "sample_id": 0,
           "timepoint": 29,
           "trajectory": "traces_var",
           "value": 0.6791863810795935
          },
          {
           "sample_id": 0,
           "timepoint": 30,
           "trajectory": "traces_var",
           "value": 0.6989379132942257
          },
          {
           "sample_id": 0,
           "timepoint": 31,
           "trajectory": "traces_var",
           "value": 0.7182016557440767
          },
          {
           "sample_id": 0,
           "timepoint": 32,
           "trajectory": "traces_var",
           "value": 0.7370048239789517
          },
          {
           "sample_id": 0,
           "timepoint": 33,
           "trajectory": "traces_var",
           "value": 0.7553723209019398
          },
          {
           "sample_id": 0,
           "timepoint": 34,
           "trajectory": "traces_var",
           "value": 0.7733269967399277
          },
          {
           "sample_id": 0,
           "timepoint": 35,
           "trajectory": "traces_var",
           "value": 0.7908898730712972
          },
          {
           "sample_id": 0,
           "timepoint": 36,
           "trajectory": "traces_var",
           "value": 0.8080803367566876
          },
          {
           "sample_id": 0,
           "timepoint": 37,
           "trajectory": "traces_var",
           "value": 0.8249163085331703
          },
          {
           "sample_id": 0,
           "timepoint": 38,
           "trajectory": "traces_var",
           "value": 0.841414390171898
          },
          {
           "sample_id": 0,
           "timepoint": 39,
           "trajectory": "traces_var",
           "value": 0.857589993412893
          },
          {
           "sample_id": 0,
           "timepoint": 40,
           "trajectory": "traces_var",
           "value": 0.8734574533393806
          },
          {
           "sample_id": 0,
           "timepoint": 41,
           "trajectory": "traces_var",
           "value": 0.8890301284087527
          },
          {
           "sample_id": 0,
           "timepoint": 42,
           "trajectory": "traces_var",
           "value": 0.9043204889953402
          },
          {
           "sample_id": 0,
           "timepoint": 43,
           "trajectory": "traces_var",
           "value": 0.9193401960045244
          },
          {
           "sample_id": 0,
           "timepoint": 44,
           "trajectory": "traces_var",
           "value": 0.9341001708749042
          },
          {
           "sample_id": 0,
           "timepoint": 45,
           "trajectory": "traces_var",
           "value": 0.948610658084861
          },
          {
           "sample_id": 0,
           "timepoint": 46,
           "trajectory": "traces_var",
           "value": 0.9628812811137276
          },
          {
           "sample_id": 0,
           "timepoint": 47,
           "trajectory": "traces_var",
           "value": 0.976921092669395
          },
          {
           "sample_id": 0,
           "timepoint": 48,
           "trajectory": "traces_var",
           "value": 0.9907386198784944
          },
          {
           "sample_id": 0,
           "timepoint": 49,
           "trajectory": "traces_var",
           "value": 1.0043419050381004
          },
          {
           "sample_id": 0,
           "timepoint": 50,
           "trajectory": "traces_var",
           "value": 1.017738542446004
          },
          {
           "sample_id": 0,
           "timepoint": 51,
           "trajectory": "traces_var",
           "value": 1.030935711757298
          },
          {
           "sample_id": 0,
           "timepoint": 52,
           "trajectory": "traces_var",
           "value": 1.0439402082561595
          },
          {
           "sample_id": 0,
           "timepoint": 53,
           "trajectory": "traces_var",
           "value": 1.056758470381595
          },
          {
           "sample_id": 0,
           "timepoint": 54,
           "trajectory": "traces_var",
           "value": 1.069396604803044
          },
          {
           "sample_id": 0,
           "timepoint": 55,
           "trajectory": "traces_var",
           "value": 1.08186040930501
          },
          {
           "sample_id": 0,
           "timepoint": 56,
           "trajectory": "traces_var",
           "value": 1.0941553937082704
          },
          {
           "sample_id": 0,
           "timepoint": 57,
           "trajectory": "traces_var",
           "value": 1.106286799027982
          },
          {
           "sample_id": 0,
           "timepoint": 58,
           "trajectory": "traces_var",
           "value": 1.1182596150454045
          },
          {
           "sample_id": 0,
           "timepoint": 59,
           "trajectory": "traces_var",
           "value": 1.1300785964495457
          },
          {
           "sample_id": 0,
           "timepoint": 60,
           "trajectory": "traces_var",
           "value": 1.14174827768725
          },
          {
           "sample_id": 0,
           "timepoint": 61,
           "trajectory": "traces_var",
           "value": 1.1532729866447509
          },
          {
           "sample_id": 0,
           "timepoint": 62,
           "trajectory": "traces_var",
           "value": 1.1646568572701927
          },
          {
           "sample_id": 0,
           "timepoint": 63,
           "trajectory": "traces_var",
           "value": 1.175903841234767
          },
          {
           "sample_id": 0,
           "timepoint": 64,
           "trajectory": "traces_var",
           "value": 1.1870177187197
          },
          {
           "sample_id": 0,
           "timepoint": 65,
           "trajectory": "traces_var",
           "value": 1.1980021084071872
          },
          {
           "sample_id": 0,
           "timepoint": 66,
           "trajectory": "traces_var",
           "value": 1.208860476745308
          },
          {
           "sample_id": 0,
           "timepoint": 67,
           "trajectory": "traces_var",
           "value": 1.2195961465498149
          },
          {
           "sample_id": 0,
           "timepoint": 68,
           "trajectory": "traces_var",
           "value": 1.2302123049994105
          },
          {
           "sample_id": 0,
           "timepoint": 69,
           "trajectory": "traces_var",
           "value": 1.2407120110755157
          },
          {
           "sample_id": 0,
           "timepoint": 70,
           "trajectory": "traces_var",
           "value": 1.2510982024925876
          },
          {
           "sample_id": 0,
           "timepoint": 71,
           "trajectory": "traces_var",
           "value": 1.2613737021606093
          },
          {
           "sample_id": 0,
           "timepoint": 72,
           "trajectory": "traces_var",
           "value": 1.2715412242174502
          },
          {
           "sample_id": 0,
           "timepoint": 73,
           "trajectory": "traces_var",
           "value": 1.2816033796652746
          },
          {
           "sample_id": 0,
           "timepoint": 74,
           "trajectory": "traces_var",
           "value": 1.2915626816420278
          },
          {
           "sample_id": 0,
           "timepoint": 75,
           "trajectory": "traces_var",
           "value": 1.3014215503562216
          },
          {
           "sample_id": 0,
           "timepoint": 76,
           "trajectory": "traces_var",
           "value": 1.311182317710699
          },
          {
           "sample_id": 0,
           "timepoint": 77,
           "trajectory": "traces_var",
           "value": 1.3208472316388085
          },
          {
           "sample_id": 0,
           "timepoint": 78,
           "trajectory": "traces_var",
           "value": 1.3304184601743512
          },
          {
           "sample_id": 0,
           "timepoint": 79,
           "trajectory": "traces_var",
           "value": 1.3398980952748414
          },
          {
           "sample_id": 0,
           "timepoint": 80,
           "trajectory": "traces_var",
           "value": 1.349288156415951
          },
          {
           "sample_id": 0,
           "timepoint": 81,
           "trajectory": "traces_var",
           "value": 1.3585905939735097
          },
          {
           "sample_id": 0,
           "timepoint": 82,
           "trajectory": "traces_var",
           "value": 1.3678072924080735
          },
          {
           "sample_id": 0,
           "timepoint": 83,
           "trajectory": "traces_var",
           "value": 1.3769400732658428
          },
          {
           "sample_id": 0,
           "timepoint": 84,
           "trajectory": "traces_var",
           "value": 1.3859906980086003
          },
          {
           "sample_id": 0,
           "timepoint": 85,
           "trajectory": "traces_var",
           "value": 1.3949608706843206
          },
          {
           "sample_id": 0,
           "timepoint": 86,
           "trajectory": "traces_var",
           "value": 1.4038522404491791
          },
          {
           "sample_id": 0,
           "timepoint": 87,
           "trajectory": "traces_var",
           "value": 1.4126664039508612
          },
          {
           "sample_id": 0,
           "timepoint": 88,
           "trajectory": "traces_var",
           "value": 1.4214049075822957
          },
          {
           "sample_id": 0,
           "timepoint": 89,
           "trajectory": "traces_var",
           "value": 1.4300692496142424
          },
          {
           "sample_id": 0,
           "timepoint": 90,
           "trajectory": "traces_var",
           "value": 1.4386608822145328
          },
          {
           "sample_id": 0,
           "timepoint": 91,
           "trajectory": "traces_var",
           "value": 1.4471812133611708
          },
          {
           "sample_id": 0,
           "timepoint": 92,
           "trajectory": "traces_var",
           "value": 1.4556316086559822
          },
          {
           "sample_id": 0,
           "timepoint": 93,
           "trajectory": "traces_var",
           "value": 1.464013393044991
          },
          {
           "sample_id": 0,
           "timepoint": 94,
           "trajectory": "traces_var",
           "value": 1.4723278524512795
          },
          {
           "sample_id": 0,
           "timepoint": 95,
           "trajectory": "traces_var",
           "value": 1.4805762353256549
          },
          {
           "sample_id": 0,
           "timepoint": 96,
           "trajectory": "traces_var",
           "value": 1.4887597541200843
          },
          {
           "sample_id": 0,
           "timepoint": 97,
           "trajectory": "traces_var",
           "value": 1.4968795866885058
          },
          {
           "sample_id": 0,
           "timepoint": 98,
           "trajectory": "traces_var",
           "value": 1.5049368776192982
          },
          {
           "sample_id": 0,
           "timepoint": 99,
           "trajectory": "traces_var",
           "value": 1.512932739503414
          },
          {
           "sample_id": 0,
           "timepoint": 0,
           "trajectory": "traces_granger",
           "value": -0.9788185955244696
          },
          {
           "sample_id": 0,
           "timepoint": 1,
           "trajectory": "traces_granger",
           "value": 0.0211814044755305
          },
          {
           "sample_id": 0,
           "timepoint": 2,
           "trajectory": "traces_granger",
           "value": 0.2103885194782515
          },
          {
           "sample_id": 0,
           "timepoint": 3,
           "trajectory": "traces_granger",
           "value": 0.3372554174280229
          },
          {
           "sample_id": 0,
           "timepoint": 4,
           "trajectory": "traces_granger",
           "value": 0.4353949668486256
          },
          {
           "sample_id": 0,
           "timepoint": 5,
           "trajectory": "traces_granger",
           "value": 0.516530185696751
          },
          {
           "sample_id": 0,
           "timepoint": 6,
           "trajectory": "traces_granger",
           "value": 0.5862659845488178
          },
          {
           "sample_id": 0,
           "timepoint": 7,
           "trajectory": "traces_granger",
           "value": 0.6477579661733162
          },
          {
           "sample_id": 0,
           "timepoint": 8,
           "trajectory": "traces_granger",
           "value": 0.7029742349829595
          },
          {
           "sample_id": 0,
           "timepoint": 9,
           "trajectory": "traces_granger",
           "value": 0.7532322120444077
          },
          {
           "sample_id": 0,
           "timepoint": 10,
           "trajectory": "traces_granger",
           "value": 0.7994608145144533
          },
          {
           "sample_id": 0,
           "timepoint": 11,
           "trajectory": "traces_granger",
           "value": 0.8423416913134023
          },
          {
           "sample_id": 0,
           "timepoint": 12,
           "trajectory": "traces_granger",
           "value": 0.8823911226797296
          },
          {
           "sample_id": 0,
           "timepoint": 13,
           "trajectory": "traces_granger",
           "value": 0.9200103265914724
          },
          {
           "sample_id": 0,
           "timepoint": 14,
           "trajectory": "traces_granger",
           "value": 0.9555178247432
          },
          {
           "sample_id": 0,
           "timepoint": 15,
           "trajectory": "traces_granger",
           "value": 0.9891710757409607
          },
          {
           "sample_id": 0,
           "timepoint": 16,
           "trajectory": "traces_granger",
           "value": 1.0211814044755303
          },
          {
           "sample_id": 0,
           "timepoint": 17,
           "trajectory": "traces_granger",
           "value": 1.0517245893444611
          },
          {
           "sample_id": 0,
           "timepoint": 18,
           "trajectory": "traces_granger",
           "value": 1.0809485483826482
          },
          {
           "sample_id": 0,
           "timepoint": 19,
           "trajectory": "traces_granger",
           "value": 1.1089790344053745
          },
          {
           "sample_id": 0,
           "timepoint": 20,
           "trajectory": "traces_granger",
           "value": 1.1359239313566587
          },
          {
           "sample_id": 0,
           "timepoint": 21,
           "trajectory": "traces_granger",
           "value": 1.161876547403603
          },
          {
           "sample_id": 0,
           "timepoint": 22,
           "trajectory": "traces_granger",
           "value": 1.1869181751435245
          },
          {
           "sample_id": 0,
           "timepoint": 23,
           "trajectory": "traces_granger",
           "value": 1.2111201075703726
          },
          {
           "sample_id": 0,
           "timepoint": 24,
           "trajectory": "traces_granger",
           "value": 1.2345452438761737
          },
          {
           "sample_id": 0,
           "timepoint": 25,
           "trajectory": "traces_granger",
           "value": 1.2572493819753203
          },
          {
           "sample_id": 0,
           "timepoint": 26,
           "trajectory": "traces_granger",
           "value": 1.2792822688287562
          },
          {
           "sample_id": 0,
           "timepoint": 27,
           "trajectory": "traces_granger",
           "value": 1.300688461430308
          },
          {
           "sample_id": 0,
           "timepoint": 28,
           "trajectory": "traces_granger",
           "value": 1.3215080382667364
          },
          {
           "sample_id": 0,
           "timepoint": 29,
           "trajectory": "traces_granger",
           "value": 1.3417771915816143
          },
          {
           "sample_id": 0,
           "timepoint": 30,
           "trajectory": "traces_granger",
           "value": 1.3615287237962466
          },
          {
           "sample_id": 0,
           "timepoint": 31,
           "trajectory": "traces_granger",
           "value": 1.3807924662460975
          },
          {
           "sample_id": 0,
           "timepoint": 32,
           "trajectory": "traces_granger",
           "value": 1.3995956344809726
          },
          {
           "sample_id": 0,
           "timepoint": 33,
           "trajectory": "traces_granger",
           "value": 1.417963131403961
          },
          {
           "sample_id": 0,
           "timepoint": 34,
           "trajectory": "traces_granger",
           "value": 1.4359178072419485
          },
          {
           "sample_id": 0,
           "timepoint": 35,
           "trajectory": "traces_granger",
           "value": 1.453480683573318
          },
          {
           "sample_id": 0,
           "timepoint": 36,
           "trajectory": "traces_granger",
           "value": 1.4706711472587084
          },
          {
           "sample_id": 0,
           "timepoint": 37,
           "trajectory": "traces_granger",
           "value": 1.4875071190351912
          },
          {
           "sample_id": 0,
           "timepoint": 38,
           "trajectory": "traces_granger",
           "value": 1.5040052006739189
          },
          {
           "sample_id": 0,
           "timepoint": 39,
           "trajectory": "traces_granger",
           "value": 1.5201808039149138
          },
          {
           "sample_id": 0,
           "timepoint": 40,
           "trajectory": "traces_granger",
           "value": 1.5360482638414017
          },
          {
           "sample_id": 0,
           "timepoint": 41,
           "trajectory": "traces_granger",
           "value": 1.5516209389107736
          },
          {
           "sample_id": 0,
           "timepoint": 42,
           "trajectory": "traces_granger",
           "value": 1.566911299497361
          },
          {
           "sample_id": 0,
           "timepoint": 43,
           "trajectory": "traces_granger",
           "value": 1.5819310065065453
          },
          {
           "sample_id": 0,
           "timepoint": 44,
           "trajectory": "traces_granger",
           "value": 1.596690981376925
          },
          {
           "sample_id": 0,
           "timepoint": 45,
           "trajectory": "traces_granger",
           "value": 1.6112014685868818
          },
          {
           "sample_id": 0,
           "timepoint": 46,
           "trajectory": "traces_granger",
           "value": 1.6254720916157483
          },
          {
           "sample_id": 0,
           "timepoint": 47,
           "trajectory": "traces_granger",
           "value": 1.6395119031714158
          },
          {
           "sample_id": 0,
           "timepoint": 48,
           "trajectory": "traces_granger",
           "value": 1.6533294303805153
          },
          {
           "sample_id": 0,
           "timepoint": 49,
           "trajectory": "traces_granger",
           "value": 1.6669327155401212
          },
          {
           "sample_id": 0,
           "timepoint": 50,
           "trajectory": "traces_granger",
           "value": 1.6803293529480248
          },
          {
           "sample_id": 0,
           "timepoint": 51,
           "trajectory": "traces_granger",
           "value": 1.693526522259319
          },
          {
           "sample_id": 0,
           "timepoint": 52,
           "trajectory": "traces_granger",
           "value": 1.7065310187581806
          },
          {
           "sample_id": 0,
           "timepoint": 53,
           "trajectory": "traces_granger",
           "value": 1.719349280883616
          },
          {
           "sample_id": 0,
           "timepoint": 54,
           "trajectory": "traces_granger",
           "value": 1.731987415305065
          },
          {
           "sample_id": 0,
           "timepoint": 55,
           "trajectory": "traces_granger",
           "value": 1.7444512198070308
          },
          {
           "sample_id": 0,
           "timepoint": 56,
           "trajectory": "traces_granger",
           "value": 1.7567462042102913
          },
          {
           "sample_id": 0,
           "timepoint": 57,
           "trajectory": "traces_granger",
           "value": 1.768877609530003
          },
          {
           "sample_id": 0,
           "timepoint": 58,
           "trajectory": "traces_granger",
           "value": 1.7808504255474251
          },
          {
           "sample_id": 0,
           "timepoint": 59,
           "trajectory": "traces_granger",
           "value": 1.7926694069515663
          },
          {
           "sample_id": 0,
           "timepoint": 60,
           "trajectory": "traces_granger",
           "value": 1.804339088189271
          },
          {
           "sample_id": 0,
           "timepoint": 61,
           "trajectory": "traces_granger",
           "value": 1.815863797146772
          },
          {
           "sample_id": 0,
           "timepoint": 62,
           "trajectory": "traces_granger",
           "value": 1.8272476677722136
          },
          {
           "sample_id": 0,
           "timepoint": 63,
           "trajectory": "traces_granger",
           "value": 1.838494651736788
          },
          {
           "sample_id": 0,
           "timepoint": 64,
           "trajectory": "traces_granger",
           "value": 1.8496085292217208
          },
          {
           "sample_id": 0,
           "timepoint": 65,
           "trajectory": "traces_granger",
           "value": 1.860592918909208
          },
          {
           "sample_id": 0,
           "timepoint": 66,
           "trajectory": "traces_granger",
           "value": 1.8714512872473288
          },
          {
           "sample_id": 0,
           "timepoint": 67,
           "trajectory": "traces_granger",
           "value": 1.882186957051836
          },
          {
           "sample_id": 0,
           "timepoint": 68,
           "trajectory": "traces_granger",
           "value": 1.892803115501431
          },
          {
           "sample_id": 0,
           "timepoint": 69,
           "trajectory": "traces_granger",
           "value": 1.9033028215775365
          },
          {
           "sample_id": 0,
           "timepoint": 70,
           "trajectory": "traces_granger",
           "value": 1.9136890129946085
          },
          {
           "sample_id": 0,
           "timepoint": 71,
           "trajectory": "traces_granger",
           "value": 1.92396451266263
          },
          {
           "sample_id": 0,
           "timepoint": 72,
           "trajectory": "traces_granger",
           "value": 1.934132034719471
          },
          {
           "sample_id": 0,
           "timepoint": 73,
           "trajectory": "traces_granger",
           "value": 1.9441941901672957
          },
          {
           "sample_id": 0,
           "timepoint": 74,
           "trajectory": "traces_granger",
           "value": 1.9541534921440489
          },
          {
           "sample_id": 0,
           "timepoint": 75,
           "trajectory": "traces_granger",
           "value": 1.9640123608582425
          },
          {
           "sample_id": 0,
           "timepoint": 76,
           "trajectory": "traces_granger",
           "value": 1.97377312821272
          },
          {
           "sample_id": 0,
           "timepoint": 77,
           "trajectory": "traces_granger",
           "value": 1.9834380421408293
          },
          {
           "sample_id": 0,
           "timepoint": 78,
           "trajectory": "traces_granger",
           "value": 1.993009270676372
          },
          {
           "sample_id": 0,
           "timepoint": 79,
           "trajectory": "traces_granger",
           "value": 2.002488905776862
          },
          {
           "sample_id": 0,
           "timepoint": 80,
           "trajectory": "traces_granger",
           "value": 2.011878966917972
          },
          {
           "sample_id": 0,
           "timepoint": 81,
           "trajectory": "traces_granger",
           "value": 2.0211814044755307
          },
          {
           "sample_id": 0,
           "timepoint": 82,
           "trajectory": "traces_granger",
           "value": 2.0303981029100946
          },
          {
           "sample_id": 0,
           "timepoint": 83,
           "trajectory": "traces_granger",
           "value": 2.0395308837678634
          },
          {
           "sample_id": 0,
           "timepoint": 84,
           "trajectory": "traces_granger",
           "value": 2.0485815085106216
          },
          {
           "sample_id": 0,
           "timepoint": 85,
           "trajectory": "traces_granger",
           "value": 2.057551681186341
          },
          {
           "sample_id": 0,
           "timepoint": 86,
           "trajectory": "traces_granger",
           "value": 2.0664430509512
          },
          {
           "sample_id": 0,
           "timepoint": 87,
           "trajectory": "traces_granger",
           "value": 2.075257214452882
          },
          {
           "sample_id": 0,
           "timepoint": 88,
           "trajectory": "traces_granger",
           "value": 2.0839957180843163
          },
          {
           "sample_id": 0,
           "timepoint": 89,
           "trajectory": "traces_granger",
           "value": 2.0926600601162635
          },
          {
           "sample_id": 0,
           "timepoint": 90,
           "trajectory": "traces_granger",
           "value": 2.101251692716554
          },
          {
           "sample_id": 0,
           "timepoint": 91,
           "trajectory": "traces_granger",
           "value": 2.109772023863192
          },
          {
           "sample_id": 0,
           "timepoint": 92,
           "trajectory": "traces_granger",
           "value": 2.118222419158003
          },
          {
           "sample_id": 0,
           "timepoint": 93,
           "trajectory": "traces_granger",
           "value": 2.126604203547012
          },
          {
           "sample_id": 0,
           "timepoint": 94,
           "trajectory": "traces_granger",
           "value": 2.1349186629533
          },
          {
           "sample_id": 0,
           "timepoint": 95,
           "trajectory": "traces_granger",
           "value": 2.143167045827676
          },
          {
           "sample_id": 0,
           "timepoint": 96,
           "trajectory": "traces_granger",
           "value": 2.1513505646221054
          },
          {
           "sample_id": 0,
           "timepoint": 97,
           "trajectory": "traces_granger",
           "value": 2.1594703971905265
          },
          {
           "sample_id": 0,
           "timepoint": 98,
           "trajectory": "traces_granger",
           "value": 2.167527688121319
          },
          {
           "sample_id": 0,
           "timepoint": 99,
           "trajectory": "traces_granger",
           "value": 2.175523550005435
          }
         ]
        },
        {
         "name": "points",
         "values": []
        },
        {
         "name": "markers",
         "values": []
        },
        {
         "name": "selected",
         "on": [
          {
           "remove": true,
           "trigger": "clear"
          },
          {
           "remove": true,
           "trigger": "!shift"
          },
          {
           "insert": "clicked",
           "trigger": "!shift && clicked"
          },
          {
           "toggle": "clicked",
           "trigger": "shift && clicked"
          }
         ]
        },
        {
         "name": "selectedData",
         "on": [
          {
           "remove": true,
           "trigger": "clearData"
          },
          {
           "toggle": "clickedData",
           "trigger": "clickedData"
          }
         ]
        }
       ],
       "height": 300,
       "legends": [
        {
         "encode": {
          "labels": {
           "interactive": true,
           "name": "legendLabel",
           "update": {
            "opacity": [
             {
              "test": "!length(data('selectedData')) || indata('selectedData', 'value', datum.value)",
              "value": 1
             },
             {
              "value": 0.25
             }
            ]
           }
          },
          "symbols": {
           "interactive": true,
           "name": "legendSymbol",
           "update": {
            "fill": {
             "value": "transparent"
            },
            "opacity": [
             {
              "test": "!length(data('selected')) || indata('selected', 'value', datum.value) || indata('selectedData', 'value', datum.value)",
              "value": 0.7
             },
             {
              "value": 0.15
             }
            ],
            "size": {
             "value": 64
            },
            "strokeWidth": {
             "value": 2
            }
           }
          }
         },
         "name": "color_legend",
         "stroke": "color"
        }
       ],
       "marks": [
        {
         "from": {
          "facet": {
           "data": "points",
           "groupby": "trajectory",
           "name": "points_split"
          }
         },
         "marks": [
          {
           "encode": {
            "hover": {
             "fillOpacity": {
              "value": 0.9
             }
            },
            "update": {
             "fill": {
              "field": "trajectory",
              "scale": "color"
             },
             "fillOpacity": [
              {
               "test": "!length(data('selected')) || indata('selected', 'value', datum.trajectory)",
               "value": 0.5
              },
              {
               "value": 0.15
              }
             ],
             "size": {
              "value": 35
             },
             "stroke": {
              "field": "trajectory",
              "scale": "color"
             },
             "strokeOpacity": [
              {
               "test": "!length(data('selected')) || indata('selected', 'value', datum.trajectory)",
               "value": 0.75
              },
              {
               "value": 0.15
              }
             ],
             "strokeWidth": {
              "value": 2
             },
             "tooltip": {
              "field": "value"
             },
             "x": {
              "field": "timepoint",
              "scale": "xscale"
             },
             "y": {
              "field": "value",
              "scale": "yscale"
             }
            }
           },
           "from": {
            "data": "points_split"
           },
           "name": "_points_symbol",
           "type": "symbol",
           "zindex": 3
          },
          {
           "encode": {
            "hover": {
             "fillOpacity": {
              "value": 0.9
             }
            },
            "update": {
             "interpolate": {
              "value": "linear"
             },
             "stroke": {
              "field": "trajectory",
              "scale": "color"
             },
             "strokeDash": {
              "value": [
               5,
               3
              ]
             },
             "strokeOpacity": [
              {
               "test": "!length(data('selected')) || indata('selected', 'value', datum.trajectory)",
               "value": 0.3
              },
              {
               "value": 0.1
              }
             ],
             "strokeWidth": {
              "value": 2
             },
             "x": {
              "field": "timepoint",
              "scale": "xscale"
             },
             "y": {
              "field": "value",
              "scale": "yscale"
             }
            }
           },
           "from": {
            "data": "points_split"
           },
           "name": "_points_line",
           "type": "line",
           "zindex": 3
          }
         ],
         "name": "_points",
         "type": "group",
         "zindex": 3
        },
        {
         "from": {
          "facet": {
           "data": "traces",
           "groupby": "trajectory",
           "name": "traces_split"
          }
         },
         "marks": [
          {
           "encode": {
            "hover": {
             "fillOpacity": {
              "value": 0.9
             }
            },
            "update": {
             "interpolate": {
              "value": "linear"
             },
             "stroke": {
              "field": "trajectory",
              "scale": "color"
             },
             "strokeOpacity": [
              {
               "test": "!length(data('selected')) || indata('selected', 'value', datum.trajectory)",
               "value": 0.75
              },
              {
               "value": 0.15
              }
             ],
             "strokeWidth": {
              "value": 2
             },
             "x": {
              "field": "timepoint",
              "scale": "xscale"
             },
             "y": {
              "field": "value",
              "scale": "yscale"
             }
            }
           },
           "from": {
            "data": "traces_split"
           },
           "name": "_traces_lines",
           "type": "line"
          }
         ],
         "name": "_traces",
         "type": "group",
         "zindex": 2
        },
        {
         "from": {
          "facet": {
           "data": "distributions",
           "groupby": "trajectory",
           "name": "trajectory_split"
          }
         },
         "marks": [
          {
           "encode": {
            "hover": {
             "fillOpacity": {
              "value": 0.9
             }
            },
            "update": {
             "fill": {
              "field": "trajectory",
              "scale": "color"
             },
             "fillOpacity": [
              {
               "test": "!length(data('selected')) || indata('selected', 'value', datum.trajectory)",
               "value": 0.5
              },
              {
               "value": 0.15
              }
             ],
             "interpolate": {
              "value": "linear"
             },
             "stroke": {
              "field": "trajectory",
              "scale": "color"
             },
             "strokeOpacity": [
              {
               "test": "!length(data('selected')) || indata('selected', 'value', datum.trajectory)",
               "value": 0.75
              },
              {
               "value": 0.15
              }
             ],
             "strokeWidth": {
              "value": 2
             },
             "x": {
              "field": "timepoint",
              "scale": "xscale"
             },
             "y": {
              "field": "upper",
              "scale": "yscale"
             },
             "y2": {
              "field": "lower",
              "scale": "yscale"
             }
            }
           },
           "from": {
            "data": "trajectory_split"
           },
           "interactive": true,
           "name": "area",
           "type": "area"
          }
         ],
         "name": "_distributions",
         "type": "group",
         "zindex": 1
        },
        {
         "marks": [
          {
           "encode": {
            "enter": {
             "stroke": {
              "value": "lightgray"
             }
            },
            "update": {
             "opacity": {
              "value": 1
             },
             "x": {
              "field": "timepoint",
              "scale": "xscale"
             },
             "y": {
              "signal": "height"
             },
             "y2": {
              "value": 0
             }
            }
           },
           "from": {
            "data": "markers"
           },
           "name": "_marker text",
           "type": "rule"
          },
          {
           "encode": {
            "enter": {
             "fontSize": {
              "value": 8
             },
             "text": {
              "field": "datum.label"
             },
             "y": {
              "value": 0
             }
            }
           },
           "from": {
            "data": "_marker text"
           },
           "name": "_marker flags",
           "transform": [
            {
             "as": [
              "x",
              "_y",
              "opacity",
              "align",
              "baseline"
             ],
             "lineAnchor": "start",
             "offset": [
              1
             ],
             "size": {
              "signal": "[width, height]"
             },
             "type": "label"
            }
           ],
           "type": "text"
          }
         ],
         "name": "_markers",
         "type": "group"
        }
       ],
       "scales": [
        {
         "domain": {
          "fields": [
           {
            "data": "distributions",
            "field": "timepoint"
           },
           {
            "data": "traces",
            "field": "timepoint"
           },
           {
            "data": "points",
            "field": "timepoint"
           },
           {
            "data": "markers",
            "field": "timepoint"
           }
          ]
         },
         "name": "xscale",
         "range": "width",
         "type": "linear",
         "zero": false
        },
        {
         "domain": {
          "fields": [
           {
            "data": "distributions",
            "field": "lower"
           },
           {
            "data": "distributions",
            "field": "upper"
           },
           {
            "data": "traces",
            "field": "value"
           },
           {
            "data": "points",
            "field": "value"
           }
          ]
         },
         "name": "yscale",
         "nice": true,
         "range": "height",
         "type": "linear",
         "zero": true
        },
        {
         "domain": {
          "fields": [
           {
            "data": "distributions",
            "field": "trajectory"
           },
           {
            "data": "traces",
            "field": "trajectory"
           },
           {
            "data": "points",
            "field": "trajectory"
           }
          ],
          "sort": {
           "order": "ascending"
          }
         },
         "name": "color",
         "range": "category",
         "type": "ordinal"
        }
       ],
       "signals": [
        {
         "name": "clear",
         "on": [
          {
           "events": "mouseup[!event.item]",
           "force": true,
           "update": "true"
          }
         ],
         "value": true
        },
        {
         "name": "shift",
         "on": [
          {
           "events": "@legendSymbol:click, @legendLabel:click",
           "force": true,
           "update": "event.shiftKey"
          }
         ],
         "value": false
        },
        {
         "name": "clicked",
         "on": [
          {
           "events": "@legendSymbol:click, @legendLabel:click",
           "force": true,
           "update": "{value: datum.value}"
          }
         ],
         "value": null
        },
        {
         "name": "clearData",
         "on": [
          {
           "events": "mouseup[!event.item]",
           "force": true,
           "update": "true"
          }
         ],
         "value": true
        },
        {
         "name": "clickedData",
         "on": [
          {
           "events": "@area:click",
           "force": true,
           "update": "{value: datum.trajectory}"
          }
         ],
         "value": null
        }
       ],
       "width": 500
      }
     },
     "metadata": {},
     "output_type": "display_data"
    }
   ],
   "source": [
    "#'timepoint_id', 'sample_id'\n",
    "sin_distribution = pd.read_csv(\"paper_sin/paper_sin_old_df.csv\")\n",
    "sin_distribution = sin_distribution.rename(\n",
    "            columns={\n",
    "                'Unnamed: 0': \"timepoint_id\",\n",
    "            }\n",
    "        )\n",
    "sin_distribution = sin_distribution.melt(id_vars=[\"timepoint_id\"], \n",
    "        var_name=\"sample_id\", \n",
    "        value_name=\"same_stat_state\")\n",
    "\n",
    "\n",
    "traces = pyciemss.visuals.trajectories.select_traces(sin_distribution, select_by = \"mean\")\n",
    "traces = traces.rename(\n",
    "            columns={\n",
    "                'same_stat_state': \"traces_mean\",\n",
    "            }\n",
    "        )\n",
    "traces['traces_var'] = pyciemss.visuals.trajectories.select_traces(sin_distribution, select_by = \"var\")[\"same_stat_state\"]\n",
    "traces['traces_granger'] = pyciemss.visuals.trajectories.select_traces(sin_distribution, select_by = \"granger\")[\"same_stat_state\"]\n",
    "schema = plots.trajectories(sin_distribution, traces = traces)\n",
    "print(traces_var)\n",
    "plots.save_schema(schema, \"_schema.json\")\n",
    "\n",
    "plots.ipy_display(schema, format=\"interactive\")\n",
    "image = plots.ipy_display(schema, format=\"PNG\").data\n",
    "save_result(image, \"paper_start\", \"png\")"
   ]
  }
 ],
 "metadata": {
  "kernelspec": {
   "display_name": "py310_cfg",
   "language": "python",
   "name": "python3"
  },
  "language_info": {
   "codemirror_mode": {
    "name": "ipython",
    "version": 3
   },
   "file_extension": ".py",
   "mimetype": "text/x-python",
   "name": "python",
   "nbconvert_exporter": "python",
   "pygments_lexer": "ipython3",
   "version": "3.10.13"
  }
 },
 "nbformat": 4,
 "nbformat_minor": 2
}
