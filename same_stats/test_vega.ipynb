{
 "cells": [
  {
   "cell_type": "code",
   "execution_count": 112,
   "metadata": {},
   "outputs": [],
   "source": [
    "\n",
    "# bundle = {\"application/vnd.vega.v5+json\": schema}\n",
    "# print(\"\", end=None)\n",
    "# IPython.display.display(bundle, raw=True)\n",
    "\n",
    "\n",
    "\n"
   ]
  },
  {
   "cell_type": "code",
   "execution_count": 1,
   "metadata": {},
   "outputs": [
    {
     "name": "stderr",
     "output_type": "stream",
     "text": [
      "/Users/oost464/opt/anaconda3/envs/pyciems310/lib/python3.10/site-packages/threadpoolctl.py:1223: RuntimeWarning: \n",
      "Found Intel OpenMP ('libiomp') and LLVM OpenMP ('libomp') loaded at\n",
      "the same time. Both libraries are known to be incompatible and this\n",
      "can cause random crashes or deadlocks on Linux when loaded in the\n",
      "same Python program.\n",
      "Using threadpoolctl may cause crashes or deadlocks. For more\n",
      "information and possible workarounds, please see\n",
      "    https://github.com/joblib/threadpoolctl/blob/master/multiple_openmp.md\n",
      "\n",
      "  warnings.warn(msg, RuntimeWarning)\n",
      "/Users/oost464/opt/anaconda3/envs/pyciems310/lib/python3.10/site-packages/tslearn/bases/bases.py:15: UserWarning: h5py not installed, hdf5 features will not be supported.\n",
      "Install h5py to use hdf5 features: http://docs.h5py.org/\n",
      "  warn(h5py_msg)\n"
     ]
    }
   ],
   "source": [
    "import networkx as nx\n",
    "import numpy as np\n",
    "import pandas as pd\n",
    "from pyciemss.integration_utils.result_processing import convert_to_output_format\n",
    "from pyciemss.visuals import  vega, plots\n",
    "from pathlib import Path\n",
    "import os\n",
    "import json \n",
    "\n",
    "from IPython.display import display"
   ]
  },
  {
   "cell_type": "code",
   "execution_count": 2,
   "metadata": {},
   "outputs": [],
   "source": [
    "import json\n",
    "import random\n",
    "from itertools import chain\n",
    "from pathlib import Path\n",
    "\n",
    "import networkx as nx\n",
    "import numpy as np\n",
    "import pandas as pd\n",
    "import pytest\n",
    "\n",
    "import pyciemss\n",
    "from pyciemss.integration_utils.result_processing import convert_to_output_format\n",
    "from pyciemss.visuals import plots, vega\n",
    "\n"
   ]
  },
  {
   "cell_type": "code",
   "execution_count": null,
   "metadata": {},
   "outputs": [],
   "source": [
    "\n"
   ]
  },
  {
   "cell_type": "code",
   "execution_count": 3,
   "metadata": {},
   "outputs": [
    {
     "name": "stdout",
     "output_type": "stream",
     "text": [
      "   timepoint_id  sample_id  persistent_beta_c_param  persistent_kappa_param  \\\n",
      "0             0          0                 0.174568                0.527441   \n",
      "1             1          0                 0.174568                0.527441   \n",
      "2             2          0                 0.174568                0.527441   \n",
      "3             3          0                 0.174568                0.527441   \n",
      "4             4          0                 0.174568                0.527441   \n",
      "\n",
      "   persistent_gamma_param  persistent_hosp_param  persistent_death_hosp_param  \\\n",
      "0                0.460574               0.111182                     0.046027   \n",
      "1                0.460574               0.111182                     0.046027   \n",
      "2                0.460574               0.111182                     0.046027   \n",
      "3                0.460574               0.111182                     0.046027   \n",
      "4                0.460574               0.111182                     0.046027   \n",
      "\n",
      "   persistent_I0_param   D_state    E_state   H_state    I_state    R_state  \\\n",
      "0            13.980658  0.000000  37.373966  0.715916  17.541527   5.723214   \n",
      "1            13.980658  0.006590  37.282585  1.470992  18.805843  13.040721   \n",
      "2            13.980658  0.020131  37.880894  2.139796  19.465004  21.019861   \n",
      "3            13.980658  0.039829  38.677288  2.708593  19.970150  29.396446   \n",
      "4            13.980658  0.064763  39.541012  3.189498  20.441736  38.088345   \n",
      "\n",
      "      S_state  infected_observable_state  exposed_observable_state  \\\n",
      "0  19339978.0                  17.541527                 37.373966   \n",
      "1  19339968.0                  18.805843                 37.282585   \n",
      "2  19339958.0                  19.465004                 37.880894   \n",
      "3  19339948.0                  19.970150                 38.677288   \n",
      "4  19339938.0                  20.441736                 39.541012   \n",
      "\n",
      "   hospitalized_observable_state  dead_observable_state  timepoint_notional  \n",
      "0                       0.715916               0.000000            0.000000  \n",
      "1                       1.470992               0.006590            1.020408  \n",
      "2                       2.139796               0.020131            2.040816  \n",
      "3                       2.708593               0.039829            3.061224  \n",
      "4                       3.189498               0.064763            4.081633  \n",
      "Index(['timepoint_id', 'sample_id', 'persistent_beta_c_param',\n",
      "       'persistent_kappa_param', 'persistent_gamma_param',\n",
      "       'persistent_hosp_param', 'persistent_death_hosp_param',\n",
      "       'persistent_I0_param', 'D_state', 'E_state', 'H_state', 'I_state',\n",
      "       'R_state', 'S_state', 'infected_observable_state',\n",
      "       'exposed_observable_state', 'hospitalized_observable_state',\n",
      "       'dead_observable_state', 'timepoint_notional'],\n",
      "      dtype='object')\n"
     ]
    }
   ],
   "source": [
    "def distributions():\n",
    "    model_1_path = (\n",
    "            \"https://raw.githubusercontent.com/DARPA-ASKEM/simulation-integration\"\n",
    "            \"/main/data/models/SEIRHD_NPI_Type1_petrinet.json\"\n",
    "    )\n",
    "    start_time = 0.0\n",
    "    end_time = 100.0\n",
    "    logging_step_size = 1\n",
    "    num_samples = 30\n",
    "    sample = pyciemss.sample(\n",
    "        model_1_path,\n",
    "        end_time,\n",
    "        logging_step_size,\n",
    "        num_samples,\n",
    "        start_time=start_time,\n",
    "        solver_method=\"euler\",\n",
    "    )[\"unprocessed_result\"]\n",
    "\n",
    "    for e in sample.values():\n",
    "        if len(e.shape) > 1:\n",
    "            num_timepoints = e.shape[1]\n",
    "\n",
    "    return convert_to_output_format(\n",
    "        sample,\n",
    "        timepoints=np.linspace(start_time, end_time, num_timepoints),\n",
    "        time_unit=\"notional\",\n",
    "    )\n",
    "\n",
    "distributions = distributions()\n",
    "print(distributions.head())\n",
    "print(distributions.columns)\n",
    "all_columns = [\"timepoint_id\", \"sample_id\", 'infected_observable_state',\n",
    "       'exposed_observable_state', 'hospitalized_observable_state',\n",
    "       'dead_observable_state']\n",
    "all_columns = [\"timepoint_id\", \"sample_id\", 'infected_observable_state']\n",
    "\n",
    "distributions = distributions[all_columns]"
   ]
  },
  {
   "cell_type": "code",
   "execution_count": 116,
   "metadata": {},
   "outputs": [],
   "source": [
    "# def traces(distributions):\n",
    "#     return (\n",
    "#         distributions[distributions[\"sample_id\"] == 0]\n",
    "#         .set_index(\"timepoint_notional\")[[\"dead_observable_state\", \"I_state\"]]\n",
    "#         .rename(\n",
    "#             columns={\n",
    "#                 \"dead_observable_state\": \"dead_exemplar\",\n",
    "#                 \"I_state\": \"I_exemplar\",\n",
    "#             }\n",
    "#         )\n",
    "#     )\n",
    "# traces = traces(distributions)\n",
    "# traces"
   ]
  },
  {
   "cell_type": "code",
   "execution_count": 6,
   "metadata": {},
   "outputs": [
    {
     "name": "stdout",
     "output_type": "stream",
     "text": [
      "Init 1\n"
     ]
    },
    {
     "name": "stderr",
     "output_type": "stream",
     "text": [
      "[Parallel(n_jobs=1)]: Done  49 tasks      | elapsed:    0.0s\n",
      "[Parallel(n_jobs=1)]: Done  49 tasks      | elapsed:    0.0s\n",
      "[Parallel(n_jobs=1)]: Done  49 tasks      | elapsed:    0.0s\n"
     ]
    },
    {
     "name": "stdout",
     "output_type": "stream",
     "text": [
      "590660332452.061 --> "
     ]
    },
    {
     "name": "stderr",
     "output_type": "stream",
     "text": [
      "[Parallel(n_jobs=1)]: Done  49 tasks      | elapsed:    0.0s\n"
     ]
    },
    {
     "name": "stdout",
     "output_type": "stream",
     "text": [
      "251058712856.549 --> "
     ]
    },
    {
     "name": "stderr",
     "output_type": "stream",
     "text": [
      "[Parallel(n_jobs=1)]: Done  49 tasks      | elapsed:    0.0s\n",
      "[Parallel(n_jobs=1)]: Done  49 tasks      | elapsed:    0.0s\n",
      "[Parallel(n_jobs=1)]: Done  49 tasks      | elapsed:    0.0s\n",
      "[Parallel(n_jobs=1)]: Done  49 tasks      | elapsed:    0.0s\n",
      "[Parallel(n_jobs=1)]: Done  49 tasks      | elapsed:    0.0s\n"
     ]
    },
    {
     "name": "stdout",
     "output_type": "stream",
     "text": [
      "251058712788.311 --> 251058712788.311 --> \n",
      "Init 2\n",
      "582320885036.671 --> "
     ]
    },
    {
     "name": "stderr",
     "output_type": "stream",
     "text": [
      "[Parallel(n_jobs=1)]: Done  49 tasks      | elapsed:    0.0s\n",
      "[Parallel(n_jobs=1)]: Done  49 tasks      | elapsed:    0.0s\n",
      "[Parallel(n_jobs=1)]: Done  49 tasks      | elapsed:    0.0s\n"
     ]
    },
    {
     "name": "stdout",
     "output_type": "stream",
     "text": [
      "239853870175.572 --> 239853870153.440 --> 239853870153.440 --> \n"
     ]
    },
    {
     "name": "stderr",
     "output_type": "stream",
     "text": [
      "[Parallel(n_jobs=1)]: Done  49 tasks      | elapsed:    0.0s\n"
     ]
    },
    {
     "ename": "TypeError",
     "evalue": "agg function failed [how->mean,dtype->object]",
     "output_type": "error",
     "traceback": [
      "\u001b[0;31m---------------------------------------------------------------------------\u001b[0m",
      "\u001b[0;31mTypeError\u001b[0m                                 Traceback (most recent call last)",
      "File \u001b[0;32m~/opt/anaconda3/envs/pyciems310/lib/python3.10/site-packages/pandas/core/groupby/groupby.py:1942\u001b[0m, in \u001b[0;36mGroupBy._agg_py_fallback\u001b[0;34m(self, how, values, ndim, alt)\u001b[0m\n\u001b[1;32m   1941\u001b[0m \u001b[38;5;28;01mtry\u001b[39;00m:\n\u001b[0;32m-> 1942\u001b[0m     res_values \u001b[38;5;241m=\u001b[39m \u001b[38;5;28;43mself\u001b[39;49m\u001b[38;5;241;43m.\u001b[39;49m\u001b[43m_grouper\u001b[49m\u001b[38;5;241;43m.\u001b[39;49m\u001b[43magg_series\u001b[49m\u001b[43m(\u001b[49m\u001b[43mser\u001b[49m\u001b[43m,\u001b[49m\u001b[43m \u001b[49m\u001b[43malt\u001b[49m\u001b[43m,\u001b[49m\u001b[43m \u001b[49m\u001b[43mpreserve_dtype\u001b[49m\u001b[38;5;241;43m=\u001b[39;49m\u001b[38;5;28;43;01mTrue\u001b[39;49;00m\u001b[43m)\u001b[49m\n\u001b[1;32m   1943\u001b[0m \u001b[38;5;28;01mexcept\u001b[39;00m \u001b[38;5;167;01mException\u001b[39;00m \u001b[38;5;28;01mas\u001b[39;00m err:\n",
      "File \u001b[0;32m~/opt/anaconda3/envs/pyciems310/lib/python3.10/site-packages/pandas/core/groupby/ops.py:864\u001b[0m, in \u001b[0;36mBaseGrouper.agg_series\u001b[0;34m(self, obj, func, preserve_dtype)\u001b[0m\n\u001b[1;32m    862\u001b[0m     preserve_dtype \u001b[38;5;241m=\u001b[39m \u001b[38;5;28;01mTrue\u001b[39;00m\n\u001b[0;32m--> 864\u001b[0m result \u001b[38;5;241m=\u001b[39m \u001b[38;5;28;43mself\u001b[39;49m\u001b[38;5;241;43m.\u001b[39;49m\u001b[43m_aggregate_series_pure_python\u001b[49m\u001b[43m(\u001b[49m\u001b[43mobj\u001b[49m\u001b[43m,\u001b[49m\u001b[43m \u001b[49m\u001b[43mfunc\u001b[49m\u001b[43m)\u001b[49m\n\u001b[1;32m    866\u001b[0m npvalues \u001b[38;5;241m=\u001b[39m lib\u001b[38;5;241m.\u001b[39mmaybe_convert_objects(result, try_float\u001b[38;5;241m=\u001b[39m\u001b[38;5;28;01mFalse\u001b[39;00m)\n",
      "File \u001b[0;32m~/opt/anaconda3/envs/pyciems310/lib/python3.10/site-packages/pandas/core/groupby/ops.py:885\u001b[0m, in \u001b[0;36mBaseGrouper._aggregate_series_pure_python\u001b[0;34m(self, obj, func)\u001b[0m\n\u001b[1;32m    884\u001b[0m \u001b[38;5;28;01mfor\u001b[39;00m i, group \u001b[38;5;129;01min\u001b[39;00m \u001b[38;5;28menumerate\u001b[39m(splitter):\n\u001b[0;32m--> 885\u001b[0m     res \u001b[38;5;241m=\u001b[39m \u001b[43mfunc\u001b[49m\u001b[43m(\u001b[49m\u001b[43mgroup\u001b[49m\u001b[43m)\u001b[49m\n\u001b[1;32m    886\u001b[0m     res \u001b[38;5;241m=\u001b[39m extract_result(res)\n",
      "File \u001b[0;32m~/opt/anaconda3/envs/pyciems310/lib/python3.10/site-packages/pandas/core/groupby/groupby.py:2454\u001b[0m, in \u001b[0;36mGroupBy.mean.<locals>.<lambda>\u001b[0;34m(x)\u001b[0m\n\u001b[1;32m   2451\u001b[0m \u001b[38;5;28;01melse\u001b[39;00m:\n\u001b[1;32m   2452\u001b[0m     result \u001b[38;5;241m=\u001b[39m \u001b[38;5;28mself\u001b[39m\u001b[38;5;241m.\u001b[39m_cython_agg_general(\n\u001b[1;32m   2453\u001b[0m         \u001b[38;5;124m\"\u001b[39m\u001b[38;5;124mmean\u001b[39m\u001b[38;5;124m\"\u001b[39m,\n\u001b[0;32m-> 2454\u001b[0m         alt\u001b[38;5;241m=\u001b[39m\u001b[38;5;28;01mlambda\u001b[39;00m x: \u001b[43mSeries\u001b[49m\u001b[43m(\u001b[49m\u001b[43mx\u001b[49m\u001b[43m,\u001b[49m\u001b[43m \u001b[49m\u001b[43mcopy\u001b[49m\u001b[38;5;241;43m=\u001b[39;49m\u001b[38;5;28;43;01mFalse\u001b[39;49;00m\u001b[43m)\u001b[49m\u001b[38;5;241;43m.\u001b[39;49m\u001b[43mmean\u001b[49m\u001b[43m(\u001b[49m\u001b[43mnumeric_only\u001b[49m\u001b[38;5;241;43m=\u001b[39;49m\u001b[43mnumeric_only\u001b[49m\u001b[43m)\u001b[49m,\n\u001b[1;32m   2455\u001b[0m         numeric_only\u001b[38;5;241m=\u001b[39mnumeric_only,\n\u001b[1;32m   2456\u001b[0m     )\n\u001b[1;32m   2457\u001b[0m     \u001b[38;5;28;01mreturn\u001b[39;00m result\u001b[38;5;241m.\u001b[39m__finalize__(\u001b[38;5;28mself\u001b[39m\u001b[38;5;241m.\u001b[39mobj, method\u001b[38;5;241m=\u001b[39m\u001b[38;5;124m\"\u001b[39m\u001b[38;5;124mgroupby\u001b[39m\u001b[38;5;124m\"\u001b[39m)\n",
      "File \u001b[0;32m~/opt/anaconda3/envs/pyciems310/lib/python3.10/site-packages/pandas/core/series.py:6540\u001b[0m, in \u001b[0;36mSeries.mean\u001b[0;34m(self, axis, skipna, numeric_only, **kwargs)\u001b[0m\n\u001b[1;32m   6532\u001b[0m \u001b[38;5;129m@doc\u001b[39m(make_doc(\u001b[38;5;124m\"\u001b[39m\u001b[38;5;124mmean\u001b[39m\u001b[38;5;124m\"\u001b[39m, ndim\u001b[38;5;241m=\u001b[39m\u001b[38;5;241m1\u001b[39m))\n\u001b[1;32m   6533\u001b[0m \u001b[38;5;28;01mdef\u001b[39;00m \u001b[38;5;21mmean\u001b[39m(\n\u001b[1;32m   6534\u001b[0m     \u001b[38;5;28mself\u001b[39m,\n\u001b[0;32m   (...)\u001b[0m\n\u001b[1;32m   6538\u001b[0m     \u001b[38;5;241m*\u001b[39m\u001b[38;5;241m*\u001b[39mkwargs,\n\u001b[1;32m   6539\u001b[0m ):\n\u001b[0;32m-> 6540\u001b[0m     \u001b[38;5;28;01mreturn\u001b[39;00m \u001b[43mNDFrame\u001b[49m\u001b[38;5;241;43m.\u001b[39;49m\u001b[43mmean\u001b[49m\u001b[43m(\u001b[49m\u001b[38;5;28;43mself\u001b[39;49m\u001b[43m,\u001b[49m\u001b[43m \u001b[49m\u001b[43maxis\u001b[49m\u001b[43m,\u001b[49m\u001b[43m \u001b[49m\u001b[43mskipna\u001b[49m\u001b[43m,\u001b[49m\u001b[43m \u001b[49m\u001b[43mnumeric_only\u001b[49m\u001b[43m,\u001b[49m\u001b[43m \u001b[49m\u001b[38;5;241;43m*\u001b[39;49m\u001b[38;5;241;43m*\u001b[39;49m\u001b[43mkwargs\u001b[49m\u001b[43m)\u001b[49m\n",
      "File \u001b[0;32m~/opt/anaconda3/envs/pyciems310/lib/python3.10/site-packages/pandas/core/generic.py:12417\u001b[0m, in \u001b[0;36mNDFrame.mean\u001b[0;34m(self, axis, skipna, numeric_only, **kwargs)\u001b[0m\n\u001b[1;32m  12410\u001b[0m \u001b[38;5;28;01mdef\u001b[39;00m \u001b[38;5;21mmean\u001b[39m(\n\u001b[1;32m  12411\u001b[0m     \u001b[38;5;28mself\u001b[39m,\n\u001b[1;32m  12412\u001b[0m     axis: Axis \u001b[38;5;241m|\u001b[39m \u001b[38;5;28;01mNone\u001b[39;00m \u001b[38;5;241m=\u001b[39m \u001b[38;5;241m0\u001b[39m,\n\u001b[0;32m   (...)\u001b[0m\n\u001b[1;32m  12415\u001b[0m     \u001b[38;5;241m*\u001b[39m\u001b[38;5;241m*\u001b[39mkwargs,\n\u001b[1;32m  12416\u001b[0m ) \u001b[38;5;241m-\u001b[39m\u001b[38;5;241m>\u001b[39m Series \u001b[38;5;241m|\u001b[39m \u001b[38;5;28mfloat\u001b[39m:\n\u001b[0;32m> 12417\u001b[0m     \u001b[38;5;28;01mreturn\u001b[39;00m \u001b[38;5;28;43mself\u001b[39;49m\u001b[38;5;241;43m.\u001b[39;49m\u001b[43m_stat_function\u001b[49m\u001b[43m(\u001b[49m\n\u001b[1;32m  12418\u001b[0m \u001b[43m        \u001b[49m\u001b[38;5;124;43m\"\u001b[39;49m\u001b[38;5;124;43mmean\u001b[39;49m\u001b[38;5;124;43m\"\u001b[39;49m\u001b[43m,\u001b[49m\u001b[43m \u001b[49m\u001b[43mnanops\u001b[49m\u001b[38;5;241;43m.\u001b[39;49m\u001b[43mnanmean\u001b[49m\u001b[43m,\u001b[49m\u001b[43m \u001b[49m\u001b[43maxis\u001b[49m\u001b[43m,\u001b[49m\u001b[43m \u001b[49m\u001b[43mskipna\u001b[49m\u001b[43m,\u001b[49m\u001b[43m \u001b[49m\u001b[43mnumeric_only\u001b[49m\u001b[43m,\u001b[49m\u001b[43m \u001b[49m\u001b[38;5;241;43m*\u001b[39;49m\u001b[38;5;241;43m*\u001b[39;49m\u001b[43mkwargs\u001b[49m\n\u001b[1;32m  12419\u001b[0m \u001b[43m    \u001b[49m\u001b[43m)\u001b[49m\n",
      "File \u001b[0;32m~/opt/anaconda3/envs/pyciems310/lib/python3.10/site-packages/pandas/core/generic.py:12374\u001b[0m, in \u001b[0;36mNDFrame._stat_function\u001b[0;34m(self, name, func, axis, skipna, numeric_only, **kwargs)\u001b[0m\n\u001b[1;32m  12372\u001b[0m validate_bool_kwarg(skipna, \u001b[38;5;124m\"\u001b[39m\u001b[38;5;124mskipna\u001b[39m\u001b[38;5;124m\"\u001b[39m, none_allowed\u001b[38;5;241m=\u001b[39m\u001b[38;5;28;01mFalse\u001b[39;00m)\n\u001b[0;32m> 12374\u001b[0m \u001b[38;5;28;01mreturn\u001b[39;00m \u001b[38;5;28;43mself\u001b[39;49m\u001b[38;5;241;43m.\u001b[39;49m\u001b[43m_reduce\u001b[49m\u001b[43m(\u001b[49m\n\u001b[1;32m  12375\u001b[0m \u001b[43m    \u001b[49m\u001b[43mfunc\u001b[49m\u001b[43m,\u001b[49m\u001b[43m \u001b[49m\u001b[43mname\u001b[49m\u001b[38;5;241;43m=\u001b[39;49m\u001b[43mname\u001b[49m\u001b[43m,\u001b[49m\u001b[43m \u001b[49m\u001b[43maxis\u001b[49m\u001b[38;5;241;43m=\u001b[39;49m\u001b[43maxis\u001b[49m\u001b[43m,\u001b[49m\u001b[43m \u001b[49m\u001b[43mskipna\u001b[49m\u001b[38;5;241;43m=\u001b[39;49m\u001b[43mskipna\u001b[49m\u001b[43m,\u001b[49m\u001b[43m \u001b[49m\u001b[43mnumeric_only\u001b[49m\u001b[38;5;241;43m=\u001b[39;49m\u001b[43mnumeric_only\u001b[49m\n\u001b[1;32m  12376\u001b[0m \u001b[43m\u001b[49m\u001b[43m)\u001b[49m\n",
      "File \u001b[0;32m~/opt/anaconda3/envs/pyciems310/lib/python3.10/site-packages/pandas/core/series.py:6448\u001b[0m, in \u001b[0;36mSeries._reduce\u001b[0;34m(self, op, name, axis, skipna, numeric_only, filter_type, **kwds)\u001b[0m\n\u001b[1;32m   6444\u001b[0m     \u001b[38;5;28;01mraise\u001b[39;00m \u001b[38;5;167;01mTypeError\u001b[39;00m(\n\u001b[1;32m   6445\u001b[0m         \u001b[38;5;124mf\u001b[39m\u001b[38;5;124m\"\u001b[39m\u001b[38;5;124mSeries.\u001b[39m\u001b[38;5;132;01m{\u001b[39;00mname\u001b[38;5;132;01m}\u001b[39;00m\u001b[38;5;124m does not allow \u001b[39m\u001b[38;5;132;01m{\u001b[39;00mkwd_name\u001b[38;5;132;01m}\u001b[39;00m\u001b[38;5;124m=\u001b[39m\u001b[38;5;132;01m{\u001b[39;00mnumeric_only\u001b[38;5;132;01m}\u001b[39;00m\u001b[38;5;124m \u001b[39m\u001b[38;5;124m\"\u001b[39m\n\u001b[1;32m   6446\u001b[0m         \u001b[38;5;124m\"\u001b[39m\u001b[38;5;124mwith non-numeric dtypes.\u001b[39m\u001b[38;5;124m\"\u001b[39m\n\u001b[1;32m   6447\u001b[0m     )\n\u001b[0;32m-> 6448\u001b[0m \u001b[38;5;28;01mreturn\u001b[39;00m \u001b[43mop\u001b[49m\u001b[43m(\u001b[49m\u001b[43mdelegate\u001b[49m\u001b[43m,\u001b[49m\u001b[43m \u001b[49m\u001b[43mskipna\u001b[49m\u001b[38;5;241;43m=\u001b[39;49m\u001b[43mskipna\u001b[49m\u001b[43m,\u001b[49m\u001b[43m \u001b[49m\u001b[38;5;241;43m*\u001b[39;49m\u001b[38;5;241;43m*\u001b[39;49m\u001b[43mkwds\u001b[49m\u001b[43m)\u001b[49m\n",
      "File \u001b[0;32m~/opt/anaconda3/envs/pyciems310/lib/python3.10/site-packages/pandas/core/nanops.py:147\u001b[0m, in \u001b[0;36mbottleneck_switch.__call__.<locals>.f\u001b[0;34m(values, axis, skipna, **kwds)\u001b[0m\n\u001b[1;32m    146\u001b[0m \u001b[38;5;28;01melse\u001b[39;00m:\n\u001b[0;32m--> 147\u001b[0m     result \u001b[38;5;241m=\u001b[39m \u001b[43malt\u001b[49m\u001b[43m(\u001b[49m\u001b[43mvalues\u001b[49m\u001b[43m,\u001b[49m\u001b[43m \u001b[49m\u001b[43maxis\u001b[49m\u001b[38;5;241;43m=\u001b[39;49m\u001b[43maxis\u001b[49m\u001b[43m,\u001b[49m\u001b[43m \u001b[49m\u001b[43mskipna\u001b[49m\u001b[38;5;241;43m=\u001b[39;49m\u001b[43mskipna\u001b[49m\u001b[43m,\u001b[49m\u001b[43m \u001b[49m\u001b[38;5;241;43m*\u001b[39;49m\u001b[38;5;241;43m*\u001b[39;49m\u001b[43mkwds\u001b[49m\u001b[43m)\u001b[49m\n\u001b[1;32m    149\u001b[0m \u001b[38;5;28;01mreturn\u001b[39;00m result\n",
      "File \u001b[0;32m~/opt/anaconda3/envs/pyciems310/lib/python3.10/site-packages/pandas/core/nanops.py:404\u001b[0m, in \u001b[0;36m_datetimelike_compat.<locals>.new_func\u001b[0;34m(values, axis, skipna, mask, **kwargs)\u001b[0m\n\u001b[1;32m    402\u001b[0m     mask \u001b[38;5;241m=\u001b[39m isna(values)\n\u001b[0;32m--> 404\u001b[0m result \u001b[38;5;241m=\u001b[39m \u001b[43mfunc\u001b[49m\u001b[43m(\u001b[49m\u001b[43mvalues\u001b[49m\u001b[43m,\u001b[49m\u001b[43m \u001b[49m\u001b[43maxis\u001b[49m\u001b[38;5;241;43m=\u001b[39;49m\u001b[43maxis\u001b[49m\u001b[43m,\u001b[49m\u001b[43m \u001b[49m\u001b[43mskipna\u001b[49m\u001b[38;5;241;43m=\u001b[39;49m\u001b[43mskipna\u001b[49m\u001b[43m,\u001b[49m\u001b[43m \u001b[49m\u001b[43mmask\u001b[49m\u001b[38;5;241;43m=\u001b[39;49m\u001b[43mmask\u001b[49m\u001b[43m,\u001b[49m\u001b[43m \u001b[49m\u001b[38;5;241;43m*\u001b[39;49m\u001b[38;5;241;43m*\u001b[39;49m\u001b[43mkwargs\u001b[49m\u001b[43m)\u001b[49m\n\u001b[1;32m    406\u001b[0m \u001b[38;5;28;01mif\u001b[39;00m datetimelike:\n",
      "File \u001b[0;32m~/opt/anaconda3/envs/pyciems310/lib/python3.10/site-packages/pandas/core/nanops.py:720\u001b[0m, in \u001b[0;36mnanmean\u001b[0;34m(values, axis, skipna, mask)\u001b[0m\n\u001b[1;32m    719\u001b[0m the_sum \u001b[38;5;241m=\u001b[39m values\u001b[38;5;241m.\u001b[39msum(axis, dtype\u001b[38;5;241m=\u001b[39mdtype_sum)\n\u001b[0;32m--> 720\u001b[0m the_sum \u001b[38;5;241m=\u001b[39m \u001b[43m_ensure_numeric\u001b[49m\u001b[43m(\u001b[49m\u001b[43mthe_sum\u001b[49m\u001b[43m)\u001b[49m\n\u001b[1;32m    722\u001b[0m \u001b[38;5;28;01mif\u001b[39;00m axis \u001b[38;5;129;01mis\u001b[39;00m \u001b[38;5;129;01mnot\u001b[39;00m \u001b[38;5;28;01mNone\u001b[39;00m \u001b[38;5;129;01mand\u001b[39;00m \u001b[38;5;28mgetattr\u001b[39m(the_sum, \u001b[38;5;124m\"\u001b[39m\u001b[38;5;124mndim\u001b[39m\u001b[38;5;124m\"\u001b[39m, \u001b[38;5;28;01mFalse\u001b[39;00m):\n",
      "File \u001b[0;32m~/opt/anaconda3/envs/pyciems310/lib/python3.10/site-packages/pandas/core/nanops.py:1701\u001b[0m, in \u001b[0;36m_ensure_numeric\u001b[0;34m(x)\u001b[0m\n\u001b[1;32m   1699\u001b[0m \u001b[38;5;28;01mif\u001b[39;00m \u001b[38;5;28misinstance\u001b[39m(x, \u001b[38;5;28mstr\u001b[39m):\n\u001b[1;32m   1700\u001b[0m     \u001b[38;5;66;03m# GH#44008, GH#36703 avoid casting e.g. strings to numeric\u001b[39;00m\n\u001b[0;32m-> 1701\u001b[0m     \u001b[38;5;28;01mraise\u001b[39;00m \u001b[38;5;167;01mTypeError\u001b[39;00m(\u001b[38;5;124mf\u001b[39m\u001b[38;5;124m\"\u001b[39m\u001b[38;5;124mCould not convert string \u001b[39m\u001b[38;5;124m'\u001b[39m\u001b[38;5;132;01m{\u001b[39;00mx\u001b[38;5;132;01m}\u001b[39;00m\u001b[38;5;124m'\u001b[39m\u001b[38;5;124m to numeric\u001b[39m\u001b[38;5;124m\"\u001b[39m)\n\u001b[1;32m   1702\u001b[0m \u001b[38;5;28;01mtry\u001b[39;00m:\n",
      "\u001b[0;31mTypeError\u001b[0m: Could not convert string 'cluster_0cluster_0cluster_0cluster_0cluster_0cluster_0cluster_0cluster_0cluster_0cluster_0cluster_0cluster_0cluster_0cluster_0cluster_0cluster_0cluster_0cluster_0cluster_0cluster_0cluster_0cluster_0cluster_0cluster_0cluster_0cluster_0cluster_0cluster_0cluster_0cluster_0cluster_0cluster_0cluster_0cluster_0cluster_0cluster_0cluster_0cluster_0cluster_0cluster_0cluster_0cluster_0cluster_0cluster_0cluster_0cluster_0cluster_0cluster_0cluster_0cluster_0cluster_0cluster_0cluster_0cluster_0cluster_0cluster_0cluster_0cluster_0cluster_0cluster_0cluster_0cluster_0cluster_0cluster_0cluster_0cluster_0cluster_0cluster_0cluster_0cluster_0cluster_0cluster_0cluster_0cluster_0cluster_0cluster_0cluster_0cluster_0cluster_0cluster_0cluster_0cluster_0cluster_0cluster_0cluster_0cluster_0cluster_0cluster_0cluster_0cluster_0cluster_0cluster_0cluster_0cluster_0cluster_0cluster_0cluster_0cluster_0cluster_0' to numeric",
      "\nThe above exception was the direct cause of the following exception:\n",
      "\u001b[0;31mTypeError\u001b[0m                                 Traceback (most recent call last)",
      "Cell \u001b[0;32mIn[6], line 15\u001b[0m\n\u001b[1;32m     11\u001b[0m         f\u001b[38;5;241m.\u001b[39mwrite(data)\n\u001b[1;32m     13\u001b[0m \u001b[38;5;66;03m#select_by \"mean\", \"var\", \"granger\"\u001b[39;00m\n\u001b[0;32m---> 15\u001b[0m traces \u001b[38;5;241m=\u001b[39m \u001b[43mpyciemss\u001b[49m\u001b[38;5;241;43m.\u001b[39;49m\u001b[43mvisuals\u001b[49m\u001b[38;5;241;43m.\u001b[39;49m\u001b[43mtrajectories\u001b[49m\u001b[38;5;241;43m.\u001b[39;49m\u001b[43mselect_traces\u001b[49m\u001b[43m(\u001b[49m\u001b[43mdistributions\u001b[49m\u001b[43m,\u001b[49m\u001b[43m \u001b[49m\u001b[43mselect_by\u001b[49m\u001b[43m \u001b[49m\u001b[38;5;241;43m=\u001b[39;49m\u001b[43m \u001b[49m\u001b[38;5;124;43m\"\u001b[39;49m\u001b[38;5;124;43mmean\u001b[39;49m\u001b[38;5;124;43m\"\u001b[39;49m\u001b[43m,\u001b[49m\u001b[43m \u001b[49m\u001b[43mkmean\u001b[49m\u001b[38;5;241;43m=\u001b[39;49m\u001b[38;5;28;43;01mTrue\u001b[39;49;00m\u001b[43m)\u001b[49m\n\u001b[1;32m     16\u001b[0m traces[\u001b[38;5;124m\"\u001b[39m\u001b[38;5;124mtimepoint_id\u001b[39m\u001b[38;5;124m\"\u001b[39m] \u001b[38;5;241m=\u001b[39m traces\u001b[38;5;241m.\u001b[39mindex\n\u001b[1;32m     17\u001b[0m traces \u001b[38;5;241m=\u001b[39m traces\u001b[38;5;241m.\u001b[39mrename(columns\u001b[38;5;241m=\u001b[39m{c: c\u001b[38;5;241m+\u001b[39m\u001b[38;5;124m'\u001b[39m\u001b[38;5;124m_mean\u001b[39m\u001b[38;5;124m'\u001b[39m \u001b[38;5;28;01mfor\u001b[39;00m c \u001b[38;5;129;01min\u001b[39;00m traces\u001b[38;5;241m.\u001b[39mcolumns \u001b[38;5;28;01mif\u001b[39;00m c \u001b[38;5;129;01mnot\u001b[39;00m \u001b[38;5;129;01min\u001b[39;00m [\u001b[38;5;124m\"\u001b[39m\u001b[38;5;124mtimepoint_id\u001b[39m\u001b[38;5;124m\"\u001b[39m]})\n",
      "File \u001b[0;32m~/Library/CloudStorage/OneDrive-PNNL/Desktop/projects/pyciemss/pyciemss/visuals/trajectories.py:231\u001b[0m, in \u001b[0;36mselect_traces\u001b[0;34m(traces, select_by, keep, drop, relabel, kmean)\u001b[0m\n\u001b[1;32m    229\u001b[0m melt_all, group_examplary \u001b[38;5;241m=\u001b[39m grouped_mean(traces_df, mean_trajectory)\n\u001b[1;32m    230\u001b[0m \u001b[38;5;66;03m# get id of the sample with the lowest variance, differnce of granger socre\u001b[39;00m\n\u001b[0;32m--> 231\u001b[0m best_sample_id \u001b[38;5;241m=\u001b[39m \u001b[43mget_best_example\u001b[49m\u001b[43m(\u001b[49m\u001b[43mgroup_examplary\u001b[49m\u001b[43m,\u001b[49m\u001b[43m \u001b[49m\u001b[43mselect_by\u001b[49m\u001b[43m)\u001b[49m\n\u001b[1;32m    232\u001b[0m \u001b[38;5;66;03m# get examplar line\u001b[39;00m\n\u001b[1;32m    233\u001b[0m examplary_line \u001b[38;5;241m=\u001b[39m convert_examplary_line(melt_all, best_sample_id)\n",
      "File \u001b[0;32m~/Library/CloudStorage/OneDrive-PNNL/Desktop/projects/pyciemss/pyciemss/visuals/trajectories.py:140\u001b[0m, in \u001b[0;36mget_best_example\u001b[0;34m(group_examplary, select_by)\u001b[0m\n\u001b[1;32m    137\u001b[0m \u001b[38;5;66;03m# get sum and variable of each trajectory (rabbit or wolf) and sample id group\u001b[39;00m\n\u001b[1;32m    138\u001b[0m \u001b[38;5;28;01mif\u001b[39;00m select_by \u001b[38;5;241m==\u001b[39m \u001b[38;5;124m\"\u001b[39m\u001b[38;5;124mmean\u001b[39m\u001b[38;5;124m\"\u001b[39m:\n\u001b[1;32m    139\u001b[0m     sum_examplary \u001b[38;5;241m=\u001b[39m (\n\u001b[0;32m--> 140\u001b[0m         \u001b[43mgroup_examplary\u001b[49m\u001b[38;5;241;43m.\u001b[39;49m\u001b[43mmean\u001b[49m\u001b[43m(\u001b[49m\u001b[43m)\u001b[49m\u001b[38;5;241m.\u001b[39mreset_index()\n\u001b[1;32m    141\u001b[0m     )  \u001b[38;5;66;03m# get only min distance from each trajectory type (rabbit or worlf) back\u001b[39;00m\n\u001b[1;32m    142\u001b[0m     best_sample_id \u001b[38;5;241m=\u001b[39m sum_examplary\u001b[38;5;241m.\u001b[39mloc[\n\u001b[1;32m    143\u001b[0m         sum_examplary\u001b[38;5;241m.\u001b[39mgroupby(\u001b[38;5;124m\"\u001b[39m\u001b[38;5;124mtrajectory\u001b[39m\u001b[38;5;124m\"\u001b[39m)\u001b[38;5;241m.\u001b[39mdistance_mean\u001b[38;5;241m.\u001b[39midxmin()\n\u001b[1;32m    144\u001b[0m     ][[\u001b[38;5;124m\"\u001b[39m\u001b[38;5;124msample_id\u001b[39m\u001b[38;5;124m\"\u001b[39m, \u001b[38;5;124m\"\u001b[39m\u001b[38;5;124mtrajectory\u001b[39m\u001b[38;5;124m\"\u001b[39m]]\n\u001b[1;32m    146\u001b[0m \u001b[38;5;28;01melif\u001b[39;00m select_by \u001b[38;5;241m==\u001b[39m \u001b[38;5;124m\"\u001b[39m\u001b[38;5;124mvar\u001b[39m\u001b[38;5;124m\"\u001b[39m:\n\u001b[1;32m    147\u001b[0m     \u001b[38;5;66;03m# get the variance per trajectory/sample id of difference from the mean (saved as distance_mean)\u001b[39;00m\n",
      "File \u001b[0;32m~/opt/anaconda3/envs/pyciems310/lib/python3.10/site-packages/pandas/core/groupby/groupby.py:2452\u001b[0m, in \u001b[0;36mGroupBy.mean\u001b[0;34m(self, numeric_only, engine, engine_kwargs)\u001b[0m\n\u001b[1;32m   2445\u001b[0m     \u001b[38;5;28;01mreturn\u001b[39;00m \u001b[38;5;28mself\u001b[39m\u001b[38;5;241m.\u001b[39m_numba_agg_general(\n\u001b[1;32m   2446\u001b[0m         grouped_mean,\n\u001b[1;32m   2447\u001b[0m         executor\u001b[38;5;241m.\u001b[39mfloat_dtype_mapping,\n\u001b[1;32m   2448\u001b[0m         engine_kwargs,\n\u001b[1;32m   2449\u001b[0m         min_periods\u001b[38;5;241m=\u001b[39m\u001b[38;5;241m0\u001b[39m,\n\u001b[1;32m   2450\u001b[0m     )\n\u001b[1;32m   2451\u001b[0m \u001b[38;5;28;01melse\u001b[39;00m:\n\u001b[0;32m-> 2452\u001b[0m     result \u001b[38;5;241m=\u001b[39m \u001b[38;5;28;43mself\u001b[39;49m\u001b[38;5;241;43m.\u001b[39;49m\u001b[43m_cython_agg_general\u001b[49m\u001b[43m(\u001b[49m\n\u001b[1;32m   2453\u001b[0m \u001b[43m        \u001b[49m\u001b[38;5;124;43m\"\u001b[39;49m\u001b[38;5;124;43mmean\u001b[39;49m\u001b[38;5;124;43m\"\u001b[39;49m\u001b[43m,\u001b[49m\n\u001b[1;32m   2454\u001b[0m \u001b[43m        \u001b[49m\u001b[43malt\u001b[49m\u001b[38;5;241;43m=\u001b[39;49m\u001b[38;5;28;43;01mlambda\u001b[39;49;00m\u001b[43m \u001b[49m\u001b[43mx\u001b[49m\u001b[43m:\u001b[49m\u001b[43m \u001b[49m\u001b[43mSeries\u001b[49m\u001b[43m(\u001b[49m\u001b[43mx\u001b[49m\u001b[43m,\u001b[49m\u001b[43m \u001b[49m\u001b[43mcopy\u001b[49m\u001b[38;5;241;43m=\u001b[39;49m\u001b[38;5;28;43;01mFalse\u001b[39;49;00m\u001b[43m)\u001b[49m\u001b[38;5;241;43m.\u001b[39;49m\u001b[43mmean\u001b[49m\u001b[43m(\u001b[49m\u001b[43mnumeric_only\u001b[49m\u001b[38;5;241;43m=\u001b[39;49m\u001b[43mnumeric_only\u001b[49m\u001b[43m)\u001b[49m\u001b[43m,\u001b[49m\n\u001b[1;32m   2455\u001b[0m \u001b[43m        \u001b[49m\u001b[43mnumeric_only\u001b[49m\u001b[38;5;241;43m=\u001b[39;49m\u001b[43mnumeric_only\u001b[49m\u001b[43m,\u001b[49m\n\u001b[1;32m   2456\u001b[0m \u001b[43m    \u001b[49m\u001b[43m)\u001b[49m\n\u001b[1;32m   2457\u001b[0m     \u001b[38;5;28;01mreturn\u001b[39;00m result\u001b[38;5;241m.\u001b[39m__finalize__(\u001b[38;5;28mself\u001b[39m\u001b[38;5;241m.\u001b[39mobj, method\u001b[38;5;241m=\u001b[39m\u001b[38;5;124m\"\u001b[39m\u001b[38;5;124mgroupby\u001b[39m\u001b[38;5;124m\"\u001b[39m)\n",
      "File \u001b[0;32m~/opt/anaconda3/envs/pyciems310/lib/python3.10/site-packages/pandas/core/groupby/groupby.py:1998\u001b[0m, in \u001b[0;36mGroupBy._cython_agg_general\u001b[0;34m(self, how, alt, numeric_only, min_count, **kwargs)\u001b[0m\n\u001b[1;32m   1995\u001b[0m     result \u001b[38;5;241m=\u001b[39m \u001b[38;5;28mself\u001b[39m\u001b[38;5;241m.\u001b[39m_agg_py_fallback(how, values, ndim\u001b[38;5;241m=\u001b[39mdata\u001b[38;5;241m.\u001b[39mndim, alt\u001b[38;5;241m=\u001b[39malt)\n\u001b[1;32m   1996\u001b[0m     \u001b[38;5;28;01mreturn\u001b[39;00m result\n\u001b[0;32m-> 1998\u001b[0m new_mgr \u001b[38;5;241m=\u001b[39m \u001b[43mdata\u001b[49m\u001b[38;5;241;43m.\u001b[39;49m\u001b[43mgrouped_reduce\u001b[49m\u001b[43m(\u001b[49m\u001b[43marray_func\u001b[49m\u001b[43m)\u001b[49m\n\u001b[1;32m   1999\u001b[0m res \u001b[38;5;241m=\u001b[39m \u001b[38;5;28mself\u001b[39m\u001b[38;5;241m.\u001b[39m_wrap_agged_manager(new_mgr)\n\u001b[1;32m   2000\u001b[0m \u001b[38;5;28;01mif\u001b[39;00m how \u001b[38;5;129;01min\u001b[39;00m [\u001b[38;5;124m\"\u001b[39m\u001b[38;5;124midxmin\u001b[39m\u001b[38;5;124m\"\u001b[39m, \u001b[38;5;124m\"\u001b[39m\u001b[38;5;124midxmax\u001b[39m\u001b[38;5;124m\"\u001b[39m]:\n",
      "File \u001b[0;32m~/opt/anaconda3/envs/pyciems310/lib/python3.10/site-packages/pandas/core/internals/managers.py:1469\u001b[0m, in \u001b[0;36mBlockManager.grouped_reduce\u001b[0;34m(self, func)\u001b[0m\n\u001b[1;32m   1465\u001b[0m \u001b[38;5;28;01mif\u001b[39;00m blk\u001b[38;5;241m.\u001b[39mis_object:\n\u001b[1;32m   1466\u001b[0m     \u001b[38;5;66;03m# split on object-dtype blocks bc some columns may raise\u001b[39;00m\n\u001b[1;32m   1467\u001b[0m     \u001b[38;5;66;03m#  while others do not.\u001b[39;00m\n\u001b[1;32m   1468\u001b[0m     \u001b[38;5;28;01mfor\u001b[39;00m sb \u001b[38;5;129;01min\u001b[39;00m blk\u001b[38;5;241m.\u001b[39m_split():\n\u001b[0;32m-> 1469\u001b[0m         applied \u001b[38;5;241m=\u001b[39m \u001b[43msb\u001b[49m\u001b[38;5;241;43m.\u001b[39;49m\u001b[43mapply\u001b[49m\u001b[43m(\u001b[49m\u001b[43mfunc\u001b[49m\u001b[43m)\u001b[49m\n\u001b[1;32m   1470\u001b[0m         result_blocks \u001b[38;5;241m=\u001b[39m extend_blocks(applied, result_blocks)\n\u001b[1;32m   1471\u001b[0m \u001b[38;5;28;01melse\u001b[39;00m:\n",
      "File \u001b[0;32m~/opt/anaconda3/envs/pyciems310/lib/python3.10/site-packages/pandas/core/internals/blocks.py:393\u001b[0m, in \u001b[0;36mBlock.apply\u001b[0;34m(self, func, **kwargs)\u001b[0m\n\u001b[1;32m    387\u001b[0m \u001b[38;5;129m@final\u001b[39m\n\u001b[1;32m    388\u001b[0m \u001b[38;5;28;01mdef\u001b[39;00m \u001b[38;5;21mapply\u001b[39m(\u001b[38;5;28mself\u001b[39m, func, \u001b[38;5;241m*\u001b[39m\u001b[38;5;241m*\u001b[39mkwargs) \u001b[38;5;241m-\u001b[39m\u001b[38;5;241m>\u001b[39m \u001b[38;5;28mlist\u001b[39m[Block]:\n\u001b[1;32m    389\u001b[0m \u001b[38;5;250m    \u001b[39m\u001b[38;5;124;03m\"\"\"\u001b[39;00m\n\u001b[1;32m    390\u001b[0m \u001b[38;5;124;03m    apply the function to my values; return a block if we are not\u001b[39;00m\n\u001b[1;32m    391\u001b[0m \u001b[38;5;124;03m    one\u001b[39;00m\n\u001b[1;32m    392\u001b[0m \u001b[38;5;124;03m    \"\"\"\u001b[39;00m\n\u001b[0;32m--> 393\u001b[0m     result \u001b[38;5;241m=\u001b[39m \u001b[43mfunc\u001b[49m\u001b[43m(\u001b[49m\u001b[38;5;28;43mself\u001b[39;49m\u001b[38;5;241;43m.\u001b[39;49m\u001b[43mvalues\u001b[49m\u001b[43m,\u001b[49m\u001b[43m \u001b[49m\u001b[38;5;241;43m*\u001b[39;49m\u001b[38;5;241;43m*\u001b[39;49m\u001b[43mkwargs\u001b[49m\u001b[43m)\u001b[49m\n\u001b[1;32m    395\u001b[0m     result \u001b[38;5;241m=\u001b[39m maybe_coerce_values(result)\n\u001b[1;32m    396\u001b[0m     \u001b[38;5;28;01mreturn\u001b[39;00m \u001b[38;5;28mself\u001b[39m\u001b[38;5;241m.\u001b[39m_split_op_result(result)\n",
      "File \u001b[0;32m~/opt/anaconda3/envs/pyciems310/lib/python3.10/site-packages/pandas/core/groupby/groupby.py:1995\u001b[0m, in \u001b[0;36mGroupBy._cython_agg_general.<locals>.array_func\u001b[0;34m(values)\u001b[0m\n\u001b[1;32m   1992\u001b[0m     \u001b[38;5;28;01mreturn\u001b[39;00m result\n\u001b[1;32m   1994\u001b[0m \u001b[38;5;28;01massert\u001b[39;00m alt \u001b[38;5;129;01mis\u001b[39;00m \u001b[38;5;129;01mnot\u001b[39;00m \u001b[38;5;28;01mNone\u001b[39;00m\n\u001b[0;32m-> 1995\u001b[0m result \u001b[38;5;241m=\u001b[39m \u001b[38;5;28;43mself\u001b[39;49m\u001b[38;5;241;43m.\u001b[39;49m\u001b[43m_agg_py_fallback\u001b[49m\u001b[43m(\u001b[49m\u001b[43mhow\u001b[49m\u001b[43m,\u001b[49m\u001b[43m \u001b[49m\u001b[43mvalues\u001b[49m\u001b[43m,\u001b[49m\u001b[43m \u001b[49m\u001b[43mndim\u001b[49m\u001b[38;5;241;43m=\u001b[39;49m\u001b[43mdata\u001b[49m\u001b[38;5;241;43m.\u001b[39;49m\u001b[43mndim\u001b[49m\u001b[43m,\u001b[49m\u001b[43m \u001b[49m\u001b[43malt\u001b[49m\u001b[38;5;241;43m=\u001b[39;49m\u001b[43malt\u001b[49m\u001b[43m)\u001b[49m\n\u001b[1;32m   1996\u001b[0m \u001b[38;5;28;01mreturn\u001b[39;00m result\n",
      "File \u001b[0;32m~/opt/anaconda3/envs/pyciems310/lib/python3.10/site-packages/pandas/core/groupby/groupby.py:1946\u001b[0m, in \u001b[0;36mGroupBy._agg_py_fallback\u001b[0;34m(self, how, values, ndim, alt)\u001b[0m\n\u001b[1;32m   1944\u001b[0m     msg \u001b[38;5;241m=\u001b[39m \u001b[38;5;124mf\u001b[39m\u001b[38;5;124m\"\u001b[39m\u001b[38;5;124magg function failed [how->\u001b[39m\u001b[38;5;132;01m{\u001b[39;00mhow\u001b[38;5;132;01m}\u001b[39;00m\u001b[38;5;124m,dtype->\u001b[39m\u001b[38;5;132;01m{\u001b[39;00mser\u001b[38;5;241m.\u001b[39mdtype\u001b[38;5;132;01m}\u001b[39;00m\u001b[38;5;124m]\u001b[39m\u001b[38;5;124m\"\u001b[39m\n\u001b[1;32m   1945\u001b[0m     \u001b[38;5;66;03m# preserve the kind of exception that raised\u001b[39;00m\n\u001b[0;32m-> 1946\u001b[0m     \u001b[38;5;28;01mraise\u001b[39;00m \u001b[38;5;28mtype\u001b[39m(err)(msg) \u001b[38;5;28;01mfrom\u001b[39;00m \u001b[38;5;21;01merr\u001b[39;00m\n\u001b[1;32m   1948\u001b[0m \u001b[38;5;28;01mif\u001b[39;00m ser\u001b[38;5;241m.\u001b[39mdtype \u001b[38;5;241m==\u001b[39m \u001b[38;5;28mobject\u001b[39m:\n\u001b[1;32m   1949\u001b[0m     res_values \u001b[38;5;241m=\u001b[39m res_values\u001b[38;5;241m.\u001b[39mastype(\u001b[38;5;28mobject\u001b[39m, copy\u001b[38;5;241m=\u001b[39m\u001b[38;5;28;01mFalse\u001b[39;00m)\n",
      "\u001b[0;31mTypeError\u001b[0m: agg function failed [how->mean,dtype->object]"
     ]
    }
   ],
   "source": [
    "%matplotlib inline\n",
    "\n",
    "_output_root = \"output_images/\"\n",
    "\n",
    "def save_result(data, name, ref_ext):\n",
    "    \"\"\"Save new reference files\"\"\"\n",
    "    # _output_root.mkdir(parents=True, exist_ok=True)\n",
    "\n",
    "    mode = \"w\" if ref_ext == \"svg\" else \"wb\"\n",
    "    with open(os.path.join(_output_root, f\"{name}.{ref_ext}\"), mode) as f:\n",
    "        f.write(data)\n",
    "        \n",
    "#select_by \"mean\", \"var\", \"granger\"\n",
    "\n",
    "traces = pyciemss.visuals.trajectories.select_traces(distributions, select_by = \"mean\", kmean=True)\n",
    "traces[\"timepoint_id\"] = traces.index\n",
    "traces = traces.rename(columns={c: c+'_mean' for c in traces.columns if c not in [\"timepoint_id\"]})\n",
    "traces_var = pyciemss.visuals.trajectories.select_traces(distributions, select_by = \"var\", kmean=True)\n",
    "traces_var[\"timepoint_id\"] = traces.index\n",
    "traces_var = traces_var.rename(columns={c: c+'_var' for c in traces_var.columns if c not in [\"timepoint_id\"]})\n",
    "traces_granger = pyciemss.visuals.trajectories.select_traces(distributions, select_by = \"granger\", kmean=True)\n",
    "traces_granger[\"timepoint_id\"] = traces.index\n",
    "traces_granger = traces_granger.rename(columns={c: c+'_granger' for c in traces_granger.columns if c not in [\"timepoint_id\"]})\n",
    "\n",
    "new_df = pd.merge(traces, traces_var,  how='left', on=[\"timepoint_id\"])\n",
    "traces = pd.merge(new_df, traces_granger,  how='left', on=[\"timepoint_id\"])"
   ]
  },
  {
   "cell_type": "code",
   "execution_count": 5,
   "metadata": {},
   "outputs": [
    {
     "name": "stdout",
     "output_type": "stream",
     "text": [
      "\n"
     ]
    },
    {
     "data": {
      "application/vnd.vega.v5+json": {
       "$schema": "https://vega.github.io/schema/vega/v5.json",
       "axes": [
        {
         "name": "x_axis",
         "orient": "bottom",
         "scale": "xscale",
         "zindex": 100
        },
        {
         "name": "y_axis",
         "orient": "left",
         "scale": "yscale",
         "zindex": 100
        }
       ],
       "data": [
        {
         "name": "distributions",
         "transform": [
          {
           "sort": {
            "field": [
             "trajectory",
             "timepoint"
            ]
           },
           "type": "collect"
          }
         ],
         "values": [
          {
           "lower": 11.55472764968872,
           "timepoint": 0,
           "trajectory": "infected_observable_state",
           "upper": 19.719902896881102
          },
          {
           "lower": 16.025204849243163,
           "timepoint": 1,
           "trajectory": "infected_observable_state",
           "upper": 23.685077095031737
          },
          {
           "lower": 16.21899003982544,
           "timepoint": 2,
           "trajectory": "infected_observable_state",
           "upper": 28.288418292999268
          },
          {
           "lower": 15.713699245452881,
           "timepoint": 3,
           "trajectory": "infected_observable_state",
           "upper": 32.97357845306396
          },
          {
           "lower": 15.092389726638794,
           "timepoint": 4,
           "trajectory": "infected_observable_state",
           "upper": 36.6588186264038
          },
          {
           "lower": 13.524328708648682,
           "timepoint": 5,
           "trajectory": "infected_observable_state",
           "upper": 39.48830528259277
          },
          {
           "lower": 12.004317474365235,
           "timepoint": 6,
           "trajectory": "infected_observable_state",
           "upper": 42.29554100036621
          },
          {
           "lower": 10.596916675567627,
           "timepoint": 7,
           "trajectory": "infected_observable_state",
           "upper": 45.50563507080078
          },
          {
           "lower": 9.322966814041138,
           "timepoint": 8,
           "trajectory": "infected_observable_state",
           "upper": 50.47424583435058
          },
          {
           "lower": 8.184782886505127,
           "timepoint": 9,
           "trajectory": "infected_observable_state",
           "upper": 57.18351173400879
          },
          {
           "lower": 7.187767601013184,
           "timepoint": 10,
           "trajectory": "infected_observable_state",
           "upper": 65.32650947570801
          },
          {
           "lower": 6.348566961288452,
           "timepoint": 11,
           "trajectory": "infected_observable_state",
           "upper": 74.78991928100585
          },
          {
           "lower": 5.604656147956849,
           "timepoint": 12,
           "trajectory": "infected_observable_state",
           "upper": 85.63296737670898
          },
          {
           "lower": 4.946488690376282,
           "timepoint": 13,
           "trajectory": "infected_observable_state",
           "upper": 98.05924720764158
          },
          {
           "lower": 4.364896321296692,
           "timepoint": 14,
           "trajectory": "infected_observable_state",
           "upper": 112.30212860107419
          },
          {
           "lower": 3.8513674020767215,
           "timepoint": 15,
           "trajectory": "infected_observable_state",
           "upper": 128.62938880920407
          },
          {
           "lower": 3.3981559038162232,
           "timepoint": 16,
           "trajectory": "infected_observable_state",
           "upper": 147.34840927124017
          },
          {
           "lower": 2.998293769359589,
           "timepoint": 17,
           "trajectory": "infected_observable_state",
           "upper": 168.812173461914
          },
          {
           "lower": 2.64556006193161,
           "timepoint": 18,
           "trajectory": "infected_observable_state",
           "upper": 193.4260597229003
          },
          {
           "lower": 2.33442656993866,
           "timepoint": 19,
           "trajectory": "infected_observable_state",
           "upper": 221.65570373535144
          },
          {
           "lower": 2.059995859861374,
           "timepoint": 20,
           "trajectory": "infected_observable_state",
           "upper": 254.03599243164047
          },
          {
           "lower": 1.817937171459198,
           "timepoint": 21,
           "trajectory": "infected_observable_state",
           "upper": 291.18147888183574
          },
          {
           "lower": 1.6044260382652284,
           "timepoint": 22,
           "trajectory": "infected_observable_state",
           "upper": 333.79827270507786
          },
          {
           "lower": 1.4160875320434572,
           "timepoint": 23,
           "trajectory": "infected_observable_state",
           "upper": 382.6977432250973
          },
          {
           "lower": 1.2499449133872986,
           "timepoint": 24,
           "trajectory": "infected_observable_state",
           "upper": 438.81235961914024
          },
          {
           "lower": 1.1033734202384948,
           "timepoint": 25,
           "trajectory": "infected_observable_state",
           "upper": 503.2137847900386
          },
          {
           "lower": 0.9740593671798706,
           "timepoint": 26,
           "trajectory": "infected_observable_state",
           "upper": 577.1338317871088
          },
          {
           "lower": 0.8599631071090699,
           "timepoint": 27,
           "trajectory": "infected_observable_state",
           "upper": 661.9884796142571
          },
          {
           "lower": 0.7592867136001586,
           "timepoint": 28,
           "trajectory": "infected_observable_state",
           "upper": 759.4055236816398
          },
          {
           "lower": 0.6704454690217971,
           "timepoint": 29,
           "trajectory": "infected_observable_state",
           "upper": 871.2563751220694
          },
          {
           "lower": 0.5920424461364746,
           "timepoint": 30,
           "trajectory": "infected_observable_state",
           "upper": 999.6927764892566
          },
          {
           "lower": 0.5228462129831314,
           "timepoint": 31,
           "trajectory": "infected_observable_state",
           "upper": 1147.1888305664047
          },
          {
           "lower": 0.46177118122577665,
           "timepoint": 32,
           "trajectory": "infected_observable_state",
           "upper": 1316.589569091795
          },
          {
           "lower": 0.4078602269291878,
           "timepoint": 33,
           "trajectory": "infected_observable_state",
           "upper": 1511.1666198730447
          },
          {
           "lower": 0.3599603235721588,
           "timepoint": 34,
           "trajectory": "infected_observable_state",
           "upper": 1734.6825683593725
          },
          {
           "lower": 0.3174367681145668,
           "timepoint": 35,
           "trajectory": "infected_observable_state",
           "upper": 1991.4645202636689
          },
          {
           "lower": 0.2799571305513382,
           "timepoint": 36,
           "trajectory": "infected_observable_state",
           "upper": 2286.4889282226527
          },
          {
           "lower": 0.24692074954509735,
           "timepoint": 37,
           "trajectory": "infected_observable_state",
           "upper": 2625.479675292964
          },
          {
           "lower": 0.21779879778623581,
           "timepoint": 38,
           "trajectory": "infected_observable_state",
           "upper": 3015.019738769526
          },
          {
           "lower": 0.19212558791041373,
           "timepoint": 39,
           "trajectory": "infected_observable_state",
           "upper": 3462.680273437494
          },
          {
           "lower": 0.16949107199907304,
           "timepoint": 40,
           "trajectory": "infected_observable_state",
           "upper": 3977.168872070305
          },
          {
           "lower": 0.14953413605690002,
           "timepoint": 41,
           "trajectory": "infected_observable_state",
           "upper": 4568.50008544921
          },
          {
           "lower": 0.13193675130605698,
           "timepoint": 42,
           "trajectory": "infected_observable_state",
           "upper": 5248.189538574209
          },
          {
           "lower": 0.11641881614923477,
           "timepoint": 43,
           "trajectory": "infected_observable_state",
           "upper": 6029.4793945312385
          },
          {
           "lower": 0.1027336061000824,
           "timepoint": 44,
           "trajectory": "infected_observable_state",
           "upper": 6927.594506835923
          },
          {
           "lower": 0.09066379144787788,
           "timepoint": 45,
           "trajectory": "infected_observable_state",
           "upper": 7960.037524414046
          },
          {
           "lower": 0.08001790307462216,
           "timepoint": 46,
           "trajectory": "infected_observable_state",
           "upper": 9146.923852539043
          },
          {
           "lower": 0.07062727436423302,
           "timepoint": 47,
           "trajectory": "infected_observable_state",
           "upper": 10511.370751953102
          },
          {
           "lower": 0.06234328635036945,
           "timepoint": 48,
           "trajectory": "infected_observable_state",
           "upper": 12079.933422851536
          },
          {
           "lower": 0.05503498874604702,
           "timepoint": 49,
           "trajectory": "infected_observable_state",
           "upper": 13883.107592773405
          },
          {
           "lower": 0.04858699403703213,
           "timepoint": 50,
           "trajectory": "infected_observable_state",
           "upper": 15955.904199218712
          },
          {
           "lower": 0.04289760906249285,
           "timepoint": 51,
           "trajectory": "infected_observable_state",
           "upper": 18338.49086914058
          },
          {
           "lower": 0.03787721544504166,
           "timepoint": 52,
           "trajectory": "infected_observable_state",
           "upper": 21076.93261718745
          },
          {
           "lower": 0.033446820452809334,
           "timepoint": 53,
           "trajectory": "infected_observable_state",
           "upper": 24224.01982421869
          },
          {
           "lower": 0.029536803439259532,
           "timepoint": 54,
           "trajectory": "infected_observable_state",
           "upper": 27840.203955078054
          },
          {
           "lower": 0.026085785031318667,
           "timepoint": 55,
           "trajectory": "infected_observable_state",
           "upper": 31994.638916015545
          },
          {
           "lower": 0.023039660695940257,
           "timepoint": 56,
           "trajectory": "infected_observable_state",
           "upper": 36766.35429687491
          },
          {
           "lower": 0.020350728649646044,
           "timepoint": 57,
           "trajectory": "infected_observable_state",
           "upper": 42245.54960937489
          },
          {
           "lower": 0.017976928176358344,
           "timepoint": 58,
           "trajectory": "infected_observable_state",
           "upper": 48535.01035156237
          },
          {
           "lower": 0.015881173266097906,
           "timepoint": 59,
           "trajectory": "infected_observable_state",
           "upper": 55751.666894531096
          },
          {
           "lower": 0.014030760247260333,
           "timepoint": 60,
           "trajectory": "infected_observable_state",
           "upper": 64028.249414062324
          },
          {
           "lower": 0.012396848853677513,
           "timepoint": 61,
           "trajectory": "infected_observable_state",
           "upper": 73515.0697265623
          },
          {
           "lower": 0.010954001918435097,
           "timepoint": 62,
           "trajectory": "infected_observable_state",
           "upper": 84381.84609374977
          },
          {
           "lower": 0.009679783135652542,
           "timepoint": 63,
           "trajectory": "infected_observable_state",
           "upper": 96819.56132812472
          },
          {
           "lower": 0.008554402412846685,
           "timepoint": 64,
           "trajectory": "infected_observable_state",
           "upper": 111042.26796874969
          },
          {
           "lower": 0.007560402154922486,
           "timepoint": 65,
           "trajectory": "infected_observable_state",
           "upper": 127288.72988281213
          },
          {
           "lower": 0.006682380032725633,
           "timepoint": 66,
           "trajectory": "infected_observable_state",
           "upper": 145823.75078124958
          },
          {
           "lower": 0.005906747514382005,
           "timepoint": 67,
           "trajectory": "infected_observable_state",
           "upper": 166939.0652343745
          },
          {
           "lower": 0.00522151526529342,
           "timepoint": 68,
           "trajectory": "infected_observable_state",
           "upper": 190953.4328124994
          },
          {
           "lower": 0.004616102681029589,
           "timepoint": 69,
           "trajectory": "infected_observable_state",
           "upper": 218211.68476562435
          },
          {
           "lower": 0.004081173252779991,
           "timepoint": 70,
           "trajectory": "infected_observable_state",
           "upper": 249082.43671874923
          },
          {
           "lower": 0.003608487197197974,
           "timepoint": 71,
           "trajectory": "infected_observable_state",
           "upper": 283953.73476562416
          },
          {
           "lower": 0.003190771955996752,
           "timepoint": 72,
           "trajectory": "infected_observable_state",
           "upper": 323226.399999999
          },
          {
           "lower": 0.002821608213707805,
           "timepoint": 73,
           "trajectory": "infected_observable_state",
           "upper": 367304.30937499885
          },
          {
           "lower": 0.0024953293730504813,
           "timepoint": 74,
           "trajectory": "infected_observable_state",
           "upper": 416580.9718749987
          },
          {
           "lower": 0.0022069328522775324,
           "timepoint": 75,
           "trajectory": "infected_observable_state",
           "upper": 471422.04999999853
          },
          {
           "lower": 0.0019520024536177519,
           "timepoint": 76,
           "trajectory": "infected_observable_state",
           "upper": 532143.1156249983
          },
          {
           "lower": 0.0017266385490074757,
           "timepoint": 77,
           "trajectory": "infected_observable_state",
           "upper": 598982.7632812482
          },
          {
           "lower": 0.0015273979923222216,
           "timepoint": 78,
           "trajectory": "infected_observable_state",
           "upper": 672071.3906249979
          },
          {
           "lower": 0.0013512401928892361,
           "timepoint": 79,
           "trajectory": "infected_observable_state",
           "upper": 751396.5249999977
          },
          {
           "lower": 0.0011954799992963674,
           "timepoint": 80,
           "trajectory": "infected_observable_state",
           "upper": 836766.5671874974
          },
          {
           "lower": 0.0010577459761407228,
           "timepoint": 81,
           "trajectory": "infected_observable_state",
           "upper": 927776.2687499973
          },
          {
           "lower": 0.0009359433286590503,
           "timepoint": 82,
           "trajectory": "infected_observable_state",
           "upper": 1023777.8531249969
          },
          {
           "lower": 0.0008282219438115136,
           "timepoint": 83,
           "trajectory": "infected_observable_state",
           "upper": 1123862.2562499968
          },
          {
           "lower": 0.0007329472937271931,
           "timepoint": 84,
           "trajectory": "infected_observable_state",
           "upper": 1226857.5406249964
          },
          {
           "lower": 0.0006486754049547017,
           "timepoint": 85,
           "trajectory": "infected_observable_state",
           "upper": 1331348.3999999962
          },
          {
           "lower": 0.0005741305023548194,
           "timepoint": 86,
           "trajectory": "infected_observable_state",
           "upper": 1435721.934374996
          },
          {
           "lower": 0.0005081853640149348,
           "timepoint": 87,
           "trajectory": "infected_observable_state",
           "upper": 1538240.912499996
          },
          {
           "lower": 0.0004498435591813178,
           "timepoint": 88,
           "trajectory": "infected_observable_state",
           "upper": 1637137.896874996
          },
          {
           "lower": 0.00039817413999116986,
           "timepoint": 89,
           "trajectory": "infected_observable_state",
           "upper": 1730119.137499996
          },
          {
           "lower": 0.0003490780232823454,
           "timepoint": 90,
           "trajectory": "infected_observable_state",
           "upper": 1769560.1312499961
          },
          {
           "lower": 0.00030160640453686944,
           "timepoint": 91,
           "trajectory": "infected_observable_state",
           "upper": 1730312.1312499966
          },
          {
           "lower": 0.00025858120789052925,
           "timepoint": 92,
           "trajectory": "infected_observable_state",
           "upper": 1646895.762499997
          },
          {
           "lower": 0.00022076980458223265,
           "timepoint": 93,
           "trajectory": "infected_observable_state",
           "upper": 1541068.7624999974
          },
          {
           "lower": 0.00018805085237545428,
           "timepoint": 94,
           "trajectory": "infected_observable_state",
           "upper": 1426047.5374999978
          },
          {
           "lower": 0.00015996902002370918,
           "timepoint": 95,
           "trajectory": "infected_observable_state",
           "upper": 1309758.8656249982
          },
          {
           "lower": 0.00013597492797998715,
           "timepoint": 96,
           "trajectory": "infected_observable_state",
           "upper": 1196841.1437499986
          },
          {
           "lower": 0.00011552555006346667,
           "timepoint": 97,
           "trajectory": "infected_observable_state",
           "upper": 1089882.543749999
          },
          {
           "lower": 0.00009812307016545676,
           "timepoint": 98,
           "trajectory": "infected_observable_state",
           "upper": 990193.8468749992
          }
         ]
        },
        {
         "name": "traces",
         "transform": [
          {
           "expr": "isValid(datum.value)",
           "type": "filter"
          },
          {
           "sort": {
            "field": [
             "trajectory",
             "timepoint"
            ]
           },
           "type": "collect"
          }
         ],
         "values": [
          {
           "sample_id": 0,
           "timepoint": 0,
           "trajectory": "infected_observable_state_mean",
           "value": 14.277595520019531
          },
          {
           "sample_id": 0,
           "timepoint": 1,
           "trajectory": "infected_observable_state_mean",
           "value": 18.757179260253906
          },
          {
           "sample_id": 0,
           "timepoint": 2,
           "trajectory": "infected_observable_state_mean",
           "value": 21.92378807067871
          },
          {
           "sample_id": 0,
           "timepoint": 3,
           "trajectory": "infected_observable_state_mean",
           "value": 24.773048400878906
          },
          {
           "sample_id": 0,
           "timepoint": 4,
           "trajectory": "infected_observable_state_mean",
           "value": 27.6925048828125
          },
          {
           "sample_id": 0,
           "timepoint": 5,
           "trajectory": "infected_observable_state_mean",
           "value": 30.84666633605957
          },
          {
           "sample_id": 0,
           "timepoint": 6,
           "trajectory": "infected_observable_state_mean",
           "value": 34.31980895996094
          },
          {
           "sample_id": 0,
           "timepoint": 7,
           "trajectory": "infected_observable_state_mean",
           "value": 38.16911315917969
          },
          {
           "sample_id": 0,
           "timepoint": 8,
           "trajectory": "infected_observable_state_mean",
           "value": 42.44464111328125
          },
          {
           "sample_id": 0,
           "timepoint": 9,
           "trajectory": "infected_observable_state_mean",
           "value": 47.19704818725586
          },
          {
           "sample_id": 0,
           "timepoint": 10,
           "trajectory": "infected_observable_state_mean",
           "value": 52.480804443359375
          },
          {
           "sample_id": 0,
           "timepoint": 11,
           "trajectory": "infected_observable_state_mean",
           "value": 58.35578918457031
          },
          {
           "sample_id": 0,
           "timepoint": 12,
           "trajectory": "infected_observable_state_mean",
           "value": 64.88833618164062
          },
          {
           "sample_id": 0,
           "timepoint": 13,
           "trajectory": "infected_observable_state_mean",
           "value": 72.15210723876953
          },
          {
           "sample_id": 0,
           "timepoint": 14,
           "trajectory": "infected_observable_state_mean",
           "value": 80.22896575927734
          },
          {
           "sample_id": 0,
           "timepoint": 15,
           "trajectory": "infected_observable_state_mean",
           "value": 89.20993041992188
          },
          {
           "sample_id": 0,
           "timepoint": 16,
           "trajectory": "infected_observable_state_mean",
           "value": 99.19621276855469
          },
          {
           "sample_id": 0,
           "timepoint": 17,
           "trajectory": "infected_observable_state_mean",
           "value": 110.30032348632812
          },
          {
           "sample_id": 0,
           "timepoint": 18,
           "trajectory": "infected_observable_state_mean",
           "value": 122.64739227294922
          },
          {
           "sample_id": 0,
           "timepoint": 19,
           "trajectory": "infected_observable_state_mean",
           "value": 136.3765411376953
          },
          {
           "sample_id": 0,
           "timepoint": 20,
           "trajectory": "infected_observable_state_mean",
           "value": 151.6424560546875
          },
          {
           "sample_id": 0,
           "timepoint": 21,
           "trajectory": "infected_observable_state_mean",
           "value": 168.61712646484375
          },
          {
           "sample_id": 0,
           "timepoint": 22,
           "trajectory": "infected_observable_state_mean",
           "value": 187.4918212890625
          },
          {
           "sample_id": 0,
           "timepoint": 23,
           "trajectory": "infected_observable_state_mean",
           "value": 208.47915649414062
          },
          {
           "sample_id": 0,
           "timepoint": 24,
           "trajectory": "infected_observable_state_mean",
           "value": 231.81558227539062
          },
          {
           "sample_id": 0,
           "timepoint": 25,
           "trajectory": "infected_observable_state_mean",
           "value": 257.76397705078125
          },
          {
           "sample_id": 0,
           "timepoint": 26,
           "trajectory": "infected_observable_state_mean",
           "value": 286.6166687011719
          },
          {
           "sample_id": 0,
           "timepoint": 27,
           "trajectory": "infected_observable_state_mean",
           "value": 318.6986389160156
          },
          {
           "sample_id": 0,
           "timepoint": 28,
           "trajectory": "infected_observable_state_mean",
           "value": 354.3712463378906
          },
          {
           "sample_id": 0,
           "timepoint": 29,
           "trajectory": "infected_observable_state_mean",
           "value": 394.0362548828125
          },
          {
           "sample_id": 0,
           "timepoint": 30,
           "trajectory": "infected_observable_state_mean",
           "value": 438.1403503417969
          },
          {
           "sample_id": 0,
           "timepoint": 31,
           "trajectory": "infected_observable_state_mean",
           "value": 487.18017578125
          },
          {
           "sample_id": 0,
           "timepoint": 32,
           "trajectory": "infected_observable_state_mean",
           "value": 541.7079467773438
          },
          {
           "sample_id": 0,
           "timepoint": 33,
           "trajectory": "infected_observable_state_mean",
           "value": 602.3375854492188
          },
          {
           "sample_id": 0,
           "timepoint": 34,
           "trajectory": "infected_observable_state_mean",
           "value": 669.7515869140625
          },
          {
           "sample_id": 0,
           "timepoint": 35,
           "trajectory": "infected_observable_state_mean",
           "value": 744.7088012695312
          },
          {
           "sample_id": 0,
           "timepoint": 36,
           "trajectory": "infected_observable_state_mean",
           "value": 828.0527954101562
          },
          {
           "sample_id": 0,
           "timepoint": 37,
           "trajectory": "infected_observable_state_mean",
           "value": 920.721435546875
          },
          {
           "sample_id": 0,
           "timepoint": 38,
           "trajectory": "infected_observable_state_mean",
           "value": 1023.75732421875
          },
          {
           "sample_id": 0,
           "timepoint": 39,
           "trajectory": "infected_observable_state_mean",
           "value": 1138.3194580078125
          },
          {
           "sample_id": 0,
           "timepoint": 40,
           "trajectory": "infected_observable_state_mean",
           "value": 1265.6962890625
          },
          {
           "sample_id": 0,
           "timepoint": 41,
           "trajectory": "infected_observable_state_mean",
           "value": 1407.320068359375
          },
          {
           "sample_id": 0,
           "timepoint": 42,
           "trajectory": "infected_observable_state_mean",
           "value": 1564.782470703125
          },
          {
           "sample_id": 0,
           "timepoint": 43,
           "trajectory": "infected_observable_state_mean",
           "value": 1739.853271484375
          },
          {
           "sample_id": 0,
           "timepoint": 44,
           "trajectory": "infected_observable_state_mean",
           "value": 1934.4989013671875
          },
          {
           "sample_id": 0,
           "timepoint": 45,
           "trajectory": "infected_observable_state_mean",
           "value": 2150.9052734375
          },
          {
           "sample_id": 0,
           "timepoint": 46,
           "trajectory": "infected_observable_state_mean",
           "value": 2391.501708984375
          },
          {
           "sample_id": 0,
           "timepoint": 47,
           "trajectory": "infected_observable_state_mean",
           "value": 2658.987548828125
          },
          {
           "sample_id": 0,
           "timepoint": 48,
           "trajectory": "infected_observable_state_mean",
           "value": 2956.362548828125
          },
          {
           "sample_id": 0,
           "timepoint": 49,
           "trajectory": "infected_observable_state_mean",
           "value": 3286.9599609375
          },
          {
           "sample_id": 0,
           "timepoint": 50,
           "trajectory": "infected_observable_state_mean",
           "value": 3654.482666015625
          },
          {
           "sample_id": 0,
           "timepoint": 51,
           "trajectory": "infected_observable_state_mean",
           "value": 4063.044921875
          },
          {
           "sample_id": 0,
           "timepoint": 52,
           "trajectory": "infected_observable_state_mean",
           "value": 4517.21630859375
          },
          {
           "sample_id": 0,
           "timepoint": 53,
           "trajectory": "infected_observable_state_mean",
           "value": 5022.07275390625
          },
          {
           "sample_id": 0,
           "timepoint": 54,
           "trajectory": "infected_observable_state_mean",
           "value": 5583.2509765625
          },
          {
           "sample_id": 0,
           "timepoint": 55,
           "trajectory": "infected_observable_state_mean",
           "value": 6207.01025390625
          },
          {
           "sample_id": 0,
           "timepoint": 56,
           "trajectory": "infected_observable_state_mean",
           "value": 6900.29931640625
          },
          {
           "sample_id": 0,
           "timepoint": 57,
           "trajectory": "infected_observable_state_mean",
           "value": 7670.83203125
          },
          {
           "sample_id": 0,
           "timepoint": 58,
           "trajectory": "infected_observable_state_mean",
           "value": 8527.1689453125
          },
          {
           "sample_id": 0,
           "timepoint": 59,
           "trajectory": "infected_observable_state_mean",
           "value": 9478.80859375
          },
          {
           "sample_id": 0,
           "timepoint": 60,
           "trajectory": "infected_observable_state_mean",
           "value": 10536.287109375
          },
          {
           "sample_id": 0,
           "timepoint": 61,
           "trajectory": "infected_observable_state_mean",
           "value": 11711.291015625
          },
          {
           "sample_id": 0,
           "timepoint": 62,
           "trajectory": "infected_observable_state_mean",
           "value": 13016.7744140625
          },
          {
           "sample_id": 0,
           "timepoint": 63,
           "trajectory": "infected_observable_state_mean",
           "value": 14467.0966796875
          },
          {
           "sample_id": 0,
           "timepoint": 64,
           "trajectory": "infected_observable_state_mean",
           "value": 16078.1640625
          },
          {
           "sample_id": 0,
           "timepoint": 65,
           "trajectory": "infected_observable_state_mean",
           "value": 17867.59375
          },
          {
           "sample_id": 0,
           "timepoint": 66,
           "trajectory": "infected_observable_state_mean",
           "value": 19854.884765625
          },
          {
           "sample_id": 0,
           "timepoint": 67,
           "trajectory": "infected_observable_state_mean",
           "value": 22061.609375
          },
          {
           "sample_id": 0,
           "timepoint": 68,
           "trajectory": "infected_observable_state_mean",
           "value": 24511.625
          },
          {
           "sample_id": 0,
           "timepoint": 69,
           "trajectory": "infected_observable_state_mean",
           "value": 27231.287109375
          },
          {
           "sample_id": 0,
           "timepoint": 70,
           "trajectory": "infected_observable_state_mean",
           "value": 30249.701171875
          },
          {
           "sample_id": 0,
           "timepoint": 71,
           "trajectory": "infected_observable_state_mean",
           "value": 33598.98046875
          },
          {
           "sample_id": 0,
           "timepoint": 72,
           "trajectory": "infected_observable_state_mean",
           "value": 37314.5234375
          },
          {
           "sample_id": 0,
           "timepoint": 73,
           "trajectory": "infected_observable_state_mean",
           "value": 41435.30859375
          },
          {
           "sample_id": 0,
           "timepoint": 74,
           "trajectory": "infected_observable_state_mean",
           "value": 46004.2109375
          },
          {
           "sample_id": 0,
           "timepoint": 75,
           "trajectory": "infected_observable_state_mean",
           "value": 51068.34375
          },
          {
           "sample_id": 0,
           "timepoint": 76,
           "trajectory": "infected_observable_state_mean",
           "value": 56679.375
          },
          {
           "sample_id": 0,
           "timepoint": 77,
           "trajectory": "infected_observable_state_mean",
           "value": 62893.90234375
          },
          {
           "sample_id": 0,
           "timepoint": 78,
           "trajectory": "infected_observable_state_mean",
           "value": 69773.8046875
          },
          {
           "sample_id": 0,
           "timepoint": 79,
           "trajectory": "infected_observable_state_mean",
           "value": 77386.6015625
          },
          {
           "sample_id": 0,
           "timepoint": 80,
           "trajectory": "infected_observable_state_mean",
           "value": 85805.7890625
          },
          {
           "sample_id": 0,
           "timepoint": 81,
           "trajectory": "infected_observable_state_mean",
           "value": 95111.1640625
          },
          {
           "sample_id": 0,
           "timepoint": 82,
           "trajectory": "infected_observable_state_mean",
           "value": 105389.125
          },
          {
           "sample_id": 0,
           "timepoint": 83,
           "trajectory": "infected_observable_state_mean",
           "value": 116732.8828125
          },
          {
           "sample_id": 0,
           "timepoint": 84,
           "trajectory": "infected_observable_state_mean",
           "value": 129242.625
          },
          {
           "sample_id": 0,
           "timepoint": 85,
           "trajectory": "infected_observable_state_mean",
           "value": 143025.578125
          },
          {
           "sample_id": 0,
           "timepoint": 86,
           "trajectory": "infected_observable_state_mean",
           "value": 158195.90625
          },
          {
           "sample_id": 0,
           "timepoint": 87,
           "trajectory": "infected_observable_state_mean",
           "value": 174874.4375
          },
          {
           "sample_id": 0,
           "timepoint": 88,
           "trajectory": "infected_observable_state_mean",
           "value": 193187.578125
          },
          {
           "sample_id": 0,
           "timepoint": 89,
           "trajectory": "infected_observable_state_mean",
           "value": 213166.6875
          },
          {
           "sample_id": 0,
           "timepoint": 90,
           "trajectory": "infected_observable_state_mean",
           "value": 226720.171875
          },
          {
           "sample_id": 0,
           "timepoint": 91,
           "trajectory": "infected_observable_state_mean",
           "value": 228418.84375
          },
          {
           "sample_id": 0,
           "timepoint": 92,
           "trajectory": "infected_observable_state_mean",
           "value": 223942.6875
          },
          {
           "sample_id": 0,
           "timepoint": 93,
           "trajectory": "infected_observable_state_mean",
           "value": 216426.859375
          },
          {
           "sample_id": 0,
           "timepoint": 94,
           "trajectory": "infected_observable_state_mean",
           "value": 207529.015625
          },
          {
           "sample_id": 0,
           "timepoint": 95,
           "trajectory": "infected_observable_state_mean",
           "value": 198121.671875
          },
          {
           "sample_id": 0,
           "timepoint": 96,
           "trajectory": "infected_observable_state_mean",
           "value": 188660.4375
          },
          {
           "sample_id": 0,
           "timepoint": 97,
           "trajectory": "infected_observable_state_mean",
           "value": 179379.515625
          },
          {
           "sample_id": 0,
           "timepoint": 98,
           "trajectory": "infected_observable_state_mean",
           "value": 170395.5
          },
          {
           "sample_id": 0,
           "timepoint": 0,
           "trajectory": "infected_observable_state_var",
           "value": 14.277595520019531
          },
          {
           "sample_id": 0,
           "timepoint": 1,
           "trajectory": "infected_observable_state_var",
           "value": 18.757179260253906
          },
          {
           "sample_id": 0,
           "timepoint": 2,
           "trajectory": "infected_observable_state_var",
           "value": 21.92378807067871
          },
          {
           "sample_id": 0,
           "timepoint": 3,
           "trajectory": "infected_observable_state_var",
           "value": 24.773048400878906
          },
          {
           "sample_id": 0,
           "timepoint": 4,
           "trajectory": "infected_observable_state_var",
           "value": 27.6925048828125
          },
          {
           "sample_id": 0,
           "timepoint": 5,
           "trajectory": "infected_observable_state_var",
           "value": 30.84666633605957
          },
          {
           "sample_id": 0,
           "timepoint": 6,
           "trajectory": "infected_observable_state_var",
           "value": 34.31980895996094
          },
          {
           "sample_id": 0,
           "timepoint": 7,
           "trajectory": "infected_observable_state_var",
           "value": 38.16911315917969
          },
          {
           "sample_id": 0,
           "timepoint": 8,
           "trajectory": "infected_observable_state_var",
           "value": 42.44464111328125
          },
          {
           "sample_id": 0,
           "timepoint": 9,
           "trajectory": "infected_observable_state_var",
           "value": 47.19704818725586
          },
          {
           "sample_id": 0,
           "timepoint": 10,
           "trajectory": "infected_observable_state_var",
           "value": 52.480804443359375
          },
          {
           "sample_id": 0,
           "timepoint": 11,
           "trajectory": "infected_observable_state_var",
           "value": 58.35578918457031
          },
          {
           "sample_id": 0,
           "timepoint": 12,
           "trajectory": "infected_observable_state_var",
           "value": 64.88833618164062
          },
          {
           "sample_id": 0,
           "timepoint": 13,
           "trajectory": "infected_observable_state_var",
           "value": 72.15210723876953
          },
          {
           "sample_id": 0,
           "timepoint": 14,
           "trajectory": "infected_observable_state_var",
           "value": 80.22896575927734
          },
          {
           "sample_id": 0,
           "timepoint": 15,
           "trajectory": "infected_observable_state_var",
           "value": 89.20993041992188
          },
          {
           "sample_id": 0,
           "timepoint": 16,
           "trajectory": "infected_observable_state_var",
           "value": 99.19621276855469
          },
          {
           "sample_id": 0,
           "timepoint": 17,
           "trajectory": "infected_observable_state_var",
           "value": 110.30032348632812
          },
          {
           "sample_id": 0,
           "timepoint": 18,
           "trajectory": "infected_observable_state_var",
           "value": 122.64739227294922
          },
          {
           "sample_id": 0,
           "timepoint": 19,
           "trajectory": "infected_observable_state_var",
           "value": 136.3765411376953
          },
          {
           "sample_id": 0,
           "timepoint": 20,
           "trajectory": "infected_observable_state_var",
           "value": 151.6424560546875
          },
          {
           "sample_id": 0,
           "timepoint": 21,
           "trajectory": "infected_observable_state_var",
           "value": 168.61712646484375
          },
          {
           "sample_id": 0,
           "timepoint": 22,
           "trajectory": "infected_observable_state_var",
           "value": 187.4918212890625
          },
          {
           "sample_id": 0,
           "timepoint": 23,
           "trajectory": "infected_observable_state_var",
           "value": 208.47915649414062
          },
          {
           "sample_id": 0,
           "timepoint": 24,
           "trajectory": "infected_observable_state_var",
           "value": 231.81558227539062
          },
          {
           "sample_id": 0,
           "timepoint": 25,
           "trajectory": "infected_observable_state_var",
           "value": 257.76397705078125
          },
          {
           "sample_id": 0,
           "timepoint": 26,
           "trajectory": "infected_observable_state_var",
           "value": 286.6166687011719
          },
          {
           "sample_id": 0,
           "timepoint": 27,
           "trajectory": "infected_observable_state_var",
           "value": 318.6986389160156
          },
          {
           "sample_id": 0,
           "timepoint": 28,
           "trajectory": "infected_observable_state_var",
           "value": 354.3712463378906
          },
          {
           "sample_id": 0,
           "timepoint": 29,
           "trajectory": "infected_observable_state_var",
           "value": 394.0362548828125
          },
          {
           "sample_id": 0,
           "timepoint": 30,
           "trajectory": "infected_observable_state_var",
           "value": 438.1403503417969
          },
          {
           "sample_id": 0,
           "timepoint": 31,
           "trajectory": "infected_observable_state_var",
           "value": 487.18017578125
          },
          {
           "sample_id": 0,
           "timepoint": 32,
           "trajectory": "infected_observable_state_var",
           "value": 541.7079467773438
          },
          {
           "sample_id": 0,
           "timepoint": 33,
           "trajectory": "infected_observable_state_var",
           "value": 602.3375854492188
          },
          {
           "sample_id": 0,
           "timepoint": 34,
           "trajectory": "infected_observable_state_var",
           "value": 669.7515869140625
          },
          {
           "sample_id": 0,
           "timepoint": 35,
           "trajectory": "infected_observable_state_var",
           "value": 744.7088012695312
          },
          {
           "sample_id": 0,
           "timepoint": 36,
           "trajectory": "infected_observable_state_var",
           "value": 828.0527954101562
          },
          {
           "sample_id": 0,
           "timepoint": 37,
           "trajectory": "infected_observable_state_var",
           "value": 920.721435546875
          },
          {
           "sample_id": 0,
           "timepoint": 38,
           "trajectory": "infected_observable_state_var",
           "value": 1023.75732421875
          },
          {
           "sample_id": 0,
           "timepoint": 39,
           "trajectory": "infected_observable_state_var",
           "value": 1138.3194580078125
          },
          {
           "sample_id": 0,
           "timepoint": 40,
           "trajectory": "infected_observable_state_var",
           "value": 1265.6962890625
          },
          {
           "sample_id": 0,
           "timepoint": 41,
           "trajectory": "infected_observable_state_var",
           "value": 1407.320068359375
          },
          {
           "sample_id": 0,
           "timepoint": 42,
           "trajectory": "infected_observable_state_var",
           "value": 1564.782470703125
          },
          {
           "sample_id": 0,
           "timepoint": 43,
           "trajectory": "infected_observable_state_var",
           "value": 1739.853271484375
          },
          {
           "sample_id": 0,
           "timepoint": 44,
           "trajectory": "infected_observable_state_var",
           "value": 1934.4989013671875
          },
          {
           "sample_id": 0,
           "timepoint": 45,
           "trajectory": "infected_observable_state_var",
           "value": 2150.9052734375
          },
          {
           "sample_id": 0,
           "timepoint": 46,
           "trajectory": "infected_observable_state_var",
           "value": 2391.501708984375
          },
          {
           "sample_id": 0,
           "timepoint": 47,
           "trajectory": "infected_observable_state_var",
           "value": 2658.987548828125
          },
          {
           "sample_id": 0,
           "timepoint": 48,
           "trajectory": "infected_observable_state_var",
           "value": 2956.362548828125
          },
          {
           "sample_id": 0,
           "timepoint": 49,
           "trajectory": "infected_observable_state_var",
           "value": 3286.9599609375
          },
          {
           "sample_id": 0,
           "timepoint": 50,
           "trajectory": "infected_observable_state_var",
           "value": 3654.482666015625
          },
          {
           "sample_id": 0,
           "timepoint": 51,
           "trajectory": "infected_observable_state_var",
           "value": 4063.044921875
          },
          {
           "sample_id": 0,
           "timepoint": 52,
           "trajectory": "infected_observable_state_var",
           "value": 4517.21630859375
          },
          {
           "sample_id": 0,
           "timepoint": 53,
           "trajectory": "infected_observable_state_var",
           "value": 5022.07275390625
          },
          {
           "sample_id": 0,
           "timepoint": 54,
           "trajectory": "infected_observable_state_var",
           "value": 5583.2509765625
          },
          {
           "sample_id": 0,
           "timepoint": 55,
           "trajectory": "infected_observable_state_var",
           "value": 6207.01025390625
          },
          {
           "sample_id": 0,
           "timepoint": 56,
           "trajectory": "infected_observable_state_var",
           "value": 6900.29931640625
          },
          {
           "sample_id": 0,
           "timepoint": 57,
           "trajectory": "infected_observable_state_var",
           "value": 7670.83203125
          },
          {
           "sample_id": 0,
           "timepoint": 58,
           "trajectory": "infected_observable_state_var",
           "value": 8527.1689453125
          },
          {
           "sample_id": 0,
           "timepoint": 59,
           "trajectory": "infected_observable_state_var",
           "value": 9478.80859375
          },
          {
           "sample_id": 0,
           "timepoint": 60,
           "trajectory": "infected_observable_state_var",
           "value": 10536.287109375
          },
          {
           "sample_id": 0,
           "timepoint": 61,
           "trajectory": "infected_observable_state_var",
           "value": 11711.291015625
          },
          {
           "sample_id": 0,
           "timepoint": 62,
           "trajectory": "infected_observable_state_var",
           "value": 13016.7744140625
          },
          {
           "sample_id": 0,
           "timepoint": 63,
           "trajectory": "infected_observable_state_var",
           "value": 14467.0966796875
          },
          {
           "sample_id": 0,
           "timepoint": 64,
           "trajectory": "infected_observable_state_var",
           "value": 16078.1640625
          },
          {
           "sample_id": 0,
           "timepoint": 65,
           "trajectory": "infected_observable_state_var",
           "value": 17867.59375
          },
          {
           "sample_id": 0,
           "timepoint": 66,
           "trajectory": "infected_observable_state_var",
           "value": 19854.884765625
          },
          {
           "sample_id": 0,
           "timepoint": 67,
           "trajectory": "infected_observable_state_var",
           "value": 22061.609375
          },
          {
           "sample_id": 0,
           "timepoint": 68,
           "trajectory": "infected_observable_state_var",
           "value": 24511.625
          },
          {
           "sample_id": 0,
           "timepoint": 69,
           "trajectory": "infected_observable_state_var",
           "value": 27231.287109375
          },
          {
           "sample_id": 0,
           "timepoint": 70,
           "trajectory": "infected_observable_state_var",
           "value": 30249.701171875
          },
          {
           "sample_id": 0,
           "timepoint": 71,
           "trajectory": "infected_observable_state_var",
           "value": 33598.98046875
          },
          {
           "sample_id": 0,
           "timepoint": 72,
           "trajectory": "infected_observable_state_var",
           "value": 37314.5234375
          },
          {
           "sample_id": 0,
           "timepoint": 73,
           "trajectory": "infected_observable_state_var",
           "value": 41435.30859375
          },
          {
           "sample_id": 0,
           "timepoint": 74,
           "trajectory": "infected_observable_state_var",
           "value": 46004.2109375
          },
          {
           "sample_id": 0,
           "timepoint": 75,
           "trajectory": "infected_observable_state_var",
           "value": 51068.34375
          },
          {
           "sample_id": 0,
           "timepoint": 76,
           "trajectory": "infected_observable_state_var",
           "value": 56679.375
          },
          {
           "sample_id": 0,
           "timepoint": 77,
           "trajectory": "infected_observable_state_var",
           "value": 62893.90234375
          },
          {
           "sample_id": 0,
           "timepoint": 78,
           "trajectory": "infected_observable_state_var",
           "value": 69773.8046875
          },
          {
           "sample_id": 0,
           "timepoint": 79,
           "trajectory": "infected_observable_state_var",
           "value": 77386.6015625
          },
          {
           "sample_id": 0,
           "timepoint": 80,
           "trajectory": "infected_observable_state_var",
           "value": 85805.7890625
          },
          {
           "sample_id": 0,
           "timepoint": 81,
           "trajectory": "infected_observable_state_var",
           "value": 95111.1640625
          },
          {
           "sample_id": 0,
           "timepoint": 82,
           "trajectory": "infected_observable_state_var",
           "value": 105389.125
          },
          {
           "sample_id": 0,
           "timepoint": 83,
           "trajectory": "infected_observable_state_var",
           "value": 116732.8828125
          },
          {
           "sample_id": 0,
           "timepoint": 84,
           "trajectory": "infected_observable_state_var",
           "value": 129242.625
          },
          {
           "sample_id": 0,
           "timepoint": 85,
           "trajectory": "infected_observable_state_var",
           "value": 143025.578125
          },
          {
           "sample_id": 0,
           "timepoint": 86,
           "trajectory": "infected_observable_state_var",
           "value": 158195.90625
          },
          {
           "sample_id": 0,
           "timepoint": 87,
           "trajectory": "infected_observable_state_var",
           "value": 174874.4375
          },
          {
           "sample_id": 0,
           "timepoint": 88,
           "trajectory": "infected_observable_state_var",
           "value": 193187.578125
          },
          {
           "sample_id": 0,
           "timepoint": 89,
           "trajectory": "infected_observable_state_var",
           "value": 213166.6875
          },
          {
           "sample_id": 0,
           "timepoint": 90,
           "trajectory": "infected_observable_state_var",
           "value": 226720.171875
          },
          {
           "sample_id": 0,
           "timepoint": 91,
           "trajectory": "infected_observable_state_var",
           "value": 228418.84375
          },
          {
           "sample_id": 0,
           "timepoint": 92,
           "trajectory": "infected_observable_state_var",
           "value": 223942.6875
          },
          {
           "sample_id": 0,
           "timepoint": 93,
           "trajectory": "infected_observable_state_var",
           "value": 216426.859375
          },
          {
           "sample_id": 0,
           "timepoint": 94,
           "trajectory": "infected_observable_state_var",
           "value": 207529.015625
          },
          {
           "sample_id": 0,
           "timepoint": 95,
           "trajectory": "infected_observable_state_var",
           "value": 198121.671875
          },
          {
           "sample_id": 0,
           "timepoint": 96,
           "trajectory": "infected_observable_state_var",
           "value": 188660.4375
          },
          {
           "sample_id": 0,
           "timepoint": 97,
           "trajectory": "infected_observable_state_var",
           "value": 179379.515625
          },
          {
           "sample_id": 0,
           "timepoint": 98,
           "trajectory": "infected_observable_state_var",
           "value": 170395.5
          },
          {
           "sample_id": 0,
           "timepoint": 0,
           "trajectory": "infected_observable_state_granger",
           "value": 10.966276168823242
          },
          {
           "sample_id": 0,
           "timepoint": 1,
           "trajectory": "infected_observable_state_granger",
           "value": 17.41885757446289
          },
          {
           "sample_id": 0,
           "timepoint": 2,
           "trajectory": "infected_observable_state_granger",
           "value": 22.280078887939453
          },
          {
           "sample_id": 0,
           "timepoint": 3,
           "trajectory": "infected_observable_state_granger",
           "value": 26.52263641357422
          },
          {
           "sample_id": 0,
           "timepoint": 4,
           "trajectory": "infected_observable_state_granger",
           "value": 30.673751831054688
          },
          {
           "sample_id": 0,
           "timepoint": 5,
           "trajectory": "infected_observable_state_granger",
           "value": 35.03464889526367
          },
          {
           "sample_id": 0,
           "timepoint": 6,
           "trajectory": "infected_observable_state_granger",
           "value": 39.79402542114258
          },
          {
           "sample_id": 0,
           "timepoint": 7,
           "trajectory": "infected_observable_state_granger",
           "value": 45.08701705932617
          },
          {
           "sample_id": 0,
           "timepoint": 8,
           "trajectory": "infected_observable_state_granger",
           "value": 51.026126861572266
          },
          {
           "sample_id": 0,
           "timepoint": 9,
           "trajectory": "infected_observable_state_granger",
           "value": 57.71780776977539
          },
          {
           "sample_id": 0,
           "timepoint": 10,
           "trajectory": "infected_observable_state_granger",
           "value": 65.271728515625
          },
          {
           "sample_id": 0,
           "timepoint": 11,
           "trajectory": "infected_observable_state_granger",
           "value": 73.806396484375
          },
          {
           "sample_id": 0,
           "timepoint": 12,
           "trajectory": "infected_observable_state_granger",
           "value": 83.45294952392578
          },
          {
           "sample_id": 0,
           "timepoint": 13,
           "trajectory": "infected_observable_state_granger",
           "value": 94.35821533203125
          },
          {
           "sample_id": 0,
           "timepoint": 14,
           "trajectory": "infected_observable_state_granger",
           "value": 106.68743896484375
          },
          {
           "sample_id": 0,
           "timepoint": 15,
           "trajectory": "infected_observable_state_granger",
           "value": 120.62706756591797
          },
          {
           "sample_id": 0,
           "timepoint": 16,
           "trajectory": "infected_observable_state_granger",
           "value": 136.38771057128906
          },
          {
           "sample_id": 0,
           "timepoint": 17,
           "trajectory": "infected_observable_state_granger",
           "value": 154.2073974609375
          },
          {
           "sample_id": 0,
           "timepoint": 18,
           "trajectory": "infected_observable_state_granger",
           "value": 174.35519409179688
          },
          {
           "sample_id": 0,
           "timepoint": 19,
           "trajectory": "infected_observable_state_granger",
           "value": 197.13528442382812
          },
          {
           "sample_id": 0,
           "timepoint": 20,
           "trajectory": "infected_observable_state_granger",
           "value": 222.89157104492188
          },
          {
           "sample_id": 0,
           "timepoint": 21,
           "trajectory": "infected_observable_state_granger",
           "value": 252.01287841796875
          },
          {
           "sample_id": 0,
           "timepoint": 22,
           "trajectory": "infected_observable_state_granger",
           "value": 284.9388427734375
          },
          {
           "sample_id": 0,
           "timepoint": 23,
           "trajectory": "infected_observable_state_granger",
           "value": 322.1664733886719
          },
          {
           "sample_id": 0,
           "timepoint": 24,
           "trajectory": "infected_observable_state_granger",
           "value": 364.25775146484375
          },
          {
           "sample_id": 0,
           "timepoint": 25,
           "trajectory": "infected_observable_state_granger",
           "value": 411.8480224609375
          },
          {
           "sample_id": 0,
           "timepoint": 26,
           "trajectory": "infected_observable_state_granger",
           "value": 465.6556396484375
          },
          {
           "sample_id": 0,
           "timepoint": 27,
           "trajectory": "infected_observable_state_granger",
           "value": 526.4927368164062
          },
          {
           "sample_id": 0,
           "timepoint": 28,
           "trajectory": "infected_observable_state_granger",
           "value": 595.277587890625
          },
          {
           "sample_id": 0,
           "timepoint": 29,
           "trajectory": "infected_observable_state_granger",
           "value": 673.0482788085938
          },
          {
           "sample_id": 0,
           "timepoint": 30,
           "trajectory": "infected_observable_state_granger",
           "value": 760.9785766601562
          },
          {
           "sample_id": 0,
           "timepoint": 31,
           "trajectory": "infected_observable_state_granger",
           "value": 860.3953857421875
          },
          {
           "sample_id": 0,
           "timepoint": 32,
           "trajectory": "infected_observable_state_granger",
           "value": 972.7989501953125
          },
          {
           "sample_id": 0,
           "timepoint": 33,
           "trajectory": "infected_observable_state_granger",
           "value": 1099.88525390625
          },
          {
           "sample_id": 0,
           "timepoint": 34,
           "trajectory": "infected_observable_state_granger",
           "value": 1243.57177734375
          },
          {
           "sample_id": 0,
           "timepoint": 35,
           "trajectory": "infected_observable_state_granger",
           "value": 1406.0262451171875
          },
          {
           "sample_id": 0,
           "timepoint": 36,
           "trajectory": "infected_observable_state_granger",
           "value": 1589.69921875
          },
          {
           "sample_id": 0,
           "timepoint": 37,
           "trajectory": "infected_observable_state_granger",
           "value": 1797.361083984375
          },
          {
           "sample_id": 0,
           "timepoint": 38,
           "trajectory": "infected_observable_state_granger",
           "value": 2032.1435546875
          },
          {
           "sample_id": 0,
           "timepoint": 39,
           "trajectory": "infected_observable_state_granger",
           "value": 2297.5869140625
          },
          {
           "sample_id": 0,
           "timepoint": 40,
           "trajectory": "infected_observable_state_granger",
           "value": 2597.69287109375
          },
          {
           "sample_id": 0,
           "timepoint": 41,
           "trajectory": "infected_observable_state_granger",
           "value": 2936.985107421875
          },
          {
           "sample_id": 0,
           "timepoint": 42,
           "trajectory": "infected_observable_state_granger",
           "value": 3320.576904296875
          },
          {
           "sample_id": 0,
           "timepoint": 43,
           "trajectory": "infected_observable_state_granger",
           "value": 3754.24755859375
          },
          {
           "sample_id": 0,
           "timepoint": 44,
           "trajectory": "infected_observable_state_granger",
           "value": 4244.52880859375
          },
          {
           "sample_id": 0,
           "timepoint": 45,
           "trajectory": "infected_observable_state_granger",
           "value": 4798.80322265625
          },
          {
           "sample_id": 0,
           "timepoint": 46,
           "trajectory": "infected_observable_state_granger",
           "value": 5425.41357421875
          },
          {
           "sample_id": 0,
           "timepoint": 47,
           "trajectory": "infected_observable_state_granger",
           "value": 6133.7880859375
          },
          {
           "sample_id": 0,
           "timepoint": 48,
           "trajectory": "infected_observable_state_granger",
           "value": 6934.58056640625
          },
          {
           "sample_id": 0,
           "timepoint": 49,
           "trajectory": "infected_observable_state_granger",
           "value": 7839.82763671875
          },
          {
           "sample_id": 0,
           "timepoint": 50,
           "trajectory": "infected_observable_state_granger",
           "value": 8863.12890625
          },
          {
           "sample_id": 0,
           "timepoint": 51,
           "trajectory": "infected_observable_state_granger",
           "value": 10019.8466796875
          },
          {
           "sample_id": 0,
           "timepoint": 52,
           "trajectory": "infected_observable_state_granger",
           "value": 11327.333984375
          },
          {
           "sample_id": 0,
           "timepoint": 53,
           "trajectory": "infected_observable_state_granger",
           "value": 12805.189453125
          },
          {
           "sample_id": 0,
           "timepoint": 54,
           "trajectory": "infected_observable_state_granger",
           "value": 14475.5439453125
          },
          {
           "sample_id": 0,
           "timepoint": 55,
           "trajectory": "infected_observable_state_granger",
           "value": 16363.3837890625
          },
          {
           "sample_id": 0,
           "timepoint": 56,
           "trajectory": "infected_observable_state_granger",
           "value": 18496.9140625
          },
          {
           "sample_id": 0,
           "timepoint": 57,
           "trajectory": "infected_observable_state_granger",
           "value": 20907.96875
          },
          {
           "sample_id": 0,
           "timepoint": 58,
           "trajectory": "infected_observable_state_granger",
           "value": 23632.46484375
          },
          {
           "sample_id": 0,
           "timepoint": 59,
           "trajectory": "infected_observable_state_granger",
           "value": 26710.916015625
          },
          {
           "sample_id": 0,
           "timepoint": 60,
           "trajectory": "infected_observable_state_granger",
           "value": 30189.01171875
          },
          {
           "sample_id": 0,
           "timepoint": 61,
           "trajectory": "infected_observable_state_granger",
           "value": 34118.25390625
          },
          {
           "sample_id": 0,
           "timepoint": 62,
           "trajectory": "infected_observable_state_granger",
           "value": 38556.6796875
          },
          {
           "sample_id": 0,
           "timepoint": 63,
           "trajectory": "infected_observable_state_granger",
           "value": 43569.6484375
          },
          {
           "sample_id": 0,
           "timepoint": 64,
           "trajectory": "infected_observable_state_granger",
           "value": 49230.75
          },
          {
           "sample_id": 0,
           "timepoint": 65,
           "trajectory": "infected_observable_state_granger",
           "value": 55622.76953125
          },
          {
           "sample_id": 0,
           "timepoint": 66,
           "trajectory": "infected_observable_state_granger",
           "value": 62838.796875
          },
          {
           "sample_id": 0,
           "timepoint": 67,
           "trajectory": "infected_observable_state_granger",
           "value": 70983.4140625
          },
          {
           "sample_id": 0,
           "timepoint": 68,
           "trajectory": "infected_observable_state_granger",
           "value": 80174.03125
          },
          {
           "sample_id": 0,
           "timepoint": 69,
           "trajectory": "infected_observable_state_granger",
           "value": 90542.3203125
          },
          {
           "sample_id": 0,
           "timepoint": 70,
           "trajectory": "infected_observable_state_granger",
           "value": 102235.796875
          },
          {
           "sample_id": 0,
           "timepoint": 71,
           "trajectory": "infected_observable_state_granger",
           "value": 115419.5078125
          },
          {
           "sample_id": 0,
           "timepoint": 72,
           "trajectory": "infected_observable_state_granger",
           "value": 130277.875
          },
          {
           "sample_id": 0,
           "timepoint": 73,
           "trajectory": "infected_observable_state_granger",
           "value": 147016.625
          },
          {
           "sample_id": 0,
           "timepoint": 74,
           "trajectory": "infected_observable_state_granger",
           "value": 165864.8125
          },
          {
           "sample_id": 0,
           "timepoint": 75,
           "trajectory": "infected_observable_state_granger",
           "value": 187077
          },
          {
           "sample_id": 0,
           "timepoint": 76,
           "trajectory": "infected_observable_state_granger",
           "value": 210935.3125
          },
          {
           "sample_id": 0,
           "timepoint": 77,
           "trajectory": "infected_observable_state_granger",
           "value": 237751.640625
          },
          {
           "sample_id": 0,
           "timepoint": 78,
           "trajectory": "infected_observable_state_granger",
           "value": 267869.6875
          },
          {
           "sample_id": 0,
           "timepoint": 79,
           "trajectory": "infected_observable_state_granger",
           "value": 301666.75
          },
          {
           "sample_id": 0,
           "timepoint": 80,
           "trajectory": "infected_observable_state_granger",
           "value": 339555.34375
          },
          {
           "sample_id": 0,
           "timepoint": 81,
           "trajectory": "infected_observable_state_granger",
           "value": 381984.25
          },
          {
           "sample_id": 0,
           "timepoint": 82,
           "trajectory": "infected_observable_state_granger",
           "value": 429438.8125
          },
          {
           "sample_id": 0,
           "timepoint": 83,
           "trajectory": "infected_observable_state_granger",
           "value": 482440.5
          },
          {
           "sample_id": 0,
           "timepoint": 84,
           "trajectory": "infected_observable_state_granger",
           "value": 541545.0625
          },
          {
           "sample_id": 0,
           "timepoint": 85,
           "trajectory": "infected_observable_state_granger",
           "value": 607339.125
          },
          {
           "sample_id": 0,
           "timepoint": 86,
           "trajectory": "infected_observable_state_granger",
           "value": 680434.8125
          },
          {
           "sample_id": 0,
           "timepoint": 87,
           "trajectory": "infected_observable_state_granger",
           "value": 761461.75
          },
          {
           "sample_id": 0,
           "timepoint": 88,
           "trajectory": "infected_observable_state_granger",
           "value": 851053.9375
          },
          {
           "sample_id": 0,
           "timepoint": 89,
           "trajectory": "infected_observable_state_granger",
           "value": 949479.25
          },
          {
           "sample_id": 0,
           "timepoint": 90,
           "trajectory": "infected_observable_state_granger",
           "value": 1027911.875
          },
          {
           "sample_id": 0,
           "timepoint": 91,
           "trajectory": "infected_observable_state_granger",
           "value": 1062143.875
          },
          {
           "sample_id": 0,
           "timepoint": 92,
           "trajectory": "infected_observable_state_granger",
           "value": 1065987
          },
          {
           "sample_id": 0,
           "timepoint": 93,
           "trajectory": "infected_observable_state_granger",
           "value": 1049579
          },
          {
           "sample_id": 0,
           "timepoint": 94,
           "trajectory": "infected_observable_state_granger",
           "value": 1020008.25
          },
          {
           "sample_id": 0,
           "timepoint": 95,
           "trajectory": "infected_observable_state_granger",
           "value": 982212.3125
          },
          {
           "sample_id": 0,
           "timepoint": 96,
           "trajectory": "infected_observable_state_granger",
           "value": 939614.875
          },
          {
           "sample_id": 0,
           "timepoint": 97,
           "trajectory": "infected_observable_state_granger",
           "value": 894575
          },
          {
           "sample_id": 0,
           "timepoint": 98,
           "trajectory": "infected_observable_state_granger",
           "value": 848703.5625
          }
         ]
        },
        {
         "name": "points",
         "values": []
        },
        {
         "name": "markers",
         "values": []
        },
        {
         "name": "selected",
         "on": [
          {
           "remove": true,
           "trigger": "clear"
          },
          {
           "remove": true,
           "trigger": "!shift"
          },
          {
           "insert": "clicked",
           "trigger": "!shift && clicked"
          },
          {
           "toggle": "clicked",
           "trigger": "shift && clicked"
          }
         ]
        },
        {
         "name": "selectedData",
         "on": [
          {
           "remove": true,
           "trigger": "clearData"
          },
          {
           "toggle": "clickedData",
           "trigger": "clickedData"
          }
         ]
        }
       ],
       "height": 300,
       "legends": [
        {
         "encode": {
          "labels": {
           "interactive": true,
           "name": "legendLabel",
           "update": {
            "opacity": [
             {
              "test": "!length(data('selectedData')) || indata('selectedData', 'value', datum.value)",
              "value": 1
             },
             {
              "value": 0.25
             }
            ]
           }
          },
          "symbols": {
           "interactive": true,
           "name": "legendSymbol",
           "update": {
            "fill": {
             "value": "transparent"
            },
            "opacity": [
             {
              "test": "!length(data('selected')) || indata('selected', 'value', datum.value) || indata('selectedData', 'value', datum.value)",
              "value": 0.7
             },
             {
              "value": 0.15
             }
            ],
            "size": {
             "value": 64
            },
            "strokeWidth": {
             "value": 2
            }
           }
          }
         },
         "name": "color_legend",
         "stroke": "color"
        }
       ],
       "marks": [
        {
         "from": {
          "facet": {
           "data": "points",
           "groupby": "trajectory",
           "name": "points_split"
          }
         },
         "marks": [
          {
           "encode": {
            "hover": {
             "fillOpacity": {
              "value": 0.9
             }
            },
            "update": {
             "fill": {
              "field": "trajectory",
              "scale": "color"
             },
             "fillOpacity": [
              {
               "test": "!length(data('selected')) || indata('selected', 'value', datum.trajectory)",
               "value": 0.5
              },
              {
               "value": 0.15
              }
             ],
             "size": {
              "value": 35
             },
             "stroke": {
              "field": "trajectory",
              "scale": "color"
             },
             "strokeOpacity": [
              {
               "test": "!length(data('selected')) || indata('selected', 'value', datum.trajectory)",
               "value": 0.75
              },
              {
               "value": 0.15
              }
             ],
             "strokeWidth": {
              "value": 2
             },
             "tooltip": {
              "field": "value"
             },
             "x": {
              "field": "timepoint",
              "scale": "xscale"
             },
             "y": {
              "field": "value",
              "scale": "yscale"
             }
            }
           },
           "from": {
            "data": "points_split"
           },
           "name": "_points_symbol",
           "type": "symbol",
           "zindex": 3
          },
          {
           "encode": {
            "hover": {
             "fillOpacity": {
              "value": 0.9
             }
            },
            "update": {
             "interpolate": {
              "value": "linear"
             },
             "stroke": {
              "field": "trajectory",
              "scale": "color"
             },
             "strokeDash": {
              "value": [
               5,
               3
              ]
             },
             "strokeOpacity": [
              {
               "test": "!length(data('selected')) || indata('selected', 'value', datum.trajectory)",
               "value": 0.3
              },
              {
               "value": 0.1
              }
             ],
             "strokeWidth": {
              "value": 2
             },
             "x": {
              "field": "timepoint",
              "scale": "xscale"
             },
             "y": {
              "field": "value",
              "scale": "yscale"
             }
            }
           },
           "from": {
            "data": "points_split"
           },
           "name": "_points_line",
           "type": "line",
           "zindex": 3
          }
         ],
         "name": "_points",
         "type": "group",
         "zindex": 3
        },
        {
         "from": {
          "facet": {
           "data": "traces",
           "groupby": "trajectory",
           "name": "traces_split"
          }
         },
         "marks": [
          {
           "encode": {
            "hover": {
             "fillOpacity": {
              "value": 0.9
             }
            },
            "update": {
             "interpolate": {
              "value": "linear"
             },
             "stroke": {
              "field": "trajectory",
              "scale": "color"
             },
             "strokeOpacity": [
              {
               "test": "!length(data('selected')) || indata('selected', 'value', datum.trajectory)",
               "value": 0.75
              },
              {
               "value": 0.15
              }
             ],
             "strokeWidth": {
              "value": 2
             },
             "x": {
              "field": "timepoint",
              "scale": "xscale"
             },
             "y": {
              "field": "value",
              "scale": "yscale"
             }
            }
           },
           "from": {
            "data": "traces_split"
           },
           "name": "_traces_lines",
           "type": "line"
          }
         ],
         "name": "_traces",
         "type": "group",
         "zindex": 2
        },
        {
         "from": {
          "facet": {
           "data": "distributions",
           "groupby": "trajectory",
           "name": "trajectory_split"
          }
         },
         "marks": [
          {
           "encode": {
            "hover": {
             "fillOpacity": {
              "value": 0.9
             }
            },
            "update": {
             "fill": {
              "field": "trajectory",
              "scale": "color"
             },
             "fillOpacity": [
              {
               "test": "!length(data('selected')) || indata('selected', 'value', datum.trajectory)",
               "value": 0.5
              },
              {
               "value": 0.15
              }
             ],
             "interpolate": {
              "value": "linear"
             },
             "stroke": {
              "field": "trajectory",
              "scale": "color"
             },
             "strokeOpacity": [
              {
               "test": "!length(data('selected')) || indata('selected', 'value', datum.trajectory)",
               "value": 0.75
              },
              {
               "value": 0.15
              }
             ],
             "strokeWidth": {
              "value": 2
             },
             "x": {
              "field": "timepoint",
              "scale": "xscale"
             },
             "y": {
              "field": "upper",
              "scale": "yscale"
             },
             "y2": {
              "field": "lower",
              "scale": "yscale"
             }
            }
           },
           "from": {
            "data": "trajectory_split"
           },
           "interactive": true,
           "name": "area",
           "type": "area"
          }
         ],
         "name": "_distributions",
         "type": "group",
         "zindex": 1
        },
        {
         "marks": [
          {
           "encode": {
            "enter": {
             "stroke": {
              "value": "lightgray"
             }
            },
            "update": {
             "opacity": {
              "value": 1
             },
             "x": {
              "field": "timepoint",
              "scale": "xscale"
             },
             "y": {
              "signal": "height"
             },
             "y2": {
              "value": 0
             }
            }
           },
           "from": {
            "data": "markers"
           },
           "name": "_marker text",
           "type": "rule"
          },
          {
           "encode": {
            "enter": {
             "fontSize": {
              "value": 8
             },
             "text": {
              "field": "datum.label"
             },
             "y": {
              "value": 0
             }
            }
           },
           "from": {
            "data": "_marker text"
           },
           "name": "_marker flags",
           "transform": [
            {
             "as": [
              "x",
              "_y",
              "opacity",
              "align",
              "baseline"
             ],
             "lineAnchor": "start",
             "offset": [
              1
             ],
             "size": {
              "signal": "[width, height]"
             },
             "type": "label"
            }
           ],
           "type": "text"
          }
         ],
         "name": "_markers",
         "type": "group"
        }
       ],
       "scales": [
        {
         "domain": {
          "fields": [
           {
            "data": "distributions",
            "field": "timepoint"
           },
           {
            "data": "traces",
            "field": "timepoint"
           },
           {
            "data": "points",
            "field": "timepoint"
           },
           {
            "data": "markers",
            "field": "timepoint"
           }
          ]
         },
         "name": "xscale",
         "range": "width",
         "type": "linear",
         "zero": false
        },
        {
         "domain": {
          "fields": [
           {
            "data": "distributions",
            "field": "lower"
           },
           {
            "data": "distributions",
            "field": "upper"
           },
           {
            "data": "traces",
            "field": "value"
           },
           {
            "data": "points",
            "field": "value"
           }
          ]
         },
         "name": "yscale",
         "nice": true,
         "range": "height",
         "type": "linear",
         "zero": true
        },
        {
         "domain": {
          "fields": [
           {
            "data": "distributions",
            "field": "trajectory"
           },
           {
            "data": "traces",
            "field": "trajectory"
           },
           {
            "data": "points",
            "field": "trajectory"
           }
          ],
          "sort": {
           "order": "ascending"
          }
         },
         "name": "color",
         "range": "category",
         "type": "ordinal"
        }
       ],
       "signals": [
        {
         "name": "clear",
         "on": [
          {
           "events": "mouseup[!event.item]",
           "force": true,
           "update": "true"
          }
         ],
         "value": true
        },
        {
         "name": "shift",
         "on": [
          {
           "events": "@legendSymbol:click, @legendLabel:click",
           "force": true,
           "update": "event.shiftKey"
          }
         ],
         "value": false
        },
        {
         "name": "clicked",
         "on": [
          {
           "events": "@legendSymbol:click, @legendLabel:click",
           "force": true,
           "update": "{value: datum.value}"
          }
         ],
         "value": null
        },
        {
         "name": "clearData",
         "on": [
          {
           "events": "mouseup[!event.item]",
           "force": true,
           "update": "true"
          }
         ],
         "value": true
        },
        {
         "name": "clickedData",
         "on": [
          {
           "events": "@area:click",
           "force": true,
           "update": "{value: datum.trajectory}"
          }
         ],
         "value": null
        }
       ],
       "width": 500
      }
     },
     "metadata": {},
     "output_type": "display_data"
    },
    {
     "ename": "FileNotFoundError",
     "evalue": "[Errno 2] No such file or directory: 'output_images/traj_infected_observable.png'",
     "output_type": "error",
     "traceback": [
      "\u001b[0;31m---------------------------------------------------------------------------\u001b[0m",
      "\u001b[0;31mFileNotFoundError\u001b[0m                         Traceback (most recent call last)",
      "Cell \u001b[0;32mIn[5], line 7\u001b[0m\n\u001b[1;32m      5\u001b[0m plots\u001b[38;5;241m.\u001b[39mipy_display(schema, \u001b[38;5;28mformat\u001b[39m\u001b[38;5;241m=\u001b[39m\u001b[38;5;124m\"\u001b[39m\u001b[38;5;124minteractive\u001b[39m\u001b[38;5;124m\"\u001b[39m)\n\u001b[1;32m      6\u001b[0m image \u001b[38;5;241m=\u001b[39m plots\u001b[38;5;241m.\u001b[39mipy_display(schema, \u001b[38;5;28mformat\u001b[39m\u001b[38;5;241m=\u001b[39m\u001b[38;5;124m\"\u001b[39m\u001b[38;5;124mPNG\u001b[39m\u001b[38;5;124m\"\u001b[39m)\u001b[38;5;241m.\u001b[39mdata\n\u001b[0;32m----> 7\u001b[0m \u001b[43msave_result\u001b[49m\u001b[43m(\u001b[49m\u001b[43mimage\u001b[49m\u001b[43m,\u001b[49m\u001b[43m \u001b[49m\u001b[38;5;124;43m\"\u001b[39;49m\u001b[38;5;124;43mtraj_infected_observable\u001b[39;49m\u001b[38;5;124;43m\"\u001b[39;49m\u001b[43m,\u001b[49m\u001b[43m \u001b[49m\u001b[38;5;124;43m\"\u001b[39;49m\u001b[38;5;124;43mpng\u001b[39;49m\u001b[38;5;124;43m\"\u001b[39;49m\u001b[43m)\u001b[49m\n",
      "Cell \u001b[0;32mIn[4], line 10\u001b[0m, in \u001b[0;36msave_result\u001b[0;34m(data, name, ref_ext)\u001b[0m\n\u001b[1;32m      7\u001b[0m \u001b[38;5;66;03m# _output_root.mkdir(parents=True, exist_ok=True)\u001b[39;00m\n\u001b[1;32m      9\u001b[0m mode \u001b[38;5;241m=\u001b[39m \u001b[38;5;124m\"\u001b[39m\u001b[38;5;124mw\u001b[39m\u001b[38;5;124m\"\u001b[39m \u001b[38;5;28;01mif\u001b[39;00m ref_ext \u001b[38;5;241m==\u001b[39m \u001b[38;5;124m\"\u001b[39m\u001b[38;5;124msvg\u001b[39m\u001b[38;5;124m\"\u001b[39m \u001b[38;5;28;01melse\u001b[39;00m \u001b[38;5;124m\"\u001b[39m\u001b[38;5;124mwb\u001b[39m\u001b[38;5;124m\"\u001b[39m\n\u001b[0;32m---> 10\u001b[0m \u001b[38;5;28;01mwith\u001b[39;00m \u001b[38;5;28;43mopen\u001b[39;49m\u001b[43m(\u001b[49m\u001b[43mos\u001b[49m\u001b[38;5;241;43m.\u001b[39;49m\u001b[43mpath\u001b[49m\u001b[38;5;241;43m.\u001b[39;49m\u001b[43mjoin\u001b[49m\u001b[43m(\u001b[49m\u001b[43m_output_root\u001b[49m\u001b[43m,\u001b[49m\u001b[43m \u001b[49m\u001b[38;5;124;43mf\u001b[39;49m\u001b[38;5;124;43m\"\u001b[39;49m\u001b[38;5;132;43;01m{\u001b[39;49;00m\u001b[43mname\u001b[49m\u001b[38;5;132;43;01m}\u001b[39;49;00m\u001b[38;5;124;43m.\u001b[39;49m\u001b[38;5;132;43;01m{\u001b[39;49;00m\u001b[43mref_ext\u001b[49m\u001b[38;5;132;43;01m}\u001b[39;49;00m\u001b[38;5;124;43m\"\u001b[39;49m\u001b[43m)\u001b[49m\u001b[43m,\u001b[49m\u001b[43m \u001b[49m\u001b[43mmode\u001b[49m\u001b[43m)\u001b[49m \u001b[38;5;28;01mas\u001b[39;00m f:\n\u001b[1;32m     11\u001b[0m     f\u001b[38;5;241m.\u001b[39mwrite(data)\n",
      "File \u001b[0;32m~/opt/anaconda3/envs/pyciems310/lib/python3.10/site-packages/IPython/core/interactiveshell.py:324\u001b[0m, in \u001b[0;36m_modified_open\u001b[0;34m(file, *args, **kwargs)\u001b[0m\n\u001b[1;32m    317\u001b[0m \u001b[38;5;28;01mif\u001b[39;00m file \u001b[38;5;129;01min\u001b[39;00m {\u001b[38;5;241m0\u001b[39m, \u001b[38;5;241m1\u001b[39m, \u001b[38;5;241m2\u001b[39m}:\n\u001b[1;32m    318\u001b[0m     \u001b[38;5;28;01mraise\u001b[39;00m \u001b[38;5;167;01mValueError\u001b[39;00m(\n\u001b[1;32m    319\u001b[0m         \u001b[38;5;124mf\u001b[39m\u001b[38;5;124m\"\u001b[39m\u001b[38;5;124mIPython won\u001b[39m\u001b[38;5;124m'\u001b[39m\u001b[38;5;124mt let you open fd=\u001b[39m\u001b[38;5;132;01m{\u001b[39;00mfile\u001b[38;5;132;01m}\u001b[39;00m\u001b[38;5;124m by default \u001b[39m\u001b[38;5;124m\"\u001b[39m\n\u001b[1;32m    320\u001b[0m         \u001b[38;5;124m\"\u001b[39m\u001b[38;5;124mas it is likely to crash IPython. If you know what you are doing, \u001b[39m\u001b[38;5;124m\"\u001b[39m\n\u001b[1;32m    321\u001b[0m         \u001b[38;5;124m\"\u001b[39m\u001b[38;5;124myou can use builtins\u001b[39m\u001b[38;5;124m'\u001b[39m\u001b[38;5;124m open.\u001b[39m\u001b[38;5;124m\"\u001b[39m\n\u001b[1;32m    322\u001b[0m     )\n\u001b[0;32m--> 324\u001b[0m \u001b[38;5;28;01mreturn\u001b[39;00m \u001b[43mio_open\u001b[49m\u001b[43m(\u001b[49m\u001b[43mfile\u001b[49m\u001b[43m,\u001b[49m\u001b[43m \u001b[49m\u001b[38;5;241;43m*\u001b[39;49m\u001b[43margs\u001b[49m\u001b[43m,\u001b[49m\u001b[43m \u001b[49m\u001b[38;5;241;43m*\u001b[39;49m\u001b[38;5;241;43m*\u001b[39;49m\u001b[43mkwargs\u001b[49m\u001b[43m)\u001b[49m\n",
      "\u001b[0;31mFileNotFoundError\u001b[0m: [Errno 2] No such file or directory: 'output_images/traj_infected_observable.png'"
     ]
    }
   ],
   "source": [
    "schema = plots.trajectories(distributions, traces = traces,  keep=\".*_state\")\n",
    "\n",
    "plots.save_schema(schema, \"_schema.json\")\n",
    "\n",
    "plots.ipy_display(schema, format=\"interactive\")\n",
    "image = plots.ipy_display(schema, format=\"PNG\").data\n",
    "save_result(image, \"traj_infected_observable\", \"png\")\n"
   ]
  },
  {
   "cell_type": "code",
   "execution_count": null,
   "metadata": {},
   "outputs": [],
   "source": [
    "\n"
   ]
  },
  {
   "cell_type": "code",
   "execution_count": null,
   "metadata": {},
   "outputs": [],
   "source": []
  },
  {
   "cell_type": "code",
   "execution_count": null,
   "metadata": {},
   "outputs": [],
   "source": [
    "\n"
   ]
  },
  {
   "cell_type": "code",
   "execution_count": 1,
   "metadata": {},
   "outputs": [
    {
     "ename": "NameError",
     "evalue": "name 'pd' is not defined",
     "output_type": "error",
     "traceback": [
      "\u001b[0;31m---------------------------------------------------------------------------\u001b[0m",
      "\u001b[0;31mNameError\u001b[0m                                 Traceback (most recent call last)",
      "Cell \u001b[0;32mIn[1], line 2\u001b[0m\n\u001b[1;32m      1\u001b[0m \u001b[38;5;66;03m#'timepoint_id', 'sample_id'\u001b[39;00m\n\u001b[0;32m----> 2\u001b[0m sin_distribution \u001b[38;5;241m=\u001b[39m \u001b[43mpd\u001b[49m\u001b[38;5;241m.\u001b[39mread_csv(\u001b[38;5;124m\"\u001b[39m\u001b[38;5;124mpaper_sin_05/paper_sin_05_new_df.csv\u001b[39m\u001b[38;5;124m\"\u001b[39m)\n\u001b[1;32m      3\u001b[0m sin_distribution \u001b[38;5;241m=\u001b[39m sin_distribution\u001b[38;5;241m.\u001b[39mrename(\n\u001b[1;32m      4\u001b[0m             columns\u001b[38;5;241m=\u001b[39m{\n\u001b[1;32m      5\u001b[0m                 \u001b[38;5;124m'\u001b[39m\u001b[38;5;124mUnnamed: 0.1\u001b[39m\u001b[38;5;124m'\u001b[39m: \u001b[38;5;124m\"\u001b[39m\u001b[38;5;124mtimepoint_id\u001b[39m\u001b[38;5;124m\"\u001b[39m,\n\u001b[1;32m      6\u001b[0m                 \u001b[38;5;124m'\u001b[39m\u001b[38;5;124mUnnamed: 0\u001b[39m\u001b[38;5;124m'\u001b[39m: \u001b[38;5;124m\"\u001b[39m\u001b[38;5;124m100\u001b[39m\u001b[38;5;124m\"\u001b[39m,\n\u001b[1;32m      7\u001b[0m             }\n\u001b[1;32m      8\u001b[0m         )\n\u001b[1;32m      9\u001b[0m sin_distribution \u001b[38;5;241m=\u001b[39m sin_distribution\u001b[38;5;241m.\u001b[39mmelt(id_vars\u001b[38;5;241m=\u001b[39m[\u001b[38;5;124m\"\u001b[39m\u001b[38;5;124mtimepoint_id\u001b[39m\u001b[38;5;124m\"\u001b[39m], \n\u001b[1;32m     10\u001b[0m         var_name\u001b[38;5;241m=\u001b[39m\u001b[38;5;124m\"\u001b[39m\u001b[38;5;124msample_id\u001b[39m\u001b[38;5;124m\"\u001b[39m, \n\u001b[1;32m     11\u001b[0m         value_name\u001b[38;5;241m=\u001b[39m\u001b[38;5;124m\"\u001b[39m\u001b[38;5;124msame_stat_state\u001b[39m\u001b[38;5;124m\"\u001b[39m)\n",
      "\u001b[0;31mNameError\u001b[0m: name 'pd' is not defined"
     ]
    }
   ],
   "source": [
    "#'timepoint_id', 'sample_id'\n",
    "sin_distribution = pd.read_csv(\"paper_sin_05/paper_sin_05_new_df.csv\")\n",
    "sin_distribution = sin_distribution.rename(\n",
    "            columns={\n",
    "                'Unnamed: 0.1': \"timepoint_id\",\n",
    "                'Unnamed: 0': \"100\",\n",
    "            }\n",
    "        )\n",
    "sin_distribution = sin_distribution.melt(id_vars=[\"timepoint_id\"], \n",
    "        var_name=\"sample_id\", \n",
    "        value_name=\"same_stat_state\")\n",
    "\n",
    "\n",
    "traces = pyciemss.visuals.trajectories.select_traces(sin_distribution, select_by = \"mean\")\n",
    "traces_var = pyciemss.visuals.trajectories.select_traces(sin_distribution, select_by = \"var\")[\"same_stat_state\"]\n",
    "traces_granger = pyciemss.visuals.trajectories.select_traces(sin_distribution, select_by = \"granger\")[\"same_stat_state\"]\n",
    "\n",
    "schema = plots.trajectories(sin_distribution, traces = traces)\n",
    "print(traces_var)\n",
    "plots.save_schema(schema, \"_schema.json\")\n",
    "\n",
    "plots.ipy_display(schema, format=\"interactive\")\n",
    "image = plots.ipy_display(schema, format=\"PNG\").data\n",
    "save_result(image, \"paper_sin_05\", \"png\")"
   ]
  },
  {
   "cell_type": "code",
   "execution_count": 120,
   "metadata": {},
   "outputs": [
    {
     "name": "stdout",
     "output_type": "stream",
     "text": [
      "\n",
      "Granger Causality\n",
      "number of lags (no zero) 10\n",
      "ssr based F test:         F=3.5378  , p=0.0008  , df_denom=69, df_num=10\n",
      "ssr based chi2 test:   chi2=46.1456 , p=0.0000  , df=10\n",
      "likelihood ratio test: chi2=37.2524 , p=0.0001  , df=10\n",
      "parameter F test:         F=3.5378  , p=0.0008  , df_denom=69, df_num=10\n",
      "\n",
      "Granger Causality\n",
      "number of lags (no zero) 10\n",
      "ssr based F test:         F=4.3569  , p=0.0001  , df_denom=69, df_num=10\n",
      "ssr based chi2 test:   chi2=56.8291 , p=0.0000  , df=10\n",
      "likelihood ratio test: chi2=44.0513 , p=0.0000  , df=10\n",
      "parameter F test:         F=4.3569  , p=0.0001  , df_denom=69, df_num=10\n",
      "\n",
      "Granger Causality\n",
      "number of lags (no zero) 10\n",
      "ssr based F test:         F=3.1382  , p=0.0023  , df_denom=69, df_num=10\n",
      "ssr based chi2 test:   chi2=40.9324 , p=0.0000  , df=10\n",
      "likelihood ratio test: chi2=33.7385 , p=0.0002  , df=10\n",
      "parameter F test:         F=3.1382  , p=0.0023  , df_denom=69, df_num=10\n",
      "\n",
      "Granger Causality\n",
      "number of lags (no zero) 10\n",
      "ssr based F test:         F=2.3890  , p=0.0169  , df_denom=69, df_num=10\n",
      "ssr based chi2 test:   chi2=31.1603 , p=0.0006  , df=10\n",
      "likelihood ratio test: chi2=26.7575 , p=0.0028  , df=10\n",
      "parameter F test:         F=2.3890  , p=0.0169  , df_denom=69, df_num=10\n",
      "\n",
      "Granger Causality\n",
      "number of lags (no zero) 10\n",
      "ssr based F test:         F=1.4022  , p=0.1979  , df_denom=69, df_num=10\n",
      "ssr based chi2 test:   chi2=18.2891 , p=0.0503  , df=10\n",
      "likelihood ratio test: chi2=16.6495 , p=0.0825  , df=10\n",
      "parameter F test:         F=1.4022  , p=0.1979  , df_denom=69, df_num=10\n",
      "\n",
      "Granger Causality\n",
      "number of lags (no zero) 10\n",
      "ssr based F test:         F=2.1683  , p=0.0301  , df_denom=69, df_num=10\n",
      "ssr based chi2 test:   chi2=28.2818 , p=0.0016  , df=10\n",
      "likelihood ratio test: chi2=24.5934 , p=0.0062  , df=10\n",
      "parameter F test:         F=2.1683  , p=0.0301  , df_denom=69, df_num=10\n",
      "\n",
      "Granger Causality\n",
      "number of lags (no zero) 10\n",
      "ssr based F test:         F=3.1216  , p=0.0024  , df_denom=69, df_num=10\n",
      "ssr based chi2 test:   chi2=40.7170 , p=0.0000  , df=10\n",
      "likelihood ratio test: chi2=33.5902 , p=0.0002  , df=10\n",
      "parameter F test:         F=3.1216  , p=0.0024  , df_denom=69, df_num=10\n",
      "\n",
      "Granger Causality\n",
      "number of lags (no zero) 10\n",
      "ssr based F test:         F=2.4106  , p=0.0160  , df_denom=69, df_num=10\n",
      "ssr based chi2 test:   chi2=31.4420 , p=0.0005  , df=10\n",
      "likelihood ratio test: chi2=26.9664 , p=0.0026  , df=10\n",
      "parameter F test:         F=2.4106  , p=0.0160  , df_denom=69, df_num=10\n",
      "\n",
      "Granger Causality\n",
      "number of lags (no zero) 10\n",
      "ssr based F test:         F=2.7123  , p=0.0072  , df_denom=69, df_num=10\n",
      "ssr based chi2 test:   chi2=35.3777 , p=0.0001  , df=10\n",
      "likelihood ratio test: chi2=29.8369 , p=0.0009  , df=10\n",
      "parameter F test:         F=2.7123  , p=0.0072  , df_denom=69, df_num=10\n",
      "\n",
      "Granger Causality\n",
      "number of lags (no zero) 10\n",
      "ssr based F test:         F=3.1381  , p=0.0023  , df_denom=69, df_num=10\n",
      "ssr based chi2 test:   chi2=40.9323 , p=0.0000  , df=10\n",
      "likelihood ratio test: chi2=33.7384 , p=0.0002  , df=10\n",
      "parameter F test:         F=3.1381  , p=0.0023  , df_denom=69, df_num=10\n",
      "\n",
      "Granger Causality\n",
      "number of lags (no zero) 10\n",
      "ssr based F test:         F=4.5040  , p=0.0001  , df_denom=69, df_num=10\n",
      "ssr based chi2 test:   chi2=58.7483 , p=0.0000  , df=10\n",
      "likelihood ratio test: chi2=45.2201 , p=0.0000  , df=10\n",
      "parameter F test:         F=4.5040  , p=0.0001  , df_denom=69, df_num=10\n",
      "\n",
      "Granger Causality\n",
      "number of lags (no zero) 10\n",
      "ssr based F test:         F=1.8445  , p=0.0688  , df_denom=69, df_num=10\n",
      "ssr based chi2 test:   chi2=24.0589 , p=0.0074  , df=10\n",
      "likelihood ratio test: chi2=21.3215 , p=0.0190  , df=10\n",
      "parameter F test:         F=1.8445  , p=0.0688  , df_denom=69, df_num=10\n",
      "\n",
      "Granger Causality\n",
      "number of lags (no zero) 10\n",
      "ssr based F test:         F=3.8212  , p=0.0004  , df_denom=69, df_num=10\n",
      "ssr based chi2 test:   chi2=49.8423 , p=0.0000  , df=10\n",
      "likelihood ratio test: chi2=39.6635 , p=0.0000  , df=10\n",
      "parameter F test:         F=3.8212  , p=0.0004  , df_denom=69, df_num=10\n",
      "\n",
      "Granger Causality\n",
      "number of lags (no zero) 10\n",
      "ssr based F test:         F=2.3056  , p=0.0211  , df_denom=69, df_num=10\n",
      "ssr based chi2 test:   chi2=30.0737 , p=0.0008  , df=10\n",
      "likelihood ratio test: chi2=25.9466 , p=0.0038  , df=10\n",
      "parameter F test:         F=2.3056  , p=0.0211  , df_denom=69, df_num=10\n",
      "\n",
      "Granger Causality\n",
      "number of lags (no zero) 10\n",
      "ssr based F test:         F=3.9460  , p=0.0003  , df_denom=69, df_num=10\n",
      "ssr based chi2 test:   chi2=51.4693 , p=0.0000  , df=10\n",
      "likelihood ratio test: chi2=40.7045 , p=0.0000  , df=10\n",
      "parameter F test:         F=3.9460  , p=0.0003  , df_denom=69, df_num=10\n",
      "\n",
      "Granger Causality\n",
      "number of lags (no zero) 10\n",
      "ssr based F test:         F=3.3546  , p=0.0013  , df_denom=69, df_num=10\n",
      "ssr based chi2 test:   chi2=43.7561 , p=0.0000  , df=10\n",
      "likelihood ratio test: chi2=35.6588 , p=0.0001  , df=10\n",
      "parameter F test:         F=3.3546  , p=0.0013  , df_denom=69, df_num=10\n",
      "\n",
      "Granger Causality\n",
      "number of lags (no zero) 10\n",
      "ssr based F test:         F=1.9252  , p=0.0561  , df_denom=69, df_num=10\n",
      "ssr based chi2 test:   chi2=25.1117 , p=0.0051  , df=10\n",
      "likelihood ratio test: chi2=22.1484 , p=0.0144  , df=10\n",
      "parameter F test:         F=1.9252  , p=0.0561  , df_denom=69, df_num=10\n",
      "\n",
      "Granger Causality\n",
      "number of lags (no zero) 10\n",
      "ssr based F test:         F=2.8465  , p=0.0051  , df_denom=69, df_num=10\n",
      "ssr based chi2 test:   chi2=37.1287 , p=0.0001  , df=10\n",
      "likelihood ratio test: chi2=31.0851 , p=0.0006  , df=10\n",
      "parameter F test:         F=2.8465  , p=0.0051  , df_denom=69, df_num=10\n",
      "\n",
      "Granger Causality\n",
      "number of lags (no zero) 10\n",
      "ssr based F test:         F=1.3431  , p=0.2258  , df_denom=69, df_num=10\n",
      "ssr based chi2 test:   chi2=17.5184 , p=0.0637  , df=10\n",
      "likelihood ratio test: chi2=16.0067 , p=0.0994  , df=10\n",
      "parameter F test:         F=1.3431  , p=0.2258  , df_denom=69, df_num=10\n",
      "\n",
      "Granger Causality\n",
      "number of lags (no zero) 10\n",
      "ssr based F test:         F=1.7854  , p=0.0797  , df_denom=69, df_num=10\n",
      "ssr based chi2 test:   chi2=23.2872 , p=0.0097  , df=10\n",
      "likelihood ratio test: chi2=20.7105 , p=0.0232  , df=10\n",
      "parameter F test:         F=1.7854  , p=0.0797  , df_denom=69, df_num=10\n",
      "\n",
      "Granger Causality\n",
      "number of lags (no zero) 10\n",
      "ssr based F test:         F=2.6884  , p=0.0077  , df_denom=69, df_num=10\n",
      "ssr based chi2 test:   chi2=35.0660 , p=0.0001  , df=10\n",
      "likelihood ratio test: chi2=29.6129 , p=0.0010  , df=10\n",
      "parameter F test:         F=2.6884  , p=0.0077  , df_denom=69, df_num=10\n",
      "\n",
      "Granger Causality\n",
      "number of lags (no zero) 10\n",
      "ssr based F test:         F=5.4997  , p=0.0000  , df_denom=69, df_num=10\n",
      "ssr based chi2 test:   chi2=71.7356 , p=0.0000  , df=10\n",
      "likelihood ratio test: chi2=52.7538 , p=0.0000  , df=10\n",
      "parameter F test:         F=5.4997  , p=0.0000  , df_denom=69, df_num=10\n",
      "\n",
      "Granger Causality\n",
      "number of lags (no zero) 10\n",
      "ssr based F test:         F=1.3909  , p=0.2030  , df_denom=69, df_num=10\n",
      "ssr based chi2 test:   chi2=18.1425 , p=0.0526  , df=10\n",
      "likelihood ratio test: chi2=16.5276 , p=0.0855  , df=10\n",
      "parameter F test:         F=1.3909  , p=0.2030  , df_denom=69, df_num=10\n",
      "\n",
      "Granger Causality\n",
      "number of lags (no zero) 10\n",
      "ssr based F test:         F=1.3210  , p=0.2370  , df_denom=69, df_num=10\n",
      "ssr based chi2 test:   chi2=17.2306 , p=0.0694  , df=10\n",
      "likelihood ratio test: chi2=15.7654 , p=0.1065  , df=10\n",
      "parameter F test:         F=1.3210  , p=0.2370  , df_denom=69, df_num=10\n",
      "\n",
      "Granger Causality\n",
      "number of lags (no zero) 10\n",
      "ssr based F test:         F=3.2513  , p=0.0017  , df_denom=69, df_num=10\n",
      "ssr based chi2 test:   chi2=42.4078 , p=0.0000  , df=10\n",
      "likelihood ratio test: chi2=34.7469 , p=0.0001  , df=10\n",
      "parameter F test:         F=3.2513  , p=0.0017  , df_denom=69, df_num=10\n",
      "\n",
      "Granger Causality\n",
      "number of lags (no zero) 10\n",
      "ssr based F test:         F=2.3480  , p=0.0189  , df_denom=69, df_num=10\n",
      "ssr based chi2 test:   chi2=30.6257 , p=0.0007  , df=10\n",
      "likelihood ratio test: chi2=26.3594 , p=0.0033  , df=10\n",
      "parameter F test:         F=2.3480  , p=0.0189  , df_denom=69, df_num=10\n",
      "\n",
      "Granger Causality\n",
      "number of lags (no zero) 10\n",
      "ssr based F test:         F=2.6990  , p=0.0075  , df_denom=69, df_num=10\n",
      "ssr based chi2 test:   chi2=35.2041 , p=0.0001  , df=10\n",
      "likelihood ratio test: chi2=29.7122 , p=0.0010  , df=10\n",
      "parameter F test:         F=2.6990  , p=0.0075  , df_denom=69, df_num=10\n",
      "\n",
      "Granger Causality\n",
      "number of lags (no zero) 10\n",
      "ssr based F test:         F=2.1013  , p=0.0358  , df_denom=69, df_num=10\n",
      "ssr based chi2 test:   chi2=27.4081 , p=0.0022  , df=10\n",
      "likelihood ratio test: chi2=23.9261 , p=0.0078  , df=10\n",
      "parameter F test:         F=2.1013  , p=0.0358  , df_denom=69, df_num=10\n",
      "\n",
      "Granger Causality\n",
      "number of lags (no zero) 10\n",
      "ssr based F test:         F=3.3756  , p=0.0012  , df_denom=69, df_num=10\n",
      "ssr based chi2 test:   chi2=44.0291 , p=0.0000  , df=10\n",
      "likelihood ratio test: chi2=35.8422 , p=0.0001  , df=10\n",
      "parameter F test:         F=3.3756  , p=0.0012  , df_denom=69, df_num=10\n",
      "\n",
      "Granger Causality\n",
      "number of lags (no zero) 10\n",
      "ssr based F test:         F=4.1978  , p=0.0001  , df_denom=69, df_num=10\n",
      "ssr based chi2 test:   chi2=54.7537 , p=0.0000  , df=10\n",
      "likelihood ratio test: chi2=42.7702 , p=0.0000  , df=10\n",
      "parameter F test:         F=4.1978  , p=0.0001  , df_denom=69, df_num=10\n",
      "\n",
      "Granger Causality\n",
      "number of lags (no zero) 10\n",
      "ssr based F test:         F=3.6290  , p=0.0006  , df_denom=69, df_num=10\n",
      "ssr based chi2 test:   chi2=47.3347 , p=0.0000  , df=10\n",
      "likelihood ratio test: chi2=38.0350 , p=0.0000  , df=10\n",
      "parameter F test:         F=3.6290  , p=0.0006  , df_denom=69, df_num=10\n",
      "\n",
      "Granger Causality\n",
      "number of lags (no zero) 10\n",
      "ssr based F test:         F=2.8593  , p=0.0049  , df_denom=69, df_num=10\n",
      "ssr based chi2 test:   chi2=37.2954 , p=0.0001  , df=10\n",
      "likelihood ratio test: chi2=31.2031 , p=0.0005  , df=10\n",
      "parameter F test:         F=2.8593  , p=0.0049  , df_denom=69, df_num=10\n",
      "\n",
      "Granger Causality\n",
      "number of lags (no zero) 10\n",
      "ssr based F test:         F=2.8519  , p=0.0050  , df_denom=69, df_num=10\n",
      "ssr based chi2 test:   chi2=37.1987 , p=0.0001  , df=10\n",
      "likelihood ratio test: chi2=31.1347 , p=0.0006  , df=10\n",
      "parameter F test:         F=2.8519  , p=0.0050  , df_denom=69, df_num=10\n",
      "\n",
      "Granger Causality\n",
      "number of lags (no zero) 10\n",
      "ssr based F test:         F=2.7751  , p=0.0061  , df_denom=69, df_num=10\n",
      "ssr based chi2 test:   chi2=36.1974 , p=0.0001  , df=10\n",
      "likelihood ratio test: chi2=30.4234 , p=0.0007  , df=10\n",
      "parameter F test:         F=2.7751  , p=0.0061  , df_denom=69, df_num=10\n",
      "\n",
      "Granger Causality\n",
      "number of lags (no zero) 10\n",
      "ssr based F test:         F=3.5744  , p=0.0007  , df_denom=69, df_num=10\n",
      "ssr based chi2 test:   chi2=46.6224 , p=0.0000  , df=10\n",
      "likelihood ratio test: chi2=37.5670 , p=0.0000  , df=10\n",
      "parameter F test:         F=3.5744  , p=0.0007  , df_denom=69, df_num=10\n",
      "\n",
      "Granger Causality\n",
      "number of lags (no zero) 10\n",
      "ssr based F test:         F=2.8619  , p=0.0049  , df_denom=69, df_num=10\n",
      "ssr based chi2 test:   chi2=37.3293 , p=0.0000  , df=10\n",
      "likelihood ratio test: chi2=31.2271 , p=0.0005  , df=10\n",
      "parameter F test:         F=2.8619  , p=0.0049  , df_denom=69, df_num=10\n",
      "\n",
      "Granger Causality\n",
      "number of lags (no zero) 10\n",
      "ssr based F test:         F=3.6562  , p=0.0006  , df_denom=69, df_num=10\n",
      "ssr based chi2 test:   chi2=47.6899 , p=0.0000  , df=10\n",
      "likelihood ratio test: chi2=38.2675 , p=0.0000  , df=10\n",
      "parameter F test:         F=3.6562  , p=0.0006  , df_denom=69, df_num=10\n",
      "\n",
      "Granger Causality\n",
      "number of lags (no zero) 10\n",
      "ssr based F test:         F=3.4306  , p=0.0011  , df_denom=69, df_num=10\n",
      "ssr based chi2 test:   chi2=44.7474 , p=0.0000  , df=10\n",
      "likelihood ratio test: chi2=36.3233 , p=0.0001  , df=10\n",
      "parameter F test:         F=3.4306  , p=0.0011  , df_denom=69, df_num=10\n",
      "\n",
      "Granger Causality\n",
      "number of lags (no zero) 10\n",
      "ssr based F test:         F=3.5957  , p=0.0007  , df_denom=69, df_num=10\n",
      "ssr based chi2 test:   chi2=46.8999 , p=0.0000  , df=10\n",
      "likelihood ratio test: chi2=37.7497 , p=0.0000  , df=10\n",
      "parameter F test:         F=3.5957  , p=0.0007  , df_denom=69, df_num=10\n",
      "\n",
      "Granger Causality\n",
      "number of lags (no zero) 10\n",
      "ssr based F test:         F=5.2721  , p=0.0000  , df_denom=69, df_num=10\n",
      "ssr based chi2 test:   chi2=68.7660 , p=0.0000  , df=10\n",
      "likelihood ratio test: chi2=51.0860 , p=0.0000  , df=10\n",
      "parameter F test:         F=5.2721  , p=0.0000  , df_denom=69, df_num=10\n",
      "\n",
      "Granger Causality\n",
      "number of lags (no zero) 10\n",
      "ssr based F test:         F=1.5466  , p=0.1419  , df_denom=69, df_num=10\n",
      "ssr based chi2 test:   chi2=20.1735 , p=0.0277  , df=10\n",
      "likelihood ratio test: chi2=18.2022 , p=0.0516  , df=10\n",
      "parameter F test:         F=1.5466  , p=0.1419  , df_denom=69, df_num=10\n",
      "\n",
      "Granger Causality\n",
      "number of lags (no zero) 10\n",
      "ssr based F test:         F=4.7632  , p=0.0000  , df_denom=69, df_num=10\n",
      "ssr based chi2 test:   chi2=62.1281 , p=0.0000  , df=10\n",
      "likelihood ratio test: chi2=47.2422 , p=0.0000  , df=10\n",
      "parameter F test:         F=4.7632  , p=0.0000  , df_denom=69, df_num=10\n",
      "\n",
      "Granger Causality\n",
      "number of lags (no zero) 10\n",
      "ssr based F test:         F=2.8467  , p=0.0051  , df_denom=69, df_num=10\n",
      "ssr based chi2 test:   chi2=37.1310 , p=0.0001  , df=10\n",
      "likelihood ratio test: chi2=31.0867 , p=0.0006  , df=10\n",
      "parameter F test:         F=2.8467  , p=0.0051  , df_denom=69, df_num=10\n",
      "\n",
      "Granger Causality\n",
      "number of lags (no zero) 10\n",
      "ssr based F test:         F=2.2221  , p=0.0262  , df_denom=69, df_num=10\n",
      "ssr based chi2 test:   chi2=28.9835 , p=0.0013  , df=10\n",
      "likelihood ratio test: chi2=25.1258 , p=0.0051  , df=10\n",
      "parameter F test:         F=2.2221  , p=0.0262  , df_denom=69, df_num=10\n",
      "\n",
      "Granger Causality\n",
      "number of lags (no zero) 10\n",
      "ssr based F test:         F=3.6649  , p=0.0006  , df_denom=69, df_num=10\n",
      "ssr based chi2 test:   chi2=47.8028 , p=0.0000  , df=10\n",
      "likelihood ratio test: chi2=38.3413 , p=0.0000  , df=10\n",
      "parameter F test:         F=3.6649  , p=0.0006  , df_denom=69, df_num=10\n",
      "\n",
      "Granger Causality\n",
      "number of lags (no zero) 10\n",
      "ssr based F test:         F=3.0759  , p=0.0028  , df_denom=69, df_num=10\n",
      "ssr based chi2 test:   chi2=40.1204 , p=0.0000  , df=10\n",
      "likelihood ratio test: chi2=33.1785 , p=0.0003  , df=10\n",
      "parameter F test:         F=3.0759  , p=0.0028  , df_denom=69, df_num=10\n",
      "\n",
      "Granger Causality\n",
      "number of lags (no zero) 10\n",
      "ssr based F test:         F=3.3153  , p=0.0015  , df_denom=69, df_num=10\n",
      "ssr based chi2 test:   chi2=43.2433 , p=0.0000  , df=10\n",
      "likelihood ratio test: chi2=35.3130 , p=0.0001  , df=10\n",
      "parameter F test:         F=3.3153  , p=0.0015  , df_denom=69, df_num=10\n",
      "\n",
      "Granger Causality\n",
      "number of lags (no zero) 10\n",
      "ssr based F test:         F=1.8130  , p=0.0744  , df_denom=69, df_num=10\n",
      "ssr based chi2 test:   chi2=23.6480 , p=0.0086  , df=10\n",
      "likelihood ratio test: chi2=20.9966 , p=0.0211  , df=10\n",
      "parameter F test:         F=1.8130  , p=0.0744  , df_denom=69, df_num=10\n",
      "\n",
      "Granger Causality\n",
      "number of lags (no zero) 10\n",
      "ssr based F test:         F=1.5249  , p=0.1493  , df_denom=69, df_num=10\n",
      "ssr based chi2 test:   chi2=19.8904 , p=0.0303  , df=10\n",
      "likelihood ratio test: chi2=17.9707 , p=0.0555  , df=10\n",
      "parameter F test:         F=1.5249  , p=0.1493  , df_denom=69, df_num=10\n",
      "\n",
      "Granger Causality\n",
      "number of lags (no zero) 10\n",
      "ssr based F test:         F=1.8642  , p=0.0654  , df_denom=69, df_num=10\n",
      "ssr based chi2 test:   chi2=24.3159 , p=0.0068  , df=10\n",
      "likelihood ratio test: chi2=21.5240 , p=0.0177  , df=10\n",
      "parameter F test:         F=1.8642  , p=0.0654  , df_denom=69, df_num=10\n",
      "\n",
      "Granger Causality\n",
      "number of lags (no zero) 10\n",
      "ssr based F test:         F=4.3282  , p=0.0001  , df_denom=69, df_num=10\n",
      "ssr based chi2 test:   chi2=56.4542 , p=0.0000  , df=10\n",
      "likelihood ratio test: chi2=43.8213 , p=0.0000  , df=10\n",
      "parameter F test:         F=4.3282  , p=0.0001  , df_denom=69, df_num=10\n",
      "\n",
      "Granger Causality\n",
      "number of lags (no zero) 10\n",
      "ssr based F test:         F=2.7253  , p=0.0070  , df_denom=69, df_num=10\n",
      "ssr based chi2 test:   chi2=35.5468 , p=0.0001  , df=10\n",
      "likelihood ratio test: chi2=29.9582 , p=0.0009  , df=10\n",
      "parameter F test:         F=2.7253  , p=0.0070  , df_denom=69, df_num=10\n",
      "\n",
      "Granger Causality\n",
      "number of lags (no zero) 10\n",
      "ssr based F test:         F=4.1538  , p=0.0002  , df_denom=69, df_num=10\n",
      "ssr based chi2 test:   chi2=54.1803 , p=0.0000  , df=10\n",
      "likelihood ratio test: chi2=42.4129 , p=0.0000  , df=10\n",
      "parameter F test:         F=4.1538  , p=0.0002  , df_denom=69, df_num=10\n",
      "\n",
      "Granger Causality\n",
      "number of lags (no zero) 10\n",
      "ssr based F test:         F=1.9118  , p=0.0581  , df_denom=69, df_num=10\n",
      "ssr based chi2 test:   chi2=24.9369 , p=0.0055  , df=10\n",
      "likelihood ratio test: chi2=22.0116 , p=0.0150  , df=10\n",
      "parameter F test:         F=1.9118  , p=0.0581  , df_denom=69, df_num=10\n",
      "\n",
      "Granger Causality\n",
      "number of lags (no zero) 10\n",
      "ssr based F test:         F=3.7911  , p=0.0004  , df_denom=69, df_num=10\n",
      "ssr based chi2 test:   chi2=49.4487 , p=0.0000  , df=10\n",
      "likelihood ratio test: chi2=39.4098 , p=0.0000  , df=10\n",
      "parameter F test:         F=3.7911  , p=0.0004  , df_denom=69, df_num=10\n",
      "\n",
      "Granger Causality\n",
      "number of lags (no zero) 10\n",
      "ssr based F test:         F=1.9472  , p=0.0531  , df_denom=69, df_num=10\n",
      "ssr based chi2 test:   chi2=25.3982 , p=0.0046  , df=10\n",
      "likelihood ratio test: chi2=22.3721 , p=0.0133  , df=10\n",
      "parameter F test:         F=1.9472  , p=0.0531  , df_denom=69, df_num=10\n",
      "\n",
      "Granger Causality\n",
      "number of lags (no zero) 10\n",
      "ssr based F test:         F=4.7787  , p=0.0000  , df_denom=69, df_num=10\n",
      "ssr based chi2 test:   chi2=62.3304 , p=0.0000  , df=10\n",
      "likelihood ratio test: chi2=47.3618 , p=0.0000  , df=10\n",
      "parameter F test:         F=4.7787  , p=0.0000  , df_denom=69, df_num=10\n",
      "\n",
      "Granger Causality\n",
      "number of lags (no zero) 10\n",
      "ssr based F test:         F=4.0434  , p=0.0002  , df_denom=69, df_num=10\n",
      "ssr based chi2 test:   chi2=52.7402 , p=0.0000  , df=10\n",
      "likelihood ratio test: chi2=41.5095 , p=0.0000  , df=10\n",
      "parameter F test:         F=4.0434  , p=0.0002  , df_denom=69, df_num=10\n",
      "\n",
      "Granger Causality\n",
      "number of lags (no zero) 10\n",
      "ssr based F test:         F=2.6443  , p=0.0086  , df_denom=69, df_num=10\n",
      "ssr based chi2 test:   chi2=34.4915 , p=0.0002  , df=10\n",
      "likelihood ratio test: chi2=29.1985 , p=0.0012  , df=10\n",
      "parameter F test:         F=2.6443  , p=0.0086  , df_denom=69, df_num=10\n",
      "\n",
      "Granger Causality\n",
      "number of lags (no zero) 10\n",
      "ssr based F test:         F=2.7131  , p=0.0072  , df_denom=69, df_num=10\n",
      "ssr based chi2 test:   chi2=35.3882 , p=0.0001  , df=10\n",
      "likelihood ratio test: chi2=29.8445 , p=0.0009  , df=10\n",
      "parameter F test:         F=2.7131  , p=0.0072  , df_denom=69, df_num=10\n",
      "\n",
      "Granger Causality\n",
      "number of lags (no zero) 10\n",
      "ssr based F test:         F=1.5226  , p=0.1501  , df_denom=69, df_num=10\n",
      "ssr based chi2 test:   chi2=19.8603 , p=0.0306  , df=10\n",
      "likelihood ratio test: chi2=17.9460 , p=0.0559  , df=10\n",
      "parameter F test:         F=1.5226  , p=0.1501  , df_denom=69, df_num=10\n",
      "\n",
      "Granger Causality\n",
      "number of lags (no zero) 10\n",
      "ssr based F test:         F=2.2619  , p=0.0236  , df_denom=69, df_num=10\n",
      "ssr based chi2 test:   chi2=29.5026 , p=0.0010  , df=10\n",
      "likelihood ratio test: chi2=25.5175 , p=0.0044  , df=10\n",
      "parameter F test:         F=2.2619  , p=0.0236  , df_denom=69, df_num=10\n",
      "\n",
      "Granger Causality\n",
      "number of lags (no zero) 10\n",
      "ssr based F test:         F=0.3713  , p=0.9550  , df_denom=69, df_num=10\n",
      "ssr based chi2 test:   chi2=4.8437  , p=0.9014  , df=10\n",
      "likelihood ratio test: chi2=4.7178  , p=0.9092  , df=10\n",
      "parameter F test:         F=0.3713  , p=0.9550  , df_denom=69, df_num=10\n",
      "\n",
      "Granger Causality\n",
      "number of lags (no zero) 10\n",
      "ssr based F test:         F=2.1868  , p=0.0287  , df_denom=69, df_num=10\n",
      "ssr based chi2 test:   chi2=28.5234 , p=0.0015  , df=10\n",
      "likelihood ratio test: chi2=24.7771 , p=0.0058  , df=10\n",
      "parameter F test:         F=2.1868  , p=0.0287  , df_denom=69, df_num=10\n",
      "\n",
      "Granger Causality\n",
      "number of lags (no zero) 10\n",
      "ssr based F test:         F=2.5681  , p=0.0106  , df_denom=69, df_num=10\n",
      "ssr based chi2 test:   chi2=33.4964 , p=0.0002  , df=10\n",
      "likelihood ratio test: chi2=28.4762 , p=0.0015  , df=10\n",
      "parameter F test:         F=2.5681  , p=0.0106  , df_denom=69, df_num=10\n",
      "\n",
      "Granger Causality\n",
      "number of lags (no zero) 10\n",
      "ssr based F test:         F=2.2597  , p=0.0238  , df_denom=69, df_num=10\n",
      "ssr based chi2 test:   chi2=29.4738 , p=0.0010  , df=10\n",
      "likelihood ratio test: chi2=25.4959 , p=0.0045  , df=10\n",
      "parameter F test:         F=2.2597  , p=0.0238  , df_denom=69, df_num=10\n",
      "\n",
      "Granger Causality\n",
      "number of lags (no zero) 10\n",
      "ssr based F test:         F=2.3687  , p=0.0179  , df_denom=69, df_num=10\n",
      "ssr based chi2 test:   chi2=30.8967 , p=0.0006  , df=10\n",
      "likelihood ratio test: chi2=26.5614 , p=0.0031  , df=10\n",
      "parameter F test:         F=2.3687  , p=0.0179  , df_denom=69, df_num=10\n",
      "\n",
      "Granger Causality\n",
      "number of lags (no zero) 10\n",
      "ssr based F test:         F=3.5143  , p=0.0009  , df_denom=69, df_num=10\n",
      "ssr based chi2 test:   chi2=45.8389 , p=0.0000  , df=10\n",
      "likelihood ratio test: chi2=37.0494 , p=0.0001  , df=10\n",
      "parameter F test:         F=3.5143  , p=0.0009  , df_denom=69, df_num=10\n",
      "\n",
      "Granger Causality\n",
      "number of lags (no zero) 10\n",
      "ssr based F test:         F=2.1129  , p=0.0348  , df_denom=69, df_num=10\n",
      "ssr based chi2 test:   chi2=27.5599 , p=0.0021  , df=10\n",
      "likelihood ratio test: chi2=24.0424 , p=0.0075  , df=10\n",
      "parameter F test:         F=2.1129  , p=0.0348  , df_denom=69, df_num=10\n",
      "\n",
      "Granger Causality\n",
      "number of lags (no zero) 10\n",
      "ssr based F test:         F=4.2885  , p=0.0001  , df_denom=69, df_num=10\n",
      "ssr based chi2 test:   chi2=55.9369 , p=0.0000  , df=10\n",
      "likelihood ratio test: chi2=43.5028 , p=0.0000  , df=10\n",
      "parameter F test:         F=4.2885  , p=0.0001  , df_denom=69, df_num=10\n",
      "\n",
      "Granger Causality\n",
      "number of lags (no zero) 10\n",
      "ssr based F test:         F=2.0646  , p=0.0394  , df_denom=69, df_num=10\n",
      "ssr based chi2 test:   chi2=26.9302 , p=0.0027  , df=10\n",
      "likelihood ratio test: chi2=23.5590 , p=0.0089  , df=10\n",
      "parameter F test:         F=2.0646  , p=0.0394  , df_denom=69, df_num=10\n",
      "\n",
      "Granger Causality\n",
      "number of lags (no zero) 10\n",
      "ssr based F test:         F=4.1702  , p=0.0002  , df_denom=69, df_num=10\n",
      "ssr based chi2 test:   chi2=54.3934 , p=0.0000  , df=10\n",
      "likelihood ratio test: chi2=42.5459 , p=0.0000  , df=10\n",
      "parameter F test:         F=4.1702  , p=0.0002  , df_denom=69, df_num=10\n",
      "\n",
      "Granger Causality\n",
      "number of lags (no zero) 10\n",
      "ssr based F test:         F=2.6102  , p=0.0095  , df_denom=69, df_num=10\n",
      "ssr based chi2 test:   chi2=34.0459 , p=0.0002  , df=10\n",
      "likelihood ratio test: chi2=28.8758 , p=0.0013  , df=10\n",
      "parameter F test:         F=2.6102  , p=0.0095  , df_denom=69, df_num=10\n",
      "\n",
      "Granger Causality\n",
      "number of lags (no zero) 10\n",
      "ssr based F test:         F=4.6097  , p=0.0001  , df_denom=69, df_num=10\n",
      "ssr based chi2 test:   chi2=60.1261 , p=0.0000  , df=10\n",
      "likelihood ratio test: chi2=46.0499 , p=0.0000  , df=10\n",
      "parameter F test:         F=4.6097  , p=0.0001  , df_denom=69, df_num=10\n",
      "\n",
      "Granger Causality\n",
      "number of lags (no zero) 10\n",
      "ssr based F test:         F=5.0160  , p=0.0000  , df_denom=69, df_num=10\n",
      "ssr based chi2 test:   chi2=65.4259 , p=0.0000  , df=10\n",
      "likelihood ratio test: chi2=49.1723 , p=0.0000  , df=10\n",
      "parameter F test:         F=5.0160  , p=0.0000  , df_denom=69, df_num=10\n",
      "\n",
      "Granger Causality\n",
      "number of lags (no zero) 10\n",
      "ssr based F test:         F=3.2420  , p=0.0018  , df_denom=69, df_num=10\n",
      "ssr based chi2 test:   chi2=42.2874 , p=0.0000  , df=10\n",
      "likelihood ratio test: chi2=34.6650 , p=0.0001  , df=10\n",
      "parameter F test:         F=3.2420  , p=0.0018  , df_denom=69, df_num=10\n",
      "\n",
      "Granger Causality\n",
      "number of lags (no zero) 10\n",
      "ssr based F test:         F=3.9470  , p=0.0003  , df_denom=69, df_num=10\n",
      "ssr based chi2 test:   chi2=51.4820 , p=0.0000  , df=10\n",
      "likelihood ratio test: chi2=40.7127 , p=0.0000  , df=10\n",
      "parameter F test:         F=3.9470  , p=0.0003  , df_denom=69, df_num=10\n",
      "\n",
      "Granger Causality\n",
      "number of lags (no zero) 10\n",
      "ssr based F test:         F=3.7203  , p=0.0005  , df_denom=69, df_num=10\n",
      "ssr based chi2 test:   chi2=48.5260 , p=0.0000  , df=10\n",
      "likelihood ratio test: chi2=38.8124 , p=0.0000  , df=10\n",
      "parameter F test:         F=3.7203  , p=0.0005  , df_denom=69, df_num=10\n",
      "\n",
      "Granger Causality\n",
      "number of lags (no zero) 10\n",
      "ssr based F test:         F=3.3653  , p=0.0013  , df_denom=69, df_num=10\n",
      "ssr based chi2 test:   chi2=43.8957 , p=0.0000  , df=10\n",
      "likelihood ratio test: chi2=35.7526 , p=0.0001  , df=10\n",
      "parameter F test:         F=3.3653  , p=0.0013  , df_denom=69, df_num=10\n",
      "\n",
      "Granger Causality\n",
      "number of lags (no zero) 10\n",
      "ssr based F test:         F=5.7811  , p=0.0000  , df_denom=69, df_num=10\n",
      "ssr based chi2 test:   chi2=75.4059 , p=0.0000  , df=10\n",
      "likelihood ratio test: chi2=54.7734 , p=0.0000  , df=10\n",
      "parameter F test:         F=5.7811  , p=0.0000  , df_denom=69, df_num=10\n",
      "\n",
      "Granger Causality\n",
      "number of lags (no zero) 10\n",
      "ssr based F test:         F=4.2840  , p=0.0001  , df_denom=69, df_num=10\n",
      "ssr based chi2 test:   chi2=55.8788 , p=0.0000  , df=10\n",
      "likelihood ratio test: chi2=43.4670 , p=0.0000  , df=10\n",
      "parameter F test:         F=4.2840  , p=0.0001  , df_denom=69, df_num=10\n",
      "\n",
      "Granger Causality\n",
      "number of lags (no zero) 10\n",
      "ssr based F test:         F=2.4336  , p=0.0151  , df_denom=69, df_num=10\n",
      "ssr based chi2 test:   chi2=31.7424 , p=0.0004  , df=10\n",
      "likelihood ratio test: chi2=27.1888 , p=0.0024  , df=10\n",
      "parameter F test:         F=2.4336  , p=0.0151  , df_denom=69, df_num=10\n",
      "\n",
      "Granger Causality\n",
      "number of lags (no zero) 10\n",
      "ssr based F test:         F=3.5721  , p=0.0007  , df_denom=69, df_num=10\n",
      "ssr based chi2 test:   chi2=46.5924 , p=0.0000  , df=10\n",
      "likelihood ratio test: chi2=37.5473 , p=0.0000  , df=10\n",
      "parameter F test:         F=3.5721  , p=0.0007  , df_denom=69, df_num=10\n",
      "\n",
      "Granger Causality\n",
      "number of lags (no zero) 10\n",
      "ssr based F test:         F=2.8174  , p=0.0055  , df_denom=69, df_num=10\n",
      "ssr based chi2 test:   chi2=36.7491 , p=0.0001  , df=10\n",
      "likelihood ratio test: chi2=30.8160 , p=0.0006  , df=10\n",
      "parameter F test:         F=2.8174  , p=0.0055  , df_denom=69, df_num=10\n",
      "\n",
      "Granger Causality\n",
      "number of lags (no zero) 10\n",
      "ssr based F test:         F=2.2109  , p=0.0270  , df_denom=69, df_num=10\n",
      "ssr based chi2 test:   chi2=28.8378 , p=0.0013  , df=10\n",
      "likelihood ratio test: chi2=25.0155 , p=0.0053  , df=10\n",
      "parameter F test:         F=2.2109  , p=0.0270  , df_denom=69, df_num=10\n",
      "\n",
      "Granger Causality\n",
      "number of lags (no zero) 10\n",
      "ssr based F test:         F=1.2965  , p=0.2499  , df_denom=69, df_num=10\n",
      "ssr based chi2 test:   chi2=16.9104 , p=0.0764  , df=10\n",
      "likelihood ratio test: chi2=15.4964 , p=0.1150  , df=10\n",
      "parameter F test:         F=1.2965  , p=0.2499  , df_denom=69, df_num=10\n",
      "\n",
      "Granger Causality\n",
      "number of lags (no zero) 10\n",
      "ssr based F test:         F=2.9238  , p=0.0041  , df_denom=69, df_num=10\n",
      "ssr based chi2 test:   chi2=38.1367 , p=0.0000  , df=10\n",
      "likelihood ratio test: chi2=31.7959 , p=0.0004  , df=10\n",
      "parameter F test:         F=2.9238  , p=0.0041  , df_denom=69, df_num=10\n",
      "\n",
      "Granger Causality\n",
      "number of lags (no zero) 10\n",
      "ssr based F test:         F=2.7420  , p=0.0067  , df_denom=69, df_num=10\n",
      "ssr based chi2 test:   chi2=35.7652 , p=0.0001  , df=10\n",
      "likelihood ratio test: chi2=30.1146 , p=0.0008  , df=10\n",
      "parameter F test:         F=2.7420  , p=0.0067  , df_denom=69, df_num=10\n",
      "\n",
      "Granger Causality\n",
      "number of lags (no zero) 10\n",
      "ssr based F test:         F=3.1117  , p=0.0025  , df_denom=69, df_num=10\n",
      "ssr based chi2 test:   chi2=40.5872 , p=0.0000  , df=10\n",
      "likelihood ratio test: chi2=33.5009 , p=0.0002  , df=10\n",
      "parameter F test:         F=3.1117  , p=0.0025  , df_denom=69, df_num=10\n",
      "\n",
      "Granger Causality\n",
      "number of lags (no zero) 10\n",
      "ssr based F test:         F=2.0078  , p=0.0455  , df_denom=69, df_num=10\n",
      "ssr based chi2 test:   chi2=26.1889 , p=0.0035  , df=10\n",
      "likelihood ratio test: chi2=22.9867 , p=0.0108  , df=10\n",
      "parameter F test:         F=2.0078  , p=0.0455  , df_denom=69, df_num=10\n",
      "\n",
      "Granger Causality\n",
      "number of lags (no zero) 10\n",
      "ssr based F test:         F=1.4758  , p=0.1673  , df_denom=69, df_num=10\n",
      "ssr based chi2 test:   chi2=19.2489 , p=0.0372  , df=10\n",
      "likelihood ratio test: chi2=17.4437 , p=0.0651  , df=10\n",
      "parameter F test:         F=1.4758  , p=0.1673  , df_denom=69, df_num=10\n",
      "\n",
      "Granger Causality\n",
      "number of lags (no zero) 10\n",
      "ssr based F test:         F=1.9148  , p=0.0576  , df_denom=69, df_num=10\n",
      "ssr based chi2 test:   chi2=24.9756 , p=0.0054  , df=10\n",
      "likelihood ratio test: chi2=22.0419 , p=0.0149  , df=10\n",
      "parameter F test:         F=1.9148  , p=0.0576  , df_denom=69, df_num=10\n",
      "\n",
      "Granger Causality\n",
      "number of lags (no zero) 10\n",
      "ssr based F test:         F=3.4558  , p=0.0010  , df_denom=69, df_num=10\n",
      "ssr based chi2 test:   chi2=45.0752 , p=0.0000  , df=10\n",
      "likelihood ratio test: chi2=36.5420 , p=0.0001  , df=10\n",
      "parameter F test:         F=3.4558  , p=0.0010  , df_denom=69, df_num=10\n",
      "\n",
      "Granger Causality\n",
      "number of lags (no zero) 10\n",
      "ssr based F test:         F=4.7400  , p=0.0000  , df_denom=69, df_num=10\n",
      "ssr based chi2 test:   chi2=61.8265 , p=0.0000  , df=10\n",
      "likelihood ratio test: chi2=47.0636 , p=0.0000  , df=10\n",
      "parameter F test:         F=4.7400  , p=0.0000  , df_denom=69, df_num=10\n",
      "\n",
      "Granger Causality\n",
      "number of lags (no zero) 10\n",
      "ssr based F test:         F=1.9998  , p=0.0465  , df_denom=69, df_num=10\n",
      "ssr based chi2 test:   chi2=26.0838 , p=0.0036  , df=10\n",
      "likelihood ratio test: chi2=22.9052 , p=0.0111  , df=10\n",
      "parameter F test:         F=1.9998  , p=0.0465  , df_denom=69, df_num=10\n",
      "\n",
      "Granger Causality\n",
      "number of lags (no zero) 10\n",
      "ssr based F test:         F=2.8010  , p=0.0057  , df_denom=69, df_num=10\n",
      "ssr based chi2 test:   chi2=36.5349 , p=0.0001  , df=10\n",
      "likelihood ratio test: chi2=30.6638 , p=0.0007  , df=10\n",
      "parameter F test:         F=2.8010  , p=0.0057  , df_denom=69, df_num=10\n",
      "\n",
      "Granger Causality\n",
      "number of lags (no zero) 10\n",
      "ssr based F test:         F=2.9189  , p=0.0042  , df_denom=69, df_num=10\n",
      "ssr based chi2 test:   chi2=38.0720 , p=0.0000  , df=10\n",
      "likelihood ratio test: chi2=31.7505 , p=0.0004  , df=10\n",
      "parameter F test:         F=2.9189  , p=0.0042  , df_denom=69, df_num=10\n",
      "\n",
      "Granger Causality\n",
      "number of lags (no zero) 10\n",
      "ssr based F test:         F=3.1708  , p=0.0021  , df_denom=69, df_num=10\n",
      "ssr based chi2 test:   chi2=41.3584 , p=0.0000  , df=10\n",
      "likelihood ratio test: chi2=34.0308 , p=0.0002  , df=10\n",
      "parameter F test:         F=3.1708  , p=0.0021  , df_denom=69, df_num=10\n",
      "\n",
      "Granger Causality\n",
      "number of lags (no zero) 10\n",
      "ssr based F test:         F=1.4345  , p=0.1839  , df_denom=69, df_num=10\n",
      "ssr based chi2 test:   chi2=18.7109 , p=0.0441  , df=10\n",
      "likelihood ratio test: chi2=16.9994 , p=0.0744  , df=10\n",
      "parameter F test:         F=1.4345  , p=0.1839  , df_denom=69, df_num=10\n",
      "\n",
      "Granger Causality\n",
      "number of lags (no zero) 10\n",
      "ssr based F test:         F=3.7152  , p=0.0005  , df_denom=69, df_num=10\n",
      "ssr based chi2 test:   chi2=48.4588 , p=0.0000  , df=10\n",
      "likelihood ratio test: chi2=38.7687 , p=0.0000  , df=10\n",
      "parameter F test:         F=3.7152  , p=0.0005  , df_denom=69, df_num=10\n",
      "trajectory  infected_observable_state_var  timepoint_id\n",
      "timepoint                                              \n",
      "0                               11.969685             0\n",
      "1                               15.828713             1\n",
      "2                               18.445007             2\n",
      "3                               20.906946             3\n",
      "4                               23.540363             4\n",
      "...                                   ...           ...\n",
      "94                          348138.093750            94\n",
      "95                          325088.843750            95\n",
      "96                          302895.062500            96\n",
      "97                          281833.750000            97\n",
      "98                          261997.953125            98\n",
      "\n",
      "[99 rows x 2 columns]\n",
      "\n"
     ]
    },
    {
     "data": {
      "application/vnd.vega.v5+json": {
       "$schema": "https://vega.github.io/schema/vega/v5.json",
       "axes": [
        {
         "name": "x_axis",
         "orient": "bottom",
         "scale": "xscale",
         "zindex": 100
        },
        {
         "name": "y_axis",
         "orient": "left",
         "scale": "yscale",
         "zindex": 100
        }
       ],
       "data": [
        {
         "name": "distributions",
         "transform": [
          {
           "sort": {
            "field": [
             "trajectory",
             "timepoint"
            ]
           },
           "type": "collect"
          }
         ],
         "values": [
          {
           "lower": -1.6052828033086974,
           "timepoint": 0,
           "trajectory": "same_stat_state",
           "upper": 1.481148161157664
          },
          {
           "lower": -0.6081200216287366,
           "timepoint": 1,
           "trajectory": "same_stat_state",
           "upper": 2.4885477255393242
          },
          {
           "lower": -0.4199580345450631,
           "timepoint": 2,
           "trajectory": "same_stat_state",
           "upper": 2.666714873967182
          },
          {
           "lower": -0.2892186564104897,
           "timepoint": 3,
           "trajectory": "same_stat_state",
           "upper": 2.794817784851409
          },
          {
           "lower": -0.18914742287294303,
           "timepoint": 4,
           "trajectory": "same_stat_state",
           "upper": 2.8996372690979455
          },
          {
           "lower": -0.10908151004881787,
           "timepoint": 5,
           "trajectory": "same_stat_state",
           "upper": 2.9797375650258178
          },
          {
           "lower": -0.039460764662519666,
           "timepoint": 6,
           "trajectory": "same_stat_state",
           "upper": 3.0490753663097294
          },
          {
           "lower": 0.027999810941489577,
           "timepoint": 7,
           "trajectory": "same_stat_state",
           "upper": 3.1046958398560047
          },
          {
           "lower": 0.07199669889627837,
           "timepoint": 8,
           "trajectory": "same_stat_state",
           "upper": 3.1672967405289008
          },
          {
           "lower": 0.12096359801014406,
           "timepoint": 9,
           "trajectory": "same_stat_state",
           "upper": 3.212340718511523
          },
          {
           "lower": 0.17302504190222717,
           "timepoint": 10,
           "trajectory": "same_stat_state",
           "upper": 3.258563363347868
          },
          {
           "lower": 0.21255594360541358,
           "timepoint": 11,
           "trajectory": "same_stat_state",
           "upper": 3.3080639164569323
          },
          {
           "lower": 0.2514361090614094,
           "timepoint": 12,
           "trajectory": "same_stat_state",
           "upper": 3.3490476059465837
          },
          {
           "lower": 0.29554416871128913,
           "timepoint": 13,
           "trajectory": "same_stat_state",
           "upper": 3.3775985181872312
          },
          {
           "lower": 0.3303547284244177,
           "timepoint": 14,
           "trajectory": "same_stat_state",
           "upper": 3.4193030050344975
          },
          {
           "lower": 0.36195744352518955,
           "timepoint": 15,
           "trajectory": "same_stat_state",
           "upper": 3.447419104246101
          },
          {
           "lower": 0.39024397614766265,
           "timepoint": 16,
           "trajectory": "same_stat_state",
           "upper": 3.489014401786503
          },
          {
           "lower": 0.4227504862381384,
           "timepoint": 17,
           "trajectory": "same_stat_state",
           "upper": 3.5129998615555147
          },
          {
           "lower": 0.45246961317147183,
           "timepoint": 18,
           "trajectory": "same_stat_state",
           "upper": 3.549526574292283
          },
          {
           "lower": 0.48410208624101014,
           "timepoint": 19,
           "trajectory": "same_stat_state",
           "upper": 3.565051850401998
          },
          {
           "lower": 0.5100244319710182,
           "timepoint": 20,
           "trajectory": "same_stat_state",
           "upper": 3.593758281439002
          },
          {
           "lower": 0.5373598112355183,
           "timepoint": 21,
           "trajectory": "same_stat_state",
           "upper": 3.625150069793013
          },
          {
           "lower": 0.5629867699122701,
           "timepoint": 22,
           "trajectory": "same_stat_state",
           "upper": 3.6441724872238344
          },
          {
           "lower": 0.5850300782402483,
           "timepoint": 23,
           "trajectory": "same_stat_state",
           "upper": 3.673245171580674
          },
          {
           "lower": 0.6128741951488033,
           "timepoint": 24,
           "trajectory": "same_stat_state",
           "upper": 3.690330349352129
          },
          {
           "lower": 0.6380591966766018,
           "timepoint": 25,
           "trajectory": "same_stat_state",
           "upper": 3.7139838391345195
          },
          {
           "lower": 0.6526558879720923,
           "timepoint": 26,
           "trajectory": "same_stat_state",
           "upper": 3.7332186283334403
          },
          {
           "lower": 0.6799942275309699,
           "timepoint": 27,
           "trajectory": "same_stat_state",
           "upper": 3.760584535898978
          },
          {
           "lower": 0.6951481880797801,
           "timepoint": 28,
           "trajectory": "same_stat_state",
           "upper": 3.7802842268722014
          },
          {
           "lower": 0.7199125875326855,
           "timepoint": 29,
           "trajectory": "same_stat_state",
           "upper": 3.800835592243125
          },
          {
           "lower": 0.7383976260837929,
           "timepoint": 30,
           "trajectory": "same_stat_state",
           "upper": 3.8217476922110727
          },
          {
           "lower": 0.7592611280845227,
           "timepoint": 31,
           "trajectory": "same_stat_state",
           "upper": 3.8403551749141394
          },
          {
           "lower": 0.7780798529710248,
           "timepoint": 32,
           "trajectory": "same_stat_state",
           "upper": 3.8501452155614
          },
          {
           "lower": 0.7974557671361284,
           "timepoint": 33,
           "trajectory": "same_stat_state",
           "upper": 3.872366075200324
          },
          {
           "lower": 0.8168808022155014,
           "timepoint": 34,
           "trajectory": "same_stat_state",
           "upper": 3.893969892758883
          },
          {
           "lower": 0.8298759116594375,
           "timepoint": 35,
           "trajectory": "same_stat_state",
           "upper": 3.910955614035185
          },
          {
           "lower": 0.8448884774762127,
           "timepoint": 36,
           "trajectory": "same_stat_state",
           "upper": 3.9385370192504574
          },
          {
           "lower": 0.865326993127101,
           "timepoint": 37,
           "trajectory": "same_stat_state",
           "upper": 3.9499823568123147
          },
          {
           "lower": 0.8735675289318795,
           "timepoint": 38,
           "trajectory": "same_stat_state",
           "upper": 3.9697356377450563
          },
          {
           "lower": 0.897016157608633,
           "timepoint": 39,
           "trajectory": "same_stat_state",
           "upper": 3.976316864941169
          },
          {
           "lower": 0.9190747815565913,
           "timepoint": 40,
           "trajectory": "same_stat_state",
           "upper": 3.993870646518311
          },
          {
           "lower": 0.9286461689930497,
           "timepoint": 41,
           "trajectory": "same_stat_state",
           "upper": 4.016366839409622
          },
          {
           "lower": 0.9400380505513305,
           "timepoint": 42,
           "trajectory": "same_stat_state",
           "upper": 4.028619857991993
          },
          {
           "lower": 0.9570313016536449,
           "timepoint": 43,
           "trajectory": "same_stat_state",
           "upper": 4.04221558134143
          },
          {
           "lower": 0.9779218106178281,
           "timepoint": 44,
           "trajectory": "same_stat_state",
           "upper": 4.056451888092376
          },
          {
           "lower": 0.9853351946203998,
           "timepoint": 45,
           "trajectory": "same_stat_state",
           "upper": 4.077076663489549
          },
          {
           "lower": 1.0071633850520292,
           "timepoint": 46,
           "trajectory": "same_stat_state",
           "upper": 4.085113680159415
          },
          {
           "lower": 1.018464458627461,
           "timepoint": 47,
           "trajectory": "same_stat_state",
           "upper": 4.098199542848346
          },
          {
           "lower": 1.0258397561025865,
           "timepoint": 48,
           "trajectory": "same_stat_state",
           "upper": 4.118817863963979
          },
          {
           "lower": 1.044442012610856,
           "timepoint": 49,
           "trajectory": "same_stat_state",
           "upper": 4.121757768968479
          },
          {
           "lower": 1.0511623030830883,
           "timepoint": 50,
           "trajectory": "same_stat_state",
           "upper": 4.139141612080464
          },
          {
           "lower": 1.0666084581512563,
           "timepoint": 51,
           "trajectory": "same_stat_state",
           "upper": 4.150123333977551
          },
          {
           "lower": 1.0801419785873767,
           "timepoint": 52,
           "trajectory": "same_stat_state",
           "upper": 4.169966463540192
          },
          {
           "lower": 1.0938898298580424,
           "timepoint": 53,
           "trajectory": "same_stat_state",
           "upper": 4.176371567805628
          },
          {
           "lower": 1.106247311288809,
           "timepoint": 54,
           "trajectory": "same_stat_state",
           "upper": 4.1941380449798515
          },
          {
           "lower": 1.1206420722854649,
           "timepoint": 55,
           "trajectory": "same_stat_state",
           "upper": 4.2095437904067445
          },
          {
           "lower": 1.1300476206480525,
           "timepoint": 56,
           "trajectory": "same_stat_state",
           "upper": 4.2198292381799005
          },
          {
           "lower": 1.1400986544935787,
           "timepoint": 57,
           "trajectory": "same_stat_state",
           "upper": 4.227406540973609
          },
          {
           "lower": 1.1563250757810997,
           "timepoint": 58,
           "trajectory": "same_stat_state",
           "upper": 4.240064190765288
          },
          {
           "lower": 1.16002819226748,
           "timepoint": 59,
           "trajectory": "same_stat_state",
           "upper": 4.257397592894406
          },
          {
           "lower": 1.184481588748571,
           "timepoint": 60,
           "trajectory": "same_stat_state",
           "upper": 4.26094852924323
          },
          {
           "lower": 1.193132821351393,
           "timepoint": 61,
           "trajectory": "same_stat_state",
           "upper": 4.27468842895537
          },
          {
           "lower": 1.2010101529759851,
           "timepoint": 62,
           "trajectory": "same_stat_state",
           "upper": 4.281944129278523
          },
          {
           "lower": 1.2101840996410205,
           "timepoint": 63,
           "trajectory": "same_stat_state",
           "upper": 4.299942821566202
          },
          {
           "lower": 1.2238363983795493,
           "timepoint": 64,
           "trajectory": "same_stat_state",
           "upper": 4.304799243164373
          },
          {
           "lower": 1.2315939589262848,
           "timepoint": 65,
           "trajectory": "same_stat_state",
           "upper": 4.3278847559728835
          },
          {
           "lower": 1.2481517230788608,
           "timepoint": 66,
           "trajectory": "same_stat_state",
           "upper": 4.3329503216687595
          },
          {
           "lower": 1.2561552675845193,
           "timepoint": 67,
           "trajectory": "same_stat_state",
           "upper": 4.348524137033169
          },
          {
           "lower": 1.2606247870376042,
           "timepoint": 68,
           "trajectory": "same_stat_state",
           "upper": 4.3524425012516845
          },
          {
           "lower": 1.2785653234764338,
           "timepoint": 69,
           "trajectory": "same_stat_state",
           "upper": 4.369122263417824
          },
          {
           "lower": 1.281967235759408,
           "timepoint": 70,
           "trajectory": "same_stat_state",
           "upper": 4.37982924006395
          },
          {
           "lower": 1.2924558600584095,
           "timepoint": 71,
           "trajectory": "same_stat_state",
           "upper": 4.389544199175197
          },
          {
           "lower": 1.31012310569524,
           "timepoint": 72,
           "trajectory": "same_stat_state",
           "upper": 4.397336814536653
          },
          {
           "lower": 1.3270201165490558,
           "timepoint": 73,
           "trajectory": "same_stat_state",
           "upper": 4.409909368669354
          },
          {
           "lower": 1.3305961331635896,
           "timepoint": 74,
           "trajectory": "same_stat_state",
           "upper": 4.419634044538007
          },
          {
           "lower": 1.3327094826459522,
           "timepoint": 75,
           "trajectory": "same_stat_state",
           "upper": 4.422476185497583
          },
          {
           "lower": 1.346217891394117,
           "timepoint": 76,
           "trajectory": "same_stat_state",
           "upper": 4.4373917179090805
          },
          {
           "lower": 1.3594990783853111,
           "timepoint": 77,
           "trajectory": "same_stat_state",
           "upper": 4.4492216469018615
          },
          {
           "lower": 1.3698409087648764,
           "timepoint": 78,
           "trajectory": "same_stat_state",
           "upper": 4.457133387578324
          },
          {
           "lower": 1.3788723998861407,
           "timepoint": 79,
           "trajectory": "same_stat_state",
           "upper": 4.463328793201896
          },
          {
           "lower": 1.3810279712892468,
           "timepoint": 80,
           "trajectory": "same_stat_state",
           "upper": 4.47712774520749
          },
          {
           "lower": 1.392017301145798,
           "timepoint": 81,
           "trajectory": "same_stat_state",
           "upper": 4.483193282715963
          },
          {
           "lower": 1.4073630159324788,
           "timepoint": 82,
           "trajectory": "same_stat_state",
           "upper": 4.489109553054662
          },
          {
           "lower": 1.413037919997679,
           "timepoint": 83,
           "trajectory": "same_stat_state",
           "upper": 4.496700099811968
          },
          {
           "lower": 1.4256531746035146,
           "timepoint": 84,
           "trajectory": "same_stat_state",
           "upper": 4.50824541081791
          },
          {
           "lower": 1.4372825228062738,
           "timepoint": 85,
           "trajectory": "same_stat_state",
           "upper": 4.519854650754782
          },
          {
           "lower": 1.447332581708802,
           "timepoint": 86,
           "trajectory": "same_stat_state",
           "upper": 4.526424024957397
          },
          {
           "lower": 1.4542847632151112,
           "timepoint": 87,
           "trajectory": "same_stat_state",
           "upper": 4.537605770624512
          },
          {
           "lower": 1.457935780441964,
           "timepoint": 88,
           "trajectory": "same_stat_state",
           "upper": 4.548042737762991
          },
          {
           "lower": 1.4609264556960595,
           "timepoint": 89,
           "trajectory": "same_stat_state",
           "upper": 4.552978012356336
          },
          {
           "lower": 1.4773237655713967,
           "timepoint": 90,
           "trajectory": "same_stat_state",
           "upper": 4.567866273785207
          },
          {
           "lower": 1.4878123988944447,
           "timepoint": 91,
           "trajectory": "same_stat_state",
           "upper": 4.567689306921188
          },
          {
           "lower": 1.49838273391816,
           "timepoint": 92,
           "trajectory": "same_stat_state",
           "upper": 4.579405976173168
          },
          {
           "lower": 1.506832239629911,
           "timepoint": 93,
           "trajectory": "same_stat_state",
           "upper": 4.5847365199918935
          },
          {
           "lower": 1.5162480795301179,
           "timepoint": 94,
           "trajectory": "same_stat_state",
           "upper": 4.597717639175226
          },
          {
           "lower": 1.5109947026223862,
           "timepoint": 95,
           "trajectory": "same_stat_state",
           "upper": 4.609652880060913
          },
          {
           "lower": 1.5205094891243194,
           "timepoint": 96,
           "trajectory": "same_stat_state",
           "upper": 4.618592504178073
          },
          {
           "lower": 1.538173573253646,
           "timepoint": 97,
           "trajectory": "same_stat_state",
           "upper": 4.614439869144297
          },
          {
           "lower": 1.5467546892585338,
           "timepoint": 98,
           "trajectory": "same_stat_state",
           "upper": 4.629883560597639
          },
          {
           "lower": 1.550395685723782,
           "timepoint": 99,
           "trajectory": "same_stat_state",
           "upper": 4.6391272458996395
          }
         ]
        },
        {
         "name": "traces",
         "transform": [
          {
           "expr": "isValid(datum.value)",
           "type": "filter"
          },
          {
           "sort": {
            "field": [
             "trajectory",
             "timepoint"
            ]
           },
           "type": "collect"
          }
         ],
         "values": [
          {
           "sample_id": 0,
           "timepoint": 0,
           "trajectory": "traces_mean",
           "value": 0.1165885320727533
          },
          {
           "sample_id": 0,
           "timepoint": 1,
           "trajectory": "traces_mean",
           "value": 0.98257343522157
          },
          {
           "sample_id": 0,
           "timepoint": 2,
           "trajectory": "traces_mean",
           "value": 1.1677192964909806
          },
          {
           "sample_id": 0,
           "timepoint": 3,
           "trajectory": "traces_mean",
           "value": 1.2756911575232524
          },
          {
           "sample_id": 0,
           "timepoint": 4,
           "trajectory": "traces_mean",
           "value": 1.3889579356363522
          },
          {
           "sample_id": 0,
           "timepoint": 5,
           "trajectory": "traces_mean",
           "value": 1.4432262597300134
          },
          {
           "sample_id": 0,
           "timepoint": 6,
           "trajectory": "traces_mean",
           "value": 1.4864262203356884
          },
          {
           "sample_id": 0,
           "timepoint": 7,
           "trajectory": "traces_mean",
           "value": 1.5417300622948815
          },
          {
           "sample_id": 0,
           "timepoint": 8,
           "trajectory": "traces_mean",
           "value": 1.5861135298768454
          },
          {
           "sample_id": 0,
           "timepoint": 9,
           "trajectory": "traces_mean",
           "value": 1.6316729275619544
          },
          {
           "sample_id": 0,
           "timepoint": 10,
           "trajectory": "traces_mean",
           "value": 1.65802662092253
          },
          {
           "sample_id": 0,
           "timepoint": 11,
           "trajectory": "traces_mean",
           "value": 1.6783443334119466
          },
          {
           "sample_id": 0,
           "timepoint": 12,
           "trajectory": "traces_mean",
           "value": 1.7165725949849884
          },
          {
           "sample_id": 0,
           "timepoint": 13,
           "trajectory": "traces_mean",
           "value": 1.7368738231116876
          },
          {
           "sample_id": 0,
           "timepoint": 14,
           "trajectory": "traces_mean",
           "value": 1.7334600011253192
          },
          {
           "sample_id": 0,
           "timepoint": 15,
           "trajectory": "traces_mean",
           "value": 1.748206897791705
          },
          {
           "sample_id": 0,
           "timepoint": 16,
           "trajectory": "traces_mean",
           "value": 1.8347930472123628
          },
          {
           "sample_id": 0,
           "timepoint": 17,
           "trajectory": "traces_mean",
           "value": 1.792328376826285
          },
          {
           "sample_id": 0,
           "timepoint": 18,
           "trajectory": "traces_mean",
           "value": 1.828220683978376
          },
          {
           "sample_id": 0,
           "timepoint": 19,
           "trajectory": "traces_mean",
           "value": 1.8639744343928315
          },
          {
           "sample_id": 0,
           "timepoint": 20,
           "trajectory": "traces_mean",
           "value": 1.870754171770316
          },
          {
           "sample_id": 0,
           "timepoint": 21,
           "trajectory": "traces_mean",
           "value": 1.8883956549798049
          },
          {
           "sample_id": 0,
           "timepoint": 22,
           "trajectory": "traces_mean",
           "value": 1.9033729879525496
          },
          {
           "sample_id": 0,
           "timepoint": 23,
           "trajectory": "traces_mean",
           "value": 1.9252334596212768
          },
          {
           "sample_id": 0,
           "timepoint": 24,
           "trajectory": "traces_mean",
           "value": 1.929706844900525
          },
          {
           "sample_id": 0,
           "timepoint": 25,
           "trajectory": "traces_mean",
           "value": 1.947493442524236
          },
          {
           "sample_id": 0,
           "timepoint": 26,
           "trajectory": "traces_mean",
           "value": 1.9612366162603088
          },
          {
           "sample_id": 0,
           "timepoint": 27,
           "trajectory": "traces_mean",
           "value": 2.020743883952438
          },
          {
           "sample_id": 0,
           "timepoint": 28,
           "trajectory": "traces_mean",
           "value": 1.9955912261418969
          },
          {
           "sample_id": 0,
           "timepoint": 29,
           "trajectory": "traces_mean",
           "value": 2.077654542889408
          },
          {
           "sample_id": 0,
           "timepoint": 30,
           "trajectory": "traces_mean",
           "value": 2.0191716913056337
          },
          {
           "sample_id": 0,
           "timepoint": 31,
           "trajectory": "traces_mean",
           "value": 2.062012586561062
          },
          {
           "sample_id": 0,
           "timepoint": 32,
           "trajectory": "traces_mean",
           "value": 2.048790676143133
          },
          {
           "sample_id": 0,
           "timepoint": 33,
           "trajectory": "traces_mean",
           "value": 2.07998635978141
          },
          {
           "sample_id": 0,
           "timepoint": 34,
           "trajectory": "traces_mean",
           "value": 2.1812713054395574
          },
          {
           "sample_id": 0,
           "timepoint": 35,
           "trajectory": "traces_mean",
           "value": 2.1279143787578545
          },
          {
           "sample_id": 0,
           "timepoint": 36,
           "trajectory": "traces_mean",
           "value": 2.102255956860012
          },
          {
           "sample_id": 0,
           "timepoint": 37,
           "trajectory": "traces_mean",
           "value": 2.119388627269807
          },
          {
           "sample_id": 0,
           "timepoint": 38,
           "trajectory": "traces_mean",
           "value": 2.132860346421244
          },
          {
           "sample_id": 0,
           "timepoint": 39,
           "trajectory": "traces_mean",
           "value": 2.1610875172648187
          },
          {
           "sample_id": 0,
           "timepoint": 40,
           "trajectory": "traces_mean",
           "value": 2.267675151050508
          },
          {
           "sample_id": 0,
           "timepoint": 41,
           "trajectory": "traces_mean",
           "value": 2.117278586706485
          },
          {
           "sample_id": 0,
           "timepoint": 42,
           "trajectory": "traces_mean",
           "value": 2.220559022048788
          },
          {
           "sample_id": 0,
           "timepoint": 43,
           "trajectory": "traces_mean",
           "value": 2.2267738725570307
          },
          {
           "sample_id": 0,
           "timepoint": 44,
           "trajectory": "traces_mean",
           "value": 2.2657574302341144
          },
          {
           "sample_id": 0,
           "timepoint": 45,
           "trajectory": "traces_mean",
           "value": 2.275734807941733
          },
          {
           "sample_id": 0,
           "timepoint": 46,
           "trajectory": "traces_mean",
           "value": 2.211893278934516
          },
          {
           "sample_id": 0,
           "timepoint": 47,
           "trajectory": "traces_mean",
           "value": 2.186135036493703
          },
          {
           "sample_id": 0,
           "timepoint": 48,
           "trajectory": "traces_mean",
           "value": 2.328218976939897
          },
          {
           "sample_id": 0,
           "timepoint": 49,
           "trajectory": "traces_mean",
           "value": 2.3832158132947256
          },
          {
           "sample_id": 0,
           "timepoint": 50,
           "trajectory": "traces_mean",
           "value": 2.4297109917714947
          },
          {
           "sample_id": 0,
           "timepoint": 51,
           "trajectory": "traces_mean",
           "value": 2.359328889977056
          },
          {
           "sample_id": 0,
           "timepoint": 52,
           "trajectory": "traces_mean",
           "value": 2.4123369057407964
          },
          {
           "sample_id": 0,
           "timepoint": 53,
           "trajectory": "traces_mean",
           "value": 2.427961581253383
          },
          {
           "sample_id": 0,
           "timepoint": 54,
           "trajectory": "traces_mean",
           "value": 2.424195034832548
          },
          {
           "sample_id": 0,
           "timepoint": 55,
           "trajectory": "traces_mean",
           "value": 2.4790385313251804
          },
          {
           "sample_id": 0,
           "timepoint": 56,
           "trajectory": "traces_mean",
           "value": 2.50762152931137
          },
          {
           "sample_id": 0,
           "timepoint": 57,
           "trajectory": "traces_mean",
           "value": 2.5329008375343203
          },
          {
           "sample_id": 0,
           "timepoint": 58,
           "trajectory": "traces_mean",
           "value": 2.55322216932685
          },
          {
           "sample_id": 0,
           "timepoint": 59,
           "trajectory": "traces_mean",
           "value": 2.6071297365341017
          },
          {
           "sample_id": 0,
           "timepoint": 60,
           "trajectory": "traces_mean",
           "value": 2.590435120164238
          },
          {
           "sample_id": 0,
           "timepoint": 61,
           "trajectory": "traces_mean",
           "value": 2.603565920559579
          },
          {
           "sample_id": 0,
           "timepoint": 62,
           "trajectory": "traces_mean",
           "value": 2.6576563911989552
          },
          {
           "sample_id": 0,
           "timepoint": 63,
           "trajectory": "traces_mean",
           "value": 2.6285393345516894
          },
          {
           "sample_id": 0,
           "timepoint": 64,
           "trajectory": "traces_mean",
           "value": 2.746458300731359
          },
          {
           "sample_id": 0,
           "timepoint": 65,
           "trajectory": "traces_mean",
           "value": 2.7162377407589577
          },
          {
           "sample_id": 0,
           "timepoint": 66,
           "trajectory": "traces_mean",
           "value": 2.693705120562201
          },
          {
           "sample_id": 0,
           "timepoint": 67,
           "trajectory": "traces_mean",
           "value": 2.771621278648986
          },
          {
           "sample_id": 0,
           "timepoint": 68,
           "trajectory": "traces_mean",
           "value": 2.740689519864348
          },
          {
           "sample_id": 0,
           "timepoint": 69,
           "trajectory": "traces_mean",
           "value": 2.8123625038534987
          },
          {
           "sample_id": 0,
           "timepoint": 70,
           "trajectory": "traces_mean",
           "value": 2.8499801155211792
          },
          {
           "sample_id": 0,
           "timepoint": 71,
           "trajectory": "traces_mean",
           "value": 2.87298698839507
          },
          {
           "sample_id": 0,
           "timepoint": 72,
           "trajectory": "traces_mean",
           "value": 2.887882181343926
          },
          {
           "sample_id": 0,
           "timepoint": 73,
           "trajectory": "traces_mean",
           "value": 2.877188848046804
          },
          {
           "sample_id": 0,
           "timepoint": 74,
           "trajectory": "traces_mean",
           "value": 2.9353632309289366
          },
          {
           "sample_id": 0,
           "timepoint": 75,
           "trajectory": "traces_mean",
           "value": 2.955766833546866
          },
          {
           "sample_id": 0,
           "timepoint": 76,
           "trajectory": "traces_mean",
           "value": 2.9701317912709766
          },
          {
           "sample_id": 0,
           "timepoint": 77,
           "trajectory": "traces_mean",
           "value": 2.98808183867856
          },
          {
           "sample_id": 0,
           "timepoint": 78,
           "trajectory": "traces_mean",
           "value": 3.0090850634031727
          },
          {
           "sample_id": 0,
           "timepoint": 79,
           "trajectory": "traces_mean",
           "value": 3.054957484677664
          },
          {
           "sample_id": 0,
           "timepoint": 80,
           "trajectory": "traces_mean",
           "value": 3.029566450750876
          },
          {
           "sample_id": 0,
           "timepoint": 81,
           "trajectory": "traces_mean",
           "value": 3.085262043906509
          },
          {
           "sample_id": 0,
           "timepoint": 82,
           "trajectory": "traces_mean",
           "value": 3.103618425388033
          },
          {
           "sample_id": 0,
           "timepoint": 83,
           "trajectory": "traces_mean",
           "value": 3.149411281947657
          },
          {
           "sample_id": 0,
           "timepoint": 84,
           "trajectory": "traces_mean",
           "value": 3.225152292085544
          },
          {
           "sample_id": 0,
           "timepoint": 85,
           "trajectory": "traces_mean",
           "value": 3.1371834580834514
          },
          {
           "sample_id": 0,
           "timepoint": 86,
           "trajectory": "traces_mean",
           "value": 3.1759923890766526
          },
          {
           "sample_id": 0,
           "timepoint": 87,
           "trajectory": "traces_mean",
           "value": 3.155226699568046
          },
          {
           "sample_id": 0,
           "timepoint": 88,
           "trajectory": "traces_mean",
           "value": 3.2143776249763407
          },
          {
           "sample_id": 0,
           "timepoint": 89,
           "trajectory": "traces_mean",
           "value": 3.2138101820169296
          },
          {
           "sample_id": 0,
           "timepoint": 90,
           "trajectory": "traces_mean",
           "value": 3.29837728284205
          },
          {
           "sample_id": 0,
           "timepoint": 91,
           "trajectory": "traces_mean",
           "value": 3.259975524468581
          },
          {
           "sample_id": 0,
           "timepoint": 92,
           "trajectory": "traces_mean",
           "value": 3.2656013022082058
          },
          {
           "sample_id": 0,
           "timepoint": 93,
           "trajectory": "traces_mean",
           "value": 3.28025891914996
          },
          {
           "sample_id": 0,
           "timepoint": 94,
           "trajectory": "traces_mean",
           "value": 3.290072412453963
          },
          {
           "sample_id": 0,
           "timepoint": 95,
           "trajectory": "traces_mean",
           "value": 3.295026919062252
          },
          {
           "sample_id": 0,
           "timepoint": 96,
           "trajectory": "traces_mean",
           "value": 3.309560561195243
          },
          {
           "sample_id": 0,
           "timepoint": 97,
           "trajectory": "traces_mean",
           "value": 3.3015091759768964
          },
          {
           "sample_id": 0,
           "timepoint": 98,
           "trajectory": "traces_mean",
           "value": 3.3541640152207552
          },
          {
           "sample_id": 0,
           "timepoint": 99,
           "trajectory": "traces_mean",
           "value": 3.3092242379989294
          },
          {
           "sample_id": 0,
           "timepoint": 0,
           "trajectory": "traces_var",
           "value": -0.990478671186078
          },
          {
           "sample_id": 0,
           "timepoint": 1,
           "trajectory": "traces_var",
           "value": 0.1360968642862011
          },
          {
           "sample_id": 0,
           "timepoint": 2,
           "trajectory": "traces_var",
           "value": 0.3291959980406825
          },
          {
           "sample_id": 0,
           "timepoint": 3,
           "trajectory": "traces_var",
           "value": 0.424493533389106
          },
          {
           "sample_id": 0,
           "timepoint": 4,
           "trajectory": "traces_var",
           "value": 0.5040881529144119
          },
          {
           "sample_id": 0,
           "timepoint": 5,
           "trajectory": "traces_var",
           "value": 0.5885881594098038
          },
          {
           "sample_id": 0,
           "timepoint": 6,
           "trajectory": "traces_var",
           "value": 0.6472318915756978
          },
          {
           "sample_id": 0,
           "timepoint": 7,
           "trajectory": "traces_var",
           "value": 0.7046086912860082
          },
          {
           "sample_id": 0,
           "timepoint": 8,
           "trajectory": "traces_var",
           "value": 0.7633046972493825
          },
          {
           "sample_id": 0,
           "timepoint": 9,
           "trajectory": "traces_var",
           "value": 0.790204187624054
          },
          {
           "sample_id": 0,
           "timepoint": 10,
           "trajectory": "traces_var",
           "value": 0.7591288139322143
          },
          {
           "sample_id": 0,
           "timepoint": 11,
           "trajectory": "traces_var",
           "value": 0.8576106803098681
          },
          {
           "sample_id": 0,
           "timepoint": 12,
           "trajectory": "traces_var",
           "value": 0.8606740822943301
          },
          {
           "sample_id": 0,
           "timepoint": 13,
           "trajectory": "traces_var",
           "value": 0.90405872542556
          },
          {
           "sample_id": 0,
           "timepoint": 14,
           "trajectory": "traces_var",
           "value": 0.9225885099170232
          },
          {
           "sample_id": 0,
           "timepoint": 15,
           "trajectory": "traces_var",
           "value": 0.9376472601960392
          },
          {
           "sample_id": 0,
           "timepoint": 16,
           "trajectory": "traces_var",
           "value": 0.9405963265671932
          },
          {
           "sample_id": 0,
           "timepoint": 17,
           "trajectory": "traces_var",
           "value": 0.978457727214963
          },
          {
           "sample_id": 0,
           "timepoint": 18,
           "trajectory": "traces_var",
           "value": 0.9141381511023894
          },
          {
           "sample_id": 0,
           "timepoint": 19,
           "trajectory": "traces_var",
           "value": 1.0075461592181156
          },
          {
           "sample_id": 0,
           "timepoint": 20,
           "trajectory": "traces_var",
           "value": 1.0298110920583896
          },
          {
           "sample_id": 0,
           "timepoint": 21,
           "trajectory": "traces_var",
           "value": 1.0406816738239373
          },
          {
           "sample_id": 0,
           "timepoint": 22,
           "trajectory": "traces_var",
           "value": 1.0467539178034726
          },
          {
           "sample_id": 0,
           "timepoint": 23,
           "trajectory": "traces_var",
           "value": 0.9858179132549364
          },
          {
           "sample_id": 0,
           "timepoint": 24,
           "trajectory": "traces_var",
           "value": 1.079915016243085
          },
          {
           "sample_id": 0,
           "timepoint": 25,
           "trajectory": "traces_var",
           "value": 1.1233477661764062
          },
          {
           "sample_id": 0,
           "timepoint": 26,
           "trajectory": "traces_var",
           "value": 1.101026916067627
          },
          {
           "sample_id": 0,
           "timepoint": 27,
           "trajectory": "traces_var",
           "value": 1.1399069514031244
          },
          {
           "sample_id": 0,
           "timepoint": 28,
           "trajectory": "traces_var",
           "value": 1.1802781792215564
          },
          {
           "sample_id": 0,
           "timepoint": 29,
           "trajectory": "traces_var",
           "value": 1.152439608161683
          },
          {
           "sample_id": 0,
           "timepoint": 30,
           "trajectory": "traces_var",
           "value": 1.211969267180148
          },
          {
           "sample_id": 0,
           "timepoint": 31,
           "trajectory": "traces_var",
           "value": 1.175742727820816
          },
          {
           "sample_id": 0,
           "timepoint": 32,
           "trajectory": "traces_var",
           "value": 1.2432927540038667
          },
          {
           "sample_id": 0,
           "timepoint": 33,
           "trajectory": "traces_var",
           "value": 1.2238803061932275
          },
          {
           "sample_id": 0,
           "timepoint": 34,
           "trajectory": "traces_var",
           "value": 1.206845897085687
          },
          {
           "sample_id": 0,
           "timepoint": 35,
           "trajectory": "traces_var",
           "value": 1.2826946455555115
          },
          {
           "sample_id": 0,
           "timepoint": 36,
           "trajectory": "traces_var",
           "value": 1.2507176320735522
          },
          {
           "sample_id": 0,
           "timepoint": 37,
           "trajectory": "traces_var",
           "value": 1.2878129402254856
          },
          {
           "sample_id": 0,
           "timepoint": 38,
           "trajectory": "traces_var",
           "value": 1.1648941856296522
          },
          {
           "sample_id": 0,
           "timepoint": 39,
           "trajectory": "traces_var",
           "value": 1.3260015243991206
          },
          {
           "sample_id": 0,
           "timepoint": 40,
           "trajectory": "traces_var",
           "value": 1.3529310277357902
          },
          {
           "sample_id": 0,
           "timepoint": 41,
           "trajectory": "traces_var",
           "value": 1.3600222771605863
          },
          {
           "sample_id": 0,
           "timepoint": 42,
           "trajectory": "traces_var",
           "value": 1.3380142239287345
          },
          {
           "sample_id": 0,
           "timepoint": 43,
           "trajectory": "traces_var",
           "value": 1.473349199359184
          },
          {
           "sample_id": 0,
           "timepoint": 44,
           "trajectory": "traces_var",
           "value": 1.442761265761174
          },
          {
           "sample_id": 0,
           "timepoint": 45,
           "trajectory": "traces_var",
           "value": 1.4866948409153244
          },
          {
           "sample_id": 0,
           "timepoint": 46,
           "trajectory": "traces_var",
           "value": 1.3778667619949292
          },
          {
           "sample_id": 0,
           "timepoint": 47,
           "trajectory": "traces_var",
           "value": 1.5197914435628923
          },
          {
           "sample_id": 0,
           "timepoint": 48,
           "trajectory": "traces_var",
           "value": 1.5349032909534723
          },
          {
           "sample_id": 0,
           "timepoint": 49,
           "trajectory": "traces_var",
           "value": 1.579579838316311
          },
          {
           "sample_id": 0,
           "timepoint": 50,
           "trajectory": "traces_var",
           "value": 1.5954026379089197
          },
          {
           "sample_id": 0,
           "timepoint": 51,
           "trajectory": "traces_var",
           "value": 1.6488637657451608
          },
          {
           "sample_id": 0,
           "timepoint": 52,
           "trajectory": "traces_var",
           "value": 1.5756928941850177
          },
          {
           "sample_id": 0,
           "timepoint": 53,
           "trajectory": "traces_var",
           "value": 1.5487919337716358
          },
          {
           "sample_id": 0,
           "timepoint": 54,
           "trajectory": "traces_var",
           "value": 1.6865158459675584
          },
          {
           "sample_id": 0,
           "timepoint": 55,
           "trajectory": "traces_var",
           "value": 1.703563815597286
          },
          {
           "sample_id": 0,
           "timepoint": 56,
           "trajectory": "traces_var",
           "value": 1.740490223458342
          },
          {
           "sample_id": 0,
           "timepoint": 57,
           "trajectory": "traces_var",
           "value": 1.7551342553705027
          },
          {
           "sample_id": 0,
           "timepoint": 58,
           "trajectory": "traces_var",
           "value": 1.802061066673421
          },
          {
           "sample_id": 0,
           "timepoint": 59,
           "trajectory": "traces_var",
           "value": 1.833482343006074
          },
          {
           "sample_id": 0,
           "timepoint": 60,
           "trajectory": "traces_var",
           "value": 1.8487506381657948
          },
          {
           "sample_id": 0,
           "timepoint": 61,
           "trajectory": "traces_var",
           "value": 1.8307947449709228
          },
          {
           "sample_id": 0,
           "timepoint": 62,
           "trajectory": "traces_var",
           "value": 1.9217078076208445
          },
          {
           "sample_id": 0,
           "timepoint": 63,
           "trajectory": "traces_var",
           "value": 1.9311006958313133
          },
          {
           "sample_id": 0,
           "timepoint": 64,
           "trajectory": "traces_var",
           "value": 1.9203245803636888
          },
          {
           "sample_id": 0,
           "timepoint": 65,
           "trajectory": "traces_var",
           "value": 1.9634787014381652
          },
          {
           "sample_id": 0,
           "timepoint": 66,
           "trajectory": "traces_var",
           "value": 1.923653208077258
          },
          {
           "sample_id": 0,
           "timepoint": 67,
           "trajectory": "traces_var",
           "value": 1.9782501814519424
          },
          {
           "sample_id": 0,
           "timepoint": 68,
           "trajectory": "traces_var",
           "value": 2.008683379379811
          },
          {
           "sample_id": 0,
           "timepoint": 69,
           "trajectory": "traces_var",
           "value": 1.893271895878484
          },
          {
           "sample_id": 0,
           "timepoint": 70,
           "trajectory": "traces_var",
           "value": 2.0325493772675176
          },
          {
           "sample_id": 0,
           "timepoint": 71,
           "trajectory": "traces_var",
           "value": 2.0947162743837557
          },
          {
           "sample_id": 0,
           "timepoint": 72,
           "trajectory": "traces_var",
           "value": 2.0841924359571835
          },
          {
           "sample_id": 0,
           "timepoint": 73,
           "trajectory": "traces_var",
           "value": 2.0091455187452127
          },
          {
           "sample_id": 0,
           "timepoint": 74,
           "trajectory": "traces_var",
           "value": 2.108151236531895
          },
          {
           "sample_id": 0,
           "timepoint": 75,
           "trajectory": "traces_var",
           "value": 2.1222130281262706
          },
          {
           "sample_id": 0,
           "timepoint": 76,
           "trajectory": "traces_var",
           "value": 2.043649721248072
          },
          {
           "sample_id": 0,
           "timepoint": 77,
           "trajectory": "traces_var",
           "value": 2.127439121057124
          },
          {
           "sample_id": 0,
           "timepoint": 78,
           "trajectory": "traces_var",
           "value": 2.1373071869627265
          },
          {
           "sample_id": 0,
           "timepoint": 79,
           "trajectory": "traces_var",
           "value": 2.151226214770367
          },
          {
           "sample_id": 0,
           "timepoint": 80,
           "trajectory": "traces_var",
           "value": 2.115398317632682
          },
          {
           "sample_id": 0,
           "timepoint": 81,
           "trajectory": "traces_var",
           "value": 2.1599675024066327
          },
          {
           "sample_id": 0,
           "timepoint": 82,
           "trajectory": "traces_var",
           "value": 2.153593760848726
          },
          {
           "sample_id": 0,
           "timepoint": 83,
           "trajectory": "traces_var",
           "value": 2.1222210035801434
          },
          {
           "sample_id": 0,
           "timepoint": 84,
           "trajectory": "traces_var",
           "value": 2.021907098148189
          },
          {
           "sample_id": 0,
           "timepoint": 85,
           "trajectory": "traces_var",
           "value": 2.1630571280953084
          },
          {
           "sample_id": 0,
           "timepoint": 86,
           "trajectory": "traces_var",
           "value": 2.1753311862621283
          },
          {
           "sample_id": 0,
           "timepoint": 87,
           "trajectory": "traces_var",
           "value": 2.17434576167576
          },
          {
           "sample_id": 0,
           "timepoint": 88,
           "trajectory": "traces_var",
           "value": 2.175717770227311
          },
          {
           "sample_id": 0,
           "timepoint": 89,
           "trajectory": "traces_var",
           "value": 2.1527760021551443
          },
          {
           "sample_id": 0,
           "timepoint": 90,
           "trajectory": "traces_var",
           "value": 2.1507230930144146
          },
          {
           "sample_id": 0,
           "timepoint": 91,
           "trajectory": "traces_var",
           "value": 2.1469212120869057
          },
          {
           "sample_id": 0,
           "timepoint": 92,
           "trajectory": "traces_var",
           "value": 2.157500086231638
          },
          {
           "sample_id": 0,
           "timepoint": 93,
           "trajectory": "traces_var",
           "value": 2.156396886172098
          },
          {
           "sample_id": 0,
           "timepoint": 94,
           "trajectory": "traces_var",
           "value": 2.1483340146618466
          },
          {
           "sample_id": 0,
           "timepoint": 95,
           "trajectory": "traces_var",
           "value": 2.09525247845322
          },
          {
           "sample_id": 0,
           "timepoint": 96,
           "trajectory": "traces_var",
           "value": 2.1414258750166137
          },
          {
           "sample_id": 0,
           "timepoint": 97,
           "trajectory": "traces_var",
           "value": 2.1130863144455163
          },
          {
           "sample_id": 0,
           "timepoint": 98,
           "trajectory": "traces_var",
           "value": 2.1407335075214573
          },
          {
           "sample_id": 0,
           "timepoint": 99,
           "trajectory": "traces_var",
           "value": 2.0428141726301234
          },
          {
           "sample_id": 0,
           "timepoint": 0,
           "trajectory": "traces_granger",
           "value": 0.000314952379138
          },
          {
           "sample_id": 0,
           "timepoint": 1,
           "trajectory": "traces_granger",
           "value": 1.0817795780643489
          },
          {
           "sample_id": 0,
           "timepoint": 2,
           "trajectory": "traces_granger",
           "value": 1.296728000116987
          },
          {
           "sample_id": 0,
           "timepoint": 3,
           "trajectory": "traces_granger",
           "value": 1.5333064049668068
          },
          {
           "sample_id": 0,
           "timepoint": 4,
           "trajectory": "traces_granger",
           "value": 1.6884892645725351
          },
          {
           "sample_id": 0,
           "timepoint": 5,
           "trajectory": "traces_granger",
           "value": 1.7501361492110137
          },
          {
           "sample_id": 0,
           "timepoint": 6,
           "trajectory": "traces_granger",
           "value": 1.9840100367070832
          },
          {
           "sample_id": 0,
           "timepoint": 7,
           "trajectory": "traces_granger",
           "value": 2.1496263452112028
          },
          {
           "sample_id": 0,
           "timepoint": 8,
           "trajectory": "traces_granger",
           "value": 2.224358841970065
          },
          {
           "sample_id": 0,
           "timepoint": 9,
           "trajectory": "traces_granger",
           "value": 2.2949148023919066
          },
          {
           "sample_id": 0,
           "timepoint": 10,
           "trajectory": "traces_granger",
           "value": 2.3357820273234786
          },
          {
           "sample_id": 0,
           "timepoint": 11,
           "trajectory": "traces_granger",
           "value": 2.504261556285828
          },
          {
           "sample_id": 0,
           "timepoint": 12,
           "trajectory": "traces_granger",
           "value": 2.5724094743404198
          },
          {
           "sample_id": 0,
           "timepoint": 13,
           "trajectory": "traces_granger",
           "value": 2.631924232994656
          },
          {
           "sample_id": 0,
           "timepoint": 14,
           "trajectory": "traces_granger",
           "value": 2.76556278528891
          },
          {
           "sample_id": 0,
           "timepoint": 15,
           "trajectory": "traces_granger",
           "value": 2.7753432228371184
          },
          {
           "sample_id": 0,
           "timepoint": 16,
           "trajectory": "traces_granger",
           "value": 2.7786681249369694
          },
          {
           "sample_id": 0,
           "timepoint": 17,
           "trajectory": "traces_granger",
           "value": 2.9108698226640186
          },
          {
           "sample_id": 0,
           "timepoint": 18,
           "trajectory": "traces_granger",
           "value": 2.858880780784532
          },
          {
           "sample_id": 0,
           "timepoint": 19,
           "trajectory": "traces_granger",
           "value": 2.898057733646619
          },
          {
           "sample_id": 0,
           "timepoint": 20,
           "trajectory": "traces_granger",
           "value": 2.911390373845213
          },
          {
           "sample_id": 0,
           "timepoint": 21,
           "trajectory": "traces_granger",
           "value": 2.891943291710057
          },
          {
           "sample_id": 0,
           "timepoint": 22,
           "trajectory": "traces_granger",
           "value": 2.91984390409537
          },
          {
           "sample_id": 0,
           "timepoint": 23,
           "trajectory": "traces_granger",
           "value": 2.93451334158601
          },
          {
           "sample_id": 0,
           "timepoint": 24,
           "trajectory": "traces_granger",
           "value": 2.8972842540525217
          },
          {
           "sample_id": 0,
           "timepoint": 25,
           "trajectory": "traces_granger",
           "value": 2.87775068817694
          },
          {
           "sample_id": 0,
           "timepoint": 26,
           "trajectory": "traces_granger",
           "value": 2.861710607816434
          },
          {
           "sample_id": 0,
           "timepoint": 27,
           "trajectory": "traces_granger",
           "value": 2.816956763247436
          },
          {
           "sample_id": 0,
           "timepoint": 28,
           "trajectory": "traces_granger",
           "value": 2.818921461785873
          },
          {
           "sample_id": 0,
           "timepoint": 29,
           "trajectory": "traces_granger",
           "value": 2.6959439710095694
          },
          {
           "sample_id": 0,
           "timepoint": 30,
           "trajectory": "traces_granger",
           "value": 2.704294519353991
          },
          {
           "sample_id": 0,
           "timepoint": 31,
           "trajectory": "traces_granger",
           "value": 2.622496085854379
          },
          {
           "sample_id": 0,
           "timepoint": 32,
           "trajectory": "traces_granger",
           "value": 2.590648407185598
          },
          {
           "sample_id": 0,
           "timepoint": 33,
           "trajectory": "traces_granger",
           "value": 2.537037129616872
          },
          {
           "sample_id": 0,
           "timepoint": 34,
           "trajectory": "traces_granger",
           "value": 2.4744407951493743
          },
          {
           "sample_id": 0,
           "timepoint": 35,
           "trajectory": "traces_granger",
           "value": 2.4082004632184657
          },
          {
           "sample_id": 0,
           "timepoint": 36,
           "trajectory": "traces_granger",
           "value": 2.3599358595226416
          },
          {
           "sample_id": 0,
           "timepoint": 37,
           "trajectory": "traces_granger",
           "value": 2.318302960078704
          },
          {
           "sample_id": 0,
           "timepoint": 38,
           "trajectory": "traces_granger",
           "value": 2.232987202021511
          },
          {
           "sample_id": 0,
           "timepoint": 39,
           "trajectory": "traces_granger",
           "value": 2.165985813711504
          },
          {
           "sample_id": 0,
           "timepoint": 40,
           "trajectory": "traces_granger",
           "value": 2.145380700419197
          },
          {
           "sample_id": 0,
           "timepoint": 41,
           "trajectory": "traces_granger",
           "value": 2.102593521122018
          },
          {
           "sample_id": 0,
           "timepoint": 42,
           "trajectory": "traces_granger",
           "value": 2.030847601273106
          },
          {
           "sample_id": 0,
           "timepoint": 43,
           "trajectory": "traces_granger",
           "value": 1.999827495816515
          },
          {
           "sample_id": 0,
           "timepoint": 44,
           "trajectory": "traces_granger",
           "value": 1.95103971576743
          },
          {
           "sample_id": 0,
           "timepoint": 45,
           "trajectory": "traces_granger",
           "value": 1.952160761018808
          },
          {
           "sample_id": 0,
           "timepoint": 46,
           "trajectory": "traces_granger",
           "value": 1.891600092155276
          },
          {
           "sample_id": 0,
           "timepoint": 47,
           "trajectory": "traces_granger",
           "value": 1.8535305873417196
          },
          {
           "sample_id": 0,
           "timepoint": 48,
           "trajectory": "traces_granger",
           "value": 1.8180296696697595
          },
          {
           "sample_id": 0,
           "timepoint": 49,
           "trajectory": "traces_granger",
           "value": 1.837386776855913
          },
          {
           "sample_id": 0,
           "timepoint": 50,
           "trajectory": "traces_granger",
           "value": 1.8109906139032208
          },
          {
           "sample_id": 0,
           "timepoint": 51,
           "trajectory": "traces_granger",
           "value": 1.7407084259148302
          },
          {
           "sample_id": 0,
           "timepoint": 52,
           "trajectory": "traces_granger",
           "value": 1.7993113433657577
          },
          {
           "sample_id": 0,
           "timepoint": 53,
           "trajectory": "traces_granger",
           "value": 1.9448160198389617
          },
          {
           "sample_id": 0,
           "timepoint": 54,
           "trajectory": "traces_granger",
           "value": 1.811659123773504
          },
          {
           "sample_id": 0,
           "timepoint": 55,
           "trajectory": "traces_granger",
           "value": 1.829429212203812
          },
          {
           "sample_id": 0,
           "timepoint": 56,
           "trajectory": "traces_granger",
           "value": 1.8725651488905235
          },
          {
           "sample_id": 0,
           "timepoint": 57,
           "trajectory": "traces_granger",
           "value": 1.9087690527306835
          },
          {
           "sample_id": 0,
           "timepoint": 58,
           "trajectory": "traces_granger",
           "value": 1.9380355154614055
          },
          {
           "sample_id": 0,
           "timepoint": 59,
           "trajectory": "traces_granger",
           "value": 1.995745657640609
          },
          {
           "sample_id": 0,
           "timepoint": 60,
           "trajectory": "traces_granger",
           "value": 2.183164329593871
          },
          {
           "sample_id": 0,
           "timepoint": 61,
           "trajectory": "traces_granger",
           "value": 2.0789495851687025
          },
          {
           "sample_id": 0,
           "timepoint": 62,
           "trajectory": "traces_granger",
           "value": 2.164673652122789
          },
          {
           "sample_id": 0,
           "timepoint": 63,
           "trajectory": "traces_granger",
           "value": 2.2423417455915424
          },
          {
           "sample_id": 0,
           "timepoint": 64,
           "trajectory": "traces_granger",
           "value": 2.303549387847236
          },
          {
           "sample_id": 0,
           "timepoint": 65,
           "trajectory": "traces_granger",
           "value": 2.371088231008822
          },
          {
           "sample_id": 0,
           "timepoint": 66,
           "trajectory": "traces_granger",
           "value": 2.465471426720645
          },
          {
           "sample_id": 0,
           "timepoint": 67,
           "trajectory": "traces_granger",
           "value": 2.517067884527194
          },
          {
           "sample_id": 0,
           "timepoint": 68,
           "trajectory": "traces_granger",
           "value": 2.616169190105409
          },
          {
           "sample_id": 0,
           "timepoint": 69,
           "trajectory": "traces_granger",
           "value": 2.698270570967259
          },
          {
           "sample_id": 0,
           "timepoint": 70,
           "trajectory": "traces_granger",
           "value": 2.7906551621924907
          },
          {
           "sample_id": 0,
           "timepoint": 71,
           "trajectory": "traces_granger",
           "value": 2.9351567589464502
          },
          {
           "sample_id": 0,
           "timepoint": 72,
           "trajectory": "traces_granger",
           "value": 2.956481391468648
          },
          {
           "sample_id": 0,
           "timepoint": 73,
           "trajectory": "traces_granger",
           "value": 3.1144990051085544
          },
          {
           "sample_id": 0,
           "timepoint": 74,
           "trajectory": "traces_granger",
           "value": 3.1141383533340745
          },
          {
           "sample_id": 0,
           "timepoint": 75,
           "trajectory": "traces_granger",
           "value": 3.203167281452316
          },
          {
           "sample_id": 0,
           "timepoint": 76,
           "trajectory": "traces_granger",
           "value": 3.2596936827352825
          },
          {
           "sample_id": 0,
           "timepoint": 77,
           "trajectory": "traces_granger",
           "value": 3.3551887140281
          },
          {
           "sample_id": 0,
           "timepoint": 78,
           "trajectory": "traces_granger",
           "value": 3.426415968901342
          },
          {
           "sample_id": 0,
           "timepoint": 79,
           "trajectory": "traces_granger",
           "value": 3.492968221050995
          },
          {
           "sample_id": 0,
           "timepoint": 80,
           "trajectory": "traces_granger",
           "value": 3.5823995865680063
          },
          {
           "sample_id": 0,
           "timepoint": 81,
           "trajectory": "traces_granger",
           "value": 3.60438042402336
          },
          {
           "sample_id": 0,
           "timepoint": 82,
           "trajectory": "traces_granger",
           "value": 3.699710609776431
          },
          {
           "sample_id": 0,
           "timepoint": 83,
           "trajectory": "traces_granger",
           "value": 3.720685684066592
          },
          {
           "sample_id": 0,
           "timepoint": 84,
           "trajectory": "traces_granger",
           "value": 3.767175551407193
          },
          {
           "sample_id": 0,
           "timepoint": 85,
           "trajectory": "traces_granger",
           "value": 3.8563789755628712
          },
          {
           "sample_id": 0,
           "timepoint": 86,
           "trajectory": "traces_granger",
           "value": 3.838960756984804
          },
          {
           "sample_id": 0,
           "timepoint": 87,
           "trajectory": "traces_granger",
           "value": 3.844727736497023
          },
          {
           "sample_id": 0,
           "timepoint": 88,
           "trajectory": "traces_granger",
           "value": 3.872229950589889
          },
          {
           "sample_id": 0,
           "timepoint": 89,
           "trajectory": "traces_granger",
           "value": 3.897327220746592
          },
          {
           "sample_id": 0,
           "timepoint": 90,
           "trajectory": "traces_granger",
           "value": 3.859995814918669
          },
          {
           "sample_id": 0,
           "timepoint": 91,
           "trajectory": "traces_granger",
           "value": 3.920459283065117
          },
          {
           "sample_id": 0,
           "timepoint": 92,
           "trajectory": "traces_granger",
           "value": 3.944207211351984
          },
          {
           "sample_id": 0,
           "timepoint": 93,
           "trajectory": "traces_granger",
           "value": 3.866552317155844
          },
          {
           "sample_id": 0,
           "timepoint": 94,
           "trajectory": "traces_granger",
           "value": 3.954597637534128
          },
          {
           "sample_id": 0,
           "timepoint": 95,
           "trajectory": "traces_granger",
           "value": 3.818224593593391
          },
          {
           "sample_id": 0,
           "timepoint": 96,
           "trajectory": "traces_granger",
           "value": 3.7856737814067634
          },
          {
           "sample_id": 0,
           "timepoint": 97,
           "trajectory": "traces_granger",
           "value": 3.748347067282644
          },
          {
           "sample_id": 0,
           "timepoint": 98,
           "trajectory": "traces_granger",
           "value": 3.714562159214347
          },
          {
           "sample_id": 0,
           "timepoint": 99,
           "trajectory": "traces_granger",
           "value": 3.668248466174894
          }
         ]
        },
        {
         "name": "points",
         "values": []
        },
        {
         "name": "markers",
         "values": []
        },
        {
         "name": "selected",
         "on": [
          {
           "remove": true,
           "trigger": "clear"
          },
          {
           "remove": true,
           "trigger": "!shift"
          },
          {
           "insert": "clicked",
           "trigger": "!shift && clicked"
          },
          {
           "toggle": "clicked",
           "trigger": "shift && clicked"
          }
         ]
        },
        {
         "name": "selectedData",
         "on": [
          {
           "remove": true,
           "trigger": "clearData"
          },
          {
           "toggle": "clickedData",
           "trigger": "clickedData"
          }
         ]
        }
       ],
       "height": 300,
       "legends": [
        {
         "encode": {
          "labels": {
           "interactive": true,
           "name": "legendLabel",
           "update": {
            "opacity": [
             {
              "test": "!length(data('selectedData')) || indata('selectedData', 'value', datum.value)",
              "value": 1
             },
             {
              "value": 0.25
             }
            ]
           }
          },
          "symbols": {
           "interactive": true,
           "name": "legendSymbol",
           "update": {
            "fill": {
             "value": "transparent"
            },
            "opacity": [
             {
              "test": "!length(data('selected')) || indata('selected', 'value', datum.value) || indata('selectedData', 'value', datum.value)",
              "value": 0.7
             },
             {
              "value": 0.15
             }
            ],
            "size": {
             "value": 64
            },
            "strokeWidth": {
             "value": 2
            }
           }
          }
         },
         "name": "color_legend",
         "stroke": "color"
        }
       ],
       "marks": [
        {
         "from": {
          "facet": {
           "data": "points",
           "groupby": "trajectory",
           "name": "points_split"
          }
         },
         "marks": [
          {
           "encode": {
            "hover": {
             "fillOpacity": {
              "value": 0.9
             }
            },
            "update": {
             "fill": {
              "field": "trajectory",
              "scale": "color"
             },
             "fillOpacity": [
              {
               "test": "!length(data('selected')) || indata('selected', 'value', datum.trajectory)",
               "value": 0.5
              },
              {
               "value": 0.15
              }
             ],
             "size": {
              "value": 35
             },
             "stroke": {
              "field": "trajectory",
              "scale": "color"
             },
             "strokeOpacity": [
              {
               "test": "!length(data('selected')) || indata('selected', 'value', datum.trajectory)",
               "value": 0.75
              },
              {
               "value": 0.15
              }
             ],
             "strokeWidth": {
              "value": 2
             },
             "tooltip": {
              "field": "value"
             },
             "x": {
              "field": "timepoint",
              "scale": "xscale"
             },
             "y": {
              "field": "value",
              "scale": "yscale"
             }
            }
           },
           "from": {
            "data": "points_split"
           },
           "name": "_points_symbol",
           "type": "symbol",
           "zindex": 3
          },
          {
           "encode": {
            "hover": {
             "fillOpacity": {
              "value": 0.9
             }
            },
            "update": {
             "interpolate": {
              "value": "linear"
             },
             "stroke": {
              "field": "trajectory",
              "scale": "color"
             },
             "strokeDash": {
              "value": [
               5,
               3
              ]
             },
             "strokeOpacity": [
              {
               "test": "!length(data('selected')) || indata('selected', 'value', datum.trajectory)",
               "value": 0.3
              },
              {
               "value": 0.1
              }
             ],
             "strokeWidth": {
              "value": 2
             },
             "x": {
              "field": "timepoint",
              "scale": "xscale"
             },
             "y": {
              "field": "value",
              "scale": "yscale"
             }
            }
           },
           "from": {
            "data": "points_split"
           },
           "name": "_points_line",
           "type": "line",
           "zindex": 3
          }
         ],
         "name": "_points",
         "type": "group",
         "zindex": 3
        },
        {
         "from": {
          "facet": {
           "data": "traces",
           "groupby": "trajectory",
           "name": "traces_split"
          }
         },
         "marks": [
          {
           "encode": {
            "hover": {
             "fillOpacity": {
              "value": 0.9
             }
            },
            "update": {
             "interpolate": {
              "value": "linear"
             },
             "stroke": {
              "field": "trajectory",
              "scale": "color"
             },
             "strokeOpacity": [
              {
               "test": "!length(data('selected')) || indata('selected', 'value', datum.trajectory)",
               "value": 0.75
              },
              {
               "value": 0.15
              }
             ],
             "strokeWidth": {
              "value": 2
             },
             "x": {
              "field": "timepoint",
              "scale": "xscale"
             },
             "y": {
              "field": "value",
              "scale": "yscale"
             }
            }
           },
           "from": {
            "data": "traces_split"
           },
           "name": "_traces_lines",
           "type": "line"
          }
         ],
         "name": "_traces",
         "type": "group",
         "zindex": 2
        },
        {
         "from": {
          "facet": {
           "data": "distributions",
           "groupby": "trajectory",
           "name": "trajectory_split"
          }
         },
         "marks": [
          {
           "encode": {
            "hover": {
             "fillOpacity": {
              "value": 0.9
             }
            },
            "update": {
             "fill": {
              "field": "trajectory",
              "scale": "color"
             },
             "fillOpacity": [
              {
               "test": "!length(data('selected')) || indata('selected', 'value', datum.trajectory)",
               "value": 0.5
              },
              {
               "value": 0.15
              }
             ],
             "interpolate": {
              "value": "linear"
             },
             "stroke": {
              "field": "trajectory",
              "scale": "color"
             },
             "strokeOpacity": [
              {
               "test": "!length(data('selected')) || indata('selected', 'value', datum.trajectory)",
               "value": 0.75
              },
              {
               "value": 0.15
              }
             ],
             "strokeWidth": {
              "value": 2
             },
             "x": {
              "field": "timepoint",
              "scale": "xscale"
             },
             "y": {
              "field": "upper",
              "scale": "yscale"
             },
             "y2": {
              "field": "lower",
              "scale": "yscale"
             }
            }
           },
           "from": {
            "data": "trajectory_split"
           },
           "interactive": true,
           "name": "area",
           "type": "area"
          }
         ],
         "name": "_distributions",
         "type": "group",
         "zindex": 1
        },
        {
         "marks": [
          {
           "encode": {
            "enter": {
             "stroke": {
              "value": "lightgray"
             }
            },
            "update": {
             "opacity": {
              "value": 1
             },
             "x": {
              "field": "timepoint",
              "scale": "xscale"
             },
             "y": {
              "signal": "height"
             },
             "y2": {
              "value": 0
             }
            }
           },
           "from": {
            "data": "markers"
           },
           "name": "_marker text",
           "type": "rule"
          },
          {
           "encode": {
            "enter": {
             "fontSize": {
              "value": 8
             },
             "text": {
              "field": "datum.label"
             },
             "y": {
              "value": 0
             }
            }
           },
           "from": {
            "data": "_marker text"
           },
           "name": "_marker flags",
           "transform": [
            {
             "as": [
              "x",
              "_y",
              "opacity",
              "align",
              "baseline"
             ],
             "lineAnchor": "start",
             "offset": [
              1
             ],
             "size": {
              "signal": "[width, height]"
             },
             "type": "label"
            }
           ],
           "type": "text"
          }
         ],
         "name": "_markers",
         "type": "group"
        }
       ],
       "scales": [
        {
         "domain": {
          "fields": [
           {
            "data": "distributions",
            "field": "timepoint"
           },
           {
            "data": "traces",
            "field": "timepoint"
           },
           {
            "data": "points",
            "field": "timepoint"
           },
           {
            "data": "markers",
            "field": "timepoint"
           }
          ]
         },
         "name": "xscale",
         "range": "width",
         "type": "linear",
         "zero": false
        },
        {
         "domain": {
          "fields": [
           {
            "data": "distributions",
            "field": "lower"
           },
           {
            "data": "distributions",
            "field": "upper"
           },
           {
            "data": "traces",
            "field": "value"
           },
           {
            "data": "points",
            "field": "value"
           }
          ]
         },
         "name": "yscale",
         "nice": true,
         "range": "height",
         "type": "linear",
         "zero": true
        },
        {
         "domain": {
          "fields": [
           {
            "data": "distributions",
            "field": "trajectory"
           },
           {
            "data": "traces",
            "field": "trajectory"
           },
           {
            "data": "points",
            "field": "trajectory"
           }
          ],
          "sort": {
           "order": "ascending"
          }
         },
         "name": "color",
         "range": "category",
         "type": "ordinal"
        }
       ],
       "signals": [
        {
         "name": "clear",
         "on": [
          {
           "events": "mouseup[!event.item]",
           "force": true,
           "update": "true"
          }
         ],
         "value": true
        },
        {
         "name": "shift",
         "on": [
          {
           "events": "@legendSymbol:click, @legendLabel:click",
           "force": true,
           "update": "event.shiftKey"
          }
         ],
         "value": false
        },
        {
         "name": "clicked",
         "on": [
          {
           "events": "@legendSymbol:click, @legendLabel:click",
           "force": true,
           "update": "{value: datum.value}"
          }
         ],
         "value": null
        },
        {
         "name": "clearData",
         "on": [
          {
           "events": "mouseup[!event.item]",
           "force": true,
           "update": "true"
          }
         ],
         "value": true
        },
        {
         "name": "clickedData",
         "on": [
          {
           "events": "@area:click",
           "force": true,
           "update": "{value: datum.trajectory}"
          }
         ],
         "value": null
        }
       ],
       "width": 500
      }
     },
     "metadata": {},
     "output_type": "display_data"
    }
   ],
   "source": [
    "#'timepoint_id', 'sample_id'\n",
    "sin_distribution = pd.read_csv(\"paper_sin/paper_sin_new_df.csv\")\n",
    "sin_distribution = sin_distribution.rename(\n",
    "            columns={\n",
    "                'Unnamed: 0': \"timepoint_id\",\n",
    "            }\n",
    "        )\n",
    "sin_distribution = sin_distribution.melt(id_vars=[\"timepoint_id\"], \n",
    "        var_name=\"sample_id\", \n",
    "        value_name=\"same_stat_state\")\n",
    "\n",
    "\n",
    "traces = pyciemss.visuals.trajectories.select_traces(sin_distribution, select_by = \"mean\")\n",
    "traces = traces.rename(\n",
    "            columns={\n",
    "                'same_stat_state': \"traces_mean\",\n",
    "            }\n",
    "        )\n",
    "traces['traces_var'] = pyciemss.visuals.trajectories.select_traces(sin_distribution, select_by = \"var\")[\"same_stat_state\"]\n",
    "traces['traces_granger'] = pyciemss.visuals.trajectories.select_traces(sin_distribution, select_by = \"granger\")[\"same_stat_state\"]\n",
    "schema = plots.trajectories(sin_distribution, traces = traces)\n",
    "print(traces_var)\n",
    "plots.save_schema(schema, \"_schema.json\")\n",
    "\n",
    "plots.ipy_display(schema, format=\"interactive\")\n",
    "image = plots.ipy_display(schema, format=\"PNG\").data\n",
    "save_result(image, \"paper_sin\", \"png\")"
   ]
  },
  {
   "cell_type": "code",
   "execution_count": 121,
   "metadata": {},
   "outputs": [
    {
     "name": "stdout",
     "output_type": "stream",
     "text": [
      "\n",
      "Granger Causality\n",
      "number of lags (no zero) 10\n",
      "ssr based F test:         F=-7.8988 , p=1.0000  , df_denom=79, df_num=10\n",
      "ssr based chi2 test:   chi2=-89.9865, p=1.0000  , df=10\n",
      "likelihood ratio test: chi2=-792.3666, p=1.0000  , df=10\n",
      "parameter F test:         F=9832.5499, p=0.0000  , df_denom=79, df_num=6\n",
      "\n",
      "Granger Causality\n",
      "number of lags (no zero) 10\n",
      "ssr based F test:         F=-7.8986 , p=1.0000  , df_denom=79, df_num=10\n",
      "ssr based chi2 test:   chi2=-89.9844, p=1.0000  , df=10\n",
      "likelihood ratio test: chi2=-779.4979, p=1.0000  , df=10\n",
      "parameter F test:         F=11157.7647, p=0.0000  , df_denom=79, df_num=6\n",
      "\n",
      "Granger Causality\n",
      "number of lags (no zero) 10\n",
      "ssr based F test:         F=-7.1956 , p=1.0000  , df_denom=79, df_num=10\n",
      "ssr based chi2 test:   chi2=-81.9749, p=1.0000  , df=10\n",
      "likelihood ratio test: chi2=-217.5511, p=1.0000  , df=10\n",
      "parameter F test:         F=5832969.5496, p=0.0000  , df_denom=79, df_num=6\n",
      "\n",
      "Granger Causality\n",
      "number of lags (no zero) 10\n",
      "ssr based F test:         F=-7.8954 , p=1.0000  , df_denom=79, df_num=10\n",
      "ssr based chi2 test:   chi2=-89.9471, p=1.0000  , df=10\n",
      "likelihood ratio test: chi2=-669.4455, p=1.0000  , df=10\n",
      "parameter F test:         F=38419.4781, p=0.0000  , df_denom=79, df_num=6\n",
      "\n",
      "Granger Causality\n",
      "number of lags (no zero) 10\n",
      "ssr based F test:         F=-7.0081 , p=1.0000  , df_denom=79, df_num=10\n",
      "ssr based chi2 test:   chi2=-79.8391, p=1.0000  , df=10\n",
      "likelihood ratio test: chi2=-196.3140, p=1.0000  , df=10\n",
      "parameter F test:         F=7352486.2257, p=0.0000  , df_denom=79, df_num=6\n",
      "\n",
      "Granger Causality\n",
      "number of lags (no zero) 10\n",
      "ssr based F test:         F=-7.8299 , p=1.0000  , df_denom=79, df_num=10\n",
      "ssr based chi2 test:   chi2=-89.2018, p=1.0000  , df=10\n",
      "likelihood ratio test: chi2=-425.2682, p=1.0000  , df=10\n",
      "parameter F test:         F=585936.3919, p=0.0000  , df_denom=79, df_num=6\n",
      "\n",
      "Granger Causality\n",
      "number of lags (no zero) 10\n",
      "ssr based F test:         F=-7.8917 , p=1.0000  , df_denom=79, df_num=10\n",
      "ssr based chi2 test:   chi2=-89.9055, p=1.0000  , df=10\n",
      "likelihood ratio test: chi2=-617.3006, p=1.0000  , df=10\n",
      "parameter F test:         F=68711.8970, p=0.0000  , df_denom=79, df_num=6\n",
      "\n",
      "Granger Causality\n",
      "number of lags (no zero) 10\n",
      "ssr based F test:         F=-7.8986 , p=1.0000  , df_denom=79, df_num=10\n",
      "ssr based chi2 test:   chi2=-89.9835, p=1.0000  , df=10\n",
      "likelihood ratio test: chi2=-774.4186, p=1.0000  , df=10\n",
      "parameter F test:         F=11877.9506, p=0.0000  , df_denom=79, df_num=6\n",
      "\n",
      "Granger Causality\n",
      "number of lags (no zero) 10\n",
      "ssr based F test:         F=-7.8683 , p=1.0000  , df_denom=79, df_num=10\n",
      "ssr based chi2 test:   chi2=-89.6390, p=1.0000  , df=10\n",
      "likelihood ratio test: chi2=-496.6730, p=1.0000  , df=10\n",
      "parameter F test:         F=264872.7016, p=0.0000  , df_denom=79, df_num=6\n",
      "\n",
      "Granger Causality\n",
      "number of lags (no zero) 10\n",
      "ssr based F test:         F=-7.7357 , p=1.0000  , df_denom=79, df_num=10\n",
      "ssr based chi2 test:   chi2=-88.1277, p=1.0000  , df=10\n",
      "likelihood ratio test: chi2=-348.5391, p=1.0000  , df=10\n",
      "parameter F test:         F=1350920.2818, p=0.0000  , df_denom=79, df_num=6\n",
      "\n",
      "Granger Causality\n",
      "number of lags (no zero) 10\n",
      "ssr based F test:         F=-7.8988 , p=1.0000  , df_denom=79, df_num=10\n",
      "ssr based chi2 test:   chi2=-89.9864, p=1.0000  , df=10\n",
      "likelihood ratio test: chi2=-791.5124, p=1.0000  , df=10\n",
      "parameter F test:         F=9943.3997, p=0.0000  , df_denom=79, df_num=6\n",
      "\n",
      "Granger Causality\n",
      "number of lags (no zero) 10\n",
      "ssr based F test:         F=-7.8690 , p=1.0000  , df_denom=79, df_num=10\n",
      "ssr based chi2 test:   chi2=-89.6472, p=1.0000  , df=10\n",
      "likelihood ratio test: chi2=-498.7419, p=1.0000  , df=10\n",
      "parameter F test:         F=256017.7175, p=0.0000  , df_denom=79, df_num=6\n",
      "\n",
      "Granger Causality\n",
      "number of lags (no zero) 10\n",
      "ssr based F test:         F=-7.8220 , p=1.0000  , df_denom=79, df_num=10\n",
      "ssr based chi2 test:   chi2=-89.1118, p=1.0000  , df=10\n",
      "likelihood ratio test: chi2=-415.6530, p=1.0000  , df=10\n",
      "parameter F test:         F=644554.9546, p=0.0000  , df_denom=79, df_num=6\n",
      "\n",
      "Granger Causality\n",
      "number of lags (no zero) 10\n",
      "ssr based F test:         F=-7.8993 , p=1.0000  , df_denom=79, df_num=10\n",
      "ssr based chi2 test:   chi2=-89.9922, p=1.0000  , df=10\n",
      "likelihood ratio test: chi2=-842.1999, p=1.0000  , df=10\n",
      "parameter F test:         F=5642.0841, p=0.0000  , df_denom=79, df_num=6\n",
      "\n",
      "Granger Causality\n",
      "number of lags (no zero) 10\n",
      "ssr based F test:         F=-7.8982 , p=1.0000  , df_denom=79, df_num=10\n",
      "ssr based chi2 test:   chi2=-89.9798, p=1.0000  , df=10\n",
      "likelihood ratio test: chi2=-755.9570, p=1.0000  , df=10\n",
      "parameter F test:         F=14591.8147, p=0.0000  , df_denom=79, df_num=6\n",
      "\n",
      "Granger Causality\n",
      "number of lags (no zero) 10\n",
      "ssr based F test:         F=-7.7447 , p=1.0000  , df_denom=79, df_num=10\n",
      "ssr based chi2 test:   chi2=-88.2309, p=1.0000  , df=10\n",
      "likelihood ratio test: chi2=-353.6395, p=1.0000  , df=10\n",
      "parameter F test:         F=1275443.2450, p=0.0000  , df_denom=79, df_num=6\n",
      "\n",
      "Granger Causality\n",
      "number of lags (no zero) 10\n",
      "ssr based F test:         F=-7.8966 , p=1.0000  , df_denom=79, df_num=10\n",
      "ssr based chi2 test:   chi2=-89.9613, p=1.0000  , df=10\n",
      "likelihood ratio test: chi2=-697.6097, p=1.0000  , df=10\n",
      "parameter F test:         F=28200.5735, p=0.0000  , df_denom=79, df_num=6\n",
      "\n",
      "Granger Causality\n",
      "number of lags (no zero) 10\n",
      "ssr based F test:         F=-7.8996 , p=1.0000  , df_denom=79, df_num=10\n",
      "ssr based chi2 test:   chi2=-89.9952, p=1.0000  , df=10\n",
      "likelihood ratio test: chi2=-885.0585, p=1.0000  , df=10\n",
      "parameter F test:         F=3505.5855, p=0.0000  , df_denom=79, df_num=6\n",
      "\n",
      "Granger Causality\n",
      "number of lags (no zero) 10\n",
      "ssr based F test:         F=-7.8980 , p=1.0000  , df_denom=79, df_num=10\n",
      "ssr based chi2 test:   chi2=-89.9772, p=1.0000  , df=10\n",
      "likelihood ratio test: chi2=-745.3185, p=1.0000  , df=10\n",
      "parameter F test:         F=16565.1261, p=0.0000  , df_denom=79, df_num=6\n",
      "\n",
      "Granger Causality\n",
      "number of lags (no zero) 10\n",
      "ssr based F test:         F=-7.8977 , p=1.0000  , df_denom=79, df_num=10\n",
      "ssr based chi2 test:   chi2=-89.9737, p=1.0000  , df=10\n",
      "likelihood ratio test: chi2=-732.5792, p=1.0000  , df=10\n",
      "parameter F test:         F=19075.3554, p=0.0000  , df_denom=79, df_num=6\n",
      "\n",
      "Granger Causality\n",
      "number of lags (no zero) 10\n",
      "ssr based F test:         F=-7.8719 , p=1.0000  , df_denom=79, df_num=10\n",
      "ssr based chi2 test:   chi2=-89.6801, p=1.0000  , df=10\n",
      "likelihood ratio test: chi2=-507.5518, p=1.0000  , df=10\n",
      "parameter F test:         F=232548.3759, p=0.0000  , df_denom=79, df_num=6\n",
      "\n",
      "Granger Causality\n",
      "number of lags (no zero) 10\n",
      "ssr based F test:         F=-7.8828 , p=1.0000  , df_denom=79, df_num=10\n",
      "ssr based chi2 test:   chi2=-89.8036, p=1.0000  , df=10\n",
      "likelihood ratio test: chi2=-551.4507, p=1.0000  , df=10\n",
      "parameter F test:         F=143979.4314, p=0.0000  , df_denom=79, df_num=6\n",
      "\n",
      "Granger Causality\n",
      "number of lags (no zero) 10\n",
      "ssr based F test:         F=-7.8930 , p=1.0000  , df_denom=79, df_num=10\n",
      "ssr based chi2 test:   chi2=-89.9205, p=1.0000  , df=10\n",
      "likelihood ratio test: chi2=-632.8999, p=1.0000  , df=10\n",
      "parameter F test:         F=57069.8480, p=0.0000  , df_denom=79, df_num=6\n",
      "\n",
      "Granger Causality\n",
      "number of lags (no zero) 10\n",
      "ssr based F test:         F=-7.8994 , p=1.0000  , df_denom=79, df_num=10\n",
      "ssr based chi2 test:   chi2=-89.9929, p=1.0000  , df=10\n",
      "likelihood ratio test: chi2=-849.8138, p=1.0000  , df=10\n",
      "parameter F test:         F=5141.8738, p=0.0000  , df_denom=79, df_num=6\n",
      "\n",
      "Granger Causality\n",
      "number of lags (no zero) 10\n",
      "ssr based F test:         F=-7.8091 , p=1.0000  , df_denom=79, df_num=10\n",
      "ssr based chi2 test:   chi2=-88.9641, p=1.0000  , df=10\n",
      "likelihood ratio test: chi2=-401.8082, p=1.0000  , df=10\n",
      "parameter F test:         F=747129.8063, p=0.0000  , df_denom=79, df_num=6\n",
      "\n",
      "Granger Causality\n",
      "number of lags (no zero) 10\n",
      "ssr based F test:         F=-7.8828 , p=1.0000  , df_denom=79, df_num=10\n",
      "ssr based chi2 test:   chi2=-89.8045, p=1.0000  , df=10\n",
      "likelihood ratio test: chi2=-551.8676, p=1.0000  , df=10\n",
      "parameter F test:         F=141903.9972, p=0.0000  , df_denom=79, df_num=6\n",
      "\n",
      "Granger Causality\n",
      "number of lags (no zero) 10\n",
      "ssr based F test:         F=-7.8985 , p=1.0000  , df_denom=79, df_num=10\n",
      "ssr based chi2 test:   chi2=-89.9832, p=1.0000  , df=10\n",
      "likelihood ratio test: chi2=-773.0240, p=1.0000  , df=10\n",
      "parameter F test:         F=12369.6093, p=0.0000  , df_denom=79, df_num=6\n",
      "\n",
      "Granger Causality\n",
      "number of lags (no zero) 10\n",
      "ssr based F test:         F=-7.8973 , p=1.0000  , df_denom=79, df_num=10\n",
      "ssr based chi2 test:   chi2=-89.9692, p=1.0000  , df=10\n",
      "likelihood ratio test: chi2=-718.0874, p=1.0000  , df=10\n",
      "parameter F test:         F=22427.9549, p=0.0000  , df_denom=79, df_num=6\n",
      "\n",
      "Granger Causality\n",
      "number of lags (no zero) 10\n",
      "ssr based F test:         F=-7.8954 , p=1.0000  , df_denom=79, df_num=10\n",
      "ssr based chi2 test:   chi2=-89.9471, p=1.0000  , df=10\n",
      "likelihood ratio test: chi2=-669.4975, p=1.0000  , df=10\n",
      "parameter F test:         F=38128.9050, p=0.0000  , df_denom=79, df_num=6\n",
      "\n",
      "Granger Causality\n",
      "number of lags (no zero) 10\n",
      "ssr based F test:         F=-7.8092 , p=1.0000  , df_denom=79, df_num=10\n",
      "ssr based chi2 test:   chi2=-88.9657, p=1.0000  , df=10\n",
      "likelihood ratio test: chi2=-401.9446, p=1.0000  , df=10\n",
      "parameter F test:         F=749241.5704, p=0.0000  , df_denom=79, df_num=6\n",
      "\n",
      "Granger Causality\n",
      "number of lags (no zero) 10\n",
      "ssr based F test:         F=-7.8898 , p=1.0000  , df_denom=79, df_num=10\n",
      "ssr based chi2 test:   chi2=-89.8834, p=1.0000  , df=10\n",
      "likelihood ratio test: chi2=-598.4058, p=1.0000  , df=10\n",
      "parameter F test:         F=84447.3976, p=0.0000  , df_denom=79, df_num=6\n",
      "\n",
      "Granger Causality\n",
      "number of lags (no zero) 10\n",
      "ssr based F test:         F=-7.8923 , p=1.0000  , df_denom=79, df_num=10\n",
      "ssr based chi2 test:   chi2=-89.9122, p=1.0000  , df=10\n",
      "likelihood ratio test: chi2=-623.9021, p=1.0000  , df=10\n",
      "parameter F test:         F=63423.1020, p=0.0000  , df_denom=79, df_num=6\n",
      "\n",
      "Granger Causality\n",
      "number of lags (no zero) 10\n",
      "ssr based F test:         F=-7.8914 , p=1.0000  , df_denom=79, df_num=10\n",
      "ssr based chi2 test:   chi2=-89.9025, p=1.0000  , df=10\n",
      "likelihood ratio test: chi2=-614.4608, p=1.0000  , df=10\n",
      "parameter F test:         F=70211.1091, p=0.0000  , df_denom=79, df_num=6\n",
      "\n",
      "Granger Causality\n",
      "number of lags (no zero) 10\n",
      "ssr based F test:         F=-7.8963 , p=1.0000  , df_denom=79, df_num=10\n",
      "ssr based chi2 test:   chi2=-89.9578, p=1.0000  , df=10\n",
      "likelihood ratio test: chi2=-689.9177, p=1.0000  , df=10\n",
      "parameter F test:         F=30308.7586, p=0.0000  , df_denom=79, df_num=6\n",
      "\n",
      "Granger Causality\n",
      "number of lags (no zero) 10\n",
      "ssr based F test:         F=-7.8987 , p=1.0000  , df_denom=79, df_num=10\n",
      "ssr based chi2 test:   chi2=-89.9856, p=1.0000  , df=10\n",
      "likelihood ratio test: chi2=-786.9152, p=1.0000  , df=10\n",
      "parameter F test:         F=10501.1617, p=0.0000  , df_denom=79, df_num=6\n",
      "\n",
      "Granger Causality\n",
      "number of lags (no zero) 10\n",
      "ssr based F test:         F=-7.7284 , p=1.0000  , df_denom=79, df_num=10\n",
      "ssr based chi2 test:   chi2=-88.0446, p=1.0000  , df=10\n",
      "likelihood ratio test: chi2=-344.6306, p=1.0000  , df=10\n",
      "parameter F test:         F=1419226.4771, p=0.0000  , df_denom=79, df_num=6\n",
      "\n",
      "Granger Causality\n",
      "number of lags (no zero) 10\n",
      "ssr based F test:         F=-7.8968 , p=1.0000  , df_denom=79, df_num=10\n",
      "ssr based chi2 test:   chi2=-89.9640, p=1.0000  , df=10\n",
      "likelihood ratio test: chi2=-704.2337, p=1.0000  , df=10\n",
      "parameter F test:         F=26299.3190, p=0.0000  , df_denom=79, df_num=6\n",
      "\n",
      "Granger Causality\n",
      "number of lags (no zero) 10\n",
      "ssr based F test:         F=-7.8909 , p=1.0000  , df_denom=79, df_num=10\n",
      "ssr based chi2 test:   chi2=-89.8964, p=1.0000  , df=10\n",
      "likelihood ratio test: chi2=-609.0122, p=1.0000  , df=10\n",
      "parameter F test:         F=74699.5470, p=0.0000  , df_denom=79, df_num=6\n",
      "\n",
      "Granger Causality\n",
      "number of lags (no zero) 10\n",
      "ssr based F test:         F=-7.8800 , p=1.0000  , df_denom=79, df_num=10\n",
      "ssr based chi2 test:   chi2=-89.7719, p=1.0000  , df=10\n",
      "likelihood ratio test: chi2=-537.9894, p=1.0000  , df=10\n",
      "parameter F test:         F=166885.2172, p=0.0000  , df_denom=79, df_num=6\n",
      "\n",
      "Granger Causality\n",
      "number of lags (no zero) 10\n",
      "ssr based F test:         F=-7.8899 , p=1.0000  , df_denom=79, df_num=10\n",
      "ssr based chi2 test:   chi2=-89.8846, p=1.0000  , df=10\n",
      "likelihood ratio test: chi2=-599.3295, p=1.0000  , df=10\n",
      "parameter F test:         F=83962.4764, p=0.0000  , df_denom=79, df_num=6\n",
      "\n",
      "Granger Causality\n",
      "number of lags (no zero) 10\n",
      "ssr based F test:         F=-7.8962 , p=1.0000  , df_denom=79, df_num=10\n",
      "ssr based chi2 test:   chi2=-89.9567, p=1.0000  , df=10\n",
      "likelihood ratio test: chi2=-687.4821, p=1.0000  , df=10\n",
      "parameter F test:         F=31593.5351, p=0.0000  , df_denom=79, df_num=6\n",
      "\n",
      "Granger Causality\n",
      "number of lags (no zero) 10\n",
      "ssr based F test:         F=-7.3295 , p=1.0000  , df_denom=79, df_num=10\n",
      "ssr based chi2 test:   chi2=-83.5010, p=1.0000  , df=10\n",
      "likelihood ratio test: chi2=-236.5349, p=1.0000  , df=10\n",
      "parameter F test:         F=4773642.2877, p=0.0000  , df_denom=79, df_num=6\n",
      "\n",
      "Granger Causality\n",
      "number of lags (no zero) 10\n",
      "ssr based F test:         F=-7.7983 , p=1.0000  , df_denom=79, df_num=10\n",
      "ssr based chi2 test:   chi2=-88.8414, p=1.0000  , df=10\n",
      "likelihood ratio test: chi2=-391.7368, p=1.0000  , df=10\n",
      "parameter F test:         F=840149.0148, p=0.0000  , df_denom=79, df_num=6\n",
      "\n",
      "Granger Causality\n",
      "number of lags (no zero) 10\n",
      "ssr based F test:         F=-7.8987 , p=1.0000  , df_denom=79, df_num=10\n",
      "ssr based chi2 test:   chi2=-89.9857, p=1.0000  , df=10\n",
      "likelihood ratio test: chi2=-787.2423, p=1.0000  , df=10\n",
      "parameter F test:         F=10388.1870, p=0.0000  , df_denom=79, df_num=6\n",
      "\n",
      "Granger Causality\n",
      "number of lags (no zero) 10\n",
      "ssr based F test:         F=-7.8971 , p=1.0000  , df_denom=79, df_num=10\n",
      "ssr based chi2 test:   chi2=-89.9669, p=1.0000  , df=10\n",
      "likelihood ratio test: chi2=-711.8376, p=1.0000  , df=10\n",
      "parameter F test:         F=24153.2399, p=0.0000  , df_denom=79, df_num=6\n",
      "\n",
      "Granger Causality\n",
      "number of lags (no zero) 10\n",
      "ssr based F test:         F=-7.8897 , p=1.0000  , df_denom=79, df_num=10\n",
      "ssr based chi2 test:   chi2=-89.8826, p=1.0000  , df=10\n",
      "likelihood ratio test: chi2=-597.8025, p=1.0000  , df=10\n",
      "parameter F test:         F=84847.3435, p=0.0000  , df_denom=79, df_num=6\n",
      "\n",
      "Granger Causality\n",
      "number of lags (no zero) 10\n",
      "ssr based F test:         F=-7.8980 , p=1.0000  , df_denom=79, df_num=10\n",
      "ssr based chi2 test:   chi2=-89.9770, p=1.0000  , df=10\n",
      "likelihood ratio test: chi2=-744.5683, p=1.0000  , df=10\n",
      "parameter F test:         F=16680.4423, p=0.0000  , df_denom=79, df_num=6\n",
      "\n",
      "Granger Causality\n",
      "number of lags (no zero) 10\n",
      "ssr based F test:         F=-7.8998 , p=1.0000  , df_denom=79, df_num=10\n",
      "ssr based chi2 test:   chi2=-89.9980, p=1.0000  , df=10\n",
      "likelihood ratio test: chi2=-962.8046, p=1.0000  , df=10\n",
      "parameter F test:         F=1480.6842, p=0.0000  , df_denom=79, df_num=6\n",
      "\n",
      "Granger Causality\n",
      "number of lags (no zero) 10\n",
      "ssr based F test:         F=-7.8794 , p=1.0000  , df_denom=79, df_num=10\n",
      "ssr based chi2 test:   chi2=-89.7653, p=1.0000  , df=10\n",
      "likelihood ratio test: chi2=-535.4286, p=1.0000  , df=10\n",
      "parameter F test:         F=170307.4281, p=0.0000  , df_denom=79, df_num=6\n",
      "\n",
      "Granger Causality\n",
      "number of lags (no zero) 10\n",
      "ssr based F test:         F=-7.8917 , p=1.0000  , df_denom=79, df_num=10\n",
      "ssr based chi2 test:   chi2=-89.9059, p=1.0000  , df=10\n",
      "likelihood ratio test: chi2=-617.7070, p=1.0000  , df=10\n",
      "parameter F test:         F=68233.8962, p=0.0000  , df_denom=79, df_num=6\n",
      "\n",
      "Granger Causality\n",
      "number of lags (no zero) 10\n",
      "ssr based F test:         F=-7.8985 , p=1.0000  , df_denom=79, df_num=10\n",
      "ssr based chi2 test:   chi2=-89.9824, p=1.0000  , df=10\n",
      "likelihood ratio test: chi2=-768.4692, p=1.0000  , df=10\n",
      "parameter F test:         F=12859.5392, p=0.0000  , df_denom=79, df_num=6\n",
      "\n",
      "Granger Causality\n",
      "number of lags (no zero) 10\n"
     ]
    },
    {
     "name": "stderr",
     "output_type": "stream",
     "text": [
      "/Users/oost464/opt/anaconda3/envs/pyciems310/lib/python3.10/site-packages/statsmodels/base/model.py:1896: ValueWarning: covariance of constraints does not have full rank. The number of constraints is 10, but rank is 6\n",
      "  warnings.warn('covariance of constraints does not have full '\n",
      "/Users/oost464/opt/anaconda3/envs/pyciems310/lib/python3.10/site-packages/statsmodels/base/model.py:1896: ValueWarning: covariance of constraints does not have full rank. The number of constraints is 10, but rank is 6\n",
      "  warnings.warn('covariance of constraints does not have full '\n",
      "/Users/oost464/opt/anaconda3/envs/pyciems310/lib/python3.10/site-packages/statsmodels/base/model.py:1896: ValueWarning: covariance of constraints does not have full rank. The number of constraints is 10, but rank is 6\n",
      "  warnings.warn('covariance of constraints does not have full '\n",
      "/Users/oost464/opt/anaconda3/envs/pyciems310/lib/python3.10/site-packages/statsmodels/base/model.py:1896: ValueWarning: covariance of constraints does not have full rank. The number of constraints is 10, but rank is 6\n",
      "  warnings.warn('covariance of constraints does not have full '\n",
      "/Users/oost464/opt/anaconda3/envs/pyciems310/lib/python3.10/site-packages/statsmodels/base/model.py:1896: ValueWarning: covariance of constraints does not have full rank. The number of constraints is 10, but rank is 6\n",
      "  warnings.warn('covariance of constraints does not have full '\n",
      "/Users/oost464/opt/anaconda3/envs/pyciems310/lib/python3.10/site-packages/statsmodels/base/model.py:1896: ValueWarning: covariance of constraints does not have full rank. The number of constraints is 10, but rank is 6\n",
      "  warnings.warn('covariance of constraints does not have full '\n",
      "/Users/oost464/opt/anaconda3/envs/pyciems310/lib/python3.10/site-packages/statsmodels/base/model.py:1896: ValueWarning: covariance of constraints does not have full rank. The number of constraints is 10, but rank is 6\n",
      "  warnings.warn('covariance of constraints does not have full '\n",
      "/Users/oost464/opt/anaconda3/envs/pyciems310/lib/python3.10/site-packages/statsmodels/base/model.py:1896: ValueWarning: covariance of constraints does not have full rank. The number of constraints is 10, but rank is 6\n",
      "  warnings.warn('covariance of constraints does not have full '\n",
      "/Users/oost464/opt/anaconda3/envs/pyciems310/lib/python3.10/site-packages/statsmodels/base/model.py:1896: ValueWarning: covariance of constraints does not have full rank. The number of constraints is 10, but rank is 6\n",
      "  warnings.warn('covariance of constraints does not have full '\n",
      "/Users/oost464/opt/anaconda3/envs/pyciems310/lib/python3.10/site-packages/statsmodels/base/model.py:1896: ValueWarning: covariance of constraints does not have full rank. The number of constraints is 10, but rank is 6\n",
      "  warnings.warn('covariance of constraints does not have full '\n",
      "/Users/oost464/opt/anaconda3/envs/pyciems310/lib/python3.10/site-packages/statsmodels/base/model.py:1896: ValueWarning: covariance of constraints does not have full rank. The number of constraints is 10, but rank is 6\n",
      "  warnings.warn('covariance of constraints does not have full '\n",
      "/Users/oost464/opt/anaconda3/envs/pyciems310/lib/python3.10/site-packages/statsmodels/base/model.py:1896: ValueWarning: covariance of constraints does not have full rank. The number of constraints is 10, but rank is 6\n",
      "  warnings.warn('covariance of constraints does not have full '\n",
      "/Users/oost464/opt/anaconda3/envs/pyciems310/lib/python3.10/site-packages/statsmodels/base/model.py:1896: ValueWarning: covariance of constraints does not have full rank. The number of constraints is 10, but rank is 6\n",
      "  warnings.warn('covariance of constraints does not have full '\n",
      "/Users/oost464/opt/anaconda3/envs/pyciems310/lib/python3.10/site-packages/statsmodels/base/model.py:1896: ValueWarning: covariance of constraints does not have full rank. The number of constraints is 10, but rank is 6\n",
      "  warnings.warn('covariance of constraints does not have full '\n",
      "/Users/oost464/opt/anaconda3/envs/pyciems310/lib/python3.10/site-packages/statsmodels/base/model.py:1896: ValueWarning: covariance of constraints does not have full rank. The number of constraints is 10, but rank is 6\n",
      "  warnings.warn('covariance of constraints does not have full '\n",
      "/Users/oost464/opt/anaconda3/envs/pyciems310/lib/python3.10/site-packages/statsmodels/base/model.py:1896: ValueWarning: covariance of constraints does not have full rank. The number of constraints is 10, but rank is 6\n",
      "  warnings.warn('covariance of constraints does not have full '\n",
      "/Users/oost464/opt/anaconda3/envs/pyciems310/lib/python3.10/site-packages/statsmodels/base/model.py:1896: ValueWarning: covariance of constraints does not have full rank. The number of constraints is 10, but rank is 6\n",
      "  warnings.warn('covariance of constraints does not have full '\n",
      "/Users/oost464/opt/anaconda3/envs/pyciems310/lib/python3.10/site-packages/statsmodels/base/model.py:1896: ValueWarning: covariance of constraints does not have full rank. The number of constraints is 10, but rank is 6\n",
      "  warnings.warn('covariance of constraints does not have full '\n",
      "/Users/oost464/opt/anaconda3/envs/pyciems310/lib/python3.10/site-packages/statsmodels/base/model.py:1896: ValueWarning: covariance of constraints does not have full rank. The number of constraints is 10, but rank is 6\n",
      "  warnings.warn('covariance of constraints does not have full '\n",
      "/Users/oost464/opt/anaconda3/envs/pyciems310/lib/python3.10/site-packages/statsmodels/base/model.py:1896: ValueWarning: covariance of constraints does not have full rank. The number of constraints is 10, but rank is 6\n",
      "  warnings.warn('covariance of constraints does not have full '\n",
      "/Users/oost464/opt/anaconda3/envs/pyciems310/lib/python3.10/site-packages/statsmodels/base/model.py:1896: ValueWarning: covariance of constraints does not have full rank. The number of constraints is 10, but rank is 6\n",
      "  warnings.warn('covariance of constraints does not have full '\n",
      "/Users/oost464/opt/anaconda3/envs/pyciems310/lib/python3.10/site-packages/statsmodels/base/model.py:1896: ValueWarning: covariance of constraints does not have full rank. The number of constraints is 10, but rank is 6\n",
      "  warnings.warn('covariance of constraints does not have full '\n",
      "/Users/oost464/opt/anaconda3/envs/pyciems310/lib/python3.10/site-packages/statsmodels/base/model.py:1896: ValueWarning: covariance of constraints does not have full rank. The number of constraints is 10, but rank is 6\n",
      "  warnings.warn('covariance of constraints does not have full '\n",
      "/Users/oost464/opt/anaconda3/envs/pyciems310/lib/python3.10/site-packages/statsmodels/base/model.py:1896: ValueWarning: covariance of constraints does not have full rank. The number of constraints is 10, but rank is 6\n",
      "  warnings.warn('covariance of constraints does not have full '\n",
      "/Users/oost464/opt/anaconda3/envs/pyciems310/lib/python3.10/site-packages/statsmodels/base/model.py:1896: ValueWarning: covariance of constraints does not have full rank. The number of constraints is 10, but rank is 6\n",
      "  warnings.warn('covariance of constraints does not have full '\n",
      "/Users/oost464/opt/anaconda3/envs/pyciems310/lib/python3.10/site-packages/statsmodels/base/model.py:1896: ValueWarning: covariance of constraints does not have full rank. The number of constraints is 10, but rank is 6\n",
      "  warnings.warn('covariance of constraints does not have full '\n",
      "/Users/oost464/opt/anaconda3/envs/pyciems310/lib/python3.10/site-packages/statsmodels/base/model.py:1896: ValueWarning: covariance of constraints does not have full rank. The number of constraints is 10, but rank is 6\n",
      "  warnings.warn('covariance of constraints does not have full '\n",
      "/Users/oost464/opt/anaconda3/envs/pyciems310/lib/python3.10/site-packages/statsmodels/base/model.py:1896: ValueWarning: covariance of constraints does not have full rank. The number of constraints is 10, but rank is 6\n",
      "  warnings.warn('covariance of constraints does not have full '\n",
      "/Users/oost464/opt/anaconda3/envs/pyciems310/lib/python3.10/site-packages/statsmodels/base/model.py:1896: ValueWarning: covariance of constraints does not have full rank. The number of constraints is 10, but rank is 6\n",
      "  warnings.warn('covariance of constraints does not have full '\n",
      "/Users/oost464/opt/anaconda3/envs/pyciems310/lib/python3.10/site-packages/statsmodels/base/model.py:1896: ValueWarning: covariance of constraints does not have full rank. The number of constraints is 10, but rank is 6\n",
      "  warnings.warn('covariance of constraints does not have full '\n",
      "/Users/oost464/opt/anaconda3/envs/pyciems310/lib/python3.10/site-packages/statsmodels/base/model.py:1896: ValueWarning: covariance of constraints does not have full rank. The number of constraints is 10, but rank is 6\n",
      "  warnings.warn('covariance of constraints does not have full '\n",
      "/Users/oost464/opt/anaconda3/envs/pyciems310/lib/python3.10/site-packages/statsmodels/base/model.py:1896: ValueWarning: covariance of constraints does not have full rank. The number of constraints is 10, but rank is 6\n",
      "  warnings.warn('covariance of constraints does not have full '\n",
      "/Users/oost464/opt/anaconda3/envs/pyciems310/lib/python3.10/site-packages/statsmodels/base/model.py:1896: ValueWarning: covariance of constraints does not have full rank. The number of constraints is 10, but rank is 6\n",
      "  warnings.warn('covariance of constraints does not have full '\n",
      "/Users/oost464/opt/anaconda3/envs/pyciems310/lib/python3.10/site-packages/statsmodels/base/model.py:1896: ValueWarning: covariance of constraints does not have full rank. The number of constraints is 10, but rank is 6\n",
      "  warnings.warn('covariance of constraints does not have full '\n",
      "/Users/oost464/opt/anaconda3/envs/pyciems310/lib/python3.10/site-packages/statsmodels/base/model.py:1896: ValueWarning: covariance of constraints does not have full rank. The number of constraints is 10, but rank is 6\n",
      "  warnings.warn('covariance of constraints does not have full '\n",
      "/Users/oost464/opt/anaconda3/envs/pyciems310/lib/python3.10/site-packages/statsmodels/base/model.py:1896: ValueWarning: covariance of constraints does not have full rank. The number of constraints is 10, but rank is 6\n",
      "  warnings.warn('covariance of constraints does not have full '\n",
      "/Users/oost464/opt/anaconda3/envs/pyciems310/lib/python3.10/site-packages/statsmodels/base/model.py:1896: ValueWarning: covariance of constraints does not have full rank. The number of constraints is 10, but rank is 6\n",
      "  warnings.warn('covariance of constraints does not have full '\n",
      "/Users/oost464/opt/anaconda3/envs/pyciems310/lib/python3.10/site-packages/statsmodels/base/model.py:1896: ValueWarning: covariance of constraints does not have full rank. The number of constraints is 10, but rank is 6\n",
      "  warnings.warn('covariance of constraints does not have full '\n",
      "/Users/oost464/opt/anaconda3/envs/pyciems310/lib/python3.10/site-packages/statsmodels/base/model.py:1896: ValueWarning: covariance of constraints does not have full rank. The number of constraints is 10, but rank is 6\n",
      "  warnings.warn('covariance of constraints does not have full '\n",
      "/Users/oost464/opt/anaconda3/envs/pyciems310/lib/python3.10/site-packages/statsmodels/base/model.py:1896: ValueWarning: covariance of constraints does not have full rank. The number of constraints is 10, but rank is 6\n",
      "  warnings.warn('covariance of constraints does not have full '\n",
      "/Users/oost464/opt/anaconda3/envs/pyciems310/lib/python3.10/site-packages/statsmodels/base/model.py:1896: ValueWarning: covariance of constraints does not have full rank. The number of constraints is 10, but rank is 6\n",
      "  warnings.warn('covariance of constraints does not have full '\n",
      "/Users/oost464/opt/anaconda3/envs/pyciems310/lib/python3.10/site-packages/statsmodels/base/model.py:1896: ValueWarning: covariance of constraints does not have full rank. The number of constraints is 10, but rank is 6\n",
      "  warnings.warn('covariance of constraints does not have full '\n",
      "/Users/oost464/opt/anaconda3/envs/pyciems310/lib/python3.10/site-packages/statsmodels/base/model.py:1896: ValueWarning: covariance of constraints does not have full rank. The number of constraints is 10, but rank is 6\n",
      "  warnings.warn('covariance of constraints does not have full '\n",
      "/Users/oost464/opt/anaconda3/envs/pyciems310/lib/python3.10/site-packages/statsmodels/base/model.py:1896: ValueWarning: covariance of constraints does not have full rank. The number of constraints is 10, but rank is 6\n",
      "  warnings.warn('covariance of constraints does not have full '\n",
      "/Users/oost464/opt/anaconda3/envs/pyciems310/lib/python3.10/site-packages/statsmodels/base/model.py:1896: ValueWarning: covariance of constraints does not have full rank. The number of constraints is 10, but rank is 6\n",
      "  warnings.warn('covariance of constraints does not have full '\n",
      "/Users/oost464/opt/anaconda3/envs/pyciems310/lib/python3.10/site-packages/statsmodels/base/model.py:1896: ValueWarning: covariance of constraints does not have full rank. The number of constraints is 10, but rank is 6\n",
      "  warnings.warn('covariance of constraints does not have full '\n",
      "/Users/oost464/opt/anaconda3/envs/pyciems310/lib/python3.10/site-packages/statsmodels/base/model.py:1896: ValueWarning: covariance of constraints does not have full rank. The number of constraints is 10, but rank is 6\n",
      "  warnings.warn('covariance of constraints does not have full '\n",
      "/Users/oost464/opt/anaconda3/envs/pyciems310/lib/python3.10/site-packages/statsmodels/base/model.py:1896: ValueWarning: covariance of constraints does not have full rank. The number of constraints is 10, but rank is 6\n",
      "  warnings.warn('covariance of constraints does not have full '\n",
      "/Users/oost464/opt/anaconda3/envs/pyciems310/lib/python3.10/site-packages/statsmodels/base/model.py:1896: ValueWarning: covariance of constraints does not have full rank. The number of constraints is 10, but rank is 6\n",
      "  warnings.warn('covariance of constraints does not have full '\n",
      "/Users/oost464/opt/anaconda3/envs/pyciems310/lib/python3.10/site-packages/statsmodels/base/model.py:1896: ValueWarning: covariance of constraints does not have full rank. The number of constraints is 10, but rank is 6\n",
      "  warnings.warn('covariance of constraints does not have full '\n",
      "/Users/oost464/opt/anaconda3/envs/pyciems310/lib/python3.10/site-packages/statsmodels/base/model.py:1896: ValueWarning: covariance of constraints does not have full rank. The number of constraints is 10, but rank is 6\n",
      "  warnings.warn('covariance of constraints does not have full '\n",
      "/Users/oost464/opt/anaconda3/envs/pyciems310/lib/python3.10/site-packages/statsmodels/base/model.py:1896: ValueWarning: covariance of constraints does not have full rank. The number of constraints is 10, but rank is 6\n",
      "  warnings.warn('covariance of constraints does not have full '\n"
     ]
    },
    {
     "name": "stdout",
     "output_type": "stream",
     "text": [
      "ssr based F test:         F=-7.8784 , p=1.0000  , df_denom=79, df_num=10\n",
      "ssr based chi2 test:   chi2=-89.7535, p=1.0000  , df=10\n",
      "likelihood ratio test: chi2=-531.0184, p=1.0000  , df=10\n",
      "parameter F test:         F=180680.8853, p=0.0000  , df_denom=79, df_num=6\n",
      "\n",
      "Granger Causality\n",
      "number of lags (no zero) 10\n",
      "ssr based F test:         F=-7.8631 , p=1.0000  , df_denom=79, df_num=10\n",
      "ssr based chi2 test:   chi2=-89.5799, p=1.0000  , df=10\n",
      "likelihood ratio test: chi2=-483.0319, p=1.0000  , df=10\n",
      "parameter F test:         F=305790.2533, p=0.0000  , df_denom=79, df_num=6\n",
      "\n",
      "Granger Causality\n",
      "number of lags (no zero) 10\n",
      "ssr based F test:         F=-7.8977 , p=1.0000  , df_denom=79, df_num=10\n",
      "ssr based chi2 test:   chi2=-89.9736, p=1.0000  , df=10\n",
      "likelihood ratio test: chi2=-732.1803, p=1.0000  , df=10\n",
      "parameter F test:         F=18989.1084, p=0.0000  , df_denom=79, df_num=6\n",
      "\n",
      "Granger Causality\n",
      "number of lags (no zero) 10\n",
      "ssr based F test:         F=-7.8779 , p=1.0000  , df_denom=79, df_num=10\n",
      "ssr based chi2 test:   chi2=-89.7485, p=1.0000  , df=10\n",
      "likelihood ratio test: chi2=-529.2099, p=1.0000  , df=10\n",
      "parameter F test:         F=182927.0360, p=0.0000  , df_denom=79, df_num=6\n",
      "\n",
      "Granger Causality\n",
      "number of lags (no zero) 10\n",
      "ssr based F test:         F=-7.3519 , p=1.0000  , df_denom=79, df_num=10\n",
      "ssr based chi2 test:   chi2=-83.7557, p=1.0000  , df=10\n",
      "likelihood ratio test: chi2=-240.1327, p=1.0000  , df=10\n",
      "parameter F test:         F=4557346.1552, p=0.0000  , df_denom=79, df_num=6\n",
      "\n",
      "Granger Causality\n",
      "number of lags (no zero) 10\n",
      "ssr based F test:         F=-7.8833 , p=1.0000  , df_denom=79, df_num=10\n",
      "ssr based chi2 test:   chi2=-89.8092, p=1.0000  , df=10\n",
      "likelihood ratio test: chi2=-554.0729, p=1.0000  , df=10\n",
      "parameter F test:         F=137975.8717, p=0.0000  , df_denom=79, df_num=6\n",
      "\n",
      "Granger Causality\n",
      "number of lags (no zero) 10\n",
      "ssr based F test:         F=-7.8965 , p=1.0000  , df_denom=79, df_num=10\n",
      "ssr based chi2 test:   chi2=-89.9601, p=1.0000  , df=10\n",
      "likelihood ratio test: chi2=-694.8571, p=1.0000  , df=10\n",
      "parameter F test:         F=28834.0587, p=0.0000  , df_denom=79, df_num=6\n",
      "\n",
      "Granger Causality\n",
      "number of lags (no zero) 10\n",
      "ssr based F test:         F=-7.8854 , p=1.0000  , df_denom=79, df_num=10\n",
      "ssr based chi2 test:   chi2=-89.8332, p=1.0000  , df=10\n",
      "likelihood ratio test: chi2=-566.1784, p=1.0000  , df=10\n",
      "parameter F test:         F=121159.0712, p=0.0000  , df_denom=79, df_num=6\n",
      "\n",
      "Granger Causality\n",
      "number of lags (no zero) 10\n",
      "ssr based F test:         F=-7.8974 , p=1.0000  , df_denom=79, df_num=10\n",
      "ssr based chi2 test:   chi2=-89.9702, p=1.0000  , df=10\n",
      "likelihood ratio test: chi2=-721.0782, p=1.0000  , df=10\n",
      "parameter F test:         F=21588.0967, p=0.0000  , df_denom=79, df_num=6\n",
      "\n",
      "Granger Causality\n",
      "number of lags (no zero) 10\n",
      "ssr based F test:         F=-7.8999 , p=1.0000  , df_denom=79, df_num=10\n",
      "ssr based chi2 test:   chi2=-89.9984, p=1.0000  , df=10\n",
      "likelihood ratio test: chi2=-985.0935, p=1.0000  , df=10\n",
      "parameter F test:         F=1155.3691, p=0.0000  , df_denom=79, df_num=6\n",
      "\n",
      "Granger Causality\n",
      "number of lags (no zero) 10\n",
      "ssr based F test:         F=-7.8969 , p=1.0000  , df_denom=79, df_num=10\n",
      "ssr based chi2 test:   chi2=-89.9644, p=1.0000  , df=10\n",
      "likelihood ratio test: chi2=-705.0471, p=1.0000  , df=10\n",
      "parameter F test:         F=25871.8397, p=0.0000  , df_denom=79, df_num=6\n",
      "\n",
      "Granger Causality\n",
      "number of lags (no zero) 10\n",
      "ssr based F test:         F=-7.8610 , p=1.0000  , df_denom=79, df_num=10\n",
      "ssr based chi2 test:   chi2=-89.5558, p=1.0000  , df=10\n",
      "likelihood ratio test: chi2=-478.0101, p=1.0000  , df=10\n",
      "parameter F test:         F=323668.5846, p=0.0000  , df_denom=79, df_num=6\n",
      "\n",
      "Granger Causality\n",
      "number of lags (no zero) 10\n",
      "ssr based F test:         F=-7.8940 , p=1.0000  , df_denom=79, df_num=10\n",
      "ssr based chi2 test:   chi2=-89.9318, p=1.0000  , df=10\n",
      "likelihood ratio test: chi2=-646.6050, p=1.0000  , df=10\n",
      "parameter F test:         F=49909.2903, p=0.0000  , df_denom=79, df_num=6\n",
      "\n",
      "Granger Causality\n",
      "number of lags (no zero) 10\n",
      "ssr based F test:         F=-7.8994 , p=1.0000  , df_denom=79, df_num=10\n",
      "ssr based chi2 test:   chi2=-89.9926, p=1.0000  , df=10\n",
      "likelihood ratio test: chi2=-846.7431, p=1.0000  , df=10\n",
      "parameter F test:         F=5383.5216, p=0.0000  , df_denom=79, df_num=6\n",
      "\n",
      "Granger Causality\n",
      "number of lags (no zero) 10\n",
      "ssr based F test:         F=-7.8996 , p=1.0000  , df_denom=79, df_num=10\n",
      "ssr based chi2 test:   chi2=-89.9956, p=1.0000  , df=10\n",
      "likelihood ratio test: chi2=-892.3587, p=1.0000  , df=10\n",
      "parameter F test:         F=3213.3644, p=0.0000  , df_denom=79, df_num=6\n",
      "\n",
      "Granger Causality\n",
      "number of lags (no zero) 10\n",
      "ssr based F test:         F=-7.8811 , p=1.0000  , df_denom=79, df_num=10\n",
      "ssr based chi2 test:   chi2=-89.7844, p=1.0000  , df=10\n",
      "likelihood ratio test: chi2=-543.0867, p=1.0000  , df=10\n",
      "parameter F test:         F=157791.7648, p=0.0000  , df_denom=79, df_num=6\n",
      "\n",
      "Granger Causality\n",
      "number of lags (no zero) 10\n",
      "ssr based F test:         F=-7.8998 , p=1.0000  , df_denom=79, df_num=10\n",
      "ssr based chi2 test:   chi2=-89.9973, p=1.0000  , df=10\n",
      "likelihood ratio test: chi2=-936.4784, p=1.0000  , df=10\n",
      "parameter F test:         F=1971.2391, p=0.0000  , df_denom=79, df_num=6\n",
      "\n",
      "Granger Causality\n",
      "number of lags (no zero) 10\n",
      "ssr based F test:         F=-7.8894 , p=1.0000  , df_denom=79, df_num=10\n",
      "ssr based chi2 test:   chi2=-89.8797, p=1.0000  , df=10\n",
      "likelihood ratio test: chi2=-595.5943, p=1.0000  , df=10\n",
      "parameter F test:         F=87454.3974, p=0.0000  , df_denom=79, df_num=6\n",
      "\n",
      "Granger Causality\n",
      "number of lags (no zero) 10\n",
      "ssr based F test:         F=-7.8990 , p=1.0000  , df_denom=79, df_num=10\n",
      "ssr based chi2 test:   chi2=-89.9882, p=1.0000  , df=10\n",
      "likelihood ratio test: chi2=-804.7071, p=1.0000  , df=10\n",
      "parameter F test:         F=8570.3373, p=0.0000  , df_denom=79, df_num=6\n",
      "\n",
      "Granger Causality\n",
      "number of lags (no zero) 10\n",
      "ssr based F test:         F=-7.8974 , p=1.0000  , df_denom=79, df_num=10\n",
      "ssr based chi2 test:   chi2=-89.9708, p=1.0000  , df=10\n",
      "likelihood ratio test: chi2=-723.0417, p=1.0000  , df=10\n",
      "parameter F test:         F=21157.0991, p=0.0000  , df_denom=79, df_num=6\n",
      "\n",
      "Granger Causality\n",
      "number of lags (no zero) 10\n",
      "ssr based F test:         F=-7.8702 , p=1.0000  , df_denom=79, df_num=10\n",
      "ssr based chi2 test:   chi2=-89.6603, p=1.0000  , df=10\n",
      "likelihood ratio test: chi2=-502.1676, p=1.0000  , df=10\n",
      "parameter F test:         F=246661.8169, p=0.0000  , df_denom=79, df_num=6\n",
      "\n",
      "Granger Causality\n",
      "number of lags (no zero) 10\n",
      "ssr based F test:         F=-7.8976 , p=1.0000  , df_denom=79, df_num=10\n",
      "ssr based chi2 test:   chi2=-89.9732, p=1.0000  , df=10\n",
      "likelihood ratio test: chi2=-730.6237, p=1.0000  , df=10\n",
      "parameter F test:         F=19530.0027, p=0.0000  , df_denom=79, df_num=6\n",
      "\n",
      "Granger Causality\n",
      "number of lags (no zero) 10\n",
      "ssr based F test:         F=-7.8989 , p=1.0000  , df_denom=79, df_num=10\n",
      "ssr based chi2 test:   chi2=-89.9879, p=1.0000  , df=10\n",
      "likelihood ratio test: chi2=-801.9558, p=1.0000  , df=10\n",
      "parameter F test:         F=8903.2747, p=0.0000  , df_denom=79, df_num=6\n",
      "\n",
      "Granger Causality\n",
      "number of lags (no zero) 10\n",
      "ssr based F test:         F=-7.8982 , p=1.0000  , df_denom=79, df_num=10\n",
      "ssr based chi2 test:   chi2=-89.9796, p=1.0000  , df=10\n",
      "likelihood ratio test: chi2=-755.4222, p=1.0000  , df=10\n",
      "parameter F test:         F=14765.4695, p=0.0000  , df_denom=79, df_num=6\n",
      "\n",
      "Granger Causality\n",
      "number of lags (no zero) 10\n",
      "ssr based F test:         F=-7.8916 , p=1.0000  , df_denom=79, df_num=10\n",
      "ssr based chi2 test:   chi2=-89.9046, p=1.0000  , df=10\n",
      "likelihood ratio test: chi2=-616.4385, p=1.0000  , df=10\n",
      "parameter F test:         F=69594.5609, p=0.0000  , df_denom=79, df_num=6\n",
      "\n",
      "Granger Causality\n",
      "number of lags (no zero) 10\n",
      "ssr based F test:         F=-7.8633 , p=1.0000  , df_denom=79, df_num=10\n",
      "ssr based chi2 test:   chi2=-89.5821, p=1.0000  , df=10\n",
      "likelihood ratio test: chi2=-483.5066, p=1.0000  , df=10\n",
      "parameter F test:         F=307237.1430, p=0.0000  , df_denom=79, df_num=6\n",
      "\n",
      "Granger Causality\n",
      "number of lags (no zero) 10\n",
      "ssr based F test:         F=-7.8978 , p=1.0000  , df_denom=79, df_num=10\n",
      "ssr based chi2 test:   chi2=-89.9754, p=1.0000  , df=10\n",
      "likelihood ratio test: chi2=-738.3842, p=1.0000  , df=10\n",
      "parameter F test:         F=18136.6854, p=0.0000  , df_denom=79, df_num=6\n",
      "\n",
      "Granger Causality\n",
      "number of lags (no zero) 10\n",
      "ssr based F test:         F=-7.8711 , p=1.0000  , df_denom=79, df_num=10\n",
      "ssr based chi2 test:   chi2=-89.6713, p=1.0000  , df=10\n",
      "likelihood ratio test: chi2=-505.1133, p=1.0000  , df=10\n",
      "parameter F test:         F=239737.4801, p=0.0000  , df_denom=79, df_num=6\n",
      "\n",
      "Granger Causality\n",
      "number of lags (no zero) 10\n",
      "ssr based F test:         F=-7.8933 , p=1.0000  , df_denom=79, df_num=10\n",
      "ssr based chi2 test:   chi2=-89.9232, p=1.0000  , df=10\n",
      "likelihood ratio test: chi2=-635.9227, p=1.0000  , df=10\n",
      "parameter F test:         F=55212.3553, p=0.0000  , df_denom=79, df_num=6\n",
      "\n",
      "Granger Causality\n",
      "number of lags (no zero) 10\n",
      "ssr based F test:         F=-7.8994 , p=1.0000  , df_denom=79, df_num=10\n",
      "ssr based chi2 test:   chi2=-89.9932, p=1.0000  , df=10\n",
      "likelihood ratio test: chi2=-854.2541, p=1.0000  , df=10\n",
      "parameter F test:         F=4896.9452, p=0.0000  , df_denom=79, df_num=6\n",
      "\n",
      "Granger Causality\n",
      "number of lags (no zero) 10\n",
      "ssr based F test:         F=-7.8955 , p=1.0000  , df_denom=79, df_num=10\n",
      "ssr based chi2 test:   chi2=-89.9483, p=1.0000  , df=10\n",
      "likelihood ratio test: chi2=-671.5873, p=1.0000  , df=10\n",
      "parameter F test:         F=37367.6983, p=0.0000  , df_denom=79, df_num=6\n",
      "\n",
      "Granger Causality\n",
      "number of lags (no zero) 10\n",
      "ssr based F test:         F=-7.8678 , p=1.0000  , df_denom=79, df_num=10\n",
      "ssr based chi2 test:   chi2=-89.6333, p=1.0000  , df=10\n",
      "likelihood ratio test: chi2=-495.2648, p=1.0000  , df=10\n",
      "parameter F test:         F=268350.9102, p=0.0000  , df_denom=79, df_num=6\n",
      "\n",
      "Granger Causality\n",
      "number of lags (no zero) 10\n",
      "ssr based F test:         F=-7.8991 , p=1.0000  , df_denom=79, df_num=10\n",
      "ssr based chi2 test:   chi2=-89.9900, p=1.0000  , df=10\n",
      "likelihood ratio test: chi2=-819.0618, p=1.0000  , df=10\n",
      "parameter F test:         F=7264.2708, p=0.0000  , df_denom=79, df_num=6\n",
      "\n",
      "Granger Causality\n",
      "number of lags (no zero) 10\n",
      "ssr based F test:         F=-7.8980 , p=1.0000  , df_denom=79, df_num=10\n",
      "ssr based chi2 test:   chi2=-89.9771, p=1.0000  , df=10\n",
      "likelihood ratio test: chi2=-744.8119, p=1.0000  , df=10\n",
      "parameter F test:         F=16514.7727, p=0.0000  , df_denom=79, df_num=6\n",
      "\n",
      "Granger Causality\n",
      "number of lags (no zero) 10\n",
      "ssr based F test:         F=-7.8539 , p=1.0000  , df_denom=79, df_num=10\n",
      "ssr based chi2 test:   chi2=-89.4748, p=1.0000  , df=10\n",
      "likelihood ratio test: chi2=-462.9485, p=1.0000  , df=10\n",
      "parameter F test:         F=382786.1754, p=0.0000  , df_denom=79, df_num=6\n",
      "\n",
      "Granger Causality\n",
      "number of lags (no zero) 10\n",
      "ssr based F test:         F=-7.8998 , p=1.0000  , df_denom=79, df_num=10\n",
      "ssr based chi2 test:   chi2=-89.9972, p=1.0000  , df=10\n",
      "likelihood ratio test: chi2=-933.8297, p=1.0000  , df=10\n",
      "parameter F test:         F=2051.8590, p=0.0000  , df_denom=79, df_num=6\n",
      "\n",
      "Granger Causality\n",
      "number of lags (no zero) 10\n",
      "ssr based F test:         F=-7.5220 , p=1.0000  , df_denom=79, df_num=10\n",
      "ssr based chi2 test:   chi2=-85.6937, p=1.0000  , df=10\n",
      "likelihood ratio test: chi2=-273.5761, p=1.0000  , df=10\n",
      "parameter F test:         F=3158694.8002, p=0.0000  , df_denom=79, df_num=6\n",
      "\n",
      "Granger Causality\n",
      "number of lags (no zero) 10\n",
      "ssr based F test:         F=-7.7943 , p=1.0000  , df_denom=79, df_num=10\n",
      "ssr based chi2 test:   chi2=-88.7956, p=1.0000  , df=10\n",
      "likelihood ratio test: chi2=-388.2420, p=1.0000  , df=10\n",
      "parameter F test:         F=875287.7304, p=0.0000  , df_denom=79, df_num=6\n",
      "\n",
      "Granger Causality\n",
      "number of lags (no zero) 10\n",
      "ssr based F test:         F=-7.8981 , p=1.0000  , df_denom=79, df_num=10\n",
      "ssr based chi2 test:   chi2=-89.9781, p=1.0000  , df=10\n",
      "likelihood ratio test: chi2=-748.9022, p=1.0000  , df=10\n",
      "parameter F test:         F=15895.0946, p=0.0000  , df_denom=79, df_num=6\n",
      "\n",
      "Granger Causality\n",
      "number of lags (no zero) 10\n",
      "ssr based F test:         F=-7.8861 , p=1.0000  , df_denom=79, df_num=10\n",
      "ssr based chi2 test:   chi2=-89.8421, p=1.0000  , df=10\n",
      "likelihood ratio test: chi2=-571.1167, p=1.0000  , df=10\n",
      "parameter F test:         F=114917.4902, p=0.0000  , df_denom=79, df_num=6\n",
      "\n",
      "Granger Causality\n",
      "number of lags (no zero) 10\n",
      "ssr based F test:         F=-7.8966 , p=1.0000  , df_denom=79, df_num=10\n",
      "ssr based chi2 test:   chi2=-89.9612, p=1.0000  , df=10\n",
      "likelihood ratio test: chi2=-697.5172, p=1.0000  , df=10\n",
      "parameter F test:         F=28300.3482, p=0.0000  , df_denom=79, df_num=6\n",
      "\n",
      "Granger Causality\n",
      "number of lags (no zero) 10\n",
      "ssr based F test:         F=-7.8950 , p=1.0000  , df_denom=79, df_num=10\n",
      "ssr based chi2 test:   chi2=-89.9433, p=1.0000  , df=10\n",
      "likelihood ratio test: chi2=-663.2275, p=1.0000  , df=10\n",
      "parameter F test:         F=41036.6081, p=0.0000  , df_denom=79, df_num=6\n",
      "\n",
      "Granger Causality\n",
      "number of lags (no zero) 10\n",
      "ssr based F test:         F=-7.8962 , p=1.0000  , df_denom=79, df_num=10\n",
      "ssr based chi2 test:   chi2=-89.9573, p=1.0000  , df=10\n",
      "likelihood ratio test: chi2=-688.7527, p=1.0000  , df=10\n",
      "parameter F test:         F=31055.1455, p=0.0000  , df_denom=79, df_num=6\n",
      "\n",
      "Granger Causality\n",
      "number of lags (no zero) 10\n"
     ]
    },
    {
     "name": "stderr",
     "output_type": "stream",
     "text": [
      "/Users/oost464/opt/anaconda3/envs/pyciems310/lib/python3.10/site-packages/statsmodels/base/model.py:1896: ValueWarning: covariance of constraints does not have full rank. The number of constraints is 10, but rank is 6\n",
      "  warnings.warn('covariance of constraints does not have full '\n",
      "/Users/oost464/opt/anaconda3/envs/pyciems310/lib/python3.10/site-packages/statsmodels/base/model.py:1896: ValueWarning: covariance of constraints does not have full rank. The number of constraints is 10, but rank is 6\n",
      "  warnings.warn('covariance of constraints does not have full '\n",
      "/Users/oost464/opt/anaconda3/envs/pyciems310/lib/python3.10/site-packages/statsmodels/base/model.py:1896: ValueWarning: covariance of constraints does not have full rank. The number of constraints is 10, but rank is 6\n",
      "  warnings.warn('covariance of constraints does not have full '\n",
      "/Users/oost464/opt/anaconda3/envs/pyciems310/lib/python3.10/site-packages/statsmodels/base/model.py:1896: ValueWarning: covariance of constraints does not have full rank. The number of constraints is 10, but rank is 6\n",
      "  warnings.warn('covariance of constraints does not have full '\n",
      "/Users/oost464/opt/anaconda3/envs/pyciems310/lib/python3.10/site-packages/statsmodels/base/model.py:1896: ValueWarning: covariance of constraints does not have full rank. The number of constraints is 10, but rank is 6\n",
      "  warnings.warn('covariance of constraints does not have full '\n",
      "/Users/oost464/opt/anaconda3/envs/pyciems310/lib/python3.10/site-packages/statsmodels/base/model.py:1896: ValueWarning: covariance of constraints does not have full rank. The number of constraints is 10, but rank is 6\n",
      "  warnings.warn('covariance of constraints does not have full '\n",
      "/Users/oost464/opt/anaconda3/envs/pyciems310/lib/python3.10/site-packages/statsmodels/base/model.py:1896: ValueWarning: covariance of constraints does not have full rank. The number of constraints is 10, but rank is 6\n",
      "  warnings.warn('covariance of constraints does not have full '\n",
      "/Users/oost464/opt/anaconda3/envs/pyciems310/lib/python3.10/site-packages/statsmodels/base/model.py:1896: ValueWarning: covariance of constraints does not have full rank. The number of constraints is 10, but rank is 6\n",
      "  warnings.warn('covariance of constraints does not have full '\n",
      "/Users/oost464/opt/anaconda3/envs/pyciems310/lib/python3.10/site-packages/statsmodels/base/model.py:1896: ValueWarning: covariance of constraints does not have full rank. The number of constraints is 10, but rank is 6\n",
      "  warnings.warn('covariance of constraints does not have full '\n",
      "/Users/oost464/opt/anaconda3/envs/pyciems310/lib/python3.10/site-packages/statsmodels/base/model.py:1896: ValueWarning: covariance of constraints does not have full rank. The number of constraints is 10, but rank is 6\n",
      "  warnings.warn('covariance of constraints does not have full '\n",
      "/Users/oost464/opt/anaconda3/envs/pyciems310/lib/python3.10/site-packages/statsmodels/base/model.py:1896: ValueWarning: covariance of constraints does not have full rank. The number of constraints is 10, but rank is 6\n",
      "  warnings.warn('covariance of constraints does not have full '\n",
      "/Users/oost464/opt/anaconda3/envs/pyciems310/lib/python3.10/site-packages/statsmodels/base/model.py:1896: ValueWarning: covariance of constraints does not have full rank. The number of constraints is 10, but rank is 6\n",
      "  warnings.warn('covariance of constraints does not have full '\n",
      "/Users/oost464/opt/anaconda3/envs/pyciems310/lib/python3.10/site-packages/statsmodels/base/model.py:1896: ValueWarning: covariance of constraints does not have full rank. The number of constraints is 10, but rank is 6\n",
      "  warnings.warn('covariance of constraints does not have full '\n",
      "/Users/oost464/opt/anaconda3/envs/pyciems310/lib/python3.10/site-packages/statsmodels/base/model.py:1896: ValueWarning: covariance of constraints does not have full rank. The number of constraints is 10, but rank is 6\n",
      "  warnings.warn('covariance of constraints does not have full '\n",
      "/Users/oost464/opt/anaconda3/envs/pyciems310/lib/python3.10/site-packages/statsmodels/base/model.py:1896: ValueWarning: covariance of constraints does not have full rank. The number of constraints is 10, but rank is 6\n",
      "  warnings.warn('covariance of constraints does not have full '\n",
      "/Users/oost464/opt/anaconda3/envs/pyciems310/lib/python3.10/site-packages/statsmodels/base/model.py:1896: ValueWarning: covariance of constraints does not have full rank. The number of constraints is 10, but rank is 6\n",
      "  warnings.warn('covariance of constraints does not have full '\n",
      "/Users/oost464/opt/anaconda3/envs/pyciems310/lib/python3.10/site-packages/statsmodels/base/model.py:1896: ValueWarning: covariance of constraints does not have full rank. The number of constraints is 10, but rank is 6\n",
      "  warnings.warn('covariance of constraints does not have full '\n",
      "/Users/oost464/opt/anaconda3/envs/pyciems310/lib/python3.10/site-packages/statsmodels/base/model.py:1896: ValueWarning: covariance of constraints does not have full rank. The number of constraints is 10, but rank is 6\n",
      "  warnings.warn('covariance of constraints does not have full '\n",
      "/Users/oost464/opt/anaconda3/envs/pyciems310/lib/python3.10/site-packages/statsmodels/base/model.py:1896: ValueWarning: covariance of constraints does not have full rank. The number of constraints is 10, but rank is 6\n",
      "  warnings.warn('covariance of constraints does not have full '\n",
      "/Users/oost464/opt/anaconda3/envs/pyciems310/lib/python3.10/site-packages/statsmodels/base/model.py:1896: ValueWarning: covariance of constraints does not have full rank. The number of constraints is 10, but rank is 6\n",
      "  warnings.warn('covariance of constraints does not have full '\n",
      "/Users/oost464/opt/anaconda3/envs/pyciems310/lib/python3.10/site-packages/statsmodels/base/model.py:1896: ValueWarning: covariance of constraints does not have full rank. The number of constraints is 10, but rank is 6\n",
      "  warnings.warn('covariance of constraints does not have full '\n",
      "/Users/oost464/opt/anaconda3/envs/pyciems310/lib/python3.10/site-packages/statsmodels/base/model.py:1896: ValueWarning: covariance of constraints does not have full rank. The number of constraints is 10, but rank is 6\n",
      "  warnings.warn('covariance of constraints does not have full '\n",
      "/Users/oost464/opt/anaconda3/envs/pyciems310/lib/python3.10/site-packages/statsmodels/base/model.py:1896: ValueWarning: covariance of constraints does not have full rank. The number of constraints is 10, but rank is 6\n",
      "  warnings.warn('covariance of constraints does not have full '\n",
      "/Users/oost464/opt/anaconda3/envs/pyciems310/lib/python3.10/site-packages/statsmodels/base/model.py:1896: ValueWarning: covariance of constraints does not have full rank. The number of constraints is 10, but rank is 6\n",
      "  warnings.warn('covariance of constraints does not have full '\n",
      "/Users/oost464/opt/anaconda3/envs/pyciems310/lib/python3.10/site-packages/statsmodels/base/model.py:1896: ValueWarning: covariance of constraints does not have full rank. The number of constraints is 10, but rank is 6\n",
      "  warnings.warn('covariance of constraints does not have full '\n",
      "/Users/oost464/opt/anaconda3/envs/pyciems310/lib/python3.10/site-packages/statsmodels/base/model.py:1896: ValueWarning: covariance of constraints does not have full rank. The number of constraints is 10, but rank is 6\n",
      "  warnings.warn('covariance of constraints does not have full '\n",
      "/Users/oost464/opt/anaconda3/envs/pyciems310/lib/python3.10/site-packages/statsmodels/base/model.py:1896: ValueWarning: covariance of constraints does not have full rank. The number of constraints is 10, but rank is 6\n",
      "  warnings.warn('covariance of constraints does not have full '\n",
      "/Users/oost464/opt/anaconda3/envs/pyciems310/lib/python3.10/site-packages/statsmodels/base/model.py:1896: ValueWarning: covariance of constraints does not have full rank. The number of constraints is 10, but rank is 6\n",
      "  warnings.warn('covariance of constraints does not have full '\n",
      "/Users/oost464/opt/anaconda3/envs/pyciems310/lib/python3.10/site-packages/statsmodels/base/model.py:1896: ValueWarning: covariance of constraints does not have full rank. The number of constraints is 10, but rank is 6\n",
      "  warnings.warn('covariance of constraints does not have full '\n",
      "/Users/oost464/opt/anaconda3/envs/pyciems310/lib/python3.10/site-packages/statsmodels/base/model.py:1896: ValueWarning: covariance of constraints does not have full rank. The number of constraints is 10, but rank is 6\n",
      "  warnings.warn('covariance of constraints does not have full '\n",
      "/Users/oost464/opt/anaconda3/envs/pyciems310/lib/python3.10/site-packages/statsmodels/base/model.py:1896: ValueWarning: covariance of constraints does not have full rank. The number of constraints is 10, but rank is 6\n",
      "  warnings.warn('covariance of constraints does not have full '\n",
      "/Users/oost464/opt/anaconda3/envs/pyciems310/lib/python3.10/site-packages/statsmodels/base/model.py:1896: ValueWarning: covariance of constraints does not have full rank. The number of constraints is 10, but rank is 6\n",
      "  warnings.warn('covariance of constraints does not have full '\n",
      "/Users/oost464/opt/anaconda3/envs/pyciems310/lib/python3.10/site-packages/statsmodels/base/model.py:1896: ValueWarning: covariance of constraints does not have full rank. The number of constraints is 10, but rank is 6\n",
      "  warnings.warn('covariance of constraints does not have full '\n",
      "/Users/oost464/opt/anaconda3/envs/pyciems310/lib/python3.10/site-packages/statsmodels/base/model.py:1896: ValueWarning: covariance of constraints does not have full rank. The number of constraints is 10, but rank is 6\n",
      "  warnings.warn('covariance of constraints does not have full '\n",
      "/Users/oost464/opt/anaconda3/envs/pyciems310/lib/python3.10/site-packages/statsmodels/base/model.py:1896: ValueWarning: covariance of constraints does not have full rank. The number of constraints is 10, but rank is 6\n",
      "  warnings.warn('covariance of constraints does not have full '\n",
      "/Users/oost464/opt/anaconda3/envs/pyciems310/lib/python3.10/site-packages/statsmodels/base/model.py:1896: ValueWarning: covariance of constraints does not have full rank. The number of constraints is 10, but rank is 6\n",
      "  warnings.warn('covariance of constraints does not have full '\n",
      "/Users/oost464/opt/anaconda3/envs/pyciems310/lib/python3.10/site-packages/statsmodels/base/model.py:1896: ValueWarning: covariance of constraints does not have full rank. The number of constraints is 10, but rank is 6\n",
      "  warnings.warn('covariance of constraints does not have full '\n",
      "/Users/oost464/opt/anaconda3/envs/pyciems310/lib/python3.10/site-packages/statsmodels/base/model.py:1896: ValueWarning: covariance of constraints does not have full rank. The number of constraints is 10, but rank is 6\n",
      "  warnings.warn('covariance of constraints does not have full '\n",
      "/Users/oost464/opt/anaconda3/envs/pyciems310/lib/python3.10/site-packages/statsmodels/base/model.py:1896: ValueWarning: covariance of constraints does not have full rank. The number of constraints is 10, but rank is 6\n",
      "  warnings.warn('covariance of constraints does not have full '\n",
      "/Users/oost464/opt/anaconda3/envs/pyciems310/lib/python3.10/site-packages/statsmodels/base/model.py:1896: ValueWarning: covariance of constraints does not have full rank. The number of constraints is 10, but rank is 6\n",
      "  warnings.warn('covariance of constraints does not have full '\n",
      "/Users/oost464/opt/anaconda3/envs/pyciems310/lib/python3.10/site-packages/statsmodels/base/model.py:1896: ValueWarning: covariance of constraints does not have full rank. The number of constraints is 10, but rank is 6\n",
      "  warnings.warn('covariance of constraints does not have full '\n",
      "/Users/oost464/opt/anaconda3/envs/pyciems310/lib/python3.10/site-packages/statsmodels/base/model.py:1896: ValueWarning: covariance of constraints does not have full rank. The number of constraints is 10, but rank is 6\n",
      "  warnings.warn('covariance of constraints does not have full '\n",
      "/Users/oost464/opt/anaconda3/envs/pyciems310/lib/python3.10/site-packages/statsmodels/base/model.py:1896: ValueWarning: covariance of constraints does not have full rank. The number of constraints is 10, but rank is 6\n",
      "  warnings.warn('covariance of constraints does not have full '\n"
     ]
    },
    {
     "name": "stdout",
     "output_type": "stream",
     "text": [
      "ssr based F test:         F=-7.8872 , p=1.0000  , df_denom=79, df_num=10\n",
      "ssr based chi2 test:   chi2=-89.8541, p=1.0000  , df=10\n",
      "likelihood ratio test: chi2=-578.2452, p=1.0000  , df=10\n",
      "parameter F test:         F=105861.9438, p=0.0000  , df_denom=79, df_num=6\n",
      "\n",
      "Granger Causality\n",
      "number of lags (no zero) 10\n",
      "ssr based F test:         F=-3.7004 , p=1.0000  , df_denom=79, df_num=10\n",
      "ssr based chi2 test:   chi2=-42.1567, p=1.0000  , df=10\n",
      "likelihood ratio test: chi2=-56.8690, p=1.0000  , df=10\n",
      "parameter F test:         F=35295813.9609, p=0.0000  , df_denom=79, df_num=6\n",
      "\n",
      "Granger Causality\n",
      "number of lags (no zero) 10\n",
      "ssr based F test:         F=-7.8970 , p=1.0000  , df_denom=79, df_num=10\n",
      "ssr based chi2 test:   chi2=-89.9661, p=1.0000  , df=10\n",
      "likelihood ratio test: chi2=-709.6945, p=1.0000  , df=10\n",
      "parameter F test:         F=24424.8915, p=0.0000  , df_denom=79, df_num=6\n",
      "\n",
      "Granger Causality\n",
      "number of lags (no zero) 10\n",
      "ssr based F test:         F=-7.8985 , p=1.0000  , df_denom=79, df_num=10\n",
      "ssr based chi2 test:   chi2=-89.9832, p=1.0000  , df=10\n",
      "likelihood ratio test: chi2=-772.7335, p=1.0000  , df=10\n",
      "parameter F test:         F=12145.0790, p=0.0000  , df_denom=79, df_num=6\n",
      "\n",
      "Granger Causality\n",
      "number of lags (no zero) 10\n",
      "ssr based F test:         F=-7.8940 , p=1.0000  , df_denom=79, df_num=10\n",
      "ssr based chi2 test:   chi2=-89.9318, p=1.0000  , df=10\n",
      "likelihood ratio test: chi2=-646.7065, p=1.0000  , df=10\n",
      "parameter F test:         F=49349.2787, p=0.0000  , df_denom=79, df_num=6\n",
      "\n",
      "Granger Causality\n",
      "number of lags (no zero) 10\n",
      "ssr based F test:         F=-7.8997 , p=1.0000  , df_denom=79, df_num=10\n",
      "ssr based chi2 test:   chi2=-89.9963, p=1.0000  , df=10\n",
      "likelihood ratio test: chi2=-909.3363, p=1.0000  , df=10\n",
      "parameter F test:         F=2690.7576, p=0.0000  , df_denom=79, df_num=6\n"
     ]
    },
    {
     "name": "stderr",
     "output_type": "stream",
     "text": [
      "/Users/oost464/opt/anaconda3/envs/pyciems310/lib/python3.10/site-packages/statsmodels/base/model.py:1896: ValueWarning: covariance of constraints does not have full rank. The number of constraints is 10, but rank is 6\n",
      "  warnings.warn('covariance of constraints does not have full '\n",
      "/Users/oost464/opt/anaconda3/envs/pyciems310/lib/python3.10/site-packages/statsmodels/base/model.py:1896: ValueWarning: covariance of constraints does not have full rank. The number of constraints is 10, but rank is 6\n",
      "  warnings.warn('covariance of constraints does not have full '\n",
      "/Users/oost464/opt/anaconda3/envs/pyciems310/lib/python3.10/site-packages/statsmodels/base/model.py:1896: ValueWarning: covariance of constraints does not have full rank. The number of constraints is 10, but rank is 6\n",
      "  warnings.warn('covariance of constraints does not have full '\n",
      "/Users/oost464/opt/anaconda3/envs/pyciems310/lib/python3.10/site-packages/statsmodels/base/model.py:1896: ValueWarning: covariance of constraints does not have full rank. The number of constraints is 10, but rank is 6\n",
      "  warnings.warn('covariance of constraints does not have full '\n",
      "/Users/oost464/opt/anaconda3/envs/pyciems310/lib/python3.10/site-packages/statsmodels/base/model.py:1896: ValueWarning: covariance of constraints does not have full rank. The number of constraints is 10, but rank is 6\n",
      "  warnings.warn('covariance of constraints does not have full '\n"
     ]
    },
    {
     "name": "stdout",
     "output_type": "stream",
     "text": [
      "trajectory  infected_observable_state_var  timepoint_id\n",
      "timepoint                                              \n",
      "0                               11.969685             0\n",
      "1                               15.828713             1\n",
      "2                               18.445007             2\n",
      "3                               20.906946             3\n",
      "4                               23.540363             4\n",
      "...                                   ...           ...\n",
      "94                          348138.093750            94\n",
      "95                          325088.843750            95\n",
      "96                          302895.062500            96\n",
      "97                          281833.750000            97\n",
      "98                          261997.953125            98\n",
      "\n",
      "[99 rows x 2 columns]\n",
      "\n"
     ]
    },
    {
     "data": {
      "application/vnd.vega.v5+json": {
       "$schema": "https://vega.github.io/schema/vega/v5.json",
       "axes": [
        {
         "name": "x_axis",
         "orient": "bottom",
         "scale": "xscale",
         "zindex": 100
        },
        {
         "name": "y_axis",
         "orient": "left",
         "scale": "yscale",
         "zindex": 100
        }
       ],
       "data": [
        {
         "name": "distributions",
         "transform": [
          {
           "sort": {
            "field": [
             "trajectory",
             "timepoint"
            ]
           },
           "type": "collect"
          }
         ],
         "values": [
          {
           "lower": -1.602947479178989,
           "timepoint": 0,
           "trajectory": "same_stat_state",
           "upper": 1.4807614313944186
          },
          {
           "lower": -0.602947479178989,
           "timepoint": 1,
           "trajectory": "same_stat_state",
           "upper": 2.4807614313944186
          },
          {
           "lower": -0.41374036417626797,
           "timepoint": 2,
           "trajectory": "same_stat_state",
           "upper": 2.66996854639714
          },
          {
           "lower": -0.2868734662264967,
           "timepoint": 3,
           "trajectory": "same_stat_state",
           "upper": 2.796835444346911
          },
          {
           "lower": -0.18873391680589385,
           "timepoint": 4,
           "trajectory": "same_stat_state",
           "upper": 2.894974993767514
          },
          {
           "lower": -0.10759869795776847,
           "timepoint": 5,
           "trajectory": "same_stat_state",
           "upper": 2.9761102126156396
          },
          {
           "lower": -0.03786289910570167,
           "timepoint": 6,
           "trajectory": "same_stat_state",
           "upper": 3.045846011467706
          },
          {
           "lower": 0.023629082518796543,
           "timepoint": 7,
           "trajectory": "same_stat_state",
           "upper": 3.1073379930922043
          },
          {
           "lower": 0.07884535132843992,
           "timepoint": 8,
           "trajectory": "same_stat_state",
           "upper": 3.162554261901848
          },
          {
           "lower": 0.12910332838988814,
           "timepoint": 9,
           "trajectory": "same_stat_state",
           "upper": 3.212812238963296
          },
          {
           "lower": 0.17533193085993365,
           "timepoint": 10,
           "trajectory": "same_stat_state",
           "upper": 3.2590408414333414
          },
          {
           "lower": 0.21821280765888273,
           "timepoint": 11,
           "trajectory": "same_stat_state",
           "upper": 3.3019217182322906
          },
          {
           "lower": 0.25826223902521006,
           "timepoint": 12,
           "trajectory": "same_stat_state",
           "upper": 3.341971149598618
          },
          {
           "lower": 0.29588144293695273,
           "timepoint": 13,
           "trajectory": "same_stat_state",
           "upper": 3.3795903535103604
          },
          {
           "lower": 0.33138894108868033,
           "timepoint": 14,
           "trajectory": "same_stat_state",
           "upper": 3.415097851662088
          },
          {
           "lower": 0.36504219208644123,
           "timepoint": 15,
           "trajectory": "same_stat_state",
           "upper": 3.448751102659849
          },
          {
           "lower": 0.39705252082101095,
           "timepoint": 16,
           "trajectory": "same_stat_state",
           "upper": 3.4807614313944186
          },
          {
           "lower": 0.42759570568994154,
           "timepoint": 17,
           "trajectory": "same_stat_state",
           "upper": 3.511304616263349
          },
          {
           "lower": 0.4568196647281286,
           "timepoint": 18,
           "trajectory": "same_stat_state",
           "upper": 3.5405285753015363
          },
          {
           "lower": 0.4848501507508549,
           "timepoint": 19,
           "trajectory": "same_stat_state",
           "upper": 3.5685590613242626
          },
          {
           "lower": 0.5117950477021391,
           "timepoint": 20,
           "trajectory": "same_stat_state",
           "upper": 3.5955039582755473
          },
          {
           "lower": 0.5377476637490834,
           "timepoint": 21,
           "trajectory": "same_stat_state",
           "upper": 3.6214565743224916
          },
          {
           "lower": 0.5627892914890047,
           "timepoint": 22,
           "trajectory": "same_stat_state",
           "upper": 3.6464982020624124
          },
          {
           "lower": 0.586991223915853,
           "timepoint": 23,
           "trajectory": "same_stat_state",
           "upper": 3.6707001344892607
          },
          {
           "lower": 0.6104163602216539,
           "timepoint": 24,
           "trajectory": "same_stat_state",
           "upper": 3.6941252707950616
          },
          {
           "lower": 0.6331204983208008,
           "timepoint": 25,
           "trajectory": "same_stat_state",
           "upper": 3.7168294088942084
          },
          {
           "lower": 0.6551533851742366,
           "timepoint": 26,
           "trajectory": "same_stat_state",
           "upper": 3.7388622957476443
          },
          {
           "lower": 0.6765595777757885,
           "timepoint": 27,
           "trajectory": "same_stat_state",
           "upper": 3.760268488349196
          },
          {
           "lower": 0.6973791546122168,
           "timepoint": 28,
           "trajectory": "same_stat_state",
           "upper": 3.7810880651856245
          },
          {
           "lower": 0.7176483079270948,
           "timepoint": 29,
           "trajectory": "same_stat_state",
           "upper": 3.8013572185005025
          },
          {
           "lower": 0.737399840141727,
           "timepoint": 30,
           "trajectory": "same_stat_state",
           "upper": 3.8211087507151347
          },
          {
           "lower": 0.756663582591578,
           "timepoint": 31,
           "trajectory": "same_stat_state",
           "upper": 3.8403724931649856
          },
          {
           "lower": 0.775466750826453,
           "timepoint": 32,
           "trajectory": "same_stat_state",
           "upper": 3.8591756613998607
          },
          {
           "lower": 0.7938342477494411,
           "timepoint": 33,
           "trajectory": "same_stat_state",
           "upper": 3.8775431583228483
          },
          {
           "lower": 0.8117889235874289,
           "timepoint": 34,
           "trajectory": "same_stat_state",
           "upper": 3.8954978341608366
          },
          {
           "lower": 0.8293517999187985,
           "timepoint": 35,
           "trajectory": "same_stat_state",
           "upper": 3.9130607104922066
          },
          {
           "lower": 0.8465422636041888,
           "timepoint": 36,
           "trajectory": "same_stat_state",
           "upper": 3.9302511741775965
          },
          {
           "lower": 0.8633782353806716,
           "timepoint": 37,
           "trajectory": "same_stat_state",
           "upper": 3.9470871459540797
          },
          {
           "lower": 0.8798763170193993,
           "timepoint": 38,
           "trajectory": "same_stat_state",
           "upper": 3.9635852275928074
          },
          {
           "lower": 0.8960519202603943,
           "timepoint": 39,
           "trajectory": "same_stat_state",
           "upper": 3.979760830833801
          },
          {
           "lower": 0.9119193801868818,
           "timepoint": 40,
           "trajectory": "same_stat_state",
           "upper": 3.9956282907602896
          },
          {
           "lower": 0.927492055256254,
           "timepoint": 41,
           "trajectory": "same_stat_state",
           "upper": 4.011200965829661
          },
          {
           "lower": 0.9427824158428414,
           "timepoint": 42,
           "trajectory": "same_stat_state",
           "upper": 4.02649132641625
          },
          {
           "lower": 0.9578021228520258,
           "timepoint": 43,
           "trajectory": "same_stat_state",
           "upper": 4.041511033425434
          },
          {
           "lower": 0.9725620977224054,
           "timepoint": 44,
           "trajectory": "same_stat_state",
           "upper": 4.0562710082958136
          },
          {
           "lower": 0.9870725849323623,
           "timepoint": 45,
           "trajectory": "same_stat_state",
           "upper": 4.07078149550577
          },
          {
           "lower": 1.0013432079612288,
           "timepoint": 46,
           "trajectory": "same_stat_state",
           "upper": 4.0850521185346365
          },
          {
           "lower": 1.0153830195168962,
           "timepoint": 47,
           "trajectory": "same_stat_state",
           "upper": 4.099091930090304
          },
          {
           "lower": 1.029200546725996,
           "timepoint": 48,
           "trajectory": "same_stat_state",
           "upper": 4.112909457299403
          },
          {
           "lower": 1.0428038318856017,
           "timepoint": 49,
           "trajectory": "same_stat_state",
           "upper": 4.126512742459009
          },
          {
           "lower": 1.0562004692935052,
           "timepoint": 50,
           "trajectory": "same_stat_state",
           "upper": 4.139909379866913
          },
          {
           "lower": 1.0693976386047994,
           "timepoint": 51,
           "trajectory": "same_stat_state",
           "upper": 4.153106549178207
          },
          {
           "lower": 1.082402135103661,
           "timepoint": 52,
           "trajectory": "same_stat_state",
           "upper": 4.166111045677069
          },
          {
           "lower": 1.0952203972290961,
           "timepoint": 53,
           "trajectory": "same_stat_state",
           "upper": 4.1789293078025045
          },
          {
           "lower": 1.1078585316505454,
           "timepoint": 54,
           "trajectory": "same_stat_state",
           "upper": 4.1915674422239535
          },
          {
           "lower": 1.1203223361525112,
           "timepoint": 55,
           "trajectory": "same_stat_state",
           "upper": 4.204031246725919
          },
          {
           "lower": 1.1326173205557717,
           "timepoint": 56,
           "trajectory": "same_stat_state",
           "upper": 4.216326231129179
          },
          {
           "lower": 1.1447487258754834,
           "timepoint": 57,
           "trajectory": "same_stat_state",
           "upper": 4.2284576364488915
          },
          {
           "lower": 1.1567215418929055,
           "timepoint": 58,
           "trajectory": "same_stat_state",
           "upper": 4.240430452466313
          },
          {
           "lower": 1.168540523297047,
           "timepoint": 59,
           "trajectory": "same_stat_state",
           "upper": 4.252249433870454
          },
          {
           "lower": 1.1802102045347513,
           "timepoint": 60,
           "trajectory": "same_stat_state",
           "upper": 4.26391911510816
          },
          {
           "lower": 1.1917349134922521,
           "timepoint": 61,
           "trajectory": "same_stat_state",
           "upper": 4.27544382406566
          },
          {
           "lower": 1.203118784117694,
           "timepoint": 62,
           "trajectory": "same_stat_state",
           "upper": 4.286827694691102
          },
          {
           "lower": 1.2143657680822686,
           "timepoint": 63,
           "trajectory": "same_stat_state",
           "upper": 4.298074678655676
          },
          {
           "lower": 1.2254796455672012,
           "timepoint": 64,
           "trajectory": "same_stat_state",
           "upper": 4.309188556140609
          },
          {
           "lower": 1.2364640352546887,
           "timepoint": 65,
           "trajectory": "same_stat_state",
           "upper": 4.320172945828096
          },
          {
           "lower": 1.2473224035928092,
           "timepoint": 66,
           "trajectory": "same_stat_state",
           "upper": 4.331031314166217
          },
          {
           "lower": 1.2580580733973163,
           "timepoint": 67,
           "trajectory": "same_stat_state",
           "upper": 4.341766983970724
          },
          {
           "lower": 1.2686742318469115,
           "timepoint": 68,
           "trajectory": "same_stat_state",
           "upper": 4.35238314242032
          },
          {
           "lower": 1.279173937923017,
           "timepoint": 69,
           "trajectory": "same_stat_state",
           "upper": 4.362882848496425
          },
          {
           "lower": 1.289560129340089,
           "timepoint": 70,
           "trajectory": "same_stat_state",
           "upper": 4.373269039913496
          },
          {
           "lower": 1.2998356290081106,
           "timepoint": 71,
           "trajectory": "same_stat_state",
           "upper": 4.383544539581519
          },
          {
           "lower": 1.3100031510649515,
           "timepoint": 72,
           "trajectory": "same_stat_state",
           "upper": 4.393712061638359
          },
          {
           "lower": 1.3200653065127759,
           "timepoint": 73,
           "trajectory": "same_stat_state",
           "upper": 4.403774217086183
          },
          {
           "lower": 1.330024608489529,
           "timepoint": 74,
           "trajectory": "same_stat_state",
           "upper": 4.413733519062936
          },
          {
           "lower": 1.339883477203723,
           "timepoint": 75,
           "trajectory": "same_stat_state",
           "upper": 4.423592387777131
          },
          {
           "lower": 1.3496442445582002,
           "timepoint": 76,
           "trajectory": "same_stat_state",
           "upper": 4.433353155131608
          },
          {
           "lower": 1.3593091584863097,
           "timepoint": 77,
           "trajectory": "same_stat_state",
           "upper": 4.443018069059717
          },
          {
           "lower": 1.3688803870218524,
           "timepoint": 78,
           "trajectory": "same_stat_state",
           "upper": 4.45258929759526
          },
          {
           "lower": 1.3783600221223427,
           "timepoint": 79,
           "trajectory": "same_stat_state",
           "upper": 4.46206893269575
          },
          {
           "lower": 1.387750083263452,
           "timepoint": 80,
           "trajectory": "same_stat_state",
           "upper": 4.471458993836859
          },
          {
           "lower": 1.397052520821011,
           "timepoint": 81,
           "trajectory": "same_stat_state",
           "upper": 4.48076143139442
          },
          {
           "lower": 1.4062692192555748,
           "timepoint": 82,
           "trajectory": "same_stat_state",
           "upper": 4.489978129828983
          },
          {
           "lower": 1.415402000113344,
           "timepoint": 83,
           "trajectory": "same_stat_state",
           "upper": 4.499110910686752
          },
          {
           "lower": 1.4244526248561018,
           "timepoint": 84,
           "trajectory": "same_stat_state",
           "upper": 4.508161535429509
          },
          {
           "lower": 1.433422797531822,
           "timepoint": 85,
           "trajectory": "same_stat_state",
           "upper": 4.51713170810523
          },
          {
           "lower": 1.4423141672966802,
           "timepoint": 86,
           "trajectory": "same_stat_state",
           "upper": 4.5260230778700885
          },
          {
           "lower": 1.4511283307983625,
           "timepoint": 87,
           "trajectory": "same_stat_state",
           "upper": 4.53483724137177
          },
          {
           "lower": 1.459866834429797,
           "timepoint": 88,
           "trajectory": "same_stat_state",
           "upper": 4.543575745003205
          },
          {
           "lower": 1.468531176461744,
           "timepoint": 89,
           "trajectory": "same_stat_state",
           "upper": 4.552240087035151
          },
          {
           "lower": 1.477122809062034,
           "timepoint": 90,
           "trajectory": "same_stat_state",
           "upper": 4.560831719635442
          },
          {
           "lower": 1.485643140208672,
           "timepoint": 91,
           "trajectory": "same_stat_state",
           "upper": 4.56935205078208
          },
          {
           "lower": 1.4940935355034834,
           "timepoint": 92,
           "trajectory": "same_stat_state",
           "upper": 4.577802446076891
          },
          {
           "lower": 1.5024753198924923,
           "timepoint": 93,
           "trajectory": "same_stat_state",
           "upper": 4.5861842304659
          },
          {
           "lower": 1.5107897792987808,
           "timepoint": 94,
           "trajectory": "same_stat_state",
           "upper": 4.5944986898721885
          },
          {
           "lower": 1.5190381621731563,
           "timepoint": 95,
           "trajectory": "same_stat_state",
           "upper": 4.602747072746564
          },
          {
           "lower": 1.5272216809675856,
           "timepoint": 96,
           "trajectory": "same_stat_state",
           "upper": 4.610930591540993
          },
          {
           "lower": 1.5353415135360071,
           "timepoint": 97,
           "trajectory": "same_stat_state",
           "upper": 4.619050424109415
          },
          {
           "lower": 1.5433988044667994,
           "timepoint": 98,
           "trajectory": "same_stat_state",
           "upper": 4.627107715040207
          },
          {
           "lower": 1.5513946663509153,
           "timepoint": 99,
           "trajectory": "same_stat_state",
           "upper": 4.635103576924323
          }
         ]
        },
        {
         "name": "traces",
         "transform": [
          {
           "expr": "isValid(datum.value)",
           "type": "filter"
          },
          {
           "sort": {
            "field": [
             "trajectory",
             "timepoint"
            ]
           },
           "type": "collect"
          }
         ],
         "values": [
          {
           "sample_id": 0,
           "timepoint": 0,
           "trajectory": "traces_mean",
           "value": -0.1762356938378863
          },
          {
           "sample_id": 0,
           "timepoint": 1,
           "trajectory": "traces_mean",
           "value": 0.8237643061621137
          },
          {
           "sample_id": 0,
           "timepoint": 2,
           "trajectory": "traces_mean",
           "value": 1.0129714211648346
          },
          {
           "sample_id": 0,
           "timepoint": 3,
           "trajectory": "traces_mean",
           "value": 1.139838319114606
          },
          {
           "sample_id": 0,
           "timepoint": 4,
           "trajectory": "traces_mean",
           "value": 1.2379778685352087
          },
          {
           "sample_id": 0,
           "timepoint": 5,
           "trajectory": "traces_mean",
           "value": 1.319113087383334
          },
          {
           "sample_id": 0,
           "timepoint": 6,
           "trajectory": "traces_mean",
           "value": 1.388848886235401
          },
          {
           "sample_id": 0,
           "timepoint": 7,
           "trajectory": "traces_mean",
           "value": 1.4503408678598992
          },
          {
           "sample_id": 0,
           "timepoint": 8,
           "trajectory": "traces_mean",
           "value": 1.5055571366695426
          },
          {
           "sample_id": 0,
           "timepoint": 9,
           "trajectory": "traces_mean",
           "value": 1.5558151137309908
          },
          {
           "sample_id": 0,
           "timepoint": 10,
           "trajectory": "traces_mean",
           "value": 1.6020437162010364
          },
          {
           "sample_id": 0,
           "timepoint": 11,
           "trajectory": "traces_mean",
           "value": 1.6449245929999854
          },
          {
           "sample_id": 0,
           "timepoint": 12,
           "trajectory": "traces_mean",
           "value": 1.6849740243663127
          },
          {
           "sample_id": 0,
           "timepoint": 13,
           "trajectory": "traces_mean",
           "value": 1.7225932282780554
          },
          {
           "sample_id": 0,
           "timepoint": 14,
           "trajectory": "traces_mean",
           "value": 1.758100726429783
          },
          {
           "sample_id": 0,
           "timepoint": 15,
           "trajectory": "traces_mean",
           "value": 1.791753977427544
          },
          {
           "sample_id": 0,
           "timepoint": 16,
           "trajectory": "traces_mean",
           "value": 1.8237643061621136
          },
          {
           "sample_id": 0,
           "timepoint": 17,
           "trajectory": "traces_mean",
           "value": 1.854307491031044
          },
          {
           "sample_id": 0,
           "timepoint": 18,
           "trajectory": "traces_mean",
           "value": 1.8835314500692315
          },
          {
           "sample_id": 0,
           "timepoint": 19,
           "trajectory": "traces_mean",
           "value": 1.9115619360919576
          },
          {
           "sample_id": 0,
           "timepoint": 20,
           "trajectory": "traces_mean",
           "value": 1.9385068330432416
          },
          {
           "sample_id": 0,
           "timepoint": 21,
           "trajectory": "traces_mean",
           "value": 1.964459449090186
          },
          {
           "sample_id": 0,
           "timepoint": 22,
           "trajectory": "traces_mean",
           "value": 1.9895010768301076
          },
          {
           "sample_id": 0,
           "timepoint": 23,
           "trajectory": "traces_mean",
           "value": 2.013703009256956
          },
          {
           "sample_id": 0,
           "timepoint": 24,
           "trajectory": "traces_mean",
           "value": 2.037128145562757
          },
          {
           "sample_id": 0,
           "timepoint": 25,
           "trajectory": "traces_mean",
           "value": 2.0598322836619034
          },
          {
           "sample_id": 0,
           "timepoint": 26,
           "trajectory": "traces_mean",
           "value": 2.0818651705153397
          },
          {
           "sample_id": 0,
           "timepoint": 27,
           "trajectory": "traces_mean",
           "value": 2.103271363116891
          },
          {
           "sample_id": 0,
           "timepoint": 28,
           "trajectory": "traces_mean",
           "value": 2.1240909399533194
          },
          {
           "sample_id": 0,
           "timepoint": 29,
           "trajectory": "traces_mean",
           "value": 2.144360093268197
          },
          {
           "sample_id": 0,
           "timepoint": 30,
           "trajectory": "traces_mean",
           "value": 2.1641116254828296
          },
          {
           "sample_id": 0,
           "timepoint": 31,
           "trajectory": "traces_mean",
           "value": 2.1833753679326806
          },
          {
           "sample_id": 0,
           "timepoint": 32,
           "trajectory": "traces_mean",
           "value": 2.202178536167556
          },
          {
           "sample_id": 0,
           "timepoint": 33,
           "trajectory": "traces_mean",
           "value": 2.220546033090544
          },
          {
           "sample_id": 0,
           "timepoint": 34,
           "trajectory": "traces_mean",
           "value": 2.238500708928532
          },
          {
           "sample_id": 0,
           "timepoint": 35,
           "trajectory": "traces_mean",
           "value": 2.256063585259901
          },
          {
           "sample_id": 0,
           "timepoint": 36,
           "trajectory": "traces_mean",
           "value": 2.2732540489452915
          },
          {
           "sample_id": 0,
           "timepoint": 37,
           "trajectory": "traces_mean",
           "value": 2.2900900207217743
          },
          {
           "sample_id": 0,
           "timepoint": 38,
           "trajectory": "traces_mean",
           "value": 2.306588102360502
          },
          {
           "sample_id": 0,
           "timepoint": 39,
           "trajectory": "traces_mean",
           "value": 2.322763705601497
          },
          {
           "sample_id": 0,
           "timepoint": 40,
           "trajectory": "traces_mean",
           "value": 2.338631165527985
          },
          {
           "sample_id": 0,
           "timepoint": 41,
           "trajectory": "traces_mean",
           "value": 2.3542038405973567
          },
          {
           "sample_id": 0,
           "timepoint": 42,
           "trajectory": "traces_mean",
           "value": 2.369494201183944
          },
          {
           "sample_id": 0,
           "timepoint": 43,
           "trajectory": "traces_mean",
           "value": 2.3845139081931284
          },
          {
           "sample_id": 0,
           "timepoint": 44,
           "trajectory": "traces_mean",
           "value": 2.399273883063508
          },
          {
           "sample_id": 0,
           "timepoint": 45,
           "trajectory": "traces_mean",
           "value": 2.413784370273465
          },
          {
           "sample_id": 0,
           "timepoint": 46,
           "trajectory": "traces_mean",
           "value": 2.4280549933023314
          },
          {
           "sample_id": 0,
           "timepoint": 47,
           "trajectory": "traces_mean",
           "value": 2.442094804857999
          },
          {
           "sample_id": 0,
           "timepoint": 48,
           "trajectory": "traces_mean",
           "value": 2.4559123320670984
          },
          {
           "sample_id": 0,
           "timepoint": 49,
           "trajectory": "traces_mean",
           "value": 2.4695156172267043
          },
          {
           "sample_id": 0,
           "timepoint": 50,
           "trajectory": "traces_mean",
           "value": 2.482912254634608
          },
          {
           "sample_id": 0,
           "timepoint": 51,
           "trajectory": "traces_mean",
           "value": 2.496109423945902
          },
          {
           "sample_id": 0,
           "timepoint": 52,
           "trajectory": "traces_mean",
           "value": 2.509113920444764
          },
          {
           "sample_id": 0,
           "timepoint": 53,
           "trajectory": "traces_mean",
           "value": 2.521932182570199
          },
          {
           "sample_id": 0,
           "timepoint": 54,
           "trajectory": "traces_mean",
           "value": 2.534570316991648
          },
          {
           "sample_id": 0,
           "timepoint": 55,
           "trajectory": "traces_mean",
           "value": 2.547034121493614
          },
          {
           "sample_id": 0,
           "timepoint": 56,
           "trajectory": "traces_mean",
           "value": 2.5593291058968743
          },
          {
           "sample_id": 0,
           "timepoint": 57,
           "trajectory": "traces_mean",
           "value": 2.571460511216586
          },
          {
           "sample_id": 0,
           "timepoint": 58,
           "trajectory": "traces_mean",
           "value": 2.583433327234008
          },
          {
           "sample_id": 0,
           "timepoint": 59,
           "trajectory": "traces_mean",
           "value": 2.5952523086381496
          },
          {
           "sample_id": 0,
           "timepoint": 60,
           "trajectory": "traces_mean",
           "value": 2.606921989875854
          },
          {
           "sample_id": 0,
           "timepoint": 61,
           "trajectory": "traces_mean",
           "value": 2.618446698833355
          },
          {
           "sample_id": 0,
           "timepoint": 62,
           "trajectory": "traces_mean",
           "value": 2.6298305694587967
          },
          {
           "sample_id": 0,
           "timepoint": 63,
           "trajectory": "traces_mean",
           "value": 2.6410775534233712
          },
          {
           "sample_id": 0,
           "timepoint": 64,
           "trajectory": "traces_mean",
           "value": 2.652191430908304
          },
          {
           "sample_id": 0,
           "timepoint": 65,
           "trajectory": "traces_mean",
           "value": 2.663175820595791
          },
          {
           "sample_id": 0,
           "timepoint": 66,
           "trajectory": "traces_mean",
           "value": 2.674034188933912
          },
          {
           "sample_id": 0,
           "timepoint": 67,
           "trajectory": "traces_mean",
           "value": 2.684769858738419
          },
          {
           "sample_id": 0,
           "timepoint": 68,
           "trajectory": "traces_mean",
           "value": 2.695386017188014
          },
          {
           "sample_id": 0,
           "timepoint": 69,
           "trajectory": "traces_mean",
           "value": 2.70588572326412
          },
          {
           "sample_id": 0,
           "timepoint": 70,
           "trajectory": "traces_mean",
           "value": 2.716271914681192
          },
          {
           "sample_id": 0,
           "timepoint": 71,
           "trajectory": "traces_mean",
           "value": 2.726547414349213
          },
          {
           "sample_id": 0,
           "timepoint": 72,
           "trajectory": "traces_mean",
           "value": 2.736714936406054
          },
          {
           "sample_id": 0,
           "timepoint": 73,
           "trajectory": "traces_mean",
           "value": 2.7467770918538785
          },
          {
           "sample_id": 0,
           "timepoint": 74,
           "trajectory": "traces_mean",
           "value": 2.756736393830632
          },
          {
           "sample_id": 0,
           "timepoint": 75,
           "trajectory": "traces_mean",
           "value": 2.7665952625448256
          },
          {
           "sample_id": 0,
           "timepoint": 76,
           "trajectory": "traces_mean",
           "value": 2.776356029899303
          },
          {
           "sample_id": 0,
           "timepoint": 77,
           "trajectory": "traces_mean",
           "value": 2.7860209438274124
          },
          {
           "sample_id": 0,
           "timepoint": 78,
           "trajectory": "traces_mean",
           "value": 2.795592172362955
          },
          {
           "sample_id": 0,
           "timepoint": 79,
           "trajectory": "traces_mean",
           "value": 2.8050718074634453
          },
          {
           "sample_id": 0,
           "timepoint": 80,
           "trajectory": "traces_mean",
           "value": 2.8144618686045546
          },
          {
           "sample_id": 0,
           "timepoint": 81,
           "trajectory": "traces_mean",
           "value": 2.8237643061621136
          },
          {
           "sample_id": 0,
           "timepoint": 82,
           "trajectory": "traces_mean",
           "value": 2.832981004596677
          },
          {
           "sample_id": 0,
           "timepoint": 83,
           "trajectory": "traces_mean",
           "value": 2.8421137854544467
          },
          {
           "sample_id": 0,
           "timepoint": 84,
           "trajectory": "traces_mean",
           "value": 2.8511644101972045
          },
          {
           "sample_id": 0,
           "timepoint": 85,
           "trajectory": "traces_mean",
           "value": 2.8601345828729245
          },
          {
           "sample_id": 0,
           "timepoint": 86,
           "trajectory": "traces_mean",
           "value": 2.869025952637783
          },
          {
           "sample_id": 0,
           "timepoint": 87,
           "trajectory": "traces_mean",
           "value": 2.877840116139465
          },
          {
           "sample_id": 0,
           "timepoint": 88,
           "trajectory": "traces_mean",
           "value": 2.8865786197709
          },
          {
           "sample_id": 0,
           "timepoint": 89,
           "trajectory": "traces_mean",
           "value": 2.8952429618028463
          },
          {
           "sample_id": 0,
           "timepoint": 90,
           "trajectory": "traces_mean",
           "value": 2.9038345944031367
          },
          {
           "sample_id": 0,
           "timepoint": 91,
           "trajectory": "traces_mean",
           "value": 2.9123549255497747
          },
          {
           "sample_id": 0,
           "timepoint": 92,
           "trajectory": "traces_mean",
           "value": 2.920805320844586
          },
          {
           "sample_id": 0,
           "timepoint": 93,
           "trajectory": "traces_mean",
           "value": 2.929187105233595
          },
          {
           "sample_id": 0,
           "timepoint": 94,
           "trajectory": "traces_mean",
           "value": 2.9375015646398834
          },
          {
           "sample_id": 0,
           "timepoint": 95,
           "trajectory": "traces_mean",
           "value": 2.945749947514259
          },
          {
           "sample_id": 0,
           "timepoint": 96,
           "trajectory": "traces_mean",
           "value": 2.953933466308688
          },
          {
           "sample_id": 0,
           "timepoint": 97,
           "trajectory": "traces_mean",
           "value": 2.9620532988771098
          },
          {
           "sample_id": 0,
           "timepoint": 98,
           "trajectory": "traces_mean",
           "value": 2.970110589807902
          },
          {
           "sample_id": 0,
           "timepoint": 99,
           "trajectory": "traces_mean",
           "value": 2.978106451692018
          },
          {
           "sample_id": 0,
           "timepoint": 0,
           "trajectory": "traces_var",
           "value": -1.6414094060264903
          },
          {
           "sample_id": 0,
           "timepoint": 1,
           "trajectory": "traces_var",
           "value": -0.6414094060264903
          },
          {
           "sample_id": 0,
           "timepoint": 2,
           "trajectory": "traces_var",
           "value": -0.4522022910237693
          },
          {
           "sample_id": 0,
           "timepoint": 3,
           "trajectory": "traces_var",
           "value": -0.3253353930739979
          },
          {
           "sample_id": 0,
           "timepoint": 4,
           "trajectory": "traces_var",
           "value": -0.2271958436533951
          },
          {
           "sample_id": 0,
           "timepoint": 5,
           "trajectory": "traces_var",
           "value": -0.1460606248052698
          },
          {
           "sample_id": 0,
           "timepoint": 6,
           "trajectory": "traces_var",
           "value": -0.076324825953203
          },
          {
           "sample_id": 0,
           "timepoint": 7,
           "trajectory": "traces_var",
           "value": -0.0148328443287046
          },
          {
           "sample_id": 0,
           "timepoint": 8,
           "trajectory": "traces_var",
           "value": 0.0403834244809386
          },
          {
           "sample_id": 0,
           "timepoint": 9,
           "trajectory": "traces_var",
           "value": 0.0906414015423868
          },
          {
           "sample_id": 0,
           "timepoint": 10,
           "trajectory": "traces_var",
           "value": 0.1368700040124324
          },
          {
           "sample_id": 0,
           "timepoint": 11,
           "trajectory": "traces_var",
           "value": 0.1797508808113814
          },
          {
           "sample_id": 0,
           "timepoint": 12,
           "trajectory": "traces_var",
           "value": 0.2198003121777088
          },
          {
           "sample_id": 0,
           "timepoint": 13,
           "trajectory": "traces_var",
           "value": 0.2574195160894514
          },
          {
           "sample_id": 0,
           "timepoint": 14,
           "trajectory": "traces_var",
           "value": 0.292927014241179
          },
          {
           "sample_id": 0,
           "timepoint": 15,
           "trajectory": "traces_var",
           "value": 0.32658026523894
          },
          {
           "sample_id": 0,
           "timepoint": 16,
           "trajectory": "traces_var",
           "value": 0.3585905939735097
          },
          {
           "sample_id": 0,
           "timepoint": 17,
           "trajectory": "traces_var",
           "value": 0.3891337788424402
          },
          {
           "sample_id": 0,
           "timepoint": 18,
           "trajectory": "traces_var",
           "value": 0.4183577378806273
          },
          {
           "sample_id": 0,
           "timepoint": 19,
           "trajectory": "traces_var",
           "value": 0.4463882239033536
          },
          {
           "sample_id": 0,
           "timepoint": 20,
           "trajectory": "traces_var",
           "value": 0.4733331208546378
          },
          {
           "sample_id": 0,
           "timepoint": 21,
           "trajectory": "traces_var",
           "value": 0.4992857369015822
          },
          {
           "sample_id": 0,
           "timepoint": 22,
           "trajectory": "traces_var",
           "value": 0.5243273646415034
          },
          {
           "sample_id": 0,
           "timepoint": 23,
           "trajectory": "traces_var",
           "value": 0.5485292970683517
          },
          {
           "sample_id": 0,
           "timepoint": 24,
           "trajectory": "traces_var",
           "value": 0.5719544333741526
          },
          {
           "sample_id": 0,
           "timepoint": 25,
           "trajectory": "traces_var",
           "value": 0.5946585714732995
          },
          {
           "sample_id": 0,
           "timepoint": 26,
           "trajectory": "traces_var",
           "value": 0.6166914583267353
          },
          {
           "sample_id": 0,
           "timepoint": 27,
           "trajectory": "traces_var",
           "value": 0.6380976509282872
          },
          {
           "sample_id": 0,
           "timepoint": 28,
           "trajectory": "traces_var",
           "value": 0.6589172277647155
          },
          {
           "sample_id": 0,
           "timepoint": 29,
           "trajectory": "traces_var",
           "value": 0.6791863810795935
          },
          {
           "sample_id": 0,
           "timepoint": 30,
           "trajectory": "traces_var",
           "value": 0.6989379132942257
          },
          {
           "sample_id": 0,
           "timepoint": 31,
           "trajectory": "traces_var",
           "value": 0.7182016557440767
          },
          {
           "sample_id": 0,
           "timepoint": 32,
           "trajectory": "traces_var",
           "value": 0.7370048239789517
          },
          {
           "sample_id": 0,
           "timepoint": 33,
           "trajectory": "traces_var",
           "value": 0.7553723209019398
          },
          {
           "sample_id": 0,
           "timepoint": 34,
           "trajectory": "traces_var",
           "value": 0.7733269967399277
          },
          {
           "sample_id": 0,
           "timepoint": 35,
           "trajectory": "traces_var",
           "value": 0.7908898730712972
          },
          {
           "sample_id": 0,
           "timepoint": 36,
           "trajectory": "traces_var",
           "value": 0.8080803367566876
          },
          {
           "sample_id": 0,
           "timepoint": 37,
           "trajectory": "traces_var",
           "value": 0.8249163085331703
          },
          {
           "sample_id": 0,
           "timepoint": 38,
           "trajectory": "traces_var",
           "value": 0.841414390171898
          },
          {
           "sample_id": 0,
           "timepoint": 39,
           "trajectory": "traces_var",
           "value": 0.857589993412893
          },
          {
           "sample_id": 0,
           "timepoint": 40,
           "trajectory": "traces_var",
           "value": 0.8734574533393806
          },
          {
           "sample_id": 0,
           "timepoint": 41,
           "trajectory": "traces_var",
           "value": 0.8890301284087527
          },
          {
           "sample_id": 0,
           "timepoint": 42,
           "trajectory": "traces_var",
           "value": 0.9043204889953402
          },
          {
           "sample_id": 0,
           "timepoint": 43,
           "trajectory": "traces_var",
           "value": 0.9193401960045244
          },
          {
           "sample_id": 0,
           "timepoint": 44,
           "trajectory": "traces_var",
           "value": 0.9341001708749042
          },
          {
           "sample_id": 0,
           "timepoint": 45,
           "trajectory": "traces_var",
           "value": 0.948610658084861
          },
          {
           "sample_id": 0,
           "timepoint": 46,
           "trajectory": "traces_var",
           "value": 0.9628812811137276
          },
          {
           "sample_id": 0,
           "timepoint": 47,
           "trajectory": "traces_var",
           "value": 0.976921092669395
          },
          {
           "sample_id": 0,
           "timepoint": 48,
           "trajectory": "traces_var",
           "value": 0.9907386198784944
          },
          {
           "sample_id": 0,
           "timepoint": 49,
           "trajectory": "traces_var",
           "value": 1.0043419050381004
          },
          {
           "sample_id": 0,
           "timepoint": 50,
           "trajectory": "traces_var",
           "value": 1.017738542446004
          },
          {
           "sample_id": 0,
           "timepoint": 51,
           "trajectory": "traces_var",
           "value": 1.030935711757298
          },
          {
           "sample_id": 0,
           "timepoint": 52,
           "trajectory": "traces_var",
           "value": 1.0439402082561595
          },
          {
           "sample_id": 0,
           "timepoint": 53,
           "trajectory": "traces_var",
           "value": 1.056758470381595
          },
          {
           "sample_id": 0,
           "timepoint": 54,
           "trajectory": "traces_var",
           "value": 1.069396604803044
          },
          {
           "sample_id": 0,
           "timepoint": 55,
           "trajectory": "traces_var",
           "value": 1.08186040930501
          },
          {
           "sample_id": 0,
           "timepoint": 56,
           "trajectory": "traces_var",
           "value": 1.0941553937082704
          },
          {
           "sample_id": 0,
           "timepoint": 57,
           "trajectory": "traces_var",
           "value": 1.106286799027982
          },
          {
           "sample_id": 0,
           "timepoint": 58,
           "trajectory": "traces_var",
           "value": 1.1182596150454045
          },
          {
           "sample_id": 0,
           "timepoint": 59,
           "trajectory": "traces_var",
           "value": 1.1300785964495457
          },
          {
           "sample_id": 0,
           "timepoint": 60,
           "trajectory": "traces_var",
           "value": 1.14174827768725
          },
          {
           "sample_id": 0,
           "timepoint": 61,
           "trajectory": "traces_var",
           "value": 1.1532729866447509
          },
          {
           "sample_id": 0,
           "timepoint": 62,
           "trajectory": "traces_var",
           "value": 1.1646568572701927
          },
          {
           "sample_id": 0,
           "timepoint": 63,
           "trajectory": "traces_var",
           "value": 1.175903841234767
          },
          {
           "sample_id": 0,
           "timepoint": 64,
           "trajectory": "traces_var",
           "value": 1.1870177187197
          },
          {
           "sample_id": 0,
           "timepoint": 65,
           "trajectory": "traces_var",
           "value": 1.1980021084071872
          },
          {
           "sample_id": 0,
           "timepoint": 66,
           "trajectory": "traces_var",
           "value": 1.208860476745308
          },
          {
           "sample_id": 0,
           "timepoint": 67,
           "trajectory": "traces_var",
           "value": 1.2195961465498149
          },
          {
           "sample_id": 0,
           "timepoint": 68,
           "trajectory": "traces_var",
           "value": 1.2302123049994105
          },
          {
           "sample_id": 0,
           "timepoint": 69,
           "trajectory": "traces_var",
           "value": 1.2407120110755157
          },
          {
           "sample_id": 0,
           "timepoint": 70,
           "trajectory": "traces_var",
           "value": 1.2510982024925876
          },
          {
           "sample_id": 0,
           "timepoint": 71,
           "trajectory": "traces_var",
           "value": 1.2613737021606093
          },
          {
           "sample_id": 0,
           "timepoint": 72,
           "trajectory": "traces_var",
           "value": 1.2715412242174502
          },
          {
           "sample_id": 0,
           "timepoint": 73,
           "trajectory": "traces_var",
           "value": 1.2816033796652746
          },
          {
           "sample_id": 0,
           "timepoint": 74,
           "trajectory": "traces_var",
           "value": 1.2915626816420278
          },
          {
           "sample_id": 0,
           "timepoint": 75,
           "trajectory": "traces_var",
           "value": 1.3014215503562216
          },
          {
           "sample_id": 0,
           "timepoint": 76,
           "trajectory": "traces_var",
           "value": 1.311182317710699
          },
          {
           "sample_id": 0,
           "timepoint": 77,
           "trajectory": "traces_var",
           "value": 1.3208472316388085
          },
          {
           "sample_id": 0,
           "timepoint": 78,
           "trajectory": "traces_var",
           "value": 1.3304184601743512
          },
          {
           "sample_id": 0,
           "timepoint": 79,
           "trajectory": "traces_var",
           "value": 1.3398980952748414
          },
          {
           "sample_id": 0,
           "timepoint": 80,
           "trajectory": "traces_var",
           "value": 1.349288156415951
          },
          {
           "sample_id": 0,
           "timepoint": 81,
           "trajectory": "traces_var",
           "value": 1.3585905939735097
          },
          {
           "sample_id": 0,
           "timepoint": 82,
           "trajectory": "traces_var",
           "value": 1.3678072924080735
          },
          {
           "sample_id": 0,
           "timepoint": 83,
           "trajectory": "traces_var",
           "value": 1.3769400732658428
          },
          {
           "sample_id": 0,
           "timepoint": 84,
           "trajectory": "traces_var",
           "value": 1.3859906980086003
          },
          {
           "sample_id": 0,
           "timepoint": 85,
           "trajectory": "traces_var",
           "value": 1.3949608706843206
          },
          {
           "sample_id": 0,
           "timepoint": 86,
           "trajectory": "traces_var",
           "value": 1.4038522404491791
          },
          {
           "sample_id": 0,
           "timepoint": 87,
           "trajectory": "traces_var",
           "value": 1.4126664039508612
          },
          {
           "sample_id": 0,
           "timepoint": 88,
           "trajectory": "traces_var",
           "value": 1.4214049075822957
          },
          {
           "sample_id": 0,
           "timepoint": 89,
           "trajectory": "traces_var",
           "value": 1.4300692496142424
          },
          {
           "sample_id": 0,
           "timepoint": 90,
           "trajectory": "traces_var",
           "value": 1.4386608822145328
          },
          {
           "sample_id": 0,
           "timepoint": 91,
           "trajectory": "traces_var",
           "value": 1.4471812133611708
          },
          {
           "sample_id": 0,
           "timepoint": 92,
           "trajectory": "traces_var",
           "value": 1.4556316086559822
          },
          {
           "sample_id": 0,
           "timepoint": 93,
           "trajectory": "traces_var",
           "value": 1.464013393044991
          },
          {
           "sample_id": 0,
           "timepoint": 94,
           "trajectory": "traces_var",
           "value": 1.4723278524512795
          },
          {
           "sample_id": 0,
           "timepoint": 95,
           "trajectory": "traces_var",
           "value": 1.4805762353256549
          },
          {
           "sample_id": 0,
           "timepoint": 96,
           "trajectory": "traces_var",
           "value": 1.4887597541200843
          },
          {
           "sample_id": 0,
           "timepoint": 97,
           "trajectory": "traces_var",
           "value": 1.4968795866885058
          },
          {
           "sample_id": 0,
           "timepoint": 98,
           "trajectory": "traces_var",
           "value": 1.5049368776192982
          },
          {
           "sample_id": 0,
           "timepoint": 99,
           "trajectory": "traces_var",
           "value": 1.512932739503414
          },
          {
           "sample_id": 0,
           "timepoint": 0,
           "trajectory": "traces_granger",
           "value": -0.9788185955244696
          },
          {
           "sample_id": 0,
           "timepoint": 1,
           "trajectory": "traces_granger",
           "value": 0.0211814044755305
          },
          {
           "sample_id": 0,
           "timepoint": 2,
           "trajectory": "traces_granger",
           "value": 0.2103885194782515
          },
          {
           "sample_id": 0,
           "timepoint": 3,
           "trajectory": "traces_granger",
           "value": 0.3372554174280229
          },
          {
           "sample_id": 0,
           "timepoint": 4,
           "trajectory": "traces_granger",
           "value": 0.4353949668486256
          },
          {
           "sample_id": 0,
           "timepoint": 5,
           "trajectory": "traces_granger",
           "value": 0.516530185696751
          },
          {
           "sample_id": 0,
           "timepoint": 6,
           "trajectory": "traces_granger",
           "value": 0.5862659845488178
          },
          {
           "sample_id": 0,
           "timepoint": 7,
           "trajectory": "traces_granger",
           "value": 0.6477579661733162
          },
          {
           "sample_id": 0,
           "timepoint": 8,
           "trajectory": "traces_granger",
           "value": 0.7029742349829595
          },
          {
           "sample_id": 0,
           "timepoint": 9,
           "trajectory": "traces_granger",
           "value": 0.7532322120444077
          },
          {
           "sample_id": 0,
           "timepoint": 10,
           "trajectory": "traces_granger",
           "value": 0.7994608145144533
          },
          {
           "sample_id": 0,
           "timepoint": 11,
           "trajectory": "traces_granger",
           "value": 0.8423416913134023
          },
          {
           "sample_id": 0,
           "timepoint": 12,
           "trajectory": "traces_granger",
           "value": 0.8823911226797296
          },
          {
           "sample_id": 0,
           "timepoint": 13,
           "trajectory": "traces_granger",
           "value": 0.9200103265914724
          },
          {
           "sample_id": 0,
           "timepoint": 14,
           "trajectory": "traces_granger",
           "value": 0.9555178247432
          },
          {
           "sample_id": 0,
           "timepoint": 15,
           "trajectory": "traces_granger",
           "value": 0.9891710757409607
          },
          {
           "sample_id": 0,
           "timepoint": 16,
           "trajectory": "traces_granger",
           "value": 1.0211814044755303
          },
          {
           "sample_id": 0,
           "timepoint": 17,
           "trajectory": "traces_granger",
           "value": 1.0517245893444611
          },
          {
           "sample_id": 0,
           "timepoint": 18,
           "trajectory": "traces_granger",
           "value": 1.0809485483826482
          },
          {
           "sample_id": 0,
           "timepoint": 19,
           "trajectory": "traces_granger",
           "value": 1.1089790344053745
          },
          {
           "sample_id": 0,
           "timepoint": 20,
           "trajectory": "traces_granger",
           "value": 1.1359239313566587
          },
          {
           "sample_id": 0,
           "timepoint": 21,
           "trajectory": "traces_granger",
           "value": 1.161876547403603
          },
          {
           "sample_id": 0,
           "timepoint": 22,
           "trajectory": "traces_granger",
           "value": 1.1869181751435245
          },
          {
           "sample_id": 0,
           "timepoint": 23,
           "trajectory": "traces_granger",
           "value": 1.2111201075703726
          },
          {
           "sample_id": 0,
           "timepoint": 24,
           "trajectory": "traces_granger",
           "value": 1.2345452438761737
          },
          {
           "sample_id": 0,
           "timepoint": 25,
           "trajectory": "traces_granger",
           "value": 1.2572493819753203
          },
          {
           "sample_id": 0,
           "timepoint": 26,
           "trajectory": "traces_granger",
           "value": 1.2792822688287562
          },
          {
           "sample_id": 0,
           "timepoint": 27,
           "trajectory": "traces_granger",
           "value": 1.300688461430308
          },
          {
           "sample_id": 0,
           "timepoint": 28,
           "trajectory": "traces_granger",
           "value": 1.3215080382667364
          },
          {
           "sample_id": 0,
           "timepoint": 29,
           "trajectory": "traces_granger",
           "value": 1.3417771915816143
          },
          {
           "sample_id": 0,
           "timepoint": 30,
           "trajectory": "traces_granger",
           "value": 1.3615287237962466
          },
          {
           "sample_id": 0,
           "timepoint": 31,
           "trajectory": "traces_granger",
           "value": 1.3807924662460975
          },
          {
           "sample_id": 0,
           "timepoint": 32,
           "trajectory": "traces_granger",
           "value": 1.3995956344809726
          },
          {
           "sample_id": 0,
           "timepoint": 33,
           "trajectory": "traces_granger",
           "value": 1.417963131403961
          },
          {
           "sample_id": 0,
           "timepoint": 34,
           "trajectory": "traces_granger",
           "value": 1.4359178072419485
          },
          {
           "sample_id": 0,
           "timepoint": 35,
           "trajectory": "traces_granger",
           "value": 1.453480683573318
          },
          {
           "sample_id": 0,
           "timepoint": 36,
           "trajectory": "traces_granger",
           "value": 1.4706711472587084
          },
          {
           "sample_id": 0,
           "timepoint": 37,
           "trajectory": "traces_granger",
           "value": 1.4875071190351912
          },
          {
           "sample_id": 0,
           "timepoint": 38,
           "trajectory": "traces_granger",
           "value": 1.5040052006739189
          },
          {
           "sample_id": 0,
           "timepoint": 39,
           "trajectory": "traces_granger",
           "value": 1.5201808039149138
          },
          {
           "sample_id": 0,
           "timepoint": 40,
           "trajectory": "traces_granger",
           "value": 1.5360482638414017
          },
          {
           "sample_id": 0,
           "timepoint": 41,
           "trajectory": "traces_granger",
           "value": 1.5516209389107736
          },
          {
           "sample_id": 0,
           "timepoint": 42,
           "trajectory": "traces_granger",
           "value": 1.566911299497361
          },
          {
           "sample_id": 0,
           "timepoint": 43,
           "trajectory": "traces_granger",
           "value": 1.5819310065065453
          },
          {
           "sample_id": 0,
           "timepoint": 44,
           "trajectory": "traces_granger",
           "value": 1.596690981376925
          },
          {
           "sample_id": 0,
           "timepoint": 45,
           "trajectory": "traces_granger",
           "value": 1.6112014685868818
          },
          {
           "sample_id": 0,
           "timepoint": 46,
           "trajectory": "traces_granger",
           "value": 1.6254720916157483
          },
          {
           "sample_id": 0,
           "timepoint": 47,
           "trajectory": "traces_granger",
           "value": 1.6395119031714158
          },
          {
           "sample_id": 0,
           "timepoint": 48,
           "trajectory": "traces_granger",
           "value": 1.6533294303805153
          },
          {
           "sample_id": 0,
           "timepoint": 49,
           "trajectory": "traces_granger",
           "value": 1.6669327155401212
          },
          {
           "sample_id": 0,
           "timepoint": 50,
           "trajectory": "traces_granger",
           "value": 1.6803293529480248
          },
          {
           "sample_id": 0,
           "timepoint": 51,
           "trajectory": "traces_granger",
           "value": 1.693526522259319
          },
          {
           "sample_id": 0,
           "timepoint": 52,
           "trajectory": "traces_granger",
           "value": 1.7065310187581806
          },
          {
           "sample_id": 0,
           "timepoint": 53,
           "trajectory": "traces_granger",
           "value": 1.719349280883616
          },
          {
           "sample_id": 0,
           "timepoint": 54,
           "trajectory": "traces_granger",
           "value": 1.731987415305065
          },
          {
           "sample_id": 0,
           "timepoint": 55,
           "trajectory": "traces_granger",
           "value": 1.7444512198070308
          },
          {
           "sample_id": 0,
           "timepoint": 56,
           "trajectory": "traces_granger",
           "value": 1.7567462042102913
          },
          {
           "sample_id": 0,
           "timepoint": 57,
           "trajectory": "traces_granger",
           "value": 1.768877609530003
          },
          {
           "sample_id": 0,
           "timepoint": 58,
           "trajectory": "traces_granger",
           "value": 1.7808504255474251
          },
          {
           "sample_id": 0,
           "timepoint": 59,
           "trajectory": "traces_granger",
           "value": 1.7926694069515663
          },
          {
           "sample_id": 0,
           "timepoint": 60,
           "trajectory": "traces_granger",
           "value": 1.804339088189271
          },
          {
           "sample_id": 0,
           "timepoint": 61,
           "trajectory": "traces_granger",
           "value": 1.815863797146772
          },
          {
           "sample_id": 0,
           "timepoint": 62,
           "trajectory": "traces_granger",
           "value": 1.8272476677722136
          },
          {
           "sample_id": 0,
           "timepoint": 63,
           "trajectory": "traces_granger",
           "value": 1.838494651736788
          },
          {
           "sample_id": 0,
           "timepoint": 64,
           "trajectory": "traces_granger",
           "value": 1.8496085292217208
          },
          {
           "sample_id": 0,
           "timepoint": 65,
           "trajectory": "traces_granger",
           "value": 1.860592918909208
          },
          {
           "sample_id": 0,
           "timepoint": 66,
           "trajectory": "traces_granger",
           "value": 1.8714512872473288
          },
          {
           "sample_id": 0,
           "timepoint": 67,
           "trajectory": "traces_granger",
           "value": 1.882186957051836
          },
          {
           "sample_id": 0,
           "timepoint": 68,
           "trajectory": "traces_granger",
           "value": 1.892803115501431
          },
          {
           "sample_id": 0,
           "timepoint": 69,
           "trajectory": "traces_granger",
           "value": 1.9033028215775365
          },
          {
           "sample_id": 0,
           "timepoint": 70,
           "trajectory": "traces_granger",
           "value": 1.9136890129946085
          },
          {
           "sample_id": 0,
           "timepoint": 71,
           "trajectory": "traces_granger",
           "value": 1.92396451266263
          },
          {
           "sample_id": 0,
           "timepoint": 72,
           "trajectory": "traces_granger",
           "value": 1.934132034719471
          },
          {
           "sample_id": 0,
           "timepoint": 73,
           "trajectory": "traces_granger",
           "value": 1.9441941901672957
          },
          {
           "sample_id": 0,
           "timepoint": 74,
           "trajectory": "traces_granger",
           "value": 1.9541534921440489
          },
          {
           "sample_id": 0,
           "timepoint": 75,
           "trajectory": "traces_granger",
           "value": 1.9640123608582425
          },
          {
           "sample_id": 0,
           "timepoint": 76,
           "trajectory": "traces_granger",
           "value": 1.97377312821272
          },
          {
           "sample_id": 0,
           "timepoint": 77,
           "trajectory": "traces_granger",
           "value": 1.9834380421408293
          },
          {
           "sample_id": 0,
           "timepoint": 78,
           "trajectory": "traces_granger",
           "value": 1.993009270676372
          },
          {
           "sample_id": 0,
           "timepoint": 79,
           "trajectory": "traces_granger",
           "value": 2.002488905776862
          },
          {
           "sample_id": 0,
           "timepoint": 80,
           "trajectory": "traces_granger",
           "value": 2.011878966917972
          },
          {
           "sample_id": 0,
           "timepoint": 81,
           "trajectory": "traces_granger",
           "value": 2.0211814044755307
          },
          {
           "sample_id": 0,
           "timepoint": 82,
           "trajectory": "traces_granger",
           "value": 2.0303981029100946
          },
          {
           "sample_id": 0,
           "timepoint": 83,
           "trajectory": "traces_granger",
           "value": 2.0395308837678634
          },
          {
           "sample_id": 0,
           "timepoint": 84,
           "trajectory": "traces_granger",
           "value": 2.0485815085106216
          },
          {
           "sample_id": 0,
           "timepoint": 85,
           "trajectory": "traces_granger",
           "value": 2.057551681186341
          },
          {
           "sample_id": 0,
           "timepoint": 86,
           "trajectory": "traces_granger",
           "value": 2.0664430509512
          },
          {
           "sample_id": 0,
           "timepoint": 87,
           "trajectory": "traces_granger",
           "value": 2.075257214452882
          },
          {
           "sample_id": 0,
           "timepoint": 88,
           "trajectory": "traces_granger",
           "value": 2.0839957180843163
          },
          {
           "sample_id": 0,
           "timepoint": 89,
           "trajectory": "traces_granger",
           "value": 2.0926600601162635
          },
          {
           "sample_id": 0,
           "timepoint": 90,
           "trajectory": "traces_granger",
           "value": 2.101251692716554
          },
          {
           "sample_id": 0,
           "timepoint": 91,
           "trajectory": "traces_granger",
           "value": 2.109772023863192
          },
          {
           "sample_id": 0,
           "timepoint": 92,
           "trajectory": "traces_granger",
           "value": 2.118222419158003
          },
          {
           "sample_id": 0,
           "timepoint": 93,
           "trajectory": "traces_granger",
           "value": 2.126604203547012
          },
          {
           "sample_id": 0,
           "timepoint": 94,
           "trajectory": "traces_granger",
           "value": 2.1349186629533
          },
          {
           "sample_id": 0,
           "timepoint": 95,
           "trajectory": "traces_granger",
           "value": 2.143167045827676
          },
          {
           "sample_id": 0,
           "timepoint": 96,
           "trajectory": "traces_granger",
           "value": 2.1513505646221054
          },
          {
           "sample_id": 0,
           "timepoint": 97,
           "trajectory": "traces_granger",
           "value": 2.1594703971905265
          },
          {
           "sample_id": 0,
           "timepoint": 98,
           "trajectory": "traces_granger",
           "value": 2.167527688121319
          },
          {
           "sample_id": 0,
           "timepoint": 99,
           "trajectory": "traces_granger",
           "value": 2.175523550005435
          }
         ]
        },
        {
         "name": "points",
         "values": []
        },
        {
         "name": "markers",
         "values": []
        },
        {
         "name": "selected",
         "on": [
          {
           "remove": true,
           "trigger": "clear"
          },
          {
           "remove": true,
           "trigger": "!shift"
          },
          {
           "insert": "clicked",
           "trigger": "!shift && clicked"
          },
          {
           "toggle": "clicked",
           "trigger": "shift && clicked"
          }
         ]
        },
        {
         "name": "selectedData",
         "on": [
          {
           "remove": true,
           "trigger": "clearData"
          },
          {
           "toggle": "clickedData",
           "trigger": "clickedData"
          }
         ]
        }
       ],
       "height": 300,
       "legends": [
        {
         "encode": {
          "labels": {
           "interactive": true,
           "name": "legendLabel",
           "update": {
            "opacity": [
             {
              "test": "!length(data('selectedData')) || indata('selectedData', 'value', datum.value)",
              "value": 1
             },
             {
              "value": 0.25
             }
            ]
           }
          },
          "symbols": {
           "interactive": true,
           "name": "legendSymbol",
           "update": {
            "fill": {
             "value": "transparent"
            },
            "opacity": [
             {
              "test": "!length(data('selected')) || indata('selected', 'value', datum.value) || indata('selectedData', 'value', datum.value)",
              "value": 0.7
             },
             {
              "value": 0.15
             }
            ],
            "size": {
             "value": 64
            },
            "strokeWidth": {
             "value": 2
            }
           }
          }
         },
         "name": "color_legend",
         "stroke": "color"
        }
       ],
       "marks": [
        {
         "from": {
          "facet": {
           "data": "points",
           "groupby": "trajectory",
           "name": "points_split"
          }
         },
         "marks": [
          {
           "encode": {
            "hover": {
             "fillOpacity": {
              "value": 0.9
             }
            },
            "update": {
             "fill": {
              "field": "trajectory",
              "scale": "color"
             },
             "fillOpacity": [
              {
               "test": "!length(data('selected')) || indata('selected', 'value', datum.trajectory)",
               "value": 0.5
              },
              {
               "value": 0.15
              }
             ],
             "size": {
              "value": 35
             },
             "stroke": {
              "field": "trajectory",
              "scale": "color"
             },
             "strokeOpacity": [
              {
               "test": "!length(data('selected')) || indata('selected', 'value', datum.trajectory)",
               "value": 0.75
              },
              {
               "value": 0.15
              }
             ],
             "strokeWidth": {
              "value": 2
             },
             "tooltip": {
              "field": "value"
             },
             "x": {
              "field": "timepoint",
              "scale": "xscale"
             },
             "y": {
              "field": "value",
              "scale": "yscale"
             }
            }
           },
           "from": {
            "data": "points_split"
           },
           "name": "_points_symbol",
           "type": "symbol",
           "zindex": 3
          },
          {
           "encode": {
            "hover": {
             "fillOpacity": {
              "value": 0.9
             }
            },
            "update": {
             "interpolate": {
              "value": "linear"
             },
             "stroke": {
              "field": "trajectory",
              "scale": "color"
             },
             "strokeDash": {
              "value": [
               5,
               3
              ]
             },
             "strokeOpacity": [
              {
               "test": "!length(data('selected')) || indata('selected', 'value', datum.trajectory)",
               "value": 0.3
              },
              {
               "value": 0.1
              }
             ],
             "strokeWidth": {
              "value": 2
             },
             "x": {
              "field": "timepoint",
              "scale": "xscale"
             },
             "y": {
              "field": "value",
              "scale": "yscale"
             }
            }
           },
           "from": {
            "data": "points_split"
           },
           "name": "_points_line",
           "type": "line",
           "zindex": 3
          }
         ],
         "name": "_points",
         "type": "group",
         "zindex": 3
        },
        {
         "from": {
          "facet": {
           "data": "traces",
           "groupby": "trajectory",
           "name": "traces_split"
          }
         },
         "marks": [
          {
           "encode": {
            "hover": {
             "fillOpacity": {
              "value": 0.9
             }
            },
            "update": {
             "interpolate": {
              "value": "linear"
             },
             "stroke": {
              "field": "trajectory",
              "scale": "color"
             },
             "strokeOpacity": [
              {
               "test": "!length(data('selected')) || indata('selected', 'value', datum.trajectory)",
               "value": 0.75
              },
              {
               "value": 0.15
              }
             ],
             "strokeWidth": {
              "value": 2
             },
             "x": {
              "field": "timepoint",
              "scale": "xscale"
             },
             "y": {
              "field": "value",
              "scale": "yscale"
             }
            }
           },
           "from": {
            "data": "traces_split"
           },
           "name": "_traces_lines",
           "type": "line"
          }
         ],
         "name": "_traces",
         "type": "group",
         "zindex": 2
        },
        {
         "from": {
          "facet": {
           "data": "distributions",
           "groupby": "trajectory",
           "name": "trajectory_split"
          }
         },
         "marks": [
          {
           "encode": {
            "hover": {
             "fillOpacity": {
              "value": 0.9
             }
            },
            "update": {
             "fill": {
              "field": "trajectory",
              "scale": "color"
             },
             "fillOpacity": [
              {
               "test": "!length(data('selected')) || indata('selected', 'value', datum.trajectory)",
               "value": 0.5
              },
              {
               "value": 0.15
              }
             ],
             "interpolate": {
              "value": "linear"
             },
             "stroke": {
              "field": "trajectory",
              "scale": "color"
             },
             "strokeOpacity": [
              {
               "test": "!length(data('selected')) || indata('selected', 'value', datum.trajectory)",
               "value": 0.75
              },
              {
               "value": 0.15
              }
             ],
             "strokeWidth": {
              "value": 2
             },
             "x": {
              "field": "timepoint",
              "scale": "xscale"
             },
             "y": {
              "field": "upper",
              "scale": "yscale"
             },
             "y2": {
              "field": "lower",
              "scale": "yscale"
             }
            }
           },
           "from": {
            "data": "trajectory_split"
           },
           "interactive": true,
           "name": "area",
           "type": "area"
          }
         ],
         "name": "_distributions",
         "type": "group",
         "zindex": 1
        },
        {
         "marks": [
          {
           "encode": {
            "enter": {
             "stroke": {
              "value": "lightgray"
             }
            },
            "update": {
             "opacity": {
              "value": 1
             },
             "x": {
              "field": "timepoint",
              "scale": "xscale"
             },
             "y": {
              "signal": "height"
             },
             "y2": {
              "value": 0
             }
            }
           },
           "from": {
            "data": "markers"
           },
           "name": "_marker text",
           "type": "rule"
          },
          {
           "encode": {
            "enter": {
             "fontSize": {
              "value": 8
             },
             "text": {
              "field": "datum.label"
             },
             "y": {
              "value": 0
             }
            }
           },
           "from": {
            "data": "_marker text"
           },
           "name": "_marker flags",
           "transform": [
            {
             "as": [
              "x",
              "_y",
              "opacity",
              "align",
              "baseline"
             ],
             "lineAnchor": "start",
             "offset": [
              1
             ],
             "size": {
              "signal": "[width, height]"
             },
             "type": "label"
            }
           ],
           "type": "text"
          }
         ],
         "name": "_markers",
         "type": "group"
        }
       ],
       "scales": [
        {
         "domain": {
          "fields": [
           {
            "data": "distributions",
            "field": "timepoint"
           },
           {
            "data": "traces",
            "field": "timepoint"
           },
           {
            "data": "points",
            "field": "timepoint"
           },
           {
            "data": "markers",
            "field": "timepoint"
           }
          ]
         },
         "name": "xscale",
         "range": "width",
         "type": "linear",
         "zero": false
        },
        {
         "domain": {
          "fields": [
           {
            "data": "distributions",
            "field": "lower"
           },
           {
            "data": "distributions",
            "field": "upper"
           },
           {
            "data": "traces",
            "field": "value"
           },
           {
            "data": "points",
            "field": "value"
           }
          ]
         },
         "name": "yscale",
         "nice": true,
         "range": "height",
         "type": "linear",
         "zero": true
        },
        {
         "domain": {
          "fields": [
           {
            "data": "distributions",
            "field": "trajectory"
           },
           {
            "data": "traces",
            "field": "trajectory"
           },
           {
            "data": "points",
            "field": "trajectory"
           }
          ],
          "sort": {
           "order": "ascending"
          }
         },
         "name": "color",
         "range": "category",
         "type": "ordinal"
        }
       ],
       "signals": [
        {
         "name": "clear",
         "on": [
          {
           "events": "mouseup[!event.item]",
           "force": true,
           "update": "true"
          }
         ],
         "value": true
        },
        {
         "name": "shift",
         "on": [
          {
           "events": "@legendSymbol:click, @legendLabel:click",
           "force": true,
           "update": "event.shiftKey"
          }
         ],
         "value": false
        },
        {
         "name": "clicked",
         "on": [
          {
           "events": "@legendSymbol:click, @legendLabel:click",
           "force": true,
           "update": "{value: datum.value}"
          }
         ],
         "value": null
        },
        {
         "name": "clearData",
         "on": [
          {
           "events": "mouseup[!event.item]",
           "force": true,
           "update": "true"
          }
         ],
         "value": true
        },
        {
         "name": "clickedData",
         "on": [
          {
           "events": "@area:click",
           "force": true,
           "update": "{value: datum.trajectory}"
          }
         ],
         "value": null
        }
       ],
       "width": 500
      }
     },
     "metadata": {},
     "output_type": "display_data"
    }
   ],
   "source": [
    "#'timepoint_id', 'sample_id'\n",
    "sin_distribution = pd.read_csv(\"paper_sin/paper_sin_old_df.csv\")\n",
    "sin_distribution = sin_distribution.rename(\n",
    "            columns={\n",
    "                'Unnamed: 0': \"timepoint_id\",\n",
    "            }\n",
    "        )\n",
    "sin_distribution = sin_distribution.melt(id_vars=[\"timepoint_id\"], \n",
    "        var_name=\"sample_id\", \n",
    "        value_name=\"same_stat_state\")\n",
    "\n",
    "\n",
    "traces = pyciemss.visuals.trajectories.select_traces(sin_distribution, select_by = \"mean\")\n",
    "traces = traces.rename(\n",
    "            columns={\n",
    "                'same_stat_state': \"traces_mean\",\n",
    "            }\n",
    "        )\n",
    "traces['traces_var'] = pyciemss.visuals.trajectories.select_traces(sin_distribution, select_by = \"var\")[\"same_stat_state\"]\n",
    "traces['traces_granger'] = pyciemss.visuals.trajectories.select_traces(sin_distribution, select_by = \"granger\")[\"same_stat_state\"]\n",
    "schema = plots.trajectories(sin_distribution, traces = traces)\n",
    "print(traces_var)\n",
    "plots.save_schema(schema, \"_schema.json\")\n",
    "\n",
    "plots.ipy_display(schema, format=\"interactive\")\n",
    "image = plots.ipy_display(schema, format=\"PNG\").data\n",
    "save_result(image, \"paper_start\", \"png\")"
   ]
  }
 ],
 "metadata": {
  "kernelspec": {
   "display_name": "py310_cfg",
   "language": "python",
   "name": "python3"
  },
  "language_info": {
   "codemirror_mode": {
    "name": "ipython",
    "version": 3
   },
   "file_extension": ".py",
   "mimetype": "text/x-python",
   "name": "python",
   "nbconvert_exporter": "python",
   "pygments_lexer": "ipython3",
   "version": "3.10.13"
  }
 },
 "nbformat": 4,
 "nbformat_minor": 2
}
