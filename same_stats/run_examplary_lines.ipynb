{
 "cells": [
  {
   "cell_type": "code",
   "execution_count": 1,
   "metadata": {},
   "outputs": [
    {
     "name": "stderr",
     "output_type": "stream",
     "text": [
      "/Users/oost464/opt/anaconda3/envs/pyciems310/lib/python3.10/site-packages/threadpoolctl.py:1223: RuntimeWarning: \n",
      "Found Intel OpenMP ('libiomp') and LLVM OpenMP ('libomp') loaded at\n",
      "the same time. Both libraries are known to be incompatible and this\n",
      "can cause random crashes or deadlocks on Linux when loaded in the\n",
      "same Python program.\n",
      "Using threadpoolctl may cause crashes or deadlocks. For more\n",
      "information and possible workarounds, please see\n",
      "    https://github.com/joblib/threadpoolctl/blob/master/multiple_openmp.md\n",
      "\n",
      "  warnings.warn(msg, RuntimeWarning)\n",
      "/Users/oost464/opt/anaconda3/envs/pyciems310/lib/python3.10/site-packages/tslearn/bases/bases.py:15: UserWarning: h5py not installed, hdf5 features will not be supported.\n",
      "Install h5py to use hdf5 features: http://docs.h5py.org/\n",
      "  warn(h5py_msg)\n"
     ]
    }
   ],
   "source": [
    "import json\n",
    "import random\n",
    "from itertools import chain\n",
    "from pathlib import Path\n",
    "import os\n",
    "import networkx as nx\n",
    "import numpy as np\n",
    "import pandas as pd\n",
    "import pytest\n",
    "\n",
    "import pyciemss\n",
    "from pyciemss.integration_utils.result_processing import convert_to_output_format\n",
    "from pyciemss.visuals import plots, vega\n",
    "\n"
   ]
  },
  {
   "cell_type": "code",
   "execution_count": 12,
   "metadata": {},
   "outputs": [
    {
     "name": "stdout",
     "output_type": "stream",
     "text": [
      "Init 1\n"
     ]
    },
    {
     "name": "stderr",
     "output_type": "stream",
     "text": [
      "[Parallel(n_jobs=1)]: Done  49 tasks      | elapsed:    0.0s\n",
      "[Parallel(n_jobs=1)]: Done  49 tasks      | elapsed:    0.0s\n",
      "[Parallel(n_jobs=1)]: Done 199 tasks      | elapsed:    0.0s\n",
      "[Parallel(n_jobs=1)]: Done  49 tasks      | elapsed:    0.0s\n",
      "[Parallel(n_jobs=1)]: Done 199 tasks      | elapsed:    0.0s\n",
      "[Parallel(n_jobs=1)]: Done  49 tasks      | elapsed:    0.0s\n",
      "[Parallel(n_jobs=1)]: Done 199 tasks      | elapsed:    0.0s\n"
     ]
    },
    {
     "name": "stdout",
     "output_type": "stream",
     "text": [
      "1.442 --> "
     ]
    },
    {
     "name": "stderr",
     "output_type": "stream",
     "text": [
      "[Parallel(n_jobs=1)]: Done  49 tasks      | elapsed:    0.0s\n",
      "[Parallel(n_jobs=1)]: Done 199 tasks      | elapsed:    0.0s\n"
     ]
    },
    {
     "name": "stdout",
     "output_type": "stream",
     "text": [
      "0.775 --> "
     ]
    },
    {
     "name": "stderr",
     "output_type": "stream",
     "text": [
      "[Parallel(n_jobs=1)]: Done  49 tasks      | elapsed:    0.0s\n",
      "[Parallel(n_jobs=1)]: Done 199 tasks      | elapsed:    0.0s\n"
     ]
    },
    {
     "name": "stdout",
     "output_type": "stream",
     "text": [
      "0.700 --> "
     ]
    },
    {
     "name": "stderr",
     "output_type": "stream",
     "text": [
      "[Parallel(n_jobs=1)]: Done  49 tasks      | elapsed:    0.0s\n",
      "[Parallel(n_jobs=1)]: Done 199 tasks      | elapsed:    0.0s\n",
      "[Parallel(n_jobs=1)]: Done  49 tasks      | elapsed:    0.0s\n",
      "[Parallel(n_jobs=1)]: Done 199 tasks      | elapsed:    0.0s\n"
     ]
    },
    {
     "name": "stdout",
     "output_type": "stream",
     "text": [
      "0.696 --> 0.696 --> \n",
      "Init 2\n"
     ]
    },
    {
     "name": "stderr",
     "output_type": "stream",
     "text": [
      "[Parallel(n_jobs=1)]: Done  49 tasks      | elapsed:    0.0s\n",
      "[Parallel(n_jobs=1)]: Done  49 tasks      | elapsed:    0.0s\n",
      "[Parallel(n_jobs=1)]: Done 199 tasks      | elapsed:    0.0s\n",
      "[Parallel(n_jobs=1)]: Done  49 tasks      | elapsed:    0.0s\n",
      "[Parallel(n_jobs=1)]: Done 199 tasks      | elapsed:    0.0s\n",
      "[Parallel(n_jobs=1)]: Done  49 tasks      | elapsed:    0.0s\n",
      "[Parallel(n_jobs=1)]: Done 199 tasks      | elapsed:    0.0s\n"
     ]
    },
    {
     "name": "stdout",
     "output_type": "stream",
     "text": [
      "1.133 --> "
     ]
    },
    {
     "name": "stderr",
     "output_type": "stream",
     "text": [
      "[Parallel(n_jobs=1)]: Done  49 tasks      | elapsed:    0.0s\n",
      "[Parallel(n_jobs=1)]: Done 199 tasks      | elapsed:    0.0s\n"
     ]
    },
    {
     "name": "stdout",
     "output_type": "stream",
     "text": [
      "0.757 --> "
     ]
    },
    {
     "name": "stderr",
     "output_type": "stream",
     "text": [
      "[Parallel(n_jobs=1)]: Done  49 tasks      | elapsed:    0.0s\n",
      "[Parallel(n_jobs=1)]: Done 199 tasks      | elapsed:    0.0s\n",
      "[Parallel(n_jobs=1)]: Done  49 tasks      | elapsed:    0.0s\n",
      "[Parallel(n_jobs=1)]: Done 199 tasks      | elapsed:    0.0s\n"
     ]
    },
    {
     "name": "stdout",
     "output_type": "stream",
     "text": [
      "0.742 --> 0.742 --> \n"
     ]
    },
    {
     "name": "stderr",
     "output_type": "stream",
     "text": [
      "[Parallel(n_jobs=1)]: Done  49 tasks      | elapsed:    0.0s\n",
      "[Parallel(n_jobs=1)]: Done 199 tasks      | elapsed:    0.0s\n"
     ]
    },
    {
     "name": "stdout",
     "output_type": "stream",
     "text": [
      "\n"
     ]
    },
    {
     "data": {
      "application/vnd.vega.v5+json": {
       "$schema": "https://vega.github.io/schema/vega/v5.json",
       "axes": [
        {
         "name": "x_axis",
         "orient": "bottom",
         "scale": "xscale",
         "zindex": 100
        },
        {
         "name": "y_axis",
         "orient": "left",
         "scale": "yscale",
         "zindex": 100
        }
       ],
       "background": "white",
       "data": [
        {
         "name": "distributions",
         "transform": [
          {
           "sort": {
            "field": [
             "trajectory",
             "timepoint"
            ]
           },
           "type": "collect"
          }
         ],
         "values": [
          {
           "lower": 0.45964140944424087,
           "timepoint": 0,
           "trajectory": "Example",
           "upper": 2.725525837042478
          },
          {
           "lower": 1.695463341258312,
           "timepoint": 1,
           "trajectory": "Example",
           "upper": 3.807824842198143
          },
          {
           "lower": 2.093134772080549,
           "timepoint": 2,
           "trajectory": "Example",
           "upper": 3.9225448615477627
          },
          {
           "lower": 2.302943434083029,
           "timepoint": 3,
           "trajectory": "Example",
           "upper": 3.939074136447194
          },
          {
           "lower": 2.3954798786969866,
           "timepoint": 4,
           "trajectory": "Example",
           "upper": 3.9924611504296332
          },
          {
           "lower": 2.393124881362939,
           "timepoint": 5,
           "trajectory": "Example",
           "upper": 3.9872426231057414
          },
          {
           "lower": 2.295853116356314,
           "timepoint": 6,
           "trajectory": "Example",
           "upper": 4.031089873296993
          },
          {
           "lower": 2.1498965554868534,
           "timepoint": 7,
           "trajectory": "Example",
           "upper": 4.054429651514464
          },
          {
           "lower": 1.9701214487788576,
           "timepoint": 8,
           "trajectory": "Example",
           "upper": 4.0094615998998915
          },
          {
           "lower": 1.7724558428664428,
           "timepoint": 9,
           "trajectory": "Example",
           "upper": 3.851483955758676
          },
          {
           "lower": 1.5732433424973555,
           "timepoint": 10,
           "trajectory": "Example",
           "upper": 3.654503911735415
          },
          {
           "lower": 1.3884259355917767,
           "timepoint": 11,
           "trajectory": "Example",
           "upper": 3.4557680442802563
          },
          {
           "lower": 1.2326770788302142,
           "timepoint": 12,
           "trajectory": "Example",
           "upper": 3.2708151925377136
          },
          {
           "lower": 1.126101891530539,
           "timepoint": 13,
           "trajectory": "Example",
           "upper": 3.1104052395827484
          },
          {
           "lower": 1.1186282695596146,
           "timepoint": 14,
           "trajectory": "Example",
           "upper": 2.9443433004189816
          },
          {
           "lower": 1.1091154290916343,
           "timepoint": 15,
           "trajectory": "Example",
           "upper": 2.920380997945535
          },
          {
           "lower": 1.1216314993330876,
           "timepoint": 16,
           "trajectory": "Example",
           "upper": 3.016877089796053
          },
          {
           "lower": 1.180263832366126,
           "timepoint": 17,
           "trajectory": "Example",
           "upper": 3.1528509221151975
          },
          {
           "lower": 1.2411295790641639,
           "timepoint": 18,
           "trajectory": "Example",
           "upper": 3.4006971563311996
          },
          {
           "lower": 1.3307143482401613,
           "timepoint": 19,
           "trajectory": "Example",
           "upper": 3.6701664092121202
          },
          {
           "lower": 1.4768264634183756,
           "timepoint": 20,
           "trajectory": "Example",
           "upper": 3.9463550715683984
          },
          {
           "lower": 1.659948890509333,
           "timepoint": 21,
           "trajectory": "Example",
           "upper": 4.213859681426814
          },
          {
           "lower": 1.875279240993899,
           "timepoint": 22,
           "trajectory": "Example",
           "upper": 4.457742998347555
          },
          {
           "lower": 2.1237120646952774,
           "timepoint": 23,
           "trajectory": "Example",
           "upper": 4.664469799033806
          },
          {
           "lower": 2.391368670030717,
           "timepoint": 24,
           "trajectory": "Example",
           "upper": 4.822754470414054
          },
          {
           "lower": 2.663119725086244,
           "timepoint": 25,
           "trajectory": "Example",
           "upper": 4.942567565029345
          },
          {
           "lower": 2.9235304457655937,
           "timepoint": 26,
           "trajectory": "Example",
           "upper": 5.070759058879301
          },
          {
           "lower": 3.157824209919573,
           "timepoint": 27,
           "trajectory": "Example",
           "upper": 5.02721773365004
          },
          {
           "lower": 3.2959234541748055,
           "timepoint": 28,
           "trajectory": "Example",
           "upper": 4.938920057148716
          },
          {
           "lower": 3.294587396352933,
           "timepoint": 29,
           "trajectory": "Example",
           "upper": 4.905651936486142
          },
          {
           "lower": 3.2566626103934997,
           "timepoint": 30,
           "trajectory": "Example",
           "upper": 4.846882526082578
          },
          {
           "lower": 3.115130536703008,
           "timepoint": 31,
           "trajectory": "Example",
           "upper": 4.826052814167392
          },
          {
           "lower": 2.9311580166762754,
           "timepoint": 32,
           "trajectory": "Example",
           "upper": 4.814834026483536
          },
          {
           "lower": 2.7173775633844133,
           "timepoint": 33,
           "trajectory": "Example",
           "upper": 4.742782396232526
          },
          {
           "lower": 2.4882458622083417,
           "timepoint": 34,
           "trajectory": "Example",
           "upper": 4.565759100806183
          },
          {
           "lower": 2.2591465689057593,
           "timepoint": 35,
           "trajectory": "Example",
           "upper": 4.341047718359718
          },
          {
           "lower": 2.04543532935634,
           "timepoint": 36,
           "trajectory": "Example",
           "upper": 4.115533644595786
          },
          {
           "lower": 1.8614864138500704,
           "timepoint": 37,
           "trajectory": "Example",
           "upper": 3.9043249928697343
          },
          {
           "lower": 1.724292917025802,
           "timepoint": 38,
           "trajectory": "Example",
           "upper": 3.7216170751259177
          },
          {
           "lower": 1.6811928075245532,
           "timepoint": 39,
           "trajectory": "Example",
           "upper": 3.5363778375643937
          },
          {
           "lower": 1.6636765657328747,
           "timepoint": 40,
           "trajectory": "Example",
           "upper": 3.4546281969259374
          },
          {
           "lower": 1.650350479632418,
           "timepoint": 41,
           "trajectory": "Example",
           "upper": 3.5404829740789054
          },
          {
           "lower": 1.6950541703410584,
           "timepoint": 42,
           "trajectory": "Example",
           "upper": 3.6414821501038572
          },
          {
           "lower": 1.7385209454438988,
           "timepoint": 43,
           "trajectory": "Example",
           "upper": 3.8710323883444593
          },
          {
           "lower": 1.8068182436236488,
           "timepoint": 44,
           "trajectory": "Example",
           "upper": 4.125044882208767
          },
          {
           "lower": 1.9332007216416969,
           "timepoint": 45,
           "trajectory": "Example",
           "upper": 4.3886543133448646
          },
          {
           "lower": 2.101499575067828,
           "timepoint": 46,
           "trajectory": "Example",
           "upper": 4.646382539389886
          },
          {
           "lower": 2.3003780331305115,
           "timepoint": 47,
           "trajectory": "Example",
           "upper": 4.883101598463914
          },
          {
           "lower": 2.5346858773206744,
           "timepoint": 48,
           "trajectory": "Example",
           "upper": 5.0849749006122975
          },
          {
           "lower": 2.7907221299530036,
           "timepoint": 49,
           "trajectory": "Example",
           "upper": 5.24031809087973
          },
          {
           "lower": 3.053421077612833,
           "timepoint": 50,
           "trajectory": "Example",
           "upper": 5.345786938244098
          },
          {
           "lower": 3.307289489779908,
           "timepoint": 51,
           "trajectory": "Example",
           "upper": 5.484217504718339
          },
          {
           "lower": 3.5373703895298547,
           "timepoint": 52,
           "trajectory": "Example",
           "upper": 5.44643417429752
          },
          {
           "lower": 3.7015812685551586,
           "timepoint": 53,
           "trajectory": "Example",
           "upper": 5.34885969398807
          },
          {
           "lower": 3.686466652714646,
           "timepoint": 54,
           "trajectory": "Example",
           "upper": 5.291356764764528
          },
          {
           "lower": 3.657203743269024,
           "timepoint": 55,
           "trajectory": "Example",
           "upper": 5.243498920655584
          },
          {
           "lower": 3.515091721742178,
           "timepoint": 56,
           "trajectory": "Example",
           "upper": 5.201350608069062
          },
          {
           "lower": 3.3293435822295767,
           "timepoint": 57,
           "trajectory": "Example",
           "upper": 5.191623364041925
          },
          {
           "lower": 3.1122675061961522,
           "timepoint": 58,
           "trajectory": "Example",
           "upper": 5.121456857455307
          },
          {
           "lower": 2.8781093990583555,
           "timepoint": 59,
           "trajectory": "Example",
           "upper": 4.953825846259992
          },
          {
           "lower": 2.6421674592579,
           "timepoint": 60,
           "trajectory": "Example",
           "upper": 4.724422440018445
          },
          {
           "lower": 2.4198413059897743,
           "timepoint": 61,
           "trajectory": "Example",
           "upper": 4.492422075721709
          },
          {
           "lower": 2.22567478717707,
           "timepoint": 62,
           "trajectory": "Example",
           "upper": 4.272970096878356
          },
          {
           "lower": 2.0739340316513397,
           "timepoint": 63,
           "trajectory": "Example",
           "upper": 4.080422710244275
          },
          {
           "lower": 2.0095932988532406,
           "timepoint": 64,
           "trajectory": "Example",
           "upper": 3.893768896959602
          },
          {
           "lower": 1.9969678140042664,
           "timepoint": 65,
           "trajectory": "Example",
           "upper": 3.764113984405781
          },
          {
           "lower": 1.9695481655105804,
           "timepoint": 66,
           "trajectory": "Example",
           "upper": 3.8545133996939667
          },
          {
           "lower": 2.010841033653729,
           "timepoint": 67,
           "trajectory": "Example",
           "upper": 3.9339829422987367
          },
          {
           "lower": 2.0468940619679263,
           "timepoint": 68,
           "trajectory": "Example",
           "upper": 4.1516951141442755
          },
          {
           "lower": 2.102855178160455,
           "timepoint": 69,
           "trajectory": "Example",
           "upper": 4.398997635196642
          },
          {
           "lower": 2.217694943608124,
           "timepoint": 70,
           "trajectory": "Example",
           "upper": 4.658063650383358
          },
          {
           "lower": 2.378782088937947,
           "timepoint": 71,
           "trajectory": "Example",
           "upper": 4.913434275633562
          },
          {
           "lower": 2.5681346436838246,
           "timepoint": 72,
           "trajectory": "Example",
           "upper": 5.149873397275373
          },
          {
           "lower": 2.794703745918837,
           "timepoint": 73,
           "trajectory": "Example",
           "upper": 5.353315154177444
          },
          {
           "lower": 3.0450305554640567,
           "timepoint": 74,
           "trajectory": "Example",
           "upper": 5.511738652478174
          },
          {
           "lower": 3.3041726051084934,
           "timepoint": 75,
           "trajectory": "Example",
           "upper": 5.6159155277333
          },
          {
           "lower": 3.5566330059482114,
           "timepoint": 76,
           "trajectory": "Example",
           "upper": 5.753357800796337
          },
          {
           "lower": 3.7873241182030197,
           "timepoint": 77,
           "trajectory": "Example",
           "upper": 5.734662118825553
          },
          {
           "lower": 3.973120189414283,
           "timepoint": 78,
           "trajectory": "Example",
           "upper": 5.628620695862048
          },
          {
           "lower": 3.962314314127967,
           "timepoint": 79,
           "trajectory": "Example",
           "upper": 5.556308379589245
          },
          {
           "lower": 3.941310172177645,
           "timepoint": 80,
           "trajectory": "Example",
           "upper": 5.5236580207916575
          },
          {
           "lower": 3.8027644413822825,
           "timepoint": 81,
           "trajectory": "Example",
           "upper": 5.464038183337828
          },
          {
           "lower": 3.6192156361560857,
           "timepoint": 82,
           "trajectory": "Example",
           "upper": 5.459583608945362
          },
          {
           "lower": 3.4026508034183363,
           "timepoint": 83,
           "trajectory": "Example",
           "upper": 5.394364051159616
          },
          {
           "lower": 3.16710448909556,
           "timepoint": 84,
           "trajectory": "Example",
           "upper": 5.240265040116684
          },
          {
           "lower": 2.9277862502208047,
           "timepoint": 85,
           "trajectory": "Example",
           "upper": 5.0101079237524875
          },
          {
           "lower": 2.7001351068150754,
           "timepoint": 86,
           "trajectory": "Example",
           "upper": 4.774921845392619
          },
          {
           "lower": 2.4988597233199603,
           "timepoint": 87,
           "trajectory": "Example",
           "upper": 4.550363121482943
          },
          {
           "lower": 2.337023996608465,
           "timepoint": 88,
           "trajectory": "Example",
           "upper": 4.350943294232412
          },
          {
           "lower": 2.2526899341509337,
           "timepoint": 89,
           "trajectory": "Example",
           "upper": 4.162924299101022
          },
          {
           "lower": 2.247426194248352,
           "timepoint": 90,
           "trajectory": "Example",
           "upper": 4.007571760250761
          },
          {
           "lower": 2.208412693978183,
           "timepoint": 91,
           "trajectory": "Example",
           "upper": 4.088074327682731
          },
          {
           "lower": 2.237930755436848,
           "timepoint": 92,
           "trajectory": "Example",
           "upper": 4.15763131657487
          },
          {
           "lower": 2.2781590582191353,
           "timepoint": 93,
           "trajectory": "Example",
           "upper": 4.355757927382029
          },
          {
           "lower": 2.3249409044973435,
           "timepoint": 94,
           "trajectory": "Example",
           "upper": 4.598164739118285
          },
          {
           "lower": 2.430109424156326,
           "timepoint": 95,
           "trajectory": "Example",
           "upper": 4.854399988448003
          },
          {
           "lower": 2.58581654177425,
           "timepoint": 96,
           "trajectory": "Example",
           "upper": 5.109046265571823
          },
          {
           "lower": 2.7672704811868467,
           "timepoint": 97,
           "trajectory": "Example",
           "upper": 5.346780887753734
          },
          {
           "lower": 2.9876129391526103,
           "timepoint": 98,
           "trajectory": "Example",
           "upper": 5.553328664085109
          },
          {
           "lower": 3.2336461647627575,
           "timepoint": 99,
           "trajectory": "Example",
           "upper": 5.716349530147731
          }
         ]
        },
        {
         "name": "traces",
         "transform": [
          {
           "expr": "isValid(datum.value)",
           "type": "filter"
          },
          {
           "sort": {
            "field": [
             "trajectory",
             "timepoint"
            ]
           },
           "type": "collect"
          }
         ],
         "values": [
          {
           "color_by": "Envelope Mean",
           "sample_id": 0,
           "timepoint": 0,
           "trajectory": "Envelope_Mean",
           "value": 1.5925836232433594
          },
          {
           "color_by": "Envelope Mean",
           "sample_id": 0,
           "timepoint": 1,
           "trajectory": "Envelope_Mean",
           "value": 2.7516440917282274
          },
          {
           "color_by": "Envelope Mean",
           "sample_id": 0,
           "timepoint": 2,
           "trajectory": "Envelope_Mean",
           "value": 3.0078398168141556
          },
          {
           "color_by": "Envelope Mean",
           "sample_id": 0,
           "timepoint": 3,
           "trajectory": "Envelope_Mean",
           "value": 3.1210087852651114
          },
          {
           "color_by": "Envelope Mean",
           "sample_id": 0,
           "timepoint": 4,
           "trajectory": "Envelope_Mean",
           "value": 3.19397051456331
          },
          {
           "color_by": "Envelope Mean",
           "sample_id": 0,
           "timepoint": 5,
           "trajectory": "Envelope_Mean",
           "value": 3.19018375223434
          },
          {
           "color_by": "Envelope Mean",
           "sample_id": 0,
           "timepoint": 6,
           "trajectory": "Envelope_Mean",
           "value": 3.1634714948266534
          },
          {
           "color_by": "Envelope Mean",
           "sample_id": 0,
           "timepoint": 7,
           "trajectory": "Envelope_Mean",
           "value": 3.1021631035006587
          },
          {
           "color_by": "Envelope Mean",
           "sample_id": 0,
           "timepoint": 8,
           "trajectory": "Envelope_Mean",
           "value": 2.9897915243393745
          },
          {
           "color_by": "Envelope Mean",
           "sample_id": 0,
           "timepoint": 9,
           "trajectory": "Envelope_Mean",
           "value": 2.8119698993125595
          },
          {
           "color_by": "Envelope Mean",
           "sample_id": 0,
           "timepoint": 10,
           "trajectory": "Envelope_Mean",
           "value": 2.6138736271163854
          },
          {
           "color_by": "Envelope Mean",
           "sample_id": 0,
           "timepoint": 11,
           "trajectory": "Envelope_Mean",
           "value": 2.4220969899360165
          },
          {
           "color_by": "Envelope Mean",
           "sample_id": 0,
           "timepoint": 12,
           "trajectory": "Envelope_Mean",
           "value": 2.251746135683964
          },
          {
           "color_by": "Envelope Mean",
           "sample_id": 0,
           "timepoint": 13,
           "trajectory": "Envelope_Mean",
           "value": 2.1182535655566435
          },
          {
           "color_by": "Envelope Mean",
           "sample_id": 0,
           "timepoint": 14,
           "trajectory": "Envelope_Mean",
           "value": 2.031485784989298
          },
          {
           "color_by": "Envelope Mean",
           "sample_id": 0,
           "timepoint": 15,
           "trajectory": "Envelope_Mean",
           "value": 2.0147482135185846
          },
          {
           "color_by": "Envelope Mean",
           "sample_id": 0,
           "timepoint": 16,
           "trajectory": "Envelope_Mean",
           "value": 2.06925429456457
          },
          {
           "color_by": "Envelope Mean",
           "sample_id": 0,
           "timepoint": 17,
           "trajectory": "Envelope_Mean",
           "value": 2.166557377240662
          },
          {
           "color_by": "Envelope Mean",
           "sample_id": 0,
           "timepoint": 18,
           "trajectory": "Envelope_Mean",
           "value": 2.3209133676976816
          },
          {
           "color_by": "Envelope Mean",
           "sample_id": 0,
           "timepoint": 19,
           "trajectory": "Envelope_Mean",
           "value": 2.500440378726141
          },
          {
           "color_by": "Envelope Mean",
           "sample_id": 0,
           "timepoint": 20,
           "trajectory": "Envelope_Mean",
           "value": 2.7115907674933872
          },
          {
           "color_by": "Envelope Mean",
           "sample_id": 0,
           "timepoint": 21,
           "trajectory": "Envelope_Mean",
           "value": 2.9369042859680734
          },
          {
           "color_by": "Envelope Mean",
           "sample_id": 0,
           "timepoint": 22,
           "trajectory": "Envelope_Mean",
           "value": 3.1665111196707274
          },
          {
           "color_by": "Envelope Mean",
           "sample_id": 0,
           "timepoint": 23,
           "trajectory": "Envelope_Mean",
           "value": 3.3940909318645414
          },
          {
           "color_by": "Envelope Mean",
           "sample_id": 0,
           "timepoint": 24,
           "trajectory": "Envelope_Mean",
           "value": 3.6070615702223856
          },
          {
           "color_by": "Envelope Mean",
           "sample_id": 0,
           "timepoint": 25,
           "trajectory": "Envelope_Mean",
           "value": 3.802843645057794
          },
          {
           "color_by": "Envelope Mean",
           "sample_id": 0,
           "timepoint": 26,
           "trajectory": "Envelope_Mean",
           "value": 3.9971447523224475
          },
          {
           "color_by": "Envelope Mean",
           "sample_id": 0,
           "timepoint": 27,
           "trajectory": "Envelope_Mean",
           "value": 4.092520971784806
          },
          {
           "color_by": "Envelope Mean",
           "sample_id": 0,
           "timepoint": 28,
           "trajectory": "Envelope_Mean",
           "value": 4.117421755661761
          },
          {
           "color_by": "Envelope Mean",
           "sample_id": 0,
           "timepoint": 29,
           "trajectory": "Envelope_Mean",
           "value": 4.100119666419538
          },
          {
           "color_by": "Envelope Mean",
           "sample_id": 0,
           "timepoint": 30,
           "trajectory": "Envelope_Mean",
           "value": 4.051772568238039
          },
          {
           "color_by": "Envelope Mean",
           "sample_id": 0,
           "timepoint": 31,
           "trajectory": "Envelope_Mean",
           "value": 3.9705916754352
          },
          {
           "color_by": "Envelope Mean",
           "sample_id": 0,
           "timepoint": 32,
           "trajectory": "Envelope_Mean",
           "value": 3.8729960215799055
          },
          {
           "color_by": "Envelope Mean",
           "sample_id": 0,
           "timepoint": 33,
           "trajectory": "Envelope_Mean",
           "value": 3.73007997980847
          },
          {
           "color_by": "Envelope Mean",
           "sample_id": 0,
           "timepoint": 34,
           "trajectory": "Envelope_Mean",
           "value": 3.527002481507262
          },
          {
           "color_by": "Envelope Mean",
           "sample_id": 0,
           "timepoint": 35,
           "trajectory": "Envelope_Mean",
           "value": 3.3000971436327386
          },
          {
           "color_by": "Envelope Mean",
           "sample_id": 0,
           "timepoint": 36,
           "trajectory": "Envelope_Mean",
           "value": 3.080484486976063
          },
          {
           "color_by": "Envelope Mean",
           "sample_id": 0,
           "timepoint": 37,
           "trajectory": "Envelope_Mean",
           "value": 2.8829057033599024
          },
          {
           "color_by": "Envelope Mean",
           "sample_id": 0,
           "timepoint": 38,
           "trajectory": "Envelope_Mean",
           "value": 2.7229549960758597
          },
          {
           "color_by": "Envelope Mean",
           "sample_id": 0,
           "timepoint": 39,
           "trajectory": "Envelope_Mean",
           "value": 2.6087853225444735
          },
          {
           "color_by": "Envelope Mean",
           "sample_id": 0,
           "timepoint": 40,
           "trajectory": "Envelope_Mean",
           "value": 2.559152381329406
          },
          {
           "color_by": "Envelope Mean",
           "sample_id": 0,
           "timepoint": 41,
           "trajectory": "Envelope_Mean",
           "value": 2.5954167268556616
          },
          {
           "color_by": "Envelope Mean",
           "sample_id": 0,
           "timepoint": 42,
           "trajectory": "Envelope_Mean",
           "value": 2.668268160222458
          },
          {
           "color_by": "Envelope Mean",
           "sample_id": 0,
           "timepoint": 43,
           "trajectory": "Envelope_Mean",
           "value": 2.804776666894179
          },
          {
           "color_by": "Envelope Mean",
           "sample_id": 0,
           "timepoint": 44,
           "trajectory": "Envelope_Mean",
           "value": 2.965931562916208
          },
          {
           "color_by": "Envelope Mean",
           "sample_id": 0,
           "timepoint": 45,
           "trajectory": "Envelope_Mean",
           "value": 3.1609275174932807
          },
          {
           "color_by": "Envelope Mean",
           "sample_id": 0,
           "timepoint": 46,
           "trajectory": "Envelope_Mean",
           "value": 3.3739410572288566
          },
          {
           "color_by": "Envelope Mean",
           "sample_id": 0,
           "timepoint": 47,
           "trajectory": "Envelope_Mean",
           "value": 3.5917398157972125
          },
          {
           "color_by": "Envelope Mean",
           "sample_id": 0,
           "timepoint": 48,
           "trajectory": "Envelope_Mean",
           "value": 3.809830388966486
          },
          {
           "color_by": "Envelope Mean",
           "sample_id": 0,
           "timepoint": 49,
           "trajectory": "Envelope_Mean",
           "value": 4.015520110416366
          },
          {
           "color_by": "Envelope Mean",
           "sample_id": 0,
           "timepoint": 50,
           "trajectory": "Envelope_Mean",
           "value": 4.199604007928466
          },
          {
           "color_by": "Envelope Mean",
           "sample_id": 0,
           "timepoint": 51,
           "trajectory": "Envelope_Mean",
           "value": 4.395753497249124
          },
          {
           "color_by": "Envelope Mean",
           "sample_id": 0,
           "timepoint": 52,
           "trajectory": "Envelope_Mean",
           "value": 4.491902281913688
          },
          {
           "color_by": "Envelope Mean",
           "sample_id": 0,
           "timepoint": 53,
           "trajectory": "Envelope_Mean",
           "value": 4.525220481271614
          },
          {
           "color_by": "Envelope Mean",
           "sample_id": 0,
           "timepoint": 54,
           "trajectory": "Envelope_Mean",
           "value": 4.488911708739587
          },
          {
           "color_by": "Envelope Mean",
           "sample_id": 0,
           "timepoint": 55,
           "trajectory": "Envelope_Mean",
           "value": 4.450351331962304
          },
          {
           "color_by": "Envelope Mean",
           "sample_id": 0,
           "timepoint": 56,
           "trajectory": "Envelope_Mean",
           "value": 4.35822116490562
          },
          {
           "color_by": "Envelope Mean",
           "sample_id": 0,
           "timepoint": 57,
           "trajectory": "Envelope_Mean",
           "value": 4.260483473135751
          },
          {
           "color_by": "Envelope Mean",
           "sample_id": 0,
           "timepoint": 58,
           "trajectory": "Envelope_Mean",
           "value": 4.11686218182573
          },
          {
           "color_by": "Envelope Mean",
           "sample_id": 0,
           "timepoint": 59,
           "trajectory": "Envelope_Mean",
           "value": 3.9159676226591738
          },
          {
           "color_by": "Envelope Mean",
           "sample_id": 0,
           "timepoint": 60,
           "trajectory": "Envelope_Mean",
           "value": 3.6832949496381726
          },
          {
           "color_by": "Envelope Mean",
           "sample_id": 0,
           "timepoint": 61,
           "trajectory": "Envelope_Mean",
           "value": 3.4561316908557416
          },
          {
           "color_by": "Envelope Mean",
           "sample_id": 0,
           "timepoint": 62,
           "trajectory": "Envelope_Mean",
           "value": 3.249322442027713
          },
          {
           "color_by": "Envelope Mean",
           "sample_id": 0,
           "timepoint": 63,
           "trajectory": "Envelope_Mean",
           "value": 3.0771783709478076
          },
          {
           "color_by": "Envelope Mean",
           "sample_id": 0,
           "timepoint": 64,
           "trajectory": "Envelope_Mean",
           "value": 2.9516810979064214
          },
          {
           "color_by": "Envelope Mean",
           "sample_id": 0,
           "timepoint": 65,
           "trajectory": "Envelope_Mean",
           "value": 2.8805408992050237
          },
          {
           "color_by": "Envelope Mean",
           "sample_id": 0,
           "timepoint": 66,
           "trajectory": "Envelope_Mean",
           "value": 2.9120307826022733
          },
          {
           "color_by": "Envelope Mean",
           "sample_id": 0,
           "timepoint": 67,
           "trajectory": "Envelope_Mean",
           "value": 2.9724119879762325
          },
          {
           "color_by": "Envelope Mean",
           "sample_id": 0,
           "timepoint": 68,
           "trajectory": "Envelope_Mean",
           "value": 3.099294588056101
          },
          {
           "color_by": "Envelope Mean",
           "sample_id": 0,
           "timepoint": 69,
           "trajectory": "Envelope_Mean",
           "value": 3.250926406678549
          },
          {
           "color_by": "Envelope Mean",
           "sample_id": 0,
           "timepoint": 70,
           "trajectory": "Envelope_Mean",
           "value": 3.437879296995741
          },
          {
           "color_by": "Envelope Mean",
           "sample_id": 0,
           "timepoint": 71,
           "trajectory": "Envelope_Mean",
           "value": 3.6461081822857544
          },
          {
           "color_by": "Envelope Mean",
           "sample_id": 0,
           "timepoint": 72,
           "trajectory": "Envelope_Mean",
           "value": 3.859004020479599
          },
          {
           "color_by": "Envelope Mean",
           "sample_id": 0,
           "timepoint": 73,
           "trajectory": "Envelope_Mean",
           "value": 4.074009450048141
          },
          {
           "color_by": "Envelope Mean",
           "sample_id": 0,
           "timepoint": 74,
           "trajectory": "Envelope_Mean",
           "value": 4.278384603971116
          },
          {
           "color_by": "Envelope Mean",
           "sample_id": 0,
           "timepoint": 75,
           "trajectory": "Envelope_Mean",
           "value": 4.460044066420897
          },
          {
           "color_by": "Envelope Mean",
           "sample_id": 0,
           "timepoint": 76,
           "trajectory": "Envelope_Mean",
           "value": 4.654995403372274
          },
          {
           "color_by": "Envelope Mean",
           "sample_id": 0,
           "timepoint": 77,
           "trajectory": "Envelope_Mean",
           "value": 4.760993118514286
          },
          {
           "color_by": "Envelope Mean",
           "sample_id": 0,
           "timepoint": 78,
           "trajectory": "Envelope_Mean",
           "value": 4.800870442638166
          },
          {
           "color_by": "Envelope Mean",
           "sample_id": 0,
           "timepoint": 79,
           "trajectory": "Envelope_Mean",
           "value": 4.759311346858606
          },
          {
           "color_by": "Envelope Mean",
           "sample_id": 0,
           "timepoint": 80,
           "trajectory": "Envelope_Mean",
           "value": 4.732484096484651
          },
          {
           "color_by": "Envelope Mean",
           "sample_id": 0,
           "timepoint": 81,
           "trajectory": "Envelope_Mean",
           "value": 4.633401312360055
          },
          {
           "color_by": "Envelope Mean",
           "sample_id": 0,
           "timepoint": 82,
           "trajectory": "Envelope_Mean",
           "value": 4.539399622550723
          },
          {
           "color_by": "Envelope Mean",
           "sample_id": 0,
           "timepoint": 83,
           "trajectory": "Envelope_Mean",
           "value": 4.398507427288976
          },
          {
           "color_by": "Envelope Mean",
           "sample_id": 0,
           "timepoint": 84,
           "trajectory": "Envelope_Mean",
           "value": 4.203684764606122
          },
          {
           "color_by": "Envelope Mean",
           "sample_id": 0,
           "timepoint": 85,
           "trajectory": "Envelope_Mean",
           "value": 3.9689470869866463
          },
          {
           "color_by": "Envelope Mean",
           "sample_id": 0,
           "timepoint": 86,
           "trajectory": "Envelope_Mean",
           "value": 3.737528476103847
          },
          {
           "color_by": "Envelope Mean",
           "sample_id": 0,
           "timepoint": 87,
           "trajectory": "Envelope_Mean",
           "value": 3.5246114224014518
          },
          {
           "color_by": "Envelope Mean",
           "sample_id": 0,
           "timepoint": 88,
           "trajectory": "Envelope_Mean",
           "value": 3.3439836454204386
          },
          {
           "color_by": "Envelope Mean",
           "sample_id": 0,
           "timepoint": 89,
           "trajectory": "Envelope_Mean",
           "value": 3.2078071166259776
          },
          {
           "color_by": "Envelope Mean",
           "sample_id": 0,
           "timepoint": 90,
           "trajectory": "Envelope_Mean",
           "value": 3.127498977249556
          },
          {
           "color_by": "Envelope Mean",
           "sample_id": 0,
           "timepoint": 91,
           "trajectory": "Envelope_Mean",
           "value": 3.148243510830457
          },
          {
           "color_by": "Envelope Mean",
           "sample_id": 0,
           "timepoint": 92,
           "trajectory": "Envelope_Mean",
           "value": 3.1977810360058587
          },
          {
           "color_by": "Envelope Mean",
           "sample_id": 0,
           "timepoint": 93,
           "trajectory": "Envelope_Mean",
           "value": 3.316958492800582
          },
          {
           "color_by": "Envelope Mean",
           "sample_id": 0,
           "timepoint": 94,
           "trajectory": "Envelope_Mean",
           "value": 3.4615528218078144
          },
          {
           "color_by": "Envelope Mean",
           "sample_id": 0,
           "timepoint": 95,
           "trajectory": "Envelope_Mean",
           "value": 3.6422547063021646
          },
          {
           "color_by": "Envelope Mean",
           "sample_id": 0,
           "timepoint": 96,
           "trajectory": "Envelope_Mean",
           "value": 3.8474314036730366
          },
          {
           "color_by": "Envelope Mean",
           "sample_id": 0,
           "timepoint": 97,
           "trajectory": "Envelope_Mean",
           "value": 4.0570256844702905
          },
          {
           "color_by": "Envelope Mean",
           "sample_id": 0,
           "timepoint": 98,
           "trajectory": "Envelope_Mean",
           "value": 4.27047080161886
          },
          {
           "color_by": "Envelope Mean",
           "sample_id": 0,
           "timepoint": 99,
           "trajectory": "Envelope_Mean",
           "value": 4.474997847455244
          },
          {
           "color_by": "Chaos",
           "sample_id": 0,
           "timepoint": 0,
           "trajectory": "Chaos",
           "value": 1.7463884218370667
          },
          {
           "color_by": "Chaos",
           "sample_id": 0,
           "timepoint": 1,
           "trajectory": "Chaos",
           "value": 2.717907817634178
          },
          {
           "color_by": "Chaos",
           "sample_id": 0,
           "timepoint": 2,
           "trajectory": "Chaos",
           "value": 2.818233405224801
          },
          {
           "color_by": "Chaos",
           "sample_id": 0,
           "timepoint": 3,
           "trajectory": "Chaos",
           "value": 2.8013440754370675
          },
          {
           "color_by": "Chaos",
           "sample_id": 0,
           "timepoint": 4,
           "trajectory": "Chaos",
           "value": 2.7097907627635016
          },
          {
           "color_by": "Chaos",
           "sample_id": 0,
           "timepoint": 5,
           "trajectory": "Chaos",
           "value": 2.567090668563364
          },
          {
           "color_by": "Chaos",
           "sample_id": 0,
           "timepoint": 6,
           "trajectory": "Chaos",
           "value": 2.3927656990496935
          },
          {
           "color_by": "Chaos",
           "sample_id": 0,
           "timepoint": 7,
           "trajectory": "Chaos",
           "value": 2.2051459734788406
          },
          {
           "color_by": "Chaos",
           "sample_id": 0,
           "timepoint": 8,
           "trajectory": "Chaos",
           "value": 2.0216881556639796
          },
          {
           "color_by": "Chaos",
           "sample_id": 0,
           "timepoint": 9,
           "trajectory": "Chaos",
           "value": 1.8585492653789293
          },
          {
           "color_by": "Chaos",
           "sample_id": 0,
           "timepoint": 10,
           "trajectory": "Chaos",
           "value": 1.729926203421157
          },
          {
           "color_by": "Chaos",
           "sample_id": 0,
           "timepoint": 11,
           "trajectory": "Chaos",
           "value": 1.6473720483248173
          },
          {
           "color_by": "Chaos",
           "sample_id": 0,
           "timepoint": 12,
           "trajectory": "Chaos",
           "value": 1.6192020230769293
          },
          {
           "color_by": "Chaos",
           "sample_id": 0,
           "timepoint": 13,
           "trajectory": "Chaos",
           "value": 1.650058901052234
          },
          {
           "color_by": "Chaos",
           "sample_id": 0,
           "timepoint": 14,
           "trajectory": "Chaos",
           "value": 1.7406816526192346
          },
          {
           "color_by": "Chaos",
           "sample_id": 0,
           "timepoint": 15,
           "trajectory": "Chaos",
           "value": 1.8879009368730104
          },
          {
           "color_by": "Chaos",
           "sample_id": 0,
           "timepoint": 16,
           "trajectory": "Chaos",
           "value": 2.0848670928046205
          },
          {
           "color_by": "Chaos",
           "sample_id": 0,
           "timepoint": 17,
           "trajectory": "Chaos",
           "value": 2.3214997444270704
          },
          {
           "color_by": "Chaos",
           "sample_id": 0,
           "timepoint": 18,
           "trajectory": "Chaos",
           "value": 2.5851331649106326
          },
          {
           "color_by": "Chaos",
           "sample_id": 0,
           "timepoint": 19,
           "trajectory": "Chaos",
           "value": 2.8613186621016933
          },
          {
           "color_by": "Chaos",
           "sample_id": 0,
           "timepoint": 20,
           "trajectory": "Chaos",
           "value": 3.1347350432690875
          },
          {
           "color_by": "Chaos",
           "sample_id": 0,
           "timepoint": 21,
           "trajectory": "Chaos",
           "value": 3.390151213456594
          },
          {
           "color_by": "Chaos",
           "sample_id": 0,
           "timepoint": 22,
           "trajectory": "Chaos",
           "value": 3.613381532853732
          },
          {
           "color_by": "Chaos",
           "sample_id": 0,
           "timepoint": 23,
           "trajectory": "Chaos",
           "value": 3.7921748815185357
          },
          {
           "color_by": "Chaos",
           "sample_id": 0,
           "timepoint": 24,
           "trajectory": "Chaos",
           "value": 3.9169824131327102
          },
          {
           "color_by": "Chaos",
           "sample_id": 0,
           "timepoint": 25,
           "trajectory": "Chaos",
           "value": 3.981556459308026
          },
          {
           "color_by": "Chaos",
           "sample_id": 0,
           "timepoint": 26,
           "trajectory": "Chaos",
           "value": 3.983343498914855
          },
          {
           "color_by": "Chaos",
           "sample_id": 0,
           "timepoint": 27,
           "trajectory": "Chaos",
           "value": 3.9236468776696496
          },
          {
           "color_by": "Chaos",
           "sample_id": 0,
           "timepoint": 28,
           "trajectory": "Chaos",
           "value": 3.807549254209067
          },
          {
           "color_by": "Chaos",
           "sample_id": 0,
           "timepoint": 29,
           "trajectory": "Chaos",
           "value": 3.643599669143465
          },
          {
           "color_by": "Chaos",
           "sample_id": 0,
           "timepoint": 30,
           "trajectory": "Chaos",
           "value": 3.4432847537976885
          },
          {
           "color_by": "Chaos",
           "sample_id": 0,
           "timepoint": 31,
           "trajectory": "Chaos",
           "value": 3.22031700534199
          },
          {
           "color_by": "Chaos",
           "sample_id": 0,
           "timepoint": 32,
           "trajectory": "Chaos",
           "value": 2.989784420201522
          },
          {
           "color_by": "Chaos",
           "sample_id": 0,
           "timepoint": 33,
           "trajectory": "Chaos",
           "value": 2.767214390786155
          },
          {
           "color_by": "Chaos",
           "sample_id": 0,
           "timepoint": 34,
           "trajectory": "Chaos",
           "value": 2.5676100957485515
          },
          {
           "color_by": "Chaos",
           "sample_id": 0,
           "timepoint": 35,
           "trajectory": "Chaos",
           "value": 2.4045193197463868
          },
          {
           "color_by": "Chaos",
           "sample_id": 0,
           "timepoint": 36,
           "trajectory": "Chaos",
           "value": 2.2891936187606525
          },
          {
           "color_by": "Chaos",
           "sample_id": 0,
           "timepoint": 37,
           "trajectory": "Chaos",
           "value": 2.2298901268160574
          },
          {
           "color_by": "Chaos",
           "sample_id": 0,
           "timepoint": 38,
           "trajectory": "Chaos",
           "value": 2.2313594287624317
          },
          {
           "color_by": "Chaos",
           "sample_id": 0,
           "timepoint": 39,
           "trajectory": "Chaos",
           "value": 2.2945513530703563
          },
          {
           "color_by": "Chaos",
           "sample_id": 0,
           "timepoint": 40,
           "trajectory": "Chaos",
           "value": 2.416556987698966
          },
          {
           "color_by": "Chaos",
           "sample_id": 0,
           "timepoint": 41,
           "trajectory": "Chaos",
           "value": 2.5907905334745687
          },
          {
           "color_by": "Chaos",
           "sample_id": 0,
           "timepoint": 42,
           "trajectory": "Chaos",
           "value": 2.8073996962924217
          },
          {
           "color_by": "Chaos",
           "sample_id": 0,
           "timepoint": 43,
           "trajectory": "Chaos",
           "value": 3.0538791090069384
          },
          {
           "color_by": "Chaos",
           "sample_id": 0,
           "timepoint": 44,
           "trajectory": "Chaos",
           "value": 3.3158486496128265
          },
          {
           "color_by": "Chaos",
           "sample_id": 0,
           "timepoint": 45,
           "trajectory": "Chaos",
           "value": 3.5779482691311078
          },
          {
           "color_by": "Chaos",
           "sample_id": 0,
           "timepoint": 46,
           "trajectory": "Chaos",
           "value": 3.824793697972657
          },
          {
           "color_by": "Chaos",
           "sample_id": 0,
           "timepoint": 47,
           "trajectory": "Chaos",
           "value": 4.041933613877699
          },
          {
           "color_by": "Chaos",
           "sample_id": 0,
           "timepoint": 48,
           "trajectory": "Chaos",
           "value": 4.21674876318379
          },
          {
           "color_by": "Chaos",
           "sample_id": 0,
           "timepoint": 49,
           "trajectory": "Chaos",
           "value": 4.339237135825324
          },
          {
           "color_by": "Chaos",
           "sample_id": 0,
           "timepoint": 50,
           "trajectory": "Chaos",
           "value": 4.402636378736817
          },
          {
           "color_by": "Chaos",
           "sample_id": 0,
           "timepoint": 51,
           "trajectory": "Chaos",
           "value": 4.403844751746832
          },
          {
           "color_by": "Chaos",
           "sample_id": 0,
           "timepoint": 52,
           "trajectory": "Chaos",
           "value": 4.343614455426769
          },
          {
           "color_by": "Chaos",
           "sample_id": 0,
           "timepoint": 53,
           "trajectory": "Chaos",
           "value": 4.226505312926161
          },
          {
           "color_by": "Chaos",
           "sample_id": 0,
           "timepoint": 54,
           "trajectory": "Chaos",
           "value": 4.0606016876409345
          },
          {
           "color_by": "Chaos",
           "sample_id": 0,
           "timepoint": 55,
           "trajectory": "Chaos",
           "value": 3.857010239221198
          },
          {
           "color_by": "Chaos",
           "sample_id": 0,
           "timepoint": 56,
           "trajectory": "Chaos",
           "value": 3.629169746667786
          },
          {
           "color_by": "Chaos",
           "sample_id": 0,
           "timepoint": 57,
           "trajectory": "Chaos",
           "value": 3.39201591187574
          },
          {
           "color_by": "Chaos",
           "sample_id": 0,
           "timepoint": 58,
           "trajectory": "Chaos",
           "value": 3.1610530734630298
          },
          {
           "color_by": "Chaos",
           "sample_id": 0,
           "timepoint": 59,
           "trajectory": "Chaos",
           "value": 2.95139054847141
          },
          {
           "color_by": "Chaos",
           "sample_id": 0,
           "timepoint": 60,
           "trajectory": "Chaos",
           "value": 2.7768035186871667
          },
          {
           "color_by": "Chaos",
           "sample_id": 0,
           "timepoint": 61,
           "trajectory": "Chaos",
           "value": 2.6488768521681614
          },
          {
           "color_by": "Chaos",
           "sample_id": 0,
           "timepoint": 62,
           "trajectory": "Chaos",
           "value": 2.576285093967906
          },
          {
           "color_by": "Chaos",
           "sample_id": 0,
           "timepoint": 63,
           "trajectory": "Chaos",
           "value": 2.5642533936286247
          },
          {
           "color_by": "Chaos",
           "sample_id": 0,
           "timepoint": 64,
           "trajectory": "Chaos",
           "value": 2.614232887173083
          },
          {
           "color_by": "Chaos",
           "sample_id": 0,
           "timepoint": 65,
           "trajectory": "Chaos",
           "value": 2.723810717519447
          },
          {
           "color_by": "Chaos",
           "sample_id": 0,
           "timepoint": 66,
           "trajectory": "Chaos",
           "value": 2.8868602885051975
          },
          {
           "color_by": "Chaos",
           "sample_id": 0,
           "timepoint": 67,
           "trajectory": "Chaos",
           "value": 3.093922411091567
          },
          {
           "color_by": "Chaos",
           "sample_id": 0,
           "timepoint": 68,
           "trajectory": "Chaos",
           "value": 3.3327936445150037
          },
          {
           "color_by": "Chaos",
           "sample_id": 0,
           "timepoint": 69,
           "trajectory": "Chaos",
           "value": 3.589285252730545
          },
          {
           "color_by": "Chaos",
           "sample_id": 0,
           "timepoint": 70,
           "trajectory": "Chaos",
           "value": 3.8481055884200335
          },
          {
           "color_by": "Chaos",
           "sample_id": 0,
           "timepoint": 71,
           "trajectory": "Chaos",
           "value": 4.093811042673817
          },
          {
           "color_by": "Chaos",
           "sample_id": 0,
           "timepoint": 72,
           "trajectory": "Chaos",
           "value": 4.3117664353400755
          },
          {
           "color_by": "Chaos",
           "sample_id": 0,
           "timepoint": 73,
           "trajectory": "Chaos",
           "value": 4.489055134030677
          },
          {
           "color_by": "Chaos",
           "sample_id": 0,
           "timepoint": 74,
           "trajectory": "Chaos",
           "value": 4.615282315373331
          },
          {
           "color_by": "Chaos",
           "sample_id": 0,
           "timepoint": 75,
           "trajectory": "Chaos",
           "value": 4.683221425971897
          },
          {
           "color_by": "Chaos",
           "sample_id": 0,
           "timepoint": 76,
           "trajectory": "Chaos",
           "value": 4.689263649595932
          },
          {
           "color_by": "Chaos",
           "sample_id": 0,
           "timepoint": 77,
           "trajectory": "Chaos",
           "value": 4.633642435217467
          },
          {
           "color_by": "Chaos",
           "sample_id": 0,
           "timepoint": 78,
           "trajectory": "Chaos",
           "value": 4.520419126120182
          },
          {
           "color_by": "Chaos",
           "sample_id": 0,
           "timepoint": 79,
           "trajectory": "Chaos",
           "value": 4.357230583865924
          },
          {
           "color_by": "Chaos",
           "sample_id": 0,
           "timepoint": 80,
           "trajectory": "Chaos",
           "value": 4.154814498893556
          },
          {
           "color_by": "Chaos",
           "sample_id": 0,
           "timepoint": 81,
           "trajectory": "Chaos",
           "value": 3.926341901877846
          },
          {
           "color_by": "Chaos",
           "sample_id": 0,
           "timepoint": 82,
           "trajectory": "Chaos",
           "value": 3.6865983772844526
          },
          {
           "color_by": "Chaos",
           "sample_id": 0,
           "timepoint": 83,
           "trajectory": "Chaos",
           "value": 3.4510648875082084
          },
          {
           "color_by": "Chaos",
           "sample_id": 0,
           "timepoint": 84,
           "trajectory": "Chaos",
           "value": 3.2349553576970975
          },
          {
           "color_by": "Chaos",
           "sample_id": 0,
           "timepoint": 85,
           "trajectory": "Chaos",
           "value": 3.0522708597637647
          },
          {
           "color_by": "Chaos",
           "sample_id": 0,
           "timepoint": 86,
           "trajectory": "Chaos",
           "value": 2.9149292020185475
          },
          {
           "color_by": "Chaos",
           "sample_id": 0,
           "timepoint": 87,
           "trajectory": "Chaos",
           "value": 2.8320240424915473
          },
          {
           "color_by": "Chaos",
           "sample_id": 0,
           "timepoint": 88,
           "trajectory": "Chaos",
           "value": 2.809259590846295
          },
          {
           "color_by": "Chaos",
           "sample_id": 0,
           "timepoint": 89,
           "trajectory": "Chaos",
           "value": 2.848596046530571
          },
          {
           "color_by": "Chaos",
           "sample_id": 0,
           "timepoint": 90,
           "trajectory": "Chaos",
           "value": 2.948127818243272
          },
          {
           "color_by": "Chaos",
           "sample_id": 0,
           "timepoint": 91,
           "trajectory": "Chaos",
           "value": 3.1022020965737993
          },
          {
           "color_by": "Chaos",
           "sample_id": 0,
           "timepoint": 92,
           "trajectory": "Chaos",
           "value": 3.30177040766717
          },
          {
           "color_by": "Chaos",
           "sample_id": 0,
           "timepoint": 93,
           "trajectory": "Chaos",
           "value": 3.534951290129637
          },
          {
           "color_by": "Chaos",
           "sample_id": 0,
           "timepoint": 94,
           "trajectory": "Chaos",
           "value": 3.787769110762812
          },
          {
           "color_by": "Chaos",
           "sample_id": 0,
           "timepoint": 95,
           "trajectory": "Chaos",
           "value": 4.045023083249199
          },
          {
           "color_by": "Chaos",
           "sample_id": 0,
           "timepoint": 96,
           "trajectory": "Chaos",
           "value": 4.2912324585176655
          },
          {
           "color_by": "Chaos",
           "sample_id": 0,
           "timepoint": 97,
           "trajectory": "Chaos",
           "value": 4.5115991195260925
          },
          {
           "color_by": "Chaos",
           "sample_id": 0,
           "timepoint": 98,
           "trajectory": "Chaos",
           "value": 4.6929277310712685
          },
          {
           "color_by": "Chaos",
           "sample_id": 0,
           "timepoint": 99,
           "trajectory": "Chaos",
           "value": 4.824446234254347
          },
          {
           "color_by": "Mean",
           "sample_id": 0,
           "timepoint": 0,
           "trajectory": "Mean",
           "value": 1.6029210722338116
          },
          {
           "color_by": "Mean",
           "sample_id": 0,
           "timepoint": 1,
           "trajectory": "Mean",
           "value": 2.720675007607917
          },
          {
           "color_by": "Mean",
           "sample_id": 0,
           "timepoint": 2,
           "trajectory": "Mean",
           "value": 2.9695975998260655
          },
          {
           "color_by": "Mean",
           "sample_id": 0,
           "timepoint": 3,
           "trajectory": "Mean",
           "value": 3.0944286976865447
          },
          {
           "color_by": "Mean",
           "sample_id": 0,
           "timepoint": 4,
           "trajectory": "Mean",
           "value": 3.128907745902451
          },
          {
           "color_by": "Mean",
           "sample_id": 0,
           "timepoint": 5,
           "trajectory": "Mean",
           "value": 3.088715864060756
          },
          {
           "color_by": "Mean",
           "sample_id": 0,
           "timepoint": 6,
           "trajectory": "Mean",
           "value": 2.987001494220509
          },
          {
           "color_by": "Mean",
           "sample_id": 0,
           "timepoint": 7,
           "trajectory": "Mean",
           "value": 2.8375801802340916
          },
          {
           "color_by": "Mean",
           "sample_id": 0,
           "timepoint": 8,
           "trajectory": "Mean",
           "value": 2.6555335936933577
          },
          {
           "color_by": "Mean",
           "sample_id": 0,
           "timepoint": 9,
           "trajectory": "Mean",
           "value": 2.4569310108466884
          },
          {
           "color_by": "Mean",
           "sample_id": 0,
           "timepoint": 10,
           "trajectory": "Mean",
           "value": 2.2581742931294295
          },
          {
           "color_by": "Mean",
           "sample_id": 0,
           "timepoint": 11,
           "trajectory": "Mean",
           "value": 2.0751770901040176
          },
          {
           "color_by": "Mean",
           "sample_id": 0,
           "timepoint": 12,
           "trajectory": "Mean",
           "value": 1.922499686989706
          },
          {
           "color_by": "Mean",
           "sample_id": 0,
           "timepoint": 13,
           "trajectory": "Mean",
           "value": 1.8125261228752847
          },
          {
           "color_by": "Mean",
           "sample_id": 0,
           "timepoint": 14,
           "trajectory": "Mean",
           "value": 1.7547515229172355
          },
          {
           "color_by": "Mean",
           "sample_id": 0,
           "timepoint": 15,
           "trajectory": "Mean",
           "value": 1.7552331747775725
          },
          {
           "color_by": "Mean",
           "sample_id": 0,
           "timepoint": 16,
           "trajectory": "Mean",
           "value": 1.8162448527174067
          },
          {
           "color_by": "Mean",
           "sample_id": 0,
           "timepoint": 17,
           "trajectory": "Mean",
           "value": 1.936159171706459
          },
          {
           "color_by": "Mean",
           "sample_id": 0,
           "timepoint": 18,
           "trajectory": "Mean",
           "value": 2.10956738552209
          },
          {
           "color_by": "Mean",
           "sample_id": 0,
           "timepoint": 19,
           "trajectory": "Mean",
           "value": 2.3276305683626095
          },
          {
           "color_by": "Mean",
           "sample_id": 0,
           "timepoint": 20,
           "trajectory": "Mean",
           "value": 2.578641291492316
          },
          {
           "color_by": "Mean",
           "sample_id": 0,
           "timepoint": 21,
           "trajectory": "Mean",
           "value": 2.848761535251729
          },
          {
           "color_by": "Mean",
           "sample_id": 0,
           "timepoint": 22,
           "trajectory": "Mean",
           "value": 3.1228914317536915
          },
          {
           "color_by": "Mean",
           "sample_id": 0,
           "timepoint": 23,
           "trajectory": "Mean",
           "value": 3.3856151718799534
          },
          {
           "color_by": "Mean",
           "sample_id": 0,
           "timepoint": 24,
           "trajectory": "Mean",
           "value": 3.6221655240813924
          },
          {
           "color_by": "Mean",
           "sample_id": 0,
           "timepoint": 25,
           "trajectory": "Mean",
           "value": 3.8193471926032183
          },
          {
           "color_by": "Mean",
           "sample_id": 0,
           "timepoint": 26,
           "trajectory": "Mean",
           "value": 3.966361756632878
          },
          {
           "color_by": "Mean",
           "sample_id": 0,
           "timepoint": 27,
           "trajectory": "Mean",
           "value": 4.055483017816297
          },
          {
           "color_by": "Mean",
           "sample_id": 0,
           "timepoint": 28,
           "trajectory": "Mean",
           "value": 4.08254085964842
          },
          {
           "color_by": "Mean",
           "sample_id": 0,
           "timepoint": 29,
           "trajectory": "Mean",
           "value": 4.047183609269933
          },
          {
           "color_by": "Mean",
           "sample_id": 0,
           "timepoint": 30,
           "trajectory": "Mean",
           "value": 3.952902649461686
          },
          {
           "color_by": "Mean",
           "sample_id": 0,
           "timepoint": 31,
           "trajectory": "Mean",
           "value": 3.806817799605727
          },
          {
           "color_by": "Mean",
           "sample_id": 0,
           "timepoint": 32,
           "trajectory": "Mean",
           "value": 3.619236849868545
          },
          {
           "color_by": "Mean",
           "sample_id": 0,
           "timepoint": 33,
           "trajectory": "Mean",
           "value": 3.4030166680034997
          },
          {
           "color_by": "Mean",
           "sample_id": 0,
           "timepoint": 34,
           "trajectory": "Mean",
           "value": 3.172765629897561
          },
          {
           "color_by": "Mean",
           "sample_id": 0,
           "timepoint": 35,
           "trajectory": "Mean",
           "value": 2.9439369862573033
          },
          {
           "color_by": "Mean",
           "sample_id": 0,
           "timepoint": 36,
           "trajectory": "Mean",
           "value": 2.731869555277269
          },
          {
           "color_by": "Mean",
           "sample_id": 0,
           "timepoint": 37,
           "trajectory": "Mean",
           "value": 2.5508354031922593
          },
          {
           "color_by": "Mean",
           "sample_id": 0,
           "timepoint": 38,
           "trajectory": "Mean",
           "value": 2.4131537377067627
          },
          {
           "color_by": "Mean",
           "sample_id": 0,
           "timepoint": 39,
           "trajectory": "Mean",
           "value": 2.3284261204795156
          },
          {
           "color_by": "Mean",
           "sample_id": 0,
           "timepoint": 40,
           "trajectory": "Mean",
           "value": 2.302940560125653
          },
          {
           "color_by": "Mean",
           "sample_id": 0,
           "timepoint": 41,
           "trajectory": "Mean",
           "value": 2.3392815456135008
          },
          {
           "color_by": "Mean",
           "sample_id": 0,
           "timepoint": 42,
           "trajectory": "Mean",
           "value": 2.436170274365245
          },
          {
           "color_by": "Mean",
           "sample_id": 0,
           "timepoint": 43,
           "trajectory": "Mean",
           "value": 2.588545015969031
          },
          {
           "color_by": "Mean",
           "sample_id": 0,
           "timepoint": 44,
           "trajectory": "Mean",
           "value": 2.787876621080665
          },
          {
           "color_by": "Mean",
           "sample_id": 0,
           "timepoint": 45,
           "trajectory": "Mean",
           "value": 3.022699564168289
          },
          {
           "color_by": "Mean",
           "sample_id": 0,
           "timepoint": 46,
           "trajectory": "Mean",
           "value": 3.279325507270804
          },
          {
           "color_by": "Mean",
           "sample_id": 0,
           "timepoint": 47,
           "trajectory": "Mean",
           "value": 3.5426950231228362
          },
          {
           "color_by": "Mean",
           "sample_id": 0,
           "timepoint": 48,
           "trajectory": "Mean",
           "value": 3.7973145254466676
          },
          {
           "color_by": "Mean",
           "sample_id": 0,
           "timepoint": 49,
           "trajectory": "Mean",
           "value": 4.028220156032152
          },
          {
           "color_by": "Mean",
           "sample_id": 0,
           "timepoint": 50,
           "trajectory": "Mean",
           "value": 4.221908701825305
          },
          {
           "color_by": "Mean",
           "sample_id": 0,
           "timepoint": 51,
           "trajectory": "Mean",
           "value": 4.3671776648474925
          },
          {
           "color_by": "Mean",
           "sample_id": 0,
           "timepoint": 52,
           "trajectory": "Mean",
           "value": 4.455822255929284
          },
          {
           "color_by": "Mean",
           "sample_id": 0,
           "timepoint": 53,
           "trajectory": "Mean",
           "value": 4.483145978785366
          },
          {
           "color_by": "Mean",
           "sample_id": 0,
           "timepoint": 54,
           "trajectory": "Mean",
           "value": 4.448253060793002
          },
          {
           "color_by": "Mean",
           "sample_id": 0,
           "timepoint": 55,
           "trajectory": "Mean",
           "value": 4.354104550362877
          },
          {
           "color_by": "Mean",
           "sample_id": 0,
           "timepoint": 56,
           "trajectory": "Mean",
           "value": 4.207334594689888
          },
          {
           "color_by": "Mean",
           "sample_id": 0,
           "timepoint": 57,
           "trajectory": "Mean",
           "value": 4.017838322344617
          },
          {
           "color_by": "Mean",
           "sample_id": 0,
           "timepoint": 58,
           "trajectory": "Mean",
           "value": 3.7981569555377446
          },
          {
           "color_by": "Mean",
           "sample_id": 0,
           "timepoint": 59,
           "trajectory": "Mean",
           "value": 3.5626983840474944
          },
          {
           "color_by": "Mean",
           "sample_id": 0,
           "timepoint": 60,
           "trajectory": "Mean",
           "value": 3.3268416628903186
          },
          {
           "color_by": "Mean",
           "sample_id": 0,
           "timepoint": 61,
           "trajectory": "Mean",
           "value": 3.105981112778715
          },
          {
           "color_by": "Mean",
           "sample_id": 0,
           "timepoint": 62,
           "trajectory": "Mean",
           "value": 2.914569457530039
          },
          {
           "color_by": "Mean",
           "sample_id": 0,
           "timepoint": 63,
           "trajectory": "Mean",
           "value": 2.7652194923901643
          },
          {
           "color_by": "Mean",
           "sample_id": 0,
           "timepoint": 64,
           "trajectory": "Mean",
           "value": 2.6679201379969486
          },
          {
           "color_by": "Mean",
           "sample_id": 0,
           "timepoint": 65,
           "trajectory": "Mean",
           "value": 2.629415622699817
          },
          {
           "color_by": "Mean",
           "sample_id": 0,
           "timepoint": 66,
           "trajectory": "Mean",
           "value": 2.6527863933631752
          },
          {
           "color_by": "Mean",
           "sample_id": 0,
           "timepoint": 67,
           "trajectory": "Mean",
           "value": 2.7372578122290294
          },
          {
           "color_by": "Mean",
           "sample_id": 0,
           "timepoint": 68,
           "trajectory": "Mean",
           "value": 2.8782485347327436
          },
          {
           "color_by": "Mean",
           "sample_id": 0,
           "timepoint": 69,
           "trajectory": "Mean",
           "value": 3.067655560921793
          },
          {
           "color_by": "Mean",
           "sample_id": 0,
           "timepoint": 70,
           "trajectory": "Mean",
           "value": 3.2943582378695355
          },
          {
           "color_by": "Mean",
           "sample_id": 0,
           "timepoint": 71,
           "trajectory": "Mean",
           "value": 3.5449098771275276
          },
          {
           "color_by": "Mean",
           "sample_id": 0,
           "timepoint": 72,
           "trajectory": "Mean",
           "value": 3.8043739862325037
          },
          {
           "color_by": "Mean",
           "sample_id": 0,
           "timepoint": 73,
           "trajectory": "Mean",
           "value": 4.057253121852374
          },
          {
           "color_by": "Mean",
           "sample_id": 0,
           "timepoint": 74,
           "trajectory": "Mean",
           "value": 4.2884526133629155
          },
          {
           "color_by": "Mean",
           "sample_id": 0,
           "timepoint": 75,
           "trajectory": "Mean",
           "value": 4.484219237546874
          },
          {
           "color_by": "Mean",
           "sample_id": 0,
           "timepoint": 76,
           "trajectory": "Mean",
           "value": 4.6329964825015635
          },
          {
           "color_by": "Mean",
           "sample_id": 0,
           "timepoint": 77,
           "trajectory": "Mean",
           "value": 4.726143224898517
          },
          {
           "color_by": "Mean",
           "sample_id": 0,
           "timepoint": 78,
           "trajectory": "Mean",
           "value": 4.75847113701501
          },
          {
           "color_by": "Mean",
           "sample_id": 0,
           "timepoint": 79,
           "trajectory": "Mean",
           "value": 4.7285674104436985
          },
          {
           "color_by": "Mean",
           "sample_id": 0,
           "timepoint": 80,
           "trajectory": "Mean",
           "value": 4.638882731338794
          },
          {
           "color_by": "Mean",
           "sample_id": 0,
           "timepoint": 81,
           "trajectory": "Mean",
           "value": 4.495579037563918
          },
          {
           "color_by": "Mean",
           "sample_id": 0,
           "timepoint": 82,
           "trajectory": "Mean",
           "value": 4.308146523690092
          },
          {
           "color_by": "Mean",
           "sample_id": 0,
           "timepoint": 83,
           "trajectory": "Mean",
           "value": 4.088813706829869
          },
          {
           "color_by": "Mean",
           "sample_id": 0,
           "timepoint": 84,
           "trajectory": "Mean",
           "value": 3.8517872327559983
          },
          {
           "color_by": "Mean",
           "sample_id": 0,
           "timepoint": 85,
           "trajectory": "Mean",
           "value": 3.6123686876658123
          },
          {
           "color_by": "Mean",
           "sample_id": 0,
           "timepoint": 86,
           "trajectory": "Mean",
           "value": 3.3860033281349677
          },
          {
           "color_by": "Mean",
           "sample_id": 0,
           "timepoint": 87,
           "trajectory": "Mean",
           "value": 3.187319874791304
          },
          {
           "color_by": "Mean",
           "sample_id": 0,
           "timepoint": 88,
           "trajectory": "Mean",
           "value": 3.0292210708448195
          },
          {
           "color_by": "Mean",
           "sample_id": 0,
           "timepoint": 89,
           "trajectory": "Mean",
           "value": 2.9220815502881017
          },
          {
           "color_by": "Mean",
           "sample_id": 0,
           "timepoint": 90,
           "trajectory": "Mean",
           "value": 2.8731028885778516
          },
          {
           "color_by": "Mean",
           "sample_id": 0,
           "timepoint": 91,
           "trajectory": "Mean",
           "value": 2.8858659357551133
          },
          {
           "color_by": "Mean",
           "sample_id": 0,
           "timepoint": 92,
           "trajectory": "Mean",
           "value": 2.9601082658881905
          },
          {
           "color_by": "Mean",
           "sample_id": 0,
           "timepoint": 93,
           "trajectory": "Mean",
           "value": 3.09174058007292
          },
          {
           "color_by": "Mean",
           "sample_id": 0,
           "timepoint": 94,
           "trajectory": "Mean",
           "value": 3.273101043243927
          },
          {
           "color_by": "Mean",
           "sample_id": 0,
           "timepoint": 95,
           "trajectory": "Mean",
           "value": 3.4934317414726275
          },
          {
           "color_by": "Mean",
           "sample_id": 0,
           "timepoint": 96,
           "trajectory": "Mean",
           "value": 3.7395476360462583
          },
          {
           "color_by": "Mean",
           "sample_id": 0,
           "timepoint": 97,
           "trajectory": "Mean",
           "value": 3.99665642209954
          },
          {
           "color_by": "Mean",
           "sample_id": 0,
           "timepoint": 98,
           "trajectory": "Mean",
           "value": 4.249278317051561
          },
          {
           "color_by": "Mean",
           "sample_id": 0,
           "timepoint": 99,
           "trajectory": "Mean",
           "value": 4.482208590944645
          },
          {
           "color_by": "Random",
           "sample_id": 0,
           "timepoint": 0,
           "trajectory": "Random",
           "value": 1.7463884218370667
          },
          {
           "color_by": "Random",
           "sample_id": 0,
           "timepoint": 1,
           "trajectory": "Random",
           "value": 2.717907817634178
          },
          {
           "color_by": "Random",
           "sample_id": 0,
           "timepoint": 2,
           "trajectory": "Random",
           "value": 2.8182334052248015
          },
          {
           "color_by": "Random",
           "sample_id": 0,
           "timepoint": 3,
           "trajectory": "Random",
           "value": 2.8013440754370675
          },
          {
           "color_by": "Random",
           "sample_id": 0,
           "timepoint": 4,
           "trajectory": "Random",
           "value": 2.7097907627635016
          },
          {
           "color_by": "Random",
           "sample_id": 0,
           "timepoint": 5,
           "trajectory": "Random",
           "value": 2.567090668563364
          },
          {
           "color_by": "Random",
           "sample_id": 0,
           "timepoint": 6,
           "trajectory": "Random",
           "value": 2.3927656990496935
          },
          {
           "color_by": "Random",
           "sample_id": 0,
           "timepoint": 7,
           "trajectory": "Random",
           "value": 2.2051459734788406
          },
          {
           "color_by": "Random",
           "sample_id": 0,
           "timepoint": 8,
           "trajectory": "Random",
           "value": 2.0216881556639796
          },
          {
           "color_by": "Random",
           "sample_id": 0,
           "timepoint": 9,
           "trajectory": "Random",
           "value": 1.8585492653789293
          },
          {
           "color_by": "Random",
           "sample_id": 0,
           "timepoint": 10,
           "trajectory": "Random",
           "value": 1.729926203421157
          },
          {
           "color_by": "Random",
           "sample_id": 0,
           "timepoint": 11,
           "trajectory": "Random",
           "value": 1.647372048324817
          },
          {
           "color_by": "Random",
           "sample_id": 0,
           "timepoint": 12,
           "trajectory": "Random",
           "value": 1.6192020230769293
          },
          {
           "color_by": "Random",
           "sample_id": 0,
           "timepoint": 13,
           "trajectory": "Random",
           "value": 1.6500589010522337
          },
          {
           "color_by": "Random",
           "sample_id": 0,
           "timepoint": 14,
           "trajectory": "Random",
           "value": 1.7406816526192346
          },
          {
           "color_by": "Random",
           "sample_id": 0,
           "timepoint": 15,
           "trajectory": "Random",
           "value": 1.8879009368730104
          },
          {
           "color_by": "Random",
           "sample_id": 0,
           "timepoint": 16,
           "trajectory": "Random",
           "value": 2.0848670928046205
          },
          {
           "color_by": "Random",
           "sample_id": 0,
           "timepoint": 17,
           "trajectory": "Random",
           "value": 2.3214997444270704
          },
          {
           "color_by": "Random",
           "sample_id": 0,
           "timepoint": 18,
           "trajectory": "Random",
           "value": 2.585133164910633
          },
          {
           "color_by": "Random",
           "sample_id": 0,
           "timepoint": 19,
           "trajectory": "Random",
           "value": 2.8613186621016933
          },
          {
           "color_by": "Random",
           "sample_id": 0,
           "timepoint": 20,
           "trajectory": "Random",
           "value": 3.1347350432690875
          },
          {
           "color_by": "Random",
           "sample_id": 0,
           "timepoint": 21,
           "trajectory": "Random",
           "value": 3.390151213456594
          },
          {
           "color_by": "Random",
           "sample_id": 0,
           "timepoint": 22,
           "trajectory": "Random",
           "value": 3.613381532853732
          },
          {
           "color_by": "Random",
           "sample_id": 0,
           "timepoint": 23,
           "trajectory": "Random",
           "value": 3.7921748815185357
          },
          {
           "color_by": "Random",
           "sample_id": 0,
           "timepoint": 24,
           "trajectory": "Random",
           "value": 3.9169824131327102
          },
          {
           "color_by": "Random",
           "sample_id": 0,
           "timepoint": 25,
           "trajectory": "Random",
           "value": 3.981556459308026
          },
          {
           "color_by": "Random",
           "sample_id": 0,
           "timepoint": 26,
           "trajectory": "Random",
           "value": 3.983343498914855
          },
          {
           "color_by": "Random",
           "sample_id": 0,
           "timepoint": 27,
           "trajectory": "Random",
           "value": 3.9236468776696496
          },
          {
           "color_by": "Random",
           "sample_id": 0,
           "timepoint": 28,
           "trajectory": "Random",
           "value": 3.807549254209067
          },
          {
           "color_by": "Random",
           "sample_id": 0,
           "timepoint": 29,
           "trajectory": "Random",
           "value": 3.643599669143465
          },
          {
           "color_by": "Random",
           "sample_id": 0,
           "timepoint": 30,
           "trajectory": "Random",
           "value": 3.4432847537976885
          },
          {
           "color_by": "Random",
           "sample_id": 0,
           "timepoint": 31,
           "trajectory": "Random",
           "value": 3.2203170053419896
          },
          {
           "color_by": "Random",
           "sample_id": 0,
           "timepoint": 32,
           "trajectory": "Random",
           "value": 2.9897844202015214
          },
          {
           "color_by": "Random",
           "sample_id": 0,
           "timepoint": 33,
           "trajectory": "Random",
           "value": 2.767214390786155
          },
          {
           "color_by": "Random",
           "sample_id": 0,
           "timepoint": 34,
           "trajectory": "Random",
           "value": 2.567610095748552
          },
          {
           "color_by": "Random",
           "sample_id": 0,
           "timepoint": 35,
           "trajectory": "Random",
           "value": 2.4045193197463868
          },
          {
           "color_by": "Random",
           "sample_id": 0,
           "timepoint": 36,
           "trajectory": "Random",
           "value": 2.2891936187606525
          },
          {
           "color_by": "Random",
           "sample_id": 0,
           "timepoint": 37,
           "trajectory": "Random",
           "value": 2.2298901268160574
          },
          {
           "color_by": "Random",
           "sample_id": 0,
           "timepoint": 38,
           "trajectory": "Random",
           "value": 2.2313594287624317
          },
          {
           "color_by": "Random",
           "sample_id": 0,
           "timepoint": 39,
           "trajectory": "Random",
           "value": 2.2945513530703563
          },
          {
           "color_by": "Random",
           "sample_id": 0,
           "timepoint": 40,
           "trajectory": "Random",
           "value": 2.416556987698966
          },
          {
           "color_by": "Random",
           "sample_id": 0,
           "timepoint": 41,
           "trajectory": "Random",
           "value": 2.5907905334745687
          },
          {
           "color_by": "Random",
           "sample_id": 0,
           "timepoint": 42,
           "trajectory": "Random",
           "value": 2.8073996962924217
          },
          {
           "color_by": "Random",
           "sample_id": 0,
           "timepoint": 43,
           "trajectory": "Random",
           "value": 3.0538791090069384
          },
          {
           "color_by": "Random",
           "sample_id": 0,
           "timepoint": 44,
           "trajectory": "Random",
           "value": 3.3158486496128265
          },
          {
           "color_by": "Random",
           "sample_id": 0,
           "timepoint": 45,
           "trajectory": "Random",
           "value": 3.5779482691311078
          },
          {
           "color_by": "Random",
           "sample_id": 0,
           "timepoint": 46,
           "trajectory": "Random",
           "value": 3.8247936979726567
          },
          {
           "color_by": "Random",
           "sample_id": 0,
           "timepoint": 47,
           "trajectory": "Random",
           "value": 4.041933613877699
          },
          {
           "color_by": "Random",
           "sample_id": 0,
           "timepoint": 48,
           "trajectory": "Random",
           "value": 4.21674876318379
          },
          {
           "color_by": "Random",
           "sample_id": 0,
           "timepoint": 49,
           "trajectory": "Random",
           "value": 4.339237135825324
          },
          {
           "color_by": "Random",
           "sample_id": 0,
           "timepoint": 50,
           "trajectory": "Random",
           "value": 4.402636378736817
          },
          {
           "color_by": "Random",
           "sample_id": 0,
           "timepoint": 51,
           "trajectory": "Random",
           "value": 4.403844751746832
          },
          {
           "color_by": "Random",
           "sample_id": 0,
           "timepoint": 52,
           "trajectory": "Random",
           "value": 4.343614455426769
          },
          {
           "color_by": "Random",
           "sample_id": 0,
           "timepoint": 53,
           "trajectory": "Random",
           "value": 4.226505312926161
          },
          {
           "color_by": "Random",
           "sample_id": 0,
           "timepoint": 54,
           "trajectory": "Random",
           "value": 4.0606016876409345
          },
          {
           "color_by": "Random",
           "sample_id": 0,
           "timepoint": 55,
           "trajectory": "Random",
           "value": 3.8570102392211973
          },
          {
           "color_by": "Random",
           "sample_id": 0,
           "timepoint": 56,
           "trajectory": "Random",
           "value": 3.6291697466677855
          },
          {
           "color_by": "Random",
           "sample_id": 0,
           "timepoint": 57,
           "trajectory": "Random",
           "value": 3.39201591187574
          },
          {
           "color_by": "Random",
           "sample_id": 0,
           "timepoint": 58,
           "trajectory": "Random",
           "value": 3.1610530734630298
          },
          {
           "color_by": "Random",
           "sample_id": 0,
           "timepoint": 59,
           "trajectory": "Random",
           "value": 2.9513905484714096
          },
          {
           "color_by": "Random",
           "sample_id": 0,
           "timepoint": 60,
           "trajectory": "Random",
           "value": 2.776803518687167
          },
          {
           "color_by": "Random",
           "sample_id": 0,
           "timepoint": 61,
           "trajectory": "Random",
           "value": 2.6488768521681614
          },
          {
           "color_by": "Random",
           "sample_id": 0,
           "timepoint": 62,
           "trajectory": "Random",
           "value": 2.576285093967906
          },
          {
           "color_by": "Random",
           "sample_id": 0,
           "timepoint": 63,
           "trajectory": "Random",
           "value": 2.5642533936286247
          },
          {
           "color_by": "Random",
           "sample_id": 0,
           "timepoint": 64,
           "trajectory": "Random",
           "value": 2.614232887173083
          },
          {
           "color_by": "Random",
           "sample_id": 0,
           "timepoint": 65,
           "trajectory": "Random",
           "value": 2.723810717519447
          },
          {
           "color_by": "Random",
           "sample_id": 0,
           "timepoint": 66,
           "trajectory": "Random",
           "value": 2.886860288505197
          },
          {
           "color_by": "Random",
           "sample_id": 0,
           "timepoint": 67,
           "trajectory": "Random",
           "value": 3.093922411091567
          },
          {
           "color_by": "Random",
           "sample_id": 0,
           "timepoint": 68,
           "trajectory": "Random",
           "value": 3.3327936445150037
          },
          {
           "color_by": "Random",
           "sample_id": 0,
           "timepoint": 69,
           "trajectory": "Random",
           "value": 3.589285252730545
          },
          {
           "color_by": "Random",
           "sample_id": 0,
           "timepoint": 70,
           "trajectory": "Random",
           "value": 3.8481055884200335
          },
          {
           "color_by": "Random",
           "sample_id": 0,
           "timepoint": 71,
           "trajectory": "Random",
           "value": 4.093811042673817
          },
          {
           "color_by": "Random",
           "sample_id": 0,
           "timepoint": 72,
           "trajectory": "Random",
           "value": 4.3117664353400755
          },
          {
           "color_by": "Random",
           "sample_id": 0,
           "timepoint": 73,
           "trajectory": "Random",
           "value": 4.489055134030677
          },
          {
           "color_by": "Random",
           "sample_id": 0,
           "timepoint": 74,
           "trajectory": "Random",
           "value": 4.615282315373331
          },
          {
           "color_by": "Random",
           "sample_id": 0,
           "timepoint": 75,
           "trajectory": "Random",
           "value": 4.683221425971897
          },
          {
           "color_by": "Random",
           "sample_id": 0,
           "timepoint": 76,
           "trajectory": "Random",
           "value": 4.689263649595932
          },
          {
           "color_by": "Random",
           "sample_id": 0,
           "timepoint": 77,
           "trajectory": "Random",
           "value": 4.633642435217467
          },
          {
           "color_by": "Random",
           "sample_id": 0,
           "timepoint": 78,
           "trajectory": "Random",
           "value": 4.520419126120182
          },
          {
           "color_by": "Random",
           "sample_id": 0,
           "timepoint": 79,
           "trajectory": "Random",
           "value": 4.357230583865924
          },
          {
           "color_by": "Random",
           "sample_id": 0,
           "timepoint": 80,
           "trajectory": "Random",
           "value": 4.154814498893556
          },
          {
           "color_by": "Random",
           "sample_id": 0,
           "timepoint": 81,
           "trajectory": "Random",
           "value": 3.926341901877846
          },
          {
           "color_by": "Random",
           "sample_id": 0,
           "timepoint": 82,
           "trajectory": "Random",
           "value": 3.6865983772844526
          },
          {
           "color_by": "Random",
           "sample_id": 0,
           "timepoint": 83,
           "trajectory": "Random",
           "value": 3.451064887508209
          },
          {
           "color_by": "Random",
           "sample_id": 0,
           "timepoint": 84,
           "trajectory": "Random",
           "value": 3.2349553576970975
          },
          {
           "color_by": "Random",
           "sample_id": 0,
           "timepoint": 85,
           "trajectory": "Random",
           "value": 3.052270859763765
          },
          {
           "color_by": "Random",
           "sample_id": 0,
           "timepoint": 86,
           "trajectory": "Random",
           "value": 2.9149292020185475
          },
          {
           "color_by": "Random",
           "sample_id": 0,
           "timepoint": 87,
           "trajectory": "Random",
           "value": 2.8320240424915473
          },
          {
           "color_by": "Random",
           "sample_id": 0,
           "timepoint": 88,
           "trajectory": "Random",
           "value": 2.809259590846295
          },
          {
           "color_by": "Random",
           "sample_id": 0,
           "timepoint": 89,
           "trajectory": "Random",
           "value": 2.8485960465305706
          },
          {
           "color_by": "Random",
           "sample_id": 0,
           "timepoint": 90,
           "trajectory": "Random",
           "value": 2.948127818243272
          },
          {
           "color_by": "Random",
           "sample_id": 0,
           "timepoint": 91,
           "trajectory": "Random",
           "value": 3.1022020965737993
          },
          {
           "color_by": "Random",
           "sample_id": 0,
           "timepoint": 92,
           "trajectory": "Random",
           "value": 3.3017704076671706
          },
          {
           "color_by": "Random",
           "sample_id": 0,
           "timepoint": 93,
           "trajectory": "Random",
           "value": 3.534951290129637
          },
          {
           "color_by": "Random",
           "sample_id": 0,
           "timepoint": 94,
           "trajectory": "Random",
           "value": 3.787769110762812
          },
          {
           "color_by": "Random",
           "sample_id": 0,
           "timepoint": 95,
           "trajectory": "Random",
           "value": 4.045023083249199
          },
          {
           "color_by": "Random",
           "sample_id": 0,
           "timepoint": 96,
           "trajectory": "Random",
           "value": 4.2912324585176655
          },
          {
           "color_by": "Random",
           "sample_id": 0,
           "timepoint": 97,
           "trajectory": "Random",
           "value": 4.5115991195260925
          },
          {
           "color_by": "Random",
           "sample_id": 0,
           "timepoint": 98,
           "trajectory": "Random",
           "value": 4.6929277310712685
          },
          {
           "color_by": "Random",
           "sample_id": 0,
           "timepoint": 99,
           "trajectory": "Random",
           "value": 4.824446234254347
          },
          {
           "color_by": "Variance",
           "sample_id": 0,
           "timepoint": 0,
           "trajectory": "Variance",
           "value": 2.6985371411797665
          },
          {
           "color_by": "Variance",
           "sample_id": 0,
           "timepoint": 1,
           "trajectory": "Variance",
           "value": 3.8522395164068945
          },
          {
           "color_by": "Variance",
           "sample_id": 0,
           "timepoint": 2,
           "trajectory": "Variance",
           "value": 4.141794633885999
          },
          {
           "color_by": "Variance",
           "sample_id": 0,
           "timepoint": 3,
           "trajectory": "Variance",
           "value": 4.309416008795076
          },
          {
           "color_by": "Variance",
           "sample_id": 0,
           "timepoint": 4,
           "trajectory": "Variance",
           "value": 4.386182593671682
          },
          {
           "color_by": "Variance",
           "sample_id": 0,
           "timepoint": 5,
           "trajectory": "Variance",
           "value": 4.38514627388958
          },
          {
           "color_by": "Variance",
           "sample_id": 0,
           "timepoint": 6,
           "trajectory": "Variance",
           "value": 4.317020988305838
          },
          {
           "color_by": "Variance",
           "sample_id": 0,
           "timepoint": 7,
           "trajectory": "Variance",
           "value": 4.193533874199853
          },
          {
           "color_by": "Variance",
           "sample_id": 0,
           "timepoint": 8,
           "trajectory": "Variance",
           "value": 4.02815414022517
          },
          {
           "color_by": "Variance",
           "sample_id": 0,
           "timepoint": 9,
           "trajectory": "Variance",
           "value": 3.8359147984622006
          },
          {
           "color_by": "Variance",
           "sample_id": 0,
           "timepoint": 10,
           "trajectory": "Variance",
           "value": 3.6328220748355644
          },
          {
           "color_by": "Variance",
           "sample_id": 0,
           "timepoint": 11,
           "trajectory": "Variance",
           "value": 3.4350592107540394
          },
          {
           "color_by": "Variance",
           "sample_id": 0,
           "timepoint": 12,
           "trajectory": "Variance",
           "value": 3.258104548725031
          },
          {
           "color_by": "Variance",
           "sample_id": 0,
           "timepoint": 13,
           "trajectory": "Variance",
           "value": 3.1158515702116523
          },
          {
           "color_by": "Variance",
           "sample_id": 0,
           "timepoint": 14,
           "trajectory": "Variance",
           "value": 3.019802378014909
          },
          {
           "color_by": "Variance",
           "sample_id": 0,
           "timepoint": 15,
           "trajectory": "Variance",
           "value": 2.9783939885622432
          },
          {
           "color_by": "Variance",
           "sample_id": 0,
           "timepoint": 16,
           "trajectory": "Variance",
           "value": 2.99650469599249
          },
          {
           "color_by": "Variance",
           "sample_id": 0,
           "timepoint": 17,
           "trajectory": "Variance",
           "value": 3.0751744898341826
          },
          {
           "color_by": "Variance",
           "sample_id": 0,
           "timepoint": 18,
           "trajectory": "Variance",
           "value": 3.2115590086737327
          },
          {
           "color_by": "Variance",
           "sample_id": 0,
           "timepoint": 19,
           "trajectory": "Variance",
           "value": 3.3991212807417113
          },
          {
           "color_by": "Variance",
           "sample_id": 0,
           "timepoint": 20,
           "trajectory": "Variance",
           "value": 3.628050276205492
          },
          {
           "color_by": "Variance",
           "sample_id": 0,
           "timepoint": 21,
           "trajectory": "Variance",
           "value": 3.8858809102807523
          },
          {
           "color_by": "Variance",
           "sample_id": 0,
           "timepoint": 22,
           "trajectory": "Variance",
           "value": 4.158277423486739
          },
          {
           "color_by": "Variance",
           "sample_id": 0,
           "timepoint": 23,
           "trajectory": "Variance",
           "value": 4.429931780083038
          },
          {
           "color_by": "Variance",
           "sample_id": 0,
           "timepoint": 24,
           "trajectory": "Variance",
           "value": 4.685521486043161
          },
          {
           "color_by": "Variance",
           "sample_id": 0,
           "timepoint": 25,
           "trajectory": "Variance",
           "value": 4.910667470811212
          },
          {
           "color_by": "Variance",
           "sample_id": 0,
           "timepoint": 26,
           "trajectory": "Variance",
           "value": 5.092832627833415
          },
          {
           "color_by": "Variance",
           "sample_id": 0,
           "timepoint": 27,
           "trajectory": "Variance",
           "value": 5.222105265132546
          },
          {
           "color_by": "Variance",
           "sample_id": 0,
           "timepoint": 28,
           "trajectory": "Variance",
           "value": 5.291818848106706
          },
          {
           "color_by": "Variance",
           "sample_id": 0,
           "timepoint": 29,
           "trajectory": "Variance",
           "value": 5.298969576512095
          },
          {
           "color_by": "Variance",
           "sample_id": 0,
           "timepoint": 30,
           "trajectory": "Variance",
           "value": 5.244405892892831
          },
          {
           "color_by": "Variance",
           "sample_id": 0,
           "timepoint": 31,
           "trajectory": "Variance",
           "value": 5.132778188765031
          },
          {
           "color_by": "Variance",
           "sample_id": 0,
           "timepoint": 32,
           "trajectory": "Variance",
           "value": 4.972251875864281
          },
          {
           "color_by": "Variance",
           "sample_id": 0,
           "timepoint": 33,
           "trajectory": "Variance",
           "value": 4.774001695662454
          },
          {
           "color_by": "Variance",
           "sample_id": 0,
           "timepoint": 34,
           "trajectory": "Variance",
           "value": 4.551518736379389
          },
          {
           "color_by": "Variance",
           "sample_id": 0,
           "timepoint": 35,
           "trajectory": "Variance",
           "value": 4.319773267204537
          },
          {
           "color_by": "Variance",
           "sample_id": 0,
           "timepoint": 36,
           "trajectory": "Variance",
           "value": 4.0942854604167636
          },
          {
           "color_by": "Variance",
           "sample_id": 0,
           "timepoint": 37,
           "trajectory": "Variance",
           "value": 3.89016179621806
          },
          {
           "color_by": "Variance",
           "sample_id": 0,
           "timepoint": 38,
           "trajectory": "Variance",
           "value": 3.721157076343911
          },
          {
           "color_by": "Variance",
           "sample_id": 0,
           "timepoint": 39,
           "trajectory": "Variance",
           "value": 3.598820378264192
          },
          {
           "color_by": "Variance",
           "sample_id": 0,
           "timepoint": 40,
           "trajectory": "Variance",
           "value": 3.5317780610848204
          },
          {
           "color_by": "Variance",
           "sample_id": 0,
           "timepoint": 41,
           "trajectory": "Variance",
           "value": 3.5251984116366515
          },
          {
           "color_by": "Variance",
           "sample_id": 0,
           "timepoint": 42,
           "trajectory": "Variance",
           "value": 3.580471224539476
          },
          {
           "color_by": "Variance",
           "sample_id": 0,
           "timepoint": 43,
           "trajectory": "Variance",
           "value": 3.6951222454655133
          },
          {
           "color_by": "Variance",
           "sample_id": 0,
           "timepoint": 44,
           "trajectory": "Variance",
           "value": 3.862967803310439
          },
          {
           "color_by": "Variance",
           "sample_id": 0,
           "timepoint": 45,
           "trajectory": "Variance",
           "value": 4.0745000224612475
          },
          {
           "color_by": "Variance",
           "sample_id": 0,
           "timepoint": 46,
           "trajectory": "Variance",
           "value": 4.317478669364443
          },
          {
           "color_by": "Variance",
           "sample_id": 0,
           "timepoint": 47,
           "trajectory": "Variance",
           "value": 4.577692839532721
          },
          {
           "color_by": "Variance",
           "sample_id": 0,
           "timepoint": 48,
           "trajectory": "Variance",
           "value": 4.839845130800311
          },
          {
           "color_by": "Variance",
           "sample_id": 0,
           "timepoint": 49,
           "trajectory": "Variance",
           "value": 5.088503332625013
          },
          {
           "color_by": "Variance",
           "sample_id": 0,
           "timepoint": 50,
           "trajectory": "Variance",
           "value": 5.309060463056369
          },
          {
           "color_by": "Variance",
           "sample_id": 0,
           "timepoint": 51,
           "trajectory": "Variance",
           "value": 5.488643465658818
          },
          {
           "color_by": "Variance",
           "sample_id": 0,
           "timepoint": 52,
           "trajectory": "Variance",
           "value": 5.616914070479179
          },
          {
           "color_by": "Variance",
           "sample_id": 0,
           "timepoint": 53,
           "trajectory": "Variance",
           "value": 5.686712027623351
          },
          {
           "color_by": "Variance",
           "sample_id": 0,
           "timepoint": 54,
           "trajectory": "Variance",
           "value": 5.694500722301177
          },
          {
           "color_by": "Variance",
           "sample_id": 0,
           "timepoint": 55,
           "trajectory": "Variance",
           "value": 5.640587466972537
          },
          {
           "color_by": "Variance",
           "sample_id": 0,
           "timepoint": 56,
           "trajectory": "Variance",
           "value": 5.529104775546413
          },
          {
           "color_by": "Variance",
           "sample_id": 0,
           "timepoint": 57,
           "trajectory": "Variance",
           "value": 5.367753785413603
          },
          {
           "color_by": "Variance",
           "sample_id": 0,
           "timepoint": 58,
           "trajectory": "Variance",
           "value": 5.167325781456275
          },
          {
           "color_by": "Variance",
           "sample_id": 0,
           "timepoint": 59,
           "trajectory": "Variance",
           "value": 4.941031572602815
          },
          {
           "color_by": "Variance",
           "sample_id": 0,
           "timepoint": 60,
           "trajectory": "Variance",
           "value": 4.703680418187789
          },
          {
           "color_by": "Variance",
           "sample_id": 0,
           "timepoint": 61,
           "trajectory": "Variance",
           "value": 4.470759555545499
          },
          {
           "color_by": "Variance",
           "sample_id": 0,
           "timepoint": 62,
           "trajectory": "Variance",
           "value": 4.257471560313283
          },
          {
           "color_by": "Variance",
           "sample_id": 0,
           "timepoint": 63,
           "trajectory": "Variance",
           "value": 4.07778939260086
          },
          {
           "color_by": "Variance",
           "sample_id": 0,
           "timepoint": 64,
           "trajectory": "Variance",
           "value": 3.943587882490415
          },
          {
           "color_by": "Variance",
           "sample_id": 0,
           "timepoint": 65,
           "trajectory": "Variance",
           "value": 3.863905655641182
          },
          {
           "color_by": "Variance",
           "sample_id": 0,
           "timepoint": 66,
           "trajectory": "Variance",
           "value": 3.844383389580873
          },
          {
           "color_by": "Variance",
           "sample_id": 0,
           "timepoint": 67,
           "trajectory": "Variance",
           "value": 3.8869133278259227
          },
          {
           "color_by": "Variance",
           "sample_id": 0,
           "timepoint": 68,
           "trajectory": "Variance",
           "value": 3.989521843936438
          },
          {
           "color_by": "Variance",
           "sample_id": 0,
           "timepoint": 69,
           "trajectory": "Variance",
           "value": 4.146492357652228
          },
          {
           "color_by": "Variance",
           "sample_id": 0,
           "timepoint": 70,
           "trajectory": "Variance",
           "value": 4.3487209612885405
          },
          {
           "color_by": "Variance",
           "sample_id": 0,
           "timepoint": 71,
           "trajectory": "Variance",
           "value": 4.584282645737192
          },
          {
           "color_by": "Variance",
           "sample_id": 0,
           "timepoint": 72,
           "trajectory": "Variance",
           "value": 4.839172921322294
          },
          {
           "color_by": "Variance",
           "sample_id": 0,
           "timepoint": 73,
           "trajectory": "Variance",
           "value": 5.098178723527019
          },
          {
           "color_by": "Variance",
           "sample_id": 0,
           "timepoint": 74,
           "trajectory": "Variance",
           "value": 5.3458244552729255
          },
          {
           "color_by": "Variance",
           "sample_id": 0,
           "timepoint": 75,
           "trajectory": "Variance",
           "value": 5.567334345780996
          },
          {
           "color_by": "Variance",
           "sample_id": 0,
           "timepoint": 76,
           "trajectory": "Variance",
           "value": 5.749551291533994
          },
          {
           "color_by": "Variance",
           "sample_id": 0,
           "timepoint": 77,
           "trajectory": "Variance",
           "value": 5.881755050570373
          },
          {
           "color_by": "Variance",
           "sample_id": 0,
           "timepoint": 78,
           "trajectory": "Variance",
           "value": 5.956328919042354
          },
          {
           "color_by": "Variance",
           "sample_id": 0,
           "timepoint": 79,
           "trajectory": "Variance",
           "value": 5.969233439591374
          },
          {
           "color_by": "Variance",
           "sample_id": 0,
           "timepoint": 80,
           "trajectory": "Variance",
           "value": 5.920257688904076
          },
          {
           "color_by": "Variance",
           "sample_id": 0,
           "timepoint": 81,
           "trajectory": "Variance",
           "value": 5.813032520845569
          },
          {
           "color_by": "Variance",
           "sample_id": 0,
           "timepoint": 82,
           "trajectory": "Variance",
           "value": 5.654804942001327
          },
          {
           "color_by": "Variance",
           "sample_id": 0,
           "timepoint": 83,
           "trajectory": "Variance",
           "value": 5.455987648075569
          },
          {
           "color_by": "Variance",
           "sample_id": 0,
           "timepoint": 84,
           "trajectory": "Variance",
           "value": 5.2295117289903
          },
          {
           "color_by": "Variance",
           "sample_id": 0,
           "timepoint": 85,
           "trajectory": "Variance",
           "value": 4.990022788534442
          },
          {
           "color_by": "Variance",
           "sample_id": 0,
           "timepoint": 86,
           "trajectory": "Variance",
           "value": 4.7529704601265355
          },
          {
           "color_by": "Variance",
           "sample_id": 0,
           "timepoint": 87,
           "trajectory": "Variance",
           "value": 4.533647928357706
          },
          {
           "color_by": "Variance",
           "sample_id": 0,
           "timepoint": 88,
           "trajectory": "Variance",
           "value": 4.346241174370672
          },
          {
           "color_by": "Variance",
           "sample_id": 0,
           "timepoint": 89,
           "trajectory": "Variance",
           "value": 4.202947058540797
          },
          {
           "color_by": "Variance",
           "sample_id": 0,
           "timepoint": 90,
           "trajectory": "Variance",
           "value": 4.113215073946929
          },
          {
           "color_by": "Variance",
           "sample_id": 0,
           "timepoint": 91,
           "trajectory": "Variance",
           "value": 4.083159914861502
          },
          {
           "color_by": "Variance",
           "sample_id": 0,
           "timepoint": 92,
           "trajectory": "Variance",
           "value": 4.115181384031626
          },
          {
           "color_by": "Variance",
           "sample_id": 0,
           "timepoint": 93,
           "trajectory": "Variance",
           "value": 4.207815271194393
          },
          {
           "color_by": "Variance",
           "sample_id": 0,
           "timepoint": 94,
           "trajectory": "Variance",
           "value": 4.355824474590847
          },
          {
           "color_by": "Variance",
           "sample_id": 0,
           "timepoint": 95,
           "trajectory": "Variance",
           "value": 4.550524700090978
          },
          {
           "color_by": "Variance",
           "sample_id": 0,
           "timepoint": 96,
           "trajectory": "Variance",
           "value": 4.780324487637113
          },
          {
           "color_by": "Variance",
           "sample_id": 0,
           "timepoint": 97,
           "trajectory": "Variance",
           "value": 5.031445988873161
          },
          {
           "color_by": "Variance",
           "sample_id": 0,
           "timepoint": 98,
           "trajectory": "Variance",
           "value": 5.288781681589201
          },
          {
           "color_by": "Variance",
           "sample_id": 0,
           "timepoint": 99,
           "trajectory": "Variance",
           "value": 5.536833754713501
          }
         ]
        },
        {
         "name": "points",
         "values": []
        },
        {
         "name": "markers",
         "values": []
        },
        {
         "name": "selected",
         "on": [
          {
           "remove": true,
           "trigger": "clear"
          },
          {
           "remove": true,
           "trigger": "!shift"
          },
          {
           "insert": "clicked",
           "trigger": "!shift && clicked"
          },
          {
           "toggle": "clicked",
           "trigger": "shift && clicked"
          }
         ]
        },
        {
         "name": "selectedData",
         "on": [
          {
           "remove": true,
           "trigger": "clearData"
          },
          {
           "toggle": "clickedData",
           "trigger": "clickedData"
          }
         ]
        }
       ],
       "height": 300,
       "legends": [
        {
         "encode": {
          "labels": {
           "interactive": true,
           "name": "legendLabel",
           "size": {
            "value": 25
           },
           "update": {
            "opacity": [
             {
              "test": "!length(data('selectedData')) || indata('selectedData', 'value', datum.value)",
              "value": 1
             },
             {
              "value": 0.25
             }
            ]
           }
          },
          "symbols": {
           "interactive": true,
           "name": "legendSymbol",
           "update": {
            "fill": {
             "value": "transparent"
            },
            "opacity": [
             {
              "test": "!length(data('selected')) || indata('selected', 'value', datum.value) || indata('selectedData', 'value', datum.value)",
              "value": 0.7
             },
             {
              "value": 0.15
             }
            ],
            "size": {
             "value": 64
            },
            "strokeWidth": {
             "value": 2
            }
           }
          }
         },
         "name": "color_legend",
         "orient": "left",
         "stroke": "color"
        }
       ],
       "marks": [
        {
         "from": {
          "facet": {
           "data": "points",
           "groupby": "trajectory",
           "name": "points_split"
          }
         },
         "marks": [
          {
           "encode": {
            "hover": {
             "fillOpacity": {
              "value": 0.9
             }
            },
            "update": {
             "fill": {
              "field": "trajectory",
              "scale": "color"
             },
             "fillOpacity": [
              {
               "test": "!length(data('selected')) || indata('selected', 'value', datum.trajectory)",
               "value": 0.5
              },
              {
               "value": 0.15
              }
             ],
             "size": {
              "value": 35
             },
             "stroke": {
              "field": "trajectory",
              "scale": "color"
             },
             "strokeOpacity": [
              {
               "test": "!length(data('selected')) || indata('selected', 'value', datum.trajectory)",
               "value": 0.75
              },
              {
               "value": 0.15
              }
             ],
             "strokeWidth": {
              "value": 2
             },
             "tooltip": {
              "field": "value"
             },
             "x": {
              "field": "timepoint",
              "scale": "xscale"
             },
             "y": {
              "field": "value",
              "scale": "yscale"
             }
            }
           },
           "from": {
            "data": "points_split"
           },
           "name": "_points_symbol",
           "type": "symbol",
           "zindex": 3
          },
          {
           "encode": {
            "hover": {
             "fillOpacity": {
              "value": 0.9
             }
            },
            "update": {
             "interpolate": {
              "value": "linear"
             },
             "stroke": {
              "field": "trajectory",
              "scale": "color"
             },
             "strokeDash": {
              "value": [
               5,
               3
              ]
             },
             "strokeOpacity": [
              {
               "test": "!length(data('selected')) || indata('selected', 'value', datum.trajectory)",
               "value": 0.3
              },
              {
               "value": 0.1
              }
             ],
             "strokeWidth": {
              "value": 2
             },
             "x": {
              "field": "timepoint",
              "scale": "xscale"
             },
             "y": {
              "field": "value",
              "scale": "yscale"
             }
            }
           },
           "from": {
            "data": "points_split"
           },
           "name": "_points_line",
           "type": "line",
           "zindex": 3
          }
         ],
         "name": "_points",
         "type": "group",
         "zindex": 3
        },
        {
         "from": {
          "facet": {
           "data": "traces",
           "groupby": "trajectory",
           "name": "traces_split"
          }
         },
         "marks": [
          {
           "encode": {
            "hover": {
             "fillOpacity": {
              "value": 0.9
             }
            },
            "update": {
             "interpolate": {
              "value": "linear"
             },
             "stroke": {
              "field": "trajectory",
              "scale": "color"
             },
             "strokeDash": [
              {
               "test": "indexof(datum.trajectory, 'Baseline') != -1 || indexof(datum.trajectory, 'Envelope') != -1",
               "value": [
                8,
                4
               ]
              },
              {
               "value": [
                1,
                0
               ]
              }
             ],
             "strokeOpacity": [
              {
               "test": "!length(data('selected')) || indata('selected', 'value', datum.trajectory)",
               "value": 0.75
              },
              {
               "value": 0.15
              }
             ],
             "strokeWidth": {
              "value": 2
             },
             "x": {
              "field": "timepoint",
              "scale": "xscale"
             },
             "y": {
              "field": "value",
              "scale": "yscale"
             }
            }
           },
           "from": {
            "data": "traces_split"
           },
           "name": "_traces_lines",
           "type": "line"
          }
         ],
         "name": "_traces",
         "type": "group",
         "zindex": 2
        },
        {
         "from": {
          "facet": {
           "data": "distributions",
           "groupby": "trajectory",
           "name": "trajectory_split"
          }
         },
         "marks": [
          {
           "encode": {
            "hover": {
             "fillOpacity": {
              "value": 0.9
             }
            },
            "update": {
             "fill": {
              "field": "trajectory",
              "scale": "color"
             },
             "fillOpacity": [
              {
               "test": "!length(data('selected')) || indata('selected', 'value', datum.trajectory)",
               "value": 0.1
              },
              {
               "value": 0.05
              }
             ],
             "interpolate": {
              "value": "linear"
             },
             "stroke": {
              "field": "trajectory",
              "scale": "color"
             },
             "strokeOpacity": [
              {
               "test": "!length(data('selected')) || indata('selected', 'value', datum.trajectory)",
               "value": 0.1
              },
              {
               "value": 0.05
              }
             ],
             "strokeWidth": {
              "value": 2
             },
             "x": {
              "field": "timepoint",
              "scale": "xscale"
             },
             "y": {
              "field": "upper",
              "scale": "yscale"
             },
             "y2": {
              "field": "lower",
              "scale": "yscale"
             }
            }
           },
           "from": {
            "data": "trajectory_split"
           },
           "interactive": true,
           "name": "area",
           "type": "area"
          }
         ],
         "name": "_distributions",
         "type": "group",
         "zindex": 1
        },
        {
         "marks": [
          {
           "encode": {
            "enter": {
             "stroke": {
              "value": "lightgray"
             }
            },
            "update": {
             "opacity": {
              "value": 1
             },
             "x": {
              "field": "timepoint",
              "scale": "xscale"
             },
             "y": {
              "signal": "height"
             },
             "y2": {
              "value": 0
             }
            }
           },
           "from": {
            "data": "markers"
           },
           "name": "_marker text",
           "type": "rule"
          },
          {
           "encode": {
            "enter": {
             "fontSize": {
              "value": 8
             },
             "text": {
              "field": "datum.label"
             },
             "y": {
              "value": 0
             }
            }
           },
           "from": {
            "data": "_marker text"
           },
           "name": "_marker flags",
           "transform": [
            {
             "as": [
              "x",
              "_y",
              "opacity",
              "align",
              "baseline"
             ],
             "lineAnchor": "start",
             "offset": [
              1
             ],
             "size": {
              "signal": "[width, height]"
             },
             "type": "label"
            }
           ],
           "type": "text"
          }
         ],
         "name": "_markers",
         "type": "group"
        }
       ],
       "scales": [
        {
         "domain": {
          "fields": [
           {
            "data": "distributions",
            "field": "timepoint"
           },
           {
            "data": "traces",
            "field": "timepoint"
           },
           {
            "data": "points",
            "field": "timepoint"
           },
           {
            "data": "markers",
            "field": "timepoint"
           }
          ]
         },
         "name": "xscale",
         "range": "width",
         "type": "linear",
         "zero": false
        },
        {
         "domain": {
          "fields": [
           {
            "data": "distributions",
            "field": "lower"
           },
           {
            "data": "distributions",
            "field": "upper"
           },
           {
            "data": "traces",
            "field": "value"
           },
           {
            "data": "points",
            "field": "value"
           }
          ]
         },
         "name": "yscale",
         "nice": true,
         "range": "height",
         "type": "linear",
         "zero": true
        },
        {
         "domain": {
          "fields": [
           {
            "data": "distributions",
            "field": "trajectory"
           },
           {
            "data": "traces",
            "field": "trajectory"
           },
           {
            "data": "points",
            "field": "trajectory"
           }
          ],
          "sort": {
           "order": "ascending"
          }
         },
         "name": "color",
         "range": "category",
         "type": "ordinal"
        }
       ],
       "signals": [
        {
         "name": "clear",
         "on": [
          {
           "events": "mouseup[!event.item]",
           "force": true,
           "update": "true"
          }
         ],
         "value": true
        },
        {
         "name": "shift",
         "on": [
          {
           "events": "@legendSymbol:click, @legendLabel:click",
           "force": true,
           "update": "event.shiftKey"
          }
         ],
         "value": false
        },
        {
         "name": "clicked",
         "on": [
          {
           "events": "@legendSymbol:click, @legendLabel:click",
           "force": true,
           "update": "{value: datum.value}"
          }
         ],
         "value": null
        },
        {
         "name": "clearData",
         "on": [
          {
           "events": "mouseup[!event.item]",
           "force": true,
           "update": "true"
          }
         ],
         "value": true
        },
        {
         "name": "clickedData",
         "on": [
          {
           "events": "@area:click",
           "force": true,
           "update": "{value: datum.trajectory}"
          }
         ],
         "value": null
        }
       ],
       "width": 500
      }
     },
     "metadata": {},
     "output_type": "display_data"
    },
    {
     "name": "stderr",
     "output_type": "stream",
     "text": [
      "/var/folders/vn/q5vrjvfn60bfsnnd058cb6ww0000gn/T/ipykernel_795/4188316938.py:106: FutureWarning: The provided callable <function mean at 0x10d51e170> is currently using DataFrameGroupBy.mean. In a future version of pandas, the provided callable will be used directly. To keep current behavior pass the string \"mean\" instead.\n",
      "  parameters_by_sample_id = all_parameters_cluster.groupby(\"sample_id\").agg(np.mean)\n",
      "/var/folders/vn/q5vrjvfn60bfsnnd058cb6ww0000gn/T/ipykernel_795/4188316938.py:107: FutureWarning: The provided callable <function mean at 0x10d51e170> is currently using Series.mean. In a future version of pandas, the provided callable will be used directly. To keep current behavior pass the string \"mean\" instead.\n",
      "  parameters_by_sample_id  = parameters_by_sample_id.agg([np.mean, np.std]).reset_index()\n",
      "/var/folders/vn/q5vrjvfn60bfsnnd058cb6ww0000gn/T/ipykernel_795/4188316938.py:107: FutureWarning: The provided callable <function std at 0x10d51e290> is currently using Series.std. In a future version of pandas, the provided callable will be used directly. To keep current behavior pass the string \"std\" instead.\n",
      "  parameters_by_sample_id  = parameters_by_sample_id.agg([np.mean, np.std]).reset_index()\n"
     ]
    },
    {
     "name": "stdout",
     "output_type": "stream",
     "text": [
      "\n"
     ]
    },
    {
     "data": {
      "application/vnd.vega.v5+json": {
       "$schema": "https://vega.github.io/schema/vega/v5.json",
       "axes": [
        {
         "name": "x_axis",
         "orient": "bottom",
         "scale": "xscale",
         "zindex": 100
        },
        {
         "name": "y_axis",
         "orient": "left",
         "scale": "yscale",
         "zindex": 100
        }
       ],
       "background": "white",
       "data": [
        {
         "name": "distributions",
         "transform": [
          {
           "sort": {
            "field": [
             "trajectory",
             "timepoint"
            ]
           },
           "type": "collect"
          }
         ],
         "values": [
          {
           "lower": 0.6988413497864859,
           "timepoint": 0,
           "trajectory": "Example",
           "upper": 2.6623713284426973
          },
          {
           "lower": 1.463113787526391,
           "timepoint": 1,
           "trajectory": "Example",
           "upper": 3.5312582928344254
          },
          {
           "lower": 1.4149486704091092,
           "timepoint": 2,
           "trajectory": "Example",
           "upper": 3.5338496816323914
          },
          {
           "lower": 1.3175573220784687,
           "timepoint": 3,
           "trajectory": "Example",
           "upper": 3.4502044590774603
          },
          {
           "lower": 1.2184959026348023,
           "timepoint": 4,
           "trajectory": "Example",
           "upper": 3.3158743369130135
          },
          {
           "lower": 1.1215510639583217,
           "timepoint": 5,
           "trajectory": "Example",
           "upper": 3.1545952066397938
          },
          {
           "lower": 1.0029109807172558,
           "timepoint": 6,
           "trajectory": "Example",
           "upper": 2.9870441289477663
          },
          {
           "lower": 0.9209769855445109,
           "timepoint": 7,
           "trajectory": "Example",
           "upper": 2.8344896997807005
          },
          {
           "lower": 0.9192597118667831,
           "timepoint": 8,
           "trajectory": "Example",
           "upper": 2.7218643975915255
          },
          {
           "lower": 1.0059223033952711,
           "timepoint": 9,
           "trajectory": "Example",
           "upper": 2.6829422090418964
          },
          {
           "lower": 1.0855620883352228,
           "timepoint": 10,
           "trajectory": "Example",
           "upper": 2.756007270144698
          },
          {
           "lower": 1.1471940743304185,
           "timepoint": 11,
           "trajectory": "Example",
           "upper": 2.9930825200507205
          },
          {
           "lower": 1.3044024779978043,
           "timepoint": 12,
           "trajectory": "Example",
           "upper": 3.265827548694721
          },
          {
           "lower": 1.4529158693936532,
           "timepoint": 13,
           "trajectory": "Example",
           "upper": 3.5506259234362627
          },
          {
           "lower": 1.6352960878784144,
           "timepoint": 14,
           "trajectory": "Example",
           "upper": 3.8324277623205765
          },
          {
           "lower": 1.8611060913624484,
           "timepoint": 15,
           "trajectory": "Example",
           "upper": 4.096177134754212
          },
          {
           "lower": 2.11860982856304,
           "timepoint": 16,
           "trajectory": "Example",
           "upper": 4.327779103249516
          },
          {
           "lower": 2.3939629898989,
           "timepoint": 17,
           "trajectory": "Example",
           "upper": 4.518316140142676
          },
          {
           "lower": 2.6720923947860613,
           "timepoint": 18,
           "trajectory": "Example",
           "upper": 4.658173495396925
          },
          {
           "lower": 2.9376480609708535,
           "timepoint": 19,
           "trajectory": "Example",
           "upper": 4.757189049899361
          },
          {
           "lower": 3.162271870535272,
           "timepoint": 20,
           "trajectory": "Example",
           "upper": 4.799897805204234
          },
          {
           "lower": 3.18820527097828,
           "timepoint": 21,
           "trajectory": "Example",
           "upper": 4.768768431451459
          },
          {
           "lower": 3.3101933387618856,
           "timepoint": 22,
           "trajectory": "Example",
           "upper": 4.705492936304083
          },
          {
           "lower": 3.2989162882955188,
           "timepoint": 23,
           "trajectory": "Example",
           "upper": 4.79951114673673
          },
          {
           "lower": 3.1587858096782258,
           "timepoint": 24,
           "trajectory": "Example",
           "upper": 4.882654624255783
          },
          {
           "lower": 2.965285213012885,
           "timepoint": 25,
           "trajectory": "Example",
           "upper": 4.903378978886108
          },
          {
           "lower": 2.7529236716972165,
           "timepoint": 26,
           "trajectory": "Example",
           "upper": 4.811034188815886
          },
          {
           "lower": 2.5363192529976395,
           "timepoint": 27,
           "trajectory": "Example",
           "upper": 4.651071151390645
          },
          {
           "lower": 2.3303103824259566,
           "timepoint": 28,
           "trajectory": "Example",
           "upper": 4.463781373749489
          },
          {
           "lower": 2.149036346459846,
           "timepoint": 29,
           "trajectory": "Example",
           "upper": 4.254011722956972
          },
          {
           "lower": 1.9879434339178355,
           "timepoint": 30,
           "trajectory": "Example",
           "upper": 4.031805391401222
          },
          {
           "lower": 1.8201617482717114,
           "timepoint": 31,
           "trajectory": "Example",
           "upper": 3.812235978483078
          },
          {
           "lower": 1.6888550793923447,
           "timepoint": 32,
           "trajectory": "Example",
           "upper": 3.6117304271101287
          },
          {
           "lower": 1.6292929568358865,
           "timepoint": 33,
           "trajectory": "Example",
           "upper": 3.456536364811792
          },
          {
           "lower": 1.6808318846880421,
           "timepoint": 34,
           "trajectory": "Example",
           "upper": 3.3625411586604796
          },
          {
           "lower": 1.7415229790499502,
           "timepoint": 35,
           "trajectory": "Example",
           "upper": 3.3991455415409244
          },
          {
           "lower": 1.7696605275067625,
           "timepoint": 36,
           "trajectory": "Example",
           "upper": 3.5924029976258276
          },
          {
           "lower": 1.8951206969844523,
           "timepoint": 37,
           "trajectory": "Example",
           "upper": 3.838893923907617
          },
          {
           "lower": 2.021344431672089,
           "timepoint": 38,
           "trajectory": "Example",
           "upper": 4.101523223816605
          },
          {
           "lower": 2.1776265389735485,
           "timepoint": 39,
           "trajectory": "Example",
           "upper": 4.3650030620579505
          },
          {
           "lower": 2.3802730635436995,
           "timepoint": 40,
           "trajectory": "Example",
           "upper": 4.613971594181155
          },
          {
           "lower": 2.61768434625009,
           "timepoint": 41,
           "trajectory": "Example",
           "upper": 4.833949082981114
          },
          {
           "lower": 2.876080007302015,
           "timepoint": 42,
           "trajectory": "Example",
           "upper": 5.014743784452466
          },
          {
           "lower": 3.1403565974833105,
           "timepoint": 43,
           "trajectory": "Example",
           "upper": 5.147726313257884
          },
          {
           "lower": 3.395027452493027,
           "timepoint": 44,
           "trajectory": "Example",
           "upper": 5.231661791517868
          },
          {
           "lower": 3.625186320271946,
           "timepoint": 45,
           "trajectory": "Example",
           "upper": 5.279519835814705
          },
          {
           "lower": 3.6484287340019512,
           "timepoint": 46,
           "trajectory": "Example",
           "upper": 5.241329735621546
          },
          {
           "lower": 3.7530123466996432,
           "timepoint": 47,
           "trajectory": "Example",
           "upper": 5.166587594048285
          },
          {
           "lower": 3.75261203229895,
           "timepoint": 48,
           "trajectory": "Example",
           "upper": 5.229310018466157
          },
          {
           "lower": 3.617767179133603,
           "timepoint": 49,
           "trajectory": "Example",
           "upper": 5.310624094417553
          },
          {
           "lower": 3.418418918092754,
           "timepoint": 50,
           "trajectory": "Example",
           "upper": 5.3303080878703355
          },
          {
           "lower": 3.198812899926793,
           "timepoint": 51,
           "trajectory": "Example",
           "upper": 5.246147568898929
          },
          {
           "lower": 2.973430494553316,
           "timepoint": 52,
           "trajectory": "Example",
           "upper": 5.0832290487343395
          },
          {
           "lower": 2.757099883361556,
           "timepoint": 53,
           "trajectory": "Example",
           "upper": 4.890482505345682
          },
          {
           "lower": 2.564074540099286,
           "timepoint": 54,
           "trajectory": "Example",
           "upper": 4.6757660134837895
          },
          {
           "lower": 2.393025918530028,
           "timepoint": 55,
           "trajectory": "Example",
           "upper": 4.446994874746797
          },
          {
           "lower": 2.2196288888468167,
           "timepoint": 56,
           "trajectory": "Example",
           "upper": 4.219173419323623
          },
          {
           "lower": 2.0751318922165654,
           "timepoint": 57,
           "trajectory": "Example",
           "upper": 4.007236165472755
          },
          {
           "lower": 1.9882419235201434,
           "timepoint": 58,
           "trajectory": "Example",
           "upper": 3.8399450587235604
          },
          {
           "lower": 2.030806676160103,
           "timepoint": 59,
           "trajectory": "Example",
           "upper": 3.7187323807292545
          },
          {
           "lower": 2.0953598379060794,
           "timepoint": 60,
           "trajectory": "Example",
           "upper": 3.7400700924271195
          },
          {
           "lower": 2.110015552679437,
           "timepoint": 61,
           "trajectory": "Example",
           "upper": 3.909131362444994
          },
          {
           "lower": 2.215833170513514,
           "timepoint": 62,
           "trajectory": "Example",
           "upper": 4.146876657138168
          },
          {
           "lower": 2.3412484533279136,
           "timepoint": 63,
           "trajectory": "Example",
           "upper": 4.40293587608714
          },
          {
           "lower": 2.4855483384252115,
           "timepoint": 64,
           "trajectory": "Example",
           "upper": 4.662091560430597
          },
          {
           "lower": 2.677728430615677,
           "timepoint": 65,
           "trajectory": "Example",
           "upper": 4.908925290671242
          },
          {
           "lower": 2.906526325172877,
           "timepoint": 66,
           "trajectory": "Example",
           "upper": 5.128776563579273
          },
          {
           "lower": 3.158394920745203,
           "timepoint": 67,
           "trajectory": "Example",
           "upper": 5.310365968256538
          },
          {
           "lower": 3.418344927095461,
           "timepoint": 68,
           "trajectory": "Example",
           "upper": 5.446144477722805
          },
          {
           "lower": 3.6708770321714757,
           "timepoint": 69,
           "trajectory": "Example",
           "upper": 5.524745421036871
          },
          {
           "lower": 3.9009457713827635,
           "timepoint": 70,
           "trajectory": "Example",
           "upper": 5.5852594787501975
          },
          {
           "lower": 3.9549783625932053,
           "timepoint": 71,
           "trajectory": "Example",
           "upper": 5.547726446968338
          },
          {
           "lower": 4.03688659921448,
           "timepoint": 72,
           "trajectory": "Example",
           "upper": 5.475867916628523
          },
          {
           "lower": 4.053924493987067,
           "timepoint": 73,
           "trajectory": "Example",
           "upper": 5.50765018531644
          },
          {
           "lower": 3.9295945730839,
           "timepoint": 74,
           "trajectory": "Example",
           "upper": 5.592339019464031
          },
          {
           "lower": 3.7318004144141224,
           "timepoint": 75,
           "trajectory": "Example",
           "upper": 5.616745460329497
          },
          {
           "lower": 3.510605589367799,
           "timepoint": 76,
           "trajectory": "Example",
           "upper": 5.546434416207445
          },
          {
           "lower": 3.281769813819738,
           "timepoint": 77,
           "trajectory": "Example",
           "upper": 5.385816246849175
          },
          {
           "lower": 3.060124073516052,
           "timepoint": 78,
           "trajectory": "Example",
           "upper": 5.19250619980592
          },
          {
           "lower": 2.8600464116554893,
           "timepoint": 79,
           "trajectory": "Example",
           "upper": 4.977565741074736
          },
          {
           "lower": 2.6833554092120298,
           "timepoint": 80,
           "trajectory": "Example",
           "upper": 4.746709418635036
          },
          {
           "lower": 2.5083407163747875,
           "timepoint": 81,
           "trajectory": "Example",
           "upper": 4.514876539379254
          },
          {
           "lower": 2.3545829215109455,
           "timepoint": 82,
           "trajectory": "Example",
           "upper": 4.2970616138474735
          },
          {
           "lower": 2.252458834327004,
           "timepoint": 83,
           "trajectory": "Example",
           "upper": 4.119962648263902
          },
          {
           "lower": 2.2809486375230374,
           "timepoint": 84,
           "trajectory": "Example",
           "upper": 3.989323313419226
          },
          {
           "lower": 2.352585037962392,
           "timepoint": 85,
           "trajectory": "Example",
           "upper": 3.9873186186269187
          },
          {
           "lower": 2.3567878868380605,
           "timepoint": 86,
           "trajectory": "Example",
           "upper": 4.131822368315049
          },
          {
           "lower": 2.443016347979804,
           "timepoint": 87,
           "trajectory": "Example",
           "upper": 4.363455164497353
          },
          {
           "lower": 2.573161033608602,
           "timepoint": 88,
           "trajectory": "Example",
           "upper": 4.615417341517319
          },
          {
           "lower": 2.707944227227729,
           "timepoint": 89,
           "trajectory": "Example",
           "upper": 4.8725879276691275
          },
          {
           "lower": 2.891948674087118,
           "timepoint": 90,
           "trajectory": "Example",
           "upper": 5.11951746048167
          },
          {
           "lower": 3.1142694629723016,
           "timepoint": 91,
           "trajectory": "Example",
           "upper": 5.341388651668613
          },
          {
           "lower": 3.361614882548612,
           "timepoint": 92,
           "trajectory": "Example",
           "upper": 5.525875190393956
          },
          {
           "lower": 3.6191329222214947,
           "timepoint": 93,
           "trajectory": "Example",
           "upper": 5.666481030801175
          },
          {
           "lower": 3.871334782232325,
           "timepoint": 94,
           "trajectory": "Example",
           "upper": 5.750795592016811
          },
          {
           "lower": 4.103057973711747,
           "timepoint": 95,
           "trajectory": "Example",
           "upper": 5.816893634166185
          },
          {
           "lower": 4.189412717176061,
           "timepoint": 96,
           "trajectory": "Example",
           "upper": 5.782086644724918
          },
          {
           "lower": 4.250519756679548,
           "timepoint": 97,
           "trajectory": "Example",
           "upper": 5.714874448896343
          },
          {
           "lower": 4.28665546992195,
           "timepoint": 98,
           "trajectory": "Example",
           "upper": 5.7180301101128235
          },
          {
           "lower": 4.17378622077236,
           "timepoint": 99,
           "trajectory": "Example",
           "upper": 5.807121438555751
          }
         ]
        },
        {
         "name": "traces",
         "transform": [
          {
           "expr": "isValid(datum.value)",
           "type": "filter"
          },
          {
           "sort": {
            "field": [
             "trajectory",
             "timepoint"
            ]
           },
           "type": "collect"
          }
         ],
         "values": [
          {
           "color_by": "Envelope Mean",
           "sample_id": 0,
           "timepoint": 0,
           "trajectory": "Envelope_Mean",
           "value": 1.6806063391145916
          },
          {
           "color_by": "Envelope Mean",
           "sample_id": 0,
           "timepoint": 1,
           "trajectory": "Envelope_Mean",
           "value": 2.4971860401804085
          },
          {
           "color_by": "Envelope Mean",
           "sample_id": 0,
           "timepoint": 2,
           "trajectory": "Envelope_Mean",
           "value": 2.4743991760207504
          },
          {
           "color_by": "Envelope Mean",
           "sample_id": 0,
           "timepoint": 3,
           "trajectory": "Envelope_Mean",
           "value": 2.3838808905779647
          },
          {
           "color_by": "Envelope Mean",
           "sample_id": 0,
           "timepoint": 4,
           "trajectory": "Envelope_Mean",
           "value": 2.2671851197739077
          },
          {
           "color_by": "Envelope Mean",
           "sample_id": 0,
           "timepoint": 5,
           "trajectory": "Envelope_Mean",
           "value": 2.1380731352990576
          },
          {
           "color_by": "Envelope Mean",
           "sample_id": 0,
           "timepoint": 6,
           "trajectory": "Envelope_Mean",
           "value": 1.994977554832511
          },
          {
           "color_by": "Envelope Mean",
           "sample_id": 0,
           "timepoint": 7,
           "trajectory": "Envelope_Mean",
           "value": 1.8777333426626057
          },
          {
           "color_by": "Envelope Mean",
           "sample_id": 0,
           "timepoint": 8,
           "trajectory": "Envelope_Mean",
           "value": 1.8205620547291543
          },
          {
           "color_by": "Envelope Mean",
           "sample_id": 0,
           "timepoint": 9,
           "trajectory": "Envelope_Mean",
           "value": 1.8444322562185838
          },
          {
           "color_by": "Envelope Mean",
           "sample_id": 0,
           "timepoint": 10,
           "trajectory": "Envelope_Mean",
           "value": 1.9207846792399605
          },
          {
           "color_by": "Envelope Mean",
           "sample_id": 0,
           "timepoint": 11,
           "trajectory": "Envelope_Mean",
           "value": 2.0701382971905695
          },
          {
           "color_by": "Envelope Mean",
           "sample_id": 0,
           "timepoint": 12,
           "trajectory": "Envelope_Mean",
           "value": 2.2851150133462625
          },
          {
           "color_by": "Envelope Mean",
           "sample_id": 0,
           "timepoint": 13,
           "trajectory": "Envelope_Mean",
           "value": 2.501770896414958
          },
          {
           "color_by": "Envelope Mean",
           "sample_id": 0,
           "timepoint": 14,
           "trajectory": "Envelope_Mean",
           "value": 2.7338619250994953
          },
          {
           "color_by": "Envelope Mean",
           "sample_id": 0,
           "timepoint": 15,
           "trajectory": "Envelope_Mean",
           "value": 2.9786416130583304
          },
          {
           "color_by": "Envelope Mean",
           "sample_id": 0,
           "timepoint": 16,
           "trajectory": "Envelope_Mean",
           "value": 3.2231944659062783
          },
          {
           "color_by": "Envelope Mean",
           "sample_id": 0,
           "timepoint": 17,
           "trajectory": "Envelope_Mean",
           "value": 3.456139565020788
          },
          {
           "color_by": "Envelope Mean",
           "sample_id": 0,
           "timepoint": 18,
           "trajectory": "Envelope_Mean",
           "value": 3.665132945091493
          },
          {
           "color_by": "Envelope Mean",
           "sample_id": 0,
           "timepoint": 19,
           "trajectory": "Envelope_Mean",
           "value": 3.8474185554351075
          },
          {
           "color_by": "Envelope Mean",
           "sample_id": 0,
           "timepoint": 20,
           "trajectory": "Envelope_Mean",
           "value": 3.9810848378697528
          },
          {
           "color_by": "Envelope Mean",
           "sample_id": 0,
           "timepoint": 21,
           "trajectory": "Envelope_Mean",
           "value": 3.9784868512148694
          },
          {
           "color_by": "Envelope Mean",
           "sample_id": 0,
           "timepoint": 22,
           "trajectory": "Envelope_Mean",
           "value": 4.007843137532984
          },
          {
           "color_by": "Envelope Mean",
           "sample_id": 0,
           "timepoint": 23,
           "trajectory": "Envelope_Mean",
           "value": 4.049213717516125
          },
          {
           "color_by": "Envelope Mean",
           "sample_id": 0,
           "timepoint": 24,
           "trajectory": "Envelope_Mean",
           "value": 4.020720216967004
          },
          {
           "color_by": "Envelope Mean",
           "sample_id": 0,
           "timepoint": 25,
           "trajectory": "Envelope_Mean",
           "value": 3.9343320959494967
          },
          {
           "color_by": "Envelope Mean",
           "sample_id": 0,
           "timepoint": 26,
           "trajectory": "Envelope_Mean",
           "value": 3.7819789302565514
          },
          {
           "color_by": "Envelope Mean",
           "sample_id": 0,
           "timepoint": 27,
           "trajectory": "Envelope_Mean",
           "value": 3.593695202194142
          },
          {
           "color_by": "Envelope Mean",
           "sample_id": 0,
           "timepoint": 28,
           "trajectory": "Envelope_Mean",
           "value": 3.397045878087723
          },
          {
           "color_by": "Envelope Mean",
           "sample_id": 0,
           "timepoint": 29,
           "trajectory": "Envelope_Mean",
           "value": 3.2015240347084086
          },
          {
           "color_by": "Envelope Mean",
           "sample_id": 0,
           "timepoint": 30,
           "trajectory": "Envelope_Mean",
           "value": 3.0098744126595287
          },
          {
           "color_by": "Envelope Mean",
           "sample_id": 0,
           "timepoint": 31,
           "trajectory": "Envelope_Mean",
           "value": 2.8161988633773944
          },
          {
           "color_by": "Envelope Mean",
           "sample_id": 0,
           "timepoint": 32,
           "trajectory": "Envelope_Mean",
           "value": 2.650292753251237
          },
          {
           "color_by": "Envelope Mean",
           "sample_id": 0,
           "timepoint": 33,
           "trajectory": "Envelope_Mean",
           "value": 2.5429146608238393
          },
          {
           "color_by": "Envelope Mean",
           "sample_id": 0,
           "timepoint": 34,
           "trajectory": "Envelope_Mean",
           "value": 2.521686521674261
          },
          {
           "color_by": "Envelope Mean",
           "sample_id": 0,
           "timepoint": 35,
           "trajectory": "Envelope_Mean",
           "value": 2.5703342602954375
          },
          {
           "color_by": "Envelope Mean",
           "sample_id": 0,
           "timepoint": 36,
           "trajectory": "Envelope_Mean",
           "value": 2.681031762566295
          },
          {
           "color_by": "Envelope Mean",
           "sample_id": 0,
           "timepoint": 37,
           "trajectory": "Envelope_Mean",
           "value": 2.8670073104460347
          },
          {
           "color_by": "Envelope Mean",
           "sample_id": 0,
           "timepoint": 38,
           "trajectory": "Envelope_Mean",
           "value": 3.061433827744347
          },
          {
           "color_by": "Envelope Mean",
           "sample_id": 0,
           "timepoint": 39,
           "trajectory": "Envelope_Mean",
           "value": 3.2713148005157495
          },
          {
           "color_by": "Envelope Mean",
           "sample_id": 0,
           "timepoint": 40,
           "trajectory": "Envelope_Mean",
           "value": 3.497122328862427
          },
          {
           "color_by": "Envelope Mean",
           "sample_id": 0,
           "timepoint": 41,
           "trajectory": "Envelope_Mean",
           "value": 3.7258167146156023
          },
          {
           "color_by": "Envelope Mean",
           "sample_id": 0,
           "timepoint": 42,
           "trajectory": "Envelope_Mean",
           "value": 3.9454118958772404
          },
          {
           "color_by": "Envelope Mean",
           "sample_id": 0,
           "timepoint": 43,
           "trajectory": "Envelope_Mean",
           "value": 4.144041455370598
          },
          {
           "color_by": "Envelope Mean",
           "sample_id": 0,
           "timepoint": 44,
           "trajectory": "Envelope_Mean",
           "value": 4.313344622005447
          },
          {
           "color_by": "Envelope Mean",
           "sample_id": 0,
           "timepoint": 45,
           "trajectory": "Envelope_Mean",
           "value": 4.452353078043325
          },
          {
           "color_by": "Envelope Mean",
           "sample_id": 0,
           "timepoint": 46,
           "trajectory": "Envelope_Mean",
           "value": 4.444879234811749
          },
          {
           "color_by": "Envelope Mean",
           "sample_id": 0,
           "timepoint": 47,
           "trajectory": "Envelope_Mean",
           "value": 4.459799970373965
          },
          {
           "color_by": "Envelope Mean",
           "sample_id": 0,
           "timepoint": 48,
           "trajectory": "Envelope_Mean",
           "value": 4.490961025382553
          },
          {
           "color_by": "Envelope Mean",
           "sample_id": 0,
           "timepoint": 49,
           "trajectory": "Envelope_Mean",
           "value": 4.464195636775578
          },
          {
           "color_by": "Envelope Mean",
           "sample_id": 0,
           "timepoint": 50,
           "trajectory": "Envelope_Mean",
           "value": 4.374363502981545
          },
          {
           "color_by": "Envelope Mean",
           "sample_id": 0,
           "timepoint": 51,
           "trajectory": "Envelope_Mean",
           "value": 4.222480234412862
          },
          {
           "color_by": "Envelope Mean",
           "sample_id": 0,
           "timepoint": 52,
           "trajectory": "Envelope_Mean",
           "value": 4.028329771643827
          },
          {
           "color_by": "Envelope Mean",
           "sample_id": 0,
           "timepoint": 53,
           "trajectory": "Envelope_Mean",
           "value": 3.8237911943536194
          },
          {
           "color_by": "Envelope Mean",
           "sample_id": 0,
           "timepoint": 54,
           "trajectory": "Envelope_Mean",
           "value": 3.6199202767915377
          },
          {
           "color_by": "Envelope Mean",
           "sample_id": 0,
           "timepoint": 55,
           "trajectory": "Envelope_Mean",
           "value": 3.4200103966384123
          },
          {
           "color_by": "Envelope Mean",
           "sample_id": 0,
           "timepoint": 56,
           "trajectory": "Envelope_Mean",
           "value": 3.21940115408522
          },
          {
           "color_by": "Envelope Mean",
           "sample_id": 0,
           "timepoint": 57,
           "trajectory": "Envelope_Mean",
           "value": 3.0411840288446603
          },
          {
           "color_by": "Envelope Mean",
           "sample_id": 0,
           "timepoint": 58,
           "trajectory": "Envelope_Mean",
           "value": 2.914093491121852
          },
          {
           "color_by": "Envelope Mean",
           "sample_id": 0,
           "timepoint": 59,
           "trajectory": "Envelope_Mean",
           "value": 2.874769528444679
          },
          {
           "color_by": "Envelope Mean",
           "sample_id": 0,
           "timepoint": 60,
           "trajectory": "Envelope_Mean",
           "value": 2.9177149651665992
          },
          {
           "color_by": "Envelope Mean",
           "sample_id": 0,
           "timepoint": 61,
           "trajectory": "Envelope_Mean",
           "value": 3.0095734575622153
          },
          {
           "color_by": "Envelope Mean",
           "sample_id": 0,
           "timepoint": 62,
           "trajectory": "Envelope_Mean",
           "value": 3.1813549138258406
          },
          {
           "color_by": "Envelope Mean",
           "sample_id": 0,
           "timepoint": 63,
           "trajectory": "Envelope_Mean",
           "value": 3.372092164707527
          },
          {
           "color_by": "Envelope Mean",
           "sample_id": 0,
           "timepoint": 64,
           "trajectory": "Envelope_Mean",
           "value": 3.5738199494279046
          },
          {
           "color_by": "Envelope Mean",
           "sample_id": 0,
           "timepoint": 65,
           "trajectory": "Envelope_Mean",
           "value": 3.793326860643459
          },
          {
           "color_by": "Envelope Mean",
           "sample_id": 0,
           "timepoint": 66,
           "trajectory": "Envelope_Mean",
           "value": 4.017651444376075
          },
          {
           "color_by": "Envelope Mean",
           "sample_id": 0,
           "timepoint": 67,
           "trajectory": "Envelope_Mean",
           "value": 4.234380444500871
          },
          {
           "color_by": "Envelope Mean",
           "sample_id": 0,
           "timepoint": 68,
           "trajectory": "Envelope_Mean",
           "value": 4.4322447024091325
          },
          {
           "color_by": "Envelope Mean",
           "sample_id": 0,
           "timepoint": 69,
           "trajectory": "Envelope_Mean",
           "value": 4.597811226604174
          },
          {
           "color_by": "Envelope Mean",
           "sample_id": 0,
           "timepoint": 70,
           "trajectory": "Envelope_Mean",
           "value": 4.743102625066481
          },
          {
           "color_by": "Envelope Mean",
           "sample_id": 0,
           "timepoint": 71,
           "trajectory": "Envelope_Mean",
           "value": 4.751352404780771
          },
          {
           "color_by": "Envelope Mean",
           "sample_id": 0,
           "timepoint": 72,
           "trajectory": "Envelope_Mean",
           "value": 4.756377257921502
          },
          {
           "color_by": "Envelope Mean",
           "sample_id": 0,
           "timepoint": 73,
           "trajectory": "Envelope_Mean",
           "value": 4.780787339651754
          },
          {
           "color_by": "Envelope Mean",
           "sample_id": 0,
           "timepoint": 74,
           "trajectory": "Envelope_Mean",
           "value": 4.760966796273966
          },
          {
           "color_by": "Envelope Mean",
           "sample_id": 0,
           "timepoint": 75,
           "trajectory": "Envelope_Mean",
           "value": 4.67427293737181
          },
          {
           "color_by": "Envelope Mean",
           "sample_id": 0,
           "timepoint": 76,
           "trajectory": "Envelope_Mean",
           "value": 4.528520002787622
          },
          {
           "color_by": "Envelope Mean",
           "sample_id": 0,
           "timepoint": 77,
           "trajectory": "Envelope_Mean",
           "value": 4.333793030334457
          },
          {
           "color_by": "Envelope Mean",
           "sample_id": 0,
           "timepoint": 78,
           "trajectory": "Envelope_Mean",
           "value": 4.1263151366609865
          },
          {
           "color_by": "Envelope Mean",
           "sample_id": 0,
           "timepoint": 79,
           "trajectory": "Envelope_Mean",
           "value": 3.9188060763651125
          },
          {
           "color_by": "Envelope Mean",
           "sample_id": 0,
           "timepoint": 80,
           "trajectory": "Envelope_Mean",
           "value": 3.7150324139235327
          },
          {
           "color_by": "Envelope Mean",
           "sample_id": 0,
           "timepoint": 81,
           "trajectory": "Envelope_Mean",
           "value": 3.511608627877021
          },
          {
           "color_by": "Envelope Mean",
           "sample_id": 0,
           "timepoint": 82,
           "trajectory": "Envelope_Mean",
           "value": 3.3258222676792095
          },
          {
           "color_by": "Envelope Mean",
           "sample_id": 0,
           "timepoint": 83,
           "trajectory": "Envelope_Mean",
           "value": 3.186210741295453
          },
          {
           "color_by": "Envelope Mean",
           "sample_id": 0,
           "timepoint": 84,
           "trajectory": "Envelope_Mean",
           "value": 3.1351359754711314
          },
          {
           "color_by": "Envelope Mean",
           "sample_id": 0,
           "timepoint": 85,
           "trajectory": "Envelope_Mean",
           "value": 3.1699518282946553
          },
          {
           "color_by": "Envelope Mean",
           "sample_id": 0,
           "timepoint": 86,
           "trajectory": "Envelope_Mean",
           "value": 3.244305127576555
          },
          {
           "color_by": "Envelope Mean",
           "sample_id": 0,
           "timepoint": 87,
           "trajectory": "Envelope_Mean",
           "value": 3.4032357562385784
          },
          {
           "color_by": "Envelope Mean",
           "sample_id": 0,
           "timepoint": 88,
           "trajectory": "Envelope_Mean",
           "value": 3.5942891875629606
          },
          {
           "color_by": "Envelope Mean",
           "sample_id": 0,
           "timepoint": 89,
           "trajectory": "Envelope_Mean",
           "value": 3.790266077448428
          },
          {
           "color_by": "Envelope Mean",
           "sample_id": 0,
           "timepoint": 90,
           "trajectory": "Envelope_Mean",
           "value": 4.005733067284394
          },
          {
           "color_by": "Envelope Mean",
           "sample_id": 0,
           "timepoint": 91,
           "trajectory": "Envelope_Mean",
           "value": 4.2278290573204576
          },
          {
           "color_by": "Envelope Mean",
           "sample_id": 0,
           "timepoint": 92,
           "trajectory": "Envelope_Mean",
           "value": 4.443745036471284
          },
          {
           "color_by": "Envelope Mean",
           "sample_id": 0,
           "timepoint": 93,
           "trajectory": "Envelope_Mean",
           "value": 4.642806976511335
          },
          {
           "color_by": "Envelope Mean",
           "sample_id": 0,
           "timepoint": 94,
           "trajectory": "Envelope_Mean",
           "value": 4.8110651871245675
          },
          {
           "color_by": "Envelope Mean",
           "sample_id": 0,
           "timepoint": 95,
           "trajectory": "Envelope_Mean",
           "value": 4.959975803938966
          },
          {
           "color_by": "Envelope Mean",
           "sample_id": 0,
           "timepoint": 96,
           "trajectory": "Envelope_Mean",
           "value": 4.985749680950489
          },
          {
           "color_by": "Envelope Mean",
           "sample_id": 0,
           "timepoint": 97,
           "trajectory": "Envelope_Mean",
           "value": 4.982697102787945
          },
          {
           "color_by": "Envelope Mean",
           "sample_id": 0,
           "timepoint": 98,
           "trajectory": "Envelope_Mean",
           "value": 5.002342790017387
          },
          {
           "color_by": "Envelope Mean",
           "sample_id": 0,
           "timepoint": 99,
           "trajectory": "Envelope_Mean",
           "value": 4.990453829664055
          },
          {
           "color_by": "Chaos",
           "sample_id": 0,
           "timepoint": 0,
           "trajectory": "Chaos",
           "value": 0.6608511343983925
          },
          {
           "color_by": "Chaos",
           "sample_id": 0,
           "timepoint": 1,
           "trajectory": "Chaos",
           "value": 1.4124532522201827
          },
          {
           "color_by": "Chaos",
           "sample_id": 0,
           "timepoint": 2,
           "trajectory": "Chaos",
           "value": 1.3663689427630277
          },
          {
           "color_by": "Chaos",
           "sample_id": 0,
           "timepoint": 3,
           "trajectory": "Chaos",
           "value": 1.285680155128677
          },
          {
           "color_by": "Chaos",
           "sample_id": 0,
           "timepoint": 4,
           "trajectory": "Chaos",
           "value": 1.2169045650909065
          },
          {
           "color_by": "Chaos",
           "sample_id": 0,
           "timepoint": 5,
           "trajectory": "Chaos",
           "value": 1.1821431655375885
          },
          {
           "color_by": "Chaos",
           "sample_id": 0,
           "timepoint": 6,
           "trajectory": "Chaos",
           "value": 1.194206757441195
          },
          {
           "color_by": "Chaos",
           "sample_id": 0,
           "timepoint": 7,
           "trajectory": "Chaos",
           "value": 1.2598367220674764
          },
          {
           "color_by": "Chaos",
           "sample_id": 0,
           "timepoint": 8,
           "trajectory": "Chaos",
           "value": 1.38074388408809
          },
          {
           "color_by": "Chaos",
           "sample_id": 0,
           "timepoint": 9,
           "trajectory": "Chaos",
           "value": 1.5541613229985085
          },
          {
           "color_by": "Chaos",
           "sample_id": 0,
           "timepoint": 10,
           "trajectory": "Chaos",
           "value": 1.7733604971309151
          },
          {
           "color_by": "Chaos",
           "sample_id": 0,
           "timepoint": 11,
           "trajectory": "Chaos",
           "value": 2.028268583028999
          },
          {
           "color_by": "Chaos",
           "sample_id": 0,
           "timepoint": 12,
           "trajectory": "Chaos",
           "value": 2.30621903600655
          },
          {
           "color_by": "Chaos",
           "sample_id": 0,
           "timepoint": 13,
           "trajectory": "Chaos",
           "value": 2.592821540772692
          },
          {
           "color_by": "Chaos",
           "sample_id": 0,
           "timepoint": 14,
           "trajectory": "Chaos",
           "value": 2.8729140433058875
          },
          {
           "color_by": "Chaos",
           "sample_id": 0,
           "timepoint": 15,
           "trajectory": "Chaos",
           "value": 3.1315468912679627
          },
          {
           "color_by": "Chaos",
           "sample_id": 0,
           "timepoint": 16,
           "trajectory": "Chaos",
           "value": 3.3549432678814224
          },
          {
           "color_by": "Chaos",
           "sample_id": 0,
           "timepoint": 17,
           "trajectory": "Chaos",
           "value": 3.5313794940499683
          },
          {
           "color_by": "Chaos",
           "sample_id": 0,
           "timepoint": 18,
           "trajectory": "Chaos",
           "value": 3.651932565121947
          },
          {
           "color_by": "Chaos",
           "sample_id": 0,
           "timepoint": 19,
           "trajectory": "Chaos",
           "value": 3.7110498320717458
          },
          {
           "color_by": "Chaos",
           "sample_id": 0,
           "timepoint": 20,
           "trajectory": "Chaos",
           "value": 3.706906353371715
          },
          {
           "color_by": "Chaos",
           "sample_id": 0,
           "timepoint": 21,
           "trajectory": "Chaos",
           "value": 3.6415283618128553
          },
          {
           "color_by": "Chaos",
           "sample_id": 0,
           "timepoint": 22,
           "trajectory": "Chaos",
           "value": 3.5206756448208028
          },
          {
           "color_by": "Chaos",
           "sample_id": 0,
           "timepoint": 23,
           "trajectory": "Chaos",
           "value": 3.353490499117167
          },
          {
           "color_by": "Chaos",
           "sample_id": 0,
           "timepoint": 24,
           "trajectory": "Chaos",
           "value": 3.151935345443877
          },
          {
           "color_by": "Chaos",
           "sample_id": 0,
           "timepoint": 25,
           "trajectory": "Chaos",
           "value": 2.9300541664719013
          },
          {
           "color_by": "Chaos",
           "sample_id": 0,
           "timepoint": 26,
           "trajectory": "Chaos",
           "value": 2.703103839547932
          },
          {
           "color_by": "Chaos",
           "sample_id": 0,
           "timepoint": 27,
           "trajectory": "Chaos",
           "value": 2.4866094919678785
          },
          {
           "color_by": "Chaos",
           "sample_id": 0,
           "timepoint": 28,
           "trajectory": "Chaos",
           "value": 2.2954027055544506
          },
          {
           "color_by": "Chaos",
           "sample_id": 0,
           "timepoint": 29,
           "trajectory": "Chaos",
           "value": 2.1427024448850975
          },
          {
           "color_by": "Chaos",
           "sample_id": 0,
           "timepoint": 30,
           "trajectory": "Chaos",
           "value": 2.03929591277892
          },
          {
           "color_by": "Chaos",
           "sample_id": 0,
           "timepoint": 31,
           "trajectory": "Chaos",
           "value": 1.9928703125044598
          },
          {
           "color_by": "Chaos",
           "sample_id": 0,
           "timepoint": 32,
           "trajectory": "Chaos",
           "value": 2.0075371047809596
          },
          {
           "color_by": "Chaos",
           "sample_id": 0,
           "timepoint": 33,
           "trajectory": "Chaos",
           "value": 2.0835783723343884
          },
          {
           "color_by": "Chaos",
           "sample_id": 0,
           "timepoint": 34,
           "trajectory": "Chaos",
           "value": 2.2174310896722007
          },
          {
           "color_by": "Chaos",
           "sample_id": 0,
           "timepoint": 35,
           "trajectory": "Chaos",
           "value": 2.401910299495361
          },
          {
           "color_by": "Chaos",
           "sample_id": 0,
           "timepoint": 36,
           "trajectory": "Chaos",
           "value": 2.626657339494111
          },
          {
           "color_by": "Chaos",
           "sample_id": 0,
           "timepoint": 37,
           "trajectory": "Chaos",
           "value": 2.8787852677743
          },
          {
           "color_by": "Chaos",
           "sample_id": 0,
           "timepoint": 38,
           "trajectory": "Chaos",
           "value": 3.143681371869751
          },
          {
           "color_by": "Chaos",
           "sample_id": 0,
           "timepoint": 39,
           "trajectory": "Chaos",
           "value": 3.4059168775803967
          },
          {
           "color_by": "Chaos",
           "sample_id": 0,
           "timepoint": 40,
           "trajectory": "Chaos",
           "value": 3.650207307025669
          },
          {
           "color_by": "Chaos",
           "sample_id": 0,
           "timepoint": 41,
           "trajectory": "Chaos",
           "value": 3.8623637847669574
          },
          {
           "color_by": "Chaos",
           "sample_id": 0,
           "timepoint": 42,
           "trajectory": "Chaos",
           "value": 4.030176152466627
          },
          {
           "color_by": "Chaos",
           "sample_id": 0,
           "timepoint": 43,
           "trajectory": "Chaos",
           "value": 4.144172991356104
          },
          {
           "color_by": "Chaos",
           "sample_id": 0,
           "timepoint": 44,
           "trajectory": "Chaos",
           "value": 4.198211304201619
          },
          {
           "color_by": "Chaos",
           "sample_id": 0,
           "timepoint": 45,
           "trajectory": "Chaos",
           "value": 4.189859198667797
          },
          {
           "color_by": "Chaos",
           "sample_id": 0,
           "timepoint": 46,
           "trajectory": "Chaos",
           "value": 4.120547783517611
          },
          {
           "color_by": "Chaos",
           "sample_id": 0,
           "timepoint": 47,
           "trajectory": "Chaos",
           "value": 3.9954828377699023
          },
          {
           "color_by": "Chaos",
           "sample_id": 0,
           "timepoint": 48,
           "trajectory": "Chaos",
           "value": 3.8233217486174835
          },
          {
           "color_by": "Chaos",
           "sample_id": 0,
           "timepoint": 49,
           "trajectory": "Chaos",
           "value": 3.6156358079499977
          },
          {
           "color_by": "Chaos",
           "sample_id": 0,
           "timepoint": 50,
           "trajectory": "Chaos",
           "value": 3.3861913023302166
          },
          {
           "color_by": "Chaos",
           "sample_id": 0,
           "timepoint": 51,
           "trajectory": "Chaos",
           "value": 3.1500940975047342
          },
          {
           "color_by": "Chaos",
           "sample_id": 0,
           "timepoint": 52,
           "trajectory": "Chaos",
           "value": 2.922850905503872
          },
          {
           "color_by": "Chaos",
           "sample_id": 0,
           "timepoint": 53,
           "trajectory": "Chaos",
           "value": 2.7194056024167788
          },
          {
           "color_by": "Chaos",
           "sample_id": 0,
           "timepoint": 54,
           "trajectory": "Chaos",
           "value": 2.553210515942256
          },
          {
           "color_by": "Chaos",
           "sample_id": 0,
           "timepoint": 55,
           "trajectory": "Chaos",
           "value": 2.435390427375487
          },
          {
           "color_by": "Chaos",
           "sample_id": 0,
           "timepoint": 56,
           "trajectory": "Chaos",
           "value": 2.374051267988483
          },
          {
           "color_by": "Chaos",
           "sample_id": 0,
           "timepoint": 57,
           "trajectory": "Chaos",
           "value": 2.3737764932160994
          },
          {
           "color_by": "Chaos",
           "sample_id": 0,
           "timepoint": 58,
           "trajectory": "Chaos",
           "value": 2.435342449029365
          },
          {
           "color_by": "Chaos",
           "sample_id": 0,
           "timepoint": 59,
           "trajectory": "Chaos",
           "value": 2.5556704288852528
          },
          {
           "color_by": "Chaos",
           "sample_id": 0,
           "timepoint": 60,
           "trajectory": "Chaos",
           "value": 2.728018403261669
          },
          {
           "color_by": "Chaos",
           "sample_id": 0,
           "timepoint": 61,
           "trajectory": "Chaos",
           "value": 2.942400502010149
          },
          {
           "color_by": "Chaos",
           "sample_id": 0,
           "timepoint": 62,
           "trajectory": "Chaos",
           "value": 3.1862081691054334
          },
          {
           "color_by": "Chaos",
           "sample_id": 0,
           "timepoint": 63,
           "trajectory": "Chaos",
           "value": 3.4449943702805843
          },
          {
           "color_by": "Chaos",
           "sample_id": 0,
           "timepoint": 64,
           "trajectory": "Chaos",
           "value": 3.7033720961273877
          },
          {
           "color_by": "Chaos",
           "sample_id": 0,
           "timepoint": 65,
           "trajectory": "Chaos",
           "value": 3.945971296839886
          },
          {
           "color_by": "Chaos",
           "sample_id": 0,
           "timepoint": 66,
           "trajectory": "Chaos",
           "value": 4.15839475172473
          },
          {
           "color_by": "Chaos",
           "sample_id": 0,
           "timepoint": 67,
           "trajectory": "Chaos",
           "value": 4.328113442780828
          },
          {
           "color_by": "Chaos",
           "sample_id": 0,
           "timepoint": 68,
           "trajectory": "Chaos",
           "value": 4.445245762947208
          },
          {
           "color_by": "Chaos",
           "sample_id": 0,
           "timepoint": 69,
           "trajectory": "Chaos",
           "value": 4.503172112172389
          },
          {
           "color_by": "Chaos",
           "sample_id": 0,
           "timepoint": 70,
           "trajectory": "Chaos",
           "value": 4.498946669207029
          },
          {
           "color_by": "Chaos",
           "sample_id": 0,
           "timepoint": 71,
           "trajectory": "Chaos",
           "value": 4.433480737616711
          },
          {
           "color_by": "Chaos",
           "sample_id": 0,
           "timepoint": 72,
           "trajectory": "Chaos",
           "value": 4.311486266887287
          },
          {
           "color_by": "Chaos",
           "sample_id": 0,
           "timepoint": 73,
           "trajectory": "Chaos",
           "value": 4.141183060616162
          },
          {
           "color_by": "Chaos",
           "sample_id": 0,
           "timepoint": 74,
           "trajectory": "Chaos",
           "value": 3.933787876547531
          },
          {
           "color_by": "Chaos",
           "sample_id": 0,
           "timepoint": 75,
           "trajectory": "Chaos",
           "value": 3.7028171840928663
          },
          {
           "color_by": "Chaos",
           "sample_id": 0,
           "timepoint": 76,
           "trajectory": "Chaos",
           "value": 3.4632469308294627
          },
          {
           "color_by": "Chaos",
           "sample_id": 0,
           "timepoint": 77,
           "trajectory": "Chaos",
           "value": 3.2305815599375176
          },
          {
           "color_by": "Chaos",
           "sample_id": 0,
           "timepoint": 78,
           "trajectory": "Chaos",
           "value": 3.019890162853282
          },
          {
           "color_by": "Chaos",
           "sample_id": 0,
           "timepoint": 79,
           "trajectory": "Chaos",
           "value": 2.844869694770618
          },
          {
           "color_by": "Chaos",
           "sample_id": 0,
           "timepoint": 80,
           "trajectory": "Chaos",
           "value": 2.716993497969399
          },
          {
           "color_by": "Chaos",
           "sample_id": 0,
           "timepoint": 81,
           "trajectory": "Chaos",
           "value": 2.6447980739059904
          },
          {
           "color_by": "Chaos",
           "sample_id": 0,
           "timepoint": 82,
           "trajectory": "Chaos",
           "value": 2.633352449348063
          },
          {
           "color_by": "Chaos",
           "sample_id": 0,
           "timepoint": 83,
           "trajectory": "Chaos",
           "value": 2.6839431290091564
          },
          {
           "color_by": "Chaos",
           "sample_id": 0,
           "timepoint": 84,
           "trajectory": "Chaos",
           "value": 2.7939942230015316
          },
          {
           "color_by": "Chaos",
           "sample_id": 0,
           "timepoint": 85,
           "trajectory": "Chaos",
           "value": 2.957227715383043
          },
          {
           "color_by": "Chaos",
           "sample_id": 0,
           "timepoint": 86,
           "trajectory": "Chaos",
           "value": 3.16405390925281
          },
          {
           "color_by": "Chaos",
           "sample_id": 0,
           "timepoint": 87,
           "trajectory": "Chaos",
           "value": 3.402167772577414
          },
          {
           "color_by": "Chaos",
           "sample_id": 0,
           "timepoint": 88,
           "trajectory": "Chaos",
           "value": 3.6573141070098423
          },
          {
           "color_by": "Chaos",
           "sample_id": 0,
           "timepoint": 89,
           "trajectory": "Chaos",
           "value": 3.914173965358583
          },
          {
           "color_by": "Chaos",
           "sample_id": 0,
           "timepoint": 90,
           "trajectory": "Chaos",
           "value": 4.157317204702338
          },
          {
           "color_by": "Chaos",
           "sample_id": 0,
           "timepoint": 91,
           "trajectory": "Chaos",
           "value": 4.372161950144045
          },
          {
           "color_by": "Chaos",
           "sample_id": 0,
           "timepoint": 92,
           "trajectory": "Chaos",
           "value": 4.545881314520727
          },
          {
           "color_by": "Chaos",
           "sample_id": 0,
           "timepoint": 93,
           "trajectory": "Chaos",
           "value": 4.668200998748138
          },
          {
           "color_by": "Chaos",
           "sample_id": 0,
           "timepoint": 94,
           "trajectory": "Chaos",
           "value": 4.73203818198666
          },
          {
           "color_by": "Chaos",
           "sample_id": 0,
           "timepoint": 95,
           "trajectory": "Chaos",
           "value": 4.733941978639153
          },
          {
           "color_by": "Chaos",
           "sample_id": 0,
           "timepoint": 96,
           "trajectory": "Chaos",
           "value": 4.674308076799357
          },
          {
           "color_by": "Chaos",
           "sample_id": 0,
           "timepoint": 97,
           "trajectory": "Chaos",
           "value": 4.557354213067909
          },
          {
           "color_by": "Chaos",
           "sample_id": 0,
           "timepoint": 98,
           "trajectory": "Chaos",
           "value": 4.390858008684509
          },
          {
           "color_by": "Chaos",
           "sample_id": 0,
           "timepoint": 99,
           "trajectory": "Chaos",
           "value": 4.18567346714263
          },
          {
           "color_by": "Mean",
           "sample_id": 0,
           "timepoint": 0,
           "trajectory": "Mean",
           "value": 1.8525862261774488
          },
          {
           "color_by": "Mean",
           "sample_id": 0,
           "timepoint": 1,
           "trajectory": "Mean",
           "value": 2.653646453959376
          },
          {
           "color_by": "Mean",
           "sample_id": 0,
           "timepoint": 2,
           "trajectory": "Mean",
           "value": 2.612906926068173
          },
          {
           "color_by": "Mean",
           "sample_id": 0,
           "timepoint": 3,
           "trajectory": "Mean",
           "value": 2.4931172789748475
          },
          {
           "color_by": "Mean",
           "sample_id": 0,
           "timepoint": 4,
           "trajectory": "Mean",
           "value": 2.3432262905124
          },
          {
           "color_by": "Mean",
           "sample_id": 0,
           "timepoint": 5,
           "trajectory": "Mean",
           "value": 2.1903783161667008
          },
          {
           "color_by": "Mean",
           "sample_id": 0,
           "timepoint": 6,
           "trajectory": "Mean",
           "value": 2.054726208187782
          },
          {
           "color_by": "Mean",
           "sample_id": 0,
           "timepoint": 7,
           "trajectory": "Mean",
           "value": 1.952195594610724
          },
          {
           "color_by": "Mean",
           "sample_id": 0,
           "timepoint": 8,
           "trajectory": "Mean",
           "value": 1.8949527103873431
          },
          {
           "color_by": "Mean",
           "sample_id": 0,
           "timepoint": 9,
           "trajectory": "Mean",
           "value": 1.8913071420328367
          },
          {
           "color_by": "Mean",
           "sample_id": 0,
           "timepoint": 10,
           "trajectory": "Mean",
           "value": 1.945539268080382
          },
          {
           "color_by": "Mean",
           "sample_id": 0,
           "timepoint": 11,
           "trajectory": "Mean",
           "value": 2.0578331171186726
          },
          {
           "color_by": "Mean",
           "sample_id": 0,
           "timepoint": 12,
           "trajectory": "Mean",
           "value": 2.2243892069686084
          },
          {
           "color_by": "Mean",
           "sample_id": 0,
           "timepoint": 13,
           "trajectory": "Mean",
           "value": 2.437743184308759
          },
          {
           "color_by": "Mean",
           "sample_id": 0,
           "timepoint": 14,
           "trajectory": "Mean",
           "value": 2.6872872337794584
          },
          {
           "color_by": "Mean",
           "sample_id": 0,
           "timepoint": 15,
           "trajectory": "Mean",
           "value": 2.9599710578949305
          },
          {
           "color_by": "Mean",
           "sample_id": 0,
           "timepoint": 16,
           "trajectory": "Mean",
           "value": 3.2411442182352586
          },
          {
           "color_by": "Mean",
           "sample_id": 0,
           "timepoint": 17,
           "trajectory": "Mean",
           "value": 3.5154907551293118
          },
          {
           "color_by": "Mean",
           "sample_id": 0,
           "timepoint": 18,
           "trajectory": "Mean",
           "value": 3.768000075025409
          },
          {
           "color_by": "Mean",
           "sample_id": 0,
           "timepoint": 19,
           "trajectory": "Mean",
           "value": 3.984915128465758
          },
          {
           "color_by": "Mean",
           "sample_id": 0,
           "timepoint": 20,
           "trajectory": "Mean",
           "value": 4.154599871839887
          },
          {
           "color_by": "Mean",
           "sample_id": 0,
           "timepoint": 21,
           "trajectory": "Mean",
           "value": 4.268272741013533
          },
          {
           "color_by": "Mean",
           "sample_id": 0,
           "timepoint": 22,
           "trajectory": "Mean",
           "value": 4.32056100811074
          },
          {
           "color_by": "Mean",
           "sample_id": 0,
           "timepoint": 23,
           "trajectory": "Mean",
           "value": 4.3098419020571725
          },
          {
           "color_by": "Mean",
           "sample_id": 0,
           "timepoint": 24,
           "trajectory": "Mean",
           "value": 4.238349543080268
          },
          {
           "color_by": "Mean",
           "sample_id": 0,
           "timepoint": 25,
           "trajectory": "Mean",
           "value": 4.112041239225682
          },
          {
           "color_by": "Mean",
           "sample_id": 0,
           "timepoint": 26,
           "trajectory": "Mean",
           "value": 3.9402316093650054
          },
          {
           "color_by": "Mean",
           "sample_id": 0,
           "timepoint": 27,
           "trajectory": "Mean",
           "value": 3.735017399320377
          },
          {
           "color_by": "Mean",
           "sample_id": 0,
           "timepoint": 28,
           "trajectory": "Mean",
           "value": 3.5105288465970137
          },
          {
           "color_by": "Mean",
           "sample_id": 0,
           "timepoint": 29,
           "trajectory": "Mean",
           "value": 3.2820542148039
          },
          {
           "color_by": "Mean",
           "sample_id": 0,
           "timepoint": 30,
           "trajectory": "Mean",
           "value": 3.0650919901494103
          },
          {
           "color_by": "Mean",
           "sample_id": 0,
           "timepoint": 31,
           "trajectory": "Mean",
           "value": 2.8743897188666816
          },
          {
           "color_by": "Mean",
           "sample_id": 0,
           "timepoint": 32,
           "trajectory": "Mean",
           "value": 2.7230292862855503
          },
          {
           "color_by": "Mean",
           "sample_id": 0,
           "timepoint": 33,
           "trajectory": "Mean",
           "value": 2.6216155438338378
          },
          {
           "color_by": "Mean",
           "sample_id": 0,
           "timepoint": 34,
           "trajectory": "Mean",
           "value": 2.5776187590517448
          },
          {
           "color_by": "Mean",
           "sample_id": 0,
           "timepoint": 35,
           "trajectory": "Mean",
           "value": 2.5949117952819862
          },
          {
           "color_by": "Mean",
           "sample_id": 0,
           "timepoint": 36,
           "trajectory": "Mean",
           "value": 2.6735308167357403
          },
          {
           "color_by": "Mean",
           "sample_id": 0,
           "timepoint": 37,
           "trajectory": "Mean",
           "value": 2.8096744139524263
          },
          {
           "color_by": "Mean",
           "sample_id": 0,
           "timepoint": 38,
           "trajectory": "Mean",
           "value": 2.9959412184104175
          },
          {
           "color_by": "Mean",
           "sample_id": 0,
           "timepoint": 39,
           "trajectory": "Mean",
           "value": 3.2217912449262815
          },
          {
           "color_by": "Mean",
           "sample_id": 0,
           "timepoint": 40,
           "trajectory": "Mean",
           "value": 3.4742022884855777
          },
          {
           "color_by": "Mean",
           "sample_id": 0,
           "timepoint": 41,
           "trajectory": "Mean",
           "value": 3.7384805731956385
          },
          {
           "color_by": "Mean",
           "sample_id": 0,
           "timepoint": 42,
           "trajectory": "Mean",
           "value": 3.999175259209382
          },
          {
           "color_by": "Mean",
           "sample_id": 0,
           "timepoint": 43,
           "trajectory": "Mean",
           "value": 4.241039955073662
          },
          {
           "color_by": "Mean",
           "sample_id": 0,
           "timepoint": 44,
           "trajectory": "Mean",
           "value": 4.449981459525917
          },
          {
           "color_by": "Mean",
           "sample_id": 0,
           "timepoint": 45,
           "trajectory": "Mean",
           "value": 4.613936750038082
          },
          {
           "color_by": "Mean",
           "sample_id": 0,
           "timepoint": 46,
           "trajectory": "Mean",
           "value": 4.7236236960443
          },
          {
           "color_by": "Mean",
           "sample_id": 0,
           "timepoint": 47,
           "trajectory": "Mean",
           "value": 4.7731188254311805
          },
          {
           "color_by": "Mean",
           "sample_id": 0,
           "timepoint": 48,
           "trajectory": "Mean",
           "value": 4.760226225387651
          },
          {
           "color_by": "Mean",
           "sample_id": 0,
           "timepoint": 49,
           "trajectory": "Mean",
           "value": 4.686614644554956
          },
          {
           "color_by": "Mean",
           "sample_id": 0,
           "timepoint": 50,
           "trajectory": "Mean",
           "value": 4.557714275179947
          },
          {
           "color_by": "Mean",
           "sample_id": 0,
           "timepoint": 51,
           "trajectory": "Mean",
           "value": 4.38237963559513
          },
          {
           "color_by": "Mean",
           "sample_id": 0,
           "timepoint": 52,
           "trajectory": "Mean",
           "value": 4.172339515822862
          },
          {
           "color_by": "Mean",
           "sample_id": 0,
           "timepoint": 53,
           "trajectory": "Mean",
           "value": 3.941468188242846
          },
          {
           "color_by": "Mean",
           "sample_id": 0,
           "timepoint": 54,
           "trajectory": "Mean",
           "value": 3.7049231979210613
          },
          {
           "color_by": "Mean",
           "sample_id": 0,
           "timepoint": 55,
           "trajectory": "Mean",
           "value": 3.4782033424396923
          },
          {
           "color_by": "Mean",
           "sample_id": 0,
           "timepoint": 56,
           "trajectory": "Mean",
           "value": 3.276185413130051
          },
          {
           "color_by": "Mean",
           "sample_id": 0,
           "timepoint": 57,
           "trajectory": "Mean",
           "value": 3.1121995899742325
          },
          {
           "color_by": "Mean",
           "sample_id": 0,
           "timepoint": 58,
           "trajectory": "Mean",
           "value": 2.9972009790101706
          },
          {
           "color_by": "Mean",
           "sample_id": 0,
           "timepoint": 59,
           "trajectory": "Mean",
           "value": 2.9390888032804705
          },
          {
           "color_by": "Mean",
           "sample_id": 0,
           "timepoint": 60,
           "trajectory": "Mean",
           "value": 2.942215577876503
          },
          {
           "color_by": "Mean",
           "sample_id": 0,
           "timepoint": 61,
           "trajectory": "Mean",
           "value": 3.007116787242585
          },
          {
           "color_by": "Mean",
           "sample_id": 0,
           "timepoint": 62,
           "trajectory": "Mean",
           "value": 3.130477873056333
          },
          {
           "color_by": "Mean",
           "sample_id": 0,
           "timepoint": 63,
           "trajectory": "Mean",
           "value": 3.3053405861013587
          },
          {
           "color_by": "Mean",
           "sample_id": 0,
           "timepoint": 64,
           "trajectory": "Mean",
           "value": 3.52153587298457
          },
          {
           "color_by": "Mean",
           "sample_id": 0,
           "timepoint": 65,
           "trajectory": "Mean",
           "value": 3.7663163836474434
          },
          {
           "color_by": "Mean",
           "sample_id": 0,
           "timepoint": 66,
           "trajectory": "Mean",
           "value": 4.025149274108918
          },
          {
           "color_by": "Mean",
           "sample_id": 0,
           "timepoint": 67,
           "trajectory": "Mean",
           "value": 4.282620012444195
          },
          {
           "color_by": "Mean",
           "sample_id": 0,
           "timepoint": 68,
           "trajectory": "Mean",
           "value": 4.523390994312619
          },
          {
           "color_by": "Mean",
           "sample_id": 0,
           "timepoint": 69,
           "trajectory": "Mean",
           "value": 4.733155366512198
          },
          {
           "color_by": "Mean",
           "sample_id": 0,
           "timepoint": 70,
           "trajectory": "Mean",
           "value": 4.89952675494056
          },
          {
           "color_by": "Mean",
           "sample_id": 0,
           "timepoint": 71,
           "trajectory": "Mean",
           "value": 5.012809578459548
          },
          {
           "color_by": "Mean",
           "sample_id": 0,
           "timepoint": 72,
           "trajectory": "Mean",
           "value": 5.066602054717845
          },
          {
           "color_by": "Mean",
           "sample_id": 0,
           "timepoint": 73,
           "trajectory": "Mean",
           "value": 5.0581944063594
          },
          {
           "color_by": "Mean",
           "sample_id": 0,
           "timepoint": 74,
           "trajectory": "Mean",
           "value": 4.988737509465791
          },
          {
           "color_by": "Mean",
           "sample_id": 0,
           "timepoint": 75,
           "trajectory": "Mean",
           "value": 4.8631714988451815
          },
          {
           "color_by": "Mean",
           "sample_id": 0,
           "timepoint": 76,
           "trajectory": "Mean",
           "value": 4.689918769477707
          },
          {
           "color_by": "Mean",
           "sample_id": 0,
           "timepoint": 77,
           "trajectory": "Mean",
           "value": 4.480360462111423
          },
          {
           "color_by": "Mean",
           "sample_id": 0,
           "timepoint": 78,
           "trajectory": "Mean",
           "value": 4.2481289828897975
          },
          {
           "color_by": "Mean",
           "sample_id": 0,
           "timepoint": 79,
           "trajectory": "Mean",
           "value": 4.008260544986303
          },
          {
           "color_by": "Mean",
           "sample_id": 0,
           "timepoint": 80,
           "trajectory": "Mean",
           "value": 3.7762604233582344
          },
          {
           "color_by": "Mean",
           "sample_id": 0,
           "timepoint": 81,
           "trajectory": "Mean",
           "value": 3.567139040791658
          },
          {
           "color_by": "Mean",
           "sample_id": 0,
           "timepoint": 82,
           "trajectory": "Mean",
           "value": 3.394478816963868
          },
          {
           "color_by": "Mean",
           "sample_id": 0,
           "timepoint": 83,
           "trajectory": "Mean",
           "value": 3.269589799540781
          },
          {
           "color_by": "Mean",
           "sample_id": 0,
           "timepoint": 84,
           "trajectory": "Mean",
           "value": 3.200806576277252
          },
          {
           "color_by": "Mean",
           "sample_id": 0,
           "timepoint": 85,
           "trajectory": "Mean",
           "value": 3.19297018290817
          },
          {
           "color_by": "Mean",
           "sample_id": 0,
           "timepoint": 86,
           "trajectory": "Mean",
           "value": 3.247127219465096
          },
          {
           "color_by": "Mean",
           "sample_id": 0,
           "timepoint": 87,
           "trajectory": "Mean",
           "value": 3.36046488267528
          },
          {
           "color_by": "Mean",
           "sample_id": 0,
           "timepoint": 88,
           "trajectory": "Mean",
           "value": 3.5264859539711186
          },
          {
           "color_by": "Mean",
           "sample_id": 0,
           "timepoint": 89,
           "trajectory": "Mean",
           "value": 3.735412863351737
          },
          {
           "color_by": "Mean",
           "sample_id": 0,
           "timepoint": 90,
           "trajectory": "Mean",
           "value": 3.9747957065032073
          },
          {
           "color_by": "Mean",
           "sample_id": 0,
           "timepoint": 91,
           "trajectory": "Mean",
           "value": 4.230286411750525
          },
          {
           "color_by": "Mean",
           "sample_id": 0,
           "timepoint": 92,
           "trajectory": "Mean",
           "value": 4.4865309230155015
          },
          {
           "color_by": "Mean",
           "sample_id": 0,
           "timepoint": 93,
           "trajectory": "Mean",
           "value": 4.728123927284434
          },
          {
           "color_by": "Mean",
           "sample_id": 0,
           "timepoint": 94,
           "trajectory": "Mean",
           "value": 4.940566766368459
          },
          {
           "color_by": "Mean",
           "sample_id": 0,
           "timepoint": 95,
           "trajectory": "Mean",
           "value": 5.11116897474976
          },
          {
           "color_by": "Mean",
           "sample_id": 0,
           "timepoint": 96,
           "trajectory": "Mean",
           "value": 5.22983739035826
          },
          {
           "color_by": "Mean",
           "sample_id": 0,
           "timepoint": 97,
           "trajectory": "Mean",
           "value": 5.2897037752889
          },
          {
           "color_by": "Mean",
           "sample_id": 0,
           "timepoint": 98,
           "trajectory": "Mean",
           "value": 5.287551924134528
          },
          {
           "color_by": "Mean",
           "sample_id": 0,
           "timepoint": 99,
           "trajectory": "Mean",
           "value": 5.224017704493777
          },
          {
           "color_by": "Random",
           "sample_id": 0,
           "timepoint": 0,
           "trajectory": "Random",
           "value": 1.3910395791574404
          },
          {
           "color_by": "Random",
           "sample_id": 0,
           "timepoint": 1,
           "trajectory": "Random",
           "value": 2.265755180946214
          },
          {
           "color_by": "Random",
           "sample_id": 0,
           "timepoint": 2,
           "trajectory": "Random",
           "value": 2.2802349079872846
          },
          {
           "color_by": "Random",
           "sample_id": 0,
           "timepoint": 3,
           "trajectory": "Random",
           "value": 2.1937951309300843
          },
          {
           "color_by": "Random",
           "sample_id": 0,
           "timepoint": 4,
           "trajectory": "Random",
           "value": 2.0533110942162387
          },
          {
           "color_by": "Random",
           "sample_id": 0,
           "timepoint": 5,
           "trajectory": "Random",
           "value": 1.8853422746337205
          },
          {
           "color_by": "Random",
           "sample_id": 0,
           "timepoint": 6,
           "trajectory": "Random",
           "value": 1.7109816653527632
          },
          {
           "color_by": "Random",
           "sample_id": 0,
           "timepoint": 7,
           "trajectory": "Random",
           "value": 1.5485616015378285
          },
          {
           "color_by": "Random",
           "sample_id": 0,
           "timepoint": 8,
           "trajectory": "Random",
           "value": 1.4139719540866857
          },
          {
           "color_by": "Random",
           "sample_id": 0,
           "timepoint": 9,
           "trajectory": "Random",
           "value": 1.3203313566290753
          },
          {
           "color_by": "Random",
           "sample_id": 0,
           "timepoint": 10,
           "trajectory": "Random",
           "value": 1.277515642723965
          },
          {
           "color_by": "Random",
           "sample_id": 0,
           "timepoint": 11,
           "trajectory": "Random",
           "value": 1.2917428056047302
          },
          {
           "color_by": "Random",
           "sample_id": 0,
           "timepoint": 12,
           "trajectory": "Random",
           "value": 1.3653106746592711
          },
          {
           "color_by": "Random",
           "sample_id": 0,
           "timepoint": 13,
           "trajectory": "Random",
           "value": 1.4965364537540855
          },
          {
           "color_by": "Random",
           "sample_id": 0,
           "timepoint": 14,
           "trajectory": "Random",
           "value": 1.6799186611149395
          },
          {
           "color_by": "Random",
           "sample_id": 0,
           "timepoint": 15,
           "trajectory": "Random",
           "value": 1.9065206221487723
          },
          {
           "color_by": "Random",
           "sample_id": 0,
           "timepoint": 16,
           "trajectory": "Random",
           "value": 2.1645570454882064
          },
          {
           "color_by": "Random",
           "sample_id": 0,
           "timepoint": 17,
           "trajectory": "Random",
           "value": 2.440150501707862
          },
          {
           "color_by": "Random",
           "sample_id": 0,
           "timepoint": 18,
           "trajectory": "Random",
           "value": 2.7182128698517483
          },
          {
           "color_by": "Random",
           "sample_id": 0,
           "timepoint": 19,
           "trajectory": "Random",
           "value": 2.9833983356862035
          },
          {
           "color_by": "Random",
           "sample_id": 0,
           "timepoint": 20,
           "trajectory": "Random",
           "value": 3.2210696351520314
          },
          {
           "color_by": "Random",
           "sample_id": 0,
           "timepoint": 21,
           "trajectory": "Random",
           "value": 3.418218129344724
          },
          {
           "color_by": "Random",
           "sample_id": 0,
           "timepoint": 22,
           "trajectory": "Random",
           "value": 3.5642809803322564
          },
          {
           "color_by": "Random",
           "sample_id": 0,
           "timepoint": 23,
           "trajectory": "Random",
           "value": 3.6518049676038116
          },
          {
           "color_by": "Random",
           "sample_id": 0,
           "timepoint": 24,
           "trajectory": "Random",
           "value": 3.676915931676559
          },
          {
           "color_by": "Random",
           "sample_id": 0,
           "timepoint": 25,
           "trajectory": "Random",
           "value": 3.639564853859519
          },
          {
           "color_by": "Random",
           "sample_id": 0,
           "timepoint": 26,
           "trajectory": "Random",
           "value": 3.54353542356659
          },
          {
           "color_by": "Random",
           "sample_id": 0,
           "timepoint": 27,
           "trajectory": "Random",
           "value": 3.39621274084622
          },
          {
           "color_by": "Random",
           "sample_id": 0,
           "timepoint": 28,
           "trajectory": "Random",
           "value": 3.208127628427661
          },
          {
           "color_by": "Random",
           "sample_id": 0,
           "timepoint": 29,
           "trajectory": "Random",
           "value": 2.9923049603189407
          },
          {
           "color_by": "Random",
           "sample_id": 0,
           "timepoint": 30,
           "trajectory": "Random",
           "value": 2.763456584905329
          },
          {
           "color_by": "Random",
           "sample_id": 0,
           "timepoint": 31,
           "trajectory": "Random",
           "value": 2.537069071704529
          },
          {
           "color_by": "Random",
           "sample_id": 0,
           "timepoint": 32,
           "trajectory": "Random",
           "value": 2.328443041550184
          },
          {
           "color_by": "Random",
           "sample_id": 0,
           "timepoint": 33,
           "trajectory": "Random",
           "value": 2.1517438433658005
          },
          {
           "color_by": "Random",
           "sample_id": 0,
           "timepoint": 34,
           "trajectory": "Random",
           "value": 2.0191226296898597
          },
          {
           "color_by": "Random",
           "sample_id": 0,
           "timepoint": 35,
           "trajectory": "Random",
           "value": 1.9399625016082493
          },
          {
           "color_by": "Random",
           "sample_id": 0,
           "timepoint": 36,
           "trajectory": "Random",
           "value": 1.92029661392575
          },
          {
           "color_by": "Random",
           "sample_id": 0,
           "timepoint": 37,
           "trajectory": "Random",
           "value": 1.962434436796651
          },
          {
           "color_by": "Random",
           "sample_id": 0,
           "timepoint": 38,
           "trajectory": "Random",
           "value": 2.0648194254385785
          },
          {
           "color_by": "Random",
           "sample_id": 0,
           "timepoint": 39,
           "trajectory": "Random",
           "value": 2.22212695970057
          },
          {
           "color_by": "Random",
           "sample_id": 0,
           "timepoint": 40,
           "trajectory": "Random",
           "value": 2.4255964747563645
          },
          {
           "color_by": "Random",
           "sample_id": 0,
           "timepoint": 41,
           "trajectory": "Random",
           "value": 2.663577141911201
          },
          {
           "color_by": "Random",
           "sample_id": 0,
           "timepoint": 42,
           "trajectory": "Random",
           "value": 2.9222531798071403
          },
          {
           "color_by": "Random",
           "sample_id": 0,
           "timepoint": 43,
           "trajectory": "Random",
           "value": 3.1865037067538386
          },
          {
           "color_by": "Random",
           "sample_id": 0,
           "timepoint": 44,
           "trajectory": "Random",
           "value": 3.440843678936041
          },
          {
           "color_by": "Random",
           "sample_id": 0,
           "timepoint": 45,
           "trajectory": "Random",
           "value": 3.670387416986138
          },
          {
           "color_by": "Random",
           "sample_id": 0,
           "timepoint": 46,
           "trajectory": "Random",
           "value": 3.861774818342848
          },
          {
           "color_by": "Random",
           "sample_id": 0,
           "timepoint": 47,
           "trajectory": "Random",
           "value": 4.004002672288812
          },
          {
           "color_by": "Random",
           "sample_id": 0,
           "timepoint": 48,
           "trajectory": "Random",
           "value": 4.089109394343525
          },
          {
           "color_by": "Random",
           "sample_id": 0,
           "timepoint": 49,
           "trajectory": "Random",
           "value": 4.112670609952167
          },
          {
           "color_by": "Random",
           "sample_id": 0,
           "timepoint": 50,
           "trajectory": "Random",
           "value": 4.074074777527658
          },
          {
           "color_by": "Random",
           "sample_id": 0,
           "timepoint": 51,
           "trajectory": "Random",
           "value": 3.9765617166778373
          },
          {
           "color_by": "Random",
           "sample_id": 0,
           "timepoint": 52,
           "trajectory": "Random",
           "value": 3.827021648582013
          },
          {
           "color_by": "Random",
           "sample_id": 0,
           "timepoint": 53,
           "trajectory": "Random",
           "value": 3.6355672454338857
          },
          {
           "color_by": "Random",
           "sample_id": 0,
           "timepoint": 54,
           "trajectory": "Random",
           "value": 3.4149052988510276
          },
          {
           "color_by": "Random",
           "sample_id": 0,
           "timepoint": 55,
           "trajectory": "Random",
           "value": 3.1795470756842112
          },
          {
           "color_by": "Random",
           "sample_id": 0,
           "timepoint": 56,
           "trajectory": "Random",
           "value": 2.944906459128175
          },
          {
           "color_by": "Random",
           "sample_id": 0,
           "timepoint": 57,
           "trajectory": "Random",
           "value": 2.7263419498525776
          },
          {
           "color_by": "Random",
           "sample_id": 0,
           "timepoint": 58,
           "trajectory": "Random",
           "value": 2.5382020922507094
          },
          {
           "color_by": "Random",
           "sample_id": 0,
           "timepoint": 59,
           "trajectory": "Random",
           "value": 2.3929336778272443
          },
          {
           "color_by": "Random",
           "sample_id": 0,
           "timepoint": 60,
           "trajectory": "Random",
           "value": 2.3003081744611484
          },
          {
           "color_by": "Random",
           "sample_id": 0,
           "timepoint": 61,
           "trajectory": "Random",
           "value": 2.266814479471803
          },
          {
           "color_by": "Random",
           "sample_id": 0,
           "timepoint": 62,
           "trajectory": "Random",
           "value": 2.29525575312167
          },
          {
           "color_by": "Random",
           "sample_id": 0,
           "timepoint": 63,
           "trajectory": "Random",
           "value": 2.384575400378072
          },
          {
           "color_by": "Random",
           "sample_id": 0,
           "timepoint": 64,
           "trajectory": "Random",
           "value": 2.5299230213575488
          },
          {
           "color_by": "Random",
           "sample_id": 0,
           "timepoint": 65,
           "trajectory": "Random",
           "value": 2.7229562307223754
          },
          {
           "color_by": "Random",
           "sample_id": 0,
           "timepoint": 66,
           "trajectory": "Random",
           "value": 2.9523595810522245
          },
          {
           "color_by": "Random",
           "sample_id": 0,
           "timepoint": 67,
           "trajectory": "Random",
           "value": 3.2045483266880215
          },
          {
           "color_by": "Random",
           "sample_id": 0,
           "timepoint": 68,
           "trajectory": "Random",
           "value": 3.464513272012246
          },
          {
           "color_by": "Random",
           "sample_id": 0,
           "timepoint": 69,
           "trajectory": "Random",
           "value": 3.716754176139678
          },
          {
           "color_by": "Random",
           "sample_id": 0,
           "timepoint": 70,
           "trajectory": "Random",
           "value": 3.9462436799444083
          },
          {
           "color_by": "Random",
           "sample_id": 0,
           "timepoint": 71,
           "trajectory": "Random",
           "value": 4.139361823581803
          },
          {
           "color_by": "Random",
           "sample_id": 0,
           "timepoint": 72,
           "trajectory": "Random",
           "value": 4.284743051171671
          },
          {
           "color_by": "Random",
           "sample_id": 0,
           "timepoint": 73,
           "trajectory": "Random",
           "value": 4.373983040403072
          },
          {
           "color_by": "Random",
           "sample_id": 0,
           "timepoint": 74,
           "trajectory": "Random",
           "value": 4.402161410200896
          },
          {
           "color_by": "Random",
           "sample_id": 0,
           "timepoint": 75,
           "trajectory": "Random",
           "value": 4.3681478073791595
          },
          {
           "color_by": "Random",
           "sample_id": 0,
           "timepoint": 76,
           "trajectory": "Random",
           "value": 4.274672341627948
          },
          {
           "color_by": "Random",
           "sample_id": 0,
           "timepoint": 77,
           "trajectory": "Random",
           "value": 4.128155989838552
          },
          {
           "color_by": "Random",
           "sample_id": 0,
           "timepoint": 78,
           "trajectory": "Random",
           "value": 3.938311514695421
          },
          {
           "color_by": "Random",
           "sample_id": 0,
           "timepoint": 79,
           "trajectory": "Random",
           "value": 3.717539710756543
          },
          {
           "color_by": "Random",
           "sample_id": 0,
           "timepoint": 80,
           "trajectory": "Random",
           "value": 3.4801585167723363
          },
          {
           "color_by": "Random",
           "sample_id": 0,
           "timepoint": 81,
           "trajectory": "Random",
           "value": 3.241512924545174
          },
          {
           "color_by": "Random",
           "sample_id": 0,
           "timepoint": 82,
           "trajectory": "Random",
           "value": 3.017021026110857
          },
          {
           "color_by": "Random",
           "sample_id": 0,
           "timepoint": 83,
           "trajectory": "Random",
           "value": 2.8212155116197
          },
          {
           "color_by": "Random",
           "sample_id": 0,
           "timepoint": 84,
           "trajectory": "Random",
           "value": 2.6668402131357807
          },
          {
           "color_by": "Random",
           "sample_id": 0,
           "timepoint": 85,
           "trajectory": "Random",
           "value": 2.5640578670727106
          },
          {
           "color_by": "Random",
           "sample_id": 0,
           "timepoint": 86,
           "trajectory": "Random",
           "value": 2.5198183529373157
          },
          {
           "color_by": "Random",
           "sample_id": 0,
           "timepoint": 87,
           "trajectory": "Random",
           "value": 2.5374266884029453
          },
          {
           "color_by": "Random",
           "sample_id": 0,
           "timepoint": 88,
           "trajectory": "Random",
           "value": 2.616337640843688
          },
          {
           "color_by": "Random",
           "sample_id": 0,
           "timepoint": 89,
           "trajectory": "Random",
           "value": 2.7521897255380754
          },
          {
           "color_by": "Random",
           "sample_id": 0,
           "timepoint": 90,
           "trajectory": "Random",
           "value": 2.9370764768390085
          },
          {
           "color_by": "Random",
           "sample_id": 0,
           "timepoint": 91,
           "trajectory": "Random",
           "value": 3.1600381261152153
          },
          {
           "color_by": "Random",
           "sample_id": 0,
           "timepoint": 92,
           "trajectory": "Random",
           "value": 3.4077431164368717
          },
          {
           "color_by": "Random",
           "sample_id": 0,
           "timepoint": 93,
           "trajectory": "Random",
           "value": 3.665317080842031
          },
          {
           "color_by": "Random",
           "sample_id": 0,
           "timepoint": 94,
           "trajectory": "Random",
           "value": 3.917267742443081
          },
          {
           "color_by": "Random",
           "sample_id": 0,
           "timepoint": 95,
           "trajectory": "Random",
           "value": 4.148448230671128
          },
          {
           "color_by": "Random",
           "sample_id": 0,
           "timepoint": 96,
           "trajectory": "Random",
           "value": 4.344998919421353
          },
          {
           "color_by": "Random",
           "sample_id": 0,
           "timepoint": 97,
           "trajectory": "Random",
           "value": 4.495209228261403
          },
          {
           "color_by": "Random",
           "sample_id": 0,
           "timepoint": 98,
           "trajectory": "Random",
           "value": 4.590245804169125
          },
          {
           "color_by": "Random",
           "sample_id": 0,
           "timepoint": 99,
           "trajectory": "Random",
           "value": 4.624701809072928
          },
          {
           "color_by": "Variance",
           "sample_id": 0,
           "timepoint": 0,
           "trajectory": "Variance",
           "value": 1.9153245277573459
          },
          {
           "color_by": "Variance",
           "sample_id": 0,
           "timepoint": 1,
           "trajectory": "Variance",
           "value": 2.7456197273744323
          },
          {
           "color_by": "Variance",
           "sample_id": 0,
           "timepoint": 2,
           "trajectory": "Variance",
           "value": 2.7251996585526395
          },
          {
           "color_by": "Variance",
           "sample_id": 0,
           "timepoint": 3,
           "trajectory": "Variance",
           "value": 2.61555059221374
          },
          {
           "color_by": "Variance",
           "sample_id": 0,
           "timepoint": 4,
           "trajectory": "Variance",
           "value": 2.464990813994527
          },
          {
           "color_by": "Variance",
           "sample_id": 0,
           "timepoint": 5,
           "trajectory": "Variance",
           "value": 2.3007062614887177
          },
          {
           "color_by": "Variance",
           "sample_id": 0,
           "timepoint": 6,
           "trajectory": "Variance",
           "value": 2.1435608579841734
          },
          {
           "color_by": "Variance",
           "sample_id": 0,
           "timepoint": 7,
           "trajectory": "Variance",
           "value": 2.010816580530672
          },
          {
           "color_by": "Variance",
           "sample_id": 0,
           "timepoint": 8,
           "trajectory": "Variance",
           "value": 1.916518203362365
          },
          {
           "color_by": "Variance",
           "sample_id": 0,
           "timepoint": 9,
           "trajectory": "Variance",
           "value": 1.8712792440704016
          },
          {
           "color_by": "Variance",
           "sample_id": 0,
           "timepoint": 10,
           "trajectory": "Variance",
           "value": 1.881966156782135
          },
          {
           "color_by": "Variance",
           "sample_id": 0,
           "timepoint": 11,
           "trajectory": "Variance",
           "value": 1.9514704005436663
          },
          {
           "color_by": "Variance",
           "sample_id": 0,
           "timepoint": 12,
           "trajectory": "Variance",
           "value": 2.078652943583919
          },
          {
           "color_by": "Variance",
           "sample_id": 0,
           "timepoint": 13,
           "trajectory": "Variance",
           "value": 2.2584974890194136
          },
          {
           "color_by": "Variance",
           "sample_id": 0,
           "timepoint": 14,
           "trajectory": "Variance",
           "value": 2.48247967566602
          },
          {
           "color_by": "Variance",
           "sample_id": 0,
           "timepoint": 15,
           "trajectory": "Variance",
           "value": 2.7391385188614943
          },
          {
           "color_by": "Variance",
           "sample_id": 0,
           "timepoint": 16,
           "trajectory": "Variance",
           "value": 3.01481993588379
          },
          {
           "color_by": "Variance",
           "sample_id": 0,
           "timepoint": 17,
           "trajectory": "Variance",
           "value": 3.2945494170624663
          },
          {
           "color_by": "Variance",
           "sample_id": 0,
           "timepoint": 18,
           "trajectory": "Variance",
           "value": 3.56298168344209
          },
          {
           "color_by": "Variance",
           "sample_id": 0,
           "timepoint": 19,
           "trajectory": "Variance",
           "value": 3.8053696738740634
          },
          {
           "color_by": "Variance",
           "sample_id": 0,
           "timepoint": 20,
           "trajectory": "Variance",
           "value": 4.008493560901937
          },
          {
           "color_by": "Variance",
           "sample_id": 0,
           "timepoint": 21,
           "trajectory": "Variance",
           "value": 4.161492696398923
          },
          {
           "color_by": "Variance",
           "sample_id": 0,
           "timepoint": 22,
           "trajectory": "Variance",
           "value": 4.256549235722751
          },
          {
           "color_by": "Variance",
           "sample_id": 0,
           "timepoint": 23,
           "trajectory": "Variance",
           "value": 4.289381283776799
          },
          {
           "color_by": "Variance",
           "sample_id": 0,
           "timepoint": 24,
           "trajectory": "Variance",
           "value": 4.2595151609626765
          },
          {
           "color_by": "Variance",
           "sample_id": 0,
           "timepoint": 25,
           "trajectory": "Variance",
           "value": 4.170320057574836
          },
          {
           "color_by": "Variance",
           "sample_id": 0,
           "timepoint": 26,
           "trajectory": "Variance",
           "value": 4.0288030734347124
          },
          {
           "color_by": "Variance",
           "sample_id": 0,
           "timepoint": 27,
           "trajectory": "Variance",
           "value": 3.8451775043735865
          },
          {
           "color_by": "Variance",
           "sample_id": 0,
           "timepoint": 28,
           "trajectory": "Variance",
           "value": 3.6322313107632027
          },
          {
           "color_by": "Variance",
           "sample_id": 0,
           "timepoint": 29,
           "trajectory": "Variance",
           "value": 3.404535108227409
          },
          {
           "color_by": "Variance",
           "sample_id": 0,
           "timepoint": 30,
           "trajectory": "Variance",
           "value": 3.1775389840136206
          },
          {
           "color_by": "Variance",
           "sample_id": 0,
           "timepoint": 31,
           "trajectory": "Variance",
           "value": 2.9666143436311687
          },
          {
           "color_by": "Variance",
           "sample_id": 0,
           "timepoint": 32,
           "trajectory": "Variance",
           "value": 2.786100401375058
          },
          {
           "color_by": "Variance",
           "sample_id": 0,
           "timepoint": 33,
           "trajectory": "Variance",
           "value": 2.6484146327019698
          },
          {
           "color_by": "Variance",
           "sample_id": 0,
           "timepoint": 34,
           "trajectory": "Variance",
           "value": 2.563282524061846
          },
          {
           "color_by": "Variance",
           "sample_id": 0,
           "timepoint": 35,
           "trajectory": "Variance",
           "value": 2.5371345339991915
          },
          {
           "color_by": "Variance",
           "sample_id": 0,
           "timepoint": 36,
           "trajectory": "Variance",
           "value": 2.572707779336884
          },
          {
           "color_by": "Variance",
           "sample_id": 0,
           "timepoint": 37,
           "trajectory": "Variance",
           "value": 2.6688772284844124
          },
          {
           "color_by": "Variance",
           "sample_id": 0,
           "timepoint": 38,
           "trajectory": "Variance",
           "value": 2.82072691183545
          },
          {
           "color_by": "Variance",
           "sample_id": 0,
           "timepoint": 39,
           "trajectory": "Variance",
           "value": 3.019856734100377
          },
          {
           "color_by": "Variance",
           "sample_id": 0,
           "timepoint": 40,
           "trajectory": "Variance",
           "value": 3.25490582314787
          },
          {
           "color_by": "Variance",
           "sample_id": 0,
           "timepoint": 41,
           "trajectory": "Variance",
           "value": 3.5122598853255456
          },
          {
           "color_by": "Variance",
           "sample_id": 0,
           "timepoint": 42,
           "trajectory": "Variance",
           "value": 3.7768985954064584
          },
          {
           "color_by": "Variance",
           "sample_id": 0,
           "timepoint": 43,
           "trajectory": "Variance",
           "value": 4.033330341623537
          },
          {
           "color_by": "Variance",
           "sample_id": 0,
           "timepoint": 44,
           "trajectory": "Variance",
           "value": 4.266556214077643
          },
          {
           "color_by": "Variance",
           "sample_id": 0,
           "timepoint": 45,
           "trajectory": "Variance",
           "value": 4.463003305857782
          },
          {
           "color_by": "Variance",
           "sample_id": 0,
           "timepoint": 46,
           "trajectory": "Variance",
           "value": 4.611369303566736
          },
          {
           "color_by": "Variance",
           "sample_id": 0,
           "timepoint": 47,
           "trajectory": "Variance",
           "value": 4.703325858995182
          },
          {
           "color_by": "Variance",
           "sample_id": 0,
           "timepoint": 48,
           "trajectory": "Variance",
           "value": 4.734037013519357
          },
          {
           "color_by": "Variance",
           "sample_id": 0,
           "timepoint": 49,
           "trajectory": "Variance",
           "value": 4.702460445512838
          },
          {
           "color_by": "Variance",
           "sample_id": 0,
           "timepoint": 50,
           "trajectory": "Variance",
           "value": 4.611412813718223
          },
          {
           "color_by": "Variance",
           "sample_id": 0,
           "timepoint": 51,
           "trajectory": "Variance",
           "value": 4.467395136582022
          },
          {
           "color_by": "Variance",
           "sample_id": 0,
           "timepoint": 52,
           "trajectory": "Variance",
           "value": 4.280189067082781
          },
          {
           "color_by": "Variance",
           "sample_id": 0,
           "timepoint": 53,
           "trajectory": "Variance",
           "value": 4.062249166949152
          },
          {
           "color_by": "Variance",
           "sample_id": 0,
           "timepoint": 54,
           "trajectory": "Variance",
           "value": 3.8279289677208466
          },
          {
           "color_by": "Variance",
           "sample_id": 0,
           "timepoint": 55,
           "trajectory": "Variance",
           "value": 3.5925889402454594
          },
          {
           "color_by": "Variance",
           "sample_id": 0,
           "timepoint": 56,
           "trajectory": "Variance",
           "value": 3.3716418363977643
          },
          {
           "color_by": "Variance",
           "sample_id": 0,
           "timepoint": 57,
           "trajectory": "Variance",
           "value": 3.179594760550667
          },
          {
           "color_by": "Variance",
           "sample_id": 0,
           "timepoint": 58,
           "trajectory": "Variance",
           "value": 3.029147531521976
          },
          {
           "color_by": "Variance",
           "sample_id": 0,
           "timepoint": 59,
           "trajectory": "Variance",
           "value": 2.930403395732963
          },
          {
           "color_by": "Variance",
           "sample_id": 0,
           "timepoint": 60,
           "trajectory": "Variance",
           "value": 2.8902411667537873
          },
          {
           "color_by": "Variance",
           "sample_id": 0,
           "timepoint": 61,
           "trajectory": "Variance",
           "value": 2.91188782960419
          },
          {
           "color_by": "Variance",
           "sample_id": 0,
           "timepoint": 62,
           "trajectory": "Variance",
           "value": 2.9947181841641415
          },
          {
           "color_by": "Variance",
           "sample_id": 0,
           "timepoint": 63,
           "trajectory": "Variance",
           "value": 3.134293985779208
          },
          {
           "color_by": "Variance",
           "sample_id": 0,
           "timepoint": 64,
           "trajectory": "Variance",
           "value": 3.3226401502996348
          },
          {
           "color_by": "Variance",
           "sample_id": 0,
           "timepoint": 65,
           "trajectory": "Variance",
           "value": 3.5487408512103826
          },
          {
           "color_by": "Variance",
           "sample_id": 0,
           "timepoint": 66,
           "trajectory": "Variance",
           "value": 3.7992246646265904
          },
          {
           "color_by": "Variance",
           "sample_id": 0,
           "timepoint": 67,
           "trajectory": "Variance",
           "value": 4.059196163796036
          },
          {
           "color_by": "Variance",
           "sample_id": 0,
           "timepoint": 68,
           "trajectory": "Variance",
           "value": 4.3131622591816345
          },
          {
           "color_by": "Variance",
           "sample_id": 0,
           "timepoint": 69,
           "trajectory": "Variance",
           "value": 4.545995689332391
          },
          {
           "color_by": "Variance",
           "sample_id": 0,
           "timepoint": 70,
           "trajectory": "Variance",
           "value": 4.743875757855692
          },
          {
           "color_by": "Variance",
           "sample_id": 0,
           "timepoint": 71,
           "trajectory": "Variance",
           "value": 4.895147826494892
          },
          {
           "color_by": "Variance",
           "sample_id": 0,
           "timepoint": 72,
           "trajectory": "Variance",
           "value": 4.991048125635016
          },
          {
           "color_by": "Variance",
           "sample_id": 0,
           "timepoint": 73,
           "trajectory": "Variance",
           "value": 5.026248817439149
          },
          {
           "color_by": "Variance",
           "sample_id": 0,
           "timepoint": 74,
           "trajectory": "Variance",
           "value": 4.999189422611122
          },
          {
           "color_by": "Variance",
           "sample_id": 0,
           "timepoint": 75,
           "trajectory": "Variance",
           "value": 4.912174004629624
          },
          {
           "color_by": "Variance",
           "sample_id": 0,
           "timepoint": 76,
           "trajectory": "Variance",
           "value": 4.771228069341253
          },
          {
           "color_by": "Variance",
           "sample_id": 0,
           "timepoint": 77,
           "trajectory": "Variance",
           "value": 4.585724077513639
          },
          {
           "color_by": "Variance",
           "sample_id": 0,
           "timepoint": 78,
           "trajectory": "Variance",
           "value": 4.3677988544552395
          },
          {
           "color_by": "Variance",
           "sample_id": 0,
           "timepoint": 79,
           "trajectory": "Variance",
           "value": 4.131599119622525
          },
          {
           "color_by": "Variance",
           "sample_id": 0,
           "timepoint": 80,
           "trajectory": "Variance",
           "value": 3.89240204578492
          },
          {
           "color_by": "Variance",
           "sample_id": 0,
           "timepoint": 81,
           "trajectory": "Variance",
           "value": 3.665665527359012
          },
          {
           "color_by": "Variance",
           "sample_id": 0,
           "timepoint": 82,
           "trajectory": "Variance",
           "value": 3.466067207852304
          },
          {
           "color_by": "Variance",
           "sample_id": 0,
           "timepoint": 83,
           "trajectory": "Variance",
           "value": 3.3065920152474795
          },
          {
           "color_by": "Variance",
           "sample_id": 0,
           "timepoint": 84,
           "trajectory": "Variance",
           "value": 3.197724938156779
          },
          {
           "color_by": "Variance",
           "sample_id": 0,
           "timepoint": 85,
           "trajectory": "Variance",
           "value": 3.146799232203072
          },
          {
           "color_by": "Variance",
           "sample_id": 0,
           "timepoint": 86,
           "trajectory": "Variance",
           "value": 3.1575405821747395
          },
          {
           "color_by": "Variance",
           "sample_id": 0,
           "timepoint": 87,
           "trajectory": "Variance",
           "value": 3.2298355619104404
          },
          {
           "color_by": "Variance",
           "sample_id": 0,
           "timepoint": 88,
           "trajectory": "Variance",
           "value": 3.3597387881140093
          },
          {
           "color_by": "Variance",
           "sample_id": 0,
           "timepoint": 89,
           "trajectory": "Variance",
           "value": 3.5397183234584677
          },
          {
           "color_by": "Variance",
           "sample_id": 0,
           "timepoint": 90,
           "trajectory": "Variance",
           "value": 3.759124071143129
          },
          {
           "color_by": "Variance",
           "sample_id": 0,
           "timepoint": 91,
           "trajectory": "Variance",
           "value": 4.004850038531625
          },
          {
           "color_by": "Variance",
           "sample_id": 0,
           "timepoint": 92,
           "trajectory": "Variance",
           "value": 4.26214929365109
          },
          {
           "color_by": "Variance",
           "sample_id": 0,
           "timepoint": 93,
           "trajectory": "Variance",
           "value": 4.515550944623518
          },
          {
           "color_by": "Variance",
           "sample_id": 0,
           "timepoint": 94,
           "trajectory": "Variance",
           "value": 4.749822128802272
          },
          {
           "color_by": "Variance",
           "sample_id": 0,
           "timepoint": 95,
           "trajectory": "Variance",
           "value": 4.950915199895418
          },
          {
           "color_by": "Variance",
           "sample_id": 0,
           "timepoint": 96,
           "trajectory": "Variance",
           "value": 5.106841221669549
          },
          {
           "color_by": "Variance",
           "sample_id": 0,
           "timepoint": 97,
           "trajectory": "Variance",
           "value": 5.208415458722509
          },
          {
           "color_by": "Variance",
           "sample_id": 0,
           "timepoint": 98,
           "trajectory": "Variance",
           "value": 5.249828513410882
          },
          {
           "color_by": "Variance",
           "sample_id": 0,
           "timepoint": 99,
           "trajectory": "Variance",
           "value": 5.229007598491188
          }
         ]
        },
        {
         "name": "points",
         "values": []
        },
        {
         "name": "markers",
         "values": []
        },
        {
         "name": "selected",
         "on": [
          {
           "remove": true,
           "trigger": "clear"
          },
          {
           "remove": true,
           "trigger": "!shift"
          },
          {
           "insert": "clicked",
           "trigger": "!shift && clicked"
          },
          {
           "toggle": "clicked",
           "trigger": "shift && clicked"
          }
         ]
        },
        {
         "name": "selectedData",
         "on": [
          {
           "remove": true,
           "trigger": "clearData"
          },
          {
           "toggle": "clickedData",
           "trigger": "clickedData"
          }
         ]
        }
       ],
       "height": 300,
       "legends": [
        {
         "encode": {
          "labels": {
           "interactive": true,
           "name": "legendLabel",
           "size": {
            "value": 25
           },
           "update": {
            "opacity": [
             {
              "test": "!length(data('selectedData')) || indata('selectedData', 'value', datum.value)",
              "value": 1
             },
             {
              "value": 0.25
             }
            ]
           }
          },
          "symbols": {
           "interactive": true,
           "name": "legendSymbol",
           "update": {
            "fill": {
             "value": "transparent"
            },
            "opacity": [
             {
              "test": "!length(data('selected')) || indata('selected', 'value', datum.value) || indata('selectedData', 'value', datum.value)",
              "value": 0.7
             },
             {
              "value": 0.15
             }
            ],
            "size": {
             "value": 64
            },
            "strokeWidth": {
             "value": 2
            }
           }
          }
         },
         "name": "color_legend",
         "orient": "left",
         "stroke": "color"
        }
       ],
       "marks": [
        {
         "from": {
          "facet": {
           "data": "points",
           "groupby": "trajectory",
           "name": "points_split"
          }
         },
         "marks": [
          {
           "encode": {
            "hover": {
             "fillOpacity": {
              "value": 0.9
             }
            },
            "update": {
             "fill": {
              "field": "trajectory",
              "scale": "color"
             },
             "fillOpacity": [
              {
               "test": "!length(data('selected')) || indata('selected', 'value', datum.trajectory)",
               "value": 0.5
              },
              {
               "value": 0.15
              }
             ],
             "size": {
              "value": 35
             },
             "stroke": {
              "field": "trajectory",
              "scale": "color"
             },
             "strokeOpacity": [
              {
               "test": "!length(data('selected')) || indata('selected', 'value', datum.trajectory)",
               "value": 0.75
              },
              {
               "value": 0.15
              }
             ],
             "strokeWidth": {
              "value": 2
             },
             "tooltip": {
              "field": "value"
             },
             "x": {
              "field": "timepoint",
              "scale": "xscale"
             },
             "y": {
              "field": "value",
              "scale": "yscale"
             }
            }
           },
           "from": {
            "data": "points_split"
           },
           "name": "_points_symbol",
           "type": "symbol",
           "zindex": 3
          },
          {
           "encode": {
            "hover": {
             "fillOpacity": {
              "value": 0.9
             }
            },
            "update": {
             "interpolate": {
              "value": "linear"
             },
             "stroke": {
              "field": "trajectory",
              "scale": "color"
             },
             "strokeDash": {
              "value": [
               5,
               3
              ]
             },
             "strokeOpacity": [
              {
               "test": "!length(data('selected')) || indata('selected', 'value', datum.trajectory)",
               "value": 0.3
              },
              {
               "value": 0.1
              }
             ],
             "strokeWidth": {
              "value": 2
             },
             "x": {
              "field": "timepoint",
              "scale": "xscale"
             },
             "y": {
              "field": "value",
              "scale": "yscale"
             }
            }
           },
           "from": {
            "data": "points_split"
           },
           "name": "_points_line",
           "type": "line",
           "zindex": 3
          }
         ],
         "name": "_points",
         "type": "group",
         "zindex": 3
        },
        {
         "from": {
          "facet": {
           "data": "traces",
           "groupby": "trajectory",
           "name": "traces_split"
          }
         },
         "marks": [
          {
           "encode": {
            "hover": {
             "fillOpacity": {
              "value": 0.9
             }
            },
            "update": {
             "interpolate": {
              "value": "linear"
             },
             "stroke": {
              "field": "trajectory",
              "scale": "color"
             },
             "strokeDash": [
              {
               "test": "indexof(datum.trajectory, 'Baseline') != -1 || indexof(datum.trajectory, 'Envelope') != -1",
               "value": [
                8,
                4
               ]
              },
              {
               "value": [
                1,
                0
               ]
              }
             ],
             "strokeOpacity": [
              {
               "test": "!length(data('selected')) || indata('selected', 'value', datum.trajectory)",
               "value": 0.75
              },
              {
               "value": 0.15
              }
             ],
             "strokeWidth": {
              "value": 2
             },
             "x": {
              "field": "timepoint",
              "scale": "xscale"
             },
             "y": {
              "field": "value",
              "scale": "yscale"
             }
            }
           },
           "from": {
            "data": "traces_split"
           },
           "name": "_traces_lines",
           "type": "line"
          }
         ],
         "name": "_traces",
         "type": "group",
         "zindex": 2
        },
        {
         "from": {
          "facet": {
           "data": "distributions",
           "groupby": "trajectory",
           "name": "trajectory_split"
          }
         },
         "marks": [
          {
           "encode": {
            "hover": {
             "fillOpacity": {
              "value": 0.9
             }
            },
            "update": {
             "fill": {
              "field": "trajectory",
              "scale": "color"
             },
             "fillOpacity": [
              {
               "test": "!length(data('selected')) || indata('selected', 'value', datum.trajectory)",
               "value": 0.1
              },
              {
               "value": 0.05
              }
             ],
             "interpolate": {
              "value": "linear"
             },
             "stroke": {
              "field": "trajectory",
              "scale": "color"
             },
             "strokeOpacity": [
              {
               "test": "!length(data('selected')) || indata('selected', 'value', datum.trajectory)",
               "value": 0.1
              },
              {
               "value": 0.05
              }
             ],
             "strokeWidth": {
              "value": 2
             },
             "x": {
              "field": "timepoint",
              "scale": "xscale"
             },
             "y": {
              "field": "upper",
              "scale": "yscale"
             },
             "y2": {
              "field": "lower",
              "scale": "yscale"
             }
            }
           },
           "from": {
            "data": "trajectory_split"
           },
           "interactive": true,
           "name": "area",
           "type": "area"
          }
         ],
         "name": "_distributions",
         "type": "group",
         "zindex": 1
        },
        {
         "marks": [
          {
           "encode": {
            "enter": {
             "stroke": {
              "value": "lightgray"
             }
            },
            "update": {
             "opacity": {
              "value": 1
             },
             "x": {
              "field": "timepoint",
              "scale": "xscale"
             },
             "y": {
              "signal": "height"
             },
             "y2": {
              "value": 0
             }
            }
           },
           "from": {
            "data": "markers"
           },
           "name": "_marker text",
           "type": "rule"
          },
          {
           "encode": {
            "enter": {
             "fontSize": {
              "value": 8
             },
             "text": {
              "field": "datum.label"
             },
             "y": {
              "value": 0
             }
            }
           },
           "from": {
            "data": "_marker text"
           },
           "name": "_marker flags",
           "transform": [
            {
             "as": [
              "x",
              "_y",
              "opacity",
              "align",
              "baseline"
             ],
             "lineAnchor": "start",
             "offset": [
              1
             ],
             "size": {
              "signal": "[width, height]"
             },
             "type": "label"
            }
           ],
           "type": "text"
          }
         ],
         "name": "_markers",
         "type": "group"
        }
       ],
       "scales": [
        {
         "domain": {
          "fields": [
           {
            "data": "distributions",
            "field": "timepoint"
           },
           {
            "data": "traces",
            "field": "timepoint"
           },
           {
            "data": "points",
            "field": "timepoint"
           },
           {
            "data": "markers",
            "field": "timepoint"
           }
          ]
         },
         "name": "xscale",
         "range": "width",
         "type": "linear",
         "zero": false
        },
        {
         "domain": {
          "fields": [
           {
            "data": "distributions",
            "field": "lower"
           },
           {
            "data": "distributions",
            "field": "upper"
           },
           {
            "data": "traces",
            "field": "value"
           },
           {
            "data": "points",
            "field": "value"
           }
          ]
         },
         "name": "yscale",
         "nice": true,
         "range": "height",
         "type": "linear",
         "zero": true
        },
        {
         "domain": {
          "fields": [
           {
            "data": "distributions",
            "field": "trajectory"
           },
           {
            "data": "traces",
            "field": "trajectory"
           },
           {
            "data": "points",
            "field": "trajectory"
           }
          ],
          "sort": {
           "order": "ascending"
          }
         },
         "name": "color",
         "range": "category",
         "type": "ordinal"
        }
       ],
       "signals": [
        {
         "name": "clear",
         "on": [
          {
           "events": "mouseup[!event.item]",
           "force": true,
           "update": "true"
          }
         ],
         "value": true
        },
        {
         "name": "shift",
         "on": [
          {
           "events": "@legendSymbol:click, @legendLabel:click",
           "force": true,
           "update": "event.shiftKey"
          }
         ],
         "value": false
        },
        {
         "name": "clicked",
         "on": [
          {
           "events": "@legendSymbol:click, @legendLabel:click",
           "force": true,
           "update": "{value: datum.value}"
          }
         ],
         "value": null
        },
        {
         "name": "clearData",
         "on": [
          {
           "events": "mouseup[!event.item]",
           "force": true,
           "update": "true"
          }
         ],
         "value": true
        },
        {
         "name": "clickedData",
         "on": [
          {
           "events": "@area:click",
           "force": true,
           "update": "{value: datum.trajectory}"
          }
         ],
         "value": null
        }
       ],
       "width": 500
      }
     },
     "metadata": {},
     "output_type": "display_data"
    },
    {
     "name": "stderr",
     "output_type": "stream",
     "text": [
      "/var/folders/vn/q5vrjvfn60bfsnnd058cb6ww0000gn/T/ipykernel_795/4188316938.py:106: FutureWarning: The provided callable <function mean at 0x10d51e170> is currently using DataFrameGroupBy.mean. In a future version of pandas, the provided callable will be used directly. To keep current behavior pass the string \"mean\" instead.\n",
      "  parameters_by_sample_id = all_parameters_cluster.groupby(\"sample_id\").agg(np.mean)\n",
      "/var/folders/vn/q5vrjvfn60bfsnnd058cb6ww0000gn/T/ipykernel_795/4188316938.py:107: FutureWarning: The provided callable <function mean at 0x10d51e170> is currently using Series.mean. In a future version of pandas, the provided callable will be used directly. To keep current behavior pass the string \"mean\" instead.\n",
      "  parameters_by_sample_id  = parameters_by_sample_id.agg([np.mean, np.std]).reset_index()\n",
      "/var/folders/vn/q5vrjvfn60bfsnnd058cb6ww0000gn/T/ipykernel_795/4188316938.py:107: FutureWarning: The provided callable <function std at 0x10d51e290> is currently using Series.std. In a future version of pandas, the provided callable will be used directly. To keep current behavior pass the string \"std\" instead.\n",
      "  parameters_by_sample_id  = parameters_by_sample_id.agg([np.mean, np.std]).reset_index()\n"
     ]
    },
    {
     "name": "stdout",
     "output_type": "stream",
     "text": [
      "\n"
     ]
    },
    {
     "data": {
      "application/vnd.vega.v5+json": {
       "$schema": "https://vega.github.io/schema/vega/v5.json",
       "axes": [
        {
         "name": "x_axis",
         "orient": "bottom",
         "scale": "xscale",
         "zindex": 100
        },
        {
         "name": "y_axis",
         "orient": "left",
         "scale": "yscale",
         "zindex": 100
        }
       ],
       "background": "white",
       "data": [
        {
         "name": "distributions",
         "transform": [
          {
           "sort": {
            "field": [
             "trajectory",
             "timepoint"
            ]
           },
           "type": "collect"
          }
         ],
         "values": [
          {
           "lower": -0.6749806221762816,
           "timepoint": 0,
           "trajectory": "Example",
           "upper": 1.1087671946198114
          },
          {
           "lower": 0.241964533729843,
           "timepoint": 1,
           "trajectory": "Example",
           "upper": 2.2714924660638074
          },
          {
           "lower": 0.4009758542696647,
           "timepoint": 2,
           "trajectory": "Example",
           "upper": 2.6944221046615686
          },
          {
           "lower": 0.5598210117885198,
           "timepoint": 3,
           "trajectory": "Example",
           "upper": 3.06255517657524
          },
          {
           "lower": 0.750124621514367,
           "timepoint": 4,
           "trajectory": "Example",
           "upper": 3.3945037881852502
          },
          {
           "lower": 0.9489083188449016,
           "timepoint": 5,
           "trajectory": "Example",
           "upper": 3.6821878696795958
          },
          {
           "lower": 1.158430304094133,
           "timepoint": 6,
           "trajectory": "Example",
           "upper": 3.907810179520412
          },
          {
           "lower": 1.422513937304121,
           "timepoint": 7,
           "trajectory": "Example",
           "upper": 4.1143726868536925
          },
          {
           "lower": 1.7202551399054187,
           "timepoint": 8,
           "trajectory": "Example",
           "upper": 4.249595206220994
          },
          {
           "lower": 2.0192989031970914,
           "timepoint": 9,
           "trajectory": "Example",
           "upper": 4.341487426844175
          },
          {
           "lower": 2.30510584912251,
           "timepoint": 10,
           "trajectory": "Example",
           "upper": 4.5144581099776495
          },
          {
           "lower": 2.4422652774414257,
           "timepoint": 11,
           "trajectory": "Example",
           "upper": 4.519644231716152
          },
          {
           "lower": 2.5115226560195696,
           "timepoint": 12,
           "trajectory": "Example",
           "upper": 4.5606444040053775
          },
          {
           "lower": 2.5204011080232296,
           "timepoint": 13,
           "trajectory": "Example",
           "upper": 4.595441437851425
          },
          {
           "lower": 2.307400793837471,
           "timepoint": 14,
           "trajectory": "Example",
           "upper": 4.613692619121512
          },
          {
           "lower": 2.0954158513777035,
           "timepoint": 15,
           "trajectory": "Example",
           "upper": 4.562486052718379
          },
          {
           "lower": 1.899930198674636,
           "timepoint": 16,
           "trajectory": "Example",
           "upper": 4.4665180291835815
          },
          {
           "lower": 1.7352642123927327,
           "timepoint": 17,
           "trajectory": "Example",
           "upper": 4.424714148246544
          },
          {
           "lower": 1.6137029713487927,
           "timepoint": 18,
           "trajectory": "Example",
           "upper": 4.43256348972031
          },
          {
           "lower": 1.5005683044908282,
           "timepoint": 19,
           "trajectory": "Example",
           "upper": 4.332219843249727
          },
          {
           "lower": 1.4099604072031904,
           "timepoint": 20,
           "trajectory": "Example",
           "upper": 4.210918042561386
          },
          {
           "lower": 1.4220282959155106,
           "timepoint": 21,
           "trajectory": "Example",
           "upper": 4.050941481344498
          },
          {
           "lower": 1.4027400191610557,
           "timepoint": 22,
           "trajectory": "Example",
           "upper": 3.8548851853280253
          },
          {
           "lower": 1.50176027218923,
           "timepoint": 23,
           "trajectory": "Example",
           "upper": 3.6365672455346973
          },
          {
           "lower": 1.5734355786491194,
           "timepoint": 24,
           "trajectory": "Example",
           "upper": 3.4111292721852786
          },
          {
           "lower": 1.560899401588484,
           "timepoint": 25,
           "trajectory": "Example",
           "upper": 3.331554870961763
          },
          {
           "lower": 1.5086920617535455,
           "timepoint": 26,
           "trajectory": "Example",
           "upper": 3.499924668211724
          },
          {
           "lower": 1.4917068454987483,
           "timepoint": 27,
           "trajectory": "Example",
           "upper": 3.7529386043260637
          },
          {
           "lower": 1.5362822669545184,
           "timepoint": 28,
           "trajectory": "Example",
           "upper": 4.014885715544978
          },
          {
           "lower": 1.640977495005562,
           "timepoint": 29,
           "trajectory": "Example",
           "upper": 4.270810051906372
          },
          {
           "lower": 1.7789660708727368,
           "timepoint": 30,
           "trajectory": "Example",
           "upper": 4.5056602780487705
          },
          {
           "lower": 1.9317980416106575,
           "timepoint": 31,
           "trajectory": "Example",
           "upper": 4.678962065184106
          },
          {
           "lower": 2.1434466243761805,
           "timepoint": 32,
           "trajectory": "Example",
           "upper": 4.853298978980401
          },
          {
           "lower": 2.4023547654549344,
           "timepoint": 33,
           "trajectory": "Example",
           "upper": 4.951400662306713
          },
          {
           "lower": 2.669155833453453,
           "timepoint": 34,
           "trajectory": "Example",
           "upper": 5.014911219214138
          },
          {
           "lower": 2.9283987865534886,
           "timepoint": 35,
           "trajectory": "Example",
           "upper": 5.155611670180577
          },
          {
           "lower": 3.080239559805876,
           "timepoint": 36,
           "trajectory": "Example",
           "upper": 5.157529270156245
          },
          {
           "lower": 3.099807615990659,
           "timepoint": 37,
           "trajectory": "Example",
           "upper": 5.168745442457012
          },
          {
           "lower": 3.136768181318409,
           "timepoint": 38,
           "trajectory": "Example",
           "upper": 5.173333568792614
          },
          {
           "lower": 2.905224016605022,
           "timepoint": 39,
           "trajectory": "Example",
           "upper": 5.185184011273019
          },
          {
           "lower": 2.674179584119326,
           "timepoint": 40,
           "trajectory": "Example",
           "upper": 5.123926715714846
          },
          {
           "lower": 2.4590000278905855,
           "timepoint": 41,
           "trajectory": "Example",
           "upper": 5.006778405068674
          },
          {
           "lower": 2.274044874404979,
           "timepoint": 42,
           "trajectory": "Example",
           "upper": 4.938882161152175
          },
          {
           "lower": 2.131776080759511,
           "timepoint": 43,
           "trajectory": "Example",
           "upper": 4.9442295918899
          },
          {
           "lower": 2.008545119964726,
           "timepoint": 44,
           "trajectory": "Example",
           "upper": 4.845072034107304
          },
          {
           "lower": 1.891689426871011,
           "timepoint": 45,
           "trajectory": "Example",
           "upper": 4.707583249276785
          },
          {
           "lower": 1.8867392917091483,
           "timepoint": 46,
           "trajectory": "Example",
           "upper": 4.541518691175985
          },
          {
           "lower": 1.8547583398175111,
           "timepoint": 47,
           "trajectory": "Example",
           "upper": 4.338376985824785
          },
          {
           "lower": 1.9273399596069878,
           "timepoint": 48,
           "trajectory": "Example",
           "upper": 4.111669955169503
          },
          {
           "lower": 2.0213059990587863,
           "timepoint": 49,
           "trajectory": "Example",
           "upper": 3.8763602935534567
          },
          {
           "lower": 1.9900323772293107,
           "timepoint": 50,
           "trajectory": "Example",
           "upper": 3.76308529276048
          },
          {
           "lower": 1.9326213730028907,
           "timepoint": 51,
           "trajectory": "Example",
           "upper": 3.884923899297019
          },
          {
           "lower": 1.8990811214720575,
           "timepoint": 52,
           "trajectory": "Example",
           "upper": 4.12716632122113
          },
          {
           "lower": 1.9274066541968744,
           "timepoint": 53,
           "trajectory": "Example",
           "upper": 4.380707957295633
          },
          {
           "lower": 2.0166399108691557,
           "timepoint": 54,
           "trajectory": "Example",
           "upper": 4.6305879007225315
          },
          {
           "lower": 2.1478521842843383,
           "timepoint": 55,
           "trajectory": "Example",
           "upper": 4.862061402664397
          },
          {
           "lower": 2.2873503584020107,
           "timepoint": 56,
           "trajectory": "Example",
           "upper": 5.030775548827157
          },
          {
           "lower": 2.482235593124226,
           "timepoint": 57,
           "trajectory": "Example",
           "upper": 5.204801258061105
          },
          {
           "lower": 2.7324998890716468,
           "timepoint": 58,
           "trajectory": "Example",
           "upper": 5.3001629553960345
          },
          {
           "lower": 2.9929518479897794,
           "timepoint": 59,
           "trajectory": "Example",
           "upper": 5.366987416317466
          },
          {
           "lower": 3.248137210017903,
           "timepoint": 60,
           "trajectory": "Example",
           "upper": 5.4915976204546935
          },
          {
           "lower": 3.4344241658675823,
           "timepoint": 61,
           "trajectory": "Example",
           "upper": 5.51122598882024
          },
          {
           "lower": 3.42882663626411,
           "timepoint": 62,
           "trajectory": "Example",
           "upper": 5.508924495484707
          },
          {
           "lower": 3.466078811068416,
           "timepoint": 63,
           "trajectory": "Example",
           "upper": 5.500644828306076
          },
          {
           "lower": 3.267826293523114,
           "timepoint": 64,
           "trajectory": "Example",
           "upper": 5.520370576218812
          },
          {
           "lower": 3.0308969822199945,
           "timepoint": 65,
           "trajectory": "Example",
           "upper": 5.462050199307491
          },
          {
           "lower": 2.8080009653459457,
           "timepoint": 66,
           "trajectory": "Example",
           "upper": 5.347163305026234
          },
          {
           "lower": 2.6136752812182467,
           "timepoint": 67,
           "trajectory": "Example",
           "upper": 5.252039737204817
          },
          {
           "lower": 2.460672838804576,
           "timepoint": 68,
           "trajectory": "Example",
           "upper": 5.264820157702064
          },
          {
           "lower": 2.3362274648137444,
           "timepoint": 69,
           "trajectory": "Example",
           "upper": 5.176218550376908
          },
          {
           "lower": 2.2086716472333086,
           "timepoint": 70,
           "trajectory": "Example",
           "upper": 5.030607311424267
          },
          {
           "lower": 2.1842637147671273,
           "timepoint": 71,
           "trajectory": "Example",
           "upper": 4.866340204625208
          },
          {
           "lower": 2.1498493774889353,
           "timepoint": 72,
           "trajectory": "Example",
           "upper": 4.663481768995079
          },
          {
           "lower": 2.2024730798724494,
           "timepoint": 73,
           "trajectory": "Example",
           "upper": 4.435279537810558
          },
          {
           "lower": 2.3247784133218503,
           "timepoint": 74,
           "trajectory": "Example",
           "upper": 4.196550149755589
          },
          {
           "lower": 2.2806933361220527,
           "timepoint": 75,
           "trajectory": "Example",
           "upper": 4.0601764886173415
          },
          {
           "lower": 2.2236007660907204,
           "timepoint": 76,
           "trajectory": "Example",
           "upper": 4.136381326317848
          },
          {
           "lower": 2.17861884619581,
           "timepoint": 77,
           "trajectory": "Example",
           "upper": 4.372661919135682
          },
          {
           "lower": 2.1954316952696145,
           "timepoint": 78,
           "trajectory": "Example",
           "upper": 4.622287285381608
          },
          {
           "lower": 2.273591156378797,
           "timepoint": 79,
           "trajectory": "Example",
           "upper": 4.870334113413631
          },
          {
           "lower": 2.4051066276935993,
           "timepoint": 80,
           "trajectory": "Example",
           "upper": 5.1019714701323595
          },
          {
           "lower": 2.5321639258037094,
           "timepoint": 81,
           "trajectory": "Example",
           "upper": 5.274035236163571
          },
          {
           "lower": 2.7137086329250444,
           "timepoint": 82,
           "trajectory": "Example",
           "upper": 5.447624707446897
          },
          {
           "lower": 2.9586213315948324,
           "timepoint": 83,
           "trajectory": "Example",
           "upper": 5.5514242670832346
          },
          {
           "lower": 3.215817733632626,
           "timepoint": 84,
           "trajectory": "Example",
           "upper": 5.617154775017107
          },
          {
           "lower": 3.469871040528735,
           "timepoint": 85,
           "trajectory": "Example",
           "upper": 5.728985802677509
          },
          {
           "lower": 3.6933326039857595,
           "timepoint": 86,
           "trajectory": "Example",
           "upper": 5.769248433311175
          },
          {
           "lower": 3.668170479795988,
           "timepoint": 87,
           "trajectory": "Example",
           "upper": 5.746312381164948
          },
          {
           "lower": 3.6989173885461897,
           "timepoint": 88,
           "trajectory": "Example",
           "upper": 5.737900159058941
          },
          {
           "lower": 3.544030153437333,
           "timepoint": 89,
           "trajectory": "Example",
           "upper": 5.768105031987224
          },
          {
           "lower": 3.3039792699999193,
           "timepoint": 90,
           "trajectory": "Example",
           "upper": 5.715288202757448
          },
          {
           "lower": 3.0760004638292124,
           "timepoint": 91,
           "trajectory": "Example",
           "upper": 5.605177460480781
          },
          {
           "lower": 2.874799471420475,
           "timepoint": 92,
           "trajectory": "Example",
           "upper": 5.493982069710757
          },
          {
           "lower": 2.7134127255771423,
           "timepoint": 93,
           "trajectory": "Example",
           "upper": 5.501574100458982
          },
          {
           "lower": 2.589696244912255,
           "timepoint": 94,
           "trajectory": "Example",
           "upper": 5.426340124420886
          },
          {
           "lower": 2.4535786868077465,
           "timepoint": 95,
           "trajectory": "Example",
           "upper": 5.279748096186871
          },
          {
           "lower": 2.4117397538281655,
           "timepoint": 96,
           "trajectory": "Example",
           "upper": 5.119373783133145
          },
          {
           "lower": 2.376704441033506,
           "timepoint": 97,
           "trajectory": "Example",
           "upper": 4.918857793654515
          },
          {
           "lower": 2.4109902572842574,
           "timepoint": 98,
           "trajectory": "Example",
           "upper": 4.691173237243058
          },
          {
           "lower": 2.552293499791152,
           "timepoint": 99,
           "trajectory": "Example",
           "upper": 4.450978512760391
          }
         ]
        },
        {
         "name": "traces",
         "transform": [
          {
           "expr": "isValid(datum.value)",
           "type": "filter"
          },
          {
           "sort": {
            "field": [
             "trajectory",
             "timepoint"
            ]
           },
           "type": "collect"
          }
         ],
         "values": [
          {
           "color_by": "Envelope Mean",
           "sample_id": 0,
           "timepoint": 0,
           "trajectory": "Envelope_Mean",
           "value": 0.2168932862217649
          },
          {
           "color_by": "Envelope Mean",
           "sample_id": 0,
           "timepoint": 1,
           "trajectory": "Envelope_Mean",
           "value": 1.2567284998968251
          },
          {
           "color_by": "Envelope Mean",
           "sample_id": 0,
           "timepoint": 2,
           "trajectory": "Envelope_Mean",
           "value": 1.5476989794656166
          },
          {
           "color_by": "Envelope Mean",
           "sample_id": 0,
           "timepoint": 3,
           "trajectory": "Envelope_Mean",
           "value": 1.8111880941818799
          },
          {
           "color_by": "Envelope Mean",
           "sample_id": 0,
           "timepoint": 4,
           "trajectory": "Envelope_Mean",
           "value": 2.0723142048498087
          },
          {
           "color_by": "Envelope Mean",
           "sample_id": 0,
           "timepoint": 5,
           "trajectory": "Envelope_Mean",
           "value": 2.315548094262249
          },
          {
           "color_by": "Envelope Mean",
           "sample_id": 0,
           "timepoint": 6,
           "trajectory": "Envelope_Mean",
           "value": 2.5331202418072722
          },
          {
           "color_by": "Envelope Mean",
           "sample_id": 0,
           "timepoint": 7,
           "trajectory": "Envelope_Mean",
           "value": 2.7684433120789067
          },
          {
           "color_by": "Envelope Mean",
           "sample_id": 0,
           "timepoint": 8,
           "trajectory": "Envelope_Mean",
           "value": 2.9849251730632065
          },
          {
           "color_by": "Envelope Mean",
           "sample_id": 0,
           "timepoint": 9,
           "trajectory": "Envelope_Mean",
           "value": 3.180393165020633
          },
          {
           "color_by": "Envelope Mean",
           "sample_id": 0,
           "timepoint": 10,
           "trajectory": "Envelope_Mean",
           "value": 3.40978197955008
          },
          {
           "color_by": "Envelope Mean",
           "sample_id": 0,
           "timepoint": 11,
           "trajectory": "Envelope_Mean",
           "value": 3.4809547545787884
          },
          {
           "color_by": "Envelope Mean",
           "sample_id": 0,
           "timepoint": 12,
           "trajectory": "Envelope_Mean",
           "value": 3.5360835300124736
          },
          {
           "color_by": "Envelope Mean",
           "sample_id": 0,
           "timepoint": 13,
           "trajectory": "Envelope_Mean",
           "value": 3.5579212729373273
          },
          {
           "color_by": "Envelope Mean",
           "sample_id": 0,
           "timepoint": 14,
           "trajectory": "Envelope_Mean",
           "value": 3.4605467064794917
          },
          {
           "color_by": "Envelope Mean",
           "sample_id": 0,
           "timepoint": 15,
           "trajectory": "Envelope_Mean",
           "value": 3.328950952048041
          },
          {
           "color_by": "Envelope Mean",
           "sample_id": 0,
           "timepoint": 16,
           "trajectory": "Envelope_Mean",
           "value": 3.183224113929109
          },
          {
           "color_by": "Envelope Mean",
           "sample_id": 0,
           "timepoint": 17,
           "trajectory": "Envelope_Mean",
           "value": 3.079989180319638
          },
          {
           "color_by": "Envelope Mean",
           "sample_id": 0,
           "timepoint": 18,
           "trajectory": "Envelope_Mean",
           "value": 3.023133230534551
          },
          {
           "color_by": "Envelope Mean",
           "sample_id": 0,
           "timepoint": 19,
           "trajectory": "Envelope_Mean",
           "value": 2.916394073870278
          },
          {
           "color_by": "Envelope Mean",
           "sample_id": 0,
           "timepoint": 20,
           "trajectory": "Envelope_Mean",
           "value": 2.810439224882288
          },
          {
           "color_by": "Envelope Mean",
           "sample_id": 0,
           "timepoint": 21,
           "trajectory": "Envelope_Mean",
           "value": 2.7364848886300046
          },
          {
           "color_by": "Envelope Mean",
           "sample_id": 0,
           "timepoint": 22,
           "trajectory": "Envelope_Mean",
           "value": 2.6288126022445404
          },
          {
           "color_by": "Envelope Mean",
           "sample_id": 0,
           "timepoint": 23,
           "trajectory": "Envelope_Mean",
           "value": 2.5691637588619636
          },
          {
           "color_by": "Envelope Mean",
           "sample_id": 0,
           "timepoint": 24,
           "trajectory": "Envelope_Mean",
           "value": 2.492282425417199
          },
          {
           "color_by": "Envelope Mean",
           "sample_id": 0,
           "timepoint": 25,
           "trajectory": "Envelope_Mean",
           "value": 2.4462271362751236
          },
          {
           "color_by": "Envelope Mean",
           "sample_id": 0,
           "timepoint": 26,
           "trajectory": "Envelope_Mean",
           "value": 2.5043083649826348
          },
          {
           "color_by": "Envelope Mean",
           "sample_id": 0,
           "timepoint": 27,
           "trajectory": "Envelope_Mean",
           "value": 2.622322724912406
          },
          {
           "color_by": "Envelope Mean",
           "sample_id": 0,
           "timepoint": 28,
           "trajectory": "Envelope_Mean",
           "value": 2.775583991249748
          },
          {
           "color_by": "Envelope Mean",
           "sample_id": 0,
           "timepoint": 29,
           "trajectory": "Envelope_Mean",
           "value": 2.955893773455967
          },
          {
           "color_by": "Envelope Mean",
           "sample_id": 0,
           "timepoint": 30,
           "trajectory": "Envelope_Mean",
           "value": 3.1423131744607535
          },
          {
           "color_by": "Envelope Mean",
           "sample_id": 0,
           "timepoint": 31,
           "trajectory": "Envelope_Mean",
           "value": 3.305380053397382
          },
          {
           "color_by": "Envelope Mean",
           "sample_id": 0,
           "timepoint": 32,
           "trajectory": "Envelope_Mean",
           "value": 3.4983728016782907
          },
          {
           "color_by": "Envelope Mean",
           "sample_id": 0,
           "timepoint": 33,
           "trajectory": "Envelope_Mean",
           "value": 3.676877713880824
          },
          {
           "color_by": "Envelope Mean",
           "sample_id": 0,
           "timepoint": 34,
           "trajectory": "Envelope_Mean",
           "value": 3.8420335263337955
          },
          {
           "color_by": "Envelope Mean",
           "sample_id": 0,
           "timepoint": 35,
           "trajectory": "Envelope_Mean",
           "value": 4.042005228367033
          },
          {
           "color_by": "Envelope Mean",
           "sample_id": 0,
           "timepoint": 36,
           "trajectory": "Envelope_Mean",
           "value": 4.118884414981061
          },
          {
           "color_by": "Envelope Mean",
           "sample_id": 0,
           "timepoint": 37,
           "trajectory": "Envelope_Mean",
           "value": 4.134276529223835
          },
          {
           "color_by": "Envelope Mean",
           "sample_id": 0,
           "timepoint": 38,
           "trajectory": "Envelope_Mean",
           "value": 4.155050875055512
          },
          {
           "color_by": "Envelope Mean",
           "sample_id": 0,
           "timepoint": 39,
           "trajectory": "Envelope_Mean",
           "value": 4.045204013939021
          },
          {
           "color_by": "Envelope Mean",
           "sample_id": 0,
           "timepoint": 40,
           "trajectory": "Envelope_Mean",
           "value": 3.8990531499170857
          },
          {
           "color_by": "Envelope Mean",
           "sample_id": 0,
           "timepoint": 41,
           "trajectory": "Envelope_Mean",
           "value": 3.73288921647963
          },
          {
           "color_by": "Envelope Mean",
           "sample_id": 0,
           "timepoint": 42,
           "trajectory": "Envelope_Mean",
           "value": 3.606463517778577
          },
          {
           "color_by": "Envelope Mean",
           "sample_id": 0,
           "timepoint": 43,
           "trajectory": "Envelope_Mean",
           "value": 3.538002836324705
          },
          {
           "color_by": "Envelope Mean",
           "sample_id": 0,
           "timepoint": 44,
           "trajectory": "Envelope_Mean",
           "value": 3.426808577036015
          },
          {
           "color_by": "Envelope Mean",
           "sample_id": 0,
           "timepoint": 45,
           "trajectory": "Envelope_Mean",
           "value": 3.299636338073898
          },
          {
           "color_by": "Envelope Mean",
           "sample_id": 0,
           "timepoint": 46,
           "trajectory": "Envelope_Mean",
           "value": 3.214128991442567
          },
          {
           "color_by": "Envelope Mean",
           "sample_id": 0,
           "timepoint": 47,
           "trajectory": "Envelope_Mean",
           "value": 3.096567662821148
          },
          {
           "color_by": "Envelope Mean",
           "sample_id": 0,
           "timepoint": 48,
           "trajectory": "Envelope_Mean",
           "value": 3.019504957388245
          },
          {
           "color_by": "Envelope Mean",
           "sample_id": 0,
           "timepoint": 49,
           "trajectory": "Envelope_Mean",
           "value": 2.9488331463061215
          },
          {
           "color_by": "Envelope Mean",
           "sample_id": 0,
           "timepoint": 50,
           "trajectory": "Envelope_Mean",
           "value": 2.8765588349948956
          },
          {
           "color_by": "Envelope Mean",
           "sample_id": 0,
           "timepoint": 51,
           "trajectory": "Envelope_Mean",
           "value": 2.908772636149955
          },
          {
           "color_by": "Envelope Mean",
           "sample_id": 0,
           "timepoint": 52,
           "trajectory": "Envelope_Mean",
           "value": 3.0131237213465933
          },
          {
           "color_by": "Envelope Mean",
           "sample_id": 0,
           "timepoint": 53,
           "trajectory": "Envelope_Mean",
           "value": 3.154057305746254
          },
          {
           "color_by": "Envelope Mean",
           "sample_id": 0,
           "timepoint": 54,
           "trajectory": "Envelope_Mean",
           "value": 3.3236139057958436
          },
          {
           "color_by": "Envelope Mean",
           "sample_id": 0,
           "timepoint": 55,
           "trajectory": "Envelope_Mean",
           "value": 3.5049567934743675
          },
          {
           "color_by": "Envelope Mean",
           "sample_id": 0,
           "timepoint": 56,
           "trajectory": "Envelope_Mean",
           "value": 3.6590629536145842
          },
          {
           "color_by": "Envelope Mean",
           "sample_id": 0,
           "timepoint": 57,
           "trajectory": "Envelope_Mean",
           "value": 3.8435184255926655
          },
          {
           "color_by": "Envelope Mean",
           "sample_id": 0,
           "timepoint": 58,
           "trajectory": "Envelope_Mean",
           "value": 4.016331422233841
          },
          {
           "color_by": "Envelope Mean",
           "sample_id": 0,
           "timepoint": 59,
           "trajectory": "Envelope_Mean",
           "value": 4.179969632153623
          },
          {
           "color_by": "Envelope Mean",
           "sample_id": 0,
           "timepoint": 60,
           "trajectory": "Envelope_Mean",
           "value": 4.369867415236298
          },
          {
           "color_by": "Envelope Mean",
           "sample_id": 0,
           "timepoint": 61,
           "trajectory": "Envelope_Mean",
           "value": 4.472825077343911
          },
          {
           "color_by": "Envelope Mean",
           "sample_id": 0,
           "timepoint": 62,
           "trajectory": "Envelope_Mean",
           "value": 4.468875565874408
          },
          {
           "color_by": "Envelope Mean",
           "sample_id": 0,
           "timepoint": 63,
           "trajectory": "Envelope_Mean",
           "value": 4.483361819687246
          },
          {
           "color_by": "Envelope Mean",
           "sample_id": 0,
           "timepoint": 64,
           "trajectory": "Envelope_Mean",
           "value": 4.394098434870963
          },
          {
           "color_by": "Envelope Mean",
           "sample_id": 0,
           "timepoint": 65,
           "trajectory": "Envelope_Mean",
           "value": 4.246473590763743
          },
          {
           "color_by": "Envelope Mean",
           "sample_id": 0,
           "timepoint": 66,
           "trajectory": "Envelope_Mean",
           "value": 4.0775821351860895
          },
          {
           "color_by": "Envelope Mean",
           "sample_id": 0,
           "timepoint": 67,
           "trajectory": "Envelope_Mean",
           "value": 3.932857509211532
          },
          {
           "color_by": "Envelope Mean",
           "sample_id": 0,
           "timepoint": 68,
           "trajectory": "Envelope_Mean",
           "value": 3.86274649825332
          },
          {
           "color_by": "Envelope Mean",
           "sample_id": 0,
           "timepoint": 69,
           "trajectory": "Envelope_Mean",
           "value": 3.7562230075953265
          },
          {
           "color_by": "Envelope Mean",
           "sample_id": 0,
           "timepoint": 70,
           "trajectory": "Envelope_Mean",
           "value": 3.6196394793287876
          },
          {
           "color_by": "Envelope Mean",
           "sample_id": 0,
           "timepoint": 71,
           "trajectory": "Envelope_Mean",
           "value": 3.5253019596961677
          },
          {
           "color_by": "Envelope Mean",
           "sample_id": 0,
           "timepoint": 72,
           "trajectory": "Envelope_Mean",
           "value": 3.406665573242007
          },
          {
           "color_by": "Envelope Mean",
           "sample_id": 0,
           "timepoint": 73,
           "trajectory": "Envelope_Mean",
           "value": 3.318876308841504
          },
          {
           "color_by": "Envelope Mean",
           "sample_id": 0,
           "timepoint": 74,
           "trajectory": "Envelope_Mean",
           "value": 3.2606642815387197
          },
          {
           "color_by": "Envelope Mean",
           "sample_id": 0,
           "timepoint": 75,
           "trajectory": "Envelope_Mean",
           "value": 3.1704349123696973
          },
          {
           "color_by": "Envelope Mean",
           "sample_id": 0,
           "timepoint": 76,
           "trajectory": "Envelope_Mean",
           "value": 3.179991046204284
          },
          {
           "color_by": "Envelope Mean",
           "sample_id": 0,
           "timepoint": 77,
           "trajectory": "Envelope_Mean",
           "value": 3.2756403826657463
          },
          {
           "color_by": "Envelope Mean",
           "sample_id": 0,
           "timepoint": 78,
           "trajectory": "Envelope_Mean",
           "value": 3.4088594903256113
          },
          {
           "color_by": "Envelope Mean",
           "sample_id": 0,
           "timepoint": 79,
           "trajectory": "Envelope_Mean",
           "value": 3.571962634896214
          },
          {
           "color_by": "Envelope Mean",
           "sample_id": 0,
           "timepoint": 80,
           "trajectory": "Envelope_Mean",
           "value": 3.7535390489129794
          },
          {
           "color_by": "Envelope Mean",
           "sample_id": 0,
           "timepoint": 81,
           "trajectory": "Envelope_Mean",
           "value": 3.90309958098364
          },
          {
           "color_by": "Envelope Mean",
           "sample_id": 0,
           "timepoint": 82,
           "trajectory": "Envelope_Mean",
           "value": 4.080666670185971
          },
          {
           "color_by": "Envelope Mean",
           "sample_id": 0,
           "timepoint": 83,
           "trajectory": "Envelope_Mean",
           "value": 4.2550227993390335
          },
          {
           "color_by": "Envelope Mean",
           "sample_id": 0,
           "timepoint": 84,
           "trajectory": "Envelope_Mean",
           "value": 4.416486254324866
          },
          {
           "color_by": "Envelope Mean",
           "sample_id": 0,
           "timepoint": 85,
           "trajectory": "Envelope_Mean",
           "value": 4.599428421603122
          },
          {
           "color_by": "Envelope Mean",
           "sample_id": 0,
           "timepoint": 86,
           "trajectory": "Envelope_Mean",
           "value": 4.731290518648467
          },
          {
           "color_by": "Envelope Mean",
           "sample_id": 0,
           "timepoint": 87,
           "trajectory": "Envelope_Mean",
           "value": 4.707241430480468
          },
          {
           "color_by": "Envelope Mean",
           "sample_id": 0,
           "timepoint": 88,
           "trajectory": "Envelope_Mean",
           "value": 4.718408773802565
          },
          {
           "color_by": "Envelope Mean",
           "sample_id": 0,
           "timepoint": 89,
           "trajectory": "Envelope_Mean",
           "value": 4.6560675927122785
          },
          {
           "color_by": "Envelope Mean",
           "sample_id": 0,
           "timepoint": 90,
           "trajectory": "Envelope_Mean",
           "value": 4.509633736378683
          },
          {
           "color_by": "Envelope Mean",
           "sample_id": 0,
           "timepoint": 91,
           "trajectory": "Envelope_Mean",
           "value": 4.340588962154997
          },
          {
           "color_by": "Envelope Mean",
           "sample_id": 0,
           "timepoint": 92,
           "trajectory": "Envelope_Mean",
           "value": 4.184390770565616
          },
          {
           "color_by": "Envelope Mean",
           "sample_id": 0,
           "timepoint": 93,
           "trajectory": "Envelope_Mean",
           "value": 4.107493413018062
          },
          {
           "color_by": "Envelope Mean",
           "sample_id": 0,
           "timepoint": 94,
           "trajectory": "Envelope_Mean",
           "value": 4.00801818466657
          },
          {
           "color_by": "Envelope Mean",
           "sample_id": 0,
           "timepoint": 95,
           "trajectory": "Envelope_Mean",
           "value": 3.8666633914973083
          },
          {
           "color_by": "Envelope Mean",
           "sample_id": 0,
           "timepoint": 96,
           "trajectory": "Envelope_Mean",
           "value": 3.7655567684806552
          },
          {
           "color_by": "Envelope Mean",
           "sample_id": 0,
           "timepoint": 97,
           "trajectory": "Envelope_Mean",
           "value": 3.6477811173440102
          },
          {
           "color_by": "Envelope Mean",
           "sample_id": 0,
           "timepoint": 98,
           "trajectory": "Envelope_Mean",
           "value": 3.551081747263658
          },
          {
           "color_by": "Envelope Mean",
           "sample_id": 0,
           "timepoint": 99,
           "trajectory": "Envelope_Mean",
           "value": 3.5016360062757714
          },
          {
           "color_by": "Chaos",
           "sample_id": 0,
           "timepoint": 0,
           "trajectory": "Chaos",
           "value": 1.1017313850766566
          },
          {
           "color_by": "Chaos",
           "sample_id": 0,
           "timepoint": 1,
           "trajectory": "Chaos",
           "value": 2.3496444348958008
          },
          {
           "color_by": "Chaos",
           "sample_id": 0,
           "timepoint": 2,
           "trajectory": "Chaos",
           "value": 2.7856696887760997
          },
          {
           "color_by": "Chaos",
           "sample_id": 0,
           "timepoint": 3,
           "trajectory": "Chaos",
           "value": 3.1429138582307043
          },
          {
           "color_by": "Chaos",
           "sample_id": 0,
           "timepoint": 4,
           "trajectory": "Chaos",
           "value": 3.440666068855405
          },
          {
           "color_by": "Chaos",
           "sample_id": 0,
           "timepoint": 5,
           "trajectory": "Chaos",
           "value": 3.678238390141436
          },
          {
           "color_by": "Chaos",
           "sample_id": 0,
           "timepoint": 6,
           "trajectory": "Chaos",
           "value": 3.8515092313264203
          },
          {
           "color_by": "Chaos",
           "sample_id": 0,
           "timepoint": 7,
           "trajectory": "Chaos",
           "value": 3.9571968877104142
          },
          {
           "color_by": "Chaos",
           "sample_id": 0,
           "timepoint": 8,
           "trajectory": "Chaos",
           "value": 3.9945215907078584
          },
          {
           "color_by": "Chaos",
           "sample_id": 0,
           "timepoint": 9,
           "trajectory": "Chaos",
           "value": 3.965913172291225
          },
          {
           "color_by": "Chaos",
           "sample_id": 0,
           "timepoint": 10,
           "trajectory": "Chaos",
           "value": 3.8772040801049523
          },
          {
           "color_by": "Chaos",
           "sample_id": 0,
           "timepoint": 11,
           "trajectory": "Chaos",
           "value": 3.737465735362977
          },
          {
           "color_by": "Chaos",
           "sample_id": 0,
           "timepoint": 12,
           "trajectory": "Chaos",
           "value": 3.55856879699736
          },
          {
           "color_by": "Chaos",
           "sample_id": 0,
           "timepoint": 13,
           "trajectory": "Chaos",
           "value": 3.354527507806564
          },
          {
           "color_by": "Chaos",
           "sample_id": 0,
           "timepoint": 14,
           "trajectory": "Chaos",
           "value": 3.140685668482696
          },
          {
           "color_by": "Chaos",
           "sample_id": 0,
           "timepoint": 15,
           "trajectory": "Chaos",
           "value": 2.9328040717321486
          },
          {
           "color_by": "Chaos",
           "sample_id": 0,
           "timepoint": 16,
           "trajectory": "Chaos",
           "value": 2.7461115094236623
          },
          {
           "color_by": "Chaos",
           "sample_id": 0,
           "timepoint": 17,
           "trajectory": "Chaos",
           "value": 2.594381646449609
          },
          {
           "color_by": "Chaos",
           "sample_id": 0,
           "timepoint": 18,
           "trajectory": "Chaos",
           "value": 2.4890952561345987
          },
          {
           "color_by": "Chaos",
           "sample_id": 0,
           "timepoint": 19,
           "trajectory": "Chaos",
           "value": 2.438741293326408
          },
          {
           "color_by": "Chaos",
           "sample_id": 0,
           "timepoint": 20,
           "trajectory": "Chaos",
           "value": 2.4483012073484525
          },
          {
           "color_by": "Chaos",
           "sample_id": 0,
           "timepoint": 21,
           "trajectory": "Chaos",
           "value": 2.518949220403579
          },
          {
           "color_by": "Chaos",
           "sample_id": 0,
           "timepoint": 22,
           "trajectory": "Chaos",
           "value": 2.647987681781773
          },
          {
           "color_by": "Chaos",
           "sample_id": 0,
           "timepoint": 23,
           "trajectory": "Chaos",
           "value": 2.829021865061834
          },
          {
           "color_by": "Chaos",
           "sample_id": 0,
           "timepoint": 24,
           "trajectory": "Chaos",
           "value": 3.0523635996823986
          },
          {
           "color_by": "Chaos",
           "sample_id": 0,
           "timepoint": 25,
           "trajectory": "Chaos",
           "value": 3.3056388377549553
          },
          {
           "color_by": "Chaos",
           "sample_id": 0,
           "timepoint": 26,
           "trajectory": "Chaos",
           "value": 3.5745615319970754
          },
          {
           "color_by": "Chaos",
           "sample_id": 0,
           "timepoint": 27,
           "trajectory": "Chaos",
           "value": 3.843825826970508
          },
          {
           "color_by": "Chaos",
           "sample_id": 0,
           "timepoint": 28,
           "trajectory": "Chaos",
           "value": 4.098061184837738
          },
          {
           "color_by": "Chaos",
           "sample_id": 0,
           "timepoint": 29,
           "trajectory": "Chaos",
           "value": 4.322791135108808
          },
          {
           "color_by": "Chaos",
           "sample_id": 0,
           "timepoint": 30,
           "trajectory": "Chaos",
           "value": 4.505336098140062
          },
          {
           "color_by": "Chaos",
           "sample_id": 0,
           "timepoint": 31,
           "trajectory": "Chaos",
           "value": 4.635604198215957
          },
          {
           "color_by": "Chaos",
           "sample_id": 0,
           "timepoint": 32,
           "trajectory": "Chaos",
           "value": 4.706720937569979
          },
          {
           "color_by": "Chaos",
           "sample_id": 0,
           "timepoint": 33,
           "trajectory": "Chaos",
           "value": 4.715458614629692
          },
          {
           "color_by": "Chaos",
           "sample_id": 0,
           "timepoint": 34,
           "trajectory": "Chaos",
           "value": 4.662438815179808
          },
          {
           "color_by": "Chaos",
           "sample_id": 0,
           "timepoint": 35,
           "trajectory": "Chaos",
           "value": 4.552095409912823
          },
          {
           "color_by": "Chaos",
           "sample_id": 0,
           "timepoint": 36,
           "trajectory": "Chaos",
           "value": 4.3924003787751555
          },
          {
           "color_by": "Chaos",
           "sample_id": 0,
           "timepoint": 37,
           "trajectory": "Chaos",
           "value": 4.194369525841003
          },
          {
           "color_by": "Chaos",
           "sample_id": 0,
           "timepoint": 38,
           "trajectory": "Chaos",
           "value": 3.971378831351471
          },
          {
           "color_by": "Chaos",
           "sample_id": 0,
           "timepoint": 39,
           "trajectory": "Chaos",
           "value": 3.738333959201202
          },
          {
           "color_by": "Chaos",
           "sample_id": 0,
           "timepoint": 40,
           "trajectory": "Chaos",
           "value": 3.510744566553492
          },
          {
           "color_by": "Chaos",
           "sample_id": 0,
           "timepoint": 41,
           "trajectory": "Chaos",
           "value": 3.303760979794696
          },
          {
           "color_by": "Chaos",
           "sample_id": 0,
           "timepoint": 42,
           "trajectory": "Chaos",
           "value": 3.1312331397258806
          },
          {
           "color_by": "Chaos",
           "sample_id": 0,
           "timepoint": 43,
           "trajectory": "Chaos",
           "value": 3.0048503332865106
          },
          {
           "color_by": "Chaos",
           "sample_id": 0,
           "timepoint": 44,
           "trajectory": "Chaos",
           "value": 2.9334152053294718
          },
          {
           "color_by": "Chaos",
           "sample_id": 0,
           "timepoint": 45,
           "trajectory": "Chaos",
           "value": 2.922297194347758
          },
          {
           "color_by": "Chaos",
           "sample_id": 0,
           "timepoint": 46,
           "trajectory": "Chaos",
           "value": 2.9730993797086454
          },
          {
           "color_by": "Chaos",
           "sample_id": 0,
           "timepoint": 47,
           "trajectory": "Chaos",
           "value": 3.083559458511969
          },
          {
           "color_by": "Chaos",
           "sample_id": 0,
           "timepoint": 48,
           "trajectory": "Chaos",
           "value": 3.247691012670874
          },
          {
           "color_by": "Chaos",
           "sample_id": 0,
           "timepoint": 49,
           "trajectory": "Chaos",
           "value": 3.456156286320854
          },
          {
           "color_by": "Chaos",
           "sample_id": 0,
           "timepoint": 50,
           "trajectory": "Chaos",
           "value": 3.696847299114074
          },
          {
           "color_by": "Chaos",
           "sample_id": 0,
           "timepoint": 51,
           "trajectory": "Chaos",
           "value": 3.9556391673265834
          },
          {
           "color_by": "Chaos",
           "sample_id": 0,
           "timepoint": 52,
           "trajectory": "Chaos",
           "value": 4.2172687973834755
          },
          {
           "color_by": "Chaos",
           "sample_id": 0,
           "timepoint": 53,
           "trajectory": "Chaos",
           "value": 4.466284321115382
          },
          {
           "color_by": "Chaos",
           "sample_id": 0,
           "timepoint": 54,
           "trajectory": "Chaos",
           "value": 4.6880062434679
          },
          {
           "color_by": "Chaos",
           "sample_id": 0,
           "timepoint": 55,
           "trajectory": "Chaos",
           "value": 4.8694405449728455
          },
          {
           "color_by": "Chaos",
           "sample_id": 0,
           "timepoint": 56,
           "trajectory": "Chaos",
           "value": 5.000086968342656
          },
          {
           "color_by": "Chaos",
           "sample_id": 0,
           "timepoint": 57,
           "trajectory": "Chaos",
           "value": 5.072592235343427
          },
          {
           "color_by": "Chaos",
           "sample_id": 0,
           "timepoint": 58,
           "trajectory": "Chaos",
           "value": 5.083207581453135
          },
          {
           "color_by": "Chaos",
           "sample_id": 0,
           "timepoint": 59,
           "trajectory": "Chaos",
           "value": 5.0320221622648535
          },
          {
           "color_by": "Chaos",
           "sample_id": 0,
           "timepoint": 60,
           "trajectory": "Chaos",
           "value": 4.922957820697407
          },
          {
           "color_by": "Chaos",
           "sample_id": 0,
           "timepoint": 61,
           "trajectory": "Chaos",
           "value": 4.763525541409317
          },
          {
           "color_by": "Chaos",
           "sample_id": 0,
           "timepoint": 62,
           "trajectory": "Chaos",
           "value": 4.564358735861122
          },
          {
           "color_by": "Chaos",
           "sample_id": 0,
           "timepoint": 63,
           "trajectory": "Chaos",
           "value": 4.338552376982863
          },
          {
           "color_by": "Chaos",
           "sample_id": 0,
           "timepoint": 64,
           "trajectory": "Chaos",
           "value": 4.100849073664526
          },
          {
           "color_by": "Chaos",
           "sample_id": 0,
           "timepoint": 65,
           "trajectory": "Chaos",
           "value": 3.866722691764224
          },
          {
           "color_by": "Chaos",
           "sample_id": 0,
           "timepoint": 66,
           "trajectory": "Chaos",
           "value": 3.651416498332634
          },
          {
           "color_by": "Chaos",
           "sample_id": 0,
           "timepoint": 67,
           "trajectory": "Chaos",
           "value": 3.468995633226098
          },
          {
           "color_by": "Chaos",
           "sample_id": 0,
           "timepoint": 68,
           "trajectory": "Chaos",
           "value": 3.3314728214256117
          },
          {
           "color_by": "Chaos",
           "sample_id": 0,
           "timepoint": 69,
           "trajectory": "Chaos",
           "value": 3.2480616855833047
          },
          {
           "color_by": "Chaos",
           "sample_id": 0,
           "timepoint": 70,
           "trajectory": "Chaos",
           "value": 3.22460408471435
          },
          {
           "color_by": "Chaos",
           "sample_id": 0,
           "timepoint": 71,
           "trajectory": "Chaos",
           "value": 3.2632070848133323
          },
          {
           "color_by": "Chaos",
           "sample_id": 0,
           "timepoint": 72,
           "trajectory": "Chaos",
           "value": 3.3621121332433406
          },
          {
           "color_by": "Chaos",
           "sample_id": 0,
           "timepoint": 73,
           "trajectory": "Chaos",
           "value": 3.5158045714098813
          },
          {
           "color_by": "Chaos",
           "sample_id": 0,
           "timepoint": 74,
           "trajectory": "Chaos",
           "value": 3.7153566771334194
          },
          {
           "color_by": "Chaos",
           "sample_id": 0,
           "timepoint": 75,
           "trajectory": "Chaos",
           "value": 3.9489829083633134
          },
          {
           "color_by": "Chaos",
           "sample_id": 0,
           "timepoint": 76,
           "trajectory": "Chaos",
           "value": 4.202772826200787
          },
          {
           "color_by": "Chaos",
           "sample_id": 0,
           "timepoint": 77,
           "trajectory": "Chaos",
           "value": 4.46155612793814
          },
          {
           "color_by": "Chaos",
           "sample_id": 0,
           "timepoint": 78,
           "trajectory": "Chaos",
           "value": 4.709846006840497
          },
          {
           "color_by": "Chaos",
           "sample_id": 0,
           "timepoint": 79,
           "trajectory": "Chaos",
           "value": 4.9328021854005595
          },
          {
           "color_by": "Chaos",
           "sample_id": 0,
           "timepoint": 80,
           "trajectory": "Chaos",
           "value": 5.117153745578513
          },
          {
           "color_by": "Chaos",
           "sample_id": 0,
           "timepoint": 81,
           "trajectory": "Chaos",
           "value": 5.25202437915233
          },
          {
           "color_by": "Chaos",
           "sample_id": 0,
           "timepoint": 82,
           "trajectory": "Chaos",
           "value": 5.329608748333948
          },
          {
           "color_by": "Chaos",
           "sample_id": 0,
           "timepoint": 83,
           "trajectory": "Chaos",
           "value": 5.345657904035947
          },
          {
           "color_by": "Chaos",
           "sample_id": 0,
           "timepoint": 84,
           "trajectory": "Chaos",
           "value": 5.299743581031214
          },
          {
           "color_by": "Chaos",
           "sample_id": 0,
           "timepoint": 85,
           "trajectory": "Chaos",
           "value": 5.195284937600264
          },
          {
           "color_by": "Chaos",
           "sample_id": 0,
           "timepoint": 86,
           "trajectory": "Chaos",
           "value": 5.039336077301242
          },
          {
           "color_by": "Chaos",
           "sample_id": 0,
           "timepoint": 87,
           "trajectory": "Chaos",
           "value": 4.8421475638965275
          },
          {
           "color_by": "Chaos",
           "sample_id": 0,
           "timepoint": 88,
           "trajectory": "Chaos",
           "value": 4.616529192471336
          },
          {
           "color_by": "Chaos",
           "sample_id": 0,
           "timepoint": 89,
           "trajectory": "Chaos",
           "value": 4.3770536366983706
          },
          {
           "color_by": "Chaos",
           "sample_id": 0,
           "timepoint": 90,
           "trajectory": "Chaos",
           "value": 4.13915048574491
          },
          {
           "color_by": "Chaos",
           "sample_id": 0,
           "timepoint": 91,
           "trajectory": "Chaos",
           "value": 3.9181469993522455
          },
          {
           "color_by": "Chaos",
           "sample_id": 0,
           "timepoint": 92,
           "trajectory": "Chaos",
           "value": 3.7283152224162546
          },
          {
           "color_by": "Chaos",
           "sample_id": 0,
           "timepoint": 93,
           "trajectory": "Chaos",
           "value": 3.5819847049881774
          },
          {
           "color_by": "Chaos",
           "sample_id": 0,
           "timepoint": 94,
           "trajectory": "Chaos",
           "value": 3.488775994581226
          },
          {
           "color_by": "Chaos",
           "sample_id": 0,
           "timepoint": 95,
           "trajectory": "Chaos",
           "value": 3.4550025586257123
          },
          {
           "color_by": "Chaos",
           "sample_id": 0,
           "timepoint": 96,
           "trajectory": "Chaos",
           "value": 3.4832783227390745
          },
          {
           "color_by": "Chaos",
           "sample_id": 0,
           "timepoint": 97,
           "trajectory": "Chaos",
           "value": 3.5723552262765295
          },
          {
           "color_by": "Chaos",
           "sample_id": 0,
           "timepoint": 98,
           "trajectory": "Chaos",
           "value": 3.717200895262801
          },
          {
           "color_by": "Chaos",
           "sample_id": 0,
           "timepoint": 99,
           "trajectory": "Chaos",
           "value": 3.9093116034650945
          },
          {
           "color_by": "Mean",
           "sample_id": 0,
           "timepoint": 0,
           "trajectory": "Mean",
           "value": 0.03462137877533045
          },
          {
           "color_by": "Mean",
           "sample_id": 0,
           "timepoint": 1,
           "trajectory": "Mean",
           "value": 1.0620325925246983
          },
          {
           "color_by": "Mean",
           "sample_id": 0,
           "timepoint": 2,
           "trajectory": "Mean",
           "value": 1.3391149292304907
          },
          {
           "color_by": "Mean",
           "sample_id": 0,
           "timepoint": 3,
           "trajectory": "Mean",
           "value": 1.6088574011682597
          },
          {
           "color_by": "Mean",
           "sample_id": 0,
           "timepoint": 4,
           "trajectory": "Mean",
           "value": 1.8959895656778096
          },
          {
           "color_by": "Mean",
           "sample_id": 0,
           "timepoint": 5,
           "trajectory": "Mean",
           "value": 2.200483795280456
          },
          {
           "color_by": "Mean",
           "sample_id": 0,
           "timepoint": 6,
           "trajectory": "Mean",
           "value": 2.51405761908569
          },
          {
           "color_by": "Mean",
           "sample_id": 0,
           "timepoint": 7,
           "trajectory": "Mean",
           "value": 2.824705972480695
          },
          {
           "color_by": "Mean",
           "sample_id": 0,
           "timepoint": 8,
           "trajectory": "Mean",
           "value": 3.118905623450769
          },
          {
           "color_by": "Mean",
           "sample_id": 0,
           "timepoint": 9,
           "trajectory": "Mean",
           "value": 3.3831151638570383
          },
          {
           "color_by": "Mean",
           "sample_id": 0,
           "timepoint": 10,
           "trajectory": "Mean",
           "value": 3.6049610389050706
          },
          {
           "color_by": "Mean",
           "sample_id": 0,
           "timepoint": 11,
           "trajectory": "Mean",
           "value": 3.77420586609471
          },
          {
           "color_by": "Mean",
           "sample_id": 0,
           "timepoint": 12,
           "trajectory": "Mean",
           "value": 3.883509227262986
          },
          {
           "color_by": "Mean",
           "sample_id": 0,
           "timepoint": 13,
           "trajectory": "Mean",
           "value": 3.9289664664588075
          },
          {
           "color_by": "Mean",
           "sample_id": 0,
           "timepoint": 14,
           "trajectory": "Mean",
           "value": 3.910408774305688
          },
          {
           "color_by": "Mean",
           "sample_id": 0,
           "timepoint": 15,
           "trajectory": "Mean",
           "value": 3.831455121082337
          },
          {
           "color_by": "Mean",
           "sample_id": 0,
           "timepoint": 16,
           "trajectory": "Mean",
           "value": 3.6993181835813216
          },
          {
           "color_by": "Mean",
           "sample_id": 0,
           "timepoint": 17,
           "trajectory": "Mean",
           "value": 3.524379622180359
          },
          {
           "color_by": "Mean",
           "sample_id": 0,
           "timepoint": 18,
           "trajectory": "Mean",
           "value": 3.3195632146627414
          },
          {
           "color_by": "Mean",
           "sample_id": 0,
           "timepoint": 19,
           "trajectory": "Mean",
           "value": 3.0995462102800984
          },
          {
           "color_by": "Mean",
           "sample_id": 0,
           "timepoint": 20,
           "trajectory": "Mean",
           "value": 2.879858884531358
          },
          {
           "color_by": "Mean",
           "sample_id": 0,
           "timepoint": 21,
           "trajectory": "Mean",
           "value": 2.6759289426473525
          },
          {
           "color_by": "Mean",
           "sample_id": 0,
           "timepoint": 22,
           "trajectory": "Mean",
           "value": 2.5021306612594696
          },
          {
           "color_by": "Mean",
           "sample_id": 0,
           "timepoint": 23,
           "trajectory": "Mean",
           "value": 2.370898235845777
          },
          {
           "color_by": "Mean",
           "sample_id": 0,
           "timepoint": 24,
           "trajectory": "Mean",
           "value": 2.2919587211347476
          },
          {
           "color_by": "Mean",
           "sample_id": 0,
           "timepoint": 25,
           "trajectory": "Mean",
           "value": 2.2717324532458707
          },
          {
           "color_by": "Mean",
           "sample_id": 0,
           "timepoint": 26,
           "trajectory": "Mean",
           "value": 2.312938383854383
          },
          {
           "color_by": "Mean",
           "sample_id": 0,
           "timepoint": 27,
           "trajectory": "Mean",
           "value": 2.4144289829565486
          },
          {
           "color_by": "Mean",
           "sample_id": 0,
           "timepoint": 28,
           "trajectory": "Mean",
           "value": 2.5712650685254395
          },
          {
           "color_by": "Mean",
           "sample_id": 0,
           "timepoint": 29,
           "trajectory": "Mean",
           "value": 2.7750259850768986
          },
          {
           "color_by": "Mean",
           "sample_id": 0,
           "timepoint": 30,
           "trajectory": "Mean",
           "value": 3.014335905922092
          },
          {
           "color_by": "Mean",
           "sample_id": 0,
           "timepoint": 31,
           "trajectory": "Mean",
           "value": 3.27557358520521
          },
          {
           "color_by": "Mean",
           "sample_id": 0,
           "timepoint": 32,
           "trajectory": "Mean",
           "value": 3.5437214710654827
          },
          {
           "color_by": "Mean",
           "sample_id": 0,
           "timepoint": 33,
           "trajectory": "Mean",
           "value": 3.803301419545565
          },
          {
           "color_by": "Mean",
           "sample_id": 0,
           "timepoint": 34,
           "trajectory": "Mean",
           "value": 4.039338858928048
          },
          {
           "color_by": "Mean",
           "sample_id": 0,
           "timepoint": 35,
           "trajectory": "Mean",
           "value": 4.238295480820815
          },
          {
           "color_by": "Mean",
           "sample_id": 0,
           "timepoint": 36,
           "trajectory": "Mean",
           "value": 4.388912487551828
          },
          {
           "color_by": "Mean",
           "sample_id": 0,
           "timepoint": 37,
           "trajectory": "Mean",
           "value": 4.482911983652539
          },
          {
           "color_by": "Mean",
           "sample_id": 0,
           "timepoint": 38,
           "trajectory": "Mean",
           "value": 4.515512916687079
          },
          {
           "color_by": "Mean",
           "sample_id": 0,
           "timepoint": 39,
           "trajectory": "Mean",
           "value": 4.485729501088571
          },
          {
           "color_by": "Mean",
           "sample_id": 0,
           "timepoint": 40,
           "trajectory": "Mean",
           "value": 4.396433581132789
          },
          {
           "color_by": "Mean",
           "sample_id": 0,
           "timepoint": 41,
           "trajectory": "Mean",
           "value": 4.254177064887653
          },
          {
           "color_by": "Mean",
           "sample_id": 0,
           "timepoint": 42,
           "trajectory": "Mean",
           "value": 4.068785477410165
          },
          {
           "color_by": "Mean",
           "sample_id": 0,
           "timepoint": 43,
           "trajectory": "Mean",
           "value": 3.8527479111491094
          },
          {
           "color_by": "Mean",
           "sample_id": 0,
           "timepoint": 44,
           "trajectory": "Mean",
           "value": 3.620441309687313
          },
          {
           "color_by": "Mean",
           "sample_id": 0,
           "timepoint": 45,
           "trajectory": "Mean",
           "value": 3.387237320571976
          },
          {
           "color_by": "Mean",
           "sample_id": 0,
           "timepoint": 46,
           "trajectory": "Mean",
           "value": 3.1685472536347694
          },
          {
           "color_by": "Mean",
           "sample_id": 0,
           "timepoint": 47,
           "trajectory": "Mean",
           "value": 2.9788645289589093
          },
          {
           "color_by": "Mean",
           "sample_id": 0,
           "timepoint": 48,
           "trajectory": "Mean",
           "value": 2.8308641542598347
          },
          {
           "color_by": "Mean",
           "sample_id": 0,
           "timepoint": 49,
           "trajectory": "Mean",
           "value": 2.7346152252229987
          },
          {
           "color_by": "Mean",
           "sample_id": 0,
           "timepoint": 50,
           "trajectory": "Mean",
           "value": 2.696955414764374
          },
          {
           "color_by": "Mean",
           "sample_id": 0,
           "timepoint": 51,
           "trajectory": "Mean",
           "value": 2.721066345179508
          },
          {
           "color_by": "Mean",
           "sample_id": 0,
           "timepoint": 52,
           "trajectory": "Mean",
           "value": 2.806276246947084
          },
          {
           "color_by": "Mean",
           "sample_id": 0,
           "timepoint": 53,
           "trajectory": "Mean",
           "value": 2.948102176127696
          },
          {
           "color_by": "Mean",
           "sample_id": 0,
           "timepoint": 54,
           "trajectory": "Mean",
           "value": 3.1385291674917752
          },
          {
           "color_by": "Mean",
           "sample_id": 0,
           "timepoint": 55,
           "trajectory": "Mean",
           "value": 3.3665089688054657
          },
          {
           "color_by": "Mean",
           "sample_id": 0,
           "timepoint": 56,
           "trajectory": "Mean",
           "value": 3.61864734904256
          },
          {
           "color_by": "Mean",
           "sample_id": 0,
           "timepoint": 57,
           "trajectory": "Mean",
           "value": 3.8800372485278767
          },
          {
           "color_by": "Mean",
           "sample_id": 0,
           "timepoint": 58,
           "trajectory": "Mean",
           "value": 4.135185971139354
          },
          {
           "color_by": "Mean",
           "sample_id": 0,
           "timepoint": 59,
           "trajectory": "Mean",
           "value": 4.368978771497346
          },
          {
           "color_by": "Mean",
           "sample_id": 0,
           "timepoint": 60,
           "trajectory": "Mean",
           "value": 4.567618927098868
          },
          {
           "color_by": "Mean",
           "sample_id": 0,
           "timepoint": 61,
           "trajectory": "Mean",
           "value": 4.719485847310985
          },
          {
           "color_by": "Mean",
           "sample_id": 0,
           "timepoint": 62,
           "trajectory": "Mean",
           "value": 4.815857867122483
          },
          {
           "color_by": "Mean",
           "sample_id": 0,
           "timepoint": 63,
           "trajectory": "Mean",
           "value": 4.851454786721579
          },
          {
           "color_by": "Mean",
           "sample_id": 0,
           "timepoint": 64,
           "trajectory": "Mean",
           "value": 4.824766425228738
          },
          {
           "color_by": "Mean",
           "sample_id": 0,
           "timepoint": 65,
           "trajectory": "Mean",
           "value": 4.738146761453626
          },
          {
           "color_by": "Mean",
           "sample_id": 0,
           "timepoint": 66,
           "trajectory": "Mean",
           "value": 4.597667809151075
          },
          {
           "color_by": "Mean",
           "sample_id": 0,
           "timepoint": 67,
           "trajectory": "Mean",
           "value": 4.412742312743876
          },
          {
           "color_by": "Mean",
           "sample_id": 0,
           "timepoint": 68,
           "trajectory": "Mean",
           "value": 4.195538723056315
          },
          {
           "color_by": "Mean",
           "sample_id": 0,
           "timepoint": 69,
           "trajectory": "Mean",
           "value": 3.9602248275819654
          },
          {
           "color_by": "Mean",
           "sample_id": 0,
           "timepoint": 70,
           "trajectory": "Mean",
           "value": 3.722087063200859
          },
          {
           "color_by": "Mean",
           "sample_id": 0,
           "timepoint": 71,
           "trajectory": "Mean",
           "value": 3.496580268688291
          },
          {
           "color_by": "Mean",
           "sample_id": 0,
           "timepoint": 72,
           "trajectory": "Mean",
           "value": 3.298366959241297
          },
          {
           "color_by": "Mean",
           "sample_id": 0,
           "timepoint": 73,
           "trajectory": "Mean",
           "value": 3.140405856688795
          },
          {
           "color_by": "Mean",
           "sample_id": 0,
           "timepoint": 74,
           "trajectory": "Mean",
           "value": 3.033146346543764
          },
          {
           "color_by": "Mean",
           "sample_id": 0,
           "timepoint": 75,
           "trajectory": "Mean",
           "value": 2.9838789470123595
          },
          {
           "color_by": "Mean",
           "sample_id": 0,
           "timepoint": 76,
           "trajectory": "Mean",
           "value": 2.9962821749835085
          },
          {
           "color_by": "Mean",
           "sample_id": 0,
           "timepoint": 77,
           "trajectory": "Mean",
           "value": 3.0701939829879654
          },
          {
           "color_by": "Mean",
           "sample_id": 0,
           "timepoint": 78,
           "trajectory": "Mean",
           "value": 3.201621978360638
          },
          {
           "color_by": "Mean",
           "sample_id": 0,
           "timepoint": 79,
           "trajectory": "Mean",
           "value": 3.382991789500768
          },
          {
           "color_by": "Mean",
           "sample_id": 0,
           "timepoint": 80,
           "trajectory": "Mean",
           "value": 3.6036181372744185
          },
          {
           "color_by": "Mean",
           "sample_id": 0,
           "timepoint": 81,
           "trajectory": "Mean",
           "value": 3.850369322860938
          },
          {
           "color_by": "Mean",
           "sample_id": 0,
           "timepoint": 82,
           "trajectory": "Mean",
           "value": 4.108483817632761
          },
          {
           "color_by": "Mean",
           "sample_id": 0,
           "timepoint": 83,
           "trajectory": "Mean",
           "value": 4.362488183676724
          },
          {
           "color_by": "Mean",
           "sample_id": 0,
           "timepoint": 84,
           "trajectory": "Mean",
           "value": 4.597159253303982
          },
          {
           "color_by": "Mean",
           "sample_id": 0,
           "timepoint": 85,
           "trajectory": "Mean",
           "value": 4.798470744074452
          },
          {
           "color_by": "Mean",
           "sample_id": 0,
           "timepoint": 86,
           "trajectory": "Mean",
           "value": 4.954465453575221
          },
          {
           "color_by": "Mean",
           "sample_id": 0,
           "timepoint": 87,
           "trajectory": "Mean",
           "value": 5.055998805272638
          },
          {
           "color_by": "Mean",
           "sample_id": 0,
           "timepoint": 88,
           "trajectory": "Mean",
           "value": 5.097307515515713
          },
          {
           "color_by": "Mean",
           "sample_id": 0,
           "timepoint": 89,
           "trajectory": "Mean",
           "value": 5.076368024879325
          },
          {
           "color_by": "Mean",
           "sample_id": 0,
           "timepoint": 90,
           "trajectory": "Mean",
           "value": 4.995022408462789
          },
          {
           "color_by": "Mean",
           "sample_id": 0,
           "timepoint": 91,
           "trajectory": "Mean",
           "value": 4.858863936783989
          },
          {
           "color_by": "Mean",
           "sample_id": 0,
           "timepoint": 92,
           "trajectory": "Mean",
           "value": 4.676889402664043
          },
          {
           "color_by": "Mean",
           "sample_id": 0,
           "timepoint": 93,
           "trajectory": "Mean",
           "value": 4.460939830851826
          },
          {
           "color_by": "Mean",
           "sample_id": 0,
           "timepoint": 94,
           "trajectory": "Mean",
           "value": 4.2249643444677485
          },
          {
           "color_by": "Mean",
           "sample_id": 0,
           "timepoint": 95,
           "trajectory": "Mean",
           "value": 3.984152957592736
          },
          {
           "color_by": "Mean",
           "sample_id": 0,
           "timepoint": 96,
           "trajectory": "Mean",
           "value": 3.7539922128603824
          },
          {
           "color_by": "Mean",
           "sample_id": 0,
           "timepoint": 97,
           "trajectory": "Mean",
           "value": 3.549302380029041
          },
          {
           "color_by": "Mean",
           "sample_id": 0,
           "timepoint": 98,
           "trajectory": "Mean",
           "value": 3.3833160779547837
          },
          {
           "color_by": "Mean",
           "sample_id": 0,
           "timepoint": 99,
           "trajectory": "Mean",
           "value": 3.266855606875173
          },
          {
           "color_by": "Random",
           "sample_id": 0,
           "timepoint": 0,
           "trajectory": "Random",
           "value": 1.2319329787984463
          },
          {
           "color_by": "Random",
           "sample_id": 0,
           "timepoint": 1,
           "trajectory": "Random",
           "value": 2.4751302404612954
          },
          {
           "color_by": "Random",
           "sample_id": 0,
           "timepoint": 2,
           "trajectory": "Random",
           "value": 2.9135932203972144
          },
          {
           "color_by": "Random",
           "sample_id": 0,
           "timepoint": 3,
           "trajectory": "Random",
           "value": 3.28027706412015
          },
          {
           "color_by": "Random",
           "sample_id": 0,
           "timepoint": 4,
           "trajectory": "Random",
           "value": 3.593883984000209
          },
          {
           "color_by": "Random",
           "sample_id": 0,
           "timepoint": 5,
           "trajectory": "Random",
           "value": 3.852740280498162
          },
          {
           "color_by": "Random",
           "sample_id": 0,
           "timepoint": 6,
           "trajectory": "Random",
           "value": 4.051401028360212
          },
          {
           "color_by": "Random",
           "sample_id": 0,
           "timepoint": 7,
           "trajectory": "Random",
           "value": 4.185005901463254
          },
          {
           "color_by": "Random",
           "sample_id": 0,
           "timepoint": 8,
           "trajectory": "Random",
           "value": 4.251039373900976
          },
          {
           "color_by": "Random",
           "sample_id": 0,
           "timepoint": 9,
           "trajectory": "Random",
           "value": 4.250146305410722
          },
          {
           "color_by": "Random",
           "sample_id": 0,
           "timepoint": 10,
           "trajectory": "Random",
           "value": 4.186435937415622
          },
          {
           "color_by": "Random",
           "sample_id": 0,
           "timepoint": 11,
           "trajectory": "Random",
           "value": 4.067425391538758
          },
          {
           "color_by": "Random",
           "sample_id": 0,
           "timepoint": 12,
           "trajectory": "Random",
           "value": 3.9036965725722226
          },
          {
           "color_by": "Random",
           "sample_id": 0,
           "timepoint": 13,
           "trajectory": "Random",
           "value": 3.7083206431158344
          },
          {
           "color_by": "Random",
           "sample_id": 0,
           "timepoint": 14,
           "trajectory": "Random",
           "value": 3.496102633763404
          },
          {
           "color_by": "Random",
           "sample_id": 0,
           "timepoint": 15,
           "trajectory": "Random",
           "value": 3.282702375338591
          },
          {
           "color_by": "Random",
           "sample_id": 0,
           "timepoint": 16,
           "trajectory": "Random",
           "value": 3.0836917833638395
          },
          {
           "color_by": "Random",
           "sample_id": 0,
           "timepoint": 17,
           "trajectory": "Random",
           "value": 2.913610398154762
          },
          {
           "color_by": "Random",
           "sample_id": 0,
           "timepoint": 18,
           "trajectory": "Random",
           "value": 2.7850800018043897
          },
          {
           "color_by": "Random",
           "sample_id": 0,
           "timepoint": 19,
           "trajectory": "Random",
           "value": 2.7080347488752636
          },
          {
           "color_by": "Random",
           "sample_id": 0,
           "timepoint": 20,
           "trajectory": "Random",
           "value": 2.6891156238333567
          },
          {
           "color_by": "Random",
           "sample_id": 0,
           "timepoint": 21,
           "trajectory": "Random",
           "value": 2.731267537594528
          },
          {
           "color_by": "Random",
           "sample_id": 0,
           "timepoint": 22,
           "trajectory": "Random",
           "value": 2.8335645888842462
          },
          {
           "color_by": "Random",
           "sample_id": 0,
           "timepoint": 23,
           "trajectory": "Random",
           "value": 2.991274702640699
          },
          {
           "color_by": "Random",
           "sample_id": 0,
           "timepoint": 24,
           "trajectory": "Random",
           "value": 3.196159885977205
          },
          {
           "color_by": "Random",
           "sample_id": 0,
           "timepoint": 25,
           "trajectory": "Random",
           "value": 3.4369936299712425
          },
          {
           "color_by": "Random",
           "sample_id": 0,
           "timepoint": 26,
           "trajectory": "Random",
           "value": 3.700263439182788
          },
          {
           "color_by": "Random",
           "sample_id": 0,
           "timepoint": 27,
           "trajectory": "Random",
           "value": 3.9710149271854864
          },
          {
           "color_by": "Random",
           "sample_id": 0,
           "timepoint": 28,
           "trajectory": "Random",
           "value": 4.233785089682367
          },
          {
           "color_by": "Random",
           "sample_id": 0,
           "timepoint": 29,
           "trajectory": "Random",
           "value": 4.4735668033692555
          },
          {
           "color_by": "Random",
           "sample_id": 0,
           "timepoint": 30,
           "trajectory": "Random",
           "value": 4.676744642855329
          },
          {
           "color_by": "Random",
           "sample_id": 0,
           "timepoint": 31,
           "trajectory": "Random",
           "value": 4.8319438801008
          },
          {
           "color_by": "Random",
           "sample_id": 0,
           "timepoint": 32,
           "trajectory": "Random",
           "value": 4.930739919981949
          },
          {
           "color_by": "Random",
           "sample_id": 0,
           "timepoint": 33,
           "trajectory": "Random",
           "value": 4.968184096082078
          },
          {
           "color_by": "Random",
           "sample_id": 0,
           "timepoint": 34,
           "trajectory": "Random",
           "value": 4.9431131631132335
          },
          {
           "color_by": "Random",
           "sample_id": 0,
           "timepoint": 35,
           "trajectory": "Random",
           "value": 4.858223266618255
          },
          {
           "color_by": "Random",
           "sample_id": 0,
           "timepoint": 36,
           "trajectory": "Random",
           "value": 4.719903810650186
          },
          {
           "color_by": "Random",
           "sample_id": 0,
           "timepoint": 37,
           "trajectory": "Random",
           "value": 4.537841569550091
          },
          {
           "color_by": "Random",
           "sample_id": 0,
           "timepoint": 38,
           "trajectory": "Random",
           "value": 4.324419672617951
          },
          {
           "color_by": "Random",
           "sample_id": 0,
           "timepoint": 39,
           "trajectory": "Random",
           "value": 4.093948842262007
          },
          {
           "color_by": "Random",
           "sample_id": 0,
           "timepoint": 40,
           "trajectory": "Random",
           "value": 3.8617786941939523
          },
          {
           "color_by": "Random",
           "sample_id": 0,
           "timepoint": 41,
           "trajectory": "Random",
           "value": 3.64334436398565
          },
          {
           "color_by": "Random",
           "sample_id": 0,
           "timepoint": 42,
           "trajectory": "Random",
           "value": 3.453207744205084
          },
          {
           "color_by": "Random",
           "sample_id": 0,
           "timepoint": 43,
           "trajectory": "Random",
           "value": 3.304152950427457
          },
          {
           "color_by": "Random",
           "sample_id": 0,
           "timepoint": 44,
           "trajectory": "Random",
           "value": 3.2063922618683596
          },
          {
           "color_by": "Random",
           "sample_id": 0,
           "timepoint": 45,
           "trajectory": "Random",
           "value": 3.1669319128732427
          },
          {
           "color_by": "Random",
           "sample_id": 0,
           "timepoint": 46,
           "trajectory": "Random",
           "value": 3.189137172113173
          },
          {
           "color_by": "Random",
           "sample_id": 0,
           "timepoint": 47,
           "trajectory": "Random",
           "value": 3.2725237550472235
          },
          {
           "color_by": "Random",
           "sample_id": 0,
           "timepoint": 48,
           "trajectory": "Random",
           "value": 3.412788542433346
          },
          {
           "color_by": "Random",
           "sample_id": 0,
           "timepoint": 49,
           "trajectory": "Random",
           "value": 3.602077698368161
          },
          {
           "color_by": "Random",
           "sample_id": 0,
           "timepoint": 50,
           "trajectory": "Random",
           "value": 3.8294755206253424
          },
          {
           "color_by": "Random",
           "sample_id": 0,
           "timepoint": 51,
           "trajectory": "Random",
           "value": 4.081683631683951
          },
          {
           "color_by": "Random",
           "sample_id": 0,
           "timepoint": 52,
           "trajectory": "Random",
           "value": 4.343848284100998
          },
          {
           "color_by": "Random",
           "sample_id": 0,
           "timepoint": 53,
           "trajectory": "Random",
           "value": 4.600484344608102
          },
          {
           "color_by": "Random",
           "sample_id": 0,
           "timepoint": 54,
           "trajectory": "Random",
           "value": 4.836438510083644
          },
          {
           "color_by": "Random",
           "sample_id": 0,
           "timepoint": 55,
           "trajectory": "Random",
           "value": 5.037831869114806
          },
          {
           "color_by": "Random",
           "sample_id": 0,
           "timepoint": 56,
           "trajectory": "Random",
           "value": 5.192923206887166
          },
          {
           "color_by": "Random",
           "sample_id": 0,
           "timepoint": 57,
           "trajectory": "Random",
           "value": 5.292839378786285
          },
          {
           "color_by": "Random",
           "sample_id": 0,
           "timepoint": 58,
           "trajectory": "Random",
           "value": 5.332127342986126
          },
          {
           "color_by": "Random",
           "sample_id": 0,
           "timepoint": 59,
           "trajectory": "Random",
           "value": 5.3090935305604825
          },
          {
           "color_by": "Random",
           "sample_id": 0,
           "timepoint": 60,
           "trajectory": "Random",
           "value": 5.225909453869773
          },
          {
           "color_by": "Random",
           "sample_id": 0,
           "timepoint": 61,
           "trajectory": "Random",
           "value": 5.088476988051507
          },
          {
           "color_by": "Random",
           "sample_id": 0,
           "timepoint": 62,
           "trajectory": "Random",
           "value": 4.906061702719036
          },
          {
           "color_by": "Random",
           "sample_id": 0,
           "timepoint": 63,
           "trajectory": "Random",
           "value": 4.690717042410055
          },
          {
           "color_by": "Random",
           "sample_id": 0,
           "timepoint": 64,
           "trajectory": "Random",
           "value": 4.456535158267929
          },
          {
           "color_by": "Random",
           "sample_id": 0,
           "timepoint": 65,
           "trajectory": "Random",
           "value": 4.218770971362106
          },
          {
           "color_by": "Random",
           "sample_id": 0,
           "timepoint": 66,
           "trajectory": "Random",
           "value": 3.99289392983909
          },
          {
           "color_by": "Random",
           "sample_id": 0,
           "timepoint": 67,
           "trajectory": "Random",
           "value": 3.793626417690472
          },
          {
           "color_by": "Random",
           "sample_id": 0,
           "timepoint": 68,
           "trajectory": "Random",
           "value": 3.6340286028149182
          },
          {
           "color_by": "Random",
           "sample_id": 0,
           "timepoint": 69,
           "trajectory": "Random",
           "value": 3.5246866246372255
          },
          {
           "color_by": "Random",
           "sample_id": 0,
           "timepoint": 70,
           "trajectory": "Random",
           "value": 3.473054596354987
          },
          {
           "color_by": "Random",
           "sample_id": 0,
           "timepoint": 71,
           "trajectory": "Random",
           "value": 3.482991333398723
          },
          {
           "color_by": "Random",
           "sample_id": 0,
           "timepoint": 72,
           "trajectory": "Random",
           "value": 3.5545206125255113
          },
          {
           "color_by": "Random",
           "sample_id": 0,
           "timepoint": 73,
           "trajectory": "Random",
           "value": 3.6838298678837473
          },
          {
           "color_by": "Random",
           "sample_id": 0,
           "timepoint": 74,
           "trajectory": "Random",
           "value": 3.8635074055028893
          },
          {
           "color_by": "Random",
           "sample_id": 0,
           "timepoint": 75,
           "trajectory": "Random",
           "value": 4.083003387716121
          },
          {
           "color_by": "Random",
           "sample_id": 0,
           "timepoint": 76,
           "trajectory": "Random",
           "value": 4.329285926069774
          },
          {
           "color_by": "Random",
           "sample_id": 0,
           "timepoint": 77,
           "trajectory": "Random",
           "value": 4.58765149035105
          },
          {
           "color_by": "Random",
           "sample_id": 0,
           "timepoint": 78,
           "trajectory": "Random",
           "value": 4.8426392467168125
          },
          {
           "color_by": "Random",
           "sample_id": 0,
           "timepoint": 79,
           "trajectory": "Random",
           "value": 5.078992476079732
          },
          {
           "color_by": "Random",
           "sample_id": 0,
           "timepoint": 80,
           "trajectory": "Random",
           "value": 5.282607296668635
          },
          {
           "color_by": "Random",
           "sample_id": 0,
           "timepoint": 81,
           "trajectory": "Random",
           "value": 5.441409704029224
          },
          {
           "color_by": "Random",
           "sample_id": 0,
           "timepoint": 82,
           "trajectory": "Random",
           "value": 5.546106398591041
          },
          {
           "color_by": "Random",
           "sample_id": 0,
           "timepoint": 83,
           "trajectory": "Random",
           "value": 5.590762718190938
          },
          {
           "color_by": "Random",
           "sample_id": 0,
           "timepoint": 84,
           "trajectory": "Random",
           "value": 5.573171742707174
          },
          {
           "color_by": "Random",
           "sample_id": 0,
           "timepoint": 85,
           "trajectory": "Random",
           "value": 5.49499162185332
          },
          {
           "color_by": "Random",
           "sample_id": 0,
           "timepoint": 86,
           "trajectory": "Random",
           "value": 5.3616425879316285
          },
          {
           "color_by": "Random",
           "sample_id": 0,
           "timepoint": 87,
           "trajectory": "Random",
           "value": 5.181970056960818
          },
          {
           "color_by": "Random",
           "sample_id": 0,
           "timepoint": 88,
           "trajectory": "Random",
           "value": 4.967694765075646
          },
          {
           "color_by": "Random",
           "sample_id": 0,
           "timepoint": 89,
           "trajectory": "Random",
           "value": 4.732684128202331
          },
          {
           "color_by": "Random",
           "sample_id": 0,
           "timepoint": 90,
           "trajectory": "Random",
           "value": 4.4920901284764545
          },
          {
           "color_by": "Random",
           "sample_id": 0,
           "timepoint": 91,
           "trajectory": "Random",
           "value": 4.2614073295830615
          },
          {
           "color_by": "Random",
           "sample_id": 0,
           "timepoint": 92,
           "trajectory": "Random",
           "value": 4.055509589188338
          },
          {
           "color_by": "Random",
           "sample_id": 0,
           "timepoint": 93,
           "trajectory": "Random",
           "value": 3.8877253611371563
          },
          {
           "color_by": "Random",
           "sample_id": 0,
           "timepoint": 94,
           "trajectory": "Random",
           "value": 3.769009080759916
          },
          {
           "color_by": "Random",
           "sample_id": 0,
           "timepoint": 95,
           "trajectory": "Random",
           "value": 3.707260152643775
          },
          {
           "color_by": "Random",
           "sample_id": 0,
           "timepoint": 96,
           "trajectory": "Random",
           "value": 3.706831883011624
          },
          {
           "color_by": "Random",
           "sample_id": 0,
           "timepoint": 97,
           "trajectory": "Random",
           "value": 3.7682608890112466
          },
          {
           "color_by": "Random",
           "sample_id": 0,
           "timepoint": 98,
           "trajectory": "Random",
           "value": 3.888233809025855
          },
          {
           "color_by": "Random",
           "sample_id": 0,
           "timepoint": 99,
           "trajectory": "Random",
           "value": 4.05979338388451
          },
          {
           "color_by": "Variance",
           "sample_id": 0,
           "timepoint": 0,
           "trajectory": "Variance",
           "value": 0.03462137877533045
          },
          {
           "color_by": "Variance",
           "sample_id": 0,
           "timepoint": 1,
           "trajectory": "Variance",
           "value": 1.0620325925246983
          },
          {
           "color_by": "Variance",
           "sample_id": 0,
           "timepoint": 2,
           "trajectory": "Variance",
           "value": 1.3391149292304907
          },
          {
           "color_by": "Variance",
           "sample_id": 0,
           "timepoint": 3,
           "trajectory": "Variance",
           "value": 1.6088574011682597
          },
          {
           "color_by": "Variance",
           "sample_id": 0,
           "timepoint": 4,
           "trajectory": "Variance",
           "value": 1.8959895656778096
          },
          {
           "color_by": "Variance",
           "sample_id": 0,
           "timepoint": 5,
           "trajectory": "Variance",
           "value": 2.200483795280456
          },
          {
           "color_by": "Variance",
           "sample_id": 0,
           "timepoint": 6,
           "trajectory": "Variance",
           "value": 2.51405761908569
          },
          {
           "color_by": "Variance",
           "sample_id": 0,
           "timepoint": 7,
           "trajectory": "Variance",
           "value": 2.824705972480695
          },
          {
           "color_by": "Variance",
           "sample_id": 0,
           "timepoint": 8,
           "trajectory": "Variance",
           "value": 3.118905623450769
          },
          {
           "color_by": "Variance",
           "sample_id": 0,
           "timepoint": 9,
           "trajectory": "Variance",
           "value": 3.3831151638570383
          },
          {
           "color_by": "Variance",
           "sample_id": 0,
           "timepoint": 10,
           "trajectory": "Variance",
           "value": 3.6049610389050706
          },
          {
           "color_by": "Variance",
           "sample_id": 0,
           "timepoint": 11,
           "trajectory": "Variance",
           "value": 3.77420586609471
          },
          {
           "color_by": "Variance",
           "sample_id": 0,
           "timepoint": 12,
           "trajectory": "Variance",
           "value": 3.883509227262986
          },
          {
           "color_by": "Variance",
           "sample_id": 0,
           "timepoint": 13,
           "trajectory": "Variance",
           "value": 3.9289664664588075
          },
          {
           "color_by": "Variance",
           "sample_id": 0,
           "timepoint": 14,
           "trajectory": "Variance",
           "value": 3.910408774305688
          },
          {
           "color_by": "Variance",
           "sample_id": 0,
           "timepoint": 15,
           "trajectory": "Variance",
           "value": 3.831455121082337
          },
          {
           "color_by": "Variance",
           "sample_id": 0,
           "timepoint": 16,
           "trajectory": "Variance",
           "value": 3.6993181835813216
          },
          {
           "color_by": "Variance",
           "sample_id": 0,
           "timepoint": 17,
           "trajectory": "Variance",
           "value": 3.524379622180359
          },
          {
           "color_by": "Variance",
           "sample_id": 0,
           "timepoint": 18,
           "trajectory": "Variance",
           "value": 3.3195632146627414
          },
          {
           "color_by": "Variance",
           "sample_id": 0,
           "timepoint": 19,
           "trajectory": "Variance",
           "value": 3.0995462102800984
          },
          {
           "color_by": "Variance",
           "sample_id": 0,
           "timepoint": 20,
           "trajectory": "Variance",
           "value": 2.879858884531358
          },
          {
           "color_by": "Variance",
           "sample_id": 0,
           "timepoint": 21,
           "trajectory": "Variance",
           "value": 2.6759289426473525
          },
          {
           "color_by": "Variance",
           "sample_id": 0,
           "timepoint": 22,
           "trajectory": "Variance",
           "value": 2.5021306612594696
          },
          {
           "color_by": "Variance",
           "sample_id": 0,
           "timepoint": 23,
           "trajectory": "Variance",
           "value": 2.370898235845777
          },
          {
           "color_by": "Variance",
           "sample_id": 0,
           "timepoint": 24,
           "trajectory": "Variance",
           "value": 2.2919587211347476
          },
          {
           "color_by": "Variance",
           "sample_id": 0,
           "timepoint": 25,
           "trajectory": "Variance",
           "value": 2.2717324532458707
          },
          {
           "color_by": "Variance",
           "sample_id": 0,
           "timepoint": 26,
           "trajectory": "Variance",
           "value": 2.312938383854383
          },
          {
           "color_by": "Variance",
           "sample_id": 0,
           "timepoint": 27,
           "trajectory": "Variance",
           "value": 2.4144289829565486
          },
          {
           "color_by": "Variance",
           "sample_id": 0,
           "timepoint": 28,
           "trajectory": "Variance",
           "value": 2.5712650685254395
          },
          {
           "color_by": "Variance",
           "sample_id": 0,
           "timepoint": 29,
           "trajectory": "Variance",
           "value": 2.7750259850768986
          },
          {
           "color_by": "Variance",
           "sample_id": 0,
           "timepoint": 30,
           "trajectory": "Variance",
           "value": 3.014335905922092
          },
          {
           "color_by": "Variance",
           "sample_id": 0,
           "timepoint": 31,
           "trajectory": "Variance",
           "value": 3.27557358520521
          },
          {
           "color_by": "Variance",
           "sample_id": 0,
           "timepoint": 32,
           "trajectory": "Variance",
           "value": 3.5437214710654827
          },
          {
           "color_by": "Variance",
           "sample_id": 0,
           "timepoint": 33,
           "trajectory": "Variance",
           "value": 3.803301419545565
          },
          {
           "color_by": "Variance",
           "sample_id": 0,
           "timepoint": 34,
           "trajectory": "Variance",
           "value": 4.039338858928048
          },
          {
           "color_by": "Variance",
           "sample_id": 0,
           "timepoint": 35,
           "trajectory": "Variance",
           "value": 4.238295480820815
          },
          {
           "color_by": "Variance",
           "sample_id": 0,
           "timepoint": 36,
           "trajectory": "Variance",
           "value": 4.388912487551828
          },
          {
           "color_by": "Variance",
           "sample_id": 0,
           "timepoint": 37,
           "trajectory": "Variance",
           "value": 4.482911983652539
          },
          {
           "color_by": "Variance",
           "sample_id": 0,
           "timepoint": 38,
           "trajectory": "Variance",
           "value": 4.515512916687079
          },
          {
           "color_by": "Variance",
           "sample_id": 0,
           "timepoint": 39,
           "trajectory": "Variance",
           "value": 4.485729501088571
          },
          {
           "color_by": "Variance",
           "sample_id": 0,
           "timepoint": 40,
           "trajectory": "Variance",
           "value": 4.396433581132789
          },
          {
           "color_by": "Variance",
           "sample_id": 0,
           "timepoint": 41,
           "trajectory": "Variance",
           "value": 4.254177064887653
          },
          {
           "color_by": "Variance",
           "sample_id": 0,
           "timepoint": 42,
           "trajectory": "Variance",
           "value": 4.068785477410165
          },
          {
           "color_by": "Variance",
           "sample_id": 0,
           "timepoint": 43,
           "trajectory": "Variance",
           "value": 3.8527479111491094
          },
          {
           "color_by": "Variance",
           "sample_id": 0,
           "timepoint": 44,
           "trajectory": "Variance",
           "value": 3.620441309687313
          },
          {
           "color_by": "Variance",
           "sample_id": 0,
           "timepoint": 45,
           "trajectory": "Variance",
           "value": 3.387237320571976
          },
          {
           "color_by": "Variance",
           "sample_id": 0,
           "timepoint": 46,
           "trajectory": "Variance",
           "value": 3.1685472536347694
          },
          {
           "color_by": "Variance",
           "sample_id": 0,
           "timepoint": 47,
           "trajectory": "Variance",
           "value": 2.9788645289589093
          },
          {
           "color_by": "Variance",
           "sample_id": 0,
           "timepoint": 48,
           "trajectory": "Variance",
           "value": 2.8308641542598347
          },
          {
           "color_by": "Variance",
           "sample_id": 0,
           "timepoint": 49,
           "trajectory": "Variance",
           "value": 2.7346152252229987
          },
          {
           "color_by": "Variance",
           "sample_id": 0,
           "timepoint": 50,
           "trajectory": "Variance",
           "value": 2.696955414764374
          },
          {
           "color_by": "Variance",
           "sample_id": 0,
           "timepoint": 51,
           "trajectory": "Variance",
           "value": 2.721066345179508
          },
          {
           "color_by": "Variance",
           "sample_id": 0,
           "timepoint": 52,
           "trajectory": "Variance",
           "value": 2.806276246947084
          },
          {
           "color_by": "Variance",
           "sample_id": 0,
           "timepoint": 53,
           "trajectory": "Variance",
           "value": 2.948102176127696
          },
          {
           "color_by": "Variance",
           "sample_id": 0,
           "timepoint": 54,
           "trajectory": "Variance",
           "value": 3.1385291674917752
          },
          {
           "color_by": "Variance",
           "sample_id": 0,
           "timepoint": 55,
           "trajectory": "Variance",
           "value": 3.3665089688054657
          },
          {
           "color_by": "Variance",
           "sample_id": 0,
           "timepoint": 56,
           "trajectory": "Variance",
           "value": 3.61864734904256
          },
          {
           "color_by": "Variance",
           "sample_id": 0,
           "timepoint": 57,
           "trajectory": "Variance",
           "value": 3.8800372485278767
          },
          {
           "color_by": "Variance",
           "sample_id": 0,
           "timepoint": 58,
           "trajectory": "Variance",
           "value": 4.135185971139354
          },
          {
           "color_by": "Variance",
           "sample_id": 0,
           "timepoint": 59,
           "trajectory": "Variance",
           "value": 4.368978771497346
          },
          {
           "color_by": "Variance",
           "sample_id": 0,
           "timepoint": 60,
           "trajectory": "Variance",
           "value": 4.567618927098868
          },
          {
           "color_by": "Variance",
           "sample_id": 0,
           "timepoint": 61,
           "trajectory": "Variance",
           "value": 4.719485847310985
          },
          {
           "color_by": "Variance",
           "sample_id": 0,
           "timepoint": 62,
           "trajectory": "Variance",
           "value": 4.815857867122483
          },
          {
           "color_by": "Variance",
           "sample_id": 0,
           "timepoint": 63,
           "trajectory": "Variance",
           "value": 4.851454786721579
          },
          {
           "color_by": "Variance",
           "sample_id": 0,
           "timepoint": 64,
           "trajectory": "Variance",
           "value": 4.824766425228738
          },
          {
           "color_by": "Variance",
           "sample_id": 0,
           "timepoint": 65,
           "trajectory": "Variance",
           "value": 4.738146761453626
          },
          {
           "color_by": "Variance",
           "sample_id": 0,
           "timepoint": 66,
           "trajectory": "Variance",
           "value": 4.597667809151075
          },
          {
           "color_by": "Variance",
           "sample_id": 0,
           "timepoint": 67,
           "trajectory": "Variance",
           "value": 4.412742312743876
          },
          {
           "color_by": "Variance",
           "sample_id": 0,
           "timepoint": 68,
           "trajectory": "Variance",
           "value": 4.195538723056315
          },
          {
           "color_by": "Variance",
           "sample_id": 0,
           "timepoint": 69,
           "trajectory": "Variance",
           "value": 3.9602248275819654
          },
          {
           "color_by": "Variance",
           "sample_id": 0,
           "timepoint": 70,
           "trajectory": "Variance",
           "value": 3.722087063200859
          },
          {
           "color_by": "Variance",
           "sample_id": 0,
           "timepoint": 71,
           "trajectory": "Variance",
           "value": 3.496580268688291
          },
          {
           "color_by": "Variance",
           "sample_id": 0,
           "timepoint": 72,
           "trajectory": "Variance",
           "value": 3.298366959241297
          },
          {
           "color_by": "Variance",
           "sample_id": 0,
           "timepoint": 73,
           "trajectory": "Variance",
           "value": 3.140405856688795
          },
          {
           "color_by": "Variance",
           "sample_id": 0,
           "timepoint": 74,
           "trajectory": "Variance",
           "value": 3.033146346543764
          },
          {
           "color_by": "Variance",
           "sample_id": 0,
           "timepoint": 75,
           "trajectory": "Variance",
           "value": 2.9838789470123595
          },
          {
           "color_by": "Variance",
           "sample_id": 0,
           "timepoint": 76,
           "trajectory": "Variance",
           "value": 2.9962821749835085
          },
          {
           "color_by": "Variance",
           "sample_id": 0,
           "timepoint": 77,
           "trajectory": "Variance",
           "value": 3.0701939829879654
          },
          {
           "color_by": "Variance",
           "sample_id": 0,
           "timepoint": 78,
           "trajectory": "Variance",
           "value": 3.201621978360638
          },
          {
           "color_by": "Variance",
           "sample_id": 0,
           "timepoint": 79,
           "trajectory": "Variance",
           "value": 3.382991789500768
          },
          {
           "color_by": "Variance",
           "sample_id": 0,
           "timepoint": 80,
           "trajectory": "Variance",
           "value": 3.6036181372744185
          },
          {
           "color_by": "Variance",
           "sample_id": 0,
           "timepoint": 81,
           "trajectory": "Variance",
           "value": 3.850369322860938
          },
          {
           "color_by": "Variance",
           "sample_id": 0,
           "timepoint": 82,
           "trajectory": "Variance",
           "value": 4.108483817632761
          },
          {
           "color_by": "Variance",
           "sample_id": 0,
           "timepoint": 83,
           "trajectory": "Variance",
           "value": 4.362488183676724
          },
          {
           "color_by": "Variance",
           "sample_id": 0,
           "timepoint": 84,
           "trajectory": "Variance",
           "value": 4.597159253303982
          },
          {
           "color_by": "Variance",
           "sample_id": 0,
           "timepoint": 85,
           "trajectory": "Variance",
           "value": 4.798470744074452
          },
          {
           "color_by": "Variance",
           "sample_id": 0,
           "timepoint": 86,
           "trajectory": "Variance",
           "value": 4.954465453575221
          },
          {
           "color_by": "Variance",
           "sample_id": 0,
           "timepoint": 87,
           "trajectory": "Variance",
           "value": 5.055998805272638
          },
          {
           "color_by": "Variance",
           "sample_id": 0,
           "timepoint": 88,
           "trajectory": "Variance",
           "value": 5.097307515515713
          },
          {
           "color_by": "Variance",
           "sample_id": 0,
           "timepoint": 89,
           "trajectory": "Variance",
           "value": 5.076368024879325
          },
          {
           "color_by": "Variance",
           "sample_id": 0,
           "timepoint": 90,
           "trajectory": "Variance",
           "value": 4.995022408462789
          },
          {
           "color_by": "Variance",
           "sample_id": 0,
           "timepoint": 91,
           "trajectory": "Variance",
           "value": 4.858863936783989
          },
          {
           "color_by": "Variance",
           "sample_id": 0,
           "timepoint": 92,
           "trajectory": "Variance",
           "value": 4.676889402664043
          },
          {
           "color_by": "Variance",
           "sample_id": 0,
           "timepoint": 93,
           "trajectory": "Variance",
           "value": 4.460939830851826
          },
          {
           "color_by": "Variance",
           "sample_id": 0,
           "timepoint": 94,
           "trajectory": "Variance",
           "value": 4.2249643444677485
          },
          {
           "color_by": "Variance",
           "sample_id": 0,
           "timepoint": 95,
           "trajectory": "Variance",
           "value": 3.984152957592736
          },
          {
           "color_by": "Variance",
           "sample_id": 0,
           "timepoint": 96,
           "trajectory": "Variance",
           "value": 3.7539922128603824
          },
          {
           "color_by": "Variance",
           "sample_id": 0,
           "timepoint": 97,
           "trajectory": "Variance",
           "value": 3.549302380029041
          },
          {
           "color_by": "Variance",
           "sample_id": 0,
           "timepoint": 98,
           "trajectory": "Variance",
           "value": 3.3833160779547837
          },
          {
           "color_by": "Variance",
           "sample_id": 0,
           "timepoint": 99,
           "trajectory": "Variance",
           "value": 3.266855606875173
          }
         ]
        },
        {
         "name": "points",
         "values": []
        },
        {
         "name": "markers",
         "values": []
        },
        {
         "name": "selected",
         "on": [
          {
           "remove": true,
           "trigger": "clear"
          },
          {
           "remove": true,
           "trigger": "!shift"
          },
          {
           "insert": "clicked",
           "trigger": "!shift && clicked"
          },
          {
           "toggle": "clicked",
           "trigger": "shift && clicked"
          }
         ]
        },
        {
         "name": "selectedData",
         "on": [
          {
           "remove": true,
           "trigger": "clearData"
          },
          {
           "toggle": "clickedData",
           "trigger": "clickedData"
          }
         ]
        }
       ],
       "height": 300,
       "legends": [
        {
         "encode": {
          "labels": {
           "interactive": true,
           "name": "legendLabel",
           "size": {
            "value": 25
           },
           "update": {
            "opacity": [
             {
              "test": "!length(data('selectedData')) || indata('selectedData', 'value', datum.value)",
              "value": 1
             },
             {
              "value": 0.25
             }
            ]
           }
          },
          "symbols": {
           "interactive": true,
           "name": "legendSymbol",
           "update": {
            "fill": {
             "value": "transparent"
            },
            "opacity": [
             {
              "test": "!length(data('selected')) || indata('selected', 'value', datum.value) || indata('selectedData', 'value', datum.value)",
              "value": 0.7
             },
             {
              "value": 0.15
             }
            ],
            "size": {
             "value": 64
            },
            "strokeWidth": {
             "value": 2
            }
           }
          }
         },
         "name": "color_legend",
         "orient": "left",
         "stroke": "color"
        }
       ],
       "marks": [
        {
         "from": {
          "facet": {
           "data": "points",
           "groupby": "trajectory",
           "name": "points_split"
          }
         },
         "marks": [
          {
           "encode": {
            "hover": {
             "fillOpacity": {
              "value": 0.9
             }
            },
            "update": {
             "fill": {
              "field": "trajectory",
              "scale": "color"
             },
             "fillOpacity": [
              {
               "test": "!length(data('selected')) || indata('selected', 'value', datum.trajectory)",
               "value": 0.5
              },
              {
               "value": 0.15
              }
             ],
             "size": {
              "value": 35
             },
             "stroke": {
              "field": "trajectory",
              "scale": "color"
             },
             "strokeOpacity": [
              {
               "test": "!length(data('selected')) || indata('selected', 'value', datum.trajectory)",
               "value": 0.75
              },
              {
               "value": 0.15
              }
             ],
             "strokeWidth": {
              "value": 2
             },
             "tooltip": {
              "field": "value"
             },
             "x": {
              "field": "timepoint",
              "scale": "xscale"
             },
             "y": {
              "field": "value",
              "scale": "yscale"
             }
            }
           },
           "from": {
            "data": "points_split"
           },
           "name": "_points_symbol",
           "type": "symbol",
           "zindex": 3
          },
          {
           "encode": {
            "hover": {
             "fillOpacity": {
              "value": 0.9
             }
            },
            "update": {
             "interpolate": {
              "value": "linear"
             },
             "stroke": {
              "field": "trajectory",
              "scale": "color"
             },
             "strokeDash": {
              "value": [
               5,
               3
              ]
             },
             "strokeOpacity": [
              {
               "test": "!length(data('selected')) || indata('selected', 'value', datum.trajectory)",
               "value": 0.3
              },
              {
               "value": 0.1
              }
             ],
             "strokeWidth": {
              "value": 2
             },
             "x": {
              "field": "timepoint",
              "scale": "xscale"
             },
             "y": {
              "field": "value",
              "scale": "yscale"
             }
            }
           },
           "from": {
            "data": "points_split"
           },
           "name": "_points_line",
           "type": "line",
           "zindex": 3
          }
         ],
         "name": "_points",
         "type": "group",
         "zindex": 3
        },
        {
         "from": {
          "facet": {
           "data": "traces",
           "groupby": "trajectory",
           "name": "traces_split"
          }
         },
         "marks": [
          {
           "encode": {
            "hover": {
             "fillOpacity": {
              "value": 0.9
             }
            },
            "update": {
             "interpolate": {
              "value": "linear"
             },
             "stroke": {
              "field": "trajectory",
              "scale": "color"
             },
             "strokeDash": [
              {
               "test": "indexof(datum.trajectory, 'Baseline') != -1 || indexof(datum.trajectory, 'Envelope') != -1",
               "value": [
                8,
                4
               ]
              },
              {
               "value": [
                1,
                0
               ]
              }
             ],
             "strokeOpacity": [
              {
               "test": "!length(data('selected')) || indata('selected', 'value', datum.trajectory)",
               "value": 0.75
              },
              {
               "value": 0.15
              }
             ],
             "strokeWidth": {
              "value": 2
             },
             "x": {
              "field": "timepoint",
              "scale": "xscale"
             },
             "y": {
              "field": "value",
              "scale": "yscale"
             }
            }
           },
           "from": {
            "data": "traces_split"
           },
           "name": "_traces_lines",
           "type": "line"
          }
         ],
         "name": "_traces",
         "type": "group",
         "zindex": 2
        },
        {
         "from": {
          "facet": {
           "data": "distributions",
           "groupby": "trajectory",
           "name": "trajectory_split"
          }
         },
         "marks": [
          {
           "encode": {
            "hover": {
             "fillOpacity": {
              "value": 0.9
             }
            },
            "update": {
             "fill": {
              "field": "trajectory",
              "scale": "color"
             },
             "fillOpacity": [
              {
               "test": "!length(data('selected')) || indata('selected', 'value', datum.trajectory)",
               "value": 0.1
              },
              {
               "value": 0.05
              }
             ],
             "interpolate": {
              "value": "linear"
             },
             "stroke": {
              "field": "trajectory",
              "scale": "color"
             },
             "strokeOpacity": [
              {
               "test": "!length(data('selected')) || indata('selected', 'value', datum.trajectory)",
               "value": 0.1
              },
              {
               "value": 0.05
              }
             ],
             "strokeWidth": {
              "value": 2
             },
             "x": {
              "field": "timepoint",
              "scale": "xscale"
             },
             "y": {
              "field": "upper",
              "scale": "yscale"
             },
             "y2": {
              "field": "lower",
              "scale": "yscale"
             }
            }
           },
           "from": {
            "data": "trajectory_split"
           },
           "interactive": true,
           "name": "area",
           "type": "area"
          }
         ],
         "name": "_distributions",
         "type": "group",
         "zindex": 1
        },
        {
         "marks": [
          {
           "encode": {
            "enter": {
             "stroke": {
              "value": "lightgray"
             }
            },
            "update": {
             "opacity": {
              "value": 1
             },
             "x": {
              "field": "timepoint",
              "scale": "xscale"
             },
             "y": {
              "signal": "height"
             },
             "y2": {
              "value": 0
             }
            }
           },
           "from": {
            "data": "markers"
           },
           "name": "_marker text",
           "type": "rule"
          },
          {
           "encode": {
            "enter": {
             "fontSize": {
              "value": 8
             },
             "text": {
              "field": "datum.label"
             },
             "y": {
              "value": 0
             }
            }
           },
           "from": {
            "data": "_marker text"
           },
           "name": "_marker flags",
           "transform": [
            {
             "as": [
              "x",
              "_y",
              "opacity",
              "align",
              "baseline"
             ],
             "lineAnchor": "start",
             "offset": [
              1
             ],
             "size": {
              "signal": "[width, height]"
             },
             "type": "label"
            }
           ],
           "type": "text"
          }
         ],
         "name": "_markers",
         "type": "group"
        }
       ],
       "scales": [
        {
         "domain": {
          "fields": [
           {
            "data": "distributions",
            "field": "timepoint"
           },
           {
            "data": "traces",
            "field": "timepoint"
           },
           {
            "data": "points",
            "field": "timepoint"
           },
           {
            "data": "markers",
            "field": "timepoint"
           }
          ]
         },
         "name": "xscale",
         "range": "width",
         "type": "linear",
         "zero": false
        },
        {
         "domain": {
          "fields": [
           {
            "data": "distributions",
            "field": "lower"
           },
           {
            "data": "distributions",
            "field": "upper"
           },
           {
            "data": "traces",
            "field": "value"
           },
           {
            "data": "points",
            "field": "value"
           }
          ]
         },
         "name": "yscale",
         "nice": true,
         "range": "height",
         "type": "linear",
         "zero": true
        },
        {
         "domain": {
          "fields": [
           {
            "data": "distributions",
            "field": "trajectory"
           },
           {
            "data": "traces",
            "field": "trajectory"
           },
           {
            "data": "points",
            "field": "trajectory"
           }
          ],
          "sort": {
           "order": "ascending"
          }
         },
         "name": "color",
         "range": "category",
         "type": "ordinal"
        }
       ],
       "signals": [
        {
         "name": "clear",
         "on": [
          {
           "events": "mouseup[!event.item]",
           "force": true,
           "update": "true"
          }
         ],
         "value": true
        },
        {
         "name": "shift",
         "on": [
          {
           "events": "@legendSymbol:click, @legendLabel:click",
           "force": true,
           "update": "event.shiftKey"
          }
         ],
         "value": false
        },
        {
         "name": "clicked",
         "on": [
          {
           "events": "@legendSymbol:click, @legendLabel:click",
           "force": true,
           "update": "{value: datum.value}"
          }
         ],
         "value": null
        },
        {
         "name": "clearData",
         "on": [
          {
           "events": "mouseup[!event.item]",
           "force": true,
           "update": "true"
          }
         ],
         "value": true
        },
        {
         "name": "clickedData",
         "on": [
          {
           "events": "@area:click",
           "force": true,
           "update": "{value: datum.trajectory}"
          }
         ],
         "value": null
        }
       ],
       "width": 500
      }
     },
     "metadata": {},
     "output_type": "display_data"
    },
    {
     "name": "stderr",
     "output_type": "stream",
     "text": [
      "/var/folders/vn/q5vrjvfn60bfsnnd058cb6ww0000gn/T/ipykernel_795/4188316938.py:106: FutureWarning: The provided callable <function mean at 0x10d51e170> is currently using DataFrameGroupBy.mean. In a future version of pandas, the provided callable will be used directly. To keep current behavior pass the string \"mean\" instead.\n",
      "  parameters_by_sample_id = all_parameters_cluster.groupby(\"sample_id\").agg(np.mean)\n",
      "/var/folders/vn/q5vrjvfn60bfsnnd058cb6ww0000gn/T/ipykernel_795/4188316938.py:107: FutureWarning: The provided callable <function mean at 0x10d51e170> is currently using Series.mean. In a future version of pandas, the provided callable will be used directly. To keep current behavior pass the string \"mean\" instead.\n",
      "  parameters_by_sample_id  = parameters_by_sample_id.agg([np.mean, np.std]).reset_index()\n",
      "/var/folders/vn/q5vrjvfn60bfsnnd058cb6ww0000gn/T/ipykernel_795/4188316938.py:107: FutureWarning: The provided callable <function std at 0x10d51e290> is currently using Series.std. In a future version of pandas, the provided callable will be used directly. To keep current behavior pass the string \"std\" instead.\n",
      "  parameters_by_sample_id  = parameters_by_sample_id.agg([np.mean, np.std]).reset_index()\n"
     ]
    }
   ],
   "source": [
    "\n",
    "name = \"Phase_Change\" #All_Changes\n",
    "timepoint_list = []\n",
    "sine_list = []\n",
    "sample_list = []\n",
    "\n",
    "\n",
    "def save_result(data, name, ref_ext):\n",
    "    \"\"\"Save new reference files\"\"\"\n",
    "    _output_root = 'output'\n",
    "    mode = \"w\" if ref_ext == \"svg\" else \"wb\"\n",
    "    with open(os.path.join(_output_root, f\"{name}.{ref_ext}\"), mode) as f:\n",
    "        f.write(data)\n",
    "kmean = True\n",
    "run_functions =   [name] #[\"Straight\", \"Amp_Change\", \"Freq_Change\", \"Phase_Change\"]# #, [name]\n",
    "n_cluster = 3\n",
    "# create sine fucntions\n",
    "def return_sine_function_3(function_name):\n",
    "        if function_name == \"Straight\":\n",
    "                a, b, c, d = 0, 0, 0, random.uniform(0, 2)\n",
    "                a2, b2, c2, d2 = 0, 0, 0, 1\n",
    "        if function_name == \"Amp_Change\":\n",
    "                a, b, c, d = 1*random.uniform(0, 2), .25, 2*np.pi, random.uniform(0, 2)\n",
    "                a2, b2, c2, d2 = 1, .25, 2*np.pi, 1\n",
    "        if function_name == \"Freq_Change\":\n",
    "                a, b, c, d = 1, .25*random.uniform(0, 2), 2*np.pi, random.uniform(0, 2)\n",
    "                a2, b2, c2, d2 = 1, .25, 2*np.pi, 1\n",
    "        if function_name == \"Phase_Change\":\n",
    "                a, b, c, d = 1, .25, 2*np.pi*random.uniform(0, 2), random.uniform(0, 2)\n",
    "                a2, b2, c2, d2 = 1, .25, 2*np.pi, 1\n",
    "        def sine_function(x):\n",
    "                return np.power(x, .25) + a*np.sin(b*x + c) + d\n",
    "        def sine_function_default(x):\n",
    "                return np.power(x, .25) + a2*np.sin(b2*x + c2) + d2\n",
    "        function_parameters_individual = {'a': a,  'b': b, 'c': c,  'd': d}\n",
    "        function_parameters_default = {'a': a2, 'b': b2, 'c': c2, 'd': d2}\n",
    "        \n",
    "        return sine_function, sine_function_default, function_parameters_individual, function_parameters_default\n",
    "\n",
    "function_dataframe = pd.DataFrame(columns=['functions', 'sample_id', 'a', 'b',  'c',  'd'])\n",
    "function_list = []\n",
    "j = 0\n",
    "all_functions ={}\n",
    "\n",
    "# create sine dataframes and save the parameters used\n",
    "for funct_name in run_functions:\n",
    "        for _ in range(100):\n",
    "                j+=1\n",
    "                timepoint_list.extend([x for x in range(100)])\n",
    "                sample_list.extend([j]*100)\n",
    "                random_function,  sine_function_default, function_parameters_individual, function_parameters_default = return_sine_function_3(funct_name)\n",
    "\n",
    "                function_parameters_individual['functions'] = funct_name\n",
    "                function_parameters_individual['sample_id'] = j\n",
    "                function_list.append(function_parameters_individual)\n",
    "                sine_list.extend([random_function(x) for x in range(100)])\n",
    "        all_functions[funct_name] = sine_function_default \n",
    "        function_parameters_default['functions'] = funct_name + \" Default\"\n",
    "        function_parameters_default['sample_id'] = None\n",
    "\n",
    "#keep track of parameters\n",
    "function_dataframe = pd.DataFrame(function_list)\n",
    "function_default_dataframe =  pd.DataFrame(function_parameters_default, index=[0])\n",
    "\n",
    "\n",
    "sine_distribution= pd.DataFrame({'timepoint_id' : timepoint_list,\n",
    "                   'sample_id' : sample_list,\n",
    "                   'Example': sine_list})\n",
    "\n",
    "\n",
    "traces_list = []   \n",
    "\n",
    "# get examplary lines\n",
    "#change kmean here to use clustering\n",
    "examplary_line, trajectory_dict = pyciemss.visuals.trajectories.select_traces(sine_distribution,  select_by_list = ['mean', \"variance\", 'chaos', 'random'], kmean=kmean, n_clusters = n_cluster)\n",
    "# get the sample'id for the examplary data used per sample_id and select_by\n",
    "best_samples_cluster = examplary_line[['sample_id', 'select_by', 'cluster']].drop_duplicates()\n",
    "best_samples_df_list = []\n",
    "parameters_by_sample_id_list = []\n",
    "# for each cluster create a new plot\n",
    "for cluster in list(np.unique(examplary_line['cluster'])): \n",
    "        # for distribution only use the sample_ids in the cluster\n",
    "       \n",
    "        cluster_sample_id = trajectory_dict[cluster.lower()]['cluster_sample_id']  \n",
    "        cluster_sine_distribution =  sine_distribution[sine_distribution[\"sample_id\"].isin(cluster_sample_id)]\n",
    "        current_cluster_df = examplary_line[examplary_line['cluster'] == cluster]\n",
    "        current_cluster_df = current_cluster_df.reset_index()\n",
    "        # get right format to use as traces\n",
    "        examplary_lines_pivot = current_cluster_df[['examplary_line', 'envelope_mean', 'timepoint', 'select_by']].pivot_table(\n",
    "        values=\"examplary_line\", index = [\"timepoint\", 'envelope_mean'], columns=\"select_by\"\n",
    "        )\n",
    "        examplary_lines_pivot = examplary_lines_pivot.reset_index()\n",
    "        examplary_lines_pivot = examplary_lines_pivot.rename(columns = {'envelope_mean': 'Envelope_Mean'})\n",
    "        if len(run_functions) == 1 and not kmean:\n",
    "                # get baseline for sine functions\n",
    "                for function_name, function in all_functions.items():\n",
    "                        examplary_lines_pivot[\"Baseline_\" + function_name.title()] = [function(x) for x in range(100)]\n",
    "        #plot the traces along with the baselines\n",
    "        schema = plots.trajectories(cluster_sine_distribution[['timepoint_id', 'sample_id', 'Example']], traces = examplary_lines_pivot)\n",
    "        path = \"{}_{}\".format(name, cluster)\n",
    "        image = plots.ipy_display(schema, format=\"PNG\").data\n",
    "        save_result(image, path, \"png\")\n",
    "        plots.ipy_display(schema, format=\"interactive\")\n",
    "\n",
    "        # get average and std of parameter cluster\n",
    "        all_parameters_cluster = cluster_sine_distribution.merge(function_dataframe, how=\"inner\", on=\"sample_id\")[['sample_id', 'a', 'b', 'c', 'd']]\n",
    "        parameters_by_sample_id = all_parameters_cluster.groupby(\"sample_id\").agg(np.mean)\n",
    "        parameters_by_sample_id  = parameters_by_sample_id.agg([np.mean, np.std]).reset_index()\n",
    "        parameters_by_sample_id['cluster'] = cluster\n",
    "        parameters_by_sample_id['num'] = len(cluster_sample_id)\n",
    "        parameters_by_sample_id_list.append(parameters_by_sample_id)\n",
    "\n",
    "parameters_metrics = pd.concat(parameters_by_sample_id_list)\n",
    "\n",
    "parameters_metrics.to_csv(\"output/{}_{}parameter_info.csv\".format(name,kmean))\n",
    "if len(run_functions) == 1 and not kmean:\n",
    "        # clean up table to get the parameters of the samples id's used for examplary\n",
    "        all_clusters = best_samples_cluster.merge(function_dataframe, how=\"inner\", on=\"sample_id\")\n",
    "        all_clusters = pd.concat([all_clusters, function_default_dataframe])[['functions', 'select_by', 'a', 'b', 'c', 'd']]\n",
    "        all_clusters = all_clusters.rename(columns = {'functions': 'Function Name', 'select_by': \"Selection Method\"})\n",
    "        all_clusters[\"Function Name\"] = all_clusters[\"Function Name\"].apply(lambda x: x.replace(\"_\", \" \").title())\n",
    "        all_clusters[\"Examplar #\"] = all_clusters[\"Selection Method\"].apply(lambda x: 1 if len(str(x).split(\"_\")) < 2 else str(x).split(\"_\")[1])\n",
    "        all_clusters[\"Selection Method\"] = all_clusters[\"Selection Method\"].apply(lambda x:  str(x).split(\"_\")[0])\n",
    "        all_clusters = all_clusters.round(2)\n",
    "\n",
    "\n",
    "        all_clusters.to_csv(\"output/{}.csv\".format(name))\n",
    "        # table with sine variables of starting function and the formula of the best select_by lines and metrics1"
   ]
  },
  {
   "cell_type": "code",
   "execution_count": 14,
   "metadata": {},
   "outputs": [
    {
     "name": "stdout",
     "output_type": "stream",
     "text": [
      "\n",
      "Granger Causality\n",
      "number of lags (no zero) 10\n",
      "ssr based F test:         F=1.6088  , p=0.1224  , df_denom=69, df_num=10\n",
      "ssr based chi2 test:   chi2=20.9840 , p=0.0212  , df=10\n",
      "likelihood ratio test: chi2=18.8618 , p=0.0421  , df=10\n",
      "parameter F test:         F=1.6088  , p=0.1224  , df_denom=69, df_num=10\n",
      "\n",
      "Granger Causality\n",
      "number of lags (no zero) 10\n",
      "ssr based F test:         F=0.7004  , p=0.7208  , df_denom=69, df_num=10\n",
      "ssr based chi2 test:   chi2=9.1357  , p=0.5193  , df=10\n",
      "likelihood ratio test: chi2=8.7012  , p=0.5607  , df=10\n",
      "parameter F test:         F=0.7004  , p=0.7208  , df_denom=69, df_num=10\n",
      "\n",
      "Granger Causality\n",
      "number of lags (no zero) 10\n",
      "ssr based F test:         F=0.5957  , p=0.8121  , df_denom=69, df_num=10\n",
      "ssr based chi2 test:   chi2=7.7699  , p=0.6513  , df=10\n",
      "likelihood ratio test: chi2=7.4526  , p=0.6821  , df=10\n",
      "parameter F test:         F=0.5957  , p=0.8121  , df_denom=69, df_num=10\n",
      "\n",
      "Granger Causality\n",
      "number of lags (no zero) 10\n",
      "ssr based F test:         F=1.7724  , p=0.0823  , df_denom=69, df_num=10\n",
      "ssr based chi2 test:   chi2=23.1177 , p=0.0103  , df=10\n",
      "likelihood ratio test: chi2=20.5757 , p=0.0243  , df=10\n",
      "parameter F test:         F=1.7724  , p=0.0823  , df_denom=69, df_num=10\n",
      "\n",
      "Granger Causality\n",
      "number of lags (no zero) 10\n",
      "ssr based F test:         F=0.5142  , p=0.8745  , df_denom=69, df_num=10\n",
      "ssr based chi2 test:   chi2=6.7068  , p=0.7528  , df=10\n",
      "likelihood ratio test: chi2=6.4687  , p=0.7745  , df=10\n",
      "parameter F test:         F=0.5142  , p=0.8745  , df_denom=69, df_num=10\n",
      "\n",
      "Granger Causality\n",
      "number of lags (no zero) 10\n",
      "ssr based F test:         F=1.3702  , p=0.2126  , df_denom=69, df_num=10\n",
      "ssr based chi2 test:   chi2=17.8727 , p=0.0571  , df=10\n",
      "likelihood ratio test: chi2=16.3028 , p=0.0913  , df=10\n",
      "parameter F test:         F=1.3702  , p=0.2126  , df_denom=69, df_num=10\n",
      "\n",
      "Granger Causality\n",
      "number of lags (no zero) 10\n",
      "ssr based F test:         F=0.4902  , p=0.8909  , df_denom=69, df_num=10\n",
      "ssr based chi2 test:   chi2=6.3936  , p=0.7812  , df=10\n",
      "likelihood ratio test: chi2=6.1767  , p=0.8002  , df=10\n",
      "parameter F test:         F=0.4902  , p=0.8909  , df_denom=69, df_num=10\n",
      "\n",
      "Granger Causality\n",
      "number of lags (no zero) 10\n",
      "ssr based F test:         F=1.3945  , p=0.2013  , df_denom=69, df_num=10\n",
      "ssr based chi2 test:   chi2=18.1897 , p=0.0518  , df=10\n",
      "likelihood ratio test: chi2=16.5669 , p=0.0845  , df=10\n",
      "parameter F test:         F=1.3945  , p=0.2013  , df_denom=69, df_num=10\n",
      "\n",
      "Granger Causality\n",
      "number of lags (no zero) 10\n",
      "ssr based F test:         F=0.7753  , p=0.6519  , df_denom=69, df_num=10\n",
      "ssr based chi2 test:   chi2=10.1123 , p=0.4307  , df=10\n",
      "likelihood ratio test: chi2=9.5835  , p=0.4778  , df=10\n",
      "parameter F test:         F=0.7753  , p=0.6519  , df_denom=69, df_num=10\n",
      "\n",
      "Granger Causality\n",
      "number of lags (no zero) 10\n",
      "ssr based F test:         F=1.3871  , p=0.2047  , df_denom=69, df_num=10\n",
      "ssr based chi2 test:   chi2=18.0930 , p=0.0534  , df=10\n",
      "likelihood ratio test: chi2=16.4864 , p=0.0865  , df=10\n",
      "parameter F test:         F=1.3871  , p=0.2047  , df_denom=69, df_num=10\n",
      "\n",
      "Granger Causality\n",
      "number of lags (no zero) 10\n",
      "ssr based F test:         F=0.7759  , p=0.6514  , df_denom=69, df_num=10\n",
      "ssr based chi2 test:   chi2=10.1201 , p=0.4300  , df=10\n",
      "likelihood ratio test: chi2=9.5905  , p=0.4771  , df=10\n",
      "parameter F test:         F=0.7759  , p=0.6514  , df_denom=69, df_num=10\n",
      "\n",
      "Granger Causality\n",
      "number of lags (no zero) 10\n",
      "ssr based F test:         F=1.1980  , p=0.3078  , df_denom=69, df_num=10\n",
      "ssr based chi2 test:   chi2=15.6255 , p=0.1109  , df=10\n",
      "likelihood ratio test: chi2=14.4081 , p=0.1552  , df=10\n",
      "parameter F test:         F=1.1980  , p=0.3078  , df_denom=69, df_num=10\n",
      "\n",
      "Granger Causality\n",
      "number of lags (no zero) 10\n",
      "ssr based F test:         F=0.8909  , p=0.5461  , df_denom=69, df_num=10\n",
      "ssr based chi2 test:   chi2=11.6200 , p=0.3113  , df=10\n",
      "likelihood ratio test: chi2=10.9287 , p=0.3631  , df=10\n",
      "parameter F test:         F=0.8909  , p=0.5461  , df_denom=69, df_num=10\n",
      "\n",
      "Granger Causality\n",
      "number of lags (no zero) 10\n",
      "ssr based F test:         F=0.8846  , p=0.5517  , df_denom=69, df_num=10\n",
      "ssr based chi2 test:   chi2=11.5381 , p=0.3172  , df=10\n",
      "likelihood ratio test: chi2=10.8562 , p=0.3688  , df=10\n",
      "parameter F test:         F=0.8846  , p=0.5517  , df_denom=69, df_num=10\n",
      "\n",
      "Granger Causality\n",
      "number of lags (no zero) 10\n",
      "ssr based F test:         F=0.4612  , p=0.9092  , df_denom=69, df_num=10\n",
      "ssr based chi2 test:   chi2=6.0158  , p=0.8139  , df=10\n",
      "likelihood ratio test: chi2=5.8233  , p=0.8299  , df=10\n",
      "parameter F test:         F=0.4612  , p=0.9092  , df_denom=69, df_num=10\n",
      "\n",
      "Granger Causality\n",
      "number of lags (no zero) 10\n",
      "ssr based F test:         F=0.6701  , p=0.7481  , df_denom=69, df_num=10\n",
      "ssr based chi2 test:   chi2=8.7403  , p=0.5569  , df=10\n",
      "likelihood ratio test: chi2=8.3415  , p=0.5955  , df=10\n",
      "parameter F test:         F=0.6701  , p=0.7481  , df_denom=69, df_num=10\n",
      "\n",
      "Granger Causality\n",
      "number of lags (no zero) 10\n",
      "ssr based F test:         F=1.5557  , p=0.1389  , df_denom=69, df_num=10\n",
      "ssr based chi2 test:   chi2=20.2920 , p=0.0266  , df=10\n",
      "likelihood ratio test: chi2=18.2989 , p=0.0501  , df=10\n",
      "parameter F test:         F=1.5557  , p=0.1389  , df_denom=69, df_num=10\n",
      "\n",
      "Granger Causality\n",
      "number of lags (no zero) 10\n",
      "ssr based F test:         F=0.9422  , p=0.5009  , df_denom=69, df_num=10\n",
      "ssr based chi2 test:   chi2=12.2901 , p=0.2661  , df=10\n",
      "likelihood ratio test: chi2=11.5203 , p=0.3184  , df=10\n",
      "parameter F test:         F=0.9422  , p=0.5009  , df_denom=69, df_num=10\n",
      "\n",
      "Granger Causality\n",
      "number of lags (no zero) 10\n",
      "ssr based F test:         F=2.1471  , p=0.0318  , df_denom=69, df_num=10\n",
      "ssr based chi2 test:   chi2=28.0060 , p=0.0018  , df=10\n",
      "likelihood ratio test: chi2=24.3833 , p=0.0066  , df=10\n",
      "parameter F test:         F=2.1471  , p=0.0318  , df_denom=69, df_num=10\n",
      "\n",
      "Granger Causality\n",
      "number of lags (no zero) 10\n",
      "ssr based F test:         F=2.0703  , p=0.0388  , df_denom=69, df_num=10\n",
      "ssr based chi2 test:   chi2=27.0039 , p=0.0026  , df=10\n",
      "likelihood ratio test: chi2=23.6158 , p=0.0087  , df=10\n",
      "parameter F test:         F=2.0703  , p=0.0388  , df_denom=69, df_num=10\n",
      "\n",
      "Granger Causality\n",
      "number of lags (no zero) 10\n",
      "ssr based F test:         F=0.9262  , p=0.5149  , df_denom=69, df_num=10\n",
      "ssr based chi2 test:   chi2=12.0809 , p=0.2797  , df=10\n",
      "likelihood ratio test: chi2=11.3360 , p=0.3319  , df=10\n",
      "parameter F test:         F=0.9262  , p=0.5149  , df_denom=69, df_num=10\n",
      "\n",
      "Granger Causality\n",
      "number of lags (no zero) 10\n",
      "ssr based F test:         F=1.3228  , p=0.2360  , df_denom=69, df_num=10\n",
      "ssr based chi2 test:   chi2=17.2536 , p=0.0689  , df=10\n",
      "likelihood ratio test: chi2=15.7848 , p=0.1060  , df=10\n",
      "parameter F test:         F=1.3228  , p=0.2360  , df_denom=69, df_num=10\n",
      "\n",
      "Granger Causality\n",
      "number of lags (no zero) 10\n",
      "ssr based F test:         F=1.7580  , p=0.0852  , df_denom=69, df_num=10\n",
      "ssr based chi2 test:   chi2=22.9304 , p=0.0110  , df=10\n",
      "likelihood ratio test: chi2=20.4266 , p=0.0255  , df=10\n",
      "parameter F test:         F=1.7580  , p=0.0852  , df_denom=69, df_num=10\n",
      "\n",
      "Granger Causality\n",
      "number of lags (no zero) 10\n",
      "ssr based F test:         F=0.7388  , p=0.6856  , df_denom=69, df_num=10\n",
      "ssr based chi2 test:   chi2=9.6365  , p=0.4729  , df=10\n",
      "likelihood ratio test: chi2=9.1547  , p=0.5175  , df=10\n",
      "parameter F test:         F=0.7388  , p=0.6856  , df_denom=69, df_num=10\n",
      "\n",
      "Granger Causality\n",
      "number of lags (no zero) 10\n",
      "ssr based F test:         F=1.2872  , p=0.2550  , df_denom=69, df_num=10\n",
      "ssr based chi2 test:   chi2=16.7896 , p=0.0792  , df=10\n",
      "likelihood ratio test: chi2=15.3946 , p=0.1183  , df=10\n",
      "parameter F test:         F=1.2872  , p=0.2550  , df_denom=69, df_num=10\n",
      "\n",
      "Granger Causality\n",
      "number of lags (no zero) 10\n",
      "ssr based F test:         F=0.8759  , p=0.5596  , df_denom=69, df_num=10\n",
      "ssr based chi2 test:   chi2=11.4250 , p=0.3254  , df=10\n",
      "likelihood ratio test: chi2=10.7559 , p=0.3769  , df=10\n",
      "parameter F test:         F=0.8759  , p=0.5596  , df_denom=69, df_num=10\n",
      "\n",
      "Granger Causality\n",
      "number of lags (no zero) 10\n",
      "ssr based F test:         F=1.9525  , p=0.0524  , df_denom=69, df_num=10\n",
      "ssr based chi2 test:   chi2=25.4673 , p=0.0045  , df=10\n",
      "likelihood ratio test: chi2=22.4260 , p=0.0131  , df=10\n",
      "parameter F test:         F=1.9525  , p=0.0524  , df_denom=69, df_num=10\n",
      "\n",
      "Granger Causality\n",
      "number of lags (no zero) 10\n",
      "ssr based F test:         F=3.7700  , p=0.0004  , df_denom=69, df_num=10\n",
      "ssr based chi2 test:   chi2=49.1736 , p=0.0000  , df=10\n",
      "likelihood ratio test: chi2=39.2321 , p=0.0000  , df=10\n",
      "parameter F test:         F=3.7700  , p=0.0004  , df_denom=69, df_num=10\n",
      "\n",
      "Granger Causality\n",
      "number of lags (no zero) 10\n",
      "ssr based F test:         F=1.0794  , p=0.3899  , df_denom=69, df_num=10\n",
      "ssr based chi2 test:   chi2=14.0798 , p=0.1694  , df=10\n",
      "likelihood ratio test: chi2=13.0813 , p=0.2192  , df=10\n",
      "parameter F test:         F=1.0794  , p=0.3899  , df_denom=69, df_num=10\n",
      "\n",
      "Granger Causality\n",
      "number of lags (no zero) 10\n",
      "ssr based F test:         F=1.1712  , p=0.3252  , df_denom=69, df_num=10\n",
      "ssr based chi2 test:   chi2=15.2761 , p=0.1223  , df=10\n",
      "likelihood ratio test: chi2=14.1099 , p=0.1680  , df=10\n",
      "parameter F test:         F=1.1712  , p=0.3252  , df_denom=69, df_num=10\n",
      "\n",
      "Granger Causality\n",
      "number of lags (no zero) 10\n",
      "ssr based F test:         F=1.1317  , p=0.3520  , df_denom=69, df_num=10\n",
      "ssr based chi2 test:   chi2=14.7617 , p=0.1410  , df=10\n",
      "likelihood ratio test: chi2=13.6691 , p=0.1886  , df=10\n",
      "parameter F test:         F=1.1317  , p=0.3520  , df_denom=69, df_num=10\n",
      "\n",
      "Granger Causality\n",
      "number of lags (no zero) 10\n",
      "ssr based F test:         F=1.5622  , p=0.1368  , df_denom=69, df_num=10\n",
      "ssr based chi2 test:   chi2=20.3760 , p=0.0259  , df=10\n",
      "likelihood ratio test: chi2=18.3674 , p=0.0491  , df=10\n",
      "parameter F test:         F=1.5622  , p=0.1368  , df_denom=69, df_num=10\n",
      "\n",
      "Granger Causality\n",
      "number of lags (no zero) 10\n",
      "ssr based F test:         F=0.2817  , p=0.9833  , df_denom=69, df_num=10\n",
      "ssr based chi2 test:   chi2=3.6744  , p=0.9608  , df=10\n",
      "likelihood ratio test: chi2=3.6014  , p=0.9635  , df=10\n",
      "parameter F test:         F=0.2817  , p=0.9833  , df_denom=69, df_num=10\n",
      "\n",
      "Granger Causality\n",
      "number of lags (no zero) 10\n",
      "ssr based F test:         F=1.5638  , p=0.1362  , df_denom=69, df_num=10\n",
      "ssr based chi2 test:   chi2=20.3970 , p=0.0257  , df=10\n",
      "likelihood ratio test: chi2=18.3846 , p=0.0488  , df=10\n",
      "parameter F test:         F=1.5638  , p=0.1362  , df_denom=69, df_num=10\n",
      "\n",
      "Granger Causality\n",
      "number of lags (no zero) 10\n",
      "ssr based F test:         F=1.4808  , p=0.1654  , df_denom=69, df_num=10\n",
      "ssr based chi2 test:   chi2=19.3145 , p=0.0364  , df=10\n",
      "likelihood ratio test: chi2=17.4977 , p=0.0641  , df=10\n",
      "parameter F test:         F=1.4808  , p=0.1654  , df_denom=69, df_num=10\n",
      "\n",
      "Granger Causality\n",
      "number of lags (no zero) 10\n",
      "ssr based F test:         F=0.7027  , p=0.7187  , df_denom=69, df_num=10\n",
      "ssr based chi2 test:   chi2=9.1662  , p=0.5164  , df=10\n",
      "likelihood ratio test: chi2=8.7289  , p=0.5580  , df=10\n",
      "parameter F test:         F=0.7027  , p=0.7187  , df_denom=69, df_num=10\n",
      "\n",
      "Granger Causality\n",
      "number of lags (no zero) 10\n",
      "ssr based F test:         F=0.9185  , p=0.5216  , df_denom=69, df_num=10\n",
      "ssr based chi2 test:   chi2=11.9805 , p=0.2864  , df=10\n",
      "likelihood ratio test: chi2=11.2475 , p=0.3386  , df=10\n",
      "parameter F test:         F=0.9185  , p=0.5216  , df_denom=69, df_num=10\n",
      "\n",
      "Granger Causality\n",
      "number of lags (no zero) 10\n",
      "ssr based F test:         F=0.6424  , p=0.7724  , df_denom=69, df_num=10\n",
      "ssr based chi2 test:   chi2=8.3796  , p=0.5918  , df=10\n",
      "likelihood ratio test: chi2=8.0121  , p=0.6277  , df=10\n",
      "parameter F test:         F=0.6424  , p=0.7724  , df_denom=69, df_num=10\n",
      "\n",
      "Granger Causality\n",
      "number of lags (no zero) 10\n",
      "ssr based F test:         F=1.1375  , p=0.3480  , df_denom=69, df_num=10\n",
      "ssr based chi2 test:   chi2=14.8373 , p=0.1381  , df=10\n",
      "likelihood ratio test: chi2=13.7340 , p=0.1855  , df=10\n",
      "parameter F test:         F=1.1375  , p=0.3480  , df_denom=69, df_num=10\n",
      "\n",
      "Granger Causality\n",
      "number of lags (no zero) 10\n",
      "ssr based F test:         F=0.6866  , p=0.7333  , df_denom=69, df_num=10\n",
      "ssr based chi2 test:   chi2=8.9553  , p=0.5364  , df=10\n",
      "likelihood ratio test: chi2=8.5372  , p=0.5765  , df=10\n",
      "parameter F test:         F=0.6866  , p=0.7333  , df_denom=69, df_num=10\n",
      "\n",
      "Granger Causality\n",
      "number of lags (no zero) 10\n",
      "ssr based F test:         F=1.1525  , p=0.3377  , df_denom=69, df_num=10\n",
      "ssr based chi2 test:   chi2=15.0329 , p=0.1309  , df=10\n",
      "likelihood ratio test: chi2=13.9017 , p=0.1775  , df=10\n",
      "parameter F test:         F=1.1525  , p=0.3377  , df_denom=69, df_num=10\n",
      "\n",
      "Granger Causality\n",
      "number of lags (no zero) 10\n",
      "ssr based F test:         F=1.0545  , p=0.4089  , df_denom=69, df_num=10\n",
      "ssr based chi2 test:   chi2=13.7544 , p=0.1845  , df=10\n",
      "likelihood ratio test: chi2=12.7995 , p=0.2351  , df=10\n",
      "parameter F test:         F=1.0545  , p=0.4089  , df_denom=69, df_num=10\n",
      "\n",
      "Granger Causality\n",
      "number of lags (no zero) 10\n",
      "ssr based F test:         F=1.2741  , p=0.2622  , df_denom=69, df_num=10\n",
      "ssr based chi2 test:   chi2=16.6193 , p=0.0832  , df=10\n",
      "likelihood ratio test: chi2=15.2509 , p=0.1232  , df=10\n",
      "parameter F test:         F=1.2741  , p=0.2622  , df_denom=69, df_num=10\n",
      "\n",
      "Granger Causality\n",
      "number of lags (no zero) 10\n",
      "ssr based F test:         F=0.7756  , p=0.6516  , df_denom=69, df_num=10\n",
      "ssr based chi2 test:   chi2=10.1171 , p=0.4303  , df=10\n",
      "likelihood ratio test: chi2=9.5878  , p=0.4774  , df=10\n",
      "parameter F test:         F=0.7756  , p=0.6516  , df_denom=69, df_num=10\n",
      "\n",
      "Granger Causality\n",
      "number of lags (no zero) 10\n",
      "ssr based F test:         F=1.3951  , p=0.2011  , df_denom=69, df_num=10\n",
      "ssr based chi2 test:   chi2=18.1973 , p=0.0517  , df=10\n",
      "likelihood ratio test: chi2=16.5732 , p=0.0844  , df=10\n",
      "parameter F test:         F=1.3951  , p=0.2011  , df_denom=69, df_num=10\n",
      "\n",
      "Granger Causality\n",
      "number of lags (no zero) 10\n",
      "ssr based F test:         F=1.8065  , p=0.0756  , df_denom=69, df_num=10\n",
      "ssr based chi2 test:   chi2=23.5635 , p=0.0088  , df=10\n",
      "likelihood ratio test: chi2=20.9297 , p=0.0216  , df=10\n",
      "parameter F test:         F=1.8065  , p=0.0756  , df_denom=69, df_num=10\n",
      "\n",
      "Granger Causality\n",
      "number of lags (no zero) 10\n",
      "ssr based F test:         F=1.0796  , p=0.3898  , df_denom=69, df_num=10\n",
      "ssr based chi2 test:   chi2=14.0815 , p=0.1693  , df=10\n",
      "likelihood ratio test: chi2=13.0828 , p=0.2191  , df=10\n",
      "parameter F test:         F=1.0796  , p=0.3898  , df_denom=69, df_num=10\n",
      "\n",
      "Granger Causality\n",
      "number of lags (no zero) 10\n",
      "ssr based F test:         F=1.0563  , p=0.4075  , df_denom=69, df_num=10\n",
      "ssr based chi2 test:   chi2=13.7773 , p=0.1834  , df=10\n",
      "likelihood ratio test: chi2=12.8194 , p=0.2339  , df=10\n",
      "parameter F test:         F=1.0563  , p=0.4075  , df_denom=69, df_num=10\n",
      "\n",
      "Granger Causality\n",
      "number of lags (no zero) 10\n",
      "ssr based F test:         F=1.3009  , p=0.2476  , df_denom=69, df_num=10\n",
      "ssr based chi2 test:   chi2=16.9678 , p=0.0751  , df=10\n",
      "likelihood ratio test: chi2=15.5446 , p=0.1134  , df=10\n",
      "parameter F test:         F=1.3009  , p=0.2476  , df_denom=69, df_num=10\n",
      "\n",
      "Granger Causality\n",
      "number of lags (no zero) 10\n",
      "ssr based F test:         F=2.0104  , p=0.0452  , df_denom=69, df_num=10\n",
      "ssr based chi2 test:   chi2=26.2230 , p=0.0035  , df=10\n",
      "likelihood ratio test: chi2=23.0131 , p=0.0107  , df=10\n",
      "parameter F test:         F=2.0104  , p=0.0452  , df_denom=69, df_num=10\n",
      "\n",
      "Granger Causality\n",
      "number of lags (no zero) 10\n",
      "ssr based F test:         F=0.7102  , p=0.7119  , df_denom=69, df_num=10\n",
      "ssr based chi2 test:   chi2=9.2631  , p=0.5073  , df=10\n",
      "likelihood ratio test: chi2=8.8168  , p=0.5496  , df=10\n",
      "parameter F test:         F=0.7102  , p=0.7119  , df_denom=69, df_num=10\n",
      "\n",
      "Granger Causality\n",
      "number of lags (no zero) 10\n",
      "ssr based F test:         F=1.0107  , p=0.4436  , df_denom=69, df_num=10\n",
      "ssr based chi2 test:   chi2=13.1833 , p=0.2136  , df=10\n",
      "likelihood ratio test: chi2=12.3028 , p=0.2653  , df=10\n",
      "parameter F test:         F=1.0107  , p=0.4436  , df_denom=69, df_num=10\n",
      "\n",
      "Granger Causality\n",
      "number of lags (no zero) 10\n",
      "ssr based F test:         F=1.4841  , p=0.1641  , df_denom=69, df_num=10\n",
      "ssr based chi2 test:   chi2=19.3583 , p=0.0359  , df=10\n",
      "likelihood ratio test: chi2=17.5338 , p=0.0634  , df=10\n",
      "parameter F test:         F=1.4841  , p=0.1641  , df_denom=69, df_num=10\n",
      "\n",
      "Granger Causality\n",
      "number of lags (no zero) 10\n",
      "ssr based F test:         F=0.9331  , p=0.5089  , df_denom=69, df_num=10\n",
      "ssr based chi2 test:   chi2=12.1705 , p=0.2738  , df=10\n",
      "likelihood ratio test: chi2=11.4150 , p=0.3261  , df=10\n",
      "parameter F test:         F=0.9331  , p=0.5089  , df_denom=69, df_num=10\n",
      "\n",
      "Granger Causality\n",
      "number of lags (no zero) 10\n",
      "ssr based F test:         F=1.5719  , p=0.1336  , df_denom=69, df_num=10\n",
      "ssr based chi2 test:   chi2=20.5031 , p=0.0248  , df=10\n",
      "likelihood ratio test: chi2=18.4710 , p=0.0475  , df=10\n",
      "parameter F test:         F=1.5719  , p=0.1336  , df_denom=69, df_num=10\n",
      "\n",
      "Granger Causality\n",
      "number of lags (no zero) 10\n",
      "ssr based F test:         F=0.5012  , p=0.8835  , df_denom=69, df_num=10\n",
      "ssr based chi2 test:   chi2=6.5377  , p=0.7682  , df=10\n",
      "likelihood ratio test: chi2=6.3112  , p=0.7885  , df=10\n",
      "parameter F test:         F=0.5012  , p=0.8835  , df_denom=69, df_num=10\n",
      "\n",
      "Granger Causality\n",
      "number of lags (no zero) 10\n",
      "ssr based F test:         F=1.4335  , p=0.1843  , df_denom=69, df_num=10\n",
      "ssr based chi2 test:   chi2=18.6981 , p=0.0443  , df=10\n",
      "likelihood ratio test: chi2=16.9888 , p=0.0746  , df=10\n",
      "parameter F test:         F=1.4335  , p=0.1843  , df_denom=69, df_num=10\n",
      "\n",
      "Granger Causality\n",
      "number of lags (no zero) 10\n",
      "ssr based F test:         F=0.8568  , p=0.5768  , df_denom=69, df_num=10\n",
      "ssr based chi2 test:   chi2=11.1761 , p=0.3440  , df=10\n",
      "likelihood ratio test: chi2=10.5347 , p=0.3949  , df=10\n",
      "parameter F test:         F=0.8568  , p=0.5768  , df_denom=69, df_num=10\n",
      "\n",
      "Granger Causality\n",
      "number of lags (no zero) 10\n",
      "ssr based F test:         F=0.8879  , p=0.5488  , df_denom=69, df_num=10\n",
      "ssr based chi2 test:   chi2=11.5813 , p=0.3141  , df=10\n",
      "likelihood ratio test: chi2=10.8944 , p=0.3658  , df=10\n",
      "parameter F test:         F=0.8879  , p=0.5488  , df_denom=69, df_num=10\n",
      "\n",
      "Granger Causality\n",
      "number of lags (no zero) 10\n",
      "ssr based F test:         F=0.8635  , p=0.5708  , df_denom=69, df_num=10\n",
      "ssr based chi2 test:   chi2=11.2632 , p=0.3374  , df=10\n",
      "likelihood ratio test: chi2=10.6122 , p=0.3885  , df=10\n",
      "parameter F test:         F=0.8635  , p=0.5708  , df_denom=69, df_num=10\n",
      "\n",
      "Granger Causality\n",
      "number of lags (no zero) 10\n",
      "ssr based F test:         F=0.6120  , p=0.7985  , df_denom=69, df_num=10\n",
      "ssr based chi2 test:   chi2=7.9825  , p=0.6306  , df=10\n",
      "likelihood ratio test: chi2=7.6481  , p=0.6632  , df=10\n",
      "parameter F test:         F=0.6120  , p=0.7985  , df_denom=69, df_num=10\n",
      "\n",
      "Granger Causality\n",
      "number of lags (no zero) 10\n",
      "ssr based F test:         F=0.8954  , p=0.5421  , df_denom=69, df_num=10\n",
      "ssr based chi2 test:   chi2=11.6786 , p=0.3071  , df=10\n",
      "likelihood ratio test: chi2=10.9806 , p=0.3590  , df=10\n",
      "parameter F test:         F=0.8954  , p=0.5421  , df_denom=69, df_num=10\n",
      "\n",
      "Granger Causality\n",
      "number of lags (no zero) 10\n",
      "ssr based F test:         F=1.1060  , p=0.3704  , df_denom=69, df_num=10\n",
      "ssr based chi2 test:   chi2=14.4254 , p=0.1545  , df=10\n",
      "likelihood ratio test: chi2=13.3797 , p=0.2032  , df=10\n",
      "parameter F test:         F=1.1060  , p=0.3704  , df_denom=69, df_num=10\n",
      "\n",
      "Granger Causality\n",
      "number of lags (no zero) 10\n",
      "ssr based F test:         F=2.2722  , p=0.0230  , df_denom=69, df_num=10\n",
      "ssr based chi2 test:   chi2=29.6379 , p=0.0010  , df=10\n",
      "likelihood ratio test: chi2=25.6194 , p=0.0043  , df=10\n",
      "parameter F test:         F=2.2722  , p=0.0230  , df_denom=69, df_num=10\n",
      "\n",
      "Granger Causality\n",
      "number of lags (no zero) 10\n",
      "ssr based F test:         F=1.1413  , p=0.3453  , df_denom=69, df_num=10\n",
      "ssr based chi2 test:   chi2=14.8871 , p=0.1362  , df=10\n",
      "likelihood ratio test: chi2=13.7767 , p=0.1834  , df=10\n",
      "parameter F test:         F=1.1413  , p=0.3453  , df_denom=69, df_num=10\n",
      "\n",
      "Granger Causality\n",
      "number of lags (no zero) 10\n",
      "ssr based F test:         F=1.6212  , p=0.1188  , df_denom=69, df_num=10\n",
      "ssr based chi2 test:   chi2=21.1456 , p=0.0201  , df=10\n",
      "likelihood ratio test: chi2=18.9928 , p=0.0404  , df=10\n",
      "parameter F test:         F=1.6212  , p=0.1188  , df_denom=69, df_num=10\n",
      "\n",
      "Granger Causality\n",
      "number of lags (no zero) 10\n",
      "ssr based F test:         F=1.1964  , p=0.3088  , df_denom=69, df_num=10\n",
      "ssr based chi2 test:   chi2=15.6048 , p=0.1115  , df=10\n",
      "likelihood ratio test: chi2=14.3905 , p=0.1559  , df=10\n",
      "parameter F test:         F=1.1964  , p=0.3088  , df_denom=69, df_num=10\n",
      "\n",
      "Granger Causality\n",
      "number of lags (no zero) 10\n",
      "ssr based F test:         F=1.4332  , p=0.1845  , df_denom=69, df_num=10\n",
      "ssr based chi2 test:   chi2=18.6933 , p=0.0443  , df=10\n",
      "likelihood ratio test: chi2=16.9848 , p=0.0747  , df=10\n",
      "parameter F test:         F=1.4332  , p=0.1845  , df_denom=69, df_num=10\n",
      "\n",
      "Granger Causality\n",
      "number of lags (no zero) 10\n",
      "ssr based F test:         F=0.5234  , p=0.8680  , df_denom=69, df_num=10\n",
      "ssr based chi2 test:   chi2=6.8266  , p=0.7417  , df=10\n",
      "likelihood ratio test: chi2=6.5801  , p=0.7644  , df=10\n",
      "parameter F test:         F=0.5234  , p=0.8680  , df_denom=69, df_num=10\n",
      "\n",
      "Granger Causality\n",
      "number of lags (no zero) 10\n",
      "ssr based F test:         F=1.4251  , p=0.1879  , df_denom=69, df_num=10\n",
      "ssr based chi2 test:   chi2=18.5879 , p=0.0458  , df=10\n",
      "likelihood ratio test: chi2=16.8976 , p=0.0767  , df=10\n",
      "parameter F test:         F=1.4251  , p=0.1879  , df_denom=69, df_num=10\n",
      "\n",
      "Granger Causality\n",
      "number of lags (no zero) 10\n",
      "ssr based F test:         F=0.9225  , p=0.5181  , df_denom=69, df_num=10\n",
      "ssr based chi2 test:   chi2=12.0327 , p=0.2829  , df=10\n",
      "likelihood ratio test: chi2=11.2935 , p=0.3351  , df=10\n",
      "parameter F test:         F=0.9225  , p=0.5181  , df_denom=69, df_num=10\n",
      "\n",
      "Granger Causality\n",
      "number of lags (no zero) 10\n",
      "ssr based F test:         F=1.0460  , p=0.4155  , df_denom=69, df_num=10\n",
      "ssr based chi2 test:   chi2=13.6437 , p=0.1899  , df=10\n",
      "likelihood ratio test: chi2=12.7035 , p=0.2407  , df=10\n",
      "parameter F test:         F=1.0460  , p=0.4155  , df_denom=69, df_num=10\n",
      "\n",
      "Granger Causality\n",
      "number of lags (no zero) 10\n",
      "ssr based F test:         F=1.7423  , p=0.0886  , df_denom=69, df_num=10\n",
      "ssr based chi2 test:   chi2=22.7260 , p=0.0118  , df=10\n",
      "likelihood ratio test: chi2=20.2635 , p=0.0269  , df=10\n",
      "parameter F test:         F=1.7423  , p=0.0886  , df_denom=69, df_num=10\n",
      "\n",
      "Granger Causality\n",
      "number of lags (no zero) 10\n",
      "ssr based F test:         F=1.2656  , p=0.2671  , df_denom=69, df_num=10\n",
      "ssr based chi2 test:   chi2=16.5076 , p=0.0860  , df=10\n",
      "likelihood ratio test: chi2=15.1566 , p=0.1265  , df=10\n",
      "parameter F test:         F=1.2656  , p=0.2671  , df_denom=69, df_num=10\n",
      "\n",
      "Granger Causality\n",
      "number of lags (no zero) 10\n",
      "ssr based F test:         F=0.7578  , p=0.6681  , df_denom=69, df_num=10\n",
      "ssr based chi2 test:   chi2=9.8837  , p=0.4508  , df=10\n",
      "likelihood ratio test: chi2=9.3777  , p=0.4967  , df=10\n",
      "parameter F test:         F=0.7578  , p=0.6681  , df_denom=69, df_num=10\n",
      "\n",
      "Granger Causality\n",
      "number of lags (no zero) 10\n",
      "ssr based F test:         F=1.5381  , p=0.1447  , df_denom=69, df_num=10\n",
      "ssr based chi2 test:   chi2=20.0625 , p=0.0287  , df=10\n",
      "likelihood ratio test: chi2=18.1115 , p=0.0531  , df=10\n",
      "parameter F test:         F=1.5381  , p=0.1447  , df_denom=69, df_num=10\n",
      "\n",
      "Granger Causality\n",
      "number of lags (no zero) 10\n",
      "ssr based F test:         F=1.8300  , p=0.0713  , df_denom=69, df_num=10\n",
      "ssr based chi2 test:   chi2=23.8695 , p=0.0080  , df=10\n",
      "likelihood ratio test: chi2=21.1719 , p=0.0199  , df=10\n",
      "parameter F test:         F=1.8300  , p=0.0713  , df_denom=69, df_num=10\n",
      "\n",
      "Granger Causality\n",
      "number of lags (no zero) 10\n",
      "ssr based F test:         F=0.9016  , p=0.5365  , df_denom=69, df_num=10\n",
      "ssr based chi2 test:   chi2=11.7605 , p=0.3014  , df=10\n",
      "likelihood ratio test: chi2=11.0532 , p=0.3534  , df=10\n",
      "parameter F test:         F=0.9016  , p=0.5365  , df_denom=69, df_num=10\n",
      "\n",
      "Granger Causality\n",
      "number of lags (no zero) 10\n",
      "ssr based F test:         F=0.6915  , p=0.7288  , df_denom=69, df_num=10\n",
      "ssr based chi2 test:   chi2=9.0199  , p=0.5302  , df=10\n",
      "likelihood ratio test: chi2=8.5960  , p=0.5708  , df=10\n",
      "parameter F test:         F=0.6915  , p=0.7288  , df_denom=69, df_num=10\n",
      "\n",
      "Granger Causality\n",
      "number of lags (no zero) 10\n",
      "ssr based F test:         F=1.8921  , p=0.0610  , df_denom=69, df_num=10\n",
      "ssr based chi2 test:   chi2=24.6799 , p=0.0060  , df=10\n",
      "likelihood ratio test: chi2=21.8101 , p=0.0161  , df=10\n",
      "parameter F test:         F=1.8921  , p=0.0610  , df_denom=69, df_num=10\n",
      "\n",
      "Granger Causality\n",
      "number of lags (no zero) 10\n",
      "ssr based F test:         F=1.6973  , p=0.0989  , df_denom=69, df_num=10\n",
      "ssr based chi2 test:   chi2=22.1385 , p=0.0144  , df=10\n",
      "likelihood ratio test: chi2=19.7932 , p=0.0313  , df=10\n",
      "parameter F test:         F=1.6973  , p=0.0989  , df_denom=69, df_num=10\n",
      "\n",
      "Granger Causality\n",
      "number of lags (no zero) 10\n",
      "ssr based F test:         F=1.2938  , p=0.2514  , df_denom=69, df_num=10\n",
      "ssr based chi2 test:   chi2=16.8751 , p=0.0772  , df=10\n",
      "likelihood ratio test: chi2=15.4666 , p=0.1160  , df=10\n",
      "parameter F test:         F=1.2938  , p=0.2514  , df_denom=69, df_num=10\n",
      "\n",
      "Granger Causality\n",
      "number of lags (no zero) 10\n",
      "ssr based F test:         F=1.6199  , p=0.1192  , df_denom=69, df_num=10\n",
      "ssr based chi2 test:   chi2=21.1297 , p=0.0202  , df=10\n",
      "likelihood ratio test: chi2=18.9799 , p=0.0405  , df=10\n",
      "parameter F test:         F=1.6199  , p=0.1192  , df_denom=69, df_num=10\n",
      "\n",
      "Granger Causality\n",
      "number of lags (no zero) 10\n",
      "ssr based F test:         F=1.8275  , p=0.0717  , df_denom=69, df_num=10\n",
      "ssr based chi2 test:   chi2=23.8364 , p=0.0080  , df=10\n",
      "likelihood ratio test: chi2=21.1457 , p=0.0201  , df=10\n",
      "parameter F test:         F=1.8275  , p=0.0717  , df_denom=69, df_num=10\n",
      "\n",
      "Granger Causality\n",
      "number of lags (no zero) 10\n",
      "ssr based F test:         F=1.0657  , p=0.4003  , df_denom=69, df_num=10\n",
      "ssr based chi2 test:   chi2=13.9002 , p=0.1776  , df=10\n",
      "likelihood ratio test: chi2=12.9259 , p=0.2278  , df=10\n",
      "parameter F test:         F=1.0657  , p=0.4003  , df_denom=69, df_num=10\n",
      "\n",
      "Granger Causality\n",
      "number of lags (no zero) 10\n",
      "ssr based F test:         F=1.7815  , p=0.0804  , df_denom=69, df_num=10\n",
      "ssr based chi2 test:   chi2=23.2370 , p=0.0099  , df=10\n",
      "likelihood ratio test: chi2=20.6706 , p=0.0235  , df=10\n",
      "parameter F test:         F=1.7815  , p=0.0804  , df_denom=69, df_num=10\n",
      "\n",
      "Granger Causality\n",
      "number of lags (no zero) 10\n",
      "ssr based F test:         F=0.8036  , p=0.6257  , df_denom=69, df_num=10\n",
      "ssr based chi2 test:   chi2=10.4818 , p=0.3993  , df=10\n",
      "likelihood ratio test: chi2=9.9150  , p=0.4480  , df=10\n",
      "parameter F test:         F=0.8036  , p=0.6257  , df_denom=69, df_num=10\n",
      "\n",
      "Granger Causality\n",
      "number of lags (no zero) 10\n",
      "ssr based F test:         F=1.1555  , p=0.3356  , df_denom=69, df_num=10\n",
      "ssr based chi2 test:   chi2=15.0721 , p=0.1295  , df=10\n",
      "likelihood ratio test: chi2=13.9353 , p=0.1760  , df=10\n",
      "parameter F test:         F=1.1555  , p=0.3356  , df_denom=69, df_num=10\n",
      "\n",
      "Granger Causality\n",
      "number of lags (no zero) 10\n",
      "ssr based F test:         F=1.3245  , p=0.2352  , df_denom=69, df_num=10\n",
      "ssr based chi2 test:   chi2=17.2758 , p=0.0685  , df=10\n",
      "likelihood ratio test: chi2=15.8034 , p=0.1054  , df=10\n",
      "parameter F test:         F=1.3245  , p=0.2352  , df_denom=69, df_num=10\n",
      "\n",
      "Granger Causality\n",
      "number of lags (no zero) 10\n",
      "ssr based F test:         F=1.8457  , p=0.0686  , df_denom=69, df_num=10\n",
      "ssr based chi2 test:   chi2=24.0741 , p=0.0074  , df=10\n",
      "likelihood ratio test: chi2=21.3334 , p=0.0189  , df=10\n",
      "parameter F test:         F=1.8457  , p=0.0686  , df_denom=69, df_num=10\n",
      "\n",
      "Granger Causality\n",
      "number of lags (no zero) 10\n",
      "ssr based F test:         F=2.1956  , p=0.0281  , df_denom=69, df_num=10\n",
      "ssr based chi2 test:   chi2=28.6383 , p=0.0014  , df=10\n",
      "likelihood ratio test: chi2=24.8643 , p=0.0056  , df=10\n",
      "parameter F test:         F=2.1956  , p=0.0281  , df_denom=69, df_num=10\n",
      "\n",
      "Granger Causality\n",
      "number of lags (no zero) 10\n",
      "ssr based F test:         F=0.7008  , p=0.7205  , df_denom=69, df_num=10\n",
      "ssr based chi2 test:   chi2=9.1403  , p=0.5188  , df=10\n",
      "likelihood ratio test: chi2=8.7054  , p=0.5603  , df=10\n",
      "parameter F test:         F=0.7008  , p=0.7205  , df_denom=69, df_num=10\n",
      "\n",
      "Granger Causality\n",
      "number of lags (no zero) 10\n",
      "ssr based F test:         F=1.7627  , p=0.0842  , df_denom=69, df_num=10\n",
      "ssr based chi2 test:   chi2=22.9915 , p=0.0108  , df=10\n",
      "likelihood ratio test: chi2=20.4753 , p=0.0251  , df=10\n",
      "parameter F test:         F=1.7627  , p=0.0842  , df_denom=69, df_num=10\n",
      "\n",
      "Granger Causality\n",
      "number of lags (no zero) 10\n",
      "ssr based F test:         F=1.8955  , p=0.0605  , df_denom=69, df_num=10\n",
      "ssr based chi2 test:   chi2=24.7243 , p=0.0059  , df=10\n",
      "likelihood ratio test: chi2=21.8450 , p=0.0159  , df=10\n",
      "parameter F test:         F=1.8955  , p=0.0605  , df_denom=69, df_num=10\n",
      "\n",
      "Granger Causality\n",
      "number of lags (no zero) 10\n",
      "ssr based F test:         F=1.4386  , p=0.1822  , df_denom=69, df_num=10\n",
      "ssr based chi2 test:   chi2=18.7638 , p=0.0434  , df=10\n",
      "likelihood ratio test: chi2=17.0432 , p=0.0734  , df=10\n",
      "parameter F test:         F=1.4386  , p=0.1822  , df_denom=69, df_num=10\n",
      "\n",
      "Granger Causality\n",
      "number of lags (no zero) 10\n",
      "ssr based F test:         F=0.5821  , p=0.8231  , df_denom=69, df_num=10\n",
      "ssr based chi2 test:   chi2=7.5928  , p=0.6685  , df=10\n",
      "likelihood ratio test: chi2=7.2894  , p=0.6979  , df=10\n",
      "parameter F test:         F=0.5821  , p=0.8231  , df_denom=69, df_num=10\n",
      "\n",
      "Granger Causality\n",
      "number of lags (no zero) 10\n",
      "ssr based F test:         F=2.0849  , p=0.0374  , df_denom=69, df_num=10\n",
      "ssr based chi2 test:   chi2=27.1948 , p=0.0024  , df=10\n",
      "likelihood ratio test: chi2=23.7625 , p=0.0083  , df=10\n",
      "parameter F test:         F=2.0849  , p=0.0374  , df_denom=69, df_num=10\n",
      "\n",
      "Granger Causality\n",
      "number of lags (no zero) 10\n",
      "ssr based F test:         F=0.8761  , p=0.5594  , df_denom=69, df_num=10\n",
      "ssr based chi2 test:   chi2=11.4276 , p=0.3252  , df=10\n",
      "likelihood ratio test: chi2=10.7582 , p=0.3767  , df=10\n",
      "parameter F test:         F=0.8761  , p=0.5594  , df_denom=69, df_num=10\n",
      "\n",
      "Granger Causality\n",
      "number of lags (no zero) 10\n",
      "ssr based F test:         F=1.2983  , p=0.2490  , df_denom=69, df_num=10\n",
      "ssr based chi2 test:   chi2=16.9337 , p=0.0758  , df=10\n",
      "likelihood ratio test: chi2=15.5160 , p=0.1144  , df=10\n",
      "parameter F test:         F=1.2983  , p=0.2490  , df_denom=69, df_num=10\n",
      "\n",
      "Granger Causality\n",
      "number of lags (no zero) 10\n",
      "ssr based F test:         F=0.8878  , p=0.5489  , df_denom=69, df_num=10\n",
      "ssr based chi2 test:   chi2=11.5798 , p=0.3142  , df=10\n",
      "likelihood ratio test: chi2=10.8931 , p=0.3659  , df=10\n",
      "parameter F test:         F=0.8878  , p=0.5489  , df_denom=69, df_num=10\n",
      "\n",
      "Granger Causality\n",
      "number of lags (no zero) 10\n",
      "ssr based F test:         F=1.7299  , p=0.0913  , df_denom=69, df_num=10\n",
      "ssr based chi2 test:   chi2=22.5636 , p=0.0125  , df=10\n",
      "likelihood ratio test: chi2=20.1338 , p=0.0280  , df=10\n",
      "parameter F test:         F=1.7299  , p=0.0913  , df_denom=69, df_num=10\n",
      "\n",
      "Granger Causality\n",
      "number of lags (no zero) 10\n",
      "ssr based F test:         F=2.7016  , p=0.0074  , df_denom=69, df_num=10\n",
      "ssr based chi2 test:   chi2=35.2381 , p=0.0001  , df=10\n",
      "likelihood ratio test: chi2=29.7366 , p=0.0009  , df=10\n",
      "parameter F test:         F=2.7016  , p=0.0074  , df_denom=69, df_num=10\n",
      "\n",
      "Granger Causality\n",
      "number of lags (no zero) 10\n",
      "ssr based F test:         F=0.6700  , p=0.7481  , df_denom=69, df_num=10\n",
      "ssr based chi2 test:   chi2=8.7393  , p=0.5570  , df=10\n",
      "likelihood ratio test: chi2=8.3406  , p=0.5956  , df=10\n",
      "parameter F test:         F=0.6700  , p=0.7481  , df_denom=69, df_num=10\n",
      "\n",
      "Granger Causality\n",
      "number of lags (no zero) 10\n",
      "ssr based F test:         F=0.5430  , p=0.8536  , df_denom=69, df_num=10\n",
      "ssr based chi2 test:   chi2=7.0823  , p=0.7177  , df=10\n",
      "likelihood ratio test: chi2=6.8175  , p=0.7426  , df=10\n",
      "parameter F test:         F=0.5430  , p=0.8536  , df_denom=69, df_num=10\n",
      "\n",
      "Granger Causality\n",
      "number of lags (no zero) 10\n",
      "ssr based F test:         F=0.6368  , p=0.7773  , df_denom=69, df_num=10\n",
      "ssr based chi2 test:   chi2=8.3067  , p=0.5989  , df=10\n",
      "likelihood ratio test: chi2=7.9454  , p=0.6342  , df=10\n",
      "parameter F test:         F=0.6368  , p=0.7773  , df_denom=69, df_num=10\n",
      "\n",
      "Granger Causality\n",
      "number of lags (no zero) 10\n",
      "ssr based F test:         F=1.3381  , p=0.2282  , df_denom=69, df_num=10\n",
      "ssr based chi2 test:   chi2=17.4540 , p=0.0649  , df=10\n",
      "likelihood ratio test: chi2=15.9528 , p=0.1010  , df=10\n",
      "parameter F test:         F=1.3381  , p=0.2282  , df_denom=69, df_num=10\n",
      "\n",
      "Granger Causality\n",
      "number of lags (no zero) 10\n",
      "ssr based F test:         F=1.9932  , p=0.0472  , df_denom=69, df_num=10\n",
      "ssr based chi2 test:   chi2=25.9980 , p=0.0037  , df=10\n",
      "likelihood ratio test: chi2=22.8387 , p=0.0114  , df=10\n",
      "parameter F test:         F=1.9932  , p=0.0472  , df_denom=69, df_num=10\n",
      "\n",
      "Granger Causality\n",
      "number of lags (no zero) 10\n",
      "ssr based F test:         F=1.5692  , p=0.1345  , df_denom=69, df_num=10\n",
      "ssr based chi2 test:   chi2=20.4684 , p=0.0251  , df=10\n",
      "likelihood ratio test: chi2=18.4428 , p=0.0479  , df=10\n",
      "parameter F test:         F=1.5692  , p=0.1345  , df_denom=69, df_num=10\n",
      "\n",
      "Granger Causality\n",
      "number of lags (no zero) 10\n",
      "ssr based F test:         F=1.6883  , p=0.1011  , df_denom=69, df_num=10\n",
      "ssr based chi2 test:   chi2=22.0219 , p=0.0150  , df=10\n",
      "likelihood ratio test: chi2=19.6996 , p=0.0322  , df=10\n",
      "parameter F test:         F=1.6883  , p=0.1011  , df_denom=69, df_num=10\n",
      "\n",
      "Granger Causality\n",
      "number of lags (no zero) 10\n",
      "ssr based F test:         F=1.3101  , p=0.2427  , df_denom=69, df_num=10\n",
      "ssr based chi2 test:   chi2=17.0881 , p=0.0724  , df=10\n",
      "likelihood ratio test: chi2=15.6458 , p=0.1102  , df=10\n",
      "parameter F test:         F=1.3101  , p=0.2427  , df_denom=69, df_num=10\n",
      "\n",
      "Granger Causality\n",
      "number of lags (no zero) 10\n",
      "ssr based F test:         F=1.1068  , p=0.3698  , df_denom=69, df_num=10\n",
      "ssr based chi2 test:   chi2=14.4359 , p=0.1540  , df=10\n",
      "likelihood ratio test: chi2=13.3887 , p=0.2027  , df=10\n",
      "parameter F test:         F=1.1068  , p=0.3698  , df_denom=69, df_num=10\n",
      "\n",
      "Granger Causality\n",
      "number of lags (no zero) 10\n",
      "ssr based F test:         F=0.3801  , p=0.9513  , df_denom=69, df_num=10\n",
      "ssr based chi2 test:   chi2=4.9576  , p=0.8940  , df=10\n",
      "likelihood ratio test: chi2=4.8259  , p=0.9025  , df=10\n",
      "parameter F test:         F=0.3801  , p=0.9513  , df_denom=69, df_num=10\n",
      "\n",
      "Granger Causality\n",
      "number of lags (no zero) 10\n",
      "ssr based F test:         F=0.5777  , p=0.8267  , df_denom=69, df_num=10\n",
      "ssr based chi2 test:   chi2=7.5347  , p=0.6742  , df=10\n",
      "likelihood ratio test: chi2=7.2358  , p=0.7030  , df=10\n",
      "parameter F test:         F=0.5777  , p=0.8267  , df_denom=69, df_num=10\n",
      "\n",
      "Granger Causality\n",
      "number of lags (no zero) 10\n",
      "ssr based F test:         F=0.7976  , p=0.6312  , df_denom=69, df_num=10\n",
      "ssr based chi2 test:   chi2=10.4037 , p=0.4058  , df=10\n",
      "likelihood ratio test: chi2=9.8451  , p=0.4542  , df=10\n",
      "parameter F test:         F=0.7976  , p=0.6312  , df_denom=69, df_num=10\n",
      "\n",
      "Granger Causality\n",
      "number of lags (no zero) 10\n",
      "ssr based F test:         F=1.2935  , p=0.2515  , df_denom=69, df_num=10\n",
      "ssr based chi2 test:   chi2=16.8722 , p=0.0772  , df=10\n",
      "likelihood ratio test: chi2=15.4641 , p=0.1160  , df=10\n",
      "parameter F test:         F=1.2935  , p=0.2515  , df_denom=69, df_num=10\n",
      "\n",
      "Granger Causality\n",
      "number of lags (no zero) 10\n",
      "ssr based F test:         F=0.4093  , p=0.9377  , df_denom=69, df_num=10\n",
      "ssr based chi2 test:   chi2=5.3390  , p=0.8674  , df=10\n",
      "likelihood ratio test: chi2=5.1867  , p=0.8784  , df=10\n",
      "parameter F test:         F=0.4093  , p=0.9377  , df_denom=69, df_num=10\n",
      "\n",
      "Granger Causality\n",
      "number of lags (no zero) 10\n",
      "ssr based F test:         F=1.0207  , p=0.4355  , df_denom=69, df_num=10\n",
      "ssr based chi2 test:   chi2=13.3136 , p=0.2067  , df=10\n",
      "likelihood ratio test: chi2=12.4164 , p=0.2582  , df=10\n",
      "parameter F test:         F=1.0207  , p=0.4355  , df_denom=69, df_num=10\n",
      "\n",
      "Granger Causality\n",
      "number of lags (no zero) 10\n",
      "ssr based F test:         F=1.6508  , p=0.1107  , df_denom=69, df_num=10\n",
      "ssr based chi2 test:   chi2=21.5315 , p=0.0177  , df=10\n",
      "likelihood ratio test: chi2=19.3048 , p=0.0366  , df=10\n",
      "parameter F test:         F=1.6508  , p=0.1107  , df_denom=69, df_num=10\n",
      "\n",
      "Granger Causality\n",
      "number of lags (no zero) 10\n",
      "ssr based F test:         F=0.8080  , p=0.6216  , df_denom=69, df_num=10\n",
      "ssr based chi2 test:   chi2=10.5397 , p=0.3945  , df=10\n",
      "likelihood ratio test: chi2=9.9669  , p=0.4434  , df=10\n",
      "parameter F test:         F=0.8080  , p=0.6216  , df_denom=69, df_num=10\n",
      "\n",
      "Granger Causality\n",
      "number of lags (no zero) 10\n",
      "ssr based F test:         F=0.9362  , p=0.5061  , df_denom=69, df_num=10\n",
      "ssr based chi2 test:   chi2=12.2118 , p=0.2711  , df=10\n",
      "likelihood ratio test: chi2=11.4513 , p=0.3235  , df=10\n",
      "parameter F test:         F=0.9362  , p=0.5061  , df_denom=69, df_num=10\n",
      "\n",
      "Granger Causality\n",
      "number of lags (no zero) 10\n",
      "ssr based F test:         F=1.2270  , p=0.2898  , df_denom=69, df_num=10\n",
      "ssr based chi2 test:   chi2=16.0045 , p=0.0995  , df=10\n",
      "likelihood ratio test: chi2=14.7305 , p=0.1422  , df=10\n",
      "parameter F test:         F=1.2270  , p=0.2898  , df_denom=69, df_num=10\n",
      "\n",
      "Granger Causality\n",
      "number of lags (no zero) 10\n",
      "ssr based F test:         F=0.4389  , p=0.9221  , df_denom=69, df_num=10\n",
      "ssr based chi2 test:   chi2=5.7251  , p=0.8378  , df=10\n",
      "likelihood ratio test: chi2=5.5503  , p=0.8515  , df=10\n",
      "parameter F test:         F=0.4389  , p=0.9221  , df_denom=69, df_num=10\n",
      "\n",
      "Granger Causality\n",
      "number of lags (no zero) 10\n",
      "ssr based F test:         F=0.6558  , p=0.7607  , df_denom=69, df_num=10\n",
      "ssr based chi2 test:   chi2=8.5542  , p=0.5749  , df=10\n",
      "likelihood ratio test: chi2=8.1717  , p=0.6121  , df=10\n",
      "parameter F test:         F=0.6558  , p=0.7607  , df_denom=69, df_num=10\n",
      "\n",
      "Granger Causality\n",
      "number of lags (no zero) 10\n",
      "ssr based F test:         F=0.9487  , p=0.4954  , df_denom=69, df_num=10\n",
      "ssr based chi2 test:   chi2=12.3744 , p=0.2608  , df=10\n",
      "likelihood ratio test: chi2=11.5945 , p=0.3131  , df=10\n",
      "parameter F test:         F=0.9487  , p=0.4954  , df_denom=69, df_num=10\n",
      "\n",
      "Granger Causality\n",
      "number of lags (no zero) 10\n",
      "ssr based F test:         F=1.0804  , p=0.3892  , df_denom=69, df_num=10\n",
      "ssr based chi2 test:   chi2=14.0917 , p=0.1689  , df=10\n",
      "likelihood ratio test: chi2=13.0916 , p=0.2186  , df=10\n",
      "parameter F test:         F=1.0804  , p=0.3892  , df_denom=69, df_num=10\n",
      "\n",
      "Granger Causality\n",
      "number of lags (no zero) 10\n",
      "ssr based F test:         F=0.8577  , p=0.5761  , df_denom=69, df_num=10\n",
      "ssr based chi2 test:   chi2=11.1868 , p=0.3432  , df=10\n",
      "likelihood ratio test: chi2=10.5443 , p=0.3941  , df=10\n",
      "parameter F test:         F=0.8577  , p=0.5761  , df_denom=69, df_num=10\n",
      "\n",
      "Granger Causality\n",
      "number of lags (no zero) 10\n",
      "ssr based F test:         F=0.9984  , p=0.4536  , df_denom=69, df_num=10\n",
      "ssr based chi2 test:   chi2=13.0227 , p=0.2224  , df=10\n",
      "likelihood ratio test: chi2=12.1626 , p=0.2743  , df=10\n",
      "parameter F test:         F=0.9984  , p=0.4536  , df_denom=69, df_num=10\n",
      "\n",
      "Granger Causality\n",
      "number of lags (no zero) 10\n",
      "ssr based F test:         F=0.9791  , p=0.4696  , df_denom=69, df_num=10\n",
      "ssr based chi2 test:   chi2=12.7711 , p=0.2368  , df=10\n",
      "likelihood ratio test: chi2=11.9425 , p=0.2889  , df=10\n",
      "parameter F test:         F=0.9791  , p=0.4696  , df_denom=69, df_num=10\n",
      "\n",
      "Granger Causality\n",
      "number of lags (no zero) 10\n",
      "ssr based F test:         F=0.6039  , p=0.8053  , df_denom=69, df_num=10\n",
      "ssr based chi2 test:   chi2=7.8769  , p=0.6409  , df=10\n",
      "likelihood ratio test: chi2=7.5511  , p=0.6726  , df=10\n",
      "parameter F test:         F=0.6039  , p=0.8053  , df_denom=69, df_num=10\n",
      "\n",
      "Granger Causality\n",
      "number of lags (no zero) 10\n",
      "ssr based F test:         F=0.9889  , p=0.4614  , df_denom=69, df_num=10\n",
      "ssr based chi2 test:   chi2=12.8988 , p=0.2294  , df=10\n",
      "likelihood ratio test: chi2=12.0542 , p=0.2814  , df=10\n",
      "parameter F test:         F=0.9889  , p=0.4614  , df_denom=69, df_num=10\n",
      "\n",
      "Granger Causality\n",
      "number of lags (no zero) 10\n",
      "ssr based F test:         F=1.7852  , p=0.0797  , df_denom=69, df_num=10\n",
      "ssr based chi2 test:   chi2=23.2849 , p=0.0097  , df=10\n",
      "likelihood ratio test: chi2=20.7086 , p=0.0232  , df=10\n",
      "parameter F test:         F=1.7852  , p=0.0797  , df_denom=69, df_num=10\n",
      "\n",
      "Granger Causality\n",
      "number of lags (no zero) 10\n",
      "ssr based F test:         F=0.6851  , p=0.7346  , df_denom=69, df_num=10\n",
      "ssr based chi2 test:   chi2=8.9362  , p=0.5382  , df=10\n",
      "likelihood ratio test: chi2=8.5199  , p=0.5782  , df=10\n",
      "parameter F test:         F=0.6851  , p=0.7346  , df_denom=69, df_num=10\n",
      "\n",
      "Granger Causality\n",
      "number of lags (no zero) 10\n",
      "ssr based F test:         F=0.9944  , p=0.4569  , df_denom=69, df_num=10\n",
      "ssr based chi2 test:   chi2=12.9699 , p=0.2254  , df=10\n",
      "likelihood ratio test: chi2=12.1164 , p=0.2773  , df=10\n",
      "parameter F test:         F=0.9944  , p=0.4569  , df_denom=69, df_num=10\n",
      "\n",
      "Granger Causality\n",
      "number of lags (no zero) 10\n",
      "ssr based F test:         F=1.4194  , p=0.1903  , df_denom=69, df_num=10\n",
      "ssr based chi2 test:   chi2=18.5141 , p=0.0469  , df=10\n",
      "likelihood ratio test: chi2=16.8363 , p=0.0781  , df=10\n",
      "parameter F test:         F=1.4194  , p=0.1903  , df_denom=69, df_num=10\n",
      "\n",
      "Granger Causality\n",
      "number of lags (no zero) 10\n",
      "ssr based F test:         F=1.2492  , p=0.2765  , df_denom=69, df_num=10\n",
      "ssr based chi2 test:   chi2=16.2941 , p=0.0915  , df=10\n",
      "likelihood ratio test: chi2=14.9760 , p=0.1329  , df=10\n",
      "parameter F test:         F=1.2492  , p=0.2765  , df_denom=69, df_num=10\n",
      "\n",
      "Granger Causality\n",
      "number of lags (no zero) 10\n",
      "ssr based F test:         F=1.7757  , p=0.0816  , df_denom=69, df_num=10\n",
      "ssr based chi2 test:   chi2=23.1619 , p=0.0102  , df=10\n",
      "likelihood ratio test: chi2=20.6109 , p=0.0240  , df=10\n",
      "parameter F test:         F=1.7757  , p=0.0816  , df_denom=69, df_num=10\n",
      "\n",
      "Granger Causality\n",
      "number of lags (no zero) 10\n",
      "ssr based F test:         F=1.5832  , p=0.1301  , df_denom=69, df_num=10\n",
      "ssr based chi2 test:   chi2=20.6510 , p=0.0237  , df=10\n",
      "likelihood ratio test: chi2=18.5915 , p=0.0458  , df=10\n",
      "parameter F test:         F=1.5832  , p=0.1301  , df_denom=69, df_num=10\n",
      "\n",
      "Granger Causality\n",
      "number of lags (no zero) 10\n",
      "ssr based F test:         F=2.0508  , p=0.0408  , df_denom=69, df_num=10\n",
      "ssr based chi2 test:   chi2=26.7500 , p=0.0029  , df=10\n",
      "likelihood ratio test: chi2=23.4203 , p=0.0093  , df=10\n",
      "parameter F test:         F=2.0508  , p=0.0408  , df_denom=69, df_num=10\n",
      "\n",
      "Granger Causality\n",
      "number of lags (no zero) 10\n",
      "ssr based F test:         F=1.3492  , p=0.2227  , df_denom=69, df_num=10\n",
      "ssr based chi2 test:   chi2=17.5986 , p=0.0621  , df=10\n",
      "likelihood ratio test: chi2=16.0738 , p=0.0975  , df=10\n",
      "parameter F test:         F=1.3492  , p=0.2227  , df_denom=69, df_num=10\n",
      "\n",
      "Granger Causality\n",
      "number of lags (no zero) 10\n",
      "ssr based F test:         F=0.8876  , p=0.5490  , df_denom=69, df_num=10\n",
      "ssr based chi2 test:   chi2=11.5779 , p=0.3143  , df=10\n",
      "likelihood ratio test: chi2=10.8914 , p=0.3660  , df=10\n",
      "parameter F test:         F=0.8876  , p=0.5490  , df_denom=69, df_num=10\n",
      "\n",
      "Granger Causality\n",
      "number of lags (no zero) 10\n",
      "ssr based F test:         F=1.3304  , p=0.2321  , df_denom=69, df_num=10\n",
      "ssr based chi2 test:   chi2=17.3536 , p=0.0669  , df=10\n",
      "likelihood ratio test: chi2=15.8686 , p=0.1035  , df=10\n",
      "parameter F test:         F=1.3304  , p=0.2321  , df_denom=69, df_num=10\n",
      "\n",
      "Granger Causality\n",
      "number of lags (no zero) 10\n",
      "ssr based F test:         F=0.4287  , p=0.9277  , df_denom=69, df_num=10\n",
      "ssr based chi2 test:   chi2=5.5920  , p=0.8483  , df=10\n",
      "likelihood ratio test: chi2=5.4252  , p=0.8610  , df=10\n",
      "parameter F test:         F=0.4287  , p=0.9277  , df_denom=69, df_num=10\n",
      "\n",
      "Granger Causality\n",
      "number of lags (no zero) 10\n",
      "ssr based F test:         F=0.6253  , p=0.7872  , df_denom=69, df_num=10\n",
      "ssr based chi2 test:   chi2=8.1559  , p=0.6136  , df=10\n",
      "likelihood ratio test: chi2=7.8073  , p=0.6477  , df=10\n",
      "parameter F test:         F=0.6253  , p=0.7872  , df_denom=69, df_num=10\n",
      "\n",
      "Granger Causality\n",
      "number of lags (no zero) 10\n",
      "ssr based F test:         F=2.1536  , p=0.0313  , df_denom=69, df_num=10\n",
      "ssr based chi2 test:   chi2=28.0901 , p=0.0017  , df=10\n",
      "likelihood ratio test: chi2=24.4474 , p=0.0065  , df=10\n",
      "parameter F test:         F=2.1536  , p=0.0313  , df_denom=69, df_num=10\n",
      "\n",
      "Granger Causality\n",
      "number of lags (no zero) 10\n",
      "ssr based F test:         F=0.4285  , p=0.9279  , df_denom=69, df_num=10\n",
      "ssr based chi2 test:   chi2=5.5886  , p=0.8486  , df=10\n",
      "likelihood ratio test: chi2=5.4219  , p=0.8613  , df=10\n",
      "parameter F test:         F=0.4285  , p=0.9279  , df_denom=69, df_num=10\n",
      "\n",
      "Granger Causality\n",
      "number of lags (no zero) 10\n",
      "ssr based F test:         F=2.0188  , p=0.0443  , df_denom=69, df_num=10\n",
      "ssr based chi2 test:   chi2=26.3324 , p=0.0033  , df=10\n",
      "likelihood ratio test: chi2=23.0977 , p=0.0104  , df=10\n",
      "parameter F test:         F=2.0188  , p=0.0443  , df_denom=69, df_num=10\n",
      "\n",
      "Granger Causality\n",
      "number of lags (no zero) 10\n",
      "ssr based F test:         F=1.0437  , p=0.4173  , df_denom=69, df_num=10\n",
      "ssr based chi2 test:   chi2=13.6129 , p=0.1914  , df=10\n",
      "likelihood ratio test: chi2=12.6767 , p=0.2423  , df=10\n",
      "parameter F test:         F=1.0437  , p=0.4173  , df_denom=69, df_num=10\n",
      "\n",
      "Granger Causality\n",
      "number of lags (no zero) 10\n",
      "ssr based F test:         F=1.4032  , p=0.1974  , df_denom=69, df_num=10\n",
      "ssr based chi2 test:   chi2=18.3024 , p=0.0501  , df=10\n",
      "likelihood ratio test: chi2=16.6606 , p=0.0822  , df=10\n",
      "parameter F test:         F=1.4032  , p=0.1974  , df_denom=69, df_num=10\n",
      "\n",
      "Granger Causality\n",
      "number of lags (no zero) 10\n",
      "ssr based F test:         F=2.1451  , p=0.0320  , df_denom=69, df_num=10\n",
      "ssr based chi2 test:   chi2=27.9802 , p=0.0018  , df=10\n",
      "likelihood ratio test: chi2=24.3636 , p=0.0067  , df=10\n",
      "parameter F test:         F=2.1451  , p=0.0320  , df_denom=69, df_num=10\n",
      "\n",
      "Granger Causality\n",
      "number of lags (no zero) 10\n",
      "ssr based F test:         F=2.0590  , p=0.0399  , df_denom=69, df_num=10\n",
      "ssr based chi2 test:   chi2=26.8566 , p=0.0027  , df=10\n",
      "likelihood ratio test: chi2=23.5024 , p=0.0090  , df=10\n",
      "parameter F test:         F=2.0590  , p=0.0399  , df_denom=69, df_num=10\n",
      "\n",
      "Granger Causality\n",
      "number of lags (no zero) 10\n",
      "ssr based F test:         F=1.7915  , p=0.0784  , df_denom=69, df_num=10\n",
      "ssr based chi2 test:   chi2=23.3676 , p=0.0095  , df=10\n",
      "likelihood ratio test: chi2=20.7743 , p=0.0227  , df=10\n",
      "parameter F test:         F=1.7915  , p=0.0784  , df_denom=69, df_num=10\n",
      "\n",
      "Granger Causality\n",
      "number of lags (no zero) 10\n",
      "ssr based F test:         F=1.0974  , p=0.3766  , df_denom=69, df_num=10\n",
      "ssr based chi2 test:   chi2=14.3143 , p=0.1591  , df=10\n",
      "likelihood ratio test: chi2=13.2839 , p=0.2082  , df=10\n",
      "parameter F test:         F=1.0974  , p=0.3766  , df_denom=69, df_num=10\n",
      "\n",
      "Granger Causality\n",
      "number of lags (no zero) 10\n",
      "ssr based F test:         F=0.5841  , p=0.8215  , df_denom=69, df_num=10\n",
      "ssr based chi2 test:   chi2=7.6193  , p=0.6660  , df=10\n",
      "likelihood ratio test: chi2=7.3139  , p=0.6955  , df=10\n",
      "parameter F test:         F=0.5841  , p=0.8215  , df_denom=69, df_num=10\n",
      "\n",
      "Granger Causality\n",
      "number of lags (no zero) 10\n",
      "ssr based F test:         F=0.8074  , p=0.6222  , df_denom=69, df_num=10\n",
      "ssr based chi2 test:   chi2=10.5317 , p=0.3951  , df=10\n",
      "likelihood ratio test: chi2=9.9597  , p=0.4440  , df=10\n",
      "parameter F test:         F=0.8074  , p=0.6222  , df_denom=69, df_num=10\n",
      "\n",
      "Granger Causality\n",
      "number of lags (no zero) 10\n",
      "ssr based F test:         F=1.0471  , p=0.4146  , df_denom=69, df_num=10\n",
      "ssr based chi2 test:   chi2=13.6578 , p=0.1892  , df=10\n",
      "likelihood ratio test: chi2=12.7157 , p=0.2400  , df=10\n",
      "parameter F test:         F=1.0471  , p=0.4146  , df_denom=69, df_num=10\n",
      "\n",
      "Granger Causality\n",
      "number of lags (no zero) 10\n",
      "ssr based F test:         F=1.9803  , p=0.0488  , df_denom=69, df_num=10\n",
      "ssr based chi2 test:   chi2=25.8298 , p=0.0040  , df=10\n",
      "likelihood ratio test: chi2=22.7081 , p=0.0119  , df=10\n",
      "parameter F test:         F=1.9803  , p=0.0488  , df_denom=69, df_num=10\n",
      "\n",
      "Granger Causality\n",
      "number of lags (no zero) 10\n",
      "ssr based F test:         F=1.1876  , p=0.3145  , df_denom=69, df_num=10\n",
      "ssr based chi2 test:   chi2=15.4898 , p=0.1152  , df=10\n",
      "likelihood ratio test: chi2=14.2924 , p=0.1601  , df=10\n",
      "parameter F test:         F=1.1876  , p=0.3145  , df_denom=69, df_num=10\n",
      "\n",
      "Granger Causality\n",
      "number of lags (no zero) 10\n",
      "ssr based F test:         F=0.8024  , p=0.6268  , df_denom=69, df_num=10\n",
      "ssr based chi2 test:   chi2=10.4661 , p=0.4006  , df=10\n",
      "likelihood ratio test: chi2=9.9010  , p=0.4492  , df=10\n",
      "parameter F test:         F=0.8024  , p=0.6268  , df_denom=69, df_num=10\n",
      "\n",
      "Granger Causality\n",
      "number of lags (no zero) 10\n",
      "ssr based F test:         F=0.8194  , p=0.6111  , df_denom=69, df_num=10\n",
      "ssr based chi2 test:   chi2=10.6877 , p=0.3824  , df=10\n",
      "likelihood ratio test: chi2=10.0993 , p=0.4318  , df=10\n",
      "parameter F test:         F=0.8194  , p=0.6111  , df_denom=69, df_num=10\n",
      "\n",
      "Granger Causality\n",
      "number of lags (no zero) 10\n",
      "ssr based F test:         F=1.6197  , p=0.1193  , df_denom=69, df_num=10\n",
      "ssr based chi2 test:   chi2=21.1265 , p=0.0202  , df=10\n",
      "likelihood ratio test: chi2=18.9773 , p=0.0406  , df=10\n",
      "parameter F test:         F=1.6197  , p=0.1193  , df_denom=69, df_num=10\n",
      "\n",
      "Granger Causality\n",
      "number of lags (no zero) 10\n",
      "ssr based F test:         F=0.8579  , p=0.5759  , df_denom=69, df_num=10\n",
      "ssr based chi2 test:   chi2=11.1897 , p=0.3429  , df=10\n",
      "likelihood ratio test: chi2=10.5469 , p=0.3939  , df=10\n",
      "parameter F test:         F=0.8579  , p=0.5759  , df_denom=69, df_num=10\n",
      "\n",
      "Granger Causality\n",
      "number of lags (no zero) 10\n",
      "ssr based F test:         F=1.8779  , p=0.0632  , df_denom=69, df_num=10\n",
      "ssr based chi2 test:   chi2=24.4945 , p=0.0064  , df=10\n",
      "likelihood ratio test: chi2=21.6646 , p=0.0169  , df=10\n",
      "parameter F test:         F=1.8779  , p=0.0632  , df_denom=69, df_num=10\n",
      "\n",
      "Granger Causality\n",
      "number of lags (no zero) 10\n",
      "ssr based F test:         F=0.7771  , p=0.6502  , df_denom=69, df_num=10\n",
      "ssr based chi2 test:   chi2=10.1362 , p=0.4286  , df=10\n",
      "likelihood ratio test: chi2=9.6049  , p=0.4758  , df=10\n",
      "parameter F test:         F=0.7771  , p=0.6502  , df_denom=69, df_num=10\n",
      "\n",
      "Granger Causality\n",
      "number of lags (no zero) 10\n",
      "ssr based F test:         F=2.7023  , p=0.0074  , df_denom=69, df_num=10\n",
      "ssr based chi2 test:   chi2=35.2476 , p=0.0001  , df=10\n",
      "likelihood ratio test: chi2=29.7434 , p=0.0009  , df=10\n",
      "parameter F test:         F=2.7023  , p=0.0074  , df_denom=69, df_num=10\n",
      "\n",
      "Granger Causality\n",
      "number of lags (no zero) 10\n",
      "ssr based F test:         F=1.7209  , p=0.0933  , df_denom=69, df_num=10\n",
      "ssr based chi2 test:   chi2=22.4466 , p=0.0130  , df=10\n",
      "likelihood ratio test: chi2=20.0402 , p=0.0289  , df=10\n",
      "parameter F test:         F=1.7209  , p=0.0933  , df_denom=69, df_num=10\n",
      "\n",
      "Granger Causality\n",
      "number of lags (no zero) 10\n",
      "ssr based F test:         F=2.5910  , p=0.0100  , df_denom=69, df_num=10\n",
      "ssr based chi2 test:   chi2=33.7957 , p=0.0002  , df=10\n",
      "likelihood ratio test: chi2=28.6940 , p=0.0014  , df=10\n",
      "parameter F test:         F=2.5910  , p=0.0100  , df_denom=69, df_num=10\n",
      "\n",
      "Granger Causality\n",
      "number of lags (no zero) 10\n",
      "ssr based F test:         F=1.3181  , p=0.2385  , df_denom=69, df_num=10\n",
      "ssr based chi2 test:   chi2=17.1923 , p=0.0702  , df=10\n",
      "likelihood ratio test: chi2=15.7333 , p=0.1075  , df=10\n",
      "parameter F test:         F=1.3181  , p=0.2385  , df_denom=69, df_num=10\n",
      "\n",
      "Granger Causality\n",
      "number of lags (no zero) 10\n",
      "ssr based F test:         F=1.0970  , p=0.3769  , df_denom=69, df_num=10\n",
      "ssr based chi2 test:   chi2=14.3082 , p=0.1594  , df=10\n",
      "likelihood ratio test: chi2=13.2786 , p=0.2085  , df=10\n",
      "parameter F test:         F=1.0970  , p=0.3769  , df_denom=69, df_num=10\n",
      "\n",
      "Granger Causality\n",
      "number of lags (no zero) 10\n",
      "ssr based F test:         F=1.9082  , p=0.0586  , df_denom=69, df_num=10\n",
      "ssr based chi2 test:   chi2=24.8897 , p=0.0056  , df=10\n",
      "likelihood ratio test: chi2=21.9747 , p=0.0152  , df=10\n",
      "parameter F test:         F=1.9082  , p=0.0586  , df_denom=69, df_num=10\n",
      "\n",
      "Granger Causality\n",
      "number of lags (no zero) 10\n",
      "ssr based F test:         F=1.1814  , p=0.3184  , df_denom=69, df_num=10\n",
      "ssr based chi2 test:   chi2=15.4101 , p=0.1178  , df=10\n",
      "likelihood ratio test: chi2=14.2244 , p=0.1630  , df=10\n",
      "parameter F test:         F=1.1814  , p=0.3184  , df_denom=69, df_num=10\n",
      "\n",
      "Granger Causality\n",
      "number of lags (no zero) 10\n",
      "ssr based F test:         F=0.9103  , p=0.5288  , df_denom=69, df_num=10\n",
      "ssr based chi2 test:   chi2=11.8740 , p=0.2936  , df=10\n",
      "likelihood ratio test: chi2=11.1535 , p=0.3457  , df=10\n",
      "parameter F test:         F=0.9103  , p=0.5288  , df_denom=69, df_num=10\n",
      "\n",
      "Granger Causality\n",
      "number of lags (no zero) 10\n",
      "ssr based F test:         F=0.9949  , p=0.4565  , df_denom=69, df_num=10\n",
      "ssr based chi2 test:   chi2=12.9765 , p=0.2250  , df=10\n",
      "likelihood ratio test: chi2=12.1222 , p=0.2770  , df=10\n",
      "parameter F test:         F=0.9949  , p=0.4565  , df_denom=69, df_num=10\n",
      "\n",
      "Granger Causality\n",
      "number of lags (no zero) 10\n",
      "ssr based F test:         F=0.9323  , p=0.5096  , df_denom=69, df_num=10\n",
      "ssr based chi2 test:   chi2=12.1600 , p=0.2745  , df=10\n",
      "likelihood ratio test: chi2=11.4057 , p=0.3268  , df=10\n",
      "parameter F test:         F=0.9323  , p=0.5096  , df_denom=69, df_num=10\n",
      "\n",
      "Granger Causality\n",
      "number of lags (no zero) 10\n",
      "ssr based F test:         F=1.2368  , p=0.2839  , df_denom=69, df_num=10\n",
      "ssr based chi2 test:   chi2=16.1318 , p=0.0959  , df=10\n",
      "likelihood ratio test: chi2=14.8385 , p=0.1381  , df=10\n",
      "parameter F test:         F=1.2368  , p=0.2839  , df_denom=69, df_num=10\n",
      "\n",
      "Granger Causality\n",
      "number of lags (no zero) 10\n",
      "ssr based F test:         F=1.8347  , p=0.0705  , df_denom=69, df_num=10\n",
      "ssr based chi2 test:   chi2=23.9303 , p=0.0078  , df=10\n",
      "likelihood ratio test: chi2=21.2199 , p=0.0196  , df=10\n",
      "parameter F test:         F=1.8347  , p=0.0705  , df_denom=69, df_num=10\n",
      "\n",
      "Granger Causality\n",
      "number of lags (no zero) 10\n",
      "ssr based F test:         F=0.5520  , p=0.8468  , df_denom=69, df_num=10\n",
      "ssr based chi2 test:   chi2=7.1996  , p=0.7065  , df=10\n",
      "likelihood ratio test: chi2=6.9262  , p=0.7324  , df=10\n",
      "parameter F test:         F=0.5520  , p=0.8468  , df_denom=69, df_num=10\n",
      "\n",
      "Granger Causality\n",
      "number of lags (no zero) 10\n",
      "ssr based F test:         F=1.0980  , p=0.3762  , df_denom=69, df_num=10\n",
      "ssr based chi2 test:   chi2=14.3218 , p=0.1588  , df=10\n",
      "likelihood ratio test: chi2=13.2904 , p=0.2079  , df=10\n",
      "parameter F test:         F=1.0980  , p=0.3762  , df_denom=69, df_num=10\n",
      "\n",
      "Granger Causality\n",
      "number of lags (no zero) 10\n",
      "ssr based F test:         F=0.7013  , p=0.7200  , df_denom=69, df_num=10\n",
      "ssr based chi2 test:   chi2=9.1468  , p=0.5182  , df=10\n",
      "likelihood ratio test: chi2=8.7113  , p=0.5597  , df=10\n",
      "parameter F test:         F=0.7013  , p=0.7200  , df_denom=69, df_num=10\n",
      "\n",
      "Granger Causality\n",
      "number of lags (no zero) 10\n",
      "ssr based F test:         F=1.4182  , p=0.1909  , df_denom=69, df_num=10\n",
      "ssr based chi2 test:   chi2=18.4981 , p=0.0471  , df=10\n",
      "likelihood ratio test: chi2=16.8230 , p=0.0784  , df=10\n",
      "parameter F test:         F=1.4182  , p=0.1909  , df_denom=69, df_num=10\n",
      "\n",
      "Granger Causality\n",
      "number of lags (no zero) 10\n",
      "ssr based F test:         F=1.6392  , p=0.1138  , df_denom=69, df_num=10\n",
      "ssr based chi2 test:   chi2=21.3815 , p=0.0186  , df=10\n",
      "likelihood ratio test: chi2=19.1837 , p=0.0380  , df=10\n",
      "parameter F test:         F=1.6392  , p=0.1138  , df_denom=69, df_num=10\n",
      "\n",
      "Granger Causality\n",
      "number of lags (no zero) 10\n",
      "ssr based F test:         F=1.4590  , p=0.1739  , df_denom=69, df_num=10\n",
      "ssr based chi2 test:   chi2=19.0310 , p=0.0399  , df=10\n",
      "likelihood ratio test: chi2=17.2640 , p=0.0687  , df=10\n",
      "parameter F test:         F=1.4590  , p=0.1739  , df_denom=69, df_num=10\n",
      "\n",
      "Granger Causality\n",
      "number of lags (no zero) 10\n",
      "ssr based F test:         F=0.2858  , p=0.9823  , df_denom=69, df_num=10\n",
      "ssr based chi2 test:   chi2=3.7279  , p=0.9588  , df=10\n",
      "likelihood ratio test: chi2=3.6528  , p=0.9617  , df=10\n",
      "parameter F test:         F=0.2858  , p=0.9823  , df_denom=69, df_num=10\n",
      "\n",
      "Granger Causality\n",
      "number of lags (no zero) 10\n",
      "ssr based F test:         F=0.6066  , p=0.8030  , df_denom=69, df_num=10\n",
      "ssr based chi2 test:   chi2=7.9117  , p=0.6375  , df=10\n",
      "likelihood ratio test: chi2=7.5831  , p=0.6695  , df=10\n",
      "parameter F test:         F=0.6066  , p=0.8030  , df_denom=69, df_num=10\n",
      "\n",
      "Granger Causality\n",
      "number of lags (no zero) 10\n",
      "ssr based F test:         F=2.2181  , p=0.0265  , df_denom=69, df_num=10\n",
      "ssr based chi2 test:   chi2=28.9314 , p=0.0013  , df=10\n",
      "likelihood ratio test: chi2=25.0864 , p=0.0052  , df=10\n",
      "parameter F test:         F=2.2181  , p=0.0265  , df_denom=69, df_num=10\n",
      "\n",
      "Granger Causality\n",
      "number of lags (no zero) 10\n",
      "ssr based F test:         F=0.6914  , p=0.7290  , df_denom=69, df_num=10\n",
      "ssr based chi2 test:   chi2=9.0182  , p=0.5304  , df=10\n",
      "likelihood ratio test: chi2=8.5945  , p=0.5710  , df=10\n",
      "parameter F test:         F=0.6914  , p=0.7290  , df_denom=69, df_num=10\n",
      "\n",
      "Granger Causality\n",
      "number of lags (no zero) 10\n",
      "ssr based F test:         F=0.7834  , p=0.6443  , df_denom=69, df_num=10\n",
      "ssr based chi2 test:   chi2=10.2189 , p=0.4215  , df=10\n",
      "likelihood ratio test: chi2=9.6792  , p=0.4691  , df=10\n",
      "parameter F test:         F=0.7834  , p=0.6443  , df_denom=69, df_num=10\n",
      "\n",
      "Granger Causality\n",
      "number of lags (no zero) 10\n",
      "ssr based F test:         F=1.6698  , p=0.1057  , df_denom=69, df_num=10\n",
      "ssr based chi2 test:   chi2=21.7796 , p=0.0163  , df=10\n",
      "likelihood ratio test: chi2=19.5047 , p=0.0343  , df=10\n",
      "parameter F test:         F=1.6698  , p=0.1057  , df_denom=69, df_num=10\n",
      "\n",
      "Granger Causality\n",
      "number of lags (no zero) 10\n",
      "ssr based F test:         F=1.0041  , p=0.4489  , df_denom=69, df_num=10\n",
      "ssr based chi2 test:   chi2=13.0968 , p=0.2183  , df=10\n",
      "likelihood ratio test: chi2=12.2273 , p=0.2701  , df=10\n",
      "parameter F test:         F=1.0041  , p=0.4489  , df_denom=69, df_num=10\n",
      "\n",
      "Granger Causality\n",
      "number of lags (no zero) 10\n",
      "ssr based F test:         F=1.1581  , p=0.3339  , df_denom=69, df_num=10\n",
      "ssr based chi2 test:   chi2=15.1054 , p=0.1283  , df=10\n",
      "likelihood ratio test: chi2=13.9638 , p=0.1746  , df=10\n",
      "parameter F test:         F=1.1581  , p=0.3339  , df_denom=69, df_num=10\n",
      "\n",
      "Granger Causality\n",
      "number of lags (no zero) 10\n",
      "ssr based F test:         F=1.2224  , p=0.2926  , df_denom=69, df_num=10\n",
      "ssr based chi2 test:   chi2=15.9442 , p=0.1012  , df=10\n",
      "likelihood ratio test: chi2=14.6792 , p=0.1442  , df=10\n",
      "parameter F test:         F=1.2224  , p=0.2926  , df_denom=69, df_num=10\n",
      "\n",
      "Granger Causality\n",
      "number of lags (no zero) 10\n",
      "ssr based F test:         F=2.9367  , p=0.0040  , df_denom=69, df_num=10\n",
      "ssr based chi2 test:   chi2=38.3048 , p=0.0000  , df=10\n",
      "likelihood ratio test: chi2=31.9139 , p=0.0004  , df=10\n",
      "parameter F test:         F=2.9367  , p=0.0040  , df_denom=69, df_num=10\n",
      "\n",
      "Granger Causality\n",
      "number of lags (no zero) 10\n",
      "ssr based F test:         F=1.1048  , p=0.3712  , df_denom=69, df_num=10\n",
      "ssr based chi2 test:   chi2=14.4111 , p=0.1551  , df=10\n",
      "likelihood ratio test: chi2=13.3673 , p=0.2039  , df=10\n",
      "parameter F test:         F=1.1048  , p=0.3712  , df_denom=69, df_num=10\n",
      "\n",
      "Granger Causality\n",
      "number of lags (no zero) 10\n",
      "ssr based F test:         F=1.6166  , p=0.1201  , df_denom=69, df_num=10\n",
      "ssr based chi2 test:   chi2=21.0866 , p=0.0205  , df=10\n",
      "likelihood ratio test: chi2=18.9450 , p=0.0410  , df=10\n",
      "parameter F test:         F=1.6166  , p=0.1201  , df_denom=69, df_num=10\n",
      "\n",
      "Granger Causality\n",
      "number of lags (no zero) 10\n",
      "ssr based F test:         F=2.4104  , p=0.0160  , df_denom=69, df_num=10\n",
      "ssr based chi2 test:   chi2=31.4403 , p=0.0005  , df=10\n",
      "likelihood ratio test: chi2=26.9652 , p=0.0026  , df=10\n",
      "parameter F test:         F=2.4104  , p=0.0160  , df_denom=69, df_num=10\n",
      "\n",
      "Granger Causality\n",
      "number of lags (no zero) 10\n",
      "ssr based F test:         F=0.7380  , p=0.6863  , df_denom=69, df_num=10\n",
      "ssr based chi2 test:   chi2=9.6266  , p=0.4738  , df=10\n",
      "likelihood ratio test: chi2=9.1457  , p=0.5183  , df=10\n",
      "parameter F test:         F=0.7380  , p=0.6863  , df_denom=69, df_num=10\n",
      "\n",
      "Granger Causality\n",
      "number of lags (no zero) 10\n",
      "ssr based F test:         F=1.5034  , p=0.1569  , df_denom=69, df_num=10\n",
      "ssr based chi2 test:   chi2=19.6099 , p=0.0332  , df=10\n",
      "likelihood ratio test: chi2=17.7407 , p=0.0595  , df=10\n",
      "parameter F test:         F=1.5034  , p=0.1569  , df_denom=69, df_num=10\n",
      "\n",
      "Granger Causality\n",
      "number of lags (no zero) 10\n",
      "ssr based F test:         F=1.5199  , p=0.1510  , df_denom=69, df_num=10\n",
      "ssr based chi2 test:   chi2=19.8246 , p=0.0310  , df=10\n",
      "likelihood ratio test: chi2=17.9167 , p=0.0564  , df=10\n",
      "parameter F test:         F=1.5199  , p=0.1510  , df_denom=69, df_num=10\n",
      "\n",
      "Granger Causality\n",
      "number of lags (no zero) 10\n",
      "ssr based F test:         F=1.0079  , p=0.4459  , df_denom=69, df_num=10\n",
      "ssr based chi2 test:   chi2=13.1462 , p=0.2156  , df=10\n",
      "likelihood ratio test: chi2=12.2704 , p=0.2674  , df=10\n",
      "parameter F test:         F=1.0079  , p=0.4459  , df_denom=69, df_num=10\n",
      "\n",
      "Granger Causality\n",
      "number of lags (no zero) 10\n",
      "ssr based F test:         F=0.7319  , p=0.6919  , df_denom=69, df_num=10\n",
      "ssr based chi2 test:   chi2=9.5471  , p=0.4811  , df=10\n",
      "likelihood ratio test: chi2=9.0739  , p=0.5251  , df=10\n",
      "parameter F test:         F=0.7319  , p=0.6919  , df_denom=69, df_num=10\n",
      "\n",
      "Granger Causality\n",
      "number of lags (no zero) 10\n",
      "ssr based F test:         F=0.5328  , p=0.8612  , df_denom=69, df_num=10\n",
      "ssr based chi2 test:   chi2=6.9490  , p=0.7303  , df=10\n",
      "likelihood ratio test: chi2=6.6938  , p=0.7540  , df=10\n",
      "parameter F test:         F=0.5328  , p=0.8612  , df_denom=69, df_num=10\n",
      "\n",
      "Granger Causality\n",
      "number of lags (no zero) 10\n",
      "ssr based F test:         F=0.6720  , p=0.7464  , df_denom=69, df_num=10\n",
      "ssr based chi2 test:   chi2=8.7650  , p=0.5545  , df=10\n",
      "likelihood ratio test: chi2=8.3640  , p=0.5933  , df=10\n",
      "parameter F test:         F=0.6720  , p=0.7464  , df_denom=69, df_num=10\n",
      "\n",
      "Granger Causality\n",
      "number of lags (no zero) 10\n",
      "ssr based F test:         F=1.5201  , p=0.1510  , df_denom=69, df_num=10\n",
      "ssr based chi2 test:   chi2=19.8273 , p=0.0309  , df=10\n",
      "likelihood ratio test: chi2=17.9189 , p=0.0563  , df=10\n",
      "parameter F test:         F=1.5201  , p=0.1510  , df_denom=69, df_num=10\n",
      "\n",
      "Granger Causality\n",
      "number of lags (no zero) 10\n",
      "ssr based F test:         F=1.8999  , p=0.0598  , df_denom=69, df_num=10\n",
      "ssr based chi2 test:   chi2=24.7818 , p=0.0058  , df=10\n",
      "likelihood ratio test: chi2=21.8901 , p=0.0157  , df=10\n",
      "parameter F test:         F=1.8999  , p=0.0598  , df_denom=69, df_num=10\n",
      "\n",
      "Granger Causality\n",
      "number of lags (no zero) 10\n",
      "ssr based F test:         F=0.5845  , p=0.8212  , df_denom=69, df_num=10\n",
      "ssr based chi2 test:   chi2=7.6236  , p=0.6655  , df=10\n",
      "likelihood ratio test: chi2=7.3179  , p=0.6951  , df=10\n",
      "parameter F test:         F=0.5845  , p=0.8212  , df_denom=69, df_num=10\n",
      "\n",
      "Granger Causality\n",
      "number of lags (no zero) 10\n",
      "ssr based F test:         F=0.6321  , p=0.7814  , df_denom=69, df_num=10\n",
      "ssr based chi2 test:   chi2=8.2451  , p=0.6049  , df=10\n",
      "likelihood ratio test: chi2=7.8890  , p=0.6397  , df=10\n",
      "parameter F test:         F=0.6321  , p=0.7814  , df_denom=69, df_num=10\n",
      "\n",
      "Granger Causality\n",
      "number of lags (no zero) 10\n",
      "ssr based F test:         F=0.4237  , p=0.9304  , df_denom=69, df_num=10\n",
      "ssr based chi2 test:   chi2=5.5268  , p=0.8533  , df=10\n",
      "likelihood ratio test: chi2=5.3638  , p=0.8656  , df=10\n",
      "parameter F test:         F=0.4237  , p=0.9304  , df_denom=69, df_num=10\n",
      "\n",
      "Granger Causality\n",
      "number of lags (no zero) 10\n",
      "ssr based F test:         F=1.4252  , p=0.1879  , df_denom=69, df_num=10\n",
      "ssr based chi2 test:   chi2=18.5893 , p=0.0458  , df=10\n",
      "likelihood ratio test: chi2=16.8987 , p=0.0766  , df=10\n",
      "parameter F test:         F=1.4252  , p=0.1879  , df_denom=69, df_num=10\n",
      "\n",
      "Granger Causality\n",
      "number of lags (no zero) 10\n",
      "ssr based F test:         F=1.4118  , p=0.1937  , df_denom=69, df_num=10\n",
      "ssr based chi2 test:   chi2=18.4142 , p=0.0484  , df=10\n",
      "likelihood ratio test: chi2=16.7534 , p=0.0800  , df=10\n",
      "parameter F test:         F=1.4118  , p=0.1937  , df_denom=69, df_num=10\n",
      "\n",
      "Granger Causality\n",
      "number of lags (no zero) 10\n",
      "ssr based F test:         F=1.9474  , p=0.0531  , df_denom=69, df_num=10\n",
      "ssr based chi2 test:   chi2=25.4010 , p=0.0046  , df=10\n",
      "likelihood ratio test: chi2=22.3743 , p=0.0133  , df=10\n",
      "parameter F test:         F=1.9474  , p=0.0531  , df_denom=69, df_num=10\n",
      "\n",
      "Granger Causality\n",
      "number of lags (no zero) 10\n",
      "ssr based F test:         F=1.2717  , p=0.2636  , df_denom=69, df_num=10\n",
      "ssr based chi2 test:   chi2=16.5878 , p=0.0840  , df=10\n",
      "likelihood ratio test: chi2=15.2243 , p=0.1241  , df=10\n",
      "parameter F test:         F=1.2717  , p=0.2636  , df_denom=69, df_num=10\n",
      "\n",
      "Granger Causality\n",
      "number of lags (no zero) 10\n",
      "ssr based F test:         F=3.2733  , p=0.0016  , df_denom=69, df_num=10\n",
      "ssr based chi2 test:   chi2=42.6954 , p=0.0000  , df=10\n",
      "likelihood ratio test: chi2=34.9422 , p=0.0001  , df=10\n",
      "parameter F test:         F=3.2733  , p=0.0016  , df_denom=69, df_num=10\n",
      "\n",
      "Granger Causality\n",
      "number of lags (no zero) 10\n",
      "ssr based F test:         F=0.7016  , p=0.7197  , df_denom=69, df_num=10\n",
      "ssr based chi2 test:   chi2=9.1510  , p=0.5178  , df=10\n",
      "likelihood ratio test: chi2=8.7151  , p=0.5593  , df=10\n",
      "parameter F test:         F=0.7016  , p=0.7197  , df_denom=69, df_num=10\n",
      "\n",
      "Granger Causality\n",
      "number of lags (no zero) 10\n",
      "ssr based F test:         F=1.0092  , p=0.4448  , df_denom=69, df_num=10\n",
      "ssr based chi2 test:   chi2=13.1639 , p=0.2147  , df=10\n",
      "likelihood ratio test: chi2=12.2859 , p=0.2664  , df=10\n",
      "parameter F test:         F=1.0092  , p=0.4448  , df_denom=69, df_num=10\n",
      "\n",
      "Granger Causality\n",
      "number of lags (no zero) 10\n",
      "ssr based F test:         F=1.1589  , p=0.3333  , df_denom=69, df_num=10\n",
      "ssr based chi2 test:   chi2=15.1165 , p=0.1279  , df=10\n",
      "likelihood ratio test: chi2=13.9733 , p=0.1742  , df=10\n",
      "parameter F test:         F=1.1589  , p=0.3333  , df_denom=69, df_num=10\n",
      "\n",
      "Granger Causality\n",
      "number of lags (no zero) 10\n",
      "ssr based F test:         F=1.4254  , p=0.1878  , df_denom=69, df_num=10\n",
      "ssr based chi2 test:   chi2=18.5915 , p=0.0458  , df=10\n",
      "likelihood ratio test: chi2=16.9006 , p=0.0766  , df=10\n",
      "parameter F test:         F=1.4254  , p=0.1878  , df_denom=69, df_num=10\n",
      "\n",
      "Granger Causality\n",
      "number of lags (no zero) 10\n",
      "ssr based F test:         F=0.7929  , p=0.6356  , df_denom=69, df_num=10\n",
      "ssr based chi2 test:   chi2=10.3423 , p=0.4110  , df=10\n",
      "likelihood ratio test: chi2=9.7900  , p=0.4591  , df=10\n",
      "parameter F test:         F=0.7929  , p=0.6356  , df_denom=69, df_num=10\n",
      "\n",
      "Granger Causality\n",
      "number of lags (no zero) 10\n",
      "ssr based F test:         F=1.9056  , p=0.0590  , df_denom=69, df_num=10\n",
      "ssr based chi2 test:   chi2=24.8559 , p=0.0056  , df=10\n",
      "likelihood ratio test: chi2=21.9482 , p=0.0154  , df=10\n",
      "parameter F test:         F=1.9056  , p=0.0590  , df_denom=69, df_num=10\n",
      "\n",
      "Granger Causality\n",
      "number of lags (no zero) 10\n",
      "ssr based F test:         F=0.8296  , p=0.6018  , df_denom=69, df_num=10\n",
      "ssr based chi2 test:   chi2=10.8205 , p=0.3717  , df=10\n",
      "likelihood ratio test: chi2=10.2179 , p=0.4216  , df=10\n",
      "parameter F test:         F=0.8296  , p=0.6018  , df_denom=69, df_num=10\n",
      "\n",
      "Granger Causality\n",
      "number of lags (no zero) 10\n",
      "ssr based F test:         F=2.1571  , p=0.0310  , df_denom=69, df_num=10\n",
      "ssr based chi2 test:   chi2=28.1362 , p=0.0017  , df=10\n",
      "likelihood ratio test: chi2=24.4826 , p=0.0064  , df=10\n",
      "parameter F test:         F=2.1571  , p=0.0310  , df_denom=69, df_num=10\n",
      "\n",
      "Granger Causality\n",
      "number of lags (no zero) 10\n",
      "ssr based F test:         F=1.0261  , p=0.4312  , df_denom=69, df_num=10\n",
      "ssr based chi2 test:   chi2=13.3841 , p=0.2030  , df=10\n",
      "likelihood ratio test: chi2=12.4778 , p=0.2544  , df=10\n",
      "parameter F test:         F=1.0261  , p=0.4312  , df_denom=69, df_num=10\n",
      "\n",
      "Granger Causality\n",
      "number of lags (no zero) 10\n",
      "ssr based F test:         F=1.3726  , p=0.2115  , df_denom=69, df_num=10\n",
      "ssr based chi2 test:   chi2=17.9032 , p=0.0566  , df=10\n",
      "likelihood ratio test: chi2=16.3283 , p=0.0906  , df=10\n",
      "parameter F test:         F=1.3726  , p=0.2115  , df_denom=69, df_num=10\n",
      "\n",
      "Granger Causality\n",
      "number of lags (no zero) 10\n",
      "ssr based F test:         F=0.6864  , p=0.7335  , df_denom=69, df_num=10\n",
      "ssr based chi2 test:   chi2=8.9531  , p=0.5366  , df=10\n",
      "likelihood ratio test: chi2=8.5353  , p=0.5767  , df=10\n",
      "parameter F test:         F=0.6864  , p=0.7335  , df_denom=69, df_num=10\n",
      "\n",
      "Granger Causality\n",
      "number of lags (no zero) 10\n",
      "ssr based F test:         F=1.2985  , p=0.2489  , df_denom=69, df_num=10\n",
      "ssr based chi2 test:   chi2=16.9364 , p=0.0758  , df=10\n",
      "likelihood ratio test: chi2=15.5182 , p=0.1143  , df=10\n",
      "parameter F test:         F=1.2985  , p=0.2489  , df_denom=69, df_num=10\n",
      "\n",
      "Granger Causality\n",
      "number of lags (no zero) 10\n",
      "ssr based F test:         F=1.3079  , p=0.2438  , df_denom=69, df_num=10\n",
      "ssr based chi2 test:   chi2=17.0598 , p=0.0731  , df=10\n",
      "likelihood ratio test: chi2=15.6220 , p=0.1110  , df=10\n",
      "parameter F test:         F=1.3079  , p=0.2438  , df_denom=69, df_num=10\n",
      "\n",
      "Granger Causality\n",
      "number of lags (no zero) 10\n",
      "ssr based F test:         F=0.6531  , p=0.7631  , df_denom=69, df_num=10\n",
      "ssr based chi2 test:   chi2=8.5193  , p=0.5783  , df=10\n",
      "likelihood ratio test: chi2=8.1398  , p=0.6152  , df=10\n",
      "parameter F test:         F=0.6531  , p=0.7631  , df_denom=69, df_num=10\n",
      "\n",
      "Granger Causality\n",
      "number of lags (no zero) 10\n",
      "ssr based F test:         F=0.9285  , p=0.5129  , df_denom=69, df_num=10\n",
      "ssr based chi2 test:   chi2=12.1106 , p=0.2777  , df=10\n",
      "likelihood ratio test: chi2=11.3622 , p=0.3300  , df=10\n",
      "parameter F test:         F=0.9285  , p=0.5129  , df_denom=69, df_num=10\n",
      "\n",
      "Granger Causality\n",
      "number of lags (no zero) 10\n",
      "ssr based F test:         F=1.1077  , p=0.3691  , df_denom=69, df_num=10\n",
      "ssr based chi2 test:   chi2=14.4483 , p=0.1535  , df=10\n",
      "likelihood ratio test: chi2=13.3994 , p=0.2022  , df=10\n",
      "parameter F test:         F=1.1077  , p=0.3691  , df_denom=69, df_num=10\n",
      "\n",
      "Granger Causality\n",
      "number of lags (no zero) 10\n",
      "ssr based F test:         F=2.3880  , p=0.0170  , df_denom=69, df_num=10\n",
      "ssr based chi2 test:   chi2=31.1482 , p=0.0006  , df=10\n",
      "likelihood ratio test: chi2=26.7484 , p=0.0029  , df=10\n",
      "parameter F test:         F=2.3880  , p=0.0170  , df_denom=69, df_num=10\n",
      "\n",
      "Granger Causality\n",
      "number of lags (no zero) 10\n",
      "ssr based F test:         F=0.5401  , p=0.8557  , df_denom=69, df_num=10\n",
      "ssr based chi2 test:   chi2=7.0450  , p=0.7212  , df=10\n",
      "likelihood ratio test: chi2=6.7829  , p=0.7458  , df=10\n",
      "parameter F test:         F=0.5401  , p=0.8557  , df_denom=69, df_num=10\n",
      "\n",
      "Granger Causality\n",
      "number of lags (no zero) 10\n",
      "ssr based F test:         F=1.1572  , p=0.3345  , df_denom=69, df_num=10\n",
      "ssr based chi2 test:   chi2=15.0936 , p=0.1287  , df=10\n",
      "likelihood ratio test: chi2=13.9537 , p=0.1751  , df=10\n",
      "parameter F test:         F=1.1572  , p=0.3345  , df_denom=69, df_num=10\n",
      "\n",
      "Granger Causality\n",
      "number of lags (no zero) 10\n",
      "ssr based F test:         F=0.3387  , p=0.9673  , df_denom=69, df_num=10\n",
      "ssr based chi2 test:   chi2=4.4175  , p=0.9266  , df=10\n",
      "likelihood ratio test: chi2=4.3125  , p=0.9321  , df=10\n",
      "parameter F test:         F=0.3387  , p=0.9673  , df_denom=69, df_num=10\n",
      "\n",
      "Granger Causality\n",
      "number of lags (no zero) 10\n",
      "ssr based F test:         F=1.5047  , p=0.1565  , df_denom=69, df_num=10\n",
      "ssr based chi2 test:   chi2=19.6271 , p=0.0330  , df=10\n",
      "likelihood ratio test: chi2=17.7547 , p=0.0592  , df=10\n",
      "parameter F test:         F=1.5047  , p=0.1565  , df_denom=69, df_num=10\n",
      "\n",
      "Granger Causality\n",
      "number of lags (no zero) 10\n",
      "ssr based F test:         F=0.6911  , p=0.7293  , df_denom=69, df_num=10\n",
      "ssr based chi2 test:   chi2=9.0138  , p=0.5308  , df=10\n",
      "likelihood ratio test: chi2=8.5904  , p=0.5714  , df=10\n",
      "parameter F test:         F=0.6911  , p=0.7293  , df_denom=69, df_num=10\n",
      "\n",
      "Granger Causality\n",
      "number of lags (no zero) 10\n",
      "ssr based F test:         F=0.7349  , p=0.6892  , df_denom=69, df_num=10\n",
      "ssr based chi2 test:   chi2=9.5859  , p=0.4775  , df=10\n",
      "likelihood ratio test: chi2=9.1090  , p=0.5218  , df=10\n",
      "parameter F test:         F=0.7349  , p=0.6892  , df_denom=69, df_num=10\n",
      "\n",
      "Granger Causality\n",
      "number of lags (no zero) 10\n",
      "ssr based F test:         F=0.8283  , p=0.6029  , df_denom=69, df_num=10\n",
      "ssr based chi2 test:   chi2=10.8041 , p=0.3730  , df=10\n",
      "likelihood ratio test: chi2=10.2032 , p=0.4228  , df=10\n",
      "parameter F test:         F=0.8283  , p=0.6029  , df_denom=69, df_num=10\n",
      "\n",
      "Granger Causality\n",
      "number of lags (no zero) 10\n",
      "ssr based F test:         F=3.1104  , p=0.0025  , df_denom=69, df_num=10\n",
      "ssr based chi2 test:   chi2=40.5705 , p=0.0000  , df=10\n",
      "likelihood ratio test: chi2=33.4893 , p=0.0002  , df=10\n",
      "parameter F test:         F=3.1104  , p=0.0025  , df_denom=69, df_num=10\n",
      "\n",
      "Granger Causality\n",
      "number of lags (no zero) 10\n",
      "ssr based F test:         F=1.1184  , p=0.3614  , df_denom=69, df_num=10\n",
      "ssr based chi2 test:   chi2=14.5877 , p=0.1478  , df=10\n",
      "likelihood ratio test: chi2=13.5195 , p=0.1961  , df=10\n",
      "parameter F test:         F=1.1184  , p=0.3614  , df_denom=69, df_num=10\n",
      "\n",
      "Granger Causality\n",
      "number of lags (no zero) 10\n",
      "ssr based F test:         F=1.9437  , p=0.0536  , df_denom=69, df_num=10\n",
      "ssr based chi2 test:   chi2=25.3525 , p=0.0047  , df=10\n",
      "likelihood ratio test: chi2=22.3365 , p=0.0135  , df=10\n",
      "parameter F test:         F=1.9437  , p=0.0536  , df_denom=69, df_num=10\n",
      "\n",
      "Granger Causality\n",
      "number of lags (no zero) 10\n",
      "ssr based F test:         F=1.6479  , p=0.1115  , df_denom=69, df_num=10\n",
      "ssr based chi2 test:   chi2=21.4942 , p=0.0179  , df=10\n",
      "likelihood ratio test: chi2=19.2747 , p=0.0369  , df=10\n",
      "parameter F test:         F=1.6479  , p=0.1115  , df_denom=69, df_num=10\n",
      "\n",
      "Granger Causality\n",
      "number of lags (no zero) 10\n",
      "ssr based F test:         F=0.8523  , p=0.5809  , df_denom=69, df_num=10\n",
      "ssr based chi2 test:   chi2=11.1173 , p=0.3485  , df=10\n",
      "likelihood ratio test: chi2=10.4824 , p=0.3992  , df=10\n",
      "parameter F test:         F=0.8523  , p=0.5809  , df_denom=69, df_num=10\n",
      "\n",
      "Granger Causality\n",
      "number of lags (no zero) 10\n",
      "ssr based F test:         F=1.0492  , p=0.4130  , df_denom=69, df_num=10\n",
      "ssr based chi2 test:   chi2=13.6852 , p=0.1878  , df=10\n",
      "likelihood ratio test: chi2=12.7395 , p=0.2386  , df=10\n",
      "parameter F test:         F=1.0492  , p=0.4130  , df_denom=69, df_num=10\n",
      "\n",
      "Granger Causality\n",
      "number of lags (no zero) 10\n",
      "ssr based F test:         F=1.9347  , p=0.0548  , df_denom=69, df_num=10\n",
      "ssr based chi2 test:   chi2=25.2356 , p=0.0049  , df=10\n",
      "likelihood ratio test: chi2=22.2452 , p=0.0139  , df=10\n",
      "parameter F test:         F=1.9347  , p=0.0548  , df_denom=69, df_num=10\n",
      "\n",
      "Granger Causality\n",
      "number of lags (no zero) 10\n",
      "ssr based F test:         F=1.4860  , p=0.1634  , df_denom=69, df_num=10\n",
      "ssr based chi2 test:   chi2=19.3830 , p=0.0357  , df=10\n",
      "likelihood ratio test: chi2=17.5542 , p=0.0630  , df=10\n",
      "parameter F test:         F=1.4860  , p=0.1634  , df_denom=69, df_num=10\n",
      "\n",
      "Granger Causality\n",
      "number of lags (no zero) 10\n",
      "ssr based F test:         F=1.0841  , p=0.3864  , df_denom=69, df_num=10\n",
      "ssr based chi2 test:   chi2=14.1402 , p=0.1667  , df=10\n",
      "likelihood ratio test: chi2=13.1336 , p=0.2163  , df=10\n",
      "parameter F test:         F=1.0841  , p=0.3864  , df_denom=69, df_num=10\n",
      "\n",
      "Granger Causality\n",
      "number of lags (no zero) 10\n",
      "ssr based F test:         F=1.1977  , p=0.3079  , df_denom=69, df_num=10\n",
      "ssr based chi2 test:   chi2=15.6226 , p=0.1110  , df=10\n",
      "likelihood ratio test: chi2=14.4057 , p=0.1553  , df=10\n",
      "parameter F test:         F=1.1977  , p=0.3079  , df_denom=69, df_num=10\n",
      "\n",
      "Granger Causality\n",
      "number of lags (no zero) 10\n",
      "ssr based F test:         F=0.8488  , p=0.5842  , df_denom=69, df_num=10\n",
      "ssr based chi2 test:   chi2=11.0708 , p=0.3520  , df=10\n",
      "likelihood ratio test: chi2=10.4410 , p=0.4027  , df=10\n",
      "parameter F test:         F=0.8488  , p=0.5842  , df_denom=69, df_num=10\n",
      "\n",
      "Granger Causality\n",
      "number of lags (no zero) 10\n",
      "ssr based F test:         F=1.9639  , p=0.0509  , df_denom=69, df_num=10\n",
      "ssr based chi2 test:   chi2=25.6166 , p=0.0043  , df=10\n",
      "likelihood ratio test: chi2=22.5423 , p=0.0126  , df=10\n",
      "parameter F test:         F=1.9639  , p=0.0509  , df_denom=69, df_num=10\n",
      "\n",
      "Granger Causality\n",
      "number of lags (no zero) 10\n",
      "ssr based F test:         F=1.0786  , p=0.3906  , df_denom=69, df_num=10\n",
      "ssr based chi2 test:   chi2=14.0682 , p=0.1699  , df=10\n",
      "likelihood ratio test: chi2=13.0713 , p=0.2197  , df=10\n",
      "parameter F test:         F=1.0786  , p=0.3906  , df_denom=69, df_num=10\n",
      "\n",
      "Granger Causality\n",
      "number of lags (no zero) 10\n",
      "ssr based F test:         F=0.7790  , p=0.6485  , df_denom=69, df_num=10\n",
      "ssr based chi2 test:   chi2=10.1603 , p=0.4265  , df=10\n",
      "likelihood ratio test: chi2=9.6266  , p=0.4738  , df=10\n",
      "parameter F test:         F=0.7790  , p=0.6485  , df_denom=69, df_num=10\n",
      "\n",
      "Granger Causality\n",
      "number of lags (no zero) 10\n",
      "ssr based F test:         F=1.2821  , p=0.2578  , df_denom=69, df_num=10\n",
      "ssr based chi2 test:   chi2=16.7234 , p=0.0807  , df=10\n",
      "likelihood ratio test: chi2=15.3388 , p=0.1202  , df=10\n",
      "parameter F test:         F=1.2821  , p=0.2578  , df_denom=69, df_num=10\n",
      "\n",
      "Granger Causality\n",
      "number of lags (no zero) 10\n",
      "ssr based F test:         F=1.6019  , p=0.1245  , df_denom=69, df_num=10\n",
      "ssr based chi2 test:   chi2=20.8942 , p=0.0218  , df=10\n",
      "likelihood ratio test: chi2=18.7890 , p=0.0430  , df=10\n",
      "parameter F test:         F=1.6019  , p=0.1245  , df_denom=69, df_num=10\n",
      "\n",
      "Granger Causality\n",
      "number of lags (no zero) 10\n",
      "ssr based F test:         F=0.5258  , p=0.8662  , df_denom=69, df_num=10\n",
      "ssr based chi2 test:   chi2=6.8582  , p=0.7388  , df=10\n",
      "likelihood ratio test: chi2=6.6095  , p=0.7617  , df=10\n",
      "parameter F test:         F=0.5258  , p=0.8662  , df_denom=69, df_num=10\n",
      "\n",
      "Granger Causality\n",
      "number of lags (no zero) 10\n",
      "ssr based F test:         F=2.7198  , p=0.0071  , df_denom=69, df_num=10\n",
      "ssr based chi2 test:   chi2=35.4760 , p=0.0001  , df=10\n",
      "likelihood ratio test: chi2=29.9074 , p=0.0009  , df=10\n",
      "parameter F test:         F=2.7198  , p=0.0071  , df_denom=69, df_num=10\n",
      "\n",
      "Granger Causality\n",
      "number of lags (no zero) 10\n",
      "ssr based F test:         F=1.0710  , p=0.3962  , df_denom=69, df_num=10\n",
      "ssr based chi2 test:   chi2=13.9698 , p=0.1744  , df=10\n",
      "likelihood ratio test: chi2=12.9862 , p=0.2244  , df=10\n",
      "parameter F test:         F=1.0710  , p=0.3962  , df_denom=69, df_num=10\n",
      "\n",
      "Granger Causality\n",
      "number of lags (no zero) 10\n",
      "ssr based F test:         F=1.5456  , p=0.1422  , df_denom=69, df_num=10\n",
      "ssr based chi2 test:   chi2=20.1601 , p=0.0278  , df=10\n",
      "likelihood ratio test: chi2=18.1912 , p=0.0518  , df=10\n",
      "parameter F test:         F=1.5456  , p=0.1422  , df_denom=69, df_num=10\n",
      "\n",
      "Granger Causality\n",
      "number of lags (no zero) 10\n",
      "ssr based F test:         F=0.9401  , p=0.5028  , df_denom=69, df_num=10\n",
      "ssr based chi2 test:   chi2=12.2619 , p=0.2679  , df=10\n",
      "likelihood ratio test: chi2=11.4954 , p=0.3202  , df=10\n",
      "parameter F test:         F=0.9401  , p=0.5028  , df_denom=69, df_num=10\n",
      "\n",
      "Granger Causality\n",
      "number of lags (no zero) 10\n",
      "ssr based F test:         F=0.5519  , p=0.8468  , df_denom=69, df_num=10\n",
      "ssr based chi2 test:   chi2=7.1987  , p=0.7066  , df=10\n",
      "likelihood ratio test: chi2=6.9253  , p=0.7325  , df=10\n",
      "parameter F test:         F=0.5519  , p=0.8468  , df_denom=69, df_num=10\n",
      "\n",
      "Granger Causality\n",
      "number of lags (no zero) 10\n",
      "ssr based F test:         F=0.5432  , p=0.8534  , df_denom=69, df_num=10\n",
      "ssr based chi2 test:   chi2=7.0850  , p=0.7174  , df=10\n",
      "likelihood ratio test: chi2=6.8199  , p=0.7423  , df=10\n",
      "parameter F test:         F=0.5432  , p=0.8534  , df_denom=69, df_num=10\n",
      "\n",
      "Granger Causality\n",
      "number of lags (no zero) 10\n",
      "ssr based F test:         F=2.0581  , p=0.0400  , df_denom=69, df_num=10\n",
      "ssr based chi2 test:   chi2=26.8444 , p=0.0028  , df=10\n",
      "likelihood ratio test: chi2=23.4930 , p=0.0091  , df=10\n",
      "parameter F test:         F=2.0581  , p=0.0400  , df_denom=69, df_num=10\n",
      "\n",
      "Granger Causality\n",
      "number of lags (no zero) 10\n",
      "ssr based F test:         F=1.6814  , p=0.1028  , df_denom=69, df_num=10\n",
      "ssr based chi2 test:   chi2=21.9310 , p=0.0155  , df=10\n",
      "likelihood ratio test: chi2=19.6266 , p=0.0330  , df=10\n",
      "parameter F test:         F=1.6814  , p=0.1028  , df_denom=69, df_num=10\n",
      "\n",
      "Granger Causality\n",
      "number of lags (no zero) 10\n",
      "ssr based F test:         F=0.8097  , p=0.6200  , df_denom=69, df_num=10\n",
      "ssr based chi2 test:   chi2=10.5618 , p=0.3927  , df=10\n",
      "likelihood ratio test: chi2=9.9867  , p=0.4417  , df=10\n",
      "parameter F test:         F=0.8097  , p=0.6200  , df_denom=69, df_num=10\n",
      "\n",
      "Granger Causality\n",
      "number of lags (no zero) 10\n",
      "ssr based F test:         F=0.9090  , p=0.5300  , df_denom=69, df_num=10\n",
      "ssr based chi2 test:   chi2=11.8567 , p=0.2948  , df=10\n",
      "likelihood ratio test: chi2=11.1382 , p=0.3469  , df=10\n",
      "parameter F test:         F=0.9090  , p=0.5300  , df_denom=69, df_num=10\n",
      "\n",
      "Granger Causality\n",
      "number of lags (no zero) 10\n",
      "ssr based F test:         F=2.2775  , p=0.0227  , df_denom=69, df_num=10\n",
      "ssr based chi2 test:   chi2=29.7067 , p=0.0010  , df=10\n",
      "likelihood ratio test: chi2=25.6712 , p=0.0042  , df=10\n",
      "parameter F test:         F=2.2775  , p=0.0227  , df_denom=69, df_num=10\n",
      "\n",
      "Granger Causality\n",
      "number of lags (no zero) 10\n",
      "ssr based F test:         F=1.8433  , p=0.0690  , df_denom=69, df_num=10\n",
      "ssr based chi2 test:   chi2=24.0425 , p=0.0075  , df=10\n",
      "likelihood ratio test: chi2=21.3086 , p=0.0190  , df=10\n",
      "parameter F test:         F=1.8433  , p=0.0690  , df_denom=69, df_num=10\n",
      "\n",
      "Granger Causality\n",
      "number of lags (no zero) 10\n",
      "ssr based F test:         F=0.8808  , p=0.5551  , df_denom=69, df_num=10\n",
      "ssr based chi2 test:   chi2=11.4892 , p=0.3207  , df=10\n",
      "likelihood ratio test: chi2=10.8128 , p=0.3723  , df=10\n",
      "parameter F test:         F=0.8808  , p=0.5551  , df_denom=69, df_num=10\n",
      "\n",
      "Granger Causality\n",
      "number of lags (no zero) 10\n",
      "ssr based F test:         F=2.6280  , p=0.0090  , df_denom=69, df_num=10\n",
      "ssr based chi2 test:   chi2=34.2785 , p=0.0002  , df=10\n",
      "likelihood ratio test: chi2=29.0444 , p=0.0012  , df=10\n",
      "parameter F test:         F=2.6280  , p=0.0090  , df_denom=69, df_num=10\n",
      "\n",
      "Granger Causality\n",
      "number of lags (no zero) 10\n",
      "ssr based F test:         F=1.2876  , p=0.2548  , df_denom=69, df_num=10\n",
      "ssr based chi2 test:   chi2=16.7943 , p=0.0790  , df=10\n",
      "likelihood ratio test: chi2=15.3986 , p=0.1182  , df=10\n",
      "parameter F test:         F=1.2876  , p=0.2548  , df_denom=69, df_num=10\n",
      "\n",
      "Granger Causality\n",
      "number of lags (no zero) 10\n",
      "ssr based F test:         F=1.3382  , p=0.2282  , df_denom=69, df_num=10\n",
      "ssr based chi2 test:   chi2=17.4542 , p=0.0649  , df=10\n",
      "likelihood ratio test: chi2=15.9530 , p=0.1010  , df=10\n",
      "parameter F test:         F=1.3382  , p=0.2282  , df_denom=69, df_num=10\n",
      "\n",
      "Granger Causality\n",
      "number of lags (no zero) 10\n",
      "ssr based F test:         F=2.0156  , p=0.0446  , df_denom=69, df_num=10\n",
      "ssr based chi2 test:   chi2=26.2898 , p=0.0034  , df=10\n",
      "likelihood ratio test: chi2=23.0648 , p=0.0105  , df=10\n",
      "parameter F test:         F=2.0156  , p=0.0446  , df_denom=69, df_num=10\n",
      "\n",
      "Granger Causality\n",
      "number of lags (no zero) 10\n",
      "ssr based F test:         F=0.8651  , p=0.5693  , df_denom=69, df_num=10\n",
      "ssr based chi2 test:   chi2=11.2840 , p=0.3358  , df=10\n",
      "likelihood ratio test: chi2=10.6307 , p=0.3870  , df=10\n",
      "parameter F test:         F=0.8651  , p=0.5693  , df_denom=69, df_num=10\n",
      "\n",
      "Granger Causality\n",
      "number of lags (no zero) 10\n",
      "ssr based F test:         F=1.0963  , p=0.3774  , df_denom=69, df_num=10\n",
      "ssr based chi2 test:   chi2=14.2999 , p=0.1597  , df=10\n",
      "likelihood ratio test: chi2=13.2715 , p=0.2089  , df=10\n",
      "parameter F test:         F=1.0963  , p=0.3774  , df_denom=69, df_num=10\n",
      "\n",
      "Granger Causality\n",
      "number of lags (no zero) 10\n",
      "ssr based F test:         F=0.2095  , p=0.9948  , df_denom=69, df_num=10\n",
      "ssr based chi2 test:   chi2=2.7326  , p=0.9870  , df=10\n",
      "likelihood ratio test: chi2=2.6919  , p=0.9878  , df=10\n",
      "parameter F test:         F=0.2095  , p=0.9948  , df_denom=69, df_num=10\n",
      "\n",
      "Granger Causality\n",
      "number of lags (no zero) 10\n",
      "ssr based F test:         F=0.4211  , p=0.9317  , df_denom=69, df_num=10\n",
      "ssr based chi2 test:   chi2=5.4929  , p=0.8559  , df=10\n",
      "likelihood ratio test: chi2=5.3318  , p=0.8679  , df=10\n",
      "parameter F test:         F=0.4211  , p=0.9317  , df_denom=69, df_num=10\n",
      "\n",
      "Granger Causality\n",
      "number of lags (no zero) 10\n",
      "ssr based F test:         F=0.4175  , p=0.9336  , df_denom=69, df_num=10\n",
      "ssr based chi2 test:   chi2=5.4462  , p=0.8595  , df=10\n",
      "likelihood ratio test: chi2=5.2878  , p=0.8711  , df=10\n",
      "parameter F test:         F=0.4175  , p=0.9336  , df_denom=69, df_num=10\n",
      "\n",
      "Granger Causality\n",
      "number of lags (no zero) 10\n",
      "ssr based F test:         F=1.3213  , p=0.2368  , df_denom=69, df_num=10\n",
      "ssr based chi2 test:   chi2=17.2345 , p=0.0693  , df=10\n",
      "likelihood ratio test: chi2=15.7687 , p=0.1064  , df=10\n",
      "parameter F test:         F=1.3213  , p=0.2368  , df_denom=69, df_num=10\n",
      "\n",
      "Granger Causality\n",
      "number of lags (no zero) 10\n",
      "ssr based F test:         F=2.1653  , p=0.0304  , df_denom=69, df_num=10\n",
      "ssr based chi2 test:   chi2=28.2427 , p=0.0017  , df=10\n",
      "likelihood ratio test: chi2=24.5637 , p=0.0062  , df=10\n",
      "parameter F test:         F=2.1653  , p=0.0304  , df_denom=69, df_num=10\n",
      "\n",
      "Granger Causality\n",
      "number of lags (no zero) 10\n",
      "ssr based F test:         F=0.3392  , p=0.9671  , df_denom=69, df_num=10\n",
      "ssr based chi2 test:   chi2=4.4249  , p=0.9262  , df=10\n",
      "likelihood ratio test: chi2=4.3195  , p=0.9318  , df=10\n",
      "parameter F test:         F=0.3392  , p=0.9671  , df_denom=69, df_num=10\n",
      "\n",
      "Granger Causality\n",
      "number of lags (no zero) 10\n",
      "ssr based F test:         F=0.8931  , p=0.5442  , df_denom=69, df_num=10\n",
      "ssr based chi2 test:   chi2=11.6488 , p=0.3093  , df=10\n",
      "likelihood ratio test: chi2=10.9542 , p=0.3611  , df=10\n",
      "parameter F test:         F=0.8931  , p=0.5442  , df_denom=69, df_num=10\n",
      "\n",
      "Granger Causality\n",
      "number of lags (no zero) 10\n",
      "ssr based F test:         F=0.6827  , p=0.7368  , df_denom=69, df_num=10\n",
      "ssr based chi2 test:   chi2=8.9052  , p=0.5411  , df=10\n",
      "likelihood ratio test: chi2=8.4917  , p=0.5809  , df=10\n",
      "parameter F test:         F=0.6827  , p=0.7368  , df_denom=69, df_num=10\n",
      "\n",
      "Granger Causality\n",
      "number of lags (no zero) 10\n",
      "ssr based F test:         F=1.3194  , p=0.2378  , df_denom=69, df_num=10\n",
      "ssr based chi2 test:   chi2=17.2093 , p=0.0699  , df=10\n",
      "likelihood ratio test: chi2=15.7476 , p=0.1071  , df=10\n",
      "parameter F test:         F=1.3194  , p=0.2378  , df_denom=69, df_num=10\n",
      "\n",
      "Granger Causality\n",
      "number of lags (no zero) 10\n",
      "ssr based F test:         F=1.3964  , p=0.2005  , df_denom=69, df_num=10\n",
      "ssr based chi2 test:   chi2=18.2133 , p=0.0515  , df=10\n",
      "likelihood ratio test: chi2=16.5865 , p=0.0840  , df=10\n",
      "parameter F test:         F=1.3964  , p=0.2005  , df_denom=69, df_num=10\n",
      "\n",
      "Granger Causality\n",
      "number of lags (no zero) 10\n",
      "ssr based F test:         F=1.5291  , p=0.1478  , df_denom=69, df_num=10\n",
      "ssr based chi2 test:   chi2=19.9442 , p=0.0298  , df=10\n",
      "likelihood ratio test: chi2=18.0147 , p=0.0547  , df=10\n",
      "parameter F test:         F=1.5291  , p=0.1478  , df_denom=69, df_num=10\n",
      "\n",
      "Granger Causality\n",
      "number of lags (no zero) 10\n",
      "ssr based F test:         F=0.8797  , p=0.5561  , df_denom=69, df_num=10\n",
      "ssr based chi2 test:   chi2=11.4747 , p=0.3217  , df=10\n",
      "likelihood ratio test: chi2=10.8000 , p=0.3733  , df=10\n",
      "parameter F test:         F=0.8797  , p=0.5561  , df_denom=69, df_num=10\n",
      "\n",
      "Granger Causality\n",
      "number of lags (no zero) 10\n",
      "ssr based F test:         F=0.4879  , p=0.8924  , df_denom=69, df_num=10\n",
      "ssr based chi2 test:   chi2=6.3638  , p=0.7838  , df=10\n",
      "likelihood ratio test: chi2=6.1489  , p=0.8026  , df=10\n",
      "parameter F test:         F=0.4879  , p=0.8924  , df_denom=69, df_num=10\n",
      "\n",
      "Granger Causality\n",
      "number of lags (no zero) 10\n",
      "ssr based F test:         F=1.5880  , p=0.1286  , df_denom=69, df_num=10\n",
      "ssr based chi2 test:   chi2=20.7132 , p=0.0232  , df=10\n",
      "likelihood ratio test: chi2=18.6420 , p=0.0451  , df=10\n",
      "parameter F test:         F=1.5880  , p=0.1286  , df_denom=69, df_num=10\n",
      "\n",
      "Granger Causality\n",
      "number of lags (no zero) 10\n",
      "ssr based F test:         F=2.0541  , p=0.0404  , df_denom=69, df_num=10\n",
      "ssr based chi2 test:   chi2=26.7931 , p=0.0028  , df=10\n",
      "likelihood ratio test: chi2=23.4535 , p=0.0092  , df=10\n",
      "parameter F test:         F=2.0541  , p=0.0404  , df_denom=69, df_num=10\n",
      "\n",
      "Granger Causality\n",
      "number of lags (no zero) 10\n",
      "ssr based F test:         F=1.7855  , p=0.0796  , df_denom=69, df_num=10\n",
      "ssr based chi2 test:   chi2=23.2896 , p=0.0097  , df=10\n",
      "likelihood ratio test: chi2=20.7124 , p=0.0232  , df=10\n",
      "parameter F test:         F=1.7855  , p=0.0796  , df_denom=69, df_num=10\n",
      "\n",
      "Granger Causality\n",
      "number of lags (no zero) 10\n",
      "ssr based F test:         F=2.3119  , p=0.0207  , df_denom=69, df_num=10\n",
      "ssr based chi2 test:   chi2=30.1557 , p=0.0008  , df=10\n",
      "likelihood ratio test: chi2=26.0081 , p=0.0037  , df=10\n",
      "parameter F test:         F=2.3119  , p=0.0207  , df_denom=69, df_num=10\n",
      "\n",
      "Granger Causality\n",
      "number of lags (no zero) 10\n",
      "ssr based F test:         F=2.1211  , p=0.0340  , df_denom=69, df_num=10\n",
      "ssr based chi2 test:   chi2=27.6666 , p=0.0020  , df=10\n",
      "likelihood ratio test: chi2=24.1241 , p=0.0073  , df=10\n",
      "parameter F test:         F=2.1211  , p=0.0340  , df_denom=69, df_num=10\n",
      "\n",
      "Granger Causality\n",
      "number of lags (no zero) 10\n",
      "ssr based F test:         F=0.7081  , p=0.7138  , df_denom=69, df_num=10\n",
      "ssr based chi2 test:   chi2=9.2360  , p=0.5099  , df=10\n",
      "likelihood ratio test: chi2=8.7922  , p=0.5519  , df=10\n",
      "parameter F test:         F=0.7081  , p=0.7138  , df_denom=69, df_num=10\n",
      "\n",
      "Granger Causality\n",
      "number of lags (no zero) 10\n",
      "ssr based F test:         F=1.7934  , p=0.0781  , df_denom=69, df_num=10\n",
      "ssr based chi2 test:   chi2=23.3916 , p=0.0094  , df=10\n",
      "likelihood ratio test: chi2=20.7933 , p=0.0226  , df=10\n",
      "parameter F test:         F=1.7934  , p=0.0781  , df_denom=69, df_num=10\n",
      "\n",
      "Granger Causality\n",
      "number of lags (no zero) 10\n",
      "ssr based F test:         F=1.3332  , p=0.2307  , df_denom=69, df_num=10\n",
      "ssr based chi2 test:   chi2=17.3898 , p=0.0662  , df=10\n",
      "likelihood ratio test: chi2=15.8990 , p=0.1026  , df=10\n",
      "parameter F test:         F=1.3332  , p=0.2307  , df_denom=69, df_num=10\n",
      "\n",
      "Granger Causality\n",
      "number of lags (no zero) 10\n",
      "ssr based F test:         F=2.0320  , p=0.0428  , df_denom=69, df_num=10\n",
      "ssr based chi2 test:   chi2=26.5044 , p=0.0031  , df=10\n",
      "likelihood ratio test: chi2=23.2307 , p=0.0099  , df=10\n",
      "parameter F test:         F=2.0320  , p=0.0428  , df_denom=69, df_num=10\n",
      "\n",
      "Granger Causality\n",
      "number of lags (no zero) 10\n",
      "ssr based F test:         F=2.1100  , p=0.0350  , df_denom=69, df_num=10\n",
      "ssr based chi2 test:   chi2=27.5213 , p=0.0022  , df=10\n",
      "likelihood ratio test: chi2=24.0129 , p=0.0076  , df=10\n",
      "parameter F test:         F=2.1100  , p=0.0350  , df_denom=69, df_num=10\n",
      "\n",
      "Granger Causality\n",
      "number of lags (no zero) 10\n",
      "ssr based F test:         F=1.3835  , p=0.2064  , df_denom=69, df_num=10\n",
      "ssr based chi2 test:   chi2=18.0459 , p=0.0542  , df=10\n",
      "likelihood ratio test: chi2=16.4471 , p=0.0875  , df=10\n",
      "parameter F test:         F=1.3835  , p=0.2064  , df_denom=69, df_num=10\n",
      "\n",
      "Granger Causality\n",
      "number of lags (no zero) 10\n",
      "ssr based F test:         F=1.0372  , p=0.4224  , df_denom=69, df_num=10\n",
      "ssr based chi2 test:   chi2=13.5289 , p=0.1956  , df=10\n",
      "likelihood ratio test: chi2=12.6037 , p=0.2467  , df=10\n",
      "parameter F test:         F=1.0372  , p=0.4224  , df_denom=69, df_num=10\n",
      "\n",
      "Granger Causality\n",
      "number of lags (no zero) 10\n",
      "ssr based F test:         F=0.6803  , p=0.7390  , df_denom=69, df_num=10\n",
      "ssr based chi2 test:   chi2=8.8733  , p=0.5442  , df=10\n",
      "likelihood ratio test: chi2=8.4627  , p=0.5837  , df=10\n",
      "parameter F test:         F=0.6803  , p=0.7390  , df_denom=69, df_num=10\n",
      "\n",
      "Granger Causality\n",
      "number of lags (no zero) 10\n",
      "ssr based F test:         F=2.4367  , p=0.0150  , df_denom=69, df_num=10\n",
      "ssr based chi2 test:   chi2=31.7828 , p=0.0004  , df=10\n",
      "likelihood ratio test: chi2=27.2187 , p=0.0024  , df=10\n",
      "parameter F test:         F=2.4367  , p=0.0150  , df_denom=69, df_num=10\n",
      "\n",
      "Granger Causality\n",
      "number of lags (no zero) 10\n",
      "ssr based F test:         F=0.8352  , p=0.5966  , df_denom=69, df_num=10\n",
      "ssr based chi2 test:   chi2=10.8942 , p=0.3658  , df=10\n",
      "likelihood ratio test: chi2=10.2836 , p=0.4160  , df=10\n",
      "parameter F test:         F=0.8352  , p=0.5966  , df_denom=69, df_num=10\n",
      "\n",
      "Granger Causality\n",
      "number of lags (no zero) 10\n",
      "ssr based F test:         F=1.2015  , p=0.3055  , df_denom=69, df_num=10\n",
      "ssr based chi2 test:   chi2=15.6723 , p=0.1094  , df=10\n",
      "likelihood ratio test: chi2=14.4480 , p=0.1535  , df=10\n",
      "parameter F test:         F=1.2015  , p=0.3055  , df_denom=69, df_num=10\n",
      "300\n",
      "\n"
     ]
    },
    {
     "data": {
      "application/vnd.vega.v5+json": {
       "$schema": "https://vega.github.io/schema/vega/v5.json",
       "axes": [
        {
         "name": "x_axis",
         "orient": "bottom",
         "scale": "xscale",
         "zindex": 100
        },
        {
         "name": "y_axis",
         "orient": "left",
         "scale": "yscale",
         "zindex": 100
        }
       ],
       "background": "white",
       "data": [
        {
         "name": "distributions",
         "transform": [
          {
           "sort": {
            "field": [
             "trajectory",
             "timepoint"
            ]
           },
           "type": "collect"
          }
         ],
         "values": [
          {
           "lower": 0,
           "timepoint": 0,
           "trajectory": "Example",
           "upper": 0
          },
          {
           "lower": -1,
           "timepoint": 1,
           "trajectory": "Example",
           "upper": 1
          },
          {
           "lower": -2,
           "timepoint": 2,
           "trajectory": "Example",
           "upper": 2
          },
          {
           "lower": -3,
           "timepoint": 3,
           "trajectory": "Example",
           "upper": 3
          },
          {
           "lower": -4,
           "timepoint": 4,
           "trajectory": "Example",
           "upper": 4
          },
          {
           "lower": -3.099999999999998,
           "timepoint": 5,
           "trajectory": "Example",
           "upper": 3
          },
          {
           "lower": -4,
           "timepoint": 6,
           "trajectory": "Example",
           "upper": 4
          },
          {
           "lower": -5,
           "timepoint": 7,
           "trajectory": "Example",
           "upper": 3.1000000000000227
          },
          {
           "lower": -4,
           "timepoint": 8,
           "trajectory": "Example",
           "upper": 4
          },
          {
           "lower": -5,
           "timepoint": 9,
           "trajectory": "Example",
           "upper": 5
          },
          {
           "lower": -4,
           "timepoint": 10,
           "trajectory": "Example",
           "upper": 6
          },
          {
           "lower": -5,
           "timepoint": 11,
           "trajectory": "Example",
           "upper": 5
          },
          {
           "lower": -6,
           "timepoint": 12,
           "trajectory": "Example",
           "upper": 6
          },
          {
           "lower": -5,
           "timepoint": 13,
           "trajectory": "Example",
           "upper": 5
          },
          {
           "lower": -6,
           "timepoint": 14,
           "trajectory": "Example",
           "upper": 6
          },
          {
           "lower": -7,
           "timepoint": 15,
           "trajectory": "Example",
           "upper": 7
          },
          {
           "lower": -6,
           "timepoint": 16,
           "trajectory": "Example",
           "upper": 8
          },
          {
           "lower": -7,
           "timepoint": 17,
           "trajectory": "Example",
           "upper": 7.100000000000023
          },
          {
           "lower": -6,
           "timepoint": 18,
           "trajectory": "Example",
           "upper": 8
          },
          {
           "lower": -7,
           "timepoint": 19,
           "trajectory": "Example",
           "upper": 7
          },
          {
           "lower": -6.099999999999998,
           "timepoint": 20,
           "trajectory": "Example",
           "upper": 8
          },
          {
           "lower": -7,
           "timepoint": 21,
           "trajectory": "Example",
           "upper": 7
          },
          {
           "lower": -6,
           "timepoint": 22,
           "trajectory": "Example",
           "upper": 8
          },
          {
           "lower": -7,
           "timepoint": 23,
           "trajectory": "Example",
           "upper": 7
          },
          {
           "lower": -6.099999999999998,
           "timepoint": 24,
           "trajectory": "Example",
           "upper": 8
          },
          {
           "lower": -7,
           "timepoint": 25,
           "trajectory": "Example",
           "upper": 9
          },
          {
           "lower": -8,
           "timepoint": 26,
           "trajectory": "Example",
           "upper": 8
          },
          {
           "lower": -7,
           "timepoint": 27,
           "trajectory": "Example",
           "upper": 9
          },
          {
           "lower": -8,
           "timepoint": 28,
           "trajectory": "Example",
           "upper": 8
          },
          {
           "lower": -7,
           "timepoint": 29,
           "trajectory": "Example",
           "upper": 9
          },
          {
           "lower": -8,
           "timepoint": 30,
           "trajectory": "Example",
           "upper": 8.100000000000023
          },
          {
           "lower": -9,
           "timepoint": 31,
           "trajectory": "Example",
           "upper": 9
          },
          {
           "lower": -8.099999999999998,
           "timepoint": 32,
           "trajectory": "Example",
           "upper": 10
          },
          {
           "lower": -9,
           "timepoint": 33,
           "trajectory": "Example",
           "upper": 9
          },
          {
           "lower": -8.099999999999998,
           "timepoint": 34,
           "trajectory": "Example",
           "upper": 10
          },
          {
           "lower": -9,
           "timepoint": 35,
           "trajectory": "Example",
           "upper": 11
          },
          {
           "lower": -10,
           "timepoint": 36,
           "trajectory": "Example",
           "upper": 10
          },
          {
           "lower": -9,
           "timepoint": 37,
           "trajectory": "Example",
           "upper": 11
          },
          {
           "lower": -10,
           "timepoint": 38,
           "trajectory": "Example",
           "upper": 10
          },
          {
           "lower": -11,
           "timepoint": 39,
           "trajectory": "Example",
           "upper": 11
          },
          {
           "lower": -10,
           "timepoint": 40,
           "trajectory": "Example",
           "upper": 10.100000000000023
          },
          {
           "lower": -11,
           "timepoint": 41,
           "trajectory": "Example",
           "upper": 11
          },
          {
           "lower": -10,
           "timepoint": 42,
           "trajectory": "Example",
           "upper": 10.100000000000023
          },
          {
           "lower": -11,
           "timepoint": 43,
           "trajectory": "Example",
           "upper": 11
          },
          {
           "lower": -10.099999999999998,
           "timepoint": 44,
           "trajectory": "Example",
           "upper": 10.100000000000023
          },
          {
           "lower": -11,
           "timepoint": 45,
           "trajectory": "Example",
           "upper": 11
          },
          {
           "lower": -10.099999999999998,
           "timepoint": 46,
           "trajectory": "Example",
           "upper": 10.100000000000023
          },
          {
           "lower": -11,
           "timepoint": 47,
           "trajectory": "Example",
           "upper": 11
          },
          {
           "lower": -10,
           "timepoint": 48,
           "trajectory": "Example",
           "upper": 10
          },
          {
           "lower": -11,
           "timepoint": 49,
           "trajectory": "Example",
           "upper": 11
          },
          {
           "lower": -12,
           "timepoint": 50,
           "trajectory": "Example",
           "upper": 12
          },
          {
           "lower": -11,
           "timepoint": 51,
           "trajectory": "Example",
           "upper": 11
          },
          {
           "lower": -12,
           "timepoint": 52,
           "trajectory": "Example",
           "upper": 10.100000000000023
          },
          {
           "lower": -11,
           "timepoint": 53,
           "trajectory": "Example",
           "upper": 11
          },
          {
           "lower": -12,
           "timepoint": 54,
           "trajectory": "Example",
           "upper": 10
          },
          {
           "lower": -13,
           "timepoint": 55,
           "trajectory": "Example",
           "upper": 11
          },
          {
           "lower": -12,
           "timepoint": 56,
           "trajectory": "Example",
           "upper": 12
          },
          {
           "lower": -13,
           "timepoint": 57,
           "trajectory": "Example",
           "upper": 11
          },
          {
           "lower": -12,
           "timepoint": 58,
           "trajectory": "Example",
           "upper": 12
          },
          {
           "lower": -13,
           "timepoint": 59,
           "trajectory": "Example",
           "upper": 13
          },
          {
           "lower": -12,
           "timepoint": 60,
           "trajectory": "Example",
           "upper": 12
          },
          {
           "lower": -13,
           "timepoint": 61,
           "trajectory": "Example",
           "upper": 13
          },
          {
           "lower": -12.099999999999998,
           "timepoint": 62,
           "trajectory": "Example",
           "upper": 12
          },
          {
           "lower": -13,
           "timepoint": 63,
           "trajectory": "Example",
           "upper": 13
          },
          {
           "lower": -12,
           "timepoint": 64,
           "trajectory": "Example",
           "upper": 14
          },
          {
           "lower": -11.099999999999998,
           "timepoint": 65,
           "trajectory": "Example",
           "upper": 13
          },
          {
           "lower": -12.099999999999998,
           "timepoint": 66,
           "trajectory": "Example",
           "upper": 14
          },
          {
           "lower": -13,
           "timepoint": 67,
           "trajectory": "Example",
           "upper": 13
          },
          {
           "lower": -12,
           "timepoint": 68,
           "trajectory": "Example",
           "upper": 14
          },
          {
           "lower": -13,
           "timepoint": 69,
           "trajectory": "Example",
           "upper": 13
          },
          {
           "lower": -14,
           "timepoint": 70,
           "trajectory": "Example",
           "upper": 14
          },
          {
           "lower": -13.099999999999998,
           "timepoint": 71,
           "trajectory": "Example",
           "upper": 13
          },
          {
           "lower": -14,
           "timepoint": 72,
           "trajectory": "Example",
           "upper": 12
          },
          {
           "lower": -15,
           "timepoint": 73,
           "trajectory": "Example",
           "upper": 13
          },
          {
           "lower": -14,
           "timepoint": 74,
           "trajectory": "Example",
           "upper": 12
          },
          {
           "lower": -13,
           "timepoint": 75,
           "trajectory": "Example",
           "upper": 13
          },
          {
           "lower": -14,
           "timepoint": 76,
           "trajectory": "Example",
           "upper": 14
          },
          {
           "lower": -13.099999999999998,
           "timepoint": 77,
           "trajectory": "Example",
           "upper": 13
          },
          {
           "lower": -14,
           "timepoint": 78,
           "trajectory": "Example",
           "upper": 14
          },
          {
           "lower": -15,
           "timepoint": 79,
           "trajectory": "Example",
           "upper": 13
          },
          {
           "lower": -14,
           "timepoint": 80,
           "trajectory": "Example",
           "upper": 14
          },
          {
           "lower": -13,
           "timepoint": 81,
           "trajectory": "Example",
           "upper": 13
          },
          {
           "lower": -14,
           "timepoint": 82,
           "trajectory": "Example",
           "upper": 14
          },
          {
           "lower": -15,
           "timepoint": 83,
           "trajectory": "Example",
           "upper": 13.100000000000023
          },
          {
           "lower": -14,
           "timepoint": 84,
           "trajectory": "Example",
           "upper": 14
          },
          {
           "lower": -15,
           "timepoint": 85,
           "trajectory": "Example",
           "upper": 15
          },
          {
           "lower": -14.099999999999998,
           "timepoint": 86,
           "trajectory": "Example",
           "upper": 14
          },
          {
           "lower": -15,
           "timepoint": 87,
           "trajectory": "Example",
           "upper": 15
          },
          {
           "lower": -14.099999999999998,
           "timepoint": 88,
           "trajectory": "Example",
           "upper": 14
          },
          {
           "lower": -15,
           "timepoint": 89,
           "trajectory": "Example",
           "upper": 15
          },
          {
           "lower": -14.099999999999998,
           "timepoint": 90,
           "trajectory": "Example",
           "upper": 14.100000000000023
          },
          {
           "lower": -15,
           "timepoint": 91,
           "trajectory": "Example",
           "upper": 15
          },
          {
           "lower": -16,
           "timepoint": 92,
           "trajectory": "Example",
           "upper": 14
          },
          {
           "lower": -15.099999999999998,
           "timepoint": 93,
           "trajectory": "Example",
           "upper": 13
          },
          {
           "lower": -16,
           "timepoint": 94,
           "trajectory": "Example",
           "upper": 14
          },
          {
           "lower": -15.099999999999998,
           "timepoint": 95,
           "trajectory": "Example",
           "upper": 13.100000000000023
          },
          {
           "lower": -16,
           "timepoint": 96,
           "trajectory": "Example",
           "upper": 14
          },
          {
           "lower": -15.099999999999998,
           "timepoint": 97,
           "trajectory": "Example",
           "upper": 15
          },
          {
           "lower": -16,
           "timepoint": 98,
           "trajectory": "Example",
           "upper": 14.100000000000023
          },
          {
           "lower": -17,
           "timepoint": 99,
           "trajectory": "Example",
           "upper": 13.100000000000023
          }
         ]
        },
        {
         "name": "traces",
         "transform": [
          {
           "expr": "isValid(datum.value)",
           "type": "filter"
          },
          {
           "sort": {
            "field": [
             "trajectory",
             "timepoint"
            ]
           },
           "type": "collect"
          }
         ],
         "values": [
          {
           "color_by": "Envelope Mean",
           "sample_id": 0,
           "timepoint": 0,
           "trajectory": "Envelope_Mean",
           "value": 0
          },
          {
           "color_by": "Envelope Mean",
           "sample_id": 0,
           "timepoint": 1,
           "trajectory": "Envelope_Mean",
           "value": 0
          },
          {
           "color_by": "Envelope Mean",
           "sample_id": 0,
           "timepoint": 2,
           "trajectory": "Envelope_Mean",
           "value": 0
          },
          {
           "color_by": "Envelope Mean",
           "sample_id": 0,
           "timepoint": 3,
           "trajectory": "Envelope_Mean",
           "value": 0
          },
          {
           "color_by": "Envelope Mean",
           "sample_id": 0,
           "timepoint": 4,
           "trajectory": "Envelope_Mean",
           "value": 0
          },
          {
           "color_by": "Envelope Mean",
           "sample_id": 0,
           "timepoint": 5,
           "trajectory": "Envelope_Mean",
           "value": -0.049999999999998934
          },
          {
           "color_by": "Envelope Mean",
           "sample_id": 0,
           "timepoint": 6,
           "trajectory": "Envelope_Mean",
           "value": 0
          },
          {
           "color_by": "Envelope Mean",
           "sample_id": 0,
           "timepoint": 7,
           "trajectory": "Envelope_Mean",
           "value": -0.9499999999999886
          },
          {
           "color_by": "Envelope Mean",
           "sample_id": 0,
           "timepoint": 8,
           "trajectory": "Envelope_Mean",
           "value": 0
          },
          {
           "color_by": "Envelope Mean",
           "sample_id": 0,
           "timepoint": 9,
           "trajectory": "Envelope_Mean",
           "value": 0
          },
          {
           "color_by": "Envelope Mean",
           "sample_id": 0,
           "timepoint": 10,
           "trajectory": "Envelope_Mean",
           "value": 1
          },
          {
           "color_by": "Envelope Mean",
           "sample_id": 0,
           "timepoint": 11,
           "trajectory": "Envelope_Mean",
           "value": 0
          },
          {
           "color_by": "Envelope Mean",
           "sample_id": 0,
           "timepoint": 12,
           "trajectory": "Envelope_Mean",
           "value": 0
          },
          {
           "color_by": "Envelope Mean",
           "sample_id": 0,
           "timepoint": 13,
           "trajectory": "Envelope_Mean",
           "value": 0
          },
          {
           "color_by": "Envelope Mean",
           "sample_id": 0,
           "timepoint": 14,
           "trajectory": "Envelope_Mean",
           "value": 0
          },
          {
           "color_by": "Envelope Mean",
           "sample_id": 0,
           "timepoint": 15,
           "trajectory": "Envelope_Mean",
           "value": 0
          },
          {
           "color_by": "Envelope Mean",
           "sample_id": 0,
           "timepoint": 16,
           "trajectory": "Envelope_Mean",
           "value": 1
          },
          {
           "color_by": "Envelope Mean",
           "sample_id": 0,
           "timepoint": 17,
           "trajectory": "Envelope_Mean",
           "value": 0.05000000000001137
          },
          {
           "color_by": "Envelope Mean",
           "sample_id": 0,
           "timepoint": 18,
           "trajectory": "Envelope_Mean",
           "value": 1
          },
          {
           "color_by": "Envelope Mean",
           "sample_id": 0,
           "timepoint": 19,
           "trajectory": "Envelope_Mean",
           "value": 0
          },
          {
           "color_by": "Envelope Mean",
           "sample_id": 0,
           "timepoint": 20,
           "trajectory": "Envelope_Mean",
           "value": 0.9500000000000011
          },
          {
           "color_by": "Envelope Mean",
           "sample_id": 0,
           "timepoint": 21,
           "trajectory": "Envelope_Mean",
           "value": 0
          },
          {
           "color_by": "Envelope Mean",
           "sample_id": 0,
           "timepoint": 22,
           "trajectory": "Envelope_Mean",
           "value": 1
          },
          {
           "color_by": "Envelope Mean",
           "sample_id": 0,
           "timepoint": 23,
           "trajectory": "Envelope_Mean",
           "value": 0
          },
          {
           "color_by": "Envelope Mean",
           "sample_id": 0,
           "timepoint": 24,
           "trajectory": "Envelope_Mean",
           "value": 0.9500000000000011
          },
          {
           "color_by": "Envelope Mean",
           "sample_id": 0,
           "timepoint": 25,
           "trajectory": "Envelope_Mean",
           "value": 1
          },
          {
           "color_by": "Envelope Mean",
           "sample_id": 0,
           "timepoint": 26,
           "trajectory": "Envelope_Mean",
           "value": 0
          },
          {
           "color_by": "Envelope Mean",
           "sample_id": 0,
           "timepoint": 27,
           "trajectory": "Envelope_Mean",
           "value": 1
          },
          {
           "color_by": "Envelope Mean",
           "sample_id": 0,
           "timepoint": 28,
           "trajectory": "Envelope_Mean",
           "value": 0
          },
          {
           "color_by": "Envelope Mean",
           "sample_id": 0,
           "timepoint": 29,
           "trajectory": "Envelope_Mean",
           "value": 1
          },
          {
           "color_by": "Envelope Mean",
           "sample_id": 0,
           "timepoint": 30,
           "trajectory": "Envelope_Mean",
           "value": 0.05000000000001137
          },
          {
           "color_by": "Envelope Mean",
           "sample_id": 0,
           "timepoint": 31,
           "trajectory": "Envelope_Mean",
           "value": 0
          },
          {
           "color_by": "Envelope Mean",
           "sample_id": 0,
           "timepoint": 32,
           "trajectory": "Envelope_Mean",
           "value": 0.9500000000000011
          },
          {
           "color_by": "Envelope Mean",
           "sample_id": 0,
           "timepoint": 33,
           "trajectory": "Envelope_Mean",
           "value": 0
          },
          {
           "color_by": "Envelope Mean",
           "sample_id": 0,
           "timepoint": 34,
           "trajectory": "Envelope_Mean",
           "value": 0.9500000000000011
          },
          {
           "color_by": "Envelope Mean",
           "sample_id": 0,
           "timepoint": 35,
           "trajectory": "Envelope_Mean",
           "value": 1
          },
          {
           "color_by": "Envelope Mean",
           "sample_id": 0,
           "timepoint": 36,
           "trajectory": "Envelope_Mean",
           "value": 0
          },
          {
           "color_by": "Envelope Mean",
           "sample_id": 0,
           "timepoint": 37,
           "trajectory": "Envelope_Mean",
           "value": 1
          },
          {
           "color_by": "Envelope Mean",
           "sample_id": 0,
           "timepoint": 38,
           "trajectory": "Envelope_Mean",
           "value": 0
          },
          {
           "color_by": "Envelope Mean",
           "sample_id": 0,
           "timepoint": 39,
           "trajectory": "Envelope_Mean",
           "value": 0
          },
          {
           "color_by": "Envelope Mean",
           "sample_id": 0,
           "timepoint": 40,
           "trajectory": "Envelope_Mean",
           "value": 0.05000000000001137
          },
          {
           "color_by": "Envelope Mean",
           "sample_id": 0,
           "timepoint": 41,
           "trajectory": "Envelope_Mean",
           "value": 0
          },
          {
           "color_by": "Envelope Mean",
           "sample_id": 0,
           "timepoint": 42,
           "trajectory": "Envelope_Mean",
           "value": 0.05000000000001137
          },
          {
           "color_by": "Envelope Mean",
           "sample_id": 0,
           "timepoint": 43,
           "trajectory": "Envelope_Mean",
           "value": 0
          },
          {
           "color_by": "Envelope Mean",
           "sample_id": 0,
           "timepoint": 44,
           "trajectory": "Envelope_Mean",
           "value": 1.2434497875801753e-14
          },
          {
           "color_by": "Envelope Mean",
           "sample_id": 0,
           "timepoint": 45,
           "trajectory": "Envelope_Mean",
           "value": 0
          },
          {
           "color_by": "Envelope Mean",
           "sample_id": 0,
           "timepoint": 46,
           "trajectory": "Envelope_Mean",
           "value": 1.2434497875801753e-14
          },
          {
           "color_by": "Envelope Mean",
           "sample_id": 0,
           "timepoint": 47,
           "trajectory": "Envelope_Mean",
           "value": 0
          },
          {
           "color_by": "Envelope Mean",
           "sample_id": 0,
           "timepoint": 48,
           "trajectory": "Envelope_Mean",
           "value": 0
          },
          {
           "color_by": "Envelope Mean",
           "sample_id": 0,
           "timepoint": 49,
           "trajectory": "Envelope_Mean",
           "value": 0
          },
          {
           "color_by": "Envelope Mean",
           "sample_id": 0,
           "timepoint": 50,
           "trajectory": "Envelope_Mean",
           "value": 0
          },
          {
           "color_by": "Envelope Mean",
           "sample_id": 0,
           "timepoint": 51,
           "trajectory": "Envelope_Mean",
           "value": 0
          },
          {
           "color_by": "Envelope Mean",
           "sample_id": 0,
           "timepoint": 52,
           "trajectory": "Envelope_Mean",
           "value": -0.9499999999999886
          },
          {
           "color_by": "Envelope Mean",
           "sample_id": 0,
           "timepoint": 53,
           "trajectory": "Envelope_Mean",
           "value": 0
          },
          {
           "color_by": "Envelope Mean",
           "sample_id": 0,
           "timepoint": 54,
           "trajectory": "Envelope_Mean",
           "value": -1
          },
          {
           "color_by": "Envelope Mean",
           "sample_id": 0,
           "timepoint": 55,
           "trajectory": "Envelope_Mean",
           "value": -1
          },
          {
           "color_by": "Envelope Mean",
           "sample_id": 0,
           "timepoint": 56,
           "trajectory": "Envelope_Mean",
           "value": 0
          },
          {
           "color_by": "Envelope Mean",
           "sample_id": 0,
           "timepoint": 57,
           "trajectory": "Envelope_Mean",
           "value": -1
          },
          {
           "color_by": "Envelope Mean",
           "sample_id": 0,
           "timepoint": 58,
           "trajectory": "Envelope_Mean",
           "value": 0
          },
          {
           "color_by": "Envelope Mean",
           "sample_id": 0,
           "timepoint": 59,
           "trajectory": "Envelope_Mean",
           "value": 0
          },
          {
           "color_by": "Envelope Mean",
           "sample_id": 0,
           "timepoint": 60,
           "trajectory": "Envelope_Mean",
           "value": 0
          },
          {
           "color_by": "Envelope Mean",
           "sample_id": 0,
           "timepoint": 61,
           "trajectory": "Envelope_Mean",
           "value": 0
          },
          {
           "color_by": "Envelope Mean",
           "sample_id": 0,
           "timepoint": 62,
           "trajectory": "Envelope_Mean",
           "value": -0.049999999999998934
          },
          {
           "color_by": "Envelope Mean",
           "sample_id": 0,
           "timepoint": 63,
           "trajectory": "Envelope_Mean",
           "value": 0
          },
          {
           "color_by": "Envelope Mean",
           "sample_id": 0,
           "timepoint": 64,
           "trajectory": "Envelope_Mean",
           "value": 1
          },
          {
           "color_by": "Envelope Mean",
           "sample_id": 0,
           "timepoint": 65,
           "trajectory": "Envelope_Mean",
           "value": 0.9500000000000011
          },
          {
           "color_by": "Envelope Mean",
           "sample_id": 0,
           "timepoint": 66,
           "trajectory": "Envelope_Mean",
           "value": 0.9500000000000011
          },
          {
           "color_by": "Envelope Mean",
           "sample_id": 0,
           "timepoint": 67,
           "trajectory": "Envelope_Mean",
           "value": 0
          },
          {
           "color_by": "Envelope Mean",
           "sample_id": 0,
           "timepoint": 68,
           "trajectory": "Envelope_Mean",
           "value": 1
          },
          {
           "color_by": "Envelope Mean",
           "sample_id": 0,
           "timepoint": 69,
           "trajectory": "Envelope_Mean",
           "value": 0
          },
          {
           "color_by": "Envelope Mean",
           "sample_id": 0,
           "timepoint": 70,
           "trajectory": "Envelope_Mean",
           "value": 0
          },
          {
           "color_by": "Envelope Mean",
           "sample_id": 0,
           "timepoint": 71,
           "trajectory": "Envelope_Mean",
           "value": -0.049999999999998934
          },
          {
           "color_by": "Envelope Mean",
           "sample_id": 0,
           "timepoint": 72,
           "trajectory": "Envelope_Mean",
           "value": -1
          },
          {
           "color_by": "Envelope Mean",
           "sample_id": 0,
           "timepoint": 73,
           "trajectory": "Envelope_Mean",
           "value": -1
          },
          {
           "color_by": "Envelope Mean",
           "sample_id": 0,
           "timepoint": 74,
           "trajectory": "Envelope_Mean",
           "value": -1
          },
          {
           "color_by": "Envelope Mean",
           "sample_id": 0,
           "timepoint": 75,
           "trajectory": "Envelope_Mean",
           "value": 0
          },
          {
           "color_by": "Envelope Mean",
           "sample_id": 0,
           "timepoint": 76,
           "trajectory": "Envelope_Mean",
           "value": 0
          },
          {
           "color_by": "Envelope Mean",
           "sample_id": 0,
           "timepoint": 77,
           "trajectory": "Envelope_Mean",
           "value": -0.049999999999998934
          },
          {
           "color_by": "Envelope Mean",
           "sample_id": 0,
           "timepoint": 78,
           "trajectory": "Envelope_Mean",
           "value": 0
          },
          {
           "color_by": "Envelope Mean",
           "sample_id": 0,
           "timepoint": 79,
           "trajectory": "Envelope_Mean",
           "value": -1
          },
          {
           "color_by": "Envelope Mean",
           "sample_id": 0,
           "timepoint": 80,
           "trajectory": "Envelope_Mean",
           "value": 0
          },
          {
           "color_by": "Envelope Mean",
           "sample_id": 0,
           "timepoint": 81,
           "trajectory": "Envelope_Mean",
           "value": 0
          },
          {
           "color_by": "Envelope Mean",
           "sample_id": 0,
           "timepoint": 82,
           "trajectory": "Envelope_Mean",
           "value": 0
          },
          {
           "color_by": "Envelope Mean",
           "sample_id": 0,
           "timepoint": 83,
           "trajectory": "Envelope_Mean",
           "value": -0.9499999999999886
          },
          {
           "color_by": "Envelope Mean",
           "sample_id": 0,
           "timepoint": 84,
           "trajectory": "Envelope_Mean",
           "value": 0
          },
          {
           "color_by": "Envelope Mean",
           "sample_id": 0,
           "timepoint": 85,
           "trajectory": "Envelope_Mean",
           "value": 0
          },
          {
           "color_by": "Envelope Mean",
           "sample_id": 0,
           "timepoint": 86,
           "trajectory": "Envelope_Mean",
           "value": -0.049999999999998934
          },
          {
           "color_by": "Envelope Mean",
           "sample_id": 0,
           "timepoint": 87,
           "trajectory": "Envelope_Mean",
           "value": 0
          },
          {
           "color_by": "Envelope Mean",
           "sample_id": 0,
           "timepoint": 88,
           "trajectory": "Envelope_Mean",
           "value": -0.049999999999998934
          },
          {
           "color_by": "Envelope Mean",
           "sample_id": 0,
           "timepoint": 89,
           "trajectory": "Envelope_Mean",
           "value": 0
          },
          {
           "color_by": "Envelope Mean",
           "sample_id": 0,
           "timepoint": 90,
           "trajectory": "Envelope_Mean",
           "value": 1.2434497875801753e-14
          },
          {
           "color_by": "Envelope Mean",
           "sample_id": 0,
           "timepoint": 91,
           "trajectory": "Envelope_Mean",
           "value": 0
          },
          {
           "color_by": "Envelope Mean",
           "sample_id": 0,
           "timepoint": 92,
           "trajectory": "Envelope_Mean",
           "value": -1
          },
          {
           "color_by": "Envelope Mean",
           "sample_id": 0,
           "timepoint": 93,
           "trajectory": "Envelope_Mean",
           "value": -1.049999999999999
          },
          {
           "color_by": "Envelope Mean",
           "sample_id": 0,
           "timepoint": 94,
           "trajectory": "Envelope_Mean",
           "value": -1
          },
          {
           "color_by": "Envelope Mean",
           "sample_id": 0,
           "timepoint": 95,
           "trajectory": "Envelope_Mean",
           "value": -0.9999999999999876
          },
          {
           "color_by": "Envelope Mean",
           "sample_id": 0,
           "timepoint": 96,
           "trajectory": "Envelope_Mean",
           "value": -1
          },
          {
           "color_by": "Envelope Mean",
           "sample_id": 0,
           "timepoint": 97,
           "trajectory": "Envelope_Mean",
           "value": -0.049999999999998934
          },
          {
           "color_by": "Envelope Mean",
           "sample_id": 0,
           "timepoint": 98,
           "trajectory": "Envelope_Mean",
           "value": -0.9499999999999886
          },
          {
           "color_by": "Envelope Mean",
           "sample_id": 0,
           "timepoint": 99,
           "trajectory": "Envelope_Mean",
           "value": -1.9499999999999886
          },
          {
           "color_by": "Chaos",
           "sample_id": 0,
           "timepoint": 0,
           "trajectory": "Chaos",
           "value": 0
          },
          {
           "color_by": "Chaos",
           "sample_id": 0,
           "timepoint": 1,
           "trajectory": "Chaos",
           "value": -1
          },
          {
           "color_by": "Chaos",
           "sample_id": 0,
           "timepoint": 2,
           "trajectory": "Chaos",
           "value": -2
          },
          {
           "color_by": "Chaos",
           "sample_id": 0,
           "timepoint": 3,
           "trajectory": "Chaos",
           "value": -3
          },
          {
           "color_by": "Chaos",
           "sample_id": 0,
           "timepoint": 4,
           "trajectory": "Chaos",
           "value": -2
          },
          {
           "color_by": "Chaos",
           "sample_id": 0,
           "timepoint": 5,
           "trajectory": "Chaos",
           "value": -1
          },
          {
           "color_by": "Chaos",
           "sample_id": 0,
           "timepoint": 6,
           "trajectory": "Chaos",
           "value": 0
          },
          {
           "color_by": "Chaos",
           "sample_id": 0,
           "timepoint": 7,
           "trajectory": "Chaos",
           "value": -1
          },
          {
           "color_by": "Chaos",
           "sample_id": 0,
           "timepoint": 8,
           "trajectory": "Chaos",
           "value": 0
          },
          {
           "color_by": "Chaos",
           "sample_id": 0,
           "timepoint": 9,
           "trajectory": "Chaos",
           "value": -1
          },
          {
           "color_by": "Chaos",
           "sample_id": 0,
           "timepoint": 10,
           "trajectory": "Chaos",
           "value": 0
          },
          {
           "color_by": "Chaos",
           "sample_id": 0,
           "timepoint": 11,
           "trajectory": "Chaos",
           "value": 1
          },
          {
           "color_by": "Chaos",
           "sample_id": 0,
           "timepoint": 12,
           "trajectory": "Chaos",
           "value": 0
          },
          {
           "color_by": "Chaos",
           "sample_id": 0,
           "timepoint": 13,
           "trajectory": "Chaos",
           "value": 1
          },
          {
           "color_by": "Chaos",
           "sample_id": 0,
           "timepoint": 14,
           "trajectory": "Chaos",
           "value": 0
          },
          {
           "color_by": "Chaos",
           "sample_id": 0,
           "timepoint": 15,
           "trajectory": "Chaos",
           "value": -1
          },
          {
           "color_by": "Chaos",
           "sample_id": 0,
           "timepoint": 16,
           "trajectory": "Chaos",
           "value": 0
          },
          {
           "color_by": "Chaos",
           "sample_id": 0,
           "timepoint": 17,
           "trajectory": "Chaos",
           "value": 1
          },
          {
           "color_by": "Chaos",
           "sample_id": 0,
           "timepoint": 18,
           "trajectory": "Chaos",
           "value": 0
          },
          {
           "color_by": "Chaos",
           "sample_id": 0,
           "timepoint": 19,
           "trajectory": "Chaos",
           "value": -1
          },
          {
           "color_by": "Chaos",
           "sample_id": 0,
           "timepoint": 20,
           "trajectory": "Chaos",
           "value": 0
          },
          {
           "color_by": "Chaos",
           "sample_id": 0,
           "timepoint": 21,
           "trajectory": "Chaos",
           "value": -1
          },
          {
           "color_by": "Chaos",
           "sample_id": 0,
           "timepoint": 22,
           "trajectory": "Chaos",
           "value": 0
          },
          {
           "color_by": "Chaos",
           "sample_id": 0,
           "timepoint": 23,
           "trajectory": "Chaos",
           "value": -1
          },
          {
           "color_by": "Chaos",
           "sample_id": 0,
           "timepoint": 24,
           "trajectory": "Chaos",
           "value": -2
          },
          {
           "color_by": "Chaos",
           "sample_id": 0,
           "timepoint": 25,
           "trajectory": "Chaos",
           "value": -1
          },
          {
           "color_by": "Chaos",
           "sample_id": 0,
           "timepoint": 26,
           "trajectory": "Chaos",
           "value": -2
          },
          {
           "color_by": "Chaos",
           "sample_id": 0,
           "timepoint": 27,
           "trajectory": "Chaos",
           "value": -3
          },
          {
           "color_by": "Chaos",
           "sample_id": 0,
           "timepoint": 28,
           "trajectory": "Chaos",
           "value": -4
          },
          {
           "color_by": "Chaos",
           "sample_id": 0,
           "timepoint": 29,
           "trajectory": "Chaos",
           "value": -5
          },
          {
           "color_by": "Chaos",
           "sample_id": 0,
           "timepoint": 30,
           "trajectory": "Chaos",
           "value": -4
          },
          {
           "color_by": "Chaos",
           "sample_id": 0,
           "timepoint": 31,
           "trajectory": "Chaos",
           "value": -5
          },
          {
           "color_by": "Chaos",
           "sample_id": 0,
           "timepoint": 32,
           "trajectory": "Chaos",
           "value": -4
          },
          {
           "color_by": "Chaos",
           "sample_id": 0,
           "timepoint": 33,
           "trajectory": "Chaos",
           "value": -3
          },
          {
           "color_by": "Chaos",
           "sample_id": 0,
           "timepoint": 34,
           "trajectory": "Chaos",
           "value": -2
          },
          {
           "color_by": "Chaos",
           "sample_id": 0,
           "timepoint": 35,
           "trajectory": "Chaos",
           "value": -1
          },
          {
           "color_by": "Chaos",
           "sample_id": 0,
           "timepoint": 36,
           "trajectory": "Chaos",
           "value": -2
          },
          {
           "color_by": "Chaos",
           "sample_id": 0,
           "timepoint": 37,
           "trajectory": "Chaos",
           "value": -1
          },
          {
           "color_by": "Chaos",
           "sample_id": 0,
           "timepoint": 38,
           "trajectory": "Chaos",
           "value": 0
          },
          {
           "color_by": "Chaos",
           "sample_id": 0,
           "timepoint": 39,
           "trajectory": "Chaos",
           "value": -1
          },
          {
           "color_by": "Chaos",
           "sample_id": 0,
           "timepoint": 40,
           "trajectory": "Chaos",
           "value": -2
          },
          {
           "color_by": "Chaos",
           "sample_id": 0,
           "timepoint": 41,
           "trajectory": "Chaos",
           "value": -3
          },
          {
           "color_by": "Chaos",
           "sample_id": 0,
           "timepoint": 42,
           "trajectory": "Chaos",
           "value": -2
          },
          {
           "color_by": "Chaos",
           "sample_id": 0,
           "timepoint": 43,
           "trajectory": "Chaos",
           "value": -1
          },
          {
           "color_by": "Chaos",
           "sample_id": 0,
           "timepoint": 44,
           "trajectory": "Chaos",
           "value": -2
          },
          {
           "color_by": "Chaos",
           "sample_id": 0,
           "timepoint": 45,
           "trajectory": "Chaos",
           "value": -1
          },
          {
           "color_by": "Chaos",
           "sample_id": 0,
           "timepoint": 46,
           "trajectory": "Chaos",
           "value": 0
          },
          {
           "color_by": "Chaos",
           "sample_id": 0,
           "timepoint": 47,
           "trajectory": "Chaos",
           "value": -1
          },
          {
           "color_by": "Chaos",
           "sample_id": 0,
           "timepoint": 48,
           "trajectory": "Chaos",
           "value": -2
          },
          {
           "color_by": "Chaos",
           "sample_id": 0,
           "timepoint": 49,
           "trajectory": "Chaos",
           "value": -1
          },
          {
           "color_by": "Chaos",
           "sample_id": 0,
           "timepoint": 50,
           "trajectory": "Chaos",
           "value": -2
          },
          {
           "color_by": "Chaos",
           "sample_id": 0,
           "timepoint": 51,
           "trajectory": "Chaos",
           "value": -1
          },
          {
           "color_by": "Chaos",
           "sample_id": 0,
           "timepoint": 52,
           "trajectory": "Chaos",
           "value": 0
          },
          {
           "color_by": "Chaos",
           "sample_id": 0,
           "timepoint": 53,
           "trajectory": "Chaos",
           "value": 1
          },
          {
           "color_by": "Chaos",
           "sample_id": 0,
           "timepoint": 54,
           "trajectory": "Chaos",
           "value": 2
          },
          {
           "color_by": "Chaos",
           "sample_id": 0,
           "timepoint": 55,
           "trajectory": "Chaos",
           "value": 1
          },
          {
           "color_by": "Chaos",
           "sample_id": 0,
           "timepoint": 56,
           "trajectory": "Chaos",
           "value": 2
          },
          {
           "color_by": "Chaos",
           "sample_id": 0,
           "timepoint": 57,
           "trajectory": "Chaos",
           "value": 1
          },
          {
           "color_by": "Chaos",
           "sample_id": 0,
           "timepoint": 58,
           "trajectory": "Chaos",
           "value": 0
          },
          {
           "color_by": "Chaos",
           "sample_id": 0,
           "timepoint": 59,
           "trajectory": "Chaos",
           "value": -1
          },
          {
           "color_by": "Chaos",
           "sample_id": 0,
           "timepoint": 60,
           "trajectory": "Chaos",
           "value": 0
          },
          {
           "color_by": "Chaos",
           "sample_id": 0,
           "timepoint": 61,
           "trajectory": "Chaos",
           "value": 1
          },
          {
           "color_by": "Chaos",
           "sample_id": 0,
           "timepoint": 62,
           "trajectory": "Chaos",
           "value": 0
          },
          {
           "color_by": "Chaos",
           "sample_id": 0,
           "timepoint": 63,
           "trajectory": "Chaos",
           "value": -1
          },
          {
           "color_by": "Chaos",
           "sample_id": 0,
           "timepoint": 64,
           "trajectory": "Chaos",
           "value": 0
          },
          {
           "color_by": "Chaos",
           "sample_id": 0,
           "timepoint": 65,
           "trajectory": "Chaos",
           "value": -1
          },
          {
           "color_by": "Chaos",
           "sample_id": 0,
           "timepoint": 66,
           "trajectory": "Chaos",
           "value": -2
          },
          {
           "color_by": "Chaos",
           "sample_id": 0,
           "timepoint": 67,
           "trajectory": "Chaos",
           "value": -3
          },
          {
           "color_by": "Chaos",
           "sample_id": 0,
           "timepoint": 68,
           "trajectory": "Chaos",
           "value": -4
          },
          {
           "color_by": "Chaos",
           "sample_id": 0,
           "timepoint": 69,
           "trajectory": "Chaos",
           "value": -3
          },
          {
           "color_by": "Chaos",
           "sample_id": 0,
           "timepoint": 70,
           "trajectory": "Chaos",
           "value": -2
          },
          {
           "color_by": "Chaos",
           "sample_id": 0,
           "timepoint": 71,
           "trajectory": "Chaos",
           "value": -1
          },
          {
           "color_by": "Chaos",
           "sample_id": 0,
           "timepoint": 72,
           "trajectory": "Chaos",
           "value": -2
          },
          {
           "color_by": "Chaos",
           "sample_id": 0,
           "timepoint": 73,
           "trajectory": "Chaos",
           "value": -3
          },
          {
           "color_by": "Chaos",
           "sample_id": 0,
           "timepoint": 74,
           "trajectory": "Chaos",
           "value": -4
          },
          {
           "color_by": "Chaos",
           "sample_id": 0,
           "timepoint": 75,
           "trajectory": "Chaos",
           "value": -3
          },
          {
           "color_by": "Chaos",
           "sample_id": 0,
           "timepoint": 76,
           "trajectory": "Chaos",
           "value": -4
          },
          {
           "color_by": "Chaos",
           "sample_id": 0,
           "timepoint": 77,
           "trajectory": "Chaos",
           "value": -3
          },
          {
           "color_by": "Chaos",
           "sample_id": 0,
           "timepoint": 78,
           "trajectory": "Chaos",
           "value": -4
          },
          {
           "color_by": "Chaos",
           "sample_id": 0,
           "timepoint": 79,
           "trajectory": "Chaos",
           "value": -3
          },
          {
           "color_by": "Chaos",
           "sample_id": 0,
           "timepoint": 80,
           "trajectory": "Chaos",
           "value": -4
          },
          {
           "color_by": "Chaos",
           "sample_id": 0,
           "timepoint": 81,
           "trajectory": "Chaos",
           "value": -3
          },
          {
           "color_by": "Chaos",
           "sample_id": 0,
           "timepoint": 82,
           "trajectory": "Chaos",
           "value": -2
          },
          {
           "color_by": "Chaos",
           "sample_id": 0,
           "timepoint": 83,
           "trajectory": "Chaos",
           "value": -3
          },
          {
           "color_by": "Chaos",
           "sample_id": 0,
           "timepoint": 84,
           "trajectory": "Chaos",
           "value": -2
          },
          {
           "color_by": "Chaos",
           "sample_id": 0,
           "timepoint": 85,
           "trajectory": "Chaos",
           "value": -3
          },
          {
           "color_by": "Chaos",
           "sample_id": 0,
           "timepoint": 86,
           "trajectory": "Chaos",
           "value": -2
          },
          {
           "color_by": "Chaos",
           "sample_id": 0,
           "timepoint": 87,
           "trajectory": "Chaos",
           "value": -1
          },
          {
           "color_by": "Chaos",
           "sample_id": 0,
           "timepoint": 88,
           "trajectory": "Chaos",
           "value": 0
          },
          {
           "color_by": "Chaos",
           "sample_id": 0,
           "timepoint": 89,
           "trajectory": "Chaos",
           "value": -1
          },
          {
           "color_by": "Chaos",
           "sample_id": 0,
           "timepoint": 90,
           "trajectory": "Chaos",
           "value": -2
          },
          {
           "color_by": "Chaos",
           "sample_id": 0,
           "timepoint": 91,
           "trajectory": "Chaos",
           "value": -1
          },
          {
           "color_by": "Chaos",
           "sample_id": 0,
           "timepoint": 92,
           "trajectory": "Chaos",
           "value": 0
          },
          {
           "color_by": "Chaos",
           "sample_id": 0,
           "timepoint": 93,
           "trajectory": "Chaos",
           "value": 1
          },
          {
           "color_by": "Chaos",
           "sample_id": 0,
           "timepoint": 94,
           "trajectory": "Chaos",
           "value": 2
          },
          {
           "color_by": "Chaos",
           "sample_id": 0,
           "timepoint": 95,
           "trajectory": "Chaos",
           "value": 3
          },
          {
           "color_by": "Chaos",
           "sample_id": 0,
           "timepoint": 96,
           "trajectory": "Chaos",
           "value": 2
          },
          {
           "color_by": "Chaos",
           "sample_id": 0,
           "timepoint": 97,
           "trajectory": "Chaos",
           "value": 1
          },
          {
           "color_by": "Chaos",
           "sample_id": 0,
           "timepoint": 98,
           "trajectory": "Chaos",
           "value": 2
          },
          {
           "color_by": "Chaos",
           "sample_id": 0,
           "timepoint": 99,
           "trajectory": "Chaos",
           "value": 3
          },
          {
           "color_by": "Granger",
           "sample_id": 0,
           "timepoint": 0,
           "trajectory": "Granger",
           "value": 0
          },
          {
           "color_by": "Granger",
           "sample_id": 0,
           "timepoint": 1,
           "trajectory": "Granger",
           "value": 1
          },
          {
           "color_by": "Granger",
           "sample_id": 0,
           "timepoint": 2,
           "trajectory": "Granger",
           "value": 0
          },
          {
           "color_by": "Granger",
           "sample_id": 0,
           "timepoint": 3,
           "trajectory": "Granger",
           "value": -1
          },
          {
           "color_by": "Granger",
           "sample_id": 0,
           "timepoint": 4,
           "trajectory": "Granger",
           "value": 0
          },
          {
           "color_by": "Granger",
           "sample_id": 0,
           "timepoint": 5,
           "trajectory": "Granger",
           "value": 1
          },
          {
           "color_by": "Granger",
           "sample_id": 0,
           "timepoint": 6,
           "trajectory": "Granger",
           "value": 2
          },
          {
           "color_by": "Granger",
           "sample_id": 0,
           "timepoint": 7,
           "trajectory": "Granger",
           "value": 3
          },
          {
           "color_by": "Granger",
           "sample_id": 0,
           "timepoint": 8,
           "trajectory": "Granger",
           "value": 2
          },
          {
           "color_by": "Granger",
           "sample_id": 0,
           "timepoint": 9,
           "trajectory": "Granger",
           "value": 1
          },
          {
           "color_by": "Granger",
           "sample_id": 0,
           "timepoint": 10,
           "trajectory": "Granger",
           "value": 2
          },
          {
           "color_by": "Granger",
           "sample_id": 0,
           "timepoint": 11,
           "trajectory": "Granger",
           "value": 3
          },
          {
           "color_by": "Granger",
           "sample_id": 0,
           "timepoint": 12,
           "trajectory": "Granger",
           "value": 4
          },
          {
           "color_by": "Granger",
           "sample_id": 0,
           "timepoint": 13,
           "trajectory": "Granger",
           "value": 3
          },
          {
           "color_by": "Granger",
           "sample_id": 0,
           "timepoint": 14,
           "trajectory": "Granger",
           "value": 4
          },
          {
           "color_by": "Granger",
           "sample_id": 0,
           "timepoint": 15,
           "trajectory": "Granger",
           "value": 5
          },
          {
           "color_by": "Granger",
           "sample_id": 0,
           "timepoint": 16,
           "trajectory": "Granger",
           "value": 4
          },
          {
           "color_by": "Granger",
           "sample_id": 0,
           "timepoint": 17,
           "trajectory": "Granger",
           "value": 3
          },
          {
           "color_by": "Granger",
           "sample_id": 0,
           "timepoint": 18,
           "trajectory": "Granger",
           "value": 2
          },
          {
           "color_by": "Granger",
           "sample_id": 0,
           "timepoint": 19,
           "trajectory": "Granger",
           "value": 3
          },
          {
           "color_by": "Granger",
           "sample_id": 0,
           "timepoint": 20,
           "trajectory": "Granger",
           "value": 2
          },
          {
           "color_by": "Granger",
           "sample_id": 0,
           "timepoint": 21,
           "trajectory": "Granger",
           "value": 3
          },
          {
           "color_by": "Granger",
           "sample_id": 0,
           "timepoint": 22,
           "trajectory": "Granger",
           "value": 4
          },
          {
           "color_by": "Granger",
           "sample_id": 0,
           "timepoint": 23,
           "trajectory": "Granger",
           "value": 3
          },
          {
           "color_by": "Granger",
           "sample_id": 0,
           "timepoint": 24,
           "trajectory": "Granger",
           "value": 4
          },
          {
           "color_by": "Granger",
           "sample_id": 0,
           "timepoint": 25,
           "trajectory": "Granger",
           "value": 3
          },
          {
           "color_by": "Granger",
           "sample_id": 0,
           "timepoint": 26,
           "trajectory": "Granger",
           "value": 2
          },
          {
           "color_by": "Granger",
           "sample_id": 0,
           "timepoint": 27,
           "trajectory": "Granger",
           "value": 3
          },
          {
           "color_by": "Granger",
           "sample_id": 0,
           "timepoint": 28,
           "trajectory": "Granger",
           "value": 2
          },
          {
           "color_by": "Granger",
           "sample_id": 0,
           "timepoint": 29,
           "trajectory": "Granger",
           "value": 1
          },
          {
           "color_by": "Granger",
           "sample_id": 0,
           "timepoint": 30,
           "trajectory": "Granger",
           "value": 0
          },
          {
           "color_by": "Granger",
           "sample_id": 0,
           "timepoint": 31,
           "trajectory": "Granger",
           "value": 1
          },
          {
           "color_by": "Granger",
           "sample_id": 0,
           "timepoint": 32,
           "trajectory": "Granger",
           "value": 0
          },
          {
           "color_by": "Granger",
           "sample_id": 0,
           "timepoint": 33,
           "trajectory": "Granger",
           "value": -1
          },
          {
           "color_by": "Granger",
           "sample_id": 0,
           "timepoint": 34,
           "trajectory": "Granger",
           "value": 0
          },
          {
           "color_by": "Granger",
           "sample_id": 0,
           "timepoint": 35,
           "trajectory": "Granger",
           "value": 1
          },
          {
           "color_by": "Granger",
           "sample_id": 0,
           "timepoint": 36,
           "trajectory": "Granger",
           "value": 0
          },
          {
           "color_by": "Granger",
           "sample_id": 0,
           "timepoint": 37,
           "trajectory": "Granger",
           "value": -1
          },
          {
           "color_by": "Granger",
           "sample_id": 0,
           "timepoint": 38,
           "trajectory": "Granger",
           "value": -2
          },
          {
           "color_by": "Granger",
           "sample_id": 0,
           "timepoint": 39,
           "trajectory": "Granger",
           "value": -3
          },
          {
           "color_by": "Granger",
           "sample_id": 0,
           "timepoint": 40,
           "trajectory": "Granger",
           "value": -4
          },
          {
           "color_by": "Granger",
           "sample_id": 0,
           "timepoint": 41,
           "trajectory": "Granger",
           "value": -3
          },
          {
           "color_by": "Granger",
           "sample_id": 0,
           "timepoint": 42,
           "trajectory": "Granger",
           "value": -4
          },
          {
           "color_by": "Granger",
           "sample_id": 0,
           "timepoint": 43,
           "trajectory": "Granger",
           "value": -5
          },
          {
           "color_by": "Granger",
           "sample_id": 0,
           "timepoint": 44,
           "trajectory": "Granger",
           "value": -4
          },
          {
           "color_by": "Granger",
           "sample_id": 0,
           "timepoint": 45,
           "trajectory": "Granger",
           "value": -3
          },
          {
           "color_by": "Granger",
           "sample_id": 0,
           "timepoint": 46,
           "trajectory": "Granger",
           "value": -2
          },
          {
           "color_by": "Granger",
           "sample_id": 0,
           "timepoint": 47,
           "trajectory": "Granger",
           "value": -1
          },
          {
           "color_by": "Granger",
           "sample_id": 0,
           "timepoint": 48,
           "trajectory": "Granger",
           "value": 0
          },
          {
           "color_by": "Granger",
           "sample_id": 0,
           "timepoint": 49,
           "trajectory": "Granger",
           "value": -1
          },
          {
           "color_by": "Granger",
           "sample_id": 0,
           "timepoint": 50,
           "trajectory": "Granger",
           "value": -2
          },
          {
           "color_by": "Granger",
           "sample_id": 0,
           "timepoint": 51,
           "trajectory": "Granger",
           "value": -3
          },
          {
           "color_by": "Granger",
           "sample_id": 0,
           "timepoint": 52,
           "trajectory": "Granger",
           "value": -2
          },
          {
           "color_by": "Granger",
           "sample_id": 0,
           "timepoint": 53,
           "trajectory": "Granger",
           "value": -1
          },
          {
           "color_by": "Granger",
           "sample_id": 0,
           "timepoint": 54,
           "trajectory": "Granger",
           "value": -2
          },
          {
           "color_by": "Granger",
           "sample_id": 0,
           "timepoint": 55,
           "trajectory": "Granger",
           "value": -3
          },
          {
           "color_by": "Granger",
           "sample_id": 0,
           "timepoint": 56,
           "trajectory": "Granger",
           "value": -2
          },
          {
           "color_by": "Granger",
           "sample_id": 0,
           "timepoint": 57,
           "trajectory": "Granger",
           "value": -3
          },
          {
           "color_by": "Granger",
           "sample_id": 0,
           "timepoint": 58,
           "trajectory": "Granger",
           "value": -2
          },
          {
           "color_by": "Granger",
           "sample_id": 0,
           "timepoint": 59,
           "trajectory": "Granger",
           "value": -3
          },
          {
           "color_by": "Granger",
           "sample_id": 0,
           "timepoint": 60,
           "trajectory": "Granger",
           "value": -4
          },
          {
           "color_by": "Granger",
           "sample_id": 0,
           "timepoint": 61,
           "trajectory": "Granger",
           "value": -3
          },
          {
           "color_by": "Granger",
           "sample_id": 0,
           "timepoint": 62,
           "trajectory": "Granger",
           "value": -4
          },
          {
           "color_by": "Granger",
           "sample_id": 0,
           "timepoint": 63,
           "trajectory": "Granger",
           "value": -5
          },
          {
           "color_by": "Granger",
           "sample_id": 0,
           "timepoint": 64,
           "trajectory": "Granger",
           "value": -4
          },
          {
           "color_by": "Granger",
           "sample_id": 0,
           "timepoint": 65,
           "trajectory": "Granger",
           "value": -3
          },
          {
           "color_by": "Granger",
           "sample_id": 0,
           "timepoint": 66,
           "trajectory": "Granger",
           "value": -4
          },
          {
           "color_by": "Granger",
           "sample_id": 0,
           "timepoint": 67,
           "trajectory": "Granger",
           "value": -5
          },
          {
           "color_by": "Granger",
           "sample_id": 0,
           "timepoint": 68,
           "trajectory": "Granger",
           "value": -6
          },
          {
           "color_by": "Granger",
           "sample_id": 0,
           "timepoint": 69,
           "trajectory": "Granger",
           "value": -5
          },
          {
           "color_by": "Granger",
           "sample_id": 0,
           "timepoint": 70,
           "trajectory": "Granger",
           "value": -4
          },
          {
           "color_by": "Granger",
           "sample_id": 0,
           "timepoint": 71,
           "trajectory": "Granger",
           "value": -5
          },
          {
           "color_by": "Granger",
           "sample_id": 0,
           "timepoint": 72,
           "trajectory": "Granger",
           "value": -6
          },
          {
           "color_by": "Granger",
           "sample_id": 0,
           "timepoint": 73,
           "trajectory": "Granger",
           "value": -7
          },
          {
           "color_by": "Granger",
           "sample_id": 0,
           "timepoint": 74,
           "trajectory": "Granger",
           "value": -6
          },
          {
           "color_by": "Granger",
           "sample_id": 0,
           "timepoint": 75,
           "trajectory": "Granger",
           "value": -5
          },
          {
           "color_by": "Granger",
           "sample_id": 0,
           "timepoint": 76,
           "trajectory": "Granger",
           "value": -4
          },
          {
           "color_by": "Granger",
           "sample_id": 0,
           "timepoint": 77,
           "trajectory": "Granger",
           "value": -5
          },
          {
           "color_by": "Granger",
           "sample_id": 0,
           "timepoint": 78,
           "trajectory": "Granger",
           "value": -4
          },
          {
           "color_by": "Granger",
           "sample_id": 0,
           "timepoint": 79,
           "trajectory": "Granger",
           "value": -5
          },
          {
           "color_by": "Granger",
           "sample_id": 0,
           "timepoint": 80,
           "trajectory": "Granger",
           "value": -6
          },
          {
           "color_by": "Granger",
           "sample_id": 0,
           "timepoint": 81,
           "trajectory": "Granger",
           "value": -7
          },
          {
           "color_by": "Granger",
           "sample_id": 0,
           "timepoint": 82,
           "trajectory": "Granger",
           "value": -8
          },
          {
           "color_by": "Granger",
           "sample_id": 0,
           "timepoint": 83,
           "trajectory": "Granger",
           "value": -9
          },
          {
           "color_by": "Granger",
           "sample_id": 0,
           "timepoint": 84,
           "trajectory": "Granger",
           "value": -10
          },
          {
           "color_by": "Granger",
           "sample_id": 0,
           "timepoint": 85,
           "trajectory": "Granger",
           "value": -11
          },
          {
           "color_by": "Granger",
           "sample_id": 0,
           "timepoint": 86,
           "trajectory": "Granger",
           "value": -12
          },
          {
           "color_by": "Granger",
           "sample_id": 0,
           "timepoint": 87,
           "trajectory": "Granger",
           "value": -13
          },
          {
           "color_by": "Granger",
           "sample_id": 0,
           "timepoint": 88,
           "trajectory": "Granger",
           "value": -12
          },
          {
           "color_by": "Granger",
           "sample_id": 0,
           "timepoint": 89,
           "trajectory": "Granger",
           "value": -13
          },
          {
           "color_by": "Granger",
           "sample_id": 0,
           "timepoint": 90,
           "trajectory": "Granger",
           "value": -12
          },
          {
           "color_by": "Granger",
           "sample_id": 0,
           "timepoint": 91,
           "trajectory": "Granger",
           "value": -11
          },
          {
           "color_by": "Granger",
           "sample_id": 0,
           "timepoint": 92,
           "trajectory": "Granger",
           "value": -10
          },
          {
           "color_by": "Granger",
           "sample_id": 0,
           "timepoint": 93,
           "trajectory": "Granger",
           "value": -9
          },
          {
           "color_by": "Granger",
           "sample_id": 0,
           "timepoint": 94,
           "trajectory": "Granger",
           "value": -8
          },
          {
           "color_by": "Granger",
           "sample_id": 0,
           "timepoint": 95,
           "trajectory": "Granger",
           "value": -7
          },
          {
           "color_by": "Granger",
           "sample_id": 0,
           "timepoint": 96,
           "trajectory": "Granger",
           "value": -8
          },
          {
           "color_by": "Granger",
           "sample_id": 0,
           "timepoint": 97,
           "trajectory": "Granger",
           "value": -7
          },
          {
           "color_by": "Granger",
           "sample_id": 0,
           "timepoint": 98,
           "trajectory": "Granger",
           "value": -6
          },
          {
           "color_by": "Granger",
           "sample_id": 0,
           "timepoint": 99,
           "trajectory": "Granger",
           "value": -7
          },
          {
           "color_by": "Mean",
           "sample_id": 0,
           "timepoint": 0,
           "trajectory": "Mean",
           "value": 0
          },
          {
           "color_by": "Mean",
           "sample_id": 0,
           "timepoint": 1,
           "trajectory": "Mean",
           "value": 1
          },
          {
           "color_by": "Mean",
           "sample_id": 0,
           "timepoint": 2,
           "trajectory": "Mean",
           "value": 0
          },
          {
           "color_by": "Mean",
           "sample_id": 0,
           "timepoint": 3,
           "trajectory": "Mean",
           "value": -1
          },
          {
           "color_by": "Mean",
           "sample_id": 0,
           "timepoint": 4,
           "trajectory": "Mean",
           "value": -2
          },
          {
           "color_by": "Mean",
           "sample_id": 0,
           "timepoint": 5,
           "trajectory": "Mean",
           "value": -1
          },
          {
           "color_by": "Mean",
           "sample_id": 0,
           "timepoint": 6,
           "trajectory": "Mean",
           "value": 0
          },
          {
           "color_by": "Mean",
           "sample_id": 0,
           "timepoint": 7,
           "trajectory": "Mean",
           "value": 1
          },
          {
           "color_by": "Mean",
           "sample_id": 0,
           "timepoint": 8,
           "trajectory": "Mean",
           "value": 2
          },
          {
           "color_by": "Mean",
           "sample_id": 0,
           "timepoint": 9,
           "trajectory": "Mean",
           "value": 1
          },
          {
           "color_by": "Mean",
           "sample_id": 0,
           "timepoint": 10,
           "trajectory": "Mean",
           "value": 2
          },
          {
           "color_by": "Mean",
           "sample_id": 0,
           "timepoint": 11,
           "trajectory": "Mean",
           "value": 1
          },
          {
           "color_by": "Mean",
           "sample_id": 0,
           "timepoint": 12,
           "trajectory": "Mean",
           "value": 0
          },
          {
           "color_by": "Mean",
           "sample_id": 0,
           "timepoint": 13,
           "trajectory": "Mean",
           "value": 1
          },
          {
           "color_by": "Mean",
           "sample_id": 0,
           "timepoint": 14,
           "trajectory": "Mean",
           "value": 0
          },
          {
           "color_by": "Mean",
           "sample_id": 0,
           "timepoint": 15,
           "trajectory": "Mean",
           "value": -1
          },
          {
           "color_by": "Mean",
           "sample_id": 0,
           "timepoint": 16,
           "trajectory": "Mean",
           "value": 0
          },
          {
           "color_by": "Mean",
           "sample_id": 0,
           "timepoint": 17,
           "trajectory": "Mean",
           "value": -1
          },
          {
           "color_by": "Mean",
           "sample_id": 0,
           "timepoint": 18,
           "trajectory": "Mean",
           "value": 0
          },
          {
           "color_by": "Mean",
           "sample_id": 0,
           "timepoint": 19,
           "trajectory": "Mean",
           "value": 1
          },
          {
           "color_by": "Mean",
           "sample_id": 0,
           "timepoint": 20,
           "trajectory": "Mean",
           "value": 0
          },
          {
           "color_by": "Mean",
           "sample_id": 0,
           "timepoint": 21,
           "trajectory": "Mean",
           "value": 1
          },
          {
           "color_by": "Mean",
           "sample_id": 0,
           "timepoint": 22,
           "trajectory": "Mean",
           "value": 0
          },
          {
           "color_by": "Mean",
           "sample_id": 0,
           "timepoint": 23,
           "trajectory": "Mean",
           "value": -1
          },
          {
           "color_by": "Mean",
           "sample_id": 0,
           "timepoint": 24,
           "trajectory": "Mean",
           "value": 0
          },
          {
           "color_by": "Mean",
           "sample_id": 0,
           "timepoint": 25,
           "trajectory": "Mean",
           "value": 1
          },
          {
           "color_by": "Mean",
           "sample_id": 0,
           "timepoint": 26,
           "trajectory": "Mean",
           "value": 0
          },
          {
           "color_by": "Mean",
           "sample_id": 0,
           "timepoint": 27,
           "trajectory": "Mean",
           "value": 1
          },
          {
           "color_by": "Mean",
           "sample_id": 0,
           "timepoint": 28,
           "trajectory": "Mean",
           "value": 0
          },
          {
           "color_by": "Mean",
           "sample_id": 0,
           "timepoint": 29,
           "trajectory": "Mean",
           "value": -1
          },
          {
           "color_by": "Mean",
           "sample_id": 0,
           "timepoint": 30,
           "trajectory": "Mean",
           "value": 0
          },
          {
           "color_by": "Mean",
           "sample_id": 0,
           "timepoint": 31,
           "trajectory": "Mean",
           "value": -1
          },
          {
           "color_by": "Mean",
           "sample_id": 0,
           "timepoint": 32,
           "trajectory": "Mean",
           "value": -2
          },
          {
           "color_by": "Mean",
           "sample_id": 0,
           "timepoint": 33,
           "trajectory": "Mean",
           "value": -3
          },
          {
           "color_by": "Mean",
           "sample_id": 0,
           "timepoint": 34,
           "trajectory": "Mean",
           "value": -2
          },
          {
           "color_by": "Mean",
           "sample_id": 0,
           "timepoint": 35,
           "trajectory": "Mean",
           "value": -3
          },
          {
           "color_by": "Mean",
           "sample_id": 0,
           "timepoint": 36,
           "trajectory": "Mean",
           "value": -4
          },
          {
           "color_by": "Mean",
           "sample_id": 0,
           "timepoint": 37,
           "trajectory": "Mean",
           "value": -3
          },
          {
           "color_by": "Mean",
           "sample_id": 0,
           "timepoint": 38,
           "trajectory": "Mean",
           "value": -2
          },
          {
           "color_by": "Mean",
           "sample_id": 0,
           "timepoint": 39,
           "trajectory": "Mean",
           "value": -3
          },
          {
           "color_by": "Mean",
           "sample_id": 0,
           "timepoint": 40,
           "trajectory": "Mean",
           "value": -4
          },
          {
           "color_by": "Mean",
           "sample_id": 0,
           "timepoint": 41,
           "trajectory": "Mean",
           "value": -3
          },
          {
           "color_by": "Mean",
           "sample_id": 0,
           "timepoint": 42,
           "trajectory": "Mean",
           "value": -2
          },
          {
           "color_by": "Mean",
           "sample_id": 0,
           "timepoint": 43,
           "trajectory": "Mean",
           "value": -1
          },
          {
           "color_by": "Mean",
           "sample_id": 0,
           "timepoint": 44,
           "trajectory": "Mean",
           "value": 0
          },
          {
           "color_by": "Mean",
           "sample_id": 0,
           "timepoint": 45,
           "trajectory": "Mean",
           "value": 1
          },
          {
           "color_by": "Mean",
           "sample_id": 0,
           "timepoint": 46,
           "trajectory": "Mean",
           "value": 2
          },
          {
           "color_by": "Mean",
           "sample_id": 0,
           "timepoint": 47,
           "trajectory": "Mean",
           "value": 1
          },
          {
           "color_by": "Mean",
           "sample_id": 0,
           "timepoint": 48,
           "trajectory": "Mean",
           "value": 0
          },
          {
           "color_by": "Mean",
           "sample_id": 0,
           "timepoint": 49,
           "trajectory": "Mean",
           "value": -1
          },
          {
           "color_by": "Mean",
           "sample_id": 0,
           "timepoint": 50,
           "trajectory": "Mean",
           "value": 0
          },
          {
           "color_by": "Mean",
           "sample_id": 0,
           "timepoint": 51,
           "trajectory": "Mean",
           "value": -1
          },
          {
           "color_by": "Mean",
           "sample_id": 0,
           "timepoint": 52,
           "trajectory": "Mean",
           "value": -2
          },
          {
           "color_by": "Mean",
           "sample_id": 0,
           "timepoint": 53,
           "trajectory": "Mean",
           "value": -1
          },
          {
           "color_by": "Mean",
           "sample_id": 0,
           "timepoint": 54,
           "trajectory": "Mean",
           "value": 0
          },
          {
           "color_by": "Mean",
           "sample_id": 0,
           "timepoint": 55,
           "trajectory": "Mean",
           "value": -1
          },
          {
           "color_by": "Mean",
           "sample_id": 0,
           "timepoint": 56,
           "trajectory": "Mean",
           "value": -2
          },
          {
           "color_by": "Mean",
           "sample_id": 0,
           "timepoint": 57,
           "trajectory": "Mean",
           "value": -1
          },
          {
           "color_by": "Mean",
           "sample_id": 0,
           "timepoint": 58,
           "trajectory": "Mean",
           "value": -2
          },
          {
           "color_by": "Mean",
           "sample_id": 0,
           "timepoint": 59,
           "trajectory": "Mean",
           "value": -1
          },
          {
           "color_by": "Mean",
           "sample_id": 0,
           "timepoint": 60,
           "trajectory": "Mean",
           "value": 0
          },
          {
           "color_by": "Mean",
           "sample_id": 0,
           "timepoint": 61,
           "trajectory": "Mean",
           "value": -1
          },
          {
           "color_by": "Mean",
           "sample_id": 0,
           "timepoint": 62,
           "trajectory": "Mean",
           "value": 0
          },
          {
           "color_by": "Mean",
           "sample_id": 0,
           "timepoint": 63,
           "trajectory": "Mean",
           "value": -1
          },
          {
           "color_by": "Mean",
           "sample_id": 0,
           "timepoint": 64,
           "trajectory": "Mean",
           "value": -2
          },
          {
           "color_by": "Mean",
           "sample_id": 0,
           "timepoint": 65,
           "trajectory": "Mean",
           "value": -1
          },
          {
           "color_by": "Mean",
           "sample_id": 0,
           "timepoint": 66,
           "trajectory": "Mean",
           "value": 0
          },
          {
           "color_by": "Mean",
           "sample_id": 0,
           "timepoint": 67,
           "trajectory": "Mean",
           "value": -1
          },
          {
           "color_by": "Mean",
           "sample_id": 0,
           "timepoint": 68,
           "trajectory": "Mean",
           "value": -2
          },
          {
           "color_by": "Mean",
           "sample_id": 0,
           "timepoint": 69,
           "trajectory": "Mean",
           "value": -1
          },
          {
           "color_by": "Mean",
           "sample_id": 0,
           "timepoint": 70,
           "trajectory": "Mean",
           "value": 0
          },
          {
           "color_by": "Mean",
           "sample_id": 0,
           "timepoint": 71,
           "trajectory": "Mean",
           "value": 1
          },
          {
           "color_by": "Mean",
           "sample_id": 0,
           "timepoint": 72,
           "trajectory": "Mean",
           "value": 0
          },
          {
           "color_by": "Mean",
           "sample_id": 0,
           "timepoint": 73,
           "trajectory": "Mean",
           "value": 1
          },
          {
           "color_by": "Mean",
           "sample_id": 0,
           "timepoint": 74,
           "trajectory": "Mean",
           "value": 2
          },
          {
           "color_by": "Mean",
           "sample_id": 0,
           "timepoint": 75,
           "trajectory": "Mean",
           "value": 1
          },
          {
           "color_by": "Mean",
           "sample_id": 0,
           "timepoint": 76,
           "trajectory": "Mean",
           "value": 0
          },
          {
           "color_by": "Mean",
           "sample_id": 0,
           "timepoint": 77,
           "trajectory": "Mean",
           "value": 1
          },
          {
           "color_by": "Mean",
           "sample_id": 0,
           "timepoint": 78,
           "trajectory": "Mean",
           "value": 0
          },
          {
           "color_by": "Mean",
           "sample_id": 0,
           "timepoint": 79,
           "trajectory": "Mean",
           "value": -1
          },
          {
           "color_by": "Mean",
           "sample_id": 0,
           "timepoint": 80,
           "trajectory": "Mean",
           "value": 0
          },
          {
           "color_by": "Mean",
           "sample_id": 0,
           "timepoint": 81,
           "trajectory": "Mean",
           "value": -1
          },
          {
           "color_by": "Mean",
           "sample_id": 0,
           "timepoint": 82,
           "trajectory": "Mean",
           "value": -2
          },
          {
           "color_by": "Mean",
           "sample_id": 0,
           "timepoint": 83,
           "trajectory": "Mean",
           "value": -3
          },
          {
           "color_by": "Mean",
           "sample_id": 0,
           "timepoint": 84,
           "trajectory": "Mean",
           "value": -2
          },
          {
           "color_by": "Mean",
           "sample_id": 0,
           "timepoint": 85,
           "trajectory": "Mean",
           "value": -1
          },
          {
           "color_by": "Mean",
           "sample_id": 0,
           "timepoint": 86,
           "trajectory": "Mean",
           "value": 0
          },
          {
           "color_by": "Mean",
           "sample_id": 0,
           "timepoint": 87,
           "trajectory": "Mean",
           "value": -1
          },
          {
           "color_by": "Mean",
           "sample_id": 0,
           "timepoint": 88,
           "trajectory": "Mean",
           "value": 0
          },
          {
           "color_by": "Mean",
           "sample_id": 0,
           "timepoint": 89,
           "trajectory": "Mean",
           "value": -1
          },
          {
           "color_by": "Mean",
           "sample_id": 0,
           "timepoint": 90,
           "trajectory": "Mean",
           "value": 0
          },
          {
           "color_by": "Mean",
           "sample_id": 0,
           "timepoint": 91,
           "trajectory": "Mean",
           "value": -1
          },
          {
           "color_by": "Mean",
           "sample_id": 0,
           "timepoint": 92,
           "trajectory": "Mean",
           "value": -2
          },
          {
           "color_by": "Mean",
           "sample_id": 0,
           "timepoint": 93,
           "trajectory": "Mean",
           "value": -1
          },
          {
           "color_by": "Mean",
           "sample_id": 0,
           "timepoint": 94,
           "trajectory": "Mean",
           "value": -2
          },
          {
           "color_by": "Mean",
           "sample_id": 0,
           "timepoint": 95,
           "trajectory": "Mean",
           "value": -3
          },
          {
           "color_by": "Mean",
           "sample_id": 0,
           "timepoint": 96,
           "trajectory": "Mean",
           "value": -4
          },
          {
           "color_by": "Mean",
           "sample_id": 0,
           "timepoint": 97,
           "trajectory": "Mean",
           "value": -5
          },
          {
           "color_by": "Mean",
           "sample_id": 0,
           "timepoint": 98,
           "trajectory": "Mean",
           "value": -4
          },
          {
           "color_by": "Mean",
           "sample_id": 0,
           "timepoint": 99,
           "trajectory": "Mean",
           "value": -5
          },
          {
           "color_by": "Variance",
           "sample_id": 0,
           "timepoint": 0,
           "trajectory": "Variance",
           "value": 0
          },
          {
           "color_by": "Variance",
           "sample_id": 0,
           "timepoint": 1,
           "trajectory": "Variance",
           "value": -1
          },
          {
           "color_by": "Variance",
           "sample_id": 0,
           "timepoint": 2,
           "trajectory": "Variance",
           "value": -2
          },
          {
           "color_by": "Variance",
           "sample_id": 0,
           "timepoint": 3,
           "trajectory": "Variance",
           "value": -1
          },
          {
           "color_by": "Variance",
           "sample_id": 0,
           "timepoint": 4,
           "trajectory": "Variance",
           "value": -2
          },
          {
           "color_by": "Variance",
           "sample_id": 0,
           "timepoint": 5,
           "trajectory": "Variance",
           "value": -3
          },
          {
           "color_by": "Variance",
           "sample_id": 0,
           "timepoint": 6,
           "trajectory": "Variance",
           "value": -4
          },
          {
           "color_by": "Variance",
           "sample_id": 0,
           "timepoint": 7,
           "trajectory": "Variance",
           "value": -3
          },
          {
           "color_by": "Variance",
           "sample_id": 0,
           "timepoint": 8,
           "trajectory": "Variance",
           "value": -2
          },
          {
           "color_by": "Variance",
           "sample_id": 0,
           "timepoint": 9,
           "trajectory": "Variance",
           "value": -1
          },
          {
           "color_by": "Variance",
           "sample_id": 0,
           "timepoint": 10,
           "trajectory": "Variance",
           "value": -2
          },
          {
           "color_by": "Variance",
           "sample_id": 0,
           "timepoint": 11,
           "trajectory": "Variance",
           "value": -3
          },
          {
           "color_by": "Variance",
           "sample_id": 0,
           "timepoint": 12,
           "trajectory": "Variance",
           "value": -2
          },
          {
           "color_by": "Variance",
           "sample_id": 0,
           "timepoint": 13,
           "trajectory": "Variance",
           "value": -1
          },
          {
           "color_by": "Variance",
           "sample_id": 0,
           "timepoint": 14,
           "trajectory": "Variance",
           "value": 0
          },
          {
           "color_by": "Variance",
           "sample_id": 0,
           "timepoint": 15,
           "trajectory": "Variance",
           "value": 1
          },
          {
           "color_by": "Variance",
           "sample_id": 0,
           "timepoint": 16,
           "trajectory": "Variance",
           "value": 0
          },
          {
           "color_by": "Variance",
           "sample_id": 0,
           "timepoint": 17,
           "trajectory": "Variance",
           "value": -1
          },
          {
           "color_by": "Variance",
           "sample_id": 0,
           "timepoint": 18,
           "trajectory": "Variance",
           "value": -2
          },
          {
           "color_by": "Variance",
           "sample_id": 0,
           "timepoint": 19,
           "trajectory": "Variance",
           "value": -3
          },
          {
           "color_by": "Variance",
           "sample_id": 0,
           "timepoint": 20,
           "trajectory": "Variance",
           "value": -2
          },
          {
           "color_by": "Variance",
           "sample_id": 0,
           "timepoint": 21,
           "trajectory": "Variance",
           "value": -1
          },
          {
           "color_by": "Variance",
           "sample_id": 0,
           "timepoint": 22,
           "trajectory": "Variance",
           "value": 0
          },
          {
           "color_by": "Variance",
           "sample_id": 0,
           "timepoint": 23,
           "trajectory": "Variance",
           "value": 1
          },
          {
           "color_by": "Variance",
           "sample_id": 0,
           "timepoint": 24,
           "trajectory": "Variance",
           "value": 0
          },
          {
           "color_by": "Variance",
           "sample_id": 0,
           "timepoint": 25,
           "trajectory": "Variance",
           "value": -1
          },
          {
           "color_by": "Variance",
           "sample_id": 0,
           "timepoint": 26,
           "trajectory": "Variance",
           "value": -2
          },
          {
           "color_by": "Variance",
           "sample_id": 0,
           "timepoint": 27,
           "trajectory": "Variance",
           "value": -1
          },
          {
           "color_by": "Variance",
           "sample_id": 0,
           "timepoint": 28,
           "trajectory": "Variance",
           "value": 0
          },
          {
           "color_by": "Variance",
           "sample_id": 0,
           "timepoint": 29,
           "trajectory": "Variance",
           "value": 1
          },
          {
           "color_by": "Variance",
           "sample_id": 0,
           "timepoint": 30,
           "trajectory": "Variance",
           "value": 2
          },
          {
           "color_by": "Variance",
           "sample_id": 0,
           "timepoint": 31,
           "trajectory": "Variance",
           "value": 3
          },
          {
           "color_by": "Variance",
           "sample_id": 0,
           "timepoint": 32,
           "trajectory": "Variance",
           "value": 2
          },
          {
           "color_by": "Variance",
           "sample_id": 0,
           "timepoint": 33,
           "trajectory": "Variance",
           "value": 3
          },
          {
           "color_by": "Variance",
           "sample_id": 0,
           "timepoint": 34,
           "trajectory": "Variance",
           "value": 2
          },
          {
           "color_by": "Variance",
           "sample_id": 0,
           "timepoint": 35,
           "trajectory": "Variance",
           "value": 3
          },
          {
           "color_by": "Variance",
           "sample_id": 0,
           "timepoint": 36,
           "trajectory": "Variance",
           "value": 2
          },
          {
           "color_by": "Variance",
           "sample_id": 0,
           "timepoint": 37,
           "trajectory": "Variance",
           "value": 1
          },
          {
           "color_by": "Variance",
           "sample_id": 0,
           "timepoint": 38,
           "trajectory": "Variance",
           "value": 2
          },
          {
           "color_by": "Variance",
           "sample_id": 0,
           "timepoint": 39,
           "trajectory": "Variance",
           "value": 1
          },
          {
           "color_by": "Variance",
           "sample_id": 0,
           "timepoint": 40,
           "trajectory": "Variance",
           "value": 0
          },
          {
           "color_by": "Variance",
           "sample_id": 0,
           "timepoint": 41,
           "trajectory": "Variance",
           "value": -1
          },
          {
           "color_by": "Variance",
           "sample_id": 0,
           "timepoint": 42,
           "trajectory": "Variance",
           "value": 0
          },
          {
           "color_by": "Variance",
           "sample_id": 0,
           "timepoint": 43,
           "trajectory": "Variance",
           "value": 1
          },
          {
           "color_by": "Variance",
           "sample_id": 0,
           "timepoint": 44,
           "trajectory": "Variance",
           "value": 2
          },
          {
           "color_by": "Variance",
           "sample_id": 0,
           "timepoint": 45,
           "trajectory": "Variance",
           "value": 1
          },
          {
           "color_by": "Variance",
           "sample_id": 0,
           "timepoint": 46,
           "trajectory": "Variance",
           "value": 2
          },
          {
           "color_by": "Variance",
           "sample_id": 0,
           "timepoint": 47,
           "trajectory": "Variance",
           "value": 1
          },
          {
           "color_by": "Variance",
           "sample_id": 0,
           "timepoint": 48,
           "trajectory": "Variance",
           "value": 0
          },
          {
           "color_by": "Variance",
           "sample_id": 0,
           "timepoint": 49,
           "trajectory": "Variance",
           "value": 1
          },
          {
           "color_by": "Variance",
           "sample_id": 0,
           "timepoint": 50,
           "trajectory": "Variance",
           "value": 2
          },
          {
           "color_by": "Variance",
           "sample_id": 0,
           "timepoint": 51,
           "trajectory": "Variance",
           "value": 1
          },
          {
           "color_by": "Variance",
           "sample_id": 0,
           "timepoint": 52,
           "trajectory": "Variance",
           "value": 0
          },
          {
           "color_by": "Variance",
           "sample_id": 0,
           "timepoint": 53,
           "trajectory": "Variance",
           "value": 1
          },
          {
           "color_by": "Variance",
           "sample_id": 0,
           "timepoint": 54,
           "trajectory": "Variance",
           "value": 2
          },
          {
           "color_by": "Variance",
           "sample_id": 0,
           "timepoint": 55,
           "trajectory": "Variance",
           "value": 1
          },
          {
           "color_by": "Variance",
           "sample_id": 0,
           "timepoint": 56,
           "trajectory": "Variance",
           "value": 0
          },
          {
           "color_by": "Variance",
           "sample_id": 0,
           "timepoint": 57,
           "trajectory": "Variance",
           "value": 1
          },
          {
           "color_by": "Variance",
           "sample_id": 0,
           "timepoint": 58,
           "trajectory": "Variance",
           "value": 2
          },
          {
           "color_by": "Variance",
           "sample_id": 0,
           "timepoint": 59,
           "trajectory": "Variance",
           "value": 1
          },
          {
           "color_by": "Variance",
           "sample_id": 0,
           "timepoint": 60,
           "trajectory": "Variance",
           "value": 2
          },
          {
           "color_by": "Variance",
           "sample_id": 0,
           "timepoint": 61,
           "trajectory": "Variance",
           "value": 1
          },
          {
           "color_by": "Variance",
           "sample_id": 0,
           "timepoint": 62,
           "trajectory": "Variance",
           "value": 0
          },
          {
           "color_by": "Variance",
           "sample_id": 0,
           "timepoint": 63,
           "trajectory": "Variance",
           "value": -1
          },
          {
           "color_by": "Variance",
           "sample_id": 0,
           "timepoint": 64,
           "trajectory": "Variance",
           "value": 0
          },
          {
           "color_by": "Variance",
           "sample_id": 0,
           "timepoint": 65,
           "trajectory": "Variance",
           "value": -1
          },
          {
           "color_by": "Variance",
           "sample_id": 0,
           "timepoint": 66,
           "trajectory": "Variance",
           "value": 0
          },
          {
           "color_by": "Variance",
           "sample_id": 0,
           "timepoint": 67,
           "trajectory": "Variance",
           "value": -1
          },
          {
           "color_by": "Variance",
           "sample_id": 0,
           "timepoint": 68,
           "trajectory": "Variance",
           "value": 0
          },
          {
           "color_by": "Variance",
           "sample_id": 0,
           "timepoint": 69,
           "trajectory": "Variance",
           "value": 1
          },
          {
           "color_by": "Variance",
           "sample_id": 0,
           "timepoint": 70,
           "trajectory": "Variance",
           "value": 0
          },
          {
           "color_by": "Variance",
           "sample_id": 0,
           "timepoint": 71,
           "trajectory": "Variance",
           "value": 1
          },
          {
           "color_by": "Variance",
           "sample_id": 0,
           "timepoint": 72,
           "trajectory": "Variance",
           "value": 0
          },
          {
           "color_by": "Variance",
           "sample_id": 0,
           "timepoint": 73,
           "trajectory": "Variance",
           "value": -1
          },
          {
           "color_by": "Variance",
           "sample_id": 0,
           "timepoint": 74,
           "trajectory": "Variance",
           "value": -2
          },
          {
           "color_by": "Variance",
           "sample_id": 0,
           "timepoint": 75,
           "trajectory": "Variance",
           "value": -1
          },
          {
           "color_by": "Variance",
           "sample_id": 0,
           "timepoint": 76,
           "trajectory": "Variance",
           "value": -2
          },
          {
           "color_by": "Variance",
           "sample_id": 0,
           "timepoint": 77,
           "trajectory": "Variance",
           "value": -3
          },
          {
           "color_by": "Variance",
           "sample_id": 0,
           "timepoint": 78,
           "trajectory": "Variance",
           "value": -2
          },
          {
           "color_by": "Variance",
           "sample_id": 0,
           "timepoint": 79,
           "trajectory": "Variance",
           "value": -1
          },
          {
           "color_by": "Variance",
           "sample_id": 0,
           "timepoint": 80,
           "trajectory": "Variance",
           "value": 0
          },
          {
           "color_by": "Variance",
           "sample_id": 0,
           "timepoint": 81,
           "trajectory": "Variance",
           "value": -1
          },
          {
           "color_by": "Variance",
           "sample_id": 0,
           "timepoint": 82,
           "trajectory": "Variance",
           "value": -2
          },
          {
           "color_by": "Variance",
           "sample_id": 0,
           "timepoint": 83,
           "trajectory": "Variance",
           "value": -1
          },
          {
           "color_by": "Variance",
           "sample_id": 0,
           "timepoint": 84,
           "trajectory": "Variance",
           "value": 0
          },
          {
           "color_by": "Variance",
           "sample_id": 0,
           "timepoint": 85,
           "trajectory": "Variance",
           "value": 1
          },
          {
           "color_by": "Variance",
           "sample_id": 0,
           "timepoint": 86,
           "trajectory": "Variance",
           "value": 0
          },
          {
           "color_by": "Variance",
           "sample_id": 0,
           "timepoint": 87,
           "trajectory": "Variance",
           "value": 1
          },
          {
           "color_by": "Variance",
           "sample_id": 0,
           "timepoint": 88,
           "trajectory": "Variance",
           "value": 0
          },
          {
           "color_by": "Variance",
           "sample_id": 0,
           "timepoint": 89,
           "trajectory": "Variance",
           "value": -1
          },
          {
           "color_by": "Variance",
           "sample_id": 0,
           "timepoint": 90,
           "trajectory": "Variance",
           "value": 0
          },
          {
           "color_by": "Variance",
           "sample_id": 0,
           "timepoint": 91,
           "trajectory": "Variance",
           "value": -1
          },
          {
           "color_by": "Variance",
           "sample_id": 0,
           "timepoint": 92,
           "trajectory": "Variance",
           "value": -2
          },
          {
           "color_by": "Variance",
           "sample_id": 0,
           "timepoint": 93,
           "trajectory": "Variance",
           "value": -3
          },
          {
           "color_by": "Variance",
           "sample_id": 0,
           "timepoint": 94,
           "trajectory": "Variance",
           "value": -2
          },
          {
           "color_by": "Variance",
           "sample_id": 0,
           "timepoint": 95,
           "trajectory": "Variance",
           "value": -1
          },
          {
           "color_by": "Variance",
           "sample_id": 0,
           "timepoint": 96,
           "trajectory": "Variance",
           "value": 0
          },
          {
           "color_by": "Variance",
           "sample_id": 0,
           "timepoint": 97,
           "trajectory": "Variance",
           "value": 1
          },
          {
           "color_by": "Variance",
           "sample_id": 0,
           "timepoint": 98,
           "trajectory": "Variance",
           "value": 2
          },
          {
           "color_by": "Variance",
           "sample_id": 0,
           "timepoint": 99,
           "trajectory": "Variance",
           "value": 1
          }
         ]
        },
        {
         "name": "points",
         "values": []
        },
        {
         "name": "markers",
         "values": []
        },
        {
         "name": "selected",
         "on": [
          {
           "remove": true,
           "trigger": "clear"
          },
          {
           "remove": true,
           "trigger": "!shift"
          },
          {
           "insert": "clicked",
           "trigger": "!shift && clicked"
          },
          {
           "toggle": "clicked",
           "trigger": "shift && clicked"
          }
         ]
        },
        {
         "name": "selectedData",
         "on": [
          {
           "remove": true,
           "trigger": "clearData"
          },
          {
           "toggle": "clickedData",
           "trigger": "clickedData"
          }
         ]
        }
       ],
       "height": 300,
       "legends": [
        {
         "encode": {
          "labels": {
           "interactive": true,
           "name": "legendLabel",
           "size": {
            "value": 25
           },
           "update": {
            "opacity": [
             {
              "test": "!length(data('selectedData')) || indata('selectedData', 'value', datum.value)",
              "value": 1
             },
             {
              "value": 0.25
             }
            ]
           }
          },
          "symbols": {
           "interactive": true,
           "name": "legendSymbol",
           "update": {
            "fill": {
             "value": "transparent"
            },
            "opacity": [
             {
              "test": "!length(data('selected')) || indata('selected', 'value', datum.value) || indata('selectedData', 'value', datum.value)",
              "value": 0.7
             },
             {
              "value": 0.15
             }
            ],
            "size": {
             "value": 64
            },
            "strokeWidth": {
             "value": 2
            }
           }
          }
         },
         "name": "color_legend",
         "orient": "left",
         "stroke": "color"
        }
       ],
       "marks": [
        {
         "from": {
          "facet": {
           "data": "points",
           "groupby": "trajectory",
           "name": "points_split"
          }
         },
         "marks": [
          {
           "encode": {
            "hover": {
             "fillOpacity": {
              "value": 0.9
             }
            },
            "update": {
             "fill": {
              "field": "trajectory",
              "scale": "color"
             },
             "fillOpacity": [
              {
               "test": "!length(data('selected')) || indata('selected', 'value', datum.trajectory)",
               "value": 0.5
              },
              {
               "value": 0.15
              }
             ],
             "size": {
              "value": 35
             },
             "stroke": {
              "field": "trajectory",
              "scale": "color"
             },
             "strokeOpacity": [
              {
               "test": "!length(data('selected')) || indata('selected', 'value', datum.trajectory)",
               "value": 0.75
              },
              {
               "value": 0.15
              }
             ],
             "strokeWidth": {
              "value": 2
             },
             "tooltip": {
              "field": "value"
             },
             "x": {
              "field": "timepoint",
              "scale": "xscale"
             },
             "y": {
              "field": "value",
              "scale": "yscale"
             }
            }
           },
           "from": {
            "data": "points_split"
           },
           "name": "_points_symbol",
           "type": "symbol",
           "zindex": 3
          },
          {
           "encode": {
            "hover": {
             "fillOpacity": {
              "value": 0.9
             }
            },
            "update": {
             "interpolate": {
              "value": "linear"
             },
             "stroke": {
              "field": "trajectory",
              "scale": "color"
             },
             "strokeDash": {
              "value": [
               5,
               3
              ]
             },
             "strokeOpacity": [
              {
               "test": "!length(data('selected')) || indata('selected', 'value', datum.trajectory)",
               "value": 0.3
              },
              {
               "value": 0.1
              }
             ],
             "strokeWidth": {
              "value": 2
             },
             "x": {
              "field": "timepoint",
              "scale": "xscale"
             },
             "y": {
              "field": "value",
              "scale": "yscale"
             }
            }
           },
           "from": {
            "data": "points_split"
           },
           "name": "_points_line",
           "type": "line",
           "zindex": 3
          }
         ],
         "name": "_points",
         "type": "group",
         "zindex": 3
        },
        {
         "from": {
          "facet": {
           "data": "traces",
           "groupby": "trajectory",
           "name": "traces_split"
          }
         },
         "marks": [
          {
           "encode": {
            "hover": {
             "fillOpacity": {
              "value": 0.9
             }
            },
            "update": {
             "interpolate": {
              "value": "linear"
             },
             "stroke": {
              "field": "trajectory",
              "scale": "color"
             },
             "strokeDash": [
              {
               "test": "indexof(datum.trajectory, 'Baseline') != -1 || indexof(datum.trajectory, 'Envelope') != -1",
               "value": [
                8,
                4
               ]
              },
              {
               "value": [
                1,
                0
               ]
              }
             ],
             "strokeOpacity": [
              {
               "test": "!length(data('selected')) || indata('selected', 'value', datum.trajectory)",
               "value": 0.75
              },
              {
               "value": 0.15
              }
             ],
             "strokeWidth": {
              "value": 2
             },
             "x": {
              "field": "timepoint",
              "scale": "xscale"
             },
             "y": {
              "field": "value",
              "scale": "yscale"
             }
            }
           },
           "from": {
            "data": "traces_split"
           },
           "name": "_traces_lines",
           "type": "line"
          }
         ],
         "name": "_traces",
         "type": "group",
         "zindex": 2
        },
        {
         "from": {
          "facet": {
           "data": "distributions",
           "groupby": "trajectory",
           "name": "trajectory_split"
          }
         },
         "marks": [
          {
           "encode": {
            "hover": {
             "fillOpacity": {
              "value": 0.9
             }
            },
            "update": {
             "fill": {
              "field": "trajectory",
              "scale": "color"
             },
             "fillOpacity": [
              {
               "test": "!length(data('selected')) || indata('selected', 'value', datum.trajectory)",
               "value": 0.1
              },
              {
               "value": 0.05
              }
             ],
             "interpolate": {
              "value": "linear"
             },
             "stroke": {
              "field": "trajectory",
              "scale": "color"
             },
             "strokeOpacity": [
              {
               "test": "!length(data('selected')) || indata('selected', 'value', datum.trajectory)",
               "value": 0.1
              },
              {
               "value": 0.05
              }
             ],
             "strokeWidth": {
              "value": 2
             },
             "x": {
              "field": "timepoint",
              "scale": "xscale"
             },
             "y": {
              "field": "upper",
              "scale": "yscale"
             },
             "y2": {
              "field": "lower",
              "scale": "yscale"
             }
            }
           },
           "from": {
            "data": "trajectory_split"
           },
           "interactive": true,
           "name": "area",
           "type": "area"
          }
         ],
         "name": "_distributions",
         "type": "group",
         "zindex": 1
        },
        {
         "marks": [
          {
           "encode": {
            "enter": {
             "stroke": {
              "value": "lightgray"
             }
            },
            "update": {
             "opacity": {
              "value": 1
             },
             "x": {
              "field": "timepoint",
              "scale": "xscale"
             },
             "y": {
              "signal": "height"
             },
             "y2": {
              "value": 0
             }
            }
           },
           "from": {
            "data": "markers"
           },
           "name": "_marker text",
           "type": "rule"
          },
          {
           "encode": {
            "enter": {
             "fontSize": {
              "value": 8
             },
             "text": {
              "field": "datum.label"
             },
             "y": {
              "value": 0
             }
            }
           },
           "from": {
            "data": "_marker text"
           },
           "name": "_marker flags",
           "transform": [
            {
             "as": [
              "x",
              "_y",
              "opacity",
              "align",
              "baseline"
             ],
             "lineAnchor": "start",
             "offset": [
              1
             ],
             "size": {
              "signal": "[width, height]"
             },
             "type": "label"
            }
           ],
           "type": "text"
          }
         ],
         "name": "_markers",
         "type": "group"
        }
       ],
       "scales": [
        {
         "domain": {
          "fields": [
           {
            "data": "distributions",
            "field": "timepoint"
           },
           {
            "data": "traces",
            "field": "timepoint"
           },
           {
            "data": "points",
            "field": "timepoint"
           },
           {
            "data": "markers",
            "field": "timepoint"
           }
          ]
         },
         "name": "xscale",
         "range": "width",
         "type": "linear",
         "zero": false
        },
        {
         "domain": {
          "fields": [
           {
            "data": "distributions",
            "field": "lower"
           },
           {
            "data": "distributions",
            "field": "upper"
           },
           {
            "data": "traces",
            "field": "value"
           },
           {
            "data": "points",
            "field": "value"
           }
          ]
         },
         "name": "yscale",
         "nice": true,
         "range": "height",
         "type": "linear",
         "zero": true
        },
        {
         "domain": {
          "fields": [
           {
            "data": "distributions",
            "field": "trajectory"
           },
           {
            "data": "traces",
            "field": "trajectory"
           },
           {
            "data": "points",
            "field": "trajectory"
           }
          ],
          "sort": {
           "order": "ascending"
          }
         },
         "name": "color",
         "range": "category",
         "type": "ordinal"
        }
       ],
       "signals": [
        {
         "name": "clear",
         "on": [
          {
           "events": "mouseup[!event.item]",
           "force": true,
           "update": "true"
          }
         ],
         "value": true
        },
        {
         "name": "shift",
         "on": [
          {
           "events": "@legendSymbol:click, @legendLabel:click",
           "force": true,
           "update": "event.shiftKey"
          }
         ],
         "value": false
        },
        {
         "name": "clicked",
         "on": [
          {
           "events": "@legendSymbol:click, @legendLabel:click",
           "force": true,
           "update": "{value: datum.value}"
          }
         ],
         "value": null
        },
        {
         "name": "clearData",
         "on": [
          {
           "events": "mouseup[!event.item]",
           "force": true,
           "update": "true"
          }
         ],
         "value": true
        },
        {
         "name": "clickedData",
         "on": [
          {
           "events": "@area:click",
           "force": true,
           "update": "{value: datum.trajectory}"
          }
         ],
         "value": null
        }
       ],
       "width": 500
      }
     },
     "metadata": {},
     "output_type": "display_data"
    }
   ],
   "source": [
    "\n",
    "name = \"random\"\n",
    "timepoint_list = []\n",
    "sine_list = []\n",
    "sample_list = []\n",
    "kmean = False\n",
    "n_clusters = 3\n",
    "\n",
    "def save_result(data, name, ref_ext):\n",
    "    \"\"\"Save new reference files\"\"\"\n",
    "    _output_root = 'output'\n",
    "    mode = \"w\" if ref_ext == \"svg\" else \"wb\"\n",
    "    with open(os.path.join(_output_root, f\"{name}.{ref_ext}\"), mode) as f:\n",
    "        f.write(data)\n",
    "\n",
    "#https://stackoverflow.com/questions/71681417/generating-a-1d-random-walk-with-random-module\n",
    "def randomwalk1D(n):\n",
    "    x = 0\n",
    "    start = x\n",
    "    xposition = [start]\n",
    "    probabilities = [-1, 1]\n",
    "    for i in range(1, n + 1):\n",
    "        x += random.choice(probabilities)\n",
    "        xposition.append(x)\n",
    "    return xposition\n",
    "\n",
    "timepoint_list = []\n",
    "sample_list = []\n",
    "sine_list = []\n",
    "\n",
    "j = 0\n",
    "for _ in range(300):\n",
    "        j+=1\n",
    "        timepoint_list.extend([x for x in range(100)])\n",
    "        sample_list.extend([j]*100)\n",
    "        sine_list.extend(randomwalk1D(99))\n",
    "\n",
    "random_distribution= pd.DataFrame({'timepoint_id' : timepoint_list,\n",
    "                   'sample_id' : sample_list,\n",
    "                   'Example': sine_list})\n",
    "\n",
    "\n",
    "#change kmean here to use clustering\n",
    "examplary_line, trajectory_dict = pyciemss.visuals.trajectories.select_traces(random_distribution, kmean= kmean, n_clusters = n_clusters, select_by_list = ['mean', 'granger', \"variance\", 'chaos'])\n",
    "\n",
    "\n",
    "for cluster in list(np.unique(examplary_line['cluster'])): \n",
    "        cluster_sample_id = trajectory_dict[cluster.lower()]['cluster_sample_id']  \n",
    "        cluster_random_distribution =  random_distribution[random_distribution[\"sample_id\"].isin(cluster_sample_id)]\n",
    "        cluster_random_distribution = cluster_random_distribution.reset_index()\n",
    "        print(len(cluster_sample_id))\n",
    "        # get examplary lines form that cluster\n",
    "        current_cluster_df = examplary_line[examplary_line['cluster'] == cluster]\n",
    "        current_cluster_df = current_cluster_df.reset_index()\n",
    "\n",
    "        # get right format to use as traces\n",
    "        examplary_lines_pivot = current_cluster_df[['examplary_line', 'envelope_mean', 'timepoint', 'select_by']].pivot_table(\n",
    "        values=\"examplary_line\", index = [\"timepoint\", 'envelope_mean'], columns=\"select_by\")\n",
    "        examplary_lines_pivot = examplary_lines_pivot.reset_index()\n",
    "        examplary_lines_pivot = examplary_lines_pivot.rename(columns = {'envelope_mean': 'Envelope_Mean'})\n",
    "\n",
    "        # plot the traces along with the baselines\n",
    "        schema = plots.trajectories(cluster_random_distribution[['timepoint_id', 'sample_id', 'Example']], traces = examplary_lines_pivot)\n",
    "        path = \"{}_{}\".format(name, cluster)\n",
    "        image = plots.ipy_display(schema, format=\"PNG\").data\n",
    "        save_result(image, path, \"png\")\n",
    "        plots.ipy_display(schema, format=\"interactive\")\n",
    "\n"
   ]
  },
  {
   "cell_type": "code",
   "execution_count": null,
   "metadata": {},
   "outputs": [
    {
     "name": "stdout",
     "output_type": "stream",
     "text": [
      "   timepoint_id  sample_id  persistent_beta_c_param  persistent_kappa_param  \\\n",
      "0             0          0                  0.71391                 0.09432   \n",
      "1             1          0                  0.71391                 0.09432   \n",
      "2             2          0                  0.71391                 0.09432   \n",
      "3             3          0                  0.71391                 0.09432   \n",
      "4             4          0                  0.71391                 0.09432   \n",
      "\n",
      "   persistent_gamma_param  persistent_hosp_param  persistent_death_hosp_param  \\\n",
      "0                0.226554               0.081048                     0.091152   \n",
      "1                0.226554               0.081048                     0.091152   \n",
      "2                0.226554               0.081048                     0.091152   \n",
      "3                0.226554               0.081048                     0.091152   \n",
      "4                0.226554               0.081048                     0.091152   \n",
      "\n",
      "   persistent_I0_param   D_state    E_state   H_state    I_state    R_state  \\\n",
      "0            12.423676  0.000000  31.171797  0.228120  19.609041   2.586514   \n",
      "1            12.423676  0.004159  25.228365  0.542552  22.959484   6.710431   \n",
      "2            12.423676  0.014050  21.086803  0.855617  24.065012  11.589039   \n",
      "3            12.423676  0.029648  18.084906  1.126368  23.884687  16.754715   \n",
      "4            12.423676  0.050182  15.816473  1.339658  22.994741  21.932064   \n",
      "\n",
      "      S_state  infected_observable_state  exposed_observable_state  \\\n",
      "0  19339986.0                  19.609041                 31.171797   \n",
      "1  19339984.0                  22.959484                 25.228365   \n",
      "2  19339982.0                  24.065012                 21.086803   \n",
      "3  19339980.0                  23.884687                 18.084906   \n",
      "4  19339978.0                  22.994741                 15.816473   \n",
      "\n",
      "   hospitalized_observable_state  dead_observable_state  timepoint_notional  \n",
      "0                       0.228120               0.000000            0.000000  \n",
      "1                       0.542552               0.004159            1.020408  \n",
      "2                       0.855617               0.014050            2.040816  \n",
      "3                       1.126368               0.029648            3.061224  \n",
      "4                       1.339658               0.050182            4.081633  \n",
      "Index(['timepoint_id', 'sample_id', 'persistent_beta_c_param',\n",
      "       'persistent_kappa_param', 'persistent_gamma_param',\n",
      "       'persistent_hosp_param', 'persistent_death_hosp_param',\n",
      "       'persistent_I0_param', 'D_state', 'E_state', 'H_state', 'I_state',\n",
      "       'R_state', 'S_state', 'infected_observable_state',\n",
      "       'exposed_observable_state', 'hospitalized_observable_state',\n",
      "       'dead_observable_state', 'timepoint_notional'],\n",
      "      dtype='object')\n"
     ]
    },
    {
     "data": {
      "text/html": [
       "<div>\n",
       "<style scoped>\n",
       "    .dataframe tbody tr th:only-of-type {\n",
       "        vertical-align: middle;\n",
       "    }\n",
       "\n",
       "    .dataframe tbody tr th {\n",
       "        vertical-align: top;\n",
       "    }\n",
       "\n",
       "    .dataframe thead th {\n",
       "        text-align: right;\n",
       "    }\n",
       "</style>\n",
       "<table border=\"1\" class=\"dataframe\">\n",
       "  <thead>\n",
       "    <tr style=\"text-align: right;\">\n",
       "      <th></th>\n",
       "      <th>timepoint_id</th>\n",
       "      <th>sample_id</th>\n",
       "      <th>infected_observable_state</th>\n",
       "    </tr>\n",
       "  </thead>\n",
       "  <tbody>\n",
       "    <tr>\n",
       "      <th>0</th>\n",
       "      <td>0</td>\n",
       "      <td>0</td>\n",
       "      <td>19.609041</td>\n",
       "    </tr>\n",
       "    <tr>\n",
       "      <th>1</th>\n",
       "      <td>1</td>\n",
       "      <td>0</td>\n",
       "      <td>22.959484</td>\n",
       "    </tr>\n",
       "    <tr>\n",
       "      <th>2</th>\n",
       "      <td>2</td>\n",
       "      <td>0</td>\n",
       "      <td>24.065012</td>\n",
       "    </tr>\n",
       "    <tr>\n",
       "      <th>3</th>\n",
       "      <td>3</td>\n",
       "      <td>0</td>\n",
       "      <td>23.884687</td>\n",
       "    </tr>\n",
       "    <tr>\n",
       "      <th>4</th>\n",
       "      <td>4</td>\n",
       "      <td>0</td>\n",
       "      <td>22.994741</td>\n",
       "    </tr>\n",
       "    <tr>\n",
       "      <th>...</th>\n",
       "      <td>...</td>\n",
       "      <td>...</td>\n",
       "      <td>...</td>\n",
       "    </tr>\n",
       "    <tr>\n",
       "      <th>2965</th>\n",
       "      <td>94</td>\n",
       "      <td>29</td>\n",
       "      <td>0.000162</td>\n",
       "    </tr>\n",
       "    <tr>\n",
       "      <th>2966</th>\n",
       "      <td>95</td>\n",
       "      <td>29</td>\n",
       "      <td>0.000130</td>\n",
       "    </tr>\n",
       "    <tr>\n",
       "      <th>2967</th>\n",
       "      <td>96</td>\n",
       "      <td>29</td>\n",
       "      <td>0.000104</td>\n",
       "    </tr>\n",
       "    <tr>\n",
       "      <th>2968</th>\n",
       "      <td>97</td>\n",
       "      <td>29</td>\n",
       "      <td>0.000083</td>\n",
       "    </tr>\n",
       "    <tr>\n",
       "      <th>2969</th>\n",
       "      <td>98</td>\n",
       "      <td>29</td>\n",
       "      <td>0.000066</td>\n",
       "    </tr>\n",
       "  </tbody>\n",
       "</table>\n",
       "<p>2970 rows × 3 columns</p>\n",
       "</div>"
      ],
      "text/plain": [
       "      timepoint_id  sample_id  infected_observable_state\n",
       "0                0          0                  19.609041\n",
       "1                1          0                  22.959484\n",
       "2                2          0                  24.065012\n",
       "3                3          0                  23.884687\n",
       "4                4          0                  22.994741\n",
       "...            ...        ...                        ...\n",
       "2965            94         29                   0.000162\n",
       "2966            95         29                   0.000130\n",
       "2967            96         29                   0.000104\n",
       "2968            97         29                   0.000083\n",
       "2969            98         29                   0.000066\n",
       "\n",
       "[2970 rows x 3 columns]"
      ]
     },
     "execution_count": 6,
     "metadata": {},
     "output_type": "execute_result"
    }
   ],
   "source": [
    "def distributions():\n",
    "    model_1_path = (\n",
    "            \"https://raw.githubusercontent.com/DARPA-ASKEM/simulation-integration\"\n",
    "            \"/main/data/models/SEIRHD_NPI_Type1_petrinet.json\"\n",
    "    )\n",
    "    start_time = 0.0\n",
    "    end_time = 100.0\n",
    "    logging_step_size = 1\n",
    "    num_samples = 30\n",
    "    sample = pyciemss.sample(\n",
    "        model_1_path,\n",
    "        end_time,\n",
    "        logging_step_size,\n",
    "        num_samples,\n",
    "        start_time=start_time,\n",
    "        solver_method=\"euler\",\n",
    "    )[\"unprocessed_result\"]\n",
    "\n",
    "    for e in sample.values():\n",
    "        if len(e.shape) > 1:\n",
    "            num_timepoints = e.shape[1]\n",
    "\n",
    "    return convert_to_output_format(\n",
    "        sample,\n",
    "        timepoints=np.linspace(start_time, end_time, num_timepoints),\n",
    "        time_unit=\"notional\",\n",
    "    )\n",
    "\n",
    "distributions = distributions()\n",
    "print(distributions.head())\n",
    "print(distributions.columns)\n",
    "all_columns = [\"timepoint_id\", \"sample_id\", 'infected_observable_state',\n",
    "       'exposed_observable_state', 'hospitalized_observable_state',\n",
    "       'dead_observable_state']\n",
    "all_columns = [\"timepoint_id\", \"sample_id\", 'infected_observable_state']\n",
    "\n",
    "distributions = distributions[all_columns]\n",
    "distributions"
   ]
  },
  {
   "cell_type": "code",
   "execution_count": null,
   "metadata": {},
   "outputs": [
    {
     "ename": "FileNotFoundError",
     "evalue": "[Errno 2] No such file or directory: 'paper_sine_05/paper_sine_05_new_df.csv'",
     "output_type": "error",
     "traceback": [
      "\u001b[0;31m---------------------------------------------------------------------------\u001b[0m",
      "\u001b[0;31mFileNotFoundError\u001b[0m                         Traceback (most recent call last)",
      "Cell \u001b[0;32mIn[13], line 2\u001b[0m\n\u001b[1;32m      1\u001b[0m \u001b[38;5;66;03m#'timepoint_id', 'sample_id'\u001b[39;00m\n\u001b[0;32m----> 2\u001b[0m sine_distribution \u001b[38;5;241m=\u001b[39m \u001b[43mpd\u001b[49m\u001b[38;5;241;43m.\u001b[39;49m\u001b[43mread_csv\u001b[49m\u001b[43m(\u001b[49m\u001b[38;5;124;43m\"\u001b[39;49m\u001b[38;5;124;43mpaper_sine_05/paper_sine_05_new_df.csv\u001b[39;49m\u001b[38;5;124;43m\"\u001b[39;49m\u001b[43m)\u001b[49m\n\u001b[1;32m      3\u001b[0m sine_distribution \u001b[38;5;241m=\u001b[39m sine_distribution\u001b[38;5;241m.\u001b[39mrename(\n\u001b[1;32m      4\u001b[0m             columns\u001b[38;5;241m=\u001b[39m{\n\u001b[1;32m      5\u001b[0m                 \u001b[38;5;124m'\u001b[39m\u001b[38;5;124mUnnamed: 0.1\u001b[39m\u001b[38;5;124m'\u001b[39m: \u001b[38;5;124m\"\u001b[39m\u001b[38;5;124mtimepoint_id\u001b[39m\u001b[38;5;124m\"\u001b[39m,\n\u001b[1;32m      6\u001b[0m                 \u001b[38;5;124m'\u001b[39m\u001b[38;5;124mUnnamed: 0\u001b[39m\u001b[38;5;124m'\u001b[39m: \u001b[38;5;124m\"\u001b[39m\u001b[38;5;124m100\u001b[39m\u001b[38;5;124m\"\u001b[39m,\n\u001b[1;32m      7\u001b[0m             }\n\u001b[1;32m      8\u001b[0m         )\n\u001b[1;32m      9\u001b[0m sine_distribution \u001b[38;5;241m=\u001b[39m sine_distribution\u001b[38;5;241m.\u001b[39mmelt(id_vars\u001b[38;5;241m=\u001b[39m[\u001b[38;5;124m\"\u001b[39m\u001b[38;5;124mtimepoint_id\u001b[39m\u001b[38;5;124m\"\u001b[39m], \n\u001b[1;32m     10\u001b[0m         var_name\u001b[38;5;241m=\u001b[39m\u001b[38;5;124m\"\u001b[39m\u001b[38;5;124msample_id\u001b[39m\u001b[38;5;124m\"\u001b[39m, \n\u001b[1;32m     11\u001b[0m         value_name\u001b[38;5;241m=\u001b[39m\u001b[38;5;124m\"\u001b[39m\u001b[38;5;124msame_stat_state\u001b[39m\u001b[38;5;124m\"\u001b[39m)\n",
      "File \u001b[0;32m~/opt/anaconda3/envs/pyciems310/lib/python3.10/site-packages/pandas/io/parsers/readers.py:1026\u001b[0m, in \u001b[0;36mread_csv\u001b[0;34m(filepath_or_buffer, sep, delimiter, header, names, index_col, usecols, dtype, engine, converters, true_values, false_values, skipinitialspace, skiprows, skipfooter, nrows, na_values, keep_default_na, na_filter, verbose, skip_blank_lines, parse_dates, infer_datetime_format, keep_date_col, date_parser, date_format, dayfirst, cache_dates, iterator, chunksize, compression, thousands, decimal, lineterminator, quotechar, quoting, doublequote, escapechar, comment, encoding, encoding_errors, dialect, on_bad_lines, delim_whitespace, low_memory, memory_map, float_precision, storage_options, dtype_backend)\u001b[0m\n\u001b[1;32m   1013\u001b[0m kwds_defaults \u001b[38;5;241m=\u001b[39m _refine_defaults_read(\n\u001b[1;32m   1014\u001b[0m     dialect,\n\u001b[1;32m   1015\u001b[0m     delimiter,\n\u001b[0;32m   (...)\u001b[0m\n\u001b[1;32m   1022\u001b[0m     dtype_backend\u001b[38;5;241m=\u001b[39mdtype_backend,\n\u001b[1;32m   1023\u001b[0m )\n\u001b[1;32m   1024\u001b[0m kwds\u001b[38;5;241m.\u001b[39mupdate(kwds_defaults)\n\u001b[0;32m-> 1026\u001b[0m \u001b[38;5;28;01mreturn\u001b[39;00m \u001b[43m_read\u001b[49m\u001b[43m(\u001b[49m\u001b[43mfilepath_or_buffer\u001b[49m\u001b[43m,\u001b[49m\u001b[43m \u001b[49m\u001b[43mkwds\u001b[49m\u001b[43m)\u001b[49m\n",
      "File \u001b[0;32m~/opt/anaconda3/envs/pyciems310/lib/python3.10/site-packages/pandas/io/parsers/readers.py:620\u001b[0m, in \u001b[0;36m_read\u001b[0;34m(filepath_or_buffer, kwds)\u001b[0m\n\u001b[1;32m    617\u001b[0m _validate_names(kwds\u001b[38;5;241m.\u001b[39mget(\u001b[38;5;124m\"\u001b[39m\u001b[38;5;124mnames\u001b[39m\u001b[38;5;124m\"\u001b[39m, \u001b[38;5;28;01mNone\u001b[39;00m))\n\u001b[1;32m    619\u001b[0m \u001b[38;5;66;03m# Create the parser.\u001b[39;00m\n\u001b[0;32m--> 620\u001b[0m parser \u001b[38;5;241m=\u001b[39m \u001b[43mTextFileReader\u001b[49m\u001b[43m(\u001b[49m\u001b[43mfilepath_or_buffer\u001b[49m\u001b[43m,\u001b[49m\u001b[43m \u001b[49m\u001b[38;5;241;43m*\u001b[39;49m\u001b[38;5;241;43m*\u001b[39;49m\u001b[43mkwds\u001b[49m\u001b[43m)\u001b[49m\n\u001b[1;32m    622\u001b[0m \u001b[38;5;28;01mif\u001b[39;00m chunksize \u001b[38;5;129;01mor\u001b[39;00m iterator:\n\u001b[1;32m    623\u001b[0m     \u001b[38;5;28;01mreturn\u001b[39;00m parser\n",
      "File \u001b[0;32m~/opt/anaconda3/envs/pyciems310/lib/python3.10/site-packages/pandas/io/parsers/readers.py:1620\u001b[0m, in \u001b[0;36mTextFileReader.__init__\u001b[0;34m(self, f, engine, **kwds)\u001b[0m\n\u001b[1;32m   1617\u001b[0m     \u001b[38;5;28mself\u001b[39m\u001b[38;5;241m.\u001b[39moptions[\u001b[38;5;124m\"\u001b[39m\u001b[38;5;124mhas_index_names\u001b[39m\u001b[38;5;124m\"\u001b[39m] \u001b[38;5;241m=\u001b[39m kwds[\u001b[38;5;124m\"\u001b[39m\u001b[38;5;124mhas_index_names\u001b[39m\u001b[38;5;124m\"\u001b[39m]\n\u001b[1;32m   1619\u001b[0m \u001b[38;5;28mself\u001b[39m\u001b[38;5;241m.\u001b[39mhandles: IOHandles \u001b[38;5;241m|\u001b[39m \u001b[38;5;28;01mNone\u001b[39;00m \u001b[38;5;241m=\u001b[39m \u001b[38;5;28;01mNone\u001b[39;00m\n\u001b[0;32m-> 1620\u001b[0m \u001b[38;5;28mself\u001b[39m\u001b[38;5;241m.\u001b[39m_engine \u001b[38;5;241m=\u001b[39m \u001b[38;5;28;43mself\u001b[39;49m\u001b[38;5;241;43m.\u001b[39;49m\u001b[43m_make_engine\u001b[49m\u001b[43m(\u001b[49m\u001b[43mf\u001b[49m\u001b[43m,\u001b[49m\u001b[43m \u001b[49m\u001b[38;5;28;43mself\u001b[39;49m\u001b[38;5;241;43m.\u001b[39;49m\u001b[43mengine\u001b[49m\u001b[43m)\u001b[49m\n",
      "File \u001b[0;32m~/opt/anaconda3/envs/pyciems310/lib/python3.10/site-packages/pandas/io/parsers/readers.py:1880\u001b[0m, in \u001b[0;36mTextFileReader._make_engine\u001b[0;34m(self, f, engine)\u001b[0m\n\u001b[1;32m   1878\u001b[0m     \u001b[38;5;28;01mif\u001b[39;00m \u001b[38;5;124m\"\u001b[39m\u001b[38;5;124mb\u001b[39m\u001b[38;5;124m\"\u001b[39m \u001b[38;5;129;01mnot\u001b[39;00m \u001b[38;5;129;01min\u001b[39;00m mode:\n\u001b[1;32m   1879\u001b[0m         mode \u001b[38;5;241m+\u001b[39m\u001b[38;5;241m=\u001b[39m \u001b[38;5;124m\"\u001b[39m\u001b[38;5;124mb\u001b[39m\u001b[38;5;124m\"\u001b[39m\n\u001b[0;32m-> 1880\u001b[0m \u001b[38;5;28mself\u001b[39m\u001b[38;5;241m.\u001b[39mhandles \u001b[38;5;241m=\u001b[39m \u001b[43mget_handle\u001b[49m\u001b[43m(\u001b[49m\n\u001b[1;32m   1881\u001b[0m \u001b[43m    \u001b[49m\u001b[43mf\u001b[49m\u001b[43m,\u001b[49m\n\u001b[1;32m   1882\u001b[0m \u001b[43m    \u001b[49m\u001b[43mmode\u001b[49m\u001b[43m,\u001b[49m\n\u001b[1;32m   1883\u001b[0m \u001b[43m    \u001b[49m\u001b[43mencoding\u001b[49m\u001b[38;5;241;43m=\u001b[39;49m\u001b[38;5;28;43mself\u001b[39;49m\u001b[38;5;241;43m.\u001b[39;49m\u001b[43moptions\u001b[49m\u001b[38;5;241;43m.\u001b[39;49m\u001b[43mget\u001b[49m\u001b[43m(\u001b[49m\u001b[38;5;124;43m\"\u001b[39;49m\u001b[38;5;124;43mencoding\u001b[39;49m\u001b[38;5;124;43m\"\u001b[39;49m\u001b[43m,\u001b[49m\u001b[43m \u001b[49m\u001b[38;5;28;43;01mNone\u001b[39;49;00m\u001b[43m)\u001b[49m\u001b[43m,\u001b[49m\n\u001b[1;32m   1884\u001b[0m \u001b[43m    \u001b[49m\u001b[43mcompression\u001b[49m\u001b[38;5;241;43m=\u001b[39;49m\u001b[38;5;28;43mself\u001b[39;49m\u001b[38;5;241;43m.\u001b[39;49m\u001b[43moptions\u001b[49m\u001b[38;5;241;43m.\u001b[39;49m\u001b[43mget\u001b[49m\u001b[43m(\u001b[49m\u001b[38;5;124;43m\"\u001b[39;49m\u001b[38;5;124;43mcompression\u001b[39;49m\u001b[38;5;124;43m\"\u001b[39;49m\u001b[43m,\u001b[49m\u001b[43m \u001b[49m\u001b[38;5;28;43;01mNone\u001b[39;49;00m\u001b[43m)\u001b[49m\u001b[43m,\u001b[49m\n\u001b[1;32m   1885\u001b[0m \u001b[43m    \u001b[49m\u001b[43mmemory_map\u001b[49m\u001b[38;5;241;43m=\u001b[39;49m\u001b[38;5;28;43mself\u001b[39;49m\u001b[38;5;241;43m.\u001b[39;49m\u001b[43moptions\u001b[49m\u001b[38;5;241;43m.\u001b[39;49m\u001b[43mget\u001b[49m\u001b[43m(\u001b[49m\u001b[38;5;124;43m\"\u001b[39;49m\u001b[38;5;124;43mmemory_map\u001b[39;49m\u001b[38;5;124;43m\"\u001b[39;49m\u001b[43m,\u001b[49m\u001b[43m \u001b[49m\u001b[38;5;28;43;01mFalse\u001b[39;49;00m\u001b[43m)\u001b[49m\u001b[43m,\u001b[49m\n\u001b[1;32m   1886\u001b[0m \u001b[43m    \u001b[49m\u001b[43mis_text\u001b[49m\u001b[38;5;241;43m=\u001b[39;49m\u001b[43mis_text\u001b[49m\u001b[43m,\u001b[49m\n\u001b[1;32m   1887\u001b[0m \u001b[43m    \u001b[49m\u001b[43merrors\u001b[49m\u001b[38;5;241;43m=\u001b[39;49m\u001b[38;5;28;43mself\u001b[39;49m\u001b[38;5;241;43m.\u001b[39;49m\u001b[43moptions\u001b[49m\u001b[38;5;241;43m.\u001b[39;49m\u001b[43mget\u001b[49m\u001b[43m(\u001b[49m\u001b[38;5;124;43m\"\u001b[39;49m\u001b[38;5;124;43mencoding_errors\u001b[39;49m\u001b[38;5;124;43m\"\u001b[39;49m\u001b[43m,\u001b[49m\u001b[43m \u001b[49m\u001b[38;5;124;43m\"\u001b[39;49m\u001b[38;5;124;43mstrict\u001b[39;49m\u001b[38;5;124;43m\"\u001b[39;49m\u001b[43m)\u001b[49m\u001b[43m,\u001b[49m\n\u001b[1;32m   1888\u001b[0m \u001b[43m    \u001b[49m\u001b[43mstorage_options\u001b[49m\u001b[38;5;241;43m=\u001b[39;49m\u001b[38;5;28;43mself\u001b[39;49m\u001b[38;5;241;43m.\u001b[39;49m\u001b[43moptions\u001b[49m\u001b[38;5;241;43m.\u001b[39;49m\u001b[43mget\u001b[49m\u001b[43m(\u001b[49m\u001b[38;5;124;43m\"\u001b[39;49m\u001b[38;5;124;43mstorage_options\u001b[39;49m\u001b[38;5;124;43m\"\u001b[39;49m\u001b[43m,\u001b[49m\u001b[43m \u001b[49m\u001b[38;5;28;43;01mNone\u001b[39;49;00m\u001b[43m)\u001b[49m\u001b[43m,\u001b[49m\n\u001b[1;32m   1889\u001b[0m \u001b[43m\u001b[49m\u001b[43m)\u001b[49m\n\u001b[1;32m   1890\u001b[0m \u001b[38;5;28;01massert\u001b[39;00m \u001b[38;5;28mself\u001b[39m\u001b[38;5;241m.\u001b[39mhandles \u001b[38;5;129;01mis\u001b[39;00m \u001b[38;5;129;01mnot\u001b[39;00m \u001b[38;5;28;01mNone\u001b[39;00m\n\u001b[1;32m   1891\u001b[0m f \u001b[38;5;241m=\u001b[39m \u001b[38;5;28mself\u001b[39m\u001b[38;5;241m.\u001b[39mhandles\u001b[38;5;241m.\u001b[39mhandle\n",
      "File \u001b[0;32m~/opt/anaconda3/envs/pyciems310/lib/python3.10/site-packages/pandas/io/common.py:873\u001b[0m, in \u001b[0;36mget_handle\u001b[0;34m(path_or_buf, mode, encoding, compression, memory_map, is_text, errors, storage_options)\u001b[0m\n\u001b[1;32m    868\u001b[0m \u001b[38;5;28;01melif\u001b[39;00m \u001b[38;5;28misinstance\u001b[39m(handle, \u001b[38;5;28mstr\u001b[39m):\n\u001b[1;32m    869\u001b[0m     \u001b[38;5;66;03m# Check whether the filename is to be opened in binary mode.\u001b[39;00m\n\u001b[1;32m    870\u001b[0m     \u001b[38;5;66;03m# Binary mode does not support 'encoding' and 'newline'.\u001b[39;00m\n\u001b[1;32m    871\u001b[0m     \u001b[38;5;28;01mif\u001b[39;00m ioargs\u001b[38;5;241m.\u001b[39mencoding \u001b[38;5;129;01mand\u001b[39;00m \u001b[38;5;124m\"\u001b[39m\u001b[38;5;124mb\u001b[39m\u001b[38;5;124m\"\u001b[39m \u001b[38;5;129;01mnot\u001b[39;00m \u001b[38;5;129;01min\u001b[39;00m ioargs\u001b[38;5;241m.\u001b[39mmode:\n\u001b[1;32m    872\u001b[0m         \u001b[38;5;66;03m# Encoding\u001b[39;00m\n\u001b[0;32m--> 873\u001b[0m         handle \u001b[38;5;241m=\u001b[39m \u001b[38;5;28;43mopen\u001b[39;49m\u001b[43m(\u001b[49m\n\u001b[1;32m    874\u001b[0m \u001b[43m            \u001b[49m\u001b[43mhandle\u001b[49m\u001b[43m,\u001b[49m\n\u001b[1;32m    875\u001b[0m \u001b[43m            \u001b[49m\u001b[43mioargs\u001b[49m\u001b[38;5;241;43m.\u001b[39;49m\u001b[43mmode\u001b[49m\u001b[43m,\u001b[49m\n\u001b[1;32m    876\u001b[0m \u001b[43m            \u001b[49m\u001b[43mencoding\u001b[49m\u001b[38;5;241;43m=\u001b[39;49m\u001b[43mioargs\u001b[49m\u001b[38;5;241;43m.\u001b[39;49m\u001b[43mencoding\u001b[49m\u001b[43m,\u001b[49m\n\u001b[1;32m    877\u001b[0m \u001b[43m            \u001b[49m\u001b[43merrors\u001b[49m\u001b[38;5;241;43m=\u001b[39;49m\u001b[43merrors\u001b[49m\u001b[43m,\u001b[49m\n\u001b[1;32m    878\u001b[0m \u001b[43m            \u001b[49m\u001b[43mnewline\u001b[49m\u001b[38;5;241;43m=\u001b[39;49m\u001b[38;5;124;43m\"\u001b[39;49m\u001b[38;5;124;43m\"\u001b[39;49m\u001b[43m,\u001b[49m\n\u001b[1;32m    879\u001b[0m \u001b[43m        \u001b[49m\u001b[43m)\u001b[49m\n\u001b[1;32m    880\u001b[0m     \u001b[38;5;28;01melse\u001b[39;00m:\n\u001b[1;32m    881\u001b[0m         \u001b[38;5;66;03m# Binary mode\u001b[39;00m\n\u001b[1;32m    882\u001b[0m         handle \u001b[38;5;241m=\u001b[39m \u001b[38;5;28mopen\u001b[39m(handle, ioargs\u001b[38;5;241m.\u001b[39mmode)\n",
      "\u001b[0;31mFileNotFoundError\u001b[0m: [Errno 2] No such file or directory: 'paper_sine_05/paper_sine_05_new_df.csv'"
     ]
    }
   ],
   "source": [
    "#'timepoint_id', 'sample_id'\n",
    "sine_distribution = pd.read_csv(\"paper_sine_05/paper_sine_05_new_df.csv\")\n",
    "sine_distribution = sine_distribution.rename(\n",
    "            columns={\n",
    "                'Unnamed: 0.1': \"timepoint_id\",\n",
    "                'Unnamed: 0': \"100\",\n",
    "            }\n",
    "        )\n",
    "sine_distribution = sine_distribution.melt(id_vars=[\"timepoint_id\"], \n",
    "        var_name=\"sample_id\", \n",
    "        value_name=\"same_stat_state\")\n",
    "\n",
    "traces_list = []   \n",
    " \n",
    "#select_by \"mean\", \"var\", \"granger\"\n",
    "for select_by in ['mean', 'var', 'granger']:\n",
    "    examplary_line, mean_line_df = pyciemss.visuals.trajectories.select_traces(sine_distribution, select_by = select_by,  kmean=True)\n",
    "    traces_list.append(examplary_line)\n",
    "\n",
    "\n",
    "new_df = pd.concat(traces_list, axis = 1)\n",
    "combined_df = pd.concat([new_df, mean_line_df], axis =1)\n",
    "\n",
    "schema = plots.trajectories(sine_distribution, traces = combined_df,  keep=\".*_state\")\n",
    "\n",
    "plots.save_schema(schema, \"_schema.json\")\n",
    "\n",
    "plots.ipy_display(schema, format=\"interactive\")"
   ]
  }
 ],
 "metadata": {
  "kernelspec": {
   "display_name": "py310_cfg",
   "language": "python",
   "name": "python3"
  },
  "language_info": {
   "codemirror_mode": {
    "name": "ipython",
    "version": 3
   },
   "file_extension": ".py",
   "mimetype": "text/x-python",
   "name": "python",
   "nbconvert_exporter": "python",
   "pygments_lexer": "ipython3",
   "version": "3.10.13"
  }
 },
 "nbformat": 4,
 "nbformat_minor": 2
}
