{
 "cells": [
  {
   "cell_type": "code",
   "execution_count": 2,
   "metadata": {},
   "outputs": [
    {
     "name": "stderr",
     "output_type": "stream",
     "text": [
      "/Users/oost464/opt/anaconda3/envs/pyciems310/lib/python3.10/site-packages/threadpoolctl.py:1223: RuntimeWarning: \n",
      "Found Intel OpenMP ('libiomp') and LLVM OpenMP ('libomp') loaded at\n",
      "the same time. Both libraries are known to be incompatible and this\n",
      "can cause random crashes or deadlocks on Linux when loaded in the\n",
      "same Python program.\n",
      "Using threadpoolctl may cause crashes or deadlocks. For more\n",
      "information and possible workarounds, please see\n",
      "    https://github.com/joblib/threadpoolctl/blob/master/multiple_openmp.md\n",
      "\n",
      "  warnings.warn(msg, RuntimeWarning)\n",
      "/Users/oost464/opt/anaconda3/envs/pyciems310/lib/python3.10/site-packages/tslearn/bases/bases.py:15: UserWarning: h5py not installed, hdf5 features will not be supported.\n",
      "Install h5py to use hdf5 features: http://docs.h5py.org/\n",
      "  warn(h5py_msg)\n"
     ]
    }
   ],
   "source": [
    "import json\n",
    "import random\n",
    "from itertools import chain\n",
    "from pathlib import Path\n",
    "import os\n",
    "import networkx as nx\n",
    "import numpy as np\n",
    "import pandas as pd\n",
    "import pytest\n",
    "\n",
    "import pyciemss\n",
    "from pyciemss.integration_utils.result_processing import convert_to_output_format\n",
    "from pyciemss.visuals import plots, vega\n",
    "\n"
   ]
  },
  {
   "cell_type": "code",
   "execution_count": 7,
   "metadata": {},
   "outputs": [
    {
     "name": "stdout",
     "output_type": "stream",
     "text": [
      "Init 1\n"
     ]
    },
    {
     "name": "stderr",
     "output_type": "stream",
     "text": [
      "[Parallel(n_jobs=1)]: Done  49 tasks      | elapsed:    0.0s\n",
      "[Parallel(n_jobs=1)]: Done 199 tasks      | elapsed:    0.1s\n",
      "[Parallel(n_jobs=1)]: Done  49 tasks      | elapsed:    0.0s\n",
      "[Parallel(n_jobs=1)]: Done 199 tasks      | elapsed:    0.0s\n",
      "[Parallel(n_jobs=1)]: Done 449 tasks      | elapsed:    0.1s\n",
      "[Parallel(n_jobs=1)]: Done 799 tasks      | elapsed:    0.2s\n",
      "[Parallel(n_jobs=1)]: Done  49 tasks      | elapsed:    0.0s\n",
      "[Parallel(n_jobs=1)]: Done 199 tasks      | elapsed:    0.0s\n",
      "[Parallel(n_jobs=1)]: Done 449 tasks      | elapsed:    0.1s\n",
      "[Parallel(n_jobs=1)]: Done 799 tasks      | elapsed:    0.2s\n",
      "[Parallel(n_jobs=1)]: Done  49 tasks      | elapsed:    0.0s\n",
      "[Parallel(n_jobs=1)]: Done 199 tasks      | elapsed:    0.0s\n",
      "[Parallel(n_jobs=1)]: Done 449 tasks      | elapsed:    0.1s\n",
      "[Parallel(n_jobs=1)]: Done 799 tasks      | elapsed:    0.2s\n",
      "[Parallel(n_jobs=1)]: Done  49 tasks      | elapsed:    0.0s\n",
      "[Parallel(n_jobs=1)]: Done 199 tasks      | elapsed:    0.0s\n",
      "[Parallel(n_jobs=1)]: Done 449 tasks      | elapsed:    0.1s\n",
      "[Parallel(n_jobs=1)]: Done 799 tasks      | elapsed:    0.2s\n",
      "[Parallel(n_jobs=1)]: Done 1249 tasks      | elapsed:    0.3s\n"
     ]
    },
    {
     "name": "stdout",
     "output_type": "stream",
     "text": [
      "28.540 --> "
     ]
    },
    {
     "name": "stderr",
     "output_type": "stream",
     "text": [
      "[Parallel(n_jobs=1)]: Done  49 tasks      | elapsed:    0.0s\n",
      "[Parallel(n_jobs=1)]: Done 199 tasks      | elapsed:    0.1s\n",
      "[Parallel(n_jobs=1)]: Done 449 tasks      | elapsed:    0.1s\n",
      "[Parallel(n_jobs=1)]: Done 799 tasks      | elapsed:    0.2s\n",
      "[Parallel(n_jobs=1)]: Done 1249 tasks      | elapsed:    0.3s\n"
     ]
    },
    {
     "name": "stdout",
     "output_type": "stream",
     "text": [
      "16.195 --> "
     ]
    },
    {
     "name": "stderr",
     "output_type": "stream",
     "text": [
      "[Parallel(n_jobs=1)]: Done  49 tasks      | elapsed:    0.0s\n",
      "[Parallel(n_jobs=1)]: Done 199 tasks      | elapsed:    0.0s\n",
      "[Parallel(n_jobs=1)]: Done 449 tasks      | elapsed:    0.1s\n",
      "[Parallel(n_jobs=1)]: Done 799 tasks      | elapsed:    0.2s\n",
      "[Parallel(n_jobs=1)]: Done 1249 tasks      | elapsed:    0.3s\n"
     ]
    },
    {
     "name": "stdout",
     "output_type": "stream",
     "text": [
      "15.799 --> "
     ]
    },
    {
     "name": "stderr",
     "output_type": "stream",
     "text": [
      "[Parallel(n_jobs=1)]: Done  49 tasks      | elapsed:    0.0s\n",
      "[Parallel(n_jobs=1)]: Done 199 tasks      | elapsed:    0.0s\n",
      "[Parallel(n_jobs=1)]: Done 449 tasks      | elapsed:    0.1s\n",
      "[Parallel(n_jobs=1)]: Done 799 tasks      | elapsed:    0.2s\n",
      "[Parallel(n_jobs=1)]: Done 1249 tasks      | elapsed:    0.3s\n"
     ]
    },
    {
     "name": "stdout",
     "output_type": "stream",
     "text": [
      "15.759 --> "
     ]
    },
    {
     "name": "stderr",
     "output_type": "stream",
     "text": [
      "[Parallel(n_jobs=1)]: Done  49 tasks      | elapsed:    0.0s\n",
      "[Parallel(n_jobs=1)]: Done 199 tasks      | elapsed:    0.0s\n",
      "[Parallel(n_jobs=1)]: Done 449 tasks      | elapsed:    0.1s\n",
      "[Parallel(n_jobs=1)]: Done 799 tasks      | elapsed:    0.2s\n",
      "[Parallel(n_jobs=1)]: Done 1249 tasks      | elapsed:    0.3s\n"
     ]
    },
    {
     "name": "stdout",
     "output_type": "stream",
     "text": [
      "15.747 --> "
     ]
    },
    {
     "name": "stderr",
     "output_type": "stream",
     "text": [
      "[Parallel(n_jobs=1)]: Done  49 tasks      | elapsed:    0.0s\n",
      "[Parallel(n_jobs=1)]: Done 199 tasks      | elapsed:    0.0s\n",
      "[Parallel(n_jobs=1)]: Done 449 tasks      | elapsed:    0.1s\n",
      "[Parallel(n_jobs=1)]: Done 799 tasks      | elapsed:    0.2s\n",
      "[Parallel(n_jobs=1)]: Done 1249 tasks      | elapsed:    0.3s\n"
     ]
    },
    {
     "name": "stdout",
     "output_type": "stream",
     "text": [
      "15.738 --> "
     ]
    },
    {
     "name": "stderr",
     "output_type": "stream",
     "text": [
      "[Parallel(n_jobs=1)]: Done  49 tasks      | elapsed:    0.0s\n",
      "[Parallel(n_jobs=1)]: Done 199 tasks      | elapsed:    0.0s\n",
      "[Parallel(n_jobs=1)]: Done 449 tasks      | elapsed:    0.1s\n",
      "[Parallel(n_jobs=1)]: Done 799 tasks      | elapsed:    0.2s\n",
      "[Parallel(n_jobs=1)]: Done 1249 tasks      | elapsed:    0.2s\n"
     ]
    },
    {
     "name": "stdout",
     "output_type": "stream",
     "text": [
      "15.736 --> "
     ]
    },
    {
     "name": "stderr",
     "output_type": "stream",
     "text": [
      "[Parallel(n_jobs=1)]: Done  49 tasks      | elapsed:    0.0s\n",
      "[Parallel(n_jobs=1)]: Done 199 tasks      | elapsed:    0.0s\n",
      "[Parallel(n_jobs=1)]: Done 449 tasks      | elapsed:    0.1s\n",
      "[Parallel(n_jobs=1)]: Done 799 tasks      | elapsed:    0.2s\n",
      "[Parallel(n_jobs=1)]: Done 1249 tasks      | elapsed:    0.3s\n"
     ]
    },
    {
     "name": "stdout",
     "output_type": "stream",
     "text": [
      "15.736 --> \n",
      "Init 2\n"
     ]
    },
    {
     "name": "stderr",
     "output_type": "stream",
     "text": [
      "[Parallel(n_jobs=1)]: Done  49 tasks      | elapsed:    0.0s\n",
      "[Parallel(n_jobs=1)]: Done 199 tasks      | elapsed:    0.0s\n",
      "[Parallel(n_jobs=1)]: Done  49 tasks      | elapsed:    0.0s\n",
      "[Parallel(n_jobs=1)]: Done 199 tasks      | elapsed:    0.0s\n",
      "[Parallel(n_jobs=1)]: Done 449 tasks      | elapsed:    0.1s\n",
      "[Parallel(n_jobs=1)]: Done 799 tasks      | elapsed:    0.2s\n",
      "[Parallel(n_jobs=1)]: Done  49 tasks      | elapsed:    0.0s\n",
      "[Parallel(n_jobs=1)]: Done 199 tasks      | elapsed:    0.0s\n",
      "[Parallel(n_jobs=1)]: Done 449 tasks      | elapsed:    0.1s\n",
      "[Parallel(n_jobs=1)]: Done 799 tasks      | elapsed:    0.2s\n",
      "[Parallel(n_jobs=1)]: Done  49 tasks      | elapsed:    0.0s\n",
      "[Parallel(n_jobs=1)]: Done 199 tasks      | elapsed:    0.0s\n",
      "[Parallel(n_jobs=1)]: Done 449 tasks      | elapsed:    0.1s\n",
      "[Parallel(n_jobs=1)]: Done 799 tasks      | elapsed:    0.2s\n",
      "[Parallel(n_jobs=1)]: Done  49 tasks      | elapsed:    0.0s\n",
      "[Parallel(n_jobs=1)]: Done 199 tasks      | elapsed:    0.0s\n",
      "[Parallel(n_jobs=1)]: Done 449 tasks      | elapsed:    0.1s\n",
      "[Parallel(n_jobs=1)]: Done 799 tasks      | elapsed:    0.2s\n",
      "[Parallel(n_jobs=1)]: Done 1249 tasks      | elapsed:    0.2s\n"
     ]
    },
    {
     "name": "stdout",
     "output_type": "stream",
     "text": [
      "28.978 --> "
     ]
    },
    {
     "name": "stderr",
     "output_type": "stream",
     "text": [
      "[Parallel(n_jobs=1)]: Done  49 tasks      | elapsed:    0.0s\n",
      "[Parallel(n_jobs=1)]: Done 199 tasks      | elapsed:    0.0s\n",
      "[Parallel(n_jobs=1)]: Done 449 tasks      | elapsed:    0.1s\n",
      "[Parallel(n_jobs=1)]: Done 799 tasks      | elapsed:    0.2s\n",
      "[Parallel(n_jobs=1)]: Done 1249 tasks      | elapsed:    0.3s\n"
     ]
    },
    {
     "name": "stdout",
     "output_type": "stream",
     "text": [
      "13.524 --> "
     ]
    },
    {
     "name": "stderr",
     "output_type": "stream",
     "text": [
      "[Parallel(n_jobs=1)]: Done  49 tasks      | elapsed:    0.0s\n",
      "[Parallel(n_jobs=1)]: Done 199 tasks      | elapsed:    0.0s\n",
      "[Parallel(n_jobs=1)]: Done 449 tasks      | elapsed:    0.1s\n",
      "[Parallel(n_jobs=1)]: Done 799 tasks      | elapsed:    0.2s\n",
      "[Parallel(n_jobs=1)]: Done 1249 tasks      | elapsed:    0.3s\n"
     ]
    },
    {
     "name": "stdout",
     "output_type": "stream",
     "text": [
      "13.397 --> "
     ]
    },
    {
     "name": "stderr",
     "output_type": "stream",
     "text": [
      "[Parallel(n_jobs=1)]: Done  49 tasks      | elapsed:    0.0s\n",
      "[Parallel(n_jobs=1)]: Done 199 tasks      | elapsed:    0.0s\n",
      "[Parallel(n_jobs=1)]: Done 449 tasks      | elapsed:    0.1s\n",
      "[Parallel(n_jobs=1)]: Done 799 tasks      | elapsed:    0.2s\n",
      "[Parallel(n_jobs=1)]: Done 1249 tasks      | elapsed:    0.2s\n"
     ]
    },
    {
     "name": "stdout",
     "output_type": "stream",
     "text": [
      "13.396 --> "
     ]
    },
    {
     "name": "stderr",
     "output_type": "stream",
     "text": [
      "[Parallel(n_jobs=1)]: Done  49 tasks      | elapsed:    0.0s\n",
      "[Parallel(n_jobs=1)]: Done 199 tasks      | elapsed:    0.0s\n",
      "[Parallel(n_jobs=1)]: Done 449 tasks      | elapsed:    0.1s\n",
      "[Parallel(n_jobs=1)]: Done 799 tasks      | elapsed:    0.2s\n",
      "[Parallel(n_jobs=1)]: Done 1249 tasks      | elapsed:    0.2s\n"
     ]
    },
    {
     "name": "stdout",
     "output_type": "stream",
     "text": [
      "13.396 --> \n"
     ]
    },
    {
     "name": "stderr",
     "output_type": "stream",
     "text": [
      "[Parallel(n_jobs=1)]: Done  49 tasks      | elapsed:    0.0s\n",
      "[Parallel(n_jobs=1)]: Done 199 tasks      | elapsed:    0.1s\n",
      "[Parallel(n_jobs=1)]: Done 449 tasks      | elapsed:    0.1s\n",
      "[Parallel(n_jobs=1)]: Done 799 tasks      | elapsed:    0.2s\n",
      "[Parallel(n_jobs=1)]: Done 1249 tasks      | elapsed:    0.3s\n"
     ]
    },
    {
     "name": "stdout",
     "output_type": "stream",
     "text": [
      "\n"
     ]
    },
    {
     "data": {
      "application/vnd.vega.v5+json": {
       "$schema": "https://vega.github.io/schema/vega/v5.json",
       "axes": [
        {
         "name": "x_axis",
         "orient": "bottom",
         "scale": "xscale",
         "zindex": 100
        },
        {
         "name": "y_axis",
         "orient": "left",
         "scale": "yscale",
         "zindex": 100
        }
       ],
       "background": "white",
       "data": [
        {
         "name": "distributions",
         "transform": [
          {
           "sort": {
            "field": [
             "trajectory",
             "timepoint"
            ]
           },
           "type": "collect"
          }
         ],
         "values": [
          {
           "lower": -1.063081330732407,
           "timepoint": 0,
           "trajectory": "Example",
           "upper": 3.886009033924554
          },
          {
           "lower": -0.7062699174721361,
           "timepoint": 1,
           "trajectory": "Example",
           "upper": 4.809146345716181
          },
          {
           "lower": -1.1608772785179642,
           "timepoint": 2,
           "trajectory": "Example",
           "upper": 4.739837306573974
          },
          {
           "lower": -1.6191867059281848,
           "timepoint": 3,
           "trajectory": "Example",
           "upper": 4.641505115496991
          },
          {
           "lower": -2.0861175122817817,
           "timepoint": 4,
           "trajectory": "Example",
           "upper": 4.543444156918977
          },
          {
           "lower": -2.339485185675844,
           "timepoint": 5,
           "trajectory": "Example",
           "upper": 4.369518321200733
          },
          {
           "lower": -2.3327417772734065,
           "timepoint": 6,
           "trajectory": "Example",
           "upper": 3.839886962076328
          },
          {
           "lower": -2.194287815891342,
           "timepoint": 7,
           "trajectory": "Example",
           "upper": 3.276696302880928
          },
          {
           "lower": -1.9364788654784872,
           "timepoint": 8,
           "trajectory": "Example",
           "upper": 2.6738616129722623
          },
          {
           "lower": -1.9084558238589182,
           "timepoint": 9,
           "trajectory": "Example",
           "upper": 2.210246100383187
          },
          {
           "lower": -1.7808887210808748,
           "timepoint": 10,
           "trajectory": "Example",
           "upper": 2.2113500582343946
          },
          {
           "lower": -1.7935302568437501,
           "timepoint": 11,
           "trajectory": "Example",
           "upper": 2.4733848429556495
          },
          {
           "lower": -1.4851837396481686,
           "timepoint": 12,
           "trajectory": "Example",
           "upper": 2.674148246473892
          },
          {
           "lower": -1.0191644162342897,
           "timepoint": 13,
           "trajectory": "Example",
           "upper": 3.303120607852208
          },
          {
           "lower": -0.8798614016893525,
           "timepoint": 14,
           "trajectory": "Example",
           "upper": 3.8967648077347783
          },
          {
           "lower": -0.6793991995640991,
           "timepoint": 15,
           "trajectory": "Example",
           "upper": 4.5129723286389805
          },
          {
           "lower": -0.6372437707770567,
           "timepoint": 16,
           "trajectory": "Example",
           "upper": 5.099035215754413
          },
          {
           "lower": -0.440890287755929,
           "timepoint": 17,
           "trajectory": "Example",
           "upper": 5.392820768420536
          },
          {
           "lower": 0.038603573982683284,
           "timepoint": 18,
           "trajectory": "Example",
           "upper": 5.900848583950262
          },
          {
           "lower": 0.6392356520058381,
           "timepoint": 19,
           "trajectory": "Example",
           "upper": 6.092855607604964
          },
          {
           "lower": 1.3174364197681205,
           "timepoint": 20,
           "trajectory": "Example",
           "upper": 6.286189171107942
          },
          {
           "lower": 2.065191998404369,
           "timepoint": 21,
           "trajectory": "Example",
           "upper": 6.442998352265636
          },
          {
           "lower": 2.3845308810082186,
           "timepoint": 22,
           "trajectory": "Example",
           "upper": 6.411749342099043
          },
          {
           "lower": 2.2145584987224036,
           "timepoint": 23,
           "trajectory": "Example",
           "upper": 6.176807110562637
          },
          {
           "lower": 1.8428421748935904,
           "timepoint": 24,
           "trajectory": "Example",
           "upper": 5.964911621788375
          },
          {
           "lower": 1.260826197670125,
           "timepoint": 25,
           "trajectory": "Example",
           "upper": 6.118232928099184
          },
          {
           "lower": 0.6446172855014378,
           "timepoint": 26,
           "trajectory": "Example",
           "upper": 6.08812734918957
          },
          {
           "lower": 0.008002488363294645,
           "timepoint": 27,
           "trajectory": "Example",
           "upper": 5.874443384172335
          },
          {
           "lower": -0.5490856688656364,
           "timepoint": 28,
           "trajectory": "Example",
           "upper": 5.66786369543438
          },
          {
           "lower": -1.1139233943002897,
           "timepoint": 29,
           "trajectory": "Example",
           "upper": 5.4836591993979
          },
          {
           "lower": -1.4722826776313493,
           "timepoint": 30,
           "trajectory": "Example",
           "upper": 5.174564017973927
          },
          {
           "lower": -1.5405420033968285,
           "timepoint": 31,
           "trajectory": "Example",
           "upper": 4.7044641385212325
          },
          {
           "lower": -1.4235756587291288,
           "timepoint": 32,
           "trajectory": "Example",
           "upper": 4.117103806958114
          },
          {
           "lower": -1.2701835058757758,
           "timepoint": 33,
           "trajectory": "Example",
           "upper": 3.471545603101726
          },
          {
           "lower": -1.2270189218852101,
           "timepoint": 34,
           "trajectory": "Example",
           "upper": 2.8748998730269815
          },
          {
           "lower": -1.1200256103117128,
           "timepoint": 35,
           "trajectory": "Example",
           "upper": 2.784163935147461
          },
          {
           "lower": -1.1479384220620898,
           "timepoint": 36,
           "trajectory": "Example",
           "upper": 2.862591651479794
          },
          {
           "lower": -0.9130561758802545,
           "timepoint": 37,
           "trajectory": "Example",
           "upper": 3.2378510076735534
          },
          {
           "lower": -0.47276663585881734,
           "timepoint": 38,
           "trajectory": "Example",
           "upper": 3.842685042985172
          },
          {
           "lower": -0.3392498705445237,
           "timepoint": 39,
           "trajectory": "Example",
           "upper": 4.4094089420164515
          },
          {
           "lower": -0.1427717209789255,
           "timepoint": 40,
           "trajectory": "Example",
           "upper": 4.966211434404402
          },
          {
           "lower": -0.07082449636415819,
           "timepoint": 41,
           "trajectory": "Example",
           "upper": 5.583941447215777
          },
          {
           "lower": 0.13617354259427572,
           "timepoint": 42,
           "trajectory": "Example",
           "upper": 5.881499969978688
          },
          {
           "lower": 0.5156995811804257,
           "timepoint": 43,
           "trajectory": "Example",
           "upper": 6.347953544766719
          },
          {
           "lower": 1.053895024338485,
           "timepoint": 44,
           "trajectory": "Example",
           "upper": 6.557797991132508
          },
          {
           "lower": 1.7477760471859252,
           "timepoint": 45,
           "trajectory": "Example",
           "upper": 6.733289180428359
          },
          {
           "lower": 2.496556031738003,
           "timepoint": 46,
           "trajectory": "Example",
           "upper": 6.900007419326275
          },
          {
           "lower": 3.098638453807036,
           "timepoint": 47,
           "trajectory": "Example",
           "upper": 6.882526082945215
          },
          {
           "lower": 2.810107863814833,
           "timepoint": 48,
           "trajectory": "Example",
           "upper": 6.680397947645889
          },
          {
           "lower": 2.350813750907779,
           "timepoint": 49,
           "trajectory": "Example",
           "upper": 6.419700567250597
          },
          {
           "lower": 1.7721744093831326,
           "timepoint": 50,
           "trajectory": "Example",
           "upper": 6.534171206108879
          },
          {
           "lower": 1.1440777593053821,
           "timepoint": 51,
           "trajectory": "Example",
           "upper": 6.52001154508055
          },
          {
           "lower": 0.49436844991149276,
           "timepoint": 52,
           "trajectory": "Example",
           "upper": 6.3216107531995345
          },
          {
           "lower": -0.06392074809396843,
           "timepoint": 53,
           "trajectory": "Example",
           "upper": 6.102249890154974
          },
          {
           "lower": -0.6555577375003167,
           "timepoint": 54,
           "trajectory": "Example",
           "upper": 5.904577388563539
          },
          {
           "lower": -1.0639712117523032,
           "timepoint": 55,
           "trajectory": "Example",
           "upper": 5.610666669713451
          },
          {
           "lower": -1.1636335961174826,
           "timepoint": 56,
           "trajectory": "Example",
           "upper": 5.127483403122115
          },
          {
           "lower": -1.05403260143165,
           "timepoint": 57,
           "trajectory": "Example",
           "upper": 4.497386293637979
          },
          {
           "lower": -0.9531024867956819,
           "timepoint": 58,
           "trajectory": "Example",
           "upper": 3.880957324987421
          },
          {
           "lower": -0.8682462714021899,
           "timepoint": 59,
           "trajectory": "Example",
           "upper": 3.1681438442629353
          },
          {
           "lower": -0.7915818418190564,
           "timepoint": 60,
           "trajectory": "Example",
           "upper": 2.9668641135749434
          },
          {
           "lower": -0.7804575298683711,
           "timepoint": 61,
           "trajectory": "Example",
           "upper": 3.188386602000709
          },
          {
           "lower": -0.611851948823215,
           "timepoint": 62,
           "trajectory": "Example",
           "upper": 3.5093171278667388
          },
          {
           "lower": -0.2138621310524801,
           "timepoint": 63,
           "trajectory": "Example",
           "upper": 4.0925014964279764
          },
          {
           "lower": -0.019313129431326723,
           "timepoint": 64,
           "trajectory": "Example",
           "upper": 4.7035731637219795
          },
          {
           "lower": 0.1673961712551423,
           "timepoint": 65,
           "trajectory": "Example",
           "upper": 5.228222382601085
          },
          {
           "lower": 0.23731800007427817,
           "timepoint": 66,
           "trajectory": "Example",
           "upper": 5.846361694363249
          },
          {
           "lower": 0.4156826038596507,
           "timepoint": 67,
           "trajectory": "Example",
           "upper": 6.167620660594194
          },
          {
           "lower": 0.768950143219793,
           "timepoint": 68,
           "trajectory": "Example",
           "upper": 6.592829076570064
          },
          {
           "lower": 1.2784327276438203,
           "timepoint": 69,
           "trajectory": "Example",
           "upper": 6.845410294128757
          },
          {
           "lower": 1.9559440080955133,
           "timepoint": 70,
           "trajectory": "Example",
           "upper": 7.0098281030777425
          },
          {
           "lower": 2.695992989273002,
           "timepoint": 71,
           "trajectory": "Example",
           "upper": 7.188622626112671
          },
          {
           "lower": 3.375593799641387,
           "timepoint": 72,
           "trajectory": "Example",
           "upper": 7.192073200141767
          },
          {
           "lower": 3.1579133936444457,
           "timepoint": 73,
           "trajectory": "Example",
           "upper": 7.01064478766216
          },
          {
           "lower": 2.711994243912565,
           "timepoint": 74,
           "trajectory": "Example",
           "upper": 6.714952578618531
          },
          {
           "lower": 2.1431202120080437,
           "timepoint": 75,
           "trajectory": "Example",
           "upper": 6.80742277559022
          },
          {
           "lower": 1.5047970918270257,
           "timepoint": 76,
           "trajectory": "Example",
           "upper": 6.814638472372942
          },
          {
           "lower": 0.8536537873678609,
           "timepoint": 77,
           "trajectory": "Example",
           "upper": 6.636815758958138
          },
          {
           "lower": 0.2921919683613767,
           "timepoint": 78,
           "trajectory": "Example",
           "upper": 6.391694608834926
          },
          {
           "lower": -0.31463232440268873,
           "timepoint": 79,
           "trajectory": "Example",
           "upper": 6.202628177681505
          },
          {
           "lower": -0.7679974522580542,
           "timepoint": 80,
           "trajectory": "Example",
           "upper": 5.928453274215183
          },
          {
           "lower": -0.894963400648291,
           "timepoint": 81,
           "trajectory": "Example",
           "upper": 5.471693340926824
          },
          {
           "lower": -0.817413378728898,
           "timepoint": 82,
           "trajectory": "Example",
           "upper": 4.844027216616261
          },
          {
           "lower": -0.7372906016831888,
           "timepoint": 83,
           "trajectory": "Example",
           "upper": 4.224672791175799
          },
          {
           "lower": -0.6070456005799452,
           "timepoint": 84,
           "trajectory": "Example",
           "upper": 3.5235201812520613
          },
          {
           "lower": -0.5575879363033799,
           "timepoint": 85,
           "trajectory": "Example",
           "upper": 3.251941245624109
          },
          {
           "lower": -0.5343486756152492,
           "timepoint": 86,
           "trajectory": "Example",
           "upper": 3.4450064765235053
          },
          {
           "lower": -0.39937222885936696,
           "timepoint": 87,
           "trajectory": "Example",
           "upper": 3.7244276226171507
          },
          {
           "lower": -0.04206416664710779,
           "timepoint": 88,
           "trajectory": "Example",
           "upper": 4.252764163304426
          },
          {
           "lower": 0.22588072792970015,
           "timepoint": 89,
           "trajectory": "Example",
           "upper": 4.872160613835176
          },
          {
           "lower": 0.3968937502136231,
           "timepoint": 90,
           "trajectory": "Example",
           "upper": 5.4311964610813925
          },
          {
           "lower": 0.4643978126272163,
           "timepoint": 91,
           "trajectory": "Example",
           "upper": 6.020141517202632
          },
          {
           "lower": 0.6190512341127278,
           "timepoint": 92,
           "trajectory": "Example",
           "upper": 6.371885801804093
          },
          {
           "lower": 0.9478521335345066,
           "timepoint": 93,
           "trajectory": "Example",
           "upper": 6.746499126190457
          },
          {
           "lower": 1.4346885015345185,
           "timepoint": 94,
           "trajectory": "Example",
           "upper": 7.072064268948001
          },
          {
           "lower": 2.092182745937199,
           "timepoint": 95,
           "trajectory": "Example",
           "upper": 7.2094315538515295
          },
          {
           "lower": 2.824600266269026,
           "timepoint": 96,
           "trajectory": "Example",
           "upper": 7.402851603131013
          },
          {
           "lower": 3.425457275136368,
           "timepoint": 97,
           "trajectory": "Example",
           "upper": 7.429066084039015
          },
          {
           "lower": 3.354013505041505,
           "timepoint": 98,
           "trajectory": "Example",
           "upper": 7.269719781715176
          },
          {
           "lower": 2.777047745607934,
           "timepoint": 99,
           "trajectory": "Example",
           "upper": 6.935222153372896
          }
         ]
        },
        {
         "name": "traces",
         "transform": [
          {
           "expr": "isValid(datum.value)",
           "type": "filter"
          },
          {
           "sort": {
            "field": [
             "trajectory",
             "timepoint"
            ]
           },
           "type": "collect"
          }
         ],
         "values": [
          {
           "color_by": "Trajectory Mean",
           "sample_id": 0,
           "timepoint": 0,
           "trajectory": "Baseline_Trajectory_Mean",
           "value": 1.14772266928305
          },
          {
           "color_by": "Trajectory Mean",
           "sample_id": 0,
           "timepoint": 1,
           "trajectory": "Baseline_Trajectory_Mean",
           "value": 1.6936095773559356
          },
          {
           "color_by": "Trajectory Mean",
           "sample_id": 0,
           "timepoint": 2,
           "trajectory": "Baseline_Trajectory_Mean",
           "value": 1.3952474106652561
          },
          {
           "color_by": "Trajectory Mean",
           "sample_id": 0,
           "timepoint": 3,
           "trajectory": "Baseline_Trajectory_Mean",
           "value": 1.031171464150494
          },
          {
           "color_by": "Trajectory Mean",
           "sample_id": 0,
           "timepoint": 4,
           "trajectory": "Baseline_Trajectory_Mean",
           "value": 0.6653260370610354
          },
          {
           "color_by": "Trajectory Mean",
           "sample_id": 0,
           "timepoint": 5,
           "trajectory": "Baseline_Trajectory_Mean",
           "value": 0.33814408388687706
          },
          {
           "color_by": "Trajectory Mean",
           "sample_id": 0,
           "timepoint": 6,
           "trajectory": "Baseline_Trajectory_Mean",
           "value": 0.0805450795568711
          },
          {
           "color_by": "Trajectory Mean",
           "sample_id": 0,
           "timepoint": 7,
           "trajectory": "Baseline_Trajectory_Mean",
           "value": -0.08396424738275485
          },
          {
           "color_by": "Trajectory Mean",
           "sample_id": 0,
           "timepoint": 8,
           "trajectory": "Baseline_Trajectory_Mean",
           "value": -0.13929333881894465
          },
          {
           "color_by": "Trajectory Mean",
           "sample_id": 0,
           "timepoint": 9,
           "trajectory": "Baseline_Trajectory_Mean",
           "value": -0.07711473593123357
          },
          {
           "color_by": "Trajectory Mean",
           "sample_id": 0,
           "timepoint": 10,
           "trajectory": "Baseline_Trajectory_Mean",
           "value": 0.10295124851372334
          },
          {
           "color_by": "Trajectory Mean",
           "sample_id": 0,
           "timepoint": 11,
           "trajectory": "Baseline_Trajectory_Mean",
           "value": 0.3934964732822426
          },
          {
           "color_by": "Trajectory Mean",
           "sample_id": 0,
           "timepoint": 12,
           "trajectory": "Baseline_Trajectory_Mean",
           "value": 0.7798912130350332
          },
          {
           "color_by": "Trajectory Mean",
           "sample_id": 0,
           "timepoint": 13,
           "trajectory": "Baseline_Trajectory_Mean",
           "value": 1.2412558316287108
          },
          {
           "color_by": "Trajectory Mean",
           "sample_id": 0,
           "timepoint": 14,
           "trajectory": "Baseline_Trajectory_Mean",
           "value": 1.751795886973956
          },
          {
           "color_by": "Trajectory Mean",
           "sample_id": 0,
           "timepoint": 15,
           "trajectory": "Baseline_Trajectory_Mean",
           "value": 2.282428518787081
          },
          {
           "color_by": "Trajectory Mean",
           "sample_id": 0,
           "timepoint": 16,
           "trajectory": "Baseline_Trajectory_Mean",
           "value": 2.802605887613903
          },
          {
           "color_by": "Trajectory Mean",
           "sample_id": 0,
           "timepoint": 17,
           "trajectory": "Baseline_Trajectory_Mean",
           "value": 3.2822268494648403
          },
          {
           "color_by": "Trajectory Mean",
           "sample_id": 0,
           "timepoint": 18,
           "trajectory": "Baseline_Trajectory_Mean",
           "value": 3.693521023573056
          },
          {
           "color_by": "Trajectory Mean",
           "sample_id": 0,
           "timepoint": 19,
           "trajectory": "Baseline_Trajectory_Mean",
           "value": 4.012789991925459
          },
          {
           "color_by": "Trajectory Mean",
           "sample_id": 0,
           "timepoint": 20,
           "trajectory": "Baseline_Trajectory_Mean",
           "value": 4.221898346620736
          },
          {
           "color_by": "Trajectory Mean",
           "sample_id": 0,
           "timepoint": 21,
           "trajectory": "Baseline_Trajectory_Mean",
           "value": 4.309422104487294
          },
          {
           "color_by": "Trajectory Mean",
           "sample_id": 0,
           "timepoint": 22,
           "trajectory": "Baseline_Trajectory_Mean",
           "value": 4.271382692799822
          },
          {
           "color_by": "Trajectory Mean",
           "sample_id": 0,
           "timepoint": 23,
           "trajectory": "Baseline_Trajectory_Mean",
           "value": 4.111519988163326
          },
          {
           "color_by": "Trajectory Mean",
           "sample_id": 0,
           "timepoint": 24,
           "trajectory": "Baseline_Trajectory_Mean",
           "value": 3.8410861986986644
          },
          {
           "color_by": "Trajectory Mean",
           "sample_id": 0,
           "timepoint": 25,
           "trajectory": "Baseline_Trajectory_Mean",
           "value": 3.4781719654972174
          },
          {
           "color_by": "Trajectory Mean",
           "sample_id": 0,
           "timepoint": 26,
           "trajectory": "Baseline_Trajectory_Mean",
           "value": 3.046605086622307
          },
          {
           "color_by": "Trajectory Mean",
           "sample_id": 0,
           "timepoint": 27,
           "trajectory": "Baseline_Trajectory_Mean",
           "value": 2.574488926538877
          },
          {
           "color_by": "Trajectory Mean",
           "sample_id": 0,
           "timepoint": 28,
           "trajectory": "Baseline_Trajectory_Mean",
           "value": 2.0924701949741293
          },
          {
           "color_by": "Trajectory Mean",
           "sample_id": 0,
           "timepoint": 29,
           "trajectory": "Baseline_Trajectory_Mean",
           "value": 1.631842933470753
          },
          {
           "color_by": "Trajectory Mean",
           "sample_id": 0,
           "timepoint": 30,
           "trajectory": "Baseline_Trajectory_Mean",
           "value": 1.2226061392767686
          },
          {
           "color_by": "Trajectory Mean",
           "sample_id": 0,
           "timepoint": 31,
           "trajectory": "Baseline_Trajectory_Mean",
           "value": 0.8915957911946228
          },
          {
           "color_by": "Trajectory Mean",
           "sample_id": 0,
           "timepoint": 32,
           "trajectory": "Baseline_Trajectory_Mean",
           "value": 0.6608078752205916
          },
          {
           "color_by": "Trajectory Mean",
           "sample_id": 0,
           "timepoint": 33,
           "trajectory": "Baseline_Trajectory_Mean",
           "value": 0.5460175601738632
          },
          {
           "color_by": "Trajectory Mean",
           "sample_id": 0,
           "timepoint": 34,
           "trajectory": "Baseline_Trajectory_Mean",
           "value": 0.5557816214759698
          },
          {
           "color_by": "Trajectory Mean",
           "sample_id": 0,
           "timepoint": 35,
           "trajectory": "Baseline_Trajectory_Mean",
           "value": 0.6908876474278582
          },
          {
           "color_by": "Trajectory Mean",
           "sample_id": 0,
           "timepoint": 36,
           "trajectory": "Baseline_Trajectory_Mean",
           "value": 0.9442859299704305
          },
          {
           "color_by": "Trajectory Mean",
           "sample_id": 0,
           "timepoint": 37,
           "trajectory": "Baseline_Trajectory_Mean",
           "value": 1.3015099468055042
          },
          {
           "color_by": "Trajectory Mean",
           "sample_id": 0,
           "timepoint": 38,
           "trajectory": "Baseline_Trajectory_Mean",
           "value": 1.7415608471663253
          },
          {
           "color_by": "Trajectory Mean",
           "sample_id": 0,
           "timepoint": 39,
           "trajectory": "Baseline_Trajectory_Mean",
           "value": 2.238202264460428
          },
          {
           "color_by": "Trajectory Mean",
           "sample_id": 0,
           "timepoint": 40,
           "trajectory": "Baseline_Trajectory_Mean",
           "value": 2.761585923013108
          },
          {
           "color_by": "Trajectory Mean",
           "sample_id": 0,
           "timepoint": 41,
           "trajectory": "Baseline_Trajectory_Mean",
           "value": 3.280107518158742
          },
          {
           "color_by": "Trajectory Mean",
           "sample_id": 0,
           "timepoint": 42,
           "trajectory": "Baseline_Trajectory_Mean",
           "value": 3.762377567437437
          },
          {
           "color_by": "Trajectory Mean",
           "sample_id": 0,
           "timepoint": 43,
           "trajectory": "Baseline_Trajectory_Mean",
           "value": 4.179184311753401
          },
          {
           "color_by": "Trajectory Mean",
           "sample_id": 0,
           "timepoint": 44,
           "trajectory": "Baseline_Trajectory_Mean",
           "value": 4.5053258003338055
          },
          {
           "color_by": "Trajectory Mean",
           "sample_id": 0,
           "timepoint": 45,
           "trajectory": "Baseline_Trajectory_Mean",
           "value": 4.72119605387859
          },
          {
           "color_by": "Trajectory Mean",
           "sample_id": 0,
           "timepoint": 46,
           "trajectory": "Baseline_Trajectory_Mean",
           "value": 4.814025213702788
          },
          {
           "color_by": "Trajectory Mean",
           "sample_id": 0,
           "timepoint": 47,
           "trajectory": "Baseline_Trajectory_Mean",
           "value": 4.778694939595461
          },
          {
           "color_by": "Trajectory Mean",
           "sample_id": 0,
           "timepoint": 48,
           "trajectory": "Baseline_Trajectory_Mean",
           "value": 4.618076700458002
          },
          {
           "color_by": "Trajectory Mean",
           "sample_id": 0,
           "timepoint": 49,
           "trajectory": "Baseline_Trajectory_Mean",
           "value": 4.3428703714492265
          },
          {
           "color_by": "Trajectory Mean",
           "sample_id": 0,
           "timepoint": 50,
           "trajectory": "Baseline_Trajectory_Mean",
           "value": 3.970951849946647
          },
          {
           "color_by": "Trajectory Mean",
           "sample_id": 0,
           "timepoint": 51,
           "trajectory": "Baseline_Trajectory_Mean",
           "value": 3.5262692656938177
          },
          {
           "color_by": "Trajectory Mean",
           "sample_id": 0,
           "timepoint": 52,
           "trajectory": "Baseline_Trajectory_Mean",
           "value": 3.037355842191992
          },
          {
           "color_by": "Trajectory Mean",
           "sample_id": 0,
           "timepoint": 53,
           "trajectory": "Baseline_Trajectory_Mean",
           "value": 2.5355517625904422
          },
          {
           "color_by": "Trajectory Mean",
           "sample_id": 0,
           "timepoint": 54,
           "trajectory": "Baseline_Trajectory_Mean",
           "value": 2.0530459564790666
          },
          {
           "color_by": "Trajectory Mean",
           "sample_id": 0,
           "timepoint": 55,
           "trajectory": "Baseline_Trajectory_Mean",
           "value": 1.6208603622778126
          },
          {
           "color_by": "Trajectory Mean",
           "sample_id": 0,
           "timepoint": 56,
           "trajectory": "Baseline_Trajectory_Mean",
           "value": 1.266903174394281
          },
          {
           "color_by": "Trajectory Mean",
           "sample_id": 0,
           "timepoint": 57,
           "trajectory": "Baseline_Trajectory_Mean",
           "value": 1.0142135788990665
          },
          {
           "color_by": "Trajectory Mean",
           "sample_id": 0,
           "timepoint": 58,
           "trajectory": "Baseline_Trajectory_Mean",
           "value": 0.8795087425144391
          },
          {
           "color_by": "Trajectory Mean",
           "sample_id": 0,
           "timepoint": 59,
           "trajectory": "Baseline_Trajectory_Mean",
           "value": 0.8721250637786008
          },
          {
           "color_by": "Trajectory Mean",
           "sample_id": 0,
           "timepoint": 60,
           "trajectory": "Baseline_Trajectory_Mean",
           "value": 0.9934210855819768
          },
          {
           "color_by": "Trajectory Mean",
           "sample_id": 0,
           "timepoint": 61,
           "trajectory": "Baseline_Trajectory_Mean",
           "value": 1.2366805427161647
          },
          {
           "color_by": "Trajectory Mean",
           "sample_id": 0,
           "timepoint": 62,
           "trajectory": "Baseline_Trajectory_Mean",
           "value": 1.587522592827177
          },
          {
           "color_by": "Trajectory Mean",
           "sample_id": 0,
           "timepoint": 63,
           "trajectory": "Baseline_Trajectory_Mean",
           "value": 2.0247943344259434
          },
          {
           "color_by": "Trajectory Mean",
           "sample_id": 0,
           "timepoint": 64,
           "trajectory": "Baseline_Trajectory_Mean",
           "value": 2.5218902703599904
          },
          {
           "color_by": "Trajectory Mean",
           "sample_id": 0,
           "timepoint": 65,
           "trajectory": "Baseline_Trajectory_Mean",
           "value": 3.048416358988133
          },
          {
           "color_by": "Trajectory Mean",
           "sample_id": 0,
           "timepoint": 66,
           "trajectory": "Baseline_Trajectory_Mean",
           "value": 3.572094425534349
          },
          {
           "color_by": "Trajectory Mean",
           "sample_id": 0,
           "timepoint": 67,
           "trajectory": "Baseline_Trajectory_Mean",
           "value": 4.06078737797218
          },
          {
           "color_by": "Trajectory Mean",
           "sample_id": 0,
           "timepoint": 68,
           "trajectory": "Baseline_Trajectory_Mean",
           "value": 4.484517868903252
          },
          {
           "color_by": "Trajectory Mean",
           "sample_id": 0,
           "timepoint": 69,
           "trajectory": "Baseline_Trajectory_Mean",
           "value": 4.8173532755985615
          },
          {
           "color_by": "Trajectory Mean",
           "sample_id": 0,
           "timepoint": 70,
           "trajectory": "Baseline_Trajectory_Mean",
           "value": 5.039038134330417
          },
          {
           "color_by": "Trajectory Mean",
           "sample_id": 0,
           "timepoint": 71,
           "trajectory": "Baseline_Trajectory_Mean",
           "value": 5.136270952216042
          },
          {
           "color_by": "Trajectory Mean",
           "sample_id": 0,
           "timepoint": 72,
           "trajectory": "Baseline_Trajectory_Mean",
           "value": 5.103544641551467
          },
          {
           "color_by": "Trajectory Mean",
           "sample_id": 0,
           "timepoint": 73,
           "trajectory": "Baseline_Trajectory_Mean",
           "value": 4.943497273240625
          },
          {
           "color_by": "Trajectory Mean",
           "sample_id": 0,
           "timepoint": 74,
           "trajectory": "Baseline_Trajectory_Mean",
           "value": 4.666750695004045
          },
          {
           "color_by": "Trajectory Mean",
           "sample_id": 0,
           "timepoint": 75,
           "trajectory": "Baseline_Trajectory_Mean",
           "value": 4.29124685631803
          },
          {
           "color_by": "Trajectory Mean",
           "sample_id": 0,
           "timepoint": 76,
           "trajectory": "Baseline_Trajectory_Mean",
           "value": 3.8411233812093624
          },
          {
           "color_by": "Trajectory Mean",
           "sample_id": 0,
           "timepoint": 77,
           "trajectory": "Baseline_Trajectory_Mean",
           "value": 3.3451990238230485
          },
          {
           "color_by": "Trajectory Mean",
           "sample_id": 0,
           "timepoint": 78,
           "trajectory": "Baseline_Trajectory_Mean",
           "value": 2.8351642856413566
          },
          {
           "color_by": "Trajectory Mean",
           "sample_id": 0,
           "timepoint": 79,
           "trajectory": "Baseline_Trajectory_Mean",
           "value": 2.3435911042637168
          },
          {
           "color_by": "Trajectory Mean",
           "sample_id": 0,
           "timepoint": 80,
           "trajectory": "Baseline_Trajectory_Mean",
           "value": 1.9018869596522583
          },
          {
           "color_by": "Trajectory Mean",
           "sample_id": 0,
           "timepoint": 81,
           "trajectory": "Baseline_Trajectory_Mean",
           "value": 1.538322258970228
          },
          {
           "color_by": "Trajectory Mean",
           "sample_id": 0,
           "timepoint": 82,
           "trajectory": "Baseline_Trajectory_Mean",
           "value": 1.2762552325031424
          },
          {
           "color_by": "Trajectory Mean",
           "sample_id": 0,
           "timepoint": 83,
           "trajectory": "Baseline_Trajectory_Mean",
           "value": 1.1326660944316997
          },
          {
           "color_by": "Trajectory Mean",
           "sample_id": 0,
           "timepoint": 84,
           "trajectory": "Baseline_Trajectory_Mean",
           "value": 1.1170926852986
          },
          {
           "color_by": "Trajectory Mean",
           "sample_id": 0,
           "timepoint": 85,
           "trajectory": "Baseline_Trajectory_Mean",
           "value": 1.2310344573263574
          },
          {
           "color_by": "Trajectory Mean",
           "sample_id": 0,
           "timepoint": 86,
           "trajectory": "Baseline_Trajectory_Mean",
           "value": 1.4678620972661072
          },
          {
           "color_by": "Trajectory Mean",
           "sample_id": 0,
           "timepoint": 87,
           "trajectory": "Baseline_Trajectory_Mean",
           "value": 1.8132381781749194
          },
          {
           "color_by": "Trajectory Mean",
           "sample_id": 0,
           "timepoint": 88,
           "trajectory": "Baseline_Trajectory_Mean",
           "value": 2.2460220120692607
          },
          {
           "color_by": "Trajectory Mean",
           "sample_id": 0,
           "timepoint": 89,
           "trajectory": "Baseline_Trajectory_Mean",
           "value": 2.739601378485379
          },
          {
           "color_by": "Trajectory Mean",
           "sample_id": 0,
           "timepoint": 90,
           "trajectory": "Baseline_Trajectory_Mean",
           "value": 3.2635669567780345
          },
          {
           "color_by": "Trajectory Mean",
           "sample_id": 0,
           "timepoint": 91,
           "trajectory": "Baseline_Trajectory_Mean",
           "value": 3.785623785889443
          },
          {
           "color_by": "Trajectory Mean",
           "sample_id": 0,
           "timepoint": 92,
           "trajectory": "Baseline_Trajectory_Mean",
           "value": 4.2736192667064
          },
          {
           "color_by": "Trajectory Mean",
           "sample_id": 0,
           "timepoint": 93,
           "trajectory": "Baseline_Trajectory_Mean",
           "value": 4.697560035096523
          },
          {
           "color_by": "Trajectory Mean",
           "sample_id": 0,
           "timepoint": 94,
           "trajectory": "Baseline_Trajectory_Mean",
           "value": 5.0314909101079115
          },
          {
           "color_by": "Trajectory Mean",
           "sample_id": 0,
           "timepoint": 95,
           "trajectory": "Baseline_Trajectory_Mean",
           "value": 5.255117992151538
          },
          {
           "color_by": "Trajectory Mean",
           "sample_id": 0,
           "timepoint": 96,
           "trajectory": "Baseline_Trajectory_Mean",
           "value": 5.3550742750119396
          },
          {
           "color_by": "Trajectory Mean",
           "sample_id": 0,
           "timepoint": 97,
           "trajectory": "Baseline_Trajectory_Mean",
           "value": 5.325748799908092
          },
          {
           "color_by": "Trajectory Mean",
           "sample_id": 0,
           "timepoint": 98,
           "trajectory": "Baseline_Trajectory_Mean",
           "value": 5.169627975444844
          },
          {
           "color_by": "Trajectory Mean",
           "sample_id": 0,
           "timepoint": 99,
           "trajectory": "Baseline_Trajectory_Mean",
           "value": 4.897128461864985
          },
          {
           "color_by": "Chaos",
           "sample_id": 0,
           "timepoint": 0,
           "trajectory": "Chaos",
           "value": 2.6875961155375587
          },
          {
           "color_by": "Chaos",
           "sample_id": 0,
           "timepoint": 1,
           "trajectory": "Chaos",
           "value": 4.107551114756208
          },
          {
           "color_by": "Chaos",
           "sample_id": 0,
           "timepoint": 2,
           "trajectory": "Chaos",
           "value": 4.5505041615096085
          },
          {
           "color_by": "Chaos",
           "sample_id": 0,
           "timepoint": 3,
           "trajectory": "Chaos",
           "value": 4.749131230704282
          },
          {
           "color_by": "Chaos",
           "sample_id": 0,
           "timepoint": 4,
           "trajectory": "Chaos",
           "value": 4.7325834909807405
          },
          {
           "color_by": "Chaos",
           "sample_id": 0,
           "timepoint": 5,
           "trajectory": "Chaos",
           "value": 4.519714660455802
          },
          {
           "color_by": "Chaos",
           "sample_id": 0,
           "timepoint": 6,
           "trajectory": "Chaos",
           "value": 4.13440939751043
          },
          {
           "color_by": "Chaos",
           "sample_id": 0,
           "timepoint": 7,
           "trajectory": "Chaos",
           "value": 3.6081155541801113
          },
          {
           "color_by": "Chaos",
           "sample_id": 0,
           "timepoint": 8,
           "trajectory": "Chaos",
           "value": 2.979346910578875
          },
          {
           "color_by": "Chaos",
           "sample_id": 0,
           "timepoint": 9,
           "trajectory": "Chaos",
           "value": 2.2919477568
          },
          {
           "color_by": "Chaos",
           "sample_id": 0,
           "timepoint": 10,
           "trajectory": "Chaos",
           "value": 1.5927109576116791
          },
          {
           "color_by": "Chaos",
           "sample_id": 0,
           "timepoint": 11,
           "trajectory": "Chaos",
           "value": 0.928667590006339
          },
          {
           "color_by": "Chaos",
           "sample_id": 0,
           "timepoint": 12,
           "trajectory": "Chaos",
           "value": 0.34428705980757707
          },
          {
           "color_by": "Chaos",
           "sample_id": 0,
           "timepoint": 13,
           "trajectory": "Chaos",
           "value": -0.12120538437382172
          },
          {
           "color_by": "Chaos",
           "sample_id": 0,
           "timepoint": 14,
           "trajectory": "Chaos",
           "value": -0.4362101753465236
          },
          {
           "color_by": "Chaos",
           "sample_id": 0,
           "timepoint": 15,
           "trajectory": "Chaos",
           "value": -0.5786766980454066
          },
          {
           "color_by": "Chaos",
           "sample_id": 0,
           "timepoint": 16,
           "trajectory": "Chaos",
           "value": -0.5374433530734992
          },
          {
           "color_by": "Chaos",
           "sample_id": 0,
           "timepoint": 17,
           "trajectory": "Chaos",
           "value": -0.3129078045119343
          },
          {
           "color_by": "Chaos",
           "sample_id": 0,
           "timepoint": 18,
           "trajectory": "Chaos",
           "value": 0.08301636008652097
          },
          {
           "color_by": "Chaos",
           "sample_id": 0,
           "timepoint": 19,
           "trajectory": "Chaos",
           "value": 0.6276552508389932
          },
          {
           "color_by": "Chaos",
           "sample_id": 0,
           "timepoint": 20,
           "trajectory": "Chaos",
           "value": 1.288996543235552
          },
          {
           "color_by": "Chaos",
           "sample_id": 0,
           "timepoint": 21,
           "trajectory": "Chaos",
           "value": 2.0276898502235197
          },
          {
           "color_by": "Chaos",
           "sample_id": 0,
           "timepoint": 22,
           "trajectory": "Chaos",
           "value": 2.7995017003409375
          },
          {
           "color_by": "Chaos",
           "sample_id": 0,
           "timepoint": 23,
           "trajectory": "Chaos",
           "value": 3.5580728310771157
          },
          {
           "color_by": "Chaos",
           "sample_id": 0,
           "timepoint": 24,
           "trajectory": "Chaos",
           "value": 4.257806621732616
          },
          {
           "color_by": "Chaos",
           "sample_id": 0,
           "timepoint": 25,
           "trajectory": "Chaos",
           "value": 4.8567092737421005
          },
          {
           "color_by": "Chaos",
           "sample_id": 0,
           "timepoint": 26,
           "trajectory": "Chaos",
           "value": 5.319005301243718
          },
          {
           "color_by": "Chaos",
           "sample_id": 0,
           "timepoint": 27,
           "trajectory": "Chaos",
           "value": 5.617365831525659
          },
          {
           "color_by": "Chaos",
           "sample_id": 0,
           "timepoint": 28,
           "trajectory": "Chaos",
           "value": 5.734611263764254
          },
          {
           "color_by": "Chaos",
           "sample_id": 0,
           "timepoint": 29,
           "trajectory": "Chaos",
           "value": 5.664782497545213
          },
          {
           "color_by": "Chaos",
           "sample_id": 0,
           "timepoint": 30,
           "trajectory": "Chaos",
           "value": 5.413514187544271
          },
          {
           "color_by": "Chaos",
           "sample_id": 0,
           "timepoint": 31,
           "trajectory": "Chaos",
           "value": 4.997686866222588
          },
          {
           "color_by": "Chaos",
           "sample_id": 0,
           "timepoint": 32,
           "trajectory": "Chaos",
           "value": 4.444379604145962
          },
          {
           "color_by": "Chaos",
           "sample_id": 0,
           "timepoint": 33,
           "trajectory": "Chaos",
           "value": 3.789188359802412
          },
          {
           "color_by": "Chaos",
           "sample_id": 0,
           "timepoint": 34,
           "trajectory": "Chaos",
           "value": 3.074014603622031
          },
          {
           "color_by": "Chaos",
           "sample_id": 0,
           "timepoint": 35,
           "trajectory": "Chaos",
           "value": 2.344461732236248
          },
          {
           "color_by": "Chaos",
           "sample_id": 0,
           "timepoint": 36,
           "trajectory": "Chaos",
           "value": 1.6470011711024357
          },
          {
           "color_by": "Chaos",
           "sample_id": 0,
           "timepoint": 37,
           "trajectory": "Chaos",
           "value": 1.0260843803249358
          },
          {
           "color_by": "Chaos",
           "sample_id": 0,
           "timepoint": 38,
           "trajectory": "Chaos",
           "value": 0.5213803395451995
          },
          {
           "color_by": "Chaos",
           "sample_id": 0,
           "timepoint": 39,
           "trajectory": "Chaos",
           "value": 0.16531028407377385
          },
          {
           "color_by": "Chaos",
           "sample_id": 0,
           "timepoint": 40,
           "trajectory": "Chaos",
           "value": -0.018967018889925857
          },
          {
           "color_by": "Chaos",
           "sample_id": 0,
           "timepoint": 41,
           "trajectory": "Chaos",
           "value": -0.018994178917401794
          },
          {
           "color_by": "Chaos",
           "sample_id": 0,
           "timepoint": 42,
           "trajectory": "Chaos",
           "value": 0.166211196555426
          },
          {
           "color_by": "Chaos",
           "sample_id": 0,
           "timepoint": 43,
           "trajectory": "Chaos",
           "value": 0.5260962757783123
          },
          {
           "color_by": "Chaos",
           "sample_id": 0,
           "timepoint": 44,
           "trajectory": "Chaos",
           "value": 1.0392299216738936
          },
          {
           "color_by": "Chaos",
           "sample_id": 0,
           "timepoint": 45,
           "trajectory": "Chaos",
           "value": 1.674635917689854
          },
          {
           "color_by": "Chaos",
           "sample_id": 0,
           "timepoint": 46,
           "trajectory": "Chaos",
           "value": 2.3937196118264934
          },
          {
           "color_by": "Chaos",
           "sample_id": 0,
           "timepoint": 47,
           "trajectory": "Chaos",
           "value": 3.152668193736856
          },
          {
           "color_by": "Chaos",
           "sample_id": 0,
           "timepoint": 48,
           "trajectory": "Chaos",
           "value": 3.9051753711139154
          },
          {
           "color_by": "Chaos",
           "sample_id": 0,
           "timepoint": 49,
           "trajectory": "Chaos",
           "value": 4.605321041592481
          },
          {
           "color_by": "Chaos",
           "sample_id": 0,
           "timepoint": 50,
           "trajectory": "Chaos",
           "value": 5.210426919165214
          },
          {
           "color_by": "Chaos",
           "sample_id": 0,
           "timepoint": 51,
           "trajectory": "Chaos",
           "value": 5.683710568830892
          },
          {
           "color_by": "Chaos",
           "sample_id": 0,
           "timepoint": 52,
           "trajectory": "Chaos",
           "value": 5.996572836917908
          },
          {
           "color_by": "Chaos",
           "sample_id": 0,
           "timepoint": 53,
           "trajectory": "Chaos",
           "value": 6.130376457965433
          },
          {
           "color_by": "Chaos",
           "sample_id": 0,
           "timepoint": 54,
           "trajectory": "Chaos",
           "value": 6.077605255008193
          },
          {
           "color_by": "Chaos",
           "sample_id": 0,
           "timepoint": 55,
           "trajectory": "Chaos",
           "value": 5.842331861623922
          },
          {
           "color_by": "Chaos",
           "sample_id": 0,
           "timepoint": 56,
           "trajectory": "Chaos",
           "value": 5.439964886702347
          },
          {
           "color_by": "Chaos",
           "sample_id": 0,
           "timepoint": 57,
           "trajectory": "Chaos",
           "value": 4.896291243506879
          },
          {
           "color_by": "Chaos",
           "sample_id": 0,
           "timepoint": 58,
           "trajectory": "Chaos",
           "value": 4.2458731877374465
          },
          {
           "color_by": "Chaos",
           "sample_id": 0,
           "timepoint": 59,
           "trajectory": "Chaos",
           "value": 3.529899730252715
          },
          {
           "color_by": "Chaos",
           "sample_id": 0,
           "timepoint": 60,
           "trajectory": "Chaos",
           "value": 2.793626014344245
          },
          {
           "color_by": "Chaos",
           "sample_id": 0,
           "timepoint": 61,
           "trajectory": "Chaos",
           "value": 2.0835598657278465
          },
          {
           "color_by": "Chaos",
           "sample_id": 0,
           "timepoint": 62,
           "trajectory": "Chaos",
           "value": 1.4445704429070871
          },
          {
           "color_by": "Chaos",
           "sample_id": 0,
           "timepoint": 63,
           "trajectory": "Chaos",
           "value": 0.9170987589077871
          },
          {
           "color_by": "Chaos",
           "sample_id": 0,
           "timepoint": 64,
           "trajectory": "Chaos",
           "value": 0.5346435114437005
          },
          {
           "color_by": "Chaos",
           "sample_id": 0,
           "timepoint": 65,
           "trajectory": "Chaos",
           "value": 0.3216785411652754
          },
          {
           "color_by": "Chaos",
           "sample_id": 0,
           "timepoint": 66,
           "trajectory": "Chaos",
           "value": 0.2921314010421729
          },
          {
           "color_by": "Chaos",
           "sample_id": 0,
           "timepoint": 67,
           "trajectory": "Chaos",
           "value": 0.44851763270536454
          },
          {
           "color_by": "Chaos",
           "sample_id": 0,
           "timepoint": 68,
           "trajectory": "Chaos",
           "value": 0.7817845768442118
          },
          {
           "color_by": "Chaos",
           "sample_id": 0,
           "timepoint": 69,
           "trajectory": "Chaos",
           "value": 1.2718744293196635
          },
          {
           "color_by": "Chaos",
           "sample_id": 0,
           "timepoint": 70,
           "trajectory": "Chaos",
           "value": 1.88897153540019
          },
          {
           "color_by": "Chaos",
           "sample_id": 0,
           "timepoint": 71,
           "trajectory": "Chaos",
           "value": 2.5953563718785606
          },
          {
           "color_by": "Chaos",
           "sample_id": 0,
           "timepoint": 72,
           "trajectory": "Chaos",
           "value": 3.347750945880561
          },
          {
           "color_by": "Chaos",
           "sample_id": 0,
           "timepoint": 73,
           "trajectory": "Chaos",
           "value": 4.100009785236709
          },
          {
           "color_by": "Chaos",
           "sample_id": 0,
           "timepoint": 74,
           "trajectory": "Chaos",
           "value": 4.80598920805075
          },
          {
           "color_by": "Chaos",
           "sample_id": 0,
           "timepoint": 75,
           "trajectory": "Chaos",
           "value": 5.422416474536205
          },
          {
           "color_by": "Chaos",
           "sample_id": 0,
           "timepoint": 76,
           "trajectory": "Chaos",
           "value": 5.911580431488793
          },
          {
           "color_by": "Chaos",
           "sample_id": 0,
           "timepoint": 77,
           "trajectory": "Chaos",
           "value": 6.243676358464264
          },
          {
           "color_by": "Chaos",
           "sample_id": 0,
           "timepoint": 78,
           "trajectory": "Chaos",
           "value": 6.398659224774369
          },
          {
           "color_by": "Chaos",
           "sample_id": 0,
           "timepoint": 79,
           "trajectory": "Chaos",
           "value": 6.367490131029622
          },
          {
           "color_by": "Chaos",
           "sample_id": 0,
           "timepoint": 80,
           "trajectory": "Chaos",
           "value": 6.152698437786371
          },
          {
           "color_by": "Chaos",
           "sample_id": 0,
           "timepoint": 81,
           "trajectory": "Chaos",
           "value": 5.768224631101385
          },
          {
           "color_by": "Chaos",
           "sample_id": 0,
           "timepoint": 82,
           "trajectory": "Chaos",
           "value": 5.238553695077979
          },
          {
           "color_by": "Chaos",
           "sample_id": 0,
           "timepoint": 83,
           "trajectory": "Chaos",
           "value": 4.597192874313104
          },
          {
           "color_by": "Chaos",
           "sample_id": 0,
           "timepoint": 84,
           "trajectory": "Chaos",
           "value": 3.8845884718028834
          },
          {
           "color_by": "Chaos",
           "sample_id": 0,
           "timepoint": 85,
           "trajectory": "Chaos",
           "value": 3.145611205910557
          },
          {
           "color_by": "Chaos",
           "sample_id": 0,
           "timepoint": 86,
           "trajectory": "Chaos",
           "value": 2.4267664748979154
          },
          {
           "color_by": "Chaos",
           "sample_id": 0,
           "timepoint": 87,
           "trajectory": "Chaos",
           "value": 1.773302981426465
          },
          {
           "color_by": "Chaos",
           "sample_id": 0,
           "timepoint": 88,
           "trajectory": "Chaos",
           "value": 1.2263994889100196
          },
          {
           "color_by": "Chaos",
           "sample_id": 0,
           "timepoint": 89,
           "trajectory": "Chaos",
           "value": 0.8206046237315421
          },
          {
           "color_by": "Chaos",
           "sample_id": 0,
           "timepoint": 90,
           "trajectory": "Chaos",
           "value": 0.5816889041626594
          },
          {
           "color_by": "Chaos",
           "sample_id": 0,
           "timepoint": 91,
           "trajectory": "Chaos",
           "value": 0.525042546556876
          },
          {
           "color_by": "Chaos",
           "sample_id": 0,
           "timepoint": 92,
           "trajectory": "Chaos",
           "value": 0.6547186655929156
          },
          {
           "color_by": "Chaos",
           "sample_id": 0,
           "timepoint": 93,
           "trajectory": "Chaos",
           "value": 0.9631813578618236
          },
          {
           "color_by": "Chaos",
           "sample_id": 0,
           "timepoint": 94,
           "trajectory": "Chaos",
           "value": 1.431774331852968
          },
          {
           "color_by": "Chaos",
           "sample_id": 0,
           "timepoint": 95,
           "trajectory": "Chaos",
           "value": 2.0318809473030273
          },
          {
           "color_by": "Chaos",
           "sample_id": 0,
           "timepoint": 96,
           "trajectory": "Chaos",
           "value": 2.726703538381175
          },
          {
           "color_by": "Chaos",
           "sample_id": 0,
           "timepoint": 97,
           "trajectory": "Chaos",
           "value": 3.4735513911090496
          },
          {
           "color_by": "Chaos",
           "sample_id": 0,
           "timepoint": 98,
           "trajectory": "Chaos",
           "value": 4.226495119752536
          },
          {
           "color_by": "Chaos",
           "sample_id": 0,
           "timepoint": 99,
           "trajectory": "Chaos",
           "value": 4.93922240600444
          },
          {
           "color_by": "Mean",
           "sample_id": 0,
           "timepoint": 0,
           "trajectory": "Mean",
           "value": 1.7772822938296706
          },
          {
           "color_by": "Mean",
           "sample_id": 0,
           "timepoint": 1,
           "trajectory": "Mean",
           "value": 2.0968028096348603
          },
          {
           "color_by": "Mean",
           "sample_id": 0,
           "timepoint": 2,
           "trajectory": "Mean",
           "value": 1.5498206339688982
          },
          {
           "color_by": "Mean",
           "sample_id": 0,
           "timepoint": 3,
           "trajectory": "Mean",
           "value": 0.9305611191950081
          },
          {
           "color_by": "Mean",
           "sample_id": 0,
           "timepoint": 4,
           "trajectory": "Mean",
           "value": 0.31902766037557634
          },
          {
           "color_by": "Mean",
           "sample_id": 0,
           "timepoint": 5,
           "trajectory": "Mean",
           "value": -0.22893269412569756
          },
          {
           "color_by": "Mean",
           "sample_id": 0,
           "timepoint": 6,
           "trajectory": "Mean",
           "value": -0.6686009179564218
          },
          {
           "color_by": "Mean",
           "sample_id": 0,
           "timepoint": 7,
           "trajectory": "Mean",
           "value": -0.9651491334759783
          },
          {
           "color_by": "Mean",
           "sample_id": 0,
           "timepoint": 8,
           "trajectory": "Mean",
           "value": -1.0943480309527511
          },
          {
           "color_by": "Mean",
           "sample_id": 0,
           "timepoint": 9,
           "trajectory": "Mean",
           "value": -1.0434141474807321
          },
          {
           "color_by": "Mean",
           "sample_id": 0,
           "timepoint": 10,
           "trajectory": "Mean",
           "value": -0.8114605904900396
          },
          {
           "color_by": "Mean",
           "sample_id": 0,
           "timepoint": 11,
           "trajectory": "Mean",
           "value": -0.4093531891882614
          },
          {
           "color_by": "Mean",
           "sample_id": 0,
           "timepoint": 12,
           "trajectory": "Mean",
           "value": 0.14108937125488635
          },
          {
           "color_by": "Mean",
           "sample_id": 0,
           "timepoint": 13,
           "trajectory": "Mean",
           "value": 0.808534536100393
          },
          {
           "color_by": "Mean",
           "sample_id": 0,
           "timepoint": 14,
           "trajectory": "Mean",
           "value": 1.5541412993044337
          },
          {
           "color_by": "Mean",
           "sample_id": 0,
           "timepoint": 15,
           "trajectory": "Mean",
           "value": 2.334016586482002
          },
          {
           "color_by": "Mean",
           "sample_id": 0,
           "timepoint": 16,
           "trajectory": "Mean",
           "value": 3.1019752505819103
          },
          {
           "color_by": "Mean",
           "sample_id": 0,
           "timepoint": 17,
           "trajectory": "Mean",
           "value": 3.812435367016529
          },
          {
           "color_by": "Mean",
           "sample_id": 0,
           "timepoint": 18,
           "trajectory": "Mean",
           "value": 4.423270912140141
          },
          {
           "color_by": "Mean",
           "sample_id": 0,
           "timepoint": 19,
           "trajectory": "Mean",
           "value": 4.898445847335175
          },
          {
           "color_by": "Mean",
           "sample_id": 0,
           "timepoint": 20,
           "trajectory": "Mean",
           "value": 5.210266780405062
          },
          {
           "color_by": "Mean",
           "sample_id": 0,
           "timepoint": 21,
           "trajectory": "Mean",
           "value": 5.341114807365706
          },
          {
           "color_by": "Mean",
           "sample_id": 0,
           "timepoint": 22,
           "trajectory": "Mean",
           "value": 5.284549332216476
          },
          {
           "color_by": "Mean",
           "sample_id": 0,
           "timepoint": 23,
           "trajectory": "Mean",
           "value": 5.0457155823513915
          },
          {
           "color_by": "Mean",
           "sample_id": 0,
           "timepoint": 24,
           "trajectory": "Mean",
           "value": 4.641030741694766
          },
          {
           "color_by": "Mean",
           "sample_id": 0,
           "timepoint": 25,
           "trajectory": "Mean",
           "value": 4.09716841301154
          },
          {
           "color_by": "Mean",
           "sample_id": 0,
           "timepoint": 26,
           "trajectory": "Mean",
           "value": 3.4494047020470973
          },
          {
           "color_by": "Mean",
           "sample_id": 0,
           "timepoint": 27,
           "trajectory": "Mean",
           "value": 2.7394288741404793
          },
          {
           "color_by": "Mean",
           "sample_id": 0,
           "timepoint": 28,
           "trajectory": "Mean",
           "value": 2.0127547994223955
          },
          {
           "color_by": "Mean",
           "sample_id": 0,
           "timepoint": 29,
           "trajectory": "Mean",
           "value": 1.3158942049634128
          },
          {
           "color_by": "Mean",
           "sample_id": 0,
           "timepoint": 30,
           "trajectory": "Mean",
           "value": 0.6934675475399266
          },
          {
           "color_by": "Mean",
           "sample_id": 0,
           "timepoint": 31,
           "trajectory": "Mean",
           "value": 0.18543218797958322
          },
          {
           "color_by": "Mean",
           "sample_id": 0,
           "timepoint": 32,
           "trajectory": "Mean",
           "value": -0.1753997539365127
          },
          {
           "color_by": "Mean",
           "sample_id": 0,
           "timepoint": 33,
           "trajectory": "Mean",
           "value": -0.3653995028888602
          },
          {
           "color_by": "Mean",
           "sample_id": 0,
           "timepoint": 34,
           "trajectory": "Mean",
           "value": -0.37158894251239954
          },
          {
           "color_by": "Mean",
           "sample_id": 0,
           "timepoint": 35,
           "trajectory": "Mean",
           "value": -0.1924458870694739
          },
          {
           "color_by": "Mean",
           "sample_id": 0,
           "timepoint": 36,
           "trajectory": "Mean",
           "value": 0.1620027773642791
          },
          {
           "color_by": "Mean",
           "sample_id": 0,
           "timepoint": 37,
           "trajectory": "Mean",
           "value": 0.6708058900869476
          },
          {
           "color_by": "Mean",
           "sample_id": 0,
           "timepoint": 38,
           "trajectory": "Mean",
           "value": 1.3033919188497742
          },
          {
           "color_by": "Mean",
           "sample_id": 0,
           "timepoint": 39,
           "trajectory": "Mean",
           "value": 2.021470910814084
          },
          {
           "color_by": "Mean",
           "sample_id": 0,
           "timepoint": 40,
           "trajectory": "Mean",
           "value": 2.781416247966103
          },
          {
           "color_by": "Mean",
           "sample_id": 0,
           "timepoint": 41,
           "trajectory": "Mean",
           "value": 3.536978130239971
          },
          {
           "color_by": "Mean",
           "sample_id": 0,
           "timepoint": 42,
           "trajectory": "Mean",
           "value": 4.242160083185524
          },
          {
           "color_by": "Mean",
           "sample_id": 0,
           "timepoint": 43,
           "trajectory": "Mean",
           "value": 4.854079649930889
          },
          {
           "color_by": "Mean",
           "sample_id": 0,
           "timepoint": 44,
           "trajectory": "Mean",
           "value": 5.335635409673756
          },
          {
           "color_by": "Mean",
           "sample_id": 0,
           "timepoint": 45,
           "trajectory": "Mean",
           "value": 5.657814505877779
          },
          {
           "color_by": "Mean",
           "sample_id": 0,
           "timepoint": 46,
           "trajectory": "Mean",
           "value": 5.80149721808373
          },
          {
           "color_by": "Mean",
           "sample_id": 0,
           "timepoint": 47,
           "trajectory": "Mean",
           "value": 5.758646382091738
          },
          {
           "color_by": "Mean",
           "sample_id": 0,
           "timepoint": 48,
           "trajectory": "Mean",
           "value": 5.532807709947572
          },
          {
           "color_by": "Mean",
           "sample_id": 0,
           "timepoint": 49,
           "trajectory": "Mean",
           "value": 5.138889905668156
          },
          {
           "color_by": "Mean",
           "sample_id": 0,
           "timepoint": 50,
           "trajectory": "Mean",
           "value": 4.602238251096278
          },
          {
           "color_by": "Mean",
           "sample_id": 0,
           "timepoint": 51,
           "trajectory": "Mean",
           "value": 3.9570592645667273
          },
          {
           "color_by": "Mean",
           "sample_id": 0,
           "timepoint": 52,
           "trajectory": "Mean",
           "value": 3.2442943819407737
          },
          {
           "color_by": "Mean",
           "sample_id": 0,
           "timepoint": 53,
           "trajectory": "Mean",
           "value": 2.509074866444543
          },
          {
           "color_by": "Mean",
           "sample_id": 0,
           "timepoint": 54,
           "trajectory": "Mean",
           "value": 1.7979161906978924
          },
          {
           "color_by": "Mean",
           "sample_id": 0,
           "timepoint": 55,
           "trajectory": "Mean",
           "value": 1.155826332488698
          },
          {
           "color_by": "Mean",
           "sample_id": 0,
           "timepoint": 56,
           "trajectory": "Mean",
           "value": 0.6235077781059719
          },
          {
           "color_by": "Mean",
           "sample_id": 0,
           "timepoint": 57,
           "trajectory": "Mean",
           "value": 0.23482720061377566
          },
          {
           "color_by": "Mean",
           "sample_id": 0,
           "timepoint": 58,
           "trajectory": "Mean",
           "value": 0.014710137583321792
          },
          {
           "color_by": "Mean",
           "sample_id": 0,
           "timepoint": 59,
           "trajectory": "Mean",
           "value": -0.022408431726244793
          },
          {
           "color_by": "Mean",
           "sample_id": 0,
           "timepoint": 60,
           "trajectory": "Mean",
           "value": 0.12651872701012284
          },
          {
           "color_by": "Mean",
           "sample_id": 0,
           "timepoint": 61,
           "trajectory": "Mean",
           "value": 0.4529619365235799
          },
          {
           "color_by": "Mean",
           "sample_id": 0,
           "timepoint": 62,
           "trajectory": "Mean",
           "value": 0.9373452236806716
          },
          {
           "color_by": "Mean",
           "sample_id": 0,
           "timepoint": 63,
           "trajectory": "Mean",
           "value": 1.550263727368096
          },
          {
           "color_by": "Mean",
           "sample_id": 0,
           "timepoint": 64,
           "trajectory": "Mean",
           "value": 2.2543122068193586
          },
          {
           "color_by": "Mean",
           "sample_id": 0,
           "timepoint": 65,
           "trajectory": "Mean",
           "value": 3.006410963340594
          },
          {
           "color_by": "Mean",
           "sample_id": 0,
           "timepoint": 66,
           "trajectory": "Mean",
           "value": 3.760484561579261
          },
          {
           "color_by": "Mean",
           "sample_id": 0,
           "timepoint": 67,
           "trajectory": "Mean",
           "value": 4.470326801060363
          },
          {
           "color_by": "Mean",
           "sample_id": 0,
           "timepoint": 68,
           "trajectory": "Mean",
           "value": 5.092473808527755
          },
          {
           "color_by": "Mean",
           "sample_id": 0,
           "timepoint": 69,
           "trajectory": "Mean",
           "value": 5.588906616672465
          },
          {
           "color_by": "Mean",
           "sample_id": 0,
           "timepoint": 70,
           "trajectory": "Mean",
           "value": 5.929415196501056
          },
          {
           "color_by": "Mean",
           "sample_id": 0,
           "timepoint": 71,
           "trajectory": "Mean",
           "value": 6.093476959733888
          },
          {
           "color_by": "Mean",
           "sample_id": 0,
           "timepoint": 72,
           "trajectory": "Mean",
           "value": 6.071532935492032
          },
          {
           "color_by": "Mean",
           "sample_id": 0,
           "timepoint": 73,
           "trajectory": "Mean",
           "value": 5.865582275196759
          },
          {
           "color_by": "Mean",
           "sample_id": 0,
           "timepoint": 74,
           "trajectory": "Mean",
           "value": 5.489058122627849
          },
          {
           "color_by": "Mean",
           "sample_id": 0,
           "timepoint": 75,
           "trajectory": "Mean",
           "value": 4.965992567295272
          },
          {
           "color_by": "Mean",
           "sample_id": 0,
           "timepoint": 76,
           "trajectory": "Mean",
           "value": 4.329522600611598
          },
          {
           "color_by": "Mean",
           "sample_id": 0,
           "timepoint": 77,
           "trajectory": "Mean",
           "value": 3.6198299675849714
          },
          {
           "color_by": "Mean",
           "sample_id": 0,
           "timepoint": 78,
           "trajectory": "Mean",
           "value": 2.8816430043671826
          },
          {
           "color_by": "Mean",
           "sample_id": 0,
           "timepoint": 79,
           "trajectory": "Mean",
           "value": 2.1614557855710226
          },
          {
           "color_by": "Mean",
           "sample_id": 0,
           "timepoint": 80,
           "trajectory": "Mean",
           "value": 1.5046374815634815
          },
          {
           "color_by": "Mean",
           "sample_id": 0,
           "timepoint": 81,
           "trajectory": "Mean",
           "value": 0.9526116521375532
          },
          {
           "color_by": "Mean",
           "sample_id": 0,
           "timepoint": 82,
           "trajectory": "Mean",
           "value": 0.5402808546455493
          },
          {
           "color_by": "Mean",
           "sample_id": 0,
           "timepoint": 83,
           "trajectory": "Mean",
           "value": 0.2938566921982663
          },
          {
           "color_by": "Mean",
           "sample_id": 0,
           "timepoint": 84,
           "trajectory": "Mean",
           "value": 0.22923021922225678
          },
          {
           "color_by": "Mean",
           "sample_id": 0,
           "timepoint": 85,
           "trajectory": "Mean",
           "value": 0.3509840248524229
          },
          {
           "color_by": "Mean",
           "sample_id": 0,
           "timepoint": 86,
           "trajectory": "Mean",
           "value": 0.652107418206483
          },
          {
           "color_by": "Mean",
           "sample_id": 0,
           "timepoint": 87,
           "trajectory": "Mean",
           "value": 1.1144324241081496
          },
          {
           "color_by": "Mean",
           "sample_id": 0,
           "timepoint": 88,
           "trajectory": "Mean",
           "value": 1.70976348131399
          },
          {
           "color_by": "Mean",
           "sample_id": 0,
           "timepoint": 89,
           "trajectory": "Mean",
           "value": 2.4016306042283695
          },
          {
           "color_by": "Mean",
           "sample_id": 0,
           "timepoint": 90,
           "trajectory": "Mean",
           "value": 3.1475570051427444
          },
          {
           "color_by": "Mean",
           "sample_id": 0,
           "timepoint": 91,
           "trajectory": "Mean",
           "value": 3.9017001873642627
          },
          {
           "color_by": "Mean",
           "sample_id": 0,
           "timepoint": 92,
           "trajectory": "Mean",
           "value": 4.617702298980506
          },
          {
           "color_by": "Mean",
           "sample_id": 0,
           "timepoint": 93,
           "trajectory": "Mean",
           "value": 5.251572526187676
          },
          {
           "color_by": "Mean",
           "sample_id": 0,
           "timepoint": 94,
           "trajectory": "Mean",
           "value": 5.764422313038464
          },
          {
           "color_by": "Mean",
           "sample_id": 0,
           "timepoint": 95,
           "trajectory": "Mean",
           "value": 6.124883345000323
          },
          {
           "color_by": "Mean",
           "sample_id": 0,
           "timepoint": 96,
           "trajectory": "Mean",
           "value": 6.311057957919205
          },
          {
           "color_by": "Mean",
           "sample_id": 0,
           "timepoint": 97,
           "trajectory": "Mean",
           "value": 6.311880705502244
          },
          {
           "color_by": "Mean",
           "sample_id": 0,
           "timepoint": 98,
           "trajectory": "Mean",
           "value": 6.127806429739351
          },
          {
           "color_by": "Mean",
           "sample_id": 0,
           "timepoint": 99,
           "trajectory": "Mean",
           "value": 5.770782053464374
          },
          {
           "color_by": "Variance",
           "sample_id": 0,
           "timepoint": 0,
           "trajectory": "Variance",
           "value": 1.7772822938296706
          },
          {
           "color_by": "Variance",
           "sample_id": 0,
           "timepoint": 1,
           "trajectory": "Variance",
           "value": 2.0968028096348603
          },
          {
           "color_by": "Variance",
           "sample_id": 0,
           "timepoint": 2,
           "trajectory": "Variance",
           "value": 1.5498206339688982
          },
          {
           "color_by": "Variance",
           "sample_id": 0,
           "timepoint": 3,
           "trajectory": "Variance",
           "value": 0.9305611191950081
          },
          {
           "color_by": "Variance",
           "sample_id": 0,
           "timepoint": 4,
           "trajectory": "Variance",
           "value": 0.31902766037557634
          },
          {
           "color_by": "Variance",
           "sample_id": 0,
           "timepoint": 5,
           "trajectory": "Variance",
           "value": -0.22893269412569756
          },
          {
           "color_by": "Variance",
           "sample_id": 0,
           "timepoint": 6,
           "trajectory": "Variance",
           "value": -0.6686009179564218
          },
          {
           "color_by": "Variance",
           "sample_id": 0,
           "timepoint": 7,
           "trajectory": "Variance",
           "value": -0.9651491334759783
          },
          {
           "color_by": "Variance",
           "sample_id": 0,
           "timepoint": 8,
           "trajectory": "Variance",
           "value": -1.0943480309527511
          },
          {
           "color_by": "Variance",
           "sample_id": 0,
           "timepoint": 9,
           "trajectory": "Variance",
           "value": -1.0434141474807321
          },
          {
           "color_by": "Variance",
           "sample_id": 0,
           "timepoint": 10,
           "trajectory": "Variance",
           "value": -0.8114605904900396
          },
          {
           "color_by": "Variance",
           "sample_id": 0,
           "timepoint": 11,
           "trajectory": "Variance",
           "value": -0.4093531891882614
          },
          {
           "color_by": "Variance",
           "sample_id": 0,
           "timepoint": 12,
           "trajectory": "Variance",
           "value": 0.14108937125488635
          },
          {
           "color_by": "Variance",
           "sample_id": 0,
           "timepoint": 13,
           "trajectory": "Variance",
           "value": 0.808534536100393
          },
          {
           "color_by": "Variance",
           "sample_id": 0,
           "timepoint": 14,
           "trajectory": "Variance",
           "value": 1.5541412993044337
          },
          {
           "color_by": "Variance",
           "sample_id": 0,
           "timepoint": 15,
           "trajectory": "Variance",
           "value": 2.334016586482002
          },
          {
           "color_by": "Variance",
           "sample_id": 0,
           "timepoint": 16,
           "trajectory": "Variance",
           "value": 3.1019752505819103
          },
          {
           "color_by": "Variance",
           "sample_id": 0,
           "timepoint": 17,
           "trajectory": "Variance",
           "value": 3.812435367016529
          },
          {
           "color_by": "Variance",
           "sample_id": 0,
           "timepoint": 18,
           "trajectory": "Variance",
           "value": 4.423270912140141
          },
          {
           "color_by": "Variance",
           "sample_id": 0,
           "timepoint": 19,
           "trajectory": "Variance",
           "value": 4.898445847335175
          },
          {
           "color_by": "Variance",
           "sample_id": 0,
           "timepoint": 20,
           "trajectory": "Variance",
           "value": 5.210266780405062
          },
          {
           "color_by": "Variance",
           "sample_id": 0,
           "timepoint": 21,
           "trajectory": "Variance",
           "value": 5.341114807365706
          },
          {
           "color_by": "Variance",
           "sample_id": 0,
           "timepoint": 22,
           "trajectory": "Variance",
           "value": 5.284549332216476
          },
          {
           "color_by": "Variance",
           "sample_id": 0,
           "timepoint": 23,
           "trajectory": "Variance",
           "value": 5.0457155823513915
          },
          {
           "color_by": "Variance",
           "sample_id": 0,
           "timepoint": 24,
           "trajectory": "Variance",
           "value": 4.641030741694766
          },
          {
           "color_by": "Variance",
           "sample_id": 0,
           "timepoint": 25,
           "trajectory": "Variance",
           "value": 4.09716841301154
          },
          {
           "color_by": "Variance",
           "sample_id": 0,
           "timepoint": 26,
           "trajectory": "Variance",
           "value": 3.4494047020470973
          },
          {
           "color_by": "Variance",
           "sample_id": 0,
           "timepoint": 27,
           "trajectory": "Variance",
           "value": 2.7394288741404793
          },
          {
           "color_by": "Variance",
           "sample_id": 0,
           "timepoint": 28,
           "trajectory": "Variance",
           "value": 2.0127547994223955
          },
          {
           "color_by": "Variance",
           "sample_id": 0,
           "timepoint": 29,
           "trajectory": "Variance",
           "value": 1.3158942049634128
          },
          {
           "color_by": "Variance",
           "sample_id": 0,
           "timepoint": 30,
           "trajectory": "Variance",
           "value": 0.6934675475399266
          },
          {
           "color_by": "Variance",
           "sample_id": 0,
           "timepoint": 31,
           "trajectory": "Variance",
           "value": 0.18543218797958322
          },
          {
           "color_by": "Variance",
           "sample_id": 0,
           "timepoint": 32,
           "trajectory": "Variance",
           "value": -0.1753997539365127
          },
          {
           "color_by": "Variance",
           "sample_id": 0,
           "timepoint": 33,
           "trajectory": "Variance",
           "value": -0.3653995028888602
          },
          {
           "color_by": "Variance",
           "sample_id": 0,
           "timepoint": 34,
           "trajectory": "Variance",
           "value": -0.37158894251239954
          },
          {
           "color_by": "Variance",
           "sample_id": 0,
           "timepoint": 35,
           "trajectory": "Variance",
           "value": -0.1924458870694739
          },
          {
           "color_by": "Variance",
           "sample_id": 0,
           "timepoint": 36,
           "trajectory": "Variance",
           "value": 0.1620027773642791
          },
          {
           "color_by": "Variance",
           "sample_id": 0,
           "timepoint": 37,
           "trajectory": "Variance",
           "value": 0.6708058900869476
          },
          {
           "color_by": "Variance",
           "sample_id": 0,
           "timepoint": 38,
           "trajectory": "Variance",
           "value": 1.3033919188497742
          },
          {
           "color_by": "Variance",
           "sample_id": 0,
           "timepoint": 39,
           "trajectory": "Variance",
           "value": 2.021470910814084
          },
          {
           "color_by": "Variance",
           "sample_id": 0,
           "timepoint": 40,
           "trajectory": "Variance",
           "value": 2.781416247966103
          },
          {
           "color_by": "Variance",
           "sample_id": 0,
           "timepoint": 41,
           "trajectory": "Variance",
           "value": 3.536978130239971
          },
          {
           "color_by": "Variance",
           "sample_id": 0,
           "timepoint": 42,
           "trajectory": "Variance",
           "value": 4.242160083185524
          },
          {
           "color_by": "Variance",
           "sample_id": 0,
           "timepoint": 43,
           "trajectory": "Variance",
           "value": 4.854079649930889
          },
          {
           "color_by": "Variance",
           "sample_id": 0,
           "timepoint": 44,
           "trajectory": "Variance",
           "value": 5.335635409673756
          },
          {
           "color_by": "Variance",
           "sample_id": 0,
           "timepoint": 45,
           "trajectory": "Variance",
           "value": 5.657814505877779
          },
          {
           "color_by": "Variance",
           "sample_id": 0,
           "timepoint": 46,
           "trajectory": "Variance",
           "value": 5.80149721808373
          },
          {
           "color_by": "Variance",
           "sample_id": 0,
           "timepoint": 47,
           "trajectory": "Variance",
           "value": 5.758646382091738
          },
          {
           "color_by": "Variance",
           "sample_id": 0,
           "timepoint": 48,
           "trajectory": "Variance",
           "value": 5.532807709947572
          },
          {
           "color_by": "Variance",
           "sample_id": 0,
           "timepoint": 49,
           "trajectory": "Variance",
           "value": 5.138889905668156
          },
          {
           "color_by": "Variance",
           "sample_id": 0,
           "timepoint": 50,
           "trajectory": "Variance",
           "value": 4.602238251096278
          },
          {
           "color_by": "Variance",
           "sample_id": 0,
           "timepoint": 51,
           "trajectory": "Variance",
           "value": 3.9570592645667273
          },
          {
           "color_by": "Variance",
           "sample_id": 0,
           "timepoint": 52,
           "trajectory": "Variance",
           "value": 3.2442943819407737
          },
          {
           "color_by": "Variance",
           "sample_id": 0,
           "timepoint": 53,
           "trajectory": "Variance",
           "value": 2.509074866444543
          },
          {
           "color_by": "Variance",
           "sample_id": 0,
           "timepoint": 54,
           "trajectory": "Variance",
           "value": 1.7979161906978924
          },
          {
           "color_by": "Variance",
           "sample_id": 0,
           "timepoint": 55,
           "trajectory": "Variance",
           "value": 1.155826332488698
          },
          {
           "color_by": "Variance",
           "sample_id": 0,
           "timepoint": 56,
           "trajectory": "Variance",
           "value": 0.6235077781059719
          },
          {
           "color_by": "Variance",
           "sample_id": 0,
           "timepoint": 57,
           "trajectory": "Variance",
           "value": 0.23482720061377566
          },
          {
           "color_by": "Variance",
           "sample_id": 0,
           "timepoint": 58,
           "trajectory": "Variance",
           "value": 0.014710137583321792
          },
          {
           "color_by": "Variance",
           "sample_id": 0,
           "timepoint": 59,
           "trajectory": "Variance",
           "value": -0.022408431726244793
          },
          {
           "color_by": "Variance",
           "sample_id": 0,
           "timepoint": 60,
           "trajectory": "Variance",
           "value": 0.12651872701012284
          },
          {
           "color_by": "Variance",
           "sample_id": 0,
           "timepoint": 61,
           "trajectory": "Variance",
           "value": 0.4529619365235799
          },
          {
           "color_by": "Variance",
           "sample_id": 0,
           "timepoint": 62,
           "trajectory": "Variance",
           "value": 0.9373452236806716
          },
          {
           "color_by": "Variance",
           "sample_id": 0,
           "timepoint": 63,
           "trajectory": "Variance",
           "value": 1.550263727368096
          },
          {
           "color_by": "Variance",
           "sample_id": 0,
           "timepoint": 64,
           "trajectory": "Variance",
           "value": 2.2543122068193586
          },
          {
           "color_by": "Variance",
           "sample_id": 0,
           "timepoint": 65,
           "trajectory": "Variance",
           "value": 3.006410963340594
          },
          {
           "color_by": "Variance",
           "sample_id": 0,
           "timepoint": 66,
           "trajectory": "Variance",
           "value": 3.760484561579261
          },
          {
           "color_by": "Variance",
           "sample_id": 0,
           "timepoint": 67,
           "trajectory": "Variance",
           "value": 4.470326801060363
          },
          {
           "color_by": "Variance",
           "sample_id": 0,
           "timepoint": 68,
           "trajectory": "Variance",
           "value": 5.092473808527755
          },
          {
           "color_by": "Variance",
           "sample_id": 0,
           "timepoint": 69,
           "trajectory": "Variance",
           "value": 5.588906616672465
          },
          {
           "color_by": "Variance",
           "sample_id": 0,
           "timepoint": 70,
           "trajectory": "Variance",
           "value": 5.929415196501056
          },
          {
           "color_by": "Variance",
           "sample_id": 0,
           "timepoint": 71,
           "trajectory": "Variance",
           "value": 6.093476959733888
          },
          {
           "color_by": "Variance",
           "sample_id": 0,
           "timepoint": 72,
           "trajectory": "Variance",
           "value": 6.071532935492032
          },
          {
           "color_by": "Variance",
           "sample_id": 0,
           "timepoint": 73,
           "trajectory": "Variance",
           "value": 5.865582275196759
          },
          {
           "color_by": "Variance",
           "sample_id": 0,
           "timepoint": 74,
           "trajectory": "Variance",
           "value": 5.489058122627849
          },
          {
           "color_by": "Variance",
           "sample_id": 0,
           "timepoint": 75,
           "trajectory": "Variance",
           "value": 4.965992567295272
          },
          {
           "color_by": "Variance",
           "sample_id": 0,
           "timepoint": 76,
           "trajectory": "Variance",
           "value": 4.329522600611598
          },
          {
           "color_by": "Variance",
           "sample_id": 0,
           "timepoint": 77,
           "trajectory": "Variance",
           "value": 3.6198299675849714
          },
          {
           "color_by": "Variance",
           "sample_id": 0,
           "timepoint": 78,
           "trajectory": "Variance",
           "value": 2.8816430043671826
          },
          {
           "color_by": "Variance",
           "sample_id": 0,
           "timepoint": 79,
           "trajectory": "Variance",
           "value": 2.1614557855710226
          },
          {
           "color_by": "Variance",
           "sample_id": 0,
           "timepoint": 80,
           "trajectory": "Variance",
           "value": 1.5046374815634815
          },
          {
           "color_by": "Variance",
           "sample_id": 0,
           "timepoint": 81,
           "trajectory": "Variance",
           "value": 0.9526116521375532
          },
          {
           "color_by": "Variance",
           "sample_id": 0,
           "timepoint": 82,
           "trajectory": "Variance",
           "value": 0.5402808546455493
          },
          {
           "color_by": "Variance",
           "sample_id": 0,
           "timepoint": 83,
           "trajectory": "Variance",
           "value": 0.2938566921982663
          },
          {
           "color_by": "Variance",
           "sample_id": 0,
           "timepoint": 84,
           "trajectory": "Variance",
           "value": 0.22923021922225678
          },
          {
           "color_by": "Variance",
           "sample_id": 0,
           "timepoint": 85,
           "trajectory": "Variance",
           "value": 0.3509840248524229
          },
          {
           "color_by": "Variance",
           "sample_id": 0,
           "timepoint": 86,
           "trajectory": "Variance",
           "value": 0.652107418206483
          },
          {
           "color_by": "Variance",
           "sample_id": 0,
           "timepoint": 87,
           "trajectory": "Variance",
           "value": 1.1144324241081496
          },
          {
           "color_by": "Variance",
           "sample_id": 0,
           "timepoint": 88,
           "trajectory": "Variance",
           "value": 1.70976348131399
          },
          {
           "color_by": "Variance",
           "sample_id": 0,
           "timepoint": 89,
           "trajectory": "Variance",
           "value": 2.4016306042283695
          },
          {
           "color_by": "Variance",
           "sample_id": 0,
           "timepoint": 90,
           "trajectory": "Variance",
           "value": 3.1475570051427444
          },
          {
           "color_by": "Variance",
           "sample_id": 0,
           "timepoint": 91,
           "trajectory": "Variance",
           "value": 3.9017001873642627
          },
          {
           "color_by": "Variance",
           "sample_id": 0,
           "timepoint": 92,
           "trajectory": "Variance",
           "value": 4.617702298980506
          },
          {
           "color_by": "Variance",
           "sample_id": 0,
           "timepoint": 93,
           "trajectory": "Variance",
           "value": 5.251572526187676
          },
          {
           "color_by": "Variance",
           "sample_id": 0,
           "timepoint": 94,
           "trajectory": "Variance",
           "value": 5.764422313038464
          },
          {
           "color_by": "Variance",
           "sample_id": 0,
           "timepoint": 95,
           "trajectory": "Variance",
           "value": 6.124883345000323
          },
          {
           "color_by": "Variance",
           "sample_id": 0,
           "timepoint": 96,
           "trajectory": "Variance",
           "value": 6.311057957919205
          },
          {
           "color_by": "Variance",
           "sample_id": 0,
           "timepoint": 97,
           "trajectory": "Variance",
           "value": 6.311880705502244
          },
          {
           "color_by": "Variance",
           "sample_id": 0,
           "timepoint": 98,
           "trajectory": "Variance",
           "value": 6.127806429739351
          },
          {
           "color_by": "Variance",
           "sample_id": 0,
           "timepoint": 99,
           "trajectory": "Variance",
           "value": 5.770782053464374
          }
         ]
        },
        {
         "name": "points",
         "values": []
        },
        {
         "name": "markers",
         "values": []
        },
        {
         "name": "selected",
         "on": [
          {
           "remove": true,
           "trigger": "clear"
          },
          {
           "remove": true,
           "trigger": "!shift"
          },
          {
           "insert": "clicked",
           "trigger": "!shift && clicked"
          },
          {
           "toggle": "clicked",
           "trigger": "shift && clicked"
          }
         ]
        },
        {
         "name": "selectedData",
         "on": [
          {
           "remove": true,
           "trigger": "clearData"
          },
          {
           "toggle": "clickedData",
           "trigger": "clickedData"
          }
         ]
        }
       ],
       "height": 300,
       "legends": [
        {
         "encode": {
          "labels": {
           "interactive": true,
           "name": "legendLabel",
           "update": {
            "opacity": [
             {
              "test": "!length(data('selectedData')) || indata('selectedData', 'value', datum.value)",
              "value": 1
             },
             {
              "value": 0.25
             }
            ]
           }
          },
          "symbols": {
           "interactive": true,
           "name": "legendSymbol",
           "update": {
            "fill": {
             "value": "transparent"
            },
            "opacity": [
             {
              "test": "!length(data('selected')) || indata('selected', 'value', datum.value) || indata('selectedData', 'value', datum.value)",
              "value": 0.7
             },
             {
              "value": 0.15
             }
            ],
            "size": {
             "value": 64
            },
            "strokeWidth": {
             "value": 2
            }
           }
          }
         },
         "name": "color_legend",
         "orient": "left",
         "stroke": "color"
        }
       ],
       "marks": [
        {
         "from": {
          "facet": {
           "data": "points",
           "groupby": "trajectory",
           "name": "points_split"
          }
         },
         "marks": [
          {
           "encode": {
            "hover": {
             "fillOpacity": {
              "value": 0.9
             }
            },
            "update": {
             "fill": {
              "field": "trajectory",
              "scale": "color"
             },
             "fillOpacity": [
              {
               "test": "!length(data('selected')) || indata('selected', 'value', datum.trajectory)",
               "value": 0.5
              },
              {
               "value": 0.15
              }
             ],
             "size": {
              "value": 35
             },
             "stroke": {
              "field": "trajectory",
              "scale": "color"
             },
             "strokeOpacity": [
              {
               "test": "!length(data('selected')) || indata('selected', 'value', datum.trajectory)",
               "value": 0.75
              },
              {
               "value": 0.15
              }
             ],
             "strokeWidth": {
              "value": 2
             },
             "tooltip": {
              "field": "value"
             },
             "x": {
              "field": "timepoint",
              "scale": "xscale"
             },
             "y": {
              "field": "value",
              "scale": "yscale"
             }
            }
           },
           "from": {
            "data": "points_split"
           },
           "name": "_points_symbol",
           "type": "symbol",
           "zindex": 3
          },
          {
           "encode": {
            "hover": {
             "fillOpacity": {
              "value": 0.9
             }
            },
            "update": {
             "interpolate": {
              "value": "linear"
             },
             "stroke": {
              "field": "trajectory",
              "scale": "color"
             },
             "strokeDash": {
              "value": [
               5,
               3
              ]
             },
             "strokeOpacity": [
              {
               "test": "!length(data('selected')) || indata('selected', 'value', datum.trajectory)",
               "value": 0.3
              },
              {
               "value": 0.1
              }
             ],
             "strokeWidth": {
              "value": 2
             },
             "x": {
              "field": "timepoint",
              "scale": "xscale"
             },
             "y": {
              "field": "value",
              "scale": "yscale"
             }
            }
           },
           "from": {
            "data": "points_split"
           },
           "name": "_points_line",
           "type": "line",
           "zindex": 3
          }
         ],
         "name": "_points",
         "type": "group",
         "zindex": 3
        },
        {
         "from": {
          "facet": {
           "data": "traces",
           "groupby": "trajectory",
           "name": "traces_split"
          }
         },
         "marks": [
          {
           "encode": {
            "hover": {
             "fillOpacity": {
              "value": 0.9
             }
            },
            "update": {
             "interpolate": {
              "value": "linear"
             },
             "stroke": {
              "field": "trajectory",
              "scale": "color"
             },
             "strokeDash": [
              {
               "test": "indexof(datum.trajectory, 'aseline') == -1",
               "value": [
                1,
                0
               ]
              },
              {
               "value": [
                8,
                4
               ]
              }
             ],
             "strokeOpacity": [
              {
               "test": "!length(data('selected')) || indata('selected', 'value', datum.trajectory)",
               "value": 0.75
              },
              {
               "value": 0.15
              }
             ],
             "strokeWidth": {
              "value": 2
             },
             "x": {
              "field": "timepoint",
              "scale": "xscale"
             },
             "y": {
              "field": "value",
              "scale": "yscale"
             }
            }
           },
           "from": {
            "data": "traces_split"
           },
           "name": "_traces_lines",
           "type": "line"
          }
         ],
         "name": "_traces",
         "type": "group",
         "zindex": 2
        },
        {
         "from": {
          "facet": {
           "data": "distributions",
           "groupby": "trajectory",
           "name": "trajectory_split"
          }
         },
         "marks": [
          {
           "encode": {
            "hover": {
             "fillOpacity": {
              "value": 0.9
             }
            },
            "update": {
             "fill": {
              "field": "trajectory",
              "scale": "color"
             },
             "fillOpacity": [
              {
               "test": "!length(data('selected')) || indata('selected', 'value', datum.trajectory)",
               "value": 0.1
              },
              {
               "value": 0.05
              }
             ],
             "interpolate": {
              "value": "linear"
             },
             "stroke": {
              "field": "trajectory",
              "scale": "color"
             },
             "strokeOpacity": [
              {
               "test": "!length(data('selected')) || indata('selected', 'value', datum.trajectory)",
               "value": 0.1
              },
              {
               "value": 0.05
              }
             ],
             "strokeWidth": {
              "value": 2
             },
             "x": {
              "field": "timepoint",
              "scale": "xscale"
             },
             "y": {
              "field": "upper",
              "scale": "yscale"
             },
             "y2": {
              "field": "lower",
              "scale": "yscale"
             }
            }
           },
           "from": {
            "data": "trajectory_split"
           },
           "interactive": true,
           "name": "area",
           "type": "area"
          }
         ],
         "name": "_distributions",
         "type": "group",
         "zindex": 1
        },
        {
         "marks": [
          {
           "encode": {
            "enter": {
             "stroke": {
              "value": "lightgray"
             }
            },
            "update": {
             "opacity": {
              "value": 1
             },
             "x": {
              "field": "timepoint",
              "scale": "xscale"
             },
             "y": {
              "signal": "height"
             },
             "y2": {
              "value": 0
             }
            }
           },
           "from": {
            "data": "markers"
           },
           "name": "_marker text",
           "type": "rule"
          },
          {
           "encode": {
            "enter": {
             "fontSize": {
              "value": 8
             },
             "text": {
              "field": "datum.label"
             },
             "y": {
              "value": 0
             }
            }
           },
           "from": {
            "data": "_marker text"
           },
           "name": "_marker flags",
           "transform": [
            {
             "as": [
              "x",
              "_y",
              "opacity",
              "align",
              "baseline"
             ],
             "lineAnchor": "start",
             "offset": [
              1
             ],
             "size": {
              "signal": "[width, height]"
             },
             "type": "label"
            }
           ],
           "type": "text"
          }
         ],
         "name": "_markers",
         "type": "group"
        }
       ],
       "scales": [
        {
         "domain": {
          "fields": [
           {
            "data": "distributions",
            "field": "timepoint"
           },
           {
            "data": "traces",
            "field": "timepoint"
           },
           {
            "data": "points",
            "field": "timepoint"
           },
           {
            "data": "markers",
            "field": "timepoint"
           }
          ]
         },
         "name": "xscale",
         "range": "width",
         "type": "linear",
         "zero": false
        },
        {
         "domain": {
          "fields": [
           {
            "data": "distributions",
            "field": "lower"
           },
           {
            "data": "distributions",
            "field": "upper"
           },
           {
            "data": "traces",
            "field": "value"
           },
           {
            "data": "points",
            "field": "value"
           }
          ]
         },
         "name": "yscale",
         "nice": true,
         "range": "height",
         "type": "linear",
         "zero": true
        },
        {
         "domain": {
          "fields": [
           {
            "data": "distributions",
            "field": "trajectory"
           },
           {
            "data": "traces",
            "field": "trajectory"
           },
           {
            "data": "points",
            "field": "trajectory"
           }
          ],
          "sort": {
           "order": "ascending"
          }
         },
         "name": "color",
         "range": "category",
         "type": "ordinal"
        }
       ],
       "signals": [
        {
         "name": "clear",
         "on": [
          {
           "events": "mouseup[!event.item]",
           "force": true,
           "update": "true"
          }
         ],
         "value": true
        },
        {
         "name": "shift",
         "on": [
          {
           "events": "@legendSymbol:click, @legendLabel:click",
           "force": true,
           "update": "event.shiftKey"
          }
         ],
         "value": false
        },
        {
         "name": "clicked",
         "on": [
          {
           "events": "@legendSymbol:click, @legendLabel:click",
           "force": true,
           "update": "{value: datum.value}"
          }
         ],
         "value": null
        },
        {
         "name": "clearData",
         "on": [
          {
           "events": "mouseup[!event.item]",
           "force": true,
           "update": "true"
          }
         ],
         "value": true
        },
        {
         "name": "clickedData",
         "on": [
          {
           "events": "@area:click",
           "force": true,
           "update": "{value: datum.trajectory}"
          }
         ],
         "value": null
        }
       ],
       "width": 500
      }
     },
     "metadata": {},
     "output_type": "display_data"
    },
    {
     "name": "stdout",
     "output_type": "stream",
     "text": [
      "\n"
     ]
    },
    {
     "data": {
      "application/vnd.vega.v5+json": {
       "$schema": "https://vega.github.io/schema/vega/v5.json",
       "axes": [
        {
         "name": "x_axis",
         "orient": "bottom",
         "scale": "xscale",
         "zindex": 100
        },
        {
         "name": "y_axis",
         "orient": "left",
         "scale": "yscale",
         "zindex": 100
        }
       ],
       "background": "white",
       "data": [
        {
         "name": "distributions",
         "transform": [
          {
           "sort": {
            "field": [
             "trajectory",
             "timepoint"
            ]
           },
           "type": "collect"
          }
         ],
         "values": [
          {
           "lower": -1.636031540020972,
           "timepoint": 0,
           "trajectory": "Example",
           "upper": 1.5744357928207051
          },
          {
           "lower": -1.1962087087528763,
           "timepoint": 1,
           "trajectory": "Example",
           "upper": 2.2192772294961873
          },
          {
           "lower": -1.3921547612939316,
           "timepoint": 2,
           "trajectory": "Example",
           "upper": 2.215631548652342
          },
          {
           "lower": -1.6411291458348718,
           "timepoint": 3,
           "trajectory": "Example",
           "upper": 2.56111997988346
          },
          {
           "lower": -1.585753390026668,
           "timepoint": 4,
           "trajectory": "Example",
           "upper": 3.2051518325144537
          },
          {
           "lower": -1.403389980032331,
           "timepoint": 5,
           "trajectory": "Example",
           "upper": 3.475977451743976
          },
          {
           "lower": -1.3316404824947181,
           "timepoint": 6,
           "trajectory": "Example",
           "upper": 3.673251374235031
          },
          {
           "lower": -1.2947078317240956,
           "timepoint": 7,
           "trajectory": "Example",
           "upper": 4.064066941575804
          },
          {
           "lower": -1.1753532992584403,
           "timepoint": 8,
           "trajectory": "Example",
           "upper": 3.830605834377392
          },
          {
           "lower": -0.9760464218537177,
           "timepoint": 9,
           "trajectory": "Example",
           "upper": 4.118741837084908
          },
          {
           "lower": -0.8702708776631908,
           "timepoint": 10,
           "trajectory": "Example",
           "upper": 4.394716879417702
          },
          {
           "lower": -0.8429690118426261,
           "timepoint": 11,
           "trajectory": "Example",
           "upper": 4.564065187423012
          },
          {
           "lower": -1.0437946495403994,
           "timepoint": 12,
           "trajectory": "Example",
           "upper": 4.580238644048098
          },
          {
           "lower": -0.7058152025777381,
           "timepoint": 13,
           "trajectory": "Example",
           "upper": 4.5227430082348645
          },
          {
           "lower": -0.5849088332097419,
           "timepoint": 14,
           "trajectory": "Example",
           "upper": 4.543186401202144
          },
          {
           "lower": -0.4443438702086903,
           "timepoint": 15,
           "trajectory": "Example",
           "upper": 4.526271081183626
          },
          {
           "lower": -0.44028879038563057,
           "timepoint": 16,
           "trajectory": "Example",
           "upper": 4.49874651166612
          },
          {
           "lower": -0.40547047128916625,
           "timepoint": 17,
           "trajectory": "Example",
           "upper": 4.349392390918106
          },
          {
           "lower": -0.5663948590345221,
           "timepoint": 18,
           "trajectory": "Example",
           "upper": 4.377198129407516
          },
          {
           "lower": -0.5972805070989191,
           "timepoint": 19,
           "trajectory": "Example",
           "upper": 4.344766625895504
          },
          {
           "lower": -0.47600343513118937,
           "timepoint": 20,
           "trajectory": "Example",
           "upper": 4.5537933273054545
          },
          {
           "lower": -0.28065422419147823,
           "timepoint": 21,
           "trajectory": "Example",
           "upper": 4.77153097499383
          },
          {
           "lower": -0.06898664833194715,
           "timepoint": 22,
           "trajectory": "Example",
           "upper": 4.822882521607048
          },
          {
           "lower": -0.11426015627032265,
           "timepoint": 23,
           "trajectory": "Example",
           "upper": 4.879133935944276
          },
          {
           "lower": 0.045386236055392576,
           "timepoint": 24,
           "trajectory": "Example",
           "upper": 4.8269956183317255
          },
          {
           "lower": 0.18249277391423094,
           "timepoint": 25,
           "trajectory": "Example",
           "upper": 4.8792234578138
          },
          {
           "lower": 0.11414380596183463,
           "timepoint": 26,
           "trajectory": "Example",
           "upper": 4.944477478942396
          },
          {
           "lower": -0.07633227456951386,
           "timepoint": 27,
           "trajectory": "Example",
           "upper": 5.029704338111385
          },
          {
           "lower": -0.09618645770222845,
           "timepoint": 28,
           "trajectory": "Example",
           "upper": 5.1189892003400175
          },
          {
           "lower": 0.014116931686085521,
           "timepoint": 29,
           "trajectory": "Example",
           "upper": 4.962686606445827
          },
          {
           "lower": 0.04103916311083916,
           "timepoint": 30,
           "trajectory": "Example",
           "upper": 4.887263306927251
          },
          {
           "lower": -0.14924498635944516,
           "timepoint": 31,
           "trajectory": "Example",
           "upper": 4.594263189648901
          },
          {
           "lower": -0.3085256665039061,
           "timepoint": 32,
           "trajectory": "Example",
           "upper": 4.875261482074986
          },
          {
           "lower": -0.3302018216498677,
           "timepoint": 33,
           "trajectory": "Example",
           "upper": 4.93275272240232
          },
          {
           "lower": -0.2807649322988108,
           "timepoint": 34,
           "trajectory": "Example",
           "upper": 5.047859167178419
          },
          {
           "lower": -0.25016290661044094,
           "timepoint": 35,
           "trajectory": "Example",
           "upper": 4.965181547457697
          },
          {
           "lower": -0.2798422490090786,
           "timepoint": 36,
           "trajectory": "Example",
           "upper": 5.027118247734967
          },
          {
           "lower": 0.023187214269053347,
           "timepoint": 37,
           "trajectory": "Example",
           "upper": 4.996600323066726
          },
          {
           "lower": -0.21684838732058836,
           "timepoint": 38,
           "trajectory": "Example",
           "upper": 4.833774296240559
          },
          {
           "lower": -0.03587952825852542,
           "timepoint": 39,
           "trajectory": "Example",
           "upper": 4.987610125728989
          },
          {
           "lower": -0.09659440552360238,
           "timepoint": 40,
           "trajectory": "Example",
           "upper": 4.959227528036804
          },
          {
           "lower": -0.2763953453336894,
           "timepoint": 41,
           "trajectory": "Example",
           "upper": 5.034151215254534
          },
          {
           "lower": 0.13690013128036993,
           "timepoint": 42,
           "trajectory": "Example",
           "upper": 4.977734640405284
          },
          {
           "lower": -0.34846041488138946,
           "timepoint": 43,
           "trajectory": "Example",
           "upper": 5.110327032412284
          },
          {
           "lower": -0.2839329649118634,
           "timepoint": 44,
           "trajectory": "Example",
           "upper": 4.963944179374497
          },
          {
           "lower": -0.11326633090081695,
           "timepoint": 45,
           "trajectory": "Example",
           "upper": 4.904402679759013
          },
          {
           "lower": 0.18782155801248712,
           "timepoint": 46,
           "trajectory": "Example",
           "upper": 5.067130514731603
          },
          {
           "lower": 0.2958524304775869,
           "timepoint": 47,
           "trajectory": "Example",
           "upper": 4.9094647746228635
          },
          {
           "lower": 0.46870408141853054,
           "timepoint": 48,
           "trajectory": "Example",
           "upper": 4.8272132184081045
          },
          {
           "lower": 0.3674681531146033,
           "timepoint": 49,
           "trajectory": "Example",
           "upper": 4.936707494657277
          },
          {
           "lower": 0.15606220761869571,
           "timepoint": 50,
           "trajectory": "Example",
           "upper": 4.943176074813439
          },
          {
           "lower": 0.2328327844749578,
           "timepoint": 51,
           "trajectory": "Example",
           "upper": 4.9491474189053
          },
          {
           "lower": 0.36733100870618274,
           "timepoint": 52,
           "trajectory": "Example",
           "upper": 5.17974658608092
          },
          {
           "lower": 0.3749428090227034,
           "timepoint": 53,
           "trajectory": "Example",
           "upper": 5.131112022577334
          },
          {
           "lower": 0.49376809048954884,
           "timepoint": 54,
           "trajectory": "Example",
           "upper": 5.249190792592051
          },
          {
           "lower": 0.5914776561403723,
           "timepoint": 55,
           "trajectory": "Example",
           "upper": 5.397656821949372
          },
          {
           "lower": 0.5945545185915408,
           "timepoint": 56,
           "trajectory": "Example",
           "upper": 5.507353287349099
          },
          {
           "lower": 0.5953454555223175,
           "timepoint": 57,
           "trajectory": "Example",
           "upper": 5.5320503241007515
          },
          {
           "lower": 0.568634578322808,
           "timepoint": 58,
           "trajectory": "Example",
           "upper": 5.762928743329833
          },
          {
           "lower": 0.4096747348731635,
           "timepoint": 59,
           "trajectory": "Example",
           "upper": 5.673541465047896
          },
          {
           "lower": 0.5025608414740159,
           "timepoint": 60,
           "trajectory": "Example",
           "upper": 5.6010785695765515
          },
          {
           "lower": 0.4393040619671803,
           "timepoint": 61,
           "trajectory": "Example",
           "upper": 5.486382396750724
          },
          {
           "lower": 0.7062719919015923,
           "timepoint": 62,
           "trajectory": "Example",
           "upper": 5.356203531209559
          },
          {
           "lower": 0.6218083029808623,
           "timepoint": 63,
           "trajectory": "Example",
           "upper": 5.213609121337608
          },
          {
           "lower": 0.3866616323775119,
           "timepoint": 64,
           "trajectory": "Example",
           "upper": 5.113687155871933
          },
          {
           "lower": 0.3503807314208017,
           "timepoint": 65,
           "trajectory": "Example",
           "upper": 5.078651267185025
          },
          {
           "lower": 0.2746231983938041,
           "timepoint": 66,
           "trajectory": "Example",
           "upper": 5.25334851802497
          },
          {
           "lower": 0.3183239182487835,
           "timepoint": 67,
           "trajectory": "Example",
           "upper": 5.1501796092529695
          },
          {
           "lower": 0.3213217584372746,
           "timepoint": 68,
           "trajectory": "Example",
           "upper": 5.186945582748682
          },
          {
           "lower": 0.2801500840899944,
           "timepoint": 69,
           "trajectory": "Example",
           "upper": 5.2839603806991615
          },
          {
           "lower": 0.48373282627044834,
           "timepoint": 70,
           "trajectory": "Example",
           "upper": 5.404417410762422
          },
          {
           "lower": 0.5766746889820799,
           "timepoint": 71,
           "trajectory": "Example",
           "upper": 5.4815452066838946
          },
          {
           "lower": 0.616390755181231,
           "timepoint": 72,
           "trajectory": "Example",
           "upper": 5.456829330633273
          },
          {
           "lower": 0.42049394752890945,
           "timepoint": 73,
           "trajectory": "Example",
           "upper": 5.757695198830348
          },
          {
           "lower": 0.07564382939457476,
           "timepoint": 74,
           "trajectory": "Example",
           "upper": 5.570377931738911
          },
          {
           "lower": -0.03811430426408596,
           "timepoint": 75,
           "trajectory": "Example",
           "upper": 5.3337222497280665
          },
          {
           "lower": 0.11241138218775648,
           "timepoint": 76,
           "trajectory": "Example",
           "upper": 5.39053585418871
          },
          {
           "lower": 0.010613272455293421,
           "timepoint": 77,
           "trajectory": "Example",
           "upper": 5.220751419867142
          },
          {
           "lower": 0.34093857952490825,
           "timepoint": 78,
           "trajectory": "Example",
           "upper": 5.3768938412306655
          },
          {
           "lower": 0.3092568234965217,
           "timepoint": 79,
           "trajectory": "Example",
           "upper": 5.451780817078516
          },
          {
           "lower": 0.32611615634271934,
           "timepoint": 80,
           "trajectory": "Example",
           "upper": 5.428882858131662
          },
          {
           "lower": 0.4256772527427045,
           "timepoint": 81,
           "trajectory": "Example",
           "upper": 5.35302710038664
          },
          {
           "lower": 0.28320983972675895,
           "timepoint": 82,
           "trajectory": "Example",
           "upper": 5.4871132525324455
          },
          {
           "lower": 0.5265788883823175,
           "timepoint": 83,
           "trajectory": "Example",
           "upper": 5.398584851933601
          },
          {
           "lower": 0.3916206808279371,
           "timepoint": 84,
           "trajectory": "Example",
           "upper": 5.533039106949082
          },
          {
           "lower": 0.5598904416654671,
           "timepoint": 85,
           "trajectory": "Example",
           "upper": 5.596786837095255
          },
          {
           "lower": 0.5910492452994589,
           "timepoint": 86,
           "trajectory": "Example",
           "upper": 5.743201677893696
          },
          {
           "lower": 0.9539231975406317,
           "timepoint": 87,
           "trajectory": "Example",
           "upper": 5.652616889325949
          },
          {
           "lower": 1.0460490933136708,
           "timepoint": 88,
           "trajectory": "Example",
           "upper": 5.790438894385044
          },
          {
           "lower": 1.0765073281993487,
           "timepoint": 89,
           "trajectory": "Example",
           "upper": 5.844537008464831
          },
          {
           "lower": 0.8911492851618266,
           "timepoint": 90,
           "trajectory": "Example",
           "upper": 5.788453840229842
          },
          {
           "lower": 1.1790698465864153,
           "timepoint": 91,
           "trajectory": "Example",
           "upper": 5.5219793695155985
          },
          {
           "lower": 0.9019128805701695,
           "timepoint": 92,
           "trajectory": "Example",
           "upper": 5.376345204691718
          },
          {
           "lower": 0.9745228157185766,
           "timepoint": 93,
           "trajectory": "Example",
           "upper": 5.4143729124128805
          },
          {
           "lower": 0.7098068741515894,
           "timepoint": 94,
           "trajectory": "Example",
           "upper": 5.553572123463123
          },
          {
           "lower": 0.7422430029384771,
           "timepoint": 95,
           "trajectory": "Example",
           "upper": 5.680272327944904
          },
          {
           "lower": 0.7162425527143487,
           "timepoint": 96,
           "trajectory": "Example",
           "upper": 5.664374747425255
          },
          {
           "lower": 0.7491531333999244,
           "timepoint": 97,
           "trajectory": "Example",
           "upper": 5.619920406467502
          },
          {
           "lower": 0.8392300885865543,
           "timepoint": 98,
           "trajectory": "Example",
           "upper": 5.564374253300647
          },
          {
           "lower": 0.816422263326564,
           "timepoint": 99,
           "trajectory": "Example",
           "upper": 5.562668133352897
          }
         ]
        },
        {
         "name": "traces",
         "transform": [
          {
           "expr": "isValid(datum.value)",
           "type": "filter"
          },
          {
           "sort": {
            "field": [
             "trajectory",
             "timepoint"
            ]
           },
           "type": "collect"
          }
         ],
         "values": [
          {
           "color_by": "Trajectory Mean",
           "sample_id": 0,
           "timepoint": 0,
           "trajectory": "Baseline_Trajectory_Mean",
           "value": 0.09284063154524487
          },
          {
           "color_by": "Trajectory Mean",
           "sample_id": 0,
           "timepoint": 1,
           "trajectory": "Baseline_Trajectory_Mean",
           "value": 0.6021567064370256
          },
          {
           "color_by": "Trajectory Mean",
           "sample_id": 0,
           "timepoint": 2,
           "trajectory": "Baseline_Trajectory_Mean",
           "value": 0.4179888963618928
          },
          {
           "color_by": "Trajectory Mean",
           "sample_id": 0,
           "timepoint": 3,
           "trajectory": "Baseline_Trajectory_Mean",
           "value": 0.35444762177824923
          },
          {
           "color_by": "Trajectory Mean",
           "sample_id": 0,
           "timepoint": 4,
           "trajectory": "Baseline_Trajectory_Mean",
           "value": 0.4391631749767293
          },
          {
           "color_by": "Trajectory Mean",
           "sample_id": 0,
           "timepoint": 5,
           "trajectory": "Baseline_Trajectory_Mean",
           "value": 0.6263976202960242
          },
          {
           "color_by": "Trajectory Mean",
           "sample_id": 0,
           "timepoint": 6,
           "trajectory": "Baseline_Trajectory_Mean",
           "value": 0.8540074238624357
          },
          {
           "color_by": "Trajectory Mean",
           "sample_id": 0,
           "timepoint": 7,
           "trajectory": "Baseline_Trajectory_Mean",
           "value": 1.079570494601661
          },
          {
           "color_by": "Trajectory Mean",
           "sample_id": 0,
           "timepoint": 8,
           "trajectory": "Baseline_Trajectory_Mean",
           "value": 1.2881786432350526
          },
          {
           "color_by": "Trajectory Mean",
           "sample_id": 0,
           "timepoint": 9,
           "trajectory": "Baseline_Trajectory_Mean",
           "value": 1.4791466106041113
          },
          {
           "color_by": "Trajectory Mean",
           "sample_id": 0,
           "timepoint": 10,
           "trajectory": "Baseline_Trajectory_Mean",
           "value": 1.650957638866696
          },
          {
           "color_by": "Trajectory Mean",
           "sample_id": 0,
           "timepoint": 11,
           "trajectory": "Baseline_Trajectory_Mean",
           "value": 1.7982684692774442
          },
          {
           "color_by": "Trajectory Mean",
           "sample_id": 0,
           "timepoint": 12,
           "trajectory": "Baseline_Trajectory_Mean",
           "value": 1.9190717484465947
          },
          {
           "color_by": "Trajectory Mean",
           "sample_id": 0,
           "timepoint": 13,
           "trajectory": "Baseline_Trajectory_Mean",
           "value": 2.0199896094747998
          },
          {
           "color_by": "Trajectory Mean",
           "sample_id": 0,
           "timepoint": 14,
           "trajectory": "Baseline_Trajectory_Mean",
           "value": 2.1116598203783314
          },
          {
           "color_by": "Trajectory Mean",
           "sample_id": 0,
           "timepoint": 15,
           "trajectory": "Baseline_Trajectory_Mean",
           "value": 2.1983663019590343
          },
          {
           "color_by": "Trajectory Mean",
           "sample_id": 0,
           "timepoint": 16,
           "trajectory": "Baseline_Trajectory_Mean",
           "value": 2.2731818423702435
          },
          {
           "color_by": "Trajectory Mean",
           "sample_id": 0,
           "timepoint": 17,
           "trajectory": "Baseline_Trajectory_Mean",
           "value": 2.324739747695143
          },
          {
           "color_by": "Trajectory Mean",
           "sample_id": 0,
           "timepoint": 18,
           "trajectory": "Baseline_Trajectory_Mean",
           "value": 2.3498745017248646
          },
          {
           "color_by": "Trajectory Mean",
           "sample_id": 0,
           "timepoint": 19,
           "trajectory": "Baseline_Trajectory_Mean",
           "value": 2.359944679716992
          },
          {
           "color_by": "Trajectory Mean",
           "sample_id": 0,
           "timepoint": 20,
           "trajectory": "Baseline_Trajectory_Mean",
           "value": 2.3741948428467747
          },
          {
           "color_by": "Trajectory Mean",
           "sample_id": 0,
           "timepoint": 21,
           "trajectory": "Baseline_Trajectory_Mean",
           "value": 2.4056111545830214
          },
          {
           "color_by": "Trajectory Mean",
           "sample_id": 0,
           "timepoint": 22,
           "trajectory": "Baseline_Trajectory_Mean",
           "value": 2.4516239173542624
          },
          {
           "color_by": "Trajectory Mean",
           "sample_id": 0,
           "timepoint": 23,
           "trajectory": "Baseline_Trajectory_Mean",
           "value": 2.4972338177314994
          },
          {
           "color_by": "Trajectory Mean",
           "sample_id": 0,
           "timepoint": 24,
           "trajectory": "Baseline_Trajectory_Mean",
           "value": 2.5266292336674323
          },
          {
           "color_by": "Trajectory Mean",
           "sample_id": 0,
           "timepoint": 25,
           "trajectory": "Baseline_Trajectory_Mean",
           "value": 2.5323342694262356
          },
          {
           "color_by": "Trajectory Mean",
           "sample_id": 0,
           "timepoint": 26,
           "trajectory": "Baseline_Trajectory_Mean",
           "value": 2.5147886222961997
          },
          {
           "color_by": "Trajectory Mean",
           "sample_id": 0,
           "timepoint": 27,
           "trajectory": "Baseline_Trajectory_Mean",
           "value": 2.4755646420654758
          },
          {
           "color_by": "Trajectory Mean",
           "sample_id": 0,
           "timepoint": 28,
           "trajectory": "Baseline_Trajectory_Mean",
           "value": 2.413615743646392
          },
          {
           "color_by": "Trajectory Mean",
           "sample_id": 0,
           "timepoint": 29,
           "trajectory": "Baseline_Trajectory_Mean",
           "value": 2.329946136901807
          },
          {
           "color_by": "Trajectory Mean",
           "sample_id": 0,
           "timepoint": 30,
           "trajectory": "Baseline_Trajectory_Mean",
           "value": 2.2362029721334373
          },
          {
           "color_by": "Trajectory Mean",
           "sample_id": 0,
           "timepoint": 31,
           "trajectory": "Baseline_Trajectory_Mean",
           "value": 2.157133491072939
          },
          {
           "color_by": "Trajectory Mean",
           "sample_id": 0,
           "timepoint": 32,
           "trajectory": "Baseline_Trajectory_Mean",
           "value": 2.1215012980437775
          },
          {
           "color_by": "Trajectory Mean",
           "sample_id": 0,
           "timepoint": 33,
           "trajectory": "Baseline_Trajectory_Mean",
           "value": 2.146649229498212
          },
          {
           "color_by": "Trajectory Mean",
           "sample_id": 0,
           "timepoint": 34,
           "trajectory": "Baseline_Trajectory_Mean",
           "value": 2.2282765592391884
          },
          {
           "color_by": "Trajectory Mean",
           "sample_id": 0,
           "timepoint": 35,
           "trajectory": "Baseline_Trajectory_Mean",
           "value": 2.343093119577445
          },
          {
           "color_by": "Trajectory Mean",
           "sample_id": 0,
           "timepoint": 36,
           "trajectory": "Baseline_Trajectory_Mean",
           "value": 2.4616185519605267
          },
          {
           "color_by": "Trajectory Mean",
           "sample_id": 0,
           "timepoint": 37,
           "trajectory": "Baseline_Trajectory_Mean",
           "value": 2.5612078777000717
          },
          {
           "color_by": "Trajectory Mean",
           "sample_id": 0,
           "timepoint": 38,
           "trajectory": "Baseline_Trajectory_Mean",
           "value": 2.631441841149785
          },
          {
           "color_by": "Trajectory Mean",
           "sample_id": 0,
           "timepoint": 39,
           "trajectory": "Baseline_Trajectory_Mean",
           "value": 2.6721313969171328
          },
          {
           "color_by": "Trajectory Mean",
           "sample_id": 0,
           "timepoint": 40,
           "trajectory": "Baseline_Trajectory_Mean",
           "value": 2.689733196753004
          },
          {
           "color_by": "Trajectory Mean",
           "sample_id": 0,
           "timepoint": 41,
           "trajectory": "Baseline_Trajectory_Mean",
           "value": 2.6959546444203895
          },
          {
           "color_by": "Trajectory Mean",
           "sample_id": 0,
           "timepoint": 42,
           "trajectory": "Baseline_Trajectory_Mean",
           "value": 2.706293695099713
          },
          {
           "color_by": "Trajectory Mean",
           "sample_id": 0,
           "timepoint": 43,
           "trajectory": "Baseline_Trajectory_Mean",
           "value": 2.73412003237839
          },
          {
           "color_by": "Trajectory Mean",
           "sample_id": 0,
           "timepoint": 44,
           "trajectory": "Baseline_Trajectory_Mean",
           "value": 2.781037843200894
          },
          {
           "color_by": "Trajectory Mean",
           "sample_id": 0,
           "timepoint": 45,
           "trajectory": "Baseline_Trajectory_Mean",
           "value": 2.831345199300342
          },
          {
           "color_by": "Trajectory Mean",
           "sample_id": 0,
           "timepoint": 46,
           "trajectory": "Baseline_Trajectory_Mean",
           "value": 2.8586413752697455
          },
          {
           "color_by": "Trajectory Mean",
           "sample_id": 0,
           "timepoint": 47,
           "trajectory": "Baseline_Trajectory_Mean",
           "value": 2.8434274774430337
          },
          {
           "color_by": "Trajectory Mean",
           "sample_id": 0,
           "timepoint": 48,
           "trajectory": "Baseline_Trajectory_Mean",
           "value": 2.7894384071621436
          },
          {
           "color_by": "Trajectory Mean",
           "sample_id": 0,
           "timepoint": 49,
           "trajectory": "Baseline_Trajectory_Mean",
           "value": 2.724632583984065
          },
          {
           "color_by": "Trajectory Mean",
           "sample_id": 0,
           "timepoint": 50,
           "trajectory": "Baseline_Trajectory_Mean",
           "value": 2.683903259035882
          },
          {
           "color_by": "Trajectory Mean",
           "sample_id": 0,
           "timepoint": 51,
           "trajectory": "Baseline_Trajectory_Mean",
           "value": 2.685974613725841
          },
          {
           "color_by": "Trajectory Mean",
           "sample_id": 0,
           "timepoint": 52,
           "trajectory": "Baseline_Trajectory_Mean",
           "value": 2.722710004616797
          },
          {
           "color_by": "Trajectory Mean",
           "sample_id": 0,
           "timepoint": 53,
           "trajectory": "Baseline_Trajectory_Mean",
           "value": 2.7690818367784273
          },
          {
           "color_by": "Trajectory Mean",
           "sample_id": 0,
           "timepoint": 54,
           "trajectory": "Baseline_Trajectory_Mean",
           "value": 2.8045165339491565
          },
          {
           "color_by": "Trajectory Mean",
           "sample_id": 0,
           "timepoint": 55,
           "trajectory": "Baseline_Trajectory_Mean",
           "value": 2.8268874564623983
          },
          {
           "color_by": "Trajectory Mean",
           "sample_id": 0,
           "timepoint": 56,
           "trajectory": "Baseline_Trajectory_Mean",
           "value": 2.847834157760449
          },
          {
           "color_by": "Trajectory Mean",
           "sample_id": 0,
           "timepoint": 57,
           "trajectory": "Baseline_Trajectory_Mean",
           "value": 2.8756760559843415
          },
          {
           "color_by": "Trajectory Mean",
           "sample_id": 0,
           "timepoint": 58,
           "trajectory": "Baseline_Trajectory_Mean",
           "value": 2.9036540715679084
          },
          {
           "color_by": "Trajectory Mean",
           "sample_id": 0,
           "timepoint": 59,
           "trajectory": "Baseline_Trajectory_Mean",
           "value": 2.915731959252187
          },
          {
           "color_by": "Trajectory Mean",
           "sample_id": 0,
           "timepoint": 60,
           "trajectory": "Baseline_Trajectory_Mean",
           "value": 2.9047373498142424
          },
          {
           "color_by": "Trajectory Mean",
           "sample_id": 0,
           "timepoint": 61,
           "trajectory": "Baseline_Trajectory_Mean",
           "value": 2.88474018213019
          },
          {
           "color_by": "Trajectory Mean",
           "sample_id": 0,
           "timepoint": 62,
           "trajectory": "Baseline_Trajectory_Mean",
           "value": 2.883872669307426
          },
          {
           "color_by": "Trajectory Mean",
           "sample_id": 0,
           "timepoint": 63,
           "trajectory": "Baseline_Trajectory_Mean",
           "value": 2.9218852437759693
          },
          {
           "color_by": "Trajectory Mean",
           "sample_id": 0,
           "timepoint": 64,
           "trajectory": "Baseline_Trajectory_Mean",
           "value": 2.9919159534832236
          },
          {
           "color_by": "Trajectory Mean",
           "sample_id": 0,
           "timepoint": 65,
           "trajectory": "Baseline_Trajectory_Mean",
           "value": 3.0636370395445915
          },
          {
           "color_by": "Trajectory Mean",
           "sample_id": 0,
           "timepoint": 66,
           "trajectory": "Baseline_Trajectory_Mean",
           "value": 3.1064633853353056
          },
          {
           "color_by": "Trajectory Mean",
           "sample_id": 0,
           "timepoint": 67,
           "trajectory": "Baseline_Trajectory_Mean",
           "value": 3.1133365424665875
          },
          {
           "color_by": "Trajectory Mean",
           "sample_id": 0,
           "timepoint": 68,
           "trajectory": "Baseline_Trajectory_Mean",
           "value": 3.104418293967388
          },
          {
           "color_by": "Trajectory Mean",
           "sample_id": 0,
           "timepoint": 69,
           "trajectory": "Baseline_Trajectory_Mean",
           "value": 3.107337030914232
          },
          {
           "color_by": "Trajectory Mean",
           "sample_id": 0,
           "timepoint": 70,
           "trajectory": "Baseline_Trajectory_Mean",
           "value": 3.131153667163904
          },
          {
           "color_by": "Trajectory Mean",
           "sample_id": 0,
           "timepoint": 71,
           "trajectory": "Baseline_Trajectory_Mean",
           "value": 3.156681642382567
          },
          {
           "color_by": "Trajectory Mean",
           "sample_id": 0,
           "timepoint": 72,
           "trajectory": "Baseline_Trajectory_Mean",
           "value": 3.1514532201016423
          },
          {
           "color_by": "Trajectory Mean",
           "sample_id": 0,
           "timepoint": 73,
           "trajectory": "Baseline_Trajectory_Mean",
           "value": 3.0963728237746415
          },
          {
           "color_by": "Trajectory Mean",
           "sample_id": 0,
           "timepoint": 74,
           "trajectory": "Baseline_Trajectory_Mean",
           "value": 3.001643626824072
          },
          {
           "color_by": "Trajectory Mean",
           "sample_id": 0,
           "timepoint": 75,
           "trajectory": "Baseline_Trajectory_Mean",
           "value": 2.8996127406912025
          },
          {
           "color_by": "Trajectory Mean",
           "sample_id": 0,
           "timepoint": 76,
           "trajectory": "Baseline_Trajectory_Mean",
           "value": 2.8220559901669113
          },
          {
           "color_by": "Trajectory Mean",
           "sample_id": 0,
           "timepoint": 77,
           "trajectory": "Baseline_Trajectory_Mean",
           "value": 2.781399728375944
          },
          {
           "color_by": "Trajectory Mean",
           "sample_id": 0,
           "timepoint": 78,
           "trajectory": "Baseline_Trajectory_Mean",
           "value": 2.769821942540519
          },
          {
           "color_by": "Trajectory Mean",
           "sample_id": 0,
           "timepoint": 79,
           "trajectory": "Baseline_Trajectory_Mean",
           "value": 2.7735126812572886
          },
          {
           "color_by": "Trajectory Mean",
           "sample_id": 0,
           "timepoint": 80,
           "trajectory": "Baseline_Trajectory_Mean",
           "value": 2.787182454276338
          },
          {
           "color_by": "Trajectory Mean",
           "sample_id": 0,
           "timepoint": 81,
           "trajectory": "Baseline_Trajectory_Mean",
           "value": 2.816291230625224
          },
          {
           "color_by": "Trajectory Mean",
           "sample_id": 0,
           "timepoint": 82,
           "trajectory": "Baseline_Trajectory_Mean",
           "value": 2.867508701898568
          },
          {
           "color_by": "Trajectory Mean",
           "sample_id": 0,
           "timepoint": 83,
           "trajectory": "Baseline_Trajectory_Mean",
           "value": 2.9385519267484326
          },
          {
           "color_by": "Trajectory Mean",
           "sample_id": 0,
           "timepoint": 84,
           "trajectory": "Baseline_Trajectory_Mean",
           "value": 3.0174120942198566
          },
          {
           "color_by": "Trajectory Mean",
           "sample_id": 0,
           "timepoint": 85,
           "trajectory": "Baseline_Trajectory_Mean",
           "value": 3.0906674036567274
          },
          {
           "color_by": "Trajectory Mean",
           "sample_id": 0,
           "timepoint": 86,
           "trajectory": "Baseline_Trajectory_Mean",
           "value": 3.151981620115197
          },
          {
           "color_by": "Trajectory Mean",
           "sample_id": 0,
           "timepoint": 87,
           "trajectory": "Baseline_Trajectory_Mean",
           "value": 3.2030367280676226
          },
          {
           "color_by": "Trajectory Mean",
           "sample_id": 0,
           "timepoint": 88,
           "trajectory": "Baseline_Trajectory_Mean",
           "value": 3.2477424199590437
          },
          {
           "color_by": "Trajectory Mean",
           "sample_id": 0,
           "timepoint": 89,
           "trajectory": "Baseline_Trajectory_Mean",
           "value": 3.2871577734617845
          },
          {
           "color_by": "Trajectory Mean",
           "sample_id": 0,
           "timepoint": 90,
           "trajectory": "Baseline_Trajectory_Mean",
           "value": 3.3205564445293563
          },
          {
           "color_by": "Trajectory Mean",
           "sample_id": 0,
           "timepoint": 91,
           "trajectory": "Baseline_Trajectory_Mean",
           "value": 3.3502393481538046
          },
          {
           "color_by": "Trajectory Mean",
           "sample_id": 0,
           "timepoint": 92,
           "trajectory": "Baseline_Trajectory_Mean",
           "value": 3.382872282896319
          },
          {
           "color_by": "Trajectory Mean",
           "sample_id": 0,
           "timepoint": 93,
           "trajectory": "Baseline_Trajectory_Mean",
           "value": 3.4237509326579714
          },
          {
           "color_by": "Trajectory Mean",
           "sample_id": 0,
           "timepoint": 94,
           "trajectory": "Baseline_Trajectory_Mean",
           "value": 3.468785382379769
          },
          {
           "color_by": "Trajectory Mean",
           "sample_id": 0,
           "timepoint": 95,
           "trajectory": "Baseline_Trajectory_Mean",
           "value": 3.5030940926402043
          },
          {
           "color_by": "Trajectory Mean",
           "sample_id": 0,
           "timepoint": 96,
           "trajectory": "Baseline_Trajectory_Mean",
           "value": 3.509900533045805
          },
          {
           "color_by": "Trajectory Mean",
           "sample_id": 0,
           "timepoint": 97,
           "trajectory": "Baseline_Trajectory_Mean",
           "value": 3.4834352789518577
          },
          {
           "color_by": "Trajectory Mean",
           "sample_id": 0,
           "timepoint": 98,
           "trajectory": "Baseline_Trajectory_Mean",
           "value": 3.434591567846608
          },
          {
           "color_by": "Trajectory Mean",
           "sample_id": 0,
           "timepoint": 99,
           "trajectory": "Baseline_Trajectory_Mean",
           "value": 3.3835633181765
          },
          {
           "color_by": "Chaos",
           "sample_id": 0,
           "timepoint": 0,
           "trajectory": "Chaos",
           "value": 0.3536160468932858
          },
          {
           "color_by": "Chaos",
           "sample_id": 0,
           "timepoint": 1,
           "trajectory": "Chaos",
           "value": -0.36041855416270435
          },
          {
           "color_by": "Chaos",
           "sample_id": 0,
           "timepoint": 2,
           "trajectory": "Chaos",
           "value": -0.22361850925064006
          },
          {
           "color_by": "Chaos",
           "sample_id": 0,
           "timepoint": 3,
           "trajectory": "Chaos",
           "value": 1.5632735593656752
          },
          {
           "color_by": "Chaos",
           "sample_id": 0,
           "timepoint": 4,
           "trajectory": "Chaos",
           "value": 3.4246010667371523
          },
          {
           "color_by": "Chaos",
           "sample_id": 0,
           "timepoint": 5,
           "trajectory": "Chaos",
           "value": 3.6628090201007844
          },
          {
           "color_by": "Chaos",
           "sample_id": 0,
           "timepoint": 6,
           "trajectory": "Chaos",
           "value": 2.131232136727565
          },
          {
           "color_by": "Chaos",
           "sample_id": 0,
           "timepoint": 7,
           "trajectory": "Chaos",
           "value": 0.385378134582619
          },
          {
           "color_by": "Chaos",
           "sample_id": 0,
           "timepoint": 8,
           "trajectory": "Chaos",
           "value": 0.179301011070986
          },
          {
           "color_by": "Chaos",
           "sample_id": 0,
           "timepoint": 9,
           "trajectory": "Chaos",
           "value": 1.767622463656589
          },
          {
           "color_by": "Chaos",
           "sample_id": 0,
           "timepoint": 10,
           "trajectory": "Chaos",
           "value": 3.660234639451647
          },
          {
           "color_by": "Chaos",
           "sample_id": 0,
           "timepoint": 11,
           "trajectory": "Chaos",
           "value": 4.067889289655126
          },
          {
           "color_by": "Chaos",
           "sample_id": 0,
           "timepoint": 12,
           "trajectory": "Chaos",
           "value": 2.6374819775785125
          },
          {
           "color_by": "Chaos",
           "sample_id": 0,
           "timepoint": 13,
           "trajectory": "Chaos",
           "value": 0.7949110532257138
          },
          {
           "color_by": "Chaos",
           "sample_id": 0,
           "timepoint": 14,
           "trajectory": "Chaos",
           "value": 0.36319784641947556
          },
          {
           "color_by": "Chaos",
           "sample_id": 0,
           "timepoint": 15,
           "trajectory": "Chaos",
           "value": 1.7955351216907594
          },
          {
           "color_by": "Chaos",
           "sample_id": 0,
           "timepoint": 16,
           "trajectory": "Chaos",
           "value": 3.7362153208328617
          },
          {
           "color_by": "Chaos",
           "sample_id": 0,
           "timepoint": 17,
           "trajectory": "Chaos",
           "value": 4.3351024477673255
          },
          {
           "color_by": "Chaos",
           "sample_id": 0,
           "timepoint": 18,
           "trajectory": "Chaos",
           "value": 3.0413777477374686
          },
          {
           "color_by": "Chaos",
           "sample_id": 0,
           "timepoint": 19,
           "trajectory": "Chaos",
           "value": 1.1376661206626206
          },
          {
           "color_by": "Chaos",
           "sample_id": 0,
           "timepoint": 20,
           "trajectory": "Chaos",
           "value": 0.49675402761152493
          },
          {
           "color_by": "Chaos",
           "sample_id": 0,
           "timepoint": 21,
           "trajectory": "Chaos",
           "value": 1.7661718592068645
          },
          {
           "color_by": "Chaos",
           "sample_id": 0,
           "timepoint": 22,
           "trajectory": "Chaos",
           "value": 3.7405549767444355
          },
          {
           "color_by": "Chaos",
           "sample_id": 0,
           "timepoint": 23,
           "trajectory": "Chaos",
           "value": 4.530234825081397
          },
          {
           "color_by": "Chaos",
           "sample_id": 0,
           "timepoint": 24,
           "trajectory": "Chaos",
           "value": 3.3932010811780966
          },
          {
           "color_by": "Chaos",
           "sample_id": 0,
           "timepoint": 25,
           "trajectory": "Chaos",
           "value": 1.4544870799955405
          },
          {
           "color_by": "Chaos",
           "sample_id": 0,
           "timepoint": 26,
           "trajectory": "Chaos",
           "value": 0.6155898193012572
          },
          {
           "color_by": "Chaos",
           "sample_id": 0,
           "timepoint": 27,
           "trajectory": "Chaos",
           "value": 1.711160832238796
          },
          {
           "color_by": "Chaos",
           "sample_id": 0,
           "timepoint": 28,
           "trajectory": "Chaos",
           "value": 3.699918255972922
          },
          {
           "color_by": "Chaos",
           "sample_id": 0,
           "timepoint": 29,
           "trajectory": "Chaos",
           "value": 4.674130666142916
          },
          {
           "color_by": "Chaos",
           "sample_id": 0,
           "timepoint": 30,
           "trajectory": "Chaos",
           "value": 3.709054680609619
          },
          {
           "color_by": "Chaos",
           "sample_id": 0,
           "timepoint": 31,
           "trajectory": "Chaos",
           "value": 1.7594362815575033
          },
          {
           "color_by": "Chaos",
           "sample_id": 0,
           "timepoint": 32,
           "trajectory": "Chaos",
           "value": 0.7339857236827947
          },
          {
           "color_by": "Chaos",
           "sample_id": 0,
           "timepoint": 33,
           "trajectory": "Chaos",
           "value": 1.6450532967552194
          },
          {
           "color_by": "Chaos",
           "sample_id": 0,
           "timepoint": 34,
           "trajectory": "Chaos",
           "value": 3.627256320383492
          },
          {
           "color_by": "Chaos",
           "sample_id": 0,
           "timepoint": 35,
           "trajectory": "Chaos",
           "value": 4.776424891219116
          },
          {
           "color_by": "Chaos",
           "sample_id": 0,
           "timepoint": 36,
           "trajectory": "Chaos",
           "value": 3.9955718508481923
          },
          {
           "color_by": "Chaos",
           "sample_id": 0,
           "timepoint": 37,
           "trajectory": "Chaos",
           "value": 2.058358228747309
          },
          {
           "color_by": "Chaos",
           "sample_id": 0,
           "timepoint": 38,
           "trajectory": "Chaos",
           "value": 0.8591046273524069
          },
          {
           "color_by": "Chaos",
           "sample_id": 0,
           "timepoint": 39,
           "trajectory": "Chaos",
           "value": 1.5764062059194432
          },
          {
           "color_by": "Chaos",
           "sample_id": 0,
           "timepoint": 40,
           "trajectory": "Chaos",
           "value": 3.5305884399491405
          },
          {
           "color_by": "Chaos",
           "sample_id": 0,
           "timepoint": 41,
           "trajectory": "Chaos",
           "value": 4.842614410651005
          },
          {
           "color_by": "Chaos",
           "sample_id": 0,
           "timepoint": 42,
           "trajectory": "Chaos",
           "value": 4.255682701849745
          },
          {
           "color_by": "Chaos",
           "sample_id": 0,
           "timepoint": 43,
           "trajectory": "Chaos",
           "value": 2.353613941687042
          },
          {
           "color_by": "Chaos",
           "sample_id": 0,
           "timepoint": 44,
           "trajectory": "Chaos",
           "value": 0.994892021975838
          },
          {
           "color_by": "Chaos",
           "sample_id": 0,
           "timepoint": 45,
           "trajectory": "Chaos",
           "value": 1.5110145025107478
          },
          {
           "color_by": "Chaos",
           "sample_id": 0,
           "timepoint": 46,
           "trajectory": "Chaos",
           "value": 3.4157159353941386
          },
          {
           "color_by": "Chaos",
           "sample_id": 0,
           "timepoint": 47,
           "trajectory": "Chaos",
           "value": 4.876374995216571
          },
          {
           "color_by": "Chaos",
           "sample_id": 0,
           "timepoint": 48,
           "trajectory": "Chaos",
           "value": 4.490611734412581
          },
          {
           "color_by": "Chaos",
           "sample_id": 0,
           "timepoint": 49,
           "trajectory": "Chaos",
           "value": 2.6457976929579186
          },
          {
           "color_by": "Chaos",
           "sample_id": 0,
           "timepoint": 50,
           "trajectory": "Chaos",
           "value": 1.1435361809094697
          },
          {
           "color_by": "Chaos",
           "sample_id": 0,
           "timepoint": 51,
           "trajectory": "Chaos",
           "value": 1.4531508707848477
          },
          {
           "color_by": "Chaos",
           "sample_id": 0,
           "timepoint": 52,
           "trajectory": "Chaos",
           "value": 3.2872940829198716
          },
          {
           "color_by": "Chaos",
           "sample_id": 0,
           "timepoint": 53,
           "trajectory": "Chaos",
           "value": 4.880515347390351
          },
          {
           "color_by": "Chaos",
           "sample_id": 0,
           "timepoint": 54,
           "trajectory": "Chaos",
           "value": 4.700739016448992
          },
          {
           "color_by": "Chaos",
           "sample_id": 0,
           "timepoint": 55,
           "trajectory": "Chaos",
           "value": 2.9345022290830305
          },
          {
           "color_by": "Chaos",
           "sample_id": 0,
           "timepoint": 56,
           "trajectory": "Chaos",
           "value": 1.3061268367852141
          },
          {
           "color_by": "Chaos",
           "sample_id": 0,
           "timepoint": 57,
           "trajectory": "Chaos",
           "value": 1.4061245181223492
          },
          {
           "color_by": "Chaos",
           "sample_id": 0,
           "timepoint": 58,
           "trajectory": "Chaos",
           "value": 3.1493205219392824
          },
          {
           "color_by": "Chaos",
           "sample_id": 0,
           "timepoint": 59,
           "trajectory": "Chaos",
           "value": 4.857429030890503
          },
          {
           "color_by": "Chaos",
           "sample_id": 0,
           "timepoint": 60,
           "trajectory": "Chaos",
           "value": 4.886029561559206
          },
          {
           "color_by": "Chaos",
           "sample_id": 0,
           "timepoint": 61,
           "trajectory": "Chaos",
           "value": 3.218713257687124
          },
          {
           "color_by": "Chaos",
           "sample_id": 0,
           "timepoint": 62,
           "trajectory": "Chaos",
           "value": 1.48299424941077
          },
          {
           "color_by": "Chaos",
           "sample_id": 0,
           "timepoint": 63,
           "trajectory": "Chaos",
           "value": 1.3725612257009823
          },
          {
           "color_by": "Chaos",
           "sample_id": 0,
           "timepoint": 64,
           "trajectory": "Chaos",
           "value": 3.0053775753695424
          },
          {
           "color_by": "Chaos",
           "sample_id": 0,
           "timepoint": 65,
           "trajectory": "Chaos",
           "value": 4.809328435269444
          },
          {
           "color_by": "Chaos",
           "sample_id": 0,
           "timepoint": 66,
           "trajectory": "Chaos",
           "value": 5.046271234909246
          },
          {
           "color_by": "Chaos",
           "sample_id": 0,
           "timepoint": 67,
           "trajectory": "Chaos",
           "value": 3.4970374582502917
          },
          {
           "color_by": "Chaos",
           "sample_id": 0,
           "timepoint": 68,
           "trajectory": "Chaos",
           "value": 1.6739032524870903
          },
          {
           "color_by": "Chaos",
           "sample_id": 0,
           "timepoint": 69,
           "trajectory": "Chaos",
           "value": 1.3545546289851351
          },
          {
           "color_by": "Chaos",
           "sample_id": 0,
           "timepoint": 70,
           "trajectory": "Chaos",
           "value": 2.858757653421533
          },
          {
           "color_by": "Chaos",
           "sample_id": 0,
           "timepoint": 71,
           "trajectory": "Chaos",
           "value": 4.738372168141477
          },
          {
           "color_by": "Chaos",
           "sample_id": 0,
           "timepoint": 72,
           "trajectory": "Chaos",
           "value": 5.181217416654991
          },
          {
           "color_by": "Chaos",
           "sample_id": 0,
           "timepoint": 73,
           "trajectory": "Chaos",
           "value": 3.7678475216589256
          },
          {
           "color_by": "Chaos",
           "sample_id": 0,
           "timepoint": 74,
           "trajectory": "Chaos",
           "value": 1.8781752279860096
          },
          {
           "color_by": "Chaos",
           "sample_id": 0,
           "timepoint": 75,
           "trajectory": "Chaos",
           "value": 1.3537528032506378
          },
          {
           "color_by": "Chaos",
           "sample_id": 0,
           "timepoint": 76,
           "trajectory": "Chaos",
           "value": 2.7125280781971672
          },
          {
           "color_by": "Chaos",
           "sample_id": 0,
           "timepoint": 77,
           "trajectory": "Chaos",
           "value": 4.646735275477803
          },
          {
           "color_by": "Chaos",
           "sample_id": 0,
           "timepoint": 78,
           "trajectory": "Chaos",
           "value": 5.2906776790108525
          },
          {
           "color_by": "Chaos",
           "sample_id": 0,
           "timepoint": 79,
           "trajectory": "Chaos",
           "value": 4.0293822754804465
          },
          {
           "color_by": "Chaos",
           "sample_id": 0,
           "timepoint": 80,
           "trajectory": "Chaos",
           "value": 2.0947718335418357
          },
          {
           "color_by": "Chaos",
           "sample_id": 0,
           "timepoint": 81,
           "trajectory": "Chaos",
           "value": 1.3714104670987217
          },
          {
           "color_by": "Chaos",
           "sample_id": 0,
           "timepoint": 82,
           "trajectory": "Chaos",
           "value": 2.5695624712533696
          },
          {
           "color_by": "Chaos",
           "sample_id": 0,
           "timepoint": 83,
           "trajectory": "Chaos",
           "value": 4.536646379382602
          },
          {
           "color_by": "Chaos",
           "sample_id": 0,
           "timepoint": 84,
           "trajectory": "Chaos",
           "value": 5.374577709324828
          },
          {
           "color_by": "Chaos",
           "sample_id": 0,
           "timepoint": 85,
           "trajectory": "Chaos",
           "value": 4.2798207109850885
          },
          {
           "color_by": "Chaos",
           "sample_id": 0,
           "timepoint": 86,
           "trajectory": "Chaos",
           "value": 2.322357448677989
          },
          {
           "color_by": "Chaos",
           "sample_id": 0,
           "timepoint": 87,
           "trajectory": "Chaos",
           "value": 1.4084223280499302
          },
          {
           "color_by": "Chaos",
           "sample_id": 0,
           "timepoint": 88,
           "trajectory": "Chaos",
           "value": 2.4325528714560174
          },
          {
           "color_by": "Chaos",
           "sample_id": 0,
           "timepoint": 89,
           "trajectory": "Chaos",
           "value": 4.4104044227934756
          },
          {
           "color_by": "Chaos",
           "sample_id": 0,
           "timepoint": 90,
           "trajectory": "Chaos",
           "value": 5.432999654810544
          },
          {
           "color_by": "Chaos",
           "sample_id": 0,
           "timepoint": 91,
           "trajectory": "Chaos",
           "value": 4.517339809531253
          },
          {
           "color_by": "Chaos",
           "sample_id": 0,
           "timepoint": 92,
           "trajectory": "Chaos",
           "value": 2.5593493708980195
          },
          {
           "color_by": "Chaos",
           "sample_id": 0,
           "timepoint": 93,
           "trajectory": "Chaos",
           "value": 1.4653460390666766
          },
          {
           "color_by": "Chaos",
           "sample_id": 0,
           "timepoint": 94,
           "trajectory": "Chaos",
           "value": 2.304010494010828
          },
          {
           "color_by": "Chaos",
           "sample_id": 0,
           "timepoint": 95,
           "trajectory": "Chaos",
           "value": 4.270382163648272
          },
          {
           "color_by": "Chaos",
           "sample_id": 0,
           "timepoint": 96,
           "trajectory": "Chaos",
           "value": 5.4662091211388235
          },
          {
           "color_by": "Chaos",
           "sample_id": 0,
           "timepoint": 97,
           "trajectory": "Chaos",
           "value": 4.74016162400846
          },
          {
           "color_by": "Chaos",
           "sample_id": 0,
           "timepoint": 98,
           "trajectory": "Chaos",
           "value": 2.803960782481715
          },
          {
           "color_by": "Chaos",
           "sample_id": 0,
           "timepoint": 99,
           "trajectory": "Chaos",
           "value": 1.5424196249675814
          },
          {
           "color_by": "Mean",
           "sample_id": 0,
           "timepoint": 0,
           "trajectory": "Mean",
           "value": 0.40701413787506324
          },
          {
           "color_by": "Mean",
           "sample_id": 0,
           "timepoint": 1,
           "trajectory": "Mean",
           "value": 1.1700130273318718
          },
          {
           "color_by": "Mean",
           "sample_id": 0,
           "timepoint": 2,
           "trajectory": "Mean",
           "value": 1.1369546129487529
          },
          {
           "color_by": "Mean",
           "sample_id": 0,
           "timepoint": 3,
           "trajectory": "Mean",
           "value": 1.07011095676165
          },
          {
           "color_by": "Mean",
           "sample_id": 0,
           "timepoint": 4,
           "trajectory": "Mean",
           "value": 1.0151389113287532
          },
          {
           "color_by": "Mean",
           "sample_id": 0,
           "timepoint": 5,
           "trajectory": "Mean",
           "value": 0.9932812319907858
          },
          {
           "color_by": "Mean",
           "sample_id": 0,
           "timepoint": 6,
           "trajectory": "Mean",
           "value": 1.0165464288953827
          },
          {
           "color_by": "Mean",
           "sample_id": 0,
           "timepoint": 7,
           "trajectory": "Mean",
           "value": 1.0909794217634246
          },
          {
           "color_by": "Mean",
           "sample_id": 0,
           "timepoint": 8,
           "trajectory": "Mean",
           "value": 1.2177437056072704
          },
          {
           "color_by": "Mean",
           "sample_id": 0,
           "timepoint": 9,
           "trajectory": "Mean",
           "value": 1.3937081924559331
          },
          {
           "color_by": "Mean",
           "sample_id": 0,
           "timepoint": 10,
           "trajectory": "Mean",
           "value": 1.6119859775372218
          },
          {
           "color_by": "Mean",
           "sample_id": 0,
           "timepoint": 11,
           "trajectory": "Mean",
           "value": 1.8625615249033491
          },
          {
           "color_by": "Mean",
           "sample_id": 0,
           "timepoint": 12,
           "trajectory": "Mean",
           "value": 2.133037666129712
          },
          {
           "color_by": "Mean",
           "sample_id": 0,
           "timepoint": 13,
           "trajectory": "Mean",
           "value": 2.4094888024288834
          },
          {
           "color_by": "Mean",
           "sample_id": 0,
           "timepoint": 14,
           "trajectory": "Mean",
           "value": 2.6773840427032476
          },
          {
           "color_by": "Mean",
           "sample_id": 0,
           "timepoint": 15,
           "trajectory": "Mean",
           "value": 2.9225321013054053
          },
          {
           "color_by": "Mean",
           "sample_id": 0,
           "timepoint": 16,
           "trajectory": "Mean",
           "value": 3.1319945803477443
          },
          {
           "color_by": "Mean",
           "sample_id": 0,
           "timepoint": 17,
           "trajectory": "Mean",
           "value": 3.294914142997203
          },
          {
           "color_by": "Mean",
           "sample_id": 0,
           "timepoint": 18,
           "trajectory": "Mean",
           "value": 3.4032081852728493
          },
          {
           "color_by": "Mean",
           "sample_id": 0,
           "timepoint": 19,
           "trajectory": "Mean",
           "value": 3.4520862651839854
          },
          {
           "color_by": "Mean",
           "sample_id": 0,
           "timepoint": 20,
           "trajectory": "Mean",
           "value": 3.440360064260329
          },
          {
           "color_by": "Mean",
           "sample_id": 0,
           "timepoint": 21,
           "trajectory": "Mean",
           "value": 3.3705272722344275
          },
          {
           "color_by": "Mean",
           "sample_id": 0,
           "timepoint": 22,
           "trajectory": "Mean",
           "value": 3.248624654448482
          },
          {
           "color_by": "Mean",
           "sample_id": 0,
           "timepoint": 23,
           "trajectory": "Mean",
           "value": 3.0838597853703544
          },
          {
           "color_by": "Mean",
           "sample_id": 0,
           "timepoint": 24,
           "trajectory": "Mean",
           "value": 2.88804460466382
          },
          {
           "color_by": "Mean",
           "sample_id": 0,
           "timepoint": 25,
           "trajectory": "Mean",
           "value": 2.67486621128188
          },
          {
           "color_by": "Mean",
           "sample_id": 0,
           "timepoint": 26,
           "trajectory": "Mean",
           "value": 2.459040385514497
          },
          {
           "color_by": "Mean",
           "sample_id": 0,
           "timepoint": 27,
           "trajectory": "Mean",
           "value": 2.255400587056308
          },
          {
           "color_by": "Mean",
           "sample_id": 0,
           "timepoint": 28,
           "trajectory": "Mean",
           "value": 2.0779791641256233
          },
          {
           "color_by": "Mean",
           "sample_id": 0,
           "timepoint": 29,
           "trajectory": "Mean",
           "value": 1.939137974166857
          },
          {
           "color_by": "Mean",
           "sample_id": 0,
           "timepoint": 30,
           "trajectory": "Mean",
           "value": 1.8488025301076445
          },
          {
           "color_by": "Mean",
           "sample_id": 0,
           "timepoint": 31,
           "trajectory": "Mean",
           "value": 1.8138473382705538
          },
          {
           "color_by": "Mean",
           "sample_id": 0,
           "timepoint": 32,
           "trajectory": "Mean",
           "value": 1.8376706849342113
          },
          {
           "color_by": "Mean",
           "sample_id": 0,
           "timepoint": 33,
           "trajectory": "Mean",
           "value": 1.9199853426218434
          },
          {
           "color_by": "Mean",
           "sample_id": 0,
           "timepoint": 34,
           "trajectory": "Mean",
           "value": 2.0568382368270313
          },
          {
           "color_by": "Mean",
           "sample_id": 0,
           "timepoint": 35,
           "trajectory": "Mean",
           "value": 2.2408578737842464
          },
          {
           "color_by": "Mean",
           "sample_id": 0,
           "timepoint": 36,
           "trajectory": "Mean",
           "value": 2.461714165198631
          },
          {
           "color_by": "Mean",
           "sample_id": 0,
           "timepoint": 37,
           "trajectory": "Mean",
           "value": 2.7067620770784737
          },
          {
           "color_by": "Mean",
           "sample_id": 0,
           "timepoint": 38,
           "trajectory": "Mean",
           "value": 2.9618290980858695
          },
          {
           "color_by": "Mean",
           "sample_id": 0,
           "timepoint": 39,
           "trajectory": "Mean",
           "value": 3.2120975788007766
          },
          {
           "color_by": "Mean",
           "sample_id": 0,
           "timepoint": 40,
           "trajectory": "Mean",
           "value": 3.44302709299552
          },
          {
           "color_by": "Mean",
           "sample_id": 0,
           "timepoint": 41,
           "trajectory": "Mean",
           "value": 3.641259482229222
          },
          {
           "color_by": "Mean",
           "sample_id": 0,
           "timepoint": 42,
           "trajectory": "Mean",
           "value": 3.7954503205474253
          },
          {
           "color_by": "Mean",
           "sample_id": 0,
           "timepoint": 43,
           "trajectory": "Mean",
           "value": 3.8969751099036896
          },
          {
           "color_by": "Mean",
           "sample_id": 0,
           "timepoint": 44,
           "trajectory": "Mean",
           "value": 3.94046630469683
          },
          {
           "color_by": "Mean",
           "sample_id": 0,
           "timepoint": 45,
           "trajectory": "Mean",
           "value": 3.9241477813078327
          },
          {
           "color_by": "Mean",
           "sample_id": 0,
           "timepoint": 46,
           "trajectory": "Mean",
           "value": 3.849945961777187
          },
          {
           "color_by": "Mean",
           "sample_id": 0,
           "timepoint": 47,
           "trajectory": "Mean",
           "value": 3.7233706867818235
          },
          {
           "color_by": "Mean",
           "sample_id": 0,
           "timepoint": 48,
           "trajectory": "Mean",
           "value": 3.553173248472012
          },
          {
           "color_by": "Mean",
           "sample_id": 0,
           "timepoint": 49,
           "trajectory": "Mean",
           "value": 3.350802848438791
          },
          {
           "color_by": "Mean",
           "sample_id": 0,
           "timepoint": 50,
           "trajectory": "Mean",
           "value": 3.1296952786736973
          },
          {
           "color_by": "Mean",
           "sample_id": 0,
           "timepoint": 51,
           "trajectory": "Mean",
           "value": 2.9044380546311714
          },
          {
           "color_by": "Mean",
           "sample_id": 0,
           "timepoint": 52,
           "trajectory": "Mean",
           "value": 2.6898639108390445
          },
          {
           "color_by": "Mean",
           "sample_id": 0,
           "timepoint": 53,
           "trajectory": "Mean",
           "value": 2.5001290233303863
          },
          {
           "color_by": "Mean",
           "sample_id": 0,
           "timepoint": 54,
           "trajectory": "Mean",
           "value": 2.3478332725686464
          },
          {
           "color_by": "Mean",
           "sample_id": 0,
           "timepoint": 55,
           "trajectory": "Mean",
           "value": 2.2432372464747283
          },
          {
           "color_by": "Mean",
           "sample_id": 0,
           "timepoint": 56,
           "trajectory": "Mean",
           "value": 2.193624668165786
          },
          {
           "color_by": "Mean",
           "sample_id": 0,
           "timepoint": 57,
           "trajectory": "Mean",
           "value": 2.202849891062014
          },
          {
           "color_by": "Mean",
           "sample_id": 0,
           "timepoint": 58,
           "trajectory": "Mean",
           "value": 2.271098597291897
          },
          {
           "color_by": "Mean",
           "sample_id": 0,
           "timepoint": 59,
           "trajectory": "Mean",
           "value": 2.394876579258879
          },
          {
           "color_by": "Mean",
           "sample_id": 0,
           "timepoint": 60,
           "trajectory": "Mean",
           "value": 2.5672273030194126
          },
          {
           "color_by": "Mean",
           "sample_id": 0,
           "timepoint": 61,
           "trajectory": "Mean",
           "value": 2.7781647274816437
          },
          {
           "color_by": "Mean",
           "sample_id": 0,
           "timepoint": 62,
           "trajectory": "Mean",
           "value": 3.015294469783425
          },
          {
           "color_by": "Mean",
           "sample_id": 0,
           "timepoint": 63,
           "trajectory": "Mean",
           "value": 3.2645846966774736
          },
          {
           "color_by": "Mean",
           "sample_id": 0,
           "timepoint": 64,
           "trajectory": "Mean",
           "value": 3.5112388124433713
          },
          {
           "color_by": "Mean",
           "sample_id": 0,
           "timepoint": 65,
           "trajectory": "Mean",
           "value": 3.740615684567609
          },
          {
           "color_by": "Mean",
           "sample_id": 0,
           "timepoint": 66,
           "trajectory": "Mean",
           "value": 3.9391401927071463
          },
          {
           "color_by": "Mean",
           "sample_id": 0,
           "timepoint": 67,
           "trajectory": "Mean",
           "value": 4.095147488051062
          },
          {
           "color_by": "Mean",
           "sample_id": 0,
           "timepoint": 68,
           "trajectory": "Mean",
           "value": 4.199608471713701
          },
          {
           "color_by": "Mean",
           "sample_id": 0,
           "timepoint": 69,
           "trajectory": "Mean",
           "value": 4.2466913859747635
          },
          {
           "color_by": "Mean",
           "sample_id": 0,
           "timepoint": 70,
           "trajectory": "Mean",
           "value": 4.2341246018516525
          },
          {
           "color_by": "Mean",
           "sample_id": 0,
           "timepoint": 71,
           "trajectory": "Mean",
           "value": 4.163338047102511
          },
          {
           "color_by": "Mean",
           "sample_id": 0,
           "timepoint": 72,
           "trajectory": "Mean",
           "value": 4.039374481791187
          },
          {
           "color_by": "Mean",
           "sample_id": 0,
           "timepoint": 73,
           "trajectory": "Mean",
           "value": 3.8705761382790334
          },
          {
           "color_by": "Mean",
           "sample_id": 0,
           "timepoint": 74,
           "trajectory": "Mean",
           "value": 3.6680662092325784
          },
          {
           "color_by": "Mean",
           "sample_id": 0,
           "timepoint": 75,
           "trajectory": "Mean",
           "value": 3.4450574225673596
          },
          {
           "color_by": "Mean",
           "sample_id": 0,
           "timepoint": 76,
           "trajectory": "Mean",
           "value": 3.2160306931215525
          },
          {
           "color_by": "Mean",
           "sample_id": 0,
           "timepoint": 77,
           "trajectory": "Mean",
           "value": 2.9958349188311013
          },
          {
           "color_by": "Mean",
           "sample_id": 0,
           "timepoint": 78,
           "trajectory": "Mean",
           "value": 2.798763892011087
          },
          {
           "color_by": "Mean",
           "sample_id": 0,
           "timepoint": 79,
           "trajectory": "Mean",
           "value": 2.6376677192015325
          },
          {
           "color_by": "Mean",
           "sample_id": 0,
           "timepoint": 80,
           "trajectory": "Mean",
           "value": 2.523153997443457
          },
          {
           "color_by": "Mean",
           "sample_id": 0,
           "timepoint": 81,
           "trajectory": "Mean",
           "value": 2.4629284142151424
          },
          {
           "color_by": "Mean",
           "sample_id": 0,
           "timepoint": 82,
           "trajectory": "Mean",
           "value": 2.4613157695561134
          },
          {
           "color_by": "Mean",
           "sample_id": 0,
           "timepoint": 83,
           "trajectory": "Mean",
           "value": 2.5189912011150595
          },
          {
           "color_by": "Mean",
           "sample_id": 0,
           "timepoint": 84,
           "trajectory": "Mean",
           "value": 2.632938323445672
          },
          {
           "color_by": "Mean",
           "sample_id": 0,
           "timepoint": 85,
           "trajectory": "Mean",
           "value": 2.7966368844338416
          },
          {
           "color_by": "Mean",
           "sample_id": 0,
           "timepoint": 86,
           "trajectory": "Mean",
           "value": 3.0004682714652464
          },
          {
           "color_by": "Mean",
           "sample_id": 0,
           "timepoint": 87,
           "trajectory": "Mean",
           "value": 3.232313655090568
          },
          {
           "color_by": "Mean",
           "sample_id": 0,
           "timepoint": 88,
           "trajectory": "Mean",
           "value": 3.4783075806696067
          },
          {
           "color_by": "Mean",
           "sample_id": 0,
           "timepoint": 89,
           "trajectory": "Mean",
           "value": 3.7237001534643817
          },
          {
           "color_by": "Mean",
           "sample_id": 0,
           "timepoint": 90,
           "trajectory": "Mean",
           "value": 3.953774210828445
          },
          {
           "color_by": "Mean",
           "sample_id": 0,
           "timepoint": 91,
           "trajectory": "Mean",
           "value": 4.15476045630068
          },
          {
           "color_by": "Mean",
           "sample_id": 0,
           "timepoint": 92,
           "trajectory": "Mean",
           "value": 4.314693657123655
          },
          {
           "color_by": "Mean",
           "sample_id": 0,
           "timepoint": 93,
           "trajectory": "Mean",
           "value": 4.424156671090696
          },
          {
           "color_by": "Mean",
           "sample_id": 0,
           "timepoint": 94,
           "trajectory": "Mean",
           "value": 4.476866042848705
          },
          {
           "color_by": "Mean",
           "sample_id": 0,
           "timepoint": 95,
           "trajectory": "Mean",
           "value": 4.470062760221721
          },
          {
           "color_by": "Mean",
           "sample_id": 0,
           "timepoint": 96,
           "trajectory": "Mean",
           "value": 4.40468387532103
          },
          {
           "color_by": "Mean",
           "sample_id": 0,
           "timepoint": 97,
           "trajectory": "Mean",
           "value": 4.285304319968619
          },
          {
           "color_by": "Mean",
           "sample_id": 0,
           "timepoint": 98,
           "trajectory": "Mean",
           "value": 4.119852533160535
          },
          {
           "color_by": "Mean",
           "sample_id": 0,
           "timepoint": 99,
           "trajectory": "Mean",
           "value": 3.919117581563973
          },
          {
           "color_by": "Variance",
           "sample_id": 0,
           "timepoint": 0,
           "trajectory": "Variance",
           "value": 0.40701413787506324
          },
          {
           "color_by": "Variance",
           "sample_id": 0,
           "timepoint": 1,
           "trajectory": "Variance",
           "value": 1.1700130273318718
          },
          {
           "color_by": "Variance",
           "sample_id": 0,
           "timepoint": 2,
           "trajectory": "Variance",
           "value": 1.1369546129487529
          },
          {
           "color_by": "Variance",
           "sample_id": 0,
           "timepoint": 3,
           "trajectory": "Variance",
           "value": 1.07011095676165
          },
          {
           "color_by": "Variance",
           "sample_id": 0,
           "timepoint": 4,
           "trajectory": "Variance",
           "value": 1.0151389113287532
          },
          {
           "color_by": "Variance",
           "sample_id": 0,
           "timepoint": 5,
           "trajectory": "Variance",
           "value": 0.9932812319907858
          },
          {
           "color_by": "Variance",
           "sample_id": 0,
           "timepoint": 6,
           "trajectory": "Variance",
           "value": 1.0165464288953827
          },
          {
           "color_by": "Variance",
           "sample_id": 0,
           "timepoint": 7,
           "trajectory": "Variance",
           "value": 1.0909794217634246
          },
          {
           "color_by": "Variance",
           "sample_id": 0,
           "timepoint": 8,
           "trajectory": "Variance",
           "value": 1.2177437056072704
          },
          {
           "color_by": "Variance",
           "sample_id": 0,
           "timepoint": 9,
           "trajectory": "Variance",
           "value": 1.3937081924559331
          },
          {
           "color_by": "Variance",
           "sample_id": 0,
           "timepoint": 10,
           "trajectory": "Variance",
           "value": 1.6119859775372218
          },
          {
           "color_by": "Variance",
           "sample_id": 0,
           "timepoint": 11,
           "trajectory": "Variance",
           "value": 1.8625615249033491
          },
          {
           "color_by": "Variance",
           "sample_id": 0,
           "timepoint": 12,
           "trajectory": "Variance",
           "value": 2.133037666129712
          },
          {
           "color_by": "Variance",
           "sample_id": 0,
           "timepoint": 13,
           "trajectory": "Variance",
           "value": 2.4094888024288834
          },
          {
           "color_by": "Variance",
           "sample_id": 0,
           "timepoint": 14,
           "trajectory": "Variance",
           "value": 2.6773840427032476
          },
          {
           "color_by": "Variance",
           "sample_id": 0,
           "timepoint": 15,
           "trajectory": "Variance",
           "value": 2.9225321013054053
          },
          {
           "color_by": "Variance",
           "sample_id": 0,
           "timepoint": 16,
           "trajectory": "Variance",
           "value": 3.1319945803477443
          },
          {
           "color_by": "Variance",
           "sample_id": 0,
           "timepoint": 17,
           "trajectory": "Variance",
           "value": 3.294914142997203
          },
          {
           "color_by": "Variance",
           "sample_id": 0,
           "timepoint": 18,
           "trajectory": "Variance",
           "value": 3.4032081852728493
          },
          {
           "color_by": "Variance",
           "sample_id": 0,
           "timepoint": 19,
           "trajectory": "Variance",
           "value": 3.4520862651839854
          },
          {
           "color_by": "Variance",
           "sample_id": 0,
           "timepoint": 20,
           "trajectory": "Variance",
           "value": 3.440360064260329
          },
          {
           "color_by": "Variance",
           "sample_id": 0,
           "timepoint": 21,
           "trajectory": "Variance",
           "value": 3.3705272722344275
          },
          {
           "color_by": "Variance",
           "sample_id": 0,
           "timepoint": 22,
           "trajectory": "Variance",
           "value": 3.248624654448482
          },
          {
           "color_by": "Variance",
           "sample_id": 0,
           "timepoint": 23,
           "trajectory": "Variance",
           "value": 3.0838597853703544
          },
          {
           "color_by": "Variance",
           "sample_id": 0,
           "timepoint": 24,
           "trajectory": "Variance",
           "value": 2.88804460466382
          },
          {
           "color_by": "Variance",
           "sample_id": 0,
           "timepoint": 25,
           "trajectory": "Variance",
           "value": 2.67486621128188
          },
          {
           "color_by": "Variance",
           "sample_id": 0,
           "timepoint": 26,
           "trajectory": "Variance",
           "value": 2.459040385514497
          },
          {
           "color_by": "Variance",
           "sample_id": 0,
           "timepoint": 27,
           "trajectory": "Variance",
           "value": 2.255400587056308
          },
          {
           "color_by": "Variance",
           "sample_id": 0,
           "timepoint": 28,
           "trajectory": "Variance",
           "value": 2.0779791641256233
          },
          {
           "color_by": "Variance",
           "sample_id": 0,
           "timepoint": 29,
           "trajectory": "Variance",
           "value": 1.939137974166857
          },
          {
           "color_by": "Variance",
           "sample_id": 0,
           "timepoint": 30,
           "trajectory": "Variance",
           "value": 1.8488025301076445
          },
          {
           "color_by": "Variance",
           "sample_id": 0,
           "timepoint": 31,
           "trajectory": "Variance",
           "value": 1.8138473382705538
          },
          {
           "color_by": "Variance",
           "sample_id": 0,
           "timepoint": 32,
           "trajectory": "Variance",
           "value": 1.8376706849342113
          },
          {
           "color_by": "Variance",
           "sample_id": 0,
           "timepoint": 33,
           "trajectory": "Variance",
           "value": 1.9199853426218434
          },
          {
           "color_by": "Variance",
           "sample_id": 0,
           "timepoint": 34,
           "trajectory": "Variance",
           "value": 2.0568382368270313
          },
          {
           "color_by": "Variance",
           "sample_id": 0,
           "timepoint": 35,
           "trajectory": "Variance",
           "value": 2.2408578737842464
          },
          {
           "color_by": "Variance",
           "sample_id": 0,
           "timepoint": 36,
           "trajectory": "Variance",
           "value": 2.461714165198631
          },
          {
           "color_by": "Variance",
           "sample_id": 0,
           "timepoint": 37,
           "trajectory": "Variance",
           "value": 2.7067620770784737
          },
          {
           "color_by": "Variance",
           "sample_id": 0,
           "timepoint": 38,
           "trajectory": "Variance",
           "value": 2.9618290980858695
          },
          {
           "color_by": "Variance",
           "sample_id": 0,
           "timepoint": 39,
           "trajectory": "Variance",
           "value": 3.2120975788007766
          },
          {
           "color_by": "Variance",
           "sample_id": 0,
           "timepoint": 40,
           "trajectory": "Variance",
           "value": 3.44302709299552
          },
          {
           "color_by": "Variance",
           "sample_id": 0,
           "timepoint": 41,
           "trajectory": "Variance",
           "value": 3.641259482229222
          },
          {
           "color_by": "Variance",
           "sample_id": 0,
           "timepoint": 42,
           "trajectory": "Variance",
           "value": 3.7954503205474253
          },
          {
           "color_by": "Variance",
           "sample_id": 0,
           "timepoint": 43,
           "trajectory": "Variance",
           "value": 3.8969751099036896
          },
          {
           "color_by": "Variance",
           "sample_id": 0,
           "timepoint": 44,
           "trajectory": "Variance",
           "value": 3.94046630469683
          },
          {
           "color_by": "Variance",
           "sample_id": 0,
           "timepoint": 45,
           "trajectory": "Variance",
           "value": 3.9241477813078327
          },
          {
           "color_by": "Variance",
           "sample_id": 0,
           "timepoint": 46,
           "trajectory": "Variance",
           "value": 3.849945961777187
          },
          {
           "color_by": "Variance",
           "sample_id": 0,
           "timepoint": 47,
           "trajectory": "Variance",
           "value": 3.7233706867818235
          },
          {
           "color_by": "Variance",
           "sample_id": 0,
           "timepoint": 48,
           "trajectory": "Variance",
           "value": 3.553173248472012
          },
          {
           "color_by": "Variance",
           "sample_id": 0,
           "timepoint": 49,
           "trajectory": "Variance",
           "value": 3.350802848438791
          },
          {
           "color_by": "Variance",
           "sample_id": 0,
           "timepoint": 50,
           "trajectory": "Variance",
           "value": 3.1296952786736973
          },
          {
           "color_by": "Variance",
           "sample_id": 0,
           "timepoint": 51,
           "trajectory": "Variance",
           "value": 2.9044380546311714
          },
          {
           "color_by": "Variance",
           "sample_id": 0,
           "timepoint": 52,
           "trajectory": "Variance",
           "value": 2.6898639108390445
          },
          {
           "color_by": "Variance",
           "sample_id": 0,
           "timepoint": 53,
           "trajectory": "Variance",
           "value": 2.5001290233303863
          },
          {
           "color_by": "Variance",
           "sample_id": 0,
           "timepoint": 54,
           "trajectory": "Variance",
           "value": 2.3478332725686464
          },
          {
           "color_by": "Variance",
           "sample_id": 0,
           "timepoint": 55,
           "trajectory": "Variance",
           "value": 2.2432372464747283
          },
          {
           "color_by": "Variance",
           "sample_id": 0,
           "timepoint": 56,
           "trajectory": "Variance",
           "value": 2.193624668165786
          },
          {
           "color_by": "Variance",
           "sample_id": 0,
           "timepoint": 57,
           "trajectory": "Variance",
           "value": 2.202849891062014
          },
          {
           "color_by": "Variance",
           "sample_id": 0,
           "timepoint": 58,
           "trajectory": "Variance",
           "value": 2.271098597291897
          },
          {
           "color_by": "Variance",
           "sample_id": 0,
           "timepoint": 59,
           "trajectory": "Variance",
           "value": 2.394876579258879
          },
          {
           "color_by": "Variance",
           "sample_id": 0,
           "timepoint": 60,
           "trajectory": "Variance",
           "value": 2.5672273030194126
          },
          {
           "color_by": "Variance",
           "sample_id": 0,
           "timepoint": 61,
           "trajectory": "Variance",
           "value": 2.7781647274816437
          },
          {
           "color_by": "Variance",
           "sample_id": 0,
           "timepoint": 62,
           "trajectory": "Variance",
           "value": 3.015294469783425
          },
          {
           "color_by": "Variance",
           "sample_id": 0,
           "timepoint": 63,
           "trajectory": "Variance",
           "value": 3.2645846966774736
          },
          {
           "color_by": "Variance",
           "sample_id": 0,
           "timepoint": 64,
           "trajectory": "Variance",
           "value": 3.5112388124433713
          },
          {
           "color_by": "Variance",
           "sample_id": 0,
           "timepoint": 65,
           "trajectory": "Variance",
           "value": 3.740615684567609
          },
          {
           "color_by": "Variance",
           "sample_id": 0,
           "timepoint": 66,
           "trajectory": "Variance",
           "value": 3.9391401927071463
          },
          {
           "color_by": "Variance",
           "sample_id": 0,
           "timepoint": 67,
           "trajectory": "Variance",
           "value": 4.095147488051062
          },
          {
           "color_by": "Variance",
           "sample_id": 0,
           "timepoint": 68,
           "trajectory": "Variance",
           "value": 4.199608471713701
          },
          {
           "color_by": "Variance",
           "sample_id": 0,
           "timepoint": 69,
           "trajectory": "Variance",
           "value": 4.2466913859747635
          },
          {
           "color_by": "Variance",
           "sample_id": 0,
           "timepoint": 70,
           "trajectory": "Variance",
           "value": 4.2341246018516525
          },
          {
           "color_by": "Variance",
           "sample_id": 0,
           "timepoint": 71,
           "trajectory": "Variance",
           "value": 4.163338047102511
          },
          {
           "color_by": "Variance",
           "sample_id": 0,
           "timepoint": 72,
           "trajectory": "Variance",
           "value": 4.039374481791187
          },
          {
           "color_by": "Variance",
           "sample_id": 0,
           "timepoint": 73,
           "trajectory": "Variance",
           "value": 3.8705761382790334
          },
          {
           "color_by": "Variance",
           "sample_id": 0,
           "timepoint": 74,
           "trajectory": "Variance",
           "value": 3.6680662092325784
          },
          {
           "color_by": "Variance",
           "sample_id": 0,
           "timepoint": 75,
           "trajectory": "Variance",
           "value": 3.4450574225673596
          },
          {
           "color_by": "Variance",
           "sample_id": 0,
           "timepoint": 76,
           "trajectory": "Variance",
           "value": 3.2160306931215525
          },
          {
           "color_by": "Variance",
           "sample_id": 0,
           "timepoint": 77,
           "trajectory": "Variance",
           "value": 2.9958349188311013
          },
          {
           "color_by": "Variance",
           "sample_id": 0,
           "timepoint": 78,
           "trajectory": "Variance",
           "value": 2.798763892011087
          },
          {
           "color_by": "Variance",
           "sample_id": 0,
           "timepoint": 79,
           "trajectory": "Variance",
           "value": 2.6376677192015325
          },
          {
           "color_by": "Variance",
           "sample_id": 0,
           "timepoint": 80,
           "trajectory": "Variance",
           "value": 2.523153997443457
          },
          {
           "color_by": "Variance",
           "sample_id": 0,
           "timepoint": 81,
           "trajectory": "Variance",
           "value": 2.4629284142151424
          },
          {
           "color_by": "Variance",
           "sample_id": 0,
           "timepoint": 82,
           "trajectory": "Variance",
           "value": 2.4613157695561134
          },
          {
           "color_by": "Variance",
           "sample_id": 0,
           "timepoint": 83,
           "trajectory": "Variance",
           "value": 2.5189912011150595
          },
          {
           "color_by": "Variance",
           "sample_id": 0,
           "timepoint": 84,
           "trajectory": "Variance",
           "value": 2.632938323445672
          },
          {
           "color_by": "Variance",
           "sample_id": 0,
           "timepoint": 85,
           "trajectory": "Variance",
           "value": 2.7966368844338416
          },
          {
           "color_by": "Variance",
           "sample_id": 0,
           "timepoint": 86,
           "trajectory": "Variance",
           "value": 3.0004682714652464
          },
          {
           "color_by": "Variance",
           "sample_id": 0,
           "timepoint": 87,
           "trajectory": "Variance",
           "value": 3.232313655090568
          },
          {
           "color_by": "Variance",
           "sample_id": 0,
           "timepoint": 88,
           "trajectory": "Variance",
           "value": 3.4783075806696067
          },
          {
           "color_by": "Variance",
           "sample_id": 0,
           "timepoint": 89,
           "trajectory": "Variance",
           "value": 3.7237001534643817
          },
          {
           "color_by": "Variance",
           "sample_id": 0,
           "timepoint": 90,
           "trajectory": "Variance",
           "value": 3.953774210828445
          },
          {
           "color_by": "Variance",
           "sample_id": 0,
           "timepoint": 91,
           "trajectory": "Variance",
           "value": 4.15476045630068
          },
          {
           "color_by": "Variance",
           "sample_id": 0,
           "timepoint": 92,
           "trajectory": "Variance",
           "value": 4.314693657123655
          },
          {
           "color_by": "Variance",
           "sample_id": 0,
           "timepoint": 93,
           "trajectory": "Variance",
           "value": 4.424156671090696
          },
          {
           "color_by": "Variance",
           "sample_id": 0,
           "timepoint": 94,
           "trajectory": "Variance",
           "value": 4.476866042848705
          },
          {
           "color_by": "Variance",
           "sample_id": 0,
           "timepoint": 95,
           "trajectory": "Variance",
           "value": 4.470062760221721
          },
          {
           "color_by": "Variance",
           "sample_id": 0,
           "timepoint": 96,
           "trajectory": "Variance",
           "value": 4.40468387532103
          },
          {
           "color_by": "Variance",
           "sample_id": 0,
           "timepoint": 97,
           "trajectory": "Variance",
           "value": 4.285304319968619
          },
          {
           "color_by": "Variance",
           "sample_id": 0,
           "timepoint": 98,
           "trajectory": "Variance",
           "value": 4.119852533160535
          },
          {
           "color_by": "Variance",
           "sample_id": 0,
           "timepoint": 99,
           "trajectory": "Variance",
           "value": 3.919117581563973
          }
         ]
        },
        {
         "name": "points",
         "values": []
        },
        {
         "name": "markers",
         "values": []
        },
        {
         "name": "selected",
         "on": [
          {
           "remove": true,
           "trigger": "clear"
          },
          {
           "remove": true,
           "trigger": "!shift"
          },
          {
           "insert": "clicked",
           "trigger": "!shift && clicked"
          },
          {
           "toggle": "clicked",
           "trigger": "shift && clicked"
          }
         ]
        },
        {
         "name": "selectedData",
         "on": [
          {
           "remove": true,
           "trigger": "clearData"
          },
          {
           "toggle": "clickedData",
           "trigger": "clickedData"
          }
         ]
        }
       ],
       "height": 300,
       "legends": [
        {
         "encode": {
          "labels": {
           "interactive": true,
           "name": "legendLabel",
           "update": {
            "opacity": [
             {
              "test": "!length(data('selectedData')) || indata('selectedData', 'value', datum.value)",
              "value": 1
             },
             {
              "value": 0.25
             }
            ]
           }
          },
          "symbols": {
           "interactive": true,
           "name": "legendSymbol",
           "update": {
            "fill": {
             "value": "transparent"
            },
            "opacity": [
             {
              "test": "!length(data('selected')) || indata('selected', 'value', datum.value) || indata('selectedData', 'value', datum.value)",
              "value": 0.7
             },
             {
              "value": 0.15
             }
            ],
            "size": {
             "value": 64
            },
            "strokeWidth": {
             "value": 2
            }
           }
          }
         },
         "name": "color_legend",
         "orient": "left",
         "stroke": "color"
        }
       ],
       "marks": [
        {
         "from": {
          "facet": {
           "data": "points",
           "groupby": "trajectory",
           "name": "points_split"
          }
         },
         "marks": [
          {
           "encode": {
            "hover": {
             "fillOpacity": {
              "value": 0.9
             }
            },
            "update": {
             "fill": {
              "field": "trajectory",
              "scale": "color"
             },
             "fillOpacity": [
              {
               "test": "!length(data('selected')) || indata('selected', 'value', datum.trajectory)",
               "value": 0.5
              },
              {
               "value": 0.15
              }
             ],
             "size": {
              "value": 35
             },
             "stroke": {
              "field": "trajectory",
              "scale": "color"
             },
             "strokeOpacity": [
              {
               "test": "!length(data('selected')) || indata('selected', 'value', datum.trajectory)",
               "value": 0.75
              },
              {
               "value": 0.15
              }
             ],
             "strokeWidth": {
              "value": 2
             },
             "tooltip": {
              "field": "value"
             },
             "x": {
              "field": "timepoint",
              "scale": "xscale"
             },
             "y": {
              "field": "value",
              "scale": "yscale"
             }
            }
           },
           "from": {
            "data": "points_split"
           },
           "name": "_points_symbol",
           "type": "symbol",
           "zindex": 3
          },
          {
           "encode": {
            "hover": {
             "fillOpacity": {
              "value": 0.9
             }
            },
            "update": {
             "interpolate": {
              "value": "linear"
             },
             "stroke": {
              "field": "trajectory",
              "scale": "color"
             },
             "strokeDash": {
              "value": [
               5,
               3
              ]
             },
             "strokeOpacity": [
              {
               "test": "!length(data('selected')) || indata('selected', 'value', datum.trajectory)",
               "value": 0.3
              },
              {
               "value": 0.1
              }
             ],
             "strokeWidth": {
              "value": 2
             },
             "x": {
              "field": "timepoint",
              "scale": "xscale"
             },
             "y": {
              "field": "value",
              "scale": "yscale"
             }
            }
           },
           "from": {
            "data": "points_split"
           },
           "name": "_points_line",
           "type": "line",
           "zindex": 3
          }
         ],
         "name": "_points",
         "type": "group",
         "zindex": 3
        },
        {
         "from": {
          "facet": {
           "data": "traces",
           "groupby": "trajectory",
           "name": "traces_split"
          }
         },
         "marks": [
          {
           "encode": {
            "hover": {
             "fillOpacity": {
              "value": 0.9
             }
            },
            "update": {
             "interpolate": {
              "value": "linear"
             },
             "stroke": {
              "field": "trajectory",
              "scale": "color"
             },
             "strokeDash": [
              {
               "test": "indexof(datum.trajectory, 'aseline') == -1",
               "value": [
                1,
                0
               ]
              },
              {
               "value": [
                8,
                4
               ]
              }
             ],
             "strokeOpacity": [
              {
               "test": "!length(data('selected')) || indata('selected', 'value', datum.trajectory)",
               "value": 0.75
              },
              {
               "value": 0.15
              }
             ],
             "strokeWidth": {
              "value": 2
             },
             "x": {
              "field": "timepoint",
              "scale": "xscale"
             },
             "y": {
              "field": "value",
              "scale": "yscale"
             }
            }
           },
           "from": {
            "data": "traces_split"
           },
           "name": "_traces_lines",
           "type": "line"
          }
         ],
         "name": "_traces",
         "type": "group",
         "zindex": 2
        },
        {
         "from": {
          "facet": {
           "data": "distributions",
           "groupby": "trajectory",
           "name": "trajectory_split"
          }
         },
         "marks": [
          {
           "encode": {
            "hover": {
             "fillOpacity": {
              "value": 0.9
             }
            },
            "update": {
             "fill": {
              "field": "trajectory",
              "scale": "color"
             },
             "fillOpacity": [
              {
               "test": "!length(data('selected')) || indata('selected', 'value', datum.trajectory)",
               "value": 0.1
              },
              {
               "value": 0.05
              }
             ],
             "interpolate": {
              "value": "linear"
             },
             "stroke": {
              "field": "trajectory",
              "scale": "color"
             },
             "strokeOpacity": [
              {
               "test": "!length(data('selected')) || indata('selected', 'value', datum.trajectory)",
               "value": 0.1
              },
              {
               "value": 0.05
              }
             ],
             "strokeWidth": {
              "value": 2
             },
             "x": {
              "field": "timepoint",
              "scale": "xscale"
             },
             "y": {
              "field": "upper",
              "scale": "yscale"
             },
             "y2": {
              "field": "lower",
              "scale": "yscale"
             }
            }
           },
           "from": {
            "data": "trajectory_split"
           },
           "interactive": true,
           "name": "area",
           "type": "area"
          }
         ],
         "name": "_distributions",
         "type": "group",
         "zindex": 1
        },
        {
         "marks": [
          {
           "encode": {
            "enter": {
             "stroke": {
              "value": "lightgray"
             }
            },
            "update": {
             "opacity": {
              "value": 1
             },
             "x": {
              "field": "timepoint",
              "scale": "xscale"
             },
             "y": {
              "signal": "height"
             },
             "y2": {
              "value": 0
             }
            }
           },
           "from": {
            "data": "markers"
           },
           "name": "_marker text",
           "type": "rule"
          },
          {
           "encode": {
            "enter": {
             "fontSize": {
              "value": 8
             },
             "text": {
              "field": "datum.label"
             },
             "y": {
              "value": 0
             }
            }
           },
           "from": {
            "data": "_marker text"
           },
           "name": "_marker flags",
           "transform": [
            {
             "as": [
              "x",
              "_y",
              "opacity",
              "align",
              "baseline"
             ],
             "lineAnchor": "start",
             "offset": [
              1
             ],
             "size": {
              "signal": "[width, height]"
             },
             "type": "label"
            }
           ],
           "type": "text"
          }
         ],
         "name": "_markers",
         "type": "group"
        }
       ],
       "scales": [
        {
         "domain": {
          "fields": [
           {
            "data": "distributions",
            "field": "timepoint"
           },
           {
            "data": "traces",
            "field": "timepoint"
           },
           {
            "data": "points",
            "field": "timepoint"
           },
           {
            "data": "markers",
            "field": "timepoint"
           }
          ]
         },
         "name": "xscale",
         "range": "width",
         "type": "linear",
         "zero": false
        },
        {
         "domain": {
          "fields": [
           {
            "data": "distributions",
            "field": "lower"
           },
           {
            "data": "distributions",
            "field": "upper"
           },
           {
            "data": "traces",
            "field": "value"
           },
           {
            "data": "points",
            "field": "value"
           }
          ]
         },
         "name": "yscale",
         "nice": true,
         "range": "height",
         "type": "linear",
         "zero": true
        },
        {
         "domain": {
          "fields": [
           {
            "data": "distributions",
            "field": "trajectory"
           },
           {
            "data": "traces",
            "field": "trajectory"
           },
           {
            "data": "points",
            "field": "trajectory"
           }
          ],
          "sort": {
           "order": "ascending"
          }
         },
         "name": "color",
         "range": "category",
         "type": "ordinal"
        }
       ],
       "signals": [
        {
         "name": "clear",
         "on": [
          {
           "events": "mouseup[!event.item]",
           "force": true,
           "update": "true"
          }
         ],
         "value": true
        },
        {
         "name": "shift",
         "on": [
          {
           "events": "@legendSymbol:click, @legendLabel:click",
           "force": true,
           "update": "event.shiftKey"
          }
         ],
         "value": false
        },
        {
         "name": "clicked",
         "on": [
          {
           "events": "@legendSymbol:click, @legendLabel:click",
           "force": true,
           "update": "{value: datum.value}"
          }
         ],
         "value": null
        },
        {
         "name": "clearData",
         "on": [
          {
           "events": "mouseup[!event.item]",
           "force": true,
           "update": "true"
          }
         ],
         "value": true
        },
        {
         "name": "clickedData",
         "on": [
          {
           "events": "@area:click",
           "force": true,
           "update": "{value: datum.trajectory}"
          }
         ],
         "value": null
        }
       ],
       "width": 500
      }
     },
     "metadata": {},
     "output_type": "display_data"
    },
    {
     "name": "stdout",
     "output_type": "stream",
     "text": [
      "\n"
     ]
    },
    {
     "data": {
      "application/vnd.vega.v5+json": {
       "$schema": "https://vega.github.io/schema/vega/v5.json",
       "axes": [
        {
         "name": "x_axis",
         "orient": "bottom",
         "scale": "xscale",
         "zindex": 100
        },
        {
         "name": "y_axis",
         "orient": "left",
         "scale": "yscale",
         "zindex": 100
        }
       ],
       "background": "white",
       "data": [
        {
         "name": "distributions",
         "transform": [
          {
           "sort": {
            "field": [
             "trajectory",
             "timepoint"
            ]
           },
           "type": "collect"
          }
         ],
         "values": [
          {
           "lower": -4.116707695856302,
           "timepoint": 0,
           "trajectory": "Example",
           "upper": 1.5362028537175654
          },
          {
           "lower": -3.111306329759352,
           "timepoint": 1,
           "trajectory": "Example",
           "upper": 3.0927507120286757
          },
          {
           "lower": -2.71613177747521,
           "timepoint": 2,
           "trajectory": "Example",
           "upper": 3.8742449298538437
          },
          {
           "lower": -2.3858558927099383,
           "timepoint": 3,
           "trajectory": "Example",
           "upper": 4.540749956443234
          },
          {
           "lower": -2.129904467777995,
           "timepoint": 4,
           "trajectory": "Example",
           "upper": 5.03475106386674
          },
          {
           "lower": -1.8820345118224893,
           "timepoint": 5,
           "trajectory": "Example",
           "upper": 5.455871834331185
          },
          {
           "lower": -1.6697039822166104,
           "timepoint": 6,
           "trajectory": "Example",
           "upper": 5.7765133728677975
          },
          {
           "lower": -1.2928356153596918,
           "timepoint": 7,
           "trajectory": "Example",
           "upper": 6.007526398521165
          },
          {
           "lower": -0.7642979999185688,
           "timepoint": 8,
           "trajectory": "Example",
           "upper": 6.029905646388027
          },
          {
           "lower": -0.10836985824402416,
           "timepoint": 9,
           "trajectory": "Example",
           "upper": 5.945327443884181
          },
          {
           "lower": 0.3547336497919378,
           "timepoint": 10,
           "trajectory": "Example",
           "upper": 5.717068526198751
          },
          {
           "lower": 0.17169451145838205,
           "timepoint": 11,
           "trajectory": "Example",
           "upper": 5.652112073184849
          },
          {
           "lower": -0.5335755349324,
           "timepoint": 12,
           "trajectory": "Example",
           "upper": 5.639463799065569
          },
          {
           "lower": -1.186790280217885,
           "timepoint": 13,
           "trajectory": "Example",
           "upper": 5.983752643333512
          },
          {
           "lower": -1.70901247666876,
           "timepoint": 14,
           "trajectory": "Example",
           "upper": 5.807452386960206
          },
          {
           "lower": -1.9949286891081521,
           "timepoint": 15,
           "trajectory": "Example",
           "upper": 5.586339204579516
          },
          {
           "lower": -2.082680237731126,
           "timepoint": 16,
           "trajectory": "Example",
           "upper": 5.419607079420076
          },
          {
           "lower": -2.146254592938449,
           "timepoint": 17,
           "trajectory": "Example",
           "upper": 5.398744135311525
          },
          {
           "lower": -2.1725483654344138,
           "timepoint": 18,
           "trajectory": "Example",
           "upper": 5.259401264664716
          },
          {
           "lower": -2.3762541536457493,
           "timepoint": 19,
           "trajectory": "Example",
           "upper": 4.77212287775988
          },
          {
           "lower": -2.212215433783685,
           "timepoint": 20,
           "trajectory": "Example",
           "upper": 4.29962994482481
          },
          {
           "lower": -1.8246845381768204,
           "timepoint": 21,
           "trajectory": "Example",
           "upper": 3.7859233569572015
          },
          {
           "lower": -1.3938405667811247,
           "timepoint": 22,
           "trajectory": "Example",
           "upper": 3.3364945829211066
          },
          {
           "lower": -1.3009201629001979,
           "timepoint": 23,
           "trajectory": "Example",
           "upper": 2.643038115904379
          },
          {
           "lower": -1.6722973056776607,
           "timepoint": 24,
           "trajectory": "Example",
           "upper": 3.0145180622052505
          },
          {
           "lower": -1.8273009943820568,
           "timepoint": 25,
           "trajectory": "Example",
           "upper": 3.6926441348578973
          },
          {
           "lower": -1.8386580445573837,
           "timepoint": 26,
           "trajectory": "Example",
           "upper": 4.288540053741028
          },
          {
           "lower": -1.7005595817793755,
           "timepoint": 27,
           "trajectory": "Example",
           "upper": 4.883807133606286
          },
          {
           "lower": -1.4332258582243906,
           "timepoint": 28,
           "trajectory": "Example",
           "upper": 5.460999699055779
          },
          {
           "lower": -1.2657047854299697,
           "timepoint": 29,
           "trajectory": "Example",
           "upper": 5.897844659322206
          },
          {
           "lower": -1.0503686750942283,
           "timepoint": 30,
           "trajectory": "Example",
           "upper": 6.221318463290176
          },
          {
           "lower": -0.9039943615845873,
           "timepoint": 31,
           "trajectory": "Example",
           "upper": 6.561816908512138
          },
          {
           "lower": -0.5924852133741629,
           "timepoint": 32,
           "trajectory": "Example",
           "upper": 6.748637345342871
          },
          {
           "lower": -0.1202655462311781,
           "timepoint": 33,
           "trajectory": "Example",
           "upper": 6.767158474642381
          },
          {
           "lower": 0.4860985130538229,
           "timepoint": 34,
           "trajectory": "Example",
           "upper": 6.672196339974201
          },
          {
           "lower": 0.9214742172942179,
           "timepoint": 35,
           "trajectory": "Example",
           "upper": 6.37872254204649
          },
          {
           "lower": 0.8942034248654569,
           "timepoint": 36,
           "trajectory": "Example",
           "upper": 6.33124916718262
          },
          {
           "lower": 0.16957610848542737,
           "timepoint": 37,
           "trajectory": "Example",
           "upper": 6.217079136051893
          },
          {
           "lower": -0.5150716079149174,
           "timepoint": 38,
           "trajectory": "Example",
           "upper": 6.536992350638796
          },
          {
           "lower": -1.0897856515751276,
           "timepoint": 39,
           "trajectory": "Example",
           "upper": 6.4428893443979645
          },
          {
           "lower": -1.4153258685397774,
           "timepoint": 40,
           "trajectory": "Example",
           "upper": 6.160839232874871
          },
          {
           "lower": -1.5508575835181715,
           "timepoint": 41,
           "trajectory": "Example",
           "upper": 5.961009688430121
          },
          {
           "lower": -1.5982449197203739,
           "timepoint": 42,
           "trajectory": "Example",
           "upper": 5.916802741942879
          },
          {
           "lower": -1.7012735633135778,
           "timepoint": 43,
           "trajectory": "Example",
           "upper": 5.785676450130492
          },
          {
           "lower": -1.8748634588786466,
           "timepoint": 44,
           "trajectory": "Example",
           "upper": 5.341013499312803
          },
          {
           "lower": -1.76878453381316,
           "timepoint": 45,
           "trajectory": "Example",
           "upper": 4.836029218197756
          },
          {
           "lower": -1.4283807601253604,
           "timepoint": 46,
           "trajectory": "Example",
           "upper": 4.328657474906731
          },
          {
           "lower": -0.970045691204674,
           "timepoint": 47,
           "trajectory": "Example",
           "upper": 3.8847880571952715
          },
          {
           "lower": -0.8189903934353988,
           "timepoint": 48,
           "trajectory": "Example",
           "upper": 3.184592365402966
          },
          {
           "lower": -1.2049736600196337,
           "timepoint": 49,
           "trajectory": "Example",
           "upper": 3.35382904791787
          },
          {
           "lower": -1.3483686336435292,
           "timepoint": 50,
           "trajectory": "Example",
           "upper": 4.034167553057252
          },
          {
           "lower": -1.4135921530005051,
           "timepoint": 51,
           "trajectory": "Example",
           "upper": 4.62772720514029
          },
          {
           "lower": -1.3494241876976227,
           "timepoint": 52,
           "trajectory": "Example",
           "upper": 5.207048708929896
          },
          {
           "lower": -1.0638582412281186,
           "timepoint": 53,
           "trajectory": "Example",
           "upper": 5.792362161986017
          },
          {
           "lower": -0.9148264042373871,
           "timepoint": 54,
           "trajectory": "Example",
           "upper": 6.241831634212817
          },
          {
           "lower": -0.677498879082989,
           "timepoint": 55,
           "trajectory": "Example",
           "upper": 6.528302866568261
          },
          {
           "lower": -0.5536811608674471,
           "timepoint": 56,
           "trajectory": "Example",
           "upper": 6.970185062970107
          },
          {
           "lower": -0.27183649798536624,
           "timepoint": 57,
           "trajectory": "Example",
           "upper": 7.103934618958011
          },
          {
           "lower": 0.17401954637318048,
           "timepoint": 58,
           "trajectory": "Example",
           "upper": 7.140731839082811
          },
          {
           "lower": 0.7569149692382161,
           "timepoint": 59,
           "trajectory": "Example",
           "upper": 7.045540070756322
          },
          {
           "lower": 1.332482696184003,
           "timepoint": 60,
           "trajectory": "Example",
           "upper": 6.777071428763543
          },
          {
           "lower": 1.334371742456826,
           "timepoint": 61,
           "trajectory": "Example",
           "upper": 6.7243889646206565
          },
          {
           "lower": 0.6084675221586788,
           "timepoint": 62,
           "trajectory": "Example",
           "upper": 6.5192536719302
          },
          {
           "lower": -0.0914566604529918,
           "timepoint": 63,
           "trajectory": "Example",
           "upper": 6.837604154458647
          },
          {
           "lower": -0.70312289499283,
           "timepoint": 64,
           "trajectory": "Example",
           "upper": 6.841242781777899
          },
          {
           "lower": -1.0550084499606396,
           "timepoint": 65,
           "trajectory": "Example",
           "upper": 6.509865389719744
          },
          {
           "lower": -1.2263428890570682,
           "timepoint": 66,
           "trajectory": "Example",
           "upper": 6.329090906128703
          },
          {
           "lower": -1.247170383014134,
           "timepoint": 67,
           "trajectory": "Example",
           "upper": 6.231647280323896
          },
          {
           "lower": -1.4170631642657088,
           "timepoint": 68,
           "trajectory": "Example",
           "upper": 6.11863281945754
          },
          {
           "lower": -1.5515198621036583,
           "timepoint": 69,
           "trajectory": "Example",
           "upper": 5.727022277970897
          },
          {
           "lower": -1.4950188525083528,
           "timepoint": 70,
           "trajectory": "Example",
           "upper": 5.197001994112815
          },
          {
           "lower": -1.1932338931012774,
           "timepoint": 71,
           "trajectory": "Example",
           "upper": 4.704252634309236
          },
          {
           "lower": -0.6528142031854438,
           "timepoint": 72,
           "trajectory": "Example",
           "upper": 4.274147710312847
          },
          {
           "lower": -0.48542142551757583,
           "timepoint": 73,
           "trajectory": "Example",
           "upper": 3.574536425197633
          },
          {
           "lower": -0.8511976507420993,
           "timepoint": 74,
           "trajectory": "Example",
           "upper": 3.546867701335219
          },
          {
           "lower": -1.0063810727919744,
           "timepoint": 75,
           "trajectory": "Example",
           "upper": 4.2344539588834875
          },
          {
           "lower": -1.1461319539581294,
           "timepoint": 76,
           "trajectory": "Example",
           "upper": 4.823232341951264
          },
          {
           "lower": -1.0931078131970622,
           "timepoint": 77,
           "trajectory": "Example",
           "upper": 5.3995824636942915
          },
          {
           "lower": -0.8154915622047139,
           "timepoint": 78,
           "trajectory": "Example",
           "upper": 5.997140674640767
          },
          {
           "lower": -0.6807627456509708,
           "timepoint": 79,
           "trajectory": "Example",
           "upper": 6.463226155653282
          },
          {
           "lower": -0.41683276093307475,
           "timepoint": 80,
           "trajectory": "Example",
           "upper": 6.7694513862431736
          },
          {
           "lower": -0.3116819396060152,
           "timepoint": 81,
           "trajectory": "Example",
           "upper": 7.254469365458313
          },
          {
           "lower": -0.05604170443071173,
           "timepoint": 82,
           "trajectory": "Example",
           "upper": 7.348227830399763
          },
          {
           "lower": 0.3665275864928705,
           "timepoint": 83,
           "trajectory": "Example",
           "upper": 7.4068284513667875
          },
          {
           "lower": 0.9303222148778163,
           "timepoint": 84,
           "trajectory": "Example",
           "upper": 7.3125589481324305
          },
          {
           "lower": 1.6109076720762965,
           "timepoint": 85,
           "trajectory": "Example",
           "upper": 7.074866919784673
          },
          {
           "lower": 1.6806182904625904,
           "timepoint": 86,
           "trajectory": "Example",
           "upper": 7.006414275343084
          },
          {
           "lower": 0.9558689201243074,
           "timepoint": 87,
           "trajectory": "Example",
           "upper": 6.727104539369398
          },
          {
           "lower": 0.24447345872402848,
           "timepoint": 88,
           "trajectory": "Example",
           "upper": 7.046142397927642
          },
          {
           "lower": -0.39165353055006735,
           "timepoint": 89,
           "trajectory": "Example",
           "upper": 7.151295860070795
          },
          {
           "lower": -0.7755691732618627,
           "timepoint": 90,
           "trajectory": "Example",
           "upper": 6.771837368748879
          },
          {
           "lower": -0.9800417382010347,
           "timepoint": 91,
           "trajectory": "Example",
           "upper": 6.587505398667268
          },
          {
           "lower": -0.9723995460904995,
           "timepoint": 92,
           "trajectory": "Example",
           "upper": 6.479415645921639
          },
          {
           "lower": -1.181943140827141,
           "timepoint": 93,
           "trajectory": "Example",
           "upper": 6.371285382443038
          },
          {
           "lower": -1.288782571311678,
           "timepoint": 94,
           "trajectory": "Example",
           "upper": 6.036165892665567
          },
          {
           "lower": -1.2911062811526608,
           "timepoint": 95,
           "trajectory": "Example",
           "upper": 5.482264352012619
          },
          {
           "lower": -1.014259499025704,
           "timepoint": 96,
           "trajectory": "Example",
           "upper": 5.0066206865174125
          },
          {
           "lower": -0.4934757276265888,
           "timepoint": 97,
           "trajectory": "Example",
           "upper": 4.589976658789917
          },
          {
           "lower": -0.2528098317320199,
           "timepoint": 98,
           "trajectory": "Example",
           "upper": 3.874109588818742
          },
          {
           "lower": -0.5612288940477783,
           "timepoint": 99,
           "trajectory": "Example",
           "upper": 3.6730537086959867
          }
         ]
        },
        {
         "name": "traces",
         "transform": [
          {
           "expr": "isValid(datum.value)",
           "type": "filter"
          },
          {
           "sort": {
            "field": [
             "trajectory",
             "timepoint"
            ]
           },
           "type": "collect"
          }
         ],
         "values": [
          {
           "color_by": "Trajectory Mean",
           "sample_id": 0,
           "timepoint": 0,
           "trajectory": "Baseline_Trajectory_Mean",
           "value": -1.374067871398552
          },
          {
           "color_by": "Trajectory Mean",
           "sample_id": 0,
           "timepoint": 1,
           "trajectory": "Baseline_Trajectory_Mean",
           "value": -0.1753794809457081
          },
          {
           "color_by": "Trajectory Mean",
           "sample_id": 0,
           "timepoint": 2,
           "trajectory": "Baseline_Trajectory_Mean",
           "value": 0.2857706006315515
          },
          {
           "color_by": "Trajectory Mean",
           "sample_id": 0,
           "timepoint": 3,
           "trajectory": "Baseline_Trajectory_Mean",
           "value": 0.7409269447503052
          },
          {
           "color_by": "Trajectory Mean",
           "sample_id": 0,
           "timepoint": 4,
           "trajectory": "Baseline_Trajectory_Mean",
           "value": 1.203290972215639
          },
          {
           "color_by": "Trajectory Mean",
           "sample_id": 0,
           "timepoint": 5,
           "trajectory": "Baseline_Trajectory_Mean",
           "value": 1.6619399870320146
          },
          {
           "color_by": "Trajectory Mean",
           "sample_id": 0,
           "timepoint": 6,
           "trajectory": "Baseline_Trajectory_Mean",
           "value": 2.0990069204009014
          },
          {
           "color_by": "Trajectory Mean",
           "sample_id": 0,
           "timepoint": 7,
           "trajectory": "Baseline_Trajectory_Mean",
           "value": 2.4948085042859702
          },
          {
           "color_by": "Trajectory Mean",
           "sample_id": 0,
           "timepoint": 8,
           "trajectory": "Baseline_Trajectory_Mean",
           "value": 2.8305270912336185
          },
          {
           "color_by": "Trajectory Mean",
           "sample_id": 0,
           "timepoint": 9,
           "trajectory": "Baseline_Trajectory_Mean",
           "value": 3.0900398267595826
          },
          {
           "color_by": "Trajectory Mean",
           "sample_id": 0,
           "timepoint": 10,
           "trajectory": "Baseline_Trajectory_Mean",
           "value": 3.261265180648284
          },
          {
           "color_by": "Trajectory Mean",
           "sample_id": 0,
           "timepoint": 11,
           "trajectory": "Baseline_Trajectory_Mean",
           "value": 3.337113109228745
          },
          {
           "color_by": "Trajectory Mean",
           "sample_id": 0,
           "timepoint": 12,
           "trajectory": "Baseline_Trajectory_Mean",
           "value": 3.316050161132986
          },
          {
           "color_by": "Trajectory Mean",
           "sample_id": 0,
           "timepoint": 13,
           "trajectory": "Baseline_Trajectory_Mean",
           "value": 3.2022772261009957
          },
          {
           "color_by": "Trajectory Mean",
           "sample_id": 0,
           "timepoint": 14,
           "trajectory": "Baseline_Trajectory_Mean",
           "value": 3.0055256557709567
          },
          {
           "color_by": "Trajectory Mean",
           "sample_id": 0,
           "timepoint": 15,
           "trajectory": "Baseline_Trajectory_Mean",
           "value": 2.740493652698597
          },
          {
           "color_by": "Trajectory Mean",
           "sample_id": 0,
           "timepoint": 16,
           "trajectory": "Baseline_Trajectory_Mean",
           "value": 2.425963344214254
          },
          {
           "color_by": "Trajectory Mean",
           "sample_id": 0,
           "timepoint": 17,
           "trajectory": "Baseline_Trajectory_Mean",
           "value": 2.0836567270954505
          },
          {
           "color_by": "Trajectory Mean",
           "sample_id": 0,
           "timepoint": 18,
           "trajectory": "Baseline_Trajectory_Mean",
           "value": 1.7369037141960124
          },
          {
           "color_by": "Trajectory Mean",
           "sample_id": 0,
           "timepoint": 19,
           "trajectory": "Baseline_Trajectory_Mean",
           "value": 1.4092064854314326
          },
          {
           "color_by": "Trajectory Mean",
           "sample_id": 0,
           "timepoint": 20,
           "trajectory": "Baseline_Trajectory_Mean",
           "value": 1.1227903511120176
          },
          {
           "color_by": "Trajectory Mean",
           "sample_id": 0,
           "timepoint": 21,
           "trajectory": "Baseline_Trajectory_Mean",
           "value": 0.8972318905897914
          },
          {
           "color_by": "Trajectory Mean",
           "sample_id": 0,
           "timepoint": 22,
           "trajectory": "Baseline_Trajectory_Mean",
           "value": 0.7482501370290392
          },
          {
           "color_by": "Trajectory Mean",
           "sample_id": 0,
           "timepoint": 23,
           "trajectory": "Baseline_Trajectory_Mean",
           "value": 0.686736314404437
          },
          {
           "color_by": "Trajectory Mean",
           "sample_id": 0,
           "timepoint": 24,
           "trajectory": "Baseline_Trajectory_Mean",
           "value": 0.7180827123995968
          },
          {
           "color_by": "Trajectory Mean",
           "sample_id": 0,
           "timepoint": 25,
           "trajectory": "Baseline_Trajectory_Mean",
           "value": 0.8418526232430751
          },
          {
           "color_by": "Trajectory Mean",
           "sample_id": 0,
           "timepoint": 26,
           "trajectory": "Baseline_Trajectory_Mean",
           "value": 1.0518120136506877
          },
          {
           "color_by": "Trajectory Mean",
           "sample_id": 0,
           "timepoint": 27,
           "trajectory": "Baseline_Trajectory_Mean",
           "value": 1.336321080832491
          },
          {
           "color_by": "Trajectory Mean",
           "sample_id": 0,
           "timepoint": 28,
           "trajectory": "Baseline_Trajectory_Mean",
           "value": 1.6790614408519098
          },
          {
           "color_by": "Trajectory Mean",
           "sample_id": 0,
           "timepoint": 29,
           "trajectory": "Baseline_Trajectory_Mean",
           "value": 2.0600538108521733
          },
          {
           "color_by": "Trajectory Mean",
           "sample_id": 0,
           "timepoint": 30,
           "trajectory": "Baseline_Trajectory_Mean",
           "value": 2.4569029707755967
          },
          {
           "color_by": "Trajectory Mean",
           "sample_id": 0,
           "timepoint": 31,
           "trajectory": "Baseline_Trajectory_Mean",
           "value": 2.84619264790939
          },
          {
           "color_by": "Trajectory Mean",
           "sample_id": 0,
           "timepoint": 32,
           "trajectory": "Baseline_Trajectory_Mean",
           "value": 3.2049436373762
          },
          {
           "color_by": "Trajectory Mean",
           "sample_id": 0,
           "timepoint": 33,
           "trajectory": "Baseline_Trajectory_Mean",
           "value": 3.51204453306543
          },
          {
           "color_by": "Trajectory Mean",
           "sample_id": 0,
           "timepoint": 34,
           "trajectory": "Baseline_Trajectory_Mean",
           "value": 3.7495661409261714
          },
          {
           "color_by": "Trajectory Mean",
           "sample_id": 0,
           "timepoint": 35,
           "trajectory": "Baseline_Trajectory_Mean",
           "value": 3.903877874158785
          },
          {
           "color_by": "Trajectory Mean",
           "sample_id": 0,
           "timepoint": 36,
           "trajectory": "Baseline_Trajectory_Mean",
           "value": 3.9664967380341145
          },
          {
           "color_by": "Trajectory Mean",
           "sample_id": 0,
           "timepoint": 37,
           "trajectory": "Baseline_Trajectory_Mean",
           "value": 3.9346161353943025
          },
          {
           "color_by": "Trajectory Mean",
           "sample_id": 0,
           "timepoint": 38,
           "trajectory": "Baseline_Trajectory_Mean",
           "value": 3.8112816286528126
          },
          {
           "color_by": "Trajectory Mean",
           "sample_id": 0,
           "timepoint": 39,
           "trajectory": "Baseline_Trajectory_Mean",
           "value": 3.605202742627014
          },
          {
           "color_by": "Trajectory Mean",
           "sample_id": 0,
           "timepoint": 40,
           "trajectory": "Baseline_Trajectory_Mean",
           "value": 3.330212520070616
          },
          {
           "color_by": "Trajectory Mean",
           "sample_id": 0,
           "timepoint": 41,
           "trajectory": "Baseline_Trajectory_Mean",
           "value": 3.004408441391505
          },
          {
           "color_by": "Trajectory Mean",
           "sample_id": 0,
           "timepoint": 42,
           "trajectory": "Baseline_Trajectory_Mean",
           "value": 2.6490281300806546
          },
          {
           "color_by": "Trajectory Mean",
           "sample_id": 0,
           "timepoint": 43,
           "trajectory": "Baseline_Trajectory_Mean",
           "value": 2.2871297541078066
          },
          {
           "color_by": "Trajectory Mean",
           "sample_id": 0,
           "timepoint": 44,
           "trajectory": "Baseline_Trajectory_Mean",
           "value": 1.942159175738314
          },
          {
           "color_by": "Trajectory Mean",
           "sample_id": 0,
           "timepoint": 45,
           "trajectory": "Baseline_Trajectory_Mean",
           "value": 1.6364929429243942
          },
          {
           "color_by": "Trajectory Mean",
           "sample_id": 0,
           "timepoint": 46,
           "trajectory": "Baseline_Trajectory_Mean",
           "value": 1.390047716845722
          },
          {
           "color_by": "Trajectory Mean",
           "sample_id": 0,
           "timepoint": 47,
           "trajectory": "Baseline_Trajectory_Mean",
           "value": 1.2190425989510012
          },
          {
           "color_by": "Trajectory Mean",
           "sample_id": 0,
           "timepoint": 48,
           "trajectory": "Baseline_Trajectory_Mean",
           "value": 1.134991313829537
          },
          {
           "color_by": "Trajectory Mean",
           "sample_id": 0,
           "timepoint": 49,
           "trajectory": "Baseline_Trajectory_Mean",
           "value": 1.14398691250923
          },
          {
           "color_by": "Trajectory Mean",
           "sample_id": 0,
           "timepoint": 50,
           "trajectory": "Baseline_Trajectory_Mean",
           "value": 1.2463234729162245
          },
          {
           "color_by": "Trajectory Mean",
           "sample_id": 0,
           "timepoint": 51,
           "trajectory": "Baseline_Trajectory_Mean",
           "value": 1.436478321067047
          },
          {
           "color_by": "Trajectory Mean",
           "sample_id": 0,
           "timepoint": 52,
           "trajectory": "Baseline_Trajectory_Mean",
           "value": 1.7034558808562217
          },
          {
           "color_by": "Trajectory Mean",
           "sample_id": 0,
           "timepoint": 53,
           "trajectory": "Baseline_Trajectory_Mean",
           "value": 2.0314717757459047
          },
          {
           "color_by": "Trajectory Mean",
           "sample_id": 0,
           "timepoint": 54,
           "trajectory": "Baseline_Trajectory_Mean",
           "value": 2.40093465023518
          },
          {
           "color_by": "Trajectory Mean",
           "sample_id": 0,
           "timepoint": 55,
           "trajectory": "Baseline_Trajectory_Mean",
           "value": 2.7896646680236756
          },
          {
           "color_by": "Trajectory Mean",
           "sample_id": 0,
           "timepoint": 56,
           "trajectory": "Baseline_Trajectory_Mean",
           "value": 3.1742729282058018
          },
          {
           "color_by": "Trajectory Mean",
           "sample_id": 0,
           "timepoint": 57,
           "trajectory": "Baseline_Trajectory_Mean",
           "value": 3.5316160355788306
          },
          {
           "color_by": "Trajectory Mean",
           "sample_id": 0,
           "timepoint": 58,
           "trajectory": "Baseline_Trajectory_Mean",
           "value": 3.8402353882960543
          },
          {
           "color_by": "Trajectory Mean",
           "sample_id": 0,
           "timepoint": 59,
           "trajectory": "Baseline_Trajectory_Mean",
           "value": 4.0816916961786385
          },
          {
           "color_by": "Trajectory Mean",
           "sample_id": 0,
           "timepoint": 60,
           "trajectory": "Baseline_Trajectory_Mean",
           "value": 4.241711756943313
          },
          {
           "color_by": "Trajectory Mean",
           "sample_id": 0,
           "timepoint": 61,
           "trajectory": "Baseline_Trajectory_Mean",
           "value": 4.311076190400711
          },
          {
           "color_by": "Trajectory Mean",
           "sample_id": 0,
           "timepoint": 62,
           "trajectory": "Baseline_Trajectory_Mean",
           "value": 4.2861929365717275
          },
          {
           "color_by": "Trajectory Mean",
           "sample_id": 0,
           "timepoint": 63,
           "trajectory": "Baseline_Trajectory_Mean",
           "value": 4.169320861269167
          },
          {
           "color_by": "Trajectory Mean",
           "sample_id": 0,
           "timepoint": 64,
           "trajectory": "Baseline_Trajectory_Mean",
           "value": 3.9684295672449053
          },
          {
           "color_by": "Trajectory Mean",
           "sample_id": 0,
           "timepoint": 65,
           "trajectory": "Baseline_Trajectory_Mean",
           "value": 3.69670412791522
          },
          {
           "color_by": "Trajectory Mean",
           "sample_id": 0,
           "timepoint": 66,
           "trajectory": "Baseline_Trajectory_Mean",
           "value": 3.3717255376136737
          },
          {
           "color_by": "Trajectory Mean",
           "sample_id": 0,
           "timepoint": 67,
           "trajectory": "Baseline_Trajectory_Mean",
           "value": 3.014377834644358
          },
          {
           "color_by": "Trajectory Mean",
           "sample_id": 0,
           "timepoint": 68,
           "trajectory": "Baseline_Trajectory_Mean",
           "value": 2.647549847522207
          },
          {
           "color_by": "Trajectory Mean",
           "sample_id": 0,
           "timepoint": 69,
           "trajectory": "Baseline_Trajectory_Mean",
           "value": 2.2947122840792833
          },
          {
           "color_by": "Trajectory Mean",
           "sample_id": 0,
           "timepoint": 70,
           "trajectory": "Baseline_Trajectory_Mean",
           "value": 1.978458633653271
          },
          {
           "color_by": "Trajectory Mean",
           "sample_id": 0,
           "timepoint": 71,
           "trajectory": "Baseline_Trajectory_Mean",
           "value": 1.7191006024655913
          },
          {
           "color_by": "Trajectory Mean",
           "sample_id": 0,
           "timepoint": 72,
           "trajectory": "Baseline_Trajectory_Mean",
           "value": 1.5334054116539373
          },
          {
           "color_by": "Trajectory Mean",
           "sample_id": 0,
           "timepoint": 73,
           "trajectory": "Baseline_Trajectory_Mean",
           "value": 1.433553467061004
          },
          {
           "color_by": "Trajectory Mean",
           "sample_id": 0,
           "timepoint": 74,
           "trajectory": "Baseline_Trajectory_Mean",
           "value": 1.426381208204978
          },
          {
           "color_by": "Trajectory Mean",
           "sample_id": 0,
           "timepoint": 75,
           "trajectory": "Baseline_Trajectory_Mean",
           "value": 1.512956212771587
          },
          {
           "color_by": "Trajectory Mean",
           "sample_id": 0,
           "timepoint": 76,
           "trajectory": "Baseline_Trajectory_Mean",
           "value": 1.6885109749049367
          },
          {
           "color_by": "Trajectory Mean",
           "sample_id": 0,
           "timepoint": 77,
           "trajectory": "Baseline_Trajectory_Mean",
           "value": 1.942739474953189
          },
          {
           "color_by": "Trajectory Mean",
           "sample_id": 0,
           "timepoint": 78,
           "trajectory": "Baseline_Trajectory_Mean",
           "value": 2.2604381016896746
          },
          {
           "color_by": "Trajectory Mean",
           "sample_id": 0,
           "timepoint": 79,
           "trajectory": "Baseline_Trajectory_Mean",
           "value": 2.622451077842573
          },
          {
           "color_by": "Trajectory Mean",
           "sample_id": 0,
           "timepoint": 80,
           "trajectory": "Baseline_Trajectory_Mean",
           "value": 3.0068616072084073
          },
          {
           "color_by": "Trajectory Mean",
           "sample_id": 0,
           "timepoint": 81,
           "trajectory": "Baseline_Trajectory_Mean",
           "value": 3.3903546838309135
          },
          {
           "color_by": "Trajectory Mean",
           "sample_id": 0,
           "timepoint": 82,
           "trajectory": "Baseline_Trajectory_Mean",
           "value": 3.7496668305964964
          },
          {
           "color_by": "Trajectory Mean",
           "sample_id": 0,
           "timepoint": 83,
           "trajectory": "Baseline_Trajectory_Mean",
           "value": 4.063032629733882
          },
          {
           "color_by": "Trajectory Mean",
           "sample_id": 0,
           "timepoint": 84,
           "trajectory": "Baseline_Trajectory_Mean",
           "value": 4.311538107156903
          },
          {
           "color_by": "Trajectory Mean",
           "sample_id": 0,
           "timepoint": 85,
           "trajectory": "Baseline_Trajectory_Mean",
           "value": 4.480296823954608
          },
          {
           "color_by": "Trajectory Mean",
           "sample_id": 0,
           "timepoint": 86,
           "trajectory": "Baseline_Trajectory_Mean",
           "value": 4.559375551532904
          },
          {
           "color_by": "Trajectory Mean",
           "sample_id": 0,
           "timepoint": 87,
           "trajectory": "Baseline_Trajectory_Mean",
           "value": 4.544411976577577
          },
          {
           "color_by": "Trajectory Mean",
           "sample_id": 0,
           "timepoint": 88,
           "trajectory": "Baseline_Trajectory_Mean",
           "value": 4.436886030093212
          },
          {
           "color_by": "Trajectory Mean",
           "sample_id": 0,
           "timepoint": 89,
           "trajectory": "Baseline_Trajectory_Mean",
           "value": 4.244027970741055
          },
          {
           "color_by": "Trajectory Mean",
           "sample_id": 0,
           "timepoint": 90,
           "trajectory": "Baseline_Trajectory_Mean",
           "value": 3.9783689375491096
          },
          {
           "color_by": "Trajectory Mean",
           "sample_id": 0,
           "timepoint": 91,
           "trajectory": "Baseline_Trajectory_Mean",
           "value": 3.6569619165828295
          },
          {
           "color_by": "Trajectory Mean",
           "sample_id": 0,
           "timepoint": 92,
           "trajectory": "Baseline_Trajectory_Mean",
           "value": 3.3003215582212615
          },
          {
           "color_by": "Trajectory Mean",
           "sample_id": 0,
           "timepoint": 93,
           "trajectory": "Baseline_Trajectory_Mean",
           "value": 2.9311487621844523
          },
          {
           "color_by": "Trajectory Mean",
           "sample_id": 0,
           "timepoint": 94,
           "trajectory": "Baseline_Trajectory_Mean",
           "value": 2.5729193295504698
          },
          {
           "color_by": "Trajectory Mean",
           "sample_id": 0,
           "timepoint": 95,
           "trajectory": "Baseline_Trajectory_Mean",
           "value": 2.248424432650695
          },
          {
           "color_by": "Trajectory Mean",
           "sample_id": 0,
           "timepoint": 96,
           "trajectory": "Baseline_Trajectory_Mean",
           "value": 1.9783536494575662
          },
          {
           "color_by": "Trajectory Mean",
           "sample_id": 0,
           "timepoint": 97,
           "trajectory": "Baseline_Trajectory_Mean",
           "value": 1.780008662619798
          },
          {
           "color_by": "Trajectory Mean",
           "sample_id": 0,
           "timepoint": 98,
           "trajectory": "Baseline_Trajectory_Mean",
           "value": 1.6662275992003437
          },
          {
           "color_by": "Trajectory Mean",
           "sample_id": 0,
           "timepoint": 99,
           "trajectory": "Baseline_Trajectory_Mean",
           "value": 1.6445868905491752
          },
          {
           "color_by": "Chaos",
           "sample_id": 0,
           "timepoint": 0,
           "trajectory": "Chaos",
           "value": 1.611579034039824
          },
          {
           "color_by": "Chaos",
           "sample_id": 0,
           "timepoint": 1,
           "trajectory": "Chaos",
           "value": 3.078871511623795
          },
          {
           "color_by": "Chaos",
           "sample_id": 0,
           "timepoint": 2,
           "trajectory": "Chaos",
           "value": 3.5763267054026127
          },
          {
           "color_by": "Chaos",
           "sample_id": 0,
           "timepoint": 3,
           "trajectory": "Chaos",
           "value": 3.8332319107576156
          },
          {
           "color_by": "Chaos",
           "sample_id": 0,
           "timepoint": 4,
           "trajectory": "Chaos",
           "value": 3.875114844088433
          },
          {
           "color_by": "Chaos",
           "sample_id": 0,
           "timepoint": 5,
           "trajectory": "Chaos",
           "value": 3.717196287265728
          },
          {
           "color_by": "Chaos",
           "sample_id": 0,
           "timepoint": 6,
           "trajectory": "Chaos",
           "value": 3.3799443567989855
          },
          {
           "color_by": "Chaos",
           "sample_id": 0,
           "timepoint": 7,
           "trajectory": "Chaos",
           "value": 2.891819181252705
          },
          {
           "color_by": "Chaos",
           "sample_id": 0,
           "timepoint": 8,
           "trajectory": "Chaos",
           "value": 2.288961397845041
          },
          {
           "color_by": "Chaos",
           "sample_id": 0,
           "timepoint": 9,
           "trajectory": "Chaos",
           "value": 1.613604284879649
          },
          {
           "color_by": "Chaos",
           "sample_id": 0,
           "timepoint": 10,
           "trajectory": "Chaos",
           "value": 0.9117919913516157
          },
          {
           "color_by": "Chaos",
           "sample_id": 0,
           "timepoint": 11,
           "trajectory": "Chaos",
           "value": 0.23071572601720725
          },
          {
           "color_by": "Chaos",
           "sample_id": 0,
           "timepoint": 12,
           "trajectory": "Chaos",
           "value": -0.384096082216685
          },
          {
           "color_by": "Chaos",
           "sample_id": 0,
           "timepoint": 13,
           "trajectory": "Chaos",
           "value": -0.8915261152625511
          },
          {
           "color_by": "Chaos",
           "sample_id": 0,
           "timepoint": 14,
           "trajectory": "Chaos",
           "value": -1.2573673297748766
          },
          {
           "color_by": "Chaos",
           "sample_id": 0,
           "timepoint": 15,
           "trajectory": "Chaos",
           "value": -1.456408348095061
          },
          {
           "color_by": "Chaos",
           "sample_id": 0,
           "timepoint": 16,
           "trajectory": "Chaos",
           "value": -1.473970042702517
          },
          {
           "color_by": "Chaos",
           "sample_id": 0,
           "timepoint": 17,
           "trajectory": "Chaos",
           "value": -1.3067944868864785
          },
          {
           "color_by": "Chaos",
           "sample_id": 0,
           "timepoint": 18,
           "trajectory": "Chaos",
           "value": -0.963228901669407
          },
          {
           "color_by": "Chaos",
           "sample_id": 0,
           "timepoint": 19,
           "trajectory": "Chaos",
           "value": -0.4626917740628984
          },
          {
           "color_by": "Chaos",
           "sample_id": 0,
           "timepoint": 20,
           "trajectory": "Chaos",
           "value": 0.16554660545211378
          },
          {
           "color_by": "Chaos",
           "sample_id": 0,
           "timepoint": 21,
           "trajectory": "Chaos",
           "value": 0.8841940286145735
          },
          {
           "color_by": "Chaos",
           "sample_id": 0,
           "timepoint": 22,
           "trajectory": "Chaos",
           "value": 1.6502633799281314
          },
          {
           "color_by": "Chaos",
           "sample_id": 0,
           "timepoint": 23,
           "trajectory": "Chaos",
           "value": 2.4177524376443813
          },
          {
           "color_by": "Chaos",
           "sample_id": 0,
           "timepoint": 24,
           "trajectory": "Chaos",
           "value": 3.1405101075575406
          },
          {
           "color_by": "Chaos",
           "sample_id": 0,
           "timepoint": 25,
           "trajectory": "Chaos",
           "value": 3.775111077804379
          },
          {
           "color_by": "Chaos",
           "sample_id": 0,
           "timepoint": 26,
           "trajectory": "Chaos",
           "value": 4.283560313997039
          },
          {
           "color_by": "Chaos",
           "sample_id": 0,
           "timepoint": 27,
           "trajectory": "Chaos",
           "value": 4.635659360446738
          },
          {
           "color_by": "Chaos",
           "sample_id": 0,
           "timepoint": 28,
           "trajectory": "Chaos",
           "value": 4.810887415672766
          },
          {
           "color_by": "Chaos",
           "sample_id": 0,
           "timepoint": 29,
           "trajectory": "Chaos",
           "value": 4.7996803005977435
          },
          {
           "color_by": "Chaos",
           "sample_id": 0,
           "timepoint": 30,
           "trajectory": "Chaos",
           "value": 4.60402785955863
          },
          {
           "color_by": "Chaos",
           "sample_id": 0,
           "timepoint": 31,
           "trajectory": "Chaos",
           "value": 4.237352699655618
          },
          {
           "color_by": "Chaos",
           "sample_id": 0,
           "timepoint": 32,
           "trajectory": "Chaos",
           "value": 3.7236778481221187
          },
          {
           "color_by": "Chaos",
           "sample_id": 0,
           "timepoint": 33,
           "trajectory": "Chaos",
           "value": 3.0961351121150402
          },
          {
           "color_by": "Chaos",
           "sample_id": 0,
           "timepoint": 34,
           "trajectory": "Chaos",
           "value": 2.394906911729487
          },
          {
           "color_by": "Chaos",
           "sample_id": 0,
           "timepoint": 35,
           "trajectory": "Chaos",
           "value": 1.6647295764817691
          },
          {
           "color_by": "Chaos",
           "sample_id": 0,
           "timepoint": 36,
           "trajectory": "Chaos",
           "value": 0.952113357967652
          },
          {
           "color_by": "Chaos",
           "sample_id": 0,
           "timepoint": 37,
           "trajectory": "Chaos",
           "value": 0.3024520216621511
          },
          {
           "color_by": "Chaos",
           "sample_id": 0,
           "timepoint": 38,
           "trajectory": "Chaos",
           "value": -0.24279825617429496
          },
          {
           "color_by": "Chaos",
           "sample_id": 0,
           "timepoint": 39,
           "trajectory": "Chaos",
           "value": -0.648695271593461
          },
          {
           "color_by": "Chaos",
           "sample_id": 0,
           "timepoint": 40,
           "trajectory": "Chaos",
           "value": -0.8889822583593399
          },
          {
           "color_by": "Chaos",
           "sample_id": 0,
           "timepoint": 41,
           "trajectory": "Chaos",
           "value": -0.9477194151831089
          },
          {
           "color_by": "Chaos",
           "sample_id": 0,
           "timepoint": 42,
           "trajectory": "Chaos",
           "value": -0.8202740462571431
          },
          {
           "color_by": "Chaos",
           "sample_id": 0,
           "timepoint": 43,
           "trajectory": "Chaos",
           "value": -0.513607745880649
          },
          {
           "color_by": "Chaos",
           "sample_id": 0,
           "timepoint": 44,
           "trajectory": "Chaos",
           "value": -0.04584276522328756
          },
          {
           "color_by": "Chaos",
           "sample_id": 0,
           "timepoint": 45,
           "trajectory": "Chaos",
           "value": 0.5548654830275772
          },
          {
           "color_by": "Chaos",
           "sample_id": 0,
           "timepoint": 46,
           "trajectory": "Chaos",
           "value": 1.2520796847724704
          },
          {
           "color_by": "Chaos",
           "sample_id": 0,
           "timepoint": 47,
           "trajectory": "Chaos",
           "value": 2.003346768778189
          },
          {
           "color_by": "Chaos",
           "sample_id": 0,
           "timepoint": 48,
           "trajectory": "Chaos",
           "value": 2.762838041072688
          },
          {
           "color_by": "Chaos",
           "sample_id": 0,
           "timepoint": 49,
           "trajectory": "Chaos",
           "value": 3.4841991620957216
          },
          {
           "color_by": "Chaos",
           "sample_id": 0,
           "timepoint": 50,
           "trajectory": "Chaos",
           "value": 4.123432771880464
          },
          {
           "color_by": "Chaos",
           "sample_id": 0,
           "timepoint": 51,
           "trajectory": "Chaos",
           "value": 4.641634538331732
          },
          {
           "color_by": "Chaos",
           "sample_id": 0,
           "timepoint": 52,
           "trajectory": "Chaos",
           "value": 5.007412516833557
          },
          {
           "color_by": "Chaos",
           "sample_id": 0,
           "timepoint": 53,
           "trajectory": "Chaos",
           "value": 5.198839399344593
          },
          {
           "color_by": "Chaos",
           "sample_id": 0,
           "timepoint": 54,
           "trajectory": "Chaos",
           "value": 5.204816273595498
          },
          {
           "color_by": "Chaos",
           "sample_id": 0,
           "timepoint": 55,
           "trajectory": "Chaos",
           "value": 5.02576310226489
          },
          {
           "color_by": "Chaos",
           "sample_id": 0,
           "timepoint": 56,
           "trajectory": "Chaos",
           "value": 4.673592993133419
          },
          {
           "color_by": "Chaos",
           "sample_id": 0,
           "timepoint": 57,
           "trajectory": "Chaos",
           "value": 4.170971861474238
          },
          {
           "color_by": "Chaos",
           "sample_id": 0,
           "timepoint": 58,
           "trajectory": "Chaos",
           "value": 3.549909516654556
          },
          {
           "color_by": "Chaos",
           "sample_id": 0,
           "timepoint": 59,
           "trajectory": "Chaos",
           "value": 2.8497697736082586
          },
          {
           "color_by": "Chaos",
           "sample_id": 0,
           "timepoint": 60,
           "trajectory": "Chaos",
           "value": 2.114823311952475
          },
          {
           "color_by": "Chaos",
           "sample_id": 0,
           "timepoint": 61,
           "trajectory": "Chaos",
           "value": 1.3914954351620332
          },
          {
           "color_by": "Chaos",
           "sample_id": 0,
           "timepoint": 62,
           "trajectory": "Chaos",
           "value": 0.7254798517662276
          },
          {
           "color_by": "Chaos",
           "sample_id": 0,
           "timepoint": 63,
           "trajectory": "Chaos",
           "value": 0.15889793055635182
          },
          {
           "color_by": "Chaos",
           "sample_id": 0,
           "timepoint": 64,
           "trajectory": "Chaos",
           "value": -0.27231994563144
          },
          {
           "color_by": "Chaos",
           "sample_id": 0,
           "timepoint": 65,
           "trajectory": "Chaos",
           "value": -0.5406681120706158
          },
          {
           "color_by": "Chaos",
           "sample_id": 0,
           "timepoint": 66,
           "trajectory": "Chaos",
           "value": -0.6287755568983895
          },
          {
           "color_by": "Chaos",
           "sample_id": 0,
           "timepoint": 67,
           "trajectory": "Chaos",
           "value": -0.5304857423694795
          },
          {
           "color_by": "Chaos",
           "sample_id": 0,
           "timepoint": 68,
           "trajectory": "Chaos",
           "value": -0.25123917396253836
          },
          {
           "color_by": "Chaos",
           "sample_id": 0,
           "timepoint": 69,
           "trajectory": "Chaos",
           "value": 0.1922650695029542
          },
          {
           "color_by": "Chaos",
           "sample_id": 0,
           "timepoint": 70,
           "trajectory": "Chaos",
           "value": 0.7731078008299777
          },
          {
           "color_by": "Chaos",
           "sample_id": 0,
           "timepoint": 71,
           "trajectory": "Chaos",
           "value": 1.4558236182382642
          },
          {
           "color_by": "Chaos",
           "sample_id": 0,
           "timepoint": 72,
           "trajectory": "Chaos",
           "value": 2.1986061538203456
          },
          {
           "color_by": "Chaos",
           "sample_id": 0,
           "timepoint": 73,
           "trajectory": "Chaos",
           "value": 2.9559075654005387
          },
          {
           "color_by": "Chaos",
           "sample_id": 0,
           "timepoint": 74,
           "trajectory": "Chaos",
           "value": 3.6812706483650017
          },
          {
           "color_by": "Chaos",
           "sample_id": 0,
           "timepoint": 75,
           "trajectory": "Chaos",
           "value": 4.3302174808223315
          },
          {
           "color_by": "Chaos",
           "sample_id": 0,
           "timepoint": 76,
           "trajectory": "Chaos",
           "value": 4.863015000462075
          },
          {
           "color_by": "Chaos",
           "sample_id": 0,
           "timepoint": 77,
           "trajectory": "Chaos",
           "value": 5.247145563247821
          },
          {
           "color_by": "Chaos",
           "sample_id": 0,
           "timepoint": 78,
           "trajectory": "Chaos",
           "value": 5.459328876862302
          },
          {
           "color_by": "Chaos",
           "sample_id": 0,
           "timepoint": 79,
           "trajectory": "Chaos",
           "value": 5.486969595148509
          },
          {
           "color_by": "Chaos",
           "sample_id": 0,
           "timepoint": 80,
           "trajectory": "Chaos",
           "value": 5.328940569391403
          },
          {
           "color_by": "Chaos",
           "sample_id": 0,
           "timepoint": 81,
           "trajectory": "Chaos",
           "value": 4.9956530579089735
          },
          {
           "color_by": "Chaos",
           "sample_id": 0,
           "timepoint": 82,
           "trajectory": "Chaos",
           "value": 4.508409528885632
          },
          {
           "color_by": "Chaos",
           "sample_id": 0,
           "timepoint": 83,
           "trajectory": "Chaos",
           "value": 3.898079296244876
          },
          {
           "color_by": "Chaos",
           "sample_id": 0,
           "timepoint": 84,
           "trajectory": "Chaos",
           "value": 3.203179331307479
          },
          {
           "color_by": "Chaos",
           "sample_id": 0,
           "timepoint": 85,
           "trajectory": "Chaos",
           "value": 2.4674795762584543
          },
          {
           "color_by": "Chaos",
           "sample_id": 0,
           "timepoint": 86,
           "trajectory": "Chaos",
           "value": 1.7372816496097199
          },
          {
           "color_by": "Chaos",
           "sample_id": 0,
           "timepoint": 87,
           "trajectory": "Chaos",
           "value": 1.0585401407391262
          },
          {
           "color_by": "Chaos",
           "sample_id": 0,
           "timepoint": 88,
           "trajectory": "Chaos",
           "value": 0.47400547762592793
          },
          {
           "color_by": "Chaos",
           "sample_id": 0,
           "timepoint": 89,
           "trajectory": "Chaos",
           "value": 0.02056601057718077
          },
          {
           "color_by": "Chaos",
           "sample_id": 0,
           "timepoint": 90,
           "trajectory": "Chaos",
           "value": -0.2730454315540738
          },
          {
           "color_by": "Chaos",
           "sample_id": 0,
           "timepoint": 91,
           "trajectory": "Chaos",
           "value": -0.3880379172998303
          },
          {
           "color_by": "Chaos",
           "sample_id": 0,
           "timepoint": 92,
           "trajectory": "Chaos",
           "value": -0.3167306523285005
          },
          {
           "color_by": "Chaos",
           "sample_id": 0,
           "timepoint": 93,
           "trajectory": "Chaos",
           "value": -0.0630304474082457
          },
          {
           "color_by": "Chaos",
           "sample_id": 0,
           "timepoint": 94,
           "trajectory": "Chaos",
           "value": 0.35781127217584463
          },
          {
           "color_by": "Chaos",
           "sample_id": 0,
           "timepoint": 95,
           "trajectory": "Chaos",
           "value": 0.9201468078800354
          },
          {
           "color_by": "Chaos",
           "sample_id": 0,
           "timepoint": 96,
           "trajectory": "Chaos",
           "value": 1.5895269166708494
          },
          {
           "color_by": "Chaos",
           "sample_id": 0,
           "timepoint": 97,
           "trajectory": "Chaos",
           "value": 2.3248427748898894
          },
          {
           "color_by": "Chaos",
           "sample_id": 0,
           "timepoint": 98,
           "trajectory": "Chaos",
           "value": 3.080882000367291
          },
          {
           "color_by": "Chaos",
           "sample_id": 0,
           "timepoint": 99,
           "trajectory": "Chaos",
           "value": 3.811139811795525
          },
          {
           "color_by": "Mean",
           "sample_id": 0,
           "timepoint": 0,
           "trajectory": "Mean",
           "value": -2.9156661450524877
          },
          {
           "color_by": "Mean",
           "sample_id": 0,
           "timepoint": 1,
           "trajectory": "Mean",
           "value": -1.5733939396871526
          },
          {
           "color_by": "Mean",
           "sample_id": 0,
           "timepoint": 2,
           "trajectory": "Mean",
           "value": -0.8879939877501163
          },
          {
           "color_by": "Mean",
           "sample_id": 0,
           "timepoint": 3,
           "trajectory": "Mean",
           "value": -0.14186448862667542
          },
          {
           "color_by": "Mean",
           "sample_id": 0,
           "timepoint": 4,
           "trajectory": "Mean",
           "value": 0.6601046770156388
          },
          {
           "color_by": "Mean",
           "sample_id": 0,
           "timepoint": 5,
           "trajectory": "Mean",
           "value": 1.4858758105401995
          },
          {
           "color_by": "Mean",
           "sample_id": 0,
           "timepoint": 6,
           "trajectory": "Mean",
           "value": 2.2947559679342864
          },
          {
           "color_by": "Mean",
           "sample_id": 0,
           "timepoint": 7,
           "trajectory": "Mean",
           "value": 3.043944335739769
          },
          {
           "color_by": "Mean",
           "sample_id": 0,
           "timepoint": 8,
           "trajectory": "Mean",
           "value": 3.692651387879945
          },
          {
           "color_by": "Mean",
           "sample_id": 0,
           "timepoint": 9,
           "trajectory": "Mean",
           "value": 4.205294163039877
          },
          {
           "color_by": "Mean",
           "sample_id": 0,
           "timepoint": 10,
           "trajectory": "Mean",
           "value": 4.554052731154968
          },
          {
           "color_by": "Mean",
           "sample_id": 0,
           "timepoint": 11,
           "trajectory": "Mean",
           "value": 4.720798893161793
          },
          {
           "color_by": "Mean",
           "sample_id": 0,
           "timepoint": 12,
           "trajectory": "Mean",
           "value": 4.698347585796359
          },
          {
           "color_by": "Mean",
           "sample_id": 0,
           "timepoint": 13,
           "trajectory": "Mean",
           "value": 4.490986020253636
          },
          {
           "color_by": "Mean",
           "sample_id": 0,
           "timepoint": 14,
           "trajectory": "Mean",
           "value": 4.114264435927797
          },
          {
           "color_by": "Mean",
           "sample_id": 0,
           "timepoint": 15,
           "trajectory": "Mean",
           "value": 3.594070699174233
          },
          {
           "color_by": "Mean",
           "sample_id": 0,
           "timepoint": 16,
           "trajectory": "Mean",
           "value": 2.965051658067804
          },
          {
           "color_by": "Mean",
           "sample_id": 0,
           "timepoint": 17,
           "trajectory": "Mean",
           "value": 2.2684826955790536
          },
          {
           "color_by": "Mean",
           "sample_id": 0,
           "timepoint": 18,
           "trajectory": "Mean",
           "value": 1.5497200413551229
          },
          {
           "color_by": "Mean",
           "sample_id": 0,
           "timepoint": 19,
           "trajectory": "Mean",
           "value": 0.8553956330096458
          },
          {
           "color_by": "Mean",
           "sample_id": 0,
           "timepoint": 20,
           "trajectory": "Mean",
           "value": 0.23052988314938241
          },
          {
           "color_by": "Mean",
           "sample_id": 0,
           "timepoint": 21,
           "trajectory": "Mean",
           "value": -0.2842574710333866
          },
          {
           "color_by": "Mean",
           "sample_id": 0,
           "timepoint": 22,
           "trajectory": "Mean",
           "value": -0.6552645446239457
          },
          {
           "color_by": "Mean",
           "sample_id": 0,
           "timepoint": 23,
           "trajectory": "Mean",
           "value": -0.8577956546103257
          },
          {
           "color_by": "Mean",
           "sample_id": 0,
           "timepoint": 24,
           "trajectory": "Mean",
           "value": -0.8776907393868923
          },
          {
           "color_by": "Mean",
           "sample_id": 0,
           "timepoint": 25,
           "trajectory": "Mean",
           "value": -0.7122005595104309
          },
          {
           "color_by": "Mean",
           "sample_id": 0,
           "timepoint": 26,
           "trajectory": "Mean",
           "value": -0.370153112524758
          },
          {
           "color_by": "Mean",
           "sample_id": 0,
           "timepoint": 27,
           "trajectory": "Mean",
           "value": 0.1285992031802651
          },
          {
           "color_by": "Mean",
           "sample_id": 0,
           "timepoint": 28,
           "trajectory": "Mean",
           "value": 0.7544173961451995
          },
          {
           "color_by": "Mean",
           "sample_id": 0,
           "timepoint": 29,
           "trajectory": "Mean",
           "value": 1.4697217749259261
          },
          {
           "color_by": "Mean",
           "sample_id": 0,
           "timepoint": 30,
           "trajectory": "Mean",
           "value": 2.2313312179726905
          },
          {
           "color_by": "Mean",
           "sample_id": 0,
           "timepoint": 31,
           "trajectory": "Mean",
           "value": 2.9931504248558145
          },
          {
           "color_by": "Mean",
           "sample_id": 0,
           "timepoint": 32,
           "trajectory": "Mean",
           "value": 3.7090381088555877
          },
          {
           "color_by": "Mean",
           "sample_id": 0,
           "timepoint": 33,
           "trajectory": "Mean",
           "value": 4.3356778339588224
          },
          {
           "color_by": "Mean",
           "sample_id": 0,
           "timepoint": 34,
           "trajectory": "Mean",
           "value": 4.835273029362817
          },
          {
           "color_by": "Mean",
           "sample_id": 0,
           "timepoint": 35,
           "trajectory": "Mean",
           "value": 5.177898641927285
          },
          {
           "color_by": "Mean",
           "sample_id": 0,
           "timepoint": 36,
           "trajectory": "Mean",
           "value": 5.343363231989669
          },
          {
           "color_by": "Mean",
           "sample_id": 0,
           "timepoint": 37,
           "trajectory": "Mean",
           "value": 5.32246575326298
          },
          {
           "color_by": "Mean",
           "sample_id": 0,
           "timepoint": 38,
           "trajectory": "Mean",
           "value": 5.11756889071166
          },
          {
           "color_by": "Mean",
           "sample_id": 0,
           "timepoint": 39,
           "trajectory": "Mean",
           "value": 4.742453321396482
          },
          {
           "color_by": "Mean",
           "sample_id": 0,
           "timepoint": 40,
           "trajectory": "Mean",
           "value": 4.22146197032222
          },
          {
           "color_by": "Mean",
           "sample_id": 0,
           "timepoint": 41,
           "trajectory": "Mean",
           "value": 3.5879874765808943
          },
          {
           "color_by": "Mean",
           "sample_id": 0,
           "timepoint": 42,
           "trajectory": "Mean",
           "value": 2.8823969198946138
          },
          {
           "color_by": "Mean",
           "sample_id": 0,
           "timepoint": 43,
           "trajectory": "Mean",
           "value": 2.1495228450748023
          },
          {
           "color_by": "Mean",
           "sample_id": 0,
           "timepoint": 44,
           "trajectory": "Mean",
           "value": 1.4358765865495215
          },
          {
           "color_by": "Mean",
           "sample_id": 0,
           "timepoint": 45,
           "trajectory": "Mean",
           "value": 0.7867571604114364
          },
          {
           "color_by": "Mean",
           "sample_id": 0,
           "timepoint": 46,
           "trajectory": "Mean",
           "value": 0.24343548391260952
          },
          {
           "color_by": "Mean",
           "sample_id": 0,
           "timepoint": 47,
           "trajectory": "Mean",
           "value": -0.15941100170884934
          },
          {
           "color_by": "Mean",
           "sample_id": 0,
           "timepoint": 48,
           "trajectory": "Mean",
           "value": -0.3958537985238032
          },
          {
           "color_by": "Mean",
           "sample_id": 0,
           "timepoint": 49,
           "trajectory": "Mean",
           "value": -0.4503248894035424
          },
          {
           "color_by": "Mean",
           "sample_id": 0,
           "timepoint": 50,
           "trajectory": "Mean",
           "value": -0.31858414506103283
          },
          {
           "color_by": "Mean",
           "sample_id": 0,
           "timepoint": 51,
           "trajectory": "Mean",
           "value": -0.007982449220006987
          },
          {
           "color_by": "Mean",
           "sample_id": 0,
           "timepoint": 52,
           "trajectory": "Mean",
           "value": 0.46299582039950826
          },
          {
           "color_by": "Mean",
           "sample_id": 0,
           "timepoint": 53,
           "trajectory": "Mean",
           "value": 1.0658825111837993
          },
          {
           "color_by": "Mean",
           "sample_id": 0,
           "timepoint": 54,
           "trajectory": "Mean",
           "value": 1.7639961328582885
          },
          {
           "color_by": "Mean",
           "sample_id": 0,
           "timepoint": 55,
           "trajectory": "Mean",
           "value": 2.514722937456653
          },
          {
           "color_by": "Mean",
           "sample_id": 0,
           "timepoint": 56,
           "trajectory": "Mean",
           "value": 3.2721668171724096
          },
          {
           "color_by": "Mean",
           "sample_id": 0,
           "timepoint": 57,
           "trajectory": "Mean",
           "value": 3.990003263780206
          },
          {
           "color_by": "Mean",
           "sample_id": 0,
           "timepoint": 58,
           "trajectory": "Mean",
           "value": 4.624359945620831
          },
          {
           "color_by": "Mean",
           "sample_id": 0,
           "timepoint": 59,
           "trajectory": "Mean",
           "value": 5.1365448030736705
          },
          {
           "color_by": "Mean",
           "sample_id": 0,
           "timepoint": 60,
           "trajectory": "Mean",
           "value": 5.4954520438955985
          },
          {
           "color_by": "Mean",
           "sample_id": 0,
           "timepoint": 61,
           "trajectory": "Mean",
           "value": 5.67949644633569
          },
          {
           "color_by": "Mean",
           "sample_id": 0,
           "timepoint": 62,
           "trajectory": "Mean",
           "value": 5.677955705386896
          },
          {
           "color_by": "Mean",
           "sample_id": 0,
           "timepoint": 63,
           "trajectory": "Mean",
           "value": 5.49163736246876
          },
          {
           "color_by": "Mean",
           "sample_id": 0,
           "timepoint": 64,
           "trajectory": "Mean",
           "value": 5.13282885289596
          },
          {
           "color_by": "Mean",
           "sample_id": 0,
           "timepoint": 65,
           "trajectory": "Mean",
           "value": 4.6245337776879785
          },
          {
           "color_by": "Mean",
           "sample_id": 0,
           "timepoint": 66,
           "trajectory": "Mean",
           "value": 3.9990418853308785
          },
          {
           "color_by": "Mean",
           "sample_id": 0,
           "timepoint": 67,
           "trajectory": "Mean",
           "value": 3.2959216757380436
          },
          {
           "color_by": "Mean",
           "sample_id": 0,
           "timepoint": 68,
           "trajectory": "Mean",
           "value": 2.5595604371643366
          },
          {
           "color_by": "Mean",
           "sample_id": 0,
           "timepoint": 69,
           "trajectory": "Mean",
           "value": 1.836404665211861
          },
          {
           "color_by": "Mean",
           "sample_id": 0,
           "timepoint": 70,
           "trajectory": "Mean",
           "value": 1.1720724418163293
          },
          {
           "color_by": "Mean",
           "sample_id": 0,
           "timepoint": 71,
           "trajectory": "Mean",
           "value": 0.6085173129752374
          },
          {
           "color_by": "Mean",
           "sample_id": 0,
           "timepoint": 72,
           "trajectory": "Mean",
           "value": 0.18142000200366862
          },
          {
           "color_by": "Mean",
           "sample_id": 0,
           "timepoint": 73,
           "trajectory": "Mean",
           "value": -0.0820298706363077
          },
          {
           "color_by": "Mean",
           "sample_id": 0,
           "timepoint": 74,
           "trajectory": "Mean",
           "value": -0.16482413863422649
          },
          {
           "color_by": "Mean",
           "sample_id": 0,
           "timepoint": 75,
           "trajectory": "Mean",
           "value": -0.06119341404516629
          },
          {
           "color_by": "Mean",
           "sample_id": 0,
           "timepoint": 76,
           "trajectory": "Mean",
           "value": 0.22303435521201967
          },
          {
           "color_by": "Mean",
           "sample_id": 0,
           "timepoint": 77,
           "trajectory": "Mean",
           "value": 0.6707963882516897
          },
          {
           "color_by": "Mean",
           "sample_id": 0,
           "timepoint": 78,
           "trajectory": "Mean",
           "value": 1.254856096130202
          },
          {
           "color_by": "Mean",
           "sample_id": 0,
           "timepoint": 79,
           "trajectory": "Mean",
           "value": 1.9394966596492569
          },
          {
           "color_by": "Mean",
           "sample_id": 0,
           "timepoint": 80,
           "trajectory": "Mean",
           "value": 2.6827418618442724
          },
          {
           "color_by": "Mean",
           "sample_id": 0,
           "timepoint": 81,
           "trajectory": "Mean",
           "value": 3.4389660947899627
          },
          {
           "color_by": "Mean",
           "sample_id": 0,
           "timepoint": 82,
           "trajectory": "Mean",
           "value": 4.161731263366574
          },
          {
           "color_by": "Mean",
           "sample_id": 0,
           "timepoint": 83,
           "trajectory": "Mean",
           "value": 4.806674201262726
          },
          {
           "color_by": "Mean",
           "sample_id": 0,
           "timepoint": 84,
           "trajectory": "Mean",
           "value": 5.334265073872004
          },
          {
           "color_by": "Mean",
           "sample_id": 0,
           "timepoint": 85,
           "trajectory": "Mean",
           "value": 5.712265264138921
          },
          {
           "color_by": "Mean",
           "sample_id": 0,
           "timepoint": 86,
           "trajectory": "Mean",
           "value": 5.917731922093672
          },
          {
           "color_by": "Mean",
           "sample_id": 0,
           "timepoint": 87,
           "trajectory": "Mean",
           "value": 5.938444545061234
          },
          {
           "color_by": "Mean",
           "sample_id": 0,
           "timepoint": 88,
           "trajectory": "Mean",
           "value": 5.773664890854198
          },
          {
           "color_by": "Mean",
           "sample_id": 0,
           "timepoint": 89,
           "trajectory": "Mean",
           "value": 5.434182976376179
          },
          {
           "color_by": "Mean",
           "sample_id": 0,
           "timepoint": 90,
           "trajectory": "Mean",
           "value": 4.941646301805809
          },
          {
           "color_by": "Mean",
           "sample_id": 0,
           "timepoint": 91,
           "trajectory": "Mean",
           "value": 4.327214006085452
          },
          {
           "color_by": "Mean",
           "sample_id": 0,
           "timepoint": 92,
           "trajectory": "Mean",
           "value": 3.629619631933507
          },
          {
           "color_by": "Mean",
           "sample_id": 0,
           "timepoint": 93,
           "trajectory": "Mean",
           "value": 2.89276294838793
          },
          {
           "color_by": "Mean",
           "sample_id": 0,
           "timepoint": 94,
           "trajectory": "Mean",
           "value": 2.1629805598041147
          },
          {
           "color_by": "Mean",
           "sample_id": 0,
           "timepoint": 95,
           "trajectory": "Mean",
           "value": 1.4861650017269057
          },
          {
           "color_by": "Mean",
           "sample_id": 0,
           "timepoint": 96,
           "trajectory": "Mean",
           "value": 0.9049114444033629
          },
          {
           "color_by": "Mean",
           "sample_id": 0,
           "timepoint": 97,
           "trajectory": "Mean",
           "value": 0.4558694081883573
          },
          {
           "color_by": "Mean",
           "sample_id": 0,
           "timepoint": 98,
           "trajectory": "Mean",
           "value": 0.16746414844369198
          },
          {
           "color_by": "Mean",
           "sample_id": 0,
           "timepoint": 99,
           "trajectory": "Mean",
           "value": 0.058129383268290674
          },
          {
           "color_by": "Variance",
           "sample_id": 0,
           "timepoint": 0,
           "trajectory": "Variance",
           "value": -2.9156661450524877
          },
          {
           "color_by": "Variance",
           "sample_id": 0,
           "timepoint": 1,
           "trajectory": "Variance",
           "value": -1.5733939396871526
          },
          {
           "color_by": "Variance",
           "sample_id": 0,
           "timepoint": 2,
           "trajectory": "Variance",
           "value": -0.8879939877501163
          },
          {
           "color_by": "Variance",
           "sample_id": 0,
           "timepoint": 3,
           "trajectory": "Variance",
           "value": -0.14186448862667542
          },
          {
           "color_by": "Variance",
           "sample_id": 0,
           "timepoint": 4,
           "trajectory": "Variance",
           "value": 0.6601046770156388
          },
          {
           "color_by": "Variance",
           "sample_id": 0,
           "timepoint": 5,
           "trajectory": "Variance",
           "value": 1.4858758105401995
          },
          {
           "color_by": "Variance",
           "sample_id": 0,
           "timepoint": 6,
           "trajectory": "Variance",
           "value": 2.2947559679342864
          },
          {
           "color_by": "Variance",
           "sample_id": 0,
           "timepoint": 7,
           "trajectory": "Variance",
           "value": 3.043944335739769
          },
          {
           "color_by": "Variance",
           "sample_id": 0,
           "timepoint": 8,
           "trajectory": "Variance",
           "value": 3.692651387879945
          },
          {
           "color_by": "Variance",
           "sample_id": 0,
           "timepoint": 9,
           "trajectory": "Variance",
           "value": 4.205294163039877
          },
          {
           "color_by": "Variance",
           "sample_id": 0,
           "timepoint": 10,
           "trajectory": "Variance",
           "value": 4.554052731154968
          },
          {
           "color_by": "Variance",
           "sample_id": 0,
           "timepoint": 11,
           "trajectory": "Variance",
           "value": 4.720798893161793
          },
          {
           "color_by": "Variance",
           "sample_id": 0,
           "timepoint": 12,
           "trajectory": "Variance",
           "value": 4.698347585796359
          },
          {
           "color_by": "Variance",
           "sample_id": 0,
           "timepoint": 13,
           "trajectory": "Variance",
           "value": 4.490986020253636
          },
          {
           "color_by": "Variance",
           "sample_id": 0,
           "timepoint": 14,
           "trajectory": "Variance",
           "value": 4.114264435927797
          },
          {
           "color_by": "Variance",
           "sample_id": 0,
           "timepoint": 15,
           "trajectory": "Variance",
           "value": 3.594070699174233
          },
          {
           "color_by": "Variance",
           "sample_id": 0,
           "timepoint": 16,
           "trajectory": "Variance",
           "value": 2.965051658067804
          },
          {
           "color_by": "Variance",
           "sample_id": 0,
           "timepoint": 17,
           "trajectory": "Variance",
           "value": 2.2684826955790536
          },
          {
           "color_by": "Variance",
           "sample_id": 0,
           "timepoint": 18,
           "trajectory": "Variance",
           "value": 1.5497200413551229
          },
          {
           "color_by": "Variance",
           "sample_id": 0,
           "timepoint": 19,
           "trajectory": "Variance",
           "value": 0.8553956330096458
          },
          {
           "color_by": "Variance",
           "sample_id": 0,
           "timepoint": 20,
           "trajectory": "Variance",
           "value": 0.23052988314938241
          },
          {
           "color_by": "Variance",
           "sample_id": 0,
           "timepoint": 21,
           "trajectory": "Variance",
           "value": -0.2842574710333866
          },
          {
           "color_by": "Variance",
           "sample_id": 0,
           "timepoint": 22,
           "trajectory": "Variance",
           "value": -0.6552645446239457
          },
          {
           "color_by": "Variance",
           "sample_id": 0,
           "timepoint": 23,
           "trajectory": "Variance",
           "value": -0.8577956546103257
          },
          {
           "color_by": "Variance",
           "sample_id": 0,
           "timepoint": 24,
           "trajectory": "Variance",
           "value": -0.8776907393868923
          },
          {
           "color_by": "Variance",
           "sample_id": 0,
           "timepoint": 25,
           "trajectory": "Variance",
           "value": -0.7122005595104309
          },
          {
           "color_by": "Variance",
           "sample_id": 0,
           "timepoint": 26,
           "trajectory": "Variance",
           "value": -0.370153112524758
          },
          {
           "color_by": "Variance",
           "sample_id": 0,
           "timepoint": 27,
           "trajectory": "Variance",
           "value": 0.1285992031802651
          },
          {
           "color_by": "Variance",
           "sample_id": 0,
           "timepoint": 28,
           "trajectory": "Variance",
           "value": 0.7544173961451995
          },
          {
           "color_by": "Variance",
           "sample_id": 0,
           "timepoint": 29,
           "trajectory": "Variance",
           "value": 1.4697217749259261
          },
          {
           "color_by": "Variance",
           "sample_id": 0,
           "timepoint": 30,
           "trajectory": "Variance",
           "value": 2.2313312179726905
          },
          {
           "color_by": "Variance",
           "sample_id": 0,
           "timepoint": 31,
           "trajectory": "Variance",
           "value": 2.9931504248558145
          },
          {
           "color_by": "Variance",
           "sample_id": 0,
           "timepoint": 32,
           "trajectory": "Variance",
           "value": 3.7090381088555877
          },
          {
           "color_by": "Variance",
           "sample_id": 0,
           "timepoint": 33,
           "trajectory": "Variance",
           "value": 4.3356778339588224
          },
          {
           "color_by": "Variance",
           "sample_id": 0,
           "timepoint": 34,
           "trajectory": "Variance",
           "value": 4.835273029362817
          },
          {
           "color_by": "Variance",
           "sample_id": 0,
           "timepoint": 35,
           "trajectory": "Variance",
           "value": 5.177898641927285
          },
          {
           "color_by": "Variance",
           "sample_id": 0,
           "timepoint": 36,
           "trajectory": "Variance",
           "value": 5.343363231989669
          },
          {
           "color_by": "Variance",
           "sample_id": 0,
           "timepoint": 37,
           "trajectory": "Variance",
           "value": 5.32246575326298
          },
          {
           "color_by": "Variance",
           "sample_id": 0,
           "timepoint": 38,
           "trajectory": "Variance",
           "value": 5.11756889071166
          },
          {
           "color_by": "Variance",
           "sample_id": 0,
           "timepoint": 39,
           "trajectory": "Variance",
           "value": 4.742453321396482
          },
          {
           "color_by": "Variance",
           "sample_id": 0,
           "timepoint": 40,
           "trajectory": "Variance",
           "value": 4.22146197032222
          },
          {
           "color_by": "Variance",
           "sample_id": 0,
           "timepoint": 41,
           "trajectory": "Variance",
           "value": 3.5879874765808943
          },
          {
           "color_by": "Variance",
           "sample_id": 0,
           "timepoint": 42,
           "trajectory": "Variance",
           "value": 2.8823969198946138
          },
          {
           "color_by": "Variance",
           "sample_id": 0,
           "timepoint": 43,
           "trajectory": "Variance",
           "value": 2.1495228450748023
          },
          {
           "color_by": "Variance",
           "sample_id": 0,
           "timepoint": 44,
           "trajectory": "Variance",
           "value": 1.4358765865495215
          },
          {
           "color_by": "Variance",
           "sample_id": 0,
           "timepoint": 45,
           "trajectory": "Variance",
           "value": 0.7867571604114364
          },
          {
           "color_by": "Variance",
           "sample_id": 0,
           "timepoint": 46,
           "trajectory": "Variance",
           "value": 0.24343548391260952
          },
          {
           "color_by": "Variance",
           "sample_id": 0,
           "timepoint": 47,
           "trajectory": "Variance",
           "value": -0.15941100170884934
          },
          {
           "color_by": "Variance",
           "sample_id": 0,
           "timepoint": 48,
           "trajectory": "Variance",
           "value": -0.3958537985238032
          },
          {
           "color_by": "Variance",
           "sample_id": 0,
           "timepoint": 49,
           "trajectory": "Variance",
           "value": -0.4503248894035424
          },
          {
           "color_by": "Variance",
           "sample_id": 0,
           "timepoint": 50,
           "trajectory": "Variance",
           "value": -0.31858414506103283
          },
          {
           "color_by": "Variance",
           "sample_id": 0,
           "timepoint": 51,
           "trajectory": "Variance",
           "value": -0.007982449220006987
          },
          {
           "color_by": "Variance",
           "sample_id": 0,
           "timepoint": 52,
           "trajectory": "Variance",
           "value": 0.46299582039950826
          },
          {
           "color_by": "Variance",
           "sample_id": 0,
           "timepoint": 53,
           "trajectory": "Variance",
           "value": 1.0658825111837993
          },
          {
           "color_by": "Variance",
           "sample_id": 0,
           "timepoint": 54,
           "trajectory": "Variance",
           "value": 1.7639961328582885
          },
          {
           "color_by": "Variance",
           "sample_id": 0,
           "timepoint": 55,
           "trajectory": "Variance",
           "value": 2.514722937456653
          },
          {
           "color_by": "Variance",
           "sample_id": 0,
           "timepoint": 56,
           "trajectory": "Variance",
           "value": 3.2721668171724096
          },
          {
           "color_by": "Variance",
           "sample_id": 0,
           "timepoint": 57,
           "trajectory": "Variance",
           "value": 3.990003263780206
          },
          {
           "color_by": "Variance",
           "sample_id": 0,
           "timepoint": 58,
           "trajectory": "Variance",
           "value": 4.624359945620831
          },
          {
           "color_by": "Variance",
           "sample_id": 0,
           "timepoint": 59,
           "trajectory": "Variance",
           "value": 5.1365448030736705
          },
          {
           "color_by": "Variance",
           "sample_id": 0,
           "timepoint": 60,
           "trajectory": "Variance",
           "value": 5.4954520438955985
          },
          {
           "color_by": "Variance",
           "sample_id": 0,
           "timepoint": 61,
           "trajectory": "Variance",
           "value": 5.67949644633569
          },
          {
           "color_by": "Variance",
           "sample_id": 0,
           "timepoint": 62,
           "trajectory": "Variance",
           "value": 5.677955705386896
          },
          {
           "color_by": "Variance",
           "sample_id": 0,
           "timepoint": 63,
           "trajectory": "Variance",
           "value": 5.49163736246876
          },
          {
           "color_by": "Variance",
           "sample_id": 0,
           "timepoint": 64,
           "trajectory": "Variance",
           "value": 5.13282885289596
          },
          {
           "color_by": "Variance",
           "sample_id": 0,
           "timepoint": 65,
           "trajectory": "Variance",
           "value": 4.6245337776879785
          },
          {
           "color_by": "Variance",
           "sample_id": 0,
           "timepoint": 66,
           "trajectory": "Variance",
           "value": 3.9990418853308785
          },
          {
           "color_by": "Variance",
           "sample_id": 0,
           "timepoint": 67,
           "trajectory": "Variance",
           "value": 3.2959216757380436
          },
          {
           "color_by": "Variance",
           "sample_id": 0,
           "timepoint": 68,
           "trajectory": "Variance",
           "value": 2.5595604371643366
          },
          {
           "color_by": "Variance",
           "sample_id": 0,
           "timepoint": 69,
           "trajectory": "Variance",
           "value": 1.836404665211861
          },
          {
           "color_by": "Variance",
           "sample_id": 0,
           "timepoint": 70,
           "trajectory": "Variance",
           "value": 1.1720724418163293
          },
          {
           "color_by": "Variance",
           "sample_id": 0,
           "timepoint": 71,
           "trajectory": "Variance",
           "value": 0.6085173129752374
          },
          {
           "color_by": "Variance",
           "sample_id": 0,
           "timepoint": 72,
           "trajectory": "Variance",
           "value": 0.18142000200366862
          },
          {
           "color_by": "Variance",
           "sample_id": 0,
           "timepoint": 73,
           "trajectory": "Variance",
           "value": -0.0820298706363077
          },
          {
           "color_by": "Variance",
           "sample_id": 0,
           "timepoint": 74,
           "trajectory": "Variance",
           "value": -0.16482413863422649
          },
          {
           "color_by": "Variance",
           "sample_id": 0,
           "timepoint": 75,
           "trajectory": "Variance",
           "value": -0.06119341404516629
          },
          {
           "color_by": "Variance",
           "sample_id": 0,
           "timepoint": 76,
           "trajectory": "Variance",
           "value": 0.22303435521201967
          },
          {
           "color_by": "Variance",
           "sample_id": 0,
           "timepoint": 77,
           "trajectory": "Variance",
           "value": 0.6707963882516897
          },
          {
           "color_by": "Variance",
           "sample_id": 0,
           "timepoint": 78,
           "trajectory": "Variance",
           "value": 1.254856096130202
          },
          {
           "color_by": "Variance",
           "sample_id": 0,
           "timepoint": 79,
           "trajectory": "Variance",
           "value": 1.9394966596492569
          },
          {
           "color_by": "Variance",
           "sample_id": 0,
           "timepoint": 80,
           "trajectory": "Variance",
           "value": 2.6827418618442724
          },
          {
           "color_by": "Variance",
           "sample_id": 0,
           "timepoint": 81,
           "trajectory": "Variance",
           "value": 3.4389660947899627
          },
          {
           "color_by": "Variance",
           "sample_id": 0,
           "timepoint": 82,
           "trajectory": "Variance",
           "value": 4.161731263366574
          },
          {
           "color_by": "Variance",
           "sample_id": 0,
           "timepoint": 83,
           "trajectory": "Variance",
           "value": 4.806674201262726
          },
          {
           "color_by": "Variance",
           "sample_id": 0,
           "timepoint": 84,
           "trajectory": "Variance",
           "value": 5.334265073872004
          },
          {
           "color_by": "Variance",
           "sample_id": 0,
           "timepoint": 85,
           "trajectory": "Variance",
           "value": 5.712265264138921
          },
          {
           "color_by": "Variance",
           "sample_id": 0,
           "timepoint": 86,
           "trajectory": "Variance",
           "value": 5.917731922093672
          },
          {
           "color_by": "Variance",
           "sample_id": 0,
           "timepoint": 87,
           "trajectory": "Variance",
           "value": 5.938444545061234
          },
          {
           "color_by": "Variance",
           "sample_id": 0,
           "timepoint": 88,
           "trajectory": "Variance",
           "value": 5.773664890854198
          },
          {
           "color_by": "Variance",
           "sample_id": 0,
           "timepoint": 89,
           "trajectory": "Variance",
           "value": 5.434182976376179
          },
          {
           "color_by": "Variance",
           "sample_id": 0,
           "timepoint": 90,
           "trajectory": "Variance",
           "value": 4.941646301805809
          },
          {
           "color_by": "Variance",
           "sample_id": 0,
           "timepoint": 91,
           "trajectory": "Variance",
           "value": 4.327214006085452
          },
          {
           "color_by": "Variance",
           "sample_id": 0,
           "timepoint": 92,
           "trajectory": "Variance",
           "value": 3.629619631933507
          },
          {
           "color_by": "Variance",
           "sample_id": 0,
           "timepoint": 93,
           "trajectory": "Variance",
           "value": 2.89276294838793
          },
          {
           "color_by": "Variance",
           "sample_id": 0,
           "timepoint": 94,
           "trajectory": "Variance",
           "value": 2.1629805598041147
          },
          {
           "color_by": "Variance",
           "sample_id": 0,
           "timepoint": 95,
           "trajectory": "Variance",
           "value": 1.4861650017269057
          },
          {
           "color_by": "Variance",
           "sample_id": 0,
           "timepoint": 96,
           "trajectory": "Variance",
           "value": 0.9049114444033629
          },
          {
           "color_by": "Variance",
           "sample_id": 0,
           "timepoint": 97,
           "trajectory": "Variance",
           "value": 0.4558694081883573
          },
          {
           "color_by": "Variance",
           "sample_id": 0,
           "timepoint": 98,
           "trajectory": "Variance",
           "value": 0.16746414844369198
          },
          {
           "color_by": "Variance",
           "sample_id": 0,
           "timepoint": 99,
           "trajectory": "Variance",
           "value": 0.058129383268290674
          }
         ]
        },
        {
         "name": "points",
         "values": []
        },
        {
         "name": "markers",
         "values": []
        },
        {
         "name": "selected",
         "on": [
          {
           "remove": true,
           "trigger": "clear"
          },
          {
           "remove": true,
           "trigger": "!shift"
          },
          {
           "insert": "clicked",
           "trigger": "!shift && clicked"
          },
          {
           "toggle": "clicked",
           "trigger": "shift && clicked"
          }
         ]
        },
        {
         "name": "selectedData",
         "on": [
          {
           "remove": true,
           "trigger": "clearData"
          },
          {
           "toggle": "clickedData",
           "trigger": "clickedData"
          }
         ]
        }
       ],
       "height": 300,
       "legends": [
        {
         "encode": {
          "labels": {
           "interactive": true,
           "name": "legendLabel",
           "update": {
            "opacity": [
             {
              "test": "!length(data('selectedData')) || indata('selectedData', 'value', datum.value)",
              "value": 1
             },
             {
              "value": 0.25
             }
            ]
           }
          },
          "symbols": {
           "interactive": true,
           "name": "legendSymbol",
           "update": {
            "fill": {
             "value": "transparent"
            },
            "opacity": [
             {
              "test": "!length(data('selected')) || indata('selected', 'value', datum.value) || indata('selectedData', 'value', datum.value)",
              "value": 0.7
             },
             {
              "value": 0.15
             }
            ],
            "size": {
             "value": 64
            },
            "strokeWidth": {
             "value": 2
            }
           }
          }
         },
         "name": "color_legend",
         "orient": "left",
         "stroke": "color"
        }
       ],
       "marks": [
        {
         "from": {
          "facet": {
           "data": "points",
           "groupby": "trajectory",
           "name": "points_split"
          }
         },
         "marks": [
          {
           "encode": {
            "hover": {
             "fillOpacity": {
              "value": 0.9
             }
            },
            "update": {
             "fill": {
              "field": "trajectory",
              "scale": "color"
             },
             "fillOpacity": [
              {
               "test": "!length(data('selected')) || indata('selected', 'value', datum.trajectory)",
               "value": 0.5
              },
              {
               "value": 0.15
              }
             ],
             "size": {
              "value": 35
             },
             "stroke": {
              "field": "trajectory",
              "scale": "color"
             },
             "strokeOpacity": [
              {
               "test": "!length(data('selected')) || indata('selected', 'value', datum.trajectory)",
               "value": 0.75
              },
              {
               "value": 0.15
              }
             ],
             "strokeWidth": {
              "value": 2
             },
             "tooltip": {
              "field": "value"
             },
             "x": {
              "field": "timepoint",
              "scale": "xscale"
             },
             "y": {
              "field": "value",
              "scale": "yscale"
             }
            }
           },
           "from": {
            "data": "points_split"
           },
           "name": "_points_symbol",
           "type": "symbol",
           "zindex": 3
          },
          {
           "encode": {
            "hover": {
             "fillOpacity": {
              "value": 0.9
             }
            },
            "update": {
             "interpolate": {
              "value": "linear"
             },
             "stroke": {
              "field": "trajectory",
              "scale": "color"
             },
             "strokeDash": {
              "value": [
               5,
               3
              ]
             },
             "strokeOpacity": [
              {
               "test": "!length(data('selected')) || indata('selected', 'value', datum.trajectory)",
               "value": 0.3
              },
              {
               "value": 0.1
              }
             ],
             "strokeWidth": {
              "value": 2
             },
             "x": {
              "field": "timepoint",
              "scale": "xscale"
             },
             "y": {
              "field": "value",
              "scale": "yscale"
             }
            }
           },
           "from": {
            "data": "points_split"
           },
           "name": "_points_line",
           "type": "line",
           "zindex": 3
          }
         ],
         "name": "_points",
         "type": "group",
         "zindex": 3
        },
        {
         "from": {
          "facet": {
           "data": "traces",
           "groupby": "trajectory",
           "name": "traces_split"
          }
         },
         "marks": [
          {
           "encode": {
            "hover": {
             "fillOpacity": {
              "value": 0.9
             }
            },
            "update": {
             "interpolate": {
              "value": "linear"
             },
             "stroke": {
              "field": "trajectory",
              "scale": "color"
             },
             "strokeDash": [
              {
               "test": "indexof(datum.trajectory, 'aseline') == -1",
               "value": [
                1,
                0
               ]
              },
              {
               "value": [
                8,
                4
               ]
              }
             ],
             "strokeOpacity": [
              {
               "test": "!length(data('selected')) || indata('selected', 'value', datum.trajectory)",
               "value": 0.75
              },
              {
               "value": 0.15
              }
             ],
             "strokeWidth": {
              "value": 2
             },
             "x": {
              "field": "timepoint",
              "scale": "xscale"
             },
             "y": {
              "field": "value",
              "scale": "yscale"
             }
            }
           },
           "from": {
            "data": "traces_split"
           },
           "name": "_traces_lines",
           "type": "line"
          }
         ],
         "name": "_traces",
         "type": "group",
         "zindex": 2
        },
        {
         "from": {
          "facet": {
           "data": "distributions",
           "groupby": "trajectory",
           "name": "trajectory_split"
          }
         },
         "marks": [
          {
           "encode": {
            "hover": {
             "fillOpacity": {
              "value": 0.9
             }
            },
            "update": {
             "fill": {
              "field": "trajectory",
              "scale": "color"
             },
             "fillOpacity": [
              {
               "test": "!length(data('selected')) || indata('selected', 'value', datum.trajectory)",
               "value": 0.1
              },
              {
               "value": 0.05
              }
             ],
             "interpolate": {
              "value": "linear"
             },
             "stroke": {
              "field": "trajectory",
              "scale": "color"
             },
             "strokeOpacity": [
              {
               "test": "!length(data('selected')) || indata('selected', 'value', datum.trajectory)",
               "value": 0.1
              },
              {
               "value": 0.05
              }
             ],
             "strokeWidth": {
              "value": 2
             },
             "x": {
              "field": "timepoint",
              "scale": "xscale"
             },
             "y": {
              "field": "upper",
              "scale": "yscale"
             },
             "y2": {
              "field": "lower",
              "scale": "yscale"
             }
            }
           },
           "from": {
            "data": "trajectory_split"
           },
           "interactive": true,
           "name": "area",
           "type": "area"
          }
         ],
         "name": "_distributions",
         "type": "group",
         "zindex": 1
        },
        {
         "marks": [
          {
           "encode": {
            "enter": {
             "stroke": {
              "value": "lightgray"
             }
            },
            "update": {
             "opacity": {
              "value": 1
             },
             "x": {
              "field": "timepoint",
              "scale": "xscale"
             },
             "y": {
              "signal": "height"
             },
             "y2": {
              "value": 0
             }
            }
           },
           "from": {
            "data": "markers"
           },
           "name": "_marker text",
           "type": "rule"
          },
          {
           "encode": {
            "enter": {
             "fontSize": {
              "value": 8
             },
             "text": {
              "field": "datum.label"
             },
             "y": {
              "value": 0
             }
            }
           },
           "from": {
            "data": "_marker text"
           },
           "name": "_marker flags",
           "transform": [
            {
             "as": [
              "x",
              "_y",
              "opacity",
              "align",
              "baseline"
             ],
             "lineAnchor": "start",
             "offset": [
              1
             ],
             "size": {
              "signal": "[width, height]"
             },
             "type": "label"
            }
           ],
           "type": "text"
          }
         ],
         "name": "_markers",
         "type": "group"
        }
       ],
       "scales": [
        {
         "domain": {
          "fields": [
           {
            "data": "distributions",
            "field": "timepoint"
           },
           {
            "data": "traces",
            "field": "timepoint"
           },
           {
            "data": "points",
            "field": "timepoint"
           },
           {
            "data": "markers",
            "field": "timepoint"
           }
          ]
         },
         "name": "xscale",
         "range": "width",
         "type": "linear",
         "zero": false
        },
        {
         "domain": {
          "fields": [
           {
            "data": "distributions",
            "field": "lower"
           },
           {
            "data": "distributions",
            "field": "upper"
           },
           {
            "data": "traces",
            "field": "value"
           },
           {
            "data": "points",
            "field": "value"
           }
          ]
         },
         "name": "yscale",
         "nice": true,
         "range": "height",
         "type": "linear",
         "zero": true
        },
        {
         "domain": {
          "fields": [
           {
            "data": "distributions",
            "field": "trajectory"
           },
           {
            "data": "traces",
            "field": "trajectory"
           },
           {
            "data": "points",
            "field": "trajectory"
           }
          ],
          "sort": {
           "order": "ascending"
          }
         },
         "name": "color",
         "range": "category",
         "type": "ordinal"
        }
       ],
       "signals": [
        {
         "name": "clear",
         "on": [
          {
           "events": "mouseup[!event.item]",
           "force": true,
           "update": "true"
          }
         ],
         "value": true
        },
        {
         "name": "shift",
         "on": [
          {
           "events": "@legendSymbol:click, @legendLabel:click",
           "force": true,
           "update": "event.shiftKey"
          }
         ],
         "value": false
        },
        {
         "name": "clicked",
         "on": [
          {
           "events": "@legendSymbol:click, @legendLabel:click",
           "force": true,
           "update": "{value: datum.value}"
          }
         ],
         "value": null
        },
        {
         "name": "clearData",
         "on": [
          {
           "events": "mouseup[!event.item]",
           "force": true,
           "update": "true"
          }
         ],
         "value": true
        },
        {
         "name": "clickedData",
         "on": [
          {
           "events": "@area:click",
           "force": true,
           "update": "{value: datum.trajectory}"
          }
         ],
         "value": null
        }
       ],
       "width": 500
      }
     },
     "metadata": {},
     "output_type": "display_data"
    },
    {
     "name": "stdout",
     "output_type": "stream",
     "text": [
      "\n"
     ]
    },
    {
     "data": {
      "application/vnd.vega.v5+json": {
       "$schema": "https://vega.github.io/schema/vega/v5.json",
       "axes": [
        {
         "name": "x_axis",
         "orient": "bottom",
         "scale": "xscale",
         "zindex": 100
        },
        {
         "name": "y_axis",
         "orient": "left",
         "scale": "yscale",
         "zindex": 100
        }
       ],
       "background": "white",
       "data": [
        {
         "name": "distributions",
         "transform": [
          {
           "sort": {
            "field": [
             "trajectory",
             "timepoint"
            ]
           },
           "type": "collect"
          }
         ],
         "values": [
          {
           "lower": -1.515853937325861,
           "timepoint": 0,
           "trajectory": "Example",
           "upper": 1.976838158466946
          },
          {
           "lower": -0.5990500994236877,
           "timepoint": 1,
           "trajectory": "Example",
           "upper": 2.976838158466946
          },
          {
           "lower": -0.4747567388559135,
           "timepoint": 2,
           "trajectory": "Example",
           "upper": 3.166045273469667
          },
          {
           "lower": -0.35330645815356465,
           "timepoint": 3,
           "trajectory": "Example",
           "upper": 3.29992596061611
          },
          {
           "lower": -0.2551669087329619,
           "timepoint": 4,
           "trajectory": "Example",
           "upper": 3.4399877330022894
          },
          {
           "lower": -0.1740316898848365,
           "timepoint": 5,
           "trajectory": "Example",
           "upper": 3.543673634793733
          },
          {
           "lower": -0.10429589103276968,
           "timepoint": 6,
           "trajectory": "Example",
           "upper": 3.615972589057944
          },
          {
           "lower": -0.04280390940827136,
           "timepoint": 7,
           "trajectory": "Example",
           "upper": 3.679965858898974
          },
          {
           "lower": 0.012412359401372,
           "timepoint": 8,
           "trajectory": "Example",
           "upper": 3.736656177444029
          },
          {
           "lower": 0.06267033646282019,
           "timepoint": 9,
           "trajectory": "Example",
           "upper": 3.768869809058684
          },
          {
           "lower": 0.10889893893286576,
           "timepoint": 10,
           "trajectory": "Example",
           "upper": 3.7671516378636944
          },
          {
           "lower": 0.1517798157318148,
           "timepoint": 11,
           "trajectory": "Example",
           "upper": 3.8100325146626437
          },
          {
           "lower": 0.19770023249618418,
           "timepoint": 12,
           "trajectory": "Example",
           "upper": 3.850081946028971
          },
          {
           "lower": 0.3472631901045323,
           "timepoint": 13,
           "trajectory": "Example",
           "upper": 3.937606921686873
          },
          {
           "lower": 0.41736536374275646,
           "timepoint": 14,
           "trajectory": "Example",
           "upper": 3.946628440191586
          },
          {
           "lower": 0.3755075185164619,
           "timepoint": 15,
           "trajectory": "Example",
           "upper": 3.9831984021337052
          },
          {
           "lower": 0.4106875181355202,
           "timepoint": 16,
           "trajectory": "Example",
           "upper": 4.050535311647283
          },
          {
           "lower": 0.48749623619545207,
           "timepoint": 17,
           "trajectory": "Example",
           "upper": 4.086793271325812
          },
          {
           "lower": 0.5446629187154428,
           "timepoint": 18,
           "trajectory": "Example",
           "upper": 4.121609794583075
          },
          {
           "lower": 0.5800607746388096,
           "timepoint": 19,
           "trajectory": "Example",
           "upper": 4.155104315696578
          },
          {
           "lower": 0.5933396205324248,
           "timepoint": 20,
           "trajectory": "Example",
           "upper": 4.187378545286114
          },
          {
           "lower": 0.585442453427715,
           "timepoint": 21,
           "trajectory": "Example",
           "upper": 4.218519770382814
          },
          {
           "lower": 0.5610470707631497,
           "timepoint": 22,
           "trajectory": "Example",
           "upper": 4.248603421439004
          },
          {
           "lower": 0.6183097519604003,
           "timepoint": 23,
           "trajectory": "Example",
           "upper": 4.262385197637018
          },
          {
           "lower": 0.7211604820991602,
           "timepoint": 24,
           "trajectory": "Example",
           "upper": 4.277576458169707
          },
          {
           "lower": 0.6484238882637973,
           "timepoint": 25,
           "trajectory": "Example",
           "upper": 4.301333774785575
          },
          {
           "lower": 0.5906369620569855,
           "timepoint": 26,
           "trajectory": "Example",
           "upper": 4.339694390203386
          },
          {
           "lower": 0.6101265858487205,
           "timepoint": 27,
           "trajectory": "Example",
           "upper": 4.367257394005668
          },
          {
           "lower": 0.6309461626851488,
           "timepoint": 28,
           "trajectory": "Example",
           "upper": 4.3880769708420955
          },
          {
           "lower": 0.6512153160000268,
           "timepoint": 29,
           "trajectory": "Example",
           "upper": 4.42071931498409
          },
          {
           "lower": 0.670966848214659,
           "timepoint": 30,
           "trajectory": "Example",
           "upper": 4.501612637598973
          },
          {
           "lower": 0.69023059066451,
           "timepoint": 31,
           "trajectory": "Example",
           "upper": 4.550989321907187
          },
          {
           "lower": 0.709033758899385,
           "timepoint": 32,
           "trajectory": "Example",
           "upper": 4.567004306583445
          },
          {
           "lower": 0.7274012558223731,
           "timepoint": 33,
           "trajectory": "Example",
           "upper": 4.549855850280167
          },
          {
           "lower": 0.745355931660361,
           "timepoint": 34,
           "trajectory": "Example",
           "upper": 4.502486739817307
          },
          {
           "lower": 0.7629188079917305,
           "timepoint": 35,
           "trajectory": "Example",
           "upper": 4.520049616148677
          },
          {
           "lower": 0.7801092716771209,
           "timepoint": 36,
           "trajectory": "Example",
           "upper": 4.537240079834067
          },
          {
           "lower": 0.8010650910181628,
           "timepoint": 37,
           "trajectory": "Example",
           "upper": 4.545207993477849
          },
          {
           "lower": 0.9153657872442701,
           "timepoint": 38,
           "trajectory": "Example",
           "upper": 4.545329593284219
          },
          {
           "lower": 0.9928783194769458,
           "timepoint": 39,
           "trajectory": "Example",
           "upper": 4.559592890295107
          },
          {
           "lower": 0.930906436843101,
           "timepoint": 40,
           "trajectory": "Example",
           "upper": 4.589557742094948
          },
          {
           "lower": 0.9344964509529596,
           "timepoint": 41,
           "trajectory": "Example",
           "upper": 4.617103824462091
          },
          {
           "lower": 0.9975055674381976,
           "timepoint": 42,
           "trajectory": "Example",
           "upper": 4.633480232072721
          },
          {
           "lower": 1.0430954660650629,
           "timepoint": 43,
           "trajectory": "Example",
           "upper": 4.648499939081905
          },
          {
           "lower": 1.0680088200736124,
           "timepoint": 44,
           "trajectory": "Example",
           "upper": 4.663259913952285
          },
          {
           "lower": 1.0716245860045097,
           "timepoint": 45,
           "trajectory": "Example",
           "upper": 4.677770401162241
          },
          {
           "lower": 1.0546297683384938,
           "timepoint": 46,
           "trajectory": "Example",
           "upper": 4.6920410241911075
          },
          {
           "lower": 1.0205775474875223,
           "timepoint": 47,
           "trajectory": "Example",
           "upper": 4.704615923479326
          },
          {
           "lower": 1.0506998842707214,
           "timepoint": 48,
           "trajectory": "Example",
           "upper": 4.706371206196676
          },
          {
           "lower": 1.1425453396319318,
           "timepoint": 49,
           "trajectory": "Example",
           "upper": 4.705817341761227
          },
          {
           "lower": 1.087443589224107,
           "timepoint": 50,
           "trajectory": "Example",
           "upper": 4.7222343400817595
          },
          {
           "lower": 1.0066190673399917,
           "timepoint": 51,
           "trajectory": "Example",
           "upper": 4.751800128254079
          },
          {
           "lower": 1.0159691431765931,
           "timepoint": 52,
           "trajectory": "Example",
           "upper": 4.77309995133354
          },
          {
           "lower": 1.0287874053020285,
           "timepoint": 53,
           "trajectory": "Example",
           "upper": 4.7859182134589755
          },
          {
           "lower": 1.0414255397234775,
           "timepoint": 54,
           "trajectory": "Example",
           "upper": 4.800663014911805
          },
          {
           "lower": 1.0538893442254433,
           "timepoint": 55,
           "trajectory": "Example",
           "upper": 4.878141300407222
          },
          {
           "lower": 1.0661843286287038,
           "timepoint": 56,
           "trajectory": "Example",
           "upper": 4.9248194548425515
          },
          {
           "lower": 1.0783157339484155,
           "timepoint": 57,
           "trajectory": "Example",
           "upper": 4.938564940252532
          },
          {
           "lower": 1.0902885499658377,
           "timepoint": 58,
           "trajectory": "Example",
           "upper": 4.919282390736082
          },
          {
           "lower": 1.102107531369979,
           "timepoint": 59,
           "trajectory": "Example",
           "upper": 4.868919868228201
          },
          {
           "lower": 1.1137772126076835,
           "timepoint": 60,
           "trajectory": "Example",
           "upper": 4.87090802076463
          },
          {
           "lower": 1.1253019215651843,
           "timepoint": 61,
           "trajectory": "Example",
           "upper": 4.882432729722131
          },
          {
           "lower": 1.1390647342853604,
           "timepoint": 62,
           "trajectory": "Example",
           "upper": 4.887090815226744
          },
          {
           "lower": 1.2339231615897068,
           "timepoint": 63,
           "trajectory": "Example",
           "upper": 4.890971180503287
          },
          {
           "lower": 1.3332781260976638,
           "timepoint": 64,
           "trajectory": "Example",
           "upper": 4.910897727654529
          },
          {
           "lower": 1.2651440724140945,
           "timepoint": 65,
           "trajectory": "Example",
           "upper": 4.950664811880588
          },
          {
           "lower": 1.2474535133457756,
           "timepoint": 66,
           "trajectory": "Example",
           "upper": 4.987866215469409
          },
          {
           "lower": 1.3072759134774776,
           "timepoint": 67,
           "trajectory": "Example",
           "upper": 5.014738867823482
          },
          {
           "lower": 1.351056068899875,
           "timepoint": 68,
           "trajectory": "Example",
           "upper": 5.038534156564293
          },
          {
           "lower": 1.3744839828206534,
           "timepoint": 69,
           "trajectory": "Example",
           "upper": 5.061776437810347
          },
          {
           "lower": 1.3767587796072454,
           "timepoint": 70,
           "trajectory": "Example",
           "upper": 5.084465210851802
          },
          {
           "lower": 1.3583876094008562,
           "timepoint": 71,
           "trajectory": "Example",
           "upper": 5.1039857162403885
          },
          {
           "lower": 1.3218937363664949,
           "timepoint": 72,
           "trajectory": "Example",
           "upper": 5.120593350309852
          },
          {
           "lower": 1.3508594169218444,
           "timepoint": 73,
           "trajectory": "Example",
           "upper": 5.1364967967244874
          },
          {
           "lower": 1.446034477677653,
           "timepoint": 74,
           "trajectory": "Example",
           "upper": 5.120706105125089
          },
          {
           "lower": 1.524960879760482,
           "timepoint": 75,
           "trajectory": "Example",
           "upper": 5.119884389630269
          },
          {
           "lower": 1.58358946253475,
           "timepoint": 76,
           "trajectory": "Example",
           "upper": 5.113744582136318
          },
          {
           "lower": 1.5829445799321977,
           "timepoint": 77,
           "trajectory": "Example",
           "upper": 5.073490690028991
          },
          {
           "lower": 1.5822428859593414,
           "timepoint": 78,
           "trajectory": "Example",
           "upper": 5.040932446493863
          },
          {
           "lower": 1.5071259887850394,
           "timepoint": 79,
           "trajectory": "Example",
           "upper": 5.0513240572747655
          },
          {
           "lower": 1.4457739448239297,
           "timepoint": 80,
           "trajectory": "Example",
           "upper": 5.121758940078938
          },
          {
           "lower": 1.41537978524058,
           "timepoint": 81,
           "trajectory": "Example",
           "upper": 5.1704847222401895
          },
          {
           "lower": 1.4184135366384234,
           "timepoint": 82,
           "trajectory": "Example",
           "upper": 5.186471377036816
          },
          {
           "lower": 1.455261446263787,
           "timepoint": 83,
           "trajectory": "Example",
           "upper": 5.262048546954759
          },
          {
           "lower": 1.5242020831077292,
           "timepoint": 84,
           "trajectory": "Example",
           "upper": 5.331223810171271
          },
          {
           "lower": 1.575943828024473,
           "timepoint": 85,
           "trajectory": "Example",
           "upper": 5.353335441785564
          },
          {
           "lower": 1.5748728684259266,
           "timepoint": 86,
           "trajectory": "Example",
           "upper": 5.37188539250623
          },
          {
           "lower": 1.573765452047008,
           "timepoint": 87,
           "trajectory": "Example",
           "upper": 5.380515842937676
          },
          {
           "lower": 1.5796424085408187,
           "timepoint": 88,
           "trajectory": "Example",
           "upper": 5.3049391446792695
          },
          {
           "lower": 1.605465603867348,
           "timepoint": 89,
           "trajectory": "Example",
           "upper": 5.22162404540028
          },
          {
           "lower": 1.5811560580088597,
           "timepoint": 90,
           "trajectory": "Example",
           "upper": 5.36120982987805
          },
          {
           "lower": 1.5745014714350702,
           "timepoint": 91,
           "trajectory": "Example",
           "upper": 5.428456846078619
          },
          {
           "lower": 1.5791884194020305,
           "timepoint": 92,
           "trajectory": "Example",
           "upper": 5.442921342075157
          },
          {
           "lower": 1.5953154379322045,
           "timepoint": 93,
           "trajectory": "Example",
           "upper": 5.452819502602791
          },
          {
           "lower": 1.6182492965027808,
           "timepoint": 94,
           "trajectory": "Example",
           "upper": 5.462165081610155
          },
          {
           "lower": 1.6201140394812554,
           "timepoint": 95,
           "trajectory": "Example",
           "upper": 5.470959049313347
          },
          {
           "lower": 1.6012416427302145,
           "timepoint": 96,
           "trajectory": "Example",
           "upper": 5.479202470945101
          },
          {
           "lower": 1.5697621328856428,
           "timepoint": 97,
           "trajectory": "Example",
           "upper": 5.4868965081953265
          },
          {
           "lower": 1.5666023015746977,
           "timepoint": 98,
           "trajectory": "Example",
           "upper": 5.483955413215911
          },
          {
           "lower": 1.6368857476082472,
           "timepoint": 99,
           "trajectory": "Example",
           "upper": 5.371764082429413
          }
         ]
        },
        {
         "name": "traces",
         "transform": [
          {
           "expr": "isValid(datum.value)",
           "type": "filter"
          },
          {
           "sort": {
            "field": [
             "trajectory",
             "timepoint"
            ]
           },
           "type": "collect"
          }
         ],
         "values": [
          {
           "color_by": "Trajectory Mean",
           "sample_id": 0,
           "timepoint": 0,
           "trajectory": "Baseline_Trajectory_Mean",
           "value": 0.17643262863048095
          },
          {
           "color_by": "Trajectory Mean",
           "sample_id": 0,
           "timepoint": 1,
           "trajectory": "Baseline_Trajectory_Mean",
           "value": 1.1664828659191346
          },
          {
           "color_by": "Trajectory Mean",
           "sample_id": 0,
           "timepoint": 2,
           "trajectory": "Baseline_Trajectory_Mean",
           "value": 1.3463007423812088
          },
          {
           "color_by": "Trajectory Mean",
           "sample_id": 0,
           "timepoint": 3,
           "trajectory": "Baseline_Trajectory_Mean",
           "value": 1.4648647229273406
          },
          {
           "color_by": "Trajectory Mean",
           "sample_id": 0,
           "timepoint": 4,
           "trajectory": "Baseline_Trajectory_Mean",
           "value": 1.5562461775829888
          },
          {
           "color_by": "Trajectory Mean",
           "sample_id": 0,
           "timepoint": 5,
           "trajectory": "Baseline_Trajectory_Mean",
           "value": 1.6325309457376542
          },
          {
           "color_by": "Trajectory Mean",
           "sample_id": 0,
           "timepoint": 6,
           "trajectory": "Baseline_Trajectory_Mean",
           "value": 1.6995686429766557
          },
          {
           "color_by": "Trajectory Mean",
           "sample_id": 0,
           "timepoint": 7,
           "trajectory": "Baseline_Trajectory_Mean",
           "value": 1.7606263673086715
          },
          {
           "color_by": "Trajectory Mean",
           "sample_id": 0,
           "timepoint": 8,
           "trajectory": "Baseline_Trajectory_Mean",
           "value": 1.817643696493162
          },
          {
           "color_by": "Trajectory Mean",
           "sample_id": 0,
           "timepoint": 9,
           "trajectory": "Baseline_Trajectory_Mean",
           "value": 1.871771395471077
          },
          {
           "color_by": "Trajectory Mean",
           "sample_id": 0,
           "timepoint": 10,
           "trajectory": "Baseline_Trajectory_Mean",
           "value": 1.9236440748892683
          },
          {
           "color_by": "Trajectory Mean",
           "sample_id": 0,
           "timepoint": 11,
           "trajectory": "Baseline_Trajectory_Mean",
           "value": 1.9735398407762157
          },
          {
           "color_by": "Trajectory Mean",
           "sample_id": 0,
           "timepoint": 12,
           "trajectory": "Baseline_Trajectory_Mean",
           "value": 2.0214873979086474
          },
          {
           "color_by": "Trajectory Mean",
           "sample_id": 0,
           "timepoint": 13,
           "trajectory": "Baseline_Trajectory_Mean",
           "value": 2.0673467825960086
          },
          {
           "color_by": "Trajectory Mean",
           "sample_id": 0,
           "timepoint": 14,
           "trajectory": "Baseline_Trajectory_Mean",
           "value": 2.110875485604085
          },
          {
           "color_by": "Trajectory Mean",
           "sample_id": 0,
           "timepoint": 15,
           "trajectory": "Baseline_Trajectory_Mean",
           "value": 2.1517850738372686
          },
          {
           "color_by": "Trajectory Mean",
           "sample_id": 0,
           "timepoint": 16,
           "trajectory": "Baseline_Trajectory_Mean",
           "value": 2.18979016413028
          },
          {
           "color_by": "Trajectory Mean",
           "sample_id": 0,
           "timepoint": 17,
           "trajectory": "Baseline_Trajectory_Mean",
           "value": 2.224649993912836
          },
          {
           "color_by": "Trajectory Mean",
           "sample_id": 0,
           "timepoint": 18,
           "trajectory": "Baseline_Trajectory_Mean",
           "value": 2.256202103221925
          },
          {
           "color_by": "Trajectory Mean",
           "sample_id": 0,
           "timepoint": 19,
           "trajectory": "Baseline_Trajectory_Mean",
           "value": 2.284387421688529
          },
          {
           "color_by": "Trajectory Mean",
           "sample_id": 0,
           "timepoint": 20,
           "trajectory": "Baseline_Trajectory_Mean",
           "value": 2.3092661468275364
          },
          {
           "color_by": "Trajectory Mean",
           "sample_id": 0,
           "timepoint": 21,
           "trajectory": "Baseline_Trajectory_Mean",
           "value": 2.3310240888955094
          },
          {
           "color_by": "Trajectory Mean",
           "sample_id": 0,
           "timepoint": 22,
           "trajectory": "Baseline_Trajectory_Mean",
           "value": 2.34996956277878
          },
          {
           "color_by": "Trajectory Mean",
           "sample_id": 0,
           "timepoint": 23,
           "trajectory": "Baseline_Trajectory_Mean",
           "value": 2.366521367833303
          },
          {
           "color_by": "Trajectory Mean",
           "sample_id": 0,
           "timepoint": 24,
           "trajectory": "Baseline_Trajectory_Mean",
           "value": 2.3811888623037643
          },
          {
           "color_by": "Trajectory Mean",
           "sample_id": 0,
           "timepoint": 25,
           "trajectory": "Baseline_Trajectory_Mean",
           "value": 2.3945455677875422
          },
          {
           "color_by": "Trajectory Mean",
           "sample_id": 0,
           "timepoint": 26,
           "trajectory": "Baseline_Trajectory_Mean",
           "value": 2.4071980961983157
          },
          {
           "color_by": "Trajectory Mean",
           "sample_id": 0,
           "timepoint": 27,
           "trajectory": "Baseline_Trajectory_Mean",
           "value": 2.4197524492426483
          },
          {
           "color_by": "Trajectory Mean",
           "sample_id": 0,
           "timepoint": 28,
           "trajectory": "Baseline_Trajectory_Mean",
           "value": 2.432779878972468
          },
          {
           "color_by": "Trajectory Mean",
           "sample_id": 0,
           "timepoint": 29,
           "trajectory": "Baseline_Trajectory_Mean",
           "value": 2.446784506496543
          },
          {
           "color_by": "Trajectory Mean",
           "sample_id": 0,
           "timepoint": 30,
           "trajectory": "Baseline_Trajectory_Mean",
           "value": 2.462174772240675
          },
          {
           "color_by": "Trajectory Mean",
           "sample_id": 0,
           "timepoint": 31,
           "trajectory": "Baseline_Trajectory_Mean",
           "value": 2.479240541774017
          },
          {
           "color_by": "Trajectory Mean",
           "sample_id": 0,
           "timepoint": 32,
           "trajectory": "Baseline_Trajectory_Mean",
           "value": 2.4981373308516956
          },
          {
           "color_by": "Trajectory Mean",
           "sample_id": 0,
           "timepoint": 33,
           "trajectory": "Baseline_Trajectory_Mean",
           "value": 2.5188786637770315
          },
          {
           "color_by": "Trajectory Mean",
           "sample_id": 0,
           "timepoint": 34,
           "trajectory": "Baseline_Trajectory_Mean",
           "value": 2.5413370679799363
          },
          {
           "color_by": "Trajectory Mean",
           "sample_id": 0,
           "timepoint": 35,
           "trajectory": "Baseline_Trajectory_Mean",
           "value": 2.5652536663079126
          },
          {
           "color_by": "Trajectory Mean",
           "sample_id": 0,
           "timepoint": 36,
           "trajectory": "Baseline_Trajectory_Mean",
           "value": 2.590255790356727
          },
          {
           "color_by": "Trajectory Mean",
           "sample_id": 0,
           "timepoint": 37,
           "trajectory": "Baseline_Trajectory_Mean",
           "value": 2.6158815365109307
          },
          {
           "color_by": "Trajectory Mean",
           "sample_id": 0,
           "timepoint": 38,
           "trajectory": "Baseline_Trajectory_Mean",
           "value": 2.6416097522741318
          },
          {
           "color_by": "Trajectory Mean",
           "sample_id": 0,
           "timepoint": 39,
           "trajectory": "Baseline_Trajectory_Mean",
           "value": 2.6668936008300395
          },
          {
           "color_by": "Trajectory Mean",
           "sample_id": 0,
           "timepoint": 40,
           "trajectory": "Baseline_Trajectory_Mean",
           "value": 2.69119562762343
          },
          {
           "color_by": "Trajectory Mean",
           "sample_id": 0,
           "timepoint": 41,
           "trajectory": "Baseline_Trajectory_Mean",
           "value": 2.714022157958572
          },
          {
           "color_by": "Trajectory Mean",
           "sample_id": 0,
           "timepoint": 42,
           "trajectory": "Baseline_Trajectory_Mean",
           "value": 2.7349548950246803
          },
          {
           "color_by": "Trajectory Mean",
           "sample_id": 0,
           "timepoint": 43,
           "trajectory": "Baseline_Trajectory_Mean",
           "value": 2.7536777608214145
          },
          {
           "color_by": "Trajectory Mean",
           "sample_id": 0,
           "timepoint": 44,
           "trajectory": "Baseline_Trajectory_Mean",
           "value": 2.7699973173801467
          },
          {
           "color_by": "Trajectory Mean",
           "sample_id": 0,
           "timepoint": 45,
           "trajectory": "Baseline_Trajectory_Mean",
           "value": 2.7838555040964454
          },
          {
           "color_by": "Trajectory Mean",
           "sample_id": 0,
           "timepoint": 46,
           "trajectory": "Baseline_Trajectory_Mean",
           "value": 2.795333904113291
          },
          {
           "color_by": "Trajectory Mean",
           "sample_id": 0,
           "timepoint": 47,
           "trajectory": "Baseline_Trajectory_Mean",
           "value": 2.8046492788410933
          },
          {
           "color_by": "Trajectory Mean",
           "sample_id": 0,
           "timepoint": 48,
           "trajectory": "Baseline_Trajectory_Mean",
           "value": 2.8121406521424355
          },
          {
           "color_by": "Trajectory Mean",
           "sample_id": 0,
           "timepoint": 49,
           "trajectory": "Baseline_Trajectory_Mean",
           "value": 2.8182487507090634
          },
          {
           "color_by": "Trajectory Mean",
           "sample_id": 0,
           "timepoint": 50,
           "trajectory": "Baseline_Trajectory_Mean",
           "value": 2.823489082064549
          },
          {
           "color_by": "Trajectory Mean",
           "sample_id": 0,
           "timepoint": 51,
           "trajectory": "Baseline_Trajectory_Mean",
           "value": 2.828420326903335
          },
          {
           "color_by": "Trajectory Mean",
           "sample_id": 0,
           "timepoint": 52,
           "trajectory": "Baseline_Trajectory_Mean",
           "value": 2.8336100135424447
          },
          {
           "color_by": "Trajectory Mean",
           "sample_id": 0,
           "timepoint": 53,
           "trajectory": "Baseline_Trajectory_Mean",
           "value": 2.8395996110137003
          },
          {
           "color_by": "Trajectory Mean",
           "sample_id": 0,
           "timepoint": 54,
           "trajectory": "Baseline_Trajectory_Mean",
           "value": 2.8468712132649943
          },
          {
           "color_by": "Trajectory Mean",
           "sample_id": 0,
           "timepoint": 55,
           "trajectory": "Baseline_Trajectory_Mean",
           "value": 2.8558178878306375
          },
          {
           "color_by": "Trajectory Mean",
           "sample_id": 0,
           "timepoint": 56,
           "trajectory": "Baseline_Trajectory_Mean",
           "value": 2.866719534331797
          },
          {
           "color_by": "Trajectory Mean",
           "sample_id": 0,
           "timepoint": 57,
           "trajectory": "Baseline_Trajectory_Mean",
           "value": 2.879725755451701
          },
          {
           "color_by": "Trajectory Mean",
           "sample_id": 0,
           "timepoint": 58,
           "trajectory": "Baseline_Trajectory_Mean",
           "value": 2.894846806902662
          },
          {
           "color_by": "Trajectory Mean",
           "sample_id": 0,
           "timepoint": 59,
           "trajectory": "Baseline_Trajectory_Mean",
           "value": 2.9119531904773313
          },
          {
           "color_by": "Trajectory Mean",
           "sample_id": 0,
           "timepoint": 60,
           "trajectory": "Baseline_Trajectory_Mean",
           "value": 2.9307839167915644
          },
          {
           "color_by": "Trajectory Mean",
           "sample_id": 0,
           "timepoint": 61,
           "trajectory": "Baseline_Trajectory_Mean",
           "value": 2.95096292519748
          },
          {
           "color_by": "Trajectory Mean",
           "sample_id": 0,
           "timepoint": 62,
           "trajectory": "Baseline_Trajectory_Mean",
           "value": 2.9720226410919732
          },
          {
           "color_by": "Trajectory Mean",
           "sample_id": 0,
           "timepoint": 63,
           "trajectory": "Baseline_Trajectory_Mean",
           "value": 2.9934332070054155
          },
          {
           "color_by": "Trajectory Mean",
           "sample_id": 0,
           "timepoint": 64,
           "trajectory": "Baseline_Trajectory_Mean",
           "value": 3.01463557102245
          },
          {
           "color_by": "Trajectory Mean",
           "sample_id": 0,
           "timepoint": 65,
           "trajectory": "Baseline_Trajectory_Mean",
           "value": 3.035076376198305
          },
          {
           "color_by": "Trajectory Mean",
           "sample_id": 0,
           "timepoint": 66,
           "trajectory": "Baseline_Trajectory_Mean",
           "value": 3.0542424826041605
          },
          {
           "color_by": "Trajectory Mean",
           "sample_id": 0,
           "timepoint": 67,
           "trajectory": "Baseline_Trajectory_Mean",
           "value": 3.0716929764287286
          },
          {
           "color_by": "Trajectory Mean",
           "sample_id": 0,
           "timepoint": 68,
           "trajectory": "Baseline_Trajectory_Mean",
           "value": 3.0870866767625276
          },
          {
           "color_by": "Trajectory Mean",
           "sample_id": 0,
           "timepoint": 69,
           "trajectory": "Baseline_Trajectory_Mean",
           "value": 3.10020343058411
          },
          {
           "color_by": "Trajectory Mean",
           "sample_id": 0,
           "timepoint": 70,
           "trajectory": "Baseline_Trajectory_Mean",
           "value": 3.1109578726509914
          },
          {
           "color_by": "Trajectory Mean",
           "sample_id": 0,
           "timepoint": 71,
           "trajectory": "Baseline_Trajectory_Mean",
           "value": 3.11940479546071
          },
          {
           "color_by": "Trajectory Mean",
           "sample_id": 0,
           "timepoint": 72,
           "trajectory": "Baseline_Trajectory_Mean",
           "value": 3.125735796062345
          },
          {
           "color_by": "Trajectory Mean",
           "sample_id": 0,
           "timepoint": 73,
           "trajectory": "Baseline_Trajectory_Mean",
           "value": 3.1302674088340283
          },
          {
           "color_by": "Trajectory Mean",
           "sample_id": 0,
           "timepoint": 74,
           "trajectory": "Baseline_Trajectory_Mean",
           "value": 3.133421462677578
          },
          {
           "color_by": "Trajectory Mean",
           "sample_id": 0,
           "timepoint": 75,
           "trajectory": "Baseline_Trajectory_Mean",
           "value": 3.1356988845054534
          },
          {
           "color_by": "Trajectory Mean",
           "sample_id": 0,
           "timepoint": 76,
           "trajectory": "Baseline_Trajectory_Mean",
           "value": 3.1376485783507273
          },
          {
           "color_by": "Trajectory Mean",
           "sample_id": 0,
           "timepoint": 77,
           "trajectory": "Baseline_Trajectory_Mean",
           "value": 3.1398333155838083
          },
          {
           "color_by": "Trajectory Mean",
           "sample_id": 0,
           "timepoint": 78,
           "trajectory": "Baseline_Trajectory_Mean",
           "value": 3.1427947575349564
          },
          {
           "color_by": "Trajectory Mean",
           "sample_id": 0,
           "timepoint": 79,
           "trajectory": "Baseline_Trajectory_Mean",
           "value": 3.1470197857460125
          },
          {
           "color_by": "Trajectory Mean",
           "sample_id": 0,
           "timepoint": 80,
           "trajectory": "Baseline_Trajectory_Mean",
           "value": 3.15291023375523
          },
          {
           "color_by": "Trajectory Mean",
           "sample_id": 0,
           "timepoint": 81,
           "trajectory": "Baseline_Trajectory_Mean",
           "value": 3.160757902811701
          },
          {
           "color_by": "Trajectory Mean",
           "sample_id": 0,
           "timepoint": 82,
           "trajectory": "Baseline_Trajectory_Mean",
           "value": 3.1707264153708494
          },
          {
           "color_by": "Trajectory Mean",
           "sample_id": 0,
           "timepoint": 83,
           "trajectory": "Baseline_Trajectory_Mean",
           "value": 3.1828410350672702
          },
          {
           "color_by": "Trajectory Mean",
           "sample_id": 0,
           "timepoint": 84,
           "trajectory": "Baseline_Trajectory_Mean",
           "value": 3.196987086529608
          },
          {
           "color_by": "Trajectory Mean",
           "sample_id": 0,
           "timepoint": 85,
           "trajectory": "Baseline_Trajectory_Mean",
           "value": 3.2129170736915893
          },
          {
           "color_by": "Trajectory Mean",
           "sample_id": 0,
           "timepoint": 86,
           "trajectory": "Baseline_Trajectory_Mean",
           "value": 3.2302660544093413
          },
          {
           "color_by": "Trajectory Mean",
           "sample_id": 0,
           "timepoint": 87,
           "trajectory": "Baseline_Trajectory_Mean",
           "value": 3.248574315844725
          },
          {
           "color_by": "Trajectory Mean",
           "sample_id": 0,
           "timepoint": 88,
           "trajectory": "Baseline_Trajectory_Mean",
           "value": 3.2673159411352137
          },
          {
           "color_by": "Trajectory Mean",
           "sample_id": 0,
           "timepoint": 89,
           "trajectory": "Baseline_Trajectory_Mean",
           "value": 3.2859314915664855
          },
          {
           "color_by": "Trajectory Mean",
           "sample_id": 0,
           "timepoint": 90,
           "trajectory": "Baseline_Trajectory_Mean",
           "value": 3.3038627725694587
          },
          {
           "color_by": "Trajectory Mean",
           "sample_id": 0,
           "timepoint": 91,
           "trajectory": "Baseline_Trajectory_Mean",
           "value": 3.320587522289103
          },
          {
           "color_by": "Trajectory Mean",
           "sample_id": 0,
           "timepoint": 92,
           "trajectory": "Baseline_Trajectory_Mean",
           "value": 3.335651866274382
          },
          {
           "color_by": "Trajectory Mean",
           "sample_id": 0,
           "timepoint": 93,
           "trajectory": "Baseline_Trajectory_Mean",
           "value": 3.348698520718454
          },
          {
           "color_by": "Trajectory Mean",
           "sample_id": 0,
           "timepoint": 94,
           "trajectory": "Baseline_Trajectory_Mean",
           "value": 3.3594889910009536
          },
          {
           "color_by": "Trajectory Mean",
           "sample_id": 0,
           "timepoint": 95,
           "trajectory": "Baseline_Trajectory_Mean",
           "value": 3.367918385615385
          },
          {
           "color_by": "Trajectory Mean",
           "sample_id": 0,
           "timepoint": 96,
           "trajectory": "Baseline_Trajectory_Mean",
           "value": 3.3740219246925163
          },
          {
           "color_by": "Trajectory Mean",
           "sample_id": 0,
           "timepoint": 97,
           "trajectory": "Baseline_Trajectory_Mean",
           "value": 3.377972738708764
          },
          {
           "color_by": "Trajectory Mean",
           "sample_id": 0,
           "timepoint": 98,
           "trajectory": "Baseline_Trajectory_Mean",
           "value": 3.380071094490979
          },
          {
           "color_by": "Trajectory Mean",
           "sample_id": 0,
           "timepoint": 99,
           "trajectory": "Baseline_Trajectory_Mean",
           "value": 3.380725718626621
          },
          {
           "color_by": "Chaos",
           "sample_id": 0,
           "timepoint": 0,
           "trajectory": "Chaos",
           "value": 0.3838363769081476
          },
          {
           "color_by": "Chaos",
           "sample_id": 0,
           "timepoint": 1,
           "trajectory": "Chaos",
           "value": 1.1855834989669507
          },
          {
           "color_by": "Chaos",
           "sample_id": 0,
           "timepoint": 2,
           "trajectory": "Chaos",
           "value": 1.1888641397566486
          },
          {
           "color_by": "Chaos",
           "sample_id": 0,
           "timepoint": 3,
           "trajectory": "Chaos",
           "value": 1.153690974867893
          },
          {
           "color_by": "Chaos",
           "sample_id": 0,
           "timepoint": 4,
           "trajectory": "Chaos",
           "value": 1.1237517391034746
          },
          {
           "color_by": "Chaos",
           "sample_id": 0,
           "timepoint": 5,
           "trajectory": "Chaos",
           "value": 1.118732768943374
          },
          {
           "color_by": "Chaos",
           "sample_id": 0,
           "timepoint": 6,
           "trajectory": "Chaos",
           "value": 1.1495956251555084
          },
          {
           "color_by": "Chaos",
           "sample_id": 0,
           "timepoint": 7,
           "trajectory": "Chaos",
           "value": 1.221912841803681
          },
          {
           "color_by": "Chaos",
           "sample_id": 0,
           "timepoint": 8,
           "trajectory": "Chaos",
           "value": 1.3369794626180072
          },
          {
           "color_by": "Chaos",
           "sample_id": 0,
           "timepoint": 9,
           "trajectory": "Chaos",
           "value": 1.4923917036579644
          },
          {
           "color_by": "Chaos",
           "sample_id": 0,
           "timepoint": 10,
           "trajectory": "Chaos",
           "value": 1.6825404992525623
          },
          {
           "color_by": "Chaos",
           "sample_id": 0,
           "timepoint": 11,
           "trajectory": "Chaos",
           "value": 1.89915923777975
          },
          {
           "color_by": "Chaos",
           "sample_id": 0,
           "timepoint": 12,
           "trajectory": "Chaos",
           "value": 2.1319620207213985
          },
          {
           "color_by": "Chaos",
           "sample_id": 0,
           "timepoint": 13,
           "trajectory": "Chaos",
           "value": 2.3693655962402778
          },
          {
           "color_by": "Chaos",
           "sample_id": 0,
           "timepoint": 14,
           "trajectory": "Chaos",
           "value": 2.599266861444305
          },
          {
           "color_by": "Chaos",
           "sample_id": 0,
           "timepoint": 15,
           "trajectory": "Chaos",
           "value": 2.809836812035126
          },
          {
           "color_by": "Chaos",
           "sample_id": 0,
           "timepoint": 16,
           "trajectory": "Chaos",
           "value": 2.99028694940493
          },
          {
           "color_by": "Chaos",
           "sample_id": 0,
           "timepoint": 17,
           "trajectory": "Chaos",
           "value": 3.131563783606858
          },
          {
           "color_by": "Chaos",
           "sample_id": 0,
           "timepoint": 18,
           "trajectory": "Chaos",
           "value": 3.226930350689995
          },
          {
           "color_by": "Chaos",
           "sample_id": 0,
           "timepoint": 19,
           "trajectory": "Chaos",
           "value": 3.272399976457906
          },
          {
           "color_by": "Chaos",
           "sample_id": 0,
           "timepoint": 20,
           "trajectory": "Chaos",
           "value": 3.2669962636103533
          },
          {
           "color_by": "Chaos",
           "sample_id": 0,
           "timepoint": 21,
           "trajectory": "Chaos",
           "value": 3.212823800193786
          },
          {
           "color_by": "Chaos",
           "sample_id": 0,
           "timepoint": 22,
           "trajectory": "Chaos",
           "value": 3.1149456681670467
          },
          {
           "color_by": "Chaos",
           "sample_id": 0,
           "timepoint": 23,
           "trajectory": "Chaos",
           "value": 2.9810757158341943
          },
          {
           "color_by": "Chaos",
           "sample_id": 0,
           "timepoint": 24,
           "trajectory": "Chaos",
           "value": 2.8211049865728812
          },
          {
           "color_by": "Chaos",
           "sample_id": 0,
           "timepoint": 25,
           "trajectory": "Chaos",
           "value": 2.6464919449550233
          },
          {
           "color_by": "Chaos",
           "sample_id": 0,
           "timepoint": 26,
           "trajectory": "Chaos",
           "value": 2.4695545644861396
          },
          {
           "color_by": "Chaos",
           "sample_id": 0,
           "timepoint": 27,
           "trajectory": "Chaos",
           "value": 2.302708409685329
          },
          {
           "color_by": "Chaos",
           "sample_id": 0,
           "timepoint": 28,
           "trajectory": "Chaos",
           "value": 2.157698178215404
          },
          {
           "color_by": "Chaos",
           "sample_id": 0,
           "timepoint": 29,
           "trajectory": "Chaos",
           "value": 2.044870556616803
          },
          {
           "color_by": "Chaos",
           "sample_id": 0,
           "timepoint": 30,
           "trajectory": "Chaos",
           "value": 1.9725336601311967
          },
          {
           "color_by": "Chaos",
           "sample_id": 0,
           "timepoint": 31,
           "trajectory": "Chaos",
           "value": 1.946442932567575
          },
          {
           "color_by": "Chaos",
           "sample_id": 0,
           "timepoint": 32,
           "trajectory": "Chaos",
           "value": 1.9694455107503754
          },
          {
           "color_by": "Chaos",
           "sample_id": 0,
           "timepoint": 33,
           "trajectory": "Chaos",
           "value": 2.0413051986116364
          },
          {
           "color_by": "Chaos",
           "sample_id": 0,
           "timepoint": 34,
           "trajectory": "Chaos",
           "value": 2.158718961030919
          },
          {
           "color_by": "Chaos",
           "sample_id": 0,
           "timepoint": 35,
           "trajectory": "Chaos",
           "value": 2.315523935305238
          },
          {
           "color_by": "Chaos",
           "sample_id": 0,
           "timepoint": 36,
           "trajectory": "Chaos",
           "value": 2.503082109053281
          },
          {
           "color_by": "Chaos",
           "sample_id": 0,
           "timepoint": 37,
           "trajectory": "Chaos",
           "value": 2.7108187639630184
          },
          {
           "color_by": "Chaos",
           "sample_id": 0,
           "timepoint": 38,
           "trajectory": "Chaos",
           "value": 2.926881221940809
          },
          {
           "color_by": "Chaos",
           "sample_id": 0,
           "timepoint": 39,
           "trajectory": "Chaos",
           "value": 3.138876948380263
          },
          {
           "color_by": "Chaos",
           "sample_id": 0,
           "timepoint": 40,
           "trajectory": "Chaos",
           "value": 3.3346451315434766
          },
          {
           "color_by": "Chaos",
           "sample_id": 0,
           "timepoint": 41,
           "trajectory": "Chaos",
           "value": 3.503013774251977
          },
          {
           "color_by": "Chaos",
           "sample_id": 0,
           "timepoint": 42,
           "trajectory": "Chaos",
           "value": 3.6344952336675362
          },
          {
           "color_by": "Chaos",
           "sample_id": 0,
           "timepoint": 43,
           "trajectory": "Chaos",
           "value": 3.7218769709327915
          },
          {
           "color_by": "Chaos",
           "sample_id": 0,
           "timepoint": 44,
           "trajectory": "Chaos",
           "value": 3.760670786924817
          },
          {
           "color_by": "Chaos",
           "sample_id": 0,
           "timepoint": 45,
           "trajectory": "Chaos",
           "value": 3.7493926182870685
          },
          {
           "color_by": "Chaos",
           "sample_id": 0,
           "timepoint": 46,
           "trajectory": "Chaos",
           "value": 3.689655502214164
          },
          {
           "color_by": "Chaos",
           "sample_id": 0,
           "timepoint": 47,
           "trajectory": "Chaos",
           "value": 3.5860699341806836
          },
          {
           "color_by": "Chaos",
           "sample_id": 0,
           "timepoint": 48,
           "trajectory": "Chaos",
           "value": 3.445957817706845
          },
          {
           "color_by": "Chaos",
           "sample_id": 0,
           "timepoint": 49,
           "trajectory": "Chaos",
           "value": 3.278897794787812
          },
          {
           "color_by": "Chaos",
           "sample_id": 0,
           "timepoint": 50,
           "trajectory": "Chaos",
           "value": 3.0961302291891952
          },
          {
           "color_by": "Chaos",
           "sample_id": 0,
           "timepoint": 51,
           "trajectory": "Chaos",
           "value": 2.909858840603155
          },
          {
           "color_by": "Chaos",
           "sample_id": 0,
           "timepoint": 52,
           "trajectory": "Chaos",
           "value": 2.7324924131336648
          },
          {
           "color_by": "Chaos",
           "sample_id": 0,
           "timepoint": 53,
           "trajectory": "Chaos",
           "value": 2.5758737272254963
          },
          {
           "color_by": "Chaos",
           "sample_id": 0,
           "timepoint": 54,
           "trajectory": "Chaos",
           "value": 2.4505436583222986
          },
          {
           "color_by": "Chaos",
           "sample_id": 0,
           "timepoint": 55,
           "trajectory": "Chaos",
           "value": 2.3650861988531675
          },
          {
           "color_by": "Chaos",
           "sample_id": 0,
           "timepoint": 56,
           "trajectory": "Chaos",
           "value": 2.325595128558669
          },
          {
           "color_by": "Chaos",
           "sample_id": 0,
           "timepoint": 57,
           "trajectory": "Chaos",
           "value": 2.3352954945133866
          },
          {
           "color_by": "Chaos",
           "sample_id": 0,
           "timepoint": 58,
           "trajectory": "Chaos",
           "value": 2.3943434367517473
          },
          {
           "color_by": "Chaos",
           "sample_id": 0,
           "timepoint": 59,
           "trajectory": "Chaos",
           "value": 2.4998168066190103
          },
          {
           "color_by": "Chaos",
           "sample_id": 0,
           "timepoint": 60,
           "trajectory": "Chaos",
           "value": 2.6458971622950407
          },
          {
           "color_by": "Chaos",
           "sample_id": 0,
           "timepoint": 61,
           "trajectory": "Chaos",
           "value": 2.8242318269370204
          },
          {
           "color_by": "Chaos",
           "sample_id": 0,
           "timepoint": 62,
           "trajectory": "Chaos",
           "value": 3.0244534993795225
          },
          {
           "color_by": "Chaos",
           "sample_id": 0,
           "timepoint": 63,
           "trajectory": "Chaos",
           "value": 3.234825111397784
          },
          {
           "color_by": "Chaos",
           "sample_id": 0,
           "timepoint": 64,
           "trajectory": "Chaos",
           "value": 3.4429698382451153
          },
          {
           "color_by": "Chaos",
           "sample_id": 0,
           "timepoint": 65,
           "trajectory": "Chaos",
           "value": 3.6366408746937684
          },
          {
           "color_by": "Chaos",
           "sample_id": 0,
           "timepoint": 66,
           "trajectory": "Chaos",
           "value": 3.804483116324607
          },
          {
           "color_by": "Chaos",
           "sample_id": 0,
           "timepoint": 67,
           "trajectory": "Chaos",
           "value": 3.9367393890510787
          },
          {
           "color_by": "Chaos",
           "sample_id": 0,
           "timepoint": 68,
           "trajectory": "Chaos",
           "value": 4.025857317537672
          },
          {
           "color_by": "Chaos",
           "sample_id": 0,
           "timepoint": 69,
           "trajectory": "Chaos",
           "value": 4.066959100922051
          },
          {
           "color_by": "Chaos",
           "sample_id": 0,
           "timepoint": 70,
           "trajectory": "Chaos",
           "value": 4.058144987970398
          },
          {
           "color_by": "Chaos",
           "sample_id": 0,
           "timepoint": 71,
           "trajectory": "Chaos",
           "value": 4.00061158352318
          },
          {
           "color_by": "Chaos",
           "sample_id": 0,
           "timepoint": 72,
           "trajectory": "Chaos",
           "value": 3.8985776309490627
          },
          {
           "color_by": "Chaos",
           "sample_id": 0,
           "timepoint": 73,
           "trajectory": "Chaos",
           "value": 3.7590218855037523
          },
          {
           "color_by": "Chaos",
           "sample_id": 0,
           "timepoint": 74,
           "trajectory": "Chaos",
           "value": 3.5912493767402025
          },
          {
           "color_by": "Chaos",
           "sample_id": 0,
           "timepoint": 75,
           "trajectory": "Chaos",
           "value": 3.406313028028721
          },
          {
           "color_by": "Chaos",
           "sample_id": 0,
           "timepoint": 76,
           "trajectory": "Chaos",
           "value": 3.2163265944163766
          },
          {
           "color_by": "Chaos",
           "sample_id": 0,
           "timepoint": 77,
           "trajectory": "Chaos",
           "value": 3.0337116373327886
          },
          {
           "color_by": "Chaos",
           "sample_id": 0,
           "timepoint": 78,
           "trajectory": "Chaos",
           "value": 2.8704253558988455
          },
          {
           "color_by": "Chaos",
           "sample_id": 0,
           "timepoint": 79,
           "trajectory": "Chaos",
           "value": 2.7372172848202196
          },
          {
           "color_by": "Chaos",
           "sample_id": 0,
           "timepoint": 80,
           "trajectory": "Chaos",
           "value": 2.642961074046126
          },
          {
           "color_by": "Chaos",
           "sample_id": 0,
           "timepoint": 81,
           "trajectory": "Chaos",
           "value": 2.5941028971375233
          },
          {
           "color_by": "Chaos",
           "sample_id": 0,
           "timepoint": 82,
           "trajectory": "Chaos",
           "value": 2.594260783866113
          },
          {
           "color_by": "Chaos",
           "sample_id": 0,
           "timepoint": 83,
           "trajectory": "Chaos",
           "value": 2.6439997888143334
          },
          {
           "color_by": "Chaos",
           "sample_id": 0,
           "timepoint": 84,
           "trajectory": "Chaos",
           "value": 2.740796975103072
          },
          {
           "color_by": "Chaos",
           "sample_id": 0,
           "timepoint": 85,
           "trajectory": "Chaos",
           "value": 2.879198390576939
          },
          {
           "color_by": "Chaos",
           "sample_id": 0,
           "timepoint": 86,
           "trajectory": "Chaos",
           "value": 3.051158276604958
          },
          {
           "color_by": "Chaos",
           "sample_id": 0,
           "timepoint": 87,
           "trajectory": "Chaos",
           "value": 3.2465394193030943
          },
          {
           "color_by": "Chaos",
           "sample_id": 0,
           "timepoint": 88,
           "trajectory": "Chaos",
           "value": 3.4537435339203197
          },
          {
           "color_by": "Chaos",
           "sample_id": 0,
           "timepoint": 89,
           "trajectory": "Chaos",
           "value": 3.660432488288864
          },
          {
           "color_by": "Chaos",
           "sample_id": 0,
           "timepoint": 90,
           "trajectory": "Chaos",
           "value": 3.854295523298092
          },
          {
           "color_by": "Chaos",
           "sample_id": 0,
           "timepoint": 91,
           "trajectory": "Chaos",
           "value": 4.0238147684716745
          },
          {
           "color_by": "Chaos",
           "sample_id": 0,
           "timepoint": 92,
           "trajectory": "Chaos",
           "value": 4.15898145672281
          },
          {
           "color_by": "Chaos",
           "sample_id": 0,
           "timepoint": 93,
           "trajectory": "Chaos",
           "value": 4.251918307641888
          },
          {
           "color_by": "Chaos",
           "sample_id": 0,
           "timepoint": 94,
           "trajectory": "Chaos",
           "value": 4.297369382650961
          },
          {
           "color_by": "Chaos",
           "sample_id": 0,
           "timepoint": 95,
           "trajectory": "Chaos",
           "value": 4.293026955310931
          },
          {
           "color_by": "Chaos",
           "sample_id": 0,
           "timepoint": 96,
           "trajectory": "Chaos",
           "value": 4.2396750736702975
          },
          {
           "color_by": "Chaos",
           "sample_id": 0,
           "timepoint": 97,
           "trajectory": "Chaos",
           "value": 4.141140888740183
          },
          {
           "color_by": "Chaos",
           "sample_id": 0,
           "timepoint": 98,
           "trajectory": "Chaos",
           "value": 4.004056775346685
          },
          {
           "color_by": "Chaos",
           "sample_id": 0,
           "timepoint": 99,
           "trajectory": "Chaos",
           "value": 3.8374480356206733
          },
          {
           "color_by": "Mean",
           "sample_id": 0,
           "timepoint": 0,
           "trajectory": "Mean",
           "value": 0.1870440040460069
          },
          {
           "color_by": "Mean",
           "sample_id": 0,
           "timepoint": 1,
           "trajectory": "Mean",
           "value": 1.1870440040460069
          },
          {
           "color_by": "Mean",
           "sample_id": 0,
           "timepoint": 2,
           "trajectory": "Mean",
           "value": 1.3762511190487279
          },
          {
           "color_by": "Mean",
           "sample_id": 0,
           "timepoint": 3,
           "trajectory": "Mean",
           "value": 1.5031180169984992
          },
          {
           "color_by": "Mean",
           "sample_id": 0,
           "timepoint": 4,
           "trajectory": "Mean",
           "value": 1.601257566419102
          },
          {
           "color_by": "Mean",
           "sample_id": 0,
           "timepoint": 5,
           "trajectory": "Mean",
           "value": 1.6823927852672274
          },
          {
           "color_by": "Mean",
           "sample_id": 0,
           "timepoint": 6,
           "trajectory": "Mean",
           "value": 1.7521285841192942
          },
          {
           "color_by": "Mean",
           "sample_id": 0,
           "timepoint": 7,
           "trajectory": "Mean",
           "value": 1.8136205657437925
          },
          {
           "color_by": "Mean",
           "sample_id": 0,
           "timepoint": 8,
           "trajectory": "Mean",
           "value": 1.8688368345534359
          },
          {
           "color_by": "Mean",
           "sample_id": 0,
           "timepoint": 9,
           "trajectory": "Mean",
           "value": 1.919094811614884
          },
          {
           "color_by": "Mean",
           "sample_id": 0,
           "timepoint": 10,
           "trajectory": "Mean",
           "value": 1.9653234140849296
          },
          {
           "color_by": "Mean",
           "sample_id": 0,
           "timepoint": 11,
           "trajectory": "Mean",
           "value": 2.008204290883879
          },
          {
           "color_by": "Mean",
           "sample_id": 0,
           "timepoint": 12,
           "trajectory": "Mean",
           "value": 2.048253722250206
          },
          {
           "color_by": "Mean",
           "sample_id": 0,
           "timepoint": 13,
           "trajectory": "Mean",
           "value": 2.0858729261619486
          },
          {
           "color_by": "Mean",
           "sample_id": 0,
           "timepoint": 14,
           "trajectory": "Mean",
           "value": 2.1213804243136765
          },
          {
           "color_by": "Mean",
           "sample_id": 0,
           "timepoint": 15,
           "trajectory": "Mean",
           "value": 2.1550336753114374
          },
          {
           "color_by": "Mean",
           "sample_id": 0,
           "timepoint": 16,
           "trajectory": "Mean",
           "value": 2.187044004046007
          },
          {
           "color_by": "Mean",
           "sample_id": 0,
           "timepoint": 17,
           "trajectory": "Mean",
           "value": 2.2175871889149374
          },
          {
           "color_by": "Mean",
           "sample_id": 0,
           "timepoint": 18,
           "trajectory": "Mean",
           "value": 2.2468111479531245
          },
          {
           "color_by": "Mean",
           "sample_id": 0,
           "timepoint": 19,
           "trajectory": "Mean",
           "value": 2.274841633975851
          },
          {
           "color_by": "Mean",
           "sample_id": 0,
           "timepoint": 20,
           "trajectory": "Mean",
           "value": 2.301786530927135
          },
          {
           "color_by": "Mean",
           "sample_id": 0,
           "timepoint": 21,
           "trajectory": "Mean",
           "value": 2.3277391469740794
          },
          {
           "color_by": "Mean",
           "sample_id": 0,
           "timepoint": 22,
           "trajectory": "Mean",
           "value": 2.3527807747140006
          },
          {
           "color_by": "Mean",
           "sample_id": 0,
           "timepoint": 23,
           "trajectory": "Mean",
           "value": 2.376982707140849
          },
          {
           "color_by": "Mean",
           "sample_id": 0,
           "timepoint": 24,
           "trajectory": "Mean",
           "value": 2.40040784344665
          },
          {
           "color_by": "Mean",
           "sample_id": 0,
           "timepoint": 25,
           "trajectory": "Mean",
           "value": 2.4231119815457967
          },
          {
           "color_by": "Mean",
           "sample_id": 0,
           "timepoint": 26,
           "trajectory": "Mean",
           "value": 2.4451448683992325
          },
          {
           "color_by": "Mean",
           "sample_id": 0,
           "timepoint": 27,
           "trajectory": "Mean",
           "value": 2.4665510610007844
          },
          {
           "color_by": "Mean",
           "sample_id": 0,
           "timepoint": 28,
           "trajectory": "Mean",
           "value": 2.4873706378372127
          },
          {
           "color_by": "Mean",
           "sample_id": 0,
           "timepoint": 29,
           "trajectory": "Mean",
           "value": 2.5076397911520907
          },
          {
           "color_by": "Mean",
           "sample_id": 0,
           "timepoint": 30,
           "trajectory": "Mean",
           "value": 2.527391323366723
          },
          {
           "color_by": "Mean",
           "sample_id": 0,
           "timepoint": 31,
           "trajectory": "Mean",
           "value": 2.546655065816574
          },
          {
           "color_by": "Mean",
           "sample_id": 0,
           "timepoint": 32,
           "trajectory": "Mean",
           "value": 2.565458234051449
          },
          {
           "color_by": "Mean",
           "sample_id": 0,
           "timepoint": 33,
           "trajectory": "Mean",
           "value": 2.583825730974437
          },
          {
           "color_by": "Mean",
           "sample_id": 0,
           "timepoint": 34,
           "trajectory": "Mean",
           "value": 2.601780406812425
          },
          {
           "color_by": "Mean",
           "sample_id": 0,
           "timepoint": 35,
           "trajectory": "Mean",
           "value": 2.6193432831437944
          },
          {
           "color_by": "Mean",
           "sample_id": 0,
           "timepoint": 36,
           "trajectory": "Mean",
           "value": 2.6365337468291847
          },
          {
           "color_by": "Mean",
           "sample_id": 0,
           "timepoint": 37,
           "trajectory": "Mean",
           "value": 2.6533697186056675
          },
          {
           "color_by": "Mean",
           "sample_id": 0,
           "timepoint": 38,
           "trajectory": "Mean",
           "value": 2.669867800244395
          },
          {
           "color_by": "Mean",
           "sample_id": 0,
           "timepoint": 39,
           "trajectory": "Mean",
           "value": 2.68604340348539
          },
          {
           "color_by": "Mean",
           "sample_id": 0,
           "timepoint": 40,
           "trajectory": "Mean",
           "value": 2.701910863411878
          },
          {
           "color_by": "Mean",
           "sample_id": 0,
           "timepoint": 41,
           "trajectory": "Mean",
           "value": 2.71748353848125
          },
          {
           "color_by": "Mean",
           "sample_id": 0,
           "timepoint": 42,
           "trajectory": "Mean",
           "value": 2.7327738990678374
          },
          {
           "color_by": "Mean",
           "sample_id": 0,
           "timepoint": 43,
           "trajectory": "Mean",
           "value": 2.7477936060770216
          },
          {
           "color_by": "Mean",
           "sample_id": 0,
           "timepoint": 44,
           "trajectory": "Mean",
           "value": 2.7625535809474013
          },
          {
           "color_by": "Mean",
           "sample_id": 0,
           "timepoint": 45,
           "trajectory": "Mean",
           "value": 2.777064068157358
          },
          {
           "color_by": "Mean",
           "sample_id": 0,
           "timepoint": 46,
           "trajectory": "Mean",
           "value": 2.7913346911862247
          },
          {
           "color_by": "Mean",
           "sample_id": 0,
           "timepoint": 47,
           "trajectory": "Mean",
           "value": 2.805374502741892
          },
          {
           "color_by": "Mean",
           "sample_id": 0,
           "timepoint": 48,
           "trajectory": "Mean",
           "value": 2.8191920299509916
          },
          {
           "color_by": "Mean",
           "sample_id": 0,
           "timepoint": 49,
           "trajectory": "Mean",
           "value": 2.8327953151105976
          },
          {
           "color_by": "Mean",
           "sample_id": 0,
           "timepoint": 50,
           "trajectory": "Mean",
           "value": 2.846191952518501
          },
          {
           "color_by": "Mean",
           "sample_id": 0,
           "timepoint": 51,
           "trajectory": "Mean",
           "value": 2.8593891218297953
          },
          {
           "color_by": "Mean",
           "sample_id": 0,
           "timepoint": 52,
           "trajectory": "Mean",
           "value": 2.872393618328657
          },
          {
           "color_by": "Mean",
           "sample_id": 0,
           "timepoint": 53,
           "trajectory": "Mean",
           "value": 2.8852118804540923
          },
          {
           "color_by": "Mean",
           "sample_id": 0,
           "timepoint": 54,
           "trajectory": "Mean",
           "value": 2.8978500148755413
          },
          {
           "color_by": "Mean",
           "sample_id": 0,
           "timepoint": 55,
           "trajectory": "Mean",
           "value": 2.910313819377507
          },
          {
           "color_by": "Mean",
           "sample_id": 0,
           "timepoint": 56,
           "trajectory": "Mean",
           "value": 2.9226088037807676
          },
          {
           "color_by": "Mean",
           "sample_id": 0,
           "timepoint": 57,
           "trajectory": "Mean",
           "value": 2.9347402091004793
          },
          {
           "color_by": "Mean",
           "sample_id": 0,
           "timepoint": 58,
           "trajectory": "Mean",
           "value": 2.9467130251179015
          },
          {
           "color_by": "Mean",
           "sample_id": 0,
           "timepoint": 59,
           "trajectory": "Mean",
           "value": 2.958532006522043
          },
          {
           "color_by": "Mean",
           "sample_id": 0,
           "timepoint": 60,
           "trajectory": "Mean",
           "value": 2.9702016877597472
          },
          {
           "color_by": "Mean",
           "sample_id": 0,
           "timepoint": 61,
           "trajectory": "Mean",
           "value": 2.981726396717248
          },
          {
           "color_by": "Mean",
           "sample_id": 0,
           "timepoint": 62,
           "trajectory": "Mean",
           "value": 2.99311026734269
          },
          {
           "color_by": "Mean",
           "sample_id": 0,
           "timepoint": 63,
           "trajectory": "Mean",
           "value": 3.0043572513072645
          },
          {
           "color_by": "Mean",
           "sample_id": 0,
           "timepoint": 64,
           "trajectory": "Mean",
           "value": 3.015471128792197
          },
          {
           "color_by": "Mean",
           "sample_id": 0,
           "timepoint": 65,
           "trajectory": "Mean",
           "value": 3.0264555184796844
          },
          {
           "color_by": "Mean",
           "sample_id": 0,
           "timepoint": 66,
           "trajectory": "Mean",
           "value": 3.037313886817805
          },
          {
           "color_by": "Mean",
           "sample_id": 0,
           "timepoint": 67,
           "trajectory": "Mean",
           "value": 3.048049556622312
          },
          {
           "color_by": "Mean",
           "sample_id": 0,
           "timepoint": 68,
           "trajectory": "Mean",
           "value": 3.0586657150719074
          },
          {
           "color_by": "Mean",
           "sample_id": 0,
           "timepoint": 69,
           "trajectory": "Mean",
           "value": 3.069165421148013
          },
          {
           "color_by": "Mean",
           "sample_id": 0,
           "timepoint": 70,
           "trajectory": "Mean",
           "value": 3.079551612565085
          },
          {
           "color_by": "Mean",
           "sample_id": 0,
           "timepoint": 71,
           "trajectory": "Mean",
           "value": 3.0898271122331065
          },
          {
           "color_by": "Mean",
           "sample_id": 0,
           "timepoint": 72,
           "trajectory": "Mean",
           "value": 3.0999946342899474
          },
          {
           "color_by": "Mean",
           "sample_id": 0,
           "timepoint": 73,
           "trajectory": "Mean",
           "value": 3.1100567897377718
          },
          {
           "color_by": "Mean",
           "sample_id": 0,
           "timepoint": 74,
           "trajectory": "Mean",
           "value": 3.120016091714525
          },
          {
           "color_by": "Mean",
           "sample_id": 0,
           "timepoint": 75,
           "trajectory": "Mean",
           "value": 3.129874960428719
          },
          {
           "color_by": "Mean",
           "sample_id": 0,
           "timepoint": 76,
           "trajectory": "Mean",
           "value": 3.139635727783196
          },
          {
           "color_by": "Mean",
           "sample_id": 0,
           "timepoint": 77,
           "trajectory": "Mean",
           "value": 3.1493006417113056
          },
          {
           "color_by": "Mean",
           "sample_id": 0,
           "timepoint": 78,
           "trajectory": "Mean",
           "value": 3.1588718702468483
          },
          {
           "color_by": "Mean",
           "sample_id": 0,
           "timepoint": 79,
           "trajectory": "Mean",
           "value": 3.1683515053473386
          },
          {
           "color_by": "Mean",
           "sample_id": 0,
           "timepoint": 80,
           "trajectory": "Mean",
           "value": 3.177741566488448
          },
          {
           "color_by": "Mean",
           "sample_id": 0,
           "timepoint": 81,
           "trajectory": "Mean",
           "value": 3.187044004046007
          },
          {
           "color_by": "Mean",
           "sample_id": 0,
           "timepoint": 82,
           "trajectory": "Mean",
           "value": 3.1962607024805707
          },
          {
           "color_by": "Mean",
           "sample_id": 0,
           "timepoint": 83,
           "trajectory": "Mean",
           "value": 3.20539348333834
          },
          {
           "color_by": "Mean",
           "sample_id": 0,
           "timepoint": 84,
           "trajectory": "Mean",
           "value": 3.2144441080810977
          },
          {
           "color_by": "Mean",
           "sample_id": 0,
           "timepoint": 85,
           "trajectory": "Mean",
           "value": 3.223414280756818
          },
          {
           "color_by": "Mean",
           "sample_id": 0,
           "timepoint": 86,
           "trajectory": "Mean",
           "value": 3.2323056505216763
          },
          {
           "color_by": "Mean",
           "sample_id": 0,
           "timepoint": 87,
           "trajectory": "Mean",
           "value": 3.2411198140233584
          },
          {
           "color_by": "Mean",
           "sample_id": 0,
           "timepoint": 88,
           "trajectory": "Mean",
           "value": 3.249858317654793
          },
          {
           "color_by": "Mean",
           "sample_id": 0,
           "timepoint": 89,
           "trajectory": "Mean",
           "value": 3.2585226596867396
          },
          {
           "color_by": "Mean",
           "sample_id": 0,
           "timepoint": 90,
           "trajectory": "Mean",
           "value": 3.26711429228703
          },
          {
           "color_by": "Mean",
           "sample_id": 0,
           "timepoint": 91,
           "trajectory": "Mean",
           "value": 3.275634623433668
          },
          {
           "color_by": "Mean",
           "sample_id": 0,
           "timepoint": 92,
           "trajectory": "Mean",
           "value": 3.2840850187284794
          },
          {
           "color_by": "Mean",
           "sample_id": 0,
           "timepoint": 93,
           "trajectory": "Mean",
           "value": 3.292466803117488
          },
          {
           "color_by": "Mean",
           "sample_id": 0,
           "timepoint": 94,
           "trajectory": "Mean",
           "value": 3.3007812625237767
          },
          {
           "color_by": "Mean",
           "sample_id": 0,
           "timepoint": 95,
           "trajectory": "Mean",
           "value": 3.309029645398152
          },
          {
           "color_by": "Mean",
           "sample_id": 0,
           "timepoint": 96,
           "trajectory": "Mean",
           "value": 3.3172131641925815
          },
          {
           "color_by": "Mean",
           "sample_id": 0,
           "timepoint": 97,
           "trajectory": "Mean",
           "value": 3.325332996761003
          },
          {
           "color_by": "Mean",
           "sample_id": 0,
           "timepoint": 98,
           "trajectory": "Mean",
           "value": 3.3333902876917954
          },
          {
           "color_by": "Mean",
           "sample_id": 0,
           "timepoint": 99,
           "trajectory": "Mean",
           "value": 3.341386149575911
          },
          {
           "color_by": "Variance 2/139",
           "sample_id": 0,
           "timepoint": 0,
           "trajectory": "Variance_2/139",
           "value": -0.39304224469077803
          },
          {
           "color_by": "Variance 2/139",
           "sample_id": 0,
           "timepoint": 1,
           "trajectory": "Variance_2/139",
           "value": 0.5944826446275022
          },
          {
           "color_by": "Variance 2/139",
           "sample_id": 0,
           "timepoint": 2,
           "trajectory": "Variance_2/139",
           "value": 0.7719902909084759
          },
          {
           "color_by": "Variance 2/139",
           "sample_id": 0,
           "timepoint": 3,
           "trajectory": "Variance_2/139",
           "value": 0.8886607783961351
          },
          {
           "color_by": "Variance 2/139",
           "sample_id": 0,
           "timepoint": 4,
           "trajectory": "Variance_2/139",
           "value": 0.9787409390312836
          },
          {
           "color_by": "Variance 2/139",
           "sample_id": 0,
           "timepoint": 5,
           "trajectory": "Variance_2/139",
           "value": 1.0544548845302764
          },
          {
           "color_by": "Variance 2/139",
           "sample_id": 0,
           "timepoint": 6,
           "trajectory": "Variance_2/139",
           "value": 1.121744593988871
          },
          {
           "color_by": "Variance 2/139",
           "sample_id": 0,
           "timepoint": 7,
           "trajectory": "Variance_2/139",
           "value": 1.183917756166602
          },
          {
           "color_by": "Variance 2/139",
           "sample_id": 0,
           "timepoint": 8,
           "trajectory": "Variance_2/139",
           "value": 1.2429001229686274
          },
          {
           "color_by": "Variance 2/139",
           "sample_id": 0,
           "timepoint": 9,
           "trajectory": "Variance_2/139",
           "value": 1.29977495772924
          },
          {
           "color_by": "Variance 2/139",
           "sample_id": 0,
           "timepoint": 10,
           "trajectory": "Variance_2/139",
           "value": 1.3550597734417273
          },
          {
           "color_by": "Variance 2/139",
           "sample_id": 0,
           "timepoint": 11,
           "trajectory": "Variance_2/139",
           "value": 1.408873147550037
          },
          {
           "color_by": "Variance 2/139",
           "sample_id": 0,
           "timepoint": 12,
           "trajectory": "Variance_2/139",
           "value": 1.4610516305606376
          },
          {
           "color_by": "Variance 2/139",
           "sample_id": 0,
           "timepoint": 13,
           "trajectory": "Variance_2/139",
           "value": 1.5112423147664324
          },
          {
           "color_by": "Variance 2/139",
           "sample_id": 0,
           "timepoint": 14,
           "trajectory": "Variance_2/139",
           "value": 1.5589820881062821
          },
          {
           "color_by": "Variance 2/139",
           "sample_id": 0,
           "timepoint": 15,
           "trajectory": "Variance_2/139",
           "value": 1.6037678655610998
          },
          {
           "color_by": "Variance 2/139",
           "sample_id": 0,
           "timepoint": 16,
           "trajectory": "Variance_2/139",
           "value": 1.6451188054460768
          },
          {
           "color_by": "Variance 2/139",
           "sample_id": 0,
           "timepoint": 17,
           "trajectory": "Variance_2/139",
           "value": 1.6826299321979474
          },
          {
           "color_by": "Variance 2/139",
           "sample_id": 0,
           "timepoint": 18,
           "trajectory": "Variance_2/139",
           "value": 1.7160159309740044
          },
          {
           "color_by": "Variance 2/139",
           "sample_id": 0,
           "timepoint": 19,
           "trajectory": "Variance_2/139",
           "value": 1.7451437791171418
          },
          {
           "color_by": "Variance 2/139",
           "sample_id": 0,
           "timepoint": 20,
           "trajectory": "Variance_2/139",
           "value": 1.7700531319097184
          },
          {
           "color_by": "Variance 2/139",
           "sample_id": 0,
           "timepoint": 21,
           "trajectory": "Variance_2/139",
           "value": 1.790963857795626
          },
          {
           "color_by": "Variance 2/139",
           "sample_id": 0,
           "timepoint": 22,
           "trajectory": "Variance_2/139",
           "value": 1.8082707296823972
          },
          {
           "color_by": "Variance 2/139",
           "sample_id": 0,
           "timepoint": 23,
           "trajectory": "Variance_2/139",
           "value": 1.8225259502202495
          },
          {
           "color_by": "Variance 2/139",
           "sample_id": 0,
           "timepoint": 24,
           "trajectory": "Variance_2/139",
           "value": 1.8344108569703506
          },
          {
           "color_by": "Variance 2/139",
           "sample_id": 0,
           "timepoint": 25,
           "trajectory": "Variance_2/139",
           "value": 1.8446987634266734
          },
          {
           "color_by": "Variance 2/139",
           "sample_id": 0,
           "timepoint": 26,
           "trajectory": "Variance_2/139",
           "value": 1.8542113976966712
          },
          {
           "color_by": "Variance 2/139",
           "sample_id": 0,
           "timepoint": 27,
           "trajectory": "Variance_2/139",
           "value": 1.863771765438951
          },
          {
           "color_by": "Variance 2/139",
           "sample_id": 0,
           "timepoint": 28,
           "trajectory": "Variance_2/139",
           "value": 1.8741564611557024
          },
          {
           "color_by": "Variance 2/139",
           "sample_id": 0,
           "timepoint": 29,
           "trajectory": "Variance_2/139",
           "value": 1.8860504674579956
          },
          {
           "color_by": "Variance 2/139",
           "sample_id": 0,
           "timepoint": 30,
           "trajectory": "Variance_2/139",
           "value": 1.9000073128440114
          },
          {
           "color_by": "Variance 2/139",
           "sample_id": 0,
           "timepoint": 31,
           "trajectory": "Variance_2/139",
           "value": 1.9164171142101087
          },
          {
           "color_by": "Variance 2/139",
           "sample_id": 0,
           "timepoint": 32,
           "trajectory": "Variance_2/139",
           "value": 1.935484531339841
          },
          {
           "color_by": "Variance 2/139",
           "sample_id": 0,
           "timepoint": 33,
           "trajectory": "Variance_2/139",
           "value": 1.9572180374198844
          },
          {
           "color_by": "Variance 2/139",
           "sample_id": 0,
           "timepoint": 34,
           "trajectory": "Variance_2/139",
           "value": 1.9814312005307404
          },
          {
           "color_by": "Variance 2/139",
           "sample_id": 0,
           "timepoint": 35,
           "trajectory": "Variance_2/139",
           "value": 2.0077559198246537
          },
          {
           "color_by": "Variance 2/139",
           "sample_id": 0,
           "timepoint": 36,
           "trajectory": "Variance_2/139",
           "value": 2.0356668132041498
          },
          {
           "color_by": "Variance 2/139",
           "sample_id": 0,
           "timepoint": 37,
           "trajectory": "Variance_2/139",
           "value": 2.0645152570114784
          },
          {
           "color_by": "Variance 2/139",
           "sample_id": 0,
           "timepoint": 38,
           "trajectory": "Variance_2/139",
           "value": 2.093570975688376
          },
          {
           "color_by": "Variance 2/139",
           "sample_id": 0,
           "timepoint": 39,
           "trajectory": "Variance_2/139",
           "value": 2.122068607925759
          },
          {
           "color_by": "Variance 2/139",
           "sample_id": 0,
           "timepoint": 40,
           "trajectory": "Variance_2/139",
           "value": 2.1492563647246343
          },
          {
           "color_by": "Variance 2/139",
           "sample_id": 0,
           "timepoint": 41,
           "trajectory": "Variance_2/139",
           "value": 2.174443763311836
          },
          {
           "color_by": "Variance 2/139",
           "sample_id": 0,
           "timepoint": 42,
           "trajectory": "Variance_2/139",
           "value": 2.1970454771215127
          },
          {
           "color_by": "Variance 2/139",
           "sample_id": 0,
           "timepoint": 43,
           "trajectory": "Variance_2/139",
           "value": 2.216618582527598
          },
          {
           "color_by": "Variance 2/139",
           "sample_id": 0,
           "timepoint": 44,
           "trajectory": "Variance_2/139",
           "value": 2.232890892710398
          },
          {
           "color_by": "Variance 2/139",
           "sample_id": 0,
           "timepoint": 45,
           "trajectory": "Variance_2/139",
           "value": 2.245778622463445
          },
          {
           "color_by": "Variance 2/139",
           "sample_id": 0,
           "timepoint": 46,
           "trajectory": "Variance_2/139",
           "value": 2.255392290465044
          },
          {
           "color_by": "Variance 2/139",
           "sample_id": 0,
           "timepoint": 47,
           "trajectory": "Variance_2/139",
           "value": 2.2620304963310875
          },
          {
           "color_by": "Variance 2/139",
           "sample_id": 0,
           "timepoint": 48,
           "trajectory": "Variance_2/139",
           "value": 2.2661619631808922
          },
          {
           "color_by": "Variance 2/139",
           "sample_id": 0,
           "timepoint": 49,
           "trajectory": "Variance_2/139",
           "value": 2.2683969656310023
          },
          {
           "color_by": "Variance 2/139",
           "sample_id": 0,
           "timepoint": 50,
           "trajectory": "Variance_2/139",
           "value": 2.2694499227367033
          },
          {
           "color_by": "Variance 2/139",
           "sample_id": 0,
           "timepoint": 51,
           "trajectory": "Variance_2/139",
           "value": 2.2700954844086354
          },
          {
           "color_by": "Variance 2/139",
           "sample_id": 0,
           "timepoint": 52,
           "trajectory": "Variance_2/139",
           "value": 2.2711208441012665
          },
          {
           "color_by": "Variance 2/139",
           "sample_id": 0,
           "timepoint": 53,
           "trajectory": "Variance_2/139",
           "value": 2.2732772449602088
          },
          {
           "color_by": "Variance 2/139",
           "sample_id": 0,
           "timepoint": 54,
           "trajectory": "Variance_2/139",
           "value": 2.2772336965485667
          },
          {
           "color_by": "Variance 2/139",
           "sample_id": 0,
           "timepoint": 55,
           "trajectory": "Variance_2/139",
           "value": 2.2835357816403574
          },
          {
           "color_by": "Variance 2/139",
           "sample_id": 0,
           "timepoint": 56,
           "trajectory": "Variance_2/139",
           "value": 2.2925721159254806
          },
          {
           "color_by": "Variance 2/139",
           "sample_id": 0,
           "timepoint": 57,
           "trajectory": "Variance_2/139",
           "value": 2.3045505475004235
          },
          {
           "color_by": "Variance 2/139",
           "sample_id": 0,
           "timepoint": 58,
           "trajectory": "Variance_2/139",
           "value": 2.319485577312978
          },
          {
           "color_by": "Variance 2/139",
           "sample_id": 0,
           "timepoint": 59,
           "trajectory": "Variance_2/139",
           "value": 2.3371977839456215
          },
          {
           "color_by": "Variance 2/139",
           "sample_id": 0,
           "timepoint": 60,
           "trajectory": "Variance_2/139",
           "value": 2.357325289643862
          },
          {
           "color_by": "Variance 2/139",
           "sample_id": 0,
           "timepoint": 61,
           "trajectory": "Variance_2/139",
           "value": 2.379346555733784
          },
          {
           "color_by": "Variance 2/139",
           "sample_id": 0,
           "timepoint": 62,
           "trajectory": "Variance_2/139",
           "value": 2.402613091080286
          },
          {
           "color_by": "Variance 2/139",
           "sample_id": 0,
           "timepoint": 63,
           "trajectory": "Variance_2/139",
           "value": 2.4263900408149555
          },
          {
           "color_by": "Variance 2/139",
           "sample_id": 0,
           "timepoint": 64,
           "trajectory": "Variance_2/139",
           "value": 2.4499021325353367
          },
          {
           "color_by": "Variance 2/139",
           "sample_id": 0,
           "timepoint": 65,
           "trajectory": "Variance_2/139",
           "value": 2.4723821240122406
          },
          {
           "color_by": "Variance 2/139",
           "sample_id": 0,
           "timepoint": 66,
           "trajectory": "Variance_2/139",
           "value": 2.4931187408525224
          },
          {
           "color_by": "Variance 2/139",
           "sample_id": 0,
           "timepoint": 67,
           "trajectory": "Variance_2/139",
           "value": 2.5115011242245897
          },
          {
           "color_by": "Variance 2/139",
           "sample_id": 0,
           "timepoint": 68,
           "trajectory": "Variance_2/139",
           "value": 2.527057025693769
          },
          {
           "color_by": "Variance 2/139",
           "sample_id": 0,
           "timepoint": 69,
           "trajectory": "Variance_2/139",
           "value": 2.5394823749457807
          },
          {
           "color_by": "Variance 2/139",
           "sample_id": 0,
           "timepoint": 70,
           "trajectory": "Variance_2/139",
           "value": 2.5486603825291048
          },
          {
           "color_by": "Variance 2/139",
           "sample_id": 0,
           "timepoint": 71,
           "trajectory": "Variance_2/139",
           "value": 2.5546689903727633
          },
          {
           "color_by": "Variance 2/139",
           "sample_id": 0,
           "timepoint": 72,
           "trajectory": "Variance_2/139",
           "value": 2.5577762072819104
          },
          {
           "color_by": "Variance 2/139",
           "sample_id": 0,
           "timepoint": 73,
           "trajectory": "Variance_2/139",
           "value": 2.5584236198367614
          },
          {
           "color_by": "Variance 2/139",
           "sample_id": 0,
           "timepoint": 74,
           "trajectory": "Variance_2/139",
           "value": 2.55719910428878
          },
          {
           "color_by": "Variance 2/139",
           "sample_id": 0,
           "timepoint": 75,
           "trajectory": "Variance_2/139",
           "value": 2.554800436452227
          },
          {
           "color_by": "Variance 2/139",
           "sample_id": 0,
           "timepoint": 76,
           "trajectory": "Variance_2/139",
           "value": 2.5519920624842567
          },
          {
           "color_by": "Variance 2/139",
           "sample_id": 0,
           "timepoint": 77,
           "trajectory": "Variance_2/139",
           "value": 2.549557718648001
          },
          {
           "color_by": "Variance 2/139",
           "sample_id": 0,
           "timepoint": 78,
           "trajectory": "Variance_2/139",
           "value": 2.548251846223247
          },
          {
           "color_by": "Variance 2/139",
           "sample_id": 0,
           "timepoint": 79,
           "trajectory": "Variance_2/139",
           "value": 2.5487528226228373
          },
          {
           "color_by": "Variance 2/139",
           "sample_id": 0,
           "timepoint": 80,
           "trajectory": "Variance_2/139",
           "value": 2.5516209168330386
          },
          {
           "color_by": "Variance 2/139",
           "sample_id": 0,
           "timepoint": 81,
           "trajectory": "Variance_2/139",
           "value": 2.5572635835448123
          },
          {
           "color_by": "Variance 2/139",
           "sample_id": 0,
           "timepoint": 82,
           "trajectory": "Variance_2/139",
           "value": 2.5659102540440926
          },
          {
           "color_by": "Variance 2/139",
           "sample_id": 0,
           "timepoint": 83,
           "trajectory": "Variance_2/139",
           "value": 2.5775981914532102
          },
          {
           "color_by": "Variance 2/139",
           "sample_id": 0,
           "timepoint": 84,
           "trajectory": "Variance_2/139",
           "value": 2.592170289975285
          },
          {
           "color_by": "Variance 2/139",
           "sample_id": 0,
           "timepoint": 85,
           "trajectory": "Variance_2/139",
           "value": 2.6092849551615167
          },
          {
           "color_by": "Variance 2/139",
           "sample_id": 0,
           "timepoint": 86,
           "trajectory": "Variance_2/139",
           "value": 2.628437451070986
          },
          {
           "color_by": "Variance 2/139",
           "sample_id": 0,
           "timepoint": 87,
           "trajectory": "Variance_2/139",
           "value": 2.6489913872266633
          },
          {
           "color_by": "Variance 2/139",
           "sample_id": 0,
           "timepoint": 88,
           "trajectory": "Variance_2/139",
           "value": 2.670218387818516
          },
          {
           "color_by": "Variance 2/139",
           "sample_id": 0,
           "timepoint": 89,
           "trajectory": "Variance_2/139",
           "value": 2.6913434768633584
          },
          {
           "color_by": "Variance 2/139",
           "sample_id": 0,
           "timepoint": 90,
           "trajectory": "Variance_2/139",
           "value": 2.711593357632407
          },
          {
           "color_by": "Variance 2/139",
           "sample_id": 0,
           "timepoint": 91,
           "trajectory": "Variance_2/139",
           "value": 2.7302445846983394
          },
          {
           "color_by": "Variance 2/139",
           "sample_id": 0,
           "timepoint": 92,
           "trajectory": "Variance_2/139",
           "value": 2.7466686336229165
          },
          {
           "color_by": "Variance 2/139",
           "sample_id": 0,
           "timepoint": 93,
           "trajectory": "Variance_2/139",
           "value": 2.760371066189228
          },
          {
           "color_by": "Variance 2/139",
           "sample_id": 0,
           "timepoint": 94,
           "trajectory": "Variance_2/139",
           "value": 2.7710223561868315
          },
          {
           "color_by": "Variance 2/139",
           "sample_id": 0,
           "timepoint": 95,
           "trajectory": "Variance_2/139",
           "value": 2.7784784592586216
          },
          {
           "color_by": "Variance 2/139",
           "sample_id": 0,
           "timepoint": 96,
           "trajectory": "Variance_2/139",
           "value": 2.782789847977345
          },
          {
           "color_by": "Variance 2/139",
           "sample_id": 0,
           "timepoint": 97,
           "trajectory": "Variance_2/139",
           "value": 2.78419845049069
          },
          {
           "color_by": "Variance 2/139",
           "sample_id": 0,
           "timepoint": 98,
           "trajectory": "Variance_2/139",
           "value": 2.783122683166546
          },
          {
           "color_by": "Variance 2/139",
           "sample_id": 0,
           "timepoint": 99,
           "trajectory": "Variance_2/139",
           "value": 2.780131507922908
          }
         ]
        },
        {
         "name": "points",
         "values": []
        },
        {
         "name": "markers",
         "values": []
        },
        {
         "name": "selected",
         "on": [
          {
           "remove": true,
           "trigger": "clear"
          },
          {
           "remove": true,
           "trigger": "!shift"
          },
          {
           "insert": "clicked",
           "trigger": "!shift && clicked"
          },
          {
           "toggle": "clicked",
           "trigger": "shift && clicked"
          }
         ]
        },
        {
         "name": "selectedData",
         "on": [
          {
           "remove": true,
           "trigger": "clearData"
          },
          {
           "toggle": "clickedData",
           "trigger": "clickedData"
          }
         ]
        }
       ],
       "height": 300,
       "legends": [
        {
         "encode": {
          "labels": {
           "interactive": true,
           "name": "legendLabel",
           "update": {
            "opacity": [
             {
              "test": "!length(data('selectedData')) || indata('selectedData', 'value', datum.value)",
              "value": 1
             },
             {
              "value": 0.25
             }
            ]
           }
          },
          "symbols": {
           "interactive": true,
           "name": "legendSymbol",
           "update": {
            "fill": {
             "value": "transparent"
            },
            "opacity": [
             {
              "test": "!length(data('selected')) || indata('selected', 'value', datum.value) || indata('selectedData', 'value', datum.value)",
              "value": 0.7
             },
             {
              "value": 0.15
             }
            ],
            "size": {
             "value": 64
            },
            "strokeWidth": {
             "value": 2
            }
           }
          }
         },
         "name": "color_legend",
         "orient": "left",
         "stroke": "color"
        }
       ],
       "marks": [
        {
         "from": {
          "facet": {
           "data": "points",
           "groupby": "trajectory",
           "name": "points_split"
          }
         },
         "marks": [
          {
           "encode": {
            "hover": {
             "fillOpacity": {
              "value": 0.9
             }
            },
            "update": {
             "fill": {
              "field": "trajectory",
              "scale": "color"
             },
             "fillOpacity": [
              {
               "test": "!length(data('selected')) || indata('selected', 'value', datum.trajectory)",
               "value": 0.5
              },
              {
               "value": 0.15
              }
             ],
             "size": {
              "value": 35
             },
             "stroke": {
              "field": "trajectory",
              "scale": "color"
             },
             "strokeOpacity": [
              {
               "test": "!length(data('selected')) || indata('selected', 'value', datum.trajectory)",
               "value": 0.75
              },
              {
               "value": 0.15
              }
             ],
             "strokeWidth": {
              "value": 2
             },
             "tooltip": {
              "field": "value"
             },
             "x": {
              "field": "timepoint",
              "scale": "xscale"
             },
             "y": {
              "field": "value",
              "scale": "yscale"
             }
            }
           },
           "from": {
            "data": "points_split"
           },
           "name": "_points_symbol",
           "type": "symbol",
           "zindex": 3
          },
          {
           "encode": {
            "hover": {
             "fillOpacity": {
              "value": 0.9
             }
            },
            "update": {
             "interpolate": {
              "value": "linear"
             },
             "stroke": {
              "field": "trajectory",
              "scale": "color"
             },
             "strokeDash": {
              "value": [
               5,
               3
              ]
             },
             "strokeOpacity": [
              {
               "test": "!length(data('selected')) || indata('selected', 'value', datum.trajectory)",
               "value": 0.3
              },
              {
               "value": 0.1
              }
             ],
             "strokeWidth": {
              "value": 2
             },
             "x": {
              "field": "timepoint",
              "scale": "xscale"
             },
             "y": {
              "field": "value",
              "scale": "yscale"
             }
            }
           },
           "from": {
            "data": "points_split"
           },
           "name": "_points_line",
           "type": "line",
           "zindex": 3
          }
         ],
         "name": "_points",
         "type": "group",
         "zindex": 3
        },
        {
         "from": {
          "facet": {
           "data": "traces",
           "groupby": "trajectory",
           "name": "traces_split"
          }
         },
         "marks": [
          {
           "encode": {
            "hover": {
             "fillOpacity": {
              "value": 0.9
             }
            },
            "update": {
             "interpolate": {
              "value": "linear"
             },
             "stroke": {
              "field": "trajectory",
              "scale": "color"
             },
             "strokeDash": [
              {
               "test": "indexof(datum.trajectory, 'aseline') == -1",
               "value": [
                1,
                0
               ]
              },
              {
               "value": [
                8,
                4
               ]
              }
             ],
             "strokeOpacity": [
              {
               "test": "!length(data('selected')) || indata('selected', 'value', datum.trajectory)",
               "value": 0.75
              },
              {
               "value": 0.15
              }
             ],
             "strokeWidth": {
              "value": 2
             },
             "x": {
              "field": "timepoint",
              "scale": "xscale"
             },
             "y": {
              "field": "value",
              "scale": "yscale"
             }
            }
           },
           "from": {
            "data": "traces_split"
           },
           "name": "_traces_lines",
           "type": "line"
          }
         ],
         "name": "_traces",
         "type": "group",
         "zindex": 2
        },
        {
         "from": {
          "facet": {
           "data": "distributions",
           "groupby": "trajectory",
           "name": "trajectory_split"
          }
         },
         "marks": [
          {
           "encode": {
            "hover": {
             "fillOpacity": {
              "value": 0.9
             }
            },
            "update": {
             "fill": {
              "field": "trajectory",
              "scale": "color"
             },
             "fillOpacity": [
              {
               "test": "!length(data('selected')) || indata('selected', 'value', datum.trajectory)",
               "value": 0.1
              },
              {
               "value": 0.05
              }
             ],
             "interpolate": {
              "value": "linear"
             },
             "stroke": {
              "field": "trajectory",
              "scale": "color"
             },
             "strokeOpacity": [
              {
               "test": "!length(data('selected')) || indata('selected', 'value', datum.trajectory)",
               "value": 0.1
              },
              {
               "value": 0.05
              }
             ],
             "strokeWidth": {
              "value": 2
             },
             "x": {
              "field": "timepoint",
              "scale": "xscale"
             },
             "y": {
              "field": "upper",
              "scale": "yscale"
             },
             "y2": {
              "field": "lower",
              "scale": "yscale"
             }
            }
           },
           "from": {
            "data": "trajectory_split"
           },
           "interactive": true,
           "name": "area",
           "type": "area"
          }
         ],
         "name": "_distributions",
         "type": "group",
         "zindex": 1
        },
        {
         "marks": [
          {
           "encode": {
            "enter": {
             "stroke": {
              "value": "lightgray"
             }
            },
            "update": {
             "opacity": {
              "value": 1
             },
             "x": {
              "field": "timepoint",
              "scale": "xscale"
             },
             "y": {
              "signal": "height"
             },
             "y2": {
              "value": 0
             }
            }
           },
           "from": {
            "data": "markers"
           },
           "name": "_marker text",
           "type": "rule"
          },
          {
           "encode": {
            "enter": {
             "fontSize": {
              "value": 8
             },
             "text": {
              "field": "datum.label"
             },
             "y": {
              "value": 0
             }
            }
           },
           "from": {
            "data": "_marker text"
           },
           "name": "_marker flags",
           "transform": [
            {
             "as": [
              "x",
              "_y",
              "opacity",
              "align",
              "baseline"
             ],
             "lineAnchor": "start",
             "offset": [
              1
             ],
             "size": {
              "signal": "[width, height]"
             },
             "type": "label"
            }
           ],
           "type": "text"
          }
         ],
         "name": "_markers",
         "type": "group"
        }
       ],
       "scales": [
        {
         "domain": {
          "fields": [
           {
            "data": "distributions",
            "field": "timepoint"
           },
           {
            "data": "traces",
            "field": "timepoint"
           },
           {
            "data": "points",
            "field": "timepoint"
           },
           {
            "data": "markers",
            "field": "timepoint"
           }
          ]
         },
         "name": "xscale",
         "range": "width",
         "type": "linear",
         "zero": false
        },
        {
         "domain": {
          "fields": [
           {
            "data": "distributions",
            "field": "lower"
           },
           {
            "data": "distributions",
            "field": "upper"
           },
           {
            "data": "traces",
            "field": "value"
           },
           {
            "data": "points",
            "field": "value"
           }
          ]
         },
         "name": "yscale",
         "nice": true,
         "range": "height",
         "type": "linear",
         "zero": true
        },
        {
         "domain": {
          "fields": [
           {
            "data": "distributions",
            "field": "trajectory"
           },
           {
            "data": "traces",
            "field": "trajectory"
           },
           {
            "data": "points",
            "field": "trajectory"
           }
          ],
          "sort": {
           "order": "ascending"
          }
         },
         "name": "color",
         "range": "category",
         "type": "ordinal"
        }
       ],
       "signals": [
        {
         "name": "clear",
         "on": [
          {
           "events": "mouseup[!event.item]",
           "force": true,
           "update": "true"
          }
         ],
         "value": true
        },
        {
         "name": "shift",
         "on": [
          {
           "events": "@legendSymbol:click, @legendLabel:click",
           "force": true,
           "update": "event.shiftKey"
          }
         ],
         "value": false
        },
        {
         "name": "clicked",
         "on": [
          {
           "events": "@legendSymbol:click, @legendLabel:click",
           "force": true,
           "update": "{value: datum.value}"
          }
         ],
         "value": null
        },
        {
         "name": "clearData",
         "on": [
          {
           "events": "mouseup[!event.item]",
           "force": true,
           "update": "true"
          }
         ],
         "value": true
        },
        {
         "name": "clickedData",
         "on": [
          {
           "events": "@area:click",
           "force": true,
           "update": "{value: datum.trajectory}"
          }
         ],
         "value": null
        }
       ],
       "width": 500
      }
     },
     "metadata": {},
     "output_type": "display_data"
    }
   ],
   "source": [
    "\n",
    "name = \"all_cluster\"\n",
    "timepoint_list = []\n",
    "sine_list = []\n",
    "sample_list = []\n",
    "\n",
    "\n",
    "def save_result(data, name, ref_ext):\n",
    "    \"\"\"Save new reference files\"\"\"\n",
    "    _output_root = 'output'\n",
    "    mode = \"w\" if ref_ext == \"svg\" else \"wb\"\n",
    "    with open(os.path.join(_output_root, f\"{name}.{ref_ext}\"), mode) as f:\n",
    "        f.write(data)\n",
    "\n",
    "run_functions = [\"Straight\", \"Sine_1a\", \"Sine_2b\", \"Sine_3c\"]\n",
    "# create sine fucntions\n",
    "def return_sine_function_3(function_name):\n",
    "        if function_name == \"Straight\":\n",
    "                a, b, c, d = 0, 0, 0, np.random.randn()\n",
    "                a2, b2, c2, d2 = 0, 0, 0, 0\n",
    "        if function_name == \"Sine_1a\":\n",
    "                a, b, c, d = 1*(np.random.randn() + 1), .25, np.pi, np.random.randn()\n",
    "                a2, b2, c2, d2 = 1, .25, np.pi, 0\n",
    "        if function_name == \"Sine_2b\":\n",
    "                a, b, c, d = 2, .25*(np.random.randn() + 1), np.pi, np.random.randn()\n",
    "                a2, b2, c2, d2 = 2, .25, np.pi, 0\n",
    "        if function_name == \"Sine_3c\":\n",
    "                a, b, c, d = 3, .25, np.pi*(np.random.randn() + 1), np.random.randn()\n",
    "                a2, b2, c2, d2 = 3, .25, np.pi, 0\n",
    "        def sine_function(x):\n",
    "                return np.power(x, .25) + a*np.sin(b*x + c) + d\n",
    "        def sine_function_default(x):\n",
    "                return np.power(x, .25) + a2*np.sin(b2*x + c2) + d2\n",
    "        function_parameters_individual = {'a': a,  'b': b, 'c': c,  'd': d}\n",
    "        function_parameters_default = {'a': a2, 'b': b2, 'c': c2, 'd': d2}\n",
    "        \n",
    "        return sine_function, sine_function_default, function_parameters_individual, function_parameters_default\n",
    "\n",
    "if len(run_functions) > 0:\n",
    "        function_dataframe = pd.DataFrame(columns=['functions', 'sample_id', 'a', 'b',  'c',  'd'])\n",
    "        function_list = []\n",
    "        j = 0\n",
    "        all_functions ={}\n",
    "\n",
    "        # create sine dataframes and save the parameters used\n",
    "        for funct_name in run_functions:\n",
    "                for _ in range(100):\n",
    "                        j+=1\n",
    "                        timepoint_list.extend([x for x in range(100)])\n",
    "                        sample_list.extend([j]*100)\n",
    "                        random_function,  sine_function_default, function_parameters_individual, function_parameters_default = return_sine_function_3(funct_name)\n",
    "\n",
    "                        function_parameters_individual['functions'] = funct_name\n",
    "                        function_parameters_individual['sample_id'] = j\n",
    "                        function_list.append(function_parameters_individual)\n",
    "                        sine_list.extend([random_function(x) for x in range(100)])\n",
    "                all_functions[funct_name] = sine_function_default \n",
    "                function_parameters_default['functions'] = funct_name + \" Default\"\n",
    "                function_parameters_default['sample_id'] = None\n",
    "\n",
    "        #keep track of parameters\n",
    "        function_dataframe = pd.DataFrame(function_list)\n",
    "        function_default_dataframe =  pd.DataFrame(function_parameters_default, index=[0])\n",
    "\n",
    "\n",
    "sine_distribution= pd.DataFrame({'timepoint_id' : timepoint_list,\n",
    "                   'sample_id' : sample_list,\n",
    "                   'Example': sine_list})\n",
    "\n",
    "\n",
    "traces_list = []   \n",
    "\n",
    "# get examplary lines\n",
    "#change kmean here to use clustering\n",
    "examplary_line, trajectory_dict = pyciemss.visuals.trajectories.select_traces(sine_distribution,  select_by_list = ['mean', \"variance\", 'chaos'], kmean=True)\n",
    "# get the sample'id for the examplary data used per sample_id and select_by\n",
    "best_samples_cluster = examplary_line[['sample_id', 'select_by', 'cluster']].drop_duplicates()\n",
    "best_samples_df_list = []\n",
    "\n",
    "# for each cluster create a new plot\n",
    "for cluster in list(np.unique(examplary_line['cluster'])): \n",
    "        # for distribution only use the sample_ids in the cluster\n",
    "       \n",
    "        cluster_sample_id = trajectory_dict[cluster.lower()]['cluster_sample_id']  \n",
    "        cluster_sine_distribution =  sine_distribution[sine_distribution[\"sample_id\"].isin(cluster_sample_id)]\n",
    "        current_cluster_df = examplary_line[examplary_line['cluster'] == cluster]\n",
    "        current_cluster_df = current_cluster_df.reset_index()\n",
    "        # get right format to use as traces\n",
    "        examplary_lines_pivot = current_cluster_df[['examplary_line', 'mean_trajectory', 'timepoint', 'select_by']].pivot_table(\n",
    "        values=\"examplary_line\", index = [\"timepoint\", 'mean_trajectory'], columns=\"select_by\"\n",
    "        )\n",
    "        examplary_lines_pivot = examplary_lines_pivot.reset_index()\n",
    "        examplary_lines_pivot = examplary_lines_pivot.rename(columns = {'mean_trajectory': 'Baseline_Trajectory_Mean'})\n",
    "        if len(run_functions) == 1:\n",
    "                # get baseline for sine functions\n",
    "                for function_name, function in all_functions.items():\n",
    "                        examplary_lines_pivot[\"Baseline_\" + function_name.title()] = [function(x) for x in range(100)]\n",
    "        # plot the traces along with the baselines\n",
    "        schema = plots.trajectories(cluster_sine_distribution[['timepoint_id', 'sample_id', 'Example']], traces = examplary_lines_pivot)\n",
    "        path = \"{}_{}\".format(name, cluster)\n",
    "        image = plots.ipy_display(schema, format=\"PNG\").data\n",
    "        save_result(image, path, \"png\")\n",
    "        plots.ipy_display(schema, format=\"interactive\")\n",
    "\n",
    "if len(run_functions) == 1:\n",
    "        # clean up table to get the parameters of the samples id's used for examplary\n",
    "        all_clusters = best_samples_cluster.merge(function_dataframe, how=\"inner\", on=\"sample_id\")\n",
    "        all_clusters = pd.concat([all_clusters, function_default_dataframe])[['functions', 'select_by', 'a', 'b', 'c', 'd']]\n",
    "        all_clusters = all_clusters.rename(columns = {'functions': 'Function Name', 'select_by': \"Selection Method\"})\n",
    "        all_clusters[\"Function Name\"] = all_clusters[\"Function Name\"].apply(lambda x: x.replace(\"_\", \" \").title())\n",
    "        all_clusters[\"Examplar #\"] = all_clusters[\"Selection Method\"].apply(lambda x: 1 if len(str(x).split(\"_\")) < 2 else str(x).split(\"_\")[1])\n",
    "        all_clusters[\"Selection Method\"] = all_clusters[\"Selection Method\"].apply(lambda x:  str(x).split(\"_\")[0])\n",
    "        all_clusters = all_clusters.round(2)\n",
    "\n",
    "\n",
    "        all_clusters.to_csv(\"output/{}.csv\".format(name))\n",
    "        # table with sine variables of starting function and the formula of the best select_by lines and metrics1"
   ]
  },
  {
   "cell_type": "code",
   "execution_count": null,
   "metadata": {},
   "outputs": [],
   "source": [
    "\n",
    "name = \"all_cluster\"\n",
    "timepoint_list = []\n",
    "sine_list = []\n",
    "sample_list = []\n",
    "\n",
    "\n",
    "def save_result(data, name, ref_ext):\n",
    "    \"\"\"Save new reference files\"\"\"\n",
    "    _output_root = 'output'\n",
    "    mode = \"w\" if ref_ext == \"svg\" else \"wb\"\n",
    "    with open(os.path.join(_output_root, f\"{name}.{ref_ext}\"), mode) as f:\n",
    "        f.write(data)\n",
    "\n",
    "\n",
    "\n",
    "for _ in range(100):\n",
    "        j+=1\n",
    "        timepoint_list.extend([x for x in range(100)])\n",
    "        sample_list.extend([j]*100)\n",
    "        sine_list.extend([random_function(x) for x in range(100)])\n",
    "\n",
    "random_distribution= pd.DataFrame({'timepoint_id' : timepoint_list,\n",
    "                   'sample_id' : sample_list,\n",
    "                   'Example': sine_list})\n",
    "\n",
    "\n",
    "#change kmean here to use clustering\n",
    "examplary_line, trajectory_dict = pyciemss.visuals.trajectories.select_traces(random_distribution, kmean=True, select_by_list = ['mean', 'granger', \"variance\", 'chaos'])\n",
    "\n",
    "schema = plots.trajectories(random_distribution[['timepoint_id', 'sample_id', 'Example']], traces = examplary_lines_pivot)\n",
    "path = \"{}_{}\".format(name, cluster)\n",
    "image = plots.ipy_display(schema, format=\"PNG\").data\n",
    "save_result(image, path, \"png\")\n",
    "plots.ipy_display(schema, format=\"interactive\")\n",
    "\n"
   ]
  },
  {
   "cell_type": "code",
   "execution_count": 1,
   "metadata": {},
   "outputs": [
    {
     "ename": "NameError",
     "evalue": "name 'pyciemss' is not defined",
     "output_type": "error",
     "traceback": [
      "\u001b[0;31m---------------------------------------------------------------------------\u001b[0m",
      "\u001b[0;31mNameError\u001b[0m                                 Traceback (most recent call last)",
      "Cell \u001b[0;32mIn[1], line 29\u001b[0m\n\u001b[1;32m     21\u001b[0m             num_timepoints \u001b[38;5;241m=\u001b[39m e\u001b[38;5;241m.\u001b[39mshape[\u001b[38;5;241m1\u001b[39m]\n\u001b[1;32m     23\u001b[0m     \u001b[38;5;28;01mreturn\u001b[39;00m convert_to_output_format(\n\u001b[1;32m     24\u001b[0m         sample,\n\u001b[1;32m     25\u001b[0m         timepoints\u001b[38;5;241m=\u001b[39mnp\u001b[38;5;241m.\u001b[39mlinspace(start_time, end_time, num_timepoints),\n\u001b[1;32m     26\u001b[0m         time_unit\u001b[38;5;241m=\u001b[39m\u001b[38;5;124m\"\u001b[39m\u001b[38;5;124mnotional\u001b[39m\u001b[38;5;124m\"\u001b[39m,\n\u001b[1;32m     27\u001b[0m     )\n\u001b[0;32m---> 29\u001b[0m distributions \u001b[38;5;241m=\u001b[39m \u001b[43mdistributions\u001b[49m\u001b[43m(\u001b[49m\u001b[43m)\u001b[49m\n\u001b[1;32m     30\u001b[0m \u001b[38;5;28mprint\u001b[39m(distributions\u001b[38;5;241m.\u001b[39mhead())\n\u001b[1;32m     31\u001b[0m \u001b[38;5;28mprint\u001b[39m(distributions\u001b[38;5;241m.\u001b[39mcolumns)\n",
      "Cell \u001b[0;32mIn[1], line 10\u001b[0m, in \u001b[0;36mdistributions\u001b[0;34m()\u001b[0m\n\u001b[1;32m      8\u001b[0m logging_step_size \u001b[38;5;241m=\u001b[39m \u001b[38;5;241m1\u001b[39m\n\u001b[1;32m      9\u001b[0m num_samples \u001b[38;5;241m=\u001b[39m \u001b[38;5;241m30\u001b[39m\n\u001b[0;32m---> 10\u001b[0m sample \u001b[38;5;241m=\u001b[39m \u001b[43mpyciemss\u001b[49m\u001b[38;5;241m.\u001b[39msample(\n\u001b[1;32m     11\u001b[0m     model_1_path,\n\u001b[1;32m     12\u001b[0m     end_time,\n\u001b[1;32m     13\u001b[0m     logging_step_size,\n\u001b[1;32m     14\u001b[0m     num_samples,\n\u001b[1;32m     15\u001b[0m     start_time\u001b[38;5;241m=\u001b[39mstart_time,\n\u001b[1;32m     16\u001b[0m     solver_method\u001b[38;5;241m=\u001b[39m\u001b[38;5;124m\"\u001b[39m\u001b[38;5;124meuler\u001b[39m\u001b[38;5;124m\"\u001b[39m,\n\u001b[1;32m     17\u001b[0m )[\u001b[38;5;124m\"\u001b[39m\u001b[38;5;124munprocessed_result\u001b[39m\u001b[38;5;124m\"\u001b[39m]\n\u001b[1;32m     19\u001b[0m \u001b[38;5;28;01mfor\u001b[39;00m e \u001b[38;5;129;01min\u001b[39;00m sample\u001b[38;5;241m.\u001b[39mvalues():\n\u001b[1;32m     20\u001b[0m     \u001b[38;5;28;01mif\u001b[39;00m \u001b[38;5;28mlen\u001b[39m(e\u001b[38;5;241m.\u001b[39mshape) \u001b[38;5;241m>\u001b[39m \u001b[38;5;241m1\u001b[39m:\n",
      "\u001b[0;31mNameError\u001b[0m: name 'pyciemss' is not defined"
     ]
    }
   ],
   "source": [
    "def distributions():\n",
    "    model_1_path = (\n",
    "            \"https://raw.githubusercontent.com/DARPA-ASKEM/simulation-integration\"\n",
    "            \"/main/data/models/SEIRHD_NPI_Type1_petrinet.json\"\n",
    "    )\n",
    "    start_time = 0.0\n",
    "    end_time = 100.0\n",
    "    logging_step_size = 1\n",
    "    num_samples = 30\n",
    "    sample = pyciemss.sample(\n",
    "        model_1_path,\n",
    "        end_time,\n",
    "        logging_step_size,\n",
    "        num_samples,\n",
    "        start_time=start_time,\n",
    "        solver_method=\"euler\",\n",
    "    )[\"unprocessed_result\"]\n",
    "\n",
    "    for e in sample.values():\n",
    "        if len(e.shape) > 1:\n",
    "            num_timepoints = e.shape[1]\n",
    "\n",
    "    return convert_to_output_format(\n",
    "        sample,\n",
    "        timepoints=np.linspace(start_time, end_time, num_timepoints),\n",
    "        time_unit=\"notional\",\n",
    "    )\n",
    "\n",
    "distributions = distributions()\n",
    "print(distributions.head())\n",
    "print(distributions.columns)\n",
    "all_columns = [\"timepoint_id\", \"sample_id\", 'infected_observable_state',\n",
    "       'exposed_observable_state', 'hospitalized_observable_state',\n",
    "       'dead_observable_state']\n",
    "all_columns = [\"timepoint_id\", \"sample_id\", 'infected_observable_state']\n",
    "\n",
    "distributions = distributions[all_columns]\n",
    "distributions"
   ]
  },
  {
   "cell_type": "code",
   "execution_count": 13,
   "metadata": {},
   "outputs": [
    {
     "ename": "FileNotFoundError",
     "evalue": "[Errno 2] No such file or directory: 'paper_sine_05/paper_sine_05_new_df.csv'",
     "output_type": "error",
     "traceback": [
      "\u001b[0;31m---------------------------------------------------------------------------\u001b[0m",
      "\u001b[0;31mFileNotFoundError\u001b[0m                         Traceback (most recent call last)",
      "Cell \u001b[0;32mIn[13], line 2\u001b[0m\n\u001b[1;32m      1\u001b[0m \u001b[38;5;66;03m#'timepoint_id', 'sample_id'\u001b[39;00m\n\u001b[0;32m----> 2\u001b[0m sine_distribution \u001b[38;5;241m=\u001b[39m \u001b[43mpd\u001b[49m\u001b[38;5;241;43m.\u001b[39;49m\u001b[43mread_csv\u001b[49m\u001b[43m(\u001b[49m\u001b[38;5;124;43m\"\u001b[39;49m\u001b[38;5;124;43mpaper_sine_05/paper_sine_05_new_df.csv\u001b[39;49m\u001b[38;5;124;43m\"\u001b[39;49m\u001b[43m)\u001b[49m\n\u001b[1;32m      3\u001b[0m sine_distribution \u001b[38;5;241m=\u001b[39m sine_distribution\u001b[38;5;241m.\u001b[39mrename(\n\u001b[1;32m      4\u001b[0m             columns\u001b[38;5;241m=\u001b[39m{\n\u001b[1;32m      5\u001b[0m                 \u001b[38;5;124m'\u001b[39m\u001b[38;5;124mUnnamed: 0.1\u001b[39m\u001b[38;5;124m'\u001b[39m: \u001b[38;5;124m\"\u001b[39m\u001b[38;5;124mtimepoint_id\u001b[39m\u001b[38;5;124m\"\u001b[39m,\n\u001b[1;32m      6\u001b[0m                 \u001b[38;5;124m'\u001b[39m\u001b[38;5;124mUnnamed: 0\u001b[39m\u001b[38;5;124m'\u001b[39m: \u001b[38;5;124m\"\u001b[39m\u001b[38;5;124m100\u001b[39m\u001b[38;5;124m\"\u001b[39m,\n\u001b[1;32m      7\u001b[0m             }\n\u001b[1;32m      8\u001b[0m         )\n\u001b[1;32m      9\u001b[0m sine_distribution \u001b[38;5;241m=\u001b[39m sine_distribution\u001b[38;5;241m.\u001b[39mmelt(id_vars\u001b[38;5;241m=\u001b[39m[\u001b[38;5;124m\"\u001b[39m\u001b[38;5;124mtimepoint_id\u001b[39m\u001b[38;5;124m\"\u001b[39m], \n\u001b[1;32m     10\u001b[0m         var_name\u001b[38;5;241m=\u001b[39m\u001b[38;5;124m\"\u001b[39m\u001b[38;5;124msample_id\u001b[39m\u001b[38;5;124m\"\u001b[39m, \n\u001b[1;32m     11\u001b[0m         value_name\u001b[38;5;241m=\u001b[39m\u001b[38;5;124m\"\u001b[39m\u001b[38;5;124msame_stat_state\u001b[39m\u001b[38;5;124m\"\u001b[39m)\n",
      "File \u001b[0;32m~/opt/anaconda3/envs/pyciems310/lib/python3.10/site-packages/pandas/io/parsers/readers.py:1026\u001b[0m, in \u001b[0;36mread_csv\u001b[0;34m(filepath_or_buffer, sep, delimiter, header, names, index_col, usecols, dtype, engine, converters, true_values, false_values, skipinitialspace, skiprows, skipfooter, nrows, na_values, keep_default_na, na_filter, verbose, skip_blank_lines, parse_dates, infer_datetime_format, keep_date_col, date_parser, date_format, dayfirst, cache_dates, iterator, chunksize, compression, thousands, decimal, lineterminator, quotechar, quoting, doublequote, escapechar, comment, encoding, encoding_errors, dialect, on_bad_lines, delim_whitespace, low_memory, memory_map, float_precision, storage_options, dtype_backend)\u001b[0m\n\u001b[1;32m   1013\u001b[0m kwds_defaults \u001b[38;5;241m=\u001b[39m _refine_defaults_read(\n\u001b[1;32m   1014\u001b[0m     dialect,\n\u001b[1;32m   1015\u001b[0m     delimiter,\n\u001b[0;32m   (...)\u001b[0m\n\u001b[1;32m   1022\u001b[0m     dtype_backend\u001b[38;5;241m=\u001b[39mdtype_backend,\n\u001b[1;32m   1023\u001b[0m )\n\u001b[1;32m   1024\u001b[0m kwds\u001b[38;5;241m.\u001b[39mupdate(kwds_defaults)\n\u001b[0;32m-> 1026\u001b[0m \u001b[38;5;28;01mreturn\u001b[39;00m \u001b[43m_read\u001b[49m\u001b[43m(\u001b[49m\u001b[43mfilepath_or_buffer\u001b[49m\u001b[43m,\u001b[49m\u001b[43m \u001b[49m\u001b[43mkwds\u001b[49m\u001b[43m)\u001b[49m\n",
      "File \u001b[0;32m~/opt/anaconda3/envs/pyciems310/lib/python3.10/site-packages/pandas/io/parsers/readers.py:620\u001b[0m, in \u001b[0;36m_read\u001b[0;34m(filepath_or_buffer, kwds)\u001b[0m\n\u001b[1;32m    617\u001b[0m _validate_names(kwds\u001b[38;5;241m.\u001b[39mget(\u001b[38;5;124m\"\u001b[39m\u001b[38;5;124mnames\u001b[39m\u001b[38;5;124m\"\u001b[39m, \u001b[38;5;28;01mNone\u001b[39;00m))\n\u001b[1;32m    619\u001b[0m \u001b[38;5;66;03m# Create the parser.\u001b[39;00m\n\u001b[0;32m--> 620\u001b[0m parser \u001b[38;5;241m=\u001b[39m \u001b[43mTextFileReader\u001b[49m\u001b[43m(\u001b[49m\u001b[43mfilepath_or_buffer\u001b[49m\u001b[43m,\u001b[49m\u001b[43m \u001b[49m\u001b[38;5;241;43m*\u001b[39;49m\u001b[38;5;241;43m*\u001b[39;49m\u001b[43mkwds\u001b[49m\u001b[43m)\u001b[49m\n\u001b[1;32m    622\u001b[0m \u001b[38;5;28;01mif\u001b[39;00m chunksize \u001b[38;5;129;01mor\u001b[39;00m iterator:\n\u001b[1;32m    623\u001b[0m     \u001b[38;5;28;01mreturn\u001b[39;00m parser\n",
      "File \u001b[0;32m~/opt/anaconda3/envs/pyciems310/lib/python3.10/site-packages/pandas/io/parsers/readers.py:1620\u001b[0m, in \u001b[0;36mTextFileReader.__init__\u001b[0;34m(self, f, engine, **kwds)\u001b[0m\n\u001b[1;32m   1617\u001b[0m     \u001b[38;5;28mself\u001b[39m\u001b[38;5;241m.\u001b[39moptions[\u001b[38;5;124m\"\u001b[39m\u001b[38;5;124mhas_index_names\u001b[39m\u001b[38;5;124m\"\u001b[39m] \u001b[38;5;241m=\u001b[39m kwds[\u001b[38;5;124m\"\u001b[39m\u001b[38;5;124mhas_index_names\u001b[39m\u001b[38;5;124m\"\u001b[39m]\n\u001b[1;32m   1619\u001b[0m \u001b[38;5;28mself\u001b[39m\u001b[38;5;241m.\u001b[39mhandles: IOHandles \u001b[38;5;241m|\u001b[39m \u001b[38;5;28;01mNone\u001b[39;00m \u001b[38;5;241m=\u001b[39m \u001b[38;5;28;01mNone\u001b[39;00m\n\u001b[0;32m-> 1620\u001b[0m \u001b[38;5;28mself\u001b[39m\u001b[38;5;241m.\u001b[39m_engine \u001b[38;5;241m=\u001b[39m \u001b[38;5;28;43mself\u001b[39;49m\u001b[38;5;241;43m.\u001b[39;49m\u001b[43m_make_engine\u001b[49m\u001b[43m(\u001b[49m\u001b[43mf\u001b[49m\u001b[43m,\u001b[49m\u001b[43m \u001b[49m\u001b[38;5;28;43mself\u001b[39;49m\u001b[38;5;241;43m.\u001b[39;49m\u001b[43mengine\u001b[49m\u001b[43m)\u001b[49m\n",
      "File \u001b[0;32m~/opt/anaconda3/envs/pyciems310/lib/python3.10/site-packages/pandas/io/parsers/readers.py:1880\u001b[0m, in \u001b[0;36mTextFileReader._make_engine\u001b[0;34m(self, f, engine)\u001b[0m\n\u001b[1;32m   1878\u001b[0m     \u001b[38;5;28;01mif\u001b[39;00m \u001b[38;5;124m\"\u001b[39m\u001b[38;5;124mb\u001b[39m\u001b[38;5;124m\"\u001b[39m \u001b[38;5;129;01mnot\u001b[39;00m \u001b[38;5;129;01min\u001b[39;00m mode:\n\u001b[1;32m   1879\u001b[0m         mode \u001b[38;5;241m+\u001b[39m\u001b[38;5;241m=\u001b[39m \u001b[38;5;124m\"\u001b[39m\u001b[38;5;124mb\u001b[39m\u001b[38;5;124m\"\u001b[39m\n\u001b[0;32m-> 1880\u001b[0m \u001b[38;5;28mself\u001b[39m\u001b[38;5;241m.\u001b[39mhandles \u001b[38;5;241m=\u001b[39m \u001b[43mget_handle\u001b[49m\u001b[43m(\u001b[49m\n\u001b[1;32m   1881\u001b[0m \u001b[43m    \u001b[49m\u001b[43mf\u001b[49m\u001b[43m,\u001b[49m\n\u001b[1;32m   1882\u001b[0m \u001b[43m    \u001b[49m\u001b[43mmode\u001b[49m\u001b[43m,\u001b[49m\n\u001b[1;32m   1883\u001b[0m \u001b[43m    \u001b[49m\u001b[43mencoding\u001b[49m\u001b[38;5;241;43m=\u001b[39;49m\u001b[38;5;28;43mself\u001b[39;49m\u001b[38;5;241;43m.\u001b[39;49m\u001b[43moptions\u001b[49m\u001b[38;5;241;43m.\u001b[39;49m\u001b[43mget\u001b[49m\u001b[43m(\u001b[49m\u001b[38;5;124;43m\"\u001b[39;49m\u001b[38;5;124;43mencoding\u001b[39;49m\u001b[38;5;124;43m\"\u001b[39;49m\u001b[43m,\u001b[49m\u001b[43m \u001b[49m\u001b[38;5;28;43;01mNone\u001b[39;49;00m\u001b[43m)\u001b[49m\u001b[43m,\u001b[49m\n\u001b[1;32m   1884\u001b[0m \u001b[43m    \u001b[49m\u001b[43mcompression\u001b[49m\u001b[38;5;241;43m=\u001b[39;49m\u001b[38;5;28;43mself\u001b[39;49m\u001b[38;5;241;43m.\u001b[39;49m\u001b[43moptions\u001b[49m\u001b[38;5;241;43m.\u001b[39;49m\u001b[43mget\u001b[49m\u001b[43m(\u001b[49m\u001b[38;5;124;43m\"\u001b[39;49m\u001b[38;5;124;43mcompression\u001b[39;49m\u001b[38;5;124;43m\"\u001b[39;49m\u001b[43m,\u001b[49m\u001b[43m \u001b[49m\u001b[38;5;28;43;01mNone\u001b[39;49;00m\u001b[43m)\u001b[49m\u001b[43m,\u001b[49m\n\u001b[1;32m   1885\u001b[0m \u001b[43m    \u001b[49m\u001b[43mmemory_map\u001b[49m\u001b[38;5;241;43m=\u001b[39;49m\u001b[38;5;28;43mself\u001b[39;49m\u001b[38;5;241;43m.\u001b[39;49m\u001b[43moptions\u001b[49m\u001b[38;5;241;43m.\u001b[39;49m\u001b[43mget\u001b[49m\u001b[43m(\u001b[49m\u001b[38;5;124;43m\"\u001b[39;49m\u001b[38;5;124;43mmemory_map\u001b[39;49m\u001b[38;5;124;43m\"\u001b[39;49m\u001b[43m,\u001b[49m\u001b[43m \u001b[49m\u001b[38;5;28;43;01mFalse\u001b[39;49;00m\u001b[43m)\u001b[49m\u001b[43m,\u001b[49m\n\u001b[1;32m   1886\u001b[0m \u001b[43m    \u001b[49m\u001b[43mis_text\u001b[49m\u001b[38;5;241;43m=\u001b[39;49m\u001b[43mis_text\u001b[49m\u001b[43m,\u001b[49m\n\u001b[1;32m   1887\u001b[0m \u001b[43m    \u001b[49m\u001b[43merrors\u001b[49m\u001b[38;5;241;43m=\u001b[39;49m\u001b[38;5;28;43mself\u001b[39;49m\u001b[38;5;241;43m.\u001b[39;49m\u001b[43moptions\u001b[49m\u001b[38;5;241;43m.\u001b[39;49m\u001b[43mget\u001b[49m\u001b[43m(\u001b[49m\u001b[38;5;124;43m\"\u001b[39;49m\u001b[38;5;124;43mencoding_errors\u001b[39;49m\u001b[38;5;124;43m\"\u001b[39;49m\u001b[43m,\u001b[49m\u001b[43m \u001b[49m\u001b[38;5;124;43m\"\u001b[39;49m\u001b[38;5;124;43mstrict\u001b[39;49m\u001b[38;5;124;43m\"\u001b[39;49m\u001b[43m)\u001b[49m\u001b[43m,\u001b[49m\n\u001b[1;32m   1888\u001b[0m \u001b[43m    \u001b[49m\u001b[43mstorage_options\u001b[49m\u001b[38;5;241;43m=\u001b[39;49m\u001b[38;5;28;43mself\u001b[39;49m\u001b[38;5;241;43m.\u001b[39;49m\u001b[43moptions\u001b[49m\u001b[38;5;241;43m.\u001b[39;49m\u001b[43mget\u001b[49m\u001b[43m(\u001b[49m\u001b[38;5;124;43m\"\u001b[39;49m\u001b[38;5;124;43mstorage_options\u001b[39;49m\u001b[38;5;124;43m\"\u001b[39;49m\u001b[43m,\u001b[49m\u001b[43m \u001b[49m\u001b[38;5;28;43;01mNone\u001b[39;49;00m\u001b[43m)\u001b[49m\u001b[43m,\u001b[49m\n\u001b[1;32m   1889\u001b[0m \u001b[43m\u001b[49m\u001b[43m)\u001b[49m\n\u001b[1;32m   1890\u001b[0m \u001b[38;5;28;01massert\u001b[39;00m \u001b[38;5;28mself\u001b[39m\u001b[38;5;241m.\u001b[39mhandles \u001b[38;5;129;01mis\u001b[39;00m \u001b[38;5;129;01mnot\u001b[39;00m \u001b[38;5;28;01mNone\u001b[39;00m\n\u001b[1;32m   1891\u001b[0m f \u001b[38;5;241m=\u001b[39m \u001b[38;5;28mself\u001b[39m\u001b[38;5;241m.\u001b[39mhandles\u001b[38;5;241m.\u001b[39mhandle\n",
      "File \u001b[0;32m~/opt/anaconda3/envs/pyciems310/lib/python3.10/site-packages/pandas/io/common.py:873\u001b[0m, in \u001b[0;36mget_handle\u001b[0;34m(path_or_buf, mode, encoding, compression, memory_map, is_text, errors, storage_options)\u001b[0m\n\u001b[1;32m    868\u001b[0m \u001b[38;5;28;01melif\u001b[39;00m \u001b[38;5;28misinstance\u001b[39m(handle, \u001b[38;5;28mstr\u001b[39m):\n\u001b[1;32m    869\u001b[0m     \u001b[38;5;66;03m# Check whether the filename is to be opened in binary mode.\u001b[39;00m\n\u001b[1;32m    870\u001b[0m     \u001b[38;5;66;03m# Binary mode does not support 'encoding' and 'newline'.\u001b[39;00m\n\u001b[1;32m    871\u001b[0m     \u001b[38;5;28;01mif\u001b[39;00m ioargs\u001b[38;5;241m.\u001b[39mencoding \u001b[38;5;129;01mand\u001b[39;00m \u001b[38;5;124m\"\u001b[39m\u001b[38;5;124mb\u001b[39m\u001b[38;5;124m\"\u001b[39m \u001b[38;5;129;01mnot\u001b[39;00m \u001b[38;5;129;01min\u001b[39;00m ioargs\u001b[38;5;241m.\u001b[39mmode:\n\u001b[1;32m    872\u001b[0m         \u001b[38;5;66;03m# Encoding\u001b[39;00m\n\u001b[0;32m--> 873\u001b[0m         handle \u001b[38;5;241m=\u001b[39m \u001b[38;5;28;43mopen\u001b[39;49m\u001b[43m(\u001b[49m\n\u001b[1;32m    874\u001b[0m \u001b[43m            \u001b[49m\u001b[43mhandle\u001b[49m\u001b[43m,\u001b[49m\n\u001b[1;32m    875\u001b[0m \u001b[43m            \u001b[49m\u001b[43mioargs\u001b[49m\u001b[38;5;241;43m.\u001b[39;49m\u001b[43mmode\u001b[49m\u001b[43m,\u001b[49m\n\u001b[1;32m    876\u001b[0m \u001b[43m            \u001b[49m\u001b[43mencoding\u001b[49m\u001b[38;5;241;43m=\u001b[39;49m\u001b[43mioargs\u001b[49m\u001b[38;5;241;43m.\u001b[39;49m\u001b[43mencoding\u001b[49m\u001b[43m,\u001b[49m\n\u001b[1;32m    877\u001b[0m \u001b[43m            \u001b[49m\u001b[43merrors\u001b[49m\u001b[38;5;241;43m=\u001b[39;49m\u001b[43merrors\u001b[49m\u001b[43m,\u001b[49m\n\u001b[1;32m    878\u001b[0m \u001b[43m            \u001b[49m\u001b[43mnewline\u001b[49m\u001b[38;5;241;43m=\u001b[39;49m\u001b[38;5;124;43m\"\u001b[39;49m\u001b[38;5;124;43m\"\u001b[39;49m\u001b[43m,\u001b[49m\n\u001b[1;32m    879\u001b[0m \u001b[43m        \u001b[49m\u001b[43m)\u001b[49m\n\u001b[1;32m    880\u001b[0m     \u001b[38;5;28;01melse\u001b[39;00m:\n\u001b[1;32m    881\u001b[0m         \u001b[38;5;66;03m# Binary mode\u001b[39;00m\n\u001b[1;32m    882\u001b[0m         handle \u001b[38;5;241m=\u001b[39m \u001b[38;5;28mopen\u001b[39m(handle, ioargs\u001b[38;5;241m.\u001b[39mmode)\n",
      "\u001b[0;31mFileNotFoundError\u001b[0m: [Errno 2] No such file or directory: 'paper_sine_05/paper_sine_05_new_df.csv'"
     ]
    }
   ],
   "source": [
    "#'timepoint_id', 'sample_id'\n",
    "sine_distribution = pd.read_csv(\"paper_sine_05/paper_sine_05_new_df.csv\")\n",
    "sine_distribution = sine_distribution.rename(\n",
    "            columns={\n",
    "                'Unnamed: 0.1': \"timepoint_id\",\n",
    "                'Unnamed: 0': \"100\",\n",
    "            }\n",
    "        )\n",
    "sine_distribution = sine_distribution.melt(id_vars=[\"timepoint_id\"], \n",
    "        var_name=\"sample_id\", \n",
    "        value_name=\"same_stat_state\")\n",
    "\n",
    "traces_list = []   \n",
    " \n",
    "#select_by \"mean\", \"var\", \"granger\"\n",
    "for select_by in ['mean', 'var', 'granger']:\n",
    "    examplary_line, mean_line_df = pyciemss.visuals.trajectories.select_traces(sine_distribution, select_by = select_by,  kmean=True)\n",
    "    traces_list.append(examplary_line)\n",
    "\n",
    "\n",
    "new_df = pd.concat(traces_list, axis = 1)\n",
    "combined_df = pd.concat([new_df, mean_line_df], axis =1)\n",
    "\n",
    "schema = plots.trajectories(sine_distribution, traces = combined_df,  keep=\".*_state\")\n",
    "\n",
    "plots.save_schema(schema, \"_schema.json\")\n",
    "\n",
    "plots.ipy_display(schema, format=\"interactive\")"
   ]
  }
 ],
 "metadata": {
  "kernelspec": {
   "display_name": "py310_cfg",
   "language": "python",
   "name": "python3"
  },
  "language_info": {
   "codemirror_mode": {
    "name": "ipython",
    "version": 3
   },
   "file_extension": ".py",
   "mimetype": "text/x-python",
   "name": "python",
   "nbconvert_exporter": "python",
   "pygments_lexer": "ipython3",
   "version": "3.10.13"
  }
 },
 "nbformat": 4,
 "nbformat_minor": 2
}
