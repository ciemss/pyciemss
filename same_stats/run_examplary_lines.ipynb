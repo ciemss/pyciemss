{
 "cells": [
  {
   "cell_type": "code",
   "execution_count": 1,
   "metadata": {},
   "outputs": [
    {
     "name": "stderr",
     "output_type": "stream",
     "text": [
      "/Users/oost464/opt/anaconda3/envs/pyciems310/lib/python3.10/site-packages/threadpoolctl.py:1223: RuntimeWarning: \n",
      "Found Intel OpenMP ('libiomp') and LLVM OpenMP ('libomp') loaded at\n",
      "the same time. Both libraries are known to be incompatible and this\n",
      "can cause random crashes or deadlocks on Linux when loaded in the\n",
      "same Python program.\n",
      "Using threadpoolctl may cause crashes or deadlocks. For more\n",
      "information and possible workarounds, please see\n",
      "    https://github.com/joblib/threadpoolctl/blob/master/multiple_openmp.md\n",
      "\n",
      "  warnings.warn(msg, RuntimeWarning)\n",
      "/Users/oost464/opt/anaconda3/envs/pyciems310/lib/python3.10/site-packages/tslearn/bases/bases.py:15: UserWarning: h5py not installed, hdf5 features will not be supported.\n",
      "Install h5py to use hdf5 features: http://docs.h5py.org/\n",
      "  warn(h5py_msg)\n"
     ]
    }
   ],
   "source": [
    "import json\n",
    "import random\n",
    "from itertools import chain\n",
    "from pathlib import Path\n",
    "import os\n",
    "import networkx as nx\n",
    "import numpy as np\n",
    "import pandas as pd\n",
    "import pytest\n",
    "\n",
    "import pyciemss\n",
    "from pyciemss.integration_utils.result_processing import convert_to_output_format\n",
    "from pyciemss.visuals import plots, vega\n",
    "\n"
   ]
  },
  {
   "cell_type": "code",
   "execution_count": 32,
   "metadata": {},
   "outputs": [
    {
     "name": "stdout",
     "output_type": "stream",
     "text": [
      "\n"
     ]
    },
    {
     "data": {
      "application/vnd.vega.v5+json": {
       "$schema": "https://vega.github.io/schema/vega/v5.json",
       "axes": [
        {
         "name": "x_axis",
         "orient": "bottom",
         "scale": "xscale",
         "zindex": 100
        },
        {
         "name": "y_axis",
         "orient": "left",
         "scale": "yscale",
         "zindex": 100
        }
       ],
       "background": "white",
       "data": [
        {
         "name": "distributions",
         "transform": [
          {
           "sort": {
            "field": [
             "trajectory",
             "timepoint"
            ]
           },
           "type": "collect"
          }
         ],
         "values": [
          {
           "lower": -1.978937198032836,
           "timepoint": 0,
           "trajectory": "Example",
           "upper": 2.0379010670838897
          },
          {
           "lower": -0.978937198032836,
           "timepoint": 1,
           "trajectory": "Example",
           "upper": 3.0379010670838897
          },
          {
           "lower": -0.7897300830301149,
           "timepoint": 2,
           "trajectory": "Example",
           "upper": 3.2271081820866105
          },
          {
           "lower": -0.6628631850803436,
           "timepoint": 3,
           "trajectory": "Example",
           "upper": 3.353975080036382
          },
          {
           "lower": -0.5647236356597408,
           "timepoint": 4,
           "trajectory": "Example",
           "upper": 3.4521146294569847
          },
          {
           "lower": -0.48358841681161546,
           "timepoint": 5,
           "trajectory": "Example",
           "upper": 3.5332498483051102
          },
          {
           "lower": -0.41385261795954864,
           "timepoint": 6,
           "trajectory": "Example",
           "upper": 3.602985647157177
          },
          {
           "lower": -0.3523606363350503,
           "timepoint": 7,
           "trajectory": "Example",
           "upper": 3.6644776287816754
          },
          {
           "lower": -0.29714436752540696,
           "timepoint": 8,
           "trajectory": "Example",
           "upper": 3.7196938975913185
          },
          {
           "lower": -0.24688639046395877,
           "timepoint": 9,
           "trajectory": "Example",
           "upper": 3.769951874652767
          },
          {
           "lower": -0.2006577879939132,
           "timepoint": 10,
           "trajectory": "Example",
           "upper": 3.8161804771228125
          },
          {
           "lower": -0.15777691119496418,
           "timepoint": 11,
           "trajectory": "Example",
           "upper": 3.8590613539217613
          },
          {
           "lower": -0.11772747982863686,
           "timepoint": 12,
           "trajectory": "Example",
           "upper": 3.8991107852880886
          },
          {
           "lower": -0.08010827591689419,
           "timepoint": 13,
           "trajectory": "Example",
           "upper": 3.9367299891998315
          },
          {
           "lower": -0.044600777765166584,
           "timepoint": 14,
           "trajectory": "Example",
           "upper": 3.9722374873515593
          },
          {
           "lower": -0.010947526767405635,
           "timepoint": 15,
           "trajectory": "Example",
           "upper": 4.005890738349319
          },
          {
           "lower": 0.021062801967164025,
           "timepoint": 16,
           "trajectory": "Example",
           "upper": 4.037901067083889
          },
          {
           "lower": 0.051605986836094624,
           "timepoint": 17,
           "trajectory": "Example",
           "upper": 4.06844425195282
          },
          {
           "lower": 0.0808299458742817,
           "timepoint": 18,
           "trajectory": "Example",
           "upper": 4.0976682109910065
          },
          {
           "lower": 0.10886043189700799,
           "timepoint": 19,
           "trajectory": "Example",
           "upper": 4.125698697013734
          },
          {
           "lower": 0.13580532884829222,
           "timepoint": 20,
           "trajectory": "Example",
           "upper": 4.152643593965017
          },
          {
           "lower": 0.16175794489523654,
           "timepoint": 21,
           "trajectory": "Example",
           "upper": 4.178596210011962
          },
          {
           "lower": 0.18679957263515778,
           "timepoint": 22,
           "trajectory": "Example",
           "upper": 4.203637837751883
          },
          {
           "lower": 0.2110015050620061,
           "timepoint": 23,
           "trajectory": "Example",
           "upper": 4.227839770178731
          },
          {
           "lower": 0.234426641367807,
           "timepoint": 24,
           "trajectory": "Example",
           "upper": 4.251264906484533
          },
          {
           "lower": 0.25713077946695384,
           "timepoint": 25,
           "trajectory": "Example",
           "upper": 4.273969044583679
          },
          {
           "lower": 0.2791636663203897,
           "timepoint": 26,
           "trajectory": "Example",
           "upper": 4.2960019314371145
          },
          {
           "lower": 0.30056985892194155,
           "timepoint": 27,
           "trajectory": "Example",
           "upper": 4.317408124038667
          },
          {
           "lower": 0.32138943575836987,
           "timepoint": 28,
           "trajectory": "Example",
           "upper": 4.338227700875095
          },
          {
           "lower": 0.34165858907324786,
           "timepoint": 29,
           "trajectory": "Example",
           "upper": 4.358496854189973
          },
          {
           "lower": 0.3614101212878801,
           "timepoint": 30,
           "trajectory": "Example",
           "upper": 4.378248386404605
          },
          {
           "lower": 0.38067386373773104,
           "timepoint": 31,
           "trajectory": "Example",
           "upper": 4.397512128854457
          },
          {
           "lower": 0.3994770319726061,
           "timepoint": 32,
           "trajectory": "Example",
           "upper": 4.416315297089332
          },
          {
           "lower": 0.4178445288955942,
           "timepoint": 33,
           "trajectory": "Example",
           "upper": 4.4346827940123195
          },
          {
           "lower": 0.435799204733582,
           "timepoint": 34,
           "trajectory": "Example",
           "upper": 4.452637469850307
          },
          {
           "lower": 0.45336208106495157,
           "timepoint": 35,
           "trajectory": "Example",
           "upper": 4.470200346181677
          },
          {
           "lower": 0.4705525447503419,
           "timepoint": 36,
           "trajectory": "Example",
           "upper": 4.487390809867067
          },
          {
           "lower": 0.4873885165268247,
           "timepoint": 37,
           "trajectory": "Example",
           "upper": 4.50422678164355
          },
          {
           "lower": 0.5038865981655524,
           "timepoint": 38,
           "trajectory": "Example",
           "upper": 4.520724863282277
          },
          {
           "lower": 0.5200622014065474,
           "timepoint": 39,
           "trajectory": "Example",
           "upper": 4.536900466523273
          },
          {
           "lower": 0.535929661333035,
           "timepoint": 40,
           "trajectory": "Example",
           "upper": 4.552767926449761
          },
          {
           "lower": 0.5515023364024071,
           "timepoint": 41,
           "trajectory": "Example",
           "upper": 4.568340601519132
          },
          {
           "lower": 0.5667926969889946,
           "timepoint": 42,
           "trajectory": "Example",
           "upper": 4.58363096210572
          },
          {
           "lower": 0.5818124039981788,
           "timepoint": 43,
           "trajectory": "Example",
           "upper": 4.598650669114904
          },
          {
           "lower": 0.5965723788685585,
           "timepoint": 44,
           "trajectory": "Example",
           "upper": 4.613410643985284
          },
          {
           "lower": 0.6110828660785154,
           "timepoint": 45,
           "trajectory": "Example",
           "upper": 4.62792113119524
          },
          {
           "lower": 0.6253534891073819,
           "timepoint": 46,
           "trajectory": "Example",
           "upper": 4.642191754224108
          },
          {
           "lower": 0.6393933006630493,
           "timepoint": 47,
           "trajectory": "Example",
           "upper": 4.656231565779775
          },
          {
           "lower": 0.6532108278721488,
           "timepoint": 48,
           "trajectory": "Example",
           "upper": 4.670049092988874
          },
          {
           "lower": 0.6668141130317548,
           "timepoint": 49,
           "trajectory": "Example",
           "upper": 4.68365237814848
          },
          {
           "lower": 0.6802107504396583,
           "timepoint": 50,
           "trajectory": "Example",
           "upper": 4.6970490155563835
          },
          {
           "lower": 0.6934079197509525,
           "timepoint": 51,
           "trajectory": "Example",
           "upper": 4.710246184867678
          },
          {
           "lower": 0.7064124162498141,
           "timepoint": 52,
           "trajectory": "Example",
           "upper": 4.723250681366539
          },
          {
           "lower": 0.7192306783752495,
           "timepoint": 53,
           "trajectory": "Example",
           "upper": 4.736068943491975
          },
          {
           "lower": 0.7318688127966985,
           "timepoint": 54,
           "trajectory": "Example",
           "upper": 4.748707077913424
          },
          {
           "lower": 0.7443326172986643,
           "timepoint": 55,
           "trajectory": "Example",
           "upper": 4.7611708824153895
          },
          {
           "lower": 0.7566276017019248,
           "timepoint": 56,
           "trajectory": "Example",
           "upper": 4.7734658668186505
          },
          {
           "lower": 0.7687590070216365,
           "timepoint": 57,
           "trajectory": "Example",
           "upper": 4.785597272138362
          },
          {
           "lower": 0.7807318230390586,
           "timepoint": 58,
           "trajectory": "Example",
           "upper": 4.7975700881557835
          },
          {
           "lower": 0.7925508044432,
           "timepoint": 59,
           "trajectory": "Example",
           "upper": 4.809389069559925
          },
          {
           "lower": 0.8042204856809044,
           "timepoint": 60,
           "trajectory": "Example",
           "upper": 4.821058750797629
          },
          {
           "lower": 0.8157451946384052,
           "timepoint": 61,
           "trajectory": "Example",
           "upper": 4.8325834597551305
          },
          {
           "lower": 0.8271290652638471,
           "timepoint": 62,
           "trajectory": "Example",
           "upper": 4.843967330380572
          },
          {
           "lower": 0.8383760492284217,
           "timepoint": 63,
           "trajectory": "Example",
           "upper": 4.855214314345147
          },
          {
           "lower": 0.8494899267133543,
           "timepoint": 64,
           "trajectory": "Example",
           "upper": 4.86632819183008
          },
          {
           "lower": 0.8604743164008416,
           "timepoint": 65,
           "trajectory": "Example",
           "upper": 4.877312581517566
          },
          {
           "lower": 0.8713326847389623,
           "timepoint": 66,
           "trajectory": "Example",
           "upper": 4.888170949855688
          },
          {
           "lower": 0.8820683545434692,
           "timepoint": 67,
           "trajectory": "Example",
           "upper": 4.8989066196601945
          },
          {
           "lower": 0.8926845129930646,
           "timepoint": 68,
           "trajectory": "Example",
           "upper": 4.90952277810979
          },
          {
           "lower": 0.90318421906917,
           "timepoint": 69,
           "trajectory": "Example",
           "upper": 4.920022484185895
          },
          {
           "lower": 0.913570410486242,
           "timepoint": 70,
           "trajectory": "Example",
           "upper": 4.930408675602967
          },
          {
           "lower": 0.9238459101542636,
           "timepoint": 71,
           "trajectory": "Example",
           "upper": 4.940684175270989
          },
          {
           "lower": 0.9340134322111046,
           "timepoint": 72,
           "trajectory": "Example",
           "upper": 4.950851697327829
          },
          {
           "lower": 0.944075587658929,
           "timepoint": 73,
           "trajectory": "Example",
           "upper": 4.960913852775654
          },
          {
           "lower": 0.9540348896356822,
           "timepoint": 74,
           "trajectory": "Example",
           "upper": 4.970873154752407
          },
          {
           "lower": 0.963893758349876,
           "timepoint": 75,
           "trajectory": "Example",
           "upper": 4.980732023466601
          },
          {
           "lower": 0.9736545257043533,
           "timepoint": 76,
           "trajectory": "Example",
           "upper": 4.9904927908210786
          },
          {
           "lower": 0.9833194396324628,
           "timepoint": 77,
           "trajectory": "Example",
           "upper": 5.0001577047491885
          },
          {
           "lower": 0.9928906681680055,
           "timepoint": 78,
           "trajectory": "Example",
           "upper": 5.00972893328473
          },
          {
           "lower": 1.0023703032684956,
           "timepoint": 79,
           "trajectory": "Example",
           "upper": 5.019208568385221
          },
          {
           "lower": 1.011760364409605,
           "timepoint": 80,
           "trajectory": "Example",
           "upper": 5.02859862952633
          },
          {
           "lower": 1.021062801967164,
           "timepoint": 81,
           "trajectory": "Example",
           "upper": 5.037901067083889
          },
          {
           "lower": 1.0302795004017278,
           "timepoint": 82,
           "trajectory": "Example",
           "upper": 5.047117765518453
          },
          {
           "lower": 1.039412281259497,
           "timepoint": 83,
           "trajectory": "Example",
           "upper": 5.056250546376223
          },
          {
           "lower": 1.0484629060022548,
           "timepoint": 84,
           "trajectory": "Example",
           "upper": 5.06530117111898
          },
          {
           "lower": 1.0574330786779749,
           "timepoint": 85,
           "trajectory": "Example",
           "upper": 5.074271343794701
          },
          {
           "lower": 1.0663244484428334,
           "timepoint": 86,
           "trajectory": "Example",
           "upper": 5.083162713559559
          },
          {
           "lower": 1.0751386119445154,
           "timepoint": 87,
           "trajectory": "Example",
           "upper": 5.09197687706124
          },
          {
           "lower": 1.08387711557595,
           "timepoint": 88,
           "trajectory": "Example",
           "upper": 5.100715380692675
          },
          {
           "lower": 1.0925414576078967,
           "timepoint": 89,
           "trajectory": "Example",
           "upper": 5.109379722724622
          },
          {
           "lower": 1.101133090208187,
           "timepoint": 90,
           "trajectory": "Example",
           "upper": 5.117971355324912
          },
          {
           "lower": 1.109653421354825,
           "timepoint": 91,
           "trajectory": "Example",
           "upper": 5.12649168647155
          },
          {
           "lower": 1.1181038166496364,
           "timepoint": 92,
           "trajectory": "Example",
           "upper": 5.134942081766361
          },
          {
           "lower": 1.1264856010386453,
           "timepoint": 93,
           "trajectory": "Example",
           "upper": 5.14332386615537
          },
          {
           "lower": 1.1348000604449338,
           "timepoint": 94,
           "trajectory": "Example",
           "upper": 5.15163832556166
          },
          {
           "lower": 1.143048443319309,
           "timepoint": 95,
           "trajectory": "Example",
           "upper": 5.1598867084360345
          },
          {
           "lower": 1.1512319621137386,
           "timepoint": 96,
           "trajectory": "Example",
           "upper": 5.168070227230464
          },
          {
           "lower": 1.15935179468216,
           "timepoint": 97,
           "trajectory": "Example",
           "upper": 5.176190059798886
          },
          {
           "lower": 1.1674090856129524,
           "timepoint": 98,
           "trajectory": "Example",
           "upper": 5.184247350729677
          },
          {
           "lower": 1.1754049474970683,
           "timepoint": 99,
           "trajectory": "Example",
           "upper": 5.192243212613794
          }
         ]
        },
        {
         "name": "traces",
         "transform": [
          {
           "expr": "isValid(datum.value)",
           "type": "filter"
          },
          {
           "sort": {
            "field": [
             "trajectory",
             "timepoint"
            ]
           },
           "type": "collect"
          }
         ],
         "values": [
          {
           "color_by": "Baseline Mean",
           "sample_id": 0,
           "timepoint": 0,
           "trajectory": "Baseline_Mean",
           "value": -0.043436435958966096
          },
          {
           "color_by": "Baseline Mean",
           "sample_id": 0,
           "timepoint": 1,
           "trajectory": "Baseline_Mean",
           "value": 0.9565635640410339
          },
          {
           "color_by": "Baseline Mean",
           "sample_id": 0,
           "timepoint": 2,
           "trajectory": "Baseline_Mean",
           "value": 1.145770679043755
          },
          {
           "color_by": "Baseline Mean",
           "sample_id": 0,
           "timepoint": 3,
           "trajectory": "Baseline_Mean",
           "value": 1.2726375769935263
          },
          {
           "color_by": "Baseline Mean",
           "sample_id": 0,
           "timepoint": 4,
           "trajectory": "Baseline_Mean",
           "value": 1.370777126414129
          },
          {
           "color_by": "Baseline Mean",
           "sample_id": 0,
           "timepoint": 5,
           "trajectory": "Baseline_Mean",
           "value": 1.4519123452622542
          },
          {
           "color_by": "Baseline Mean",
           "sample_id": 0,
           "timepoint": 6,
           "trajectory": "Baseline_Mean",
           "value": 1.5216481441143213
          },
          {
           "color_by": "Baseline Mean",
           "sample_id": 0,
           "timepoint": 7,
           "trajectory": "Baseline_Mean",
           "value": 1.5831401257388196
          },
          {
           "color_by": "Baseline Mean",
           "sample_id": 0,
           "timepoint": 8,
           "trajectory": "Baseline_Mean",
           "value": 1.638356394548463
          },
          {
           "color_by": "Baseline Mean",
           "sample_id": 0,
           "timepoint": 9,
           "trajectory": "Baseline_Mean",
           "value": 1.6886143716099111
          },
          {
           "color_by": "Baseline Mean",
           "sample_id": 0,
           "timepoint": 10,
           "trajectory": "Baseline_Mean",
           "value": 1.7348429740799565
          },
          {
           "color_by": "Baseline Mean",
           "sample_id": 0,
           "timepoint": 11,
           "trajectory": "Baseline_Mean",
           "value": 1.7777238508789057
          },
          {
           "color_by": "Baseline Mean",
           "sample_id": 0,
           "timepoint": 12,
           "trajectory": "Baseline_Mean",
           "value": 1.817773282245233
          },
          {
           "color_by": "Baseline Mean",
           "sample_id": 0,
           "timepoint": 13,
           "trajectory": "Baseline_Mean",
           "value": 1.8553924861569757
          },
          {
           "color_by": "Baseline Mean",
           "sample_id": 0,
           "timepoint": 14,
           "trajectory": "Baseline_Mean",
           "value": 1.8908999843087033
          },
          {
           "color_by": "Baseline Mean",
           "sample_id": 0,
           "timepoint": 15,
           "trajectory": "Baseline_Mean",
           "value": 1.9245532353064645
          },
          {
           "color_by": "Baseline Mean",
           "sample_id": 0,
           "timepoint": 16,
           "trajectory": "Baseline_Mean",
           "value": 1.9565635640410337
          },
          {
           "color_by": "Baseline Mean",
           "sample_id": 0,
           "timepoint": 17,
           "trajectory": "Baseline_Mean",
           "value": 1.9871067489099645
          },
          {
           "color_by": "Baseline Mean",
           "sample_id": 0,
           "timepoint": 18,
           "trajectory": "Baseline_Mean",
           "value": 2.0163307079481516
          },
          {
           "color_by": "Baseline Mean",
           "sample_id": 0,
           "timepoint": 19,
           "trajectory": "Baseline_Mean",
           "value": 2.044361193970878
          },
          {
           "color_by": "Baseline Mean",
           "sample_id": 0,
           "timepoint": 20,
           "trajectory": "Baseline_Mean",
           "value": 2.071306090922162
          },
          {
           "color_by": "Baseline Mean",
           "sample_id": 0,
           "timepoint": 21,
           "trajectory": "Baseline_Mean",
           "value": 2.0972587069691064
          },
          {
           "color_by": "Baseline Mean",
           "sample_id": 0,
           "timepoint": 22,
           "trajectory": "Baseline_Mean",
           "value": 2.1223003347090277
          },
          {
           "color_by": "Baseline Mean",
           "sample_id": 0,
           "timepoint": 23,
           "trajectory": "Baseline_Mean",
           "value": 2.146502267135876
          },
          {
           "color_by": "Baseline Mean",
           "sample_id": 0,
           "timepoint": 24,
           "trajectory": "Baseline_Mean",
           "value": 2.169927403441677
          },
          {
           "color_by": "Baseline Mean",
           "sample_id": 0,
           "timepoint": 25,
           "trajectory": "Baseline_Mean",
           "value": 2.1926315415408237
          },
          {
           "color_by": "Baseline Mean",
           "sample_id": 0,
           "timepoint": 26,
           "trajectory": "Baseline_Mean",
           "value": 2.2146644283942596
          },
          {
           "color_by": "Baseline Mean",
           "sample_id": 0,
           "timepoint": 27,
           "trajectory": "Baseline_Mean",
           "value": 2.2360706209958114
          },
          {
           "color_by": "Baseline Mean",
           "sample_id": 0,
           "timepoint": 28,
           "trajectory": "Baseline_Mean",
           "value": 2.2568901978322398
          },
          {
           "color_by": "Baseline Mean",
           "sample_id": 0,
           "timepoint": 29,
           "trajectory": "Baseline_Mean",
           "value": 2.2771593511471178
          },
          {
           "color_by": "Baseline Mean",
           "sample_id": 0,
           "timepoint": 30,
           "trajectory": "Baseline_Mean",
           "value": 2.29691088336175
          },
          {
           "color_by": "Baseline Mean",
           "sample_id": 0,
           "timepoint": 31,
           "trajectory": "Baseline_Mean",
           "value": 2.316174625811601
          },
          {
           "color_by": "Baseline Mean",
           "sample_id": 0,
           "timepoint": 32,
           "trajectory": "Baseline_Mean",
           "value": 2.334977794046476
          },
          {
           "color_by": "Baseline Mean",
           "sample_id": 0,
           "timepoint": 33,
           "trajectory": "Baseline_Mean",
           "value": 2.353345290969464
          },
          {
           "color_by": "Baseline Mean",
           "sample_id": 0,
           "timepoint": 34,
           "trajectory": "Baseline_Mean",
           "value": 2.371299966807452
          },
          {
           "color_by": "Baseline Mean",
           "sample_id": 0,
           "timepoint": 35,
           "trajectory": "Baseline_Mean",
           "value": 2.3888628431388215
          },
          {
           "color_by": "Baseline Mean",
           "sample_id": 0,
           "timepoint": 36,
           "trajectory": "Baseline_Mean",
           "value": 2.406053306824212
          },
          {
           "color_by": "Baseline Mean",
           "sample_id": 0,
           "timepoint": 37,
           "trajectory": "Baseline_Mean",
           "value": 2.4228892786006946
          },
          {
           "color_by": "Baseline Mean",
           "sample_id": 0,
           "timepoint": 38,
           "trajectory": "Baseline_Mean",
           "value": 2.4393873602394223
          },
          {
           "color_by": "Baseline Mean",
           "sample_id": 0,
           "timepoint": 39,
           "trajectory": "Baseline_Mean",
           "value": 2.4555629634804172
          },
          {
           "color_by": "Baseline Mean",
           "sample_id": 0,
           "timepoint": 40,
           "trajectory": "Baseline_Mean",
           "value": 2.471430423406905
          },
          {
           "color_by": "Baseline Mean",
           "sample_id": 0,
           "timepoint": 41,
           "trajectory": "Baseline_Mean",
           "value": 2.487003098476277
          },
          {
           "color_by": "Baseline Mean",
           "sample_id": 0,
           "timepoint": 42,
           "trajectory": "Baseline_Mean",
           "value": 2.5022934590628645
          },
          {
           "color_by": "Baseline Mean",
           "sample_id": 0,
           "timepoint": 43,
           "trajectory": "Baseline_Mean",
           "value": 2.5173131660720487
          },
          {
           "color_by": "Baseline Mean",
           "sample_id": 0,
           "timepoint": 44,
           "trajectory": "Baseline_Mean",
           "value": 2.5320731409424284
          },
          {
           "color_by": "Baseline Mean",
           "sample_id": 0,
           "timepoint": 45,
           "trajectory": "Baseline_Mean",
           "value": 2.5465836281523853
          },
          {
           "color_by": "Baseline Mean",
           "sample_id": 0,
           "timepoint": 46,
           "trajectory": "Baseline_Mean",
           "value": 2.5608542511812518
          },
          {
           "color_by": "Baseline Mean",
           "sample_id": 0,
           "timepoint": 47,
           "trajectory": "Baseline_Mean",
           "value": 2.5748940627369192
          },
          {
           "color_by": "Baseline Mean",
           "sample_id": 0,
           "timepoint": 48,
           "trajectory": "Baseline_Mean",
           "value": 2.5887115899460182
          },
          {
           "color_by": "Baseline Mean",
           "sample_id": 0,
           "timepoint": 49,
           "trajectory": "Baseline_Mean",
           "value": 2.602314875105625
          },
          {
           "color_by": "Baseline Mean",
           "sample_id": 0,
           "timepoint": 50,
           "trajectory": "Baseline_Mean",
           "value": 2.615711512513528
          },
          {
           "color_by": "Baseline Mean",
           "sample_id": 0,
           "timepoint": 51,
           "trajectory": "Baseline_Mean",
           "value": 2.6289086818248224
          },
          {
           "color_by": "Baseline Mean",
           "sample_id": 0,
           "timepoint": 52,
           "trajectory": "Baseline_Mean",
           "value": 2.641913178323684
          },
          {
           "color_by": "Baseline Mean",
           "sample_id": 0,
           "timepoint": 53,
           "trajectory": "Baseline_Mean",
           "value": 2.6547314404491194
          },
          {
           "color_by": "Baseline Mean",
           "sample_id": 0,
           "timepoint": 54,
           "trajectory": "Baseline_Mean",
           "value": 2.6673695748705684
          },
          {
           "color_by": "Baseline Mean",
           "sample_id": 0,
           "timepoint": 55,
           "trajectory": "Baseline_Mean",
           "value": 2.6798333793725337
          },
          {
           "color_by": "Baseline Mean",
           "sample_id": 0,
           "timepoint": 56,
           "trajectory": "Baseline_Mean",
           "value": 2.692128363775795
          },
          {
           "color_by": "Baseline Mean",
           "sample_id": 0,
           "timepoint": 57,
           "trajectory": "Baseline_Mean",
           "value": 2.7042597690955064
          },
          {
           "color_by": "Baseline Mean",
           "sample_id": 0,
           "timepoint": 58,
           "trajectory": "Baseline_Mean",
           "value": 2.7162325851129285
          },
          {
           "color_by": "Baseline Mean",
           "sample_id": 0,
           "timepoint": 59,
           "trajectory": "Baseline_Mean",
           "value": 2.7280515665170695
          },
          {
           "color_by": "Baseline Mean",
           "sample_id": 0,
           "timepoint": 60,
           "trajectory": "Baseline_Mean",
           "value": 2.7397212477547743
          },
          {
           "color_by": "Baseline Mean",
           "sample_id": 0,
           "timepoint": 61,
           "trajectory": "Baseline_Mean",
           "value": 2.751245956712275
          },
          {
           "color_by": "Baseline Mean",
           "sample_id": 0,
           "timepoint": 62,
           "trajectory": "Baseline_Mean",
           "value": 2.762629827337717
          },
          {
           "color_by": "Baseline Mean",
           "sample_id": 0,
           "timepoint": 63,
           "trajectory": "Baseline_Mean",
           "value": 2.7738768113022916
          },
          {
           "color_by": "Baseline Mean",
           "sample_id": 0,
           "timepoint": 64,
           "trajectory": "Baseline_Mean",
           "value": 2.7849906887872242
          },
          {
           "color_by": "Baseline Mean",
           "sample_id": 0,
           "timepoint": 65,
           "trajectory": "Baseline_Mean",
           "value": 2.7959750784747115
          },
          {
           "color_by": "Baseline Mean",
           "sample_id": 0,
           "timepoint": 66,
           "trajectory": "Baseline_Mean",
           "value": 2.8068334468128326
          },
          {
           "color_by": "Baseline Mean",
           "sample_id": 0,
           "timepoint": 67,
           "trajectory": "Baseline_Mean",
           "value": 2.817569116617339
          },
          {
           "color_by": "Baseline Mean",
           "sample_id": 0,
           "timepoint": 68,
           "trajectory": "Baseline_Mean",
           "value": 2.8281852750669345
          },
          {
           "color_by": "Baseline Mean",
           "sample_id": 0,
           "timepoint": 69,
           "trajectory": "Baseline_Mean",
           "value": 2.83868498114304
          },
          {
           "color_by": "Baseline Mean",
           "sample_id": 0,
           "timepoint": 70,
           "trajectory": "Baseline_Mean",
           "value": 2.849071172560112
          },
          {
           "color_by": "Baseline Mean",
           "sample_id": 0,
           "timepoint": 71,
           "trajectory": "Baseline_Mean",
           "value": 2.8593466722281335
          },
          {
           "color_by": "Baseline Mean",
           "sample_id": 0,
           "timepoint": 72,
           "trajectory": "Baseline_Mean",
           "value": 2.8695141942849745
          },
          {
           "color_by": "Baseline Mean",
           "sample_id": 0,
           "timepoint": 73,
           "trajectory": "Baseline_Mean",
           "value": 2.879576349732799
          },
          {
           "color_by": "Baseline Mean",
           "sample_id": 0,
           "timepoint": 74,
           "trajectory": "Baseline_Mean",
           "value": 2.889535651709552
          },
          {
           "color_by": "Baseline Mean",
           "sample_id": 0,
           "timepoint": 75,
           "trajectory": "Baseline_Mean",
           "value": 2.899394520423746
          },
          {
           "color_by": "Baseline Mean",
           "sample_id": 0,
           "timepoint": 76,
           "trajectory": "Baseline_Mean",
           "value": 2.909155287778223
          },
          {
           "color_by": "Baseline Mean",
           "sample_id": 0,
           "timepoint": 77,
           "trajectory": "Baseline_Mean",
           "value": 2.9188202017063327
          },
          {
           "color_by": "Baseline Mean",
           "sample_id": 0,
           "timepoint": 78,
           "trajectory": "Baseline_Mean",
           "value": 2.9283914302418754
          },
          {
           "color_by": "Baseline Mean",
           "sample_id": 0,
           "timepoint": 79,
           "trajectory": "Baseline_Mean",
           "value": 2.9378710653423656
          },
          {
           "color_by": "Baseline Mean",
           "sample_id": 0,
           "timepoint": 80,
           "trajectory": "Baseline_Mean",
           "value": 2.947261126483475
          },
          {
           "color_by": "Baseline Mean",
           "sample_id": 0,
           "timepoint": 81,
           "trajectory": "Baseline_Mean",
           "value": 2.956563564041034
          },
          {
           "color_by": "Baseline Mean",
           "sample_id": 0,
           "timepoint": 82,
           "trajectory": "Baseline_Mean",
           "value": 2.965780262475598
          },
          {
           "color_by": "Baseline Mean",
           "sample_id": 0,
           "timepoint": 83,
           "trajectory": "Baseline_Mean",
           "value": 2.974913043333367
          },
          {
           "color_by": "Baseline Mean",
           "sample_id": 0,
           "timepoint": 84,
           "trajectory": "Baseline_Mean",
           "value": 2.983963668076125
          },
          {
           "color_by": "Baseline Mean",
           "sample_id": 0,
           "timepoint": 85,
           "trajectory": "Baseline_Mean",
           "value": 2.9929338407518444
          },
          {
           "color_by": "Baseline Mean",
           "sample_id": 0,
           "timepoint": 86,
           "trajectory": "Baseline_Mean",
           "value": 3.0018252105167034
          },
          {
           "color_by": "Baseline Mean",
           "sample_id": 0,
           "timepoint": 87,
           "trajectory": "Baseline_Mean",
           "value": 3.0106393740183854
          },
          {
           "color_by": "Baseline Mean",
           "sample_id": 0,
           "timepoint": 88,
           "trajectory": "Baseline_Mean",
           "value": 3.01937787764982
          },
          {
           "color_by": "Baseline Mean",
           "sample_id": 0,
           "timepoint": 89,
           "trajectory": "Baseline_Mean",
           "value": 3.0280422196817667
          },
          {
           "color_by": "Baseline Mean",
           "sample_id": 0,
           "timepoint": 90,
           "trajectory": "Baseline_Mean",
           "value": 3.036633852282057
          },
          {
           "color_by": "Baseline Mean",
           "sample_id": 0,
           "timepoint": 91,
           "trajectory": "Baseline_Mean",
           "value": 3.045154183428695
          },
          {
           "color_by": "Baseline Mean",
           "sample_id": 0,
           "timepoint": 92,
           "trajectory": "Baseline_Mean",
           "value": 3.0536045787235064
          },
          {
           "color_by": "Baseline Mean",
           "sample_id": 0,
           "timepoint": 93,
           "trajectory": "Baseline_Mean",
           "value": 3.0619863631125153
          },
          {
           "color_by": "Baseline Mean",
           "sample_id": 0,
           "timepoint": 94,
           "trajectory": "Baseline_Mean",
           "value": 3.070300822518804
          },
          {
           "color_by": "Baseline Mean",
           "sample_id": 0,
           "timepoint": 95,
           "trajectory": "Baseline_Mean",
           "value": 3.078549205393179
          },
          {
           "color_by": "Baseline Mean",
           "sample_id": 0,
           "timepoint": 96,
           "trajectory": "Baseline_Mean",
           "value": 3.0867327241876086
          },
          {
           "color_by": "Baseline Mean",
           "sample_id": 0,
           "timepoint": 97,
           "trajectory": "Baseline_Mean",
           "value": 3.09485255675603
          },
          {
           "color_by": "Baseline Mean",
           "sample_id": 0,
           "timepoint": 98,
           "trajectory": "Baseline_Mean",
           "value": 3.1029098476868224
          },
          {
           "color_by": "Baseline Mean",
           "sample_id": 0,
           "timepoint": 99,
           "trajectory": "Baseline_Mean",
           "value": 3.110905709570938
          },
          {
           "color_by": "Chaos 100/100",
           "sample_id": 0,
           "timepoint": 0,
           "trajectory": "Chaos_100/100",
           "value": -3.301177441493483
          },
          {
           "color_by": "Chaos 100/100",
           "sample_id": 0,
           "timepoint": 1,
           "trajectory": "Chaos_100/100",
           "value": -2.301177441493483
          },
          {
           "color_by": "Chaos 100/100",
           "sample_id": 0,
           "timepoint": 2,
           "trajectory": "Chaos_100/100",
           "value": -2.111970326490762
          },
          {
           "color_by": "Chaos 100/100",
           "sample_id": 0,
           "timepoint": 3,
           "trajectory": "Chaos_100/100",
           "value": -1.9851034285409908
          },
          {
           "color_by": "Chaos 100/100",
           "sample_id": 0,
           "timepoint": 4,
           "trajectory": "Chaos_100/100",
           "value": -1.886963879120388
          },
          {
           "color_by": "Chaos 100/100",
           "sample_id": 0,
           "timepoint": 5,
           "trajectory": "Chaos_100/100",
           "value": -1.8058286602722626
          },
          {
           "color_by": "Chaos 100/100",
           "sample_id": 0,
           "timepoint": 6,
           "trajectory": "Chaos_100/100",
           "value": -1.7360928614201958
          },
          {
           "color_by": "Chaos 100/100",
           "sample_id": 0,
           "timepoint": 7,
           "trajectory": "Chaos_100/100",
           "value": -1.6746008797956975
          },
          {
           "color_by": "Chaos 100/100",
           "sample_id": 0,
           "timepoint": 8,
           "trajectory": "Chaos_100/100",
           "value": -1.6193846109860541
          },
          {
           "color_by": "Chaos 100/100",
           "sample_id": 0,
           "timepoint": 9,
           "trajectory": "Chaos_100/100",
           "value": -1.569126633924606
          },
          {
           "color_by": "Chaos 100/100",
           "sample_id": 0,
           "timepoint": 10,
           "trajectory": "Chaos_100/100",
           "value": -1.5228980314545604
          },
          {
           "color_by": "Chaos 100/100",
           "sample_id": 0,
           "timepoint": 11,
           "trajectory": "Chaos_100/100",
           "value": -1.4800171546556116
          },
          {
           "color_by": "Chaos 100/100",
           "sample_id": 0,
           "timepoint": 12,
           "trajectory": "Chaos_100/100",
           "value": -1.4399677232892842
          },
          {
           "color_by": "Chaos 100/100",
           "sample_id": 0,
           "timepoint": 13,
           "trajectory": "Chaos_100/100",
           "value": -1.4023485193775413
          },
          {
           "color_by": "Chaos 100/100",
           "sample_id": 0,
           "timepoint": 14,
           "trajectory": "Chaos_100/100",
           "value": -1.3668410212258137
          },
          {
           "color_by": "Chaos 100/100",
           "sample_id": 0,
           "timepoint": 15,
           "trajectory": "Chaos_100/100",
           "value": -1.3331877702280528
          },
          {
           "color_by": "Chaos 100/100",
           "sample_id": 0,
           "timepoint": 16,
           "trajectory": "Chaos_100/100",
           "value": -1.3011774414934831
          },
          {
           "color_by": "Chaos 100/100",
           "sample_id": 0,
           "timepoint": 17,
           "trajectory": "Chaos_100/100",
           "value": -1.2706342566245525
          },
          {
           "color_by": "Chaos 100/100",
           "sample_id": 0,
           "timepoint": 18,
           "trajectory": "Chaos_100/100",
           "value": -1.2414102975863655
          },
          {
           "color_by": "Chaos 100/100",
           "sample_id": 0,
           "timepoint": 19,
           "trajectory": "Chaos_100/100",
           "value": -1.2133798115636392
          },
          {
           "color_by": "Chaos 100/100",
           "sample_id": 0,
           "timepoint": 20,
           "trajectory": "Chaos_100/100",
           "value": -1.186434914612355
          },
          {
           "color_by": "Chaos 100/100",
           "sample_id": 0,
           "timepoint": 21,
           "trajectory": "Chaos_100/100",
           "value": -1.1604822985654106
          },
          {
           "color_by": "Chaos 100/100",
           "sample_id": 0,
           "timepoint": 22,
           "trajectory": "Chaos_100/100",
           "value": -1.1354406708254894
          },
          {
           "color_by": "Chaos 100/100",
           "sample_id": 0,
           "timepoint": 23,
           "trajectory": "Chaos_100/100",
           "value": -1.111238738398641
          },
          {
           "color_by": "Chaos 100/100",
           "sample_id": 0,
           "timepoint": 24,
           "trajectory": "Chaos_100/100",
           "value": -1.0878136020928402
          },
          {
           "color_by": "Chaos 100/100",
           "sample_id": 0,
           "timepoint": 25,
           "trajectory": "Chaos_100/100",
           "value": -1.0651094639936933
          },
          {
           "color_by": "Chaos 100/100",
           "sample_id": 0,
           "timepoint": 26,
           "trajectory": "Chaos_100/100",
           "value": -1.0430765771402575
          },
          {
           "color_by": "Chaos 100/100",
           "sample_id": 0,
           "timepoint": 27,
           "trajectory": "Chaos_100/100",
           "value": -1.0216703845387056
          },
          {
           "color_by": "Chaos 100/100",
           "sample_id": 0,
           "timepoint": 28,
           "trajectory": "Chaos_100/100",
           "value": -1.0008508077022773
          },
          {
           "color_by": "Chaos 100/100",
           "sample_id": 0,
           "timepoint": 29,
           "trajectory": "Chaos_100/100",
           "value": -0.9805816543873993
          },
          {
           "color_by": "Chaos 100/100",
           "sample_id": 0,
           "timepoint": 30,
           "trajectory": "Chaos_100/100",
           "value": -0.9608301221727671
          },
          {
           "color_by": "Chaos 100/100",
           "sample_id": 0,
           "timepoint": 31,
           "trajectory": "Chaos_100/100",
           "value": -0.941566379722916
          },
          {
           "color_by": "Chaos 100/100",
           "sample_id": 0,
           "timepoint": 32,
           "trajectory": "Chaos_100/100",
           "value": -0.922763211488041
          },
          {
           "color_by": "Chaos 100/100",
           "sample_id": 0,
           "timepoint": 33,
           "trajectory": "Chaos_100/100",
           "value": -0.904395714565053
          },
          {
           "color_by": "Chaos 100/100",
           "sample_id": 0,
           "timepoint": 34,
           "trajectory": "Chaos_100/100",
           "value": -0.8864410387270651
          },
          {
           "color_by": "Chaos 100/100",
           "sample_id": 0,
           "timepoint": 35,
           "trajectory": "Chaos_100/100",
           "value": -0.8688781623956956
          },
          {
           "color_by": "Chaos 100/100",
           "sample_id": 0,
           "timepoint": 36,
           "trajectory": "Chaos_100/100",
           "value": -0.8516876987103053
          },
          {
           "color_by": "Chaos 100/100",
           "sample_id": 0,
           "timepoint": 37,
           "trajectory": "Chaos_100/100",
           "value": -0.8348517269338225
          },
          {
           "color_by": "Chaos 100/100",
           "sample_id": 0,
           "timepoint": 38,
           "trajectory": "Chaos_100/100",
           "value": -0.8183536452950948
          },
          {
           "color_by": "Chaos 100/100",
           "sample_id": 0,
           "timepoint": 39,
           "trajectory": "Chaos_100/100",
           "value": -0.8021780420540998
          },
          {
           "color_by": "Chaos 100/100",
           "sample_id": 0,
           "timepoint": 40,
           "trajectory": "Chaos_100/100",
           "value": -0.7863105821276122
          },
          {
           "color_by": "Chaos 100/100",
           "sample_id": 0,
           "timepoint": 41,
           "trajectory": "Chaos_100/100",
           "value": -0.7707379070582401
          },
          {
           "color_by": "Chaos 100/100",
           "sample_id": 0,
           "timepoint": 42,
           "trajectory": "Chaos_100/100",
           "value": -0.7554475464716526
          },
          {
           "color_by": "Chaos 100/100",
           "sample_id": 0,
           "timepoint": 43,
           "trajectory": "Chaos_100/100",
           "value": -0.7404278394624684
          },
          {
           "color_by": "Chaos 100/100",
           "sample_id": 0,
           "timepoint": 44,
           "trajectory": "Chaos_100/100",
           "value": -0.7256678645920887
          },
          {
           "color_by": "Chaos 100/100",
           "sample_id": 0,
           "timepoint": 45,
           "trajectory": "Chaos_100/100",
           "value": -0.7111573773821318
          },
          {
           "color_by": "Chaos 100/100",
           "sample_id": 0,
           "timepoint": 46,
           "trajectory": "Chaos_100/100",
           "value": -0.6968867543532653
          },
          {
           "color_by": "Chaos 100/100",
           "sample_id": 0,
           "timepoint": 47,
           "trajectory": "Chaos_100/100",
           "value": -0.6828469427975977
          },
          {
           "color_by": "Chaos 100/100",
           "sample_id": 0,
           "timepoint": 48,
           "trajectory": "Chaos_100/100",
           "value": -0.6690294155884984
          },
          {
           "color_by": "Chaos 100/100",
           "sample_id": 0,
           "timepoint": 49,
           "trajectory": "Chaos_100/100",
           "value": -0.6554261304288924
          },
          {
           "color_by": "Chaos 100/100",
           "sample_id": 0,
           "timepoint": 50,
           "trajectory": "Chaos_100/100",
           "value": -0.6420294930209889
          },
          {
           "color_by": "Chaos 100/100",
           "sample_id": 0,
           "timepoint": 51,
           "trajectory": "Chaos_100/100",
           "value": -0.6288323237096947
          },
          {
           "color_by": "Chaos 100/100",
           "sample_id": 0,
           "timepoint": 52,
           "trajectory": "Chaos_100/100",
           "value": -0.6158278272108331
          },
          {
           "color_by": "Chaos 100/100",
           "sample_id": 0,
           "timepoint": 53,
           "trajectory": "Chaos_100/100",
           "value": -0.6030095650853977
          },
          {
           "color_by": "Chaos 100/100",
           "sample_id": 0,
           "timepoint": 54,
           "trajectory": "Chaos_100/100",
           "value": -0.5903714306639487
          },
          {
           "color_by": "Chaos 100/100",
           "sample_id": 0,
           "timepoint": 55,
           "trajectory": "Chaos_100/100",
           "value": -0.5779076261619829
          },
          {
           "color_by": "Chaos 100/100",
           "sample_id": 0,
           "timepoint": 56,
           "trajectory": "Chaos_100/100",
           "value": -0.5656126417587224
          },
          {
           "color_by": "Chaos 100/100",
           "sample_id": 0,
           "timepoint": 57,
           "trajectory": "Chaos_100/100",
           "value": -0.5534812364390107
          },
          {
           "color_by": "Chaos 100/100",
           "sample_id": 0,
           "timepoint": 58,
           "trajectory": "Chaos_100/100",
           "value": -0.5415084204215885
          },
          {
           "color_by": "Chaos 100/100",
           "sample_id": 0,
           "timepoint": 59,
           "trajectory": "Chaos_100/100",
           "value": -0.5296894390174471
          },
          {
           "color_by": "Chaos 100/100",
           "sample_id": 0,
           "timepoint": 60,
           "trajectory": "Chaos_100/100",
           "value": -0.5180197577797427
          },
          {
           "color_by": "Chaos 100/100",
           "sample_id": 0,
           "timepoint": 61,
           "trajectory": "Chaos_100/100",
           "value": -0.5064950488222419
          },
          {
           "color_by": "Chaos 100/100",
           "sample_id": 0,
           "timepoint": 62,
           "trajectory": "Chaos_100/100",
           "value": -0.4951111781968001
          },
          {
           "color_by": "Chaos 100/100",
           "sample_id": 0,
           "timepoint": 63,
           "trajectory": "Chaos_100/100",
           "value": -0.4838641942322255
          },
          {
           "color_by": "Chaos 100/100",
           "sample_id": 0,
           "timepoint": 64,
           "trajectory": "Chaos_100/100",
           "value": -0.47275031674729284
          },
          {
           "color_by": "Chaos 100/100",
           "sample_id": 0,
           "timepoint": 65,
           "trajectory": "Chaos_100/100",
           "value": -0.4617659270598055
          },
          {
           "color_by": "Chaos 100/100",
           "sample_id": 0,
           "timepoint": 66,
           "trajectory": "Chaos_100/100",
           "value": -0.45090755872168486
          },
          {
           "color_by": "Chaos 100/100",
           "sample_id": 0,
           "timepoint": 67,
           "trajectory": "Chaos_100/100",
           "value": -0.44017188891717796
          },
          {
           "color_by": "Chaos 100/100",
           "sample_id": 0,
           "timepoint": 68,
           "trajectory": "Chaos_100/100",
           "value": -0.42955573046758255
          },
          {
           "color_by": "Chaos 100/100",
           "sample_id": 0,
           "timepoint": 69,
           "trajectory": "Chaos_100/100",
           "value": -0.41905602439147716
          },
          {
           "color_by": "Chaos 100/100",
           "sample_id": 0,
           "timepoint": 70,
           "trajectory": "Chaos_100/100",
           "value": -0.4086698329744052
          },
          {
           "color_by": "Chaos 100/100",
           "sample_id": 0,
           "timepoint": 71,
           "trajectory": "Chaos_100/100",
           "value": -0.3983943333063835
          },
          {
           "color_by": "Chaos 100/100",
           "sample_id": 0,
           "timepoint": 72,
           "trajectory": "Chaos_100/100",
           "value": -0.38822681124954256
          },
          {
           "color_by": "Chaos 100/100",
           "sample_id": 0,
           "timepoint": 73,
           "trajectory": "Chaos_100/100",
           "value": -0.3781646558017182
          },
          {
           "color_by": "Chaos 100/100",
           "sample_id": 0,
           "timepoint": 74,
           "trajectory": "Chaos_100/100",
           "value": -0.368205353824965
          },
          {
           "color_by": "Chaos 100/100",
           "sample_id": 0,
           "timepoint": 75,
           "trajectory": "Chaos_100/100",
           "value": -0.3583464851107712
          },
          {
           "color_by": "Chaos 100/100",
           "sample_id": 0,
           "timepoint": 76,
           "trajectory": "Chaos_100/100",
           "value": -0.3485857177562939
          },
          {
           "color_by": "Chaos 100/100",
           "sample_id": 0,
           "timepoint": 77,
           "trajectory": "Chaos_100/100",
           "value": -0.33892080382818435
          },
          {
           "color_by": "Chaos 100/100",
           "sample_id": 0,
           "timepoint": 78,
           "trajectory": "Chaos_100/100",
           "value": -0.3293495752926417
          },
          {
           "color_by": "Chaos 100/100",
           "sample_id": 0,
           "timepoint": 79,
           "trajectory": "Chaos_100/100",
           "value": -0.3198699401921514
          },
          {
           "color_by": "Chaos 100/100",
           "sample_id": 0,
           "timepoint": 80,
           "trajectory": "Chaos_100/100",
           "value": -0.31047987905104213
          },
          {
           "color_by": "Chaos 100/100",
           "sample_id": 0,
           "timepoint": 81,
           "trajectory": "Chaos_100/100",
           "value": -0.30117744149348313
          },
          {
           "color_by": "Chaos 100/100",
           "sample_id": 0,
           "timepoint": 82,
           "trajectory": "Chaos_100/100",
           "value": -0.2919607430589193
          },
          {
           "color_by": "Chaos 100/100",
           "sample_id": 0,
           "timepoint": 83,
           "trajectory": "Chaos_100/100",
           "value": -0.28282796220115003
          },
          {
           "color_by": "Chaos 100/100",
           "sample_id": 0,
           "timepoint": 84,
           "trajectory": "Chaos_100/100",
           "value": -0.2737773374583923
          },
          {
           "color_by": "Chaos 100/100",
           "sample_id": 0,
           "timepoint": 85,
           "trajectory": "Chaos_100/100",
           "value": -0.2648071647826722
          },
          {
           "color_by": "Chaos 100/100",
           "sample_id": 0,
           "timepoint": 86,
           "trajectory": "Chaos_100/100",
           "value": -0.2559157950178137
          },
          {
           "color_by": "Chaos 100/100",
           "sample_id": 0,
           "timepoint": 87,
           "trajectory": "Chaos_100/100",
           "value": -0.24710163151613163
          },
          {
           "color_by": "Chaos 100/100",
           "sample_id": 0,
           "timepoint": 88,
           "trajectory": "Chaos_100/100",
           "value": -0.23836312788469716
          },
          {
           "color_by": "Chaos 100/100",
           "sample_id": 0,
           "timepoint": 89,
           "trajectory": "Chaos_100/100",
           "value": -0.22969878585275041
          },
          {
           "color_by": "Chaos 100/100",
           "sample_id": 0,
           "timepoint": 90,
           "trajectory": "Chaos_100/100",
           "value": -0.22110715325245997
          },
          {
           "color_by": "Chaos 100/100",
           "sample_id": 0,
           "timepoint": 91,
           "trajectory": "Chaos_100/100",
           "value": -0.212586822105822
          },
          {
           "color_by": "Chaos 100/100",
           "sample_id": 0,
           "timepoint": 92,
           "trajectory": "Chaos_100/100",
           "value": -0.20413642681101063
          },
          {
           "color_by": "Chaos 100/100",
           "sample_id": 0,
           "timepoint": 93,
           "trajectory": "Chaos_100/100",
           "value": -0.1957546424220018
          },
          {
           "color_by": "Chaos 100/100",
           "sample_id": 0,
           "timepoint": 94,
           "trajectory": "Chaos_100/100",
           "value": -0.1874401830157133
          },
          {
           "color_by": "Chaos 100/100",
           "sample_id": 0,
           "timepoint": 95,
           "trajectory": "Chaos_100/100",
           "value": -0.17919180014133793
          },
          {
           "color_by": "Chaos 100/100",
           "sample_id": 0,
           "timepoint": 96,
           "trajectory": "Chaos_100/100",
           "value": -0.17100828134690851
          },
          {
           "color_by": "Chaos 100/100",
           "sample_id": 0,
           "timepoint": 97,
           "trajectory": "Chaos_100/100",
           "value": -0.16288844877848696
          },
          {
           "color_by": "Chaos 100/100",
           "sample_id": 0,
           "timepoint": 98,
           "trajectory": "Chaos_100/100",
           "value": -0.15483115784769463
          },
          {
           "color_by": "Chaos 100/100",
           "sample_id": 0,
           "timepoint": 99,
           "trajectory": "Chaos_100/100",
           "value": -0.1468352959635788
          },
          {
           "color_by": "Mean",
           "sample_id": 0,
           "timepoint": 0,
           "trajectory": "Mean",
           "value": -0.03511627088179044
          },
          {
           "color_by": "Mean",
           "sample_id": 0,
           "timepoint": 1,
           "trajectory": "Mean",
           "value": 0.9648837291182095
          },
          {
           "color_by": "Mean",
           "sample_id": 0,
           "timepoint": 2,
           "trajectory": "Mean",
           "value": 1.1540908441209305
          },
          {
           "color_by": "Mean",
           "sample_id": 0,
           "timepoint": 3,
           "trajectory": "Mean",
           "value": 1.280957742070702
          },
          {
           "color_by": "Mean",
           "sample_id": 0,
           "timepoint": 4,
           "trajectory": "Mean",
           "value": 1.3790972914913047
          },
          {
           "color_by": "Mean",
           "sample_id": 0,
           "timepoint": 5,
           "trajectory": "Mean",
           "value": 1.46023251033943
          },
          {
           "color_by": "Mean",
           "sample_id": 0,
           "timepoint": 6,
           "trajectory": "Mean",
           "value": 1.5299683091914968
          },
          {
           "color_by": "Mean",
           "sample_id": 0,
           "timepoint": 7,
           "trajectory": "Mean",
           "value": 1.5914602908159952
          },
          {
           "color_by": "Mean",
           "sample_id": 0,
           "timepoint": 8,
           "trajectory": "Mean",
           "value": 1.6466765596256385
          },
          {
           "color_by": "Mean",
           "sample_id": 0,
           "timepoint": 9,
           "trajectory": "Mean",
           "value": 1.6969345366870867
          },
          {
           "color_by": "Mean",
           "sample_id": 0,
           "timepoint": 10,
           "trajectory": "Mean",
           "value": 1.7431631391571323
          },
          {
           "color_by": "Mean",
           "sample_id": 0,
           "timepoint": 11,
           "trajectory": "Mean",
           "value": 1.7860440159560813
          },
          {
           "color_by": "Mean",
           "sample_id": 0,
           "timepoint": 12,
           "trajectory": "Mean",
           "value": 1.8260934473224086
          },
          {
           "color_by": "Mean",
           "sample_id": 0,
           "timepoint": 13,
           "trajectory": "Mean",
           "value": 1.8637126512341513
          },
          {
           "color_by": "Mean",
           "sample_id": 0,
           "timepoint": 14,
           "trajectory": "Mean",
           "value": 1.899220149385879
          },
          {
           "color_by": "Mean",
           "sample_id": 0,
           "timepoint": 15,
           "trajectory": "Mean",
           "value": 1.9328734003836399
          },
          {
           "color_by": "Mean",
           "sample_id": 0,
           "timepoint": 16,
           "trajectory": "Mean",
           "value": 1.9648837291182095
          },
          {
           "color_by": "Mean",
           "sample_id": 0,
           "timepoint": 17,
           "trajectory": "Mean",
           "value": 1.9954269139871401
          },
          {
           "color_by": "Mean",
           "sample_id": 0,
           "timepoint": 18,
           "trajectory": "Mean",
           "value": 2.0246508730253274
          },
          {
           "color_by": "Mean",
           "sample_id": 0,
           "timepoint": 19,
           "trajectory": "Mean",
           "value": 2.0526813590480537
          },
          {
           "color_by": "Mean",
           "sample_id": 0,
           "timepoint": 20,
           "trajectory": "Mean",
           "value": 2.079626255999338
          },
          {
           "color_by": "Mean",
           "sample_id": 0,
           "timepoint": 21,
           "trajectory": "Mean",
           "value": 2.1055788720462822
          },
          {
           "color_by": "Mean",
           "sample_id": 0,
           "timepoint": 22,
           "trajectory": "Mean",
           "value": 2.1306204997862035
          },
          {
           "color_by": "Mean",
           "sample_id": 0,
           "timepoint": 23,
           "trajectory": "Mean",
           "value": 2.154822432213052
          },
          {
           "color_by": "Mean",
           "sample_id": 0,
           "timepoint": 24,
           "trajectory": "Mean",
           "value": 2.1782475685188527
          },
          {
           "color_by": "Mean",
           "sample_id": 0,
           "timepoint": 25,
           "trajectory": "Mean",
           "value": 2.2009517066179995
          },
          {
           "color_by": "Mean",
           "sample_id": 0,
           "timepoint": 26,
           "trajectory": "Mean",
           "value": 2.2229845934714354
          },
          {
           "color_by": "Mean",
           "sample_id": 0,
           "timepoint": 27,
           "trajectory": "Mean",
           "value": 2.2443907860729873
          },
          {
           "color_by": "Mean",
           "sample_id": 0,
           "timepoint": 28,
           "trajectory": "Mean",
           "value": 2.2652103629094156
          },
          {
           "color_by": "Mean",
           "sample_id": 0,
           "timepoint": 29,
           "trajectory": "Mean",
           "value": 2.2854795162242936
          },
          {
           "color_by": "Mean",
           "sample_id": 0,
           "timepoint": 30,
           "trajectory": "Mean",
           "value": 2.305231048438926
          },
          {
           "color_by": "Mean",
           "sample_id": 0,
           "timepoint": 31,
           "trajectory": "Mean",
           "value": 2.3244947908887768
          },
          {
           "color_by": "Mean",
           "sample_id": 0,
           "timepoint": 32,
           "trajectory": "Mean",
           "value": 2.343297959123652
          },
          {
           "color_by": "Mean",
           "sample_id": 0,
           "timepoint": 33,
           "trajectory": "Mean",
           "value": 2.36166545604664
          },
          {
           "color_by": "Mean",
           "sample_id": 0,
           "timepoint": 34,
           "trajectory": "Mean",
           "value": 2.3796201318846277
          },
          {
           "color_by": "Mean",
           "sample_id": 0,
           "timepoint": 35,
           "trajectory": "Mean",
           "value": 2.3971830082159973
          },
          {
           "color_by": "Mean",
           "sample_id": 0,
           "timepoint": 36,
           "trajectory": "Mean",
           "value": 2.4143734719013876
          },
          {
           "color_by": "Mean",
           "sample_id": 0,
           "timepoint": 37,
           "trajectory": "Mean",
           "value": 2.4312094436778704
          },
          {
           "color_by": "Mean",
           "sample_id": 0,
           "timepoint": 38,
           "trajectory": "Mean",
           "value": 2.447707525316598
          },
          {
           "color_by": "Mean",
           "sample_id": 0,
           "timepoint": 39,
           "trajectory": "Mean",
           "value": 2.463883128557593
          },
          {
           "color_by": "Mean",
           "sample_id": 0,
           "timepoint": 40,
           "trajectory": "Mean",
           "value": 2.4797505884840807
          },
          {
           "color_by": "Mean",
           "sample_id": 0,
           "timepoint": 41,
           "trajectory": "Mean",
           "value": 2.495323263553453
          },
          {
           "color_by": "Mean",
           "sample_id": 0,
           "timepoint": 42,
           "trajectory": "Mean",
           "value": 2.5106136241400403
          },
          {
           "color_by": "Mean",
           "sample_id": 0,
           "timepoint": 43,
           "trajectory": "Mean",
           "value": 2.5256333311492245
          },
          {
           "color_by": "Mean",
           "sample_id": 0,
           "timepoint": 44,
           "trajectory": "Mean",
           "value": 2.5403933060196042
          },
          {
           "color_by": "Mean",
           "sample_id": 0,
           "timepoint": 45,
           "trajectory": "Mean",
           "value": 2.554903793229561
          },
          {
           "color_by": "Mean",
           "sample_id": 0,
           "timepoint": 46,
           "trajectory": "Mean",
           "value": 2.5691744162584276
          },
          {
           "color_by": "Mean",
           "sample_id": 0,
           "timepoint": 47,
           "trajectory": "Mean",
           "value": 2.583214227814095
          },
          {
           "color_by": "Mean",
           "sample_id": 0,
           "timepoint": 48,
           "trajectory": "Mean",
           "value": 2.5970317550231945
          },
          {
           "color_by": "Mean",
           "sample_id": 0,
           "timepoint": 49,
           "trajectory": "Mean",
           "value": 2.6106350401828005
          },
          {
           "color_by": "Mean",
           "sample_id": 0,
           "timepoint": 50,
           "trajectory": "Mean",
           "value": 2.624031677590704
          },
          {
           "color_by": "Mean",
           "sample_id": 0,
           "timepoint": 51,
           "trajectory": "Mean",
           "value": 2.637228846901998
          },
          {
           "color_by": "Mean",
           "sample_id": 0,
           "timepoint": 52,
           "trajectory": "Mean",
           "value": 2.65023334340086
          },
          {
           "color_by": "Mean",
           "sample_id": 0,
           "timepoint": 53,
           "trajectory": "Mean",
           "value": 2.663051605526295
          },
          {
           "color_by": "Mean",
           "sample_id": 0,
           "timepoint": 54,
           "trajectory": "Mean",
           "value": 2.675689739947744
          },
          {
           "color_by": "Mean",
           "sample_id": 0,
           "timepoint": 55,
           "trajectory": "Mean",
           "value": 2.68815354444971
          },
          {
           "color_by": "Mean",
           "sample_id": 0,
           "timepoint": 56,
           "trajectory": "Mean",
           "value": 2.7004485288529705
          },
          {
           "color_by": "Mean",
           "sample_id": 0,
           "timepoint": 57,
           "trajectory": "Mean",
           "value": 2.712579934172682
          },
          {
           "color_by": "Mean",
           "sample_id": 0,
           "timepoint": 58,
           "trajectory": "Mean",
           "value": 2.7245527501901043
          },
          {
           "color_by": "Mean",
           "sample_id": 0,
           "timepoint": 59,
           "trajectory": "Mean",
           "value": 2.7363717315942457
          },
          {
           "color_by": "Mean",
           "sample_id": 0,
           "timepoint": 60,
           "trajectory": "Mean",
           "value": 2.74804141283195
          },
          {
           "color_by": "Mean",
           "sample_id": 0,
           "timepoint": 61,
           "trajectory": "Mean",
           "value": 2.759566121789451
          },
          {
           "color_by": "Mean",
           "sample_id": 0,
           "timepoint": 62,
           "trajectory": "Mean",
           "value": 2.770949992414893
          },
          {
           "color_by": "Mean",
           "sample_id": 0,
           "timepoint": 63,
           "trajectory": "Mean",
           "value": 2.7821969763794674
          },
          {
           "color_by": "Mean",
           "sample_id": 0,
           "timepoint": 64,
           "trajectory": "Mean",
           "value": 2.7933108538644
          },
          {
           "color_by": "Mean",
           "sample_id": 0,
           "timepoint": 65,
           "trajectory": "Mean",
           "value": 2.8042952435518873
          },
          {
           "color_by": "Mean",
           "sample_id": 0,
           "timepoint": 66,
           "trajectory": "Mean",
           "value": 2.815153611890008
          },
          {
           "color_by": "Mean",
           "sample_id": 0,
           "timepoint": 67,
           "trajectory": "Mean",
           "value": 2.825889281694515
          },
          {
           "color_by": "Mean",
           "sample_id": 0,
           "timepoint": 68,
           "trajectory": "Mean",
           "value": 2.8365054401441103
          },
          {
           "color_by": "Mean",
           "sample_id": 0,
           "timepoint": 69,
           "trajectory": "Mean",
           "value": 2.8470051462202157
          },
          {
           "color_by": "Mean",
           "sample_id": 0,
           "timepoint": 70,
           "trajectory": "Mean",
           "value": 2.8573913376372877
          },
          {
           "color_by": "Mean",
           "sample_id": 0,
           "timepoint": 71,
           "trajectory": "Mean",
           "value": 2.8676668373053094
          },
          {
           "color_by": "Mean",
           "sample_id": 0,
           "timepoint": 72,
           "trajectory": "Mean",
           "value": 2.8778343593621503
          },
          {
           "color_by": "Mean",
           "sample_id": 0,
           "timepoint": 73,
           "trajectory": "Mean",
           "value": 2.8878965148099747
          },
          {
           "color_by": "Mean",
           "sample_id": 0,
           "timepoint": 74,
           "trajectory": "Mean",
           "value": 2.897855816786728
          },
          {
           "color_by": "Mean",
           "sample_id": 0,
           "timepoint": 75,
           "trajectory": "Mean",
           "value": 2.9077146855009217
          },
          {
           "color_by": "Mean",
           "sample_id": 0,
           "timepoint": 76,
           "trajectory": "Mean",
           "value": 2.917475452855399
          },
          {
           "color_by": "Mean",
           "sample_id": 0,
           "timepoint": 77,
           "trajectory": "Mean",
           "value": 2.9271403667835085
          },
          {
           "color_by": "Mean",
           "sample_id": 0,
           "timepoint": 78,
           "trajectory": "Mean",
           "value": 2.9367115953190512
          },
          {
           "color_by": "Mean",
           "sample_id": 0,
           "timepoint": 79,
           "trajectory": "Mean",
           "value": 2.9461912304195415
          },
          {
           "color_by": "Mean",
           "sample_id": 0,
           "timepoint": 80,
           "trajectory": "Mean",
           "value": 2.9555812915606507
          },
          {
           "color_by": "Mean",
           "sample_id": 0,
           "timepoint": 81,
           "trajectory": "Mean",
           "value": 2.9648837291182097
          },
          {
           "color_by": "Mean",
           "sample_id": 0,
           "timepoint": 82,
           "trajectory": "Mean",
           "value": 2.9741004275527736
          },
          {
           "color_by": "Mean",
           "sample_id": 0,
           "timepoint": 83,
           "trajectory": "Mean",
           "value": 2.983233208410543
          },
          {
           "color_by": "Mean",
           "sample_id": 0,
           "timepoint": 84,
           "trajectory": "Mean",
           "value": 2.9922838331533006
          },
          {
           "color_by": "Mean",
           "sample_id": 0,
           "timepoint": 85,
           "trajectory": "Mean",
           "value": 3.0012540058290207
          },
          {
           "color_by": "Mean",
           "sample_id": 0,
           "timepoint": 86,
           "trajectory": "Mean",
           "value": 3.010145375593879
          },
          {
           "color_by": "Mean",
           "sample_id": 0,
           "timepoint": 87,
           "trajectory": "Mean",
           "value": 3.0189595390955613
          },
          {
           "color_by": "Mean",
           "sample_id": 0,
           "timepoint": 88,
           "trajectory": "Mean",
           "value": 3.0276980427269957
          },
          {
           "color_by": "Mean",
           "sample_id": 0,
           "timepoint": 89,
           "trajectory": "Mean",
           "value": 3.0363623847589425
          },
          {
           "color_by": "Mean",
           "sample_id": 0,
           "timepoint": 90,
           "trajectory": "Mean",
           "value": 3.044954017359233
          },
          {
           "color_by": "Mean",
           "sample_id": 0,
           "timepoint": 91,
           "trajectory": "Mean",
           "value": 3.053474348505871
          },
          {
           "color_by": "Mean",
           "sample_id": 0,
           "timepoint": 92,
           "trajectory": "Mean",
           "value": 3.0619247438006822
          },
          {
           "color_by": "Mean",
           "sample_id": 0,
           "timepoint": 93,
           "trajectory": "Mean",
           "value": 3.070306528189691
          },
          {
           "color_by": "Mean",
           "sample_id": 0,
           "timepoint": 94,
           "trajectory": "Mean",
           "value": 3.0786209875959796
          },
          {
           "color_by": "Mean",
           "sample_id": 0,
           "timepoint": 95,
           "trajectory": "Mean",
           "value": 3.086869370470355
          },
          {
           "color_by": "Mean",
           "sample_id": 0,
           "timepoint": 96,
           "trajectory": "Mean",
           "value": 3.0950528892647844
          },
          {
           "color_by": "Mean",
           "sample_id": 0,
           "timepoint": 97,
           "trajectory": "Mean",
           "value": 3.103172721833206
          },
          {
           "color_by": "Mean",
           "sample_id": 0,
           "timepoint": 98,
           "trajectory": "Mean",
           "value": 3.1112300127639982
          },
          {
           "color_by": "Mean",
           "sample_id": 0,
           "timepoint": 99,
           "trajectory": "Mean",
           "value": 3.119225874648114
          },
          {
           "color_by": "Variance 100/100",
           "sample_id": 0,
           "timepoint": 0,
           "trajectory": "Variance_100/100",
           "value": -2.1049671201382893
          },
          {
           "color_by": "Variance 100/100",
           "sample_id": 0,
           "timepoint": 1,
           "trajectory": "Variance_100/100",
           "value": -1.1049671201382893
          },
          {
           "color_by": "Variance 100/100",
           "sample_id": 0,
           "timepoint": 2,
           "trajectory": "Variance_100/100",
           "value": -0.9157600051355683
          },
          {
           "color_by": "Variance 100/100",
           "sample_id": 0,
           "timepoint": 3,
           "trajectory": "Variance_100/100",
           "value": -0.788893107185797
          },
          {
           "color_by": "Variance 100/100",
           "sample_id": 0,
           "timepoint": 4,
           "trajectory": "Variance_100/100",
           "value": -0.6907535577651942
          },
          {
           "color_by": "Variance 100/100",
           "sample_id": 0,
           "timepoint": 5,
           "trajectory": "Variance_100/100",
           "value": -0.6096183389170688
          },
          {
           "color_by": "Variance 100/100",
           "sample_id": 0,
           "timepoint": 6,
           "trajectory": "Variance_100/100",
           "value": -0.539882540065002
          },
          {
           "color_by": "Variance 100/100",
           "sample_id": 0,
           "timepoint": 7,
           "trajectory": "Variance_100/100",
           "value": -0.4783905584405037
          },
          {
           "color_by": "Variance 100/100",
           "sample_id": 0,
           "timepoint": 8,
           "trajectory": "Variance_100/100",
           "value": -0.42317428963086035
          },
          {
           "color_by": "Variance 100/100",
           "sample_id": 0,
           "timepoint": 9,
           "trajectory": "Variance_100/100",
           "value": -0.37291631256941216
          },
          {
           "color_by": "Variance 100/100",
           "sample_id": 0,
           "timepoint": 10,
           "trajectory": "Variance_100/100",
           "value": -0.3266877100993666
          },
          {
           "color_by": "Variance 100/100",
           "sample_id": 0,
           "timepoint": 11,
           "trajectory": "Variance_100/100",
           "value": -0.28380683330041756
          },
          {
           "color_by": "Variance 100/100",
           "sample_id": 0,
           "timepoint": 12,
           "trajectory": "Variance_100/100",
           "value": -0.24375740193409023
          },
          {
           "color_by": "Variance 100/100",
           "sample_id": 0,
           "timepoint": 13,
           "trajectory": "Variance_100/100",
           "value": -0.20613819802234756
          },
          {
           "color_by": "Variance 100/100",
           "sample_id": 0,
           "timepoint": 14,
           "trajectory": "Variance_100/100",
           "value": -0.17063069987061996
          },
          {
           "color_by": "Variance 100/100",
           "sample_id": 0,
           "timepoint": 15,
           "trajectory": "Variance_100/100",
           "value": -0.136977448872859
          },
          {
           "color_by": "Variance 100/100",
           "sample_id": 0,
           "timepoint": 16,
           "trajectory": "Variance_100/100",
           "value": -0.10496712013828935
          },
          {
           "color_by": "Variance 100/100",
           "sample_id": 0,
           "timepoint": 17,
           "trajectory": "Variance_100/100",
           "value": -0.07442393526935875
          },
          {
           "color_by": "Variance 100/100",
           "sample_id": 0,
           "timepoint": 18,
           "trajectory": "Variance_100/100",
           "value": -0.04519997623117167
          },
          {
           "color_by": "Variance 100/100",
           "sample_id": 0,
           "timepoint": 19,
           "trajectory": "Variance_100/100",
           "value": -0.01716949020844538
          },
          {
           "color_by": "Variance 100/100",
           "sample_id": 0,
           "timepoint": 20,
           "trajectory": "Variance_100/100",
           "value": 0.009775406742838832
          },
          {
           "color_by": "Variance 100/100",
           "sample_id": 0,
           "timepoint": 21,
           "trajectory": "Variance_100/100",
           "value": 0.035728022789783154
          },
          {
           "color_by": "Variance 100/100",
           "sample_id": 0,
           "timepoint": 22,
           "trajectory": "Variance_100/100",
           "value": 0.0607696505297044
          },
          {
           "color_by": "Variance 100/100",
           "sample_id": 0,
           "timepoint": 23,
           "trajectory": "Variance_100/100",
           "value": 0.08497158295655272
          },
          {
           "color_by": "Variance 100/100",
           "sample_id": 0,
           "timepoint": 24,
           "trajectory": "Variance_100/100",
           "value": 0.10839671926235361
          },
          {
           "color_by": "Variance 100/100",
           "sample_id": 0,
           "timepoint": 25,
           "trajectory": "Variance_100/100",
           "value": 0.13110085736150046
          },
          {
           "color_by": "Variance 100/100",
           "sample_id": 0,
           "timepoint": 26,
           "trajectory": "Variance_100/100",
           "value": 0.1531337442149363
          },
          {
           "color_by": "Variance 100/100",
           "sample_id": 0,
           "timepoint": 27,
           "trajectory": "Variance_100/100",
           "value": 0.17453993681648816
          },
          {
           "color_by": "Variance 100/100",
           "sample_id": 0,
           "timepoint": 28,
           "trajectory": "Variance_100/100",
           "value": 0.19535951365291648
          },
          {
           "color_by": "Variance 100/100",
           "sample_id": 0,
           "timepoint": 29,
           "trajectory": "Variance_100/100",
           "value": 0.21562866696779448
          },
          {
           "color_by": "Variance 100/100",
           "sample_id": 0,
           "timepoint": 30,
           "trajectory": "Variance_100/100",
           "value": 0.2353801991824267
          },
          {
           "color_by": "Variance 100/100",
           "sample_id": 0,
           "timepoint": 31,
           "trajectory": "Variance_100/100",
           "value": 0.25464394163227766
          },
          {
           "color_by": "Variance 100/100",
           "sample_id": 0,
           "timepoint": 32,
           "trajectory": "Variance_100/100",
           "value": 0.2734471098671527
          },
          {
           "color_by": "Variance 100/100",
           "sample_id": 0,
           "timepoint": 33,
           "trajectory": "Variance_100/100",
           "value": 0.2918146067901408
          },
          {
           "color_by": "Variance 100/100",
           "sample_id": 0,
           "timepoint": 34,
           "trajectory": "Variance_100/100",
           "value": 0.30976928262812864
          },
          {
           "color_by": "Variance 100/100",
           "sample_id": 0,
           "timepoint": 35,
           "trajectory": "Variance_100/100",
           "value": 0.3273321589594982
          },
          {
           "color_by": "Variance 100/100",
           "sample_id": 0,
           "timepoint": 36,
           "trajectory": "Variance_100/100",
           "value": 0.34452262264488853
          },
          {
           "color_by": "Variance 100/100",
           "sample_id": 0,
           "timepoint": 37,
           "trajectory": "Variance_100/100",
           "value": 0.3613585944213713
          },
          {
           "color_by": "Variance 100/100",
           "sample_id": 0,
           "timepoint": 38,
           "trajectory": "Variance_100/100",
           "value": 0.377856676060099
          },
          {
           "color_by": "Variance 100/100",
           "sample_id": 0,
           "timepoint": 39,
           "trajectory": "Variance_100/100",
           "value": 0.39403227930109397
          },
          {
           "color_by": "Variance 100/100",
           "sample_id": 0,
           "timepoint": 40,
           "trajectory": "Variance_100/100",
           "value": 0.4098997392275816
          },
          {
           "color_by": "Variance 100/100",
           "sample_id": 0,
           "timepoint": 41,
           "trajectory": "Variance_100/100",
           "value": 0.4254724142969537
          },
          {
           "color_by": "Variance 100/100",
           "sample_id": 0,
           "timepoint": 42,
           "trajectory": "Variance_100/100",
           "value": 0.4407627748835412
          },
          {
           "color_by": "Variance 100/100",
           "sample_id": 0,
           "timepoint": 43,
           "trajectory": "Variance_100/100",
           "value": 0.4557824818927254
          },
          {
           "color_by": "Variance 100/100",
           "sample_id": 0,
           "timepoint": 44,
           "trajectory": "Variance_100/100",
           "value": 0.47054245676310513
          },
          {
           "color_by": "Variance 100/100",
           "sample_id": 0,
           "timepoint": 45,
           "trajectory": "Variance_100/100",
           "value": 0.485052943973062
          },
          {
           "color_by": "Variance 100/100",
           "sample_id": 0,
           "timepoint": 46,
           "trajectory": "Variance_100/100",
           "value": 0.4993235670019285
          },
          {
           "color_by": "Variance 100/100",
           "sample_id": 0,
           "timepoint": 47,
           "trajectory": "Variance_100/100",
           "value": 0.513363378557596
          },
          {
           "color_by": "Variance 100/100",
           "sample_id": 0,
           "timepoint": 48,
           "trajectory": "Variance_100/100",
           "value": 0.5271809057666954
          },
          {
           "color_by": "Variance 100/100",
           "sample_id": 0,
           "timepoint": 49,
           "trajectory": "Variance_100/100",
           "value": 0.5407841909263014
          },
          {
           "color_by": "Variance 100/100",
           "sample_id": 0,
           "timepoint": 50,
           "trajectory": "Variance_100/100",
           "value": 0.5541808283342049
          },
          {
           "color_by": "Variance 100/100",
           "sample_id": 0,
           "timepoint": 51,
           "trajectory": "Variance_100/100",
           "value": 0.5673779976454991
          },
          {
           "color_by": "Variance 100/100",
           "sample_id": 0,
           "timepoint": 52,
           "trajectory": "Variance_100/100",
           "value": 0.5803824941443607
          },
          {
           "color_by": "Variance 100/100",
           "sample_id": 0,
           "timepoint": 53,
           "trajectory": "Variance_100/100",
           "value": 0.5932007562697961
          },
          {
           "color_by": "Variance 100/100",
           "sample_id": 0,
           "timepoint": 54,
           "trajectory": "Variance_100/100",
           "value": 0.6058388906912451
          },
          {
           "color_by": "Variance 100/100",
           "sample_id": 0,
           "timepoint": 55,
           "trajectory": "Variance_100/100",
           "value": 0.6183026951932109
          },
          {
           "color_by": "Variance 100/100",
           "sample_id": 0,
           "timepoint": 56,
           "trajectory": "Variance_100/100",
           "value": 0.6305976795964714
          },
          {
           "color_by": "Variance 100/100",
           "sample_id": 0,
           "timepoint": 57,
           "trajectory": "Variance_100/100",
           "value": 0.6427290849161831
          },
          {
           "color_by": "Variance 100/100",
           "sample_id": 0,
           "timepoint": 58,
           "trajectory": "Variance_100/100",
           "value": 0.6547019009336053
          },
          {
           "color_by": "Variance 100/100",
           "sample_id": 0,
           "timepoint": 59,
           "trajectory": "Variance_100/100",
           "value": 0.6665208823377466
          },
          {
           "color_by": "Variance 100/100",
           "sample_id": 0,
           "timepoint": 60,
           "trajectory": "Variance_100/100",
           "value": 0.678190563575451
          },
          {
           "color_by": "Variance 100/100",
           "sample_id": 0,
           "timepoint": 61,
           "trajectory": "Variance_100/100",
           "value": 0.6897152725329518
          },
          {
           "color_by": "Variance 100/100",
           "sample_id": 0,
           "timepoint": 62,
           "trajectory": "Variance_100/100",
           "value": 0.7010991431583937
          },
          {
           "color_by": "Variance 100/100",
           "sample_id": 0,
           "timepoint": 63,
           "trajectory": "Variance_100/100",
           "value": 0.7123461271229683
          },
          {
           "color_by": "Variance 100/100",
           "sample_id": 0,
           "timepoint": 64,
           "trajectory": "Variance_100/100",
           "value": 0.7234600046079009
          },
          {
           "color_by": "Variance 100/100",
           "sample_id": 0,
           "timepoint": 65,
           "trajectory": "Variance_100/100",
           "value": 0.7344443942953882
          },
          {
           "color_by": "Variance 100/100",
           "sample_id": 0,
           "timepoint": 66,
           "trajectory": "Variance_100/100",
           "value": 0.7453027626335089
          },
          {
           "color_by": "Variance 100/100",
           "sample_id": 0,
           "timepoint": 67,
           "trajectory": "Variance_100/100",
           "value": 0.7560384324380158
          },
          {
           "color_by": "Variance 100/100",
           "sample_id": 0,
           "timepoint": 68,
           "trajectory": "Variance_100/100",
           "value": 0.7666545908876112
          },
          {
           "color_by": "Variance 100/100",
           "sample_id": 0,
           "timepoint": 69,
           "trajectory": "Variance_100/100",
           "value": 0.7771542969637166
          },
          {
           "color_by": "Variance 100/100",
           "sample_id": 0,
           "timepoint": 70,
           "trajectory": "Variance_100/100",
           "value": 0.7875404883807886
          },
          {
           "color_by": "Variance 100/100",
           "sample_id": 0,
           "timepoint": 71,
           "trajectory": "Variance_100/100",
           "value": 0.7978159880488103
          },
          {
           "color_by": "Variance 100/100",
           "sample_id": 0,
           "timepoint": 72,
           "trajectory": "Variance_100/100",
           "value": 0.8079835101056512
          },
          {
           "color_by": "Variance 100/100",
           "sample_id": 0,
           "timepoint": 73,
           "trajectory": "Variance_100/100",
           "value": 0.8180456655534756
          },
          {
           "color_by": "Variance 100/100",
           "sample_id": 0,
           "timepoint": 74,
           "trajectory": "Variance_100/100",
           "value": 0.8280049675302288
          },
          {
           "color_by": "Variance 100/100",
           "sample_id": 0,
           "timepoint": 75,
           "trajectory": "Variance_100/100",
           "value": 0.8378638362444226
          },
          {
           "color_by": "Variance 100/100",
           "sample_id": 0,
           "timepoint": 76,
           "trajectory": "Variance_100/100",
           "value": 0.8476246035988999
          },
          {
           "color_by": "Variance 100/100",
           "sample_id": 0,
           "timepoint": 77,
           "trajectory": "Variance_100/100",
           "value": 0.8572895175270094
          },
          {
           "color_by": "Variance 100/100",
           "sample_id": 0,
           "timepoint": 78,
           "trajectory": "Variance_100/100",
           "value": 0.8668607460625521
          },
          {
           "color_by": "Variance 100/100",
           "sample_id": 0,
           "timepoint": 79,
           "trajectory": "Variance_100/100",
           "value": 0.8763403811630424
          },
          {
           "color_by": "Variance 100/100",
           "sample_id": 0,
           "timepoint": 80,
           "trajectory": "Variance_100/100",
           "value": 0.8857304423041517
          },
          {
           "color_by": "Variance 100/100",
           "sample_id": 0,
           "timepoint": 81,
           "trajectory": "Variance_100/100",
           "value": 0.8950328798617107
          },
          {
           "color_by": "Variance 100/100",
           "sample_id": 0,
           "timepoint": 82,
           "trajectory": "Variance_100/100",
           "value": 0.9042495782962745
          },
          {
           "color_by": "Variance 100/100",
           "sample_id": 0,
           "timepoint": 83,
           "trajectory": "Variance_100/100",
           "value": 0.9133823591540438
          },
          {
           "color_by": "Variance 100/100",
           "sample_id": 0,
           "timepoint": 84,
           "trajectory": "Variance_100/100",
           "value": 0.9224329838968015
          },
          {
           "color_by": "Variance 100/100",
           "sample_id": 0,
           "timepoint": 85,
           "trajectory": "Variance_100/100",
           "value": 0.9314031565725216
          },
          {
           "color_by": "Variance 100/100",
           "sample_id": 0,
           "timepoint": 86,
           "trajectory": "Variance_100/100",
           "value": 0.9402945263373801
          },
          {
           "color_by": "Variance 100/100",
           "sample_id": 0,
           "timepoint": 87,
           "trajectory": "Variance_100/100",
           "value": 0.9491086898390622
          },
          {
           "color_by": "Variance 100/100",
           "sample_id": 0,
           "timepoint": 88,
           "trajectory": "Variance_100/100",
           "value": 0.9578471934704966
          },
          {
           "color_by": "Variance 100/100",
           "sample_id": 0,
           "timepoint": 89,
           "trajectory": "Variance_100/100",
           "value": 0.9665115355024434
          },
          {
           "color_by": "Variance 100/100",
           "sample_id": 0,
           "timepoint": 90,
           "trajectory": "Variance_100/100",
           "value": 0.9751031681027338
          },
          {
           "color_by": "Variance 100/100",
           "sample_id": 0,
           "timepoint": 91,
           "trajectory": "Variance_100/100",
           "value": 0.9836234992493718
          },
          {
           "color_by": "Variance 100/100",
           "sample_id": 0,
           "timepoint": 92,
           "trajectory": "Variance_100/100",
           "value": 0.9920738945441832
          },
          {
           "color_by": "Variance 100/100",
           "sample_id": 0,
           "timepoint": 93,
           "trajectory": "Variance_100/100",
           "value": 1.000455678933192
          },
          {
           "color_by": "Variance 100/100",
           "sample_id": 0,
           "timepoint": 94,
           "trajectory": "Variance_100/100",
           "value": 1.0087701383394805
          },
          {
           "color_by": "Variance 100/100",
           "sample_id": 0,
           "timepoint": 95,
           "trajectory": "Variance_100/100",
           "value": 1.0170185212138558
          },
          {
           "color_by": "Variance 100/100",
           "sample_id": 0,
           "timepoint": 96,
           "trajectory": "Variance_100/100",
           "value": 1.0252020400082853
          },
          {
           "color_by": "Variance 100/100",
           "sample_id": 0,
           "timepoint": 97,
           "trajectory": "Variance_100/100",
           "value": 1.0333218725767068
          },
          {
           "color_by": "Variance 100/100",
           "sample_id": 0,
           "timepoint": 98,
           "trajectory": "Variance_100/100",
           "value": 1.0413791635074992
          },
          {
           "color_by": "Variance 100/100",
           "sample_id": 0,
           "timepoint": 99,
           "trajectory": "Variance_100/100",
           "value": 1.049375025391615
          },
          {
           "color_by": "Baseline Straight",
           "sample_id": 0,
           "timepoint": 0,
           "trajectory": "Baseline_Straight",
           "value": 0
          },
          {
           "color_by": "Baseline Straight",
           "sample_id": 0,
           "timepoint": 1,
           "trajectory": "Baseline_Straight",
           "value": 1
          },
          {
           "color_by": "Baseline Straight",
           "sample_id": 0,
           "timepoint": 2,
           "trajectory": "Baseline_Straight",
           "value": 1.189207115002721
          },
          {
           "color_by": "Baseline Straight",
           "sample_id": 0,
           "timepoint": 3,
           "trajectory": "Baseline_Straight",
           "value": 1.3160740129524924
          },
          {
           "color_by": "Baseline Straight",
           "sample_id": 0,
           "timepoint": 4,
           "trajectory": "Baseline_Straight",
           "value": 1.4142135623730951
          },
          {
           "color_by": "Baseline Straight",
           "sample_id": 0,
           "timepoint": 5,
           "trajectory": "Baseline_Straight",
           "value": 1.4953487812212205
          },
          {
           "color_by": "Baseline Straight",
           "sample_id": 0,
           "timepoint": 6,
           "trajectory": "Baseline_Straight",
           "value": 1.5650845800732873
          },
          {
           "color_by": "Baseline Straight",
           "sample_id": 0,
           "timepoint": 7,
           "trajectory": "Baseline_Straight",
           "value": 1.6265765616977856
          },
          {
           "color_by": "Baseline Straight",
           "sample_id": 0,
           "timepoint": 8,
           "trajectory": "Baseline_Straight",
           "value": 1.681792830507429
          },
          {
           "color_by": "Baseline Straight",
           "sample_id": 0,
           "timepoint": 9,
           "trajectory": "Baseline_Straight",
           "value": 1.7320508075688772
          },
          {
           "color_by": "Baseline Straight",
           "sample_id": 0,
           "timepoint": 10,
           "trajectory": "Baseline_Straight",
           "value": 1.7782794100389228
          },
          {
           "color_by": "Baseline Straight",
           "sample_id": 0,
           "timepoint": 11,
           "trajectory": "Baseline_Straight",
           "value": 1.8211602868378718
          },
          {
           "color_by": "Baseline Straight",
           "sample_id": 0,
           "timepoint": 12,
           "trajectory": "Baseline_Straight",
           "value": 1.8612097182041991
          },
          {
           "color_by": "Baseline Straight",
           "sample_id": 0,
           "timepoint": 13,
           "trajectory": "Baseline_Straight",
           "value": 1.8988289221159418
          },
          {
           "color_by": "Baseline Straight",
           "sample_id": 0,
           "timepoint": 14,
           "trajectory": "Baseline_Straight",
           "value": 1.9343364202676694
          },
          {
           "color_by": "Baseline Straight",
           "sample_id": 0,
           "timepoint": 15,
           "trajectory": "Baseline_Straight",
           "value": 1.9679896712654303
          },
          {
           "color_by": "Baseline Straight",
           "sample_id": 0,
           "timepoint": 16,
           "trajectory": "Baseline_Straight",
           "value": 2
          },
          {
           "color_by": "Baseline Straight",
           "sample_id": 0,
           "timepoint": 17,
           "trajectory": "Baseline_Straight",
           "value": 2.0305431848689306
          },
          {
           "color_by": "Baseline Straight",
           "sample_id": 0,
           "timepoint": 18,
           "trajectory": "Baseline_Straight",
           "value": 2.0597671439071177
          },
          {
           "color_by": "Baseline Straight",
           "sample_id": 0,
           "timepoint": 19,
           "trajectory": "Baseline_Straight",
           "value": 2.087797629929844
          },
          {
           "color_by": "Baseline Straight",
           "sample_id": 0,
           "timepoint": 20,
           "trajectory": "Baseline_Straight",
           "value": 2.114742526881128
          },
          {
           "color_by": "Baseline Straight",
           "sample_id": 0,
           "timepoint": 21,
           "trajectory": "Baseline_Straight",
           "value": 2.1406951429280725
          },
          {
           "color_by": "Baseline Straight",
           "sample_id": 0,
           "timepoint": 22,
           "trajectory": "Baseline_Straight",
           "value": 2.1657367706679937
          },
          {
           "color_by": "Baseline Straight",
           "sample_id": 0,
           "timepoint": 23,
           "trajectory": "Baseline_Straight",
           "value": 2.189938703094842
          },
          {
           "color_by": "Baseline Straight",
           "sample_id": 0,
           "timepoint": 24,
           "trajectory": "Baseline_Straight",
           "value": 2.213363839400643
          },
          {
           "color_by": "Baseline Straight",
           "sample_id": 0,
           "timepoint": 25,
           "trajectory": "Baseline_Straight",
           "value": 2.23606797749979
          },
          {
           "color_by": "Baseline Straight",
           "sample_id": 0,
           "timepoint": 26,
           "trajectory": "Baseline_Straight",
           "value": 2.2581008643532257
          },
          {
           "color_by": "Baseline Straight",
           "sample_id": 0,
           "timepoint": 27,
           "trajectory": "Baseline_Straight",
           "value": 2.2795070569547775
          },
          {
           "color_by": "Baseline Straight",
           "sample_id": 0,
           "timepoint": 28,
           "trajectory": "Baseline_Straight",
           "value": 2.300326633791206
          },
          {
           "color_by": "Baseline Straight",
           "sample_id": 0,
           "timepoint": 29,
           "trajectory": "Baseline_Straight",
           "value": 2.320595787106084
          },
          {
           "color_by": "Baseline Straight",
           "sample_id": 0,
           "timepoint": 30,
           "trajectory": "Baseline_Straight",
           "value": 2.340347319320716
          },
          {
           "color_by": "Baseline Straight",
           "sample_id": 0,
           "timepoint": 31,
           "trajectory": "Baseline_Straight",
           "value": 2.359611061770567
          },
          {
           "color_by": "Baseline Straight",
           "sample_id": 0,
           "timepoint": 32,
           "trajectory": "Baseline_Straight",
           "value": 2.378414230005442
          },
          {
           "color_by": "Baseline Straight",
           "sample_id": 0,
           "timepoint": 33,
           "trajectory": "Baseline_Straight",
           "value": 2.39678172692843
          },
          {
           "color_by": "Baseline Straight",
           "sample_id": 0,
           "timepoint": 34,
           "trajectory": "Baseline_Straight",
           "value": 2.414736402766418
          },
          {
           "color_by": "Baseline Straight",
           "sample_id": 0,
           "timepoint": 35,
           "trajectory": "Baseline_Straight",
           "value": 2.4322992790977875
          },
          {
           "color_by": "Baseline Straight",
           "sample_id": 0,
           "timepoint": 36,
           "trajectory": "Baseline_Straight",
           "value": 2.449489742783178
          },
          {
           "color_by": "Baseline Straight",
           "sample_id": 0,
           "timepoint": 37,
           "trajectory": "Baseline_Straight",
           "value": 2.4663257145596607
          },
          {
           "color_by": "Baseline Straight",
           "sample_id": 0,
           "timepoint": 38,
           "trajectory": "Baseline_Straight",
           "value": 2.4828237961983883
          },
          {
           "color_by": "Baseline Straight",
           "sample_id": 0,
           "timepoint": 39,
           "trajectory": "Baseline_Straight",
           "value": 2.4989993994393833
          },
          {
           "color_by": "Baseline Straight",
           "sample_id": 0,
           "timepoint": 40,
           "trajectory": "Baseline_Straight",
           "value": 2.514866859365871
          },
          {
           "color_by": "Baseline Straight",
           "sample_id": 0,
           "timepoint": 41,
           "trajectory": "Baseline_Straight",
           "value": 2.530439534435243
          },
          {
           "color_by": "Baseline Straight",
           "sample_id": 0,
           "timepoint": 42,
           "trajectory": "Baseline_Straight",
           "value": 2.5457298950218306
          },
          {
           "color_by": "Baseline Straight",
           "sample_id": 0,
           "timepoint": 43,
           "trajectory": "Baseline_Straight",
           "value": 2.5607496020310148
          },
          {
           "color_by": "Baseline Straight",
           "sample_id": 0,
           "timepoint": 44,
           "trajectory": "Baseline_Straight",
           "value": 2.5755095769013945
          },
          {
           "color_by": "Baseline Straight",
           "sample_id": 0,
           "timepoint": 45,
           "trajectory": "Baseline_Straight",
           "value": 2.5900200641113513
          },
          {
           "color_by": "Baseline Straight",
           "sample_id": 0,
           "timepoint": 46,
           "trajectory": "Baseline_Straight",
           "value": 2.604290687140218
          },
          {
           "color_by": "Baseline Straight",
           "sample_id": 0,
           "timepoint": 47,
           "trajectory": "Baseline_Straight",
           "value": 2.6183304986958853
          },
          {
           "color_by": "Baseline Straight",
           "sample_id": 0,
           "timepoint": 48,
           "trajectory": "Baseline_Straight",
           "value": 2.6321480259049848
          },
          {
           "color_by": "Baseline Straight",
           "sample_id": 0,
           "timepoint": 49,
           "trajectory": "Baseline_Straight",
           "value": 2.6457513110645907
          },
          {
           "color_by": "Baseline Straight",
           "sample_id": 0,
           "timepoint": 50,
           "trajectory": "Baseline_Straight",
           "value": 2.6591479484724942
          },
          {
           "color_by": "Baseline Straight",
           "sample_id": 0,
           "timepoint": 51,
           "trajectory": "Baseline_Straight",
           "value": 2.6723451177837885
          },
          {
           "color_by": "Baseline Straight",
           "sample_id": 0,
           "timepoint": 52,
           "trajectory": "Baseline_Straight",
           "value": 2.68534961428265
          },
          {
           "color_by": "Baseline Straight",
           "sample_id": 0,
           "timepoint": 53,
           "trajectory": "Baseline_Straight",
           "value": 2.6981678764080854
          },
          {
           "color_by": "Baseline Straight",
           "sample_id": 0,
           "timepoint": 54,
           "trajectory": "Baseline_Straight",
           "value": 2.7108060108295344
          },
          {
           "color_by": "Baseline Straight",
           "sample_id": 0,
           "timepoint": 55,
           "trajectory": "Baseline_Straight",
           "value": 2.7232698153315003
          },
          {
           "color_by": "Baseline Straight",
           "sample_id": 0,
           "timepoint": 56,
           "trajectory": "Baseline_Straight",
           "value": 2.7355647997347607
          },
          {
           "color_by": "Baseline Straight",
           "sample_id": 0,
           "timepoint": 57,
           "trajectory": "Baseline_Straight",
           "value": 2.7476962050544724
          },
          {
           "color_by": "Baseline Straight",
           "sample_id": 0,
           "timepoint": 58,
           "trajectory": "Baseline_Straight",
           "value": 2.7596690210718946
          },
          {
           "color_by": "Baseline Straight",
           "sample_id": 0,
           "timepoint": 59,
           "trajectory": "Baseline_Straight",
           "value": 2.771488002476036
          },
          {
           "color_by": "Baseline Straight",
           "sample_id": 0,
           "timepoint": 60,
           "trajectory": "Baseline_Straight",
           "value": 2.7831576837137404
          },
          {
           "color_by": "Baseline Straight",
           "sample_id": 0,
           "timepoint": 61,
           "trajectory": "Baseline_Straight",
           "value": 2.794682392671241
          },
          {
           "color_by": "Baseline Straight",
           "sample_id": 0,
           "timepoint": 62,
           "trajectory": "Baseline_Straight",
           "value": 2.806066263296683
          },
          {
           "color_by": "Baseline Straight",
           "sample_id": 0,
           "timepoint": 63,
           "trajectory": "Baseline_Straight",
           "value": 2.8173132472612576
          },
          {
           "color_by": "Baseline Straight",
           "sample_id": 0,
           "timepoint": 64,
           "trajectory": "Baseline_Straight",
           "value": 2.8284271247461903
          },
          {
           "color_by": "Baseline Straight",
           "sample_id": 0,
           "timepoint": 65,
           "trajectory": "Baseline_Straight",
           "value": 2.8394115144336776
          },
          {
           "color_by": "Baseline Straight",
           "sample_id": 0,
           "timepoint": 66,
           "trajectory": "Baseline_Straight",
           "value": 2.8502698827717983
          },
          {
           "color_by": "Baseline Straight",
           "sample_id": 0,
           "timepoint": 67,
           "trajectory": "Baseline_Straight",
           "value": 2.861005552576305
          },
          {
           "color_by": "Baseline Straight",
           "sample_id": 0,
           "timepoint": 68,
           "trajectory": "Baseline_Straight",
           "value": 2.8716217110259006
          },
          {
           "color_by": "Baseline Straight",
           "sample_id": 0,
           "timepoint": 69,
           "trajectory": "Baseline_Straight",
           "value": 2.882121417102006
          },
          {
           "color_by": "Baseline Straight",
           "sample_id": 0,
           "timepoint": 70,
           "trajectory": "Baseline_Straight",
           "value": 2.892507608519078
          },
          {
           "color_by": "Baseline Straight",
           "sample_id": 0,
           "timepoint": 71,
           "trajectory": "Baseline_Straight",
           "value": 2.9027831081870996
          },
          {
           "color_by": "Baseline Straight",
           "sample_id": 0,
           "timepoint": 72,
           "trajectory": "Baseline_Straight",
           "value": 2.9129506302439405
          },
          {
           "color_by": "Baseline Straight",
           "sample_id": 0,
           "timepoint": 73,
           "trajectory": "Baseline_Straight",
           "value": 2.923012785691765
          },
          {
           "color_by": "Baseline Straight",
           "sample_id": 0,
           "timepoint": 74,
           "trajectory": "Baseline_Straight",
           "value": 2.932972087668518
          },
          {
           "color_by": "Baseline Straight",
           "sample_id": 0,
           "timepoint": 75,
           "trajectory": "Baseline_Straight",
           "value": 2.942830956382712
          },
          {
           "color_by": "Baseline Straight",
           "sample_id": 0,
           "timepoint": 76,
           "trajectory": "Baseline_Straight",
           "value": 2.9525917237371893
          },
          {
           "color_by": "Baseline Straight",
           "sample_id": 0,
           "timepoint": 77,
           "trajectory": "Baseline_Straight",
           "value": 2.962256637665299
          },
          {
           "color_by": "Baseline Straight",
           "sample_id": 0,
           "timepoint": 78,
           "trajectory": "Baseline_Straight",
           "value": 2.9718278662008415
          },
          {
           "color_by": "Baseline Straight",
           "sample_id": 0,
           "timepoint": 79,
           "trajectory": "Baseline_Straight",
           "value": 2.9813075013013317
          },
          {
           "color_by": "Baseline Straight",
           "sample_id": 0,
           "timepoint": 80,
           "trajectory": "Baseline_Straight",
           "value": 2.990697562442441
          },
          {
           "color_by": "Baseline Straight",
           "sample_id": 0,
           "timepoint": 81,
           "trajectory": "Baseline_Straight",
           "value": 3
          },
          {
           "color_by": "Baseline Straight",
           "sample_id": 0,
           "timepoint": 82,
           "trajectory": "Baseline_Straight",
           "value": 3.009216698434564
          },
          {
           "color_by": "Baseline Straight",
           "sample_id": 0,
           "timepoint": 83,
           "trajectory": "Baseline_Straight",
           "value": 3.018349479292333
          },
          {
           "color_by": "Baseline Straight",
           "sample_id": 0,
           "timepoint": 84,
           "trajectory": "Baseline_Straight",
           "value": 3.027400104035091
          },
          {
           "color_by": "Baseline Straight",
           "sample_id": 0,
           "timepoint": 85,
           "trajectory": "Baseline_Straight",
           "value": 3.036370276710811
          },
          {
           "color_by": "Baseline Straight",
           "sample_id": 0,
           "timepoint": 86,
           "trajectory": "Baseline_Straight",
           "value": 3.0452616464756694
          },
          {
           "color_by": "Baseline Straight",
           "sample_id": 0,
           "timepoint": 87,
           "trajectory": "Baseline_Straight",
           "value": 3.0540758099773515
          },
          {
           "color_by": "Baseline Straight",
           "sample_id": 0,
           "timepoint": 88,
           "trajectory": "Baseline_Straight",
           "value": 3.062814313608786
          },
          {
           "color_by": "Baseline Straight",
           "sample_id": 0,
           "timepoint": 89,
           "trajectory": "Baseline_Straight",
           "value": 3.0714786556407327
          },
          {
           "color_by": "Baseline Straight",
           "sample_id": 0,
           "timepoint": 90,
           "trajectory": "Baseline_Straight",
           "value": 3.080070288241023
          },
          {
           "color_by": "Baseline Straight",
           "sample_id": 0,
           "timepoint": 91,
           "trajectory": "Baseline_Straight",
           "value": 3.088590619387661
          },
          {
           "color_by": "Baseline Straight",
           "sample_id": 0,
           "timepoint": 92,
           "trajectory": "Baseline_Straight",
           "value": 3.0970410146824725
          },
          {
           "color_by": "Baseline Straight",
           "sample_id": 0,
           "timepoint": 93,
           "trajectory": "Baseline_Straight",
           "value": 3.1054227990714813
          },
          {
           "color_by": "Baseline Straight",
           "sample_id": 0,
           "timepoint": 94,
           "trajectory": "Baseline_Straight",
           "value": 3.11373725847777
          },
          {
           "color_by": "Baseline Straight",
           "sample_id": 0,
           "timepoint": 95,
           "trajectory": "Baseline_Straight",
           "value": 3.121985641352145
          },
          {
           "color_by": "Baseline Straight",
           "sample_id": 0,
           "timepoint": 96,
           "trajectory": "Baseline_Straight",
           "value": 3.1301691601465746
          },
          {
           "color_by": "Baseline Straight",
           "sample_id": 0,
           "timepoint": 97,
           "trajectory": "Baseline_Straight",
           "value": 3.138288992714996
          },
          {
           "color_by": "Baseline Straight",
           "sample_id": 0,
           "timepoint": 98,
           "trajectory": "Baseline_Straight",
           "value": 3.1463462836457885
          },
          {
           "color_by": "Baseline Straight",
           "sample_id": 0,
           "timepoint": 99,
           "trajectory": "Baseline_Straight",
           "value": 3.1543421455299043
          }
         ]
        },
        {
         "name": "points",
         "values": []
        },
        {
         "name": "markers",
         "values": []
        },
        {
         "name": "selected",
         "on": [
          {
           "remove": true,
           "trigger": "clear"
          },
          {
           "remove": true,
           "trigger": "!shift"
          },
          {
           "insert": "clicked",
           "trigger": "!shift && clicked"
          },
          {
           "toggle": "clicked",
           "trigger": "shift && clicked"
          }
         ]
        },
        {
         "name": "selectedData",
         "on": [
          {
           "remove": true,
           "trigger": "clearData"
          },
          {
           "toggle": "clickedData",
           "trigger": "clickedData"
          }
         ]
        }
       ],
       "height": 300,
       "legends": [
        {
         "encode": {
          "labels": {
           "interactive": true,
           "name": "legendLabel",
           "update": {
            "opacity": [
             {
              "test": "!length(data('selectedData')) || indata('selectedData', 'value', datum.value)",
              "value": 1
             },
             {
              "value": 0.25
             }
            ]
           }
          },
          "symbols": {
           "interactive": true,
           "name": "legendSymbol",
           "update": {
            "fill": {
             "value": "transparent"
            },
            "opacity": [
             {
              "test": "!length(data('selected')) || indata('selected', 'value', datum.value) || indata('selectedData', 'value', datum.value)",
              "value": 0.7
             },
             {
              "value": 0.15
             }
            ],
            "size": {
             "value": 64
            },
            "strokeWidth": {
             "value": 2
            }
           }
          }
         },
         "name": "color_legend",
         "orient": "left",
         "stroke": "color"
        }
       ],
       "marks": [
        {
         "from": {
          "facet": {
           "data": "points",
           "groupby": "trajectory",
           "name": "points_split"
          }
         },
         "marks": [
          {
           "encode": {
            "hover": {
             "fillOpacity": {
              "value": 0.9
             }
            },
            "update": {
             "fill": {
              "field": "trajectory",
              "scale": "color"
             },
             "fillOpacity": [
              {
               "test": "!length(data('selected')) || indata('selected', 'value', datum.trajectory)",
               "value": 0.5
              },
              {
               "value": 0.15
              }
             ],
             "size": {
              "value": 35
             },
             "stroke": {
              "field": "trajectory",
              "scale": "color"
             },
             "strokeOpacity": [
              {
               "test": "!length(data('selected')) || indata('selected', 'value', datum.trajectory)",
               "value": 0.75
              },
              {
               "value": 0.15
              }
             ],
             "strokeWidth": {
              "value": 2
             },
             "tooltip": {
              "field": "value"
             },
             "x": {
              "field": "timepoint",
              "scale": "xscale"
             },
             "y": {
              "field": "value",
              "scale": "yscale"
             }
            }
           },
           "from": {
            "data": "points_split"
           },
           "name": "_points_symbol",
           "type": "symbol",
           "zindex": 3
          },
          {
           "encode": {
            "hover": {
             "fillOpacity": {
              "value": 0.9
             }
            },
            "update": {
             "interpolate": {
              "value": "linear"
             },
             "stroke": {
              "field": "trajectory",
              "scale": "color"
             },
             "strokeDash": {
              "value": [
               5,
               3
              ]
             },
             "strokeOpacity": [
              {
               "test": "!length(data('selected')) || indata('selected', 'value', datum.trajectory)",
               "value": 0.3
              },
              {
               "value": 0.1
              }
             ],
             "strokeWidth": {
              "value": 2
             },
             "x": {
              "field": "timepoint",
              "scale": "xscale"
             },
             "y": {
              "field": "value",
              "scale": "yscale"
             }
            }
           },
           "from": {
            "data": "points_split"
           },
           "name": "_points_line",
           "type": "line",
           "zindex": 3
          }
         ],
         "name": "_points",
         "type": "group",
         "zindex": 3
        },
        {
         "from": {
          "facet": {
           "data": "traces",
           "groupby": "trajectory",
           "name": "traces_split"
          }
         },
         "marks": [
          {
           "encode": {
            "hover": {
             "fillOpacity": {
              "value": 0.9
             }
            },
            "update": {
             "interpolate": {
              "value": "linear"
             },
             "stroke": {
              "field": "trajectory",
              "scale": "color"
             },
             "strokeDash": [
              {
               "test": "indexof(datum.trajectory, 'aseline') == -1",
               "value": [
                1,
                0
               ]
              },
              {
               "value": [
                8,
                4
               ]
              }
             ],
             "strokeOpacity": [
              {
               "test": "!length(data('selected')) || indata('selected', 'value', datum.trajectory)",
               "value": 0.75
              },
              {
               "value": 0.15
              }
             ],
             "strokeWidth": {
              "value": 2
             },
             "x": {
              "field": "timepoint",
              "scale": "xscale"
             },
             "y": {
              "field": "value",
              "scale": "yscale"
             }
            }
           },
           "from": {
            "data": "traces_split"
           },
           "name": "_traces_lines",
           "type": "line"
          }
         ],
         "name": "_traces",
         "type": "group",
         "zindex": 2
        },
        {
         "from": {
          "facet": {
           "data": "distributions",
           "groupby": "trajectory",
           "name": "trajectory_split"
          }
         },
         "marks": [
          {
           "encode": {
            "hover": {
             "fillOpacity": {
              "value": 0.9
             }
            },
            "update": {
             "fill": {
              "field": "trajectory",
              "scale": "color"
             },
             "fillOpacity": [
              {
               "test": "!length(data('selected')) || indata('selected', 'value', datum.trajectory)",
               "value": 0.1
              },
              {
               "value": 0.05
              }
             ],
             "interpolate": {
              "value": "linear"
             },
             "stroke": {
              "field": "trajectory",
              "scale": "color"
             },
             "strokeOpacity": [
              {
               "test": "!length(data('selected')) || indata('selected', 'value', datum.trajectory)",
               "value": 0.1
              },
              {
               "value": 0.05
              }
             ],
             "strokeWidth": {
              "value": 2
             },
             "x": {
              "field": "timepoint",
              "scale": "xscale"
             },
             "y": {
              "field": "upper",
              "scale": "yscale"
             },
             "y2": {
              "field": "lower",
              "scale": "yscale"
             }
            }
           },
           "from": {
            "data": "trajectory_split"
           },
           "interactive": true,
           "name": "area",
           "type": "area"
          }
         ],
         "name": "_distributions",
         "type": "group",
         "zindex": 1
        },
        {
         "marks": [
          {
           "encode": {
            "enter": {
             "stroke": {
              "value": "lightgray"
             }
            },
            "update": {
             "opacity": {
              "value": 1
             },
             "x": {
              "field": "timepoint",
              "scale": "xscale"
             },
             "y": {
              "signal": "height"
             },
             "y2": {
              "value": 0
             }
            }
           },
           "from": {
            "data": "markers"
           },
           "name": "_marker text",
           "type": "rule"
          },
          {
           "encode": {
            "enter": {
             "fontSize": {
              "value": 8
             },
             "text": {
              "field": "datum.label"
             },
             "y": {
              "value": 0
             }
            }
           },
           "from": {
            "data": "_marker text"
           },
           "name": "_marker flags",
           "transform": [
            {
             "as": [
              "x",
              "_y",
              "opacity",
              "align",
              "baseline"
             ],
             "lineAnchor": "start",
             "offset": [
              1
             ],
             "size": {
              "signal": "[width, height]"
             },
             "type": "label"
            }
           ],
           "type": "text"
          }
         ],
         "name": "_markers",
         "type": "group"
        }
       ],
       "scales": [
        {
         "domain": {
          "fields": [
           {
            "data": "distributions",
            "field": "timepoint"
           },
           {
            "data": "traces",
            "field": "timepoint"
           },
           {
            "data": "points",
            "field": "timepoint"
           },
           {
            "data": "markers",
            "field": "timepoint"
           }
          ]
         },
         "name": "xscale",
         "range": "width",
         "type": "linear",
         "zero": false
        },
        {
         "domain": {
          "fields": [
           {
            "data": "distributions",
            "field": "lower"
           },
           {
            "data": "distributions",
            "field": "upper"
           },
           {
            "data": "traces",
            "field": "value"
           },
           {
            "data": "points",
            "field": "value"
           }
          ]
         },
         "name": "yscale",
         "nice": true,
         "range": "height",
         "type": "linear",
         "zero": true
        },
        {
         "domain": {
          "fields": [
           {
            "data": "distributions",
            "field": "trajectory"
           },
           {
            "data": "traces",
            "field": "trajectory"
           },
           {
            "data": "points",
            "field": "trajectory"
           }
          ],
          "sort": {
           "order": "ascending"
          }
         },
         "name": "color",
         "range": "category",
         "type": "ordinal"
        }
       ],
       "signals": [
        {
         "name": "clear",
         "on": [
          {
           "events": "mouseup[!event.item]",
           "force": true,
           "update": "true"
          }
         ],
         "value": true
        },
        {
         "name": "shift",
         "on": [
          {
           "events": "@legendSymbol:click, @legendLabel:click",
           "force": true,
           "update": "event.shiftKey"
          }
         ],
         "value": false
        },
        {
         "name": "clicked",
         "on": [
          {
           "events": "@legendSymbol:click, @legendLabel:click",
           "force": true,
           "update": "{value: datum.value}"
          }
         ],
         "value": null
        },
        {
         "name": "clearData",
         "on": [
          {
           "events": "mouseup[!event.item]",
           "force": true,
           "update": "true"
          }
         ],
         "value": true
        },
        {
         "name": "clickedData",
         "on": [
          {
           "events": "@area:click",
           "force": true,
           "update": "{value: datum.trajectory}"
          }
         ],
         "value": null
        }
       ],
       "width": 500
      }
     },
     "metadata": {},
     "output_type": "display_data"
    }
   ],
   "source": [
    "\n",
    "name = \"Straight\"\n",
    "timepoint_list = []\n",
    "sine_list = []\n",
    "sample_list = []\n",
    "\n",
    "\n",
    "def save_result(data, name, ref_ext):\n",
    "    \"\"\"Save new reference files\"\"\"\n",
    "    _output_root = 'output'\n",
    "    mode = \"w\" if ref_ext == \"svg\" else \"wb\"\n",
    "    with open(os.path.join(_output_root, f\"{name}.{ref_ext}\"), mode) as f:\n",
    "        f.write(data)\n",
    "kmean = False\n",
    "run_functions =  [name] #[\"Straight\", \"Amp_Change\", \"Freq_Change\", \"Phase_Change\"]# #, [name]\n",
    "n_cluster = 3\n",
    "# create sine fucntions\n",
    "def return_sine_function_3(function_name):\n",
    "        if function_name == \"Straight\":\n",
    "                a, b, c, d = 0, 0, 0, np.random.randn()\n",
    "                a2, b2, c2, d2 = 0, 0, 0, 0\n",
    "        if function_name == \"Amp_Change\":\n",
    "                a, b, c, d = 1*(np.random.randn() + 1), .25, 2*np.pi, (np.random.randn() + 1)\n",
    "                a2, b2, c2, d2 = 1, .25, 2*np.pi, 1\n",
    "        if function_name == \"Freq_Change\":\n",
    "                a, b, c, d = 2, .25*(np.random.randn() + 1), 2*np.pi, (np.random.randn() + 1)\n",
    "                a2, b2, c2, d2 = 2, .25, 2*np.pi, 1\n",
    "        if function_name == \"Phase_Change\":\n",
    "                a, b, c, d = 3, .25, 2*np.pi*(np.random.randn() + 1), (np.random.randn() + 1)\n",
    "                a2, b2, c2, d2 = 3, .25, 2*np.pi, 1\n",
    "        def sine_function(x):\n",
    "                return np.power(x, .25) + a*np.sin(b*x + c) + d\n",
    "        def sine_function_default(x):\n",
    "                return np.power(x, .25) + a2*np.sin(b2*x + c2) + d2\n",
    "        function_parameters_individual = {'a': a,  'b': b, 'c': c,  'd': d}\n",
    "        function_parameters_default = {'a': a2, 'b': b2, 'c': c2, 'd': d2}\n",
    "        \n",
    "        return sine_function, sine_function_default, function_parameters_individual, function_parameters_default\n",
    "\n",
    "function_dataframe = pd.DataFrame(columns=['functions', 'sample_id', 'a', 'b',  'c',  'd'])\n",
    "function_list = []\n",
    "j = 0\n",
    "all_functions ={}\n",
    "\n",
    "# create sine dataframes and save the parameters used\n",
    "for funct_name in run_functions:\n",
    "        for _ in range(100):\n",
    "                j+=1\n",
    "                timepoint_list.extend([x for x in range(100)])\n",
    "                sample_list.extend([j]*100)\n",
    "                random_function,  sine_function_default, function_parameters_individual, function_parameters_default = return_sine_function_3(funct_name)\n",
    "\n",
    "                function_parameters_individual['functions'] = funct_name\n",
    "                function_parameters_individual['sample_id'] = j\n",
    "                function_list.append(function_parameters_individual)\n",
    "                sine_list.extend([random_function(x) for x in range(100)])\n",
    "        all_functions[funct_name] = sine_function_default \n",
    "        function_parameters_default['functions'] = funct_name + \" Default\"\n",
    "        function_parameters_default['sample_id'] = None\n",
    "\n",
    "#keep track of parameters\n",
    "function_dataframe = pd.DataFrame(function_list)\n",
    "function_default_dataframe =  pd.DataFrame(function_parameters_default, index=[0])\n",
    "\n",
    "\n",
    "sine_distribution= pd.DataFrame({'timepoint_id' : timepoint_list,\n",
    "                   'sample_id' : sample_list,\n",
    "                   'Example': sine_list})\n",
    "\n",
    "\n",
    "traces_list = []   \n",
    "\n",
    "# get examplary lines\n",
    "#change kmean here to use clustering\n",
    "examplary_line, trajectory_dict = pyciemss.visuals.trajectories.select_traces(sine_distribution,  select_by_list = ['mean', \"variance\", 'chaos'], kmean=kmean, n_clusters = n_cluster)\n",
    "# get the sample'id for the examplary data used per sample_id and select_by\n",
    "best_samples_cluster = examplary_line[['sample_id', 'select_by', 'cluster']].drop_duplicates()\n",
    "best_samples_df_list = []\n",
    "\n",
    "# for each cluster create a new plot\n",
    "for cluster in list(np.unique(examplary_line['cluster'])): \n",
    "        # for distribution only use the sample_ids in the cluster\n",
    "       \n",
    "        cluster_sample_id = trajectory_dict[cluster.lower()]['cluster_sample_id']  \n",
    "        cluster_sine_distribution =  sine_distribution[sine_distribution[\"sample_id\"].isin(cluster_sample_id)]\n",
    "        current_cluster_df = examplary_line[examplary_line['cluster'] == cluster]\n",
    "        current_cluster_df = current_cluster_df.reset_index()\n",
    "        # get right format to use as traces\n",
    "        examplary_lines_pivot = current_cluster_df[['examplary_line', 'mean_trajectory', 'timepoint', 'select_by']].pivot_table(\n",
    "        values=\"examplary_line\", index = [\"timepoint\", 'mean_trajectory'], columns=\"select_by\"\n",
    "        )\n",
    "        examplary_lines_pivot = examplary_lines_pivot.reset_index()\n",
    "        examplary_lines_pivot = examplary_lines_pivot.rename(columns = {'mean_trajectory': 'Baseline_Mean'})\n",
    "        if len(run_functions) == 1 and not kmean:\n",
    "                # get baseline for sine functions\n",
    "                for function_name, function in all_functions.items():\n",
    "                        examplary_lines_pivot[\"Baseline_\" + function_name.title()] = [function(x) for x in range(100)]\n",
    "        #plot the traces along with the baselines\n",
    "        schema = plots.trajectories(cluster_sine_distribution[['timepoint_id', 'sample_id', 'Example']], traces = examplary_lines_pivot)\n",
    "        path = \"{}_{}\".format(name, cluster)\n",
    "        image = plots.ipy_display(schema, format=\"PNG\").data\n",
    "        save_result(image, path, \"png\")\n",
    "        plots.ipy_display(schema, format=\"interactive\")\n",
    "\n",
    "if len(run_functions) == 1 and not kmean:\n",
    "        # clean up table to get the parameters of the samples id's used for examplary\n",
    "        all_clusters = best_samples_cluster.merge(function_dataframe, how=\"inner\", on=\"sample_id\")\n",
    "        all_clusters = pd.concat([all_clusters, function_default_dataframe])[['functions', 'select_by', 'a', 'b', 'c', 'd']]\n",
    "        all_clusters = all_clusters.rename(columns = {'functions': 'Function Name', 'select_by': \"Selection Method\"})\n",
    "        all_clusters[\"Function Name\"] = all_clusters[\"Function Name\"].apply(lambda x: x.replace(\"_\", \" \").title())\n",
    "        all_clusters[\"Examplar #\"] = all_clusters[\"Selection Method\"].apply(lambda x: 1 if len(str(x).split(\"_\")) < 2 else str(x).split(\"_\")[1])\n",
    "        all_clusters[\"Selection Method\"] = all_clusters[\"Selection Method\"].apply(lambda x:  str(x).split(\"_\")[0])\n",
    "        all_clusters = all_clusters.round(2)\n",
    "\n",
    "\n",
    "        all_clusters.to_csv(\"output/{}.csv\".format(name))\n",
    "        # table with sine variables of starting function and the formula of the best select_by lines and metrics1"
   ]
  },
  {
   "cell_type": "code",
   "execution_count": 28,
   "metadata": {},
   "outputs": [
    {
     "name": "stdout",
     "output_type": "stream",
     "text": [
      "\n",
      "Granger Causality\n",
      "number of lags (no zero) 10\n",
      "ssr based F test:         F=1.1024  , p=0.3729  , df_denom=69, df_num=10\n",
      "ssr based chi2 test:   chi2=14.3796 , p=0.1564  , df=10\n",
      "likelihood ratio test: chi2=13.3402 , p=0.2053  , df=10\n",
      "parameter F test:         F=1.1024  , p=0.3729  , df_denom=69, df_num=10\n",
      "\n",
      "Granger Causality\n",
      "number of lags (no zero) 10\n",
      "ssr based F test:         F=1.8457  , p=0.0685  , df_denom=69, df_num=10\n",
      "ssr based chi2 test:   chi2=24.0749 , p=0.0074  , df=10\n",
      "likelihood ratio test: chi2=21.3341 , p=0.0189  , df=10\n",
      "parameter F test:         F=1.8457  , p=0.0685  , df_denom=69, df_num=10\n",
      "\n",
      "Granger Causality\n",
      "number of lags (no zero) 10\n",
      "ssr based F test:         F=1.4706  , p=0.1694  , df_denom=69, df_num=10\n",
      "ssr based chi2 test:   chi2=19.1812 , p=0.0380  , df=10\n",
      "likelihood ratio test: chi2=17.3879 , p=0.0662  , df=10\n",
      "parameter F test:         F=1.4706  , p=0.1694  , df_denom=69, df_num=10\n",
      "\n",
      "Granger Causality\n",
      "number of lags (no zero) 10\n",
      "ssr based F test:         F=1.4215  , p=0.1894  , df_denom=69, df_num=10\n",
      "ssr based chi2 test:   chi2=18.5415 , p=0.0465  , df=10\n",
      "likelihood ratio test: chi2=16.8591 , p=0.0775  , df=10\n",
      "parameter F test:         F=1.4215  , p=0.1894  , df_denom=69, df_num=10\n",
      "\n",
      "Granger Causality\n",
      "number of lags (no zero) 10\n",
      "ssr based F test:         F=0.6765  , p=0.7423  , df_denom=69, df_num=10\n",
      "ssr based chi2 test:   chi2=8.8245  , p=0.5488  , df=10\n",
      "likelihood ratio test: chi2=8.4183  , p=0.5881  , df=10\n",
      "parameter F test:         F=0.6765  , p=0.7423  , df_denom=69, df_num=10\n",
      "\n",
      "Granger Causality\n",
      "number of lags (no zero) 10\n",
      "ssr based F test:         F=0.4925  , p=0.8893  , df_denom=69, df_num=10\n",
      "ssr based chi2 test:   chi2=6.4243  , p=0.7784  , df=10\n",
      "likelihood ratio test: chi2=6.2054  , p=0.7977  , df=10\n",
      "parameter F test:         F=0.4925  , p=0.8893  , df_denom=69, df_num=10\n",
      "\n",
      "Granger Causality\n",
      "number of lags (no zero) 10\n",
      "ssr based F test:         F=0.5488  , p=0.8492  , df_denom=69, df_num=10\n",
      "ssr based chi2 test:   chi2=7.1578  , p=0.7105  , df=10\n",
      "likelihood ratio test: chi2=6.8874  , p=0.7360  , df=10\n",
      "parameter F test:         F=0.5488  , p=0.8492  , df_denom=69, df_num=10\n",
      "\n",
      "Granger Causality\n",
      "number of lags (no zero) 10\n",
      "ssr based F test:         F=0.5190  , p=0.8711  , df_denom=69, df_num=10\n",
      "ssr based chi2 test:   chi2=6.7699  , p=0.7470  , df=10\n",
      "likelihood ratio test: chi2=6.5274  , p=0.7692  , df=10\n",
      "parameter F test:         F=0.5190  , p=0.8711  , df_denom=69, df_num=10\n",
      "\n",
      "Granger Causality\n",
      "number of lags (no zero) 10\n",
      "ssr based F test:         F=0.7848  , p=0.6431  , df_denom=69, df_num=10\n",
      "ssr based chi2 test:   chi2=10.2367 , p=0.4200  , df=10\n",
      "likelihood ratio test: chi2=9.6953  , p=0.4676  , df=10\n",
      "parameter F test:         F=0.7848  , p=0.6431  , df_denom=69, df_num=10\n",
      "\n",
      "Granger Causality\n",
      "number of lags (no zero) 10\n",
      "ssr based F test:         F=0.5418  , p=0.8544  , df_denom=69, df_num=10\n",
      "ssr based chi2 test:   chi2=7.0671  , p=0.7191  , df=10\n",
      "likelihood ratio test: chi2=6.8033  , p=0.7439  , df=10\n",
      "parameter F test:         F=0.5418  , p=0.8544  , df_denom=69, df_num=10\n",
      "\n",
      "Granger Causality\n",
      "number of lags (no zero) 10\n",
      "ssr based F test:         F=0.4836  , p=0.8952  , df_denom=69, df_num=10\n",
      "ssr based chi2 test:   chi2=6.3076  , p=0.7888  , df=10\n",
      "likelihood ratio test: chi2=6.0964  , p=0.8071  , df=10\n",
      "parameter F test:         F=0.4836  , p=0.8952  , df_denom=69, df_num=10\n",
      "\n",
      "Granger Causality\n",
      "number of lags (no zero) 10\n",
      "ssr based F test:         F=0.6214  , p=0.7905  , df_denom=69, df_num=10\n",
      "ssr based chi2 test:   chi2=8.1053  , p=0.6186  , df=10\n",
      "likelihood ratio test: chi2=7.7608  , p=0.6522  , df=10\n",
      "parameter F test:         F=0.6214  , p=0.7905  , df_denom=69, df_num=10\n",
      "\n",
      "Granger Causality\n",
      "number of lags (no zero) 10\n",
      "ssr based F test:         F=0.7175  , p=0.7052  , df_denom=69, df_num=10\n",
      "ssr based chi2 test:   chi2=9.3589  , p=0.4984  , df=10\n",
      "likelihood ratio test: chi2=8.9036  , p=0.5413  , df=10\n",
      "parameter F test:         F=0.7175  , p=0.7052  , df_denom=69, df_num=10\n",
      "\n",
      "Granger Causality\n",
      "number of lags (no zero) 10\n",
      "ssr based F test:         F=0.4921  , p=0.8896  , df_denom=69, df_num=10\n",
      "ssr based chi2 test:   chi2=6.4181  , p=0.7790  , df=10\n",
      "likelihood ratio test: chi2=6.1996  , p=0.7982  , df=10\n",
      "parameter F test:         F=0.4921  , p=0.8896  , df_denom=69, df_num=10\n",
      "\n",
      "Granger Causality\n",
      "number of lags (no zero) 10\n",
      "ssr based F test:         F=0.9950  , p=0.4564  , df_denom=69, df_num=10\n",
      "ssr based chi2 test:   chi2=12.9785 , p=0.2249  , df=10\n",
      "likelihood ratio test: chi2=12.1239 , p=0.2768  , df=10\n",
      "parameter F test:         F=0.9950  , p=0.4564  , df_denom=69, df_num=10\n",
      "\n",
      "Granger Causality\n",
      "number of lags (no zero) 10\n",
      "ssr based F test:         F=1.6948  , p=0.0995  , df_denom=69, df_num=10\n",
      "ssr based chi2 test:   chi2=22.1067 , p=0.0146  , df=10\n",
      "likelihood ratio test: chi2=19.7677 , p=0.0315  , df=10\n",
      "parameter F test:         F=1.6948  , p=0.0995  , df_denom=69, df_num=10\n",
      "\n",
      "Granger Causality\n",
      "number of lags (no zero) 10\n",
      "ssr based F test:         F=0.5777  , p=0.8266  , df_denom=69, df_num=10\n",
      "ssr based chi2 test:   chi2=7.5357  , p=0.6741  , df=10\n",
      "likelihood ratio test: chi2=7.2368  , p=0.7029  , df=10\n",
      "parameter F test:         F=0.5777  , p=0.8266  , df_denom=69, df_num=10\n",
      "\n",
      "Granger Causality\n",
      "number of lags (no zero) 10\n",
      "ssr based F test:         F=1.0895  , p=0.3824  , df_denom=69, df_num=10\n",
      "ssr based chi2 test:   chi2=14.2106 , p=0.1636  , df=10\n",
      "likelihood ratio test: chi2=13.1944 , p=0.2130  , df=10\n",
      "parameter F test:         F=1.0895  , p=0.3824  , df_denom=69, df_num=10\n",
      "\n",
      "Granger Causality\n",
      "number of lags (no zero) 10\n",
      "ssr based F test:         F=1.0041  , p=0.4490  , df_denom=69, df_num=10\n",
      "ssr based chi2 test:   chi2=13.0964 , p=0.2183  , df=10\n",
      "likelihood ratio test: chi2=12.2270 , p=0.2702  , df=10\n",
      "parameter F test:         F=1.0041  , p=0.4490  , df_denom=69, df_num=10\n",
      "\n",
      "Granger Causality\n",
      "number of lags (no zero) 10\n",
      "ssr based F test:         F=0.9139  , p=0.5256  , df_denom=69, df_num=10\n",
      "ssr based chi2 test:   chi2=11.9210 , p=0.2904  , df=10\n",
      "likelihood ratio test: chi2=11.1950 , p=0.3425  , df=10\n",
      "parameter F test:         F=0.9139  , p=0.5256  , df_denom=69, df_num=10\n",
      "\n",
      "Granger Causality\n",
      "number of lags (no zero) 10\n",
      "ssr based F test:         F=1.2946  , p=0.2510  , df_denom=69, df_num=10\n",
      "ssr based chi2 test:   chi2=16.8858 , p=0.0769  , df=10\n",
      "likelihood ratio test: chi2=15.4756 , p=0.1157  , df=10\n",
      "parameter F test:         F=1.2946  , p=0.2510  , df_denom=69, df_num=10\n",
      "\n",
      "Granger Causality\n",
      "number of lags (no zero) 10\n",
      "ssr based F test:         F=1.0109  , p=0.4434  , df_denom=69, df_num=10\n",
      "ssr based chi2 test:   chi2=13.1856 , p=0.2135  , df=10\n",
      "likelihood ratio test: chi2=12.3047 , p=0.2652  , df=10\n",
      "parameter F test:         F=1.0109  , p=0.4434  , df_denom=69, df_num=10\n",
      "\n",
      "Granger Causality\n",
      "number of lags (no zero) 10\n",
      "ssr based F test:         F=1.4240  , p=0.1884  , df_denom=69, df_num=10\n",
      "ssr based chi2 test:   chi2=18.5743 , p=0.0460  , df=10\n",
      "likelihood ratio test: chi2=16.8863 , p=0.0769  , df=10\n",
      "parameter F test:         F=1.4240  , p=0.1884  , df_denom=69, df_num=10\n",
      "\n",
      "Granger Causality\n",
      "number of lags (no zero) 10\n",
      "ssr based F test:         F=1.4538  , p=0.1760  , df_denom=69, df_num=10\n",
      "ssr based chi2 test:   chi2=18.9629 , p=0.0407  , df=10\n",
      "likelihood ratio test: chi2=17.2078 , p=0.0699  , df=10\n",
      "parameter F test:         F=1.4538  , p=0.1760  , df_denom=69, df_num=10\n",
      "\n",
      "Granger Causality\n",
      "number of lags (no zero) 10\n",
      "ssr based F test:         F=0.9523  , p=0.4923  , df_denom=69, df_num=10\n",
      "ssr based chi2 test:   chi2=12.4216 , p=0.2578  , df=10\n",
      "likelihood ratio test: chi2=11.6360 , p=0.3102  , df=10\n",
      "parameter F test:         F=0.9523  , p=0.4923  , df_denom=69, df_num=10\n",
      "\n",
      "Granger Causality\n",
      "number of lags (no zero) 10\n",
      "ssr based F test:         F=0.5106  , p=0.8770  , df_denom=69, df_num=10\n",
      "ssr based chi2 test:   chi2=6.6605  , p=0.7571  , df=10\n",
      "likelihood ratio test: chi2=6.4256  , p=0.7783  , df=10\n",
      "parameter F test:         F=0.5106  , p=0.8770  , df_denom=69, df_num=10\n",
      "\n",
      "Granger Causality\n",
      "number of lags (no zero) 10\n",
      "ssr based F test:         F=1.0715  , p=0.3959  , df_denom=69, df_num=10\n",
      "ssr based chi2 test:   chi2=13.9763 , p=0.1741  , df=10\n",
      "likelihood ratio test: chi2=12.9918 , p=0.2241  , df=10\n",
      "parameter F test:         F=1.0715  , p=0.3959  , df_denom=69, df_num=10\n",
      "\n",
      "Granger Causality\n",
      "number of lags (no zero) 10\n",
      "ssr based F test:         F=1.6693  , p=0.1058  , df_denom=69, df_num=10\n",
      "ssr based chi2 test:   chi2=21.7733 , p=0.0163  , df=10\n",
      "likelihood ratio test: chi2=19.4996 , p=0.0344  , df=10\n",
      "parameter F test:         F=1.6693  , p=0.1058  , df_denom=69, df_num=10\n",
      "\n",
      "Granger Causality\n",
      "number of lags (no zero) 10\n",
      "ssr based F test:         F=2.3002  , p=0.0214  , df_denom=69, df_num=10\n",
      "ssr based chi2 test:   chi2=30.0026 , p=0.0009  , df=10\n",
      "likelihood ratio test: chi2=25.8933 , p=0.0039  , df=10\n",
      "parameter F test:         F=2.3002  , p=0.0214  , df_denom=69, df_num=10\n",
      "\n",
      "Granger Causality\n",
      "number of lags (no zero) 10\n",
      "ssr based F test:         F=0.4754  , p=0.9004  , df_denom=69, df_num=10\n",
      "ssr based chi2 test:   chi2=6.2007  , p=0.7981  , df=10\n",
      "likelihood ratio test: chi2=5.9965  , p=0.8156  , df=10\n",
      "parameter F test:         F=0.4754  , p=0.9004  , df_denom=69, df_num=10\n",
      "\n",
      "Granger Causality\n",
      "number of lags (no zero) 10\n",
      "ssr based F test:         F=0.3091  , p=0.9764  , df_denom=69, df_num=10\n",
      "ssr based chi2 test:   chi2=4.0314  , p=0.9459  , df=10\n",
      "likelihood ratio test: chi2=3.9437  , p=0.9499  , df=10\n",
      "parameter F test:         F=0.3091  , p=0.9764  , df_denom=69, df_num=10\n",
      "\n",
      "Granger Causality\n",
      "number of lags (no zero) 10\n",
      "ssr based F test:         F=0.7273  , p=0.6962  , df_denom=69, df_num=10\n",
      "ssr based chi2 test:   chi2=9.4861  , p=0.4867  , df=10\n",
      "likelihood ratio test: chi2=9.0187  , p=0.5303  , df=10\n",
      "parameter F test:         F=0.7273  , p=0.6962  , df_denom=69, df_num=10\n",
      "\n",
      "Granger Causality\n",
      "number of lags (no zero) 10\n",
      "ssr based F test:         F=1.5942  , p=0.1268  , df_denom=69, df_num=10\n",
      "ssr based chi2 test:   chi2=20.7937 , p=0.0226  , df=10\n",
      "likelihood ratio test: chi2=18.7074 , p=0.0441  , df=10\n",
      "parameter F test:         F=1.5942  , p=0.1268  , df_denom=69, df_num=10\n",
      "\n",
      "Granger Causality\n",
      "number of lags (no zero) 10\n",
      "ssr based F test:         F=0.8732  , p=0.5620  , df_denom=69, df_num=10\n",
      "ssr based chi2 test:   chi2=11.3901 , p=0.3279  , df=10\n",
      "likelihood ratio test: chi2=10.7249 , p=0.3793  , df=10\n",
      "parameter F test:         F=0.8732  , p=0.5620  , df_denom=69, df_num=10\n",
      "\n",
      "Granger Causality\n",
      "number of lags (no zero) 10\n",
      "ssr based F test:         F=1.1329  , p=0.3512  , df_denom=69, df_num=10\n",
      "ssr based chi2 test:   chi2=14.7765 , p=0.1404  , df=10\n",
      "likelihood ratio test: chi2=13.6818 , p=0.1880  , df=10\n",
      "parameter F test:         F=1.1329  , p=0.3512  , df_denom=69, df_num=10\n",
      "\n",
      "Granger Causality\n",
      "number of lags (no zero) 10\n",
      "ssr based F test:         F=1.5883  , p=0.1285  , df_denom=69, df_num=10\n",
      "ssr based chi2 test:   chi2=20.7175 , p=0.0232  , df=10\n",
      "likelihood ratio test: chi2=18.6455 , p=0.0450  , df=10\n",
      "parameter F test:         F=1.5883  , p=0.1285  , df_denom=69, df_num=10\n",
      "\n",
      "Granger Causality\n",
      "number of lags (no zero) 10\n",
      "ssr based F test:         F=1.8032  , p=0.0762  , df_denom=69, df_num=10\n",
      "ssr based chi2 test:   chi2=23.5196 , p=0.0090  , df=10\n",
      "likelihood ratio test: chi2=20.8949 , p=0.0218  , df=10\n",
      "parameter F test:         F=1.8032  , p=0.0762  , df_denom=69, df_num=10\n",
      "\n",
      "Granger Causality\n",
      "number of lags (no zero) 10\n",
      "ssr based F test:         F=2.3691  , p=0.0179  , df_denom=69, df_num=10\n",
      "ssr based chi2 test:   chi2=30.9018 , p=0.0006  , df=10\n",
      "likelihood ratio test: chi2=26.5652 , p=0.0030  , df=10\n",
      "parameter F test:         F=2.3691  , p=0.0179  , df_denom=69, df_num=10\n",
      "\n",
      "Granger Causality\n",
      "number of lags (no zero) 10\n",
      "ssr based F test:         F=1.8004  , p=0.0767  , df_denom=69, df_num=10\n",
      "ssr based chi2 test:   chi2=23.4837 , p=0.0091  , df=10\n",
      "likelihood ratio test: chi2=20.8664 , p=0.0220  , df=10\n",
      "parameter F test:         F=1.8004  , p=0.0767  , df_denom=69, df_num=10\n",
      "\n",
      "Granger Causality\n",
      "number of lags (no zero) 10\n",
      "ssr based F test:         F=1.0177  , p=0.4379  , df_denom=69, df_num=10\n",
      "ssr based chi2 test:   chi2=13.2748 , p=0.2087  , df=10\n",
      "likelihood ratio test: chi2=12.3825 , p=0.2603  , df=10\n",
      "parameter F test:         F=1.0177  , p=0.4379  , df_denom=69, df_num=10\n",
      "\n",
      "Granger Causality\n",
      "number of lags (no zero) 10\n",
      "ssr based F test:         F=1.6794  , p=0.1033  , df_denom=69, df_num=10\n",
      "ssr based chi2 test:   chi2=21.9052 , p=0.0156  , df=10\n",
      "likelihood ratio test: chi2=19.6058 , p=0.0332  , df=10\n",
      "parameter F test:         F=1.6794  , p=0.1033  , df_denom=69, df_num=10\n",
      "\n",
      "Granger Causality\n",
      "number of lags (no zero) 10\n",
      "ssr based F test:         F=1.3329  , p=0.2309  , df_denom=69, df_num=10\n",
      "ssr based chi2 test:   chi2=17.3859 , p=0.0662  , df=10\n",
      "likelihood ratio test: chi2=15.8958 , p=0.1027  , df=10\n",
      "parameter F test:         F=1.3329  , p=0.2309  , df_denom=69, df_num=10\n",
      "\n",
      "Granger Causality\n",
      "number of lags (no zero) 10\n",
      "ssr based F test:         F=1.2433  , p=0.2800  , df_denom=69, df_num=10\n",
      "ssr based chi2 test:   chi2=16.2176 , p=0.0936  , df=10\n",
      "likelihood ratio test: chi2=14.9112 , p=0.1353  , df=10\n",
      "parameter F test:         F=1.2433  , p=0.2800  , df_denom=69, df_num=10\n",
      "\n",
      "Granger Causality\n",
      "number of lags (no zero) 10\n",
      "ssr based F test:         F=1.7082  , p=0.0963  , df_denom=69, df_num=10\n",
      "ssr based chi2 test:   chi2=22.2812 , p=0.0137  , df=10\n",
      "likelihood ratio test: chi2=19.9077 , p=0.0301  , df=10\n",
      "parameter F test:         F=1.7082  , p=0.0963  , df_denom=69, df_num=10\n",
      "\n",
      "Granger Causality\n",
      "number of lags (no zero) 10\n",
      "ssr based F test:         F=0.7118  , p=0.7104  , df_denom=69, df_num=10\n",
      "ssr based chi2 test:   chi2=9.2844  , p=0.5053  , df=10\n",
      "likelihood ratio test: chi2=8.8361  , p=0.5477  , df=10\n",
      "parameter F test:         F=0.7118  , p=0.7104  , df_denom=69, df_num=10\n",
      "\n",
      "Granger Causality\n",
      "number of lags (no zero) 10\n",
      "ssr based F test:         F=0.7624  , p=0.6638  , df_denom=69, df_num=10\n",
      "ssr based chi2 test:   chi2=9.9441  , p=0.4454  , df=10\n",
      "likelihood ratio test: chi2=9.4321  , p=0.4916  , df=10\n",
      "parameter F test:         F=0.7624  , p=0.6638  , df_denom=69, df_num=10\n",
      "\n",
      "Granger Causality\n",
      "number of lags (no zero) 10\n",
      "ssr based F test:         F=1.7727  , p=0.0822  , df_denom=69, df_num=10\n",
      "ssr based chi2 test:   chi2=23.1228 , p=0.0103  , df=10\n",
      "likelihood ratio test: chi2=20.5798 , p=0.0242  , df=10\n",
      "parameter F test:         F=1.7727  , p=0.0822  , df_denom=69, df_num=10\n",
      "\n",
      "Granger Causality\n",
      "number of lags (no zero) 10\n",
      "ssr based F test:         F=0.7487  , p=0.6765  , df_denom=69, df_num=10\n",
      "ssr based chi2 test:   chi2=9.7662  , p=0.4612  , df=10\n",
      "likelihood ratio test: chi2=9.2718  , p=0.5065  , df=10\n",
      "parameter F test:         F=0.7487  , p=0.6765  , df_denom=69, df_num=10\n",
      "\n",
      "Granger Causality\n",
      "number of lags (no zero) 10\n",
      "ssr based F test:         F=0.5742  , p=0.8295  , df_denom=69, df_num=10\n",
      "ssr based chi2 test:   chi2=7.4893  , p=0.6786  , df=10\n",
      "likelihood ratio test: chi2=7.1940  , p=0.7070  , df=10\n",
      "parameter F test:         F=0.5742  , p=0.8295  , df_denom=69, df_num=10\n",
      "\n",
      "Granger Causality\n",
      "number of lags (no zero) 10\n",
      "ssr based F test:         F=1.4259  , p=0.1875  , df_denom=69, df_num=10\n",
      "ssr based chi2 test:   chi2=18.5991 , p=0.0457  , df=10\n",
      "likelihood ratio test: chi2=16.9068 , p=0.0765  , df=10\n",
      "parameter F test:         F=1.4259  , p=0.1875  , df_denom=69, df_num=10\n",
      "\n",
      "Granger Causality\n",
      "number of lags (no zero) 10\n",
      "ssr based F test:         F=0.8667  , p=0.5679  , df_denom=69, df_num=10\n",
      "ssr based chi2 test:   chi2=11.3047 , p=0.3343  , df=10\n",
      "likelihood ratio test: chi2=10.6491 , p=0.3855  , df=10\n",
      "parameter F test:         F=0.8667  , p=0.5679  , df_denom=69, df_num=10\n",
      "\n",
      "Granger Causality\n",
      "number of lags (no zero) 10\n",
      "ssr based F test:         F=0.8419  , p=0.5905  , df_denom=69, df_num=10\n",
      "ssr based chi2 test:   chi2=10.9811 , p=0.3590  , df=10\n",
      "likelihood ratio test: chi2=10.3612 , p=0.4094  , df=10\n",
      "parameter F test:         F=0.8419  , p=0.5905  , df_denom=69, df_num=10\n",
      "\n",
      "Granger Causality\n",
      "number of lags (no zero) 10\n",
      "ssr based F test:         F=0.7946  , p=0.6340  , df_denom=69, df_num=10\n",
      "ssr based chi2 test:   chi2=10.3644 , p=0.4091  , df=10\n",
      "likelihood ratio test: chi2=9.8098  , p=0.4573  , df=10\n",
      "parameter F test:         F=0.7946  , p=0.6340  , df_denom=69, df_num=10\n",
      "\n",
      "Granger Causality\n",
      "number of lags (no zero) 10\n",
      "ssr based F test:         F=0.4496  , p=0.9161  , df_denom=69, df_num=10\n",
      "ssr based chi2 test:   chi2=5.8641  , p=0.8265  , df=10\n",
      "likelihood ratio test: chi2=5.6810  , p=0.8413  , df=10\n",
      "parameter F test:         F=0.4496  , p=0.9161  , df_denom=69, df_num=10\n",
      "\n",
      "Granger Causality\n",
      "number of lags (no zero) 10\n",
      "ssr based F test:         F=1.6766  , p=0.1040  , df_denom=69, df_num=10\n",
      "ssr based chi2 test:   chi2=21.8690 , p=0.0158  , df=10\n",
      "likelihood ratio test: chi2=19.5767 , p=0.0335  , df=10\n",
      "parameter F test:         F=1.6766  , p=0.1040  , df_denom=69, df_num=10\n",
      "\n",
      "Granger Causality\n",
      "number of lags (no zero) 10\n",
      "ssr based F test:         F=0.5377  , p=0.8575  , df_denom=69, df_num=10\n",
      "ssr based chi2 test:   chi2=7.0133  , p=0.7242  , df=10\n",
      "likelihood ratio test: chi2=6.7534  , p=0.7485  , df=10\n",
      "parameter F test:         F=0.5377  , p=0.8575  , df_denom=69, df_num=10\n",
      "\n",
      "Granger Causality\n",
      "number of lags (no zero) 10\n",
      "ssr based F test:         F=2.0120  , p=0.0450  , df_denom=69, df_num=10\n",
      "ssr based chi2 test:   chi2=26.2438 , p=0.0034  , df=10\n",
      "likelihood ratio test: chi2=23.0292 , p=0.0106  , df=10\n",
      "parameter F test:         F=2.0120  , p=0.0450  , df_denom=69, df_num=10\n",
      "\n",
      "Granger Causality\n",
      "number of lags (no zero) 10\n",
      "ssr based F test:         F=1.0679  , p=0.3986  , df_denom=69, df_num=10\n",
      "ssr based chi2 test:   chi2=13.9295 , p=0.1762  , df=10\n",
      "likelihood ratio test: chi2=12.9513 , p=0.2264  , df=10\n",
      "parameter F test:         F=1.0679  , p=0.3986  , df_denom=69, df_num=10\n",
      "\n",
      "Granger Causality\n",
      "number of lags (no zero) 10\n",
      "ssr based F test:         F=0.5147  , p=0.8741  , df_denom=69, df_num=10\n",
      "ssr based chi2 test:   chi2=6.7134  , p=0.7522  , df=10\n",
      "likelihood ratio test: chi2=6.4748  , p=0.7739  , df=10\n",
      "parameter F test:         F=0.5147  , p=0.8741  , df_denom=69, df_num=10\n",
      "\n",
      "Granger Causality\n",
      "number of lags (no zero) 10\n",
      "ssr based F test:         F=1.0023  , p=0.4504  , df_denom=69, df_num=10\n",
      "ssr based chi2 test:   chi2=13.0730 , p=0.2196  , df=10\n",
      "likelihood ratio test: chi2=12.2065 , p=0.2715  , df=10\n",
      "parameter F test:         F=1.0023  , p=0.4504  , df_denom=69, df_num=10\n",
      "\n",
      "Granger Causality\n",
      "number of lags (no zero) 10\n",
      "ssr based F test:         F=0.5770  , p=0.8272  , df_denom=69, df_num=10\n",
      "ssr based chi2 test:   chi2=7.5255  , p=0.6751  , df=10\n",
      "likelihood ratio test: chi2=7.2274  , p=0.7038  , df=10\n",
      "parameter F test:         F=0.5770  , p=0.8272  , df_denom=69, df_num=10\n",
      "\n",
      "Granger Causality\n",
      "number of lags (no zero) 10\n",
      "ssr based F test:         F=1.5843  , p=0.1298  , df_denom=69, df_num=10\n",
      "ssr based chi2 test:   chi2=20.6642 , p=0.0236  , df=10\n",
      "likelihood ratio test: chi2=18.6022 , p=0.0456  , df=10\n",
      "parameter F test:         F=1.5843  , p=0.1298  , df_denom=69, df_num=10\n",
      "\n",
      "Granger Causality\n",
      "number of lags (no zero) 10\n",
      "ssr based F test:         F=0.8937  , p=0.5436  , df_denom=69, df_num=10\n",
      "ssr based chi2 test:   chi2=11.6571 , p=0.3087  , df=10\n",
      "likelihood ratio test: chi2=10.9616 , p=0.3605  , df=10\n",
      "parameter F test:         F=0.8937  , p=0.5436  , df_denom=69, df_num=10\n",
      "\n",
      "Granger Causality\n",
      "number of lags (no zero) 10\n",
      "ssr based F test:         F=1.0762  , p=0.3923  , df_denom=69, df_num=10\n",
      "ssr based chi2 test:   chi2=14.0380 , p=0.1713  , df=10\n",
      "likelihood ratio test: chi2=13.0452 , p=0.2212  , df=10\n",
      "parameter F test:         F=1.0762  , p=0.3923  , df_denom=69, df_num=10\n",
      "\n",
      "Granger Causality\n",
      "number of lags (no zero) 10\n",
      "ssr based F test:         F=0.7788  , p=0.6486  , df_denom=69, df_num=10\n",
      "ssr based chi2 test:   chi2=10.1589 , p=0.4267  , df=10\n",
      "likelihood ratio test: chi2=9.6253  , p=0.4740  , df=10\n",
      "parameter F test:         F=0.7788  , p=0.6486  , df_denom=69, df_num=10\n",
      "\n",
      "Granger Causality\n",
      "number of lags (no zero) 10\n",
      "ssr based F test:         F=1.5158  , p=0.1525  , df_denom=69, df_num=10\n",
      "ssr based chi2 test:   chi2=19.7716 , p=0.0315  , df=10\n",
      "likelihood ratio test: chi2=17.8733 , p=0.0571  , df=10\n",
      "parameter F test:         F=1.5158  , p=0.1525  , df_denom=69, df_num=10\n",
      "\n",
      "Granger Causality\n",
      "number of lags (no zero) 10\n",
      "ssr based F test:         F=0.9057  , p=0.5329  , df_denom=69, df_num=10\n",
      "ssr based chi2 test:   chi2=11.8141 , p=0.2977  , df=10\n",
      "likelihood ratio test: chi2=11.1005 , p=0.3497  , df=10\n",
      "parameter F test:         F=0.9057  , p=0.5329  , df_denom=69, df_num=10\n",
      "\n",
      "Granger Causality\n",
      "number of lags (no zero) 10\n",
      "ssr based F test:         F=1.1905  , p=0.3125  , df_denom=69, df_num=10\n",
      "ssr based chi2 test:   chi2=15.5289 , p=0.1139  , df=10\n",
      "likelihood ratio test: chi2=14.3257 , p=0.1586  , df=10\n",
      "parameter F test:         F=1.1905  , p=0.3125  , df_denom=69, df_num=10\n",
      "\n",
      "Granger Causality\n",
      "number of lags (no zero) 10\n",
      "ssr based F test:         F=1.4815  , p=0.1651  , df_denom=69, df_num=10\n",
      "ssr based chi2 test:   chi2=19.3234 , p=0.0363  , df=10\n",
      "likelihood ratio test: chi2=17.5051 , p=0.0639  , df=10\n",
      "parameter F test:         F=1.4815  , p=0.1651  , df_denom=69, df_num=10\n",
      "\n",
      "Granger Causality\n",
      "number of lags (no zero) 10\n",
      "ssr based F test:         F=0.8113  , p=0.6186  , df_denom=69, df_num=10\n",
      "ssr based chi2 test:   chi2=10.5827 , p=0.3909  , df=10\n",
      "likelihood ratio test: chi2=10.0053 , p=0.4400  , df=10\n",
      "parameter F test:         F=0.8113  , p=0.6186  , df_denom=69, df_num=10\n",
      "\n",
      "Granger Causality\n",
      "number of lags (no zero) 10\n",
      "ssr based F test:         F=0.4885  , p=0.8919  , df_denom=69, df_num=10\n",
      "ssr based chi2 test:   chi2=6.3723  , p=0.7831  , df=10\n",
      "likelihood ratio test: chi2=6.1568  , p=0.8019  , df=10\n",
      "parameter F test:         F=0.4885  , p=0.8919  , df_denom=69, df_num=10\n",
      "\n",
      "Granger Causality\n",
      "number of lags (no zero) 10\n",
      "ssr based F test:         F=0.6629  , p=0.7545  , df_denom=69, df_num=10\n",
      "ssr based chi2 test:   chi2=8.6466  , p=0.5659  , df=10\n",
      "likelihood ratio test: chi2=8.2561  , p=0.6038  , df=10\n",
      "parameter F test:         F=0.6629  , p=0.7545  , df_denom=69, df_num=10\n",
      "\n",
      "Granger Causality\n",
      "number of lags (no zero) 10\n",
      "ssr based F test:         F=1.1148  , p=0.3640  , df_denom=69, df_num=10\n",
      "ssr based chi2 test:   chi2=14.5403 , p=0.1497  , df=10\n",
      "likelihood ratio test: chi2=13.4787 , p=0.1981  , df=10\n",
      "parameter F test:         F=1.1148  , p=0.3640  , df_denom=69, df_num=10\n",
      "\n",
      "Granger Causality\n",
      "number of lags (no zero) 10\n",
      "ssr based F test:         F=1.1450  , p=0.3428  , df_denom=69, df_num=10\n",
      "ssr based chi2 test:   chi2=14.9344 , p=0.1345  , df=10\n",
      "likelihood ratio test: chi2=13.8173 , p=0.1815  , df=10\n",
      "parameter F test:         F=1.1450  , p=0.3428  , df_denom=69, df_num=10\n",
      "\n",
      "Granger Causality\n",
      "number of lags (no zero) 10\n",
      "ssr based F test:         F=1.2399  , p=0.2820  , df_denom=69, df_num=10\n",
      "ssr based chi2 test:   chi2=16.1731 , p=0.0948  , df=10\n",
      "likelihood ratio test: chi2=14.8735 , p=0.1367  , df=10\n",
      "parameter F test:         F=1.2399  , p=0.2820  , df_denom=69, df_num=10\n",
      "\n",
      "Granger Causality\n",
      "number of lags (no zero) 10\n",
      "ssr based F test:         F=1.0682  , p=0.3984  , df_denom=69, df_num=10\n",
      "ssr based chi2 test:   chi2=13.9331 , p=0.1761  , df=10\n",
      "likelihood ratio test: chi2=12.9544 , p=0.2262  , df=10\n",
      "parameter F test:         F=1.0682  , p=0.3984  , df_denom=69, df_num=10\n",
      "\n",
      "Granger Causality\n",
      "number of lags (no zero) 10\n",
      "ssr based F test:         F=2.4475  , p=0.0145  , df_denom=69, df_num=10\n",
      "ssr based chi2 test:   chi2=31.9234 , p=0.0004  , df=10\n",
      "likelihood ratio test: chi2=27.3225 , p=0.0023  , df=10\n",
      "parameter F test:         F=2.4475  , p=0.0145  , df_denom=69, df_num=10\n",
      "\n",
      "Granger Causality\n",
      "number of lags (no zero) 10\n",
      "ssr based F test:         F=0.8550  , p=0.5785  , df_denom=69, df_num=10\n",
      "ssr based chi2 test:   chi2=11.1522 , p=0.3458  , df=10\n",
      "likelihood ratio test: chi2=10.5135 , p=0.3967  , df=10\n",
      "parameter F test:         F=0.8550  , p=0.5785  , df_denom=69, df_num=10\n",
      "\n",
      "Granger Causality\n",
      "number of lags (no zero) 10\n",
      "ssr based F test:         F=0.9559  , p=0.4892  , df_denom=69, df_num=10\n",
      "ssr based chi2 test:   chi2=12.4677 , p=0.2550  , df=10\n",
      "likelihood ratio test: chi2=11.6764 , p=0.3073  , df=10\n",
      "parameter F test:         F=0.9559  , p=0.4892  , df_denom=69, df_num=10\n",
      "\n",
      "Granger Causality\n",
      "number of lags (no zero) 10\n",
      "ssr based F test:         F=0.7605  , p=0.6656  , df_denom=69, df_num=10\n",
      "ssr based chi2 test:   chi2=9.9200  , p=0.4475  , df=10\n",
      "likelihood ratio test: chi2=9.4104  , p=0.4936  , df=10\n",
      "parameter F test:         F=0.7605  , p=0.6656  , df_denom=69, df_num=10\n",
      "\n",
      "Granger Causality\n",
      "number of lags (no zero) 10\n",
      "ssr based F test:         F=0.7886  , p=0.6396  , df_denom=69, df_num=10\n",
      "ssr based chi2 test:   chi2=10.2863 , p=0.4157  , df=10\n",
      "likelihood ratio test: chi2=9.7397  , p=0.4636  , df=10\n",
      "parameter F test:         F=0.7886  , p=0.6396  , df_denom=69, df_num=10\n",
      "\n",
      "Granger Causality\n",
      "number of lags (no zero) 10\n",
      "ssr based F test:         F=1.0188  , p=0.4370  , df_denom=69, df_num=10\n",
      "ssr based chi2 test:   chi2=13.2891 , p=0.2080  , df=10\n",
      "likelihood ratio test: chi2=12.3950 , p=0.2595  , df=10\n",
      "parameter F test:         F=1.0188  , p=0.4370  , df_denom=69, df_num=10\n",
      "\n",
      "Granger Causality\n",
      "number of lags (no zero) 10\n",
      "ssr based F test:         F=1.1175  , p=0.3621  , df_denom=69, df_num=10\n",
      "ssr based chi2 test:   chi2=14.5755 , p=0.1483  , df=10\n",
      "likelihood ratio test: chi2=13.5090 , p=0.1966  , df=10\n",
      "parameter F test:         F=1.1175  , p=0.3621  , df_denom=69, df_num=10\n",
      "\n",
      "Granger Causality\n",
      "number of lags (no zero) 10\n",
      "ssr based F test:         F=0.7424  , p=0.6823  , df_denom=69, df_num=10\n",
      "ssr based chi2 test:   chi2=9.6838  , p=0.4687  , df=10\n",
      "likelihood ratio test: chi2=9.1974  , p=0.5135  , df=10\n",
      "parameter F test:         F=0.7424  , p=0.6823  , df_denom=69, df_num=10\n",
      "\n",
      "Granger Causality\n",
      "number of lags (no zero) 10\n",
      "ssr based F test:         F=1.1776  , p=0.3209  , df_denom=69, df_num=10\n",
      "ssr based chi2 test:   chi2=15.3599 , p=0.1195  , df=10\n",
      "likelihood ratio test: chi2=14.1815 , p=0.1649  , df=10\n",
      "parameter F test:         F=1.1776  , p=0.3209  , df_denom=69, df_num=10\n",
      "\n",
      "Granger Causality\n",
      "number of lags (no zero) 10\n",
      "ssr based F test:         F=0.6835  , p=0.7360  , df_denom=69, df_num=10\n",
      "ssr based chi2 test:   chi2=8.9157  , p=0.5401  , df=10\n",
      "likelihood ratio test: chi2=8.5013  , p=0.5800  , df=10\n",
      "parameter F test:         F=0.6835  , p=0.7360  , df_denom=69, df_num=10\n",
      "\n",
      "Granger Causality\n",
      "number of lags (no zero) 10\n",
      "ssr based F test:         F=1.2704  , p=0.2643  , df_denom=69, df_num=10\n",
      "ssr based chi2 test:   chi2=16.5702 , p=0.0844  , df=10\n",
      "likelihood ratio test: chi2=15.2095 , p=0.1246  , df=10\n",
      "parameter F test:         F=1.2704  , p=0.2643  , df_denom=69, df_num=10\n",
      "\n",
      "Granger Causality\n",
      "number of lags (no zero) 10\n",
      "ssr based F test:         F=1.0129  , p=0.4418  , df_denom=69, df_num=10\n",
      "ssr based chi2 test:   chi2=13.2115 , p=0.2121  , df=10\n",
      "likelihood ratio test: chi2=12.3273 , p=0.2637  , df=10\n",
      "parameter F test:         F=1.0129  , p=0.4418  , df_denom=69, df_num=10\n",
      "\n",
      "Granger Causality\n",
      "number of lags (no zero) 10\n",
      "ssr based F test:         F=0.6958  , p=0.7250  , df_denom=69, df_num=10\n",
      "ssr based chi2 test:   chi2=9.0753  , p=0.5250  , df=10\n",
      "likelihood ratio test: chi2=8.6464  , p=0.5660  , df=10\n",
      "parameter F test:         F=0.6958  , p=0.7250  , df_denom=69, df_num=10\n",
      "\n",
      "Granger Causality\n",
      "number of lags (no zero) 10\n",
      "ssr based F test:         F=0.8409  , p=0.5913  , df_denom=69, df_num=10\n",
      "ssr based chi2 test:   chi2=10.9687 , p=0.3600  , df=10\n",
      "likelihood ratio test: chi2=10.3501 , p=0.4103  , df=10\n",
      "parameter F test:         F=0.8409  , p=0.5913  , df_denom=69, df_num=10\n",
      "\n",
      "Granger Causality\n",
      "number of lags (no zero) 10\n",
      "ssr based F test:         F=1.1811  , p=0.3186  , df_denom=69, df_num=10\n",
      "ssr based chi2 test:   chi2=15.4062 , p=0.1179  , df=10\n",
      "likelihood ratio test: chi2=14.2211 , p=0.1631  , df=10\n",
      "parameter F test:         F=1.1811  , p=0.3186  , df_denom=69, df_num=10\n",
      "\n",
      "Granger Causality\n",
      "number of lags (no zero) 10\n",
      "ssr based F test:         F=0.4844  , p=0.8946  , df_denom=69, df_num=10\n",
      "ssr based chi2 test:   chi2=6.3188  , p=0.7878  , df=10\n",
      "likelihood ratio test: chi2=6.1069  , p=0.8062  , df=10\n",
      "parameter F test:         F=0.4844  , p=0.8946  , df_denom=69, df_num=10\n",
      "\n",
      "Granger Causality\n",
      "number of lags (no zero) 10\n",
      "ssr based F test:         F=0.9321  , p=0.5097  , df_denom=69, df_num=10\n",
      "ssr based chi2 test:   chi2=12.1582 , p=0.2746  , df=10\n",
      "likelihood ratio test: chi2=11.4042 , p=0.3269  , df=10\n",
      "parameter F test:         F=0.9321  , p=0.5097  , df_denom=69, df_num=10\n",
      "\n",
      "Granger Causality\n",
      "number of lags (no zero) 10\n",
      "ssr based F test:         F=1.1961  , p=0.3090  , df_denom=69, df_num=10\n",
      "ssr based chi2 test:   chi2=15.6015 , p=0.1116  , df=10\n",
      "likelihood ratio test: chi2=14.3877 , p=0.1560  , df=10\n",
      "parameter F test:         F=1.1961  , p=0.3090  , df_denom=69, df_num=10\n",
      "\n",
      "Granger Causality\n",
      "number of lags (no zero) 10\n",
      "ssr based F test:         F=0.7155  , p=0.7070  , df_denom=69, df_num=10\n",
      "ssr based chi2 test:   chi2=9.3331  , p=0.5008  , df=10\n",
      "likelihood ratio test: chi2=8.8802  , p=0.5435  , df=10\n",
      "parameter F test:         F=0.7155  , p=0.7070  , df_denom=69, df_num=10\n",
      "\n",
      "Granger Causality\n",
      "number of lags (no zero) 10\n",
      "ssr based F test:         F=0.7975  , p=0.6313  , df_denom=69, df_num=10\n",
      "ssr based chi2 test:   chi2=10.4024 , p=0.4059  , df=10\n",
      "likelihood ratio test: chi2=9.8439  , p=0.4543  , df=10\n",
      "parameter F test:         F=0.7975  , p=0.6313  , df_denom=69, df_num=10\n",
      "\n",
      "Granger Causality\n",
      "number of lags (no zero) 10\n",
      "ssr based F test:         F=1.2006  , p=0.3061  , df_denom=69, df_num=10\n",
      "ssr based chi2 test:   chi2=15.6600 , p=0.1098  , df=10\n",
      "likelihood ratio test: chi2=14.4375 , p=0.1540  , df=10\n",
      "parameter F test:         F=1.2006  , p=0.3061  , df_denom=69, df_num=10\n",
      "\n",
      "Granger Causality\n",
      "number of lags (no zero) 10\n",
      "ssr based F test:         F=0.7851  , p=0.6428  , df_denom=69, df_num=10\n",
      "ssr based chi2 test:   chi2=10.2402 , p=0.4197  , df=10\n",
      "likelihood ratio test: chi2=9.6984  , p=0.4673  , df=10\n",
      "parameter F test:         F=0.7851  , p=0.6428  , df_denom=69, df_num=10\n",
      "\n",
      "Granger Causality\n",
      "number of lags (no zero) 10\n",
      "ssr based F test:         F=0.7032  , p=0.7182  , df_denom=69, df_num=10\n",
      "ssr based chi2 test:   chi2=9.1722  , p=0.5158  , df=10\n",
      "likelihood ratio test: chi2=8.7344  , p=0.5575  , df=10\n",
      "parameter F test:         F=0.7032  , p=0.7182  , df_denom=69, df_num=10\n",
      "\n",
      "Granger Causality\n",
      "number of lags (no zero) 10\n",
      "ssr based F test:         F=1.9807  , p=0.0488  , df_denom=69, df_num=10\n",
      "ssr based chi2 test:   chi2=25.8357 , p=0.0040  , df=10\n",
      "likelihood ratio test: chi2=22.7127 , p=0.0119  , df=10\n",
      "parameter F test:         F=1.9807  , p=0.0488  , df_denom=69, df_num=10\n",
      "\n",
      "Granger Causality\n",
      "number of lags (no zero) 10\n",
      "ssr based F test:         F=0.5961  , p=0.8118  , df_denom=69, df_num=10\n",
      "ssr based chi2 test:   chi2=7.7746  , p=0.6508  , df=10\n",
      "likelihood ratio test: chi2=7.4569  , p=0.6817  , df=10\n",
      "parameter F test:         F=0.5961  , p=0.8118  , df_denom=69, df_num=10\n",
      "\n",
      "Granger Causality\n",
      "number of lags (no zero) 10\n",
      "ssr based F test:         F=1.6096  , p=0.1222  , df_denom=69, df_num=10\n",
      "ssr based chi2 test:   chi2=20.9946 , p=0.0211  , df=10\n",
      "likelihood ratio test: chi2=18.8705 , p=0.0419  , df=10\n",
      "parameter F test:         F=1.6096  , p=0.1222  , df_denom=69, df_num=10\n",
      "\n",
      "Granger Causality\n",
      "number of lags (no zero) 10\n",
      "ssr based F test:         F=0.4120  , p=0.9364  , df_denom=69, df_num=10\n",
      "ssr based chi2 test:   chi2=5.3736  , p=0.8649  , df=10\n",
      "likelihood ratio test: chi2=5.2193  , p=0.8761  , df=10\n",
      "parameter F test:         F=0.4120  , p=0.9364  , df_denom=69, df_num=10\n",
      "\n",
      "Granger Causality\n",
      "number of lags (no zero) 10\n",
      "ssr based F test:         F=2.0250  , p=0.0436  , df_denom=69, df_num=10\n",
      "ssr based chi2 test:   chi2=26.4131 , p=0.0032  , df=10\n",
      "likelihood ratio test: chi2=23.1602 , p=0.0102  , df=10\n",
      "parameter F test:         F=2.0250  , p=0.0436  , df_denom=69, df_num=10\n",
      "\n",
      "Granger Causality\n",
      "number of lags (no zero) 10\n",
      "ssr based F test:         F=1.0768  , p=0.3919  , df_denom=69, df_num=10\n",
      "ssr based chi2 test:   chi2=14.0456 , p=0.1709  , df=10\n",
      "likelihood ratio test: chi2=13.0518 , p=0.2208  , df=10\n",
      "parameter F test:         F=1.0768  , p=0.3919  , df_denom=69, df_num=10\n",
      "\n",
      "Granger Causality\n",
      "number of lags (no zero) 10\n",
      "ssr based F test:         F=1.6301  , p=0.1163  , df_denom=69, df_num=10\n",
      "ssr based chi2 test:   chi2=21.2621 , p=0.0193  , df=10\n",
      "likelihood ratio test: chi2=19.0871 , p=0.0392  , df=10\n",
      "parameter F test:         F=1.6301  , p=0.1163  , df_denom=69, df_num=10\n",
      "\n",
      "Granger Causality\n",
      "number of lags (no zero) 10\n",
      "ssr based F test:         F=0.6042  , p=0.8051  , df_denom=69, df_num=10\n",
      "ssr based chi2 test:   chi2=7.8803  , p=0.6405  , df=10\n",
      "likelihood ratio test: chi2=7.5542  , p=0.6723  , df=10\n",
      "parameter F test:         F=0.6042  , p=0.8051  , df_denom=69, df_num=10\n",
      "\n",
      "Granger Causality\n",
      "number of lags (no zero) 10\n",
      "ssr based F test:         F=0.2034  , p=0.9953  , df_denom=69, df_num=10\n",
      "ssr based chi2 test:   chi2=2.6537  , p=0.9884  , df=10\n",
      "likelihood ratio test: chi2=2.6153  , p=0.9891  , df=10\n",
      "parameter F test:         F=0.2034  , p=0.9953  , df_denom=69, df_num=10\n",
      "\n",
      "Granger Causality\n",
      "number of lags (no zero) 10\n",
      "ssr based F test:         F=0.7051  , p=0.7165  , df_denom=69, df_num=10\n",
      "ssr based chi2 test:   chi2=9.1969  , p=0.5135  , df=10\n",
      "likelihood ratio test: chi2=8.7567  , p=0.5553  , df=10\n",
      "parameter F test:         F=0.7051  , p=0.7165  , df_denom=69, df_num=10\n",
      "\n",
      "Granger Causality\n",
      "number of lags (no zero) 10\n",
      "ssr based F test:         F=0.4383  , p=0.9225  , df_denom=69, df_num=10\n",
      "ssr based chi2 test:   chi2=5.7173  , p=0.8384  , df=10\n",
      "likelihood ratio test: chi2=5.5431  , p=0.8521  , df=10\n",
      "parameter F test:         F=0.4383  , p=0.9225  , df_denom=69, df_num=10\n",
      "\n",
      "Granger Causality\n",
      "number of lags (no zero) 10\n",
      "ssr based F test:         F=2.0855  , p=0.0373  , df_denom=69, df_num=10\n",
      "ssr based chi2 test:   chi2=27.2021 , p=0.0024  , df=10\n",
      "likelihood ratio test: chi2=23.7681 , p=0.0082  , df=10\n",
      "parameter F test:         F=2.0855  , p=0.0373  , df_denom=69, df_num=10\n",
      "\n",
      "Granger Causality\n",
      "number of lags (no zero) 10\n",
      "ssr based F test:         F=0.9356  , p=0.5067  , df_denom=69, df_num=10\n",
      "ssr based chi2 test:   chi2=12.2031 , p=0.2717  , df=10\n",
      "likelihood ratio test: chi2=11.4437 , p=0.3240  , df=10\n",
      "parameter F test:         F=0.9356  , p=0.5067  , df_denom=69, df_num=10\n",
      "\n",
      "Granger Causality\n",
      "number of lags (no zero) 10\n",
      "ssr based F test:         F=1.2965  , p=0.2499  , df_denom=69, df_num=10\n",
      "ssr based chi2 test:   chi2=16.9112 , p=0.0764  , df=10\n",
      "likelihood ratio test: chi2=15.4970 , p=0.1150  , df=10\n",
      "parameter F test:         F=1.2965  , p=0.2499  , df_denom=69, df_num=10\n",
      "\n",
      "Granger Causality\n",
      "number of lags (no zero) 10\n",
      "ssr based F test:         F=1.3829  , p=0.2066  , df_denom=69, df_num=10\n",
      "ssr based chi2 test:   chi2=18.0381 , p=0.0543  , df=10\n",
      "likelihood ratio test: chi2=16.4407 , p=0.0877  , df=10\n",
      "parameter F test:         F=1.3829  , p=0.2066  , df_denom=69, df_num=10\n",
      "\n",
      "Granger Causality\n",
      "number of lags (no zero) 10\n",
      "ssr based F test:         F=0.9279  , p=0.5134  , df_denom=69, df_num=10\n",
      "ssr based chi2 test:   chi2=12.1025 , p=0.2783  , df=10\n",
      "likelihood ratio test: chi2=11.3551 , p=0.3305  , df=10\n",
      "parameter F test:         F=0.9279  , p=0.5134  , df_denom=69, df_num=10\n",
      "\n",
      "Granger Causality\n",
      "number of lags (no zero) 10\n",
      "ssr based F test:         F=1.2963  , p=0.2500  , df_denom=69, df_num=10\n",
      "ssr based chi2 test:   chi2=16.9080 , p=0.0764  , df=10\n",
      "likelihood ratio test: chi2=15.4943 , p=0.1151  , df=10\n",
      "parameter F test:         F=1.2963  , p=0.2500  , df_denom=69, df_num=10\n",
      "\n",
      "Granger Causality\n",
      "number of lags (no zero) 10\n",
      "ssr based F test:         F=0.6569  , p=0.7598  , df_denom=69, df_num=10\n",
      "ssr based chi2 test:   chi2=8.5685  , p=0.5735  , df=10\n",
      "likelihood ratio test: chi2=8.1848  , p=0.6108  , df=10\n",
      "parameter F test:         F=0.6569  , p=0.7598  , df_denom=69, df_num=10\n",
      "\n",
      "Granger Causality\n",
      "number of lags (no zero) 10\n",
      "ssr based F test:         F=0.6083  , p=0.8016  , df_denom=69, df_num=10\n",
      "ssr based chi2 test:   chi2=7.9346  , p=0.6352  , df=10\n",
      "likelihood ratio test: chi2=7.6041  , p=0.6674  , df=10\n",
      "parameter F test:         F=0.6083  , p=0.8016  , df_denom=69, df_num=10\n",
      "\n",
      "Granger Causality\n",
      "number of lags (no zero) 10\n",
      "ssr based F test:         F=0.9786  , p=0.4700  , df_denom=69, df_num=10\n",
      "ssr based chi2 test:   chi2=12.7642 , p=0.2372  , df=10\n",
      "likelihood ratio test: chi2=11.9365 , p=0.2893  , df=10\n",
      "parameter F test:         F=0.9786  , p=0.4700  , df_denom=69, df_num=10\n",
      "\n",
      "Granger Causality\n",
      "number of lags (no zero) 10\n",
      "ssr based F test:         F=0.7023  , p=0.7191  , df_denom=69, df_num=10\n",
      "ssr based chi2 test:   chi2=9.1603  , p=0.5170  , df=10\n",
      "likelihood ratio test: chi2=8.7235  , p=0.5585  , df=10\n",
      "parameter F test:         F=0.7023  , p=0.7191  , df_denom=69, df_num=10\n",
      "\n",
      "Granger Causality\n",
      "number of lags (no zero) 10\n",
      "ssr based F test:         F=0.3889  , p=0.9474  , df_denom=69, df_num=10\n",
      "ssr based chi2 test:   chi2=5.0732  , p=0.8862  , df=10\n",
      "likelihood ratio test: chi2=4.9353  , p=0.8955  , df=10\n",
      "parameter F test:         F=0.3889  , p=0.9474  , df_denom=69, df_num=10\n",
      "\n",
      "Granger Causality\n",
      "number of lags (no zero) 10\n",
      "ssr based F test:         F=1.0115  , p=0.4429  , df_denom=69, df_num=10\n",
      "ssr based chi2 test:   chi2=13.1936 , p=0.2130  , df=10\n",
      "likelihood ratio test: chi2=12.3118 , p=0.2647  , df=10\n",
      "parameter F test:         F=1.0115  , p=0.4429  , df_denom=69, df_num=10\n",
      "\n",
      "Granger Causality\n",
      "number of lags (no zero) 10\n",
      "ssr based F test:         F=1.3806  , p=0.2077  , df_denom=69, df_num=10\n",
      "ssr based chi2 test:   chi2=18.0083 , p=0.0548  , df=10\n",
      "likelihood ratio test: chi2=16.4159 , p=0.0883  , df=10\n",
      "parameter F test:         F=1.3806  , p=0.2077  , df_denom=69, df_num=10\n",
      "\n",
      "Granger Causality\n",
      "number of lags (no zero) 10\n",
      "ssr based F test:         F=1.3253  , p=0.2347  , df_denom=69, df_num=10\n",
      "ssr based chi2 test:   chi2=17.2865 , p=0.0683  , df=10\n",
      "likelihood ratio test: chi2=15.8124 , p=0.1051  , df=10\n",
      "parameter F test:         F=1.3253  , p=0.2347  , df_denom=69, df_num=10\n",
      "\n",
      "Granger Causality\n",
      "number of lags (no zero) 10\n",
      "ssr based F test:         F=2.0442  , p=0.0415  , df_denom=69, df_num=10\n",
      "ssr based chi2 test:   chi2=26.6632 , p=0.0029  , df=10\n",
      "likelihood ratio test: chi2=23.3533 , p=0.0095  , df=10\n",
      "parameter F test:         F=2.0442  , p=0.0415  , df_denom=69, df_num=10\n",
      "\n",
      "Granger Causality\n",
      "number of lags (no zero) 10\n",
      "ssr based F test:         F=0.9175  , p=0.5225  , df_denom=69, df_num=10\n",
      "ssr based chi2 test:   chi2=11.9675 , p=0.2872  , df=10\n",
      "likelihood ratio test: chi2=11.2360 , p=0.3394  , df=10\n",
      "parameter F test:         F=0.9175  , p=0.5225  , df_denom=69, df_num=10\n",
      "\n",
      "Granger Causality\n",
      "number of lags (no zero) 10\n",
      "ssr based F test:         F=1.2887  , p=0.2541  , df_denom=69, df_num=10\n",
      "ssr based chi2 test:   chi2=16.8095 , p=0.0787  , df=10\n",
      "likelihood ratio test: chi2=15.4114 , p=0.1178  , df=10\n",
      "parameter F test:         F=1.2887  , p=0.2541  , df_denom=69, df_num=10\n",
      "\n",
      "Granger Causality\n",
      "number of lags (no zero) 10\n",
      "ssr based F test:         F=1.1389  , p=0.3470  , df_denom=69, df_num=10\n",
      "ssr based chi2 test:   chi2=14.8551 , p=0.1374  , df=10\n",
      "likelihood ratio test: chi2=13.7493 , p=0.1847  , df=10\n",
      "parameter F test:         F=1.1389  , p=0.3470  , df_denom=69, df_num=10\n",
      "\n",
      "Granger Causality\n",
      "number of lags (no zero) 10\n",
      "ssr based F test:         F=0.7997  , p=0.6293  , df_denom=69, df_num=10\n",
      "ssr based chi2 test:   chi2=10.4313 , p=0.4035  , df=10\n",
      "likelihood ratio test: chi2=9.8698  , p=0.4520  , df=10\n",
      "parameter F test:         F=0.7997  , p=0.6293  , df_denom=69, df_num=10\n",
      "\n",
      "Granger Causality\n",
      "number of lags (no zero) 10\n",
      "ssr based F test:         F=0.6784  , p=0.7406  , df_denom=69, df_num=10\n",
      "ssr based chi2 test:   chi2=8.8490  , p=0.5465  , df=10\n",
      "likelihood ratio test: chi2=8.4405  , p=0.5859  , df=10\n",
      "parameter F test:         F=0.6784  , p=0.7406  , df_denom=69, df_num=10\n",
      "\n",
      "Granger Causality\n",
      "number of lags (no zero) 10\n",
      "ssr based F test:         F=2.1776  , p=0.0294  , df_denom=69, df_num=10\n",
      "ssr based chi2 test:   chi2=28.4032 , p=0.0016  , df=10\n",
      "likelihood ratio test: chi2=24.6857 , p=0.0060  , df=10\n",
      "parameter F test:         F=2.1776  , p=0.0294  , df_denom=69, df_num=10\n",
      "\n",
      "Granger Causality\n",
      "number of lags (no zero) 10\n",
      "ssr based F test:         F=0.8630  , p=0.5712  , df_denom=69, df_num=10\n",
      "ssr based chi2 test:   chi2=11.2570 , p=0.3378  , df=10\n",
      "likelihood ratio test: chi2=10.6067 , p=0.3890  , df=10\n",
      "parameter F test:         F=0.8630  , p=0.5712  , df_denom=69, df_num=10\n",
      "\n",
      "Granger Causality\n",
      "number of lags (no zero) 10\n",
      "ssr based F test:         F=1.3172  , p=0.2389  , df_denom=69, df_num=10\n",
      "ssr based chi2 test:   chi2=17.1813 , p=0.0704  , df=10\n",
      "likelihood ratio test: chi2=15.7241 , p=0.1078  , df=10\n",
      "parameter F test:         F=1.3172  , p=0.2389  , df_denom=69, df_num=10\n",
      "\n",
      "Granger Causality\n",
      "number of lags (no zero) 10\n",
      "ssr based F test:         F=0.8493  , p=0.5837  , df_denom=69, df_num=10\n",
      "ssr based chi2 test:   chi2=11.0783 , p=0.3514  , df=10\n",
      "likelihood ratio test: chi2=10.4478 , p=0.4021  , df=10\n",
      "parameter F test:         F=0.8493  , p=0.5837  , df_denom=69, df_num=10\n",
      "\n",
      "Granger Causality\n",
      "number of lags (no zero) 10\n",
      "ssr based F test:         F=0.8850  , p=0.5514  , df_denom=69, df_num=10\n",
      "ssr based chi2 test:   chi2=11.5434 , p=0.3168  , df=10\n",
      "likelihood ratio test: chi2=10.8609 , p=0.3685  , df=10\n",
      "parameter F test:         F=0.8850  , p=0.5514  , df_denom=69, df_num=10\n",
      "\n",
      "Granger Causality\n",
      "number of lags (no zero) 10\n",
      "ssr based F test:         F=0.7417  , p=0.6829  , df_denom=69, df_num=10\n",
      "ssr based chi2 test:   chi2=9.6749  , p=0.4695  , df=10\n",
      "likelihood ratio test: chi2=9.1894  , p=0.5142  , df=10\n",
      "parameter F test:         F=0.7417  , p=0.6829  , df_denom=69, df_num=10\n",
      "\n",
      "Granger Causality\n",
      "number of lags (no zero) 10\n",
      "ssr based F test:         F=1.5519  , p=0.1401  , df_denom=69, df_num=10\n",
      "ssr based chi2 test:   chi2=20.2421 , p=0.0270  , df=10\n",
      "likelihood ratio test: chi2=18.2582 , p=0.0508  , df=10\n",
      "parameter F test:         F=1.5519  , p=0.1401  , df_denom=69, df_num=10\n",
      "\n",
      "Granger Causality\n",
      "number of lags (no zero) 10\n",
      "ssr based F test:         F=0.2669  , p=0.9864  , df_denom=69, df_num=10\n",
      "ssr based chi2 test:   chi2=3.4816  , p=0.9677  , df=10\n",
      "likelihood ratio test: chi2=3.4159  , p=0.9699  , df=10\n",
      "parameter F test:         F=0.2669  , p=0.9864  , df_denom=69, df_num=10\n",
      "\n",
      "Granger Causality\n",
      "number of lags (no zero) 10\n",
      "ssr based F test:         F=1.8726  , p=0.0641  , df_denom=69, df_num=10\n",
      "ssr based chi2 test:   chi2=24.4250 , p=0.0065  , df=10\n",
      "likelihood ratio test: chi2=21.6099 , p=0.0172  , df=10\n",
      "parameter F test:         F=1.8726  , p=0.0641  , df_denom=69, df_num=10\n",
      "\n",
      "Granger Causality\n",
      "number of lags (no zero) 10\n",
      "ssr based F test:         F=1.2232  , p=0.2921  , df_denom=69, df_num=10\n",
      "ssr based chi2 test:   chi2=15.9548 , p=0.1009  , df=10\n",
      "likelihood ratio test: chi2=14.6883 , p=0.1438  , df=10\n",
      "parameter F test:         F=1.2232  , p=0.2921  , df_denom=69, df_num=10\n",
      "\n",
      "Granger Causality\n",
      "number of lags (no zero) 10\n",
      "ssr based F test:         F=0.9757  , p=0.4724  , df_denom=69, df_num=10\n",
      "ssr based chi2 test:   chi2=12.7271 , p=0.2393  , df=10\n",
      "likelihood ratio test: chi2=11.9039 , p=0.2915  , df=10\n",
      "parameter F test:         F=0.9757  , p=0.4724  , df_denom=69, df_num=10\n",
      "\n",
      "Granger Causality\n",
      "number of lags (no zero) 10\n",
      "ssr based F test:         F=0.7963  , p=0.6324  , df_denom=69, df_num=10\n",
      "ssr based chi2 test:   chi2=10.3870 , p=0.4072  , df=10\n",
      "likelihood ratio test: chi2=9.8301  , p=0.4555  , df=10\n",
      "parameter F test:         F=0.7963  , p=0.6324  , df_denom=69, df_num=10\n",
      "\n",
      "Granger Causality\n",
      "number of lags (no zero) 10\n",
      "ssr based F test:         F=2.5897  , p=0.0100  , df_denom=69, df_num=10\n",
      "ssr based chi2 test:   chi2=33.7792 , p=0.0002  , df=10\n",
      "likelihood ratio test: chi2=28.6820 , p=0.0014  , df=10\n",
      "parameter F test:         F=2.5897  , p=0.0100  , df_denom=69, df_num=10\n",
      "\n",
      "Granger Causality\n",
      "number of lags (no zero) 10\n",
      "ssr based F test:         F=0.9180  , p=0.5221  , df_denom=69, df_num=10\n",
      "ssr based chi2 test:   chi2=11.9736 , p=0.2868  , df=10\n",
      "likelihood ratio test: chi2=11.2414 , p=0.3390  , df=10\n",
      "parameter F test:         F=0.9180  , p=0.5221  , df_denom=69, df_num=10\n",
      "\n",
      "Granger Causality\n",
      "number of lags (no zero) 10\n",
      "ssr based F test:         F=2.2299  , p=0.0257  , df_denom=69, df_num=10\n",
      "ssr based chi2 test:   chi2=29.0861 , p=0.0012  , df=10\n",
      "likelihood ratio test: chi2=25.2034 , p=0.0050  , df=10\n",
      "parameter F test:         F=2.2299  , p=0.0257  , df_denom=69, df_num=10\n",
      "\n",
      "Granger Causality\n",
      "number of lags (no zero) 10\n",
      "ssr based F test:         F=0.5688  , p=0.8337  , df_denom=69, df_num=10\n",
      "ssr based chi2 test:   chi2=7.4188  , p=0.6854  , df=10\n",
      "likelihood ratio test: chi2=7.1289  , p=0.7132  , df=10\n",
      "parameter F test:         F=0.5688  , p=0.8337  , df_denom=69, df_num=10\n",
      "\n",
      "Granger Causality\n",
      "number of lags (no zero) 10\n",
      "ssr based F test:         F=1.0919  , p=0.3806  , df_denom=69, df_num=10\n",
      "ssr based chi2 test:   chi2=14.2423 , p=0.1622  , df=10\n",
      "likelihood ratio test: chi2=13.2217 , p=0.2115  , df=10\n",
      "parameter F test:         F=1.0919  , p=0.3806  , df_denom=69, df_num=10\n",
      "\n",
      "Granger Causality\n",
      "number of lags (no zero) 10\n",
      "ssr based F test:         F=0.6591  , p=0.7578  , df_denom=69, df_num=10\n",
      "ssr based chi2 test:   chi2=8.5969  , p=0.5707  , df=10\n",
      "likelihood ratio test: chi2=8.2107  , p=0.6083  , df=10\n",
      "parameter F test:         F=0.6591  , p=0.7578  , df_denom=69, df_num=10\n",
      "\n",
      "Granger Causality\n",
      "number of lags (no zero) 10\n",
      "ssr based F test:         F=0.8965  , p=0.5411  , df_denom=69, df_num=10\n",
      "ssr based chi2 test:   chi2=11.6940 , p=0.3061  , df=10\n",
      "likelihood ratio test: chi2=10.9943 , p=0.3580  , df=10\n",
      "parameter F test:         F=0.8965  , p=0.5411  , df_denom=69, df_num=10\n",
      "\n",
      "Granger Causality\n",
      "number of lags (no zero) 10\n",
      "ssr based F test:         F=0.4434  , p=0.9196  , df_denom=69, df_num=10\n",
      "ssr based chi2 test:   chi2=5.7835  , p=0.8331  , df=10\n",
      "likelihood ratio test: chi2=5.6052  , p=0.8473  , df=10\n",
      "parameter F test:         F=0.4434  , p=0.9196  , df_denom=69, df_num=10\n",
      "\n",
      "Granger Causality\n",
      "number of lags (no zero) 10\n",
      "ssr based F test:         F=0.6227  , p=0.7894  , df_denom=69, df_num=10\n",
      "ssr based chi2 test:   chi2=8.1222  , p=0.6169  , df=10\n",
      "likelihood ratio test: chi2=7.7764  , p=0.6507  , df=10\n",
      "parameter F test:         F=0.6227  , p=0.7894  , df_denom=69, df_num=10\n",
      "\n",
      "Granger Causality\n",
      "number of lags (no zero) 10\n",
      "ssr based F test:         F=0.8032  , p=0.6261  , df_denom=69, df_num=10\n",
      "ssr based chi2 test:   chi2=10.4763 , p=0.3997  , df=10\n",
      "likelihood ratio test: chi2=9.9101  , p=0.4484  , df=10\n",
      "parameter F test:         F=0.8032  , p=0.6261  , df_denom=69, df_num=10\n",
      "\n",
      "Granger Causality\n",
      "number of lags (no zero) 10\n",
      "ssr based F test:         F=0.8403  , p=0.5919  , df_denom=69, df_num=10\n",
      "ssr based chi2 test:   chi2=10.9604 , p=0.3606  , df=10\n",
      "likelihood ratio test: chi2=10.3427 , p=0.4110  , df=10\n",
      "parameter F test:         F=0.8403  , p=0.5919  , df_denom=69, df_num=10\n",
      "\n",
      "Granger Causality\n",
      "number of lags (no zero) 10\n",
      "ssr based F test:         F=1.7584  , p=0.0851  , df_denom=69, df_num=10\n",
      "ssr based chi2 test:   chi2=22.9361 , p=0.0110  , df=10\n",
      "likelihood ratio test: chi2=20.4311 , p=0.0254  , df=10\n",
      "parameter F test:         F=1.7584  , p=0.0851  , df_denom=69, df_num=10\n",
      "\n",
      "Granger Causality\n",
      "number of lags (no zero) 10\n",
      "ssr based F test:         F=1.2001  , p=0.3064  , df_denom=69, df_num=10\n",
      "ssr based chi2 test:   chi2=15.6534 , p=0.1100  , df=10\n",
      "likelihood ratio test: chi2=14.4319 , p=0.1542  , df=10\n",
      "parameter F test:         F=1.2001  , p=0.3064  , df_denom=69, df_num=10\n",
      "\n",
      "Granger Causality\n",
      "number of lags (no zero) 10\n",
      "ssr based F test:         F=0.4813  , p=0.8967  , df_denom=69, df_num=10\n",
      "ssr based chi2 test:   chi2=6.2777  , p=0.7914  , df=10\n",
      "likelihood ratio test: chi2=6.0684  , p=0.8095  , df=10\n",
      "parameter F test:         F=0.4813  , p=0.8967  , df_denom=69, df_num=10\n",
      "\n",
      "Granger Causality\n",
      "number of lags (no zero) 10\n",
      "ssr based F test:         F=0.3789  , p=0.9518  , df_denom=69, df_num=10\n",
      "ssr based chi2 test:   chi2=4.9423  , p=0.8950  , df=10\n",
      "likelihood ratio test: chi2=4.8114  , p=0.9034  , df=10\n",
      "parameter F test:         F=0.3789  , p=0.9518  , df_denom=69, df_num=10\n",
      "\n",
      "Granger Causality\n",
      "number of lags (no zero) 10\n",
      "ssr based F test:         F=1.0652  , p=0.4007  , df_denom=69, df_num=10\n",
      "ssr based chi2 test:   chi2=13.8938 , p=0.1779  , df=10\n",
      "likelihood ratio test: chi2=12.9204 , p=0.2282  , df=10\n",
      "parameter F test:         F=1.0652  , p=0.4007  , df_denom=69, df_num=10\n",
      "\n",
      "Granger Causality\n",
      "number of lags (no zero) 10\n",
      "ssr based F test:         F=1.4078  , p=0.1954  , df_denom=69, df_num=10\n",
      "ssr based chi2 test:   chi2=18.3629 , p=0.0491  , df=10\n",
      "likelihood ratio test: chi2=16.7109 , p=0.0810  , df=10\n",
      "parameter F test:         F=1.4078  , p=0.1954  , df_denom=69, df_num=10\n",
      "\n",
      "Granger Causality\n",
      "number of lags (no zero) 10\n",
      "ssr based F test:         F=1.4998  , p=0.1583  , df_denom=69, df_num=10\n",
      "ssr based chi2 test:   chi2=19.5625 , p=0.0337  , df=10\n",
      "likelihood ratio test: chi2=17.7017 , p=0.0602  , df=10\n",
      "parameter F test:         F=1.4998  , p=0.1583  , df_denom=69, df_num=10\n",
      "\n",
      "Granger Causality\n",
      "number of lags (no zero) 10\n",
      "ssr based F test:         F=0.5098  , p=0.8776  , df_denom=69, df_num=10\n",
      "ssr based chi2 test:   chi2=6.6489  , p=0.7581  , df=10\n",
      "likelihood ratio test: chi2=6.4148  , p=0.7793  , df=10\n",
      "parameter F test:         F=0.5098  , p=0.8776  , df_denom=69, df_num=10\n",
      "\n",
      "Granger Causality\n",
      "number of lags (no zero) 10\n",
      "ssr based F test:         F=0.9032  , p=0.5351  , df_denom=69, df_num=10\n",
      "ssr based chi2 test:   chi2=11.7811 , p=0.3000  , df=10\n",
      "likelihood ratio test: chi2=11.0714 , p=0.3520  , df=10\n",
      "parameter F test:         F=0.9032  , p=0.5351  , df_denom=69, df_num=10\n",
      "\n",
      "Granger Causality\n",
      "number of lags (no zero) 10\n",
      "ssr based F test:         F=1.7541  , p=0.0860  , df_denom=69, df_num=10\n",
      "ssr based chi2 test:   chi2=22.8801 , p=0.0112  , df=10\n",
      "likelihood ratio test: chi2=20.3864 , p=0.0258  , df=10\n",
      "parameter F test:         F=1.7541  , p=0.0860  , df_denom=69, df_num=10\n",
      "\n",
      "Granger Causality\n",
      "number of lags (no zero) 10\n",
      "ssr based F test:         F=0.6630  , p=0.7543  , df_denom=69, df_num=10\n",
      "ssr based chi2 test:   chi2=8.6483  , p=0.5658  , df=10\n",
      "likelihood ratio test: chi2=8.2576  , p=0.6037  , df=10\n",
      "parameter F test:         F=0.6630  , p=0.7543  , df_denom=69, df_num=10\n",
      "\n",
      "Granger Causality\n",
      "number of lags (no zero) 10\n",
      "ssr based F test:         F=0.1588  , p=0.9983  , df_denom=69, df_num=10\n",
      "ssr based chi2 test:   chi2=2.0708  , p=0.9958  , df=10\n",
      "likelihood ratio test: chi2=2.0473  , p=0.9960  , df=10\n",
      "parameter F test:         F=0.1588  , p=0.9983  , df_denom=69, df_num=10\n",
      "\n",
      "Granger Causality\n",
      "number of lags (no zero) 10\n",
      "ssr based F test:         F=1.0896  , p=0.3824  , df_denom=69, df_num=10\n",
      "ssr based chi2 test:   chi2=14.2117 , p=0.1636  , df=10\n",
      "likelihood ratio test: chi2=13.1953 , p=0.2130  , df=10\n",
      "parameter F test:         F=1.0896  , p=0.3824  , df_denom=69, df_num=10\n",
      "\n",
      "Granger Causality\n",
      "number of lags (no zero) 10\n",
      "ssr based F test:         F=1.3329  , p=0.2309  , df_denom=69, df_num=10\n",
      "ssr based chi2 test:   chi2=17.3853 , p=0.0663  , df=10\n",
      "likelihood ratio test: chi2=15.8952 , p=0.1027  , df=10\n",
      "parameter F test:         F=1.3329  , p=0.2309  , df_denom=69, df_num=10\n",
      "\n",
      "Granger Causality\n",
      "number of lags (no zero) 10\n",
      "ssr based F test:         F=1.3523  , p=0.2212  , df_denom=69, df_num=10\n",
      "ssr based chi2 test:   chi2=17.6385 , p=0.0614  , df=10\n",
      "likelihood ratio test: chi2=16.1072 , p=0.0966  , df=10\n",
      "parameter F test:         F=1.3523  , p=0.2212  , df_denom=69, df_num=10\n",
      "\n",
      "Granger Causality\n",
      "number of lags (no zero) 10\n",
      "ssr based F test:         F=0.7117  , p=0.7105  , df_denom=69, df_num=10\n",
      "ssr based chi2 test:   chi2=9.2826  , p=0.5055  , df=10\n",
      "likelihood ratio test: chi2=8.8345  , p=0.5479  , df=10\n",
      "parameter F test:         F=0.7117  , p=0.7105  , df_denom=69, df_num=10\n",
      "\n",
      "Granger Causality\n",
      "number of lags (no zero) 10\n",
      "ssr based F test:         F=1.5632  , p=0.1364  , df_denom=69, df_num=10\n",
      "ssr based chi2 test:   chi2=20.3896 , p=0.0258  , df=10\n",
      "likelihood ratio test: chi2=18.3785 , p=0.0489  , df=10\n",
      "parameter F test:         F=1.5632  , p=0.1364  , df_denom=69, df_num=10\n",
      "\n",
      "Granger Causality\n",
      "number of lags (no zero) 10\n",
      "ssr based F test:         F=0.7350  , p=0.6891  , df_denom=69, df_num=10\n",
      "ssr based chi2 test:   chi2=9.5871  , p=0.4774  , df=10\n",
      "likelihood ratio test: chi2=9.1100  , p=0.5217  , df=10\n",
      "parameter F test:         F=0.7350  , p=0.6891  , df_denom=69, df_num=10\n",
      "\n",
      "Granger Causality\n",
      "number of lags (no zero) 10\n",
      "ssr based F test:         F=0.9690  , p=0.4781  , df_denom=69, df_num=10\n",
      "ssr based chi2 test:   chi2=12.6387 , p=0.2446  , df=10\n",
      "likelihood ratio test: chi2=11.8265 , p=0.2968  , df=10\n",
      "parameter F test:         F=0.9690  , p=0.4781  , df_denom=69, df_num=10\n",
      "\n",
      "Granger Causality\n",
      "number of lags (no zero) 10\n",
      "ssr based F test:         F=1.4833  , p=0.1644  , df_denom=69, df_num=10\n",
      "ssr based chi2 test:   chi2=19.3475 , p=0.0361  , df=10\n",
      "likelihood ratio test: chi2=17.5249 , p=0.0635  , df=10\n",
      "parameter F test:         F=1.4833  , p=0.1644  , df_denom=69, df_num=10\n",
      "\n",
      "Granger Causality\n",
      "number of lags (no zero) 10\n",
      "ssr based F test:         F=0.5924  , p=0.8148  , df_denom=69, df_num=10\n",
      "ssr based chi2 test:   chi2=7.7270  , p=0.6555  , df=10\n",
      "likelihood ratio test: chi2=7.4131  , p=0.6860  , df=10\n",
      "parameter F test:         F=0.5924  , p=0.8148  , df_denom=69, df_num=10\n",
      "\n",
      "Granger Causality\n",
      "number of lags (no zero) 10\n",
      "ssr based F test:         F=0.7594  , p=0.6666  , df_denom=69, df_num=10\n",
      "ssr based chi2 test:   chi2=9.9048  , p=0.4489  , df=10\n",
      "likelihood ratio test: chi2=9.3967  , p=0.4949  , df=10\n",
      "parameter F test:         F=0.7594  , p=0.6666  , df_denom=69, df_num=10\n",
      "\n",
      "Granger Causality\n",
      "number of lags (no zero) 10\n",
      "ssr based F test:         F=0.3322  , p=0.9694  , df_denom=69, df_num=10\n",
      "ssr based chi2 test:   chi2=4.3331  , p=0.9311  , df=10\n",
      "likelihood ratio test: chi2=4.2320  , p=0.9363  , df=10\n",
      "parameter F test:         F=0.3322  , p=0.9694  , df_denom=69, df_num=10\n",
      "\n",
      "Granger Causality\n",
      "number of lags (no zero) 10\n",
      "ssr based F test:         F=1.0819  , p=0.3881  , df_denom=69, df_num=10\n",
      "ssr based chi2 test:   chi2=14.1115 , p=0.1680  , df=10\n",
      "likelihood ratio test: chi2=13.1088 , p=0.2177  , df=10\n",
      "parameter F test:         F=1.0819  , p=0.3881  , df_denom=69, df_num=10\n",
      "\n",
      "Granger Causality\n",
      "number of lags (no zero) 10\n",
      "ssr based F test:         F=0.9051  , p=0.5335  , df_denom=69, df_num=10\n",
      "ssr based chi2 test:   chi2=11.8054 , p=0.2983  , df=10\n",
      "likelihood ratio test: chi2=11.0928 , p=0.3503  , df=10\n",
      "parameter F test:         F=0.9051  , p=0.5335  , df_denom=69, df_num=10\n",
      "\n",
      "Granger Causality\n",
      "number of lags (no zero) 10\n",
      "ssr based F test:         F=2.5621  , p=0.0107  , df_denom=69, df_num=10\n",
      "ssr based chi2 test:   chi2=33.4191 , p=0.0002  , df=10\n",
      "likelihood ratio test: chi2=28.4199 , p=0.0015  , df=10\n",
      "parameter F test:         F=2.5621  , p=0.0107  , df_denom=69, df_num=10\n",
      "\n",
      "Granger Causality\n",
      "number of lags (no zero) 10\n",
      "ssr based F test:         F=0.9486  , p=0.4955  , df_denom=69, df_num=10\n",
      "ssr based chi2 test:   chi2=12.3725 , p=0.2609  , df=10\n",
      "likelihood ratio test: chi2=11.5928 , p=0.3132  , df=10\n",
      "parameter F test:         F=0.9486  , p=0.4955  , df_denom=69, df_num=10\n",
      "\n",
      "Granger Causality\n",
      "number of lags (no zero) 10\n",
      "ssr based F test:         F=1.1509  , p=0.3388  , df_denom=69, df_num=10\n",
      "ssr based chi2 test:   chi2=15.0120 , p=0.1316  , df=10\n",
      "likelihood ratio test: chi2=13.8839 , p=0.1784  , df=10\n",
      "parameter F test:         F=1.1509  , p=0.3388  , df_denom=69, df_num=10\n",
      "\n",
      "Granger Causality\n",
      "number of lags (no zero) 10\n",
      "ssr based F test:         F=0.9413  , p=0.5018  , df_denom=69, df_num=10\n",
      "ssr based chi2 test:   chi2=12.2776 , p=0.2669  , df=10\n",
      "likelihood ratio test: chi2=11.5093 , p=0.3192  , df=10\n",
      "parameter F test:         F=0.9413  , p=0.5018  , df_denom=69, df_num=10\n",
      "\n",
      "Granger Causality\n",
      "number of lags (no zero) 10\n",
      "ssr based F test:         F=0.3897  , p=0.9470  , df_denom=69, df_num=10\n",
      "ssr based chi2 test:   chi2=5.0835  , p=0.8855  , df=10\n",
      "likelihood ratio test: chi2=4.9451  , p=0.8948  , df=10\n",
      "parameter F test:         F=0.3897  , p=0.9470  , df_denom=69, df_num=10\n",
      "\n",
      "Granger Causality\n",
      "number of lags (no zero) 10\n",
      "ssr based F test:         F=1.4323  , p=0.1848  , df_denom=69, df_num=10\n",
      "ssr based chi2 test:   chi2=18.6823 , p=0.0445  , df=10\n",
      "likelihood ratio test: chi2=16.9757 , p=0.0749  , df=10\n",
      "parameter F test:         F=1.4323  , p=0.1848  , df_denom=69, df_num=10\n",
      "\n",
      "Granger Causality\n",
      "number of lags (no zero) 10\n",
      "ssr based F test:         F=1.2779  , p=0.2601  , df_denom=69, df_num=10\n",
      "ssr based chi2 test:   chi2=16.6681 , p=0.0820  , df=10\n",
      "likelihood ratio test: chi2=15.2921 , p=0.1218  , df=10\n",
      "parameter F test:         F=1.2779  , p=0.2601  , df_denom=69, df_num=10\n",
      "\n",
      "Granger Causality\n",
      "number of lags (no zero) 10\n",
      "ssr based F test:         F=0.9857  , p=0.4641  , df_denom=69, df_num=10\n",
      "ssr based chi2 test:   chi2=12.8570 , p=0.2318  , df=10\n",
      "likelihood ratio test: chi2=12.0177 , p=0.2839  , df=10\n",
      "parameter F test:         F=0.9857  , p=0.4641  , df_denom=69, df_num=10\n",
      "\n",
      "Granger Causality\n",
      "number of lags (no zero) 10\n",
      "ssr based F test:         F=0.9075  , p=0.5313  , df_denom=69, df_num=10\n",
      "ssr based chi2 test:   chi2=11.8373 , p=0.2961  , df=10\n",
      "likelihood ratio test: chi2=11.1210 , p=0.3482  , df=10\n",
      "parameter F test:         F=0.9075  , p=0.5313  , df_denom=69, df_num=10\n",
      "\n",
      "Granger Causality\n",
      "number of lags (no zero) 10\n",
      "ssr based F test:         F=1.3692  , p=0.2131  , df_denom=69, df_num=10\n",
      "ssr based chi2 test:   chi2=17.8592 , p=0.0574  , df=10\n",
      "likelihood ratio test: chi2=16.2916 , p=0.0916  , df=10\n",
      "parameter F test:         F=1.3692  , p=0.2131  , df_denom=69, df_num=10\n",
      "\n",
      "Granger Causality\n",
      "number of lags (no zero) 10\n",
      "ssr based F test:         F=1.5734  , p=0.1332  , df_denom=69, df_num=10\n",
      "ssr based chi2 test:   chi2=20.5231 , p=0.0247  , df=10\n",
      "likelihood ratio test: chi2=18.4873 , p=0.0473  , df=10\n",
      "parameter F test:         F=1.5734  , p=0.1332  , df_denom=69, df_num=10\n",
      "\n",
      "Granger Causality\n",
      "number of lags (no zero) 10\n",
      "ssr based F test:         F=1.6595  , p=0.1084  , df_denom=69, df_num=10\n",
      "ssr based chi2 test:   chi2=21.6458 , p=0.0170  , df=10\n",
      "likelihood ratio test: chi2=19.3970 , p=0.0355  , df=10\n",
      "parameter F test:         F=1.6595  , p=0.1084  , df_denom=69, df_num=10\n",
      "\n",
      "Granger Causality\n",
      "number of lags (no zero) 10\n",
      "ssr based F test:         F=1.3578  , p=0.2185  , df_denom=69, df_num=10\n",
      "ssr based chi2 test:   chi2=17.7101 , p=0.0601  , df=10\n",
      "likelihood ratio test: chi2=16.1670 , p=0.0950  , df=10\n",
      "parameter F test:         F=1.3578  , p=0.2185  , df_denom=69, df_num=10\n",
      "\n",
      "Granger Causality\n",
      "number of lags (no zero) 10\n",
      "ssr based F test:         F=0.7870  , p=0.6410  , df_denom=69, df_num=10\n",
      "ssr based chi2 test:   chi2=10.2655 , p=0.4175  , df=10\n",
      "likelihood ratio test: chi2=9.7211  , p=0.4653  , df=10\n",
      "parameter F test:         F=0.7870  , p=0.6410  , df_denom=69, df_num=10\n",
      "\n",
      "Granger Causality\n",
      "number of lags (no zero) 10\n",
      "ssr based F test:         F=1.4034  , p=0.1973  , df_denom=69, df_num=10\n",
      "ssr based chi2 test:   chi2=18.3056 , p=0.0500  , df=10\n",
      "likelihood ratio test: chi2=16.6633 , p=0.0822  , df=10\n",
      "parameter F test:         F=1.4034  , p=0.1973  , df_denom=69, df_num=10\n",
      "\n",
      "Granger Causality\n",
      "number of lags (no zero) 10\n",
      "ssr based F test:         F=1.4013  , p=0.1983  , df_denom=69, df_num=10\n",
      "ssr based chi2 test:   chi2=18.2779 , p=0.0505  , df=10\n",
      "likelihood ratio test: chi2=16.6402 , p=0.0827  , df=10\n",
      "parameter F test:         F=1.4013  , p=0.1983  , df_denom=69, df_num=10\n",
      "\n",
      "Granger Causality\n",
      "number of lags (no zero) 10\n",
      "ssr based F test:         F=2.1132  , p=0.0347  , df_denom=69, df_num=10\n",
      "ssr based chi2 test:   chi2=27.5641 , p=0.0021  , df=10\n",
      "likelihood ratio test: chi2=24.0456 , p=0.0075  , df=10\n",
      "parameter F test:         F=2.1132  , p=0.0347  , df_denom=69, df_num=10\n",
      "\n",
      "Granger Causality\n",
      "number of lags (no zero) 10\n",
      "ssr based F test:         F=0.7921  , p=0.6364  , df_denom=69, df_num=10\n",
      "ssr based chi2 test:   chi2=10.3312 , p=0.4119  , df=10\n",
      "likelihood ratio test: chi2=9.7801  , p=0.4600  , df=10\n",
      "parameter F test:         F=0.7921  , p=0.6364  , df_denom=69, df_num=10\n",
      "\n",
      "Granger Causality\n",
      "number of lags (no zero) 10\n",
      "ssr based F test:         F=0.2562  , p=0.9883  , df_denom=69, df_num=10\n",
      "ssr based chi2 test:   chi2=3.3420  , p=0.9722  , df=10\n",
      "likelihood ratio test: chi2=3.2814  , p=0.9740  , df=10\n",
      "parameter F test:         F=0.2562  , p=0.9883  , df_denom=69, df_num=10\n",
      "\n",
      "Granger Causality\n",
      "number of lags (no zero) 10\n",
      "ssr based F test:         F=1.6235  , p=0.1182  , df_denom=69, df_num=10\n",
      "ssr based chi2 test:   chi2=21.1765 , p=0.0199  , df=10\n",
      "likelihood ratio test: chi2=19.0178 , p=0.0400  , df=10\n",
      "parameter F test:         F=1.6235  , p=0.1182  , df_denom=69, df_num=10\n",
      "\n",
      "Granger Causality\n",
      "number of lags (no zero) 10\n",
      "ssr based F test:         F=0.8030  , p=0.6263  , df_denom=69, df_num=10\n",
      "ssr based chi2 test:   chi2=10.4740 , p=0.3999  , df=10\n",
      "likelihood ratio test: chi2=9.9081  , p=0.4486  , df=10\n",
      "parameter F test:         F=0.8030  , p=0.6263  , df_denom=69, df_num=10\n",
      "\n",
      "Granger Causality\n",
      "number of lags (no zero) 10\n",
      "ssr based F test:         F=1.3199  , p=0.2375  , df_denom=69, df_num=10\n",
      "ssr based chi2 test:   chi2=17.2166 , p=0.0697  , df=10\n",
      "likelihood ratio test: chi2=15.7538 , p=0.1069  , df=10\n",
      "parameter F test:         F=1.3199  , p=0.2375  , df_denom=69, df_num=10\n",
      "\n",
      "Granger Causality\n",
      "number of lags (no zero) 10\n",
      "ssr based F test:         F=1.2453  , p=0.2788  , df_denom=69, df_num=10\n",
      "ssr based chi2 test:   chi2=16.2436 , p=0.0929  , df=10\n",
      "likelihood ratio test: chi2=14.9333 , p=0.1345  , df=10\n",
      "parameter F test:         F=1.2453  , p=0.2788  , df_denom=69, df_num=10\n",
      "\n",
      "Granger Causality\n",
      "number of lags (no zero) 10\n",
      "ssr based F test:         F=1.2234  , p=0.2920  , df_denom=69, df_num=10\n",
      "ssr based chi2 test:   chi2=15.9568 , p=0.1009  , df=10\n",
      "likelihood ratio test: chi2=14.6900 , p=0.1438  , df=10\n",
      "parameter F test:         F=1.2234  , p=0.2920  , df_denom=69, df_num=10\n",
      "\n",
      "Granger Causality\n",
      "number of lags (no zero) 10\n",
      "ssr based F test:         F=1.1696  , p=0.3262  , df_denom=69, df_num=10\n",
      "ssr based chi2 test:   chi2=15.2551 , p=0.1230  , df=10\n",
      "likelihood ratio test: chi2=14.0920 , p=0.1688  , df=10\n",
      "parameter F test:         F=1.1696  , p=0.3262  , df_denom=69, df_num=10\n",
      "\n",
      "Granger Causality\n",
      "number of lags (no zero) 10\n",
      "ssr based F test:         F=2.4696  , p=0.0137  , df_denom=69, df_num=10\n",
      "ssr based chi2 test:   chi2=32.2124 , p=0.0004  , df=10\n",
      "likelihood ratio test: chi2=27.5356 , p=0.0021  , df=10\n",
      "parameter F test:         F=2.4696  , p=0.0137  , df_denom=69, df_num=10\n",
      "\n",
      "Granger Causality\n",
      "number of lags (no zero) 10\n",
      "ssr based F test:         F=1.2611  , p=0.2696  , df_denom=69, df_num=10\n",
      "ssr based chi2 test:   chi2=16.4491 , p=0.0875  , df=10\n",
      "likelihood ratio test: chi2=15.1072 , p=0.1282  , df=10\n",
      "parameter F test:         F=1.2611  , p=0.2696  , df_denom=69, df_num=10\n",
      "\n",
      "Granger Causality\n",
      "number of lags (no zero) 10\n",
      "ssr based F test:         F=1.0080  , p=0.4457  , df_denom=69, df_num=10\n",
      "ssr based chi2 test:   chi2=13.1483 , p=0.2155  , df=10\n",
      "likelihood ratio test: chi2=12.2723 , p=0.2672  , df=10\n",
      "parameter F test:         F=1.0080  , p=0.4457  , df_denom=69, df_num=10\n",
      "\n",
      "Granger Causality\n",
      "number of lags (no zero) 10\n",
      "ssr based F test:         F=0.8819  , p=0.5541  , df_denom=69, df_num=10\n",
      "ssr based chi2 test:   chi2=11.5035 , p=0.3197  , df=10\n",
      "likelihood ratio test: chi2=10.8256 , p=0.3713  , df=10\n",
      "parameter F test:         F=0.8819  , p=0.5541  , df_denom=69, df_num=10\n",
      "\n",
      "Granger Causality\n",
      "number of lags (no zero) 10\n",
      "ssr based F test:         F=1.4109  , p=0.1940  , df_denom=69, df_num=10\n",
      "ssr based chi2 test:   chi2=18.4031 , p=0.0485  , df=10\n",
      "likelihood ratio test: chi2=16.7442 , p=0.0802  , df=10\n",
      "parameter F test:         F=1.4109  , p=0.1940  , df_denom=69, df_num=10\n",
      "\n",
      "Granger Causality\n",
      "number of lags (no zero) 10\n",
      "ssr based F test:         F=0.7030  , p=0.7185  , df_denom=69, df_num=10\n",
      "ssr based chi2 test:   chi2=9.1692  , p=0.5161  , df=10\n",
      "likelihood ratio test: chi2=8.7316  , p=0.5577  , df=10\n",
      "parameter F test:         F=0.7030  , p=0.7185  , df_denom=69, df_num=10\n",
      "\n",
      "Granger Causality\n",
      "number of lags (no zero) 10\n",
      "ssr based F test:         F=1.1146  , p=0.3642  , df_denom=69, df_num=10\n",
      "ssr based chi2 test:   chi2=14.5378 , p=0.1498  , df=10\n",
      "likelihood ratio test: chi2=13.4765 , p=0.1982  , df=10\n",
      "parameter F test:         F=1.1146  , p=0.3642  , df_denom=69, df_num=10\n",
      "\n",
      "Granger Causality\n",
      "number of lags (no zero) 10\n",
      "ssr based F test:         F=0.7031  , p=0.7184  , df_denom=69, df_num=10\n",
      "ssr based chi2 test:   chi2=9.1704  , p=0.5160  , df=10\n",
      "likelihood ratio test: chi2=8.7327  , p=0.5576  , df=10\n",
      "parameter F test:         F=0.7031  , p=0.7184  , df_denom=69, df_num=10\n",
      "\n",
      "Granger Causality\n",
      "number of lags (no zero) 10\n",
      "ssr based F test:         F=0.5746  , p=0.8291  , df_denom=69, df_num=10\n",
      "ssr based chi2 test:   chi2=7.4947  , p=0.6781  , df=10\n",
      "likelihood ratio test: chi2=7.1989  , p=0.7065  , df=10\n",
      "parameter F test:         F=0.5746  , p=0.8291  , df_denom=69, df_num=10\n",
      "\n",
      "Granger Causality\n",
      "number of lags (no zero) 10\n",
      "ssr based F test:         F=0.8935  , p=0.5438  , df_denom=69, df_num=10\n",
      "ssr based chi2 test:   chi2=11.6540 , p=0.3089  , df=10\n",
      "likelihood ratio test: chi2=10.9589 , p=0.3607  , df=10\n",
      "parameter F test:         F=0.8935  , p=0.5438  , df_denom=69, df_num=10\n",
      "\n",
      "Granger Causality\n",
      "number of lags (no zero) 10\n",
      "ssr based F test:         F=0.7729  , p=0.6541  , df_denom=69, df_num=10\n",
      "ssr based chi2 test:   chi2=10.0819 , p=0.4333  , df=10\n",
      "likelihood ratio test: chi2=9.5561  , p=0.4803  , df=10\n",
      "parameter F test:         F=0.7729  , p=0.6541  , df_denom=69, df_num=10\n",
      "\n",
      "Granger Causality\n",
      "number of lags (no zero) 10\n",
      "ssr based F test:         F=0.8208  , p=0.6099  , df_denom=69, df_num=10\n",
      "ssr based chi2 test:   chi2=10.7057 , p=0.3809  , df=10\n",
      "likelihood ratio test: chi2=10.1154 , p=0.4304  , df=10\n",
      "parameter F test:         F=0.8208  , p=0.6099  , df_denom=69, df_num=10\n",
      "\n",
      "Granger Causality\n",
      "number of lags (no zero) 10\n",
      "ssr based F test:         F=0.8291  , p=0.6022  , df_denom=69, df_num=10\n",
      "ssr based chi2 test:   chi2=10.8146 , p=0.3721  , df=10\n",
      "likelihood ratio test: chi2=10.2127 , p=0.4220  , df=10\n",
      "parameter F test:         F=0.8291  , p=0.6022  , df_denom=69, df_num=10\n",
      "\n",
      "Granger Causality\n",
      "number of lags (no zero) 10\n",
      "ssr based F test:         F=1.8513  , p=0.0676  , df_denom=69, df_num=10\n",
      "ssr based chi2 test:   chi2=24.1473 , p=0.0072  , df=10\n",
      "likelihood ratio test: chi2=21.3912 , p=0.0185  , df=10\n",
      "parameter F test:         F=1.8513  , p=0.0676  , df_denom=69, df_num=10\n",
      "\n",
      "Granger Causality\n",
      "number of lags (no zero) 10\n",
      "ssr based F test:         F=0.4575  , p=0.9114  , df_denom=69, df_num=10\n",
      "ssr based chi2 test:   chi2=5.9670  , p=0.8180  , df=10\n",
      "likelihood ratio test: chi2=5.7776  , p=0.8336  , df=10\n",
      "parameter F test:         F=0.4575  , p=0.9114  , df_denom=69, df_num=10\n",
      "\n",
      "Granger Causality\n",
      "number of lags (no zero) 10\n",
      "ssr based F test:         F=1.7153  , p=0.0946  , df_denom=69, df_num=10\n",
      "ssr based chi2 test:   chi2=22.3739 , p=0.0133  , df=10\n",
      "likelihood ratio test: chi2=19.9820 , p=0.0294  , df=10\n",
      "parameter F test:         F=1.7153  , p=0.0946  , df_denom=69, df_num=10\n",
      "\n",
      "Granger Causality\n",
      "number of lags (no zero) 10\n",
      "ssr based F test:         F=0.8753  , p=0.5601  , df_denom=69, df_num=10\n",
      "ssr based chi2 test:   chi2=11.4173 , p=0.3259  , df=10\n",
      "likelihood ratio test: chi2=10.7490 , p=0.3774  , df=10\n",
      "parameter F test:         F=0.8753  , p=0.5601  , df_denom=69, df_num=10\n",
      "\n",
      "Granger Causality\n",
      "number of lags (no zero) 10\n",
      "ssr based F test:         F=2.5645  , p=0.0107  , df_denom=69, df_num=10\n",
      "ssr based chi2 test:   chi2=33.4494 , p=0.0002  , df=10\n",
      "likelihood ratio test: chi2=28.4420 , p=0.0015  , df=10\n",
      "parameter F test:         F=2.5645  , p=0.0107  , df_denom=69, df_num=10\n",
      "\n",
      "Granger Causality\n",
      "number of lags (no zero) 10\n",
      "ssr based F test:         F=0.6623  , p=0.7550  , df_denom=69, df_num=10\n",
      "ssr based chi2 test:   chi2=8.6393  , p=0.5666  , df=10\n",
      "likelihood ratio test: chi2=8.2494  , p=0.6045  , df=10\n",
      "parameter F test:         F=0.6623  , p=0.7550  , df_denom=69, df_num=10\n",
      "\n",
      "Granger Causality\n",
      "number of lags (no zero) 10\n",
      "ssr based F test:         F=1.7042  , p=0.0972  , df_denom=69, df_num=10\n",
      "ssr based chi2 test:   chi2=22.2280 , p=0.0140  , df=10\n",
      "likelihood ratio test: chi2=19.8651 , p=0.0306  , df=10\n",
      "parameter F test:         F=1.7042  , p=0.0972  , df_denom=69, df_num=10\n",
      "\n",
      "Granger Causality\n",
      "number of lags (no zero) 10\n",
      "ssr based F test:         F=1.1979  , p=0.3078  , df_denom=69, df_num=10\n",
      "ssr based chi2 test:   chi2=15.6246 , p=0.1109  , df=10\n",
      "likelihood ratio test: chi2=14.4074 , p=0.1552  , df=10\n",
      "parameter F test:         F=1.1979  , p=0.3078  , df_denom=69, df_num=10\n",
      "\n",
      "Granger Causality\n",
      "number of lags (no zero) 10\n",
      "ssr based F test:         F=1.8459  , p=0.0685  , df_denom=69, df_num=10\n",
      "ssr based chi2 test:   chi2=24.0769 , p=0.0074  , df=10\n",
      "likelihood ratio test: chi2=21.3356 , p=0.0189  , df=10\n",
      "parameter F test:         F=1.8459  , p=0.0685  , df_denom=69, df_num=10\n",
      "\n",
      "Granger Causality\n",
      "number of lags (no zero) 10\n",
      "ssr based F test:         F=1.2167  , p=0.2961  , df_denom=69, df_num=10\n",
      "ssr based chi2 test:   chi2=15.8696 , p=0.1034  , df=10\n",
      "likelihood ratio test: chi2=14.6159 , p=0.1467  , df=10\n",
      "parameter F test:         F=1.2167  , p=0.2961  , df_denom=69, df_num=10\n",
      "\n",
      "Granger Causality\n",
      "number of lags (no zero) 10\n",
      "ssr based F test:         F=2.2987  , p=0.0215  , df_denom=69, df_num=10\n",
      "ssr based chi2 test:   chi2=29.9834 , p=0.0009  , df=10\n",
      "likelihood ratio test: chi2=25.8789 , p=0.0039  , df=10\n",
      "parameter F test:         F=2.2987  , p=0.0215  , df_denom=69, df_num=10\n",
      "\n",
      "Granger Causality\n",
      "number of lags (no zero) 10\n",
      "ssr based F test:         F=0.9535  , p=0.4913  , df_denom=69, df_num=10\n",
      "ssr based chi2 test:   chi2=12.4364 , p=0.2569  , df=10\n",
      "likelihood ratio test: chi2=11.6489 , p=0.3092  , df=10\n",
      "parameter F test:         F=0.9535  , p=0.4913  , df_denom=69, df_num=10\n",
      "\n",
      "Granger Causality\n",
      "number of lags (no zero) 10\n",
      "ssr based F test:         F=1.0144  , p=0.4406  , df_denom=69, df_num=10\n",
      "ssr based chi2 test:   chi2=13.2314 , p=0.2110  , df=10\n",
      "likelihood ratio test: chi2=12.3447 , p=0.2626  , df=10\n",
      "parameter F test:         F=1.0144  , p=0.4406  , df_denom=69, df_num=10\n",
      "\n",
      "Granger Causality\n",
      "number of lags (no zero) 10\n",
      "ssr based F test:         F=1.7281  , p=0.0917  , df_denom=69, df_num=10\n",
      "ssr based chi2 test:   chi2=22.5410 , p=0.0126  , df=10\n",
      "likelihood ratio test: chi2=20.1157 , p=0.0282  , df=10\n",
      "parameter F test:         F=1.7281  , p=0.0917  , df_denom=69, df_num=10\n",
      "\n",
      "Granger Causality\n",
      "number of lags (no zero) 10\n",
      "ssr based F test:         F=0.6025  , p=0.8064  , df_denom=69, df_num=10\n",
      "ssr based chi2 test:   chi2=7.8592  , p=0.6426  , df=10\n",
      "likelihood ratio test: chi2=7.5348  , p=0.6742  , df=10\n",
      "parameter F test:         F=0.6025  , p=0.8064  , df_denom=69, df_num=10\n",
      "\n",
      "Granger Causality\n",
      "number of lags (no zero) 10\n",
      "ssr based F test:         F=1.2758  , p=0.2613  , df_denom=69, df_num=10\n",
      "ssr based chi2 test:   chi2=16.6403 , p=0.0827  , df=10\n",
      "likelihood ratio test: chi2=15.2687 , p=0.1226  , df=10\n",
      "parameter F test:         F=1.2758  , p=0.2613  , df_denom=69, df_num=10\n",
      "\n",
      "Granger Causality\n",
      "number of lags (no zero) 10\n",
      "ssr based F test:         F=0.5522  , p=0.8466  , df_denom=69, df_num=10\n",
      "ssr based chi2 test:   chi2=7.2026  , p=0.7062  , df=10\n",
      "likelihood ratio test: chi2=6.9289  , p=0.7321  , df=10\n",
      "parameter F test:         F=0.5522  , p=0.8466  , df_denom=69, df_num=10\n",
      "\n",
      "Granger Causality\n",
      "number of lags (no zero) 10\n",
      "ssr based F test:         F=1.0867  , p=0.3845  , df_denom=69, df_num=10\n",
      "ssr based chi2 test:   chi2=14.1741 , p=0.1652  , df=10\n",
      "likelihood ratio test: chi2=13.1628 , p=0.2147  , df=10\n",
      "parameter F test:         F=1.0867  , p=0.3845  , df_denom=69, df_num=10\n",
      "\n",
      "Granger Causality\n",
      "number of lags (no zero) 10\n",
      "ssr based F test:         F=2.8955  , p=0.0044  , df_denom=69, df_num=10\n",
      "ssr based chi2 test:   chi2=37.7671 , p=0.0000  , df=10\n",
      "likelihood ratio test: chi2=31.5359 , p=0.0005  , df=10\n",
      "parameter F test:         F=2.8955  , p=0.0044  , df_denom=69, df_num=10\n",
      "\n",
      "Granger Causality\n",
      "number of lags (no zero) 10\n",
      "ssr based F test:         F=0.5821  , p=0.8232  , df_denom=69, df_num=10\n",
      "ssr based chi2 test:   chi2=7.5920  , p=0.6686  , df=10\n",
      "likelihood ratio test: chi2=7.2887  , p=0.6979  , df=10\n",
      "parameter F test:         F=0.5821  , p=0.8232  , df_denom=69, df_num=10\n",
      "\n",
      "Granger Causality\n",
      "number of lags (no zero) 10\n",
      "ssr based F test:         F=0.7400  , p=0.6845  , df_denom=69, df_num=10\n",
      "ssr based chi2 test:   chi2=9.6527  , p=0.4715  , df=10\n",
      "likelihood ratio test: chi2=9.1693  , p=0.5161  , df=10\n",
      "parameter F test:         F=0.7400  , p=0.6845  , df_denom=69, df_num=10\n",
      "\n",
      "Granger Causality\n",
      "number of lags (no zero) 10\n",
      "ssr based F test:         F=1.0010  , p=0.4515  , df_denom=69, df_num=10\n",
      "ssr based chi2 test:   chi2=13.0562 , p=0.2205  , df=10\n",
      "likelihood ratio test: chi2=12.1918 , p=0.2724  , df=10\n",
      "parameter F test:         F=1.0010  , p=0.4515  , df_denom=69, df_num=10\n",
      "\n",
      "Granger Causality\n",
      "number of lags (no zero) 10\n",
      "ssr based F test:         F=1.8312  , p=0.0711  , df_denom=69, df_num=10\n",
      "ssr based chi2 test:   chi2=23.8855 , p=0.0079  , df=10\n",
      "likelihood ratio test: chi2=21.1845 , p=0.0198  , df=10\n",
      "parameter F test:         F=1.8312  , p=0.0711  , df_denom=69, df_num=10\n",
      "\n",
      "Granger Causality\n",
      "number of lags (no zero) 10\n",
      "ssr based F test:         F=0.9596  , p=0.4860  , df_denom=69, df_num=10\n",
      "ssr based chi2 test:   chi2=12.5170 , p=0.2519  , df=10\n",
      "likelihood ratio test: chi2=11.7197 , p=0.3043  , df=10\n",
      "parameter F test:         F=0.9596  , p=0.4860  , df_denom=69, df_num=10\n",
      "\n",
      "Granger Causality\n",
      "number of lags (no zero) 10\n",
      "ssr based F test:         F=0.8218  , p=0.6090  , df_denom=69, df_num=10\n",
      "ssr based chi2 test:   chi2=10.7185 , p=0.3799  , df=10\n",
      "likelihood ratio test: chi2=10.1268 , p=0.4294  , df=10\n",
      "parameter F test:         F=0.8218  , p=0.6090  , df_denom=69, df_num=10\n",
      "\n",
      "Granger Causality\n",
      "number of lags (no zero) 10\n",
      "ssr based F test:         F=2.4915  , p=0.0129  , df_denom=69, df_num=10\n",
      "ssr based chi2 test:   chi2=32.4985 , p=0.0003  , df=10\n",
      "likelihood ratio test: chi2=27.7460 , p=0.0020  , df=10\n",
      "parameter F test:         F=2.4915  , p=0.0129  , df_denom=69, df_num=10\n",
      "\n",
      "Granger Causality\n",
      "number of lags (no zero) 10\n",
      "ssr based F test:         F=0.6248  , p=0.7877  , df_denom=69, df_num=10\n",
      "ssr based chi2 test:   chi2=8.1494  , p=0.6142  , df=10\n",
      "likelihood ratio test: chi2=7.8013  , p=0.6482  , df=10\n",
      "parameter F test:         F=0.6248  , p=0.7877  , df_denom=69, df_num=10\n",
      "\n",
      "Granger Causality\n",
      "number of lags (no zero) 10\n",
      "ssr based F test:         F=1.9846  , p=0.0483  , df_denom=69, df_num=10\n",
      "ssr based chi2 test:   chi2=25.8861 , p=0.0039  , df=10\n",
      "likelihood ratio test: chi2=22.7518 , p=0.0117  , df=10\n",
      "parameter F test:         F=1.9846  , p=0.0483  , df_denom=69, df_num=10\n",
      "\n",
      "Granger Causality\n",
      "number of lags (no zero) 10\n",
      "ssr based F test:         F=1.0861  , p=0.3849  , df_denom=69, df_num=10\n",
      "ssr based chi2 test:   chi2=14.1663 , p=0.1655  , df=10\n",
      "likelihood ratio test: chi2=13.1561 , p=0.2151  , df=10\n",
      "parameter F test:         F=1.0861  , p=0.3849  , df_denom=69, df_num=10\n",
      "\n",
      "Granger Causality\n",
      "number of lags (no zero) 10\n",
      "ssr based F test:         F=0.8518  , p=0.5815  , df_denom=69, df_num=10\n",
      "ssr based chi2 test:   chi2=11.1100 , p=0.3490  , df=10\n",
      "likelihood ratio test: chi2=10.4759 , p=0.3998  , df=10\n",
      "parameter F test:         F=0.8518  , p=0.5815  , df_denom=69, df_num=10\n",
      "\n",
      "Granger Causality\n",
      "number of lags (no zero) 10\n",
      "ssr based F test:         F=1.0976  , p=0.3764  , df_denom=69, df_num=10\n",
      "ssr based chi2 test:   chi2=14.3171 , p=0.1590  , df=10\n",
      "likelihood ratio test: chi2=13.2863 , p=0.2081  , df=10\n",
      "parameter F test:         F=1.0976  , p=0.3764  , df_denom=69, df_num=10\n",
      "\n",
      "Granger Causality\n",
      "number of lags (no zero) 10\n",
      "ssr based F test:         F=1.2596  , p=0.2705  , df_denom=69, df_num=10\n",
      "ssr based chi2 test:   chi2=16.4294 , p=0.0880  , df=10\n",
      "likelihood ratio test: chi2=15.0905 , p=0.1288  , df=10\n",
      "parameter F test:         F=1.2596  , p=0.2705  , df_denom=69, df_num=10\n",
      "\n",
      "Granger Causality\n",
      "number of lags (no zero) 10\n",
      "ssr based F test:         F=0.6614  , p=0.7558  , df_denom=69, df_num=10\n",
      "ssr based chi2 test:   chi2=8.6267  , p=0.5679  , df=10\n",
      "likelihood ratio test: chi2=8.2379  , p=0.6056  , df=10\n",
      "parameter F test:         F=0.6614  , p=0.7558  , df_denom=69, df_num=10\n",
      "\n",
      "Granger Causality\n",
      "number of lags (no zero) 10\n",
      "ssr based F test:         F=1.0521  , p=0.4108  , df_denom=69, df_num=10\n",
      "ssr based chi2 test:   chi2=13.7228 , p=0.1860  , df=10\n",
      "likelihood ratio test: chi2=12.7721 , p=0.2367  , df=10\n",
      "parameter F test:         F=1.0521  , p=0.4108  , df_denom=69, df_num=10\n",
      "\n",
      "Granger Causality\n",
      "number of lags (no zero) 10\n",
      "ssr based F test:         F=1.3964  , p=0.2005  , df_denom=69, df_num=10\n",
      "ssr based chi2 test:   chi2=18.2144 , p=0.0515  , df=10\n",
      "likelihood ratio test: chi2=16.5875 , p=0.0840  , df=10\n",
      "parameter F test:         F=1.3964  , p=0.2005  , df_denom=69, df_num=10\n",
      "\n",
      "Granger Causality\n",
      "number of lags (no zero) 10\n",
      "ssr based F test:         F=0.4405  , p=0.9213  , df_denom=69, df_num=10\n",
      "ssr based chi2 test:   chi2=5.7456  , p=0.8362  , df=10\n",
      "likelihood ratio test: chi2=5.5697  , p=0.8500  , df=10\n",
      "parameter F test:         F=0.4405  , p=0.9213  , df_denom=69, df_num=10\n",
      "\n",
      "Granger Causality\n",
      "number of lags (no zero) 10\n",
      "ssr based F test:         F=1.4357  , p=0.1834  , df_denom=69, df_num=10\n",
      "ssr based chi2 test:   chi2=18.7270 , p=0.0439  , df=10\n",
      "likelihood ratio test: chi2=17.0127 , p=0.0741  , df=10\n",
      "parameter F test:         F=1.4357  , p=0.1834  , df_denom=69, df_num=10\n",
      "\n",
      "Granger Causality\n",
      "number of lags (no zero) 10\n",
      "ssr based F test:         F=1.2878  , p=0.2546  , df_denom=69, df_num=10\n",
      "ssr based chi2 test:   chi2=16.7975 , p=0.0790  , df=10\n",
      "likelihood ratio test: chi2=15.4012 , p=0.1181  , df=10\n",
      "parameter F test:         F=1.2878  , p=0.2546  , df_denom=69, df_num=10\n",
      "\n",
      "Granger Causality\n",
      "number of lags (no zero) 10\n",
      "ssr based F test:         F=1.2448  , p=0.2791  , df_denom=69, df_num=10\n",
      "ssr based chi2 test:   chi2=16.2369 , p=0.0930  , df=10\n",
      "likelihood ratio test: chi2=14.9275 , p=0.1347  , df=10\n",
      "parameter F test:         F=1.2448  , p=0.2791  , df_denom=69, df_num=10\n",
      "\n",
      "Granger Causality\n",
      "number of lags (no zero) 10\n",
      "ssr based F test:         F=1.5717  , p=0.1337  , df_denom=69, df_num=10\n",
      "ssr based chi2 test:   chi2=20.5010 , p=0.0249  , df=10\n",
      "likelihood ratio test: chi2=18.4693 , p=0.0475  , df=10\n",
      "parameter F test:         F=1.5717  , p=0.1337  , df_denom=69, df_num=10\n",
      "\n",
      "Granger Causality\n",
      "number of lags (no zero) 10\n",
      "ssr based F test:         F=1.0792  , p=0.3901  , df_denom=69, df_num=10\n",
      "ssr based chi2 test:   chi2=14.0766 , p=0.1695  , df=10\n",
      "likelihood ratio test: chi2=13.0786 , p=0.2193  , df=10\n",
      "parameter F test:         F=1.0792  , p=0.3901  , df_denom=69, df_num=10\n",
      "\n",
      "Granger Causality\n",
      "number of lags (no zero) 10\n",
      "ssr based F test:         F=0.5831  , p=0.8223  , df_denom=69, df_num=10\n",
      "ssr based chi2 test:   chi2=7.6058  , p=0.6673  , df=10\n",
      "likelihood ratio test: chi2=7.3015  , p=0.6967  , df=10\n",
      "parameter F test:         F=0.5831  , p=0.8223  , df_denom=69, df_num=10\n",
      "\n",
      "Granger Causality\n",
      "number of lags (no zero) 10\n",
      "ssr based F test:         F=1.5153  , p=0.1527  , df_denom=69, df_num=10\n",
      "ssr based chi2 test:   chi2=19.7647 , p=0.0316  , df=10\n",
      "likelihood ratio test: chi2=17.8676 , p=0.0572  , df=10\n",
      "parameter F test:         F=1.5153  , p=0.1527  , df_denom=69, df_num=10\n",
      "\n",
      "Granger Causality\n",
      "number of lags (no zero) 10\n",
      "ssr based F test:         F=1.1457  , p=0.3423  , df_denom=69, df_num=10\n",
      "ssr based chi2 test:   chi2=14.9435 , p=0.1341  , df=10\n",
      "likelihood ratio test: chi2=13.8251 , p=0.1811  , df=10\n",
      "parameter F test:         F=1.1457  , p=0.3423  , df_denom=69, df_num=10\n",
      "\n",
      "Granger Causality\n",
      "number of lags (no zero) 10\n",
      "ssr based F test:         F=1.2002  , p=0.3064  , df_denom=69, df_num=10\n",
      "ssr based chi2 test:   chi2=15.6547 , p=0.1100  , df=10\n",
      "likelihood ratio test: chi2=14.4330 , p=0.1541  , df=10\n",
      "parameter F test:         F=1.2002  , p=0.3064  , df_denom=69, df_num=10\n",
      "\n",
      "Granger Causality\n",
      "number of lags (no zero) 10\n",
      "ssr based F test:         F=1.1822  , p=0.3179  , df_denom=69, df_num=10\n",
      "ssr based chi2 test:   chi2=15.4203 , p=0.1175  , df=10\n",
      "likelihood ratio test: chi2=14.2331 , p=0.1626  , df=10\n",
      "parameter F test:         F=1.1822  , p=0.3179  , df_denom=69, df_num=10\n",
      "\n",
      "Granger Causality\n",
      "number of lags (no zero) 10\n",
      "ssr based F test:         F=1.5780  , p=0.1317  , df_denom=69, df_num=10\n",
      "ssr based chi2 test:   chi2=20.5833 , p=0.0242  , df=10\n",
      "likelihood ratio test: chi2=18.5363 , p=0.0466  , df=10\n",
      "parameter F test:         F=1.5780  , p=0.1317  , df_denom=69, df_num=10\n",
      "\n",
      "Granger Causality\n",
      "number of lags (no zero) 10\n",
      "ssr based F test:         F=0.7736  , p=0.6534  , df_denom=69, df_num=10\n",
      "ssr based chi2 test:   chi2=10.0907 , p=0.4326  , df=10\n",
      "likelihood ratio test: chi2=9.5641  , p=0.4795  , df=10\n",
      "parameter F test:         F=0.7736  , p=0.6534  , df_denom=69, df_num=10\n",
      "\n",
      "Granger Causality\n",
      "number of lags (no zero) 10\n",
      "ssr based F test:         F=1.8092  , p=0.0751  , df_denom=69, df_num=10\n",
      "ssr based chi2 test:   chi2=23.5981 , p=0.0087  , df=10\n",
      "likelihood ratio test: chi2=20.9572 , p=0.0214  , df=10\n",
      "parameter F test:         F=1.8092  , p=0.0751  , df_denom=69, df_num=10\n",
      "\n",
      "Granger Causality\n",
      "number of lags (no zero) 10\n",
      "ssr based F test:         F=1.5723  , p=0.1335  , df_denom=69, df_num=10\n",
      "ssr based chi2 test:   chi2=20.5076 , p=0.0248  , df=10\n",
      "likelihood ratio test: chi2=18.4747 , p=0.0475  , df=10\n",
      "parameter F test:         F=1.5723  , p=0.1335  , df_denom=69, df_num=10\n",
      "\n",
      "Granger Causality\n",
      "number of lags (no zero) 10\n",
      "ssr based F test:         F=0.4920  , p=0.8897  , df_denom=69, df_num=10\n",
      "ssr based chi2 test:   chi2=6.4174  , p=0.7791  , df=10\n",
      "likelihood ratio test: chi2=6.1989  , p=0.7983  , df=10\n",
      "parameter F test:         F=0.4920  , p=0.8897  , df_denom=69, df_num=10\n",
      "\n",
      "Granger Causality\n",
      "number of lags (no zero) 10\n",
      "ssr based F test:         F=0.9481  , p=0.4959  , df_denom=69, df_num=10\n",
      "ssr based chi2 test:   chi2=12.3668 , p=0.2613  , df=10\n",
      "likelihood ratio test: chi2=11.5878 , p=0.3136  , df=10\n",
      "parameter F test:         F=0.9481  , p=0.4959  , df_denom=69, df_num=10\n",
      "\n",
      "Granger Causality\n",
      "number of lags (no zero) 10\n",
      "ssr based F test:         F=0.9926  , p=0.4584  , df_denom=69, df_num=10\n",
      "ssr based chi2 test:   chi2=12.9465 , p=0.2267  , df=10\n",
      "likelihood ratio test: chi2=12.0959 , p=0.2787  , df=10\n",
      "parameter F test:         F=0.9926  , p=0.4584  , df_denom=69, df_num=10\n",
      "\n",
      "Granger Causality\n",
      "number of lags (no zero) 10\n",
      "ssr based F test:         F=1.0456  , p=0.4158  , df_denom=69, df_num=10\n",
      "ssr based chi2 test:   chi2=13.6383 , p=0.1901  , df=10\n",
      "likelihood ratio test: chi2=12.6987 , p=0.2410  , df=10\n",
      "parameter F test:         F=1.0456  , p=0.4158  , df_denom=69, df_num=10\n",
      "\n",
      "Granger Causality\n",
      "number of lags (no zero) 10\n",
      "ssr based F test:         F=1.3550  , p=0.2199  , df_denom=69, df_num=10\n",
      "ssr based chi2 test:   chi2=17.6733 , p=0.0607  , df=10\n",
      "likelihood ratio test: chi2=16.1362 , p=0.0958  , df=10\n",
      "parameter F test:         F=1.3550  , p=0.2199  , df_denom=69, df_num=10\n",
      "\n",
      "Granger Causality\n",
      "number of lags (no zero) 10\n",
      "ssr based F test:         F=1.5245  , p=0.1494  , df_denom=69, df_num=10\n",
      "ssr based chi2 test:   chi2=19.8846 , p=0.0304  , df=10\n",
      "likelihood ratio test: chi2=17.9659 , p=0.0555  , df=10\n",
      "parameter F test:         F=1.5245  , p=0.1494  , df_denom=69, df_num=10\n",
      "\n",
      "Granger Causality\n",
      "number of lags (no zero) 10\n",
      "ssr based F test:         F=0.4020  , p=0.9413  , df_denom=69, df_num=10\n",
      "ssr based chi2 test:   chi2=5.2440  , p=0.8743  , df=10\n",
      "likelihood ratio test: chi2=5.0969  , p=0.8846  , df=10\n",
      "parameter F test:         F=0.4020  , p=0.9413  , df_denom=69, df_num=10\n",
      "\n",
      "Granger Causality\n",
      "number of lags (no zero) 10\n",
      "ssr based F test:         F=1.3312  , p=0.2317  , df_denom=69, df_num=10\n",
      "ssr based chi2 test:   chi2=17.3639 , p=0.0667  , df=10\n",
      "likelihood ratio test: chi2=15.8773 , p=0.1032  , df=10\n",
      "parameter F test:         F=1.3312  , p=0.2317  , df_denom=69, df_num=10\n",
      "\n",
      "Granger Causality\n",
      "number of lags (no zero) 10\n",
      "ssr based F test:         F=1.6250  , p=0.1178  , df_denom=69, df_num=10\n",
      "ssr based chi2 test:   chi2=21.1956 , p=0.0198  , df=10\n",
      "likelihood ratio test: chi2=19.0333 , p=0.0398  , df=10\n",
      "parameter F test:         F=1.6250  , p=0.1178  , df_denom=69, df_num=10\n",
      "\n",
      "Granger Causality\n",
      "number of lags (no zero) 10\n",
      "ssr based F test:         F=1.0172  , p=0.4383  , df_denom=69, df_num=10\n",
      "ssr based chi2 test:   chi2=13.2680 , p=0.2091  , df=10\n",
      "likelihood ratio test: chi2=12.3766 , p=0.2606  , df=10\n",
      "parameter F test:         F=1.0172  , p=0.4383  , df_denom=69, df_num=10\n",
      "\n",
      "Granger Causality\n",
      "number of lags (no zero) 10\n",
      "ssr based F test:         F=1.4796  , p=0.1658  , df_denom=69, df_num=10\n",
      "ssr based chi2 test:   chi2=19.2996 , p=0.0366  , df=10\n",
      "likelihood ratio test: chi2=17.4855 , p=0.0643  , df=10\n",
      "parameter F test:         F=1.4796  , p=0.1658  , df_denom=69, df_num=10\n",
      "\n",
      "Granger Causality\n",
      "number of lags (no zero) 10\n",
      "ssr based F test:         F=1.0813  , p=0.3885  , df_denom=69, df_num=10\n",
      "ssr based chi2 test:   chi2=14.1038 , p=0.1683  , df=10\n",
      "likelihood ratio test: chi2=13.1021 , p=0.2180  , df=10\n",
      "parameter F test:         F=1.0813  , p=0.3885  , df_denom=69, df_num=10\n",
      "\n",
      "Granger Causality\n",
      "number of lags (no zero) 10\n",
      "ssr based F test:         F=0.8030  , p=0.6263  , df_denom=69, df_num=10\n",
      "ssr based chi2 test:   chi2=10.4739 , p=0.3999  , df=10\n",
      "likelihood ratio test: chi2=9.9079  , p=0.4486  , df=10\n",
      "parameter F test:         F=0.8030  , p=0.6263  , df_denom=69, df_num=10\n",
      "\n",
      "Granger Causality\n",
      "number of lags (no zero) 10\n",
      "ssr based F test:         F=0.7539  , p=0.6717  , df_denom=69, df_num=10\n",
      "ssr based chi2 test:   chi2=9.8338  , p=0.4552  , df=10\n",
      "likelihood ratio test: chi2=9.3327  , p=0.5008  , df=10\n",
      "parameter F test:         F=0.7539  , p=0.6717  , df_denom=69, df_num=10\n",
      "\n",
      "Granger Causality\n",
      "number of lags (no zero) 10\n",
      "ssr based F test:         F=2.4269  , p=0.0153  , df_denom=69, df_num=10\n",
      "ssr based chi2 test:   chi2=31.6549 , p=0.0005  , df=10\n",
      "likelihood ratio test: chi2=27.1241 , p=0.0025  , df=10\n",
      "parameter F test:         F=2.4269  , p=0.0153  , df_denom=69, df_num=10\n",
      "\n",
      "Granger Causality\n",
      "number of lags (no zero) 10\n",
      "ssr based F test:         F=0.7072  , p=0.7146  , df_denom=69, df_num=10\n",
      "ssr based chi2 test:   chi2=9.2242  , p=0.5110  , df=10\n",
      "likelihood ratio test: chi2=8.7815  , p=0.5530  , df=10\n",
      "parameter F test:         F=0.7072  , p=0.7146  , df_denom=69, df_num=10\n",
      "\n",
      "Granger Causality\n",
      "number of lags (no zero) 10\n",
      "ssr based F test:         F=0.2439  , p=0.9904  , df_denom=69, df_num=10\n",
      "ssr based chi2 test:   chi2=3.1817  , p=0.9768  , df=10\n",
      "likelihood ratio test: chi2=3.1268  , p=0.9783  , df=10\n",
      "parameter F test:         F=0.2439  , p=0.9904  , df_denom=69, df_num=10\n",
      "\n",
      "Granger Causality\n",
      "number of lags (no zero) 10\n",
      "ssr based F test:         F=1.0062  , p=0.4472  , df_denom=69, df_num=10\n",
      "ssr based chi2 test:   chi2=13.1247 , p=0.2168  , df=10\n",
      "likelihood ratio test: chi2=12.2516 , p=0.2686  , df=10\n",
      "parameter F test:         F=1.0062  , p=0.4472  , df_denom=69, df_num=10\n",
      "\n",
      "Granger Causality\n",
      "number of lags (no zero) 10\n",
      "ssr based F test:         F=1.2861  , p=0.2556  , df_denom=69, df_num=10\n",
      "ssr based chi2 test:   chi2=16.7747 , p=0.0795  , df=10\n",
      "likelihood ratio test: chi2=15.3821 , p=0.1187  , df=10\n",
      "parameter F test:         F=1.2861  , p=0.2556  , df_denom=69, df_num=10\n",
      "\n",
      "Granger Causality\n",
      "number of lags (no zero) 10\n",
      "ssr based F test:         F=0.9918  , p=0.4590  , df_denom=69, df_num=10\n",
      "ssr based chi2 test:   chi2=12.9370 , p=0.2272  , df=10\n",
      "likelihood ratio test: chi2=12.0877 , p=0.2792  , df=10\n",
      "parameter F test:         F=0.9918  , p=0.4590  , df_denom=69, df_num=10\n",
      "\n",
      "Granger Causality\n",
      "number of lags (no zero) 10\n",
      "ssr based F test:         F=0.7430  , p=0.6817  , df_denom=69, df_num=10\n",
      "ssr based chi2 test:   chi2=9.6918  , p=0.4679  , df=10\n",
      "likelihood ratio test: chi2=9.2047  , p=0.5128  , df=10\n",
      "parameter F test:         F=0.7430  , p=0.6817  , df_denom=69, df_num=10\n",
      "\n",
      "Granger Causality\n",
      "number of lags (no zero) 10\n",
      "ssr based F test:         F=1.9720  , p=0.0499  , df_denom=69, df_num=10\n",
      "ssr based chi2 test:   chi2=25.7211 , p=0.0041  , df=10\n",
      "likelihood ratio test: chi2=22.6236 , p=0.0122  , df=10\n",
      "parameter F test:         F=1.9720  , p=0.0499  , df_denom=69, df_num=10\n",
      "\n",
      "Granger Causality\n",
      "number of lags (no zero) 10\n",
      "ssr based F test:         F=0.4156  , p=0.9346  , df_denom=69, df_num=10\n",
      "ssr based chi2 test:   chi2=5.4204  , p=0.8614  , df=10\n",
      "likelihood ratio test: chi2=5.2634  , p=0.8729  , df=10\n",
      "parameter F test:         F=0.4156  , p=0.9346  , df_denom=69, df_num=10\n",
      "\n",
      "Granger Causality\n",
      "number of lags (no zero) 10\n",
      "ssr based F test:         F=0.9015  , p=0.5367  , df_denom=69, df_num=10\n",
      "ssr based chi2 test:   chi2=11.7581 , p=0.3016  , df=10\n",
      "likelihood ratio test: chi2=11.0510 , p=0.3536  , df=10\n",
      "parameter F test:         F=0.9015  , p=0.5367  , df_denom=69, df_num=10\n",
      "\n",
      "Granger Causality\n",
      "number of lags (no zero) 10\n",
      "ssr based F test:         F=0.7672  , p=0.6594  , df_denom=69, df_num=10\n",
      "ssr based chi2 test:   chi2=10.0074 , p=0.4398  , df=10\n",
      "likelihood ratio test: chi2=9.4891  , p=0.4864  , df=10\n",
      "parameter F test:         F=0.7672  , p=0.6594  , df_denom=69, df_num=10\n",
      "\n",
      "Granger Causality\n",
      "number of lags (no zero) 10\n",
      "ssr based F test:         F=0.5974  , p=0.8107  , df_denom=69, df_num=10\n",
      "ssr based chi2 test:   chi2=7.7920  , p=0.6491  , df=10\n",
      "likelihood ratio test: chi2=7.4729  , p=0.6802  , df=10\n",
      "parameter F test:         F=0.5974  , p=0.8107  , df_denom=69, df_num=10\n",
      "\n",
      "Granger Causality\n",
      "number of lags (no zero) 10\n",
      "ssr based F test:         F=0.9492  , p=0.4949  , df_denom=69, df_num=10\n",
      "ssr based chi2 test:   chi2=12.3815 , p=0.2603  , df=10\n",
      "likelihood ratio test: chi2=11.6006 , p=0.3127  , df=10\n",
      "parameter F test:         F=0.9492  , p=0.4949  , df_denom=69, df_num=10\n",
      "\n",
      "Granger Causality\n",
      "number of lags (no zero) 10\n",
      "ssr based F test:         F=0.9079  , p=0.5310  , df_denom=69, df_num=10\n",
      "ssr based chi2 test:   chi2=11.8420 , p=0.2958  , df=10\n",
      "likelihood ratio test: chi2=11.1252 , p=0.3478  , df=10\n",
      "parameter F test:         F=0.9079  , p=0.5310  , df_denom=69, df_num=10\n",
      "\n",
      "Granger Causality\n",
      "number of lags (no zero) 10\n",
      "ssr based F test:         F=1.4068  , p=0.1958  , df_denom=69, df_num=10\n",
      "ssr based chi2 test:   chi2=18.3496 , p=0.0493  , df=10\n",
      "likelihood ratio test: chi2=16.6998 , p=0.0813  , df=10\n",
      "parameter F test:         F=1.4068  , p=0.1958  , df_denom=69, df_num=10\n",
      "\n",
      "Granger Causality\n",
      "number of lags (no zero) 10\n",
      "ssr based F test:         F=0.3905  , p=0.9467  , df_denom=69, df_num=10\n",
      "ssr based chi2 test:   chi2=5.0934  , p=0.8849  , df=10\n",
      "likelihood ratio test: chi2=4.9545  , p=0.8942  , df=10\n",
      "parameter F test:         F=0.3905  , p=0.9467  , df_denom=69, df_num=10\n",
      "\n",
      "Granger Causality\n",
      "number of lags (no zero) 10\n",
      "ssr based F test:         F=0.8282  , p=0.6030  , df_denom=69, df_num=10\n",
      "ssr based chi2 test:   chi2=10.8033 , p=0.3731  , df=10\n",
      "likelihood ratio test: chi2=10.2025 , p=0.4229  , df=10\n",
      "parameter F test:         F=0.8282  , p=0.6030  , df_denom=69, df_num=10\n",
      "\n",
      "Granger Causality\n",
      "number of lags (no zero) 10\n",
      "ssr based F test:         F=0.9953  , p=0.4562  , df_denom=69, df_num=10\n",
      "ssr based chi2 test:   chi2=12.9817 , p=0.2247  , df=10\n",
      "likelihood ratio test: chi2=12.1268 , p=0.2767  , df=10\n",
      "parameter F test:         F=0.9953  , p=0.4562  , df_denom=69, df_num=10\n",
      "\n",
      "Granger Causality\n",
      "number of lags (no zero) 10\n",
      "ssr based F test:         F=1.1513  , p=0.3385  , df_denom=69, df_num=10\n",
      "ssr based chi2 test:   chi2=15.0174 , p=0.1314  , df=10\n",
      "likelihood ratio test: chi2=13.8885 , p=0.1781  , df=10\n",
      "parameter F test:         F=1.1513  , p=0.3385  , df_denom=69, df_num=10\n",
      "\n",
      "Granger Causality\n",
      "number of lags (no zero) 10\n",
      "ssr based F test:         F=1.6786  , p=0.1035  , df_denom=69, df_num=10\n",
      "ssr based chi2 test:   chi2=21.8943 , p=0.0157  , df=10\n",
      "likelihood ratio test: chi2=19.5970 , p=0.0333  , df=10\n",
      "parameter F test:         F=1.6786  , p=0.1035  , df_denom=69, df_num=10\n",
      "300\n",
      "\n"
     ]
    },
    {
     "data": {
      "application/vnd.vega.v5+json": {
       "$schema": "https://vega.github.io/schema/vega/v5.json",
       "axes": [
        {
         "name": "x_axis",
         "orient": "bottom",
         "scale": "xscale",
         "zindex": 100
        },
        {
         "name": "y_axis",
         "orient": "left",
         "scale": "yscale",
         "zindex": 100
        }
       ],
       "background": "white",
       "data": [
        {
         "name": "distributions",
         "transform": [
          {
           "sort": {
            "field": [
             "trajectory",
             "timepoint"
            ]
           },
           "type": "collect"
          }
         ],
         "values": [
          {
           "lower": 0,
           "timepoint": 0,
           "trajectory": "Example",
           "upper": 0
          },
          {
           "lower": -1,
           "timepoint": 1,
           "trajectory": "Example",
           "upper": 1
          },
          {
           "lower": -2,
           "timepoint": 2,
           "trajectory": "Example",
           "upper": 2
          },
          {
           "lower": -3,
           "timepoint": 3,
           "trajectory": "Example",
           "upper": 3
          },
          {
           "lower": -4,
           "timepoint": 4,
           "trajectory": "Example",
           "upper": 4
          },
          {
           "lower": -3,
           "timepoint": 5,
           "trajectory": "Example",
           "upper": 3
          },
          {
           "lower": -4,
           "timepoint": 6,
           "trajectory": "Example",
           "upper": 4
          },
          {
           "lower": -5,
           "timepoint": 7,
           "trajectory": "Example",
           "upper": 3
          },
          {
           "lower": -4,
           "timepoint": 8,
           "trajectory": "Example",
           "upper": 4
          },
          {
           "lower": -5,
           "timepoint": 9,
           "trajectory": "Example",
           "upper": 5
          },
          {
           "lower": -6,
           "timepoint": 10,
           "trajectory": "Example",
           "upper": 4
          },
          {
           "lower": -5,
           "timepoint": 11,
           "trajectory": "Example",
           "upper": 5
          },
          {
           "lower": -6,
           "timepoint": 12,
           "trajectory": "Example",
           "upper": 6
          },
          {
           "lower": -5,
           "timepoint": 13,
           "trajectory": "Example",
           "upper": 5
          },
          {
           "lower": -6,
           "timepoint": 14,
           "trajectory": "Example",
           "upper": 6
          },
          {
           "lower": -5,
           "timepoint": 15,
           "trajectory": "Example",
           "upper": 7
          },
          {
           "lower": -6,
           "timepoint": 16,
           "trajectory": "Example",
           "upper": 6
          },
          {
           "lower": -7,
           "timepoint": 17,
           "trajectory": "Example",
           "upper": 7
          },
          {
           "lower": -6,
           "timepoint": 18,
           "trajectory": "Example",
           "upper": 8
          },
          {
           "lower": -7,
           "timepoint": 19,
           "trajectory": "Example",
           "upper": 7
          },
          {
           "lower": -6,
           "timepoint": 20,
           "trajectory": "Example",
           "upper": 8
          },
          {
           "lower": -7,
           "timepoint": 21,
           "trajectory": "Example",
           "upper": 7
          },
          {
           "lower": -6,
           "timepoint": 22,
           "trajectory": "Example",
           "upper": 8
          },
          {
           "lower": -7,
           "timepoint": 23,
           "trajectory": "Example",
           "upper": 7
          },
          {
           "lower": -8,
           "timepoint": 24,
           "trajectory": "Example",
           "upper": 8
          },
          {
           "lower": -7,
           "timepoint": 25,
           "trajectory": "Example",
           "upper": 9
          },
          {
           "lower": -8,
           "timepoint": 26,
           "trajectory": "Example",
           "upper": 8
          },
          {
           "lower": -9,
           "timepoint": 27,
           "trajectory": "Example",
           "upper": 9
          },
          {
           "lower": -8,
           "timepoint": 28,
           "trajectory": "Example",
           "upper": 10
          },
          {
           "lower": -9,
           "timepoint": 29,
           "trajectory": "Example",
           "upper": 9
          },
          {
           "lower": -8.099999999999998,
           "timepoint": 30,
           "trajectory": "Example",
           "upper": 10
          },
          {
           "lower": -9,
           "timepoint": 31,
           "trajectory": "Example",
           "upper": 9.100000000000023
          },
          {
           "lower": -10,
           "timepoint": 32,
           "trajectory": "Example",
           "upper": 10
          },
          {
           "lower": -9.099999999999998,
           "timepoint": 33,
           "trajectory": "Example",
           "upper": 9.100000000000023
          },
          {
           "lower": -10,
           "timepoint": 34,
           "trajectory": "Example",
           "upper": 10
          },
          {
           "lower": -9,
           "timepoint": 35,
           "trajectory": "Example",
           "upper": 11
          },
          {
           "lower": -10,
           "timepoint": 36,
           "trajectory": "Example",
           "upper": 10
          },
          {
           "lower": -9,
           "timepoint": 37,
           "trajectory": "Example",
           "upper": 11
          },
          {
           "lower": -10,
           "timepoint": 38,
           "trajectory": "Example",
           "upper": 10.100000000000023
          },
          {
           "lower": -9,
           "timepoint": 39,
           "trajectory": "Example",
           "upper": 11
          },
          {
           "lower": -10,
           "timepoint": 40,
           "trajectory": "Example",
           "upper": 12
          },
          {
           "lower": -11,
           "timepoint": 41,
           "trajectory": "Example",
           "upper": 11
          },
          {
           "lower": -10,
           "timepoint": 42,
           "trajectory": "Example",
           "upper": 12
          },
          {
           "lower": -11,
           "timepoint": 43,
           "trajectory": "Example",
           "upper": 13
          },
          {
           "lower": -10,
           "timepoint": 44,
           "trajectory": "Example",
           "upper": 12
          },
          {
           "lower": -11,
           "timepoint": 45,
           "trajectory": "Example",
           "upper": 13
          },
          {
           "lower": -10,
           "timepoint": 46,
           "trajectory": "Example",
           "upper": 12
          },
          {
           "lower": -11,
           "timepoint": 47,
           "trajectory": "Example",
           "upper": 13
          },
          {
           "lower": -12,
           "timepoint": 48,
           "trajectory": "Example",
           "upper": 12.100000000000023
          },
          {
           "lower": -11,
           "timepoint": 49,
           "trajectory": "Example",
           "upper": 13
          },
          {
           "lower": -12,
           "timepoint": 50,
           "trajectory": "Example",
           "upper": 12
          },
          {
           "lower": -11,
           "timepoint": 51,
           "trajectory": "Example",
           "upper": 11.100000000000023
          },
          {
           "lower": -12,
           "timepoint": 52,
           "trajectory": "Example",
           "upper": 12
          },
          {
           "lower": -11,
           "timepoint": 53,
           "trajectory": "Example",
           "upper": 13
          },
          {
           "lower": -12,
           "timepoint": 54,
           "trajectory": "Example",
           "upper": 12
          },
          {
           "lower": -13,
           "timepoint": 55,
           "trajectory": "Example",
           "upper": 11.100000000000023
          },
          {
           "lower": -12.099999999999998,
           "timepoint": 56,
           "trajectory": "Example",
           "upper": 12
          },
          {
           "lower": -13,
           "timepoint": 57,
           "trajectory": "Example",
           "upper": 13
          },
          {
           "lower": -14,
           "timepoint": 58,
           "trajectory": "Example",
           "upper": 12
          },
          {
           "lower": -13,
           "timepoint": 59,
           "trajectory": "Example",
           "upper": 13
          },
          {
           "lower": -14,
           "timepoint": 60,
           "trajectory": "Example",
           "upper": 12.100000000000023
          },
          {
           "lower": -15,
           "timepoint": 61,
           "trajectory": "Example",
           "upper": 13
          },
          {
           "lower": -14,
           "timepoint": 62,
           "trajectory": "Example",
           "upper": 12.100000000000023
          },
          {
           "lower": -15,
           "timepoint": 63,
           "trajectory": "Example",
           "upper": 13
          },
          {
           "lower": -14,
           "timepoint": 64,
           "trajectory": "Example",
           "upper": 14
          },
          {
           "lower": -13.099999999999998,
           "timepoint": 65,
           "trajectory": "Example",
           "upper": 15
          },
          {
           "lower": -14,
           "timepoint": 66,
           "trajectory": "Example",
           "upper": 14
          },
          {
           "lower": -13,
           "timepoint": 67,
           "trajectory": "Example",
           "upper": 13
          },
          {
           "lower": -14,
           "timepoint": 68,
           "trajectory": "Example",
           "upper": 14
          },
          {
           "lower": -13,
           "timepoint": 69,
           "trajectory": "Example",
           "upper": 15
          },
          {
           "lower": -14,
           "timepoint": 70,
           "trajectory": "Example",
           "upper": 14
          },
          {
           "lower": -13,
           "timepoint": 71,
           "trajectory": "Example",
           "upper": 15
          },
          {
           "lower": -14,
           "timepoint": 72,
           "trajectory": "Example",
           "upper": 14
          },
          {
           "lower": -13.099999999999998,
           "timepoint": 73,
           "trajectory": "Example",
           "upper": 15
          },
          {
           "lower": -14,
           "timepoint": 74,
           "trajectory": "Example",
           "upper": 14
          },
          {
           "lower": -15,
           "timepoint": 75,
           "trajectory": "Example",
           "upper": 15
          },
          {
           "lower": -14.099999999999998,
           "timepoint": 76,
           "trajectory": "Example",
           "upper": 14
          },
          {
           "lower": -15,
           "timepoint": 77,
           "trajectory": "Example",
           "upper": 15
          },
          {
           "lower": -14,
           "timepoint": 78,
           "trajectory": "Example",
           "upper": 14.100000000000023
          },
          {
           "lower": -15,
           "timepoint": 79,
           "trajectory": "Example",
           "upper": 15
          },
          {
           "lower": -14,
           "timepoint": 80,
           "trajectory": "Example",
           "upper": 16
          },
          {
           "lower": -15,
           "timepoint": 81,
           "trajectory": "Example",
           "upper": 15
          },
          {
           "lower": -16,
           "timepoint": 82,
           "trajectory": "Example",
           "upper": 16
          },
          {
           "lower": -15,
           "timepoint": 83,
           "trajectory": "Example",
           "upper": 15
          },
          {
           "lower": -14.099999999999998,
           "timepoint": 84,
           "trajectory": "Example",
           "upper": 16
          },
          {
           "lower": -15,
           "timepoint": 85,
           "trajectory": "Example",
           "upper": 15
          },
          {
           "lower": -14.099999999999998,
           "timepoint": 86,
           "trajectory": "Example",
           "upper": 16
          },
          {
           "lower": -15,
           "timepoint": 87,
           "trajectory": "Example",
           "upper": 17
          },
          {
           "lower": -14.099999999999998,
           "timepoint": 88,
           "trajectory": "Example",
           "upper": 16.100000000000023
          },
          {
           "lower": -15,
           "timepoint": 89,
           "trajectory": "Example",
           "upper": 17
          },
          {
           "lower": -16,
           "timepoint": 90,
           "trajectory": "Example",
           "upper": 16
          },
          {
           "lower": -15,
           "timepoint": 91,
           "trajectory": "Example",
           "upper": 17
          },
          {
           "lower": -14.099999999999998,
           "timepoint": 92,
           "trajectory": "Example",
           "upper": 16.100000000000023
          },
          {
           "lower": -15,
           "timepoint": 93,
           "trajectory": "Example",
           "upper": 17
          },
          {
           "lower": -16,
           "timepoint": 94,
           "trajectory": "Example",
           "upper": 18
          },
          {
           "lower": -15,
           "timepoint": 95,
           "trajectory": "Example",
           "upper": 17
          },
          {
           "lower": -16,
           "timepoint": 96,
           "trajectory": "Example",
           "upper": 18
          },
          {
           "lower": -15.099999999999998,
           "timepoint": 97,
           "trajectory": "Example",
           "upper": 17
          },
          {
           "lower": -16,
           "timepoint": 98,
           "trajectory": "Example",
           "upper": 18
          },
          {
           "lower": -15,
           "timepoint": 99,
           "trajectory": "Example",
           "upper": 17
          }
         ]
        },
        {
         "name": "traces",
         "transform": [
          {
           "expr": "isValid(datum.value)",
           "type": "filter"
          },
          {
           "sort": {
            "field": [
             "trajectory",
             "timepoint"
            ]
           },
           "type": "collect"
          }
         ],
         "values": [
          {
           "color_by": "Baseline Mean",
           "sample_id": 0,
           "timepoint": 0,
           "trajectory": "Baseline_Mean",
           "value": 0
          },
          {
           "color_by": "Baseline Mean",
           "sample_id": 0,
           "timepoint": 1,
           "trajectory": "Baseline_Mean",
           "value": 0.08666666666666667
          },
          {
           "color_by": "Baseline Mean",
           "sample_id": 0,
           "timepoint": 2,
           "trajectory": "Baseline_Mean",
           "value": 0.08666666666666667
          },
          {
           "color_by": "Baseline Mean",
           "sample_id": 0,
           "timepoint": 3,
           "trajectory": "Baseline_Mean",
           "value": 0.05333333333333334
          },
          {
           "color_by": "Baseline Mean",
           "sample_id": 0,
           "timepoint": 4,
           "trajectory": "Baseline_Mean",
           "value": 0.1
          },
          {
           "color_by": "Baseline Mean",
           "sample_id": 0,
           "timepoint": 5,
           "trajectory": "Baseline_Mean",
           "value": 0.03333333333333333
          },
          {
           "color_by": "Baseline Mean",
           "sample_id": 0,
           "timepoint": 6,
           "trajectory": "Baseline_Mean",
           "value": -0.02666666666666667
          },
          {
           "color_by": "Baseline Mean",
           "sample_id": 0,
           "timepoint": 7,
           "trajectory": "Baseline_Mean",
           "value": -0.06
          },
          {
           "color_by": "Baseline Mean",
           "sample_id": 0,
           "timepoint": 8,
           "trajectory": "Baseline_Mean",
           "value": 0.04
          },
          {
           "color_by": "Baseline Mean",
           "sample_id": 0,
           "timepoint": 9,
           "trajectory": "Baseline_Mean",
           "value": 0.09333333333333334
          },
          {
           "color_by": "Baseline Mean",
           "sample_id": 0,
           "timepoint": 10,
           "trajectory": "Baseline_Mean",
           "value": 0.07333333333333333
          },
          {
           "color_by": "Baseline Mean",
           "sample_id": 0,
           "timepoint": 11,
           "trajectory": "Baseline_Mean",
           "value": 0.02666666666666667
          },
          {
           "color_by": "Baseline Mean",
           "sample_id": 0,
           "timepoint": 12,
           "trajectory": "Baseline_Mean",
           "value": 0.04666666666666667
          },
          {
           "color_by": "Baseline Mean",
           "sample_id": 0,
           "timepoint": 13,
           "trajectory": "Baseline_Mean",
           "value": 0.09333333333333334
          },
          {
           "color_by": "Baseline Mean",
           "sample_id": 0,
           "timepoint": 14,
           "trajectory": "Baseline_Mean",
           "value": 0.11333333333333333
          },
          {
           "color_by": "Baseline Mean",
           "sample_id": 0,
           "timepoint": 15,
           "trajectory": "Baseline_Mean",
           "value": 0.08666666666666667
          },
          {
           "color_by": "Baseline Mean",
           "sample_id": 0,
           "timepoint": 16,
           "trajectory": "Baseline_Mean",
           "value": 0.15333333333333332
          },
          {
           "color_by": "Baseline Mean",
           "sample_id": 0,
           "timepoint": 17,
           "trajectory": "Baseline_Mean",
           "value": 0.18
          },
          {
           "color_by": "Baseline Mean",
           "sample_id": 0,
           "timepoint": 18,
           "trajectory": "Baseline_Mean",
           "value": 0.04
          },
          {
           "color_by": "Baseline Mean",
           "sample_id": 0,
           "timepoint": 19,
           "trajectory": "Baseline_Mean",
           "value": 0.04
          },
          {
           "color_by": "Baseline Mean",
           "sample_id": 0,
           "timepoint": 20,
           "trajectory": "Baseline_Mean",
           "value": 0.08
          },
          {
           "color_by": "Baseline Mean",
           "sample_id": 0,
           "timepoint": 21,
           "trajectory": "Baseline_Mean",
           "value": 0.10666666666666667
          },
          {
           "color_by": "Baseline Mean",
           "sample_id": 0,
           "timepoint": 22,
           "trajectory": "Baseline_Mean",
           "value": 0.09333333333333334
          },
          {
           "color_by": "Baseline Mean",
           "sample_id": 0,
           "timepoint": 23,
           "trajectory": "Baseline_Mean",
           "value": 0.1
          },
          {
           "color_by": "Baseline Mean",
           "sample_id": 0,
           "timepoint": 24,
           "trajectory": "Baseline_Mean",
           "value": 0.05333333333333334
          },
          {
           "color_by": "Baseline Mean",
           "sample_id": 0,
           "timepoint": 25,
           "trajectory": "Baseline_Mean",
           "value": 0.02666666666666667
          },
          {
           "color_by": "Baseline Mean",
           "sample_id": 0,
           "timepoint": 26,
           "trajectory": "Baseline_Mean",
           "value": 0.06
          },
          {
           "color_by": "Baseline Mean",
           "sample_id": 0,
           "timepoint": 27,
           "trajectory": "Baseline_Mean",
           "value": 0.02
          },
          {
           "color_by": "Baseline Mean",
           "sample_id": 0,
           "timepoint": 28,
           "trajectory": "Baseline_Mean",
           "value": 0
          },
          {
           "color_by": "Baseline Mean",
           "sample_id": 0,
           "timepoint": 29,
           "trajectory": "Baseline_Mean",
           "value": 0.06666666666666667
          },
          {
           "color_by": "Baseline Mean",
           "sample_id": 0,
           "timepoint": 30,
           "trajectory": "Baseline_Mean",
           "value": 0.03333333333333333
          },
          {
           "color_by": "Baseline Mean",
           "sample_id": 0,
           "timepoint": 31,
           "trajectory": "Baseline_Mean",
           "value": -0.02
          },
          {
           "color_by": "Baseline Mean",
           "sample_id": 0,
           "timepoint": 32,
           "trajectory": "Baseline_Mean",
           "value": 0
          },
          {
           "color_by": "Baseline Mean",
           "sample_id": 0,
           "timepoint": 33,
           "trajectory": "Baseline_Mean",
           "value": 0
          },
          {
           "color_by": "Baseline Mean",
           "sample_id": 0,
           "timepoint": 34,
           "trajectory": "Baseline_Mean",
           "value": 0.006666666666666667
          },
          {
           "color_by": "Baseline Mean",
           "sample_id": 0,
           "timepoint": 35,
           "trajectory": "Baseline_Mean",
           "value": 0.12
          },
          {
           "color_by": "Baseline Mean",
           "sample_id": 0,
           "timepoint": 36,
           "trajectory": "Baseline_Mean",
           "value": 0.19333333333333333
          },
          {
           "color_by": "Baseline Mean",
           "sample_id": 0,
           "timepoint": 37,
           "trajectory": "Baseline_Mean",
           "value": 0.24666666666666667
          },
          {
           "color_by": "Baseline Mean",
           "sample_id": 0,
           "timepoint": 38,
           "trajectory": "Baseline_Mean",
           "value": 0.20666666666666667
          },
          {
           "color_by": "Baseline Mean",
           "sample_id": 0,
           "timepoint": 39,
           "trajectory": "Baseline_Mean",
           "value": 0.15333333333333332
          },
          {
           "color_by": "Baseline Mean",
           "sample_id": 0,
           "timepoint": 40,
           "trajectory": "Baseline_Mean",
           "value": 0.08666666666666667
          },
          {
           "color_by": "Baseline Mean",
           "sample_id": 0,
           "timepoint": 41,
           "trajectory": "Baseline_Mean",
           "value": 0.14
          },
          {
           "color_by": "Baseline Mean",
           "sample_id": 0,
           "timepoint": 42,
           "trajectory": "Baseline_Mean",
           "value": 0.12
          },
          {
           "color_by": "Baseline Mean",
           "sample_id": 0,
           "timepoint": 43,
           "trajectory": "Baseline_Mean",
           "value": 0.12666666666666668
          },
          {
           "color_by": "Baseline Mean",
           "sample_id": 0,
           "timepoint": 44,
           "trajectory": "Baseline_Mean",
           "value": 0.20666666666666667
          },
          {
           "color_by": "Baseline Mean",
           "sample_id": 0,
           "timepoint": 45,
           "trajectory": "Baseline_Mean",
           "value": 0.2733333333333333
          },
          {
           "color_by": "Baseline Mean",
           "sample_id": 0,
           "timepoint": 46,
           "trajectory": "Baseline_Mean",
           "value": 0.25333333333333335
          },
          {
           "color_by": "Baseline Mean",
           "sample_id": 0,
           "timepoint": 47,
           "trajectory": "Baseline_Mean",
           "value": 0.18
          },
          {
           "color_by": "Baseline Mean",
           "sample_id": 0,
           "timepoint": 48,
           "trajectory": "Baseline_Mean",
           "value": 0.14666666666666667
          },
          {
           "color_by": "Baseline Mean",
           "sample_id": 0,
           "timepoint": 49,
           "trajectory": "Baseline_Mean",
           "value": -0.04666666666666667
          },
          {
           "color_by": "Baseline Mean",
           "sample_id": 0,
           "timepoint": 50,
           "trajectory": "Baseline_Mean",
           "value": -0.06
          },
          {
           "color_by": "Baseline Mean",
           "sample_id": 0,
           "timepoint": 51,
           "trajectory": "Baseline_Mean",
           "value": -0.07333333333333333
          },
          {
           "color_by": "Baseline Mean",
           "sample_id": 0,
           "timepoint": 52,
           "trajectory": "Baseline_Mean",
           "value": -0.03333333333333333
          },
          {
           "color_by": "Baseline Mean",
           "sample_id": 0,
           "timepoint": 53,
           "trajectory": "Baseline_Mean",
           "value": -0.013333333333333334
          },
          {
           "color_by": "Baseline Mean",
           "sample_id": 0,
           "timepoint": 54,
           "trajectory": "Baseline_Mean",
           "value": -0.04
          },
          {
           "color_by": "Baseline Mean",
           "sample_id": 0,
           "timepoint": 55,
           "trajectory": "Baseline_Mean",
           "value": -0.04666666666666667
          },
          {
           "color_by": "Baseline Mean",
           "sample_id": 0,
           "timepoint": 56,
           "trajectory": "Baseline_Mean",
           "value": -0.13333333333333333
          },
          {
           "color_by": "Baseline Mean",
           "sample_id": 0,
           "timepoint": 57,
           "trajectory": "Baseline_Mean",
           "value": -0.17333333333333334
          },
          {
           "color_by": "Baseline Mean",
           "sample_id": 0,
           "timepoint": 58,
           "trajectory": "Baseline_Mean",
           "value": -0.1
          },
          {
           "color_by": "Baseline Mean",
           "sample_id": 0,
           "timepoint": 59,
           "trajectory": "Baseline_Mean",
           "value": -0.04666666666666667
          },
          {
           "color_by": "Baseline Mean",
           "sample_id": 0,
           "timepoint": 60,
           "trajectory": "Baseline_Mean",
           "value": -0.13333333333333333
          },
          {
           "color_by": "Baseline Mean",
           "sample_id": 0,
           "timepoint": 61,
           "trajectory": "Baseline_Mean",
           "value": -0.08666666666666667
          },
          {
           "color_by": "Baseline Mean",
           "sample_id": 0,
           "timepoint": 62,
           "trajectory": "Baseline_Mean",
           "value": -0.16
          },
          {
           "color_by": "Baseline Mean",
           "sample_id": 0,
           "timepoint": 63,
           "trajectory": "Baseline_Mean",
           "value": -0.14
          },
          {
           "color_by": "Baseline Mean",
           "sample_id": 0,
           "timepoint": 64,
           "trajectory": "Baseline_Mean",
           "value": -0.16666666666666666
          },
          {
           "color_by": "Baseline Mean",
           "sample_id": 0,
           "timepoint": 65,
           "trajectory": "Baseline_Mean",
           "value": -0.15333333333333332
          },
          {
           "color_by": "Baseline Mean",
           "sample_id": 0,
           "timepoint": 66,
           "trajectory": "Baseline_Mean",
           "value": -0.20666666666666667
          },
          {
           "color_by": "Baseline Mean",
           "sample_id": 0,
           "timepoint": 67,
           "trajectory": "Baseline_Mean",
           "value": -0.22666666666666666
          },
          {
           "color_by": "Baseline Mean",
           "sample_id": 0,
           "timepoint": 68,
           "trajectory": "Baseline_Mean",
           "value": -0.32
          },
          {
           "color_by": "Baseline Mean",
           "sample_id": 0,
           "timepoint": 69,
           "trajectory": "Baseline_Mean",
           "value": -0.26
          },
          {
           "color_by": "Baseline Mean",
           "sample_id": 0,
           "timepoint": 70,
           "trajectory": "Baseline_Mean",
           "value": -0.24666666666666667
          },
          {
           "color_by": "Baseline Mean",
           "sample_id": 0,
           "timepoint": 71,
           "trajectory": "Baseline_Mean",
           "value": -0.22666666666666666
          },
          {
           "color_by": "Baseline Mean",
           "sample_id": 0,
           "timepoint": 72,
           "trajectory": "Baseline_Mean",
           "value": -0.22
          },
          {
           "color_by": "Baseline Mean",
           "sample_id": 0,
           "timepoint": 73,
           "trajectory": "Baseline_Mean",
           "value": -0.25333333333333335
          },
          {
           "color_by": "Baseline Mean",
           "sample_id": 0,
           "timepoint": 74,
           "trajectory": "Baseline_Mean",
           "value": -0.30666666666666664
          },
          {
           "color_by": "Baseline Mean",
           "sample_id": 0,
           "timepoint": 75,
           "trajectory": "Baseline_Mean",
           "value": -0.28
          },
          {
           "color_by": "Baseline Mean",
           "sample_id": 0,
           "timepoint": 76,
           "trajectory": "Baseline_Mean",
           "value": -0.30666666666666664
          },
          {
           "color_by": "Baseline Mean",
           "sample_id": 0,
           "timepoint": 77,
           "trajectory": "Baseline_Mean",
           "value": -0.2866666666666667
          },
          {
           "color_by": "Baseline Mean",
           "sample_id": 0,
           "timepoint": 78,
           "trajectory": "Baseline_Mean",
           "value": -0.22666666666666666
          },
          {
           "color_by": "Baseline Mean",
           "sample_id": 0,
           "timepoint": 79,
           "trajectory": "Baseline_Mean",
           "value": -0.24666666666666667
          },
          {
           "color_by": "Baseline Mean",
           "sample_id": 0,
           "timepoint": 80,
           "trajectory": "Baseline_Mean",
           "value": -0.16666666666666666
          },
          {
           "color_by": "Baseline Mean",
           "sample_id": 0,
           "timepoint": 81,
           "trajectory": "Baseline_Mean",
           "value": -0.06666666666666667
          },
          {
           "color_by": "Baseline Mean",
           "sample_id": 0,
           "timepoint": 82,
           "trajectory": "Baseline_Mean",
           "value": -0.12666666666666668
          },
          {
           "color_by": "Baseline Mean",
           "sample_id": 0,
           "timepoint": 83,
           "trajectory": "Baseline_Mean",
           "value": -0.11333333333333333
          },
          {
           "color_by": "Baseline Mean",
           "sample_id": 0,
           "timepoint": 84,
           "trajectory": "Baseline_Mean",
           "value": -0.16666666666666666
          },
          {
           "color_by": "Baseline Mean",
           "sample_id": 0,
           "timepoint": 85,
           "trajectory": "Baseline_Mean",
           "value": -0.16666666666666666
          },
          {
           "color_by": "Baseline Mean",
           "sample_id": 0,
           "timepoint": 86,
           "trajectory": "Baseline_Mean",
           "value": -0.19333333333333333
          },
          {
           "color_by": "Baseline Mean",
           "sample_id": 0,
           "timepoint": 87,
           "trajectory": "Baseline_Mean",
           "value": -0.20666666666666667
          },
          {
           "color_by": "Baseline Mean",
           "sample_id": 0,
           "timepoint": 88,
           "trajectory": "Baseline_Mean",
           "value": -0.15333333333333332
          },
          {
           "color_by": "Baseline Mean",
           "sample_id": 0,
           "timepoint": 89,
           "trajectory": "Baseline_Mean",
           "value": -0.18
          },
          {
           "color_by": "Baseline Mean",
           "sample_id": 0,
           "timepoint": 90,
           "trajectory": "Baseline_Mean",
           "value": -0.07333333333333333
          },
          {
           "color_by": "Baseline Mean",
           "sample_id": 0,
           "timepoint": 91,
           "trajectory": "Baseline_Mean",
           "value": -0.11333333333333333
          },
          {
           "color_by": "Baseline Mean",
           "sample_id": 0,
           "timepoint": 92,
           "trajectory": "Baseline_Mean",
           "value": -0.09333333333333334
          },
          {
           "color_by": "Baseline Mean",
           "sample_id": 0,
           "timepoint": 93,
           "trajectory": "Baseline_Mean",
           "value": -0.13333333333333333
          },
          {
           "color_by": "Baseline Mean",
           "sample_id": 0,
           "timepoint": 94,
           "trajectory": "Baseline_Mean",
           "value": -0.12
          },
          {
           "color_by": "Baseline Mean",
           "sample_id": 0,
           "timepoint": 95,
           "trajectory": "Baseline_Mean",
           "value": -0.11333333333333333
          },
          {
           "color_by": "Baseline Mean",
           "sample_id": 0,
           "timepoint": 96,
           "trajectory": "Baseline_Mean",
           "value": -0.12666666666666668
          },
          {
           "color_by": "Baseline Mean",
           "sample_id": 0,
           "timepoint": 97,
           "trajectory": "Baseline_Mean",
           "value": -0.12666666666666668
          },
          {
           "color_by": "Baseline Mean",
           "sample_id": 0,
           "timepoint": 98,
           "trajectory": "Baseline_Mean",
           "value": -0.10666666666666667
          },
          {
           "color_by": "Baseline Mean",
           "sample_id": 0,
           "timepoint": 99,
           "trajectory": "Baseline_Mean",
           "value": -0.03333333333333333
          },
          {
           "color_by": "Chaos",
           "sample_id": 0,
           "timepoint": 0,
           "trajectory": "Chaos",
           "value": 0
          },
          {
           "color_by": "Chaos",
           "sample_id": 0,
           "timepoint": 1,
           "trajectory": "Chaos",
           "value": 1
          },
          {
           "color_by": "Chaos",
           "sample_id": 0,
           "timepoint": 2,
           "trajectory": "Chaos",
           "value": 0
          },
          {
           "color_by": "Chaos",
           "sample_id": 0,
           "timepoint": 3,
           "trajectory": "Chaos",
           "value": 1
          },
          {
           "color_by": "Chaos",
           "sample_id": 0,
           "timepoint": 4,
           "trajectory": "Chaos",
           "value": 2
          },
          {
           "color_by": "Chaos",
           "sample_id": 0,
           "timepoint": 5,
           "trajectory": "Chaos",
           "value": 3
          },
          {
           "color_by": "Chaos",
           "sample_id": 0,
           "timepoint": 6,
           "trajectory": "Chaos",
           "value": 2
          },
          {
           "color_by": "Chaos",
           "sample_id": 0,
           "timepoint": 7,
           "trajectory": "Chaos",
           "value": 1
          },
          {
           "color_by": "Chaos",
           "sample_id": 0,
           "timepoint": 8,
           "trajectory": "Chaos",
           "value": 0
          },
          {
           "color_by": "Chaos",
           "sample_id": 0,
           "timepoint": 9,
           "trajectory": "Chaos",
           "value": 1
          },
          {
           "color_by": "Chaos",
           "sample_id": 0,
           "timepoint": 10,
           "trajectory": "Chaos",
           "value": 2
          },
          {
           "color_by": "Chaos",
           "sample_id": 0,
           "timepoint": 11,
           "trajectory": "Chaos",
           "value": 3
          },
          {
           "color_by": "Chaos",
           "sample_id": 0,
           "timepoint": 12,
           "trajectory": "Chaos",
           "value": 2
          },
          {
           "color_by": "Chaos",
           "sample_id": 0,
           "timepoint": 13,
           "trajectory": "Chaos",
           "value": 1
          },
          {
           "color_by": "Chaos",
           "sample_id": 0,
           "timepoint": 14,
           "trajectory": "Chaos",
           "value": 0
          },
          {
           "color_by": "Chaos",
           "sample_id": 0,
           "timepoint": 15,
           "trajectory": "Chaos",
           "value": 1
          },
          {
           "color_by": "Chaos",
           "sample_id": 0,
           "timepoint": 16,
           "trajectory": "Chaos",
           "value": 0
          },
          {
           "color_by": "Chaos",
           "sample_id": 0,
           "timepoint": 17,
           "trajectory": "Chaos",
           "value": 1
          },
          {
           "color_by": "Chaos",
           "sample_id": 0,
           "timepoint": 18,
           "trajectory": "Chaos",
           "value": 0
          },
          {
           "color_by": "Chaos",
           "sample_id": 0,
           "timepoint": 19,
           "trajectory": "Chaos",
           "value": 1
          },
          {
           "color_by": "Chaos",
           "sample_id": 0,
           "timepoint": 20,
           "trajectory": "Chaos",
           "value": 2
          },
          {
           "color_by": "Chaos",
           "sample_id": 0,
           "timepoint": 21,
           "trajectory": "Chaos",
           "value": 1
          },
          {
           "color_by": "Chaos",
           "sample_id": 0,
           "timepoint": 22,
           "trajectory": "Chaos",
           "value": 2
          },
          {
           "color_by": "Chaos",
           "sample_id": 0,
           "timepoint": 23,
           "trajectory": "Chaos",
           "value": 3
          },
          {
           "color_by": "Chaos",
           "sample_id": 0,
           "timepoint": 24,
           "trajectory": "Chaos",
           "value": 4
          },
          {
           "color_by": "Chaos",
           "sample_id": 0,
           "timepoint": 25,
           "trajectory": "Chaos",
           "value": 5
          },
          {
           "color_by": "Chaos",
           "sample_id": 0,
           "timepoint": 26,
           "trajectory": "Chaos",
           "value": 4
          },
          {
           "color_by": "Chaos",
           "sample_id": 0,
           "timepoint": 27,
           "trajectory": "Chaos",
           "value": 3
          },
          {
           "color_by": "Chaos",
           "sample_id": 0,
           "timepoint": 28,
           "trajectory": "Chaos",
           "value": 2
          },
          {
           "color_by": "Chaos",
           "sample_id": 0,
           "timepoint": 29,
           "trajectory": "Chaos",
           "value": 1
          },
          {
           "color_by": "Chaos",
           "sample_id": 0,
           "timepoint": 30,
           "trajectory": "Chaos",
           "value": 0
          },
          {
           "color_by": "Chaos",
           "sample_id": 0,
           "timepoint": 31,
           "trajectory": "Chaos",
           "value": 1
          },
          {
           "color_by": "Chaos",
           "sample_id": 0,
           "timepoint": 32,
           "trajectory": "Chaos",
           "value": 2
          },
          {
           "color_by": "Chaos",
           "sample_id": 0,
           "timepoint": 33,
           "trajectory": "Chaos",
           "value": 3
          },
          {
           "color_by": "Chaos",
           "sample_id": 0,
           "timepoint": 34,
           "trajectory": "Chaos",
           "value": 4
          },
          {
           "color_by": "Chaos",
           "sample_id": 0,
           "timepoint": 35,
           "trajectory": "Chaos",
           "value": 3
          },
          {
           "color_by": "Chaos",
           "sample_id": 0,
           "timepoint": 36,
           "trajectory": "Chaos",
           "value": 4
          },
          {
           "color_by": "Chaos",
           "sample_id": 0,
           "timepoint": 37,
           "trajectory": "Chaos",
           "value": 3
          },
          {
           "color_by": "Chaos",
           "sample_id": 0,
           "timepoint": 38,
           "trajectory": "Chaos",
           "value": 4
          },
          {
           "color_by": "Chaos",
           "sample_id": 0,
           "timepoint": 39,
           "trajectory": "Chaos",
           "value": 3
          },
          {
           "color_by": "Chaos",
           "sample_id": 0,
           "timepoint": 40,
           "trajectory": "Chaos",
           "value": 2
          },
          {
           "color_by": "Chaos",
           "sample_id": 0,
           "timepoint": 41,
           "trajectory": "Chaos",
           "value": 1
          },
          {
           "color_by": "Chaos",
           "sample_id": 0,
           "timepoint": 42,
           "trajectory": "Chaos",
           "value": 2
          },
          {
           "color_by": "Chaos",
           "sample_id": 0,
           "timepoint": 43,
           "trajectory": "Chaos",
           "value": 3
          },
          {
           "color_by": "Chaos",
           "sample_id": 0,
           "timepoint": 44,
           "trajectory": "Chaos",
           "value": 4
          },
          {
           "color_by": "Chaos",
           "sample_id": 0,
           "timepoint": 45,
           "trajectory": "Chaos",
           "value": 3
          },
          {
           "color_by": "Chaos",
           "sample_id": 0,
           "timepoint": 46,
           "trajectory": "Chaos",
           "value": 4
          },
          {
           "color_by": "Chaos",
           "sample_id": 0,
           "timepoint": 47,
           "trajectory": "Chaos",
           "value": 5
          },
          {
           "color_by": "Chaos",
           "sample_id": 0,
           "timepoint": 48,
           "trajectory": "Chaos",
           "value": 6
          },
          {
           "color_by": "Chaos",
           "sample_id": 0,
           "timepoint": 49,
           "trajectory": "Chaos",
           "value": 7
          },
          {
           "color_by": "Chaos",
           "sample_id": 0,
           "timepoint": 50,
           "trajectory": "Chaos",
           "value": 6
          },
          {
           "color_by": "Chaos",
           "sample_id": 0,
           "timepoint": 51,
           "trajectory": "Chaos",
           "value": 5
          },
          {
           "color_by": "Chaos",
           "sample_id": 0,
           "timepoint": 52,
           "trajectory": "Chaos",
           "value": 6
          },
          {
           "color_by": "Chaos",
           "sample_id": 0,
           "timepoint": 53,
           "trajectory": "Chaos",
           "value": 5
          },
          {
           "color_by": "Chaos",
           "sample_id": 0,
           "timepoint": 54,
           "trajectory": "Chaos",
           "value": 4
          },
          {
           "color_by": "Chaos",
           "sample_id": 0,
           "timepoint": 55,
           "trajectory": "Chaos",
           "value": 5
          },
          {
           "color_by": "Chaos",
           "sample_id": 0,
           "timepoint": 56,
           "trajectory": "Chaos",
           "value": 4
          },
          {
           "color_by": "Chaos",
           "sample_id": 0,
           "timepoint": 57,
           "trajectory": "Chaos",
           "value": 5
          },
          {
           "color_by": "Chaos",
           "sample_id": 0,
           "timepoint": 58,
           "trajectory": "Chaos",
           "value": 4
          },
          {
           "color_by": "Chaos",
           "sample_id": 0,
           "timepoint": 59,
           "trajectory": "Chaos",
           "value": 5
          },
          {
           "color_by": "Chaos",
           "sample_id": 0,
           "timepoint": 60,
           "trajectory": "Chaos",
           "value": 4
          },
          {
           "color_by": "Chaos",
           "sample_id": 0,
           "timepoint": 61,
           "trajectory": "Chaos",
           "value": 3
          },
          {
           "color_by": "Chaos",
           "sample_id": 0,
           "timepoint": 62,
           "trajectory": "Chaos",
           "value": 2
          },
          {
           "color_by": "Chaos",
           "sample_id": 0,
           "timepoint": 63,
           "trajectory": "Chaos",
           "value": 1
          },
          {
           "color_by": "Chaos",
           "sample_id": 0,
           "timepoint": 64,
           "trajectory": "Chaos",
           "value": 2
          },
          {
           "color_by": "Chaos",
           "sample_id": 0,
           "timepoint": 65,
           "trajectory": "Chaos",
           "value": 3
          },
          {
           "color_by": "Chaos",
           "sample_id": 0,
           "timepoint": 66,
           "trajectory": "Chaos",
           "value": 4
          },
          {
           "color_by": "Chaos",
           "sample_id": 0,
           "timepoint": 67,
           "trajectory": "Chaos",
           "value": 3
          },
          {
           "color_by": "Chaos",
           "sample_id": 0,
           "timepoint": 68,
           "trajectory": "Chaos",
           "value": 2
          },
          {
           "color_by": "Chaos",
           "sample_id": 0,
           "timepoint": 69,
           "trajectory": "Chaos",
           "value": 3
          },
          {
           "color_by": "Chaos",
           "sample_id": 0,
           "timepoint": 70,
           "trajectory": "Chaos",
           "value": 2
          },
          {
           "color_by": "Chaos",
           "sample_id": 0,
           "timepoint": 71,
           "trajectory": "Chaos",
           "value": 1
          },
          {
           "color_by": "Chaos",
           "sample_id": 0,
           "timepoint": 72,
           "trajectory": "Chaos",
           "value": 0
          },
          {
           "color_by": "Chaos",
           "sample_id": 0,
           "timepoint": 73,
           "trajectory": "Chaos",
           "value": 1
          },
          {
           "color_by": "Chaos",
           "sample_id": 0,
           "timepoint": 74,
           "trajectory": "Chaos",
           "value": 2
          },
          {
           "color_by": "Chaos",
           "sample_id": 0,
           "timepoint": 75,
           "trajectory": "Chaos",
           "value": 1
          },
          {
           "color_by": "Chaos",
           "sample_id": 0,
           "timepoint": 76,
           "trajectory": "Chaos",
           "value": 0
          },
          {
           "color_by": "Chaos",
           "sample_id": 0,
           "timepoint": 77,
           "trajectory": "Chaos",
           "value": 1
          },
          {
           "color_by": "Chaos",
           "sample_id": 0,
           "timepoint": 78,
           "trajectory": "Chaos",
           "value": 2
          },
          {
           "color_by": "Chaos",
           "sample_id": 0,
           "timepoint": 79,
           "trajectory": "Chaos",
           "value": 3
          },
          {
           "color_by": "Chaos",
           "sample_id": 0,
           "timepoint": 80,
           "trajectory": "Chaos",
           "value": 2
          },
          {
           "color_by": "Chaos",
           "sample_id": 0,
           "timepoint": 81,
           "trajectory": "Chaos",
           "value": 3
          },
          {
           "color_by": "Chaos",
           "sample_id": 0,
           "timepoint": 82,
           "trajectory": "Chaos",
           "value": 2
          },
          {
           "color_by": "Chaos",
           "sample_id": 0,
           "timepoint": 83,
           "trajectory": "Chaos",
           "value": 1
          },
          {
           "color_by": "Chaos",
           "sample_id": 0,
           "timepoint": 84,
           "trajectory": "Chaos",
           "value": 2
          },
          {
           "color_by": "Chaos",
           "sample_id": 0,
           "timepoint": 85,
           "trajectory": "Chaos",
           "value": 1
          },
          {
           "color_by": "Chaos",
           "sample_id": 0,
           "timepoint": 86,
           "trajectory": "Chaos",
           "value": 2
          },
          {
           "color_by": "Chaos",
           "sample_id": 0,
           "timepoint": 87,
           "trajectory": "Chaos",
           "value": 3
          },
          {
           "color_by": "Chaos",
           "sample_id": 0,
           "timepoint": 88,
           "trajectory": "Chaos",
           "value": 2
          },
          {
           "color_by": "Chaos",
           "sample_id": 0,
           "timepoint": 89,
           "trajectory": "Chaos",
           "value": 3
          },
          {
           "color_by": "Chaos",
           "sample_id": 0,
           "timepoint": 90,
           "trajectory": "Chaos",
           "value": 2
          },
          {
           "color_by": "Chaos",
           "sample_id": 0,
           "timepoint": 91,
           "trajectory": "Chaos",
           "value": 3
          },
          {
           "color_by": "Chaos",
           "sample_id": 0,
           "timepoint": 92,
           "trajectory": "Chaos",
           "value": 2
          },
          {
           "color_by": "Chaos",
           "sample_id": 0,
           "timepoint": 93,
           "trajectory": "Chaos",
           "value": 3
          },
          {
           "color_by": "Chaos",
           "sample_id": 0,
           "timepoint": 94,
           "trajectory": "Chaos",
           "value": 2
          },
          {
           "color_by": "Chaos",
           "sample_id": 0,
           "timepoint": 95,
           "trajectory": "Chaos",
           "value": 1
          },
          {
           "color_by": "Chaos",
           "sample_id": 0,
           "timepoint": 96,
           "trajectory": "Chaos",
           "value": 0
          },
          {
           "color_by": "Chaos",
           "sample_id": 0,
           "timepoint": 97,
           "trajectory": "Chaos",
           "value": 1
          },
          {
           "color_by": "Chaos",
           "sample_id": 0,
           "timepoint": 98,
           "trajectory": "Chaos",
           "value": 2
          },
          {
           "color_by": "Chaos",
           "sample_id": 0,
           "timepoint": 99,
           "trajectory": "Chaos",
           "value": 1
          },
          {
           "color_by": "Granger",
           "sample_id": 0,
           "timepoint": 0,
           "trajectory": "Granger",
           "value": 0
          },
          {
           "color_by": "Granger",
           "sample_id": 0,
           "timepoint": 1,
           "trajectory": "Granger",
           "value": 1
          },
          {
           "color_by": "Granger",
           "sample_id": 0,
           "timepoint": 2,
           "trajectory": "Granger",
           "value": 0
          },
          {
           "color_by": "Granger",
           "sample_id": 0,
           "timepoint": 3,
           "trajectory": "Granger",
           "value": 1
          },
          {
           "color_by": "Granger",
           "sample_id": 0,
           "timepoint": 4,
           "trajectory": "Granger",
           "value": 2
          },
          {
           "color_by": "Granger",
           "sample_id": 0,
           "timepoint": 5,
           "trajectory": "Granger",
           "value": 1
          },
          {
           "color_by": "Granger",
           "sample_id": 0,
           "timepoint": 6,
           "trajectory": "Granger",
           "value": 2
          },
          {
           "color_by": "Granger",
           "sample_id": 0,
           "timepoint": 7,
           "trajectory": "Granger",
           "value": 1
          },
          {
           "color_by": "Granger",
           "sample_id": 0,
           "timepoint": 8,
           "trajectory": "Granger",
           "value": 0
          },
          {
           "color_by": "Granger",
           "sample_id": 0,
           "timepoint": 9,
           "trajectory": "Granger",
           "value": 1
          },
          {
           "color_by": "Granger",
           "sample_id": 0,
           "timepoint": 10,
           "trajectory": "Granger",
           "value": 0
          },
          {
           "color_by": "Granger",
           "sample_id": 0,
           "timepoint": 11,
           "trajectory": "Granger",
           "value": -1
          },
          {
           "color_by": "Granger",
           "sample_id": 0,
           "timepoint": 12,
           "trajectory": "Granger",
           "value": 0
          },
          {
           "color_by": "Granger",
           "sample_id": 0,
           "timepoint": 13,
           "trajectory": "Granger",
           "value": -1
          },
          {
           "color_by": "Granger",
           "sample_id": 0,
           "timepoint": 14,
           "trajectory": "Granger",
           "value": 0
          },
          {
           "color_by": "Granger",
           "sample_id": 0,
           "timepoint": 15,
           "trajectory": "Granger",
           "value": 1
          },
          {
           "color_by": "Granger",
           "sample_id": 0,
           "timepoint": 16,
           "trajectory": "Granger",
           "value": 2
          },
          {
           "color_by": "Granger",
           "sample_id": 0,
           "timepoint": 17,
           "trajectory": "Granger",
           "value": 1
          },
          {
           "color_by": "Granger",
           "sample_id": 0,
           "timepoint": 18,
           "trajectory": "Granger",
           "value": 0
          },
          {
           "color_by": "Granger",
           "sample_id": 0,
           "timepoint": 19,
           "trajectory": "Granger",
           "value": -1
          },
          {
           "color_by": "Granger",
           "sample_id": 0,
           "timepoint": 20,
           "trajectory": "Granger",
           "value": 0
          },
          {
           "color_by": "Granger",
           "sample_id": 0,
           "timepoint": 21,
           "trajectory": "Granger",
           "value": -1
          },
          {
           "color_by": "Granger",
           "sample_id": 0,
           "timepoint": 22,
           "trajectory": "Granger",
           "value": -2
          },
          {
           "color_by": "Granger",
           "sample_id": 0,
           "timepoint": 23,
           "trajectory": "Granger",
           "value": -3
          },
          {
           "color_by": "Granger",
           "sample_id": 0,
           "timepoint": 24,
           "trajectory": "Granger",
           "value": -2
          },
          {
           "color_by": "Granger",
           "sample_id": 0,
           "timepoint": 25,
           "trajectory": "Granger",
           "value": -1
          },
          {
           "color_by": "Granger",
           "sample_id": 0,
           "timepoint": 26,
           "trajectory": "Granger",
           "value": -2
          },
          {
           "color_by": "Granger",
           "sample_id": 0,
           "timepoint": 27,
           "trajectory": "Granger",
           "value": -3
          },
          {
           "color_by": "Granger",
           "sample_id": 0,
           "timepoint": 28,
           "trajectory": "Granger",
           "value": -4
          },
          {
           "color_by": "Granger",
           "sample_id": 0,
           "timepoint": 29,
           "trajectory": "Granger",
           "value": -5
          },
          {
           "color_by": "Granger",
           "sample_id": 0,
           "timepoint": 30,
           "trajectory": "Granger",
           "value": -4
          },
          {
           "color_by": "Granger",
           "sample_id": 0,
           "timepoint": 31,
           "trajectory": "Granger",
           "value": -5
          },
          {
           "color_by": "Granger",
           "sample_id": 0,
           "timepoint": 32,
           "trajectory": "Granger",
           "value": -4
          },
          {
           "color_by": "Granger",
           "sample_id": 0,
           "timepoint": 33,
           "trajectory": "Granger",
           "value": -5
          },
          {
           "color_by": "Granger",
           "sample_id": 0,
           "timepoint": 34,
           "trajectory": "Granger",
           "value": -4
          },
          {
           "color_by": "Granger",
           "sample_id": 0,
           "timepoint": 35,
           "trajectory": "Granger",
           "value": -5
          },
          {
           "color_by": "Granger",
           "sample_id": 0,
           "timepoint": 36,
           "trajectory": "Granger",
           "value": -4
          },
          {
           "color_by": "Granger",
           "sample_id": 0,
           "timepoint": 37,
           "trajectory": "Granger",
           "value": -5
          },
          {
           "color_by": "Granger",
           "sample_id": 0,
           "timepoint": 38,
           "trajectory": "Granger",
           "value": -6
          },
          {
           "color_by": "Granger",
           "sample_id": 0,
           "timepoint": 39,
           "trajectory": "Granger",
           "value": -5
          },
          {
           "color_by": "Granger",
           "sample_id": 0,
           "timepoint": 40,
           "trajectory": "Granger",
           "value": -4
          },
          {
           "color_by": "Granger",
           "sample_id": 0,
           "timepoint": 41,
           "trajectory": "Granger",
           "value": -5
          },
          {
           "color_by": "Granger",
           "sample_id": 0,
           "timepoint": 42,
           "trajectory": "Granger",
           "value": -4
          },
          {
           "color_by": "Granger",
           "sample_id": 0,
           "timepoint": 43,
           "trajectory": "Granger",
           "value": -3
          },
          {
           "color_by": "Granger",
           "sample_id": 0,
           "timepoint": 44,
           "trajectory": "Granger",
           "value": -2
          },
          {
           "color_by": "Granger",
           "sample_id": 0,
           "timepoint": 45,
           "trajectory": "Granger",
           "value": -1
          },
          {
           "color_by": "Granger",
           "sample_id": 0,
           "timepoint": 46,
           "trajectory": "Granger",
           "value": 0
          },
          {
           "color_by": "Granger",
           "sample_id": 0,
           "timepoint": 47,
           "trajectory": "Granger",
           "value": -1
          },
          {
           "color_by": "Granger",
           "sample_id": 0,
           "timepoint": 48,
           "trajectory": "Granger",
           "value": 0
          },
          {
           "color_by": "Granger",
           "sample_id": 0,
           "timepoint": 49,
           "trajectory": "Granger",
           "value": -1
          },
          {
           "color_by": "Granger",
           "sample_id": 0,
           "timepoint": 50,
           "trajectory": "Granger",
           "value": -2
          },
          {
           "color_by": "Granger",
           "sample_id": 0,
           "timepoint": 51,
           "trajectory": "Granger",
           "value": -1
          },
          {
           "color_by": "Granger",
           "sample_id": 0,
           "timepoint": 52,
           "trajectory": "Granger",
           "value": -2
          },
          {
           "color_by": "Granger",
           "sample_id": 0,
           "timepoint": 53,
           "trajectory": "Granger",
           "value": -3
          },
          {
           "color_by": "Granger",
           "sample_id": 0,
           "timepoint": 54,
           "trajectory": "Granger",
           "value": -4
          },
          {
           "color_by": "Granger",
           "sample_id": 0,
           "timepoint": 55,
           "trajectory": "Granger",
           "value": -5
          },
          {
           "color_by": "Granger",
           "sample_id": 0,
           "timepoint": 56,
           "trajectory": "Granger",
           "value": -4
          },
          {
           "color_by": "Granger",
           "sample_id": 0,
           "timepoint": 57,
           "trajectory": "Granger",
           "value": -3
          },
          {
           "color_by": "Granger",
           "sample_id": 0,
           "timepoint": 58,
           "trajectory": "Granger",
           "value": -4
          },
          {
           "color_by": "Granger",
           "sample_id": 0,
           "timepoint": 59,
           "trajectory": "Granger",
           "value": -3
          },
          {
           "color_by": "Granger",
           "sample_id": 0,
           "timepoint": 60,
           "trajectory": "Granger",
           "value": -4
          },
          {
           "color_by": "Granger",
           "sample_id": 0,
           "timepoint": 61,
           "trajectory": "Granger",
           "value": -5
          },
          {
           "color_by": "Granger",
           "sample_id": 0,
           "timepoint": 62,
           "trajectory": "Granger",
           "value": -4
          },
          {
           "color_by": "Granger",
           "sample_id": 0,
           "timepoint": 63,
           "trajectory": "Granger",
           "value": -3
          },
          {
           "color_by": "Granger",
           "sample_id": 0,
           "timepoint": 64,
           "trajectory": "Granger",
           "value": -2
          },
          {
           "color_by": "Granger",
           "sample_id": 0,
           "timepoint": 65,
           "trajectory": "Granger",
           "value": -3
          },
          {
           "color_by": "Granger",
           "sample_id": 0,
           "timepoint": 66,
           "trajectory": "Granger",
           "value": -4
          },
          {
           "color_by": "Granger",
           "sample_id": 0,
           "timepoint": 67,
           "trajectory": "Granger",
           "value": -5
          },
          {
           "color_by": "Granger",
           "sample_id": 0,
           "timepoint": 68,
           "trajectory": "Granger",
           "value": -6
          },
          {
           "color_by": "Granger",
           "sample_id": 0,
           "timepoint": 69,
           "trajectory": "Granger",
           "value": -5
          },
          {
           "color_by": "Granger",
           "sample_id": 0,
           "timepoint": 70,
           "trajectory": "Granger",
           "value": -4
          },
          {
           "color_by": "Granger",
           "sample_id": 0,
           "timepoint": 71,
           "trajectory": "Granger",
           "value": -5
          },
          {
           "color_by": "Granger",
           "sample_id": 0,
           "timepoint": 72,
           "trajectory": "Granger",
           "value": -6
          },
          {
           "color_by": "Granger",
           "sample_id": 0,
           "timepoint": 73,
           "trajectory": "Granger",
           "value": -7
          },
          {
           "color_by": "Granger",
           "sample_id": 0,
           "timepoint": 74,
           "trajectory": "Granger",
           "value": -8
          },
          {
           "color_by": "Granger",
           "sample_id": 0,
           "timepoint": 75,
           "trajectory": "Granger",
           "value": -9
          },
          {
           "color_by": "Granger",
           "sample_id": 0,
           "timepoint": 76,
           "trajectory": "Granger",
           "value": -10
          },
          {
           "color_by": "Granger",
           "sample_id": 0,
           "timepoint": 77,
           "trajectory": "Granger",
           "value": -11
          },
          {
           "color_by": "Granger",
           "sample_id": 0,
           "timepoint": 78,
           "trajectory": "Granger",
           "value": -10
          },
          {
           "color_by": "Granger",
           "sample_id": 0,
           "timepoint": 79,
           "trajectory": "Granger",
           "value": -11
          },
          {
           "color_by": "Granger",
           "sample_id": 0,
           "timepoint": 80,
           "trajectory": "Granger",
           "value": -10
          },
          {
           "color_by": "Granger",
           "sample_id": 0,
           "timepoint": 81,
           "trajectory": "Granger",
           "value": -11
          },
          {
           "color_by": "Granger",
           "sample_id": 0,
           "timepoint": 82,
           "trajectory": "Granger",
           "value": -10
          },
          {
           "color_by": "Granger",
           "sample_id": 0,
           "timepoint": 83,
           "trajectory": "Granger",
           "value": -11
          },
          {
           "color_by": "Granger",
           "sample_id": 0,
           "timepoint": 84,
           "trajectory": "Granger",
           "value": -12
          },
          {
           "color_by": "Granger",
           "sample_id": 0,
           "timepoint": 85,
           "trajectory": "Granger",
           "value": -13
          },
          {
           "color_by": "Granger",
           "sample_id": 0,
           "timepoint": 86,
           "trajectory": "Granger",
           "value": -14
          },
          {
           "color_by": "Granger",
           "sample_id": 0,
           "timepoint": 87,
           "trajectory": "Granger",
           "value": -13
          },
          {
           "color_by": "Granger",
           "sample_id": 0,
           "timepoint": 88,
           "trajectory": "Granger",
           "value": -12
          },
          {
           "color_by": "Granger",
           "sample_id": 0,
           "timepoint": 89,
           "trajectory": "Granger",
           "value": -11
          },
          {
           "color_by": "Granger",
           "sample_id": 0,
           "timepoint": 90,
           "trajectory": "Granger",
           "value": -10
          },
          {
           "color_by": "Granger",
           "sample_id": 0,
           "timepoint": 91,
           "trajectory": "Granger",
           "value": -11
          },
          {
           "color_by": "Granger",
           "sample_id": 0,
           "timepoint": 92,
           "trajectory": "Granger",
           "value": -12
          },
          {
           "color_by": "Granger",
           "sample_id": 0,
           "timepoint": 93,
           "trajectory": "Granger",
           "value": -11
          },
          {
           "color_by": "Granger",
           "sample_id": 0,
           "timepoint": 94,
           "trajectory": "Granger",
           "value": -10
          },
          {
           "color_by": "Granger",
           "sample_id": 0,
           "timepoint": 95,
           "trajectory": "Granger",
           "value": -11
          },
          {
           "color_by": "Granger",
           "sample_id": 0,
           "timepoint": 96,
           "trajectory": "Granger",
           "value": -12
          },
          {
           "color_by": "Granger",
           "sample_id": 0,
           "timepoint": 97,
           "trajectory": "Granger",
           "value": -13
          },
          {
           "color_by": "Granger",
           "sample_id": 0,
           "timepoint": 98,
           "trajectory": "Granger",
           "value": -12
          },
          {
           "color_by": "Granger",
           "sample_id": 0,
           "timepoint": 99,
           "trajectory": "Granger",
           "value": -11
          },
          {
           "color_by": "Mean",
           "sample_id": 0,
           "timepoint": 0,
           "trajectory": "Mean",
           "value": 0
          },
          {
           "color_by": "Mean",
           "sample_id": 0,
           "timepoint": 1,
           "trajectory": "Mean",
           "value": 1
          },
          {
           "color_by": "Mean",
           "sample_id": 0,
           "timepoint": 2,
           "trajectory": "Mean",
           "value": 2
          },
          {
           "color_by": "Mean",
           "sample_id": 0,
           "timepoint": 3,
           "trajectory": "Mean",
           "value": 3
          },
          {
           "color_by": "Mean",
           "sample_id": 0,
           "timepoint": 4,
           "trajectory": "Mean",
           "value": 4
          },
          {
           "color_by": "Mean",
           "sample_id": 0,
           "timepoint": 5,
           "trajectory": "Mean",
           "value": 3
          },
          {
           "color_by": "Mean",
           "sample_id": 0,
           "timepoint": 6,
           "trajectory": "Mean",
           "value": 4
          },
          {
           "color_by": "Mean",
           "sample_id": 0,
           "timepoint": 7,
           "trajectory": "Mean",
           "value": 5
          },
          {
           "color_by": "Mean",
           "sample_id": 0,
           "timepoint": 8,
           "trajectory": "Mean",
           "value": 4
          },
          {
           "color_by": "Mean",
           "sample_id": 0,
           "timepoint": 9,
           "trajectory": "Mean",
           "value": 3
          },
          {
           "color_by": "Mean",
           "sample_id": 0,
           "timepoint": 10,
           "trajectory": "Mean",
           "value": 2
          },
          {
           "color_by": "Mean",
           "sample_id": 0,
           "timepoint": 11,
           "trajectory": "Mean",
           "value": 1
          },
          {
           "color_by": "Mean",
           "sample_id": 0,
           "timepoint": 12,
           "trajectory": "Mean",
           "value": 0
          },
          {
           "color_by": "Mean",
           "sample_id": 0,
           "timepoint": 13,
           "trajectory": "Mean",
           "value": -1
          },
          {
           "color_by": "Mean",
           "sample_id": 0,
           "timepoint": 14,
           "trajectory": "Mean",
           "value": -2
          },
          {
           "color_by": "Mean",
           "sample_id": 0,
           "timepoint": 15,
           "trajectory": "Mean",
           "value": -1
          },
          {
           "color_by": "Mean",
           "sample_id": 0,
           "timepoint": 16,
           "trajectory": "Mean",
           "value": 0
          },
          {
           "color_by": "Mean",
           "sample_id": 0,
           "timepoint": 17,
           "trajectory": "Mean",
           "value": -1
          },
          {
           "color_by": "Mean",
           "sample_id": 0,
           "timepoint": 18,
           "trajectory": "Mean",
           "value": -2
          },
          {
           "color_by": "Mean",
           "sample_id": 0,
           "timepoint": 19,
           "trajectory": "Mean",
           "value": -1
          },
          {
           "color_by": "Mean",
           "sample_id": 0,
           "timepoint": 20,
           "trajectory": "Mean",
           "value": 0
          },
          {
           "color_by": "Mean",
           "sample_id": 0,
           "timepoint": 21,
           "trajectory": "Mean",
           "value": 1
          },
          {
           "color_by": "Mean",
           "sample_id": 0,
           "timepoint": 22,
           "trajectory": "Mean",
           "value": 2
          },
          {
           "color_by": "Mean",
           "sample_id": 0,
           "timepoint": 23,
           "trajectory": "Mean",
           "value": 1
          },
          {
           "color_by": "Mean",
           "sample_id": 0,
           "timepoint": 24,
           "trajectory": "Mean",
           "value": 0
          },
          {
           "color_by": "Mean",
           "sample_id": 0,
           "timepoint": 25,
           "trajectory": "Mean",
           "value": -1
          },
          {
           "color_by": "Mean",
           "sample_id": 0,
           "timepoint": 26,
           "trajectory": "Mean",
           "value": -2
          },
          {
           "color_by": "Mean",
           "sample_id": 0,
           "timepoint": 27,
           "trajectory": "Mean",
           "value": -1
          },
          {
           "color_by": "Mean",
           "sample_id": 0,
           "timepoint": 28,
           "trajectory": "Mean",
           "value": 0
          },
          {
           "color_by": "Mean",
           "sample_id": 0,
           "timepoint": 29,
           "trajectory": "Mean",
           "value": 1
          },
          {
           "color_by": "Mean",
           "sample_id": 0,
           "timepoint": 30,
           "trajectory": "Mean",
           "value": 0
          },
          {
           "color_by": "Mean",
           "sample_id": 0,
           "timepoint": 31,
           "trajectory": "Mean",
           "value": -1
          },
          {
           "color_by": "Mean",
           "sample_id": 0,
           "timepoint": 32,
           "trajectory": "Mean",
           "value": -2
          },
          {
           "color_by": "Mean",
           "sample_id": 0,
           "timepoint": 33,
           "trajectory": "Mean",
           "value": -3
          },
          {
           "color_by": "Mean",
           "sample_id": 0,
           "timepoint": 34,
           "trajectory": "Mean",
           "value": -2
          },
          {
           "color_by": "Mean",
           "sample_id": 0,
           "timepoint": 35,
           "trajectory": "Mean",
           "value": -1
          },
          {
           "color_by": "Mean",
           "sample_id": 0,
           "timepoint": 36,
           "trajectory": "Mean",
           "value": -2
          },
          {
           "color_by": "Mean",
           "sample_id": 0,
           "timepoint": 37,
           "trajectory": "Mean",
           "value": -3
          },
          {
           "color_by": "Mean",
           "sample_id": 0,
           "timepoint": 38,
           "trajectory": "Mean",
           "value": -2
          },
          {
           "color_by": "Mean",
           "sample_id": 0,
           "timepoint": 39,
           "trajectory": "Mean",
           "value": -1
          },
          {
           "color_by": "Mean",
           "sample_id": 0,
           "timepoint": 40,
           "trajectory": "Mean",
           "value": 0
          },
          {
           "color_by": "Mean",
           "sample_id": 0,
           "timepoint": 41,
           "trajectory": "Mean",
           "value": 1
          },
          {
           "color_by": "Mean",
           "sample_id": 0,
           "timepoint": 42,
           "trajectory": "Mean",
           "value": 2
          },
          {
           "color_by": "Mean",
           "sample_id": 0,
           "timepoint": 43,
           "trajectory": "Mean",
           "value": 1
          },
          {
           "color_by": "Mean",
           "sample_id": 0,
           "timepoint": 44,
           "trajectory": "Mean",
           "value": 0
          },
          {
           "color_by": "Mean",
           "sample_id": 0,
           "timepoint": 45,
           "trajectory": "Mean",
           "value": 1
          },
          {
           "color_by": "Mean",
           "sample_id": 0,
           "timepoint": 46,
           "trajectory": "Mean",
           "value": 0
          },
          {
           "color_by": "Mean",
           "sample_id": 0,
           "timepoint": 47,
           "trajectory": "Mean",
           "value": -1
          },
          {
           "color_by": "Mean",
           "sample_id": 0,
           "timepoint": 48,
           "trajectory": "Mean",
           "value": 0
          },
          {
           "color_by": "Mean",
           "sample_id": 0,
           "timepoint": 49,
           "trajectory": "Mean",
           "value": -1
          },
          {
           "color_by": "Mean",
           "sample_id": 0,
           "timepoint": 50,
           "trajectory": "Mean",
           "value": 0
          },
          {
           "color_by": "Mean",
           "sample_id": 0,
           "timepoint": 51,
           "trajectory": "Mean",
           "value": -1
          },
          {
           "color_by": "Mean",
           "sample_id": 0,
           "timepoint": 52,
           "trajectory": "Mean",
           "value": 0
          },
          {
           "color_by": "Mean",
           "sample_id": 0,
           "timepoint": 53,
           "trajectory": "Mean",
           "value": 1
          },
          {
           "color_by": "Mean",
           "sample_id": 0,
           "timepoint": 54,
           "trajectory": "Mean",
           "value": 0
          },
          {
           "color_by": "Mean",
           "sample_id": 0,
           "timepoint": 55,
           "trajectory": "Mean",
           "value": -1
          },
          {
           "color_by": "Mean",
           "sample_id": 0,
           "timepoint": 56,
           "trajectory": "Mean",
           "value": -2
          },
          {
           "color_by": "Mean",
           "sample_id": 0,
           "timepoint": 57,
           "trajectory": "Mean",
           "value": -1
          },
          {
           "color_by": "Mean",
           "sample_id": 0,
           "timepoint": 58,
           "trajectory": "Mean",
           "value": -2
          },
          {
           "color_by": "Mean",
           "sample_id": 0,
           "timepoint": 59,
           "trajectory": "Mean",
           "value": -3
          },
          {
           "color_by": "Mean",
           "sample_id": 0,
           "timepoint": 60,
           "trajectory": "Mean",
           "value": -4
          },
          {
           "color_by": "Mean",
           "sample_id": 0,
           "timepoint": 61,
           "trajectory": "Mean",
           "value": -3
          },
          {
           "color_by": "Mean",
           "sample_id": 0,
           "timepoint": 62,
           "trajectory": "Mean",
           "value": -4
          },
          {
           "color_by": "Mean",
           "sample_id": 0,
           "timepoint": 63,
           "trajectory": "Mean",
           "value": -5
          },
          {
           "color_by": "Mean",
           "sample_id": 0,
           "timepoint": 64,
           "trajectory": "Mean",
           "value": -4
          },
          {
           "color_by": "Mean",
           "sample_id": 0,
           "timepoint": 65,
           "trajectory": "Mean",
           "value": -3
          },
          {
           "color_by": "Mean",
           "sample_id": 0,
           "timepoint": 66,
           "trajectory": "Mean",
           "value": -2
          },
          {
           "color_by": "Mean",
           "sample_id": 0,
           "timepoint": 67,
           "trajectory": "Mean",
           "value": -1
          },
          {
           "color_by": "Mean",
           "sample_id": 0,
           "timepoint": 68,
           "trajectory": "Mean",
           "value": 0
          },
          {
           "color_by": "Mean",
           "sample_id": 0,
           "timepoint": 69,
           "trajectory": "Mean",
           "value": 1
          },
          {
           "color_by": "Mean",
           "sample_id": 0,
           "timepoint": 70,
           "trajectory": "Mean",
           "value": 0
          },
          {
           "color_by": "Mean",
           "sample_id": 0,
           "timepoint": 71,
           "trajectory": "Mean",
           "value": -1
          },
          {
           "color_by": "Mean",
           "sample_id": 0,
           "timepoint": 72,
           "trajectory": "Mean",
           "value": 0
          },
          {
           "color_by": "Mean",
           "sample_id": 0,
           "timepoint": 73,
           "trajectory": "Mean",
           "value": 1
          },
          {
           "color_by": "Mean",
           "sample_id": 0,
           "timepoint": 74,
           "trajectory": "Mean",
           "value": 2
          },
          {
           "color_by": "Mean",
           "sample_id": 0,
           "timepoint": 75,
           "trajectory": "Mean",
           "value": 1
          },
          {
           "color_by": "Mean",
           "sample_id": 0,
           "timepoint": 76,
           "trajectory": "Mean",
           "value": 0
          },
          {
           "color_by": "Mean",
           "sample_id": 0,
           "timepoint": 77,
           "trajectory": "Mean",
           "value": -1
          },
          {
           "color_by": "Mean",
           "sample_id": 0,
           "timepoint": 78,
           "trajectory": "Mean",
           "value": 0
          },
          {
           "color_by": "Mean",
           "sample_id": 0,
           "timepoint": 79,
           "trajectory": "Mean",
           "value": 1
          },
          {
           "color_by": "Mean",
           "sample_id": 0,
           "timepoint": 80,
           "trajectory": "Mean",
           "value": 0
          },
          {
           "color_by": "Mean",
           "sample_id": 0,
           "timepoint": 81,
           "trajectory": "Mean",
           "value": -1
          },
          {
           "color_by": "Mean",
           "sample_id": 0,
           "timepoint": 82,
           "trajectory": "Mean",
           "value": -2
          },
          {
           "color_by": "Mean",
           "sample_id": 0,
           "timepoint": 83,
           "trajectory": "Mean",
           "value": -1
          },
          {
           "color_by": "Mean",
           "sample_id": 0,
           "timepoint": 84,
           "trajectory": "Mean",
           "value": -2
          },
          {
           "color_by": "Mean",
           "sample_id": 0,
           "timepoint": 85,
           "trajectory": "Mean",
           "value": -1
          },
          {
           "color_by": "Mean",
           "sample_id": 0,
           "timepoint": 86,
           "trajectory": "Mean",
           "value": 0
          },
          {
           "color_by": "Mean",
           "sample_id": 0,
           "timepoint": 87,
           "trajectory": "Mean",
           "value": -1
          },
          {
           "color_by": "Mean",
           "sample_id": 0,
           "timepoint": 88,
           "trajectory": "Mean",
           "value": 0
          },
          {
           "color_by": "Mean",
           "sample_id": 0,
           "timepoint": 89,
           "trajectory": "Mean",
           "value": -1
          },
          {
           "color_by": "Mean",
           "sample_id": 0,
           "timepoint": 90,
           "trajectory": "Mean",
           "value": 0
          },
          {
           "color_by": "Mean",
           "sample_id": 0,
           "timepoint": 91,
           "trajectory": "Mean",
           "value": 1
          },
          {
           "color_by": "Mean",
           "sample_id": 0,
           "timepoint": 92,
           "trajectory": "Mean",
           "value": 0
          },
          {
           "color_by": "Mean",
           "sample_id": 0,
           "timepoint": 93,
           "trajectory": "Mean",
           "value": 1
          },
          {
           "color_by": "Mean",
           "sample_id": 0,
           "timepoint": 94,
           "trajectory": "Mean",
           "value": 2
          },
          {
           "color_by": "Mean",
           "sample_id": 0,
           "timepoint": 95,
           "trajectory": "Mean",
           "value": 3
          },
          {
           "color_by": "Mean",
           "sample_id": 0,
           "timepoint": 96,
           "trajectory": "Mean",
           "value": 2
          },
          {
           "color_by": "Mean",
           "sample_id": 0,
           "timepoint": 97,
           "trajectory": "Mean",
           "value": 3
          },
          {
           "color_by": "Mean",
           "sample_id": 0,
           "timepoint": 98,
           "trajectory": "Mean",
           "value": 2
          },
          {
           "color_by": "Mean",
           "sample_id": 0,
           "timepoint": 99,
           "trajectory": "Mean",
           "value": 1
          },
          {
           "color_by": "Variance",
           "sample_id": 0,
           "timepoint": 0,
           "trajectory": "Variance",
           "value": 0
          },
          {
           "color_by": "Variance",
           "sample_id": 0,
           "timepoint": 1,
           "trajectory": "Variance",
           "value": 1
          },
          {
           "color_by": "Variance",
           "sample_id": 0,
           "timepoint": 2,
           "trajectory": "Variance",
           "value": 2
          },
          {
           "color_by": "Variance",
           "sample_id": 0,
           "timepoint": 3,
           "trajectory": "Variance",
           "value": 1
          },
          {
           "color_by": "Variance",
           "sample_id": 0,
           "timepoint": 4,
           "trajectory": "Variance",
           "value": 0
          },
          {
           "color_by": "Variance",
           "sample_id": 0,
           "timepoint": 5,
           "trajectory": "Variance",
           "value": 1
          },
          {
           "color_by": "Variance",
           "sample_id": 0,
           "timepoint": 6,
           "trajectory": "Variance",
           "value": 2
          },
          {
           "color_by": "Variance",
           "sample_id": 0,
           "timepoint": 7,
           "trajectory": "Variance",
           "value": 3
          },
          {
           "color_by": "Variance",
           "sample_id": 0,
           "timepoint": 8,
           "trajectory": "Variance",
           "value": 2
          },
          {
           "color_by": "Variance",
           "sample_id": 0,
           "timepoint": 9,
           "trajectory": "Variance",
           "value": 3
          },
          {
           "color_by": "Variance",
           "sample_id": 0,
           "timepoint": 10,
           "trajectory": "Variance",
           "value": 4
          },
          {
           "color_by": "Variance",
           "sample_id": 0,
           "timepoint": 11,
           "trajectory": "Variance",
           "value": 3
          },
          {
           "color_by": "Variance",
           "sample_id": 0,
           "timepoint": 12,
           "trajectory": "Variance",
           "value": 2
          },
          {
           "color_by": "Variance",
           "sample_id": 0,
           "timepoint": 13,
           "trajectory": "Variance",
           "value": 1
          },
          {
           "color_by": "Variance",
           "sample_id": 0,
           "timepoint": 14,
           "trajectory": "Variance",
           "value": 2
          },
          {
           "color_by": "Variance",
           "sample_id": 0,
           "timepoint": 15,
           "trajectory": "Variance",
           "value": 1
          },
          {
           "color_by": "Variance",
           "sample_id": 0,
           "timepoint": 16,
           "trajectory": "Variance",
           "value": 2
          },
          {
           "color_by": "Variance",
           "sample_id": 0,
           "timepoint": 17,
           "trajectory": "Variance",
           "value": 1
          },
          {
           "color_by": "Variance",
           "sample_id": 0,
           "timepoint": 18,
           "trajectory": "Variance",
           "value": 2
          },
          {
           "color_by": "Variance",
           "sample_id": 0,
           "timepoint": 19,
           "trajectory": "Variance",
           "value": 1
          },
          {
           "color_by": "Variance",
           "sample_id": 0,
           "timepoint": 20,
           "trajectory": "Variance",
           "value": 0
          },
          {
           "color_by": "Variance",
           "sample_id": 0,
           "timepoint": 21,
           "trajectory": "Variance",
           "value": -1
          },
          {
           "color_by": "Variance",
           "sample_id": 0,
           "timepoint": 22,
           "trajectory": "Variance",
           "value": -2
          },
          {
           "color_by": "Variance",
           "sample_id": 0,
           "timepoint": 23,
           "trajectory": "Variance",
           "value": -3
          },
          {
           "color_by": "Variance",
           "sample_id": 0,
           "timepoint": 24,
           "trajectory": "Variance",
           "value": -4
          },
          {
           "color_by": "Variance",
           "sample_id": 0,
           "timepoint": 25,
           "trajectory": "Variance",
           "value": -3
          },
          {
           "color_by": "Variance",
           "sample_id": 0,
           "timepoint": 26,
           "trajectory": "Variance",
           "value": -2
          },
          {
           "color_by": "Variance",
           "sample_id": 0,
           "timepoint": 27,
           "trajectory": "Variance",
           "value": -3
          },
          {
           "color_by": "Variance",
           "sample_id": 0,
           "timepoint": 28,
           "trajectory": "Variance",
           "value": -2
          },
          {
           "color_by": "Variance",
           "sample_id": 0,
           "timepoint": 29,
           "trajectory": "Variance",
           "value": -1
          },
          {
           "color_by": "Variance",
           "sample_id": 0,
           "timepoint": 30,
           "trajectory": "Variance",
           "value": 0
          },
          {
           "color_by": "Variance",
           "sample_id": 0,
           "timepoint": 31,
           "trajectory": "Variance",
           "value": -1
          },
          {
           "color_by": "Variance",
           "sample_id": 0,
           "timepoint": 32,
           "trajectory": "Variance",
           "value": 0
          },
          {
           "color_by": "Variance",
           "sample_id": 0,
           "timepoint": 33,
           "trajectory": "Variance",
           "value": 1
          },
          {
           "color_by": "Variance",
           "sample_id": 0,
           "timepoint": 34,
           "trajectory": "Variance",
           "value": 0
          },
          {
           "color_by": "Variance",
           "sample_id": 0,
           "timepoint": 35,
           "trajectory": "Variance",
           "value": 1
          },
          {
           "color_by": "Variance",
           "sample_id": 0,
           "timepoint": 36,
           "trajectory": "Variance",
           "value": 2
          },
          {
           "color_by": "Variance",
           "sample_id": 0,
           "timepoint": 37,
           "trajectory": "Variance",
           "value": 1
          },
          {
           "color_by": "Variance",
           "sample_id": 0,
           "timepoint": 38,
           "trajectory": "Variance",
           "value": 0
          },
          {
           "color_by": "Variance",
           "sample_id": 0,
           "timepoint": 39,
           "trajectory": "Variance",
           "value": -1
          },
          {
           "color_by": "Variance",
           "sample_id": 0,
           "timepoint": 40,
           "trajectory": "Variance",
           "value": 0
          },
          {
           "color_by": "Variance",
           "sample_id": 0,
           "timepoint": 41,
           "trajectory": "Variance",
           "value": 1
          },
          {
           "color_by": "Variance",
           "sample_id": 0,
           "timepoint": 42,
           "trajectory": "Variance",
           "value": 0
          },
          {
           "color_by": "Variance",
           "sample_id": 0,
           "timepoint": 43,
           "trajectory": "Variance",
           "value": 1
          },
          {
           "color_by": "Variance",
           "sample_id": 0,
           "timepoint": 44,
           "trajectory": "Variance",
           "value": 2
          },
          {
           "color_by": "Variance",
           "sample_id": 0,
           "timepoint": 45,
           "trajectory": "Variance",
           "value": 3
          },
          {
           "color_by": "Variance",
           "sample_id": 0,
           "timepoint": 46,
           "trajectory": "Variance",
           "value": 4
          },
          {
           "color_by": "Variance",
           "sample_id": 0,
           "timepoint": 47,
           "trajectory": "Variance",
           "value": 3
          },
          {
           "color_by": "Variance",
           "sample_id": 0,
           "timepoint": 48,
           "trajectory": "Variance",
           "value": 2
          },
          {
           "color_by": "Variance",
           "sample_id": 0,
           "timepoint": 49,
           "trajectory": "Variance",
           "value": 1
          },
          {
           "color_by": "Variance",
           "sample_id": 0,
           "timepoint": 50,
           "trajectory": "Variance",
           "value": 2
          },
          {
           "color_by": "Variance",
           "sample_id": 0,
           "timepoint": 51,
           "trajectory": "Variance",
           "value": 1
          },
          {
           "color_by": "Variance",
           "sample_id": 0,
           "timepoint": 52,
           "trajectory": "Variance",
           "value": 0
          },
          {
           "color_by": "Variance",
           "sample_id": 0,
           "timepoint": 53,
           "trajectory": "Variance",
           "value": 1
          },
          {
           "color_by": "Variance",
           "sample_id": 0,
           "timepoint": 54,
           "trajectory": "Variance",
           "value": 2
          },
          {
           "color_by": "Variance",
           "sample_id": 0,
           "timepoint": 55,
           "trajectory": "Variance",
           "value": 3
          },
          {
           "color_by": "Variance",
           "sample_id": 0,
           "timepoint": 56,
           "trajectory": "Variance",
           "value": 2
          },
          {
           "color_by": "Variance",
           "sample_id": 0,
           "timepoint": 57,
           "trajectory": "Variance",
           "value": 3
          },
          {
           "color_by": "Variance",
           "sample_id": 0,
           "timepoint": 58,
           "trajectory": "Variance",
           "value": 2
          },
          {
           "color_by": "Variance",
           "sample_id": 0,
           "timepoint": 59,
           "trajectory": "Variance",
           "value": 3
          },
          {
           "color_by": "Variance",
           "sample_id": 0,
           "timepoint": 60,
           "trajectory": "Variance",
           "value": 2
          },
          {
           "color_by": "Variance",
           "sample_id": 0,
           "timepoint": 61,
           "trajectory": "Variance",
           "value": 3
          },
          {
           "color_by": "Variance",
           "sample_id": 0,
           "timepoint": 62,
           "trajectory": "Variance",
           "value": 4
          },
          {
           "color_by": "Variance",
           "sample_id": 0,
           "timepoint": 63,
           "trajectory": "Variance",
           "value": 5
          },
          {
           "color_by": "Variance",
           "sample_id": 0,
           "timepoint": 64,
           "trajectory": "Variance",
           "value": 4
          },
          {
           "color_by": "Variance",
           "sample_id": 0,
           "timepoint": 65,
           "trajectory": "Variance",
           "value": 3
          },
          {
           "color_by": "Variance",
           "sample_id": 0,
           "timepoint": 66,
           "trajectory": "Variance",
           "value": 2
          },
          {
           "color_by": "Variance",
           "sample_id": 0,
           "timepoint": 67,
           "trajectory": "Variance",
           "value": 3
          },
          {
           "color_by": "Variance",
           "sample_id": 0,
           "timepoint": 68,
           "trajectory": "Variance",
           "value": 2
          },
          {
           "color_by": "Variance",
           "sample_id": 0,
           "timepoint": 69,
           "trajectory": "Variance",
           "value": 1
          },
          {
           "color_by": "Variance",
           "sample_id": 0,
           "timepoint": 70,
           "trajectory": "Variance",
           "value": 0
          },
          {
           "color_by": "Variance",
           "sample_id": 0,
           "timepoint": 71,
           "trajectory": "Variance",
           "value": -1
          },
          {
           "color_by": "Variance",
           "sample_id": 0,
           "timepoint": 72,
           "trajectory": "Variance",
           "value": 0
          },
          {
           "color_by": "Variance",
           "sample_id": 0,
           "timepoint": 73,
           "trajectory": "Variance",
           "value": -1
          },
          {
           "color_by": "Variance",
           "sample_id": 0,
           "timepoint": 74,
           "trajectory": "Variance",
           "value": -2
          },
          {
           "color_by": "Variance",
           "sample_id": 0,
           "timepoint": 75,
           "trajectory": "Variance",
           "value": -1
          },
          {
           "color_by": "Variance",
           "sample_id": 0,
           "timepoint": 76,
           "trajectory": "Variance",
           "value": -2
          },
          {
           "color_by": "Variance",
           "sample_id": 0,
           "timepoint": 77,
           "trajectory": "Variance",
           "value": -1
          },
          {
           "color_by": "Variance",
           "sample_id": 0,
           "timepoint": 78,
           "trajectory": "Variance",
           "value": 0
          },
          {
           "color_by": "Variance",
           "sample_id": 0,
           "timepoint": 79,
           "trajectory": "Variance",
           "value": 1
          },
          {
           "color_by": "Variance",
           "sample_id": 0,
           "timepoint": 80,
           "trajectory": "Variance",
           "value": 2
          },
          {
           "color_by": "Variance",
           "sample_id": 0,
           "timepoint": 81,
           "trajectory": "Variance",
           "value": 1
          },
          {
           "color_by": "Variance",
           "sample_id": 0,
           "timepoint": 82,
           "trajectory": "Variance",
           "value": 0
          },
          {
           "color_by": "Variance",
           "sample_id": 0,
           "timepoint": 83,
           "trajectory": "Variance",
           "value": 1
          },
          {
           "color_by": "Variance",
           "sample_id": 0,
           "timepoint": 84,
           "trajectory": "Variance",
           "value": 2
          },
          {
           "color_by": "Variance",
           "sample_id": 0,
           "timepoint": 85,
           "trajectory": "Variance",
           "value": 1
          },
          {
           "color_by": "Variance",
           "sample_id": 0,
           "timepoint": 86,
           "trajectory": "Variance",
           "value": 0
          },
          {
           "color_by": "Variance",
           "sample_id": 0,
           "timepoint": 87,
           "trajectory": "Variance",
           "value": -1
          },
          {
           "color_by": "Variance",
           "sample_id": 0,
           "timepoint": 88,
           "trajectory": "Variance",
           "value": -2
          },
          {
           "color_by": "Variance",
           "sample_id": 0,
           "timepoint": 89,
           "trajectory": "Variance",
           "value": -3
          },
          {
           "color_by": "Variance",
           "sample_id": 0,
           "timepoint": 90,
           "trajectory": "Variance",
           "value": -2
          },
          {
           "color_by": "Variance",
           "sample_id": 0,
           "timepoint": 91,
           "trajectory": "Variance",
           "value": -1
          },
          {
           "color_by": "Variance",
           "sample_id": 0,
           "timepoint": 92,
           "trajectory": "Variance",
           "value": 0
          },
          {
           "color_by": "Variance",
           "sample_id": 0,
           "timepoint": 93,
           "trajectory": "Variance",
           "value": -1
          },
          {
           "color_by": "Variance",
           "sample_id": 0,
           "timepoint": 94,
           "trajectory": "Variance",
           "value": -2
          },
          {
           "color_by": "Variance",
           "sample_id": 0,
           "timepoint": 95,
           "trajectory": "Variance",
           "value": -3
          },
          {
           "color_by": "Variance",
           "sample_id": 0,
           "timepoint": 96,
           "trajectory": "Variance",
           "value": -2
          },
          {
           "color_by": "Variance",
           "sample_id": 0,
           "timepoint": 97,
           "trajectory": "Variance",
           "value": -1
          },
          {
           "color_by": "Variance",
           "sample_id": 0,
           "timepoint": 98,
           "trajectory": "Variance",
           "value": -2
          },
          {
           "color_by": "Variance",
           "sample_id": 0,
           "timepoint": 99,
           "trajectory": "Variance",
           "value": -1
          }
         ]
        },
        {
         "name": "points",
         "values": []
        },
        {
         "name": "markers",
         "values": []
        },
        {
         "name": "selected",
         "on": [
          {
           "remove": true,
           "trigger": "clear"
          },
          {
           "remove": true,
           "trigger": "!shift"
          },
          {
           "insert": "clicked",
           "trigger": "!shift && clicked"
          },
          {
           "toggle": "clicked",
           "trigger": "shift && clicked"
          }
         ]
        },
        {
         "name": "selectedData",
         "on": [
          {
           "remove": true,
           "trigger": "clearData"
          },
          {
           "toggle": "clickedData",
           "trigger": "clickedData"
          }
         ]
        }
       ],
       "height": 300,
       "legends": [
        {
         "encode": {
          "labels": {
           "interactive": true,
           "name": "legendLabel",
           "update": {
            "opacity": [
             {
              "test": "!length(data('selectedData')) || indata('selectedData', 'value', datum.value)",
              "value": 1
             },
             {
              "value": 0.25
             }
            ]
           }
          },
          "symbols": {
           "interactive": true,
           "name": "legendSymbol",
           "update": {
            "fill": {
             "value": "transparent"
            },
            "opacity": [
             {
              "test": "!length(data('selected')) || indata('selected', 'value', datum.value) || indata('selectedData', 'value', datum.value)",
              "value": 0.7
             },
             {
              "value": 0.15
             }
            ],
            "size": {
             "value": 64
            },
            "strokeWidth": {
             "value": 2
            }
           }
          }
         },
         "name": "color_legend",
         "orient": "left",
         "stroke": "color"
        }
       ],
       "marks": [
        {
         "from": {
          "facet": {
           "data": "points",
           "groupby": "trajectory",
           "name": "points_split"
          }
         },
         "marks": [
          {
           "encode": {
            "hover": {
             "fillOpacity": {
              "value": 0.9
             }
            },
            "update": {
             "fill": {
              "field": "trajectory",
              "scale": "color"
             },
             "fillOpacity": [
              {
               "test": "!length(data('selected')) || indata('selected', 'value', datum.trajectory)",
               "value": 0.5
              },
              {
               "value": 0.15
              }
             ],
             "size": {
              "value": 35
             },
             "stroke": {
              "field": "trajectory",
              "scale": "color"
             },
             "strokeOpacity": [
              {
               "test": "!length(data('selected')) || indata('selected', 'value', datum.trajectory)",
               "value": 0.75
              },
              {
               "value": 0.15
              }
             ],
             "strokeWidth": {
              "value": 2
             },
             "tooltip": {
              "field": "value"
             },
             "x": {
              "field": "timepoint",
              "scale": "xscale"
             },
             "y": {
              "field": "value",
              "scale": "yscale"
             }
            }
           },
           "from": {
            "data": "points_split"
           },
           "name": "_points_symbol",
           "type": "symbol",
           "zindex": 3
          },
          {
           "encode": {
            "hover": {
             "fillOpacity": {
              "value": 0.9
             }
            },
            "update": {
             "interpolate": {
              "value": "linear"
             },
             "stroke": {
              "field": "trajectory",
              "scale": "color"
             },
             "strokeDash": {
              "value": [
               5,
               3
              ]
             },
             "strokeOpacity": [
              {
               "test": "!length(data('selected')) || indata('selected', 'value', datum.trajectory)",
               "value": 0.3
              },
              {
               "value": 0.1
              }
             ],
             "strokeWidth": {
              "value": 2
             },
             "x": {
              "field": "timepoint",
              "scale": "xscale"
             },
             "y": {
              "field": "value",
              "scale": "yscale"
             }
            }
           },
           "from": {
            "data": "points_split"
           },
           "name": "_points_line",
           "type": "line",
           "zindex": 3
          }
         ],
         "name": "_points",
         "type": "group",
         "zindex": 3
        },
        {
         "from": {
          "facet": {
           "data": "traces",
           "groupby": "trajectory",
           "name": "traces_split"
          }
         },
         "marks": [
          {
           "encode": {
            "hover": {
             "fillOpacity": {
              "value": 0.9
             }
            },
            "update": {
             "interpolate": {
              "value": "linear"
             },
             "stroke": {
              "field": "trajectory",
              "scale": "color"
             },
             "strokeDash": [
              {
               "test": "indexof(datum.trajectory, 'aseline') == -1",
               "value": [
                1,
                0
               ]
              },
              {
               "value": [
                8,
                4
               ]
              }
             ],
             "strokeOpacity": [
              {
               "test": "!length(data('selected')) || indata('selected', 'value', datum.trajectory)",
               "value": 0.75
              },
              {
               "value": 0.15
              }
             ],
             "strokeWidth": {
              "value": 2
             },
             "x": {
              "field": "timepoint",
              "scale": "xscale"
             },
             "y": {
              "field": "value",
              "scale": "yscale"
             }
            }
           },
           "from": {
            "data": "traces_split"
           },
           "name": "_traces_lines",
           "type": "line"
          }
         ],
         "name": "_traces",
         "type": "group",
         "zindex": 2
        },
        {
         "from": {
          "facet": {
           "data": "distributions",
           "groupby": "trajectory",
           "name": "trajectory_split"
          }
         },
         "marks": [
          {
           "encode": {
            "hover": {
             "fillOpacity": {
              "value": 0.9
             }
            },
            "update": {
             "fill": {
              "field": "trajectory",
              "scale": "color"
             },
             "fillOpacity": [
              {
               "test": "!length(data('selected')) || indata('selected', 'value', datum.trajectory)",
               "value": 0.1
              },
              {
               "value": 0.05
              }
             ],
             "interpolate": {
              "value": "linear"
             },
             "stroke": {
              "field": "trajectory",
              "scale": "color"
             },
             "strokeOpacity": [
              {
               "test": "!length(data('selected')) || indata('selected', 'value', datum.trajectory)",
               "value": 0.1
              },
              {
               "value": 0.05
              }
             ],
             "strokeWidth": {
              "value": 2
             },
             "x": {
              "field": "timepoint",
              "scale": "xscale"
             },
             "y": {
              "field": "upper",
              "scale": "yscale"
             },
             "y2": {
              "field": "lower",
              "scale": "yscale"
             }
            }
           },
           "from": {
            "data": "trajectory_split"
           },
           "interactive": true,
           "name": "area",
           "type": "area"
          }
         ],
         "name": "_distributions",
         "type": "group",
         "zindex": 1
        },
        {
         "marks": [
          {
           "encode": {
            "enter": {
             "stroke": {
              "value": "lightgray"
             }
            },
            "update": {
             "opacity": {
              "value": 1
             },
             "x": {
              "field": "timepoint",
              "scale": "xscale"
             },
             "y": {
              "signal": "height"
             },
             "y2": {
              "value": 0
             }
            }
           },
           "from": {
            "data": "markers"
           },
           "name": "_marker text",
           "type": "rule"
          },
          {
           "encode": {
            "enter": {
             "fontSize": {
              "value": 8
             },
             "text": {
              "field": "datum.label"
             },
             "y": {
              "value": 0
             }
            }
           },
           "from": {
            "data": "_marker text"
           },
           "name": "_marker flags",
           "transform": [
            {
             "as": [
              "x",
              "_y",
              "opacity",
              "align",
              "baseline"
             ],
             "lineAnchor": "start",
             "offset": [
              1
             ],
             "size": {
              "signal": "[width, height]"
             },
             "type": "label"
            }
           ],
           "type": "text"
          }
         ],
         "name": "_markers",
         "type": "group"
        }
       ],
       "scales": [
        {
         "domain": {
          "fields": [
           {
            "data": "distributions",
            "field": "timepoint"
           },
           {
            "data": "traces",
            "field": "timepoint"
           },
           {
            "data": "points",
            "field": "timepoint"
           },
           {
            "data": "markers",
            "field": "timepoint"
           }
          ]
         },
         "name": "xscale",
         "range": "width",
         "type": "linear",
         "zero": false
        },
        {
         "domain": {
          "fields": [
           {
            "data": "distributions",
            "field": "lower"
           },
           {
            "data": "distributions",
            "field": "upper"
           },
           {
            "data": "traces",
            "field": "value"
           },
           {
            "data": "points",
            "field": "value"
           }
          ]
         },
         "name": "yscale",
         "nice": true,
         "range": "height",
         "type": "linear",
         "zero": true
        },
        {
         "domain": {
          "fields": [
           {
            "data": "distributions",
            "field": "trajectory"
           },
           {
            "data": "traces",
            "field": "trajectory"
           },
           {
            "data": "points",
            "field": "trajectory"
           }
          ],
          "sort": {
           "order": "ascending"
          }
         },
         "name": "color",
         "range": "category",
         "type": "ordinal"
        }
       ],
       "signals": [
        {
         "name": "clear",
         "on": [
          {
           "events": "mouseup[!event.item]",
           "force": true,
           "update": "true"
          }
         ],
         "value": true
        },
        {
         "name": "shift",
         "on": [
          {
           "events": "@legendSymbol:click, @legendLabel:click",
           "force": true,
           "update": "event.shiftKey"
          }
         ],
         "value": false
        },
        {
         "name": "clicked",
         "on": [
          {
           "events": "@legendSymbol:click, @legendLabel:click",
           "force": true,
           "update": "{value: datum.value}"
          }
         ],
         "value": null
        },
        {
         "name": "clearData",
         "on": [
          {
           "events": "mouseup[!event.item]",
           "force": true,
           "update": "true"
          }
         ],
         "value": true
        },
        {
         "name": "clickedData",
         "on": [
          {
           "events": "@area:click",
           "force": true,
           "update": "{value: datum.trajectory}"
          }
         ],
         "value": null
        }
       ],
       "width": 500
      }
     },
     "metadata": {},
     "output_type": "display_data"
    }
   ],
   "source": [
    "\n",
    "name = \"random\"\n",
    "timepoint_list = []\n",
    "sine_list = []\n",
    "sample_list = []\n",
    "kmean = False\n",
    "n_clusters = 3\n",
    "\n",
    "def save_result(data, name, ref_ext):\n",
    "    \"\"\"Save new reference files\"\"\"\n",
    "    _output_root = 'output'\n",
    "    mode = \"w\" if ref_ext == \"svg\" else \"wb\"\n",
    "    with open(os.path.join(_output_root, f\"{name}.{ref_ext}\"), mode) as f:\n",
    "        f.write(data)\n",
    "\n",
    "#https://stackoverflow.com/questions/71681417/generating-a-1d-random-walk-with-random-module\n",
    "def randomwalk1D(n):\n",
    "    x = 0\n",
    "    start = x\n",
    "    xposition = [start]\n",
    "    probabilities = [-1, 1]\n",
    "    for i in range(1, n + 1):\n",
    "        x += random.choice(probabilities)\n",
    "        xposition.append(x)\n",
    "    return xposition\n",
    "\n",
    "timepoint_list = []\n",
    "sample_list = []\n",
    "sine_list = []\n",
    "\n",
    "j = 0\n",
    "for _ in range(300):\n",
    "        j+=1\n",
    "        timepoint_list.extend([x for x in range(100)])\n",
    "        sample_list.extend([j]*100)\n",
    "        sine_list.extend(randomwalk1D(99))\n",
    "\n",
    "random_distribution= pd.DataFrame({'timepoint_id' : timepoint_list,\n",
    "                   'sample_id' : sample_list,\n",
    "                   'Example': sine_list})\n",
    "\n",
    "\n",
    "#change kmean here to use clustering\n",
    "examplary_line, trajectory_dict = pyciemss.visuals.trajectories.select_traces(random_distribution, kmean= kmean, n_clusters = n_clusters, select_by_list = ['mean', 'granger', \"variance\", 'chaos'])\n",
    "\n",
    "\n",
    "for cluster in list(np.unique(examplary_line['cluster'])): \n",
    "        cluster_sample_id = trajectory_dict[cluster.lower()]['cluster_sample_id']  \n",
    "        cluster_random_distribution =  random_distribution[random_distribution[\"sample_id\"].isin(cluster_sample_id)]\n",
    "        cluster_random_distribution = cluster_random_distribution.reset_index()\n",
    "        print(len(cluster_sample_id))\n",
    "        # get examplary lines form that cluster\n",
    "        current_cluster_df = examplary_line[examplary_line['cluster'] == cluster]\n",
    "        current_cluster_df = current_cluster_df.reset_index()\n",
    "\n",
    "        # get right format to use as traces\n",
    "        examplary_lines_pivot = current_cluster_df[['examplary_line', 'mean_trajectory', 'timepoint', 'select_by']].pivot_table(\n",
    "        values=\"examplary_line\", index = [\"timepoint\", 'mean_trajectory'], columns=\"select_by\")\n",
    "        examplary_lines_pivot = examplary_lines_pivot.reset_index()\n",
    "        examplary_lines_pivot = examplary_lines_pivot.rename(columns = {'mean_trajectory': 'Baseline_Mean'})\n",
    "\n",
    "        # plot the traces along with the baselines\n",
    "        schema = plots.trajectories(cluster_random_distribution[['timepoint_id', 'sample_id', 'Example']], traces = examplary_lines_pivot)\n",
    "        path = \"{}_{}\".format(name, cluster)\n",
    "        image = plots.ipy_display(schema, format=\"PNG\").data\n",
    "        save_result(image, path, \"png\")\n",
    "        plots.ipy_display(schema, format=\"interactive\")\n",
    "\n"
   ]
  },
  {
   "cell_type": "code",
   "execution_count": null,
   "metadata": {},
   "outputs": [
    {
     "name": "stdout",
     "output_type": "stream",
     "text": [
      "   timepoint_id  sample_id  persistent_beta_c_param  persistent_kappa_param  \\\n",
      "0             0          0                  0.71391                 0.09432   \n",
      "1             1          0                  0.71391                 0.09432   \n",
      "2             2          0                  0.71391                 0.09432   \n",
      "3             3          0                  0.71391                 0.09432   \n",
      "4             4          0                  0.71391                 0.09432   \n",
      "\n",
      "   persistent_gamma_param  persistent_hosp_param  persistent_death_hosp_param  \\\n",
      "0                0.226554               0.081048                     0.091152   \n",
      "1                0.226554               0.081048                     0.091152   \n",
      "2                0.226554               0.081048                     0.091152   \n",
      "3                0.226554               0.081048                     0.091152   \n",
      "4                0.226554               0.081048                     0.091152   \n",
      "\n",
      "   persistent_I0_param   D_state    E_state   H_state    I_state    R_state  \\\n",
      "0            12.423676  0.000000  31.171797  0.228120  19.609041   2.586514   \n",
      "1            12.423676  0.004159  25.228365  0.542552  22.959484   6.710431   \n",
      "2            12.423676  0.014050  21.086803  0.855617  24.065012  11.589039   \n",
      "3            12.423676  0.029648  18.084906  1.126368  23.884687  16.754715   \n",
      "4            12.423676  0.050182  15.816473  1.339658  22.994741  21.932064   \n",
      "\n",
      "      S_state  infected_observable_state  exposed_observable_state  \\\n",
      "0  19339986.0                  19.609041                 31.171797   \n",
      "1  19339984.0                  22.959484                 25.228365   \n",
      "2  19339982.0                  24.065012                 21.086803   \n",
      "3  19339980.0                  23.884687                 18.084906   \n",
      "4  19339978.0                  22.994741                 15.816473   \n",
      "\n",
      "   hospitalized_observable_state  dead_observable_state  timepoint_notional  \n",
      "0                       0.228120               0.000000            0.000000  \n",
      "1                       0.542552               0.004159            1.020408  \n",
      "2                       0.855617               0.014050            2.040816  \n",
      "3                       1.126368               0.029648            3.061224  \n",
      "4                       1.339658               0.050182            4.081633  \n",
      "Index(['timepoint_id', 'sample_id', 'persistent_beta_c_param',\n",
      "       'persistent_kappa_param', 'persistent_gamma_param',\n",
      "       'persistent_hosp_param', 'persistent_death_hosp_param',\n",
      "       'persistent_I0_param', 'D_state', 'E_state', 'H_state', 'I_state',\n",
      "       'R_state', 'S_state', 'infected_observable_state',\n",
      "       'exposed_observable_state', 'hospitalized_observable_state',\n",
      "       'dead_observable_state', 'timepoint_notional'],\n",
      "      dtype='object')\n"
     ]
    },
    {
     "data": {
      "text/html": [
       "<div>\n",
       "<style scoped>\n",
       "    .dataframe tbody tr th:only-of-type {\n",
       "        vertical-align: middle;\n",
       "    }\n",
       "\n",
       "    .dataframe tbody tr th {\n",
       "        vertical-align: top;\n",
       "    }\n",
       "\n",
       "    .dataframe thead th {\n",
       "        text-align: right;\n",
       "    }\n",
       "</style>\n",
       "<table border=\"1\" class=\"dataframe\">\n",
       "  <thead>\n",
       "    <tr style=\"text-align: right;\">\n",
       "      <th></th>\n",
       "      <th>timepoint_id</th>\n",
       "      <th>sample_id</th>\n",
       "      <th>infected_observable_state</th>\n",
       "    </tr>\n",
       "  </thead>\n",
       "  <tbody>\n",
       "    <tr>\n",
       "      <th>0</th>\n",
       "      <td>0</td>\n",
       "      <td>0</td>\n",
       "      <td>19.609041</td>\n",
       "    </tr>\n",
       "    <tr>\n",
       "      <th>1</th>\n",
       "      <td>1</td>\n",
       "      <td>0</td>\n",
       "      <td>22.959484</td>\n",
       "    </tr>\n",
       "    <tr>\n",
       "      <th>2</th>\n",
       "      <td>2</td>\n",
       "      <td>0</td>\n",
       "      <td>24.065012</td>\n",
       "    </tr>\n",
       "    <tr>\n",
       "      <th>3</th>\n",
       "      <td>3</td>\n",
       "      <td>0</td>\n",
       "      <td>23.884687</td>\n",
       "    </tr>\n",
       "    <tr>\n",
       "      <th>4</th>\n",
       "      <td>4</td>\n",
       "      <td>0</td>\n",
       "      <td>22.994741</td>\n",
       "    </tr>\n",
       "    <tr>\n",
       "      <th>...</th>\n",
       "      <td>...</td>\n",
       "      <td>...</td>\n",
       "      <td>...</td>\n",
       "    </tr>\n",
       "    <tr>\n",
       "      <th>2965</th>\n",
       "      <td>94</td>\n",
       "      <td>29</td>\n",
       "      <td>0.000162</td>\n",
       "    </tr>\n",
       "    <tr>\n",
       "      <th>2966</th>\n",
       "      <td>95</td>\n",
       "      <td>29</td>\n",
       "      <td>0.000130</td>\n",
       "    </tr>\n",
       "    <tr>\n",
       "      <th>2967</th>\n",
       "      <td>96</td>\n",
       "      <td>29</td>\n",
       "      <td>0.000104</td>\n",
       "    </tr>\n",
       "    <tr>\n",
       "      <th>2968</th>\n",
       "      <td>97</td>\n",
       "      <td>29</td>\n",
       "      <td>0.000083</td>\n",
       "    </tr>\n",
       "    <tr>\n",
       "      <th>2969</th>\n",
       "      <td>98</td>\n",
       "      <td>29</td>\n",
       "      <td>0.000066</td>\n",
       "    </tr>\n",
       "  </tbody>\n",
       "</table>\n",
       "<p>2970 rows × 3 columns</p>\n",
       "</div>"
      ],
      "text/plain": [
       "      timepoint_id  sample_id  infected_observable_state\n",
       "0                0          0                  19.609041\n",
       "1                1          0                  22.959484\n",
       "2                2          0                  24.065012\n",
       "3                3          0                  23.884687\n",
       "4                4          0                  22.994741\n",
       "...            ...        ...                        ...\n",
       "2965            94         29                   0.000162\n",
       "2966            95         29                   0.000130\n",
       "2967            96         29                   0.000104\n",
       "2968            97         29                   0.000083\n",
       "2969            98         29                   0.000066\n",
       "\n",
       "[2970 rows x 3 columns]"
      ]
     },
     "execution_count": 6,
     "metadata": {},
     "output_type": "execute_result"
    }
   ],
   "source": [
    "def distributions():\n",
    "    model_1_path = (\n",
    "            \"https://raw.githubusercontent.com/DARPA-ASKEM/simulation-integration\"\n",
    "            \"/main/data/models/SEIRHD_NPI_Type1_petrinet.json\"\n",
    "    )\n",
    "    start_time = 0.0\n",
    "    end_time = 100.0\n",
    "    logging_step_size = 1\n",
    "    num_samples = 30\n",
    "    sample = pyciemss.sample(\n",
    "        model_1_path,\n",
    "        end_time,\n",
    "        logging_step_size,\n",
    "        num_samples,\n",
    "        start_time=start_time,\n",
    "        solver_method=\"euler\",\n",
    "    )[\"unprocessed_result\"]\n",
    "\n",
    "    for e in sample.values():\n",
    "        if len(e.shape) > 1:\n",
    "            num_timepoints = e.shape[1]\n",
    "\n",
    "    return convert_to_output_format(\n",
    "        sample,\n",
    "        timepoints=np.linspace(start_time, end_time, num_timepoints),\n",
    "        time_unit=\"notional\",\n",
    "    )\n",
    "\n",
    "distributions = distributions()\n",
    "print(distributions.head())\n",
    "print(distributions.columns)\n",
    "all_columns = [\"timepoint_id\", \"sample_id\", 'infected_observable_state',\n",
    "       'exposed_observable_state', 'hospitalized_observable_state',\n",
    "       'dead_observable_state']\n",
    "all_columns = [\"timepoint_id\", \"sample_id\", 'infected_observable_state']\n",
    "\n",
    "distributions = distributions[all_columns]\n",
    "distributions"
   ]
  },
  {
   "cell_type": "code",
   "execution_count": null,
   "metadata": {},
   "outputs": [
    {
     "ename": "FileNotFoundError",
     "evalue": "[Errno 2] No such file or directory: 'paper_sine_05/paper_sine_05_new_df.csv'",
     "output_type": "error",
     "traceback": [
      "\u001b[0;31m---------------------------------------------------------------------------\u001b[0m",
      "\u001b[0;31mFileNotFoundError\u001b[0m                         Traceback (most recent call last)",
      "Cell \u001b[0;32mIn[13], line 2\u001b[0m\n\u001b[1;32m      1\u001b[0m \u001b[38;5;66;03m#'timepoint_id', 'sample_id'\u001b[39;00m\n\u001b[0;32m----> 2\u001b[0m sine_distribution \u001b[38;5;241m=\u001b[39m \u001b[43mpd\u001b[49m\u001b[38;5;241;43m.\u001b[39;49m\u001b[43mread_csv\u001b[49m\u001b[43m(\u001b[49m\u001b[38;5;124;43m\"\u001b[39;49m\u001b[38;5;124;43mpaper_sine_05/paper_sine_05_new_df.csv\u001b[39;49m\u001b[38;5;124;43m\"\u001b[39;49m\u001b[43m)\u001b[49m\n\u001b[1;32m      3\u001b[0m sine_distribution \u001b[38;5;241m=\u001b[39m sine_distribution\u001b[38;5;241m.\u001b[39mrename(\n\u001b[1;32m      4\u001b[0m             columns\u001b[38;5;241m=\u001b[39m{\n\u001b[1;32m      5\u001b[0m                 \u001b[38;5;124m'\u001b[39m\u001b[38;5;124mUnnamed: 0.1\u001b[39m\u001b[38;5;124m'\u001b[39m: \u001b[38;5;124m\"\u001b[39m\u001b[38;5;124mtimepoint_id\u001b[39m\u001b[38;5;124m\"\u001b[39m,\n\u001b[1;32m      6\u001b[0m                 \u001b[38;5;124m'\u001b[39m\u001b[38;5;124mUnnamed: 0\u001b[39m\u001b[38;5;124m'\u001b[39m: \u001b[38;5;124m\"\u001b[39m\u001b[38;5;124m100\u001b[39m\u001b[38;5;124m\"\u001b[39m,\n\u001b[1;32m      7\u001b[0m             }\n\u001b[1;32m      8\u001b[0m         )\n\u001b[1;32m      9\u001b[0m sine_distribution \u001b[38;5;241m=\u001b[39m sine_distribution\u001b[38;5;241m.\u001b[39mmelt(id_vars\u001b[38;5;241m=\u001b[39m[\u001b[38;5;124m\"\u001b[39m\u001b[38;5;124mtimepoint_id\u001b[39m\u001b[38;5;124m\"\u001b[39m], \n\u001b[1;32m     10\u001b[0m         var_name\u001b[38;5;241m=\u001b[39m\u001b[38;5;124m\"\u001b[39m\u001b[38;5;124msample_id\u001b[39m\u001b[38;5;124m\"\u001b[39m, \n\u001b[1;32m     11\u001b[0m         value_name\u001b[38;5;241m=\u001b[39m\u001b[38;5;124m\"\u001b[39m\u001b[38;5;124msame_stat_state\u001b[39m\u001b[38;5;124m\"\u001b[39m)\n",
      "File \u001b[0;32m~/opt/anaconda3/envs/pyciems310/lib/python3.10/site-packages/pandas/io/parsers/readers.py:1026\u001b[0m, in \u001b[0;36mread_csv\u001b[0;34m(filepath_or_buffer, sep, delimiter, header, names, index_col, usecols, dtype, engine, converters, true_values, false_values, skipinitialspace, skiprows, skipfooter, nrows, na_values, keep_default_na, na_filter, verbose, skip_blank_lines, parse_dates, infer_datetime_format, keep_date_col, date_parser, date_format, dayfirst, cache_dates, iterator, chunksize, compression, thousands, decimal, lineterminator, quotechar, quoting, doublequote, escapechar, comment, encoding, encoding_errors, dialect, on_bad_lines, delim_whitespace, low_memory, memory_map, float_precision, storage_options, dtype_backend)\u001b[0m\n\u001b[1;32m   1013\u001b[0m kwds_defaults \u001b[38;5;241m=\u001b[39m _refine_defaults_read(\n\u001b[1;32m   1014\u001b[0m     dialect,\n\u001b[1;32m   1015\u001b[0m     delimiter,\n\u001b[0;32m   (...)\u001b[0m\n\u001b[1;32m   1022\u001b[0m     dtype_backend\u001b[38;5;241m=\u001b[39mdtype_backend,\n\u001b[1;32m   1023\u001b[0m )\n\u001b[1;32m   1024\u001b[0m kwds\u001b[38;5;241m.\u001b[39mupdate(kwds_defaults)\n\u001b[0;32m-> 1026\u001b[0m \u001b[38;5;28;01mreturn\u001b[39;00m \u001b[43m_read\u001b[49m\u001b[43m(\u001b[49m\u001b[43mfilepath_or_buffer\u001b[49m\u001b[43m,\u001b[49m\u001b[43m \u001b[49m\u001b[43mkwds\u001b[49m\u001b[43m)\u001b[49m\n",
      "File \u001b[0;32m~/opt/anaconda3/envs/pyciems310/lib/python3.10/site-packages/pandas/io/parsers/readers.py:620\u001b[0m, in \u001b[0;36m_read\u001b[0;34m(filepath_or_buffer, kwds)\u001b[0m\n\u001b[1;32m    617\u001b[0m _validate_names(kwds\u001b[38;5;241m.\u001b[39mget(\u001b[38;5;124m\"\u001b[39m\u001b[38;5;124mnames\u001b[39m\u001b[38;5;124m\"\u001b[39m, \u001b[38;5;28;01mNone\u001b[39;00m))\n\u001b[1;32m    619\u001b[0m \u001b[38;5;66;03m# Create the parser.\u001b[39;00m\n\u001b[0;32m--> 620\u001b[0m parser \u001b[38;5;241m=\u001b[39m \u001b[43mTextFileReader\u001b[49m\u001b[43m(\u001b[49m\u001b[43mfilepath_or_buffer\u001b[49m\u001b[43m,\u001b[49m\u001b[43m \u001b[49m\u001b[38;5;241;43m*\u001b[39;49m\u001b[38;5;241;43m*\u001b[39;49m\u001b[43mkwds\u001b[49m\u001b[43m)\u001b[49m\n\u001b[1;32m    622\u001b[0m \u001b[38;5;28;01mif\u001b[39;00m chunksize \u001b[38;5;129;01mor\u001b[39;00m iterator:\n\u001b[1;32m    623\u001b[0m     \u001b[38;5;28;01mreturn\u001b[39;00m parser\n",
      "File \u001b[0;32m~/opt/anaconda3/envs/pyciems310/lib/python3.10/site-packages/pandas/io/parsers/readers.py:1620\u001b[0m, in \u001b[0;36mTextFileReader.__init__\u001b[0;34m(self, f, engine, **kwds)\u001b[0m\n\u001b[1;32m   1617\u001b[0m     \u001b[38;5;28mself\u001b[39m\u001b[38;5;241m.\u001b[39moptions[\u001b[38;5;124m\"\u001b[39m\u001b[38;5;124mhas_index_names\u001b[39m\u001b[38;5;124m\"\u001b[39m] \u001b[38;5;241m=\u001b[39m kwds[\u001b[38;5;124m\"\u001b[39m\u001b[38;5;124mhas_index_names\u001b[39m\u001b[38;5;124m\"\u001b[39m]\n\u001b[1;32m   1619\u001b[0m \u001b[38;5;28mself\u001b[39m\u001b[38;5;241m.\u001b[39mhandles: IOHandles \u001b[38;5;241m|\u001b[39m \u001b[38;5;28;01mNone\u001b[39;00m \u001b[38;5;241m=\u001b[39m \u001b[38;5;28;01mNone\u001b[39;00m\n\u001b[0;32m-> 1620\u001b[0m \u001b[38;5;28mself\u001b[39m\u001b[38;5;241m.\u001b[39m_engine \u001b[38;5;241m=\u001b[39m \u001b[38;5;28;43mself\u001b[39;49m\u001b[38;5;241;43m.\u001b[39;49m\u001b[43m_make_engine\u001b[49m\u001b[43m(\u001b[49m\u001b[43mf\u001b[49m\u001b[43m,\u001b[49m\u001b[43m \u001b[49m\u001b[38;5;28;43mself\u001b[39;49m\u001b[38;5;241;43m.\u001b[39;49m\u001b[43mengine\u001b[49m\u001b[43m)\u001b[49m\n",
      "File \u001b[0;32m~/opt/anaconda3/envs/pyciems310/lib/python3.10/site-packages/pandas/io/parsers/readers.py:1880\u001b[0m, in \u001b[0;36mTextFileReader._make_engine\u001b[0;34m(self, f, engine)\u001b[0m\n\u001b[1;32m   1878\u001b[0m     \u001b[38;5;28;01mif\u001b[39;00m \u001b[38;5;124m\"\u001b[39m\u001b[38;5;124mb\u001b[39m\u001b[38;5;124m\"\u001b[39m \u001b[38;5;129;01mnot\u001b[39;00m \u001b[38;5;129;01min\u001b[39;00m mode:\n\u001b[1;32m   1879\u001b[0m         mode \u001b[38;5;241m+\u001b[39m\u001b[38;5;241m=\u001b[39m \u001b[38;5;124m\"\u001b[39m\u001b[38;5;124mb\u001b[39m\u001b[38;5;124m\"\u001b[39m\n\u001b[0;32m-> 1880\u001b[0m \u001b[38;5;28mself\u001b[39m\u001b[38;5;241m.\u001b[39mhandles \u001b[38;5;241m=\u001b[39m \u001b[43mget_handle\u001b[49m\u001b[43m(\u001b[49m\n\u001b[1;32m   1881\u001b[0m \u001b[43m    \u001b[49m\u001b[43mf\u001b[49m\u001b[43m,\u001b[49m\n\u001b[1;32m   1882\u001b[0m \u001b[43m    \u001b[49m\u001b[43mmode\u001b[49m\u001b[43m,\u001b[49m\n\u001b[1;32m   1883\u001b[0m \u001b[43m    \u001b[49m\u001b[43mencoding\u001b[49m\u001b[38;5;241;43m=\u001b[39;49m\u001b[38;5;28;43mself\u001b[39;49m\u001b[38;5;241;43m.\u001b[39;49m\u001b[43moptions\u001b[49m\u001b[38;5;241;43m.\u001b[39;49m\u001b[43mget\u001b[49m\u001b[43m(\u001b[49m\u001b[38;5;124;43m\"\u001b[39;49m\u001b[38;5;124;43mencoding\u001b[39;49m\u001b[38;5;124;43m\"\u001b[39;49m\u001b[43m,\u001b[49m\u001b[43m \u001b[49m\u001b[38;5;28;43;01mNone\u001b[39;49;00m\u001b[43m)\u001b[49m\u001b[43m,\u001b[49m\n\u001b[1;32m   1884\u001b[0m \u001b[43m    \u001b[49m\u001b[43mcompression\u001b[49m\u001b[38;5;241;43m=\u001b[39;49m\u001b[38;5;28;43mself\u001b[39;49m\u001b[38;5;241;43m.\u001b[39;49m\u001b[43moptions\u001b[49m\u001b[38;5;241;43m.\u001b[39;49m\u001b[43mget\u001b[49m\u001b[43m(\u001b[49m\u001b[38;5;124;43m\"\u001b[39;49m\u001b[38;5;124;43mcompression\u001b[39;49m\u001b[38;5;124;43m\"\u001b[39;49m\u001b[43m,\u001b[49m\u001b[43m \u001b[49m\u001b[38;5;28;43;01mNone\u001b[39;49;00m\u001b[43m)\u001b[49m\u001b[43m,\u001b[49m\n\u001b[1;32m   1885\u001b[0m \u001b[43m    \u001b[49m\u001b[43mmemory_map\u001b[49m\u001b[38;5;241;43m=\u001b[39;49m\u001b[38;5;28;43mself\u001b[39;49m\u001b[38;5;241;43m.\u001b[39;49m\u001b[43moptions\u001b[49m\u001b[38;5;241;43m.\u001b[39;49m\u001b[43mget\u001b[49m\u001b[43m(\u001b[49m\u001b[38;5;124;43m\"\u001b[39;49m\u001b[38;5;124;43mmemory_map\u001b[39;49m\u001b[38;5;124;43m\"\u001b[39;49m\u001b[43m,\u001b[49m\u001b[43m \u001b[49m\u001b[38;5;28;43;01mFalse\u001b[39;49;00m\u001b[43m)\u001b[49m\u001b[43m,\u001b[49m\n\u001b[1;32m   1886\u001b[0m \u001b[43m    \u001b[49m\u001b[43mis_text\u001b[49m\u001b[38;5;241;43m=\u001b[39;49m\u001b[43mis_text\u001b[49m\u001b[43m,\u001b[49m\n\u001b[1;32m   1887\u001b[0m \u001b[43m    \u001b[49m\u001b[43merrors\u001b[49m\u001b[38;5;241;43m=\u001b[39;49m\u001b[38;5;28;43mself\u001b[39;49m\u001b[38;5;241;43m.\u001b[39;49m\u001b[43moptions\u001b[49m\u001b[38;5;241;43m.\u001b[39;49m\u001b[43mget\u001b[49m\u001b[43m(\u001b[49m\u001b[38;5;124;43m\"\u001b[39;49m\u001b[38;5;124;43mencoding_errors\u001b[39;49m\u001b[38;5;124;43m\"\u001b[39;49m\u001b[43m,\u001b[49m\u001b[43m \u001b[49m\u001b[38;5;124;43m\"\u001b[39;49m\u001b[38;5;124;43mstrict\u001b[39;49m\u001b[38;5;124;43m\"\u001b[39;49m\u001b[43m)\u001b[49m\u001b[43m,\u001b[49m\n\u001b[1;32m   1888\u001b[0m \u001b[43m    \u001b[49m\u001b[43mstorage_options\u001b[49m\u001b[38;5;241;43m=\u001b[39;49m\u001b[38;5;28;43mself\u001b[39;49m\u001b[38;5;241;43m.\u001b[39;49m\u001b[43moptions\u001b[49m\u001b[38;5;241;43m.\u001b[39;49m\u001b[43mget\u001b[49m\u001b[43m(\u001b[49m\u001b[38;5;124;43m\"\u001b[39;49m\u001b[38;5;124;43mstorage_options\u001b[39;49m\u001b[38;5;124;43m\"\u001b[39;49m\u001b[43m,\u001b[49m\u001b[43m \u001b[49m\u001b[38;5;28;43;01mNone\u001b[39;49;00m\u001b[43m)\u001b[49m\u001b[43m,\u001b[49m\n\u001b[1;32m   1889\u001b[0m \u001b[43m\u001b[49m\u001b[43m)\u001b[49m\n\u001b[1;32m   1890\u001b[0m \u001b[38;5;28;01massert\u001b[39;00m \u001b[38;5;28mself\u001b[39m\u001b[38;5;241m.\u001b[39mhandles \u001b[38;5;129;01mis\u001b[39;00m \u001b[38;5;129;01mnot\u001b[39;00m \u001b[38;5;28;01mNone\u001b[39;00m\n\u001b[1;32m   1891\u001b[0m f \u001b[38;5;241m=\u001b[39m \u001b[38;5;28mself\u001b[39m\u001b[38;5;241m.\u001b[39mhandles\u001b[38;5;241m.\u001b[39mhandle\n",
      "File \u001b[0;32m~/opt/anaconda3/envs/pyciems310/lib/python3.10/site-packages/pandas/io/common.py:873\u001b[0m, in \u001b[0;36mget_handle\u001b[0;34m(path_or_buf, mode, encoding, compression, memory_map, is_text, errors, storage_options)\u001b[0m\n\u001b[1;32m    868\u001b[0m \u001b[38;5;28;01melif\u001b[39;00m \u001b[38;5;28misinstance\u001b[39m(handle, \u001b[38;5;28mstr\u001b[39m):\n\u001b[1;32m    869\u001b[0m     \u001b[38;5;66;03m# Check whether the filename is to be opened in binary mode.\u001b[39;00m\n\u001b[1;32m    870\u001b[0m     \u001b[38;5;66;03m# Binary mode does not support 'encoding' and 'newline'.\u001b[39;00m\n\u001b[1;32m    871\u001b[0m     \u001b[38;5;28;01mif\u001b[39;00m ioargs\u001b[38;5;241m.\u001b[39mencoding \u001b[38;5;129;01mand\u001b[39;00m \u001b[38;5;124m\"\u001b[39m\u001b[38;5;124mb\u001b[39m\u001b[38;5;124m\"\u001b[39m \u001b[38;5;129;01mnot\u001b[39;00m \u001b[38;5;129;01min\u001b[39;00m ioargs\u001b[38;5;241m.\u001b[39mmode:\n\u001b[1;32m    872\u001b[0m         \u001b[38;5;66;03m# Encoding\u001b[39;00m\n\u001b[0;32m--> 873\u001b[0m         handle \u001b[38;5;241m=\u001b[39m \u001b[38;5;28;43mopen\u001b[39;49m\u001b[43m(\u001b[49m\n\u001b[1;32m    874\u001b[0m \u001b[43m            \u001b[49m\u001b[43mhandle\u001b[49m\u001b[43m,\u001b[49m\n\u001b[1;32m    875\u001b[0m \u001b[43m            \u001b[49m\u001b[43mioargs\u001b[49m\u001b[38;5;241;43m.\u001b[39;49m\u001b[43mmode\u001b[49m\u001b[43m,\u001b[49m\n\u001b[1;32m    876\u001b[0m \u001b[43m            \u001b[49m\u001b[43mencoding\u001b[49m\u001b[38;5;241;43m=\u001b[39;49m\u001b[43mioargs\u001b[49m\u001b[38;5;241;43m.\u001b[39;49m\u001b[43mencoding\u001b[49m\u001b[43m,\u001b[49m\n\u001b[1;32m    877\u001b[0m \u001b[43m            \u001b[49m\u001b[43merrors\u001b[49m\u001b[38;5;241;43m=\u001b[39;49m\u001b[43merrors\u001b[49m\u001b[43m,\u001b[49m\n\u001b[1;32m    878\u001b[0m \u001b[43m            \u001b[49m\u001b[43mnewline\u001b[49m\u001b[38;5;241;43m=\u001b[39;49m\u001b[38;5;124;43m\"\u001b[39;49m\u001b[38;5;124;43m\"\u001b[39;49m\u001b[43m,\u001b[49m\n\u001b[1;32m    879\u001b[0m \u001b[43m        \u001b[49m\u001b[43m)\u001b[49m\n\u001b[1;32m    880\u001b[0m     \u001b[38;5;28;01melse\u001b[39;00m:\n\u001b[1;32m    881\u001b[0m         \u001b[38;5;66;03m# Binary mode\u001b[39;00m\n\u001b[1;32m    882\u001b[0m         handle \u001b[38;5;241m=\u001b[39m \u001b[38;5;28mopen\u001b[39m(handle, ioargs\u001b[38;5;241m.\u001b[39mmode)\n",
      "\u001b[0;31mFileNotFoundError\u001b[0m: [Errno 2] No such file or directory: 'paper_sine_05/paper_sine_05_new_df.csv'"
     ]
    }
   ],
   "source": [
    "#'timepoint_id', 'sample_id'\n",
    "sine_distribution = pd.read_csv(\"paper_sine_05/paper_sine_05_new_df.csv\")\n",
    "sine_distribution = sine_distribution.rename(\n",
    "            columns={\n",
    "                'Unnamed: 0.1': \"timepoint_id\",\n",
    "                'Unnamed: 0': \"100\",\n",
    "            }\n",
    "        )\n",
    "sine_distribution = sine_distribution.melt(id_vars=[\"timepoint_id\"], \n",
    "        var_name=\"sample_id\", \n",
    "        value_name=\"same_stat_state\")\n",
    "\n",
    "traces_list = []   \n",
    " \n",
    "#select_by \"mean\", \"var\", \"granger\"\n",
    "for select_by in ['mean', 'var', 'granger']:\n",
    "    examplary_line, mean_line_df = pyciemss.visuals.trajectories.select_traces(sine_distribution, select_by = select_by,  kmean=True)\n",
    "    traces_list.append(examplary_line)\n",
    "\n",
    "\n",
    "new_df = pd.concat(traces_list, axis = 1)\n",
    "combined_df = pd.concat([new_df, mean_line_df], axis =1)\n",
    "\n",
    "schema = plots.trajectories(sine_distribution, traces = combined_df,  keep=\".*_state\")\n",
    "\n",
    "plots.save_schema(schema, \"_schema.json\")\n",
    "\n",
    "plots.ipy_display(schema, format=\"interactive\")"
   ]
  }
 ],
 "metadata": {
  "kernelspec": {
   "display_name": "py310_cfg",
   "language": "python",
   "name": "python3"
  },
  "language_info": {
   "codemirror_mode": {
    "name": "ipython",
    "version": 3
   },
   "file_extension": ".py",
   "mimetype": "text/x-python",
   "name": "python",
   "nbconvert_exporter": "python",
   "pygments_lexer": "ipython3",
   "version": "3.10.13"
  }
 },
 "nbformat": 4,
 "nbformat_minor": 2
}
