{
 "cells": [
  {
   "cell_type": "code",
   "execution_count": 1,
   "metadata": {},
   "outputs": [
    {
     "name": "stderr",
     "output_type": "stream",
     "text": [
      "/Users/oost464/opt/anaconda3/envs/pyciems310/lib/python3.10/site-packages/threadpoolctl.py:1223: RuntimeWarning: \n",
      "Found Intel OpenMP ('libiomp') and LLVM OpenMP ('libomp') loaded at\n",
      "the same time. Both libraries are known to be incompatible and this\n",
      "can cause random crashes or deadlocks on Linux when loaded in the\n",
      "same Python program.\n",
      "Using threadpoolctl may cause crashes or deadlocks. For more\n",
      "information and possible workarounds, please see\n",
      "    https://github.com/joblib/threadpoolctl/blob/master/multiple_openmp.md\n",
      "\n",
      "  warnings.warn(msg, RuntimeWarning)\n",
      "/Users/oost464/opt/anaconda3/envs/pyciems310/lib/python3.10/site-packages/tslearn/bases/bases.py:15: UserWarning: h5py not installed, hdf5 features will not be supported.\n",
      "Install h5py to use hdf5 features: http://docs.h5py.org/\n",
      "  warn(h5py_msg)\n"
     ]
    }
   ],
   "source": [
    "import json\n",
    "import random\n",
    "from itertools import chain\n",
    "from pathlib import Path\n",
    "import os\n",
    "import networkx as nx\n",
    "import numpy as np\n",
    "import pandas as pd\n",
    "import pytest\n",
    "\n",
    "import pyciemss\n",
    "from pyciemss.integration_utils.result_processing import convert_to_output_format\n",
    "from pyciemss.visuals import plots, vega\n",
    "\n"
   ]
  },
  {
   "cell_type": "code",
   "execution_count": 2,
   "metadata": {},
   "outputs": [
    {
     "name": "stdout",
     "output_type": "stream",
     "text": [
      "Value(False)\n",
      "\n"
     ]
    },
    {
     "data": {
      "application/vnd.vega.v5+json": {
       "$schema": "https://vega.github.io/schema/vega/v5.json",
       "axes": [
        {
         "name": "x_axis",
         "orient": "bottom",
         "scale": "xscale",
         "zindex": 100
        },
        {
         "name": "y_axis",
         "orient": "left",
         "scale": "yscale",
         "zindex": 100
        }
       ],
       "background": "white",
       "data": [
        {
         "name": "distributions",
         "transform": [
          {
           "sort": {
            "field": [
             "trajectory",
             "timepoint"
            ]
           },
           "type": "collect"
          }
         ],
         "values": [
          {
           "lower": -0.6018831999949877,
           "timepoint": 0,
           "trajectory": "Example",
           "upper": 2.509730576071627
          },
          {
           "lower": 0.525350794580943,
           "timepoint": 1,
           "trajectory": "Example",
           "upper": 3.4492207248380415
          },
          {
           "lower": 0.7798374108209672,
           "timepoint": 2,
           "trajectory": "Example",
           "upper": 3.5743488553271896
          },
          {
           "lower": 0.7931928670211461,
           "timepoint": 3,
           "trajectory": "Example",
           "upper": 3.5971252321244176
          },
          {
           "lower": 1.0780471945532324,
           "timepoint": 4,
           "trajectory": "Example",
           "upper": 3.830408040163643
          },
          {
           "lower": 1.2066460516618271,
           "timepoint": 5,
           "trajectory": "Example",
           "upper": 3.9753091343758653
          },
          {
           "lower": 1.3879441589673456,
           "timepoint": 6,
           "trajectory": "Example",
           "upper": 4.059995278998006
          },
          {
           "lower": 1.3816742982046333,
           "timepoint": 7,
           "trajectory": "Example",
           "upper": 4.17158723035895
          },
          {
           "lower": 1.3739020563675575,
           "timepoint": 8,
           "trajectory": "Example",
           "upper": 4.172200931303182
          },
          {
           "lower": 1.3156338543287935,
           "timepoint": 9,
           "trajectory": "Example",
           "upper": 4.259864206082595
          },
          {
           "lower": 1.330587445398782,
           "timepoint": 10,
           "trajectory": "Example",
           "upper": 4.393729685690913
          },
          {
           "lower": 1.4025257049489943,
           "timepoint": 11,
           "trajectory": "Example",
           "upper": 4.519607353070516
          },
          {
           "lower": 1.497979895005125,
           "timepoint": 12,
           "trajectory": "Example",
           "upper": 4.551499318808974
          },
          {
           "lower": 1.4797312109234422,
           "timepoint": 13,
           "trajectory": "Example",
           "upper": 4.526731126794829
          },
          {
           "lower": 1.4982682777683747,
           "timepoint": 14,
           "trajectory": "Example",
           "upper": 4.504764108239558
          },
          {
           "lower": 1.4729577762866688,
           "timepoint": 15,
           "trajectory": "Example",
           "upper": 4.522157098053521
          },
          {
           "lower": 1.418645543926742,
           "timepoint": 16,
           "trajectory": "Example",
           "upper": 4.444523958960095
          },
          {
           "lower": 1.52272783436035,
           "timepoint": 17,
           "trajectory": "Example",
           "upper": 4.406363559382244
          },
          {
           "lower": 1.5299380645800753,
           "timepoint": 18,
           "trajectory": "Example",
           "upper": 4.281384550530897
          },
          {
           "lower": 1.5179410556086914,
           "timepoint": 19,
           "trajectory": "Example",
           "upper": 4.37655740210154
          },
          {
           "lower": 1.5744026774355828,
           "timepoint": 20,
           "trajectory": "Example",
           "upper": 4.459671015338753
          },
          {
           "lower": 1.596930398460582,
           "timepoint": 21,
           "trajectory": "Example",
           "upper": 4.483277326750182
          },
          {
           "lower": 1.6587338739907058,
           "timepoint": 22,
           "trajectory": "Example",
           "upper": 4.484236382194965
          },
          {
           "lower": 1.6075691790248814,
           "timepoint": 23,
           "trajectory": "Example",
           "upper": 4.420488389328536
          },
          {
           "lower": 1.6910596383283796,
           "timepoint": 24,
           "trajectory": "Example",
           "upper": 4.475373954028342
          },
          {
           "lower": 1.646927919293563,
           "timepoint": 25,
           "trajectory": "Example",
           "upper": 4.720275373255232
          },
          {
           "lower": 1.770415237061315,
           "timepoint": 26,
           "trajectory": "Example",
           "upper": 4.729603038069195
          },
          {
           "lower": 1.8583180782568869,
           "timepoint": 27,
           "trajectory": "Example",
           "upper": 4.692342935715531
          },
          {
           "lower": 1.757514316259162,
           "timepoint": 28,
           "trajectory": "Example",
           "upper": 4.606962341299329
          },
          {
           "lower": 1.9569067542940286,
           "timepoint": 29,
           "trajectory": "Example",
           "upper": 4.712584297552454
          },
          {
           "lower": 2.0246029093801354,
           "timepoint": 30,
           "trajectory": "Example",
           "upper": 4.810047473767862
          },
          {
           "lower": 2.154076415038023,
           "timepoint": 31,
           "trajectory": "Example",
           "upper": 4.863742639503026
          },
          {
           "lower": 2.114971439126738,
           "timepoint": 32,
           "trajectory": "Example",
           "upper": 4.91843064327776
          },
          {
           "lower": 2.1058646365207716,
           "timepoint": 33,
           "trajectory": "Example",
           "upper": 4.888078348950125
          },
          {
           "lower": 2.0190915753534777,
           "timepoint": 34,
           "trajectory": "Example",
           "upper": 4.9205612872193685
          },
          {
           "lower": 1.9730434693376464,
           "timepoint": 35,
           "trajectory": "Example",
           "upper": 5.0322716963983005
          },
          {
           "lower": 2.023856420658593,
           "timepoint": 36,
           "trajectory": "Example",
           "upper": 5.1406621569935504
          },
          {
           "lower": 2.092575075601021,
           "timepoint": 37,
           "trajectory": "Example",
           "upper": 5.175651703769512
          },
          {
           "lower": 2.0822133146792665,
           "timepoint": 38,
           "trajectory": "Example",
           "upper": 5.1253295454275065
          },
          {
           "lower": 2.062143619886679,
           "timepoint": 39,
           "trajectory": "Example",
           "upper": 5.066374408062422
          },
          {
           "lower": 2.039543142477385,
           "timepoint": 40,
           "trajectory": "Example",
           "upper": 5.079133320367339
          },
          {
           "lower": 1.9441720589448854,
           "timepoint": 41,
           "trajectory": "Example",
           "upper": 4.992414782573588
          },
          {
           "lower": 2.0504028486866632,
           "timepoint": 42,
           "trajectory": "Example",
           "upper": 4.938677487202259
          },
          {
           "lower": 2.0277015730665644,
           "timepoint": 43,
           "trajectory": "Example",
           "upper": 4.805200591236166
          },
          {
           "lower": 2.0118681355012074,
           "timepoint": 44,
           "trajectory": "Example",
           "upper": 4.865627629889048
          },
          {
           "lower": 2.0412507896849723,
           "timepoint": 45,
           "trajectory": "Example",
           "upper": 4.957580925430721
          },
          {
           "lower": 2.0665974379724044,
           "timepoint": 46,
           "trajectory": "Example",
           "upper": 4.944465563241916
          },
          {
           "lower": 2.1026745532657616,
           "timepoint": 47,
           "trajectory": "Example",
           "upper": 4.944145086630414
          },
          {
           "lower": 2.0362719404819347,
           "timepoint": 48,
           "trajectory": "Example",
           "upper": 4.877139565832359
          },
          {
           "lower": 2.1189251695869746,
           "timepoint": 49,
           "trajectory": "Example",
           "upper": 4.876323740669168
          },
          {
           "lower": 2.083730021729039,
           "timepoint": 50,
           "trajectory": "Example",
           "upper": 5.116154056225404
          },
          {
           "lower": 2.1598231549221856,
           "timepoint": 51,
           "trajectory": "Example",
           "upper": 5.16530089267515
          },
          {
           "lower": 2.237957076097503,
           "timepoint": 52,
           "trajectory": "Example",
           "upper": 5.125073326570845
          },
          {
           "lower": 2.1499968007213086,
           "timepoint": 53,
           "trajectory": "Example",
           "upper": 5.0325990993512
          },
          {
           "lower": 2.3202240428869274,
           "timepoint": 54,
           "trajectory": "Example",
           "upper": 5.077848754285542
          },
          {
           "lower": 2.426739298079266,
           "timepoint": 55,
           "trajectory": "Example",
           "upper": 5.181671483666291
          },
          {
           "lower": 2.549162488694289,
           "timepoint": 56,
           "trajectory": "Example",
           "upper": 5.241574539739714
          },
          {
           "lower": 2.5065399999144113,
           "timepoint": 57,
           "trajectory": "Example",
           "upper": 5.280193942303214
          },
          {
           "lower": 2.4866612994362916,
           "timepoint": 58,
           "trajectory": "Example",
           "upper": 5.272128794944377
          },
          {
           "lower": 2.3873814977518415,
           "timepoint": 59,
           "trajectory": "Example",
           "upper": 5.285605416292515
          },
          {
           "lower": 2.3274217113848676,
           "timepoint": 60,
           "trajectory": "Example",
           "upper": 5.366687245234889
          },
          {
           "lower": 2.3632867270571727,
           "timepoint": 61,
           "trajectory": "Example",
           "upper": 5.477510710057008
          },
          {
           "lower": 2.4310360295440088,
           "timepoint": 62,
           "trajectory": "Example",
           "upper": 5.525133367338526
          },
          {
           "lower": 2.4360882472710643,
           "timepoint": 63,
           "trajectory": "Example",
           "upper": 5.473428827871761
          },
          {
           "lower": 2.4145990729885263,
           "timepoint": 64,
           "trajectory": "Example",
           "upper": 5.3915874333613445
          },
          {
           "lower": 2.384670872569043,
           "timepoint": 65,
           "trajectory": "Example",
           "upper": 5.412166470534473
          },
          {
           "lower": 2.264993015662068,
           "timepoint": 66,
           "trajectory": "Example",
           "upper": 5.3287528467062275
          },
          {
           "lower": 2.3791621614598144,
           "timepoint": 67,
           "trajectory": "Example",
           "upper": 5.269996815973305
          },
          {
           "lower": 2.346897189559808,
           "timepoint": 68,
           "trajectory": "Example",
           "upper": 5.125124050764634
          },
          {
           "lower": 2.3354331983705534,
           "timepoint": 69,
           "trajectory": "Example",
           "upper": 5.145300897275548
          },
          {
           "lower": 2.3355220047543037,
           "timepoint": 70,
           "trajectory": "Example",
           "upper": 5.261758064346574
          },
          {
           "lower": 2.372240138943761,
           "timepoint": 71,
           "trajectory": "Example",
           "upper": 5.239460399098995
          },
          {
           "lower": 2.371783037423958,
           "timepoint": 72,
           "trajectory": "Example",
           "upper": 5.245007756876795
          },
          {
           "lower": 2.315181105178686,
           "timepoint": 73,
           "trajectory": "Example",
           "upper": 5.182075160413931
          },
          {
           "lower": 2.4027011566488925,
           "timepoint": 74,
           "trajectory": "Example",
           "upper": 5.143073123438382
          },
          {
           "lower": 2.38209904046503,
           "timepoint": 75,
           "trajectory": "Example",
           "upper": 5.371360306309403
          },
          {
           "lower": 2.4160947162293946,
           "timepoint": 76,
           "trajectory": "Example",
           "upper": 5.464485280804329
          },
          {
           "lower": 2.489275511261413,
           "timepoint": 77,
           "trajectory": "Example",
           "upper": 5.428273301856609
          },
          {
           "lower": 2.446408835690646,
           "timepoint": 78,
           "trajectory": "Example",
           "upper": 5.333275417634395
          },
          {
           "lower": 2.564491941609761,
           "timepoint": 79,
           "trajectory": "Example",
           "upper": 5.322692147490149
          },
          {
           "lower": 2.721417366276979,
           "timepoint": 80,
           "trajectory": "Example",
           "upper": 5.43650934495997
          },
          {
           "lower": 2.837029518338371,
           "timepoint": 81,
           "trajectory": "Example",
           "upper": 5.5092086221548
          },
          {
           "lower": 2.79115021877965,
           "timepoint": 82,
           "trajectory": "Example",
           "upper": 5.5369050318371675
          },
          {
           "lower": 2.7641670903245155,
           "timepoint": 83,
           "trajectory": "Example",
           "upper": 5.556424740023772
          },
          {
           "lower": 2.6547810134927974,
           "timepoint": 84,
           "trajectory": "Example",
           "upper": 5.548759562681402
          },
          {
           "lower": 2.5777857823678554,
           "timepoint": 85,
           "trajectory": "Example",
           "upper": 5.602510091298165
          },
          {
           "lower": 2.6091908875029026,
           "timepoint": 86,
           "trajectory": "Example",
           "upper": 5.718337027875924
          },
          {
           "lower": 2.661083380497071,
           "timepoint": 87,
           "trajectory": "Example",
           "upper": 5.771898213232994
          },
          {
           "lower": 2.701851700417395,
           "timepoint": 88,
           "trajectory": "Example",
           "upper": 5.731304140455645
          },
          {
           "lower": 2.685634986566158,
           "timepoint": 89,
           "trajectory": "Example",
           "upper": 5.628699554677548
          },
          {
           "lower": 2.64676495300183,
           "timepoint": 90,
           "trajectory": "Example",
           "upper": 5.655140384964485
          },
          {
           "lower": 2.5170338022731253,
           "timepoint": 91,
           "trajectory": "Example",
           "upper": 5.582619548041066
          },
          {
           "lower": 2.6111407372295217,
           "timepoint": 92,
           "trajectory": "Example",
           "upper": 5.521103599296027
          },
          {
           "lower": 2.591126477032803,
           "timepoint": 93,
           "trajectory": "Example",
           "upper": 5.3776276571314
          },
          {
           "lower": 2.584931185992608,
           "timepoint": 94,
           "trajectory": "Example",
           "upper": 5.346007057027622
          },
          {
           "lower": 2.558147084876567,
           "timepoint": 95,
           "trajectory": "Example",
           "upper": 5.468361993821391
          },
          {
           "lower": 2.6078473818248757,
           "timepoint": 96,
           "trajectory": "Example",
           "upper": 5.4622624398126005
          },
          {
           "lower": 2.5858765269553436,
           "timepoint": 97,
           "trajectory": "Example",
           "upper": 5.475509346280867
          },
          {
           "lower": 2.5512924160424126,
           "timepoint": 98,
           "trajectory": "Example",
           "upper": 5.418480560557656
          },
          {
           "lower": 2.6217073691082975,
           "timepoint": 99,
           "trajectory": "Example",
           "upper": 5.382591716521744
          }
         ]
        },
        {
         "name": "traces",
         "transform": [
          {
           "expr": "isValid(datum.value)",
           "type": "filter"
          },
          {
           "sort": {
            "field": [
             "trajectory",
             "timepoint"
            ]
           },
           "type": "collect"
          }
         ],
         "values": [
          {
           "color_by": "Envelope Mean",
           "sample_id": 0,
           "timepoint": 0,
           "trajectory": "Envelope_Mean",
           "value": 0.9539236880383197
          },
          {
           "color_by": "Envelope Mean",
           "sample_id": 0,
           "timepoint": 1,
           "trajectory": "Envelope_Mean",
           "value": 1.9872857597094922
          },
          {
           "color_by": "Envelope Mean",
           "sample_id": 0,
           "timepoint": 2,
           "trajectory": "Envelope_Mean",
           "value": 2.1770931330740786
          },
          {
           "color_by": "Envelope Mean",
           "sample_id": 0,
           "timepoint": 3,
           "trajectory": "Envelope_Mean",
           "value": 2.1951590495727817
          },
          {
           "color_by": "Envelope Mean",
           "sample_id": 0,
           "timepoint": 4,
           "trajectory": "Envelope_Mean",
           "value": 2.4542276173584376
          },
          {
           "color_by": "Envelope Mean",
           "sample_id": 0,
           "timepoint": 5,
           "trajectory": "Envelope_Mean",
           "value": 2.590977593018846
          },
          {
           "color_by": "Envelope Mean",
           "sample_id": 0,
           "timepoint": 6,
           "trajectory": "Envelope_Mean",
           "value": 2.7239697189826755
          },
          {
           "color_by": "Envelope Mean",
           "sample_id": 0,
           "timepoint": 7,
           "trajectory": "Envelope_Mean",
           "value": 2.7766307642817916
          },
          {
           "color_by": "Envelope Mean",
           "sample_id": 0,
           "timepoint": 8,
           "trajectory": "Envelope_Mean",
           "value": 2.7730514938353696
          },
          {
           "color_by": "Envelope Mean",
           "sample_id": 0,
           "timepoint": 9,
           "trajectory": "Envelope_Mean",
           "value": 2.787749030205694
          },
          {
           "color_by": "Envelope Mean",
           "sample_id": 0,
           "timepoint": 10,
           "trajectory": "Envelope_Mean",
           "value": 2.862158565544848
          },
          {
           "color_by": "Envelope Mean",
           "sample_id": 0,
           "timepoint": 11,
           "trajectory": "Envelope_Mean",
           "value": 2.961066529009755
          },
          {
           "color_by": "Envelope Mean",
           "sample_id": 0,
           "timepoint": 12,
           "trajectory": "Envelope_Mean",
           "value": 3.0247396069070493
          },
          {
           "color_by": "Envelope Mean",
           "sample_id": 0,
           "timepoint": 13,
           "trajectory": "Envelope_Mean",
           "value": 3.0032311688591355
          },
          {
           "color_by": "Envelope Mean",
           "sample_id": 0,
           "timepoint": 14,
           "trajectory": "Envelope_Mean",
           "value": 3.0015161930039667
          },
          {
           "color_by": "Envelope Mean",
           "sample_id": 0,
           "timepoint": 15,
           "trajectory": "Envelope_Mean",
           "value": 2.997557437170095
          },
          {
           "color_by": "Envelope Mean",
           "sample_id": 0,
           "timepoint": 16,
           "trajectory": "Envelope_Mean",
           "value": 2.9315847514434186
          },
          {
           "color_by": "Envelope Mean",
           "sample_id": 0,
           "timepoint": 17,
           "trajectory": "Envelope_Mean",
           "value": 2.9645456968712973
          },
          {
           "color_by": "Envelope Mean",
           "sample_id": 0,
           "timepoint": 18,
           "trajectory": "Envelope_Mean",
           "value": 2.9056613075554862
          },
          {
           "color_by": "Envelope Mean",
           "sample_id": 0,
           "timepoint": 19,
           "trajectory": "Envelope_Mean",
           "value": 2.9472492288551155
          },
          {
           "color_by": "Envelope Mean",
           "sample_id": 0,
           "timepoint": 20,
           "trajectory": "Envelope_Mean",
           "value": 3.0170368463871675
          },
          {
           "color_by": "Envelope Mean",
           "sample_id": 0,
           "timepoint": 21,
           "trajectory": "Envelope_Mean",
           "value": 3.040103862605382
          },
          {
           "color_by": "Envelope Mean",
           "sample_id": 0,
           "timepoint": 22,
           "trajectory": "Envelope_Mean",
           "value": 3.071485128092835
          },
          {
           "color_by": "Envelope Mean",
           "sample_id": 0,
           "timepoint": 23,
           "trajectory": "Envelope_Mean",
           "value": 3.014028784176709
          },
          {
           "color_by": "Envelope Mean",
           "sample_id": 0,
           "timepoint": 24,
           "trajectory": "Envelope_Mean",
           "value": 3.0832167961783608
          },
          {
           "color_by": "Envelope Mean",
           "sample_id": 0,
           "timepoint": 25,
           "trajectory": "Envelope_Mean",
           "value": 3.1836016462743975
          },
          {
           "color_by": "Envelope Mean",
           "sample_id": 0,
           "timepoint": 26,
           "trajectory": "Envelope_Mean",
           "value": 3.250009137565255
          },
          {
           "color_by": "Envelope Mean",
           "sample_id": 0,
           "timepoint": 27,
           "trajectory": "Envelope_Mean",
           "value": 3.275330506986209
          },
          {
           "color_by": "Envelope Mean",
           "sample_id": 0,
           "timepoint": 28,
           "trajectory": "Envelope_Mean",
           "value": 3.1822383287792455
          },
          {
           "color_by": "Envelope Mean",
           "sample_id": 0,
           "timepoint": 29,
           "trajectory": "Envelope_Mean",
           "value": 3.3347455259232417
          },
          {
           "color_by": "Envelope Mean",
           "sample_id": 0,
           "timepoint": 30,
           "trajectory": "Envelope_Mean",
           "value": 3.417325191573999
          },
          {
           "color_by": "Envelope Mean",
           "sample_id": 0,
           "timepoint": 31,
           "trajectory": "Envelope_Mean",
           "value": 3.508909527270524
          },
          {
           "color_by": "Envelope Mean",
           "sample_id": 0,
           "timepoint": 32,
           "trajectory": "Envelope_Mean",
           "value": 3.516701041202249
          },
          {
           "color_by": "Envelope Mean",
           "sample_id": 0,
           "timepoint": 33,
           "trajectory": "Envelope_Mean",
           "value": 3.4969714927354483
          },
          {
           "color_by": "Envelope Mean",
           "sample_id": 0,
           "timepoint": 34,
           "trajectory": "Envelope_Mean",
           "value": 3.469826431286423
          },
          {
           "color_by": "Envelope Mean",
           "sample_id": 0,
           "timepoint": 35,
           "trajectory": "Envelope_Mean",
           "value": 3.5026575828679736
          },
          {
           "color_by": "Envelope Mean",
           "sample_id": 0,
           "timepoint": 36,
           "trajectory": "Envelope_Mean",
           "value": 3.582259288826072
          },
          {
           "color_by": "Envelope Mean",
           "sample_id": 0,
           "timepoint": 37,
           "trajectory": "Envelope_Mean",
           "value": 3.6341133896852664
          },
          {
           "color_by": "Envelope Mean",
           "sample_id": 0,
           "timepoint": 38,
           "trajectory": "Envelope_Mean",
           "value": 3.6037714300533867
          },
          {
           "color_by": "Envelope Mean",
           "sample_id": 0,
           "timepoint": 39,
           "trajectory": "Envelope_Mean",
           "value": 3.5642590139745502
          },
          {
           "color_by": "Envelope Mean",
           "sample_id": 0,
           "timepoint": 40,
           "trajectory": "Envelope_Mean",
           "value": 3.5593382314223625
          },
          {
           "color_by": "Envelope Mean",
           "sample_id": 0,
           "timepoint": 41,
           "trajectory": "Envelope_Mean",
           "value": 3.468293420759237
          },
          {
           "color_by": "Envelope Mean",
           "sample_id": 0,
           "timepoint": 42,
           "trajectory": "Envelope_Mean",
           "value": 3.494540167944461
          },
          {
           "color_by": "Envelope Mean",
           "sample_id": 0,
           "timepoint": 43,
           "trajectory": "Envelope_Mean",
           "value": 3.416451082151365
          },
          {
           "color_by": "Envelope Mean",
           "sample_id": 0,
           "timepoint": 44,
           "trajectory": "Envelope_Mean",
           "value": 3.438747882695128
          },
          {
           "color_by": "Envelope Mean",
           "sample_id": 0,
           "timepoint": 45,
           "trajectory": "Envelope_Mean",
           "value": 3.4994158575578465
          },
          {
           "color_by": "Envelope Mean",
           "sample_id": 0,
           "timepoint": 46,
           "trajectory": "Envelope_Mean",
           "value": 3.5055315006071606
          },
          {
           "color_by": "Envelope Mean",
           "sample_id": 0,
           "timepoint": 47,
           "trajectory": "Envelope_Mean",
           "value": 3.5234098199480877
          },
          {
           "color_by": "Envelope Mean",
           "sample_id": 0,
           "timepoint": 48,
           "trajectory": "Envelope_Mean",
           "value": 3.456705753157147
          },
          {
           "color_by": "Envelope Mean",
           "sample_id": 0,
           "timepoint": 49,
           "trajectory": "Envelope_Mean",
           "value": 3.4976244551280713
          },
          {
           "color_by": "Envelope Mean",
           "sample_id": 0,
           "timepoint": 50,
           "trajectory": "Envelope_Mean",
           "value": 3.5999420389772214
          },
          {
           "color_by": "Envelope Mean",
           "sample_id": 0,
           "timepoint": 51,
           "trajectory": "Envelope_Mean",
           "value": 3.662562023798668
          },
          {
           "color_by": "Envelope Mean",
           "sample_id": 0,
           "timepoint": 52,
           "trajectory": "Envelope_Mean",
           "value": 3.681515201334174
          },
          {
           "color_by": "Envelope Mean",
           "sample_id": 0,
           "timepoint": 53,
           "trajectory": "Envelope_Mean",
           "value": 3.5912979500362545
          },
          {
           "color_by": "Envelope Mean",
           "sample_id": 0,
           "timepoint": 54,
           "trajectory": "Envelope_Mean",
           "value": 3.6990363985862347
          },
          {
           "color_by": "Envelope Mean",
           "sample_id": 0,
           "timepoint": 55,
           "trajectory": "Envelope_Mean",
           "value": 3.804205390872778
          },
          {
           "color_by": "Envelope Mean",
           "sample_id": 0,
           "timepoint": 56,
           "trajectory": "Envelope_Mean",
           "value": 3.895368514217002
          },
          {
           "color_by": "Envelope Mean",
           "sample_id": 0,
           "timepoint": 57,
           "trajectory": "Envelope_Mean",
           "value": 3.8933669711088124
          },
          {
           "color_by": "Envelope Mean",
           "sample_id": 0,
           "timepoint": 58,
           "trajectory": "Envelope_Mean",
           "value": 3.8793950471903345
          },
          {
           "color_by": "Envelope Mean",
           "sample_id": 0,
           "timepoint": 59,
           "trajectory": "Envelope_Mean",
           "value": 3.8364934570221783
          },
          {
           "color_by": "Envelope Mean",
           "sample_id": 0,
           "timepoint": 60,
           "trajectory": "Envelope_Mean",
           "value": 3.8470544783098783
          },
          {
           "color_by": "Envelope Mean",
           "sample_id": 0,
           "timepoint": 61,
           "trajectory": "Envelope_Mean",
           "value": 3.9203987185570908
          },
          {
           "color_by": "Envelope Mean",
           "sample_id": 0,
           "timepoint": 62,
           "trajectory": "Envelope_Mean",
           "value": 3.9780846984412674
          },
          {
           "color_by": "Envelope Mean",
           "sample_id": 0,
           "timepoint": 63,
           "trajectory": "Envelope_Mean",
           "value": 3.9547585375714123
          },
          {
           "color_by": "Envelope Mean",
           "sample_id": 0,
           "timepoint": 64,
           "trajectory": "Envelope_Mean",
           "value": 3.9030932531749354
          },
          {
           "color_by": "Envelope Mean",
           "sample_id": 0,
           "timepoint": 65,
           "trajectory": "Envelope_Mean",
           "value": 3.8984186715517577
          },
          {
           "color_by": "Envelope Mean",
           "sample_id": 0,
           "timepoint": 66,
           "trajectory": "Envelope_Mean",
           "value": 3.796872931184148
          },
          {
           "color_by": "Envelope Mean",
           "sample_id": 0,
           "timepoint": 67,
           "trajectory": "Envelope_Mean",
           "value": 3.8245794887165596
          },
          {
           "color_by": "Envelope Mean",
           "sample_id": 0,
           "timepoint": 68,
           "trajectory": "Envelope_Mean",
           "value": 3.736010620162221
          },
          {
           "color_by": "Envelope Mean",
           "sample_id": 0,
           "timepoint": 69,
           "trajectory": "Envelope_Mean",
           "value": 3.7403670478230504
          },
          {
           "color_by": "Envelope Mean",
           "sample_id": 0,
           "timepoint": 70,
           "trajectory": "Envelope_Mean",
           "value": 3.7986400345504387
          },
          {
           "color_by": "Envelope Mean",
           "sample_id": 0,
           "timepoint": 71,
           "trajectory": "Envelope_Mean",
           "value": 3.805850269021378
          },
          {
           "color_by": "Envelope Mean",
           "sample_id": 0,
           "timepoint": 72,
           "trajectory": "Envelope_Mean",
           "value": 3.8083953971503766
          },
          {
           "color_by": "Envelope Mean",
           "sample_id": 0,
           "timepoint": 73,
           "trajectory": "Envelope_Mean",
           "value": 3.7486281327963087
          },
          {
           "color_by": "Envelope Mean",
           "sample_id": 0,
           "timepoint": 74,
           "trajectory": "Envelope_Mean",
           "value": 3.7728871400436375
          },
          {
           "color_by": "Envelope Mean",
           "sample_id": 0,
           "timepoint": 75,
           "trajectory": "Envelope_Mean",
           "value": 3.8767296733872163
          },
          {
           "color_by": "Envelope Mean",
           "sample_id": 0,
           "timepoint": 76,
           "trajectory": "Envelope_Mean",
           "value": 3.940289998516862
          },
          {
           "color_by": "Envelope Mean",
           "sample_id": 0,
           "timepoint": 77,
           "trajectory": "Envelope_Mean",
           "value": 3.958774406559011
          },
          {
           "color_by": "Envelope Mean",
           "sample_id": 0,
           "timepoint": 78,
           "trajectory": "Envelope_Mean",
           "value": 3.8898421266625203
          },
          {
           "color_by": "Envelope Mean",
           "sample_id": 0,
           "timepoint": 79,
           "trajectory": "Envelope_Mean",
           "value": 3.943592044549955
          },
          {
           "color_by": "Envelope Mean",
           "sample_id": 0,
           "timepoint": 80,
           "trajectory": "Envelope_Mean",
           "value": 4.078963355618475
          },
          {
           "color_by": "Envelope Mean",
           "sample_id": 0,
           "timepoint": 81,
           "trajectory": "Envelope_Mean",
           "value": 4.173119070246585
          },
          {
           "color_by": "Envelope Mean",
           "sample_id": 0,
           "timepoint": 82,
           "trajectory": "Envelope_Mean",
           "value": 4.1640276253084085
          },
          {
           "color_by": "Envelope Mean",
           "sample_id": 0,
           "timepoint": 83,
           "trajectory": "Envelope_Mean",
           "value": 4.160295915174144
          },
          {
           "color_by": "Envelope Mean",
           "sample_id": 0,
           "timepoint": 84,
           "trajectory": "Envelope_Mean",
           "value": 4.1017702880871
          },
          {
           "color_by": "Envelope Mean",
           "sample_id": 0,
           "timepoint": 85,
           "trajectory": "Envelope_Mean",
           "value": 4.09014793683301
          },
          {
           "color_by": "Envelope Mean",
           "sample_id": 0,
           "timepoint": 86,
           "trajectory": "Envelope_Mean",
           "value": 4.163763957689413
          },
          {
           "color_by": "Envelope Mean",
           "sample_id": 0,
           "timepoint": 87,
           "trajectory": "Envelope_Mean",
           "value": 4.216490796865033
          },
          {
           "color_by": "Envelope Mean",
           "sample_id": 0,
           "timepoint": 88,
           "trajectory": "Envelope_Mean",
           "value": 4.21657792043652
          },
          {
           "color_by": "Envelope Mean",
           "sample_id": 0,
           "timepoint": 89,
           "trajectory": "Envelope_Mean",
           "value": 4.157167270621853
          },
          {
           "color_by": "Envelope Mean",
           "sample_id": 0,
           "timepoint": 90,
           "trajectory": "Envelope_Mean",
           "value": 4.150952668983157
          },
          {
           "color_by": "Envelope Mean",
           "sample_id": 0,
           "timepoint": 91,
           "trajectory": "Envelope_Mean",
           "value": 4.049826675157096
          },
          {
           "color_by": "Envelope Mean",
           "sample_id": 0,
           "timepoint": 92,
           "trajectory": "Envelope_Mean",
           "value": 4.066122168262774
          },
          {
           "color_by": "Envelope Mean",
           "sample_id": 0,
           "timepoint": 93,
           "trajectory": "Envelope_Mean",
           "value": 3.984377067082102
          },
          {
           "color_by": "Envelope Mean",
           "sample_id": 0,
           "timepoint": 94,
           "trajectory": "Envelope_Mean",
           "value": 3.965469121510115
          },
          {
           "color_by": "Envelope Mean",
           "sample_id": 0,
           "timepoint": 95,
           "trajectory": "Envelope_Mean",
           "value": 4.01325453934898
          },
          {
           "color_by": "Envelope Mean",
           "sample_id": 0,
           "timepoint": 96,
           "trajectory": "Envelope_Mean",
           "value": 4.035054910818738
          },
          {
           "color_by": "Envelope Mean",
           "sample_id": 0,
           "timepoint": 97,
           "trajectory": "Envelope_Mean",
           "value": 4.030692936618105
          },
          {
           "color_by": "Envelope Mean",
           "sample_id": 0,
           "timepoint": 98,
           "trajectory": "Envelope_Mean",
           "value": 3.9848864883000346
          },
          {
           "color_by": "Envelope Mean",
           "sample_id": 0,
           "timepoint": 99,
           "trajectory": "Envelope_Mean",
           "value": 4.002149542815021
          },
          {
           "color_by": "Chaos",
           "sample_id": 0,
           "timepoint": 0,
           "trajectory": "Chaos",
           "value": 0.7851696455555427
          },
          {
           "color_by": "Chaos",
           "sample_id": 0,
           "timepoint": 1,
           "trajectory": "Chaos",
           "value": 1.5483703920719742
          },
          {
           "color_by": "Chaos",
           "sample_id": 0,
           "timepoint": 2,
           "trajectory": "Chaos",
           "value": 1.5274646474258413
          },
          {
           "color_by": "Chaos",
           "sample_id": 0,
           "timepoint": 3,
           "trajectory": "Chaos",
           "value": 1.4839688795093415
          },
          {
           "color_by": "Chaos",
           "sample_id": 0,
           "timepoint": 4,
           "trajectory": "Chaos",
           "value": 1.4620882822716572
          },
          {
           "color_by": "Chaos",
           "sample_id": 0,
           "timepoint": 5,
           "trajectory": "Chaos",
           "value": 1.481008145080559
          },
          {
           "color_by": "Chaos",
           "sample_id": 0,
           "timepoint": 6,
           "trajectory": "Chaos",
           "value": 1.5502016280158042
          },
          {
           "color_by": "Chaos",
           "sample_id": 0,
           "timepoint": 7,
           "trajectory": "Chaos",
           "value": 1.672858052422927
          },
          {
           "color_by": "Chaos",
           "sample_id": 0,
           "timepoint": 8,
           "trajectory": "Chaos",
           "value": 1.847142613907581
          },
          {
           "color_by": "Chaos",
           "sample_id": 0,
           "timepoint": 9,
           "trajectory": "Chaos",
           "value": 2.0669696437957983
          },
          {
           "color_by": "Chaos",
           "sample_id": 0,
           "timepoint": 10,
           "trajectory": "Chaos",
           "value": 2.3227250768339625
          },
          {
           "color_by": "Chaos",
           "sample_id": 0,
           "timepoint": 11,
           "trajectory": "Chaos",
           "value": 2.602063198444367
          },
          {
           "color_by": "Chaos",
           "sample_id": 0,
           "timepoint": 12,
           "trajectory": "Chaos",
           "value": 2.8907985226451625
          },
          {
           "color_by": "Chaos",
           "sample_id": 0,
           "timepoint": 13,
           "trajectory": "Chaos",
           "value": 3.1738701830884883
          },
          {
           "color_by": "Chaos",
           "sample_id": 0,
           "timepoint": 14,
           "trajectory": "Chaos",
           "value": 3.4363356565514325
          },
          {
           "color_by": "Chaos",
           "sample_id": 0,
           "timepoint": 15,
           "trajectory": "Chaos",
           "value": 3.664341253988282
          },
          {
           "color_by": "Chaos",
           "sample_id": 0,
           "timepoint": 16,
           "trajectory": "Chaos",
           "value": 3.846014412718522
          },
          {
           "color_by": "Chaos",
           "sample_id": 0,
           "timepoint": 17,
           "trajectory": "Chaos",
           "value": 3.972225601250711
          },
          {
           "color_by": "Chaos",
           "sample_id": 0,
           "timepoint": 18,
           "trajectory": "Chaos",
           "value": 4.037174564512409
          },
          {
           "color_by": "Chaos",
           "sample_id": 0,
           "timepoint": 19,
           "trajectory": "Chaos",
           "value": 4.038765847587525
          },
          {
           "color_by": "Chaos",
           "sample_id": 0,
           "timepoint": 20,
           "trajectory": "Chaos",
           "value": 3.978751196003165
          },
          {
           "color_by": "Chaos",
           "sample_id": 0,
           "timepoint": 21,
           "trajectory": "Chaos",
           "value": 3.862630641472647
          },
          {
           "color_by": "Chaos",
           "sample_id": 0,
           "timepoint": 22,
           "trajectory": "Chaos",
           "value": 3.699318898219575
          },
          {
           "color_by": "Chaos",
           "sample_id": 0,
           "timepoint": 23,
           "trajectory": "Chaos",
           "value": 3.5005981595715174
          },
          {
           "color_by": "Chaos",
           "sample_id": 0,
           "timepoint": 24,
           "trajectory": "Chaos",
           "value": 3.2803915766995253
          },
          {
           "color_by": "Chaos",
           "sample_id": 0,
           "timepoint": 25,
           "trajectory": "Chaos",
           "value": 3.053902787805413
          },
          {
           "color_by": "Chaos",
           "sample_id": 0,
           "timepoint": 26,
           "trajectory": "Chaos",
           "value": 2.8366751491042352
          },
          {
           "color_by": "Chaos",
           "sample_id": 0,
           "timepoint": 27,
           "trajectory": "Chaos",
           "value": 2.6436292782292825
          },
          {
           "color_by": "Chaos",
           "sample_id": 0,
           "timepoint": 28,
           "trajectory": "Chaos",
           "value": 2.4881388442925947
          },
          {
           "color_by": "Chaos",
           "sample_id": 0,
           "timepoint": 29,
           "trajectory": "Chaos",
           "value": 2.381202142063957
          },
          {
           "color_by": "Chaos",
           "sample_id": 0,
           "timepoint": 30,
           "trajectory": "Chaos",
           "value": 2.330761017950821
          },
          {
           "color_by": "Chaos",
           "sample_id": 0,
           "timepoint": 31,
           "trajectory": "Chaos",
           "value": 2.3412095426865065
          },
          {
           "color_by": "Chaos",
           "sample_id": 0,
           "timepoint": 32,
           "trajectory": "Chaos",
           "value": 2.4131230193624718
          },
          {
           "color_by": "Chaos",
           "sample_id": 0,
           "timepoint": 33,
           "trajectory": "Chaos",
           "value": 2.5432242091385375
          },
          {
           "color_by": "Chaos",
           "sample_id": 0,
           "timepoint": 34,
           "trajectory": "Chaos",
           "value": 2.724588902393333
          },
          {
           "color_by": "Chaos",
           "sample_id": 0,
           "timepoint": 35,
           "trajectory": "Chaos",
           "value": 2.94707807728582
          },
          {
           "color_by": "Chaos",
           "sample_id": 0,
           "timepoint": 36,
           "trajectory": "Chaos",
           "value": 3.1979697959765048
          },
          {
           "color_by": "Chaos",
           "sample_id": 0,
           "timepoint": 37,
           "trajectory": "Chaos",
           "value": 3.4627515670798643
          },
          {
           "color_by": "Chaos",
           "sample_id": 0,
           "timepoint": 38,
           "trajectory": "Chaos",
           "value": 3.7260239234708674
          },
          {
           "color_by": "Chaos",
           "sample_id": 0,
           "timepoint": 39,
           "trajectory": "Chaos",
           "value": 3.9724590477172175
          },
          {
           "color_by": "Chaos",
           "sample_id": 0,
           "timepoint": 40,
           "trajectory": "Chaos",
           "value": 4.187754853129892
          },
          {
           "color_by": "Chaos",
           "sample_id": 0,
           "timepoint": 41,
           "trajectory": "Chaos",
           "value": 4.359525209559448
          },
          {
           "color_by": "Chaos",
           "sample_id": 0,
           "timepoint": 42,
           "trajectory": "Chaos",
           "value": 4.478070972084413
          },
          {
           "color_by": "Chaos",
           "sample_id": 0,
           "timepoint": 43,
           "trajectory": "Chaos",
           "value": 4.536983880827052
          },
          {
           "color_by": "Chaos",
           "sample_id": 0,
           "timepoint": 44,
           "trajectory": "Chaos",
           "value": 4.533545790535448
          },
          {
           "color_by": "Chaos",
           "sample_id": 0,
           "timepoint": 45,
           "trajectory": "Chaos",
           "value": 4.468898413238856
          },
          {
           "color_by": "Chaos",
           "sample_id": 0,
           "timepoint": 46,
           "trajectory": "Chaos",
           "value": 4.34797302503674
          },
          {
           "color_by": "Chaos",
           "sample_id": 0,
           "timepoint": 47,
           "trajectory": "Chaos",
           "value": 4.179184511804096
          },
          {
           "color_by": "Chaos",
           "sample_id": 0,
           "timepoint": 48,
           "trajectory": "Chaos",
           "value": 3.9739087803882907
          },
          {
           "color_by": "Chaos",
           "sample_id": 0,
           "timepoint": 49,
           "trajectory": "Chaos",
           "value": 3.7457760307467414
          },
          {
           "color_by": "Chaos",
           "sample_id": 0,
           "timepoint": 50,
           "trajectory": "Chaos",
           "value": 3.509823832991719
          },
          {
           "color_by": "Chaos",
           "sample_id": 0,
           "timepoint": 51,
           "trajectory": "Chaos",
           "value": 3.281562669647289
          },
          {
           "color_by": "Chaos",
           "sample_id": 0,
           "timepoint": 52,
           "trajectory": "Chaos",
           "value": 3.076012045637733
          },
          {
           "color_by": "Chaos",
           "sample_id": 0,
           "timepoint": 53,
           "trajectory": "Chaos",
           "value": 2.9067670982407474
          },
          {
           "color_by": "Chaos",
           "sample_id": 0,
           "timepoint": 54,
           "trajectory": "Chaos",
           "value": 2.7851537426850506
          },
          {
           "color_by": "Chaos",
           "sample_id": 0,
           "timepoint": 55,
           "trajectory": "Chaos",
           "value": 2.7195248841654003
          },
          {
           "color_by": "Chaos",
           "sample_id": 0,
           "timepoint": 56,
           "trajectory": "Chaos",
           "value": 2.714741456053592
          },
          {
           "color_by": "Chaos",
           "sample_id": 0,
           "timepoint": 57,
           "trajectory": "Chaos",
           "value": 2.7718705523370217
          },
          {
           "color_by": "Chaos",
           "sample_id": 0,
           "timepoint": 58,
           "trajectory": "Chaos",
           "value": 2.888119424315599
          },
          {
           "color_by": "Chaos",
           "sample_id": 0,
           "timepoint": 59,
           "trajectory": "Chaos",
           "value": 3.0570094465715396
          },
          {
           "color_by": "Chaos",
           "sample_id": 0,
           "timepoint": 60,
           "trajectory": "Chaos",
           "value": 3.2687792369927435
          },
          {
           "color_by": "Chaos",
           "sample_id": 0,
           "timepoint": 61,
           "trajectory": "Chaos",
           "value": 3.5109918678455427
          },
          {
           "color_by": "Chaos",
           "sample_id": 0,
           "timepoint": 62,
           "trajectory": "Chaos",
           "value": 3.7693084154134255
          },
          {
           "color_by": "Chaos",
           "sample_id": 0,
           "timepoint": 63,
           "trajectory": "Chaos",
           "value": 4.028379753514287
          },
          {
           "color_by": "Chaos",
           "sample_id": 0,
           "timepoint": 64,
           "trajectory": "Chaos",
           "value": 4.272801144306911
          },
          {
           "color_by": "Chaos",
           "sample_id": 0,
           "timepoint": 65,
           "trajectory": "Chaos",
           "value": 4.488070275302599
          },
          {
           "color_by": "Chaos",
           "sample_id": 0,
           "timepoint": 66,
           "trajectory": "Chaos",
           "value": 4.66148917717195
          },
          {
           "color_by": "Chaos",
           "sample_id": 0,
           "timepoint": 67,
           "trajectory": "Chaos",
           "value": 4.782953946104896
          },
          {
           "color_by": "Chaos",
           "sample_id": 0,
           "timepoint": 68,
           "trajectory": "Chaos",
           "value": 4.845583170204007
          },
          {
           "color_by": "Chaos",
           "sample_id": 0,
           "timepoint": 69,
           "trajectory": "Chaos",
           "value": 4.846145987949807
          },
          {
           "color_by": "Chaos",
           "sample_id": 0,
           "timepoint": 70,
           "trajectory": "Chaos",
           "value": 4.785263164644596
          },
          {
           "color_by": "Chaos",
           "sample_id": 0,
           "timepoint": 71,
           "trajectory": "Chaos",
           "value": 4.667368685347925
          },
          {
           "color_by": "Chaos",
           "sample_id": 0,
           "timepoint": 72,
           "trajectory": "Chaos",
           "value": 4.500434252708483
          },
          {
           "color_by": "Chaos",
           "sample_id": 0,
           "timepoint": 73,
           "trajectory": "Chaos",
           "value": 4.295473819492071
          },
          {
           "color_by": "Chaos",
           "sample_id": 0,
           "timepoint": 74,
           "trajectory": "Chaos",
           "value": 4.065858961954794
          },
          {
           "color_by": "Chaos",
           "sample_id": 0,
           "timepoint": 75,
           "trajectory": "Chaos",
           "value": 3.82648766118516
          },
          {
           "color_by": "Chaos",
           "sample_id": 0,
           "timepoint": 76,
           "trajectory": "Chaos",
           "value": 3.5928581738978083
          },
          {
           "color_by": "Chaos",
           "sample_id": 0,
           "timepoint": 77,
           "trajectory": "Chaos",
           "value": 3.3801055752181766
          },
          {
           "color_by": "Chaos",
           "sample_id": 0,
           "timepoint": 78,
           "trajectory": "Chaos",
           "value": 3.202060876852298
          },
          {
           "color_by": "Chaos",
           "sample_id": 0,
           "timepoint": 79,
           "trajectory": "Chaos",
           "value": 3.0703912203894426
          },
          {
           "color_by": "Chaos",
           "sample_id": 0,
           "timepoint": 80,
           "trajectory": "Chaos",
           "value": 2.9938746046092075
          },
          {
           "color_by": "Chaos",
           "sample_id": 0,
           "timepoint": 81,
           "trajectory": "Chaos",
           "value": 2.9778542409761646
          },
          {
           "color_by": "Chaos",
           "sample_id": 0,
           "timepoint": 82,
           "trajectory": "Chaos",
           "value": 3.023906463079906
          },
          {
           "color_by": "Chaos",
           "sample_id": 0,
           "timepoint": 83,
           "trajectory": "Chaos",
           "value": 3.129742838014843
          },
          {
           "color_by": "Chaos",
           "sample_id": 0,
           "timepoint": 84,
           "trajectory": "Chaos",
           "value": 3.289352566139286
          },
          {
           "color_by": "Chaos",
           "sample_id": 0,
           "timepoint": 85,
           "trajectory": "Chaos",
           "value": 3.4933763156741025
          },
          {
           "color_by": "Chaos",
           "sample_id": 0,
           "timepoint": 86,
           "trajectory": "Chaos",
           "value": 3.729688249093017
          },
          {
           "color_by": "Chaos",
           "sample_id": 0,
           "timepoint": 87,
           "trajectory": "Chaos",
           "value": 3.984150053889305
          },
          {
           "color_by": "Chaos",
           "sample_id": 0,
           "timepoint": 88,
           "trajectory": "Chaos",
           "value": 4.241490095895212
          },
          {
           "color_by": "Chaos",
           "sample_id": 0,
           "timepoint": 89,
           "trajectory": "Chaos",
           "value": 4.486253033807357
          },
          {
           "color_by": "Chaos",
           "sample_id": 0,
           "timepoint": 90,
           "trajectory": "Chaos",
           "value": 4.703760852626707
          },
          {
           "color_by": "Chaos",
           "sample_id": 0,
           "timepoint": 91,
           "trajectory": "Chaos",
           "value": 4.881025563741268
          },
          {
           "color_by": "Chaos",
           "sample_id": 0,
           "timepoint": 92,
           "trajectory": "Chaos",
           "value": 5.007556824506583
          },
          {
           "color_by": "Chaos",
           "sample_id": 0,
           "timepoint": 93,
           "trajectory": "Chaos",
           "value": 5.076014263569098
          },
          {
           "color_by": "Chaos",
           "sample_id": 0,
           "timepoint": 94,
           "trajectory": "Chaos",
           "value": 5.0826639536160005
          },
          {
           "color_by": "Chaos",
           "sample_id": 0,
           "timepoint": 95,
           "trajectory": "Chaos",
           "value": 5.027610650393687
          },
          {
           "color_by": "Chaos",
           "sample_id": 0,
           "timepoint": 96,
           "trajectory": "Chaos",
           "value": 4.914791358598881
          },
          {
           "color_by": "Chaos",
           "sample_id": 0,
           "timepoint": 97,
           "trajectory": "Chaos",
           "value": 4.751730624780371
          },
          {
           "color_by": "Chaos",
           "sample_id": 0,
           "timepoint": 98,
           "trajectory": "Chaos",
           "value": 4.549072772044875
          },
          {
           "color_by": "Chaos",
           "sample_id": 0,
           "timepoint": 99,
           "trajectory": "Chaos",
           "value": 4.319920160034303
          },
          {
           "color_by": "Mean",
           "sample_id": 0,
           "timepoint": 0,
           "trajectory": "Mean",
           "value": 0.034194253264278274
          },
          {
           "color_by": "Mean",
           "sample_id": 0,
           "timepoint": 1,
           "trajectory": "Mean",
           "value": 1.1996119093478508
          },
          {
           "color_by": "Mean",
           "sample_id": 0,
           "timepoint": 2,
           "trajectory": "Mean",
           "value": 1.5952549160902105
          },
          {
           "color_by": "Mean",
           "sample_id": 0,
           "timepoint": 3,
           "trajectory": "Mean",
           "value": 1.9567407575433091
          },
          {
           "color_by": "Mean",
           "sample_id": 0,
           "timepoint": 4,
           "trajectory": "Mean",
           "value": 2.3030948326822767
          },
          {
           "color_by": "Mean",
           "sample_id": 0,
           "timepoint": 5,
           "trajectory": "Mean",
           "value": 2.6306073824621548
          },
          {
           "color_by": "Mean",
           "sample_id": 0,
           "timepoint": 6,
           "trajectory": "Mean",
           "value": 2.929564768331235
          },
          {
           "color_by": "Mean",
           "sample_id": 0,
           "timepoint": 7,
           "trajectory": "Mean",
           "value": 3.188870704994005
          },
          {
           "color_by": "Mean",
           "sample_id": 0,
           "timepoint": 8,
           "trajectory": "Mean",
           "value": 3.39819418323522
          },
          {
           "color_by": "Mean",
           "sample_id": 0,
           "timepoint": 9,
           "trajectory": "Mean",
           "value": 3.549270984245223
          },
          {
           "color_by": "Mean",
           "sample_id": 0,
           "timepoint": 10,
           "trajectory": "Mean",
           "value": 3.636761599015724
          },
          {
           "color_by": "Mean",
           "sample_id": 0,
           "timepoint": 11,
           "trajectory": "Mean",
           "value": 3.6587822043914953
          },
          {
           "color_by": "Mean",
           "sample_id": 0,
           "timepoint": 12,
           "trajectory": "Mean",
           "value": 3.617146071253022
          },
          {
           "color_by": "Mean",
           "sample_id": 0,
           "timepoint": 13,
           "trajectory": "Mean",
           "value": 3.5173332303416487
          },
          {
           "color_by": "Mean",
           "sample_id": 0,
           "timepoint": 14,
           "trajectory": "Mean",
           "value": 3.3682070622577536
          },
          {
           "color_by": "Mean",
           "sample_id": 0,
           "timepoint": 15,
           "trajectory": "Mean",
           "value": 3.1815046527152866
          },
          {
           "color_by": "Mean",
           "sample_id": 0,
           "timepoint": 16,
           "trajectory": "Mean",
           "value": 2.971137974302117
          },
          {
           "color_by": "Mean",
           "sample_id": 0,
           "timepoint": 17,
           "trajectory": "Mean",
           "value": 2.752352633786286
          },
          {
           "color_by": "Mean",
           "sample_id": 0,
           "timepoint": 18,
           "trajectory": "Mean",
           "value": 2.540798589308027
          },
          {
           "color_by": "Mean",
           "sample_id": 0,
           "timepoint": 19,
           "trajectory": "Mean",
           "value": 2.351572003751966
          },
          {
           "color_by": "Mean",
           "sample_id": 0,
           "timepoint": 20,
           "trajectory": "Mean",
           "value": 2.198288753505366
          },
          {
           "color_by": "Mean",
           "sample_id": 0,
           "timepoint": 21,
           "trajectory": "Mean",
           "value": 2.092247860007247
          },
          {
           "color_by": "Mean",
           "sample_id": 0,
           "timepoint": 22,
           "trajectory": "Mean",
           "value": 2.0417373329782658
          },
          {
           "color_by": "Mean",
           "sample_id": 0,
           "timepoint": 23,
           "trajectory": "Mean",
           "value": 2.051525932464986
          },
          {
           "color_by": "Mean",
           "sample_id": 0,
           "timepoint": 24,
           "trajectory": "Mean",
           "value": 2.1225727088918074
          },
          {
           "color_by": "Mean",
           "sample_id": 0,
           "timepoint": 25,
           "trajectory": "Mean",
           "value": 2.2519725772420642
          },
          {
           "color_by": "Mean",
           "sample_id": 0,
           "timepoint": 26,
           "trajectory": "Mean",
           "value": 2.433141460742056
          },
          {
           "color_by": "Mean",
           "sample_id": 0,
           "timepoint": 27,
           "trajectory": "Mean",
           "value": 2.656229610876802
          },
          {
           "color_by": "Mean",
           "sample_id": 0,
           "timepoint": 28,
           "trajectory": "Mean",
           "value": 2.908737498844335
          },
          {
           "color_by": "Mean",
           "sample_id": 0,
           "timepoint": 29,
           "trajectory": "Mean",
           "value": 3.1762960598661953
          },
          {
           "color_by": "Mean",
           "sample_id": 0,
           "timepoint": 30,
           "trajectory": "Mean",
           "value": 3.4435628387192487
          },
          {
           "color_by": "Mean",
           "sample_id": 0,
           "timepoint": 31,
           "trajectory": "Mean",
           "value": 3.6951783675235976
          },
          {
           "color_by": "Mean",
           "sample_id": 0,
           "timepoint": 32,
           "trajectory": "Mean",
           "value": 3.916723353131114
          },
          {
           "color_by": "Mean",
           "sample_id": 0,
           "timepoint": 33,
           "trajectory": "Mean",
           "value": 4.09561719420469
          },
          {
           "color_by": "Mean",
           "sample_id": 0,
           "timepoint": 34,
           "trajectory": "Mean",
           "value": 4.221901990388642
          },
          {
           "color_by": "Mean",
           "sample_id": 0,
           "timepoint": 35,
           "trajectory": "Mean",
           "value": 4.288863321066651
          },
          {
           "color_by": "Mean",
           "sample_id": 0,
           "timepoint": 36,
           "trajectory": "Mean",
           "value": 4.293449216465607
          },
          {
           "color_by": "Mean",
           "sample_id": 0,
           "timepoint": 37,
           "trajectory": "Mean",
           "value": 4.236461288329398
          },
          {
           "color_by": "Mean",
           "sample_id": 0,
           "timepoint": 38,
           "trajectory": "Mean",
           "value": 4.1225061509655
          },
          {
           "color_by": "Mean",
           "sample_id": 0,
           "timepoint": 39,
           "trajectory": "Mean",
           "value": 3.959710165431619
          },
          {
           "color_by": "Mean",
           "sample_id": 0,
           "timepoint": 40,
           "trajectory": "Mean",
           "value": 3.7592152533661993
          },
          {
           "color_by": "Mean",
           "sample_id": 0,
           "timepoint": 41,
           "trajectory": "Mean",
           "value": 3.534487137582972
          },
          {
           "color_by": "Mean",
           "sample_id": 0,
           "timepoint": 42,
           "trajectory": "Mean",
           "value": 3.3004790277535143
          },
          {
           "color_by": "Mean",
           "sample_id": 0,
           "timepoint": 43,
           "trajectory": "Mean",
           "value": 3.072702756216162
          },
          {
           "color_by": "Mean",
           "sample_id": 0,
           "timepoint": 44,
           "trajectory": "Mean",
           "value": 2.8662651223923206
          },
          {
           "color_by": "Mean",
           "sample_id": 0,
           "timepoint": 45,
           "trajectory": "Mean",
           "value": 2.694929366715774
          },
          {
           "color_by": "Mean",
           "sample_id": 0,
           "timepoint": 46,
           "trajectory": "Mean",
           "value": 2.570260131916888
          },
          {
           "color_by": "Mean",
           "sample_id": 0,
           "timepoint": 47,
           "trajectory": "Mean",
           "value": 2.5009050781190183
          },
          {
           "color_by": "Mean",
           "sample_id": 0,
           "timepoint": 48,
           "trajectory": "Mean",
           "value": 2.492057821260012
          },
          {
           "color_by": "Mean",
           "sample_id": 0,
           "timepoint": 49,
           "trajectory": "Mean",
           "value": 2.5451355901352013
          },
          {
           "color_by": "Mean",
           "sample_id": 0,
           "timepoint": 50,
           "trajectory": "Mean",
           "value": 2.657691646836497
          },
          {
           "color_by": "Mean",
           "sample_id": 0,
           "timepoint": 51,
           "trajectory": "Mean",
           "value": 2.8235679185981715
          },
          {
           "color_by": "Mean",
           "sample_id": 0,
           "timepoint": 52,
           "trajectory": "Mean",
           "value": 3.0332783536032526
          },
          {
           "color_by": "Mean",
           "sample_id": 0,
           "timepoint": 53,
           "trajectory": "Mean",
           "value": 3.2745991677641593
          },
          {
           "color_by": "Mean",
           "sample_id": 0,
           "timepoint": 54,
           "trajectory": "Mean",
           "value": 3.5333292857988923
          },
          {
           "color_by": "Mean",
           "sample_id": 0,
           "timepoint": 55,
           "trajectory": "Mean",
           "value": 3.7941736978780325
          },
          {
           "color_by": "Mean",
           "sample_id": 0,
           "timepoint": 56,
           "trajectory": "Mean",
           "value": 4.041694810655132
          },
          {
           "color_by": "Mean",
           "sample_id": 0,
           "timepoint": 57,
           "trajectory": "Mean",
           "value": 4.261272643782299
          },
          {
           "color_by": "Mean",
           "sample_id": 0,
           "timepoint": 58,
           "trajectory": "Mean",
           "value": 4.440014172910173
          },
          {
           "color_by": "Mean",
           "sample_id": 0,
           "timepoint": 59,
           "trajectory": "Mean",
           "value": 4.567555281877688
          },
          {
           "color_by": "Mean",
           "sample_id": 0,
           "timepoint": 60,
           "trajectory": "Mean",
           "value": 4.636705463730813
          },
          {
           "color_by": "Mean",
           "sample_id": 0,
           "timepoint": 61,
           "trajectory": "Mean",
           "value": 4.643895187229797
          },
          {
           "color_by": "Mean",
           "sample_id": 0,
           "timepoint": 62,
           "trajectory": "Mean",
           "value": 4.5893981147224325
          },
          {
           "color_by": "Mean",
           "sample_id": 0,
           "timepoint": 63,
           "trajectory": "Mean",
           "value": 4.477314355834748
          },
          {
           "color_by": "Mean",
           "sample_id": 0,
           "timepoint": 64,
           "trajectory": "Mean",
           "value": 4.315315798995776
          },
          {
           "color_by": "Mean",
           "sample_id": 0,
           "timepoint": 65,
           "trajectory": "Mean",
           "value": 4.114169355597524
          },
          {
           "color_by": "Mean",
           "sample_id": 0,
           "timepoint": 66,
           "trajectory": "Mean",
           "value": 3.887067759850348
          },
          {
           "color_by": "Mean",
           "sample_id": 0,
           "timepoint": 67,
           "trajectory": "Mean",
           "value": 3.648809532596469
          },
          {
           "color_by": "Mean",
           "sample_id": 0,
           "timepoint": 68,
           "trajectory": "Mean",
           "value": 3.4148790955513384
          },
          {
           "color_by": "Mean",
           "sample_id": 0,
           "timepoint": 69,
           "trajectory": "Mean",
           "value": 3.2004842305620516
          },
          {
           "color_by": "Mean",
           "sample_id": 0,
           "timepoint": 70,
           "trajectory": "Mean",
           "value": 3.019610730512759
          },
          {
           "color_by": "Mean",
           "sample_id": 0,
           "timepoint": 71,
           "trajectory": "Mean",
           "value": 2.8841530195775595
          },
          {
           "color_by": "Mean",
           "sample_id": 0,
           "timepoint": 72,
           "trajectory": "Mean",
           "value": 2.8031747970822973
          },
          {
           "color_by": "Mean",
           "sample_id": 0,
           "timepoint": 73,
           "trajectory": "Mean",
           "value": 2.782345674968146
          },
          {
           "color_by": "Mean",
           "sample_id": 0,
           "timepoint": 74,
           "trajectory": "Mean",
           "value": 2.823588836392384
          },
          {
           "color_by": "Mean",
           "sample_id": 0,
           "timepoint": 75,
           "trajectory": "Mean",
           "value": 2.9249616227039885
          },
          {
           "color_by": "Mean",
           "sample_id": 0,
           "timepoint": 76,
           "trajectory": "Mean",
           "value": 3.0807764736500527
          },
          {
           "color_by": "Mean",
           "sample_id": 0,
           "timepoint": 77,
           "trajectory": "Mean",
           "value": 3.281954701647658
          },
          {
           "color_by": "Mean",
           "sample_id": 0,
           "timepoint": 78,
           "trajectory": "Mean",
           "value": 3.516591104441427
          },
          {
           "color_by": "Mean",
           "sample_id": 0,
           "timepoint": 79,
           "trajectory": "Mean",
           "value": 3.7706943115389544
          },
          {
           "color_by": "Mean",
           "sample_id": 0,
           "timepoint": 80,
           "trajectory": "Mean",
           "value": 4.029056833524152
          },
          {
           "color_by": "Mean",
           "sample_id": 0,
           "timepoint": 81,
           "trajectory": "Mean",
           "value": 4.276200719036082
          },
          {
           "color_by": "Mean",
           "sample_id": 0,
           "timepoint": 82,
           "trajectory": "Mean",
           "value": 4.49734002326783
          },
          {
           "color_by": "Mean",
           "sample_id": 0,
           "timepoint": 83,
           "trajectory": "Mean",
           "value": 4.679300246567588
          },
          {
           "color_by": "Mean",
           "sample_id": 0,
           "timepoint": 84,
           "trajectory": "Mean",
           "value": 4.81133757710221
          },
          {
           "color_by": "Mean",
           "sample_id": 0,
           "timepoint": 85,
           "trajectory": "Mean",
           "value": 4.8858070012299635
          },
          {
           "color_by": "Mean",
           "sample_id": 0,
           "timepoint": 86,
           "trajectory": "Mean",
           "value": 4.898637741892202
          },
          {
           "color_by": "Mean",
           "sample_id": 0,
           "timepoint": 87,
           "trajectory": "Mean",
           "value": 4.849586464734247
          },
          {
           "color_by": "Mean",
           "sample_id": 0,
           "timepoint": 88,
           "trajectory": "Mean",
           "value": 4.742252508982535
          },
          {
           "color_by": "Mean",
           "sample_id": 0,
           "timepoint": 89,
           "trajectory": "Mean",
           "value": 4.583854196244451
          },
          {
           "color_by": "Mean",
           "sample_id": 0,
           "timepoint": 90,
           "trajectory": "Mean",
           "value": 4.384780125406606
          },
          {
           "color_by": "Mean",
           "sample_id": 0,
           "timepoint": 91,
           "trajectory": "Mean",
           "value": 4.157943352074299
          },
          {
           "color_by": "Mean",
           "sample_id": 0,
           "timepoint": 92,
           "trajectory": "Mean",
           "value": 3.9179786066722464
          },
          {
           "color_by": "Mean",
           "sample_id": 0,
           "timepoint": 93,
           "trajectory": "Mean",
           "value": 3.6803324644158213
          },
          {
           "color_by": "Mean",
           "sample_id": 0,
           "timepoint": 94,
           "trajectory": "Mean",
           "value": 3.460303036090022
          },
          {
           "color_by": "Mean",
           "sample_id": 0,
           "timepoint": 95,
           "trajectory": "Mean",
           "value": 3.272088887119189
          },
          {
           "color_by": "Mean",
           "sample_id": 0,
           "timepoint": 96,
           "trajectory": "Mean",
           "value": 3.127906318634616
          },
          {
           "color_by": "Mean",
           "sample_id": 0,
           "timepoint": 97,
           "trajectory": "Mean",
           "value": 3.0372298938240982
          },
          {
           "color_by": "Mean",
           "sample_id": 0,
           "timepoint": 98,
           "trajectory": "Mean",
           "value": 3.0062034300479406
          },
          {
           "color_by": "Mean",
           "sample_id": 0,
           "timepoint": 99,
           "trajectory": "Mean",
           "value": 3.0372580784656833
          },
          {
           "color_by": "Random",
           "sample_id": 0,
           "timepoint": 0,
           "trajectory": "Random",
           "value": 1.632862807301696
          },
          {
           "color_by": "Random",
           "sample_id": 0,
           "timepoint": 1,
           "trajectory": "Random",
           "value": 2.7884899118036253
          },
          {
           "color_by": "Random",
           "sample_id": 0,
           "timepoint": 2,
           "trajectory": "Random",
           "value": 3.080286486583845
          },
          {
           "color_by": "Random",
           "sample_id": 0,
           "timepoint": 3,
           "trajectory": "Random",
           "value": 3.2503266838616933
          },
          {
           "color_by": "Random",
           "sample_id": 0,
           "timepoint": 4,
           "trajectory": "Random",
           "value": 3.3295390655152084
          },
          {
           "color_by": "Random",
           "sample_id": 0,
           "timepoint": 5,
           "trajectory": "Random",
           "value": 3.330823449120592
          },
          {
           "color_by": "Random",
           "sample_id": 0,
           "timepoint": 6,
           "trajectory": "Random",
           "value": 3.2647494834384205
          },
          {
           "color_by": "Random",
           "sample_id": 0,
           "timepoint": 7,
           "trajectory": "Random",
           "value": 3.142916764612019
          },
          {
           "color_by": "Random",
           "sample_id": 0,
           "timepoint": 8,
           "trajectory": "Random",
           "value": 2.9786916390093805
          },
          {
           "color_by": "Random",
           "sample_id": 0,
           "timepoint": 9,
           "trajectory": "Random",
           "value": 2.7870353307545983
          },
          {
           "color_by": "Random",
           "sample_id": 0,
           "timepoint": 10,
           "trajectory": "Random",
           "value": 2.5839178155726295
          },
          {
           "color_by": "Random",
           "sample_id": 0,
           "timepoint": 11,
           "trajectory": "Random",
           "value": 2.385523876291087
          },
          {
           "color_by": "Random",
           "sample_id": 0,
           "timepoint": 12,
           "trajectory": "Random",
           "value": 2.2073710926167496
          },
          {
           "color_by": "Random",
           "sample_id": 0,
           "timepoint": 13,
           "trajectory": "Random",
           "value": 2.06342743941363
          },
          {
           "color_by": "Random",
           "sample_id": 0,
           "timepoint": 14,
           "trajectory": "Random",
           "value": 1.9653001374462917
          },
          {
           "color_by": "Random",
           "sample_id": 0,
           "timepoint": 15,
           "trajectory": "Random",
           "value": 1.921555409942551
          },
          {
           "color_by": "Random",
           "sample_id": 0,
           "timepoint": 16,
           "trajectory": "Random",
           "value": 1.9372168132253895
          },
          {
           "color_by": "Random",
           "sample_id": 0,
           "timepoint": 17,
           "trajectory": "Random",
           "value": 2.013476622692215
          },
          {
           "color_by": "Random",
           "sample_id": 0,
           "timepoint": 18,
           "trajectory": "Random",
           "value": 2.1476403180852977
          },
          {
           "color_by": "Random",
           "sample_id": 0,
           "timepoint": 19,
           "trajectory": "Random",
           "value": 2.3333090076807275
          },
          {
           "color_by": "Random",
           "sample_id": 0,
           "timepoint": 20,
           "trajectory": "Random",
           "value": 2.560789395432603
          },
          {
           "color_by": "Random",
           "sample_id": 0,
           "timepoint": 21,
           "trajectory": "Random",
           "value": 2.8177064639679106
          },
          {
           "color_by": "Random",
           "sample_id": 0,
           "timepoint": 22,
           "trajectory": "Random",
           "value": 3.089781254886388
          },
          {
           "color_by": "Random",
           "sample_id": 0,
           "timepoint": 23,
           "trajectory": "Random",
           "value": 3.361725735581224
          },
          {
           "color_by": "Random",
           "sample_id": 0,
           "timepoint": 24,
           "trajectory": "Random",
           "value": 3.6181993735146727
          },
          {
           "color_by": "Random",
           "sample_id": 0,
           "timepoint": 25,
           "trajectory": "Random",
           "value": 3.8447681395219955
          },
          {
           "color_by": "Random",
           "sample_id": 0,
           "timepoint": 26,
           "trajectory": "Random",
           "value": 4.0288064654030835
          },
          {
           "color_by": "Random",
           "sample_id": 0,
           "timepoint": 27,
           "trajectory": "Random",
           "value": 4.160286194613617
          },
          {
           "color_by": "Random",
           "sample_id": 0,
           "timepoint": 28,
           "trajectory": "Random",
           "value": 4.2324035662665205
          },
          {
           "color_by": "Random",
           "sample_id": 0,
           "timepoint": 29,
           "trajectory": "Random",
           "value": 4.242005324180511
          },
          {
           "color_by": "Random",
           "sample_id": 0,
           "timepoint": 30,
           "trajectory": "Random",
           "value": 4.189787517756228
          },
          {
           "color_by": "Random",
           "sample_id": 0,
           "timepoint": 31,
           "trajectory": "Random",
           "value": 4.08025468322788
          },
          {
           "color_by": "Random",
           "sample_id": 0,
           "timepoint": 32,
           "trajectory": "Random",
           "value": 3.9214419834856913
          },
          {
           "color_by": "Random",
           "sample_id": 0,
           "timepoint": 33,
           "trajectory": "Random",
           "value": 3.7244176158350895
          },
          {
           "color_by": "Random",
           "sample_id": 0,
           "timepoint": 34,
           "trajectory": "Random",
           "value": 3.502596453408604
          },
          {
           "color_by": "Random",
           "sample_id": 0,
           "timepoint": 35,
           "trajectory": "Random",
           "value": 3.2709076180725027
          },
          {
           "color_by": "Random",
           "sample_id": 0,
           "timepoint": 36,
           "trajectory": "Random",
           "value": 3.0448677608878607
          },
          {
           "color_by": "Random",
           "sample_id": 0,
           "timepoint": 37,
           "trajectory": "Random",
           "value": 2.8396176858765343
          },
          {
           "color_by": "Random",
           "sample_id": 0,
           "timepoint": 38,
           "trajectory": "Random",
           "value": 2.6689822295426544
          },
          {
           "color_by": "Random",
           "sample_id": 0,
           "timepoint": 39,
           "trajectory": "Random",
           "value": 2.544611860650819
          },
          {
           "color_by": "Random",
           "sample_id": 0,
           "timepoint": 40,
           "trajectory": "Random",
           "value": 2.475259382108118
          },
          {
           "color_by": "Random",
           "sample_id": 0,
           "timepoint": 41,
           "trajectory": "Random",
           "value": 2.4662367153898943
          },
          {
           "color_by": "Random",
           "sample_id": 0,
           "timepoint": 42,
           "trajectory": "Random",
           "value": 2.5190855500972287
          },
          {
           "color_by": "Random",
           "sample_id": 0,
           "timepoint": 43,
           "trajectory": "Random",
           "value": 2.631482343126188
          },
          {
           "color_by": "Random",
           "sample_id": 0,
           "timepoint": 44,
           "trajectory": "Random",
           "value": 2.7973835803449134
          },
          {
           "color_by": "Random",
           "sample_id": 0,
           "timepoint": 45,
           "trajectory": "Random",
           "value": 3.0074022745797735
          },
          {
           "color_by": "Random",
           "sample_id": 0,
           "timepoint": 46,
           "trajectory": "Random",
           "value": 3.2493922959259045
          },
          {
           "color_by": "Random",
           "sample_id": 0,
           "timepoint": 47,
           "trajectory": "Random",
           "value": 3.5092042078448125
          },
          {
           "color_by": "Random",
           "sample_id": 0,
           "timepoint": 48,
           "trajectory": "Random",
           "value": 3.771565618640365
          },
          {
           "color_by": "Random",
           "sample_id": 0,
           "timepoint": 49,
           "trajectory": "Random",
           "value": 4.021031315730969
          },
          {
           "color_by": "Random",
           "sample_id": 0,
           "timepoint": 50,
           "trajectory": "Random",
           "value": 4.242944111021572
          },
          {
           "color_by": "Random",
           "sample_id": 0,
           "timepoint": 51,
           "trajectory": "Random",
           "value": 4.424346659401721
          },
          {
           "color_by": "Random",
           "sample_id": 0,
           "timepoint": 52,
           "trajectory": "Random",
           "value": 4.554787560374603
          },
          {
           "color_by": "Random",
           "sample_id": 0,
           "timepoint": 53,
           "trajectory": "Random",
           "value": 4.626971625543012
          },
          {
           "color_by": "Random",
           "sample_id": 0,
           "timepoint": 54,
           "trajectory": "Random",
           "value": 4.637213883476773
          },
          {
           "color_by": "Random",
           "sample_id": 0,
           "timepoint": 55,
           "trajectory": "Random",
           "value": 4.585669095956151
          },
          {
           "color_by": "Random",
           "sample_id": 0,
           "timepoint": 56,
           "trajectory": "Random",
           "value": 4.476322517033312
          },
          {
           "color_by": "Random",
           "sample_id": 0,
           "timepoint": 57,
           "trajectory": "Random",
           "value": 4.316742470969693
          },
          {
           "color_by": "Random",
           "sample_id": 0,
           "timepoint": 58,
           "trajectory": "Random",
           "value": 4.117610133922668
          },
          {
           "color_by": "Random",
           "sample_id": 0,
           "timepoint": 59,
           "trajectory": "Random",
           "value": 3.8920557565276006
          },
          {
           "color_by": "Random",
           "sample_id": 0,
           "timepoint": 60,
           "trajectory": "Random",
           "value": 3.654842598982291
          },
          {
           "color_by": "Random",
           "sample_id": 0,
           "timepoint": 61,
           "trajectory": "Random",
           "value": 3.421449318644059
          },
          {
           "color_by": "Random",
           "sample_id": 0,
           "timepoint": 62,
           "trajectory": "Random",
           "value": 3.2071078637944552
          },
          {
           "color_by": "Random",
           "sample_id": 0,
           "timepoint": 63,
           "trajectory": "Random",
           "value": 3.0258566935598625
          },
          {
           "color_by": "Random",
           "sample_id": 0,
           "timepoint": 64,
           "trajectory": "Random",
           "value": 2.889668190999952
          },
          {
           "color_by": "Random",
           "sample_id": 0,
           "timepoint": 65,
           "trajectory": "Random",
           "value": 2.8077045233406253
          },
          {
           "color_by": "Random",
           "sample_id": 0,
           "timepoint": 66,
           "trajectory": "Random",
           "value": 2.785748217049186
          },
          {
           "color_by": "Random",
           "sample_id": 0,
           "timepoint": 67,
           "trajectory": "Random",
           "value": 2.8258428524745596
          },
          {
           "color_by": "Random",
           "sample_id": 0,
           "timepoint": 68,
           "trajectory": "Random",
           "value": 2.926166218510982
          },
          {
           "color_by": "Random",
           "sample_id": 0,
           "timepoint": 69,
           "trajectory": "Random",
           "value": 3.081143814461924
          },
          {
           "color_by": "Random",
           "sample_id": 0,
           "timepoint": 70,
           "trajectory": "Random",
           "value": 3.281795642616714
          },
          {
           "color_by": "Random",
           "sample_id": 0,
           "timepoint": 71,
           "trajectory": "Random",
           "value": 3.5162947301296184
          },
          {
           "color_by": "Random",
           "sample_id": 0,
           "timepoint": 72,
           "trajectory": "Random",
           "value": 3.7707026544556115
          },
          {
           "color_by": "Random",
           "sample_id": 0,
           "timepoint": 73,
           "trajectory": "Random",
           "value": 4.029836341342925
          },
          {
           "color_by": "Random",
           "sample_id": 0,
           "timepoint": 74,
           "trajectory": "Random",
           "value": 4.278212242462955
          },
          {
           "color_by": "Random",
           "sample_id": 0,
           "timepoint": 75,
           "trajectory": "Random",
           "value": 4.501009188641518
          },
          {
           "color_by": "Random",
           "sample_id": 0,
           "timepoint": 76,
           "trajectory": "Random",
           "value": 4.684990053473538
          },
          {
           "color_by": "Random",
           "sample_id": 0,
           "timepoint": 77,
           "trajectory": "Random",
           "value": 4.81932492305254
          },
          {
           "color_by": "Random",
           "sample_id": 0,
           "timepoint": 78,
           "trajectory": "Random",
           "value": 4.8962645913990706
          },
          {
           "color_by": "Random",
           "sample_id": 0,
           "timepoint": 79,
           "trajectory": "Random",
           "value": 4.911622507176931
          },
          {
           "color_by": "Random",
           "sample_id": 0,
           "timepoint": 80,
           "trajectory": "Random",
           "value": 4.8650352068402665
          },
          {
           "color_by": "Random",
           "sample_id": 0,
           "timepoint": 81,
           "trajectory": "Random",
           "value": 4.759985041979648
          },
          {
           "color_by": "Random",
           "sample_id": 0,
           "timepoint": 82,
           "trajectory": "Random",
           "value": 4.603583788016165
          },
          {
           "color_by": "Random",
           "sample_id": 0,
           "timepoint": 83,
           "trajectory": "Random",
           "value": 4.4061305886186135
          },
          {
           "color_by": "Random",
           "sample_id": 0,
           "timepoint": 84,
           "trajectory": "Random",
           "value": 4.180471720918116
          },
          {
           "color_by": "Random",
           "sample_id": 0,
           "timepoint": 85,
           "trajectory": "Random",
           "value": 3.941201988405816
          },
          {
           "color_by": "Random",
           "sample_id": 0,
           "timepoint": 86,
           "trajectory": "Random",
           "value": 3.7037573952120386
          },
          {
           "color_by": "Random",
           "sample_id": 0,
           "timepoint": 87,
           "trajectory": "Random",
           "value": 3.48345551505239
          },
          {
           "color_by": "Random",
           "sample_id": 0,
           "timepoint": 88,
           "trajectory": "Random",
           "value": 3.294543220209136
          },
          {
           "color_by": "Random",
           "sample_id": 0,
           "timepoint": 89,
           "trajectory": "Random",
           "value": 3.1493109782961084
          },
          {
           "color_by": "Random",
           "sample_id": 0,
           "timepoint": 90,
           "trajectory": "Random",
           "value": 3.0573287856848457
          },
          {
           "color_by": "Random",
           "sample_id": 0,
           "timepoint": 91,
           "trajectory": "Random",
           "value": 3.0248512436836
          },
          {
           "color_by": "Random",
           "sample_id": 0,
           "timepoint": 92,
           "trajectory": "Random",
           "value": 3.0544287670765606
          },
          {
           "color_by": "Random",
           "sample_id": 0,
           "timepoint": 93,
           "trajectory": "Random",
           "value": 3.1447490983121913
          },
          {
           "color_by": "Random",
           "sample_id": 0,
           "timepoint": 94,
           "trajectory": "Random",
           "value": 3.2907189813335527
          },
          {
           "color_by": "Random",
           "sample_id": 0,
           "timepoint": 95,
           "trajectory": "Random",
           "value": 3.483780917074277
          },
          {
           "color_by": "Random",
           "sample_id": 0,
           "timepoint": 96,
           "trajectory": "Random",
           "value": 3.712445306398998
          },
          {
           "color_by": "Random",
           "sample_id": 0,
           "timepoint": 97,
           "trajectory": "Random",
           "value": 3.9630048945138223
          },
          {
           "color_by": "Random",
           "sample_id": 0,
           "timepoint": 98,
           "trajectory": "Random",
           "value": 4.220387096245126
          },
          {
           "color_by": "Random",
           "sample_id": 0,
           "timepoint": 99,
           "trajectory": "Random",
           "value": 4.46909120881587
          },
          {
           "color_by": "Variance",
           "sample_id": 0,
           "timepoint": 0,
           "trajectory": "Variance",
           "value": 0.0898893108290365
          },
          {
           "color_by": "Variance",
           "sample_id": 0,
           "timepoint": 1,
           "trajectory": "Variance",
           "value": 1.042021768901158
          },
          {
           "color_by": "Variance",
           "sample_id": 0,
           "timepoint": 2,
           "trajectory": "Variance",
           "value": 1.2453920910488439
          },
          {
           "color_by": "Variance",
           "sample_id": 0,
           "timepoint": 3,
           "trajectory": "Variance",
           "value": 1.4475723455945286
          },
          {
           "color_by": "Variance",
           "sample_id": 0,
           "timepoint": 4,
           "trajectory": "Variance",
           "value": 1.6774927813231741
          },
          {
           "color_by": "Variance",
           "sample_id": 0,
           "timepoint": 5,
           "trajectory": "Variance",
           "value": 1.9386829189511876
          },
          {
           "color_by": "Variance",
           "sample_id": 0,
           "timepoint": 6,
           "trajectory": "Variance",
           "value": 2.2255527262870816
          },
          {
           "color_by": "Variance",
           "sample_id": 0,
           "timepoint": 7,
           "trajectory": "Variance",
           "value": 2.527757465123301
          },
          {
           "color_by": "Variance",
           "sample_id": 0,
           "timepoint": 8,
           "trajectory": "Variance",
           "value": 2.8322988865024277
          },
          {
           "color_by": "Variance",
           "sample_id": 0,
           "timepoint": 9,
           "trajectory": "Variance",
           "value": 3.124992581091103
          },
          {
           "color_by": "Variance",
           "sample_id": 0,
           "timepoint": 10,
           "trajectory": "Variance",
           "value": 3.3916939873485923
          },
          {
           "color_by": "Variance",
           "sample_id": 0,
           "timepoint": 11,
           "trajectory": "Variance",
           "value": 3.619376823098369
          },
          {
           "color_by": "Variance",
           "sample_id": 0,
           "timepoint": 12,
           "trajectory": "Variance",
           "value": 3.7970672778450894
          },
          {
           "color_by": "Variance",
           "sample_id": 0,
           "timepoint": 13,
           "trajectory": "Variance",
           "value": 3.9166087173864588
          },
          {
           "color_by": "Variance",
           "sample_id": 0,
           "timepoint": 14,
           "trajectory": "Variance",
           "value": 3.973226135589498
          },
          {
           "color_by": "Variance",
           "sample_id": 0,
           "timepoint": 15,
           "trajectory": "Variance",
           "value": 3.9658644784757016
          },
          {
           "color_by": "Variance",
           "sample_id": 0,
           "timepoint": 16,
           "trajectory": "Variance",
           "value": 3.8972851792697405
          },
          {
           "color_by": "Variance",
           "sample_id": 0,
           "timepoint": 17,
           "trajectory": "Variance",
           "value": 3.7739181922365654
          },
          {
           "color_by": "Variance",
           "sample_id": 0,
           "timepoint": 18,
           "trajectory": "Variance",
           "value": 3.6054808244481418
          },
          {
           "color_by": "Variance",
           "sample_id": 0,
           "timepoint": 19,
           "trajectory": "Variance",
           "value": 3.40438845266475
          },
          {
           "color_by": "Variance",
           "sample_id": 0,
           "timepoint": 20,
           "trajectory": "Variance",
           "value": 3.184994710390269
          },
          {
           "color_by": "Variance",
           "sample_id": 0,
           "timepoint": 21,
           "trajectory": "Variance",
           "value": 2.9627090492570467
          },
          {
           "color_by": "Variance",
           "sample_id": 0,
           "timepoint": 22,
           "trajectory": "Variance",
           "value": 2.753047015614908
          },
          {
           "color_by": "Variance",
           "sample_id": 0,
           "timepoint": 23,
           "trajectory": "Variance",
           "value": 2.5706726393538277
          },
          {
           "color_by": "Variance",
           "sample_id": 0,
           "timepoint": 24,
           "trajectory": "Variance",
           "value": 2.4284927340039566
          },
          {
           "color_by": "Variance",
           "sample_id": 0,
           "timepoint": 25,
           "trajectory": "Variance",
           "value": 2.336859616874853
          },
          {
           "color_by": "Variance",
           "sample_id": 0,
           "timepoint": 26,
           "trajectory": "Variance",
           "value": 2.302931971674056
          },
          {
           "color_by": "Variance",
           "sample_id": 0,
           "timepoint": 27,
           "trajectory": "Variance",
           "value": 2.3302337102380926
          },
          {
           "color_by": "Variance",
           "sample_id": 0,
           "timepoint": 28,
           "trajectory": "Variance",
           "value": 2.418438354560389
          },
          {
           "color_by": "Variance",
           "sample_id": 0,
           "timepoint": 29,
           "trajectory": "Variance",
           "value": 2.5633924197625175
          },
          {
           "color_by": "Variance",
           "sample_id": 0,
           "timepoint": 30,
           "trajectory": "Variance",
           "value": 2.75737640434619
          },
          {
           "color_by": "Variance",
           "sample_id": 0,
           "timepoint": 31,
           "trajectory": "Variance",
           "value": 2.9895872096397333
          },
          {
           "color_by": "Variance",
           "sample_id": 0,
           "timepoint": 32,
           "trajectory": "Variance",
           "value": 3.24681203421767
          },
          {
           "color_by": "Variance",
           "sample_id": 0,
           "timepoint": 33,
           "trajectory": "Variance",
           "value": 3.5142518771682028
          },
          {
           "color_by": "Variance",
           "sample_id": 0,
           "timepoint": 34,
           "trajectory": "Variance",
           "value": 3.7764434766045305
          },
          {
           "color_by": "Variance",
           "sample_id": 0,
           "timepoint": 35,
           "trajectory": "Variance",
           "value": 4.018222385138005
          },
          {
           "color_by": "Variance",
           "sample_id": 0,
           "timepoint": 36,
           "trajectory": "Variance",
           "value": 4.225667322719642
          },
          {
           "color_by": "Variance",
           "sample_id": 0,
           "timepoint": 37,
           "trajectory": "Variance",
           "value": 4.386967108382214
          },
          {
           "color_by": "Variance",
           "sample_id": 0,
           "timepoint": 38,
           "trajectory": "Variance",
           "value": 4.493156283648548
          },
          {
           "color_by": "Variance",
           "sample_id": 0,
           "timepoint": 39,
           "trajectory": "Variance",
           "value": 4.538673702468655
          },
          {
           "color_by": "Variance",
           "sample_id": 0,
           "timepoint": 40,
           "trajectory": "Variance",
           "value": 4.521709367947825
          },
          {
           "color_by": "Variance",
           "sample_id": 0,
           "timepoint": 41,
           "trajectory": "Variance",
           "value": 4.444317960503971
          },
          {
           "color_by": "Variance",
           "sample_id": 0,
           "timepoint": 42,
           "trajectory": "Variance",
           "value": 4.312292006897882
          },
          {
           "color_by": "Variance",
           "sample_id": 0,
           "timepoint": 43,
           "trajectory": "Variance",
           "value": 4.134802582936465
          },
          {
           "color_by": "Variance",
           "sample_id": 0,
           "timepoint": 44,
           "trajectory": "Variance",
           "value": 3.9238298954192485
          },
          {
           "color_by": "Variance",
           "sample_id": 0,
           "timepoint": 45,
           "trajectory": "Variance",
           "value": 3.693419152453492
          },
          {
           "color_by": "Variance",
           "sample_id": 0,
           "timepoint": 46,
           "trajectory": "Variance",
           "value": 3.4588079933541547
          },
          {
           "color_by": "Variance",
           "sample_id": 0,
           "timepoint": 47,
           "trajectory": "Variance",
           "value": 3.235479734602535
          },
          {
           "color_by": "Variance",
           "sample_id": 0,
           "timepoint": 48,
           "trajectory": "Variance",
           "value": 3.038201300263408
          },
          {
           "color_by": "Variance",
           "sample_id": 0,
           "timepoint": 49,
           "trajectory": "Variance",
           "value": 2.880105657096242
          },
          {
           "color_by": "Variance",
           "sample_id": 0,
           "timepoint": 50,
           "trajectory": "Variance",
           "value": 2.7718758071519405
          },
          {
           "color_by": "Variance",
           "sample_id": 0,
           "timepoint": 51,
           "trajectory": "Variance",
           "value": 2.72108107598084
          },
          {
           "color_by": "Variance",
           "sample_id": 0,
           "timepoint": 52,
           "trajectory": "Variance",
           "value": 2.73170696529938
          },
          {
           "color_by": "Variance",
           "sample_id": 0,
           "timepoint": 53,
           "trajectory": "Variance",
           "value": 2.803907803820441
          },
          {
           "color_by": "Variance",
           "sample_id": 0,
           "timepoint": 54,
           "trajectory": "Variance",
           "value": 2.933997577228018
          },
          {
           "color_by": "Variance",
           "sample_id": 0,
           "timepoint": 55,
           "trajectory": "Variance",
           "value": 3.114679509262226
          },
          {
           "color_by": "Variance",
           "sample_id": 0,
           "timepoint": 56,
           "trajectory": "Variance",
           "value": 3.335500121325148
          },
          {
           "color_by": "Variance",
           "sample_id": 0,
           "timepoint": 57,
           "trajectory": "Variance",
           "value": 3.583499540881527
          },
          {
           "color_by": "Variance",
           "sample_id": 0,
           "timepoint": 58,
           "trajectory": "Variance",
           "value": 3.844017626995548
          },
          {
           "color_by": "Variance",
           "sample_id": 0,
           "timepoint": 59,
           "trajectory": "Variance",
           "value": 4.101605793271066
          },
          {
           "color_by": "Variance",
           "sample_id": 0,
           "timepoint": 60,
           "trajectory": "Variance",
           "value": 4.340987836603325
          },
          {
           "color_by": "Variance",
           "sample_id": 0,
           "timepoint": 61,
           "trajectory": "Variance",
           "value": 4.548010033110422
          },
          {
           "color_by": "Variance",
           "sample_id": 0,
           "timepoint": 62,
           "trajectory": "Variance",
           "value": 4.71052142984136
          },
          {
           "color_by": "Variance",
           "sample_id": 0,
           "timepoint": 63,
           "trajectory": "Variance",
           "value": 4.819129600868369
          },
          {
           "color_by": "Variance",
           "sample_id": 0,
           "timepoint": 64,
           "trajectory": "Variance",
           "value": 4.867784879322377
          },
          {
           "color_by": "Variance",
           "sample_id": 0,
           "timepoint": 65,
           "trajectory": "Variance",
           "value": 4.854156741402146
          },
          {
           "color_by": "Variance",
           "sample_id": 0,
           "timepoint": 66,
           "trajectory": "Variance",
           "value": 4.779778941313562
          },
          {
           "color_by": "Variance",
           "sample_id": 0,
           "timepoint": 67,
           "trajectory": "Variance",
           "value": 4.649954373990476
          },
          {
           "color_by": "Variance",
           "sample_id": 0,
           "timepoint": 68,
           "trajectory": "Variance",
           "value": 4.473425581363741
          },
          {
           "color_by": "Variance",
           "sample_id": 0,
           "timepoint": 69,
           "trajectory": "Variance",
           "value": 4.2618313890508635
          },
          {
           "color_by": "Variance",
           "sample_id": 0,
           "timepoint": 70,
           "trajectory": "Variance",
           "value": 4.028983457673812
          },
          {
           "color_by": "Variance",
           "sample_id": 0,
           "timepoint": 71,
           "trajectory": "Variance",
           "value": 3.7900077298125785
          },
          {
           "color_by": "Variance",
           "sample_id": 0,
           "timepoint": 72,
           "trajectory": "Variance",
           "value": 3.5604041537041002
          },
          {
           "color_by": "Variance",
           "sample_id": 0,
           "timepoint": 73,
           "trajectory": "Variance",
           "value": 3.35508314592202
          },
          {
           "color_by": "Variance",
           "sample_id": 0,
           "timepoint": 74,
           "trajectory": "Variance",
           "value": 3.1874387015025194
          },
          {
           "color_by": "Variance",
           "sample_id": 0,
           "timepoint": 75,
           "trajectory": "Variance",
           "value": 3.0685157813952637
          },
          {
           "color_by": "Variance",
           "sample_id": 0,
           "timepoint": 76,
           "trajectory": "Variance",
           "value": 3.0063237453875553
          },
          {
           "color_by": "Variance",
           "sample_id": 0,
           "timepoint": 77,
           "trajectory": "Variance",
           "value": 3.005338518228065
          },
          {
           "color_by": "Variance",
           "sample_id": 0,
           "timepoint": 78,
           "trajectory": "Variance",
           "value": 3.0662244421402995
          },
          {
           "color_by": "Variance",
           "sample_id": 0,
           "timepoint": 79,
           "trajectory": "Variance",
           "value": 3.1857931098619385
          },
          {
           "color_by": "Variance",
           "sample_id": 0,
           "timepoint": 80,
           "trajectory": "Variance",
           "value": 3.357201738027835
          },
          {
           "color_by": "Variance",
           "sample_id": 0,
           "timepoint": 81,
           "trajectory": "Variance",
           "value": 3.5703787472403965
          },
          {
           "color_by": "Variance",
           "sample_id": 0,
           "timepoint": 82,
           "trajectory": "Variance",
           "value": 3.8126500885451087
          },
          {
           "color_by": "Variance",
           "sample_id": 0,
           "timepoint": 83,
           "trajectory": "Variance",
           "value": 4.069527374576327
          },
          {
           "color_by": "Variance",
           "sample_id": 0,
           "timepoint": 84,
           "trajectory": "Variance",
           "value": 4.325608813395159
          },
          {
           "color_by": "Variance",
           "sample_id": 0,
           "timepoint": 85,
           "trajectory": "Variance",
           "value": 4.565536929504633
          },
          {
           "color_by": "Variance",
           "sample_id": 0,
           "timepoint": 86,
           "trajectory": "Variance",
           "value": 4.774953525764835
          },
          {
           "color_by": "Variance",
           "sample_id": 0,
           "timepoint": 87,
           "trajectory": "Variance",
           "value": 4.941392511468119
          },
          {
           "color_by": "Variance",
           "sample_id": 0,
           "timepoint": 88,
           "trajectory": "Variance",
           "value": 5.05505508500634
          },
          {
           "color_by": "Variance",
           "sample_id": 0,
           "timepoint": 89,
           "trajectory": "Variance",
           "value": 5.109419074174926
          },
          {
           "color_by": "Variance",
           "sample_id": 0,
           "timepoint": 90,
           "trajectory": "Variance",
           "value": 5.101644548425397
          },
          {
           "color_by": "Variance",
           "sample_id": 0,
           "timepoint": 91,
           "trajectory": "Variance",
           "value": 5.032750484193748
          },
          {
           "color_by": "Variance",
           "sample_id": 0,
           "timepoint": 92,
           "trajectory": "Variance",
           "value": 4.907551499235898
          },
          {
           "color_by": "Variance",
           "sample_id": 0,
           "timepoint": 93,
           "trajectory": "Variance",
           "value": 4.734358589641726
          },
          {
           "color_by": "Variance",
           "sample_id": 0,
           "timepoint": 94,
           "trajectory": "Variance",
           "value": 4.524462476363451
          },
          {
           "color_by": "Variance",
           "sample_id": 0,
           "timepoint": 95,
           "trajectory": "Variance",
           "value": 4.291431684375672
          },
          {
           "color_by": "Variance",
           "sample_id": 0,
           "timepoint": 96,
           "trajectory": "Variance",
           "value": 4.050268996606593
          },
          {
           "color_by": "Variance",
           "sample_id": 0,
           "timepoint": 97,
           "trajectory": "Variance",
           "value": 3.8164787303455467
          },
          {
           "color_by": "Variance",
           "sample_id": 0,
           "timepoint": 98,
           "trajectory": "Variance",
           "value": 3.605102828453604
          },
          {
           "color_by": "Variance",
           "sample_id": 0,
           "timepoint": 99,
           "trajectory": "Variance",
           "value": 3.4297856966440374
          },
          {
           "color_by": "Phase Change",
           "sample_id": 0,
           "timepoint": 0,
           "trajectory": "Baseline_Phase_Change",
           "value": 0.9999999999999998
          },
          {
           "color_by": "Phase Change",
           "sample_id": 0,
           "timepoint": 1,
           "trajectory": "Baseline_Phase_Change",
           "value": 2.2474039592545227
          },
          {
           "color_by": "Phase Change",
           "sample_id": 0,
           "timepoint": 2,
           "trajectory": "Baseline_Phase_Change",
           "value": 2.668632653606924
          },
          {
           "color_by": "Phase Change",
           "sample_id": 0,
           "timepoint": 3,
           "trajectory": "Baseline_Phase_Change",
           "value": 2.9977127729758264
          },
          {
           "color_by": "Phase Change",
           "sample_id": 0,
           "timepoint": 4,
           "trajectory": "Baseline_Phase_Change",
           "value": 3.2556845471809917
          },
          {
           "color_by": "Phase Change",
           "sample_id": 0,
           "timepoint": 5,
           "trajectory": "Baseline_Phase_Change",
           "value": 3.4443334005768067
          },
          {
           "color_by": "Phase Change",
           "sample_id": 0,
           "timepoint": 6,
           "trajectory": "Baseline_Phase_Change",
           "value": 3.562579566677342
          },
          {
           "color_by": "Phase Change",
           "sample_id": 0,
           "timepoint": 7,
           "trajectory": "Baseline_Phase_Change",
           "value": 3.6105625085717223
          },
          {
           "color_by": "Phase Change",
           "sample_id": 0,
           "timepoint": 8,
           "trajectory": "Baseline_Phase_Change",
           "value": 3.5910902573331107
          },
          {
           "color_by": "Phase Change",
           "sample_id": 0,
           "timepoint": 9,
           "trajectory": "Baseline_Phase_Change",
           "value": 3.5101240044567987
          },
          {
           "color_by": "Phase Change",
           "sample_id": 0,
           "timepoint": 10,
           "trajectory": "Baseline_Phase_Change",
           "value": 3.3767515541428796
          },
          {
           "color_by": "Phase Change",
           "sample_id": 0,
           "timepoint": 11,
           "trajectory": "Baseline_Phase_Change",
           "value": 3.2028212788902035
          },
          {
           "color_by": "Phase Change",
           "sample_id": 0,
           "timepoint": 12,
           "trajectory": "Baseline_Phase_Change",
           "value": 3.0023297262640667
          },
          {
           "color_by": "Phase Change",
           "sample_id": 0,
           "timepoint": 13,
           "trajectory": "Baseline_Phase_Change",
           "value": 2.7906337875858336
          },
          {
           "color_by": "Phase Change",
           "sample_id": 0,
           "timepoint": 14,
           "trajectory": "Baseline_Phase_Change",
           "value": 2.5835531925780497
          },
          {
           "color_by": "Phase Change",
           "sample_id": 0,
           "timepoint": 15,
           "trajectory": "Baseline_Phase_Change",
           "value": 2.3964283525230865
          },
          {
           "color_by": "Phase Change",
           "sample_id": 0,
           "timepoint": 16,
           "trajectory": "Baseline_Phase_Change",
           "value": 2.243197504692072
          },
          {
           "color_by": "Phase Change",
           "sample_id": 0,
           "timepoint": 17,
           "trajectory": "Baseline_Phase_Change",
           "value": 2.135553826640347
          },
          {
           "color_by": "Phase Change",
           "sample_id": 0,
           "timepoint": 18,
           "trajectory": "Baseline_Phase_Change",
           "value": 2.0822370262420207
          },
          {
           "color_by": "Phase Change",
           "sample_id": 0,
           "timepoint": 19,
           "trajectory": "Baseline_Phase_Change",
           "value": 2.088504840954466
          },
          {
           "color_by": "Phase Change",
           "sample_id": 0,
           "timepoint": 20,
           "trajectory": "Baseline_Phase_Change",
           "value": 2.1558182522179896
          },
          {
           "color_by": "Phase Change",
           "sample_id": 0,
           "timepoint": 21,
           "trajectory": "Baseline_Phase_Change",
           "value": 2.2817606495014804
          },
          {
           "color_by": "Phase Change",
           "sample_id": 0,
           "timepoint": 22,
           "trajectory": "Baseline_Phase_Change",
           "value": 2.4601964450976017
          },
          {
           "color_by": "Phase Change",
           "sample_id": 0,
           "timepoint": 23,
           "trajectory": "Baseline_Phase_Change",
           "value": 2.6816596255955836
          },
          {
           "color_by": "Phase Change",
           "sample_id": 0,
           "timepoint": 24,
           "trajectory": "Baseline_Phase_Change",
           "value": 2.9339483412017167
          },
          {
           "color_by": "Phase Change",
           "sample_id": 0,
           "timepoint": 25,
           "trajectory": "Baseline_Phase_Change",
           "value": 3.2028887609522325
          },
          {
           "color_by": "Phase Change",
           "sample_id": 0,
           "timepoint": 26,
           "trajectory": "Baseline_Phase_Change",
           "value": 3.473220852441041
          },
          {
           "color_by": "Phase Change",
           "sample_id": 0,
           "timepoint": 27,
           "trajectory": "Baseline_Phase_Change",
           "value": 3.729551130735395
          },
          {
           "color_by": "Phase Change",
           "sample_id": 0,
           "timepoint": 28,
           "trajectory": "Baseline_Phase_Change",
           "value": 3.957313232509995
          },
          {
           "color_by": "Phase Change",
           "sample_id": 0,
           "timepoint": 29,
           "trajectory": "Baseline_Phase_Change",
           "value": 4.143676666117589
          },
          {
           "color_by": "Phase Change",
           "sample_id": 0,
           "timepoint": 30,
           "trajectory": "Baseline_Phase_Change",
           "value": 4.278347296095455
          },
          {
           "color_by": "Phase Change",
           "sample_id": 0,
           "timepoint": 31,
           "trajectory": "Baseline_Phase_Change",
           "value": 4.354209840881743
          },
          {
           "color_by": "Phase Change",
           "sample_id": 0,
           "timepoint": 32,
           "trajectory": "Baseline_Phase_Change",
           "value": 4.367772476628824
          },
          {
           "color_by": "Phase Change",
           "sample_id": 0,
           "timepoint": 33,
           "trajectory": "Baseline_Phase_Change",
           "value": 4.3193859371677705
          },
          {
           "color_by": "Phase Change",
           "sample_id": 0,
           "timepoint": 34,
           "trajectory": "Baseline_Phase_Change",
           "value": 4.213223515389909
          },
          {
           "color_by": "Phase Change",
           "sample_id": 0,
           "timepoint": 35,
           "trajectory": "Baseline_Phase_Change",
           "value": 4.05702323285198
          },
          {
           "color_by": "Phase Change",
           "sample_id": 0,
           "timepoint": 36,
           "trajectory": "Baseline_Phase_Change",
           "value": 3.861608228024935
          },
          {
           "color_by": "Phase Change",
           "sample_id": 0,
           "timepoint": 37,
           "trajectory": "Baseline_Phase_Change",
           "value": 3.6402151999400942
          },
          {
           "color_by": "Phase Change",
           "sample_id": 0,
           "timepoint": 38,
           "trajectory": "Baseline_Phase_Change",
           "value": 3.4076726757365794
          },
          {
           "color_by": "Phase Change",
           "sample_id": 0,
           "timepoint": 39,
           "trajectory": "Baseline_Phase_Change",
           "value": 3.17948020581711
          },
          {
           "color_by": "Phase Change",
           "sample_id": 0,
           "timepoint": 40,
           "trajectory": "Baseline_Phase_Change",
           "value": 2.9708457484765014
          },
          {
           "color_by": "Phase Change",
           "sample_id": 0,
           "timepoint": 41,
           "trajectory": "Baseline_Phase_Change",
           "value": 2.795741104030448
          },
          {
           "color_by": "Phase Change",
           "sample_id": 0,
           "timepoint": 42,
           "trajectory": "Baseline_Phase_Change",
           "value": 2.6660341350501606
          },
          {
           "color_by": "Phase Change",
           "sample_id": 0,
           "timepoint": 43,
           "trajectory": "Baseline_Phase_Change",
           "value": 2.590751734110336
          },
          {
           "color_by": "Phase Change",
           "sample_id": 0,
           "timepoint": 44,
           "trajectory": "Baseline_Phase_Change",
           "value": 2.575519370350691
          },
          {
           "color_by": "Phase Change",
           "sample_id": 0,
           "timepoint": 45,
           "trajectory": "Baseline_Phase_Change",
           "value": 2.62221206660009
          },
          {
           "color_by": "Phase Change",
           "sample_id": 0,
           "timepoint": 46,
           "trajectory": "Baseline_Phase_Change",
           "value": 2.728838512451789
          },
          {
           "color_by": "Phase Change",
           "sample_id": 0,
           "timepoint": 47,
           "trajectory": "Baseline_Phase_Change",
           "value": 2.8896655228687154
          },
          {
           "color_by": "Phase Change",
           "sample_id": 0,
           "timepoint": 48,
           "trajectory": "Baseline_Phase_Change",
           "value": 3.0955751079045495
          },
          {
           "color_by": "Phase Change",
           "sample_id": 0,
           "timepoint": 49,
           "trajectory": "Baseline_Phase_Change",
           "value": 3.334631956083463
          },
          {
           "color_by": "Phase Change",
           "sample_id": 0,
           "timepoint": 50,
           "trajectory": "Baseline_Phase_Change",
           "value": 3.5928260511212935
          },
          {
           "color_by": "Phase Change",
           "sample_id": 0,
           "timepoint": 51,
           "trajectory": "Baseline_Phase_Change",
           "value": 3.8549442524149224
          },
          {
           "color_by": "Phase Change",
           "sample_id": 0,
           "timepoint": 52,
           "trajectory": "Baseline_Phase_Change",
           "value": 4.105516651109291
          },
          {
           "color_by": "Phase Change",
           "sample_id": 0,
           "timepoint": 53,
           "trajectory": "Baseline_Phase_Change",
           "value": 4.3297788641263235
          },
          {
           "color_by": "Phase Change",
           "sample_id": 0,
           "timepoint": 54,
           "trajectory": "Baseline_Phase_Change",
           "value": 4.514590437381155
          },
          {
           "color_by": "Phase Change",
           "sample_id": 0,
           "timepoint": 55,
           "trajectory": "Baseline_Phase_Change",
           "value": 4.649252258140127
          },
          {
           "color_by": "Phase Change",
           "sample_id": 0,
           "timepoint": 56,
           "trajectory": "Baseline_Phase_Change",
           "value": 4.726172155429631
          },
          {
           "color_by": "Phase Change",
           "sample_id": 0,
           "timepoint": 57,
           "trajectory": "Baseline_Phase_Change",
           "value": 4.741337306187235
          },
          {
           "color_by": "Phase Change",
           "sample_id": 0,
           "timepoint": 58,
           "trajectory": "Baseline_Phase_Change",
           "value": 4.694564076596578
          },
          {
           "color_by": "Phase Change",
           "sample_id": 0,
           "timepoint": 59,
           "trajectory": "Baseline_Phase_Change",
           "value": 4.58950976593073
          },
          {
           "color_by": "Phase Change",
           "sample_id": 0,
           "timepoint": 60,
           "trajectory": "Baseline_Phase_Change",
           "value": 4.433445523870858
          },
          {
           "color_by": "Phase Change",
           "sample_id": 0,
           "timepoint": 61,
           "trajectory": "Baseline_Phase_Change",
           "value": 4.236804561247781
          },
          {
           "color_by": "Phase Change",
           "sample_id": 0,
           "timepoint": 62,
           "trajectory": "Baseline_Phase_Change",
           "value": 4.01253374523448
          },
          {
           "color_by": "Phase Change",
           "sample_id": 0,
           "timepoint": 63,
           "trajectory": "Baseline_Phase_Change",
           "value": 3.7752888945424172
          },
          {
           "color_by": "Phase Change",
           "sample_id": 0,
           "timepoint": 64,
           "trajectory": "Baseline_Phase_Change",
           "value": 3.540523808081125
          },
          {
           "color_by": "Phase Change",
           "sample_id": 0,
           "timepoint": 65,
           "trajectory": "Baseline_Phase_Change",
           "value": 3.3235296676155683
          },
          {
           "color_by": "Phase Change",
           "sample_id": 0,
           "timepoint": 66,
           "trajectory": "Baseline_Phase_Change",
           "value": 3.1384845404026755
          },
          {
           "color_by": "Phase Change",
           "sample_id": 0,
           "timepoint": 67,
           "trajectory": "Baseline_Phase_Change",
           "value": 2.9975720797684
          },
          {
           "color_by": "Phase Change",
           "sample_id": 0,
           "timepoint": 68,
           "trajectory": "Baseline_Phase_Change",
           "value": 2.9102242191463437
          },
          {
           "color_by": "Phase Change",
           "sample_id": 0,
           "timepoint": 69,
           "trajectory": "Baseline_Phase_Change",
           "value": 2.8825349457427887
          },
          {
           "color_by": "Phase Change",
           "sample_id": 0,
           "timepoint": 70,
           "trajectory": "Baseline_Phase_Change",
           "value": 2.9168816030509204
          },
          {
           "color_by": "Phase Change",
           "sample_id": 0,
           "timepoint": 71,
           "trajectory": "Baseline_Phase_Change",
           "value": 3.011777268262246
          },
          {
           "color_by": "Phase Change",
           "sample_id": 0,
           "timepoint": 72,
           "trajectory": "Baseline_Phase_Change",
           "value": 3.1619633834722642
          },
          {
           "color_by": "Phase Change",
           "sample_id": 0,
           "timepoint": 73,
           "trajectory": "Baseline_Phase_Change",
           "value": 3.3587368817299095
          },
          {
           "color_by": "Phase Change",
           "sample_id": 0,
           "timepoint": 74,
           "trajectory": "Baseline_Phase_Change",
           "value": 3.590491469198905
          },
          {
           "color_by": "Phase Change",
           "sample_id": 0,
           "timepoint": 75,
           "trajectory": "Baseline_Phase_Change",
           "value": 3.8434394094838638
          },
          {
           "color_by": "Phase Change",
           "sample_id": 0,
           "timepoint": 76,
           "trajectory": "Baseline_Phase_Change",
           "value": 4.102468933400141
          },
          {
           "color_by": "Phase Change",
           "sample_id": 0,
           "timepoint": 77,
           "trajectory": "Baseline_Phase_Change",
           "value": 4.352083964911677
          },
          {
           "color_by": "Phase Change",
           "sample_id": 0,
           "timepoint": 78,
           "trajectory": "Baseline_Phase_Change",
           "value": 4.5773677359204425
          },
          {
           "color_by": "Phase Change",
           "sample_id": 0,
           "timepoint": 79,
           "trajectory": "Baseline_Phase_Change",
           "value": 4.764910377279687
          },
          {
           "color_by": "Phase Change",
           "sample_id": 0,
           "timepoint": 80,
           "trajectory": "Baseline_Phase_Change",
           "value": 4.903642813170069
          },
          {
           "color_by": "Phase Change",
           "sample_id": 0,
           "timepoint": 81,
           "trajectory": "Baseline_Phase_Change",
           "value": 4.98552511156512
          },
          {
           "color_by": "Phase Change",
           "sample_id": 0,
           "timepoint": 82,
           "trajectory": "Baseline_Phase_Change",
           "value": 5.006046492713363
          },
          {
           "color_by": "Phase Change",
           "sample_id": 0,
           "timepoint": 83,
           "trajectory": "Baseline_Phase_Change",
           "value": 4.964505907743204
          },
          {
           "color_by": "Phase Change",
           "sample_id": 0,
           "timepoint": 84,
           "trajectory": "Baseline_Phase_Change",
           "value": 4.864055742571147
          },
          {
           "color_by": "Phase Change",
           "sample_id": 0,
           "timepoint": 85,
           "trajectory": "Baseline_Phase_Change",
           "value": 4.711505930003613
          },
          {
           "color_by": "Phase Change",
           "sample_id": 0,
           "timepoint": 86,
           "trajectory": "Baseline_Phase_Change",
           "value": 4.516900649569866
          },
          {
           "color_by": "Phase Change",
           "sample_id": 0,
           "timepoint": 87,
           "trajectory": "Baseline_Phase_Change",
           "value": 4.292893934006934
          },
          {
           "color_by": "Phase Change",
           "sample_id": 0,
           "timepoint": 88,
           "trajectory": "Baseline_Phase_Change",
           "value": 4.0539630043183825
          },
          {
           "color_by": "Phase Change",
           "sample_id": 0,
           "timepoint": 89,
           "trajectory": "Baseline_Phase_Change",
           "value": 3.8155082445714
          },
          {
           "color_by": "Phase Change",
           "sample_id": 0,
           "timepoint": 90,
           "trajectory": "Baseline_Phase_Change",
           "value": 3.592895775780514
          },
          {
           "color_by": "Phase Change",
           "sample_id": 0,
           "timepoint": 91,
           "trajectory": "Baseline_Phase_Change",
           "value": 3.400502157129364
          },
          {
           "color_by": "Phase Change",
           "sample_id": 0,
           "timepoint": 92,
           "trajectory": "Baseline_Phase_Change",
           "value": 3.250820610507302
          },
          {
           "color_by": "Phase Change",
           "sample_id": 0,
           "timepoint": 93,
           "trajectory": "Baseline_Phase_Change",
           "value": 3.153684339109128
          },
          {
           "color_by": "Phase Change",
           "sample_id": 0,
           "timepoint": 94,
           "trajectory": "Baseline_Phase_Change",
           "value": 3.1156552304983736
          },
          {
           "color_by": "Phase Change",
           "sample_id": 0,
           "timepoint": 95,
           "trajectory": "Baseline_Phase_Change",
           "value": 3.139615951723722
          },
          {
           "color_by": "Phase Change",
           "sample_id": 0,
           "timepoint": 96,
           "trajectory": "Baseline_Phase_Change",
           "value": 3.2245907981399506
          },
          {
           "color_by": "Phase Change",
           "sample_id": 0,
           "timepoint": 97,
           "trajectory": "Baseline_Phase_Change",
           "value": 3.3658064347822254
          },
          {
           "color_by": "Phase Change",
           "sample_id": 0,
           "timepoint": 98,
           "trajectory": "Baseline_Phase_Change",
           "value": 3.554988753780664
          },
          {
           "color_by": "Phase Change",
           "sample_id": 0,
           "timepoint": 99,
           "trajectory": "Baseline_Phase_Change",
           "value": 3.7808773907457893
          }
         ]
        },
        {
         "name": "points",
         "values": []
        },
        {
         "name": "markers",
         "values": []
        },
        {
         "name": "selected",
         "on": [
          {
           "remove": true,
           "trigger": "clear"
          },
          {
           "remove": true,
           "trigger": "!shift"
          },
          {
           "insert": "clicked",
           "trigger": "!shift && clicked"
          },
          {
           "toggle": "clicked",
           "trigger": "shift && clicked"
          }
         ]
        },
        {
         "name": "selectedData",
         "on": [
          {
           "remove": true,
           "trigger": "clearData"
          },
          {
           "toggle": "clickedData",
           "trigger": "clickedData"
          }
         ]
        }
       ],
       "height": 300,
       "legends": [
        {
         "encode": {
          "labels": {
           "interactive": true,
           "name": "legendLabel",
           "size": {
            "value": 12
           },
           "update": {
            "opacity": [
             {
              "test": "!length(data('selectedData')) || indata('selectedData', 'value', datum.value)",
              "value": 1
             },
             {
              "value": 0.25
             }
            ]
           }
          },
          "symbols": {
           "interactive": true,
           "name": "legendSymbol",
           "update": {
            "fill": {
             "value": "transparent"
            },
            "opacity": [
             {
              "test": "!length(data('selected')) || indata('selected', 'value', datum.value) || indata('selectedData', 'value', datum.value)",
              "value": 0.7
             },
             {
              "value": 0.15
             }
            ],
            "size": {
             "value": 64
            },
            "strokeWidth": {
             "value": 2
            }
           }
          }
         },
         "name": "color_legend",
         "orient": "left",
         "stroke": "color"
        }
       ],
       "marks": [
        {
         "from": {
          "facet": {
           "data": "points",
           "groupby": "trajectory",
           "name": "points_split"
          }
         },
         "marks": [
          {
           "encode": {
            "hover": {
             "fillOpacity": {
              "value": 0.9
             }
            },
            "update": {
             "fill": {
              "field": "trajectory",
              "scale": "color"
             },
             "fillOpacity": [
              {
               "test": "!length(data('selected')) || indata('selected', 'value', datum.trajectory)",
               "value": 0.5
              },
              {
               "value": 0.15
              }
             ],
             "size": {
              "value": 35
             },
             "stroke": {
              "field": "trajectory",
              "scale": "color"
             },
             "strokeOpacity": [
              {
               "test": "!length(data('selected')) || indata('selected', 'value', datum.trajectory)",
               "value": 0.75
              },
              {
               "value": 0.15
              }
             ],
             "strokeWidth": {
              "value": 2
             },
             "tooltip": {
              "field": "value"
             },
             "x": {
              "field": "timepoint",
              "scale": "xscale"
             },
             "y": {
              "field": "value",
              "scale": "yscale"
             }
            }
           },
           "from": {
            "data": "points_split"
           },
           "name": "_points_symbol",
           "type": "symbol",
           "zindex": 3
          },
          {
           "encode": {
            "hover": {
             "fillOpacity": {
              "value": 0.9
             }
            },
            "update": {
             "interpolate": {
              "value": "linear"
             },
             "stroke": {
              "field": "trajectory",
              "scale": "color"
             },
             "strokeDash": {
              "value": [
               5,
               3
              ]
             },
             "strokeOpacity": [
              {
               "test": "!length(data('selected')) || indata('selected', 'value', datum.trajectory)",
               "value": 0.3
              },
              {
               "value": 0.1
              }
             ],
             "strokeWidth": {
              "value": 2
             },
             "x": {
              "field": "timepoint",
              "scale": "xscale"
             },
             "y": {
              "field": "value",
              "scale": "yscale"
             }
            }
           },
           "from": {
            "data": "points_split"
           },
           "name": "_points_line",
           "type": "line",
           "zindex": 3
          }
         ],
         "name": "_points",
         "type": "group",
         "zindex": 3
        },
        {
         "from": {
          "facet": {
           "data": "traces",
           "groupby": "trajectory",
           "name": "traces_split"
          }
         },
         "marks": [
          {
           "encode": {
            "hover": {
             "fillOpacity": {
              "value": 0.9
             }
            },
            "update": {
             "interpolate": {
              "value": "linear"
             },
             "stroke": {
              "field": "trajectory",
              "scale": "color"
             },
             "strokeDash": [
              {
               "test": "indexof(datum.trajectory, 'aseline') == -1",
               "value": [
                1,
                0
               ]
              },
              {
               "value": [
                8,
                4
               ]
              }
             ],
             "strokeOpacity": [
              {
               "test": "!length(data('selected')) || indata('selected', 'value', datum.trajectory)",
               "value": 0.75
              },
              {
               "value": 0.15
              }
             ],
             "strokeWidth": {
              "value": 2
             },
             "x": {
              "field": "timepoint",
              "scale": "xscale"
             },
             "y": {
              "field": "value",
              "scale": "yscale"
             }
            }
           },
           "from": {
            "data": "traces_split"
           },
           "name": "_traces_lines",
           "type": "line"
          }
         ],
         "name": "_traces",
         "type": "group",
         "zindex": 2
        },
        {
         "from": {
          "facet": {
           "data": "distributions",
           "groupby": "trajectory",
           "name": "trajectory_split"
          }
         },
         "marks": [
          {
           "encode": {
            "hover": {
             "fillOpacity": {
              "value": 0.9
             }
            },
            "update": {
             "fill": {
              "field": "trajectory",
              "scale": "color"
             },
             "fillOpacity": [
              {
               "test": "!length(data('selected')) || indata('selected', 'value', datum.trajectory)",
               "value": 0.1
              },
              {
               "value": 0.05
              }
             ],
             "interpolate": {
              "value": "linear"
             },
             "stroke": {
              "field": "trajectory",
              "scale": "color"
             },
             "strokeOpacity": [
              {
               "test": "!length(data('selected')) || indata('selected', 'value', datum.trajectory)",
               "value": 0.1
              },
              {
               "value": 0.05
              }
             ],
             "strokeWidth": {
              "value": 2
             },
             "x": {
              "field": "timepoint",
              "scale": "xscale"
             },
             "y": {
              "field": "upper",
              "scale": "yscale"
             },
             "y2": {
              "field": "lower",
              "scale": "yscale"
             }
            }
           },
           "from": {
            "data": "trajectory_split"
           },
           "interactive": true,
           "name": "area",
           "type": "area"
          }
         ],
         "name": "_distributions",
         "type": "group",
         "zindex": 1
        },
        {
         "marks": [
          {
           "encode": {
            "enter": {
             "stroke": {
              "value": "lightgray"
             }
            },
            "update": {
             "opacity": {
              "value": 1
             },
             "x": {
              "field": "timepoint",
              "scale": "xscale"
             },
             "y": {
              "signal": "height"
             },
             "y2": {
              "value": 0
             }
            }
           },
           "from": {
            "data": "markers"
           },
           "name": "_marker text",
           "type": "rule"
          },
          {
           "encode": {
            "enter": {
             "fontSize": {
              "value": 8
             },
             "text": {
              "field": "datum.label"
             },
             "y": {
              "value": 0
             }
            }
           },
           "from": {
            "data": "_marker text"
           },
           "name": "_marker flags",
           "transform": [
            {
             "as": [
              "x",
              "_y",
              "opacity",
              "align",
              "baseline"
             ],
             "lineAnchor": "start",
             "offset": [
              1
             ],
             "size": {
              "signal": "[width, height]"
             },
             "type": "label"
            }
           ],
           "type": "text"
          }
         ],
         "name": "_markers",
         "type": "group"
        }
       ],
       "scales": [
        {
         "domain": {
          "fields": [
           {
            "data": "distributions",
            "field": "timepoint"
           },
           {
            "data": "traces",
            "field": "timepoint"
           },
           {
            "data": "points",
            "field": "timepoint"
           },
           {
            "data": "markers",
            "field": "timepoint"
           }
          ]
         },
         "name": "xscale",
         "range": "width",
         "type": "linear",
         "zero": false
        },
        {
         "domain": {
          "fields": [
           {
            "data": "distributions",
            "field": "lower"
           },
           {
            "data": "distributions",
            "field": "upper"
           },
           {
            "data": "traces",
            "field": "value"
           },
           {
            "data": "points",
            "field": "value"
           }
          ]
         },
         "name": "yscale",
         "nice": true,
         "range": "height",
         "type": "linear",
         "zero": true
        },
        {
         "domain": {
          "fields": [
           {
            "data": "distributions",
            "field": "trajectory"
           },
           {
            "data": "traces",
            "field": "trajectory"
           },
           {
            "data": "points",
            "field": "trajectory"
           }
          ],
          "sort": {
           "order": "ascending"
          }
         },
         "name": "color",
         "range": "category",
         "type": "ordinal"
        }
       ],
       "signals": [
        {
         "name": "clear",
         "on": [
          {
           "events": "mouseup[!event.item]",
           "force": true,
           "update": "true"
          }
         ],
         "value": true
        },
        {
         "name": "shift",
         "on": [
          {
           "events": "@legendSymbol:click, @legendLabel:click",
           "force": true,
           "update": "event.shiftKey"
          }
         ],
         "value": false
        },
        {
         "name": "clicked",
         "on": [
          {
           "events": "@legendSymbol:click, @legendLabel:click",
           "force": true,
           "update": "{value: datum.value}"
          }
         ],
         "value": null
        },
        {
         "name": "clearData",
         "on": [
          {
           "events": "mouseup[!event.item]",
           "force": true,
           "update": "true"
          }
         ],
         "value": true
        },
        {
         "name": "clickedData",
         "on": [
          {
           "events": "@area:click",
           "force": true,
           "update": "{value: datum.trajectory}"
          }
         ],
         "value": null
        }
       ],
       "width": 500
      }
     },
     "metadata": {},
     "output_type": "display_data"
    },
    {
     "name": "stderr",
     "output_type": "stream",
     "text": [
      "/var/folders/vn/q5vrjvfn60bfsnnd058cb6ww0000gn/T/ipykernel_89683/1312028903.py:107: FutureWarning: The provided callable <function mean at 0x109e92170> is currently using DataFrameGroupBy.mean. In a future version of pandas, the provided callable will be used directly. To keep current behavior pass the string \"mean\" instead.\n",
      "  parameters_by_sample_id = all_parameters_cluster.groupby(\"sample_id\").agg(np.mean)\n",
      "/var/folders/vn/q5vrjvfn60bfsnnd058cb6ww0000gn/T/ipykernel_89683/1312028903.py:108: FutureWarning: The provided callable <function mean at 0x109e92170> is currently using Series.mean. In a future version of pandas, the provided callable will be used directly. To keep current behavior pass the string \"mean\" instead.\n",
      "  parameters_by_sample_id  = parameters_by_sample_id.agg([np.mean, np.std]).reset_index()\n",
      "/var/folders/vn/q5vrjvfn60bfsnnd058cb6ww0000gn/T/ipykernel_89683/1312028903.py:108: FutureWarning: The provided callable <function std at 0x109e92290> is currently using Series.std. In a future version of pandas, the provided callable will be used directly. To keep current behavior pass the string \"std\" instead.\n",
      "  parameters_by_sample_id  = parameters_by_sample_id.agg([np.mean, np.std]).reset_index()\n"
     ]
    }
   ],
   "source": [
    "\n",
    "name = \"Phase_Change\"\n",
    "timepoint_list = []\n",
    "sine_list = []\n",
    "sample_list = []\n",
    "\n",
    "\n",
    "def save_result(data, name, ref_ext):\n",
    "    \"\"\"Save new reference files\"\"\"\n",
    "    _output_root = 'output'\n",
    "    mode = \"w\" if ref_ext == \"svg\" else \"wb\"\n",
    "    with open(os.path.join(_output_root, f\"{name}.{ref_ext}\"), mode) as f:\n",
    "        f.write(data)\n",
    "kmean = False\n",
    "run_functions =  [name] #[\"Straight\", \"Amp_Change\", \"Freq_Change\", \"Phase_Change\"]# #, [name]\n",
    "n_cluster = 1\n",
    "# create sine fucntions\n",
    "def return_sine_function_3(function_name):\n",
    "        if function_name == \"Straight\":\n",
    "                a, b, c, d = 0, 0, 0, random.uniform(0, 2)\n",
    "                a2, b2, c2, d2 = 0, 0, 0, 1\n",
    "        if function_name == \"Amp_Change\":\n",
    "                a, b, c, d = 1*random.uniform(0, 2), .25, 2*np.pi, random.uniform(0, 2)\n",
    "                a2, b2, c2, d2 = 1, .25, 2*np.pi, 1\n",
    "        if function_name == \"Freq_Change\":\n",
    "                a, b, c, d = 1, .25*random.uniform(0, 2), 2*np.pi, random.uniform(0, 2)\n",
    "                a2, b2, c2, d2 = 1, .25, 2*np.pi, 1\n",
    "        if function_name == \"Phase_Change\":\n",
    "                a, b, c, d = 1, .25, 2*np.pi*random.uniform(0, 2), random.uniform(0, 2)\n",
    "                a2, b2, c2, d2 = 1, .25, 2*np.pi, 1\n",
    "        def sine_function(x):\n",
    "                return np.power(x, .25) + a*np.sin(b*x + c) + d\n",
    "        def sine_function_default(x):\n",
    "                return np.power(x, .25) + a2*np.sin(b2*x + c2) + d2\n",
    "        function_parameters_individual = {'a': a,  'b': b, 'c': c,  'd': d}\n",
    "        function_parameters_default = {'a': a2, 'b': b2, 'c': c2, 'd': d2}\n",
    "        \n",
    "        return sine_function, sine_function_default, function_parameters_individual, function_parameters_default\n",
    "\n",
    "function_dataframe = pd.DataFrame(columns=['functions', 'sample_id', 'a', 'b',  'c',  'd'])\n",
    "function_list = []\n",
    "j = 0\n",
    "all_functions ={}\n",
    "\n",
    "# create sine dataframes and save the parameters used\n",
    "for funct_name in run_functions:\n",
    "        for _ in range(100):\n",
    "                j+=1\n",
    "                timepoint_list.extend([x for x in range(100)])\n",
    "                sample_list.extend([j]*100)\n",
    "                random_function,  sine_function_default, function_parameters_individual, function_parameters_default = return_sine_function_3(funct_name)\n",
    "\n",
    "                function_parameters_individual['functions'] = funct_name\n",
    "                function_parameters_individual['sample_id'] = j\n",
    "                function_list.append(function_parameters_individual)\n",
    "                sine_list.extend([random_function(x) for x in range(100)])\n",
    "        all_functions[funct_name] = sine_function_default \n",
    "        function_parameters_default['functions'] = funct_name + \" Default\"\n",
    "        function_parameters_default['sample_id'] = None\n",
    "\n",
    "#keep track of parameters\n",
    "function_dataframe = pd.DataFrame(function_list)\n",
    "function_default_dataframe =  pd.DataFrame(function_parameters_default, index=[0])\n",
    "\n",
    "\n",
    "sine_distribution= pd.DataFrame({'timepoint_id' : timepoint_list,\n",
    "                   'sample_id' : sample_list,\n",
    "                   'Example': sine_list})\n",
    "\n",
    "\n",
    "traces_list = []   \n",
    "\n",
    "# get examplary lines\n",
    "#change kmean here to use clustering\n",
    "examplary_line, trajectory_dict = pyciemss.visuals.trajectories.select_traces(sine_distribution,  select_by_list = ['mean', \"variance\", 'chaos', 'random'], kmean=kmean, n_clusters = n_cluster)\n",
    "# get the sample'id for the examplary data used per sample_id and select_by\n",
    "best_samples_cluster = examplary_line[['sample_id', 'select_by', 'cluster']].drop_duplicates()\n",
    "best_samples_df_list = []\n",
    "parameters_by_sample_id_list = []\n",
    "# for each cluster create a new plot\n",
    "for cluster in list(np.unique(examplary_line['cluster'])): \n",
    "        # for distribution only use the sample_ids in the cluster\n",
    "       \n",
    "        cluster_sample_id = trajectory_dict[cluster.lower()]['cluster_sample_id']  \n",
    "        cluster_sine_distribution =  sine_distribution[sine_distribution[\"sample_id\"].isin(cluster_sample_id)]\n",
    "        current_cluster_df = examplary_line[examplary_line['cluster'] == cluster]\n",
    "        current_cluster_df = current_cluster_df.reset_index()\n",
    "        # get right format to use as traces\n",
    "        examplary_lines_pivot = current_cluster_df[['examplary_line', 'envelope_mean', 'timepoint', 'select_by']].pivot_table(\n",
    "        values=\"examplary_line\", index = [\"timepoint\", 'envelope_mean'], columns=\"select_by\"\n",
    "        )\n",
    "        examplary_lines_pivot = examplary_lines_pivot.reset_index()\n",
    "        examplary_lines_pivot = examplary_lines_pivot.rename(columns = {'envelope_mean': 'Envelope_Mean'})\n",
    "        if len(run_functions) == 1 and not kmean:\n",
    "                # get baseline for sine functions\n",
    "                for function_name, function in all_functions.items():\n",
    "                        examplary_lines_pivot[\"Baseline_\" + function_name.title()] = [function(x) for x in range(100)]\n",
    "        #plot the traces along with the baselines\n",
    "        schema = plots.trajectories(cluster_sine_distribution[['timepoint_id', 'sample_id', 'Example']], traces = examplary_lines_pivot)\n",
    "        path = \"{}_{}\".format(name, cluster)\n",
    "        image = plots.ipy_display(schema, format=\"PNG\").data\n",
    "        save_result(image, path, \"png\")\n",
    "        plots.ipy_display(schema, format=\"interactive\")\n",
    "\n",
    "        # get average and std of parameter cluster\n",
    "        all_parameters_cluster = cluster_sine_distribution.merge(function_dataframe, how=\"inner\", on=\"sample_id\")[['sample_id', 'a', 'b', 'c', 'd']]\n",
    "        parameters_by_sample_id = all_parameters_cluster.groupby(\"sample_id\").agg(np.mean)\n",
    "        parameters_by_sample_id  = parameters_by_sample_id.agg([np.mean, np.std]).reset_index()\n",
    "        parameters_by_sample_id['cluster'] = cluster\n",
    "        parameters_by_sample_id['num'] = len(cluster_sample_id)\n",
    "        parameters_by_sample_id_list.append(parameters_by_sample_id)\n",
    "parameters_metrics = pd.concat(parameters_by_sample_id_list)\n",
    "parameters_metrics.to_csv(\"output/{}_parameter_info.csv\".format(name))\n",
    "if len(run_functions) == 1 and not kmean:\n",
    "        # clean up table to get the parameters of the samples id's used for examplary\n",
    "        all_clusters = best_samples_cluster.merge(function_dataframe, how=\"inner\", on=\"sample_id\")\n",
    "        all_clusters = pd.concat([all_clusters, function_default_dataframe])[['functions', 'select_by', 'a', 'b', 'c', 'd']]\n",
    "        all_clusters = all_clusters.rename(columns = {'functions': 'Function Name', 'select_by': \"Selection Method\"})\n",
    "        all_clusters[\"Function Name\"] = all_clusters[\"Function Name\"].apply(lambda x: x.replace(\"_\", \" \").title())\n",
    "        all_clusters[\"Examplar #\"] = all_clusters[\"Selection Method\"].apply(lambda x: 1 if len(str(x).split(\"_\")) < 2 else str(x).split(\"_\")[1])\n",
    "        all_clusters[\"Selection Method\"] = all_clusters[\"Selection Method\"].apply(lambda x:  str(x).split(\"_\")[0])\n",
    "        all_clusters = all_clusters.round(2)\n",
    "\n",
    "\n",
    "        all_clusters.to_csv(\"output/{}.csv\".format(name))\n",
    "        # table with sine variables of starting function and the formula of the best select_by lines and metrics1"
   ]
  },
  {
   "cell_type": "code",
   "execution_count": 28,
   "metadata": {},
   "outputs": [
    {
     "name": "stdout",
     "output_type": "stream",
     "text": [
      "\n",
      "Granger Causality\n",
      "number of lags (no zero) 10\n",
      "ssr based F test:         F=1.1024  , p=0.3729  , df_denom=69, df_num=10\n",
      "ssr based chi2 test:   chi2=14.3796 , p=0.1564  , df=10\n",
      "likelihood ratio test: chi2=13.3402 , p=0.2053  , df=10\n",
      "parameter F test:         F=1.1024  , p=0.3729  , df_denom=69, df_num=10\n",
      "\n",
      "Granger Causality\n",
      "number of lags (no zero) 10\n",
      "ssr based F test:         F=1.8457  , p=0.0685  , df_denom=69, df_num=10\n",
      "ssr based chi2 test:   chi2=24.0749 , p=0.0074  , df=10\n",
      "likelihood ratio test: chi2=21.3341 , p=0.0189  , df=10\n",
      "parameter F test:         F=1.8457  , p=0.0685  , df_denom=69, df_num=10\n",
      "\n",
      "Granger Causality\n",
      "number of lags (no zero) 10\n",
      "ssr based F test:         F=1.4706  , p=0.1694  , df_denom=69, df_num=10\n",
      "ssr based chi2 test:   chi2=19.1812 , p=0.0380  , df=10\n",
      "likelihood ratio test: chi2=17.3879 , p=0.0662  , df=10\n",
      "parameter F test:         F=1.4706  , p=0.1694  , df_denom=69, df_num=10\n",
      "\n",
      "Granger Causality\n",
      "number of lags (no zero) 10\n",
      "ssr based F test:         F=1.4215  , p=0.1894  , df_denom=69, df_num=10\n",
      "ssr based chi2 test:   chi2=18.5415 , p=0.0465  , df=10\n",
      "likelihood ratio test: chi2=16.8591 , p=0.0775  , df=10\n",
      "parameter F test:         F=1.4215  , p=0.1894  , df_denom=69, df_num=10\n",
      "\n",
      "Granger Causality\n",
      "number of lags (no zero) 10\n",
      "ssr based F test:         F=0.6765  , p=0.7423  , df_denom=69, df_num=10\n",
      "ssr based chi2 test:   chi2=8.8245  , p=0.5488  , df=10\n",
      "likelihood ratio test: chi2=8.4183  , p=0.5881  , df=10\n",
      "parameter F test:         F=0.6765  , p=0.7423  , df_denom=69, df_num=10\n",
      "\n",
      "Granger Causality\n",
      "number of lags (no zero) 10\n",
      "ssr based F test:         F=0.4925  , p=0.8893  , df_denom=69, df_num=10\n",
      "ssr based chi2 test:   chi2=6.4243  , p=0.7784  , df=10\n",
      "likelihood ratio test: chi2=6.2054  , p=0.7977  , df=10\n",
      "parameter F test:         F=0.4925  , p=0.8893  , df_denom=69, df_num=10\n",
      "\n",
      "Granger Causality\n",
      "number of lags (no zero) 10\n",
      "ssr based F test:         F=0.5488  , p=0.8492  , df_denom=69, df_num=10\n",
      "ssr based chi2 test:   chi2=7.1578  , p=0.7105  , df=10\n",
      "likelihood ratio test: chi2=6.8874  , p=0.7360  , df=10\n",
      "parameter F test:         F=0.5488  , p=0.8492  , df_denom=69, df_num=10\n",
      "\n",
      "Granger Causality\n",
      "number of lags (no zero) 10\n",
      "ssr based F test:         F=0.5190  , p=0.8711  , df_denom=69, df_num=10\n",
      "ssr based chi2 test:   chi2=6.7699  , p=0.7470  , df=10\n",
      "likelihood ratio test: chi2=6.5274  , p=0.7692  , df=10\n",
      "parameter F test:         F=0.5190  , p=0.8711  , df_denom=69, df_num=10\n",
      "\n",
      "Granger Causality\n",
      "number of lags (no zero) 10\n",
      "ssr based F test:         F=0.7848  , p=0.6431  , df_denom=69, df_num=10\n",
      "ssr based chi2 test:   chi2=10.2367 , p=0.4200  , df=10\n",
      "likelihood ratio test: chi2=9.6953  , p=0.4676  , df=10\n",
      "parameter F test:         F=0.7848  , p=0.6431  , df_denom=69, df_num=10\n",
      "\n",
      "Granger Causality\n",
      "number of lags (no zero) 10\n",
      "ssr based F test:         F=0.5418  , p=0.8544  , df_denom=69, df_num=10\n",
      "ssr based chi2 test:   chi2=7.0671  , p=0.7191  , df=10\n",
      "likelihood ratio test: chi2=6.8033  , p=0.7439  , df=10\n",
      "parameter F test:         F=0.5418  , p=0.8544  , df_denom=69, df_num=10\n",
      "\n",
      "Granger Causality\n",
      "number of lags (no zero) 10\n",
      "ssr based F test:         F=0.4836  , p=0.8952  , df_denom=69, df_num=10\n",
      "ssr based chi2 test:   chi2=6.3076  , p=0.7888  , df=10\n",
      "likelihood ratio test: chi2=6.0964  , p=0.8071  , df=10\n",
      "parameter F test:         F=0.4836  , p=0.8952  , df_denom=69, df_num=10\n",
      "\n",
      "Granger Causality\n",
      "number of lags (no zero) 10\n",
      "ssr based F test:         F=0.6214  , p=0.7905  , df_denom=69, df_num=10\n",
      "ssr based chi2 test:   chi2=8.1053  , p=0.6186  , df=10\n",
      "likelihood ratio test: chi2=7.7608  , p=0.6522  , df=10\n",
      "parameter F test:         F=0.6214  , p=0.7905  , df_denom=69, df_num=10\n",
      "\n",
      "Granger Causality\n",
      "number of lags (no zero) 10\n",
      "ssr based F test:         F=0.7175  , p=0.7052  , df_denom=69, df_num=10\n",
      "ssr based chi2 test:   chi2=9.3589  , p=0.4984  , df=10\n",
      "likelihood ratio test: chi2=8.9036  , p=0.5413  , df=10\n",
      "parameter F test:         F=0.7175  , p=0.7052  , df_denom=69, df_num=10\n",
      "\n",
      "Granger Causality\n",
      "number of lags (no zero) 10\n",
      "ssr based F test:         F=0.4921  , p=0.8896  , df_denom=69, df_num=10\n",
      "ssr based chi2 test:   chi2=6.4181  , p=0.7790  , df=10\n",
      "likelihood ratio test: chi2=6.1996  , p=0.7982  , df=10\n",
      "parameter F test:         F=0.4921  , p=0.8896  , df_denom=69, df_num=10\n",
      "\n",
      "Granger Causality\n",
      "number of lags (no zero) 10\n",
      "ssr based F test:         F=0.9950  , p=0.4564  , df_denom=69, df_num=10\n",
      "ssr based chi2 test:   chi2=12.9785 , p=0.2249  , df=10\n",
      "likelihood ratio test: chi2=12.1239 , p=0.2768  , df=10\n",
      "parameter F test:         F=0.9950  , p=0.4564  , df_denom=69, df_num=10\n",
      "\n",
      "Granger Causality\n",
      "number of lags (no zero) 10\n",
      "ssr based F test:         F=1.6948  , p=0.0995  , df_denom=69, df_num=10\n",
      "ssr based chi2 test:   chi2=22.1067 , p=0.0146  , df=10\n",
      "likelihood ratio test: chi2=19.7677 , p=0.0315  , df=10\n",
      "parameter F test:         F=1.6948  , p=0.0995  , df_denom=69, df_num=10\n",
      "\n",
      "Granger Causality\n",
      "number of lags (no zero) 10\n",
      "ssr based F test:         F=0.5777  , p=0.8266  , df_denom=69, df_num=10\n",
      "ssr based chi2 test:   chi2=7.5357  , p=0.6741  , df=10\n",
      "likelihood ratio test: chi2=7.2368  , p=0.7029  , df=10\n",
      "parameter F test:         F=0.5777  , p=0.8266  , df_denom=69, df_num=10\n",
      "\n",
      "Granger Causality\n",
      "number of lags (no zero) 10\n",
      "ssr based F test:         F=1.0895  , p=0.3824  , df_denom=69, df_num=10\n",
      "ssr based chi2 test:   chi2=14.2106 , p=0.1636  , df=10\n",
      "likelihood ratio test: chi2=13.1944 , p=0.2130  , df=10\n",
      "parameter F test:         F=1.0895  , p=0.3824  , df_denom=69, df_num=10\n",
      "\n",
      "Granger Causality\n",
      "number of lags (no zero) 10\n",
      "ssr based F test:         F=1.0041  , p=0.4490  , df_denom=69, df_num=10\n",
      "ssr based chi2 test:   chi2=13.0964 , p=0.2183  , df=10\n",
      "likelihood ratio test: chi2=12.2270 , p=0.2702  , df=10\n",
      "parameter F test:         F=1.0041  , p=0.4490  , df_denom=69, df_num=10\n",
      "\n",
      "Granger Causality\n",
      "number of lags (no zero) 10\n",
      "ssr based F test:         F=0.9139  , p=0.5256  , df_denom=69, df_num=10\n",
      "ssr based chi2 test:   chi2=11.9210 , p=0.2904  , df=10\n",
      "likelihood ratio test: chi2=11.1950 , p=0.3425  , df=10\n",
      "parameter F test:         F=0.9139  , p=0.5256  , df_denom=69, df_num=10\n",
      "\n",
      "Granger Causality\n",
      "number of lags (no zero) 10\n",
      "ssr based F test:         F=1.2946  , p=0.2510  , df_denom=69, df_num=10\n",
      "ssr based chi2 test:   chi2=16.8858 , p=0.0769  , df=10\n",
      "likelihood ratio test: chi2=15.4756 , p=0.1157  , df=10\n",
      "parameter F test:         F=1.2946  , p=0.2510  , df_denom=69, df_num=10\n",
      "\n",
      "Granger Causality\n",
      "number of lags (no zero) 10\n",
      "ssr based F test:         F=1.0109  , p=0.4434  , df_denom=69, df_num=10\n",
      "ssr based chi2 test:   chi2=13.1856 , p=0.2135  , df=10\n",
      "likelihood ratio test: chi2=12.3047 , p=0.2652  , df=10\n",
      "parameter F test:         F=1.0109  , p=0.4434  , df_denom=69, df_num=10\n",
      "\n",
      "Granger Causality\n",
      "number of lags (no zero) 10\n",
      "ssr based F test:         F=1.4240  , p=0.1884  , df_denom=69, df_num=10\n",
      "ssr based chi2 test:   chi2=18.5743 , p=0.0460  , df=10\n",
      "likelihood ratio test: chi2=16.8863 , p=0.0769  , df=10\n",
      "parameter F test:         F=1.4240  , p=0.1884  , df_denom=69, df_num=10\n",
      "\n",
      "Granger Causality\n",
      "number of lags (no zero) 10\n",
      "ssr based F test:         F=1.4538  , p=0.1760  , df_denom=69, df_num=10\n",
      "ssr based chi2 test:   chi2=18.9629 , p=0.0407  , df=10\n",
      "likelihood ratio test: chi2=17.2078 , p=0.0699  , df=10\n",
      "parameter F test:         F=1.4538  , p=0.1760  , df_denom=69, df_num=10\n",
      "\n",
      "Granger Causality\n",
      "number of lags (no zero) 10\n",
      "ssr based F test:         F=0.9523  , p=0.4923  , df_denom=69, df_num=10\n",
      "ssr based chi2 test:   chi2=12.4216 , p=0.2578  , df=10\n",
      "likelihood ratio test: chi2=11.6360 , p=0.3102  , df=10\n",
      "parameter F test:         F=0.9523  , p=0.4923  , df_denom=69, df_num=10\n",
      "\n",
      "Granger Causality\n",
      "number of lags (no zero) 10\n",
      "ssr based F test:         F=0.5106  , p=0.8770  , df_denom=69, df_num=10\n",
      "ssr based chi2 test:   chi2=6.6605  , p=0.7571  , df=10\n",
      "likelihood ratio test: chi2=6.4256  , p=0.7783  , df=10\n",
      "parameter F test:         F=0.5106  , p=0.8770  , df_denom=69, df_num=10\n",
      "\n",
      "Granger Causality\n",
      "number of lags (no zero) 10\n",
      "ssr based F test:         F=1.0715  , p=0.3959  , df_denom=69, df_num=10\n",
      "ssr based chi2 test:   chi2=13.9763 , p=0.1741  , df=10\n",
      "likelihood ratio test: chi2=12.9918 , p=0.2241  , df=10\n",
      "parameter F test:         F=1.0715  , p=0.3959  , df_denom=69, df_num=10\n",
      "\n",
      "Granger Causality\n",
      "number of lags (no zero) 10\n",
      "ssr based F test:         F=1.6693  , p=0.1058  , df_denom=69, df_num=10\n",
      "ssr based chi2 test:   chi2=21.7733 , p=0.0163  , df=10\n",
      "likelihood ratio test: chi2=19.4996 , p=0.0344  , df=10\n",
      "parameter F test:         F=1.6693  , p=0.1058  , df_denom=69, df_num=10\n",
      "\n",
      "Granger Causality\n",
      "number of lags (no zero) 10\n",
      "ssr based F test:         F=2.3002  , p=0.0214  , df_denom=69, df_num=10\n",
      "ssr based chi2 test:   chi2=30.0026 , p=0.0009  , df=10\n",
      "likelihood ratio test: chi2=25.8933 , p=0.0039  , df=10\n",
      "parameter F test:         F=2.3002  , p=0.0214  , df_denom=69, df_num=10\n",
      "\n",
      "Granger Causality\n",
      "number of lags (no zero) 10\n",
      "ssr based F test:         F=0.4754  , p=0.9004  , df_denom=69, df_num=10\n",
      "ssr based chi2 test:   chi2=6.2007  , p=0.7981  , df=10\n",
      "likelihood ratio test: chi2=5.9965  , p=0.8156  , df=10\n",
      "parameter F test:         F=0.4754  , p=0.9004  , df_denom=69, df_num=10\n",
      "\n",
      "Granger Causality\n",
      "number of lags (no zero) 10\n",
      "ssr based F test:         F=0.3091  , p=0.9764  , df_denom=69, df_num=10\n",
      "ssr based chi2 test:   chi2=4.0314  , p=0.9459  , df=10\n",
      "likelihood ratio test: chi2=3.9437  , p=0.9499  , df=10\n",
      "parameter F test:         F=0.3091  , p=0.9764  , df_denom=69, df_num=10\n",
      "\n",
      "Granger Causality\n",
      "number of lags (no zero) 10\n",
      "ssr based F test:         F=0.7273  , p=0.6962  , df_denom=69, df_num=10\n",
      "ssr based chi2 test:   chi2=9.4861  , p=0.4867  , df=10\n",
      "likelihood ratio test: chi2=9.0187  , p=0.5303  , df=10\n",
      "parameter F test:         F=0.7273  , p=0.6962  , df_denom=69, df_num=10\n",
      "\n",
      "Granger Causality\n",
      "number of lags (no zero) 10\n",
      "ssr based F test:         F=1.5942  , p=0.1268  , df_denom=69, df_num=10\n",
      "ssr based chi2 test:   chi2=20.7937 , p=0.0226  , df=10\n",
      "likelihood ratio test: chi2=18.7074 , p=0.0441  , df=10\n",
      "parameter F test:         F=1.5942  , p=0.1268  , df_denom=69, df_num=10\n",
      "\n",
      "Granger Causality\n",
      "number of lags (no zero) 10\n",
      "ssr based F test:         F=0.8732  , p=0.5620  , df_denom=69, df_num=10\n",
      "ssr based chi2 test:   chi2=11.3901 , p=0.3279  , df=10\n",
      "likelihood ratio test: chi2=10.7249 , p=0.3793  , df=10\n",
      "parameter F test:         F=0.8732  , p=0.5620  , df_denom=69, df_num=10\n",
      "\n",
      "Granger Causality\n",
      "number of lags (no zero) 10\n",
      "ssr based F test:         F=1.1329  , p=0.3512  , df_denom=69, df_num=10\n",
      "ssr based chi2 test:   chi2=14.7765 , p=0.1404  , df=10\n",
      "likelihood ratio test: chi2=13.6818 , p=0.1880  , df=10\n",
      "parameter F test:         F=1.1329  , p=0.3512  , df_denom=69, df_num=10\n",
      "\n",
      "Granger Causality\n",
      "number of lags (no zero) 10\n",
      "ssr based F test:         F=1.5883  , p=0.1285  , df_denom=69, df_num=10\n",
      "ssr based chi2 test:   chi2=20.7175 , p=0.0232  , df=10\n",
      "likelihood ratio test: chi2=18.6455 , p=0.0450  , df=10\n",
      "parameter F test:         F=1.5883  , p=0.1285  , df_denom=69, df_num=10\n",
      "\n",
      "Granger Causality\n",
      "number of lags (no zero) 10\n",
      "ssr based F test:         F=1.8032  , p=0.0762  , df_denom=69, df_num=10\n",
      "ssr based chi2 test:   chi2=23.5196 , p=0.0090  , df=10\n",
      "likelihood ratio test: chi2=20.8949 , p=0.0218  , df=10\n",
      "parameter F test:         F=1.8032  , p=0.0762  , df_denom=69, df_num=10\n",
      "\n",
      "Granger Causality\n",
      "number of lags (no zero) 10\n",
      "ssr based F test:         F=2.3691  , p=0.0179  , df_denom=69, df_num=10\n",
      "ssr based chi2 test:   chi2=30.9018 , p=0.0006  , df=10\n",
      "likelihood ratio test: chi2=26.5652 , p=0.0030  , df=10\n",
      "parameter F test:         F=2.3691  , p=0.0179  , df_denom=69, df_num=10\n",
      "\n",
      "Granger Causality\n",
      "number of lags (no zero) 10\n",
      "ssr based F test:         F=1.8004  , p=0.0767  , df_denom=69, df_num=10\n",
      "ssr based chi2 test:   chi2=23.4837 , p=0.0091  , df=10\n",
      "likelihood ratio test: chi2=20.8664 , p=0.0220  , df=10\n",
      "parameter F test:         F=1.8004  , p=0.0767  , df_denom=69, df_num=10\n",
      "\n",
      "Granger Causality\n",
      "number of lags (no zero) 10\n",
      "ssr based F test:         F=1.0177  , p=0.4379  , df_denom=69, df_num=10\n",
      "ssr based chi2 test:   chi2=13.2748 , p=0.2087  , df=10\n",
      "likelihood ratio test: chi2=12.3825 , p=0.2603  , df=10\n",
      "parameter F test:         F=1.0177  , p=0.4379  , df_denom=69, df_num=10\n",
      "\n",
      "Granger Causality\n",
      "number of lags (no zero) 10\n",
      "ssr based F test:         F=1.6794  , p=0.1033  , df_denom=69, df_num=10\n",
      "ssr based chi2 test:   chi2=21.9052 , p=0.0156  , df=10\n",
      "likelihood ratio test: chi2=19.6058 , p=0.0332  , df=10\n",
      "parameter F test:         F=1.6794  , p=0.1033  , df_denom=69, df_num=10\n",
      "\n",
      "Granger Causality\n",
      "number of lags (no zero) 10\n",
      "ssr based F test:         F=1.3329  , p=0.2309  , df_denom=69, df_num=10\n",
      "ssr based chi2 test:   chi2=17.3859 , p=0.0662  , df=10\n",
      "likelihood ratio test: chi2=15.8958 , p=0.1027  , df=10\n",
      "parameter F test:         F=1.3329  , p=0.2309  , df_denom=69, df_num=10\n",
      "\n",
      "Granger Causality\n",
      "number of lags (no zero) 10\n",
      "ssr based F test:         F=1.2433  , p=0.2800  , df_denom=69, df_num=10\n",
      "ssr based chi2 test:   chi2=16.2176 , p=0.0936  , df=10\n",
      "likelihood ratio test: chi2=14.9112 , p=0.1353  , df=10\n",
      "parameter F test:         F=1.2433  , p=0.2800  , df_denom=69, df_num=10\n",
      "\n",
      "Granger Causality\n",
      "number of lags (no zero) 10\n",
      "ssr based F test:         F=1.7082  , p=0.0963  , df_denom=69, df_num=10\n",
      "ssr based chi2 test:   chi2=22.2812 , p=0.0137  , df=10\n",
      "likelihood ratio test: chi2=19.9077 , p=0.0301  , df=10\n",
      "parameter F test:         F=1.7082  , p=0.0963  , df_denom=69, df_num=10\n",
      "\n",
      "Granger Causality\n",
      "number of lags (no zero) 10\n",
      "ssr based F test:         F=0.7118  , p=0.7104  , df_denom=69, df_num=10\n",
      "ssr based chi2 test:   chi2=9.2844  , p=0.5053  , df=10\n",
      "likelihood ratio test: chi2=8.8361  , p=0.5477  , df=10\n",
      "parameter F test:         F=0.7118  , p=0.7104  , df_denom=69, df_num=10\n",
      "\n",
      "Granger Causality\n",
      "number of lags (no zero) 10\n",
      "ssr based F test:         F=0.7624  , p=0.6638  , df_denom=69, df_num=10\n",
      "ssr based chi2 test:   chi2=9.9441  , p=0.4454  , df=10\n",
      "likelihood ratio test: chi2=9.4321  , p=0.4916  , df=10\n",
      "parameter F test:         F=0.7624  , p=0.6638  , df_denom=69, df_num=10\n",
      "\n",
      "Granger Causality\n",
      "number of lags (no zero) 10\n",
      "ssr based F test:         F=1.7727  , p=0.0822  , df_denom=69, df_num=10\n",
      "ssr based chi2 test:   chi2=23.1228 , p=0.0103  , df=10\n",
      "likelihood ratio test: chi2=20.5798 , p=0.0242  , df=10\n",
      "parameter F test:         F=1.7727  , p=0.0822  , df_denom=69, df_num=10\n",
      "\n",
      "Granger Causality\n",
      "number of lags (no zero) 10\n",
      "ssr based F test:         F=0.7487  , p=0.6765  , df_denom=69, df_num=10\n",
      "ssr based chi2 test:   chi2=9.7662  , p=0.4612  , df=10\n",
      "likelihood ratio test: chi2=9.2718  , p=0.5065  , df=10\n",
      "parameter F test:         F=0.7487  , p=0.6765  , df_denom=69, df_num=10\n",
      "\n",
      "Granger Causality\n",
      "number of lags (no zero) 10\n",
      "ssr based F test:         F=0.5742  , p=0.8295  , df_denom=69, df_num=10\n",
      "ssr based chi2 test:   chi2=7.4893  , p=0.6786  , df=10\n",
      "likelihood ratio test: chi2=7.1940  , p=0.7070  , df=10\n",
      "parameter F test:         F=0.5742  , p=0.8295  , df_denom=69, df_num=10\n",
      "\n",
      "Granger Causality\n",
      "number of lags (no zero) 10\n",
      "ssr based F test:         F=1.4259  , p=0.1875  , df_denom=69, df_num=10\n",
      "ssr based chi2 test:   chi2=18.5991 , p=0.0457  , df=10\n",
      "likelihood ratio test: chi2=16.9068 , p=0.0765  , df=10\n",
      "parameter F test:         F=1.4259  , p=0.1875  , df_denom=69, df_num=10\n",
      "\n",
      "Granger Causality\n",
      "number of lags (no zero) 10\n",
      "ssr based F test:         F=0.8667  , p=0.5679  , df_denom=69, df_num=10\n",
      "ssr based chi2 test:   chi2=11.3047 , p=0.3343  , df=10\n",
      "likelihood ratio test: chi2=10.6491 , p=0.3855  , df=10\n",
      "parameter F test:         F=0.8667  , p=0.5679  , df_denom=69, df_num=10\n",
      "\n",
      "Granger Causality\n",
      "number of lags (no zero) 10\n",
      "ssr based F test:         F=0.8419  , p=0.5905  , df_denom=69, df_num=10\n",
      "ssr based chi2 test:   chi2=10.9811 , p=0.3590  , df=10\n",
      "likelihood ratio test: chi2=10.3612 , p=0.4094  , df=10\n",
      "parameter F test:         F=0.8419  , p=0.5905  , df_denom=69, df_num=10\n",
      "\n",
      "Granger Causality\n",
      "number of lags (no zero) 10\n",
      "ssr based F test:         F=0.7946  , p=0.6340  , df_denom=69, df_num=10\n",
      "ssr based chi2 test:   chi2=10.3644 , p=0.4091  , df=10\n",
      "likelihood ratio test: chi2=9.8098  , p=0.4573  , df=10\n",
      "parameter F test:         F=0.7946  , p=0.6340  , df_denom=69, df_num=10\n",
      "\n",
      "Granger Causality\n",
      "number of lags (no zero) 10\n",
      "ssr based F test:         F=0.4496  , p=0.9161  , df_denom=69, df_num=10\n",
      "ssr based chi2 test:   chi2=5.8641  , p=0.8265  , df=10\n",
      "likelihood ratio test: chi2=5.6810  , p=0.8413  , df=10\n",
      "parameter F test:         F=0.4496  , p=0.9161  , df_denom=69, df_num=10\n",
      "\n",
      "Granger Causality\n",
      "number of lags (no zero) 10\n",
      "ssr based F test:         F=1.6766  , p=0.1040  , df_denom=69, df_num=10\n",
      "ssr based chi2 test:   chi2=21.8690 , p=0.0158  , df=10\n",
      "likelihood ratio test: chi2=19.5767 , p=0.0335  , df=10\n",
      "parameter F test:         F=1.6766  , p=0.1040  , df_denom=69, df_num=10\n",
      "\n",
      "Granger Causality\n",
      "number of lags (no zero) 10\n",
      "ssr based F test:         F=0.5377  , p=0.8575  , df_denom=69, df_num=10\n",
      "ssr based chi2 test:   chi2=7.0133  , p=0.7242  , df=10\n",
      "likelihood ratio test: chi2=6.7534  , p=0.7485  , df=10\n",
      "parameter F test:         F=0.5377  , p=0.8575  , df_denom=69, df_num=10\n",
      "\n",
      "Granger Causality\n",
      "number of lags (no zero) 10\n",
      "ssr based F test:         F=2.0120  , p=0.0450  , df_denom=69, df_num=10\n",
      "ssr based chi2 test:   chi2=26.2438 , p=0.0034  , df=10\n",
      "likelihood ratio test: chi2=23.0292 , p=0.0106  , df=10\n",
      "parameter F test:         F=2.0120  , p=0.0450  , df_denom=69, df_num=10\n",
      "\n",
      "Granger Causality\n",
      "number of lags (no zero) 10\n",
      "ssr based F test:         F=1.0679  , p=0.3986  , df_denom=69, df_num=10\n",
      "ssr based chi2 test:   chi2=13.9295 , p=0.1762  , df=10\n",
      "likelihood ratio test: chi2=12.9513 , p=0.2264  , df=10\n",
      "parameter F test:         F=1.0679  , p=0.3986  , df_denom=69, df_num=10\n",
      "\n",
      "Granger Causality\n",
      "number of lags (no zero) 10\n",
      "ssr based F test:         F=0.5147  , p=0.8741  , df_denom=69, df_num=10\n",
      "ssr based chi2 test:   chi2=6.7134  , p=0.7522  , df=10\n",
      "likelihood ratio test: chi2=6.4748  , p=0.7739  , df=10\n",
      "parameter F test:         F=0.5147  , p=0.8741  , df_denom=69, df_num=10\n",
      "\n",
      "Granger Causality\n",
      "number of lags (no zero) 10\n",
      "ssr based F test:         F=1.0023  , p=0.4504  , df_denom=69, df_num=10\n",
      "ssr based chi2 test:   chi2=13.0730 , p=0.2196  , df=10\n",
      "likelihood ratio test: chi2=12.2065 , p=0.2715  , df=10\n",
      "parameter F test:         F=1.0023  , p=0.4504  , df_denom=69, df_num=10\n",
      "\n",
      "Granger Causality\n",
      "number of lags (no zero) 10\n",
      "ssr based F test:         F=0.5770  , p=0.8272  , df_denom=69, df_num=10\n",
      "ssr based chi2 test:   chi2=7.5255  , p=0.6751  , df=10\n",
      "likelihood ratio test: chi2=7.2274  , p=0.7038  , df=10\n",
      "parameter F test:         F=0.5770  , p=0.8272  , df_denom=69, df_num=10\n",
      "\n",
      "Granger Causality\n",
      "number of lags (no zero) 10\n",
      "ssr based F test:         F=1.5843  , p=0.1298  , df_denom=69, df_num=10\n",
      "ssr based chi2 test:   chi2=20.6642 , p=0.0236  , df=10\n",
      "likelihood ratio test: chi2=18.6022 , p=0.0456  , df=10\n",
      "parameter F test:         F=1.5843  , p=0.1298  , df_denom=69, df_num=10\n",
      "\n",
      "Granger Causality\n",
      "number of lags (no zero) 10\n",
      "ssr based F test:         F=0.8937  , p=0.5436  , df_denom=69, df_num=10\n",
      "ssr based chi2 test:   chi2=11.6571 , p=0.3087  , df=10\n",
      "likelihood ratio test: chi2=10.9616 , p=0.3605  , df=10\n",
      "parameter F test:         F=0.8937  , p=0.5436  , df_denom=69, df_num=10\n",
      "\n",
      "Granger Causality\n",
      "number of lags (no zero) 10\n",
      "ssr based F test:         F=1.0762  , p=0.3923  , df_denom=69, df_num=10\n",
      "ssr based chi2 test:   chi2=14.0380 , p=0.1713  , df=10\n",
      "likelihood ratio test: chi2=13.0452 , p=0.2212  , df=10\n",
      "parameter F test:         F=1.0762  , p=0.3923  , df_denom=69, df_num=10\n",
      "\n",
      "Granger Causality\n",
      "number of lags (no zero) 10\n",
      "ssr based F test:         F=0.7788  , p=0.6486  , df_denom=69, df_num=10\n",
      "ssr based chi2 test:   chi2=10.1589 , p=0.4267  , df=10\n",
      "likelihood ratio test: chi2=9.6253  , p=0.4740  , df=10\n",
      "parameter F test:         F=0.7788  , p=0.6486  , df_denom=69, df_num=10\n",
      "\n",
      "Granger Causality\n",
      "number of lags (no zero) 10\n",
      "ssr based F test:         F=1.5158  , p=0.1525  , df_denom=69, df_num=10\n",
      "ssr based chi2 test:   chi2=19.7716 , p=0.0315  , df=10\n",
      "likelihood ratio test: chi2=17.8733 , p=0.0571  , df=10\n",
      "parameter F test:         F=1.5158  , p=0.1525  , df_denom=69, df_num=10\n",
      "\n",
      "Granger Causality\n",
      "number of lags (no zero) 10\n",
      "ssr based F test:         F=0.9057  , p=0.5329  , df_denom=69, df_num=10\n",
      "ssr based chi2 test:   chi2=11.8141 , p=0.2977  , df=10\n",
      "likelihood ratio test: chi2=11.1005 , p=0.3497  , df=10\n",
      "parameter F test:         F=0.9057  , p=0.5329  , df_denom=69, df_num=10\n",
      "\n",
      "Granger Causality\n",
      "number of lags (no zero) 10\n",
      "ssr based F test:         F=1.1905  , p=0.3125  , df_denom=69, df_num=10\n",
      "ssr based chi2 test:   chi2=15.5289 , p=0.1139  , df=10\n",
      "likelihood ratio test: chi2=14.3257 , p=0.1586  , df=10\n",
      "parameter F test:         F=1.1905  , p=0.3125  , df_denom=69, df_num=10\n",
      "\n",
      "Granger Causality\n",
      "number of lags (no zero) 10\n",
      "ssr based F test:         F=1.4815  , p=0.1651  , df_denom=69, df_num=10\n",
      "ssr based chi2 test:   chi2=19.3234 , p=0.0363  , df=10\n",
      "likelihood ratio test: chi2=17.5051 , p=0.0639  , df=10\n",
      "parameter F test:         F=1.4815  , p=0.1651  , df_denom=69, df_num=10\n",
      "\n",
      "Granger Causality\n",
      "number of lags (no zero) 10\n",
      "ssr based F test:         F=0.8113  , p=0.6186  , df_denom=69, df_num=10\n",
      "ssr based chi2 test:   chi2=10.5827 , p=0.3909  , df=10\n",
      "likelihood ratio test: chi2=10.0053 , p=0.4400  , df=10\n",
      "parameter F test:         F=0.8113  , p=0.6186  , df_denom=69, df_num=10\n",
      "\n",
      "Granger Causality\n",
      "number of lags (no zero) 10\n",
      "ssr based F test:         F=0.4885  , p=0.8919  , df_denom=69, df_num=10\n",
      "ssr based chi2 test:   chi2=6.3723  , p=0.7831  , df=10\n",
      "likelihood ratio test: chi2=6.1568  , p=0.8019  , df=10\n",
      "parameter F test:         F=0.4885  , p=0.8919  , df_denom=69, df_num=10\n",
      "\n",
      "Granger Causality\n",
      "number of lags (no zero) 10\n",
      "ssr based F test:         F=0.6629  , p=0.7545  , df_denom=69, df_num=10\n",
      "ssr based chi2 test:   chi2=8.6466  , p=0.5659  , df=10\n",
      "likelihood ratio test: chi2=8.2561  , p=0.6038  , df=10\n",
      "parameter F test:         F=0.6629  , p=0.7545  , df_denom=69, df_num=10\n",
      "\n",
      "Granger Causality\n",
      "number of lags (no zero) 10\n",
      "ssr based F test:         F=1.1148  , p=0.3640  , df_denom=69, df_num=10\n",
      "ssr based chi2 test:   chi2=14.5403 , p=0.1497  , df=10\n",
      "likelihood ratio test: chi2=13.4787 , p=0.1981  , df=10\n",
      "parameter F test:         F=1.1148  , p=0.3640  , df_denom=69, df_num=10\n",
      "\n",
      "Granger Causality\n",
      "number of lags (no zero) 10\n",
      "ssr based F test:         F=1.1450  , p=0.3428  , df_denom=69, df_num=10\n",
      "ssr based chi2 test:   chi2=14.9344 , p=0.1345  , df=10\n",
      "likelihood ratio test: chi2=13.8173 , p=0.1815  , df=10\n",
      "parameter F test:         F=1.1450  , p=0.3428  , df_denom=69, df_num=10\n",
      "\n",
      "Granger Causality\n",
      "number of lags (no zero) 10\n",
      "ssr based F test:         F=1.2399  , p=0.2820  , df_denom=69, df_num=10\n",
      "ssr based chi2 test:   chi2=16.1731 , p=0.0948  , df=10\n",
      "likelihood ratio test: chi2=14.8735 , p=0.1367  , df=10\n",
      "parameter F test:         F=1.2399  , p=0.2820  , df_denom=69, df_num=10\n",
      "\n",
      "Granger Causality\n",
      "number of lags (no zero) 10\n",
      "ssr based F test:         F=1.0682  , p=0.3984  , df_denom=69, df_num=10\n",
      "ssr based chi2 test:   chi2=13.9331 , p=0.1761  , df=10\n",
      "likelihood ratio test: chi2=12.9544 , p=0.2262  , df=10\n",
      "parameter F test:         F=1.0682  , p=0.3984  , df_denom=69, df_num=10\n",
      "\n",
      "Granger Causality\n",
      "number of lags (no zero) 10\n",
      "ssr based F test:         F=2.4475  , p=0.0145  , df_denom=69, df_num=10\n",
      "ssr based chi2 test:   chi2=31.9234 , p=0.0004  , df=10\n",
      "likelihood ratio test: chi2=27.3225 , p=0.0023  , df=10\n",
      "parameter F test:         F=2.4475  , p=0.0145  , df_denom=69, df_num=10\n",
      "\n",
      "Granger Causality\n",
      "number of lags (no zero) 10\n",
      "ssr based F test:         F=0.8550  , p=0.5785  , df_denom=69, df_num=10\n",
      "ssr based chi2 test:   chi2=11.1522 , p=0.3458  , df=10\n",
      "likelihood ratio test: chi2=10.5135 , p=0.3967  , df=10\n",
      "parameter F test:         F=0.8550  , p=0.5785  , df_denom=69, df_num=10\n",
      "\n",
      "Granger Causality\n",
      "number of lags (no zero) 10\n",
      "ssr based F test:         F=0.9559  , p=0.4892  , df_denom=69, df_num=10\n",
      "ssr based chi2 test:   chi2=12.4677 , p=0.2550  , df=10\n",
      "likelihood ratio test: chi2=11.6764 , p=0.3073  , df=10\n",
      "parameter F test:         F=0.9559  , p=0.4892  , df_denom=69, df_num=10\n",
      "\n",
      "Granger Causality\n",
      "number of lags (no zero) 10\n",
      "ssr based F test:         F=0.7605  , p=0.6656  , df_denom=69, df_num=10\n",
      "ssr based chi2 test:   chi2=9.9200  , p=0.4475  , df=10\n",
      "likelihood ratio test: chi2=9.4104  , p=0.4936  , df=10\n",
      "parameter F test:         F=0.7605  , p=0.6656  , df_denom=69, df_num=10\n",
      "\n",
      "Granger Causality\n",
      "number of lags (no zero) 10\n",
      "ssr based F test:         F=0.7886  , p=0.6396  , df_denom=69, df_num=10\n",
      "ssr based chi2 test:   chi2=10.2863 , p=0.4157  , df=10\n",
      "likelihood ratio test: chi2=9.7397  , p=0.4636  , df=10\n",
      "parameter F test:         F=0.7886  , p=0.6396  , df_denom=69, df_num=10\n",
      "\n",
      "Granger Causality\n",
      "number of lags (no zero) 10\n",
      "ssr based F test:         F=1.0188  , p=0.4370  , df_denom=69, df_num=10\n",
      "ssr based chi2 test:   chi2=13.2891 , p=0.2080  , df=10\n",
      "likelihood ratio test: chi2=12.3950 , p=0.2595  , df=10\n",
      "parameter F test:         F=1.0188  , p=0.4370  , df_denom=69, df_num=10\n",
      "\n",
      "Granger Causality\n",
      "number of lags (no zero) 10\n",
      "ssr based F test:         F=1.1175  , p=0.3621  , df_denom=69, df_num=10\n",
      "ssr based chi2 test:   chi2=14.5755 , p=0.1483  , df=10\n",
      "likelihood ratio test: chi2=13.5090 , p=0.1966  , df=10\n",
      "parameter F test:         F=1.1175  , p=0.3621  , df_denom=69, df_num=10\n",
      "\n",
      "Granger Causality\n",
      "number of lags (no zero) 10\n",
      "ssr based F test:         F=0.7424  , p=0.6823  , df_denom=69, df_num=10\n",
      "ssr based chi2 test:   chi2=9.6838  , p=0.4687  , df=10\n",
      "likelihood ratio test: chi2=9.1974  , p=0.5135  , df=10\n",
      "parameter F test:         F=0.7424  , p=0.6823  , df_denom=69, df_num=10\n",
      "\n",
      "Granger Causality\n",
      "number of lags (no zero) 10\n",
      "ssr based F test:         F=1.1776  , p=0.3209  , df_denom=69, df_num=10\n",
      "ssr based chi2 test:   chi2=15.3599 , p=0.1195  , df=10\n",
      "likelihood ratio test: chi2=14.1815 , p=0.1649  , df=10\n",
      "parameter F test:         F=1.1776  , p=0.3209  , df_denom=69, df_num=10\n",
      "\n",
      "Granger Causality\n",
      "number of lags (no zero) 10\n",
      "ssr based F test:         F=0.6835  , p=0.7360  , df_denom=69, df_num=10\n",
      "ssr based chi2 test:   chi2=8.9157  , p=0.5401  , df=10\n",
      "likelihood ratio test: chi2=8.5013  , p=0.5800  , df=10\n",
      "parameter F test:         F=0.6835  , p=0.7360  , df_denom=69, df_num=10\n",
      "\n",
      "Granger Causality\n",
      "number of lags (no zero) 10\n",
      "ssr based F test:         F=1.2704  , p=0.2643  , df_denom=69, df_num=10\n",
      "ssr based chi2 test:   chi2=16.5702 , p=0.0844  , df=10\n",
      "likelihood ratio test: chi2=15.2095 , p=0.1246  , df=10\n",
      "parameter F test:         F=1.2704  , p=0.2643  , df_denom=69, df_num=10\n",
      "\n",
      "Granger Causality\n",
      "number of lags (no zero) 10\n",
      "ssr based F test:         F=1.0129  , p=0.4418  , df_denom=69, df_num=10\n",
      "ssr based chi2 test:   chi2=13.2115 , p=0.2121  , df=10\n",
      "likelihood ratio test: chi2=12.3273 , p=0.2637  , df=10\n",
      "parameter F test:         F=1.0129  , p=0.4418  , df_denom=69, df_num=10\n",
      "\n",
      "Granger Causality\n",
      "number of lags (no zero) 10\n",
      "ssr based F test:         F=0.6958  , p=0.7250  , df_denom=69, df_num=10\n",
      "ssr based chi2 test:   chi2=9.0753  , p=0.5250  , df=10\n",
      "likelihood ratio test: chi2=8.6464  , p=0.5660  , df=10\n",
      "parameter F test:         F=0.6958  , p=0.7250  , df_denom=69, df_num=10\n",
      "\n",
      "Granger Causality\n",
      "number of lags (no zero) 10\n",
      "ssr based F test:         F=0.8409  , p=0.5913  , df_denom=69, df_num=10\n",
      "ssr based chi2 test:   chi2=10.9687 , p=0.3600  , df=10\n",
      "likelihood ratio test: chi2=10.3501 , p=0.4103  , df=10\n",
      "parameter F test:         F=0.8409  , p=0.5913  , df_denom=69, df_num=10\n",
      "\n",
      "Granger Causality\n",
      "number of lags (no zero) 10\n",
      "ssr based F test:         F=1.1811  , p=0.3186  , df_denom=69, df_num=10\n",
      "ssr based chi2 test:   chi2=15.4062 , p=0.1179  , df=10\n",
      "likelihood ratio test: chi2=14.2211 , p=0.1631  , df=10\n",
      "parameter F test:         F=1.1811  , p=0.3186  , df_denom=69, df_num=10\n",
      "\n",
      "Granger Causality\n",
      "number of lags (no zero) 10\n",
      "ssr based F test:         F=0.4844  , p=0.8946  , df_denom=69, df_num=10\n",
      "ssr based chi2 test:   chi2=6.3188  , p=0.7878  , df=10\n",
      "likelihood ratio test: chi2=6.1069  , p=0.8062  , df=10\n",
      "parameter F test:         F=0.4844  , p=0.8946  , df_denom=69, df_num=10\n",
      "\n",
      "Granger Causality\n",
      "number of lags (no zero) 10\n",
      "ssr based F test:         F=0.9321  , p=0.5097  , df_denom=69, df_num=10\n",
      "ssr based chi2 test:   chi2=12.1582 , p=0.2746  , df=10\n",
      "likelihood ratio test: chi2=11.4042 , p=0.3269  , df=10\n",
      "parameter F test:         F=0.9321  , p=0.5097  , df_denom=69, df_num=10\n",
      "\n",
      "Granger Causality\n",
      "number of lags (no zero) 10\n",
      "ssr based F test:         F=1.1961  , p=0.3090  , df_denom=69, df_num=10\n",
      "ssr based chi2 test:   chi2=15.6015 , p=0.1116  , df=10\n",
      "likelihood ratio test: chi2=14.3877 , p=0.1560  , df=10\n",
      "parameter F test:         F=1.1961  , p=0.3090  , df_denom=69, df_num=10\n",
      "\n",
      "Granger Causality\n",
      "number of lags (no zero) 10\n",
      "ssr based F test:         F=0.7155  , p=0.7070  , df_denom=69, df_num=10\n",
      "ssr based chi2 test:   chi2=9.3331  , p=0.5008  , df=10\n",
      "likelihood ratio test: chi2=8.8802  , p=0.5435  , df=10\n",
      "parameter F test:         F=0.7155  , p=0.7070  , df_denom=69, df_num=10\n",
      "\n",
      "Granger Causality\n",
      "number of lags (no zero) 10\n",
      "ssr based F test:         F=0.7975  , p=0.6313  , df_denom=69, df_num=10\n",
      "ssr based chi2 test:   chi2=10.4024 , p=0.4059  , df=10\n",
      "likelihood ratio test: chi2=9.8439  , p=0.4543  , df=10\n",
      "parameter F test:         F=0.7975  , p=0.6313  , df_denom=69, df_num=10\n",
      "\n",
      "Granger Causality\n",
      "number of lags (no zero) 10\n",
      "ssr based F test:         F=1.2006  , p=0.3061  , df_denom=69, df_num=10\n",
      "ssr based chi2 test:   chi2=15.6600 , p=0.1098  , df=10\n",
      "likelihood ratio test: chi2=14.4375 , p=0.1540  , df=10\n",
      "parameter F test:         F=1.2006  , p=0.3061  , df_denom=69, df_num=10\n",
      "\n",
      "Granger Causality\n",
      "number of lags (no zero) 10\n",
      "ssr based F test:         F=0.7851  , p=0.6428  , df_denom=69, df_num=10\n",
      "ssr based chi2 test:   chi2=10.2402 , p=0.4197  , df=10\n",
      "likelihood ratio test: chi2=9.6984  , p=0.4673  , df=10\n",
      "parameter F test:         F=0.7851  , p=0.6428  , df_denom=69, df_num=10\n",
      "\n",
      "Granger Causality\n",
      "number of lags (no zero) 10\n",
      "ssr based F test:         F=0.7032  , p=0.7182  , df_denom=69, df_num=10\n",
      "ssr based chi2 test:   chi2=9.1722  , p=0.5158  , df=10\n",
      "likelihood ratio test: chi2=8.7344  , p=0.5575  , df=10\n",
      "parameter F test:         F=0.7032  , p=0.7182  , df_denom=69, df_num=10\n",
      "\n",
      "Granger Causality\n",
      "number of lags (no zero) 10\n",
      "ssr based F test:         F=1.9807  , p=0.0488  , df_denom=69, df_num=10\n",
      "ssr based chi2 test:   chi2=25.8357 , p=0.0040  , df=10\n",
      "likelihood ratio test: chi2=22.7127 , p=0.0119  , df=10\n",
      "parameter F test:         F=1.9807  , p=0.0488  , df_denom=69, df_num=10\n",
      "\n",
      "Granger Causality\n",
      "number of lags (no zero) 10\n",
      "ssr based F test:         F=0.5961  , p=0.8118  , df_denom=69, df_num=10\n",
      "ssr based chi2 test:   chi2=7.7746  , p=0.6508  , df=10\n",
      "likelihood ratio test: chi2=7.4569  , p=0.6817  , df=10\n",
      "parameter F test:         F=0.5961  , p=0.8118  , df_denom=69, df_num=10\n",
      "\n",
      "Granger Causality\n",
      "number of lags (no zero) 10\n",
      "ssr based F test:         F=1.6096  , p=0.1222  , df_denom=69, df_num=10\n",
      "ssr based chi2 test:   chi2=20.9946 , p=0.0211  , df=10\n",
      "likelihood ratio test: chi2=18.8705 , p=0.0419  , df=10\n",
      "parameter F test:         F=1.6096  , p=0.1222  , df_denom=69, df_num=10\n",
      "\n",
      "Granger Causality\n",
      "number of lags (no zero) 10\n",
      "ssr based F test:         F=0.4120  , p=0.9364  , df_denom=69, df_num=10\n",
      "ssr based chi2 test:   chi2=5.3736  , p=0.8649  , df=10\n",
      "likelihood ratio test: chi2=5.2193  , p=0.8761  , df=10\n",
      "parameter F test:         F=0.4120  , p=0.9364  , df_denom=69, df_num=10\n",
      "\n",
      "Granger Causality\n",
      "number of lags (no zero) 10\n",
      "ssr based F test:         F=2.0250  , p=0.0436  , df_denom=69, df_num=10\n",
      "ssr based chi2 test:   chi2=26.4131 , p=0.0032  , df=10\n",
      "likelihood ratio test: chi2=23.1602 , p=0.0102  , df=10\n",
      "parameter F test:         F=2.0250  , p=0.0436  , df_denom=69, df_num=10\n",
      "\n",
      "Granger Causality\n",
      "number of lags (no zero) 10\n",
      "ssr based F test:         F=1.0768  , p=0.3919  , df_denom=69, df_num=10\n",
      "ssr based chi2 test:   chi2=14.0456 , p=0.1709  , df=10\n",
      "likelihood ratio test: chi2=13.0518 , p=0.2208  , df=10\n",
      "parameter F test:         F=1.0768  , p=0.3919  , df_denom=69, df_num=10\n",
      "\n",
      "Granger Causality\n",
      "number of lags (no zero) 10\n",
      "ssr based F test:         F=1.6301  , p=0.1163  , df_denom=69, df_num=10\n",
      "ssr based chi2 test:   chi2=21.2621 , p=0.0193  , df=10\n",
      "likelihood ratio test: chi2=19.0871 , p=0.0392  , df=10\n",
      "parameter F test:         F=1.6301  , p=0.1163  , df_denom=69, df_num=10\n",
      "\n",
      "Granger Causality\n",
      "number of lags (no zero) 10\n",
      "ssr based F test:         F=0.6042  , p=0.8051  , df_denom=69, df_num=10\n",
      "ssr based chi2 test:   chi2=7.8803  , p=0.6405  , df=10\n",
      "likelihood ratio test: chi2=7.5542  , p=0.6723  , df=10\n",
      "parameter F test:         F=0.6042  , p=0.8051  , df_denom=69, df_num=10\n",
      "\n",
      "Granger Causality\n",
      "number of lags (no zero) 10\n",
      "ssr based F test:         F=0.2034  , p=0.9953  , df_denom=69, df_num=10\n",
      "ssr based chi2 test:   chi2=2.6537  , p=0.9884  , df=10\n",
      "likelihood ratio test: chi2=2.6153  , p=0.9891  , df=10\n",
      "parameter F test:         F=0.2034  , p=0.9953  , df_denom=69, df_num=10\n",
      "\n",
      "Granger Causality\n",
      "number of lags (no zero) 10\n",
      "ssr based F test:         F=0.7051  , p=0.7165  , df_denom=69, df_num=10\n",
      "ssr based chi2 test:   chi2=9.1969  , p=0.5135  , df=10\n",
      "likelihood ratio test: chi2=8.7567  , p=0.5553  , df=10\n",
      "parameter F test:         F=0.7051  , p=0.7165  , df_denom=69, df_num=10\n",
      "\n",
      "Granger Causality\n",
      "number of lags (no zero) 10\n",
      "ssr based F test:         F=0.4383  , p=0.9225  , df_denom=69, df_num=10\n",
      "ssr based chi2 test:   chi2=5.7173  , p=0.8384  , df=10\n",
      "likelihood ratio test: chi2=5.5431  , p=0.8521  , df=10\n",
      "parameter F test:         F=0.4383  , p=0.9225  , df_denom=69, df_num=10\n",
      "\n",
      "Granger Causality\n",
      "number of lags (no zero) 10\n",
      "ssr based F test:         F=2.0855  , p=0.0373  , df_denom=69, df_num=10\n",
      "ssr based chi2 test:   chi2=27.2021 , p=0.0024  , df=10\n",
      "likelihood ratio test: chi2=23.7681 , p=0.0082  , df=10\n",
      "parameter F test:         F=2.0855  , p=0.0373  , df_denom=69, df_num=10\n",
      "\n",
      "Granger Causality\n",
      "number of lags (no zero) 10\n",
      "ssr based F test:         F=0.9356  , p=0.5067  , df_denom=69, df_num=10\n",
      "ssr based chi2 test:   chi2=12.2031 , p=0.2717  , df=10\n",
      "likelihood ratio test: chi2=11.4437 , p=0.3240  , df=10\n",
      "parameter F test:         F=0.9356  , p=0.5067  , df_denom=69, df_num=10\n",
      "\n",
      "Granger Causality\n",
      "number of lags (no zero) 10\n",
      "ssr based F test:         F=1.2965  , p=0.2499  , df_denom=69, df_num=10\n",
      "ssr based chi2 test:   chi2=16.9112 , p=0.0764  , df=10\n",
      "likelihood ratio test: chi2=15.4970 , p=0.1150  , df=10\n",
      "parameter F test:         F=1.2965  , p=0.2499  , df_denom=69, df_num=10\n",
      "\n",
      "Granger Causality\n",
      "number of lags (no zero) 10\n",
      "ssr based F test:         F=1.3829  , p=0.2066  , df_denom=69, df_num=10\n",
      "ssr based chi2 test:   chi2=18.0381 , p=0.0543  , df=10\n",
      "likelihood ratio test: chi2=16.4407 , p=0.0877  , df=10\n",
      "parameter F test:         F=1.3829  , p=0.2066  , df_denom=69, df_num=10\n",
      "\n",
      "Granger Causality\n",
      "number of lags (no zero) 10\n",
      "ssr based F test:         F=0.9279  , p=0.5134  , df_denom=69, df_num=10\n",
      "ssr based chi2 test:   chi2=12.1025 , p=0.2783  , df=10\n",
      "likelihood ratio test: chi2=11.3551 , p=0.3305  , df=10\n",
      "parameter F test:         F=0.9279  , p=0.5134  , df_denom=69, df_num=10\n",
      "\n",
      "Granger Causality\n",
      "number of lags (no zero) 10\n",
      "ssr based F test:         F=1.2963  , p=0.2500  , df_denom=69, df_num=10\n",
      "ssr based chi2 test:   chi2=16.9080 , p=0.0764  , df=10\n",
      "likelihood ratio test: chi2=15.4943 , p=0.1151  , df=10\n",
      "parameter F test:         F=1.2963  , p=0.2500  , df_denom=69, df_num=10\n",
      "\n",
      "Granger Causality\n",
      "number of lags (no zero) 10\n",
      "ssr based F test:         F=0.6569  , p=0.7598  , df_denom=69, df_num=10\n",
      "ssr based chi2 test:   chi2=8.5685  , p=0.5735  , df=10\n",
      "likelihood ratio test: chi2=8.1848  , p=0.6108  , df=10\n",
      "parameter F test:         F=0.6569  , p=0.7598  , df_denom=69, df_num=10\n",
      "\n",
      "Granger Causality\n",
      "number of lags (no zero) 10\n",
      "ssr based F test:         F=0.6083  , p=0.8016  , df_denom=69, df_num=10\n",
      "ssr based chi2 test:   chi2=7.9346  , p=0.6352  , df=10\n",
      "likelihood ratio test: chi2=7.6041  , p=0.6674  , df=10\n",
      "parameter F test:         F=0.6083  , p=0.8016  , df_denom=69, df_num=10\n",
      "\n",
      "Granger Causality\n",
      "number of lags (no zero) 10\n",
      "ssr based F test:         F=0.9786  , p=0.4700  , df_denom=69, df_num=10\n",
      "ssr based chi2 test:   chi2=12.7642 , p=0.2372  , df=10\n",
      "likelihood ratio test: chi2=11.9365 , p=0.2893  , df=10\n",
      "parameter F test:         F=0.9786  , p=0.4700  , df_denom=69, df_num=10\n",
      "\n",
      "Granger Causality\n",
      "number of lags (no zero) 10\n",
      "ssr based F test:         F=0.7023  , p=0.7191  , df_denom=69, df_num=10\n",
      "ssr based chi2 test:   chi2=9.1603  , p=0.5170  , df=10\n",
      "likelihood ratio test: chi2=8.7235  , p=0.5585  , df=10\n",
      "parameter F test:         F=0.7023  , p=0.7191  , df_denom=69, df_num=10\n",
      "\n",
      "Granger Causality\n",
      "number of lags (no zero) 10\n",
      "ssr based F test:         F=0.3889  , p=0.9474  , df_denom=69, df_num=10\n",
      "ssr based chi2 test:   chi2=5.0732  , p=0.8862  , df=10\n",
      "likelihood ratio test: chi2=4.9353  , p=0.8955  , df=10\n",
      "parameter F test:         F=0.3889  , p=0.9474  , df_denom=69, df_num=10\n",
      "\n",
      "Granger Causality\n",
      "number of lags (no zero) 10\n",
      "ssr based F test:         F=1.0115  , p=0.4429  , df_denom=69, df_num=10\n",
      "ssr based chi2 test:   chi2=13.1936 , p=0.2130  , df=10\n",
      "likelihood ratio test: chi2=12.3118 , p=0.2647  , df=10\n",
      "parameter F test:         F=1.0115  , p=0.4429  , df_denom=69, df_num=10\n",
      "\n",
      "Granger Causality\n",
      "number of lags (no zero) 10\n",
      "ssr based F test:         F=1.3806  , p=0.2077  , df_denom=69, df_num=10\n",
      "ssr based chi2 test:   chi2=18.0083 , p=0.0548  , df=10\n",
      "likelihood ratio test: chi2=16.4159 , p=0.0883  , df=10\n",
      "parameter F test:         F=1.3806  , p=0.2077  , df_denom=69, df_num=10\n",
      "\n",
      "Granger Causality\n",
      "number of lags (no zero) 10\n",
      "ssr based F test:         F=1.3253  , p=0.2347  , df_denom=69, df_num=10\n",
      "ssr based chi2 test:   chi2=17.2865 , p=0.0683  , df=10\n",
      "likelihood ratio test: chi2=15.8124 , p=0.1051  , df=10\n",
      "parameter F test:         F=1.3253  , p=0.2347  , df_denom=69, df_num=10\n",
      "\n",
      "Granger Causality\n",
      "number of lags (no zero) 10\n",
      "ssr based F test:         F=2.0442  , p=0.0415  , df_denom=69, df_num=10\n",
      "ssr based chi2 test:   chi2=26.6632 , p=0.0029  , df=10\n",
      "likelihood ratio test: chi2=23.3533 , p=0.0095  , df=10\n",
      "parameter F test:         F=2.0442  , p=0.0415  , df_denom=69, df_num=10\n",
      "\n",
      "Granger Causality\n",
      "number of lags (no zero) 10\n",
      "ssr based F test:         F=0.9175  , p=0.5225  , df_denom=69, df_num=10\n",
      "ssr based chi2 test:   chi2=11.9675 , p=0.2872  , df=10\n",
      "likelihood ratio test: chi2=11.2360 , p=0.3394  , df=10\n",
      "parameter F test:         F=0.9175  , p=0.5225  , df_denom=69, df_num=10\n",
      "\n",
      "Granger Causality\n",
      "number of lags (no zero) 10\n",
      "ssr based F test:         F=1.2887  , p=0.2541  , df_denom=69, df_num=10\n",
      "ssr based chi2 test:   chi2=16.8095 , p=0.0787  , df=10\n",
      "likelihood ratio test: chi2=15.4114 , p=0.1178  , df=10\n",
      "parameter F test:         F=1.2887  , p=0.2541  , df_denom=69, df_num=10\n",
      "\n",
      "Granger Causality\n",
      "number of lags (no zero) 10\n",
      "ssr based F test:         F=1.1389  , p=0.3470  , df_denom=69, df_num=10\n",
      "ssr based chi2 test:   chi2=14.8551 , p=0.1374  , df=10\n",
      "likelihood ratio test: chi2=13.7493 , p=0.1847  , df=10\n",
      "parameter F test:         F=1.1389  , p=0.3470  , df_denom=69, df_num=10\n",
      "\n",
      "Granger Causality\n",
      "number of lags (no zero) 10\n",
      "ssr based F test:         F=0.7997  , p=0.6293  , df_denom=69, df_num=10\n",
      "ssr based chi2 test:   chi2=10.4313 , p=0.4035  , df=10\n",
      "likelihood ratio test: chi2=9.8698  , p=0.4520  , df=10\n",
      "parameter F test:         F=0.7997  , p=0.6293  , df_denom=69, df_num=10\n",
      "\n",
      "Granger Causality\n",
      "number of lags (no zero) 10\n",
      "ssr based F test:         F=0.6784  , p=0.7406  , df_denom=69, df_num=10\n",
      "ssr based chi2 test:   chi2=8.8490  , p=0.5465  , df=10\n",
      "likelihood ratio test: chi2=8.4405  , p=0.5859  , df=10\n",
      "parameter F test:         F=0.6784  , p=0.7406  , df_denom=69, df_num=10\n",
      "\n",
      "Granger Causality\n",
      "number of lags (no zero) 10\n",
      "ssr based F test:         F=2.1776  , p=0.0294  , df_denom=69, df_num=10\n",
      "ssr based chi2 test:   chi2=28.4032 , p=0.0016  , df=10\n",
      "likelihood ratio test: chi2=24.6857 , p=0.0060  , df=10\n",
      "parameter F test:         F=2.1776  , p=0.0294  , df_denom=69, df_num=10\n",
      "\n",
      "Granger Causality\n",
      "number of lags (no zero) 10\n",
      "ssr based F test:         F=0.8630  , p=0.5712  , df_denom=69, df_num=10\n",
      "ssr based chi2 test:   chi2=11.2570 , p=0.3378  , df=10\n",
      "likelihood ratio test: chi2=10.6067 , p=0.3890  , df=10\n",
      "parameter F test:         F=0.8630  , p=0.5712  , df_denom=69, df_num=10\n",
      "\n",
      "Granger Causality\n",
      "number of lags (no zero) 10\n",
      "ssr based F test:         F=1.3172  , p=0.2389  , df_denom=69, df_num=10\n",
      "ssr based chi2 test:   chi2=17.1813 , p=0.0704  , df=10\n",
      "likelihood ratio test: chi2=15.7241 , p=0.1078  , df=10\n",
      "parameter F test:         F=1.3172  , p=0.2389  , df_denom=69, df_num=10\n",
      "\n",
      "Granger Causality\n",
      "number of lags (no zero) 10\n",
      "ssr based F test:         F=0.8493  , p=0.5837  , df_denom=69, df_num=10\n",
      "ssr based chi2 test:   chi2=11.0783 , p=0.3514  , df=10\n",
      "likelihood ratio test: chi2=10.4478 , p=0.4021  , df=10\n",
      "parameter F test:         F=0.8493  , p=0.5837  , df_denom=69, df_num=10\n",
      "\n",
      "Granger Causality\n",
      "number of lags (no zero) 10\n",
      "ssr based F test:         F=0.8850  , p=0.5514  , df_denom=69, df_num=10\n",
      "ssr based chi2 test:   chi2=11.5434 , p=0.3168  , df=10\n",
      "likelihood ratio test: chi2=10.8609 , p=0.3685  , df=10\n",
      "parameter F test:         F=0.8850  , p=0.5514  , df_denom=69, df_num=10\n",
      "\n",
      "Granger Causality\n",
      "number of lags (no zero) 10\n",
      "ssr based F test:         F=0.7417  , p=0.6829  , df_denom=69, df_num=10\n",
      "ssr based chi2 test:   chi2=9.6749  , p=0.4695  , df=10\n",
      "likelihood ratio test: chi2=9.1894  , p=0.5142  , df=10\n",
      "parameter F test:         F=0.7417  , p=0.6829  , df_denom=69, df_num=10\n",
      "\n",
      "Granger Causality\n",
      "number of lags (no zero) 10\n",
      "ssr based F test:         F=1.5519  , p=0.1401  , df_denom=69, df_num=10\n",
      "ssr based chi2 test:   chi2=20.2421 , p=0.0270  , df=10\n",
      "likelihood ratio test: chi2=18.2582 , p=0.0508  , df=10\n",
      "parameter F test:         F=1.5519  , p=0.1401  , df_denom=69, df_num=10\n",
      "\n",
      "Granger Causality\n",
      "number of lags (no zero) 10\n",
      "ssr based F test:         F=0.2669  , p=0.9864  , df_denom=69, df_num=10\n",
      "ssr based chi2 test:   chi2=3.4816  , p=0.9677  , df=10\n",
      "likelihood ratio test: chi2=3.4159  , p=0.9699  , df=10\n",
      "parameter F test:         F=0.2669  , p=0.9864  , df_denom=69, df_num=10\n",
      "\n",
      "Granger Causality\n",
      "number of lags (no zero) 10\n",
      "ssr based F test:         F=1.8726  , p=0.0641  , df_denom=69, df_num=10\n",
      "ssr based chi2 test:   chi2=24.4250 , p=0.0065  , df=10\n",
      "likelihood ratio test: chi2=21.6099 , p=0.0172  , df=10\n",
      "parameter F test:         F=1.8726  , p=0.0641  , df_denom=69, df_num=10\n",
      "\n",
      "Granger Causality\n",
      "number of lags (no zero) 10\n",
      "ssr based F test:         F=1.2232  , p=0.2921  , df_denom=69, df_num=10\n",
      "ssr based chi2 test:   chi2=15.9548 , p=0.1009  , df=10\n",
      "likelihood ratio test: chi2=14.6883 , p=0.1438  , df=10\n",
      "parameter F test:         F=1.2232  , p=0.2921  , df_denom=69, df_num=10\n",
      "\n",
      "Granger Causality\n",
      "number of lags (no zero) 10\n",
      "ssr based F test:         F=0.9757  , p=0.4724  , df_denom=69, df_num=10\n",
      "ssr based chi2 test:   chi2=12.7271 , p=0.2393  , df=10\n",
      "likelihood ratio test: chi2=11.9039 , p=0.2915  , df=10\n",
      "parameter F test:         F=0.9757  , p=0.4724  , df_denom=69, df_num=10\n",
      "\n",
      "Granger Causality\n",
      "number of lags (no zero) 10\n",
      "ssr based F test:         F=0.7963  , p=0.6324  , df_denom=69, df_num=10\n",
      "ssr based chi2 test:   chi2=10.3870 , p=0.4072  , df=10\n",
      "likelihood ratio test: chi2=9.8301  , p=0.4555  , df=10\n",
      "parameter F test:         F=0.7963  , p=0.6324  , df_denom=69, df_num=10\n",
      "\n",
      "Granger Causality\n",
      "number of lags (no zero) 10\n",
      "ssr based F test:         F=2.5897  , p=0.0100  , df_denom=69, df_num=10\n",
      "ssr based chi2 test:   chi2=33.7792 , p=0.0002  , df=10\n",
      "likelihood ratio test: chi2=28.6820 , p=0.0014  , df=10\n",
      "parameter F test:         F=2.5897  , p=0.0100  , df_denom=69, df_num=10\n",
      "\n",
      "Granger Causality\n",
      "number of lags (no zero) 10\n",
      "ssr based F test:         F=0.9180  , p=0.5221  , df_denom=69, df_num=10\n",
      "ssr based chi2 test:   chi2=11.9736 , p=0.2868  , df=10\n",
      "likelihood ratio test: chi2=11.2414 , p=0.3390  , df=10\n",
      "parameter F test:         F=0.9180  , p=0.5221  , df_denom=69, df_num=10\n",
      "\n",
      "Granger Causality\n",
      "number of lags (no zero) 10\n",
      "ssr based F test:         F=2.2299  , p=0.0257  , df_denom=69, df_num=10\n",
      "ssr based chi2 test:   chi2=29.0861 , p=0.0012  , df=10\n",
      "likelihood ratio test: chi2=25.2034 , p=0.0050  , df=10\n",
      "parameter F test:         F=2.2299  , p=0.0257  , df_denom=69, df_num=10\n",
      "\n",
      "Granger Causality\n",
      "number of lags (no zero) 10\n",
      "ssr based F test:         F=0.5688  , p=0.8337  , df_denom=69, df_num=10\n",
      "ssr based chi2 test:   chi2=7.4188  , p=0.6854  , df=10\n",
      "likelihood ratio test: chi2=7.1289  , p=0.7132  , df=10\n",
      "parameter F test:         F=0.5688  , p=0.8337  , df_denom=69, df_num=10\n",
      "\n",
      "Granger Causality\n",
      "number of lags (no zero) 10\n",
      "ssr based F test:         F=1.0919  , p=0.3806  , df_denom=69, df_num=10\n",
      "ssr based chi2 test:   chi2=14.2423 , p=0.1622  , df=10\n",
      "likelihood ratio test: chi2=13.2217 , p=0.2115  , df=10\n",
      "parameter F test:         F=1.0919  , p=0.3806  , df_denom=69, df_num=10\n",
      "\n",
      "Granger Causality\n",
      "number of lags (no zero) 10\n",
      "ssr based F test:         F=0.6591  , p=0.7578  , df_denom=69, df_num=10\n",
      "ssr based chi2 test:   chi2=8.5969  , p=0.5707  , df=10\n",
      "likelihood ratio test: chi2=8.2107  , p=0.6083  , df=10\n",
      "parameter F test:         F=0.6591  , p=0.7578  , df_denom=69, df_num=10\n",
      "\n",
      "Granger Causality\n",
      "number of lags (no zero) 10\n",
      "ssr based F test:         F=0.8965  , p=0.5411  , df_denom=69, df_num=10\n",
      "ssr based chi2 test:   chi2=11.6940 , p=0.3061  , df=10\n",
      "likelihood ratio test: chi2=10.9943 , p=0.3580  , df=10\n",
      "parameter F test:         F=0.8965  , p=0.5411  , df_denom=69, df_num=10\n",
      "\n",
      "Granger Causality\n",
      "number of lags (no zero) 10\n",
      "ssr based F test:         F=0.4434  , p=0.9196  , df_denom=69, df_num=10\n",
      "ssr based chi2 test:   chi2=5.7835  , p=0.8331  , df=10\n",
      "likelihood ratio test: chi2=5.6052  , p=0.8473  , df=10\n",
      "parameter F test:         F=0.4434  , p=0.9196  , df_denom=69, df_num=10\n",
      "\n",
      "Granger Causality\n",
      "number of lags (no zero) 10\n",
      "ssr based F test:         F=0.6227  , p=0.7894  , df_denom=69, df_num=10\n",
      "ssr based chi2 test:   chi2=8.1222  , p=0.6169  , df=10\n",
      "likelihood ratio test: chi2=7.7764  , p=0.6507  , df=10\n",
      "parameter F test:         F=0.6227  , p=0.7894  , df_denom=69, df_num=10\n",
      "\n",
      "Granger Causality\n",
      "number of lags (no zero) 10\n",
      "ssr based F test:         F=0.8032  , p=0.6261  , df_denom=69, df_num=10\n",
      "ssr based chi2 test:   chi2=10.4763 , p=0.3997  , df=10\n",
      "likelihood ratio test: chi2=9.9101  , p=0.4484  , df=10\n",
      "parameter F test:         F=0.8032  , p=0.6261  , df_denom=69, df_num=10\n",
      "\n",
      "Granger Causality\n",
      "number of lags (no zero) 10\n",
      "ssr based F test:         F=0.8403  , p=0.5919  , df_denom=69, df_num=10\n",
      "ssr based chi2 test:   chi2=10.9604 , p=0.3606  , df=10\n",
      "likelihood ratio test: chi2=10.3427 , p=0.4110  , df=10\n",
      "parameter F test:         F=0.8403  , p=0.5919  , df_denom=69, df_num=10\n",
      "\n",
      "Granger Causality\n",
      "number of lags (no zero) 10\n",
      "ssr based F test:         F=1.7584  , p=0.0851  , df_denom=69, df_num=10\n",
      "ssr based chi2 test:   chi2=22.9361 , p=0.0110  , df=10\n",
      "likelihood ratio test: chi2=20.4311 , p=0.0254  , df=10\n",
      "parameter F test:         F=1.7584  , p=0.0851  , df_denom=69, df_num=10\n",
      "\n",
      "Granger Causality\n",
      "number of lags (no zero) 10\n",
      "ssr based F test:         F=1.2001  , p=0.3064  , df_denom=69, df_num=10\n",
      "ssr based chi2 test:   chi2=15.6534 , p=0.1100  , df=10\n",
      "likelihood ratio test: chi2=14.4319 , p=0.1542  , df=10\n",
      "parameter F test:         F=1.2001  , p=0.3064  , df_denom=69, df_num=10\n",
      "\n",
      "Granger Causality\n",
      "number of lags (no zero) 10\n",
      "ssr based F test:         F=0.4813  , p=0.8967  , df_denom=69, df_num=10\n",
      "ssr based chi2 test:   chi2=6.2777  , p=0.7914  , df=10\n",
      "likelihood ratio test: chi2=6.0684  , p=0.8095  , df=10\n",
      "parameter F test:         F=0.4813  , p=0.8967  , df_denom=69, df_num=10\n",
      "\n",
      "Granger Causality\n",
      "number of lags (no zero) 10\n",
      "ssr based F test:         F=0.3789  , p=0.9518  , df_denom=69, df_num=10\n",
      "ssr based chi2 test:   chi2=4.9423  , p=0.8950  , df=10\n",
      "likelihood ratio test: chi2=4.8114  , p=0.9034  , df=10\n",
      "parameter F test:         F=0.3789  , p=0.9518  , df_denom=69, df_num=10\n",
      "\n",
      "Granger Causality\n",
      "number of lags (no zero) 10\n",
      "ssr based F test:         F=1.0652  , p=0.4007  , df_denom=69, df_num=10\n",
      "ssr based chi2 test:   chi2=13.8938 , p=0.1779  , df=10\n",
      "likelihood ratio test: chi2=12.9204 , p=0.2282  , df=10\n",
      "parameter F test:         F=1.0652  , p=0.4007  , df_denom=69, df_num=10\n",
      "\n",
      "Granger Causality\n",
      "number of lags (no zero) 10\n",
      "ssr based F test:         F=1.4078  , p=0.1954  , df_denom=69, df_num=10\n",
      "ssr based chi2 test:   chi2=18.3629 , p=0.0491  , df=10\n",
      "likelihood ratio test: chi2=16.7109 , p=0.0810  , df=10\n",
      "parameter F test:         F=1.4078  , p=0.1954  , df_denom=69, df_num=10\n",
      "\n",
      "Granger Causality\n",
      "number of lags (no zero) 10\n",
      "ssr based F test:         F=1.4998  , p=0.1583  , df_denom=69, df_num=10\n",
      "ssr based chi2 test:   chi2=19.5625 , p=0.0337  , df=10\n",
      "likelihood ratio test: chi2=17.7017 , p=0.0602  , df=10\n",
      "parameter F test:         F=1.4998  , p=0.1583  , df_denom=69, df_num=10\n",
      "\n",
      "Granger Causality\n",
      "number of lags (no zero) 10\n",
      "ssr based F test:         F=0.5098  , p=0.8776  , df_denom=69, df_num=10\n",
      "ssr based chi2 test:   chi2=6.6489  , p=0.7581  , df=10\n",
      "likelihood ratio test: chi2=6.4148  , p=0.7793  , df=10\n",
      "parameter F test:         F=0.5098  , p=0.8776  , df_denom=69, df_num=10\n",
      "\n",
      "Granger Causality\n",
      "number of lags (no zero) 10\n",
      "ssr based F test:         F=0.9032  , p=0.5351  , df_denom=69, df_num=10\n",
      "ssr based chi2 test:   chi2=11.7811 , p=0.3000  , df=10\n",
      "likelihood ratio test: chi2=11.0714 , p=0.3520  , df=10\n",
      "parameter F test:         F=0.9032  , p=0.5351  , df_denom=69, df_num=10\n",
      "\n",
      "Granger Causality\n",
      "number of lags (no zero) 10\n",
      "ssr based F test:         F=1.7541  , p=0.0860  , df_denom=69, df_num=10\n",
      "ssr based chi2 test:   chi2=22.8801 , p=0.0112  , df=10\n",
      "likelihood ratio test: chi2=20.3864 , p=0.0258  , df=10\n",
      "parameter F test:         F=1.7541  , p=0.0860  , df_denom=69, df_num=10\n",
      "\n",
      "Granger Causality\n",
      "number of lags (no zero) 10\n",
      "ssr based F test:         F=0.6630  , p=0.7543  , df_denom=69, df_num=10\n",
      "ssr based chi2 test:   chi2=8.6483  , p=0.5658  , df=10\n",
      "likelihood ratio test: chi2=8.2576  , p=0.6037  , df=10\n",
      "parameter F test:         F=0.6630  , p=0.7543  , df_denom=69, df_num=10\n",
      "\n",
      "Granger Causality\n",
      "number of lags (no zero) 10\n",
      "ssr based F test:         F=0.1588  , p=0.9983  , df_denom=69, df_num=10\n",
      "ssr based chi2 test:   chi2=2.0708  , p=0.9958  , df=10\n",
      "likelihood ratio test: chi2=2.0473  , p=0.9960  , df=10\n",
      "parameter F test:         F=0.1588  , p=0.9983  , df_denom=69, df_num=10\n",
      "\n",
      "Granger Causality\n",
      "number of lags (no zero) 10\n",
      "ssr based F test:         F=1.0896  , p=0.3824  , df_denom=69, df_num=10\n",
      "ssr based chi2 test:   chi2=14.2117 , p=0.1636  , df=10\n",
      "likelihood ratio test: chi2=13.1953 , p=0.2130  , df=10\n",
      "parameter F test:         F=1.0896  , p=0.3824  , df_denom=69, df_num=10\n",
      "\n",
      "Granger Causality\n",
      "number of lags (no zero) 10\n",
      "ssr based F test:         F=1.3329  , p=0.2309  , df_denom=69, df_num=10\n",
      "ssr based chi2 test:   chi2=17.3853 , p=0.0663  , df=10\n",
      "likelihood ratio test: chi2=15.8952 , p=0.1027  , df=10\n",
      "parameter F test:         F=1.3329  , p=0.2309  , df_denom=69, df_num=10\n",
      "\n",
      "Granger Causality\n",
      "number of lags (no zero) 10\n",
      "ssr based F test:         F=1.3523  , p=0.2212  , df_denom=69, df_num=10\n",
      "ssr based chi2 test:   chi2=17.6385 , p=0.0614  , df=10\n",
      "likelihood ratio test: chi2=16.1072 , p=0.0966  , df=10\n",
      "parameter F test:         F=1.3523  , p=0.2212  , df_denom=69, df_num=10\n",
      "\n",
      "Granger Causality\n",
      "number of lags (no zero) 10\n",
      "ssr based F test:         F=0.7117  , p=0.7105  , df_denom=69, df_num=10\n",
      "ssr based chi2 test:   chi2=9.2826  , p=0.5055  , df=10\n",
      "likelihood ratio test: chi2=8.8345  , p=0.5479  , df=10\n",
      "parameter F test:         F=0.7117  , p=0.7105  , df_denom=69, df_num=10\n",
      "\n",
      "Granger Causality\n",
      "number of lags (no zero) 10\n",
      "ssr based F test:         F=1.5632  , p=0.1364  , df_denom=69, df_num=10\n",
      "ssr based chi2 test:   chi2=20.3896 , p=0.0258  , df=10\n",
      "likelihood ratio test: chi2=18.3785 , p=0.0489  , df=10\n",
      "parameter F test:         F=1.5632  , p=0.1364  , df_denom=69, df_num=10\n",
      "\n",
      "Granger Causality\n",
      "number of lags (no zero) 10\n",
      "ssr based F test:         F=0.7350  , p=0.6891  , df_denom=69, df_num=10\n",
      "ssr based chi2 test:   chi2=9.5871  , p=0.4774  , df=10\n",
      "likelihood ratio test: chi2=9.1100  , p=0.5217  , df=10\n",
      "parameter F test:         F=0.7350  , p=0.6891  , df_denom=69, df_num=10\n",
      "\n",
      "Granger Causality\n",
      "number of lags (no zero) 10\n",
      "ssr based F test:         F=0.9690  , p=0.4781  , df_denom=69, df_num=10\n",
      "ssr based chi2 test:   chi2=12.6387 , p=0.2446  , df=10\n",
      "likelihood ratio test: chi2=11.8265 , p=0.2968  , df=10\n",
      "parameter F test:         F=0.9690  , p=0.4781  , df_denom=69, df_num=10\n",
      "\n",
      "Granger Causality\n",
      "number of lags (no zero) 10\n",
      "ssr based F test:         F=1.4833  , p=0.1644  , df_denom=69, df_num=10\n",
      "ssr based chi2 test:   chi2=19.3475 , p=0.0361  , df=10\n",
      "likelihood ratio test: chi2=17.5249 , p=0.0635  , df=10\n",
      "parameter F test:         F=1.4833  , p=0.1644  , df_denom=69, df_num=10\n",
      "\n",
      "Granger Causality\n",
      "number of lags (no zero) 10\n",
      "ssr based F test:         F=0.5924  , p=0.8148  , df_denom=69, df_num=10\n",
      "ssr based chi2 test:   chi2=7.7270  , p=0.6555  , df=10\n",
      "likelihood ratio test: chi2=7.4131  , p=0.6860  , df=10\n",
      "parameter F test:         F=0.5924  , p=0.8148  , df_denom=69, df_num=10\n",
      "\n",
      "Granger Causality\n",
      "number of lags (no zero) 10\n",
      "ssr based F test:         F=0.7594  , p=0.6666  , df_denom=69, df_num=10\n",
      "ssr based chi2 test:   chi2=9.9048  , p=0.4489  , df=10\n",
      "likelihood ratio test: chi2=9.3967  , p=0.4949  , df=10\n",
      "parameter F test:         F=0.7594  , p=0.6666  , df_denom=69, df_num=10\n",
      "\n",
      "Granger Causality\n",
      "number of lags (no zero) 10\n",
      "ssr based F test:         F=0.3322  , p=0.9694  , df_denom=69, df_num=10\n",
      "ssr based chi2 test:   chi2=4.3331  , p=0.9311  , df=10\n",
      "likelihood ratio test: chi2=4.2320  , p=0.9363  , df=10\n",
      "parameter F test:         F=0.3322  , p=0.9694  , df_denom=69, df_num=10\n",
      "\n",
      "Granger Causality\n",
      "number of lags (no zero) 10\n",
      "ssr based F test:         F=1.0819  , p=0.3881  , df_denom=69, df_num=10\n",
      "ssr based chi2 test:   chi2=14.1115 , p=0.1680  , df=10\n",
      "likelihood ratio test: chi2=13.1088 , p=0.2177  , df=10\n",
      "parameter F test:         F=1.0819  , p=0.3881  , df_denom=69, df_num=10\n",
      "\n",
      "Granger Causality\n",
      "number of lags (no zero) 10\n",
      "ssr based F test:         F=0.9051  , p=0.5335  , df_denom=69, df_num=10\n",
      "ssr based chi2 test:   chi2=11.8054 , p=0.2983  , df=10\n",
      "likelihood ratio test: chi2=11.0928 , p=0.3503  , df=10\n",
      "parameter F test:         F=0.9051  , p=0.5335  , df_denom=69, df_num=10\n",
      "\n",
      "Granger Causality\n",
      "number of lags (no zero) 10\n",
      "ssr based F test:         F=2.5621  , p=0.0107  , df_denom=69, df_num=10\n",
      "ssr based chi2 test:   chi2=33.4191 , p=0.0002  , df=10\n",
      "likelihood ratio test: chi2=28.4199 , p=0.0015  , df=10\n",
      "parameter F test:         F=2.5621  , p=0.0107  , df_denom=69, df_num=10\n",
      "\n",
      "Granger Causality\n",
      "number of lags (no zero) 10\n",
      "ssr based F test:         F=0.9486  , p=0.4955  , df_denom=69, df_num=10\n",
      "ssr based chi2 test:   chi2=12.3725 , p=0.2609  , df=10\n",
      "likelihood ratio test: chi2=11.5928 , p=0.3132  , df=10\n",
      "parameter F test:         F=0.9486  , p=0.4955  , df_denom=69, df_num=10\n",
      "\n",
      "Granger Causality\n",
      "number of lags (no zero) 10\n",
      "ssr based F test:         F=1.1509  , p=0.3388  , df_denom=69, df_num=10\n",
      "ssr based chi2 test:   chi2=15.0120 , p=0.1316  , df=10\n",
      "likelihood ratio test: chi2=13.8839 , p=0.1784  , df=10\n",
      "parameter F test:         F=1.1509  , p=0.3388  , df_denom=69, df_num=10\n",
      "\n",
      "Granger Causality\n",
      "number of lags (no zero) 10\n",
      "ssr based F test:         F=0.9413  , p=0.5018  , df_denom=69, df_num=10\n",
      "ssr based chi2 test:   chi2=12.2776 , p=0.2669  , df=10\n",
      "likelihood ratio test: chi2=11.5093 , p=0.3192  , df=10\n",
      "parameter F test:         F=0.9413  , p=0.5018  , df_denom=69, df_num=10\n",
      "\n",
      "Granger Causality\n",
      "number of lags (no zero) 10\n",
      "ssr based F test:         F=0.3897  , p=0.9470  , df_denom=69, df_num=10\n",
      "ssr based chi2 test:   chi2=5.0835  , p=0.8855  , df=10\n",
      "likelihood ratio test: chi2=4.9451  , p=0.8948  , df=10\n",
      "parameter F test:         F=0.3897  , p=0.9470  , df_denom=69, df_num=10\n",
      "\n",
      "Granger Causality\n",
      "number of lags (no zero) 10\n",
      "ssr based F test:         F=1.4323  , p=0.1848  , df_denom=69, df_num=10\n",
      "ssr based chi2 test:   chi2=18.6823 , p=0.0445  , df=10\n",
      "likelihood ratio test: chi2=16.9757 , p=0.0749  , df=10\n",
      "parameter F test:         F=1.4323  , p=0.1848  , df_denom=69, df_num=10\n",
      "\n",
      "Granger Causality\n",
      "number of lags (no zero) 10\n",
      "ssr based F test:         F=1.2779  , p=0.2601  , df_denom=69, df_num=10\n",
      "ssr based chi2 test:   chi2=16.6681 , p=0.0820  , df=10\n",
      "likelihood ratio test: chi2=15.2921 , p=0.1218  , df=10\n",
      "parameter F test:         F=1.2779  , p=0.2601  , df_denom=69, df_num=10\n",
      "\n",
      "Granger Causality\n",
      "number of lags (no zero) 10\n",
      "ssr based F test:         F=0.9857  , p=0.4641  , df_denom=69, df_num=10\n",
      "ssr based chi2 test:   chi2=12.8570 , p=0.2318  , df=10\n",
      "likelihood ratio test: chi2=12.0177 , p=0.2839  , df=10\n",
      "parameter F test:         F=0.9857  , p=0.4641  , df_denom=69, df_num=10\n",
      "\n",
      "Granger Causality\n",
      "number of lags (no zero) 10\n",
      "ssr based F test:         F=0.9075  , p=0.5313  , df_denom=69, df_num=10\n",
      "ssr based chi2 test:   chi2=11.8373 , p=0.2961  , df=10\n",
      "likelihood ratio test: chi2=11.1210 , p=0.3482  , df=10\n",
      "parameter F test:         F=0.9075  , p=0.5313  , df_denom=69, df_num=10\n",
      "\n",
      "Granger Causality\n",
      "number of lags (no zero) 10\n",
      "ssr based F test:         F=1.3692  , p=0.2131  , df_denom=69, df_num=10\n",
      "ssr based chi2 test:   chi2=17.8592 , p=0.0574  , df=10\n",
      "likelihood ratio test: chi2=16.2916 , p=0.0916  , df=10\n",
      "parameter F test:         F=1.3692  , p=0.2131  , df_denom=69, df_num=10\n",
      "\n",
      "Granger Causality\n",
      "number of lags (no zero) 10\n",
      "ssr based F test:         F=1.5734  , p=0.1332  , df_denom=69, df_num=10\n",
      "ssr based chi2 test:   chi2=20.5231 , p=0.0247  , df=10\n",
      "likelihood ratio test: chi2=18.4873 , p=0.0473  , df=10\n",
      "parameter F test:         F=1.5734  , p=0.1332  , df_denom=69, df_num=10\n",
      "\n",
      "Granger Causality\n",
      "number of lags (no zero) 10\n",
      "ssr based F test:         F=1.6595  , p=0.1084  , df_denom=69, df_num=10\n",
      "ssr based chi2 test:   chi2=21.6458 , p=0.0170  , df=10\n",
      "likelihood ratio test: chi2=19.3970 , p=0.0355  , df=10\n",
      "parameter F test:         F=1.6595  , p=0.1084  , df_denom=69, df_num=10\n",
      "\n",
      "Granger Causality\n",
      "number of lags (no zero) 10\n",
      "ssr based F test:         F=1.3578  , p=0.2185  , df_denom=69, df_num=10\n",
      "ssr based chi2 test:   chi2=17.7101 , p=0.0601  , df=10\n",
      "likelihood ratio test: chi2=16.1670 , p=0.0950  , df=10\n",
      "parameter F test:         F=1.3578  , p=0.2185  , df_denom=69, df_num=10\n",
      "\n",
      "Granger Causality\n",
      "number of lags (no zero) 10\n",
      "ssr based F test:         F=0.7870  , p=0.6410  , df_denom=69, df_num=10\n",
      "ssr based chi2 test:   chi2=10.2655 , p=0.4175  , df=10\n",
      "likelihood ratio test: chi2=9.7211  , p=0.4653  , df=10\n",
      "parameter F test:         F=0.7870  , p=0.6410  , df_denom=69, df_num=10\n",
      "\n",
      "Granger Causality\n",
      "number of lags (no zero) 10\n",
      "ssr based F test:         F=1.4034  , p=0.1973  , df_denom=69, df_num=10\n",
      "ssr based chi2 test:   chi2=18.3056 , p=0.0500  , df=10\n",
      "likelihood ratio test: chi2=16.6633 , p=0.0822  , df=10\n",
      "parameter F test:         F=1.4034  , p=0.1973  , df_denom=69, df_num=10\n",
      "\n",
      "Granger Causality\n",
      "number of lags (no zero) 10\n",
      "ssr based F test:         F=1.4013  , p=0.1983  , df_denom=69, df_num=10\n",
      "ssr based chi2 test:   chi2=18.2779 , p=0.0505  , df=10\n",
      "likelihood ratio test: chi2=16.6402 , p=0.0827  , df=10\n",
      "parameter F test:         F=1.4013  , p=0.1983  , df_denom=69, df_num=10\n",
      "\n",
      "Granger Causality\n",
      "number of lags (no zero) 10\n",
      "ssr based F test:         F=2.1132  , p=0.0347  , df_denom=69, df_num=10\n",
      "ssr based chi2 test:   chi2=27.5641 , p=0.0021  , df=10\n",
      "likelihood ratio test: chi2=24.0456 , p=0.0075  , df=10\n",
      "parameter F test:         F=2.1132  , p=0.0347  , df_denom=69, df_num=10\n",
      "\n",
      "Granger Causality\n",
      "number of lags (no zero) 10\n",
      "ssr based F test:         F=0.7921  , p=0.6364  , df_denom=69, df_num=10\n",
      "ssr based chi2 test:   chi2=10.3312 , p=0.4119  , df=10\n",
      "likelihood ratio test: chi2=9.7801  , p=0.4600  , df=10\n",
      "parameter F test:         F=0.7921  , p=0.6364  , df_denom=69, df_num=10\n",
      "\n",
      "Granger Causality\n",
      "number of lags (no zero) 10\n",
      "ssr based F test:         F=0.2562  , p=0.9883  , df_denom=69, df_num=10\n",
      "ssr based chi2 test:   chi2=3.3420  , p=0.9722  , df=10\n",
      "likelihood ratio test: chi2=3.2814  , p=0.9740  , df=10\n",
      "parameter F test:         F=0.2562  , p=0.9883  , df_denom=69, df_num=10\n",
      "\n",
      "Granger Causality\n",
      "number of lags (no zero) 10\n",
      "ssr based F test:         F=1.6235  , p=0.1182  , df_denom=69, df_num=10\n",
      "ssr based chi2 test:   chi2=21.1765 , p=0.0199  , df=10\n",
      "likelihood ratio test: chi2=19.0178 , p=0.0400  , df=10\n",
      "parameter F test:         F=1.6235  , p=0.1182  , df_denom=69, df_num=10\n",
      "\n",
      "Granger Causality\n",
      "number of lags (no zero) 10\n",
      "ssr based F test:         F=0.8030  , p=0.6263  , df_denom=69, df_num=10\n",
      "ssr based chi2 test:   chi2=10.4740 , p=0.3999  , df=10\n",
      "likelihood ratio test: chi2=9.9081  , p=0.4486  , df=10\n",
      "parameter F test:         F=0.8030  , p=0.6263  , df_denom=69, df_num=10\n",
      "\n",
      "Granger Causality\n",
      "number of lags (no zero) 10\n",
      "ssr based F test:         F=1.3199  , p=0.2375  , df_denom=69, df_num=10\n",
      "ssr based chi2 test:   chi2=17.2166 , p=0.0697  , df=10\n",
      "likelihood ratio test: chi2=15.7538 , p=0.1069  , df=10\n",
      "parameter F test:         F=1.3199  , p=0.2375  , df_denom=69, df_num=10\n",
      "\n",
      "Granger Causality\n",
      "number of lags (no zero) 10\n",
      "ssr based F test:         F=1.2453  , p=0.2788  , df_denom=69, df_num=10\n",
      "ssr based chi2 test:   chi2=16.2436 , p=0.0929  , df=10\n",
      "likelihood ratio test: chi2=14.9333 , p=0.1345  , df=10\n",
      "parameter F test:         F=1.2453  , p=0.2788  , df_denom=69, df_num=10\n",
      "\n",
      "Granger Causality\n",
      "number of lags (no zero) 10\n",
      "ssr based F test:         F=1.2234  , p=0.2920  , df_denom=69, df_num=10\n",
      "ssr based chi2 test:   chi2=15.9568 , p=0.1009  , df=10\n",
      "likelihood ratio test: chi2=14.6900 , p=0.1438  , df=10\n",
      "parameter F test:         F=1.2234  , p=0.2920  , df_denom=69, df_num=10\n",
      "\n",
      "Granger Causality\n",
      "number of lags (no zero) 10\n",
      "ssr based F test:         F=1.1696  , p=0.3262  , df_denom=69, df_num=10\n",
      "ssr based chi2 test:   chi2=15.2551 , p=0.1230  , df=10\n",
      "likelihood ratio test: chi2=14.0920 , p=0.1688  , df=10\n",
      "parameter F test:         F=1.1696  , p=0.3262  , df_denom=69, df_num=10\n",
      "\n",
      "Granger Causality\n",
      "number of lags (no zero) 10\n",
      "ssr based F test:         F=2.4696  , p=0.0137  , df_denom=69, df_num=10\n",
      "ssr based chi2 test:   chi2=32.2124 , p=0.0004  , df=10\n",
      "likelihood ratio test: chi2=27.5356 , p=0.0021  , df=10\n",
      "parameter F test:         F=2.4696  , p=0.0137  , df_denom=69, df_num=10\n",
      "\n",
      "Granger Causality\n",
      "number of lags (no zero) 10\n",
      "ssr based F test:         F=1.2611  , p=0.2696  , df_denom=69, df_num=10\n",
      "ssr based chi2 test:   chi2=16.4491 , p=0.0875  , df=10\n",
      "likelihood ratio test: chi2=15.1072 , p=0.1282  , df=10\n",
      "parameter F test:         F=1.2611  , p=0.2696  , df_denom=69, df_num=10\n",
      "\n",
      "Granger Causality\n",
      "number of lags (no zero) 10\n",
      "ssr based F test:         F=1.0080  , p=0.4457  , df_denom=69, df_num=10\n",
      "ssr based chi2 test:   chi2=13.1483 , p=0.2155  , df=10\n",
      "likelihood ratio test: chi2=12.2723 , p=0.2672  , df=10\n",
      "parameter F test:         F=1.0080  , p=0.4457  , df_denom=69, df_num=10\n",
      "\n",
      "Granger Causality\n",
      "number of lags (no zero) 10\n",
      "ssr based F test:         F=0.8819  , p=0.5541  , df_denom=69, df_num=10\n",
      "ssr based chi2 test:   chi2=11.5035 , p=0.3197  , df=10\n",
      "likelihood ratio test: chi2=10.8256 , p=0.3713  , df=10\n",
      "parameter F test:         F=0.8819  , p=0.5541  , df_denom=69, df_num=10\n",
      "\n",
      "Granger Causality\n",
      "number of lags (no zero) 10\n",
      "ssr based F test:         F=1.4109  , p=0.1940  , df_denom=69, df_num=10\n",
      "ssr based chi2 test:   chi2=18.4031 , p=0.0485  , df=10\n",
      "likelihood ratio test: chi2=16.7442 , p=0.0802  , df=10\n",
      "parameter F test:         F=1.4109  , p=0.1940  , df_denom=69, df_num=10\n",
      "\n",
      "Granger Causality\n",
      "number of lags (no zero) 10\n",
      "ssr based F test:         F=0.7030  , p=0.7185  , df_denom=69, df_num=10\n",
      "ssr based chi2 test:   chi2=9.1692  , p=0.5161  , df=10\n",
      "likelihood ratio test: chi2=8.7316  , p=0.5577  , df=10\n",
      "parameter F test:         F=0.7030  , p=0.7185  , df_denom=69, df_num=10\n",
      "\n",
      "Granger Causality\n",
      "number of lags (no zero) 10\n",
      "ssr based F test:         F=1.1146  , p=0.3642  , df_denom=69, df_num=10\n",
      "ssr based chi2 test:   chi2=14.5378 , p=0.1498  , df=10\n",
      "likelihood ratio test: chi2=13.4765 , p=0.1982  , df=10\n",
      "parameter F test:         F=1.1146  , p=0.3642  , df_denom=69, df_num=10\n",
      "\n",
      "Granger Causality\n",
      "number of lags (no zero) 10\n",
      "ssr based F test:         F=0.7031  , p=0.7184  , df_denom=69, df_num=10\n",
      "ssr based chi2 test:   chi2=9.1704  , p=0.5160  , df=10\n",
      "likelihood ratio test: chi2=8.7327  , p=0.5576  , df=10\n",
      "parameter F test:         F=0.7031  , p=0.7184  , df_denom=69, df_num=10\n",
      "\n",
      "Granger Causality\n",
      "number of lags (no zero) 10\n",
      "ssr based F test:         F=0.5746  , p=0.8291  , df_denom=69, df_num=10\n",
      "ssr based chi2 test:   chi2=7.4947  , p=0.6781  , df=10\n",
      "likelihood ratio test: chi2=7.1989  , p=0.7065  , df=10\n",
      "parameter F test:         F=0.5746  , p=0.8291  , df_denom=69, df_num=10\n",
      "\n",
      "Granger Causality\n",
      "number of lags (no zero) 10\n",
      "ssr based F test:         F=0.8935  , p=0.5438  , df_denom=69, df_num=10\n",
      "ssr based chi2 test:   chi2=11.6540 , p=0.3089  , df=10\n",
      "likelihood ratio test: chi2=10.9589 , p=0.3607  , df=10\n",
      "parameter F test:         F=0.8935  , p=0.5438  , df_denom=69, df_num=10\n",
      "\n",
      "Granger Causality\n",
      "number of lags (no zero) 10\n",
      "ssr based F test:         F=0.7729  , p=0.6541  , df_denom=69, df_num=10\n",
      "ssr based chi2 test:   chi2=10.0819 , p=0.4333  , df=10\n",
      "likelihood ratio test: chi2=9.5561  , p=0.4803  , df=10\n",
      "parameter F test:         F=0.7729  , p=0.6541  , df_denom=69, df_num=10\n",
      "\n",
      "Granger Causality\n",
      "number of lags (no zero) 10\n",
      "ssr based F test:         F=0.8208  , p=0.6099  , df_denom=69, df_num=10\n",
      "ssr based chi2 test:   chi2=10.7057 , p=0.3809  , df=10\n",
      "likelihood ratio test: chi2=10.1154 , p=0.4304  , df=10\n",
      "parameter F test:         F=0.8208  , p=0.6099  , df_denom=69, df_num=10\n",
      "\n",
      "Granger Causality\n",
      "number of lags (no zero) 10\n",
      "ssr based F test:         F=0.8291  , p=0.6022  , df_denom=69, df_num=10\n",
      "ssr based chi2 test:   chi2=10.8146 , p=0.3721  , df=10\n",
      "likelihood ratio test: chi2=10.2127 , p=0.4220  , df=10\n",
      "parameter F test:         F=0.8291  , p=0.6022  , df_denom=69, df_num=10\n",
      "\n",
      "Granger Causality\n",
      "number of lags (no zero) 10\n",
      "ssr based F test:         F=1.8513  , p=0.0676  , df_denom=69, df_num=10\n",
      "ssr based chi2 test:   chi2=24.1473 , p=0.0072  , df=10\n",
      "likelihood ratio test: chi2=21.3912 , p=0.0185  , df=10\n",
      "parameter F test:         F=1.8513  , p=0.0676  , df_denom=69, df_num=10\n",
      "\n",
      "Granger Causality\n",
      "number of lags (no zero) 10\n",
      "ssr based F test:         F=0.4575  , p=0.9114  , df_denom=69, df_num=10\n",
      "ssr based chi2 test:   chi2=5.9670  , p=0.8180  , df=10\n",
      "likelihood ratio test: chi2=5.7776  , p=0.8336  , df=10\n",
      "parameter F test:         F=0.4575  , p=0.9114  , df_denom=69, df_num=10\n",
      "\n",
      "Granger Causality\n",
      "number of lags (no zero) 10\n",
      "ssr based F test:         F=1.7153  , p=0.0946  , df_denom=69, df_num=10\n",
      "ssr based chi2 test:   chi2=22.3739 , p=0.0133  , df=10\n",
      "likelihood ratio test: chi2=19.9820 , p=0.0294  , df=10\n",
      "parameter F test:         F=1.7153  , p=0.0946  , df_denom=69, df_num=10\n",
      "\n",
      "Granger Causality\n",
      "number of lags (no zero) 10\n",
      "ssr based F test:         F=0.8753  , p=0.5601  , df_denom=69, df_num=10\n",
      "ssr based chi2 test:   chi2=11.4173 , p=0.3259  , df=10\n",
      "likelihood ratio test: chi2=10.7490 , p=0.3774  , df=10\n",
      "parameter F test:         F=0.8753  , p=0.5601  , df_denom=69, df_num=10\n",
      "\n",
      "Granger Causality\n",
      "number of lags (no zero) 10\n",
      "ssr based F test:         F=2.5645  , p=0.0107  , df_denom=69, df_num=10\n",
      "ssr based chi2 test:   chi2=33.4494 , p=0.0002  , df=10\n",
      "likelihood ratio test: chi2=28.4420 , p=0.0015  , df=10\n",
      "parameter F test:         F=2.5645  , p=0.0107  , df_denom=69, df_num=10\n",
      "\n",
      "Granger Causality\n",
      "number of lags (no zero) 10\n",
      "ssr based F test:         F=0.6623  , p=0.7550  , df_denom=69, df_num=10\n",
      "ssr based chi2 test:   chi2=8.6393  , p=0.5666  , df=10\n",
      "likelihood ratio test: chi2=8.2494  , p=0.6045  , df=10\n",
      "parameter F test:         F=0.6623  , p=0.7550  , df_denom=69, df_num=10\n",
      "\n",
      "Granger Causality\n",
      "number of lags (no zero) 10\n",
      "ssr based F test:         F=1.7042  , p=0.0972  , df_denom=69, df_num=10\n",
      "ssr based chi2 test:   chi2=22.2280 , p=0.0140  , df=10\n",
      "likelihood ratio test: chi2=19.8651 , p=0.0306  , df=10\n",
      "parameter F test:         F=1.7042  , p=0.0972  , df_denom=69, df_num=10\n",
      "\n",
      "Granger Causality\n",
      "number of lags (no zero) 10\n",
      "ssr based F test:         F=1.1979  , p=0.3078  , df_denom=69, df_num=10\n",
      "ssr based chi2 test:   chi2=15.6246 , p=0.1109  , df=10\n",
      "likelihood ratio test: chi2=14.4074 , p=0.1552  , df=10\n",
      "parameter F test:         F=1.1979  , p=0.3078  , df_denom=69, df_num=10\n",
      "\n",
      "Granger Causality\n",
      "number of lags (no zero) 10\n",
      "ssr based F test:         F=1.8459  , p=0.0685  , df_denom=69, df_num=10\n",
      "ssr based chi2 test:   chi2=24.0769 , p=0.0074  , df=10\n",
      "likelihood ratio test: chi2=21.3356 , p=0.0189  , df=10\n",
      "parameter F test:         F=1.8459  , p=0.0685  , df_denom=69, df_num=10\n",
      "\n",
      "Granger Causality\n",
      "number of lags (no zero) 10\n",
      "ssr based F test:         F=1.2167  , p=0.2961  , df_denom=69, df_num=10\n",
      "ssr based chi2 test:   chi2=15.8696 , p=0.1034  , df=10\n",
      "likelihood ratio test: chi2=14.6159 , p=0.1467  , df=10\n",
      "parameter F test:         F=1.2167  , p=0.2961  , df_denom=69, df_num=10\n",
      "\n",
      "Granger Causality\n",
      "number of lags (no zero) 10\n",
      "ssr based F test:         F=2.2987  , p=0.0215  , df_denom=69, df_num=10\n",
      "ssr based chi2 test:   chi2=29.9834 , p=0.0009  , df=10\n",
      "likelihood ratio test: chi2=25.8789 , p=0.0039  , df=10\n",
      "parameter F test:         F=2.2987  , p=0.0215  , df_denom=69, df_num=10\n",
      "\n",
      "Granger Causality\n",
      "number of lags (no zero) 10\n",
      "ssr based F test:         F=0.9535  , p=0.4913  , df_denom=69, df_num=10\n",
      "ssr based chi2 test:   chi2=12.4364 , p=0.2569  , df=10\n",
      "likelihood ratio test: chi2=11.6489 , p=0.3092  , df=10\n",
      "parameter F test:         F=0.9535  , p=0.4913  , df_denom=69, df_num=10\n",
      "\n",
      "Granger Causality\n",
      "number of lags (no zero) 10\n",
      "ssr based F test:         F=1.0144  , p=0.4406  , df_denom=69, df_num=10\n",
      "ssr based chi2 test:   chi2=13.2314 , p=0.2110  , df=10\n",
      "likelihood ratio test: chi2=12.3447 , p=0.2626  , df=10\n",
      "parameter F test:         F=1.0144  , p=0.4406  , df_denom=69, df_num=10\n",
      "\n",
      "Granger Causality\n",
      "number of lags (no zero) 10\n",
      "ssr based F test:         F=1.7281  , p=0.0917  , df_denom=69, df_num=10\n",
      "ssr based chi2 test:   chi2=22.5410 , p=0.0126  , df=10\n",
      "likelihood ratio test: chi2=20.1157 , p=0.0282  , df=10\n",
      "parameter F test:         F=1.7281  , p=0.0917  , df_denom=69, df_num=10\n",
      "\n",
      "Granger Causality\n",
      "number of lags (no zero) 10\n",
      "ssr based F test:         F=0.6025  , p=0.8064  , df_denom=69, df_num=10\n",
      "ssr based chi2 test:   chi2=7.8592  , p=0.6426  , df=10\n",
      "likelihood ratio test: chi2=7.5348  , p=0.6742  , df=10\n",
      "parameter F test:         F=0.6025  , p=0.8064  , df_denom=69, df_num=10\n",
      "\n",
      "Granger Causality\n",
      "number of lags (no zero) 10\n",
      "ssr based F test:         F=1.2758  , p=0.2613  , df_denom=69, df_num=10\n",
      "ssr based chi2 test:   chi2=16.6403 , p=0.0827  , df=10\n",
      "likelihood ratio test: chi2=15.2687 , p=0.1226  , df=10\n",
      "parameter F test:         F=1.2758  , p=0.2613  , df_denom=69, df_num=10\n",
      "\n",
      "Granger Causality\n",
      "number of lags (no zero) 10\n",
      "ssr based F test:         F=0.5522  , p=0.8466  , df_denom=69, df_num=10\n",
      "ssr based chi2 test:   chi2=7.2026  , p=0.7062  , df=10\n",
      "likelihood ratio test: chi2=6.9289  , p=0.7321  , df=10\n",
      "parameter F test:         F=0.5522  , p=0.8466  , df_denom=69, df_num=10\n",
      "\n",
      "Granger Causality\n",
      "number of lags (no zero) 10\n",
      "ssr based F test:         F=1.0867  , p=0.3845  , df_denom=69, df_num=10\n",
      "ssr based chi2 test:   chi2=14.1741 , p=0.1652  , df=10\n",
      "likelihood ratio test: chi2=13.1628 , p=0.2147  , df=10\n",
      "parameter F test:         F=1.0867  , p=0.3845  , df_denom=69, df_num=10\n",
      "\n",
      "Granger Causality\n",
      "number of lags (no zero) 10\n",
      "ssr based F test:         F=2.8955  , p=0.0044  , df_denom=69, df_num=10\n",
      "ssr based chi2 test:   chi2=37.7671 , p=0.0000  , df=10\n",
      "likelihood ratio test: chi2=31.5359 , p=0.0005  , df=10\n",
      "parameter F test:         F=2.8955  , p=0.0044  , df_denom=69, df_num=10\n",
      "\n",
      "Granger Causality\n",
      "number of lags (no zero) 10\n",
      "ssr based F test:         F=0.5821  , p=0.8232  , df_denom=69, df_num=10\n",
      "ssr based chi2 test:   chi2=7.5920  , p=0.6686  , df=10\n",
      "likelihood ratio test: chi2=7.2887  , p=0.6979  , df=10\n",
      "parameter F test:         F=0.5821  , p=0.8232  , df_denom=69, df_num=10\n",
      "\n",
      "Granger Causality\n",
      "number of lags (no zero) 10\n",
      "ssr based F test:         F=0.7400  , p=0.6845  , df_denom=69, df_num=10\n",
      "ssr based chi2 test:   chi2=9.6527  , p=0.4715  , df=10\n",
      "likelihood ratio test: chi2=9.1693  , p=0.5161  , df=10\n",
      "parameter F test:         F=0.7400  , p=0.6845  , df_denom=69, df_num=10\n",
      "\n",
      "Granger Causality\n",
      "number of lags (no zero) 10\n",
      "ssr based F test:         F=1.0010  , p=0.4515  , df_denom=69, df_num=10\n",
      "ssr based chi2 test:   chi2=13.0562 , p=0.2205  , df=10\n",
      "likelihood ratio test: chi2=12.1918 , p=0.2724  , df=10\n",
      "parameter F test:         F=1.0010  , p=0.4515  , df_denom=69, df_num=10\n",
      "\n",
      "Granger Causality\n",
      "number of lags (no zero) 10\n",
      "ssr based F test:         F=1.8312  , p=0.0711  , df_denom=69, df_num=10\n",
      "ssr based chi2 test:   chi2=23.8855 , p=0.0079  , df=10\n",
      "likelihood ratio test: chi2=21.1845 , p=0.0198  , df=10\n",
      "parameter F test:         F=1.8312  , p=0.0711  , df_denom=69, df_num=10\n",
      "\n",
      "Granger Causality\n",
      "number of lags (no zero) 10\n",
      "ssr based F test:         F=0.9596  , p=0.4860  , df_denom=69, df_num=10\n",
      "ssr based chi2 test:   chi2=12.5170 , p=0.2519  , df=10\n",
      "likelihood ratio test: chi2=11.7197 , p=0.3043  , df=10\n",
      "parameter F test:         F=0.9596  , p=0.4860  , df_denom=69, df_num=10\n",
      "\n",
      "Granger Causality\n",
      "number of lags (no zero) 10\n",
      "ssr based F test:         F=0.8218  , p=0.6090  , df_denom=69, df_num=10\n",
      "ssr based chi2 test:   chi2=10.7185 , p=0.3799  , df=10\n",
      "likelihood ratio test: chi2=10.1268 , p=0.4294  , df=10\n",
      "parameter F test:         F=0.8218  , p=0.6090  , df_denom=69, df_num=10\n",
      "\n",
      "Granger Causality\n",
      "number of lags (no zero) 10\n",
      "ssr based F test:         F=2.4915  , p=0.0129  , df_denom=69, df_num=10\n",
      "ssr based chi2 test:   chi2=32.4985 , p=0.0003  , df=10\n",
      "likelihood ratio test: chi2=27.7460 , p=0.0020  , df=10\n",
      "parameter F test:         F=2.4915  , p=0.0129  , df_denom=69, df_num=10\n",
      "\n",
      "Granger Causality\n",
      "number of lags (no zero) 10\n",
      "ssr based F test:         F=0.6248  , p=0.7877  , df_denom=69, df_num=10\n",
      "ssr based chi2 test:   chi2=8.1494  , p=0.6142  , df=10\n",
      "likelihood ratio test: chi2=7.8013  , p=0.6482  , df=10\n",
      "parameter F test:         F=0.6248  , p=0.7877  , df_denom=69, df_num=10\n",
      "\n",
      "Granger Causality\n",
      "number of lags (no zero) 10\n",
      "ssr based F test:         F=1.9846  , p=0.0483  , df_denom=69, df_num=10\n",
      "ssr based chi2 test:   chi2=25.8861 , p=0.0039  , df=10\n",
      "likelihood ratio test: chi2=22.7518 , p=0.0117  , df=10\n",
      "parameter F test:         F=1.9846  , p=0.0483  , df_denom=69, df_num=10\n",
      "\n",
      "Granger Causality\n",
      "number of lags (no zero) 10\n",
      "ssr based F test:         F=1.0861  , p=0.3849  , df_denom=69, df_num=10\n",
      "ssr based chi2 test:   chi2=14.1663 , p=0.1655  , df=10\n",
      "likelihood ratio test: chi2=13.1561 , p=0.2151  , df=10\n",
      "parameter F test:         F=1.0861  , p=0.3849  , df_denom=69, df_num=10\n",
      "\n",
      "Granger Causality\n",
      "number of lags (no zero) 10\n",
      "ssr based F test:         F=0.8518  , p=0.5815  , df_denom=69, df_num=10\n",
      "ssr based chi2 test:   chi2=11.1100 , p=0.3490  , df=10\n",
      "likelihood ratio test: chi2=10.4759 , p=0.3998  , df=10\n",
      "parameter F test:         F=0.8518  , p=0.5815  , df_denom=69, df_num=10\n",
      "\n",
      "Granger Causality\n",
      "number of lags (no zero) 10\n",
      "ssr based F test:         F=1.0976  , p=0.3764  , df_denom=69, df_num=10\n",
      "ssr based chi2 test:   chi2=14.3171 , p=0.1590  , df=10\n",
      "likelihood ratio test: chi2=13.2863 , p=0.2081  , df=10\n",
      "parameter F test:         F=1.0976  , p=0.3764  , df_denom=69, df_num=10\n",
      "\n",
      "Granger Causality\n",
      "number of lags (no zero) 10\n",
      "ssr based F test:         F=1.2596  , p=0.2705  , df_denom=69, df_num=10\n",
      "ssr based chi2 test:   chi2=16.4294 , p=0.0880  , df=10\n",
      "likelihood ratio test: chi2=15.0905 , p=0.1288  , df=10\n",
      "parameter F test:         F=1.2596  , p=0.2705  , df_denom=69, df_num=10\n",
      "\n",
      "Granger Causality\n",
      "number of lags (no zero) 10\n",
      "ssr based F test:         F=0.6614  , p=0.7558  , df_denom=69, df_num=10\n",
      "ssr based chi2 test:   chi2=8.6267  , p=0.5679  , df=10\n",
      "likelihood ratio test: chi2=8.2379  , p=0.6056  , df=10\n",
      "parameter F test:         F=0.6614  , p=0.7558  , df_denom=69, df_num=10\n",
      "\n",
      "Granger Causality\n",
      "number of lags (no zero) 10\n",
      "ssr based F test:         F=1.0521  , p=0.4108  , df_denom=69, df_num=10\n",
      "ssr based chi2 test:   chi2=13.7228 , p=0.1860  , df=10\n",
      "likelihood ratio test: chi2=12.7721 , p=0.2367  , df=10\n",
      "parameter F test:         F=1.0521  , p=0.4108  , df_denom=69, df_num=10\n",
      "\n",
      "Granger Causality\n",
      "number of lags (no zero) 10\n",
      "ssr based F test:         F=1.3964  , p=0.2005  , df_denom=69, df_num=10\n",
      "ssr based chi2 test:   chi2=18.2144 , p=0.0515  , df=10\n",
      "likelihood ratio test: chi2=16.5875 , p=0.0840  , df=10\n",
      "parameter F test:         F=1.3964  , p=0.2005  , df_denom=69, df_num=10\n",
      "\n",
      "Granger Causality\n",
      "number of lags (no zero) 10\n",
      "ssr based F test:         F=0.4405  , p=0.9213  , df_denom=69, df_num=10\n",
      "ssr based chi2 test:   chi2=5.7456  , p=0.8362  , df=10\n",
      "likelihood ratio test: chi2=5.5697  , p=0.8500  , df=10\n",
      "parameter F test:         F=0.4405  , p=0.9213  , df_denom=69, df_num=10\n",
      "\n",
      "Granger Causality\n",
      "number of lags (no zero) 10\n",
      "ssr based F test:         F=1.4357  , p=0.1834  , df_denom=69, df_num=10\n",
      "ssr based chi2 test:   chi2=18.7270 , p=0.0439  , df=10\n",
      "likelihood ratio test: chi2=17.0127 , p=0.0741  , df=10\n",
      "parameter F test:         F=1.4357  , p=0.1834  , df_denom=69, df_num=10\n",
      "\n",
      "Granger Causality\n",
      "number of lags (no zero) 10\n",
      "ssr based F test:         F=1.2878  , p=0.2546  , df_denom=69, df_num=10\n",
      "ssr based chi2 test:   chi2=16.7975 , p=0.0790  , df=10\n",
      "likelihood ratio test: chi2=15.4012 , p=0.1181  , df=10\n",
      "parameter F test:         F=1.2878  , p=0.2546  , df_denom=69, df_num=10\n",
      "\n",
      "Granger Causality\n",
      "number of lags (no zero) 10\n",
      "ssr based F test:         F=1.2448  , p=0.2791  , df_denom=69, df_num=10\n",
      "ssr based chi2 test:   chi2=16.2369 , p=0.0930  , df=10\n",
      "likelihood ratio test: chi2=14.9275 , p=0.1347  , df=10\n",
      "parameter F test:         F=1.2448  , p=0.2791  , df_denom=69, df_num=10\n",
      "\n",
      "Granger Causality\n",
      "number of lags (no zero) 10\n",
      "ssr based F test:         F=1.5717  , p=0.1337  , df_denom=69, df_num=10\n",
      "ssr based chi2 test:   chi2=20.5010 , p=0.0249  , df=10\n",
      "likelihood ratio test: chi2=18.4693 , p=0.0475  , df=10\n",
      "parameter F test:         F=1.5717  , p=0.1337  , df_denom=69, df_num=10\n",
      "\n",
      "Granger Causality\n",
      "number of lags (no zero) 10\n",
      "ssr based F test:         F=1.0792  , p=0.3901  , df_denom=69, df_num=10\n",
      "ssr based chi2 test:   chi2=14.0766 , p=0.1695  , df=10\n",
      "likelihood ratio test: chi2=13.0786 , p=0.2193  , df=10\n",
      "parameter F test:         F=1.0792  , p=0.3901  , df_denom=69, df_num=10\n",
      "\n",
      "Granger Causality\n",
      "number of lags (no zero) 10\n",
      "ssr based F test:         F=0.5831  , p=0.8223  , df_denom=69, df_num=10\n",
      "ssr based chi2 test:   chi2=7.6058  , p=0.6673  , df=10\n",
      "likelihood ratio test: chi2=7.3015  , p=0.6967  , df=10\n",
      "parameter F test:         F=0.5831  , p=0.8223  , df_denom=69, df_num=10\n",
      "\n",
      "Granger Causality\n",
      "number of lags (no zero) 10\n",
      "ssr based F test:         F=1.5153  , p=0.1527  , df_denom=69, df_num=10\n",
      "ssr based chi2 test:   chi2=19.7647 , p=0.0316  , df=10\n",
      "likelihood ratio test: chi2=17.8676 , p=0.0572  , df=10\n",
      "parameter F test:         F=1.5153  , p=0.1527  , df_denom=69, df_num=10\n",
      "\n",
      "Granger Causality\n",
      "number of lags (no zero) 10\n",
      "ssr based F test:         F=1.1457  , p=0.3423  , df_denom=69, df_num=10\n",
      "ssr based chi2 test:   chi2=14.9435 , p=0.1341  , df=10\n",
      "likelihood ratio test: chi2=13.8251 , p=0.1811  , df=10\n",
      "parameter F test:         F=1.1457  , p=0.3423  , df_denom=69, df_num=10\n",
      "\n",
      "Granger Causality\n",
      "number of lags (no zero) 10\n",
      "ssr based F test:         F=1.2002  , p=0.3064  , df_denom=69, df_num=10\n",
      "ssr based chi2 test:   chi2=15.6547 , p=0.1100  , df=10\n",
      "likelihood ratio test: chi2=14.4330 , p=0.1541  , df=10\n",
      "parameter F test:         F=1.2002  , p=0.3064  , df_denom=69, df_num=10\n",
      "\n",
      "Granger Causality\n",
      "number of lags (no zero) 10\n",
      "ssr based F test:         F=1.1822  , p=0.3179  , df_denom=69, df_num=10\n",
      "ssr based chi2 test:   chi2=15.4203 , p=0.1175  , df=10\n",
      "likelihood ratio test: chi2=14.2331 , p=0.1626  , df=10\n",
      "parameter F test:         F=1.1822  , p=0.3179  , df_denom=69, df_num=10\n",
      "\n",
      "Granger Causality\n",
      "number of lags (no zero) 10\n",
      "ssr based F test:         F=1.5780  , p=0.1317  , df_denom=69, df_num=10\n",
      "ssr based chi2 test:   chi2=20.5833 , p=0.0242  , df=10\n",
      "likelihood ratio test: chi2=18.5363 , p=0.0466  , df=10\n",
      "parameter F test:         F=1.5780  , p=0.1317  , df_denom=69, df_num=10\n",
      "\n",
      "Granger Causality\n",
      "number of lags (no zero) 10\n",
      "ssr based F test:         F=0.7736  , p=0.6534  , df_denom=69, df_num=10\n",
      "ssr based chi2 test:   chi2=10.0907 , p=0.4326  , df=10\n",
      "likelihood ratio test: chi2=9.5641  , p=0.4795  , df=10\n",
      "parameter F test:         F=0.7736  , p=0.6534  , df_denom=69, df_num=10\n",
      "\n",
      "Granger Causality\n",
      "number of lags (no zero) 10\n",
      "ssr based F test:         F=1.8092  , p=0.0751  , df_denom=69, df_num=10\n",
      "ssr based chi2 test:   chi2=23.5981 , p=0.0087  , df=10\n",
      "likelihood ratio test: chi2=20.9572 , p=0.0214  , df=10\n",
      "parameter F test:         F=1.8092  , p=0.0751  , df_denom=69, df_num=10\n",
      "\n",
      "Granger Causality\n",
      "number of lags (no zero) 10\n",
      "ssr based F test:         F=1.5723  , p=0.1335  , df_denom=69, df_num=10\n",
      "ssr based chi2 test:   chi2=20.5076 , p=0.0248  , df=10\n",
      "likelihood ratio test: chi2=18.4747 , p=0.0475  , df=10\n",
      "parameter F test:         F=1.5723  , p=0.1335  , df_denom=69, df_num=10\n",
      "\n",
      "Granger Causality\n",
      "number of lags (no zero) 10\n",
      "ssr based F test:         F=0.4920  , p=0.8897  , df_denom=69, df_num=10\n",
      "ssr based chi2 test:   chi2=6.4174  , p=0.7791  , df=10\n",
      "likelihood ratio test: chi2=6.1989  , p=0.7983  , df=10\n",
      "parameter F test:         F=0.4920  , p=0.8897  , df_denom=69, df_num=10\n",
      "\n",
      "Granger Causality\n",
      "number of lags (no zero) 10\n",
      "ssr based F test:         F=0.9481  , p=0.4959  , df_denom=69, df_num=10\n",
      "ssr based chi2 test:   chi2=12.3668 , p=0.2613  , df=10\n",
      "likelihood ratio test: chi2=11.5878 , p=0.3136  , df=10\n",
      "parameter F test:         F=0.9481  , p=0.4959  , df_denom=69, df_num=10\n",
      "\n",
      "Granger Causality\n",
      "number of lags (no zero) 10\n",
      "ssr based F test:         F=0.9926  , p=0.4584  , df_denom=69, df_num=10\n",
      "ssr based chi2 test:   chi2=12.9465 , p=0.2267  , df=10\n",
      "likelihood ratio test: chi2=12.0959 , p=0.2787  , df=10\n",
      "parameter F test:         F=0.9926  , p=0.4584  , df_denom=69, df_num=10\n",
      "\n",
      "Granger Causality\n",
      "number of lags (no zero) 10\n",
      "ssr based F test:         F=1.0456  , p=0.4158  , df_denom=69, df_num=10\n",
      "ssr based chi2 test:   chi2=13.6383 , p=0.1901  , df=10\n",
      "likelihood ratio test: chi2=12.6987 , p=0.2410  , df=10\n",
      "parameter F test:         F=1.0456  , p=0.4158  , df_denom=69, df_num=10\n",
      "\n",
      "Granger Causality\n",
      "number of lags (no zero) 10\n",
      "ssr based F test:         F=1.3550  , p=0.2199  , df_denom=69, df_num=10\n",
      "ssr based chi2 test:   chi2=17.6733 , p=0.0607  , df=10\n",
      "likelihood ratio test: chi2=16.1362 , p=0.0958  , df=10\n",
      "parameter F test:         F=1.3550  , p=0.2199  , df_denom=69, df_num=10\n",
      "\n",
      "Granger Causality\n",
      "number of lags (no zero) 10\n",
      "ssr based F test:         F=1.5245  , p=0.1494  , df_denom=69, df_num=10\n",
      "ssr based chi2 test:   chi2=19.8846 , p=0.0304  , df=10\n",
      "likelihood ratio test: chi2=17.9659 , p=0.0555  , df=10\n",
      "parameter F test:         F=1.5245  , p=0.1494  , df_denom=69, df_num=10\n",
      "\n",
      "Granger Causality\n",
      "number of lags (no zero) 10\n",
      "ssr based F test:         F=0.4020  , p=0.9413  , df_denom=69, df_num=10\n",
      "ssr based chi2 test:   chi2=5.2440  , p=0.8743  , df=10\n",
      "likelihood ratio test: chi2=5.0969  , p=0.8846  , df=10\n",
      "parameter F test:         F=0.4020  , p=0.9413  , df_denom=69, df_num=10\n",
      "\n",
      "Granger Causality\n",
      "number of lags (no zero) 10\n",
      "ssr based F test:         F=1.3312  , p=0.2317  , df_denom=69, df_num=10\n",
      "ssr based chi2 test:   chi2=17.3639 , p=0.0667  , df=10\n",
      "likelihood ratio test: chi2=15.8773 , p=0.1032  , df=10\n",
      "parameter F test:         F=1.3312  , p=0.2317  , df_denom=69, df_num=10\n",
      "\n",
      "Granger Causality\n",
      "number of lags (no zero) 10\n",
      "ssr based F test:         F=1.6250  , p=0.1178  , df_denom=69, df_num=10\n",
      "ssr based chi2 test:   chi2=21.1956 , p=0.0198  , df=10\n",
      "likelihood ratio test: chi2=19.0333 , p=0.0398  , df=10\n",
      "parameter F test:         F=1.6250  , p=0.1178  , df_denom=69, df_num=10\n",
      "\n",
      "Granger Causality\n",
      "number of lags (no zero) 10\n",
      "ssr based F test:         F=1.0172  , p=0.4383  , df_denom=69, df_num=10\n",
      "ssr based chi2 test:   chi2=13.2680 , p=0.2091  , df=10\n",
      "likelihood ratio test: chi2=12.3766 , p=0.2606  , df=10\n",
      "parameter F test:         F=1.0172  , p=0.4383  , df_denom=69, df_num=10\n",
      "\n",
      "Granger Causality\n",
      "number of lags (no zero) 10\n",
      "ssr based F test:         F=1.4796  , p=0.1658  , df_denom=69, df_num=10\n",
      "ssr based chi2 test:   chi2=19.2996 , p=0.0366  , df=10\n",
      "likelihood ratio test: chi2=17.4855 , p=0.0643  , df=10\n",
      "parameter F test:         F=1.4796  , p=0.1658  , df_denom=69, df_num=10\n",
      "\n",
      "Granger Causality\n",
      "number of lags (no zero) 10\n",
      "ssr based F test:         F=1.0813  , p=0.3885  , df_denom=69, df_num=10\n",
      "ssr based chi2 test:   chi2=14.1038 , p=0.1683  , df=10\n",
      "likelihood ratio test: chi2=13.1021 , p=0.2180  , df=10\n",
      "parameter F test:         F=1.0813  , p=0.3885  , df_denom=69, df_num=10\n",
      "\n",
      "Granger Causality\n",
      "number of lags (no zero) 10\n",
      "ssr based F test:         F=0.8030  , p=0.6263  , df_denom=69, df_num=10\n",
      "ssr based chi2 test:   chi2=10.4739 , p=0.3999  , df=10\n",
      "likelihood ratio test: chi2=9.9079  , p=0.4486  , df=10\n",
      "parameter F test:         F=0.8030  , p=0.6263  , df_denom=69, df_num=10\n",
      "\n",
      "Granger Causality\n",
      "number of lags (no zero) 10\n",
      "ssr based F test:         F=0.7539  , p=0.6717  , df_denom=69, df_num=10\n",
      "ssr based chi2 test:   chi2=9.8338  , p=0.4552  , df=10\n",
      "likelihood ratio test: chi2=9.3327  , p=0.5008  , df=10\n",
      "parameter F test:         F=0.7539  , p=0.6717  , df_denom=69, df_num=10\n",
      "\n",
      "Granger Causality\n",
      "number of lags (no zero) 10\n",
      "ssr based F test:         F=2.4269  , p=0.0153  , df_denom=69, df_num=10\n",
      "ssr based chi2 test:   chi2=31.6549 , p=0.0005  , df=10\n",
      "likelihood ratio test: chi2=27.1241 , p=0.0025  , df=10\n",
      "parameter F test:         F=2.4269  , p=0.0153  , df_denom=69, df_num=10\n",
      "\n",
      "Granger Causality\n",
      "number of lags (no zero) 10\n",
      "ssr based F test:         F=0.7072  , p=0.7146  , df_denom=69, df_num=10\n",
      "ssr based chi2 test:   chi2=9.2242  , p=0.5110  , df=10\n",
      "likelihood ratio test: chi2=8.7815  , p=0.5530  , df=10\n",
      "parameter F test:         F=0.7072  , p=0.7146  , df_denom=69, df_num=10\n",
      "\n",
      "Granger Causality\n",
      "number of lags (no zero) 10\n",
      "ssr based F test:         F=0.2439  , p=0.9904  , df_denom=69, df_num=10\n",
      "ssr based chi2 test:   chi2=3.1817  , p=0.9768  , df=10\n",
      "likelihood ratio test: chi2=3.1268  , p=0.9783  , df=10\n",
      "parameter F test:         F=0.2439  , p=0.9904  , df_denom=69, df_num=10\n",
      "\n",
      "Granger Causality\n",
      "number of lags (no zero) 10\n",
      "ssr based F test:         F=1.0062  , p=0.4472  , df_denom=69, df_num=10\n",
      "ssr based chi2 test:   chi2=13.1247 , p=0.2168  , df=10\n",
      "likelihood ratio test: chi2=12.2516 , p=0.2686  , df=10\n",
      "parameter F test:         F=1.0062  , p=0.4472  , df_denom=69, df_num=10\n",
      "\n",
      "Granger Causality\n",
      "number of lags (no zero) 10\n",
      "ssr based F test:         F=1.2861  , p=0.2556  , df_denom=69, df_num=10\n",
      "ssr based chi2 test:   chi2=16.7747 , p=0.0795  , df=10\n",
      "likelihood ratio test: chi2=15.3821 , p=0.1187  , df=10\n",
      "parameter F test:         F=1.2861  , p=0.2556  , df_denom=69, df_num=10\n",
      "\n",
      "Granger Causality\n",
      "number of lags (no zero) 10\n",
      "ssr based F test:         F=0.9918  , p=0.4590  , df_denom=69, df_num=10\n",
      "ssr based chi2 test:   chi2=12.9370 , p=0.2272  , df=10\n",
      "likelihood ratio test: chi2=12.0877 , p=0.2792  , df=10\n",
      "parameter F test:         F=0.9918  , p=0.4590  , df_denom=69, df_num=10\n",
      "\n",
      "Granger Causality\n",
      "number of lags (no zero) 10\n",
      "ssr based F test:         F=0.7430  , p=0.6817  , df_denom=69, df_num=10\n",
      "ssr based chi2 test:   chi2=9.6918  , p=0.4679  , df=10\n",
      "likelihood ratio test: chi2=9.2047  , p=0.5128  , df=10\n",
      "parameter F test:         F=0.7430  , p=0.6817  , df_denom=69, df_num=10\n",
      "\n",
      "Granger Causality\n",
      "number of lags (no zero) 10\n",
      "ssr based F test:         F=1.9720  , p=0.0499  , df_denom=69, df_num=10\n",
      "ssr based chi2 test:   chi2=25.7211 , p=0.0041  , df=10\n",
      "likelihood ratio test: chi2=22.6236 , p=0.0122  , df=10\n",
      "parameter F test:         F=1.9720  , p=0.0499  , df_denom=69, df_num=10\n",
      "\n",
      "Granger Causality\n",
      "number of lags (no zero) 10\n",
      "ssr based F test:         F=0.4156  , p=0.9346  , df_denom=69, df_num=10\n",
      "ssr based chi2 test:   chi2=5.4204  , p=0.8614  , df=10\n",
      "likelihood ratio test: chi2=5.2634  , p=0.8729  , df=10\n",
      "parameter F test:         F=0.4156  , p=0.9346  , df_denom=69, df_num=10\n",
      "\n",
      "Granger Causality\n",
      "number of lags (no zero) 10\n",
      "ssr based F test:         F=0.9015  , p=0.5367  , df_denom=69, df_num=10\n",
      "ssr based chi2 test:   chi2=11.7581 , p=0.3016  , df=10\n",
      "likelihood ratio test: chi2=11.0510 , p=0.3536  , df=10\n",
      "parameter F test:         F=0.9015  , p=0.5367  , df_denom=69, df_num=10\n",
      "\n",
      "Granger Causality\n",
      "number of lags (no zero) 10\n",
      "ssr based F test:         F=0.7672  , p=0.6594  , df_denom=69, df_num=10\n",
      "ssr based chi2 test:   chi2=10.0074 , p=0.4398  , df=10\n",
      "likelihood ratio test: chi2=9.4891  , p=0.4864  , df=10\n",
      "parameter F test:         F=0.7672  , p=0.6594  , df_denom=69, df_num=10\n",
      "\n",
      "Granger Causality\n",
      "number of lags (no zero) 10\n",
      "ssr based F test:         F=0.5974  , p=0.8107  , df_denom=69, df_num=10\n",
      "ssr based chi2 test:   chi2=7.7920  , p=0.6491  , df=10\n",
      "likelihood ratio test: chi2=7.4729  , p=0.6802  , df=10\n",
      "parameter F test:         F=0.5974  , p=0.8107  , df_denom=69, df_num=10\n",
      "\n",
      "Granger Causality\n",
      "number of lags (no zero) 10\n",
      "ssr based F test:         F=0.9492  , p=0.4949  , df_denom=69, df_num=10\n",
      "ssr based chi2 test:   chi2=12.3815 , p=0.2603  , df=10\n",
      "likelihood ratio test: chi2=11.6006 , p=0.3127  , df=10\n",
      "parameter F test:         F=0.9492  , p=0.4949  , df_denom=69, df_num=10\n",
      "\n",
      "Granger Causality\n",
      "number of lags (no zero) 10\n",
      "ssr based F test:         F=0.9079  , p=0.5310  , df_denom=69, df_num=10\n",
      "ssr based chi2 test:   chi2=11.8420 , p=0.2958  , df=10\n",
      "likelihood ratio test: chi2=11.1252 , p=0.3478  , df=10\n",
      "parameter F test:         F=0.9079  , p=0.5310  , df_denom=69, df_num=10\n",
      "\n",
      "Granger Causality\n",
      "number of lags (no zero) 10\n",
      "ssr based F test:         F=1.4068  , p=0.1958  , df_denom=69, df_num=10\n",
      "ssr based chi2 test:   chi2=18.3496 , p=0.0493  , df=10\n",
      "likelihood ratio test: chi2=16.6998 , p=0.0813  , df=10\n",
      "parameter F test:         F=1.4068  , p=0.1958  , df_denom=69, df_num=10\n",
      "\n",
      "Granger Causality\n",
      "number of lags (no zero) 10\n",
      "ssr based F test:         F=0.3905  , p=0.9467  , df_denom=69, df_num=10\n",
      "ssr based chi2 test:   chi2=5.0934  , p=0.8849  , df=10\n",
      "likelihood ratio test: chi2=4.9545  , p=0.8942  , df=10\n",
      "parameter F test:         F=0.3905  , p=0.9467  , df_denom=69, df_num=10\n",
      "\n",
      "Granger Causality\n",
      "number of lags (no zero) 10\n",
      "ssr based F test:         F=0.8282  , p=0.6030  , df_denom=69, df_num=10\n",
      "ssr based chi2 test:   chi2=10.8033 , p=0.3731  , df=10\n",
      "likelihood ratio test: chi2=10.2025 , p=0.4229  , df=10\n",
      "parameter F test:         F=0.8282  , p=0.6030  , df_denom=69, df_num=10\n",
      "\n",
      "Granger Causality\n",
      "number of lags (no zero) 10\n",
      "ssr based F test:         F=0.9953  , p=0.4562  , df_denom=69, df_num=10\n",
      "ssr based chi2 test:   chi2=12.9817 , p=0.2247  , df=10\n",
      "likelihood ratio test: chi2=12.1268 , p=0.2767  , df=10\n",
      "parameter F test:         F=0.9953  , p=0.4562  , df_denom=69, df_num=10\n",
      "\n",
      "Granger Causality\n",
      "number of lags (no zero) 10\n",
      "ssr based F test:         F=1.1513  , p=0.3385  , df_denom=69, df_num=10\n",
      "ssr based chi2 test:   chi2=15.0174 , p=0.1314  , df=10\n",
      "likelihood ratio test: chi2=13.8885 , p=0.1781  , df=10\n",
      "parameter F test:         F=1.1513  , p=0.3385  , df_denom=69, df_num=10\n",
      "\n",
      "Granger Causality\n",
      "number of lags (no zero) 10\n",
      "ssr based F test:         F=1.6786  , p=0.1035  , df_denom=69, df_num=10\n",
      "ssr based chi2 test:   chi2=21.8943 , p=0.0157  , df=10\n",
      "likelihood ratio test: chi2=19.5970 , p=0.0333  , df=10\n",
      "parameter F test:         F=1.6786  , p=0.1035  , df_denom=69, df_num=10\n",
      "300\n",
      "\n"
     ]
    },
    {
     "data": {
      "application/vnd.vega.v5+json": {
       "$schema": "https://vega.github.io/schema/vega/v5.json",
       "axes": [
        {
         "name": "x_axis",
         "orient": "bottom",
         "scale": "xscale",
         "zindex": 100
        },
        {
         "name": "y_axis",
         "orient": "left",
         "scale": "yscale",
         "zindex": 100
        }
       ],
       "background": "white",
       "data": [
        {
         "name": "distributions",
         "transform": [
          {
           "sort": {
            "field": [
             "trajectory",
             "timepoint"
            ]
           },
           "type": "collect"
          }
         ],
         "values": [
          {
           "lower": 0,
           "timepoint": 0,
           "trajectory": "Example",
           "upper": 0
          },
          {
           "lower": -1,
           "timepoint": 1,
           "trajectory": "Example",
           "upper": 1
          },
          {
           "lower": -2,
           "timepoint": 2,
           "trajectory": "Example",
           "upper": 2
          },
          {
           "lower": -3,
           "timepoint": 3,
           "trajectory": "Example",
           "upper": 3
          },
          {
           "lower": -4,
           "timepoint": 4,
           "trajectory": "Example",
           "upper": 4
          },
          {
           "lower": -3,
           "timepoint": 5,
           "trajectory": "Example",
           "upper": 3
          },
          {
           "lower": -4,
           "timepoint": 6,
           "trajectory": "Example",
           "upper": 4
          },
          {
           "lower": -5,
           "timepoint": 7,
           "trajectory": "Example",
           "upper": 3
          },
          {
           "lower": -4,
           "timepoint": 8,
           "trajectory": "Example",
           "upper": 4
          },
          {
           "lower": -5,
           "timepoint": 9,
           "trajectory": "Example",
           "upper": 5
          },
          {
           "lower": -6,
           "timepoint": 10,
           "trajectory": "Example",
           "upper": 4
          },
          {
           "lower": -5,
           "timepoint": 11,
           "trajectory": "Example",
           "upper": 5
          },
          {
           "lower": -6,
           "timepoint": 12,
           "trajectory": "Example",
           "upper": 6
          },
          {
           "lower": -5,
           "timepoint": 13,
           "trajectory": "Example",
           "upper": 5
          },
          {
           "lower": -6,
           "timepoint": 14,
           "trajectory": "Example",
           "upper": 6
          },
          {
           "lower": -5,
           "timepoint": 15,
           "trajectory": "Example",
           "upper": 7
          },
          {
           "lower": -6,
           "timepoint": 16,
           "trajectory": "Example",
           "upper": 6
          },
          {
           "lower": -7,
           "timepoint": 17,
           "trajectory": "Example",
           "upper": 7
          },
          {
           "lower": -6,
           "timepoint": 18,
           "trajectory": "Example",
           "upper": 8
          },
          {
           "lower": -7,
           "timepoint": 19,
           "trajectory": "Example",
           "upper": 7
          },
          {
           "lower": -6,
           "timepoint": 20,
           "trajectory": "Example",
           "upper": 8
          },
          {
           "lower": -7,
           "timepoint": 21,
           "trajectory": "Example",
           "upper": 7
          },
          {
           "lower": -6,
           "timepoint": 22,
           "trajectory": "Example",
           "upper": 8
          },
          {
           "lower": -7,
           "timepoint": 23,
           "trajectory": "Example",
           "upper": 7
          },
          {
           "lower": -8,
           "timepoint": 24,
           "trajectory": "Example",
           "upper": 8
          },
          {
           "lower": -7,
           "timepoint": 25,
           "trajectory": "Example",
           "upper": 9
          },
          {
           "lower": -8,
           "timepoint": 26,
           "trajectory": "Example",
           "upper": 8
          },
          {
           "lower": -9,
           "timepoint": 27,
           "trajectory": "Example",
           "upper": 9
          },
          {
           "lower": -8,
           "timepoint": 28,
           "trajectory": "Example",
           "upper": 10
          },
          {
           "lower": -9,
           "timepoint": 29,
           "trajectory": "Example",
           "upper": 9
          },
          {
           "lower": -8.099999999999998,
           "timepoint": 30,
           "trajectory": "Example",
           "upper": 10
          },
          {
           "lower": -9,
           "timepoint": 31,
           "trajectory": "Example",
           "upper": 9.100000000000023
          },
          {
           "lower": -10,
           "timepoint": 32,
           "trajectory": "Example",
           "upper": 10
          },
          {
           "lower": -9.099999999999998,
           "timepoint": 33,
           "trajectory": "Example",
           "upper": 9.100000000000023
          },
          {
           "lower": -10,
           "timepoint": 34,
           "trajectory": "Example",
           "upper": 10
          },
          {
           "lower": -9,
           "timepoint": 35,
           "trajectory": "Example",
           "upper": 11
          },
          {
           "lower": -10,
           "timepoint": 36,
           "trajectory": "Example",
           "upper": 10
          },
          {
           "lower": -9,
           "timepoint": 37,
           "trajectory": "Example",
           "upper": 11
          },
          {
           "lower": -10,
           "timepoint": 38,
           "trajectory": "Example",
           "upper": 10.100000000000023
          },
          {
           "lower": -9,
           "timepoint": 39,
           "trajectory": "Example",
           "upper": 11
          },
          {
           "lower": -10,
           "timepoint": 40,
           "trajectory": "Example",
           "upper": 12
          },
          {
           "lower": -11,
           "timepoint": 41,
           "trajectory": "Example",
           "upper": 11
          },
          {
           "lower": -10,
           "timepoint": 42,
           "trajectory": "Example",
           "upper": 12
          },
          {
           "lower": -11,
           "timepoint": 43,
           "trajectory": "Example",
           "upper": 13
          },
          {
           "lower": -10,
           "timepoint": 44,
           "trajectory": "Example",
           "upper": 12
          },
          {
           "lower": -11,
           "timepoint": 45,
           "trajectory": "Example",
           "upper": 13
          },
          {
           "lower": -10,
           "timepoint": 46,
           "trajectory": "Example",
           "upper": 12
          },
          {
           "lower": -11,
           "timepoint": 47,
           "trajectory": "Example",
           "upper": 13
          },
          {
           "lower": -12,
           "timepoint": 48,
           "trajectory": "Example",
           "upper": 12.100000000000023
          },
          {
           "lower": -11,
           "timepoint": 49,
           "trajectory": "Example",
           "upper": 13
          },
          {
           "lower": -12,
           "timepoint": 50,
           "trajectory": "Example",
           "upper": 12
          },
          {
           "lower": -11,
           "timepoint": 51,
           "trajectory": "Example",
           "upper": 11.100000000000023
          },
          {
           "lower": -12,
           "timepoint": 52,
           "trajectory": "Example",
           "upper": 12
          },
          {
           "lower": -11,
           "timepoint": 53,
           "trajectory": "Example",
           "upper": 13
          },
          {
           "lower": -12,
           "timepoint": 54,
           "trajectory": "Example",
           "upper": 12
          },
          {
           "lower": -13,
           "timepoint": 55,
           "trajectory": "Example",
           "upper": 11.100000000000023
          },
          {
           "lower": -12.099999999999998,
           "timepoint": 56,
           "trajectory": "Example",
           "upper": 12
          },
          {
           "lower": -13,
           "timepoint": 57,
           "trajectory": "Example",
           "upper": 13
          },
          {
           "lower": -14,
           "timepoint": 58,
           "trajectory": "Example",
           "upper": 12
          },
          {
           "lower": -13,
           "timepoint": 59,
           "trajectory": "Example",
           "upper": 13
          },
          {
           "lower": -14,
           "timepoint": 60,
           "trajectory": "Example",
           "upper": 12.100000000000023
          },
          {
           "lower": -15,
           "timepoint": 61,
           "trajectory": "Example",
           "upper": 13
          },
          {
           "lower": -14,
           "timepoint": 62,
           "trajectory": "Example",
           "upper": 12.100000000000023
          },
          {
           "lower": -15,
           "timepoint": 63,
           "trajectory": "Example",
           "upper": 13
          },
          {
           "lower": -14,
           "timepoint": 64,
           "trajectory": "Example",
           "upper": 14
          },
          {
           "lower": -13.099999999999998,
           "timepoint": 65,
           "trajectory": "Example",
           "upper": 15
          },
          {
           "lower": -14,
           "timepoint": 66,
           "trajectory": "Example",
           "upper": 14
          },
          {
           "lower": -13,
           "timepoint": 67,
           "trajectory": "Example",
           "upper": 13
          },
          {
           "lower": -14,
           "timepoint": 68,
           "trajectory": "Example",
           "upper": 14
          },
          {
           "lower": -13,
           "timepoint": 69,
           "trajectory": "Example",
           "upper": 15
          },
          {
           "lower": -14,
           "timepoint": 70,
           "trajectory": "Example",
           "upper": 14
          },
          {
           "lower": -13,
           "timepoint": 71,
           "trajectory": "Example",
           "upper": 15
          },
          {
           "lower": -14,
           "timepoint": 72,
           "trajectory": "Example",
           "upper": 14
          },
          {
           "lower": -13.099999999999998,
           "timepoint": 73,
           "trajectory": "Example",
           "upper": 15
          },
          {
           "lower": -14,
           "timepoint": 74,
           "trajectory": "Example",
           "upper": 14
          },
          {
           "lower": -15,
           "timepoint": 75,
           "trajectory": "Example",
           "upper": 15
          },
          {
           "lower": -14.099999999999998,
           "timepoint": 76,
           "trajectory": "Example",
           "upper": 14
          },
          {
           "lower": -15,
           "timepoint": 77,
           "trajectory": "Example",
           "upper": 15
          },
          {
           "lower": -14,
           "timepoint": 78,
           "trajectory": "Example",
           "upper": 14.100000000000023
          },
          {
           "lower": -15,
           "timepoint": 79,
           "trajectory": "Example",
           "upper": 15
          },
          {
           "lower": -14,
           "timepoint": 80,
           "trajectory": "Example",
           "upper": 16
          },
          {
           "lower": -15,
           "timepoint": 81,
           "trajectory": "Example",
           "upper": 15
          },
          {
           "lower": -16,
           "timepoint": 82,
           "trajectory": "Example",
           "upper": 16
          },
          {
           "lower": -15,
           "timepoint": 83,
           "trajectory": "Example",
           "upper": 15
          },
          {
           "lower": -14.099999999999998,
           "timepoint": 84,
           "trajectory": "Example",
           "upper": 16
          },
          {
           "lower": -15,
           "timepoint": 85,
           "trajectory": "Example",
           "upper": 15
          },
          {
           "lower": -14.099999999999998,
           "timepoint": 86,
           "trajectory": "Example",
           "upper": 16
          },
          {
           "lower": -15,
           "timepoint": 87,
           "trajectory": "Example",
           "upper": 17
          },
          {
           "lower": -14.099999999999998,
           "timepoint": 88,
           "trajectory": "Example",
           "upper": 16.100000000000023
          },
          {
           "lower": -15,
           "timepoint": 89,
           "trajectory": "Example",
           "upper": 17
          },
          {
           "lower": -16,
           "timepoint": 90,
           "trajectory": "Example",
           "upper": 16
          },
          {
           "lower": -15,
           "timepoint": 91,
           "trajectory": "Example",
           "upper": 17
          },
          {
           "lower": -14.099999999999998,
           "timepoint": 92,
           "trajectory": "Example",
           "upper": 16.100000000000023
          },
          {
           "lower": -15,
           "timepoint": 93,
           "trajectory": "Example",
           "upper": 17
          },
          {
           "lower": -16,
           "timepoint": 94,
           "trajectory": "Example",
           "upper": 18
          },
          {
           "lower": -15,
           "timepoint": 95,
           "trajectory": "Example",
           "upper": 17
          },
          {
           "lower": -16,
           "timepoint": 96,
           "trajectory": "Example",
           "upper": 18
          },
          {
           "lower": -15.099999999999998,
           "timepoint": 97,
           "trajectory": "Example",
           "upper": 17
          },
          {
           "lower": -16,
           "timepoint": 98,
           "trajectory": "Example",
           "upper": 18
          },
          {
           "lower": -15,
           "timepoint": 99,
           "trajectory": "Example",
           "upper": 17
          }
         ]
        },
        {
         "name": "traces",
         "transform": [
          {
           "expr": "isValid(datum.value)",
           "type": "filter"
          },
          {
           "sort": {
            "field": [
             "trajectory",
             "timepoint"
            ]
           },
           "type": "collect"
          }
         ],
         "values": [
          {
           "color_by": "Baseline Mean",
           "sample_id": 0,
           "timepoint": 0,
           "trajectory": "Baseline_Mean",
           "value": 0
          },
          {
           "color_by": "Baseline Mean",
           "sample_id": 0,
           "timepoint": 1,
           "trajectory": "Baseline_Mean",
           "value": 0.08666666666666667
          },
          {
           "color_by": "Baseline Mean",
           "sample_id": 0,
           "timepoint": 2,
           "trajectory": "Baseline_Mean",
           "value": 0.08666666666666667
          },
          {
           "color_by": "Baseline Mean",
           "sample_id": 0,
           "timepoint": 3,
           "trajectory": "Baseline_Mean",
           "value": 0.05333333333333334
          },
          {
           "color_by": "Baseline Mean",
           "sample_id": 0,
           "timepoint": 4,
           "trajectory": "Baseline_Mean",
           "value": 0.1
          },
          {
           "color_by": "Baseline Mean",
           "sample_id": 0,
           "timepoint": 5,
           "trajectory": "Baseline_Mean",
           "value": 0.03333333333333333
          },
          {
           "color_by": "Baseline Mean",
           "sample_id": 0,
           "timepoint": 6,
           "trajectory": "Baseline_Mean",
           "value": -0.02666666666666667
          },
          {
           "color_by": "Baseline Mean",
           "sample_id": 0,
           "timepoint": 7,
           "trajectory": "Baseline_Mean",
           "value": -0.06
          },
          {
           "color_by": "Baseline Mean",
           "sample_id": 0,
           "timepoint": 8,
           "trajectory": "Baseline_Mean",
           "value": 0.04
          },
          {
           "color_by": "Baseline Mean",
           "sample_id": 0,
           "timepoint": 9,
           "trajectory": "Baseline_Mean",
           "value": 0.09333333333333334
          },
          {
           "color_by": "Baseline Mean",
           "sample_id": 0,
           "timepoint": 10,
           "trajectory": "Baseline_Mean",
           "value": 0.07333333333333333
          },
          {
           "color_by": "Baseline Mean",
           "sample_id": 0,
           "timepoint": 11,
           "trajectory": "Baseline_Mean",
           "value": 0.02666666666666667
          },
          {
           "color_by": "Baseline Mean",
           "sample_id": 0,
           "timepoint": 12,
           "trajectory": "Baseline_Mean",
           "value": 0.04666666666666667
          },
          {
           "color_by": "Baseline Mean",
           "sample_id": 0,
           "timepoint": 13,
           "trajectory": "Baseline_Mean",
           "value": 0.09333333333333334
          },
          {
           "color_by": "Baseline Mean",
           "sample_id": 0,
           "timepoint": 14,
           "trajectory": "Baseline_Mean",
           "value": 0.11333333333333333
          },
          {
           "color_by": "Baseline Mean",
           "sample_id": 0,
           "timepoint": 15,
           "trajectory": "Baseline_Mean",
           "value": 0.08666666666666667
          },
          {
           "color_by": "Baseline Mean",
           "sample_id": 0,
           "timepoint": 16,
           "trajectory": "Baseline_Mean",
           "value": 0.15333333333333332
          },
          {
           "color_by": "Baseline Mean",
           "sample_id": 0,
           "timepoint": 17,
           "trajectory": "Baseline_Mean",
           "value": 0.18
          },
          {
           "color_by": "Baseline Mean",
           "sample_id": 0,
           "timepoint": 18,
           "trajectory": "Baseline_Mean",
           "value": 0.04
          },
          {
           "color_by": "Baseline Mean",
           "sample_id": 0,
           "timepoint": 19,
           "trajectory": "Baseline_Mean",
           "value": 0.04
          },
          {
           "color_by": "Baseline Mean",
           "sample_id": 0,
           "timepoint": 20,
           "trajectory": "Baseline_Mean",
           "value": 0.08
          },
          {
           "color_by": "Baseline Mean",
           "sample_id": 0,
           "timepoint": 21,
           "trajectory": "Baseline_Mean",
           "value": 0.10666666666666667
          },
          {
           "color_by": "Baseline Mean",
           "sample_id": 0,
           "timepoint": 22,
           "trajectory": "Baseline_Mean",
           "value": 0.09333333333333334
          },
          {
           "color_by": "Baseline Mean",
           "sample_id": 0,
           "timepoint": 23,
           "trajectory": "Baseline_Mean",
           "value": 0.1
          },
          {
           "color_by": "Baseline Mean",
           "sample_id": 0,
           "timepoint": 24,
           "trajectory": "Baseline_Mean",
           "value": 0.05333333333333334
          },
          {
           "color_by": "Baseline Mean",
           "sample_id": 0,
           "timepoint": 25,
           "trajectory": "Baseline_Mean",
           "value": 0.02666666666666667
          },
          {
           "color_by": "Baseline Mean",
           "sample_id": 0,
           "timepoint": 26,
           "trajectory": "Baseline_Mean",
           "value": 0.06
          },
          {
           "color_by": "Baseline Mean",
           "sample_id": 0,
           "timepoint": 27,
           "trajectory": "Baseline_Mean",
           "value": 0.02
          },
          {
           "color_by": "Baseline Mean",
           "sample_id": 0,
           "timepoint": 28,
           "trajectory": "Baseline_Mean",
           "value": 0
          },
          {
           "color_by": "Baseline Mean",
           "sample_id": 0,
           "timepoint": 29,
           "trajectory": "Baseline_Mean",
           "value": 0.06666666666666667
          },
          {
           "color_by": "Baseline Mean",
           "sample_id": 0,
           "timepoint": 30,
           "trajectory": "Baseline_Mean",
           "value": 0.03333333333333333
          },
          {
           "color_by": "Baseline Mean",
           "sample_id": 0,
           "timepoint": 31,
           "trajectory": "Baseline_Mean",
           "value": -0.02
          },
          {
           "color_by": "Baseline Mean",
           "sample_id": 0,
           "timepoint": 32,
           "trajectory": "Baseline_Mean",
           "value": 0
          },
          {
           "color_by": "Baseline Mean",
           "sample_id": 0,
           "timepoint": 33,
           "trajectory": "Baseline_Mean",
           "value": 0
          },
          {
           "color_by": "Baseline Mean",
           "sample_id": 0,
           "timepoint": 34,
           "trajectory": "Baseline_Mean",
           "value": 0.006666666666666667
          },
          {
           "color_by": "Baseline Mean",
           "sample_id": 0,
           "timepoint": 35,
           "trajectory": "Baseline_Mean",
           "value": 0.12
          },
          {
           "color_by": "Baseline Mean",
           "sample_id": 0,
           "timepoint": 36,
           "trajectory": "Baseline_Mean",
           "value": 0.19333333333333333
          },
          {
           "color_by": "Baseline Mean",
           "sample_id": 0,
           "timepoint": 37,
           "trajectory": "Baseline_Mean",
           "value": 0.24666666666666667
          },
          {
           "color_by": "Baseline Mean",
           "sample_id": 0,
           "timepoint": 38,
           "trajectory": "Baseline_Mean",
           "value": 0.20666666666666667
          },
          {
           "color_by": "Baseline Mean",
           "sample_id": 0,
           "timepoint": 39,
           "trajectory": "Baseline_Mean",
           "value": 0.15333333333333332
          },
          {
           "color_by": "Baseline Mean",
           "sample_id": 0,
           "timepoint": 40,
           "trajectory": "Baseline_Mean",
           "value": 0.08666666666666667
          },
          {
           "color_by": "Baseline Mean",
           "sample_id": 0,
           "timepoint": 41,
           "trajectory": "Baseline_Mean",
           "value": 0.14
          },
          {
           "color_by": "Baseline Mean",
           "sample_id": 0,
           "timepoint": 42,
           "trajectory": "Baseline_Mean",
           "value": 0.12
          },
          {
           "color_by": "Baseline Mean",
           "sample_id": 0,
           "timepoint": 43,
           "trajectory": "Baseline_Mean",
           "value": 0.12666666666666668
          },
          {
           "color_by": "Baseline Mean",
           "sample_id": 0,
           "timepoint": 44,
           "trajectory": "Baseline_Mean",
           "value": 0.20666666666666667
          },
          {
           "color_by": "Baseline Mean",
           "sample_id": 0,
           "timepoint": 45,
           "trajectory": "Baseline_Mean",
           "value": 0.2733333333333333
          },
          {
           "color_by": "Baseline Mean",
           "sample_id": 0,
           "timepoint": 46,
           "trajectory": "Baseline_Mean",
           "value": 0.25333333333333335
          },
          {
           "color_by": "Baseline Mean",
           "sample_id": 0,
           "timepoint": 47,
           "trajectory": "Baseline_Mean",
           "value": 0.18
          },
          {
           "color_by": "Baseline Mean",
           "sample_id": 0,
           "timepoint": 48,
           "trajectory": "Baseline_Mean",
           "value": 0.14666666666666667
          },
          {
           "color_by": "Baseline Mean",
           "sample_id": 0,
           "timepoint": 49,
           "trajectory": "Baseline_Mean",
           "value": -0.04666666666666667
          },
          {
           "color_by": "Baseline Mean",
           "sample_id": 0,
           "timepoint": 50,
           "trajectory": "Baseline_Mean",
           "value": -0.06
          },
          {
           "color_by": "Baseline Mean",
           "sample_id": 0,
           "timepoint": 51,
           "trajectory": "Baseline_Mean",
           "value": -0.07333333333333333
          },
          {
           "color_by": "Baseline Mean",
           "sample_id": 0,
           "timepoint": 52,
           "trajectory": "Baseline_Mean",
           "value": -0.03333333333333333
          },
          {
           "color_by": "Baseline Mean",
           "sample_id": 0,
           "timepoint": 53,
           "trajectory": "Baseline_Mean",
           "value": -0.013333333333333334
          },
          {
           "color_by": "Baseline Mean",
           "sample_id": 0,
           "timepoint": 54,
           "trajectory": "Baseline_Mean",
           "value": -0.04
          },
          {
           "color_by": "Baseline Mean",
           "sample_id": 0,
           "timepoint": 55,
           "trajectory": "Baseline_Mean",
           "value": -0.04666666666666667
          },
          {
           "color_by": "Baseline Mean",
           "sample_id": 0,
           "timepoint": 56,
           "trajectory": "Baseline_Mean",
           "value": -0.13333333333333333
          },
          {
           "color_by": "Baseline Mean",
           "sample_id": 0,
           "timepoint": 57,
           "trajectory": "Baseline_Mean",
           "value": -0.17333333333333334
          },
          {
           "color_by": "Baseline Mean",
           "sample_id": 0,
           "timepoint": 58,
           "trajectory": "Baseline_Mean",
           "value": -0.1
          },
          {
           "color_by": "Baseline Mean",
           "sample_id": 0,
           "timepoint": 59,
           "trajectory": "Baseline_Mean",
           "value": -0.04666666666666667
          },
          {
           "color_by": "Baseline Mean",
           "sample_id": 0,
           "timepoint": 60,
           "trajectory": "Baseline_Mean",
           "value": -0.13333333333333333
          },
          {
           "color_by": "Baseline Mean",
           "sample_id": 0,
           "timepoint": 61,
           "trajectory": "Baseline_Mean",
           "value": -0.08666666666666667
          },
          {
           "color_by": "Baseline Mean",
           "sample_id": 0,
           "timepoint": 62,
           "trajectory": "Baseline_Mean",
           "value": -0.16
          },
          {
           "color_by": "Baseline Mean",
           "sample_id": 0,
           "timepoint": 63,
           "trajectory": "Baseline_Mean",
           "value": -0.14
          },
          {
           "color_by": "Baseline Mean",
           "sample_id": 0,
           "timepoint": 64,
           "trajectory": "Baseline_Mean",
           "value": -0.16666666666666666
          },
          {
           "color_by": "Baseline Mean",
           "sample_id": 0,
           "timepoint": 65,
           "trajectory": "Baseline_Mean",
           "value": -0.15333333333333332
          },
          {
           "color_by": "Baseline Mean",
           "sample_id": 0,
           "timepoint": 66,
           "trajectory": "Baseline_Mean",
           "value": -0.20666666666666667
          },
          {
           "color_by": "Baseline Mean",
           "sample_id": 0,
           "timepoint": 67,
           "trajectory": "Baseline_Mean",
           "value": -0.22666666666666666
          },
          {
           "color_by": "Baseline Mean",
           "sample_id": 0,
           "timepoint": 68,
           "trajectory": "Baseline_Mean",
           "value": -0.32
          },
          {
           "color_by": "Baseline Mean",
           "sample_id": 0,
           "timepoint": 69,
           "trajectory": "Baseline_Mean",
           "value": -0.26
          },
          {
           "color_by": "Baseline Mean",
           "sample_id": 0,
           "timepoint": 70,
           "trajectory": "Baseline_Mean",
           "value": -0.24666666666666667
          },
          {
           "color_by": "Baseline Mean",
           "sample_id": 0,
           "timepoint": 71,
           "trajectory": "Baseline_Mean",
           "value": -0.22666666666666666
          },
          {
           "color_by": "Baseline Mean",
           "sample_id": 0,
           "timepoint": 72,
           "trajectory": "Baseline_Mean",
           "value": -0.22
          },
          {
           "color_by": "Baseline Mean",
           "sample_id": 0,
           "timepoint": 73,
           "trajectory": "Baseline_Mean",
           "value": -0.25333333333333335
          },
          {
           "color_by": "Baseline Mean",
           "sample_id": 0,
           "timepoint": 74,
           "trajectory": "Baseline_Mean",
           "value": -0.30666666666666664
          },
          {
           "color_by": "Baseline Mean",
           "sample_id": 0,
           "timepoint": 75,
           "trajectory": "Baseline_Mean",
           "value": -0.28
          },
          {
           "color_by": "Baseline Mean",
           "sample_id": 0,
           "timepoint": 76,
           "trajectory": "Baseline_Mean",
           "value": -0.30666666666666664
          },
          {
           "color_by": "Baseline Mean",
           "sample_id": 0,
           "timepoint": 77,
           "trajectory": "Baseline_Mean",
           "value": -0.2866666666666667
          },
          {
           "color_by": "Baseline Mean",
           "sample_id": 0,
           "timepoint": 78,
           "trajectory": "Baseline_Mean",
           "value": -0.22666666666666666
          },
          {
           "color_by": "Baseline Mean",
           "sample_id": 0,
           "timepoint": 79,
           "trajectory": "Baseline_Mean",
           "value": -0.24666666666666667
          },
          {
           "color_by": "Baseline Mean",
           "sample_id": 0,
           "timepoint": 80,
           "trajectory": "Baseline_Mean",
           "value": -0.16666666666666666
          },
          {
           "color_by": "Baseline Mean",
           "sample_id": 0,
           "timepoint": 81,
           "trajectory": "Baseline_Mean",
           "value": -0.06666666666666667
          },
          {
           "color_by": "Baseline Mean",
           "sample_id": 0,
           "timepoint": 82,
           "trajectory": "Baseline_Mean",
           "value": -0.12666666666666668
          },
          {
           "color_by": "Baseline Mean",
           "sample_id": 0,
           "timepoint": 83,
           "trajectory": "Baseline_Mean",
           "value": -0.11333333333333333
          },
          {
           "color_by": "Baseline Mean",
           "sample_id": 0,
           "timepoint": 84,
           "trajectory": "Baseline_Mean",
           "value": -0.16666666666666666
          },
          {
           "color_by": "Baseline Mean",
           "sample_id": 0,
           "timepoint": 85,
           "trajectory": "Baseline_Mean",
           "value": -0.16666666666666666
          },
          {
           "color_by": "Baseline Mean",
           "sample_id": 0,
           "timepoint": 86,
           "trajectory": "Baseline_Mean",
           "value": -0.19333333333333333
          },
          {
           "color_by": "Baseline Mean",
           "sample_id": 0,
           "timepoint": 87,
           "trajectory": "Baseline_Mean",
           "value": -0.20666666666666667
          },
          {
           "color_by": "Baseline Mean",
           "sample_id": 0,
           "timepoint": 88,
           "trajectory": "Baseline_Mean",
           "value": -0.15333333333333332
          },
          {
           "color_by": "Baseline Mean",
           "sample_id": 0,
           "timepoint": 89,
           "trajectory": "Baseline_Mean",
           "value": -0.18
          },
          {
           "color_by": "Baseline Mean",
           "sample_id": 0,
           "timepoint": 90,
           "trajectory": "Baseline_Mean",
           "value": -0.07333333333333333
          },
          {
           "color_by": "Baseline Mean",
           "sample_id": 0,
           "timepoint": 91,
           "trajectory": "Baseline_Mean",
           "value": -0.11333333333333333
          },
          {
           "color_by": "Baseline Mean",
           "sample_id": 0,
           "timepoint": 92,
           "trajectory": "Baseline_Mean",
           "value": -0.09333333333333334
          },
          {
           "color_by": "Baseline Mean",
           "sample_id": 0,
           "timepoint": 93,
           "trajectory": "Baseline_Mean",
           "value": -0.13333333333333333
          },
          {
           "color_by": "Baseline Mean",
           "sample_id": 0,
           "timepoint": 94,
           "trajectory": "Baseline_Mean",
           "value": -0.12
          },
          {
           "color_by": "Baseline Mean",
           "sample_id": 0,
           "timepoint": 95,
           "trajectory": "Baseline_Mean",
           "value": -0.11333333333333333
          },
          {
           "color_by": "Baseline Mean",
           "sample_id": 0,
           "timepoint": 96,
           "trajectory": "Baseline_Mean",
           "value": -0.12666666666666668
          },
          {
           "color_by": "Baseline Mean",
           "sample_id": 0,
           "timepoint": 97,
           "trajectory": "Baseline_Mean",
           "value": -0.12666666666666668
          },
          {
           "color_by": "Baseline Mean",
           "sample_id": 0,
           "timepoint": 98,
           "trajectory": "Baseline_Mean",
           "value": -0.10666666666666667
          },
          {
           "color_by": "Baseline Mean",
           "sample_id": 0,
           "timepoint": 99,
           "trajectory": "Baseline_Mean",
           "value": -0.03333333333333333
          },
          {
           "color_by": "Chaos",
           "sample_id": 0,
           "timepoint": 0,
           "trajectory": "Chaos",
           "value": 0
          },
          {
           "color_by": "Chaos",
           "sample_id": 0,
           "timepoint": 1,
           "trajectory": "Chaos",
           "value": 1
          },
          {
           "color_by": "Chaos",
           "sample_id": 0,
           "timepoint": 2,
           "trajectory": "Chaos",
           "value": 0
          },
          {
           "color_by": "Chaos",
           "sample_id": 0,
           "timepoint": 3,
           "trajectory": "Chaos",
           "value": 1
          },
          {
           "color_by": "Chaos",
           "sample_id": 0,
           "timepoint": 4,
           "trajectory": "Chaos",
           "value": 2
          },
          {
           "color_by": "Chaos",
           "sample_id": 0,
           "timepoint": 5,
           "trajectory": "Chaos",
           "value": 3
          },
          {
           "color_by": "Chaos",
           "sample_id": 0,
           "timepoint": 6,
           "trajectory": "Chaos",
           "value": 2
          },
          {
           "color_by": "Chaos",
           "sample_id": 0,
           "timepoint": 7,
           "trajectory": "Chaos",
           "value": 1
          },
          {
           "color_by": "Chaos",
           "sample_id": 0,
           "timepoint": 8,
           "trajectory": "Chaos",
           "value": 0
          },
          {
           "color_by": "Chaos",
           "sample_id": 0,
           "timepoint": 9,
           "trajectory": "Chaos",
           "value": 1
          },
          {
           "color_by": "Chaos",
           "sample_id": 0,
           "timepoint": 10,
           "trajectory": "Chaos",
           "value": 2
          },
          {
           "color_by": "Chaos",
           "sample_id": 0,
           "timepoint": 11,
           "trajectory": "Chaos",
           "value": 3
          },
          {
           "color_by": "Chaos",
           "sample_id": 0,
           "timepoint": 12,
           "trajectory": "Chaos",
           "value": 2
          },
          {
           "color_by": "Chaos",
           "sample_id": 0,
           "timepoint": 13,
           "trajectory": "Chaos",
           "value": 1
          },
          {
           "color_by": "Chaos",
           "sample_id": 0,
           "timepoint": 14,
           "trajectory": "Chaos",
           "value": 0
          },
          {
           "color_by": "Chaos",
           "sample_id": 0,
           "timepoint": 15,
           "trajectory": "Chaos",
           "value": 1
          },
          {
           "color_by": "Chaos",
           "sample_id": 0,
           "timepoint": 16,
           "trajectory": "Chaos",
           "value": 0
          },
          {
           "color_by": "Chaos",
           "sample_id": 0,
           "timepoint": 17,
           "trajectory": "Chaos",
           "value": 1
          },
          {
           "color_by": "Chaos",
           "sample_id": 0,
           "timepoint": 18,
           "trajectory": "Chaos",
           "value": 0
          },
          {
           "color_by": "Chaos",
           "sample_id": 0,
           "timepoint": 19,
           "trajectory": "Chaos",
           "value": 1
          },
          {
           "color_by": "Chaos",
           "sample_id": 0,
           "timepoint": 20,
           "trajectory": "Chaos",
           "value": 2
          },
          {
           "color_by": "Chaos",
           "sample_id": 0,
           "timepoint": 21,
           "trajectory": "Chaos",
           "value": 1
          },
          {
           "color_by": "Chaos",
           "sample_id": 0,
           "timepoint": 22,
           "trajectory": "Chaos",
           "value": 2
          },
          {
           "color_by": "Chaos",
           "sample_id": 0,
           "timepoint": 23,
           "trajectory": "Chaos",
           "value": 3
          },
          {
           "color_by": "Chaos",
           "sample_id": 0,
           "timepoint": 24,
           "trajectory": "Chaos",
           "value": 4
          },
          {
           "color_by": "Chaos",
           "sample_id": 0,
           "timepoint": 25,
           "trajectory": "Chaos",
           "value": 5
          },
          {
           "color_by": "Chaos",
           "sample_id": 0,
           "timepoint": 26,
           "trajectory": "Chaos",
           "value": 4
          },
          {
           "color_by": "Chaos",
           "sample_id": 0,
           "timepoint": 27,
           "trajectory": "Chaos",
           "value": 3
          },
          {
           "color_by": "Chaos",
           "sample_id": 0,
           "timepoint": 28,
           "trajectory": "Chaos",
           "value": 2
          },
          {
           "color_by": "Chaos",
           "sample_id": 0,
           "timepoint": 29,
           "trajectory": "Chaos",
           "value": 1
          },
          {
           "color_by": "Chaos",
           "sample_id": 0,
           "timepoint": 30,
           "trajectory": "Chaos",
           "value": 0
          },
          {
           "color_by": "Chaos",
           "sample_id": 0,
           "timepoint": 31,
           "trajectory": "Chaos",
           "value": 1
          },
          {
           "color_by": "Chaos",
           "sample_id": 0,
           "timepoint": 32,
           "trajectory": "Chaos",
           "value": 2
          },
          {
           "color_by": "Chaos",
           "sample_id": 0,
           "timepoint": 33,
           "trajectory": "Chaos",
           "value": 3
          },
          {
           "color_by": "Chaos",
           "sample_id": 0,
           "timepoint": 34,
           "trajectory": "Chaos",
           "value": 4
          },
          {
           "color_by": "Chaos",
           "sample_id": 0,
           "timepoint": 35,
           "trajectory": "Chaos",
           "value": 3
          },
          {
           "color_by": "Chaos",
           "sample_id": 0,
           "timepoint": 36,
           "trajectory": "Chaos",
           "value": 4
          },
          {
           "color_by": "Chaos",
           "sample_id": 0,
           "timepoint": 37,
           "trajectory": "Chaos",
           "value": 3
          },
          {
           "color_by": "Chaos",
           "sample_id": 0,
           "timepoint": 38,
           "trajectory": "Chaos",
           "value": 4
          },
          {
           "color_by": "Chaos",
           "sample_id": 0,
           "timepoint": 39,
           "trajectory": "Chaos",
           "value": 3
          },
          {
           "color_by": "Chaos",
           "sample_id": 0,
           "timepoint": 40,
           "trajectory": "Chaos",
           "value": 2
          },
          {
           "color_by": "Chaos",
           "sample_id": 0,
           "timepoint": 41,
           "trajectory": "Chaos",
           "value": 1
          },
          {
           "color_by": "Chaos",
           "sample_id": 0,
           "timepoint": 42,
           "trajectory": "Chaos",
           "value": 2
          },
          {
           "color_by": "Chaos",
           "sample_id": 0,
           "timepoint": 43,
           "trajectory": "Chaos",
           "value": 3
          },
          {
           "color_by": "Chaos",
           "sample_id": 0,
           "timepoint": 44,
           "trajectory": "Chaos",
           "value": 4
          },
          {
           "color_by": "Chaos",
           "sample_id": 0,
           "timepoint": 45,
           "trajectory": "Chaos",
           "value": 3
          },
          {
           "color_by": "Chaos",
           "sample_id": 0,
           "timepoint": 46,
           "trajectory": "Chaos",
           "value": 4
          },
          {
           "color_by": "Chaos",
           "sample_id": 0,
           "timepoint": 47,
           "trajectory": "Chaos",
           "value": 5
          },
          {
           "color_by": "Chaos",
           "sample_id": 0,
           "timepoint": 48,
           "trajectory": "Chaos",
           "value": 6
          },
          {
           "color_by": "Chaos",
           "sample_id": 0,
           "timepoint": 49,
           "trajectory": "Chaos",
           "value": 7
          },
          {
           "color_by": "Chaos",
           "sample_id": 0,
           "timepoint": 50,
           "trajectory": "Chaos",
           "value": 6
          },
          {
           "color_by": "Chaos",
           "sample_id": 0,
           "timepoint": 51,
           "trajectory": "Chaos",
           "value": 5
          },
          {
           "color_by": "Chaos",
           "sample_id": 0,
           "timepoint": 52,
           "trajectory": "Chaos",
           "value": 6
          },
          {
           "color_by": "Chaos",
           "sample_id": 0,
           "timepoint": 53,
           "trajectory": "Chaos",
           "value": 5
          },
          {
           "color_by": "Chaos",
           "sample_id": 0,
           "timepoint": 54,
           "trajectory": "Chaos",
           "value": 4
          },
          {
           "color_by": "Chaos",
           "sample_id": 0,
           "timepoint": 55,
           "trajectory": "Chaos",
           "value": 5
          },
          {
           "color_by": "Chaos",
           "sample_id": 0,
           "timepoint": 56,
           "trajectory": "Chaos",
           "value": 4
          },
          {
           "color_by": "Chaos",
           "sample_id": 0,
           "timepoint": 57,
           "trajectory": "Chaos",
           "value": 5
          },
          {
           "color_by": "Chaos",
           "sample_id": 0,
           "timepoint": 58,
           "trajectory": "Chaos",
           "value": 4
          },
          {
           "color_by": "Chaos",
           "sample_id": 0,
           "timepoint": 59,
           "trajectory": "Chaos",
           "value": 5
          },
          {
           "color_by": "Chaos",
           "sample_id": 0,
           "timepoint": 60,
           "trajectory": "Chaos",
           "value": 4
          },
          {
           "color_by": "Chaos",
           "sample_id": 0,
           "timepoint": 61,
           "trajectory": "Chaos",
           "value": 3
          },
          {
           "color_by": "Chaos",
           "sample_id": 0,
           "timepoint": 62,
           "trajectory": "Chaos",
           "value": 2
          },
          {
           "color_by": "Chaos",
           "sample_id": 0,
           "timepoint": 63,
           "trajectory": "Chaos",
           "value": 1
          },
          {
           "color_by": "Chaos",
           "sample_id": 0,
           "timepoint": 64,
           "trajectory": "Chaos",
           "value": 2
          },
          {
           "color_by": "Chaos",
           "sample_id": 0,
           "timepoint": 65,
           "trajectory": "Chaos",
           "value": 3
          },
          {
           "color_by": "Chaos",
           "sample_id": 0,
           "timepoint": 66,
           "trajectory": "Chaos",
           "value": 4
          },
          {
           "color_by": "Chaos",
           "sample_id": 0,
           "timepoint": 67,
           "trajectory": "Chaos",
           "value": 3
          },
          {
           "color_by": "Chaos",
           "sample_id": 0,
           "timepoint": 68,
           "trajectory": "Chaos",
           "value": 2
          },
          {
           "color_by": "Chaos",
           "sample_id": 0,
           "timepoint": 69,
           "trajectory": "Chaos",
           "value": 3
          },
          {
           "color_by": "Chaos",
           "sample_id": 0,
           "timepoint": 70,
           "trajectory": "Chaos",
           "value": 2
          },
          {
           "color_by": "Chaos",
           "sample_id": 0,
           "timepoint": 71,
           "trajectory": "Chaos",
           "value": 1
          },
          {
           "color_by": "Chaos",
           "sample_id": 0,
           "timepoint": 72,
           "trajectory": "Chaos",
           "value": 0
          },
          {
           "color_by": "Chaos",
           "sample_id": 0,
           "timepoint": 73,
           "trajectory": "Chaos",
           "value": 1
          },
          {
           "color_by": "Chaos",
           "sample_id": 0,
           "timepoint": 74,
           "trajectory": "Chaos",
           "value": 2
          },
          {
           "color_by": "Chaos",
           "sample_id": 0,
           "timepoint": 75,
           "trajectory": "Chaos",
           "value": 1
          },
          {
           "color_by": "Chaos",
           "sample_id": 0,
           "timepoint": 76,
           "trajectory": "Chaos",
           "value": 0
          },
          {
           "color_by": "Chaos",
           "sample_id": 0,
           "timepoint": 77,
           "trajectory": "Chaos",
           "value": 1
          },
          {
           "color_by": "Chaos",
           "sample_id": 0,
           "timepoint": 78,
           "trajectory": "Chaos",
           "value": 2
          },
          {
           "color_by": "Chaos",
           "sample_id": 0,
           "timepoint": 79,
           "trajectory": "Chaos",
           "value": 3
          },
          {
           "color_by": "Chaos",
           "sample_id": 0,
           "timepoint": 80,
           "trajectory": "Chaos",
           "value": 2
          },
          {
           "color_by": "Chaos",
           "sample_id": 0,
           "timepoint": 81,
           "trajectory": "Chaos",
           "value": 3
          },
          {
           "color_by": "Chaos",
           "sample_id": 0,
           "timepoint": 82,
           "trajectory": "Chaos",
           "value": 2
          },
          {
           "color_by": "Chaos",
           "sample_id": 0,
           "timepoint": 83,
           "trajectory": "Chaos",
           "value": 1
          },
          {
           "color_by": "Chaos",
           "sample_id": 0,
           "timepoint": 84,
           "trajectory": "Chaos",
           "value": 2
          },
          {
           "color_by": "Chaos",
           "sample_id": 0,
           "timepoint": 85,
           "trajectory": "Chaos",
           "value": 1
          },
          {
           "color_by": "Chaos",
           "sample_id": 0,
           "timepoint": 86,
           "trajectory": "Chaos",
           "value": 2
          },
          {
           "color_by": "Chaos",
           "sample_id": 0,
           "timepoint": 87,
           "trajectory": "Chaos",
           "value": 3
          },
          {
           "color_by": "Chaos",
           "sample_id": 0,
           "timepoint": 88,
           "trajectory": "Chaos",
           "value": 2
          },
          {
           "color_by": "Chaos",
           "sample_id": 0,
           "timepoint": 89,
           "trajectory": "Chaos",
           "value": 3
          },
          {
           "color_by": "Chaos",
           "sample_id": 0,
           "timepoint": 90,
           "trajectory": "Chaos",
           "value": 2
          },
          {
           "color_by": "Chaos",
           "sample_id": 0,
           "timepoint": 91,
           "trajectory": "Chaos",
           "value": 3
          },
          {
           "color_by": "Chaos",
           "sample_id": 0,
           "timepoint": 92,
           "trajectory": "Chaos",
           "value": 2
          },
          {
           "color_by": "Chaos",
           "sample_id": 0,
           "timepoint": 93,
           "trajectory": "Chaos",
           "value": 3
          },
          {
           "color_by": "Chaos",
           "sample_id": 0,
           "timepoint": 94,
           "trajectory": "Chaos",
           "value": 2
          },
          {
           "color_by": "Chaos",
           "sample_id": 0,
           "timepoint": 95,
           "trajectory": "Chaos",
           "value": 1
          },
          {
           "color_by": "Chaos",
           "sample_id": 0,
           "timepoint": 96,
           "trajectory": "Chaos",
           "value": 0
          },
          {
           "color_by": "Chaos",
           "sample_id": 0,
           "timepoint": 97,
           "trajectory": "Chaos",
           "value": 1
          },
          {
           "color_by": "Chaos",
           "sample_id": 0,
           "timepoint": 98,
           "trajectory": "Chaos",
           "value": 2
          },
          {
           "color_by": "Chaos",
           "sample_id": 0,
           "timepoint": 99,
           "trajectory": "Chaos",
           "value": 1
          },
          {
           "color_by": "Granger",
           "sample_id": 0,
           "timepoint": 0,
           "trajectory": "Granger",
           "value": 0
          },
          {
           "color_by": "Granger",
           "sample_id": 0,
           "timepoint": 1,
           "trajectory": "Granger",
           "value": 1
          },
          {
           "color_by": "Granger",
           "sample_id": 0,
           "timepoint": 2,
           "trajectory": "Granger",
           "value": 0
          },
          {
           "color_by": "Granger",
           "sample_id": 0,
           "timepoint": 3,
           "trajectory": "Granger",
           "value": 1
          },
          {
           "color_by": "Granger",
           "sample_id": 0,
           "timepoint": 4,
           "trajectory": "Granger",
           "value": 2
          },
          {
           "color_by": "Granger",
           "sample_id": 0,
           "timepoint": 5,
           "trajectory": "Granger",
           "value": 1
          },
          {
           "color_by": "Granger",
           "sample_id": 0,
           "timepoint": 6,
           "trajectory": "Granger",
           "value": 2
          },
          {
           "color_by": "Granger",
           "sample_id": 0,
           "timepoint": 7,
           "trajectory": "Granger",
           "value": 1
          },
          {
           "color_by": "Granger",
           "sample_id": 0,
           "timepoint": 8,
           "trajectory": "Granger",
           "value": 0
          },
          {
           "color_by": "Granger",
           "sample_id": 0,
           "timepoint": 9,
           "trajectory": "Granger",
           "value": 1
          },
          {
           "color_by": "Granger",
           "sample_id": 0,
           "timepoint": 10,
           "trajectory": "Granger",
           "value": 0
          },
          {
           "color_by": "Granger",
           "sample_id": 0,
           "timepoint": 11,
           "trajectory": "Granger",
           "value": -1
          },
          {
           "color_by": "Granger",
           "sample_id": 0,
           "timepoint": 12,
           "trajectory": "Granger",
           "value": 0
          },
          {
           "color_by": "Granger",
           "sample_id": 0,
           "timepoint": 13,
           "trajectory": "Granger",
           "value": -1
          },
          {
           "color_by": "Granger",
           "sample_id": 0,
           "timepoint": 14,
           "trajectory": "Granger",
           "value": 0
          },
          {
           "color_by": "Granger",
           "sample_id": 0,
           "timepoint": 15,
           "trajectory": "Granger",
           "value": 1
          },
          {
           "color_by": "Granger",
           "sample_id": 0,
           "timepoint": 16,
           "trajectory": "Granger",
           "value": 2
          },
          {
           "color_by": "Granger",
           "sample_id": 0,
           "timepoint": 17,
           "trajectory": "Granger",
           "value": 1
          },
          {
           "color_by": "Granger",
           "sample_id": 0,
           "timepoint": 18,
           "trajectory": "Granger",
           "value": 0
          },
          {
           "color_by": "Granger",
           "sample_id": 0,
           "timepoint": 19,
           "trajectory": "Granger",
           "value": -1
          },
          {
           "color_by": "Granger",
           "sample_id": 0,
           "timepoint": 20,
           "trajectory": "Granger",
           "value": 0
          },
          {
           "color_by": "Granger",
           "sample_id": 0,
           "timepoint": 21,
           "trajectory": "Granger",
           "value": -1
          },
          {
           "color_by": "Granger",
           "sample_id": 0,
           "timepoint": 22,
           "trajectory": "Granger",
           "value": -2
          },
          {
           "color_by": "Granger",
           "sample_id": 0,
           "timepoint": 23,
           "trajectory": "Granger",
           "value": -3
          },
          {
           "color_by": "Granger",
           "sample_id": 0,
           "timepoint": 24,
           "trajectory": "Granger",
           "value": -2
          },
          {
           "color_by": "Granger",
           "sample_id": 0,
           "timepoint": 25,
           "trajectory": "Granger",
           "value": -1
          },
          {
           "color_by": "Granger",
           "sample_id": 0,
           "timepoint": 26,
           "trajectory": "Granger",
           "value": -2
          },
          {
           "color_by": "Granger",
           "sample_id": 0,
           "timepoint": 27,
           "trajectory": "Granger",
           "value": -3
          },
          {
           "color_by": "Granger",
           "sample_id": 0,
           "timepoint": 28,
           "trajectory": "Granger",
           "value": -4
          },
          {
           "color_by": "Granger",
           "sample_id": 0,
           "timepoint": 29,
           "trajectory": "Granger",
           "value": -5
          },
          {
           "color_by": "Granger",
           "sample_id": 0,
           "timepoint": 30,
           "trajectory": "Granger",
           "value": -4
          },
          {
           "color_by": "Granger",
           "sample_id": 0,
           "timepoint": 31,
           "trajectory": "Granger",
           "value": -5
          },
          {
           "color_by": "Granger",
           "sample_id": 0,
           "timepoint": 32,
           "trajectory": "Granger",
           "value": -4
          },
          {
           "color_by": "Granger",
           "sample_id": 0,
           "timepoint": 33,
           "trajectory": "Granger",
           "value": -5
          },
          {
           "color_by": "Granger",
           "sample_id": 0,
           "timepoint": 34,
           "trajectory": "Granger",
           "value": -4
          },
          {
           "color_by": "Granger",
           "sample_id": 0,
           "timepoint": 35,
           "trajectory": "Granger",
           "value": -5
          },
          {
           "color_by": "Granger",
           "sample_id": 0,
           "timepoint": 36,
           "trajectory": "Granger",
           "value": -4
          },
          {
           "color_by": "Granger",
           "sample_id": 0,
           "timepoint": 37,
           "trajectory": "Granger",
           "value": -5
          },
          {
           "color_by": "Granger",
           "sample_id": 0,
           "timepoint": 38,
           "trajectory": "Granger",
           "value": -6
          },
          {
           "color_by": "Granger",
           "sample_id": 0,
           "timepoint": 39,
           "trajectory": "Granger",
           "value": -5
          },
          {
           "color_by": "Granger",
           "sample_id": 0,
           "timepoint": 40,
           "trajectory": "Granger",
           "value": -4
          },
          {
           "color_by": "Granger",
           "sample_id": 0,
           "timepoint": 41,
           "trajectory": "Granger",
           "value": -5
          },
          {
           "color_by": "Granger",
           "sample_id": 0,
           "timepoint": 42,
           "trajectory": "Granger",
           "value": -4
          },
          {
           "color_by": "Granger",
           "sample_id": 0,
           "timepoint": 43,
           "trajectory": "Granger",
           "value": -3
          },
          {
           "color_by": "Granger",
           "sample_id": 0,
           "timepoint": 44,
           "trajectory": "Granger",
           "value": -2
          },
          {
           "color_by": "Granger",
           "sample_id": 0,
           "timepoint": 45,
           "trajectory": "Granger",
           "value": -1
          },
          {
           "color_by": "Granger",
           "sample_id": 0,
           "timepoint": 46,
           "trajectory": "Granger",
           "value": 0
          },
          {
           "color_by": "Granger",
           "sample_id": 0,
           "timepoint": 47,
           "trajectory": "Granger",
           "value": -1
          },
          {
           "color_by": "Granger",
           "sample_id": 0,
           "timepoint": 48,
           "trajectory": "Granger",
           "value": 0
          },
          {
           "color_by": "Granger",
           "sample_id": 0,
           "timepoint": 49,
           "trajectory": "Granger",
           "value": -1
          },
          {
           "color_by": "Granger",
           "sample_id": 0,
           "timepoint": 50,
           "trajectory": "Granger",
           "value": -2
          },
          {
           "color_by": "Granger",
           "sample_id": 0,
           "timepoint": 51,
           "trajectory": "Granger",
           "value": -1
          },
          {
           "color_by": "Granger",
           "sample_id": 0,
           "timepoint": 52,
           "trajectory": "Granger",
           "value": -2
          },
          {
           "color_by": "Granger",
           "sample_id": 0,
           "timepoint": 53,
           "trajectory": "Granger",
           "value": -3
          },
          {
           "color_by": "Granger",
           "sample_id": 0,
           "timepoint": 54,
           "trajectory": "Granger",
           "value": -4
          },
          {
           "color_by": "Granger",
           "sample_id": 0,
           "timepoint": 55,
           "trajectory": "Granger",
           "value": -5
          },
          {
           "color_by": "Granger",
           "sample_id": 0,
           "timepoint": 56,
           "trajectory": "Granger",
           "value": -4
          },
          {
           "color_by": "Granger",
           "sample_id": 0,
           "timepoint": 57,
           "trajectory": "Granger",
           "value": -3
          },
          {
           "color_by": "Granger",
           "sample_id": 0,
           "timepoint": 58,
           "trajectory": "Granger",
           "value": -4
          },
          {
           "color_by": "Granger",
           "sample_id": 0,
           "timepoint": 59,
           "trajectory": "Granger",
           "value": -3
          },
          {
           "color_by": "Granger",
           "sample_id": 0,
           "timepoint": 60,
           "trajectory": "Granger",
           "value": -4
          },
          {
           "color_by": "Granger",
           "sample_id": 0,
           "timepoint": 61,
           "trajectory": "Granger",
           "value": -5
          },
          {
           "color_by": "Granger",
           "sample_id": 0,
           "timepoint": 62,
           "trajectory": "Granger",
           "value": -4
          },
          {
           "color_by": "Granger",
           "sample_id": 0,
           "timepoint": 63,
           "trajectory": "Granger",
           "value": -3
          },
          {
           "color_by": "Granger",
           "sample_id": 0,
           "timepoint": 64,
           "trajectory": "Granger",
           "value": -2
          },
          {
           "color_by": "Granger",
           "sample_id": 0,
           "timepoint": 65,
           "trajectory": "Granger",
           "value": -3
          },
          {
           "color_by": "Granger",
           "sample_id": 0,
           "timepoint": 66,
           "trajectory": "Granger",
           "value": -4
          },
          {
           "color_by": "Granger",
           "sample_id": 0,
           "timepoint": 67,
           "trajectory": "Granger",
           "value": -5
          },
          {
           "color_by": "Granger",
           "sample_id": 0,
           "timepoint": 68,
           "trajectory": "Granger",
           "value": -6
          },
          {
           "color_by": "Granger",
           "sample_id": 0,
           "timepoint": 69,
           "trajectory": "Granger",
           "value": -5
          },
          {
           "color_by": "Granger",
           "sample_id": 0,
           "timepoint": 70,
           "trajectory": "Granger",
           "value": -4
          },
          {
           "color_by": "Granger",
           "sample_id": 0,
           "timepoint": 71,
           "trajectory": "Granger",
           "value": -5
          },
          {
           "color_by": "Granger",
           "sample_id": 0,
           "timepoint": 72,
           "trajectory": "Granger",
           "value": -6
          },
          {
           "color_by": "Granger",
           "sample_id": 0,
           "timepoint": 73,
           "trajectory": "Granger",
           "value": -7
          },
          {
           "color_by": "Granger",
           "sample_id": 0,
           "timepoint": 74,
           "trajectory": "Granger",
           "value": -8
          },
          {
           "color_by": "Granger",
           "sample_id": 0,
           "timepoint": 75,
           "trajectory": "Granger",
           "value": -9
          },
          {
           "color_by": "Granger",
           "sample_id": 0,
           "timepoint": 76,
           "trajectory": "Granger",
           "value": -10
          },
          {
           "color_by": "Granger",
           "sample_id": 0,
           "timepoint": 77,
           "trajectory": "Granger",
           "value": -11
          },
          {
           "color_by": "Granger",
           "sample_id": 0,
           "timepoint": 78,
           "trajectory": "Granger",
           "value": -10
          },
          {
           "color_by": "Granger",
           "sample_id": 0,
           "timepoint": 79,
           "trajectory": "Granger",
           "value": -11
          },
          {
           "color_by": "Granger",
           "sample_id": 0,
           "timepoint": 80,
           "trajectory": "Granger",
           "value": -10
          },
          {
           "color_by": "Granger",
           "sample_id": 0,
           "timepoint": 81,
           "trajectory": "Granger",
           "value": -11
          },
          {
           "color_by": "Granger",
           "sample_id": 0,
           "timepoint": 82,
           "trajectory": "Granger",
           "value": -10
          },
          {
           "color_by": "Granger",
           "sample_id": 0,
           "timepoint": 83,
           "trajectory": "Granger",
           "value": -11
          },
          {
           "color_by": "Granger",
           "sample_id": 0,
           "timepoint": 84,
           "trajectory": "Granger",
           "value": -12
          },
          {
           "color_by": "Granger",
           "sample_id": 0,
           "timepoint": 85,
           "trajectory": "Granger",
           "value": -13
          },
          {
           "color_by": "Granger",
           "sample_id": 0,
           "timepoint": 86,
           "trajectory": "Granger",
           "value": -14
          },
          {
           "color_by": "Granger",
           "sample_id": 0,
           "timepoint": 87,
           "trajectory": "Granger",
           "value": -13
          },
          {
           "color_by": "Granger",
           "sample_id": 0,
           "timepoint": 88,
           "trajectory": "Granger",
           "value": -12
          },
          {
           "color_by": "Granger",
           "sample_id": 0,
           "timepoint": 89,
           "trajectory": "Granger",
           "value": -11
          },
          {
           "color_by": "Granger",
           "sample_id": 0,
           "timepoint": 90,
           "trajectory": "Granger",
           "value": -10
          },
          {
           "color_by": "Granger",
           "sample_id": 0,
           "timepoint": 91,
           "trajectory": "Granger",
           "value": -11
          },
          {
           "color_by": "Granger",
           "sample_id": 0,
           "timepoint": 92,
           "trajectory": "Granger",
           "value": -12
          },
          {
           "color_by": "Granger",
           "sample_id": 0,
           "timepoint": 93,
           "trajectory": "Granger",
           "value": -11
          },
          {
           "color_by": "Granger",
           "sample_id": 0,
           "timepoint": 94,
           "trajectory": "Granger",
           "value": -10
          },
          {
           "color_by": "Granger",
           "sample_id": 0,
           "timepoint": 95,
           "trajectory": "Granger",
           "value": -11
          },
          {
           "color_by": "Granger",
           "sample_id": 0,
           "timepoint": 96,
           "trajectory": "Granger",
           "value": -12
          },
          {
           "color_by": "Granger",
           "sample_id": 0,
           "timepoint": 97,
           "trajectory": "Granger",
           "value": -13
          },
          {
           "color_by": "Granger",
           "sample_id": 0,
           "timepoint": 98,
           "trajectory": "Granger",
           "value": -12
          },
          {
           "color_by": "Granger",
           "sample_id": 0,
           "timepoint": 99,
           "trajectory": "Granger",
           "value": -11
          },
          {
           "color_by": "Mean",
           "sample_id": 0,
           "timepoint": 0,
           "trajectory": "Mean",
           "value": 0
          },
          {
           "color_by": "Mean",
           "sample_id": 0,
           "timepoint": 1,
           "trajectory": "Mean",
           "value": 1
          },
          {
           "color_by": "Mean",
           "sample_id": 0,
           "timepoint": 2,
           "trajectory": "Mean",
           "value": 2
          },
          {
           "color_by": "Mean",
           "sample_id": 0,
           "timepoint": 3,
           "trajectory": "Mean",
           "value": 3
          },
          {
           "color_by": "Mean",
           "sample_id": 0,
           "timepoint": 4,
           "trajectory": "Mean",
           "value": 4
          },
          {
           "color_by": "Mean",
           "sample_id": 0,
           "timepoint": 5,
           "trajectory": "Mean",
           "value": 3
          },
          {
           "color_by": "Mean",
           "sample_id": 0,
           "timepoint": 6,
           "trajectory": "Mean",
           "value": 4
          },
          {
           "color_by": "Mean",
           "sample_id": 0,
           "timepoint": 7,
           "trajectory": "Mean",
           "value": 5
          },
          {
           "color_by": "Mean",
           "sample_id": 0,
           "timepoint": 8,
           "trajectory": "Mean",
           "value": 4
          },
          {
           "color_by": "Mean",
           "sample_id": 0,
           "timepoint": 9,
           "trajectory": "Mean",
           "value": 3
          },
          {
           "color_by": "Mean",
           "sample_id": 0,
           "timepoint": 10,
           "trajectory": "Mean",
           "value": 2
          },
          {
           "color_by": "Mean",
           "sample_id": 0,
           "timepoint": 11,
           "trajectory": "Mean",
           "value": 1
          },
          {
           "color_by": "Mean",
           "sample_id": 0,
           "timepoint": 12,
           "trajectory": "Mean",
           "value": 0
          },
          {
           "color_by": "Mean",
           "sample_id": 0,
           "timepoint": 13,
           "trajectory": "Mean",
           "value": -1
          },
          {
           "color_by": "Mean",
           "sample_id": 0,
           "timepoint": 14,
           "trajectory": "Mean",
           "value": -2
          },
          {
           "color_by": "Mean",
           "sample_id": 0,
           "timepoint": 15,
           "trajectory": "Mean",
           "value": -1
          },
          {
           "color_by": "Mean",
           "sample_id": 0,
           "timepoint": 16,
           "trajectory": "Mean",
           "value": 0
          },
          {
           "color_by": "Mean",
           "sample_id": 0,
           "timepoint": 17,
           "trajectory": "Mean",
           "value": -1
          },
          {
           "color_by": "Mean",
           "sample_id": 0,
           "timepoint": 18,
           "trajectory": "Mean",
           "value": -2
          },
          {
           "color_by": "Mean",
           "sample_id": 0,
           "timepoint": 19,
           "trajectory": "Mean",
           "value": -1
          },
          {
           "color_by": "Mean",
           "sample_id": 0,
           "timepoint": 20,
           "trajectory": "Mean",
           "value": 0
          },
          {
           "color_by": "Mean",
           "sample_id": 0,
           "timepoint": 21,
           "trajectory": "Mean",
           "value": 1
          },
          {
           "color_by": "Mean",
           "sample_id": 0,
           "timepoint": 22,
           "trajectory": "Mean",
           "value": 2
          },
          {
           "color_by": "Mean",
           "sample_id": 0,
           "timepoint": 23,
           "trajectory": "Mean",
           "value": 1
          },
          {
           "color_by": "Mean",
           "sample_id": 0,
           "timepoint": 24,
           "trajectory": "Mean",
           "value": 0
          },
          {
           "color_by": "Mean",
           "sample_id": 0,
           "timepoint": 25,
           "trajectory": "Mean",
           "value": -1
          },
          {
           "color_by": "Mean",
           "sample_id": 0,
           "timepoint": 26,
           "trajectory": "Mean",
           "value": -2
          },
          {
           "color_by": "Mean",
           "sample_id": 0,
           "timepoint": 27,
           "trajectory": "Mean",
           "value": -1
          },
          {
           "color_by": "Mean",
           "sample_id": 0,
           "timepoint": 28,
           "trajectory": "Mean",
           "value": 0
          },
          {
           "color_by": "Mean",
           "sample_id": 0,
           "timepoint": 29,
           "trajectory": "Mean",
           "value": 1
          },
          {
           "color_by": "Mean",
           "sample_id": 0,
           "timepoint": 30,
           "trajectory": "Mean",
           "value": 0
          },
          {
           "color_by": "Mean",
           "sample_id": 0,
           "timepoint": 31,
           "trajectory": "Mean",
           "value": -1
          },
          {
           "color_by": "Mean",
           "sample_id": 0,
           "timepoint": 32,
           "trajectory": "Mean",
           "value": -2
          },
          {
           "color_by": "Mean",
           "sample_id": 0,
           "timepoint": 33,
           "trajectory": "Mean",
           "value": -3
          },
          {
           "color_by": "Mean",
           "sample_id": 0,
           "timepoint": 34,
           "trajectory": "Mean",
           "value": -2
          },
          {
           "color_by": "Mean",
           "sample_id": 0,
           "timepoint": 35,
           "trajectory": "Mean",
           "value": -1
          },
          {
           "color_by": "Mean",
           "sample_id": 0,
           "timepoint": 36,
           "trajectory": "Mean",
           "value": -2
          },
          {
           "color_by": "Mean",
           "sample_id": 0,
           "timepoint": 37,
           "trajectory": "Mean",
           "value": -3
          },
          {
           "color_by": "Mean",
           "sample_id": 0,
           "timepoint": 38,
           "trajectory": "Mean",
           "value": -2
          },
          {
           "color_by": "Mean",
           "sample_id": 0,
           "timepoint": 39,
           "trajectory": "Mean",
           "value": -1
          },
          {
           "color_by": "Mean",
           "sample_id": 0,
           "timepoint": 40,
           "trajectory": "Mean",
           "value": 0
          },
          {
           "color_by": "Mean",
           "sample_id": 0,
           "timepoint": 41,
           "trajectory": "Mean",
           "value": 1
          },
          {
           "color_by": "Mean",
           "sample_id": 0,
           "timepoint": 42,
           "trajectory": "Mean",
           "value": 2
          },
          {
           "color_by": "Mean",
           "sample_id": 0,
           "timepoint": 43,
           "trajectory": "Mean",
           "value": 1
          },
          {
           "color_by": "Mean",
           "sample_id": 0,
           "timepoint": 44,
           "trajectory": "Mean",
           "value": 0
          },
          {
           "color_by": "Mean",
           "sample_id": 0,
           "timepoint": 45,
           "trajectory": "Mean",
           "value": 1
          },
          {
           "color_by": "Mean",
           "sample_id": 0,
           "timepoint": 46,
           "trajectory": "Mean",
           "value": 0
          },
          {
           "color_by": "Mean",
           "sample_id": 0,
           "timepoint": 47,
           "trajectory": "Mean",
           "value": -1
          },
          {
           "color_by": "Mean",
           "sample_id": 0,
           "timepoint": 48,
           "trajectory": "Mean",
           "value": 0
          },
          {
           "color_by": "Mean",
           "sample_id": 0,
           "timepoint": 49,
           "trajectory": "Mean",
           "value": -1
          },
          {
           "color_by": "Mean",
           "sample_id": 0,
           "timepoint": 50,
           "trajectory": "Mean",
           "value": 0
          },
          {
           "color_by": "Mean",
           "sample_id": 0,
           "timepoint": 51,
           "trajectory": "Mean",
           "value": -1
          },
          {
           "color_by": "Mean",
           "sample_id": 0,
           "timepoint": 52,
           "trajectory": "Mean",
           "value": 0
          },
          {
           "color_by": "Mean",
           "sample_id": 0,
           "timepoint": 53,
           "trajectory": "Mean",
           "value": 1
          },
          {
           "color_by": "Mean",
           "sample_id": 0,
           "timepoint": 54,
           "trajectory": "Mean",
           "value": 0
          },
          {
           "color_by": "Mean",
           "sample_id": 0,
           "timepoint": 55,
           "trajectory": "Mean",
           "value": -1
          },
          {
           "color_by": "Mean",
           "sample_id": 0,
           "timepoint": 56,
           "trajectory": "Mean",
           "value": -2
          },
          {
           "color_by": "Mean",
           "sample_id": 0,
           "timepoint": 57,
           "trajectory": "Mean",
           "value": -1
          },
          {
           "color_by": "Mean",
           "sample_id": 0,
           "timepoint": 58,
           "trajectory": "Mean",
           "value": -2
          },
          {
           "color_by": "Mean",
           "sample_id": 0,
           "timepoint": 59,
           "trajectory": "Mean",
           "value": -3
          },
          {
           "color_by": "Mean",
           "sample_id": 0,
           "timepoint": 60,
           "trajectory": "Mean",
           "value": -4
          },
          {
           "color_by": "Mean",
           "sample_id": 0,
           "timepoint": 61,
           "trajectory": "Mean",
           "value": -3
          },
          {
           "color_by": "Mean",
           "sample_id": 0,
           "timepoint": 62,
           "trajectory": "Mean",
           "value": -4
          },
          {
           "color_by": "Mean",
           "sample_id": 0,
           "timepoint": 63,
           "trajectory": "Mean",
           "value": -5
          },
          {
           "color_by": "Mean",
           "sample_id": 0,
           "timepoint": 64,
           "trajectory": "Mean",
           "value": -4
          },
          {
           "color_by": "Mean",
           "sample_id": 0,
           "timepoint": 65,
           "trajectory": "Mean",
           "value": -3
          },
          {
           "color_by": "Mean",
           "sample_id": 0,
           "timepoint": 66,
           "trajectory": "Mean",
           "value": -2
          },
          {
           "color_by": "Mean",
           "sample_id": 0,
           "timepoint": 67,
           "trajectory": "Mean",
           "value": -1
          },
          {
           "color_by": "Mean",
           "sample_id": 0,
           "timepoint": 68,
           "trajectory": "Mean",
           "value": 0
          },
          {
           "color_by": "Mean",
           "sample_id": 0,
           "timepoint": 69,
           "trajectory": "Mean",
           "value": 1
          },
          {
           "color_by": "Mean",
           "sample_id": 0,
           "timepoint": 70,
           "trajectory": "Mean",
           "value": 0
          },
          {
           "color_by": "Mean",
           "sample_id": 0,
           "timepoint": 71,
           "trajectory": "Mean",
           "value": -1
          },
          {
           "color_by": "Mean",
           "sample_id": 0,
           "timepoint": 72,
           "trajectory": "Mean",
           "value": 0
          },
          {
           "color_by": "Mean",
           "sample_id": 0,
           "timepoint": 73,
           "trajectory": "Mean",
           "value": 1
          },
          {
           "color_by": "Mean",
           "sample_id": 0,
           "timepoint": 74,
           "trajectory": "Mean",
           "value": 2
          },
          {
           "color_by": "Mean",
           "sample_id": 0,
           "timepoint": 75,
           "trajectory": "Mean",
           "value": 1
          },
          {
           "color_by": "Mean",
           "sample_id": 0,
           "timepoint": 76,
           "trajectory": "Mean",
           "value": 0
          },
          {
           "color_by": "Mean",
           "sample_id": 0,
           "timepoint": 77,
           "trajectory": "Mean",
           "value": -1
          },
          {
           "color_by": "Mean",
           "sample_id": 0,
           "timepoint": 78,
           "trajectory": "Mean",
           "value": 0
          },
          {
           "color_by": "Mean",
           "sample_id": 0,
           "timepoint": 79,
           "trajectory": "Mean",
           "value": 1
          },
          {
           "color_by": "Mean",
           "sample_id": 0,
           "timepoint": 80,
           "trajectory": "Mean",
           "value": 0
          },
          {
           "color_by": "Mean",
           "sample_id": 0,
           "timepoint": 81,
           "trajectory": "Mean",
           "value": -1
          },
          {
           "color_by": "Mean",
           "sample_id": 0,
           "timepoint": 82,
           "trajectory": "Mean",
           "value": -2
          },
          {
           "color_by": "Mean",
           "sample_id": 0,
           "timepoint": 83,
           "trajectory": "Mean",
           "value": -1
          },
          {
           "color_by": "Mean",
           "sample_id": 0,
           "timepoint": 84,
           "trajectory": "Mean",
           "value": -2
          },
          {
           "color_by": "Mean",
           "sample_id": 0,
           "timepoint": 85,
           "trajectory": "Mean",
           "value": -1
          },
          {
           "color_by": "Mean",
           "sample_id": 0,
           "timepoint": 86,
           "trajectory": "Mean",
           "value": 0
          },
          {
           "color_by": "Mean",
           "sample_id": 0,
           "timepoint": 87,
           "trajectory": "Mean",
           "value": -1
          },
          {
           "color_by": "Mean",
           "sample_id": 0,
           "timepoint": 88,
           "trajectory": "Mean",
           "value": 0
          },
          {
           "color_by": "Mean",
           "sample_id": 0,
           "timepoint": 89,
           "trajectory": "Mean",
           "value": -1
          },
          {
           "color_by": "Mean",
           "sample_id": 0,
           "timepoint": 90,
           "trajectory": "Mean",
           "value": 0
          },
          {
           "color_by": "Mean",
           "sample_id": 0,
           "timepoint": 91,
           "trajectory": "Mean",
           "value": 1
          },
          {
           "color_by": "Mean",
           "sample_id": 0,
           "timepoint": 92,
           "trajectory": "Mean",
           "value": 0
          },
          {
           "color_by": "Mean",
           "sample_id": 0,
           "timepoint": 93,
           "trajectory": "Mean",
           "value": 1
          },
          {
           "color_by": "Mean",
           "sample_id": 0,
           "timepoint": 94,
           "trajectory": "Mean",
           "value": 2
          },
          {
           "color_by": "Mean",
           "sample_id": 0,
           "timepoint": 95,
           "trajectory": "Mean",
           "value": 3
          },
          {
           "color_by": "Mean",
           "sample_id": 0,
           "timepoint": 96,
           "trajectory": "Mean",
           "value": 2
          },
          {
           "color_by": "Mean",
           "sample_id": 0,
           "timepoint": 97,
           "trajectory": "Mean",
           "value": 3
          },
          {
           "color_by": "Mean",
           "sample_id": 0,
           "timepoint": 98,
           "trajectory": "Mean",
           "value": 2
          },
          {
           "color_by": "Mean",
           "sample_id": 0,
           "timepoint": 99,
           "trajectory": "Mean",
           "value": 1
          },
          {
           "color_by": "Variance",
           "sample_id": 0,
           "timepoint": 0,
           "trajectory": "Variance",
           "value": 0
          },
          {
           "color_by": "Variance",
           "sample_id": 0,
           "timepoint": 1,
           "trajectory": "Variance",
           "value": 1
          },
          {
           "color_by": "Variance",
           "sample_id": 0,
           "timepoint": 2,
           "trajectory": "Variance",
           "value": 2
          },
          {
           "color_by": "Variance",
           "sample_id": 0,
           "timepoint": 3,
           "trajectory": "Variance",
           "value": 1
          },
          {
           "color_by": "Variance",
           "sample_id": 0,
           "timepoint": 4,
           "trajectory": "Variance",
           "value": 0
          },
          {
           "color_by": "Variance",
           "sample_id": 0,
           "timepoint": 5,
           "trajectory": "Variance",
           "value": 1
          },
          {
           "color_by": "Variance",
           "sample_id": 0,
           "timepoint": 6,
           "trajectory": "Variance",
           "value": 2
          },
          {
           "color_by": "Variance",
           "sample_id": 0,
           "timepoint": 7,
           "trajectory": "Variance",
           "value": 3
          },
          {
           "color_by": "Variance",
           "sample_id": 0,
           "timepoint": 8,
           "trajectory": "Variance",
           "value": 2
          },
          {
           "color_by": "Variance",
           "sample_id": 0,
           "timepoint": 9,
           "trajectory": "Variance",
           "value": 3
          },
          {
           "color_by": "Variance",
           "sample_id": 0,
           "timepoint": 10,
           "trajectory": "Variance",
           "value": 4
          },
          {
           "color_by": "Variance",
           "sample_id": 0,
           "timepoint": 11,
           "trajectory": "Variance",
           "value": 3
          },
          {
           "color_by": "Variance",
           "sample_id": 0,
           "timepoint": 12,
           "trajectory": "Variance",
           "value": 2
          },
          {
           "color_by": "Variance",
           "sample_id": 0,
           "timepoint": 13,
           "trajectory": "Variance",
           "value": 1
          },
          {
           "color_by": "Variance",
           "sample_id": 0,
           "timepoint": 14,
           "trajectory": "Variance",
           "value": 2
          },
          {
           "color_by": "Variance",
           "sample_id": 0,
           "timepoint": 15,
           "trajectory": "Variance",
           "value": 1
          },
          {
           "color_by": "Variance",
           "sample_id": 0,
           "timepoint": 16,
           "trajectory": "Variance",
           "value": 2
          },
          {
           "color_by": "Variance",
           "sample_id": 0,
           "timepoint": 17,
           "trajectory": "Variance",
           "value": 1
          },
          {
           "color_by": "Variance",
           "sample_id": 0,
           "timepoint": 18,
           "trajectory": "Variance",
           "value": 2
          },
          {
           "color_by": "Variance",
           "sample_id": 0,
           "timepoint": 19,
           "trajectory": "Variance",
           "value": 1
          },
          {
           "color_by": "Variance",
           "sample_id": 0,
           "timepoint": 20,
           "trajectory": "Variance",
           "value": 0
          },
          {
           "color_by": "Variance",
           "sample_id": 0,
           "timepoint": 21,
           "trajectory": "Variance",
           "value": -1
          },
          {
           "color_by": "Variance",
           "sample_id": 0,
           "timepoint": 22,
           "trajectory": "Variance",
           "value": -2
          },
          {
           "color_by": "Variance",
           "sample_id": 0,
           "timepoint": 23,
           "trajectory": "Variance",
           "value": -3
          },
          {
           "color_by": "Variance",
           "sample_id": 0,
           "timepoint": 24,
           "trajectory": "Variance",
           "value": -4
          },
          {
           "color_by": "Variance",
           "sample_id": 0,
           "timepoint": 25,
           "trajectory": "Variance",
           "value": -3
          },
          {
           "color_by": "Variance",
           "sample_id": 0,
           "timepoint": 26,
           "trajectory": "Variance",
           "value": -2
          },
          {
           "color_by": "Variance",
           "sample_id": 0,
           "timepoint": 27,
           "trajectory": "Variance",
           "value": -3
          },
          {
           "color_by": "Variance",
           "sample_id": 0,
           "timepoint": 28,
           "trajectory": "Variance",
           "value": -2
          },
          {
           "color_by": "Variance",
           "sample_id": 0,
           "timepoint": 29,
           "trajectory": "Variance",
           "value": -1
          },
          {
           "color_by": "Variance",
           "sample_id": 0,
           "timepoint": 30,
           "trajectory": "Variance",
           "value": 0
          },
          {
           "color_by": "Variance",
           "sample_id": 0,
           "timepoint": 31,
           "trajectory": "Variance",
           "value": -1
          },
          {
           "color_by": "Variance",
           "sample_id": 0,
           "timepoint": 32,
           "trajectory": "Variance",
           "value": 0
          },
          {
           "color_by": "Variance",
           "sample_id": 0,
           "timepoint": 33,
           "trajectory": "Variance",
           "value": 1
          },
          {
           "color_by": "Variance",
           "sample_id": 0,
           "timepoint": 34,
           "trajectory": "Variance",
           "value": 0
          },
          {
           "color_by": "Variance",
           "sample_id": 0,
           "timepoint": 35,
           "trajectory": "Variance",
           "value": 1
          },
          {
           "color_by": "Variance",
           "sample_id": 0,
           "timepoint": 36,
           "trajectory": "Variance",
           "value": 2
          },
          {
           "color_by": "Variance",
           "sample_id": 0,
           "timepoint": 37,
           "trajectory": "Variance",
           "value": 1
          },
          {
           "color_by": "Variance",
           "sample_id": 0,
           "timepoint": 38,
           "trajectory": "Variance",
           "value": 0
          },
          {
           "color_by": "Variance",
           "sample_id": 0,
           "timepoint": 39,
           "trajectory": "Variance",
           "value": -1
          },
          {
           "color_by": "Variance",
           "sample_id": 0,
           "timepoint": 40,
           "trajectory": "Variance",
           "value": 0
          },
          {
           "color_by": "Variance",
           "sample_id": 0,
           "timepoint": 41,
           "trajectory": "Variance",
           "value": 1
          },
          {
           "color_by": "Variance",
           "sample_id": 0,
           "timepoint": 42,
           "trajectory": "Variance",
           "value": 0
          },
          {
           "color_by": "Variance",
           "sample_id": 0,
           "timepoint": 43,
           "trajectory": "Variance",
           "value": 1
          },
          {
           "color_by": "Variance",
           "sample_id": 0,
           "timepoint": 44,
           "trajectory": "Variance",
           "value": 2
          },
          {
           "color_by": "Variance",
           "sample_id": 0,
           "timepoint": 45,
           "trajectory": "Variance",
           "value": 3
          },
          {
           "color_by": "Variance",
           "sample_id": 0,
           "timepoint": 46,
           "trajectory": "Variance",
           "value": 4
          },
          {
           "color_by": "Variance",
           "sample_id": 0,
           "timepoint": 47,
           "trajectory": "Variance",
           "value": 3
          },
          {
           "color_by": "Variance",
           "sample_id": 0,
           "timepoint": 48,
           "trajectory": "Variance",
           "value": 2
          },
          {
           "color_by": "Variance",
           "sample_id": 0,
           "timepoint": 49,
           "trajectory": "Variance",
           "value": 1
          },
          {
           "color_by": "Variance",
           "sample_id": 0,
           "timepoint": 50,
           "trajectory": "Variance",
           "value": 2
          },
          {
           "color_by": "Variance",
           "sample_id": 0,
           "timepoint": 51,
           "trajectory": "Variance",
           "value": 1
          },
          {
           "color_by": "Variance",
           "sample_id": 0,
           "timepoint": 52,
           "trajectory": "Variance",
           "value": 0
          },
          {
           "color_by": "Variance",
           "sample_id": 0,
           "timepoint": 53,
           "trajectory": "Variance",
           "value": 1
          },
          {
           "color_by": "Variance",
           "sample_id": 0,
           "timepoint": 54,
           "trajectory": "Variance",
           "value": 2
          },
          {
           "color_by": "Variance",
           "sample_id": 0,
           "timepoint": 55,
           "trajectory": "Variance",
           "value": 3
          },
          {
           "color_by": "Variance",
           "sample_id": 0,
           "timepoint": 56,
           "trajectory": "Variance",
           "value": 2
          },
          {
           "color_by": "Variance",
           "sample_id": 0,
           "timepoint": 57,
           "trajectory": "Variance",
           "value": 3
          },
          {
           "color_by": "Variance",
           "sample_id": 0,
           "timepoint": 58,
           "trajectory": "Variance",
           "value": 2
          },
          {
           "color_by": "Variance",
           "sample_id": 0,
           "timepoint": 59,
           "trajectory": "Variance",
           "value": 3
          },
          {
           "color_by": "Variance",
           "sample_id": 0,
           "timepoint": 60,
           "trajectory": "Variance",
           "value": 2
          },
          {
           "color_by": "Variance",
           "sample_id": 0,
           "timepoint": 61,
           "trajectory": "Variance",
           "value": 3
          },
          {
           "color_by": "Variance",
           "sample_id": 0,
           "timepoint": 62,
           "trajectory": "Variance",
           "value": 4
          },
          {
           "color_by": "Variance",
           "sample_id": 0,
           "timepoint": 63,
           "trajectory": "Variance",
           "value": 5
          },
          {
           "color_by": "Variance",
           "sample_id": 0,
           "timepoint": 64,
           "trajectory": "Variance",
           "value": 4
          },
          {
           "color_by": "Variance",
           "sample_id": 0,
           "timepoint": 65,
           "trajectory": "Variance",
           "value": 3
          },
          {
           "color_by": "Variance",
           "sample_id": 0,
           "timepoint": 66,
           "trajectory": "Variance",
           "value": 2
          },
          {
           "color_by": "Variance",
           "sample_id": 0,
           "timepoint": 67,
           "trajectory": "Variance",
           "value": 3
          },
          {
           "color_by": "Variance",
           "sample_id": 0,
           "timepoint": 68,
           "trajectory": "Variance",
           "value": 2
          },
          {
           "color_by": "Variance",
           "sample_id": 0,
           "timepoint": 69,
           "trajectory": "Variance",
           "value": 1
          },
          {
           "color_by": "Variance",
           "sample_id": 0,
           "timepoint": 70,
           "trajectory": "Variance",
           "value": 0
          },
          {
           "color_by": "Variance",
           "sample_id": 0,
           "timepoint": 71,
           "trajectory": "Variance",
           "value": -1
          },
          {
           "color_by": "Variance",
           "sample_id": 0,
           "timepoint": 72,
           "trajectory": "Variance",
           "value": 0
          },
          {
           "color_by": "Variance",
           "sample_id": 0,
           "timepoint": 73,
           "trajectory": "Variance",
           "value": -1
          },
          {
           "color_by": "Variance",
           "sample_id": 0,
           "timepoint": 74,
           "trajectory": "Variance",
           "value": -2
          },
          {
           "color_by": "Variance",
           "sample_id": 0,
           "timepoint": 75,
           "trajectory": "Variance",
           "value": -1
          },
          {
           "color_by": "Variance",
           "sample_id": 0,
           "timepoint": 76,
           "trajectory": "Variance",
           "value": -2
          },
          {
           "color_by": "Variance",
           "sample_id": 0,
           "timepoint": 77,
           "trajectory": "Variance",
           "value": -1
          },
          {
           "color_by": "Variance",
           "sample_id": 0,
           "timepoint": 78,
           "trajectory": "Variance",
           "value": 0
          },
          {
           "color_by": "Variance",
           "sample_id": 0,
           "timepoint": 79,
           "trajectory": "Variance",
           "value": 1
          },
          {
           "color_by": "Variance",
           "sample_id": 0,
           "timepoint": 80,
           "trajectory": "Variance",
           "value": 2
          },
          {
           "color_by": "Variance",
           "sample_id": 0,
           "timepoint": 81,
           "trajectory": "Variance",
           "value": 1
          },
          {
           "color_by": "Variance",
           "sample_id": 0,
           "timepoint": 82,
           "trajectory": "Variance",
           "value": 0
          },
          {
           "color_by": "Variance",
           "sample_id": 0,
           "timepoint": 83,
           "trajectory": "Variance",
           "value": 1
          },
          {
           "color_by": "Variance",
           "sample_id": 0,
           "timepoint": 84,
           "trajectory": "Variance",
           "value": 2
          },
          {
           "color_by": "Variance",
           "sample_id": 0,
           "timepoint": 85,
           "trajectory": "Variance",
           "value": 1
          },
          {
           "color_by": "Variance",
           "sample_id": 0,
           "timepoint": 86,
           "trajectory": "Variance",
           "value": 0
          },
          {
           "color_by": "Variance",
           "sample_id": 0,
           "timepoint": 87,
           "trajectory": "Variance",
           "value": -1
          },
          {
           "color_by": "Variance",
           "sample_id": 0,
           "timepoint": 88,
           "trajectory": "Variance",
           "value": -2
          },
          {
           "color_by": "Variance",
           "sample_id": 0,
           "timepoint": 89,
           "trajectory": "Variance",
           "value": -3
          },
          {
           "color_by": "Variance",
           "sample_id": 0,
           "timepoint": 90,
           "trajectory": "Variance",
           "value": -2
          },
          {
           "color_by": "Variance",
           "sample_id": 0,
           "timepoint": 91,
           "trajectory": "Variance",
           "value": -1
          },
          {
           "color_by": "Variance",
           "sample_id": 0,
           "timepoint": 92,
           "trajectory": "Variance",
           "value": 0
          },
          {
           "color_by": "Variance",
           "sample_id": 0,
           "timepoint": 93,
           "trajectory": "Variance",
           "value": -1
          },
          {
           "color_by": "Variance",
           "sample_id": 0,
           "timepoint": 94,
           "trajectory": "Variance",
           "value": -2
          },
          {
           "color_by": "Variance",
           "sample_id": 0,
           "timepoint": 95,
           "trajectory": "Variance",
           "value": -3
          },
          {
           "color_by": "Variance",
           "sample_id": 0,
           "timepoint": 96,
           "trajectory": "Variance",
           "value": -2
          },
          {
           "color_by": "Variance",
           "sample_id": 0,
           "timepoint": 97,
           "trajectory": "Variance",
           "value": -1
          },
          {
           "color_by": "Variance",
           "sample_id": 0,
           "timepoint": 98,
           "trajectory": "Variance",
           "value": -2
          },
          {
           "color_by": "Variance",
           "sample_id": 0,
           "timepoint": 99,
           "trajectory": "Variance",
           "value": -1
          }
         ]
        },
        {
         "name": "points",
         "values": []
        },
        {
         "name": "markers",
         "values": []
        },
        {
         "name": "selected",
         "on": [
          {
           "remove": true,
           "trigger": "clear"
          },
          {
           "remove": true,
           "trigger": "!shift"
          },
          {
           "insert": "clicked",
           "trigger": "!shift && clicked"
          },
          {
           "toggle": "clicked",
           "trigger": "shift && clicked"
          }
         ]
        },
        {
         "name": "selectedData",
         "on": [
          {
           "remove": true,
           "trigger": "clearData"
          },
          {
           "toggle": "clickedData",
           "trigger": "clickedData"
          }
         ]
        }
       ],
       "height": 300,
       "legends": [
        {
         "encode": {
          "labels": {
           "interactive": true,
           "name": "legendLabel",
           "update": {
            "opacity": [
             {
              "test": "!length(data('selectedData')) || indata('selectedData', 'value', datum.value)",
              "value": 1
             },
             {
              "value": 0.25
             }
            ]
           }
          },
          "symbols": {
           "interactive": true,
           "name": "legendSymbol",
           "update": {
            "fill": {
             "value": "transparent"
            },
            "opacity": [
             {
              "test": "!length(data('selected')) || indata('selected', 'value', datum.value) || indata('selectedData', 'value', datum.value)",
              "value": 0.7
             },
             {
              "value": 0.15
             }
            ],
            "size": {
             "value": 64
            },
            "strokeWidth": {
             "value": 2
            }
           }
          }
         },
         "name": "color_legend",
         "orient": "left",
         "stroke": "color"
        }
       ],
       "marks": [
        {
         "from": {
          "facet": {
           "data": "points",
           "groupby": "trajectory",
           "name": "points_split"
          }
         },
         "marks": [
          {
           "encode": {
            "hover": {
             "fillOpacity": {
              "value": 0.9
             }
            },
            "update": {
             "fill": {
              "field": "trajectory",
              "scale": "color"
             },
             "fillOpacity": [
              {
               "test": "!length(data('selected')) || indata('selected', 'value', datum.trajectory)",
               "value": 0.5
              },
              {
               "value": 0.15
              }
             ],
             "size": {
              "value": 35
             },
             "stroke": {
              "field": "trajectory",
              "scale": "color"
             },
             "strokeOpacity": [
              {
               "test": "!length(data('selected')) || indata('selected', 'value', datum.trajectory)",
               "value": 0.75
              },
              {
               "value": 0.15
              }
             ],
             "strokeWidth": {
              "value": 2
             },
             "tooltip": {
              "field": "value"
             },
             "x": {
              "field": "timepoint",
              "scale": "xscale"
             },
             "y": {
              "field": "value",
              "scale": "yscale"
             }
            }
           },
           "from": {
            "data": "points_split"
           },
           "name": "_points_symbol",
           "type": "symbol",
           "zindex": 3
          },
          {
           "encode": {
            "hover": {
             "fillOpacity": {
              "value": 0.9
             }
            },
            "update": {
             "interpolate": {
              "value": "linear"
             },
             "stroke": {
              "field": "trajectory",
              "scale": "color"
             },
             "strokeDash": {
              "value": [
               5,
               3
              ]
             },
             "strokeOpacity": [
              {
               "test": "!length(data('selected')) || indata('selected', 'value', datum.trajectory)",
               "value": 0.3
              },
              {
               "value": 0.1
              }
             ],
             "strokeWidth": {
              "value": 2
             },
             "x": {
              "field": "timepoint",
              "scale": "xscale"
             },
             "y": {
              "field": "value",
              "scale": "yscale"
             }
            }
           },
           "from": {
            "data": "points_split"
           },
           "name": "_points_line",
           "type": "line",
           "zindex": 3
          }
         ],
         "name": "_points",
         "type": "group",
         "zindex": 3
        },
        {
         "from": {
          "facet": {
           "data": "traces",
           "groupby": "trajectory",
           "name": "traces_split"
          }
         },
         "marks": [
          {
           "encode": {
            "hover": {
             "fillOpacity": {
              "value": 0.9
             }
            },
            "update": {
             "interpolate": {
              "value": "linear"
             },
             "stroke": {
              "field": "trajectory",
              "scale": "color"
             },
             "strokeDash": [
              {
               "test": "indexof(datum.trajectory, 'aseline') == -1",
               "value": [
                1,
                0
               ]
              },
              {
               "value": [
                8,
                4
               ]
              }
             ],
             "strokeOpacity": [
              {
               "test": "!length(data('selected')) || indata('selected', 'value', datum.trajectory)",
               "value": 0.75
              },
              {
               "value": 0.15
              }
             ],
             "strokeWidth": {
              "value": 2
             },
             "x": {
              "field": "timepoint",
              "scale": "xscale"
             },
             "y": {
              "field": "value",
              "scale": "yscale"
             }
            }
           },
           "from": {
            "data": "traces_split"
           },
           "name": "_traces_lines",
           "type": "line"
          }
         ],
         "name": "_traces",
         "type": "group",
         "zindex": 2
        },
        {
         "from": {
          "facet": {
           "data": "distributions",
           "groupby": "trajectory",
           "name": "trajectory_split"
          }
         },
         "marks": [
          {
           "encode": {
            "hover": {
             "fillOpacity": {
              "value": 0.9
             }
            },
            "update": {
             "fill": {
              "field": "trajectory",
              "scale": "color"
             },
             "fillOpacity": [
              {
               "test": "!length(data('selected')) || indata('selected', 'value', datum.trajectory)",
               "value": 0.1
              },
              {
               "value": 0.05
              }
             ],
             "interpolate": {
              "value": "linear"
             },
             "stroke": {
              "field": "trajectory",
              "scale": "color"
             },
             "strokeOpacity": [
              {
               "test": "!length(data('selected')) || indata('selected', 'value', datum.trajectory)",
               "value": 0.1
              },
              {
               "value": 0.05
              }
             ],
             "strokeWidth": {
              "value": 2
             },
             "x": {
              "field": "timepoint",
              "scale": "xscale"
             },
             "y": {
              "field": "upper",
              "scale": "yscale"
             },
             "y2": {
              "field": "lower",
              "scale": "yscale"
             }
            }
           },
           "from": {
            "data": "trajectory_split"
           },
           "interactive": true,
           "name": "area",
           "type": "area"
          }
         ],
         "name": "_distributions",
         "type": "group",
         "zindex": 1
        },
        {
         "marks": [
          {
           "encode": {
            "enter": {
             "stroke": {
              "value": "lightgray"
             }
            },
            "update": {
             "opacity": {
              "value": 1
             },
             "x": {
              "field": "timepoint",
              "scale": "xscale"
             },
             "y": {
              "signal": "height"
             },
             "y2": {
              "value": 0
             }
            }
           },
           "from": {
            "data": "markers"
           },
           "name": "_marker text",
           "type": "rule"
          },
          {
           "encode": {
            "enter": {
             "fontSize": {
              "value": 8
             },
             "text": {
              "field": "datum.label"
             },
             "y": {
              "value": 0
             }
            }
           },
           "from": {
            "data": "_marker text"
           },
           "name": "_marker flags",
           "transform": [
            {
             "as": [
              "x",
              "_y",
              "opacity",
              "align",
              "baseline"
             ],
             "lineAnchor": "start",
             "offset": [
              1
             ],
             "size": {
              "signal": "[width, height]"
             },
             "type": "label"
            }
           ],
           "type": "text"
          }
         ],
         "name": "_markers",
         "type": "group"
        }
       ],
       "scales": [
        {
         "domain": {
          "fields": [
           {
            "data": "distributions",
            "field": "timepoint"
           },
           {
            "data": "traces",
            "field": "timepoint"
           },
           {
            "data": "points",
            "field": "timepoint"
           },
           {
            "data": "markers",
            "field": "timepoint"
           }
          ]
         },
         "name": "xscale",
         "range": "width",
         "type": "linear",
         "zero": false
        },
        {
         "domain": {
          "fields": [
           {
            "data": "distributions",
            "field": "lower"
           },
           {
            "data": "distributions",
            "field": "upper"
           },
           {
            "data": "traces",
            "field": "value"
           },
           {
            "data": "points",
            "field": "value"
           }
          ]
         },
         "name": "yscale",
         "nice": true,
         "range": "height",
         "type": "linear",
         "zero": true
        },
        {
         "domain": {
          "fields": [
           {
            "data": "distributions",
            "field": "trajectory"
           },
           {
            "data": "traces",
            "field": "trajectory"
           },
           {
            "data": "points",
            "field": "trajectory"
           }
          ],
          "sort": {
           "order": "ascending"
          }
         },
         "name": "color",
         "range": "category",
         "type": "ordinal"
        }
       ],
       "signals": [
        {
         "name": "clear",
         "on": [
          {
           "events": "mouseup[!event.item]",
           "force": true,
           "update": "true"
          }
         ],
         "value": true
        },
        {
         "name": "shift",
         "on": [
          {
           "events": "@legendSymbol:click, @legendLabel:click",
           "force": true,
           "update": "event.shiftKey"
          }
         ],
         "value": false
        },
        {
         "name": "clicked",
         "on": [
          {
           "events": "@legendSymbol:click, @legendLabel:click",
           "force": true,
           "update": "{value: datum.value}"
          }
         ],
         "value": null
        },
        {
         "name": "clearData",
         "on": [
          {
           "events": "mouseup[!event.item]",
           "force": true,
           "update": "true"
          }
         ],
         "value": true
        },
        {
         "name": "clickedData",
         "on": [
          {
           "events": "@area:click",
           "force": true,
           "update": "{value: datum.trajectory}"
          }
         ],
         "value": null
        }
       ],
       "width": 500
      }
     },
     "metadata": {},
     "output_type": "display_data"
    }
   ],
   "source": [
    "\n",
    "name = \"random\"\n",
    "timepoint_list = []\n",
    "sine_list = []\n",
    "sample_list = []\n",
    "kmean = False\n",
    "n_clusters = 3\n",
    "\n",
    "def save_result(data, name, ref_ext):\n",
    "    \"\"\"Save new reference files\"\"\"\n",
    "    _output_root = 'output'\n",
    "    mode = \"w\" if ref_ext == \"svg\" else \"wb\"\n",
    "    with open(os.path.join(_output_root, f\"{name}.{ref_ext}\"), mode) as f:\n",
    "        f.write(data)\n",
    "\n",
    "#https://stackoverflow.com/questions/71681417/generating-a-1d-random-walk-with-random-module\n",
    "def randomwalk1D(n):\n",
    "    x = 0\n",
    "    start = x\n",
    "    xposition = [start]\n",
    "    probabilities = [-1, 1]\n",
    "    for i in range(1, n + 1):\n",
    "        x += random.choice(probabilities)\n",
    "        xposition.append(x)\n",
    "    return xposition\n",
    "\n",
    "timepoint_list = []\n",
    "sample_list = []\n",
    "sine_list = []\n",
    "\n",
    "j = 0\n",
    "for _ in range(300):\n",
    "        j+=1\n",
    "        timepoint_list.extend([x for x in range(100)])\n",
    "        sample_list.extend([j]*100)\n",
    "        sine_list.extend(randomwalk1D(99))\n",
    "\n",
    "random_distribution= pd.DataFrame({'timepoint_id' : timepoint_list,\n",
    "                   'sample_id' : sample_list,\n",
    "                   'Example': sine_list})\n",
    "\n",
    "\n",
    "#change kmean here to use clustering\n",
    "examplary_line, trajectory_dict = pyciemss.visuals.trajectories.select_traces(random_distribution, kmean= kmean, n_clusters = n_clusters, select_by_list = ['mean', 'granger', \"variance\", 'chaos'])\n",
    "\n",
    "\n",
    "for cluster in list(np.unique(examplary_line['cluster'])): \n",
    "        cluster_sample_id = trajectory_dict[cluster.lower()]['cluster_sample_id']  \n",
    "        cluster_random_distribution =  random_distribution[random_distribution[\"sample_id\"].isin(cluster_sample_id)]\n",
    "        cluster_random_distribution = cluster_random_distribution.reset_index()\n",
    "        print(len(cluster_sample_id))\n",
    "        # get examplary lines form that cluster\n",
    "        current_cluster_df = examplary_line[examplary_line['cluster'] == cluster]\n",
    "        current_cluster_df = current_cluster_df.reset_index()\n",
    "\n",
    "        # get right format to use as traces\n",
    "        examplary_lines_pivot = current_cluster_df[['examplary_line', 'envelope_mean', 'timepoint', 'select_by']].pivot_table(\n",
    "        values=\"examplary_line\", index = [\"timepoint\", 'envelope_mean'], columns=\"select_by\")\n",
    "        examplary_lines_pivot = examplary_lines_pivot.reset_index()\n",
    "        examplary_lines_pivot = examplary_lines_pivot.rename(columns = {'envelope_mean': 'Baseline_Mean'})\n",
    "\n",
    "        # plot the traces along with the baselines\n",
    "        schema = plots.trajectories(cluster_random_distribution[['timepoint_id', 'sample_id', 'Example']], traces = examplary_lines_pivot)\n",
    "        path = \"{}_{}\".format(name, cluster)\n",
    "        image = plots.ipy_display(schema, format=\"PNG\").data\n",
    "        save_result(image, path, \"png\")\n",
    "        plots.ipy_display(schema, format=\"interactive\")\n",
    "\n"
   ]
  },
  {
   "cell_type": "code",
   "execution_count": null,
   "metadata": {},
   "outputs": [
    {
     "name": "stdout",
     "output_type": "stream",
     "text": [
      "   timepoint_id  sample_id  persistent_beta_c_param  persistent_kappa_param  \\\n",
      "0             0          0                  0.71391                 0.09432   \n",
      "1             1          0                  0.71391                 0.09432   \n",
      "2             2          0                  0.71391                 0.09432   \n",
      "3             3          0                  0.71391                 0.09432   \n",
      "4             4          0                  0.71391                 0.09432   \n",
      "\n",
      "   persistent_gamma_param  persistent_hosp_param  persistent_death_hosp_param  \\\n",
      "0                0.226554               0.081048                     0.091152   \n",
      "1                0.226554               0.081048                     0.091152   \n",
      "2                0.226554               0.081048                     0.091152   \n",
      "3                0.226554               0.081048                     0.091152   \n",
      "4                0.226554               0.081048                     0.091152   \n",
      "\n",
      "   persistent_I0_param   D_state    E_state   H_state    I_state    R_state  \\\n",
      "0            12.423676  0.000000  31.171797  0.228120  19.609041   2.586514   \n",
      "1            12.423676  0.004159  25.228365  0.542552  22.959484   6.710431   \n",
      "2            12.423676  0.014050  21.086803  0.855617  24.065012  11.589039   \n",
      "3            12.423676  0.029648  18.084906  1.126368  23.884687  16.754715   \n",
      "4            12.423676  0.050182  15.816473  1.339658  22.994741  21.932064   \n",
      "\n",
      "      S_state  infected_observable_state  exposed_observable_state  \\\n",
      "0  19339986.0                  19.609041                 31.171797   \n",
      "1  19339984.0                  22.959484                 25.228365   \n",
      "2  19339982.0                  24.065012                 21.086803   \n",
      "3  19339980.0                  23.884687                 18.084906   \n",
      "4  19339978.0                  22.994741                 15.816473   \n",
      "\n",
      "   hospitalized_observable_state  dead_observable_state  timepoint_notional  \n",
      "0                       0.228120               0.000000            0.000000  \n",
      "1                       0.542552               0.004159            1.020408  \n",
      "2                       0.855617               0.014050            2.040816  \n",
      "3                       1.126368               0.029648            3.061224  \n",
      "4                       1.339658               0.050182            4.081633  \n",
      "Index(['timepoint_id', 'sample_id', 'persistent_beta_c_param',\n",
      "       'persistent_kappa_param', 'persistent_gamma_param',\n",
      "       'persistent_hosp_param', 'persistent_death_hosp_param',\n",
      "       'persistent_I0_param', 'D_state', 'E_state', 'H_state', 'I_state',\n",
      "       'R_state', 'S_state', 'infected_observable_state',\n",
      "       'exposed_observable_state', 'hospitalized_observable_state',\n",
      "       'dead_observable_state', 'timepoint_notional'],\n",
      "      dtype='object')\n"
     ]
    },
    {
     "data": {
      "text/html": [
       "<div>\n",
       "<style scoped>\n",
       "    .dataframe tbody tr th:only-of-type {\n",
       "        vertical-align: middle;\n",
       "    }\n",
       "\n",
       "    .dataframe tbody tr th {\n",
       "        vertical-align: top;\n",
       "    }\n",
       "\n",
       "    .dataframe thead th {\n",
       "        text-align: right;\n",
       "    }\n",
       "</style>\n",
       "<table border=\"1\" class=\"dataframe\">\n",
       "  <thead>\n",
       "    <tr style=\"text-align: right;\">\n",
       "      <th></th>\n",
       "      <th>timepoint_id</th>\n",
       "      <th>sample_id</th>\n",
       "      <th>infected_observable_state</th>\n",
       "    </tr>\n",
       "  </thead>\n",
       "  <tbody>\n",
       "    <tr>\n",
       "      <th>0</th>\n",
       "      <td>0</td>\n",
       "      <td>0</td>\n",
       "      <td>19.609041</td>\n",
       "    </tr>\n",
       "    <tr>\n",
       "      <th>1</th>\n",
       "      <td>1</td>\n",
       "      <td>0</td>\n",
       "      <td>22.959484</td>\n",
       "    </tr>\n",
       "    <tr>\n",
       "      <th>2</th>\n",
       "      <td>2</td>\n",
       "      <td>0</td>\n",
       "      <td>24.065012</td>\n",
       "    </tr>\n",
       "    <tr>\n",
       "      <th>3</th>\n",
       "      <td>3</td>\n",
       "      <td>0</td>\n",
       "      <td>23.884687</td>\n",
       "    </tr>\n",
       "    <tr>\n",
       "      <th>4</th>\n",
       "      <td>4</td>\n",
       "      <td>0</td>\n",
       "      <td>22.994741</td>\n",
       "    </tr>\n",
       "    <tr>\n",
       "      <th>...</th>\n",
       "      <td>...</td>\n",
       "      <td>...</td>\n",
       "      <td>...</td>\n",
       "    </tr>\n",
       "    <tr>\n",
       "      <th>2965</th>\n",
       "      <td>94</td>\n",
       "      <td>29</td>\n",
       "      <td>0.000162</td>\n",
       "    </tr>\n",
       "    <tr>\n",
       "      <th>2966</th>\n",
       "      <td>95</td>\n",
       "      <td>29</td>\n",
       "      <td>0.000130</td>\n",
       "    </tr>\n",
       "    <tr>\n",
       "      <th>2967</th>\n",
       "      <td>96</td>\n",
       "      <td>29</td>\n",
       "      <td>0.000104</td>\n",
       "    </tr>\n",
       "    <tr>\n",
       "      <th>2968</th>\n",
       "      <td>97</td>\n",
       "      <td>29</td>\n",
       "      <td>0.000083</td>\n",
       "    </tr>\n",
       "    <tr>\n",
       "      <th>2969</th>\n",
       "      <td>98</td>\n",
       "      <td>29</td>\n",
       "      <td>0.000066</td>\n",
       "    </tr>\n",
       "  </tbody>\n",
       "</table>\n",
       "<p>2970 rows × 3 columns</p>\n",
       "</div>"
      ],
      "text/plain": [
       "      timepoint_id  sample_id  infected_observable_state\n",
       "0                0          0                  19.609041\n",
       "1                1          0                  22.959484\n",
       "2                2          0                  24.065012\n",
       "3                3          0                  23.884687\n",
       "4                4          0                  22.994741\n",
       "...            ...        ...                        ...\n",
       "2965            94         29                   0.000162\n",
       "2966            95         29                   0.000130\n",
       "2967            96         29                   0.000104\n",
       "2968            97         29                   0.000083\n",
       "2969            98         29                   0.000066\n",
       "\n",
       "[2970 rows x 3 columns]"
      ]
     },
     "execution_count": 6,
     "metadata": {},
     "output_type": "execute_result"
    }
   ],
   "source": [
    "def distributions():\n",
    "    model_1_path = (\n",
    "            \"https://raw.githubusercontent.com/DARPA-ASKEM/simulation-integration\"\n",
    "            \"/main/data/models/SEIRHD_NPI_Type1_petrinet.json\"\n",
    "    )\n",
    "    start_time = 0.0\n",
    "    end_time = 100.0\n",
    "    logging_step_size = 1\n",
    "    num_samples = 30\n",
    "    sample = pyciemss.sample(\n",
    "        model_1_path,\n",
    "        end_time,\n",
    "        logging_step_size,\n",
    "        num_samples,\n",
    "        start_time=start_time,\n",
    "        solver_method=\"euler\",\n",
    "    )[\"unprocessed_result\"]\n",
    "\n",
    "    for e in sample.values():\n",
    "        if len(e.shape) > 1:\n",
    "            num_timepoints = e.shape[1]\n",
    "\n",
    "    return convert_to_output_format(\n",
    "        sample,\n",
    "        timepoints=np.linspace(start_time, end_time, num_timepoints),\n",
    "        time_unit=\"notional\",\n",
    "    )\n",
    "\n",
    "distributions = distributions()\n",
    "print(distributions.head())\n",
    "print(distributions.columns)\n",
    "all_columns = [\"timepoint_id\", \"sample_id\", 'infected_observable_state',\n",
    "       'exposed_observable_state', 'hospitalized_observable_state',\n",
    "       'dead_observable_state']\n",
    "all_columns = [\"timepoint_id\", \"sample_id\", 'infected_observable_state']\n",
    "\n",
    "distributions = distributions[all_columns]\n",
    "distributions"
   ]
  },
  {
   "cell_type": "code",
   "execution_count": null,
   "metadata": {},
   "outputs": [
    {
     "ename": "FileNotFoundError",
     "evalue": "[Errno 2] No such file or directory: 'paper_sine_05/paper_sine_05_new_df.csv'",
     "output_type": "error",
     "traceback": [
      "\u001b[0;31m---------------------------------------------------------------------------\u001b[0m",
      "\u001b[0;31mFileNotFoundError\u001b[0m                         Traceback (most recent call last)",
      "Cell \u001b[0;32mIn[13], line 2\u001b[0m\n\u001b[1;32m      1\u001b[0m \u001b[38;5;66;03m#'timepoint_id', 'sample_id'\u001b[39;00m\n\u001b[0;32m----> 2\u001b[0m sine_distribution \u001b[38;5;241m=\u001b[39m \u001b[43mpd\u001b[49m\u001b[38;5;241;43m.\u001b[39;49m\u001b[43mread_csv\u001b[49m\u001b[43m(\u001b[49m\u001b[38;5;124;43m\"\u001b[39;49m\u001b[38;5;124;43mpaper_sine_05/paper_sine_05_new_df.csv\u001b[39;49m\u001b[38;5;124;43m\"\u001b[39;49m\u001b[43m)\u001b[49m\n\u001b[1;32m      3\u001b[0m sine_distribution \u001b[38;5;241m=\u001b[39m sine_distribution\u001b[38;5;241m.\u001b[39mrename(\n\u001b[1;32m      4\u001b[0m             columns\u001b[38;5;241m=\u001b[39m{\n\u001b[1;32m      5\u001b[0m                 \u001b[38;5;124m'\u001b[39m\u001b[38;5;124mUnnamed: 0.1\u001b[39m\u001b[38;5;124m'\u001b[39m: \u001b[38;5;124m\"\u001b[39m\u001b[38;5;124mtimepoint_id\u001b[39m\u001b[38;5;124m\"\u001b[39m,\n\u001b[1;32m      6\u001b[0m                 \u001b[38;5;124m'\u001b[39m\u001b[38;5;124mUnnamed: 0\u001b[39m\u001b[38;5;124m'\u001b[39m: \u001b[38;5;124m\"\u001b[39m\u001b[38;5;124m100\u001b[39m\u001b[38;5;124m\"\u001b[39m,\n\u001b[1;32m      7\u001b[0m             }\n\u001b[1;32m      8\u001b[0m         )\n\u001b[1;32m      9\u001b[0m sine_distribution \u001b[38;5;241m=\u001b[39m sine_distribution\u001b[38;5;241m.\u001b[39mmelt(id_vars\u001b[38;5;241m=\u001b[39m[\u001b[38;5;124m\"\u001b[39m\u001b[38;5;124mtimepoint_id\u001b[39m\u001b[38;5;124m\"\u001b[39m], \n\u001b[1;32m     10\u001b[0m         var_name\u001b[38;5;241m=\u001b[39m\u001b[38;5;124m\"\u001b[39m\u001b[38;5;124msample_id\u001b[39m\u001b[38;5;124m\"\u001b[39m, \n\u001b[1;32m     11\u001b[0m         value_name\u001b[38;5;241m=\u001b[39m\u001b[38;5;124m\"\u001b[39m\u001b[38;5;124msame_stat_state\u001b[39m\u001b[38;5;124m\"\u001b[39m)\n",
      "File \u001b[0;32m~/opt/anaconda3/envs/pyciems310/lib/python3.10/site-packages/pandas/io/parsers/readers.py:1026\u001b[0m, in \u001b[0;36mread_csv\u001b[0;34m(filepath_or_buffer, sep, delimiter, header, names, index_col, usecols, dtype, engine, converters, true_values, false_values, skipinitialspace, skiprows, skipfooter, nrows, na_values, keep_default_na, na_filter, verbose, skip_blank_lines, parse_dates, infer_datetime_format, keep_date_col, date_parser, date_format, dayfirst, cache_dates, iterator, chunksize, compression, thousands, decimal, lineterminator, quotechar, quoting, doublequote, escapechar, comment, encoding, encoding_errors, dialect, on_bad_lines, delim_whitespace, low_memory, memory_map, float_precision, storage_options, dtype_backend)\u001b[0m\n\u001b[1;32m   1013\u001b[0m kwds_defaults \u001b[38;5;241m=\u001b[39m _refine_defaults_read(\n\u001b[1;32m   1014\u001b[0m     dialect,\n\u001b[1;32m   1015\u001b[0m     delimiter,\n\u001b[0;32m   (...)\u001b[0m\n\u001b[1;32m   1022\u001b[0m     dtype_backend\u001b[38;5;241m=\u001b[39mdtype_backend,\n\u001b[1;32m   1023\u001b[0m )\n\u001b[1;32m   1024\u001b[0m kwds\u001b[38;5;241m.\u001b[39mupdate(kwds_defaults)\n\u001b[0;32m-> 1026\u001b[0m \u001b[38;5;28;01mreturn\u001b[39;00m \u001b[43m_read\u001b[49m\u001b[43m(\u001b[49m\u001b[43mfilepath_or_buffer\u001b[49m\u001b[43m,\u001b[49m\u001b[43m \u001b[49m\u001b[43mkwds\u001b[49m\u001b[43m)\u001b[49m\n",
      "File \u001b[0;32m~/opt/anaconda3/envs/pyciems310/lib/python3.10/site-packages/pandas/io/parsers/readers.py:620\u001b[0m, in \u001b[0;36m_read\u001b[0;34m(filepath_or_buffer, kwds)\u001b[0m\n\u001b[1;32m    617\u001b[0m _validate_names(kwds\u001b[38;5;241m.\u001b[39mget(\u001b[38;5;124m\"\u001b[39m\u001b[38;5;124mnames\u001b[39m\u001b[38;5;124m\"\u001b[39m, \u001b[38;5;28;01mNone\u001b[39;00m))\n\u001b[1;32m    619\u001b[0m \u001b[38;5;66;03m# Create the parser.\u001b[39;00m\n\u001b[0;32m--> 620\u001b[0m parser \u001b[38;5;241m=\u001b[39m \u001b[43mTextFileReader\u001b[49m\u001b[43m(\u001b[49m\u001b[43mfilepath_or_buffer\u001b[49m\u001b[43m,\u001b[49m\u001b[43m \u001b[49m\u001b[38;5;241;43m*\u001b[39;49m\u001b[38;5;241;43m*\u001b[39;49m\u001b[43mkwds\u001b[49m\u001b[43m)\u001b[49m\n\u001b[1;32m    622\u001b[0m \u001b[38;5;28;01mif\u001b[39;00m chunksize \u001b[38;5;129;01mor\u001b[39;00m iterator:\n\u001b[1;32m    623\u001b[0m     \u001b[38;5;28;01mreturn\u001b[39;00m parser\n",
      "File \u001b[0;32m~/opt/anaconda3/envs/pyciems310/lib/python3.10/site-packages/pandas/io/parsers/readers.py:1620\u001b[0m, in \u001b[0;36mTextFileReader.__init__\u001b[0;34m(self, f, engine, **kwds)\u001b[0m\n\u001b[1;32m   1617\u001b[0m     \u001b[38;5;28mself\u001b[39m\u001b[38;5;241m.\u001b[39moptions[\u001b[38;5;124m\"\u001b[39m\u001b[38;5;124mhas_index_names\u001b[39m\u001b[38;5;124m\"\u001b[39m] \u001b[38;5;241m=\u001b[39m kwds[\u001b[38;5;124m\"\u001b[39m\u001b[38;5;124mhas_index_names\u001b[39m\u001b[38;5;124m\"\u001b[39m]\n\u001b[1;32m   1619\u001b[0m \u001b[38;5;28mself\u001b[39m\u001b[38;5;241m.\u001b[39mhandles: IOHandles \u001b[38;5;241m|\u001b[39m \u001b[38;5;28;01mNone\u001b[39;00m \u001b[38;5;241m=\u001b[39m \u001b[38;5;28;01mNone\u001b[39;00m\n\u001b[0;32m-> 1620\u001b[0m \u001b[38;5;28mself\u001b[39m\u001b[38;5;241m.\u001b[39m_engine \u001b[38;5;241m=\u001b[39m \u001b[38;5;28;43mself\u001b[39;49m\u001b[38;5;241;43m.\u001b[39;49m\u001b[43m_make_engine\u001b[49m\u001b[43m(\u001b[49m\u001b[43mf\u001b[49m\u001b[43m,\u001b[49m\u001b[43m \u001b[49m\u001b[38;5;28;43mself\u001b[39;49m\u001b[38;5;241;43m.\u001b[39;49m\u001b[43mengine\u001b[49m\u001b[43m)\u001b[49m\n",
      "File \u001b[0;32m~/opt/anaconda3/envs/pyciems310/lib/python3.10/site-packages/pandas/io/parsers/readers.py:1880\u001b[0m, in \u001b[0;36mTextFileReader._make_engine\u001b[0;34m(self, f, engine)\u001b[0m\n\u001b[1;32m   1878\u001b[0m     \u001b[38;5;28;01mif\u001b[39;00m \u001b[38;5;124m\"\u001b[39m\u001b[38;5;124mb\u001b[39m\u001b[38;5;124m\"\u001b[39m \u001b[38;5;129;01mnot\u001b[39;00m \u001b[38;5;129;01min\u001b[39;00m mode:\n\u001b[1;32m   1879\u001b[0m         mode \u001b[38;5;241m+\u001b[39m\u001b[38;5;241m=\u001b[39m \u001b[38;5;124m\"\u001b[39m\u001b[38;5;124mb\u001b[39m\u001b[38;5;124m\"\u001b[39m\n\u001b[0;32m-> 1880\u001b[0m \u001b[38;5;28mself\u001b[39m\u001b[38;5;241m.\u001b[39mhandles \u001b[38;5;241m=\u001b[39m \u001b[43mget_handle\u001b[49m\u001b[43m(\u001b[49m\n\u001b[1;32m   1881\u001b[0m \u001b[43m    \u001b[49m\u001b[43mf\u001b[49m\u001b[43m,\u001b[49m\n\u001b[1;32m   1882\u001b[0m \u001b[43m    \u001b[49m\u001b[43mmode\u001b[49m\u001b[43m,\u001b[49m\n\u001b[1;32m   1883\u001b[0m \u001b[43m    \u001b[49m\u001b[43mencoding\u001b[49m\u001b[38;5;241;43m=\u001b[39;49m\u001b[38;5;28;43mself\u001b[39;49m\u001b[38;5;241;43m.\u001b[39;49m\u001b[43moptions\u001b[49m\u001b[38;5;241;43m.\u001b[39;49m\u001b[43mget\u001b[49m\u001b[43m(\u001b[49m\u001b[38;5;124;43m\"\u001b[39;49m\u001b[38;5;124;43mencoding\u001b[39;49m\u001b[38;5;124;43m\"\u001b[39;49m\u001b[43m,\u001b[49m\u001b[43m \u001b[49m\u001b[38;5;28;43;01mNone\u001b[39;49;00m\u001b[43m)\u001b[49m\u001b[43m,\u001b[49m\n\u001b[1;32m   1884\u001b[0m \u001b[43m    \u001b[49m\u001b[43mcompression\u001b[49m\u001b[38;5;241;43m=\u001b[39;49m\u001b[38;5;28;43mself\u001b[39;49m\u001b[38;5;241;43m.\u001b[39;49m\u001b[43moptions\u001b[49m\u001b[38;5;241;43m.\u001b[39;49m\u001b[43mget\u001b[49m\u001b[43m(\u001b[49m\u001b[38;5;124;43m\"\u001b[39;49m\u001b[38;5;124;43mcompression\u001b[39;49m\u001b[38;5;124;43m\"\u001b[39;49m\u001b[43m,\u001b[49m\u001b[43m \u001b[49m\u001b[38;5;28;43;01mNone\u001b[39;49;00m\u001b[43m)\u001b[49m\u001b[43m,\u001b[49m\n\u001b[1;32m   1885\u001b[0m \u001b[43m    \u001b[49m\u001b[43mmemory_map\u001b[49m\u001b[38;5;241;43m=\u001b[39;49m\u001b[38;5;28;43mself\u001b[39;49m\u001b[38;5;241;43m.\u001b[39;49m\u001b[43moptions\u001b[49m\u001b[38;5;241;43m.\u001b[39;49m\u001b[43mget\u001b[49m\u001b[43m(\u001b[49m\u001b[38;5;124;43m\"\u001b[39;49m\u001b[38;5;124;43mmemory_map\u001b[39;49m\u001b[38;5;124;43m\"\u001b[39;49m\u001b[43m,\u001b[49m\u001b[43m \u001b[49m\u001b[38;5;28;43;01mFalse\u001b[39;49;00m\u001b[43m)\u001b[49m\u001b[43m,\u001b[49m\n\u001b[1;32m   1886\u001b[0m \u001b[43m    \u001b[49m\u001b[43mis_text\u001b[49m\u001b[38;5;241;43m=\u001b[39;49m\u001b[43mis_text\u001b[49m\u001b[43m,\u001b[49m\n\u001b[1;32m   1887\u001b[0m \u001b[43m    \u001b[49m\u001b[43merrors\u001b[49m\u001b[38;5;241;43m=\u001b[39;49m\u001b[38;5;28;43mself\u001b[39;49m\u001b[38;5;241;43m.\u001b[39;49m\u001b[43moptions\u001b[49m\u001b[38;5;241;43m.\u001b[39;49m\u001b[43mget\u001b[49m\u001b[43m(\u001b[49m\u001b[38;5;124;43m\"\u001b[39;49m\u001b[38;5;124;43mencoding_errors\u001b[39;49m\u001b[38;5;124;43m\"\u001b[39;49m\u001b[43m,\u001b[49m\u001b[43m \u001b[49m\u001b[38;5;124;43m\"\u001b[39;49m\u001b[38;5;124;43mstrict\u001b[39;49m\u001b[38;5;124;43m\"\u001b[39;49m\u001b[43m)\u001b[49m\u001b[43m,\u001b[49m\n\u001b[1;32m   1888\u001b[0m \u001b[43m    \u001b[49m\u001b[43mstorage_options\u001b[49m\u001b[38;5;241;43m=\u001b[39;49m\u001b[38;5;28;43mself\u001b[39;49m\u001b[38;5;241;43m.\u001b[39;49m\u001b[43moptions\u001b[49m\u001b[38;5;241;43m.\u001b[39;49m\u001b[43mget\u001b[49m\u001b[43m(\u001b[49m\u001b[38;5;124;43m\"\u001b[39;49m\u001b[38;5;124;43mstorage_options\u001b[39;49m\u001b[38;5;124;43m\"\u001b[39;49m\u001b[43m,\u001b[49m\u001b[43m \u001b[49m\u001b[38;5;28;43;01mNone\u001b[39;49;00m\u001b[43m)\u001b[49m\u001b[43m,\u001b[49m\n\u001b[1;32m   1889\u001b[0m \u001b[43m\u001b[49m\u001b[43m)\u001b[49m\n\u001b[1;32m   1890\u001b[0m \u001b[38;5;28;01massert\u001b[39;00m \u001b[38;5;28mself\u001b[39m\u001b[38;5;241m.\u001b[39mhandles \u001b[38;5;129;01mis\u001b[39;00m \u001b[38;5;129;01mnot\u001b[39;00m \u001b[38;5;28;01mNone\u001b[39;00m\n\u001b[1;32m   1891\u001b[0m f \u001b[38;5;241m=\u001b[39m \u001b[38;5;28mself\u001b[39m\u001b[38;5;241m.\u001b[39mhandles\u001b[38;5;241m.\u001b[39mhandle\n",
      "File \u001b[0;32m~/opt/anaconda3/envs/pyciems310/lib/python3.10/site-packages/pandas/io/common.py:873\u001b[0m, in \u001b[0;36mget_handle\u001b[0;34m(path_or_buf, mode, encoding, compression, memory_map, is_text, errors, storage_options)\u001b[0m\n\u001b[1;32m    868\u001b[0m \u001b[38;5;28;01melif\u001b[39;00m \u001b[38;5;28misinstance\u001b[39m(handle, \u001b[38;5;28mstr\u001b[39m):\n\u001b[1;32m    869\u001b[0m     \u001b[38;5;66;03m# Check whether the filename is to be opened in binary mode.\u001b[39;00m\n\u001b[1;32m    870\u001b[0m     \u001b[38;5;66;03m# Binary mode does not support 'encoding' and 'newline'.\u001b[39;00m\n\u001b[1;32m    871\u001b[0m     \u001b[38;5;28;01mif\u001b[39;00m ioargs\u001b[38;5;241m.\u001b[39mencoding \u001b[38;5;129;01mand\u001b[39;00m \u001b[38;5;124m\"\u001b[39m\u001b[38;5;124mb\u001b[39m\u001b[38;5;124m\"\u001b[39m \u001b[38;5;129;01mnot\u001b[39;00m \u001b[38;5;129;01min\u001b[39;00m ioargs\u001b[38;5;241m.\u001b[39mmode:\n\u001b[1;32m    872\u001b[0m         \u001b[38;5;66;03m# Encoding\u001b[39;00m\n\u001b[0;32m--> 873\u001b[0m         handle \u001b[38;5;241m=\u001b[39m \u001b[38;5;28;43mopen\u001b[39;49m\u001b[43m(\u001b[49m\n\u001b[1;32m    874\u001b[0m \u001b[43m            \u001b[49m\u001b[43mhandle\u001b[49m\u001b[43m,\u001b[49m\n\u001b[1;32m    875\u001b[0m \u001b[43m            \u001b[49m\u001b[43mioargs\u001b[49m\u001b[38;5;241;43m.\u001b[39;49m\u001b[43mmode\u001b[49m\u001b[43m,\u001b[49m\n\u001b[1;32m    876\u001b[0m \u001b[43m            \u001b[49m\u001b[43mencoding\u001b[49m\u001b[38;5;241;43m=\u001b[39;49m\u001b[43mioargs\u001b[49m\u001b[38;5;241;43m.\u001b[39;49m\u001b[43mencoding\u001b[49m\u001b[43m,\u001b[49m\n\u001b[1;32m    877\u001b[0m \u001b[43m            \u001b[49m\u001b[43merrors\u001b[49m\u001b[38;5;241;43m=\u001b[39;49m\u001b[43merrors\u001b[49m\u001b[43m,\u001b[49m\n\u001b[1;32m    878\u001b[0m \u001b[43m            \u001b[49m\u001b[43mnewline\u001b[49m\u001b[38;5;241;43m=\u001b[39;49m\u001b[38;5;124;43m\"\u001b[39;49m\u001b[38;5;124;43m\"\u001b[39;49m\u001b[43m,\u001b[49m\n\u001b[1;32m    879\u001b[0m \u001b[43m        \u001b[49m\u001b[43m)\u001b[49m\n\u001b[1;32m    880\u001b[0m     \u001b[38;5;28;01melse\u001b[39;00m:\n\u001b[1;32m    881\u001b[0m         \u001b[38;5;66;03m# Binary mode\u001b[39;00m\n\u001b[1;32m    882\u001b[0m         handle \u001b[38;5;241m=\u001b[39m \u001b[38;5;28mopen\u001b[39m(handle, ioargs\u001b[38;5;241m.\u001b[39mmode)\n",
      "\u001b[0;31mFileNotFoundError\u001b[0m: [Errno 2] No such file or directory: 'paper_sine_05/paper_sine_05_new_df.csv'"
     ]
    }
   ],
   "source": [
    "#'timepoint_id', 'sample_id'\n",
    "sine_distribution = pd.read_csv(\"paper_sine_05/paper_sine_05_new_df.csv\")\n",
    "sine_distribution = sine_distribution.rename(\n",
    "            columns={\n",
    "                'Unnamed: 0.1': \"timepoint_id\",\n",
    "                'Unnamed: 0': \"100\",\n",
    "            }\n",
    "        )\n",
    "sine_distribution = sine_distribution.melt(id_vars=[\"timepoint_id\"], \n",
    "        var_name=\"sample_id\", \n",
    "        value_name=\"same_stat_state\")\n",
    "\n",
    "traces_list = []   \n",
    " \n",
    "#select_by \"mean\", \"var\", \"granger\"\n",
    "for select_by in ['mean', 'var', 'granger']:\n",
    "    examplary_line, mean_line_df = pyciemss.visuals.trajectories.select_traces(sine_distribution, select_by = select_by,  kmean=True)\n",
    "    traces_list.append(examplary_line)\n",
    "\n",
    "\n",
    "new_df = pd.concat(traces_list, axis = 1)\n",
    "combined_df = pd.concat([new_df, mean_line_df], axis =1)\n",
    "\n",
    "schema = plots.trajectories(sine_distribution, traces = combined_df,  keep=\".*_state\")\n",
    "\n",
    "plots.save_schema(schema, \"_schema.json\")\n",
    "\n",
    "plots.ipy_display(schema, format=\"interactive\")"
   ]
  }
 ],
 "metadata": {
  "kernelspec": {
   "display_name": "py310_cfg",
   "language": "python",
   "name": "python3"
  },
  "language_info": {
   "codemirror_mode": {
    "name": "ipython",
    "version": 3
   },
   "file_extension": ".py",
   "mimetype": "text/x-python",
   "name": "python",
   "nbconvert_exporter": "python",
   "pygments_lexer": "ipython3",
   "version": "3.10.13"
  }
 },
 "nbformat": 4,
 "nbformat_minor": 2
}
