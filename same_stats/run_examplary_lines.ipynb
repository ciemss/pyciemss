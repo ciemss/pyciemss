{
 "cells": [
  {
   "cell_type": "code",
   "execution_count": 1,
   "metadata": {},
   "outputs": [
    {
     "name": "stderr",
     "output_type": "stream",
     "text": [
      "/Users/oost464/opt/anaconda3/envs/pyciems310/lib/python3.10/site-packages/threadpoolctl.py:1223: RuntimeWarning: \n",
      "Found Intel OpenMP ('libiomp') and LLVM OpenMP ('libomp') loaded at\n",
      "the same time. Both libraries are known to be incompatible and this\n",
      "can cause random crashes or deadlocks on Linux when loaded in the\n",
      "same Python program.\n",
      "Using threadpoolctl may cause crashes or deadlocks. For more\n",
      "information and possible workarounds, please see\n",
      "    https://github.com/joblib/threadpoolctl/blob/master/multiple_openmp.md\n",
      "\n",
      "  warnings.warn(msg, RuntimeWarning)\n",
      "/Users/oost464/opt/anaconda3/envs/pyciems310/lib/python3.10/site-packages/tslearn/bases/bases.py:15: UserWarning: h5py not installed, hdf5 features will not be supported.\n",
      "Install h5py to use hdf5 features: http://docs.h5py.org/\n",
      "  warn(h5py_msg)\n"
     ]
    }
   ],
   "source": [
    "import json\n",
    "import random\n",
    "from itertools import chain\n",
    "from pathlib import Path\n",
    "import os\n",
    "import networkx as nx\n",
    "import numpy as np\n",
    "import pandas as pd\n",
    "import pytest\n",
    "\n",
    "import pyciemss\n",
    "from pyciemss.integration_utils.result_processing import convert_to_output_format\n",
    "from pyciemss.visuals import plots, vega\n",
    "\n"
   ]
  },
  {
   "cell_type": "code",
   "execution_count": 3,
   "metadata": {},
   "outputs": [
    {
     "name": "stdout",
     "output_type": "stream",
     "text": [
      "Init 1\n",
      "14.513 --> "
     ]
    },
    {
     "name": "stderr",
     "output_type": "stream",
     "text": [
      "[Parallel(n_jobs=1)]: Done  49 tasks      | elapsed:    0.0s\n",
      "[Parallel(n_jobs=1)]: Done  49 tasks      | elapsed:    0.0s\n",
      "[Parallel(n_jobs=1)]: Done 199 tasks      | elapsed:    0.0s\n",
      "[Parallel(n_jobs=1)]: Done  49 tasks      | elapsed:    0.0s\n",
      "[Parallel(n_jobs=1)]: Done 199 tasks      | elapsed:    0.0s\n",
      "[Parallel(n_jobs=1)]: Done  49 tasks      | elapsed:    0.0s\n",
      "[Parallel(n_jobs=1)]: Done 199 tasks      | elapsed:    0.0s\n"
     ]
    },
    {
     "name": "stdout",
     "output_type": "stream",
     "text": [
      "4.145 --> "
     ]
    },
    {
     "name": "stderr",
     "output_type": "stream",
     "text": [
      "[Parallel(n_jobs=1)]: Done  49 tasks      | elapsed:    0.0s\n",
      "[Parallel(n_jobs=1)]: Done 199 tasks      | elapsed:    0.0s\n"
     ]
    },
    {
     "name": "stdout",
     "output_type": "stream",
     "text": [
      "4.050 --> "
     ]
    },
    {
     "name": "stderr",
     "output_type": "stream",
     "text": [
      "[Parallel(n_jobs=1)]: Done  49 tasks      | elapsed:    0.0s\n",
      "[Parallel(n_jobs=1)]: Done 199 tasks      | elapsed:    0.0s\n",
      "[Parallel(n_jobs=1)]: Done  49 tasks      | elapsed:    0.0s\n",
      "[Parallel(n_jobs=1)]: Done 199 tasks      | elapsed:    0.0s\n"
     ]
    },
    {
     "name": "stdout",
     "output_type": "stream",
     "text": [
      "4.049 --> 4.049 --> \n",
      "Init 2\n"
     ]
    },
    {
     "name": "stderr",
     "output_type": "stream",
     "text": [
      "[Parallel(n_jobs=1)]: Done  49 tasks      | elapsed:    0.0s\n",
      "[Parallel(n_jobs=1)]: Done  49 tasks      | elapsed:    0.0s\n",
      "[Parallel(n_jobs=1)]: Done 199 tasks      | elapsed:    0.0s\n",
      "[Parallel(n_jobs=1)]: Done  49 tasks      | elapsed:    0.0s\n",
      "[Parallel(n_jobs=1)]: Done 199 tasks      | elapsed:    0.0s\n"
     ]
    },
    {
     "name": "stdout",
     "output_type": "stream",
     "text": [
      "13.683 --> "
     ]
    },
    {
     "name": "stderr",
     "output_type": "stream",
     "text": [
      "[Parallel(n_jobs=1)]: Done  49 tasks      | elapsed:    0.0s\n",
      "[Parallel(n_jobs=1)]: Done 199 tasks      | elapsed:    0.0s\n"
     ]
    },
    {
     "name": "stdout",
     "output_type": "stream",
     "text": [
      "5.460 --> "
     ]
    },
    {
     "name": "stderr",
     "output_type": "stream",
     "text": [
      "[Parallel(n_jobs=1)]: Done  49 tasks      | elapsed:    0.0s\n",
      "[Parallel(n_jobs=1)]: Done 199 tasks      | elapsed:    0.0s\n",
      "[Parallel(n_jobs=1)]: Done  49 tasks      | elapsed:    0.0s\n",
      "[Parallel(n_jobs=1)]: Done 199 tasks      | elapsed:    0.0s\n",
      "[Parallel(n_jobs=1)]: Done  49 tasks      | elapsed:    0.0s\n"
     ]
    },
    {
     "name": "stdout",
     "output_type": "stream",
     "text": [
      "4.552 --> 4.552 --> 4.552 --> "
     ]
    },
    {
     "name": "stderr",
     "output_type": "stream",
     "text": [
      "[Parallel(n_jobs=1)]: Done 199 tasks      | elapsed:    0.0s\n",
      "[Parallel(n_jobs=1)]: Done  49 tasks      | elapsed:    0.0s\n",
      "[Parallel(n_jobs=1)]: Done 199 tasks      | elapsed:    0.0s\n",
      "[Parallel(n_jobs=1)]: Done  49 tasks      | elapsed:    0.0s\n"
     ]
    },
    {
     "name": "stdout",
     "output_type": "stream",
     "text": [
      "4.552 --> \n"
     ]
    },
    {
     "name": "stderr",
     "output_type": "stream",
     "text": [
      "[Parallel(n_jobs=1)]: Done 199 tasks      | elapsed:    0.0s\n"
     ]
    },
    {
     "name": "stdout",
     "output_type": "stream",
     "text": [
      "\n"
     ]
    },
    {
     "data": {
      "application/vnd.vega.v5+json": {
       "$schema": "https://vega.github.io/schema/vega/v5.json",
       "axes": [
        {
         "name": "x_axis",
         "orient": "bottom",
         "scale": "xscale",
         "zindex": 100
        },
        {
         "name": "y_axis",
         "orient": "left",
         "scale": "yscale",
         "zindex": 100
        }
       ],
       "background": "white",
       "data": [
        {
         "name": "distributions",
         "transform": [
          {
           "sort": {
            "field": [
             "trajectory",
             "timepoint"
            ]
           },
           "type": "collect"
          }
         ],
         "values": [
          {
           "lower": 0.13265357089097554,
           "timepoint": 0,
           "trajectory": "_Envelope",
           "upper": 1.9346101155781232
          },
          {
           "lower": 1.5114752391777648,
           "timepoint": 1,
           "trajectory": "_Envelope",
           "upper": 3.313313161284448
          },
          {
           "lower": 1.9100716668093245,
           "timepoint": 2,
           "trajectory": "_Envelope",
           "upper": 3.8298639174867404
          },
          {
           "lower": 2.2242457476440025,
           "timepoint": 3,
           "trajectory": "_Envelope",
           "upper": 4.165064915751886
          },
          {
           "lower": 2.4587571116776474,
           "timepoint": 4,
           "trajectory": "_Envelope",
           "upper": 4.306183204957297
          },
          {
           "lower": 2.4827010586920846,
           "timepoint": 5,
           "trajectory": "_Envelope",
           "upper": 4.378648096978339
          },
          {
           "lower": 2.5716260179749066,
           "timepoint": 6,
           "trajectory": "_Envelope",
           "upper": 4.457914584294508
          },
          {
           "lower": 2.291526800784367,
           "timepoint": 7,
           "trajectory": "_Envelope",
           "upper": 4.440959215339277
          },
          {
           "lower": 1.9164767885799694,
           "timepoint": 8,
           "trajectory": "_Envelope",
           "upper": 4.42923696579345
          },
          {
           "lower": 1.6461199258813497,
           "timepoint": 9,
           "trajectory": "_Envelope",
           "upper": 4.322837598877887
          },
          {
           "lower": 1.4081024256985633,
           "timepoint": 10,
           "trajectory": "_Envelope",
           "upper": 4.183814736127848
          },
          {
           "lower": 1.213396758183306,
           "timepoint": 11,
           "trajectory": "_Envelope",
           "upper": 3.9906008595140623
          },
          {
           "lower": 1.295531845482948,
           "timepoint": 12,
           "trajectory": "_Envelope",
           "upper": 3.826011358779132
          },
          {
           "lower": 1.3420166032582448,
           "timepoint": 13,
           "trajectory": "_Envelope",
           "upper": 3.7654604634146094
          },
          {
           "lower": 1.3305790735080383,
           "timepoint": 14,
           "trajectory": "_Envelope",
           "upper": 3.821818945403453
          },
          {
           "lower": 1.4165124041247907,
           "timepoint": 15,
           "trajectory": "_Envelope",
           "upper": 4.238272123004274
          },
          {
           "lower": 1.5959839008171357,
           "timepoint": 16,
           "trajectory": "_Envelope",
           "upper": 4.552836346321361
          },
          {
           "lower": 1.7507478541244688,
           "timepoint": 17,
           "trajectory": "_Envelope",
           "upper": 4.793594915363432
          },
          {
           "lower": 1.7496632430501913,
           "timepoint": 18,
           "trajectory": "_Envelope",
           "upper": 4.758839442963262
          },
          {
           "lower": 1.827965394342433,
           "timepoint": 19,
           "trajectory": "_Envelope",
           "upper": 4.790594052585341
          },
          {
           "lower": 1.7680674580264066,
           "timepoint": 20,
           "trajectory": "_Envelope",
           "upper": 4.536470846184354
          },
          {
           "lower": 1.7624424461336523,
           "timepoint": 21,
           "trajectory": "_Envelope",
           "upper": 4.647220821831919
          },
          {
           "lower": 1.6970581989402835,
           "timepoint": 22,
           "trajectory": "_Envelope",
           "upper": 4.721517567184363
          },
          {
           "lower": 1.5497118044921248,
           "timepoint": 23,
           "trajectory": "_Envelope",
           "upper": 4.7162853541336744
          },
          {
           "lower": 1.6683240377785424,
           "timepoint": 24,
           "trajectory": "_Envelope",
           "upper": 4.7712424302727126
          },
          {
           "lower": 1.7720614787597422,
           "timepoint": 25,
           "trajectory": "_Envelope",
           "upper": 4.98342010800392
          },
          {
           "lower": 1.815247411735268,
           "timepoint": 26,
           "trajectory": "_Envelope",
           "upper": 4.945607447020014
          },
          {
           "lower": 1.7539725862662987,
           "timepoint": 27,
           "trajectory": "_Envelope",
           "upper": 4.976981194652814
          },
          {
           "lower": 1.7725414049689994,
           "timepoint": 28,
           "trajectory": "_Envelope",
           "upper": 4.990531956690674
          },
          {
           "lower": 1.917671052559879,
           "timepoint": 29,
           "trajectory": "_Envelope",
           "upper": 5.071155355703109
          },
          {
           "lower": 1.9733657019838353,
           "timepoint": 30,
           "trajectory": "_Envelope",
           "upper": 5.023127177437788
          },
          {
           "lower": 1.9474747023306813,
           "timepoint": 31,
           "trajectory": "_Envelope",
           "upper": 5.1510251162144876
          },
          {
           "lower": 2.0028393781790816,
           "timepoint": 32,
           "trajectory": "_Envelope",
           "upper": 5.156603389011957
          },
          {
           "lower": 2.154709677821236,
           "timepoint": 33,
           "trajectory": "_Envelope",
           "upper": 5.156810752819248
          },
          {
           "lower": 1.9885787150998944,
           "timepoint": 34,
           "trajectory": "_Envelope",
           "upper": 5.006685268623303
          },
          {
           "lower": 2.064271216494487,
           "timepoint": 35,
           "trajectory": "_Envelope",
           "upper": 5.00826710168839
          },
          {
           "lower": 2.0404664588787638,
           "timepoint": 36,
           "trajectory": "_Envelope",
           "upper": 4.962032269080304
          },
          {
           "lower": 2.102517144003691,
           "timepoint": 37,
           "trajectory": "_Envelope",
           "upper": 4.9695430328987165
          },
          {
           "lower": 2.2872924813865074,
           "timepoint": 38,
           "trajectory": "_Envelope",
           "upper": 4.984577631205407
          },
          {
           "lower": 2.563604943977081,
           "timepoint": 39,
           "trajectory": "_Envelope",
           "upper": 5.006132500344232
          },
          {
           "lower": 2.5415904592314367,
           "timepoint": 40,
           "trajectory": "_Envelope",
           "upper": 5.001741049992718
          },
          {
           "lower": 2.4997581458949485,
           "timepoint": 41,
           "trajectory": "_Envelope",
           "upper": 5.098873040133423
          },
          {
           "lower": 2.2935596254721835,
           "timepoint": 42,
           "trajectory": "_Envelope",
           "upper": 5.001295722834165
          },
          {
           "lower": 2.1183290260409726,
           "timepoint": 43,
           "trajectory": "_Envelope",
           "upper": 5.0516270279754085
          },
          {
           "lower": 1.9611516600893493,
           "timepoint": 44,
           "trajectory": "_Envelope",
           "upper": 5.217636689438083
          },
          {
           "lower": 2.0214286977612796,
           "timepoint": 45,
           "trajectory": "_Envelope",
           "upper": 5.348697957341556
          },
          {
           "lower": 2.0027133125602106,
           "timepoint": 46,
           "trajectory": "_Envelope",
           "upper": 5.288035794032485
          },
          {
           "lower": 2.1540536938190256,
           "timepoint": 47,
           "trajectory": "_Envelope",
           "upper": 5.373789011235897
          },
          {
           "lower": 2.190649551162239,
           "timepoint": 48,
           "trajectory": "_Envelope",
           "upper": 5.316898480789641
          },
          {
           "lower": 2.233089736410044,
           "timepoint": 49,
           "trajectory": "_Envelope",
           "upper": 5.155648767446338
          },
          {
           "lower": 2.3007339256943427,
           "timepoint": 50,
           "trajectory": "_Envelope",
           "upper": 5.190690124755051
          },
          {
           "lower": 2.340467998274516,
           "timepoint": 51,
           "trajectory": "_Envelope",
           "upper": 5.210800332370934
          },
          {
           "lower": 2.1903000261821504,
           "timepoint": 52,
           "trajectory": "_Envelope",
           "upper": 5.161236648581465
          },
          {
           "lower": 2.2072760050865994,
           "timepoint": 53,
           "trajectory": "_Envelope",
           "upper": 5.196096815503876
          },
          {
           "lower": 2.297074501370951,
           "timepoint": 54,
           "trajectory": "_Envelope",
           "upper": 5.384333622226764
          },
          {
           "lower": 2.2752199801878223,
           "timepoint": 55,
           "trajectory": "_Envelope",
           "upper": 5.291410725612267
          },
          {
           "lower": 2.1915947651101164,
           "timepoint": 56,
           "trajectory": "_Envelope",
           "upper": 5.2675768003502235
          },
          {
           "lower": 2.281531926577531,
           "timepoint": 57,
           "trajectory": "_Envelope",
           "upper": 5.328918220595784
          },
          {
           "lower": 2.2923125536079048,
           "timepoint": 58,
           "trajectory": "_Envelope",
           "upper": 5.34895109851941
          },
          {
           "lower": 2.2734929734299447,
           "timepoint": 59,
           "trajectory": "_Envelope",
           "upper": 5.482735941357487
          },
          {
           "lower": 2.198419049746998,
           "timepoint": 60,
           "trajectory": "_Envelope",
           "upper": 5.585319671154728
          },
          {
           "lower": 2.1662821488985564,
           "timepoint": 61,
           "trajectory": "_Envelope",
           "upper": 5.614514366020182
          },
          {
           "lower": 2.397207388467069,
           "timepoint": 62,
           "trajectory": "_Envelope",
           "upper": 5.523446366847783
          },
          {
           "lower": 2.616993755885465,
           "timepoint": 63,
           "trajectory": "_Envelope",
           "upper": 5.40644167881509
          },
          {
           "lower": 2.572507323751263,
           "timepoint": 64,
           "trajectory": "_Envelope",
           "upper": 5.278801460324583
          },
          {
           "lower": 2.6406386475925103,
           "timepoint": 65,
           "trajectory": "_Envelope",
           "upper": 5.352128114515589
          },
          {
           "lower": 2.511773330283778,
           "timepoint": 66,
           "trajectory": "_Envelope",
           "upper": 5.399745944868391
          },
          {
           "lower": 2.744241563677585,
           "timepoint": 67,
           "trajectory": "_Envelope",
           "upper": 5.526387161012334
          },
          {
           "lower": 2.6552557222826807,
           "timepoint": 68,
           "trajectory": "_Envelope",
           "upper": 5.585260639215457
          },
          {
           "lower": 2.726130660539783,
           "timepoint": 69,
           "trajectory": "_Envelope",
           "upper": 5.6279483755459285
          },
          {
           "lower": 2.776205097794971,
           "timepoint": 70,
           "trajectory": "_Envelope",
           "upper": 5.575101512254615
          },
          {
           "lower": 2.5034403411252617,
           "timepoint": 71,
           "trajectory": "_Envelope",
           "upper": 5.515008945752383
          },
          {
           "lower": 2.466889571166192,
           "timepoint": 72,
           "trajectory": "_Envelope",
           "upper": 5.400899284844949
          },
          {
           "lower": 2.450431102843797,
           "timepoint": 73,
           "trajectory": "_Envelope",
           "upper": 5.54179410364208
          },
          {
           "lower": 2.3744998362383987,
           "timepoint": 74,
           "trajectory": "_Envelope",
           "upper": 5.390455586131898
          },
          {
           "lower": 2.4600469289604283,
           "timepoint": 75,
           "trajectory": "_Envelope",
           "upper": 5.5547798809733795
          },
          {
           "lower": 2.443273453267854,
           "timepoint": 76,
           "trajectory": "_Envelope",
           "upper": 5.6419211713382635
          },
          {
           "lower": 2.440907723129799,
           "timepoint": 77,
           "trajectory": "_Envelope",
           "upper": 5.5572022381372275
          },
          {
           "lower": 2.269815858264526,
           "timepoint": 78,
           "trajectory": "_Envelope",
           "upper": 5.737890833042781
          },
          {
           "lower": 2.3743134006967064,
           "timepoint": 79,
           "trajectory": "_Envelope",
           "upper": 5.58896378110846
          },
          {
           "lower": 2.622305861136073,
           "timepoint": 80,
           "trajectory": "_Envelope",
           "upper": 5.644924513677242
          },
          {
           "lower": 2.5769233787172854,
           "timepoint": 81,
           "trajectory": "_Envelope",
           "upper": 5.602278590215768
          },
          {
           "lower": 2.656264276812004,
           "timepoint": 82,
           "trajectory": "_Envelope",
           "upper": 5.512863642169574
          },
          {
           "lower": 2.6261111999761098,
           "timepoint": 83,
           "trajectory": "_Envelope",
           "upper": 5.609251926625353
          },
          {
           "lower": 2.649673058221523,
           "timepoint": 84,
           "trajectory": "_Envelope",
           "upper": 5.505245797200435
          },
          {
           "lower": 2.6435459978907088,
           "timepoint": 85,
           "trajectory": "_Envelope",
           "upper": 5.722013532405154
          },
          {
           "lower": 2.6693178282383343,
           "timepoint": 86,
           "trajectory": "_Envelope",
           "upper": 5.8051330994538874
          },
          {
           "lower": 2.6106244671063736,
           "timepoint": 87,
           "trajectory": "_Envelope",
           "upper": 5.703402638835901
          },
          {
           "lower": 2.5905646758938348,
           "timepoint": 88,
           "trajectory": "_Envelope",
           "upper": 5.7901064775954065
          },
          {
           "lower": 2.547177358905556,
           "timepoint": 89,
           "trajectory": "_Envelope",
           "upper": 5.671298669547579
          },
          {
           "lower": 2.6130505539575446,
           "timepoint": 90,
           "trajectory": "_Envelope",
           "upper": 5.767039240000171
          },
          {
           "lower": 2.6856313675230217,
           "timepoint": 91,
           "trajectory": "_Envelope",
           "upper": 5.614579926876567
          },
          {
           "lower": 2.6822126048873987,
           "timepoint": 92,
           "trajectory": "_Envelope",
           "upper": 5.625492324045354
          },
          {
           "lower": 2.5182664767502767,
           "timepoint": 93,
           "trajectory": "_Envelope",
           "upper": 5.729880666206466
          },
          {
           "lower": 2.60556284848616,
           "timepoint": 94,
           "trajectory": "_Envelope",
           "upper": 5.757701993449577
          },
          {
           "lower": 2.6720058922665912,
           "timepoint": 95,
           "trajectory": "_Envelope",
           "upper": 5.659479371574523
          },
          {
           "lower": 2.76016800969561,
           "timepoint": 96,
           "trajectory": "_Envelope",
           "upper": 5.7011137219132495
          },
          {
           "lower": 2.7467204431973555,
           "timepoint": 97,
           "trajectory": "_Envelope",
           "upper": 5.520550593796272
          },
          {
           "lower": 2.6955423209198295,
           "timepoint": 98,
           "trajectory": "_Envelope",
           "upper": 5.642185091337635
          },
          {
           "lower": 2.499580251228075,
           "timepoint": 99,
           "trajectory": "_Envelope",
           "upper": 5.874153398409902
          }
         ]
        },
        {
         "name": "traces",
         "transform": [
          {
           "expr": "isValid(datum.value)",
           "type": "filter"
          },
          {
           "sort": {
            "field": [
             "trajectory",
             "timepoint"
            ]
           },
           "type": "collect"
          }
         ],
         "values": [
          {
           "color_by": "Envelope Mean",
           "sample_id": 0,
           "timepoint": 0,
           "trajectory": "Envelope_Mean",
           "value": 1.0336318432345495
          },
          {
           "color_by": "Envelope Mean",
           "sample_id": 0,
           "timepoint": 1,
           "trajectory": "Envelope_Mean",
           "value": 2.4123942002311063
          },
          {
           "color_by": "Envelope Mean",
           "sample_id": 0,
           "timepoint": 2,
           "trajectory": "Envelope_Mean",
           "value": 2.8699677921480324
          },
          {
           "color_by": "Envelope Mean",
           "sample_id": 0,
           "timepoint": 3,
           "trajectory": "Envelope_Mean",
           "value": 3.1946553316979442
          },
          {
           "color_by": "Envelope Mean",
           "sample_id": 0,
           "timepoint": 4,
           "trajectory": "Envelope_Mean",
           "value": 3.3824701583174726
          },
          {
           "color_by": "Envelope Mean",
           "sample_id": 0,
           "timepoint": 5,
           "trajectory": "Envelope_Mean",
           "value": 3.430674577835212
          },
          {
           "color_by": "Envelope Mean",
           "sample_id": 0,
           "timepoint": 6,
           "trajectory": "Envelope_Mean",
           "value": 3.514770301134707
          },
          {
           "color_by": "Envelope Mean",
           "sample_id": 0,
           "timepoint": 7,
           "trajectory": "Envelope_Mean",
           "value": 3.366243008061822
          },
          {
           "color_by": "Envelope Mean",
           "sample_id": 0,
           "timepoint": 8,
           "trajectory": "Envelope_Mean",
           "value": 3.17285687718671
          },
          {
           "color_by": "Envelope Mean",
           "sample_id": 0,
           "timepoint": 9,
           "trajectory": "Envelope_Mean",
           "value": 2.9844787623796183
          },
          {
           "color_by": "Envelope Mean",
           "sample_id": 0,
           "timepoint": 10,
           "trajectory": "Envelope_Mean",
           "value": 2.7959585809132057
          },
          {
           "color_by": "Envelope Mean",
           "sample_id": 0,
           "timepoint": 11,
           "trajectory": "Envelope_Mean",
           "value": 2.601998808848684
          },
          {
           "color_by": "Envelope Mean",
           "sample_id": 0,
           "timepoint": 12,
           "trajectory": "Envelope_Mean",
           "value": 2.56077160213104
          },
          {
           "color_by": "Envelope Mean",
           "sample_id": 0,
           "timepoint": 13,
           "trajectory": "Envelope_Mean",
           "value": 2.553738533336427
          },
          {
           "color_by": "Envelope Mean",
           "sample_id": 0,
           "timepoint": 14,
           "trajectory": "Envelope_Mean",
           "value": 2.5761990094557454
          },
          {
           "color_by": "Envelope Mean",
           "sample_id": 0,
           "timepoint": 15,
           "trajectory": "Envelope_Mean",
           "value": 2.827392263564532
          },
          {
           "color_by": "Envelope Mean",
           "sample_id": 0,
           "timepoint": 16,
           "trajectory": "Envelope_Mean",
           "value": 3.0744101235692485
          },
          {
           "color_by": "Envelope Mean",
           "sample_id": 0,
           "timepoint": 17,
           "trajectory": "Envelope_Mean",
           "value": 3.27217138474395
          },
          {
           "color_by": "Envelope Mean",
           "sample_id": 0,
           "timepoint": 18,
           "trajectory": "Envelope_Mean",
           "value": 3.2542513430067266
          },
          {
           "color_by": "Envelope Mean",
           "sample_id": 0,
           "timepoint": 19,
           "trajectory": "Envelope_Mean",
           "value": 3.309279723463887
          },
          {
           "color_by": "Envelope Mean",
           "sample_id": 0,
           "timepoint": 20,
           "trajectory": "Envelope_Mean",
           "value": 3.1522691521053803
          },
          {
           "color_by": "Envelope Mean",
           "sample_id": 0,
           "timepoint": 21,
           "trajectory": "Envelope_Mean",
           "value": 3.204831633982786
          },
          {
           "color_by": "Envelope Mean",
           "sample_id": 0,
           "timepoint": 22,
           "trajectory": "Envelope_Mean",
           "value": 3.2092878830623235
          },
          {
           "color_by": "Envelope Mean",
           "sample_id": 0,
           "timepoint": 23,
           "trajectory": "Envelope_Mean",
           "value": 3.1329985793128996
          },
          {
           "color_by": "Envelope Mean",
           "sample_id": 0,
           "timepoint": 24,
           "trajectory": "Envelope_Mean",
           "value": 3.2197832340256274
          },
          {
           "color_by": "Envelope Mean",
           "sample_id": 0,
           "timepoint": 25,
           "trajectory": "Envelope_Mean",
           "value": 3.377740793381831
          },
          {
           "color_by": "Envelope Mean",
           "sample_id": 0,
           "timepoint": 26,
           "trajectory": "Envelope_Mean",
           "value": 3.380427429377641
          },
          {
           "color_by": "Envelope Mean",
           "sample_id": 0,
           "timepoint": 27,
           "trajectory": "Envelope_Mean",
           "value": 3.3654768904595564
          },
          {
           "color_by": "Envelope Mean",
           "sample_id": 0,
           "timepoint": 28,
           "trajectory": "Envelope_Mean",
           "value": 3.3815366808298366
          },
          {
           "color_by": "Envelope Mean",
           "sample_id": 0,
           "timepoint": 29,
           "trajectory": "Envelope_Mean",
           "value": 3.4944132041314937
          },
          {
           "color_by": "Envelope Mean",
           "sample_id": 0,
           "timepoint": 30,
           "trajectory": "Envelope_Mean",
           "value": 3.4982464397108117
          },
          {
           "color_by": "Envelope Mean",
           "sample_id": 0,
           "timepoint": 31,
           "trajectory": "Envelope_Mean",
           "value": 3.5492499092725844
          },
          {
           "color_by": "Envelope Mean",
           "sample_id": 0,
           "timepoint": 32,
           "trajectory": "Envelope_Mean",
           "value": 3.5797213835955195
          },
          {
           "color_by": "Envelope Mean",
           "sample_id": 0,
           "timepoint": 33,
           "trajectory": "Envelope_Mean",
           "value": 3.655760215320242
          },
          {
           "color_by": "Envelope Mean",
           "sample_id": 0,
           "timepoint": 34,
           "trajectory": "Envelope_Mean",
           "value": 3.497631991861599
          },
          {
           "color_by": "Envelope Mean",
           "sample_id": 0,
           "timepoint": 35,
           "trajectory": "Envelope_Mean",
           "value": 3.5362691590914386
          },
          {
           "color_by": "Envelope Mean",
           "sample_id": 0,
           "timepoint": 36,
           "trajectory": "Envelope_Mean",
           "value": 3.5012493639795337
          },
          {
           "color_by": "Envelope Mean",
           "sample_id": 0,
           "timepoint": 37,
           "trajectory": "Envelope_Mean",
           "value": 3.536030088451204
          },
          {
           "color_by": "Envelope Mean",
           "sample_id": 0,
           "timepoint": 38,
           "trajectory": "Envelope_Mean",
           "value": 3.635935056295957
          },
          {
           "color_by": "Envelope Mean",
           "sample_id": 0,
           "timepoint": 39,
           "trajectory": "Envelope_Mean",
           "value": 3.7848687221606565
          },
          {
           "color_by": "Envelope Mean",
           "sample_id": 0,
           "timepoint": 40,
           "trajectory": "Envelope_Mean",
           "value": 3.7716657546120773
          },
          {
           "color_by": "Envelope Mean",
           "sample_id": 0,
           "timepoint": 41,
           "trajectory": "Envelope_Mean",
           "value": 3.7993155930141858
          },
          {
           "color_by": "Envelope Mean",
           "sample_id": 0,
           "timepoint": 42,
           "trajectory": "Envelope_Mean",
           "value": 3.647427674153174
          },
          {
           "color_by": "Envelope Mean",
           "sample_id": 0,
           "timepoint": 43,
           "trajectory": "Envelope_Mean",
           "value": 3.584978027008191
          },
          {
           "color_by": "Envelope Mean",
           "sample_id": 0,
           "timepoint": 44,
           "trajectory": "Envelope_Mean",
           "value": 3.5893941747637164
          },
          {
           "color_by": "Envelope Mean",
           "sample_id": 0,
           "timepoint": 45,
           "trajectory": "Envelope_Mean",
           "value": 3.6850633275514175
          },
          {
           "color_by": "Envelope Mean",
           "sample_id": 0,
           "timepoint": 46,
           "trajectory": "Envelope_Mean",
           "value": 3.6453745532963477
          },
          {
           "color_by": "Envelope Mean",
           "sample_id": 0,
           "timepoint": 47,
           "trajectory": "Envelope_Mean",
           "value": 3.7639213525274613
          },
          {
           "color_by": "Envelope Mean",
           "sample_id": 0,
           "timepoint": 48,
           "trajectory": "Envelope_Mean",
           "value": 3.75377401597594
          },
          {
           "color_by": "Envelope Mean",
           "sample_id": 0,
           "timepoint": 49,
           "trajectory": "Envelope_Mean",
           "value": 3.694369251928191
          },
          {
           "color_by": "Envelope Mean",
           "sample_id": 0,
           "timepoint": 50,
           "trajectory": "Envelope_Mean",
           "value": 3.7457120252246967
          },
          {
           "color_by": "Envelope Mean",
           "sample_id": 0,
           "timepoint": 51,
           "trajectory": "Envelope_Mean",
           "value": 3.775634165322725
          },
          {
           "color_by": "Envelope Mean",
           "sample_id": 0,
           "timepoint": 52,
           "trajectory": "Envelope_Mean",
           "value": 3.6757683373818075
          },
          {
           "color_by": "Envelope Mean",
           "sample_id": 0,
           "timepoint": 53,
           "trajectory": "Envelope_Mean",
           "value": 3.7016864102952374
          },
          {
           "color_by": "Envelope Mean",
           "sample_id": 0,
           "timepoint": 54,
           "trajectory": "Envelope_Mean",
           "value": 3.8407040617988573
          },
          {
           "color_by": "Envelope Mean",
           "sample_id": 0,
           "timepoint": 55,
           "trajectory": "Envelope_Mean",
           "value": 3.7833153529000447
          },
          {
           "color_by": "Envelope Mean",
           "sample_id": 0,
           "timepoint": 56,
           "trajectory": "Envelope_Mean",
           "value": 3.7295857827301697
          },
          {
           "color_by": "Envelope Mean",
           "sample_id": 0,
           "timepoint": 57,
           "trajectory": "Envelope_Mean",
           "value": 3.8052250735866577
          },
          {
           "color_by": "Envelope Mean",
           "sample_id": 0,
           "timepoint": 58,
           "trajectory": "Envelope_Mean",
           "value": 3.820631826063657
          },
          {
           "color_by": "Envelope Mean",
           "sample_id": 0,
           "timepoint": 59,
           "trajectory": "Envelope_Mean",
           "value": 3.878114457393716
          },
          {
           "color_by": "Envelope Mean",
           "sample_id": 0,
           "timepoint": 60,
           "trajectory": "Envelope_Mean",
           "value": 3.891869360450863
          },
          {
           "color_by": "Envelope Mean",
           "sample_id": 0,
           "timepoint": 61,
           "trajectory": "Envelope_Mean",
           "value": 3.890398257459369
          },
          {
           "color_by": "Envelope Mean",
           "sample_id": 0,
           "timepoint": 62,
           "trajectory": "Envelope_Mean",
           "value": 3.960326877657426
          },
          {
           "color_by": "Envelope Mean",
           "sample_id": 0,
           "timepoint": 63,
           "trajectory": "Envelope_Mean",
           "value": 4.011717717350278
          },
          {
           "color_by": "Envelope Mean",
           "sample_id": 0,
           "timepoint": 64,
           "trajectory": "Envelope_Mean",
           "value": 3.925654392037923
          },
          {
           "color_by": "Envelope Mean",
           "sample_id": 0,
           "timepoint": 65,
           "trajectory": "Envelope_Mean",
           "value": 3.9963833810540494
          },
          {
           "color_by": "Envelope Mean",
           "sample_id": 0,
           "timepoint": 66,
           "trajectory": "Envelope_Mean",
           "value": 3.9557596375760844
          },
          {
           "color_by": "Envelope Mean",
           "sample_id": 0,
           "timepoint": 67,
           "trajectory": "Envelope_Mean",
           "value": 4.1353143623449595
          },
          {
           "color_by": "Envelope Mean",
           "sample_id": 0,
           "timepoint": 68,
           "trajectory": "Envelope_Mean",
           "value": 4.120258180749069
          },
          {
           "color_by": "Envelope Mean",
           "sample_id": 0,
           "timepoint": 69,
           "trajectory": "Envelope_Mean",
           "value": 4.1770395180428554
          },
          {
           "color_by": "Envelope Mean",
           "sample_id": 0,
           "timepoint": 70,
           "trajectory": "Envelope_Mean",
           "value": 4.175653305024793
          },
          {
           "color_by": "Envelope Mean",
           "sample_id": 0,
           "timepoint": 71,
           "trajectory": "Envelope_Mean",
           "value": 4.009224643438822
          },
          {
           "color_by": "Envelope Mean",
           "sample_id": 0,
           "timepoint": 72,
           "trajectory": "Envelope_Mean",
           "value": 3.9338944280055705
          },
          {
           "color_by": "Envelope Mean",
           "sample_id": 0,
           "timepoint": 73,
           "trajectory": "Envelope_Mean",
           "value": 3.9961126032429384
          },
          {
           "color_by": "Envelope Mean",
           "sample_id": 0,
           "timepoint": 74,
           "trajectory": "Envelope_Mean",
           "value": 3.8824777111851483
          },
          {
           "color_by": "Envelope Mean",
           "sample_id": 0,
           "timepoint": 75,
           "trajectory": "Envelope_Mean",
           "value": 4.007413404966904
          },
          {
           "color_by": "Envelope Mean",
           "sample_id": 0,
           "timepoint": 76,
           "trajectory": "Envelope_Mean",
           "value": 4.042597312303059
          },
          {
           "color_by": "Envelope Mean",
           "sample_id": 0,
           "timepoint": 77,
           "trajectory": "Envelope_Mean",
           "value": 3.999054980633513
          },
          {
           "color_by": "Envelope Mean",
           "sample_id": 0,
           "timepoint": 78,
           "trajectory": "Envelope_Mean",
           "value": 4.003853345653654
          },
          {
           "color_by": "Envelope Mean",
           "sample_id": 0,
           "timepoint": 79,
           "trajectory": "Envelope_Mean",
           "value": 3.981638590902583
          },
          {
           "color_by": "Envelope Mean",
           "sample_id": 0,
           "timepoint": 80,
           "trajectory": "Envelope_Mean",
           "value": 4.133615187406657
          },
          {
           "color_by": "Envelope Mean",
           "sample_id": 0,
           "timepoint": 81,
           "trajectory": "Envelope_Mean",
           "value": 4.089600984466527
          },
          {
           "color_by": "Envelope Mean",
           "sample_id": 0,
           "timepoint": 82,
           "trajectory": "Envelope_Mean",
           "value": 4.084563959490789
          },
          {
           "color_by": "Envelope Mean",
           "sample_id": 0,
           "timepoint": 83,
           "trajectory": "Envelope_Mean",
           "value": 4.1176815633007315
          },
          {
           "color_by": "Envelope Mean",
           "sample_id": 0,
           "timepoint": 84,
           "trajectory": "Envelope_Mean",
           "value": 4.077459427710979
          },
          {
           "color_by": "Envelope Mean",
           "sample_id": 0,
           "timepoint": 85,
           "trajectory": "Envelope_Mean",
           "value": 4.182779765147932
          },
          {
           "color_by": "Envelope Mean",
           "sample_id": 0,
           "timepoint": 86,
           "trajectory": "Envelope_Mean",
           "value": 4.23722546384611
          },
          {
           "color_by": "Envelope Mean",
           "sample_id": 0,
           "timepoint": 87,
           "trajectory": "Envelope_Mean",
           "value": 4.157013552971137
          },
          {
           "color_by": "Envelope Mean",
           "sample_id": 0,
           "timepoint": 88,
           "trajectory": "Envelope_Mean",
           "value": 4.190335576744621
          },
          {
           "color_by": "Envelope Mean",
           "sample_id": 0,
           "timepoint": 89,
           "trajectory": "Envelope_Mean",
           "value": 4.109238014226568
          },
          {
           "color_by": "Envelope Mean",
           "sample_id": 0,
           "timepoint": 90,
           "trajectory": "Envelope_Mean",
           "value": 4.190044896978858
          },
          {
           "color_by": "Envelope Mean",
           "sample_id": 0,
           "timepoint": 91,
           "trajectory": "Envelope_Mean",
           "value": 4.150105647199794
          },
          {
           "color_by": "Envelope Mean",
           "sample_id": 0,
           "timepoint": 92,
           "trajectory": "Envelope_Mean",
           "value": 4.153852464466376
          },
          {
           "color_by": "Envelope Mean",
           "sample_id": 0,
           "timepoint": 93,
           "trajectory": "Envelope_Mean",
           "value": 4.124073571478371
          },
          {
           "color_by": "Envelope Mean",
           "sample_id": 0,
           "timepoint": 94,
           "trajectory": "Envelope_Mean",
           "value": 4.181632420967868
          },
          {
           "color_by": "Envelope Mean",
           "sample_id": 0,
           "timepoint": 95,
           "trajectory": "Envelope_Mean",
           "value": 4.1657426319205575
          },
          {
           "color_by": "Envelope Mean",
           "sample_id": 0,
           "timepoint": 96,
           "trajectory": "Envelope_Mean",
           "value": 4.23064086580443
          },
          {
           "color_by": "Envelope Mean",
           "sample_id": 0,
           "timepoint": 97,
           "trajectory": "Envelope_Mean",
           "value": 4.133635518496813
          },
          {
           "color_by": "Envelope Mean",
           "sample_id": 0,
           "timepoint": 98,
           "trajectory": "Envelope_Mean",
           "value": 4.168863706128732
          },
          {
           "color_by": "Envelope Mean",
           "sample_id": 0,
           "timepoint": 99,
           "trajectory": "Envelope_Mean",
           "value": 4.186866824818988
          },
          {
           "color_by": "Chaos",
           "sample_id": 0,
           "timepoint": 0,
           "trajectory": "Chaos",
           "value": 1.5593480171982181
          },
          {
           "color_by": "Chaos",
           "sample_id": 0,
           "timepoint": 1,
           "trajectory": "Chaos",
           "value": 3.036807000579388
          },
          {
           "color_by": "Chaos",
           "sample_id": 0,
           "timepoint": 2,
           "trajectory": "Chaos",
           "value": 3.5875976600330346
          },
          {
           "color_by": "Chaos",
           "sample_id": 0,
           "timepoint": 3,
           "trajectory": "Chaos",
           "value": 3.8724192576999226
          },
          {
           "color_by": "Chaos",
           "sample_id": 0,
           "timepoint": 4,
           "trajectory": "Chaos",
           "value": 3.886550332249567
          },
          {
           "color_by": "Chaos",
           "sample_id": 0,
           "timepoint": 5,
           "trajectory": "Chaos",
           "value": 3.6621020799709574
          },
          {
           "color_by": "Chaos",
           "sample_id": 0,
           "timepoint": 6,
           "trajectory": "Chaos",
           "value": 3.2788420517491774
          },
          {
           "color_by": "Chaos",
           "sample_id": 0,
           "timepoint": 7,
           "trajectory": "Chaos",
           "value": 2.8498642788309723
          },
          {
           "color_by": "Chaos",
           "sample_id": 0,
           "timepoint": 8,
           "trajectory": "Chaos",
           "value": 2.496169913634926
          },
          {
           "color_by": "Chaos",
           "sample_id": 0,
           "timepoint": 9,
           "trajectory": "Chaos",
           "value": 2.318315685415201
          },
          {
           "color_by": "Chaos",
           "sample_id": 0,
           "timepoint": 10,
           "trajectory": "Chaos",
           "value": 2.3725915011357475
          },
          {
           "color_by": "Chaos",
           "sample_id": 0,
           "timepoint": 11,
           "trajectory": "Chaos",
           "value": 2.6577260160566345
          },
          {
           "color_by": "Chaos",
           "sample_id": 0,
           "timepoint": 12,
           "trajectory": "Chaos",
           "value": 3.115442509076118
          },
          {
           "color_by": "Chaos",
           "sample_id": 0,
           "timepoint": 13,
           "trajectory": "Chaos",
           "value": 3.6447777757185333
          },
          {
           "color_by": "Chaos",
           "sample_id": 0,
           "timepoint": 14,
           "trajectory": "Chaos",
           "value": 4.126714820741523
          },
          {
           "color_by": "Chaos",
           "sample_id": 0,
           "timepoint": 15,
           "trajectory": "Chaos",
           "value": 4.453166257443582
          },
          {
           "color_by": "Chaos",
           "sample_id": 0,
           "timepoint": 16,
           "trajectory": "Chaos",
           "value": 4.553283655914765
          },
          {
           "color_by": "Chaos",
           "sample_id": 0,
           "timepoint": 17,
           "trajectory": "Chaos",
           "value": 4.41071375881411
          },
          {
           "color_by": "Chaos",
           "sample_id": 0,
           "timepoint": 18,
           "trajectory": "Chaos",
           "value": 4.067617630972368
          },
          {
           "color_by": "Chaos",
           "sample_id": 0,
           "timepoint": 19,
           "trajectory": "Chaos",
           "value": 3.614480103139096
          },
          {
           "color_by": "Chaos",
           "sample_id": 0,
           "timepoint": 20,
           "trajectory": "Chaos",
           "value": 3.168184649927737
          },
          {
           "color_by": "Chaos",
           "sample_id": 0,
           "timepoint": 21,
           "trajectory": "Chaos",
           "value": 2.843676190226521
          },
          {
           "color_by": "Chaos",
           "sample_id": 0,
           "timepoint": 22,
           "trajectory": "Chaos",
           "value": 2.7260900891160174
          },
          {
           "color_by": "Chaos",
           "sample_id": 0,
           "timepoint": 23,
           "trajectory": "Chaos",
           "value": 2.8501122374078376
          },
          {
           "color_by": "Chaos",
           "sample_id": 0,
           "timepoint": 24,
           "trajectory": "Chaos",
           "value": 3.191579974130586
          },
          {
           "color_by": "Chaos",
           "sample_id": 0,
           "timepoint": 25,
           "trajectory": "Chaos",
           "value": 3.673362726841042
          },
          {
           "color_by": "Chaos",
           "sample_id": 0,
           "timepoint": 26,
           "trajectory": "Chaos",
           "value": 4.184095570615951
          },
          {
           "color_by": "Chaos",
           "sample_id": 0,
           "timepoint": 27,
           "trajectory": "Chaos",
           "value": 4.605219530031654
          },
          {
           "color_by": "Chaos",
           "sample_id": 0,
           "timepoint": 28,
           "trajectory": "Chaos",
           "value": 4.839766410005936
          },
          {
           "color_by": "Chaos",
           "sample_id": 0,
           "timepoint": 29,
           "trajectory": "Chaos",
           "value": 4.835902512541546
          },
          {
           "color_by": "Chaos",
           "sample_id": 0,
           "timepoint": 30,
           "trajectory": "Chaos",
           "value": 4.599517536566312
          },
          {
           "color_by": "Chaos",
           "sample_id": 0,
           "timepoint": 31,
           "trajectory": "Chaos",
           "value": 4.192803575192365
          },
          {
           "color_by": "Chaos",
           "sample_id": 0,
           "timepoint": 32,
           "trajectory": "Chaos",
           "value": 3.7191691921547076
          },
          {
           "color_by": "Chaos",
           "sample_id": 0,
           "timepoint": 33,
           "trajectory": "Chaos",
           "value": 3.2981499067351505
          },
          {
           "color_by": "Chaos",
           "sample_id": 0,
           "timepoint": 34,
           "trajectory": "Chaos",
           "value": 3.036404192399959
          },
          {
           "color_by": "Chaos",
           "sample_id": 0,
           "timepoint": 35,
           "trajectory": "Chaos",
           "value": 3.00183409634098
          },
          {
           "color_by": "Chaos",
           "sample_id": 0,
           "timepoint": 36,
           "trajectory": "Chaos",
           "value": 3.207111256750875
          },
          {
           "color_by": "Chaos",
           "sample_id": 0,
           "timepoint": 37,
           "trajectory": "Chaos",
           "value": 3.6066064722085986
          },
          {
           "color_by": "Chaos",
           "sample_id": 0,
           "timepoint": 38,
           "trajectory": "Chaos",
           "value": 4.1074680367025564
          },
          {
           "color_by": "Chaos",
           "sample_id": 0,
           "timepoint": 39,
           "trajectory": "Chaos",
           "value": 4.592160256786364
          },
          {
           "color_by": "Chaos",
           "sample_id": 0,
           "timepoint": 40,
           "trajectory": "Chaos",
           "value": 4.9469922687462455
          },
          {
           "color_by": "Chaos",
           "sample_id": 0,
           "timepoint": 41,
           "trajectory": "Chaos",
           "value": 5.089713472006886
          },
          {
           "color_by": "Chaos",
           "sample_id": 0,
           "timepoint": 42,
           "trajectory": "Chaos",
           "value": 4.989478416102671
          },
          {
           "color_by": "Chaos",
           "sample_id": 0,
           "timepoint": 43,
           "trajectory": "Chaos",
           "value": 4.674335847446667
          },
          {
           "color_by": "Chaos",
           "sample_id": 0,
           "timepoint": 44,
           "trajectory": "Chaos",
           "value": 4.22442440512976
          },
          {
           "color_by": "Chaos",
           "sample_id": 0,
           "timepoint": 45,
           "trajectory": "Chaos",
           "value": 3.7525263335278125
          },
          {
           "color_by": "Chaos",
           "sample_id": 0,
           "timepoint": 46,
           "trajectory": "Chaos",
           "value": 3.3766986847235994
          },
          {
           "color_by": "Chaos",
           "sample_id": 0,
           "timepoint": 47,
           "trajectory": "Chaos",
           "value": 3.191624211256729
          },
          {
           "color_by": "Chaos",
           "sample_id": 0,
           "timepoint": 48,
           "trajectory": "Chaos",
           "value": 3.2456348690243626
          },
          {
           "color_by": "Chaos",
           "sample_id": 0,
           "timepoint": 49,
           "trajectory": "Chaos",
           "value": 3.528984152168528
          },
          {
           "color_by": "Chaos",
           "sample_id": 0,
           "timepoint": 50,
           "trajectory": "Chaos",
           "value": 3.976214479958184
          },
          {
           "color_by": "Chaos",
           "sample_id": 0,
           "timepoint": 51,
           "trajectory": "Chaos",
           "value": 4.482045099376762
          },
          {
           "color_by": "Chaos",
           "sample_id": 0,
           "timepoint": 52,
           "trajectory": "Chaos",
           "value": 4.926924646264766
          },
          {
           "color_by": "Chaos",
           "sample_id": 0,
           "timepoint": 53,
           "trajectory": "Chaos",
           "value": 5.206046972496228
          },
          {
           "color_by": "Chaos",
           "sample_id": 0,
           "timepoint": 54,
           "trajectory": "Chaos",
           "value": 5.254788339264289
          },
          {
           "color_by": "Chaos",
           "sample_id": 0,
           "timepoint": 55,
           "trajectory": "Chaos",
           "value": 5.06439258146119
          },
          {
           "color_by": "Chaos",
           "sample_id": 0,
           "timepoint": 56,
           "trajectory": "Chaos",
           "value": 4.684097586224879
          },
          {
           "color_by": "Chaos",
           "sample_id": 0,
           "timepoint": 57,
           "trajectory": "Chaos",
           "value": 4.209187011761877
          },
          {
           "color_by": "Chaos",
           "sample_id": 0,
           "timepoint": 58,
           "trajectory": "Chaos",
           "value": 3.7578670026104803
          },
          {
           "color_by": "Chaos",
           "sample_id": 0,
           "timepoint": 59,
           "trajectory": "Chaos",
           "value": 3.4425797402088985
          },
          {
           "color_by": "Chaos",
           "sample_id": 0,
           "timepoint": 60,
           "trajectory": "Chaos",
           "value": 3.3427158024069046
          },
          {
           "color_by": "Chaos",
           "sample_id": 0,
           "timepoint": 61,
           "trajectory": "Chaos",
           "value": 3.485347825597943
          },
          {
           "color_by": "Chaos",
           "sample_id": 0,
           "timepoint": 62,
           "trajectory": "Chaos",
           "value": 3.838661257492045
          },
          {
           "color_by": "Chaos",
           "sample_id": 0,
           "timepoint": 63,
           "trajectory": "Chaos",
           "value": 4.319676506934048
          },
          {
           "color_by": "Chaos",
           "sample_id": 0,
           "timepoint": 64,
           "trajectory": "Chaos",
           "value": 4.814388390293871
          },
          {
           "color_by": "Chaos",
           "sample_id": 0,
           "timepoint": 65,
           "trajectory": "Chaos",
           "value": 5.205435196147825
          },
          {
           "color_by": "Chaos",
           "sample_id": 0,
           "timepoint": 66,
           "trajectory": "Chaos",
           "value": 5.400582312225052
          },
          {
           "color_by": "Chaos",
           "sample_id": 0,
           "timepoint": 67,
           "trajectory": "Chaos",
           "value": 5.355107670726698
          },
          {
           "color_by": "Chaos",
           "sample_id": 0,
           "timepoint": 68,
           "trajectory": "Chaos",
           "value": 5.082656247385744
          },
          {
           "color_by": "Chaos",
           "sample_id": 0,
           "timepoint": 69,
           "trajectory": "Chaos",
           "value": 4.651929317006511
          },
          {
           "color_by": "Chaos",
           "sample_id": 0,
           "timepoint": 70,
           "trajectory": "Chaos",
           "value": 4.170011958275886
          },
          {
           "color_by": "Chaos",
           "sample_id": 0,
           "timepoint": 71,
           "trajectory": "Chaos",
           "value": 3.756385089491883
          },
          {
           "color_by": "Chaos",
           "sample_id": 0,
           "timepoint": 72,
           "trajectory": "Chaos",
           "value": 3.5139291058448845
          },
          {
           "color_by": "Chaos",
           "sample_id": 0,
           "timepoint": 73,
           "trajectory": "Chaos",
           "value": 3.5039563027841503
          },
          {
           "color_by": "Chaos",
           "sample_id": 0,
           "timepoint": 74,
           "trajectory": "Chaos",
           "value": 3.7313315160594827
          },
          {
           "color_by": "Chaos",
           "sample_id": 0,
           "timepoint": 75,
           "trajectory": "Chaos",
           "value": 4.1432920802300774
          },
          {
           "color_by": "Chaos",
           "sample_id": 0,
           "timepoint": 76,
           "trajectory": "Chaos",
           "value": 4.642253493402825
          },
          {
           "color_by": "Chaos",
           "sample_id": 0,
           "timepoint": 77,
           "trajectory": "Chaos",
           "value": 5.109492957942285
          },
          {
           "color_by": "Chaos",
           "sample_id": 0,
           "timepoint": 78,
           "trajectory": "Chaos",
           "value": 5.433962994182849
          },
          {
           "color_by": "Chaos",
           "sample_id": 0,
           "timepoint": 79,
           "trajectory": "Chaos",
           "value": 5.539242296823843
          },
          {
           "color_by": "Chaos",
           "sample_id": 0,
           "timepoint": 80,
           "trajectory": "Chaos",
           "value": 5.402083079782739
          },
          {
           "color_by": "Chaos",
           "sample_id": 0,
           "timepoint": 81,
           "trajectory": "Chaos",
           "value": 5.058053619602317
          },
          {
           "color_by": "Chaos",
           "sample_id": 0,
           "timepoint": 82,
           "trajectory": "Chaos",
           "value": 4.59290659853629
          },
          {
           "color_by": "Chaos",
           "sample_id": 0,
           "timepoint": 83,
           "trajectory": "Chaos",
           "value": 4.121768081517079
          },
          {
           "color_by": "Chaos",
           "sample_id": 0,
           "timepoint": 84,
           "trajectory": "Chaos",
           "value": 3.761197794950382
          },
          {
           "color_by": "Chaos",
           "sample_id": 0,
           "timepoint": 85,
           "trajectory": "Chaos",
           "value": 3.60090145270816
          },
          {
           "color_by": "Chaos",
           "sample_id": 0,
           "timepoint": 86,
           "trajectory": "Chaos",
           "value": 3.6819603199869353
          },
          {
           "color_by": "Chaos",
           "sample_id": 0,
           "timepoint": 87,
           "trajectory": "Chaos",
           "value": 3.986861524669547
          },
          {
           "color_by": "Chaos",
           "sample_id": 0,
           "timepoint": 88,
           "trajectory": "Chaos",
           "value": 4.4437486796874275
          },
          {
           "color_by": "Chaos",
           "sample_id": 0,
           "timepoint": 89,
           "trajectory": "Chaos",
           "value": 4.943861225222792
          },
          {
           "color_by": "Chaos",
           "sample_id": 0,
           "timepoint": 90,
           "trajectory": "Chaos",
           "value": 5.367930103777565
          },
          {
           "color_by": "Chaos",
           "sample_id": 0,
           "timepoint": 91,
           "trajectory": "Chaos",
           "value": 5.6151237514594206
          },
          {
           "color_by": "Chaos",
           "sample_id": 0,
           "timepoint": 92,
           "trajectory": "Chaos",
           "value": 5.627519447661564
          },
          {
           "color_by": "Chaos",
           "sample_id": 0,
           "timepoint": 93,
           "trajectory": "Chaos",
           "value": 5.404161024665174
          },
          {
           "color_by": "Chaos",
           "sample_id": 0,
           "timepoint": 94,
           "trajectory": "Chaos",
           "value": 5.00129124500858
          },
          {
           "color_by": "Chaos",
           "sample_id": 0,
           "timepoint": 95,
           "trajectory": "Chaos",
           "value": 4.518702450914034
          },
          {
           "color_by": "Chaos",
           "sample_id": 0,
           "timepoint": 96,
           "trajectory": "Chaos",
           "value": 4.075518073294625
          },
          {
           "color_by": "Chaos",
           "sample_id": 0,
           "timepoint": 97,
           "trajectory": "Chaos",
           "value": 3.781282632859812
          },
          {
           "color_by": "Chaos",
           "sample_id": 0,
           "timepoint": 98,
           "trajectory": "Chaos",
           "value": 3.7093764568955554
          },
          {
           "color_by": "Chaos",
           "sample_id": 0,
           "timepoint": 99,
           "trajectory": "Chaos",
           "value": 3.879207145560029
          },
          {
           "color_by": "Mean",
           "sample_id": 0,
           "timepoint": 0,
           "trajectory": "Mean",
           "value": 1.1348689894684554
          },
          {
           "color_by": "Mean",
           "sample_id": 0,
           "timepoint": 1,
           "trajectory": "Mean",
           "value": 2.4454351546359105
          },
          {
           "color_by": "Mean",
           "sample_id": 0,
           "timepoint": 2,
           "trajectory": "Mean",
           "value": 2.9144945370783373
          },
          {
           "color_by": "Mean",
           "sample_id": 0,
           "timepoint": 3,
           "trajectory": "Mean",
           "value": 3.262823403106335
          },
          {
           "color_by": "Mean",
           "sample_id": 0,
           "timepoint": 4,
           "trajectory": "Mean",
           "value": 3.502132814153806
          },
          {
           "color_by": "Mean",
           "sample_id": 0,
           "timepoint": 5,
           "trajectory": "Mean",
           "value": 3.630184587059766
          },
          {
           "color_by": "Mean",
           "sample_id": 0,
           "timepoint": 6,
           "trajectory": "Mean",
           "value": 3.6479437507757515
          },
          {
           "color_by": "Mean",
           "sample_id": 0,
           "timepoint": 7,
           "trajectory": "Mean",
           "value": 3.5637062138564337
          },
          {
           "color_by": "Mean",
           "sample_id": 0,
           "timepoint": 8,
           "trajectory": "Mean",
           "value": 3.393852215809973
          },
          {
           "color_by": "Mean",
           "sample_id": 0,
           "timepoint": 9,
           "trajectory": "Mean",
           "value": 3.1619578328081293
          },
          {
           "color_by": "Mean",
           "sample_id": 0,
           "timepoint": 10,
           "trajectory": "Mean",
           "value": 2.8968558546847305
          },
          {
           "color_by": "Mean",
           "sample_id": 0,
           "timepoint": 11,
           "trajectory": "Mean",
           "value": 2.630017426075791
          },
          {
           "color_by": "Mean",
           "sample_id": 0,
           "timepoint": 12,
           "trajectory": "Mean",
           "value": 2.392588973505933
          },
          {
           "color_by": "Mean",
           "sample_id": 0,
           "timepoint": 13,
           "trajectory": "Mean",
           "value": 2.212413298437775
          },
          {
           "color_by": "Mean",
           "sample_id": 0,
           "timepoint": 14,
           "trajectory": "Mean",
           "value": 2.111348067485326
          },
          {
           "color_by": "Mean",
           "sample_id": 0,
           "timepoint": 15,
           "trajectory": "Mean",
           "value": 2.1031573001893817
          },
          {
           "color_by": "Mean",
           "sample_id": 0,
           "timepoint": 16,
           "trajectory": "Mean",
           "value": 2.1921905471798215
          },
          {
           "color_by": "Mean",
           "sample_id": 0,
           "timepoint": 17,
           "trajectory": "Mean",
           "value": 2.372984221476118
          },
          {
           "color_by": "Mean",
           "sample_id": 0,
           "timepoint": 18,
           "trajectory": "Mean",
           "value": 2.630826997952121
          },
          {
           "color_by": "Mean",
           "sample_id": 0,
           "timepoint": 19,
           "trajectory": "Mean",
           "value": 2.943235035188538
          },
          {
           "color_by": "Mean",
           "sample_id": 0,
           "timepoint": 20,
           "trajectory": "Mean",
           "value": 3.282192280900421
          },
          {
           "color_by": "Mean",
           "sample_id": 0,
           "timepoint": 21,
           "trajectory": "Mean",
           "value": 3.6169351230734303
          },
          {
           "color_by": "Mean",
           "sample_id": 0,
           "timepoint": 22,
           "trajectory": "Mean",
           "value": 3.9170065906809266
          },
          {
           "color_by": "Mean",
           "sample_id": 0,
           "timepoint": 23,
           "trajectory": "Mean",
           "value": 4.155278496151368
          },
          {
           "color_by": "Mean",
           "sample_id": 0,
           "timepoint": 24,
           "trajectory": "Mean",
           "value": 4.310642973809018
          },
          {
           "color_by": "Mean",
           "sample_id": 0,
           "timepoint": 25,
           "trajectory": "Mean",
           "value": 4.370107486330712
          },
          {
           "color_by": "Mean",
           "sample_id": 0,
           "timepoint": 26,
           "trajectory": "Mean",
           "value": 4.33008630937665
          },
          {
           "color_by": "Mean",
           "sample_id": 0,
           "timepoint": 27,
           "trajectory": "Mean",
           "value": 4.196760927858573
          },
          {
           "color_by": "Mean",
           "sample_id": 0,
           "timepoint": 28,
           "trajectory": "Mean",
           "value": 3.9854738268863215
          },
          {
           "color_by": "Mean",
           "sample_id": 0,
           "timepoint": 29,
           "trajectory": "Mean",
           "value": 3.719215730019846
          },
          {
           "color_by": "Mean",
           "sample_id": 0,
           "timepoint": 30,
           "trajectory": "Mean",
           "value": 3.4263559735509044
          },
          {
           "color_by": "Mean",
           "sample_id": 0,
           "timepoint": 31,
           "trajectory": "Mean",
           "value": 3.1378405420410838
          },
          {
           "color_by": "Mean",
           "sample_id": 0,
           "timepoint": 32,
           "trajectory": "Mean",
           "value": 2.8841349251729533
          },
          {
           "color_by": "Mean",
           "sample_id": 0,
           "timepoint": 33,
           "trajectory": "Mean",
           "value": 2.692214182995841
          },
          {
           "color_by": "Mean",
           "sample_id": 0,
           "timepoint": 34,
           "trajectory": "Mean",
           "value": 2.582897930463359
          },
          {
           "color_by": "Mean",
           "sample_id": 0,
           "timepoint": 35,
           "trajectory": "Mean",
           "value": 2.5687938348227064
          },
          {
           "color_by": "Mean",
           "sample_id": 0,
           "timepoint": 36,
           "trajectory": "Mean",
           "value": 2.6530530347078423
          },
          {
           "color_by": "Mean",
           "sample_id": 0,
           "timepoint": 37,
           "trajectory": "Mean",
           "value": 2.8290605895354246
          },
          {
           "color_by": "Mean",
           "sample_id": 0,
           "timepoint": 38,
           "trajectory": "Mean",
           "value": 3.081091593239265
          },
          {
           "color_by": "Mean",
           "sample_id": 0,
           "timepoint": 39,
           "trajectory": "Mean",
           "value": 3.3858680827774825
          },
          {
           "color_by": "Mean",
           "sample_id": 0,
           "timepoint": 40,
           "trajectory": "Mean",
           "value": 3.714862784068981
          },
          {
           "color_by": "Mean",
           "sample_id": 0,
           "timepoint": 41,
           "trajectory": "Mean",
           "value": 4.037121876445661
          },
          {
           "color_by": "Mean",
           "sample_id": 0,
           "timepoint": 42,
           "trajectory": "Mean",
           "value": 4.322327625925602
          },
          {
           "color_by": "Mean",
           "sample_id": 0,
           "timepoint": 43,
           "trajectory": "Mean",
           "value": 4.543798014000823
          },
          {
           "color_by": "Mean",
           "sample_id": 0,
           "timepoint": 44,
           "trajectory": "Mean",
           "value": 4.681126718329791
          },
          {
           "color_by": "Mean",
           "sample_id": 0,
           "timepoint": 45,
           "trajectory": "Mean",
           "value": 4.7222023686001
          },
          {
           "color_by": "Mean",
           "sample_id": 0,
           "timepoint": 46,
           "trajectory": "Mean",
           "value": 4.664407387414526
          },
          {
           "color_by": "Mean",
           "sample_id": 0,
           "timepoint": 47,
           "trajectory": "Mean",
           "value": 4.514877861413769
          },
          {
           "color_by": "Mean",
           "sample_id": 0,
           "timepoint": 48,
           "trajectory": "Mean",
           "value": 4.2897987479624256
          },
          {
           "color_by": "Mean",
           "sample_id": 0,
           "timepoint": 49,
           "trajectory": "Mean",
           "value": 4.0128041240377845
          },
          {
           "color_by": "Mean",
           "sample_id": 0,
           "timepoint": 50,
           "trajectory": "Mean",
           "value": 3.712640691607976
          },
          {
           "color_by": "Mean",
           "sample_id": 0,
           "timepoint": 51,
           "trajectory": "Mean",
           "value": 3.420325614662058
          },
          {
           "color_by": "Mean",
           "sample_id": 0,
           "timepoint": 52,
           "trajectory": "Mean",
           "value": 3.166079771467322
          },
          {
           "color_by": "Mean",
           "sample_id": 0,
           "timepoint": 53,
           "trajectory": "Mean",
           "value": 2.9763397159154037
          },
          {
           "color_by": "Mean",
           "sample_id": 0,
           "timepoint": 54,
           "trajectory": "Mean",
           "value": 2.8711438574531347
          },
          {
           "color_by": "Mean",
           "sample_id": 0,
           "timepoint": 55,
           "trajectory": "Mean",
           "value": 2.8621513599177253
          },
          {
           "color_by": "Mean",
           "sample_id": 0,
           "timepoint": 56,
           "trajectory": "Mean",
           "value": 2.9514896856808273
          },
          {
           "color_by": "Mean",
           "sample_id": 0,
           "timepoint": 57,
           "trajectory": "Mean",
           "value": 3.1315447611878526
          },
          {
           "color_by": "Mean",
           "sample_id": 0,
           "timepoint": 58,
           "trajectory": "Mean",
           "value": 3.3857145178516106
          },
          {
           "color_by": "Mean",
           "sample_id": 0,
           "timepoint": 59,
           "trajectory": "Mean",
           "value": 3.6900512876592497
          },
          {
           "color_by": "Mean",
           "sample_id": 0,
           "timepoint": 60,
           "trajectory": "Mean",
           "value": 4.015630628097982
          },
          {
           "color_by": "Mean",
           "sample_id": 0,
           "timepoint": 61,
           "trajectory": "Mean",
           "value": 4.331412309565767
          },
          {
           "color_by": "Mean",
           "sample_id": 0,
           "timepoint": 62,
           "trajectory": "Mean",
           "value": 4.607310525171258
          },
          {
           "color_by": "Mean",
           "sample_id": 0,
           "timepoint": 63,
           "trajectory": "Mean",
           "value": 4.8171696913546995
          },
          {
           "color_by": "Mean",
           "sample_id": 0,
           "timepoint": 64,
           "trajectory": "Mean",
           "value": 4.94135154439061
          },
          {
           "color_by": "Mean",
           "sample_id": 0,
           "timepoint": 65,
           "trajectory": "Mean",
           "value": 4.968677679203113
          },
          {
           "color_by": "Mean",
           "sample_id": 0,
           "timepoint": 66,
           "trajectory": "Mean",
           "value": 4.897535421318459
          },
          {
           "color_by": "Mean",
           "sample_id": 0,
           "timepoint": 67,
           "trajectory": "Mean",
           "value": 4.736037666100524
          },
          {
           "color_by": "Mean",
           "sample_id": 0,
           "timepoint": 68,
           "trajectory": "Mean",
           "value": 4.501220878640257
          },
          {
           "color_by": "Mean",
           "sample_id": 0,
           "timepoint": 69,
           "trajectory": "Mean",
           "value": 4.217360570121439
          },
          {
           "color_by": "Mean",
           "sample_id": 0,
           "timepoint": 70,
           "trajectory": "Mean",
           "value": 3.913570844887168
          },
          {
           "color_by": "Mean",
           "sample_id": 0,
           "timepoint": 71,
           "trajectory": "Mean",
           "value": 3.6209254152578887
          },
          {
           "color_by": "Mean",
           "sample_id": 0,
           "timepoint": 72,
           "trajectory": "Mean",
           "value": 3.369384806252178
          },
          {
           "color_by": "Mean",
           "sample_id": 0,
           "timepoint": 73,
           "trajectory": "Mean",
           "value": 3.1848336394500167
          },
          {
           "color_by": "Mean",
           "sample_id": 0,
           "timepoint": 74,
           "trajectory": "Mean",
           "value": 3.086520998757356
          },
          {
           "color_by": "Mean",
           "sample_id": 0,
           "timepoint": 75,
           "trajectory": "Mean",
           "value": 3.085157017414292
          },
          {
           "color_by": "Mean",
           "sample_id": 0,
           "timepoint": 76,
           "trajectory": "Mean",
           "value": 3.181853927588195
          },
          {
           "color_by": "Mean",
           "sample_id": 0,
           "timepoint": 77,
           "trajectory": "Mean",
           "value": 3.3680162994906278
          },
          {
           "color_by": "Mean",
           "sample_id": 0,
           "timepoint": 78,
           "trajectory": "Mean",
           "value": 3.626191325432234
          },
          {
           "color_by": "Mean",
           "sample_id": 0,
           "timepoint": 79,
           "trajectory": "Mean",
           "value": 3.9317950591453354
          },
          {
           "color_by": "Mean",
           "sample_id": 0,
           "timepoint": 80,
           "trajectory": "Mean",
           "value": 4.255543891793176
          },
          {
           "color_by": "Mean",
           "sample_id": 0,
           "timepoint": 81,
           "trajectory": "Mean",
           "value": 4.566350800641223
          },
          {
           "color_by": "Mean",
           "sample_id": 0,
           "timepoint": 82,
           "trajectory": "Mean",
           "value": 4.834399941967435
          },
          {
           "color_by": "Mean",
           "sample_id": 0,
           "timepoint": 83,
           "trajectory": "Mean",
           "value": 5.0340955221518175
          },
          {
           "color_by": "Mean",
           "sample_id": 0,
           "timepoint": 84,
           "trajectory": "Mean",
           "value": 5.146593314310719
          },
          {
           "color_by": "Mean",
           "sample_id": 0,
           "timepoint": 85,
           "trajectory": "Mean",
           "value": 5.161664462706149
          },
          {
           "color_by": "Mean",
           "sample_id": 0,
           "timepoint": 86,
           "trajectory": "Mean",
           "value": 5.078707251526325
          },
          {
           "color_by": "Mean",
           "sample_id": 0,
           "timepoint": 87,
           "trajectory": "Mean",
           "value": 4.906806777935006
          },
          {
           "color_by": "Mean",
           "sample_id": 0,
           "timepoint": 88,
           "trajectory": "Mean",
           "value": 4.663836628180424
          },
          {
           "color_by": "Mean",
           "sample_id": 0,
           "timepoint": 89,
           "trajectory": "Mean",
           "value": 4.374691398057726
          },
          {
           "color_by": "Mean",
           "sample_id": 0,
           "timepoint": 90,
           "trajectory": "Mean",
           "value": 4.068824855432334
          },
          {
           "color_by": "Mean",
           "sample_id": 0,
           "timepoint": 91,
           "trajectory": "Mean",
           "value": 3.777337212069623
          },
          {
           "color_by": "Mean",
           "sample_id": 0,
           "timepoint": 92,
           "trajectory": "Mean",
           "value": 3.5298995635035735
          },
          {
           "color_by": "Mean",
           "sample_id": 0,
           "timepoint": 93,
           "trajectory": "Mean",
           "value": 3.35181965917325
          },
          {
           "color_by": "Mean",
           "sample_id": 0,
           "timepoint": 94,
           "trajectory": "Mean",
           "value": 3.2615391879811657
          },
          {
           "color_by": "Mean",
           "sample_id": 0,
           "timepoint": 95,
           "trajectory": "Mean",
           "value": 3.2688100890666703
          },
          {
           "color_by": "Mean",
           "sample_id": 0,
           "timepoint": 96,
           "trajectory": "Mean",
           "value": 3.373730244381056
          },
          {
           "color_by": "Mean",
           "sample_id": 0,
           "timepoint": 97,
           "trajectory": "Mean",
           "value": 3.566733919816044
          },
          {
           "color_by": "Mean",
           "sample_id": 0,
           "timepoint": 98,
           "trajectory": "Mean",
           "value": 3.829537900367089
          },
          {
           "color_by": "Mean",
           "sample_id": 0,
           "timepoint": 99,
           "trajectory": "Mean",
           "value": 4.136949750038612
          },
          {
           "color_by": "Random",
           "sample_id": 0,
           "timepoint": 0,
           "trajectory": "Random",
           "value": 1.6608060111426997
          },
          {
           "color_by": "Random",
           "sample_id": 0,
           "timepoint": 1,
           "trajectory": "Random",
           "value": 3.0056785610750527
          },
          {
           "color_by": "Random",
           "sample_id": 0,
           "timepoint": 2,
           "trajectory": "Random",
           "value": 3.497442034123824
          },
          {
           "color_by": "Random",
           "sample_id": 0,
           "timepoint": 3,
           "trajectory": "Random",
           "value": 3.8474251435839815
          },
          {
           "color_by": "Random",
           "sample_id": 0,
           "timepoint": 4,
           "trajectory": "Random",
           "value": 4.061864185326393
          },
          {
           "color_by": "Random",
           "sample_id": 0,
           "timepoint": 5,
           "trajectory": "Random",
           "value": 4.138212118312522
          },
          {
           "color_by": "Random",
           "sample_id": 0,
           "timepoint": 6,
           "trajectory": "Random",
           "value": 4.0826612576750225
          },
          {
           "color_by": "Random",
           "sample_id": 0,
           "timepoint": 7,
           "trajectory": "Random",
           "value": 3.9137399991889437
          },
          {
           "color_by": "Random",
           "sample_id": 0,
           "timepoint": 8,
           "trajectory": "Random",
           "value": 3.6616883723117066
          },
          {
           "color_by": "Random",
           "sample_id": 0,
           "timepoint": 9,
           "trajectory": "Random",
           "value": 3.3655258629363463
          },
          {
           "color_by": "Random",
           "sample_id": 0,
           "timepoint": 10,
           "trajectory": "Random",
           "value": 3.068687513396278
          },
          {
           "color_by": "Random",
           "sample_id": 0,
           "timepoint": 11,
           "trajectory": "Random",
           "value": 2.8139496159052735
          },
          {
           "color_by": "Random",
           "sample_id": 0,
           "timepoint": 12,
           "trajectory": "Random",
           "value": 2.6383465590995048
          },
          {
           "color_by": "Random",
           "sample_id": 0,
           "timepoint": 13,
           "trajectory": "Random",
           "value": 2.568740327614253
          },
          {
           "color_by": "Random",
           "sample_id": 0,
           "timepoint": 14,
           "trajectory": "Random",
           "value": 2.61860610667165
          },
          {
           "color_by": "Random",
           "sample_id": 0,
           "timepoint": 15,
           "trajectory": "Random",
           "value": 2.786439580071134
          },
          {
           "color_by": "Random",
           "sample_id": 0,
           "timepoint": 16,
           "trajectory": "Random",
           "value": 3.055988031017322
          },
          {
           "color_by": "Random",
           "sample_id": 0,
           "timepoint": 17,
           "trajectory": "Random",
           "value": 3.398281083011441
          },
          {
           "color_by": "Random",
           "sample_id": 0,
           "timepoint": 18,
           "trajectory": "Random",
           "value": 3.775214647077717
          },
          {
           "color_by": "Random",
           "sample_id": 0,
           "timepoint": 19,
           "trajectory": "Random",
           "value": 4.144250174770099
          },
          {
           "color_by": "Random",
           "sample_id": 0,
           "timepoint": 20,
           "trajectory": "Random",
           "value": 4.463653905110964
          },
          {
           "color_by": "Random",
           "sample_id": 0,
           "timepoint": 21,
           "trajectory": "Random",
           "value": 4.697634167555753
          },
          {
           "color_by": "Random",
           "sample_id": 0,
           "timepoint": 22,
           "trajectory": "Random",
           "value": 4.8207470634264755
          },
          {
           "color_by": "Random",
           "sample_id": 0,
           "timepoint": 23,
           "trajectory": "Random",
           "value": 4.821030447272733
          },
          {
           "color_by": "Random",
           "sample_id": 0,
           "timepoint": 24,
           "trajectory": "Random",
           "value": 4.701482047085123
          },
          {
           "color_by": "Random",
           "sample_id": 0,
           "timepoint": 25,
           "trajectory": "Random",
           "value": 4.479700650517596
          },
          {
           "color_by": "Random",
           "sample_id": 0,
           "timepoint": 26,
           "trajectory": "Random",
           "value": 4.185734613583656
          },
          {
           "color_by": "Random",
           "sample_id": 0,
           "timepoint": 27,
           "trajectory": "Random",
           "value": 3.8584018636061836
          },
          {
           "color_by": "Random",
           "sample_id": 0,
           "timepoint": 28,
           "trajectory": "Random",
           "value": 3.540533081035754
          },
          {
           "color_by": "Random",
           "sample_id": 0,
           "timepoint": 29,
           "trajectory": "Random",
           "value": 3.2737218439070954
          },
          {
           "color_by": "Random",
           "sample_id": 0,
           "timepoint": 30,
           "trajectory": "Random",
           "value": 3.0932259932570405
          },
          {
           "color_by": "Random",
           "sample_id": 0,
           "timepoint": 31,
           "trajectory": "Random",
           "value": 3.0236459059158873
          },
          {
           "color_by": "Random",
           "sample_id": 0,
           "timepoint": 32,
           "trajectory": "Random",
           "value": 3.0759100203637337
          },
          {
           "color_by": "Random",
           "sample_id": 0,
           "timepoint": 33,
           "trajectory": "Random",
           "value": 3.245937549384453
          },
          {
           "color_by": "Random",
           "sample_id": 0,
           "timepoint": 34,
           "trajectory": "Random",
           "value": 3.5151425121425923
          },
          {
           "color_by": "Random",
           "sample_id": 0,
           "timepoint": 35,
           "trajectory": "Random",
           "value": 3.8527172795892533
          },
          {
           "color_by": "Random",
           "sample_id": 0,
           "timepoint": 36,
           "trajectory": "Random",
           "value": 4.219415473324868
          },
          {
           "color_by": "Random",
           "sample_id": 0,
           "timepoint": 37,
           "trajectory": "Random",
           "value": 4.572370081164327
          },
          {
           "color_by": "Random",
           "sample_id": 0,
           "timepoint": 38,
           "trajectory": "Random",
           "value": 4.870355626600893
          },
          {
           "color_by": "Random",
           "sample_id": 0,
           "timepoint": 39,
           "trajectory": "Random",
           "value": 5.078848740210376
          },
          {
           "color_by": "Random",
           "sample_id": 0,
           "timepoint": 40,
           "trajectory": "Random",
           "value": 5.174266214524573
          },
          {
           "color_by": "Random",
           "sample_id": 0,
           "timepoint": 41,
           "trajectory": "Random",
           "value": 5.146860545113847
          },
          {
           "color_by": "Random",
           "sample_id": 0,
           "timepoint": 42,
           "trajectory": "Random",
           "value": 5.001917686346348
          },
          {
           "color_by": "Random",
           "sample_id": 0,
           "timepoint": 43,
           "trajectory": "Random",
           "value": 4.759110068469863
          },
          {
           "color_by": "Random",
           "sample_id": 0,
           "timepoint": 44,
           "trajectory": "Random",
           "value": 4.4500842724022265
          },
          {
           "color_by": "Random",
           "sample_id": 0,
           "timepoint": 45,
           "trajectory": "Random",
           "value": 4.114579366547513
          },
          {
           "color_by": "Random",
           "sample_id": 0,
           "timepoint": 46,
           "trajectory": "Random",
           "value": 3.795552198044893
          },
          {
           "color_by": "Random",
           "sample_id": 0,
           "timepoint": 47,
           "trajectory": "Random",
           "value": 3.533907777556859
          },
          {
           "color_by": "Random",
           "sample_id": 0,
           "timepoint": 48,
           "trajectory": "Random",
           "value": 3.363481351284891
          },
          {
           "color_by": "Random",
           "sample_id": 0,
           "timepoint": 49,
           "trajectory": "Random",
           "value": 3.3068878709217957
          },
          {
           "color_by": "Random",
           "sample_id": 0,
           "timepoint": 50,
           "trajectory": "Random",
           "value": 3.372748141066502
          },
          {
           "color_by": "Random",
           "sample_id": 0,
           "timepoint": 51,
           "trajectory": "Random",
           "value": 3.554632003434686
          },
          {
           "color_by": "Random",
           "sample_id": 0,
           "timepoint": 52,
           "trajectory": "Random",
           "value": 3.8318482346556264
          },
          {
           "color_by": "Random",
           "sample_id": 0,
           "timepoint": 53,
           "trajectory": "Random",
           "value": 4.17198424049291
          },
          {
           "color_by": "Random",
           "sample_id": 0,
           "timepoint": 54,
           "trajectory": "Random",
           "value": 4.53488392725118
          },
          {
           "color_by": "Random",
           "sample_id": 0,
           "timepoint": 55,
           "trajectory": "Random",
           "value": 4.877575665076848
          },
          {
           "color_by": "Random",
           "sample_id": 0,
           "timepoint": 56,
           "trajectory": "Random",
           "value": 5.159545680375753
          },
          {
           "color_by": "Random",
           "sample_id": 0,
           "timepoint": 57,
           "trajectory": "Random",
           "value": 5.34770982981929
          },
          {
           "color_by": "Random",
           "sample_id": 0,
           "timepoint": 58,
           "trajectory": "Random",
           "value": 5.420473717038448
          },
          {
           "color_by": "Random",
           "sample_id": 0,
           "timepoint": 59,
           "trajectory": "Random",
           "value": 5.37038297411462
          },
          {
           "color_by": "Random",
           "sample_id": 0,
           "timepoint": 60,
           "trajectory": "Random",
           "value": 5.205038517911297
          },
          {
           "color_by": "Random",
           "sample_id": 0,
           "timepoint": 61,
           "trajectory": "Random",
           "value": 4.946164480364103
          },
          {
           "color_by": "Random",
           "sample_id": 0,
           "timepoint": 62,
           "trajectory": "Random",
           "value": 4.626943180362697
          },
          {
           "color_by": "Random",
           "sample_id": 0,
           "timepoint": 63,
           "trajectory": "Random",
           "value": 4.287944140371288
          },
          {
           "color_by": "Random",
           "sample_id": 0,
           "timepoint": 64,
           "trajectory": "Random",
           "value": 3.972146662862005
          },
          {
           "color_by": "Random",
           "sample_id": 0,
           "timepoint": 65,
           "trajectory": "Random",
           "value": 3.719666702597311
          },
          {
           "color_by": "Random",
           "sample_id": 0,
           "timepoint": 66,
           "trajectory": "Random",
           "value": 3.562835053874264
          },
          {
           "color_by": "Random",
           "sample_id": 0,
           "timepoint": 67,
           "trajectory": "Random",
           "value": 3.5222307650651183
          },
          {
           "color_by": "Random",
           "sample_id": 0,
           "timepoint": 68,
           "trajectory": "Random",
           "value": 3.6041564853978336
          },
          {
           "color_by": "Random",
           "sample_id": 0,
           "timepoint": 69,
           "trajectory": "Random",
           "value": 3.7998655223744358
          },
          {
           "color_by": "Random",
           "sample_id": 0,
           "timepoint": 70,
           "trajectory": "Random",
           "value": 4.086635451580508
          },
          {
           "color_by": "Random",
           "sample_id": 0,
           "timepoint": 71,
           "trajectory": "Random",
           "value": 4.430556546826876
          },
          {
           "color_by": "Random",
           "sample_id": 0,
           "timepoint": 72,
           "trajectory": "Random",
           "value": 4.790692888407454
          },
          {
           "color_by": "Random",
           "sample_id": 0,
           "timepoint": 73,
           "trajectory": "Random",
           "value": 5.124105578282595
          },
          {
           "color_by": "Random",
           "sample_id": 0,
           "timepoint": 74,
           "trajectory": "Random",
           "value": 5.391121709600895
          },
          {
           "color_by": "Random",
           "sample_id": 0,
           "timepoint": 75,
           "trajectory": "Random",
           "value": 5.560202583632193
          },
          {
           "color_by": "Random",
           "sample_id": 0,
           "timepoint": 76,
           "trajectory": "Random",
           "value": 5.6118138398668895
          },
          {
           "color_by": "Random",
           "sample_id": 0,
           "timepoint": 77,
           "trajectory": "Random",
           "value": 5.54082263120587
          },
          {
           "color_by": "Random",
           "sample_id": 0,
           "timepoint": 78,
           "trajectory": "Random",
           "value": 5.357127709104713
          },
          {
           "color_by": "Random",
           "sample_id": 0,
           "timepoint": 79,
           "trajectory": "Random",
           "value": 5.084445107141036
          },
          {
           "color_by": "Random",
           "sample_id": 0,
           "timepoint": 80,
           "trajectory": "Random",
           "value": 4.757398421280186
          },
          {
           "color_by": "Random",
           "sample_id": 0,
           "timepoint": 81,
           "trajectory": "Random",
           "value": 4.417270712692506
          },
          {
           "color_by": "Random",
           "sample_id": 0,
           "timepoint": 82,
           "trajectory": "Random",
           "value": 4.106939279141338
          },
          {
           "color_by": "Random",
           "sample_id": 0,
           "timepoint": 83,
           "trajectory": "Random",
           "value": 3.8656148037441325
          },
          {
           "color_by": "Random",
           "sample_id": 0,
           "timepoint": 84,
           "trajectory": "Random",
           "value": 3.7240303929684755
          },
          {
           "color_by": "Random",
           "sample_id": 0,
           "timepoint": 85,
           "trajectory": "Random",
           "value": 3.700670813863579
          },
          {
           "color_by": "Random",
           "sample_id": 0,
           "timepoint": 86,
           "trajectory": "Random",
           "value": 3.79950460706554
          },
          {
           "color_by": "Random",
           "sample_id": 0,
           "timepoint": 87,
           "trajectory": "Random",
           "value": 4.009497347800124
          },
          {
           "color_by": "Random",
           "sample_id": 0,
           "timepoint": 88,
           "trajectory": "Random",
           "value": 4.305965778525392
          },
          {
           "color_by": "Random",
           "sample_id": 0,
           "timepoint": 89,
           "trajectory": "Random",
           "value": 4.653606660128036
          },
          {
           "color_by": "Random",
           "sample_id": 0,
           "timepoint": 90,
           "trajectory": "Random",
           "value": 5.010828699002867
          },
          {
           "color_by": "Random",
           "sample_id": 0,
           "timepoint": 91,
           "trajectory": "Random",
           "value": 5.334856018672489
          },
          {
           "color_by": "Random",
           "sample_id": 0,
           "timepoint": 92,
           "trajectory": "Random",
           "value": 5.586976975337361
          },
          {
           "color_by": "Random",
           "sample_id": 0,
           "timepoint": 93,
           "trajectory": "Random",
           "value": 5.7372942828942834
          },
          {
           "color_by": "Random",
           "sample_id": 0,
           "timepoint": 94,
           "trajectory": "Random",
           "value": 5.768393602755101
          },
          {
           "color_by": "Random",
           "sample_id": 0,
           "timepoint": 95,
           "trajectory": "Random",
           "value": 5.677480459189943
          },
          {
           "color_by": "Random",
           "sample_id": 0,
           "timepoint": 96,
           "trajectory": "Random",
           "value": 5.476723278832883
          },
          {
           "color_by": "Random",
           "sample_id": 0,
           "timepoint": 97,
           "trajectory": "Random",
           "value": 5.191760463259737
          },
          {
           "color_by": "Random",
           "sample_id": 0,
           "timepoint": 98,
           "trajectory": "Random",
           "value": 4.858554678437543
          },
          {
           "color_by": "Random",
           "sample_id": 0,
           "timepoint": 99,
           "trajectory": "Random",
           "value": 4.518980342907836
          },
          {
           "color_by": "Variance",
           "sample_id": 0,
           "timepoint": 0,
           "trajectory": "Variance",
           "value": 1.1400600171551445
          },
          {
           "color_by": "Variance",
           "sample_id": 0,
           "timepoint": 1,
           "trajectory": "Variance",
           "value": 2.5201059994297914
          },
          {
           "color_by": "Variance",
           "sample_id": 0,
           "timepoint": 2,
           "trajectory": "Variance",
           "value": 3.0323275684037565
          },
          {
           "color_by": "Variance",
           "sample_id": 0,
           "timepoint": 3,
           "trajectory": "Variance",
           "value": 3.376704289204155
          },
          {
           "color_by": "Variance",
           "sample_id": 0,
           "timepoint": 4,
           "trajectory": "Variance",
           "value": 3.5542084600113366
          },
          {
           "color_by": "Variance",
           "sample_id": 0,
           "timepoint": 5,
           "trajectory": "Variance",
           "value": 3.5646532619148683
          },
          {
           "color_by": "Variance",
           "sample_id": 0,
           "timepoint": 6,
           "trajectory": "Variance",
           "value": 3.424251749512649
          },
          {
           "color_by": "Variance",
           "sample_id": 0,
           "timepoint": 7,
           "trajectory": "Variance",
           "value": 3.1676937413611395
          },
          {
           "color_by": "Variance",
           "sample_id": 0,
           "timepoint": 8,
           "trajectory": "Variance",
           "value": 2.8446754533116803
          },
          {
           "color_by": "Variance",
           "sample_id": 0,
           "timepoint": 9,
           "trajectory": "Variance",
           "value": 2.5132740035226524
          },
          {
           "color_by": "Variance",
           "sample_id": 0,
           "timepoint": 10,
           "trajectory": "Variance",
           "value": 2.231691958708743
          },
          {
           "color_by": "Variance",
           "sample_id": 0,
           "timepoint": 11,
           "trajectory": "Variance",
           "value": 2.0498038104479632
          },
          {
           "color_by": "Variance",
           "sample_id": 0,
           "timepoint": 12,
           "trajectory": "Variance",
           "value": 2.00185576012596
          },
          {
           "color_by": "Variance",
           "sample_id": 0,
           "timepoint": 13,
           "trajectory": "Variance",
           "value": 2.101454351132969
          },
          {
           "color_by": "Variance",
           "sample_id": 0,
           "timepoint": 14,
           "trajectory": "Variance",
           "value": 2.3396171801854964
          },
          {
           "color_by": "Variance",
           "sample_id": 0,
           "timepoint": 15,
           "trajectory": "Variance",
           "value": 2.6861902720653736
          },
          {
           "color_by": "Variance",
           "sample_id": 0,
           "timepoint": 16,
           "trajectory": "Variance",
           "value": 3.0944266950462453
          },
          {
           "color_by": "Variance",
           "sample_id": 0,
           "timepoint": 17,
           "trajectory": "Variance",
           "value": 3.5080439299952797
          },
          {
           "color_by": "Variance",
           "sample_id": 0,
           "timepoint": 18,
           "trajectory": "Variance",
           "value": 3.8697039602226315
          },
          {
           "color_by": "Variance",
           "sample_id": 0,
           "timepoint": 19,
           "trajectory": "Variance",
           "value": 4.1296455825241525
          },
          {
           "color_by": "Variance",
           "sample_id": 0,
           "timepoint": 20,
           "trajectory": "Variance",
           "value": 4.253174980130181
          },
          {
           "color_by": "Variance",
           "sample_id": 0,
           "timepoint": 21,
           "trajectory": "Variance",
           "value": 4.225891526421845
          },
          {
           "color_by": "Variance",
           "sample_id": 0,
           "timepoint": 22,
           "trajectory": "Variance",
           "value": 4.05586537471494
          },
          {
           "color_by": "Variance",
           "sample_id": 0,
           "timepoint": 23,
           "trajectory": "Variance",
           "value": 3.7724406273566915
          },
          {
           "color_by": "Variance",
           "sample_id": 0,
           "timepoint": 24,
           "trajectory": "Variance",
           "value": 3.4218441229394
          },
          {
           "color_by": "Variance",
           "sample_id": 0,
           "timepoint": 25,
           "trajectory": "Variance",
           "value": 3.060259146007664
          },
          {
           "color_by": "Variance",
           "sample_id": 0,
           "timepoint": 26,
           "trajectory": "Variance",
           "value": 2.7454037167387355
          },
          {
           "color_by": "Variance",
           "sample_id": 0,
           "timepoint": 27,
           "trajectory": "Variance",
           "value": 2.527877473437976
          },
          {
           "color_by": "Variance",
           "sample_id": 0,
           "timepoint": 28,
           "trajectory": "Variance",
           "value": 2.443575845303143
          },
          {
           "color_by": "Variance",
           "sample_id": 0,
           "timepoint": 29,
           "trajectory": "Variance",
           "value": 2.508310018279163
          },
          {
           "color_by": "Variance",
           "sample_id": 0,
           "timepoint": 30,
           "trajectory": "Variance",
           "value": 2.7154401600389377
          },
          {
           "color_by": "Variance",
           "sample_id": 0,
           "timepoint": 31,
           "trajectory": "Variance",
           "value": 3.0368771663887
          },
          {
           "color_by": "Variance",
           "sample_id": 0,
           "timepoint": 32,
           "trajectory": "Variance",
           "value": 3.4273026792992516
          },
          {
           "color_by": "Variance",
           "sample_id": 0,
           "timepoint": 33,
           "trajectory": "Variance",
           "value": 3.830974164950111
          },
          {
           "color_by": "Variance",
           "sample_id": 0,
           "timepoint": 34,
           "trajectory": "Variance",
           "value": 4.190093903522863
          },
          {
           "color_by": "Variance",
           "sample_id": 0,
           "timepoint": 35,
           "trajectory": "Variance",
           "value": 4.453486046114499
          },
          {
           "color_by": "Variance",
           "sample_id": 0,
           "timepoint": 36,
           "trajectory": "Variance",
           "value": 4.58427965733408
          },
          {
           "color_by": "Variance",
           "sample_id": 0,
           "timepoint": 37,
           "trajectory": "Variance",
           "value": 4.565444823114131
          },
          {
           "color_by": "Variance",
           "sample_id": 0,
           "timepoint": 38,
           "trajectory": "Variance",
           "value": 4.402351077967294
          },
          {
           "color_by": "Variance",
           "sample_id": 0,
           "timepoint": 39,
           "trajectory": "Variance",
           "value": 4.121964247083769
          },
          {
           "color_by": "Variance",
           "sample_id": 0,
           "timepoint": 40,
           "trajectory": "Variance",
           "value": 3.7688022510189114
          },
          {
           "color_by": "Variance",
           "sample_id": 0,
           "timepoint": 41,
           "trajectory": "Variance",
           "value": 3.3982567836046718
          },
          {
           "color_by": "Variance",
           "sample_id": 0,
           "timepoint": 42,
           "trajectory": "Variance",
           "value": 3.068283061089736
          },
          {
           "color_by": "Variance",
           "sample_id": 0,
           "timepoint": 43,
           "trajectory": "Variance",
           "value": 2.8307047335753737
          },
          {
           "color_by": "Variance",
           "sample_id": 0,
           "timepoint": 44,
           "trajectory": "Variance",
           "value": 2.723438798678359
          },
          {
           "color_by": "Variance",
           "sample_id": 0,
           "timepoint": 45,
           "trajectory": "Variance",
           "value": 2.764807295899862
          },
          {
           "color_by": "Variance",
           "sample_id": 0,
           "timepoint": 46,
           "trajectory": "Variance",
           "value": 2.9507894065369857
          },
          {
           "color_by": "Variance",
           "sample_id": 0,
           "timepoint": 47,
           "trajectory": "Variance",
           "value": 3.2556263314526
          },
          {
           "color_by": "Variance",
           "sample_id": 0,
           "timepoint": 48,
           "trajectory": "Variance",
           "value": 3.6356881840690916
          },
          {
           "color_by": "Variance",
           "sample_id": 0,
           "timepoint": 49,
           "trajectory": "Variance",
           "value": 4.03602262140222
          },
          {
           "color_by": "Variance",
           "sample_id": 0,
           "timepoint": 50,
           "trajectory": "Variance",
           "value": 4.398602500692475
          },
          {
           "color_by": "Variance",
           "sample_id": 0,
           "timepoint": 51,
           "trajectory": "Variance",
           "value": 4.671034884579389
          },
          {
           "color_by": "Variance",
           "sample_id": 0,
           "timepoint": 52,
           "trajectory": "Variance",
           "value": 4.814424485002325
          },
          {
           "color_by": "Variance",
           "sample_id": 0,
           "timepoint": 53,
           "trajectory": "Variance",
           "value": 4.8092115244906255
          },
          {
           "color_by": "Variance",
           "sample_id": 0,
           "timepoint": 54,
           "trajectory": "Variance",
           "value": 4.658107961721475
          },
          {
           "color_by": "Variance",
           "sample_id": 0,
           "timepoint": 55,
           "trajectory": "Variance",
           "value": 4.38569146123582
          },
          {
           "color_by": "Variance",
           "sample_id": 0,
           "timepoint": 56,
           "trajectory": "Variance",
           "value": 4.034718041831639
          },
          {
           "color_by": "Variance",
           "sample_id": 0,
           "timepoint": 57,
           "trajectory": "Variance",
           "value": 3.659706748694517
          },
          {
           "color_by": "Variance",
           "sample_id": 0,
           "timepoint": 58,
           "trajectory": "Variance",
           "value": 3.318759067278015
          },
          {
           "color_by": "Variance",
           "sample_id": 0,
           "timepoint": 59,
           "trajectory": "Variance",
           "value": 3.0648406998327644
          },
          {
           "color_by": "Variance",
           "sample_id": 0,
           "timepoint": 60,
           "trajectory": "Variance",
           "value": 2.9378340056979253
          },
          {
           "color_by": "Variance",
           "sample_id": 0,
           "timepoint": 61,
           "trajectory": "Variance",
           "value": 2.958553756747942
          },
          {
           "color_by": "Variance",
           "sample_id": 0,
           "timepoint": 62,
           "trajectory": "Variance",
           "value": 3.1256242346819993
          },
          {
           "color_by": "Variance",
           "sample_id": 0,
           "timepoint": 63,
           "trajectory": "Variance",
           "value": 3.4156863099513837
          },
          {
           "color_by": "Variance",
           "sample_id": 0,
           "timepoint": 64,
           "trajectory": "Variance",
           "value": 3.7869034289019368
          },
          {
           "color_by": "Variance",
           "sample_id": 0,
           "timepoint": 65,
           "trajectory": "Variance",
           "value": 4.1852403855323965
          },
          {
           "color_by": "Variance",
           "sample_id": 0,
           "timepoint": 66,
           "trajectory": "Variance",
           "value": 4.5525726567439415
          },
          {
           "color_by": "Variance",
           "sample_id": 0,
           "timepoint": 67,
           "trajectory": "Variance",
           "value": 4.835409376676859
          },
          {
           "color_by": "Variance",
           "sample_id": 0,
           "timepoint": 68,
           "trajectory": "Variance",
           "value": 4.9929209399911665
          },
          {
           "color_by": "Variance",
           "sample_id": 0,
           "timepoint": 69,
           "trajectory": "Variance",
           "value": 5.003066574576998
          },
          {
           "color_by": "Variance",
           "sample_id": 0,
           "timepoint": 70,
           "trajectory": "Variance",
           "value": 4.865902351819898
          },
          {
           "color_by": "Variance",
           "sample_id": 0,
           "timepoint": 71,
           "trajectory": "Variance",
           "value": 4.603573219569013
          },
          {
           "color_by": "Variance",
           "sample_id": 0,
           "timepoint": 72,
           "trajectory": "Variance",
           "value": 4.2569902543868645
          },
          {
           "color_by": "Variance",
           "sample_id": 0,
           "timepoint": 73,
           "trajectory": "Variance",
           "value": 3.8796917615314648
          },
          {
           "color_by": "Variance",
           "sample_id": 0,
           "timepoint": 74,
           "trajectory": "Variance",
           "value": 3.529809456415462
          },
          {
           "color_by": "Variance",
           "sample_id": 0,
           "timepoint": 75,
           "trajectory": "Variance",
           "value": 3.261345321818257
          },
          {
           "color_by": "Variance",
           "sample_id": 0,
           "timepoint": 76,
           "trajectory": "Variance",
           "value": 3.1160681783865893
          },
          {
           "color_by": "Variance",
           "sample_id": 0,
           "timepoint": 77,
           "trajectory": "Variance",
           "value": 3.1172460087530194
          },
          {
           "color_by": "Variance",
           "sample_id": 0,
           "timepoint": 78,
           "trajectory": "Variance",
           "value": 3.2661545935375482
          },
          {
           "color_by": "Variance",
           "sample_id": 0,
           "timepoint": 79,
           "trajectory": "Variance",
           "value": 3.541886390739527
          },
          {
           "color_by": "Variance",
           "sample_id": 0,
           "timepoint": 80,
           "trajectory": "Variance",
           "value": 3.9044883395892063
          },
          {
           "color_by": "Variance",
           "sample_id": 0,
           "timepoint": 81,
           "trajectory": "Variance",
           "value": 4.300957715474444
          },
          {
           "color_by": "Variance",
           "sample_id": 0,
           "timepoint": 82,
           "trajectory": "Variance",
           "value": 4.673196269631884
          },
          {
           "color_by": "Variance",
           "sample_id": 0,
           "timepoint": 83,
           "trajectory": "Variance",
           "value": 4.9667290176288645
          },
          {
           "color_by": "Variance",
           "sample_id": 0,
           "timepoint": 84,
           "trajectory": "Variance",
           "value": 5.138879293758169
          },
          {
           "color_by": "Variance",
           "sample_id": 0,
           "timepoint": 85,
           "trajectory": "Variance",
           "value": 5.165173283793229
          },
          {
           "color_by": "Variance",
           "sample_id": 0,
           "timepoint": 86,
           "trajectory": "Variance",
           "value": 5.043012941521417
          },
          {
           "color_by": "Variance",
           "sample_id": 0,
           "timepoint": 87,
           "trajectory": "Variance",
           "value": 4.792066113920167
          },
          {
           "color_by": "Variance",
           "sample_id": 0,
           "timepoint": 88,
           "trajectory": "Variance",
           "value": 4.451315331282141
          },
          {
           "color_by": "Variance",
           "sample_id": 0,
           "timepoint": 89,
           "trajectory": "Variance",
           "value": 4.073208135386622
          },
          {
           "color_by": "Variance",
           "sample_id": 0,
           "timepoint": 90,
           "trajectory": "Variance",
           "value": 3.715786775939237
          },
          {
           "color_by": "Variance",
           "sample_id": 0,
           "timepoint": 91,
           "trajectory": "Variance",
           "value": 3.4339783312025327
          },
          {
           "color_by": "Variance",
           "sample_id": 0,
           "timepoint": 92,
           "trajectory": "Variance",
           "value": 3.271352299507911
          },
          {
           "color_by": "Variance",
           "sample_id": 0,
           "timepoint": 93,
           "trajectory": "Variance",
           "value": 3.2535825573950072
          },
          {
           "color_by": "Variance",
           "sample_id": 0,
           "timepoint": 94,
           "trajectory": "Variance",
           "value": 3.3845948146551565
          },
          {
           "color_by": "Variance",
           "sample_id": 0,
           "timepoint": 95,
           "trajectory": "Variance",
           "value": 3.6459776979580205
          },
          {
           "color_by": "Variance",
           "sample_id": 0,
           "timepoint": 96,
           "trajectory": "Variance",
           "value": 3.999745838923026
          },
          {
           "color_by": "Variance",
           "sample_id": 0,
           "timepoint": 97,
           "trajectory": "Variance",
           "value": 4.394040324573592
          },
          {
           "color_by": "Variance",
           "sample_id": 0,
           "timepoint": 98,
           "trajectory": "Variance",
           "value": 4.770911073371474
          },
          {
           "color_by": "Variance",
           "sample_id": 0,
           "timepoint": 99,
           "trajectory": "Variance",
           "value": 5.075013276250639
          }
         ]
        },
        {
         "name": "points",
         "values": []
        },
        {
         "name": "markers",
         "values": []
        },
        {
         "name": "selected",
         "on": [
          {
           "remove": true,
           "trigger": "clear"
          },
          {
           "remove": true,
           "trigger": "!shift"
          },
          {
           "insert": "clicked",
           "trigger": "!shift && clicked"
          },
          {
           "toggle": "clicked",
           "trigger": "shift && clicked"
          }
         ]
        },
        {
         "name": "selectedData",
         "on": [
          {
           "remove": true,
           "trigger": "clearData"
          },
          {
           "toggle": "clickedData",
           "trigger": "clickedData"
          }
         ]
        }
       ],
       "height": 300,
       "legends": [
        {
         "encode": {
          "labels": {
           "interactive": true,
           "name": "legendLabel",
           "update": {
            "opacity": [
             {
              "test": "!length(data('selectedData')) || indata('selectedData', 'value', datum.value)",
              "value": 1
             },
             {
              "value": 0.25
             }
            ]
           }
          },
          "symbols": {
           "interactive": true,
           "name": "legendSymbol",
           "update": {
            "fill": {
             "value": "transparent"
            },
            "opacity": [
             {
              "test": "!length(data('selected')) || indata('selected', 'value', datum.value) || indata('selectedData', 'value', datum.value)",
              "value": 0.7
             },
             {
              "value": 0.15
             }
            ],
            "strokeWidth": {
             "value": 2
            }
           }
          }
         },
         "labelFontSize": 10,
         "name": "color_legend",
         "orient": "left",
         "shape": "shape1",
         "stroke": "color"
        }
       ],
       "marks": [
        {
         "from": {
          "facet": {
           "data": "points",
           "groupby": "trajectory",
           "name": "points_split"
          }
         },
         "marks": [
          {
           "encode": {
            "hover": {
             "fillOpacity": {
              "value": 0.9
             }
            },
            "update": {
             "fill": {
              "field": "trajectory",
              "scale": "color"
             },
             "fillOpacity": [
              {
               "test": "!length(data('selected')) || indata('selected', 'value', datum.trajectory)",
               "value": 0.5
              },
              {
               "value": 0.15
              }
             ],
             "size": {
              "value": 35
             },
             "stroke": {
              "field": "trajectory",
              "scale": "color"
             },
             "strokeOpacity": [
              {
               "test": "!length(data('selected')) || indata('selected', 'value', datum.trajectory)",
               "value": 0.75
              },
              {
               "value": 0.15
              }
             ],
             "strokeWidth": {
              "value": 2
             },
             "tooltip": {
              "field": "value"
             },
             "x": {
              "field": "timepoint",
              "scale": "xscale"
             },
             "y": {
              "field": "value",
              "scale": "yscale"
             }
            }
           },
           "from": {
            "data": "points_split"
           },
           "name": "_points_symbol",
           "type": "symbol",
           "zindex": 3
          },
          {
           "encode": {
            "hover": {
             "fillOpacity": {
              "value": 0.9
             }
            },
            "update": {
             "interpolate": {
              "value": "linear"
             },
             "stroke": {
              "field": "trajectory",
              "scale": "color"
             },
             "strokeDash": {
              "value": [
               5,
               3
              ]
             },
             "strokeOpacity": [
              {
               "test": "!length(data('selected')) || indata('selected', 'value', datum.trajectory)",
               "value": 0.3
              },
              {
               "value": 0.1
              }
             ],
             "strokeWidth": {
              "value": 2
             },
             "x": {
              "field": "timepoint",
              "scale": "xscale"
             },
             "y": {
              "field": "value",
              "scale": "yscale"
             }
            }
           },
           "from": {
            "data": "points_split"
           },
           "name": "_points_line",
           "type": "line",
           "zindex": 3
          }
         ],
         "name": "_points",
         "type": "group",
         "zindex": 3
        },
        {
         "from": {
          "facet": {
           "data": "traces",
           "groupby": "trajectory",
           "name": "traces_split"
          }
         },
         "marks": [
          {
           "encode": {
            "hover": {
             "fillOpacity": {
              "value": 0.9
             }
            },
            "update": {
             "interpolate": {
              "value": "linear"
             },
             "stroke": {
              "field": "trajectory",
              "scale": "color"
             },
             "strokeDash": [
              {
               "test": "indexof(datum.trajectory, 'Baseline') != -1 || indexof(datum.trajectory, 'Envelope') != -1",
               "value": [
                8,
                4
               ]
              },
              {
               "value": [
                1,
                0
               ]
              }
             ],
             "strokeOpacity": [
              {
               "test": "!length(data('selected')) || indata('selected', 'value', datum.trajectory)",
               "value": 0.75
              },
              {
               "value": 0.15
              }
             ],
             "strokeWidth": {
              "value": 2
             },
             "x": {
              "field": "timepoint",
              "scale": "xscale"
             },
             "y": {
              "field": "value",
              "scale": "yscale"
             }
            }
           },
           "from": {
            "data": "traces_split"
           },
           "name": "_traces_lines",
           "type": "line"
          },
          {
           "encode": {
            "hover": {
             "fillOpacity": {
              "value": 0.9
             }
            },
            "update": {
             "fill": {
              "field": "trajectory",
              "scale": "color"
             },
             "fillOpacity": [
              {
               "test": "datum.timepoint == scale('symbol_placement', datum.trajectory)",
               "value": 0.5
              },
              {
               "value": 0
              }
             ],
             "shape": {
              "field": "trajectory",
              "scale": "shape1"
             },
             "stroke": {
              "field": "trajectory",
              "scale": "color"
             },
             "strokeOpacity": [
              {
               "test": "datum.timepoint == scale('symbol_placement', datum.trajectory)",
               "value": 0.5
              },
              {
               "value": 0
              }
             ],
             "strokeWidth": {
              "value": 1
             },
             "x": {
              "field": "timepoint",
              "scale": "xscale"
             },
             "y": {
              "field": "value",
              "scale": "yscale"
             }
            }
           },
           "from": {
            "data": "traces_split"
           },
           "name": "_traces_symbol",
           "type": "symbol"
          }
         ],
         "name": "_traces",
         "type": "group",
         "zindex": 2
        },
        {
         "from": {
          "facet": {
           "data": "distributions",
           "groupby": "trajectory",
           "name": "trajectory_split"
          }
         },
         "marks": [
          {
           "encode": {
            "hover": {
             "fillOpacity": {
              "value": 0.9
             }
            },
            "update": {
             "fill": {
              "field": "trajectory",
              "scale": "color"
             },
             "fillOpacity": [
              {
               "test": "!length(data('selected')) || indata('selected', 'value', datum.trajectory)",
               "value": 0.1
              },
              {
               "value": 0.05
              }
             ],
             "interpolate": {
              "value": "linear"
             },
             "stroke": {
              "field": "trajectory",
              "scale": "color"
             },
             "strokeOpacity": [
              {
               "test": "!length(data('selected')) || indata('selected', 'value', datum.trajectory)",
               "value": 0.1
              },
              {
               "value": 0.05
              }
             ],
             "strokeWidth": {
              "value": 2
             },
             "x": {
              "field": "timepoint",
              "scale": "xscale"
             },
             "y": {
              "field": "upper",
              "scale": "yscale"
             },
             "y2": {
              "field": "lower",
              "scale": "yscale"
             }
            }
           },
           "from": {
            "data": "trajectory_split"
           },
           "interactive": true,
           "name": "area",
           "type": "area"
          }
         ],
         "name": "_distributions",
         "type": "group",
         "zindex": 1
        },
        {
         "marks": [
          {
           "encode": {
            "enter": {
             "stroke": {
              "value": "lightgray"
             }
            },
            "update": {
             "opacity": {
              "value": 1
             },
             "x": {
              "field": "timepoint",
              "scale": "xscale"
             },
             "y": {
              "signal": "height"
             },
             "y2": {
              "value": 0
             }
            }
           },
           "from": {
            "data": "markers"
           },
           "name": "_marker text",
           "type": "rule"
          },
          {
           "encode": {
            "enter": {
             "fontSize": {
              "value": 8
             },
             "text": {
              "field": "datum.label"
             },
             "y": {
              "value": 0
             }
            }
           },
           "from": {
            "data": "_marker text"
           },
           "name": "_marker flags",
           "transform": [
            {
             "as": [
              "x",
              "_y",
              "opacity",
              "align",
              "baseline"
             ],
             "lineAnchor": "start",
             "offset": [
              1
             ],
             "size": {
              "signal": "[width, height]"
             },
             "type": "label"
            }
           ],
           "type": "text"
          }
         ],
         "name": "_markers",
         "type": "group"
        }
       ],
       "scales": [
        {
         "domain": {
          "fields": [
           {
            "data": "distributions",
            "field": "timepoint"
           },
           {
            "data": "traces",
            "field": "timepoint"
           },
           {
            "data": "points",
            "field": "timepoint"
           },
           {
            "data": "markers",
            "field": "timepoint"
           }
          ]
         },
         "name": "xscale",
         "range": "width",
         "type": "linear",
         "zero": false
        },
        {
         "domain": {
          "fields": [
           {
            "data": "distributions",
            "field": "lower"
           },
           {
            "data": "distributions",
            "field": "upper"
           },
           {
            "data": "traces",
            "field": "value"
           },
           {
            "data": "points",
            "field": "value"
           }
          ]
         },
         "name": "yscale",
         "nice": true,
         "range": "height",
         "type": "linear",
         "zero": true
        },
        {
         "domain": {
          "fields": [
           {
            "data": "distributions",
            "field": "trajectory"
           },
           {
            "data": "traces",
            "field": "trajectory"
           },
           {
            "data": "points",
            "field": "trajectory"
           }
          ],
          "sort": {
           "order": "ascending"
          }
         },
         "name": "color",
         "range": "category",
         "type": "ordinal"
        },
        {
         "domain": {
          "fields": [
           {
            "data": "distributions",
            "field": "trajectory"
           },
           {
            "data": "traces",
            "field": "trajectory"
           },
           {
            "data": "points",
            "field": "trajectory"
           }
          ],
          "sort": {
           "order": "descending"
          }
         },
         "name": "shape1",
         "range": [
          "circle",
          "square",
          "cross",
          "diamond",
          "triangle-up",
          "triangle-down",
          "triangle-right",
          "triangle-left",
          "arrow",
          "wedge",
          "triangle"
         ],
         "type": "ordinal"
        },
        {
         "domain": {
          "fields": [
           {
            "data": "distributions",
            "field": "trajectory"
           },
           {
            "data": "traces",
            "field": "trajectory"
           },
           {
            "data": "points",
            "field": "trajectory"
           }
          ],
          "sort": {
           "order": "descending"
          }
         },
         "name": "symbol_placement",
         "range": [
          10,
          20,
          30,
          40,
          50,
          60,
          70,
          80
         ],
         "type": "ordinal"
        }
       ],
       "signals": [
        {
         "name": "clear",
         "on": [
          {
           "events": "mouseup[!event.item]",
           "force": true,
           "update": "true"
          }
         ],
         "value": true
        },
        {
         "name": "shift",
         "on": [
          {
           "events": "@legendSymbol:click, @legendLabel:click",
           "force": true,
           "update": "event.shiftKey"
          }
         ],
         "value": false
        },
        {
         "name": "clicked",
         "on": [
          {
           "events": "@legendSymbol:click, @legendLabel:click",
           "force": true,
           "update": "{value: datum.value}"
          }
         ],
         "value": null
        },
        {
         "name": "clearData",
         "on": [
          {
           "events": "mouseup[!event.item]",
           "force": true,
           "update": "true"
          }
         ],
         "value": true
        },
        {
         "name": "clickedData",
         "on": [
          {
           "events": "@area:click",
           "force": true,
           "update": "{value: datum.trajectory}"
          }
         ],
         "value": null
        }
       ],
       "width": 500
      }
     },
     "metadata": {},
     "output_type": "display_data"
    },
    {
     "name": "stderr",
     "output_type": "stream",
     "text": [
      "/var/folders/vn/q5vrjvfn60bfsnnd058cb6ww0000gn/T/ipykernel_52731/3673542801.py:108: FutureWarning: The provided callable <function mean at 0x11924a170> is currently using DataFrameGroupBy.mean. In a future version of pandas, the provided callable will be used directly. To keep current behavior pass the string \"mean\" instead.\n",
      "  parameters_by_sample_id = all_parameters_cluster.groupby(\"sample_id\").agg(np.mean)\n",
      "/var/folders/vn/q5vrjvfn60bfsnnd058cb6ww0000gn/T/ipykernel_52731/3673542801.py:109: FutureWarning: The provided callable <function mean at 0x11924a170> is currently using Series.mean. In a future version of pandas, the provided callable will be used directly. To keep current behavior pass the string \"mean\" instead.\n",
      "  parameters_by_sample_id  = parameters_by_sample_id.agg([np.mean, np.std]).reset_index()\n",
      "/var/folders/vn/q5vrjvfn60bfsnnd058cb6ww0000gn/T/ipykernel_52731/3673542801.py:109: FutureWarning: The provided callable <function std at 0x11924a290> is currently using Series.std. In a future version of pandas, the provided callable will be used directly. To keep current behavior pass the string \"std\" instead.\n",
      "  parameters_by_sample_id  = parameters_by_sample_id.agg([np.mean, np.std]).reset_index()\n"
     ]
    },
    {
     "name": "stdout",
     "output_type": "stream",
     "text": [
      "\n"
     ]
    },
    {
     "data": {
      "application/vnd.vega.v5+json": {
       "$schema": "https://vega.github.io/schema/vega/v5.json",
       "axes": [
        {
         "name": "x_axis",
         "orient": "bottom",
         "scale": "xscale",
         "zindex": 100
        },
        {
         "name": "y_axis",
         "orient": "left",
         "scale": "yscale",
         "zindex": 100
        }
       ],
       "background": "white",
       "data": [
        {
         "name": "distributions",
         "transform": [
          {
           "sort": {
            "field": [
             "trajectory",
             "timepoint"
            ]
           },
           "type": "collect"
          }
         ],
         "values": [
          {
           "lower": 0.08014476203549192,
           "timepoint": 0,
           "trajectory": "_Envelope",
           "upper": 1.7281533549795438
          },
          {
           "lower": 1.167703289404299,
           "timepoint": 1,
           "trajectory": "_Envelope",
           "upper": 2.8209645087461297
          },
          {
           "lower": 1.4427601962303314,
           "timepoint": 2,
           "trajectory": "_Envelope",
           "upper": 3.0621087014563515
          },
          {
           "lower": 1.5950900721692993,
           "timepoint": 3,
           "trajectory": "_Envelope",
           "upper": 3.297100924310582
          },
          {
           "lower": 1.7186400727947175,
           "timepoint": 4,
           "trajectory": "_Envelope",
           "upper": 3.4988251010132805
          },
          {
           "lower": 1.8251157686229011,
           "timepoint": 5,
           "trajectory": "_Envelope",
           "upper": 3.6776006346007204
          },
          {
           "lower": 1.920104675427684,
           "timepoint": 6,
           "trajectory": "_Envelope",
           "upper": 3.837720551113405
          },
          {
           "lower": 1.992956426143145,
           "timepoint": 7,
           "trajectory": "_Envelope",
           "upper": 3.981140149156866
          },
          {
           "lower": 2.0687743692246148,
           "timepoint": 8,
           "trajectory": "_Envelope",
           "upper": 4.1087566946293155
          },
          {
           "lower": 2.146562528009672,
           "timepoint": 9,
           "trajectory": "_Envelope",
           "upper": 4.2209618511772575
          },
          {
           "lower": 2.2200403567390365,
           "timepoint": 10,
           "trajectory": "_Envelope",
           "upper": 4.317916944881794
          },
          {
           "lower": 2.284025096790883,
           "timepoint": 11,
           "trajectory": "_Envelope",
           "upper": 4.399704544302343
          },
          {
           "lower": 2.344068560247034,
           "timepoint": 12,
           "trajectory": "_Envelope",
           "upper": 4.466417806392015
          },
          {
           "lower": 2.4015405455809775,
           "timepoint": 13,
           "trajectory": "_Envelope",
           "upper": 4.490618477189148
          },
          {
           "lower": 2.4567481765103687,
           "timepoint": 14,
           "trajectory": "_Envelope",
           "upper": 4.489883552876539
          },
          {
           "lower": 2.509937602505486,
           "timepoint": 15,
           "trajectory": "_Envelope",
           "upper": 4.553892209084992
          },
          {
           "lower": 2.561308934744354,
           "timepoint": 16,
           "trajectory": "_Envelope",
           "upper": 4.583240448595362
          },
          {
           "lower": 2.590401548865827,
           "timepoint": 17,
           "trajectory": "_Envelope",
           "upper": 4.592649356392453
          },
          {
           "lower": 2.468697836675225,
           "timepoint": 18,
           "trajectory": "_Envelope",
           "upper": 4.586439921320284
          },
          {
           "lower": 2.4592170103510367,
           "timepoint": 19,
           "trajectory": "_Envelope",
           "upper": 4.56810047209848
          },
          {
           "lower": 2.3387186048222928,
           "timepoint": 20,
           "trajectory": "_Envelope",
           "upper": 4.538287315303246
          },
          {
           "lower": 2.2064634202171867,
           "timepoint": 21,
           "trajectory": "_Envelope",
           "upper": 4.558910004936581
          },
          {
           "lower": 2.0870318135742654,
           "timepoint": 22,
           "trajectory": "_Envelope",
           "upper": 4.581395668326481
          },
          {
           "lower": 1.9847747670501688,
           "timepoint": 23,
           "trajectory": "_Envelope",
           "upper": 4.627876199298218
          },
          {
           "lower": 1.9034953952114657,
           "timepoint": 24,
           "trajectory": "_Envelope",
           "upper": 4.669134993901164
          },
          {
           "lower": 1.8463392707027164,
           "timepoint": 25,
           "trajectory": "_Envelope",
           "upper": 4.700727112147501
          },
          {
           "lower": 1.7772537589004367,
           "timepoint": 26,
           "trajectory": "_Envelope",
           "upper": 4.728528908691004
          },
          {
           "lower": 1.7518325937821475,
           "timepoint": 27,
           "trajectory": "_Envelope",
           "upper": 4.752572872817437
          },
          {
           "lower": 1.7001804028980834,
           "timepoint": 28,
           "trajectory": "_Envelope",
           "upper": 4.772897886659035
          },
          {
           "lower": 1.676557898455032,
           "timepoint": 29,
           "trajectory": "_Envelope",
           "upper": 4.78880534405073
          },
          {
           "lower": 1.67587848413119,
           "timepoint": 30,
           "trajectory": "_Envelope",
           "upper": 4.793138449888174
          },
          {
           "lower": 1.6986543839481882,
           "timepoint": 31,
           "trajectory": "_Envelope",
           "upper": 4.793381830914353
          },
          {
           "lower": 1.768216278272624,
           "timepoint": 32,
           "trajectory": "_Envelope",
           "upper": 4.793281417301727
          },
          {
           "lower": 1.8003670059187376,
           "timepoint": 33,
           "trajectory": "_Envelope",
           "upper": 4.789427155078469
          },
          {
           "lower": 1.866009644100388,
           "timepoint": 34,
           "trajectory": "_Envelope",
           "upper": 4.78871078211378
          },
          {
           "lower": 1.8394909213858506,
           "timepoint": 35,
           "trajectory": "_Envelope",
           "upper": 4.784847458200107
          },
          {
           "lower": 1.7826455795653375,
           "timepoint": 36,
           "trajectory": "_Envelope",
           "upper": 4.807284533872062
          },
          {
           "lower": 1.7408492982059254,
           "timepoint": 37,
           "trajectory": "_Envelope",
           "upper": 4.834862638195306
          },
          {
           "lower": 1.810783270447185,
           "timepoint": 38,
           "trajectory": "_Envelope",
           "upper": 4.861046789534717
          },
          {
           "lower": 1.9174672730165503,
           "timepoint": 39,
           "trajectory": "_Envelope",
           "upper": 4.885842225806252
          },
          {
           "lower": 2.037191365375389,
           "timepoint": 40,
           "trajectory": "_Envelope",
           "upper": 4.909254388665444
          },
          {
           "lower": 2.1678513951562244,
           "timepoint": 41,
           "trajectory": "_Envelope",
           "upper": 4.931289033774802
          },
          {
           "lower": 2.307122460309658,
           "timepoint": 42,
           "trajectory": "_Envelope",
           "upper": 4.951952328004811
          },
          {
           "lower": 2.311551653005847,
           "timepoint": 43,
           "trajectory": "_Envelope",
           "upper": 4.971250935117665
          },
          {
           "lower": 2.2880477884862325,
           "timepoint": 44,
           "trajectory": "_Envelope",
           "upper": 4.989192091242047
          },
          {
           "lower": 2.2716889657564026,
           "timepoint": 45,
           "trajectory": "_Envelope",
           "upper": 5.091485913474989
          },
          {
           "lower": 2.2940375977159997,
           "timepoint": 46,
           "trajectory": "_Envelope",
           "upper": 5.186059985548971
          },
          {
           "lower": 2.3295502687864915,
           "timepoint": 47,
           "trajectory": "_Envelope",
           "upper": 5.245457440579146
          },
          {
           "lower": 2.314737950246789,
           "timepoint": 48,
           "trajectory": "_Envelope",
           "upper": 5.276131787069748
          },
          {
           "lower": 2.3079711771213742,
           "timepoint": 49,
           "trajectory": "_Envelope",
           "upper": 5.302598633415355
          },
          {
           "lower": 2.309432020878495,
           "timepoint": 50,
           "trajectory": "_Envelope",
           "upper": 5.332169071581148
          },
          {
           "lower": 2.3192298873357005,
           "timepoint": 51,
           "trajectory": "_Envelope",
           "upper": 5.353503788744559
          },
          {
           "lower": 2.3374006713876705,
           "timepoint": 52,
           "trajectory": "_Envelope",
           "upper": 5.357293821755115
          },
          {
           "lower": 2.367897261422883,
           "timepoint": 53,
           "trajectory": "_Envelope",
           "upper": 5.343962859804156
          },
          {
           "lower": 2.4143978377903106,
           "timepoint": 54,
           "trajectory": "_Envelope",
           "upper": 5.3112009479228774
          },
          {
           "lower": 2.5029982396446684,
           "timepoint": 55,
           "trajectory": "_Envelope",
           "upper": 5.260115904202235
          },
          {
           "lower": 2.6115889200625486,
           "timepoint": 56,
           "trajectory": "_Envelope",
           "upper": 5.192241598261607
          },
          {
           "lower": 2.5684040466148566,
           "timepoint": 57,
           "trajectory": "_Envelope",
           "upper": 5.211429223389113
          },
          {
           "lower": 2.6150794275067075,
           "timepoint": 58,
           "trajectory": "_Envelope",
           "upper": 5.26606481751095
          },
          {
           "lower": 2.575277231659076,
           "timepoint": 59,
           "trajectory": "_Envelope",
           "upper": 5.30689828302281
          },
          {
           "lower": 2.6212313587127234,
           "timepoint": 60,
           "trajectory": "_Envelope",
           "upper": 5.331899546532268
          },
          {
           "lower": 2.6560041247752477,
           "timepoint": 61,
           "trajectory": "_Envelope",
           "upper": 5.341524920106865
          },
          {
           "lower": 2.539392422499535,
           "timepoint": 62,
           "trajectory": "_Envelope",
           "upper": 5.336586262941607
          },
          {
           "lower": 2.4389508201043846,
           "timepoint": 63,
           "trajectory": "_Envelope",
           "upper": 5.317337058987181
          },
          {
           "lower": 2.4029785904339795,
           "timepoint": 64,
           "trajectory": "_Envelope",
           "upper": 5.284267221172802
          },
          {
           "lower": 2.4802303710023246,
           "timepoint": 65,
           "trajectory": "_Envelope",
           "upper": 5.238094938957099
          },
          {
           "lower": 2.5367060894871982,
           "timepoint": 66,
           "trajectory": "_Envelope",
           "upper": 5.283263499420759
          },
          {
           "lower": 2.4982448148378977,
           "timepoint": 67,
           "trajectory": "_Envelope",
           "upper": 5.343320775812361
          },
          {
           "lower": 2.469330350701561,
           "timepoint": 68,
           "trajectory": "_Envelope",
           "upper": 5.394412911014935
          },
          {
           "lower": 2.4649548777003085,
           "timepoint": 69,
           "trajectory": "_Envelope",
           "upper": 5.436034204097518
          },
          {
           "lower": 2.3689026716812154,
           "timepoint": 70,
           "trajectory": "_Envelope",
           "upper": 5.467788992688112
          },
          {
           "lower": 2.297275915387981,
           "timepoint": 71,
           "trajectory": "_Envelope",
           "upper": 5.489082232295298
          },
          {
           "lower": 2.369591942755617,
           "timepoint": 72,
           "trajectory": "_Envelope",
           "upper": 5.5093704009845945
          },
          {
           "lower": 2.4707853437357103,
           "timepoint": 73,
           "trajectory": "_Envelope",
           "upper": 5.5161782575291305
          },
          {
           "lower": 2.5312647331082396,
           "timepoint": 74,
           "trajectory": "_Envelope",
           "upper": 5.511159167986249
          },
          {
           "lower": 2.55021663513908,
           "timepoint": 75,
           "trajectory": "_Envelope",
           "upper": 5.494495011110241
          },
          {
           "lower": 2.575424048463052,
           "timepoint": 76,
           "trajectory": "_Envelope",
           "upper": 5.466503979493244
          },
          {
           "lower": 2.6492739258736253,
           "timepoint": 77,
           "trajectory": "_Envelope",
           "upper": 5.43589594973099
          },
          {
           "lower": 2.766950977657329,
           "timepoint": 78,
           "trajectory": "_Envelope",
           "upper": 5.42015483951288
          },
          {
           "lower": 2.757221794834378,
           "timepoint": 79,
           "trajectory": "_Envelope",
           "upper": 5.4022387439990736
          },
          {
           "lower": 2.6758847991700256,
           "timepoint": 80,
           "trajectory": "_Envelope",
           "upper": 5.382247284803528
          },
          {
           "lower": 2.6802288215792367,
           "timepoint": 81,
           "trajectory": "_Envelope",
           "upper": 5.360296942183037
          },
          {
           "lower": 2.696773352427641,
           "timepoint": 82,
           "trajectory": "_Envelope",
           "upper": 5.333207221106864
          },
          {
           "lower": 2.7280010125810175,
           "timepoint": 83,
           "trajectory": "_Envelope",
           "upper": 5.320894729286088
          },
          {
           "lower": 2.782171259616871,
           "timepoint": 84,
           "trajectory": "_Envelope",
           "upper": 5.325201211444629
          },
          {
           "lower": 2.8405879918643016,
           "timepoint": 85,
           "trajectory": "_Envelope",
           "upper": 5.326334236632078
          },
          {
           "lower": 2.897046163201427,
           "timepoint": 86,
           "trajectory": "_Envelope",
           "upper": 5.378699644821803
          },
          {
           "lower": 2.945245164177758,
           "timepoint": 87,
           "trajectory": "_Envelope",
           "upper": 5.494122998033724
          },
          {
           "lower": 2.9604692046636014,
           "timepoint": 88,
           "trajectory": "_Envelope",
           "upper": 5.591467202230688
          },
          {
           "lower": 3.0036327200421837,
           "timepoint": 89,
           "trajectory": "_Envelope",
           "upper": 5.668636934476879
          },
          {
           "lower": 3.0189069573854086,
           "timepoint": 90,
           "trajectory": "_Envelope",
           "upper": 5.7240166833624775
          },
          {
           "lower": 3.007744887302966,
           "timepoint": 91,
           "trajectory": "_Envelope",
           "upper": 5.754314049834388
          },
          {
           "lower": 2.88819543749051,
           "timepoint": 92,
           "trajectory": "_Envelope",
           "upper": 5.710793207548047
          },
          {
           "lower": 2.775644364605122,
           "timepoint": 93,
           "trajectory": "_Envelope",
           "upper": 5.64474349280857
          },
          {
           "lower": 2.7076621079707044,
           "timepoint": 94,
           "trajectory": "_Envelope",
           "upper": 5.558040562686272
          },
          {
           "lower": 2.678176735066044,
           "timepoint": 95,
           "trajectory": "_Envelope",
           "upper": 5.455432594087702
          },
          {
           "lower": 2.763625146883407,
           "timepoint": 96,
           "trajectory": "_Envelope",
           "upper": 5.484654606123996
          },
          {
           "lower": 2.7459298403073817,
           "timepoint": 97,
           "trajectory": "_Envelope",
           "upper": 5.524540725118072
          },
          {
           "lower": 2.7155850040415666,
           "timepoint": 98,
           "trajectory": "_Envelope",
           "upper": 5.483839577500379
          },
          {
           "lower": 2.7151456756026877,
           "timepoint": 99,
           "trajectory": "_Envelope",
           "upper": 5.471513358204666
          }
         ]
        },
        {
         "name": "traces",
         "transform": [
          {
           "expr": "isValid(datum.value)",
           "type": "filter"
          },
          {
           "sort": {
            "field": [
             "trajectory",
             "timepoint"
            ]
           },
           "type": "collect"
          }
         ],
         "values": [
          {
           "color_by": "Envelope Mean",
           "sample_id": 0,
           "timepoint": 0,
           "trajectory": "Envelope_Mean",
           "value": 0.9041490585075178
          },
          {
           "color_by": "Envelope Mean",
           "sample_id": 0,
           "timepoint": 1,
           "trajectory": "Envelope_Mean",
           "value": 1.9943338990752144
          },
          {
           "color_by": "Envelope Mean",
           "sample_id": 0,
           "timepoint": 2,
           "trajectory": "Envelope_Mean",
           "value": 2.252434448843341
          },
          {
           "color_by": "Envelope Mean",
           "sample_id": 0,
           "timepoint": 3,
           "trajectory": "Envelope_Mean",
           "value": 2.4460954982399405
          },
          {
           "color_by": "Envelope Mean",
           "sample_id": 0,
           "timepoint": 4,
           "trajectory": "Envelope_Mean",
           "value": 2.608732586903999
          },
          {
           "color_by": "Envelope Mean",
           "sample_id": 0,
           "timepoint": 5,
           "trajectory": "Envelope_Mean",
           "value": 2.7513582016118105
          },
          {
           "color_by": "Envelope Mean",
           "sample_id": 0,
           "timepoint": 6,
           "trajectory": "Envelope_Mean",
           "value": 2.8789126132705447
          },
          {
           "color_by": "Envelope Mean",
           "sample_id": 0,
           "timepoint": 7,
           "trajectory": "Envelope_Mean",
           "value": 2.9870482876500053
          },
          {
           "color_by": "Envelope Mean",
           "sample_id": 0,
           "timepoint": 8,
           "trajectory": "Envelope_Mean",
           "value": 3.088765531926965
          },
          {
           "color_by": "Envelope Mean",
           "sample_id": 0,
           "timepoint": 9,
           "trajectory": "Envelope_Mean",
           "value": 3.1837621895934647
          },
          {
           "color_by": "Envelope Mean",
           "sample_id": 0,
           "timepoint": 10,
           "trajectory": "Envelope_Mean",
           "value": 3.268978650810415
          },
          {
           "color_by": "Envelope Mean",
           "sample_id": 0,
           "timepoint": 11,
           "trajectory": "Envelope_Mean",
           "value": 3.341864820546613
          },
          {
           "color_by": "Envelope Mean",
           "sample_id": 0,
           "timepoint": 12,
           "trajectory": "Envelope_Mean",
           "value": 3.4052431833195245
          },
          {
           "color_by": "Envelope Mean",
           "sample_id": 0,
           "timepoint": 13,
           "trajectory": "Envelope_Mean",
           "value": 3.446079511385063
          },
          {
           "color_by": "Envelope Mean",
           "sample_id": 0,
           "timepoint": 14,
           "trajectory": "Envelope_Mean",
           "value": 3.473315864693454
          },
          {
           "color_by": "Envelope Mean",
           "sample_id": 0,
           "timepoint": 15,
           "trajectory": "Envelope_Mean",
           "value": 3.5319149057952393
          },
          {
           "color_by": "Envelope Mean",
           "sample_id": 0,
           "timepoint": 16,
           "trajectory": "Envelope_Mean",
           "value": 3.5722746916698576
          },
          {
           "color_by": "Envelope Mean",
           "sample_id": 0,
           "timepoint": 17,
           "trajectory": "Envelope_Mean",
           "value": 3.5915254526291402
          },
          {
           "color_by": "Envelope Mean",
           "sample_id": 0,
           "timepoint": 18,
           "trajectory": "Envelope_Mean",
           "value": 3.5275688789977546
          },
          {
           "color_by": "Envelope Mean",
           "sample_id": 0,
           "timepoint": 19,
           "trajectory": "Envelope_Mean",
           "value": 3.5136587412247584
          },
          {
           "color_by": "Envelope Mean",
           "sample_id": 0,
           "timepoint": 20,
           "trajectory": "Envelope_Mean",
           "value": 3.4385029600627695
          },
          {
           "color_by": "Envelope Mean",
           "sample_id": 0,
           "timepoint": 21,
           "trajectory": "Envelope_Mean",
           "value": 3.382686712576884
          },
          {
           "color_by": "Envelope Mean",
           "sample_id": 0,
           "timepoint": 22,
           "trajectory": "Envelope_Mean",
           "value": 3.334213740950373
          },
          {
           "color_by": "Envelope Mean",
           "sample_id": 0,
           "timepoint": 23,
           "trajectory": "Envelope_Mean",
           "value": 3.3063254831741933
          },
          {
           "color_by": "Envelope Mean",
           "sample_id": 0,
           "timepoint": 24,
           "trajectory": "Envelope_Mean",
           "value": 3.2863151945563147
          },
          {
           "color_by": "Envelope Mean",
           "sample_id": 0,
           "timepoint": 25,
           "trajectory": "Envelope_Mean",
           "value": 3.2735331914251087
          },
          {
           "color_by": "Envelope Mean",
           "sample_id": 0,
           "timepoint": 26,
           "trajectory": "Envelope_Mean",
           "value": 3.2528913337957204
          },
          {
           "color_by": "Envelope Mean",
           "sample_id": 0,
           "timepoint": 27,
           "trajectory": "Envelope_Mean",
           "value": 3.252202733299792
          },
          {
           "color_by": "Envelope Mean",
           "sample_id": 0,
           "timepoint": 28,
           "trajectory": "Envelope_Mean",
           "value": 3.236539144778559
          },
          {
           "color_by": "Envelope Mean",
           "sample_id": 0,
           "timepoint": 29,
           "trajectory": "Envelope_Mean",
           "value": 3.232681621252881
          },
          {
           "color_by": "Envelope Mean",
           "sample_id": 0,
           "timepoint": 30,
           "trajectory": "Envelope_Mean",
           "value": 3.234508467009682
          },
          {
           "color_by": "Envelope Mean",
           "sample_id": 0,
           "timepoint": 31,
           "trajectory": "Envelope_Mean",
           "value": 3.246018107431271
          },
          {
           "color_by": "Envelope Mean",
           "sample_id": 0,
           "timepoint": 32,
           "trajectory": "Envelope_Mean",
           "value": 3.2807488477871756
          },
          {
           "color_by": "Envelope Mean",
           "sample_id": 0,
           "timepoint": 33,
           "trajectory": "Envelope_Mean",
           "value": 3.294897080498603
          },
          {
           "color_by": "Envelope Mean",
           "sample_id": 0,
           "timepoint": 34,
           "trajectory": "Envelope_Mean",
           "value": 3.327360213107084
          },
          {
           "color_by": "Envelope Mean",
           "sample_id": 0,
           "timepoint": 35,
           "trajectory": "Envelope_Mean",
           "value": 3.312169189792979
          },
          {
           "color_by": "Envelope Mean",
           "sample_id": 0,
           "timepoint": 36,
           "trajectory": "Envelope_Mean",
           "value": 3.2949650567187
          },
          {
           "color_by": "Envelope Mean",
           "sample_id": 0,
           "timepoint": 37,
           "trajectory": "Envelope_Mean",
           "value": 3.2878559682006157
          },
          {
           "color_by": "Envelope Mean",
           "sample_id": 0,
           "timepoint": 38,
           "trajectory": "Envelope_Mean",
           "value": 3.335915029990951
          },
          {
           "color_by": "Envelope Mean",
           "sample_id": 0,
           "timepoint": 39,
           "trajectory": "Envelope_Mean",
           "value": 3.401654749411401
          },
          {
           "color_by": "Envelope Mean",
           "sample_id": 0,
           "timepoint": 40,
           "trajectory": "Envelope_Mean",
           "value": 3.473222877020416
          },
          {
           "color_by": "Envelope Mean",
           "sample_id": 0,
           "timepoint": 41,
           "trajectory": "Envelope_Mean",
           "value": 3.549570214465513
          },
          {
           "color_by": "Envelope Mean",
           "sample_id": 0,
           "timepoint": 42,
           "trajectory": "Envelope_Mean",
           "value": 3.629537394157235
          },
          {
           "color_by": "Envelope Mean",
           "sample_id": 0,
           "timepoint": 43,
           "trajectory": "Envelope_Mean",
           "value": 3.6414012940617555
          },
          {
           "color_by": "Envelope Mean",
           "sample_id": 0,
           "timepoint": 44,
           "trajectory": "Envelope_Mean",
           "value": 3.6386199398641397
          },
          {
           "color_by": "Envelope Mean",
           "sample_id": 0,
           "timepoint": 45,
           "trajectory": "Envelope_Mean",
           "value": 3.6815874396156953
          },
          {
           "color_by": "Envelope Mean",
           "sample_id": 0,
           "timepoint": 46,
           "trajectory": "Envelope_Mean",
           "value": 3.740048791632485
          },
          {
           "color_by": "Envelope Mean",
           "sample_id": 0,
           "timepoint": 47,
           "trajectory": "Envelope_Mean",
           "value": 3.787503854682819
          },
          {
           "color_by": "Envelope Mean",
           "sample_id": 0,
           "timepoint": 48,
           "trajectory": "Envelope_Mean",
           "value": 3.7954348686582686
          },
          {
           "color_by": "Envelope Mean",
           "sample_id": 0,
           "timepoint": 49,
           "trajectory": "Envelope_Mean",
           "value": 3.8052849052683646
          },
          {
           "color_by": "Envelope Mean",
           "sample_id": 0,
           "timepoint": 50,
           "trajectory": "Envelope_Mean",
           "value": 3.8208005462298216
          },
          {
           "color_by": "Envelope Mean",
           "sample_id": 0,
           "timepoint": 51,
           "trajectory": "Envelope_Mean",
           "value": 3.8363668380401297
          },
          {
           "color_by": "Envelope Mean",
           "sample_id": 0,
           "timepoint": 52,
           "trajectory": "Envelope_Mean",
           "value": 3.8473472465713927
          },
          {
           "color_by": "Envelope Mean",
           "sample_id": 0,
           "timepoint": 53,
           "trajectory": "Envelope_Mean",
           "value": 3.8559300606135194
          },
          {
           "color_by": "Envelope Mean",
           "sample_id": 0,
           "timepoint": 54,
           "trajectory": "Envelope_Mean",
           "value": 3.8627993928565942
          },
          {
           "color_by": "Envelope Mean",
           "sample_id": 0,
           "timepoint": 55,
           "trajectory": "Envelope_Mean",
           "value": 3.8815570719234516
          },
          {
           "color_by": "Envelope Mean",
           "sample_id": 0,
           "timepoint": 56,
           "trajectory": "Envelope_Mean",
           "value": 3.9019152591620774
          },
          {
           "color_by": "Envelope Mean",
           "sample_id": 0,
           "timepoint": 57,
           "trajectory": "Envelope_Mean",
           "value": 3.8899166350019847
          },
          {
           "color_by": "Envelope Mean",
           "sample_id": 0,
           "timepoint": 58,
           "trajectory": "Envelope_Mean",
           "value": 3.9405721225088284
          },
          {
           "color_by": "Envelope Mean",
           "sample_id": 0,
           "timepoint": 59,
           "trajectory": "Envelope_Mean",
           "value": 3.9410877573409433
          },
          {
           "color_by": "Envelope Mean",
           "sample_id": 0,
           "timepoint": 60,
           "trajectory": "Envelope_Mean",
           "value": 3.976565452622496
          },
          {
           "color_by": "Envelope Mean",
           "sample_id": 0,
           "timepoint": 61,
           "trajectory": "Envelope_Mean",
           "value": 3.998764522441056
          },
          {
           "color_by": "Envelope Mean",
           "sample_id": 0,
           "timepoint": 62,
           "trajectory": "Envelope_Mean",
           "value": 3.937989342720571
          },
          {
           "color_by": "Envelope Mean",
           "sample_id": 0,
           "timepoint": 63,
           "trajectory": "Envelope_Mean",
           "value": 3.8781439395457826
          },
          {
           "color_by": "Envelope Mean",
           "sample_id": 0,
           "timepoint": 64,
           "trajectory": "Envelope_Mean",
           "value": 3.8436229058033904
          },
          {
           "color_by": "Envelope Mean",
           "sample_id": 0,
           "timepoint": 65,
           "trajectory": "Envelope_Mean",
           "value": 3.859162654979712
          },
          {
           "color_by": "Envelope Mean",
           "sample_id": 0,
           "timepoint": 66,
           "trajectory": "Envelope_Mean",
           "value": 3.9099847944539787
          },
          {
           "color_by": "Envelope Mean",
           "sample_id": 0,
           "timepoint": 67,
           "trajectory": "Envelope_Mean",
           "value": 3.9207827953251293
          },
          {
           "color_by": "Envelope Mean",
           "sample_id": 0,
           "timepoint": 68,
           "trajectory": "Envelope_Mean",
           "value": 3.9318716308582475
          },
          {
           "color_by": "Envelope Mean",
           "sample_id": 0,
           "timepoint": 69,
           "trajectory": "Envelope_Mean",
           "value": 3.950494540898913
          },
          {
           "color_by": "Envelope Mean",
           "sample_id": 0,
           "timepoint": 70,
           "trajectory": "Envelope_Mean",
           "value": 3.918345832184664
          },
          {
           "color_by": "Envelope Mean",
           "sample_id": 0,
           "timepoint": 71,
           "trajectory": "Envelope_Mean",
           "value": 3.8931790738416394
          },
          {
           "color_by": "Envelope Mean",
           "sample_id": 0,
           "timepoint": 72,
           "trajectory": "Envelope_Mean",
           "value": 3.9394811718701055
          },
          {
           "color_by": "Envelope Mean",
           "sample_id": 0,
           "timepoint": 73,
           "trajectory": "Envelope_Mean",
           "value": 3.9934818006324204
          },
          {
           "color_by": "Envelope Mean",
           "sample_id": 0,
           "timepoint": 74,
           "trajectory": "Envelope_Mean",
           "value": 4.021211950547245
          },
          {
           "color_by": "Envelope Mean",
           "sample_id": 0,
           "timepoint": 75,
           "trajectory": "Envelope_Mean",
           "value": 4.022355823124661
          },
          {
           "color_by": "Envelope Mean",
           "sample_id": 0,
           "timepoint": 76,
           "trajectory": "Envelope_Mean",
           "value": 4.020964013978148
          },
          {
           "color_by": "Envelope Mean",
           "sample_id": 0,
           "timepoint": 77,
           "trajectory": "Envelope_Mean",
           "value": 4.0425849378023075
          },
          {
           "color_by": "Envelope Mean",
           "sample_id": 0,
           "timepoint": 78,
           "trajectory": "Envelope_Mean",
           "value": 4.093552908585105
          },
          {
           "color_by": "Envelope Mean",
           "sample_id": 0,
           "timepoint": 79,
           "trajectory": "Envelope_Mean",
           "value": 4.079730269416726
          },
          {
           "color_by": "Envelope Mean",
           "sample_id": 0,
           "timepoint": 80,
           "trajectory": "Envelope_Mean",
           "value": 4.029066041986777
          },
          {
           "color_by": "Envelope Mean",
           "sample_id": 0,
           "timepoint": 81,
           "trajectory": "Envelope_Mean",
           "value": 4.020262881881137
          },
          {
           "color_by": "Envelope Mean",
           "sample_id": 0,
           "timepoint": 82,
           "trajectory": "Envelope_Mean",
           "value": 4.014990286767253
          },
          {
           "color_by": "Envelope Mean",
           "sample_id": 0,
           "timepoint": 83,
           "trajectory": "Envelope_Mean",
           "value": 4.024447870933553
          },
          {
           "color_by": "Envelope Mean",
           "sample_id": 0,
           "timepoint": 84,
           "trajectory": "Envelope_Mean",
           "value": 4.0536862355307495
          },
          {
           "color_by": "Envelope Mean",
           "sample_id": 0,
           "timepoint": 85,
           "trajectory": "Envelope_Mean",
           "value": 4.083461114248189
          },
          {
           "color_by": "Envelope Mean",
           "sample_id": 0,
           "timepoint": 86,
           "trajectory": "Envelope_Mean",
           "value": 4.137872904011616
          },
          {
           "color_by": "Envelope Mean",
           "sample_id": 0,
           "timepoint": 87,
           "trajectory": "Envelope_Mean",
           "value": 4.219684081105741
          },
          {
           "color_by": "Envelope Mean",
           "sample_id": 0,
           "timepoint": 88,
           "trajectory": "Envelope_Mean",
           "value": 4.275968203447144
          },
          {
           "color_by": "Envelope Mean",
           "sample_id": 0,
           "timepoint": 89,
           "trajectory": "Envelope_Mean",
           "value": 4.3361348272595315
          },
          {
           "color_by": "Envelope Mean",
           "sample_id": 0,
           "timepoint": 90,
           "trajectory": "Envelope_Mean",
           "value": 4.371461820373943
          },
          {
           "color_by": "Envelope Mean",
           "sample_id": 0,
           "timepoint": 91,
           "trajectory": "Envelope_Mean",
           "value": 4.381029468568677
          },
          {
           "color_by": "Envelope Mean",
           "sample_id": 0,
           "timepoint": 92,
           "trajectory": "Envelope_Mean",
           "value": 4.299494322519278
          },
          {
           "color_by": "Envelope Mean",
           "sample_id": 0,
           "timepoint": 93,
           "trajectory": "Envelope_Mean",
           "value": 4.210193928706846
          },
          {
           "color_by": "Envelope Mean",
           "sample_id": 0,
           "timepoint": 94,
           "trajectory": "Envelope_Mean",
           "value": 4.132851335328488
          },
          {
           "color_by": "Envelope Mean",
           "sample_id": 0,
           "timepoint": 95,
           "trajectory": "Envelope_Mean",
           "value": 4.066804664576873
          },
          {
           "color_by": "Envelope Mean",
           "sample_id": 0,
           "timepoint": 96,
           "trajectory": "Envelope_Mean",
           "value": 4.124139876503701
          },
          {
           "color_by": "Envelope Mean",
           "sample_id": 0,
           "timepoint": 97,
           "trajectory": "Envelope_Mean",
           "value": 4.135235282712727
          },
          {
           "color_by": "Envelope Mean",
           "sample_id": 0,
           "timepoint": 98,
           "trajectory": "Envelope_Mean",
           "value": 4.099712290770973
          },
          {
           "color_by": "Envelope Mean",
           "sample_id": 0,
           "timepoint": 99,
           "trajectory": "Envelope_Mean",
           "value": 4.093329516903677
          },
          {
           "color_by": "Chaos",
           "sample_id": 0,
           "timepoint": 0,
           "trajectory": "Chaos",
           "value": 0.5639499713544078
          },
          {
           "color_by": "Chaos",
           "sample_id": 0,
           "timepoint": 1,
           "trajectory": "Chaos",
           "value": 1.737416839965882
          },
          {
           "color_by": "Chaos",
           "sample_id": 0,
           "timepoint": 2,
           "trajectory": "Chaos",
           "value": 2.0948312059455922
          },
          {
           "color_by": "Chaos",
           "sample_id": 0,
           "timepoint": 3,
           "trajectory": "Chaos",
           "value": 2.379545594308163
          },
          {
           "color_by": "Chaos",
           "sample_id": 0,
           "timepoint": 4,
           "trajectory": "Chaos",
           "value": 2.620386844690246
          },
          {
           "color_by": "Chaos",
           "sample_id": 0,
           "timepoint": 5,
           "trajectory": "Chaos",
           "value": 2.8247511754189794
          },
          {
           "color_by": "Chaos",
           "sample_id": 0,
           "timepoint": 6,
           "trajectory": "Chaos",
           "value": 2.9945071178122094
          },
          {
           "color_by": "Chaos",
           "sample_id": 0,
           "timepoint": 7,
           "trajectory": "Chaos",
           "value": 3.1297776049708204
          },
          {
           "color_by": "Chaos",
           "sample_id": 0,
           "timepoint": 8,
           "trajectory": "Chaos",
           "value": 3.230293733561554
          },
          {
           "color_by": "Chaos",
           "sample_id": 0,
           "timepoint": 9,
           "trajectory": "Chaos",
           "value": 3.2959994062192717
          },
          {
           "color_by": "Chaos",
           "sample_id": 0,
           "timepoint": 10,
           "trajectory": "Chaos",
           "value": 3.3273551568710418
          },
          {
           "color_by": "Chaos",
           "sample_id": 0,
           "timepoint": 11,
           "trajectory": "Chaos",
           "value": 3.325493588064942
          },
          {
           "color_by": "Chaos",
           "sample_id": 0,
           "timepoint": 12,
           "trajectory": "Chaos",
           "value": 3.292287597345092
          },
          {
           "color_by": "Chaos",
           "sample_id": 0,
           "timepoint": 13,
           "trajectory": "Chaos",
           "value": 3.2303595502372415
          },
          {
           "color_by": "Chaos",
           "sample_id": 0,
           "timepoint": 14,
           "trajectory": "Chaos",
           "value": 3.143046299723766
          },
          {
           "color_by": "Chaos",
           "sample_id": 0,
           "timepoint": 15,
           "trajectory": "Chaos",
           "value": 3.0343293018560518
          },
          {
           "color_by": "Chaos",
           "sample_id": 0,
           "timepoint": 16,
           "trajectory": "Chaos",
           "value": 2.9087366313316405
          },
          {
           "color_by": "Chaos",
           "sample_id": 0,
           "timepoint": 17,
           "trajectory": "Chaos",
           "value": 2.7712226823194133
          },
          {
           "color_by": "Chaos",
           "sample_id": 0,
           "timepoint": 18,
           "trajectory": "Chaos",
           "value": 2.6270309641452037
          },
          {
           "color_by": "Chaos",
           "sample_id": 0,
           "timepoint": 19,
           "trajectory": "Chaos",
           "value": 2.4815452951054056
          },
          {
           "color_by": "Chaos",
           "sample_id": 0,
           "timepoint": 20,
           "trajectory": "Chaos",
           "value": 2.3401346711727498
          },
          {
           "color_by": "Chaos",
           "sample_id": 0,
           "timepoint": 21,
           "trajectory": "Chaos",
           "value": 2.2079970390749555
          },
          {
           "color_by": "Chaos",
           "sample_id": 0,
           "timepoint": 22,
           "trajectory": "Chaos",
           "value": 2.0900070808538964
          },
          {
           "color_by": "Chaos",
           "sample_id": 0,
           "timepoint": 23,
           "trajectory": "Chaos",
           "value": 1.9905728914405771
          },
          {
           "color_by": "Chaos",
           "sample_id": 0,
           "timepoint": 24,
           "trajectory": "Chaos",
           "value": 1.9135060900673082
          },
          {
           "color_by": "Chaos",
           "sample_id": 0,
           "timepoint": 25,
           "trajectory": "Chaos",
           "value": 1.861909449392258
          },
          {
           "color_by": "Chaos",
           "sample_id": 0,
           "timepoint": 26,
           "trajectory": "Chaos",
           "value": 1.838085559754615
          },
          {
           "color_by": "Chaos",
           "sample_id": 0,
           "timepoint": 27,
           "trajectory": "Chaos",
           "value": 1.8434693826226978
          },
          {
           "color_by": "Chaos",
           "sample_id": 0,
           "timepoint": 28,
           "trajectory": "Chaos",
           "value": 1.878586804171333
          },
          {
           "color_by": "Chaos",
           "sample_id": 0,
           "timepoint": 29,
           "trajectory": "Chaos",
           "value": 1.943040497570478
          },
          {
           "color_by": "Chaos",
           "sample_id": 0,
           "timepoint": 30,
           "trajectory": "Chaos",
           "value": 2.03552356395981
          },
          {
           "color_by": "Chaos",
           "sample_id": 0,
           "timepoint": 31,
           "trajectory": "Chaos",
           "value": 2.1538605717171437
          },
          {
           "color_by": "Chaos",
           "sample_id": 0,
           "timepoint": 32,
           "trajectory": "Chaos",
           "value": 2.295074776630466
          },
          {
           "color_by": "Chaos",
           "sample_id": 0,
           "timepoint": 33,
           "trajectory": "Chaos",
           "value": 2.455479506866301
          },
          {
           "color_by": "Chaos",
           "sample_id": 0,
           "timepoint": 34,
           "trajectory": "Chaos",
           "value": 2.630790960072484
          },
          {
           "color_by": "Chaos",
           "sample_id": 0,
           "timepoint": 35,
           "trajectory": "Chaos",
           "value": 2.816259007648827
          },
          {
           "color_by": "Chaos",
           "sample_id": 0,
           "timepoint": 36,
           "trajectory": "Chaos",
           "value": 3.006812052761673
          },
          {
           "color_by": "Chaos",
           "sample_id": 0,
           "timepoint": 37,
           "trajectory": "Chaos",
           "value": 3.1972115605624585
          },
          {
           "color_by": "Chaos",
           "sample_id": 0,
           "timepoint": 38,
           "trajectory": "Chaos",
           "value": 3.382211584174955
          },
          {
           "color_by": "Chaos",
           "sample_id": 0,
           "timepoint": 39,
           "trajectory": "Chaos",
           "value": 3.5567184572048736
          },
          {
           "color_by": "Chaos",
           "sample_id": 0,
           "timepoint": 40,
           "trajectory": "Chaos",
           "value": 3.715945817372659
          },
          {
           "color_by": "Chaos",
           "sample_id": 0,
           "timepoint": 41,
           "trajectory": "Chaos",
           "value": 3.855560266516288
          },
          {
           "color_by": "Chaos",
           "sample_id": 0,
           "timepoint": 42,
           "trajectory": "Chaos",
           "value": 3.971813255355117
          },
          {
           "color_by": "Chaos",
           "sample_id": 0,
           "timepoint": 43,
           "trajectory": "Chaos",
           "value": 4.061655198435327
          },
          {
           "color_by": "Chaos",
           "sample_id": 0,
           "timepoint": 44,
           "trajectory": "Chaos",
           "value": 4.122828362924869
          },
          {
           "color_by": "Chaos",
           "sample_id": 0,
           "timepoint": 45,
           "trajectory": "Chaos",
           "value": 4.153935718053846
          },
          {
           "color_by": "Chaos",
           "sample_id": 0,
           "timepoint": 46,
           "trajectory": "Chaos",
           "value": 4.154483660490138
          },
          {
           "color_by": "Chaos",
           "sample_id": 0,
           "timepoint": 47,
           "trajectory": "Chaos",
           "value": 4.124897322700351
          },
          {
           "color_by": "Chaos",
           "sample_id": 0,
           "timepoint": 48,
           "trajectory": "Chaos",
           "value": 4.066508002356631
          },
          {
           "color_by": "Chaos",
           "sample_id": 0,
           "timepoint": 49,
           "trajectory": "Chaos",
           "value": 3.9815130959062692
          },
          {
           "color_by": "Chaos",
           "sample_id": 0,
           "timepoint": 50,
           "trajectory": "Chaos",
           "value": 3.8729097528945284
          },
          {
           "color_by": "Chaos",
           "sample_id": 0,
           "timepoint": 51,
           "trajectory": "Chaos",
           "value": 3.744404264245176
          },
          {
           "color_by": "Chaos",
           "sample_id": 0,
           "timepoint": 52,
           "trajectory": "Chaos",
           "value": 3.600299933299682
          },
          {
           "color_by": "Chaos",
           "sample_id": 0,
           "timepoint": 53,
           "trajectory": "Chaos",
           "value": 3.4453668306878837
          },
          {
           "color_by": "Chaos",
           "sample_id": 0,
           "timepoint": 54,
           "trajectory": "Chaos",
           "value": 3.2846973832695996
          },
          {
           "color_by": "Chaos",
           "sample_id": 0,
           "timepoint": 55,
           "trajectory": "Chaos",
           "value": 3.1235521767950765
          },
          {
           "color_by": "Chaos",
           "sample_id": 0,
           "timepoint": 56,
           "trajectory": "Chaos",
           "value": 2.9672006485598077
          },
          {
           "color_by": "Chaos",
           "sample_id": 0,
           "timepoint": 57,
           "trajectory": "Chaos",
           "value": 2.8207615011809755
          },
          {
           "color_by": "Chaos",
           "sample_id": 0,
           "timepoint": 58,
           "trajectory": "Chaos",
           "value": 2.6890476770013834
          },
          {
           "color_by": "Chaos",
           "sample_id": 0,
           "timepoint": 59,
           "trajectory": "Chaos",
           "value": 2.5764205942773746
          },
          {
           "color_by": "Chaos",
           "sample_id": 0,
           "timepoint": 60,
           "trajectory": "Chaos",
           "value": 2.4866580654233426
          },
          {
           "color_by": "Chaos",
           "sample_id": 0,
           "timepoint": 61,
           "trajectory": "Chaos",
           "value": 2.422839902682698
          },
          {
           "color_by": "Chaos",
           "sample_id": 0,
           "timepoint": 62,
           "trajectory": "Chaos",
           "value": 2.387254680253115
          },
          {
           "color_by": "Chaos",
           "sample_id": 0,
           "timepoint": 63,
           "trajectory": "Chaos",
           "value": 2.381330480373691
          },
          {
           "color_by": "Chaos",
           "sample_id": 0,
           "timepoint": 64,
           "trajectory": "Chaos",
           "value": 2.4055917236342412
          },
          {
           "color_by": "Chaos",
           "sample_id": 0,
           "timepoint": 65,
           "trajectory": "Chaos",
           "value": 2.4596433928423775
          },
          {
           "color_by": "Chaos",
           "sample_id": 0,
           "timepoint": 66,
           "trajectory": "Chaos",
           "value": 2.5421831291629435
          },
          {
           "color_by": "Chaos",
           "sample_id": 0,
           "timepoint": 67,
           "trajectory": "Chaos",
           "value": 2.651040834111582
          },
          {
           "color_by": "Chaos",
           "sample_id": 0,
           "timepoint": 68,
           "trajectory": "Chaos",
           "value": 2.783244576964033
          },
          {
           "color_by": "Chaos",
           "sample_id": 0,
           "timepoint": 69,
           "trajectory": "Chaos",
           "value": 2.9351108095231964
          },
          {
           "color_by": "Chaos",
           "sample_id": 0,
           "timepoint": 70,
           "trajectory": "Chaos",
           "value": 3.102356153150623
          },
          {
           "color_by": "Chaos",
           "sample_id": 0,
           "timepoint": 71,
           "trajectory": "Chaos",
           "value": 3.2802273688656296
          },
          {
           "color_by": "Chaos",
           "sample_id": 0,
           "timepoint": 72,
           "trajectory": "Chaos",
           "value": 3.4636455699756796
          },
          {
           "color_by": "Chaos",
           "sample_id": 0,
           "timepoint": 73,
           "trajectory": "Chaos",
           "value": 3.6473603048432004
          },
          {
           "color_by": "Chaos",
           "sample_id": 0,
           "timepoint": 74,
           "trajectory": "Chaos",
           "value": 3.8261088381105526
          },
          {
           "color_by": "Chaos",
           "sample_id": 0,
           "timepoint": 75,
           "trajectory": "Chaos",
           "value": 3.9947758010706376
          },
          {
           "color_by": "Chaos",
           "sample_id": 0,
           "timepoint": 76,
           "trajectory": "Chaos",
           "value": 4.148548370665106
          },
          {
           "color_by": "Chaos",
           "sample_id": 0,
           "timepoint": 77,
           "trajectory": "Chaos",
           "value": 4.283062272155302
          },
          {
           "color_by": "Chaos",
           "sample_id": 0,
           "timepoint": 78,
           "trajectory": "Chaos",
           "value": 4.394534178731625
          },
          {
           "color_by": "Chaos",
           "sample_id": 0,
           "timepoint": 79,
           "trajectory": "Chaos",
           "value": 4.47987649377025
          },
          {
           "color_by": "Chaos",
           "sample_id": 0,
           "timepoint": 80,
           "trajectory": "Chaos",
           "value": 4.536791035605298
          },
          {
           "color_by": "Chaos",
           "sample_id": 0,
           "timepoint": 81,
           "trajectory": "Chaos",
           "value": 4.56383878436434
          },
          {
           "color_by": "Chaos",
           "sample_id": 0,
           "timepoint": 82,
           "trajectory": "Chaos",
           "value": 4.56048357621968
          },
          {
           "color_by": "Chaos",
           "sample_id": 0,
           "timepoint": 83,
           "trajectory": "Chaos",
           "value": 4.527108420330301
          },
          {
           "color_by": "Chaos",
           "sample_id": 0,
           "timepoint": 84,
           "trajectory": "Chaos",
           "value": 4.465003943838857
          },
          {
           "color_by": "Chaos",
           "sample_id": 0,
           "timepoint": 85,
           "trajectory": "Chaos",
           "value": 4.376329315375639
          },
          {
           "color_by": "Chaos",
           "sample_id": 0,
           "timepoint": 86,
           "trajectory": "Chaos",
           "value": 4.264046831983631
          },
          {
           "color_by": "Chaos",
           "sample_id": 0,
           "timepoint": 87,
           "trajectory": "Chaos",
           "value": 4.1318321529139705
          },
          {
           "color_by": "Chaos",
           "sample_id": 0,
           "timepoint": 88,
           "trajectory": "Chaos",
           "value": 3.9839629021373666
          },
          {
           "color_by": "Chaos",
           "sample_id": 0,
           "timepoint": 89,
           "trajectory": "Chaos",
           "value": 3.82518901728581
          },
          {
           "color_by": "Chaos",
           "sample_id": 0,
           "timepoint": 90,
           "trajectory": "Chaos",
           "value": 3.6605887761933285
          },
          {
           "color_by": "Chaos",
           "sample_id": 0,
           "timepoint": 91,
           "trajectory": "Chaos",
           "value": 3.495414866464498
          },
          {
           "color_by": "Chaos",
           "sample_id": 0,
           "timepoint": 92,
           "trajectory": "Chaos",
           "value": 3.3349351653966077
          },
          {
           "color_by": "Chaos",
           "sample_id": 0,
           "timepoint": 93,
           "trajectory": "Chaos",
           "value": 3.1842730579632557
          },
          {
           "color_by": "Chaos",
           "sample_id": 0,
           "timepoint": 94,
           "trajectory": "Chaos",
           "value": 3.048252134570118
          },
          {
           "color_by": "Chaos",
           "sample_id": 0,
           "timepoint": 95,
           "trajectory": "Chaos",
           "value": 2.9312499774931795
          },
          {
           "color_by": "Chaos",
           "sample_id": 0,
           "timepoint": 96,
           "trajectory": "Chaos",
           "value": 2.837065469332776
          },
          {
           "color_by": "Chaos",
           "sample_id": 0,
           "timepoint": 97,
           "trajectory": "Chaos",
           "value": 2.7688036468185424
          },
          {
           "color_by": "Chaos",
           "sample_id": 0,
           "timepoint": 98,
           "trajectory": "Chaos",
           "value": 2.728781591312487
          },
          {
           "color_by": "Chaos",
           "sample_id": 0,
           "timepoint": 99,
           "trajectory": "Chaos",
           "value": 2.7184582095099814
          },
          {
           "color_by": "Mean",
           "sample_id": 0,
           "timepoint": 0,
           "trajectory": "Mean",
           "value": 0.6929800549457981
          },
          {
           "color_by": "Mean",
           "sample_id": 0,
           "timepoint": 1,
           "trajectory": "Mean",
           "value": 1.6976195521393438
          },
          {
           "color_by": "Mean",
           "sample_id": 0,
           "timepoint": 2,
           "trajectory": "Mean",
           "value": 1.8914660644702015
          },
          {
           "color_by": "Mean",
           "sample_id": 0,
           "timepoint": 3,
           "trajectory": "Mean",
           "value": 2.0229721600194397
          },
          {
           "color_by": "Mean",
           "sample_id": 0,
           "timepoint": 4,
           "trajectory": "Mean",
           "value": 2.125750607451881
          },
          {
           "color_by": "Mean",
           "sample_id": 0,
           "timepoint": 5,
           "trajectory": "Mean",
           "value": 2.2115243248717027
          },
          {
           "color_by": "Mean",
           "sample_id": 0,
           "timepoint": 6,
           "trajectory": "Mean",
           "value": 2.2858981230114117
          },
          {
           "color_by": "Mean",
           "sample_id": 0,
           "timepoint": 7,
           "trajectory": "Mean",
           "value": 2.35202750480633
          },
          {
           "color_by": "Mean",
           "sample_id": 0,
           "timepoint": 8,
           "trajectory": "Mean",
           "value": 2.4118804748489
          },
          {
           "color_by": "Mean",
           "sample_id": 0,
           "timepoint": 9,
           "trajectory": "Mean",
           "value": 2.466774354400557
          },
          {
           "color_by": "Mean",
           "sample_id": 0,
           "timepoint": 10,
           "trajectory": "Mean",
           "value": 2.5176379608300596
          },
          {
           "color_by": "Mean",
           "sample_id": 0,
           "timepoint": 11,
           "trajectory": "Mean",
           "value": 2.565152843289022
          },
          {
           "color_by": "Mean",
           "sample_id": 0,
           "timepoint": 12,
           "trajectory": "Mean",
           "value": 2.609835182268715
          },
          {
           "color_by": "Mean",
           "sample_id": 0,
           "timepoint": 13,
           "trajectory": "Mean",
           "value": 2.6520860960236075
          },
          {
           "color_by": "Mean",
           "sample_id": 0,
           "timepoint": 14,
           "trajectory": "Mean",
           "value": 2.6922240065504823
          },
          {
           "color_by": "Mean",
           "sample_id": 0,
           "timepoint": 15,
           "trajectory": "Mean",
           "value": 2.730506272785531
          },
          {
           "color_by": "Mean",
           "sample_id": 0,
           "timepoint": 16,
           "trajectory": "Mean",
           "value": 2.7671441199797435
          },
          {
           "color_by": "Mean",
           "sample_id": 0,
           "timepoint": 17,
           "trajectory": "Mean",
           "value": 2.802313226923107
          },
          {
           "color_by": "Mean",
           "sample_id": 0,
           "timepoint": 18,
           "trajectory": "Mean",
           "value": 2.8361614120773107
          },
          {
           "color_by": "Mean",
           "sample_id": 0,
           "timepoint": 19,
           "trajectory": "Mean",
           "value": 2.868814328720939
          },
          {
           "color_by": "Mean",
           "sample_id": 0,
           "timepoint": 20,
           "trajectory": "Mean",
           "value": 2.900379761299962
          },
          {
           "color_by": "Mean",
           "sample_id": 0,
           "timepoint": 21,
           "trajectory": "Mean",
           "value": 2.9309509185242204
          },
          {
           "color_by": "Mean",
           "sample_id": 0,
           "timepoint": 22,
           "trajectory": "Mean",
           "value": 2.9606089935767006
          },
          {
           "color_by": "Mean",
           "sample_id": 0,
           "timepoint": 23,
           "trajectory": "Mean",
           "value": 2.989425180082094
          },
          {
           "color_by": "Mean",
           "sample_id": 0,
           "timepoint": 24,
           "trajectory": "Mean",
           "value": 3.0174622779103757
          },
          {
           "color_by": "Mean",
           "sample_id": 0,
           "timepoint": 25,
           "trajectory": "Mean",
           "value": 3.044775985703236
          },
          {
           "color_by": "Mean",
           "sample_id": 0,
           "timepoint": 26,
           "trajectory": "Mean",
           "value": 3.071415951200401
          },
          {
           "color_by": "Mean",
           "sample_id": 0,
           "timepoint": 27,
           "trajectory": "Mean",
           "value": 3.0974266322280997
          },
          {
           "color_by": "Mean",
           "sample_id": 0,
           "timepoint": 28,
           "trajectory": "Mean",
           "value": 3.122848008161246
          },
          {
           "color_by": "Mean",
           "sample_id": 0,
           "timepoint": 29,
           "trajectory": "Mean",
           "value": 3.14771617218946
          },
          {
           "color_by": "Mean",
           "sample_id": 0,
           "timepoint": 30,
           "trajectory": "Mean",
           "value": 3.172063827740109
          },
          {
           "color_by": "Mean",
           "sample_id": 0,
           "timepoint": 31,
           "trajectory": "Mean",
           "value": 3.1959207072168736
          },
          {
           "color_by": "Mean",
           "sample_id": 0,
           "timepoint": 32,
           "trajectory": "Mean",
           "value": 3.2193139273020543
          },
          {
           "color_by": "Mean",
           "sample_id": 0,
           "timepoint": 33,
           "trajectory": "Mean",
           "value": 3.242268292097645
          },
          {
           "color_by": "Mean",
           "sample_id": 0,
           "timepoint": 34,
           "trajectory": "Mean",
           "value": 3.26480655309797
          },
          {
           "color_by": "Mean",
           "sample_id": 0,
           "timepoint": 35,
           "trajectory": "Mean",
           "value": 3.286949633219513
          },
          {
           "color_by": "Mean",
           "sample_id": 0,
           "timepoint": 36,
           "trajectory": "Mean",
           "value": 3.308716820733798
          },
          {
           "color_by": "Mean",
           "sample_id": 0,
           "timepoint": 37,
           "trajectory": "Mean",
           "value": 3.330125937863685
          },
          {
           "color_by": "Mean",
           "sample_id": 0,
           "timepoint": 38,
           "trajectory": "Mean",
           "value": 3.3511934879431458
          },
          {
           "color_by": "Mean",
           "sample_id": 0,
           "timepoint": 39,
           "trajectory": "Mean",
           "value": 3.3719347843541643
          },
          {
           "color_by": "Mean",
           "sample_id": 0,
           "timepoint": 40,
           "trajectory": "Mean",
           "value": 3.3923640639031927
          },
          {
           "color_by": "Mean",
           "sample_id": 0,
           "timepoint": 41,
           "trajectory": "Mean",
           "value": 3.412494586854228
          },
          {
           "color_by": "Mean",
           "sample_id": 0,
           "timepoint": 42,
           "trajectory": "Mean",
           "value": 3.432338725473696
          },
          {
           "color_by": "Mean",
           "sample_id": 0,
           "timepoint": 43,
           "trajectory": "Mean",
           "value": 3.4519080426466795
          },
          {
           "color_by": "Mean",
           "sample_id": 0,
           "timepoint": 44,
           "trajectory": "Mean",
           "value": 3.4712133618811896
          },
          {
           "color_by": "Mean",
           "sample_id": 0,
           "timepoint": 45,
           "trajectory": "Mean",
           "value": 3.4902648298168426
          },
          {
           "color_by": "Mean",
           "sample_id": 0,
           "timepoint": 46,
           "trajectory": "Mean",
           "value": 3.509071972188135
          },
          {
           "color_by": "Mean",
           "sample_id": 0,
           "timepoint": 47,
           "trajectory": "Mean",
           "value": 3.527643744054151
          },
          {
           "color_by": "Mean",
           "sample_id": 0,
           "timepoint": 48,
           "trajectory": "Mean",
           "value": 3.545988574990851
          },
          {
           "color_by": "Mean",
           "sample_id": 0,
           "timepoint": 49,
           "trajectory": "Mean",
           "value": 3.564114409844869
          },
          {
           "color_by": "Mean",
           "sample_id": 0,
           "timepoint": 50,
           "trajectory": "Mean",
           "value": 3.5820287455658875
          },
          {
           "color_by": "Mean",
           "sample_id": 0,
           "timepoint": 51,
           "trajectory": "Mean",
           "value": 3.599738664565316
          },
          {
           "color_by": "Mean",
           "sample_id": 0,
           "timepoint": 52,
           "trajectory": "Mean",
           "value": 3.6172508649901713
          },
          {
           "color_by": "Mean",
           "sample_id": 0,
           "timepoint": 53,
           "trajectory": "Mean",
           "value": 3.6345716882509063
          },
          {
           "color_by": "Mean",
           "sample_id": 0,
           "timepoint": 54,
           "trajectory": "Mean",
           "value": 3.651707144099106
          },
          {
           "color_by": "Mean",
           "sample_id": 0,
           "timepoint": 55,
           "trajectory": "Mean",
           "value": 3.668662933514206
          },
          {
           "color_by": "Mean",
           "sample_id": 0,
           "timepoint": 56,
           "trajectory": "Mean",
           "value": 3.6854444696267823
          },
          {
           "color_by": "Mean",
           "sample_id": 0,
           "timepoint": 57,
           "trajectory": "Mean",
           "value": 3.7020568968787426
          },
          {
           "color_by": "Mean",
           "sample_id": 0,
           "timepoint": 58,
           "trajectory": "Mean",
           "value": 3.7185051085971255
          },
          {
           "color_by": "Mean",
           "sample_id": 0,
           "timepoint": 59,
           "trajectory": "Mean",
           "value": 3.734793763137823
          },
          {
           "color_by": "Mean",
           "sample_id": 0,
           "timepoint": 60,
           "trajectory": "Mean",
           "value": 3.7509272987377402
          },
          {
           "color_by": "Mean",
           "sample_id": 0,
           "timepoint": 61,
           "trajectory": "Mean",
           "value": 3.766909947198423
          },
          {
           "color_by": "Mean",
           "sample_id": 0,
           "timepoint": 62,
           "trajectory": "Mean",
           "value": 3.782745746510643
          },
          {
           "color_by": "Mean",
           "sample_id": 0,
           "timepoint": 63,
           "trajectory": "Mean",
           "value": 3.7984385525176068
          },
          {
           "color_by": "Mean",
           "sample_id": 0,
           "timepoint": 64,
           "trajectory": "Mean",
           "value": 3.813992049703997
          },
          {
           "color_by": "Mean",
           "sample_id": 0,
           "timepoint": 65,
           "trajectory": "Mean",
           "value": 3.8294097611889732
          },
          {
           "color_by": "Mean",
           "sample_id": 0,
           "timepoint": 66,
           "trajectory": "Mean",
           "value": 3.8446950579931416
          },
          {
           "color_by": "Mean",
           "sample_id": 0,
           "timepoint": 67,
           "trajectory": "Mean",
           "value": 3.8598511676423968
          },
          {
           "color_by": "Mean",
           "sample_id": 0,
           "timepoint": 68,
           "trajectory": "Mean",
           "value": 3.874881182165253
          },
          {
           "color_by": "Mean",
           "sample_id": 0,
           "timepoint": 69,
           "trajectory": "Mean",
           "value": 3.8897880655346597
          },
          {
           "color_by": "Mean",
           "sample_id": 0,
           "timepoint": 70,
           "trajectory": "Mean",
           "value": 3.9045746606003613
          },
          {
           "color_by": "Mean",
           "sample_id": 0,
           "timepoint": 71,
           "trajectory": "Mean",
           "value": 3.9192436955534316
          },
          {
           "color_by": "Mean",
           "sample_id": 0,
           "timepoint": 72,
           "trajectory": "Mean",
           "value": 3.933797789960672
          },
          {
           "color_by": "Mean",
           "sample_id": 0,
           "timepoint": 73,
           "trajectory": "Mean",
           "value": 3.9482394604030606
          },
          {
           "color_by": "Mean",
           "sample_id": 0,
           "timepoint": 74,
           "trajectory": "Mean",
           "value": 3.962571125749262
          },
          {
           "color_by": "Mean",
           "sample_id": 0,
           "timepoint": 75,
           "trajectory": "Mean",
           "value": 3.9767951120924465
          },
          {
           "color_by": "Mean",
           "sample_id": 0,
           "timepoint": 76,
           "trajectory": "Mean",
           "value": 3.9909136573760833
          },
          {
           "color_by": "Mean",
           "sample_id": 0,
           "timepoint": 77,
           "trajectory": "Mean",
           "value": 4.0049289157321315
          },
          {
           "color_by": "Mean",
           "sample_id": 0,
           "timepoint": 78,
           "trajectory": "Mean",
           "value": 4.018842961553011
          },
          {
           "color_by": "Mean",
           "sample_id": 0,
           "timepoint": 79,
           "trajectory": "Mean",
           "value": 4.032657793316877
          },
          {
           "color_by": "Mean",
           "sample_id": 0,
           "timepoint": 80,
           "trajectory": "Mean",
           "value": 4.0463753371840765
          },
          {
           "color_by": "Mean",
           "sample_id": 0,
           "timepoint": 81,
           "trajectory": "Mean",
           "value": 4.059997450381157
          },
          {
           "color_by": "Mean",
           "sample_id": 0,
           "timepoint": 82,
           "trajectory": "Mean",
           "value": 4.07352592438744
          },
          {
           "color_by": "Mean",
           "sample_id": 0,
           "timepoint": 83,
           "trajectory": "Mean",
           "value": 4.0869624879379405
          },
          {
           "color_by": "Mean",
           "sample_id": 0,
           "timepoint": 84,
           "trajectory": "Mean",
           "value": 4.100308809855305
          },
          {
           "color_by": "Mean",
           "sample_id": 0,
           "timepoint": 85,
           "trajectory": "Mean",
           "value": 4.113566501722409
          },
          {
           "color_by": "Mean",
           "sample_id": 0,
           "timepoint": 86,
           "trajectory": "Mean",
           "value": 4.126737120406364
          },
          {
           "color_by": "Mean",
           "sample_id": 0,
           "timepoint": 87,
           "trajectory": "Mean",
           "value": 4.13982217044381
          },
          {
           "color_by": "Mean",
           "sample_id": 0,
           "timepoint": 88,
           "trajectory": "Mean",
           "value": 4.152823106296626
          },
          {
           "color_by": "Mean",
           "sample_id": 0,
           "timepoint": 89,
           "trajectory": "Mean",
           "value": 4.165741334486507
          },
          {
           "color_by": "Mean",
           "sample_id": 0,
           "timepoint": 90,
           "trajectory": "Mean",
           "value": 4.178578215616172
          },
          {
           "color_by": "Mean",
           "sample_id": 0,
           "timepoint": 91,
           "trajectory": "Mean",
           "value": 4.191335066284437
          },
          {
           "color_by": "Mean",
           "sample_id": 0,
           "timepoint": 92,
           "trajectory": "Mean",
           "value": 4.204013160901835
          },
          {
           "color_by": "Mean",
           "sample_id": 0,
           "timepoint": 93,
           "trajectory": "Mean",
           "value": 4.216613733412948
          },
          {
           "color_by": "Mean",
           "sample_id": 0,
           "timepoint": 94,
           "trajectory": "Mean",
           "value": 4.2291379789312336
          },
          {
           "color_by": "Mean",
           "sample_id": 0,
           "timepoint": 95,
           "trajectory": "Mean",
           "value": 4.241587055291644
          },
          {
           "color_by": "Mean",
           "sample_id": 0,
           "timepoint": 96,
           "trajectory": "Mean",
           "value": 4.253962084526007
          },
          {
           "color_by": "Mean",
           "sample_id": 0,
           "timepoint": 97,
           "trajectory": "Mean",
           "value": 4.26626415426579
          },
          {
           "color_by": "Mean",
           "sample_id": 0,
           "timepoint": 98,
           "trajectory": "Mean",
           "value": 4.278494319076506
          },
          {
           "color_by": "Mean",
           "sample_id": 0,
           "timepoint": 99,
           "trajectory": "Mean",
           "value": 4.290653601727788
          },
          {
           "color_by": "Random",
           "sample_id": 0,
           "timepoint": 0,
           "trajectory": "Random",
           "value": 0.028126678489391186
          },
          {
           "color_by": "Random",
           "sample_id": 0,
           "timepoint": 1,
           "trajectory": "Random",
           "value": 1.0448264493771973
          },
          {
           "color_by": "Random",
           "sample_id": 0,
           "timepoint": 2,
           "trajectory": "Random",
           "value": 1.25072867767166
          },
          {
           "color_by": "Random",
           "sample_id": 0,
           "timepoint": 3,
           "trajectory": "Random",
           "value": 1.3942813750200564
          },
          {
           "color_by": "Random",
           "sample_id": 0,
           "timepoint": 4,
           "trajectory": "Random",
           "value": 1.5090927562467766
          },
          {
           "color_by": "Random",
           "sample_id": 0,
           "timepoint": 5,
           "trajectory": "Random",
           "value": 1.6068811895047075
          },
          {
           "color_by": "Random",
           "sample_id": 0,
           "timepoint": 6,
           "trajectory": "Random",
           "value": 1.693246940758889
          },
          {
           "color_by": "Random",
           "sample_id": 0,
           "timepoint": 7,
           "trajectory": "Random",
           "value": 1.7713409746542474
          },
          {
           "color_by": "Random",
           "sample_id": 0,
           "timepoint": 8,
           "trajectory": "Random",
           "value": 1.8431267652613301
          },
          {
           "color_by": "Random",
           "sample_id": 0,
           "timepoint": 9,
           "trajectory": "Random",
           "value": 1.909917112377437
          },
          {
           "color_by": "Random",
           "sample_id": 0,
           "timepoint": 10,
           "trajectory": "Random",
           "value": 1.9726363222516896
          },
          {
           "color_by": "Random",
           "sample_id": 0,
           "timepoint": 11,
           "trajectory": "Random",
           "value": 2.0319614445444003
          },
          {
           "color_by": "Random",
           "sample_id": 0,
           "timepoint": 12,
           "trajectory": "Random",
           "value": 2.08840417316447
          },
          {
           "color_by": "Random",
           "sample_id": 0,
           "timepoint": 13,
           "trajectory": "Random",
           "value": 2.1423611539699188
          },
          {
           "color_by": "Random",
           "sample_id": 0,
           "timepoint": 14,
           "trajectory": "Random",
           "value": 2.1941463520200264
          },
          {
           "color_by": "Random",
           "sample_id": 0,
           "timepoint": 15,
           "trajectory": "Random",
           "value": 2.244012686041132
          },
          {
           "color_by": "Random",
           "sample_id": 0,
           "timepoint": 16,
           "trajectory": "Random",
           "value": 2.2921669590660665
          },
          {
           "color_by": "Random",
           "sample_id": 0,
           "timepoint": 17,
           "trajectory": "Random",
           "value": 2.3387804469173528
          },
          {
           "color_by": "Random",
           "sample_id": 0,
           "timepoint": 18,
           "trajectory": "Random",
           "value": 2.3839965855935503
          },
          {
           "color_by": "Random",
           "sample_id": 0,
           "timepoint": 19,
           "trajectory": "Random",
           "value": 2.4279366676623466
          },
          {
           "color_by": "Random",
           "sample_id": 0,
           "timepoint": 20,
           "trajectory": "Random",
           "value": 2.4707041398528773
          },
          {
           "color_by": "Random",
           "sample_id": 0,
           "timepoint": 21,
           "trajectory": "Random",
           "value": 2.5123878973876206
          },
          {
           "color_by": "Random",
           "sample_id": 0,
           "timepoint": 22,
           "trajectory": "Random",
           "value": 2.553064845420306
          },
          {
           "color_by": "Random",
           "sample_id": 0,
           "timepoint": 23,
           "trajectory": "Random",
           "value": 2.5928019162260014
          },
          {
           "color_by": "Random",
           "sample_id": 0,
           "timepoint": 24,
           "trajectory": "Random",
           "value": 2.6316576762187633
          },
          {
           "color_by": "Random",
           "sample_id": 0,
           "timepoint": 25,
           "trajectory": "Random",
           "value": 2.6696836196843536
          },
          {
           "color_by": "Random",
           "sample_id": 0,
           "timepoint": 26,
           "trajectory": "Random",
           "value": 2.706925220304706
          },
          {
           "color_by": "Random",
           "sample_id": 0,
           "timepoint": 27,
           "trajectory": "Random",
           "value": 2.74342279333609
          },
          {
           "color_by": "Random",
           "sample_id": 0,
           "timepoint": 28,
           "trajectory": "Random",
           "value": 2.7792122082521864
          },
          {
           "color_by": "Random",
           "sample_id": 0,
           "timepoint": 29,
           "trajectory": "Random",
           "value": 2.814325482181869
          },
          {
           "color_by": "Random",
           "sample_id": 0,
           "timepoint": 30,
           "trajectory": "Random",
           "value": 2.848791277494567
          },
          {
           "color_by": "Random",
           "sample_id": 0,
           "timepoint": 31,
           "trajectory": "Random",
           "value": 2.8826353216913674
          },
          {
           "color_by": "Random",
           "sample_id": 0,
           "timepoint": 32,
           "trajectory": "Random",
           "value": 2.9158807638497564
          },
          {
           "color_by": "Random",
           "sample_id": 0,
           "timepoint": 33,
           "trajectory": "Random",
           "value": 2.948548478896713
          },
          {
           "color_by": "Random",
           "sample_id": 0,
           "timepoint": 34,
           "trajectory": "Random",
           "value": 2.9806573287026303
          },
          {
           "color_by": "Random",
           "sample_id": 0,
           "timepoint": 35,
           "trajectory": "Random",
           "value": 3.0122243872213756
          },
          {
           "color_by": "Random",
           "sample_id": 0,
           "timepoint": 36,
           "trajectory": "Random",
           "value": 3.0432651355220477
          },
          {
           "color_by": "Random",
           "sample_id": 0,
           "timepoint": 37,
           "trajectory": "Random",
           "value": 3.073793631472488
          },
          {
           "color_by": "Random",
           "sample_id": 0,
           "timepoint": 38,
           "trajectory": "Random",
           "value": 3.1038226579742894
          },
          {
           "color_by": "Random",
           "sample_id": 0,
           "timepoint": 39,
           "trajectory": "Random",
           "value": 3.133363852962674
          },
          {
           "color_by": "Random",
           "sample_id": 0,
           "timepoint": 40,
           "trajectory": "Random",
           "value": 3.1624278238333474
          },
          {
           "color_by": "Random",
           "sample_id": 0,
           "timepoint": 41,
           "trajectory": "Random",
           "value": 3.191024248513121
          },
          {
           "color_by": "Random",
           "sample_id": 0,
           "timepoint": 42,
           "trajectory": "Random",
           "value": 3.2191619650291914
          },
          {
           "color_by": "Random",
           "sample_id": 0,
           "timepoint": 43,
           "trajectory": "Random",
           "value": 3.24684905113632
          },
          {
           "color_by": "Random",
           "sample_id": 0,
           "timepoint": 44,
           "trajectory": "Random",
           "value": 3.274092895318347
          },
          {
           "color_by": "Random",
           "sample_id": 0,
           "timepoint": 45,
           "trajectory": "Random",
           "value": 3.3009002602801027
          },
          {
           "color_by": "Random",
           "sample_id": 0,
           "timepoint": 46,
           "trajectory": "Random",
           "value": 3.327277339879651
          },
          {
           "color_by": "Random",
           "sample_id": 0,
           "timepoint": 47,
           "trajectory": "Random",
           "value": 3.353229810312425
          },
          {
           "color_by": "Random",
           "sample_id": 0,
           "timepoint": 48,
           "trajectory": "Random",
           "value": 3.378762876243118
          },
          {
           "color_by": "Random",
           "sample_id": 0,
           "timepoint": 49,
           "trajectory": "Random",
           "value": 3.403881312484037
          },
          {
           "color_by": "Random",
           "sample_id": 0,
           "timepoint": 50,
           "trajectory": "Random",
           "value": 3.428589501736673
          },
          {
           "color_by": "Random",
           "sample_id": 0,
           "timepoint": 51,
           "trajectory": "Random",
           "value": 3.452891468844016
          },
          {
           "color_by": "Random",
           "sample_id": 0,
           "timepoint": 52,
           "trajectory": "Random",
           "value": 3.476790911942211
          },
          {
           "color_by": "Random",
           "sample_id": 0,
           "timepoint": 53,
           "trajectory": "Random",
           "value": 3.5002912308501095
          },
          {
           "color_by": "Random",
           "sample_id": 0,
           "timepoint": 54,
           "trajectory": "Random",
           "value": 3.5233955529923495
          },
          {
           "color_by": "Random",
           "sample_id": 0,
           "timepoint": 55,
           "trajectory": "Random",
           "value": 3.5461067571148988
          },
          {
           "color_by": "Random",
           "sample_id": 0,
           "timepoint": 56,
           "trajectory": "Random",
           "value": 3.568427495020395
          },
          {
           "color_by": "Random",
           "sample_id": 0,
           "timepoint": 57,
           "trajectory": "Random",
           "value": 3.590360211523354
          },
          {
           "color_by": "Random",
           "sample_id": 0,
           "timepoint": 58,
           "trajectory": "Random",
           "value": 3.611907162801759
          },
          {
           "color_by": "Random",
           "sample_id": 0,
           "timepoint": 59,
           "trajectory": "Random",
           "value": 3.6330704333011177
          },
          {
           "color_by": "Random",
           "sample_id": 0,
           "timepoint": 60,
           "trajectory": "Random",
           "value": 3.653851951329279
          },
          {
           "color_by": "Random",
           "sample_id": 0,
           "timepoint": 61,
           "trajectory": "Random",
           "value": 3.674253503464845
          },
          {
           "color_by": "Random",
           "sample_id": 0,
           "timepoint": 62,
           "trajectory": "Random",
           "value": 3.6942767478884715
          },
          {
           "color_by": "Random",
           "sample_id": 0,
           "timepoint": 63,
           "trajectory": "Random",
           "value": 3.7139232267344973
          },
          {
           "color_by": "Random",
           "sample_id": 0,
           "timepoint": 64,
           "trajectory": "Random",
           "value": 3.7331943775499523
          },
          {
           "color_by": "Random",
           "sample_id": 0,
           "timepoint": 65,
           "trajectory": "Random",
           "value": 3.7520915439388673
          },
          {
           "color_by": "Random",
           "sample_id": 0,
           "timepoint": 66,
           "trajectory": "Random",
           "value": 3.770615985461701
          },
          {
           "color_by": "Random",
           "sample_id": 0,
           "timepoint": 67,
           "trajectory": "Random",
           "value": 3.7887688868526386
          },
          {
           "color_by": "Random",
           "sample_id": 0,
           "timepoint": 68,
           "trajectory": "Random",
           "value": 3.8065513666111865
          },
          {
           "color_by": "Random",
           "sample_id": 0,
           "timepoint": 69,
           "trajectory": "Random",
           "value": 3.8239644850188936
          },
          {
           "color_by": "Random",
           "sample_id": 0,
           "timepoint": 70,
           "trajectory": "Random",
           "value": 3.8410092516271126
          },
          {
           "color_by": "Random",
           "sample_id": 0,
           "timepoint": 71,
           "trajectory": "Random",
           "value": 3.857686632257259
          },
          {
           "color_by": "Random",
           "sample_id": 0,
           "timepoint": 72,
           "trajectory": "Random",
           "value": 3.8739975555511164
          },
          {
           "color_by": "Random",
           "sample_id": 0,
           "timepoint": 73,
           "trajectory": "Random",
           "value": 3.88994291910522
          },
          {
           "color_by": "Random",
           "sample_id": 0,
           "timepoint": 74,
           "trajectory": "Random",
           "value": 3.9055235952202176
          },
          {
           "color_by": "Random",
           "sample_id": 0,
           "timepoint": 75,
           "trajectory": "Random",
           "value": 3.92074043629329
          },
          {
           "color_by": "Random",
           "sample_id": 0,
           "timepoint": 76,
           "trajectory": "Random",
           "value": 3.935594279879173
          },
          {
           "color_by": "Random",
           "sample_id": 0,
           "timepoint": 77,
           "trajectory": "Random",
           "value": 3.950085953443118
          },
          {
           "color_by": "Random",
           "sample_id": 0,
           "timepoint": 78,
           "trajectory": "Random",
           "value": 3.964216278827002
          },
          {
           "color_by": "Random",
           "sample_id": 0,
           "timepoint": 79,
           "trajectory": "Random",
           "value": 3.9779860764480484
          },
          {
           "color_by": "Random",
           "sample_id": 0,
           "timepoint": 80,
           "trajectory": "Random",
           "value": 3.9913961692479045
          },
          {
           "color_by": "Random",
           "sample_id": 0,
           "timepoint": 81,
           "trajectory": "Random",
           "value": 4.0044473864083585
          },
          {
           "color_by": "Random",
           "sample_id": 0,
           "timepoint": 82,
           "trajectory": "Random",
           "value": 4.017140566848607
          },
          {
           "color_by": "Random",
           "sample_id": 0,
           "timepoint": 83,
           "trajectory": "Random",
           "value": 4.029476562517782
          },
          {
           "color_by": "Random",
           "sample_id": 0,
           "timepoint": 84,
           "trajectory": "Random",
           "value": 4.041456241495308
          },
          {
           "color_by": "Random",
           "sample_id": 0,
           "timepoint": 85,
           "trajectory": "Random",
           "value": 4.053080490910679
          },
          {
           "color_by": "Random",
           "sample_id": 0,
           "timepoint": 86,
           "trajectory": "Random",
           "value": 4.064350219693304
          },
          {
           "color_by": "Random",
           "sample_id": 0,
           "timepoint": 87,
           "trajectory": "Random",
           "value": 4.075266361162272
          },
          {
           "color_by": "Random",
           "sample_id": 0,
           "timepoint": 88,
           "trajectory": "Random",
           "value": 4.085829875465084
          },
          {
           "color_by": "Random",
           "sample_id": 0,
           "timepoint": 89,
           "trajectory": "Random",
           "value": 4.09604175187375
          },
          {
           "color_by": "Random",
           "sample_id": 0,
           "timepoint": 90,
           "trajectory": "Random",
           "value": 4.105903010945989
          },
          {
           "color_by": "Random",
           "sample_id": 0,
           "timepoint": 91,
           "trajectory": "Random",
           "value": 4.1154147065587
          },
          {
           "color_by": "Random",
           "sample_id": 0,
           "timepoint": 92,
           "trajectory": "Random",
           "value": 4.124577927820383
          },
          {
           "color_by": "Random",
           "sample_id": 0,
           "timepoint": 93,
           "trajectory": "Random",
           "value": 4.133393800868619
          },
          {
           "color_by": "Random",
           "sample_id": 0,
           "timepoint": 94,
           "trajectory": "Random",
           "value": 4.1418634905583875
          },
          {
           "color_by": "Random",
           "sample_id": 0,
           "timepoint": 95,
           "trajectory": "Random",
           "value": 4.149988202046488
          },
          {
           "color_by": "Random",
           "sample_id": 0,
           "timepoint": 96,
           "trajectory": "Random",
           "value": 4.157769182277061
          },
          {
           "color_by": "Random",
           "sample_id": 0,
           "timepoint": 97,
           "trajectory": "Random",
           "value": 4.165207721372771
          },
          {
           "color_by": "Random",
           "sample_id": 0,
           "timepoint": 98,
           "trajectory": "Random",
           "value": 4.1723051539359695
          },
          {
           "color_by": "Random",
           "sample_id": 0,
           "timepoint": 99,
           "trajectory": "Random",
           "value": 4.17906286026383
          },
          {
           "color_by": "Variance",
           "sample_id": 0,
           "timepoint": 0,
           "trajectory": "Variance",
           "value": 0.3552427446222277
          },
          {
           "color_by": "Variance",
           "sample_id": 0,
           "timepoint": 1,
           "trajectory": "Variance",
           "value": 1.3570535758020743
          },
          {
           "color_by": "Variance",
           "sample_id": 0,
           "timepoint": 2,
           "trajectory": "Variance",
           "value": 1.5480715160467222
          },
          {
           "color_by": "Variance",
           "sample_id": 0,
           "timepoint": 3,
           "trajectory": "Variance",
           "value": 1.6767492273626035
          },
          {
           "color_by": "Variance",
           "sample_id": 0,
           "timepoint": 4,
           "trajectory": "Variance",
           "value": 1.776699572335637
          },
          {
           "color_by": "Variance",
           "sample_id": 0,
           "timepoint": 5,
           "trajectory": "Variance",
           "value": 1.8596455629847137
          },
          {
           "color_by": "Variance",
           "sample_id": 0,
           "timepoint": 6,
           "trajectory": "Variance",
           "value": 1.931192103948528
          },
          {
           "color_by": "Variance",
           "sample_id": 0,
           "timepoint": 7,
           "trajectory": "Variance",
           "value": 1.9944947920579421
          },
          {
           "color_by": "Variance",
           "sample_id": 0,
           "timepoint": 8,
           "trajectory": "Variance",
           "value": 2.0515217257881617
          },
          {
           "color_by": "Variance",
           "sample_id": 0,
           "timepoint": 9,
           "trajectory": "Variance",
           "value": 2.103590320268472
          },
          {
           "color_by": "Variance",
           "sample_id": 0,
           "timepoint": 10,
           "trajectory": "Variance",
           "value": 2.1516294867184467
          },
          {
           "color_by": "Variance",
           "sample_id": 0,
           "timepoint": 11,
           "trajectory": "Variance",
           "value": 2.1963208681213517
          },
          {
           "color_by": "Variance",
           "sample_id": 0,
           "timepoint": 12,
           "trajectory": "Variance",
           "value": 2.2381807387788126
          },
          {
           "color_by": "Variance",
           "sample_id": 0,
           "timepoint": 13,
           "trajectory": "Variance",
           "value": 2.277610310732232
          },
          {
           "color_by": "Variance",
           "sample_id": 0,
           "timepoint": 14,
           "trajectory": "Variance",
           "value": 2.314928099739782
          },
          {
           "color_by": "Variance",
           "sample_id": 0,
           "timepoint": 15,
           "trajectory": "Variance",
           "value": 2.350391558471361
          },
          {
           "color_by": "Variance",
           "sample_id": 0,
           "timepoint": 16,
           "trajectory": "Variance",
           "value": 2.3842120058818725
          },
          {
           "color_by": "Variance",
           "sample_id": 0,
           "timepoint": 17,
           "trajectory": "Variance",
           "value": 2.416565214433286
          },
          {
           "color_by": "Variance",
           "sample_id": 0,
           "timepoint": 18,
           "trajectory": "Variance",
           "value": 2.447599096225224
          },
          {
           "color_by": "Variance",
           "sample_id": 0,
           "timepoint": 19,
           "trajectory": "Variance",
           "value": 2.4774393981380327
          },
          {
           "color_by": "Variance",
           "sample_id": 0,
           "timepoint": 20,
           "trajectory": "Variance",
           "value": 2.5061939981811383
          },
          {
           "color_by": "Variance",
           "sample_id": 0,
           "timepoint": 21,
           "trajectory": "Variance",
           "value": 2.533956198587426
          },
          {
           "color_by": "Variance",
           "sample_id": 0,
           "timepoint": 22,
           "trajectory": "Variance",
           "value": 2.5608072860203808
          },
          {
           "color_by": "Variance",
           "sample_id": 0,
           "timepoint": 23,
           "trajectory": "Variance",
           "value": 2.586818547540531
          },
          {
           "color_by": "Variance",
           "sample_id": 0,
           "timepoint": 24,
           "trajectory": "Variance",
           "value": 2.612052876406911
          },
          {
           "color_by": "Variance",
           "sample_id": 0,
           "timepoint": 25,
           "trajectory": "Variance",
           "value": 2.636566064601367
          },
          {
           "color_by": "Variance",
           "sample_id": 0,
           "timepoint": 26,
           "trajectory": "Variance",
           "value": 2.6604078531527633
          },
          {
           "color_by": "Variance",
           "sample_id": 0,
           "timepoint": 27,
           "trajectory": "Variance",
           "value": 2.683622793123337
          },
          {
           "color_by": "Variance",
           "sample_id": 0,
           "timepoint": 28,
           "trajectory": "Variance",
           "value": 2.7062509570687614
          },
          {
           "color_by": "Variance",
           "sample_id": 0,
           "timepoint": 29,
           "trajectory": "Variance",
           "value": 2.7283285313020498
          },
          {
           "color_by": "Variance",
           "sample_id": 0,
           "timepoint": 30,
           "trajectory": "Variance",
           "value": 2.7498883123144924
          },
          {
           "color_by": "Variance",
           "sample_id": 0,
           "timepoint": 31,
           "trajectory": "Variance",
           "value": 2.7709601255121012
          },
          {
           "color_by": "Variance",
           "sample_id": 0,
           "timepoint": 32,
           "trajectory": "Variance",
           "value": 2.791571180515817
          },
          {
           "color_by": "Variance",
           "sample_id": 0,
           "timepoint": 33,
           "trajectory": "Variance",
           "value": 2.811746374300464
          },
          {
           "color_by": "Variance",
           "sample_id": 0,
           "timepoint": 34,
           "trajectory": "Variance",
           "value": 2.8315085511652867
          },
          {
           "color_by": "Variance",
           "sample_id": 0,
           "timepoint": 35,
           "trajectory": "Variance",
           "value": 2.85087872676167
          },
          {
           "color_by": "Variance",
           "sample_id": 0,
           "timepoint": 36,
           "trajectory": "Variance",
           "value": 2.869876282023915
          },
          {
           "color_by": "Variance",
           "sample_id": 0,
           "timepoint": 37,
           "trajectory": "Variance",
           "value": 2.888519131763438
          },
          {
           "color_by": "Variance",
           "sample_id": 0,
           "timepoint": 38,
           "trajectory": "Variance",
           "value": 2.9068238718264356
          },
          {
           "color_by": "Variance",
           "sample_id": 0,
           "timepoint": 39,
           "trajectory": "Variance",
           "value": 2.924805908028693
          },
          {
           "color_by": "Variance",
           "sample_id": 0,
           "timepoint": 40,
           "trajectory": "Variance",
           "value": 2.942479569529941
          },
          {
           "color_by": "Variance",
           "sample_id": 0,
           "timepoint": 41,
           "trajectory": "Variance",
           "value": 2.959858208864833
          },
          {
           "color_by": "Variance",
           "sample_id": 0,
           "timepoint": 42,
           "trajectory": "Variance",
           "value": 2.9769542904857396
          },
          {
           "color_by": "Variance",
           "sample_id": 0,
           "timepoint": 43,
           "trajectory": "Variance",
           "value": 2.9937794693768818
          },
          {
           "color_by": "Variance",
           "sample_id": 0,
           "timepoint": 44,
           "trajectory": "Variance",
           "value": 3.010344661056512
          },
          {
           "color_by": "Variance",
           "sample_id": 0,
           "timepoint": 45,
           "trajectory": "Variance",
           "value": 3.0266601040835037
          },
          {
           "color_by": "Variance",
           "sample_id": 0,
           "timepoint": 46,
           "trajectory": "Variance",
           "value": 3.042735416018537
          },
          {
           "color_by": "Variance",
           "sample_id": 0,
           "timepoint": 47,
           "trajectory": "Variance",
           "value": 3.0585796436517247
          },
          {
           "color_by": "Variance",
           "sample_id": 0,
           "timepoint": 48,
           "trajectory": "Variance",
           "value": 3.0742013081928166
          },
          {
           "color_by": "Variance",
           "sample_id": 0,
           "timepoint": 49,
           "trajectory": "Variance",
           "value": 3.0896084460229174
          },
          {
           "color_by": "Variance",
           "sample_id": 0,
           "timepoint": 50,
           "trajectory": "Variance",
           "value": 3.1048086455247823
          },
          {
           "color_by": "Variance",
           "sample_id": 0,
           "timepoint": 51,
           "trajectory": "Variance",
           "value": 3.119809080439423
          },
          {
           "color_by": "Variance",
           "sample_id": 0,
           "timepoint": 52,
           "trajectory": "Variance",
           "value": 3.134616540137905
          },
          {
           "color_by": "Variance",
           "sample_id": 0,
           "timepoint": 53,
           "trajectory": "Variance",
           "value": 3.1492374571471164
          },
          {
           "color_by": "Variance",
           "sample_id": 0,
           "timepoint": 54,
           "trajectory": "Variance",
           "value": 3.1636779322253896
          },
          {
           "color_by": "Variance",
           "sample_id": 0,
           "timepoint": 55,
           "trajectory": "Variance",
           "value": 3.1779437572471494
          },
          {
           "color_by": "Variance",
           "sample_id": 0,
           "timepoint": 56,
           "trajectory": "Variance",
           "value": 3.1920404361241475
          },
          {
           "color_by": "Variance",
           "sample_id": 0,
           "timepoint": 57,
           "trajectory": "Variance",
           "value": 3.2059732039635813
          },
          {
           "color_by": "Variance",
           "sample_id": 0,
           "timepoint": 58,
           "trajectory": "Variance",
           "value": 3.2197470446398393
          },
          {
           "color_by": "Variance",
           "sample_id": 0,
           "timepoint": 59,
           "trajectory": "Variance",
           "value": 3.2333667069361702
          },
          {
           "color_by": "Variance",
           "sample_id": 0,
           "timepoint": 60,
           "trajectory": "Variance",
           "value": 3.2468367193947816
          },
          {
           "color_by": "Variance",
           "sample_id": 0,
           "timepoint": 61,
           "trajectory": "Variance",
           "value": 3.2601614039984184
          },
          {
           "color_by": "Variance",
           "sample_id": 0,
           "timepoint": 62,
           "trajectory": "Variance",
           "value": 3.273344888792904
          },
          {
           "color_by": "Variance",
           "sample_id": 0,
           "timepoint": 63,
           "trajectory": "Variance",
           "value": 3.2863911195482927
          },
          {
           "color_by": "Variance",
           "sample_id": 0,
           "timepoint": 64,
           "trajectory": "Variance",
           "value": 3.2993038705458786
          },
          {
           "color_by": "Variance",
           "sample_id": 0,
           "timepoint": 65,
           "trajectory": "Variance",
           "value": 3.312086754569149
          },
          {
           "color_by": "Variance",
           "sample_id": 0,
           "timepoint": 66,
           "trajectory": "Variance",
           "value": 3.324743232168718
          },
          {
           "color_by": "Variance",
           "sample_id": 0,
           "timepoint": 67,
           "trajectory": "Variance",
           "value": 3.3372766202641366
          },
          {
           "color_by": "Variance",
           "sample_id": 0,
           "timepoint": 68,
           "trajectory": "Variance",
           "value": 3.3496901001391866
          },
          {
           "color_by": "Variance",
           "sample_id": 0,
           "timepoint": 69,
           "trajectory": "Variance",
           "value": 3.3619867248816715
          },
          {
           "color_by": "Variance",
           "sample_id": 0,
           "timepoint": 70,
           "trajectory": "Variance",
           "value": 3.37416942631375
          },
          {
           "color_by": "Variance",
           "sample_id": 0,
           "timepoint": 71,
           "trajectory": "Variance",
           "value": 3.386241021454446
          },
          {
           "color_by": "Variance",
           "sample_id": 0,
           "timepoint": 72,
           "trajectory": "Variance",
           "value": 3.3982042185520314
          },
          {
           "color_by": "Variance",
           "sample_id": 0,
           "timepoint": 73,
           "trajectory": "Variance",
           "value": 3.41006162272045
          },
          {
           "color_by": "Variance",
           "sample_id": 0,
           "timepoint": 74,
           "trajectory": "Variance",
           "value": 3.4218157412108248
          },
          {
           "color_by": "Variance",
           "sample_id": 0,
           "timepoint": 75,
           "trajectory": "Variance",
           "value": 3.433468988346264
          },
          {
           "color_by": "Variance",
           "sample_id": 0,
           "timepoint": 76,
           "trajectory": "Variance",
           "value": 3.445023690145641
          },
          {
           "color_by": "Variance",
           "sample_id": 0,
           "timepoint": 77,
           "trajectory": "Variance",
           "value": 3.456482088659792
          },
          {
           "color_by": "Variance",
           "sample_id": 0,
           "timepoint": 78,
           "trajectory": "Variance",
           "value": 3.467846346041482
          },
          {
           "color_by": "Variance",
           "sample_id": 0,
           "timepoint": 79,
           "trajectory": "Variance",
           "value": 3.4791185483686804
          },
          {
           "color_by": "Variance",
           "sample_id": 0,
           "timepoint": 80,
           "trajectory": "Variance",
           "value": 3.490300709239032
          },
          {
           "color_by": "Variance",
           "sample_id": 0,
           "timepoint": 81,
           "trajectory": "Variance",
           "value": 3.5013947731518704
          },
          {
           "color_by": "Variance",
           "sample_id": 0,
           "timepoint": 82,
           "trajectory": "Variance",
           "value": 3.5124026186928052
          },
          {
           "color_by": "Variance",
           "sample_id": 0,
           "timepoint": 83,
           "trajectory": "Variance",
           "value": 3.523326061534667
          },
          {
           "color_by": "Variance",
           "sample_id": 0,
           "timepoint": 84,
           "trajectory": "Variance",
           "value": 3.534166857267455
          },
          {
           "color_by": "Variance",
           "sample_id": 0,
           "timepoint": 85,
           "trajectory": "Variance",
           "value": 3.5449267040689736
          },
          {
           "color_by": "Variance",
           "sample_id": 0,
           "timepoint": 86,
           "trajectory": "Variance",
           "value": 3.5556072452268555
          },
          {
           "color_by": "Variance",
           "sample_id": 0,
           "timepoint": 87,
           "trajectory": "Variance",
           "value": 3.566210071521891
          },
          {
           "color_by": "Variance",
           "sample_id": 0,
           "timepoint": 88,
           "trajectory": "Variance",
           "value": 3.5767367234817846
          },
          {
           "color_by": "Variance",
           "sample_id": 0,
           "timepoint": 89,
           "trajectory": "Variance",
           "value": 3.5871886935137565
          },
          {
           "color_by": "Variance",
           "sample_id": 0,
           "timepoint": 90,
           "trajectory": "Variance",
           "value": 3.597567427923804
          },
          {
           "color_by": "Variance",
           "sample_id": 0,
           "timepoint": 91,
           "trajectory": "Variance",
           "value": 3.6078743288298254
          },
          {
           "color_by": "Variance",
           "sample_id": 0,
           "timepoint": 92,
           "trajectory": "Variance",
           "value": 3.6181107559752834
          },
          {
           "color_by": "Variance",
           "sample_id": 0,
           "timepoint": 93,
           "trajectory": "Variance",
           "value": 3.6282780284496012
          },
          {
           "color_by": "Variance",
           "sample_id": 0,
           "timepoint": 94,
           "trajectory": "Variance",
           "value": 3.638377426321048
          },
          {
           "color_by": "Variance",
           "sample_id": 0,
           "timepoint": 95,
           "trajectory": "Variance",
           "value": 3.648410192187415
          },
          {
           "color_by": "Variance",
           "sample_id": 0,
           "timepoint": 96,
           "trajectory": "Variance",
           "value": 3.6583775326494794
          },
          {
           "color_by": "Variance",
           "sample_id": 0,
           "timepoint": 97,
           "trajectory": "Variance",
           "value": 3.6682806197118265
          },
          {
           "color_by": "Variance",
           "sample_id": 0,
           "timepoint": 98,
           "trajectory": "Variance",
           "value": 3.6781205921153424
          },
          {
           "color_by": "Variance",
           "sample_id": 0,
           "timepoint": 99,
           "trajectory": "Variance",
           "value": 3.6878985566053695
          }
         ]
        },
        {
         "name": "points",
         "values": []
        },
        {
         "name": "markers",
         "values": []
        },
        {
         "name": "selected",
         "on": [
          {
           "remove": true,
           "trigger": "clear"
          },
          {
           "remove": true,
           "trigger": "!shift"
          },
          {
           "insert": "clicked",
           "trigger": "!shift && clicked"
          },
          {
           "toggle": "clicked",
           "trigger": "shift && clicked"
          }
         ]
        },
        {
         "name": "selectedData",
         "on": [
          {
           "remove": true,
           "trigger": "clearData"
          },
          {
           "toggle": "clickedData",
           "trigger": "clickedData"
          }
         ]
        }
       ],
       "height": 300,
       "legends": [
        {
         "encode": {
          "labels": {
           "interactive": true,
           "name": "legendLabel",
           "update": {
            "opacity": [
             {
              "test": "!length(data('selectedData')) || indata('selectedData', 'value', datum.value)",
              "value": 1
             },
             {
              "value": 0.25
             }
            ]
           }
          },
          "symbols": {
           "interactive": true,
           "name": "legendSymbol",
           "update": {
            "fill": {
             "value": "transparent"
            },
            "opacity": [
             {
              "test": "!length(data('selected')) || indata('selected', 'value', datum.value) || indata('selectedData', 'value', datum.value)",
              "value": 0.7
             },
             {
              "value": 0.15
             }
            ],
            "strokeWidth": {
             "value": 2
            }
           }
          }
         },
         "labelFontSize": 10,
         "name": "color_legend",
         "orient": "left",
         "shape": "shape1",
         "stroke": "color"
        }
       ],
       "marks": [
        {
         "from": {
          "facet": {
           "data": "points",
           "groupby": "trajectory",
           "name": "points_split"
          }
         },
         "marks": [
          {
           "encode": {
            "hover": {
             "fillOpacity": {
              "value": 0.9
             }
            },
            "update": {
             "fill": {
              "field": "trajectory",
              "scale": "color"
             },
             "fillOpacity": [
              {
               "test": "!length(data('selected')) || indata('selected', 'value', datum.trajectory)",
               "value": 0.5
              },
              {
               "value": 0.15
              }
             ],
             "size": {
              "value": 35
             },
             "stroke": {
              "field": "trajectory",
              "scale": "color"
             },
             "strokeOpacity": [
              {
               "test": "!length(data('selected')) || indata('selected', 'value', datum.trajectory)",
               "value": 0.75
              },
              {
               "value": 0.15
              }
             ],
             "strokeWidth": {
              "value": 2
             },
             "tooltip": {
              "field": "value"
             },
             "x": {
              "field": "timepoint",
              "scale": "xscale"
             },
             "y": {
              "field": "value",
              "scale": "yscale"
             }
            }
           },
           "from": {
            "data": "points_split"
           },
           "name": "_points_symbol",
           "type": "symbol",
           "zindex": 3
          },
          {
           "encode": {
            "hover": {
             "fillOpacity": {
              "value": 0.9
             }
            },
            "update": {
             "interpolate": {
              "value": "linear"
             },
             "stroke": {
              "field": "trajectory",
              "scale": "color"
             },
             "strokeDash": {
              "value": [
               5,
               3
              ]
             },
             "strokeOpacity": [
              {
               "test": "!length(data('selected')) || indata('selected', 'value', datum.trajectory)",
               "value": 0.3
              },
              {
               "value": 0.1
              }
             ],
             "strokeWidth": {
              "value": 2
             },
             "x": {
              "field": "timepoint",
              "scale": "xscale"
             },
             "y": {
              "field": "value",
              "scale": "yscale"
             }
            }
           },
           "from": {
            "data": "points_split"
           },
           "name": "_points_line",
           "type": "line",
           "zindex": 3
          }
         ],
         "name": "_points",
         "type": "group",
         "zindex": 3
        },
        {
         "from": {
          "facet": {
           "data": "traces",
           "groupby": "trajectory",
           "name": "traces_split"
          }
         },
         "marks": [
          {
           "encode": {
            "hover": {
             "fillOpacity": {
              "value": 0.9
             }
            },
            "update": {
             "interpolate": {
              "value": "linear"
             },
             "stroke": {
              "field": "trajectory",
              "scale": "color"
             },
             "strokeDash": [
              {
               "test": "indexof(datum.trajectory, 'Baseline') != -1 || indexof(datum.trajectory, 'Envelope') != -1",
               "value": [
                8,
                4
               ]
              },
              {
               "value": [
                1,
                0
               ]
              }
             ],
             "strokeOpacity": [
              {
               "test": "!length(data('selected')) || indata('selected', 'value', datum.trajectory)",
               "value": 0.75
              },
              {
               "value": 0.15
              }
             ],
             "strokeWidth": {
              "value": 2
             },
             "x": {
              "field": "timepoint",
              "scale": "xscale"
             },
             "y": {
              "field": "value",
              "scale": "yscale"
             }
            }
           },
           "from": {
            "data": "traces_split"
           },
           "name": "_traces_lines",
           "type": "line"
          },
          {
           "encode": {
            "hover": {
             "fillOpacity": {
              "value": 0.9
             }
            },
            "update": {
             "fill": {
              "field": "trajectory",
              "scale": "color"
             },
             "fillOpacity": [
              {
               "test": "datum.timepoint == scale('symbol_placement', datum.trajectory)",
               "value": 0.5
              },
              {
               "value": 0
              }
             ],
             "shape": {
              "field": "trajectory",
              "scale": "shape1"
             },
             "stroke": {
              "field": "trajectory",
              "scale": "color"
             },
             "strokeOpacity": [
              {
               "test": "datum.timepoint == scale('symbol_placement', datum.trajectory)",
               "value": 0.5
              },
              {
               "value": 0
              }
             ],
             "strokeWidth": {
              "value": 1
             },
             "x": {
              "field": "timepoint",
              "scale": "xscale"
             },
             "y": {
              "field": "value",
              "scale": "yscale"
             }
            }
           },
           "from": {
            "data": "traces_split"
           },
           "name": "_traces_symbol",
           "type": "symbol"
          }
         ],
         "name": "_traces",
         "type": "group",
         "zindex": 2
        },
        {
         "from": {
          "facet": {
           "data": "distributions",
           "groupby": "trajectory",
           "name": "trajectory_split"
          }
         },
         "marks": [
          {
           "encode": {
            "hover": {
             "fillOpacity": {
              "value": 0.9
             }
            },
            "update": {
             "fill": {
              "field": "trajectory",
              "scale": "color"
             },
             "fillOpacity": [
              {
               "test": "!length(data('selected')) || indata('selected', 'value', datum.trajectory)",
               "value": 0.1
              },
              {
               "value": 0.05
              }
             ],
             "interpolate": {
              "value": "linear"
             },
             "stroke": {
              "field": "trajectory",
              "scale": "color"
             },
             "strokeOpacity": [
              {
               "test": "!length(data('selected')) || indata('selected', 'value', datum.trajectory)",
               "value": 0.1
              },
              {
               "value": 0.05
              }
             ],
             "strokeWidth": {
              "value": 2
             },
             "x": {
              "field": "timepoint",
              "scale": "xscale"
             },
             "y": {
              "field": "upper",
              "scale": "yscale"
             },
             "y2": {
              "field": "lower",
              "scale": "yscale"
             }
            }
           },
           "from": {
            "data": "trajectory_split"
           },
           "interactive": true,
           "name": "area",
           "type": "area"
          }
         ],
         "name": "_distributions",
         "type": "group",
         "zindex": 1
        },
        {
         "marks": [
          {
           "encode": {
            "enter": {
             "stroke": {
              "value": "lightgray"
             }
            },
            "update": {
             "opacity": {
              "value": 1
             },
             "x": {
              "field": "timepoint",
              "scale": "xscale"
             },
             "y": {
              "signal": "height"
             },
             "y2": {
              "value": 0
             }
            }
           },
           "from": {
            "data": "markers"
           },
           "name": "_marker text",
           "type": "rule"
          },
          {
           "encode": {
            "enter": {
             "fontSize": {
              "value": 8
             },
             "text": {
              "field": "datum.label"
             },
             "y": {
              "value": 0
             }
            }
           },
           "from": {
            "data": "_marker text"
           },
           "name": "_marker flags",
           "transform": [
            {
             "as": [
              "x",
              "_y",
              "opacity",
              "align",
              "baseline"
             ],
             "lineAnchor": "start",
             "offset": [
              1
             ],
             "size": {
              "signal": "[width, height]"
             },
             "type": "label"
            }
           ],
           "type": "text"
          }
         ],
         "name": "_markers",
         "type": "group"
        }
       ],
       "scales": [
        {
         "domain": {
          "fields": [
           {
            "data": "distributions",
            "field": "timepoint"
           },
           {
            "data": "traces",
            "field": "timepoint"
           },
           {
            "data": "points",
            "field": "timepoint"
           },
           {
            "data": "markers",
            "field": "timepoint"
           }
          ]
         },
         "name": "xscale",
         "range": "width",
         "type": "linear",
         "zero": false
        },
        {
         "domain": {
          "fields": [
           {
            "data": "distributions",
            "field": "lower"
           },
           {
            "data": "distributions",
            "field": "upper"
           },
           {
            "data": "traces",
            "field": "value"
           },
           {
            "data": "points",
            "field": "value"
           }
          ]
         },
         "name": "yscale",
         "nice": true,
         "range": "height",
         "type": "linear",
         "zero": true
        },
        {
         "domain": {
          "fields": [
           {
            "data": "distributions",
            "field": "trajectory"
           },
           {
            "data": "traces",
            "field": "trajectory"
           },
           {
            "data": "points",
            "field": "trajectory"
           }
          ],
          "sort": {
           "order": "ascending"
          }
         },
         "name": "color",
         "range": "category",
         "type": "ordinal"
        },
        {
         "domain": {
          "fields": [
           {
            "data": "distributions",
            "field": "trajectory"
           },
           {
            "data": "traces",
            "field": "trajectory"
           },
           {
            "data": "points",
            "field": "trajectory"
           }
          ],
          "sort": {
           "order": "descending"
          }
         },
         "name": "shape1",
         "range": [
          "circle",
          "square",
          "cross",
          "diamond",
          "triangle-up",
          "triangle-down",
          "triangle-right",
          "triangle-left",
          "arrow",
          "wedge",
          "triangle"
         ],
         "type": "ordinal"
        },
        {
         "domain": {
          "fields": [
           {
            "data": "distributions",
            "field": "trajectory"
           },
           {
            "data": "traces",
            "field": "trajectory"
           },
           {
            "data": "points",
            "field": "trajectory"
           }
          ],
          "sort": {
           "order": "descending"
          }
         },
         "name": "symbol_placement",
         "range": [
          10,
          20,
          30,
          40,
          50,
          60,
          70,
          80
         ],
         "type": "ordinal"
        }
       ],
       "signals": [
        {
         "name": "clear",
         "on": [
          {
           "events": "mouseup[!event.item]",
           "force": true,
           "update": "true"
          }
         ],
         "value": true
        },
        {
         "name": "shift",
         "on": [
          {
           "events": "@legendSymbol:click, @legendLabel:click",
           "force": true,
           "update": "event.shiftKey"
          }
         ],
         "value": false
        },
        {
         "name": "clicked",
         "on": [
          {
           "events": "@legendSymbol:click, @legendLabel:click",
           "force": true,
           "update": "{value: datum.value}"
          }
         ],
         "value": null
        },
        {
         "name": "clearData",
         "on": [
          {
           "events": "mouseup[!event.item]",
           "force": true,
           "update": "true"
          }
         ],
         "value": true
        },
        {
         "name": "clickedData",
         "on": [
          {
           "events": "@area:click",
           "force": true,
           "update": "{value: datum.trajectory}"
          }
         ],
         "value": null
        }
       ],
       "width": 500
      }
     },
     "metadata": {},
     "output_type": "display_data"
    },
    {
     "name": "stderr",
     "output_type": "stream",
     "text": [
      "/var/folders/vn/q5vrjvfn60bfsnnd058cb6ww0000gn/T/ipykernel_52731/3673542801.py:108: FutureWarning: The provided callable <function mean at 0x11924a170> is currently using DataFrameGroupBy.mean. In a future version of pandas, the provided callable will be used directly. To keep current behavior pass the string \"mean\" instead.\n",
      "  parameters_by_sample_id = all_parameters_cluster.groupby(\"sample_id\").agg(np.mean)\n",
      "/var/folders/vn/q5vrjvfn60bfsnnd058cb6ww0000gn/T/ipykernel_52731/3673542801.py:109: FutureWarning: The provided callable <function mean at 0x11924a170> is currently using Series.mean. In a future version of pandas, the provided callable will be used directly. To keep current behavior pass the string \"mean\" instead.\n",
      "  parameters_by_sample_id  = parameters_by_sample_id.agg([np.mean, np.std]).reset_index()\n",
      "/var/folders/vn/q5vrjvfn60bfsnnd058cb6ww0000gn/T/ipykernel_52731/3673542801.py:109: FutureWarning: The provided callable <function std at 0x11924a290> is currently using Series.std. In a future version of pandas, the provided callable will be used directly. To keep current behavior pass the string \"std\" instead.\n",
      "  parameters_by_sample_id  = parameters_by_sample_id.agg([np.mean, np.std]).reset_index()\n"
     ]
    }
   ],
   "source": [
    "\n",
    "name = \"Freq_Change\" #All_Changes\n",
    "timepoint_list = []\n",
    "sine_list = []\n",
    "sample_list = []\n",
    "\n",
    "\n",
    "def save_result(data, name, ref_ext):\n",
    "    \"\"\"Save new reference files\"\"\"\n",
    "    _output_root = 'output'\n",
    "    mode = \"w\" if ref_ext == \"svg\" else \"wb\"\n",
    "    with open(os.path.join(_output_root, f\"{name}.{ref_ext}\"), mode) as f:\n",
    "        f.write(data)\n",
    "kmean = True\n",
    "run_functions =   [name] #[\"Straight\", \"Amp_Change\", \"Freq_Change\", \"Phase_Change\"]# #, [name]\n",
    "n_cluster = 2\n",
    "# create sine fucntions\n",
    "def return_sine_function_3(function_name):\n",
    "        if function_name == \"Straight\":\n",
    "                a, b, c, d = 0, 0, 0, random.uniform(0, 2)\n",
    "                a2, b2, c2, d2 = 0, 0, 0, 1\n",
    "        if function_name == \"Amp_Change\":\n",
    "                a, b, c, d = 1*random.uniform(0, 2), .25, 2*np.pi, random.uniform(0, 2)\n",
    "                a2, b2, c2, d2 = 1, .25, 2*np.pi, 1\n",
    "        if function_name == \"Freq_Change\":\n",
    "                a, b, c, d = 1, .25*random.uniform(0, 2), 2*np.pi, random.uniform(0, 2)\n",
    "                a2, b2, c2, d2 = 1, .25, 2*np.pi, 1\n",
    "        if function_name == \"Phase_Change\":\n",
    "                a, b, c, d = 1, .25, 2*np.pi*random.uniform(0, 2), random.uniform(0, 2)\n",
    "                a2, b2, c2, d2 = 1, .25, 2*np.pi, 1\n",
    "        def sine_function(x):\n",
    "                return np.power(x, .25) + a*np.sin(b*x + c) + d\n",
    "        def sine_function_default(x):\n",
    "                return np.power(x, .25) + a2*np.sin(b2*x + c2) + d2\n",
    "        function_parameters_individual = {'a': a,  'b': b, 'c': c,  'd': d}\n",
    "        function_parameters_default = {'a': a2, 'b': b2, 'c': c2, 'd': d2}\n",
    "        \n",
    "        return sine_function, sine_function_default, function_parameters_individual, function_parameters_default\n",
    "\n",
    "function_dataframe = pd.DataFrame(columns=['functions', 'sample_id', 'a', 'b',  'c',  'd'])\n",
    "function_list = []\n",
    "j = 0\n",
    "all_functions ={}\n",
    "num_samples = 100\n",
    "\n",
    "# create sine dataframes and save the parameters used\n",
    "for funct_name in run_functions:\n",
    "        for _ in range(num_samples):\n",
    "                j+=1\n",
    "                timepoint_list.extend([x for x in range(100)])\n",
    "                sample_list.extend([j]*100)\n",
    "                random_function,  sine_function_default, function_parameters_individual, function_parameters_default = return_sine_function_3(funct_name)\n",
    "\n",
    "                function_parameters_individual['functions'] = funct_name\n",
    "                function_parameters_individual['sample_id'] = j\n",
    "                function_list.append(function_parameters_individual)\n",
    "                sine_list.extend([random_function(x) for x in range(100)])\n",
    "        all_functions[funct_name] = sine_function_default \n",
    "        function_parameters_default['functions'] = funct_name + \" Default\"\n",
    "        function_parameters_default['sample_id'] = None\n",
    "\n",
    "#keep track of parameters\n",
    "function_dataframe = pd.DataFrame(function_list)\n",
    "function_default_dataframe =  pd.DataFrame(function_parameters_default, index=[0])\n",
    "\n",
    "\n",
    "sine_distribution= pd.DataFrame({'timepoint_id' : timepoint_list,\n",
    "                   'sample_id' : sample_list,\n",
    "                   'Example': sine_list})\n",
    "\n",
    "\n",
    "traces_list = []   \n",
    "\n",
    "# get examplary lines\n",
    "#change kmean here to use clustering\n",
    "examplary_line, trajectory_dict = pyciemss.visuals.trajectories.select_traces(sine_distribution,  select_by_list = ['mean', \"variance\", 'chaos', 'random'], kmean=kmean, n_clusters = n_cluster)\n",
    "# get the sample'id for the examplary data used per sample_id and select_by\n",
    "best_samples_cluster = examplary_line[['sample_id', 'select_by', 'cluster']].drop_duplicates()\n",
    "best_samples_df_list = []\n",
    "parameters_by_sample_id_list = []\n",
    "# for each cluster create a new plot\n",
    "for cluster in list(np.unique(examplary_line['cluster'])): \n",
    "        # for distribution only use the sample_ids in the cluster\n",
    "       \n",
    "        cluster_sample_id = trajectory_dict[cluster.lower()]['cluster_sample_id']  \n",
    "        cluster_sine_distribution =  sine_distribution[sine_distribution[\"sample_id\"].isin(cluster_sample_id)]\n",
    "        current_cluster_df = examplary_line[examplary_line['cluster'] == cluster]\n",
    "        current_cluster_df = current_cluster_df.reset_index()\n",
    "        # get right format to use as traces\n",
    "        examplary_lines_pivot = current_cluster_df[['examplary_line', 'envelope_mean', 'timepoint', 'select_by']].pivot_table(\n",
    "        values=\"examplary_line\", index = [\"timepoint\", 'envelope_mean'], columns=\"select_by\"\n",
    "        )\n",
    "        examplary_lines_pivot = examplary_lines_pivot.reset_index()\n",
    "        examplary_lines_pivot = examplary_lines_pivot.rename(columns = {'envelope_mean': 'Envelope_Mean'})\n",
    "        if len(run_functions) == 1 and not kmean:\n",
    "                # get baseline for sine functions\n",
    "                for function_name, function in all_functions.items():\n",
    "                        examplary_lines_pivot[\"Baseline_\" + function_name.title()] = [function(x) for x in range(100)]\n",
    "        cluster_sine_distribution = cluster_sine_distribution.rename(columns = {'Example': '_Envelope'})\n",
    "        #plot the traces along with the baselines\n",
    "        schema = plots.trajectories(cluster_sine_distribution[['timepoint_id', 'sample_id', '_Envelope']], traces = examplary_lines_pivot)\n",
    "        path = \"{}_{}_{}_{}\".format(name, cluster, str(len(cluster_sample_id)), str(num_samples))\n",
    "        image = plots.ipy_display(schema, format=\"PNG\").data\n",
    "        save_result(image, path, \"png\")\n",
    "        plots.ipy_display(schema, format=\"interactive\")\n",
    "\n",
    "        # get average and std of parameter cluster\n",
    "        all_parameters_cluster = cluster_sine_distribution.merge(function_dataframe, how=\"inner\", on=\"sample_id\")[['sample_id', 'a', 'b', 'c', 'd']]\n",
    "        parameters_by_sample_id = all_parameters_cluster.groupby(\"sample_id\").agg(np.mean)\n",
    "        parameters_by_sample_id  = parameters_by_sample_id.agg([np.mean, np.std]).reset_index()\n",
    "        parameters_by_sample_id['cluster'] = cluster\n",
    "        parameters_by_sample_id['num'] = len(cluster_sample_id)\n",
    "        parameters_by_sample_id_list.append(parameters_by_sample_id)\n",
    "\n",
    "parameters_metrics = pd.concat(parameters_by_sample_id_list)\n",
    "\n",
    "parameters_metrics.to_csv(\"output/{}_{}parameter_info.csv\".format(name,kmean))\n",
    "if len(run_functions) == 1 and not kmean:\n",
    "        # clean up table to get the parameters of the samples id's used for examplary\n",
    "        all_clusters = best_samples_cluster.merge(function_dataframe, how=\"inner\", on=\"sample_id\")\n",
    "        all_clusters = pd.concat([all_clusters, function_default_dataframe])[['functions', 'select_by', 'a', 'b', 'c', 'd']]\n",
    "        all_clusters = all_clusters.rename(columns = {'functions': 'Function Name', 'select_by': \"Selection Method\"})\n",
    "        all_clusters[\"Function Name\"] = all_clusters[\"Function Name\"].apply(lambda x: x.replace(\"_\", \" \").title())\n",
    "        all_clusters[\"Examplar #\"] = all_clusters[\"Selection Method\"].apply(lambda x: 1 if len(str(x).split(\"_\")) < 2 else str(x).split(\"_\")[1])\n",
    "        all_clusters[\"Selection Method\"] = all_clusters[\"Selection Method\"].apply(lambda x:  str(x).split(\"_\")[0])\n",
    "        all_clusters = all_clusters.round(2)\n",
    "\n",
    "\n",
    "        all_clusters.to_csv(\"output/{}.csv\".format(name))\n",
    "        # table with sine variables of starting function and the formula of the best select_by lines and metrics1"
   ]
  },
  {
   "cell_type": "code",
   "execution_count": 14,
   "metadata": {},
   "outputs": [
    {
     "name": "stdout",
     "output_type": "stream",
     "text": [
      "\n",
      "Granger Causality\n",
      "number of lags (no zero) 10\n",
      "ssr based F test:         F=1.6088  , p=0.1224  , df_denom=69, df_num=10\n",
      "ssr based chi2 test:   chi2=20.9840 , p=0.0212  , df=10\n",
      "likelihood ratio test: chi2=18.8618 , p=0.0421  , df=10\n",
      "parameter F test:         F=1.6088  , p=0.1224  , df_denom=69, df_num=10\n",
      "\n",
      "Granger Causality\n",
      "number of lags (no zero) 10\n",
      "ssr based F test:         F=0.7004  , p=0.7208  , df_denom=69, df_num=10\n",
      "ssr based chi2 test:   chi2=9.1357  , p=0.5193  , df=10\n",
      "likelihood ratio test: chi2=8.7012  , p=0.5607  , df=10\n",
      "parameter F test:         F=0.7004  , p=0.7208  , df_denom=69, df_num=10\n",
      "\n",
      "Granger Causality\n",
      "number of lags (no zero) 10\n",
      "ssr based F test:         F=0.5957  , p=0.8121  , df_denom=69, df_num=10\n",
      "ssr based chi2 test:   chi2=7.7699  , p=0.6513  , df=10\n",
      "likelihood ratio test: chi2=7.4526  , p=0.6821  , df=10\n",
      "parameter F test:         F=0.5957  , p=0.8121  , df_denom=69, df_num=10\n",
      "\n",
      "Granger Causality\n",
      "number of lags (no zero) 10\n",
      "ssr based F test:         F=1.7724  , p=0.0823  , df_denom=69, df_num=10\n",
      "ssr based chi2 test:   chi2=23.1177 , p=0.0103  , df=10\n",
      "likelihood ratio test: chi2=20.5757 , p=0.0243  , df=10\n",
      "parameter F test:         F=1.7724  , p=0.0823  , df_denom=69, df_num=10\n",
      "\n",
      "Granger Causality\n",
      "number of lags (no zero) 10\n",
      "ssr based F test:         F=0.5142  , p=0.8745  , df_denom=69, df_num=10\n",
      "ssr based chi2 test:   chi2=6.7068  , p=0.7528  , df=10\n",
      "likelihood ratio test: chi2=6.4687  , p=0.7745  , df=10\n",
      "parameter F test:         F=0.5142  , p=0.8745  , df_denom=69, df_num=10\n",
      "\n",
      "Granger Causality\n",
      "number of lags (no zero) 10\n",
      "ssr based F test:         F=1.3702  , p=0.2126  , df_denom=69, df_num=10\n",
      "ssr based chi2 test:   chi2=17.8727 , p=0.0571  , df=10\n",
      "likelihood ratio test: chi2=16.3028 , p=0.0913  , df=10\n",
      "parameter F test:         F=1.3702  , p=0.2126  , df_denom=69, df_num=10\n",
      "\n",
      "Granger Causality\n",
      "number of lags (no zero) 10\n",
      "ssr based F test:         F=0.4902  , p=0.8909  , df_denom=69, df_num=10\n",
      "ssr based chi2 test:   chi2=6.3936  , p=0.7812  , df=10\n",
      "likelihood ratio test: chi2=6.1767  , p=0.8002  , df=10\n",
      "parameter F test:         F=0.4902  , p=0.8909  , df_denom=69, df_num=10\n",
      "\n",
      "Granger Causality\n",
      "number of lags (no zero) 10\n",
      "ssr based F test:         F=1.3945  , p=0.2013  , df_denom=69, df_num=10\n",
      "ssr based chi2 test:   chi2=18.1897 , p=0.0518  , df=10\n",
      "likelihood ratio test: chi2=16.5669 , p=0.0845  , df=10\n",
      "parameter F test:         F=1.3945  , p=0.2013  , df_denom=69, df_num=10\n",
      "\n",
      "Granger Causality\n",
      "number of lags (no zero) 10\n",
      "ssr based F test:         F=0.7753  , p=0.6519  , df_denom=69, df_num=10\n",
      "ssr based chi2 test:   chi2=10.1123 , p=0.4307  , df=10\n",
      "likelihood ratio test: chi2=9.5835  , p=0.4778  , df=10\n",
      "parameter F test:         F=0.7753  , p=0.6519  , df_denom=69, df_num=10\n",
      "\n",
      "Granger Causality\n",
      "number of lags (no zero) 10\n",
      "ssr based F test:         F=1.3871  , p=0.2047  , df_denom=69, df_num=10\n",
      "ssr based chi2 test:   chi2=18.0930 , p=0.0534  , df=10\n",
      "likelihood ratio test: chi2=16.4864 , p=0.0865  , df=10\n",
      "parameter F test:         F=1.3871  , p=0.2047  , df_denom=69, df_num=10\n",
      "\n",
      "Granger Causality\n",
      "number of lags (no zero) 10\n",
      "ssr based F test:         F=0.7759  , p=0.6514  , df_denom=69, df_num=10\n",
      "ssr based chi2 test:   chi2=10.1201 , p=0.4300  , df=10\n",
      "likelihood ratio test: chi2=9.5905  , p=0.4771  , df=10\n",
      "parameter F test:         F=0.7759  , p=0.6514  , df_denom=69, df_num=10\n",
      "\n",
      "Granger Causality\n",
      "number of lags (no zero) 10\n",
      "ssr based F test:         F=1.1980  , p=0.3078  , df_denom=69, df_num=10\n",
      "ssr based chi2 test:   chi2=15.6255 , p=0.1109  , df=10\n",
      "likelihood ratio test: chi2=14.4081 , p=0.1552  , df=10\n",
      "parameter F test:         F=1.1980  , p=0.3078  , df_denom=69, df_num=10\n",
      "\n",
      "Granger Causality\n",
      "number of lags (no zero) 10\n",
      "ssr based F test:         F=0.8909  , p=0.5461  , df_denom=69, df_num=10\n",
      "ssr based chi2 test:   chi2=11.6200 , p=0.3113  , df=10\n",
      "likelihood ratio test: chi2=10.9287 , p=0.3631  , df=10\n",
      "parameter F test:         F=0.8909  , p=0.5461  , df_denom=69, df_num=10\n",
      "\n",
      "Granger Causality\n",
      "number of lags (no zero) 10\n",
      "ssr based F test:         F=0.8846  , p=0.5517  , df_denom=69, df_num=10\n",
      "ssr based chi2 test:   chi2=11.5381 , p=0.3172  , df=10\n",
      "likelihood ratio test: chi2=10.8562 , p=0.3688  , df=10\n",
      "parameter F test:         F=0.8846  , p=0.5517  , df_denom=69, df_num=10\n",
      "\n",
      "Granger Causality\n",
      "number of lags (no zero) 10\n",
      "ssr based F test:         F=0.4612  , p=0.9092  , df_denom=69, df_num=10\n",
      "ssr based chi2 test:   chi2=6.0158  , p=0.8139  , df=10\n",
      "likelihood ratio test: chi2=5.8233  , p=0.8299  , df=10\n",
      "parameter F test:         F=0.4612  , p=0.9092  , df_denom=69, df_num=10\n",
      "\n",
      "Granger Causality\n",
      "number of lags (no zero) 10\n",
      "ssr based F test:         F=0.6701  , p=0.7481  , df_denom=69, df_num=10\n",
      "ssr based chi2 test:   chi2=8.7403  , p=0.5569  , df=10\n",
      "likelihood ratio test: chi2=8.3415  , p=0.5955  , df=10\n",
      "parameter F test:         F=0.6701  , p=0.7481  , df_denom=69, df_num=10\n",
      "\n",
      "Granger Causality\n",
      "number of lags (no zero) 10\n",
      "ssr based F test:         F=1.5557  , p=0.1389  , df_denom=69, df_num=10\n",
      "ssr based chi2 test:   chi2=20.2920 , p=0.0266  , df=10\n",
      "likelihood ratio test: chi2=18.2989 , p=0.0501  , df=10\n",
      "parameter F test:         F=1.5557  , p=0.1389  , df_denom=69, df_num=10\n",
      "\n",
      "Granger Causality\n",
      "number of lags (no zero) 10\n",
      "ssr based F test:         F=0.9422  , p=0.5009  , df_denom=69, df_num=10\n",
      "ssr based chi2 test:   chi2=12.2901 , p=0.2661  , df=10\n",
      "likelihood ratio test: chi2=11.5203 , p=0.3184  , df=10\n",
      "parameter F test:         F=0.9422  , p=0.5009  , df_denom=69, df_num=10\n",
      "\n",
      "Granger Causality\n",
      "number of lags (no zero) 10\n",
      "ssr based F test:         F=2.1471  , p=0.0318  , df_denom=69, df_num=10\n",
      "ssr based chi2 test:   chi2=28.0060 , p=0.0018  , df=10\n",
      "likelihood ratio test: chi2=24.3833 , p=0.0066  , df=10\n",
      "parameter F test:         F=2.1471  , p=0.0318  , df_denom=69, df_num=10\n",
      "\n",
      "Granger Causality\n",
      "number of lags (no zero) 10\n",
      "ssr based F test:         F=2.0703  , p=0.0388  , df_denom=69, df_num=10\n",
      "ssr based chi2 test:   chi2=27.0039 , p=0.0026  , df=10\n",
      "likelihood ratio test: chi2=23.6158 , p=0.0087  , df=10\n",
      "parameter F test:         F=2.0703  , p=0.0388  , df_denom=69, df_num=10\n",
      "\n",
      "Granger Causality\n",
      "number of lags (no zero) 10\n",
      "ssr based F test:         F=0.9262  , p=0.5149  , df_denom=69, df_num=10\n",
      "ssr based chi2 test:   chi2=12.0809 , p=0.2797  , df=10\n",
      "likelihood ratio test: chi2=11.3360 , p=0.3319  , df=10\n",
      "parameter F test:         F=0.9262  , p=0.5149  , df_denom=69, df_num=10\n",
      "\n",
      "Granger Causality\n",
      "number of lags (no zero) 10\n",
      "ssr based F test:         F=1.3228  , p=0.2360  , df_denom=69, df_num=10\n",
      "ssr based chi2 test:   chi2=17.2536 , p=0.0689  , df=10\n",
      "likelihood ratio test: chi2=15.7848 , p=0.1060  , df=10\n",
      "parameter F test:         F=1.3228  , p=0.2360  , df_denom=69, df_num=10\n",
      "\n",
      "Granger Causality\n",
      "number of lags (no zero) 10\n",
      "ssr based F test:         F=1.7580  , p=0.0852  , df_denom=69, df_num=10\n",
      "ssr based chi2 test:   chi2=22.9304 , p=0.0110  , df=10\n",
      "likelihood ratio test: chi2=20.4266 , p=0.0255  , df=10\n",
      "parameter F test:         F=1.7580  , p=0.0852  , df_denom=69, df_num=10\n",
      "\n",
      "Granger Causality\n",
      "number of lags (no zero) 10\n",
      "ssr based F test:         F=0.7388  , p=0.6856  , df_denom=69, df_num=10\n",
      "ssr based chi2 test:   chi2=9.6365  , p=0.4729  , df=10\n",
      "likelihood ratio test: chi2=9.1547  , p=0.5175  , df=10\n",
      "parameter F test:         F=0.7388  , p=0.6856  , df_denom=69, df_num=10\n",
      "\n",
      "Granger Causality\n",
      "number of lags (no zero) 10\n",
      "ssr based F test:         F=1.2872  , p=0.2550  , df_denom=69, df_num=10\n",
      "ssr based chi2 test:   chi2=16.7896 , p=0.0792  , df=10\n",
      "likelihood ratio test: chi2=15.3946 , p=0.1183  , df=10\n",
      "parameter F test:         F=1.2872  , p=0.2550  , df_denom=69, df_num=10\n",
      "\n",
      "Granger Causality\n",
      "number of lags (no zero) 10\n",
      "ssr based F test:         F=0.8759  , p=0.5596  , df_denom=69, df_num=10\n",
      "ssr based chi2 test:   chi2=11.4250 , p=0.3254  , df=10\n",
      "likelihood ratio test: chi2=10.7559 , p=0.3769  , df=10\n",
      "parameter F test:         F=0.8759  , p=0.5596  , df_denom=69, df_num=10\n",
      "\n",
      "Granger Causality\n",
      "number of lags (no zero) 10\n",
      "ssr based F test:         F=1.9525  , p=0.0524  , df_denom=69, df_num=10\n",
      "ssr based chi2 test:   chi2=25.4673 , p=0.0045  , df=10\n",
      "likelihood ratio test: chi2=22.4260 , p=0.0131  , df=10\n",
      "parameter F test:         F=1.9525  , p=0.0524  , df_denom=69, df_num=10\n",
      "\n",
      "Granger Causality\n",
      "number of lags (no zero) 10\n",
      "ssr based F test:         F=3.7700  , p=0.0004  , df_denom=69, df_num=10\n",
      "ssr based chi2 test:   chi2=49.1736 , p=0.0000  , df=10\n",
      "likelihood ratio test: chi2=39.2321 , p=0.0000  , df=10\n",
      "parameter F test:         F=3.7700  , p=0.0004  , df_denom=69, df_num=10\n",
      "\n",
      "Granger Causality\n",
      "number of lags (no zero) 10\n",
      "ssr based F test:         F=1.0794  , p=0.3899  , df_denom=69, df_num=10\n",
      "ssr based chi2 test:   chi2=14.0798 , p=0.1694  , df=10\n",
      "likelihood ratio test: chi2=13.0813 , p=0.2192  , df=10\n",
      "parameter F test:         F=1.0794  , p=0.3899  , df_denom=69, df_num=10\n",
      "\n",
      "Granger Causality\n",
      "number of lags (no zero) 10\n",
      "ssr based F test:         F=1.1712  , p=0.3252  , df_denom=69, df_num=10\n",
      "ssr based chi2 test:   chi2=15.2761 , p=0.1223  , df=10\n",
      "likelihood ratio test: chi2=14.1099 , p=0.1680  , df=10\n",
      "parameter F test:         F=1.1712  , p=0.3252  , df_denom=69, df_num=10\n",
      "\n",
      "Granger Causality\n",
      "number of lags (no zero) 10\n",
      "ssr based F test:         F=1.1317  , p=0.3520  , df_denom=69, df_num=10\n",
      "ssr based chi2 test:   chi2=14.7617 , p=0.1410  , df=10\n",
      "likelihood ratio test: chi2=13.6691 , p=0.1886  , df=10\n",
      "parameter F test:         F=1.1317  , p=0.3520  , df_denom=69, df_num=10\n",
      "\n",
      "Granger Causality\n",
      "number of lags (no zero) 10\n",
      "ssr based F test:         F=1.5622  , p=0.1368  , df_denom=69, df_num=10\n",
      "ssr based chi2 test:   chi2=20.3760 , p=0.0259  , df=10\n",
      "likelihood ratio test: chi2=18.3674 , p=0.0491  , df=10\n",
      "parameter F test:         F=1.5622  , p=0.1368  , df_denom=69, df_num=10\n",
      "\n",
      "Granger Causality\n",
      "number of lags (no zero) 10\n",
      "ssr based F test:         F=0.2817  , p=0.9833  , df_denom=69, df_num=10\n",
      "ssr based chi2 test:   chi2=3.6744  , p=0.9608  , df=10\n",
      "likelihood ratio test: chi2=3.6014  , p=0.9635  , df=10\n",
      "parameter F test:         F=0.2817  , p=0.9833  , df_denom=69, df_num=10\n",
      "\n",
      "Granger Causality\n",
      "number of lags (no zero) 10\n",
      "ssr based F test:         F=1.5638  , p=0.1362  , df_denom=69, df_num=10\n",
      "ssr based chi2 test:   chi2=20.3970 , p=0.0257  , df=10\n",
      "likelihood ratio test: chi2=18.3846 , p=0.0488  , df=10\n",
      "parameter F test:         F=1.5638  , p=0.1362  , df_denom=69, df_num=10\n",
      "\n",
      "Granger Causality\n",
      "number of lags (no zero) 10\n",
      "ssr based F test:         F=1.4808  , p=0.1654  , df_denom=69, df_num=10\n",
      "ssr based chi2 test:   chi2=19.3145 , p=0.0364  , df=10\n",
      "likelihood ratio test: chi2=17.4977 , p=0.0641  , df=10\n",
      "parameter F test:         F=1.4808  , p=0.1654  , df_denom=69, df_num=10\n",
      "\n",
      "Granger Causality\n",
      "number of lags (no zero) 10\n",
      "ssr based F test:         F=0.7027  , p=0.7187  , df_denom=69, df_num=10\n",
      "ssr based chi2 test:   chi2=9.1662  , p=0.5164  , df=10\n",
      "likelihood ratio test: chi2=8.7289  , p=0.5580  , df=10\n",
      "parameter F test:         F=0.7027  , p=0.7187  , df_denom=69, df_num=10\n",
      "\n",
      "Granger Causality\n",
      "number of lags (no zero) 10\n",
      "ssr based F test:         F=0.9185  , p=0.5216  , df_denom=69, df_num=10\n",
      "ssr based chi2 test:   chi2=11.9805 , p=0.2864  , df=10\n",
      "likelihood ratio test: chi2=11.2475 , p=0.3386  , df=10\n",
      "parameter F test:         F=0.9185  , p=0.5216  , df_denom=69, df_num=10\n",
      "\n",
      "Granger Causality\n",
      "number of lags (no zero) 10\n",
      "ssr based F test:         F=0.6424  , p=0.7724  , df_denom=69, df_num=10\n",
      "ssr based chi2 test:   chi2=8.3796  , p=0.5918  , df=10\n",
      "likelihood ratio test: chi2=8.0121  , p=0.6277  , df=10\n",
      "parameter F test:         F=0.6424  , p=0.7724  , df_denom=69, df_num=10\n",
      "\n",
      "Granger Causality\n",
      "number of lags (no zero) 10\n",
      "ssr based F test:         F=1.1375  , p=0.3480  , df_denom=69, df_num=10\n",
      "ssr based chi2 test:   chi2=14.8373 , p=0.1381  , df=10\n",
      "likelihood ratio test: chi2=13.7340 , p=0.1855  , df=10\n",
      "parameter F test:         F=1.1375  , p=0.3480  , df_denom=69, df_num=10\n",
      "\n",
      "Granger Causality\n",
      "number of lags (no zero) 10\n",
      "ssr based F test:         F=0.6866  , p=0.7333  , df_denom=69, df_num=10\n",
      "ssr based chi2 test:   chi2=8.9553  , p=0.5364  , df=10\n",
      "likelihood ratio test: chi2=8.5372  , p=0.5765  , df=10\n",
      "parameter F test:         F=0.6866  , p=0.7333  , df_denom=69, df_num=10\n",
      "\n",
      "Granger Causality\n",
      "number of lags (no zero) 10\n",
      "ssr based F test:         F=1.1525  , p=0.3377  , df_denom=69, df_num=10\n",
      "ssr based chi2 test:   chi2=15.0329 , p=0.1309  , df=10\n",
      "likelihood ratio test: chi2=13.9017 , p=0.1775  , df=10\n",
      "parameter F test:         F=1.1525  , p=0.3377  , df_denom=69, df_num=10\n",
      "\n",
      "Granger Causality\n",
      "number of lags (no zero) 10\n",
      "ssr based F test:         F=1.0545  , p=0.4089  , df_denom=69, df_num=10\n",
      "ssr based chi2 test:   chi2=13.7544 , p=0.1845  , df=10\n",
      "likelihood ratio test: chi2=12.7995 , p=0.2351  , df=10\n",
      "parameter F test:         F=1.0545  , p=0.4089  , df_denom=69, df_num=10\n",
      "\n",
      "Granger Causality\n",
      "number of lags (no zero) 10\n",
      "ssr based F test:         F=1.2741  , p=0.2622  , df_denom=69, df_num=10\n",
      "ssr based chi2 test:   chi2=16.6193 , p=0.0832  , df=10\n",
      "likelihood ratio test: chi2=15.2509 , p=0.1232  , df=10\n",
      "parameter F test:         F=1.2741  , p=0.2622  , df_denom=69, df_num=10\n",
      "\n",
      "Granger Causality\n",
      "number of lags (no zero) 10\n",
      "ssr based F test:         F=0.7756  , p=0.6516  , df_denom=69, df_num=10\n",
      "ssr based chi2 test:   chi2=10.1171 , p=0.4303  , df=10\n",
      "likelihood ratio test: chi2=9.5878  , p=0.4774  , df=10\n",
      "parameter F test:         F=0.7756  , p=0.6516  , df_denom=69, df_num=10\n",
      "\n",
      "Granger Causality\n",
      "number of lags (no zero) 10\n",
      "ssr based F test:         F=1.3951  , p=0.2011  , df_denom=69, df_num=10\n",
      "ssr based chi2 test:   chi2=18.1973 , p=0.0517  , df=10\n",
      "likelihood ratio test: chi2=16.5732 , p=0.0844  , df=10\n",
      "parameter F test:         F=1.3951  , p=0.2011  , df_denom=69, df_num=10\n",
      "\n",
      "Granger Causality\n",
      "number of lags (no zero) 10\n",
      "ssr based F test:         F=1.8065  , p=0.0756  , df_denom=69, df_num=10\n",
      "ssr based chi2 test:   chi2=23.5635 , p=0.0088  , df=10\n",
      "likelihood ratio test: chi2=20.9297 , p=0.0216  , df=10\n",
      "parameter F test:         F=1.8065  , p=0.0756  , df_denom=69, df_num=10\n",
      "\n",
      "Granger Causality\n",
      "number of lags (no zero) 10\n",
      "ssr based F test:         F=1.0796  , p=0.3898  , df_denom=69, df_num=10\n",
      "ssr based chi2 test:   chi2=14.0815 , p=0.1693  , df=10\n",
      "likelihood ratio test: chi2=13.0828 , p=0.2191  , df=10\n",
      "parameter F test:         F=1.0796  , p=0.3898  , df_denom=69, df_num=10\n",
      "\n",
      "Granger Causality\n",
      "number of lags (no zero) 10\n",
      "ssr based F test:         F=1.0563  , p=0.4075  , df_denom=69, df_num=10\n",
      "ssr based chi2 test:   chi2=13.7773 , p=0.1834  , df=10\n",
      "likelihood ratio test: chi2=12.8194 , p=0.2339  , df=10\n",
      "parameter F test:         F=1.0563  , p=0.4075  , df_denom=69, df_num=10\n",
      "\n",
      "Granger Causality\n",
      "number of lags (no zero) 10\n",
      "ssr based F test:         F=1.3009  , p=0.2476  , df_denom=69, df_num=10\n",
      "ssr based chi2 test:   chi2=16.9678 , p=0.0751  , df=10\n",
      "likelihood ratio test: chi2=15.5446 , p=0.1134  , df=10\n",
      "parameter F test:         F=1.3009  , p=0.2476  , df_denom=69, df_num=10\n",
      "\n",
      "Granger Causality\n",
      "number of lags (no zero) 10\n",
      "ssr based F test:         F=2.0104  , p=0.0452  , df_denom=69, df_num=10\n",
      "ssr based chi2 test:   chi2=26.2230 , p=0.0035  , df=10\n",
      "likelihood ratio test: chi2=23.0131 , p=0.0107  , df=10\n",
      "parameter F test:         F=2.0104  , p=0.0452  , df_denom=69, df_num=10\n",
      "\n",
      "Granger Causality\n",
      "number of lags (no zero) 10\n",
      "ssr based F test:         F=0.7102  , p=0.7119  , df_denom=69, df_num=10\n",
      "ssr based chi2 test:   chi2=9.2631  , p=0.5073  , df=10\n",
      "likelihood ratio test: chi2=8.8168  , p=0.5496  , df=10\n",
      "parameter F test:         F=0.7102  , p=0.7119  , df_denom=69, df_num=10\n",
      "\n",
      "Granger Causality\n",
      "number of lags (no zero) 10\n",
      "ssr based F test:         F=1.0107  , p=0.4436  , df_denom=69, df_num=10\n",
      "ssr based chi2 test:   chi2=13.1833 , p=0.2136  , df=10\n",
      "likelihood ratio test: chi2=12.3028 , p=0.2653  , df=10\n",
      "parameter F test:         F=1.0107  , p=0.4436  , df_denom=69, df_num=10\n",
      "\n",
      "Granger Causality\n",
      "number of lags (no zero) 10\n",
      "ssr based F test:         F=1.4841  , p=0.1641  , df_denom=69, df_num=10\n",
      "ssr based chi2 test:   chi2=19.3583 , p=0.0359  , df=10\n",
      "likelihood ratio test: chi2=17.5338 , p=0.0634  , df=10\n",
      "parameter F test:         F=1.4841  , p=0.1641  , df_denom=69, df_num=10\n",
      "\n",
      "Granger Causality\n",
      "number of lags (no zero) 10\n",
      "ssr based F test:         F=0.9331  , p=0.5089  , df_denom=69, df_num=10\n",
      "ssr based chi2 test:   chi2=12.1705 , p=0.2738  , df=10\n",
      "likelihood ratio test: chi2=11.4150 , p=0.3261  , df=10\n",
      "parameter F test:         F=0.9331  , p=0.5089  , df_denom=69, df_num=10\n",
      "\n",
      "Granger Causality\n",
      "number of lags (no zero) 10\n",
      "ssr based F test:         F=1.5719  , p=0.1336  , df_denom=69, df_num=10\n",
      "ssr based chi2 test:   chi2=20.5031 , p=0.0248  , df=10\n",
      "likelihood ratio test: chi2=18.4710 , p=0.0475  , df=10\n",
      "parameter F test:         F=1.5719  , p=0.1336  , df_denom=69, df_num=10\n",
      "\n",
      "Granger Causality\n",
      "number of lags (no zero) 10\n",
      "ssr based F test:         F=0.5012  , p=0.8835  , df_denom=69, df_num=10\n",
      "ssr based chi2 test:   chi2=6.5377  , p=0.7682  , df=10\n",
      "likelihood ratio test: chi2=6.3112  , p=0.7885  , df=10\n",
      "parameter F test:         F=0.5012  , p=0.8835  , df_denom=69, df_num=10\n",
      "\n",
      "Granger Causality\n",
      "number of lags (no zero) 10\n",
      "ssr based F test:         F=1.4335  , p=0.1843  , df_denom=69, df_num=10\n",
      "ssr based chi2 test:   chi2=18.6981 , p=0.0443  , df=10\n",
      "likelihood ratio test: chi2=16.9888 , p=0.0746  , df=10\n",
      "parameter F test:         F=1.4335  , p=0.1843  , df_denom=69, df_num=10\n",
      "\n",
      "Granger Causality\n",
      "number of lags (no zero) 10\n",
      "ssr based F test:         F=0.8568  , p=0.5768  , df_denom=69, df_num=10\n",
      "ssr based chi2 test:   chi2=11.1761 , p=0.3440  , df=10\n",
      "likelihood ratio test: chi2=10.5347 , p=0.3949  , df=10\n",
      "parameter F test:         F=0.8568  , p=0.5768  , df_denom=69, df_num=10\n",
      "\n",
      "Granger Causality\n",
      "number of lags (no zero) 10\n",
      "ssr based F test:         F=0.8879  , p=0.5488  , df_denom=69, df_num=10\n",
      "ssr based chi2 test:   chi2=11.5813 , p=0.3141  , df=10\n",
      "likelihood ratio test: chi2=10.8944 , p=0.3658  , df=10\n",
      "parameter F test:         F=0.8879  , p=0.5488  , df_denom=69, df_num=10\n",
      "\n",
      "Granger Causality\n",
      "number of lags (no zero) 10\n",
      "ssr based F test:         F=0.8635  , p=0.5708  , df_denom=69, df_num=10\n",
      "ssr based chi2 test:   chi2=11.2632 , p=0.3374  , df=10\n",
      "likelihood ratio test: chi2=10.6122 , p=0.3885  , df=10\n",
      "parameter F test:         F=0.8635  , p=0.5708  , df_denom=69, df_num=10\n",
      "\n",
      "Granger Causality\n",
      "number of lags (no zero) 10\n",
      "ssr based F test:         F=0.6120  , p=0.7985  , df_denom=69, df_num=10\n",
      "ssr based chi2 test:   chi2=7.9825  , p=0.6306  , df=10\n",
      "likelihood ratio test: chi2=7.6481  , p=0.6632  , df=10\n",
      "parameter F test:         F=0.6120  , p=0.7985  , df_denom=69, df_num=10\n",
      "\n",
      "Granger Causality\n",
      "number of lags (no zero) 10\n",
      "ssr based F test:         F=0.8954  , p=0.5421  , df_denom=69, df_num=10\n",
      "ssr based chi2 test:   chi2=11.6786 , p=0.3071  , df=10\n",
      "likelihood ratio test: chi2=10.9806 , p=0.3590  , df=10\n",
      "parameter F test:         F=0.8954  , p=0.5421  , df_denom=69, df_num=10\n",
      "\n",
      "Granger Causality\n",
      "number of lags (no zero) 10\n",
      "ssr based F test:         F=1.1060  , p=0.3704  , df_denom=69, df_num=10\n",
      "ssr based chi2 test:   chi2=14.4254 , p=0.1545  , df=10\n",
      "likelihood ratio test: chi2=13.3797 , p=0.2032  , df=10\n",
      "parameter F test:         F=1.1060  , p=0.3704  , df_denom=69, df_num=10\n",
      "\n",
      "Granger Causality\n",
      "number of lags (no zero) 10\n",
      "ssr based F test:         F=2.2722  , p=0.0230  , df_denom=69, df_num=10\n",
      "ssr based chi2 test:   chi2=29.6379 , p=0.0010  , df=10\n",
      "likelihood ratio test: chi2=25.6194 , p=0.0043  , df=10\n",
      "parameter F test:         F=2.2722  , p=0.0230  , df_denom=69, df_num=10\n",
      "\n",
      "Granger Causality\n",
      "number of lags (no zero) 10\n",
      "ssr based F test:         F=1.1413  , p=0.3453  , df_denom=69, df_num=10\n",
      "ssr based chi2 test:   chi2=14.8871 , p=0.1362  , df=10\n",
      "likelihood ratio test: chi2=13.7767 , p=0.1834  , df=10\n",
      "parameter F test:         F=1.1413  , p=0.3453  , df_denom=69, df_num=10\n",
      "\n",
      "Granger Causality\n",
      "number of lags (no zero) 10\n",
      "ssr based F test:         F=1.6212  , p=0.1188  , df_denom=69, df_num=10\n",
      "ssr based chi2 test:   chi2=21.1456 , p=0.0201  , df=10\n",
      "likelihood ratio test: chi2=18.9928 , p=0.0404  , df=10\n",
      "parameter F test:         F=1.6212  , p=0.1188  , df_denom=69, df_num=10\n",
      "\n",
      "Granger Causality\n",
      "number of lags (no zero) 10\n",
      "ssr based F test:         F=1.1964  , p=0.3088  , df_denom=69, df_num=10\n",
      "ssr based chi2 test:   chi2=15.6048 , p=0.1115  , df=10\n",
      "likelihood ratio test: chi2=14.3905 , p=0.1559  , df=10\n",
      "parameter F test:         F=1.1964  , p=0.3088  , df_denom=69, df_num=10\n",
      "\n",
      "Granger Causality\n",
      "number of lags (no zero) 10\n",
      "ssr based F test:         F=1.4332  , p=0.1845  , df_denom=69, df_num=10\n",
      "ssr based chi2 test:   chi2=18.6933 , p=0.0443  , df=10\n",
      "likelihood ratio test: chi2=16.9848 , p=0.0747  , df=10\n",
      "parameter F test:         F=1.4332  , p=0.1845  , df_denom=69, df_num=10\n",
      "\n",
      "Granger Causality\n",
      "number of lags (no zero) 10\n",
      "ssr based F test:         F=0.5234  , p=0.8680  , df_denom=69, df_num=10\n",
      "ssr based chi2 test:   chi2=6.8266  , p=0.7417  , df=10\n",
      "likelihood ratio test: chi2=6.5801  , p=0.7644  , df=10\n",
      "parameter F test:         F=0.5234  , p=0.8680  , df_denom=69, df_num=10\n",
      "\n",
      "Granger Causality\n",
      "number of lags (no zero) 10\n",
      "ssr based F test:         F=1.4251  , p=0.1879  , df_denom=69, df_num=10\n",
      "ssr based chi2 test:   chi2=18.5879 , p=0.0458  , df=10\n",
      "likelihood ratio test: chi2=16.8976 , p=0.0767  , df=10\n",
      "parameter F test:         F=1.4251  , p=0.1879  , df_denom=69, df_num=10\n",
      "\n",
      "Granger Causality\n",
      "number of lags (no zero) 10\n",
      "ssr based F test:         F=0.9225  , p=0.5181  , df_denom=69, df_num=10\n",
      "ssr based chi2 test:   chi2=12.0327 , p=0.2829  , df=10\n",
      "likelihood ratio test: chi2=11.2935 , p=0.3351  , df=10\n",
      "parameter F test:         F=0.9225  , p=0.5181  , df_denom=69, df_num=10\n",
      "\n",
      "Granger Causality\n",
      "number of lags (no zero) 10\n",
      "ssr based F test:         F=1.0460  , p=0.4155  , df_denom=69, df_num=10\n",
      "ssr based chi2 test:   chi2=13.6437 , p=0.1899  , df=10\n",
      "likelihood ratio test: chi2=12.7035 , p=0.2407  , df=10\n",
      "parameter F test:         F=1.0460  , p=0.4155  , df_denom=69, df_num=10\n",
      "\n",
      "Granger Causality\n",
      "number of lags (no zero) 10\n",
      "ssr based F test:         F=1.7423  , p=0.0886  , df_denom=69, df_num=10\n",
      "ssr based chi2 test:   chi2=22.7260 , p=0.0118  , df=10\n",
      "likelihood ratio test: chi2=20.2635 , p=0.0269  , df=10\n",
      "parameter F test:         F=1.7423  , p=0.0886  , df_denom=69, df_num=10\n",
      "\n",
      "Granger Causality\n",
      "number of lags (no zero) 10\n",
      "ssr based F test:         F=1.2656  , p=0.2671  , df_denom=69, df_num=10\n",
      "ssr based chi2 test:   chi2=16.5076 , p=0.0860  , df=10\n",
      "likelihood ratio test: chi2=15.1566 , p=0.1265  , df=10\n",
      "parameter F test:         F=1.2656  , p=0.2671  , df_denom=69, df_num=10\n",
      "\n",
      "Granger Causality\n",
      "number of lags (no zero) 10\n",
      "ssr based F test:         F=0.7578  , p=0.6681  , df_denom=69, df_num=10\n",
      "ssr based chi2 test:   chi2=9.8837  , p=0.4508  , df=10\n",
      "likelihood ratio test: chi2=9.3777  , p=0.4967  , df=10\n",
      "parameter F test:         F=0.7578  , p=0.6681  , df_denom=69, df_num=10\n",
      "\n",
      "Granger Causality\n",
      "number of lags (no zero) 10\n",
      "ssr based F test:         F=1.5381  , p=0.1447  , df_denom=69, df_num=10\n",
      "ssr based chi2 test:   chi2=20.0625 , p=0.0287  , df=10\n",
      "likelihood ratio test: chi2=18.1115 , p=0.0531  , df=10\n",
      "parameter F test:         F=1.5381  , p=0.1447  , df_denom=69, df_num=10\n",
      "\n",
      "Granger Causality\n",
      "number of lags (no zero) 10\n",
      "ssr based F test:         F=1.8300  , p=0.0713  , df_denom=69, df_num=10\n",
      "ssr based chi2 test:   chi2=23.8695 , p=0.0080  , df=10\n",
      "likelihood ratio test: chi2=21.1719 , p=0.0199  , df=10\n",
      "parameter F test:         F=1.8300  , p=0.0713  , df_denom=69, df_num=10\n",
      "\n",
      "Granger Causality\n",
      "number of lags (no zero) 10\n",
      "ssr based F test:         F=0.9016  , p=0.5365  , df_denom=69, df_num=10\n",
      "ssr based chi2 test:   chi2=11.7605 , p=0.3014  , df=10\n",
      "likelihood ratio test: chi2=11.0532 , p=0.3534  , df=10\n",
      "parameter F test:         F=0.9016  , p=0.5365  , df_denom=69, df_num=10\n",
      "\n",
      "Granger Causality\n",
      "number of lags (no zero) 10\n",
      "ssr based F test:         F=0.6915  , p=0.7288  , df_denom=69, df_num=10\n",
      "ssr based chi2 test:   chi2=9.0199  , p=0.5302  , df=10\n",
      "likelihood ratio test: chi2=8.5960  , p=0.5708  , df=10\n",
      "parameter F test:         F=0.6915  , p=0.7288  , df_denom=69, df_num=10\n",
      "\n",
      "Granger Causality\n",
      "number of lags (no zero) 10\n",
      "ssr based F test:         F=1.8921  , p=0.0610  , df_denom=69, df_num=10\n",
      "ssr based chi2 test:   chi2=24.6799 , p=0.0060  , df=10\n",
      "likelihood ratio test: chi2=21.8101 , p=0.0161  , df=10\n",
      "parameter F test:         F=1.8921  , p=0.0610  , df_denom=69, df_num=10\n",
      "\n",
      "Granger Causality\n",
      "number of lags (no zero) 10\n",
      "ssr based F test:         F=1.6973  , p=0.0989  , df_denom=69, df_num=10\n",
      "ssr based chi2 test:   chi2=22.1385 , p=0.0144  , df=10\n",
      "likelihood ratio test: chi2=19.7932 , p=0.0313  , df=10\n",
      "parameter F test:         F=1.6973  , p=0.0989  , df_denom=69, df_num=10\n",
      "\n",
      "Granger Causality\n",
      "number of lags (no zero) 10\n",
      "ssr based F test:         F=1.2938  , p=0.2514  , df_denom=69, df_num=10\n",
      "ssr based chi2 test:   chi2=16.8751 , p=0.0772  , df=10\n",
      "likelihood ratio test: chi2=15.4666 , p=0.1160  , df=10\n",
      "parameter F test:         F=1.2938  , p=0.2514  , df_denom=69, df_num=10\n",
      "\n",
      "Granger Causality\n",
      "number of lags (no zero) 10\n",
      "ssr based F test:         F=1.6199  , p=0.1192  , df_denom=69, df_num=10\n",
      "ssr based chi2 test:   chi2=21.1297 , p=0.0202  , df=10\n",
      "likelihood ratio test: chi2=18.9799 , p=0.0405  , df=10\n",
      "parameter F test:         F=1.6199  , p=0.1192  , df_denom=69, df_num=10\n",
      "\n",
      "Granger Causality\n",
      "number of lags (no zero) 10\n",
      "ssr based F test:         F=1.8275  , p=0.0717  , df_denom=69, df_num=10\n",
      "ssr based chi2 test:   chi2=23.8364 , p=0.0080  , df=10\n",
      "likelihood ratio test: chi2=21.1457 , p=0.0201  , df=10\n",
      "parameter F test:         F=1.8275  , p=0.0717  , df_denom=69, df_num=10\n",
      "\n",
      "Granger Causality\n",
      "number of lags (no zero) 10\n",
      "ssr based F test:         F=1.0657  , p=0.4003  , df_denom=69, df_num=10\n",
      "ssr based chi2 test:   chi2=13.9002 , p=0.1776  , df=10\n",
      "likelihood ratio test: chi2=12.9259 , p=0.2278  , df=10\n",
      "parameter F test:         F=1.0657  , p=0.4003  , df_denom=69, df_num=10\n",
      "\n",
      "Granger Causality\n",
      "number of lags (no zero) 10\n",
      "ssr based F test:         F=1.7815  , p=0.0804  , df_denom=69, df_num=10\n",
      "ssr based chi2 test:   chi2=23.2370 , p=0.0099  , df=10\n",
      "likelihood ratio test: chi2=20.6706 , p=0.0235  , df=10\n",
      "parameter F test:         F=1.7815  , p=0.0804  , df_denom=69, df_num=10\n",
      "\n",
      "Granger Causality\n",
      "number of lags (no zero) 10\n",
      "ssr based F test:         F=0.8036  , p=0.6257  , df_denom=69, df_num=10\n",
      "ssr based chi2 test:   chi2=10.4818 , p=0.3993  , df=10\n",
      "likelihood ratio test: chi2=9.9150  , p=0.4480  , df=10\n",
      "parameter F test:         F=0.8036  , p=0.6257  , df_denom=69, df_num=10\n",
      "\n",
      "Granger Causality\n",
      "number of lags (no zero) 10\n",
      "ssr based F test:         F=1.1555  , p=0.3356  , df_denom=69, df_num=10\n",
      "ssr based chi2 test:   chi2=15.0721 , p=0.1295  , df=10\n",
      "likelihood ratio test: chi2=13.9353 , p=0.1760  , df=10\n",
      "parameter F test:         F=1.1555  , p=0.3356  , df_denom=69, df_num=10\n",
      "\n",
      "Granger Causality\n",
      "number of lags (no zero) 10\n",
      "ssr based F test:         F=1.3245  , p=0.2352  , df_denom=69, df_num=10\n",
      "ssr based chi2 test:   chi2=17.2758 , p=0.0685  , df=10\n",
      "likelihood ratio test: chi2=15.8034 , p=0.1054  , df=10\n",
      "parameter F test:         F=1.3245  , p=0.2352  , df_denom=69, df_num=10\n",
      "\n",
      "Granger Causality\n",
      "number of lags (no zero) 10\n",
      "ssr based F test:         F=1.8457  , p=0.0686  , df_denom=69, df_num=10\n",
      "ssr based chi2 test:   chi2=24.0741 , p=0.0074  , df=10\n",
      "likelihood ratio test: chi2=21.3334 , p=0.0189  , df=10\n",
      "parameter F test:         F=1.8457  , p=0.0686  , df_denom=69, df_num=10\n",
      "\n",
      "Granger Causality\n",
      "number of lags (no zero) 10\n",
      "ssr based F test:         F=2.1956  , p=0.0281  , df_denom=69, df_num=10\n",
      "ssr based chi2 test:   chi2=28.6383 , p=0.0014  , df=10\n",
      "likelihood ratio test: chi2=24.8643 , p=0.0056  , df=10\n",
      "parameter F test:         F=2.1956  , p=0.0281  , df_denom=69, df_num=10\n",
      "\n",
      "Granger Causality\n",
      "number of lags (no zero) 10\n",
      "ssr based F test:         F=0.7008  , p=0.7205  , df_denom=69, df_num=10\n",
      "ssr based chi2 test:   chi2=9.1403  , p=0.5188  , df=10\n",
      "likelihood ratio test: chi2=8.7054  , p=0.5603  , df=10\n",
      "parameter F test:         F=0.7008  , p=0.7205  , df_denom=69, df_num=10\n",
      "\n",
      "Granger Causality\n",
      "number of lags (no zero) 10\n",
      "ssr based F test:         F=1.7627  , p=0.0842  , df_denom=69, df_num=10\n",
      "ssr based chi2 test:   chi2=22.9915 , p=0.0108  , df=10\n",
      "likelihood ratio test: chi2=20.4753 , p=0.0251  , df=10\n",
      "parameter F test:         F=1.7627  , p=0.0842  , df_denom=69, df_num=10\n",
      "\n",
      "Granger Causality\n",
      "number of lags (no zero) 10\n",
      "ssr based F test:         F=1.8955  , p=0.0605  , df_denom=69, df_num=10\n",
      "ssr based chi2 test:   chi2=24.7243 , p=0.0059  , df=10\n",
      "likelihood ratio test: chi2=21.8450 , p=0.0159  , df=10\n",
      "parameter F test:         F=1.8955  , p=0.0605  , df_denom=69, df_num=10\n",
      "\n",
      "Granger Causality\n",
      "number of lags (no zero) 10\n",
      "ssr based F test:         F=1.4386  , p=0.1822  , df_denom=69, df_num=10\n",
      "ssr based chi2 test:   chi2=18.7638 , p=0.0434  , df=10\n",
      "likelihood ratio test: chi2=17.0432 , p=0.0734  , df=10\n",
      "parameter F test:         F=1.4386  , p=0.1822  , df_denom=69, df_num=10\n",
      "\n",
      "Granger Causality\n",
      "number of lags (no zero) 10\n",
      "ssr based F test:         F=0.5821  , p=0.8231  , df_denom=69, df_num=10\n",
      "ssr based chi2 test:   chi2=7.5928  , p=0.6685  , df=10\n",
      "likelihood ratio test: chi2=7.2894  , p=0.6979  , df=10\n",
      "parameter F test:         F=0.5821  , p=0.8231  , df_denom=69, df_num=10\n",
      "\n",
      "Granger Causality\n",
      "number of lags (no zero) 10\n",
      "ssr based F test:         F=2.0849  , p=0.0374  , df_denom=69, df_num=10\n",
      "ssr based chi2 test:   chi2=27.1948 , p=0.0024  , df=10\n",
      "likelihood ratio test: chi2=23.7625 , p=0.0083  , df=10\n",
      "parameter F test:         F=2.0849  , p=0.0374  , df_denom=69, df_num=10\n",
      "\n",
      "Granger Causality\n",
      "number of lags (no zero) 10\n",
      "ssr based F test:         F=0.8761  , p=0.5594  , df_denom=69, df_num=10\n",
      "ssr based chi2 test:   chi2=11.4276 , p=0.3252  , df=10\n",
      "likelihood ratio test: chi2=10.7582 , p=0.3767  , df=10\n",
      "parameter F test:         F=0.8761  , p=0.5594  , df_denom=69, df_num=10\n",
      "\n",
      "Granger Causality\n",
      "number of lags (no zero) 10\n",
      "ssr based F test:         F=1.2983  , p=0.2490  , df_denom=69, df_num=10\n",
      "ssr based chi2 test:   chi2=16.9337 , p=0.0758  , df=10\n",
      "likelihood ratio test: chi2=15.5160 , p=0.1144  , df=10\n",
      "parameter F test:         F=1.2983  , p=0.2490  , df_denom=69, df_num=10\n",
      "\n",
      "Granger Causality\n",
      "number of lags (no zero) 10\n",
      "ssr based F test:         F=0.8878  , p=0.5489  , df_denom=69, df_num=10\n",
      "ssr based chi2 test:   chi2=11.5798 , p=0.3142  , df=10\n",
      "likelihood ratio test: chi2=10.8931 , p=0.3659  , df=10\n",
      "parameter F test:         F=0.8878  , p=0.5489  , df_denom=69, df_num=10\n",
      "\n",
      "Granger Causality\n",
      "number of lags (no zero) 10\n",
      "ssr based F test:         F=1.7299  , p=0.0913  , df_denom=69, df_num=10\n",
      "ssr based chi2 test:   chi2=22.5636 , p=0.0125  , df=10\n",
      "likelihood ratio test: chi2=20.1338 , p=0.0280  , df=10\n",
      "parameter F test:         F=1.7299  , p=0.0913  , df_denom=69, df_num=10\n",
      "\n",
      "Granger Causality\n",
      "number of lags (no zero) 10\n",
      "ssr based F test:         F=2.7016  , p=0.0074  , df_denom=69, df_num=10\n",
      "ssr based chi2 test:   chi2=35.2381 , p=0.0001  , df=10\n",
      "likelihood ratio test: chi2=29.7366 , p=0.0009  , df=10\n",
      "parameter F test:         F=2.7016  , p=0.0074  , df_denom=69, df_num=10\n",
      "\n",
      "Granger Causality\n",
      "number of lags (no zero) 10\n",
      "ssr based F test:         F=0.6700  , p=0.7481  , df_denom=69, df_num=10\n",
      "ssr based chi2 test:   chi2=8.7393  , p=0.5570  , df=10\n",
      "likelihood ratio test: chi2=8.3406  , p=0.5956  , df=10\n",
      "parameter F test:         F=0.6700  , p=0.7481  , df_denom=69, df_num=10\n",
      "\n",
      "Granger Causality\n",
      "number of lags (no zero) 10\n",
      "ssr based F test:         F=0.5430  , p=0.8536  , df_denom=69, df_num=10\n",
      "ssr based chi2 test:   chi2=7.0823  , p=0.7177  , df=10\n",
      "likelihood ratio test: chi2=6.8175  , p=0.7426  , df=10\n",
      "parameter F test:         F=0.5430  , p=0.8536  , df_denom=69, df_num=10\n",
      "\n",
      "Granger Causality\n",
      "number of lags (no zero) 10\n",
      "ssr based F test:         F=0.6368  , p=0.7773  , df_denom=69, df_num=10\n",
      "ssr based chi2 test:   chi2=8.3067  , p=0.5989  , df=10\n",
      "likelihood ratio test: chi2=7.9454  , p=0.6342  , df=10\n",
      "parameter F test:         F=0.6368  , p=0.7773  , df_denom=69, df_num=10\n",
      "\n",
      "Granger Causality\n",
      "number of lags (no zero) 10\n",
      "ssr based F test:         F=1.3381  , p=0.2282  , df_denom=69, df_num=10\n",
      "ssr based chi2 test:   chi2=17.4540 , p=0.0649  , df=10\n",
      "likelihood ratio test: chi2=15.9528 , p=0.1010  , df=10\n",
      "parameter F test:         F=1.3381  , p=0.2282  , df_denom=69, df_num=10\n",
      "\n",
      "Granger Causality\n",
      "number of lags (no zero) 10\n",
      "ssr based F test:         F=1.9932  , p=0.0472  , df_denom=69, df_num=10\n",
      "ssr based chi2 test:   chi2=25.9980 , p=0.0037  , df=10\n",
      "likelihood ratio test: chi2=22.8387 , p=0.0114  , df=10\n",
      "parameter F test:         F=1.9932  , p=0.0472  , df_denom=69, df_num=10\n",
      "\n",
      "Granger Causality\n",
      "number of lags (no zero) 10\n",
      "ssr based F test:         F=1.5692  , p=0.1345  , df_denom=69, df_num=10\n",
      "ssr based chi2 test:   chi2=20.4684 , p=0.0251  , df=10\n",
      "likelihood ratio test: chi2=18.4428 , p=0.0479  , df=10\n",
      "parameter F test:         F=1.5692  , p=0.1345  , df_denom=69, df_num=10\n",
      "\n",
      "Granger Causality\n",
      "number of lags (no zero) 10\n",
      "ssr based F test:         F=1.6883  , p=0.1011  , df_denom=69, df_num=10\n",
      "ssr based chi2 test:   chi2=22.0219 , p=0.0150  , df=10\n",
      "likelihood ratio test: chi2=19.6996 , p=0.0322  , df=10\n",
      "parameter F test:         F=1.6883  , p=0.1011  , df_denom=69, df_num=10\n",
      "\n",
      "Granger Causality\n",
      "number of lags (no zero) 10\n",
      "ssr based F test:         F=1.3101  , p=0.2427  , df_denom=69, df_num=10\n",
      "ssr based chi2 test:   chi2=17.0881 , p=0.0724  , df=10\n",
      "likelihood ratio test: chi2=15.6458 , p=0.1102  , df=10\n",
      "parameter F test:         F=1.3101  , p=0.2427  , df_denom=69, df_num=10\n",
      "\n",
      "Granger Causality\n",
      "number of lags (no zero) 10\n",
      "ssr based F test:         F=1.1068  , p=0.3698  , df_denom=69, df_num=10\n",
      "ssr based chi2 test:   chi2=14.4359 , p=0.1540  , df=10\n",
      "likelihood ratio test: chi2=13.3887 , p=0.2027  , df=10\n",
      "parameter F test:         F=1.1068  , p=0.3698  , df_denom=69, df_num=10\n",
      "\n",
      "Granger Causality\n",
      "number of lags (no zero) 10\n",
      "ssr based F test:         F=0.3801  , p=0.9513  , df_denom=69, df_num=10\n",
      "ssr based chi2 test:   chi2=4.9576  , p=0.8940  , df=10\n",
      "likelihood ratio test: chi2=4.8259  , p=0.9025  , df=10\n",
      "parameter F test:         F=0.3801  , p=0.9513  , df_denom=69, df_num=10\n",
      "\n",
      "Granger Causality\n",
      "number of lags (no zero) 10\n",
      "ssr based F test:         F=0.5777  , p=0.8267  , df_denom=69, df_num=10\n",
      "ssr based chi2 test:   chi2=7.5347  , p=0.6742  , df=10\n",
      "likelihood ratio test: chi2=7.2358  , p=0.7030  , df=10\n",
      "parameter F test:         F=0.5777  , p=0.8267  , df_denom=69, df_num=10\n",
      "\n",
      "Granger Causality\n",
      "number of lags (no zero) 10\n",
      "ssr based F test:         F=0.7976  , p=0.6312  , df_denom=69, df_num=10\n",
      "ssr based chi2 test:   chi2=10.4037 , p=0.4058  , df=10\n",
      "likelihood ratio test: chi2=9.8451  , p=0.4542  , df=10\n",
      "parameter F test:         F=0.7976  , p=0.6312  , df_denom=69, df_num=10\n",
      "\n",
      "Granger Causality\n",
      "number of lags (no zero) 10\n",
      "ssr based F test:         F=1.2935  , p=0.2515  , df_denom=69, df_num=10\n",
      "ssr based chi2 test:   chi2=16.8722 , p=0.0772  , df=10\n",
      "likelihood ratio test: chi2=15.4641 , p=0.1160  , df=10\n",
      "parameter F test:         F=1.2935  , p=0.2515  , df_denom=69, df_num=10\n",
      "\n",
      "Granger Causality\n",
      "number of lags (no zero) 10\n",
      "ssr based F test:         F=0.4093  , p=0.9377  , df_denom=69, df_num=10\n",
      "ssr based chi2 test:   chi2=5.3390  , p=0.8674  , df=10\n",
      "likelihood ratio test: chi2=5.1867  , p=0.8784  , df=10\n",
      "parameter F test:         F=0.4093  , p=0.9377  , df_denom=69, df_num=10\n",
      "\n",
      "Granger Causality\n",
      "number of lags (no zero) 10\n",
      "ssr based F test:         F=1.0207  , p=0.4355  , df_denom=69, df_num=10\n",
      "ssr based chi2 test:   chi2=13.3136 , p=0.2067  , df=10\n",
      "likelihood ratio test: chi2=12.4164 , p=0.2582  , df=10\n",
      "parameter F test:         F=1.0207  , p=0.4355  , df_denom=69, df_num=10\n",
      "\n",
      "Granger Causality\n",
      "number of lags (no zero) 10\n",
      "ssr based F test:         F=1.6508  , p=0.1107  , df_denom=69, df_num=10\n",
      "ssr based chi2 test:   chi2=21.5315 , p=0.0177  , df=10\n",
      "likelihood ratio test: chi2=19.3048 , p=0.0366  , df=10\n",
      "parameter F test:         F=1.6508  , p=0.1107  , df_denom=69, df_num=10\n",
      "\n",
      "Granger Causality\n",
      "number of lags (no zero) 10\n",
      "ssr based F test:         F=0.8080  , p=0.6216  , df_denom=69, df_num=10\n",
      "ssr based chi2 test:   chi2=10.5397 , p=0.3945  , df=10\n",
      "likelihood ratio test: chi2=9.9669  , p=0.4434  , df=10\n",
      "parameter F test:         F=0.8080  , p=0.6216  , df_denom=69, df_num=10\n",
      "\n",
      "Granger Causality\n",
      "number of lags (no zero) 10\n",
      "ssr based F test:         F=0.9362  , p=0.5061  , df_denom=69, df_num=10\n",
      "ssr based chi2 test:   chi2=12.2118 , p=0.2711  , df=10\n",
      "likelihood ratio test: chi2=11.4513 , p=0.3235  , df=10\n",
      "parameter F test:         F=0.9362  , p=0.5061  , df_denom=69, df_num=10\n",
      "\n",
      "Granger Causality\n",
      "number of lags (no zero) 10\n",
      "ssr based F test:         F=1.2270  , p=0.2898  , df_denom=69, df_num=10\n",
      "ssr based chi2 test:   chi2=16.0045 , p=0.0995  , df=10\n",
      "likelihood ratio test: chi2=14.7305 , p=0.1422  , df=10\n",
      "parameter F test:         F=1.2270  , p=0.2898  , df_denom=69, df_num=10\n",
      "\n",
      "Granger Causality\n",
      "number of lags (no zero) 10\n",
      "ssr based F test:         F=0.4389  , p=0.9221  , df_denom=69, df_num=10\n",
      "ssr based chi2 test:   chi2=5.7251  , p=0.8378  , df=10\n",
      "likelihood ratio test: chi2=5.5503  , p=0.8515  , df=10\n",
      "parameter F test:         F=0.4389  , p=0.9221  , df_denom=69, df_num=10\n",
      "\n",
      "Granger Causality\n",
      "number of lags (no zero) 10\n",
      "ssr based F test:         F=0.6558  , p=0.7607  , df_denom=69, df_num=10\n",
      "ssr based chi2 test:   chi2=8.5542  , p=0.5749  , df=10\n",
      "likelihood ratio test: chi2=8.1717  , p=0.6121  , df=10\n",
      "parameter F test:         F=0.6558  , p=0.7607  , df_denom=69, df_num=10\n",
      "\n",
      "Granger Causality\n",
      "number of lags (no zero) 10\n",
      "ssr based F test:         F=0.9487  , p=0.4954  , df_denom=69, df_num=10\n",
      "ssr based chi2 test:   chi2=12.3744 , p=0.2608  , df=10\n",
      "likelihood ratio test: chi2=11.5945 , p=0.3131  , df=10\n",
      "parameter F test:         F=0.9487  , p=0.4954  , df_denom=69, df_num=10\n",
      "\n",
      "Granger Causality\n",
      "number of lags (no zero) 10\n",
      "ssr based F test:         F=1.0804  , p=0.3892  , df_denom=69, df_num=10\n",
      "ssr based chi2 test:   chi2=14.0917 , p=0.1689  , df=10\n",
      "likelihood ratio test: chi2=13.0916 , p=0.2186  , df=10\n",
      "parameter F test:         F=1.0804  , p=0.3892  , df_denom=69, df_num=10\n",
      "\n",
      "Granger Causality\n",
      "number of lags (no zero) 10\n",
      "ssr based F test:         F=0.8577  , p=0.5761  , df_denom=69, df_num=10\n",
      "ssr based chi2 test:   chi2=11.1868 , p=0.3432  , df=10\n",
      "likelihood ratio test: chi2=10.5443 , p=0.3941  , df=10\n",
      "parameter F test:         F=0.8577  , p=0.5761  , df_denom=69, df_num=10\n",
      "\n",
      "Granger Causality\n",
      "number of lags (no zero) 10\n",
      "ssr based F test:         F=0.9984  , p=0.4536  , df_denom=69, df_num=10\n",
      "ssr based chi2 test:   chi2=13.0227 , p=0.2224  , df=10\n",
      "likelihood ratio test: chi2=12.1626 , p=0.2743  , df=10\n",
      "parameter F test:         F=0.9984  , p=0.4536  , df_denom=69, df_num=10\n",
      "\n",
      "Granger Causality\n",
      "number of lags (no zero) 10\n",
      "ssr based F test:         F=0.9791  , p=0.4696  , df_denom=69, df_num=10\n",
      "ssr based chi2 test:   chi2=12.7711 , p=0.2368  , df=10\n",
      "likelihood ratio test: chi2=11.9425 , p=0.2889  , df=10\n",
      "parameter F test:         F=0.9791  , p=0.4696  , df_denom=69, df_num=10\n",
      "\n",
      "Granger Causality\n",
      "number of lags (no zero) 10\n",
      "ssr based F test:         F=0.6039  , p=0.8053  , df_denom=69, df_num=10\n",
      "ssr based chi2 test:   chi2=7.8769  , p=0.6409  , df=10\n",
      "likelihood ratio test: chi2=7.5511  , p=0.6726  , df=10\n",
      "parameter F test:         F=0.6039  , p=0.8053  , df_denom=69, df_num=10\n",
      "\n",
      "Granger Causality\n",
      "number of lags (no zero) 10\n",
      "ssr based F test:         F=0.9889  , p=0.4614  , df_denom=69, df_num=10\n",
      "ssr based chi2 test:   chi2=12.8988 , p=0.2294  , df=10\n",
      "likelihood ratio test: chi2=12.0542 , p=0.2814  , df=10\n",
      "parameter F test:         F=0.9889  , p=0.4614  , df_denom=69, df_num=10\n",
      "\n",
      "Granger Causality\n",
      "number of lags (no zero) 10\n",
      "ssr based F test:         F=1.7852  , p=0.0797  , df_denom=69, df_num=10\n",
      "ssr based chi2 test:   chi2=23.2849 , p=0.0097  , df=10\n",
      "likelihood ratio test: chi2=20.7086 , p=0.0232  , df=10\n",
      "parameter F test:         F=1.7852  , p=0.0797  , df_denom=69, df_num=10\n",
      "\n",
      "Granger Causality\n",
      "number of lags (no zero) 10\n",
      "ssr based F test:         F=0.6851  , p=0.7346  , df_denom=69, df_num=10\n",
      "ssr based chi2 test:   chi2=8.9362  , p=0.5382  , df=10\n",
      "likelihood ratio test: chi2=8.5199  , p=0.5782  , df=10\n",
      "parameter F test:         F=0.6851  , p=0.7346  , df_denom=69, df_num=10\n",
      "\n",
      "Granger Causality\n",
      "number of lags (no zero) 10\n",
      "ssr based F test:         F=0.9944  , p=0.4569  , df_denom=69, df_num=10\n",
      "ssr based chi2 test:   chi2=12.9699 , p=0.2254  , df=10\n",
      "likelihood ratio test: chi2=12.1164 , p=0.2773  , df=10\n",
      "parameter F test:         F=0.9944  , p=0.4569  , df_denom=69, df_num=10\n",
      "\n",
      "Granger Causality\n",
      "number of lags (no zero) 10\n",
      "ssr based F test:         F=1.4194  , p=0.1903  , df_denom=69, df_num=10\n",
      "ssr based chi2 test:   chi2=18.5141 , p=0.0469  , df=10\n",
      "likelihood ratio test: chi2=16.8363 , p=0.0781  , df=10\n",
      "parameter F test:         F=1.4194  , p=0.1903  , df_denom=69, df_num=10\n",
      "\n",
      "Granger Causality\n",
      "number of lags (no zero) 10\n",
      "ssr based F test:         F=1.2492  , p=0.2765  , df_denom=69, df_num=10\n",
      "ssr based chi2 test:   chi2=16.2941 , p=0.0915  , df=10\n",
      "likelihood ratio test: chi2=14.9760 , p=0.1329  , df=10\n",
      "parameter F test:         F=1.2492  , p=0.2765  , df_denom=69, df_num=10\n",
      "\n",
      "Granger Causality\n",
      "number of lags (no zero) 10\n",
      "ssr based F test:         F=1.7757  , p=0.0816  , df_denom=69, df_num=10\n",
      "ssr based chi2 test:   chi2=23.1619 , p=0.0102  , df=10\n",
      "likelihood ratio test: chi2=20.6109 , p=0.0240  , df=10\n",
      "parameter F test:         F=1.7757  , p=0.0816  , df_denom=69, df_num=10\n",
      "\n",
      "Granger Causality\n",
      "number of lags (no zero) 10\n",
      "ssr based F test:         F=1.5832  , p=0.1301  , df_denom=69, df_num=10\n",
      "ssr based chi2 test:   chi2=20.6510 , p=0.0237  , df=10\n",
      "likelihood ratio test: chi2=18.5915 , p=0.0458  , df=10\n",
      "parameter F test:         F=1.5832  , p=0.1301  , df_denom=69, df_num=10\n",
      "\n",
      "Granger Causality\n",
      "number of lags (no zero) 10\n",
      "ssr based F test:         F=2.0508  , p=0.0408  , df_denom=69, df_num=10\n",
      "ssr based chi2 test:   chi2=26.7500 , p=0.0029  , df=10\n",
      "likelihood ratio test: chi2=23.4203 , p=0.0093  , df=10\n",
      "parameter F test:         F=2.0508  , p=0.0408  , df_denom=69, df_num=10\n",
      "\n",
      "Granger Causality\n",
      "number of lags (no zero) 10\n",
      "ssr based F test:         F=1.3492  , p=0.2227  , df_denom=69, df_num=10\n",
      "ssr based chi2 test:   chi2=17.5986 , p=0.0621  , df=10\n",
      "likelihood ratio test: chi2=16.0738 , p=0.0975  , df=10\n",
      "parameter F test:         F=1.3492  , p=0.2227  , df_denom=69, df_num=10\n",
      "\n",
      "Granger Causality\n",
      "number of lags (no zero) 10\n",
      "ssr based F test:         F=0.8876  , p=0.5490  , df_denom=69, df_num=10\n",
      "ssr based chi2 test:   chi2=11.5779 , p=0.3143  , df=10\n",
      "likelihood ratio test: chi2=10.8914 , p=0.3660  , df=10\n",
      "parameter F test:         F=0.8876  , p=0.5490  , df_denom=69, df_num=10\n",
      "\n",
      "Granger Causality\n",
      "number of lags (no zero) 10\n",
      "ssr based F test:         F=1.3304  , p=0.2321  , df_denom=69, df_num=10\n",
      "ssr based chi2 test:   chi2=17.3536 , p=0.0669  , df=10\n",
      "likelihood ratio test: chi2=15.8686 , p=0.1035  , df=10\n",
      "parameter F test:         F=1.3304  , p=0.2321  , df_denom=69, df_num=10\n",
      "\n",
      "Granger Causality\n",
      "number of lags (no zero) 10\n",
      "ssr based F test:         F=0.4287  , p=0.9277  , df_denom=69, df_num=10\n",
      "ssr based chi2 test:   chi2=5.5920  , p=0.8483  , df=10\n",
      "likelihood ratio test: chi2=5.4252  , p=0.8610  , df=10\n",
      "parameter F test:         F=0.4287  , p=0.9277  , df_denom=69, df_num=10\n",
      "\n",
      "Granger Causality\n",
      "number of lags (no zero) 10\n",
      "ssr based F test:         F=0.6253  , p=0.7872  , df_denom=69, df_num=10\n",
      "ssr based chi2 test:   chi2=8.1559  , p=0.6136  , df=10\n",
      "likelihood ratio test: chi2=7.8073  , p=0.6477  , df=10\n",
      "parameter F test:         F=0.6253  , p=0.7872  , df_denom=69, df_num=10\n",
      "\n",
      "Granger Causality\n",
      "number of lags (no zero) 10\n",
      "ssr based F test:         F=2.1536  , p=0.0313  , df_denom=69, df_num=10\n",
      "ssr based chi2 test:   chi2=28.0901 , p=0.0017  , df=10\n",
      "likelihood ratio test: chi2=24.4474 , p=0.0065  , df=10\n",
      "parameter F test:         F=2.1536  , p=0.0313  , df_denom=69, df_num=10\n",
      "\n",
      "Granger Causality\n",
      "number of lags (no zero) 10\n",
      "ssr based F test:         F=0.4285  , p=0.9279  , df_denom=69, df_num=10\n",
      "ssr based chi2 test:   chi2=5.5886  , p=0.8486  , df=10\n",
      "likelihood ratio test: chi2=5.4219  , p=0.8613  , df=10\n",
      "parameter F test:         F=0.4285  , p=0.9279  , df_denom=69, df_num=10\n",
      "\n",
      "Granger Causality\n",
      "number of lags (no zero) 10\n",
      "ssr based F test:         F=2.0188  , p=0.0443  , df_denom=69, df_num=10\n",
      "ssr based chi2 test:   chi2=26.3324 , p=0.0033  , df=10\n",
      "likelihood ratio test: chi2=23.0977 , p=0.0104  , df=10\n",
      "parameter F test:         F=2.0188  , p=0.0443  , df_denom=69, df_num=10\n",
      "\n",
      "Granger Causality\n",
      "number of lags (no zero) 10\n",
      "ssr based F test:         F=1.0437  , p=0.4173  , df_denom=69, df_num=10\n",
      "ssr based chi2 test:   chi2=13.6129 , p=0.1914  , df=10\n",
      "likelihood ratio test: chi2=12.6767 , p=0.2423  , df=10\n",
      "parameter F test:         F=1.0437  , p=0.4173  , df_denom=69, df_num=10\n",
      "\n",
      "Granger Causality\n",
      "number of lags (no zero) 10\n",
      "ssr based F test:         F=1.4032  , p=0.1974  , df_denom=69, df_num=10\n",
      "ssr based chi2 test:   chi2=18.3024 , p=0.0501  , df=10\n",
      "likelihood ratio test: chi2=16.6606 , p=0.0822  , df=10\n",
      "parameter F test:         F=1.4032  , p=0.1974  , df_denom=69, df_num=10\n",
      "\n",
      "Granger Causality\n",
      "number of lags (no zero) 10\n",
      "ssr based F test:         F=2.1451  , p=0.0320  , df_denom=69, df_num=10\n",
      "ssr based chi2 test:   chi2=27.9802 , p=0.0018  , df=10\n",
      "likelihood ratio test: chi2=24.3636 , p=0.0067  , df=10\n",
      "parameter F test:         F=2.1451  , p=0.0320  , df_denom=69, df_num=10\n",
      "\n",
      "Granger Causality\n",
      "number of lags (no zero) 10\n",
      "ssr based F test:         F=2.0590  , p=0.0399  , df_denom=69, df_num=10\n",
      "ssr based chi2 test:   chi2=26.8566 , p=0.0027  , df=10\n",
      "likelihood ratio test: chi2=23.5024 , p=0.0090  , df=10\n",
      "parameter F test:         F=2.0590  , p=0.0399  , df_denom=69, df_num=10\n",
      "\n",
      "Granger Causality\n",
      "number of lags (no zero) 10\n",
      "ssr based F test:         F=1.7915  , p=0.0784  , df_denom=69, df_num=10\n",
      "ssr based chi2 test:   chi2=23.3676 , p=0.0095  , df=10\n",
      "likelihood ratio test: chi2=20.7743 , p=0.0227  , df=10\n",
      "parameter F test:         F=1.7915  , p=0.0784  , df_denom=69, df_num=10\n",
      "\n",
      "Granger Causality\n",
      "number of lags (no zero) 10\n",
      "ssr based F test:         F=1.0974  , p=0.3766  , df_denom=69, df_num=10\n",
      "ssr based chi2 test:   chi2=14.3143 , p=0.1591  , df=10\n",
      "likelihood ratio test: chi2=13.2839 , p=0.2082  , df=10\n",
      "parameter F test:         F=1.0974  , p=0.3766  , df_denom=69, df_num=10\n",
      "\n",
      "Granger Causality\n",
      "number of lags (no zero) 10\n",
      "ssr based F test:         F=0.5841  , p=0.8215  , df_denom=69, df_num=10\n",
      "ssr based chi2 test:   chi2=7.6193  , p=0.6660  , df=10\n",
      "likelihood ratio test: chi2=7.3139  , p=0.6955  , df=10\n",
      "parameter F test:         F=0.5841  , p=0.8215  , df_denom=69, df_num=10\n",
      "\n",
      "Granger Causality\n",
      "number of lags (no zero) 10\n",
      "ssr based F test:         F=0.8074  , p=0.6222  , df_denom=69, df_num=10\n",
      "ssr based chi2 test:   chi2=10.5317 , p=0.3951  , df=10\n",
      "likelihood ratio test: chi2=9.9597  , p=0.4440  , df=10\n",
      "parameter F test:         F=0.8074  , p=0.6222  , df_denom=69, df_num=10\n",
      "\n",
      "Granger Causality\n",
      "number of lags (no zero) 10\n",
      "ssr based F test:         F=1.0471  , p=0.4146  , df_denom=69, df_num=10\n",
      "ssr based chi2 test:   chi2=13.6578 , p=0.1892  , df=10\n",
      "likelihood ratio test: chi2=12.7157 , p=0.2400  , df=10\n",
      "parameter F test:         F=1.0471  , p=0.4146  , df_denom=69, df_num=10\n",
      "\n",
      "Granger Causality\n",
      "number of lags (no zero) 10\n",
      "ssr based F test:         F=1.9803  , p=0.0488  , df_denom=69, df_num=10\n",
      "ssr based chi2 test:   chi2=25.8298 , p=0.0040  , df=10\n",
      "likelihood ratio test: chi2=22.7081 , p=0.0119  , df=10\n",
      "parameter F test:         F=1.9803  , p=0.0488  , df_denom=69, df_num=10\n",
      "\n",
      "Granger Causality\n",
      "number of lags (no zero) 10\n",
      "ssr based F test:         F=1.1876  , p=0.3145  , df_denom=69, df_num=10\n",
      "ssr based chi2 test:   chi2=15.4898 , p=0.1152  , df=10\n",
      "likelihood ratio test: chi2=14.2924 , p=0.1601  , df=10\n",
      "parameter F test:         F=1.1876  , p=0.3145  , df_denom=69, df_num=10\n",
      "\n",
      "Granger Causality\n",
      "number of lags (no zero) 10\n",
      "ssr based F test:         F=0.8024  , p=0.6268  , df_denom=69, df_num=10\n",
      "ssr based chi2 test:   chi2=10.4661 , p=0.4006  , df=10\n",
      "likelihood ratio test: chi2=9.9010  , p=0.4492  , df=10\n",
      "parameter F test:         F=0.8024  , p=0.6268  , df_denom=69, df_num=10\n",
      "\n",
      "Granger Causality\n",
      "number of lags (no zero) 10\n",
      "ssr based F test:         F=0.8194  , p=0.6111  , df_denom=69, df_num=10\n",
      "ssr based chi2 test:   chi2=10.6877 , p=0.3824  , df=10\n",
      "likelihood ratio test: chi2=10.0993 , p=0.4318  , df=10\n",
      "parameter F test:         F=0.8194  , p=0.6111  , df_denom=69, df_num=10\n",
      "\n",
      "Granger Causality\n",
      "number of lags (no zero) 10\n",
      "ssr based F test:         F=1.6197  , p=0.1193  , df_denom=69, df_num=10\n",
      "ssr based chi2 test:   chi2=21.1265 , p=0.0202  , df=10\n",
      "likelihood ratio test: chi2=18.9773 , p=0.0406  , df=10\n",
      "parameter F test:         F=1.6197  , p=0.1193  , df_denom=69, df_num=10\n",
      "\n",
      "Granger Causality\n",
      "number of lags (no zero) 10\n",
      "ssr based F test:         F=0.8579  , p=0.5759  , df_denom=69, df_num=10\n",
      "ssr based chi2 test:   chi2=11.1897 , p=0.3429  , df=10\n",
      "likelihood ratio test: chi2=10.5469 , p=0.3939  , df=10\n",
      "parameter F test:         F=0.8579  , p=0.5759  , df_denom=69, df_num=10\n",
      "\n",
      "Granger Causality\n",
      "number of lags (no zero) 10\n",
      "ssr based F test:         F=1.8779  , p=0.0632  , df_denom=69, df_num=10\n",
      "ssr based chi2 test:   chi2=24.4945 , p=0.0064  , df=10\n",
      "likelihood ratio test: chi2=21.6646 , p=0.0169  , df=10\n",
      "parameter F test:         F=1.8779  , p=0.0632  , df_denom=69, df_num=10\n",
      "\n",
      "Granger Causality\n",
      "number of lags (no zero) 10\n",
      "ssr based F test:         F=0.7771  , p=0.6502  , df_denom=69, df_num=10\n",
      "ssr based chi2 test:   chi2=10.1362 , p=0.4286  , df=10\n",
      "likelihood ratio test: chi2=9.6049  , p=0.4758  , df=10\n",
      "parameter F test:         F=0.7771  , p=0.6502  , df_denom=69, df_num=10\n",
      "\n",
      "Granger Causality\n",
      "number of lags (no zero) 10\n",
      "ssr based F test:         F=2.7023  , p=0.0074  , df_denom=69, df_num=10\n",
      "ssr based chi2 test:   chi2=35.2476 , p=0.0001  , df=10\n",
      "likelihood ratio test: chi2=29.7434 , p=0.0009  , df=10\n",
      "parameter F test:         F=2.7023  , p=0.0074  , df_denom=69, df_num=10\n",
      "\n",
      "Granger Causality\n",
      "number of lags (no zero) 10\n",
      "ssr based F test:         F=1.7209  , p=0.0933  , df_denom=69, df_num=10\n",
      "ssr based chi2 test:   chi2=22.4466 , p=0.0130  , df=10\n",
      "likelihood ratio test: chi2=20.0402 , p=0.0289  , df=10\n",
      "parameter F test:         F=1.7209  , p=0.0933  , df_denom=69, df_num=10\n",
      "\n",
      "Granger Causality\n",
      "number of lags (no zero) 10\n",
      "ssr based F test:         F=2.5910  , p=0.0100  , df_denom=69, df_num=10\n",
      "ssr based chi2 test:   chi2=33.7957 , p=0.0002  , df=10\n",
      "likelihood ratio test: chi2=28.6940 , p=0.0014  , df=10\n",
      "parameter F test:         F=2.5910  , p=0.0100  , df_denom=69, df_num=10\n",
      "\n",
      "Granger Causality\n",
      "number of lags (no zero) 10\n",
      "ssr based F test:         F=1.3181  , p=0.2385  , df_denom=69, df_num=10\n",
      "ssr based chi2 test:   chi2=17.1923 , p=0.0702  , df=10\n",
      "likelihood ratio test: chi2=15.7333 , p=0.1075  , df=10\n",
      "parameter F test:         F=1.3181  , p=0.2385  , df_denom=69, df_num=10\n",
      "\n",
      "Granger Causality\n",
      "number of lags (no zero) 10\n",
      "ssr based F test:         F=1.0970  , p=0.3769  , df_denom=69, df_num=10\n",
      "ssr based chi2 test:   chi2=14.3082 , p=0.1594  , df=10\n",
      "likelihood ratio test: chi2=13.2786 , p=0.2085  , df=10\n",
      "parameter F test:         F=1.0970  , p=0.3769  , df_denom=69, df_num=10\n",
      "\n",
      "Granger Causality\n",
      "number of lags (no zero) 10\n",
      "ssr based F test:         F=1.9082  , p=0.0586  , df_denom=69, df_num=10\n",
      "ssr based chi2 test:   chi2=24.8897 , p=0.0056  , df=10\n",
      "likelihood ratio test: chi2=21.9747 , p=0.0152  , df=10\n",
      "parameter F test:         F=1.9082  , p=0.0586  , df_denom=69, df_num=10\n",
      "\n",
      "Granger Causality\n",
      "number of lags (no zero) 10\n",
      "ssr based F test:         F=1.1814  , p=0.3184  , df_denom=69, df_num=10\n",
      "ssr based chi2 test:   chi2=15.4101 , p=0.1178  , df=10\n",
      "likelihood ratio test: chi2=14.2244 , p=0.1630  , df=10\n",
      "parameter F test:         F=1.1814  , p=0.3184  , df_denom=69, df_num=10\n",
      "\n",
      "Granger Causality\n",
      "number of lags (no zero) 10\n",
      "ssr based F test:         F=0.9103  , p=0.5288  , df_denom=69, df_num=10\n",
      "ssr based chi2 test:   chi2=11.8740 , p=0.2936  , df=10\n",
      "likelihood ratio test: chi2=11.1535 , p=0.3457  , df=10\n",
      "parameter F test:         F=0.9103  , p=0.5288  , df_denom=69, df_num=10\n",
      "\n",
      "Granger Causality\n",
      "number of lags (no zero) 10\n",
      "ssr based F test:         F=0.9949  , p=0.4565  , df_denom=69, df_num=10\n",
      "ssr based chi2 test:   chi2=12.9765 , p=0.2250  , df=10\n",
      "likelihood ratio test: chi2=12.1222 , p=0.2770  , df=10\n",
      "parameter F test:         F=0.9949  , p=0.4565  , df_denom=69, df_num=10\n",
      "\n",
      "Granger Causality\n",
      "number of lags (no zero) 10\n",
      "ssr based F test:         F=0.9323  , p=0.5096  , df_denom=69, df_num=10\n",
      "ssr based chi2 test:   chi2=12.1600 , p=0.2745  , df=10\n",
      "likelihood ratio test: chi2=11.4057 , p=0.3268  , df=10\n",
      "parameter F test:         F=0.9323  , p=0.5096  , df_denom=69, df_num=10\n",
      "\n",
      "Granger Causality\n",
      "number of lags (no zero) 10\n",
      "ssr based F test:         F=1.2368  , p=0.2839  , df_denom=69, df_num=10\n",
      "ssr based chi2 test:   chi2=16.1318 , p=0.0959  , df=10\n",
      "likelihood ratio test: chi2=14.8385 , p=0.1381  , df=10\n",
      "parameter F test:         F=1.2368  , p=0.2839  , df_denom=69, df_num=10\n",
      "\n",
      "Granger Causality\n",
      "number of lags (no zero) 10\n",
      "ssr based F test:         F=1.8347  , p=0.0705  , df_denom=69, df_num=10\n",
      "ssr based chi2 test:   chi2=23.9303 , p=0.0078  , df=10\n",
      "likelihood ratio test: chi2=21.2199 , p=0.0196  , df=10\n",
      "parameter F test:         F=1.8347  , p=0.0705  , df_denom=69, df_num=10\n",
      "\n",
      "Granger Causality\n",
      "number of lags (no zero) 10\n",
      "ssr based F test:         F=0.5520  , p=0.8468  , df_denom=69, df_num=10\n",
      "ssr based chi2 test:   chi2=7.1996  , p=0.7065  , df=10\n",
      "likelihood ratio test: chi2=6.9262  , p=0.7324  , df=10\n",
      "parameter F test:         F=0.5520  , p=0.8468  , df_denom=69, df_num=10\n",
      "\n",
      "Granger Causality\n",
      "number of lags (no zero) 10\n",
      "ssr based F test:         F=1.0980  , p=0.3762  , df_denom=69, df_num=10\n",
      "ssr based chi2 test:   chi2=14.3218 , p=0.1588  , df=10\n",
      "likelihood ratio test: chi2=13.2904 , p=0.2079  , df=10\n",
      "parameter F test:         F=1.0980  , p=0.3762  , df_denom=69, df_num=10\n",
      "\n",
      "Granger Causality\n",
      "number of lags (no zero) 10\n",
      "ssr based F test:         F=0.7013  , p=0.7200  , df_denom=69, df_num=10\n",
      "ssr based chi2 test:   chi2=9.1468  , p=0.5182  , df=10\n",
      "likelihood ratio test: chi2=8.7113  , p=0.5597  , df=10\n",
      "parameter F test:         F=0.7013  , p=0.7200  , df_denom=69, df_num=10\n",
      "\n",
      "Granger Causality\n",
      "number of lags (no zero) 10\n",
      "ssr based F test:         F=1.4182  , p=0.1909  , df_denom=69, df_num=10\n",
      "ssr based chi2 test:   chi2=18.4981 , p=0.0471  , df=10\n",
      "likelihood ratio test: chi2=16.8230 , p=0.0784  , df=10\n",
      "parameter F test:         F=1.4182  , p=0.1909  , df_denom=69, df_num=10\n",
      "\n",
      "Granger Causality\n",
      "number of lags (no zero) 10\n",
      "ssr based F test:         F=1.6392  , p=0.1138  , df_denom=69, df_num=10\n",
      "ssr based chi2 test:   chi2=21.3815 , p=0.0186  , df=10\n",
      "likelihood ratio test: chi2=19.1837 , p=0.0380  , df=10\n",
      "parameter F test:         F=1.6392  , p=0.1138  , df_denom=69, df_num=10\n",
      "\n",
      "Granger Causality\n",
      "number of lags (no zero) 10\n",
      "ssr based F test:         F=1.4590  , p=0.1739  , df_denom=69, df_num=10\n",
      "ssr based chi2 test:   chi2=19.0310 , p=0.0399  , df=10\n",
      "likelihood ratio test: chi2=17.2640 , p=0.0687  , df=10\n",
      "parameter F test:         F=1.4590  , p=0.1739  , df_denom=69, df_num=10\n",
      "\n",
      "Granger Causality\n",
      "number of lags (no zero) 10\n",
      "ssr based F test:         F=0.2858  , p=0.9823  , df_denom=69, df_num=10\n",
      "ssr based chi2 test:   chi2=3.7279  , p=0.9588  , df=10\n",
      "likelihood ratio test: chi2=3.6528  , p=0.9617  , df=10\n",
      "parameter F test:         F=0.2858  , p=0.9823  , df_denom=69, df_num=10\n",
      "\n",
      "Granger Causality\n",
      "number of lags (no zero) 10\n",
      "ssr based F test:         F=0.6066  , p=0.8030  , df_denom=69, df_num=10\n",
      "ssr based chi2 test:   chi2=7.9117  , p=0.6375  , df=10\n",
      "likelihood ratio test: chi2=7.5831  , p=0.6695  , df=10\n",
      "parameter F test:         F=0.6066  , p=0.8030  , df_denom=69, df_num=10\n",
      "\n",
      "Granger Causality\n",
      "number of lags (no zero) 10\n",
      "ssr based F test:         F=2.2181  , p=0.0265  , df_denom=69, df_num=10\n",
      "ssr based chi2 test:   chi2=28.9314 , p=0.0013  , df=10\n",
      "likelihood ratio test: chi2=25.0864 , p=0.0052  , df=10\n",
      "parameter F test:         F=2.2181  , p=0.0265  , df_denom=69, df_num=10\n",
      "\n",
      "Granger Causality\n",
      "number of lags (no zero) 10\n",
      "ssr based F test:         F=0.6914  , p=0.7290  , df_denom=69, df_num=10\n",
      "ssr based chi2 test:   chi2=9.0182  , p=0.5304  , df=10\n",
      "likelihood ratio test: chi2=8.5945  , p=0.5710  , df=10\n",
      "parameter F test:         F=0.6914  , p=0.7290  , df_denom=69, df_num=10\n",
      "\n",
      "Granger Causality\n",
      "number of lags (no zero) 10\n",
      "ssr based F test:         F=0.7834  , p=0.6443  , df_denom=69, df_num=10\n",
      "ssr based chi2 test:   chi2=10.2189 , p=0.4215  , df=10\n",
      "likelihood ratio test: chi2=9.6792  , p=0.4691  , df=10\n",
      "parameter F test:         F=0.7834  , p=0.6443  , df_denom=69, df_num=10\n",
      "\n",
      "Granger Causality\n",
      "number of lags (no zero) 10\n",
      "ssr based F test:         F=1.6698  , p=0.1057  , df_denom=69, df_num=10\n",
      "ssr based chi2 test:   chi2=21.7796 , p=0.0163  , df=10\n",
      "likelihood ratio test: chi2=19.5047 , p=0.0343  , df=10\n",
      "parameter F test:         F=1.6698  , p=0.1057  , df_denom=69, df_num=10\n",
      "\n",
      "Granger Causality\n",
      "number of lags (no zero) 10\n",
      "ssr based F test:         F=1.0041  , p=0.4489  , df_denom=69, df_num=10\n",
      "ssr based chi2 test:   chi2=13.0968 , p=0.2183  , df=10\n",
      "likelihood ratio test: chi2=12.2273 , p=0.2701  , df=10\n",
      "parameter F test:         F=1.0041  , p=0.4489  , df_denom=69, df_num=10\n",
      "\n",
      "Granger Causality\n",
      "number of lags (no zero) 10\n",
      "ssr based F test:         F=1.1581  , p=0.3339  , df_denom=69, df_num=10\n",
      "ssr based chi2 test:   chi2=15.1054 , p=0.1283  , df=10\n",
      "likelihood ratio test: chi2=13.9638 , p=0.1746  , df=10\n",
      "parameter F test:         F=1.1581  , p=0.3339  , df_denom=69, df_num=10\n",
      "\n",
      "Granger Causality\n",
      "number of lags (no zero) 10\n",
      "ssr based F test:         F=1.2224  , p=0.2926  , df_denom=69, df_num=10\n",
      "ssr based chi2 test:   chi2=15.9442 , p=0.1012  , df=10\n",
      "likelihood ratio test: chi2=14.6792 , p=0.1442  , df=10\n",
      "parameter F test:         F=1.2224  , p=0.2926  , df_denom=69, df_num=10\n",
      "\n",
      "Granger Causality\n",
      "number of lags (no zero) 10\n",
      "ssr based F test:         F=2.9367  , p=0.0040  , df_denom=69, df_num=10\n",
      "ssr based chi2 test:   chi2=38.3048 , p=0.0000  , df=10\n",
      "likelihood ratio test: chi2=31.9139 , p=0.0004  , df=10\n",
      "parameter F test:         F=2.9367  , p=0.0040  , df_denom=69, df_num=10\n",
      "\n",
      "Granger Causality\n",
      "number of lags (no zero) 10\n",
      "ssr based F test:         F=1.1048  , p=0.3712  , df_denom=69, df_num=10\n",
      "ssr based chi2 test:   chi2=14.4111 , p=0.1551  , df=10\n",
      "likelihood ratio test: chi2=13.3673 , p=0.2039  , df=10\n",
      "parameter F test:         F=1.1048  , p=0.3712  , df_denom=69, df_num=10\n",
      "\n",
      "Granger Causality\n",
      "number of lags (no zero) 10\n",
      "ssr based F test:         F=1.6166  , p=0.1201  , df_denom=69, df_num=10\n",
      "ssr based chi2 test:   chi2=21.0866 , p=0.0205  , df=10\n",
      "likelihood ratio test: chi2=18.9450 , p=0.0410  , df=10\n",
      "parameter F test:         F=1.6166  , p=0.1201  , df_denom=69, df_num=10\n",
      "\n",
      "Granger Causality\n",
      "number of lags (no zero) 10\n",
      "ssr based F test:         F=2.4104  , p=0.0160  , df_denom=69, df_num=10\n",
      "ssr based chi2 test:   chi2=31.4403 , p=0.0005  , df=10\n",
      "likelihood ratio test: chi2=26.9652 , p=0.0026  , df=10\n",
      "parameter F test:         F=2.4104  , p=0.0160  , df_denom=69, df_num=10\n",
      "\n",
      "Granger Causality\n",
      "number of lags (no zero) 10\n",
      "ssr based F test:         F=0.7380  , p=0.6863  , df_denom=69, df_num=10\n",
      "ssr based chi2 test:   chi2=9.6266  , p=0.4738  , df=10\n",
      "likelihood ratio test: chi2=9.1457  , p=0.5183  , df=10\n",
      "parameter F test:         F=0.7380  , p=0.6863  , df_denom=69, df_num=10\n",
      "\n",
      "Granger Causality\n",
      "number of lags (no zero) 10\n",
      "ssr based F test:         F=1.5034  , p=0.1569  , df_denom=69, df_num=10\n",
      "ssr based chi2 test:   chi2=19.6099 , p=0.0332  , df=10\n",
      "likelihood ratio test: chi2=17.7407 , p=0.0595  , df=10\n",
      "parameter F test:         F=1.5034  , p=0.1569  , df_denom=69, df_num=10\n",
      "\n",
      "Granger Causality\n",
      "number of lags (no zero) 10\n",
      "ssr based F test:         F=1.5199  , p=0.1510  , df_denom=69, df_num=10\n",
      "ssr based chi2 test:   chi2=19.8246 , p=0.0310  , df=10\n",
      "likelihood ratio test: chi2=17.9167 , p=0.0564  , df=10\n",
      "parameter F test:         F=1.5199  , p=0.1510  , df_denom=69, df_num=10\n",
      "\n",
      "Granger Causality\n",
      "number of lags (no zero) 10\n",
      "ssr based F test:         F=1.0079  , p=0.4459  , df_denom=69, df_num=10\n",
      "ssr based chi2 test:   chi2=13.1462 , p=0.2156  , df=10\n",
      "likelihood ratio test: chi2=12.2704 , p=0.2674  , df=10\n",
      "parameter F test:         F=1.0079  , p=0.4459  , df_denom=69, df_num=10\n",
      "\n",
      "Granger Causality\n",
      "number of lags (no zero) 10\n",
      "ssr based F test:         F=0.7319  , p=0.6919  , df_denom=69, df_num=10\n",
      "ssr based chi2 test:   chi2=9.5471  , p=0.4811  , df=10\n",
      "likelihood ratio test: chi2=9.0739  , p=0.5251  , df=10\n",
      "parameter F test:         F=0.7319  , p=0.6919  , df_denom=69, df_num=10\n",
      "\n",
      "Granger Causality\n",
      "number of lags (no zero) 10\n",
      "ssr based F test:         F=0.5328  , p=0.8612  , df_denom=69, df_num=10\n",
      "ssr based chi2 test:   chi2=6.9490  , p=0.7303  , df=10\n",
      "likelihood ratio test: chi2=6.6938  , p=0.7540  , df=10\n",
      "parameter F test:         F=0.5328  , p=0.8612  , df_denom=69, df_num=10\n",
      "\n",
      "Granger Causality\n",
      "number of lags (no zero) 10\n",
      "ssr based F test:         F=0.6720  , p=0.7464  , df_denom=69, df_num=10\n",
      "ssr based chi2 test:   chi2=8.7650  , p=0.5545  , df=10\n",
      "likelihood ratio test: chi2=8.3640  , p=0.5933  , df=10\n",
      "parameter F test:         F=0.6720  , p=0.7464  , df_denom=69, df_num=10\n",
      "\n",
      "Granger Causality\n",
      "number of lags (no zero) 10\n",
      "ssr based F test:         F=1.5201  , p=0.1510  , df_denom=69, df_num=10\n",
      "ssr based chi2 test:   chi2=19.8273 , p=0.0309  , df=10\n",
      "likelihood ratio test: chi2=17.9189 , p=0.0563  , df=10\n",
      "parameter F test:         F=1.5201  , p=0.1510  , df_denom=69, df_num=10\n",
      "\n",
      "Granger Causality\n",
      "number of lags (no zero) 10\n",
      "ssr based F test:         F=1.8999  , p=0.0598  , df_denom=69, df_num=10\n",
      "ssr based chi2 test:   chi2=24.7818 , p=0.0058  , df=10\n",
      "likelihood ratio test: chi2=21.8901 , p=0.0157  , df=10\n",
      "parameter F test:         F=1.8999  , p=0.0598  , df_denom=69, df_num=10\n",
      "\n",
      "Granger Causality\n",
      "number of lags (no zero) 10\n",
      "ssr based F test:         F=0.5845  , p=0.8212  , df_denom=69, df_num=10\n",
      "ssr based chi2 test:   chi2=7.6236  , p=0.6655  , df=10\n",
      "likelihood ratio test: chi2=7.3179  , p=0.6951  , df=10\n",
      "parameter F test:         F=0.5845  , p=0.8212  , df_denom=69, df_num=10\n",
      "\n",
      "Granger Causality\n",
      "number of lags (no zero) 10\n",
      "ssr based F test:         F=0.6321  , p=0.7814  , df_denom=69, df_num=10\n",
      "ssr based chi2 test:   chi2=8.2451  , p=0.6049  , df=10\n",
      "likelihood ratio test: chi2=7.8890  , p=0.6397  , df=10\n",
      "parameter F test:         F=0.6321  , p=0.7814  , df_denom=69, df_num=10\n",
      "\n",
      "Granger Causality\n",
      "number of lags (no zero) 10\n",
      "ssr based F test:         F=0.4237  , p=0.9304  , df_denom=69, df_num=10\n",
      "ssr based chi2 test:   chi2=5.5268  , p=0.8533  , df=10\n",
      "likelihood ratio test: chi2=5.3638  , p=0.8656  , df=10\n",
      "parameter F test:         F=0.4237  , p=0.9304  , df_denom=69, df_num=10\n",
      "\n",
      "Granger Causality\n",
      "number of lags (no zero) 10\n",
      "ssr based F test:         F=1.4252  , p=0.1879  , df_denom=69, df_num=10\n",
      "ssr based chi2 test:   chi2=18.5893 , p=0.0458  , df=10\n",
      "likelihood ratio test: chi2=16.8987 , p=0.0766  , df=10\n",
      "parameter F test:         F=1.4252  , p=0.1879  , df_denom=69, df_num=10\n",
      "\n",
      "Granger Causality\n",
      "number of lags (no zero) 10\n",
      "ssr based F test:         F=1.4118  , p=0.1937  , df_denom=69, df_num=10\n",
      "ssr based chi2 test:   chi2=18.4142 , p=0.0484  , df=10\n",
      "likelihood ratio test: chi2=16.7534 , p=0.0800  , df=10\n",
      "parameter F test:         F=1.4118  , p=0.1937  , df_denom=69, df_num=10\n",
      "\n",
      "Granger Causality\n",
      "number of lags (no zero) 10\n",
      "ssr based F test:         F=1.9474  , p=0.0531  , df_denom=69, df_num=10\n",
      "ssr based chi2 test:   chi2=25.4010 , p=0.0046  , df=10\n",
      "likelihood ratio test: chi2=22.3743 , p=0.0133  , df=10\n",
      "parameter F test:         F=1.9474  , p=0.0531  , df_denom=69, df_num=10\n",
      "\n",
      "Granger Causality\n",
      "number of lags (no zero) 10\n",
      "ssr based F test:         F=1.2717  , p=0.2636  , df_denom=69, df_num=10\n",
      "ssr based chi2 test:   chi2=16.5878 , p=0.0840  , df=10\n",
      "likelihood ratio test: chi2=15.2243 , p=0.1241  , df=10\n",
      "parameter F test:         F=1.2717  , p=0.2636  , df_denom=69, df_num=10\n",
      "\n",
      "Granger Causality\n",
      "number of lags (no zero) 10\n",
      "ssr based F test:         F=3.2733  , p=0.0016  , df_denom=69, df_num=10\n",
      "ssr based chi2 test:   chi2=42.6954 , p=0.0000  , df=10\n",
      "likelihood ratio test: chi2=34.9422 , p=0.0001  , df=10\n",
      "parameter F test:         F=3.2733  , p=0.0016  , df_denom=69, df_num=10\n",
      "\n",
      "Granger Causality\n",
      "number of lags (no zero) 10\n",
      "ssr based F test:         F=0.7016  , p=0.7197  , df_denom=69, df_num=10\n",
      "ssr based chi2 test:   chi2=9.1510  , p=0.5178  , df=10\n",
      "likelihood ratio test: chi2=8.7151  , p=0.5593  , df=10\n",
      "parameter F test:         F=0.7016  , p=0.7197  , df_denom=69, df_num=10\n",
      "\n",
      "Granger Causality\n",
      "number of lags (no zero) 10\n",
      "ssr based F test:         F=1.0092  , p=0.4448  , df_denom=69, df_num=10\n",
      "ssr based chi2 test:   chi2=13.1639 , p=0.2147  , df=10\n",
      "likelihood ratio test: chi2=12.2859 , p=0.2664  , df=10\n",
      "parameter F test:         F=1.0092  , p=0.4448  , df_denom=69, df_num=10\n",
      "\n",
      "Granger Causality\n",
      "number of lags (no zero) 10\n",
      "ssr based F test:         F=1.1589  , p=0.3333  , df_denom=69, df_num=10\n",
      "ssr based chi2 test:   chi2=15.1165 , p=0.1279  , df=10\n",
      "likelihood ratio test: chi2=13.9733 , p=0.1742  , df=10\n",
      "parameter F test:         F=1.1589  , p=0.3333  , df_denom=69, df_num=10\n",
      "\n",
      "Granger Causality\n",
      "number of lags (no zero) 10\n",
      "ssr based F test:         F=1.4254  , p=0.1878  , df_denom=69, df_num=10\n",
      "ssr based chi2 test:   chi2=18.5915 , p=0.0458  , df=10\n",
      "likelihood ratio test: chi2=16.9006 , p=0.0766  , df=10\n",
      "parameter F test:         F=1.4254  , p=0.1878  , df_denom=69, df_num=10\n",
      "\n",
      "Granger Causality\n",
      "number of lags (no zero) 10\n",
      "ssr based F test:         F=0.7929  , p=0.6356  , df_denom=69, df_num=10\n",
      "ssr based chi2 test:   chi2=10.3423 , p=0.4110  , df=10\n",
      "likelihood ratio test: chi2=9.7900  , p=0.4591  , df=10\n",
      "parameter F test:         F=0.7929  , p=0.6356  , df_denom=69, df_num=10\n",
      "\n",
      "Granger Causality\n",
      "number of lags (no zero) 10\n",
      "ssr based F test:         F=1.9056  , p=0.0590  , df_denom=69, df_num=10\n",
      "ssr based chi2 test:   chi2=24.8559 , p=0.0056  , df=10\n",
      "likelihood ratio test: chi2=21.9482 , p=0.0154  , df=10\n",
      "parameter F test:         F=1.9056  , p=0.0590  , df_denom=69, df_num=10\n",
      "\n",
      "Granger Causality\n",
      "number of lags (no zero) 10\n",
      "ssr based F test:         F=0.8296  , p=0.6018  , df_denom=69, df_num=10\n",
      "ssr based chi2 test:   chi2=10.8205 , p=0.3717  , df=10\n",
      "likelihood ratio test: chi2=10.2179 , p=0.4216  , df=10\n",
      "parameter F test:         F=0.8296  , p=0.6018  , df_denom=69, df_num=10\n",
      "\n",
      "Granger Causality\n",
      "number of lags (no zero) 10\n",
      "ssr based F test:         F=2.1571  , p=0.0310  , df_denom=69, df_num=10\n",
      "ssr based chi2 test:   chi2=28.1362 , p=0.0017  , df=10\n",
      "likelihood ratio test: chi2=24.4826 , p=0.0064  , df=10\n",
      "parameter F test:         F=2.1571  , p=0.0310  , df_denom=69, df_num=10\n",
      "\n",
      "Granger Causality\n",
      "number of lags (no zero) 10\n",
      "ssr based F test:         F=1.0261  , p=0.4312  , df_denom=69, df_num=10\n",
      "ssr based chi2 test:   chi2=13.3841 , p=0.2030  , df=10\n",
      "likelihood ratio test: chi2=12.4778 , p=0.2544  , df=10\n",
      "parameter F test:         F=1.0261  , p=0.4312  , df_denom=69, df_num=10\n",
      "\n",
      "Granger Causality\n",
      "number of lags (no zero) 10\n",
      "ssr based F test:         F=1.3726  , p=0.2115  , df_denom=69, df_num=10\n",
      "ssr based chi2 test:   chi2=17.9032 , p=0.0566  , df=10\n",
      "likelihood ratio test: chi2=16.3283 , p=0.0906  , df=10\n",
      "parameter F test:         F=1.3726  , p=0.2115  , df_denom=69, df_num=10\n",
      "\n",
      "Granger Causality\n",
      "number of lags (no zero) 10\n",
      "ssr based F test:         F=0.6864  , p=0.7335  , df_denom=69, df_num=10\n",
      "ssr based chi2 test:   chi2=8.9531  , p=0.5366  , df=10\n",
      "likelihood ratio test: chi2=8.5353  , p=0.5767  , df=10\n",
      "parameter F test:         F=0.6864  , p=0.7335  , df_denom=69, df_num=10\n",
      "\n",
      "Granger Causality\n",
      "number of lags (no zero) 10\n",
      "ssr based F test:         F=1.2985  , p=0.2489  , df_denom=69, df_num=10\n",
      "ssr based chi2 test:   chi2=16.9364 , p=0.0758  , df=10\n",
      "likelihood ratio test: chi2=15.5182 , p=0.1143  , df=10\n",
      "parameter F test:         F=1.2985  , p=0.2489  , df_denom=69, df_num=10\n",
      "\n",
      "Granger Causality\n",
      "number of lags (no zero) 10\n",
      "ssr based F test:         F=1.3079  , p=0.2438  , df_denom=69, df_num=10\n",
      "ssr based chi2 test:   chi2=17.0598 , p=0.0731  , df=10\n",
      "likelihood ratio test: chi2=15.6220 , p=0.1110  , df=10\n",
      "parameter F test:         F=1.3079  , p=0.2438  , df_denom=69, df_num=10\n",
      "\n",
      "Granger Causality\n",
      "number of lags (no zero) 10\n",
      "ssr based F test:         F=0.6531  , p=0.7631  , df_denom=69, df_num=10\n",
      "ssr based chi2 test:   chi2=8.5193  , p=0.5783  , df=10\n",
      "likelihood ratio test: chi2=8.1398  , p=0.6152  , df=10\n",
      "parameter F test:         F=0.6531  , p=0.7631  , df_denom=69, df_num=10\n",
      "\n",
      "Granger Causality\n",
      "number of lags (no zero) 10\n",
      "ssr based F test:         F=0.9285  , p=0.5129  , df_denom=69, df_num=10\n",
      "ssr based chi2 test:   chi2=12.1106 , p=0.2777  , df=10\n",
      "likelihood ratio test: chi2=11.3622 , p=0.3300  , df=10\n",
      "parameter F test:         F=0.9285  , p=0.5129  , df_denom=69, df_num=10\n",
      "\n",
      "Granger Causality\n",
      "number of lags (no zero) 10\n",
      "ssr based F test:         F=1.1077  , p=0.3691  , df_denom=69, df_num=10\n",
      "ssr based chi2 test:   chi2=14.4483 , p=0.1535  , df=10\n",
      "likelihood ratio test: chi2=13.3994 , p=0.2022  , df=10\n",
      "parameter F test:         F=1.1077  , p=0.3691  , df_denom=69, df_num=10\n",
      "\n",
      "Granger Causality\n",
      "number of lags (no zero) 10\n",
      "ssr based F test:         F=2.3880  , p=0.0170  , df_denom=69, df_num=10\n",
      "ssr based chi2 test:   chi2=31.1482 , p=0.0006  , df=10\n",
      "likelihood ratio test: chi2=26.7484 , p=0.0029  , df=10\n",
      "parameter F test:         F=2.3880  , p=0.0170  , df_denom=69, df_num=10\n",
      "\n",
      "Granger Causality\n",
      "number of lags (no zero) 10\n",
      "ssr based F test:         F=0.5401  , p=0.8557  , df_denom=69, df_num=10\n",
      "ssr based chi2 test:   chi2=7.0450  , p=0.7212  , df=10\n",
      "likelihood ratio test: chi2=6.7829  , p=0.7458  , df=10\n",
      "parameter F test:         F=0.5401  , p=0.8557  , df_denom=69, df_num=10\n",
      "\n",
      "Granger Causality\n",
      "number of lags (no zero) 10\n",
      "ssr based F test:         F=1.1572  , p=0.3345  , df_denom=69, df_num=10\n",
      "ssr based chi2 test:   chi2=15.0936 , p=0.1287  , df=10\n",
      "likelihood ratio test: chi2=13.9537 , p=0.1751  , df=10\n",
      "parameter F test:         F=1.1572  , p=0.3345  , df_denom=69, df_num=10\n",
      "\n",
      "Granger Causality\n",
      "number of lags (no zero) 10\n",
      "ssr based F test:         F=0.3387  , p=0.9673  , df_denom=69, df_num=10\n",
      "ssr based chi2 test:   chi2=4.4175  , p=0.9266  , df=10\n",
      "likelihood ratio test: chi2=4.3125  , p=0.9321  , df=10\n",
      "parameter F test:         F=0.3387  , p=0.9673  , df_denom=69, df_num=10\n",
      "\n",
      "Granger Causality\n",
      "number of lags (no zero) 10\n",
      "ssr based F test:         F=1.5047  , p=0.1565  , df_denom=69, df_num=10\n",
      "ssr based chi2 test:   chi2=19.6271 , p=0.0330  , df=10\n",
      "likelihood ratio test: chi2=17.7547 , p=0.0592  , df=10\n",
      "parameter F test:         F=1.5047  , p=0.1565  , df_denom=69, df_num=10\n",
      "\n",
      "Granger Causality\n",
      "number of lags (no zero) 10\n",
      "ssr based F test:         F=0.6911  , p=0.7293  , df_denom=69, df_num=10\n",
      "ssr based chi2 test:   chi2=9.0138  , p=0.5308  , df=10\n",
      "likelihood ratio test: chi2=8.5904  , p=0.5714  , df=10\n",
      "parameter F test:         F=0.6911  , p=0.7293  , df_denom=69, df_num=10\n",
      "\n",
      "Granger Causality\n",
      "number of lags (no zero) 10\n",
      "ssr based F test:         F=0.7349  , p=0.6892  , df_denom=69, df_num=10\n",
      "ssr based chi2 test:   chi2=9.5859  , p=0.4775  , df=10\n",
      "likelihood ratio test: chi2=9.1090  , p=0.5218  , df=10\n",
      "parameter F test:         F=0.7349  , p=0.6892  , df_denom=69, df_num=10\n",
      "\n",
      "Granger Causality\n",
      "number of lags (no zero) 10\n",
      "ssr based F test:         F=0.8283  , p=0.6029  , df_denom=69, df_num=10\n",
      "ssr based chi2 test:   chi2=10.8041 , p=0.3730  , df=10\n",
      "likelihood ratio test: chi2=10.2032 , p=0.4228  , df=10\n",
      "parameter F test:         F=0.8283  , p=0.6029  , df_denom=69, df_num=10\n",
      "\n",
      "Granger Causality\n",
      "number of lags (no zero) 10\n",
      "ssr based F test:         F=3.1104  , p=0.0025  , df_denom=69, df_num=10\n",
      "ssr based chi2 test:   chi2=40.5705 , p=0.0000  , df=10\n",
      "likelihood ratio test: chi2=33.4893 , p=0.0002  , df=10\n",
      "parameter F test:         F=3.1104  , p=0.0025  , df_denom=69, df_num=10\n",
      "\n",
      "Granger Causality\n",
      "number of lags (no zero) 10\n",
      "ssr based F test:         F=1.1184  , p=0.3614  , df_denom=69, df_num=10\n",
      "ssr based chi2 test:   chi2=14.5877 , p=0.1478  , df=10\n",
      "likelihood ratio test: chi2=13.5195 , p=0.1961  , df=10\n",
      "parameter F test:         F=1.1184  , p=0.3614  , df_denom=69, df_num=10\n",
      "\n",
      "Granger Causality\n",
      "number of lags (no zero) 10\n",
      "ssr based F test:         F=1.9437  , p=0.0536  , df_denom=69, df_num=10\n",
      "ssr based chi2 test:   chi2=25.3525 , p=0.0047  , df=10\n",
      "likelihood ratio test: chi2=22.3365 , p=0.0135  , df=10\n",
      "parameter F test:         F=1.9437  , p=0.0536  , df_denom=69, df_num=10\n",
      "\n",
      "Granger Causality\n",
      "number of lags (no zero) 10\n",
      "ssr based F test:         F=1.6479  , p=0.1115  , df_denom=69, df_num=10\n",
      "ssr based chi2 test:   chi2=21.4942 , p=0.0179  , df=10\n",
      "likelihood ratio test: chi2=19.2747 , p=0.0369  , df=10\n",
      "parameter F test:         F=1.6479  , p=0.1115  , df_denom=69, df_num=10\n",
      "\n",
      "Granger Causality\n",
      "number of lags (no zero) 10\n",
      "ssr based F test:         F=0.8523  , p=0.5809  , df_denom=69, df_num=10\n",
      "ssr based chi2 test:   chi2=11.1173 , p=0.3485  , df=10\n",
      "likelihood ratio test: chi2=10.4824 , p=0.3992  , df=10\n",
      "parameter F test:         F=0.8523  , p=0.5809  , df_denom=69, df_num=10\n",
      "\n",
      "Granger Causality\n",
      "number of lags (no zero) 10\n",
      "ssr based F test:         F=1.0492  , p=0.4130  , df_denom=69, df_num=10\n",
      "ssr based chi2 test:   chi2=13.6852 , p=0.1878  , df=10\n",
      "likelihood ratio test: chi2=12.7395 , p=0.2386  , df=10\n",
      "parameter F test:         F=1.0492  , p=0.4130  , df_denom=69, df_num=10\n",
      "\n",
      "Granger Causality\n",
      "number of lags (no zero) 10\n",
      "ssr based F test:         F=1.9347  , p=0.0548  , df_denom=69, df_num=10\n",
      "ssr based chi2 test:   chi2=25.2356 , p=0.0049  , df=10\n",
      "likelihood ratio test: chi2=22.2452 , p=0.0139  , df=10\n",
      "parameter F test:         F=1.9347  , p=0.0548  , df_denom=69, df_num=10\n",
      "\n",
      "Granger Causality\n",
      "number of lags (no zero) 10\n",
      "ssr based F test:         F=1.4860  , p=0.1634  , df_denom=69, df_num=10\n",
      "ssr based chi2 test:   chi2=19.3830 , p=0.0357  , df=10\n",
      "likelihood ratio test: chi2=17.5542 , p=0.0630  , df=10\n",
      "parameter F test:         F=1.4860  , p=0.1634  , df_denom=69, df_num=10\n",
      "\n",
      "Granger Causality\n",
      "number of lags (no zero) 10\n",
      "ssr based F test:         F=1.0841  , p=0.3864  , df_denom=69, df_num=10\n",
      "ssr based chi2 test:   chi2=14.1402 , p=0.1667  , df=10\n",
      "likelihood ratio test: chi2=13.1336 , p=0.2163  , df=10\n",
      "parameter F test:         F=1.0841  , p=0.3864  , df_denom=69, df_num=10\n",
      "\n",
      "Granger Causality\n",
      "number of lags (no zero) 10\n",
      "ssr based F test:         F=1.1977  , p=0.3079  , df_denom=69, df_num=10\n",
      "ssr based chi2 test:   chi2=15.6226 , p=0.1110  , df=10\n",
      "likelihood ratio test: chi2=14.4057 , p=0.1553  , df=10\n",
      "parameter F test:         F=1.1977  , p=0.3079  , df_denom=69, df_num=10\n",
      "\n",
      "Granger Causality\n",
      "number of lags (no zero) 10\n",
      "ssr based F test:         F=0.8488  , p=0.5842  , df_denom=69, df_num=10\n",
      "ssr based chi2 test:   chi2=11.0708 , p=0.3520  , df=10\n",
      "likelihood ratio test: chi2=10.4410 , p=0.4027  , df=10\n",
      "parameter F test:         F=0.8488  , p=0.5842  , df_denom=69, df_num=10\n",
      "\n",
      "Granger Causality\n",
      "number of lags (no zero) 10\n",
      "ssr based F test:         F=1.9639  , p=0.0509  , df_denom=69, df_num=10\n",
      "ssr based chi2 test:   chi2=25.6166 , p=0.0043  , df=10\n",
      "likelihood ratio test: chi2=22.5423 , p=0.0126  , df=10\n",
      "parameter F test:         F=1.9639  , p=0.0509  , df_denom=69, df_num=10\n",
      "\n",
      "Granger Causality\n",
      "number of lags (no zero) 10\n",
      "ssr based F test:         F=1.0786  , p=0.3906  , df_denom=69, df_num=10\n",
      "ssr based chi2 test:   chi2=14.0682 , p=0.1699  , df=10\n",
      "likelihood ratio test: chi2=13.0713 , p=0.2197  , df=10\n",
      "parameter F test:         F=1.0786  , p=0.3906  , df_denom=69, df_num=10\n",
      "\n",
      "Granger Causality\n",
      "number of lags (no zero) 10\n",
      "ssr based F test:         F=0.7790  , p=0.6485  , df_denom=69, df_num=10\n",
      "ssr based chi2 test:   chi2=10.1603 , p=0.4265  , df=10\n",
      "likelihood ratio test: chi2=9.6266  , p=0.4738  , df=10\n",
      "parameter F test:         F=0.7790  , p=0.6485  , df_denom=69, df_num=10\n",
      "\n",
      "Granger Causality\n",
      "number of lags (no zero) 10\n",
      "ssr based F test:         F=1.2821  , p=0.2578  , df_denom=69, df_num=10\n",
      "ssr based chi2 test:   chi2=16.7234 , p=0.0807  , df=10\n",
      "likelihood ratio test: chi2=15.3388 , p=0.1202  , df=10\n",
      "parameter F test:         F=1.2821  , p=0.2578  , df_denom=69, df_num=10\n",
      "\n",
      "Granger Causality\n",
      "number of lags (no zero) 10\n",
      "ssr based F test:         F=1.6019  , p=0.1245  , df_denom=69, df_num=10\n",
      "ssr based chi2 test:   chi2=20.8942 , p=0.0218  , df=10\n",
      "likelihood ratio test: chi2=18.7890 , p=0.0430  , df=10\n",
      "parameter F test:         F=1.6019  , p=0.1245  , df_denom=69, df_num=10\n",
      "\n",
      "Granger Causality\n",
      "number of lags (no zero) 10\n",
      "ssr based F test:         F=0.5258  , p=0.8662  , df_denom=69, df_num=10\n",
      "ssr based chi2 test:   chi2=6.8582  , p=0.7388  , df=10\n",
      "likelihood ratio test: chi2=6.6095  , p=0.7617  , df=10\n",
      "parameter F test:         F=0.5258  , p=0.8662  , df_denom=69, df_num=10\n",
      "\n",
      "Granger Causality\n",
      "number of lags (no zero) 10\n",
      "ssr based F test:         F=2.7198  , p=0.0071  , df_denom=69, df_num=10\n",
      "ssr based chi2 test:   chi2=35.4760 , p=0.0001  , df=10\n",
      "likelihood ratio test: chi2=29.9074 , p=0.0009  , df=10\n",
      "parameter F test:         F=2.7198  , p=0.0071  , df_denom=69, df_num=10\n",
      "\n",
      "Granger Causality\n",
      "number of lags (no zero) 10\n",
      "ssr based F test:         F=1.0710  , p=0.3962  , df_denom=69, df_num=10\n",
      "ssr based chi2 test:   chi2=13.9698 , p=0.1744  , df=10\n",
      "likelihood ratio test: chi2=12.9862 , p=0.2244  , df=10\n",
      "parameter F test:         F=1.0710  , p=0.3962  , df_denom=69, df_num=10\n",
      "\n",
      "Granger Causality\n",
      "number of lags (no zero) 10\n",
      "ssr based F test:         F=1.5456  , p=0.1422  , df_denom=69, df_num=10\n",
      "ssr based chi2 test:   chi2=20.1601 , p=0.0278  , df=10\n",
      "likelihood ratio test: chi2=18.1912 , p=0.0518  , df=10\n",
      "parameter F test:         F=1.5456  , p=0.1422  , df_denom=69, df_num=10\n",
      "\n",
      "Granger Causality\n",
      "number of lags (no zero) 10\n",
      "ssr based F test:         F=0.9401  , p=0.5028  , df_denom=69, df_num=10\n",
      "ssr based chi2 test:   chi2=12.2619 , p=0.2679  , df=10\n",
      "likelihood ratio test: chi2=11.4954 , p=0.3202  , df=10\n",
      "parameter F test:         F=0.9401  , p=0.5028  , df_denom=69, df_num=10\n",
      "\n",
      "Granger Causality\n",
      "number of lags (no zero) 10\n",
      "ssr based F test:         F=0.5519  , p=0.8468  , df_denom=69, df_num=10\n",
      "ssr based chi2 test:   chi2=7.1987  , p=0.7066  , df=10\n",
      "likelihood ratio test: chi2=6.9253  , p=0.7325  , df=10\n",
      "parameter F test:         F=0.5519  , p=0.8468  , df_denom=69, df_num=10\n",
      "\n",
      "Granger Causality\n",
      "number of lags (no zero) 10\n",
      "ssr based F test:         F=0.5432  , p=0.8534  , df_denom=69, df_num=10\n",
      "ssr based chi2 test:   chi2=7.0850  , p=0.7174  , df=10\n",
      "likelihood ratio test: chi2=6.8199  , p=0.7423  , df=10\n",
      "parameter F test:         F=0.5432  , p=0.8534  , df_denom=69, df_num=10\n",
      "\n",
      "Granger Causality\n",
      "number of lags (no zero) 10\n",
      "ssr based F test:         F=2.0581  , p=0.0400  , df_denom=69, df_num=10\n",
      "ssr based chi2 test:   chi2=26.8444 , p=0.0028  , df=10\n",
      "likelihood ratio test: chi2=23.4930 , p=0.0091  , df=10\n",
      "parameter F test:         F=2.0581  , p=0.0400  , df_denom=69, df_num=10\n",
      "\n",
      "Granger Causality\n",
      "number of lags (no zero) 10\n",
      "ssr based F test:         F=1.6814  , p=0.1028  , df_denom=69, df_num=10\n",
      "ssr based chi2 test:   chi2=21.9310 , p=0.0155  , df=10\n",
      "likelihood ratio test: chi2=19.6266 , p=0.0330  , df=10\n",
      "parameter F test:         F=1.6814  , p=0.1028  , df_denom=69, df_num=10\n",
      "\n",
      "Granger Causality\n",
      "number of lags (no zero) 10\n",
      "ssr based F test:         F=0.8097  , p=0.6200  , df_denom=69, df_num=10\n",
      "ssr based chi2 test:   chi2=10.5618 , p=0.3927  , df=10\n",
      "likelihood ratio test: chi2=9.9867  , p=0.4417  , df=10\n",
      "parameter F test:         F=0.8097  , p=0.6200  , df_denom=69, df_num=10\n",
      "\n",
      "Granger Causality\n",
      "number of lags (no zero) 10\n",
      "ssr based F test:         F=0.9090  , p=0.5300  , df_denom=69, df_num=10\n",
      "ssr based chi2 test:   chi2=11.8567 , p=0.2948  , df=10\n",
      "likelihood ratio test: chi2=11.1382 , p=0.3469  , df=10\n",
      "parameter F test:         F=0.9090  , p=0.5300  , df_denom=69, df_num=10\n",
      "\n",
      "Granger Causality\n",
      "number of lags (no zero) 10\n",
      "ssr based F test:         F=2.2775  , p=0.0227  , df_denom=69, df_num=10\n",
      "ssr based chi2 test:   chi2=29.7067 , p=0.0010  , df=10\n",
      "likelihood ratio test: chi2=25.6712 , p=0.0042  , df=10\n",
      "parameter F test:         F=2.2775  , p=0.0227  , df_denom=69, df_num=10\n",
      "\n",
      "Granger Causality\n",
      "number of lags (no zero) 10\n",
      "ssr based F test:         F=1.8433  , p=0.0690  , df_denom=69, df_num=10\n",
      "ssr based chi2 test:   chi2=24.0425 , p=0.0075  , df=10\n",
      "likelihood ratio test: chi2=21.3086 , p=0.0190  , df=10\n",
      "parameter F test:         F=1.8433  , p=0.0690  , df_denom=69, df_num=10\n",
      "\n",
      "Granger Causality\n",
      "number of lags (no zero) 10\n",
      "ssr based F test:         F=0.8808  , p=0.5551  , df_denom=69, df_num=10\n",
      "ssr based chi2 test:   chi2=11.4892 , p=0.3207  , df=10\n",
      "likelihood ratio test: chi2=10.8128 , p=0.3723  , df=10\n",
      "parameter F test:         F=0.8808  , p=0.5551  , df_denom=69, df_num=10\n",
      "\n",
      "Granger Causality\n",
      "number of lags (no zero) 10\n",
      "ssr based F test:         F=2.6280  , p=0.0090  , df_denom=69, df_num=10\n",
      "ssr based chi2 test:   chi2=34.2785 , p=0.0002  , df=10\n",
      "likelihood ratio test: chi2=29.0444 , p=0.0012  , df=10\n",
      "parameter F test:         F=2.6280  , p=0.0090  , df_denom=69, df_num=10\n",
      "\n",
      "Granger Causality\n",
      "number of lags (no zero) 10\n",
      "ssr based F test:         F=1.2876  , p=0.2548  , df_denom=69, df_num=10\n",
      "ssr based chi2 test:   chi2=16.7943 , p=0.0790  , df=10\n",
      "likelihood ratio test: chi2=15.3986 , p=0.1182  , df=10\n",
      "parameter F test:         F=1.2876  , p=0.2548  , df_denom=69, df_num=10\n",
      "\n",
      "Granger Causality\n",
      "number of lags (no zero) 10\n",
      "ssr based F test:         F=1.3382  , p=0.2282  , df_denom=69, df_num=10\n",
      "ssr based chi2 test:   chi2=17.4542 , p=0.0649  , df=10\n",
      "likelihood ratio test: chi2=15.9530 , p=0.1010  , df=10\n",
      "parameter F test:         F=1.3382  , p=0.2282  , df_denom=69, df_num=10\n",
      "\n",
      "Granger Causality\n",
      "number of lags (no zero) 10\n",
      "ssr based F test:         F=2.0156  , p=0.0446  , df_denom=69, df_num=10\n",
      "ssr based chi2 test:   chi2=26.2898 , p=0.0034  , df=10\n",
      "likelihood ratio test: chi2=23.0648 , p=0.0105  , df=10\n",
      "parameter F test:         F=2.0156  , p=0.0446  , df_denom=69, df_num=10\n",
      "\n",
      "Granger Causality\n",
      "number of lags (no zero) 10\n",
      "ssr based F test:         F=0.8651  , p=0.5693  , df_denom=69, df_num=10\n",
      "ssr based chi2 test:   chi2=11.2840 , p=0.3358  , df=10\n",
      "likelihood ratio test: chi2=10.6307 , p=0.3870  , df=10\n",
      "parameter F test:         F=0.8651  , p=0.5693  , df_denom=69, df_num=10\n",
      "\n",
      "Granger Causality\n",
      "number of lags (no zero) 10\n",
      "ssr based F test:         F=1.0963  , p=0.3774  , df_denom=69, df_num=10\n",
      "ssr based chi2 test:   chi2=14.2999 , p=0.1597  , df=10\n",
      "likelihood ratio test: chi2=13.2715 , p=0.2089  , df=10\n",
      "parameter F test:         F=1.0963  , p=0.3774  , df_denom=69, df_num=10\n",
      "\n",
      "Granger Causality\n",
      "number of lags (no zero) 10\n",
      "ssr based F test:         F=0.2095  , p=0.9948  , df_denom=69, df_num=10\n",
      "ssr based chi2 test:   chi2=2.7326  , p=0.9870  , df=10\n",
      "likelihood ratio test: chi2=2.6919  , p=0.9878  , df=10\n",
      "parameter F test:         F=0.2095  , p=0.9948  , df_denom=69, df_num=10\n",
      "\n",
      "Granger Causality\n",
      "number of lags (no zero) 10\n",
      "ssr based F test:         F=0.4211  , p=0.9317  , df_denom=69, df_num=10\n",
      "ssr based chi2 test:   chi2=5.4929  , p=0.8559  , df=10\n",
      "likelihood ratio test: chi2=5.3318  , p=0.8679  , df=10\n",
      "parameter F test:         F=0.4211  , p=0.9317  , df_denom=69, df_num=10\n",
      "\n",
      "Granger Causality\n",
      "number of lags (no zero) 10\n",
      "ssr based F test:         F=0.4175  , p=0.9336  , df_denom=69, df_num=10\n",
      "ssr based chi2 test:   chi2=5.4462  , p=0.8595  , df=10\n",
      "likelihood ratio test: chi2=5.2878  , p=0.8711  , df=10\n",
      "parameter F test:         F=0.4175  , p=0.9336  , df_denom=69, df_num=10\n",
      "\n",
      "Granger Causality\n",
      "number of lags (no zero) 10\n",
      "ssr based F test:         F=1.3213  , p=0.2368  , df_denom=69, df_num=10\n",
      "ssr based chi2 test:   chi2=17.2345 , p=0.0693  , df=10\n",
      "likelihood ratio test: chi2=15.7687 , p=0.1064  , df=10\n",
      "parameter F test:         F=1.3213  , p=0.2368  , df_denom=69, df_num=10\n",
      "\n",
      "Granger Causality\n",
      "number of lags (no zero) 10\n",
      "ssr based F test:         F=2.1653  , p=0.0304  , df_denom=69, df_num=10\n",
      "ssr based chi2 test:   chi2=28.2427 , p=0.0017  , df=10\n",
      "likelihood ratio test: chi2=24.5637 , p=0.0062  , df=10\n",
      "parameter F test:         F=2.1653  , p=0.0304  , df_denom=69, df_num=10\n",
      "\n",
      "Granger Causality\n",
      "number of lags (no zero) 10\n",
      "ssr based F test:         F=0.3392  , p=0.9671  , df_denom=69, df_num=10\n",
      "ssr based chi2 test:   chi2=4.4249  , p=0.9262  , df=10\n",
      "likelihood ratio test: chi2=4.3195  , p=0.9318  , df=10\n",
      "parameter F test:         F=0.3392  , p=0.9671  , df_denom=69, df_num=10\n",
      "\n",
      "Granger Causality\n",
      "number of lags (no zero) 10\n",
      "ssr based F test:         F=0.8931  , p=0.5442  , df_denom=69, df_num=10\n",
      "ssr based chi2 test:   chi2=11.6488 , p=0.3093  , df=10\n",
      "likelihood ratio test: chi2=10.9542 , p=0.3611  , df=10\n",
      "parameter F test:         F=0.8931  , p=0.5442  , df_denom=69, df_num=10\n",
      "\n",
      "Granger Causality\n",
      "number of lags (no zero) 10\n",
      "ssr based F test:         F=0.6827  , p=0.7368  , df_denom=69, df_num=10\n",
      "ssr based chi2 test:   chi2=8.9052  , p=0.5411  , df=10\n",
      "likelihood ratio test: chi2=8.4917  , p=0.5809  , df=10\n",
      "parameter F test:         F=0.6827  , p=0.7368  , df_denom=69, df_num=10\n",
      "\n",
      "Granger Causality\n",
      "number of lags (no zero) 10\n",
      "ssr based F test:         F=1.3194  , p=0.2378  , df_denom=69, df_num=10\n",
      "ssr based chi2 test:   chi2=17.2093 , p=0.0699  , df=10\n",
      "likelihood ratio test: chi2=15.7476 , p=0.1071  , df=10\n",
      "parameter F test:         F=1.3194  , p=0.2378  , df_denom=69, df_num=10\n",
      "\n",
      "Granger Causality\n",
      "number of lags (no zero) 10\n",
      "ssr based F test:         F=1.3964  , p=0.2005  , df_denom=69, df_num=10\n",
      "ssr based chi2 test:   chi2=18.2133 , p=0.0515  , df=10\n",
      "likelihood ratio test: chi2=16.5865 , p=0.0840  , df=10\n",
      "parameter F test:         F=1.3964  , p=0.2005  , df_denom=69, df_num=10\n",
      "\n",
      "Granger Causality\n",
      "number of lags (no zero) 10\n",
      "ssr based F test:         F=1.5291  , p=0.1478  , df_denom=69, df_num=10\n",
      "ssr based chi2 test:   chi2=19.9442 , p=0.0298  , df=10\n",
      "likelihood ratio test: chi2=18.0147 , p=0.0547  , df=10\n",
      "parameter F test:         F=1.5291  , p=0.1478  , df_denom=69, df_num=10\n",
      "\n",
      "Granger Causality\n",
      "number of lags (no zero) 10\n",
      "ssr based F test:         F=0.8797  , p=0.5561  , df_denom=69, df_num=10\n",
      "ssr based chi2 test:   chi2=11.4747 , p=0.3217  , df=10\n",
      "likelihood ratio test: chi2=10.8000 , p=0.3733  , df=10\n",
      "parameter F test:         F=0.8797  , p=0.5561  , df_denom=69, df_num=10\n",
      "\n",
      "Granger Causality\n",
      "number of lags (no zero) 10\n",
      "ssr based F test:         F=0.4879  , p=0.8924  , df_denom=69, df_num=10\n",
      "ssr based chi2 test:   chi2=6.3638  , p=0.7838  , df=10\n",
      "likelihood ratio test: chi2=6.1489  , p=0.8026  , df=10\n",
      "parameter F test:         F=0.4879  , p=0.8924  , df_denom=69, df_num=10\n",
      "\n",
      "Granger Causality\n",
      "number of lags (no zero) 10\n",
      "ssr based F test:         F=1.5880  , p=0.1286  , df_denom=69, df_num=10\n",
      "ssr based chi2 test:   chi2=20.7132 , p=0.0232  , df=10\n",
      "likelihood ratio test: chi2=18.6420 , p=0.0451  , df=10\n",
      "parameter F test:         F=1.5880  , p=0.1286  , df_denom=69, df_num=10\n",
      "\n",
      "Granger Causality\n",
      "number of lags (no zero) 10\n",
      "ssr based F test:         F=2.0541  , p=0.0404  , df_denom=69, df_num=10\n",
      "ssr based chi2 test:   chi2=26.7931 , p=0.0028  , df=10\n",
      "likelihood ratio test: chi2=23.4535 , p=0.0092  , df=10\n",
      "parameter F test:         F=2.0541  , p=0.0404  , df_denom=69, df_num=10\n",
      "\n",
      "Granger Causality\n",
      "number of lags (no zero) 10\n",
      "ssr based F test:         F=1.7855  , p=0.0796  , df_denom=69, df_num=10\n",
      "ssr based chi2 test:   chi2=23.2896 , p=0.0097  , df=10\n",
      "likelihood ratio test: chi2=20.7124 , p=0.0232  , df=10\n",
      "parameter F test:         F=1.7855  , p=0.0796  , df_denom=69, df_num=10\n",
      "\n",
      "Granger Causality\n",
      "number of lags (no zero) 10\n",
      "ssr based F test:         F=2.3119  , p=0.0207  , df_denom=69, df_num=10\n",
      "ssr based chi2 test:   chi2=30.1557 , p=0.0008  , df=10\n",
      "likelihood ratio test: chi2=26.0081 , p=0.0037  , df=10\n",
      "parameter F test:         F=2.3119  , p=0.0207  , df_denom=69, df_num=10\n",
      "\n",
      "Granger Causality\n",
      "number of lags (no zero) 10\n",
      "ssr based F test:         F=2.1211  , p=0.0340  , df_denom=69, df_num=10\n",
      "ssr based chi2 test:   chi2=27.6666 , p=0.0020  , df=10\n",
      "likelihood ratio test: chi2=24.1241 , p=0.0073  , df=10\n",
      "parameter F test:         F=2.1211  , p=0.0340  , df_denom=69, df_num=10\n",
      "\n",
      "Granger Causality\n",
      "number of lags (no zero) 10\n",
      "ssr based F test:         F=0.7081  , p=0.7138  , df_denom=69, df_num=10\n",
      "ssr based chi2 test:   chi2=9.2360  , p=0.5099  , df=10\n",
      "likelihood ratio test: chi2=8.7922  , p=0.5519  , df=10\n",
      "parameter F test:         F=0.7081  , p=0.7138  , df_denom=69, df_num=10\n",
      "\n",
      "Granger Causality\n",
      "number of lags (no zero) 10\n",
      "ssr based F test:         F=1.7934  , p=0.0781  , df_denom=69, df_num=10\n",
      "ssr based chi2 test:   chi2=23.3916 , p=0.0094  , df=10\n",
      "likelihood ratio test: chi2=20.7933 , p=0.0226  , df=10\n",
      "parameter F test:         F=1.7934  , p=0.0781  , df_denom=69, df_num=10\n",
      "\n",
      "Granger Causality\n",
      "number of lags (no zero) 10\n",
      "ssr based F test:         F=1.3332  , p=0.2307  , df_denom=69, df_num=10\n",
      "ssr based chi2 test:   chi2=17.3898 , p=0.0662  , df=10\n",
      "likelihood ratio test: chi2=15.8990 , p=0.1026  , df=10\n",
      "parameter F test:         F=1.3332  , p=0.2307  , df_denom=69, df_num=10\n",
      "\n",
      "Granger Causality\n",
      "number of lags (no zero) 10\n",
      "ssr based F test:         F=2.0320  , p=0.0428  , df_denom=69, df_num=10\n",
      "ssr based chi2 test:   chi2=26.5044 , p=0.0031  , df=10\n",
      "likelihood ratio test: chi2=23.2307 , p=0.0099  , df=10\n",
      "parameter F test:         F=2.0320  , p=0.0428  , df_denom=69, df_num=10\n",
      "\n",
      "Granger Causality\n",
      "number of lags (no zero) 10\n",
      "ssr based F test:         F=2.1100  , p=0.0350  , df_denom=69, df_num=10\n",
      "ssr based chi2 test:   chi2=27.5213 , p=0.0022  , df=10\n",
      "likelihood ratio test: chi2=24.0129 , p=0.0076  , df=10\n",
      "parameter F test:         F=2.1100  , p=0.0350  , df_denom=69, df_num=10\n",
      "\n",
      "Granger Causality\n",
      "number of lags (no zero) 10\n",
      "ssr based F test:         F=1.3835  , p=0.2064  , df_denom=69, df_num=10\n",
      "ssr based chi2 test:   chi2=18.0459 , p=0.0542  , df=10\n",
      "likelihood ratio test: chi2=16.4471 , p=0.0875  , df=10\n",
      "parameter F test:         F=1.3835  , p=0.2064  , df_denom=69, df_num=10\n",
      "\n",
      "Granger Causality\n",
      "number of lags (no zero) 10\n",
      "ssr based F test:         F=1.0372  , p=0.4224  , df_denom=69, df_num=10\n",
      "ssr based chi2 test:   chi2=13.5289 , p=0.1956  , df=10\n",
      "likelihood ratio test: chi2=12.6037 , p=0.2467  , df=10\n",
      "parameter F test:         F=1.0372  , p=0.4224  , df_denom=69, df_num=10\n",
      "\n",
      "Granger Causality\n",
      "number of lags (no zero) 10\n",
      "ssr based F test:         F=0.6803  , p=0.7390  , df_denom=69, df_num=10\n",
      "ssr based chi2 test:   chi2=8.8733  , p=0.5442  , df=10\n",
      "likelihood ratio test: chi2=8.4627  , p=0.5837  , df=10\n",
      "parameter F test:         F=0.6803  , p=0.7390  , df_denom=69, df_num=10\n",
      "\n",
      "Granger Causality\n",
      "number of lags (no zero) 10\n",
      "ssr based F test:         F=2.4367  , p=0.0150  , df_denom=69, df_num=10\n",
      "ssr based chi2 test:   chi2=31.7828 , p=0.0004  , df=10\n",
      "likelihood ratio test: chi2=27.2187 , p=0.0024  , df=10\n",
      "parameter F test:         F=2.4367  , p=0.0150  , df_denom=69, df_num=10\n",
      "\n",
      "Granger Causality\n",
      "number of lags (no zero) 10\n",
      "ssr based F test:         F=0.8352  , p=0.5966  , df_denom=69, df_num=10\n",
      "ssr based chi2 test:   chi2=10.8942 , p=0.3658  , df=10\n",
      "likelihood ratio test: chi2=10.2836 , p=0.4160  , df=10\n",
      "parameter F test:         F=0.8352  , p=0.5966  , df_denom=69, df_num=10\n",
      "\n",
      "Granger Causality\n",
      "number of lags (no zero) 10\n",
      "ssr based F test:         F=1.2015  , p=0.3055  , df_denom=69, df_num=10\n",
      "ssr based chi2 test:   chi2=15.6723 , p=0.1094  , df=10\n",
      "likelihood ratio test: chi2=14.4480 , p=0.1535  , df=10\n",
      "parameter F test:         F=1.2015  , p=0.3055  , df_denom=69, df_num=10\n",
      "300\n",
      "\n"
     ]
    },
    {
     "data": {
      "application/vnd.vega.v5+json": {
       "$schema": "https://vega.github.io/schema/vega/v5.json",
       "axes": [
        {
         "name": "x_axis",
         "orient": "bottom",
         "scale": "xscale",
         "zindex": 100
        },
        {
         "name": "y_axis",
         "orient": "left",
         "scale": "yscale",
         "zindex": 100
        }
       ],
       "background": "white",
       "data": [
        {
         "name": "distributions",
         "transform": [
          {
           "sort": {
            "field": [
             "trajectory",
             "timepoint"
            ]
           },
           "type": "collect"
          }
         ],
         "values": [
          {
           "lower": 0,
           "timepoint": 0,
           "trajectory": "Example",
           "upper": 0
          },
          {
           "lower": -1,
           "timepoint": 1,
           "trajectory": "Example",
           "upper": 1
          },
          {
           "lower": -2,
           "timepoint": 2,
           "trajectory": "Example",
           "upper": 2
          },
          {
           "lower": -3,
           "timepoint": 3,
           "trajectory": "Example",
           "upper": 3
          },
          {
           "lower": -4,
           "timepoint": 4,
           "trajectory": "Example",
           "upper": 4
          },
          {
           "lower": -3.099999999999998,
           "timepoint": 5,
           "trajectory": "Example",
           "upper": 3
          },
          {
           "lower": -4,
           "timepoint": 6,
           "trajectory": "Example",
           "upper": 4
          },
          {
           "lower": -5,
           "timepoint": 7,
           "trajectory": "Example",
           "upper": 3.1000000000000227
          },
          {
           "lower": -4,
           "timepoint": 8,
           "trajectory": "Example",
           "upper": 4
          },
          {
           "lower": -5,
           "timepoint": 9,
           "trajectory": "Example",
           "upper": 5
          },
          {
           "lower": -4,
           "timepoint": 10,
           "trajectory": "Example",
           "upper": 6
          },
          {
           "lower": -5,
           "timepoint": 11,
           "trajectory": "Example",
           "upper": 5
          },
          {
           "lower": -6,
           "timepoint": 12,
           "trajectory": "Example",
           "upper": 6
          },
          {
           "lower": -5,
           "timepoint": 13,
           "trajectory": "Example",
           "upper": 5
          },
          {
           "lower": -6,
           "timepoint": 14,
           "trajectory": "Example",
           "upper": 6
          },
          {
           "lower": -7,
           "timepoint": 15,
           "trajectory": "Example",
           "upper": 7
          },
          {
           "lower": -6,
           "timepoint": 16,
           "trajectory": "Example",
           "upper": 8
          },
          {
           "lower": -7,
           "timepoint": 17,
           "trajectory": "Example",
           "upper": 7.100000000000023
          },
          {
           "lower": -6,
           "timepoint": 18,
           "trajectory": "Example",
           "upper": 8
          },
          {
           "lower": -7,
           "timepoint": 19,
           "trajectory": "Example",
           "upper": 7
          },
          {
           "lower": -6.099999999999998,
           "timepoint": 20,
           "trajectory": "Example",
           "upper": 8
          },
          {
           "lower": -7,
           "timepoint": 21,
           "trajectory": "Example",
           "upper": 7
          },
          {
           "lower": -6,
           "timepoint": 22,
           "trajectory": "Example",
           "upper": 8
          },
          {
           "lower": -7,
           "timepoint": 23,
           "trajectory": "Example",
           "upper": 7
          },
          {
           "lower": -6.099999999999998,
           "timepoint": 24,
           "trajectory": "Example",
           "upper": 8
          },
          {
           "lower": -7,
           "timepoint": 25,
           "trajectory": "Example",
           "upper": 9
          },
          {
           "lower": -8,
           "timepoint": 26,
           "trajectory": "Example",
           "upper": 8
          },
          {
           "lower": -7,
           "timepoint": 27,
           "trajectory": "Example",
           "upper": 9
          },
          {
           "lower": -8,
           "timepoint": 28,
           "trajectory": "Example",
           "upper": 8
          },
          {
           "lower": -7,
           "timepoint": 29,
           "trajectory": "Example",
           "upper": 9
          },
          {
           "lower": -8,
           "timepoint": 30,
           "trajectory": "Example",
           "upper": 8.100000000000023
          },
          {
           "lower": -9,
           "timepoint": 31,
           "trajectory": "Example",
           "upper": 9
          },
          {
           "lower": -8.099999999999998,
           "timepoint": 32,
           "trajectory": "Example",
           "upper": 10
          },
          {
           "lower": -9,
           "timepoint": 33,
           "trajectory": "Example",
           "upper": 9
          },
          {
           "lower": -8.099999999999998,
           "timepoint": 34,
           "trajectory": "Example",
           "upper": 10
          },
          {
           "lower": -9,
           "timepoint": 35,
           "trajectory": "Example",
           "upper": 11
          },
          {
           "lower": -10,
           "timepoint": 36,
           "trajectory": "Example",
           "upper": 10
          },
          {
           "lower": -9,
           "timepoint": 37,
           "trajectory": "Example",
           "upper": 11
          },
          {
           "lower": -10,
           "timepoint": 38,
           "trajectory": "Example",
           "upper": 10
          },
          {
           "lower": -11,
           "timepoint": 39,
           "trajectory": "Example",
           "upper": 11
          },
          {
           "lower": -10,
           "timepoint": 40,
           "trajectory": "Example",
           "upper": 10.100000000000023
          },
          {
           "lower": -11,
           "timepoint": 41,
           "trajectory": "Example",
           "upper": 11
          },
          {
           "lower": -10,
           "timepoint": 42,
           "trajectory": "Example",
           "upper": 10.100000000000023
          },
          {
           "lower": -11,
           "timepoint": 43,
           "trajectory": "Example",
           "upper": 11
          },
          {
           "lower": -10.099999999999998,
           "timepoint": 44,
           "trajectory": "Example",
           "upper": 10.100000000000023
          },
          {
           "lower": -11,
           "timepoint": 45,
           "trajectory": "Example",
           "upper": 11
          },
          {
           "lower": -10.099999999999998,
           "timepoint": 46,
           "trajectory": "Example",
           "upper": 10.100000000000023
          },
          {
           "lower": -11,
           "timepoint": 47,
           "trajectory": "Example",
           "upper": 11
          },
          {
           "lower": -10,
           "timepoint": 48,
           "trajectory": "Example",
           "upper": 10
          },
          {
           "lower": -11,
           "timepoint": 49,
           "trajectory": "Example",
           "upper": 11
          },
          {
           "lower": -12,
           "timepoint": 50,
           "trajectory": "Example",
           "upper": 12
          },
          {
           "lower": -11,
           "timepoint": 51,
           "trajectory": "Example",
           "upper": 11
          },
          {
           "lower": -12,
           "timepoint": 52,
           "trajectory": "Example",
           "upper": 10.100000000000023
          },
          {
           "lower": -11,
           "timepoint": 53,
           "trajectory": "Example",
           "upper": 11
          },
          {
           "lower": -12,
           "timepoint": 54,
           "trajectory": "Example",
           "upper": 10
          },
          {
           "lower": -13,
           "timepoint": 55,
           "trajectory": "Example",
           "upper": 11
          },
          {
           "lower": -12,
           "timepoint": 56,
           "trajectory": "Example",
           "upper": 12
          },
          {
           "lower": -13,
           "timepoint": 57,
           "trajectory": "Example",
           "upper": 11
          },
          {
           "lower": -12,
           "timepoint": 58,
           "trajectory": "Example",
           "upper": 12
          },
          {
           "lower": -13,
           "timepoint": 59,
           "trajectory": "Example",
           "upper": 13
          },
          {
           "lower": -12,
           "timepoint": 60,
           "trajectory": "Example",
           "upper": 12
          },
          {
           "lower": -13,
           "timepoint": 61,
           "trajectory": "Example",
           "upper": 13
          },
          {
           "lower": -12.099999999999998,
           "timepoint": 62,
           "trajectory": "Example",
           "upper": 12
          },
          {
           "lower": -13,
           "timepoint": 63,
           "trajectory": "Example",
           "upper": 13
          },
          {
           "lower": -12,
           "timepoint": 64,
           "trajectory": "Example",
           "upper": 14
          },
          {
           "lower": -11.099999999999998,
           "timepoint": 65,
           "trajectory": "Example",
           "upper": 13
          },
          {
           "lower": -12.099999999999998,
           "timepoint": 66,
           "trajectory": "Example",
           "upper": 14
          },
          {
           "lower": -13,
           "timepoint": 67,
           "trajectory": "Example",
           "upper": 13
          },
          {
           "lower": -12,
           "timepoint": 68,
           "trajectory": "Example",
           "upper": 14
          },
          {
           "lower": -13,
           "timepoint": 69,
           "trajectory": "Example",
           "upper": 13
          },
          {
           "lower": -14,
           "timepoint": 70,
           "trajectory": "Example",
           "upper": 14
          },
          {
           "lower": -13.099999999999998,
           "timepoint": 71,
           "trajectory": "Example",
           "upper": 13
          },
          {
           "lower": -14,
           "timepoint": 72,
           "trajectory": "Example",
           "upper": 12
          },
          {
           "lower": -15,
           "timepoint": 73,
           "trajectory": "Example",
           "upper": 13
          },
          {
           "lower": -14,
           "timepoint": 74,
           "trajectory": "Example",
           "upper": 12
          },
          {
           "lower": -13,
           "timepoint": 75,
           "trajectory": "Example",
           "upper": 13
          },
          {
           "lower": -14,
           "timepoint": 76,
           "trajectory": "Example",
           "upper": 14
          },
          {
           "lower": -13.099999999999998,
           "timepoint": 77,
           "trajectory": "Example",
           "upper": 13
          },
          {
           "lower": -14,
           "timepoint": 78,
           "trajectory": "Example",
           "upper": 14
          },
          {
           "lower": -15,
           "timepoint": 79,
           "trajectory": "Example",
           "upper": 13
          },
          {
           "lower": -14,
           "timepoint": 80,
           "trajectory": "Example",
           "upper": 14
          },
          {
           "lower": -13,
           "timepoint": 81,
           "trajectory": "Example",
           "upper": 13
          },
          {
           "lower": -14,
           "timepoint": 82,
           "trajectory": "Example",
           "upper": 14
          },
          {
           "lower": -15,
           "timepoint": 83,
           "trajectory": "Example",
           "upper": 13.100000000000023
          },
          {
           "lower": -14,
           "timepoint": 84,
           "trajectory": "Example",
           "upper": 14
          },
          {
           "lower": -15,
           "timepoint": 85,
           "trajectory": "Example",
           "upper": 15
          },
          {
           "lower": -14.099999999999998,
           "timepoint": 86,
           "trajectory": "Example",
           "upper": 14
          },
          {
           "lower": -15,
           "timepoint": 87,
           "trajectory": "Example",
           "upper": 15
          },
          {
           "lower": -14.099999999999998,
           "timepoint": 88,
           "trajectory": "Example",
           "upper": 14
          },
          {
           "lower": -15,
           "timepoint": 89,
           "trajectory": "Example",
           "upper": 15
          },
          {
           "lower": -14.099999999999998,
           "timepoint": 90,
           "trajectory": "Example",
           "upper": 14.100000000000023
          },
          {
           "lower": -15,
           "timepoint": 91,
           "trajectory": "Example",
           "upper": 15
          },
          {
           "lower": -16,
           "timepoint": 92,
           "trajectory": "Example",
           "upper": 14
          },
          {
           "lower": -15.099999999999998,
           "timepoint": 93,
           "trajectory": "Example",
           "upper": 13
          },
          {
           "lower": -16,
           "timepoint": 94,
           "trajectory": "Example",
           "upper": 14
          },
          {
           "lower": -15.099999999999998,
           "timepoint": 95,
           "trajectory": "Example",
           "upper": 13.100000000000023
          },
          {
           "lower": -16,
           "timepoint": 96,
           "trajectory": "Example",
           "upper": 14
          },
          {
           "lower": -15.099999999999998,
           "timepoint": 97,
           "trajectory": "Example",
           "upper": 15
          },
          {
           "lower": -16,
           "timepoint": 98,
           "trajectory": "Example",
           "upper": 14.100000000000023
          },
          {
           "lower": -17,
           "timepoint": 99,
           "trajectory": "Example",
           "upper": 13.100000000000023
          }
         ]
        },
        {
         "name": "traces",
         "transform": [
          {
           "expr": "isValid(datum.value)",
           "type": "filter"
          },
          {
           "sort": {
            "field": [
             "trajectory",
             "timepoint"
            ]
           },
           "type": "collect"
          }
         ],
         "values": [
          {
           "color_by": "Envelope Mean",
           "sample_id": 0,
           "timepoint": 0,
           "trajectory": "Envelope_Mean",
           "value": 0
          },
          {
           "color_by": "Envelope Mean",
           "sample_id": 0,
           "timepoint": 1,
           "trajectory": "Envelope_Mean",
           "value": 0
          },
          {
           "color_by": "Envelope Mean",
           "sample_id": 0,
           "timepoint": 2,
           "trajectory": "Envelope_Mean",
           "value": 0
          },
          {
           "color_by": "Envelope Mean",
           "sample_id": 0,
           "timepoint": 3,
           "trajectory": "Envelope_Mean",
           "value": 0
          },
          {
           "color_by": "Envelope Mean",
           "sample_id": 0,
           "timepoint": 4,
           "trajectory": "Envelope_Mean",
           "value": 0
          },
          {
           "color_by": "Envelope Mean",
           "sample_id": 0,
           "timepoint": 5,
           "trajectory": "Envelope_Mean",
           "value": -0.049999999999998934
          },
          {
           "color_by": "Envelope Mean",
           "sample_id": 0,
           "timepoint": 6,
           "trajectory": "Envelope_Mean",
           "value": 0
          },
          {
           "color_by": "Envelope Mean",
           "sample_id": 0,
           "timepoint": 7,
           "trajectory": "Envelope_Mean",
           "value": -0.9499999999999886
          },
          {
           "color_by": "Envelope Mean",
           "sample_id": 0,
           "timepoint": 8,
           "trajectory": "Envelope_Mean",
           "value": 0
          },
          {
           "color_by": "Envelope Mean",
           "sample_id": 0,
           "timepoint": 9,
           "trajectory": "Envelope_Mean",
           "value": 0
          },
          {
           "color_by": "Envelope Mean",
           "sample_id": 0,
           "timepoint": 10,
           "trajectory": "Envelope_Mean",
           "value": 1
          },
          {
           "color_by": "Envelope Mean",
           "sample_id": 0,
           "timepoint": 11,
           "trajectory": "Envelope_Mean",
           "value": 0
          },
          {
           "color_by": "Envelope Mean",
           "sample_id": 0,
           "timepoint": 12,
           "trajectory": "Envelope_Mean",
           "value": 0
          },
          {
           "color_by": "Envelope Mean",
           "sample_id": 0,
           "timepoint": 13,
           "trajectory": "Envelope_Mean",
           "value": 0
          },
          {
           "color_by": "Envelope Mean",
           "sample_id": 0,
           "timepoint": 14,
           "trajectory": "Envelope_Mean",
           "value": 0
          },
          {
           "color_by": "Envelope Mean",
           "sample_id": 0,
           "timepoint": 15,
           "trajectory": "Envelope_Mean",
           "value": 0
          },
          {
           "color_by": "Envelope Mean",
           "sample_id": 0,
           "timepoint": 16,
           "trajectory": "Envelope_Mean",
           "value": 1
          },
          {
           "color_by": "Envelope Mean",
           "sample_id": 0,
           "timepoint": 17,
           "trajectory": "Envelope_Mean",
           "value": 0.05000000000001137
          },
          {
           "color_by": "Envelope Mean",
           "sample_id": 0,
           "timepoint": 18,
           "trajectory": "Envelope_Mean",
           "value": 1
          },
          {
           "color_by": "Envelope Mean",
           "sample_id": 0,
           "timepoint": 19,
           "trajectory": "Envelope_Mean",
           "value": 0
          },
          {
           "color_by": "Envelope Mean",
           "sample_id": 0,
           "timepoint": 20,
           "trajectory": "Envelope_Mean",
           "value": 0.9500000000000011
          },
          {
           "color_by": "Envelope Mean",
           "sample_id": 0,
           "timepoint": 21,
           "trajectory": "Envelope_Mean",
           "value": 0
          },
          {
           "color_by": "Envelope Mean",
           "sample_id": 0,
           "timepoint": 22,
           "trajectory": "Envelope_Mean",
           "value": 1
          },
          {
           "color_by": "Envelope Mean",
           "sample_id": 0,
           "timepoint": 23,
           "trajectory": "Envelope_Mean",
           "value": 0
          },
          {
           "color_by": "Envelope Mean",
           "sample_id": 0,
           "timepoint": 24,
           "trajectory": "Envelope_Mean",
           "value": 0.9500000000000011
          },
          {
           "color_by": "Envelope Mean",
           "sample_id": 0,
           "timepoint": 25,
           "trajectory": "Envelope_Mean",
           "value": 1
          },
          {
           "color_by": "Envelope Mean",
           "sample_id": 0,
           "timepoint": 26,
           "trajectory": "Envelope_Mean",
           "value": 0
          },
          {
           "color_by": "Envelope Mean",
           "sample_id": 0,
           "timepoint": 27,
           "trajectory": "Envelope_Mean",
           "value": 1
          },
          {
           "color_by": "Envelope Mean",
           "sample_id": 0,
           "timepoint": 28,
           "trajectory": "Envelope_Mean",
           "value": 0
          },
          {
           "color_by": "Envelope Mean",
           "sample_id": 0,
           "timepoint": 29,
           "trajectory": "Envelope_Mean",
           "value": 1
          },
          {
           "color_by": "Envelope Mean",
           "sample_id": 0,
           "timepoint": 30,
           "trajectory": "Envelope_Mean",
           "value": 0.05000000000001137
          },
          {
           "color_by": "Envelope Mean",
           "sample_id": 0,
           "timepoint": 31,
           "trajectory": "Envelope_Mean",
           "value": 0
          },
          {
           "color_by": "Envelope Mean",
           "sample_id": 0,
           "timepoint": 32,
           "trajectory": "Envelope_Mean",
           "value": 0.9500000000000011
          },
          {
           "color_by": "Envelope Mean",
           "sample_id": 0,
           "timepoint": 33,
           "trajectory": "Envelope_Mean",
           "value": 0
          },
          {
           "color_by": "Envelope Mean",
           "sample_id": 0,
           "timepoint": 34,
           "trajectory": "Envelope_Mean",
           "value": 0.9500000000000011
          },
          {
           "color_by": "Envelope Mean",
           "sample_id": 0,
           "timepoint": 35,
           "trajectory": "Envelope_Mean",
           "value": 1
          },
          {
           "color_by": "Envelope Mean",
           "sample_id": 0,
           "timepoint": 36,
           "trajectory": "Envelope_Mean",
           "value": 0
          },
          {
           "color_by": "Envelope Mean",
           "sample_id": 0,
           "timepoint": 37,
           "trajectory": "Envelope_Mean",
           "value": 1
          },
          {
           "color_by": "Envelope Mean",
           "sample_id": 0,
           "timepoint": 38,
           "trajectory": "Envelope_Mean",
           "value": 0
          },
          {
           "color_by": "Envelope Mean",
           "sample_id": 0,
           "timepoint": 39,
           "trajectory": "Envelope_Mean",
           "value": 0
          },
          {
           "color_by": "Envelope Mean",
           "sample_id": 0,
           "timepoint": 40,
           "trajectory": "Envelope_Mean",
           "value": 0.05000000000001137
          },
          {
           "color_by": "Envelope Mean",
           "sample_id": 0,
           "timepoint": 41,
           "trajectory": "Envelope_Mean",
           "value": 0
          },
          {
           "color_by": "Envelope Mean",
           "sample_id": 0,
           "timepoint": 42,
           "trajectory": "Envelope_Mean",
           "value": 0.05000000000001137
          },
          {
           "color_by": "Envelope Mean",
           "sample_id": 0,
           "timepoint": 43,
           "trajectory": "Envelope_Mean",
           "value": 0
          },
          {
           "color_by": "Envelope Mean",
           "sample_id": 0,
           "timepoint": 44,
           "trajectory": "Envelope_Mean",
           "value": 1.2434497875801753e-14
          },
          {
           "color_by": "Envelope Mean",
           "sample_id": 0,
           "timepoint": 45,
           "trajectory": "Envelope_Mean",
           "value": 0
          },
          {
           "color_by": "Envelope Mean",
           "sample_id": 0,
           "timepoint": 46,
           "trajectory": "Envelope_Mean",
           "value": 1.2434497875801753e-14
          },
          {
           "color_by": "Envelope Mean",
           "sample_id": 0,
           "timepoint": 47,
           "trajectory": "Envelope_Mean",
           "value": 0
          },
          {
           "color_by": "Envelope Mean",
           "sample_id": 0,
           "timepoint": 48,
           "trajectory": "Envelope_Mean",
           "value": 0
          },
          {
           "color_by": "Envelope Mean",
           "sample_id": 0,
           "timepoint": 49,
           "trajectory": "Envelope_Mean",
           "value": 0
          },
          {
           "color_by": "Envelope Mean",
           "sample_id": 0,
           "timepoint": 50,
           "trajectory": "Envelope_Mean",
           "value": 0
          },
          {
           "color_by": "Envelope Mean",
           "sample_id": 0,
           "timepoint": 51,
           "trajectory": "Envelope_Mean",
           "value": 0
          },
          {
           "color_by": "Envelope Mean",
           "sample_id": 0,
           "timepoint": 52,
           "trajectory": "Envelope_Mean",
           "value": -0.9499999999999886
          },
          {
           "color_by": "Envelope Mean",
           "sample_id": 0,
           "timepoint": 53,
           "trajectory": "Envelope_Mean",
           "value": 0
          },
          {
           "color_by": "Envelope Mean",
           "sample_id": 0,
           "timepoint": 54,
           "trajectory": "Envelope_Mean",
           "value": -1
          },
          {
           "color_by": "Envelope Mean",
           "sample_id": 0,
           "timepoint": 55,
           "trajectory": "Envelope_Mean",
           "value": -1
          },
          {
           "color_by": "Envelope Mean",
           "sample_id": 0,
           "timepoint": 56,
           "trajectory": "Envelope_Mean",
           "value": 0
          },
          {
           "color_by": "Envelope Mean",
           "sample_id": 0,
           "timepoint": 57,
           "trajectory": "Envelope_Mean",
           "value": -1
          },
          {
           "color_by": "Envelope Mean",
           "sample_id": 0,
           "timepoint": 58,
           "trajectory": "Envelope_Mean",
           "value": 0
          },
          {
           "color_by": "Envelope Mean",
           "sample_id": 0,
           "timepoint": 59,
           "trajectory": "Envelope_Mean",
           "value": 0
          },
          {
           "color_by": "Envelope Mean",
           "sample_id": 0,
           "timepoint": 60,
           "trajectory": "Envelope_Mean",
           "value": 0
          },
          {
           "color_by": "Envelope Mean",
           "sample_id": 0,
           "timepoint": 61,
           "trajectory": "Envelope_Mean",
           "value": 0
          },
          {
           "color_by": "Envelope Mean",
           "sample_id": 0,
           "timepoint": 62,
           "trajectory": "Envelope_Mean",
           "value": -0.049999999999998934
          },
          {
           "color_by": "Envelope Mean",
           "sample_id": 0,
           "timepoint": 63,
           "trajectory": "Envelope_Mean",
           "value": 0
          },
          {
           "color_by": "Envelope Mean",
           "sample_id": 0,
           "timepoint": 64,
           "trajectory": "Envelope_Mean",
           "value": 1
          },
          {
           "color_by": "Envelope Mean",
           "sample_id": 0,
           "timepoint": 65,
           "trajectory": "Envelope_Mean",
           "value": 0.9500000000000011
          },
          {
           "color_by": "Envelope Mean",
           "sample_id": 0,
           "timepoint": 66,
           "trajectory": "Envelope_Mean",
           "value": 0.9500000000000011
          },
          {
           "color_by": "Envelope Mean",
           "sample_id": 0,
           "timepoint": 67,
           "trajectory": "Envelope_Mean",
           "value": 0
          },
          {
           "color_by": "Envelope Mean",
           "sample_id": 0,
           "timepoint": 68,
           "trajectory": "Envelope_Mean",
           "value": 1
          },
          {
           "color_by": "Envelope Mean",
           "sample_id": 0,
           "timepoint": 69,
           "trajectory": "Envelope_Mean",
           "value": 0
          },
          {
           "color_by": "Envelope Mean",
           "sample_id": 0,
           "timepoint": 70,
           "trajectory": "Envelope_Mean",
           "value": 0
          },
          {
           "color_by": "Envelope Mean",
           "sample_id": 0,
           "timepoint": 71,
           "trajectory": "Envelope_Mean",
           "value": -0.049999999999998934
          },
          {
           "color_by": "Envelope Mean",
           "sample_id": 0,
           "timepoint": 72,
           "trajectory": "Envelope_Mean",
           "value": -1
          },
          {
           "color_by": "Envelope Mean",
           "sample_id": 0,
           "timepoint": 73,
           "trajectory": "Envelope_Mean",
           "value": -1
          },
          {
           "color_by": "Envelope Mean",
           "sample_id": 0,
           "timepoint": 74,
           "trajectory": "Envelope_Mean",
           "value": -1
          },
          {
           "color_by": "Envelope Mean",
           "sample_id": 0,
           "timepoint": 75,
           "trajectory": "Envelope_Mean",
           "value": 0
          },
          {
           "color_by": "Envelope Mean",
           "sample_id": 0,
           "timepoint": 76,
           "trajectory": "Envelope_Mean",
           "value": 0
          },
          {
           "color_by": "Envelope Mean",
           "sample_id": 0,
           "timepoint": 77,
           "trajectory": "Envelope_Mean",
           "value": -0.049999999999998934
          },
          {
           "color_by": "Envelope Mean",
           "sample_id": 0,
           "timepoint": 78,
           "trajectory": "Envelope_Mean",
           "value": 0
          },
          {
           "color_by": "Envelope Mean",
           "sample_id": 0,
           "timepoint": 79,
           "trajectory": "Envelope_Mean",
           "value": -1
          },
          {
           "color_by": "Envelope Mean",
           "sample_id": 0,
           "timepoint": 80,
           "trajectory": "Envelope_Mean",
           "value": 0
          },
          {
           "color_by": "Envelope Mean",
           "sample_id": 0,
           "timepoint": 81,
           "trajectory": "Envelope_Mean",
           "value": 0
          },
          {
           "color_by": "Envelope Mean",
           "sample_id": 0,
           "timepoint": 82,
           "trajectory": "Envelope_Mean",
           "value": 0
          },
          {
           "color_by": "Envelope Mean",
           "sample_id": 0,
           "timepoint": 83,
           "trajectory": "Envelope_Mean",
           "value": -0.9499999999999886
          },
          {
           "color_by": "Envelope Mean",
           "sample_id": 0,
           "timepoint": 84,
           "trajectory": "Envelope_Mean",
           "value": 0
          },
          {
           "color_by": "Envelope Mean",
           "sample_id": 0,
           "timepoint": 85,
           "trajectory": "Envelope_Mean",
           "value": 0
          },
          {
           "color_by": "Envelope Mean",
           "sample_id": 0,
           "timepoint": 86,
           "trajectory": "Envelope_Mean",
           "value": -0.049999999999998934
          },
          {
           "color_by": "Envelope Mean",
           "sample_id": 0,
           "timepoint": 87,
           "trajectory": "Envelope_Mean",
           "value": 0
          },
          {
           "color_by": "Envelope Mean",
           "sample_id": 0,
           "timepoint": 88,
           "trajectory": "Envelope_Mean",
           "value": -0.049999999999998934
          },
          {
           "color_by": "Envelope Mean",
           "sample_id": 0,
           "timepoint": 89,
           "trajectory": "Envelope_Mean",
           "value": 0
          },
          {
           "color_by": "Envelope Mean",
           "sample_id": 0,
           "timepoint": 90,
           "trajectory": "Envelope_Mean",
           "value": 1.2434497875801753e-14
          },
          {
           "color_by": "Envelope Mean",
           "sample_id": 0,
           "timepoint": 91,
           "trajectory": "Envelope_Mean",
           "value": 0
          },
          {
           "color_by": "Envelope Mean",
           "sample_id": 0,
           "timepoint": 92,
           "trajectory": "Envelope_Mean",
           "value": -1
          },
          {
           "color_by": "Envelope Mean",
           "sample_id": 0,
           "timepoint": 93,
           "trajectory": "Envelope_Mean",
           "value": -1.049999999999999
          },
          {
           "color_by": "Envelope Mean",
           "sample_id": 0,
           "timepoint": 94,
           "trajectory": "Envelope_Mean",
           "value": -1
          },
          {
           "color_by": "Envelope Mean",
           "sample_id": 0,
           "timepoint": 95,
           "trajectory": "Envelope_Mean",
           "value": -0.9999999999999876
          },
          {
           "color_by": "Envelope Mean",
           "sample_id": 0,
           "timepoint": 96,
           "trajectory": "Envelope_Mean",
           "value": -1
          },
          {
           "color_by": "Envelope Mean",
           "sample_id": 0,
           "timepoint": 97,
           "trajectory": "Envelope_Mean",
           "value": -0.049999999999998934
          },
          {
           "color_by": "Envelope Mean",
           "sample_id": 0,
           "timepoint": 98,
           "trajectory": "Envelope_Mean",
           "value": -0.9499999999999886
          },
          {
           "color_by": "Envelope Mean",
           "sample_id": 0,
           "timepoint": 99,
           "trajectory": "Envelope_Mean",
           "value": -1.9499999999999886
          },
          {
           "color_by": "Chaos",
           "sample_id": 0,
           "timepoint": 0,
           "trajectory": "Chaos",
           "value": 0
          },
          {
           "color_by": "Chaos",
           "sample_id": 0,
           "timepoint": 1,
           "trajectory": "Chaos",
           "value": -1
          },
          {
           "color_by": "Chaos",
           "sample_id": 0,
           "timepoint": 2,
           "trajectory": "Chaos",
           "value": -2
          },
          {
           "color_by": "Chaos",
           "sample_id": 0,
           "timepoint": 3,
           "trajectory": "Chaos",
           "value": -3
          },
          {
           "color_by": "Chaos",
           "sample_id": 0,
           "timepoint": 4,
           "trajectory": "Chaos",
           "value": -2
          },
          {
           "color_by": "Chaos",
           "sample_id": 0,
           "timepoint": 5,
           "trajectory": "Chaos",
           "value": -1
          },
          {
           "color_by": "Chaos",
           "sample_id": 0,
           "timepoint": 6,
           "trajectory": "Chaos",
           "value": 0
          },
          {
           "color_by": "Chaos",
           "sample_id": 0,
           "timepoint": 7,
           "trajectory": "Chaos",
           "value": -1
          },
          {
           "color_by": "Chaos",
           "sample_id": 0,
           "timepoint": 8,
           "trajectory": "Chaos",
           "value": 0
          },
          {
           "color_by": "Chaos",
           "sample_id": 0,
           "timepoint": 9,
           "trajectory": "Chaos",
           "value": -1
          },
          {
           "color_by": "Chaos",
           "sample_id": 0,
           "timepoint": 10,
           "trajectory": "Chaos",
           "value": 0
          },
          {
           "color_by": "Chaos",
           "sample_id": 0,
           "timepoint": 11,
           "trajectory": "Chaos",
           "value": 1
          },
          {
           "color_by": "Chaos",
           "sample_id": 0,
           "timepoint": 12,
           "trajectory": "Chaos",
           "value": 0
          },
          {
           "color_by": "Chaos",
           "sample_id": 0,
           "timepoint": 13,
           "trajectory": "Chaos",
           "value": 1
          },
          {
           "color_by": "Chaos",
           "sample_id": 0,
           "timepoint": 14,
           "trajectory": "Chaos",
           "value": 0
          },
          {
           "color_by": "Chaos",
           "sample_id": 0,
           "timepoint": 15,
           "trajectory": "Chaos",
           "value": -1
          },
          {
           "color_by": "Chaos",
           "sample_id": 0,
           "timepoint": 16,
           "trajectory": "Chaos",
           "value": 0
          },
          {
           "color_by": "Chaos",
           "sample_id": 0,
           "timepoint": 17,
           "trajectory": "Chaos",
           "value": 1
          },
          {
           "color_by": "Chaos",
           "sample_id": 0,
           "timepoint": 18,
           "trajectory": "Chaos",
           "value": 0
          },
          {
           "color_by": "Chaos",
           "sample_id": 0,
           "timepoint": 19,
           "trajectory": "Chaos",
           "value": -1
          },
          {
           "color_by": "Chaos",
           "sample_id": 0,
           "timepoint": 20,
           "trajectory": "Chaos",
           "value": 0
          },
          {
           "color_by": "Chaos",
           "sample_id": 0,
           "timepoint": 21,
           "trajectory": "Chaos",
           "value": -1
          },
          {
           "color_by": "Chaos",
           "sample_id": 0,
           "timepoint": 22,
           "trajectory": "Chaos",
           "value": 0
          },
          {
           "color_by": "Chaos",
           "sample_id": 0,
           "timepoint": 23,
           "trajectory": "Chaos",
           "value": -1
          },
          {
           "color_by": "Chaos",
           "sample_id": 0,
           "timepoint": 24,
           "trajectory": "Chaos",
           "value": -2
          },
          {
           "color_by": "Chaos",
           "sample_id": 0,
           "timepoint": 25,
           "trajectory": "Chaos",
           "value": -1
          },
          {
           "color_by": "Chaos",
           "sample_id": 0,
           "timepoint": 26,
           "trajectory": "Chaos",
           "value": -2
          },
          {
           "color_by": "Chaos",
           "sample_id": 0,
           "timepoint": 27,
           "trajectory": "Chaos",
           "value": -3
          },
          {
           "color_by": "Chaos",
           "sample_id": 0,
           "timepoint": 28,
           "trajectory": "Chaos",
           "value": -4
          },
          {
           "color_by": "Chaos",
           "sample_id": 0,
           "timepoint": 29,
           "trajectory": "Chaos",
           "value": -5
          },
          {
           "color_by": "Chaos",
           "sample_id": 0,
           "timepoint": 30,
           "trajectory": "Chaos",
           "value": -4
          },
          {
           "color_by": "Chaos",
           "sample_id": 0,
           "timepoint": 31,
           "trajectory": "Chaos",
           "value": -5
          },
          {
           "color_by": "Chaos",
           "sample_id": 0,
           "timepoint": 32,
           "trajectory": "Chaos",
           "value": -4
          },
          {
           "color_by": "Chaos",
           "sample_id": 0,
           "timepoint": 33,
           "trajectory": "Chaos",
           "value": -3
          },
          {
           "color_by": "Chaos",
           "sample_id": 0,
           "timepoint": 34,
           "trajectory": "Chaos",
           "value": -2
          },
          {
           "color_by": "Chaos",
           "sample_id": 0,
           "timepoint": 35,
           "trajectory": "Chaos",
           "value": -1
          },
          {
           "color_by": "Chaos",
           "sample_id": 0,
           "timepoint": 36,
           "trajectory": "Chaos",
           "value": -2
          },
          {
           "color_by": "Chaos",
           "sample_id": 0,
           "timepoint": 37,
           "trajectory": "Chaos",
           "value": -1
          },
          {
           "color_by": "Chaos",
           "sample_id": 0,
           "timepoint": 38,
           "trajectory": "Chaos",
           "value": 0
          },
          {
           "color_by": "Chaos",
           "sample_id": 0,
           "timepoint": 39,
           "trajectory": "Chaos",
           "value": -1
          },
          {
           "color_by": "Chaos",
           "sample_id": 0,
           "timepoint": 40,
           "trajectory": "Chaos",
           "value": -2
          },
          {
           "color_by": "Chaos",
           "sample_id": 0,
           "timepoint": 41,
           "trajectory": "Chaos",
           "value": -3
          },
          {
           "color_by": "Chaos",
           "sample_id": 0,
           "timepoint": 42,
           "trajectory": "Chaos",
           "value": -2
          },
          {
           "color_by": "Chaos",
           "sample_id": 0,
           "timepoint": 43,
           "trajectory": "Chaos",
           "value": -1
          },
          {
           "color_by": "Chaos",
           "sample_id": 0,
           "timepoint": 44,
           "trajectory": "Chaos",
           "value": -2
          },
          {
           "color_by": "Chaos",
           "sample_id": 0,
           "timepoint": 45,
           "trajectory": "Chaos",
           "value": -1
          },
          {
           "color_by": "Chaos",
           "sample_id": 0,
           "timepoint": 46,
           "trajectory": "Chaos",
           "value": 0
          },
          {
           "color_by": "Chaos",
           "sample_id": 0,
           "timepoint": 47,
           "trajectory": "Chaos",
           "value": -1
          },
          {
           "color_by": "Chaos",
           "sample_id": 0,
           "timepoint": 48,
           "trajectory": "Chaos",
           "value": -2
          },
          {
           "color_by": "Chaos",
           "sample_id": 0,
           "timepoint": 49,
           "trajectory": "Chaos",
           "value": -1
          },
          {
           "color_by": "Chaos",
           "sample_id": 0,
           "timepoint": 50,
           "trajectory": "Chaos",
           "value": -2
          },
          {
           "color_by": "Chaos",
           "sample_id": 0,
           "timepoint": 51,
           "trajectory": "Chaos",
           "value": -1
          },
          {
           "color_by": "Chaos",
           "sample_id": 0,
           "timepoint": 52,
           "trajectory": "Chaos",
           "value": 0
          },
          {
           "color_by": "Chaos",
           "sample_id": 0,
           "timepoint": 53,
           "trajectory": "Chaos",
           "value": 1
          },
          {
           "color_by": "Chaos",
           "sample_id": 0,
           "timepoint": 54,
           "trajectory": "Chaos",
           "value": 2
          },
          {
           "color_by": "Chaos",
           "sample_id": 0,
           "timepoint": 55,
           "trajectory": "Chaos",
           "value": 1
          },
          {
           "color_by": "Chaos",
           "sample_id": 0,
           "timepoint": 56,
           "trajectory": "Chaos",
           "value": 2
          },
          {
           "color_by": "Chaos",
           "sample_id": 0,
           "timepoint": 57,
           "trajectory": "Chaos",
           "value": 1
          },
          {
           "color_by": "Chaos",
           "sample_id": 0,
           "timepoint": 58,
           "trajectory": "Chaos",
           "value": 0
          },
          {
           "color_by": "Chaos",
           "sample_id": 0,
           "timepoint": 59,
           "trajectory": "Chaos",
           "value": -1
          },
          {
           "color_by": "Chaos",
           "sample_id": 0,
           "timepoint": 60,
           "trajectory": "Chaos",
           "value": 0
          },
          {
           "color_by": "Chaos",
           "sample_id": 0,
           "timepoint": 61,
           "trajectory": "Chaos",
           "value": 1
          },
          {
           "color_by": "Chaos",
           "sample_id": 0,
           "timepoint": 62,
           "trajectory": "Chaos",
           "value": 0
          },
          {
           "color_by": "Chaos",
           "sample_id": 0,
           "timepoint": 63,
           "trajectory": "Chaos",
           "value": -1
          },
          {
           "color_by": "Chaos",
           "sample_id": 0,
           "timepoint": 64,
           "trajectory": "Chaos",
           "value": 0
          },
          {
           "color_by": "Chaos",
           "sample_id": 0,
           "timepoint": 65,
           "trajectory": "Chaos",
           "value": -1
          },
          {
           "color_by": "Chaos",
           "sample_id": 0,
           "timepoint": 66,
           "trajectory": "Chaos",
           "value": -2
          },
          {
           "color_by": "Chaos",
           "sample_id": 0,
           "timepoint": 67,
           "trajectory": "Chaos",
           "value": -3
          },
          {
           "color_by": "Chaos",
           "sample_id": 0,
           "timepoint": 68,
           "trajectory": "Chaos",
           "value": -4
          },
          {
           "color_by": "Chaos",
           "sample_id": 0,
           "timepoint": 69,
           "trajectory": "Chaos",
           "value": -3
          },
          {
           "color_by": "Chaos",
           "sample_id": 0,
           "timepoint": 70,
           "trajectory": "Chaos",
           "value": -2
          },
          {
           "color_by": "Chaos",
           "sample_id": 0,
           "timepoint": 71,
           "trajectory": "Chaos",
           "value": -1
          },
          {
           "color_by": "Chaos",
           "sample_id": 0,
           "timepoint": 72,
           "trajectory": "Chaos",
           "value": -2
          },
          {
           "color_by": "Chaos",
           "sample_id": 0,
           "timepoint": 73,
           "trajectory": "Chaos",
           "value": -3
          },
          {
           "color_by": "Chaos",
           "sample_id": 0,
           "timepoint": 74,
           "trajectory": "Chaos",
           "value": -4
          },
          {
           "color_by": "Chaos",
           "sample_id": 0,
           "timepoint": 75,
           "trajectory": "Chaos",
           "value": -3
          },
          {
           "color_by": "Chaos",
           "sample_id": 0,
           "timepoint": 76,
           "trajectory": "Chaos",
           "value": -4
          },
          {
           "color_by": "Chaos",
           "sample_id": 0,
           "timepoint": 77,
           "trajectory": "Chaos",
           "value": -3
          },
          {
           "color_by": "Chaos",
           "sample_id": 0,
           "timepoint": 78,
           "trajectory": "Chaos",
           "value": -4
          },
          {
           "color_by": "Chaos",
           "sample_id": 0,
           "timepoint": 79,
           "trajectory": "Chaos",
           "value": -3
          },
          {
           "color_by": "Chaos",
           "sample_id": 0,
           "timepoint": 80,
           "trajectory": "Chaos",
           "value": -4
          },
          {
           "color_by": "Chaos",
           "sample_id": 0,
           "timepoint": 81,
           "trajectory": "Chaos",
           "value": -3
          },
          {
           "color_by": "Chaos",
           "sample_id": 0,
           "timepoint": 82,
           "trajectory": "Chaos",
           "value": -2
          },
          {
           "color_by": "Chaos",
           "sample_id": 0,
           "timepoint": 83,
           "trajectory": "Chaos",
           "value": -3
          },
          {
           "color_by": "Chaos",
           "sample_id": 0,
           "timepoint": 84,
           "trajectory": "Chaos",
           "value": -2
          },
          {
           "color_by": "Chaos",
           "sample_id": 0,
           "timepoint": 85,
           "trajectory": "Chaos",
           "value": -3
          },
          {
           "color_by": "Chaos",
           "sample_id": 0,
           "timepoint": 86,
           "trajectory": "Chaos",
           "value": -2
          },
          {
           "color_by": "Chaos",
           "sample_id": 0,
           "timepoint": 87,
           "trajectory": "Chaos",
           "value": -1
          },
          {
           "color_by": "Chaos",
           "sample_id": 0,
           "timepoint": 88,
           "trajectory": "Chaos",
           "value": 0
          },
          {
           "color_by": "Chaos",
           "sample_id": 0,
           "timepoint": 89,
           "trajectory": "Chaos",
           "value": -1
          },
          {
           "color_by": "Chaos",
           "sample_id": 0,
           "timepoint": 90,
           "trajectory": "Chaos",
           "value": -2
          },
          {
           "color_by": "Chaos",
           "sample_id": 0,
           "timepoint": 91,
           "trajectory": "Chaos",
           "value": -1
          },
          {
           "color_by": "Chaos",
           "sample_id": 0,
           "timepoint": 92,
           "trajectory": "Chaos",
           "value": 0
          },
          {
           "color_by": "Chaos",
           "sample_id": 0,
           "timepoint": 93,
           "trajectory": "Chaos",
           "value": 1
          },
          {
           "color_by": "Chaos",
           "sample_id": 0,
           "timepoint": 94,
           "trajectory": "Chaos",
           "value": 2
          },
          {
           "color_by": "Chaos",
           "sample_id": 0,
           "timepoint": 95,
           "trajectory": "Chaos",
           "value": 3
          },
          {
           "color_by": "Chaos",
           "sample_id": 0,
           "timepoint": 96,
           "trajectory": "Chaos",
           "value": 2
          },
          {
           "color_by": "Chaos",
           "sample_id": 0,
           "timepoint": 97,
           "trajectory": "Chaos",
           "value": 1
          },
          {
           "color_by": "Chaos",
           "sample_id": 0,
           "timepoint": 98,
           "trajectory": "Chaos",
           "value": 2
          },
          {
           "color_by": "Chaos",
           "sample_id": 0,
           "timepoint": 99,
           "trajectory": "Chaos",
           "value": 3
          },
          {
           "color_by": "Granger",
           "sample_id": 0,
           "timepoint": 0,
           "trajectory": "Granger",
           "value": 0
          },
          {
           "color_by": "Granger",
           "sample_id": 0,
           "timepoint": 1,
           "trajectory": "Granger",
           "value": 1
          },
          {
           "color_by": "Granger",
           "sample_id": 0,
           "timepoint": 2,
           "trajectory": "Granger",
           "value": 0
          },
          {
           "color_by": "Granger",
           "sample_id": 0,
           "timepoint": 3,
           "trajectory": "Granger",
           "value": -1
          },
          {
           "color_by": "Granger",
           "sample_id": 0,
           "timepoint": 4,
           "trajectory": "Granger",
           "value": 0
          },
          {
           "color_by": "Granger",
           "sample_id": 0,
           "timepoint": 5,
           "trajectory": "Granger",
           "value": 1
          },
          {
           "color_by": "Granger",
           "sample_id": 0,
           "timepoint": 6,
           "trajectory": "Granger",
           "value": 2
          },
          {
           "color_by": "Granger",
           "sample_id": 0,
           "timepoint": 7,
           "trajectory": "Granger",
           "value": 3
          },
          {
           "color_by": "Granger",
           "sample_id": 0,
           "timepoint": 8,
           "trajectory": "Granger",
           "value": 2
          },
          {
           "color_by": "Granger",
           "sample_id": 0,
           "timepoint": 9,
           "trajectory": "Granger",
           "value": 1
          },
          {
           "color_by": "Granger",
           "sample_id": 0,
           "timepoint": 10,
           "trajectory": "Granger",
           "value": 2
          },
          {
           "color_by": "Granger",
           "sample_id": 0,
           "timepoint": 11,
           "trajectory": "Granger",
           "value": 3
          },
          {
           "color_by": "Granger",
           "sample_id": 0,
           "timepoint": 12,
           "trajectory": "Granger",
           "value": 4
          },
          {
           "color_by": "Granger",
           "sample_id": 0,
           "timepoint": 13,
           "trajectory": "Granger",
           "value": 3
          },
          {
           "color_by": "Granger",
           "sample_id": 0,
           "timepoint": 14,
           "trajectory": "Granger",
           "value": 4
          },
          {
           "color_by": "Granger",
           "sample_id": 0,
           "timepoint": 15,
           "trajectory": "Granger",
           "value": 5
          },
          {
           "color_by": "Granger",
           "sample_id": 0,
           "timepoint": 16,
           "trajectory": "Granger",
           "value": 4
          },
          {
           "color_by": "Granger",
           "sample_id": 0,
           "timepoint": 17,
           "trajectory": "Granger",
           "value": 3
          },
          {
           "color_by": "Granger",
           "sample_id": 0,
           "timepoint": 18,
           "trajectory": "Granger",
           "value": 2
          },
          {
           "color_by": "Granger",
           "sample_id": 0,
           "timepoint": 19,
           "trajectory": "Granger",
           "value": 3
          },
          {
           "color_by": "Granger",
           "sample_id": 0,
           "timepoint": 20,
           "trajectory": "Granger",
           "value": 2
          },
          {
           "color_by": "Granger",
           "sample_id": 0,
           "timepoint": 21,
           "trajectory": "Granger",
           "value": 3
          },
          {
           "color_by": "Granger",
           "sample_id": 0,
           "timepoint": 22,
           "trajectory": "Granger",
           "value": 4
          },
          {
           "color_by": "Granger",
           "sample_id": 0,
           "timepoint": 23,
           "trajectory": "Granger",
           "value": 3
          },
          {
           "color_by": "Granger",
           "sample_id": 0,
           "timepoint": 24,
           "trajectory": "Granger",
           "value": 4
          },
          {
           "color_by": "Granger",
           "sample_id": 0,
           "timepoint": 25,
           "trajectory": "Granger",
           "value": 3
          },
          {
           "color_by": "Granger",
           "sample_id": 0,
           "timepoint": 26,
           "trajectory": "Granger",
           "value": 2
          },
          {
           "color_by": "Granger",
           "sample_id": 0,
           "timepoint": 27,
           "trajectory": "Granger",
           "value": 3
          },
          {
           "color_by": "Granger",
           "sample_id": 0,
           "timepoint": 28,
           "trajectory": "Granger",
           "value": 2
          },
          {
           "color_by": "Granger",
           "sample_id": 0,
           "timepoint": 29,
           "trajectory": "Granger",
           "value": 1
          },
          {
           "color_by": "Granger",
           "sample_id": 0,
           "timepoint": 30,
           "trajectory": "Granger",
           "value": 0
          },
          {
           "color_by": "Granger",
           "sample_id": 0,
           "timepoint": 31,
           "trajectory": "Granger",
           "value": 1
          },
          {
           "color_by": "Granger",
           "sample_id": 0,
           "timepoint": 32,
           "trajectory": "Granger",
           "value": 0
          },
          {
           "color_by": "Granger",
           "sample_id": 0,
           "timepoint": 33,
           "trajectory": "Granger",
           "value": -1
          },
          {
           "color_by": "Granger",
           "sample_id": 0,
           "timepoint": 34,
           "trajectory": "Granger",
           "value": 0
          },
          {
           "color_by": "Granger",
           "sample_id": 0,
           "timepoint": 35,
           "trajectory": "Granger",
           "value": 1
          },
          {
           "color_by": "Granger",
           "sample_id": 0,
           "timepoint": 36,
           "trajectory": "Granger",
           "value": 0
          },
          {
           "color_by": "Granger",
           "sample_id": 0,
           "timepoint": 37,
           "trajectory": "Granger",
           "value": -1
          },
          {
           "color_by": "Granger",
           "sample_id": 0,
           "timepoint": 38,
           "trajectory": "Granger",
           "value": -2
          },
          {
           "color_by": "Granger",
           "sample_id": 0,
           "timepoint": 39,
           "trajectory": "Granger",
           "value": -3
          },
          {
           "color_by": "Granger",
           "sample_id": 0,
           "timepoint": 40,
           "trajectory": "Granger",
           "value": -4
          },
          {
           "color_by": "Granger",
           "sample_id": 0,
           "timepoint": 41,
           "trajectory": "Granger",
           "value": -3
          },
          {
           "color_by": "Granger",
           "sample_id": 0,
           "timepoint": 42,
           "trajectory": "Granger",
           "value": -4
          },
          {
           "color_by": "Granger",
           "sample_id": 0,
           "timepoint": 43,
           "trajectory": "Granger",
           "value": -5
          },
          {
           "color_by": "Granger",
           "sample_id": 0,
           "timepoint": 44,
           "trajectory": "Granger",
           "value": -4
          },
          {
           "color_by": "Granger",
           "sample_id": 0,
           "timepoint": 45,
           "trajectory": "Granger",
           "value": -3
          },
          {
           "color_by": "Granger",
           "sample_id": 0,
           "timepoint": 46,
           "trajectory": "Granger",
           "value": -2
          },
          {
           "color_by": "Granger",
           "sample_id": 0,
           "timepoint": 47,
           "trajectory": "Granger",
           "value": -1
          },
          {
           "color_by": "Granger",
           "sample_id": 0,
           "timepoint": 48,
           "trajectory": "Granger",
           "value": 0
          },
          {
           "color_by": "Granger",
           "sample_id": 0,
           "timepoint": 49,
           "trajectory": "Granger",
           "value": -1
          },
          {
           "color_by": "Granger",
           "sample_id": 0,
           "timepoint": 50,
           "trajectory": "Granger",
           "value": -2
          },
          {
           "color_by": "Granger",
           "sample_id": 0,
           "timepoint": 51,
           "trajectory": "Granger",
           "value": -3
          },
          {
           "color_by": "Granger",
           "sample_id": 0,
           "timepoint": 52,
           "trajectory": "Granger",
           "value": -2
          },
          {
           "color_by": "Granger",
           "sample_id": 0,
           "timepoint": 53,
           "trajectory": "Granger",
           "value": -1
          },
          {
           "color_by": "Granger",
           "sample_id": 0,
           "timepoint": 54,
           "trajectory": "Granger",
           "value": -2
          },
          {
           "color_by": "Granger",
           "sample_id": 0,
           "timepoint": 55,
           "trajectory": "Granger",
           "value": -3
          },
          {
           "color_by": "Granger",
           "sample_id": 0,
           "timepoint": 56,
           "trajectory": "Granger",
           "value": -2
          },
          {
           "color_by": "Granger",
           "sample_id": 0,
           "timepoint": 57,
           "trajectory": "Granger",
           "value": -3
          },
          {
           "color_by": "Granger",
           "sample_id": 0,
           "timepoint": 58,
           "trajectory": "Granger",
           "value": -2
          },
          {
           "color_by": "Granger",
           "sample_id": 0,
           "timepoint": 59,
           "trajectory": "Granger",
           "value": -3
          },
          {
           "color_by": "Granger",
           "sample_id": 0,
           "timepoint": 60,
           "trajectory": "Granger",
           "value": -4
          },
          {
           "color_by": "Granger",
           "sample_id": 0,
           "timepoint": 61,
           "trajectory": "Granger",
           "value": -3
          },
          {
           "color_by": "Granger",
           "sample_id": 0,
           "timepoint": 62,
           "trajectory": "Granger",
           "value": -4
          },
          {
           "color_by": "Granger",
           "sample_id": 0,
           "timepoint": 63,
           "trajectory": "Granger",
           "value": -5
          },
          {
           "color_by": "Granger",
           "sample_id": 0,
           "timepoint": 64,
           "trajectory": "Granger",
           "value": -4
          },
          {
           "color_by": "Granger",
           "sample_id": 0,
           "timepoint": 65,
           "trajectory": "Granger",
           "value": -3
          },
          {
           "color_by": "Granger",
           "sample_id": 0,
           "timepoint": 66,
           "trajectory": "Granger",
           "value": -4
          },
          {
           "color_by": "Granger",
           "sample_id": 0,
           "timepoint": 67,
           "trajectory": "Granger",
           "value": -5
          },
          {
           "color_by": "Granger",
           "sample_id": 0,
           "timepoint": 68,
           "trajectory": "Granger",
           "value": -6
          },
          {
           "color_by": "Granger",
           "sample_id": 0,
           "timepoint": 69,
           "trajectory": "Granger",
           "value": -5
          },
          {
           "color_by": "Granger",
           "sample_id": 0,
           "timepoint": 70,
           "trajectory": "Granger",
           "value": -4
          },
          {
           "color_by": "Granger",
           "sample_id": 0,
           "timepoint": 71,
           "trajectory": "Granger",
           "value": -5
          },
          {
           "color_by": "Granger",
           "sample_id": 0,
           "timepoint": 72,
           "trajectory": "Granger",
           "value": -6
          },
          {
           "color_by": "Granger",
           "sample_id": 0,
           "timepoint": 73,
           "trajectory": "Granger",
           "value": -7
          },
          {
           "color_by": "Granger",
           "sample_id": 0,
           "timepoint": 74,
           "trajectory": "Granger",
           "value": -6
          },
          {
           "color_by": "Granger",
           "sample_id": 0,
           "timepoint": 75,
           "trajectory": "Granger",
           "value": -5
          },
          {
           "color_by": "Granger",
           "sample_id": 0,
           "timepoint": 76,
           "trajectory": "Granger",
           "value": -4
          },
          {
           "color_by": "Granger",
           "sample_id": 0,
           "timepoint": 77,
           "trajectory": "Granger",
           "value": -5
          },
          {
           "color_by": "Granger",
           "sample_id": 0,
           "timepoint": 78,
           "trajectory": "Granger",
           "value": -4
          },
          {
           "color_by": "Granger",
           "sample_id": 0,
           "timepoint": 79,
           "trajectory": "Granger",
           "value": -5
          },
          {
           "color_by": "Granger",
           "sample_id": 0,
           "timepoint": 80,
           "trajectory": "Granger",
           "value": -6
          },
          {
           "color_by": "Granger",
           "sample_id": 0,
           "timepoint": 81,
           "trajectory": "Granger",
           "value": -7
          },
          {
           "color_by": "Granger",
           "sample_id": 0,
           "timepoint": 82,
           "trajectory": "Granger",
           "value": -8
          },
          {
           "color_by": "Granger",
           "sample_id": 0,
           "timepoint": 83,
           "trajectory": "Granger",
           "value": -9
          },
          {
           "color_by": "Granger",
           "sample_id": 0,
           "timepoint": 84,
           "trajectory": "Granger",
           "value": -10
          },
          {
           "color_by": "Granger",
           "sample_id": 0,
           "timepoint": 85,
           "trajectory": "Granger",
           "value": -11
          },
          {
           "color_by": "Granger",
           "sample_id": 0,
           "timepoint": 86,
           "trajectory": "Granger",
           "value": -12
          },
          {
           "color_by": "Granger",
           "sample_id": 0,
           "timepoint": 87,
           "trajectory": "Granger",
           "value": -13
          },
          {
           "color_by": "Granger",
           "sample_id": 0,
           "timepoint": 88,
           "trajectory": "Granger",
           "value": -12
          },
          {
           "color_by": "Granger",
           "sample_id": 0,
           "timepoint": 89,
           "trajectory": "Granger",
           "value": -13
          },
          {
           "color_by": "Granger",
           "sample_id": 0,
           "timepoint": 90,
           "trajectory": "Granger",
           "value": -12
          },
          {
           "color_by": "Granger",
           "sample_id": 0,
           "timepoint": 91,
           "trajectory": "Granger",
           "value": -11
          },
          {
           "color_by": "Granger",
           "sample_id": 0,
           "timepoint": 92,
           "trajectory": "Granger",
           "value": -10
          },
          {
           "color_by": "Granger",
           "sample_id": 0,
           "timepoint": 93,
           "trajectory": "Granger",
           "value": -9
          },
          {
           "color_by": "Granger",
           "sample_id": 0,
           "timepoint": 94,
           "trajectory": "Granger",
           "value": -8
          },
          {
           "color_by": "Granger",
           "sample_id": 0,
           "timepoint": 95,
           "trajectory": "Granger",
           "value": -7
          },
          {
           "color_by": "Granger",
           "sample_id": 0,
           "timepoint": 96,
           "trajectory": "Granger",
           "value": -8
          },
          {
           "color_by": "Granger",
           "sample_id": 0,
           "timepoint": 97,
           "trajectory": "Granger",
           "value": -7
          },
          {
           "color_by": "Granger",
           "sample_id": 0,
           "timepoint": 98,
           "trajectory": "Granger",
           "value": -6
          },
          {
           "color_by": "Granger",
           "sample_id": 0,
           "timepoint": 99,
           "trajectory": "Granger",
           "value": -7
          },
          {
           "color_by": "Mean",
           "sample_id": 0,
           "timepoint": 0,
           "trajectory": "Mean",
           "value": 0
          },
          {
           "color_by": "Mean",
           "sample_id": 0,
           "timepoint": 1,
           "trajectory": "Mean",
           "value": 1
          },
          {
           "color_by": "Mean",
           "sample_id": 0,
           "timepoint": 2,
           "trajectory": "Mean",
           "value": 0
          },
          {
           "color_by": "Mean",
           "sample_id": 0,
           "timepoint": 3,
           "trajectory": "Mean",
           "value": -1
          },
          {
           "color_by": "Mean",
           "sample_id": 0,
           "timepoint": 4,
           "trajectory": "Mean",
           "value": -2
          },
          {
           "color_by": "Mean",
           "sample_id": 0,
           "timepoint": 5,
           "trajectory": "Mean",
           "value": -1
          },
          {
           "color_by": "Mean",
           "sample_id": 0,
           "timepoint": 6,
           "trajectory": "Mean",
           "value": 0
          },
          {
           "color_by": "Mean",
           "sample_id": 0,
           "timepoint": 7,
           "trajectory": "Mean",
           "value": 1
          },
          {
           "color_by": "Mean",
           "sample_id": 0,
           "timepoint": 8,
           "trajectory": "Mean",
           "value": 2
          },
          {
           "color_by": "Mean",
           "sample_id": 0,
           "timepoint": 9,
           "trajectory": "Mean",
           "value": 1
          },
          {
           "color_by": "Mean",
           "sample_id": 0,
           "timepoint": 10,
           "trajectory": "Mean",
           "value": 2
          },
          {
           "color_by": "Mean",
           "sample_id": 0,
           "timepoint": 11,
           "trajectory": "Mean",
           "value": 1
          },
          {
           "color_by": "Mean",
           "sample_id": 0,
           "timepoint": 12,
           "trajectory": "Mean",
           "value": 0
          },
          {
           "color_by": "Mean",
           "sample_id": 0,
           "timepoint": 13,
           "trajectory": "Mean",
           "value": 1
          },
          {
           "color_by": "Mean",
           "sample_id": 0,
           "timepoint": 14,
           "trajectory": "Mean",
           "value": 0
          },
          {
           "color_by": "Mean",
           "sample_id": 0,
           "timepoint": 15,
           "trajectory": "Mean",
           "value": -1
          },
          {
           "color_by": "Mean",
           "sample_id": 0,
           "timepoint": 16,
           "trajectory": "Mean",
           "value": 0
          },
          {
           "color_by": "Mean",
           "sample_id": 0,
           "timepoint": 17,
           "trajectory": "Mean",
           "value": -1
          },
          {
           "color_by": "Mean",
           "sample_id": 0,
           "timepoint": 18,
           "trajectory": "Mean",
           "value": 0
          },
          {
           "color_by": "Mean",
           "sample_id": 0,
           "timepoint": 19,
           "trajectory": "Mean",
           "value": 1
          },
          {
           "color_by": "Mean",
           "sample_id": 0,
           "timepoint": 20,
           "trajectory": "Mean",
           "value": 0
          },
          {
           "color_by": "Mean",
           "sample_id": 0,
           "timepoint": 21,
           "trajectory": "Mean",
           "value": 1
          },
          {
           "color_by": "Mean",
           "sample_id": 0,
           "timepoint": 22,
           "trajectory": "Mean",
           "value": 0
          },
          {
           "color_by": "Mean",
           "sample_id": 0,
           "timepoint": 23,
           "trajectory": "Mean",
           "value": -1
          },
          {
           "color_by": "Mean",
           "sample_id": 0,
           "timepoint": 24,
           "trajectory": "Mean",
           "value": 0
          },
          {
           "color_by": "Mean",
           "sample_id": 0,
           "timepoint": 25,
           "trajectory": "Mean",
           "value": 1
          },
          {
           "color_by": "Mean",
           "sample_id": 0,
           "timepoint": 26,
           "trajectory": "Mean",
           "value": 0
          },
          {
           "color_by": "Mean",
           "sample_id": 0,
           "timepoint": 27,
           "trajectory": "Mean",
           "value": 1
          },
          {
           "color_by": "Mean",
           "sample_id": 0,
           "timepoint": 28,
           "trajectory": "Mean",
           "value": 0
          },
          {
           "color_by": "Mean",
           "sample_id": 0,
           "timepoint": 29,
           "trajectory": "Mean",
           "value": -1
          },
          {
           "color_by": "Mean",
           "sample_id": 0,
           "timepoint": 30,
           "trajectory": "Mean",
           "value": 0
          },
          {
           "color_by": "Mean",
           "sample_id": 0,
           "timepoint": 31,
           "trajectory": "Mean",
           "value": -1
          },
          {
           "color_by": "Mean",
           "sample_id": 0,
           "timepoint": 32,
           "trajectory": "Mean",
           "value": -2
          },
          {
           "color_by": "Mean",
           "sample_id": 0,
           "timepoint": 33,
           "trajectory": "Mean",
           "value": -3
          },
          {
           "color_by": "Mean",
           "sample_id": 0,
           "timepoint": 34,
           "trajectory": "Mean",
           "value": -2
          },
          {
           "color_by": "Mean",
           "sample_id": 0,
           "timepoint": 35,
           "trajectory": "Mean",
           "value": -3
          },
          {
           "color_by": "Mean",
           "sample_id": 0,
           "timepoint": 36,
           "trajectory": "Mean",
           "value": -4
          },
          {
           "color_by": "Mean",
           "sample_id": 0,
           "timepoint": 37,
           "trajectory": "Mean",
           "value": -3
          },
          {
           "color_by": "Mean",
           "sample_id": 0,
           "timepoint": 38,
           "trajectory": "Mean",
           "value": -2
          },
          {
           "color_by": "Mean",
           "sample_id": 0,
           "timepoint": 39,
           "trajectory": "Mean",
           "value": -3
          },
          {
           "color_by": "Mean",
           "sample_id": 0,
           "timepoint": 40,
           "trajectory": "Mean",
           "value": -4
          },
          {
           "color_by": "Mean",
           "sample_id": 0,
           "timepoint": 41,
           "trajectory": "Mean",
           "value": -3
          },
          {
           "color_by": "Mean",
           "sample_id": 0,
           "timepoint": 42,
           "trajectory": "Mean",
           "value": -2
          },
          {
           "color_by": "Mean",
           "sample_id": 0,
           "timepoint": 43,
           "trajectory": "Mean",
           "value": -1
          },
          {
           "color_by": "Mean",
           "sample_id": 0,
           "timepoint": 44,
           "trajectory": "Mean",
           "value": 0
          },
          {
           "color_by": "Mean",
           "sample_id": 0,
           "timepoint": 45,
           "trajectory": "Mean",
           "value": 1
          },
          {
           "color_by": "Mean",
           "sample_id": 0,
           "timepoint": 46,
           "trajectory": "Mean",
           "value": 2
          },
          {
           "color_by": "Mean",
           "sample_id": 0,
           "timepoint": 47,
           "trajectory": "Mean",
           "value": 1
          },
          {
           "color_by": "Mean",
           "sample_id": 0,
           "timepoint": 48,
           "trajectory": "Mean",
           "value": 0
          },
          {
           "color_by": "Mean",
           "sample_id": 0,
           "timepoint": 49,
           "trajectory": "Mean",
           "value": -1
          },
          {
           "color_by": "Mean",
           "sample_id": 0,
           "timepoint": 50,
           "trajectory": "Mean",
           "value": 0
          },
          {
           "color_by": "Mean",
           "sample_id": 0,
           "timepoint": 51,
           "trajectory": "Mean",
           "value": -1
          },
          {
           "color_by": "Mean",
           "sample_id": 0,
           "timepoint": 52,
           "trajectory": "Mean",
           "value": -2
          },
          {
           "color_by": "Mean",
           "sample_id": 0,
           "timepoint": 53,
           "trajectory": "Mean",
           "value": -1
          },
          {
           "color_by": "Mean",
           "sample_id": 0,
           "timepoint": 54,
           "trajectory": "Mean",
           "value": 0
          },
          {
           "color_by": "Mean",
           "sample_id": 0,
           "timepoint": 55,
           "trajectory": "Mean",
           "value": -1
          },
          {
           "color_by": "Mean",
           "sample_id": 0,
           "timepoint": 56,
           "trajectory": "Mean",
           "value": -2
          },
          {
           "color_by": "Mean",
           "sample_id": 0,
           "timepoint": 57,
           "trajectory": "Mean",
           "value": -1
          },
          {
           "color_by": "Mean",
           "sample_id": 0,
           "timepoint": 58,
           "trajectory": "Mean",
           "value": -2
          },
          {
           "color_by": "Mean",
           "sample_id": 0,
           "timepoint": 59,
           "trajectory": "Mean",
           "value": -1
          },
          {
           "color_by": "Mean",
           "sample_id": 0,
           "timepoint": 60,
           "trajectory": "Mean",
           "value": 0
          },
          {
           "color_by": "Mean",
           "sample_id": 0,
           "timepoint": 61,
           "trajectory": "Mean",
           "value": -1
          },
          {
           "color_by": "Mean",
           "sample_id": 0,
           "timepoint": 62,
           "trajectory": "Mean",
           "value": 0
          },
          {
           "color_by": "Mean",
           "sample_id": 0,
           "timepoint": 63,
           "trajectory": "Mean",
           "value": -1
          },
          {
           "color_by": "Mean",
           "sample_id": 0,
           "timepoint": 64,
           "trajectory": "Mean",
           "value": -2
          },
          {
           "color_by": "Mean",
           "sample_id": 0,
           "timepoint": 65,
           "trajectory": "Mean",
           "value": -1
          },
          {
           "color_by": "Mean",
           "sample_id": 0,
           "timepoint": 66,
           "trajectory": "Mean",
           "value": 0
          },
          {
           "color_by": "Mean",
           "sample_id": 0,
           "timepoint": 67,
           "trajectory": "Mean",
           "value": -1
          },
          {
           "color_by": "Mean",
           "sample_id": 0,
           "timepoint": 68,
           "trajectory": "Mean",
           "value": -2
          },
          {
           "color_by": "Mean",
           "sample_id": 0,
           "timepoint": 69,
           "trajectory": "Mean",
           "value": -1
          },
          {
           "color_by": "Mean",
           "sample_id": 0,
           "timepoint": 70,
           "trajectory": "Mean",
           "value": 0
          },
          {
           "color_by": "Mean",
           "sample_id": 0,
           "timepoint": 71,
           "trajectory": "Mean",
           "value": 1
          },
          {
           "color_by": "Mean",
           "sample_id": 0,
           "timepoint": 72,
           "trajectory": "Mean",
           "value": 0
          },
          {
           "color_by": "Mean",
           "sample_id": 0,
           "timepoint": 73,
           "trajectory": "Mean",
           "value": 1
          },
          {
           "color_by": "Mean",
           "sample_id": 0,
           "timepoint": 74,
           "trajectory": "Mean",
           "value": 2
          },
          {
           "color_by": "Mean",
           "sample_id": 0,
           "timepoint": 75,
           "trajectory": "Mean",
           "value": 1
          },
          {
           "color_by": "Mean",
           "sample_id": 0,
           "timepoint": 76,
           "trajectory": "Mean",
           "value": 0
          },
          {
           "color_by": "Mean",
           "sample_id": 0,
           "timepoint": 77,
           "trajectory": "Mean",
           "value": 1
          },
          {
           "color_by": "Mean",
           "sample_id": 0,
           "timepoint": 78,
           "trajectory": "Mean",
           "value": 0
          },
          {
           "color_by": "Mean",
           "sample_id": 0,
           "timepoint": 79,
           "trajectory": "Mean",
           "value": -1
          },
          {
           "color_by": "Mean",
           "sample_id": 0,
           "timepoint": 80,
           "trajectory": "Mean",
           "value": 0
          },
          {
           "color_by": "Mean",
           "sample_id": 0,
           "timepoint": 81,
           "trajectory": "Mean",
           "value": -1
          },
          {
           "color_by": "Mean",
           "sample_id": 0,
           "timepoint": 82,
           "trajectory": "Mean",
           "value": -2
          },
          {
           "color_by": "Mean",
           "sample_id": 0,
           "timepoint": 83,
           "trajectory": "Mean",
           "value": -3
          },
          {
           "color_by": "Mean",
           "sample_id": 0,
           "timepoint": 84,
           "trajectory": "Mean",
           "value": -2
          },
          {
           "color_by": "Mean",
           "sample_id": 0,
           "timepoint": 85,
           "trajectory": "Mean",
           "value": -1
          },
          {
           "color_by": "Mean",
           "sample_id": 0,
           "timepoint": 86,
           "trajectory": "Mean",
           "value": 0
          },
          {
           "color_by": "Mean",
           "sample_id": 0,
           "timepoint": 87,
           "trajectory": "Mean",
           "value": -1
          },
          {
           "color_by": "Mean",
           "sample_id": 0,
           "timepoint": 88,
           "trajectory": "Mean",
           "value": 0
          },
          {
           "color_by": "Mean",
           "sample_id": 0,
           "timepoint": 89,
           "trajectory": "Mean",
           "value": -1
          },
          {
           "color_by": "Mean",
           "sample_id": 0,
           "timepoint": 90,
           "trajectory": "Mean",
           "value": 0
          },
          {
           "color_by": "Mean",
           "sample_id": 0,
           "timepoint": 91,
           "trajectory": "Mean",
           "value": -1
          },
          {
           "color_by": "Mean",
           "sample_id": 0,
           "timepoint": 92,
           "trajectory": "Mean",
           "value": -2
          },
          {
           "color_by": "Mean",
           "sample_id": 0,
           "timepoint": 93,
           "trajectory": "Mean",
           "value": -1
          },
          {
           "color_by": "Mean",
           "sample_id": 0,
           "timepoint": 94,
           "trajectory": "Mean",
           "value": -2
          },
          {
           "color_by": "Mean",
           "sample_id": 0,
           "timepoint": 95,
           "trajectory": "Mean",
           "value": -3
          },
          {
           "color_by": "Mean",
           "sample_id": 0,
           "timepoint": 96,
           "trajectory": "Mean",
           "value": -4
          },
          {
           "color_by": "Mean",
           "sample_id": 0,
           "timepoint": 97,
           "trajectory": "Mean",
           "value": -5
          },
          {
           "color_by": "Mean",
           "sample_id": 0,
           "timepoint": 98,
           "trajectory": "Mean",
           "value": -4
          },
          {
           "color_by": "Mean",
           "sample_id": 0,
           "timepoint": 99,
           "trajectory": "Mean",
           "value": -5
          },
          {
           "color_by": "Variance",
           "sample_id": 0,
           "timepoint": 0,
           "trajectory": "Variance",
           "value": 0
          },
          {
           "color_by": "Variance",
           "sample_id": 0,
           "timepoint": 1,
           "trajectory": "Variance",
           "value": -1
          },
          {
           "color_by": "Variance",
           "sample_id": 0,
           "timepoint": 2,
           "trajectory": "Variance",
           "value": -2
          },
          {
           "color_by": "Variance",
           "sample_id": 0,
           "timepoint": 3,
           "trajectory": "Variance",
           "value": -1
          },
          {
           "color_by": "Variance",
           "sample_id": 0,
           "timepoint": 4,
           "trajectory": "Variance",
           "value": -2
          },
          {
           "color_by": "Variance",
           "sample_id": 0,
           "timepoint": 5,
           "trajectory": "Variance",
           "value": -3
          },
          {
           "color_by": "Variance",
           "sample_id": 0,
           "timepoint": 6,
           "trajectory": "Variance",
           "value": -4
          },
          {
           "color_by": "Variance",
           "sample_id": 0,
           "timepoint": 7,
           "trajectory": "Variance",
           "value": -3
          },
          {
           "color_by": "Variance",
           "sample_id": 0,
           "timepoint": 8,
           "trajectory": "Variance",
           "value": -2
          },
          {
           "color_by": "Variance",
           "sample_id": 0,
           "timepoint": 9,
           "trajectory": "Variance",
           "value": -1
          },
          {
           "color_by": "Variance",
           "sample_id": 0,
           "timepoint": 10,
           "trajectory": "Variance",
           "value": -2
          },
          {
           "color_by": "Variance",
           "sample_id": 0,
           "timepoint": 11,
           "trajectory": "Variance",
           "value": -3
          },
          {
           "color_by": "Variance",
           "sample_id": 0,
           "timepoint": 12,
           "trajectory": "Variance",
           "value": -2
          },
          {
           "color_by": "Variance",
           "sample_id": 0,
           "timepoint": 13,
           "trajectory": "Variance",
           "value": -1
          },
          {
           "color_by": "Variance",
           "sample_id": 0,
           "timepoint": 14,
           "trajectory": "Variance",
           "value": 0
          },
          {
           "color_by": "Variance",
           "sample_id": 0,
           "timepoint": 15,
           "trajectory": "Variance",
           "value": 1
          },
          {
           "color_by": "Variance",
           "sample_id": 0,
           "timepoint": 16,
           "trajectory": "Variance",
           "value": 0
          },
          {
           "color_by": "Variance",
           "sample_id": 0,
           "timepoint": 17,
           "trajectory": "Variance",
           "value": -1
          },
          {
           "color_by": "Variance",
           "sample_id": 0,
           "timepoint": 18,
           "trajectory": "Variance",
           "value": -2
          },
          {
           "color_by": "Variance",
           "sample_id": 0,
           "timepoint": 19,
           "trajectory": "Variance",
           "value": -3
          },
          {
           "color_by": "Variance",
           "sample_id": 0,
           "timepoint": 20,
           "trajectory": "Variance",
           "value": -2
          },
          {
           "color_by": "Variance",
           "sample_id": 0,
           "timepoint": 21,
           "trajectory": "Variance",
           "value": -1
          },
          {
           "color_by": "Variance",
           "sample_id": 0,
           "timepoint": 22,
           "trajectory": "Variance",
           "value": 0
          },
          {
           "color_by": "Variance",
           "sample_id": 0,
           "timepoint": 23,
           "trajectory": "Variance",
           "value": 1
          },
          {
           "color_by": "Variance",
           "sample_id": 0,
           "timepoint": 24,
           "trajectory": "Variance",
           "value": 0
          },
          {
           "color_by": "Variance",
           "sample_id": 0,
           "timepoint": 25,
           "trajectory": "Variance",
           "value": -1
          },
          {
           "color_by": "Variance",
           "sample_id": 0,
           "timepoint": 26,
           "trajectory": "Variance",
           "value": -2
          },
          {
           "color_by": "Variance",
           "sample_id": 0,
           "timepoint": 27,
           "trajectory": "Variance",
           "value": -1
          },
          {
           "color_by": "Variance",
           "sample_id": 0,
           "timepoint": 28,
           "trajectory": "Variance",
           "value": 0
          },
          {
           "color_by": "Variance",
           "sample_id": 0,
           "timepoint": 29,
           "trajectory": "Variance",
           "value": 1
          },
          {
           "color_by": "Variance",
           "sample_id": 0,
           "timepoint": 30,
           "trajectory": "Variance",
           "value": 2
          },
          {
           "color_by": "Variance",
           "sample_id": 0,
           "timepoint": 31,
           "trajectory": "Variance",
           "value": 3
          },
          {
           "color_by": "Variance",
           "sample_id": 0,
           "timepoint": 32,
           "trajectory": "Variance",
           "value": 2
          },
          {
           "color_by": "Variance",
           "sample_id": 0,
           "timepoint": 33,
           "trajectory": "Variance",
           "value": 3
          },
          {
           "color_by": "Variance",
           "sample_id": 0,
           "timepoint": 34,
           "trajectory": "Variance",
           "value": 2
          },
          {
           "color_by": "Variance",
           "sample_id": 0,
           "timepoint": 35,
           "trajectory": "Variance",
           "value": 3
          },
          {
           "color_by": "Variance",
           "sample_id": 0,
           "timepoint": 36,
           "trajectory": "Variance",
           "value": 2
          },
          {
           "color_by": "Variance",
           "sample_id": 0,
           "timepoint": 37,
           "trajectory": "Variance",
           "value": 1
          },
          {
           "color_by": "Variance",
           "sample_id": 0,
           "timepoint": 38,
           "trajectory": "Variance",
           "value": 2
          },
          {
           "color_by": "Variance",
           "sample_id": 0,
           "timepoint": 39,
           "trajectory": "Variance",
           "value": 1
          },
          {
           "color_by": "Variance",
           "sample_id": 0,
           "timepoint": 40,
           "trajectory": "Variance",
           "value": 0
          },
          {
           "color_by": "Variance",
           "sample_id": 0,
           "timepoint": 41,
           "trajectory": "Variance",
           "value": -1
          },
          {
           "color_by": "Variance",
           "sample_id": 0,
           "timepoint": 42,
           "trajectory": "Variance",
           "value": 0
          },
          {
           "color_by": "Variance",
           "sample_id": 0,
           "timepoint": 43,
           "trajectory": "Variance",
           "value": 1
          },
          {
           "color_by": "Variance",
           "sample_id": 0,
           "timepoint": 44,
           "trajectory": "Variance",
           "value": 2
          },
          {
           "color_by": "Variance",
           "sample_id": 0,
           "timepoint": 45,
           "trajectory": "Variance",
           "value": 1
          },
          {
           "color_by": "Variance",
           "sample_id": 0,
           "timepoint": 46,
           "trajectory": "Variance",
           "value": 2
          },
          {
           "color_by": "Variance",
           "sample_id": 0,
           "timepoint": 47,
           "trajectory": "Variance",
           "value": 1
          },
          {
           "color_by": "Variance",
           "sample_id": 0,
           "timepoint": 48,
           "trajectory": "Variance",
           "value": 0
          },
          {
           "color_by": "Variance",
           "sample_id": 0,
           "timepoint": 49,
           "trajectory": "Variance",
           "value": 1
          },
          {
           "color_by": "Variance",
           "sample_id": 0,
           "timepoint": 50,
           "trajectory": "Variance",
           "value": 2
          },
          {
           "color_by": "Variance",
           "sample_id": 0,
           "timepoint": 51,
           "trajectory": "Variance",
           "value": 1
          },
          {
           "color_by": "Variance",
           "sample_id": 0,
           "timepoint": 52,
           "trajectory": "Variance",
           "value": 0
          },
          {
           "color_by": "Variance",
           "sample_id": 0,
           "timepoint": 53,
           "trajectory": "Variance",
           "value": 1
          },
          {
           "color_by": "Variance",
           "sample_id": 0,
           "timepoint": 54,
           "trajectory": "Variance",
           "value": 2
          },
          {
           "color_by": "Variance",
           "sample_id": 0,
           "timepoint": 55,
           "trajectory": "Variance",
           "value": 1
          },
          {
           "color_by": "Variance",
           "sample_id": 0,
           "timepoint": 56,
           "trajectory": "Variance",
           "value": 0
          },
          {
           "color_by": "Variance",
           "sample_id": 0,
           "timepoint": 57,
           "trajectory": "Variance",
           "value": 1
          },
          {
           "color_by": "Variance",
           "sample_id": 0,
           "timepoint": 58,
           "trajectory": "Variance",
           "value": 2
          },
          {
           "color_by": "Variance",
           "sample_id": 0,
           "timepoint": 59,
           "trajectory": "Variance",
           "value": 1
          },
          {
           "color_by": "Variance",
           "sample_id": 0,
           "timepoint": 60,
           "trajectory": "Variance",
           "value": 2
          },
          {
           "color_by": "Variance",
           "sample_id": 0,
           "timepoint": 61,
           "trajectory": "Variance",
           "value": 1
          },
          {
           "color_by": "Variance",
           "sample_id": 0,
           "timepoint": 62,
           "trajectory": "Variance",
           "value": 0
          },
          {
           "color_by": "Variance",
           "sample_id": 0,
           "timepoint": 63,
           "trajectory": "Variance",
           "value": -1
          },
          {
           "color_by": "Variance",
           "sample_id": 0,
           "timepoint": 64,
           "trajectory": "Variance",
           "value": 0
          },
          {
           "color_by": "Variance",
           "sample_id": 0,
           "timepoint": 65,
           "trajectory": "Variance",
           "value": -1
          },
          {
           "color_by": "Variance",
           "sample_id": 0,
           "timepoint": 66,
           "trajectory": "Variance",
           "value": 0
          },
          {
           "color_by": "Variance",
           "sample_id": 0,
           "timepoint": 67,
           "trajectory": "Variance",
           "value": -1
          },
          {
           "color_by": "Variance",
           "sample_id": 0,
           "timepoint": 68,
           "trajectory": "Variance",
           "value": 0
          },
          {
           "color_by": "Variance",
           "sample_id": 0,
           "timepoint": 69,
           "trajectory": "Variance",
           "value": 1
          },
          {
           "color_by": "Variance",
           "sample_id": 0,
           "timepoint": 70,
           "trajectory": "Variance",
           "value": 0
          },
          {
           "color_by": "Variance",
           "sample_id": 0,
           "timepoint": 71,
           "trajectory": "Variance",
           "value": 1
          },
          {
           "color_by": "Variance",
           "sample_id": 0,
           "timepoint": 72,
           "trajectory": "Variance",
           "value": 0
          },
          {
           "color_by": "Variance",
           "sample_id": 0,
           "timepoint": 73,
           "trajectory": "Variance",
           "value": -1
          },
          {
           "color_by": "Variance",
           "sample_id": 0,
           "timepoint": 74,
           "trajectory": "Variance",
           "value": -2
          },
          {
           "color_by": "Variance",
           "sample_id": 0,
           "timepoint": 75,
           "trajectory": "Variance",
           "value": -1
          },
          {
           "color_by": "Variance",
           "sample_id": 0,
           "timepoint": 76,
           "trajectory": "Variance",
           "value": -2
          },
          {
           "color_by": "Variance",
           "sample_id": 0,
           "timepoint": 77,
           "trajectory": "Variance",
           "value": -3
          },
          {
           "color_by": "Variance",
           "sample_id": 0,
           "timepoint": 78,
           "trajectory": "Variance",
           "value": -2
          },
          {
           "color_by": "Variance",
           "sample_id": 0,
           "timepoint": 79,
           "trajectory": "Variance",
           "value": -1
          },
          {
           "color_by": "Variance",
           "sample_id": 0,
           "timepoint": 80,
           "trajectory": "Variance",
           "value": 0
          },
          {
           "color_by": "Variance",
           "sample_id": 0,
           "timepoint": 81,
           "trajectory": "Variance",
           "value": -1
          },
          {
           "color_by": "Variance",
           "sample_id": 0,
           "timepoint": 82,
           "trajectory": "Variance",
           "value": -2
          },
          {
           "color_by": "Variance",
           "sample_id": 0,
           "timepoint": 83,
           "trajectory": "Variance",
           "value": -1
          },
          {
           "color_by": "Variance",
           "sample_id": 0,
           "timepoint": 84,
           "trajectory": "Variance",
           "value": 0
          },
          {
           "color_by": "Variance",
           "sample_id": 0,
           "timepoint": 85,
           "trajectory": "Variance",
           "value": 1
          },
          {
           "color_by": "Variance",
           "sample_id": 0,
           "timepoint": 86,
           "trajectory": "Variance",
           "value": 0
          },
          {
           "color_by": "Variance",
           "sample_id": 0,
           "timepoint": 87,
           "trajectory": "Variance",
           "value": 1
          },
          {
           "color_by": "Variance",
           "sample_id": 0,
           "timepoint": 88,
           "trajectory": "Variance",
           "value": 0
          },
          {
           "color_by": "Variance",
           "sample_id": 0,
           "timepoint": 89,
           "trajectory": "Variance",
           "value": -1
          },
          {
           "color_by": "Variance",
           "sample_id": 0,
           "timepoint": 90,
           "trajectory": "Variance",
           "value": 0
          },
          {
           "color_by": "Variance",
           "sample_id": 0,
           "timepoint": 91,
           "trajectory": "Variance",
           "value": -1
          },
          {
           "color_by": "Variance",
           "sample_id": 0,
           "timepoint": 92,
           "trajectory": "Variance",
           "value": -2
          },
          {
           "color_by": "Variance",
           "sample_id": 0,
           "timepoint": 93,
           "trajectory": "Variance",
           "value": -3
          },
          {
           "color_by": "Variance",
           "sample_id": 0,
           "timepoint": 94,
           "trajectory": "Variance",
           "value": -2
          },
          {
           "color_by": "Variance",
           "sample_id": 0,
           "timepoint": 95,
           "trajectory": "Variance",
           "value": -1
          },
          {
           "color_by": "Variance",
           "sample_id": 0,
           "timepoint": 96,
           "trajectory": "Variance",
           "value": 0
          },
          {
           "color_by": "Variance",
           "sample_id": 0,
           "timepoint": 97,
           "trajectory": "Variance",
           "value": 1
          },
          {
           "color_by": "Variance",
           "sample_id": 0,
           "timepoint": 98,
           "trajectory": "Variance",
           "value": 2
          },
          {
           "color_by": "Variance",
           "sample_id": 0,
           "timepoint": 99,
           "trajectory": "Variance",
           "value": 1
          }
         ]
        },
        {
         "name": "points",
         "values": []
        },
        {
         "name": "markers",
         "values": []
        },
        {
         "name": "selected",
         "on": [
          {
           "remove": true,
           "trigger": "clear"
          },
          {
           "remove": true,
           "trigger": "!shift"
          },
          {
           "insert": "clicked",
           "trigger": "!shift && clicked"
          },
          {
           "toggle": "clicked",
           "trigger": "shift && clicked"
          }
         ]
        },
        {
         "name": "selectedData",
         "on": [
          {
           "remove": true,
           "trigger": "clearData"
          },
          {
           "toggle": "clickedData",
           "trigger": "clickedData"
          }
         ]
        }
       ],
       "height": 300,
       "legends": [
        {
         "encode": {
          "labels": {
           "interactive": true,
           "name": "legendLabel",
           "size": {
            "value": 25
           },
           "update": {
            "opacity": [
             {
              "test": "!length(data('selectedData')) || indata('selectedData', 'value', datum.value)",
              "value": 1
             },
             {
              "value": 0.25
             }
            ]
           }
          },
          "symbols": {
           "interactive": true,
           "name": "legendSymbol",
           "update": {
            "fill": {
             "value": "transparent"
            },
            "opacity": [
             {
              "test": "!length(data('selected')) || indata('selected', 'value', datum.value) || indata('selectedData', 'value', datum.value)",
              "value": 0.7
             },
             {
              "value": 0.15
             }
            ],
            "size": {
             "value": 64
            },
            "strokeWidth": {
             "value": 2
            }
           }
          }
         },
         "name": "color_legend",
         "orient": "left",
         "stroke": "color"
        }
       ],
       "marks": [
        {
         "from": {
          "facet": {
           "data": "points",
           "groupby": "trajectory",
           "name": "points_split"
          }
         },
         "marks": [
          {
           "encode": {
            "hover": {
             "fillOpacity": {
              "value": 0.9
             }
            },
            "update": {
             "fill": {
              "field": "trajectory",
              "scale": "color"
             },
             "fillOpacity": [
              {
               "test": "!length(data('selected')) || indata('selected', 'value', datum.trajectory)",
               "value": 0.5
              },
              {
               "value": 0.15
              }
             ],
             "size": {
              "value": 35
             },
             "stroke": {
              "field": "trajectory",
              "scale": "color"
             },
             "strokeOpacity": [
              {
               "test": "!length(data('selected')) || indata('selected', 'value', datum.trajectory)",
               "value": 0.75
              },
              {
               "value": 0.15
              }
             ],
             "strokeWidth": {
              "value": 2
             },
             "tooltip": {
              "field": "value"
             },
             "x": {
              "field": "timepoint",
              "scale": "xscale"
             },
             "y": {
              "field": "value",
              "scale": "yscale"
             }
            }
           },
           "from": {
            "data": "points_split"
           },
           "name": "_points_symbol",
           "type": "symbol",
           "zindex": 3
          },
          {
           "encode": {
            "hover": {
             "fillOpacity": {
              "value": 0.9
             }
            },
            "update": {
             "interpolate": {
              "value": "linear"
             },
             "stroke": {
              "field": "trajectory",
              "scale": "color"
             },
             "strokeDash": {
              "value": [
               5,
               3
              ]
             },
             "strokeOpacity": [
              {
               "test": "!length(data('selected')) || indata('selected', 'value', datum.trajectory)",
               "value": 0.3
              },
              {
               "value": 0.1
              }
             ],
             "strokeWidth": {
              "value": 2
             },
             "x": {
              "field": "timepoint",
              "scale": "xscale"
             },
             "y": {
              "field": "value",
              "scale": "yscale"
             }
            }
           },
           "from": {
            "data": "points_split"
           },
           "name": "_points_line",
           "type": "line",
           "zindex": 3
          }
         ],
         "name": "_points",
         "type": "group",
         "zindex": 3
        },
        {
         "from": {
          "facet": {
           "data": "traces",
           "groupby": "trajectory",
           "name": "traces_split"
          }
         },
         "marks": [
          {
           "encode": {
            "hover": {
             "fillOpacity": {
              "value": 0.9
             }
            },
            "update": {
             "interpolate": {
              "value": "linear"
             },
             "stroke": {
              "field": "trajectory",
              "scale": "color"
             },
             "strokeDash": [
              {
               "test": "indexof(datum.trajectory, 'Baseline') != -1 || indexof(datum.trajectory, 'Envelope') != -1",
               "value": [
                8,
                4
               ]
              },
              {
               "value": [
                1,
                0
               ]
              }
             ],
             "strokeOpacity": [
              {
               "test": "!length(data('selected')) || indata('selected', 'value', datum.trajectory)",
               "value": 0.75
              },
              {
               "value": 0.15
              }
             ],
             "strokeWidth": {
              "value": 2
             },
             "x": {
              "field": "timepoint",
              "scale": "xscale"
             },
             "y": {
              "field": "value",
              "scale": "yscale"
             }
            }
           },
           "from": {
            "data": "traces_split"
           },
           "name": "_traces_lines",
           "type": "line"
          }
         ],
         "name": "_traces",
         "type": "group",
         "zindex": 2
        },
        {
         "from": {
          "facet": {
           "data": "distributions",
           "groupby": "trajectory",
           "name": "trajectory_split"
          }
         },
         "marks": [
          {
           "encode": {
            "hover": {
             "fillOpacity": {
              "value": 0.9
             }
            },
            "update": {
             "fill": {
              "field": "trajectory",
              "scale": "color"
             },
             "fillOpacity": [
              {
               "test": "!length(data('selected')) || indata('selected', 'value', datum.trajectory)",
               "value": 0.1
              },
              {
               "value": 0.05
              }
             ],
             "interpolate": {
              "value": "linear"
             },
             "stroke": {
              "field": "trajectory",
              "scale": "color"
             },
             "strokeOpacity": [
              {
               "test": "!length(data('selected')) || indata('selected', 'value', datum.trajectory)",
               "value": 0.1
              },
              {
               "value": 0.05
              }
             ],
             "strokeWidth": {
              "value": 2
             },
             "x": {
              "field": "timepoint",
              "scale": "xscale"
             },
             "y": {
              "field": "upper",
              "scale": "yscale"
             },
             "y2": {
              "field": "lower",
              "scale": "yscale"
             }
            }
           },
           "from": {
            "data": "trajectory_split"
           },
           "interactive": true,
           "name": "area",
           "type": "area"
          }
         ],
         "name": "_distributions",
         "type": "group",
         "zindex": 1
        },
        {
         "marks": [
          {
           "encode": {
            "enter": {
             "stroke": {
              "value": "lightgray"
             }
            },
            "update": {
             "opacity": {
              "value": 1
             },
             "x": {
              "field": "timepoint",
              "scale": "xscale"
             },
             "y": {
              "signal": "height"
             },
             "y2": {
              "value": 0
             }
            }
           },
           "from": {
            "data": "markers"
           },
           "name": "_marker text",
           "type": "rule"
          },
          {
           "encode": {
            "enter": {
             "fontSize": {
              "value": 8
             },
             "text": {
              "field": "datum.label"
             },
             "y": {
              "value": 0
             }
            }
           },
           "from": {
            "data": "_marker text"
           },
           "name": "_marker flags",
           "transform": [
            {
             "as": [
              "x",
              "_y",
              "opacity",
              "align",
              "baseline"
             ],
             "lineAnchor": "start",
             "offset": [
              1
             ],
             "size": {
              "signal": "[width, height]"
             },
             "type": "label"
            }
           ],
           "type": "text"
          }
         ],
         "name": "_markers",
         "type": "group"
        }
       ],
       "scales": [
        {
         "domain": {
          "fields": [
           {
            "data": "distributions",
            "field": "timepoint"
           },
           {
            "data": "traces",
            "field": "timepoint"
           },
           {
            "data": "points",
            "field": "timepoint"
           },
           {
            "data": "markers",
            "field": "timepoint"
           }
          ]
         },
         "name": "xscale",
         "range": "width",
         "type": "linear",
         "zero": false
        },
        {
         "domain": {
          "fields": [
           {
            "data": "distributions",
            "field": "lower"
           },
           {
            "data": "distributions",
            "field": "upper"
           },
           {
            "data": "traces",
            "field": "value"
           },
           {
            "data": "points",
            "field": "value"
           }
          ]
         },
         "name": "yscale",
         "nice": true,
         "range": "height",
         "type": "linear",
         "zero": true
        },
        {
         "domain": {
          "fields": [
           {
            "data": "distributions",
            "field": "trajectory"
           },
           {
            "data": "traces",
            "field": "trajectory"
           },
           {
            "data": "points",
            "field": "trajectory"
           }
          ],
          "sort": {
           "order": "ascending"
          }
         },
         "name": "color",
         "range": "category",
         "type": "ordinal"
        }
       ],
       "signals": [
        {
         "name": "clear",
         "on": [
          {
           "events": "mouseup[!event.item]",
           "force": true,
           "update": "true"
          }
         ],
         "value": true
        },
        {
         "name": "shift",
         "on": [
          {
           "events": "@legendSymbol:click, @legendLabel:click",
           "force": true,
           "update": "event.shiftKey"
          }
         ],
         "value": false
        },
        {
         "name": "clicked",
         "on": [
          {
           "events": "@legendSymbol:click, @legendLabel:click",
           "force": true,
           "update": "{value: datum.value}"
          }
         ],
         "value": null
        },
        {
         "name": "clearData",
         "on": [
          {
           "events": "mouseup[!event.item]",
           "force": true,
           "update": "true"
          }
         ],
         "value": true
        },
        {
         "name": "clickedData",
         "on": [
          {
           "events": "@area:click",
           "force": true,
           "update": "{value: datum.trajectory}"
          }
         ],
         "value": null
        }
       ],
       "width": 500
      }
     },
     "metadata": {},
     "output_type": "display_data"
    }
   ],
   "source": [
    "\n",
    "name = \"random\"\n",
    "timepoint_list = []\n",
    "sine_list = []\n",
    "sample_list = []\n",
    "kmean = False\n",
    "n_clusters = 3\n",
    "\n",
    "def save_result(data, name, ref_ext):\n",
    "    \"\"\"Save new reference files\"\"\"\n",
    "    _output_root = 'output'\n",
    "    mode = \"w\" if ref_ext == \"svg\" else \"wb\"\n",
    "    with open(os.path.join(_output_root, f\"{name}.{ref_ext}\"), mode) as f:\n",
    "        f.write(data)\n",
    "\n",
    "#https://stackoverflow.com/questions/71681417/generating-a-1d-random-walk-with-random-module\n",
    "def randomwalk1D(n):\n",
    "    x = 0\n",
    "    start = x\n",
    "    xposition = [start]\n",
    "    probabilities = [-1, 1]\n",
    "    for i in range(1, n + 1):\n",
    "        x += random.choice(probabilities)\n",
    "        xposition.append(x)\n",
    "    return xposition\n",
    "\n",
    "timepoint_list = []\n",
    "sample_list = []\n",
    "sine_list = []\n",
    "\n",
    "j = 0\n",
    "for _ in range(300):\n",
    "        j+=1\n",
    "        timepoint_list.extend([x for x in range(100)])\n",
    "        sample_list.extend([j]*100)\n",
    "        sine_list.extend(randomwalk1D(99))\n",
    "\n",
    "random_distribution= pd.DataFrame({'timepoint_id' : timepoint_list,\n",
    "                   'sample_id' : sample_list,\n",
    "                   'Example': sine_list})\n",
    "\n",
    "\n",
    "#change kmean here to use clustering\n",
    "examplary_line, trajectory_dict = pyciemss.visuals.trajectories.select_traces(random_distribution, kmean= kmean, n_clusters = n_clusters, select_by_list = ['mean', 'granger', \"variance\", 'chaos'])\n",
    "\n",
    "\n",
    "for cluster in list(np.unique(examplary_line['cluster'])): \n",
    "        cluster_sample_id = trajectory_dict[cluster.lower()]['cluster_sample_id']  \n",
    "        cluster_random_distribution =  random_distribution[random_distribution[\"sample_id\"].isin(cluster_sample_id)]\n",
    "        cluster_random_distribution = cluster_random_distribution.reset_index()\n",
    "        print(len(cluster_sample_id))\n",
    "        # get examplary lines form that cluster\n",
    "        current_cluster_df = examplary_line[examplary_line['cluster'] == cluster]\n",
    "        current_cluster_df = current_cluster_df.reset_index()\n",
    "\n",
    "        # get right format to use as traces\n",
    "        examplary_lines_pivot = current_cluster_df[['examplary_line', 'envelope_mean', 'timepoint', 'select_by']].pivot_table(\n",
    "        values=\"examplary_line\", index = [\"timepoint\", 'envelope_mean'], columns=\"select_by\")\n",
    "        examplary_lines_pivot = examplary_lines_pivot.reset_index()\n",
    "        examplary_lines_pivot = examplary_lines_pivot.rename(columns = {'envelope_mean': 'Envelope_Mean'})\n",
    "\n",
    "        # plot the traces along with the baselines\n",
    "        schema = plots.trajectories(cluster_random_distribution[['timepoint_id', 'sample_id', 'Example']], traces = examplary_lines_pivot)\n",
    "        path = \"{}_{}\".format(name, cluster)\n",
    "        image = plots.ipy_display(schema, format=\"PNG\").data\n",
    "        save_result(image, path, \"png\")\n",
    "        plots.ipy_display(schema, format=\"interactive\")\n",
    "\n"
   ]
  },
  {
   "cell_type": "code",
   "execution_count": null,
   "metadata": {},
   "outputs": [
    {
     "name": "stdout",
     "output_type": "stream",
     "text": [
      "   timepoint_id  sample_id  persistent_beta_c_param  persistent_kappa_param  \\\n",
      "0             0          0                  0.71391                 0.09432   \n",
      "1             1          0                  0.71391                 0.09432   \n",
      "2             2          0                  0.71391                 0.09432   \n",
      "3             3          0                  0.71391                 0.09432   \n",
      "4             4          0                  0.71391                 0.09432   \n",
      "\n",
      "   persistent_gamma_param  persistent_hosp_param  persistent_death_hosp_param  \\\n",
      "0                0.226554               0.081048                     0.091152   \n",
      "1                0.226554               0.081048                     0.091152   \n",
      "2                0.226554               0.081048                     0.091152   \n",
      "3                0.226554               0.081048                     0.091152   \n",
      "4                0.226554               0.081048                     0.091152   \n",
      "\n",
      "   persistent_I0_param   D_state    E_state   H_state    I_state    R_state  \\\n",
      "0            12.423676  0.000000  31.171797  0.228120  19.609041   2.586514   \n",
      "1            12.423676  0.004159  25.228365  0.542552  22.959484   6.710431   \n",
      "2            12.423676  0.014050  21.086803  0.855617  24.065012  11.589039   \n",
      "3            12.423676  0.029648  18.084906  1.126368  23.884687  16.754715   \n",
      "4            12.423676  0.050182  15.816473  1.339658  22.994741  21.932064   \n",
      "\n",
      "      S_state  infected_observable_state  exposed_observable_state  \\\n",
      "0  19339986.0                  19.609041                 31.171797   \n",
      "1  19339984.0                  22.959484                 25.228365   \n",
      "2  19339982.0                  24.065012                 21.086803   \n",
      "3  19339980.0                  23.884687                 18.084906   \n",
      "4  19339978.0                  22.994741                 15.816473   \n",
      "\n",
      "   hospitalized_observable_state  dead_observable_state  timepoint_notional  \n",
      "0                       0.228120               0.000000            0.000000  \n",
      "1                       0.542552               0.004159            1.020408  \n",
      "2                       0.855617               0.014050            2.040816  \n",
      "3                       1.126368               0.029648            3.061224  \n",
      "4                       1.339658               0.050182            4.081633  \n",
      "Index(['timepoint_id', 'sample_id', 'persistent_beta_c_param',\n",
      "       'persistent_kappa_param', 'persistent_gamma_param',\n",
      "       'persistent_hosp_param', 'persistent_death_hosp_param',\n",
      "       'persistent_I0_param', 'D_state', 'E_state', 'H_state', 'I_state',\n",
      "       'R_state', 'S_state', 'infected_observable_state',\n",
      "       'exposed_observable_state', 'hospitalized_observable_state',\n",
      "       'dead_observable_state', 'timepoint_notional'],\n",
      "      dtype='object')\n"
     ]
    },
    {
     "data": {
      "text/html": [
       "<div>\n",
       "<style scoped>\n",
       "    .dataframe tbody tr th:only-of-type {\n",
       "        vertical-align: middle;\n",
       "    }\n",
       "\n",
       "    .dataframe tbody tr th {\n",
       "        vertical-align: top;\n",
       "    }\n",
       "\n",
       "    .dataframe thead th {\n",
       "        text-align: right;\n",
       "    }\n",
       "</style>\n",
       "<table border=\"1\" class=\"dataframe\">\n",
       "  <thead>\n",
       "    <tr style=\"text-align: right;\">\n",
       "      <th></th>\n",
       "      <th>timepoint_id</th>\n",
       "      <th>sample_id</th>\n",
       "      <th>infected_observable_state</th>\n",
       "    </tr>\n",
       "  </thead>\n",
       "  <tbody>\n",
       "    <tr>\n",
       "      <th>0</th>\n",
       "      <td>0</td>\n",
       "      <td>0</td>\n",
       "      <td>19.609041</td>\n",
       "    </tr>\n",
       "    <tr>\n",
       "      <th>1</th>\n",
       "      <td>1</td>\n",
       "      <td>0</td>\n",
       "      <td>22.959484</td>\n",
       "    </tr>\n",
       "    <tr>\n",
       "      <th>2</th>\n",
       "      <td>2</td>\n",
       "      <td>0</td>\n",
       "      <td>24.065012</td>\n",
       "    </tr>\n",
       "    <tr>\n",
       "      <th>3</th>\n",
       "      <td>3</td>\n",
       "      <td>0</td>\n",
       "      <td>23.884687</td>\n",
       "    </tr>\n",
       "    <tr>\n",
       "      <th>4</th>\n",
       "      <td>4</td>\n",
       "      <td>0</td>\n",
       "      <td>22.994741</td>\n",
       "    </tr>\n",
       "    <tr>\n",
       "      <th>...</th>\n",
       "      <td>...</td>\n",
       "      <td>...</td>\n",
       "      <td>...</td>\n",
       "    </tr>\n",
       "    <tr>\n",
       "      <th>2965</th>\n",
       "      <td>94</td>\n",
       "      <td>29</td>\n",
       "      <td>0.000162</td>\n",
       "    </tr>\n",
       "    <tr>\n",
       "      <th>2966</th>\n",
       "      <td>95</td>\n",
       "      <td>29</td>\n",
       "      <td>0.000130</td>\n",
       "    </tr>\n",
       "    <tr>\n",
       "      <th>2967</th>\n",
       "      <td>96</td>\n",
       "      <td>29</td>\n",
       "      <td>0.000104</td>\n",
       "    </tr>\n",
       "    <tr>\n",
       "      <th>2968</th>\n",
       "      <td>97</td>\n",
       "      <td>29</td>\n",
       "      <td>0.000083</td>\n",
       "    </tr>\n",
       "    <tr>\n",
       "      <th>2969</th>\n",
       "      <td>98</td>\n",
       "      <td>29</td>\n",
       "      <td>0.000066</td>\n",
       "    </tr>\n",
       "  </tbody>\n",
       "</table>\n",
       "<p>2970 rows × 3 columns</p>\n",
       "</div>"
      ],
      "text/plain": [
       "      timepoint_id  sample_id  infected_observable_state\n",
       "0                0          0                  19.609041\n",
       "1                1          0                  22.959484\n",
       "2                2          0                  24.065012\n",
       "3                3          0                  23.884687\n",
       "4                4          0                  22.994741\n",
       "...            ...        ...                        ...\n",
       "2965            94         29                   0.000162\n",
       "2966            95         29                   0.000130\n",
       "2967            96         29                   0.000104\n",
       "2968            97         29                   0.000083\n",
       "2969            98         29                   0.000066\n",
       "\n",
       "[2970 rows x 3 columns]"
      ]
     },
     "execution_count": 6,
     "metadata": {},
     "output_type": "execute_result"
    }
   ],
   "source": [
    "def distributions():\n",
    "    model_1_path = (\n",
    "            \"https://raw.githubusercontent.com/DARPA-ASKEM/simulation-integration\"\n",
    "            \"/main/data/models/SEIRHD_NPI_Type1_petrinet.json\"\n",
    "    )\n",
    "    start_time = 0.0\n",
    "    end_time = 100.0\n",
    "    logging_step_size = 1\n",
    "    num_samples = 30\n",
    "    sample = pyciemss.sample(\n",
    "        model_1_path,\n",
    "        end_time,\n",
    "        logging_step_size,\n",
    "        num_samples,\n",
    "        start_time=start_time,\n",
    "        solver_method=\"euler\",\n",
    "    )[\"unprocessed_result\"]\n",
    "\n",
    "    for e in sample.values():\n",
    "        if len(e.shape) > 1:\n",
    "            num_timepoints = e.shape[1]\n",
    "\n",
    "    return convert_to_output_format(\n",
    "        sample,\n",
    "        timepoints=np.linspace(start_time, end_time, num_timepoints),\n",
    "        time_unit=\"notional\",\n",
    "    )\n",
    "\n",
    "distributions = distributions()\n",
    "print(distributions.head())\n",
    "print(distributions.columns)\n",
    "all_columns = [\"timepoint_id\", \"sample_id\", 'infected_observable_state',\n",
    "       'exposed_observable_state', 'hospitalized_observable_state',\n",
    "       'dead_observable_state']\n",
    "all_columns = [\"timepoint_id\", \"sample_id\", 'infected_observable_state']\n",
    "\n",
    "distributions = distributions[all_columns]\n",
    "distributions"
   ]
  },
  {
   "cell_type": "code",
   "execution_count": null,
   "metadata": {},
   "outputs": [
    {
     "ename": "FileNotFoundError",
     "evalue": "[Errno 2] No such file or directory: 'paper_sine_05/paper_sine_05_new_df.csv'",
     "output_type": "error",
     "traceback": [
      "\u001b[0;31m---------------------------------------------------------------------------\u001b[0m",
      "\u001b[0;31mFileNotFoundError\u001b[0m                         Traceback (most recent call last)",
      "Cell \u001b[0;32mIn[13], line 2\u001b[0m\n\u001b[1;32m      1\u001b[0m \u001b[38;5;66;03m#'timepoint_id', 'sample_id'\u001b[39;00m\n\u001b[0;32m----> 2\u001b[0m sine_distribution \u001b[38;5;241m=\u001b[39m \u001b[43mpd\u001b[49m\u001b[38;5;241;43m.\u001b[39;49m\u001b[43mread_csv\u001b[49m\u001b[43m(\u001b[49m\u001b[38;5;124;43m\"\u001b[39;49m\u001b[38;5;124;43mpaper_sine_05/paper_sine_05_new_df.csv\u001b[39;49m\u001b[38;5;124;43m\"\u001b[39;49m\u001b[43m)\u001b[49m\n\u001b[1;32m      3\u001b[0m sine_distribution \u001b[38;5;241m=\u001b[39m sine_distribution\u001b[38;5;241m.\u001b[39mrename(\n\u001b[1;32m      4\u001b[0m             columns\u001b[38;5;241m=\u001b[39m{\n\u001b[1;32m      5\u001b[0m                 \u001b[38;5;124m'\u001b[39m\u001b[38;5;124mUnnamed: 0.1\u001b[39m\u001b[38;5;124m'\u001b[39m: \u001b[38;5;124m\"\u001b[39m\u001b[38;5;124mtimepoint_id\u001b[39m\u001b[38;5;124m\"\u001b[39m,\n\u001b[1;32m      6\u001b[0m                 \u001b[38;5;124m'\u001b[39m\u001b[38;5;124mUnnamed: 0\u001b[39m\u001b[38;5;124m'\u001b[39m: \u001b[38;5;124m\"\u001b[39m\u001b[38;5;124m100\u001b[39m\u001b[38;5;124m\"\u001b[39m,\n\u001b[1;32m      7\u001b[0m             }\n\u001b[1;32m      8\u001b[0m         )\n\u001b[1;32m      9\u001b[0m sine_distribution \u001b[38;5;241m=\u001b[39m sine_distribution\u001b[38;5;241m.\u001b[39mmelt(id_vars\u001b[38;5;241m=\u001b[39m[\u001b[38;5;124m\"\u001b[39m\u001b[38;5;124mtimepoint_id\u001b[39m\u001b[38;5;124m\"\u001b[39m], \n\u001b[1;32m     10\u001b[0m         var_name\u001b[38;5;241m=\u001b[39m\u001b[38;5;124m\"\u001b[39m\u001b[38;5;124msample_id\u001b[39m\u001b[38;5;124m\"\u001b[39m, \n\u001b[1;32m     11\u001b[0m         value_name\u001b[38;5;241m=\u001b[39m\u001b[38;5;124m\"\u001b[39m\u001b[38;5;124msame_stat_state\u001b[39m\u001b[38;5;124m\"\u001b[39m)\n",
      "File \u001b[0;32m~/opt/anaconda3/envs/pyciems310/lib/python3.10/site-packages/pandas/io/parsers/readers.py:1026\u001b[0m, in \u001b[0;36mread_csv\u001b[0;34m(filepath_or_buffer, sep, delimiter, header, names, index_col, usecols, dtype, engine, converters, true_values, false_values, skipinitialspace, skiprows, skipfooter, nrows, na_values, keep_default_na, na_filter, verbose, skip_blank_lines, parse_dates, infer_datetime_format, keep_date_col, date_parser, date_format, dayfirst, cache_dates, iterator, chunksize, compression, thousands, decimal, lineterminator, quotechar, quoting, doublequote, escapechar, comment, encoding, encoding_errors, dialect, on_bad_lines, delim_whitespace, low_memory, memory_map, float_precision, storage_options, dtype_backend)\u001b[0m\n\u001b[1;32m   1013\u001b[0m kwds_defaults \u001b[38;5;241m=\u001b[39m _refine_defaults_read(\n\u001b[1;32m   1014\u001b[0m     dialect,\n\u001b[1;32m   1015\u001b[0m     delimiter,\n\u001b[0;32m   (...)\u001b[0m\n\u001b[1;32m   1022\u001b[0m     dtype_backend\u001b[38;5;241m=\u001b[39mdtype_backend,\n\u001b[1;32m   1023\u001b[0m )\n\u001b[1;32m   1024\u001b[0m kwds\u001b[38;5;241m.\u001b[39mupdate(kwds_defaults)\n\u001b[0;32m-> 1026\u001b[0m \u001b[38;5;28;01mreturn\u001b[39;00m \u001b[43m_read\u001b[49m\u001b[43m(\u001b[49m\u001b[43mfilepath_or_buffer\u001b[49m\u001b[43m,\u001b[49m\u001b[43m \u001b[49m\u001b[43mkwds\u001b[49m\u001b[43m)\u001b[49m\n",
      "File \u001b[0;32m~/opt/anaconda3/envs/pyciems310/lib/python3.10/site-packages/pandas/io/parsers/readers.py:620\u001b[0m, in \u001b[0;36m_read\u001b[0;34m(filepath_or_buffer, kwds)\u001b[0m\n\u001b[1;32m    617\u001b[0m _validate_names(kwds\u001b[38;5;241m.\u001b[39mget(\u001b[38;5;124m\"\u001b[39m\u001b[38;5;124mnames\u001b[39m\u001b[38;5;124m\"\u001b[39m, \u001b[38;5;28;01mNone\u001b[39;00m))\n\u001b[1;32m    619\u001b[0m \u001b[38;5;66;03m# Create the parser.\u001b[39;00m\n\u001b[0;32m--> 620\u001b[0m parser \u001b[38;5;241m=\u001b[39m \u001b[43mTextFileReader\u001b[49m\u001b[43m(\u001b[49m\u001b[43mfilepath_or_buffer\u001b[49m\u001b[43m,\u001b[49m\u001b[43m \u001b[49m\u001b[38;5;241;43m*\u001b[39;49m\u001b[38;5;241;43m*\u001b[39;49m\u001b[43mkwds\u001b[49m\u001b[43m)\u001b[49m\n\u001b[1;32m    622\u001b[0m \u001b[38;5;28;01mif\u001b[39;00m chunksize \u001b[38;5;129;01mor\u001b[39;00m iterator:\n\u001b[1;32m    623\u001b[0m     \u001b[38;5;28;01mreturn\u001b[39;00m parser\n",
      "File \u001b[0;32m~/opt/anaconda3/envs/pyciems310/lib/python3.10/site-packages/pandas/io/parsers/readers.py:1620\u001b[0m, in \u001b[0;36mTextFileReader.__init__\u001b[0;34m(self, f, engine, **kwds)\u001b[0m\n\u001b[1;32m   1617\u001b[0m     \u001b[38;5;28mself\u001b[39m\u001b[38;5;241m.\u001b[39moptions[\u001b[38;5;124m\"\u001b[39m\u001b[38;5;124mhas_index_names\u001b[39m\u001b[38;5;124m\"\u001b[39m] \u001b[38;5;241m=\u001b[39m kwds[\u001b[38;5;124m\"\u001b[39m\u001b[38;5;124mhas_index_names\u001b[39m\u001b[38;5;124m\"\u001b[39m]\n\u001b[1;32m   1619\u001b[0m \u001b[38;5;28mself\u001b[39m\u001b[38;5;241m.\u001b[39mhandles: IOHandles \u001b[38;5;241m|\u001b[39m \u001b[38;5;28;01mNone\u001b[39;00m \u001b[38;5;241m=\u001b[39m \u001b[38;5;28;01mNone\u001b[39;00m\n\u001b[0;32m-> 1620\u001b[0m \u001b[38;5;28mself\u001b[39m\u001b[38;5;241m.\u001b[39m_engine \u001b[38;5;241m=\u001b[39m \u001b[38;5;28;43mself\u001b[39;49m\u001b[38;5;241;43m.\u001b[39;49m\u001b[43m_make_engine\u001b[49m\u001b[43m(\u001b[49m\u001b[43mf\u001b[49m\u001b[43m,\u001b[49m\u001b[43m \u001b[49m\u001b[38;5;28;43mself\u001b[39;49m\u001b[38;5;241;43m.\u001b[39;49m\u001b[43mengine\u001b[49m\u001b[43m)\u001b[49m\n",
      "File \u001b[0;32m~/opt/anaconda3/envs/pyciems310/lib/python3.10/site-packages/pandas/io/parsers/readers.py:1880\u001b[0m, in \u001b[0;36mTextFileReader._make_engine\u001b[0;34m(self, f, engine)\u001b[0m\n\u001b[1;32m   1878\u001b[0m     \u001b[38;5;28;01mif\u001b[39;00m \u001b[38;5;124m\"\u001b[39m\u001b[38;5;124mb\u001b[39m\u001b[38;5;124m\"\u001b[39m \u001b[38;5;129;01mnot\u001b[39;00m \u001b[38;5;129;01min\u001b[39;00m mode:\n\u001b[1;32m   1879\u001b[0m         mode \u001b[38;5;241m+\u001b[39m\u001b[38;5;241m=\u001b[39m \u001b[38;5;124m\"\u001b[39m\u001b[38;5;124mb\u001b[39m\u001b[38;5;124m\"\u001b[39m\n\u001b[0;32m-> 1880\u001b[0m \u001b[38;5;28mself\u001b[39m\u001b[38;5;241m.\u001b[39mhandles \u001b[38;5;241m=\u001b[39m \u001b[43mget_handle\u001b[49m\u001b[43m(\u001b[49m\n\u001b[1;32m   1881\u001b[0m \u001b[43m    \u001b[49m\u001b[43mf\u001b[49m\u001b[43m,\u001b[49m\n\u001b[1;32m   1882\u001b[0m \u001b[43m    \u001b[49m\u001b[43mmode\u001b[49m\u001b[43m,\u001b[49m\n\u001b[1;32m   1883\u001b[0m \u001b[43m    \u001b[49m\u001b[43mencoding\u001b[49m\u001b[38;5;241;43m=\u001b[39;49m\u001b[38;5;28;43mself\u001b[39;49m\u001b[38;5;241;43m.\u001b[39;49m\u001b[43moptions\u001b[49m\u001b[38;5;241;43m.\u001b[39;49m\u001b[43mget\u001b[49m\u001b[43m(\u001b[49m\u001b[38;5;124;43m\"\u001b[39;49m\u001b[38;5;124;43mencoding\u001b[39;49m\u001b[38;5;124;43m\"\u001b[39;49m\u001b[43m,\u001b[49m\u001b[43m \u001b[49m\u001b[38;5;28;43;01mNone\u001b[39;49;00m\u001b[43m)\u001b[49m\u001b[43m,\u001b[49m\n\u001b[1;32m   1884\u001b[0m \u001b[43m    \u001b[49m\u001b[43mcompression\u001b[49m\u001b[38;5;241;43m=\u001b[39;49m\u001b[38;5;28;43mself\u001b[39;49m\u001b[38;5;241;43m.\u001b[39;49m\u001b[43moptions\u001b[49m\u001b[38;5;241;43m.\u001b[39;49m\u001b[43mget\u001b[49m\u001b[43m(\u001b[49m\u001b[38;5;124;43m\"\u001b[39;49m\u001b[38;5;124;43mcompression\u001b[39;49m\u001b[38;5;124;43m\"\u001b[39;49m\u001b[43m,\u001b[49m\u001b[43m \u001b[49m\u001b[38;5;28;43;01mNone\u001b[39;49;00m\u001b[43m)\u001b[49m\u001b[43m,\u001b[49m\n\u001b[1;32m   1885\u001b[0m \u001b[43m    \u001b[49m\u001b[43mmemory_map\u001b[49m\u001b[38;5;241;43m=\u001b[39;49m\u001b[38;5;28;43mself\u001b[39;49m\u001b[38;5;241;43m.\u001b[39;49m\u001b[43moptions\u001b[49m\u001b[38;5;241;43m.\u001b[39;49m\u001b[43mget\u001b[49m\u001b[43m(\u001b[49m\u001b[38;5;124;43m\"\u001b[39;49m\u001b[38;5;124;43mmemory_map\u001b[39;49m\u001b[38;5;124;43m\"\u001b[39;49m\u001b[43m,\u001b[49m\u001b[43m \u001b[49m\u001b[38;5;28;43;01mFalse\u001b[39;49;00m\u001b[43m)\u001b[49m\u001b[43m,\u001b[49m\n\u001b[1;32m   1886\u001b[0m \u001b[43m    \u001b[49m\u001b[43mis_text\u001b[49m\u001b[38;5;241;43m=\u001b[39;49m\u001b[43mis_text\u001b[49m\u001b[43m,\u001b[49m\n\u001b[1;32m   1887\u001b[0m \u001b[43m    \u001b[49m\u001b[43merrors\u001b[49m\u001b[38;5;241;43m=\u001b[39;49m\u001b[38;5;28;43mself\u001b[39;49m\u001b[38;5;241;43m.\u001b[39;49m\u001b[43moptions\u001b[49m\u001b[38;5;241;43m.\u001b[39;49m\u001b[43mget\u001b[49m\u001b[43m(\u001b[49m\u001b[38;5;124;43m\"\u001b[39;49m\u001b[38;5;124;43mencoding_errors\u001b[39;49m\u001b[38;5;124;43m\"\u001b[39;49m\u001b[43m,\u001b[49m\u001b[43m \u001b[49m\u001b[38;5;124;43m\"\u001b[39;49m\u001b[38;5;124;43mstrict\u001b[39;49m\u001b[38;5;124;43m\"\u001b[39;49m\u001b[43m)\u001b[49m\u001b[43m,\u001b[49m\n\u001b[1;32m   1888\u001b[0m \u001b[43m    \u001b[49m\u001b[43mstorage_options\u001b[49m\u001b[38;5;241;43m=\u001b[39;49m\u001b[38;5;28;43mself\u001b[39;49m\u001b[38;5;241;43m.\u001b[39;49m\u001b[43moptions\u001b[49m\u001b[38;5;241;43m.\u001b[39;49m\u001b[43mget\u001b[49m\u001b[43m(\u001b[49m\u001b[38;5;124;43m\"\u001b[39;49m\u001b[38;5;124;43mstorage_options\u001b[39;49m\u001b[38;5;124;43m\"\u001b[39;49m\u001b[43m,\u001b[49m\u001b[43m \u001b[49m\u001b[38;5;28;43;01mNone\u001b[39;49;00m\u001b[43m)\u001b[49m\u001b[43m,\u001b[49m\n\u001b[1;32m   1889\u001b[0m \u001b[43m\u001b[49m\u001b[43m)\u001b[49m\n\u001b[1;32m   1890\u001b[0m \u001b[38;5;28;01massert\u001b[39;00m \u001b[38;5;28mself\u001b[39m\u001b[38;5;241m.\u001b[39mhandles \u001b[38;5;129;01mis\u001b[39;00m \u001b[38;5;129;01mnot\u001b[39;00m \u001b[38;5;28;01mNone\u001b[39;00m\n\u001b[1;32m   1891\u001b[0m f \u001b[38;5;241m=\u001b[39m \u001b[38;5;28mself\u001b[39m\u001b[38;5;241m.\u001b[39mhandles\u001b[38;5;241m.\u001b[39mhandle\n",
      "File \u001b[0;32m~/opt/anaconda3/envs/pyciems310/lib/python3.10/site-packages/pandas/io/common.py:873\u001b[0m, in \u001b[0;36mget_handle\u001b[0;34m(path_or_buf, mode, encoding, compression, memory_map, is_text, errors, storage_options)\u001b[0m\n\u001b[1;32m    868\u001b[0m \u001b[38;5;28;01melif\u001b[39;00m \u001b[38;5;28misinstance\u001b[39m(handle, \u001b[38;5;28mstr\u001b[39m):\n\u001b[1;32m    869\u001b[0m     \u001b[38;5;66;03m# Check whether the filename is to be opened in binary mode.\u001b[39;00m\n\u001b[1;32m    870\u001b[0m     \u001b[38;5;66;03m# Binary mode does not support 'encoding' and 'newline'.\u001b[39;00m\n\u001b[1;32m    871\u001b[0m     \u001b[38;5;28;01mif\u001b[39;00m ioargs\u001b[38;5;241m.\u001b[39mencoding \u001b[38;5;129;01mand\u001b[39;00m \u001b[38;5;124m\"\u001b[39m\u001b[38;5;124mb\u001b[39m\u001b[38;5;124m\"\u001b[39m \u001b[38;5;129;01mnot\u001b[39;00m \u001b[38;5;129;01min\u001b[39;00m ioargs\u001b[38;5;241m.\u001b[39mmode:\n\u001b[1;32m    872\u001b[0m         \u001b[38;5;66;03m# Encoding\u001b[39;00m\n\u001b[0;32m--> 873\u001b[0m         handle \u001b[38;5;241m=\u001b[39m \u001b[38;5;28;43mopen\u001b[39;49m\u001b[43m(\u001b[49m\n\u001b[1;32m    874\u001b[0m \u001b[43m            \u001b[49m\u001b[43mhandle\u001b[49m\u001b[43m,\u001b[49m\n\u001b[1;32m    875\u001b[0m \u001b[43m            \u001b[49m\u001b[43mioargs\u001b[49m\u001b[38;5;241;43m.\u001b[39;49m\u001b[43mmode\u001b[49m\u001b[43m,\u001b[49m\n\u001b[1;32m    876\u001b[0m \u001b[43m            \u001b[49m\u001b[43mencoding\u001b[49m\u001b[38;5;241;43m=\u001b[39;49m\u001b[43mioargs\u001b[49m\u001b[38;5;241;43m.\u001b[39;49m\u001b[43mencoding\u001b[49m\u001b[43m,\u001b[49m\n\u001b[1;32m    877\u001b[0m \u001b[43m            \u001b[49m\u001b[43merrors\u001b[49m\u001b[38;5;241;43m=\u001b[39;49m\u001b[43merrors\u001b[49m\u001b[43m,\u001b[49m\n\u001b[1;32m    878\u001b[0m \u001b[43m            \u001b[49m\u001b[43mnewline\u001b[49m\u001b[38;5;241;43m=\u001b[39;49m\u001b[38;5;124;43m\"\u001b[39;49m\u001b[38;5;124;43m\"\u001b[39;49m\u001b[43m,\u001b[49m\n\u001b[1;32m    879\u001b[0m \u001b[43m        \u001b[49m\u001b[43m)\u001b[49m\n\u001b[1;32m    880\u001b[0m     \u001b[38;5;28;01melse\u001b[39;00m:\n\u001b[1;32m    881\u001b[0m         \u001b[38;5;66;03m# Binary mode\u001b[39;00m\n\u001b[1;32m    882\u001b[0m         handle \u001b[38;5;241m=\u001b[39m \u001b[38;5;28mopen\u001b[39m(handle, ioargs\u001b[38;5;241m.\u001b[39mmode)\n",
      "\u001b[0;31mFileNotFoundError\u001b[0m: [Errno 2] No such file or directory: 'paper_sine_05/paper_sine_05_new_df.csv'"
     ]
    }
   ],
   "source": [
    "#'timepoint_id', 'sample_id'\n",
    "sine_distribution = pd.read_csv(\"paper_sine_05/paper_sine_05_new_df.csv\")\n",
    "sine_distribution = sine_distribution.rename(\n",
    "            columns={\n",
    "                'Unnamed: 0.1': \"timepoint_id\",\n",
    "                'Unnamed: 0': \"100\",\n",
    "            }\n",
    "        )\n",
    "sine_distribution = sine_distribution.melt(id_vars=[\"timepoint_id\"], \n",
    "        var_name=\"sample_id\", \n",
    "        value_name=\"same_stat_state\")\n",
    "\n",
    "traces_list = []   \n",
    " \n",
    "#select_by \"mean\", \"var\", \"granger\"\n",
    "for select_by in ['mean', 'var', 'granger']:\n",
    "    examplary_line, mean_line_df = pyciemss.visuals.trajectories.select_traces(sine_distribution, select_by = select_by,  kmean=True)\n",
    "    traces_list.append(examplary_line)\n",
    "\n",
    "\n",
    "new_df = pd.concat(traces_list, axis = 1)\n",
    "combined_df = pd.concat([new_df, mean_line_df], axis =1)\n",
    "\n",
    "schema = plots.trajectories(sine_distribution, traces = combined_df,  keep=\".*_state\")\n",
    "\n",
    "plots.save_schema(schema, \"_schema.json\")\n",
    "\n",
    "plots.ipy_display(schema, format=\"interactive\")"
   ]
  }
 ],
 "metadata": {
  "kernelspec": {
   "display_name": "py310_cfg",
   "language": "python",
   "name": "python3"
  },
  "language_info": {
   "codemirror_mode": {
    "name": "ipython",
    "version": 3
   },
   "file_extension": ".py",
   "mimetype": "text/x-python",
   "name": "python",
   "nbconvert_exporter": "python",
   "pygments_lexer": "ipython3",
   "version": "3.10.13"
  }
 },
 "nbformat": 4,
 "nbformat_minor": 2
}
