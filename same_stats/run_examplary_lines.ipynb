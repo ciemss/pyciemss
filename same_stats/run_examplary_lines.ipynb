{
 "cells": [
  {
   "cell_type": "code",
   "execution_count": 2,
   "metadata": {},
   "outputs": [
    {
     "name": "stderr",
     "output_type": "stream",
     "text": [
      "/Users/oost464/opt/anaconda3/envs/pyciems310/lib/python3.10/site-packages/threadpoolctl.py:1223: RuntimeWarning: \n",
      "Found Intel OpenMP ('libiomp') and LLVM OpenMP ('libomp') loaded at\n",
      "the same time. Both libraries are known to be incompatible and this\n",
      "can cause random crashes or deadlocks on Linux when loaded in the\n",
      "same Python program.\n",
      "Using threadpoolctl may cause crashes or deadlocks. For more\n",
      "information and possible workarounds, please see\n",
      "    https://github.com/joblib/threadpoolctl/blob/master/multiple_openmp.md\n",
      "\n",
      "  warnings.warn(msg, RuntimeWarning)\n",
      "/Users/oost464/opt/anaconda3/envs/pyciems310/lib/python3.10/site-packages/tslearn/bases/bases.py:15: UserWarning: h5py not installed, hdf5 features will not be supported.\n",
      "Install h5py to use hdf5 features: http://docs.h5py.org/\n",
      "  warn(h5py_msg)\n"
     ]
    }
   ],
   "source": [
    "import json\n",
    "import random\n",
    "from itertools import chain\n",
    "from pathlib import Path\n",
    "import os\n",
    "import networkx as nx\n",
    "import numpy as np\n",
    "import pandas as pd\n",
    "import pytest\n",
    "\n",
    "import pyciemss\n",
    "from pyciemss.integration_utils.result_processing import convert_to_output_format\n",
    "from pyciemss.visuals import plots, vega\n",
    "\n"
   ]
  },
  {
   "cell_type": "code",
   "execution_count": 6,
   "metadata": {},
   "outputs": [
    {
     "name": "stdout",
     "output_type": "stream",
     "text": [
      "Init 1\n"
     ]
    },
    {
     "name": "stderr",
     "output_type": "stream",
     "text": [
      "[Parallel(n_jobs=1)]: Done  49 tasks      | elapsed:    0.0s\n",
      "[Parallel(n_jobs=1)]: Done 199 tasks      | elapsed:    0.0s\n",
      "[Parallel(n_jobs=1)]: Done  49 tasks      | elapsed:    0.0s\n",
      "[Parallel(n_jobs=1)]: Done 199 tasks      | elapsed:    0.1s\n",
      "[Parallel(n_jobs=1)]: Done 449 tasks      | elapsed:    0.2s\n",
      "[Parallel(n_jobs=1)]: Done 799 tasks      | elapsed:    0.3s\n",
      "[Parallel(n_jobs=1)]: Done  49 tasks      | elapsed:    0.0s\n",
      "[Parallel(n_jobs=1)]: Done 199 tasks      | elapsed:    0.1s\n",
      "[Parallel(n_jobs=1)]: Done 449 tasks      | elapsed:    0.1s\n",
      "[Parallel(n_jobs=1)]: Done 799 tasks      | elapsed:    0.2s\n",
      "[Parallel(n_jobs=1)]: Done  49 tasks      | elapsed:    0.0s\n",
      "[Parallel(n_jobs=1)]: Done 199 tasks      | elapsed:    0.0s\n",
      "[Parallel(n_jobs=1)]: Done 449 tasks      | elapsed:    0.1s\n",
      "[Parallel(n_jobs=1)]: Done 799 tasks      | elapsed:    0.2s\n",
      "[Parallel(n_jobs=1)]: Done  49 tasks      | elapsed:    0.0s\n",
      "[Parallel(n_jobs=1)]: Done 199 tasks      | elapsed:    0.0s\n",
      "[Parallel(n_jobs=1)]: Done 449 tasks      | elapsed:    0.1s\n",
      "[Parallel(n_jobs=1)]: Done 799 tasks      | elapsed:    0.2s\n",
      "[Parallel(n_jobs=1)]: Done 1249 tasks      | elapsed:    0.3s\n"
     ]
    },
    {
     "name": "stdout",
     "output_type": "stream",
     "text": [
      "26.552 --> "
     ]
    },
    {
     "name": "stderr",
     "output_type": "stream",
     "text": [
      "[Parallel(n_jobs=1)]: Done  49 tasks      | elapsed:    0.0s\n",
      "[Parallel(n_jobs=1)]: Done 199 tasks      | elapsed:    0.0s\n",
      "[Parallel(n_jobs=1)]: Done 449 tasks      | elapsed:    0.1s\n",
      "[Parallel(n_jobs=1)]: Done 799 tasks      | elapsed:    0.2s\n",
      "[Parallel(n_jobs=1)]: Done 1249 tasks      | elapsed:    0.3s\n"
     ]
    },
    {
     "name": "stdout",
     "output_type": "stream",
     "text": [
      "13.393 --> "
     ]
    },
    {
     "name": "stderr",
     "output_type": "stream",
     "text": [
      "[Parallel(n_jobs=1)]: Done  49 tasks      | elapsed:    0.0s\n",
      "[Parallel(n_jobs=1)]: Done 199 tasks      | elapsed:    0.0s\n",
      "[Parallel(n_jobs=1)]: Done 449 tasks      | elapsed:    0.1s\n",
      "[Parallel(n_jobs=1)]: Done 799 tasks      | elapsed:    0.2s\n",
      "[Parallel(n_jobs=1)]: Done 1249 tasks      | elapsed:    0.3s\n"
     ]
    },
    {
     "name": "stdout",
     "output_type": "stream",
     "text": [
      "13.153 --> "
     ]
    },
    {
     "name": "stderr",
     "output_type": "stream",
     "text": [
      "[Parallel(n_jobs=1)]: Done  49 tasks      | elapsed:    0.0s\n",
      "[Parallel(n_jobs=1)]: Done 199 tasks      | elapsed:    0.0s\n",
      "[Parallel(n_jobs=1)]: Done 449 tasks      | elapsed:    0.1s\n",
      "[Parallel(n_jobs=1)]: Done 799 tasks      | elapsed:    0.2s\n",
      "[Parallel(n_jobs=1)]: Done 1249 tasks      | elapsed:    0.3s\n"
     ]
    },
    {
     "name": "stdout",
     "output_type": "stream",
     "text": [
      "13.120 --> "
     ]
    },
    {
     "name": "stderr",
     "output_type": "stream",
     "text": [
      "[Parallel(n_jobs=1)]: Done  49 tasks      | elapsed:    0.0s\n",
      "[Parallel(n_jobs=1)]: Done 199 tasks      | elapsed:    0.0s\n",
      "[Parallel(n_jobs=1)]: Done 449 tasks      | elapsed:    0.1s\n",
      "[Parallel(n_jobs=1)]: Done 799 tasks      | elapsed:    0.2s\n",
      "[Parallel(n_jobs=1)]: Done 1249 tasks      | elapsed:    0.3s\n"
     ]
    },
    {
     "name": "stdout",
     "output_type": "stream",
     "text": [
      "12.990 --> "
     ]
    },
    {
     "name": "stderr",
     "output_type": "stream",
     "text": [
      "[Parallel(n_jobs=1)]: Done  49 tasks      | elapsed:    0.0s\n",
      "[Parallel(n_jobs=1)]: Done 199 tasks      | elapsed:    0.1s\n",
      "[Parallel(n_jobs=1)]: Done 449 tasks      | elapsed:    0.1s\n",
      "[Parallel(n_jobs=1)]: Done 799 tasks      | elapsed:    0.2s\n",
      "[Parallel(n_jobs=1)]: Done 1249 tasks      | elapsed:    0.3s\n"
     ]
    },
    {
     "name": "stdout",
     "output_type": "stream",
     "text": [
      "12.989 --> "
     ]
    },
    {
     "name": "stderr",
     "output_type": "stream",
     "text": [
      "[Parallel(n_jobs=1)]: Done  49 tasks      | elapsed:    0.0s\n",
      "[Parallel(n_jobs=1)]: Done 199 tasks      | elapsed:    0.0s\n",
      "[Parallel(n_jobs=1)]: Done 449 tasks      | elapsed:    0.1s\n",
      "[Parallel(n_jobs=1)]: Done 799 tasks      | elapsed:    0.2s\n",
      "[Parallel(n_jobs=1)]: Done 1249 tasks      | elapsed:    0.2s\n"
     ]
    },
    {
     "name": "stdout",
     "output_type": "stream",
     "text": [
      "12.989 --> \n",
      "Init 2\n"
     ]
    },
    {
     "name": "stderr",
     "output_type": "stream",
     "text": [
      "[Parallel(n_jobs=1)]: Done  49 tasks      | elapsed:    0.0s\n",
      "[Parallel(n_jobs=1)]: Done 199 tasks      | elapsed:    0.0s\n",
      "[Parallel(n_jobs=1)]: Done  49 tasks      | elapsed:    0.0s\n",
      "[Parallel(n_jobs=1)]: Done 199 tasks      | elapsed:    0.0s\n",
      "[Parallel(n_jobs=1)]: Done 449 tasks      | elapsed:    0.1s\n",
      "[Parallel(n_jobs=1)]: Done 799 tasks      | elapsed:    0.2s\n",
      "[Parallel(n_jobs=1)]: Done  49 tasks      | elapsed:    0.0s\n",
      "[Parallel(n_jobs=1)]: Done 199 tasks      | elapsed:    0.0s\n",
      "[Parallel(n_jobs=1)]: Done 449 tasks      | elapsed:    0.1s\n",
      "[Parallel(n_jobs=1)]: Done 799 tasks      | elapsed:    0.2s\n",
      "[Parallel(n_jobs=1)]: Done  49 tasks      | elapsed:    0.0s\n",
      "[Parallel(n_jobs=1)]: Done 199 tasks      | elapsed:    0.0s\n",
      "[Parallel(n_jobs=1)]: Done 449 tasks      | elapsed:    0.1s\n",
      "[Parallel(n_jobs=1)]: Done 799 tasks      | elapsed:    0.2s\n",
      "[Parallel(n_jobs=1)]: Done  49 tasks      | elapsed:    0.0s\n",
      "[Parallel(n_jobs=1)]: Done 199 tasks      | elapsed:    0.0s\n",
      "[Parallel(n_jobs=1)]: Done 449 tasks      | elapsed:    0.1s\n",
      "[Parallel(n_jobs=1)]: Done 799 tasks      | elapsed:    0.2s\n",
      "[Parallel(n_jobs=1)]: Done 1249 tasks      | elapsed:    0.4s\n"
     ]
    },
    {
     "name": "stdout",
     "output_type": "stream",
     "text": [
      "25.219 --> "
     ]
    },
    {
     "name": "stderr",
     "output_type": "stream",
     "text": [
      "[Parallel(n_jobs=1)]: Done  49 tasks      | elapsed:    0.0s\n",
      "[Parallel(n_jobs=1)]: Done 199 tasks      | elapsed:    0.0s\n",
      "[Parallel(n_jobs=1)]: Done 449 tasks      | elapsed:    0.1s\n",
      "[Parallel(n_jobs=1)]: Done 799 tasks      | elapsed:    0.2s\n",
      "[Parallel(n_jobs=1)]: Done 1249 tasks      | elapsed:    0.3s\n"
     ]
    },
    {
     "name": "stdout",
     "output_type": "stream",
     "text": [
      "14.908 --> "
     ]
    },
    {
     "name": "stderr",
     "output_type": "stream",
     "text": [
      "[Parallel(n_jobs=1)]: Done  49 tasks      | elapsed:    0.0s\n",
      "[Parallel(n_jobs=1)]: Done 199 tasks      | elapsed:    0.0s\n",
      "[Parallel(n_jobs=1)]: Done 449 tasks      | elapsed:    0.1s\n",
      "[Parallel(n_jobs=1)]: Done 799 tasks      | elapsed:    0.2s\n",
      "[Parallel(n_jobs=1)]: Done 1249 tasks      | elapsed:    0.3s\n"
     ]
    },
    {
     "name": "stdout",
     "output_type": "stream",
     "text": [
      "13.588 --> "
     ]
    },
    {
     "name": "stderr",
     "output_type": "stream",
     "text": [
      "[Parallel(n_jobs=1)]: Done  49 tasks      | elapsed:    0.0s\n",
      "[Parallel(n_jobs=1)]: Done 199 tasks      | elapsed:    0.0s\n",
      "[Parallel(n_jobs=1)]: Done 449 tasks      | elapsed:    0.1s\n",
      "[Parallel(n_jobs=1)]: Done 799 tasks      | elapsed:    0.2s\n",
      "[Parallel(n_jobs=1)]: Done 1249 tasks      | elapsed:    0.3s\n"
     ]
    },
    {
     "name": "stdout",
     "output_type": "stream",
     "text": [
      "13.279 --> "
     ]
    },
    {
     "name": "stderr",
     "output_type": "stream",
     "text": [
      "[Parallel(n_jobs=1)]: Done  49 tasks      | elapsed:    0.0s\n",
      "[Parallel(n_jobs=1)]: Done 199 tasks      | elapsed:    0.0s\n",
      "[Parallel(n_jobs=1)]: Done 449 tasks      | elapsed:    0.1s\n",
      "[Parallel(n_jobs=1)]: Done 799 tasks      | elapsed:    0.2s\n",
      "[Parallel(n_jobs=1)]: Done 1249 tasks      | elapsed:    0.3s\n"
     ]
    },
    {
     "name": "stdout",
     "output_type": "stream",
     "text": [
      "13.191 --> "
     ]
    },
    {
     "name": "stderr",
     "output_type": "stream",
     "text": [
      "[Parallel(n_jobs=1)]: Done  49 tasks      | elapsed:    0.0s\n",
      "[Parallel(n_jobs=1)]: Done 199 tasks      | elapsed:    0.0s\n",
      "[Parallel(n_jobs=1)]: Done 449 tasks      | elapsed:    0.1s\n",
      "[Parallel(n_jobs=1)]: Done 799 tasks      | elapsed:    0.2s\n",
      "[Parallel(n_jobs=1)]: Done 1249 tasks      | elapsed:    0.2s\n"
     ]
    },
    {
     "name": "stdout",
     "output_type": "stream",
     "text": [
      "13.184 --> "
     ]
    },
    {
     "name": "stderr",
     "output_type": "stream",
     "text": [
      "[Parallel(n_jobs=1)]: Done  49 tasks      | elapsed:    0.0s\n",
      "[Parallel(n_jobs=1)]: Done 199 tasks      | elapsed:    0.0s\n",
      "[Parallel(n_jobs=1)]: Done 449 tasks      | elapsed:    0.1s\n",
      "[Parallel(n_jobs=1)]: Done 799 tasks      | elapsed:    0.2s\n",
      "[Parallel(n_jobs=1)]: Done 1249 tasks      | elapsed:    0.3s\n"
     ]
    },
    {
     "name": "stdout",
     "output_type": "stream",
     "text": [
      "13.184 --> \n"
     ]
    },
    {
     "name": "stderr",
     "output_type": "stream",
     "text": [
      "[Parallel(n_jobs=1)]: Done  49 tasks      | elapsed:    0.0s\n",
      "[Parallel(n_jobs=1)]: Done 199 tasks      | elapsed:    0.0s\n",
      "[Parallel(n_jobs=1)]: Done 449 tasks      | elapsed:    0.1s\n",
      "[Parallel(n_jobs=1)]: Done 799 tasks      | elapsed:    0.2s\n",
      "[Parallel(n_jobs=1)]: Done 1249 tasks      | elapsed:    0.3s\n"
     ]
    },
    {
     "name": "stdout",
     "output_type": "stream",
     "text": [
      "\n",
      "Granger Causality\n",
      "number of lags (no zero) 10\n",
      "ssr based F test:         F=272.4594, p=0.0000  , df_denom=69, df_num=10\n",
      "ssr based chi2 test:   chi2=3553.8184, p=0.0000  , df=10\n",
      "likelihood ratio test: chi2=333.0880, p=0.0000  , df=10\n",
      "parameter F test:         F=337.2062, p=0.0000  , df_denom=69, df_num=6\n",
      "\n",
      "Granger Causality\n",
      "number of lags (no zero) 10\n",
      "ssr based F test:         F=272.9134, p=0.0000  , df_denom=69, df_num=10\n",
      "ssr based chi2 test:   chi2=3559.7395, p=0.0000  , df=10\n",
      "likelihood ratio test: chi2=333.2341, p=0.0000  , df=10\n",
      "parameter F test:         F=336.9833, p=0.0000  , df_denom=69, df_num=6\n",
      "\n",
      "Granger Causality\n",
      "number of lags (no zero) 10\n",
      "ssr based F test:         F=272.9871, p=0.0000  , df_denom=69, df_num=10\n",
      "ssr based chi2 test:   chi2=3560.7011, p=0.0000  , df=10\n",
      "likelihood ratio test: chi2=333.2578, p=0.0000  , df=10\n",
      "parameter F test:         F=336.1639, p=0.0000  , df_denom=69, df_num=6\n",
      "\n",
      "Granger Causality\n",
      "number of lags (no zero) 10\n",
      "ssr based F test:         F=273.0543, p=0.0000  , df_denom=69, df_num=10\n",
      "ssr based chi2 test:   chi2=3561.5782, p=0.0000  , df=10\n",
      "likelihood ratio test: chi2=333.2795, p=0.0000  , df=10\n",
      "parameter F test:         F=333.8151, p=0.0000  , df_denom=69, df_num=6\n",
      "\n",
      "Granger Causality\n",
      "number of lags (no zero) 10\n",
      "ssr based F test:         F=273.0214, p=0.0000  , df_denom=69, df_num=10\n",
      "ssr based chi2 test:   chi2=3561.1491, p=0.0000  , df=10\n",
      "likelihood ratio test: chi2=333.2689, p=0.0000  , df=10\n",
      "parameter F test:         F=333.2547, p=0.0000  , df_denom=69, df_num=6\n",
      "\n",
      "Granger Causality\n",
      "number of lags (no zero) 10\n",
      "ssr based F test:         F=273.0633, p=0.0000  , df_denom=69, df_num=10\n",
      "ssr based chi2 test:   chi2=3561.6956, p=0.0000  , df=10\n",
      "likelihood ratio test: chi2=333.2824, p=0.0000  , df=10\n",
      "parameter F test:         F=337.5951, p=0.0000  , df_denom=69, df_num=6\n",
      "\n",
      "Granger Causality\n",
      "number of lags (no zero) 10\n",
      "ssr based F test:         F=273.0596, p=0.0000  , df_denom=69, df_num=10\n",
      "ssr based chi2 test:   chi2=3561.6471, p=0.0000  , df=10\n",
      "likelihood ratio test: chi2=333.2812, p=0.0000  , df=10\n",
      "parameter F test:         F=320.7335, p=0.0000  , df_denom=69, df_num=6\n",
      "\n",
      "Granger Causality\n",
      "number of lags (no zero) 10\n",
      "ssr based F test:         F=273.0656, p=0.0000  , df_denom=69, df_num=10\n",
      "ssr based chi2 test:   chi2=3561.7249, p=0.0000  , df=10\n",
      "likelihood ratio test: chi2=333.2831, p=0.0000  , df=10\n",
      "parameter F test:         F=336.8233, p=0.0000  , df_denom=69, df_num=6\n",
      "\n",
      "Granger Causality\n",
      "number of lags (no zero) 10\n",
      "ssr based F test:         F=272.9492, p=0.0000  , df_denom=69, df_num=10\n",
      "ssr based chi2 test:   chi2=3560.2067, p=0.0000  , df=10\n",
      "likelihood ratio test: chi2=333.2456, p=0.0000  , df=10\n",
      "parameter F test:         F=334.0423, p=0.0000  , df_denom=69, df_num=6\n",
      "\n",
      "Granger Causality\n",
      "number of lags (no zero) 10\n",
      "ssr based F test:         F=272.5907, p=0.0000  , df_denom=69, df_num=10\n",
      "ssr based chi2 test:   chi2=3555.5303, p=0.0000  , df=10\n",
      "likelihood ratio test: chi2=333.1303, p=0.0000  , df=10\n",
      "parameter F test:         F=338.4227, p=0.0000  , df_denom=69, df_num=6\n",
      "\n",
      "Granger Causality\n",
      "number of lags (no zero) 10\n",
      "ssr based F test:         F=273.0170, p=0.0000  , df_denom=69, df_num=10\n",
      "ssr based chi2 test:   chi2=3561.0914, p=0.0000  , df=10\n",
      "likelihood ratio test: chi2=333.2675, p=0.0000  , df=10\n",
      "parameter F test:         F=336.5805, p=0.0000  , df_denom=69, df_num=6\n",
      "\n",
      "Granger Causality\n",
      "number of lags (no zero) 10\n",
      "ssr based F test:         F=271.0159, p=0.0000  , df_denom=69, df_num=10\n",
      "ssr based chi2 test:   chi2=3534.9900, p=0.0000  , df=10\n",
      "likelihood ratio test: chi2=332.6217, p=0.0000  , df=10\n",
      "parameter F test:         F=335.5347, p=0.0000  , df_denom=69, df_num=6\n",
      "\n",
      "Granger Causality\n",
      "number of lags (no zero) 10\n",
      "ssr based F test:         F=273.0432, p=0.0000  , df_denom=69, df_num=10\n",
      "ssr based chi2 test:   chi2=3561.4335, p=0.0000  , df=10\n",
      "likelihood ratio test: chi2=333.2759, p=0.0000  , df=10\n",
      "parameter F test:         F=341.1404, p=0.0000  , df_denom=69, df_num=6\n",
      "\n",
      "Granger Causality\n",
      "number of lags (no zero) 10\n",
      "ssr based F test:         F=272.9138, p=0.0000  , df_denom=69, df_num=10\n",
      "ssr based chi2 test:   chi2=3559.7451, p=0.0000  , df=10\n",
      "likelihood ratio test: chi2=333.2343, p=0.0000  , df=10\n",
      "parameter F test:         F=340.1626, p=0.0000  , df_denom=69, df_num=6\n",
      "\n",
      "Granger Causality\n",
      "number of lags (no zero) 10\n",
      "ssr based F test:         F=272.8880, p=0.0000  , df_denom=69, df_num=10\n",
      "ssr based chi2 test:   chi2=3559.4092, p=0.0000  , df=10\n",
      "likelihood ratio test: chi2=333.2260, p=0.0000  , df=10\n",
      "parameter F test:         F=337.4446, p=0.0000  , df_denom=69, df_num=6\n",
      "\n",
      "Granger Causality\n",
      "number of lags (no zero) 10\n",
      "ssr based F test:         F=273.0661, p=0.0000  , df_denom=69, df_num=10\n",
      "ssr based chi2 test:   chi2=3561.7317, p=0.0000  , df=10\n",
      "likelihood ratio test: chi2=333.2832, p=0.0000  , df=10\n",
      "parameter F test:         F=339.7714, p=0.0000  , df_denom=69, df_num=6\n",
      "\n",
      "Granger Causality\n",
      "number of lags (no zero) 10\n",
      "ssr based F test:         F=270.9717, p=0.0000  , df_denom=69, df_num=10\n",
      "ssr based chi2 test:   chi2=3534.4137, p=0.0000  , df=10\n",
      "likelihood ratio test: chi2=332.6074, p=0.0000  , df=10\n",
      "parameter F test:         F=337.2957, p=0.0000  , df_denom=69, df_num=6\n",
      "\n",
      "Granger Causality\n",
      "number of lags (no zero) 10\n",
      "ssr based F test:         F=272.9921, p=0.0000  , df_denom=69, df_num=10\n",
      "ssr based chi2 test:   chi2=3560.7663, p=0.0000  , df=10\n",
      "likelihood ratio test: chi2=333.2594, p=0.0000  , df=10\n",
      "parameter F test:         F=337.1133, p=0.0000  , df_denom=69, df_num=6\n",
      "\n",
      "Granger Causality\n",
      "number of lags (no zero) 10\n",
      "ssr based F test:         F=272.7091, p=0.0000  , df_denom=69, df_num=10\n",
      "ssr based chi2 test:   chi2=3557.0754, p=0.0000  , df=10\n",
      "likelihood ratio test: chi2=333.1684, p=0.0000  , df=10\n",
      "parameter F test:         F=341.0533, p=0.0000  , df_denom=69, df_num=6\n",
      "\n",
      "Granger Causality\n",
      "number of lags (no zero) 10\n",
      "ssr based F test:         F=273.0335, p=0.0000  , df_denom=69, df_num=10\n",
      "ssr based chi2 test:   chi2=3561.3060, p=0.0000  , df=10\n",
      "likelihood ratio test: chi2=333.2727, p=0.0000  , df=10\n",
      "parameter F test:         F=334.4733, p=0.0000  , df_denom=69, df_num=6\n",
      "\n",
      "Granger Causality\n",
      "number of lags (no zero) 10\n",
      "ssr based F test:         F=272.5533, p=0.0000  , df_denom=69, df_num=10\n",
      "ssr based chi2 test:   chi2=3555.0432, p=0.0000  , df=10\n",
      "likelihood ratio test: chi2=333.1182, p=0.0000  , df=10\n",
      "parameter F test:         F=342.1530, p=0.0000  , df_denom=69, df_num=6\n",
      "\n",
      "Granger Causality\n",
      "number of lags (no zero) 10\n",
      "ssr based F test:         F=273.0095, p=0.0000  , df_denom=69, df_num=10\n",
      "ssr based chi2 test:   chi2=3560.9929, p=0.0000  , df=10\n",
      "likelihood ratio test: chi2=333.2650, p=0.0000  , df=10\n",
      "parameter F test:         F=337.8847, p=0.0000  , df_denom=69, df_num=6\n",
      "\n",
      "Granger Causality\n",
      "number of lags (no zero) 10\n",
      "ssr based F test:         F=273.0552, p=0.0000  , df_denom=69, df_num=10\n",
      "ssr based chi2 test:   chi2=3561.5895, p=0.0000  , df=10\n",
      "likelihood ratio test: chi2=333.2797, p=0.0000  , df=10\n",
      "parameter F test:         F=336.2750, p=0.0000  , df_denom=69, df_num=6\n",
      "\n",
      "Granger Causality\n",
      "number of lags (no zero) 10\n",
      "ssr based F test:         F=268.3185, p=0.0000  , df_denom=69, df_num=10\n",
      "ssr based chi2 test:   chi2=3499.8064, p=0.0000  , df=10\n",
      "likelihood ratio test: chi2=331.7439, p=0.0000  , df=10\n",
      "parameter F test:         F=333.7588, p=0.0000  , df_denom=69, df_num=6\n",
      "\n",
      "Granger Causality\n",
      "number of lags (no zero) 10\n",
      "ssr based F test:         F=271.7615, p=0.0000  , df_denom=69, df_num=10\n",
      "ssr based chi2 test:   chi2=3544.7150, p=0.0000  , df=10\n",
      "likelihood ratio test: chi2=332.8629, p=0.0000  , df=10\n",
      "parameter F test:         F=334.8069, p=0.0000  , df_denom=69, df_num=6\n",
      "\n",
      "Granger Causality\n",
      "number of lags (no zero) 10\n",
      "ssr based F test:         F=272.9763, p=0.0000  , df_denom=69, df_num=10\n",
      "ssr based chi2 test:   chi2=3560.5603, p=0.0000  , df=10\n",
      "likelihood ratio test: chi2=333.2544, p=0.0000  , df=10\n",
      "parameter F test:         F=340.3151, p=0.0000  , df_denom=69, df_num=6\n",
      "\n",
      "Granger Causality\n",
      "number of lags (no zero) 10\n",
      "ssr based F test:         F=273.0254, p=0.0000  , df_denom=69, df_num=10\n",
      "ssr based chi2 test:   chi2=3561.2011, p=0.0000  , df=10\n",
      "likelihood ratio test: chi2=333.2702, p=0.0000  , df=10\n",
      "parameter F test:         F=338.0467, p=0.0000  , df_denom=69, df_num=6\n",
      "\n",
      "Granger Causality\n",
      "number of lags (no zero) 10\n",
      "ssr based F test:         F=272.4637, p=0.0000  , df_denom=69, df_num=10\n",
      "ssr based chi2 test:   chi2=3553.8740, p=0.0000  , df=10\n",
      "likelihood ratio test: chi2=333.0894, p=0.0000  , df=10\n",
      "parameter F test:         F=337.2319, p=0.0000  , df_denom=69, df_num=6\n",
      "\n",
      "Granger Causality\n",
      "number of lags (no zero) 10\n",
      "ssr based F test:         F=272.9966, p=0.0000  , df_denom=69, df_num=10\n",
      "ssr based chi2 test:   chi2=3560.8258, p=0.0000  , df=10\n",
      "likelihood ratio test: chi2=333.2609, p=0.0000  , df=10\n",
      "parameter F test:         F=336.3140, p=0.0000  , df_denom=69, df_num=6\n",
      "\n",
      "Granger Causality\n",
      "number of lags (no zero) 10\n",
      "ssr based F test:         F=273.0456, p=0.0000  , df_denom=69, df_num=10\n",
      "ssr based chi2 test:   chi2=3561.4648, p=0.0000  , df=10\n",
      "likelihood ratio test: chi2=333.2767, p=0.0000  , df=10\n",
      "parameter F test:         F=338.1132, p=0.0000  , df_denom=69, df_num=6\n",
      "\n",
      "Granger Causality\n",
      "number of lags (no zero) 10\n",
      "ssr based F test:         F=273.0247, p=0.0000  , df_denom=69, df_num=10\n",
      "ssr based chi2 test:   chi2=3561.1921, p=0.0000  , df=10\n",
      "likelihood ratio test: chi2=333.2699, p=0.0000  , df=10\n",
      "parameter F test:         F=320.3663, p=0.0000  , df_denom=69, df_num=6\n",
      "\n",
      "Granger Causality\n",
      "number of lags (no zero) 10\n",
      "ssr based F test:         F=272.1163, p=0.0000  , df_denom=69, df_num=10\n",
      "ssr based chi2 test:   chi2=3549.3435, p=0.0000  , df=10\n",
      "likelihood ratio test: chi2=332.9774, p=0.0000  , df=10\n",
      "parameter F test:         F=320.7237, p=0.0000  , df_denom=69, df_num=6\n",
      "\n",
      "Granger Causality\n",
      "number of lags (no zero) 10\n",
      "ssr based F test:         F=272.9625, p=0.0000  , df_denom=69, df_num=10\n",
      "ssr based chi2 test:   chi2=3560.3808, p=0.0000  , df=10\n",
      "likelihood ratio test: chi2=333.2499, p=0.0000  , df=10\n",
      "parameter F test:         F=337.5464, p=0.0000  , df_denom=69, df_num=6\n",
      "\n",
      "Granger Causality\n",
      "number of lags (no zero) 10\n",
      "ssr based F test:         F=273.0502, p=0.0000  , df_denom=69, df_num=10\n",
      "ssr based chi2 test:   chi2=3561.5246, p=0.0000  , df=10\n",
      "likelihood ratio test: chi2=333.2781, p=0.0000  , df=10\n",
      "parameter F test:         F=338.5372, p=0.0000  , df_denom=69, df_num=6\n",
      "\n",
      "Granger Causality\n",
      "number of lags (no zero) 10\n",
      "ssr based F test:         F=273.0551, p=0.0000  , df_denom=69, df_num=10\n",
      "ssr based chi2 test:   chi2=3561.5884, p=0.0000  , df=10\n",
      "likelihood ratio test: chi2=333.2797, p=0.0000  , df=10\n",
      "parameter F test:         F=339.9958, p=0.0000  , df_denom=69, df_num=6\n",
      "\n",
      "Granger Causality\n",
      "number of lags (no zero) 10\n",
      "ssr based F test:         F=273.0282, p=0.0000  , df_denom=69, df_num=10\n",
      "ssr based chi2 test:   chi2=3561.2369, p=0.0000  , df=10\n",
      "likelihood ratio test: chi2=333.2710, p=0.0000  , df=10\n",
      "parameter F test:         F=338.8864, p=0.0000  , df_denom=69, df_num=6\n",
      "\n",
      "Granger Causality\n",
      "number of lags (no zero) 10\n",
      "ssr based F test:         F=272.8007, p=0.0000  , df_denom=69, df_num=10\n",
      "ssr based chi2 test:   chi2=3558.2696, p=0.0000  , df=10\n",
      "likelihood ratio test: chi2=333.1979, p=0.0000  , df=10\n",
      "parameter F test:         F=341.5592, p=0.0000  , df_denom=69, df_num=6\n",
      "\n",
      "Granger Causality\n",
      "number of lags (no zero) 10\n",
      "ssr based F test:         F=272.5088, p=0.0000  , df_denom=69, df_num=10\n",
      "ssr based chi2 test:   chi2=3554.4625, p=0.0000  , df=10\n",
      "likelihood ratio test: chi2=333.1039, p=0.0000  , df=10\n",
      "parameter F test:         F=333.5873, p=0.0000  , df_denom=69, df_num=6\n",
      "\n",
      "Granger Causality\n",
      "number of lags (no zero) 10\n",
      "ssr based F test:         F=273.0091, p=0.0000  , df_denom=69, df_num=10\n",
      "ssr based chi2 test:   chi2=3560.9882, p=0.0000  , df=10\n",
      "likelihood ratio test: chi2=333.2649, p=0.0000  , df=10\n",
      "parameter F test:         F=338.0855, p=0.0000  , df_denom=69, df_num=6\n",
      "\n",
      "Granger Causality\n",
      "number of lags (no zero) 10\n",
      "ssr based F test:         F=270.8358, p=0.0000  , df_denom=69, df_num=10\n",
      "ssr based chi2 test:   chi2=3532.6411, p=0.0000  , df=10\n",
      "likelihood ratio test: chi2=332.5634, p=0.0000  , df=10\n",
      "parameter F test:         F=332.2500, p=0.0000  , df_denom=69, df_num=6\n",
      "\n",
      "Granger Causality\n",
      "number of lags (no zero) 10\n",
      "ssr based F test:         F=271.7459, p=0.0000  , df_denom=69, df_num=10\n",
      "ssr based chi2 test:   chi2=3544.5113, p=0.0000  , df=10\n",
      "likelihood ratio test: chi2=332.8578, p=0.0000  , df=10\n",
      "parameter F test:         F=333.9592, p=0.0000  , df_denom=69, df_num=6\n",
      "\n",
      "Granger Causality\n",
      "number of lags (no zero) 10\n",
      "ssr based F test:         F=273.0054, p=0.0000  , df_denom=69, df_num=10\n",
      "ssr based chi2 test:   chi2=3560.9394, p=0.0000  , df=10\n",
      "likelihood ratio test: chi2=333.2637, p=0.0000  , df=10\n",
      "parameter F test:         F=336.8948, p=0.0000  , df_denom=69, df_num=6\n",
      "\n",
      "Granger Causality\n",
      "number of lags (no zero) 10\n",
      "ssr based F test:         F=183.3338, p=0.0000  , df_denom=69, df_num=10\n",
      "ssr based chi2 test:   chi2=2391.3104, p=0.0000  , df=10\n",
      "likelihood ratio test: chi2=298.5059, p=0.0000  , df=10\n",
      "parameter F test:         F=168.6587, p=0.0000  , df_denom=69, df_num=6\n",
      "\n",
      "Granger Causality\n",
      "number of lags (no zero) 10\n",
      "ssr based F test:         F=181.8869, p=0.0000  , df_denom=69, df_num=10\n",
      "ssr based chi2 test:   chi2=2372.4376, p=0.0000  , df=10\n",
      "likelihood ratio test: chi2=297.8188, p=0.0000  , df=10\n",
      "parameter F test:         F=206.7573, p=0.0000  , df_denom=69, df_num=6\n",
      "\n",
      "Granger Causality\n",
      "number of lags (no zero) 10\n",
      "ssr based F test:         F=193.6259, p=0.0000  , df_denom=69, df_num=10\n",
      "ssr based chi2 test:   chi2=2525.5547, p=0.0000  , df=10\n",
      "likelihood ratio test: chi2=303.2480, p=0.0000  , df=10\n",
      "parameter F test:         F=101.0787, p=0.0000  , df_denom=69, df_num=6\n",
      "\n",
      "Granger Causality\n",
      "number of lags (no zero) 10\n",
      "ssr based F test:         F=761.5400, p=0.0000  , df_denom=69, df_num=10\n",
      "ssr based chi2 test:   chi2=9933.1305, p=0.0000  , df=10\n",
      "likelihood ratio test: chi2=424.1557, p=0.0000  , df=10\n",
      "parameter F test:         F=429.7513, p=0.0000  , df_denom=69, df_num=6\n",
      "\n",
      "Granger Causality\n",
      "number of lags (no zero) 10\n",
      "ssr based F test:         F=190.7000, p=0.0000  , df_denom=69, df_num=10\n",
      "ssr based chi2 test:   chi2=2487.3916, p=0.0000  , df=10\n",
      "likelihood ratio test: chi2=301.9251, p=0.0000  , df=10\n",
      "parameter F test:         F=145.8735, p=0.0000  , df_denom=69, df_num=6\n",
      "\n",
      "Granger Causality\n",
      "number of lags (no zero) 10\n",
      "ssr based F test:         F=773.3135, p=0.0000  , df_denom=69, df_num=10\n",
      "ssr based chi2 test:   chi2=10086.6979, p=0.0000  , df=10\n",
      "likelihood ratio test: chi2=425.5242, p=0.0000  , df=10\n",
      "parameter F test:         F=427.9759, p=0.0000  , df_denom=69, df_num=6\n",
      "\n",
      "Granger Causality\n",
      "number of lags (no zero) 10\n",
      "ssr based F test:         F=201.1574, p=0.0000  , df_denom=69, df_num=10\n",
      "ssr based chi2 test:   chi2=2623.7927, p=0.0000  , df=10\n",
      "likelihood ratio test: chi2=306.5664, p=0.0000  , df=10\n",
      "parameter F test:         F=252.1459, p=0.0000  , df_denom=69, df_num=6\n",
      "\n",
      "Granger Causality\n",
      "number of lags (no zero) 10\n",
      "ssr based F test:         F=183.9248, p=0.0000  , df_denom=69, df_num=10\n",
      "ssr based chi2 test:   chi2=2399.0187, p=0.0000  , df=10\n",
      "likelihood ratio test: chi2=298.7851, p=0.0000  , df=10\n",
      "parameter F test:         F=228.6851, p=0.0000  , df_denom=69, df_num=6\n",
      "\n",
      "Granger Causality\n",
      "number of lags (no zero) 10\n",
      "ssr based F test:         F=634.7114, p=0.0000  , df_denom=69, df_num=10\n",
      "ssr based chi2 test:   chi2=8278.8438, p=0.0000  , df=10\n",
      "likelihood ratio test: chi2=407.9215, p=0.0000  , df=10\n",
      "parameter F test:         F=404.3136, p=0.0000  , df_denom=69, df_num=6\n",
      "\n",
      "Granger Causality\n",
      "number of lags (no zero) 10\n",
      "ssr based F test:         F=731.3605, p=0.0000  , df_denom=69, df_num=10\n",
      "ssr based chi2 test:   chi2=9539.4854, p=0.0000  , df=10\n",
      "likelihood ratio test: chi2=420.5498, p=0.0000  , df=10\n",
      "parameter F test:         F=434.2002, p=0.0000  , df_denom=69, df_num=6\n",
      "\n",
      "Granger Causality\n",
      "number of lags (no zero) 10\n",
      "ssr based F test:         F=265.3908, p=0.0000  , df_denom=69, df_num=10\n",
      "ssr based chi2 test:   chi2=3461.6190, p=0.0000  , df=10\n",
      "likelihood ratio test: chi2=330.7814, p=0.0000  , df=10\n",
      "parameter F test:         F=244.5592, p=0.0000  , df_denom=69, df_num=6\n",
      "\n",
      "Granger Causality\n",
      "number of lags (no zero) 10\n",
      "ssr based F test:         F=773.0196, p=0.0000  , df_denom=69, df_num=10\n",
      "ssr based chi2 test:   chi2=10082.8638, p=0.0000  , df=10\n",
      "likelihood ratio test: chi2=425.4902, p=0.0000  , df=10\n",
      "parameter F test:         F=428.0250, p=0.0000  , df_denom=69, df_num=6\n",
      "\n",
      "Granger Causality\n",
      "number of lags (no zero) 10\n"
     ]
    },
    {
     "name": "stderr",
     "output_type": "stream",
     "text": [
      "/Users/oost464/opt/anaconda3/envs/pyciems310/lib/python3.10/site-packages/statsmodels/base/model.py:1896: ValueWarning: covariance of constraints does not have full rank. The number of constraints is 10, but rank is 6\n",
      "  warnings.warn('covariance of constraints does not have full '\n",
      "/Users/oost464/opt/anaconda3/envs/pyciems310/lib/python3.10/site-packages/statsmodels/base/model.py:1896: ValueWarning: covariance of constraints does not have full rank. The number of constraints is 10, but rank is 6\n",
      "  warnings.warn('covariance of constraints does not have full '\n",
      "/Users/oost464/opt/anaconda3/envs/pyciems310/lib/python3.10/site-packages/statsmodels/base/model.py:1896: ValueWarning: covariance of constraints does not have full rank. The number of constraints is 10, but rank is 6\n",
      "  warnings.warn('covariance of constraints does not have full '\n",
      "/Users/oost464/opt/anaconda3/envs/pyciems310/lib/python3.10/site-packages/statsmodels/base/model.py:1896: ValueWarning: covariance of constraints does not have full rank. The number of constraints is 10, but rank is 6\n",
      "  warnings.warn('covariance of constraints does not have full '\n",
      "/Users/oost464/opt/anaconda3/envs/pyciems310/lib/python3.10/site-packages/statsmodels/base/model.py:1896: ValueWarning: covariance of constraints does not have full rank. The number of constraints is 10, but rank is 6\n",
      "  warnings.warn('covariance of constraints does not have full '\n",
      "/Users/oost464/opt/anaconda3/envs/pyciems310/lib/python3.10/site-packages/statsmodels/base/model.py:1896: ValueWarning: covariance of constraints does not have full rank. The number of constraints is 10, but rank is 6\n",
      "  warnings.warn('covariance of constraints does not have full '\n",
      "/Users/oost464/opt/anaconda3/envs/pyciems310/lib/python3.10/site-packages/statsmodels/base/model.py:1896: ValueWarning: covariance of constraints does not have full rank. The number of constraints is 10, but rank is 6\n",
      "  warnings.warn('covariance of constraints does not have full '\n",
      "/Users/oost464/opt/anaconda3/envs/pyciems310/lib/python3.10/site-packages/statsmodels/base/model.py:1896: ValueWarning: covariance of constraints does not have full rank. The number of constraints is 10, but rank is 6\n",
      "  warnings.warn('covariance of constraints does not have full '\n",
      "/Users/oost464/opt/anaconda3/envs/pyciems310/lib/python3.10/site-packages/statsmodels/base/model.py:1896: ValueWarning: covariance of constraints does not have full rank. The number of constraints is 10, but rank is 6\n",
      "  warnings.warn('covariance of constraints does not have full '\n",
      "/Users/oost464/opt/anaconda3/envs/pyciems310/lib/python3.10/site-packages/statsmodels/base/model.py:1896: ValueWarning: covariance of constraints does not have full rank. The number of constraints is 10, but rank is 6\n",
      "  warnings.warn('covariance of constraints does not have full '\n",
      "/Users/oost464/opt/anaconda3/envs/pyciems310/lib/python3.10/site-packages/statsmodels/base/model.py:1896: ValueWarning: covariance of constraints does not have full rank. The number of constraints is 10, but rank is 6\n",
      "  warnings.warn('covariance of constraints does not have full '\n",
      "/Users/oost464/opt/anaconda3/envs/pyciems310/lib/python3.10/site-packages/statsmodels/base/model.py:1896: ValueWarning: covariance of constraints does not have full rank. The number of constraints is 10, but rank is 6\n",
      "  warnings.warn('covariance of constraints does not have full '\n",
      "/Users/oost464/opt/anaconda3/envs/pyciems310/lib/python3.10/site-packages/statsmodels/base/model.py:1896: ValueWarning: covariance of constraints does not have full rank. The number of constraints is 10, but rank is 6\n",
      "  warnings.warn('covariance of constraints does not have full '\n",
      "/Users/oost464/opt/anaconda3/envs/pyciems310/lib/python3.10/site-packages/statsmodels/base/model.py:1896: ValueWarning: covariance of constraints does not have full rank. The number of constraints is 10, but rank is 6\n",
      "  warnings.warn('covariance of constraints does not have full '\n",
      "/Users/oost464/opt/anaconda3/envs/pyciems310/lib/python3.10/site-packages/statsmodels/base/model.py:1896: ValueWarning: covariance of constraints does not have full rank. The number of constraints is 10, but rank is 6\n",
      "  warnings.warn('covariance of constraints does not have full '\n",
      "/Users/oost464/opt/anaconda3/envs/pyciems310/lib/python3.10/site-packages/statsmodels/base/model.py:1896: ValueWarning: covariance of constraints does not have full rank. The number of constraints is 10, but rank is 6\n",
      "  warnings.warn('covariance of constraints does not have full '\n",
      "/Users/oost464/opt/anaconda3/envs/pyciems310/lib/python3.10/site-packages/statsmodels/base/model.py:1896: ValueWarning: covariance of constraints does not have full rank. The number of constraints is 10, but rank is 6\n",
      "  warnings.warn('covariance of constraints does not have full '\n",
      "/Users/oost464/opt/anaconda3/envs/pyciems310/lib/python3.10/site-packages/statsmodels/base/model.py:1896: ValueWarning: covariance of constraints does not have full rank. The number of constraints is 10, but rank is 6\n",
      "  warnings.warn('covariance of constraints does not have full '\n",
      "/Users/oost464/opt/anaconda3/envs/pyciems310/lib/python3.10/site-packages/statsmodels/base/model.py:1896: ValueWarning: covariance of constraints does not have full rank. The number of constraints is 10, but rank is 6\n",
      "  warnings.warn('covariance of constraints does not have full '\n",
      "/Users/oost464/opt/anaconda3/envs/pyciems310/lib/python3.10/site-packages/statsmodels/base/model.py:1896: ValueWarning: covariance of constraints does not have full rank. The number of constraints is 10, but rank is 6\n",
      "  warnings.warn('covariance of constraints does not have full '\n",
      "/Users/oost464/opt/anaconda3/envs/pyciems310/lib/python3.10/site-packages/statsmodels/base/model.py:1896: ValueWarning: covariance of constraints does not have full rank. The number of constraints is 10, but rank is 6\n",
      "  warnings.warn('covariance of constraints does not have full '\n",
      "/Users/oost464/opt/anaconda3/envs/pyciems310/lib/python3.10/site-packages/statsmodels/base/model.py:1896: ValueWarning: covariance of constraints does not have full rank. The number of constraints is 10, but rank is 6\n",
      "  warnings.warn('covariance of constraints does not have full '\n",
      "/Users/oost464/opt/anaconda3/envs/pyciems310/lib/python3.10/site-packages/statsmodels/base/model.py:1896: ValueWarning: covariance of constraints does not have full rank. The number of constraints is 10, but rank is 6\n",
      "  warnings.warn('covariance of constraints does not have full '\n",
      "/Users/oost464/opt/anaconda3/envs/pyciems310/lib/python3.10/site-packages/statsmodels/base/model.py:1896: ValueWarning: covariance of constraints does not have full rank. The number of constraints is 10, but rank is 6\n",
      "  warnings.warn('covariance of constraints does not have full '\n",
      "/Users/oost464/opt/anaconda3/envs/pyciems310/lib/python3.10/site-packages/statsmodels/base/model.py:1896: ValueWarning: covariance of constraints does not have full rank. The number of constraints is 10, but rank is 6\n",
      "  warnings.warn('covariance of constraints does not have full '\n",
      "/Users/oost464/opt/anaconda3/envs/pyciems310/lib/python3.10/site-packages/statsmodels/base/model.py:1896: ValueWarning: covariance of constraints does not have full rank. The number of constraints is 10, but rank is 6\n",
      "  warnings.warn('covariance of constraints does not have full '\n",
      "/Users/oost464/opt/anaconda3/envs/pyciems310/lib/python3.10/site-packages/statsmodels/base/model.py:1896: ValueWarning: covariance of constraints does not have full rank. The number of constraints is 10, but rank is 6\n",
      "  warnings.warn('covariance of constraints does not have full '\n",
      "/Users/oost464/opt/anaconda3/envs/pyciems310/lib/python3.10/site-packages/statsmodels/base/model.py:1896: ValueWarning: covariance of constraints does not have full rank. The number of constraints is 10, but rank is 6\n",
      "  warnings.warn('covariance of constraints does not have full '\n",
      "/Users/oost464/opt/anaconda3/envs/pyciems310/lib/python3.10/site-packages/statsmodels/base/model.py:1896: ValueWarning: covariance of constraints does not have full rank. The number of constraints is 10, but rank is 6\n",
      "  warnings.warn('covariance of constraints does not have full '\n",
      "/Users/oost464/opt/anaconda3/envs/pyciems310/lib/python3.10/site-packages/statsmodels/base/model.py:1896: ValueWarning: covariance of constraints does not have full rank. The number of constraints is 10, but rank is 6\n",
      "  warnings.warn('covariance of constraints does not have full '\n",
      "/Users/oost464/opt/anaconda3/envs/pyciems310/lib/python3.10/site-packages/statsmodels/base/model.py:1896: ValueWarning: covariance of constraints does not have full rank. The number of constraints is 10, but rank is 6\n",
      "  warnings.warn('covariance of constraints does not have full '\n",
      "/Users/oost464/opt/anaconda3/envs/pyciems310/lib/python3.10/site-packages/statsmodels/base/model.py:1896: ValueWarning: covariance of constraints does not have full rank. The number of constraints is 10, but rank is 6\n",
      "  warnings.warn('covariance of constraints does not have full '\n",
      "/Users/oost464/opt/anaconda3/envs/pyciems310/lib/python3.10/site-packages/statsmodels/base/model.py:1896: ValueWarning: covariance of constraints does not have full rank. The number of constraints is 10, but rank is 6\n",
      "  warnings.warn('covariance of constraints does not have full '\n",
      "/Users/oost464/opt/anaconda3/envs/pyciems310/lib/python3.10/site-packages/statsmodels/base/model.py:1896: ValueWarning: covariance of constraints does not have full rank. The number of constraints is 10, but rank is 6\n",
      "  warnings.warn('covariance of constraints does not have full '\n",
      "/Users/oost464/opt/anaconda3/envs/pyciems310/lib/python3.10/site-packages/statsmodels/base/model.py:1896: ValueWarning: covariance of constraints does not have full rank. The number of constraints is 10, but rank is 6\n",
      "  warnings.warn('covariance of constraints does not have full '\n",
      "/Users/oost464/opt/anaconda3/envs/pyciems310/lib/python3.10/site-packages/statsmodels/base/model.py:1896: ValueWarning: covariance of constraints does not have full rank. The number of constraints is 10, but rank is 6\n",
      "  warnings.warn('covariance of constraints does not have full '\n",
      "/Users/oost464/opt/anaconda3/envs/pyciems310/lib/python3.10/site-packages/statsmodels/base/model.py:1896: ValueWarning: covariance of constraints does not have full rank. The number of constraints is 10, but rank is 6\n",
      "  warnings.warn('covariance of constraints does not have full '\n",
      "/Users/oost464/opt/anaconda3/envs/pyciems310/lib/python3.10/site-packages/statsmodels/base/model.py:1896: ValueWarning: covariance of constraints does not have full rank. The number of constraints is 10, but rank is 6\n",
      "  warnings.warn('covariance of constraints does not have full '\n",
      "/Users/oost464/opt/anaconda3/envs/pyciems310/lib/python3.10/site-packages/statsmodels/base/model.py:1896: ValueWarning: covariance of constraints does not have full rank. The number of constraints is 10, but rank is 6\n",
      "  warnings.warn('covariance of constraints does not have full '\n",
      "/Users/oost464/opt/anaconda3/envs/pyciems310/lib/python3.10/site-packages/statsmodels/base/model.py:1896: ValueWarning: covariance of constraints does not have full rank. The number of constraints is 10, but rank is 6\n",
      "  warnings.warn('covariance of constraints does not have full '\n",
      "/Users/oost464/opt/anaconda3/envs/pyciems310/lib/python3.10/site-packages/statsmodels/base/model.py:1896: ValueWarning: covariance of constraints does not have full rank. The number of constraints is 10, but rank is 6\n",
      "  warnings.warn('covariance of constraints does not have full '\n",
      "/Users/oost464/opt/anaconda3/envs/pyciems310/lib/python3.10/site-packages/statsmodels/base/model.py:1896: ValueWarning: covariance of constraints does not have full rank. The number of constraints is 10, but rank is 6\n",
      "  warnings.warn('covariance of constraints does not have full '\n",
      "/Users/oost464/opt/anaconda3/envs/pyciems310/lib/python3.10/site-packages/statsmodels/base/model.py:1896: ValueWarning: covariance of constraints does not have full rank. The number of constraints is 10, but rank is 6\n",
      "  warnings.warn('covariance of constraints does not have full '\n",
      "/Users/oost464/opt/anaconda3/envs/pyciems310/lib/python3.10/site-packages/statsmodels/base/model.py:1896: ValueWarning: covariance of constraints does not have full rank. The number of constraints is 10, but rank is 6\n",
      "  warnings.warn('covariance of constraints does not have full '\n",
      "/Users/oost464/opt/anaconda3/envs/pyciems310/lib/python3.10/site-packages/statsmodels/base/model.py:1896: ValueWarning: covariance of constraints does not have full rank. The number of constraints is 10, but rank is 6\n",
      "  warnings.warn('covariance of constraints does not have full '\n",
      "/Users/oost464/opt/anaconda3/envs/pyciems310/lib/python3.10/site-packages/statsmodels/base/model.py:1896: ValueWarning: covariance of constraints does not have full rank. The number of constraints is 10, but rank is 6\n",
      "  warnings.warn('covariance of constraints does not have full '\n",
      "/Users/oost464/opt/anaconda3/envs/pyciems310/lib/python3.10/site-packages/statsmodels/base/model.py:1896: ValueWarning: covariance of constraints does not have full rank. The number of constraints is 10, but rank is 6\n",
      "  warnings.warn('covariance of constraints does not have full '\n",
      "/Users/oost464/opt/anaconda3/envs/pyciems310/lib/python3.10/site-packages/statsmodels/base/model.py:1896: ValueWarning: covariance of constraints does not have full rank. The number of constraints is 10, but rank is 6\n",
      "  warnings.warn('covariance of constraints does not have full '\n",
      "/Users/oost464/opt/anaconda3/envs/pyciems310/lib/python3.10/site-packages/statsmodels/base/model.py:1896: ValueWarning: covariance of constraints does not have full rank. The number of constraints is 10, but rank is 6\n",
      "  warnings.warn('covariance of constraints does not have full '\n",
      "/Users/oost464/opt/anaconda3/envs/pyciems310/lib/python3.10/site-packages/statsmodels/base/model.py:1896: ValueWarning: covariance of constraints does not have full rank. The number of constraints is 10, but rank is 6\n",
      "  warnings.warn('covariance of constraints does not have full '\n",
      "/Users/oost464/opt/anaconda3/envs/pyciems310/lib/python3.10/site-packages/statsmodels/base/model.py:1896: ValueWarning: covariance of constraints does not have full rank. The number of constraints is 10, but rank is 6\n",
      "  warnings.warn('covariance of constraints does not have full '\n",
      "/Users/oost464/opt/anaconda3/envs/pyciems310/lib/python3.10/site-packages/statsmodels/base/model.py:1896: ValueWarning: covariance of constraints does not have full rank. The number of constraints is 10, but rank is 6\n",
      "  warnings.warn('covariance of constraints does not have full '\n",
      "/Users/oost464/opt/anaconda3/envs/pyciems310/lib/python3.10/site-packages/statsmodels/base/model.py:1896: ValueWarning: covariance of constraints does not have full rank. The number of constraints is 10, but rank is 6\n",
      "  warnings.warn('covariance of constraints does not have full '\n",
      "/Users/oost464/opt/anaconda3/envs/pyciems310/lib/python3.10/site-packages/statsmodels/base/model.py:1896: ValueWarning: covariance of constraints does not have full rank. The number of constraints is 10, but rank is 6\n",
      "  warnings.warn('covariance of constraints does not have full '\n"
     ]
    },
    {
     "name": "stdout",
     "output_type": "stream",
     "text": [
      "ssr based F test:         F=323.3492, p=0.0000  , df_denom=69, df_num=10\n",
      "ssr based chi2 test:   chi2=4217.5986, p=0.0000  , df=10\n",
      "likelihood ratio test: chi2=348.1494, p=0.0000  , df=10\n",
      "parameter F test:         F=210.2492, p=0.0000  , df_denom=69, df_num=6\n",
      "\n",
      "Granger Causality\n",
      "number of lags (no zero) 10\n",
      "ssr based F test:         F=226.2261, p=0.0000  , df_denom=69, df_num=10\n",
      "ssr based chi2 test:   chi2=2950.7751, p=0.0000  , df=10\n",
      "likelihood ratio test: chi2=316.8052, p=0.0000  , df=10\n",
      "parameter F test:         F=133.5313, p=0.0000  , df_denom=69, df_num=6\n",
      "\n",
      "Granger Causality\n",
      "number of lags (no zero) 10\n",
      "ssr based F test:         F=774.3912, p=0.0000  , df_denom=69, df_num=10\n",
      "ssr based chi2 test:   chi2=10100.7545, p=0.0000  , df=10\n",
      "likelihood ratio test: chi2=425.6484, p=0.0000  , df=10\n",
      "parameter F test:         F=431.4055, p=0.0000  , df_denom=69, df_num=6\n",
      "\n",
      "Granger Causality\n",
      "number of lags (no zero) 10\n",
      "ssr based F test:         F=720.0565, p=0.0000  , df_denom=69, df_num=10\n",
      "ssr based chi2 test:   chi2=9392.0419, p=0.0000  , df=10\n",
      "likelihood ratio test: chi2=419.1611, p=0.0000  , df=10\n",
      "parameter F test:         F=435.7376, p=0.0000  , df_denom=69, df_num=6\n",
      "\n",
      "Granger Causality\n",
      "number of lags (no zero) 10\n",
      "ssr based F test:         F=618.4150, p=0.0000  , df_denom=69, df_num=10\n",
      "ssr based chi2 test:   chi2=8066.2829, p=0.0000  , df=10\n",
      "likelihood ratio test: chi2=405.6061, p=0.0000  , df=10\n",
      "parameter F test:         F=400.4935, p=0.0000  , df_denom=69, df_num=6\n",
      "\n",
      "Granger Causality\n",
      "number of lags (no zero) 10\n",
      "ssr based F test:         F=189.6387, p=0.0000  , df_denom=69, df_num=10\n",
      "ssr based chi2 test:   chi2=2473.5479, p=0.0000  , df=10\n",
      "likelihood ratio test: chi2=301.4404, p=0.0000  , df=10\n",
      "parameter F test:         F=231.6393, p=0.0000  , df_denom=69, df_num=6\n",
      "\n",
      "Granger Causality\n",
      "number of lags (no zero) 10\n",
      "ssr based F test:         F=185.3218, p=0.0000  , df_denom=69, df_num=10\n",
      "ssr based chi2 test:   chi2=2417.2404, p=0.0000  , df=10\n",
      "likelihood ratio test: chi2=299.4415, p=0.0000  , df=10\n",
      "parameter F test:         F=229.5085, p=0.0000  , df_denom=69, df_num=6\n",
      "\n",
      "Granger Causality\n",
      "number of lags (no zero) 10\n",
      "ssr based F test:         F=199.6607, p=0.0000  , df_denom=69, df_num=10\n",
      "ssr based chi2 test:   chi2=2604.2696, p=0.0000  , df=10\n",
      "likelihood ratio test: chi2=305.9165, p=0.0000  , df=10\n",
      "parameter F test:         F=112.4207, p=0.0000  , df_denom=69, df_num=6\n",
      "\n",
      "Granger Causality\n",
      "number of lags (no zero) 10\n",
      "ssr based F test:         F=187.7891, p=0.0000  , df_denom=69, df_num=10\n",
      "ssr based chi2 test:   chi2=2449.4233, p=0.0000  , df=10\n",
      "likelihood ratio test: chi2=300.5894, p=0.0000  , df=10\n",
      "parameter F test:         F=233.1215, p=0.0000  , df_denom=69, df_num=6\n",
      "\n",
      "Granger Causality\n",
      "number of lags (no zero) 10\n",
      "ssr based F test:         F=183.0461, p=0.0000  , df_denom=69, df_num=10\n",
      "ssr based chi2 test:   chi2=2387.5573, p=0.0000  , df=10\n",
      "likelihood ratio test: chi2=298.3697, p=0.0000  , df=10\n",
      "parameter F test:         F=229.2148, p=0.0000  , df_denom=69, df_num=6\n",
      "\n",
      "Granger Causality\n",
      "number of lags (no zero) 10\n",
      "ssr based F test:         F=249.7277, p=0.0000  , df_denom=69, df_num=10\n",
      "ssr based chi2 test:   chi2=3257.3183, p=0.0000  , df=10\n",
      "likelihood ratio test: chi2=325.4495, p=0.0000  , df=10\n",
      "parameter F test:         F=219.3822, p=0.0000  , df_denom=69, df_num=6\n",
      "\n",
      "Granger Causality\n",
      "number of lags (no zero) 10\n",
      "ssr based F test:         F=187.6608, p=0.0000  , df_denom=69, df_num=10\n",
      "ssr based chi2 test:   chi2=2447.7501, p=0.0000  , df=10\n",
      "likelihood ratio test: chi2=300.5301, p=0.0000  , df=10\n",
      "parameter F test:         F=102.8164, p=0.0000  , df_denom=69, df_num=6\n",
      "\n",
      "Granger Causality\n",
      "number of lags (no zero) 10\n",
      "ssr based F test:         F=762.3196, p=0.0000  , df_denom=69, df_num=10\n",
      "ssr based chi2 test:   chi2=9943.2986, p=0.0000  , df=10\n",
      "likelihood ratio test: chi2=424.2470, p=0.0000  , df=10\n",
      "parameter F test:         F=429.4055, p=0.0000  , df_denom=69, df_num=6\n",
      "\n",
      "Granger Causality\n",
      "number of lags (no zero) 10\n",
      "ssr based F test:         F=430.6859, p=0.0000  , df_denom=69, df_num=10\n",
      "ssr based chi2 test:   chi2=5617.6417, p=0.0000  , df=10\n",
      "likelihood ratio test: chi2=373.4776, p=0.0000  , df=10\n",
      "parameter F test:         F=289.7129, p=0.0000  , df_denom=69, df_num=6\n",
      "\n",
      "Granger Causality\n",
      "number of lags (no zero) 10\n",
      "ssr based F test:         F=219.1652, p=0.0000  , df_denom=69, df_num=10\n",
      "ssr based chi2 test:   chi2=2858.6762, p=0.0000  , df=10\n",
      "likelihood ratio test: chi2=314.0372, p=0.0000  , df=10\n",
      "parameter F test:         F=207.6722, p=0.0000  , df_denom=69, df_num=6\n",
      "\n",
      "Granger Causality\n",
      "number of lags (no zero) 10\n",
      "ssr based F test:         F=187.4668, p=0.0000  , df_denom=69, df_num=10\n",
      "ssr based chi2 test:   chi2=2445.2191, p=0.0000  , df=10\n",
      "likelihood ratio test: chi2=300.4403, p=0.0000  , df=10\n",
      "parameter F test:         F=170.2705, p=0.0000  , df_denom=69, df_num=6\n",
      "\n",
      "Granger Causality\n",
      "number of lags (no zero) 10\n",
      "ssr based F test:         F=281.7729, p=0.0000  , df_denom=69, df_num=10\n",
      "ssr based chi2 test:   chi2=3675.2982, p=0.0000  , df=10\n",
      "likelihood ratio test: chi2=336.0395, p=0.0000  , df=10\n",
      "parameter F test:         F=263.4299, p=0.0000  , df_denom=69, df_num=6\n",
      "\n",
      "Granger Causality\n",
      "number of lags (no zero) 10\n",
      "ssr based F test:         F=192.2694, p=0.0000  , df_denom=69, df_num=10\n",
      "ssr based chi2 test:   chi2=2507.8612, p=0.0000  , df=10\n",
      "likelihood ratio test: chi2=302.6371, p=0.0000  , df=10\n",
      "parameter F test:         F=217.2763, p=0.0000  , df_denom=69, df_num=6\n",
      "\n",
      "Granger Causality\n",
      "number of lags (no zero) 10\n",
      "ssr based F test:         F=442.5718, p=0.0000  , df_denom=69, df_num=10\n",
      "ssr based chi2 test:   chi2=5772.6755, p=0.0000  , df=10\n",
      "likelihood ratio test: chi2=375.8897, p=0.0000  , df=10\n",
      "parameter F test:         F=297.7632, p=0.0000  , df_denom=69, df_num=6\n",
      "\n",
      "Granger Causality\n",
      "number of lags (no zero) 10\n",
      "ssr based F test:         F=466.8218, p=0.0000  , df_denom=69, df_num=10\n",
      "ssr based chi2 test:   chi2=6088.9794, p=0.0000  , df=10\n",
      "likelihood ratio test: chi2=380.6189, p=0.0000  , df=10\n",
      "parameter F test:         F=417.8619, p=0.0000  , df_denom=69, df_num=6\n",
      "\n",
      "Granger Causality\n",
      "number of lags (no zero) 10\n",
      "ssr based F test:         F=288.2652, p=0.0000  , df_denom=69, df_num=10\n",
      "ssr based chi2 test:   chi2=3759.9806, p=0.0000  , df=10\n",
      "likelihood ratio test: chi2=338.0412, p=0.0000  , df=10\n",
      "parameter F test:         F=190.5136, p=0.0000  , df_denom=69, df_num=6\n",
      "\n",
      "Granger Causality\n",
      "number of lags (no zero) 10\n",
      "ssr based F test:         F=187.8593, p=0.0000  , df_denom=69, df_num=10\n",
      "ssr based chi2 test:   chi2=2450.3382, p=0.0000  , df=10\n",
      "likelihood ratio test: chi2=300.6219, p=0.0000  , df=10\n",
      "parameter F test:         F=208.8013, p=0.0000  , df_denom=69, df_num=6\n",
      "\n",
      "Granger Causality\n",
      "number of lags (no zero) 10\n",
      "ssr based F test:         F=189.0515, p=0.0000  , df_denom=69, df_num=10\n",
      "ssr based chi2 test:   chi2=2465.8897, p=0.0000  , df=10\n",
      "likelihood ratio test: chi2=301.1711, p=0.0000  , df=10\n",
      "parameter F test:         F=232.2489, p=0.0000  , df_denom=69, df_num=6\n",
      "\n",
      "Granger Causality\n",
      "number of lags (no zero) 10\n",
      "ssr based F test:         F=188.5016, p=0.0000  , df_denom=69, df_num=10\n",
      "ssr based chi2 test:   chi2=2458.7170, p=0.0000  , df=10\n",
      "likelihood ratio test: chi2=300.9182, p=0.0000  , df=10\n",
      "parameter F test:         F=146.4079, p=0.0000  , df_denom=69, df_num=6\n",
      "\n",
      "Granger Causality\n",
      "number of lags (no zero) 10\n",
      "ssr based F test:         F=780.4727, p=0.0000  , df_denom=69, df_num=10\n",
      "ssr based chi2 test:   chi2=10180.0792, p=0.0000  , df=10\n",
      "likelihood ratio test: chi2=426.3462, p=0.0000  , df=10\n",
      "parameter F test:         F=571.1004, p=0.0000  , df_denom=69, df_num=7\n",
      "\n",
      "Granger Causality\n",
      "number of lags (no zero) 10\n",
      "ssr based F test:         F=303.3377, p=0.0000  , df_denom=69, df_num=10\n",
      "ssr based chi2 test:   chi2=3956.5789, p=0.0000  , df=10\n",
      "likelihood ratio test: chi2=342.5236, p=0.0000  , df=10\n",
      "parameter F test:         F=282.9957, p=0.0000  , df_denom=69, df_num=6\n",
      "\n",
      "Granger Causality\n",
      "number of lags (no zero) 10\n",
      "ssr based F test:         F=282.3501, p=0.0000  , df_denom=69, df_num=10\n",
      "ssr based chi2 test:   chi2=3682.8269, p=0.0000  , df=10\n",
      "likelihood ratio test: chi2=336.2193, p=0.0000  , df=10\n",
      "parameter F test:         F=193.3814, p=0.0000  , df_denom=69, df_num=6\n",
      "\n",
      "Granger Causality\n",
      "number of lags (no zero) 10\n",
      "ssr based F test:         F=185.4507, p=0.0000  , df_denom=69, df_num=10\n",
      "ssr based chi2 test:   chi2=2418.9225, p=0.0000  , df=10\n",
      "likelihood ratio test: chi2=299.5019, p=0.0000  , df=10\n",
      "parameter F test:         F=206.6332, p=0.0000  , df_denom=69, df_num=6\n",
      "\n",
      "Granger Causality\n",
      "number of lags (no zero) 10\n",
      "ssr based F test:         F=640.5275, p=0.0000  , df_denom=69, df_num=10\n",
      "ssr based chi2 test:   chi2=8354.7066, p=0.0000  , df=10\n",
      "likelihood ratio test: chi2=408.7337, p=0.0000  , df=10\n",
      "parameter F test:         F=407.2684, p=0.0000  , df_denom=69, df_num=6\n",
      "\n",
      "Granger Causality\n",
      "number of lags (no zero) 10\n",
      "ssr based F test:         F=788.3669, p=0.0000  , df_denom=69, df_num=10\n",
      "ssr based chi2 test:   chi2=10283.0464, p=0.0000  , df=10\n",
      "likelihood ratio test: chi2=427.2441, p=0.0000  , df=10\n",
      "parameter F test:         F=875.3787, p=0.0000  , df_denom=69, df_num=6\n",
      "\n",
      "Granger Causality\n",
      "number of lags (no zero) 10\n",
      "ssr based F test:         F=463.3554, p=0.0000  , df_denom=69, df_num=10\n",
      "ssr based chi2 test:   chi2=6043.7665, p=0.0000  , df=10\n",
      "likelihood ratio test: chi2=379.9579, p=0.0000  , df=10\n",
      "parameter F test:         F=311.9761, p=0.0000  , df_denom=69, df_num=6\n",
      "\n",
      "Granger Causality\n",
      "number of lags (no zero) 10\n",
      "ssr based F test:         F=628.9672, p=0.0000  , df_denom=69, df_num=10\n",
      "ssr based chi2 test:   chi2=8203.9202, p=0.0000  , df=10\n",
      "likelihood ratio test: chi2=407.1122, p=0.0000  , df=10\n",
      "parameter F test:         F=405.2333, p=0.0000  , df_denom=69, df_num=6\n",
      "\n",
      "Granger Causality\n",
      "number of lags (no zero) 10\n",
      "ssr based F test:         F=285.6706, p=0.0000  , df_denom=69, df_num=10\n",
      "ssr based chi2 test:   chi2=3726.1381, p=0.0000  , df=10\n",
      "likelihood ratio test: chi2=337.2466, p=0.0000  , df=10\n",
      "parameter F test:         F=267.0552, p=0.0000  , df_denom=69, df_num=6\n",
      "\n",
      "Granger Causality\n",
      "number of lags (no zero) 10\n",
      "ssr based F test:         F=183.4738, p=0.0000  , df_denom=69, df_num=10\n",
      "ssr based chi2 test:   chi2=2393.1362, p=0.0000  , df=10\n",
      "likelihood ratio test: chi2=298.5721, p=0.0000  , df=10\n",
      "parameter F test:         F=169.6632, p=0.0000  , df_denom=69, df_num=6\n",
      "\n",
      "Granger Causality\n",
      "number of lags (no zero) 10\n",
      "ssr based F test:         F=557.6432, p=0.0000  , df_denom=69, df_num=10\n",
      "ssr based chi2 test:   chi2=7273.6067, p=0.0000  , df=10\n",
      "likelihood ratio test: chi2=396.4046, p=0.0000  , df=10\n",
      "parameter F test:         F=368.9587, p=0.0000  , df_denom=69, df_num=6\n",
      "\n",
      "Granger Causality\n",
      "number of lags (no zero) 10\n",
      "ssr based F test:         F=252.2042, p=0.0000  , df_denom=69, df_num=10\n",
      "ssr based chi2 test:   chi2=3289.6203, p=0.0000  , df=10\n",
      "likelihood ratio test: chi2=326.3138, p=0.0000  , df=10\n",
      "parameter F test:         F=329.0038, p=0.0000  , df_denom=69, df_num=6\n",
      "\n",
      "Granger Causality\n",
      "number of lags (no zero) 10\n",
      "ssr based F test:         F=1572.8347, p=0.0000  , df_denom=69, df_num=10\n",
      "ssr based chi2 test:   chi2=20515.2357, p=0.0000  , df=10\n",
      "likelihood ratio test: chi2=489.0142, p=0.0000  , df=10\n",
      "parameter F test:         F=692.9706, p=0.0000  , df_denom=69, df_num=6\n",
      "\n",
      "Granger Causality\n",
      "number of lags (no zero) 10\n",
      "ssr based F test:         F=270.7181, p=0.0000  , df_denom=69, df_num=10\n",
      "ssr based chi2 test:   chi2=3531.1055, p=0.0000  , df=10\n",
      "likelihood ratio test: chi2=332.5252, p=0.0000  , df=10\n",
      "parameter F test:         F=229.0056, p=0.0000  , df_denom=69, df_num=6\n",
      "\n",
      "Granger Causality\n",
      "number of lags (no zero) 10\n",
      "ssr based F test:         F=189.6969, p=0.0000  , df_denom=69, df_num=10\n",
      "ssr based chi2 test:   chi2=2474.3074, p=0.0000  , df=10\n",
      "likelihood ratio test: chi2=301.4671, p=0.0000  , df=10\n",
      "parameter F test:         F=237.1724, p=0.0000  , df_denom=69, df_num=6\n",
      "\n",
      "Granger Causality\n",
      "number of lags (no zero) 10\n",
      "ssr based F test:         F=442.0053, p=0.0000  , df_denom=69, df_num=10\n",
      "ssr based chi2 test:   chi2=5765.2870, p=0.0000  , df=10\n",
      "likelihood ratio test: chi2=375.7762, p=0.0000  , df=10\n",
      "parameter F test:         F=297.5569, p=0.0000  , df_denom=69, df_num=6\n",
      "\n",
      "Granger Causality\n",
      "number of lags (no zero) 10\n",
      "ssr based F test:         F=244.0839, p=0.0000  , df_denom=69, df_num=10\n",
      "ssr based chi2 test:   chi2=3183.7025, p=0.0000  , df=10\n",
      "likelihood ratio test: chi2=323.4480, p=0.0000  , df=10\n",
      "parameter F test:         F=318.5732, p=0.0000  , df_denom=69, df_num=6\n",
      "\n",
      "Granger Causality\n",
      "number of lags (no zero) 10\n",
      "ssr based F test:         F=246.1595, p=0.0000  , df_denom=69, df_num=10\n",
      "ssr based chi2 test:   chi2=3210.7765, p=0.0000  , df=10\n",
      "likelihood ratio test: chi2=324.1893, p=0.0000  , df=10\n",
      "parameter F test:         F=190.3832, p=0.0000  , df_denom=69, df_num=6\n",
      "\n",
      "Granger Causality\n",
      "number of lags (no zero) 10\n",
      "ssr based F test:         F=797.0905, p=0.0000  , df_denom=69, df_num=10\n",
      "ssr based chi2 test:   chi2=10396.8322, p=0.0000  , df=10\n",
      "likelihood ratio test: chi2=428.2259, p=0.0000  , df=10\n",
      "parameter F test:         F=614.5182, p=0.0000  , df_denom=69, df_num=7\n",
      "\n",
      "Granger Causality\n",
      "number of lags (no zero) 10\n",
      "ssr based F test:         F=792.4249, p=0.0000  , df_denom=69, df_num=10\n",
      "ssr based chi2 test:   chi2=10335.9765, p=0.0000  , df=10\n",
      "likelihood ratio test: chi2=427.7021, p=0.0000  , df=10\n",
      "parameter F test:         F=635.2127, p=0.0000  , df_denom=69, df_num=7\n",
      "\n",
      "Granger Causality\n",
      "number of lags (no zero) 10\n",
      "ssr based F test:         F=732.1842, p=0.0000  , df_denom=69, df_num=10\n",
      "ssr based chi2 test:   chi2=9550.2282, p=0.0000  , df=10\n",
      "likelihood ratio test: chi2=420.6501, p=0.0000  , df=10\n",
      "parameter F test:         F=434.0585, p=0.0000  , df_denom=69, df_num=6\n",
      "\n",
      "Granger Causality\n",
      "number of lags (no zero) 10\n",
      "ssr based F test:         F=191.9000, p=0.0000  , df_denom=69, df_num=10\n",
      "ssr based chi2 test:   chi2=2503.0435, p=0.0000  , df=10\n",
      "likelihood ratio test: chi2=302.4700, p=0.0000  , df=10\n",
      "parameter F test:         F=215.9120, p=0.0000  , df_denom=69, df_num=6\n",
      "\n",
      "Granger Causality\n",
      "number of lags (no zero) 10\n",
      "ssr based F test:         F=262.3657, p=0.0000  , df_denom=69, df_num=10\n",
      "ssr based chi2 test:   chi2=3422.1619, p=0.0000  , df=10\n",
      "likelihood ratio test: chi2=329.7760, p=0.0000  , df=10\n",
      "parameter F test:         F=223.9854, p=0.0000  , df_denom=69, df_num=6\n",
      "\n",
      "Granger Causality\n",
      "number of lags (no zero) 10\n",
      "ssr based F test:         F=227.0798, p=0.0000  , df_denom=69, df_num=10\n",
      "ssr based chi2 test:   chi2=2961.9111, p=0.0000  , df=10\n",
      "likelihood ratio test: chi2=317.1342, p=0.0000  , df=10\n",
      "parameter F test:         F=201.4634, p=0.0000  , df_denom=69, df_num=6\n",
      "\n",
      "Granger Causality\n",
      "number of lags (no zero) 10\n",
      "ssr based F test:         F=188.2521, p=0.0000  , df_denom=69, df_num=10\n",
      "ssr based chi2 test:   chi2=2455.4626, p=0.0000  , df=10\n",
      "likelihood ratio test: chi2=300.8032, p=0.0000  , df=10\n",
      "parameter F test:         F=230.1615, p=0.0000  , df_denom=69, df_num=6\n",
      "\n",
      "Granger Causality\n",
      "number of lags (no zero) 10\n",
      "ssr based F test:         F=222.0436, p=0.0000  , df_denom=69, df_num=10\n",
      "ssr based chi2 test:   chi2=2896.2211, p=0.0000  , df=10\n",
      "likelihood ratio test: chi2=315.1759, p=0.0000  , df=10\n",
      "parameter F test:         F=194.9596, p=0.0000  , df_denom=69, df_num=6\n",
      "\n",
      "Granger Causality\n",
      "number of lags (no zero) 10\n",
      "ssr based F test:         F=183.7823, p=0.0000  , df_denom=69, df_num=10\n",
      "ssr based chi2 test:   chi2=2397.1600, p=0.0000  , df=10\n",
      "likelihood ratio test: chi2=298.7178, p=0.0000  , df=10\n",
      "parameter F test:         F=230.4282, p=0.0000  , df_denom=69, df_num=6\n",
      "\n",
      "Granger Causality\n",
      "number of lags (no zero) 10\n",
      "ssr based F test:         F=187.3760, p=0.0000  , df_denom=69, df_num=10\n",
      "ssr based chi2 test:   chi2=2444.0344, p=0.0000  , df=10\n",
      "likelihood ratio test: chi2=300.3982, p=0.0000  , df=10\n",
      "parameter F test:         F=228.7968, p=0.0000  , df_denom=69, df_num=6\n",
      "\n",
      "Granger Causality\n",
      "number of lags (no zero) 10\n",
      "ssr based F test:         F=238.5128, p=0.0000  , df_denom=69, df_num=10\n",
      "ssr based chi2 test:   chi2=3111.0370, p=0.0000  , df=10\n",
      "likelihood ratio test: chi2=321.4278, p=0.0000  , df=10\n",
      "parameter F test:         F=188.5293, p=0.0000  , df_denom=69, df_num=6\n",
      "\n",
      "Granger Causality\n",
      "number of lags (no zero) 10\n"
     ]
    },
    {
     "name": "stderr",
     "output_type": "stream",
     "text": [
      "/Users/oost464/opt/anaconda3/envs/pyciems310/lib/python3.10/site-packages/statsmodels/base/model.py:1896: ValueWarning: covariance of constraints does not have full rank. The number of constraints is 10, but rank is 6\n",
      "  warnings.warn('covariance of constraints does not have full '\n",
      "/Users/oost464/opt/anaconda3/envs/pyciems310/lib/python3.10/site-packages/statsmodels/base/model.py:1896: ValueWarning: covariance of constraints does not have full rank. The number of constraints is 10, but rank is 6\n",
      "  warnings.warn('covariance of constraints does not have full '\n",
      "/Users/oost464/opt/anaconda3/envs/pyciems310/lib/python3.10/site-packages/statsmodels/base/model.py:1896: ValueWarning: covariance of constraints does not have full rank. The number of constraints is 10, but rank is 6\n",
      "  warnings.warn('covariance of constraints does not have full '\n",
      "/Users/oost464/opt/anaconda3/envs/pyciems310/lib/python3.10/site-packages/statsmodels/base/model.py:1896: ValueWarning: covariance of constraints does not have full rank. The number of constraints is 10, but rank is 6\n",
      "  warnings.warn('covariance of constraints does not have full '\n",
      "/Users/oost464/opt/anaconda3/envs/pyciems310/lib/python3.10/site-packages/statsmodels/base/model.py:1896: ValueWarning: covariance of constraints does not have full rank. The number of constraints is 10, but rank is 6\n",
      "  warnings.warn('covariance of constraints does not have full '\n",
      "/Users/oost464/opt/anaconda3/envs/pyciems310/lib/python3.10/site-packages/statsmodels/base/model.py:1896: ValueWarning: covariance of constraints does not have full rank. The number of constraints is 10, but rank is 6\n",
      "  warnings.warn('covariance of constraints does not have full '\n",
      "/Users/oost464/opt/anaconda3/envs/pyciems310/lib/python3.10/site-packages/statsmodels/base/model.py:1896: ValueWarning: covariance of constraints does not have full rank. The number of constraints is 10, but rank is 6\n",
      "  warnings.warn('covariance of constraints does not have full '\n",
      "/Users/oost464/opt/anaconda3/envs/pyciems310/lib/python3.10/site-packages/statsmodels/base/model.py:1896: ValueWarning: covariance of constraints does not have full rank. The number of constraints is 10, but rank is 6\n",
      "  warnings.warn('covariance of constraints does not have full '\n",
      "/Users/oost464/opt/anaconda3/envs/pyciems310/lib/python3.10/site-packages/statsmodels/base/model.py:1896: ValueWarning: covariance of constraints does not have full rank. The number of constraints is 10, but rank is 6\n",
      "  warnings.warn('covariance of constraints does not have full '\n",
      "/Users/oost464/opt/anaconda3/envs/pyciems310/lib/python3.10/site-packages/statsmodels/base/model.py:1896: ValueWarning: covariance of constraints does not have full rank. The number of constraints is 10, but rank is 6\n",
      "  warnings.warn('covariance of constraints does not have full '\n",
      "/Users/oost464/opt/anaconda3/envs/pyciems310/lib/python3.10/site-packages/statsmodels/base/model.py:1896: ValueWarning: covariance of constraints does not have full rank. The number of constraints is 10, but rank is 6\n",
      "  warnings.warn('covariance of constraints does not have full '\n",
      "/Users/oost464/opt/anaconda3/envs/pyciems310/lib/python3.10/site-packages/statsmodels/base/model.py:1896: ValueWarning: covariance of constraints does not have full rank. The number of constraints is 10, but rank is 6\n",
      "  warnings.warn('covariance of constraints does not have full '\n",
      "/Users/oost464/opt/anaconda3/envs/pyciems310/lib/python3.10/site-packages/statsmodels/base/model.py:1896: ValueWarning: covariance of constraints does not have full rank. The number of constraints is 10, but rank is 6\n",
      "  warnings.warn('covariance of constraints does not have full '\n",
      "/Users/oost464/opt/anaconda3/envs/pyciems310/lib/python3.10/site-packages/statsmodels/base/model.py:1896: ValueWarning: covariance of constraints does not have full rank. The number of constraints is 10, but rank is 6\n",
      "  warnings.warn('covariance of constraints does not have full '\n",
      "/Users/oost464/opt/anaconda3/envs/pyciems310/lib/python3.10/site-packages/statsmodels/base/model.py:1896: ValueWarning: covariance of constraints does not have full rank. The number of constraints is 10, but rank is 6\n",
      "  warnings.warn('covariance of constraints does not have full '\n",
      "/Users/oost464/opt/anaconda3/envs/pyciems310/lib/python3.10/site-packages/statsmodels/base/model.py:1896: ValueWarning: covariance of constraints does not have full rank. The number of constraints is 10, but rank is 6\n",
      "  warnings.warn('covariance of constraints does not have full '\n",
      "/Users/oost464/opt/anaconda3/envs/pyciems310/lib/python3.10/site-packages/statsmodels/base/model.py:1896: ValueWarning: covariance of constraints does not have full rank. The number of constraints is 10, but rank is 6\n",
      "  warnings.warn('covariance of constraints does not have full '\n",
      "/Users/oost464/opt/anaconda3/envs/pyciems310/lib/python3.10/site-packages/statsmodels/base/model.py:1896: ValueWarning: covariance of constraints does not have full rank. The number of constraints is 10, but rank is 6\n",
      "  warnings.warn('covariance of constraints does not have full '\n",
      "/Users/oost464/opt/anaconda3/envs/pyciems310/lib/python3.10/site-packages/statsmodels/base/model.py:1896: ValueWarning: covariance of constraints does not have full rank. The number of constraints is 10, but rank is 6\n",
      "  warnings.warn('covariance of constraints does not have full '\n",
      "/Users/oost464/opt/anaconda3/envs/pyciems310/lib/python3.10/site-packages/statsmodels/base/model.py:1896: ValueWarning: covariance of constraints does not have full rank. The number of constraints is 10, but rank is 6\n",
      "  warnings.warn('covariance of constraints does not have full '\n",
      "/Users/oost464/opt/anaconda3/envs/pyciems310/lib/python3.10/site-packages/statsmodels/base/model.py:1896: ValueWarning: covariance of constraints does not have full rank. The number of constraints is 10, but rank is 6\n",
      "  warnings.warn('covariance of constraints does not have full '\n",
      "/Users/oost464/opt/anaconda3/envs/pyciems310/lib/python3.10/site-packages/statsmodels/base/model.py:1896: ValueWarning: covariance of constraints does not have full rank. The number of constraints is 10, but rank is 6\n",
      "  warnings.warn('covariance of constraints does not have full '\n",
      "/Users/oost464/opt/anaconda3/envs/pyciems310/lib/python3.10/site-packages/statsmodels/base/model.py:1896: ValueWarning: covariance of constraints does not have full rank. The number of constraints is 10, but rank is 6\n",
      "  warnings.warn('covariance of constraints does not have full '\n",
      "/Users/oost464/opt/anaconda3/envs/pyciems310/lib/python3.10/site-packages/statsmodels/base/model.py:1896: ValueWarning: covariance of constraints does not have full rank. The number of constraints is 10, but rank is 6\n",
      "  warnings.warn('covariance of constraints does not have full '\n",
      "/Users/oost464/opt/anaconda3/envs/pyciems310/lib/python3.10/site-packages/statsmodels/base/model.py:1896: ValueWarning: covariance of constraints does not have full rank. The number of constraints is 10, but rank is 7\n",
      "  warnings.warn('covariance of constraints does not have full '\n",
      "/Users/oost464/opt/anaconda3/envs/pyciems310/lib/python3.10/site-packages/statsmodels/base/model.py:1896: ValueWarning: covariance of constraints does not have full rank. The number of constraints is 10, but rank is 6\n",
      "  warnings.warn('covariance of constraints does not have full '\n",
      "/Users/oost464/opt/anaconda3/envs/pyciems310/lib/python3.10/site-packages/statsmodels/base/model.py:1896: ValueWarning: covariance of constraints does not have full rank. The number of constraints is 10, but rank is 6\n",
      "  warnings.warn('covariance of constraints does not have full '\n",
      "/Users/oost464/opt/anaconda3/envs/pyciems310/lib/python3.10/site-packages/statsmodels/base/model.py:1896: ValueWarning: covariance of constraints does not have full rank. The number of constraints is 10, but rank is 6\n",
      "  warnings.warn('covariance of constraints does not have full '\n",
      "/Users/oost464/opt/anaconda3/envs/pyciems310/lib/python3.10/site-packages/statsmodels/base/model.py:1896: ValueWarning: covariance of constraints does not have full rank. The number of constraints is 10, but rank is 6\n",
      "  warnings.warn('covariance of constraints does not have full '\n",
      "/Users/oost464/opt/anaconda3/envs/pyciems310/lib/python3.10/site-packages/statsmodels/base/model.py:1896: ValueWarning: covariance of constraints does not have full rank. The number of constraints is 10, but rank is 6\n",
      "  warnings.warn('covariance of constraints does not have full '\n",
      "/Users/oost464/opt/anaconda3/envs/pyciems310/lib/python3.10/site-packages/statsmodels/base/model.py:1896: ValueWarning: covariance of constraints does not have full rank. The number of constraints is 10, but rank is 6\n",
      "  warnings.warn('covariance of constraints does not have full '\n",
      "/Users/oost464/opt/anaconda3/envs/pyciems310/lib/python3.10/site-packages/statsmodels/base/model.py:1896: ValueWarning: covariance of constraints does not have full rank. The number of constraints is 10, but rank is 6\n",
      "  warnings.warn('covariance of constraints does not have full '\n",
      "/Users/oost464/opt/anaconda3/envs/pyciems310/lib/python3.10/site-packages/statsmodels/base/model.py:1896: ValueWarning: covariance of constraints does not have full rank. The number of constraints is 10, but rank is 6\n",
      "  warnings.warn('covariance of constraints does not have full '\n",
      "/Users/oost464/opt/anaconda3/envs/pyciems310/lib/python3.10/site-packages/statsmodels/base/model.py:1896: ValueWarning: covariance of constraints does not have full rank. The number of constraints is 10, but rank is 6\n",
      "  warnings.warn('covariance of constraints does not have full '\n",
      "/Users/oost464/opt/anaconda3/envs/pyciems310/lib/python3.10/site-packages/statsmodels/base/model.py:1896: ValueWarning: covariance of constraints does not have full rank. The number of constraints is 10, but rank is 6\n",
      "  warnings.warn('covariance of constraints does not have full '\n",
      "/Users/oost464/opt/anaconda3/envs/pyciems310/lib/python3.10/site-packages/statsmodels/base/model.py:1896: ValueWarning: covariance of constraints does not have full rank. The number of constraints is 10, but rank is 6\n",
      "  warnings.warn('covariance of constraints does not have full '\n",
      "/Users/oost464/opt/anaconda3/envs/pyciems310/lib/python3.10/site-packages/statsmodels/base/model.py:1896: ValueWarning: covariance of constraints does not have full rank. The number of constraints is 10, but rank is 6\n",
      "  warnings.warn('covariance of constraints does not have full '\n",
      "/Users/oost464/opt/anaconda3/envs/pyciems310/lib/python3.10/site-packages/statsmodels/base/model.py:1896: ValueWarning: covariance of constraints does not have full rank. The number of constraints is 10, but rank is 6\n",
      "  warnings.warn('covariance of constraints does not have full '\n",
      "/Users/oost464/opt/anaconda3/envs/pyciems310/lib/python3.10/site-packages/statsmodels/base/model.py:1896: ValueWarning: covariance of constraints does not have full rank. The number of constraints is 10, but rank is 6\n",
      "  warnings.warn('covariance of constraints does not have full '\n",
      "/Users/oost464/opt/anaconda3/envs/pyciems310/lib/python3.10/site-packages/statsmodels/base/model.py:1896: ValueWarning: covariance of constraints does not have full rank. The number of constraints is 10, but rank is 6\n",
      "  warnings.warn('covariance of constraints does not have full '\n",
      "/Users/oost464/opt/anaconda3/envs/pyciems310/lib/python3.10/site-packages/statsmodels/base/model.py:1896: ValueWarning: covariance of constraints does not have full rank. The number of constraints is 10, but rank is 6\n",
      "  warnings.warn('covariance of constraints does not have full '\n",
      "/Users/oost464/opt/anaconda3/envs/pyciems310/lib/python3.10/site-packages/statsmodels/base/model.py:1896: ValueWarning: covariance of constraints does not have full rank. The number of constraints is 10, but rank is 6\n",
      "  warnings.warn('covariance of constraints does not have full '\n",
      "/Users/oost464/opt/anaconda3/envs/pyciems310/lib/python3.10/site-packages/statsmodels/base/model.py:1896: ValueWarning: covariance of constraints does not have full rank. The number of constraints is 10, but rank is 7\n",
      "  warnings.warn('covariance of constraints does not have full '\n",
      "/Users/oost464/opt/anaconda3/envs/pyciems310/lib/python3.10/site-packages/statsmodels/base/model.py:1896: ValueWarning: covariance of constraints does not have full rank. The number of constraints is 10, but rank is 7\n",
      "  warnings.warn('covariance of constraints does not have full '\n",
      "/Users/oost464/opt/anaconda3/envs/pyciems310/lib/python3.10/site-packages/statsmodels/base/model.py:1896: ValueWarning: covariance of constraints does not have full rank. The number of constraints is 10, but rank is 6\n",
      "  warnings.warn('covariance of constraints does not have full '\n",
      "/Users/oost464/opt/anaconda3/envs/pyciems310/lib/python3.10/site-packages/statsmodels/base/model.py:1896: ValueWarning: covariance of constraints does not have full rank. The number of constraints is 10, but rank is 6\n",
      "  warnings.warn('covariance of constraints does not have full '\n",
      "/Users/oost464/opt/anaconda3/envs/pyciems310/lib/python3.10/site-packages/statsmodels/base/model.py:1896: ValueWarning: covariance of constraints does not have full rank. The number of constraints is 10, but rank is 6\n",
      "  warnings.warn('covariance of constraints does not have full '\n",
      "/Users/oost464/opt/anaconda3/envs/pyciems310/lib/python3.10/site-packages/statsmodels/base/model.py:1896: ValueWarning: covariance of constraints does not have full rank. The number of constraints is 10, but rank is 6\n",
      "  warnings.warn('covariance of constraints does not have full '\n",
      "/Users/oost464/opt/anaconda3/envs/pyciems310/lib/python3.10/site-packages/statsmodels/base/model.py:1896: ValueWarning: covariance of constraints does not have full rank. The number of constraints is 10, but rank is 6\n",
      "  warnings.warn('covariance of constraints does not have full '\n",
      "/Users/oost464/opt/anaconda3/envs/pyciems310/lib/python3.10/site-packages/statsmodels/base/model.py:1896: ValueWarning: covariance of constraints does not have full rank. The number of constraints is 10, but rank is 6\n",
      "  warnings.warn('covariance of constraints does not have full '\n",
      "/Users/oost464/opt/anaconda3/envs/pyciems310/lib/python3.10/site-packages/statsmodels/base/model.py:1896: ValueWarning: covariance of constraints does not have full rank. The number of constraints is 10, but rank is 6\n",
      "  warnings.warn('covariance of constraints does not have full '\n",
      "/Users/oost464/opt/anaconda3/envs/pyciems310/lib/python3.10/site-packages/statsmodels/base/model.py:1896: ValueWarning: covariance of constraints does not have full rank. The number of constraints is 10, but rank is 6\n",
      "  warnings.warn('covariance of constraints does not have full '\n",
      "/Users/oost464/opt/anaconda3/envs/pyciems310/lib/python3.10/site-packages/statsmodels/base/model.py:1896: ValueWarning: covariance of constraints does not have full rank. The number of constraints is 10, but rank is 6\n",
      "  warnings.warn('covariance of constraints does not have full '\n"
     ]
    },
    {
     "name": "stdout",
     "output_type": "stream",
     "text": [
      "ssr based F test:         F=765.2085, p=0.0000  , df_denom=69, df_num=10\n",
      "ssr based chi2 test:   chi2=9980.9799, p=0.0000  , df=10\n",
      "likelihood ratio test: chi2=424.5843, p=0.0000  , df=10\n",
      "parameter F test:         F=428.0135, p=0.0000  , df_denom=69, df_num=6\n",
      "\n",
      "Granger Causality\n",
      "number of lags (no zero) 10\n",
      "ssr based F test:         F=187.6483, p=0.0000  , df_denom=69, df_num=10\n",
      "ssr based chi2 test:   chi2=2447.5862, p=0.0000  , df=10\n",
      "likelihood ratio test: chi2=300.5243, p=0.0000  , df=10\n",
      "parameter F test:         F=232.0640, p=0.0000  , df_denom=69, df_num=6\n",
      "\n",
      "Granger Causality\n",
      "number of lags (no zero) 10\n",
      "ssr based F test:         F=302.9622, p=0.0000  , df_denom=69, df_num=10\n",
      "ssr based chi2 test:   chi2=3951.6813, p=0.0000  , df=10\n",
      "likelihood ratio test: chi2=342.4146, p=0.0000  , df=10\n",
      "parameter F test:         F=282.5792, p=0.0000  , df_denom=69, df_num=6\n",
      "\n",
      "Granger Causality\n",
      "number of lags (no zero) 10\n",
      "ssr based F test:         F=749.3228, p=0.0000  , df_denom=69, df_num=10\n",
      "ssr based chi2 test:   chi2=9773.7752, p=0.0000  , df=10\n",
      "likelihood ratio test: chi2=422.7133, p=0.0000  , df=10\n",
      "parameter F test:         F=431.6295, p=0.0000  , df_denom=69, df_num=6\n",
      "\n",
      "Granger Causality\n",
      "number of lags (no zero) 10\n",
      "ssr based F test:         F=248.7760, p=0.0000  , df_denom=69, df_num=10\n",
      "ssr based chi2 test:   chi2=3244.9042, p=0.0000  , df=10\n",
      "likelihood ratio test: chi2=325.1151, p=0.0000  , df=10\n",
      "parameter F test:         F=190.9468, p=0.0000  , df_denom=69, df_num=6\n",
      "\n",
      "Granger Causality\n",
      "number of lags (no zero) 10\n",
      "ssr based F test:         F=250.6308, p=0.0000  , df_denom=69, df_num=10\n",
      "ssr based chi2 test:   chi2=3269.0976, p=0.0000  , df=10\n",
      "likelihood ratio test: chi2=325.7656, p=0.0000  , df=10\n",
      "parameter F test:         F=325.8102, p=0.0000  , df_denom=69, df_num=6\n",
      "\n",
      "Granger Causality\n",
      "number of lags (no zero) 10\n",
      "ssr based F test:         F=193.4710, p=0.0000  , df_denom=69, df_num=10\n",
      "ssr based chi2 test:   chi2=2523.5344, p=0.0000  , df=10\n",
      "likelihood ratio test: chi2=303.1784, p=0.0000  , df=10\n",
      "parameter F test:         F=240.2190, p=0.0000  , df_denom=69, df_num=6\n",
      "\n",
      "Granger Causality\n",
      "number of lags (no zero) 10\n",
      "ssr based F test:         F=781.0817, p=0.0000  , df_denom=69, df_num=10\n",
      "ssr based chi2 test:   chi2=10188.0228, p=0.0000  , df=10\n",
      "likelihood ratio test: chi2=426.4158, p=0.0000  , df=10\n",
      "parameter F test:         F=879.4778, p=0.0000  , df_denom=69, df_num=6\n",
      "\n",
      "Granger Causality\n",
      "number of lags (no zero) 10\n",
      "ssr based F test:         F=183.7387, p=0.0000  , df_denom=69, df_num=10\n",
      "ssr based chi2 test:   chi2=2396.5911, p=0.0000  , df=10\n",
      "likelihood ratio test: chi2=298.6973, p=0.0000  , df=10\n",
      "parameter F test:         F=209.1194, p=0.0000  , df_denom=69, df_num=6\n",
      "\n",
      "Granger Causality\n",
      "number of lags (no zero) 10\n",
      "ssr based F test:         F=628.7644, p=0.0000  , df_denom=69, df_num=10\n",
      "ssr based chi2 test:   chi2=8201.2754, p=0.0000  , df=10\n",
      "likelihood ratio test: chi2=407.0834, p=0.0000  , df=10\n",
      "parameter F test:         F=400.3885, p=0.0000  , df_denom=69, df_num=6\n",
      "\n",
      "Granger Causality\n",
      "number of lags (no zero) 10\n",
      "ssr based F test:         F=-7.2999 , p=1.0000  , df_denom=73, df_num=10\n",
      "ssr based chi2 test:   chi2=-89.9984, p=1.0000  , df=10\n",
      "likelihood ratio test: chi2=-987.1811, p=1.0000  , df=10\n",
      "parameter F test:         F=0.4620  , p=0.8588  , df_denom=73, df_num=7\n",
      "\n",
      "Granger Causality\n",
      "number of lags (no zero) 10\n",
      "ssr based F test:         F=-7.2990 , p=1.0000  , df_denom=73, df_num=10\n",
      "ssr based chi2 test:   chi2=-89.9880, p=1.0000  , df=10\n",
      "likelihood ratio test: chi2=-803.0109, p=1.0000  , df=10\n",
      "parameter F test:         F=3.5687  , p=0.0024  , df_denom=73, df_num=7\n",
      "\n",
      "Granger Causality\n",
      "number of lags (no zero) 10\n",
      "ssr based F test:         F=-7.3000 , p=1.0000  , df_denom=73, df_num=10\n",
      "ssr based chi2 test:   chi2=-90.0000, p=1.0000  , df=10\n",
      "likelihood ratio test: chi2=-1436.1269, p=1.0000  , df=10\n",
      "parameter F test:         F=0.0032  , p=1.0000  , df_denom=73, df_num=7\n",
      "\n",
      "Granger Causality\n",
      "number of lags (no zero) 10\n",
      "ssr based F test:         F=-7.3000 , p=1.0000  , df_denom=73, df_num=10\n",
      "ssr based chi2 test:   chi2=-90.0000, p=1.0000  , df=10\n",
      "likelihood ratio test: chi2=-1406.4231, p=1.0000  , df=10\n",
      "parameter F test:         F=0.0044  , p=1.0000  , df_denom=73, df_num=7\n",
      "\n",
      "Granger Causality\n",
      "number of lags (no zero) 10\n",
      "ssr based F test:         F=-7.3000 , p=1.0000  , df_denom=73, df_num=10\n",
      "ssr based chi2 test:   chi2=-90.0000, p=1.0000  , df=10\n",
      "likelihood ratio test: chi2=-1414.2126, p=1.0000  , df=10\n",
      "parameter F test:         F=0.0040  , p=1.0000  , df_denom=73, df_num=7\n",
      "\n",
      "Granger Causality\n",
      "number of lags (no zero) 10\n",
      "ssr based F test:         F=-7.2985 , p=1.0000  , df_denom=73, df_num=10\n",
      "ssr based chi2 test:   chi2=-89.9818, p=1.0000  , df=10\n",
      "likelihood ratio test: chi2=-765.7759, p=1.0000  , df=10\n",
      "parameter F test:         F=5.4013  , p=0.0001  , df_denom=73, df_num=7\n",
      "\n",
      "Granger Causality\n",
      "number of lags (no zero) 10\n",
      "ssr based F test:         F=-7.3000 , p=1.0000  , df_denom=73, df_num=10\n",
      "ssr based chi2 test:   chi2=-89.9999, p=1.0000  , df=10\n",
      "likelihood ratio test: chi2=-1267.7467, p=1.0000  , df=10\n",
      "parameter F test:         F=0.0204  , p=1.0000  , df_denom=73, df_num=7\n",
      "\n",
      "Granger Causality\n",
      "number of lags (no zero) 10\n",
      "ssr based F test:         F=-7.3000 , p=1.0000  , df_denom=73, df_num=10\n",
      "ssr based chi2 test:   chi2=-90.0000, p=1.0000  , df=10\n",
      "likelihood ratio test: chi2=-1447.1616, p=1.0000  , df=10\n",
      "parameter F test:         F=0.0028  , p=1.0000  , df_denom=73, df_num=7\n",
      "\n",
      "Granger Causality\n",
      "number of lags (no zero) 10\n",
      "ssr based F test:         F=-7.2999 , p=1.0000  , df_denom=73, df_num=10\n",
      "ssr based chi2 test:   chi2=-89.9989, p=1.0000  , df=10\n",
      "likelihood ratio test: chi2=-1020.3093, p=1.0000  , df=10\n",
      "parameter F test:         F=0.3190  , p=0.9431  , df_denom=73, df_num=7\n",
      "\n",
      "Granger Causality\n",
      "number of lags (no zero) 10\n",
      "ssr based F test:         F=-7.3000 , p=1.0000  , df_denom=73, df_num=10\n",
      "ssr based chi2 test:   chi2=-90.0000, p=1.0000  , df=10\n",
      "likelihood ratio test: chi2=-1445.7522, p=1.0000  , df=10\n",
      "parameter F test:         F=0.0028  , p=1.0000  , df_denom=73, df_num=7\n",
      "\n",
      "Granger Causality\n",
      "number of lags (no zero) 10\n",
      "ssr based F test:         F=-7.3000 , p=1.0000  , df_denom=73, df_num=10\n",
      "ssr based chi2 test:   chi2=-89.9999, p=1.0000  , df=10\n",
      "likelihood ratio test: chi2=-1205.3275, p=1.0000  , df=10\n",
      "parameter F test:         F=0.0409  , p=0.9999  , df_denom=73, df_num=7\n",
      "\n",
      "Granger Causality\n",
      "number of lags (no zero) 10\n",
      "ssr based F test:         F=-7.3000 , p=1.0000  , df_denom=73, df_num=10\n",
      "ssr based chi2 test:   chi2=-90.0000, p=1.0000  , df=10\n",
      "likelihood ratio test: chi2=-1434.6240, p=1.0000  , df=10\n",
      "parameter F test:         F=0.0032  , p=1.0000  , df_denom=73, df_num=7\n",
      "\n",
      "Granger Causality\n",
      "number of lags (no zero) 10\n",
      "ssr based F test:         F=-7.3000 , p=1.0000  , df_denom=73, df_num=10\n",
      "ssr based chi2 test:   chi2=-89.9999, p=1.0000  , df=10\n",
      "likelihood ratio test: chi2=-1270.0782, p=1.0000  , df=10\n",
      "parameter F test:         F=0.0199  , p=1.0000  , df_denom=73, df_num=7\n",
      "\n",
      "Granger Causality\n",
      "number of lags (no zero) 10\n",
      "ssr based F test:         F=-7.3000 , p=1.0000  , df_denom=73, df_num=10\n",
      "ssr based chi2 test:   chi2=-89.9999, p=1.0000  , df=10\n",
      "likelihood ratio test: chi2=-1222.1726, p=1.0000  , df=10\n",
      "parameter F test:         F=0.0340  , p=0.9999  , df_denom=73, df_num=7\n",
      "\n",
      "Granger Causality\n",
      "number of lags (no zero) 10\n",
      "ssr based F test:         F=-7.2996 , p=1.0000  , df_denom=73, df_num=10\n",
      "ssr based chi2 test:   chi2=-89.9950, p=1.0000  , df=10\n",
      "likelihood ratio test: chi2=-881.4609, p=1.0000  , df=10\n",
      "parameter F test:         F=1.4963  , p=0.1821  , df_denom=73, df_num=7\n",
      "\n",
      "Granger Causality\n",
      "number of lags (no zero) 10\n",
      "ssr based F test:         F=-7.3000 , p=1.0000  , df_denom=73, df_num=10\n",
      "ssr based chi2 test:   chi2=-90.0000, p=1.0000  , df=10\n",
      "likelihood ratio test: chi2=-1323.8185, p=1.0000  , df=10\n",
      "parameter F test:         F=0.0110  , p=1.0000  , df_denom=73, df_num=7\n",
      "\n",
      "Granger Causality\n",
      "number of lags (no zero) 10\n",
      "ssr based F test:         F=-7.3000 , p=1.0000  , df_denom=73, df_num=10\n",
      "ssr based chi2 test:   chi2=-90.0000, p=1.0000  , df=10\n",
      "likelihood ratio test: chi2=-1389.0914, p=1.0000  , df=10\n",
      "parameter F test:         F=0.0053  , p=1.0000  , df_denom=73, df_num=7\n",
      "\n",
      "Granger Causality\n",
      "number of lags (no zero) 10\n",
      "ssr based F test:         F=-7.3000 , p=1.0000  , df_denom=73, df_num=10\n",
      "ssr based chi2 test:   chi2=-90.0000, p=1.0000  , df=10\n",
      "likelihood ratio test: chi2=-1423.0431, p=1.0000  , df=10\n",
      "parameter F test:         F=0.0036  , p=1.0000  , df_denom=73, df_num=7\n",
      "\n",
      "Granger Causality\n",
      "number of lags (no zero) 10\n"
     ]
    },
    {
     "name": "stderr",
     "output_type": "stream",
     "text": [
      "/Users/oost464/opt/anaconda3/envs/pyciems310/lib/python3.10/site-packages/statsmodels/base/model.py:1896: ValueWarning: covariance of constraints does not have full rank. The number of constraints is 10, but rank is 6\n",
      "  warnings.warn('covariance of constraints does not have full '\n",
      "/Users/oost464/opt/anaconda3/envs/pyciems310/lib/python3.10/site-packages/statsmodels/base/model.py:1896: ValueWarning: covariance of constraints does not have full rank. The number of constraints is 10, but rank is 6\n",
      "  warnings.warn('covariance of constraints does not have full '\n",
      "/Users/oost464/opt/anaconda3/envs/pyciems310/lib/python3.10/site-packages/statsmodels/base/model.py:1896: ValueWarning: covariance of constraints does not have full rank. The number of constraints is 10, but rank is 6\n",
      "  warnings.warn('covariance of constraints does not have full '\n",
      "/Users/oost464/opt/anaconda3/envs/pyciems310/lib/python3.10/site-packages/statsmodels/base/model.py:1896: ValueWarning: covariance of constraints does not have full rank. The number of constraints is 10, but rank is 6\n",
      "  warnings.warn('covariance of constraints does not have full '\n",
      "/Users/oost464/opt/anaconda3/envs/pyciems310/lib/python3.10/site-packages/statsmodels/base/model.py:1896: ValueWarning: covariance of constraints does not have full rank. The number of constraints is 10, but rank is 6\n",
      "  warnings.warn('covariance of constraints does not have full '\n",
      "/Users/oost464/opt/anaconda3/envs/pyciems310/lib/python3.10/site-packages/statsmodels/base/model.py:1896: ValueWarning: covariance of constraints does not have full rank. The number of constraints is 10, but rank is 6\n",
      "  warnings.warn('covariance of constraints does not have full '\n",
      "/Users/oost464/opt/anaconda3/envs/pyciems310/lib/python3.10/site-packages/statsmodels/base/model.py:1896: ValueWarning: covariance of constraints does not have full rank. The number of constraints is 10, but rank is 6\n",
      "  warnings.warn('covariance of constraints does not have full '\n",
      "/Users/oost464/opt/anaconda3/envs/pyciems310/lib/python3.10/site-packages/statsmodels/base/model.py:1896: ValueWarning: covariance of constraints does not have full rank. The number of constraints is 10, but rank is 6\n",
      "  warnings.warn('covariance of constraints does not have full '\n",
      "/Users/oost464/opt/anaconda3/envs/pyciems310/lib/python3.10/site-packages/statsmodels/base/model.py:1896: ValueWarning: covariance of constraints does not have full rank. The number of constraints is 10, but rank is 6\n",
      "  warnings.warn('covariance of constraints does not have full '\n",
      "/Users/oost464/opt/anaconda3/envs/pyciems310/lib/python3.10/site-packages/statsmodels/base/model.py:1896: ValueWarning: covariance of constraints does not have full rank. The number of constraints is 10, but rank is 6\n",
      "  warnings.warn('covariance of constraints does not have full '\n",
      "/Users/oost464/opt/anaconda3/envs/pyciems310/lib/python3.10/site-packages/statsmodels/base/model.py:1896: ValueWarning: covariance of constraints does not have full rank. The number of constraints is 10, but rank is 7\n",
      "  warnings.warn('covariance of constraints does not have full '\n",
      "/Users/oost464/opt/anaconda3/envs/pyciems310/lib/python3.10/site-packages/statsmodels/base/model.py:1896: ValueWarning: covariance of constraints does not have full rank. The number of constraints is 10, but rank is 7\n",
      "  warnings.warn('covariance of constraints does not have full '\n",
      "/Users/oost464/opt/anaconda3/envs/pyciems310/lib/python3.10/site-packages/statsmodels/base/model.py:1896: ValueWarning: covariance of constraints does not have full rank. The number of constraints is 10, but rank is 7\n",
      "  warnings.warn('covariance of constraints does not have full '\n",
      "/Users/oost464/opt/anaconda3/envs/pyciems310/lib/python3.10/site-packages/statsmodels/base/model.py:1896: ValueWarning: covariance of constraints does not have full rank. The number of constraints is 10, but rank is 7\n",
      "  warnings.warn('covariance of constraints does not have full '\n",
      "/Users/oost464/opt/anaconda3/envs/pyciems310/lib/python3.10/site-packages/statsmodels/base/model.py:1896: ValueWarning: covariance of constraints does not have full rank. The number of constraints is 10, but rank is 7\n",
      "  warnings.warn('covariance of constraints does not have full '\n",
      "/Users/oost464/opt/anaconda3/envs/pyciems310/lib/python3.10/site-packages/statsmodels/base/model.py:1896: ValueWarning: covariance of constraints does not have full rank. The number of constraints is 10, but rank is 7\n",
      "  warnings.warn('covariance of constraints does not have full '\n",
      "/Users/oost464/opt/anaconda3/envs/pyciems310/lib/python3.10/site-packages/statsmodels/base/model.py:1896: ValueWarning: covariance of constraints does not have full rank. The number of constraints is 10, but rank is 7\n",
      "  warnings.warn('covariance of constraints does not have full '\n",
      "/Users/oost464/opt/anaconda3/envs/pyciems310/lib/python3.10/site-packages/statsmodels/base/model.py:1896: ValueWarning: covariance of constraints does not have full rank. The number of constraints is 10, but rank is 7\n",
      "  warnings.warn('covariance of constraints does not have full '\n",
      "/Users/oost464/opt/anaconda3/envs/pyciems310/lib/python3.10/site-packages/statsmodels/base/model.py:1896: ValueWarning: covariance of constraints does not have full rank. The number of constraints is 10, but rank is 7\n",
      "  warnings.warn('covariance of constraints does not have full '\n",
      "/Users/oost464/opt/anaconda3/envs/pyciems310/lib/python3.10/site-packages/statsmodels/base/model.py:1896: ValueWarning: covariance of constraints does not have full rank. The number of constraints is 10, but rank is 7\n",
      "  warnings.warn('covariance of constraints does not have full '\n",
      "/Users/oost464/opt/anaconda3/envs/pyciems310/lib/python3.10/site-packages/statsmodels/base/model.py:1896: ValueWarning: covariance of constraints does not have full rank. The number of constraints is 10, but rank is 7\n",
      "  warnings.warn('covariance of constraints does not have full '\n",
      "/Users/oost464/opt/anaconda3/envs/pyciems310/lib/python3.10/site-packages/statsmodels/base/model.py:1896: ValueWarning: covariance of constraints does not have full rank. The number of constraints is 10, but rank is 7\n",
      "  warnings.warn('covariance of constraints does not have full '\n",
      "/Users/oost464/opt/anaconda3/envs/pyciems310/lib/python3.10/site-packages/statsmodels/base/model.py:1896: ValueWarning: covariance of constraints does not have full rank. The number of constraints is 10, but rank is 7\n",
      "  warnings.warn('covariance of constraints does not have full '\n",
      "/Users/oost464/opt/anaconda3/envs/pyciems310/lib/python3.10/site-packages/statsmodels/base/model.py:1896: ValueWarning: covariance of constraints does not have full rank. The number of constraints is 10, but rank is 7\n",
      "  warnings.warn('covariance of constraints does not have full '\n",
      "/Users/oost464/opt/anaconda3/envs/pyciems310/lib/python3.10/site-packages/statsmodels/base/model.py:1896: ValueWarning: covariance of constraints does not have full rank. The number of constraints is 10, but rank is 7\n",
      "  warnings.warn('covariance of constraints does not have full '\n",
      "/Users/oost464/opt/anaconda3/envs/pyciems310/lib/python3.10/site-packages/statsmodels/base/model.py:1896: ValueWarning: covariance of constraints does not have full rank. The number of constraints is 10, but rank is 7\n",
      "  warnings.warn('covariance of constraints does not have full '\n",
      "/Users/oost464/opt/anaconda3/envs/pyciems310/lib/python3.10/site-packages/statsmodels/base/model.py:1896: ValueWarning: covariance of constraints does not have full rank. The number of constraints is 10, but rank is 7\n",
      "  warnings.warn('covariance of constraints does not have full '\n",
      "/Users/oost464/opt/anaconda3/envs/pyciems310/lib/python3.10/site-packages/statsmodels/base/model.py:1896: ValueWarning: covariance of constraints does not have full rank. The number of constraints is 10, but rank is 7\n",
      "  warnings.warn('covariance of constraints does not have full '\n",
      "/Users/oost464/opt/anaconda3/envs/pyciems310/lib/python3.10/site-packages/statsmodels/base/model.py:1896: ValueWarning: covariance of constraints does not have full rank. The number of constraints is 10, but rank is 7\n",
      "  warnings.warn('covariance of constraints does not have full '\n",
      "/Users/oost464/opt/anaconda3/envs/pyciems310/lib/python3.10/site-packages/statsmodels/base/model.py:1896: ValueWarning: covariance of constraints does not have full rank. The number of constraints is 10, but rank is 7\n",
      "  warnings.warn('covariance of constraints does not have full '\n",
      "/Users/oost464/opt/anaconda3/envs/pyciems310/lib/python3.10/site-packages/statsmodels/base/model.py:1896: ValueWarning: covariance of constraints does not have full rank. The number of constraints is 10, but rank is 7\n",
      "  warnings.warn('covariance of constraints does not have full '\n",
      "/Users/oost464/opt/anaconda3/envs/pyciems310/lib/python3.10/site-packages/statsmodels/base/model.py:1896: ValueWarning: covariance of constraints does not have full rank. The number of constraints is 10, but rank is 7\n",
      "  warnings.warn('covariance of constraints does not have full '\n",
      "/Users/oost464/opt/anaconda3/envs/pyciems310/lib/python3.10/site-packages/statsmodels/base/model.py:1896: ValueWarning: covariance of constraints does not have full rank. The number of constraints is 10, but rank is 7\n",
      "  warnings.warn('covariance of constraints does not have full '\n",
      "/Users/oost464/opt/anaconda3/envs/pyciems310/lib/python3.10/site-packages/statsmodels/base/model.py:1896: ValueWarning: covariance of constraints does not have full rank. The number of constraints is 10, but rank is 7\n",
      "  warnings.warn('covariance of constraints does not have full '\n",
      "/Users/oost464/opt/anaconda3/envs/pyciems310/lib/python3.10/site-packages/statsmodels/base/model.py:1896: ValueWarning: covariance of constraints does not have full rank. The number of constraints is 10, but rank is 7\n",
      "  warnings.warn('covariance of constraints does not have full '\n",
      "/Users/oost464/opt/anaconda3/envs/pyciems310/lib/python3.10/site-packages/statsmodels/base/model.py:1896: ValueWarning: covariance of constraints does not have full rank. The number of constraints is 10, but rank is 7\n",
      "  warnings.warn('covariance of constraints does not have full '\n"
     ]
    },
    {
     "name": "stdout",
     "output_type": "stream",
     "text": [
      "ssr based F test:         F=-7.3000 , p=1.0000  , df_denom=73, df_num=10\n",
      "ssr based chi2 test:   chi2=-90.0000, p=1.0000  , df=10\n",
      "likelihood ratio test: chi2=-1356.8688, p=1.0000  , df=10\n",
      "parameter F test:         F=0.0076  , p=1.0000  , df_denom=73, df_num=7\n",
      "\n",
      "Granger Causality\n",
      "number of lags (no zero) 10\n",
      "ssr based F test:         F=-7.2989 , p=1.0000  , df_denom=73, df_num=10\n",
      "ssr based chi2 test:   chi2=-89.9870, p=1.0000  , df=10\n",
      "likelihood ratio test: chi2=-795.9211, p=1.0000  , df=10\n",
      "parameter F test:         F=3.8604  , p=0.0013  , df_denom=73, df_num=7\n",
      "\n",
      "Granger Causality\n",
      "number of lags (no zero) 10\n",
      "ssr based F test:         F=-7.3000 , p=1.0000  , df_denom=73, df_num=10\n",
      "ssr based chi2 test:   chi2=-89.9995, p=1.0000  , df=10\n",
      "likelihood ratio test: chi2=-1082.7312, p=1.0000  , df=10\n",
      "parameter F test:         F=0.1595  , p=0.9921  , df_denom=73, df_num=7\n",
      "\n",
      "Granger Causality\n",
      "number of lags (no zero) 10\n",
      "ssr based F test:         F=-7.2999 , p=1.0000  , df_denom=73, df_num=10\n",
      "ssr based chi2 test:   chi2=-89.9992, p=1.0000  , df=10\n",
      "likelihood ratio test: chi2=-1052.4522, p=1.0000  , df=10\n",
      "parameter F test:         F=0.2236  , p=0.9786  , df_denom=73, df_num=7\n",
      "\n",
      "Granger Causality\n",
      "number of lags (no zero) 10\n",
      "ssr based F test:         F=-7.3000 , p=1.0000  , df_denom=73, df_num=10\n",
      "ssr based chi2 test:   chi2=-89.9999, p=1.0000  , df=10\n",
      "likelihood ratio test: chi2=-1214.7548, p=1.0000  , df=10\n",
      "parameter F test:         F=0.0369  , p=0.9999  , df_denom=73, df_num=7\n",
      "\n",
      "Granger Causality\n",
      "number of lags (no zero) 10\n",
      "ssr based F test:         F=-7.3000 , p=1.0000  , df_denom=73, df_num=10\n",
      "ssr based chi2 test:   chi2=-90.0000, p=1.0000  , df=10\n",
      "likelihood ratio test: chi2=-1447.4121, p=1.0000  , df=10\n",
      "parameter F test:         F=0.0028  , p=1.0000  , df_denom=73, df_num=7\n",
      "\n",
      "Granger Causality\n",
      "number of lags (no zero) 10\n",
      "ssr based F test:         F=-7.3000 , p=1.0000  , df_denom=73, df_num=10\n",
      "ssr based chi2 test:   chi2=-89.9997, p=1.0000  , df=10\n",
      "likelihood ratio test: chi2=-1144.6805, p=1.0000  , df=10\n",
      "parameter F test:         F=0.0802  , p=0.9991  , df_denom=73, df_num=7\n",
      "\n",
      "Granger Causality\n",
      "number of lags (no zero) 10\n",
      "ssr based F test:         F=-7.3000 , p=1.0000  , df_denom=73, df_num=10\n",
      "ssr based chi2 test:   chi2=-89.9999, p=1.0000  , df=10\n",
      "likelihood ratio test: chi2=-1268.4400, p=1.0000  , df=10\n",
      "parameter F test:         F=0.0203  , p=1.0000  , df_denom=73, df_num=7\n",
      "\n",
      "Granger Causality\n",
      "number of lags (no zero) 10\n",
      "ssr based F test:         F=-7.3000 , p=1.0000  , df_denom=73, df_num=10\n",
      "ssr based chi2 test:   chi2=-90.0000, p=1.0000  , df=10\n",
      "likelihood ratio test: chi2=-1311.0059, p=1.0000  , df=10\n",
      "parameter F test:         F=0.0126  , p=1.0000  , df_denom=73, df_num=7\n",
      "\n",
      "Granger Causality\n",
      "number of lags (no zero) 10\n",
      "ssr based F test:         F=-7.3000 , p=1.0000  , df_denom=73, df_num=10\n",
      "ssr based chi2 test:   chi2=-90.0000, p=1.0000  , df=10\n",
      "likelihood ratio test: chi2=-1360.5856, p=1.0000  , df=10\n",
      "parameter F test:         F=0.0073  , p=1.0000  , df_denom=73, df_num=7\n",
      "\n",
      "Granger Causality\n",
      "number of lags (no zero) 10\n",
      "ssr based F test:         F=-7.3000 , p=1.0000  , df_denom=73, df_num=10\n",
      "ssr based chi2 test:   chi2=-90.0000, p=1.0000  , df=10\n",
      "likelihood ratio test: chi2=-1313.2590, p=1.0000  , df=10\n",
      "parameter F test:         F=0.0123  , p=1.0000  , df_denom=73, df_num=7\n",
      "\n",
      "Granger Causality\n",
      "number of lags (no zero) 10\n",
      "ssr based F test:         F=-7.3000 , p=1.0000  , df_denom=73, df_num=10\n",
      "ssr based chi2 test:   chi2=-90.0000, p=1.0000  , df=10\n",
      "likelihood ratio test: chi2=-1394.6989, p=1.0000  , df=10\n",
      "parameter F test:         F=0.0050  , p=1.0000  , df_denom=73, df_num=7\n",
      "\n",
      "Granger Causality\n",
      "number of lags (no zero) 10\n",
      "ssr based F test:         F=-7.2999 , p=1.0000  , df_denom=73, df_num=10\n",
      "ssr based chi2 test:   chi2=-89.9984, p=1.0000  , df=10\n",
      "likelihood ratio test: chi2=-982.7150, p=1.0000  , df=10\n",
      "parameter F test:         F=0.4850  , p=0.8425  , df_denom=73, df_num=7\n",
      "\n",
      "Granger Causality\n",
      "number of lags (no zero) 10\n",
      "ssr based F test:         F=-7.2980 , p=1.0000  , df_denom=73, df_num=10\n",
      "ssr based chi2 test:   chi2=-89.9757, p=1.0000  , df=10\n",
      "likelihood ratio test: chi2=-739.4185, p=1.0000  , df=10\n",
      "parameter F test:         F=7.2555  , p=0.0000  , df_denom=73, df_num=7\n",
      "\n",
      "Granger Causality\n",
      "number of lags (no zero) 10\n",
      "ssr based F test:         F=-7.3000 , p=1.0000  , df_denom=73, df_num=10\n",
      "ssr based chi2 test:   chi2=-89.9999, p=1.0000  , df=10\n",
      "likelihood ratio test: chi2=-1234.2705, p=1.0000  , df=10\n",
      "parameter F test:         F=0.0296  , p=1.0000  , df_denom=73, df_num=7\n",
      "\n",
      "Granger Causality\n",
      "number of lags (no zero) 10\n",
      "ssr based F test:         F=-7.3000 , p=1.0000  , df_denom=73, df_num=10\n",
      "ssr based chi2 test:   chi2=-90.0000, p=1.0000  , df=10\n",
      "likelihood ratio test: chi2=-1396.2473, p=1.0000  , df=10\n",
      "parameter F test:         F=0.0049  , p=1.0000  , df_denom=73, df_num=7\n",
      "\n",
      "Granger Causality\n",
      "number of lags (no zero) 10\n",
      "ssr based F test:         F=-7.3000 , p=1.0000  , df_denom=73, df_num=10\n",
      "ssr based chi2 test:   chi2=-89.9995, p=1.0000  , df=10\n",
      "likelihood ratio test: chi2=-1091.5263, p=1.0000  , df=10\n",
      "parameter F test:         F=0.1451  , p=0.9941  , df_denom=73, df_num=7\n",
      "\n",
      "Granger Causality\n",
      "number of lags (no zero) 10\n",
      "ssr based F test:         F=-7.3000 , p=1.0000  , df_denom=73, df_num=10\n",
      "ssr based chi2 test:   chi2=-89.9999, p=1.0000  , df=10\n",
      "likelihood ratio test: chi2=-1211.3447, p=1.0000  , df=10\n",
      "parameter F test:         F=0.0383  , p=0.9999  , df_denom=73, df_num=7\n",
      "\n",
      "Granger Causality\n",
      "number of lags (no zero) 10\n",
      "ssr based F test:         F=-7.3000 , p=1.0000  , df_denom=73, df_num=10\n",
      "ssr based chi2 test:   chi2=-90.0000, p=1.0000  , df=10\n",
      "likelihood ratio test: chi2=-1318.3027, p=1.0000  , df=10\n",
      "parameter F test:         F=0.0116  , p=1.0000  , df_denom=73, df_num=7\n",
      "\n",
      "Granger Causality\n",
      "number of lags (no zero) 10\n",
      "ssr based F test:         F=-7.3000 , p=1.0000  , df_denom=73, df_num=10\n",
      "ssr based chi2 test:   chi2=-89.9998, p=1.0000  , df=10\n",
      "likelihood ratio test: chi2=-1175.5804, p=1.0000  , df=10\n",
      "parameter F test:         F=0.0569  , p=0.9997  , df_denom=73, df_num=7\n",
      "\n",
      "Granger Causality\n",
      "number of lags (no zero) 10\n",
      "ssr based F test:         F=-7.3000 , p=1.0000  , df_denom=73, df_num=10\n",
      "ssr based chi2 test:   chi2=-90.0000, p=1.0000  , df=10\n",
      "likelihood ratio test: chi2=-1426.2432, p=1.0000  , df=10\n",
      "parameter F test:         F=0.0035  , p=1.0000  , df_denom=73, df_num=7\n",
      "\n",
      "Granger Causality\n",
      "number of lags (no zero) 10\n",
      "ssr based F test:         F=-7.3000 , p=1.0000  , df_denom=73, df_num=10\n",
      "ssr based chi2 test:   chi2=-90.0000, p=1.0000  , df=10\n",
      "likelihood ratio test: chi2=-1419.5164, p=1.0000  , df=10\n",
      "parameter F test:         F=0.0038  , p=1.0000  , df_denom=73, df_num=7\n",
      "\n",
      "Granger Causality\n",
      "number of lags (no zero) 10\n",
      "ssr based F test:         F=-7.3000 , p=1.0000  , df_denom=73, df_num=10\n",
      "ssr based chi2 test:   chi2=-89.9999, p=1.0000  , df=10\n",
      "likelihood ratio test: chi2=-1264.5108, p=1.0000  , df=10\n",
      "parameter F test:         F=0.0212  , p=1.0000  , df_denom=73, df_num=7\n",
      "\n",
      "Granger Causality\n",
      "number of lags (no zero) 10\n",
      "ssr based F test:         F=-7.3000 , p=1.0000  , df_denom=73, df_num=10\n",
      "ssr based chi2 test:   chi2=-89.9999, p=1.0000  , df=10\n",
      "likelihood ratio test: chi2=-1269.9763, p=1.0000  , df=10\n",
      "parameter F test:         F=0.0200  , p=1.0000  , df_denom=73, df_num=7\n",
      "\n",
      "Granger Causality\n",
      "number of lags (no zero) 10\n",
      "ssr based F test:         F=-7.3000 , p=1.0000  , df_denom=73, df_num=10\n",
      "ssr based chi2 test:   chi2=-89.9999, p=1.0000  , df=10\n",
      "likelihood ratio test: chi2=-1289.5035, p=1.0000  , df=10\n",
      "parameter F test:         F=0.0160  , p=1.0000  , df_denom=73, df_num=7\n",
      "\n",
      "Granger Causality\n",
      "number of lags (no zero) 10\n",
      "ssr based F test:         F=-7.3000 , p=1.0000  , df_denom=73, df_num=10\n",
      "ssr based chi2 test:   chi2=-90.0000, p=1.0000  , df=10\n",
      "likelihood ratio test: chi2=-1419.0586, p=1.0000  , df=10\n",
      "parameter F test:         F=0.0038  , p=1.0000  , df_denom=73, df_num=7\n",
      "\n",
      "Granger Causality\n",
      "number of lags (no zero) 10\n",
      "ssr based F test:         F=-7.3000 , p=1.0000  , df_denom=73, df_num=10\n",
      "ssr based chi2 test:   chi2=-90.0000, p=1.0000  , df=10\n",
      "likelihood ratio test: chi2=-1415.8989, p=1.0000  , df=10\n",
      "parameter F test:         F=0.0039  , p=1.0000  , df_denom=73, df_num=7\n",
      "\n",
      "Granger Causality\n",
      "number of lags (no zero) 10\n",
      "ssr based F test:         F=-7.3000 , p=1.0000  , df_denom=73, df_num=10\n",
      "ssr based chi2 test:   chi2=-89.9996, p=1.0000  , df=10\n",
      "likelihood ratio test: chi2=-1120.9226, p=1.0000  , df=10\n",
      "parameter F test:         F=0.1048  , p=0.9979  , df_denom=73, df_num=7\n",
      "\n",
      "Granger Causality\n",
      "number of lags (no zero) 10\n",
      "ssr based F test:         F=-7.3000 , p=1.0000  , df_denom=73, df_num=10\n",
      "ssr based chi2 test:   chi2=-90.0000, p=1.0000  , df=10\n",
      "likelihood ratio test: chi2=-1326.0502, p=1.0000  , df=10\n",
      "parameter F test:         F=0.0107  , p=1.0000  , df_denom=73, df_num=7\n",
      "\n",
      "Granger Causality\n",
      "number of lags (no zero) 10\n",
      "ssr based F test:         F=-7.3000 , p=1.0000  , df_denom=73, df_num=10\n",
      "ssr based chi2 test:   chi2=-90.0000, p=1.0000  , df=10\n",
      "likelihood ratio test: chi2=-1331.3751, p=1.0000  , df=10\n",
      "parameter F test:         F=0.0101  , p=1.0000  , df_denom=73, df_num=7\n",
      "\n",
      "Granger Causality\n",
      "number of lags (no zero) 10\n",
      "ssr based F test:         F=-7.2999 , p=1.0000  , df_denom=73, df_num=10\n",
      "ssr based chi2 test:   chi2=-89.9992, p=1.0000  , df=10\n",
      "likelihood ratio test: chi2=-1049.1800, p=1.0000  , df=10\n",
      "parameter F test:         F=0.2320  , p=0.9762  , df_denom=73, df_num=7\n",
      "\n",
      "Granger Causality\n",
      "number of lags (no zero) 10\n",
      "ssr based F test:         F=-7.3000 , p=1.0000  , df_denom=73, df_num=10\n",
      "ssr based chi2 test:   chi2=-90.0000, p=1.0000  , df=10\n",
      "likelihood ratio test: chi2=-1423.4778, p=1.0000  , df=10\n",
      "parameter F test:         F=0.0036  , p=1.0000  , df_denom=73, df_num=7\n",
      "\n",
      "Granger Causality\n",
      "number of lags (no zero) 10\n",
      "ssr based F test:         F=-7.3000 , p=1.0000  , df_denom=73, df_num=10\n",
      "ssr based chi2 test:   chi2=-90.0000, p=1.0000  , df=10\n",
      "likelihood ratio test: chi2=-1392.4467, p=1.0000  , df=10\n",
      "parameter F test:         F=0.0051  , p=1.0000  , df_denom=73, df_num=7\n",
      "\n",
      "Granger Causality\n",
      "number of lags (no zero) 10\n",
      "ssr based F test:         F=-7.3000 , p=1.0000  , df_denom=73, df_num=10\n",
      "ssr based chi2 test:   chi2=-89.9998, p=1.0000  , df=10\n",
      "likelihood ratio test: chi2=-1162.2108, p=1.0000  , df=10\n",
      "parameter F test:         F=0.0660  , p=0.9995  , df_denom=73, df_num=7\n",
      "\n",
      "Granger Causality\n",
      "number of lags (no zero) 10\n",
      "ssr based F test:         F=-7.2986 , p=1.0000  , df_denom=73, df_num=10\n",
      "ssr based chi2 test:   chi2=-89.9827, p=1.0000  , df=10\n",
      "likelihood ratio test: chi2=-770.3190, p=1.0000  , df=10\n",
      "parameter F test:         F=5.1386  , p=0.0001  , df_denom=73, df_num=7\n",
      "\n",
      "Granger Causality\n",
      "number of lags (no zero) 10\n",
      "ssr based F test:         F=-7.3000 , p=1.0000  , df_denom=73, df_num=10\n",
      "ssr based chi2 test:   chi2=-89.9998, p=1.0000  , df=10\n",
      "likelihood ratio test: chi2=-1160.2819, p=1.0000  , df=10\n",
      "parameter F test:         F=0.0674  , p=0.9995  , df_denom=73, df_num=7\n",
      "\n",
      "Granger Causality\n",
      "number of lags (no zero) 10\n",
      "ssr based F test:         F=-7.3000 , p=1.0000  , df_denom=73, df_num=10\n",
      "ssr based chi2 test:   chi2=-90.0000, p=1.0000  , df=10\n",
      "likelihood ratio test: chi2=-1345.2105, p=1.0000  , df=10\n",
      "parameter F test:         F=0.0086  , p=1.0000  , df_denom=73, df_num=7\n",
      "\n",
      "Granger Causality\n",
      "number of lags (no zero) 10\n",
      "ssr based F test:         F=-7.2932 , p=1.0000  , df_denom=73, df_num=10\n",
      "ssr based chi2 test:   chi2=-89.9160, p=1.0000  , df=10\n",
      "likelihood ratio test: chi2=-627.9401, p=1.0000  , df=10\n",
      "parameter F test:         F=24.9865 , p=0.0000  , df_denom=73, df_num=7\n",
      "\n",
      "Granger Causality\n",
      "number of lags (no zero) 10\n",
      "ssr based F test:         F=-7.3000 , p=1.0000  , df_denom=73, df_num=10\n",
      "ssr based chi2 test:   chi2=-90.0000, p=1.0000  , df=10\n",
      "likelihood ratio test: chi2=-1358.3452, p=1.0000  , df=10\n",
      "parameter F test:         F=0.0075  , p=1.0000  , df_denom=73, df_num=7\n",
      "\n",
      "Granger Causality\n",
      "number of lags (no zero) 10\n",
      "ssr based F test:         F=-7.3000 , p=1.0000  , df_denom=73, df_num=10\n",
      "ssr based chi2 test:   chi2=-89.9998, p=1.0000  , df=10\n",
      "likelihood ratio test: chi2=-1155.4880, p=1.0000  , df=10\n",
      "parameter F test:         F=0.0712  , p=0.9994  , df_denom=73, df_num=7\n",
      "\n",
      "Granger Causality\n",
      "number of lags (no zero) 10\n",
      "ssr based F test:         F=-7.3000 , p=1.0000  , df_denom=73, df_num=10\n",
      "ssr based chi2 test:   chi2=-89.9999, p=1.0000  , df=10\n",
      "likelihood ratio test: chi2=-1254.1650, p=1.0000  , df=10\n",
      "parameter F test:         F=0.0237  , p=1.0000  , df_denom=73, df_num=7\n",
      "\n",
      "Granger Causality\n",
      "number of lags (no zero) 10\n",
      "ssr based F test:         F=-7.3000 , p=1.0000  , df_denom=73, df_num=10\n",
      "ssr based chi2 test:   chi2=-89.9997, p=1.0000  , df=10\n",
      "likelihood ratio test: chi2=-1138.7719, p=1.0000  , df=10\n",
      "parameter F test:         F=0.0858  , p=0.9989  , df_denom=73, df_num=7\n",
      "\n",
      "Granger Causality\n",
      "number of lags (no zero) 10\n",
      "ssr based F test:         F=-7.3000 , p=1.0000  , df_denom=73, df_num=10\n",
      "ssr based chi2 test:   chi2=-90.0000, p=1.0000  , df=10\n",
      "likelihood ratio test: chi2=-1399.1188, p=1.0000  , df=10\n",
      "parameter F test:         F=0.0048  , p=1.0000  , df_denom=73, df_num=7\n",
      "\n",
      "Granger Causality\n",
      "number of lags (no zero) 10\n",
      "ssr based F test:         F=-7.3000 , p=1.0000  , df_denom=73, df_num=10\n",
      "ssr based chi2 test:   chi2=-89.9998, p=1.0000  , df=10\n",
      "likelihood ratio test: chi2=-1164.3718, p=1.0000  , df=10\n",
      "parameter F test:         F=0.0644  , p=0.9996  , df_denom=73, df_num=7\n",
      "\n",
      "Granger Causality\n",
      "number of lags (no zero) 10\n",
      "ssr based F test:         F=-7.3000 , p=1.0000  , df_denom=73, df_num=10\n",
      "ssr based chi2 test:   chi2=-90.0000, p=1.0000  , df=10\n",
      "likelihood ratio test: chi2=-1389.3312, p=1.0000  , df=10\n",
      "parameter F test:         F=0.0053  , p=1.0000  , df_denom=73, df_num=7\n",
      "\n",
      "Granger Causality\n",
      "number of lags (no zero) 10\n",
      "ssr based F test:         F=-7.3000 , p=1.0000  , df_denom=73, df_num=10\n",
      "ssr based chi2 test:   chi2=-89.9999, p=1.0000  , df=10\n",
      "likelihood ratio test: chi2=-1286.4507, p=1.0000  , df=10\n",
      "parameter F test:         F=0.0166  , p=1.0000  , df_denom=73, df_num=7\n",
      "\n",
      "Granger Causality\n",
      "number of lags (no zero) 10\n",
      "ssr based F test:         F=-7.3000 , p=1.0000  , df_denom=73, df_num=10\n",
      "ssr based chi2 test:   chi2=-90.0000, p=1.0000  , df=10\n",
      "likelihood ratio test: chi2=-1319.7456, p=1.0000  , df=10\n",
      "parameter F test:         F=0.0115  , p=1.0000  , df_denom=73, df_num=7\n",
      "\n",
      "Granger Causality\n",
      "number of lags (no zero) 10\n",
      "ssr based F test:         F=-7.3000 , p=1.0000  , df_denom=73, df_num=10\n",
      "ssr based chi2 test:   chi2=-90.0000, p=1.0000  , df=10\n",
      "likelihood ratio test: chi2=-1335.4634, p=1.0000  , df=10\n",
      "parameter F test:         F=0.0096  , p=1.0000  , df_denom=73, df_num=7\n",
      "\n",
      "Granger Causality\n",
      "number of lags (no zero) 10\n",
      "ssr based F test:         F=-7.3000 , p=1.0000  , df_denom=73, df_num=10\n",
      "ssr based chi2 test:   chi2=-90.0000, p=1.0000  , df=10\n",
      "likelihood ratio test: chi2=-1462.4859, p=1.0000  , df=10\n",
      "parameter F test:         F=0.0023  , p=1.0000  , df_denom=73, df_num=7\n",
      "\n",
      "Granger Causality\n",
      "number of lags (no zero) 10\n",
      "ssr based F test:         F=-7.3000 , p=1.0000  , df_denom=73, df_num=10\n",
      "ssr based chi2 test:   chi2=-89.9999, p=1.0000  , df=10\n",
      "likelihood ratio test: chi2=-1207.2053, p=1.0000  , df=10\n",
      "parameter F test:         F=0.0401  , p=0.9999  , df_denom=73, df_num=7\n",
      "\n",
      "Granger Causality\n",
      "number of lags (no zero) 10\n",
      "ssr based F test:         F=-7.3000 , p=1.0000  , df_denom=73, df_num=10\n",
      "ssr based chi2 test:   chi2=-90.0000, p=1.0000  , df=10\n",
      "likelihood ratio test: chi2=-1414.3282, p=1.0000  , df=10\n"
     ]
    },
    {
     "name": "stderr",
     "output_type": "stream",
     "text": [
      "/Users/oost464/opt/anaconda3/envs/pyciems310/lib/python3.10/site-packages/statsmodels/base/model.py:1896: ValueWarning: covariance of constraints does not have full rank. The number of constraints is 10, but rank is 7\n",
      "  warnings.warn('covariance of constraints does not have full '\n",
      "/Users/oost464/opt/anaconda3/envs/pyciems310/lib/python3.10/site-packages/statsmodels/base/model.py:1896: ValueWarning: covariance of constraints does not have full rank. The number of constraints is 10, but rank is 7\n",
      "  warnings.warn('covariance of constraints does not have full '\n",
      "/Users/oost464/opt/anaconda3/envs/pyciems310/lib/python3.10/site-packages/statsmodels/base/model.py:1896: ValueWarning: covariance of constraints does not have full rank. The number of constraints is 10, but rank is 7\n",
      "  warnings.warn('covariance of constraints does not have full '\n",
      "/Users/oost464/opt/anaconda3/envs/pyciems310/lib/python3.10/site-packages/statsmodels/base/model.py:1896: ValueWarning: covariance of constraints does not have full rank. The number of constraints is 10, but rank is 7\n",
      "  warnings.warn('covariance of constraints does not have full '\n",
      "/Users/oost464/opt/anaconda3/envs/pyciems310/lib/python3.10/site-packages/statsmodels/base/model.py:1896: ValueWarning: covariance of constraints does not have full rank. The number of constraints is 10, but rank is 7\n",
      "  warnings.warn('covariance of constraints does not have full '\n",
      "/Users/oost464/opt/anaconda3/envs/pyciems310/lib/python3.10/site-packages/statsmodels/base/model.py:1896: ValueWarning: covariance of constraints does not have full rank. The number of constraints is 10, but rank is 7\n",
      "  warnings.warn('covariance of constraints does not have full '\n",
      "/Users/oost464/opt/anaconda3/envs/pyciems310/lib/python3.10/site-packages/statsmodels/base/model.py:1896: ValueWarning: covariance of constraints does not have full rank. The number of constraints is 10, but rank is 7\n",
      "  warnings.warn('covariance of constraints does not have full '\n",
      "/Users/oost464/opt/anaconda3/envs/pyciems310/lib/python3.10/site-packages/statsmodels/base/model.py:1896: ValueWarning: covariance of constraints does not have full rank. The number of constraints is 10, but rank is 7\n",
      "  warnings.warn('covariance of constraints does not have full '\n",
      "/Users/oost464/opt/anaconda3/envs/pyciems310/lib/python3.10/site-packages/statsmodels/base/model.py:1896: ValueWarning: covariance of constraints does not have full rank. The number of constraints is 10, but rank is 7\n",
      "  warnings.warn('covariance of constraints does not have full '\n",
      "/Users/oost464/opt/anaconda3/envs/pyciems310/lib/python3.10/site-packages/statsmodels/base/model.py:1896: ValueWarning: covariance of constraints does not have full rank. The number of constraints is 10, but rank is 7\n",
      "  warnings.warn('covariance of constraints does not have full '\n",
      "/Users/oost464/opt/anaconda3/envs/pyciems310/lib/python3.10/site-packages/statsmodels/base/model.py:1896: ValueWarning: covariance of constraints does not have full rank. The number of constraints is 10, but rank is 7\n",
      "  warnings.warn('covariance of constraints does not have full '\n",
      "/Users/oost464/opt/anaconda3/envs/pyciems310/lib/python3.10/site-packages/statsmodels/base/model.py:1896: ValueWarning: covariance of constraints does not have full rank. The number of constraints is 10, but rank is 7\n",
      "  warnings.warn('covariance of constraints does not have full '\n",
      "/Users/oost464/opt/anaconda3/envs/pyciems310/lib/python3.10/site-packages/statsmodels/base/model.py:1896: ValueWarning: covariance of constraints does not have full rank. The number of constraints is 10, but rank is 7\n",
      "  warnings.warn('covariance of constraints does not have full '\n",
      "/Users/oost464/opt/anaconda3/envs/pyciems310/lib/python3.10/site-packages/statsmodels/base/model.py:1896: ValueWarning: covariance of constraints does not have full rank. The number of constraints is 10, but rank is 7\n",
      "  warnings.warn('covariance of constraints does not have full '\n",
      "/Users/oost464/opt/anaconda3/envs/pyciems310/lib/python3.10/site-packages/statsmodels/base/model.py:1896: ValueWarning: covariance of constraints does not have full rank. The number of constraints is 10, but rank is 7\n",
      "  warnings.warn('covariance of constraints does not have full '\n",
      "/Users/oost464/opt/anaconda3/envs/pyciems310/lib/python3.10/site-packages/statsmodels/base/model.py:1896: ValueWarning: covariance of constraints does not have full rank. The number of constraints is 10, but rank is 7\n",
      "  warnings.warn('covariance of constraints does not have full '\n",
      "/Users/oost464/opt/anaconda3/envs/pyciems310/lib/python3.10/site-packages/statsmodels/base/model.py:1896: ValueWarning: covariance of constraints does not have full rank. The number of constraints is 10, but rank is 7\n",
      "  warnings.warn('covariance of constraints does not have full '\n",
      "/Users/oost464/opt/anaconda3/envs/pyciems310/lib/python3.10/site-packages/statsmodels/base/model.py:1896: ValueWarning: covariance of constraints does not have full rank. The number of constraints is 10, but rank is 7\n",
      "  warnings.warn('covariance of constraints does not have full '\n",
      "/Users/oost464/opt/anaconda3/envs/pyciems310/lib/python3.10/site-packages/statsmodels/base/model.py:1896: ValueWarning: covariance of constraints does not have full rank. The number of constraints is 10, but rank is 7\n",
      "  warnings.warn('covariance of constraints does not have full '\n",
      "/Users/oost464/opt/anaconda3/envs/pyciems310/lib/python3.10/site-packages/statsmodels/base/model.py:1896: ValueWarning: covariance of constraints does not have full rank. The number of constraints is 10, but rank is 7\n",
      "  warnings.warn('covariance of constraints does not have full '\n",
      "/Users/oost464/opt/anaconda3/envs/pyciems310/lib/python3.10/site-packages/statsmodels/base/model.py:1896: ValueWarning: covariance of constraints does not have full rank. The number of constraints is 10, but rank is 7\n",
      "  warnings.warn('covariance of constraints does not have full '\n",
      "/Users/oost464/opt/anaconda3/envs/pyciems310/lib/python3.10/site-packages/statsmodels/base/model.py:1896: ValueWarning: covariance of constraints does not have full rank. The number of constraints is 10, but rank is 7\n",
      "  warnings.warn('covariance of constraints does not have full '\n",
      "/Users/oost464/opt/anaconda3/envs/pyciems310/lib/python3.10/site-packages/statsmodels/base/model.py:1896: ValueWarning: covariance of constraints does not have full rank. The number of constraints is 10, but rank is 7\n",
      "  warnings.warn('covariance of constraints does not have full '\n",
      "/Users/oost464/opt/anaconda3/envs/pyciems310/lib/python3.10/site-packages/statsmodels/base/model.py:1896: ValueWarning: covariance of constraints does not have full rank. The number of constraints is 10, but rank is 7\n",
      "  warnings.warn('covariance of constraints does not have full '\n",
      "/Users/oost464/opt/anaconda3/envs/pyciems310/lib/python3.10/site-packages/statsmodels/base/model.py:1896: ValueWarning: covariance of constraints does not have full rank. The number of constraints is 10, but rank is 7\n",
      "  warnings.warn('covariance of constraints does not have full '\n",
      "/Users/oost464/opt/anaconda3/envs/pyciems310/lib/python3.10/site-packages/statsmodels/base/model.py:1896: ValueWarning: covariance of constraints does not have full rank. The number of constraints is 10, but rank is 7\n",
      "  warnings.warn('covariance of constraints does not have full '\n",
      "/Users/oost464/opt/anaconda3/envs/pyciems310/lib/python3.10/site-packages/statsmodels/base/model.py:1896: ValueWarning: covariance of constraints does not have full rank. The number of constraints is 10, but rank is 7\n",
      "  warnings.warn('covariance of constraints does not have full '\n",
      "/Users/oost464/opt/anaconda3/envs/pyciems310/lib/python3.10/site-packages/statsmodels/base/model.py:1896: ValueWarning: covariance of constraints does not have full rank. The number of constraints is 10, but rank is 7\n",
      "  warnings.warn('covariance of constraints does not have full '\n",
      "/Users/oost464/opt/anaconda3/envs/pyciems310/lib/python3.10/site-packages/statsmodels/base/model.py:1896: ValueWarning: covariance of constraints does not have full rank. The number of constraints is 10, but rank is 7\n",
      "  warnings.warn('covariance of constraints does not have full '\n",
      "/Users/oost464/opt/anaconda3/envs/pyciems310/lib/python3.10/site-packages/statsmodels/base/model.py:1896: ValueWarning: covariance of constraints does not have full rank. The number of constraints is 10, but rank is 7\n",
      "  warnings.warn('covariance of constraints does not have full '\n",
      "/Users/oost464/opt/anaconda3/envs/pyciems310/lib/python3.10/site-packages/statsmodels/base/model.py:1896: ValueWarning: covariance of constraints does not have full rank. The number of constraints is 10, but rank is 7\n",
      "  warnings.warn('covariance of constraints does not have full '\n",
      "/Users/oost464/opt/anaconda3/envs/pyciems310/lib/python3.10/site-packages/statsmodels/base/model.py:1896: ValueWarning: covariance of constraints does not have full rank. The number of constraints is 10, but rank is 7\n",
      "  warnings.warn('covariance of constraints does not have full '\n",
      "/Users/oost464/opt/anaconda3/envs/pyciems310/lib/python3.10/site-packages/statsmodels/base/model.py:1896: ValueWarning: covariance of constraints does not have full rank. The number of constraints is 10, but rank is 7\n",
      "  warnings.warn('covariance of constraints does not have full '\n",
      "/Users/oost464/opt/anaconda3/envs/pyciems310/lib/python3.10/site-packages/statsmodels/base/model.py:1896: ValueWarning: covariance of constraints does not have full rank. The number of constraints is 10, but rank is 7\n",
      "  warnings.warn('covariance of constraints does not have full '\n",
      "/Users/oost464/opt/anaconda3/envs/pyciems310/lib/python3.10/site-packages/statsmodels/base/model.py:1896: ValueWarning: covariance of constraints does not have full rank. The number of constraints is 10, but rank is 7\n",
      "  warnings.warn('covariance of constraints does not have full '\n",
      "/Users/oost464/opt/anaconda3/envs/pyciems310/lib/python3.10/site-packages/statsmodels/base/model.py:1896: ValueWarning: covariance of constraints does not have full rank. The number of constraints is 10, but rank is 7\n",
      "  warnings.warn('covariance of constraints does not have full '\n",
      "/Users/oost464/opt/anaconda3/envs/pyciems310/lib/python3.10/site-packages/statsmodels/base/model.py:1896: ValueWarning: covariance of constraints does not have full rank. The number of constraints is 10, but rank is 7\n",
      "  warnings.warn('covariance of constraints does not have full '\n",
      "/Users/oost464/opt/anaconda3/envs/pyciems310/lib/python3.10/site-packages/statsmodels/base/model.py:1896: ValueWarning: covariance of constraints does not have full rank. The number of constraints is 10, but rank is 7\n",
      "  warnings.warn('covariance of constraints does not have full '\n",
      "/Users/oost464/opt/anaconda3/envs/pyciems310/lib/python3.10/site-packages/statsmodels/base/model.py:1896: ValueWarning: covariance of constraints does not have full rank. The number of constraints is 10, but rank is 7\n",
      "  warnings.warn('covariance of constraints does not have full '\n",
      "/Users/oost464/opt/anaconda3/envs/pyciems310/lib/python3.10/site-packages/statsmodels/base/model.py:1896: ValueWarning: covariance of constraints does not have full rank. The number of constraints is 10, but rank is 7\n",
      "  warnings.warn('covariance of constraints does not have full '\n",
      "/Users/oost464/opt/anaconda3/envs/pyciems310/lib/python3.10/site-packages/statsmodels/base/model.py:1896: ValueWarning: covariance of constraints does not have full rank. The number of constraints is 10, but rank is 7\n",
      "  warnings.warn('covariance of constraints does not have full '\n",
      "/Users/oost464/opt/anaconda3/envs/pyciems310/lib/python3.10/site-packages/statsmodels/base/model.py:1896: ValueWarning: covariance of constraints does not have full rank. The number of constraints is 10, but rank is 7\n",
      "  warnings.warn('covariance of constraints does not have full '\n",
      "/Users/oost464/opt/anaconda3/envs/pyciems310/lib/python3.10/site-packages/statsmodels/base/model.py:1896: ValueWarning: covariance of constraints does not have full rank. The number of constraints is 10, but rank is 7\n",
      "  warnings.warn('covariance of constraints does not have full '\n",
      "/Users/oost464/opt/anaconda3/envs/pyciems310/lib/python3.10/site-packages/statsmodels/base/model.py:1896: ValueWarning: covariance of constraints does not have full rank. The number of constraints is 10, but rank is 7\n",
      "  warnings.warn('covariance of constraints does not have full '\n",
      "/Users/oost464/opt/anaconda3/envs/pyciems310/lib/python3.10/site-packages/statsmodels/base/model.py:1896: ValueWarning: covariance of constraints does not have full rank. The number of constraints is 10, but rank is 7\n",
      "  warnings.warn('covariance of constraints does not have full '\n",
      "/Users/oost464/opt/anaconda3/envs/pyciems310/lib/python3.10/site-packages/statsmodels/base/model.py:1896: ValueWarning: covariance of constraints does not have full rank. The number of constraints is 10, but rank is 7\n",
      "  warnings.warn('covariance of constraints does not have full '\n"
     ]
    },
    {
     "name": "stdout",
     "output_type": "stream",
     "text": [
      "parameter F test:         F=0.0040  , p=1.0000  , df_denom=73, df_num=7\n",
      "\n",
      "Granger Causality\n",
      "number of lags (no zero) 10\n",
      "ssr based F test:         F=-7.3000 , p=1.0000  , df_denom=73, df_num=10\n",
      "ssr based chi2 test:   chi2=-89.9997, p=1.0000  , df=10\n",
      "likelihood ratio test: chi2=-1146.4629, p=1.0000  , df=10\n",
      "parameter F test:         F=0.0787  , p=0.9992  , df_denom=73, df_num=7\n",
      "\n",
      "Granger Causality\n",
      "number of lags (no zero) 10\n",
      "ssr based F test:         F=-7.3000 , p=1.0000  , df_denom=73, df_num=10\n",
      "ssr based chi2 test:   chi2=-90.0000, p=1.0000  , df=10\n",
      "likelihood ratio test: chi2=-1383.8361, p=1.0000  , df=10\n",
      "parameter F test:         F=0.0056  , p=1.0000  , df_denom=73, df_num=7\n",
      "\n",
      "Granger Causality\n",
      "number of lags (no zero) 10\n",
      "ssr based F test:         F=-7.2995 , p=1.0000  , df_denom=73, df_num=10\n",
      "ssr based chi2 test:   chi2=-89.9939, p=1.0000  , df=10\n",
      "likelihood ratio test: chi2=-863.6913, p=1.0000  , df=10\n",
      "parameter F test:         F=1.8172  , p=0.0967  , df_denom=73, df_num=7\n",
      "\n",
      "Granger Causality\n",
      "number of lags (no zero) 10\n",
      "ssr based F test:         F=-7.3000 , p=1.0000  , df_denom=73, df_num=10\n",
      "ssr based chi2 test:   chi2=-89.9997, p=1.0000  , df=10\n",
      "likelihood ratio test: chi2=-1130.0819, p=1.0000  , df=10\n",
      "parameter F test:         F=0.0943  , p=0.9985  , df_denom=73, df_num=7\n",
      "\n",
      "Granger Causality\n",
      "number of lags (no zero) 10\n",
      "ssr based F test:         F=-7.3000 , p=1.0000  , df_denom=73, df_num=10\n",
      "ssr based chi2 test:   chi2=-89.9999, p=1.0000  , df=10\n",
      "likelihood ratio test: chi2=-1249.4336, p=1.0000  , df=10\n",
      "parameter F test:         F=0.0250  , p=1.0000  , df_denom=73, df_num=7\n",
      "\n",
      "Granger Causality\n",
      "number of lags (no zero) 10\n",
      "ssr based F test:         F=-7.3000 , p=1.0000  , df_denom=73, df_num=10\n",
      "ssr based chi2 test:   chi2=-90.0000, p=1.0000  , df=10\n",
      "likelihood ratio test: chi2=-1348.4256, p=1.0000  , df=10\n",
      "parameter F test:         F=0.0083  , p=1.0000  , df_denom=73, df_num=7\n",
      "\n",
      "Granger Causality\n",
      "number of lags (no zero) 10\n",
      "ssr based F test:         F=-7.2999 , p=1.0000  , df_denom=73, df_num=10\n",
      "ssr based chi2 test:   chi2=-89.9985, p=1.0000  , df=10\n",
      "likelihood ratio test: chi2=-989.5824, p=1.0000  , df=10\n",
      "parameter F test:         F=0.4496  , p=0.8673  , df_denom=73, df_num=7\n",
      "\n",
      "Granger Causality\n",
      "number of lags (no zero) 10\n",
      "ssr based F test:         F=-7.3000 , p=1.0000  , df_denom=73, df_num=10\n",
      "ssr based chi2 test:   chi2=-89.9998, p=1.0000  , df=10\n",
      "likelihood ratio test: chi2=-1171.3942, p=1.0000  , df=10\n",
      "parameter F test:         F=0.0596  , p=0.9997  , df_denom=73, df_num=7\n",
      "\n",
      "Granger Causality\n",
      "number of lags (no zero) 10\n",
      "ssr based F test:         F=-7.3000 , p=1.0000  , df_denom=73, df_num=10\n",
      "ssr based chi2 test:   chi2=-89.9999, p=1.0000  , df=10\n",
      "likelihood ratio test: chi2=-1291.4137, p=1.0000  , df=10\n",
      "parameter F test:         F=0.0157  , p=1.0000  , df_denom=73, df_num=7\n",
      "\n",
      "Granger Causality\n",
      "number of lags (no zero) 10\n",
      "ssr based F test:         F=-7.3000 , p=1.0000  , df_denom=73, df_num=10\n",
      "ssr based chi2 test:   chi2=-89.9999, p=1.0000  , df=10\n",
      "likelihood ratio test: chi2=-1295.9367, p=1.0000  , df=10\n",
      "parameter F test:         F=0.0150  , p=1.0000  , df_denom=73, df_num=7\n",
      "\n",
      "Granger Causality\n",
      "number of lags (no zero) 10\n",
      "ssr based F test:         F=-7.3000 , p=1.0000  , df_denom=73, df_num=10\n",
      "ssr based chi2 test:   chi2=-90.0000, p=1.0000  , df=10\n",
      "likelihood ratio test: chi2=-1331.4065, p=1.0000  , df=10\n",
      "parameter F test:         F=0.0101  , p=1.0000  , df_denom=73, df_num=7\n",
      "\n",
      "Granger Causality\n",
      "number of lags (no zero) 10\n",
      "ssr based F test:         F=-7.3000 , p=1.0000  , df_denom=73, df_num=10\n",
      "ssr based chi2 test:   chi2=-89.9999, p=1.0000  , df=10\n",
      "likelihood ratio test: chi2=-1248.6428, p=1.0000  , df=10\n",
      "parameter F test:         F=0.0253  , p=1.0000  , df_denom=73, df_num=7\n",
      "\n",
      "Granger Causality\n",
      "number of lags (no zero) 10\n",
      "ssr based F test:         F=-7.3000 , p=1.0000  , df_denom=73, df_num=10\n",
      "ssr based chi2 test:   chi2=-89.9999, p=1.0000  , df=10\n",
      "likelihood ratio test: chi2=-1255.8912, p=1.0000  , df=10\n",
      "parameter F test:         F=0.0233  , p=1.0000  , df_denom=73, df_num=7\n",
      "\n",
      "Granger Causality\n",
      "number of lags (no zero) 10\n",
      "ssr based F test:         F=-7.3000 , p=1.0000  , df_denom=73, df_num=10\n",
      "ssr based chi2 test:   chi2=-90.0000, p=1.0000  , df=10\n",
      "likelihood ratio test: chi2=-1341.3717, p=1.0000  , df=10\n",
      "parameter F test:         F=0.0090  , p=1.0000  , df_denom=73, df_num=7\n",
      "\n",
      "Granger Causality\n",
      "number of lags (no zero) 10\n",
      "ssr based F test:         F=-7.2998 , p=1.0000  , df_denom=73, df_num=10\n",
      "ssr based chi2 test:   chi2=-89.9976, p=1.0000  , df=10\n",
      "likelihood ratio test: chi2=-949.1784, p=1.0000  , df=10\n",
      "parameter F test:         F=0.7045  , p=0.6681  , df_denom=73, df_num=7\n",
      "\n",
      "Granger Causality\n",
      "number of lags (no zero) 10\n",
      "ssr based F test:         F=-7.3000 , p=1.0000  , df_denom=73, df_num=10\n",
      "ssr based chi2 test:   chi2=-90.0000, p=1.0000  , df=10\n",
      "likelihood ratio test: chi2=-1448.6242, p=1.0000  , df=10\n",
      "parameter F test:         F=0.0027  , p=1.0000  , df_denom=73, df_num=7\n",
      "\n",
      "Granger Causality\n",
      "number of lags (no zero) 10\n",
      "ssr based F test:         F=-7.3000 , p=1.0000  , df_denom=73, df_num=10\n",
      "ssr based chi2 test:   chi2=-89.9995, p=1.0000  , df=10\n",
      "likelihood ratio test: chi2=-1091.3791, p=1.0000  , df=10\n",
      "parameter F test:         F=0.1451  , p=0.9941  , df_denom=73, df_num=7\n",
      "\n",
      "Granger Causality\n",
      "number of lags (no zero) 10\n",
      "ssr based F test:         F=-7.3000 , p=1.0000  , df_denom=73, df_num=10\n",
      "ssr based chi2 test:   chi2=-89.9999, p=1.0000  , df=10\n",
      "likelihood ratio test: chi2=-1220.4348, p=1.0000  , df=10\n",
      "parameter F test:         F=0.0346  , p=0.9999  , df_denom=73, df_num=7\n",
      "\n",
      "Granger Causality\n",
      "number of lags (no zero) 10\n",
      "ssr based F test:         F=-7.3000 , p=1.0000  , df_denom=73, df_num=10\n",
      "ssr based chi2 test:   chi2=-90.0000, p=1.0000  , df=10\n",
      "likelihood ratio test: chi2=-1427.1575, p=1.0000  , df=10\n",
      "parameter F test:         F=0.0035  , p=1.0000  , df_denom=73, df_num=7\n",
      "\n",
      "Granger Causality\n",
      "number of lags (no zero) 10\n",
      "ssr based F test:         F=-7.3000 , p=1.0000  , df_denom=73, df_num=10\n",
      "ssr based chi2 test:   chi2=-90.0000, p=1.0000  , df=10\n",
      "likelihood ratio test: chi2=-1333.1618, p=1.0000  , df=10\n",
      "parameter F test:         F=0.0099  , p=1.0000  , df_denom=73, df_num=7\n",
      "\n",
      "Granger Causality\n",
      "number of lags (no zero) 10\n",
      "ssr based F test:         F=-7.3000 , p=1.0000  , df_denom=73, df_num=10\n",
      "ssr based chi2 test:   chi2=-89.9999, p=1.0000  , df=10\n",
      "likelihood ratio test: chi2=-1287.5698, p=1.0000  , df=10\n",
      "parameter F test:         F=0.0164  , p=1.0000  , df_denom=73, df_num=7\n",
      "\n",
      "Granger Causality\n",
      "number of lags (no zero) 10\n",
      "ssr based F test:         F=-7.3000 , p=1.0000  , df_denom=73, df_num=10\n",
      "ssr based chi2 test:   chi2=-90.0000, p=1.0000  , df=10\n",
      "likelihood ratio test: chi2=-1398.5122, p=1.0000  , df=10\n",
      "parameter F test:         F=0.0048  , p=1.0000  , df_denom=73, df_num=7\n",
      "\n",
      "Granger Causality\n",
      "number of lags (no zero) 10\n",
      "ssr based F test:         F=-7.3000 , p=1.0000  , df_denom=73, df_num=10\n",
      "ssr based chi2 test:   chi2=-90.0000, p=1.0000  , df=10\n",
      "likelihood ratio test: chi2=-1299.7216, p=1.0000  , df=10\n",
      "parameter F test:         F=0.0143  , p=1.0000  , df_denom=73, df_num=7\n",
      "\n",
      "Granger Causality\n",
      "number of lags (no zero) 10\n",
      "ssr based F test:         F=-7.2915 , p=1.0000  , df_denom=73, df_num=10\n",
      "ssr based chi2 test:   chi2=-89.8957, p=1.0000  , df=10\n",
      "likelihood ratio test: chi2=-608.4526, p=1.0000  , df=10\n",
      "parameter F test:         F=30.9883 , p=0.0000  , df_denom=73, df_num=7\n",
      "\n",
      "Granger Causality\n",
      "number of lags (no zero) 10\n",
      "ssr based F test:         F=-7.3000 , p=1.0000  , df_denom=73, df_num=10\n",
      "ssr based chi2 test:   chi2=-90.0000, p=1.0000  , df=10\n",
      "likelihood ratio test: chi2=-1333.0552, p=1.0000  , df=10\n",
      "parameter F test:         F=0.0099  , p=1.0000  , df_denom=73, df_num=7\n",
      "\n",
      "Granger Causality\n",
      "number of lags (no zero) 10\n",
      "ssr based F test:         F=-7.3000 , p=1.0000  , df_denom=73, df_num=10\n",
      "ssr based chi2 test:   chi2=-89.9999, p=1.0000  , df=10\n",
      "likelihood ratio test: chi2=-1283.0420, p=1.0000  , df=10\n",
      "parameter F test:         F=0.0172  , p=1.0000  , df_denom=73, df_num=7\n",
      "\n",
      "Granger Causality\n",
      "number of lags (no zero) 10\n",
      "ssr based F test:         F=-7.3000 , p=1.0000  , df_denom=73, df_num=10\n",
      "ssr based chi2 test:   chi2=-90.0000, p=1.0000  , df=10\n",
      "likelihood ratio test: chi2=-1403.1195, p=1.0000  , df=10\n",
      "parameter F test:         F=0.0045  , p=1.0000  , df_denom=73, df_num=7\n",
      "\n",
      "Granger Causality\n",
      "number of lags (no zero) 10\n",
      "ssr based F test:         F=-7.3000 , p=1.0000  , df_denom=73, df_num=10\n",
      "ssr based chi2 test:   chi2=-89.9997, p=1.0000  , df=10\n",
      "likelihood ratio test: chi2=-1126.1670, p=1.0000  , df=10\n",
      "parameter F test:         F=0.0985  , p=0.9983  , df_denom=73, df_num=7\n",
      "\n",
      "Granger Causality\n",
      "number of lags (no zero) 10\n",
      "ssr based F test:         F=-7.2998 , p=1.0000  , df_denom=73, df_num=10\n",
      "ssr based chi2 test:   chi2=-89.9980, p=1.0000  , df=10\n",
      "likelihood ratio test: chi2=-965.7046, p=1.0000  , df=10\n",
      "parameter F test:         F=0.5857  , p=0.7655  , df_denom=73, df_num=7\n",
      "\n",
      "Granger Causality\n",
      "number of lags (no zero) 10\n",
      "ssr based F test:         F=-7.3000 , p=1.0000  , df_denom=73, df_num=10\n",
      "ssr based chi2 test:   chi2=-90.0000, p=1.0000  , df=10\n",
      "likelihood ratio test: chi2=-1303.2358, p=1.0000  , df=10\n",
      "parameter F test:         F=0.0138  , p=1.0000  , df_denom=73, df_num=7\n",
      "\n",
      "Granger Causality\n",
      "number of lags (no zero) 10\n",
      "ssr based F test:         F=-7.3000 , p=1.0000  , df_denom=73, df_num=10\n",
      "ssr based chi2 test:   chi2=-90.0000, p=1.0000  , df=10\n",
      "likelihood ratio test: chi2=-1351.9011, p=1.0000  , df=10\n",
      "parameter F test:         F=0.0080  , p=1.0000  , df_denom=73, df_num=7\n",
      "\n",
      "Granger Causality\n",
      "number of lags (no zero) 10\n",
      "ssr based F test:         F=-7.3000 , p=1.0000  , df_denom=73, df_num=10\n",
      "ssr based chi2 test:   chi2=-89.9999, p=1.0000  , df=10\n",
      "likelihood ratio test: chi2=-1285.3471, p=1.0000  , df=10\n",
      "parameter F test:         F=0.0005  , p=1.0000  , df_denom=73, df_num=6\n",
      "\n",
      "Granger Causality\n",
      "number of lags (no zero) 10\n",
      "ssr based F test:         F=-7.3000 , p=1.0000  , df_denom=73, df_num=10\n",
      "ssr based chi2 test:   chi2=-89.9999, p=1.0000  , df=10\n",
      "likelihood ratio test: chi2=-1218.1167, p=1.0000  , df=10\n",
      "parameter F test:         F=0.0451  , p=0.9999  , df_denom=73, df_num=7\n",
      "\n",
      "Granger Causality\n",
      "number of lags (no zero) 10\n",
      "ssr based F test:         F=-7.2999 , p=1.0000  , df_denom=73, df_num=10\n",
      "ssr based chi2 test:   chi2=-89.9993, p=1.0000  , df=10\n",
      "likelihood ratio test: chi2=-1063.4350, p=1.0000  , df=10\n",
      "parameter F test:         F=0.4317  , p=0.8793  , df_denom=73, df_num=7\n",
      "\n",
      "Granger Causality\n",
      "number of lags (no zero) 10\n",
      "ssr based F test:         F=-7.3000 , p=1.0000  , df_denom=73, df_num=10\n",
      "ssr based chi2 test:   chi2=-89.9998, p=1.0000  , df=10\n",
      "likelihood ratio test: chi2=-1164.2985, p=1.0000  , df=10\n",
      "parameter F test:         F=0.1405  , p=0.9947  , df_denom=73, df_num=7\n",
      "\n",
      "Granger Causality\n",
      "number of lags (no zero) 10\n",
      "ssr based F test:         F=-7.3000 , p=1.0000  , df_denom=73, df_num=10\n",
      "ssr based chi2 test:   chi2=-89.9997, p=1.0000  , df=10\n",
      "likelihood ratio test: chi2=-1138.8878, p=1.0000  , df=10\n",
      "parameter F test:         F=0.1814  , p=0.9884  , df_denom=73, df_num=7\n",
      "\n",
      "Granger Causality\n",
      "number of lags (no zero) 10\n",
      "ssr based F test:         F=-7.3000 , p=1.0000  , df_denom=73, df_num=10\n",
      "ssr based chi2 test:   chi2=-90.0000, p=1.0000  , df=10\n",
      "likelihood ratio test: chi2=-1298.6651, p=1.0000  , df=10\n",
      "parameter F test:         F=0.0316  , p=1.0000  , df_denom=73, df_num=7\n",
      "\n",
      "Granger Causality\n",
      "number of lags (no zero) 10\n",
      "ssr based F test:         F=-7.2999 , p=1.0000  , df_denom=73, df_num=10\n",
      "ssr based chi2 test:   chi2=-89.9987, p=1.0000  , df=10\n",
      "likelihood ratio test: chi2=-1004.0542, p=1.0000  , df=10\n",
      "parameter F test:         F=0.4951  , p=0.8352  , df_denom=73, df_num=7\n",
      "\n",
      "Granger Causality\n",
      "number of lags (no zero) 10\n",
      "ssr based F test:         F=-7.3000 , p=1.0000  , df_denom=73, df_num=10\n",
      "ssr based chi2 test:   chi2=-89.9999, p=1.0000  , df=10\n",
      "likelihood ratio test: chi2=-1224.1782, p=1.0000  , df=10\n",
      "parameter F test:         F=0.0431  , p=0.9999  , df_denom=73, df_num=7\n",
      "\n",
      "Granger Causality\n",
      "number of lags (no zero) 10\n",
      "ssr based F test:         F=-7.3000 , p=1.0000  , df_denom=73, df_num=10\n",
      "ssr based chi2 test:   chi2=-89.9994, p=1.0000  , df=10\n",
      "likelihood ratio test: chi2=-1071.8477, p=1.0000  , df=10\n",
      "parameter F test:         F=0.3957  , p=0.9019  , df_denom=73, df_num=7\n",
      "\n",
      "Granger Causality\n",
      "number of lags (no zero) 10\n",
      "ssr based F test:         F=-7.3000 , p=1.0000  , df_denom=73, df_num=10\n",
      "ssr based chi2 test:   chi2=-89.9999, p=1.0000  , df=10\n",
      "likelihood ratio test: chi2=-1277.5162, p=1.0000  , df=10\n",
      "parameter F test:         F=0.0399  , p=0.9999  , df_denom=73, df_num=7\n",
      "\n",
      "Granger Causality\n",
      "number of lags (no zero) 10\n",
      "ssr based F test:         F=-7.3000 , p=1.0000  , df_denom=73, df_num=10\n",
      "ssr based chi2 test:   chi2=-89.9999, p=1.0000  , df=10\n",
      "likelihood ratio test: chi2=-1199.2632, p=1.0000  , df=10\n",
      "parameter F test:         F=0.0542  , p=0.9998  , df_denom=73, df_num=7\n",
      "\n",
      "Granger Causality\n",
      "number of lags (no zero) 10\n",
      "ssr based F test:         F=-7.3000 , p=1.0000  , df_denom=73, df_num=10\n",
      "ssr based chi2 test:   chi2=-90.0000, p=1.0000  , df=10\n",
      "likelihood ratio test: chi2=-1325.8935, p=1.0000  , df=10\n",
      "parameter F test:         F=0.3797  , p=0.9282  , df_denom=73, df_num=8\n",
      "\n",
      "Granger Causality\n",
      "number of lags (no zero) 10\n",
      "ssr based F test:         F=-7.3000 , p=1.0000  , df_denom=73, df_num=10\n",
      "ssr based chi2 test:   chi2=-89.9999, p=1.0000  , df=10\n",
      "likelihood ratio test: chi2=-1273.4049, p=1.0000  , df=10\n",
      "parameter F test:         F=0.0415  , p=0.9999  , df_denom=73, df_num=7\n",
      "\n",
      "Granger Causality\n",
      "number of lags (no zero) 10\n",
      "ssr based F test:         F=-7.3000 , p=1.0000  , df_denom=73, df_num=10\n",
      "ssr based chi2 test:   chi2=-89.9999, p=1.0000  , df=10\n",
      "likelihood ratio test: chi2=-1240.7241, p=1.0000  , df=10\n",
      "parameter F test:         F=0.0605  , p=0.9996  , df_denom=73, df_num=7\n",
      "\n",
      "Granger Causality\n",
      "number of lags (no zero) 10\n",
      "ssr based F test:         F=-7.3000 , p=1.0000  , df_denom=73, df_num=10\n",
      "ssr based chi2 test:   chi2=-90.0000, p=1.0000  , df=10\n",
      "likelihood ratio test: chi2=-1334.5736, p=1.0000  , df=10\n",
      "parameter F test:         F=0.0211  , p=1.0000  , df_denom=73, df_num=7\n",
      "\n",
      "Granger Causality\n",
      "number of lags (no zero) 10\n",
      "ssr based F test:         F=-7.3000 , p=1.0000  , df_denom=73, df_num=10\n",
      "ssr based chi2 test:   chi2=-89.9999, p=1.0000  , df=10\n",
      "likelihood ratio test: chi2=-1203.8916, p=1.0000  , df=10\n",
      "parameter F test:         F=0.0882  , p=0.9988  , df_denom=73, df_num=7\n",
      "\n",
      "Granger Causality\n",
      "number of lags (no zero) 10\n"
     ]
    },
    {
     "name": "stderr",
     "output_type": "stream",
     "text": [
      "/Users/oost464/opt/anaconda3/envs/pyciems310/lib/python3.10/site-packages/statsmodels/base/model.py:1896: ValueWarning: covariance of constraints does not have full rank. The number of constraints is 10, but rank is 7\n",
      "  warnings.warn('covariance of constraints does not have full '\n",
      "/Users/oost464/opt/anaconda3/envs/pyciems310/lib/python3.10/site-packages/statsmodels/base/model.py:1896: ValueWarning: covariance of constraints does not have full rank. The number of constraints is 10, but rank is 7\n",
      "  warnings.warn('covariance of constraints does not have full '\n",
      "/Users/oost464/opt/anaconda3/envs/pyciems310/lib/python3.10/site-packages/statsmodels/base/model.py:1896: ValueWarning: covariance of constraints does not have full rank. The number of constraints is 10, but rank is 7\n",
      "  warnings.warn('covariance of constraints does not have full '\n",
      "/Users/oost464/opt/anaconda3/envs/pyciems310/lib/python3.10/site-packages/statsmodels/base/model.py:1896: ValueWarning: covariance of constraints does not have full rank. The number of constraints is 10, but rank is 7\n",
      "  warnings.warn('covariance of constraints does not have full '\n",
      "/Users/oost464/opt/anaconda3/envs/pyciems310/lib/python3.10/site-packages/statsmodels/base/model.py:1896: ValueWarning: covariance of constraints does not have full rank. The number of constraints is 10, but rank is 7\n",
      "  warnings.warn('covariance of constraints does not have full '\n",
      "/Users/oost464/opt/anaconda3/envs/pyciems310/lib/python3.10/site-packages/statsmodels/base/model.py:1896: ValueWarning: covariance of constraints does not have full rank. The number of constraints is 10, but rank is 7\n",
      "  warnings.warn('covariance of constraints does not have full '\n",
      "/Users/oost464/opt/anaconda3/envs/pyciems310/lib/python3.10/site-packages/statsmodels/base/model.py:1896: ValueWarning: covariance of constraints does not have full rank. The number of constraints is 10, but rank is 7\n",
      "  warnings.warn('covariance of constraints does not have full '\n",
      "/Users/oost464/opt/anaconda3/envs/pyciems310/lib/python3.10/site-packages/statsmodels/base/model.py:1896: ValueWarning: covariance of constraints does not have full rank. The number of constraints is 10, but rank is 7\n",
      "  warnings.warn('covariance of constraints does not have full '\n",
      "/Users/oost464/opt/anaconda3/envs/pyciems310/lib/python3.10/site-packages/statsmodels/base/model.py:1896: ValueWarning: covariance of constraints does not have full rank. The number of constraints is 10, but rank is 7\n",
      "  warnings.warn('covariance of constraints does not have full '\n",
      "/Users/oost464/opt/anaconda3/envs/pyciems310/lib/python3.10/site-packages/statsmodels/base/model.py:1896: ValueWarning: covariance of constraints does not have full rank. The number of constraints is 10, but rank is 7\n",
      "  warnings.warn('covariance of constraints does not have full '\n",
      "/Users/oost464/opt/anaconda3/envs/pyciems310/lib/python3.10/site-packages/statsmodels/base/model.py:1896: ValueWarning: covariance of constraints does not have full rank. The number of constraints is 10, but rank is 7\n",
      "  warnings.warn('covariance of constraints does not have full '\n",
      "/Users/oost464/opt/anaconda3/envs/pyciems310/lib/python3.10/site-packages/statsmodels/base/model.py:1896: ValueWarning: covariance of constraints does not have full rank. The number of constraints is 10, but rank is 7\n",
      "  warnings.warn('covariance of constraints does not have full '\n",
      "/Users/oost464/opt/anaconda3/envs/pyciems310/lib/python3.10/site-packages/statsmodels/base/model.py:1896: ValueWarning: covariance of constraints does not have full rank. The number of constraints is 10, but rank is 7\n",
      "  warnings.warn('covariance of constraints does not have full '\n",
      "/Users/oost464/opt/anaconda3/envs/pyciems310/lib/python3.10/site-packages/statsmodels/base/model.py:1896: ValueWarning: covariance of constraints does not have full rank. The number of constraints is 10, but rank is 7\n",
      "  warnings.warn('covariance of constraints does not have full '\n",
      "/Users/oost464/opt/anaconda3/envs/pyciems310/lib/python3.10/site-packages/statsmodels/base/model.py:1896: ValueWarning: covariance of constraints does not have full rank. The number of constraints is 10, but rank is 7\n",
      "  warnings.warn('covariance of constraints does not have full '\n",
      "/Users/oost464/opt/anaconda3/envs/pyciems310/lib/python3.10/site-packages/statsmodels/base/model.py:1896: ValueWarning: covariance of constraints does not have full rank. The number of constraints is 10, but rank is 7\n",
      "  warnings.warn('covariance of constraints does not have full '\n",
      "/Users/oost464/opt/anaconda3/envs/pyciems310/lib/python3.10/site-packages/statsmodels/base/model.py:1896: ValueWarning: covariance of constraints does not have full rank. The number of constraints is 10, but rank is 7\n",
      "  warnings.warn('covariance of constraints does not have full '\n",
      "/Users/oost464/opt/anaconda3/envs/pyciems310/lib/python3.10/site-packages/statsmodels/base/model.py:1896: ValueWarning: covariance of constraints does not have full rank. The number of constraints is 10, but rank is 7\n",
      "  warnings.warn('covariance of constraints does not have full '\n",
      "/Users/oost464/opt/anaconda3/envs/pyciems310/lib/python3.10/site-packages/statsmodels/base/model.py:1896: ValueWarning: covariance of constraints does not have full rank. The number of constraints is 10, but rank is 7\n",
      "  warnings.warn('covariance of constraints does not have full '\n",
      "/Users/oost464/opt/anaconda3/envs/pyciems310/lib/python3.10/site-packages/statsmodels/base/model.py:1896: ValueWarning: covariance of constraints does not have full rank. The number of constraints is 10, but rank is 7\n",
      "  warnings.warn('covariance of constraints does not have full '\n",
      "/Users/oost464/opt/anaconda3/envs/pyciems310/lib/python3.10/site-packages/statsmodels/base/model.py:1896: ValueWarning: covariance of constraints does not have full rank. The number of constraints is 10, but rank is 7\n",
      "  warnings.warn('covariance of constraints does not have full '\n",
      "/Users/oost464/opt/anaconda3/envs/pyciems310/lib/python3.10/site-packages/statsmodels/base/model.py:1896: ValueWarning: covariance of constraints does not have full rank. The number of constraints is 10, but rank is 7\n",
      "  warnings.warn('covariance of constraints does not have full '\n",
      "/Users/oost464/opt/anaconda3/envs/pyciems310/lib/python3.10/site-packages/statsmodels/base/model.py:1896: ValueWarning: covariance of constraints does not have full rank. The number of constraints is 10, but rank is 7\n",
      "  warnings.warn('covariance of constraints does not have full '\n",
      "/Users/oost464/opt/anaconda3/envs/pyciems310/lib/python3.10/site-packages/statsmodels/base/model.py:1896: ValueWarning: covariance of constraints does not have full rank. The number of constraints is 10, but rank is 7\n",
      "  warnings.warn('covariance of constraints does not have full '\n",
      "/Users/oost464/opt/anaconda3/envs/pyciems310/lib/python3.10/site-packages/statsmodels/base/model.py:1896: ValueWarning: covariance of constraints does not have full rank. The number of constraints is 10, but rank is 7\n",
      "  warnings.warn('covariance of constraints does not have full '\n",
      "/Users/oost464/opt/anaconda3/envs/pyciems310/lib/python3.10/site-packages/statsmodels/base/model.py:1896: ValueWarning: covariance of constraints does not have full rank. The number of constraints is 10, but rank is 7\n",
      "  warnings.warn('covariance of constraints does not have full '\n",
      "/Users/oost464/opt/anaconda3/envs/pyciems310/lib/python3.10/site-packages/statsmodels/base/model.py:1896: ValueWarning: covariance of constraints does not have full rank. The number of constraints is 10, but rank is 7\n",
      "  warnings.warn('covariance of constraints does not have full '\n",
      "/Users/oost464/opt/anaconda3/envs/pyciems310/lib/python3.10/site-packages/statsmodels/base/model.py:1896: ValueWarning: covariance of constraints does not have full rank. The number of constraints is 10, but rank is 7\n",
      "  warnings.warn('covariance of constraints does not have full '\n",
      "/Users/oost464/opt/anaconda3/envs/pyciems310/lib/python3.10/site-packages/statsmodels/base/model.py:1896: ValueWarning: covariance of constraints does not have full rank. The number of constraints is 10, but rank is 6\n",
      "  warnings.warn('covariance of constraints does not have full '\n",
      "/Users/oost464/opt/anaconda3/envs/pyciems310/lib/python3.10/site-packages/statsmodels/base/model.py:1896: ValueWarning: covariance of constraints does not have full rank. The number of constraints is 10, but rank is 7\n",
      "  warnings.warn('covariance of constraints does not have full '\n",
      "/Users/oost464/opt/anaconda3/envs/pyciems310/lib/python3.10/site-packages/statsmodels/base/model.py:1896: ValueWarning: covariance of constraints does not have full rank. The number of constraints is 10, but rank is 7\n",
      "  warnings.warn('covariance of constraints does not have full '\n",
      "/Users/oost464/opt/anaconda3/envs/pyciems310/lib/python3.10/site-packages/statsmodels/base/model.py:1896: ValueWarning: covariance of constraints does not have full rank. The number of constraints is 10, but rank is 7\n",
      "  warnings.warn('covariance of constraints does not have full '\n",
      "/Users/oost464/opt/anaconda3/envs/pyciems310/lib/python3.10/site-packages/statsmodels/base/model.py:1896: ValueWarning: covariance of constraints does not have full rank. The number of constraints is 10, but rank is 7\n",
      "  warnings.warn('covariance of constraints does not have full '\n",
      "/Users/oost464/opt/anaconda3/envs/pyciems310/lib/python3.10/site-packages/statsmodels/base/model.py:1896: ValueWarning: covariance of constraints does not have full rank. The number of constraints is 10, but rank is 7\n",
      "  warnings.warn('covariance of constraints does not have full '\n",
      "/Users/oost464/opt/anaconda3/envs/pyciems310/lib/python3.10/site-packages/statsmodels/base/model.py:1896: ValueWarning: covariance of constraints does not have full rank. The number of constraints is 10, but rank is 7\n",
      "  warnings.warn('covariance of constraints does not have full '\n",
      "/Users/oost464/opt/anaconda3/envs/pyciems310/lib/python3.10/site-packages/statsmodels/base/model.py:1896: ValueWarning: covariance of constraints does not have full rank. The number of constraints is 10, but rank is 7\n",
      "  warnings.warn('covariance of constraints does not have full '\n",
      "/Users/oost464/opt/anaconda3/envs/pyciems310/lib/python3.10/site-packages/statsmodels/base/model.py:1896: ValueWarning: covariance of constraints does not have full rank. The number of constraints is 10, but rank is 7\n",
      "  warnings.warn('covariance of constraints does not have full '\n",
      "/Users/oost464/opt/anaconda3/envs/pyciems310/lib/python3.10/site-packages/statsmodels/base/model.py:1896: ValueWarning: covariance of constraints does not have full rank. The number of constraints is 10, but rank is 7\n",
      "  warnings.warn('covariance of constraints does not have full '\n",
      "/Users/oost464/opt/anaconda3/envs/pyciems310/lib/python3.10/site-packages/statsmodels/base/model.py:1896: ValueWarning: covariance of constraints does not have full rank. The number of constraints is 10, but rank is 7\n",
      "  warnings.warn('covariance of constraints does not have full '\n",
      "/Users/oost464/opt/anaconda3/envs/pyciems310/lib/python3.10/site-packages/statsmodels/base/model.py:1896: ValueWarning: covariance of constraints does not have full rank. The number of constraints is 10, but rank is 8\n",
      "  warnings.warn('covariance of constraints does not have full '\n",
      "/Users/oost464/opt/anaconda3/envs/pyciems310/lib/python3.10/site-packages/statsmodels/base/model.py:1896: ValueWarning: covariance of constraints does not have full rank. The number of constraints is 10, but rank is 7\n",
      "  warnings.warn('covariance of constraints does not have full '\n",
      "/Users/oost464/opt/anaconda3/envs/pyciems310/lib/python3.10/site-packages/statsmodels/base/model.py:1896: ValueWarning: covariance of constraints does not have full rank. The number of constraints is 10, but rank is 7\n",
      "  warnings.warn('covariance of constraints does not have full '\n",
      "/Users/oost464/opt/anaconda3/envs/pyciems310/lib/python3.10/site-packages/statsmodels/base/model.py:1896: ValueWarning: covariance of constraints does not have full rank. The number of constraints is 10, but rank is 7\n",
      "  warnings.warn('covariance of constraints does not have full '\n",
      "/Users/oost464/opt/anaconda3/envs/pyciems310/lib/python3.10/site-packages/statsmodels/base/model.py:1896: ValueWarning: covariance of constraints does not have full rank. The number of constraints is 10, but rank is 7\n",
      "  warnings.warn('covariance of constraints does not have full '\n",
      "/Users/oost464/opt/anaconda3/envs/pyciems310/lib/python3.10/site-packages/statsmodels/base/model.py:1896: ValueWarning: covariance of constraints does not have full rank. The number of constraints is 10, but rank is 7\n",
      "  warnings.warn('covariance of constraints does not have full '\n",
      "/Users/oost464/opt/anaconda3/envs/pyciems310/lib/python3.10/site-packages/statsmodels/base/model.py:1896: ValueWarning: covariance of constraints does not have full rank. The number of constraints is 10, but rank is 7\n",
      "  warnings.warn('covariance of constraints does not have full '\n",
      "/Users/oost464/opt/anaconda3/envs/pyciems310/lib/python3.10/site-packages/statsmodels/base/model.py:1896: ValueWarning: covariance of constraints does not have full rank. The number of constraints is 10, but rank is 6\n",
      "  warnings.warn('covariance of constraints does not have full '\n",
      "/Users/oost464/opt/anaconda3/envs/pyciems310/lib/python3.10/site-packages/statsmodels/base/model.py:1896: ValueWarning: covariance of constraints does not have full rank. The number of constraints is 10, but rank is 6\n",
      "  warnings.warn('covariance of constraints does not have full '\n",
      "/Users/oost464/opt/anaconda3/envs/pyciems310/lib/python3.10/site-packages/statsmodels/base/model.py:1896: ValueWarning: covariance of constraints does not have full rank. The number of constraints is 10, but rank is 6\n",
      "  warnings.warn('covariance of constraints does not have full '\n",
      "/Users/oost464/opt/anaconda3/envs/pyciems310/lib/python3.10/site-packages/statsmodels/base/model.py:1896: ValueWarning: covariance of constraints does not have full rank. The number of constraints is 10, but rank is 7\n",
      "  warnings.warn('covariance of constraints does not have full '\n",
      "/Users/oost464/opt/anaconda3/envs/pyciems310/lib/python3.10/site-packages/statsmodels/base/model.py:1896: ValueWarning: covariance of constraints does not have full rank. The number of constraints is 10, but rank is 7\n",
      "  warnings.warn('covariance of constraints does not have full '\n",
      "/Users/oost464/opt/anaconda3/envs/pyciems310/lib/python3.10/site-packages/statsmodels/base/model.py:1896: ValueWarning: covariance of constraints does not have full rank. The number of constraints is 10, but rank is 7\n",
      "  warnings.warn('covariance of constraints does not have full '\n",
      "/Users/oost464/opt/anaconda3/envs/pyciems310/lib/python3.10/site-packages/statsmodels/base/model.py:1896: ValueWarning: covariance of constraints does not have full rank. The number of constraints is 10, but rank is 7\n",
      "  warnings.warn('covariance of constraints does not have full '\n"
     ]
    },
    {
     "name": "stdout",
     "output_type": "stream",
     "text": [
      "ssr based F test:         F=-7.3000 , p=1.0000  , df_denom=73, df_num=10\n",
      "ssr based chi2 test:   chi2=-90.0000, p=1.0000  , df=10\n",
      "likelihood ratio test: chi2=-1405.9987, p=1.0000  , df=10\n",
      "parameter F test:         F=0.0101  , p=1.0000  , df_denom=73, df_num=7\n",
      "\n",
      "Granger Causality\n",
      "number of lags (no zero) 10\n",
      "ssr based F test:         F=-7.3000 , p=1.0000  , df_denom=73, df_num=10\n",
      "ssr based chi2 test:   chi2=-90.0000, p=1.0000  , df=10\n",
      "likelihood ratio test: chi2=-1378.1768, p=1.0000  , df=10\n",
      "parameter F test:         F=0.0133  , p=1.0000  , df_denom=73, df_num=7\n",
      "\n",
      "Granger Causality\n",
      "number of lags (no zero) 10\n",
      "ssr based F test:         F=-7.3000 , p=1.0000  , df_denom=73, df_num=10\n",
      "ssr based chi2 test:   chi2=-90.0000, p=1.0000  , df=10\n",
      "likelihood ratio test: chi2=-1424.2163, p=1.0000  , df=10\n",
      "parameter F test:         F=0.0001  , p=1.0000  , df_denom=73, df_num=6\n",
      "\n",
      "Granger Causality\n",
      "number of lags (no zero) 10\n",
      "ssr based F test:         F=-7.3000 , p=1.0000  , df_denom=73, df_num=10\n",
      "ssr based chi2 test:   chi2=-90.0000, p=1.0000  , df=10\n",
      "likelihood ratio test: chi2=-1313.8971, p=1.0000  , df=10\n",
      "parameter F test:         F=0.0004  , p=1.0000  , df_denom=73, df_num=6\n",
      "\n",
      "Granger Causality\n",
      "number of lags (no zero) 10\n",
      "ssr based F test:         F=-7.3000 , p=1.0000  , df_denom=73, df_num=10\n",
      "ssr based chi2 test:   chi2=-89.9999, p=1.0000  , df=10\n",
      "likelihood ratio test: chi2=-1269.5443, p=1.0000  , df=10\n",
      "parameter F test:         F=0.0275  , p=0.9999  , df_denom=73, df_num=6\n",
      "\n",
      "Granger Causality\n",
      "number of lags (no zero) 10\n",
      "ssr based F test:         F=-7.3000 , p=1.0000  , df_denom=73, df_num=10\n",
      "ssr based chi2 test:   chi2=-89.9998, p=1.0000  , df=10\n",
      "likelihood ratio test: chi2=-1189.1448, p=1.0000  , df=10\n",
      "parameter F test:         F=0.1049  , p=0.9979  , df_denom=73, df_num=7\n",
      "\n",
      "Granger Causality\n",
      "number of lags (no zero) 10\n",
      "ssr based F test:         F=-7.3000 , p=1.0000  , df_denom=73, df_num=10\n",
      "ssr based chi2 test:   chi2=-90.0000, p=1.0000  , df=10\n",
      "likelihood ratio test: chi2=-1380.5454, p=1.0000  , df=10\n",
      "parameter F test:         F=0.2649  , p=0.9655  , df_denom=73, df_num=7\n",
      "\n",
      "Granger Causality\n",
      "number of lags (no zero) 10\n",
      "ssr based F test:         F=-7.3000 , p=1.0000  , df_denom=73, df_num=10\n",
      "ssr based chi2 test:   chi2=-89.9998, p=1.0000  , df=10\n",
      "likelihood ratio test: chi2=-1175.0493, p=1.0000  , df=10\n",
      "parameter F test:         F=0.1264  , p=0.9962  , df_denom=73, df_num=7\n",
      "\n",
      "Granger Causality\n",
      "number of lags (no zero) 10\n",
      "ssr based F test:         F=-7.3000 , p=1.0000  , df_denom=73, df_num=10\n",
      "ssr based chi2 test:   chi2=-90.0000, p=1.0000  , df=10\n",
      "likelihood ratio test: chi2=-1415.5141, p=1.0000  , df=10\n",
      "parameter F test:         F=0.0085  , p=1.0000  , df_denom=73, df_num=7\n",
      "\n",
      "Granger Causality\n",
      "number of lags (no zero) 10\n",
      "ssr based F test:         F=-7.3000 , p=1.0000  , df_denom=73, df_num=10\n",
      "ssr based chi2 test:   chi2=-89.9996, p=1.0000  , df=10\n",
      "likelihood ratio test: chi2=-1105.2726, p=1.0000  , df=10\n",
      "parameter F test:         F=0.0509  , p=0.9998  , df_denom=73, df_num=7\n",
      "\n",
      "Granger Causality\n",
      "number of lags (no zero) 10\n",
      "ssr based F test:         F=-7.3000 , p=1.0000  , df_denom=73, df_num=10\n",
      "ssr based chi2 test:   chi2=-90.0000, p=1.0000  , df=10\n",
      "likelihood ratio test: chi2=-1304.4496, p=1.0000  , df=10\n",
      "parameter F test:         F=0.0306  , p=1.0000  , df_denom=73, df_num=7\n",
      "\n",
      "Granger Causality\n",
      "number of lags (no zero) 10\n",
      "ssr based F test:         F=-7.3000 , p=1.0000  , df_denom=73, df_num=10\n",
      "ssr based chi2 test:   chi2=-90.0000, p=1.0000  , df=10\n",
      "likelihood ratio test: chi2=-1303.0791, p=1.0000  , df=10\n",
      "parameter F test:         F=0.0296  , p=1.0000  , df_denom=73, df_num=7\n",
      "\n",
      "Granger Causality\n",
      "number of lags (no zero) 10\n",
      "ssr based F test:         F=-7.3000 , p=1.0000  , df_denom=73, df_num=10\n",
      "ssr based chi2 test:   chi2=-89.9999, p=1.0000  , df=10\n",
      "likelihood ratio test: chi2=-1272.1115, p=1.0000  , df=10\n",
      "parameter F test:         F=0.0425  , p=0.9999  , df_denom=73, df_num=7\n",
      "\n",
      "Granger Causality\n",
      "number of lags (no zero) 10\n",
      "ssr based F test:         F=-7.3000 , p=1.0000  , df_denom=73, df_num=10\n",
      "ssr based chi2 test:   chi2=-89.9997, p=1.0000  , df=10\n",
      "likelihood ratio test: chi2=-1139.8862, p=1.0000  , df=10\n",
      "parameter F test:         F=0.0026  , p=1.0000  , df_denom=73, df_num=6\n",
      "\n",
      "Granger Causality\n",
      "number of lags (no zero) 10\n",
      "ssr based F test:         F=-7.3000 , p=1.0000  , df_denom=73, df_num=10\n",
      "ssr based chi2 test:   chi2=-89.9999, p=1.0000  , df=10\n",
      "likelihood ratio test: chi2=-1236.3596, p=1.0000  , df=10\n",
      "parameter F test:         F=0.0624  , p=0.9996  , df_denom=73, df_num=7\n",
      "\n",
      "Granger Causality\n",
      "number of lags (no zero) 10\n",
      "ssr based F test:         F=-7.3000 , p=1.0000  , df_denom=73, df_num=10\n",
      "ssr based chi2 test:   chi2=-89.9999, p=1.0000  , df=10\n",
      "likelihood ratio test: chi2=-1263.5808, p=1.0000  , df=10\n",
      "parameter F test:         F=0.0267  , p=1.0000  , df_denom=73, df_num=7\n",
      "\n",
      "Granger Causality\n",
      "number of lags (no zero) 10\n",
      "ssr based F test:         F=-7.3000 , p=1.0000  , df_denom=73, df_num=10\n",
      "ssr based chi2 test:   chi2=-89.9996, p=1.0000  , df=10\n",
      "likelihood ratio test: chi2=-1117.6339, p=1.0000  , df=10\n",
      "parameter F test:         F=0.2293  , p=0.9770  , df_denom=73, df_num=7\n",
      "\n",
      "Granger Causality\n",
      "number of lags (no zero) 10\n",
      "ssr based F test:         F=-7.2999 , p=1.0000  , df_denom=73, df_num=10\n",
      "ssr based chi2 test:   chi2=-89.9991, p=1.0000  , df=10\n",
      "likelihood ratio test: chi2=-1041.0532, p=1.0000  , df=10\n",
      "parameter F test:         F=0.5491  , p=0.7944  , df_denom=73, df_num=7\n",
      "\n",
      "Granger Causality\n",
      "number of lags (no zero) 10\n",
      "ssr based F test:         F=-7.3000 , p=1.0000  , df_denom=73, df_num=10\n",
      "ssr based chi2 test:   chi2=-89.9999, p=1.0000  , df=10\n",
      "likelihood ratio test: chi2=-1197.6503, p=1.0000  , df=10\n",
      "parameter F test:         F=0.0943  , p=0.9985  , df_denom=73, df_num=7\n",
      "\n",
      "Granger Causality\n",
      "number of lags (no zero) 10\n",
      "ssr based F test:         F=-7.2999 , p=1.0000  , df_denom=73, df_num=10\n",
      "ssr based chi2 test:   chi2=-89.9988, p=1.0000  , df=10\n",
      "likelihood ratio test: chi2=-1009.1108, p=1.0000  , df=10\n",
      "parameter F test:         F=0.7745  , p=0.6106  , df_denom=73, df_num=7\n",
      "\n",
      "Granger Causality\n",
      "number of lags (no zero) 10\n",
      "ssr based F test:         F=-7.3000 , p=1.0000  , df_denom=73, df_num=10\n",
      "ssr based chi2 test:   chi2=-89.9997, p=1.0000  , df=10\n",
      "likelihood ratio test: chi2=-1124.1947, p=1.0000  , df=10\n",
      "parameter F test:         F=0.2161  , p=0.9806  , df_denom=73, df_num=7\n",
      "\n",
      "Granger Causality\n",
      "number of lags (no zero) 10\n",
      "ssr based F test:         F=-7.3000 , p=1.0000  , df_denom=73, df_num=10\n",
      "ssr based chi2 test:   chi2=-90.0000, p=1.0000  , df=10\n",
      "likelihood ratio test: chi2=-1483.7680, p=1.0000  , df=10\n",
      "parameter F test:         F=0.0040  , p=1.0000  , df_denom=73, df_num=7\n",
      "\n",
      "Granger Causality\n",
      "number of lags (no zero) 10\n",
      "ssr based F test:         F=-7.3000 , p=1.0000  , df_denom=73, df_num=10\n",
      "ssr based chi2 test:   chi2=-89.9999, p=1.0000  , df=10\n",
      "likelihood ratio test: chi2=-1288.7759, p=1.0000  , df=10\n",
      "parameter F test:         F=0.0450  , p=0.9999  , df_denom=73, df_num=7\n",
      "\n",
      "Granger Causality\n",
      "number of lags (no zero) 10\n",
      "ssr based F test:         F=-7.3000 , p=1.0000  , df_denom=73, df_num=10\n",
      "ssr based chi2 test:   chi2=-90.0000, p=1.0000  , df=10\n",
      "likelihood ratio test: chi2=-1299.7178, p=1.0000  , df=10\n",
      "parameter F test:         F=0.0181  , p=1.0000  , df_denom=73, df_num=7\n",
      "\n",
      "Granger Causality\n",
      "number of lags (no zero) 10\n",
      "ssr based F test:         F=-7.3000 , p=1.0000  , df_denom=73, df_num=10\n",
      "ssr based chi2 test:   chi2=-89.9999, p=1.0000  , df=10\n",
      "likelihood ratio test: chi2=-1246.9112, p=1.0000  , df=10\n",
      "parameter F test:         F=0.0557  , p=0.9997  , df_denom=73, df_num=7\n",
      "\n",
      "Granger Causality\n",
      "number of lags (no zero) 10\n",
      "ssr based F test:         F=-7.3000 , p=1.0000  , df_denom=73, df_num=10\n",
      "ssr based chi2 test:   chi2=-89.9998, p=1.0000  , df=10\n",
      "likelihood ratio test: chi2=-1182.1457, p=1.0000  , df=10\n",
      "parameter F test:         F=0.1134  , p=0.9973  , df_denom=73, df_num=7\n",
      "\n",
      "Granger Causality\n",
      "number of lags (no zero) 10\n",
      "ssr based F test:         F=-7.3000 , p=1.0000  , df_denom=73, df_num=10\n",
      "ssr based chi2 test:   chi2=-89.9998, p=1.0000  , df=10\n",
      "likelihood ratio test: chi2=-1181.0006, p=1.0000  , df=10\n",
      "parameter F test:         F=0.0698  , p=0.9994  , df_denom=73, df_num=7\n",
      "\n",
      "Granger Causality\n",
      "number of lags (no zero) 10\n",
      "ssr based F test:         F=-7.2989 , p=1.0000  , df_denom=73, df_num=10\n",
      "ssr based chi2 test:   chi2=-89.9859, p=1.0000  , df=10\n",
      "likelihood ratio test: chi2=-788.5396, p=1.0000  , df=10\n",
      "parameter F test:         F=8.9494  , p=0.0000  , df_denom=73, df_num=7\n",
      "\n",
      "Granger Causality\n",
      "number of lags (no zero) 10\n",
      "ssr based F test:         F=-7.3000 , p=1.0000  , df_denom=73, df_num=10\n",
      "ssr based chi2 test:   chi2=-89.9999, p=1.0000  , df=10\n",
      "likelihood ratio test: chi2=-1285.9789, p=1.0000  , df=10\n",
      "parameter F test:         F=0.0376  , p=0.9999  , df_denom=73, df_num=7\n",
      "\n",
      "Granger Causality\n",
      "number of lags (no zero) 10\n",
      "ssr based F test:         F=-7.2980 , p=1.0000  , df_denom=73, df_num=10\n",
      "ssr based chi2 test:   chi2=-89.9756, p=1.0000  , df=10\n",
      "likelihood ratio test: chi2=-739.2611, p=1.0000  , df=10\n",
      "parameter F test:         F=261.6327, p=0.0000  , df_denom=73, df_num=8\n",
      "\n",
      "Granger Causality\n",
      "number of lags (no zero) 10\n",
      "ssr based F test:         F=-7.3000 , p=1.0000  , df_denom=73, df_num=10\n",
      "ssr based chi2 test:   chi2=-89.9999, p=1.0000  , df=10\n",
      "likelihood ratio test: chi2=-1245.7849, p=1.0000  , df=10\n",
      "parameter F test:         F=0.0624  , p=0.9996  , df_denom=73, df_num=7\n",
      "\n",
      "Granger Causality\n",
      "number of lags (no zero) 10\n",
      "ssr based F test:         F=-7.3000 , p=1.0000  , df_denom=73, df_num=10\n",
      "ssr based chi2 test:   chi2=-89.9999, p=1.0000  , df=10\n",
      "likelihood ratio test: chi2=-1208.3712, p=1.0000  , df=10\n",
      "parameter F test:         F=0.0397  , p=0.9999  , df_denom=73, df_num=7\n",
      "\n",
      "Granger Causality\n",
      "number of lags (no zero) 10\n",
      "ssr based F test:         F=-7.3000 , p=1.0000  , df_denom=73, df_num=10\n",
      "ssr based chi2 test:   chi2=-90.0000, p=1.0000  , df=10\n",
      "likelihood ratio test: chi2=-1378.8472, p=1.0000  , df=10\n",
      "parameter F test:         F=0.0131  , p=1.0000  , df_denom=73, df_num=7\n",
      "\n",
      "Granger Causality\n",
      "number of lags (no zero) 10\n",
      "ssr based F test:         F=-7.3000 , p=1.0000  , df_denom=73, df_num=10\n",
      "ssr based chi2 test:   chi2=-90.0000, p=1.0000  , df=10\n",
      "likelihood ratio test: chi2=-1482.6855, p=1.0000  , df=10\n",
      "parameter F test:         F=0.0041  , p=1.0000  , df_denom=73, df_num=7\n",
      "\n",
      "Granger Causality\n",
      "number of lags (no zero) 10\n",
      "ssr based F test:         F=-7.3000 , p=1.0000  , df_denom=73, df_num=10\n",
      "ssr based chi2 test:   chi2=-90.0000, p=1.0000  , df=10\n",
      "likelihood ratio test: chi2=-1450.0930, p=1.0000  , df=10\n",
      "parameter F test:         F=0.0036  , p=1.0000  , df_denom=73, df_num=6\n",
      "\n",
      "Granger Causality\n",
      "number of lags (no zero) 10\n",
      "ssr based F test:         F=-7.3000 , p=1.0000  , df_denom=73, df_num=10\n",
      "ssr based chi2 test:   chi2=-89.9999, p=1.0000  , df=10\n",
      "likelihood ratio test: chi2=-1256.5378, p=1.0000  , df=10\n",
      "parameter F test:         F=0.0497  , p=0.9998  , df_denom=73, df_num=7\n",
      "\n",
      "Granger Causality\n",
      "number of lags (no zero) 10\n",
      "ssr based F test:         F=-7.3000 , p=1.0000  , df_denom=73, df_num=10\n",
      "ssr based chi2 test:   chi2=-89.9999, p=1.0000  , df=10\n",
      "likelihood ratio test: chi2=-1273.0810, p=1.0000  , df=10\n",
      "parameter F test:         F=0.0247  , p=0.9999  , df_denom=73, df_num=6\n",
      "\n",
      "Granger Causality\n",
      "number of lags (no zero) 10\n",
      "ssr based F test:         F=-7.3000 , p=1.0000  , df_denom=73, df_num=10\n",
      "ssr based chi2 test:   chi2=-90.0000, p=1.0000  , df=10\n",
      "likelihood ratio test: chi2=-1921.6675, p=1.0000  , df=10\n",
      "parameter F test:         F=0.0000  , p=1.0000  , df_denom=73, df_num=6\n",
      "\n",
      "Granger Causality\n",
      "number of lags (no zero) 10\n",
      "ssr based F test:         F=-7.2000 , p=1.0000  , df_denom=72, df_num=10\n",
      "ssr based chi2 test:   chi2=-90.0000, p=1.0000  , df=10\n",
      "likelihood ratio test: chi2=-1692.0802, p=1.0000  , df=10\n",
      "parameter F test:         F=0.0000  , p=1.0000  , df_denom=72, df_num=6\n",
      "\n",
      "Granger Causality\n",
      "number of lags (no zero) 10\n",
      "ssr based F test:         F=-7.3000 , p=1.0000  , df_denom=73, df_num=10\n",
      "ssr based chi2 test:   chi2=-90.0000, p=1.0000  , df=10\n",
      "likelihood ratio test: chi2=-1950.3256, p=1.0000  , df=10\n",
      "parameter F test:         F=0.0000  , p=1.0000  , df_denom=73, df_num=6\n",
      "\n",
      "Granger Causality\n",
      "number of lags (no zero) 10\n",
      "ssr based F test:         F=-7.3000 , p=1.0000  , df_denom=73, df_num=10\n",
      "ssr based chi2 test:   chi2=-89.9999, p=1.0000  , df=10\n",
      "likelihood ratio test: chi2=-1294.4076, p=1.0000  , df=10\n",
      "parameter F test:         F=0.0343  , p=0.9999  , df_denom=73, df_num=7\n",
      "\n",
      "Granger Causality\n",
      "number of lags (no zero) 10\n",
      "ssr based F test:         F=-7.2000 , p=1.0000  , df_denom=72, df_num=10\n",
      "ssr based chi2 test:   chi2=-90.0000, p=1.0000  , df=10\n",
      "likelihood ratio test: chi2=-1957.6377, p=1.0000  , df=10\n",
      "parameter F test:         F=0.0000  , p=1.0000  , df_denom=72, df_num=6\n",
      "\n",
      "Granger Causality\n",
      "number of lags (no zero) 10\n",
      "ssr based F test:         F=-7.3000 , p=1.0000  , df_denom=73, df_num=10\n",
      "ssr based chi2 test:   chi2=-90.0000, p=1.0000  , df=10\n",
      "likelihood ratio test: chi2=-1488.6413, p=1.0000  , df=10\n",
      "parameter F test:         F=0.0013  , p=1.0000  , df_denom=73, df_num=7\n",
      "\n",
      "Granger Causality\n",
      "number of lags (no zero) 10\n",
      "ssr based F test:         F=-7.2000 , p=1.0000  , df_denom=72, df_num=10\n",
      "ssr based chi2 test:   chi2=-90.0000, p=1.0000  , df=10\n",
      "likelihood ratio test: chi2=-1821.7812, p=1.0000  , df=10\n",
      "parameter F test:         F=0.0000  , p=1.0000  , df_denom=72, df_num=6\n",
      "\n",
      "Granger Causality\n",
      "number of lags (no zero) 10\n",
      "ssr based F test:         F=-7.3000 , p=1.0000  , df_denom=73, df_num=10\n",
      "ssr based chi2 test:   chi2=-90.0000, p=1.0000  , df=10\n",
      "likelihood ratio test: chi2=-1782.0709, p=1.0000  , df=10\n",
      "parameter F test:         F=0.0000  , p=1.0000  , df_denom=73, df_num=6\n",
      "\n",
      "Granger Causality\n",
      "number of lags (no zero) 10\n",
      "ssr based F test:         F=-7.3000 , p=1.0000  , df_denom=73, df_num=10\n",
      "ssr based chi2 test:   chi2=-90.0000, p=1.0000  , df=10\n",
      "likelihood ratio test: chi2=-1815.3275, p=1.0000  , df=10\n",
      "parameter F test:         F=0.0000  , p=1.0000  , df_denom=73, df_num=6\n",
      "\n",
      "Granger Causality\n",
      "number of lags (no zero) 10\n",
      "ssr based F test:         F=-7.3000 , p=1.0000  , df_denom=73, df_num=10\n",
      "ssr based chi2 test:   chi2=-90.0000, p=1.0000  , df=10\n",
      "likelihood ratio test: chi2=-2139.3630, p=1.0000  , df=10\n",
      "parameter F test:         F=0.0000  , p=1.0000  , df_denom=73, df_num=6\n",
      "\n",
      "Granger Causality\n",
      "number of lags (no zero) 10\n",
      "ssr based F test:         F=-7.3000 , p=1.0000  , df_denom=73, df_num=10\n",
      "ssr based chi2 test:   chi2=-89.9999, p=1.0000  , df=10\n",
      "likelihood ratio test: chi2=-1284.5849, p=1.0000  , df=10\n",
      "parameter F test:         F=0.0371  , p=0.9999  , df_denom=73, df_num=7\n",
      "\n",
      "Granger Causality\n",
      "number of lags (no zero) 10\n",
      "ssr based F test:         F=-7.3000 , p=1.0000  , df_denom=73, df_num=10\n",
      "ssr based chi2 test:   chi2=-90.0000, p=1.0000  , df=10\n",
      "likelihood ratio test: chi2=-1322.2020, p=1.0000  , df=10\n",
      "parameter F test:         F=0.0236  , p=1.0000  , df_denom=73, df_num=7\n",
      "\n",
      "Granger Causality\n",
      "number of lags (no zero) 10\n",
      "ssr based F test:         F=-7.3000 , p=1.0000  , df_denom=73, df_num=10\n",
      "ssr based chi2 test:   chi2=-90.0000, p=1.0000  , df=10\n",
      "likelihood ratio test: chi2=-1824.5050, p=1.0000  , df=10\n",
      "parameter F test:         F=0.0000  , p=1.0000  , df_denom=73, df_num=6\n",
      "\n",
      "Granger Causality\n",
      "number of lags (no zero) 10\n",
      "ssr based F test:         F=-7.3000 , p=1.0000  , df_denom=73, df_num=10\n",
      "ssr based chi2 test:   chi2=-90.0000, p=1.0000  , df=10\n",
      "likelihood ratio test: chi2=-2055.0633, p=1.0000  , df=10\n",
      "parameter F test:         F=0.0000  , p=1.0000  , df_denom=73, df_num=6\n"
     ]
    },
    {
     "name": "stderr",
     "output_type": "stream",
     "text": [
      "/Users/oost464/opt/anaconda3/envs/pyciems310/lib/python3.10/site-packages/statsmodels/base/model.py:1896: ValueWarning: covariance of constraints does not have full rank. The number of constraints is 10, but rank is 7\n",
      "  warnings.warn('covariance of constraints does not have full '\n",
      "/Users/oost464/opt/anaconda3/envs/pyciems310/lib/python3.10/site-packages/statsmodels/base/model.py:1896: ValueWarning: covariance of constraints does not have full rank. The number of constraints is 10, but rank is 7\n",
      "  warnings.warn('covariance of constraints does not have full '\n",
      "/Users/oost464/opt/anaconda3/envs/pyciems310/lib/python3.10/site-packages/statsmodels/base/model.py:1896: ValueWarning: covariance of constraints does not have full rank. The number of constraints is 10, but rank is 7\n",
      "  warnings.warn('covariance of constraints does not have full '\n",
      "/Users/oost464/opt/anaconda3/envs/pyciems310/lib/python3.10/site-packages/statsmodels/base/model.py:1896: ValueWarning: covariance of constraints does not have full rank. The number of constraints is 10, but rank is 7\n",
      "  warnings.warn('covariance of constraints does not have full '\n",
      "/Users/oost464/opt/anaconda3/envs/pyciems310/lib/python3.10/site-packages/statsmodels/base/model.py:1896: ValueWarning: covariance of constraints does not have full rank. The number of constraints is 10, but rank is 6\n",
      "  warnings.warn('covariance of constraints does not have full '\n",
      "/Users/oost464/opt/anaconda3/envs/pyciems310/lib/python3.10/site-packages/statsmodels/base/model.py:1896: ValueWarning: covariance of constraints does not have full rank. The number of constraints is 10, but rank is 7\n",
      "  warnings.warn('covariance of constraints does not have full '\n",
      "/Users/oost464/opt/anaconda3/envs/pyciems310/lib/python3.10/site-packages/statsmodels/base/model.py:1896: ValueWarning: covariance of constraints does not have full rank. The number of constraints is 10, but rank is 7\n",
      "  warnings.warn('covariance of constraints does not have full '\n",
      "/Users/oost464/opt/anaconda3/envs/pyciems310/lib/python3.10/site-packages/statsmodels/base/model.py:1896: ValueWarning: covariance of constraints does not have full rank. The number of constraints is 10, but rank is 7\n",
      "  warnings.warn('covariance of constraints does not have full '\n",
      "/Users/oost464/opt/anaconda3/envs/pyciems310/lib/python3.10/site-packages/statsmodels/base/model.py:1896: ValueWarning: covariance of constraints does not have full rank. The number of constraints is 10, but rank is 7\n",
      "  warnings.warn('covariance of constraints does not have full '\n",
      "/Users/oost464/opt/anaconda3/envs/pyciems310/lib/python3.10/site-packages/statsmodels/base/model.py:1896: ValueWarning: covariance of constraints does not have full rank. The number of constraints is 10, but rank is 7\n",
      "  warnings.warn('covariance of constraints does not have full '\n",
      "/Users/oost464/opt/anaconda3/envs/pyciems310/lib/python3.10/site-packages/statsmodels/base/model.py:1896: ValueWarning: covariance of constraints does not have full rank. The number of constraints is 10, but rank is 7\n",
      "  warnings.warn('covariance of constraints does not have full '\n",
      "/Users/oost464/opt/anaconda3/envs/pyciems310/lib/python3.10/site-packages/statsmodels/base/model.py:1896: ValueWarning: covariance of constraints does not have full rank. The number of constraints is 10, but rank is 7\n",
      "  warnings.warn('covariance of constraints does not have full '\n",
      "/Users/oost464/opt/anaconda3/envs/pyciems310/lib/python3.10/site-packages/statsmodels/base/model.py:1896: ValueWarning: covariance of constraints does not have full rank. The number of constraints is 10, but rank is 7\n",
      "  warnings.warn('covariance of constraints does not have full '\n",
      "/Users/oost464/opt/anaconda3/envs/pyciems310/lib/python3.10/site-packages/statsmodels/base/model.py:1896: ValueWarning: covariance of constraints does not have full rank. The number of constraints is 10, but rank is 7\n",
      "  warnings.warn('covariance of constraints does not have full '\n",
      "/Users/oost464/opt/anaconda3/envs/pyciems310/lib/python3.10/site-packages/statsmodels/base/model.py:1896: ValueWarning: covariance of constraints does not have full rank. The number of constraints is 10, but rank is 7\n",
      "  warnings.warn('covariance of constraints does not have full '\n",
      "/Users/oost464/opt/anaconda3/envs/pyciems310/lib/python3.10/site-packages/statsmodels/base/model.py:1896: ValueWarning: covariance of constraints does not have full rank. The number of constraints is 10, but rank is 7\n",
      "  warnings.warn('covariance of constraints does not have full '\n",
      "/Users/oost464/opt/anaconda3/envs/pyciems310/lib/python3.10/site-packages/statsmodels/base/model.py:1896: ValueWarning: covariance of constraints does not have full rank. The number of constraints is 10, but rank is 7\n",
      "  warnings.warn('covariance of constraints does not have full '\n",
      "/Users/oost464/opt/anaconda3/envs/pyciems310/lib/python3.10/site-packages/statsmodels/base/model.py:1896: ValueWarning: covariance of constraints does not have full rank. The number of constraints is 10, but rank is 7\n",
      "  warnings.warn('covariance of constraints does not have full '\n",
      "/Users/oost464/opt/anaconda3/envs/pyciems310/lib/python3.10/site-packages/statsmodels/base/model.py:1896: ValueWarning: covariance of constraints does not have full rank. The number of constraints is 10, but rank is 7\n",
      "  warnings.warn('covariance of constraints does not have full '\n",
      "/Users/oost464/opt/anaconda3/envs/pyciems310/lib/python3.10/site-packages/statsmodels/base/model.py:1896: ValueWarning: covariance of constraints does not have full rank. The number of constraints is 10, but rank is 7\n",
      "  warnings.warn('covariance of constraints does not have full '\n",
      "/Users/oost464/opt/anaconda3/envs/pyciems310/lib/python3.10/site-packages/statsmodels/base/model.py:1896: ValueWarning: covariance of constraints does not have full rank. The number of constraints is 10, but rank is 8\n",
      "  warnings.warn('covariance of constraints does not have full '\n",
      "/Users/oost464/opt/anaconda3/envs/pyciems310/lib/python3.10/site-packages/statsmodels/base/model.py:1896: ValueWarning: covariance of constraints does not have full rank. The number of constraints is 10, but rank is 7\n",
      "  warnings.warn('covariance of constraints does not have full '\n",
      "/Users/oost464/opt/anaconda3/envs/pyciems310/lib/python3.10/site-packages/statsmodels/base/model.py:1896: ValueWarning: covariance of constraints does not have full rank. The number of constraints is 10, but rank is 7\n",
      "  warnings.warn('covariance of constraints does not have full '\n",
      "/Users/oost464/opt/anaconda3/envs/pyciems310/lib/python3.10/site-packages/statsmodels/base/model.py:1896: ValueWarning: covariance of constraints does not have full rank. The number of constraints is 10, but rank is 7\n",
      "  warnings.warn('covariance of constraints does not have full '\n",
      "/Users/oost464/opt/anaconda3/envs/pyciems310/lib/python3.10/site-packages/statsmodels/base/model.py:1896: ValueWarning: covariance of constraints does not have full rank. The number of constraints is 10, but rank is 7\n",
      "  warnings.warn('covariance of constraints does not have full '\n",
      "/Users/oost464/opt/anaconda3/envs/pyciems310/lib/python3.10/site-packages/statsmodels/base/model.py:1896: ValueWarning: covariance of constraints does not have full rank. The number of constraints is 10, but rank is 6\n",
      "  warnings.warn('covariance of constraints does not have full '\n",
      "/Users/oost464/opt/anaconda3/envs/pyciems310/lib/python3.10/site-packages/statsmodels/base/model.py:1896: ValueWarning: covariance of constraints does not have full rank. The number of constraints is 10, but rank is 7\n",
      "  warnings.warn('covariance of constraints does not have full '\n",
      "/Users/oost464/opt/anaconda3/envs/pyciems310/lib/python3.10/site-packages/statsmodels/base/model.py:1896: ValueWarning: covariance of constraints does not have full rank. The number of constraints is 10, but rank is 6\n",
      "  warnings.warn('covariance of constraints does not have full '\n",
      "/Users/oost464/opt/anaconda3/envs/pyciems310/lib/python3.10/site-packages/statsmodels/base/model.py:1896: ValueWarning: covariance of constraints does not have full rank. The number of constraints is 10, but rank is 6\n",
      "  warnings.warn('covariance of constraints does not have full '\n",
      "/Users/oost464/opt/anaconda3/envs/pyciems310/lib/python3.10/site-packages/statsmodels/base/model.py:1896: ValueWarning: covariance of constraints does not have full rank. The number of constraints is 10, but rank is 6\n",
      "  warnings.warn('covariance of constraints does not have full '\n",
      "/Users/oost464/opt/anaconda3/envs/pyciems310/lib/python3.10/site-packages/statsmodels/base/model.py:1896: ValueWarning: covariance of constraints does not have full rank. The number of constraints is 10, but rank is 6\n",
      "  warnings.warn('covariance of constraints does not have full '\n",
      "/Users/oost464/opt/anaconda3/envs/pyciems310/lib/python3.10/site-packages/statsmodels/base/model.py:1896: ValueWarning: covariance of constraints does not have full rank. The number of constraints is 10, but rank is 7\n",
      "  warnings.warn('covariance of constraints does not have full '\n",
      "/Users/oost464/opt/anaconda3/envs/pyciems310/lib/python3.10/site-packages/statsmodels/base/model.py:1896: ValueWarning: covariance of constraints does not have full rank. The number of constraints is 10, but rank is 6\n",
      "  warnings.warn('covariance of constraints does not have full '\n",
      "/Users/oost464/opt/anaconda3/envs/pyciems310/lib/python3.10/site-packages/statsmodels/base/model.py:1896: ValueWarning: covariance of constraints does not have full rank. The number of constraints is 10, but rank is 7\n",
      "  warnings.warn('covariance of constraints does not have full '\n",
      "/Users/oost464/opt/anaconda3/envs/pyciems310/lib/python3.10/site-packages/statsmodels/base/model.py:1896: ValueWarning: covariance of constraints does not have full rank. The number of constraints is 10, but rank is 6\n",
      "  warnings.warn('covariance of constraints does not have full '\n",
      "/Users/oost464/opt/anaconda3/envs/pyciems310/lib/python3.10/site-packages/statsmodels/base/model.py:1896: ValueWarning: covariance of constraints does not have full rank. The number of constraints is 10, but rank is 6\n",
      "  warnings.warn('covariance of constraints does not have full '\n",
      "/Users/oost464/opt/anaconda3/envs/pyciems310/lib/python3.10/site-packages/statsmodels/base/model.py:1896: ValueWarning: covariance of constraints does not have full rank. The number of constraints is 10, but rank is 6\n",
      "  warnings.warn('covariance of constraints does not have full '\n",
      "/Users/oost464/opt/anaconda3/envs/pyciems310/lib/python3.10/site-packages/statsmodels/base/model.py:1896: ValueWarning: covariance of constraints does not have full rank. The number of constraints is 10, but rank is 6\n",
      "  warnings.warn('covariance of constraints does not have full '\n",
      "/Users/oost464/opt/anaconda3/envs/pyciems310/lib/python3.10/site-packages/statsmodels/base/model.py:1896: ValueWarning: covariance of constraints does not have full rank. The number of constraints is 10, but rank is 7\n",
      "  warnings.warn('covariance of constraints does not have full '\n",
      "/Users/oost464/opt/anaconda3/envs/pyciems310/lib/python3.10/site-packages/statsmodels/base/model.py:1896: ValueWarning: covariance of constraints does not have full rank. The number of constraints is 10, but rank is 7\n",
      "  warnings.warn('covariance of constraints does not have full '\n",
      "/Users/oost464/opt/anaconda3/envs/pyciems310/lib/python3.10/site-packages/statsmodels/base/model.py:1896: ValueWarning: covariance of constraints does not have full rank. The number of constraints is 10, but rank is 6\n",
      "  warnings.warn('covariance of constraints does not have full '\n",
      "/Users/oost464/opt/anaconda3/envs/pyciems310/lib/python3.10/site-packages/statsmodels/base/model.py:1896: ValueWarning: covariance of constraints does not have full rank. The number of constraints is 10, but rank is 6\n",
      "  warnings.warn('covariance of constraints does not have full '\n",
      "/Users/oost464/opt/anaconda3/envs/pyciems310/lib/python3.10/site-packages/statsmodels/base/model.py:1896: ValueWarning: covariance of constraints does not have full rank. The number of constraints is 10, but rank is 6\n",
      "  warnings.warn('covariance of constraints does not have full '\n",
      "/Users/oost464/opt/anaconda3/envs/pyciems310/lib/python3.10/site-packages/statsmodels/base/model.py:1896: ValueWarning: covariance of constraints does not have full rank. The number of constraints is 10, but rank is 6\n",
      "  warnings.warn('covariance of constraints does not have full '\n",
      "/Users/oost464/opt/anaconda3/envs/pyciems310/lib/python3.10/site-packages/statsmodels/base/model.py:1896: ValueWarning: covariance of constraints does not have full rank. The number of constraints is 10, but rank is 6\n",
      "  warnings.warn('covariance of constraints does not have full '\n",
      "/Users/oost464/opt/anaconda3/envs/pyciems310/lib/python3.10/site-packages/statsmodels/base/model.py:1896: ValueWarning: covariance of constraints does not have full rank. The number of constraints is 10, but rank is 6\n",
      "  warnings.warn('covariance of constraints does not have full '\n"
     ]
    },
    {
     "name": "stdout",
     "output_type": "stream",
     "text": [
      "\n",
      "Granger Causality\n",
      "number of lags (no zero) 10\n",
      "ssr based F test:         F=-7.2000 , p=1.0000  , df_denom=72, df_num=10\n",
      "ssr based chi2 test:   chi2=-90.0000, p=1.0000  , df=10\n",
      "likelihood ratio test: chi2=-1604.9625, p=1.0000  , df=10\n",
      "parameter F test:         F=0.0009  , p=1.0000  , df_denom=72, df_num=6\n",
      "\n",
      "Granger Causality\n",
      "number of lags (no zero) 10\n",
      "ssr based F test:         F=-7.2000 , p=1.0000  , df_denom=72, df_num=10\n",
      "ssr based chi2 test:   chi2=-90.0000, p=1.0000  , df=10\n",
      "likelihood ratio test: chi2=-2177.5815, p=1.0000  , df=10\n",
      "parameter F test:         F=0.0000  , p=1.0000  , df_denom=72, df_num=6\n",
      "\n",
      "Granger Causality\n",
      "number of lags (no zero) 10\n",
      "ssr based F test:         F=-7.1000 , p=1.0000  , df_denom=71, df_num=10\n",
      "ssr based chi2 test:   chi2=-90.0000, p=1.0000  , df=10\n",
      "likelihood ratio test: chi2=-1710.3205, p=1.0000  , df=10\n",
      "parameter F test:         F=0.0000  , p=1.0000  , df_denom=71, df_num=6\n",
      "\n",
      "Granger Causality\n",
      "number of lags (no zero) 10\n",
      "ssr based F test:         F=-7.2000 , p=1.0000  , df_denom=72, df_num=10\n",
      "ssr based chi2 test:   chi2=-90.0000, p=1.0000  , df=10\n",
      "likelihood ratio test: chi2=-1596.3989, p=1.0000  , df=10\n",
      "parameter F test:         F=0.0012  , p=1.0000  , df_denom=72, df_num=6\n",
      "\n",
      "Granger Causality\n",
      "number of lags (no zero) 10\n",
      "ssr based F test:         F=-7.2000 , p=1.0000  , df_denom=72, df_num=10\n",
      "ssr based chi2 test:   chi2=-90.0000, p=1.0000  , df=10\n",
      "likelihood ratio test: chi2=-2184.6378, p=1.0000  , df=10\n",
      "parameter F test:         F=0.0000  , p=1.0000  , df_denom=72, df_num=6\n",
      "\n",
      "Granger Causality\n",
      "number of lags (no zero) 10\n",
      "ssr based F test:         F=-7.1000 , p=1.0000  , df_denom=71, df_num=10\n",
      "ssr based chi2 test:   chi2=-90.0000, p=1.0000  , df=10\n",
      "likelihood ratio test: chi2=-1627.2233, p=1.0000  , df=10\n",
      "parameter F test:         F=0.0000  , p=1.0000  , df_denom=71, df_num=6\n",
      "\n",
      "Granger Causality\n",
      "number of lags (no zero) 10\n",
      "ssr based F test:         F=-7.2000 , p=1.0000  , df_denom=72, df_num=10\n",
      "ssr based chi2 test:   chi2=-90.0000, p=1.0000  , df=10\n",
      "likelihood ratio test: chi2=-2028.0322, p=1.0000  , df=10\n",
      "parameter F test:         F=0.0000  , p=1.0000  , df_denom=72, df_num=6\n",
      "\n",
      "Granger Causality\n",
      "number of lags (no zero) 10\n",
      "ssr based F test:         F=-7.2000 , p=1.0000  , df_denom=72, df_num=10\n",
      "ssr based chi2 test:   chi2=-90.0000, p=1.0000  , df=10\n",
      "likelihood ratio test: chi2=-2179.9399, p=1.0000  , df=10\n",
      "parameter F test:         F=0.0000  , p=1.0000  , df_denom=72, df_num=6\n",
      "\n",
      "Granger Causality\n",
      "number of lags (no zero) 10\n",
      "ssr based F test:         F=-7.1000 , p=1.0000  , df_denom=71, df_num=10\n",
      "ssr based chi2 test:   chi2=-90.0000, p=1.0000  , df=10\n",
      "likelihood ratio test: chi2=-1807.0336, p=1.0000  , df=10\n",
      "parameter F test:         F=0.0000  , p=1.0000  , df_denom=71, df_num=6\n",
      "\n",
      "Granger Causality\n",
      "number of lags (no zero) 10\n",
      "ssr based F test:         F=-7.1000 , p=1.0000  , df_denom=71, df_num=10\n",
      "ssr based chi2 test:   chi2=-90.0000, p=1.0000  , df=10\n",
      "likelihood ratio test: chi2=-1944.3539, p=1.0000  , df=10\n",
      "parameter F test:         F=0.0000  , p=1.0000  , df_denom=71, df_num=6\n",
      "\n",
      "Granger Causality\n",
      "number of lags (no zero) 10\n",
      "ssr based F test:         F=-7.2000 , p=1.0000  , df_denom=72, df_num=10\n",
      "ssr based chi2 test:   chi2=-90.0000, p=1.0000  , df=10\n",
      "likelihood ratio test: chi2=-2196.2466, p=1.0000  , df=10\n",
      "parameter F test:         F=0.0000  , p=1.0000  , df_denom=72, df_num=6\n",
      "\n",
      "Granger Causality\n",
      "number of lags (no zero) 10\n",
      "ssr based F test:         F=-7.1000 , p=1.0000  , df_denom=71, df_num=10\n",
      "ssr based chi2 test:   chi2=-90.0000, p=1.0000  , df=10\n",
      "likelihood ratio test: chi2=-1959.2451, p=1.0000  , df=10\n",
      "parameter F test:         F=0.0000  , p=1.0000  , df_denom=71, df_num=6\n",
      "\n",
      "Granger Causality\n",
      "number of lags (no zero) 10\n",
      "ssr based F test:         F=-7.2000 , p=1.0000  , df_denom=72, df_num=10\n",
      "ssr based chi2 test:   chi2=-90.0000, p=1.0000  , df=10\n",
      "likelihood ratio test: chi2=-1461.3915, p=1.0000  , df=10\n",
      "parameter F test:         F=0.0051  , p=1.0000  , df_denom=72, df_num=6\n",
      "\n",
      "Granger Causality\n",
      "number of lags (no zero) 10\n",
      "ssr based F test:         F=-7.2000 , p=1.0000  , df_denom=72, df_num=10\n",
      "ssr based chi2 test:   chi2=-90.0000, p=1.0000  , df=10\n",
      "likelihood ratio test: chi2=-1456.0538, p=1.0000  , df=10\n",
      "parameter F test:         F=0.0054  , p=1.0000  , df_denom=72, df_num=6\n",
      "\n",
      "Granger Causality\n",
      "number of lags (no zero) 10\n",
      "ssr based F test:         F=-7.2000 , p=1.0000  , df_denom=72, df_num=10\n",
      "ssr based chi2 test:   chi2=-90.0000, p=1.0000  , df=10\n",
      "likelihood ratio test: chi2=-1586.0921, p=1.0000  , df=10\n",
      "parameter F test:         F=0.0013  , p=1.0000  , df_denom=72, df_num=6\n",
      "\n",
      "Granger Causality\n",
      "number of lags (no zero) 10\n",
      "ssr based F test:         F=-7.2000 , p=1.0000  , df_denom=72, df_num=10\n",
      "ssr based chi2 test:   chi2=-90.0000, p=1.0000  , df=10\n",
      "likelihood ratio test: chi2=-2287.8497, p=1.0000  , df=10\n",
      "parameter F test:         F=0.0000  , p=1.0000  , df_denom=72, df_num=6\n",
      "\n",
      "Granger Causality\n",
      "number of lags (no zero) 10\n",
      "ssr based F test:         F=-7.2000 , p=1.0000  , df_denom=72, df_num=10\n",
      "ssr based chi2 test:   chi2=-90.0000, p=1.0000  , df=10\n",
      "likelihood ratio test: chi2=-1705.8975, p=1.0000  , df=10\n",
      "parameter F test:         F=0.0003  , p=1.0000  , df_denom=72, df_num=6\n",
      "\n",
      "Granger Causality\n",
      "number of lags (no zero) 10\n",
      "ssr based F test:         F=-7.2000 , p=1.0000  , df_denom=72, df_num=10\n",
      "ssr based chi2 test:   chi2=-90.0000, p=1.0000  , df=10\n",
      "likelihood ratio test: chi2=-1561.1109, p=1.0000  , df=10\n",
      "parameter F test:         F=0.0017  , p=1.0000  , df_denom=72, df_num=6\n",
      "\n",
      "Granger Causality\n",
      "number of lags (no zero) 10\n",
      "ssr based F test:         F=-7.2000 , p=1.0000  , df_denom=72, df_num=10\n",
      "ssr based chi2 test:   chi2=-90.0000, p=1.0000  , df=10\n",
      "likelihood ratio test: chi2=-1585.7969, p=1.0000  , df=10\n",
      "parameter F test:         F=0.0013  , p=1.0000  , df_denom=72, df_num=6\n",
      "\n",
      "Granger Causality\n",
      "number of lags (no zero) 10\n",
      "ssr based F test:         F=-7.2000 , p=1.0000  , df_denom=72, df_num=10\n",
      "ssr based chi2 test:   chi2=-90.0000, p=1.0000  , df=10\n",
      "likelihood ratio test: chi2=-1907.2136, p=1.0000  , df=10\n",
      "parameter F test:         F=0.0000  , p=1.0000  , df_denom=72, df_num=6\n",
      "\n",
      "Granger Causality\n",
      "number of lags (no zero) 10\n",
      "ssr based F test:         F=-7.2000 , p=1.0000  , df_denom=72, df_num=10\n",
      "ssr based chi2 test:   chi2=-90.0000, p=1.0000  , df=10\n",
      "likelihood ratio test: chi2=-1804.3383, p=1.0000  , df=10\n",
      "parameter F test:         F=0.0001  , p=1.0000  , df_denom=72, df_num=6\n",
      "\n",
      "Granger Causality\n",
      "number of lags (no zero) 10\n",
      "ssr based F test:         F=-7.2000 , p=1.0000  , df_denom=72, df_num=10\n",
      "ssr based chi2 test:   chi2=-90.0000, p=1.0000  , df=10\n",
      "likelihood ratio test: chi2=-1918.2362, p=1.0000  , df=10\n",
      "parameter F test:         F=0.0000  , p=1.0000  , df_denom=72, df_num=6\n",
      "\n",
      "Granger Causality\n",
      "number of lags (no zero) 10\n",
      "ssr based F test:         F=-7.2000 , p=1.0000  , df_denom=72, df_num=10\n",
      "ssr based chi2 test:   chi2=-90.0000, p=1.0000  , df=10\n",
      "likelihood ratio test: chi2=-2186.2589, p=1.0000  , df=10\n",
      "parameter F test:         F=0.0000  , p=1.0000  , df_denom=72, df_num=6\n",
      "\n",
      "Granger Causality\n",
      "number of lags (no zero) 10\n",
      "ssr based F test:         F=-7.2000 , p=1.0000  , df_denom=72, df_num=10\n",
      "ssr based chi2 test:   chi2=-90.0000, p=1.0000  , df=10\n",
      "likelihood ratio test: chi2=-1657.8414, p=1.0000  , df=10\n",
      "parameter F test:         F=0.0006  , p=1.0000  , df_denom=72, df_num=6\n",
      "\n",
      "Granger Causality\n",
      "number of lags (no zero) 10\n",
      "ssr based F test:         F=-7.2000 , p=1.0000  , df_denom=72, df_num=10\n",
      "ssr based chi2 test:   chi2=-90.0000, p=1.0000  , df=10\n",
      "likelihood ratio test: chi2=-1880.3312, p=1.0000  , df=10\n",
      "parameter F test:         F=0.0001  , p=1.0000  , df_denom=72, df_num=6\n",
      "\n",
      "Granger Causality\n",
      "number of lags (no zero) 10\n",
      "ssr based F test:         F=-7.2000 , p=1.0000  , df_denom=72, df_num=10\n",
      "ssr based chi2 test:   chi2=-90.0000, p=1.0000  , df=10\n",
      "likelihood ratio test: chi2=-2388.6508, p=1.0000  , df=10\n",
      "parameter F test:         F=0.0000  , p=1.0000  , df_denom=72, df_num=6\n",
      "\n",
      "Granger Causality\n",
      "number of lags (no zero) 10\n",
      "ssr based F test:         F=-7.2000 , p=1.0000  , df_denom=72, df_num=10\n",
      "ssr based chi2 test:   chi2=-90.0000, p=1.0000  , df=10\n",
      "likelihood ratio test: chi2=-1545.2030, p=1.0000  , df=10\n",
      "parameter F test:         F=0.0020  , p=1.0000  , df_denom=72, df_num=6\n",
      "\n",
      "Granger Causality\n",
      "number of lags (no zero) 10\n",
      "ssr based F test:         F=-7.2000 , p=1.0000  , df_denom=72, df_num=10\n",
      "ssr based chi2 test:   chi2=-90.0000, p=1.0000  , df=10\n",
      "likelihood ratio test: chi2=-1705.6046, p=1.0000  , df=10\n",
      "parameter F test:         F=0.0004  , p=1.0000  , df_denom=72, df_num=6\n",
      "\n",
      "Granger Causality\n",
      "number of lags (no zero) 10\n",
      "ssr based F test:         F=-7.2000 , p=1.0000  , df_denom=72, df_num=10\n",
      "ssr based chi2 test:   chi2=-90.0000, p=1.0000  , df=10\n",
      "likelihood ratio test: chi2=-2038.8866, p=1.0000  , df=10\n",
      "parameter F test:         F=0.0000  , p=1.0000  , df_denom=72, df_num=6\n",
      "\n",
      "Granger Causality\n",
      "number of lags (no zero) 10\n",
      "ssr based F test:         F=-7.2000 , p=1.0000  , df_denom=72, df_num=10\n",
      "ssr based chi2 test:   chi2=-90.0000, p=1.0000  , df=10\n",
      "likelihood ratio test: chi2=-1900.0080, p=1.0000  , df=10\n",
      "parameter F test:         F=0.0000  , p=1.0000  , df_denom=72, df_num=6\n",
      "\n",
      "Granger Causality\n",
      "number of lags (no zero) 10\n",
      "ssr based F test:         F=-7.2000 , p=1.0000  , df_denom=72, df_num=10\n",
      "ssr based chi2 test:   chi2=-90.0000, p=1.0000  , df=10\n",
      "likelihood ratio test: chi2=-2300.4559, p=1.0000  , df=10\n",
      "parameter F test:         F=0.0000  , p=1.0000  , df_denom=72, df_num=6\n",
      "\n",
      "Granger Causality\n",
      "number of lags (no zero) 10\n",
      "ssr based F test:         F=-7.2000 , p=1.0000  , df_denom=72, df_num=10\n",
      "ssr based chi2 test:   chi2=-90.0000, p=1.0000  , df=10\n",
      "likelihood ratio test: chi2=-1806.9998, p=1.0000  , df=10\n",
      "parameter F test:         F=0.0001  , p=1.0000  , df_denom=72, df_num=6\n",
      "\n",
      "Granger Causality\n",
      "number of lags (no zero) 10\n",
      "ssr based F test:         F=-7.2000 , p=1.0000  , df_denom=72, df_num=10\n",
      "ssr based chi2 test:   chi2=-90.0000, p=1.0000  , df=10\n",
      "likelihood ratio test: chi2=-1742.4645, p=1.0000  , df=10\n",
      "parameter F test:         F=0.0002  , p=1.0000  , df_denom=72, df_num=6\n",
      "\n",
      "Granger Causality\n",
      "number of lags (no zero) 10\n",
      "ssr based F test:         F=-7.2000 , p=1.0000  , df_denom=72, df_num=10\n",
      "ssr based chi2 test:   chi2=-90.0000, p=1.0000  , df=10\n",
      "likelihood ratio test: chi2=-1668.7351, p=1.0000  , df=10\n",
      "parameter F test:         F=0.0005  , p=1.0000  , df_denom=72, df_num=6\n",
      "\n",
      "Granger Causality\n",
      "number of lags (no zero) 10\n",
      "ssr based F test:         F=-7.2000 , p=1.0000  , df_denom=72, df_num=10\n",
      "ssr based chi2 test:   chi2=-90.0000, p=1.0000  , df=10\n",
      "likelihood ratio test: chi2=-2185.6268, p=1.0000  , df=10\n",
      "parameter F test:         F=0.0000  , p=1.0000  , df_denom=72, df_num=6\n",
      "\n",
      "Granger Causality\n",
      "number of lags (no zero) 10\n",
      "ssr based F test:         F=-7.2000 , p=1.0000  , df_denom=72, df_num=10\n",
      "ssr based chi2 test:   chi2=-90.0000, p=1.0000  , df=10\n",
      "likelihood ratio test: chi2=-1685.2136, p=1.0000  , df=10\n",
      "parameter F test:         F=0.0004  , p=1.0000  , df_denom=72, df_num=6\n",
      "\n",
      "Granger Causality\n",
      "number of lags (no zero) 10\n",
      "ssr based F test:         F=-7.2000 , p=1.0000  , df_denom=72, df_num=10\n",
      "ssr based chi2 test:   chi2=-90.0000, p=1.0000  , df=10\n",
      "likelihood ratio test: chi2=-1804.1502, p=1.0000  , df=10\n",
      "parameter F test:         F=0.0001  , p=1.0000  , df_denom=72, df_num=6\n",
      "\n",
      "Granger Causality\n",
      "number of lags (no zero) 10\n",
      "ssr based F test:         F=-7.2000 , p=1.0000  , df_denom=72, df_num=10\n",
      "ssr based chi2 test:   chi2=-90.0000, p=1.0000  , df=10\n",
      "likelihood ratio test: chi2=-1865.8696, p=1.0000  , df=10\n",
      "parameter F test:         F=0.0001  , p=1.0000  , df_denom=72, df_num=6\n",
      "\n",
      "Granger Causality\n",
      "number of lags (no zero) 10\n",
      "ssr based F test:         F=-7.2000 , p=1.0000  , df_denom=72, df_num=10\n",
      "ssr based chi2 test:   chi2=-90.0000, p=1.0000  , df=10\n",
      "likelihood ratio test: chi2=-2156.4250, p=1.0000  , df=10\n",
      "parameter F test:         F=0.0000  , p=1.0000  , df_denom=72, df_num=6\n",
      "\n",
      "Granger Causality\n",
      "number of lags (no zero) 10\n",
      "ssr based F test:         F=-7.2000 , p=1.0000  , df_denom=72, df_num=10\n",
      "ssr based chi2 test:   chi2=-90.0000, p=1.0000  , df=10\n",
      "likelihood ratio test: chi2=-2352.7378, p=1.0000  , df=10\n",
      "parameter F test:         F=0.0000  , p=1.0000  , df_denom=72, df_num=6\n",
      "\n",
      "Granger Causality\n",
      "number of lags (no zero) 10\n",
      "ssr based F test:         F=-7.2000 , p=1.0000  , df_denom=72, df_num=10\n",
      "ssr based chi2 test:   chi2=-90.0000, p=1.0000  , df=10\n",
      "likelihood ratio test: chi2=-1785.0285, p=1.0000  , df=10\n",
      "parameter F test:         F=0.0001  , p=1.0000  , df_denom=72, df_num=6\n",
      "\n",
      "Granger Causality\n",
      "number of lags (no zero) 10\n",
      "ssr based F test:         F=-7.2000 , p=1.0000  , df_denom=72, df_num=10\n",
      "ssr based chi2 test:   chi2=-90.0000, p=1.0000  , df=10\n",
      "likelihood ratio test: chi2=-2007.4973, p=1.0000  , df=10\n",
      "parameter F test:         F=0.0000  , p=1.0000  , df_denom=72, df_num=6\n",
      "\n",
      "Granger Causality\n",
      "number of lags (no zero) 10\n",
      "ssr based F test:         F=-7.2000 , p=1.0000  , df_denom=72, df_num=10\n",
      "ssr based chi2 test:   chi2=-90.0000, p=1.0000  , df=10\n",
      "likelihood ratio test: chi2=-2128.4049, p=1.0000  , df=10\n",
      "parameter F test:         F=0.0000  , p=1.0000  , df_denom=72, df_num=6\n",
      "\n",
      "Granger Causality\n",
      "number of lags (no zero) 10\n",
      "ssr based F test:         F=-7.2000 , p=1.0000  , df_denom=72, df_num=10\n",
      "ssr based chi2 test:   chi2=-90.0000, p=1.0000  , df=10\n",
      "likelihood ratio test: chi2=-1565.4644, p=1.0000  , df=10\n",
      "parameter F test:         F=0.0016  , p=1.0000  , df_denom=72, df_num=6\n",
      "\n",
      "Granger Causality\n",
      "number of lags (no zero) 10\n",
      "ssr based F test:         F=-7.2000 , p=1.0000  , df_denom=72, df_num=10\n",
      "ssr based chi2 test:   chi2=-90.0000, p=1.0000  , df=10\n",
      "likelihood ratio test: chi2=-2214.9141, p=1.0000  , df=10\n",
      "parameter F test:         F=0.0000  , p=1.0000  , df_denom=72, df_num=6\n",
      "\n",
      "Granger Causality\n",
      "number of lags (no zero) 10\n",
      "ssr based F test:         F=-7.2000 , p=1.0000  , df_denom=72, df_num=10\n",
      "ssr based chi2 test:   chi2=-90.0000, p=1.0000  , df=10\n",
      "likelihood ratio test: chi2=-1868.1574, p=1.0000  , df=10\n",
      "parameter F test:         F=0.0000  , p=1.0000  , df_denom=72, df_num=6\n",
      "\n",
      "Granger Causality\n",
      "number of lags (no zero) 10\n",
      "ssr based F test:         F=-7.2000 , p=1.0000  , df_denom=72, df_num=10\n",
      "ssr based chi2 test:   chi2=-90.0000, p=1.0000  , df=10\n",
      "likelihood ratio test: chi2=-1871.5233, p=1.0000  , df=10\n",
      "parameter F test:         F=0.0001  , p=1.0000  , df_denom=72, df_num=6\n",
      "\n",
      "Granger Causality\n",
      "number of lags (no zero) 10\n",
      "ssr based F test:         F=-7.2000 , p=1.0000  , df_denom=72, df_num=10\n",
      "ssr based chi2 test:   chi2=-90.0000, p=1.0000  , df=10\n",
      "likelihood ratio test: chi2=-1674.2727, p=1.0000  , df=10\n",
      "parameter F test:         F=0.0005  , p=1.0000  , df_denom=72, df_num=6\n",
      "\n",
      "Granger Causality\n",
      "number of lags (no zero) 10\n",
      "ssr based F test:         F=-7.2000 , p=1.0000  , df_denom=72, df_num=10\n",
      "ssr based chi2 test:   chi2=-90.0000, p=1.0000  , df=10\n",
      "likelihood ratio test: chi2=-2134.3998, p=1.0000  , df=10\n",
      "parameter F test:         F=0.0000  , p=1.0000  , df_denom=72, df_num=6\n",
      "\n",
      "Granger Causality\n",
      "number of lags (no zero) 10\n",
      "ssr based F test:         F=-7.2000 , p=1.0000  , df_denom=72, df_num=10\n",
      "ssr based chi2 test:   chi2=-90.0000, p=1.0000  , df=10\n",
      "likelihood ratio test: chi2=-1931.9194, p=1.0000  , df=10\n",
      "parameter F test:         F=0.0000  , p=1.0000  , df_denom=72, df_num=6\n",
      "\n",
      "Granger Causality\n",
      "number of lags (no zero) 10\n",
      "ssr based F test:         F=-7.2000 , p=1.0000  , df_denom=72, df_num=10\n",
      "ssr based chi2 test:   chi2=-90.0000, p=1.0000  , df=10\n",
      "likelihood ratio test: chi2=-2293.5925, p=1.0000  , df=10\n",
      "parameter F test:         F=0.0000  , p=1.0000  , df_denom=72, df_num=6\n",
      "\n",
      "Granger Causality\n",
      "number of lags (no zero) 10\n",
      "ssr based F test:         F=-7.2000 , p=1.0000  , df_denom=72, df_num=10\n",
      "ssr based chi2 test:   chi2=-90.0000, p=1.0000  , df=10\n",
      "likelihood ratio test: chi2=-1783.4204, p=1.0000  , df=10\n",
      "parameter F test:         F=0.0001  , p=1.0000  , df_denom=72, df_num=6\n",
      "\n",
      "Granger Causality\n",
      "number of lags (no zero) 10\n",
      "ssr based F test:         F=-7.2000 , p=1.0000  , df_denom=72, df_num=10\n",
      "ssr based chi2 test:   chi2=-90.0000, p=1.0000  , df=10\n",
      "likelihood ratio test: chi2=-2298.6152, p=1.0000  , df=10\n",
      "parameter F test:         F=0.0000  , p=1.0000  , df_denom=72, df_num=6\n",
      "\n",
      "Granger Causality\n",
      "number of lags (no zero) 10\n",
      "ssr based F test:         F=-7.2000 , p=1.0000  , df_denom=72, df_num=10\n",
      "ssr based chi2 test:   chi2=-90.0000, p=1.0000  , df=10\n",
      "likelihood ratio test: chi2=-1927.1682, p=1.0000  , df=10\n",
      "parameter F test:         F=0.0000  , p=1.0000  , df_denom=72, df_num=6\n",
      "\n",
      "Granger Causality\n",
      "number of lags (no zero) 10\n",
      "ssr based F test:         F=-7.2000 , p=1.0000  , df_denom=72, df_num=10\n",
      "ssr based chi2 test:   chi2=-90.0000, p=1.0000  , df=10\n",
      "likelihood ratio test: chi2=-2029.1276, p=1.0000  , df=10\n",
      "parameter F test:         F=0.0000  , p=1.0000  , df_denom=72, df_num=6\n",
      "\n",
      "Granger Causality\n",
      "number of lags (no zero) 10\n",
      "ssr based F test:         F=-7.2000 , p=1.0000  , df_denom=72, df_num=10\n",
      "ssr based chi2 test:   chi2=-90.0000, p=1.0000  , df=10\n",
      "likelihood ratio test: chi2=-1659.2282, p=1.0000  , df=10\n",
      "parameter F test:         F=0.0006  , p=1.0000  , df_denom=72, df_num=6\n",
      "\n",
      "Granger Causality\n",
      "number of lags (no zero) 10\n",
      "ssr based F test:         F=-7.2000 , p=1.0000  , df_denom=72, df_num=10\n",
      "ssr based chi2 test:   chi2=-90.0000, p=1.0000  , df=10\n",
      "likelihood ratio test: chi2=-1635.8571, p=1.0000  , df=10\n",
      "parameter F test:         F=0.0007  , p=1.0000  , df_denom=72, df_num=6\n",
      "\n",
      "Granger Causality\n",
      "number of lags (no zero) 10\n",
      "ssr based F test:         F=-7.2000 , p=1.0000  , df_denom=72, df_num=10\n",
      "ssr based chi2 test:   chi2=-90.0000, p=1.0000  , df=10\n",
      "likelihood ratio test: chi2=-1609.7170, p=1.0000  , df=10\n",
      "parameter F test:         F=0.0010  , p=1.0000  , df_denom=72, df_num=6\n",
      "\n",
      "Granger Causality\n",
      "number of lags (no zero) 10\n",
      "ssr based F test:         F=-7.2000 , p=1.0000  , df_denom=72, df_num=10\n",
      "ssr based chi2 test:   chi2=-90.0000, p=1.0000  , df=10\n",
      "likelihood ratio test: chi2=-2030.9072, p=1.0000  , df=10\n",
      "parameter F test:         F=0.0000  , p=1.0000  , df_denom=72, df_num=6\n",
      "\n",
      "Granger Causality\n",
      "number of lags (no zero) 10\n",
      "ssr based F test:         F=-7.2000 , p=1.0000  , df_denom=72, df_num=10\n",
      "ssr based chi2 test:   chi2=-90.0000, p=1.0000  , df=10\n",
      "likelihood ratio test: chi2=-2437.6621, p=1.0000  , df=10\n",
      "parameter F test:         F=0.0000  , p=1.0000  , df_denom=72, df_num=6\n",
      "\n",
      "Granger Causality\n",
      "number of lags (no zero) 10\n",
      "ssr based F test:         F=-7.2000 , p=1.0000  , df_denom=72, df_num=10\n",
      "ssr based chi2 test:   chi2=-90.0000, p=1.0000  , df=10\n",
      "likelihood ratio test: chi2=-1981.4175, p=1.0000  , df=10\n",
      "parameter F test:         F=0.0000  , p=1.0000  , df_denom=72, df_num=6\n",
      "\n",
      "Granger Causality\n",
      "number of lags (no zero) 10\n"
     ]
    },
    {
     "name": "stderr",
     "output_type": "stream",
     "text": [
      "/Users/oost464/opt/anaconda3/envs/pyciems310/lib/python3.10/site-packages/statsmodels/base/model.py:1896: ValueWarning: covariance of constraints does not have full rank. The number of constraints is 10, but rank is 6\n",
      "  warnings.warn('covariance of constraints does not have full '\n",
      "/Users/oost464/opt/anaconda3/envs/pyciems310/lib/python3.10/site-packages/statsmodels/base/model.py:1896: ValueWarning: covariance of constraints does not have full rank. The number of constraints is 10, but rank is 6\n",
      "  warnings.warn('covariance of constraints does not have full '\n",
      "/Users/oost464/opt/anaconda3/envs/pyciems310/lib/python3.10/site-packages/statsmodels/base/model.py:1896: ValueWarning: covariance of constraints does not have full rank. The number of constraints is 10, but rank is 6\n",
      "  warnings.warn('covariance of constraints does not have full '\n",
      "/Users/oost464/opt/anaconda3/envs/pyciems310/lib/python3.10/site-packages/statsmodels/base/model.py:1896: ValueWarning: covariance of constraints does not have full rank. The number of constraints is 10, but rank is 6\n",
      "  warnings.warn('covariance of constraints does not have full '\n",
      "/Users/oost464/opt/anaconda3/envs/pyciems310/lib/python3.10/site-packages/statsmodels/base/model.py:1896: ValueWarning: covariance of constraints does not have full rank. The number of constraints is 10, but rank is 6\n",
      "  warnings.warn('covariance of constraints does not have full '\n",
      "/Users/oost464/opt/anaconda3/envs/pyciems310/lib/python3.10/site-packages/statsmodels/base/model.py:1896: ValueWarning: covariance of constraints does not have full rank. The number of constraints is 10, but rank is 6\n",
      "  warnings.warn('covariance of constraints does not have full '\n",
      "/Users/oost464/opt/anaconda3/envs/pyciems310/lib/python3.10/site-packages/statsmodels/base/model.py:1896: ValueWarning: covariance of constraints does not have full rank. The number of constraints is 10, but rank is 6\n",
      "  warnings.warn('covariance of constraints does not have full '\n",
      "/Users/oost464/opt/anaconda3/envs/pyciems310/lib/python3.10/site-packages/statsmodels/base/model.py:1896: ValueWarning: covariance of constraints does not have full rank. The number of constraints is 10, but rank is 6\n",
      "  warnings.warn('covariance of constraints does not have full '\n",
      "/Users/oost464/opt/anaconda3/envs/pyciems310/lib/python3.10/site-packages/statsmodels/base/model.py:1896: ValueWarning: covariance of constraints does not have full rank. The number of constraints is 10, but rank is 6\n",
      "  warnings.warn('covariance of constraints does not have full '\n",
      "/Users/oost464/opt/anaconda3/envs/pyciems310/lib/python3.10/site-packages/statsmodels/base/model.py:1896: ValueWarning: covariance of constraints does not have full rank. The number of constraints is 10, but rank is 6\n",
      "  warnings.warn('covariance of constraints does not have full '\n",
      "/Users/oost464/opt/anaconda3/envs/pyciems310/lib/python3.10/site-packages/statsmodels/base/model.py:1896: ValueWarning: covariance of constraints does not have full rank. The number of constraints is 10, but rank is 6\n",
      "  warnings.warn('covariance of constraints does not have full '\n",
      "/Users/oost464/opt/anaconda3/envs/pyciems310/lib/python3.10/site-packages/statsmodels/base/model.py:1896: ValueWarning: covariance of constraints does not have full rank. The number of constraints is 10, but rank is 6\n",
      "  warnings.warn('covariance of constraints does not have full '\n",
      "/Users/oost464/opt/anaconda3/envs/pyciems310/lib/python3.10/site-packages/statsmodels/base/model.py:1896: ValueWarning: covariance of constraints does not have full rank. The number of constraints is 10, but rank is 6\n",
      "  warnings.warn('covariance of constraints does not have full '\n",
      "/Users/oost464/opt/anaconda3/envs/pyciems310/lib/python3.10/site-packages/statsmodels/base/model.py:1896: ValueWarning: covariance of constraints does not have full rank. The number of constraints is 10, but rank is 6\n",
      "  warnings.warn('covariance of constraints does not have full '\n",
      "/Users/oost464/opt/anaconda3/envs/pyciems310/lib/python3.10/site-packages/statsmodels/base/model.py:1896: ValueWarning: covariance of constraints does not have full rank. The number of constraints is 10, but rank is 6\n",
      "  warnings.warn('covariance of constraints does not have full '\n",
      "/Users/oost464/opt/anaconda3/envs/pyciems310/lib/python3.10/site-packages/statsmodels/base/model.py:1896: ValueWarning: covariance of constraints does not have full rank. The number of constraints is 10, but rank is 6\n",
      "  warnings.warn('covariance of constraints does not have full '\n",
      "/Users/oost464/opt/anaconda3/envs/pyciems310/lib/python3.10/site-packages/statsmodels/base/model.py:1896: ValueWarning: covariance of constraints does not have full rank. The number of constraints is 10, but rank is 6\n",
      "  warnings.warn('covariance of constraints does not have full '\n",
      "/Users/oost464/opt/anaconda3/envs/pyciems310/lib/python3.10/site-packages/statsmodels/base/model.py:1896: ValueWarning: covariance of constraints does not have full rank. The number of constraints is 10, but rank is 6\n",
      "  warnings.warn('covariance of constraints does not have full '\n",
      "/Users/oost464/opt/anaconda3/envs/pyciems310/lib/python3.10/site-packages/statsmodels/base/model.py:1896: ValueWarning: covariance of constraints does not have full rank. The number of constraints is 10, but rank is 6\n",
      "  warnings.warn('covariance of constraints does not have full '\n",
      "/Users/oost464/opt/anaconda3/envs/pyciems310/lib/python3.10/site-packages/statsmodels/base/model.py:1896: ValueWarning: covariance of constraints does not have full rank. The number of constraints is 10, but rank is 6\n",
      "  warnings.warn('covariance of constraints does not have full '\n",
      "/Users/oost464/opt/anaconda3/envs/pyciems310/lib/python3.10/site-packages/statsmodels/base/model.py:1896: ValueWarning: covariance of constraints does not have full rank. The number of constraints is 10, but rank is 6\n",
      "  warnings.warn('covariance of constraints does not have full '\n",
      "/Users/oost464/opt/anaconda3/envs/pyciems310/lib/python3.10/site-packages/statsmodels/base/model.py:1896: ValueWarning: covariance of constraints does not have full rank. The number of constraints is 10, but rank is 6\n",
      "  warnings.warn('covariance of constraints does not have full '\n",
      "/Users/oost464/opt/anaconda3/envs/pyciems310/lib/python3.10/site-packages/statsmodels/base/model.py:1896: ValueWarning: covariance of constraints does not have full rank. The number of constraints is 10, but rank is 6\n",
      "  warnings.warn('covariance of constraints does not have full '\n",
      "/Users/oost464/opt/anaconda3/envs/pyciems310/lib/python3.10/site-packages/statsmodels/base/model.py:1896: ValueWarning: covariance of constraints does not have full rank. The number of constraints is 10, but rank is 6\n",
      "  warnings.warn('covariance of constraints does not have full '\n",
      "/Users/oost464/opt/anaconda3/envs/pyciems310/lib/python3.10/site-packages/statsmodels/base/model.py:1896: ValueWarning: covariance of constraints does not have full rank. The number of constraints is 10, but rank is 6\n",
      "  warnings.warn('covariance of constraints does not have full '\n",
      "/Users/oost464/opt/anaconda3/envs/pyciems310/lib/python3.10/site-packages/statsmodels/base/model.py:1896: ValueWarning: covariance of constraints does not have full rank. The number of constraints is 10, but rank is 6\n",
      "  warnings.warn('covariance of constraints does not have full '\n",
      "/Users/oost464/opt/anaconda3/envs/pyciems310/lib/python3.10/site-packages/statsmodels/base/model.py:1896: ValueWarning: covariance of constraints does not have full rank. The number of constraints is 10, but rank is 6\n",
      "  warnings.warn('covariance of constraints does not have full '\n",
      "/Users/oost464/opt/anaconda3/envs/pyciems310/lib/python3.10/site-packages/statsmodels/base/model.py:1896: ValueWarning: covariance of constraints does not have full rank. The number of constraints is 10, but rank is 6\n",
      "  warnings.warn('covariance of constraints does not have full '\n",
      "/Users/oost464/opt/anaconda3/envs/pyciems310/lib/python3.10/site-packages/statsmodels/base/model.py:1896: ValueWarning: covariance of constraints does not have full rank. The number of constraints is 10, but rank is 6\n",
      "  warnings.warn('covariance of constraints does not have full '\n",
      "/Users/oost464/opt/anaconda3/envs/pyciems310/lib/python3.10/site-packages/statsmodels/base/model.py:1896: ValueWarning: covariance of constraints does not have full rank. The number of constraints is 10, but rank is 6\n",
      "  warnings.warn('covariance of constraints does not have full '\n",
      "/Users/oost464/opt/anaconda3/envs/pyciems310/lib/python3.10/site-packages/statsmodels/base/model.py:1896: ValueWarning: covariance of constraints does not have full rank. The number of constraints is 10, but rank is 6\n",
      "  warnings.warn('covariance of constraints does not have full '\n",
      "/Users/oost464/opt/anaconda3/envs/pyciems310/lib/python3.10/site-packages/statsmodels/base/model.py:1896: ValueWarning: covariance of constraints does not have full rank. The number of constraints is 10, but rank is 6\n",
      "  warnings.warn('covariance of constraints does not have full '\n",
      "/Users/oost464/opt/anaconda3/envs/pyciems310/lib/python3.10/site-packages/statsmodels/base/model.py:1896: ValueWarning: covariance of constraints does not have full rank. The number of constraints is 10, but rank is 6\n",
      "  warnings.warn('covariance of constraints does not have full '\n",
      "/Users/oost464/opt/anaconda3/envs/pyciems310/lib/python3.10/site-packages/statsmodels/base/model.py:1896: ValueWarning: covariance of constraints does not have full rank. The number of constraints is 10, but rank is 6\n",
      "  warnings.warn('covariance of constraints does not have full '\n",
      "/Users/oost464/opt/anaconda3/envs/pyciems310/lib/python3.10/site-packages/statsmodels/base/model.py:1896: ValueWarning: covariance of constraints does not have full rank. The number of constraints is 10, but rank is 6\n",
      "  warnings.warn('covariance of constraints does not have full '\n",
      "/Users/oost464/opt/anaconda3/envs/pyciems310/lib/python3.10/site-packages/statsmodels/base/model.py:1896: ValueWarning: covariance of constraints does not have full rank. The number of constraints is 10, but rank is 6\n",
      "  warnings.warn('covariance of constraints does not have full '\n",
      "/Users/oost464/opt/anaconda3/envs/pyciems310/lib/python3.10/site-packages/statsmodels/base/model.py:1896: ValueWarning: covariance of constraints does not have full rank. The number of constraints is 10, but rank is 6\n",
      "  warnings.warn('covariance of constraints does not have full '\n",
      "/Users/oost464/opt/anaconda3/envs/pyciems310/lib/python3.10/site-packages/statsmodels/base/model.py:1896: ValueWarning: covariance of constraints does not have full rank. The number of constraints is 10, but rank is 6\n",
      "  warnings.warn('covariance of constraints does not have full '\n",
      "/Users/oost464/opt/anaconda3/envs/pyciems310/lib/python3.10/site-packages/statsmodels/base/model.py:1896: ValueWarning: covariance of constraints does not have full rank. The number of constraints is 10, but rank is 6\n",
      "  warnings.warn('covariance of constraints does not have full '\n",
      "/Users/oost464/opt/anaconda3/envs/pyciems310/lib/python3.10/site-packages/statsmodels/base/model.py:1896: ValueWarning: covariance of constraints does not have full rank. The number of constraints is 10, but rank is 6\n",
      "  warnings.warn('covariance of constraints does not have full '\n",
      "/Users/oost464/opt/anaconda3/envs/pyciems310/lib/python3.10/site-packages/statsmodels/base/model.py:1896: ValueWarning: covariance of constraints does not have full rank. The number of constraints is 10, but rank is 6\n",
      "  warnings.warn('covariance of constraints does not have full '\n",
      "/Users/oost464/opt/anaconda3/envs/pyciems310/lib/python3.10/site-packages/statsmodels/base/model.py:1896: ValueWarning: covariance of constraints does not have full rank. The number of constraints is 10, but rank is 6\n",
      "  warnings.warn('covariance of constraints does not have full '\n",
      "/Users/oost464/opt/anaconda3/envs/pyciems310/lib/python3.10/site-packages/statsmodels/base/model.py:1896: ValueWarning: covariance of constraints does not have full rank. The number of constraints is 10, but rank is 6\n",
      "  warnings.warn('covariance of constraints does not have full '\n",
      "/Users/oost464/opt/anaconda3/envs/pyciems310/lib/python3.10/site-packages/statsmodels/base/model.py:1896: ValueWarning: covariance of constraints does not have full rank. The number of constraints is 10, but rank is 6\n",
      "  warnings.warn('covariance of constraints does not have full '\n",
      "/Users/oost464/opt/anaconda3/envs/pyciems310/lib/python3.10/site-packages/statsmodels/base/model.py:1896: ValueWarning: covariance of constraints does not have full rank. The number of constraints is 10, but rank is 6\n",
      "  warnings.warn('covariance of constraints does not have full '\n",
      "/Users/oost464/opt/anaconda3/envs/pyciems310/lib/python3.10/site-packages/statsmodels/base/model.py:1896: ValueWarning: covariance of constraints does not have full rank. The number of constraints is 10, but rank is 6\n",
      "  warnings.warn('covariance of constraints does not have full '\n",
      "/Users/oost464/opt/anaconda3/envs/pyciems310/lib/python3.10/site-packages/statsmodels/base/model.py:1896: ValueWarning: covariance of constraints does not have full rank. The number of constraints is 10, but rank is 6\n",
      "  warnings.warn('covariance of constraints does not have full '\n",
      "/Users/oost464/opt/anaconda3/envs/pyciems310/lib/python3.10/site-packages/statsmodels/base/model.py:1896: ValueWarning: covariance of constraints does not have full rank. The number of constraints is 10, but rank is 6\n",
      "  warnings.warn('covariance of constraints does not have full '\n",
      "/Users/oost464/opt/anaconda3/envs/pyciems310/lib/python3.10/site-packages/statsmodels/base/model.py:1896: ValueWarning: covariance of constraints does not have full rank. The number of constraints is 10, but rank is 6\n",
      "  warnings.warn('covariance of constraints does not have full '\n",
      "/Users/oost464/opt/anaconda3/envs/pyciems310/lib/python3.10/site-packages/statsmodels/base/model.py:1896: ValueWarning: covariance of constraints does not have full rank. The number of constraints is 10, but rank is 6\n",
      "  warnings.warn('covariance of constraints does not have full '\n",
      "/Users/oost464/opt/anaconda3/envs/pyciems310/lib/python3.10/site-packages/statsmodels/base/model.py:1896: ValueWarning: covariance of constraints does not have full rank. The number of constraints is 10, but rank is 6\n",
      "  warnings.warn('covariance of constraints does not have full '\n",
      "/Users/oost464/opt/anaconda3/envs/pyciems310/lib/python3.10/site-packages/statsmodels/base/model.py:1896: ValueWarning: covariance of constraints does not have full rank. The number of constraints is 10, but rank is 6\n",
      "  warnings.warn('covariance of constraints does not have full '\n",
      "/Users/oost464/opt/anaconda3/envs/pyciems310/lib/python3.10/site-packages/statsmodels/base/model.py:1896: ValueWarning: covariance of constraints does not have full rank. The number of constraints is 10, but rank is 6\n",
      "  warnings.warn('covariance of constraints does not have full '\n",
      "/Users/oost464/opt/anaconda3/envs/pyciems310/lib/python3.10/site-packages/statsmodels/base/model.py:1896: ValueWarning: covariance of constraints does not have full rank. The number of constraints is 10, but rank is 6\n",
      "  warnings.warn('covariance of constraints does not have full '\n",
      "/Users/oost464/opt/anaconda3/envs/pyciems310/lib/python3.10/site-packages/statsmodels/base/model.py:1896: ValueWarning: covariance of constraints does not have full rank. The number of constraints is 10, but rank is 6\n",
      "  warnings.warn('covariance of constraints does not have full '\n",
      "/Users/oost464/opt/anaconda3/envs/pyciems310/lib/python3.10/site-packages/statsmodels/base/model.py:1896: ValueWarning: covariance of constraints does not have full rank. The number of constraints is 10, but rank is 6\n",
      "  warnings.warn('covariance of constraints does not have full '\n",
      "/Users/oost464/opt/anaconda3/envs/pyciems310/lib/python3.10/site-packages/statsmodels/base/model.py:1896: ValueWarning: covariance of constraints does not have full rank. The number of constraints is 10, but rank is 6\n",
      "  warnings.warn('covariance of constraints does not have full '\n",
      "/Users/oost464/opt/anaconda3/envs/pyciems310/lib/python3.10/site-packages/statsmodels/base/model.py:1896: ValueWarning: covariance of constraints does not have full rank. The number of constraints is 10, but rank is 6\n",
      "  warnings.warn('covariance of constraints does not have full '\n",
      "/Users/oost464/opt/anaconda3/envs/pyciems310/lib/python3.10/site-packages/statsmodels/base/model.py:1896: ValueWarning: covariance of constraints does not have full rank. The number of constraints is 10, but rank is 6\n",
      "  warnings.warn('covariance of constraints does not have full '\n",
      "/Users/oost464/opt/anaconda3/envs/pyciems310/lib/python3.10/site-packages/statsmodels/base/model.py:1896: ValueWarning: covariance of constraints does not have full rank. The number of constraints is 10, but rank is 6\n",
      "  warnings.warn('covariance of constraints does not have full '\n",
      "/Users/oost464/opt/anaconda3/envs/pyciems310/lib/python3.10/site-packages/statsmodels/base/model.py:1896: ValueWarning: covariance of constraints does not have full rank. The number of constraints is 10, but rank is 6\n",
      "  warnings.warn('covariance of constraints does not have full '\n",
      "/Users/oost464/opt/anaconda3/envs/pyciems310/lib/python3.10/site-packages/statsmodels/base/model.py:1896: ValueWarning: covariance of constraints does not have full rank. The number of constraints is 10, but rank is 6\n",
      "  warnings.warn('covariance of constraints does not have full '\n"
     ]
    },
    {
     "name": "stdout",
     "output_type": "stream",
     "text": [
      "ssr based F test:         F=-7.2000 , p=1.0000  , df_denom=72, df_num=10\n",
      "ssr based chi2 test:   chi2=-90.0000, p=1.0000  , df=10\n",
      "likelihood ratio test: chi2=-1762.2977, p=1.0000  , df=10\n",
      "parameter F test:         F=0.0002  , p=1.0000  , df_denom=72, df_num=6\n",
      "\n",
      "Granger Causality\n",
      "number of lags (no zero) 10\n",
      "ssr based F test:         F=-7.2000 , p=1.0000  , df_denom=72, df_num=10\n",
      "ssr based chi2 test:   chi2=-90.0000, p=1.0000  , df=10\n",
      "likelihood ratio test: chi2=-1917.0139, p=1.0000  , df=10\n",
      "parameter F test:         F=0.0000  , p=1.0000  , df_denom=72, df_num=6\n",
      "\n",
      "Granger Causality\n",
      "number of lags (no zero) 10\n",
      "ssr based F test:         F=-7.2000 , p=1.0000  , df_denom=72, df_num=10\n",
      "ssr based chi2 test:   chi2=-90.0000, p=1.0000  , df=10\n",
      "likelihood ratio test: chi2=-2497.2790, p=1.0000  , df=10\n",
      "parameter F test:         F=0.0000  , p=1.0000  , df_denom=72, df_num=6\n",
      "\n",
      "Granger Causality\n",
      "number of lags (no zero) 10\n",
      "ssr based F test:         F=-7.2000 , p=1.0000  , df_denom=72, df_num=10\n",
      "ssr based chi2 test:   chi2=-90.0000, p=1.0000  , df=10\n",
      "likelihood ratio test: chi2=-2459.7255, p=1.0000  , df=10\n",
      "parameter F test:         F=0.0000  , p=1.0000  , df_denom=72, df_num=6\n",
      "\n",
      "Granger Causality\n",
      "number of lags (no zero) 10\n",
      "ssr based F test:         F=-7.2000 , p=1.0000  , df_denom=72, df_num=10\n",
      "ssr based chi2 test:   chi2=-90.0000, p=1.0000  , df=10\n",
      "likelihood ratio test: chi2=-2337.9894, p=1.0000  , df=10\n",
      "parameter F test:         F=0.0000  , p=1.0000  , df_denom=72, df_num=6\n",
      "\n",
      "Granger Causality\n",
      "number of lags (no zero) 10\n",
      "ssr based F test:         F=-7.2000 , p=1.0000  , df_denom=72, df_num=10\n",
      "ssr based chi2 test:   chi2=-90.0000, p=1.0000  , df=10\n",
      "likelihood ratio test: chi2=-2132.4202, p=1.0000  , df=10\n",
      "parameter F test:         F=0.0000  , p=1.0000  , df_denom=72, df_num=6\n",
      "\n",
      "Granger Causality\n",
      "number of lags (no zero) 10\n",
      "ssr based F test:         F=-7.2000 , p=1.0000  , df_denom=72, df_num=10\n",
      "ssr based chi2 test:   chi2=-90.0000, p=1.0000  , df=10\n",
      "likelihood ratio test: chi2=-1728.8007, p=1.0000  , df=10\n",
      "parameter F test:         F=0.0003  , p=1.0000  , df_denom=72, df_num=6\n",
      "\n",
      "Granger Causality\n",
      "number of lags (no zero) 10\n",
      "ssr based F test:         F=-7.2000 , p=1.0000  , df_denom=72, df_num=10\n",
      "ssr based chi2 test:   chi2=-90.0000, p=1.0000  , df=10\n",
      "likelihood ratio test: chi2=-2082.9101, p=1.0000  , df=10\n",
      "parameter F test:         F=0.0000  , p=1.0000  , df_denom=72, df_num=6\n",
      "\n",
      "Granger Causality\n",
      "number of lags (no zero) 10\n",
      "ssr based F test:         F=-7.2000 , p=1.0000  , df_denom=72, df_num=10\n",
      "ssr based chi2 test:   chi2=-90.0000, p=1.0000  , df=10\n",
      "likelihood ratio test: chi2=-1868.7001, p=1.0000  , df=10\n",
      "parameter F test:         F=0.0001  , p=1.0000  , df_denom=72, df_num=6\n",
      "\n",
      "Granger Causality\n",
      "number of lags (no zero) 10\n",
      "ssr based F test:         F=-7.6943 , p=1.0000  , df_denom=77, df_num=10\n",
      "ssr based chi2 test:   chi2=-89.9339, p=1.0000  , df=10\n",
      "likelihood ratio test: chi2=-649.4305, p=1.0000  , df=10\n",
      "parameter F test:         F=19254.1182, p=0.0000  , df_denom=77, df_num=6\n",
      "\n",
      "Granger Causality\n",
      "number of lags (no zero) 10\n",
      "ssr based F test:         F=-7.6718 , p=1.0000  , df_denom=77, df_num=10\n",
      "ssr based chi2 test:   chi2=-89.6700, p=1.0000  , df=10\n",
      "likelihood ratio test: chi2=-504.7702, p=1.0000  , df=10\n",
      "parameter F test:         F=82671.7070, p=0.0000  , df_denom=77, df_num=6\n",
      "\n",
      "Granger Causality\n",
      "number of lags (no zero) 10\n",
      "ssr based F test:         F=-7.6991 , p=1.0000  , df_denom=77, df_num=10\n",
      "ssr based chi2 test:   chi2=-89.9894, p=1.0000  , df=10\n",
      "likelihood ratio test: chi2=-813.8952, p=1.0000  , df=10\n",
      "parameter F test:         F=3394.7190, p=0.0000  , df_denom=77, df_num=6\n",
      "\n",
      "Granger Causality\n",
      "number of lags (no zero) 10\n",
      "ssr based F test:         F=-7.6944 , p=1.0000  , df_denom=77, df_num=10\n",
      "ssr based chi2 test:   chi2=-89.9348, p=1.0000  , df=10\n",
      "likelihood ratio test: chi2=-650.7171, p=1.0000  , df=10\n",
      "parameter F test:         F=20424.5314, p=0.0000  , df_denom=77, df_num=6\n",
      "\n",
      "Granger Causality\n",
      "number of lags (no zero) 10\n",
      "ssr based F test:         F=-7.6853 , p=1.0000  , df_denom=77, df_num=10\n",
      "ssr based chi2 test:   chi2=-89.8278, p=1.0000  , df=10\n",
      "likelihood ratio test: chi2=-563.3195, p=1.0000  , df=10\n",
      "parameter F test:         F=23643.7663, p=0.0000  , df_denom=77, df_num=6\n",
      "\n",
      "Granger Causality\n",
      "number of lags (no zero) 10\n",
      "ssr based F test:         F=-7.6842 , p=1.0000  , df_denom=77, df_num=10\n",
      "ssr based chi2 test:   chi2=-89.8149, p=1.0000  , df=10\n",
      "likelihood ratio test: chi2=-556.8055, p=1.0000  , df=10\n",
      "parameter F test:         F=53797.8240, p=0.0000  , df_denom=77, df_num=6\n",
      "\n",
      "Granger Causality\n",
      "number of lags (no zero) 10\n",
      "ssr based F test:         F=-7.6993 , p=1.0000  , df_denom=77, df_num=10\n",
      "ssr based chi2 test:   chi2=-89.9913, p=1.0000  , df=10\n",
      "likelihood ratio test: chi2=-832.0473, p=1.0000  , df=10\n",
      "parameter F test:         F=2908.8390, p=0.0000  , df_denom=77, df_num=6\n",
      "\n",
      "Granger Causality\n",
      "number of lags (no zero) 10\n",
      "ssr based F test:         F=-7.6960 , p=1.0000  , df_denom=77, df_num=10\n",
      "ssr based chi2 test:   chi2=-89.9532, p=1.0000  , df=10\n",
      "likelihood ratio test: chi2=-680.5113, p=1.0000  , df=10\n",
      "parameter F test:         F=15604.6209, p=0.0000  , df_denom=77, df_num=6\n",
      "\n",
      "Granger Causality\n",
      "number of lags (no zero) 10\n",
      "ssr based F test:         F=-7.6989 , p=1.0000  , df_denom=77, df_num=10\n",
      "ssr based chi2 test:   chi2=-89.9870, p=1.0000  , df=10\n",
      "likelihood ratio test: chi2=-795.9922, p=1.0000  , df=10\n",
      "parameter F test:         F=4161.5174, p=0.0000  , df_denom=77, df_num=6\n",
      "\n",
      "Granger Causality\n",
      "number of lags (no zero) 10\n",
      "ssr based F test:         F=-7.6992 , p=1.0000  , df_denom=77, df_num=10\n",
      "ssr based chi2 test:   chi2=-89.9903, p=1.0000  , df=10\n",
      "likelihood ratio test: chi2=-822.5715, p=1.0000  , df=10\n",
      "parameter F test:         F=1140.9108, p=0.0000  , df_denom=77, df_num=6\n",
      "\n",
      "Granger Causality\n",
      "number of lags (no zero) 10\n",
      "ssr based F test:         F=-7.6680 , p=1.0000  , df_denom=77, df_num=10\n",
      "ssr based chi2 test:   chi2=-89.6263, p=1.0000  , df=10\n",
      "likelihood ratio test: chi2=-493.5680, p=1.0000  , df=10\n",
      "parameter F test:         F=101866.6853, p=0.0000  , df_denom=77, df_num=6\n",
      "\n",
      "Granger Causality\n",
      "number of lags (no zero) 10\n",
      "ssr based F test:         F=-7.6982 , p=1.0000  , df_denom=77, df_num=10\n",
      "ssr based chi2 test:   chi2=-89.9788, p=1.0000  , df=10\n",
      "likelihood ratio test: chi2=-752.0248, p=1.0000  , df=10\n",
      "parameter F test:         F=5647.7248, p=0.0000  , df_denom=77, df_num=6\n",
      "\n",
      "Granger Causality\n",
      "number of lags (no zero) 10\n",
      "ssr based F test:         F=-7.6988 , p=1.0000  , df_denom=77, df_num=10\n",
      "ssr based chi2 test:   chi2=-89.9855, p=1.0000  , df=10\n",
      "likelihood ratio test: chi2=-785.7022, p=1.0000  , df=10\n",
      "parameter F test:         F=4917.7290, p=0.0000  , df_denom=77, df_num=6\n",
      "\n",
      "Granger Causality\n",
      "number of lags (no zero) 10\n",
      "ssr based F test:         F=-7.6941 , p=1.0000  , df_denom=77, df_num=10\n",
      "ssr based chi2 test:   chi2=-89.9312, p=1.0000  , df=10\n",
      "likelihood ratio test: chi2=-645.9150, p=1.0000  , df=10\n",
      "parameter F test:         F=6957.4402, p=0.0000  , df_denom=77, df_num=6\n",
      "\n",
      "Granger Causality\n",
      "number of lags (no zero) 10\n",
      "ssr based F test:         F=-7.6898 , p=1.0000  , df_denom=77, df_num=10\n",
      "ssr based chi2 test:   chi2=-89.8811, p=1.0000  , df=10\n",
      "likelihood ratio test: chi2=-596.6091, p=1.0000  , df=10\n",
      "parameter F test:         F=38708.9846, p=0.0000  , df_denom=77, df_num=6\n",
      "\n",
      "Granger Causality\n",
      "number of lags (no zero) 10\n",
      "ssr based F test:         F=-7.6514 , p=1.0000  , df_denom=77, df_num=10\n",
      "ssr based chi2 test:   chi2=-89.4318, p=1.0000  , df=10\n",
      "likelihood ratio test: chi2=-455.8659, p=1.0000  , df=10\n",
      "parameter F test:         F=203236.7344, p=0.0000  , df_denom=77, df_num=6\n",
      "\n",
      "Granger Causality\n",
      "number of lags (no zero) 10\n",
      "ssr based F test:         F=-7.6992 , p=1.0000  , df_denom=77, df_num=10\n",
      "ssr based chi2 test:   chi2=-89.9905, p=1.0000  , df=10\n",
      "likelihood ratio test: chi2=-823.7601, p=1.0000  , df=10\n",
      "parameter F test:         F=3035.6635, p=0.0000  , df_denom=77, df_num=6\n",
      "\n",
      "Granger Causality\n",
      "number of lags (no zero) 10\n",
      "ssr based F test:         F=-7.6963 , p=1.0000  , df_denom=77, df_num=10\n",
      "ssr based chi2 test:   chi2=-89.9569, p=1.0000  , df=10\n",
      "likelihood ratio test: chi2=-687.9190, p=1.0000  , df=10\n",
      "parameter F test:         F=13086.5477, p=0.0000  , df_denom=77, df_num=6\n",
      "\n",
      "Granger Causality\n",
      "number of lags (no zero) 10\n",
      "ssr based F test:         F=-7.6440 , p=1.0000  , df_denom=77, df_num=10\n",
      "ssr based chi2 test:   chi2=-89.3452, p=1.0000  , df=10\n",
      "likelihood ratio test: chi2=-443.0918, p=1.0000  , df=10\n",
      "parameter F test:         F=222814.5070, p=0.0000  , df_denom=77, df_num=6\n",
      "\n",
      "Granger Causality\n",
      "number of lags (no zero) 10\n",
      "ssr based F test:         F=-7.6936 , p=1.0000  , df_denom=77, df_num=10\n",
      "ssr based chi2 test:   chi2=-89.9256, p=1.0000  , df=10\n",
      "likelihood ratio test: chi2=-638.8475, p=1.0000  , df=10\n",
      "parameter F test:         F=23251.3039, p=0.0000  , df_denom=77, df_num=6\n",
      "\n",
      "Granger Causality\n",
      "number of lags (no zero) 10\n",
      "ssr based F test:         F=-7.6987 , p=1.0000  , df_denom=77, df_num=10\n",
      "ssr based chi2 test:   chi2=-89.9850, p=1.0000  , df=10\n",
      "likelihood ratio test: chi2=-782.7313, p=1.0000  , df=10\n",
      "parameter F test:         F=3978.0025, p=0.0000  , df_denom=77, df_num=6\n",
      "\n",
      "Granger Causality\n",
      "number of lags (no zero) 10\n",
      "ssr based F test:         F=-7.6790 , p=1.0000  , df_denom=77, df_num=10\n",
      "ssr based chi2 test:   chi2=-89.7542, p=1.0000  , df=10\n",
      "likelihood ratio test: chi2=-531.2576, p=1.0000  , df=10\n",
      "parameter F test:         F=55393.3519, p=0.0000  , df_denom=77, df_num=6\n",
      "\n",
      "Granger Causality\n",
      "number of lags (no zero) 10\n",
      "ssr based F test:         F=-7.6863 , p=1.0000  , df_denom=77, df_num=10\n",
      "ssr based chi2 test:   chi2=-89.8402, p=1.0000  , df=10\n",
      "likelihood ratio test: chi2=-570.0095, p=1.0000  , df=10\n",
      "parameter F test:         F=17792.5148, p=0.0000  , df_denom=77, df_num=6\n",
      "\n",
      "Granger Causality\n",
      "number of lags (no zero) 10\n",
      "ssr based F test:         F=-7.6977 , p=1.0000  , df_denom=77, df_num=10\n",
      "ssr based chi2 test:   chi2=-89.9726, p=1.0000  , df=10\n",
      "likelihood ratio test: chi2=-728.6032, p=1.0000  , df=10\n",
      "parameter F test:         F=9509.6467, p=0.0000  , df_denom=77, df_num=6\n",
      "\n",
      "Granger Causality\n",
      "number of lags (no zero) 10\n",
      "ssr based F test:         F=-7.5199 , p=1.0000  , df_denom=77, df_num=10\n",
      "ssr based chi2 test:   chi2=-87.8947, p=1.0000  , df=10\n",
      "likelihood ratio test: chi2=-337.9806, p=1.0000  , df=10\n",
      "parameter F test:         F=614251.3553, p=0.0000  , df_denom=77, df_num=6\n",
      "\n",
      "Granger Causality\n",
      "number of lags (no zero) 10\n",
      "ssr based F test:         F=-7.6975 , p=1.0000  , df_denom=77, df_num=10\n",
      "ssr based chi2 test:   chi2=-89.9711, p=1.0000  , df=10\n",
      "likelihood ratio test: chi2=-723.9857, p=1.0000  , df=10\n",
      "parameter F test:         F=7147.4137, p=0.0000  , df_denom=77, df_num=6\n",
      "\n",
      "Granger Causality\n",
      "number of lags (no zero) 10\n",
      "ssr based F test:         F=-7.6950 , p=1.0000  , df_denom=77, df_num=10\n",
      "ssr based chi2 test:   chi2=-89.9415, p=1.0000  , df=10\n",
      "likelihood ratio test: chi2=-660.5222, p=1.0000  , df=10\n",
      "parameter F test:         F=18207.2205, p=0.0000  , df_denom=77, df_num=6\n",
      "\n",
      "Granger Causality\n",
      "number of lags (no zero) 10\n",
      "ssr based F test:         F=-7.6918 , p=1.0000  , df_denom=77, df_num=10\n",
      "ssr based chi2 test:   chi2=-89.9045, p=1.0000  , df=10\n",
      "likelihood ratio test: chi2=-616.3552, p=1.0000  , df=10\n",
      "parameter F test:         F=26253.1355, p=0.0000  , df_denom=77, df_num=6\n",
      "\n",
      "Granger Causality\n",
      "number of lags (no zero) 10\n",
      "ssr based F test:         F=-7.6792 , p=1.0000  , df_denom=77, df_num=10\n",
      "ssr based chi2 test:   chi2=-89.7563, p=1.0000  , df=10\n",
      "likelihood ratio test: chi2=-532.0586, p=1.0000  , df=10\n",
      "parameter F test:         F=38633.0215, p=0.0000  , df_denom=77, df_num=6\n",
      "\n",
      "Granger Causality\n",
      "number of lags (no zero) 10\n",
      "ssr based F test:         F=-7.6973 , p=1.0000  , df_denom=77, df_num=10\n",
      "ssr based chi2 test:   chi2=-89.9679, p=1.0000  , df=10\n",
      "likelihood ratio test: chi2=-714.3995, p=1.0000  , df=10\n",
      "parameter F test:         F=9549.1832, p=0.0000  , df_denom=77, df_num=6\n",
      "\n",
      "Granger Causality\n",
      "number of lags (no zero) 10\n",
      "ssr based F test:         F=-7.6982 , p=1.0000  , df_denom=77, df_num=10\n",
      "ssr based chi2 test:   chi2=-89.9794, p=1.0000  , df=10\n",
      "likelihood ratio test: chi2=-754.4482, p=1.0000  , df=10\n",
      "parameter F test:         F=6336.8125, p=0.0000  , df_denom=77, df_num=6\n",
      "\n",
      "Granger Causality\n",
      "number of lags (no zero) 10\n",
      "ssr based F test:         F=-7.6970 , p=1.0000  , df_denom=77, df_num=10\n",
      "ssr based chi2 test:   chi2=-89.9645, p=1.0000  , df=10\n",
      "likelihood ratio test: chi2=-705.5475, p=1.0000  , df=10\n",
      "parameter F test:         F=11662.6610, p=0.0000  , df_denom=77, df_num=6\n",
      "\n",
      "Granger Causality\n",
      "number of lags (no zero) 10\n",
      "ssr based F test:         F=-7.6857 , p=1.0000  , df_denom=77, df_num=10\n",
      "ssr based chi2 test:   chi2=-89.8323, p=1.0000  , df=10\n",
      "likelihood ratio test: chi2=-565.7109, p=1.0000  , df=10\n",
      "parameter F test:         F=53248.5147, p=0.0000  , df_denom=77, df_num=6\n",
      "\n",
      "Granger Causality\n",
      "number of lags (no zero) 10\n",
      "ssr based F test:         F=-7.6864 , p=1.0000  , df_denom=77, df_num=10\n",
      "ssr based chi2 test:   chi2=-89.8408, p=1.0000  , df=10\n",
      "likelihood ratio test: chi2=-570.3773, p=1.0000  , df=10\n",
      "parameter F test:         F=56628.9805, p=0.0000  , df_denom=77, df_num=6\n",
      "\n",
      "Granger Causality\n",
      "number of lags (no zero) 10\n",
      "ssr based F test:         F=-7.6987 , p=1.0000  , df_denom=77, df_num=10\n",
      "ssr based chi2 test:   chi2=-89.9852, p=1.0000  , df=10\n",
      "likelihood ratio test: chi2=-784.4645, p=1.0000  , df=10\n",
      "parameter F test:         F=4510.4601, p=0.0000  , df_denom=77, df_num=6\n",
      "\n",
      "Granger Causality\n",
      "number of lags (no zero) 10\n",
      "ssr based F test:         F=-7.6799 , p=1.0000  , df_denom=77, df_num=10\n",
      "ssr based chi2 test:   chi2=-89.7648, p=1.0000  , df=10\n",
      "likelihood ratio test: chi2=-535.2393, p=1.0000  , df=10\n",
      "parameter F test:         F=59367.7267, p=0.0000  , df_denom=77, df_num=6\n",
      "\n",
      "Granger Causality\n",
      "number of lags (no zero) 10\n",
      "ssr based F test:         F=-7.6959 , p=1.0000  , df_denom=77, df_num=10\n",
      "ssr based chi2 test:   chi2=-89.9522, p=1.0000  , df=10\n",
      "likelihood ratio test: chi2=-678.6022, p=1.0000  , df=10\n",
      "parameter F test:         F=14322.8275, p=0.0000  , df_denom=77, df_num=6\n",
      "\n",
      "Granger Causality\n",
      "number of lags (no zero) 10\n",
      "ssr based F test:         F=-7.6870 , p=1.0000  , df_denom=77, df_num=10\n",
      "ssr based chi2 test:   chi2=-89.8481, p=1.0000  , df=10\n",
      "likelihood ratio test: chi2=-574.6122, p=1.0000  , df=10\n",
      "parameter F test:         F=45387.4766, p=0.0000  , df_denom=77, df_num=6\n",
      "\n",
      "Granger Causality\n",
      "number of lags (no zero) 10\n"
     ]
    },
    {
     "name": "stderr",
     "output_type": "stream",
     "text": [
      "/Users/oost464/opt/anaconda3/envs/pyciems310/lib/python3.10/site-packages/statsmodels/base/model.py:1896: ValueWarning: covariance of constraints does not have full rank. The number of constraints is 10, but rank is 6\n",
      "  warnings.warn('covariance of constraints does not have full '\n",
      "/Users/oost464/opt/anaconda3/envs/pyciems310/lib/python3.10/site-packages/statsmodels/base/model.py:1896: ValueWarning: covariance of constraints does not have full rank. The number of constraints is 10, but rank is 6\n",
      "  warnings.warn('covariance of constraints does not have full '\n",
      "/Users/oost464/opt/anaconda3/envs/pyciems310/lib/python3.10/site-packages/statsmodels/base/model.py:1896: ValueWarning: covariance of constraints does not have full rank. The number of constraints is 10, but rank is 6\n",
      "  warnings.warn('covariance of constraints does not have full '\n",
      "/Users/oost464/opt/anaconda3/envs/pyciems310/lib/python3.10/site-packages/statsmodels/base/model.py:1896: ValueWarning: covariance of constraints does not have full rank. The number of constraints is 10, but rank is 6\n",
      "  warnings.warn('covariance of constraints does not have full '\n",
      "/Users/oost464/opt/anaconda3/envs/pyciems310/lib/python3.10/site-packages/statsmodels/base/model.py:1896: ValueWarning: covariance of constraints does not have full rank. The number of constraints is 10, but rank is 6\n",
      "  warnings.warn('covariance of constraints does not have full '\n",
      "/Users/oost464/opt/anaconda3/envs/pyciems310/lib/python3.10/site-packages/statsmodels/base/model.py:1896: ValueWarning: covariance of constraints does not have full rank. The number of constraints is 10, but rank is 6\n",
      "  warnings.warn('covariance of constraints does not have full '\n",
      "/Users/oost464/opt/anaconda3/envs/pyciems310/lib/python3.10/site-packages/statsmodels/base/model.py:1896: ValueWarning: covariance of constraints does not have full rank. The number of constraints is 10, but rank is 6\n",
      "  warnings.warn('covariance of constraints does not have full '\n",
      "/Users/oost464/opt/anaconda3/envs/pyciems310/lib/python3.10/site-packages/statsmodels/base/model.py:1896: ValueWarning: covariance of constraints does not have full rank. The number of constraints is 10, but rank is 6\n",
      "  warnings.warn('covariance of constraints does not have full '\n",
      "/Users/oost464/opt/anaconda3/envs/pyciems310/lib/python3.10/site-packages/statsmodels/base/model.py:1896: ValueWarning: covariance of constraints does not have full rank. The number of constraints is 10, but rank is 6\n",
      "  warnings.warn('covariance of constraints does not have full '\n",
      "/Users/oost464/opt/anaconda3/envs/pyciems310/lib/python3.10/site-packages/statsmodels/base/model.py:1896: ValueWarning: covariance of constraints does not have full rank. The number of constraints is 10, but rank is 6\n",
      "  warnings.warn('covariance of constraints does not have full '\n",
      "/Users/oost464/opt/anaconda3/envs/pyciems310/lib/python3.10/site-packages/statsmodels/base/model.py:1896: ValueWarning: covariance of constraints does not have full rank. The number of constraints is 10, but rank is 6\n",
      "  warnings.warn('covariance of constraints does not have full '\n",
      "/Users/oost464/opt/anaconda3/envs/pyciems310/lib/python3.10/site-packages/statsmodels/base/model.py:1896: ValueWarning: covariance of constraints does not have full rank. The number of constraints is 10, but rank is 6\n",
      "  warnings.warn('covariance of constraints does not have full '\n",
      "/Users/oost464/opt/anaconda3/envs/pyciems310/lib/python3.10/site-packages/statsmodels/base/model.py:1896: ValueWarning: covariance of constraints does not have full rank. The number of constraints is 10, but rank is 6\n",
      "  warnings.warn('covariance of constraints does not have full '\n",
      "/Users/oost464/opt/anaconda3/envs/pyciems310/lib/python3.10/site-packages/statsmodels/base/model.py:1896: ValueWarning: covariance of constraints does not have full rank. The number of constraints is 10, but rank is 6\n",
      "  warnings.warn('covariance of constraints does not have full '\n",
      "/Users/oost464/opt/anaconda3/envs/pyciems310/lib/python3.10/site-packages/statsmodels/base/model.py:1896: ValueWarning: covariance of constraints does not have full rank. The number of constraints is 10, but rank is 6\n",
      "  warnings.warn('covariance of constraints does not have full '\n",
      "/Users/oost464/opt/anaconda3/envs/pyciems310/lib/python3.10/site-packages/statsmodels/base/model.py:1896: ValueWarning: covariance of constraints does not have full rank. The number of constraints is 10, but rank is 6\n",
      "  warnings.warn('covariance of constraints does not have full '\n",
      "/Users/oost464/opt/anaconda3/envs/pyciems310/lib/python3.10/site-packages/statsmodels/base/model.py:1896: ValueWarning: covariance of constraints does not have full rank. The number of constraints is 10, but rank is 6\n",
      "  warnings.warn('covariance of constraints does not have full '\n",
      "/Users/oost464/opt/anaconda3/envs/pyciems310/lib/python3.10/site-packages/statsmodels/base/model.py:1896: ValueWarning: covariance of constraints does not have full rank. The number of constraints is 10, but rank is 6\n",
      "  warnings.warn('covariance of constraints does not have full '\n",
      "/Users/oost464/opt/anaconda3/envs/pyciems310/lib/python3.10/site-packages/statsmodels/base/model.py:1896: ValueWarning: covariance of constraints does not have full rank. The number of constraints is 10, but rank is 6\n",
      "  warnings.warn('covariance of constraints does not have full '\n",
      "/Users/oost464/opt/anaconda3/envs/pyciems310/lib/python3.10/site-packages/statsmodels/base/model.py:1896: ValueWarning: covariance of constraints does not have full rank. The number of constraints is 10, but rank is 6\n",
      "  warnings.warn('covariance of constraints does not have full '\n",
      "/Users/oost464/opt/anaconda3/envs/pyciems310/lib/python3.10/site-packages/statsmodels/base/model.py:1896: ValueWarning: covariance of constraints does not have full rank. The number of constraints is 10, but rank is 6\n",
      "  warnings.warn('covariance of constraints does not have full '\n",
      "/Users/oost464/opt/anaconda3/envs/pyciems310/lib/python3.10/site-packages/statsmodels/base/model.py:1896: ValueWarning: covariance of constraints does not have full rank. The number of constraints is 10, but rank is 6\n",
      "  warnings.warn('covariance of constraints does not have full '\n",
      "/Users/oost464/opt/anaconda3/envs/pyciems310/lib/python3.10/site-packages/statsmodels/base/model.py:1896: ValueWarning: covariance of constraints does not have full rank. The number of constraints is 10, but rank is 6\n",
      "  warnings.warn('covariance of constraints does not have full '\n",
      "/Users/oost464/opt/anaconda3/envs/pyciems310/lib/python3.10/site-packages/statsmodels/base/model.py:1896: ValueWarning: covariance of constraints does not have full rank. The number of constraints is 10, but rank is 6\n",
      "  warnings.warn('covariance of constraints does not have full '\n",
      "/Users/oost464/opt/anaconda3/envs/pyciems310/lib/python3.10/site-packages/statsmodels/base/model.py:1896: ValueWarning: covariance of constraints does not have full rank. The number of constraints is 10, but rank is 6\n",
      "  warnings.warn('covariance of constraints does not have full '\n",
      "/Users/oost464/opt/anaconda3/envs/pyciems310/lib/python3.10/site-packages/statsmodels/base/model.py:1896: ValueWarning: covariance of constraints does not have full rank. The number of constraints is 10, but rank is 6\n",
      "  warnings.warn('covariance of constraints does not have full '\n",
      "/Users/oost464/opt/anaconda3/envs/pyciems310/lib/python3.10/site-packages/statsmodels/base/model.py:1896: ValueWarning: covariance of constraints does not have full rank. The number of constraints is 10, but rank is 6\n",
      "  warnings.warn('covariance of constraints does not have full '\n",
      "/Users/oost464/opt/anaconda3/envs/pyciems310/lib/python3.10/site-packages/statsmodels/base/model.py:1896: ValueWarning: covariance of constraints does not have full rank. The number of constraints is 10, but rank is 6\n",
      "  warnings.warn('covariance of constraints does not have full '\n",
      "/Users/oost464/opt/anaconda3/envs/pyciems310/lib/python3.10/site-packages/statsmodels/base/model.py:1896: ValueWarning: covariance of constraints does not have full rank. The number of constraints is 10, but rank is 6\n",
      "  warnings.warn('covariance of constraints does not have full '\n",
      "/Users/oost464/opt/anaconda3/envs/pyciems310/lib/python3.10/site-packages/statsmodels/base/model.py:1896: ValueWarning: covariance of constraints does not have full rank. The number of constraints is 10, but rank is 6\n",
      "  warnings.warn('covariance of constraints does not have full '\n",
      "/Users/oost464/opt/anaconda3/envs/pyciems310/lib/python3.10/site-packages/statsmodels/base/model.py:1896: ValueWarning: covariance of constraints does not have full rank. The number of constraints is 10, but rank is 6\n",
      "  warnings.warn('covariance of constraints does not have full '\n",
      "/Users/oost464/opt/anaconda3/envs/pyciems310/lib/python3.10/site-packages/statsmodels/base/model.py:1896: ValueWarning: covariance of constraints does not have full rank. The number of constraints is 10, but rank is 6\n",
      "  warnings.warn('covariance of constraints does not have full '\n",
      "/Users/oost464/opt/anaconda3/envs/pyciems310/lib/python3.10/site-packages/statsmodels/base/model.py:1896: ValueWarning: covariance of constraints does not have full rank. The number of constraints is 10, but rank is 6\n",
      "  warnings.warn('covariance of constraints does not have full '\n",
      "/Users/oost464/opt/anaconda3/envs/pyciems310/lib/python3.10/site-packages/statsmodels/base/model.py:1896: ValueWarning: covariance of constraints does not have full rank. The number of constraints is 10, but rank is 6\n",
      "  warnings.warn('covariance of constraints does not have full '\n",
      "/Users/oost464/opt/anaconda3/envs/pyciems310/lib/python3.10/site-packages/statsmodels/base/model.py:1896: ValueWarning: covariance of constraints does not have full rank. The number of constraints is 10, but rank is 6\n",
      "  warnings.warn('covariance of constraints does not have full '\n",
      "/Users/oost464/opt/anaconda3/envs/pyciems310/lib/python3.10/site-packages/statsmodels/base/model.py:1896: ValueWarning: covariance of constraints does not have full rank. The number of constraints is 10, but rank is 6\n",
      "  warnings.warn('covariance of constraints does not have full '\n",
      "/Users/oost464/opt/anaconda3/envs/pyciems310/lib/python3.10/site-packages/statsmodels/base/model.py:1896: ValueWarning: covariance of constraints does not have full rank. The number of constraints is 10, but rank is 6\n",
      "  warnings.warn('covariance of constraints does not have full '\n",
      "/Users/oost464/opt/anaconda3/envs/pyciems310/lib/python3.10/site-packages/statsmodels/base/model.py:1896: ValueWarning: covariance of constraints does not have full rank. The number of constraints is 10, but rank is 6\n",
      "  warnings.warn('covariance of constraints does not have full '\n",
      "/Users/oost464/opt/anaconda3/envs/pyciems310/lib/python3.10/site-packages/statsmodels/base/model.py:1896: ValueWarning: covariance of constraints does not have full rank. The number of constraints is 10, but rank is 6\n",
      "  warnings.warn('covariance of constraints does not have full '\n",
      "/Users/oost464/opt/anaconda3/envs/pyciems310/lib/python3.10/site-packages/statsmodels/base/model.py:1896: ValueWarning: covariance of constraints does not have full rank. The number of constraints is 10, but rank is 6\n",
      "  warnings.warn('covariance of constraints does not have full '\n",
      "/Users/oost464/opt/anaconda3/envs/pyciems310/lib/python3.10/site-packages/statsmodels/base/model.py:1896: ValueWarning: covariance of constraints does not have full rank. The number of constraints is 10, but rank is 6\n",
      "  warnings.warn('covariance of constraints does not have full '\n",
      "/Users/oost464/opt/anaconda3/envs/pyciems310/lib/python3.10/site-packages/statsmodels/base/model.py:1896: ValueWarning: covariance of constraints does not have full rank. The number of constraints is 10, but rank is 6\n",
      "  warnings.warn('covariance of constraints does not have full '\n",
      "/Users/oost464/opt/anaconda3/envs/pyciems310/lib/python3.10/site-packages/statsmodels/base/model.py:1896: ValueWarning: covariance of constraints does not have full rank. The number of constraints is 10, but rank is 6\n",
      "  warnings.warn('covariance of constraints does not have full '\n",
      "/Users/oost464/opt/anaconda3/envs/pyciems310/lib/python3.10/site-packages/statsmodels/base/model.py:1896: ValueWarning: covariance of constraints does not have full rank. The number of constraints is 10, but rank is 6\n",
      "  warnings.warn('covariance of constraints does not have full '\n",
      "/Users/oost464/opt/anaconda3/envs/pyciems310/lib/python3.10/site-packages/statsmodels/base/model.py:1896: ValueWarning: covariance of constraints does not have full rank. The number of constraints is 10, but rank is 6\n",
      "  warnings.warn('covariance of constraints does not have full '\n",
      "/Users/oost464/opt/anaconda3/envs/pyciems310/lib/python3.10/site-packages/statsmodels/base/model.py:1896: ValueWarning: covariance of constraints does not have full rank. The number of constraints is 10, but rank is 6\n",
      "  warnings.warn('covariance of constraints does not have full '\n",
      "/Users/oost464/opt/anaconda3/envs/pyciems310/lib/python3.10/site-packages/statsmodels/base/model.py:1896: ValueWarning: covariance of constraints does not have full rank. The number of constraints is 10, but rank is 6\n",
      "  warnings.warn('covariance of constraints does not have full '\n",
      "/Users/oost464/opt/anaconda3/envs/pyciems310/lib/python3.10/site-packages/statsmodels/base/model.py:1896: ValueWarning: covariance of constraints does not have full rank. The number of constraints is 10, but rank is 6\n",
      "  warnings.warn('covariance of constraints does not have full '\n",
      "/Users/oost464/opt/anaconda3/envs/pyciems310/lib/python3.10/site-packages/statsmodels/base/model.py:1896: ValueWarning: covariance of constraints does not have full rank. The number of constraints is 10, but rank is 6\n",
      "  warnings.warn('covariance of constraints does not have full '\n"
     ]
    },
    {
     "name": "stdout",
     "output_type": "stream",
     "text": [
      "ssr based F test:         F=-7.6930 , p=1.0000  , df_denom=77, df_num=10\n",
      "ssr based chi2 test:   chi2=-89.9177, p=1.0000  , df=10\n",
      "likelihood ratio test: chi2=-629.7646, p=1.0000  , df=10\n",
      "parameter F test:         F=20578.1199, p=0.0000  , df_denom=77, df_num=6\n",
      "\n",
      "Granger Causality\n",
      "number of lags (no zero) 10\n",
      "ssr based F test:         F=-7.6932 , p=1.0000  , df_denom=77, df_num=10\n",
      "ssr based chi2 test:   chi2=-89.9210, p=1.0000  , df=10\n",
      "likelihood ratio test: chi2=-633.3850, p=1.0000  , df=10\n",
      "parameter F test:         F=26045.9614, p=0.0000  , df_denom=77, df_num=6\n",
      "\n",
      "Granger Causality\n",
      "number of lags (no zero) 10\n",
      "ssr based F test:         F=-7.6866 , p=1.0000  , df_denom=77, df_num=10\n",
      "ssr based chi2 test:   chi2=-89.8439, p=1.0000  , df=10\n",
      "likelihood ratio test: chi2=-572.1226, p=1.0000  , df=10\n",
      "parameter F test:         F=44406.8559, p=0.0000  , df_denom=77, df_num=6\n",
      "\n",
      "Granger Causality\n",
      "number of lags (no zero) 10\n",
      "ssr based F test:         F=-7.6870 , p=1.0000  , df_denom=77, df_num=10\n",
      "ssr based chi2 test:   chi2=-89.8478, p=1.0000  , df=10\n",
      "likelihood ratio test: chi2=-574.4169, p=1.0000  , df=10\n",
      "parameter F test:         F=45967.2446, p=0.0000  , df_denom=77, df_num=6\n",
      "\n",
      "Granger Causality\n",
      "number of lags (no zero) 10\n",
      "ssr based F test:         F=-7.6783 , p=1.0000  , df_denom=77, df_num=10\n",
      "ssr based chi2 test:   chi2=-89.7462, p=1.0000  , df=10\n",
      "likelihood ratio test: chi2=-528.4085, p=1.0000  , df=10\n",
      "parameter F test:         F=87930.7949, p=0.0000  , df_denom=77, df_num=6\n",
      "\n",
      "Granger Causality\n",
      "number of lags (no zero) 10\n",
      "ssr based F test:         F=-7.6983 , p=1.0000  , df_denom=77, df_num=10\n",
      "ssr based chi2 test:   chi2=-89.9800, p=1.0000  , df=10\n",
      "likelihood ratio test: chi2=-757.2704, p=1.0000  , df=10\n",
      "parameter F test:         F=6212.3803, p=0.0000  , df_denom=77, df_num=6\n",
      "\n",
      "Granger Causality\n",
      "number of lags (no zero) 10\n",
      "ssr based F test:         F=-7.6975 , p=1.0000  , df_denom=77, df_num=10\n",
      "ssr based chi2 test:   chi2=-89.9712, p=1.0000  , df=10\n",
      "likelihood ratio test: chi2=-724.2724, p=1.0000  , df=10\n",
      "parameter F test:         F=8322.7019, p=0.0000  , df_denom=77, df_num=6\n",
      "\n",
      "Granger Causality\n",
      "number of lags (no zero) 10\n",
      "ssr based F test:         F=-7.6924 , p=1.0000  , df_denom=77, df_num=10\n",
      "ssr based chi2 test:   chi2=-89.9113, p=1.0000  , df=10\n",
      "likelihood ratio test: chi2=-622.9984, p=1.0000  , df=10\n",
      "parameter F test:         F=31135.2524, p=0.0000  , df_denom=77, df_num=6\n"
     ]
    },
    {
     "name": "stderr",
     "output_type": "stream",
     "text": [
      "/Users/oost464/opt/anaconda3/envs/pyciems310/lib/python3.10/site-packages/statsmodels/base/model.py:1896: ValueWarning: covariance of constraints does not have full rank. The number of constraints is 10, but rank is 6\n",
      "  warnings.warn('covariance of constraints does not have full '\n"
     ]
    },
    {
     "name": "stdout",
     "output_type": "stream",
     "text": [
      "\n"
     ]
    },
    {
     "data": {
      "application/vnd.vega.v5+json": {
       "$schema": "https://vega.github.io/schema/vega/v5.json",
       "axes": [
        {
         "name": "x_axis",
         "orient": "bottom",
         "scale": "xscale",
         "zindex": 100
        },
        {
         "name": "y_axis",
         "orient": "left",
         "scale": "yscale",
         "zindex": 100
        }
       ],
       "background": "white",
       "data": [
        {
         "name": "distributions",
         "transform": [
          {
           "sort": {
            "field": [
             "trajectory",
             "timepoint"
            ]
           },
           "type": "collect"
          }
         ],
         "values": [
          {
           "lower": -1.7066158745788718,
           "timepoint": 0,
           "trajectory": "Example",
           "upper": 1.3580715675053818
          },
          {
           "lower": -1.677940087468344,
           "timepoint": 1,
           "trajectory": "Example",
           "upper": 1.8298647121371099
          },
          {
           "lower": -2.0982343670529997,
           "timepoint": 2,
           "trajectory": "Example",
           "upper": 1.9903027807520408
          },
          {
           "lower": -2.223799056467851,
           "timepoint": 3,
           "trajectory": "Example",
           "upper": 1.7356338673466805
          },
          {
           "lower": -2.019339618514605,
           "timepoint": 4,
           "trajectory": "Example",
           "upper": 1.5929475927279557
          },
          {
           "lower": -1.7115646157228375,
           "timepoint": 5,
           "trajectory": "Example",
           "upper": 1.900252589798725
          },
          {
           "lower": -1.6957604356631535,
           "timepoint": 6,
           "trajectory": "Example",
           "upper": 2.8472929574001578
          },
          {
           "lower": -1.5723711107774638,
           "timepoint": 7,
           "trajectory": "Example",
           "upper": 3.594515980819233
          },
          {
           "lower": -1.4854056570967535,
           "timepoint": 8,
           "trajectory": "Example",
           "upper": 3.8682948025940154
          },
          {
           "lower": -1.3055501410679216,
           "timepoint": 9,
           "trajectory": "Example",
           "upper": 4.138810812135921
          },
          {
           "lower": -1.1492680894842504,
           "timepoint": 10,
           "trajectory": "Example",
           "upper": 4.409356644067232
          },
          {
           "lower": -1.1996413026369697,
           "timepoint": 11,
           "trajectory": "Example",
           "upper": 3.9283308489373585
          },
          {
           "lower": -1.1567625486429765,
           "timepoint": 12,
           "trajectory": "Example",
           "upper": 3.7010129394815765
          },
          {
           "lower": -0.922426745574978,
           "timepoint": 13,
           "trajectory": "Example",
           "upper": 4.014233656775768
          },
          {
           "lower": -0.9986498955316025,
           "timepoint": 14,
           "trajectory": "Example",
           "upper": 4.213265645042801
          },
          {
           "lower": -0.8569807649598997,
           "timepoint": 15,
           "trajectory": "Example",
           "upper": 4.310138321874921
          },
          {
           "lower": -0.8190620986555923,
           "timepoint": 16,
           "trajectory": "Example",
           "upper": 4.396164275100789
          },
          {
           "lower": -0.6430782656759725,
           "timepoint": 17,
           "trajectory": "Example",
           "upper": 4.750049746540571
          },
          {
           "lower": -0.3685973054486507,
           "timepoint": 18,
           "trajectory": "Example",
           "upper": 4.8569194965845695
          },
          {
           "lower": -0.4488879063478778,
           "timepoint": 19,
           "trajectory": "Example",
           "upper": 4.929949277917924
          },
          {
           "lower": -0.6765604658422385,
           "timepoint": 20,
           "trajectory": "Example",
           "upper": 4.873423048053558
          },
          {
           "lower": -0.6883871225306741,
           "timepoint": 21,
           "trajectory": "Example",
           "upper": 5.03883023723149
          },
          {
           "lower": -0.4323137762685297,
           "timepoint": 22,
           "trajectory": "Example",
           "upper": 5.061621852661217
          },
          {
           "lower": -0.7569368892234153,
           "timepoint": 23,
           "trajectory": "Example",
           "upper": 4.772359050302853
          },
          {
           "lower": -0.4930412429397321,
           "timepoint": 24,
           "trajectory": "Example",
           "upper": 4.6604851140358425
          },
          {
           "lower": -0.38894801296850323,
           "timepoint": 25,
           "trajectory": "Example",
           "upper": 4.473453662979504
          },
          {
           "lower": -0.30847085711955236,
           "timepoint": 26,
           "trajectory": "Example",
           "upper": 4.069129906550224
          },
          {
           "lower": -0.2243193343296826,
           "timepoint": 27,
           "trajectory": "Example",
           "upper": 4.399828740559273
          },
          {
           "lower": -0.4161454229519168,
           "timepoint": 28,
           "trajectory": "Example",
           "upper": 4.301518756049192
          },
          {
           "lower": -0.5322296846056416,
           "timepoint": 29,
           "trajectory": "Example",
           "upper": 4.356046894382686
          },
          {
           "lower": -0.6680062098294424,
           "timepoint": 30,
           "trajectory": "Example",
           "upper": 4.556920282678538
          },
          {
           "lower": -0.776722908848273,
           "timepoint": 31,
           "trajectory": "Example",
           "upper": 4.49355688256326
          },
          {
           "lower": -0.7711968742532715,
           "timepoint": 32,
           "trajectory": "Example",
           "upper": 4.510932295733966
          },
          {
           "lower": -0.6510186644052046,
           "timepoint": 33,
           "trajectory": "Example",
           "upper": 4.583211535010864
          },
          {
           "lower": -0.30461739667553156,
           "timepoint": 34,
           "trajectory": "Example",
           "upper": 4.810769503304246
          },
          {
           "lower": -0.28299794487778995,
           "timepoint": 35,
           "trajectory": "Example",
           "upper": 4.885871388154636
          },
          {
           "lower": -0.46609377489522885,
           "timepoint": 36,
           "trajectory": "Example",
           "upper": 4.530148958418197
          },
          {
           "lower": -0.46954711966515933,
           "timepoint": 37,
           "trajectory": "Example",
           "upper": 4.5889190310333525
          },
          {
           "lower": -0.5519645045688369,
           "timepoint": 38,
           "trajectory": "Example",
           "upper": 4.6197050770137205
          },
          {
           "lower": -0.5233034923957117,
           "timepoint": 39,
           "trajectory": "Example",
           "upper": 4.7464626217006
          },
          {
           "lower": -0.27487468027006934,
           "timepoint": 40,
           "trajectory": "Example",
           "upper": 4.889529374200314
          },
          {
           "lower": -0.45428648500831187,
           "timepoint": 41,
           "trajectory": "Example",
           "upper": 5.129342792554955
          },
          {
           "lower": -0.2986512479534045,
           "timepoint": 42,
           "trajectory": "Example",
           "upper": 5.560891082705102
          },
          {
           "lower": -0.1072234289917873,
           "timepoint": 43,
           "trajectory": "Example",
           "upper": 5.598364486217472
          },
          {
           "lower": -0.2472967168304947,
           "timepoint": 44,
           "trajectory": "Example",
           "upper": 5.586609462456703
          },
          {
           "lower": -0.2566386229941051,
           "timepoint": 45,
           "trajectory": "Example",
           "upper": 5.625584545955306
          },
          {
           "lower": -0.31169264969745963,
           "timepoint": 46,
           "trajectory": "Example",
           "upper": 5.608652439269359
          },
          {
           "lower": -0.12210184329531514,
           "timepoint": 47,
           "trajectory": "Example",
           "upper": 5.535698256081769
          },
          {
           "lower": 0.19340858612315698,
           "timepoint": 48,
           "trajectory": "Example",
           "upper": 5.2929536394465
          },
          {
           "lower": 0.2491027282935684,
           "timepoint": 49,
           "trajectory": "Example",
           "upper": 5.1570634681242105
          },
          {
           "lower": 0.028778581567872427,
           "timepoint": 50,
           "trajectory": "Example",
           "upper": 4.811857689926272
          },
          {
           "lower": -0.061501734237933606,
           "timepoint": 51,
           "trajectory": "Example",
           "upper": 4.749277180315727
          },
          {
           "lower": -0.060898918490499415,
           "timepoint": 52,
           "trajectory": "Example",
           "upper": 4.654879492723474
          },
          {
           "lower": -0.11706981641008195,
           "timepoint": 53,
           "trajectory": "Example",
           "upper": 4.575842073841485
          },
          {
           "lower": -0.25138294073314144,
           "timepoint": 54,
           "trajectory": "Example",
           "upper": 4.577845300158815
          },
          {
           "lower": -0.43092936953567246,
           "timepoint": 55,
           "trajectory": "Example",
           "upper": 4.818689612369762
          },
          {
           "lower": -0.4323196988939624,
           "timepoint": 56,
           "trajectory": "Example",
           "upper": 4.783118905171258
          },
          {
           "lower": -0.43001517618015106,
           "timepoint": 57,
           "trajectory": "Example",
           "upper": 4.900140888264823
          },
          {
           "lower": -0.314441504880646,
           "timepoint": 58,
           "trajectory": "Example",
           "upper": 4.839065817440818
          },
          {
           "lower": -0.4482097915497478,
           "timepoint": 59,
           "trajectory": "Example",
           "upper": 5.0895217798551355
          },
          {
           "lower": -0.3844116192993897,
           "timepoint": 60,
           "trajectory": "Example",
           "upper": 4.815213723164471
          },
          {
           "lower": -0.5273622513264702,
           "timepoint": 61,
           "trajectory": "Example",
           "upper": 4.7475130544117246
          },
          {
           "lower": -0.19074675880284356,
           "timepoint": 62,
           "trajectory": "Example",
           "upper": 4.988635806194363
          },
          {
           "lower": -0.13786671845355802,
           "timepoint": 63,
           "trajectory": "Example",
           "upper": 4.793787959672121
          },
          {
           "lower": 0.11043197501589472,
           "timepoint": 64,
           "trajectory": "Example",
           "upper": 4.902577041195037
          },
          {
           "lower": 0.24377098702686434,
           "timepoint": 65,
           "trajectory": "Example",
           "upper": 5.21239747491495
          },
          {
           "lower": 0.21685783612231618,
           "timepoint": 66,
           "trajectory": "Example",
           "upper": 5.2864421334347345
          },
          {
           "lower": 0.13006265682149631,
           "timepoint": 67,
           "trajectory": "Example",
           "upper": 5.522284905310209
          },
          {
           "lower": 0.28968433196967,
           "timepoint": 68,
           "trajectory": "Example",
           "upper": 5.66622758905446
          },
          {
           "lower": 0.42914468605356965,
           "timepoint": 69,
           "trajectory": "Example",
           "upper": 5.787928478519697
          },
          {
           "lower": 0.3530425469515568,
           "timepoint": 70,
           "trajectory": "Example",
           "upper": 5.6969292744270446
          },
          {
           "lower": 0.18572921199796205,
           "timepoint": 71,
           "trajectory": "Example",
           "upper": 5.643878672092715
          },
          {
           "lower": 0.19344319276211613,
           "timepoint": 72,
           "trajectory": "Example",
           "upper": 5.616353018876982
          },
          {
           "lower": -0.17143085429310795,
           "timepoint": 73,
           "trajectory": "Example",
           "upper": 5.885663527333204
          },
          {
           "lower": 0.01879251659610432,
           "timepoint": 74,
           "trajectory": "Example",
           "upper": 5.505394215257782
          },
          {
           "lower": 0.1373452005337938,
           "timepoint": 75,
           "trajectory": "Example",
           "upper": 5.3321866132372095
          },
          {
           "lower": 0.24527171129797215,
           "timepoint": 76,
           "trajectory": "Example",
           "upper": 5.041010036321462
          },
          {
           "lower": 0.3294596075653855,
           "timepoint": 77,
           "trajectory": "Example",
           "upper": 5.07227419095142
          },
          {
           "lower": 0.3870259175252355,
           "timepoint": 78,
           "trajectory": "Example",
           "upper": 5.051454803233358
          },
          {
           "lower": 0.1754780929462715,
           "timepoint": 79,
           "trajectory": "Example",
           "upper": 5.121756767251114
          },
          {
           "lower": -0.023123744223735997,
           "timepoint": 80,
           "trajectory": "Example",
           "upper": 4.8094758516446
          },
          {
           "lower": -0.15017018120557232,
           "timepoint": 81,
           "trajectory": "Example",
           "upper": 4.784729631586797
          },
          {
           "lower": -0.18689240096505053,
           "timepoint": 82,
           "trajectory": "Example",
           "upper": 4.363375010959824
          },
          {
           "lower": -0.07758423965166217,
           "timepoint": 83,
           "trajectory": "Example",
           "upper": 4.604945490833349
          },
          {
           "lower": 0.1450778328179447,
           "timepoint": 84,
           "trajectory": "Example",
           "upper": 4.62731822046773
          },
          {
           "lower": 0.3845384708991062,
           "timepoint": 85,
           "trajectory": "Example",
           "upper": 4.908466129019561
          },
          {
           "lower": 0.3774971881404867,
           "timepoint": 86,
           "trajectory": "Example",
           "upper": 5.023340732400356
          },
          {
           "lower": 0.0696504651182223,
           "timepoint": 87,
           "trajectory": "Example",
           "upper": 5.08777026597242
          },
          {
           "lower": 0.1563590164864061,
           "timepoint": 88,
           "trajectory": "Example",
           "upper": 5.1592721641277475
          },
          {
           "lower": 0.06611044128534364,
           "timepoint": 89,
           "trajectory": "Example",
           "upper": 5.316662059258778
          },
          {
           "lower": 0.11181581381996746,
           "timepoint": 90,
           "trajectory": "Example",
           "upper": 5.247631937438285
          },
          {
           "lower": -0.0265819331525914,
           "timepoint": 91,
           "trajectory": "Example",
           "upper": 5.349007295195395
          },
          {
           "lower": 0.2103164959980067,
           "timepoint": 92,
           "trajectory": "Example",
           "upper": 5.762724837563592
          },
          {
           "lower": 0.34755239844378655,
           "timepoint": 93,
           "trajectory": "Example",
           "upper": 5.939818705683482
          },
          {
           "lower": 0.5856459706815527,
           "timepoint": 94,
           "trajectory": "Example",
           "upper": 5.951381105464803
          },
          {
           "lower": 0.451935880890996,
           "timepoint": 95,
           "trajectory": "Example",
           "upper": 6.011059719107098
          },
          {
           "lower": 0.616450606644295,
           "timepoint": 96,
           "trajectory": "Example",
           "upper": 5.974106326296582
          },
          {
           "lower": 0.8193438777553008,
           "timepoint": 97,
           "trajectory": "Example",
           "upper": 5.807293867799592
          },
          {
           "lower": 0.6103066023932947,
           "timepoint": 98,
           "trajectory": "Example",
           "upper": 5.946892855891114
          },
          {
           "lower": 0.41120894523208595,
           "timepoint": 99,
           "trajectory": "Example",
           "upper": 5.879991827361616
          }
         ]
        },
        {
         "name": "traces",
         "transform": [
          {
           "expr": "isValid(datum.value)",
           "type": "filter"
          },
          {
           "sort": {
            "field": [
             "trajectory",
             "timepoint"
            ]
           },
           "type": "collect"
          }
         ],
         "values": [
          {
           "color_by": "Trajectory Mean",
           "sample_id": 0,
           "timepoint": 0,
           "trajectory": "Baseline_Trajectory_Mean",
           "value": -0.26399932878202503
          },
          {
           "color_by": "Trajectory Mean",
           "sample_id": 0,
           "timepoint": 1,
           "trajectory": "Baseline_Trajectory_Mean",
           "value": 0.19953842070663294
          },
          {
           "color_by": "Trajectory Mean",
           "sample_id": 0,
           "timepoint": 2,
           "trajectory": "Baseline_Trajectory_Mean",
           "value": -0.037332550232654485
          },
          {
           "color_by": "Trajectory Mean",
           "sample_id": 0,
           "timepoint": 3,
           "trajectory": "Baseline_Trajectory_Mean",
           "value": -0.15424300494869578
          },
          {
           "color_by": "Trajectory Mean",
           "sample_id": 0,
           "timepoint": 4,
           "trajectory": "Baseline_Trajectory_Mean",
           "value": -0.10541898418606849
          },
          {
           "color_by": "Trajectory Mean",
           "sample_id": 0,
           "timepoint": 5,
           "trajectory": "Baseline_Trajectory_Mean",
           "value": 0.07752307694406833
          },
          {
           "color_by": "Trajectory Mean",
           "sample_id": 0,
           "timepoint": 6,
           "trajectory": "Baseline_Trajectory_Mean",
           "value": 0.32685243195044994
          },
          {
           "color_by": "Trajectory Mean",
           "sample_id": 0,
           "timepoint": 7,
           "trajectory": "Baseline_Trajectory_Mean",
           "value": 0.5752992587817832
          },
          {
           "color_by": "Trajectory Mean",
           "sample_id": 0,
           "timepoint": 8,
           "trajectory": "Baseline_Trajectory_Mean",
           "value": 0.7821286595856112
          },
          {
           "color_by": "Trajectory Mean",
           "sample_id": 0,
           "timepoint": 9,
           "trajectory": "Baseline_Trajectory_Mean",
           "value": 0.9411833881838512
          },
          {
           "color_by": "Trajectory Mean",
           "sample_id": 0,
           "timepoint": 10,
           "trajectory": "Baseline_Trajectory_Mean",
           "value": 1.0719925869689357
          },
          {
           "color_by": "Trajectory Mean",
           "sample_id": 0,
           "timepoint": 11,
           "trajectory": "Baseline_Trajectory_Mean",
           "value": 1.2024093109628273
          },
          {
           "color_by": "Trajectory Mean",
           "sample_id": 0,
           "timepoint": 12,
           "trajectory": "Baseline_Trajectory_Mean",
           "value": 1.3529517325799962
          },
          {
           "color_by": "Trajectory Mean",
           "sample_id": 0,
           "timepoint": 13,
           "trajectory": "Baseline_Trajectory_Mean",
           "value": 1.529220555201463
          },
          {
           "color_by": "Trajectory Mean",
           "sample_id": 0,
           "timepoint": 14,
           "trajectory": "Baseline_Trajectory_Mean",
           "value": 1.7228235711562958
          },
          {
           "color_by": "Trajectory Mean",
           "sample_id": 0,
           "timepoint": 15,
           "trajectory": "Baseline_Trajectory_Mean",
           "value": 1.9170504704840114
          },
          {
           "color_by": "Trajectory Mean",
           "sample_id": 0,
           "timepoint": 16,
           "trajectory": "Baseline_Trajectory_Mean",
           "value": 2.0929767150285135
          },
          {
           "color_by": "Trajectory Mean",
           "sample_id": 0,
           "timepoint": 17,
           "trajectory": "Baseline_Trajectory_Mean",
           "value": 2.2338091873454973
          },
          {
           "color_by": "Trajectory Mean",
           "sample_id": 0,
           "timepoint": 18,
           "trajectory": "Baseline_Trajectory_Mean",
           "value": 2.3276494270195047
          },
          {
           "color_by": "Trajectory Mean",
           "sample_id": 0,
           "timepoint": 19,
           "trajectory": "Baseline_Trajectory_Mean",
           "value": 2.3695410989307257
          },
          {
           "color_by": "Trajectory Mean",
           "sample_id": 0,
           "timepoint": 20,
           "trajectory": "Baseline_Trajectory_Mean",
           "value": 2.3626873766979877
          },
          {
           "color_by": "Trajectory Mean",
           "sample_id": 0,
           "timepoint": 21,
           "trajectory": "Baseline_Trajectory_Mean",
           "value": 2.3176359062460774
          },
          {
           "color_by": "Trajectory Mean",
           "sample_id": 0,
           "timepoint": 22,
           "trajectory": "Baseline_Trajectory_Mean",
           "value": 2.2485911992175436
          },
          {
           "color_by": "Trajectory Mean",
           "sample_id": 0,
           "timepoint": 23,
           "trajectory": "Baseline_Trajectory_Mean",
           "value": 2.1679203720238993
          },
          {
           "color_by": "Trajectory Mean",
           "sample_id": 0,
           "timepoint": 24,
           "trajectory": "Baseline_Trajectory_Mean",
           "value": 2.081842538132944
          },
          {
           "color_by": "Trajectory Mean",
           "sample_id": 0,
           "timepoint": 25,
           "trajectory": "Baseline_Trajectory_Mean",
           "value": 1.9903491382783318
          },
          {
           "color_by": "Trajectory Mean",
           "sample_id": 0,
           "timepoint": 26,
           "trajectory": "Baseline_Trajectory_Mean",
           "value": 1.8919995633895046
          },
          {
           "color_by": "Trajectory Mean",
           "sample_id": 0,
           "timepoint": 27,
           "trajectory": "Baseline_Trajectory_Mean",
           "value": 1.790772902925892
          },
          {
           "color_by": "Trajectory Mean",
           "sample_id": 0,
           "timepoint": 28,
           "trajectory": "Baseline_Trajectory_Mean",
           "value": 1.7001424026857301
          },
          {
           "color_by": "Trajectory Mean",
           "sample_id": 0,
           "timepoint": 29,
           "trajectory": "Baseline_Trajectory_Mean",
           "value": 1.6407340244957174
          },
          {
           "color_by": "Trajectory Mean",
           "sample_id": 0,
           "timepoint": 30,
           "trajectory": "Baseline_Trajectory_Mean",
           "value": 1.6318979679297378
          },
          {
           "color_by": "Trajectory Mean",
           "sample_id": 0,
           "timepoint": 31,
           "trajectory": "Baseline_Trajectory_Mean",
           "value": 1.6817400986739137
          },
          {
           "color_by": "Trajectory Mean",
           "sample_id": 0,
           "timepoint": 32,
           "trajectory": "Baseline_Trajectory_Mean",
           "value": 1.7817009510504616
          },
          {
           "color_by": "Trajectory Mean",
           "sample_id": 0,
           "timepoint": 33,
           "trajectory": "Baseline_Trajectory_Mean",
           "value": 1.9093829923499102
          },
          {
           "color_by": "Trajectory Mean",
           "sample_id": 0,
           "timepoint": 34,
           "trajectory": "Baseline_Trajectory_Mean",
           "value": 2.0384151805113824
          },
          {
           "color_by": "Trajectory Mean",
           "sample_id": 0,
           "timepoint": 35,
           "trajectory": "Baseline_Trajectory_Mean",
           "value": 2.149881911177927
          },
          {
           "color_by": "Trajectory Mean",
           "sample_id": 0,
           "timepoint": 36,
           "trajectory": "Baseline_Trajectory_Mean",
           "value": 2.239018726515387
          },
          {
           "color_by": "Trajectory Mean",
           "sample_id": 0,
           "timepoint": 37,
           "trajectory": "Baseline_Trajectory_Mean",
           "value": 2.3139713783437217
          },
          {
           "color_by": "Trajectory Mean",
           "sample_id": 0,
           "timepoint": 38,
           "trajectory": "Baseline_Trajectory_Mean",
           "value": 2.3882889996023295
          },
          {
           "color_by": "Trajectory Mean",
           "sample_id": 0,
           "timepoint": 39,
           "trajectory": "Baseline_Trajectory_Mean",
           "value": 2.4722306794528484
          },
          {
           "color_by": "Trajectory Mean",
           "sample_id": 0,
           "timepoint": 40,
           "trajectory": "Baseline_Trajectory_Mean",
           "value": 2.5678160881847867
          },
          {
           "color_by": "Trajectory Mean",
           "sample_id": 0,
           "timepoint": 41,
           "trajectory": "Baseline_Trajectory_Mean",
           "value": 2.669302179148419
          },
          {
           "color_by": "Trajectory Mean",
           "sample_id": 0,
           "timepoint": 42,
           "trajectory": "Baseline_Trajectory_Mean",
           "value": 2.766977053494369
          },
          {
           "color_by": "Trajectory Mean",
           "sample_id": 0,
           "timepoint": 43,
           "trajectory": "Baseline_Trajectory_Mean",
           "value": 2.8505562009166128
          },
          {
           "color_by": "Trajectory Mean",
           "sample_id": 0,
           "timepoint": 44,
           "trajectory": "Baseline_Trajectory_Mean",
           "value": 2.909958688544816
          },
          {
           "color_by": "Trajectory Mean",
           "sample_id": 0,
           "timepoint": 45,
           "trajectory": "Baseline_Trajectory_Mean",
           "value": 2.93434256719546
          },
          {
           "color_by": "Trajectory Mean",
           "sample_id": 0,
           "timepoint": 46,
           "trajectory": "Baseline_Trajectory_Mean",
           "value": 2.9123162469441386
          },
          {
           "color_by": "Trajectory Mean",
           "sample_id": 0,
           "timepoint": 47,
           "trajectory": "Baseline_Trajectory_Mean",
           "value": 2.8354519206247253
          },
          {
           "color_by": "Trajectory Mean",
           "sample_id": 0,
           "timepoint": 48,
           "trajectory": "Baseline_Trajectory_Mean",
           "value": 2.7041460795806134
          },
          {
           "color_by": "Trajectory Mean",
           "sample_id": 0,
           "timepoint": 49,
           "trajectory": "Baseline_Trajectory_Mean",
           "value": 2.5319704531650666
          },
          {
           "color_by": "Trajectory Mean",
           "sample_id": 0,
           "timepoint": 50,
           "trajectory": "Baseline_Trajectory_Mean",
           "value": 2.3444572292352954
          },
          {
           "color_by": "Trajectory Mean",
           "sample_id": 0,
           "timepoint": 51,
           "trajectory": "Baseline_Trajectory_Mean",
           "value": 2.1713482977974268
          },
          {
           "color_by": "Trajectory Mean",
           "sample_id": 0,
           "timepoint": 52,
           "trajectory": "Baseline_Trajectory_Mean",
           "value": 2.03575934208094
          },
          {
           "color_by": "Trajectory Mean",
           "sample_id": 0,
           "timepoint": 53,
           "trajectory": "Baseline_Trajectory_Mean",
           "value": 1.9462935383666051
          },
          {
           "color_by": "Trajectory Mean",
           "sample_id": 0,
           "timepoint": 54,
           "trajectory": "Baseline_Trajectory_Mean",
           "value": 1.8968012061601907
          },
          {
           "color_by": "Trajectory Mean",
           "sample_id": 0,
           "timepoint": 55,
           "trajectory": "Baseline_Trajectory_Mean",
           "value": 1.8738469957684063
          },
          {
           "color_by": "Trajectory Mean",
           "sample_id": 0,
           "timepoint": 56,
           "trajectory": "Baseline_Trajectory_Mean",
           "value": 1.8670555214568498
          },
          {
           "color_by": "Trajectory Mean",
           "sample_id": 0,
           "timepoint": 57,
           "trajectory": "Baseline_Trajectory_Mean",
           "value": 1.87573486461498
          },
          {
           "color_by": "Trajectory Mean",
           "sample_id": 0,
           "timepoint": 58,
           "trajectory": "Baseline_Trajectory_Mean",
           "value": 1.9078247286716181
          },
          {
           "color_by": "Trajectory Mean",
           "sample_id": 0,
           "timepoint": 59,
           "trajectory": "Baseline_Trajectory_Mean",
           "value": 1.9725076585184809
          },
          {
           "color_by": "Trajectory Mean",
           "sample_id": 0,
           "timepoint": 60,
           "trajectory": "Baseline_Trajectory_Mean",
           "value": 2.0720902249870723
          },
          {
           "color_by": "Trajectory Mean",
           "sample_id": 0,
           "timepoint": 61,
           "trajectory": "Baseline_Trajectory_Mean",
           "value": 2.1990173207897366
          },
          {
           "color_by": "Trajectory Mean",
           "sample_id": 0,
           "timepoint": 62,
           "trajectory": "Baseline_Trajectory_Mean",
           "value": 2.339960517913355
          },
          {
           "color_by": "Trajectory Mean",
           "sample_id": 0,
           "timepoint": 63,
           "trajectory": "Baseline_Trajectory_Mean",
           "value": 2.4836421261288564
          },
          {
           "color_by": "Trajectory Mean",
           "sample_id": 0,
           "timepoint": 64,
           "trajectory": "Baseline_Trajectory_Mean",
           "value": 2.6262511238245936
          },
          {
           "color_by": "Trajectory Mean",
           "sample_id": 0,
           "timepoint": 65,
           "trajectory": "Baseline_Trajectory_Mean",
           "value": 2.7700718536841387
          },
          {
           "color_by": "Trajectory Mean",
           "sample_id": 0,
           "timepoint": 66,
           "trajectory": "Baseline_Trajectory_Mean",
           "value": 2.916089690598887
          },
          {
           "color_by": "Trajectory Mean",
           "sample_id": 0,
           "timepoint": 67,
           "trajectory": "Baseline_Trajectory_Mean",
           "value": 3.0561613263401437
          },
          {
           "color_by": "Trajectory Mean",
           "sample_id": 0,
           "timepoint": 68,
           "trajectory": "Baseline_Trajectory_Mean",
           "value": 3.171243515222382
          },
          {
           "color_by": "Trajectory Mean",
           "sample_id": 0,
           "timepoint": 69,
           "trajectory": "Baseline_Trajectory_Mean",
           "value": 3.2382738502241564
          },
          {
           "color_by": "Trajectory Mean",
           "sample_id": 0,
           "timepoint": 70,
           "trajectory": "Baseline_Trajectory_Mean",
           "value": 3.242148207228273
          },
          {
           "color_by": "Trajectory Mean",
           "sample_id": 0,
           "timepoint": 71,
           "trajectory": "Baseline_Trajectory_Mean",
           "value": 3.1851426960245326
          },
          {
           "color_by": "Trajectory Mean",
           "sample_id": 0,
           "timepoint": 72,
           "trajectory": "Baseline_Trajectory_Mean",
           "value": 3.087130262696252
          },
          {
           "color_by": "Trajectory Mean",
           "sample_id": 0,
           "timepoint": 73,
           "trajectory": "Baseline_Trajectory_Mean",
           "value": 2.975637058229644
          },
          {
           "color_by": "Trajectory Mean",
           "sample_id": 0,
           "timepoint": 74,
           "trajectory": "Baseline_Trajectory_Mean",
           "value": 2.8714764378243975
          },
          {
           "color_by": "Trajectory Mean",
           "sample_id": 0,
           "timepoint": 75,
           "trajectory": "Baseline_Trajectory_Mean",
           "value": 2.7788686340022477
          },
          {
           "color_by": "Trajectory Mean",
           "sample_id": 0,
           "timepoint": 76,
           "trajectory": "Baseline_Trajectory_Mean",
           "value": 2.6863431938105133
          },
          {
           "color_by": "Trajectory Mean",
           "sample_id": 0,
           "timepoint": 77,
           "trajectory": "Baseline_Trajectory_Mean",
           "value": 2.577917019253339
          },
          {
           "color_by": "Trajectory Mean",
           "sample_id": 0,
           "timepoint": 78,
           "trajectory": "Baseline_Trajectory_Mean",
           "value": 2.44745610242616
          },
          {
           "color_by": "Trajectory Mean",
           "sample_id": 0,
           "timepoint": 79,
           "trajectory": "Baseline_Trajectory_Mean",
           "value": 2.3070613628516714
          },
          {
           "color_by": "Trajectory Mean",
           "sample_id": 0,
           "timepoint": 80,
           "trajectory": "Baseline_Trajectory_Mean",
           "value": 2.1840926809689827
          },
          {
           "color_by": "Trajectory Mean",
           "sample_id": 0,
           "timepoint": 81,
           "trajectory": "Baseline_Trajectory_Mean",
           "value": 2.1085668123841286
          },
          {
           "color_by": "Trajectory Mean",
           "sample_id": 0,
           "timepoint": 82,
           "trajectory": "Baseline_Trajectory_Mean",
           "value": 2.0985312680469246
          },
          {
           "color_by": "Trajectory Mean",
           "sample_id": 0,
           "timepoint": 83,
           "trajectory": "Baseline_Trajectory_Mean",
           "value": 2.151976507407871
          },
          {
           "color_by": "Trajectory Mean",
           "sample_id": 0,
           "timepoint": 84,
           "trajectory": "Baseline_Trajectory_Mean",
           "value": 2.2495365277178005
          },
          {
           "color_by": "Trajectory Mean",
           "sample_id": 0,
           "timepoint": 85,
           "trajectory": "Baseline_Trajectory_Mean",
           "value": 2.3656382561796203
          },
          {
           "color_by": "Trajectory Mean",
           "sample_id": 0,
           "timepoint": 86,
           "trajectory": "Baseline_Trajectory_Mean",
           "value": 2.481120718858639
          },
          {
           "color_by": "Trajectory Mean",
           "sample_id": 0,
           "timepoint": 87,
           "trajectory": "Baseline_Trajectory_Mean",
           "value": 2.590311887812038
          },
          {
           "color_by": "Trajectory Mean",
           "sample_id": 0,
           "timepoint": 88,
           "trajectory": "Baseline_Trajectory_Mean",
           "value": 2.6996350053635405
          },
          {
           "color_by": "Trajectory Mean",
           "sample_id": 0,
           "timepoint": 89,
           "trajectory": "Baseline_Trajectory_Mean",
           "value": 2.8200011426842666
          },
          {
           "color_by": "Trajectory Mean",
           "sample_id": 0,
           "timepoint": 90,
           "trajectory": "Baseline_Trajectory_Mean",
           "value": 2.9582149446123642
          },
          {
           "color_by": "Trajectory Mean",
           "sample_id": 0,
           "timepoint": 91,
           "trajectory": "Baseline_Trajectory_Mean",
           "value": 3.111956620851219
          },
          {
           "color_by": "Trajectory Mean",
           "sample_id": 0,
           "timepoint": 92,
           "trajectory": "Baseline_Trajectory_Mean",
           "value": 3.269758461112814
          },
          {
           "color_by": "Trajectory Mean",
           "sample_id": 0,
           "timepoint": 93,
           "trajectory": "Baseline_Trajectory_Mean",
           "value": 3.414335010626497
          },
          {
           "color_by": "Trajectory Mean",
           "sample_id": 0,
           "timepoint": 94,
           "trajectory": "Baseline_Trajectory_Mean",
           "value": 3.526637033665454
          },
          {
           "color_by": "Trajectory Mean",
           "sample_id": 0,
           "timepoint": 95,
           "trajectory": "Baseline_Trajectory_Mean",
           "value": 3.5891600627813895
          },
          {
           "color_by": "Trajectory Mean",
           "sample_id": 0,
           "timepoint": 96,
           "trajectory": "Baseline_Trajectory_Mean",
           "value": 3.588768659140586
          },
          {
           "color_by": "Trajectory Mean",
           "sample_id": 0,
           "timepoint": 97,
           "trajectory": "Baseline_Trajectory_Mean",
           "value": 3.5198409257679026
          },
          {
           "color_by": "Trajectory Mean",
           "sample_id": 0,
           "timepoint": 98,
           "trajectory": "Baseline_Trajectory_Mean",
           "value": 3.387444448013364
          },
          {
           "color_by": "Trajectory Mean",
           "sample_id": 0,
           "timepoint": 99,
           "trajectory": "Baseline_Trajectory_Mean",
           "value": 3.2086991162363963
          },
          {
           "color_by": "Chaos",
           "sample_id": 0,
           "timepoint": 0,
           "trajectory": "Chaos",
           "value": -1.2973811430190652
          },
          {
           "color_by": "Chaos",
           "sample_id": 0,
           "timepoint": 1,
           "trajectory": "Chaos",
           "value": -1.8362875820098645
          },
          {
           "color_by": "Chaos",
           "sample_id": 0,
           "timepoint": 2,
           "trajectory": "Chaos",
           "value": -2.073982878620594
          },
          {
           "color_by": "Chaos",
           "sample_id": 0,
           "timepoint": 3,
           "trajectory": "Chaos",
           "value": -0.9535373912693486
          },
          {
           "color_by": "Chaos",
           "sample_id": 0,
           "timepoint": 4,
           "trajectory": "Chaos",
           "value": 0.8407081648170359
          },
          {
           "color_by": "Chaos",
           "sample_id": 0,
           "timepoint": 5,
           "trajectory": "Chaos",
           "value": 2.0948813701571334
          },
          {
           "color_by": "Chaos",
           "sample_id": 0,
           "timepoint": 6,
           "trajectory": "Chaos",
           "value": 1.9669573300345116
          },
          {
           "color_by": "Chaos",
           "sample_id": 0,
           "timepoint": 7,
           "trajectory": "Chaos",
           "value": 0.6029193925708844
          },
          {
           "color_by": "Chaos",
           "sample_id": 0,
           "timepoint": 8,
           "trajectory": "Chaos",
           "value": -0.9651854642720699
          },
          {
           "color_by": "Chaos",
           "sample_id": 0,
           "timepoint": 9,
           "trajectory": "Chaos",
           "value": -1.563038275138731
          },
          {
           "color_by": "Chaos",
           "sample_id": 0,
           "timepoint": 10,
           "trajectory": "Chaos",
           "value": -0.7213893802315878
          },
          {
           "color_by": "Chaos",
           "sample_id": 0,
           "timepoint": 11,
           "trajectory": "Chaos",
           "value": 0.9856772135525577
          },
          {
           "color_by": "Chaos",
           "sample_id": 0,
           "timepoint": 12,
           "trajectory": "Chaos",
           "value": 2.3561477477806982
          },
          {
           "color_by": "Chaos",
           "sample_id": 0,
           "timepoint": 13,
           "trajectory": "Chaos",
           "value": 2.4290695939550893
          },
          {
           "color_by": "Chaos",
           "sample_id": 0,
           "timepoint": 14,
           "trajectory": "Chaos",
           "value": 1.1792518084912618
          },
          {
           "color_by": "Chaos",
           "sample_id": 0,
           "timepoint": 15,
           "trajectory": "Chaos",
           "value": -0.46428025635179715
          },
          {
           "color_by": "Chaos",
           "sample_id": 0,
           "timepoint": 16,
           "trajectory": "Chaos",
           "value": -1.2893918093702996
          },
          {
           "color_by": "Chaos",
           "sample_id": 0,
           "timepoint": 17,
           "trajectory": "Chaos",
           "value": -0.6765562394495879
          },
          {
           "color_by": "Chaos",
           "sample_id": 0,
           "timepoint": 18,
           "trajectory": "Chaos",
           "value": 0.953613589059159
          },
          {
           "color_by": "Chaos",
           "sample_id": 0,
           "timepoint": 19,
           "trajectory": "Chaos",
           "value": 2.4444101028127583
          },
          {
           "color_by": "Chaos",
           "sample_id": 0,
           "timepoint": 20,
           "trajectory": "Chaos",
           "value": 2.7389557363901615
          },
          {
           "color_by": "Chaos",
           "sample_id": 0,
           "timepoint": 21,
           "trajectory": "Chaos",
           "value": 1.64397720378622
          },
          {
           "color_by": "Chaos",
           "sample_id": 0,
           "timepoint": 22,
           "trajectory": "Chaos",
           "value": -0.03046646747853954
          },
          {
           "color_by": "Chaos",
           "sample_id": 0,
           "timepoint": 23,
           "trajectory": "Chaos",
           "value": -1.0562666917719425
          },
          {
           "color_by": "Chaos",
           "sample_id": 0,
           "timepoint": 24,
           "trajectory": "Chaos",
           "value": -0.6746356744537814
          },
          {
           "color_by": "Chaos",
           "sample_id": 0,
           "timepoint": 25,
           "trajectory": "Chaos",
           "value": 0.8556450858375908
          },
          {
           "color_by": "Chaos",
           "sample_id": 0,
           "timepoint": 26,
           "trajectory": "Chaos",
           "value": 2.4452600354948157
          },
          {
           "color_by": "Chaos",
           "sample_id": 0,
           "timepoint": 27,
           "trajectory": "Chaos",
           "value": 2.9615288803339954
          },
          {
           "color_by": "Chaos",
           "sample_id": 0,
           "timepoint": 28,
           "trajectory": "Chaos",
           "value": 2.0469070865845307
          },
          {
           "color_by": "Chaos",
           "sample_id": 0,
           "timepoint": 29,
           "trajectory": "Chaos",
           "value": 0.377374844845771
          },
          {
           "color_by": "Chaos",
           "sample_id": 0,
           "timepoint": 30,
           "trajectory": "Chaos",
           "value": -0.8259952773666204
          },
          {
           "color_by": "Chaos",
           "sample_id": 0,
           "timepoint": 31,
           "trajectory": "Chaos",
           "value": -0.6793535027903562
          },
          {
           "color_by": "Chaos",
           "sample_id": 0,
           "timepoint": 32,
           "trajectory": "Chaos",
           "value": 0.7252848264125022
          },
          {
           "color_by": "Chaos",
           "sample_id": 0,
           "timepoint": 33,
           "trajectory": "Chaos",
           "value": 2.3865489199226864
          },
          {
           "color_by": "Chaos",
           "sample_id": 0,
           "timepoint": 34,
           "trajectory": "Chaos",
           "value": 3.1173149726008575
          },
          {
           "color_by": "Chaos",
           "sample_id": 0,
           "timepoint": 35,
           "trajectory": "Chaos",
           "value": 2.4025310284072687
          },
          {
           "color_by": "Chaos",
           "sample_id": 0,
           "timepoint": 36,
           "trajectory": "Chaos",
           "value": 0.7714056394612427
          },
          {
           "color_by": "Chaos",
           "sample_id": 0,
           "timepoint": 37,
           "trajectory": "Chaos",
           "value": -0.5849806981053174
          },
          {
           "color_by": "Chaos",
           "sample_id": 0,
           "timepoint": 38,
           "trajectory": "Chaos",
           "value": -0.6743296558457217
          },
          {
           "color_by": "Chaos",
           "sample_id": 0,
           "timepoint": 39,
           "trajectory": "Chaos",
           "value": 0.5798585769619375
          },
          {
           "color_by": "Chaos",
           "sample_id": 0,
           "timepoint": 40,
           "trajectory": "Chaos",
           "value": 2.283018265331775
          },
          {
           "color_by": "Chaos",
           "sample_id": 0,
           "timepoint": 41,
           "trajectory": "Chaos",
           "value": 3.2159361104970556
          },
          {
           "color_by": "Chaos",
           "sample_id": 0,
           "timepoint": 42,
           "trajectory": "Chaos",
           "value": 2.715756784117317
          },
          {
           "color_by": "Chaos",
           "sample_id": 0,
           "timepoint": 43,
           "trajectory": "Chaos",
           "value": 1.1549670718842124
          },
          {
           "color_by": "Chaos",
           "sample_id": 0,
           "timepoint": 44,
           "trajectory": "Chaos",
           "value": -0.32775221803179155
          },
          {
           "color_by": "Chaos",
           "sample_id": 0,
           "timepoint": 45,
           "trajectory": "Chaos",
           "value": -0.6503218269706841
          },
          {
           "color_by": "Chaos",
           "sample_id": 0,
           "timepoint": 46,
           "trajectory": "Chaos",
           "value": 0.4308398070151207
          },
          {
           "color_by": "Chaos",
           "sample_id": 0,
           "timepoint": 47,
           "trajectory": "Chaos",
           "value": 2.144813062285493
          },
          {
           "color_by": "Chaos",
           "sample_id": 0,
           "timepoint": 48,
           "trajectory": "Chaos",
           "value": 3.263245346805147
          },
          {
           "color_by": "Chaos",
           "sample_id": 0,
           "timepoint": 49,
           "trajectory": "Chaos",
           "value": 2.9879570887915956
          },
          {
           "color_by": "Chaos",
           "sample_id": 0,
           "timepoint": 50,
           "trajectory": "Chaos",
           "value": 1.5277070784206845
          },
          {
           "color_by": "Chaos",
           "sample_id": 0,
           "timepoint": 51,
           "trajectory": "Chaos",
           "value": -0.05264978828591316
          },
          {
           "color_by": "Chaos",
           "sample_id": 0,
           "timepoint": 52,
           "trajectory": "Chaos",
           "value": -0.6016146818321044
          },
          {
           "color_by": "Chaos",
           "sample_id": 0,
           "timepoint": 53,
           "trajectory": "Chaos",
           "value": 0.28689435137894925
          },
          {
           "color_by": "Chaos",
           "sample_id": 0,
           "timepoint": 54,
           "trajectory": "Chaos",
           "value": 1.9801148237004675
          },
          {
           "color_by": "Chaos",
           "sample_id": 0,
           "timepoint": 55,
           "trajectory": "Chaos",
           "value": 3.263674400020393
          },
          {
           "color_by": "Chaos",
           "sample_id": 0,
           "timepoint": 56,
           "trajectory": "Chaos",
           "value": 3.21909285143534
          },
          {
           "color_by": "Chaos",
           "sample_id": 0,
           "timepoint": 57,
           "trajectory": "Chaos",
           "value": 1.8874740407764197
          },
          {
           "color_by": "Chaos",
           "sample_id": 0,
           "timepoint": 58,
           "trajectory": "Chaos",
           "value": 0.23980833685634795
          },
          {
           "color_by": "Chaos",
           "sample_id": 0,
           "timepoint": 59,
           "trajectory": "Chaos",
           "value": -0.524655242695905
          },
          {
           "color_by": "Chaos",
           "sample_id": 0,
           "timepoint": 60,
           "trajectory": "Chaos",
           "value": 0.15502468905794897
          },
          {
           "color_by": "Chaos",
           "sample_id": 0,
           "timepoint": 61,
           "trajectory": "Chaos",
           "value": 1.7961524919733036
          },
          {
           "color_by": "Chaos",
           "sample_id": 0,
           "timepoint": 62,
           "trajectory": "Chaos",
           "value": 3.221191445275449
          },
          {
           "color_by": "Chaos",
           "sample_id": 0,
           "timepoint": 63,
           "trajectory": "Chaos",
           "value": 3.408647308523365
          },
          {
           "color_by": "Chaos",
           "sample_id": 0,
           "timepoint": 64,
           "trajectory": "Chaos",
           "value": 2.231196443896687
          },
          {
           "color_by": "Chaos",
           "sample_id": 0,
           "timepoint": 65,
           "trajectory": "Chaos",
           "value": 0.5476918104530843
          },
          {
           "color_by": "Chaos",
           "sample_id": 0,
           "timepoint": 66,
           "trajectory": "Chaos",
           "value": -0.417436109962521
          },
          {
           "color_by": "Chaos",
           "sample_id": 0,
           "timepoint": 67,
           "trajectory": "Chaos",
           "value": 0.04105750440362921
          },
          {
           "color_by": "Chaos",
           "sample_id": 0,
           "timepoint": 68,
           "trajectory": "Chaos",
           "value": 1.5996287913272362
          },
          {
           "color_by": "Chaos",
           "sample_id": 0,
           "timepoint": 69,
           "trajectory": "Chaos",
           "value": 3.1397382568120604
          },
          {
           "color_by": "Chaos",
           "sample_id": 0,
           "timepoint": 70,
           "trajectory": "Chaos",
           "value": 3.556102532867291
          },
          {
           "color_by": "Chaos",
           "sample_id": 0,
           "timepoint": 71,
           "trajectory": "Chaos",
           "value": 2.5553672546582047
          },
          {
           "color_by": "Chaos",
           "sample_id": 0,
           "timepoint": 72,
           "trajectory": "Chaos",
           "value": 0.8680851088463437
          },
          {
           "color_by": "Chaos",
           "sample_id": 0,
           "timepoint": 73,
           "trajectory": "Chaos",
           "value": -0.27917493506924806
          },
          {
           "color_by": "Chaos",
           "sample_id": 0,
           "timepoint": 74,
           "trajectory": "Chaos",
           "value": -0.050136686709205014
          },
          {
           "color_by": "Chaos",
           "sample_id": 0,
           "timepoint": 75,
           "trajectory": "Chaos",
           "value": 1.39689721768752
          },
          {
           "color_by": "Chaos",
           "sample_id": 0,
           "timepoint": 76,
           "trajectory": "Chaos",
           "value": 3.023435549120083
          },
          {
           "color_by": "Chaos",
           "sample_id": 0,
           "timepoint": 77,
           "trajectory": "Chaos",
           "value": 3.661207347303147
          },
          {
           "color_by": "Chaos",
           "sample_id": 0,
           "timepoint": 78,
           "trajectory": "Chaos",
           "value": 2.8563487314852485
          },
          {
           "color_by": "Chaos",
           "sample_id": 0,
           "timepoint": 79,
           "trajectory": "Chaos",
           "value": 1.1973636310268683
          },
          {
           "color_by": "Chaos",
           "sample_id": 0,
           "timepoint": 80,
           "trajectory": "Chaos",
           "value": -0.11012390425685158
          },
          {
           "color_by": "Chaos",
           "sample_id": 0,
           "timepoint": 81,
           "trajectory": "Chaos",
           "value": -0.11454452932268232
          },
          {
           "color_by": "Chaos",
           "sample_id": 0,
           "timepoint": 82,
           "trajectory": "Chaos",
           "value": 1.1940198382591922
          },
          {
           "color_by": "Chaos",
           "sample_id": 0,
           "timepoint": 83,
           "trajectory": "Chaos",
           "value": 2.876670639578624
          },
          {
           "color_by": "Chaos",
           "sample_id": 0,
           "timepoint": 84,
           "trajectory": "Chaos",
           "value": 3.724136134153804
          },
          {
           "color_by": "Chaos",
           "sample_id": 0,
           "timepoint": 85,
           "trajectory": "Chaos",
           "value": 3.1305847614203914
          },
          {
           "color_by": "Chaos",
           "sample_id": 0,
           "timepoint": 86,
           "trajectory": "Chaos",
           "value": 1.5313964158266935
          },
          {
           "color_by": "Chaos",
           "sample_id": 0,
           "timepoint": 87,
           "trajectory": "Chaos",
           "value": 0.08856089194830163
          },
          {
           "color_by": "Chaos",
           "sample_id": 0,
           "timepoint": 88,
           "trajectory": "Chaos",
           "value": -0.14896741145335524
          },
          {
           "color_by": "Chaos",
           "sample_id": 0,
           "timepoint": 89,
           "trajectory": "Chaos",
           "value": 0.996763835919536
          },
          {
           "color_by": "Chaos",
           "sample_id": 0,
           "timepoint": 90,
           "trajectory": "Chaos",
           "value": 2.7041187559200206
          },
          {
           "color_by": "Chaos",
           "sample_id": 0,
           "timepoint": 91,
           "trajectory": "Chaos",
           "value": 3.7455831848916
          },
          {
           "color_by": "Chaos",
           "sample_id": 0,
           "timepoint": 92,
           "trajectory": "Chaos",
           "value": 3.374759638100359
          },
          {
           "color_by": "Chaos",
           "sample_id": 0,
           "timepoint": 93,
           "trajectory": "Chaos",
           "value": 1.8657103842853422
          },
          {
           "color_by": "Chaos",
           "sample_id": 0,
           "timepoint": 94,
           "trajectory": "Chaos",
           "value": 0.31492274841489687
          },
          {
           "color_by": "Chaos",
           "sample_id": 0,
           "timepoint": 95,
           "trajectory": "Chaos",
           "value": -0.1510047406061652
          },
          {
           "color_by": "Chaos",
           "sample_id": 0,
           "timepoint": 96,
           "trajectory": "Chaos",
           "value": 0.8105656057282888
          },
          {
           "color_by": "Chaos",
           "sample_id": 0,
           "timepoint": 97,
           "trajectory": "Chaos",
           "value": 2.510723693597847
          },
          {
           "color_by": "Chaos",
           "sample_id": 0,
           "timepoint": 98,
           "trajectory": "Chaos",
           "value": 3.7268145614761337
          },
          {
           "color_by": "Chaos",
           "sample_id": 0,
           "timepoint": 99,
           "trajectory": "Chaos",
           "value": 3.5859219250695755
          },
          {
           "color_by": "Granger 117/117",
           "sample_id": 0,
           "timepoint": 0,
           "trajectory": "Granger_117/117",
           "value": -1.297381143019065
          },
          {
           "color_by": "Granger 117/117",
           "sample_id": 0,
           "timepoint": 1,
           "trajectory": "Granger_117/117",
           "value": -1.8362875820098645
          },
          {
           "color_by": "Granger 117/117",
           "sample_id": 0,
           "timepoint": 2,
           "trajectory": "Granger_117/117",
           "value": -2.073982878620594
          },
          {
           "color_by": "Granger 117/117",
           "sample_id": 0,
           "timepoint": 3,
           "trajectory": "Granger_117/117",
           "value": -0.9535373912693486
          },
          {
           "color_by": "Granger 117/117",
           "sample_id": 0,
           "timepoint": 4,
           "trajectory": "Granger_117/117",
           "value": 0.8407081648170358
          },
          {
           "color_by": "Granger 117/117",
           "sample_id": 0,
           "timepoint": 5,
           "trajectory": "Granger_117/117",
           "value": 2.0948813701571334
          },
          {
           "color_by": "Granger 117/117",
           "sample_id": 0,
           "timepoint": 6,
           "trajectory": "Granger_117/117",
           "value": 1.9669573300345116
          },
          {
           "color_by": "Granger 117/117",
           "sample_id": 0,
           "timepoint": 7,
           "trajectory": "Granger_117/117",
           "value": 0.6029193925708844
          },
          {
           "color_by": "Granger 117/117",
           "sample_id": 0,
           "timepoint": 8,
           "trajectory": "Granger_117/117",
           "value": -0.9651854642720699
          },
          {
           "color_by": "Granger 117/117",
           "sample_id": 0,
           "timepoint": 9,
           "trajectory": "Granger_117/117",
           "value": -1.563038275138731
          },
          {
           "color_by": "Granger 117/117",
           "sample_id": 0,
           "timepoint": 10,
           "trajectory": "Granger_117/117",
           "value": -0.7213893802315878
          },
          {
           "color_by": "Granger 117/117",
           "sample_id": 0,
           "timepoint": 11,
           "trajectory": "Granger_117/117",
           "value": 0.9856772135525578
          },
          {
           "color_by": "Granger 117/117",
           "sample_id": 0,
           "timepoint": 12,
           "trajectory": "Granger_117/117",
           "value": 2.3561477477806982
          },
          {
           "color_by": "Granger 117/117",
           "sample_id": 0,
           "timepoint": 13,
           "trajectory": "Granger_117/117",
           "value": 2.4290695939550893
          },
          {
           "color_by": "Granger 117/117",
           "sample_id": 0,
           "timepoint": 14,
           "trajectory": "Granger_117/117",
           "value": 1.1792518084912618
          },
          {
           "color_by": "Granger 117/117",
           "sample_id": 0,
           "timepoint": 15,
           "trajectory": "Granger_117/117",
           "value": -0.46428025635179715
          },
          {
           "color_by": "Granger 117/117",
           "sample_id": 0,
           "timepoint": 16,
           "trajectory": "Granger_117/117",
           "value": -1.2893918093702996
          },
          {
           "color_by": "Granger 117/117",
           "sample_id": 0,
           "timepoint": 17,
           "trajectory": "Granger_117/117",
           "value": -0.6765562394495879
          },
          {
           "color_by": "Granger 117/117",
           "sample_id": 0,
           "timepoint": 18,
           "trajectory": "Granger_117/117",
           "value": 0.953613589059159
          },
          {
           "color_by": "Granger 117/117",
           "sample_id": 0,
           "timepoint": 19,
           "trajectory": "Granger_117/117",
           "value": 2.4444101028127583
          },
          {
           "color_by": "Granger 117/117",
           "sample_id": 0,
           "timepoint": 20,
           "trajectory": "Granger_117/117",
           "value": 2.7389557363901615
          },
          {
           "color_by": "Granger 117/117",
           "sample_id": 0,
           "timepoint": 21,
           "trajectory": "Granger_117/117",
           "value": 1.64397720378622
          },
          {
           "color_by": "Granger 117/117",
           "sample_id": 0,
           "timepoint": 22,
           "trajectory": "Granger_117/117",
           "value": -0.03046646747853954
          },
          {
           "color_by": "Granger 117/117",
           "sample_id": 0,
           "timepoint": 23,
           "trajectory": "Granger_117/117",
           "value": -1.0562666917719425
          },
          {
           "color_by": "Granger 117/117",
           "sample_id": 0,
           "timepoint": 24,
           "trajectory": "Granger_117/117",
           "value": -0.6746356744537814
          },
          {
           "color_by": "Granger 117/117",
           "sample_id": 0,
           "timepoint": 25,
           "trajectory": "Granger_117/117",
           "value": 0.8556450858375908
          },
          {
           "color_by": "Granger 117/117",
           "sample_id": 0,
           "timepoint": 26,
           "trajectory": "Granger_117/117",
           "value": 2.4452600354948157
          },
          {
           "color_by": "Granger 117/117",
           "sample_id": 0,
           "timepoint": 27,
           "trajectory": "Granger_117/117",
           "value": 2.961528880333996
          },
          {
           "color_by": "Granger 117/117",
           "sample_id": 0,
           "timepoint": 28,
           "trajectory": "Granger_117/117",
           "value": 2.0469070865845307
          },
          {
           "color_by": "Granger 117/117",
           "sample_id": 0,
           "timepoint": 29,
           "trajectory": "Granger_117/117",
           "value": 0.377374844845771
          },
          {
           "color_by": "Granger 117/117",
           "sample_id": 0,
           "timepoint": 30,
           "trajectory": "Granger_117/117",
           "value": -0.8259952773666204
          },
          {
           "color_by": "Granger 117/117",
           "sample_id": 0,
           "timepoint": 31,
           "trajectory": "Granger_117/117",
           "value": -0.6793535027903561
          },
          {
           "color_by": "Granger 117/117",
           "sample_id": 0,
           "timepoint": 32,
           "trajectory": "Granger_117/117",
           "value": 0.7252848264125022
          },
          {
           "color_by": "Granger 117/117",
           "sample_id": 0,
           "timepoint": 33,
           "trajectory": "Granger_117/117",
           "value": 2.3865489199226864
          },
          {
           "color_by": "Granger 117/117",
           "sample_id": 0,
           "timepoint": 34,
           "trajectory": "Granger_117/117",
           "value": 3.1173149726008575
          },
          {
           "color_by": "Granger 117/117",
           "sample_id": 0,
           "timepoint": 35,
           "trajectory": "Granger_117/117",
           "value": 2.4025310284072687
          },
          {
           "color_by": "Granger 117/117",
           "sample_id": 0,
           "timepoint": 36,
           "trajectory": "Granger_117/117",
           "value": 0.7714056394612427
          },
          {
           "color_by": "Granger 117/117",
           "sample_id": 0,
           "timepoint": 37,
           "trajectory": "Granger_117/117",
           "value": -0.5849806981053174
          },
          {
           "color_by": "Granger 117/117",
           "sample_id": 0,
           "timepoint": 38,
           "trajectory": "Granger_117/117",
           "value": -0.6743296558457217
          },
          {
           "color_by": "Granger 117/117",
           "sample_id": 0,
           "timepoint": 39,
           "trajectory": "Granger_117/117",
           "value": 0.5798585769619375
          },
          {
           "color_by": "Granger 117/117",
           "sample_id": 0,
           "timepoint": 40,
           "trajectory": "Granger_117/117",
           "value": 2.283018265331775
          },
          {
           "color_by": "Granger 117/117",
           "sample_id": 0,
           "timepoint": 41,
           "trajectory": "Granger_117/117",
           "value": 3.2159361104970556
          },
          {
           "color_by": "Granger 117/117",
           "sample_id": 0,
           "timepoint": 42,
           "trajectory": "Granger_117/117",
           "value": 2.715756784117317
          },
          {
           "color_by": "Granger 117/117",
           "sample_id": 0,
           "timepoint": 43,
           "trajectory": "Granger_117/117",
           "value": 1.1549670718842124
          },
          {
           "color_by": "Granger 117/117",
           "sample_id": 0,
           "timepoint": 44,
           "trajectory": "Granger_117/117",
           "value": -0.32775221803179155
          },
          {
           "color_by": "Granger 117/117",
           "sample_id": 0,
           "timepoint": 45,
           "trajectory": "Granger_117/117",
           "value": -0.6503218269706841
          },
          {
           "color_by": "Granger 117/117",
           "sample_id": 0,
           "timepoint": 46,
           "trajectory": "Granger_117/117",
           "value": 0.4308398070151207
          },
          {
           "color_by": "Granger 117/117",
           "sample_id": 0,
           "timepoint": 47,
           "trajectory": "Granger_117/117",
           "value": 2.144813062285493
          },
          {
           "color_by": "Granger 117/117",
           "sample_id": 0,
           "timepoint": 48,
           "trajectory": "Granger_117/117",
           "value": 3.263245346805147
          },
          {
           "color_by": "Granger 117/117",
           "sample_id": 0,
           "timepoint": 49,
           "trajectory": "Granger_117/117",
           "value": 2.9879570887915956
          },
          {
           "color_by": "Granger 117/117",
           "sample_id": 0,
           "timepoint": 50,
           "trajectory": "Granger_117/117",
           "value": 1.5277070784206845
          },
          {
           "color_by": "Granger 117/117",
           "sample_id": 0,
           "timepoint": 51,
           "trajectory": "Granger_117/117",
           "value": -0.05264978828591316
          },
          {
           "color_by": "Granger 117/117",
           "sample_id": 0,
           "timepoint": 52,
           "trajectory": "Granger_117/117",
           "value": -0.6016146818321044
          },
          {
           "color_by": "Granger 117/117",
           "sample_id": 0,
           "timepoint": 53,
           "trajectory": "Granger_117/117",
           "value": 0.28689435137894925
          },
          {
           "color_by": "Granger 117/117",
           "sample_id": 0,
           "timepoint": 54,
           "trajectory": "Granger_117/117",
           "value": 1.9801148237004678
          },
          {
           "color_by": "Granger 117/117",
           "sample_id": 0,
           "timepoint": 55,
           "trajectory": "Granger_117/117",
           "value": 3.263674400020393
          },
          {
           "color_by": "Granger 117/117",
           "sample_id": 0,
           "timepoint": 56,
           "trajectory": "Granger_117/117",
           "value": 3.2190928514353394
          },
          {
           "color_by": "Granger 117/117",
           "sample_id": 0,
           "timepoint": 57,
           "trajectory": "Granger_117/117",
           "value": 1.8874740407764197
          },
          {
           "color_by": "Granger 117/117",
           "sample_id": 0,
           "timepoint": 58,
           "trajectory": "Granger_117/117",
           "value": 0.23980833685634795
          },
          {
           "color_by": "Granger 117/117",
           "sample_id": 0,
           "timepoint": 59,
           "trajectory": "Granger_117/117",
           "value": -0.524655242695905
          },
          {
           "color_by": "Granger 117/117",
           "sample_id": 0,
           "timepoint": 60,
           "trajectory": "Granger_117/117",
           "value": 0.15502468905794897
          },
          {
           "color_by": "Granger 117/117",
           "sample_id": 0,
           "timepoint": 61,
           "trajectory": "Granger_117/117",
           "value": 1.7961524919733036
          },
          {
           "color_by": "Granger 117/117",
           "sample_id": 0,
           "timepoint": 62,
           "trajectory": "Granger_117/117",
           "value": 3.221191445275449
          },
          {
           "color_by": "Granger 117/117",
           "sample_id": 0,
           "timepoint": 63,
           "trajectory": "Granger_117/117",
           "value": 3.408647308523365
          },
          {
           "color_by": "Granger 117/117",
           "sample_id": 0,
           "timepoint": 64,
           "trajectory": "Granger_117/117",
           "value": 2.231196443896687
          },
          {
           "color_by": "Granger 117/117",
           "sample_id": 0,
           "timepoint": 65,
           "trajectory": "Granger_117/117",
           "value": 0.5476918104530843
          },
          {
           "color_by": "Granger 117/117",
           "sample_id": 0,
           "timepoint": 66,
           "trajectory": "Granger_117/117",
           "value": -0.417436109962521
          },
          {
           "color_by": "Granger 117/117",
           "sample_id": 0,
           "timepoint": 67,
           "trajectory": "Granger_117/117",
           "value": 0.04105750440362921
          },
          {
           "color_by": "Granger 117/117",
           "sample_id": 0,
           "timepoint": 68,
           "trajectory": "Granger_117/117",
           "value": 1.5996287913272362
          },
          {
           "color_by": "Granger 117/117",
           "sample_id": 0,
           "timepoint": 69,
           "trajectory": "Granger_117/117",
           "value": 3.1397382568120604
          },
          {
           "color_by": "Granger 117/117",
           "sample_id": 0,
           "timepoint": 70,
           "trajectory": "Granger_117/117",
           "value": 3.5561025328672904
          },
          {
           "color_by": "Granger 117/117",
           "sample_id": 0,
           "timepoint": 71,
           "trajectory": "Granger_117/117",
           "value": 2.5553672546582047
          },
          {
           "color_by": "Granger 117/117",
           "sample_id": 0,
           "timepoint": 72,
           "trajectory": "Granger_117/117",
           "value": 0.8680851088463437
          },
          {
           "color_by": "Granger 117/117",
           "sample_id": 0,
           "timepoint": 73,
           "trajectory": "Granger_117/117",
           "value": -0.27917493506924806
          },
          {
           "color_by": "Granger 117/117",
           "sample_id": 0,
           "timepoint": 74,
           "trajectory": "Granger_117/117",
           "value": -0.050136686709205014
          },
          {
           "color_by": "Granger 117/117",
           "sample_id": 0,
           "timepoint": 75,
           "trajectory": "Granger_117/117",
           "value": 1.39689721768752
          },
          {
           "color_by": "Granger 117/117",
           "sample_id": 0,
           "timepoint": 76,
           "trajectory": "Granger_117/117",
           "value": 3.0234355491200833
          },
          {
           "color_by": "Granger 117/117",
           "sample_id": 0,
           "timepoint": 77,
           "trajectory": "Granger_117/117",
           "value": 3.661207347303147
          },
          {
           "color_by": "Granger 117/117",
           "sample_id": 0,
           "timepoint": 78,
           "trajectory": "Granger_117/117",
           "value": 2.8563487314852485
          },
          {
           "color_by": "Granger 117/117",
           "sample_id": 0,
           "timepoint": 79,
           "trajectory": "Granger_117/117",
           "value": 1.1973636310268683
          },
          {
           "color_by": "Granger 117/117",
           "sample_id": 0,
           "timepoint": 80,
           "trajectory": "Granger_117/117",
           "value": -0.11012390425685159
          },
          {
           "color_by": "Granger 117/117",
           "sample_id": 0,
           "timepoint": 81,
           "trajectory": "Granger_117/117",
           "value": -0.11454452932268233
          },
          {
           "color_by": "Granger 117/117",
           "sample_id": 0,
           "timepoint": 82,
           "trajectory": "Granger_117/117",
           "value": 1.1940198382591922
          },
          {
           "color_by": "Granger 117/117",
           "sample_id": 0,
           "timepoint": 83,
           "trajectory": "Granger_117/117",
           "value": 2.876670639578624
          },
          {
           "color_by": "Granger 117/117",
           "sample_id": 0,
           "timepoint": 84,
           "trajectory": "Granger_117/117",
           "value": 3.7241361341538046
          },
          {
           "color_by": "Granger 117/117",
           "sample_id": 0,
           "timepoint": 85,
           "trajectory": "Granger_117/117",
           "value": 3.130584761420391
          },
          {
           "color_by": "Granger 117/117",
           "sample_id": 0,
           "timepoint": 86,
           "trajectory": "Granger_117/117",
           "value": 1.5313964158266935
          },
          {
           "color_by": "Granger 117/117",
           "sample_id": 0,
           "timepoint": 87,
           "trajectory": "Granger_117/117",
           "value": 0.08856089194830163
          },
          {
           "color_by": "Granger 117/117",
           "sample_id": 0,
           "timepoint": 88,
           "trajectory": "Granger_117/117",
           "value": -0.14896741145335524
          },
          {
           "color_by": "Granger 117/117",
           "sample_id": 0,
           "timepoint": 89,
           "trajectory": "Granger_117/117",
           "value": 0.9967638359195359
          },
          {
           "color_by": "Granger 117/117",
           "sample_id": 0,
           "timepoint": 90,
           "trajectory": "Granger_117/117",
           "value": 2.7041187559200206
          },
          {
           "color_by": "Granger 117/117",
           "sample_id": 0,
           "timepoint": 91,
           "trajectory": "Granger_117/117",
           "value": 3.7455831848916
          },
          {
           "color_by": "Granger 117/117",
           "sample_id": 0,
           "timepoint": 92,
           "trajectory": "Granger_117/117",
           "value": 3.374759638100359
          },
          {
           "color_by": "Granger 117/117",
           "sample_id": 0,
           "timepoint": 93,
           "trajectory": "Granger_117/117",
           "value": 1.8657103842853422
          },
          {
           "color_by": "Granger 117/117",
           "sample_id": 0,
           "timepoint": 94,
           "trajectory": "Granger_117/117",
           "value": 0.31492274841489687
          },
          {
           "color_by": "Granger 117/117",
           "sample_id": 0,
           "timepoint": 95,
           "trajectory": "Granger_117/117",
           "value": -0.1510047406061652
          },
          {
           "color_by": "Granger 117/117",
           "sample_id": 0,
           "timepoint": 96,
           "trajectory": "Granger_117/117",
           "value": 0.8105656057282888
          },
          {
           "color_by": "Granger 117/117",
           "sample_id": 0,
           "timepoint": 97,
           "trajectory": "Granger_117/117",
           "value": 2.510723693597847
          },
          {
           "color_by": "Granger 117/117",
           "sample_id": 0,
           "timepoint": 98,
           "trajectory": "Granger_117/117",
           "value": 3.7268145614761337
          },
          {
           "color_by": "Granger 117/117",
           "sample_id": 0,
           "timepoint": 99,
           "trajectory": "Granger_117/117",
           "value": 3.585921925069575
          },
          {
           "color_by": "Mean",
           "sample_id": 0,
           "timepoint": 0,
           "trajectory": "Mean",
           "value": -0.3016949078089023
          },
          {
           "color_by": "Mean",
           "sample_id": 0,
           "timepoint": 1,
           "trajectory": "Mean",
           "value": 0.37727174487103304
          },
          {
           "color_by": "Mean",
           "sample_id": 0,
           "timepoint": 2,
           "trajectory": "Mean",
           "value": 0.265405811190302
          },
          {
           "color_by": "Mean",
           "sample_id": 0,
           "timepoint": 3,
           "trajectory": "Mean",
           "value": 0.12987922303675697
          },
          {
           "color_by": "Mean",
           "sample_id": 0,
           "timepoint": 4,
           "trajectory": "Mean",
           "value": 0.020619205017886777
          },
          {
           "color_by": "Mean",
           "sample_id": 0,
           "timepoint": 5,
           "trajectory": "Mean",
           "value": -0.03775612432971159
          },
          {
           "color_by": "Mean",
           "sample_id": 0,
           "timepoint": 6,
           "trajectory": "Mean",
           "value": -0.030967764251168373
          },
          {
           "color_by": "Mean",
           "sample_id": 0,
           "timepoint": 7,
           "trajectory": "Mean",
           "value": 0.048053654883979335
          },
          {
           "color_by": "Mean",
           "sample_id": 0,
           "timepoint": 8,
           "trajectory": "Mean",
           "value": 0.20018634196648327
          },
          {
           "color_by": "Mean",
           "sample_id": 0,
           "timepoint": 9,
           "trajectory": "Mean",
           "value": 0.4207219245818407
          },
          {
           "color_by": "Mean",
           "sample_id": 0,
           "timepoint": 10,
           "trajectory": "Mean",
           "value": 0.7000022830996817
          },
          {
           "color_by": "Mean",
           "sample_id": 0,
           "timepoint": 11,
           "trajectory": "Mean",
           "value": 1.0242190370170976
          },
          {
           "color_by": "Mean",
           "sample_id": 0,
           "timepoint": 12,
           "trajectory": "Mean",
           "value": 1.3763963643615134
          },
          {
           "color_by": "Mean",
           "sample_id": 0,
           "timepoint": 13,
           "trajectory": "Mean",
           "value": 1.7375288823059452
          },
          {
           "color_by": "Mean",
           "sample_id": 0,
           "timepoint": 14,
           "trajectory": "Mean",
           "value": 2.087820621589682
          },
          {
           "color_by": "Mean",
           "sample_id": 0,
           "timepoint": 15,
           "trajectory": "Mean",
           "value": 2.4079572813378802
          },
          {
           "color_by": "Mean",
           "sample_id": 0,
           "timepoint": 16,
           "trajectory": "Mean",
           "value": 2.6803380356450535
          },
          {
           "color_by": "Mean",
           "sample_id": 0,
           "timepoint": 17,
           "trajectory": "Mean",
           "value": 2.8901935940618855
          },
          {
           "color_by": "Mean",
           "sample_id": 0,
           "timepoint": 18,
           "trajectory": "Mean",
           "value": 3.0265230997214316
          },
          {
           "color_by": "Mean",
           "sample_id": 0,
           "timepoint": 19,
           "trajectory": "Mean",
           "value": 3.0827930013073437
          },
          {
           "color_by": "Mean",
           "sample_id": 0,
           "timepoint": 20,
           "trajectory": "Mean",
           "value": 3.0573553926793067
          },
          {
           "color_by": "Mean",
           "sample_id": 0,
           "timepoint": 21,
           "trajectory": "Mean",
           "value": 2.953560472490803
          },
          {
           "color_by": "Mean",
           "sample_id": 0,
           "timepoint": 22,
           "trajectory": "Mean",
           "value": 2.7795566067202904
          },
          {
           "color_by": "Mean",
           "sample_id": 0,
           "timepoint": 23,
           "trajectory": "Mean",
           "value": 2.5477907730870166
          },
          {
           "color_by": "Mean",
           "sample_id": 0,
           "timepoint": 24,
           "trajectory": "Mean",
           "value": 2.2742407067168986
          },
          {
           "color_by": "Mean",
           "sample_id": 0,
           "timepoint": 25,
           "trajectory": "Mean",
           "value": 1.977426685250699
          },
          {
           "color_by": "Mean",
           "sample_id": 0,
           "timepoint": 26,
           "trajectory": "Mean",
           "value": 1.677264547250077
          },
          {
           "color_by": "Mean",
           "sample_id": 0,
           "timepoint": 27,
           "trajectory": "Mean",
           "value": 1.3938313758280427
          },
          {
           "color_by": "Mean",
           "sample_id": 0,
           "timepoint": 28,
           "trajectory": "Mean",
           "value": 1.1461206846608776
          },
          {
           "color_by": "Mean",
           "sample_id": 0,
           "timepoint": 29,
           "trajectory": "Mean",
           "value": 0.9508645774514013
          },
          {
           "color_by": "Mean",
           "sample_id": 0,
           "timepoint": 30,
           "trajectory": "Mean",
           "value": 0.8214961734406876
          },
          {
           "color_by": "Mean",
           "sample_id": 0,
           "timepoint": 31,
           "trajectory": "Mean",
           "value": 0.7673168593480189
          },
          {
           "color_by": "Mean",
           "sample_id": 0,
           "timepoint": 32,
           "trajectory": "Mean",
           "value": 0.7929201842633509
          },
          {
           "color_by": "Mean",
           "sample_id": 0,
           "timepoint": 33,
           "trajectory": "Mean",
           "value": 0.8979082502834053
          },
          {
           "color_by": "Mean",
           "sample_id": 0,
           "timepoint": 34,
           "trajectory": "Mean",
           "value": 1.076918260188522
          },
          {
           "color_by": "Mean",
           "sample_id": 0,
           "timepoint": 35,
           "trajectory": "Mean",
           "value": 1.3199575949436226
          },
          {
           "color_by": "Mean",
           "sample_id": 0,
           "timepoint": 36,
           "trajectory": "Mean",
           "value": 1.6130266073020374
          },
          {
           "color_by": "Mean",
           "sample_id": 0,
           "timepoint": 37,
           "trajectory": "Mean",
           "value": 1.9389904260403854
          },
          {
           "color_by": "Mean",
           "sample_id": 0,
           "timepoint": 38,
           "trajectory": "Mean",
           "value": 2.278645580642126
          },
          {
           "color_by": "Mean",
           "sample_id": 0,
           "timepoint": 39,
           "trajectory": "Mean",
           "value": 2.6119151412362878
          },
          {
           "color_by": "Mean",
           "sample_id": 0,
           "timepoint": 40,
           "trajectory": "Mean",
           "value": 2.9190980764575003
          },
          {
           "color_by": "Mean",
           "sample_id": 0,
           "timepoint": 41,
           "trajectory": "Mean",
           "value": 3.182095159472904
          },
          {
           "color_by": "Mean",
           "sample_id": 0,
           "timepoint": 42,
           "trajectory": "Mean",
           "value": 3.3855352093513917
          },
          {
           "color_by": "Mean",
           "sample_id": 0,
           "timepoint": 43,
           "trajectory": "Mean",
           "value": 3.517731650606384
          },
          {
           "color_by": "Mean",
           "sample_id": 0,
           "timepoint": 44,
           "trajectory": "Mean",
           "value": 3.5714099228773653
          },
          {
           "color_by": "Mean",
           "sample_id": 0,
           "timepoint": 45,
           "trajectory": "Mean",
           "value": 3.5441605194080577
          },
          {
           "color_by": "Mean",
           "sample_id": 0,
           "timepoint": 46,
           "trajectory": "Mean",
           "value": 3.4385894914194868
          },
          {
           "color_by": "Mean",
           "sample_id": 0,
           "timepoint": 47,
           "trajectory": "Mean",
           "value": 3.2621570650362037
          },
          {
           "color_by": "Mean",
           "sample_id": 0,
           "timepoint": 48,
           "trajectory": "Mean",
           "value": 3.0267144086025928
          },
          {
           "color_by": "Mean",
           "sample_id": 0,
           "timepoint": 49,
           "trajectory": "Mean",
           "value": 2.74776735536255
          },
          {
           "color_by": "Mean",
           "sample_id": 0,
           "timepoint": 50,
           "trajectory": "Mean",
           "value": 2.443512862711021
          },
          {
           "color_by": "Mean",
           "sample_id": 0,
           "timepoint": 51,
           "trajectory": "Mean",
           "value": 2.133708119051948
          },
          {
           "color_by": "Mean",
           "sample_id": 0,
           "timepoint": 52,
           "trajectory": "Mean",
           "value": 1.8384426141836625
          },
          {
           "color_by": "Mean",
           "sample_id": 0,
           "timepoint": 53,
           "trajectory": "Mean",
           "value": 1.5768895221486936
          },
          {
           "color_by": "Mean",
           "sample_id": 0,
           "timepoint": 54,
           "trajectory": "Mean",
           "value": 1.3661140315221163
          },
          {
           "color_by": "Mean",
           "sample_id": 0,
           "timepoint": 55,
           "trajectory": "Mean",
           "value": 1.2200127172076127
          },
          {
           "color_by": "Mean",
           "sample_id": 0,
           "timepoint": 56,
           "trajectory": "Mean",
           "value": 1.1484499001162962
          },
          {
           "color_by": "Mean",
           "sample_id": 0,
           "timepoint": 57,
           "trajectory": "Mean",
           "value": 1.156644693201595
          },
          {
           "color_by": "Mean",
           "sample_id": 0,
           "timepoint": 58,
           "trajectory": "Mean",
           "value": 1.2448468457268327
          },
          {
           "color_by": "Mean",
           "sample_id": 0,
           "timepoint": 59,
           "trajectory": "Mean",
           "value": 1.4083215414477537
          },
          {
           "color_by": "Mean",
           "sample_id": 0,
           "timepoint": 60,
           "trajectory": "Mean",
           "value": 1.6376440970274995
          },
          {
           "color_by": "Mean",
           "sample_id": 0,
           "timepoint": 61,
           "trajectory": "Mean",
           "value": 1.9192862388102807
          },
          {
           "color_by": "Mean",
           "sample_id": 0,
           "timepoint": 62,
           "trajectory": "Mean",
           "value": 2.2364575070636907
          },
          {
           "color_by": "Mean",
           "sample_id": 0,
           "timepoint": 63,
           "trajectory": "Mean",
           "value": 2.5701494741316067
          },
          {
           "color_by": "Mean",
           "sample_id": 0,
           "timepoint": 64,
           "trajectory": "Mean",
           "value": 2.9003178528827833
          },
          {
           "color_by": "Mean",
           "sample_id": 0,
           "timepoint": 65,
           "trajectory": "Mean",
           "value": 3.2071289984260463
          },
          {
           "color_by": "Mean",
           "sample_id": 0,
           "timepoint": 66,
           "trajectory": "Mean",
           "value": 3.4721933023439693
          },
          {
           "color_by": "Mean",
           "sample_id": 0,
           "timepoint": 67,
           "trajectory": "Mean",
           "value": 3.679708793604394
          },
          {
           "color_by": "Mean",
           "sample_id": 0,
           "timepoint": 68,
           "trajectory": "Mean",
           "value": 3.8174438431754703
          },
          {
           "color_by": "Mean",
           "sample_id": 0,
           "timepoint": 69,
           "trajectory": "Mean",
           "value": 3.877497873079028
          },
          {
           "color_by": "Mean",
           "sample_id": 0,
           "timepoint": 70,
           "trajectory": "Mean",
           "value": 3.856792773186402
          },
          {
           "color_by": "Mean",
           "sample_id": 0,
           "timepoint": 71,
           "trajectory": "Mean",
           "value": 3.7572644723129884
          },
          {
           "color_by": "Mean",
           "sample_id": 0,
           "timepoint": 72,
           "trajectory": "Mean",
           "value": 3.5857427530882595
          },
          {
           "color_by": "Mean",
           "sample_id": 0,
           "timepoint": 73,
           "trajectory": "Mean",
           "value": 3.353526783539727
          },
          {
           "color_by": "Mean",
           "sample_id": 0,
           "timepoint": 74,
           "trajectory": "Mean",
           "value": 3.0756827571625815
          },
          {
           "color_by": "Mean",
           "sample_id": 0,
           "timepoint": 75,
           "trajectory": "Mean",
           "value": 2.7701073111696126
          },
          {
           "color_by": "Mean",
           "sample_id": 0,
           "timepoint": 76,
           "trajectory": "Mean",
           "value": 2.456414955370879
          },
          {
           "color_by": "Mean",
           "sample_id": 0,
           "timepoint": 77,
           "trajectory": "Mean",
           "value": 2.1547186862776537
          },
          {
           "color_by": "Mean",
           "sample_id": 0,
           "timepoint": 78,
           "trajectory": "Mean",
           "value": 1.8843796022306212
          },
          {
           "color_by": "Mean",
           "sample_id": 0,
           "timepoint": 79,
           "trajectory": "Mean",
           "value": 1.6628032627001132
          },
          {
           "color_by": "Mean",
           "sample_id": 0,
           "timepoint": 80,
           "trajectory": "Mean",
           "value": 1.5043576285629305
          },
          {
           "color_by": "Mean",
           "sample_id": 0,
           "timepoint": 81,
           "trajectory": "Mean",
           "value": 1.419479860828328
          },
          {
           "color_by": "Mean",
           "sample_id": 0,
           "timepoint": 82,
           "trajectory": "Mean",
           "value": 1.4140275129675162
          },
          {
           "color_by": "Mean",
           "sample_id": 0,
           "timepoint": 83,
           "trajectory": "Mean",
           "value": 1.4889144567769708
          },
          {
           "color_by": "Mean",
           "sample_id": 0,
           "timepoint": 84,
           "trajectory": "Mean",
           "value": 1.6400541783412521
          },
          {
           "color_by": "Mean",
           "sample_id": 0,
           "timepoint": 85,
           "trajectory": "Mean",
           "value": 1.858613969865328
          },
          {
           "color_by": "Mean",
           "sample_id": 0,
           "timepoint": 86,
           "trajectory": "Mean",
           "value": 2.131564213136205
          },
          {
           "color_by": "Mean",
           "sample_id": 0,
           "timepoint": 87,
           "trajectory": "Mean",
           "value": 2.4424886029953354
          },
          {
           "color_by": "Mean",
           "sample_id": 0,
           "timepoint": 88,
           "trajectory": "Mean",
           "value": 2.772604935207843
          },
          {
           "color_by": "Mean",
           "sample_id": 0,
           "timepoint": 89,
           "trajectory": "Mean",
           "value": 3.1019329912315334
          },
          {
           "color_by": "Mean",
           "sample_id": 0,
           "timepoint": 90,
           "trajectory": "Mean",
           "value": 3.410536906607691
          },
          {
           "color_by": "Mean",
           "sample_id": 0,
           "timepoint": 91,
           "trajectory": "Mean",
           "value": 3.6797647786571934
          },
          {
           "color_by": "Mean",
           "sample_id": 0,
           "timepoint": 92,
           "trajectory": "Mean",
           "value": 3.8934084408049805
          },
          {
           "color_by": "Mean",
           "sample_id": 0,
           "timepoint": 93,
           "trajectory": "Mean",
           "value": 4.038711294501596
          },
          {
           "color_by": "Mean",
           "sample_id": 0,
           "timepoint": 94,
           "trajectory": "Mean",
           "value": 4.107161536746996
          },
          {
           "color_by": "Mean",
           "sample_id": 0,
           "timepoint": 95,
           "trajectory": "Mean",
           "value": 4.095021464277982
          },
          {
           "color_by": "Mean",
           "sample_id": 0,
           "timepoint": 96,
           "trajectory": "Mean",
           "value": 4.003559944949897
          },
          {
           "color_by": "Mean",
           "sample_id": 0,
           "timepoint": 97,
           "trajectory": "Mean",
           "value": 3.8389736024642365
          },
          {
           "color_by": "Mean",
           "sample_id": 0,
           "timepoint": 98,
           "trajectory": "Mean",
           "value": 3.6120016148854766
          },
          {
           "color_by": "Mean",
           "sample_id": 0,
           "timepoint": 99,
           "trajectory": "Mean",
           "value": 3.3372580769964837
          },
          {
           "color_by": "Variance",
           "sample_id": 0,
           "timepoint": 0,
           "trajectory": "Variance",
           "value": -0.3016949078089023
          },
          {
           "color_by": "Variance",
           "sample_id": 0,
           "timepoint": 1,
           "trajectory": "Variance",
           "value": 0.37727174487103304
          },
          {
           "color_by": "Variance",
           "sample_id": 0,
           "timepoint": 2,
           "trajectory": "Variance",
           "value": 0.265405811190302
          },
          {
           "color_by": "Variance",
           "sample_id": 0,
           "timepoint": 3,
           "trajectory": "Variance",
           "value": 0.12987922303675697
          },
          {
           "color_by": "Variance",
           "sample_id": 0,
           "timepoint": 4,
           "trajectory": "Variance",
           "value": 0.020619205017886777
          },
          {
           "color_by": "Variance",
           "sample_id": 0,
           "timepoint": 5,
           "trajectory": "Variance",
           "value": -0.03775612432971159
          },
          {
           "color_by": "Variance",
           "sample_id": 0,
           "timepoint": 6,
           "trajectory": "Variance",
           "value": -0.030967764251168373
          },
          {
           "color_by": "Variance",
           "sample_id": 0,
           "timepoint": 7,
           "trajectory": "Variance",
           "value": 0.048053654883979335
          },
          {
           "color_by": "Variance",
           "sample_id": 0,
           "timepoint": 8,
           "trajectory": "Variance",
           "value": 0.20018634196648327
          },
          {
           "color_by": "Variance",
           "sample_id": 0,
           "timepoint": 9,
           "trajectory": "Variance",
           "value": 0.4207219245818407
          },
          {
           "color_by": "Variance",
           "sample_id": 0,
           "timepoint": 10,
           "trajectory": "Variance",
           "value": 0.7000022830996817
          },
          {
           "color_by": "Variance",
           "sample_id": 0,
           "timepoint": 11,
           "trajectory": "Variance",
           "value": 1.0242190370170976
          },
          {
           "color_by": "Variance",
           "sample_id": 0,
           "timepoint": 12,
           "trajectory": "Variance",
           "value": 1.3763963643615134
          },
          {
           "color_by": "Variance",
           "sample_id": 0,
           "timepoint": 13,
           "trajectory": "Variance",
           "value": 1.7375288823059452
          },
          {
           "color_by": "Variance",
           "sample_id": 0,
           "timepoint": 14,
           "trajectory": "Variance",
           "value": 2.087820621589682
          },
          {
           "color_by": "Variance",
           "sample_id": 0,
           "timepoint": 15,
           "trajectory": "Variance",
           "value": 2.4079572813378802
          },
          {
           "color_by": "Variance",
           "sample_id": 0,
           "timepoint": 16,
           "trajectory": "Variance",
           "value": 2.6803380356450535
          },
          {
           "color_by": "Variance",
           "sample_id": 0,
           "timepoint": 17,
           "trajectory": "Variance",
           "value": 2.8901935940618855
          },
          {
           "color_by": "Variance",
           "sample_id": 0,
           "timepoint": 18,
           "trajectory": "Variance",
           "value": 3.0265230997214316
          },
          {
           "color_by": "Variance",
           "sample_id": 0,
           "timepoint": 19,
           "trajectory": "Variance",
           "value": 3.0827930013073437
          },
          {
           "color_by": "Variance",
           "sample_id": 0,
           "timepoint": 20,
           "trajectory": "Variance",
           "value": 3.0573553926793067
          },
          {
           "color_by": "Variance",
           "sample_id": 0,
           "timepoint": 21,
           "trajectory": "Variance",
           "value": 2.953560472490803
          },
          {
           "color_by": "Variance",
           "sample_id": 0,
           "timepoint": 22,
           "trajectory": "Variance",
           "value": 2.7795566067202904
          },
          {
           "color_by": "Variance",
           "sample_id": 0,
           "timepoint": 23,
           "trajectory": "Variance",
           "value": 2.5477907730870166
          },
          {
           "color_by": "Variance",
           "sample_id": 0,
           "timepoint": 24,
           "trajectory": "Variance",
           "value": 2.2742407067168986
          },
          {
           "color_by": "Variance",
           "sample_id": 0,
           "timepoint": 25,
           "trajectory": "Variance",
           "value": 1.977426685250699
          },
          {
           "color_by": "Variance",
           "sample_id": 0,
           "timepoint": 26,
           "trajectory": "Variance",
           "value": 1.677264547250077
          },
          {
           "color_by": "Variance",
           "sample_id": 0,
           "timepoint": 27,
           "trajectory": "Variance",
           "value": 1.3938313758280427
          },
          {
           "color_by": "Variance",
           "sample_id": 0,
           "timepoint": 28,
           "trajectory": "Variance",
           "value": 1.1461206846608776
          },
          {
           "color_by": "Variance",
           "sample_id": 0,
           "timepoint": 29,
           "trajectory": "Variance",
           "value": 0.9508645774514013
          },
          {
           "color_by": "Variance",
           "sample_id": 0,
           "timepoint": 30,
           "trajectory": "Variance",
           "value": 0.8214961734406876
          },
          {
           "color_by": "Variance",
           "sample_id": 0,
           "timepoint": 31,
           "trajectory": "Variance",
           "value": 0.7673168593480189
          },
          {
           "color_by": "Variance",
           "sample_id": 0,
           "timepoint": 32,
           "trajectory": "Variance",
           "value": 0.7929201842633509
          },
          {
           "color_by": "Variance",
           "sample_id": 0,
           "timepoint": 33,
           "trajectory": "Variance",
           "value": 0.8979082502834053
          },
          {
           "color_by": "Variance",
           "sample_id": 0,
           "timepoint": 34,
           "trajectory": "Variance",
           "value": 1.076918260188522
          },
          {
           "color_by": "Variance",
           "sample_id": 0,
           "timepoint": 35,
           "trajectory": "Variance",
           "value": 1.3199575949436226
          },
          {
           "color_by": "Variance",
           "sample_id": 0,
           "timepoint": 36,
           "trajectory": "Variance",
           "value": 1.6130266073020374
          },
          {
           "color_by": "Variance",
           "sample_id": 0,
           "timepoint": 37,
           "trajectory": "Variance",
           "value": 1.9389904260403854
          },
          {
           "color_by": "Variance",
           "sample_id": 0,
           "timepoint": 38,
           "trajectory": "Variance",
           "value": 2.278645580642126
          },
          {
           "color_by": "Variance",
           "sample_id": 0,
           "timepoint": 39,
           "trajectory": "Variance",
           "value": 2.6119151412362878
          },
          {
           "color_by": "Variance",
           "sample_id": 0,
           "timepoint": 40,
           "trajectory": "Variance",
           "value": 2.9190980764575003
          },
          {
           "color_by": "Variance",
           "sample_id": 0,
           "timepoint": 41,
           "trajectory": "Variance",
           "value": 3.182095159472904
          },
          {
           "color_by": "Variance",
           "sample_id": 0,
           "timepoint": 42,
           "trajectory": "Variance",
           "value": 3.3855352093513917
          },
          {
           "color_by": "Variance",
           "sample_id": 0,
           "timepoint": 43,
           "trajectory": "Variance",
           "value": 3.517731650606384
          },
          {
           "color_by": "Variance",
           "sample_id": 0,
           "timepoint": 44,
           "trajectory": "Variance",
           "value": 3.5714099228773653
          },
          {
           "color_by": "Variance",
           "sample_id": 0,
           "timepoint": 45,
           "trajectory": "Variance",
           "value": 3.5441605194080577
          },
          {
           "color_by": "Variance",
           "sample_id": 0,
           "timepoint": 46,
           "trajectory": "Variance",
           "value": 3.4385894914194868
          },
          {
           "color_by": "Variance",
           "sample_id": 0,
           "timepoint": 47,
           "trajectory": "Variance",
           "value": 3.2621570650362037
          },
          {
           "color_by": "Variance",
           "sample_id": 0,
           "timepoint": 48,
           "trajectory": "Variance",
           "value": 3.0267144086025928
          },
          {
           "color_by": "Variance",
           "sample_id": 0,
           "timepoint": 49,
           "trajectory": "Variance",
           "value": 2.74776735536255
          },
          {
           "color_by": "Variance",
           "sample_id": 0,
           "timepoint": 50,
           "trajectory": "Variance",
           "value": 2.443512862711021
          },
          {
           "color_by": "Variance",
           "sample_id": 0,
           "timepoint": 51,
           "trajectory": "Variance",
           "value": 2.133708119051948
          },
          {
           "color_by": "Variance",
           "sample_id": 0,
           "timepoint": 52,
           "trajectory": "Variance",
           "value": 1.8384426141836625
          },
          {
           "color_by": "Variance",
           "sample_id": 0,
           "timepoint": 53,
           "trajectory": "Variance",
           "value": 1.5768895221486936
          },
          {
           "color_by": "Variance",
           "sample_id": 0,
           "timepoint": 54,
           "trajectory": "Variance",
           "value": 1.3661140315221163
          },
          {
           "color_by": "Variance",
           "sample_id": 0,
           "timepoint": 55,
           "trajectory": "Variance",
           "value": 1.2200127172076127
          },
          {
           "color_by": "Variance",
           "sample_id": 0,
           "timepoint": 56,
           "trajectory": "Variance",
           "value": 1.1484499001162962
          },
          {
           "color_by": "Variance",
           "sample_id": 0,
           "timepoint": 57,
           "trajectory": "Variance",
           "value": 1.156644693201595
          },
          {
           "color_by": "Variance",
           "sample_id": 0,
           "timepoint": 58,
           "trajectory": "Variance",
           "value": 1.2448468457268327
          },
          {
           "color_by": "Variance",
           "sample_id": 0,
           "timepoint": 59,
           "trajectory": "Variance",
           "value": 1.4083215414477537
          },
          {
           "color_by": "Variance",
           "sample_id": 0,
           "timepoint": 60,
           "trajectory": "Variance",
           "value": 1.6376440970274995
          },
          {
           "color_by": "Variance",
           "sample_id": 0,
           "timepoint": 61,
           "trajectory": "Variance",
           "value": 1.9192862388102807
          },
          {
           "color_by": "Variance",
           "sample_id": 0,
           "timepoint": 62,
           "trajectory": "Variance",
           "value": 2.2364575070636907
          },
          {
           "color_by": "Variance",
           "sample_id": 0,
           "timepoint": 63,
           "trajectory": "Variance",
           "value": 2.5701494741316067
          },
          {
           "color_by": "Variance",
           "sample_id": 0,
           "timepoint": 64,
           "trajectory": "Variance",
           "value": 2.9003178528827833
          },
          {
           "color_by": "Variance",
           "sample_id": 0,
           "timepoint": 65,
           "trajectory": "Variance",
           "value": 3.2071289984260463
          },
          {
           "color_by": "Variance",
           "sample_id": 0,
           "timepoint": 66,
           "trajectory": "Variance",
           "value": 3.4721933023439693
          },
          {
           "color_by": "Variance",
           "sample_id": 0,
           "timepoint": 67,
           "trajectory": "Variance",
           "value": 3.679708793604394
          },
          {
           "color_by": "Variance",
           "sample_id": 0,
           "timepoint": 68,
           "trajectory": "Variance",
           "value": 3.8174438431754703
          },
          {
           "color_by": "Variance",
           "sample_id": 0,
           "timepoint": 69,
           "trajectory": "Variance",
           "value": 3.877497873079028
          },
          {
           "color_by": "Variance",
           "sample_id": 0,
           "timepoint": 70,
           "trajectory": "Variance",
           "value": 3.856792773186402
          },
          {
           "color_by": "Variance",
           "sample_id": 0,
           "timepoint": 71,
           "trajectory": "Variance",
           "value": 3.7572644723129884
          },
          {
           "color_by": "Variance",
           "sample_id": 0,
           "timepoint": 72,
           "trajectory": "Variance",
           "value": 3.5857427530882595
          },
          {
           "color_by": "Variance",
           "sample_id": 0,
           "timepoint": 73,
           "trajectory": "Variance",
           "value": 3.353526783539727
          },
          {
           "color_by": "Variance",
           "sample_id": 0,
           "timepoint": 74,
           "trajectory": "Variance",
           "value": 3.0756827571625815
          },
          {
           "color_by": "Variance",
           "sample_id": 0,
           "timepoint": 75,
           "trajectory": "Variance",
           "value": 2.7701073111696126
          },
          {
           "color_by": "Variance",
           "sample_id": 0,
           "timepoint": 76,
           "trajectory": "Variance",
           "value": 2.456414955370879
          },
          {
           "color_by": "Variance",
           "sample_id": 0,
           "timepoint": 77,
           "trajectory": "Variance",
           "value": 2.1547186862776537
          },
          {
           "color_by": "Variance",
           "sample_id": 0,
           "timepoint": 78,
           "trajectory": "Variance",
           "value": 1.8843796022306212
          },
          {
           "color_by": "Variance",
           "sample_id": 0,
           "timepoint": 79,
           "trajectory": "Variance",
           "value": 1.6628032627001132
          },
          {
           "color_by": "Variance",
           "sample_id": 0,
           "timepoint": 80,
           "trajectory": "Variance",
           "value": 1.5043576285629305
          },
          {
           "color_by": "Variance",
           "sample_id": 0,
           "timepoint": 81,
           "trajectory": "Variance",
           "value": 1.419479860828328
          },
          {
           "color_by": "Variance",
           "sample_id": 0,
           "timepoint": 82,
           "trajectory": "Variance",
           "value": 1.4140275129675162
          },
          {
           "color_by": "Variance",
           "sample_id": 0,
           "timepoint": 83,
           "trajectory": "Variance",
           "value": 1.4889144567769708
          },
          {
           "color_by": "Variance",
           "sample_id": 0,
           "timepoint": 84,
           "trajectory": "Variance",
           "value": 1.6400541783412521
          },
          {
           "color_by": "Variance",
           "sample_id": 0,
           "timepoint": 85,
           "trajectory": "Variance",
           "value": 1.858613969865328
          },
          {
           "color_by": "Variance",
           "sample_id": 0,
           "timepoint": 86,
           "trajectory": "Variance",
           "value": 2.131564213136205
          },
          {
           "color_by": "Variance",
           "sample_id": 0,
           "timepoint": 87,
           "trajectory": "Variance",
           "value": 2.4424886029953354
          },
          {
           "color_by": "Variance",
           "sample_id": 0,
           "timepoint": 88,
           "trajectory": "Variance",
           "value": 2.772604935207843
          },
          {
           "color_by": "Variance",
           "sample_id": 0,
           "timepoint": 89,
           "trajectory": "Variance",
           "value": 3.1019329912315334
          },
          {
           "color_by": "Variance",
           "sample_id": 0,
           "timepoint": 90,
           "trajectory": "Variance",
           "value": 3.410536906607691
          },
          {
           "color_by": "Variance",
           "sample_id": 0,
           "timepoint": 91,
           "trajectory": "Variance",
           "value": 3.6797647786571934
          },
          {
           "color_by": "Variance",
           "sample_id": 0,
           "timepoint": 92,
           "trajectory": "Variance",
           "value": 3.8934084408049805
          },
          {
           "color_by": "Variance",
           "sample_id": 0,
           "timepoint": 93,
           "trajectory": "Variance",
           "value": 4.038711294501596
          },
          {
           "color_by": "Variance",
           "sample_id": 0,
           "timepoint": 94,
           "trajectory": "Variance",
           "value": 4.107161536746996
          },
          {
           "color_by": "Variance",
           "sample_id": 0,
           "timepoint": 95,
           "trajectory": "Variance",
           "value": 4.095021464277982
          },
          {
           "color_by": "Variance",
           "sample_id": 0,
           "timepoint": 96,
           "trajectory": "Variance",
           "value": 4.003559944949897
          },
          {
           "color_by": "Variance",
           "sample_id": 0,
           "timepoint": 97,
           "trajectory": "Variance",
           "value": 3.8389736024642365
          },
          {
           "color_by": "Variance",
           "sample_id": 0,
           "timepoint": 98,
           "trajectory": "Variance",
           "value": 3.6120016148854766
          },
          {
           "color_by": "Variance",
           "sample_id": 0,
           "timepoint": 99,
           "trajectory": "Variance",
           "value": 3.3372580769964837
          }
         ]
        },
        {
         "name": "points",
         "values": []
        },
        {
         "name": "markers",
         "values": []
        },
        {
         "name": "selected",
         "on": [
          {
           "remove": true,
           "trigger": "clear"
          },
          {
           "remove": true,
           "trigger": "!shift"
          },
          {
           "insert": "clicked",
           "trigger": "!shift && clicked"
          },
          {
           "toggle": "clicked",
           "trigger": "shift && clicked"
          }
         ]
        },
        {
         "name": "selectedData",
         "on": [
          {
           "remove": true,
           "trigger": "clearData"
          },
          {
           "toggle": "clickedData",
           "trigger": "clickedData"
          }
         ]
        }
       ],
       "height": 300,
       "legends": [
        {
         "encode": {
          "labels": {
           "interactive": true,
           "name": "legendLabel",
           "update": {
            "opacity": [
             {
              "test": "!length(data('selectedData')) || indata('selectedData', 'value', datum.value)",
              "value": 1
             },
             {
              "value": 0.25
             }
            ]
           }
          },
          "symbols": {
           "interactive": true,
           "name": "legendSymbol",
           "update": {
            "fill": {
             "value": "transparent"
            },
            "opacity": [
             {
              "test": "!length(data('selected')) || indata('selected', 'value', datum.value) || indata('selectedData', 'value', datum.value)",
              "value": 0.7
             },
             {
              "value": 0.15
             }
            ],
            "size": {
             "value": 64
            },
            "strokeWidth": {
             "value": 2
            }
           }
          }
         },
         "name": "color_legend",
         "orient": "left",
         "stroke": "color"
        }
       ],
       "marks": [
        {
         "from": {
          "facet": {
           "data": "points",
           "groupby": "trajectory",
           "name": "points_split"
          }
         },
         "marks": [
          {
           "encode": {
            "hover": {
             "fillOpacity": {
              "value": 0.9
             }
            },
            "update": {
             "fill": {
              "field": "trajectory",
              "scale": "color"
             },
             "fillOpacity": [
              {
               "test": "!length(data('selected')) || indata('selected', 'value', datum.trajectory)",
               "value": 0.5
              },
              {
               "value": 0.15
              }
             ],
             "size": {
              "value": 35
             },
             "stroke": {
              "field": "trajectory",
              "scale": "color"
             },
             "strokeOpacity": [
              {
               "test": "!length(data('selected')) || indata('selected', 'value', datum.trajectory)",
               "value": 0.75
              },
              {
               "value": 0.15
              }
             ],
             "strokeWidth": {
              "value": 2
             },
             "tooltip": {
              "field": "value"
             },
             "x": {
              "field": "timepoint",
              "scale": "xscale"
             },
             "y": {
              "field": "value",
              "scale": "yscale"
             }
            }
           },
           "from": {
            "data": "points_split"
           },
           "name": "_points_symbol",
           "type": "symbol",
           "zindex": 3
          },
          {
           "encode": {
            "hover": {
             "fillOpacity": {
              "value": 0.9
             }
            },
            "update": {
             "interpolate": {
              "value": "linear"
             },
             "stroke": {
              "field": "trajectory",
              "scale": "color"
             },
             "strokeDash": {
              "value": [
               5,
               3
              ]
             },
             "strokeOpacity": [
              {
               "test": "!length(data('selected')) || indata('selected', 'value', datum.trajectory)",
               "value": 0.3
              },
              {
               "value": 0.1
              }
             ],
             "strokeWidth": {
              "value": 2
             },
             "x": {
              "field": "timepoint",
              "scale": "xscale"
             },
             "y": {
              "field": "value",
              "scale": "yscale"
             }
            }
           },
           "from": {
            "data": "points_split"
           },
           "name": "_points_line",
           "type": "line",
           "zindex": 3
          }
         ],
         "name": "_points",
         "type": "group",
         "zindex": 3
        },
        {
         "from": {
          "facet": {
           "data": "traces",
           "groupby": "trajectory",
           "name": "traces_split"
          }
         },
         "marks": [
          {
           "encode": {
            "hover": {
             "fillOpacity": {
              "value": 0.9
             }
            },
            "update": {
             "interpolate": {
              "value": "linear"
             },
             "stroke": {
              "field": "trajectory",
              "scale": "color"
             },
             "strokeDash": [
              {
               "test": "indexof(datum.trajectory, 'aseline') == -1",
               "value": [
                1,
                0
               ]
              },
              {
               "value": [
                8,
                4
               ]
              }
             ],
             "strokeOpacity": [
              {
               "test": "!length(data('selected')) || indata('selected', 'value', datum.trajectory)",
               "value": 0.75
              },
              {
               "value": 0.15
              }
             ],
             "strokeWidth": {
              "value": 2
             },
             "x": {
              "field": "timepoint",
              "scale": "xscale"
             },
             "y": {
              "field": "value",
              "scale": "yscale"
             }
            }
           },
           "from": {
            "data": "traces_split"
           },
           "name": "_traces_lines",
           "type": "line"
          }
         ],
         "name": "_traces",
         "type": "group",
         "zindex": 2
        },
        {
         "from": {
          "facet": {
           "data": "distributions",
           "groupby": "trajectory",
           "name": "trajectory_split"
          }
         },
         "marks": [
          {
           "encode": {
            "hover": {
             "fillOpacity": {
              "value": 0.9
             }
            },
            "update": {
             "fill": {
              "field": "trajectory",
              "scale": "color"
             },
             "fillOpacity": [
              {
               "test": "!length(data('selected')) || indata('selected', 'value', datum.trajectory)",
               "value": 0.1
              },
              {
               "value": 0.05
              }
             ],
             "interpolate": {
              "value": "linear"
             },
             "stroke": {
              "field": "trajectory",
              "scale": "color"
             },
             "strokeOpacity": [
              {
               "test": "!length(data('selected')) || indata('selected', 'value', datum.trajectory)",
               "value": 0.1
              },
              {
               "value": 0.05
              }
             ],
             "strokeWidth": {
              "value": 2
             },
             "x": {
              "field": "timepoint",
              "scale": "xscale"
             },
             "y": {
              "field": "upper",
              "scale": "yscale"
             },
             "y2": {
              "field": "lower",
              "scale": "yscale"
             }
            }
           },
           "from": {
            "data": "trajectory_split"
           },
           "interactive": true,
           "name": "area",
           "type": "area"
          }
         ],
         "name": "_distributions",
         "type": "group",
         "zindex": 1
        },
        {
         "marks": [
          {
           "encode": {
            "enter": {
             "stroke": {
              "value": "lightgray"
             }
            },
            "update": {
             "opacity": {
              "value": 1
             },
             "x": {
              "field": "timepoint",
              "scale": "xscale"
             },
             "y": {
              "signal": "height"
             },
             "y2": {
              "value": 0
             }
            }
           },
           "from": {
            "data": "markers"
           },
           "name": "_marker text",
           "type": "rule"
          },
          {
           "encode": {
            "enter": {
             "fontSize": {
              "value": 8
             },
             "text": {
              "field": "datum.label"
             },
             "y": {
              "value": 0
             }
            }
           },
           "from": {
            "data": "_marker text"
           },
           "name": "_marker flags",
           "transform": [
            {
             "as": [
              "x",
              "_y",
              "opacity",
              "align",
              "baseline"
             ],
             "lineAnchor": "start",
             "offset": [
              1
             ],
             "size": {
              "signal": "[width, height]"
             },
             "type": "label"
            }
           ],
           "type": "text"
          }
         ],
         "name": "_markers",
         "type": "group"
        }
       ],
       "scales": [
        {
         "domain": {
          "fields": [
           {
            "data": "distributions",
            "field": "timepoint"
           },
           {
            "data": "traces",
            "field": "timepoint"
           },
           {
            "data": "points",
            "field": "timepoint"
           },
           {
            "data": "markers",
            "field": "timepoint"
           }
          ]
         },
         "name": "xscale",
         "range": "width",
         "type": "linear",
         "zero": false
        },
        {
         "domain": {
          "fields": [
           {
            "data": "distributions",
            "field": "lower"
           },
           {
            "data": "distributions",
            "field": "upper"
           },
           {
            "data": "traces",
            "field": "value"
           },
           {
            "data": "points",
            "field": "value"
           }
          ]
         },
         "name": "yscale",
         "nice": true,
         "range": "height",
         "type": "linear",
         "zero": true
        },
        {
         "domain": {
          "fields": [
           {
            "data": "distributions",
            "field": "trajectory"
           },
           {
            "data": "traces",
            "field": "trajectory"
           },
           {
            "data": "points",
            "field": "trajectory"
           }
          ],
          "sort": {
           "order": "ascending"
          }
         },
         "name": "color",
         "range": "category",
         "type": "ordinal"
        }
       ],
       "signals": [
        {
         "name": "clear",
         "on": [
          {
           "events": "mouseup[!event.item]",
           "force": true,
           "update": "true"
          }
         ],
         "value": true
        },
        {
         "name": "shift",
         "on": [
          {
           "events": "@legendSymbol:click, @legendLabel:click",
           "force": true,
           "update": "event.shiftKey"
          }
         ],
         "value": false
        },
        {
         "name": "clicked",
         "on": [
          {
           "events": "@legendSymbol:click, @legendLabel:click",
           "force": true,
           "update": "{value: datum.value}"
          }
         ],
         "value": null
        },
        {
         "name": "clearData",
         "on": [
          {
           "events": "mouseup[!event.item]",
           "force": true,
           "update": "true"
          }
         ],
         "value": true
        },
        {
         "name": "clickedData",
         "on": [
          {
           "events": "@area:click",
           "force": true,
           "update": "{value: datum.trajectory}"
          }
         ],
         "value": null
        }
       ],
       "width": 500
      }
     },
     "metadata": {},
     "output_type": "display_data"
    },
    {
     "name": "stdout",
     "output_type": "stream",
     "text": [
      "\n"
     ]
    },
    {
     "data": {
      "application/vnd.vega.v5+json": {
       "$schema": "https://vega.github.io/schema/vega/v5.json",
       "axes": [
        {
         "name": "x_axis",
         "orient": "bottom",
         "scale": "xscale",
         "zindex": 100
        },
        {
         "name": "y_axis",
         "orient": "left",
         "scale": "yscale",
         "zindex": 100
        }
       ],
       "background": "white",
       "data": [
        {
         "name": "distributions",
         "transform": [
          {
           "sort": {
            "field": [
             "trajectory",
             "timepoint"
            ]
           },
           "type": "collect"
          }
         ],
         "values": [
          {
           "lower": -1.4949828169759007,
           "timepoint": 0,
           "trajectory": "Example",
           "upper": 1.6693244280745998
          },
          {
           "lower": -0.49601083232126925,
           "timepoint": 1,
           "trajectory": "Example",
           "upper": 2.653117148629299
          },
          {
           "lower": -0.4560801037216338,
           "timepoint": 2,
           "trajectory": "Example",
           "upper": 2.8112012076439843
          },
          {
           "lower": -0.32877143220610394,
           "timepoint": 3,
           "trajectory": "Example",
           "upper": 2.8945800871695377
          },
          {
           "lower": -0.2010808329116324,
           "timepoint": 4,
           "trajectory": "Example",
           "upper": 2.9401991957832947
          },
          {
           "lower": -0.1516801482580109,
           "timepoint": 5,
           "trajectory": "Example",
           "upper": 3.02133441463142
          },
          {
           "lower": -0.11193495260823824,
           "timepoint": 6,
           "trajectory": "Example",
           "upper": 3.0910702134834867
          },
          {
           "lower": -0.04209126653023933,
           "timepoint": 7,
           "trajectory": "Example",
           "upper": 3.152562195107985
          },
          {
           "lower": 0.059299745856603914,
           "timepoint": 8,
           "trajectory": "Example",
           "upper": 3.2077784639176286
          },
          {
           "lower": 0.10218695809663617,
           "timepoint": 9,
           "trajectory": "Example",
           "upper": 3.2715728376121875
          },
          {
           "lower": 0.08056146944248851,
           "timepoint": 10,
           "trajectory": "Example",
           "upper": 3.3928738823000595
          },
          {
           "lower": 0.13690293199401082,
           "timepoint": 11,
           "trajectory": "Example",
           "upper": 3.458321076812575
          },
          {
           "lower": 0.23785501160787237,
           "timepoint": 12,
           "trajectory": "Example",
           "upper": 3.520756423427623
          },
          {
           "lower": 0.26858406737556234,
           "timepoint": 13,
           "trajectory": "Example",
           "upper": 3.568630523026816
          },
          {
           "lower": 0.25140014950790945,
           "timepoint": 14,
           "trajectory": "Example",
           "upper": 3.6296362707842103
          },
          {
           "lower": 0.21165799920780137,
           "timepoint": 15,
           "trajectory": "Example",
           "upper": 3.6966861387711165
          },
          {
           "lower": 0.17582911482156788,
           "timepoint": 16,
           "trajectory": "Example",
           "upper": 3.780930022784845
          },
          {
           "lower": 0.13128454985227178,
           "timepoint": 17,
           "trajectory": "Example",
           "upper": 3.852266661094962
          },
          {
           "lower": 0.1370567553315115,
           "timepoint": 18,
           "trajectory": "Example",
           "upper": 3.9180629466963897
          },
          {
           "lower": 0.15693965666872833,
           "timepoint": 19,
           "trajectory": "Example",
           "upper": 3.9819625201100197
          },
          {
           "lower": 0.19646831078093369,
           "timepoint": 20,
           "trajectory": "Example",
           "upper": 4.00092840116519
          },
          {
           "lower": 0.24626139002523592,
           "timepoint": 21,
           "trajectory": "Example",
           "upper": 4.017349841683702
          },
          {
           "lower": 0.296361617390958,
           "timepoint": 22,
           "trajectory": "Example",
           "upper": 3.961646346104445
          },
          {
           "lower": 0.34092829150549164,
           "timepoint": 23,
           "trajectory": "Example",
           "upper": 3.9863301365010804
          },
          {
           "lower": 0.3908310576958622,
           "timepoint": 24,
           "trajectory": "Example",
           "upper": 4.027359609480355
          },
          {
           "lower": 0.45906131325751454,
           "timepoint": 25,
           "trajectory": "Example",
           "upper": 4.050063747579501
          },
          {
           "lower": 0.5025272356752735,
           "timepoint": 26,
           "trajectory": "Example",
           "upper": 3.9659203824741427
          },
          {
           "lower": 0.4434970879050769,
           "timepoint": 27,
           "trajectory": "Example",
           "upper": 4.00177496640531
          },
          {
           "lower": 0.4146089554922453,
           "timepoint": 28,
           "trajectory": "Example",
           "upper": 4.016020920921038
          },
          {
           "lower": 0.37208614955212055,
           "timepoint": 29,
           "trajectory": "Example",
           "upper": 4.057711892448728
          },
          {
           "lower": 0.3216182689728423,
           "timepoint": 30,
           "trajectory": "Example",
           "upper": 4.078195597182804
          },
          {
           "lower": 0.30629824995694005,
           "timepoint": 31,
           "trajectory": "Example",
           "upper": 4.097459339632654
          },
          {
           "lower": 0.3283035588384331,
           "timepoint": 32,
           "trajectory": "Example",
           "upper": 4.116262507867529
          },
          {
           "lower": 0.38746000492432003,
           "timepoint": 33,
           "trajectory": "Example",
           "upper": 4.134630004790518
          },
          {
           "lower": 0.4812543791406033,
           "timepoint": 34,
           "trajectory": "Example",
           "upper": 4.148680555457809
          },
          {
           "lower": 0.5790233079497082,
           "timepoint": 35,
           "trajectory": "Example",
           "upper": 4.14383252880792
          },
          {
           "lower": 0.7295374279328504,
           "timepoint": 36,
           "trajectory": "Example",
           "upper": 4.184992919627474
          },
          {
           "lower": 0.7599972804358024,
           "timepoint": 37,
           "trajectory": "Example",
           "upper": 4.2106382384007865
          },
          {
           "lower": 0.7692006005850369,
           "timepoint": 38,
           "trajectory": "Example",
           "upper": 4.347237296033085
          },
          {
           "lower": 0.7601484063452596,
           "timepoint": 39,
           "trajectory": "Example",
           "upper": 4.375808677377561
          },
          {
           "lower": 0.7438775152238768,
           "timepoint": 40,
           "trajectory": "Example",
           "upper": 4.335900764222559
          },
          {
           "lower": 0.7212124420372797,
           "timepoint": 41,
           "trajectory": "Example",
           "upper": 4.362590971463216
          },
          {
           "lower": 0.6912284930048016,
           "timepoint": 42,
           "trajectory": "Example",
           "upper": 4.449031328430658
          },
          {
           "lower": 0.6577132647868524,
           "timepoint": 43,
           "trajectory": "Example",
           "upper": 4.464051035439843
          },
          {
           "lower": 0.6537651519372465,
           "timepoint": 44,
           "trajectory": "Example",
           "upper": 4.481481862664717
          },
          {
           "lower": 0.6696277108875726,
           "timepoint": 45,
           "trajectory": "Example",
           "upper": 4.493321497520179
          },
          {
           "lower": 0.7059186400701312,
           "timepoint": 46,
           "trajectory": "Example",
           "upper": 4.507359691913136
          },
          {
           "lower": 0.7465680162616928,
           "timepoint": 47,
           "trajectory": "Example",
           "upper": 4.448906826882109
          },
          {
           "lower": 0.7652476660148763,
           "timepoint": 48,
           "trajectory": "Example",
           "upper": 4.454443144233145
          },
          {
           "lower": 0.7829822685913131,
           "timepoint": 49,
           "trajectory": "Example",
           "upper": 4.522560589002769
          },
          {
           "lower": 0.8423546866902669,
           "timepoint": 50,
           "trajectory": "Example",
           "upper": 4.519017133128345
          },
          {
           "lower": 0.9029218861541314,
           "timepoint": 51,
           "trajectory": "Example",
           "upper": 4.4147364537632345
          },
          {
           "lower": 0.8570944368901456,
           "timepoint": 52,
           "trajectory": "Example",
           "upper": 4.418044008548681
          },
          {
           "lower": 0.834439570572871,
           "timepoint": 53,
           "trajectory": "Example",
           "upper": 4.410589373379612
          },
          {
           "lower": 0.7740871511977087,
           "timepoint": 54,
           "trajectory": "Example",
           "upper": 4.445433378474412
          },
          {
           "lower": 0.711883880225184,
           "timepoint": 55,
           "trajectory": "Example",
           "upper": 4.461118093193587
          },
          {
           "lower": 0.7158748958933666,
           "timepoint": 56,
           "trajectory": "Example",
           "upper": 4.488340053877792
          },
          {
           "lower": 0.778269009502943,
           "timepoint": 57,
           "trajectory": "Example",
           "upper": 4.498243148529609
          },
          {
           "lower": 0.8374583687688978,
           "timepoint": 58,
           "trajectory": "Example",
           "upper": 4.497517298933982
          },
          {
           "lower": 0.872128814029035,
           "timepoint": 59,
           "trajectory": "Example",
           "upper": 4.507951614225375
          },
          {
           "lower": 0.9899909122690647,
           "timepoint": 60,
           "trajectory": "Example",
           "upper": 4.497988006185025
          },
          {
           "lower": 1.1087853520796485,
           "timepoint": 61,
           "trajectory": "Example",
           "upper": 4.519714887661075
          },
          {
           "lower": 1.1449059671647481,
           "timepoint": 62,
           "trajectory": "Example",
           "upper": 4.54391454115877
          },
          {
           "lower": 1.232326605976109,
           "timepoint": 63,
           "trajectory": "Example",
           "upper": 4.6313090173409694
          },
          {
           "lower": 1.2197219286451986,
           "timepoint": 64,
           "trajectory": "Example",
           "upper": 4.642422894825902
          },
          {
           "lower": 1.1840335750971092,
           "timepoint": 65,
           "trajectory": "Example",
           "upper": 4.632799042212565
          },
          {
           "lower": 1.1308370026077452,
           "timepoint": 66,
           "trajectory": "Example",
           "upper": 4.651334603949316
          },
          {
           "lower": 1.0858602608845203,
           "timepoint": 67,
           "trajectory": "Example",
           "upper": 4.737814830514483
          },
          {
           "lower": 1.0703423436477966,
           "timepoint": 68,
           "trajectory": "Example",
           "upper": 4.758492392614189
          },
          {
           "lower": 1.0693454370373738,
           "timepoint": 69,
           "trajectory": "Example",
           "upper": 4.782978300474637
          },
          {
           "lower": 1.0834453746837949,
           "timepoint": 70,
           "trajectory": "Example",
           "upper": 4.783318012817151
          },
          {
           "lower": 1.1122869533018722,
           "timepoint": 71,
           "trajectory": "Example",
           "upper": 4.779592386125278
          },
          {
           "lower": 1.1646854656344312,
           "timepoint": 72,
           "trajectory": "Example",
           "upper": 4.751718419626348
          },
          {
           "lower": 1.2559773323086925,
           "timepoint": 73,
           "trajectory": "Example",
           "upper": 4.740616916606529
          },
          {
           "lower": 1.3186324719127362,
           "timepoint": 74,
           "trajectory": "Example",
           "upper": 4.809781365606696
          },
          {
           "lower": 1.3381832664241393,
           "timepoint": 75,
           "trajectory": "Example",
           "upper": 4.81964023432089
          },
          {
           "lower": 1.3234808206699316,
           "timepoint": 76,
           "trajectory": "Example",
           "upper": 4.7022009123821285
          },
          {
           "lower": 1.2580492071198772,
           "timepoint": 77,
           "trajectory": "Example",
           "upper": 4.703842173115451
          },
          {
           "lower": 1.1925719238678083,
           "timepoint": 78,
           "trajectory": "Example",
           "upper": 4.680886870801244
          },
          {
           "lower": 1.0995738013149334,
           "timepoint": 79,
           "trajectory": "Example",
           "upper": 4.71333197674022
          },
          {
           "lower": 1.1080361202376587,
           "timepoint": 80,
           "trajectory": "Example",
           "upper": 4.728545840304529
          },
          {
           "lower": 1.117946883196604,
           "timepoint": 81,
           "trajectory": "Example",
           "upper": 4.737848277862087
          },
          {
           "lower": 1.1280147942470165,
           "timepoint": 82,
           "trajectory": "Example",
           "upper": 4.747064976296651
          },
          {
           "lower": 1.1335487273661504,
           "timepoint": 83,
           "trajectory": "Example",
           "upper": 4.75619775715442
          },
          {
           "lower": 1.1199129419497869,
           "timepoint": 84,
           "trajectory": "Example",
           "upper": 4.7652483818971785
          },
          {
           "lower": 1.1396486722873518,
           "timepoint": 85,
           "trajectory": "Example",
           "upper": 4.75440531721959
          },
          {
           "lower": 1.298709561715111,
           "timepoint": 86,
           "trajectory": "Example",
           "upper": 4.759993360053544
          },
          {
           "lower": 1.3126610908162553,
           "timepoint": 87,
           "trajectory": "Example",
           "upper": 4.791924087839439
          },
          {
           "lower": 1.3313964702122172,
           "timepoint": 88,
           "trajectory": "Example",
           "upper": 4.886693842945588
          },
          {
           "lower": 1.3441184008632836,
           "timepoint": 89,
           "trajectory": "Example",
           "upper": 4.948287933578911
          },
          {
           "lower": 1.3574623897120242,
           "timepoint": 90,
           "trajectory": "Example",
           "upper": 4.9107301113325015
          },
          {
           "lower": 1.3572545835811172,
           "timepoint": 91,
           "trajectory": "Example",
           "upper": 4.908573940786913
          },
          {
           "lower": 1.276066305091146,
           "timepoint": 92,
           "trajectory": "Example",
           "upper": 4.989109993941462
          },
          {
           "lower": 1.1997131012820441,
           "timepoint": 93,
           "trajectory": "Example",
           "upper": 5.008724232480309
          },
          {
           "lower": 1.1835528731182035,
           "timepoint": 94,
           "trajectory": "Example",
           "upper": 5.019181190073604
          },
          {
           "lower": 1.1981213584899848,
           "timepoint": 95,
           "trajectory": "Example",
           "upper": 5.025287074760973
          },
          {
           "lower": 1.2246141564667816,
           "timepoint": 96,
           "trajectory": "Example",
           "upper": 5.0334705935554025
          },
          {
           "lower": 1.262002896293338,
           "timepoint": 97,
           "trajectory": "Example",
           "upper": 4.990150562209203
          },
          {
           "lower": 1.2751663236050703,
           "timepoint": 98,
           "trajectory": "Example",
           "upper": 4.9603420537255
          },
          {
           "lower": 1.2827249781109755,
           "timepoint": 99,
           "trajectory": "Example",
           "upper": 5.024634732159709
          }
         ]
        },
        {
         "name": "traces",
         "transform": [
          {
           "expr": "isValid(datum.value)",
           "type": "filter"
          },
          {
           "sort": {
            "field": [
             "trajectory",
             "timepoint"
            ]
           },
           "type": "collect"
          }
         ],
         "values": [
          {
           "color_by": "Trajectory Mean",
           "sample_id": 0,
           "timepoint": 0,
           "trajectory": "Baseline_Trajectory_Mean",
           "value": 0.023303680403063833
          },
          {
           "color_by": "Trajectory Mean",
           "sample_id": 0,
           "timepoint": 1,
           "trajectory": "Baseline_Trajectory_Mean",
           "value": 0.9914220154250375
          },
          {
           "color_by": "Trajectory Mean",
           "sample_id": 0,
           "timepoint": 2,
           "trajectory": "Baseline_Trajectory_Mean",
           "value": 1.1505941274153892
          },
          {
           "color_by": "Trajectory Mean",
           "sample_id": 0,
           "timepoint": 3,
           "trajectory": "Baseline_Trajectory_Mean",
           "value": 1.2510050097423102
          },
          {
           "color_by": "Trajectory Mean",
           "sample_id": 0,
           "timepoint": 4,
           "trajectory": "Baseline_Trajectory_Mean",
           "value": 1.3277782898057797
          },
          {
           "color_by": "Trajectory Mean",
           "sample_id": 0,
           "timepoint": 5,
           "trajectory": "Baseline_Trajectory_Mean",
           "value": 1.3938327191203475
          },
          {
           "color_by": "Trajectory Mean",
           "sample_id": 0,
           "timepoint": 6,
           "trajectory": "Baseline_Trajectory_Mean",
           "value": 1.4555800374635823
          },
          {
           "color_by": "Trajectory Mean",
           "sample_id": 0,
           "timepoint": 7,
           "trajectory": "Baseline_Trajectory_Mean",
           "value": 1.5165440643062
          },
          {
           "color_by": "Trajectory Mean",
           "sample_id": 0,
           "timepoint": 8,
           "trajectory": "Baseline_Trajectory_Mean",
           "value": 1.5786000594052234
          },
          {
           "color_by": "Trajectory Mean",
           "sample_id": 0,
           "timepoint": 9,
           "trajectory": "Baseline_Trajectory_Mean",
           "value": 1.6425177418398298
          },
          {
           "color_by": "Trajectory Mean",
           "sample_id": 0,
           "timepoint": 10,
           "trajectory": "Baseline_Trajectory_Mean",
           "value": 1.7082579385402108
          },
          {
           "color_by": "Trajectory Mean",
           "sample_id": 0,
           "timepoint": 11,
           "trajectory": "Baseline_Trajectory_Mean",
           "value": 1.7751744090055213
          },
          {
           "color_by": "Trajectory Mean",
           "sample_id": 0,
           "timepoint": 12,
           "trajectory": "Baseline_Trajectory_Mean",
           "value": 1.8421786848282276
          },
          {
           "color_by": "Trajectory Mean",
           "sample_id": 0,
           "timepoint": 13,
           "trajectory": "Baseline_Trajectory_Mean",
           "value": 1.9078905084218474
          },
          {
           "color_by": "Trajectory Mean",
           "sample_id": 0,
           "timepoint": 14,
           "trajectory": "Baseline_Trajectory_Mean",
           "value": 1.9707812962366629
          },
          {
           "color_by": "Trajectory Mean",
           "sample_id": 0,
           "timepoint": 15,
           "trajectory": "Baseline_Trajectory_Mean",
           "value": 2.0293109251047867
          },
          {
           "color_by": "Trajectory Mean",
           "sample_id": 0,
           "timepoint": 16,
           "trajectory": "Baseline_Trajectory_Mean",
           "value": 2.082054709615005
          },
          {
           "color_by": "Trajectory Mean",
           "sample_id": 0,
           "timepoint": 17,
           "trajectory": "Baseline_Trajectory_Mean",
           "value": 2.1278159643366856
          },
          {
           "color_by": "Trajectory Mean",
           "sample_id": 0,
           "timepoint": 18,
           "trajectory": "Baseline_Trajectory_Mean",
           "value": 2.1657192505439524
          },
          {
           "color_by": "Trajectory Mean",
           "sample_id": 0,
           "timepoint": 19,
           "trajectory": "Baseline_Trajectory_Mean",
           "value": 2.195279896862085
          },
          {
           "color_by": "Trajectory Mean",
           "sample_id": 0,
           "timepoint": 20,
           "trajectory": "Baseline_Trajectory_Mean",
           "value": 2.2164464168926563
          },
          {
           "color_by": "Trajectory Mean",
           "sample_id": 0,
           "timepoint": 21,
           "trajectory": "Baseline_Trajectory_Mean",
           "value": 2.229613848552998
          },
          {
           "color_by": "Trajectory Mean",
           "sample_id": 0,
           "timepoint": 22,
           "trajectory": "Baseline_Trajectory_Mean",
           "value": 2.2356076604309956
          },
          {
           "color_by": "Trajectory Mean",
           "sample_id": 0,
           "timepoint": 23,
           "trajectory": "Baseline_Trajectory_Mean",
           "value": 2.2356395733407486
          },
          {
           "color_by": "Trajectory Mean",
           "sample_id": 0,
           "timepoint": 24,
           "trajectory": "Baseline_Trajectory_Mean",
           "value": 2.231238303205005
          },
          {
           "color_by": "Trajectory Mean",
           "sample_id": 0,
           "timepoint": 25,
           "trajectory": "Baseline_Trajectory_Mean",
           "value": 2.2241597281432437
          },
          {
           "color_by": "Trajectory Mean",
           "sample_id": 0,
           "timepoint": 26,
           "trajectory": "Baseline_Trajectory_Mean",
           "value": 2.2162822168300482
          },
          {
           "color_by": "Trajectory Mean",
           "sample_id": 0,
           "timepoint": 27,
           "trajectory": "Baseline_Trajectory_Mean",
           "value": 2.2094937446843175
          },
          {
           "color_by": "Trajectory Mean",
           "sample_id": 0,
           "timepoint": 28,
           "trajectory": "Baseline_Trajectory_Mean",
           "value": 2.2055779103860567
          },
          {
           "color_by": "Trajectory Mean",
           "sample_id": 0,
           "timepoint": 29,
           "trajectory": "Baseline_Trajectory_Mean",
           "value": 2.2061060149734213
          },
          {
           "color_by": "Trajectory Mean",
           "sample_id": 0,
           "timepoint": 30,
           "trajectory": "Baseline_Trajectory_Mean",
           "value": 2.2123419745997466
          },
          {
           "color_by": "Trajectory Mean",
           "sample_id": 0,
           "timepoint": 31,
           "trajectory": "Baseline_Trajectory_Mean",
           "value": 2.2251660290925757
          },
          {
           "color_by": "Trajectory Mean",
           "sample_id": 0,
           "timepoint": 32,
           "trajectory": "Baseline_Trajectory_Mean",
           "value": 2.245022031228485
          },
          {
           "color_by": "Trajectory Mean",
           "sample_id": 0,
           "timepoint": 33,
           "trajectory": "Baseline_Trajectory_Mean",
           "value": 2.2718916287217787
          },
          {
           "color_by": "Trajectory Mean",
           "sample_id": 0,
           "timepoint": 34,
           "trajectory": "Baseline_Trajectory_Mean",
           "value": 2.305296973468906
          },
          {
           "color_by": "Trajectory Mean",
           "sample_id": 0,
           "timepoint": 35,
           "trajectory": "Baseline_Trajectory_Mean",
           "value": 2.3443318145713232
          },
          {
           "color_by": "Trajectory Mean",
           "sample_id": 0,
           "timepoint": 36,
           "trajectory": "Baseline_Trajectory_Mean",
           "value": 2.3877190633879013
          },
          {
           "color_by": "Trajectory Mean",
           "sample_id": 0,
           "timepoint": 37,
           "trajectory": "Baseline_Trajectory_Mean",
           "value": 2.433891270106836
          },
          {
           "color_by": "Trajectory Mean",
           "sample_id": 0,
           "timepoint": 38,
           "trajectory": "Baseline_Trajectory_Mean",
           "value": 2.481089024451298
          },
          {
           "color_by": "Trajectory Mean",
           "sample_id": 0,
           "timepoint": 39,
           "trajectory": "Baseline_Trajectory_Mean",
           "value": 2.527471176753698
          },
          {
           "color_by": "Trajectory Mean",
           "sample_id": 0,
           "timepoint": 40,
           "trajectory": "Baseline_Trajectory_Mean",
           "value": 2.5712300390796163
          },
          {
           "color_by": "Trajectory Mean",
           "sample_id": 0,
           "timepoint": 41,
           "trajectory": "Baseline_Trajectory_Mean",
           "value": 2.610704415085729
          },
          {
           "color_by": "Trajectory Mean",
           "sample_id": 0,
           "timepoint": 42,
           "trajectory": "Baseline_Trajectory_Mean",
           "value": 2.6444834411422597
          },
          {
           "color_by": "Trajectory Mean",
           "sample_id": 0,
           "timepoint": 43,
           "trajectory": "Baseline_Trajectory_Mean",
           "value": 2.6714947915777856
          },
          {
           "color_by": "Trajectory Mean",
           "sample_id": 0,
           "timepoint": 44,
           "trajectory": "Baseline_Trajectory_Mean",
           "value": 2.6910717722206288
          },
          {
           "color_by": "Trajectory Mean",
           "sample_id": 0,
           "timepoint": 45,
           "trajectory": "Baseline_Trajectory_Mean",
           "value": 2.7029951382991886
          },
          {
           "color_by": "Trajectory Mean",
           "sample_id": 0,
           "timepoint": 46,
           "trajectory": "Baseline_Trajectory_Mean",
           "value": 2.7075070436360575
          },
          {
           "color_by": "Trajectory Mean",
           "sample_id": 0,
           "timepoint": 47,
           "trajectory": "Baseline_Trajectory_Mean",
           "value": 2.7052962602416257
          },
          {
           "color_by": "Trajectory Mean",
           "sample_id": 0,
           "timepoint": 48,
           "trajectory": "Baseline_Trajectory_Mean",
           "value": 2.6974555931706714
          },
          {
           "color_by": "Trajectory Mean",
           "sample_id": 0,
           "timepoint": 49,
           "trajectory": "Baseline_Trajectory_Mean",
           "value": 2.685414143809311
          },
          {
           "color_by": "Trajectory Mean",
           "sample_id": 0,
           "timepoint": 50,
           "trajectory": "Baseline_Trajectory_Mean",
           "value": 2.6708486381431253
          },
          {
           "color_by": "Trajectory Mean",
           "sample_id": 0,
           "timepoint": 51,
           "trajectory": "Baseline_Trajectory_Mean",
           "value": 2.655579337809416
          },
          {
           "color_by": "Trajectory Mean",
           "sample_id": 0,
           "timepoint": 52,
           "trajectory": "Baseline_Trajectory_Mean",
           "value": 2.641457009945719
          },
          {
           "color_by": "Trajectory Mean",
           "sample_id": 0,
           "timepoint": 53,
           "trajectory": "Baseline_Trajectory_Mean",
           "value": 2.630247987431479
          },
          {
           "color_by": "Trajectory Mean",
           "sample_id": 0,
           "timepoint": 54,
           "trajectory": "Baseline_Trajectory_Mean",
           "value": 2.6235244695324105
          },
          {
           "color_by": "Trajectory Mean",
           "sample_id": 0,
           "timepoint": 55,
           "trajectory": "Baseline_Trajectory_Mean",
           "value": 2.6225668868323315
          },
          {
           "color_by": "Trajectory Mean",
           "sample_id": 0,
           "timepoint": 56,
           "trajectory": "Baseline_Trajectory_Mean",
           "value": 2.6282844039492694
          },
          {
           "color_by": "Trajectory Mean",
           "sample_id": 0,
           "timepoint": 57,
           "trajectory": "Baseline_Trajectory_Mean",
           "value": 2.641158505535065
          },
          {
           "color_by": "Trajectory Mean",
           "sample_id": 0,
           "timepoint": 58,
           "trajectory": "Baseline_Trajectory_Mean",
           "value": 2.661213175582364
          },
          {
           "color_by": "Trajectory Mean",
           "sample_id": 0,
           "timepoint": 59,
           "trajectory": "Baseline_Trajectory_Mean",
           "value": 2.688013526359578
          },
          {
           "color_by": "Trajectory Mean",
           "sample_id": 0,
           "timepoint": 60,
           "trajectory": "Baseline_Trajectory_Mean",
           "value": 2.72069296418151
          },
          {
           "color_by": "Trajectory Mean",
           "sample_id": 0,
           "timepoint": 61,
           "trajectory": "Baseline_Trajectory_Mean",
           "value": 2.7580072046952204
          },
          {
           "color_by": "Trajectory Mean",
           "sample_id": 0,
           "timepoint": 62,
           "trajectory": "Baseline_Trajectory_Mean",
           "value": 2.7984117807485736
          },
          {
           "color_by": "Trajectory Mean",
           "sample_id": 0,
           "timepoint": 63,
           "trajectory": "Baseline_Trajectory_Mean",
           "value": 2.84015822502097
          },
          {
           "color_by": "Trajectory Mean",
           "sample_id": 0,
           "timepoint": 64,
           "trajectory": "Baseline_Trajectory_Mean",
           "value": 2.8814029482630237
          },
          {
           "color_by": "Trajectory Mean",
           "sample_id": 0,
           "timepoint": 65,
           "trajectory": "Baseline_Trajectory_Mean",
           "value": 2.920322044420559
          },
          {
           "color_by": "Trajectory Mean",
           "sample_id": 0,
           "timepoint": 66,
           "trajectory": "Baseline_Trajectory_Mean",
           "value": 2.9552248852001948
          },
          {
           "color_by": "Trajectory Mean",
           "sample_id": 0,
           "timepoint": 67,
           "trajectory": "Baseline_Trajectory_Mean",
           "value": 2.9846594416944874
          },
          {
           "color_by": "Trajectory Mean",
           "sample_id": 0,
           "timepoint": 68,
           "trajectory": "Baseline_Trajectory_Mean",
           "value": 3.0075027848574885
          },
          {
           "color_by": "Trajectory Mean",
           "sample_id": 0,
           "timepoint": 69,
           "trajectory": "Baseline_Trajectory_Mean",
           "value": 3.023031137938387
          },
          {
           "color_by": "Trajectory Mean",
           "sample_id": 0,
           "timepoint": 70,
           "trajectory": "Baseline_Trajectory_Mean",
           "value": 3.0309651251590495
          },
          {
           "color_by": "Trajectory Mean",
           "sample_id": 0,
           "timepoint": 71,
           "trajectory": "Baseline_Trajectory_Mean",
           "value": 3.0314874029255714
          },
          {
           "color_by": "Trajectory Mean",
           "sample_id": 0,
           "timepoint": 72,
           "trajectory": "Baseline_Trajectory_Mean",
           "value": 3.0252315768205205
          },
          {
           "color_by": "Trajectory Mean",
           "sample_id": 0,
           "timepoint": 73,
           "trajectory": "Baseline_Trajectory_Mean",
           "value": 3.013243092779884
          },
          {
           "color_by": "Trajectory Mean",
           "sample_id": 0,
           "timepoint": 74,
           "trajectory": "Baseline_Trajectory_Mean",
           "value": 2.9969145332248153
          },
          {
           "color_by": "Trajectory Mean",
           "sample_id": 0,
           "timepoint": 75,
           "trajectory": "Baseline_Trajectory_Mean",
           "value": 2.9778993401617653
          },
          {
           "color_by": "Trajectory Mean",
           "sample_id": 0,
           "timepoint": 76,
           "trajectory": "Baseline_Trajectory_Mean",
           "value": 2.958009328450007
          },
          {
           "color_by": "Trajectory Mean",
           "sample_id": 0,
           "timepoint": 77,
           "trajectory": "Baseline_Trajectory_Mean",
           "value": 2.9391023601749966
          },
          {
           "color_by": "Trajectory Mean",
           "sample_id": 0,
           "timepoint": 78,
           "trajectory": "Baseline_Trajectory_Mean",
           "value": 2.9229671627033746
          },
          {
           "color_by": "Trajectory Mean",
           "sample_id": 0,
           "timepoint": 79,
           "trajectory": "Baseline_Trajectory_Mean",
           "value": 2.911212450502395
          },
          {
           "color_by": "Trajectory Mean",
           "sample_id": 0,
           "timepoint": 80,
           "trajectory": "Baseline_Trajectory_Mean",
           "value": 2.905167243146891
          },
          {
           "color_by": "Trajectory Mean",
           "sample_id": 0,
           "timepoint": 81,
           "trajectory": "Baseline_Trajectory_Mean",
           "value": 2.9057985757525238
          },
          {
           "color_by": "Trajectory Mean",
           "sample_id": 0,
           "timepoint": 82,
           "trajectory": "Baseline_Trajectory_Mean",
           "value": 2.91365171665047
          },
          {
           "color_by": "Trajectory Mean",
           "sample_id": 0,
           "timepoint": 83,
           "trajectory": "Baseline_Trajectory_Mean",
           "value": 2.928816607693751
          },
          {
           "color_by": "Trajectory Mean",
           "sample_id": 0,
           "timepoint": 84,
           "trajectory": "Baseline_Trajectory_Mean",
           "value": 2.9509226121683665
          },
          {
           "color_by": "Trajectory Mean",
           "sample_id": 0,
           "timepoint": 85,
           "trajectory": "Baseline_Trajectory_Mean",
           "value": 2.97916189524484
          },
          {
           "color_by": "Trajectory Mean",
           "sample_id": 0,
           "timepoint": 86,
           "trajectory": "Baseline_Trajectory_Mean",
           "value": 3.012339981678032
          },
          {
           "color_by": "Trajectory Mean",
           "sample_id": 0,
           "timepoint": 87,
           "trajectory": "Baseline_Trajectory_Mean",
           "value": 3.0489503457309346
          },
          {
           "color_by": "Trajectory Mean",
           "sample_id": 0,
           "timepoint": 88,
           "trajectory": "Baseline_Trajectory_Mean",
           "value": 3.0872683941206995
          },
          {
           "color_by": "Trajectory Mean",
           "sample_id": 0,
           "timepoint": 89,
           "trajectory": "Baseline_Trajectory_Mean",
           "value": 3.1254589970627307
          },
          {
           "color_by": "Trajectory Mean",
           "sample_id": 0,
           "timepoint": 90,
           "trajectory": "Baseline_Trajectory_Mean",
           "value": 3.1616908801868937
          },
          {
           "color_by": "Trajectory Mean",
           "sample_id": 0,
           "timepoint": 91,
           "trajectory": "Baseline_Trajectory_Mean",
           "value": 3.194250763588486
          },
          {
           "color_by": "Trajectory Mean",
           "sample_id": 0,
           "timepoint": 92,
           "trajectory": "Baseline_Trajectory_Mean",
           "value": 3.221650150073502
          },
          {
           "color_by": "Trajectory Mean",
           "sample_id": 0,
           "timepoint": 93,
           "trajectory": "Baseline_Trajectory_Mean",
           "value": 3.242718121780062
          },
          {
           "color_by": "Trajectory Mean",
           "sample_id": 0,
           "timepoint": 94,
           "trajectory": "Baseline_Trajectory_Mean",
           "value": 3.2566743743834845
          },
          {
           "color_by": "Trajectory Mean",
           "sample_id": 0,
           "timepoint": 95,
           "trajectory": "Baseline_Trajectory_Mean",
           "value": 3.2631779469265174
          },
          {
           "color_by": "Trajectory Mean",
           "sample_id": 0,
           "timepoint": 96,
           "trajectory": "Baseline_Trajectory_Mean",
           "value": 3.2623486165551294
          },
          {
           "color_by": "Trajectory Mean",
           "sample_id": 0,
           "timepoint": 97,
           "trajectory": "Baseline_Trajectory_Mean",
           "value": 3.2547596271216515
          },
          {
           "color_by": "Trajectory Mean",
           "sample_id": 0,
           "timepoint": 98,
           "trajectory": "Baseline_Trajectory_Mean",
           "value": 3.241402203062082
          },
          {
           "color_by": "Trajectory Mean",
           "sample_id": 0,
           "timepoint": 99,
           "trajectory": "Baseline_Trajectory_Mean",
           "value": 3.2236240543385026
          },
          {
           "color_by": "Chaos",
           "sample_id": 0,
           "timepoint": 0,
           "trajectory": "Chaos",
           "value": 0.01959606318481796
          },
          {
           "color_by": "Chaos",
           "sample_id": 0,
           "timepoint": 1,
           "trajectory": "Chaos",
           "value": 0.7582947342561255
          },
          {
           "color_by": "Chaos",
           "sample_id": 0,
           "timepoint": 2,
           "trajectory": "Chaos",
           "value": 0.7024469713705206
          },
          {
           "color_by": "Chaos",
           "sample_id": 0,
           "timepoint": 3,
           "trajectory": "Chaos",
           "value": 0.6157417678754159
          },
          {
           "color_by": "Chaos",
           "sample_id": 0,
           "timepoint": 4,
           "trajectory": "Chaos",
           "value": 0.5450708711427722
          },
          {
           "color_by": "Chaos",
           "sample_id": 0,
           "timepoint": 5,
           "trajectory": "Chaos",
           "value": 0.5126531150509804
          },
          {
           "color_by": "Chaos",
           "sample_id": 0,
           "timepoint": 6,
           "trajectory": "Chaos",
           "value": 0.5311535841733274
          },
          {
           "color_by": "Chaos",
           "sample_id": 0,
           "timepoint": 7,
           "trajectory": "Chaos",
           "value": 0.60691344592661
          },
          {
           "color_by": "Chaos",
           "sample_id": 0,
           "timepoint": 8,
           "trajectory": "Chaos",
           "value": 0.7410136970424888
          },
          {
           "color_by": "Chaos",
           "sample_id": 0,
           "timepoint": 9,
           "trajectory": "Chaos",
           "value": 0.929867134636181
          },
          {
           "color_by": "Chaos",
           "sample_id": 0,
           "timepoint": 10,
           "trajectory": "Chaos",
           "value": 1.165785481404788
          },
          {
           "color_by": "Chaos",
           "sample_id": 0,
           "timepoint": 11,
           "trajectory": "Chaos",
           "value": 1.437656396715478
          },
          {
           "color_by": "Chaos",
           "sample_id": 0,
           "timepoint": 12,
           "trajectory": "Chaos",
           "value": 1.7317586693072928
          },
          {
           "color_by": "Chaos",
           "sample_id": 0,
           "timepoint": 13,
           "trajectory": "Chaos",
           "value": 2.032697741975809
          },
          {
           "color_by": "Chaos",
           "sample_id": 0,
           "timepoint": 14,
           "trajectory": "Chaos",
           "value": 2.324420182345358
          },
          {
           "color_by": "Chaos",
           "sample_id": 0,
           "timepoint": 15,
           "trajectory": "Chaos",
           "value": 2.59125324487179
          },
          {
           "color_by": "Chaos",
           "sample_id": 0,
           "timepoint": 16,
           "trajectory": "Chaos",
           "value": 2.818910263153091
          },
          {
           "color_by": "Chaos",
           "sample_id": 0,
           "timepoint": 17,
           "trajectory": "Chaos",
           "value": 2.9954026520301387
          },
          {
           "color_by": "Chaos",
           "sample_id": 0,
           "timepoint": 18,
           "trajectory": "Chaos",
           "value": 3.1118039149260865
          },
          {
           "color_by": "Chaos",
           "sample_id": 0,
           "timepoint": 19,
           "trajectory": "Chaos",
           "value": 3.16281954213875
          },
          {
           "color_by": "Chaos",
           "sample_id": 0,
           "timepoint": 20,
           "trajectory": "Chaos",
           "value": 3.1471283128596803
          },
          {
           "color_by": "Chaos",
           "sample_id": 0,
           "timepoint": 21,
           "trajectory": "Chaos",
           "value": 3.067474443080262
          },
          {
           "color_by": "Chaos",
           "sample_id": 0,
           "timepoint": 22,
           "trajectory": "Chaos",
           "value": 2.9305053251897926
          },
          {
           "color_by": "Chaos",
           "sample_id": 0,
           "timepoint": 23,
           "trajectory": "Chaos",
           "value": 2.746365295659226
          },
          {
           "color_by": "Chaos",
           "sample_id": 0,
           "timepoint": 24,
           "trajectory": "Chaos",
           "value": 2.528070947787205
          },
          {
           "color_by": "Chaos",
           "sample_id": 0,
           "timepoint": 25,
           "trajectory": "Chaos",
           "value": 2.290707026265005
          },
          {
           "color_by": "Chaos",
           "sample_id": 0,
           "timepoint": 26,
           "trajectory": "Chaos",
           "value": 2.050493050381647
          },
          {
           "color_by": "Chaos",
           "sample_id": 0,
           "timepoint": 27,
           "trajectory": "Chaos",
           "value": 1.8237788168838944
          },
          {
           "color_by": "Chaos",
           "sample_id": 0,
           "timepoint": 28,
           "trajectory": "Chaos",
           "value": 1.6260313306016076
          },
          {
           "color_by": "Chaos",
           "sample_id": 0,
           "timepoint": 29,
           "trajectory": "Chaos",
           "value": 1.4708762251507155
          },
          {
           "color_by": "Chaos",
           "sample_id": 0,
           "timepoint": 30,
           "trajectory": "Chaos",
           "value": 1.369253333708988
          },
          {
           "color_by": "Chaos",
           "sample_id": 0,
           "timepoint": 31,
           "trajectory": "Chaos",
           "value": 1.3287389614073746
          },
          {
           "color_by": "Chaos",
           "sample_id": 0,
           "timepoint": 32,
           "trajectory": "Chaos",
           "value": 1.3530770374403334
          },
          {
           "color_by": "Chaos",
           "sample_id": 0,
           "timepoint": 33,
           "trajectory": "Chaos",
           "value": 1.4419483309519585
          },
          {
           "color_by": "Chaos",
           "sample_id": 0,
           "timepoint": 34,
           "trajectory": "Chaos",
           "value": 1.5909921075768445
          },
          {
           "color_by": "Chaos",
           "sample_id": 0,
           "timepoint": 35,
           "trajectory": "Chaos",
           "value": 1.7920789035261864
          },
          {
           "color_by": "Chaos",
           "sample_id": 0,
           "timepoint": 36,
           "trajectory": "Chaos",
           "value": 2.0338174772224358
          },
          {
           "color_by": "Chaos",
           "sample_id": 0,
           "timepoint": 37,
           "trajectory": "Chaos",
           "value": 2.302264435503287
          },
          {
           "color_by": "Chaos",
           "sample_id": 0,
           "timepoint": 38,
           "trajectory": "Chaos",
           "value": 2.5817924276570583
          },
          {
           "color_by": "Chaos",
           "sample_id": 0,
           "timepoint": 39,
           "trajectory": "Chaos",
           "value": 2.8560629395526163
          },
          {
           "color_by": "Chaos",
           "sample_id": 0,
           "timepoint": 40,
           "trajectory": "Chaos",
           "value": 3.1090432149154204
          },
          {
           "color_by": "Chaos",
           "sample_id": 0,
           "timepoint": 41,
           "trajectory": "Chaos",
           "value": 3.3260040857762903
          },
          {
           "color_by": "Chaos",
           "sample_id": 0,
           "timepoint": 42,
           "trajectory": "Chaos",
           "value": 3.494436679903117
          },
          {
           "color_by": "Chaos",
           "sample_id": 0,
           "timepoint": 43,
           "trajectory": "Chaos",
           "value": 3.6048310158521035
          },
          {
           "color_by": "Chaos",
           "sample_id": 0,
           "timepoint": 44,
           "trajectory": "Chaos",
           "value": 3.6512680825738806
          },
          {
           "color_by": "Chaos",
           "sample_id": 0,
           "timepoint": 45,
           "trajectory": "Chaos",
           "value": 3.631788596401011
          },
          {
           "color_by": "Chaos",
           "sample_id": 0,
           "timepoint": 46,
           "trajectory": "Chaos",
           "value": 3.54851551273001
          },
          {
           "color_by": "Chaos",
           "sample_id": 0,
           "timepoint": 47,
           "trajectory": "Chaos",
           "value": 3.4075226795061018
          },
          {
           "color_by": "Chaos",
           "sample_id": 0,
           "timepoint": 48,
           "trajectory": "Chaos",
           "value": 3.218457802819899
          },
          {
           "color_by": "Chaos",
           "sample_id": 0,
           "timepoint": 49,
           "trajectory": "Chaos",
           "value": 2.993943170197731
          },
          {
           "color_by": "Chaos",
           "sample_id": 0,
           "timepoint": 50,
           "trajectory": "Chaos",
           "value": 2.7487913947596674
          },
          {
           "color_by": "Chaos",
           "sample_id": 0,
           "timepoint": 51,
           "trajectory": "Chaos",
           "value": 2.4990849442126772
          },
          {
           "color_by": "Chaos",
           "sample_id": 0,
           "timepoint": 52,
           "trajectory": "Chaos",
           "value": 2.261176687570735
          },
          {
           "color_by": "Chaos",
           "sample_id": 0,
           "timepoint": 53,
           "trajectory": "Chaos",
           "value": 2.0506736029869717
          },
          {
           "color_by": "Chaos",
           "sample_id": 0,
           "timepoint": 54,
           "trajectory": "Chaos",
           "value": 1.881466836829841
          },
          {
           "color_by": "Chaos",
           "sample_id": 0,
           "timepoint": 55,
           "trajectory": "Chaos",
           "value": 1.7648684220503585
          },
          {
           "color_by": "Chaos",
           "sample_id": 0,
           "timepoint": 56,
           "trajectory": "Chaos",
           "value": 1.7089083321615224
          },
          {
           "color_by": "Chaos",
           "sample_id": 0,
           "timepoint": 57,
           "trajectory": "Chaos",
           "value": 1.7178355781098915
          },
          {
           "color_by": "Chaos",
           "sample_id": 0,
           "timepoint": 58,
           "trajectory": "Chaos",
           "value": 1.7918543687873418
          },
          {
           "color_by": "Chaos",
           "sample_id": 0,
           "timepoint": 59,
           "trajectory": "Chaos",
           "value": 1.927111740693316
          },
          {
           "color_by": "Chaos",
           "sample_id": 0,
           "timepoint": 60,
           "trajectory": "Chaos",
           "value": 2.115937427017382
          },
          {
           "color_by": "Chaos",
           "sample_id": 0,
           "timepoint": 61,
           "trajectory": "Chaos",
           "value": 2.3473210532906705
          },
          {
           "color_by": "Chaos",
           "sample_id": 0,
           "timepoint": 62,
           "trajectory": "Chaos",
           "value": 2.6075969908519907
          },
          {
           "color_by": "Chaos",
           "sample_id": 0,
           "timepoint": 63,
           "trajectory": "Chaos",
           "value": 2.881294288139598
          },
          {
           "color_by": "Chaos",
           "sample_id": 0,
           "timepoint": 64,
           "trajectory": "Chaos",
           "value": 3.1520988360097255
          },
          {
           "color_by": "Chaos",
           "sample_id": 0,
           "timepoint": 65,
           "trajectory": "Chaos",
           "value": 3.4038679450513403
          },
          {
           "color_by": "Chaos",
           "sample_id": 0,
           "timepoint": 66,
           "trajectory": "Chaos",
           "value": 3.6216342540849187
          },
          {
           "color_by": "Chaos",
           "sample_id": 0,
           "timepoint": 67,
           "trajectory": "Chaos",
           "value": 3.792536552316093
          },
          {
           "color_by": "Chaos",
           "sample_id": 0,
           "timepoint": 68,
           "trajectory": "Chaos",
           "value": 3.906619641722455
          },
          {
           "color_by": "Chaos",
           "sample_id": 0,
           "timepoint": 69,
           "trajectory": "Chaos",
           "value": 3.9574535086524687
          },
          {
           "color_by": "Chaos",
           "sample_id": 0,
           "timepoint": 70,
           "trajectory": "Chaos",
           "value": 3.94253330805403
          },
          {
           "color_by": "Chaos",
           "sample_id": 0,
           "timepoint": 71,
           "trajectory": "Chaos",
           "value": 3.863435291723127
          },
          {
           "color_by": "Chaos",
           "sample_id": 0,
           "timepoint": 72,
           "trajectory": "Chaos",
           "value": 3.7257189861488538
          },
          {
           "color_by": "Chaos",
           "sample_id": 0,
           "timepoint": 73,
           "trajectory": "Chaos",
           "value": 3.5385817024717965
          },
          {
           "color_by": "Chaos",
           "sample_id": 0,
           "timepoint": 74,
           "trajectory": "Chaos",
           "value": 3.3142868598347253
          },
          {
           "color_by": "Chaos",
           "sample_id": 0,
           "timepoint": 75,
           "trajectory": "Chaos",
           "value": 3.067401666566728
          },
          {
           "color_by": "Chaos",
           "sample_id": 0,
           "timepoint": 76,
           "trajectory": "Chaos",
           "value": 2.8138915568250438
          },
          {
           "color_by": "Chaos",
           "sample_id": 0,
           "timepoint": 77,
           "trajectory": "Chaos",
           "value": 2.5701276865490907
          },
          {
           "color_by": "Chaos",
           "sample_id": 0,
           "timepoint": 78,
           "trajectory": "Chaos",
           "value": 2.351869198112108
          },
          {
           "color_by": "Chaos",
           "sample_id": 0,
           "timepoint": 79,
           "trajectory": "Chaos",
           "value": 2.173283531797661
          },
          {
           "color_by": "Chaos",
           "sample_id": 0,
           "timepoint": 80,
           "trajectory": "Chaos",
           "value": 2.046065696643918
          },
          {
           "color_by": "Chaos",
           "sample_id": 0,
           "timepoint": 81,
           "trajectory": "Chaos",
           "value": 1.9787112603687291
          },
          {
           "color_by": "Chaos",
           "sample_id": 0,
           "timepoint": 82,
           "trajectory": "Chaos",
           "value": 1.9759882605660357
          },
          {
           "color_by": "Chaos",
           "sample_id": 0,
           "timepoint": 83,
           "trajectory": "Chaos",
           "value": 2.038640871389442
          },
          {
           "color_by": "Chaos",
           "sample_id": 0,
           "timepoint": 84,
           "trajectory": "Chaos",
           "value": 2.163343250492552
          },
          {
           "color_by": "Chaos",
           "sample_id": 0,
           "timepoint": 85,
           "trajectory": "Chaos",
           "value": 2.342906435987382
          },
          {
           "color_by": "Chaos",
           "sample_id": 0,
           "timepoint": 86,
           "trajectory": "Chaos",
           "value": 2.5667254297468456
          },
          {
           "color_by": "Chaos",
           "sample_id": 0,
           "timepoint": 87,
           "trajectory": "Chaos",
           "value": 2.8214386697436735
          },
          {
           "color_by": "Chaos",
           "sample_id": 0,
           "timepoint": 88,
           "trajectory": "Chaos",
           "value": 3.0917588887871488
          },
          {
           "color_by": "Chaos",
           "sample_id": 0,
           "timepoint": 89,
           "trajectory": "Chaos",
           "value": 3.3614237010341594
          },
          {
           "color_by": "Chaos",
           "sample_id": 0,
           "timepoint": 90,
           "trajectory": "Chaos",
           "value": 3.614206813549798
          },
          {
           "color_by": "Chaos",
           "sample_id": 0,
           "timepoint": 91,
           "trajectory": "Chaos",
           "value": 3.834926990813146
          },
          {
           "color_by": "Chaos",
           "sample_id": 0,
           "timepoint": 92,
           "trajectory": "Chaos",
           "value": 4.010392039767743
          },
          {
           "color_by": "Chaos",
           "sample_id": 0,
           "timepoint": 93,
           "trajectory": "Chaos",
           "value": 4.130219123117379
          },
          {
           "color_by": "Chaos",
           "sample_id": 0,
           "timepoint": 94,
           "trajectory": "Chaos",
           "value": 4.187480397872295
          },
          {
           "color_by": "Chaos",
           "sample_id": 0,
           "timepoint": 95,
           "trajectory": "Chaos",
           "value": 4.1791338365749695
          },
          {
           "color_by": "Chaos",
           "sample_id": 0,
           "timepoint": 96,
           "trajectory": "Chaos",
           "value": 4.10621244492966
          },
          {
           "color_by": "Chaos",
           "sample_id": 0,
           "timepoint": 97,
           "trajectory": "Chaos",
           "value": 3.9737601112961984
          },
          {
           "color_by": "Chaos",
           "sample_id": 0,
           "timepoint": 98,
           "trajectory": "Chaos",
           "value": 3.790518076707173
          },
          {
           "color_by": "Chaos",
           "sample_id": 0,
           "timepoint": 99,
           "trajectory": "Chaos",
           "value": 3.5683815192711332
          },
          {
           "color_by": "Granger 167/167",
           "sample_id": 0,
           "timepoint": 0,
           "trajectory": "Granger_167/167",
           "value": -0.07803719712476236
          },
          {
           "color_by": "Granger 167/167",
           "sample_id": 0,
           "timepoint": 1,
           "trajectory": "Granger_167/167",
           "value": 0.9219628028752377
          },
          {
           "color_by": "Granger 167/167",
           "sample_id": 0,
           "timepoint": 2,
           "trajectory": "Granger_167/167",
           "value": 1.1111699178779586
          },
          {
           "color_by": "Granger 167/167",
           "sample_id": 0,
           "timepoint": 3,
           "trajectory": "Granger_167/167",
           "value": 1.23803681582773
          },
          {
           "color_by": "Granger 167/167",
           "sample_id": 0,
           "timepoint": 4,
           "trajectory": "Granger_167/167",
           "value": 1.3361763652483327
          },
          {
           "color_by": "Granger 167/167",
           "sample_id": 0,
           "timepoint": 5,
           "trajectory": "Granger_167/167",
           "value": 1.417311584096458
          },
          {
           "color_by": "Granger 167/167",
           "sample_id": 0,
           "timepoint": 6,
           "trajectory": "Granger_167/167",
           "value": 1.487047382948525
          },
          {
           "color_by": "Granger 167/167",
           "sample_id": 0,
           "timepoint": 7,
           "trajectory": "Granger_167/167",
           "value": 1.5485393645730232
          },
          {
           "color_by": "Granger 167/167",
           "sample_id": 0,
           "timepoint": 8,
           "trajectory": "Granger_167/167",
           "value": 1.6037556333826666
          },
          {
           "color_by": "Granger 167/167",
           "sample_id": 0,
           "timepoint": 9,
           "trajectory": "Granger_167/167",
           "value": 1.6540136104441148
          },
          {
           "color_by": "Granger 167/167",
           "sample_id": 0,
           "timepoint": 10,
           "trajectory": "Granger_167/167",
           "value": 1.7002422129141603
          },
          {
           "color_by": "Granger 167/167",
           "sample_id": 0,
           "timepoint": 11,
           "trajectory": "Granger_167/167",
           "value": 1.7431230897131094
          },
          {
           "color_by": "Granger 167/167",
           "sample_id": 0,
           "timepoint": 12,
           "trajectory": "Granger_167/167",
           "value": 1.7831725210794367
          },
          {
           "color_by": "Granger 167/167",
           "sample_id": 0,
           "timepoint": 13,
           "trajectory": "Granger_167/167",
           "value": 1.8207917249911794
          },
          {
           "color_by": "Granger 167/167",
           "sample_id": 0,
           "timepoint": 14,
           "trajectory": "Granger_167/167",
           "value": 1.856299223142907
          },
          {
           "color_by": "Granger 167/167",
           "sample_id": 0,
           "timepoint": 15,
           "trajectory": "Granger_167/167",
           "value": 1.889952474140668
          },
          {
           "color_by": "Granger 167/167",
           "sample_id": 0,
           "timepoint": 16,
           "trajectory": "Granger_167/167",
           "value": 1.9219628028752376
          },
          {
           "color_by": "Granger 167/167",
           "sample_id": 0,
           "timepoint": 17,
           "trajectory": "Granger_167/167",
           "value": 1.9525059877441682
          },
          {
           "color_by": "Granger 167/167",
           "sample_id": 0,
           "timepoint": 18,
           "trajectory": "Granger_167/167",
           "value": 1.9817299467823553
          },
          {
           "color_by": "Granger 167/167",
           "sample_id": 0,
           "timepoint": 19,
           "trajectory": "Granger_167/167",
           "value": 2.0097604328050815
          },
          {
           "color_by": "Granger 167/167",
           "sample_id": 0,
           "timepoint": 20,
           "trajectory": "Granger_167/167",
           "value": 2.0367053297563658
          },
          {
           "color_by": "Granger 167/167",
           "sample_id": 0,
           "timepoint": 21,
           "trajectory": "Granger_167/167",
           "value": 2.06265794580331
          },
          {
           "color_by": "Granger 167/167",
           "sample_id": 0,
           "timepoint": 22,
           "trajectory": "Granger_167/167",
           "value": 2.0876995735432313
          },
          {
           "color_by": "Granger 167/167",
           "sample_id": 0,
           "timepoint": 23,
           "trajectory": "Granger_167/167",
           "value": 2.1119015059700796
          },
          {
           "color_by": "Granger 167/167",
           "sample_id": 0,
           "timepoint": 24,
           "trajectory": "Granger_167/167",
           "value": 2.1353266422758805
          },
          {
           "color_by": "Granger 167/167",
           "sample_id": 0,
           "timepoint": 25,
           "trajectory": "Granger_167/167",
           "value": 2.1580307803750274
          },
          {
           "color_by": "Granger 167/167",
           "sample_id": 0,
           "timepoint": 26,
           "trajectory": "Granger_167/167",
           "value": 2.1800636672284632
          },
          {
           "color_by": "Granger 167/167",
           "sample_id": 0,
           "timepoint": 27,
           "trajectory": "Granger_167/167",
           "value": 2.201469859830015
          },
          {
           "color_by": "Granger 167/167",
           "sample_id": 0,
           "timepoint": 28,
           "trajectory": "Granger_167/167",
           "value": 2.2222894366664434
          },
          {
           "color_by": "Granger 167/167",
           "sample_id": 0,
           "timepoint": 29,
           "trajectory": "Granger_167/167",
           "value": 2.2425585899813214
          },
          {
           "color_by": "Granger 167/167",
           "sample_id": 0,
           "timepoint": 30,
           "trajectory": "Granger_167/167",
           "value": 2.2623101221959536
          },
          {
           "color_by": "Granger 167/167",
           "sample_id": 0,
           "timepoint": 31,
           "trajectory": "Granger_167/167",
           "value": 2.2815738646458046
          },
          {
           "color_by": "Granger 167/167",
           "sample_id": 0,
           "timepoint": 32,
           "trajectory": "Granger_167/167",
           "value": 2.3003770328806796
          },
          {
           "color_by": "Granger 167/167",
           "sample_id": 0,
           "timepoint": 33,
           "trajectory": "Granger_167/167",
           "value": 2.3187445298036677
          },
          {
           "color_by": "Granger 167/167",
           "sample_id": 0,
           "timepoint": 34,
           "trajectory": "Granger_167/167",
           "value": 2.3366992056416556
          },
          {
           "color_by": "Granger 167/167",
           "sample_id": 0,
           "timepoint": 35,
           "trajectory": "Granger_167/167",
           "value": 2.354262081973025
          },
          {
           "color_by": "Granger 167/167",
           "sample_id": 0,
           "timepoint": 36,
           "trajectory": "Granger_167/167",
           "value": 2.3714525456584155
          },
          {
           "color_by": "Granger 167/167",
           "sample_id": 0,
           "timepoint": 37,
           "trajectory": "Granger_167/167",
           "value": 2.3882885174348982
          },
          {
           "color_by": "Granger 167/167",
           "sample_id": 0,
           "timepoint": 38,
           "trajectory": "Granger_167/167",
           "value": 2.404786599073626
          },
          {
           "color_by": "Granger 167/167",
           "sample_id": 0,
           "timepoint": 39,
           "trajectory": "Granger_167/167",
           "value": 2.420962202314621
          },
          {
           "color_by": "Granger 167/167",
           "sample_id": 0,
           "timepoint": 40,
           "trajectory": "Granger_167/167",
           "value": 2.4368296622411085
          },
          {
           "color_by": "Granger 167/167",
           "sample_id": 0,
           "timepoint": 41,
           "trajectory": "Granger_167/167",
           "value": 2.4524023373104806
          },
          {
           "color_by": "Granger 167/167",
           "sample_id": 0,
           "timepoint": 42,
           "trajectory": "Granger_167/167",
           "value": 2.467692697897068
          },
          {
           "color_by": "Granger 167/167",
           "sample_id": 0,
           "timepoint": 43,
           "trajectory": "Granger_167/167",
           "value": 2.4827124049062523
          },
          {
           "color_by": "Granger 167/167",
           "sample_id": 0,
           "timepoint": 44,
           "trajectory": "Granger_167/167",
           "value": 2.497472379776632
          },
          {
           "color_by": "Granger 167/167",
           "sample_id": 0,
           "timepoint": 45,
           "trajectory": "Granger_167/167",
           "value": 2.511982866986589
          },
          {
           "color_by": "Granger 167/167",
           "sample_id": 0,
           "timepoint": 46,
           "trajectory": "Granger_167/167",
           "value": 2.5262534900154554
          },
          {
           "color_by": "Granger 167/167",
           "sample_id": 0,
           "timepoint": 47,
           "trajectory": "Granger_167/167",
           "value": 2.540293301571123
          },
          {
           "color_by": "Granger 167/167",
           "sample_id": 0,
           "timepoint": 48,
           "trajectory": "Granger_167/167",
           "value": 2.5541108287802223
          },
          {
           "color_by": "Granger 167/167",
           "sample_id": 0,
           "timepoint": 49,
           "trajectory": "Granger_167/167",
           "value": 2.5677141139398283
          },
          {
           "color_by": "Granger 167/167",
           "sample_id": 0,
           "timepoint": 50,
           "trajectory": "Granger_167/167",
           "value": 2.581110751347732
          },
          {
           "color_by": "Granger 167/167",
           "sample_id": 0,
           "timepoint": 51,
           "trajectory": "Granger_167/167",
           "value": 2.594307920659026
          },
          {
           "color_by": "Granger 167/167",
           "sample_id": 0,
           "timepoint": 52,
           "trajectory": "Granger_167/167",
           "value": 2.6073124171578876
          },
          {
           "color_by": "Granger 167/167",
           "sample_id": 0,
           "timepoint": 53,
           "trajectory": "Granger_167/167",
           "value": 2.620130679283323
          },
          {
           "color_by": "Granger 167/167",
           "sample_id": 0,
           "timepoint": 54,
           "trajectory": "Granger_167/167",
           "value": 2.632768813704772
          },
          {
           "color_by": "Granger 167/167",
           "sample_id": 0,
           "timepoint": 55,
           "trajectory": "Granger_167/167",
           "value": 2.645232618206738
          },
          {
           "color_by": "Granger 167/167",
           "sample_id": 0,
           "timepoint": 56,
           "trajectory": "Granger_167/167",
           "value": 2.6575276026099983
          },
          {
           "color_by": "Granger 167/167",
           "sample_id": 0,
           "timepoint": 57,
           "trajectory": "Granger_167/167",
           "value": 2.66965900792971
          },
          {
           "color_by": "Granger 167/167",
           "sample_id": 0,
           "timepoint": 58,
           "trajectory": "Granger_167/167",
           "value": 2.681631823947132
          },
          {
           "color_by": "Granger 167/167",
           "sample_id": 0,
           "timepoint": 59,
           "trajectory": "Granger_167/167",
           "value": 2.6934508053512736
          },
          {
           "color_by": "Granger 167/167",
           "sample_id": 0,
           "timepoint": 60,
           "trajectory": "Granger_167/167",
           "value": 2.705120486588978
          },
          {
           "color_by": "Granger 167/167",
           "sample_id": 0,
           "timepoint": 61,
           "trajectory": "Granger_167/167",
           "value": 2.7166451955464788
          },
          {
           "color_by": "Granger 167/167",
           "sample_id": 0,
           "timepoint": 62,
           "trajectory": "Granger_167/167",
           "value": 2.7280290661719206
          },
          {
           "color_by": "Granger 167/167",
           "sample_id": 0,
           "timepoint": 63,
           "trajectory": "Granger_167/167",
           "value": 2.739276050136495
          },
          {
           "color_by": "Granger 167/167",
           "sample_id": 0,
           "timepoint": 64,
           "trajectory": "Granger_167/167",
           "value": 2.750389927621428
          },
          {
           "color_by": "Granger 167/167",
           "sample_id": 0,
           "timepoint": 65,
           "trajectory": "Granger_167/167",
           "value": 2.761374317308915
          },
          {
           "color_by": "Granger 167/167",
           "sample_id": 0,
           "timepoint": 66,
           "trajectory": "Granger_167/167",
           "value": 2.772232685647036
          },
          {
           "color_by": "Granger 167/167",
           "sample_id": 0,
           "timepoint": 67,
           "trajectory": "Granger_167/167",
           "value": 2.7829683554515428
          },
          {
           "color_by": "Granger 167/167",
           "sample_id": 0,
           "timepoint": 68,
           "trajectory": "Granger_167/167",
           "value": 2.793584513901138
          },
          {
           "color_by": "Granger 167/167",
           "sample_id": 0,
           "timepoint": 69,
           "trajectory": "Granger_167/167",
           "value": 2.8040842199772436
          },
          {
           "color_by": "Granger 167/167",
           "sample_id": 0,
           "timepoint": 70,
           "trajectory": "Granger_167/167",
           "value": 2.8144704113943155
          },
          {
           "color_by": "Granger 167/167",
           "sample_id": 0,
           "timepoint": 71,
           "trajectory": "Granger_167/167",
           "value": 2.824745911062337
          },
          {
           "color_by": "Granger 167/167",
           "sample_id": 0,
           "timepoint": 72,
           "trajectory": "Granger_167/167",
           "value": 2.834913433119178
          },
          {
           "color_by": "Granger 167/167",
           "sample_id": 0,
           "timepoint": 73,
           "trajectory": "Granger_167/167",
           "value": 2.8449755885670025
          },
          {
           "color_by": "Granger 167/167",
           "sample_id": 0,
           "timepoint": 74,
           "trajectory": "Granger_167/167",
           "value": 2.8549348905437557
          },
          {
           "color_by": "Granger 167/167",
           "sample_id": 0,
           "timepoint": 75,
           "trajectory": "Granger_167/167",
           "value": 2.8647937592579495
          },
          {
           "color_by": "Granger 167/167",
           "sample_id": 0,
           "timepoint": 76,
           "trajectory": "Granger_167/167",
           "value": 2.874554526612427
          },
          {
           "color_by": "Granger 167/167",
           "sample_id": 0,
           "timepoint": 77,
           "trajectory": "Granger_167/167",
           "value": 2.8842194405405364
          },
          {
           "color_by": "Granger 167/167",
           "sample_id": 0,
           "timepoint": 78,
           "trajectory": "Granger_167/167",
           "value": 2.893790669076079
          },
          {
           "color_by": "Granger 167/167",
           "sample_id": 0,
           "timepoint": 79,
           "trajectory": "Granger_167/167",
           "value": 2.9032703041765693
          },
          {
           "color_by": "Granger 167/167",
           "sample_id": 0,
           "timepoint": 80,
           "trajectory": "Granger_167/167",
           "value": 2.9126603653176786
          },
          {
           "color_by": "Granger 167/167",
           "sample_id": 0,
           "timepoint": 81,
           "trajectory": "Granger_167/167",
           "value": 2.9219628028752376
          },
          {
           "color_by": "Granger 167/167",
           "sample_id": 0,
           "timepoint": 82,
           "trajectory": "Granger_167/167",
           "value": 2.9311795013098014
          },
          {
           "color_by": "Granger 167/167",
           "sample_id": 0,
           "timepoint": 83,
           "trajectory": "Granger_167/167",
           "value": 2.9403122821675707
          },
          {
           "color_by": "Granger 167/167",
           "sample_id": 0,
           "timepoint": 84,
           "trajectory": "Granger_167/167",
           "value": 2.9493629069103284
          },
          {
           "color_by": "Granger 167/167",
           "sample_id": 0,
           "timepoint": 85,
           "trajectory": "Granger_167/167",
           "value": 2.9583330795860485
          },
          {
           "color_by": "Granger 167/167",
           "sample_id": 0,
           "timepoint": 86,
           "trajectory": "Granger_167/167",
           "value": 2.967224449350907
          },
          {
           "color_by": "Granger 167/167",
           "sample_id": 0,
           "timepoint": 87,
           "trajectory": "Granger_167/167",
           "value": 2.976038612852589
          },
          {
           "color_by": "Granger 167/167",
           "sample_id": 0,
           "timepoint": 88,
           "trajectory": "Granger_167/167",
           "value": 2.9847771164840236
          },
          {
           "color_by": "Granger 167/167",
           "sample_id": 0,
           "timepoint": 89,
           "trajectory": "Granger_167/167",
           "value": 2.9934414585159703
          },
          {
           "color_by": "Granger 167/167",
           "sample_id": 0,
           "timepoint": 90,
           "trajectory": "Granger_167/167",
           "value": 3.0020330911162607
          },
          {
           "color_by": "Granger 167/167",
           "sample_id": 0,
           "timepoint": 91,
           "trajectory": "Granger_167/167",
           "value": 3.0105534222628987
          },
          {
           "color_by": "Granger 167/167",
           "sample_id": 0,
           "timepoint": 92,
           "trajectory": "Granger_167/167",
           "value": 3.01900381755771
          },
          {
           "color_by": "Granger 167/167",
           "sample_id": 0,
           "timepoint": 93,
           "trajectory": "Granger_167/167",
           "value": 3.027385601946719
          },
          {
           "color_by": "Granger 167/167",
           "sample_id": 0,
           "timepoint": 94,
           "trajectory": "Granger_167/167",
           "value": 3.0357000613530074
          },
          {
           "color_by": "Granger 167/167",
           "sample_id": 0,
           "timepoint": 95,
           "trajectory": "Granger_167/167",
           "value": 3.0439484442273828
          },
          {
           "color_by": "Granger 167/167",
           "sample_id": 0,
           "timepoint": 96,
           "trajectory": "Granger_167/167",
           "value": 3.0521319630218122
          },
          {
           "color_by": "Granger 167/167",
           "sample_id": 0,
           "timepoint": 97,
           "trajectory": "Granger_167/167",
           "value": 3.0602517955902337
          },
          {
           "color_by": "Granger 167/167",
           "sample_id": 0,
           "timepoint": 98,
           "trajectory": "Granger_167/167",
           "value": 3.068309086521026
          },
          {
           "color_by": "Granger 167/167",
           "sample_id": 0,
           "timepoint": 99,
           "trajectory": "Granger_167/167",
           "value": 3.076304948405142
          },
          {
           "color_by": "Mean",
           "sample_id": 0,
           "timepoint": 0,
           "trajectory": "Mean",
           "value": 0.019508631675702028
          },
          {
           "color_by": "Mean",
           "sample_id": 0,
           "timepoint": 1,
           "trajectory": "Mean",
           "value": 1.019508631675702
          },
          {
           "color_by": "Mean",
           "sample_id": 0,
           "timepoint": 2,
           "trajectory": "Mean",
           "value": 1.208715746678423
          },
          {
           "color_by": "Mean",
           "sample_id": 0,
           "timepoint": 3,
           "trajectory": "Mean",
           "value": 1.3355826446281944
          },
          {
           "color_by": "Mean",
           "sample_id": 0,
           "timepoint": 4,
           "trajectory": "Mean",
           "value": 1.4337221940487972
          },
          {
           "color_by": "Mean",
           "sample_id": 0,
           "timepoint": 5,
           "trajectory": "Mean",
           "value": 1.5148574128969226
          },
          {
           "color_by": "Mean",
           "sample_id": 0,
           "timepoint": 6,
           "trajectory": "Mean",
           "value": 1.5845932117489894
          },
          {
           "color_by": "Mean",
           "sample_id": 0,
           "timepoint": 7,
           "trajectory": "Mean",
           "value": 1.6460851933734877
          },
          {
           "color_by": "Mean",
           "sample_id": 0,
           "timepoint": 8,
           "trajectory": "Mean",
           "value": 1.701301462183131
          },
          {
           "color_by": "Mean",
           "sample_id": 0,
           "timepoint": 9,
           "trajectory": "Mean",
           "value": 1.7515594392445792
          },
          {
           "color_by": "Mean",
           "sample_id": 0,
           "timepoint": 10,
           "trajectory": "Mean",
           "value": 1.7977880417146248
          },
          {
           "color_by": "Mean",
           "sample_id": 0,
           "timepoint": 11,
           "trajectory": "Mean",
           "value": 1.8406689185135738
          },
          {
           "color_by": "Mean",
           "sample_id": 0,
           "timepoint": 12,
           "trajectory": "Mean",
           "value": 1.8807183498799012
          },
          {
           "color_by": "Mean",
           "sample_id": 0,
           "timepoint": 13,
           "trajectory": "Mean",
           "value": 1.9183375537916438
          },
          {
           "color_by": "Mean",
           "sample_id": 0,
           "timepoint": 14,
           "trajectory": "Mean",
           "value": 1.9538450519433714
          },
          {
           "color_by": "Mean",
           "sample_id": 0,
           "timepoint": 15,
           "trajectory": "Mean",
           "value": 1.9874983029411324
          },
          {
           "color_by": "Mean",
           "sample_id": 0,
           "timepoint": 16,
           "trajectory": "Mean",
           "value": 2.019508631675702
          },
          {
           "color_by": "Mean",
           "sample_id": 0,
           "timepoint": 17,
           "trajectory": "Mean",
           "value": 2.0500518165446326
          },
          {
           "color_by": "Mean",
           "sample_id": 0,
           "timepoint": 18,
           "trajectory": "Mean",
           "value": 2.0792757755828197
          },
          {
           "color_by": "Mean",
           "sample_id": 0,
           "timepoint": 19,
           "trajectory": "Mean",
           "value": 2.107306261605546
          },
          {
           "color_by": "Mean",
           "sample_id": 0,
           "timepoint": 20,
           "trajectory": "Mean",
           "value": 2.1342511585568302
          },
          {
           "color_by": "Mean",
           "sample_id": 0,
           "timepoint": 21,
           "trajectory": "Mean",
           "value": 2.1602037746037746
          },
          {
           "color_by": "Mean",
           "sample_id": 0,
           "timepoint": 22,
           "trajectory": "Mean",
           "value": 2.185245402343696
          },
          {
           "color_by": "Mean",
           "sample_id": 0,
           "timepoint": 23,
           "trajectory": "Mean",
           "value": 2.209447334770544
          },
          {
           "color_by": "Mean",
           "sample_id": 0,
           "timepoint": 24,
           "trajectory": "Mean",
           "value": 2.232872471076345
          },
          {
           "color_by": "Mean",
           "sample_id": 0,
           "timepoint": 25,
           "trajectory": "Mean",
           "value": 2.255576609175492
          },
          {
           "color_by": "Mean",
           "sample_id": 0,
           "timepoint": 26,
           "trajectory": "Mean",
           "value": 2.2776094960289277
          },
          {
           "color_by": "Mean",
           "sample_id": 0,
           "timepoint": 27,
           "trajectory": "Mean",
           "value": 2.2990156886304796
          },
          {
           "color_by": "Mean",
           "sample_id": 0,
           "timepoint": 28,
           "trajectory": "Mean",
           "value": 2.319835265466908
          },
          {
           "color_by": "Mean",
           "sample_id": 0,
           "timepoint": 29,
           "trajectory": "Mean",
           "value": 2.340104418781786
          },
          {
           "color_by": "Mean",
           "sample_id": 0,
           "timepoint": 30,
           "trajectory": "Mean",
           "value": 2.359855950996418
          },
          {
           "color_by": "Mean",
           "sample_id": 0,
           "timepoint": 31,
           "trajectory": "Mean",
           "value": 2.379119693446269
          },
          {
           "color_by": "Mean",
           "sample_id": 0,
           "timepoint": 32,
           "trajectory": "Mean",
           "value": 2.397922861681144
          },
          {
           "color_by": "Mean",
           "sample_id": 0,
           "timepoint": 33,
           "trajectory": "Mean",
           "value": 2.416290358604132
          },
          {
           "color_by": "Mean",
           "sample_id": 0,
           "timepoint": 34,
           "trajectory": "Mean",
           "value": 2.43424503444212
          },
          {
           "color_by": "Mean",
           "sample_id": 0,
           "timepoint": 35,
           "trajectory": "Mean",
           "value": 2.4518079107734896
          },
          {
           "color_by": "Mean",
           "sample_id": 0,
           "timepoint": 36,
           "trajectory": "Mean",
           "value": 2.46899837445888
          },
          {
           "color_by": "Mean",
           "sample_id": 0,
           "timepoint": 37,
           "trajectory": "Mean",
           "value": 2.4858343462353627
          },
          {
           "color_by": "Mean",
           "sample_id": 0,
           "timepoint": 38,
           "trajectory": "Mean",
           "value": 2.5023324278740904
          },
          {
           "color_by": "Mean",
           "sample_id": 0,
           "timepoint": 39,
           "trajectory": "Mean",
           "value": 2.5185080311150854
          },
          {
           "color_by": "Mean",
           "sample_id": 0,
           "timepoint": 40,
           "trajectory": "Mean",
           "value": 2.534375491041573
          },
          {
           "color_by": "Mean",
           "sample_id": 0,
           "timepoint": 41,
           "trajectory": "Mean",
           "value": 2.549948166110945
          },
          {
           "color_by": "Mean",
           "sample_id": 0,
           "timepoint": 42,
           "trajectory": "Mean",
           "value": 2.5652385266975326
          },
          {
           "color_by": "Mean",
           "sample_id": 0,
           "timepoint": 43,
           "trajectory": "Mean",
           "value": 2.580258233706717
          },
          {
           "color_by": "Mean",
           "sample_id": 0,
           "timepoint": 44,
           "trajectory": "Mean",
           "value": 2.5950182085770965
          },
          {
           "color_by": "Mean",
           "sample_id": 0,
           "timepoint": 45,
           "trajectory": "Mean",
           "value": 2.6095286957870534
          },
          {
           "color_by": "Mean",
           "sample_id": 0,
           "timepoint": 46,
           "trajectory": "Mean",
           "value": 2.62379931881592
          },
          {
           "color_by": "Mean",
           "sample_id": 0,
           "timepoint": 47,
           "trajectory": "Mean",
           "value": 2.6378391303715873
          },
          {
           "color_by": "Mean",
           "sample_id": 0,
           "timepoint": 48,
           "trajectory": "Mean",
           "value": 2.651656657580687
          },
          {
           "color_by": "Mean",
           "sample_id": 0,
           "timepoint": 49,
           "trajectory": "Mean",
           "value": 2.6652599427402928
          },
          {
           "color_by": "Mean",
           "sample_id": 0,
           "timepoint": 50,
           "trajectory": "Mean",
           "value": 2.6786565801481963
          },
          {
           "color_by": "Mean",
           "sample_id": 0,
           "timepoint": 51,
           "trajectory": "Mean",
           "value": 2.6918537494594905
          },
          {
           "color_by": "Mean",
           "sample_id": 0,
           "timepoint": 52,
           "trajectory": "Mean",
           "value": 2.704858245958352
          },
          {
           "color_by": "Mean",
           "sample_id": 0,
           "timepoint": 53,
           "trajectory": "Mean",
           "value": 2.7176765080837875
          },
          {
           "color_by": "Mean",
           "sample_id": 0,
           "timepoint": 54,
           "trajectory": "Mean",
           "value": 2.7303146425052365
          },
          {
           "color_by": "Mean",
           "sample_id": 0,
           "timepoint": 55,
           "trajectory": "Mean",
           "value": 2.7427784470072023
          },
          {
           "color_by": "Mean",
           "sample_id": 0,
           "timepoint": 56,
           "trajectory": "Mean",
           "value": 2.755073431410463
          },
          {
           "color_by": "Mean",
           "sample_id": 0,
           "timepoint": 57,
           "trajectory": "Mean",
           "value": 2.7672048367301745
          },
          {
           "color_by": "Mean",
           "sample_id": 0,
           "timepoint": 58,
           "trajectory": "Mean",
           "value": 2.7791776527475966
          },
          {
           "color_by": "Mean",
           "sample_id": 0,
           "timepoint": 59,
           "trajectory": "Mean",
           "value": 2.790996634151738
          },
          {
           "color_by": "Mean",
           "sample_id": 0,
           "timepoint": 60,
           "trajectory": "Mean",
           "value": 2.8026663153894424
          },
          {
           "color_by": "Mean",
           "sample_id": 0,
           "timepoint": 61,
           "trajectory": "Mean",
           "value": 2.8141910243469432
          },
          {
           "color_by": "Mean",
           "sample_id": 0,
           "timepoint": 62,
           "trajectory": "Mean",
           "value": 2.825574894972385
          },
          {
           "color_by": "Mean",
           "sample_id": 0,
           "timepoint": 63,
           "trajectory": "Mean",
           "value": 2.8368218789369597
          },
          {
           "color_by": "Mean",
           "sample_id": 0,
           "timepoint": 64,
           "trajectory": "Mean",
           "value": 2.8479357564218923
          },
          {
           "color_by": "Mean",
           "sample_id": 0,
           "timepoint": 65,
           "trajectory": "Mean",
           "value": 2.8589201461093796
          },
          {
           "color_by": "Mean",
           "sample_id": 0,
           "timepoint": 66,
           "trajectory": "Mean",
           "value": 2.8697785144475003
          },
          {
           "color_by": "Mean",
           "sample_id": 0,
           "timepoint": 67,
           "trajectory": "Mean",
           "value": 2.8805141842520072
          },
          {
           "color_by": "Mean",
           "sample_id": 0,
           "timepoint": 68,
           "trajectory": "Mean",
           "value": 2.8911303427016026
          },
          {
           "color_by": "Mean",
           "sample_id": 0,
           "timepoint": 69,
           "trajectory": "Mean",
           "value": 2.901630048777708
          },
          {
           "color_by": "Mean",
           "sample_id": 0,
           "timepoint": 70,
           "trajectory": "Mean",
           "value": 2.91201624019478
          },
          {
           "color_by": "Mean",
           "sample_id": 0,
           "timepoint": 71,
           "trajectory": "Mean",
           "value": 2.9222917398628017
          },
          {
           "color_by": "Mean",
           "sample_id": 0,
           "timepoint": 72,
           "trajectory": "Mean",
           "value": 2.9324592619196426
          },
          {
           "color_by": "Mean",
           "sample_id": 0,
           "timepoint": 73,
           "trajectory": "Mean",
           "value": 2.942521417367467
          },
          {
           "color_by": "Mean",
           "sample_id": 0,
           "timepoint": 74,
           "trajectory": "Mean",
           "value": 2.95248071934422
          },
          {
           "color_by": "Mean",
           "sample_id": 0,
           "timepoint": 75,
           "trajectory": "Mean",
           "value": 2.962339588058414
          },
          {
           "color_by": "Mean",
           "sample_id": 0,
           "timepoint": 76,
           "trajectory": "Mean",
           "value": 2.9721003554128913
          },
          {
           "color_by": "Mean",
           "sample_id": 0,
           "timepoint": 77,
           "trajectory": "Mean",
           "value": 2.981765269341001
          },
          {
           "color_by": "Mean",
           "sample_id": 0,
           "timepoint": 78,
           "trajectory": "Mean",
           "value": 2.9913364978765435
          },
          {
           "color_by": "Mean",
           "sample_id": 0,
           "timepoint": 79,
           "trajectory": "Mean",
           "value": 3.0008161329770338
          },
          {
           "color_by": "Mean",
           "sample_id": 0,
           "timepoint": 80,
           "trajectory": "Mean",
           "value": 3.010206194118143
          },
          {
           "color_by": "Mean",
           "sample_id": 0,
           "timepoint": 81,
           "trajectory": "Mean",
           "value": 3.019508631675702
          },
          {
           "color_by": "Mean",
           "sample_id": 0,
           "timepoint": 82,
           "trajectory": "Mean",
           "value": 3.028725330110266
          },
          {
           "color_by": "Mean",
           "sample_id": 0,
           "timepoint": 83,
           "trajectory": "Mean",
           "value": 3.037858110968035
          },
          {
           "color_by": "Mean",
           "sample_id": 0,
           "timepoint": 84,
           "trajectory": "Mean",
           "value": 3.046908735710793
          },
          {
           "color_by": "Mean",
           "sample_id": 0,
           "timepoint": 85,
           "trajectory": "Mean",
           "value": 3.055878908386513
          },
          {
           "color_by": "Mean",
           "sample_id": 0,
           "timepoint": 86,
           "trajectory": "Mean",
           "value": 3.0647702781513715
          },
          {
           "color_by": "Mean",
           "sample_id": 0,
           "timepoint": 87,
           "trajectory": "Mean",
           "value": 3.0735844416530536
          },
          {
           "color_by": "Mean",
           "sample_id": 0,
           "timepoint": 88,
           "trajectory": "Mean",
           "value": 3.082322945284488
          },
          {
           "color_by": "Mean",
           "sample_id": 0,
           "timepoint": 89,
           "trajectory": "Mean",
           "value": 3.090987287316435
          },
          {
           "color_by": "Mean",
           "sample_id": 0,
           "timepoint": 90,
           "trajectory": "Mean",
           "value": 3.099578919916725
          },
          {
           "color_by": "Mean",
           "sample_id": 0,
           "timepoint": 91,
           "trajectory": "Mean",
           "value": 3.108099251063363
          },
          {
           "color_by": "Mean",
           "sample_id": 0,
           "timepoint": 92,
           "trajectory": "Mean",
           "value": 3.1165496463581746
          },
          {
           "color_by": "Mean",
           "sample_id": 0,
           "timepoint": 93,
           "trajectory": "Mean",
           "value": 3.1249314307471834
          },
          {
           "color_by": "Mean",
           "sample_id": 0,
           "timepoint": 94,
           "trajectory": "Mean",
           "value": 3.133245890153472
          },
          {
           "color_by": "Mean",
           "sample_id": 0,
           "timepoint": 95,
           "trajectory": "Mean",
           "value": 3.1414942730278472
          },
          {
           "color_by": "Mean",
           "sample_id": 0,
           "timepoint": 96,
           "trajectory": "Mean",
           "value": 3.1496777918222767
          },
          {
           "color_by": "Mean",
           "sample_id": 0,
           "timepoint": 97,
           "trajectory": "Mean",
           "value": 3.157797624390698
          },
          {
           "color_by": "Mean",
           "sample_id": 0,
           "timepoint": 98,
           "trajectory": "Mean",
           "value": 3.1658549153214905
          },
          {
           "color_by": "Mean",
           "sample_id": 0,
           "timepoint": 99,
           "trajectory": "Mean",
           "value": 3.1738507772056064
          },
          {
           "color_by": "Variance",
           "sample_id": 0,
           "timepoint": 0,
           "trajectory": "Variance",
           "value": -0.4815154792449263
          },
          {
           "color_by": "Variance",
           "sample_id": 0,
           "timepoint": 1,
           "trajectory": "Variance",
           "value": 0.4861427468936024
          },
          {
           "color_by": "Variance",
           "sample_id": 0,
           "timepoint": 2,
           "trajectory": "Variance",
           "value": 0.6450189428887223
          },
          {
           "color_by": "Variance",
           "sample_id": 0,
           "timepoint": 3,
           "trajectory": "Variance",
           "value": 0.7454516063232364
          },
          {
           "color_by": "Variance",
           "sample_id": 0,
           "timepoint": 4,
           "trajectory": "Variance",
           "value": 0.8226971583909506
          },
          {
           "color_by": "Variance",
           "sample_id": 0,
           "timepoint": 5,
           "trajectory": "Variance",
           "value": 0.8897777046055266
          },
          {
           "color_by": "Variance",
           "sample_id": 0,
           "timepoint": 6,
           "trajectory": "Variance",
           "value": 0.9531720070150373
          },
          {
           "color_by": "Variance",
           "sample_id": 0,
           "timepoint": 7,
           "trajectory": "Variance",
           "value": 1.0164299519222315
          },
          {
           "color_by": "Variance",
           "sample_id": 0,
           "timepoint": 8,
           "trajectory": "Variance",
           "value": 1.0814098446962093
          },
          {
           "color_by": "Variance",
           "sample_id": 0,
           "timepoint": 9,
           "trajectory": "Variance",
           "value": 1.148822051554872
          },
          {
           "color_by": "Variance",
           "sample_id": 0,
           "timepoint": 10,
           "trajectory": "Variance",
           "value": 1.2185289227313831
          },
          {
           "color_by": "Variance",
           "sample_id": 0,
           "timepoint": 11,
           "trajectory": "Variance",
           "value": 1.2897523421130275
          },
          {
           "color_by": "Variance",
           "sample_id": 0,
           "timepoint": 12,
           "trajectory": "Variance",
           "value": 1.3612463879153618
          },
          {
           "color_by": "Variance",
           "sample_id": 0,
           "timepoint": 13,
           "trajectory": "Variance",
           "value": 1.4314572042903075
          },
          {
           "color_by": "Variance",
           "sample_id": 0,
           "timepoint": 14,
           "trajectory": "Variance",
           "value": 1.4986769243243818
          },
          {
           "color_by": "Variance",
           "sample_id": 0,
           "timepoint": 15,
           "trajectory": "Variance",
           "value": 1.5611912942626391
          },
          {
           "color_by": "Variance",
           "sample_id": 0,
           "timepoint": 16,
           "trajectory": "Variance",
           "value": 1.617417194406693
          },
          {
           "color_by": "Variance",
           "sample_id": 0,
           "timepoint": 17,
           "trajectory": "Variance",
           "value": 1.6660247962100678
          },
          {
           "color_by": "Variance",
           "sample_id": 0,
           "timepoint": 18,
           "trajectory": "Variance",
           "value": 1.7060388597562572
          },
          {
           "color_by": "Variance",
           "sample_id": 0,
           "timepoint": 19,
           "trajectory": "Variance",
           "value": 1.7369142614232582
          },
          {
           "color_by": "Variance",
           "sample_id": 0,
           "timepoint": 20,
           "trajectory": "Variance",
           "value": 1.7585820020794531
          },
          {
           "color_by": "Variance",
           "sample_id": 0,
           "timepoint": 21,
           "trajectory": "Variance",
           "value": 1.7714634979108816
          },
          {
           "color_by": "Variance",
           "sample_id": 0,
           "timepoint": 22,
           "trajectory": "Variance",
           "value": 1.77645274046092
          },
          {
           "color_by": "Variance",
           "sample_id": 0,
           "timepoint": 23,
           "trajectory": "Variance",
           "value": 1.7748677829124757
          },
          {
           "color_by": "Variance",
           "sample_id": 0,
           "timepoint": 24,
           "trajectory": "Variance",
           "value": 1.7683748283794656
          },
          {
           "color_by": "Variance",
           "sample_id": 0,
           "timepoint": 25,
           "trajectory": "Variance",
           "value": 1.7588898367587227
          },
          {
           "color_by": "Variance",
           "sample_id": 0,
           "timepoint": 26,
           "trajectory": "Variance",
           "value": 1.7484639191916567
          },
          {
           "color_by": "Variance",
           "sample_id": 0,
           "timepoint": 27,
           "trajectory": "Variance",
           "value": 1.7391597639192966
          },
          {
           "color_by": "Variance",
           "sample_id": 0,
           "timepoint": 28,
           "trajectory": "Variance",
           "value": 1.7329268701160503
          },
          {
           "color_by": "Variance",
           "sample_id": 0,
           "timepoint": 29,
           "trajectory": "Variance",
           "value": 1.7314834216233534
          },
          {
           "color_by": "Variance",
           "sample_id": 0,
           "timepoint": 30,
           "trajectory": "Variance",
           "value": 1.7362122052796285
          },
          {
           "color_by": "Variance",
           "sample_id": 0,
           "timepoint": 31,
           "trajectory": "Variance",
           "value": 1.7480770941641977
          },
          {
           "color_by": "Variance",
           "sample_id": 0,
           "timepoint": 32,
           "trajectory": "Variance",
           "value": 1.7675653287057904
          },
          {
           "color_by": "Variance",
           "sample_id": 0,
           "timepoint": 33,
           "trajectory": "Variance",
           "value": 1.79465921770261
          },
          {
           "color_by": "Variance",
           "sample_id": 0,
           "timepoint": 34,
           "trajectory": "Variance",
           "value": 1.828839046587984
          },
          {
           "color_by": "Variance",
           "sample_id": 0,
           "timepoint": 35,
           "trajectory": "Variance",
           "value": 1.8691170355090607
          },
          {
           "color_by": "Variance",
           "sample_id": 0,
           "timepoint": 36,
           "trajectory": "Variance",
           "value": 1.9141002556445104
          },
          {
           "color_by": "Variance",
           "sample_id": 0,
           "timepoint": 37,
           "trajectory": "Variance",
           "value": 1.9620786087473685
          },
          {
           "color_by": "Variance",
           "sample_id": 0,
           "timepoint": 38,
           "trajectory": "Variance",
           "value": 2.0111324141535865
          },
          {
           "color_by": "Variance",
           "sample_id": 0,
           "timepoint": 39,
           "trajectory": "Variance",
           "value": 2.059252926380409
          },
          {
           "color_by": "Variance",
           "sample_id": 0,
           "timepoint": 40,
           "trajectory": "Variance",
           "value": 2.104468300792976
          },
          {
           "color_by": "Variance",
           "sample_id": 0,
           "timepoint": 41,
           "trajectory": "Variance",
           "value": 2.1449671846702483
          },
          {
           "color_by": "Variance",
           "sample_id": 0,
           "timepoint": 42,
           "trajectory": "Variance",
           "value": 2.1792122574510118
          },
          {
           "color_by": "Variance",
           "sample_id": 0,
           "timepoint": 43,
           "trajectory": "Variance",
           "value": 2.20603666784207
          },
          {
           "color_by": "Variance",
           "sample_id": 0,
           "timepoint": 44,
           "trajectory": "Variance",
           "value": 2.2247173780008898
          },
          {
           "color_by": "Variance",
           "sample_id": 0,
           "timepoint": 45,
           "trajectory": "Variance",
           "value": 2.2350208600753896
          },
          {
           "color_by": "Variance",
           "sample_id": 0,
           "timepoint": 46,
           "trajectory": "Variance",
           "value": 2.2372183087479263
          },
          {
           "color_by": "Variance",
           "sample_id": 0,
           "timepoint": 47,
           "trajectory": "Variance",
           "value": 2.232069428232398
          },
          {
           "color_by": "Variance",
           "sample_id": 0,
           "timepoint": 48,
           "trajectory": "Variance",
           "value": 2.2207758055895037
          },
          {
           "color_by": "Variance",
           "sample_id": 0,
           "timepoint": 49,
           "trajectory": "Variance",
           "value": 2.204906772790236
          },
          {
           "color_by": "Variance",
           "sample_id": 0,
           "timepoint": 50,
           "trajectory": "Variance",
           "value": 2.1863023701162176
          },
          {
           "color_by": "Variance",
           "sample_id": 0,
           "timepoint": 51,
           "trajectory": "Variance",
           "value": 2.166959446900316
          },
          {
           "color_by": "Variance",
           "sample_id": 0,
           "timepoint": 52,
           "trajectory": "Variance",
           "value": 2.1489079837746723
          },
          {
           "color_by": "Variance",
           "sample_id": 0,
           "timepoint": 53,
           "trajectory": "Variance",
           "value": 2.1340853283306487
          },
          {
           "color_by": "Variance",
           "sample_id": 0,
           "timepoint": 54,
           "trajectory": "Variance",
           "value": 2.124216165615545
          },
          {
           "color_by": "Variance",
           "sample_id": 0,
           "timepoint": 55,
           "trajectory": "Variance",
           "value": 2.1207056881374933
          },
          {
           "color_by": "Variance",
           "sample_id": 0,
           "timepoint": 56,
           "trajectory": "Variance",
           "value": 2.1245526092006113
          },
          {
           "color_by": "Variance",
           "sample_id": 0,
           "timepoint": 57,
           "trajectory": "Variance",
           "value": 2.1362874294810164
          },
          {
           "color_by": "Variance",
           "sample_id": 0,
           "timepoint": 58,
           "trajectory": "Variance",
           "value": 2.155939796496883
          },
          {
           "color_by": "Variance",
           "sample_id": 0,
           "timepoint": 59,
           "trajectory": "Variance",
           "value": 2.1830369876514375
          },
          {
           "color_by": "Variance",
           "sample_id": 0,
           "timepoint": 60,
           "trajectory": "Variance",
           "value": 2.2166336123080495
          },
          {
           "color_by": "Variance",
           "sample_id": 0,
           "timepoint": 61,
           "trajectory": "Variance",
           "value": 2.255370687212589
          },
          {
           "color_by": "Variance",
           "sample_id": 0,
           "timepoint": 62,
           "trajectory": "Variance",
           "value": 2.297560413199567
          },
          {
           "color_by": "Variance",
           "sample_id": 0,
           "timepoint": 63,
           "trajectory": "Variance",
           "value": 2.3412913830595294
          },
          {
           "color_by": "Variance",
           "sample_id": 0,
           "timepoint": 64,
           "trajectory": "Variance",
           "value": 2.3845476800643564
          },
          {
           "color_by": "Variance",
           "sample_id": 0,
           "timepoint": 65,
           "trajectory": "Variance",
           "value": 2.4253344629297757
          },
          {
           "color_by": "Variance",
           "sample_id": 0,
           "timepoint": 66,
           "trajectory": "Variance",
           "value": 2.4618022296416084
          },
          {
           "color_by": "Variance",
           "sample_id": 0,
           "timepoint": 67,
           "trajectory": "Variance",
           "value": 2.4923620346618347
          },
          {
           "color_by": "Variance",
           "sample_id": 0,
           "timepoint": 68,
           "trajectory": "Variance",
           "value": 2.515784496458082
          },
          {
           "color_by": "Variance",
           "sample_id": 0,
           "timepoint": 69,
           "trajectory": "Variance",
           "value": 2.531276440096
          },
          {
           "color_by": "Variance",
           "sample_id": 0,
           "timepoint": 70,
           "trajectory": "Variance",
           "value": 2.538530410137961
          },
          {
           "color_by": "Variance",
           "sample_id": 0,
           "timepoint": 71,
           "trajectory": "Variance",
           "value": 2.5377439758483846
          },
          {
           "color_by": "Variance",
           "sample_id": 0,
           "timepoint": 72,
           "trajectory": "Variance",
           "value": 2.5296076288410174
          },
          {
           "color_by": "Variance",
           "sample_id": 0,
           "timepoint": 73,
           "trajectory": "Variance",
           "value": 2.5152620260430876
          },
          {
           "color_by": "Variance",
           "sample_id": 0,
           "timepoint": 74,
           "trajectory": "Variance",
           "value": 2.496227236783205
          },
          {
           "color_by": "Variance",
           "sample_id": 0,
           "timepoint": 75,
           "trajectory": "Variance",
           "value": 2.4743083934323766
          },
          {
           "color_by": "Variance",
           "sample_id": 0,
           "timepoint": 76,
           "trajectory": "Variance",
           "value": 2.4514836121168013
          },
          {
           "color_by": "Variance",
           "sample_id": 0,
           "timepoint": 77,
           "trajectory": "Variance",
           "value": 2.429781152360592
          },
          {
           "color_by": "Variance",
           "sample_id": 0,
           "timepoint": 78,
           "trajectory": "Variance",
           "value": 2.4111534535678345
          },
          {
           "color_by": "Variance",
           "sample_id": 0,
           "timepoint": 79,
           "trajectory": "Variance",
           "value": 2.3973558804180324
          },
          {
           "color_by": "Variance",
           "sample_id": 0,
           "timepoint": 80,
           "trajectory": "Variance",
           "value": 2.389837716454534
          },
          {
           "color_by": "Variance",
           "sample_id": 0,
           "timepoint": 81,
           "trajectory": "Variance",
           "value": 2.3896521835965174
          },
          {
           "color_by": "Variance",
           "sample_id": 0,
           "timepoint": 82,
           "trajectory": "Variance",
           "value": 2.39739108235074
          },
          {
           "color_by": "Variance",
           "sample_id": 0,
           "timepoint": 83,
           "trajectory": "Variance",
           "value": 2.4131481166899196
          },
          {
           "color_by": "Variance",
           "sample_id": 0,
           "timepoint": 84,
           "trajectory": "Variance",
           "value": 2.4365131840784153
          },
          {
           "color_by": "Variance",
           "sample_id": 0,
           "timepoint": 85,
           "trajectory": "Variance",
           "value": 2.466597985851366
          },
          {
           "color_by": "Variance",
           "sample_id": 0,
           "timepoint": 86,
           "trajectory": "Variance",
           "value": 2.5020913657947252
          },
          {
           "color_by": "Variance",
           "sample_id": 0,
           "timepoint": 87,
           "trajectory": "Variance",
           "value": 2.5413409364080217
          },
          {
           "color_by": "Variance",
           "sample_id": 0,
           "timepoint": 88,
           "trajectory": "Variance",
           "value": 2.582455917881483
          },
          {
           "color_by": "Variance",
           "sample_id": 0,
           "timepoint": 89,
           "trajectory": "Variance",
           "value": 2.623424795906574
          },
          {
           "color_by": "Variance",
           "sample_id": 0,
           "timepoint": 90,
           "trajectory": "Variance",
           "value": 2.662240483067549
          },
          {
           "color_by": "Variance",
           "sample_id": 0,
           "timepoint": 91,
           "trajectory": "Variance",
           "value": 2.697025202017658
          },
          {
           "color_by": "Variance",
           "sample_id": 0,
           "timepoint": 92,
           "trajectory": "Variance",
           "value": 2.7261473259346034
          },
          {
           "color_by": "Variance",
           "sample_id": 0,
           "timepoint": 93,
           "trajectory": "Variance",
           "value": 2.7483229118005736
          },
          {
           "color_by": "Variance",
           "sample_id": 0,
           "timepoint": 94,
           "trajectory": "Variance",
           "value": 2.762695613772006
          },
          {
           "color_by": "Variance",
           "sample_id": 0,
           "timepoint": 95,
           "trajectory": "Variance",
           "value": 2.7688900081196284
          },
          {
           "color_by": "Variance",
           "sample_id": 0,
           "timepoint": 96,
           "trajectory": "Variance",
           "value": 2.7670350143536693
          },
          {
           "color_by": "Variance",
           "sample_id": 0,
           "timepoint": 97,
           "trajectory": "Variance",
           "value": 2.7577559564183263
          },
          {
           "color_by": "Variance",
           "sample_id": 0,
           "timepoint": 98,
           "trajectory": "Variance",
           "value": 2.7421357576433456
          },
          {
           "color_by": "Variance",
           "sample_id": 0,
           "timepoint": 99,
           "trajectory": "Variance",
           "value": 2.721647682249527
          }
         ]
        },
        {
         "name": "points",
         "values": []
        },
        {
         "name": "markers",
         "values": []
        },
        {
         "name": "selected",
         "on": [
          {
           "remove": true,
           "trigger": "clear"
          },
          {
           "remove": true,
           "trigger": "!shift"
          },
          {
           "insert": "clicked",
           "trigger": "!shift && clicked"
          },
          {
           "toggle": "clicked",
           "trigger": "shift && clicked"
          }
         ]
        },
        {
         "name": "selectedData",
         "on": [
          {
           "remove": true,
           "trigger": "clearData"
          },
          {
           "toggle": "clickedData",
           "trigger": "clickedData"
          }
         ]
        }
       ],
       "height": 300,
       "legends": [
        {
         "encode": {
          "labels": {
           "interactive": true,
           "name": "legendLabel",
           "update": {
            "opacity": [
             {
              "test": "!length(data('selectedData')) || indata('selectedData', 'value', datum.value)",
              "value": 1
             },
             {
              "value": 0.25
             }
            ]
           }
          },
          "symbols": {
           "interactive": true,
           "name": "legendSymbol",
           "update": {
            "fill": {
             "value": "transparent"
            },
            "opacity": [
             {
              "test": "!length(data('selected')) || indata('selected', 'value', datum.value) || indata('selectedData', 'value', datum.value)",
              "value": 0.7
             },
             {
              "value": 0.15
             }
            ],
            "size": {
             "value": 64
            },
            "strokeWidth": {
             "value": 2
            }
           }
          }
         },
         "name": "color_legend",
         "orient": "left",
         "stroke": "color"
        }
       ],
       "marks": [
        {
         "from": {
          "facet": {
           "data": "points",
           "groupby": "trajectory",
           "name": "points_split"
          }
         },
         "marks": [
          {
           "encode": {
            "hover": {
             "fillOpacity": {
              "value": 0.9
             }
            },
            "update": {
             "fill": {
              "field": "trajectory",
              "scale": "color"
             },
             "fillOpacity": [
              {
               "test": "!length(data('selected')) || indata('selected', 'value', datum.trajectory)",
               "value": 0.5
              },
              {
               "value": 0.15
              }
             ],
             "size": {
              "value": 35
             },
             "stroke": {
              "field": "trajectory",
              "scale": "color"
             },
             "strokeOpacity": [
              {
               "test": "!length(data('selected')) || indata('selected', 'value', datum.trajectory)",
               "value": 0.75
              },
              {
               "value": 0.15
              }
             ],
             "strokeWidth": {
              "value": 2
             },
             "tooltip": {
              "field": "value"
             },
             "x": {
              "field": "timepoint",
              "scale": "xscale"
             },
             "y": {
              "field": "value",
              "scale": "yscale"
             }
            }
           },
           "from": {
            "data": "points_split"
           },
           "name": "_points_symbol",
           "type": "symbol",
           "zindex": 3
          },
          {
           "encode": {
            "hover": {
             "fillOpacity": {
              "value": 0.9
             }
            },
            "update": {
             "interpolate": {
              "value": "linear"
             },
             "stroke": {
              "field": "trajectory",
              "scale": "color"
             },
             "strokeDash": {
              "value": [
               5,
               3
              ]
             },
             "strokeOpacity": [
              {
               "test": "!length(data('selected')) || indata('selected', 'value', datum.trajectory)",
               "value": 0.3
              },
              {
               "value": 0.1
              }
             ],
             "strokeWidth": {
              "value": 2
             },
             "x": {
              "field": "timepoint",
              "scale": "xscale"
             },
             "y": {
              "field": "value",
              "scale": "yscale"
             }
            }
           },
           "from": {
            "data": "points_split"
           },
           "name": "_points_line",
           "type": "line",
           "zindex": 3
          }
         ],
         "name": "_points",
         "type": "group",
         "zindex": 3
        },
        {
         "from": {
          "facet": {
           "data": "traces",
           "groupby": "trajectory",
           "name": "traces_split"
          }
         },
         "marks": [
          {
           "encode": {
            "hover": {
             "fillOpacity": {
              "value": 0.9
             }
            },
            "update": {
             "interpolate": {
              "value": "linear"
             },
             "stroke": {
              "field": "trajectory",
              "scale": "color"
             },
             "strokeDash": [
              {
               "test": "indexof(datum.trajectory, 'aseline') == -1",
               "value": [
                1,
                0
               ]
              },
              {
               "value": [
                8,
                4
               ]
              }
             ],
             "strokeOpacity": [
              {
               "test": "!length(data('selected')) || indata('selected', 'value', datum.trajectory)",
               "value": 0.75
              },
              {
               "value": 0.15
              }
             ],
             "strokeWidth": {
              "value": 2
             },
             "x": {
              "field": "timepoint",
              "scale": "xscale"
             },
             "y": {
              "field": "value",
              "scale": "yscale"
             }
            }
           },
           "from": {
            "data": "traces_split"
           },
           "name": "_traces_lines",
           "type": "line"
          }
         ],
         "name": "_traces",
         "type": "group",
         "zindex": 2
        },
        {
         "from": {
          "facet": {
           "data": "distributions",
           "groupby": "trajectory",
           "name": "trajectory_split"
          }
         },
         "marks": [
          {
           "encode": {
            "hover": {
             "fillOpacity": {
              "value": 0.9
             }
            },
            "update": {
             "fill": {
              "field": "trajectory",
              "scale": "color"
             },
             "fillOpacity": [
              {
               "test": "!length(data('selected')) || indata('selected', 'value', datum.trajectory)",
               "value": 0.1
              },
              {
               "value": 0.05
              }
             ],
             "interpolate": {
              "value": "linear"
             },
             "stroke": {
              "field": "trajectory",
              "scale": "color"
             },
             "strokeOpacity": [
              {
               "test": "!length(data('selected')) || indata('selected', 'value', datum.trajectory)",
               "value": 0.1
              },
              {
               "value": 0.05
              }
             ],
             "strokeWidth": {
              "value": 2
             },
             "x": {
              "field": "timepoint",
              "scale": "xscale"
             },
             "y": {
              "field": "upper",
              "scale": "yscale"
             },
             "y2": {
              "field": "lower",
              "scale": "yscale"
             }
            }
           },
           "from": {
            "data": "trajectory_split"
           },
           "interactive": true,
           "name": "area",
           "type": "area"
          }
         ],
         "name": "_distributions",
         "type": "group",
         "zindex": 1
        },
        {
         "marks": [
          {
           "encode": {
            "enter": {
             "stroke": {
              "value": "lightgray"
             }
            },
            "update": {
             "opacity": {
              "value": 1
             },
             "x": {
              "field": "timepoint",
              "scale": "xscale"
             },
             "y": {
              "signal": "height"
             },
             "y2": {
              "value": 0
             }
            }
           },
           "from": {
            "data": "markers"
           },
           "name": "_marker text",
           "type": "rule"
          },
          {
           "encode": {
            "enter": {
             "fontSize": {
              "value": 8
             },
             "text": {
              "field": "datum.label"
             },
             "y": {
              "value": 0
             }
            }
           },
           "from": {
            "data": "_marker text"
           },
           "name": "_marker flags",
           "transform": [
            {
             "as": [
              "x",
              "_y",
              "opacity",
              "align",
              "baseline"
             ],
             "lineAnchor": "start",
             "offset": [
              1
             ],
             "size": {
              "signal": "[width, height]"
             },
             "type": "label"
            }
           ],
           "type": "text"
          }
         ],
         "name": "_markers",
         "type": "group"
        }
       ],
       "scales": [
        {
         "domain": {
          "fields": [
           {
            "data": "distributions",
            "field": "timepoint"
           },
           {
            "data": "traces",
            "field": "timepoint"
           },
           {
            "data": "points",
            "field": "timepoint"
           },
           {
            "data": "markers",
            "field": "timepoint"
           }
          ]
         },
         "name": "xscale",
         "range": "width",
         "type": "linear",
         "zero": false
        },
        {
         "domain": {
          "fields": [
           {
            "data": "distributions",
            "field": "lower"
           },
           {
            "data": "distributions",
            "field": "upper"
           },
           {
            "data": "traces",
            "field": "value"
           },
           {
            "data": "points",
            "field": "value"
           }
          ]
         },
         "name": "yscale",
         "nice": true,
         "range": "height",
         "type": "linear",
         "zero": true
        },
        {
         "domain": {
          "fields": [
           {
            "data": "distributions",
            "field": "trajectory"
           },
           {
            "data": "traces",
            "field": "trajectory"
           },
           {
            "data": "points",
            "field": "trajectory"
           }
          ],
          "sort": {
           "order": "ascending"
          }
         },
         "name": "color",
         "range": "category",
         "type": "ordinal"
        }
       ],
       "signals": [
        {
         "name": "clear",
         "on": [
          {
           "events": "mouseup[!event.item]",
           "force": true,
           "update": "true"
          }
         ],
         "value": true
        },
        {
         "name": "shift",
         "on": [
          {
           "events": "@legendSymbol:click, @legendLabel:click",
           "force": true,
           "update": "event.shiftKey"
          }
         ],
         "value": false
        },
        {
         "name": "clicked",
         "on": [
          {
           "events": "@legendSymbol:click, @legendLabel:click",
           "force": true,
           "update": "{value: datum.value}"
          }
         ],
         "value": null
        },
        {
         "name": "clearData",
         "on": [
          {
           "events": "mouseup[!event.item]",
           "force": true,
           "update": "true"
          }
         ],
         "value": true
        },
        {
         "name": "clickedData",
         "on": [
          {
           "events": "@area:click",
           "force": true,
           "update": "{value: datum.trajectory}"
          }
         ],
         "value": null
        }
       ],
       "width": 500
      }
     },
     "metadata": {},
     "output_type": "display_data"
    },
    {
     "name": "stdout",
     "output_type": "stream",
     "text": [
      "\n"
     ]
    },
    {
     "data": {
      "application/vnd.vega.v5+json": {
       "$schema": "https://vega.github.io/schema/vega/v5.json",
       "axes": [
        {
         "name": "x_axis",
         "orient": "bottom",
         "scale": "xscale",
         "zindex": 100
        },
        {
         "name": "y_axis",
         "orient": "left",
         "scale": "yscale",
         "zindex": 100
        }
       ],
       "background": "white",
       "data": [
        {
         "name": "distributions",
         "transform": [
          {
           "sort": {
            "field": [
             "trajectory",
             "timepoint"
            ]
           },
           "type": "collect"
          }
         ],
         "values": [
          {
           "lower": -3.8661714004733096,
           "timepoint": 0,
           "trajectory": "Example",
           "upper": 1.0422855213425564
          },
          {
           "lower": -2.896752918448616,
           "timepoint": 1,
           "trajectory": "Example",
           "upper": 2.6617137705113123
          },
          {
           "lower": -2.5816039828963246,
           "timepoint": 2,
           "trajectory": "Example",
           "upper": 3.502674397778534
          },
          {
           "lower": -2.4539791927382946,
           "timepoint": 3,
           "trajectory": "Example",
           "upper": 4.145534234475939
          },
          {
           "lower": -2.2981969551069477,
           "timepoint": 4,
           "trajectory": "Example",
           "upper": 4.63851160505856
          },
          {
           "lower": -1.987275816748243,
           "timepoint": 5,
           "trajectory": "Example",
           "upper": 4.950669855344836
          },
          {
           "lower": -1.6594298847641658,
           "timepoint": 6,
           "trajectory": "Example",
           "upper": 5.096771833013323
          },
          {
           "lower": -1.285272782881006,
           "timepoint": 7,
           "trajectory": "Example",
           "upper": 5.318031204471939
          },
          {
           "lower": -0.8698800831518819,
           "timepoint": 8,
           "trajectory": "Example",
           "upper": 5.30408746506766
          },
          {
           "lower": -0.3353909988388679,
           "timepoint": 9,
           "trajectory": "Example",
           "upper": 5.512916554261508
          },
          {
           "lower": 0.19962668951653761,
           "timepoint": 10,
           "trajectory": "Example",
           "upper": 5.800936888009881
          },
          {
           "lower": 0.6571744399467289,
           "timepoint": 11,
           "trajectory": "Example",
           "upper": 5.874143263629606
          },
          {
           "lower": 1.0488691067016218,
           "timepoint": 12,
           "trajectory": "Example",
           "upper": 5.744520665594323
          },
          {
           "lower": 0.6610554673701625,
           "timepoint": 13,
           "trajectory": "Example",
           "upper": 5.605094175085936
          },
          {
           "lower": 0.05940323883620684,
           "timepoint": 14,
           "trajectory": "Example",
           "upper": 5.429305253604603
          },
          {
           "lower": -0.547167040785224,
           "timepoint": 15,
           "trajectory": "Example",
           "upper": 5.417607553405832
          },
          {
           "lower": -1.0482912917431997,
           "timepoint": 16,
           "trajectory": "Example",
           "upper": 5.281899585935558
          },
          {
           "lower": -1.511344164815897,
           "timepoint": 17,
           "trajectory": "Example",
           "upper": 5.461955904592897
          },
          {
           "lower": -1.625831644959581,
           "timepoint": 18,
           "trajectory": "Example",
           "upper": 5.336728256489232
          },
          {
           "lower": -1.7187927224705544,
           "timepoint": 19,
           "trajectory": "Example",
           "upper": 5.219244178469476
          },
          {
           "lower": -1.9101934071449278,
           "timepoint": 20,
           "trajectory": "Example",
           "upper": 4.9075002436977915
          },
          {
           "lower": -1.9213324567238113,
           "timepoint": 21,
           "trajectory": "Example",
           "upper": 4.476012286728776
          },
          {
           "lower": -1.8832251077128206,
           "timepoint": 22,
           "trajectory": "Example",
           "upper": 3.94046625655653
          },
          {
           "lower": -1.8603464475061153,
           "timepoint": 23,
           "trajectory": "Example",
           "upper": 3.337740403814574
          },
          {
           "lower": -1.8360575227871712,
           "timepoint": 24,
           "trajectory": "Example",
           "upper": 2.807406517594775
          },
          {
           "lower": -1.626831262189012,
           "timepoint": 25,
           "trajectory": "Example",
           "upper": 3.1918317952207658
          },
          {
           "lower": -1.623471680658249,
           "timepoint": 26,
           "trajectory": "Example",
           "upper": 3.8267585448028383
          },
          {
           "lower": -1.4896647662584759,
           "timepoint": 27,
           "trajectory": "Example",
           "upper": 4.515422296281234
          },
          {
           "lower": -1.4633243285861028,
           "timepoint": 28,
           "trajectory": "Example",
           "upper": 5.067672705553449
          },
          {
           "lower": -1.4101719415976952,
           "timepoint": 29,
           "trajectory": "Example",
           "upper": 5.502043986330747
          },
          {
           "lower": -1.1738032255815152,
           "timepoint": 30,
           "trajectory": "Example",
           "upper": 5.775092796893832
          },
          {
           "lower": -0.9075398842283384,
           "timepoint": 31,
           "trajectory": "Example",
           "upper": 5.857880006944882
          },
          {
           "lower": -0.4985714672016991,
           "timepoint": 32,
           "trajectory": "Example",
           "upper": 6.100190878215524
          },
          {
           "lower": 0.03997889885209935,
           "timepoint": 33,
           "trajectory": "Example",
           "upper": 6.003436331230734
          },
          {
           "lower": 0.6389049343573174,
           "timepoint": 34,
           "trajectory": "Example",
           "upper": 6.166186955672762
          },
          {
           "lower": 1.3215351440782586,
           "timepoint": 35,
           "trajectory": "Example",
           "upper": 6.4297719162343
          },
          {
           "lower": 1.8549283805393368,
           "timepoint": 36,
           "trajectory": "Example",
           "upper": 6.517481400282989
          },
          {
           "lower": 1.732164776304138,
           "timepoint": 37,
           "trajectory": "Example",
           "upper": 6.380990591380336
          },
          {
           "lower": 1.305507754952173,
           "timepoint": 38,
           "trajectory": "Example",
           "upper": 6.200058814431436
          },
          {
           "lower": 0.7365417122671619,
           "timepoint": 39,
           "trajectory": "Example",
           "upper": 6.011020942345226
          },
          {
           "lower": 0.08280421193428676,
           "timepoint": 40,
           "trajectory": "Example",
           "upper": 5.991859764600789
          },
          {
           "lower": -0.44927797325744234,
           "timepoint": 41,
           "trajectory": "Example",
           "upper": 5.817566076667003
          },
          {
           "lower": -0.9360699972021993,
           "timepoint": 42,
           "trajectory": "Example",
           "upper": 5.955328490659651
          },
          {
           "lower": -1.1142590186620827,
           "timepoint": 43,
           "trajectory": "Example",
           "upper": 5.843137107077691
          },
          {
           "lower": -1.1930754009068847,
           "timepoint": 44,
           "trajectory": "Example",
           "upper": 5.736745943432938
          },
          {
           "lower": -1.4281718000350854,
           "timepoint": 45,
           "trajectory": "Example",
           "upper": 5.438326700353676
          },
          {
           "lower": -1.4433413390398457,
           "timepoint": 46,
           "trajectory": "Example",
           "upper": 4.970541709417139
          },
          {
           "lower": -1.4487548919564652,
           "timepoint": 47,
           "trajectory": "Example",
           "upper": 4.376150685120468
          },
          {
           "lower": -1.4161479315774579,
           "timepoint": 48,
           "trajectory": "Example",
           "upper": 3.6929914370767243
          },
          {
           "lower": -1.4236830382181533,
           "timepoint": 49,
           "trajectory": "Example",
           "upper": 3.3373202998828715
          },
          {
           "lower": -1.2051184659818621,
           "timepoint": 50,
           "trajectory": "Example",
           "upper": 3.5372568644042506
          },
          {
           "lower": -1.1908094837948553,
           "timepoint": 51,
           "trajectory": "Example",
           "upper": 4.146860161242584
          },
          {
           "lower": -1.1254044023793317,
           "timepoint": 52,
           "trajectory": "Example",
           "upper": 4.837764323630709
          },
          {
           "lower": -1.0557905818611517,
           "timepoint": 53,
           "trajectory": "Example",
           "upper": 5.400897744100257
          },
          {
           "lower": -1.0350648781217464,
           "timepoint": 54,
           "trajectory": "Example",
           "upper": 5.846453827126676
          },
          {
           "lower": -0.8298405128205847,
           "timepoint": 55,
           "trajectory": "Example",
           "upper": 6.134226012519383
          },
          {
           "lower": -0.571274356084586,
           "timepoint": 56,
           "trajectory": "Example",
           "upper": 6.237320136479084
          },
          {
           "lower": -0.18989089367587095,
           "timepoint": 57,
           "trajectory": "Example",
           "upper": 6.476821465675213
          },
          {
           "lower": 0.3351727072535621,
           "timepoint": 58,
           "trajectory": "Example",
           "upper": 6.3479356267983205
          },
          {
           "lower": 0.9120092688274094,
           "timepoint": 59,
           "trajectory": "Example",
           "upper": 6.500018090728573
          },
          {
           "lower": 1.5804549246173,
           "timepoint": 60,
           "trajectory": "Example",
           "upper": 6.752275078610331
          },
          {
           "lower": 2.103959266870427,
           "timepoint": 61,
           "trajectory": "Example",
           "upper": 6.874495408371169
          },
          {
           "lower": 1.982296181651647,
           "timepoint": 62,
           "trajectory": "Example",
           "upper": 6.749093350017658
          },
          {
           "lower": 1.7760838468591917,
           "timepoint": 63,
           "trajectory": "Example",
           "upper": 6.542267243997556
          },
          {
           "lower": 1.0787167695534827,
           "timepoint": 64,
           "trajectory": "Example",
           "upper": 6.374934755249598
          },
          {
           "lower": 0.4921552279618505,
           "timepoint": 65,
           "trajectory": "Example",
           "upper": 6.317775553071764
          },
          {
           "lower": -0.05899666754394237,
           "timepoint": 66,
           "trajectory": "Example",
           "upper": 6.161355304814914
          },
          {
           "lower": -0.5581191776027802,
           "timepoint": 67,
           "trajectory": "Example",
           "upper": 6.245581242955978
          },
          {
           "lower": -0.7896029652572376,
           "timepoint": 68,
           "trajectory": "Example",
           "upper": 6.188965525676293
          },
          {
           "lower": -0.8457188426330428,
           "timepoint": 69,
           "trajectory": "Example",
           "upper": 6.069988031435824
          },
          {
           "lower": -1.0988194124719186,
           "timepoint": 70,
           "trajectory": "Example",
           "upper": 5.79359415252733
          },
          {
           "lower": -1.1693360965695327,
           "timepoint": 71,
           "trajectory": "Example",
           "upper": 5.34103732152527
          },
          {
           "lower": -1.1691543717662796,
           "timepoint": 72,
           "trajectory": "Example",
           "upper": 4.757520481346694
          },
          {
           "lower": -1.120064443254735,
           "timepoint": 73,
           "trajectory": "Example",
           "upper": 4.079958661174081
          },
          {
           "lower": -1.153287819246023,
           "timepoint": 74,
           "trajectory": "Example",
           "upper": 3.661893089482348
          },
          {
           "lower": -0.9581422716592151,
           "timepoint": 75,
           "trajectory": "Example",
           "upper": 3.7231706369675543
          },
          {
           "lower": -0.9091405620736228,
           "timepoint": 76,
           "trajectory": "Example",
           "upper": 4.3319812497164945
          },
          {
           "lower": -0.889449144233507,
           "timepoint": 77,
           "trajectory": "Example",
           "upper": 5.029441458142973
          },
          {
           "lower": -0.7691585001979709,
           "timepoint": 78,
           "trajectory": "Example",
           "upper": 5.6087370518194986
          },
          {
           "lower": -0.7769529267650965,
           "timepoint": 79,
           "trajectory": "Example",
           "upper": 6.0682548289165315
          },
          {
           "lower": -0.5806451713260756,
           "timepoint": 80,
           "trajectory": "Example",
           "upper": 6.374676991298823
          },
          {
           "lower": -0.3435353910887209,
           "timepoint": 81,
           "trajectory": "Example",
           "upper": 6.507758244150015
          },
          {
           "lower": 0.013613565825686208,
           "timepoint": 82,
           "trajectory": "Example",
           "upper": 6.712565440286736
          },
          {
           "lower": 0.5202637477795781,
           "timepoint": 83,
           "trajectory": "Example",
           "upper": 6.586664715609409
          },
          {
           "lower": 1.0861109758188685,
           "timepoint": 84,
           "trajectory": "Example",
           "upper": 6.729914198453703
          },
          {
           "lower": 1.7430208511799234,
           "timepoint": 85,
           "trajectory": "Example",
           "upper": 6.973993251721239
          },
          {
           "lower": 2.2579094238036266,
           "timepoint": 86,
           "trajectory": "Example",
           "upper": 7.133695680618981
          },
          {
           "lower": 2.1407049295554663,
           "timepoint": 87,
           "trajectory": "Example",
           "upper": 7.022442155636602
          },
          {
           "lower": 2.119423419052442,
           "timepoint": 88,
           "trajectory": "Example",
           "upper": 6.792228002230753
          },
          {
           "lower": 1.4120531275798185,
           "timepoint": 89,
           "trajectory": "Example",
           "upper": 6.67410946996556
          },
          {
           "lower": 0.8020177161278661,
           "timepoint": 90,
           "trajectory": "Example",
           "upper": 6.541305779207921
          },
          {
           "lower": 0.24950339468578175,
           "timepoint": 91,
           "trajectory": "Example",
           "upper": 6.420446082070715
          },
          {
           "lower": -0.2568898644715185,
           "timepoint": 92,
           "trajectory": "Example",
           "upper": 6.453412572943201
          },
          {
           "lower": -0.538839334942514,
           "timepoint": 93,
           "trajectory": "Example",
           "upper": 6.463388954318381
          },
          {
           "lower": -0.5795793004362121,
           "timepoint": 94,
           "trajectory": "Example",
           "upper": 6.325045226165991
          },
          {
           "lower": -0.8395905241231821,
           "timepoint": 95,
           "trajectory": "Example",
           "upper": 6.0730249621559365
          },
          {
           "lower": -0.9852216144834942,
           "timepoint": 96,
           "trajectory": "Example",
           "upper": 5.638109087668366
          },
          {
           "lower": -0.9557151806908489,
           "timepoint": 97,
           "trajectory": "Example",
           "upper": 5.067944775198786
          },
          {
           "lower": -0.8882884280209876,
           "timepoint": 98,
           "trajectory": "Example",
           "upper": 4.398488076600296
          },
          {
           "lower": -0.901720910700936,
           "timepoint": 99,
           "trajectory": "Example",
           "upper": 3.9044869314231145
          }
         ]
        },
        {
         "name": "traces",
         "transform": [
          {
           "expr": "isValid(datum.value)",
           "type": "filter"
          },
          {
           "sort": {
            "field": [
             "trajectory",
             "timepoint"
            ]
           },
           "type": "collect"
          }
         ],
         "values": [
          {
           "color_by": "Trajectory Mean",
           "sample_id": 0,
           "timepoint": 0,
           "trajectory": "Baseline_Trajectory_Mean",
           "value": -1.4008467552199555
          },
          {
           "color_by": "Trajectory Mean",
           "sample_id": 0,
           "timepoint": 1,
           "trajectory": "Baseline_Trajectory_Mean",
           "value": -0.2865753577008938
          },
          {
           "color_by": "Trajectory Mean",
           "sample_id": 0,
           "timepoint": 2,
           "trajectory": "Baseline_Trajectory_Mean",
           "value": 0.08963476379208593
          },
          {
           "color_by": "Trajectory Mean",
           "sample_id": 0,
           "timepoint": 3,
           "trajectory": "Baseline_Trajectory_Mean",
           "value": 0.4654330156302792
          },
          {
           "color_by": "Trajectory Mean",
           "sample_id": 0,
           "timepoint": 4,
           "trajectory": "Baseline_Trajectory_Mean",
           "value": 0.8596495155077268
          },
          {
           "color_by": "Trajectory Mean",
           "sample_id": 0,
           "timepoint": 5,
           "trajectory": "Baseline_Trajectory_Mean",
           "value": 1.2661119052448226
          },
          {
           "color_by": "Trajectory Mean",
           "sample_id": 0,
           "timepoint": 6,
           "trajectory": "Baseline_Trajectory_Mean",
           "value": 1.6704911835665464
          },
          {
           "color_by": "Trajectory Mean",
           "sample_id": 0,
           "timepoint": 7,
           "trajectory": "Baseline_Trajectory_Mean",
           "value": 2.0551879470519436
          },
          {
           "color_by": "Trajectory Mean",
           "sample_id": 0,
           "timepoint": 8,
           "trajectory": "Baseline_Trajectory_Mean",
           "value": 2.4018809484754615
          },
          {
           "color_by": "Trajectory Mean",
           "sample_id": 0,
           "timepoint": 9,
           "trajectory": "Baseline_Trajectory_Mean",
           "value": 2.693340232718408
          },
          {
           "color_by": "Trajectory Mean",
           "sample_id": 0,
           "timepoint": 10,
           "trajectory": "Baseline_Trajectory_Mean",
           "value": 2.9148747203069716
          },
          {
           "color_by": "Trajectory Mean",
           "sample_id": 0,
           "timepoint": 11,
           "trajectory": "Baseline_Trajectory_Mean",
           "value": 3.055491779330685
          },
          {
           "color_by": "Trajectory Mean",
           "sample_id": 0,
           "timepoint": 12,
           "trajectory": "Baseline_Trajectory_Mean",
           "value": 3.1087635011407673
          },
          {
           "color_by": "Trajectory Mean",
           "sample_id": 0,
           "timepoint": 13,
           "trajectory": "Baseline_Trajectory_Mean",
           "value": 3.0733742202561722
          },
          {
           "color_by": "Trajectory Mean",
           "sample_id": 0,
           "timepoint": 14,
           "trajectory": "Baseline_Trajectory_Mean",
           "value": 2.9533270628063946
          },
          {
           "color_by": "Trajectory Mean",
           "sample_id": 0,
           "timepoint": 15,
           "trajectory": "Baseline_Trajectory_Mean",
           "value": 2.7578008029566714
          },
          {
           "color_by": "Trajectory Mean",
           "sample_id": 0,
           "timepoint": 16,
           "trajectory": "Baseline_Trajectory_Mean",
           "value": 2.5006664449908005
          },
          {
           "color_by": "Trajectory Mean",
           "sample_id": 0,
           "timepoint": 17,
           "trajectory": "Baseline_Trajectory_Mean",
           "value": 2.1996926310457554
          },
          {
           "color_by": "Trajectory Mean",
           "sample_id": 0,
           "timepoint": 18,
           "trajectory": "Baseline_Trajectory_Mean",
           "value": 1.8754880621174703
          },
          {
           "color_by": "Trajectory Mean",
           "sample_id": 0,
           "timepoint": 19,
           "trajectory": "Baseline_Trajectory_Mean",
           "value": 1.5502459408755311
          },
          {
           "color_by": "Trajectory Mean",
           "sample_id": 0,
           "timepoint": 20,
           "trajectory": "Baseline_Trajectory_Mean",
           "value": 1.2463686536741196
          },
          {
           "color_by": "Trajectory Mean",
           "sample_id": 0,
           "timepoint": 21,
           "trajectory": "Baseline_Trajectory_Mean",
           "value": 0.9850594711461732
          },
          {
           "color_by": "Trajectory Mean",
           "sample_id": 0,
           "timepoint": 22,
           "trajectory": "Baseline_Trajectory_Mean",
           "value": 0.7849712612918995
          },
          {
           "color_by": "Trajectory Mean",
           "sample_id": 0,
           "timepoint": 23,
           "trajectory": "Baseline_Trajectory_Mean",
           "value": 0.6609997378532205
          },
          {
           "color_by": "Trajectory Mean",
           "sample_id": 0,
           "timepoint": 24,
           "trajectory": "Baseline_Trajectory_Mean",
           "value": 0.6233006513276305
          },
          {
           "color_by": "Trajectory Mean",
           "sample_id": 0,
           "timepoint": 25,
           "trajectory": "Baseline_Trajectory_Mean",
           "value": 0.6765969891710576
          },
          {
           "color_by": "Trajectory Mean",
           "sample_id": 0,
           "timepoint": 26,
           "trajectory": "Baseline_Trajectory_Mean",
           "value": 0.8198244582051916
          },
          {
           "color_by": "Trajectory Mean",
           "sample_id": 0,
           "timepoint": 27,
           "trajectory": "Baseline_Trajectory_Mean",
           "value": 1.0461423560085759
          },
          {
           "color_by": "Trajectory Mean",
           "sample_id": 0,
           "timepoint": 28,
           "trajectory": "Baseline_Trajectory_Mean",
           "value": 1.3433137198443637
          },
          {
           "color_by": "Trajectory Mean",
           "sample_id": 0,
           "timepoint": 29,
           "trajectory": "Baseline_Trajectory_Mean",
           "value": 1.694434849408308
          },
          {
           "color_by": "Trajectory Mean",
           "sample_id": 0,
           "timepoint": 30,
           "trajectory": "Baseline_Trajectory_Mean",
           "value": 2.0789714734159883
          },
          {
           "color_by": "Trajectory Mean",
           "sample_id": 0,
           "timepoint": 31,
           "trajectory": "Baseline_Trajectory_Mean",
           "value": 2.4740384711429386
          },
          {
           "color_by": "Trajectory Mean",
           "sample_id": 0,
           "timepoint": 32,
           "trajectory": "Baseline_Trajectory_Mean",
           "value": 2.855843531268064
          },
          {
           "color_by": "Trajectory Mean",
           "sample_id": 0,
           "timepoint": 33,
           "trajectory": "Baseline_Trajectory_Mean",
           "value": 3.2012035636598064
          },
          {
           "color_by": "Trajectory Mean",
           "sample_id": 0,
           "timepoint": 34,
           "trajectory": "Baseline_Trajectory_Mean",
           "value": 3.4890368976879422
          },
          {
           "color_by": "Trajectory Mean",
           "sample_id": 0,
           "timepoint": 35,
           "trajectory": "Baseline_Trajectory_Mean",
           "value": 3.70173475743898
          },
          {
           "color_by": "Trajectory Mean",
           "sample_id": 0,
           "timepoint": 36,
           "trajectory": "Baseline_Trajectory_Mean",
           "value": 3.826322250162672
          },
          {
           "color_by": "Trajectory Mean",
           "sample_id": 0,
           "timepoint": 37,
           "trajectory": "Baseline_Trajectory_Mean",
           "value": 3.85533177665865
          },
          {
           "color_by": "Trajectory Mean",
           "sample_id": 0,
           "timepoint": 38,
           "trajectory": "Baseline_Trajectory_Mean",
           "value": 3.7873296136225676
          },
          {
           "color_by": "Trajectory Mean",
           "sample_id": 0,
           "timepoint": 39,
           "trajectory": "Baseline_Trajectory_Mean",
           "value": 3.6270583207370106
          },
          {
           "color_by": "Trajectory Mean",
           "sample_id": 0,
           "timepoint": 40,
           "trajectory": "Baseline_Trajectory_Mean",
           "value": 3.3851822008269443
          },
          {
           "color_by": "Trajectory Mean",
           "sample_id": 0,
           "timepoint": 41,
           "trajectory": "Baseline_Trajectory_Mean",
           "value": 3.0776487082356745
          },
          {
           "color_by": "Trajectory Mean",
           "sample_id": 0,
           "timepoint": 42,
           "trajectory": "Baseline_Trajectory_Mean",
           "value": 2.7247037869124147
          },
          {
           "color_by": "Trajectory Mean",
           "sample_id": 0,
           "timepoint": 43,
           "trajectory": "Baseline_Trajectory_Mean",
           "value": 2.3496219731695405
          },
          {
           "color_by": "Trajectory Mean",
           "sample_id": 0,
           "timepoint": 44,
           "trajectory": "Baseline_Trajectory_Mean",
           "value": 1.9772311955572937
          },
          {
           "color_by": "Trajectory Mean",
           "sample_id": 0,
           "timepoint": 45,
           "trajectory": "Baseline_Trajectory_Mean",
           "value": 1.6323262544690291
          },
          {
           "color_by": "Trajectory Mean",
           "sample_id": 0,
           "timepoint": 46,
           "trajectory": "Baseline_Trajectory_Mean",
           "value": 1.3380729955610444
          },
          {
           "color_by": "Trajectory Mean",
           "sample_id": 0,
           "timepoint": 47,
           "trajectory": "Baseline_Trajectory_Mean",
           "value": 1.1145066202904221
          },
          {
           "color_by": "Trajectory Mean",
           "sample_id": 0,
           "timepoint": 48,
           "trajectory": "Baseline_Trajectory_Mean",
           "value": 0.9772222507703885
          },
          {
           "color_by": "Trajectory Mean",
           "sample_id": 0,
           "timepoint": 49,
           "trajectory": "Baseline_Trajectory_Mean",
           "value": 0.9363440764986133
          },
          {
           "color_by": "Trajectory Mean",
           "sample_id": 0,
           "timepoint": 50,
           "trajectory": "Baseline_Trajectory_Mean",
           "value": 0.9958418787739232
          },
          {
           "color_by": "Trajectory Mean",
           "sample_id": 0,
           "timepoint": 51,
           "trajectory": "Baseline_Trajectory_Mean",
           "value": 1.15324156185182
          },
          {
           "color_by": "Trajectory Mean",
           "sample_id": 0,
           "timepoint": 52,
           "trajectory": "Baseline_Trajectory_Mean",
           "value": 1.3997509406002977
          },
          {
           "color_by": "Trajectory Mean",
           "sample_id": 0,
           "timepoint": 53,
           "trajectory": "Baseline_Trajectory_Mean",
           "value": 1.7207950886517374
          },
          {
           "color_by": "Trajectory Mean",
           "sample_id": 0,
           "timepoint": 54,
           "trajectory": "Baseline_Trajectory_Mean",
           "value": 2.0969288008027704
          },
          {
           "color_by": "Trajectory Mean",
           "sample_id": 0,
           "timepoint": 55,
           "trajectory": "Baseline_Trajectory_Mean",
           "value": 2.5050689304331137
          },
          {
           "color_by": "Trajectory Mean",
           "sample_id": 0,
           "timepoint": 56,
           "trajectory": "Baseline_Trajectory_Mean",
           "value": 2.919968171392226
          },
          {
           "color_by": "Trajectory Mean",
           "sample_id": 0,
           "timepoint": 57,
           "trajectory": "Baseline_Trajectory_Mean",
           "value": 3.3158356810815914
          },
          {
           "color_by": "Trajectory Mean",
           "sample_id": 0,
           "timepoint": 58,
           "trajectory": "Baseline_Trajectory_Mean",
           "value": 3.66799988114874
          },
          {
           "color_by": "Trajectory Mean",
           "sample_id": 0,
           "timepoint": 59,
           "trajectory": "Baseline_Trajectory_Mean",
           "value": 3.954505520255669
          },
          {
           "color_by": "Trajectory Mean",
           "sample_id": 0,
           "timepoint": 60,
           "trajectory": "Baseline_Trajectory_Mean",
           "value": 4.157540889265437
          },
          {
           "color_by": "Trajectory Mean",
           "sample_id": 0,
           "timepoint": 61,
           "trajectory": "Baseline_Trajectory_Mean",
           "value": 4.2646017268390715
          },
          {
           "color_by": "Trajectory Mean",
           "sample_id": 0,
           "timepoint": 62,
           "trajectory": "Baseline_Trajectory_Mean",
           "value": 4.269315173162012
          },
          {
           "color_by": "Trajectory Mean",
           "sample_id": 0,
           "timepoint": 63,
           "trajectory": "Baseline_Trajectory_Mean",
           "value": 4.171869040304778
          },
          {
           "color_by": "Trajectory Mean",
           "sample_id": 0,
           "timepoint": 64,
           "trajectory": "Baseline_Trajectory_Mean",
           "value": 3.9790172471841596
          },
          {
           "color_by": "Trajectory Mean",
           "sample_id": 0,
           "timepoint": 65,
           "trajectory": "Baseline_Trajectory_Mean",
           "value": 3.703659844572132
          },
          {
           "color_by": "Trajectory Mean",
           "sample_id": 0,
           "timepoint": 66,
           "trajectory": "Baseline_Trajectory_Mean",
           "value": 3.3640238222244614
          },
          {
           "color_by": "Trajectory Mean",
           "sample_id": 0,
           "timepoint": 67,
           "trajectory": "Baseline_Trajectory_Mean",
           "value": 2.982497018582406
          },
          {
           "color_by": "Trajectory Mean",
           "sample_id": 0,
           "timepoint": 68,
           "trajectory": "Baseline_Trajectory_Mean",
           "value": 2.584190219099211
          },
          {
           "color_by": "Trajectory Mean",
           "sample_id": 0,
           "timepoint": 69,
           "trajectory": "Baseline_Trajectory_Mean",
           "value": 2.1953204252380347
          },
          {
           "color_by": "Trajectory Mean",
           "sample_id": 0,
           "timepoint": 70,
           "trajectory": "Baseline_Trajectory_Mean",
           "value": 1.8415201141371795
          },
          {
           "color_by": "Trajectory Mean",
           "sample_id": 0,
           "timepoint": 71,
           "trajectory": "Baseline_Trajectory_Mean",
           "value": 1.5461822984326297
          },
          {
           "color_by": "Trajectory Mean",
           "sample_id": 0,
           "timepoint": 72,
           "trajectory": "Baseline_Trajectory_Mean",
           "value": 1.3289489976485105
          },
          {
           "color_by": "Trajectory Mean",
           "sample_id": 0,
           "timepoint": 73,
           "trajectory": "Baseline_Trajectory_Mean",
           "value": 1.2044414823275118
          },
          {
           "color_by": "Trajectory Mean",
           "sample_id": 0,
           "timepoint": 74,
           "trajectory": "Baseline_Trajectory_Mean",
           "value": 1.1813149512380379
          },
          {
           "color_by": "Trajectory Mean",
           "sample_id": 0,
           "timepoint": 75,
           "trajectory": "Baseline_Trajectory_Mean",
           "value": 1.261699178788694
          },
          {
           "color_by": "Trajectory Mean",
           "sample_id": 0,
           "timepoint": 76,
           "trajectory": "Baseline_Trajectory_Mean",
           "value": 1.441061511124025
          },
          {
           "color_by": "Trajectory Mean",
           "sample_id": 0,
           "timepoint": 77,
           "trajectory": "Baseline_Trajectory_Mean",
           "value": 1.7085010489704113
          },
          {
           "color_by": "Trajectory Mean",
           "sample_id": 0,
           "timepoint": 78,
           "trajectory": "Baseline_Trajectory_Mean",
           "value": 2.047454743927569
          },
          {
           "color_by": "Trajectory Mean",
           "sample_id": 0,
           "timepoint": 79,
           "trajectory": "Baseline_Trajectory_Mean",
           "value": 2.436769300271726
          },
          {
           "color_by": "Trajectory Mean",
           "sample_id": 0,
           "timepoint": 80,
           "trajectory": "Baseline_Trajectory_Mean",
           "value": 2.852068978559758
          },
          {
           "color_by": "Trajectory Mean",
           "sample_id": 0,
           "timepoint": 81,
           "trajectory": "Baseline_Trajectory_Mean",
           "value": 3.267330200182204
          },
          {
           "color_by": "Trajectory Mean",
           "sample_id": 0,
           "timepoint": 82,
           "trajectory": "Baseline_Trajectory_Mean",
           "value": 3.6565605078604935
          },
          {
           "color_by": "Trajectory Mean",
           "sample_id": 0,
           "timepoint": 83,
           "trajectory": "Baseline_Trajectory_Mean",
           "value": 3.995472812236935
          },
          {
           "color_by": "Trajectory Mean",
           "sample_id": 0,
           "timepoint": 84,
           "trajectory": "Baseline_Trajectory_Mean",
           "value": 4.263046370821668
          },
          {
           "color_by": "Trajectory Mean",
           "sample_id": 0,
           "timepoint": 85,
           "trajectory": "Baseline_Trajectory_Mean",
           "value": 4.442873552722851
          },
          {
           "color_by": "Trajectory Mean",
           "sample_id": 0,
           "timepoint": 86,
           "trajectory": "Baseline_Trajectory_Mean",
           "value": 4.5242056238286175
          },
          {
           "color_by": "Trajectory Mean",
           "sample_id": 0,
           "timepoint": 87,
           "trajectory": "Baseline_Trajectory_Mean",
           "value": 4.502630593977898
          },
          {
           "color_by": "Trajectory Mean",
           "sample_id": 0,
           "timepoint": 88,
           "trajectory": "Baseline_Trajectory_Mean",
           "value": 4.380340284338179
          },
          {
           "color_by": "Trajectory Mean",
           "sample_id": 0,
           "timepoint": 89,
           "trajectory": "Baseline_Trajectory_Mean",
           "value": 4.165970604832528
          },
          {
           "color_by": "Trajectory Mean",
           "sample_id": 0,
           "timepoint": 90,
           "trajectory": "Baseline_Trajectory_Mean",
           "value": 3.8740268105964195
          },
          {
           "color_by": "Trajectory Mean",
           "sample_id": 0,
           "timepoint": 91,
           "trajectory": "Baseline_Trajectory_Mean",
           "value": 3.523932410604807
          },
          {
           "color_by": "Trajectory Mean",
           "sample_id": 0,
           "timepoint": 92,
           "trajectory": "Baseline_Trajectory_Mean",
           "value": 3.13876467384999
          },
          {
           "color_by": "Trajectory Mean",
           "sample_id": 0,
           "timepoint": 93,
           "trajectory": "Baseline_Trajectory_Mean",
           "value": 2.7437597430507874
          },
          {
           "color_by": "Trajectory Mean",
           "sample_id": 0,
           "timepoint": 94,
           "trajectory": "Baseline_Trajectory_Mean",
           "value": 2.364684931379344
          },
          {
           "color_by": "Trajectory Mean",
           "sample_id": 0,
           "timepoint": 95,
           "trajectory": "Baseline_Trajectory_Mean",
           "value": 2.0261839205418126
          },
          {
           "color_by": "Trajectory Mean",
           "sample_id": 0,
           "timepoint": 96,
           "trajectory": "Baseline_Trajectory_Mean",
           "value": 1.7502018018294778
          },
          {
           "color_by": "Trajectory Mean",
           "sample_id": 0,
           "timepoint": 97,
           "trajectory": "Baseline_Trajectory_Mean",
           "value": 1.5545911653353428
          },
          {
           "color_by": "Trajectory Mean",
           "sample_id": 0,
           "timepoint": 98,
           "trajectory": "Baseline_Trajectory_Mean",
           "value": 1.4519881627562776
          },
          {
           "color_by": "Trajectory Mean",
           "sample_id": 0,
           "timepoint": 99,
           "trajectory": "Baseline_Trajectory_Mean",
           "value": 1.4490294884036363
          },
          {
           "color_by": "Chaos",
           "sample_id": 0,
           "timepoint": 0,
           "trajectory": "Chaos",
           "value": 0.4369280742704994
          },
          {
           "color_by": "Chaos",
           "sample_id": 0,
           "timepoint": 1,
           "trajectory": "Chaos",
           "value": 2.0951269946302666
          },
          {
           "color_by": "Chaos",
           "sample_id": 0,
           "timepoint": 2,
           "trajectory": "Chaos",
           "value": 2.8341294331387634
          },
          {
           "color_by": "Chaos",
           "sample_id": 0,
           "timepoint": 3,
           "trajectory": "Chaos",
           "value": 3.368204447415103
          },
          {
           "color_by": "Chaos",
           "sample_id": 0,
           "timepoint": 4,
           "trajectory": "Chaos",
           "value": 3.705646677590341
          },
          {
           "color_by": "Chaos",
           "sample_id": 0,
           "timepoint": 5,
           "trajectory": "Chaos",
           "value": 3.843300459975543
          },
          {
           "color_by": "Chaos",
           "sample_id": 0,
           "timepoint": 6,
           "trajectory": "Chaos",
           "value": 3.78325665460961
          },
          {
           "color_by": "Chaos",
           "sample_id": 0,
           "timepoint": 7,
           "trajectory": "Chaos",
           "value": 3.5367399314740053
          },
          {
           "color_by": "Chaos",
           "sample_id": 0,
           "timepoint": 8,
           "trajectory": "Chaos",
           "value": 3.124868884427509
          },
          {
           "color_by": "Chaos",
           "sample_id": 0,
           "timepoint": 9,
           "trajectory": "Chaos",
           "value": 2.578002161536066
          },
          {
           "color_by": "Chaos",
           "sample_id": 0,
           "timepoint": 10,
           "trajectory": "Chaos",
           "value": 1.9341950016730554
          },
          {
           "color_by": "Chaos",
           "sample_id": 0,
           "timepoint": 11,
           "trajectory": "Chaos",
           "value": 1.2370321353267508
          },
          {
           "color_by": "Chaos",
           "sample_id": 0,
           "timepoint": 12,
           "trajectory": "Chaos",
           "value": 0.5330421783407774
          },
          {
           "color_by": "Chaos",
           "sample_id": 0,
           "timepoint": 13,
           "trajectory": "Chaos",
           "value": -0.13111288583529446
          },
          {
           "color_by": "Chaos",
           "sample_id": 0,
           "timepoint": 14,
           "trajectory": "Chaos",
           "value": -0.7114816105056262
          },
          {
           "color_by": "Chaos",
           "sample_id": 0,
           "timepoint": 15,
           "trajectory": "Chaos",
           "value": -1.1695143364771021
          },
          {
           "color_by": "Chaos",
           "sample_id": 0,
           "timepoint": 16,
           "trajectory": "Chaos",
           "value": -1.4744290862533296
          },
          {
           "color_by": "Chaos",
           "sample_id": 0,
           "timepoint": 17,
           "trajectory": "Chaos",
           "value": -1.6051017119250526
          },
          {
           "color_by": "Chaos",
           "sample_id": 0,
           "timepoint": 18,
           "trajectory": "Chaos",
           "value": -1.5513606771940467
          },
          {
           "color_by": "Chaos",
           "sample_id": 0,
           "timepoint": 19,
           "trajectory": "Chaos",
           "value": -1.3146045822650825
          },
          {
           "color_by": "Chaos",
           "sample_id": 0,
           "timepoint": 20,
           "trajectory": "Chaos",
           "value": -0.9077030906098726
          },
          {
           "color_by": "Chaos",
           "sample_id": 0,
           "timepoint": 21,
           "trajectory": "Chaos",
           "value": -0.35418675483014617
          },
          {
           "color_by": "Chaos",
           "sample_id": 0,
           "timepoint": 22,
           "trajectory": "Chaos",
           "value": 0.3132243607917814
          },
          {
           "color_by": "Chaos",
           "sample_id": 0,
           "timepoint": 23,
           "trajectory": "Chaos",
           "value": 1.0546621257594109
          },
          {
           "color_by": "Chaos",
           "sample_id": 0,
           "timepoint": 24,
           "trajectory": "Chaos",
           "value": 1.825595189072683
          },
          {
           "color_by": "Chaos",
           "sample_id": 0,
           "timepoint": 25,
           "trajectory": "Chaos",
           "value": 2.579602926240474
          },
          {
           "color_by": "Chaos",
           "sample_id": 0,
           "timepoint": 26,
           "trajectory": "Chaos",
           "value": 3.27126616844506
          },
          {
           "color_by": "Chaos",
           "sample_id": 0,
           "timepoint": 27,
           "trajectory": "Chaos",
           "value": 3.8589951004864513
          },
          {
           "color_by": "Chaos",
           "sample_id": 0,
           "timepoint": 28,
           "trajectory": "Chaos",
           "value": 4.307618595852653
          },
          {
           "color_by": "Chaos",
           "sample_id": 0,
           "timepoint": 29,
           "trajectory": "Chaos",
           "value": 4.590574071167664
          },
          {
           "color_by": "Chaos",
           "sample_id": 0,
           "timepoint": 30,
           "trajectory": "Chaos",
           "value": 4.691561765651346
          },
          {
           "color_by": "Chaos",
           "sample_id": 0,
           "timepoint": 31,
           "trajectory": "Chaos",
           "value": 4.60556063953023
          },
          {
           "color_by": "Chaos",
           "sample_id": 0,
           "timepoint": 32,
           "trajectory": "Chaos",
           "value": 4.33914276803976
          },
          {
           "color_by": "Chaos",
           "sample_id": 0,
           "timepoint": 33,
           "trajectory": "Chaos",
           "value": 3.9100667168874894
          },
          {
           "color_by": "Chaos",
           "sample_id": 0,
           "timepoint": 34,
           "trajectory": "Chaos",
           "value": 3.3461752089620194
          },
          {
           "color_by": "Chaos",
           "sample_id": 0,
           "timepoint": 35,
           "trajectory": "Chaos",
           "value": 2.6836656434219486
          },
          {
           "color_by": "Chaos",
           "sample_id": 0,
           "timepoint": 36,
           "trajectory": "Chaos",
           "value": 1.9648410176861397
          },
          {
           "color_by": "Chaos",
           "sample_id": 0,
           "timepoint": 37,
           "trajectory": "Chaos",
           "value": 1.2354811059207211
          },
          {
           "color_by": "Chaos",
           "sample_id": 0,
           "timepoint": 38,
           "trajectory": "Chaos",
           "value": 0.5419973557944521
          },
          {
           "color_by": "Chaos",
           "sample_id": 0,
           "timepoint": 39,
           "trajectory": "Chaos",
           "value": -0.07145158939461671
          },
          {
           "color_by": "Chaos",
           "sample_id": 0,
           "timepoint": 40,
           "trajectory": "Chaos",
           "value": -0.5657043896788213
          },
          {
           "color_by": "Chaos",
           "sample_id": 0,
           "timepoint": 41,
           "trajectory": "Chaos",
           "value": -0.9090308795481973
          },
          {
           "color_by": "Chaos",
           "sample_id": 0,
           "timepoint": 42,
           "trajectory": "Chaos",
           "value": -1.0791039768523785
          },
          {
           "color_by": "Chaos",
           "sample_id": 0,
           "timepoint": 43,
           "trajectory": "Chaos",
           "value": -1.064387018667654
          },
          {
           "color_by": "Chaos",
           "sample_id": 0,
           "timepoint": 44,
           "trajectory": "Chaos",
           "value": -0.8648502600998599
          },
          {
           "color_by": "Chaos",
           "sample_id": 0,
           "timepoint": 45,
           "trajectory": "Chaos",
           "value": -0.49197198212911253
          },
          {
           "color_by": "Chaos",
           "sample_id": 0,
           "timepoint": 46,
           "trajectory": "Chaos",
           "value": 0.03197586522060247
          },
          {
           "color_by": "Chaos",
           "sample_id": 0,
           "timepoint": 47,
           "trajectory": "Chaos",
           "value": 0.6753130734304252
          },
          {
           "color_by": "Chaos",
           "sample_id": 0,
           "timepoint": 48,
           "trajectory": "Chaos",
           "value": 1.3989215054554398
          },
          {
           "color_by": "Chaos",
           "sample_id": 0,
           "timepoint": 49,
           "trajectory": "Chaos",
           "value": 2.158677842947646
          },
          {
           "color_by": "Chaos",
           "sample_id": 0,
           "timepoint": 50,
           "trajectory": "Chaos",
           "value": 2.908197497344373
          },
          {
           "color_by": "Chaos",
           "sample_id": 0,
           "timepoint": 51,
           "trajectory": "Chaos",
           "value": 3.6017190844582423
          },
          {
           "color_by": "Chaos",
           "sample_id": 0,
           "timepoint": 52,
           "trajectory": "Chaos",
           "value": 4.196950122372233
          },
          {
           "color_by": "Chaos",
           "sample_id": 0,
           "timepoint": 53,
           "trajectory": "Chaos",
           "value": 4.657697023148588
          },
          {
           "color_by": "Chaos",
           "sample_id": 0,
           "timepoint": 54,
           "trajectory": "Chaos",
           "value": 4.956115860212535
          },
          {
           "color_by": "Chaos",
           "sample_id": 0,
           "timepoint": 55,
           "trajectory": "Chaos",
           "value": 5.074443971414607
          },
          {
           "color_by": "Chaos",
           "sample_id": 0,
           "timepoint": 56,
           "trajectory": "Chaos",
           "value": 5.006104736730406
          },
          {
           "color_by": "Chaos",
           "sample_id": 0,
           "timepoint": 57,
           "trajectory": "Chaos",
           "value": 4.756116842372453
          },
          {
           "color_by": "Chaos",
           "sample_id": 0,
           "timepoint": 58,
           "trajectory": "Chaos",
           "value": 4.340782586621769
          },
          {
           "color_by": "Chaos",
           "sample_id": 0,
           "timepoint": 59,
           "trajectory": "Chaos",
           "value": 3.7866746082617357
          },
          {
           "color_by": "Chaos",
           "sample_id": 0,
           "timepoint": 60,
           "trajectory": "Chaos",
           "value": 3.1289840390746453
          },
          {
           "color_by": "Chaos",
           "sample_id": 0,
           "timepoint": 61,
           "trajectory": "Chaos",
           "value": 2.4093327853244593
          },
          {
           "color_by": "Chaos",
           "sample_id": 0,
           "timepoint": 62,
           "trajectory": "Chaos",
           "value": 1.6731859609272624
          },
          {
           "color_by": "Chaos",
           "sample_id": 0,
           "timepoint": 63,
           "trajectory": "Chaos",
           "value": 0.9670253555646703
          },
          {
           "color_by": "Chaos",
           "sample_id": 0,
           "timepoint": 64,
           "trajectory": "Chaos",
           "value": 0.3354596786150809
          },
          {
           "color_by": "Chaos",
           "sample_id": 0,
           "timepoint": 65,
           "trajectory": "Chaos",
           "value": -0.18154874931240783
          },
          {
           "color_by": "Chaos",
           "sample_id": 0,
           "timepoint": 66,
           "trajectory": "Chaos",
           "value": -0.5511684256620709
          },
          {
           "color_by": "Chaos",
           "sample_id": 0,
           "timepoint": 67,
           "trajectory": "Chaos",
           "value": -0.749739745614931
          },
          {
           "color_by": "Chaos",
           "sample_id": 0,
           "timepoint": 68,
           "trajectory": "Chaos",
           "value": -0.7642458271311028
          },
          {
           "color_by": "Chaos",
           "sample_id": 0,
           "timepoint": 69,
           "trajectory": "Chaos",
           "value": -0.5931216320256864
          },
          {
           "color_by": "Chaos",
           "sample_id": 0,
           "timepoint": 70,
           "trajectory": "Chaos",
           "value": -0.24635107533999656
          },
          {
           "color_by": "Chaos",
           "sample_id": 0,
           "timepoint": 71,
           "trajectory": "Chaos",
           "value": 0.2551539152547425
          },
          {
           "color_by": "Chaos",
           "sample_id": 0,
           "timepoint": 72,
           "trajectory": "Chaos",
           "value": 0.8808537833819517
          },
          {
           "color_by": "Chaos",
           "sample_id": 0,
           "timepoint": 73,
           "trajectory": "Chaos",
           "value": 1.592480320047609
          },
          {
           "color_by": "Chaos",
           "sample_id": 0,
           "timepoint": 74,
           "trajectory": "Chaos",
           "value": 2.3464161631373956
          },
          {
           "color_by": "Chaos",
           "sample_id": 0,
           "timepoint": 75,
           "trajectory": "Chaos",
           "value": 3.096406874925232
          },
          {
           "color_by": "Chaos",
           "sample_id": 0,
           "timepoint": 76,
           "trajectory": "Chaos",
           "value": 3.796436974081969
          },
          {
           "color_by": "Chaos",
           "sample_id": 0,
           "timepoint": 77,
           "trajectory": "Chaos",
           "value": 4.403591104754666
          },
          {
           "color_by": "Chaos",
           "sample_id": 0,
           "timepoint": 78,
           "trajectory": "Chaos",
           "value": 4.880722449371941
          },
          {
           "color_by": "Chaos",
           "sample_id": 0,
           "timepoint": 79,
           "trajectory": "Chaos",
           "value": 5.198762476463964
          },
          {
           "color_by": "Chaos",
           "sample_id": 0,
           "timepoint": 80,
           "trajectory": "Chaos",
           "value": 5.338528414820346
          },
          {
           "color_by": "Chaos",
           "sample_id": 0,
           "timepoint": 81,
           "trajectory": "Chaos",
           "value": 5.291916074236972
          },
          {
           "color_by": "Chaos",
           "sample_id": 0,
           "timepoint": 82,
           "trajectory": "Chaos",
           "value": 5.062403849260372
          },
          {
           "color_by": "Chaos",
           "sample_id": 0,
           "timepoint": 83,
           "trajectory": "Chaos",
           "value": 4.664836569629703
          },
          {
           "color_by": "Chaos",
           "sample_id": 0,
           "timepoint": 84,
           "trajectory": "Chaos",
           "value": 4.124502636748188
          },
          {
           "color_by": "Chaos",
           "sample_id": 0,
           "timepoint": 85,
           "trajectory": "Chaos",
           "value": 3.4755618255560172
          },
          {
           "color_by": "Chaos",
           "sample_id": 0,
           "timepoint": 86,
           "trajectory": "Chaos",
           "value": 2.758921503646203
          },
          {
           "color_by": "Chaos",
           "sample_id": 0,
           "timepoint": 87,
           "trajectory": "Chaos",
           "value": 2.019693314199122
          },
          {
           "color_by": "Chaos",
           "sample_id": 0,
           "timepoint": 88,
           "trajectory": "Chaos",
           "value": 1.3043884540297994
          },
          {
           "color_by": "Chaos",
           "sample_id": 0,
           "timepoint": 89,
           "trajectory": "Chaos",
           "value": 0.6580259309230826
          },
          {
           "color_by": "Chaos",
           "sample_id": 0,
           "timepoint": 90,
           "trajectory": "Chaos",
           "value": 0.12133359495006169
          },
          {
           "color_by": "Chaos",
           "sample_id": 0,
           "timepoint": 91,
           "trajectory": "Chaos",
           "value": -0.27178402978535343
          },
          {
           "color_by": "Chaos",
           "sample_id": 0,
           "timepoint": 92,
           "trajectory": "Chaos",
           "value": -0.4963536748864169
          },
          {
           "color_by": "Chaos",
           "sample_id": 0,
           "timepoint": 93,
           "trajectory": "Chaos",
           "value": -0.537885957909514
          },
          {
           "color_by": "Chaos",
           "sample_id": 0,
           "timepoint": 94,
           "trajectory": "Chaos",
           "value": -0.39327617797473363
          },
          {
           "color_by": "Chaos",
           "sample_id": 0,
           "timepoint": 95,
           "trajectory": "Chaos",
           "value": -0.07099726952607444
          },
          {
           "color_by": "Chaos",
           "sample_id": 0,
           "timepoint": 96,
           "trajectory": "Chaos",
           "value": 0.409427082790356
          },
          {
           "color_by": "Chaos",
           "sample_id": 0,
           "timepoint": 97,
           "trajectory": "Chaos",
           "value": 1.0186364090614042
          },
          {
           "color_by": "Chaos",
           "sample_id": 0,
           "timepoint": 98,
           "trajectory": "Chaos",
           "value": 1.7192590204866702
          },
          {
           "color_by": "Chaos",
           "sample_id": 0,
           "timepoint": 99,
           "trajectory": "Chaos",
           "value": 2.468235672414378
          },
          {
           "color_by": "Granger 70/70",
           "sample_id": 0,
           "timepoint": 0,
           "trajectory": "Granger_70/70",
           "value": -0.4502776227112912
          },
          {
           "color_by": "Granger 70/70",
           "sample_id": 0,
           "timepoint": 1,
           "trajectory": "Granger_70/70",
           "value": 1.0137448765596664
          },
          {
           "color_by": "Granger 70/70",
           "sample_id": 0,
           "timepoint": 2,
           "trajectory": "Granger_70/70",
           "value": 1.6381238192851286
          },
          {
           "color_by": "Granger 70/70",
           "sample_id": 0,
           "timepoint": 3,
           "trajectory": "Granger_70/70",
           "value": 2.14425499688212
          },
          {
           "color_by": "Granger 70/70",
           "sample_id": 0,
           "timepoint": 4,
           "trajectory": "Granger_70/70",
           "value": 2.5421704619026433
          },
          {
           "color_by": "Granger 70/70",
           "sample_id": 0,
           "timepoint": 5,
           "trajectory": "Granger_70/70",
           "value": 2.8249546178124394
          },
          {
           "color_by": "Granger 70/70",
           "sample_id": 0,
           "timepoint": 6,
           "trajectory": "Granger_70/70",
           "value": 2.985674820952186
          },
          {
           "color_by": "Granger 70/70",
           "sample_id": 0,
           "timepoint": 7,
           "trajectory": "Granger_70/70",
           "value": 3.021829704507567
          },
          {
           "color_by": "Granger 70/70",
           "sample_id": 0,
           "timepoint": 8,
           "trajectory": "Granger_70/70",
           "value": 2.936962710930993
          },
          {
           "color_by": "Granger 70/70",
           "sample_id": 0,
           "timepoint": 9,
           "trajectory": "Granger_70/70",
           "value": 2.7411009600620435
          },
          {
           "color_by": "Granger 70/70",
           "sample_id": 0,
           "timepoint": 10,
           "trajectory": "Granger_70/70",
           "value": 2.450475901678693
          },
          {
           "color_by": "Granger 70/70",
           "sample_id": 0,
           "timepoint": 11,
           "trajectory": "Granger_70/70",
           "value": 2.086713113808919
          },
          {
           "color_by": "Granger 70/70",
           "sample_id": 0,
           "timepoint": 12,
           "trajectory": "Granger_70/70",
           "value": 1.675612010213716
          },
          {
           "color_by": "Granger 70/70",
           "sample_id": 0,
           "timepoint": 13,
           "trajectory": "Granger_70/70",
           "value": 1.245624164022922
          },
          {
           "color_by": "Granger 70/70",
           "sample_id": 0,
           "timepoint": 14,
           "trajectory": "Granger_70/70",
           "value": 0.8261416384885409
          },
          {
           "color_by": "Granger 70/70",
           "sample_id": 0,
           "timepoint": 15,
           "trajectory": "Granger_70/70",
           "value": 0.44571096818105654
          },
          {
           "color_by": "Granger 70/70",
           "sample_id": 0,
           "timepoint": 16,
           "trajectory": "Granger_70/70",
           "value": 0.13028921063512416
          },
          {
           "color_by": "Granger 70/70",
           "sample_id": 0,
           "timepoint": 17,
           "trajectory": "Granger_70/70",
           "value": -0.0983462113867461
          },
          {
           "color_by": "Granger 70/70",
           "sample_id": 0,
           "timepoint": 18,
           "trajectory": "Granger_70/70",
           "value": -0.22393290938437066
          },
          {
           "color_by": "Granger 70/70",
           "sample_id": 0,
           "timepoint": 19,
           "trajectory": "Granger_70/70",
           "value": -0.23671975370121262
          },
          {
           "color_by": "Granger 70/70",
           "sample_id": 0,
           "timepoint": 20,
           "trajectory": "Granger_70/70",
           "value": -0.13406103648826523
          },
          {
           "color_by": "Granger 70/70",
           "sample_id": 0,
           "timepoint": 21,
           "trajectory": "Granger_70/70",
           "value": 0.07942903179163224
          },
          {
           "color_by": "Granger 70/70",
           "sample_id": 0,
           "timepoint": 22,
           "trajectory": "Granger_70/70",
           "value": 0.3921715732788403
          },
          {
           "color_by": "Granger 70/70",
           "sample_id": 0,
           "timepoint": 23,
           "trajectory": "Granger_70/70",
           "value": 0.7863500316072336
          },
          {
           "color_by": "Granger 70/70",
           "sample_id": 0,
           "timepoint": 24,
           "trajectory": "Granger_70/70",
           "value": 1.2390239575404614
          },
          {
           "color_by": "Granger 70/70",
           "sample_id": 0,
           "timepoint": 25,
           "trajectory": "Granger_70/70",
           "value": 1.7235605382866102
          },
          {
           "color_by": "Granger 70/70",
           "sample_id": 0,
           "timepoint": 26,
           "trajectory": "Granger_70/70",
           "value": 2.211295016371918
          },
          {
           "color_by": "Granger 70/70",
           "sample_id": 0,
           "timepoint": 27,
           "trajectory": "Granger_70/70",
           "value": 2.673316879436414
          },
          {
           "color_by": "Granger 70/70",
           "sample_id": 0,
           "timepoint": 28,
           "trajectory": "Granger_70/70",
           "value": 3.0822708576647933
          },
          {
           "color_by": "Granger 70/70",
           "sample_id": 0,
           "timepoint": 29,
           "trajectory": "Granger_70/70",
           "value": 3.414060826120499
          },
          {
           "color_by": "Granger 70/70",
           "sample_id": 0,
           "timepoint": 30,
           "trajectory": "Granger_70/70",
           "value": 3.6493507317659284
          },
          {
           "color_by": "Granger 70/70",
           "sample_id": 0,
           "timepoint": 31,
           "trajectory": "Granger_70/70",
           "value": 3.7747692738197656
          },
          {
           "color_by": "Granger 70/70",
           "sample_id": 0,
           "timepoint": 32,
           "trajectory": "Granger_70/70",
           "value": 3.783743476544855
          },
          {
           "color_by": "Granger 70/70",
           "sample_id": 0,
           "timepoint": 33,
           "trajectory": "Granger_70/70",
           "value": 3.6769093603138656
          },
          {
           "color_by": "Granger 70/70",
           "sample_id": 0,
           "timepoint": 34,
           "trajectory": "Granger_70/70",
           "value": 3.4620742052554374
          },
          {
           "color_by": "Granger 70/70",
           "sample_id": 0,
           "timepoint": 35,
           "trajectory": "Granger_70/70",
           "value": 3.1537327771338695
          },
          {
           "color_by": "Granger 70/70",
           "sample_id": 0,
           "timepoint": 36,
           "trajectory": "Granger_70/70",
           "value": 2.7721676139688394
          },
          {
           "color_by": "Granger 70/70",
           "sample_id": 0,
           "timepoint": 37,
           "trajectory": "Granger_70/70",
           "value": 2.342189330033483
          },
          {
           "color_by": "Granger 70/70",
           "sample_id": 0,
           "timepoint": 38,
           "trajectory": "Granger_70/70",
           "value": 1.8915952734094381
          },
          {
           "color_by": "Granger 70/70",
           "sample_id": 0,
           "timepoint": 39,
           "trajectory": "Granger_70/70",
           "value": 1.4494423826698994
          },
          {
           "color_by": "Granger 70/70",
           "sample_id": 0,
           "timepoint": 40,
           "trajectory": "Granger_70/70",
           "value": 1.0442416387758158
          },
          {
           "color_by": "Granger 70/70",
           "sample_id": 0,
           "timepoint": 41,
           "trajectory": "Granger_70/70",
           "value": 0.7021863816874403
          },
          {
           "color_by": "Granger 70/70",
           "sample_id": 0,
           "timepoint": 42,
           "trajectory": "Granger_70/70",
           "value": 0.4455246544579315
          },
          {
           "color_by": "Granger 70/70",
           "sample_id": 0,
           "timepoint": 43,
           "trajectory": "Granger_70/70",
           "value": 0.29117678163454436
          },
          {
           "color_by": "Granger 70/70",
           "sample_id": 0,
           "timepoint": 44,
           "trajectory": "Granger_70/70",
           "value": 0.2496841404513242
          },
          {
           "color_by": "Granger 70/70",
           "sample_id": 0,
           "timepoint": 45,
           "trajectory": "Granger_70/70",
           "value": 0.32455449059774827
          },
          {
           "color_by": "Granger 70/70",
           "sample_id": 0,
           "timepoint": 46,
           "trajectory": "Granger_70/70",
           "value": 0.5120445716240039
          },
          {
           "color_by": "Granger 70/70",
           "sample_id": 0,
           "timepoint": 47,
           "trajectory": "Granger_70/70",
           "value": 0.801393489314516
          },
          {
           "color_by": "Granger 70/70",
           "sample_id": 0,
           "timepoint": 48,
           "trajectory": "Granger_70/70",
           "value": 1.1754923840144365
          },
          {
           "color_by": "Granger 70/70",
           "sample_id": 0,
           "timepoint": 49,
           "trajectory": "Granger_70/70",
           "value": 1.6119487475847063
          },
          {
           "color_by": "Granger 70/70",
           "sample_id": 0,
           "timepoint": 50,
           "trajectory": "Granger_70/70",
           "value": 2.084479217963144
          },
          {
           "color_by": "Granger 70/70",
           "sample_id": 0,
           "timepoint": 51,
           "trajectory": "Granger_70/70",
           "value": 2.5645442568493158
          },
          {
           "color_by": "Granger 70/70",
           "sample_id": 0,
           "timepoint": 52,
           "trajectory": "Granger_70/70",
           "value": 3.0231230766350112
          },
          {
           "color_by": "Granger 70/70",
           "sample_id": 0,
           "timepoint": 53,
           "trajectory": "Granger_70/70",
           "value": 3.432518462441425
          },
          {
           "color_by": "Granger 70/70",
           "sample_id": 0,
           "timepoint": 54,
           "trajectory": "Granger_70/70",
           "value": 3.7680792761775987
          },
          {
           "color_by": "Granger 70/70",
           "sample_id": 0,
           "timepoint": 55,
           "trajectory": "Granger_70/70",
           "value": 4.009733547478824
          },
          {
           "color_by": "Granger 70/70",
           "sample_id": 0,
           "timepoint": 56,
           "trajectory": "Granger_70/70",
           "value": 4.143236833006288
          },
          {
           "color_by": "Granger 70/70",
           "sample_id": 0,
           "timepoint": 57,
           "trajectory": "Granger_70/70",
           "value": 4.1610582286741105
          },
          {
           "color_by": "Granger 70/70",
           "sample_id": 0,
           "timepoint": 58,
           "trajectory": "Granger_70/70",
           "value": 4.062848948222725
          },
          {
           "color_by": "Granger 70/70",
           "sample_id": 0,
           "timepoint": 59,
           "trajectory": "Granger_70/70",
           "value": 3.8554643354412605
          },
          {
           "color_by": "Granger 70/70",
           "sample_id": 0,
           "timepoint": 60,
           "trajectory": "Granger_70/70",
           "value": 3.5525379425676653
          },
          {
           "color_by": "Granger 70/70",
           "sample_id": 0,
           "timepoint": 61,
           "trajectory": "Granger_70/70",
           "value": 3.1736341576550906
          },
          {
           "color_by": "Granger 70/70",
           "sample_id": 0,
           "timepoint": 62,
           "trajectory": "Granger_70/70",
           "value": 2.7430320673908435
          },
          {
           "color_by": "Granger 70/70",
           "sample_id": 0,
           "timepoint": 63,
           "trajectory": "Granger_70/70",
           "value": 2.288216169770024
          },
          {
           "color_by": "Granger 70/70",
           "sample_id": 0,
           "timepoint": 64,
           "trajectory": "Granger_70/70",
           "value": 1.8381677776119536
          },
          {
           "color_by": "Granger 70/70",
           "sample_id": 0,
           "timepoint": 65,
           "trajectory": "Granger_70/70",
           "value": 1.421563345922077
          },
          {
           "color_by": "Granger 70/70",
           "sample_id": 0,
           "timepoint": 66,
           "trajectory": "Granger_70/70",
           "value": 1.0649917430689162
          },
          {
           "color_by": "Granger 70/70",
           "sample_id": 0,
           "timepoint": 67,
           "trajectory": "Granger_70/70",
           "value": 0.7913013078587532
          },
          {
           "color_by": "Granger 70/70",
           "sample_id": 0,
           "timepoint": 68,
           "trajectory": "Granger_70/70",
           "value": 0.6181794650846502
          },
          {
           "color_by": "Granger 70/70",
           "sample_id": 0,
           "timepoint": 69,
           "trajectory": "Granger_70/70",
           "value": 0.5570532127235712
          },
          {
           "color_by": "Granger 70/70",
           "sample_id": 0,
           "timepoint": 70,
           "trajectory": "Granger_70/70",
           "value": 0.612378843670905
          },
          {
           "color_by": "Granger 70/70",
           "sample_id": 0,
           "timepoint": 71,
           "trajectory": "Granger_70/70",
           "value": 0.7813650641472814
          },
          {
           "color_by": "Granger 70/70",
           "sample_id": 0,
           "timepoint": 72,
           "trajectory": "Granger_70/70",
           "value": 1.0541467243735902
          },
          {
           "color_by": "Granger 70/70",
           "sample_id": 0,
           "timepoint": 73,
           "trajectory": "Granger_70/70",
           "value": 1.414398360191526
          },
          {
           "color_by": "Granger 70/70",
           "sample_id": 0,
           "timepoint": 74,
           "trajectory": "Granger_70/70",
           "value": 1.8403493989648056
          },
          {
           "color_by": "Granger 70/70",
           "sample_id": 0,
           "timepoint": 75,
           "trajectory": "Granger_70/70",
           "value": 2.3061379095311665
          },
          {
           "color_by": "Granger 70/70",
           "sample_id": 0,
           "timepoint": 76,
           "trajectory": "Granger_70/70",
           "value": 2.783418726922418
          },
          {
           "color_by": "Granger 70/70",
           "sample_id": 0,
           "timepoint": 77,
           "trajectory": "Granger_70/70",
           "value": 3.2431259667571855
          },
          {
           "color_by": "Granger 70/70",
           "sample_id": 0,
           "timepoint": 78,
           "trajectory": "Granger_70/70",
           "value": 3.6572803449889775
          },
          {
           "color_by": "Granger 70/70",
           "sample_id": 0,
           "timepoint": 79,
           "trajectory": "Granger_70/70",
           "value": 4.000728932893834
          },
          {
           "color_by": "Granger 70/70",
           "sample_id": 0,
           "timepoint": 80,
           "trajectory": "Granger_70/70",
           "value": 4.252709178014389
          },
          {
           "color_by": "Granger 70/70",
           "sample_id": 0,
           "timepoint": 81,
           "trajectory": "Granger_70/70",
           "value": 4.398139948053093
          },
          {
           "color_by": "Granger 70/70",
           "sample_id": 0,
           "timepoint": 82,
           "trajectory": "Granger_70/70",
           "value": 4.428559327083687
          },
          {
           "color_by": "Granger 70/70",
           "sample_id": 0,
           "timepoint": 83,
           "trajectory": "Granger_70/70",
           "value": 4.342650856666425
          },
          {
           "color_by": "Granger 70/70",
           "sample_id": 0,
           "timepoint": 84,
           "trajectory": "Granger_70/70",
           "value": 4.14632550294255
          },
          {
           "color_by": "Granger 70/70",
           "sample_id": 0,
           "timepoint": 85,
           "trajectory": "Granger_70/70",
           "value": 3.852354253578708
          },
          {
           "color_by": "Granger 70/70",
           "sample_id": 0,
           "timepoint": 86,
           "trajectory": "Granger_70/70",
           "value": 3.479574188080558
          },
          {
           "color_by": "Granger 70/70",
           "sample_id": 0,
           "timepoint": 87,
           "trajectory": "Granger_70/70",
           "value": 3.051717384344887
          },
          {
           "color_by": "Granger 70/70",
           "sample_id": 0,
           "timepoint": 88,
           "trajectory": "Granger_70/70",
           "value": 2.595935474525982
          },
          {
           "color_by": "Granger 70/70",
           "sample_id": 0,
           "timepoint": 89,
           "trajectory": "Granger_70/70",
           "value": 2.141111586334885
          },
          {
           "color_by": "Granger 70/70",
           "sample_id": 0,
           "timepoint": 90,
           "trajectory": "Granger_70/70",
           "value": 1.7160646252259346
          },
          {
           "color_by": "Granger 70/70",
           "sample_id": 0,
           "timepoint": 91,
           "trajectory": "Granger_70/70",
           "value": 1.3477575466395788
          },
          {
           "color_by": "Granger 70/70",
           "sample_id": 0,
           "timepoint": 92,
           "trajectory": "Granger_70/70",
           "value": 1.0596210193809417
          },
          {
           "color_by": "Granger 70/70",
           "sample_id": 0,
           "timepoint": 93,
           "trajectory": "Granger_70/70",
           "value": 0.8700967067450067
          },
          {
           "color_by": "Granger 70/70",
           "sample_id": 0,
           "timepoint": 94,
           "trajectory": "Granger_70/70",
           "value": 0.7914907372252624
          },
          {
           "color_by": "Granger 70/70",
           "sample_id": 0,
           "timepoint": 95,
           "trajectory": "Granger_70/70",
           "value": 0.8292086505508816
          },
          {
           "color_by": "Granger 70/70",
           "sample_id": 0,
           "timepoint": 96,
           "trajectory": "Granger_70/70",
           "value": 0.9814193865037237
          },
          {
           "color_by": "Granger 70/70",
           "sample_id": 0,
           "timepoint": 97,
           "trajectory": "Granger_70/70",
           "value": 1.2391692081593069
          },
          {
           "color_by": "Granger 70/70",
           "sample_id": 0,
           "timepoint": 98,
           "trajectory": "Granger_70/70",
           "value": 1.5869384764477734
          },
          {
           "color_by": "Granger 70/70",
           "sample_id": 0,
           "timepoint": 99,
           "trajectory": "Granger_70/70",
           "value": 2.0036066585762
          },
          {
           "color_by": "Mean",
           "sample_id": 0,
           "timepoint": 0,
           "trajectory": "Mean",
           "value": -0.19149553496319777
          },
          {
           "color_by": "Mean",
           "sample_id": 0,
           "timepoint": 1,
           "trajectory": "Mean",
           "value": 1.2818302789447111
          },
          {
           "color_by": "Mean",
           "sample_id": 0,
           "timepoint": 2,
           "trajectory": "Mean",
           "value": 1.9174705598571222
          },
          {
           "color_by": "Mean",
           "sample_id": 0,
           "timepoint": 3,
           "trajectory": "Mean",
           "value": 2.4385132699855046
          },
          {
           "color_by": "Mean",
           "sample_id": 0,
           "timepoint": 4,
           "trajectory": "Mean",
           "value": 2.8561756445396416
          },
          {
           "color_by": "Mean",
           "sample_id": 0,
           "timepoint": 5,
           "trajectory": "Mean",
           "value": 3.1640265788587216
          },
          {
           "color_by": "Mean",
           "sample_id": 0,
           "timepoint": 6,
           "trajectory": "Mean",
           "value": 3.35478982269363
          },
          {
           "color_by": "Mean",
           "sample_id": 0,
           "timepoint": 7,
           "trajectory": "Mean",
           "value": 3.4247446403998394
          },
          {
           "color_by": "Mean",
           "sample_id": 0,
           "timepoint": 8,
           "trajectory": "Mean",
           "value": 3.3753783088815594
          },
          {
           "color_by": "Mean",
           "sample_id": 0,
           "timepoint": 9,
           "trajectory": "Mean",
           "value": 3.213950251468408
          },
          {
           "color_by": "Mean",
           "sample_id": 0,
           "timepoint": 10,
           "trajectory": "Mean",
           "value": 2.9534166144350293
          },
          {
           "color_by": "Mean",
           "sample_id": 0,
           "timepoint": 11,
           "trajectory": "Mean",
           "value": 2.611888159341922
          },
          {
           "color_by": "Mean",
           "sample_id": 0,
           "timepoint": 12,
           "trajectory": "Mean",
           "value": 2.211721903919674
          },
          {
           "color_by": "Mean",
           "sample_id": 0,
           "timepoint": 13,
           "trajectory": "Mean",
           "value": 1.7783305173713395
          },
          {
           "color_by": "Mean",
           "sample_id": 0,
           "timepoint": 14,
           "trajectory": "Mean",
           "value": 1.3387936268298273
          },
          {
           "color_by": "Mean",
           "sample_id": 0,
           "timepoint": 15,
           "trajectory": "Mean",
           "value": 0.9203589820564054
          },
          {
           "color_by": "Mean",
           "sample_id": 0,
           "timepoint": 16,
           "trajectory": "Mean",
           "value": 0.5489238948202165
          },
          {
           "color_by": "Mean",
           "sample_id": 0,
           "timepoint": 17,
           "trajectory": "Mean",
           "value": 0.24758644194284787
          },
          {
           "color_by": "Mean",
           "sample_id": 0,
           "timepoint": 18,
           "trajectory": "Mean",
           "value": 0.035350789958822265
          },
          {
           "color_by": "Mean",
           "sample_id": 0,
           "timepoint": 19,
           "trajectory": "Mean",
           "value": -0.07393845307098021
          },
          {
           "color_by": "Mean",
           "sample_id": 0,
           "timepoint": 20,
           "trajectory": "Mean",
           "value": -0.07237139657600253
          },
          {
           "color_by": "Mean",
           "sample_id": 0,
           "timepoint": 21,
           "trajectory": "Mean",
           "value": 0.041587144031480255
          },
          {
           "color_by": "Mean",
           "sample_id": 0,
           "timepoint": 22,
           "trajectory": "Mean",
           "value": 0.2630182853993178
          },
          {
           "color_by": "Mean",
           "sample_id": 0,
           "timepoint": 23,
           "trajectory": "Mean",
           "value": 0.5808351839792504
          },
          {
           "color_by": "Mean",
           "sample_id": 0,
           "timepoint": 24,
           "trajectory": "Mean",
           "value": 0.9784186064876378
          },
          {
           "color_by": "Mean",
           "sample_id": 0,
           "timepoint": 25,
           "trajectory": "Mean",
           "value": 1.4345660404091363
          },
          {
           "color_by": "Mean",
           "sample_id": 0,
           "timepoint": 26,
           "trajectory": "Mean",
           "value": 1.9247005640565082
          },
          {
           "color_by": "Mean",
           "sample_id": 0,
           "timepoint": 27,
           "trajectory": "Mean",
           "value": 2.4222709051326436
          },
          {
           "color_by": "Mean",
           "sample_id": 0,
           "timepoint": 28,
           "trajectory": "Mean",
           "value": 2.900263230298588
          },
          {
           "color_by": "Mean",
           "sample_id": 0,
           "timepoint": 29,
           "trajectory": "Mean",
           "value": 3.3327388421258375
          },
          {
           "color_by": "Mean",
           "sample_id": 0,
           "timepoint": 30,
           "trajectory": "Mean",
           "value": 3.6963104740987385
          },
          {
           "color_by": "Mean",
           "sample_id": 0,
           "timepoint": 31,
           "trajectory": "Mean",
           "value": 3.9714733523277115
          },
          {
           "color_by": "Mean",
           "sample_id": 0,
           "timepoint": 32,
           "trajectory": "Mean",
           "value": 4.143715435936344
          },
          {
           "color_by": "Mean",
           "sample_id": 0,
           "timepoint": 33,
           "trajectory": "Mean",
           "value": 4.204343787770985
          },
          {
           "color_by": "Mean",
           "sample_id": 0,
           "timepoint": 34,
           "trajectory": "Mean",
           "value": 4.150980150276423
          },
          {
           "color_by": "Mean",
           "sample_id": 0,
           "timepoint": 35,
           "trajectory": "Mean",
           "value": 3.987697591718381
          },
          {
           "color_by": "Mean",
           "sample_id": 0,
           "timepoint": 36,
           "trajectory": "Mean",
           "value": 3.7247904775867253
          },
          {
           "color_by": "Mean",
           "sample_id": 0,
           "timepoint": 37,
           "trajectory": "Mean",
           "value": 3.378190852344841
          },
          {
           "color_by": "Mean",
           "sample_id": 0,
           "timepoint": 38,
           "trajectory": "Mean",
           "value": 2.9685644040664867
          },
          {
           "color_by": "Mean",
           "sample_id": 0,
           "timepoint": 39,
           "trajectory": "Mean",
           "value": 2.520137387529922
          },
          {
           "color_by": "Mean",
           "sample_id": 0,
           "timepoint": 40,
           "trajectory": "Mean",
           "value": 2.059321165712477
          },
          {
           "color_by": "Mean",
           "sample_id": 0,
           "timepoint": 41,
           "trajectory": "Mean",
           "value": 1.6132125268844981
          },
          {
           "color_by": "Mean",
           "sample_id": 0,
           "timepoint": 42,
           "trajectory": "Mean",
           "value": 1.2080549913592344
          },
          {
           "color_by": "Mean",
           "sample_id": 0,
           "timepoint": 43,
           "trajectory": "Mean",
           "value": 0.8677485374325226
          },
          {
           "color_by": "Mean",
           "sample_id": 0,
           "timepoint": 44,
           "trajectory": "Mean",
           "value": 0.6124924242372732
          },
          {
           "color_by": "Mean",
           "sample_id": 0,
           "timepoint": 45,
           "trajectory": "Mean",
           "value": 0.45763822646636154
          },
          {
           "color_by": "Mean",
           "sample_id": 0,
           "timepoint": 46,
           "trajectory": "Mean",
           "value": 0.4128182518531548
          },
          {
           "color_by": "Mean",
           "sample_id": 0,
           "timepoint": 47,
           "trajectory": "Mean",
           "value": 0.4813988655438258
          },
          {
           "color_by": "Mean",
           "sample_id": 0,
           "timepoint": 48,
           "trajectory": "Mean",
           "value": 0.6602897850284731
          },
          {
           "color_by": "Mean",
           "sample_id": 0,
           "timepoint": 49,
           "trajectory": "Mean",
           "value": 0.9401201839646497
          },
          {
           "color_by": "Mean",
           "sample_id": 0,
           "timepoint": 50,
           "trajectory": "Mean",
           "value": 1.305771602148141
          },
          {
           "color_by": "Mean",
           "sample_id": 0,
           "timepoint": 51,
           "trajectory": "Mean",
           "value": 1.7372373861686616
          },
          {
           "color_by": "Mean",
           "sample_id": 0,
           "timepoint": 52,
           "trajectory": "Mean",
           "value": 2.2107598327481646
          },
          {
           "color_by": "Mean",
           "sample_id": 0,
           "timepoint": 53,
           "trajectory": "Mean",
           "value": 2.7001804284796327
          },
          {
           "color_by": "Mean",
           "sample_id": 0,
           "timepoint": 54,
           "trajectory": "Mean",
           "value": 3.1784264721243214
          },
          {
           "color_by": "Mean",
           "sample_id": 0,
           "timepoint": 55,
           "trajectory": "Mean",
           "value": 3.619049616689489
          },
          {
           "color_by": "Mean",
           "sample_id": 0,
           "timepoint": 56,
           "trajectory": "Mean",
           "value": 3.997728918459809
          },
          {
           "color_by": "Mean",
           "sample_id": 0,
           "timepoint": 57,
           "trajectory": "Mean",
           "value": 4.293652996602431
          },
          {
           "color_by": "Mean",
           "sample_id": 0,
           "timepoint": 58,
           "trajectory": "Mean",
           "value": 4.490702775338597
          },
          {
           "color_by": "Mean",
           "sample_id": 0,
           "timepoint": 59,
           "trajectory": "Mean",
           "value": 4.578367610736053
          },
          {
           "color_by": "Mean",
           "sample_id": 0,
           "timepoint": 60,
           "trajectory": "Mean",
           "value": 4.552342752191825
          },
          {
           "color_by": "Mean",
           "sample_id": 0,
           "timepoint": 61,
           "trajectory": "Mean",
           "value": 4.414774193987732
          },
          {
           "color_by": "Mean",
           "sample_id": 0,
           "timepoint": 62,
           "trajectory": "Mean",
           "value": 4.174137006232316
          },
          {
           "color_by": "Mean",
           "sample_id": 0,
           "timepoint": 63,
           "trajectory": "Mean",
           "value": 3.8447540587965134
          },
          {
           "color_by": "Mean",
           "sample_id": 0,
           "timepoint": 64,
           "trajectory": "Mean",
           "value": 3.445982483345122
          },
          {
           "color_by": "Mean",
           "sample_id": 0,
           "timepoint": 65,
           "trajectory": "Mean",
           "value": 3.0011140964179606
          },
          {
           "color_by": "Mean",
           "sample_id": 0,
           "timepoint": 66,
           "trajectory": "Mean",
           "value": 2.5360522581521807
          },
          {
           "color_by": "Mean",
           "sample_id": 0,
           "timepoint": 67,
           "trajectory": "Mean",
           "value": 2.0778403433010553
          },
          {
           "color_by": "Mean",
           "sample_id": 0,
           "timepoint": 68,
           "trajectory": "Mean",
           "value": 1.6531254320091846
          },
          {
           "color_by": "Mean",
           "sample_id": 0,
           "timepoint": 69,
           "trajectory": "Mean",
           "value": 1.2866445083414073
          },
          {
           "color_by": "Mean",
           "sample_id": 0,
           "timepoint": 70,
           "trajectory": "Mean",
           "value": 0.999819175717621
          },
          {
           "color_by": "Mean",
           "sample_id": 0,
           "timepoint": 71,
           "trajectory": "Mean",
           "value": 0.8095387328371905
          },
          {
           "color_by": "Mean",
           "sample_id": 0,
           "timepoint": 72,
           "trajectory": "Mean",
           "value": 0.727200751689444
          },
          {
           "color_by": "Mean",
           "sample_id": 0,
           "timepoint": 73,
           "trajectory": "Mean",
           "value": 0.7580636688885903
          },
          {
           "color_by": "Mean",
           "sample_id": 0,
           "timepoint": 74,
           "trajectory": "Mean",
           "value": 0.900948174085589
          },
          {
           "color_by": "Mean",
           "sample_id": 0,
           "timepoint": 75,
           "trajectory": "Mean",
           "value": 1.1483043618070332
          },
          {
           "color_by": "Mean",
           "sample_id": 0,
           "timepoint": 76,
           "trajectory": "Mean",
           "value": 1.4866408317042874
          },
          {
           "color_by": "Mean",
           "sample_id": 0,
           "timepoint": 77,
           "trajectory": "Mean",
           "value": 1.8972913575865147
          },
          {
           "color_by": "Mean",
           "sample_id": 0,
           "timepoint": 78,
           "trajectory": "Mean",
           "value": 2.357475566164445
          },
          {
           "color_by": "Mean",
           "sample_id": 0,
           "timepoint": 79,
           "trajectory": "Mean",
           "value": 2.841593361854505
          },
          {
           "color_by": "Mean",
           "sample_id": 0,
           "timepoint": 80,
           "trajectory": "Mean",
           "value": 3.3226795533777436
          },
          {
           "color_by": "Mean",
           "sample_id": 0,
           "timepoint": 81,
           "trajectory": "Mean",
           "value": 3.7739360357913165
          },
          {
           "color_by": "Mean",
           "sample_id": 0,
           "timepoint": 82,
           "trajectory": "Mean",
           "value": 4.170254475159758
          },
          {
           "color_by": "Mean",
           "sample_id": 0,
           "timepoint": 83,
           "trajectory": "Mean",
           "value": 4.489642982666245
          },
          {
           "color_by": "Mean",
           "sample_id": 0,
           "timepoint": 84,
           "trajectory": "Mean",
           "value": 4.714475719922663
          },
          {
           "color_by": "Mean",
           "sample_id": 0,
           "timepoint": 85,
           "trajectory": "Mean",
           "value": 4.832494437630619
          },
          {
           "color_by": "Mean",
           "sample_id": 0,
           "timepoint": 86,
           "trajectory": "Mean",
           "value": 4.837505043978651
          },
          {
           "color_by": "Mean",
           "sample_id": 0,
           "timepoint": 87,
           "trajectory": "Mean",
           "value": 4.729729626450707
          },
          {
           "color_by": "Mean",
           "sample_id": 0,
           "timepoint": 88,
           "trajectory": "Mean",
           "value": 4.515793926594006
          },
          {
           "color_by": "Mean",
           "sample_id": 0,
           "timepoint": 89,
           "trajectory": "Mean",
           "value": 4.208350979520811
          },
          {
           "color_by": "Mean",
           "sample_id": 0,
           "timepoint": 90,
           "trajectory": "Mean",
           "value": 3.825362301705165
          },
          {
           "color_by": "Mean",
           "sample_id": 0,
           "timepoint": 91,
           "trajectory": "Mean",
           "value": 3.3890774674866444
          },
          {
           "color_by": "Mean",
           "sample_id": 0,
           "timepoint": 92,
           "trajectory": "Mean",
           "value": 2.9247700511412495
          },
          {
           "color_by": "Mean",
           "sample_id": 0,
           "timepoint": 93,
           "trajectory": "Mean",
           "value": 2.4593017537941133
          },
          {
           "color_by": "Mean",
           "sample_id": 0,
           "timepoint": 94,
           "trajectory": "Mean",
           "value": 2.0195962963541616
          },
          {
           "color_by": "Mean",
           "sample_id": 0,
           "timepoint": 95,
           "trajectory": "Mean",
           "value": 1.6311097864113269
          },
          {
           "color_by": "Mean",
           "sample_id": 0,
           "timepoint": 96,
           "trajectory": "Mean",
           "value": 1.3163844673684477
          },
          {
           "color_by": "Mean",
           "sample_id": 0,
           "timepoint": 97,
           "trajectory": "Mean",
           "value": 1.0937680206005258
          },
          {
           "color_by": "Mean",
           "sample_id": 0,
           "timepoint": 98,
           "trajectory": "Mean",
           "value": 0.9763711853098128
          },
          {
           "color_by": "Mean",
           "sample_id": 0,
           "timepoint": 99,
           "trajectory": "Mean",
           "value": 0.971322920397908
          },
          {
           "color_by": "Variance",
           "sample_id": 0,
           "timepoint": 0,
           "trajectory": "Variance",
           "value": -3.072279402747318
          },
          {
           "color_by": "Variance",
           "sample_id": 0,
           "timepoint": 1,
           "trajectory": "Variance",
           "value": -1.9048050035866946
          },
          {
           "color_by": "Variance",
           "sample_id": 0,
           "timepoint": 2,
           "trajectory": "Variance",
           "value": -1.3729574897569015
          },
          {
           "color_by": "Variance",
           "sample_id": 0,
           "timepoint": 3,
           "trajectory": "Variance",
           "value": -0.7495879137608737
          },
          {
           "color_by": "Variance",
           "sample_id": 0,
           "timepoint": 4,
           "trajectory": "Variance",
           "value": -0.031953538824105746
          },
          {
           "color_by": "Variance",
           "sample_id": 0,
           "timepoint": 5,
           "trajectory": "Variance",
           "value": 0.7531514652339253
          },
          {
           "color_by": "Variance",
           "sample_id": 0,
           "timepoint": 6,
           "trajectory": "Variance",
           "value": 1.5675625773675315
          },
          {
           "color_by": "Variance",
           "sample_id": 0,
           "timepoint": 7,
           "trajectory": "Variance",
           "value": 2.3681350961416228
          },
          {
           "color_by": "Variance",
           "sample_id": 0,
           "timepoint": 8,
           "trajectory": "Variance",
           "value": 3.1108846778473587
          },
          {
           "color_by": "Variance",
           "sample_id": 0,
           "timepoint": 9,
           "trajectory": "Variance",
           "value": 3.754381252169006
          },
          {
           "color_by": "Variance",
           "sample_id": 0,
           "timepoint": 10,
           "trajectory": "Variance",
           "value": 4.26266903359017
          },
          {
           "color_by": "Variance",
           "sample_id": 0,
           "timepoint": 11,
           "trajectory": "Variance",
           "value": 4.607701069231238
          },
          {
           "color_by": "Variance",
           "sample_id": 0,
           "timepoint": 12,
           "trajectory": "Variance",
           "value": 4.771207343719241
          },
          {
           "color_by": "Variance",
           "sample_id": 0,
           "timepoint": 13,
           "trajectory": "Variance",
           "value": 4.745913126480411
          },
          {
           "color_by": "Variance",
           "sample_id": 0,
           "timepoint": 14,
           "trajectory": "Variance",
           "value": 4.536048591020257
          },
          {
           "color_by": "Variance",
           "sample_id": 0,
           "timepoint": 15,
           "trajectory": "Variance",
           "value": 4.157127240554681
          },
          {
           "color_by": "Variance",
           "sample_id": 0,
           "timepoint": 16,
           "trajectory": "Variance",
           "value": 3.635012290420843
          },
          {
           "color_by": "Variance",
           "sample_id": 0,
           "timepoint": 17,
           "trajectory": "Variance",
           "value": 3.004332344994159
          },
          {
           "color_by": "Variance",
           "sample_id": 0,
           "timepoint": 18,
           "trajectory": "Variance",
           "value": 2.3063469739691187
          },
          {
           "color_by": "Variance",
           "sample_id": 0,
           "timepoint": 19,
           "trajectory": "Variance",
           "value": 1.5863962841231856
          },
          {
           "color_by": "Variance",
           "sample_id": 0,
           "timepoint": 20,
           "trajectory": "Variance",
           "value": 0.8910940061279405
          },
          {
           "color_by": "Variance",
           "sample_id": 0,
           "timepoint": 21,
           "trajectory": "Variance",
           "value": 0.2654392793413169
          },
          {
           "color_by": "Variance",
           "sample_id": 0,
           "timepoint": 22,
           "trajectory": "Variance",
           "value": -0.24997281507085317
          },
          {
           "color_by": "Variance",
           "sample_id": 0,
           "timepoint": 23,
           "trajectory": "Variance",
           "value": -0.6214681893162678
          },
          {
           "color_by": "Variance",
           "sample_id": 0,
           "timepoint": 24,
           "trajectory": "Variance",
           "value": -0.8243814022027777
          },
          {
           "color_by": "Variance",
           "sample_id": 0,
           "timepoint": 25,
           "trajectory": "Variance",
           "value": -0.8445840335151918
          },
          {
           "color_by": "Variance",
           "sample_id": 0,
           "timepoint": 26,
           "trajectory": "Variance",
           "value": -0.6793586011861167
          },
          {
           "color_by": "Variance",
           "sample_id": 0,
           "timepoint": 27,
           "trajectory": "Variance",
           "value": -0.3375635671575768
          },
          {
           "color_by": "Variance",
           "sample_id": 0,
           "timepoint": 28,
           "trajectory": "Variance",
           "value": 0.1609209206753927
          },
          {
           "color_by": "Variance",
           "sample_id": 0,
           "timepoint": 29,
           "trajectory": "Variance",
           "value": 0.7864321639230006
          },
          {
           "color_by": "Variance",
           "sample_id": 0,
           "timepoint": 30,
           "trajectory": "Variance",
           "value": 1.5013719432969572
          },
          {
           "color_by": "Variance",
           "sample_id": 0,
           "timepoint": 31,
           "trajectory": "Variance",
           "value": 2.262546652013917
          },
          {
           "color_by": "Variance",
           "sample_id": 0,
           "timepoint": 32,
           "trajectory": "Variance",
           "value": 3.0238550751285653
          },
          {
           "color_by": "Variance",
           "sample_id": 0,
           "timepoint": 33,
           "trajectory": "Variance",
           "value": 3.7391567350613264
          },
          {
           "color_by": "Variance",
           "sample_id": 0,
           "timepoint": 34,
           "trajectory": "Variance",
           "value": 4.365142491328901
          },
          {
           "color_by": "Variance",
           "sample_id": 0,
           "timepoint": 35,
           "trajectory": "Variance",
           "value": 4.86402893787924
          },
          {
           "color_by": "Variance",
           "sample_id": 0,
           "timepoint": 36,
           "trajectory": "Variance",
           "value": 5.205909093229593
          },
          {
           "color_by": "Variance",
           "sample_id": 0,
           "timepoint": 37,
           "trajectory": "Variance",
           "value": 5.37061324569827
          },
          {
           "color_by": "Variance",
           "sample_id": 0,
           "timepoint": 38,
           "trajectory": "Variance",
           "value": 5.348964269768878
          },
          {
           "color_by": "Variance",
           "sample_id": 0,
           "timepoint": 39,
           "trajectory": "Variance",
           "value": 5.143349376458754
          },
          {
           "color_by": "Variance",
           "sample_id": 0,
           "timepoint": 40,
           "trajectory": "Variance",
           "value": 4.767572759701857
          },
          {
           "color_by": "Variance",
           "sample_id": 0,
           "timepoint": 41,
           "trajectory": "Variance",
           "value": 4.245998309746496
          },
          {
           "color_by": "Variance",
           "sample_id": 0,
           "timepoint": 42,
           "trajectory": "Variance",
           "value": 3.6120357035712174
          },
          {
           "color_by": "Variance",
           "sample_id": 0,
           "timepoint": 43,
           "trajectory": "Variance",
           "value": 2.9060640069490127
          },
          {
           "color_by": "Variance",
           "sample_id": 0,
           "timepoint": 44,
           "trajectory": "Variance",
           "value": 2.172921894731168
          },
          {
           "color_by": "Variance",
           "sample_id": 0,
           "timepoint": 45,
           "trajectory": "Variance",
           "value": 1.4591205407663188
          },
          {
           "color_by": "Variance",
           "sample_id": 0,
           "timepoint": 46,
           "trajectory": "Variance",
           "value": 0.8099524712969707
          },
          {
           "color_by": "Variance",
           "sample_id": 0,
           "timepoint": 47,
           "trajectory": "Variance",
           "value": 0.2666761436174658
          },
          {
           "color_by": "Variance",
           "sample_id": 0,
           "timepoint": 48,
           "trajectory": "Variance",
           "value": -0.136048696924775
          },
          {
           "color_by": "Variance",
           "sample_id": 0,
           "timepoint": 49,
           "trajectory": "Variance",
           "value": -0.3723154210960709
          },
          {
           "color_by": "Variance",
           "sample_id": 0,
           "timepoint": 50,
           "trajectory": "Variance",
           "value": -0.4265807276441587
          },
          {
           "color_by": "Variance",
           "sample_id": 0,
           "timepoint": 51,
           "trajectory": "Variance",
           "value": -0.29463054495406166
          },
          {
           "color_by": "Variance",
           "sample_id": 0,
           "timepoint": 52,
           "trajectory": "Variance",
           "value": 0.01615843505737706
          },
          {
           "color_by": "Variance",
           "sample_id": 0,
           "timepoint": 53,
           "trajectory": "Variance",
           "value": 0.48727785394005835
          },
          {
           "color_by": "Variance",
           "sample_id": 0,
           "timepoint": 54,
           "trajectory": "Variance",
           "value": 1.0902388721818361
          },
          {
           "color_by": "Variance",
           "sample_id": 0,
           "timepoint": 55,
           "trajectory": "Variance",
           "value": 1.7883438698336889
          },
          {
           "color_by": "Variance",
           "sample_id": 0,
           "timepoint": 56,
           "trajectory": "Variance",
           "value": 2.5389685081754862
          },
          {
           "color_by": "Variance",
           "sample_id": 0,
           "timepoint": 57,
           "trajectory": "Variance",
           "value": 3.2962122663820517
          },
          {
           "color_by": "Variance",
           "sample_id": 0,
           "timepoint": 58,
           "trajectory": "Variance",
           "value": 4.013752657025172
          },
          {
           "color_by": "Variance",
           "sample_id": 0,
           "timepoint": 59,
           "trajectory": "Variance",
           "value": 4.647725660364642
          },
          {
           "color_by": "Variance",
           "sample_id": 0,
           "timepoint": 60,
           "trajectory": "Variance",
           "value": 5.159453287117405
          },
          {
           "color_by": "Variance",
           "sample_id": 0,
           "timepoint": 61,
           "trajectory": "Variance",
           "value": 5.517848684108864
          },
          {
           "color_by": "Variance",
           "sample_id": 0,
           "timepoint": 62,
           "trajectory": "Variance",
           "value": 5.701349245946088
          },
          {
           "color_by": "Variance",
           "sample_id": 0,
           "timepoint": 63,
           "trajectory": "Variance",
           "value": 5.699257542074367
          },
          {
           "color_by": "Variance",
           "sample_id": 0,
           "timepoint": 64,
           "trajectory": "Variance",
           "value": 5.512406687679703
          },
          {
           "color_by": "Variance",
           "sample_id": 0,
           "timepoint": 65,
           "trajectory": "Variance",
           "value": 5.153108789645968
          },
          {
           "color_by": "Variance",
           "sample_id": 0,
           "timepoint": 66,
           "trajectory": "Variance",
           "value": 4.644389673638632
          },
          {
           "color_by": "Variance",
           "sample_id": 0,
           "timepoint": 67,
           "trajectory": "Variance",
           "value": 4.018557473917397
          },
          {
           "color_by": "Variance",
           "sample_id": 0,
           "timepoint": 68,
           "trajectory": "Variance",
           "value": 3.315194084621708
          },
          {
           "color_by": "Variance",
           "sample_id": 0,
           "timepoint": 69,
           "trajectory": "Variance",
           "value": 2.5786943549080426
          },
          {
           "color_by": "Variance",
           "sample_id": 0,
           "timepoint": 70,
           "trajectory": "Variance",
           "value": 1.8555060293752965
          },
          {
           "color_by": "Variance",
           "sample_id": 0,
           "timepoint": 71,
           "trajectory": "Variance",
           "value": 1.1912420413869595
          },
          {
           "color_by": "Variance",
           "sample_id": 0,
           "timepoint": 72,
           "trajectory": "Variance",
           "value": 0.6278447033444582
          },
          {
           "color_by": "Variance",
           "sample_id": 0,
           "timepoint": 73,
           "trajectory": "Variance",
           "value": 0.20097811123468018
          },
          {
           "color_by": "Variance",
           "sample_id": 0,
           "timepoint": 74,
           "trajectory": "Variance",
           "value": -0.06218910851129651
          },
          {
           "color_by": "Variance",
           "sample_id": 0,
           "timepoint": 75,
           "trajectory": "Variance",
           "value": -0.14467285143105008
          },
          {
           "color_by": "Variance",
           "sample_id": 0,
           "timepoint": 76,
           "trajectory": "Variance",
           "value": -0.040729369284509945
          },
          {
           "color_by": "Variance",
           "sample_id": 0,
           "timepoint": 77,
           "trajectory": "Variance",
           "value": 0.24378776082246784
          },
          {
           "color_by": "Variance",
           "sample_id": 0,
           "timepoint": 78,
           "trajectory": "Variance",
           "value": 0.6917917273467581
          },
          {
           "color_by": "Variance",
           "sample_id": 0,
           "timepoint": 79,
           "trajectory": "Variance",
           "value": 1.276024998112191
          },
          {
           "color_by": "Variance",
           "sample_id": 0,
           "timepoint": 80,
           "trajectory": "Variance",
           "value": 1.9607541953027883
          },
          {
           "color_by": "Variance",
           "sample_id": 0,
           "timepoint": 81,
           "trajectory": "Variance",
           "value": 2.703991952766772
          },
          {
           "color_by": "Variance",
           "sample_id": 0,
           "timepoint": 82,
           "trajectory": "Variance",
           "value": 3.4601076115308698
          },
          {
           "color_by": "Variance",
           "sample_id": 0,
           "timepoint": 83,
           "trajectory": "Variance",
           "value": 4.182664433334317
          },
          {
           "color_by": "Variance",
           "sample_id": 0,
           "timepoint": 84,
           "trajectory": "Variance",
           "value": 4.827306928186083
          },
          {
           "color_by": "Variance",
           "sample_id": 0,
           "timepoint": 85,
           "trajectory": "Variance",
           "value": 5.354518776089959
          },
          {
           "color_by": "Variance",
           "sample_id": 0,
           "timepoint": 86,
           "trajectory": "Variance",
           "value": 5.732079868899197
          },
          {
           "color_by": "Variance",
           "sample_id": 0,
           "timepoint": 87,
           "trajectory": "Variance",
           "value": 5.937069705505367
          },
          {
           "color_by": "Variance",
           "sample_id": 0,
           "timepoint": 88,
           "trajectory": "Variance",
           "value": 5.957292579109195
          },
          {
           "color_by": "Variance",
           "sample_id": 0,
           "timepoint": 89,
           "trajectory": "Variance",
           "value": 5.7920359454801975
          },
          {
           "color_by": "Variance",
           "sample_id": 0,
           "timepoint": 90,
           "trajectory": "Variance",
           "value": 5.452114820680247
          },
          {
           "color_by": "Variance",
           "sample_id": 0,
           "timepoint": 91,
           "trajectory": "Variance",
           "value": 4.959199447948387
          },
          {
           "color_by": "Variance",
           "sample_id": 0,
           "timepoint": 92,
           "trajectory": "Variance",
           "value": 4.344468036289244
          },
          {
           "color_by": "Variance",
           "sample_id": 0,
           "timepoint": 93,
           "trajectory": "Variance",
           "value": 3.646668337073207
          },
          {
           "color_by": "Variance",
           "sample_id": 0,
           "timepoint": 94,
           "trajectory": "Variance",
           "value": 2.909708580539489
          },
          {
           "color_by": "Variance",
           "sample_id": 0,
           "timepoint": 95,
           "trajectory": "Variance",
           "value": 2.1799275562090425
          },
          {
           "color_by": "Variance",
           "sample_id": 0,
           "timepoint": 96,
           "trajectory": "Variance",
           "value": 1.5032135704864875
          },
          {
           "color_by": "Variance",
           "sample_id": 0,
           "timepoint": 97,
           "trajectory": "Variance",
           "value": 0.9221514108094729
          },
          {
           "color_by": "Variance",
           "sample_id": 0,
           "timepoint": 98,
           "trajectory": "Variance",
           "value": 0.47337470438759505
          },
          {
           "color_by": "Variance",
           "sample_id": 0,
           "timepoint": 99,
           "trajectory": "Variance",
           "value": 0.18528828912768652
          }
         ]
        },
        {
         "name": "points",
         "values": []
        },
        {
         "name": "markers",
         "values": []
        },
        {
         "name": "selected",
         "on": [
          {
           "remove": true,
           "trigger": "clear"
          },
          {
           "remove": true,
           "trigger": "!shift"
          },
          {
           "insert": "clicked",
           "trigger": "!shift && clicked"
          },
          {
           "toggle": "clicked",
           "trigger": "shift && clicked"
          }
         ]
        },
        {
         "name": "selectedData",
         "on": [
          {
           "remove": true,
           "trigger": "clearData"
          },
          {
           "toggle": "clickedData",
           "trigger": "clickedData"
          }
         ]
        }
       ],
       "height": 300,
       "legends": [
        {
         "encode": {
          "labels": {
           "interactive": true,
           "name": "legendLabel",
           "update": {
            "opacity": [
             {
              "test": "!length(data('selectedData')) || indata('selectedData', 'value', datum.value)",
              "value": 1
             },
             {
              "value": 0.25
             }
            ]
           }
          },
          "symbols": {
           "interactive": true,
           "name": "legendSymbol",
           "update": {
            "fill": {
             "value": "transparent"
            },
            "opacity": [
             {
              "test": "!length(data('selected')) || indata('selected', 'value', datum.value) || indata('selectedData', 'value', datum.value)",
              "value": 0.7
             },
             {
              "value": 0.15
             }
            ],
            "size": {
             "value": 64
            },
            "strokeWidth": {
             "value": 2
            }
           }
          }
         },
         "name": "color_legend",
         "orient": "left",
         "stroke": "color"
        }
       ],
       "marks": [
        {
         "from": {
          "facet": {
           "data": "points",
           "groupby": "trajectory",
           "name": "points_split"
          }
         },
         "marks": [
          {
           "encode": {
            "hover": {
             "fillOpacity": {
              "value": 0.9
             }
            },
            "update": {
             "fill": {
              "field": "trajectory",
              "scale": "color"
             },
             "fillOpacity": [
              {
               "test": "!length(data('selected')) || indata('selected', 'value', datum.trajectory)",
               "value": 0.5
              },
              {
               "value": 0.15
              }
             ],
             "size": {
              "value": 35
             },
             "stroke": {
              "field": "trajectory",
              "scale": "color"
             },
             "strokeOpacity": [
              {
               "test": "!length(data('selected')) || indata('selected', 'value', datum.trajectory)",
               "value": 0.75
              },
              {
               "value": 0.15
              }
             ],
             "strokeWidth": {
              "value": 2
             },
             "tooltip": {
              "field": "value"
             },
             "x": {
              "field": "timepoint",
              "scale": "xscale"
             },
             "y": {
              "field": "value",
              "scale": "yscale"
             }
            }
           },
           "from": {
            "data": "points_split"
           },
           "name": "_points_symbol",
           "type": "symbol",
           "zindex": 3
          },
          {
           "encode": {
            "hover": {
             "fillOpacity": {
              "value": 0.9
             }
            },
            "update": {
             "interpolate": {
              "value": "linear"
             },
             "stroke": {
              "field": "trajectory",
              "scale": "color"
             },
             "strokeDash": {
              "value": [
               5,
               3
              ]
             },
             "strokeOpacity": [
              {
               "test": "!length(data('selected')) || indata('selected', 'value', datum.trajectory)",
               "value": 0.3
              },
              {
               "value": 0.1
              }
             ],
             "strokeWidth": {
              "value": 2
             },
             "x": {
              "field": "timepoint",
              "scale": "xscale"
             },
             "y": {
              "field": "value",
              "scale": "yscale"
             }
            }
           },
           "from": {
            "data": "points_split"
           },
           "name": "_points_line",
           "type": "line",
           "zindex": 3
          }
         ],
         "name": "_points",
         "type": "group",
         "zindex": 3
        },
        {
         "from": {
          "facet": {
           "data": "traces",
           "groupby": "trajectory",
           "name": "traces_split"
          }
         },
         "marks": [
          {
           "encode": {
            "hover": {
             "fillOpacity": {
              "value": 0.9
             }
            },
            "update": {
             "interpolate": {
              "value": "linear"
             },
             "stroke": {
              "field": "trajectory",
              "scale": "color"
             },
             "strokeDash": [
              {
               "test": "indexof(datum.trajectory, 'aseline') == -1",
               "value": [
                1,
                0
               ]
              },
              {
               "value": [
                8,
                4
               ]
              }
             ],
             "strokeOpacity": [
              {
               "test": "!length(data('selected')) || indata('selected', 'value', datum.trajectory)",
               "value": 0.75
              },
              {
               "value": 0.15
              }
             ],
             "strokeWidth": {
              "value": 2
             },
             "x": {
              "field": "timepoint",
              "scale": "xscale"
             },
             "y": {
              "field": "value",
              "scale": "yscale"
             }
            }
           },
           "from": {
            "data": "traces_split"
           },
           "name": "_traces_lines",
           "type": "line"
          }
         ],
         "name": "_traces",
         "type": "group",
         "zindex": 2
        },
        {
         "from": {
          "facet": {
           "data": "distributions",
           "groupby": "trajectory",
           "name": "trajectory_split"
          }
         },
         "marks": [
          {
           "encode": {
            "hover": {
             "fillOpacity": {
              "value": 0.9
             }
            },
            "update": {
             "fill": {
              "field": "trajectory",
              "scale": "color"
             },
             "fillOpacity": [
              {
               "test": "!length(data('selected')) || indata('selected', 'value', datum.trajectory)",
               "value": 0.1
              },
              {
               "value": 0.05
              }
             ],
             "interpolate": {
              "value": "linear"
             },
             "stroke": {
              "field": "trajectory",
              "scale": "color"
             },
             "strokeOpacity": [
              {
               "test": "!length(data('selected')) || indata('selected', 'value', datum.trajectory)",
               "value": 0.1
              },
              {
               "value": 0.05
              }
             ],
             "strokeWidth": {
              "value": 2
             },
             "x": {
              "field": "timepoint",
              "scale": "xscale"
             },
             "y": {
              "field": "upper",
              "scale": "yscale"
             },
             "y2": {
              "field": "lower",
              "scale": "yscale"
             }
            }
           },
           "from": {
            "data": "trajectory_split"
           },
           "interactive": true,
           "name": "area",
           "type": "area"
          }
         ],
         "name": "_distributions",
         "type": "group",
         "zindex": 1
        },
        {
         "marks": [
          {
           "encode": {
            "enter": {
             "stroke": {
              "value": "lightgray"
             }
            },
            "update": {
             "opacity": {
              "value": 1
             },
             "x": {
              "field": "timepoint",
              "scale": "xscale"
             },
             "y": {
              "signal": "height"
             },
             "y2": {
              "value": 0
             }
            }
           },
           "from": {
            "data": "markers"
           },
           "name": "_marker text",
           "type": "rule"
          },
          {
           "encode": {
            "enter": {
             "fontSize": {
              "value": 8
             },
             "text": {
              "field": "datum.label"
             },
             "y": {
              "value": 0
             }
            }
           },
           "from": {
            "data": "_marker text"
           },
           "name": "_marker flags",
           "transform": [
            {
             "as": [
              "x",
              "_y",
              "opacity",
              "align",
              "baseline"
             ],
             "lineAnchor": "start",
             "offset": [
              1
             ],
             "size": {
              "signal": "[width, height]"
             },
             "type": "label"
            }
           ],
           "type": "text"
          }
         ],
         "name": "_markers",
         "type": "group"
        }
       ],
       "scales": [
        {
         "domain": {
          "fields": [
           {
            "data": "distributions",
            "field": "timepoint"
           },
           {
            "data": "traces",
            "field": "timepoint"
           },
           {
            "data": "points",
            "field": "timepoint"
           },
           {
            "data": "markers",
            "field": "timepoint"
           }
          ]
         },
         "name": "xscale",
         "range": "width",
         "type": "linear",
         "zero": false
        },
        {
         "domain": {
          "fields": [
           {
            "data": "distributions",
            "field": "lower"
           },
           {
            "data": "distributions",
            "field": "upper"
           },
           {
            "data": "traces",
            "field": "value"
           },
           {
            "data": "points",
            "field": "value"
           }
          ]
         },
         "name": "yscale",
         "nice": true,
         "range": "height",
         "type": "linear",
         "zero": true
        },
        {
         "domain": {
          "fields": [
           {
            "data": "distributions",
            "field": "trajectory"
           },
           {
            "data": "traces",
            "field": "trajectory"
           },
           {
            "data": "points",
            "field": "trajectory"
           }
          ],
          "sort": {
           "order": "ascending"
          }
         },
         "name": "color",
         "range": "category",
         "type": "ordinal"
        }
       ],
       "signals": [
        {
         "name": "clear",
         "on": [
          {
           "events": "mouseup[!event.item]",
           "force": true,
           "update": "true"
          }
         ],
         "value": true
        },
        {
         "name": "shift",
         "on": [
          {
           "events": "@legendSymbol:click, @legendLabel:click",
           "force": true,
           "update": "event.shiftKey"
          }
         ],
         "value": false
        },
        {
         "name": "clicked",
         "on": [
          {
           "events": "@legendSymbol:click, @legendLabel:click",
           "force": true,
           "update": "{value: datum.value}"
          }
         ],
         "value": null
        },
        {
         "name": "clearData",
         "on": [
          {
           "events": "mouseup[!event.item]",
           "force": true,
           "update": "true"
          }
         ],
         "value": true
        },
        {
         "name": "clickedData",
         "on": [
          {
           "events": "@area:click",
           "force": true,
           "update": "{value: datum.trajectory}"
          }
         ],
         "value": null
        }
       ],
       "width": 500
      }
     },
     "metadata": {},
     "output_type": "display_data"
    },
    {
     "name": "stdout",
     "output_type": "stream",
     "text": [
      "\n"
     ]
    },
    {
     "data": {
      "application/vnd.vega.v5+json": {
       "$schema": "https://vega.github.io/schema/vega/v5.json",
       "axes": [
        {
         "name": "x_axis",
         "orient": "bottom",
         "scale": "xscale",
         "zindex": 100
        },
        {
         "name": "y_axis",
         "orient": "left",
         "scale": "yscale",
         "zindex": 100
        }
       ],
       "background": "white",
       "data": [
        {
         "name": "distributions",
         "transform": [
          {
           "sort": {
            "field": [
             "trajectory",
             "timepoint"
            ]
           },
           "type": "collect"
          }
         ],
         "values": [
          {
           "lower": -1.3796450289880804,
           "timepoint": 0,
           "trajectory": "Example",
           "upper": 3.6599802584473347
          },
          {
           "lower": -1.0825719387315027,
           "timepoint": 1,
           "trajectory": "Example",
           "upper": 4.662101109314428
          },
          {
           "lower": -1.5673315130132501,
           "timepoint": 2,
           "trajectory": "Example",
           "upper": 4.979020695134506
          },
          {
           "lower": -2.0254629781110496,
           "timepoint": 3,
           "trajectory": "Example",
           "upper": 5.0948632261660105
          },
          {
           "lower": -2.4068635351440975,
           "timepoint": 4,
           "trajectory": "Example",
           "upper": 5.100129730028682
          },
          {
           "lower": -2.648497475585698,
           "timepoint": 5,
           "trajectory": "Example",
           "upper": 5.081381335313773
          },
          {
           "lower": -2.8261076571459203,
           "timepoint": 6,
           "trajectory": "Example",
           "upper": 4.868042831875372
          },
          {
           "lower": -2.9558285854569872,
           "timepoint": 7,
           "trajectory": "Example",
           "upper": 4.462251735646948
          },
          {
           "lower": -2.9089101355135276,
           "timepoint": 8,
           "trajectory": "Example",
           "upper": 3.884533364562394
          },
          {
           "lower": -2.774502593746305,
           "timepoint": 9,
           "trajectory": "Example",
           "upper": 3.244689913606467
          },
          {
           "lower": -2.464464637807978,
           "timepoint": 10,
           "trajectory": "Example",
           "upper": 2.55500702538931
          },
          {
           "lower": -2.3664135735445826,
           "timepoint": 11,
           "trajectory": "Example",
           "upper": 1.8619217609927778
          },
          {
           "lower": -2.3553440712999554,
           "timepoint": 12,
           "trajectory": "Example",
           "upper": 1.8960167063750317
          },
          {
           "lower": -2.553267108340174,
           "timepoint": 13,
           "trajectory": "Example",
           "upper": 2.6160109611044153
          },
          {
           "lower": -2.350397328293603,
           "timepoint": 14,
           "trajectory": "Example",
           "upper": 3.3199696431298635
          },
          {
           "lower": -2.136312955799503,
           "timepoint": 15,
           "trajectory": "Example",
           "upper": 3.9665891540348523
          },
          {
           "lower": -1.8671408605270992,
           "timepoint": 16,
           "trajectory": "Example",
           "upper": 4.517969545522957
          },
          {
           "lower": -1.6070323885803104,
           "timepoint": 17,
           "trajectory": "Example",
           "upper": 4.9694451366825225
          },
          {
           "lower": -1.1396802450844659,
           "timepoint": 18,
           "trajectory": "Example",
           "upper": 5.289656698321495
          },
          {
           "lower": -0.6340951126761203,
           "timepoint": 19,
           "trajectory": "Example",
           "upper": 5.616672378736137
          },
          {
           "lower": -0.11278417746458679,
           "timepoint": 20,
           "trajectory": "Example",
           "upper": 5.570339613313777
          },
          {
           "lower": 0.47125574261381387,
           "timepoint": 21,
           "trajectory": "Example",
           "upper": 5.8269464586372095
          },
          {
           "lower": 1.1601813849600622,
           "timepoint": 22,
           "trajectory": "Example",
           "upper": 6.151058018619096
          },
          {
           "lower": 1.8377688034885313,
           "timepoint": 23,
           "trajectory": "Example",
           "upper": 6.297065345219708
          },
          {
           "lower": 1.609065774225167,
           "timepoint": 24,
           "trajectory": "Example",
           "upper": 6.153841321485732
          },
          {
           "lower": 0.9484244158327744,
           "timepoint": 25,
           "trajectory": "Example",
           "upper": 5.927753998576529
          },
          {
           "lower": 0.26954874990345373,
           "timepoint": 26,
           "trajectory": "Example",
           "upper": 5.961771270123386
          },
          {
           "lower": -0.39187156691632025,
           "timepoint": 27,
           "trajectory": "Example",
           "upper": 6.044652153914502
          },
          {
           "lower": -0.9693903123071528,
           "timepoint": 28,
           "trajectory": "Example",
           "upper": 6.078591433893702
          },
          {
           "lower": -1.4452944117448314,
           "timepoint": 29,
           "trajectory": "Example",
           "upper": 5.998719296355452
          },
          {
           "lower": -1.7705044678327686,
           "timepoint": 30,
           "trajectory": "Example",
           "upper": 5.950719766963164
          },
          {
           "lower": -1.9929550847238704,
           "timepoint": 31,
           "trajectory": "Example",
           "upper": 5.709952584288753
          },
          {
           "lower": -2.188993002795123,
           "timepoint": 32,
           "trajectory": "Example",
           "upper": 5.290865451945223
          },
          {
           "lower": -2.203483998782209,
           "timepoint": 33,
           "trajectory": "Example",
           "upper": 4.685336873957498
          },
          {
           "lower": -2.0671946223497635,
           "timepoint": 34,
           "trajectory": "Example",
           "upper": 4.022590771540498
          },
          {
           "lower": -1.8088920850796684,
           "timepoint": 35,
           "trajectory": "Example",
           "upper": 3.3077227830777285
          },
          {
           "lower": -1.7218587595102492,
           "timepoint": 36,
           "trajectory": "Example",
           "upper": 2.5862912991314833
          },
          {
           "lower": -1.7535061381603336,
           "timepoint": 37,
           "trajectory": "Example",
           "upper": 2.4470336569967808
          },
          {
           "lower": -1.930953544566074,
           "timepoint": 38,
           "trajectory": "Example",
           "upper": 3.109303232136617
          },
          {
           "lower": -1.8029735568107068,
           "timepoint": 39,
           "trajectory": "Example",
           "upper": 3.7982161706710316
          },
          {
           "lower": -1.6257354282894296,
           "timepoint": 40,
           "trajectory": "Example",
           "upper": 4.436708998335552
          },
          {
           "lower": -1.3684869286545926,
           "timepoint": 41,
           "trajectory": "Example",
           "upper": 4.98608324385858
          },
          {
           "lower": -1.1400515706287333,
           "timepoint": 42,
           "trajectory": "Example",
           "upper": 5.4338032488849635
          },
          {
           "lower": -0.6995434859279275,
           "timepoint": 43,
           "trajectory": "Example",
           "upper": 5.761718218321574
          },
          {
           "lower": -0.21667742646556268,
           "timepoint": 44,
           "trajectory": "Example",
           "upper": 6.105352911351808
          },
          {
           "lower": 0.29831361353448727,
           "timepoint": 45,
           "trajectory": "Example",
           "upper": 6.072209490851524
          },
          {
           "lower": 0.8538491824229943,
           "timepoint": 46,
           "trajectory": "Example",
           "upper": 6.241716583033696
          },
          {
           "lower": 1.5199869689376322,
           "timepoint": 47,
           "trajectory": "Example",
           "upper": 6.573860324189139
          },
          {
           "lower": 2.1890647908217193,
           "timepoint": 48,
           "trajectory": "Example",
           "upper": 6.733696860541281
          },
          {
           "lower": 2.12951279825643,
           "timepoint": 49,
           "trajectory": "Example",
           "upper": 6.630234011342585
          },
          {
           "lower": 1.4634222453175652,
           "timepoint": 50,
           "trajectory": "Example",
           "upper": 6.389101371426384
          },
          {
           "lower": 0.7785572661784181,
           "timepoint": 51,
           "trajectory": "Example",
           "upper": 6.414777773877774
          },
          {
           "lower": 0.10062733678292873,
           "timepoint": 52,
           "trajectory": "Example",
           "upper": 6.422709537739099
          },
          {
           "lower": -0.49838851169610116,
           "timepoint": 53,
           "trajectory": "Example",
           "upper": 6.49176855959188
          },
          {
           "lower": -0.9971815409717815,
           "timepoint": 54,
           "trajectory": "Example",
           "upper": 6.437546566628586
          },
          {
           "lower": -1.351491894657693,
           "timepoint": 55,
           "trajectory": "Example",
           "upper": 6.357476945330644
          },
          {
           "lower": -1.5753887979296586,
           "timepoint": 56,
           "trajectory": "Example",
           "upper": 6.130370716695109
          },
          {
           "lower": -1.8014900801131395,
           "timepoint": 57,
           "trajectory": "Example",
           "upper": 5.734778630536716
          },
          {
           "lower": -1.846900248474948,
           "timepoint": 58,
           "trajectory": "Example",
           "upper": 5.135687413555281
          },
          {
           "lower": -1.731439673158921,
           "timepoint": 59,
           "trajectory": "Example",
           "upper": 4.4736414596024705
          },
          {
           "lower": -1.4536621355258879,
           "timepoint": 60,
           "trajectory": "Example",
           "upper": 3.757167428111038
          },
          {
           "lower": -1.3576395882194252,
           "timepoint": 61,
           "trajectory": "Example",
           "upper": 3.028227726567451
          },
          {
           "lower": -1.4140172208228563,
           "timepoint": 62,
           "trajectory": "Example",
           "upper": 2.745606337209273
          },
          {
           "lower": -1.5551331090545524,
           "timepoint": 63,
           "trajectory": "Example",
           "upper": 3.3529433575661045
          },
          {
           "lower": -1.4876740863912585,
           "timepoint": 64,
           "trajectory": "Example",
           "upper": 4.040339927931133
          },
          {
           "lower": -1.3345159957682897,
           "timepoint": 65,
           "trajectory": "Example",
           "upper": 4.682923180826576
          },
          {
           "lower": -1.0764563217714593,
           "timepoint": 66,
           "trajectory": "Example",
           "upper": 5.241426824485622
          },
          {
           "lower": -0.8701047943662523,
           "timepoint": 67,
           "trajectory": "Example",
           "upper": 5.695552180391016
          },
          {
           "lower": -0.4497702964173267,
           "timepoint": 68,
           "trajectory": "Example",
           "upper": 6.040626712236414
          },
          {
           "lower": 0.021911598345570965,
           "timepoint": 69,
           "trajectory": "Example",
           "upper": 6.372181693482441
          },
          {
           "lower": 0.5391803599137582,
           "timepoint": 70,
           "trajectory": "Example",
           "upper": 6.398152689159539
          },
          {
           "lower": 1.0733024260397883,
           "timepoint": 71,
           "trajectory": "Example",
           "upper": 6.493940211406908
          },
          {
           "lower": 1.7230638168865369,
           "timepoint": 72,
           "trajectory": "Example",
           "upper": 6.83558236514028
          },
          {
           "lower": 2.388034554380622,
           "timepoint": 73,
           "trajectory": "Example",
           "upper": 7.015716353889804
          },
          {
           "lower": 2.503860075295834,
           "timepoint": 74,
           "trajectory": "Example",
           "upper": 6.958474002604853
          },
          {
           "lower": 1.838838286335412,
           "timepoint": 75,
           "trajectory": "Example",
           "upper": 6.708431388716891
          },
          {
           "lower": 1.154208222586711,
           "timepoint": 76,
           "trajectory": "Example",
           "upper": 6.712953990260561
          },
          {
           "lower": 0.46559162595337117,
           "timepoint": 77,
           "trajectory": "Example",
           "upper": 6.668745293307578
          },
          {
           "lower": -0.14949331507089864,
           "timepoint": 78,
           "trajectory": "Example",
           "upper": 6.779913487190411
          },
          {
           "lower": -0.6661254153514984,
           "timepoint": 79,
           "trajectory": "Example",
           "upper": 6.745780700556854
          },
          {
           "lower": -1.0449182039491296,
           "timepoint": 80,
           "trajectory": "Example",
           "upper": 6.651793334044831
          },
          {
           "lower": -1.2664795948332557,
           "timepoint": 81,
           "trajectory": "Example",
           "upper": 6.436302472558094
          },
          {
           "lower": -1.5185456700647477,
           "timepoint": 82,
           "trajectory": "Example",
           "upper": 6.062254752056663
          },
          {
           "lower": -1.5912571770045192,
           "timepoint": 83,
           "trajectory": "Example",
           "upper": 5.481424458591076
          },
          {
           "lower": -1.4978094649958165,
           "timepoint": 84,
           "trajectory": "Example",
           "upper": 4.822832636410757
          },
          {
           "lower": -1.233124324730404,
           "timepoint": 85,
           "trajectory": "Example",
           "upper": 4.108748053738692
          },
          {
           "lower": -1.0852536010103728,
           "timepoint": 86,
           "trajectory": "Example",
           "upper": 3.3761479225526663
          },
          {
           "lower": -1.163232596638113,
           "timepoint": 87,
           "trajectory": "Example",
           "upper": 2.9573911113526337
          },
          {
           "lower": -1.2653342756749733,
           "timepoint": 88,
           "trajectory": "Example",
           "upper": 3.507548415663134
          },
          {
           "lower": -1.2740331692644837,
           "timepoint": 89,
           "trajectory": "Example",
           "upper": 4.195296110310281
          },
          {
           "lower": -1.1159312500713297,
           "timepoint": 90,
           "trajectory": "Example",
           "upper": 4.843764607941432
          },
          {
           "lower": -0.8628657481971854,
           "timepoint": 91,
           "trajectory": "Example",
           "upper": 5.413170872260201
          },
          {
           "lower": -0.6546651500696585,
           "timepoint": 92,
           "trajectory": "Example",
           "upper": 5.875421730030528
          },
          {
           "lower": -0.2790519654764836,
           "timepoint": 93,
           "trajectory": "Example",
           "upper": 6.239456705413605
          },
          {
           "lower": 0.186949668955114,
           "timepoint": 94,
           "trajectory": "Example",
           "upper": 6.54443469682403
          },
          {
           "lower": 0.7096643974978352,
           "timepoint": 95,
           "trajectory": "Example",
           "upper": 6.647923860974519
          },
          {
           "lower": 1.2236992626033418,
           "timepoint": 96,
           "trajectory": "Example",
           "upper": 6.672305709327063
          },
          {
           "lower": 1.8582045603368527,
           "timepoint": 97,
           "trajectory": "Example",
           "upper": 7.0249521950536185
          },
          {
           "lower": 2.518592586776209,
           "timepoint": 98,
           "trajectory": "Example",
           "upper": 7.226946866540883
          },
          {
           "lower": 2.7481906547950645,
           "timepoint": 99,
           "trajectory": "Example",
           "upper": 7.217832102725941
          }
         ]
        },
        {
         "name": "traces",
         "transform": [
          {
           "expr": "isValid(datum.value)",
           "type": "filter"
          },
          {
           "sort": {
            "field": [
             "trajectory",
             "timepoint"
            ]
           },
           "type": "collect"
          }
         ],
         "values": [
          {
           "color_by": "Trajectory Mean",
           "sample_id": 0,
           "timepoint": 0,
           "trajectory": "Baseline_Trajectory_Mean",
           "value": 1.49149910348005
          },
          {
           "color_by": "Trajectory Mean",
           "sample_id": 0,
           "timepoint": 1,
           "trajectory": "Baseline_Trajectory_Mean",
           "value": 2.233474274948462
          },
          {
           "color_by": "Trajectory Mean",
           "sample_id": 0,
           "timepoint": 2,
           "trajectory": "Baseline_Trajectory_Mean",
           "value": 2.0770771900721927
          },
          {
           "color_by": "Trajectory Mean",
           "sample_id": 0,
           "timepoint": 3,
           "trajectory": "Baseline_Trajectory_Mean",
           "value": 1.7922485120373073
          },
          {
           "color_by": "Trajectory Mean",
           "sample_id": 0,
           "timepoint": 4,
           "trajectory": "Baseline_Trajectory_Mean",
           "value": 1.4381983462671954
          },
          {
           "color_by": "Trajectory Mean",
           "sample_id": 0,
           "timepoint": 5,
           "trajectory": "Baseline_Trajectory_Mean",
           "value": 1.0547646770638135
          },
          {
           "color_by": "Trajectory Mean",
           "sample_id": 0,
           "timepoint": 6,
           "trajectory": "Baseline_Trajectory_Mean",
           "value": 0.6764370583597799
          },
          {
           "color_by": "Trajectory Mean",
           "sample_id": 0,
           "timepoint": 7,
           "trajectory": "Baseline_Trajectory_Mean",
           "value": 0.3342295060673278
          },
          {
           "color_by": "Trajectory Mean",
           "sample_id": 0,
           "timepoint": 8,
           "trajectory": "Baseline_Trajectory_Mean",
           "value": 0.05521020633120944
          },
          {
           "color_by": "Trajectory Mean",
           "sample_id": 0,
           "timepoint": 9,
           "trajectory": "Baseline_Trajectory_Mean",
           "value": -0.13852227097340866
          },
          {
           "color_by": "Trajectory Mean",
           "sample_id": 0,
           "timepoint": 10,
           "trajectory": "Baseline_Trajectory_Mean",
           "value": -0.23086886398581286
          },
          {
           "color_by": "Trajectory Mean",
           "sample_id": 0,
           "timepoint": 11,
           "trajectory": "Baseline_Trajectory_Mean",
           "value": -0.21253198930865028
          },
          {
           "color_by": "Trajectory Mean",
           "sample_id": 0,
           "timepoint": 12,
           "trajectory": "Baseline_Trajectory_Mean",
           "value": -0.08146933952845596
          },
          {
           "color_by": "Trajectory Mean",
           "sample_id": 0,
           "timepoint": 13,
           "trajectory": "Baseline_Trajectory_Mean",
           "value": 0.15706154222719262
          },
          {
           "color_by": "Trajectory Mean",
           "sample_id": 0,
           "timepoint": 14,
           "trajectory": "Baseline_Trajectory_Mean",
           "value": 0.49088746262442895
          },
          {
           "color_by": "Trajectory Mean",
           "sample_id": 0,
           "timepoint": 15,
           "trajectory": "Baseline_Trajectory_Mean",
           "value": 0.9017178856558729
          },
          {
           "color_by": "Trajectory Mean",
           "sample_id": 0,
           "timepoint": 16,
           "trajectory": "Baseline_Trajectory_Mean",
           "value": 1.3663130864831903
          },
          {
           "color_by": "Trajectory Mean",
           "sample_id": 0,
           "timepoint": 17,
           "trajectory": "Baseline_Trajectory_Mean",
           "value": 1.8579528113479855
          },
          {
           "color_by": "Trajectory Mean",
           "sample_id": 0,
           "timepoint": 18,
           "trajectory": "Baseline_Trajectory_Mean",
           "value": 2.34811622871301
          },
          {
           "color_by": "Trajectory Mean",
           "sample_id": 0,
           "timepoint": 19,
           "trajectory": "Baseline_Trajectory_Mean",
           "value": 2.808270108398768
          },
          {
           "color_by": "Trajectory Mean",
           "sample_id": 0,
           "timepoint": 20,
           "trajectory": "Baseline_Trajectory_Mean",
           "value": 3.2116549946869575
          },
          {
           "color_by": "Trajectory Mean",
           "sample_id": 0,
           "timepoint": 21,
           "trajectory": "Baseline_Trajectory_Mean",
           "value": 3.534958980465169
          },
          {
           "color_by": "Trajectory Mean",
           "sample_id": 0,
           "timepoint": 22,
           "trajectory": "Baseline_Trajectory_Mean",
           "value": 3.7597754903587846
          },
          {
           "color_by": "Trajectory Mean",
           "sample_id": 0,
           "timepoint": 23,
           "trajectory": "Baseline_Trajectory_Mean",
           "value": 3.873754782783354
          },
          {
           "color_by": "Trajectory Mean",
           "sample_id": 0,
           "timepoint": 24,
           "trajectory": "Baseline_Trajectory_Mean",
           "value": 3.871377835515823
          },
          {
           "color_by": "Trajectory Mean",
           "sample_id": 0,
           "timepoint": 25,
           "trajectory": "Baseline_Trajectory_Mean",
           "value": 3.754304695056812
          },
          {
           "color_by": "Trajectory Mean",
           "sample_id": 0,
           "timepoint": 26,
           "trajectory": "Baseline_Trajectory_Mean",
           "value": 3.5312757825477643
          },
          {
           "color_by": "Trajectory Mean",
           "sample_id": 0,
           "timepoint": 27,
           "trajectory": "Baseline_Trajectory_Mean",
           "value": 3.2175724107293293
          },
          {
           "color_by": "Trajectory Mean",
           "sample_id": 0,
           "timepoint": 28,
           "trajectory": "Baseline_Trajectory_Mean",
           "value": 2.8340701477271053
          },
          {
           "color_by": "Trajectory Mean",
           "sample_id": 0,
           "timepoint": 29,
           "trajectory": "Baseline_Trajectory_Mean",
           "value": 2.4059439594848238
          },
          {
           "color_by": "Trajectory Mean",
           "sample_id": 0,
           "timepoint": 30,
           "trajectory": "Baseline_Trajectory_Mean",
           "value": 1.9611056989942715
          },
          {
           "color_by": "Trajectory Mean",
           "sample_id": 0,
           "timepoint": 31,
           "trajectory": "Baseline_Trajectory_Mean",
           "value": 1.528471140697228
          },
          {
           "color_by": "Trajectory Mean",
           "sample_id": 0,
           "timepoint": 32,
           "trajectory": "Baseline_Trajectory_Mean",
           "value": 1.1361643477500898
          },
          {
           "color_by": "Trajectory Mean",
           "sample_id": 0,
           "timepoint": 33,
           "trajectory": "Baseline_Trajectory_Mean",
           "value": 0.8097710492635055
          },
          {
           "color_by": "Trajectory Mean",
           "sample_id": 0,
           "timepoint": 34,
           "trajectory": "Baseline_Trajectory_Mean",
           "value": 0.5707496519011522
          },
          {
           "color_by": "Trajectory Mean",
           "sample_id": 0,
           "timepoint": 35,
           "trajectory": "Baseline_Trajectory_Mean",
           "value": 0.4350987048296257
          },
          {
           "color_by": "Trajectory Mean",
           "sample_id": 0,
           "timepoint": 36,
           "trajectory": "Baseline_Trajectory_Mean",
           "value": 0.4123636883696628
          },
          {
           "color_by": "Trajectory Mean",
           "sample_id": 0,
           "timepoint": 37,
           "trajectory": "Baseline_Trajectory_Mean",
           "value": 0.5050448962378525
          },
          {
           "color_by": "Trajectory Mean",
           "sample_id": 0,
           "timepoint": 38,
           "trajectory": "Baseline_Trajectory_Mean",
           "value": 0.7084432407755964
          },
          {
           "color_by": "Trajectory Mean",
           "sample_id": 0,
           "timepoint": 39,
           "trajectory": "Baseline_Trajectory_Mean",
           "value": 1.0109535806125682
          },
          {
           "color_by": "Trajectory Mean",
           "sample_id": 0,
           "timepoint": 40,
           "trajectory": "Baseline_Trajectory_Mean",
           "value": 1.3947873437502152
          },
          {
           "color_by": "Trajectory Mean",
           "sample_id": 0,
           "timepoint": 41,
           "trajectory": "Baseline_Trajectory_Mean",
           "value": 1.8370795261280852
          },
          {
           "color_by": "Trajectory Mean",
           "sample_id": 0,
           "timepoint": 42,
           "trajectory": "Baseline_Trajectory_Mean",
           "value": 2.311311245938414
          },
          {
           "color_by": "Trajectory Mean",
           "sample_id": 0,
           "timepoint": 43,
           "trajectory": "Baseline_Trajectory_Mean",
           "value": 2.7889594132164
          },
          {
           "color_by": "Trajectory Mean",
           "sample_id": 0,
           "timepoint": 44,
           "trajectory": "Baseline_Trajectory_Mean",
           "value": 3.2412709524456615
          },
          {
           "color_by": "Trajectory Mean",
           "sample_id": 0,
           "timepoint": 45,
           "trajectory": "Baseline_Trajectory_Mean",
           "value": 3.641051271079307
          },
          {
           "color_by": "Trajectory Mean",
           "sample_id": 0,
           "timepoint": 46,
           "trajectory": "Baseline_Trajectory_Mean",
           "value": 3.9643557805028484
          },
          {
           "color_by": "Trajectory Mean",
           "sample_id": 0,
           "timepoint": 47,
           "trajectory": "Baseline_Trajectory_Mean",
           "value": 4.19197930314946
          },
          {
           "color_by": "Trajectory Mean",
           "sample_id": 0,
           "timepoint": 48,
           "trajectory": "Baseline_Trajectory_Mean",
           "value": 4.310650765466032
          },
          {
           "color_by": "Trajectory Mean",
           "sample_id": 0,
           "timepoint": 49,
           "trajectory": "Baseline_Trajectory_Mean",
           "value": 4.313858899916437
          },
          {
           "color_by": "Trajectory Mean",
           "sample_id": 0,
           "timepoint": 50,
           "trajectory": "Baseline_Trajectory_Mean",
           "value": 4.202257620921471
          },
          {
           "color_by": "Trajectory Mean",
           "sample_id": 0,
           "timepoint": 51,
           "trajectory": "Baseline_Trajectory_Mean",
           "value": 3.9836258731605865
          },
          {
           "color_by": "Trajectory Mean",
           "sample_id": 0,
           "timepoint": 52,
           "trajectory": "Baseline_Trajectory_Mean",
           "value": 3.6723844511363977
          },
          {
           "color_by": "Trajectory Mean",
           "sample_id": 0,
           "timepoint": 53,
           "trajectory": "Baseline_Trajectory_Mean",
           "value": 3.288699834042088
          },
          {
           "color_by": "Trajectory Mean",
           "sample_id": 0,
           "timepoint": 54,
           "trajectory": "Baseline_Trajectory_Mean",
           "value": 2.8572307571464948
          },
          {
           "color_by": "Trajectory Mean",
           "sample_id": 0,
           "timepoint": 55,
           "trajectory": "Baseline_Trajectory_Mean",
           "value": 2.405595453635493
          },
          {
           "color_by": "Trajectory Mean",
           "sample_id": 0,
           "timepoint": 56,
           "trajectory": "Baseline_Trajectory_Mean",
           "value": 1.962654868038607
          },
          {
           "color_by": "Trajectory Mean",
           "sample_id": 0,
           "timepoint": 57,
           "trajectory": "Baseline_Trajectory_Mean",
           "value": 1.5567185842159497
          },
          {
           "color_by": "Trajectory Mean",
           "sample_id": 0,
           "timepoint": 58,
           "trajectory": "Baseline_Trajectory_Mean",
           "value": 1.213785015981708
          },
          {
           "color_by": "Trajectory Mean",
           "sample_id": 0,
           "timepoint": 59,
           "trajectory": "Baseline_Trajectory_Mean",
           "value": 0.9559252780365209
          },
          {
           "color_by": "Trajectory Mean",
           "sample_id": 0,
           "timepoint": 60,
           "trajectory": "Baseline_Trajectory_Mean",
           "value": 0.7999112214287234
          },
          {
           "color_by": "Trajectory Mean",
           "sample_id": 0,
           "timepoint": 61,
           "trajectory": "Baseline_Trajectory_Mean",
           "value": 0.7561729367007963
          },
          {
           "color_by": "Trajectory Mean",
           "sample_id": 0,
           "timepoint": 62,
           "trajectory": "Baseline_Trajectory_Mean",
           "value": 0.828150543086284
          },
          {
           "color_by": "Trajectory Mean",
           "sample_id": 0,
           "timepoint": 63,
           "trajectory": "Baseline_Trajectory_Mean",
           "value": 1.0120805672478086
          },
          {
           "color_by": "Trajectory Mean",
           "sample_id": 0,
           "timepoint": 64,
           "trajectory": "Baseline_Trajectory_Mean",
           "value": 1.2972301943038616
          },
          {
           "color_by": "Trajectory Mean",
           "sample_id": 0,
           "timepoint": 65,
           "trajectory": "Baseline_Trajectory_Mean",
           "value": 1.6665648272988915
          },
          {
           "color_by": "Trajectory Mean",
           "sample_id": 0,
           "timepoint": 66,
           "trajectory": "Baseline_Trajectory_Mean",
           "value": 2.0978074501933115
          },
          {
           "color_by": "Trajectory Mean",
           "sample_id": 0,
           "timepoint": 67,
           "trajectory": "Baseline_Trajectory_Mean",
           "value": 2.564823928952612
          },
          {
           "color_by": "Trajectory Mean",
           "sample_id": 0,
           "timepoint": 68,
           "trajectory": "Baseline_Trajectory_Mean",
           "value": 3.0392481200148693
          },
          {
           "color_by": "Trajectory Mean",
           "sample_id": 0,
           "timepoint": 69,
           "trajectory": "Baseline_Trajectory_Mean",
           "value": 3.492245745311351
          },
          {
           "color_by": "Trajectory Mean",
           "sample_id": 0,
           "timepoint": 70,
           "trajectory": "Baseline_Trajectory_Mean",
           "value": 3.8963073651432323
          },
          {
           "color_by": "Trajectory Mean",
           "sample_id": 0,
           "timepoint": 71,
           "trajectory": "Baseline_Trajectory_Mean",
           "value": 4.2269589710176145
          },
          {
           "color_by": "Trajectory Mean",
           "sample_id": 0,
           "timepoint": 72,
           "trajectory": "Baseline_Trajectory_Mean",
           "value": 4.4642838425049085
          },
          {
           "color_by": "Trajectory Mean",
           "sample_id": 0,
           "timepoint": 73,
           "trajectory": "Baseline_Trajectory_Mean",
           "value": 4.594161046838436
          },
          {
           "color_by": "Trajectory Mean",
           "sample_id": 0,
           "timepoint": 74,
           "trajectory": "Baseline_Trajectory_Mean",
           "value": 4.609143577731189
          },
          {
           "color_by": "Trajectory Mean",
           "sample_id": 0,
           "timepoint": 75,
           "trajectory": "Baseline_Trajectory_Mean",
           "value": 4.508921535347294
          },
          {
           "color_by": "Trajectory Mean",
           "sample_id": 0,
           "timepoint": 76,
           "trajectory": "Baseline_Trajectory_Mean",
           "value": 4.300341549473446
          },
          {
           "color_by": "Trajectory Mean",
           "sample_id": 0,
           "timepoint": 77,
           "trajectory": "Baseline_Trajectory_Mean",
           "value": 3.9969812385624786
          },
          {
           "color_by": "Trajectory Mean",
           "sample_id": 0,
           "timepoint": 78,
           "trajectory": "Baseline_Trajectory_Mean",
           "value": 3.618305163015648
          },
          {
           "color_by": "Trajectory Mean",
           "sample_id": 0,
           "timepoint": 79,
           "trajectory": "Baseline_Trajectory_Mean",
           "value": 3.1884547517130524
          },
          {
           "color_by": "Trajectory Mean",
           "sample_id": 0,
           "timepoint": 80,
           "trajectory": "Baseline_Trajectory_Mean",
           "value": 2.734747438555207
          },
          {
           "color_by": "Trajectory Mean",
           "sample_id": 0,
           "timepoint": 81,
           "trajectory": "Baseline_Trajectory_Mean",
           "value": 2.28597832567617
          },
          {
           "color_by": "Trajectory Mean",
           "sample_id": 0,
           "timepoint": 82,
           "trajectory": "Baseline_Trajectory_Mean",
           "value": 1.8706299679091443
          },
          {
           "color_by": "Trajectory Mean",
           "sample_id": 0,
           "timepoint": 83,
           "trajectory": "Baseline_Trajectory_Mean",
           "value": 1.5151015856475138
          },
          {
           "color_by": "Trajectory Mean",
           "sample_id": 0,
           "timepoint": 84,
           "trajectory": "Baseline_Trajectory_Mean",
           "value": 1.2420678052681842
          },
          {
           "color_by": "Trajectory Mean",
           "sample_id": 0,
           "timepoint": 85,
           "trajectory": "Baseline_Trajectory_Mean",
           "value": 1.0690689728760079
          },
          {
           "color_by": "Trajectory Mean",
           "sample_id": 0,
           "timepoint": 86,
           "trajectory": "Baseline_Trajectory_Mean",
           "value": 1.0074206890097297
          },
          {
           "color_by": "Trajectory Mean",
           "sample_id": 0,
           "timepoint": 87,
           "trajectory": "Baseline_Trajectory_Mean",
           "value": 1.0615103643265587
          },
          {
           "color_by": "Trajectory Mean",
           "sample_id": 0,
           "timepoint": 88,
           "trajectory": "Baseline_Trajectory_Mean",
           "value": 1.2285245331831354
          },
          {
           "color_by": "Trajectory Mean",
           "sample_id": 0,
           "timepoint": 89,
           "trajectory": "Baseline_Trajectory_Mean",
           "value": 1.498623879582247
          },
          {
           "color_by": "Trajectory Mean",
           "sample_id": 0,
           "timepoint": 90,
           "trajectory": "Baseline_Trajectory_Mean",
           "value": 1.8555550933600404
          },
          {
           "color_by": "Trajectory Mean",
           "sample_id": 0,
           "timepoint": 91,
           "trajectory": "Baseline_Trajectory_Mean",
           "value": 2.2776615144922463
          },
          {
           "color_by": "Trajectory Mean",
           "sample_id": 0,
           "timepoint": 92,
           "trajectory": "Baseline_Trajectory_Mean",
           "value": 2.7392297286770613
          },
          {
           "color_by": "Trajectory Mean",
           "sample_id": 0,
           "timepoint": 93,
           "trajectory": "Baseline_Trajectory_Mean",
           "value": 3.2120883895224193
          },
          {
           "color_by": "Trajectory Mean",
           "sample_id": 0,
           "timepoint": 94,
           "trajectory": "Baseline_Trajectory_Mean",
           "value": 3.667359860430538
          },
          {
           "color_by": "Trajectory Mean",
           "sample_id": 0,
           "timepoint": 95,
           "trajectory": "Baseline_Trajectory_Mean",
           "value": 4.077255767678148
          },
          {
           "color_by": "Trajectory Mean",
           "sample_id": 0,
           "timepoint": 96,
           "trajectory": "Baseline_Trajectory_Mean",
           "value": 4.416804825999856
          },
          {
           "color_by": "Trajectory Mean",
           "sample_id": 0,
           "timepoint": 97,
           "trajectory": "Baseline_Trajectory_Mean",
           "value": 4.665405508944707
          },
          {
           "color_by": "Trajectory Mean",
           "sample_id": 0,
           "timepoint": 98,
           "trajectory": "Baseline_Trajectory_Mean",
           "value": 4.8081070265747385
          },
          {
           "color_by": "Trajectory Mean",
           "sample_id": 0,
           "timepoint": 99,
           "trajectory": "Baseline_Trajectory_Mean",
           "value": 4.836538965603463
          },
          {
           "color_by": "Chaos",
           "sample_id": 0,
           "timepoint": 0,
           "trajectory": "Chaos",
           "value": 1.2597691098735053
          },
          {
           "color_by": "Chaos",
           "sample_id": 0,
           "timepoint": 1,
           "trajectory": "Chaos",
           "value": 2.9012589115949323
          },
          {
           "color_by": "Chaos",
           "sample_id": 0,
           "timepoint": 2,
           "trajectory": "Chaos",
           "value": 3.616813640838323
          },
          {
           "color_by": "Chaos",
           "sample_id": 0,
           "timepoint": 3,
           "trajectory": "Chaos",
           "value": 4.122160220217763
          },
          {
           "color_by": "Chaos",
           "sample_id": 0,
           "timepoint": 4,
           "trajectory": "Chaos",
           "value": 4.427379484802285
          },
          {
           "color_by": "Chaos",
           "sample_id": 0,
           "timepoint": 5,
           "trajectory": "Chaos",
           "value": 4.531319238833985
          },
          {
           "color_by": "Chaos",
           "sample_id": 0,
           "timepoint": 6,
           "trajectory": "Chaos",
           "value": 4.438166517343543
          },
          {
           "color_by": "Chaos",
           "sample_id": 0,
           "timepoint": 7,
           "trajectory": "Chaos",
           "value": 4.161204542356615
          },
          {
           "color_by": "Chaos",
           "sample_id": 0,
           "timepoint": 8,
           "trajectory": "Chaos",
           "value": 3.723444846032917
          },
          {
           "color_by": "Chaos",
           "sample_id": 0,
           "timepoint": 9,
           "trajectory": "Chaos",
           "value": 3.1568557072608128
          },
          {
           "color_by": "Chaos",
           "sample_id": 0,
           "timepoint": 10,
           "trajectory": "Chaos",
           "value": 2.5007186092091733
          },
          {
           "color_by": "Chaos",
           "sample_id": 0,
           "timepoint": 11,
           "trajectory": "Chaos",
           "value": 1.799384898203756
          },
          {
           "color_by": "Chaos",
           "sample_id": 0,
           "timepoint": 12,
           "trajectory": "Chaos",
           "value": 1.0996425130079321
          },
          {
           "color_by": "Chaos",
           "sample_id": 0,
           "timepoint": 13,
           "trajectory": "Chaos",
           "value": 0.44788934363013944
          },
          {
           "color_by": "Chaos",
           "sample_id": 0,
           "timepoint": 14,
           "trajectory": "Chaos",
           "value": -0.11269425298473858
          },
          {
           "color_by": "Chaos",
           "sample_id": 0,
           "timepoint": 15,
           "trajectory": "Chaos",
           "value": -0.5447887610783642
          },
          {
           "color_by": "Chaos",
           "sample_id": 0,
           "timepoint": 16,
           "trajectory": "Chaos",
           "value": -0.8192249159122729
          },
          {
           "color_by": "Chaos",
           "sample_id": 0,
           "timepoint": 17,
           "trajectory": "Chaos",
           "value": -0.9167735809900459
          },
          {
           "color_by": "Chaos",
           "sample_id": 0,
           "timepoint": 18,
           "trajectory": "Chaos",
           "value": -0.829322707449895
          },
          {
           "color_by": "Chaos",
           "sample_id": 0,
           "timepoint": 19,
           "trajectory": "Chaos",
           "value": -0.5603668100027925
          },
          {
           "color_by": "Chaos",
           "sample_id": 0,
           "timepoint": 20,
           "trajectory": "Chaos",
           "value": -0.12477757988382089
          },
          {
           "color_by": "Chaos",
           "sample_id": 0,
           "timepoint": 21,
           "trajectory": "Chaos",
           "value": 0.4521307656744193
          },
          {
           "color_by": "Chaos",
           "sample_id": 0,
           "timepoint": 22,
           "trajectory": "Chaos",
           "value": 1.136183760518942
          },
          {
           "color_by": "Chaos",
           "sample_id": 0,
           "timepoint": 23,
           "trajectory": "Chaos",
           "value": 1.8864785627068188
          },
          {
           "color_by": "Chaos",
           "sample_id": 0,
           "timepoint": 24,
           "trajectory": "Chaos",
           "value": 2.6579331335619973
          },
          {
           "color_by": "Chaos",
           "sample_id": 0,
           "timepoint": 25,
           "trajectory": "Chaos",
           "value": 3.4040944237802804
          },
          {
           "color_by": "Chaos",
           "sample_id": 0,
           "timepoint": 26,
           "trajectory": "Chaos",
           "value": 4.080031118611615
          },
          {
           "color_by": "Chaos",
           "sample_id": 0,
           "timepoint": 27,
           "trajectory": "Chaos",
           "value": 4.645131203401387
          },
          {
           "color_by": "Chaos",
           "sample_id": 0,
           "timepoint": 28,
           "trajectory": "Chaos",
           "value": 5.065630503758667
          },
          {
           "color_by": "Chaos",
           "sample_id": 0,
           "timepoint": 29,
           "trajectory": "Chaos",
           "value": 5.316715062535783
          },
          {
           "color_by": "Chaos",
           "sample_id": 0,
           "timepoint": 30,
           "trajectory": "Chaos",
           "value": 5.384066698178646
          },
          {
           "color_by": "Chaos",
           "sample_id": 0,
           "timepoint": 31,
           "trajectory": "Chaos",
           "value": 5.264755698138908
          },
          {
           "color_by": "Chaos",
           "sample_id": 0,
           "timepoint": 32,
           "trajectory": "Chaos",
           "value": 4.96742518427852
          },
          {
           "color_by": "Chaos",
           "sample_id": 0,
           "timepoint": 33,
           "trajectory": "Chaos",
           "value": 4.511755720684645
          },
          {
           "color_by": "Chaos",
           "sample_id": 0,
           "timepoint": 34,
           "trajectory": "Chaos",
           "value": 3.927243479828405
          },
          {
           "color_by": "Chaos",
           "sample_id": 0,
           "timepoint": 35,
           "trajectory": "Chaos",
           "value": 3.2513679581671364
          },
          {
           "color_by": "Chaos",
           "sample_id": 0,
           "timepoint": 36,
           "trajectory": "Chaos",
           "value": 2.527263183534361
          },
          {
           "color_by": "Chaos",
           "sample_id": 0,
           "timepoint": 37,
           "trajectory": "Chaos",
           "value": 1.8010372241806354
          },
          {
           "color_by": "Chaos",
           "sample_id": 0,
           "timepoint": 38,
           "trajectory": "Chaos",
           "value": 1.1189066737928115
          },
          {
           "color_by": "Chaos",
           "sample_id": 0,
           "timepoint": 39,
           "trajectory": "Chaos",
           "value": 0.5243242886975326
          },
          {
           "color_by": "Chaos",
           "sample_id": 0,
           "timepoint": 40,
           "trajectory": "Chaos",
           "value": 0.055278377534530666
          },
          {
           "color_by": "Chaos",
           "sample_id": 0,
           "timepoint": 41,
           "trajectory": "Chaos",
           "value": -0.2580681364642037
          },
          {
           "color_by": "Chaos",
           "sample_id": 0,
           "timepoint": 42,
           "trajectory": "Chaos",
           "value": -0.3952521808422875
          },
          {
           "color_by": "Chaos",
           "sample_id": 0,
           "timepoint": 43,
           "trajectory": "Chaos",
           "value": -0.34678197469141514
          },
          {
           "color_by": "Chaos",
           "sample_id": 0,
           "timepoint": 44,
           "trajectory": "Chaos",
           "value": -0.11472638659475855
          },
          {
           "color_by": "Chaos",
           "sample_id": 0,
           "timepoint": 45,
           "trajectory": "Chaos",
           "value": 0.28741443914985343
          },
          {
           "color_by": "Chaos",
           "sample_id": 0,
           "timepoint": 46,
           "trajectory": "Chaos",
           "value": 0.835549149028703
          },
          {
           "color_by": "Chaos",
           "sample_id": 0,
           "timepoint": 47,
           "trajectory": "Chaos",
           "value": 1.4964937125580327
          },
          {
           "color_by": "Chaos",
           "sample_id": 0,
           "timepoint": 48,
           "trajectory": "Chaos",
           "value": 2.230035252619
          },
          {
           "color_by": "Chaos",
           "sample_id": 0,
           "timepoint": 49,
           "trajectory": "Chaos",
           "value": 2.9914328583161565
          },
          {
           "color_by": "Chaos",
           "sample_id": 0,
           "timepoint": 50,
           "trajectory": "Chaos",
           "value": 3.7341998949792
          },
          {
           "color_by": "Chaos",
           "sample_id": 0,
           "timepoint": 51,
           "trajectory": "Chaos",
           "value": 4.412994823485659
          },
          {
           "color_by": "Chaos",
           "sample_id": 0,
           "timepoint": 52,
           "trajectory": "Chaos",
           "value": 4.986440794223313
          },
          {
           "color_by": "Chaos",
           "sample_id": 0,
           "timepoint": 53,
           "trajectory": "Chaos",
           "value": 5.419698709217167
          },
          {
           "color_by": "Chaos",
           "sample_id": 0,
           "timepoint": 54,
           "trajectory": "Chaos",
           "value": 5.686633773887669
          },
          {
           "color_by": "Chaos",
           "sample_id": 0,
           "timepoint": 55,
           "trajectory": "Chaos",
           "value": 5.771440834563602
          },
          {
           "color_by": "Chaos",
           "sample_id": 0,
           "timepoint": 56,
           "trajectory": "Chaos",
           "value": 5.669627447785713
          },
          {
           "color_by": "Chaos",
           "sample_id": 0,
           "timepoint": 57,
           "trajectory": "Chaos",
           "value": 5.388293560414288
          },
          {
           "color_by": "Chaos",
           "sample_id": 0,
           "timepoint": 58,
           "trajectory": "Chaos",
           "value": 4.945690412754077
          },
          {
           "color_by": "Chaos",
           "sample_id": 0,
           "timepoint": 59,
           "trajectory": "Chaos",
           "value": 4.370086091212661
          },
          {
           "color_by": "Chaos",
           "sample_id": 0,
           "timepoint": 60,
           "trajectory": "Chaos",
           "value": 3.698008266075507
          },
          {
           "color_by": "Chaos",
           "sample_id": 0,
           "timepoint": 61,
           "trajectory": "Chaos",
           "value": 2.971973373498011
          },
          {
           "color_by": "Chaos",
           "sample_id": 0,
           "timepoint": 62,
           "trajectory": "Chaos",
           "value": 2.2378434311398845
          },
          {
           "color_by": "Chaos",
           "sample_id": 0,
           "timepoint": 63,
           "trajectory": "Chaos",
           "value": 1.541974828726165
          },
          {
           "color_by": "Chaos",
           "sample_id": 0,
           "timepoint": 64,
           "trajectory": "Chaos",
           "value": 0.9283363687403949
          },
          {
           "color_by": "Chaos",
           "sample_id": 0,
           "timepoint": 65,
           "trajectory": "Chaos",
           "value": 0.43577574426992705
          },
          {
           "color_by": "Chaos",
           "sample_id": 0,
           "timepoint": 66,
           "trajectory": "Chaos",
           "value": 0.09560441186253986
          },
          {
           "color_by": "Chaos",
           "sample_id": 0,
           "timepoint": 67,
           "trajectory": "Chaos",
           "value": -0.07034897905838379
          },
          {
           "color_by": "Chaos",
           "sample_id": 0,
           "timepoint": 68,
           "trajectory": "Chaos",
           "value": -0.05109557129779276
          },
          {
           "color_by": "Chaos",
           "sample_id": 0,
           "timepoint": 69,
           "trajectory": "Chaos",
           "value": 0.15283067179741439
          },
          {
           "color_by": "Chaos",
           "sample_id": 0,
           "timepoint": 70,
           "trajectory": "Chaos",
           "value": 0.529406362716053
          },
          {
           "color_by": "Chaos",
           "sample_id": 0,
           "timepoint": 71,
           "trajectory": "Chaos",
           "value": 1.0558664348991167
          },
          {
           "color_by": "Chaos",
           "sample_id": 0,
           "timepoint": 72,
           "trajectory": "Chaos",
           "value": 1.7001197458648383
          },
          {
           "color_by": "Chaos",
           "sample_id": 0,
           "timepoint": 73,
           "trajectory": "Chaos",
           "value": 2.4227445234056373
          },
          {
           "color_by": "Chaos",
           "sample_id": 0,
           "timepoint": 74,
           "trajectory": "Chaos",
           "value": 3.1794395880586905
          },
          {
           "color_by": "Chaos",
           "sample_id": 0,
           "timepoint": 75,
           "trajectory": "Chaos",
           "value": 3.92377894706519
          },
          {
           "color_by": "Chaos",
           "sample_id": 0,
           "timepoint": 76,
           "trajectory": "Chaos",
           "value": 4.610098492840045
          },
          {
           "color_by": "Chaos",
           "sample_id": 0,
           "timepoint": 77,
           "trajectory": "Chaos",
           "value": 5.196335325333616
          },
          {
           "color_by": "Chaos",
           "sample_id": 0,
           "timepoint": 78,
           "trajectory": "Chaos",
           "value": 5.646643163264011
          },
          {
           "color_by": "Chaos",
           "sample_id": 0,
           "timepoint": 79,
           "trajectory": "Chaos",
           "value": 5.933621230889647
          },
          {
           "color_by": "Chaos",
           "sample_id": 0,
           "timepoint": 80,
           "trajectory": "Chaos",
           "value": 6.0400180391936
          },
          {
           "color_by": "Chaos",
           "sample_id": 0,
           "timepoint": 81,
           "trajectory": "Chaos",
           "value": 5.959804128857658
          },
          {
           "color_by": "Chaos",
           "sample_id": 0,
           "timepoint": 82,
           "trajectory": "Chaos",
           "value": 5.6985470772890086
          },
          {
           "color_by": "Chaos",
           "sample_id": 0,
           "timepoint": 83,
           "trajectory": "Chaos",
           "value": 5.273065453790733
          },
          {
           "color_by": "Chaos",
           "sample_id": 0,
           "timepoint": 84,
           "trajectory": "Chaos",
           "value": 4.710383238466818
          },
          {
           "color_by": "Chaos",
           "sample_id": 0,
           "timepoint": 85,
           "trajectory": "Chaos",
           "value": 4.0460497142175695
          },
          {
           "color_by": "Chaos",
           "sample_id": 0,
           "timepoint": 86,
           "trajectory": "Chaos",
           "value": 3.3219292929804998
          },
          {
           "color_by": "Chaos",
           "sample_id": 0,
           "timepoint": 87,
           "trajectory": "Chaos",
           "value": 2.5835986942828786
          },
          {
           "color_by": "Chaos",
           "sample_id": 0,
           "timepoint": 88,
           "trajectory": "Chaos",
           "value": 1.877513307094341
          },
          {
           "color_by": "Chaos",
           "sample_id": 0,
           "timepoint": 89,
           "trajectory": "Chaos",
           "value": 1.2481189170235818
          },
          {
           "color_by": "Chaos",
           "sample_id": 0,
           "timepoint": 90,
           "trajectory": "Chaos",
           "value": 0.7350883778133306
          },
          {
           "color_by": "Chaos",
           "sample_id": 0,
           "timepoint": 91,
           "trajectory": "Chaos",
           "value": 0.3708550376488393
          },
          {
           "color_by": "Chaos",
           "sample_id": 0,
           "timepoint": 92,
           "trajectory": "Chaos",
           "value": 0.1785962800109924
          },
          {
           "color_by": "Chaos",
           "sample_id": 0,
           "timepoint": 93,
           "trajectory": "Chaos",
           "value": 0.17079255285618267
          },
          {
           "color_by": "Chaos",
           "sample_id": 0,
           "timepoint": 94,
           "trajectory": "Chaos",
           "value": 0.34845147882203475
          },
          {
           "color_by": "Chaos",
           "sample_id": 0,
           "timepoint": 95,
           "trajectory": "Chaos",
           "value": 0.7010452876352775
          },
          {
           "color_by": "Chaos",
           "sample_id": 0,
           "timepoint": 96,
           "trajectory": "Chaos",
           "value": 1.2071654609729663
          },
          {
           "color_by": "Chaos",
           "sample_id": 0,
           "timepoint": 97,
           "trajectory": "Chaos",
           "value": 1.8358538872265329
          },
          {
           "color_by": "Chaos",
           "sample_id": 0,
           "timepoint": 98,
           "trajectory": "Chaos",
           "value": 2.5485277615041513
          },
          {
           "color_by": "Chaos",
           "sample_id": 0,
           "timepoint": 99,
           "trajectory": "Chaos",
           "value": 3.30137854999923
          },
          {
           "color_by": "Granger 46/46",
           "sample_id": 0,
           "timepoint": 0,
           "trajectory": "Granger_46/46",
           "value": -1.3891044384340632
          },
          {
           "color_by": "Granger 46/46",
           "sample_id": 0,
           "timepoint": 1,
           "trajectory": "Granger_46/46",
           "value": -1.0563594812669483
          },
          {
           "color_by": "Granger 46/46",
           "sample_id": 0,
           "timepoint": 2,
           "trajectory": "Granger_46/46",
           "value": -1.492920722331044
          },
          {
           "color_by": "Granger 46/46",
           "sample_id": 0,
           "timepoint": 3,
           "trajectory": "Granger_46/46",
           "value": -1.9114282481615639
          },
          {
           "color_by": "Granger 46/46",
           "sample_id": 0,
           "timepoint": 4,
           "trajectory": "Granger_46/46",
           "value": -2.244360450042163
          },
          {
           "color_by": "Granger 46/46",
           "sample_id": 0,
           "timepoint": 5,
           "trajectory": "Granger_46/46",
           "value": -2.45319235638234
          },
          {
           "color_by": "Granger 46/46",
           "sample_id": 0,
           "timepoint": 6,
           "trajectory": "Granger_46/46",
           "value": -2.5142903051944145
          },
          {
           "color_by": "Granger 46/46",
           "sample_id": 0,
           "timepoint": 7,
           "trajectory": "Granger_46/46",
           "value": -2.4163640849630985
          },
          {
           "color_by": "Granger 46/46",
           "sample_id": 0,
           "timepoint": 8,
           "trajectory": "Granger_46/46",
           "value": -2.1597108957658833
          },
          {
           "color_by": "Granger 46/46",
           "sample_id": 0,
           "timepoint": 9,
           "trajectory": "Granger_46/46",
           "value": -1.7555376886019407
          },
          {
           "color_by": "Granger 46/46",
           "sample_id": 0,
           "timepoint": 10,
           "trajectory": "Granger_46/46",
           "value": -1.2249202811616897
          },
          {
           "color_by": "Granger 46/46",
           "sample_id": 0,
           "timepoint": 11,
           "trajectory": "Granger_46/46",
           "value": -0.5972939743188224
          },
          {
           "color_by": "Granger 46/46",
           "sample_id": 0,
           "timepoint": 12,
           "trajectory": "Granger_46/46",
           "value": 0.0915008734934708
          },
          {
           "color_by": "Granger 46/46",
           "sample_id": 0,
           "timepoint": 13,
           "trajectory": "Granger_46/46",
           "value": 0.8015296324059782
          },
          {
           "color_by": "Granger 46/46",
           "sample_id": 0,
           "timepoint": 14,
           "trajectory": "Granger_46/46",
           "value": 1.4913036547460758
          },
          {
           "color_by": "Granger 46/46",
           "sample_id": 0,
           "timepoint": 15,
           "trajectory": "Granger_46/46",
           "value": 2.120401275534191
          },
          {
           "color_by": "Granger 46/46",
           "sample_id": 0,
           "timepoint": 16,
           "trajectory": "Granger_46/46",
           "value": 2.652011972735473
          },
          {
           "color_by": "Granger 46/46",
           "sample_id": 0,
           "timepoint": 17,
           "trajectory": "Granger_46/46",
           "value": 3.0552487936112747
          },
          {
           "color_by": "Granger 46/46",
           "sample_id": 0,
           "timepoint": 18,
           "trajectory": "Granger_46/46",
           "value": 3.307087371021875
          },
          {
           "color_by": "Granger 46/46",
           "sample_id": 0,
           "timepoint": 19,
           "trajectory": "Granger_46/46",
           "value": 3.393812359028543
          },
          {
           "color_by": "Granger 46/46",
           "sample_id": 0,
           "timepoint": 20,
           "trajectory": "Granger_46/46",
           "value": 3.311882301724135
          },
          {
           "color_by": "Granger 46/46",
           "sample_id": 0,
           "timepoint": 21,
           "trajectory": "Granger_46/46",
           "value": 3.0681598246041015
          },
          {
           "color_by": "Granger 46/46",
           "sample_id": 0,
           "timepoint": 22,
           "trajectory": "Granger_46/46",
           "value": 2.679493311408794
          },
          {
           "color_by": "Granger 46/46",
           "sample_id": 0,
           "timepoint": 23,
           "trajectory": "Granger_46/46",
           "value": 2.1716764235726993
          },
          {
           "color_by": "Granger 46/46",
           "sample_id": 0,
           "timepoint": 24,
           "trajectory": "Granger_46/46",
           "value": 1.577850413740511
          },
          {
           "color_by": "Granger 46/46",
           "sample_id": 0,
           "timepoint": 25,
           "trajectory": "Granger_46/46",
           "value": 0.9364487664861398
          },
          {
           "color_by": "Granger 46/46",
           "sample_id": 0,
           "timepoint": 26,
           "trajectory": "Granger_46/46",
           "value": 0.28881210995971207
          },
          {
           "color_by": "Granger 46/46",
           "sample_id": 0,
           "timepoint": 27,
           "trajectory": "Granger_46/46",
           "value": -0.3233781901293087
          },
          {
           "color_by": "Granger 46/46",
           "sample_id": 0,
           "timepoint": 28,
           "trajectory": "Granger_46/46",
           "value": -0.8606880941534043
          },
          {
           "color_by": "Granger 46/46",
           "sample_id": 0,
           "timepoint": 29,
           "trajectory": "Granger_46/46",
           "value": -1.2883796220053036
          },
          {
           "color_by": "Granger 46/46",
           "sample_id": 0,
           "timepoint": 30,
           "trajectory": "Granger_46/46",
           "value": -1.5785679457710522
          },
          {
           "color_by": "Granger 46/46",
           "sample_id": 0,
           "timepoint": 31,
           "trajectory": "Granger_46/46",
           "value": -1.7119526750396221
          },
          {
           "color_by": "Granger 46/46",
           "sample_id": 0,
           "timepoint": 32,
           "trajectory": "Granger_46/46",
           "value": -1.679015651630615
          },
          {
           "color_by": "Granger 46/46",
           "sample_id": 0,
           "timepoint": 33,
           "trajectory": "Granger_46/46",
           "value": -1.4806107472994543
          },
          {
           "color_by": "Granger 46/46",
           "sample_id": 0,
           "timepoint": 34,
           "trajectory": "Granger_46/46",
           "value": -1.1279089658148806
          },
          {
           "color_by": "Granger 46/46",
           "sample_id": 0,
           "timepoint": 35,
           "trajectory": "Granger_46/46",
           "value": -0.641702239306359
          },
          {
           "color_by": "Granger 46/46",
           "sample_id": 0,
           "timepoint": 36,
           "trajectory": "Granger_46/46",
           "value": -0.051109185677665314
          },
          {
           "color_by": "Granger 46/46",
           "sample_id": 0,
           "timepoint": 37,
           "trajectory": "Granger_46/46",
           "value": 0.6082367199959102
          },
          {
           "color_by": "Granger 46/46",
           "sample_id": 0,
           "timepoint": 38,
           "trajectory": "Granger_46/46",
           "value": 1.2964039237420906
          },
          {
           "color_by": "Granger 46/46",
           "sample_id": 0,
           "timepoint": 39,
           "trajectory": "Granger_46/46",
           "value": 1.9716467044647827
          },
          {
           "color_by": "Granger 46/46",
           "sample_id": 0,
           "timepoint": 40,
           "trajectory": "Granger_46/46",
           "value": 2.5930017922913993
          },
          {
           "color_by": "Granger 46/46",
           "sample_id": 0,
           "timepoint": 41,
           "trajectory": "Granger_46/46",
           "value": 3.1228362576081685
          },
          {
           "color_by": "Granger 46/46",
           "sample_id": 0,
           "timepoint": 42,
           "trajectory": "Granger_46/46",
           "value": 3.5291882634583422
          },
          {
           "color_by": "Granger 46/46",
           "sample_id": 0,
           "timepoint": 43,
           "trajectory": "Granger_46/46",
           "value": 3.7877551517211097
          },
          {
           "color_by": "Granger 46/46",
           "sample_id": 0,
           "timepoint": 44,
           "trajectory": "Granger_46/46",
           "value": 3.883405259706325
          },
          {
           "color_by": "Granger 46/46",
           "sample_id": 0,
           "timepoint": 45,
           "trajectory": "Granger_46/46",
           "value": 3.811119475200282
          },
          {
           "color_by": "Granger 46/46",
           "sample_id": 0,
           "timepoint": 46,
           "trajectory": "Granger_46/46",
           "value": 3.5763039934667042
          },
          {
           "color_by": "Granger 46/46",
           "sample_id": 0,
           "timepoint": 47,
           "trajectory": "Granger_46/46",
           "value": 3.1944548347786674
          },
          {
           "color_by": "Granger 46/46",
           "sample_id": 0,
           "timepoint": 48,
           "trajectory": "Granger_46/46",
           "value": 2.690194984975492
          },
          {
           "color_by": "Granger 46/46",
           "sample_id": 0,
           "timepoint": 49,
           "trajectory": "Granger_46/46",
           "value": 2.095744028389875
          },
          {
           "color_by": "Granger 46/46",
           "sample_id": 0,
           "timepoint": 50,
           "trajectory": "Granger_46/46",
           "value": 1.448915427008469
          },
          {
           "color_by": "Granger 46/46",
           "sample_id": 0,
           "timepoint": 51,
           "trajectory": "Granger_46/46",
           "value": 0.790765968085307
          },
          {
           "color_by": "Granger 46/46",
           "sample_id": 0,
           "timepoint": 52,
           "trajectory": "Granger_46/46",
           "value": 0.16304352863363292
          },
          {
           "color_by": "Granger 46/46",
           "sample_id": 0,
           "timepoint": 53,
           "trajectory": "Granger_46/46",
           "value": -0.3944081553406251
          },
          {
           "color_by": "Granger 46/46",
           "sample_id": 0,
           "timepoint": 54,
           "trajectory": "Granger_46/46",
           "value": -0.8461263539771462
          },
          {
           "color_by": "Granger 46/46",
           "sample_id": 0,
           "timepoint": 55,
           "trajectory": "Granger_46/46",
           "value": -1.1632338417752317
          },
          {
           "color_by": "Granger 46/46",
           "sample_id": 0,
           "timepoint": 56,
           "trajectory": "Granger_46/46",
           "value": -1.3252339622115001
          },
          {
           "color_by": "Granger 46/46",
           "sample_id": 0,
           "timepoint": 57,
           "trajectory": "Granger_46/46",
           "value": -1.3212846488364947
          },
          {
           "color_by": "Granger 46/46",
           "sample_id": 0,
           "timepoint": 58,
           "trajectory": "Granger_46/46",
           "value": -1.1508721890211526
          },
          {
           "color_by": "Granger 46/46",
           "sample_id": 0,
           "timepoint": 59,
           "trajectory": "Granger_46/46",
           "value": -0.8238428377378759
          },
          {
           "color_by": "Granger 46/46",
           "sample_id": 0,
           "timepoint": 60,
           "trajectory": "Granger_46/46",
           "value": -0.3597903146422894
          },
          {
           "color_by": "Granger 46/46",
           "sample_id": 0,
           "timepoint": 61,
           "trajectory": "Granger_46/46",
           "value": 0.21316273412580533
          },
          {
           "color_by": "Granger 46/46",
           "sample_id": 0,
           "timepoint": 62,
           "trajectory": "Granger_46/46",
           "value": 0.8601135475791026
          },
          {
           "color_by": "Granger 46/46",
           "sample_id": 0,
           "timepoint": 63,
           "trajectory": "Granger_46/46",
           "value": 1.541549603202221
          },
          {
           "color_by": "Granger 46/46",
           "sample_id": 0,
           "timepoint": 64,
           "trajectory": "Granger_46/46",
           "value": 2.215805570708674
          },
          {
           "color_by": "Granger 46/46",
           "sample_id": 0,
           "timepoint": 65,
           "trajectory": "Granger_46/46",
           "value": 2.841654105499638
          },
          {
           "color_by": "Granger 46/46",
           "sample_id": 0,
           "timepoint": 66,
           "trajectory": "Granger_46/46",
           "value": 3.380869399526748
          },
          {
           "color_by": "Granger 46/46",
           "sample_id": 0,
           "timepoint": 67,
           "trajectory": "Granger_46/46",
           "value": 3.8006041010215967
          },
          {
           "color_by": "Granger 46/46",
           "sample_id": 0,
           "timepoint": 68,
           "trajectory": "Granger_46/46",
           "value": 4.075431818327001
          },
          {
           "color_by": "Granger 46/46",
           "sample_id": 0,
           "timepoint": 69,
           "trajectory": "Granger_46/46",
           "value": 4.188928215382614
          },
          {
           "color_by": "Granger 46/46",
           "sample_id": 0,
           "timepoint": 70,
           "trajectory": "Granger_46/46",
           "value": 4.134692394514154
          },
          {
           "color_by": "Granger 46/46",
           "sample_id": 0,
           "timepoint": 71,
           "trajectory": "Granger_46/46",
           "value": 3.9167450623638893
          },
          {
           "color_by": "Granger 46/46",
           "sample_id": 0,
           "timepoint": 72,
           "trajectory": "Granger_46/46",
           "value": 3.549278723372828
          },
          {
           "color_by": "Granger 46/46",
           "sample_id": 0,
           "timepoint": 73,
           "trajectory": "Granger_46/46",
           "value": 3.0557754329832085
          },
          {
           "color_by": "Granger 46/46",
           "sample_id": 0,
           "timepoint": 74,
           "trajectory": "Granger_46/46",
           "value": 2.467546964775549
          },
          {
           "color_by": "Granger 46/46",
           "sample_id": 0,
           "timepoint": 75,
           "trajectory": "Granger_46/46",
           "value": 1.8217881572330463
          },
          {
           "color_by": "Granger 46/46",
           "sample_id": 0,
           "timepoint": 76,
           "trajectory": "Granger_46/46",
           "value": 1.1592644739355742
          },
          {
           "color_by": "Granger 46/46",
           "sample_id": 0,
           "timepoint": 77,
           "trajectory": "Granger_46/46",
           "value": 0.521777553801198
          },
          {
           "color_by": "Granger 46/46",
           "sample_id": 0,
           "timepoint": 78,
           "trajectory": "Granger_46/46",
           "value": -0.050433668523246045
          },
          {
           "color_by": "Granger 46/46",
           "sample_id": 0,
           "timepoint": 79,
           "trajectory": "Granger_46/46",
           "value": -0.5211946861032781
          },
          {
           "color_by": "Granger 46/46",
           "sample_id": 0,
           "timepoint": 80,
           "trajectory": "Granger_46/46",
           "value": -0.8606444416873531
          },
          {
           "color_by": "Granger 46/46",
           "sample_id": 0,
           "timepoint": 81,
           "trajectory": "Granger_46/46",
           "value": -1.047091814673864
          },
          {
           "color_by": "Granger 46/46",
           "sample_id": 0,
           "timepoint": 82,
           "trajectory": "Granger_46/46",
           "value": -1.0683641454814246
          },
          {
           "color_by": "Granger 46/46",
           "sample_id": 0,
           "timepoint": 83,
           "trajectory": "Granger_46/46",
           "value": -0.9225639523967724
          },
          {
           "color_by": "Granger 46/46",
           "sample_id": 0,
           "timepoint": 84,
           "trajectory": "Granger_46/46",
           "value": -0.6181867917125379
          },
          {
           "color_by": "Granger 46/46",
           "sample_id": 0,
           "timepoint": 85,
           "trajectory": "Granger_46/46",
           "value": -0.17359293299475698
          },
          {
           "color_by": "Granger 46/46",
           "sample_id": 0,
           "timepoint": 86,
           "trajectory": "Granger_46/46",
           "value": 0.3841343020236865
          },
          {
           "color_by": "Granger 46/46",
           "sample_id": 0,
           "timepoint": 87,
           "trajectory": "Granger_46/46",
           "value": 1.0208725541323238
          },
          {
           "color_by": "Granger 46/46",
           "sample_id": 0,
           "timepoint": 88,
           "trajectory": "Granger_46/46",
           "value": 1.6975820911954025
          },
          {
           "color_by": "Granger 46/46",
           "sample_id": 0,
           "timepoint": 89,
           "trajectory": "Granger_46/46",
           "value": 2.3727332078900267
          },
          {
           "color_by": "Granger 46/46",
           "sample_id": 0,
           "timepoint": 90,
           "trajectory": "Granger_46/46",
           "value": 3.004888436811737
          },
          {
           "color_by": "Granger 46/46",
           "sample_id": 0,
           "timepoint": 91,
           "trajectory": "Granger_46/46",
           "value": 3.555279021700468
          },
          {
           "color_by": "Granger 46/46",
           "sample_id": 0,
           "timepoint": 92,
           "trajectory": "Granger_46/46",
           "value": 3.990215460286286
          },
          {
           "color_by": "Granger 46/46",
           "sample_id": 0,
           "timepoint": 93,
           "trajectory": "Granger_46/46",
           "value": 4.283182240994961
          },
          {
           "color_by": "Granger 46/46",
           "sample_id": 0,
           "timepoint": 94,
           "trajectory": "Granger_46/46",
           "value": 4.41648653304345
          },
          {
           "color_by": "Granger 46/46",
           "sample_id": 0,
           "timepoint": 95,
           "trajectory": "Granger_46/46",
           "value": 4.382358322467285
          },
          {
           "color_by": "Granger 46/46",
           "sample_id": 0,
           "timepoint": 96,
           "trajectory": "Granger_46/46",
           "value": 4.18343359305149
          },
          {
           "color_by": "Granger 46/46",
           "sample_id": 0,
           "timepoint": 97,
           "trajectory": "Granger_46/46",
           "value": 3.8325905104112183
          },
          {
           "color_by": "Granger 46/46",
           "sample_id": 0,
           "timepoint": 98,
           "trajectory": "Granger_46/46",
           "value": 3.3521487945938993
          },
          {
           "color_by": "Granger 46/46",
           "sample_id": 0,
           "timepoint": 99,
           "trajectory": "Granger_46/46",
           "value": 2.772482060423594
          },
          {
           "color_by": "Mean",
           "sample_id": 0,
           "timepoint": 0,
           "trajectory": "Mean",
           "value": 2.456971960596661
          },
          {
           "color_by": "Mean",
           "sample_id": 0,
           "timepoint": 1,
           "trajectory": "Mean",
           "value": 3.018654450520336
          },
          {
           "color_by": "Mean",
           "sample_id": 0,
           "timepoint": 2,
           "trajectory": "Mean",
           "value": 2.6331989579950195
          },
          {
           "color_by": "Mean",
           "sample_id": 0,
           "timepoint": 3,
           "trajectory": "Mean",
           "value": 2.0847878885680275
          },
          {
           "color_by": "Mean",
           "sample_id": 0,
           "timepoint": 4,
           "trajectory": "Mean",
           "value": 1.449019624118944
          },
          {
           "color_by": "Mean",
           "sample_id": 0,
           "timepoint": 5,
           "trajectory": "Mean",
           "value": 0.783248015846147
          },
          {
           "color_by": "Mean",
           "sample_id": 0,
           "timepoint": 6,
           "trajectory": "Mean",
           "value": 0.13951702325200688
          },
          {
           "color_by": "Mean",
           "sample_id": 0,
           "timepoint": 7,
           "trajectory": "Mean",
           "value": -0.4346578414231086
          },
          {
           "color_by": "Mean",
           "sample_id": 0,
           "timepoint": 8,
           "trajectory": "Mean",
           "value": -0.897785788065913
          },
          {
           "color_by": "Mean",
           "sample_id": 0,
           "timepoint": 9,
           "trajectory": "Mean",
           "value": -1.2163212628523197
          },
          {
           "color_by": "Mean",
           "sample_id": 0,
           "timepoint": 10,
           "trajectory": "Mean",
           "value": -1.3664055580116945
          },
          {
           "color_by": "Mean",
           "sample_id": 0,
           "timepoint": 11,
           "trajectory": "Mean",
           "value": -1.335151239475201
          },
          {
           "color_by": "Mean",
           "sample_id": 0,
           "timepoint": 12,
           "trajectory": "Mean",
           "value": -1.1213191439239247
          },
          {
           "color_by": "Mean",
           "sample_id": 0,
           "timepoint": 13,
           "trajectory": "Mean",
           "value": -0.7353130177361935
          },
          {
           "color_by": "Mean",
           "sample_id": 0,
           "timepoint": 14,
           "trajectory": "Mean",
           "value": -0.1984753506599226
          },
          {
           "color_by": "Mean",
           "sample_id": 0,
           "timepoint": 15,
           "trajectory": "Mean",
           "value": 0.4582810341604222
          },
          {
           "color_by": "Mean",
           "sample_id": 0,
           "timepoint": 16,
           "trajectory": "Mean",
           "value": 1.1964259267055113
          },
          {
           "color_by": "Mean",
           "sample_id": 0,
           "timepoint": 17,
           "trajectory": "Mean",
           "value": 1.9722310783023387
          },
          {
           "color_by": "Mean",
           "sample_id": 0,
           "timepoint": 18,
           "trajectory": "Mean",
           "value": 2.739507627512336
          },
          {
           "color_by": "Mean",
           "sample_id": 0,
           "timepoint": 19,
           "trajectory": "Mean",
           "value": 3.4524927917935297
          },
          {
           "color_by": "Mean",
           "sample_id": 0,
           "timepoint": 20,
           "trajectory": "Mean",
           "value": 4.068707290719899
          },
          {
           "color_by": "Mean",
           "sample_id": 0,
           "timepoint": 21,
           "trajectory": "Mean",
           "value": 4.55160650268867
          },
          {
           "color_by": "Mean",
           "sample_id": 0,
           "timepoint": 22,
           "trajectory": "Mean",
           "value": 4.872860994147611
          },
          {
           "color_by": "Mean",
           "sample_id": 0,
           "timepoint": 23,
           "trajectory": "Mean",
           "value": 5.014124976908316
          },
          {
           "color_by": "Mean",
           "sample_id": 0,
           "timepoint": 24,
           "trajectory": "Mean",
           "value": 4.968182998853875
          },
          {
           "color_by": "Mean",
           "sample_id": 0,
           "timepoint": 25,
           "trajectory": "Mean",
           "value": 4.7394037690954445
          },
          {
           "color_by": "Mean",
           "sample_id": 0,
           "timepoint": 26,
           "trajectory": "Mean",
           "value": 4.343473052367455
          },
          {
           "color_by": "Mean",
           "sample_id": 0,
           "timepoint": 27,
           "trajectory": "Mean",
           "value": 3.806422358160608
          },
          {
           "color_by": "Mean",
           "sample_id": 0,
           "timepoint": 28,
           "trajectory": "Mean",
           "value": 3.1630139093414367
          },
          {
           "color_by": "Mean",
           "sample_id": 0,
           "timepoint": 29,
           "trajectory": "Mean",
           "value": 2.4545823796526194
          },
          {
           "color_by": "Mean",
           "sample_id": 0,
           "timepoint": 30,
           "trajectory": "Mean",
           "value": 1.7264676505802277
          },
          {
           "color_by": "Mean",
           "sample_id": 0,
           "timepoint": 31,
           "trajectory": "Mean",
           "value": 1.0251982553551824
          },
          {
           "color_by": "Mean",
           "sample_id": 0,
           "timepoint": 32,
           "trajectory": "Mean",
           "value": 0.395600670182374
          },
          {
           "color_by": "Mean",
           "sample_id": 0,
           "timepoint": 33,
           "trajectory": "Mean",
           "value": -0.12198578366623103
          },
          {
           "color_by": "Mean",
           "sample_id": 0,
           "timepoint": 34,
           "trajectory": "Mean",
           "value": -0.494215235155544
          },
          {
           "color_by": "Mean",
           "sample_id": 0,
           "timepoint": 35,
           "trajectory": "Mean",
           "value": -0.6968069034960807
          },
          {
           "color_by": "Mean",
           "sample_id": 0,
           "timepoint": 36,
           "trajectory": "Mean",
           "value": -0.7160532585407116
          },
          {
           "color_by": "Mean",
           "sample_id": 0,
           "timepoint": 37,
           "trajectory": "Mean",
           "value": -0.5496709146425958
          },
          {
           "color_by": "Mean",
           "sample_id": 0,
           "timepoint": 38,
           "trajectory": "Mean",
           "value": -0.20694133913302126
          },
          {
           "color_by": "Mean",
           "sample_id": 0,
           "timepoint": 39,
           "trajectory": "Mean",
           "value": 0.2918673855157077
          },
          {
           "color_by": "Mean",
           "sample_id": 0,
           "timepoint": 40,
           "trajectory": "Mean",
           "value": 0.9167618044932184
          },
          {
           "color_by": "Mean",
           "sample_id": 0,
           "timepoint": 41,
           "trajectory": "Mean",
           "value": 1.62988892971725
          },
          {
           "color_by": "Mean",
           "sample_id": 0,
           "timepoint": 42,
           "trajectory": "Mean",
           "value": 2.3878906744015915
          },
          {
           "color_by": "Mean",
           "sample_id": 0,
           "timepoint": 43,
           "trajectory": "Mean",
           "value": 3.1446005028525548
          },
          {
           "color_by": "Mean",
           "sample_id": 0,
           "timepoint": 44,
           "trajectory": "Mean",
           "value": 3.8539146370752135
          },
          {
           "color_by": "Mean",
           "sample_id": 0,
           "timepoint": 45,
           "trajectory": "Mean",
           "value": 4.472659307937827
          },
          {
           "color_by": "Mean",
           "sample_id": 0,
           "timepoint": 46,
           "trajectory": "Mean",
           "value": 4.963275783940914
          },
          {
           "color_by": "Mean",
           "sample_id": 0,
           "timepoint": 47,
           "trajectory": "Mean",
           "value": 5.2961562397980755
          },
          {
           "color_by": "Mean",
           "sample_id": 0,
           "timepoint": 48,
           "trajectory": "Mean",
           "value": 5.45148523565284
          },
          {
           "color_by": "Mean",
           "sample_id": 0,
           "timepoint": 49,
           "trajectory": "Mean",
           "value": 5.420472316081553
          },
          {
           "color_by": "Mean",
           "sample_id": 0,
           "timepoint": 50,
           "trajectory": "Mean",
           "value": 5.205899094897098
          },
          {
           "color_by": "Mean",
           "sample_id": 0,
           "timepoint": 51,
           "trajectory": "Mean",
           "value": 4.8219468134077745
          },
          {
           "color_by": "Mean",
           "sample_id": 0,
           "timepoint": 52,
           "trajectory": "Mean",
           "value": 4.2933150961864355
          },
          {
           "color_by": "Mean",
           "sample_id": 0,
           "timepoint": 53,
           "trajectory": "Mean",
           "value": 3.6536866980688414
          },
          {
           "color_by": "Mean",
           "sample_id": 0,
           "timepoint": 54,
           "trajectory": "Mean",
           "value": 2.943633698984299
          },
          {
           "color_by": "Mean",
           "sample_id": 0,
           "timepoint": 55,
           "trajectory": "Mean",
           "value": 2.208095331101092
          },
          {
           "color_by": "Mean",
           "sample_id": 0,
           "timepoint": 56,
           "trajectory": "Mean",
           "value": 1.4935842564292678
          },
          {
           "color_by": "Mean",
           "sample_id": 0,
           "timepoint": 57,
           "trajectory": "Mean",
           "value": 0.8452949965093204
          },
          {
           "color_by": "Mean",
           "sample_id": 0,
           "timepoint": 58,
           "trajectory": "Mean",
           "value": 0.3042942993916067
          },
          {
           "color_by": "Mean",
           "sample_id": 0,
           "timepoint": 59,
           "trajectory": "Mean",
           "value": -0.09503186547180764
          },
          {
           "color_by": "Mean",
           "sample_id": 0,
           "timepoint": 60,
           "trajectory": "Mean",
           "value": -0.32711594978831693
          },
          {
           "color_by": "Mean",
           "sample_id": 0,
           "timepoint": 61,
           "trajectory": "Mean",
           "value": -0.37679819713170426
          },
          {
           "color_by": "Mean",
           "sample_id": 0,
           "timepoint": 62,
           "trajectory": "Mean",
           "value": -0.24026892146211098
          },
          {
           "color_by": "Mean",
           "sample_id": 0,
           "timepoint": 63,
           "trajectory": "Mean",
           "value": 0.07469489373792815
          },
          {
           "color_by": "Mean",
           "sample_id": 0,
           "timepoint": 64,
           "trajectory": "Mean",
           "value": 0.5492133871119838
          },
          {
           "color_by": "Mean",
           "sample_id": 0,
           "timepoint": 65,
           "trajectory": "Mean",
           "value": 1.1544779227900488
          },
          {
           "color_by": "Mean",
           "sample_id": 0,
           "timepoint": 66,
           "trajectory": "Mean",
           "value": 1.8535425060916202
          },
          {
           "color_by": "Mean",
           "sample_id": 0,
           "timepoint": 67,
           "trajectory": "Mean",
           "value": 2.603621130658655
          },
          {
           "color_by": "Mean",
           "sample_id": 0,
           "timepoint": 68,
           "trajectory": "Mean",
           "value": 3.3587482196921297
          },
          {
           "color_by": "Mean",
           "sample_id": 0,
           "timepoint": 69,
           "trajectory": "Mean",
           "value": 4.072636748489852
          },
          {
           "color_by": "Mean",
           "sample_id": 0,
           "timepoint": 70,
           "trajectory": "Mean",
           "value": 4.701556344577846
          },
          {
           "color_by": "Mean",
           "sample_id": 0,
           "timepoint": 71,
           "trajectory": "Mean",
           "value": 5.207052419581518
          },
          {
           "color_by": "Mean",
           "sample_id": 0,
           "timepoint": 72,
           "trajectory": "Mean",
           "value": 5.558337270826245
          },
          {
           "color_by": "Mean",
           "sample_id": 0,
           "timepoint": 73,
           "trajectory": "Mean",
           "value": 5.734204485960222
          },
          {
           "color_by": "Mean",
           "sample_id": 0,
           "timepoint": 74,
           "trajectory": "Mean",
           "value": 5.724347622573866
          },
          {
           "color_by": "Mean",
           "sample_id": 0,
           "timepoint": 75,
           "trajectory": "Mean",
           "value": 5.53000117405993
          },
          {
           "color_by": "Mean",
           "sample_id": 0,
           "timepoint": 76,
           "trajectory": "Mean",
           "value": 5.16386396989412
          },
          {
           "color_by": "Mean",
           "sample_id": 0,
           "timepoint": 77,
           "trajectory": "Mean",
           "value": 4.649309773246679
          },
          {
           "color_by": "Mean",
           "sample_id": 0,
           "timepoint": 78,
           "trajectory": "Mean",
           "value": 4.018934157432994
          },
          {
           "color_by": "Mean",
           "sample_id": 0,
           "timepoint": 79,
           "trajectory": "Mean",
           "value": 3.3125280096600465
          },
          {
           "color_by": "Mean",
           "sample_id": 0,
           "timepoint": 80,
           "trajectory": "Mean",
           "value": 2.574603660046135
          },
          {
           "color_by": "Mean",
           "sample_id": 0,
           "timepoint": 81,
           "trajectory": "Mean",
           "value": 1.8516274494693103
          },
          {
           "color_by": "Mean",
           "sample_id": 0,
           "timepoint": 82,
           "trajectory": "Mean",
           "value": 1.18913080199713
          },
          {
           "color_by": "Mean",
           "sample_id": 0,
           "timepoint": 83,
           "trajectory": "Mean",
           "value": 0.6288794216335556
          },
          {
           "color_by": "Mean",
           "sample_id": 0,
           "timepoint": 84,
           "trajectory": "Mean",
           "value": 0.20627661921774454
          },
          {
           "color_by": "Mean",
           "sample_id": 0,
           "timepoint": 85,
           "trajectory": "Mean",
           "value": -0.0518377817810074
          },
          {
           "color_by": "Mean",
           "sample_id": 0,
           "timepoint": 86,
           "trajectory": "Mean",
           "value": -0.128856107018557
          },
          {
           "color_by": "Mean",
           "sample_id": 0,
           "timepoint": 87,
           "trajectory": "Mean",
           "value": -0.019435311108814357
          },
          {
           "color_by": "Mean",
           "sample_id": 0,
           "timepoint": 88,
           "trajectory": "Mean",
           "value": 0.27017091921832215
          },
          {
           "color_by": "Mean",
           "sample_id": 0,
           "timepoint": 89,
           "trajectory": "Mean",
           "value": 0.722501087348399
          },
          {
           "color_by": "Mean",
           "sample_id": 0,
           "timepoint": 90,
           "trajectory": "Mean",
           "value": 1.3099716532429746
          },
          {
           "color_by": "Mean",
           "sample_id": 0,
           "timepoint": 91,
           "trajectory": "Mean",
           "value": 1.9965921365623638
          },
          {
           "color_by": "Mean",
           "sample_id": 0,
           "timepoint": 92,
           "trajectory": "Mean",
           "value": 2.740202919771004
          },
          {
           "color_by": "Mean",
           "sample_id": 0,
           "timepoint": 93,
           "trajectory": "Mean",
           "value": 3.495096615585911
          },
          {
           "color_by": "Mean",
           "sample_id": 0,
           "timepoint": 94,
           "trajectory": "Mean",
           "value": 4.21486001494939
          },
          {
           "color_by": "Mean",
           "sample_id": 0,
           "timepoint": 95,
           "trajectory": "Mean",
           "value": 4.855259917072652
          },
          {
           "color_by": "Mean",
           "sample_id": 0,
           "timepoint": 96,
           "trajectory": "Mean",
           "value": 5.376993414716895
          },
          {
           "color_by": "Mean",
           "sample_id": 0,
           "timepoint": 97,
           "trajectory": "Mean",
           "value": 5.748131635390076
          },
          {
           "color_by": "Mean",
           "sample_id": 0,
           "timepoint": 98,
           "trajectory": "Mean",
           "value": 5.946104998559211
          },
          {
           "color_by": "Mean",
           "sample_id": 0,
           "timepoint": 99,
           "trajectory": "Mean",
           "value": 5.959106555287019
          },
          {
           "color_by": "Variance",
           "sample_id": 0,
           "timepoint": 0,
           "trajectory": "Variance",
           "value": 2.456971960596661
          },
          {
           "color_by": "Variance",
           "sample_id": 0,
           "timepoint": 1,
           "trajectory": "Variance",
           "value": 3.018654450520336
          },
          {
           "color_by": "Variance",
           "sample_id": 0,
           "timepoint": 2,
           "trajectory": "Variance",
           "value": 2.6331989579950195
          },
          {
           "color_by": "Variance",
           "sample_id": 0,
           "timepoint": 3,
           "trajectory": "Variance",
           "value": 2.0847878885680275
          },
          {
           "color_by": "Variance",
           "sample_id": 0,
           "timepoint": 4,
           "trajectory": "Variance",
           "value": 1.449019624118944
          },
          {
           "color_by": "Variance",
           "sample_id": 0,
           "timepoint": 5,
           "trajectory": "Variance",
           "value": 0.783248015846147
          },
          {
           "color_by": "Variance",
           "sample_id": 0,
           "timepoint": 6,
           "trajectory": "Variance",
           "value": 0.13951702325200688
          },
          {
           "color_by": "Variance",
           "sample_id": 0,
           "timepoint": 7,
           "trajectory": "Variance",
           "value": -0.4346578414231086
          },
          {
           "color_by": "Variance",
           "sample_id": 0,
           "timepoint": 8,
           "trajectory": "Variance",
           "value": -0.897785788065913
          },
          {
           "color_by": "Variance",
           "sample_id": 0,
           "timepoint": 9,
           "trajectory": "Variance",
           "value": -1.2163212628523197
          },
          {
           "color_by": "Variance",
           "sample_id": 0,
           "timepoint": 10,
           "trajectory": "Variance",
           "value": -1.3664055580116945
          },
          {
           "color_by": "Variance",
           "sample_id": 0,
           "timepoint": 11,
           "trajectory": "Variance",
           "value": -1.335151239475201
          },
          {
           "color_by": "Variance",
           "sample_id": 0,
           "timepoint": 12,
           "trajectory": "Variance",
           "value": -1.1213191439239247
          },
          {
           "color_by": "Variance",
           "sample_id": 0,
           "timepoint": 13,
           "trajectory": "Variance",
           "value": -0.7353130177361935
          },
          {
           "color_by": "Variance",
           "sample_id": 0,
           "timepoint": 14,
           "trajectory": "Variance",
           "value": -0.1984753506599226
          },
          {
           "color_by": "Variance",
           "sample_id": 0,
           "timepoint": 15,
           "trajectory": "Variance",
           "value": 0.4582810341604222
          },
          {
           "color_by": "Variance",
           "sample_id": 0,
           "timepoint": 16,
           "trajectory": "Variance",
           "value": 1.1964259267055113
          },
          {
           "color_by": "Variance",
           "sample_id": 0,
           "timepoint": 17,
           "trajectory": "Variance",
           "value": 1.9722310783023387
          },
          {
           "color_by": "Variance",
           "sample_id": 0,
           "timepoint": 18,
           "trajectory": "Variance",
           "value": 2.739507627512336
          },
          {
           "color_by": "Variance",
           "sample_id": 0,
           "timepoint": 19,
           "trajectory": "Variance",
           "value": 3.4524927917935297
          },
          {
           "color_by": "Variance",
           "sample_id": 0,
           "timepoint": 20,
           "trajectory": "Variance",
           "value": 4.068707290719899
          },
          {
           "color_by": "Variance",
           "sample_id": 0,
           "timepoint": 21,
           "trajectory": "Variance",
           "value": 4.55160650268867
          },
          {
           "color_by": "Variance",
           "sample_id": 0,
           "timepoint": 22,
           "trajectory": "Variance",
           "value": 4.872860994147611
          },
          {
           "color_by": "Variance",
           "sample_id": 0,
           "timepoint": 23,
           "trajectory": "Variance",
           "value": 5.014124976908316
          },
          {
           "color_by": "Variance",
           "sample_id": 0,
           "timepoint": 24,
           "trajectory": "Variance",
           "value": 4.968182998853875
          },
          {
           "color_by": "Variance",
           "sample_id": 0,
           "timepoint": 25,
           "trajectory": "Variance",
           "value": 4.7394037690954445
          },
          {
           "color_by": "Variance",
           "sample_id": 0,
           "timepoint": 26,
           "trajectory": "Variance",
           "value": 4.343473052367455
          },
          {
           "color_by": "Variance",
           "sample_id": 0,
           "timepoint": 27,
           "trajectory": "Variance",
           "value": 3.806422358160608
          },
          {
           "color_by": "Variance",
           "sample_id": 0,
           "timepoint": 28,
           "trajectory": "Variance",
           "value": 3.1630139093414367
          },
          {
           "color_by": "Variance",
           "sample_id": 0,
           "timepoint": 29,
           "trajectory": "Variance",
           "value": 2.4545823796526194
          },
          {
           "color_by": "Variance",
           "sample_id": 0,
           "timepoint": 30,
           "trajectory": "Variance",
           "value": 1.7264676505802277
          },
          {
           "color_by": "Variance",
           "sample_id": 0,
           "timepoint": 31,
           "trajectory": "Variance",
           "value": 1.0251982553551824
          },
          {
           "color_by": "Variance",
           "sample_id": 0,
           "timepoint": 32,
           "trajectory": "Variance",
           "value": 0.395600670182374
          },
          {
           "color_by": "Variance",
           "sample_id": 0,
           "timepoint": 33,
           "trajectory": "Variance",
           "value": -0.12198578366623103
          },
          {
           "color_by": "Variance",
           "sample_id": 0,
           "timepoint": 34,
           "trajectory": "Variance",
           "value": -0.494215235155544
          },
          {
           "color_by": "Variance",
           "sample_id": 0,
           "timepoint": 35,
           "trajectory": "Variance",
           "value": -0.6968069034960807
          },
          {
           "color_by": "Variance",
           "sample_id": 0,
           "timepoint": 36,
           "trajectory": "Variance",
           "value": -0.7160532585407116
          },
          {
           "color_by": "Variance",
           "sample_id": 0,
           "timepoint": 37,
           "trajectory": "Variance",
           "value": -0.5496709146425958
          },
          {
           "color_by": "Variance",
           "sample_id": 0,
           "timepoint": 38,
           "trajectory": "Variance",
           "value": -0.20694133913302126
          },
          {
           "color_by": "Variance",
           "sample_id": 0,
           "timepoint": 39,
           "trajectory": "Variance",
           "value": 0.2918673855157077
          },
          {
           "color_by": "Variance",
           "sample_id": 0,
           "timepoint": 40,
           "trajectory": "Variance",
           "value": 0.9167618044932184
          },
          {
           "color_by": "Variance",
           "sample_id": 0,
           "timepoint": 41,
           "trajectory": "Variance",
           "value": 1.62988892971725
          },
          {
           "color_by": "Variance",
           "sample_id": 0,
           "timepoint": 42,
           "trajectory": "Variance",
           "value": 2.3878906744015915
          },
          {
           "color_by": "Variance",
           "sample_id": 0,
           "timepoint": 43,
           "trajectory": "Variance",
           "value": 3.1446005028525548
          },
          {
           "color_by": "Variance",
           "sample_id": 0,
           "timepoint": 44,
           "trajectory": "Variance",
           "value": 3.8539146370752135
          },
          {
           "color_by": "Variance",
           "sample_id": 0,
           "timepoint": 45,
           "trajectory": "Variance",
           "value": 4.472659307937827
          },
          {
           "color_by": "Variance",
           "sample_id": 0,
           "timepoint": 46,
           "trajectory": "Variance",
           "value": 4.963275783940914
          },
          {
           "color_by": "Variance",
           "sample_id": 0,
           "timepoint": 47,
           "trajectory": "Variance",
           "value": 5.2961562397980755
          },
          {
           "color_by": "Variance",
           "sample_id": 0,
           "timepoint": 48,
           "trajectory": "Variance",
           "value": 5.45148523565284
          },
          {
           "color_by": "Variance",
           "sample_id": 0,
           "timepoint": 49,
           "trajectory": "Variance",
           "value": 5.420472316081553
          },
          {
           "color_by": "Variance",
           "sample_id": 0,
           "timepoint": 50,
           "trajectory": "Variance",
           "value": 5.205899094897098
          },
          {
           "color_by": "Variance",
           "sample_id": 0,
           "timepoint": 51,
           "trajectory": "Variance",
           "value": 4.8219468134077745
          },
          {
           "color_by": "Variance",
           "sample_id": 0,
           "timepoint": 52,
           "trajectory": "Variance",
           "value": 4.2933150961864355
          },
          {
           "color_by": "Variance",
           "sample_id": 0,
           "timepoint": 53,
           "trajectory": "Variance",
           "value": 3.6536866980688414
          },
          {
           "color_by": "Variance",
           "sample_id": 0,
           "timepoint": 54,
           "trajectory": "Variance",
           "value": 2.943633698984299
          },
          {
           "color_by": "Variance",
           "sample_id": 0,
           "timepoint": 55,
           "trajectory": "Variance",
           "value": 2.208095331101092
          },
          {
           "color_by": "Variance",
           "sample_id": 0,
           "timepoint": 56,
           "trajectory": "Variance",
           "value": 1.4935842564292678
          },
          {
           "color_by": "Variance",
           "sample_id": 0,
           "timepoint": 57,
           "trajectory": "Variance",
           "value": 0.8452949965093204
          },
          {
           "color_by": "Variance",
           "sample_id": 0,
           "timepoint": 58,
           "trajectory": "Variance",
           "value": 0.3042942993916067
          },
          {
           "color_by": "Variance",
           "sample_id": 0,
           "timepoint": 59,
           "trajectory": "Variance",
           "value": -0.09503186547180764
          },
          {
           "color_by": "Variance",
           "sample_id": 0,
           "timepoint": 60,
           "trajectory": "Variance",
           "value": -0.32711594978831693
          },
          {
           "color_by": "Variance",
           "sample_id": 0,
           "timepoint": 61,
           "trajectory": "Variance",
           "value": -0.37679819713170426
          },
          {
           "color_by": "Variance",
           "sample_id": 0,
           "timepoint": 62,
           "trajectory": "Variance",
           "value": -0.24026892146211098
          },
          {
           "color_by": "Variance",
           "sample_id": 0,
           "timepoint": 63,
           "trajectory": "Variance",
           "value": 0.07469489373792815
          },
          {
           "color_by": "Variance",
           "sample_id": 0,
           "timepoint": 64,
           "trajectory": "Variance",
           "value": 0.5492133871119838
          },
          {
           "color_by": "Variance",
           "sample_id": 0,
           "timepoint": 65,
           "trajectory": "Variance",
           "value": 1.1544779227900488
          },
          {
           "color_by": "Variance",
           "sample_id": 0,
           "timepoint": 66,
           "trajectory": "Variance",
           "value": 1.8535425060916202
          },
          {
           "color_by": "Variance",
           "sample_id": 0,
           "timepoint": 67,
           "trajectory": "Variance",
           "value": 2.603621130658655
          },
          {
           "color_by": "Variance",
           "sample_id": 0,
           "timepoint": 68,
           "trajectory": "Variance",
           "value": 3.3587482196921297
          },
          {
           "color_by": "Variance",
           "sample_id": 0,
           "timepoint": 69,
           "trajectory": "Variance",
           "value": 4.072636748489852
          },
          {
           "color_by": "Variance",
           "sample_id": 0,
           "timepoint": 70,
           "trajectory": "Variance",
           "value": 4.701556344577846
          },
          {
           "color_by": "Variance",
           "sample_id": 0,
           "timepoint": 71,
           "trajectory": "Variance",
           "value": 5.207052419581518
          },
          {
           "color_by": "Variance",
           "sample_id": 0,
           "timepoint": 72,
           "trajectory": "Variance",
           "value": 5.558337270826245
          },
          {
           "color_by": "Variance",
           "sample_id": 0,
           "timepoint": 73,
           "trajectory": "Variance",
           "value": 5.734204485960222
          },
          {
           "color_by": "Variance",
           "sample_id": 0,
           "timepoint": 74,
           "trajectory": "Variance",
           "value": 5.724347622573866
          },
          {
           "color_by": "Variance",
           "sample_id": 0,
           "timepoint": 75,
           "trajectory": "Variance",
           "value": 5.53000117405993
          },
          {
           "color_by": "Variance",
           "sample_id": 0,
           "timepoint": 76,
           "trajectory": "Variance",
           "value": 5.16386396989412
          },
          {
           "color_by": "Variance",
           "sample_id": 0,
           "timepoint": 77,
           "trajectory": "Variance",
           "value": 4.649309773246679
          },
          {
           "color_by": "Variance",
           "sample_id": 0,
           "timepoint": 78,
           "trajectory": "Variance",
           "value": 4.018934157432994
          },
          {
           "color_by": "Variance",
           "sample_id": 0,
           "timepoint": 79,
           "trajectory": "Variance",
           "value": 3.3125280096600465
          },
          {
           "color_by": "Variance",
           "sample_id": 0,
           "timepoint": 80,
           "trajectory": "Variance",
           "value": 2.574603660046135
          },
          {
           "color_by": "Variance",
           "sample_id": 0,
           "timepoint": 81,
           "trajectory": "Variance",
           "value": 1.8516274494693103
          },
          {
           "color_by": "Variance",
           "sample_id": 0,
           "timepoint": 82,
           "trajectory": "Variance",
           "value": 1.18913080199713
          },
          {
           "color_by": "Variance",
           "sample_id": 0,
           "timepoint": 83,
           "trajectory": "Variance",
           "value": 0.6288794216335556
          },
          {
           "color_by": "Variance",
           "sample_id": 0,
           "timepoint": 84,
           "trajectory": "Variance",
           "value": 0.20627661921774454
          },
          {
           "color_by": "Variance",
           "sample_id": 0,
           "timepoint": 85,
           "trajectory": "Variance",
           "value": -0.0518377817810074
          },
          {
           "color_by": "Variance",
           "sample_id": 0,
           "timepoint": 86,
           "trajectory": "Variance",
           "value": -0.128856107018557
          },
          {
           "color_by": "Variance",
           "sample_id": 0,
           "timepoint": 87,
           "trajectory": "Variance",
           "value": -0.019435311108814357
          },
          {
           "color_by": "Variance",
           "sample_id": 0,
           "timepoint": 88,
           "trajectory": "Variance",
           "value": 0.27017091921832215
          },
          {
           "color_by": "Variance",
           "sample_id": 0,
           "timepoint": 89,
           "trajectory": "Variance",
           "value": 0.722501087348399
          },
          {
           "color_by": "Variance",
           "sample_id": 0,
           "timepoint": 90,
           "trajectory": "Variance",
           "value": 1.3099716532429746
          },
          {
           "color_by": "Variance",
           "sample_id": 0,
           "timepoint": 91,
           "trajectory": "Variance",
           "value": 1.9965921365623638
          },
          {
           "color_by": "Variance",
           "sample_id": 0,
           "timepoint": 92,
           "trajectory": "Variance",
           "value": 2.740202919771004
          },
          {
           "color_by": "Variance",
           "sample_id": 0,
           "timepoint": 93,
           "trajectory": "Variance",
           "value": 3.495096615585911
          },
          {
           "color_by": "Variance",
           "sample_id": 0,
           "timepoint": 94,
           "trajectory": "Variance",
           "value": 4.21486001494939
          },
          {
           "color_by": "Variance",
           "sample_id": 0,
           "timepoint": 95,
           "trajectory": "Variance",
           "value": 4.855259917072652
          },
          {
           "color_by": "Variance",
           "sample_id": 0,
           "timepoint": 96,
           "trajectory": "Variance",
           "value": 5.376993414716895
          },
          {
           "color_by": "Variance",
           "sample_id": 0,
           "timepoint": 97,
           "trajectory": "Variance",
           "value": 5.748131635390076
          },
          {
           "color_by": "Variance",
           "sample_id": 0,
           "timepoint": 98,
           "trajectory": "Variance",
           "value": 5.946104998559211
          },
          {
           "color_by": "Variance",
           "sample_id": 0,
           "timepoint": 99,
           "trajectory": "Variance",
           "value": 5.959106555287019
          }
         ]
        },
        {
         "name": "points",
         "values": []
        },
        {
         "name": "markers",
         "values": []
        },
        {
         "name": "selected",
         "on": [
          {
           "remove": true,
           "trigger": "clear"
          },
          {
           "remove": true,
           "trigger": "!shift"
          },
          {
           "insert": "clicked",
           "trigger": "!shift && clicked"
          },
          {
           "toggle": "clicked",
           "trigger": "shift && clicked"
          }
         ]
        },
        {
         "name": "selectedData",
         "on": [
          {
           "remove": true,
           "trigger": "clearData"
          },
          {
           "toggle": "clickedData",
           "trigger": "clickedData"
          }
         ]
        }
       ],
       "height": 300,
       "legends": [
        {
         "encode": {
          "labels": {
           "interactive": true,
           "name": "legendLabel",
           "update": {
            "opacity": [
             {
              "test": "!length(data('selectedData')) || indata('selectedData', 'value', datum.value)",
              "value": 1
             },
             {
              "value": 0.25
             }
            ]
           }
          },
          "symbols": {
           "interactive": true,
           "name": "legendSymbol",
           "update": {
            "fill": {
             "value": "transparent"
            },
            "opacity": [
             {
              "test": "!length(data('selected')) || indata('selected', 'value', datum.value) || indata('selectedData', 'value', datum.value)",
              "value": 0.7
             },
             {
              "value": 0.15
             }
            ],
            "size": {
             "value": 64
            },
            "strokeWidth": {
             "value": 2
            }
           }
          }
         },
         "name": "color_legend",
         "orient": "left",
         "stroke": "color"
        }
       ],
       "marks": [
        {
         "from": {
          "facet": {
           "data": "points",
           "groupby": "trajectory",
           "name": "points_split"
          }
         },
         "marks": [
          {
           "encode": {
            "hover": {
             "fillOpacity": {
              "value": 0.9
             }
            },
            "update": {
             "fill": {
              "field": "trajectory",
              "scale": "color"
             },
             "fillOpacity": [
              {
               "test": "!length(data('selected')) || indata('selected', 'value', datum.trajectory)",
               "value": 0.5
              },
              {
               "value": 0.15
              }
             ],
             "size": {
              "value": 35
             },
             "stroke": {
              "field": "trajectory",
              "scale": "color"
             },
             "strokeOpacity": [
              {
               "test": "!length(data('selected')) || indata('selected', 'value', datum.trajectory)",
               "value": 0.75
              },
              {
               "value": 0.15
              }
             ],
             "strokeWidth": {
              "value": 2
             },
             "tooltip": {
              "field": "value"
             },
             "x": {
              "field": "timepoint",
              "scale": "xscale"
             },
             "y": {
              "field": "value",
              "scale": "yscale"
             }
            }
           },
           "from": {
            "data": "points_split"
           },
           "name": "_points_symbol",
           "type": "symbol",
           "zindex": 3
          },
          {
           "encode": {
            "hover": {
             "fillOpacity": {
              "value": 0.9
             }
            },
            "update": {
             "interpolate": {
              "value": "linear"
             },
             "stroke": {
              "field": "trajectory",
              "scale": "color"
             },
             "strokeDash": {
              "value": [
               5,
               3
              ]
             },
             "strokeOpacity": [
              {
               "test": "!length(data('selected')) || indata('selected', 'value', datum.trajectory)",
               "value": 0.3
              },
              {
               "value": 0.1
              }
             ],
             "strokeWidth": {
              "value": 2
             },
             "x": {
              "field": "timepoint",
              "scale": "xscale"
             },
             "y": {
              "field": "value",
              "scale": "yscale"
             }
            }
           },
           "from": {
            "data": "points_split"
           },
           "name": "_points_line",
           "type": "line",
           "zindex": 3
          }
         ],
         "name": "_points",
         "type": "group",
         "zindex": 3
        },
        {
         "from": {
          "facet": {
           "data": "traces",
           "groupby": "trajectory",
           "name": "traces_split"
          }
         },
         "marks": [
          {
           "encode": {
            "hover": {
             "fillOpacity": {
              "value": 0.9
             }
            },
            "update": {
             "interpolate": {
              "value": "linear"
             },
             "stroke": {
              "field": "trajectory",
              "scale": "color"
             },
             "strokeDash": [
              {
               "test": "indexof(datum.trajectory, 'aseline') == -1",
               "value": [
                1,
                0
               ]
              },
              {
               "value": [
                8,
                4
               ]
              }
             ],
             "strokeOpacity": [
              {
               "test": "!length(data('selected')) || indata('selected', 'value', datum.trajectory)",
               "value": 0.75
              },
              {
               "value": 0.15
              }
             ],
             "strokeWidth": {
              "value": 2
             },
             "x": {
              "field": "timepoint",
              "scale": "xscale"
             },
             "y": {
              "field": "value",
              "scale": "yscale"
             }
            }
           },
           "from": {
            "data": "traces_split"
           },
           "name": "_traces_lines",
           "type": "line"
          }
         ],
         "name": "_traces",
         "type": "group",
         "zindex": 2
        },
        {
         "from": {
          "facet": {
           "data": "distributions",
           "groupby": "trajectory",
           "name": "trajectory_split"
          }
         },
         "marks": [
          {
           "encode": {
            "hover": {
             "fillOpacity": {
              "value": 0.9
             }
            },
            "update": {
             "fill": {
              "field": "trajectory",
              "scale": "color"
             },
             "fillOpacity": [
              {
               "test": "!length(data('selected')) || indata('selected', 'value', datum.trajectory)",
               "value": 0.1
              },
              {
               "value": 0.05
              }
             ],
             "interpolate": {
              "value": "linear"
             },
             "stroke": {
              "field": "trajectory",
              "scale": "color"
             },
             "strokeOpacity": [
              {
               "test": "!length(data('selected')) || indata('selected', 'value', datum.trajectory)",
               "value": 0.1
              },
              {
               "value": 0.05
              }
             ],
             "strokeWidth": {
              "value": 2
             },
             "x": {
              "field": "timepoint",
              "scale": "xscale"
             },
             "y": {
              "field": "upper",
              "scale": "yscale"
             },
             "y2": {
              "field": "lower",
              "scale": "yscale"
             }
            }
           },
           "from": {
            "data": "trajectory_split"
           },
           "interactive": true,
           "name": "area",
           "type": "area"
          }
         ],
         "name": "_distributions",
         "type": "group",
         "zindex": 1
        },
        {
         "marks": [
          {
           "encode": {
            "enter": {
             "stroke": {
              "value": "lightgray"
             }
            },
            "update": {
             "opacity": {
              "value": 1
             },
             "x": {
              "field": "timepoint",
              "scale": "xscale"
             },
             "y": {
              "signal": "height"
             },
             "y2": {
              "value": 0
             }
            }
           },
           "from": {
            "data": "markers"
           },
           "name": "_marker text",
           "type": "rule"
          },
          {
           "encode": {
            "enter": {
             "fontSize": {
              "value": 8
             },
             "text": {
              "field": "datum.label"
             },
             "y": {
              "value": 0
             }
            }
           },
           "from": {
            "data": "_marker text"
           },
           "name": "_marker flags",
           "transform": [
            {
             "as": [
              "x",
              "_y",
              "opacity",
              "align",
              "baseline"
             ],
             "lineAnchor": "start",
             "offset": [
              1
             ],
             "size": {
              "signal": "[width, height]"
             },
             "type": "label"
            }
           ],
           "type": "text"
          }
         ],
         "name": "_markers",
         "type": "group"
        }
       ],
       "scales": [
        {
         "domain": {
          "fields": [
           {
            "data": "distributions",
            "field": "timepoint"
           },
           {
            "data": "traces",
            "field": "timepoint"
           },
           {
            "data": "points",
            "field": "timepoint"
           },
           {
            "data": "markers",
            "field": "timepoint"
           }
          ]
         },
         "name": "xscale",
         "range": "width",
         "type": "linear",
         "zero": false
        },
        {
         "domain": {
          "fields": [
           {
            "data": "distributions",
            "field": "lower"
           },
           {
            "data": "distributions",
            "field": "upper"
           },
           {
            "data": "traces",
            "field": "value"
           },
           {
            "data": "points",
            "field": "value"
           }
          ]
         },
         "name": "yscale",
         "nice": true,
         "range": "height",
         "type": "linear",
         "zero": true
        },
        {
         "domain": {
          "fields": [
           {
            "data": "distributions",
            "field": "trajectory"
           },
           {
            "data": "traces",
            "field": "trajectory"
           },
           {
            "data": "points",
            "field": "trajectory"
           }
          ],
          "sort": {
           "order": "ascending"
          }
         },
         "name": "color",
         "range": "category",
         "type": "ordinal"
        }
       ],
       "signals": [
        {
         "name": "clear",
         "on": [
          {
           "events": "mouseup[!event.item]",
           "force": true,
           "update": "true"
          }
         ],
         "value": true
        },
        {
         "name": "shift",
         "on": [
          {
           "events": "@legendSymbol:click, @legendLabel:click",
           "force": true,
           "update": "event.shiftKey"
          }
         ],
         "value": false
        },
        {
         "name": "clicked",
         "on": [
          {
           "events": "@legendSymbol:click, @legendLabel:click",
           "force": true,
           "update": "{value: datum.value}"
          }
         ],
         "value": null
        },
        {
         "name": "clearData",
         "on": [
          {
           "events": "mouseup[!event.item]",
           "force": true,
           "update": "true"
          }
         ],
         "value": true
        },
        {
         "name": "clickedData",
         "on": [
          {
           "events": "@area:click",
           "force": true,
           "update": "{value: datum.trajectory}"
          }
         ],
         "value": null
        }
       ],
       "width": 500
      }
     },
     "metadata": {},
     "output_type": "display_data"
    }
   ],
   "source": [
    "\n",
    "name = \"all_cluster\"\n",
    "timepoint_list = []\n",
    "sine_list = []\n",
    "sample_list = []\n",
    "\n",
    "\n",
    "def save_result(data, name, ref_ext):\n",
    "    \"\"\"Save new reference files\"\"\"\n",
    "    _output_root = 'output'\n",
    "    mode = \"w\" if ref_ext == \"svg\" else \"wb\"\n",
    "    with open(os.path.join(_output_root, f\"{name}.{ref_ext}\"), mode) as f:\n",
    "        f.write(data)\n",
    "\n",
    "# create sine fucntions\n",
    "def return_sine_function_3(function_name):\n",
    "        if function_name == \"Straight\":\n",
    "                a, b, c, d = 0, 0, 0, np.random.randn()\n",
    "                a2, b2, c2, d2 = 0, 0, 0, 0\n",
    "        if function_name == \"Sine_1a\":\n",
    "                a, b, c, d = 1*(np.random.randn() + 1), .25, np.pi, np.random.randn()\n",
    "                a2, b2, c2, d2 = 1, .25, np.pi, 0\n",
    "        if function_name == \"Sine_2b\":\n",
    "                a, b, c, d = 2, .25*(np.random.randn() + 1), np.pi, np.random.randn()\n",
    "                a2, b2, c2, d2 = 2, .25, np.pi, 0\n",
    "        if function_name == \"Sine_3c\":\n",
    "                a, b, c, d = 3, .25, np.pi*(np.random.randn() + 1), np.random.randn()\n",
    "                a2, b2, c2, d2 = 3, .25, np.pi, 0\n",
    "        def sine_function(x):\n",
    "                return np.power(x, .25) + a*np.sin(b*x + c) + d\n",
    "        def sine_function_default(x):\n",
    "                return np.power(x, .25) + a2*np.sin(b2*x + c2) + d2\n",
    "        function_parameters_individual = {'a': a,  'b': b, 'c': c,  'd': d}\n",
    "        function_parameters_default = {'a': a2, 'b': b2, 'c': c2, 'd': d2}\n",
    "        \n",
    "        return sine_function, sine_function_default, function_parameters_individual, function_parameters_default\n",
    "\n",
    "function_dataframe = pd.DataFrame(columns=['functions', 'sample_id', 'a', 'b',  'c',  'd'])\n",
    "function_list = []\n",
    "j = 0\n",
    "all_functions ={}\n",
    "\n",
    "# create sine dataframes and save the parameters used\n",
    "for funct_name in [\"Straight\", \"Sine_1a\", \"Sine_2b\", \"Sine_3c\"]:\n",
    "        for _ in range(100):\n",
    "                j+=1\n",
    "                timepoint_list.extend([x for x in range(100)])\n",
    "                sample_list.extend([j]*100)\n",
    "                random_function,  sine_function_default, function_parameters_individual, function_parameters_default = return_sine_function_3(funct_name)\n",
    "\n",
    "                function_parameters_individual['functions'] = funct_name\n",
    "                function_parameters_individual['sample_id'] = j\n",
    "                function_list.append(function_parameters_individual)\n",
    "                sine_list.extend([random_function(x) for x in range(100)])\n",
    "        all_functions[funct_name] = sine_function_default \n",
    "        function_parameters_default['functions'] = funct_name + \" Default\"\n",
    "        function_parameters_default['sample_id'] = None\n",
    "\n",
    "#keep track of parameters\n",
    "function_dataframe = pd.DataFrame(function_list)\n",
    "function_default_dataframe =  pd.DataFrame(function_parameters_default, index=[0])\n",
    "\n",
    "\n",
    "sine_distribution= pd.DataFrame({'timepoint_id' : timepoint_list,\n",
    "                   'sample_id' : sample_list,\n",
    "                   'Example': sine_list})\n",
    "\n",
    "\n",
    "traces_list = []   \n",
    "\n",
    "# get examplary lines\n",
    "#change kmean here to use clustering\n",
    "examplary_line, trajectory_dict = pyciemss.visuals.trajectories.select_traces(sine_distribution, kmean=True)\n",
    "# get the sample'id for the examplary data used per sample_id and select_by\n",
    "best_samples_cluster = examplary_line[['sample_id', 'select_by', 'cluster']].drop_duplicates()\n",
    "best_samples_df_list = []\n",
    "\n",
    "# for each cluster create a new plot\n",
    "for cluster in list(np.unique(examplary_line['cluster'])): \n",
    "        # for distribution only use the sample_ids in the cluster\n",
    "       \n",
    "        cluster_sample_id = trajectory_dict[cluster.lower()]['cluster_sample_id']  \n",
    "        cluster_sine_distribution =  sine_distribution[sine_distribution[\"sample_id\"].isin(cluster_sample_id)]\n",
    "        current_cluster_df = examplary_line[examplary_line['cluster'] == cluster]\n",
    "        current_cluster_df = current_cluster_df.reset_index()\n",
    "        # get right format to use as traces\n",
    "        examplary_lines_pivot = current_cluster_df[['examplary_line', 'mean_trajectory', 'timepoint', 'select_by']].pivot_table(\n",
    "        values=\"examplary_line\", index = [\"timepoint\", 'mean_trajectory'], columns=\"select_by\"\n",
    "        )\n",
    "        examplary_lines_pivot = examplary_lines_pivot.reset_index()\n",
    "        examplary_lines_pivot = examplary_lines_pivot.rename(columns = {'mean_trajectory': 'Baseline_Trajectory_Mean'})\n",
    "\n",
    "        # # get baseline for sine functions\n",
    "        # for function_name, function in all_functions.items():\n",
    "        #         examplary_lines_pivot[\"Baseline_\" + function_name.title()] = [function(x) for x in range(100)]\n",
    "        # plot the traces along with the baselines\n",
    "        schema = plots.trajectories(cluster_sine_distribution[['timepoint_id', 'sample_id', 'Example']], traces = examplary_lines_pivot)\n",
    "        path = \"{}_{}\".format(name, cluster)\n",
    "        image = plots.ipy_display(schema, format=\"PNG\").data\n",
    "        save_result(image, path, \"png\")\n",
    "        plots.ipy_display(schema, format=\"interactive\")\n",
    "\n",
    "# clean up table to get the parameters of the samples id's used for examplary\n",
    "all_clusters = best_samples_cluster.merge(function_dataframe, how=\"inner\", on=\"sample_id\")\n",
    "all_clusters = pd.concat([all_clusters, function_default_dataframe])[['functions', 'select_by', 'a', 'b', 'c', 'd']]\n",
    "all_clusters = all_clusters.rename(columns = {'functions': 'Function Name', 'select_by': \"Selection Method\"})\n",
    "all_clusters[\"Function Name\"] = all_clusters[\"Function Name\"].apply(lambda x: x.replace(\"_\", \" \").title())\n",
    "all_clusters[\"Examplar #\"] = all_clusters[\"Selection Method\"].apply(lambda x: 1 if len(str(x).split(\"_\")) < 2 else str(x).split(\"_\")[1])\n",
    "all_clusters[\"Selection Method\"] = all_clusters[\"Selection Method\"].apply(lambda x:  str(x).split(\"_\")[0])\n",
    "all_clusters = all_clusters.round(2)\n",
    "\n",
    "\n",
    "all_clusters.to_csv(\"output/{}.csv\".format(name))\n",
    "# table with sine variables of starting function and the formula of the best select_by lines and metrics1"
   ]
  },
  {
   "cell_type": "code",
   "execution_count": 1,
   "metadata": {},
   "outputs": [
    {
     "ename": "NameError",
     "evalue": "name 'pyciemss' is not defined",
     "output_type": "error",
     "traceback": [
      "\u001b[0;31m---------------------------------------------------------------------------\u001b[0m",
      "\u001b[0;31mNameError\u001b[0m                                 Traceback (most recent call last)",
      "Cell \u001b[0;32mIn[1], line 29\u001b[0m\n\u001b[1;32m     21\u001b[0m             num_timepoints \u001b[38;5;241m=\u001b[39m e\u001b[38;5;241m.\u001b[39mshape[\u001b[38;5;241m1\u001b[39m]\n\u001b[1;32m     23\u001b[0m     \u001b[38;5;28;01mreturn\u001b[39;00m convert_to_output_format(\n\u001b[1;32m     24\u001b[0m         sample,\n\u001b[1;32m     25\u001b[0m         timepoints\u001b[38;5;241m=\u001b[39mnp\u001b[38;5;241m.\u001b[39mlinspace(start_time, end_time, num_timepoints),\n\u001b[1;32m     26\u001b[0m         time_unit\u001b[38;5;241m=\u001b[39m\u001b[38;5;124m\"\u001b[39m\u001b[38;5;124mnotional\u001b[39m\u001b[38;5;124m\"\u001b[39m,\n\u001b[1;32m     27\u001b[0m     )\n\u001b[0;32m---> 29\u001b[0m distributions \u001b[38;5;241m=\u001b[39m \u001b[43mdistributions\u001b[49m\u001b[43m(\u001b[49m\u001b[43m)\u001b[49m\n\u001b[1;32m     30\u001b[0m \u001b[38;5;28mprint\u001b[39m(distributions\u001b[38;5;241m.\u001b[39mhead())\n\u001b[1;32m     31\u001b[0m \u001b[38;5;28mprint\u001b[39m(distributions\u001b[38;5;241m.\u001b[39mcolumns)\n",
      "Cell \u001b[0;32mIn[1], line 10\u001b[0m, in \u001b[0;36mdistributions\u001b[0;34m()\u001b[0m\n\u001b[1;32m      8\u001b[0m logging_step_size \u001b[38;5;241m=\u001b[39m \u001b[38;5;241m1\u001b[39m\n\u001b[1;32m      9\u001b[0m num_samples \u001b[38;5;241m=\u001b[39m \u001b[38;5;241m30\u001b[39m\n\u001b[0;32m---> 10\u001b[0m sample \u001b[38;5;241m=\u001b[39m \u001b[43mpyciemss\u001b[49m\u001b[38;5;241m.\u001b[39msample(\n\u001b[1;32m     11\u001b[0m     model_1_path,\n\u001b[1;32m     12\u001b[0m     end_time,\n\u001b[1;32m     13\u001b[0m     logging_step_size,\n\u001b[1;32m     14\u001b[0m     num_samples,\n\u001b[1;32m     15\u001b[0m     start_time\u001b[38;5;241m=\u001b[39mstart_time,\n\u001b[1;32m     16\u001b[0m     solver_method\u001b[38;5;241m=\u001b[39m\u001b[38;5;124m\"\u001b[39m\u001b[38;5;124meuler\u001b[39m\u001b[38;5;124m\"\u001b[39m,\n\u001b[1;32m     17\u001b[0m )[\u001b[38;5;124m\"\u001b[39m\u001b[38;5;124munprocessed_result\u001b[39m\u001b[38;5;124m\"\u001b[39m]\n\u001b[1;32m     19\u001b[0m \u001b[38;5;28;01mfor\u001b[39;00m e \u001b[38;5;129;01min\u001b[39;00m sample\u001b[38;5;241m.\u001b[39mvalues():\n\u001b[1;32m     20\u001b[0m     \u001b[38;5;28;01mif\u001b[39;00m \u001b[38;5;28mlen\u001b[39m(e\u001b[38;5;241m.\u001b[39mshape) \u001b[38;5;241m>\u001b[39m \u001b[38;5;241m1\u001b[39m:\n",
      "\u001b[0;31mNameError\u001b[0m: name 'pyciemss' is not defined"
     ]
    }
   ],
   "source": [
    "def distributions():\n",
    "    model_1_path = (\n",
    "            \"https://raw.githubusercontent.com/DARPA-ASKEM/simulation-integration\"\n",
    "            \"/main/data/models/SEIRHD_NPI_Type1_petrinet.json\"\n",
    "    )\n",
    "    start_time = 0.0\n",
    "    end_time = 100.0\n",
    "    logging_step_size = 1\n",
    "    num_samples = 30\n",
    "    sample = pyciemss.sample(\n",
    "        model_1_path,\n",
    "        end_time,\n",
    "        logging_step_size,\n",
    "        num_samples,\n",
    "        start_time=start_time,\n",
    "        solver_method=\"euler\",\n",
    "    )[\"unprocessed_result\"]\n",
    "\n",
    "    for e in sample.values():\n",
    "        if len(e.shape) > 1:\n",
    "            num_timepoints = e.shape[1]\n",
    "\n",
    "    return convert_to_output_format(\n",
    "        sample,\n",
    "        timepoints=np.linspace(start_time, end_time, num_timepoints),\n",
    "        time_unit=\"notional\",\n",
    "    )\n",
    "\n",
    "distributions = distributions()\n",
    "print(distributions.head())\n",
    "print(distributions.columns)\n",
    "all_columns = [\"timepoint_id\", \"sample_id\", 'infected_observable_state',\n",
    "       'exposed_observable_state', 'hospitalized_observable_state',\n",
    "       'dead_observable_state']\n",
    "all_columns = [\"timepoint_id\", \"sample_id\", 'infected_observable_state']\n",
    "\n",
    "distributions = distributions[all_columns]\n",
    "distributions"
   ]
  },
  {
   "cell_type": "code",
   "execution_count": 13,
   "metadata": {},
   "outputs": [
    {
     "ename": "FileNotFoundError",
     "evalue": "[Errno 2] No such file or directory: 'paper_sine_05/paper_sine_05_new_df.csv'",
     "output_type": "error",
     "traceback": [
      "\u001b[0;31m---------------------------------------------------------------------------\u001b[0m",
      "\u001b[0;31mFileNotFoundError\u001b[0m                         Traceback (most recent call last)",
      "Cell \u001b[0;32mIn[13], line 2\u001b[0m\n\u001b[1;32m      1\u001b[0m \u001b[38;5;66;03m#'timepoint_id', 'sample_id'\u001b[39;00m\n\u001b[0;32m----> 2\u001b[0m sine_distribution \u001b[38;5;241m=\u001b[39m \u001b[43mpd\u001b[49m\u001b[38;5;241;43m.\u001b[39;49m\u001b[43mread_csv\u001b[49m\u001b[43m(\u001b[49m\u001b[38;5;124;43m\"\u001b[39;49m\u001b[38;5;124;43mpaper_sine_05/paper_sine_05_new_df.csv\u001b[39;49m\u001b[38;5;124;43m\"\u001b[39;49m\u001b[43m)\u001b[49m\n\u001b[1;32m      3\u001b[0m sine_distribution \u001b[38;5;241m=\u001b[39m sine_distribution\u001b[38;5;241m.\u001b[39mrename(\n\u001b[1;32m      4\u001b[0m             columns\u001b[38;5;241m=\u001b[39m{\n\u001b[1;32m      5\u001b[0m                 \u001b[38;5;124m'\u001b[39m\u001b[38;5;124mUnnamed: 0.1\u001b[39m\u001b[38;5;124m'\u001b[39m: \u001b[38;5;124m\"\u001b[39m\u001b[38;5;124mtimepoint_id\u001b[39m\u001b[38;5;124m\"\u001b[39m,\n\u001b[1;32m      6\u001b[0m                 \u001b[38;5;124m'\u001b[39m\u001b[38;5;124mUnnamed: 0\u001b[39m\u001b[38;5;124m'\u001b[39m: \u001b[38;5;124m\"\u001b[39m\u001b[38;5;124m100\u001b[39m\u001b[38;5;124m\"\u001b[39m,\n\u001b[1;32m      7\u001b[0m             }\n\u001b[1;32m      8\u001b[0m         )\n\u001b[1;32m      9\u001b[0m sine_distribution \u001b[38;5;241m=\u001b[39m sine_distribution\u001b[38;5;241m.\u001b[39mmelt(id_vars\u001b[38;5;241m=\u001b[39m[\u001b[38;5;124m\"\u001b[39m\u001b[38;5;124mtimepoint_id\u001b[39m\u001b[38;5;124m\"\u001b[39m], \n\u001b[1;32m     10\u001b[0m         var_name\u001b[38;5;241m=\u001b[39m\u001b[38;5;124m\"\u001b[39m\u001b[38;5;124msample_id\u001b[39m\u001b[38;5;124m\"\u001b[39m, \n\u001b[1;32m     11\u001b[0m         value_name\u001b[38;5;241m=\u001b[39m\u001b[38;5;124m\"\u001b[39m\u001b[38;5;124msame_stat_state\u001b[39m\u001b[38;5;124m\"\u001b[39m)\n",
      "File \u001b[0;32m~/opt/anaconda3/envs/pyciems310/lib/python3.10/site-packages/pandas/io/parsers/readers.py:1026\u001b[0m, in \u001b[0;36mread_csv\u001b[0;34m(filepath_or_buffer, sep, delimiter, header, names, index_col, usecols, dtype, engine, converters, true_values, false_values, skipinitialspace, skiprows, skipfooter, nrows, na_values, keep_default_na, na_filter, verbose, skip_blank_lines, parse_dates, infer_datetime_format, keep_date_col, date_parser, date_format, dayfirst, cache_dates, iterator, chunksize, compression, thousands, decimal, lineterminator, quotechar, quoting, doublequote, escapechar, comment, encoding, encoding_errors, dialect, on_bad_lines, delim_whitespace, low_memory, memory_map, float_precision, storage_options, dtype_backend)\u001b[0m\n\u001b[1;32m   1013\u001b[0m kwds_defaults \u001b[38;5;241m=\u001b[39m _refine_defaults_read(\n\u001b[1;32m   1014\u001b[0m     dialect,\n\u001b[1;32m   1015\u001b[0m     delimiter,\n\u001b[0;32m   (...)\u001b[0m\n\u001b[1;32m   1022\u001b[0m     dtype_backend\u001b[38;5;241m=\u001b[39mdtype_backend,\n\u001b[1;32m   1023\u001b[0m )\n\u001b[1;32m   1024\u001b[0m kwds\u001b[38;5;241m.\u001b[39mupdate(kwds_defaults)\n\u001b[0;32m-> 1026\u001b[0m \u001b[38;5;28;01mreturn\u001b[39;00m \u001b[43m_read\u001b[49m\u001b[43m(\u001b[49m\u001b[43mfilepath_or_buffer\u001b[49m\u001b[43m,\u001b[49m\u001b[43m \u001b[49m\u001b[43mkwds\u001b[49m\u001b[43m)\u001b[49m\n",
      "File \u001b[0;32m~/opt/anaconda3/envs/pyciems310/lib/python3.10/site-packages/pandas/io/parsers/readers.py:620\u001b[0m, in \u001b[0;36m_read\u001b[0;34m(filepath_or_buffer, kwds)\u001b[0m\n\u001b[1;32m    617\u001b[0m _validate_names(kwds\u001b[38;5;241m.\u001b[39mget(\u001b[38;5;124m\"\u001b[39m\u001b[38;5;124mnames\u001b[39m\u001b[38;5;124m\"\u001b[39m, \u001b[38;5;28;01mNone\u001b[39;00m))\n\u001b[1;32m    619\u001b[0m \u001b[38;5;66;03m# Create the parser.\u001b[39;00m\n\u001b[0;32m--> 620\u001b[0m parser \u001b[38;5;241m=\u001b[39m \u001b[43mTextFileReader\u001b[49m\u001b[43m(\u001b[49m\u001b[43mfilepath_or_buffer\u001b[49m\u001b[43m,\u001b[49m\u001b[43m \u001b[49m\u001b[38;5;241;43m*\u001b[39;49m\u001b[38;5;241;43m*\u001b[39;49m\u001b[43mkwds\u001b[49m\u001b[43m)\u001b[49m\n\u001b[1;32m    622\u001b[0m \u001b[38;5;28;01mif\u001b[39;00m chunksize \u001b[38;5;129;01mor\u001b[39;00m iterator:\n\u001b[1;32m    623\u001b[0m     \u001b[38;5;28;01mreturn\u001b[39;00m parser\n",
      "File \u001b[0;32m~/opt/anaconda3/envs/pyciems310/lib/python3.10/site-packages/pandas/io/parsers/readers.py:1620\u001b[0m, in \u001b[0;36mTextFileReader.__init__\u001b[0;34m(self, f, engine, **kwds)\u001b[0m\n\u001b[1;32m   1617\u001b[0m     \u001b[38;5;28mself\u001b[39m\u001b[38;5;241m.\u001b[39moptions[\u001b[38;5;124m\"\u001b[39m\u001b[38;5;124mhas_index_names\u001b[39m\u001b[38;5;124m\"\u001b[39m] \u001b[38;5;241m=\u001b[39m kwds[\u001b[38;5;124m\"\u001b[39m\u001b[38;5;124mhas_index_names\u001b[39m\u001b[38;5;124m\"\u001b[39m]\n\u001b[1;32m   1619\u001b[0m \u001b[38;5;28mself\u001b[39m\u001b[38;5;241m.\u001b[39mhandles: IOHandles \u001b[38;5;241m|\u001b[39m \u001b[38;5;28;01mNone\u001b[39;00m \u001b[38;5;241m=\u001b[39m \u001b[38;5;28;01mNone\u001b[39;00m\n\u001b[0;32m-> 1620\u001b[0m \u001b[38;5;28mself\u001b[39m\u001b[38;5;241m.\u001b[39m_engine \u001b[38;5;241m=\u001b[39m \u001b[38;5;28;43mself\u001b[39;49m\u001b[38;5;241;43m.\u001b[39;49m\u001b[43m_make_engine\u001b[49m\u001b[43m(\u001b[49m\u001b[43mf\u001b[49m\u001b[43m,\u001b[49m\u001b[43m \u001b[49m\u001b[38;5;28;43mself\u001b[39;49m\u001b[38;5;241;43m.\u001b[39;49m\u001b[43mengine\u001b[49m\u001b[43m)\u001b[49m\n",
      "File \u001b[0;32m~/opt/anaconda3/envs/pyciems310/lib/python3.10/site-packages/pandas/io/parsers/readers.py:1880\u001b[0m, in \u001b[0;36mTextFileReader._make_engine\u001b[0;34m(self, f, engine)\u001b[0m\n\u001b[1;32m   1878\u001b[0m     \u001b[38;5;28;01mif\u001b[39;00m \u001b[38;5;124m\"\u001b[39m\u001b[38;5;124mb\u001b[39m\u001b[38;5;124m\"\u001b[39m \u001b[38;5;129;01mnot\u001b[39;00m \u001b[38;5;129;01min\u001b[39;00m mode:\n\u001b[1;32m   1879\u001b[0m         mode \u001b[38;5;241m+\u001b[39m\u001b[38;5;241m=\u001b[39m \u001b[38;5;124m\"\u001b[39m\u001b[38;5;124mb\u001b[39m\u001b[38;5;124m\"\u001b[39m\n\u001b[0;32m-> 1880\u001b[0m \u001b[38;5;28mself\u001b[39m\u001b[38;5;241m.\u001b[39mhandles \u001b[38;5;241m=\u001b[39m \u001b[43mget_handle\u001b[49m\u001b[43m(\u001b[49m\n\u001b[1;32m   1881\u001b[0m \u001b[43m    \u001b[49m\u001b[43mf\u001b[49m\u001b[43m,\u001b[49m\n\u001b[1;32m   1882\u001b[0m \u001b[43m    \u001b[49m\u001b[43mmode\u001b[49m\u001b[43m,\u001b[49m\n\u001b[1;32m   1883\u001b[0m \u001b[43m    \u001b[49m\u001b[43mencoding\u001b[49m\u001b[38;5;241;43m=\u001b[39;49m\u001b[38;5;28;43mself\u001b[39;49m\u001b[38;5;241;43m.\u001b[39;49m\u001b[43moptions\u001b[49m\u001b[38;5;241;43m.\u001b[39;49m\u001b[43mget\u001b[49m\u001b[43m(\u001b[49m\u001b[38;5;124;43m\"\u001b[39;49m\u001b[38;5;124;43mencoding\u001b[39;49m\u001b[38;5;124;43m\"\u001b[39;49m\u001b[43m,\u001b[49m\u001b[43m \u001b[49m\u001b[38;5;28;43;01mNone\u001b[39;49;00m\u001b[43m)\u001b[49m\u001b[43m,\u001b[49m\n\u001b[1;32m   1884\u001b[0m \u001b[43m    \u001b[49m\u001b[43mcompression\u001b[49m\u001b[38;5;241;43m=\u001b[39;49m\u001b[38;5;28;43mself\u001b[39;49m\u001b[38;5;241;43m.\u001b[39;49m\u001b[43moptions\u001b[49m\u001b[38;5;241;43m.\u001b[39;49m\u001b[43mget\u001b[49m\u001b[43m(\u001b[49m\u001b[38;5;124;43m\"\u001b[39;49m\u001b[38;5;124;43mcompression\u001b[39;49m\u001b[38;5;124;43m\"\u001b[39;49m\u001b[43m,\u001b[49m\u001b[43m \u001b[49m\u001b[38;5;28;43;01mNone\u001b[39;49;00m\u001b[43m)\u001b[49m\u001b[43m,\u001b[49m\n\u001b[1;32m   1885\u001b[0m \u001b[43m    \u001b[49m\u001b[43mmemory_map\u001b[49m\u001b[38;5;241;43m=\u001b[39;49m\u001b[38;5;28;43mself\u001b[39;49m\u001b[38;5;241;43m.\u001b[39;49m\u001b[43moptions\u001b[49m\u001b[38;5;241;43m.\u001b[39;49m\u001b[43mget\u001b[49m\u001b[43m(\u001b[49m\u001b[38;5;124;43m\"\u001b[39;49m\u001b[38;5;124;43mmemory_map\u001b[39;49m\u001b[38;5;124;43m\"\u001b[39;49m\u001b[43m,\u001b[49m\u001b[43m \u001b[49m\u001b[38;5;28;43;01mFalse\u001b[39;49;00m\u001b[43m)\u001b[49m\u001b[43m,\u001b[49m\n\u001b[1;32m   1886\u001b[0m \u001b[43m    \u001b[49m\u001b[43mis_text\u001b[49m\u001b[38;5;241;43m=\u001b[39;49m\u001b[43mis_text\u001b[49m\u001b[43m,\u001b[49m\n\u001b[1;32m   1887\u001b[0m \u001b[43m    \u001b[49m\u001b[43merrors\u001b[49m\u001b[38;5;241;43m=\u001b[39;49m\u001b[38;5;28;43mself\u001b[39;49m\u001b[38;5;241;43m.\u001b[39;49m\u001b[43moptions\u001b[49m\u001b[38;5;241;43m.\u001b[39;49m\u001b[43mget\u001b[49m\u001b[43m(\u001b[49m\u001b[38;5;124;43m\"\u001b[39;49m\u001b[38;5;124;43mencoding_errors\u001b[39;49m\u001b[38;5;124;43m\"\u001b[39;49m\u001b[43m,\u001b[49m\u001b[43m \u001b[49m\u001b[38;5;124;43m\"\u001b[39;49m\u001b[38;5;124;43mstrict\u001b[39;49m\u001b[38;5;124;43m\"\u001b[39;49m\u001b[43m)\u001b[49m\u001b[43m,\u001b[49m\n\u001b[1;32m   1888\u001b[0m \u001b[43m    \u001b[49m\u001b[43mstorage_options\u001b[49m\u001b[38;5;241;43m=\u001b[39;49m\u001b[38;5;28;43mself\u001b[39;49m\u001b[38;5;241;43m.\u001b[39;49m\u001b[43moptions\u001b[49m\u001b[38;5;241;43m.\u001b[39;49m\u001b[43mget\u001b[49m\u001b[43m(\u001b[49m\u001b[38;5;124;43m\"\u001b[39;49m\u001b[38;5;124;43mstorage_options\u001b[39;49m\u001b[38;5;124;43m\"\u001b[39;49m\u001b[43m,\u001b[49m\u001b[43m \u001b[49m\u001b[38;5;28;43;01mNone\u001b[39;49;00m\u001b[43m)\u001b[49m\u001b[43m,\u001b[49m\n\u001b[1;32m   1889\u001b[0m \u001b[43m\u001b[49m\u001b[43m)\u001b[49m\n\u001b[1;32m   1890\u001b[0m \u001b[38;5;28;01massert\u001b[39;00m \u001b[38;5;28mself\u001b[39m\u001b[38;5;241m.\u001b[39mhandles \u001b[38;5;129;01mis\u001b[39;00m \u001b[38;5;129;01mnot\u001b[39;00m \u001b[38;5;28;01mNone\u001b[39;00m\n\u001b[1;32m   1891\u001b[0m f \u001b[38;5;241m=\u001b[39m \u001b[38;5;28mself\u001b[39m\u001b[38;5;241m.\u001b[39mhandles\u001b[38;5;241m.\u001b[39mhandle\n",
      "File \u001b[0;32m~/opt/anaconda3/envs/pyciems310/lib/python3.10/site-packages/pandas/io/common.py:873\u001b[0m, in \u001b[0;36mget_handle\u001b[0;34m(path_or_buf, mode, encoding, compression, memory_map, is_text, errors, storage_options)\u001b[0m\n\u001b[1;32m    868\u001b[0m \u001b[38;5;28;01melif\u001b[39;00m \u001b[38;5;28misinstance\u001b[39m(handle, \u001b[38;5;28mstr\u001b[39m):\n\u001b[1;32m    869\u001b[0m     \u001b[38;5;66;03m# Check whether the filename is to be opened in binary mode.\u001b[39;00m\n\u001b[1;32m    870\u001b[0m     \u001b[38;5;66;03m# Binary mode does not support 'encoding' and 'newline'.\u001b[39;00m\n\u001b[1;32m    871\u001b[0m     \u001b[38;5;28;01mif\u001b[39;00m ioargs\u001b[38;5;241m.\u001b[39mencoding \u001b[38;5;129;01mand\u001b[39;00m \u001b[38;5;124m\"\u001b[39m\u001b[38;5;124mb\u001b[39m\u001b[38;5;124m\"\u001b[39m \u001b[38;5;129;01mnot\u001b[39;00m \u001b[38;5;129;01min\u001b[39;00m ioargs\u001b[38;5;241m.\u001b[39mmode:\n\u001b[1;32m    872\u001b[0m         \u001b[38;5;66;03m# Encoding\u001b[39;00m\n\u001b[0;32m--> 873\u001b[0m         handle \u001b[38;5;241m=\u001b[39m \u001b[38;5;28;43mopen\u001b[39;49m\u001b[43m(\u001b[49m\n\u001b[1;32m    874\u001b[0m \u001b[43m            \u001b[49m\u001b[43mhandle\u001b[49m\u001b[43m,\u001b[49m\n\u001b[1;32m    875\u001b[0m \u001b[43m            \u001b[49m\u001b[43mioargs\u001b[49m\u001b[38;5;241;43m.\u001b[39;49m\u001b[43mmode\u001b[49m\u001b[43m,\u001b[49m\n\u001b[1;32m    876\u001b[0m \u001b[43m            \u001b[49m\u001b[43mencoding\u001b[49m\u001b[38;5;241;43m=\u001b[39;49m\u001b[43mioargs\u001b[49m\u001b[38;5;241;43m.\u001b[39;49m\u001b[43mencoding\u001b[49m\u001b[43m,\u001b[49m\n\u001b[1;32m    877\u001b[0m \u001b[43m            \u001b[49m\u001b[43merrors\u001b[49m\u001b[38;5;241;43m=\u001b[39;49m\u001b[43merrors\u001b[49m\u001b[43m,\u001b[49m\n\u001b[1;32m    878\u001b[0m \u001b[43m            \u001b[49m\u001b[43mnewline\u001b[49m\u001b[38;5;241;43m=\u001b[39;49m\u001b[38;5;124;43m\"\u001b[39;49m\u001b[38;5;124;43m\"\u001b[39;49m\u001b[43m,\u001b[49m\n\u001b[1;32m    879\u001b[0m \u001b[43m        \u001b[49m\u001b[43m)\u001b[49m\n\u001b[1;32m    880\u001b[0m     \u001b[38;5;28;01melse\u001b[39;00m:\n\u001b[1;32m    881\u001b[0m         \u001b[38;5;66;03m# Binary mode\u001b[39;00m\n\u001b[1;32m    882\u001b[0m         handle \u001b[38;5;241m=\u001b[39m \u001b[38;5;28mopen\u001b[39m(handle, ioargs\u001b[38;5;241m.\u001b[39mmode)\n",
      "\u001b[0;31mFileNotFoundError\u001b[0m: [Errno 2] No such file or directory: 'paper_sine_05/paper_sine_05_new_df.csv'"
     ]
    }
   ],
   "source": [
    "#'timepoint_id', 'sample_id'\n",
    "sine_distribution = pd.read_csv(\"paper_sine_05/paper_sine_05_new_df.csv\")\n",
    "sine_distribution = sine_distribution.rename(\n",
    "            columns={\n",
    "                'Unnamed: 0.1': \"timepoint_id\",\n",
    "                'Unnamed: 0': \"100\",\n",
    "            }\n",
    "        )\n",
    "sine_distribution = sine_distribution.melt(id_vars=[\"timepoint_id\"], \n",
    "        var_name=\"sample_id\", \n",
    "        value_name=\"same_stat_state\")\n",
    "\n",
    "traces_list = []   \n",
    " \n",
    "#select_by \"mean\", \"var\", \"granger\"\n",
    "for select_by in ['mean', 'var', 'granger']:\n",
    "    examplary_line, mean_line_df = pyciemss.visuals.trajectories.select_traces(sine_distribution, select_by = select_by,  kmean=True)\n",
    "    traces_list.append(examplary_line)\n",
    "\n",
    "\n",
    "new_df = pd.concat(traces_list, axis = 1)\n",
    "combined_df = pd.concat([new_df, mean_line_df], axis =1)\n",
    "\n",
    "schema = plots.trajectories(sine_distribution, traces = combined_df,  keep=\".*_state\")\n",
    "\n",
    "plots.save_schema(schema, \"_schema.json\")\n",
    "\n",
    "plots.ipy_display(schema, format=\"interactive\")"
   ]
  }
 ],
 "metadata": {
  "kernelspec": {
   "display_name": "py310_cfg",
   "language": "python",
   "name": "python3"
  },
  "language_info": {
   "codemirror_mode": {
    "name": "ipython",
    "version": 3
   },
   "file_extension": ".py",
   "mimetype": "text/x-python",
   "name": "python",
   "nbconvert_exporter": "python",
   "pygments_lexer": "ipython3",
   "version": "3.10.13"
  }
 },
 "nbformat": 4,
 "nbformat_minor": 2
}
