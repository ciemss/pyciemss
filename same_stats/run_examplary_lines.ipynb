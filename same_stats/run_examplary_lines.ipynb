{
 "cells": [
  {
   "cell_type": "code",
   "execution_count": 1,
   "metadata": {},
   "outputs": [
    {
     "name": "stderr",
     "output_type": "stream",
     "text": [
      "/Users/oost464/opt/anaconda3/envs/pyciems310/lib/python3.10/site-packages/threadpoolctl.py:1223: RuntimeWarning: \n",
      "Found Intel OpenMP ('libiomp') and LLVM OpenMP ('libomp') loaded at\n",
      "the same time. Both libraries are known to be incompatible and this\n",
      "can cause random crashes or deadlocks on Linux when loaded in the\n",
      "same Python program.\n",
      "Using threadpoolctl may cause crashes or deadlocks. For more\n",
      "information and possible workarounds, please see\n",
      "    https://github.com/joblib/threadpoolctl/blob/master/multiple_openmp.md\n",
      "\n",
      "  warnings.warn(msg, RuntimeWarning)\n",
      "/Users/oost464/opt/anaconda3/envs/pyciems310/lib/python3.10/site-packages/tslearn/bases/bases.py:15: UserWarning: h5py not installed, hdf5 features will not be supported.\n",
      "Install h5py to use hdf5 features: http://docs.h5py.org/\n",
      "  warn(h5py_msg)\n"
     ]
    }
   ],
   "source": [
    "import json\n",
    "import random\n",
    "from itertools import chain\n",
    "from pathlib import Path\n",
    "import os\n",
    "import networkx as nx\n",
    "import numpy as np\n",
    "import pandas as pd\n",
    "import pytest\n",
    "\n",
    "import pyciemss\n",
    "from pyciemss.integration_utils.result_processing import convert_to_output_format\n",
    "from pyciemss.visuals import plots, vega\n",
    "\n"
   ]
  },
  {
   "cell_type": "code",
   "execution_count": 2,
   "metadata": {},
   "outputs": [
    {
     "name": "stdout",
     "output_type": "stream",
     "text": [
      "Init 1\n"
     ]
    },
    {
     "name": "stderr",
     "output_type": "stream",
     "text": [
      "[Parallel(n_jobs=1)]: Done  49 tasks      | elapsed:    1.6s\n",
      "[Parallel(n_jobs=1)]: Done  49 tasks      | elapsed:    0.0s\n",
      "[Parallel(n_jobs=1)]: Done 199 tasks      | elapsed:    0.0s\n",
      "[Parallel(n_jobs=1)]: Done  49 tasks      | elapsed:    0.0s\n",
      "[Parallel(n_jobs=1)]: Done 199 tasks      | elapsed:    0.0s\n",
      "[Parallel(n_jobs=1)]: Done  49 tasks      | elapsed:    0.0s\n",
      "[Parallel(n_jobs=1)]: Done 199 tasks      | elapsed:    0.0s\n"
     ]
    },
    {
     "name": "stdout",
     "output_type": "stream",
     "text": [
      "11.591 --> "
     ]
    },
    {
     "name": "stderr",
     "output_type": "stream",
     "text": [
      "[Parallel(n_jobs=1)]: Done  49 tasks      | elapsed:    0.0s\n",
      "[Parallel(n_jobs=1)]: Done 199 tasks      | elapsed:    0.0s\n"
     ]
    },
    {
     "name": "stdout",
     "output_type": "stream",
     "text": [
      "4.011 --> "
     ]
    },
    {
     "name": "stderr",
     "output_type": "stream",
     "text": [
      "[Parallel(n_jobs=1)]: Done  49 tasks      | elapsed:    0.0s\n",
      "[Parallel(n_jobs=1)]: Done 199 tasks      | elapsed:    0.0s\n"
     ]
    },
    {
     "name": "stdout",
     "output_type": "stream",
     "text": [
      "3.455 --> "
     ]
    },
    {
     "name": "stderr",
     "output_type": "stream",
     "text": [
      "[Parallel(n_jobs=1)]: Done  49 tasks      | elapsed:    0.0s\n",
      "[Parallel(n_jobs=1)]: Done 199 tasks      | elapsed:    0.0s\n",
      "[Parallel(n_jobs=1)]: Done  49 tasks      | elapsed:    0.0s\n",
      "[Parallel(n_jobs=1)]: Done 199 tasks      | elapsed:    0.0s\n"
     ]
    },
    {
     "name": "stdout",
     "output_type": "stream",
     "text": [
      "3.439 --> 3.439 --> "
     ]
    },
    {
     "name": "stderr",
     "output_type": "stream",
     "text": [
      "[Parallel(n_jobs=1)]: Done  49 tasks      | elapsed:    0.0s\n",
      "[Parallel(n_jobs=1)]: Done 199 tasks      | elapsed:    0.0s\n",
      "[Parallel(n_jobs=1)]: Done  49 tasks      | elapsed:    0.0s\n",
      "[Parallel(n_jobs=1)]: Done 199 tasks      | elapsed:    0.0s\n"
     ]
    },
    {
     "name": "stdout",
     "output_type": "stream",
     "text": [
      "3.439 --> 3.439 --> \n",
      "Init 2\n"
     ]
    },
    {
     "name": "stderr",
     "output_type": "stream",
     "text": [
      "[Parallel(n_jobs=1)]: Done  49 tasks      | elapsed:    0.0s\n",
      "[Parallel(n_jobs=1)]: Done  49 tasks      | elapsed:    0.0s\n",
      "[Parallel(n_jobs=1)]: Done 199 tasks      | elapsed:    0.0s\n",
      "[Parallel(n_jobs=1)]: Done  49 tasks      | elapsed:    0.0s\n",
      "[Parallel(n_jobs=1)]: Done 199 tasks      | elapsed:    0.0s\n",
      "[Parallel(n_jobs=1)]: Done  49 tasks      | elapsed:    0.0s\n",
      "[Parallel(n_jobs=1)]: Done 199 tasks      | elapsed:    0.0s\n"
     ]
    },
    {
     "name": "stdout",
     "output_type": "stream",
     "text": [
      "10.782 --> "
     ]
    },
    {
     "name": "stderr",
     "output_type": "stream",
     "text": [
      "[Parallel(n_jobs=1)]: Done  49 tasks      | elapsed:    0.0s\n",
      "[Parallel(n_jobs=1)]: Done 199 tasks      | elapsed:    0.0s\n"
     ]
    },
    {
     "name": "stdout",
     "output_type": "stream",
     "text": [
      "3.824 --> "
     ]
    },
    {
     "name": "stderr",
     "output_type": "stream",
     "text": [
      "[Parallel(n_jobs=1)]: Done  49 tasks      | elapsed:    0.0s\n",
      "[Parallel(n_jobs=1)]: Done 199 tasks      | elapsed:    0.0s\n"
     ]
    },
    {
     "name": "stdout",
     "output_type": "stream",
     "text": [
      "3.679 --> "
     ]
    },
    {
     "name": "stderr",
     "output_type": "stream",
     "text": [
      "[Parallel(n_jobs=1)]: Done  49 tasks      | elapsed:    0.0s\n",
      "[Parallel(n_jobs=1)]: Done 199 tasks      | elapsed:    0.0s\n"
     ]
    },
    {
     "name": "stdout",
     "output_type": "stream",
     "text": [
      "3.640 --> "
     ]
    },
    {
     "name": "stderr",
     "output_type": "stream",
     "text": [
      "[Parallel(n_jobs=1)]: Done  49 tasks      | elapsed:    0.0s\n",
      "[Parallel(n_jobs=1)]: Done 199 tasks      | elapsed:    0.0s\n"
     ]
    },
    {
     "name": "stdout",
     "output_type": "stream",
     "text": [
      "3.521 --> "
     ]
    },
    {
     "name": "stderr",
     "output_type": "stream",
     "text": [
      "[Parallel(n_jobs=1)]: Done  49 tasks      | elapsed:    0.0s\n",
      "[Parallel(n_jobs=1)]: Done 199 tasks      | elapsed:    0.0s\n"
     ]
    },
    {
     "name": "stdout",
     "output_type": "stream",
     "text": [
      "3.338 --> "
     ]
    },
    {
     "name": "stderr",
     "output_type": "stream",
     "text": [
      "[Parallel(n_jobs=1)]: Done  49 tasks      | elapsed:    0.0s\n",
      "[Parallel(n_jobs=1)]: Done 199 tasks      | elapsed:    0.0s\n",
      "[Parallel(n_jobs=1)]: Done  49 tasks      | elapsed:    0.0s\n"
     ]
    },
    {
     "name": "stdout",
     "output_type": "stream",
     "text": [
      "3.064 --> 3.061 --> "
     ]
    },
    {
     "name": "stderr",
     "output_type": "stream",
     "text": [
      "[Parallel(n_jobs=1)]: Done 199 tasks      | elapsed:    0.0s\n",
      "[Parallel(n_jobs=1)]: Done  49 tasks      | elapsed:    0.0s\n",
      "[Parallel(n_jobs=1)]: Done 199 tasks      | elapsed:    0.0s\n"
     ]
    },
    {
     "name": "stdout",
     "output_type": "stream",
     "text": [
      "3.061 --> \n"
     ]
    },
    {
     "name": "stderr",
     "output_type": "stream",
     "text": [
      "[Parallel(n_jobs=1)]: Done  49 tasks      | elapsed:    0.0s\n",
      "[Parallel(n_jobs=1)]: Done 199 tasks      | elapsed:    0.0s\n"
     ]
    },
    {
     "name": "stdout",
     "output_type": "stream",
     "text": [
      "\n"
     ]
    },
    {
     "data": {
      "application/vnd.vega.v5+json": {
       "$schema": "https://vega.github.io/schema/vega/v5.json",
       "axes": [
        {
         "name": "x_axis",
         "orient": "bottom",
         "scale": "xscale",
         "zindex": 100
        },
        {
         "name": "y_axis",
         "orient": "left",
         "scale": "yscale",
         "zindex": 100
        }
       ],
       "background": "white",
       "data": [
        {
         "name": "distributions",
         "transform": [
          {
           "sort": {
            "field": [
             "trajectory",
             "timepoint"
            ]
           },
           "type": "collect"
          }
         ],
         "values": [
          {
           "lower": 0.11220994615568933,
           "timepoint": 0,
           "trajectory": "Example",
           "upper": 1.8144777597650563
          },
          {
           "lower": 1.3638487855902688,
           "timepoint": 1,
           "trajectory": "Example",
           "upper": 3.0526715446839243
          },
          {
           "lower": 1.7698259852469311,
           "timepoint": 2,
           "trajectory": "Example",
           "upper": 3.503046935839261
          },
          {
           "lower": 2.09996909828104,
           "timepoint": 3,
           "trajectory": "Example",
           "upper": 3.8498997512372
          },
          {
           "lower": 2.3454172197924015,
           "timepoint": 4,
           "trajectory": "Example",
           "upper": 4.093856557225814
          },
          {
           "lower": 2.5349776562250357,
           "timepoint": 5,
           "trajectory": "Example",
           "upper": 4.2330435114571925
          },
          {
           "lower": 2.6304218670715285,
           "timepoint": 6,
           "trajectory": "Example",
           "upper": 4.328607007679715
          },
          {
           "lower": 2.661850681018386,
           "timepoint": 7,
           "trajectory": "Example",
           "upper": 4.371664417037558
          },
          {
           "lower": 2.730828932458543,
           "timepoint": 8,
           "trajectory": "Example",
           "upper": 4.450338804473157
          },
          {
           "lower": 2.647036542926572,
           "timepoint": 9,
           "trajectory": "Example",
           "upper": 4.500528722866148
          },
          {
           "lower": 2.3640059687494563,
           "timepoint": 10,
           "trajectory": "Example",
           "upper": 4.464104626865102
          },
          {
           "lower": 2.0999024054580806,
           "timepoint": 11,
           "trajectory": "Example",
           "upper": 4.38663905026721
          },
          {
           "lower": 1.8993366548340949,
           "timepoint": 12,
           "trajectory": "Example",
           "upper": 4.273854359222785
          },
          {
           "lower": 1.7856291181441981,
           "timepoint": 13,
           "trajectory": "Example",
           "upper": 4.13276324673944
          },
          {
           "lower": 1.6326178644850056,
           "timepoint": 14,
           "trajectory": "Example",
           "upper": 3.9714150918342863
          },
          {
           "lower": 1.470864639669371,
           "timepoint": 15,
           "trajectory": "Example",
           "upper": 3.830755297343806
          },
          {
           "lower": 1.3630588432426145,
           "timepoint": 16,
           "trajectory": "Example",
           "upper": 3.717292675534346
          },
          {
           "lower": 1.2703604310875578,
           "timepoint": 17,
           "trajectory": "Example",
           "upper": 3.586755132190218
          },
          {
           "lower": 1.2786802428666928,
           "timepoint": 18,
           "trajectory": "Example",
           "upper": 3.4303185751407517
          },
          {
           "lower": 1.3429625393585232,
           "timepoint": 19,
           "trajectory": "Example",
           "upper": 3.3835856793697747
          },
          {
           "lower": 1.4229791572211172,
           "timepoint": 20,
           "trajectory": "Example",
           "upper": 3.7017764283151213
          },
          {
           "lower": 1.5592436551059838,
           "timepoint": 21,
           "trajectory": "Example",
           "upper": 4.033090685795406
          },
          {
           "lower": 1.6234250211258383,
           "timepoint": 22,
           "trajectory": "Example",
           "upper": 4.2528040466691275
          },
          {
           "lower": 1.5508160661518893,
           "timepoint": 23,
           "trajectory": "Example",
           "upper": 4.531979805920991
          },
          {
           "lower": 1.5079894722015552,
           "timepoint": 24,
           "trajectory": "Example",
           "upper": 4.749496805529355
          },
          {
           "lower": 1.4972598716509813,
           "timepoint": 25,
           "trajectory": "Example",
           "upper": 4.886646841449605
          },
          {
           "lower": 1.5198169255547527,
           "timepoint": 26,
           "trajectory": "Example",
           "upper": 4.933810206787558
          },
          {
           "lower": 1.5756873195757526,
           "timepoint": 27,
           "trajectory": "Example",
           "upper": 4.916341481117096
          },
          {
           "lower": 1.6975713063756783,
           "timepoint": 28,
           "trajectory": "Example",
           "upper": 4.928400612555574
          },
          {
           "lower": 1.8253769031323963,
           "timepoint": 29,
           "trajectory": "Example",
           "upper": 4.922484188480741
          },
          {
           "lower": 1.9603947508164747,
           "timepoint": 30,
           "trajectory": "Example",
           "upper": 4.9974387287016535
          },
          {
           "lower": 2.118769008889866,
           "timepoint": 31,
           "trajectory": "Example",
           "upper": 5.018674334877886
          },
          {
           "lower": 2.2351058881872587,
           "timepoint": 32,
           "trajectory": "Example",
           "upper": 4.923187722227175
          },
          {
           "lower": 2.2864750682093207,
           "timepoint": 33,
           "trajectory": "Example",
           "upper": 4.813753121005508
          },
          {
           "lower": 2.352015954985913,
           "timepoint": 34,
           "trajectory": "Example",
           "upper": 4.870469291960341
          },
          {
           "lower": 2.331715012295814,
           "timepoint": 35,
           "trajectory": "Example",
           "upper": 4.990498491025091
          },
          {
           "lower": 2.1863556404365925,
           "timepoint": 36,
           "trajectory": "Example",
           "upper": 5.081993791044794
          },
          {
           "lower": 2.253868843347135,
           "timepoint": 37,
           "trajectory": "Example",
           "upper": 5.130176487898805
          },
          {
           "lower": 2.0567217532362108,
           "timepoint": 38,
           "trajectory": "Example",
           "upper": 5.133671632764254
          },
          {
           "lower": 1.909749895010277,
           "timepoint": 39,
           "trajectory": "Example",
           "upper": 5.093071866560482
          },
          {
           "lower": 1.8246659476888563,
           "timepoint": 40,
           "trajectory": "Example",
           "upper": 5.0109119088409075
          },
          {
           "lower": 1.9067133915299888,
           "timepoint": 41,
           "trajectory": "Example",
           "upper": 5.048845289276825
          },
          {
           "lower": 1.864190103280988,
           "timepoint": 42,
           "trajectory": "Example",
           "upper": 4.983889851319825
          },
          {
           "lower": 1.9106480187674544,
           "timepoint": 43,
           "trajectory": "Example",
           "upper": 4.876736430247036
          },
          {
           "lower": 2.1423518537292674,
           "timepoint": 44,
           "trajectory": "Example",
           "upper": 5.000004297623596
          },
          {
           "lower": 2.406261286240875,
           "timepoint": 45,
           "trajectory": "Example",
           "upper": 5.122750831430057
          },
          {
           "lower": 2.5952799359503693,
           "timepoint": 46,
           "trajectory": "Example",
           "upper": 5.275376820511635
          },
          {
           "lower": 2.4862693463314436,
           "timepoint": 47,
           "trajectory": "Example",
           "upper": 5.279197394180495
          },
          {
           "lower": 2.4432467038560306,
           "timepoint": 48,
           "trajectory": "Example",
           "upper": 5.1922304412827325
          },
          {
           "lower": 2.5355242006575707,
           "timepoint": 49,
           "trajectory": "Example",
           "upper": 5.156536324325837
          },
          {
           "lower": 2.5357031486646275,
           "timepoint": 50,
           "trajectory": "Example",
           "upper": 5.231216384186793
          },
          {
           "lower": 2.5345980499932335,
           "timepoint": 51,
           "trajectory": "Example",
           "upper": 5.293671631031117
          },
          {
           "lower": 2.6477209163615276,
           "timepoint": 52,
           "trajectory": "Example",
           "upper": 5.342226762505151
          },
          {
           "lower": 2.595176841923843,
           "timepoint": 53,
           "trajectory": "Example",
           "upper": 5.415518532803053
          },
          {
           "lower": 2.4596588673178856,
           "timepoint": 54,
           "trajectory": "Example",
           "upper": 5.419217281281497
          },
          {
           "lower": 2.41609387120172,
           "timepoint": 55,
           "trajectory": "Example",
           "upper": 5.353952342007103
          },
          {
           "lower": 2.3411298090521537,
           "timepoint": 56,
           "trajectory": "Example",
           "upper": 5.313522764478044
          },
          {
           "lower": 2.2222114186747417,
           "timepoint": 57,
           "trajectory": "Example",
           "upper": 5.293310754717005
          },
          {
           "lower": 2.053275468054851,
           "timepoint": 58,
           "trajectory": "Example",
           "upper": 5.306152937030709
          },
          {
           "lower": 2.044525628911379,
           "timepoint": 59,
           "trajectory": "Example",
           "upper": 5.25915388033426
          },
          {
           "lower": 2.045241017149923,
           "timepoint": 60,
           "trajectory": "Example",
           "upper": 5.170677683833016
          },
          {
           "lower": 2.0136524965626617,
           "timepoint": 61,
           "trajectory": "Example",
           "upper": 5.139767309675907
          },
          {
           "lower": 2.070222578803378,
           "timepoint": 62,
           "trajectory": "Example",
           "upper": 5.1538491282982
          },
          {
           "lower": 2.1588783776660625,
           "timepoint": 63,
           "trajectory": "Example",
           "upper": 5.1635104712117315
          },
          {
           "lower": 2.1246204048846216,
           "timepoint": 64,
           "trajectory": "Example",
           "upper": 5.333584446237582
          },
          {
           "lower": 2.2313455346018696,
           "timepoint": 65,
           "trajectory": "Example",
           "upper": 5.418707620902709
          },
          {
           "lower": 2.228358394461774,
           "timepoint": 66,
           "trajectory": "Example",
           "upper": 5.4940439488217185
          },
          {
           "lower": 2.3849059866386972,
           "timepoint": 67,
           "trajectory": "Example",
           "upper": 5.592322375838815
          },
          {
           "lower": 2.596799387954923,
           "timepoint": 68,
           "trajectory": "Example",
           "upper": 5.625529299742763
          },
          {
           "lower": 2.736183718269669,
           "timepoint": 69,
           "trajectory": "Example",
           "upper": 5.619003706865154
          },
          {
           "lower": 2.754587846377424,
           "timepoint": 70,
           "trajectory": "Example",
           "upper": 5.525549219072558
          },
          {
           "lower": 2.7326236290210115,
           "timepoint": 71,
           "trajectory": "Example",
           "upper": 5.504477489192816
          },
          {
           "lower": 2.733683658453339,
           "timepoint": 72,
           "trajectory": "Example",
           "upper": 5.375977978852466
          },
          {
           "lower": 2.757983189024184,
           "timepoint": 73,
           "trajectory": "Example",
           "upper": 5.4338459236029495
          },
          {
           "lower": 2.8200124761155663,
           "timepoint": 74,
           "trajectory": "Example",
           "upper": 5.41721874930064
          },
          {
           "lower": 2.874443747426559,
           "timepoint": 75,
           "trajectory": "Example",
           "upper": 5.311192728651035
          },
          {
           "lower": 2.9643531038189126,
           "timepoint": 76,
           "trajectory": "Example",
           "upper": 5.24291193253584
          },
          {
           "lower": 2.9135978997133405,
           "timepoint": 77,
           "trajectory": "Example",
           "upper": 5.419687310570495
          },
          {
           "lower": 3.0500389954466405,
           "timepoint": 78,
           "trajectory": "Example",
           "upper": 5.541106362280368
          },
          {
           "lower": 3.023576168567809,
           "timepoint": 79,
           "trajectory": "Example",
           "upper": 5.471199050171839
          },
          {
           "lower": 2.944619331871748,
           "timepoint": 80,
           "trajectory": "Example",
           "upper": 5.592478721727959
          },
          {
           "lower": 2.8676861245991336,
           "timepoint": 81,
           "trajectory": "Example",
           "upper": 5.520289809051102
          },
          {
           "lower": 2.618633385102213,
           "timepoint": 82,
           "trajectory": "Example",
           "upper": 5.528017560857795
          },
          {
           "lower": 2.4030729435358253,
           "timepoint": 83,
           "trajectory": "Example",
           "upper": 5.5390726661473915
          },
          {
           "lower": 2.3169134751122566,
           "timepoint": 84,
           "trajectory": "Example",
           "upper": 5.345529951927551
          },
          {
           "lower": 2.5210004404268886,
           "timepoint": 85,
           "trajectory": "Example",
           "upper": 5.4541753151978805
          },
          {
           "lower": 2.4290631125701956,
           "timepoint": 86,
           "trajectory": "Example",
           "upper": 5.351569013274755
          },
          {
           "lower": 2.351224349603531,
           "timepoint": 87,
           "trajectory": "Example",
           "upper": 5.579934597601178
          },
          {
           "lower": 2.3436517084185295,
           "timepoint": 88,
           "trajectory": "Example",
           "upper": 5.734402197908576
          },
          {
           "lower": 2.4444445675118063,
           "timepoint": 89,
           "trajectory": "Example",
           "upper": 5.646146364752674
          },
          {
           "lower": 2.538861384579291,
           "timepoint": 90,
           "trajectory": "Example",
           "upper": 5.450268626592526
          },
          {
           "lower": 2.4684999021137553,
           "timepoint": 91,
           "trajectory": "Example",
           "upper": 5.355873458340244
          },
          {
           "lower": 2.4099894516982765,
           "timepoint": 92,
           "trajectory": "Example",
           "upper": 5.528169768913476
          },
          {
           "lower": 2.365965746932946,
           "timepoint": 93,
           "trajectory": "Example",
           "upper": 5.613248378495709
          },
          {
           "lower": 2.3773394567956796,
           "timepoint": 94,
           "trajectory": "Example",
           "upper": 5.677103983075281
          },
          {
           "lower": 2.420286920896455,
           "timepoint": 95,
           "trajectory": "Example",
           "upper": 5.747034620574301
          },
          {
           "lower": 2.4969995290905045,
           "timepoint": 96,
           "trajectory": "Example",
           "upper": 5.782824404968441
          },
          {
           "lower": 2.589613799124274,
           "timepoint": 97,
           "trajectory": "Example",
           "upper": 5.801585315735582
          },
          {
           "lower": 2.7379319381929452,
           "timepoint": 98,
           "trajectory": "Example",
           "upper": 5.887694667096741
          },
          {
           "lower": 2.894491026836417,
           "timepoint": 99,
           "trajectory": "Example",
           "upper": 5.947308955593207
          }
         ]
        },
        {
         "name": "traces",
         "transform": [
          {
           "expr": "isValid(datum.value)",
           "type": "filter"
          },
          {
           "sort": {
            "field": [
             "trajectory",
             "timepoint"
            ]
           },
           "type": "collect"
          }
         ],
         "values": [
          {
           "color_by": "Envelope Mean",
           "sample_id": 0,
           "timepoint": 0,
           "trajectory": "Envelope_Mean",
           "value": 0.9633438529603728
          },
          {
           "color_by": "Envelope Mean",
           "sample_id": 0,
           "timepoint": 1,
           "trajectory": "Envelope_Mean",
           "value": 2.2082601651370966
          },
          {
           "color_by": "Envelope Mean",
           "sample_id": 0,
           "timepoint": 2,
           "trajectory": "Envelope_Mean",
           "value": 2.636436460543096
          },
          {
           "color_by": "Envelope Mean",
           "sample_id": 0,
           "timepoint": 3,
           "trajectory": "Envelope_Mean",
           "value": 2.97493442475912
          },
          {
           "color_by": "Envelope Mean",
           "sample_id": 0,
           "timepoint": 4,
           "trajectory": "Envelope_Mean",
           "value": 3.2196368885091076
          },
          {
           "color_by": "Envelope Mean",
           "sample_id": 0,
           "timepoint": 5,
           "trajectory": "Envelope_Mean",
           "value": 3.384010583841114
          },
          {
           "color_by": "Envelope Mean",
           "sample_id": 0,
           "timepoint": 6,
           "trajectory": "Envelope_Mean",
           "value": 3.479514437375622
          },
          {
           "color_by": "Envelope Mean",
           "sample_id": 0,
           "timepoint": 7,
           "trajectory": "Envelope_Mean",
           "value": 3.516757549027972
          },
          {
           "color_by": "Envelope Mean",
           "sample_id": 0,
           "timepoint": 8,
           "trajectory": "Envelope_Mean",
           "value": 3.59058386846585
          },
          {
           "color_by": "Envelope Mean",
           "sample_id": 0,
           "timepoint": 9,
           "trajectory": "Envelope_Mean",
           "value": 3.5737826328963602
          },
          {
           "color_by": "Envelope Mean",
           "sample_id": 0,
           "timepoint": 10,
           "trajectory": "Envelope_Mean",
           "value": 3.414055297807279
          },
          {
           "color_by": "Envelope Mean",
           "sample_id": 0,
           "timepoint": 11,
           "trajectory": "Envelope_Mean",
           "value": 3.243270727862645
          },
          {
           "color_by": "Envelope Mean",
           "sample_id": 0,
           "timepoint": 12,
           "trajectory": "Envelope_Mean",
           "value": 3.0865955070284397
          },
          {
           "color_by": "Envelope Mean",
           "sample_id": 0,
           "timepoint": 13,
           "trajectory": "Envelope_Mean",
           "value": 2.9591961824418194
          },
          {
           "color_by": "Envelope Mean",
           "sample_id": 0,
           "timepoint": 14,
           "trajectory": "Envelope_Mean",
           "value": 2.802016478159646
          },
          {
           "color_by": "Envelope Mean",
           "sample_id": 0,
           "timepoint": 15,
           "trajectory": "Envelope_Mean",
           "value": 2.6508099685065885
          },
          {
           "color_by": "Envelope Mean",
           "sample_id": 0,
           "timepoint": 16,
           "trajectory": "Envelope_Mean",
           "value": 2.54017575938848
          },
          {
           "color_by": "Envelope Mean",
           "sample_id": 0,
           "timepoint": 17,
           "trajectory": "Envelope_Mean",
           "value": 2.428557781638888
          },
          {
           "color_by": "Envelope Mean",
           "sample_id": 0,
           "timepoint": 18,
           "trajectory": "Envelope_Mean",
           "value": 2.354499409003722
          },
          {
           "color_by": "Envelope Mean",
           "sample_id": 0,
           "timepoint": 19,
           "trajectory": "Envelope_Mean",
           "value": 2.363274109364149
          },
          {
           "color_by": "Envelope Mean",
           "sample_id": 0,
           "timepoint": 20,
           "trajectory": "Envelope_Mean",
           "value": 2.5623777927681193
          },
          {
           "color_by": "Envelope Mean",
           "sample_id": 0,
           "timepoint": 21,
           "trajectory": "Envelope_Mean",
           "value": 2.796167170450695
          },
          {
           "color_by": "Envelope Mean",
           "sample_id": 0,
           "timepoint": 22,
           "trajectory": "Envelope_Mean",
           "value": 2.938114533897483
          },
          {
           "color_by": "Envelope Mean",
           "sample_id": 0,
           "timepoint": 23,
           "trajectory": "Envelope_Mean",
           "value": 3.0413979360364403
          },
          {
           "color_by": "Envelope Mean",
           "sample_id": 0,
           "timepoint": 24,
           "trajectory": "Envelope_Mean",
           "value": 3.128743138865455
          },
          {
           "color_by": "Envelope Mean",
           "sample_id": 0,
           "timepoint": 25,
           "trajectory": "Envelope_Mean",
           "value": 3.191953356550293
          },
          {
           "color_by": "Envelope Mean",
           "sample_id": 0,
           "timepoint": 26,
           "trajectory": "Envelope_Mean",
           "value": 3.2268135661711552
          },
          {
           "color_by": "Envelope Mean",
           "sample_id": 0,
           "timepoint": 27,
           "trajectory": "Envelope_Mean",
           "value": 3.246014400346424
          },
          {
           "color_by": "Envelope Mean",
           "sample_id": 0,
           "timepoint": 28,
           "trajectory": "Envelope_Mean",
           "value": 3.3129859594656264
          },
          {
           "color_by": "Envelope Mean",
           "sample_id": 0,
           "timepoint": 29,
           "trajectory": "Envelope_Mean",
           "value": 3.3739305458065685
          },
          {
           "color_by": "Envelope Mean",
           "sample_id": 0,
           "timepoint": 30,
           "trajectory": "Envelope_Mean",
           "value": 3.478916739759064
          },
          {
           "color_by": "Envelope Mean",
           "sample_id": 0,
           "timepoint": 31,
           "trajectory": "Envelope_Mean",
           "value": 3.568721671883876
          },
          {
           "color_by": "Envelope Mean",
           "sample_id": 0,
           "timepoint": 32,
           "trajectory": "Envelope_Mean",
           "value": 3.579146805207217
          },
          {
           "color_by": "Envelope Mean",
           "sample_id": 0,
           "timepoint": 33,
           "trajectory": "Envelope_Mean",
           "value": 3.550114094607414
          },
          {
           "color_by": "Envelope Mean",
           "sample_id": 0,
           "timepoint": 34,
           "trajectory": "Envelope_Mean",
           "value": 3.611242623473127
          },
          {
           "color_by": "Envelope Mean",
           "sample_id": 0,
           "timepoint": 35,
           "trajectory": "Envelope_Mean",
           "value": 3.6611067516604527
          },
          {
           "color_by": "Envelope Mean",
           "sample_id": 0,
           "timepoint": 36,
           "trajectory": "Envelope_Mean",
           "value": 3.634174715740693
          },
          {
           "color_by": "Envelope Mean",
           "sample_id": 0,
           "timepoint": 37,
           "trajectory": "Envelope_Mean",
           "value": 3.69202266562297
          },
          {
           "color_by": "Envelope Mean",
           "sample_id": 0,
           "timepoint": 38,
           "trajectory": "Envelope_Mean",
           "value": 3.5951966930002324
          },
          {
           "color_by": "Envelope Mean",
           "sample_id": 0,
           "timepoint": 39,
           "trajectory": "Envelope_Mean",
           "value": 3.5014108807853797
          },
          {
           "color_by": "Envelope Mean",
           "sample_id": 0,
           "timepoint": 40,
           "trajectory": "Envelope_Mean",
           "value": 3.4177889282648817
          },
          {
           "color_by": "Envelope Mean",
           "sample_id": 0,
           "timepoint": 41,
           "trajectory": "Envelope_Mean",
           "value": 3.4777793404034067
          },
          {
           "color_by": "Envelope Mean",
           "sample_id": 0,
           "timepoint": 42,
           "trajectory": "Envelope_Mean",
           "value": 3.4240399773004064
          },
          {
           "color_by": "Envelope Mean",
           "sample_id": 0,
           "timepoint": 43,
           "trajectory": "Envelope_Mean",
           "value": 3.3936922245072454
          },
          {
           "color_by": "Envelope Mean",
           "sample_id": 0,
           "timepoint": 44,
           "trajectory": "Envelope_Mean",
           "value": 3.5711780756764315
          },
          {
           "color_by": "Envelope Mean",
           "sample_id": 0,
           "timepoint": 45,
           "trajectory": "Envelope_Mean",
           "value": 3.764506058835466
          },
          {
           "color_by": "Envelope Mean",
           "sample_id": 0,
           "timepoint": 46,
           "trajectory": "Envelope_Mean",
           "value": 3.9353283782310022
          },
          {
           "color_by": "Envelope Mean",
           "sample_id": 0,
           "timepoint": 47,
           "trajectory": "Envelope_Mean",
           "value": 3.8827333702559694
          },
          {
           "color_by": "Envelope Mean",
           "sample_id": 0,
           "timepoint": 48,
           "trajectory": "Envelope_Mean",
           "value": 3.8177385725693815
          },
          {
           "color_by": "Envelope Mean",
           "sample_id": 0,
           "timepoint": 49,
           "trajectory": "Envelope_Mean",
           "value": 3.8460302624917038
          },
          {
           "color_by": "Envelope Mean",
           "sample_id": 0,
           "timepoint": 50,
           "trajectory": "Envelope_Mean",
           "value": 3.8834597664257107
          },
          {
           "color_by": "Envelope Mean",
           "sample_id": 0,
           "timepoint": 51,
           "trajectory": "Envelope_Mean",
           "value": 3.914134840512175
          },
          {
           "color_by": "Envelope Mean",
           "sample_id": 0,
           "timepoint": 52,
           "trajectory": "Envelope_Mean",
           "value": 3.994973839433339
          },
          {
           "color_by": "Envelope Mean",
           "sample_id": 0,
           "timepoint": 53,
           "trajectory": "Envelope_Mean",
           "value": 4.005347687363448
          },
          {
           "color_by": "Envelope Mean",
           "sample_id": 0,
           "timepoint": 54,
           "trajectory": "Envelope_Mean",
           "value": 3.9394380742996917
          },
          {
           "color_by": "Envelope Mean",
           "sample_id": 0,
           "timepoint": 55,
           "trajectory": "Envelope_Mean",
           "value": 3.885023106604412
          },
          {
           "color_by": "Envelope Mean",
           "sample_id": 0,
           "timepoint": 56,
           "trajectory": "Envelope_Mean",
           "value": 3.827326286765099
          },
          {
           "color_by": "Envelope Mean",
           "sample_id": 0,
           "timepoint": 57,
           "trajectory": "Envelope_Mean",
           "value": 3.7577610866958735
          },
          {
           "color_by": "Envelope Mean",
           "sample_id": 0,
           "timepoint": 58,
           "trajectory": "Envelope_Mean",
           "value": 3.67971420254278
          },
          {
           "color_by": "Envelope Mean",
           "sample_id": 0,
           "timepoint": 59,
           "trajectory": "Envelope_Mean",
           "value": 3.6518397546228196
          },
          {
           "color_by": "Envelope Mean",
           "sample_id": 0,
           "timepoint": 60,
           "trajectory": "Envelope_Mean",
           "value": 3.6079593504914698
          },
          {
           "color_by": "Envelope Mean",
           "sample_id": 0,
           "timepoint": 61,
           "trajectory": "Envelope_Mean",
           "value": 3.5767099031192844
          },
          {
           "color_by": "Envelope Mean",
           "sample_id": 0,
           "timepoint": 62,
           "trajectory": "Envelope_Mean",
           "value": 3.612035853550789
          },
          {
           "color_by": "Envelope Mean",
           "sample_id": 0,
           "timepoint": 63,
           "trajectory": "Envelope_Mean",
           "value": 3.661194424438897
          },
          {
           "color_by": "Envelope Mean",
           "sample_id": 0,
           "timepoint": 64,
           "trajectory": "Envelope_Mean",
           "value": 3.729102425561102
          },
          {
           "color_by": "Envelope Mean",
           "sample_id": 0,
           "timepoint": 65,
           "trajectory": "Envelope_Mean",
           "value": 3.8250265777522894
          },
          {
           "color_by": "Envelope Mean",
           "sample_id": 0,
           "timepoint": 66,
           "trajectory": "Envelope_Mean",
           "value": 3.8612011716417465
          },
          {
           "color_by": "Envelope Mean",
           "sample_id": 0,
           "timepoint": 67,
           "trajectory": "Envelope_Mean",
           "value": 3.9886141812387566
          },
          {
           "color_by": "Envelope Mean",
           "sample_id": 0,
           "timepoint": 68,
           "trajectory": "Envelope_Mean",
           "value": 4.111164343848843
          },
          {
           "color_by": "Envelope Mean",
           "sample_id": 0,
           "timepoint": 69,
           "trajectory": "Envelope_Mean",
           "value": 4.177593712567411
          },
          {
           "color_by": "Envelope Mean",
           "sample_id": 0,
           "timepoint": 70,
           "trajectory": "Envelope_Mean",
           "value": 4.140068532724991
          },
          {
           "color_by": "Envelope Mean",
           "sample_id": 0,
           "timepoint": 71,
           "trajectory": "Envelope_Mean",
           "value": 4.118550559106914
          },
          {
           "color_by": "Envelope Mean",
           "sample_id": 0,
           "timepoint": 72,
           "trajectory": "Envelope_Mean",
           "value": 4.054830818652903
          },
          {
           "color_by": "Envelope Mean",
           "sample_id": 0,
           "timepoint": 73,
           "trajectory": "Envelope_Mean",
           "value": 4.095914556313566
          },
          {
           "color_by": "Envelope Mean",
           "sample_id": 0,
           "timepoint": 74,
           "trajectory": "Envelope_Mean",
           "value": 4.118615612708103
          },
          {
           "color_by": "Envelope Mean",
           "sample_id": 0,
           "timepoint": 75,
           "trajectory": "Envelope_Mean",
           "value": 4.092818238038797
          },
          {
           "color_by": "Envelope Mean",
           "sample_id": 0,
           "timepoint": 76,
           "trajectory": "Envelope_Mean",
           "value": 4.103632518177376
          },
          {
           "color_by": "Envelope Mean",
           "sample_id": 0,
           "timepoint": 77,
           "trajectory": "Envelope_Mean",
           "value": 4.166642605141918
          },
          {
           "color_by": "Envelope Mean",
           "sample_id": 0,
           "timepoint": 78,
           "trajectory": "Envelope_Mean",
           "value": 4.295572678863504
          },
          {
           "color_by": "Envelope Mean",
           "sample_id": 0,
           "timepoint": 79,
           "trajectory": "Envelope_Mean",
           "value": 4.247387609369824
          },
          {
           "color_by": "Envelope Mean",
           "sample_id": 0,
           "timepoint": 80,
           "trajectory": "Envelope_Mean",
           "value": 4.268549026799853
          },
          {
           "color_by": "Envelope Mean",
           "sample_id": 0,
           "timepoint": 81,
           "trajectory": "Envelope_Mean",
           "value": 4.193987966825118
          },
          {
           "color_by": "Envelope Mean",
           "sample_id": 0,
           "timepoint": 82,
           "trajectory": "Envelope_Mean",
           "value": 4.073325472980004
          },
          {
           "color_by": "Envelope Mean",
           "sample_id": 0,
           "timepoint": 83,
           "trajectory": "Envelope_Mean",
           "value": 3.9710728048416084
          },
          {
           "color_by": "Envelope Mean",
           "sample_id": 0,
           "timepoint": 84,
           "trajectory": "Envelope_Mean",
           "value": 3.831221713519904
          },
          {
           "color_by": "Envelope Mean",
           "sample_id": 0,
           "timepoint": 85,
           "trajectory": "Envelope_Mean",
           "value": 3.9875878778123846
          },
          {
           "color_by": "Envelope Mean",
           "sample_id": 0,
           "timepoint": 86,
           "trajectory": "Envelope_Mean",
           "value": 3.8903160629224756
          },
          {
           "color_by": "Envelope Mean",
           "sample_id": 0,
           "timepoint": 87,
           "trajectory": "Envelope_Mean",
           "value": 3.9655794736023546
          },
          {
           "color_by": "Envelope Mean",
           "sample_id": 0,
           "timepoint": 88,
           "trajectory": "Envelope_Mean",
           "value": 4.039026953163553
          },
          {
           "color_by": "Envelope Mean",
           "sample_id": 0,
           "timepoint": 89,
           "trajectory": "Envelope_Mean",
           "value": 4.04529546613224
          },
          {
           "color_by": "Envelope Mean",
           "sample_id": 0,
           "timepoint": 90,
           "trajectory": "Envelope_Mean",
           "value": 3.9945650055859083
          },
          {
           "color_by": "Envelope Mean",
           "sample_id": 0,
           "timepoint": 91,
           "trajectory": "Envelope_Mean",
           "value": 3.9121866802269993
          },
          {
           "color_by": "Envelope Mean",
           "sample_id": 0,
           "timepoint": 92,
           "trajectory": "Envelope_Mean",
           "value": 3.9690796103058763
          },
          {
           "color_by": "Envelope Mean",
           "sample_id": 0,
           "timepoint": 93,
           "trajectory": "Envelope_Mean",
           "value": 3.9896070627143274
          },
          {
           "color_by": "Envelope Mean",
           "sample_id": 0,
           "timepoint": 94,
           "trajectory": "Envelope_Mean",
           "value": 4.027221719935481
          },
          {
           "color_by": "Envelope Mean",
           "sample_id": 0,
           "timepoint": 95,
           "trajectory": "Envelope_Mean",
           "value": 4.083660770735378
          },
          {
           "color_by": "Envelope Mean",
           "sample_id": 0,
           "timepoint": 96,
           "trajectory": "Envelope_Mean",
           "value": 4.139911967029473
          },
          {
           "color_by": "Envelope Mean",
           "sample_id": 0,
           "timepoint": 97,
           "trajectory": "Envelope_Mean",
           "value": 4.195599557429928
          },
          {
           "color_by": "Envelope Mean",
           "sample_id": 0,
           "timepoint": 98,
           "trajectory": "Envelope_Mean",
           "value": 4.312813302644843
          },
          {
           "color_by": "Envelope Mean",
           "sample_id": 0,
           "timepoint": 99,
           "trajectory": "Envelope_Mean",
           "value": 4.420899991214812
          },
          {
           "color_by": "Chaos",
           "sample_id": 0,
           "timepoint": 0,
           "trajectory": "Chaos",
           "value": 0.8540029842053596
          },
          {
           "color_by": "Chaos",
           "sample_id": 0,
           "timepoint": 1,
           "trajectory": "Chaos",
           "value": 2.1887338518936934
          },
          {
           "color_by": "Chaos",
           "sample_id": 0,
           "timepoint": 2,
           "trajectory": "Chaos",
           "value": 2.6740531127479166
          },
          {
           "color_by": "Chaos",
           "sample_id": 0,
           "timepoint": 3,
           "trajectory": "Chaos",
           "value": 3.0242502496075008
          },
          {
           "color_by": "Chaos",
           "sample_id": 0,
           "timepoint": 4,
           "trajectory": "Chaos",
           "value": 3.2471719731459694
          },
          {
           "color_by": "Chaos",
           "sample_id": 0,
           "timepoint": 5,
           "trajectory": "Chaos",
           "value": 3.340144875601249
          },
          {
           "color_by": "Chaos",
           "sample_id": 0,
           "timepoint": 6,
           "trajectory": "Chaos",
           "value": 3.307408124935178
          },
          {
           "color_by": "Chaos",
           "sample_id": 0,
           "timepoint": 7,
           "trajectory": "Chaos",
           "value": 3.163939833483654
          },
          {
           "color_by": "Chaos",
           "sample_id": 0,
           "timepoint": 8,
           "trajectory": "Chaos",
           "value": 2.9353548754604177
          },
          {
           "color_by": "Chaos",
           "sample_id": 0,
           "timepoint": 9,
           "trajectory": "Chaos",
           "value": 2.6557135160913816
          },
          {
           "color_by": "Chaos",
           "sample_id": 0,
           "timepoint": 10,
           "trajectory": "Chaos",
           "value": 2.3640059687494563
          },
          {
           "color_by": "Chaos",
           "sample_id": 0,
           "timepoint": 11,
           "trajectory": "Chaos",
           "value": 2.0999024054580806
          },
          {
           "color_by": "Chaos",
           "sample_id": 0,
           "timepoint": 12,
           "trajectory": "Chaos",
           "value": 1.899336654834095
          },
          {
           "color_by": "Chaos",
           "sample_id": 0,
           "timepoint": 13,
           "trajectory": "Chaos",
           "value": 1.7904702990166748
          },
          {
           "color_by": "Chaos",
           "sample_id": 0,
           "timepoint": 14,
           "trajectory": "Chaos",
           "value": 1.7905222582903428
          },
          {
           "color_by": "Chaos",
           "sample_id": 0,
           "timepoint": 15,
           "trajectory": "Chaos",
           "value": 1.9038405838108057
          },
          {
           "color_by": "Chaos",
           "sample_id": 0,
           "timepoint": 16,
           "trajectory": "Chaos",
           "value": 2.1214454452749667
          },
          {
           "color_by": "Chaos",
           "sample_id": 0,
           "timepoint": 17,
           "trajectory": "Chaos",
           "value": 2.422100124278338
          },
          {
           "color_by": "Chaos",
           "sample_id": 0,
           "timepoint": 18,
           "trajectory": "Chaos",
           "value": 2.7747891127608506
          },
          {
           "color_by": "Chaos",
           "sample_id": 0,
           "timepoint": 19,
           "trajectory": "Chaos",
           "value": 3.142319209112334
          },
          {
           "color_by": "Chaos",
           "sample_id": 0,
           "timepoint": 20,
           "trajectory": "Chaos",
           "value": 3.485629393896178
          },
          {
           "color_by": "Chaos",
           "sample_id": 0,
           "timepoint": 21,
           "trajectory": "Chaos",
           "value": 3.768313135470834
          },
          {
           "color_by": "Chaos",
           "sample_id": 0,
           "timepoint": 22,
           "trajectory": "Chaos",
           "value": 3.9608320263083154
          },
          {
           "color_by": "Chaos",
           "sample_id": 0,
           "timepoint": 23,
           "trajectory": "Chaos",
           "value": 4.043935096468694
          },
          {
           "color_by": "Chaos",
           "sample_id": 0,
           "timepoint": 24,
           "trajectory": "Chaos",
           "value": 4.010889676304728
          },
          {
           "color_by": "Chaos",
           "sample_id": 0,
           "timepoint": 25,
           "trajectory": "Chaos",
           "value": 3.8682667104435673
          },
          {
           "color_by": "Chaos",
           "sample_id": 0,
           "timepoint": 26,
           "trajectory": "Chaos",
           "value": 3.635190139642575
          },
          {
           "color_by": "Chaos",
           "sample_id": 0,
           "timepoint": 27,
           "trajectory": "Chaos",
           "value": 3.341137125217788
          },
          {
           "color_by": "Chaos",
           "sample_id": 0,
           "timepoint": 28,
           "trajectory": "Chaos",
           "value": 3.0225430486979383
          },
          {
           "color_by": "Chaos",
           "sample_id": 0,
           "timepoint": 29,
           "trajectory": "Chaos",
           "value": 2.718603088640324
          },
          {
           "color_by": "Chaos",
           "sample_id": 0,
           "timepoint": 30,
           "trajectory": "Chaos",
           "value": 2.4667548486809188
          },
          {
           "color_by": "Chaos",
           "sample_id": 0,
           "timepoint": 31,
           "trajectory": "Chaos",
           "value": 2.2983632925407225
          },
          {
           "color_by": "Chaos",
           "sample_id": 0,
           "timepoint": 32,
           "trajectory": "Chaos",
           "value": 2.2351058881872587
          },
          {
           "color_by": "Chaos",
           "sample_id": 0,
           "timepoint": 33,
           "trajectory": "Chaos",
           "value": 2.2864750682093207
          },
          {
           "color_by": "Chaos",
           "sample_id": 0,
           "timepoint": 34,
           "trajectory": "Chaos",
           "value": 2.4486861976486036
          },
          {
           "color_by": "Chaos",
           "sample_id": 0,
           "timepoint": 35,
           "trajectory": "Chaos",
           "value": 2.7051170769390764
          },
          {
           "color_by": "Chaos",
           "sample_id": 0,
           "timepoint": 36,
           "trajectory": "Chaos",
           "value": 3.0282283051137098
          },
          {
           "color_by": "Chaos",
           "sample_id": 0,
           "timepoint": 37,
           "trajectory": "Chaos",
           "value": 3.3827429733961987
          },
          {
           "color_by": "Chaos",
           "sample_id": 0,
           "timepoint": 38,
           "trajectory": "Chaos",
           "value": 3.7297188634744303
          },
          {
           "color_by": "Chaos",
           "sample_id": 0,
           "timepoint": 39,
           "trajectory": "Chaos",
           "value": 4.031043351136698
          },
          {
           "color_by": "Chaos",
           "sample_id": 0,
           "timepoint": 40,
           "trajectory": "Chaos",
           "value": 4.25383244474304
          },
          {
           "color_by": "Chaos",
           "sample_id": 0,
           "timepoint": 41,
           "trajectory": "Chaos",
           "value": 4.374226445962595
          },
          {
           "color_by": "Chaos",
           "sample_id": 0,
           "timepoint": 42,
           "trajectory": "Chaos",
           "value": 4.380144331476931
          },
          {
           "color_by": "Chaos",
           "sample_id": 0,
           "timepoint": 43,
           "trajectory": "Chaos",
           "value": 4.272679087646226
          },
          {
           "color_by": "Chaos",
           "sample_id": 0,
           "timepoint": 44,
           "trajectory": "Chaos",
           "value": 4.065973025339495
          },
          {
           "color_by": "Chaos",
           "sample_id": 0,
           "timepoint": 45,
           "trajectory": "Chaos",
           "value": 3.785587469355594
          },
          {
           "color_by": "Chaos",
           "sample_id": 0,
           "timepoint": 46,
           "trajectory": "Chaos",
           "value": 3.465554923530054
          },
          {
           "color_by": "Chaos",
           "sample_id": 0,
           "timepoint": 47,
           "trajectory": "Chaos",
           "value": 3.144453817743295
          },
          {
           "color_by": "Chaos",
           "sample_id": 0,
           "timepoint": 48,
           "trajectory": "Chaos",
           "value": 2.8609587093938815
          },
          {
           "color_by": "Chaos",
           "sample_id": 0,
           "timepoint": 49,
           "trajectory": "Chaos",
           "value": 2.6493793293279713
          },
          {
           "color_by": "Chaos",
           "sample_id": 0,
           "timepoint": 50,
           "trajectory": "Chaos",
           "value": 2.5357031486646275
          },
          {
           "color_by": "Chaos",
           "sample_id": 0,
           "timepoint": 51,
           "trajectory": "Chaos",
           "value": 2.5345980499932335
          },
          {
           "color_by": "Chaos",
           "sample_id": 0,
           "timepoint": 52,
           "trajectory": "Chaos",
           "value": 2.6477209163615276
          },
          {
           "color_by": "Chaos",
           "sample_id": 0,
           "timepoint": 53,
           "trajectory": "Chaos",
           "value": 2.8635272841257593
          },
          {
           "color_by": "Chaos",
           "sample_id": 0,
           "timepoint": 54,
           "trajectory": "Chaos",
           "value": 3.158604023952466
          },
          {
           "color_by": "Chaos",
           "sample_id": 0,
           "timepoint": 55,
           "trajectory": "Chaos",
           "value": 3.5003712984456956
          },
          {
           "color_by": "Chaos",
           "sample_id": 0,
           "timepoint": 56,
           "trajectory": "Chaos",
           "value": 3.8508420677838164
          },
          {
           "color_by": "Chaos",
           "sample_id": 0,
           "timepoint": 57,
           "trajectory": "Chaos",
           "value": 4.171005402586516
          },
          {
           "color_by": "Chaos",
           "sample_id": 0,
           "timepoint": 58,
           "trajectory": "Chaos",
           "value": 4.425327892834285
          },
          {
           "color_by": "Chaos",
           "sample_id": 0,
           "timepoint": 59,
           "trajectory": "Chaos",
           "value": 4.58585381642777
          },
          {
           "color_by": "Chaos",
           "sample_id": 0,
           "timepoint": 60,
           "trajectory": "Chaos",
           "value": 4.635431022876817
          },
          {
           "color_by": "Chaos",
           "sample_id": 0,
           "timepoint": 61,
           "trajectory": "Chaos",
           "value": 4.569690355836077
          },
          {
           "color_by": "Chaos",
           "sample_id": 0,
           "timepoint": 62,
           "trajectory": "Chaos",
           "value": 4.397550245338489
          },
          {
           "color_by": "Chaos",
           "sample_id": 0,
           "timepoint": 63,
           "trajectory": "Chaos",
           "value": 4.140188255236053
          },
          {
           "color_by": "Chaos",
           "sample_id": 0,
           "timepoint": 64,
           "trajectory": "Chaos",
           "value": 3.828598242376687
          },
          {
           "color_by": "Chaos",
           "sample_id": 0,
           "timepoint": 65,
           "trajectory": "Chaos",
           "value": 3.5000149653817765
          },
          {
           "color_by": "Chaos",
           "sample_id": 0,
           "timepoint": 66,
           "trajectory": "Chaos",
           "value": 3.1936186459086007
          },
          {
           "color_by": "Chaos",
           "sample_id": 0,
           "timepoint": 67,
           "trajectory": "Chaos",
           "value": 2.9460150588402336
          },
          {
           "color_by": "Chaos",
           "sample_id": 0,
           "timepoint": 68,
           "trajectory": "Chaos",
           "value": 2.7870126255412986
          },
          {
           "color_by": "Chaos",
           "sample_id": 0,
           "timepoint": 69,
           "trajectory": "Chaos",
           "value": 2.736183718269669
          },
          {
           "color_by": "Chaos",
           "sample_id": 0,
           "timepoint": 70,
           "trajectory": "Chaos",
           "value": 2.8006069073991715
          },
          {
           "color_by": "Chaos",
           "sample_id": 0,
           "timepoint": 71,
           "trajectory": "Chaos",
           "value": 2.9740506347742905
          },
          {
           "color_by": "Chaos",
           "sample_id": 0,
           "timepoint": 72,
           "trajectory": "Chaos",
           "value": 3.2376924955889916
          },
          {
           "color_by": "Chaos",
           "sample_id": 0,
           "timepoint": 73,
           "trajectory": "Chaos",
           "value": 3.5622911442038943
          },
          {
           "color_by": "Chaos",
           "sample_id": 0,
           "timepoint": 74,
           "trajectory": "Chaos",
           "value": 3.911560246477815
          },
          {
           "color_by": "Chaos",
           "sample_id": 0,
           "timepoint": 75,
           "trajectory": "Chaos",
           "value": 4.246355218087892
          },
          {
           "color_by": "Chaos",
           "sample_id": 0,
           "timepoint": 76,
           "trajectory": "Chaos",
           "value": 4.529189715156502
          },
          {
           "color_by": "Chaos",
           "sample_id": 0,
           "timepoint": 77,
           "trajectory": "Chaos",
           "value": 4.728560799132087
          },
          {
           "color_by": "Chaos",
           "sample_id": 0,
           "timepoint": 78,
           "trajectory": "Chaos",
           "value": 4.822583771556605
          },
          {
           "color_by": "Chaos",
           "sample_id": 0,
           "timepoint": 79,
           "trajectory": "Chaos",
           "value": 4.801517319399532
          },
          {
           "color_by": "Chaos",
           "sample_id": 0,
           "timepoint": 80,
           "trajectory": "Chaos",
           "value": 4.668887639201989
          },
          {
           "color_by": "Chaos",
           "sample_id": 0,
           "timepoint": 81,
           "trajectory": "Chaos",
           "value": 4.441081847500229
          },
          {
           "color_by": "Chaos",
           "sample_id": 0,
           "timepoint": 82,
           "trajectory": "Chaos",
           "value": 4.145457587171186
          },
          {
           "color_by": "Chaos",
           "sample_id": 0,
           "timepoint": 83,
           "trajectory": "Chaos",
           "value": 3.8171869294373697
          },
          {
           "color_by": "Chaos",
           "sample_id": 0,
           "timepoint": 84,
           "trajectory": "Chaos",
           "value": 3.495198698662612
          },
          {
           "color_by": "Chaos",
           "sample_id": 0,
           "timepoint": 85,
           "trajectory": "Chaos",
           "value": 3.217687364225137
          },
          {
           "color_by": "Chaos",
           "sample_id": 0,
           "timepoint": 86,
           "trajectory": "Chaos",
           "value": 3.0177066499553353
          },
          {
           "color_by": "Chaos",
           "sample_id": 0,
           "timepoint": 87,
           "trajectory": "Chaos",
           "value": 2.9193562375341684
          },
          {
           "color_by": "Chaos",
           "sample_id": 0,
           "timepoint": 88,
           "trajectory": "Chaos",
           "value": 2.9350015135253487
          },
          {
           "color_by": "Chaos",
           "sample_id": 0,
           "timepoint": 89,
           "trajectory": "Chaos",
           "value": 3.0638471249191004
          },
          {
           "color_by": "Chaos",
           "sample_id": 0,
           "timepoint": 90,
           "trajectory": "Chaos",
           "value": 3.292028915839599
          },
          {
           "color_by": "Chaos",
           "sample_id": 0,
           "timepoint": 91,
           "trajectory": "Chaos",
           "value": 3.594213638692629
          },
          {
           "color_by": "Chaos",
           "sample_id": 0,
           "timepoint": 92,
           "trajectory": "Chaos",
           "value": 3.936521877379137
          },
          {
           "color_by": "Chaos",
           "sample_id": 0,
           "timepoint": 93,
           "trajectory": "Chaos",
           "value": 4.280436957964353
          },
          {
           "color_by": "Chaos",
           "sample_id": 0,
           "timepoint": 94,
           "trajectory": "Chaos",
           "value": 4.587248866387938
          },
          {
           "color_by": "Chaos",
           "sample_id": 0,
           "timepoint": 95,
           "trajectory": "Chaos",
           "value": 4.822520467714622
          },
          {
           "color_by": "Chaos",
           "sample_id": 0,
           "timepoint": 96,
           "trajectory": "Chaos",
           "value": 4.960060748431493
          },
          {
           "color_by": "Chaos",
           "sample_id": 0,
           "timepoint": 97,
           "trajectory": "Chaos",
           "value": 4.984946679249914
          },
          {
           "color_by": "Chaos",
           "sample_id": 0,
           "timepoint": 98,
           "trajectory": "Chaos",
           "value": 4.895245058849037
          },
          {
           "color_by": "Chaos",
           "sample_id": 0,
           "timepoint": 99,
           "trajectory": "Chaos",
           "value": 4.702235685379526
          },
          {
           "color_by": "Mean",
           "sample_id": 0,
           "timepoint": 0,
           "trajectory": "Mean",
           "value": 0.890938472310111
          },
          {
           "color_by": "Mean",
           "sample_id": 0,
           "timepoint": 1,
           "trajectory": "Mean",
           "value": 2.1413756442871033
          },
          {
           "color_by": "Mean",
           "sample_id": 0,
           "timepoint": 2,
           "trajectory": "Mean",
           "value": 2.5650584953939912
          },
          {
           "color_by": "Mean",
           "sample_id": 0,
           "timepoint": 3,
           "trajectory": "Mean",
           "value": 2.8954955485186167
          },
          {
           "color_by": "Mean",
           "sample_id": 0,
           "timepoint": 4,
           "trajectory": "Mean",
           "value": 3.1533252724509095
          },
          {
           "color_by": "Mean",
           "sample_id": 0,
           "timepoint": 5,
           "trajectory": "Mean",
           "value": 3.3400929449188745
          },
          {
           "color_by": "Mean",
           "sample_id": 0,
           "timepoint": 6,
           "trajectory": "Mean",
           "value": 3.4546710668441167
          },
          {
           "color_by": "Mean",
           "sample_id": 0,
           "timepoint": 7,
           "trajectory": "Mean",
           "value": 3.497357247277696
          },
          {
           "color_by": "Mean",
           "sample_id": 0,
           "timepoint": 8,
           "trajectory": "Mean",
           "value": 3.4713181650587037
          },
          {
           "color_by": "Mean",
           "sample_id": 0,
           "timepoint": 9,
           "trajectory": "Mean",
           "value": 3.383049993531384
          },
          {
           "color_by": "Mean",
           "sample_id": 0,
           "timepoint": 10,
           "trajectory": "Mean",
           "value": 3.2423105158709187
          },
          {
           "color_by": "Mean",
           "sample_id": 0,
           "timepoint": 11,
           "trajectory": "Mean",
           "value": 3.0616976592310317
          },
          {
           "color_by": "Mean",
           "sample_id": 0,
           "timepoint": 12,
           "trajectory": "Mean",
           "value": 2.855971918740913
          },
          {
           "color_by": "Mean",
           "sample_id": 0,
           "timepoint": 13,
           "trajectory": "Mean",
           "value": 2.6411988189739457
          },
          {
           "color_by": "Mean",
           "sample_id": 0,
           "timepoint": 14,
           "trajectory": "Mean",
           "value": 2.433782926432506
          },
          {
           "color_by": "Mean",
           "sample_id": 0,
           "timepoint": 15,
           "trajectory": "Mean",
           "value": 2.249464250064313
          },
          {
           "color_by": "Mean",
           "sample_id": 0,
           "timepoint": 16,
           "trajectory": "Mean",
           "value": 2.1023464012496538
          },
          {
           "color_by": "Mean",
           "sample_id": 0,
           "timepoint": 17,
           "trajectory": "Mean",
           "value": 2.004021765978307
          },
          {
           "color_by": "Mean",
           "sample_id": 0,
           "timepoint": 18,
           "trajectory": "Mean",
           "value": 1.962851561576971
          },
          {
           "color_by": "Mean",
           "sample_id": 0,
           "timepoint": 19,
           "trajectory": "Mean",
           "value": 1.9834480630360978
          },
          {
           "color_by": "Mean",
           "sample_id": 0,
           "timepoint": 20,
           "trajectory": "Mean",
           "value": 2.066392954043389
          },
          {
           "color_by": "Mean",
           "sample_id": 0,
           "timepoint": 21,
           "trajectory": "Mean",
           "value": 2.2082104227868826
          },
          {
           "color_by": "Mean",
           "sample_id": 0,
           "timepoint": 22,
           "trajectory": "Mean",
           "value": 2.401597197497387
          },
          {
           "color_by": "Mean",
           "sample_id": 0,
           "timepoint": 23,
           "trajectory": "Mean",
           "value": 2.635895212397305
          },
          {
           "color_by": "Mean",
           "sample_id": 0,
           "timepoint": 24,
           "trajectory": "Mean",
           "value": 2.8977770415881294
          },
          {
           "color_by": "Mean",
           "sample_id": 0,
           "timepoint": 25,
           "trajectory": "Mean",
           "value": 3.1721006144654367
          },
          {
           "color_by": "Mean",
           "sample_id": 0,
           "timepoint": 26,
           "trajectory": "Mean",
           "value": 3.442878891434629
          },
          {
           "color_by": "Mean",
           "sample_id": 0,
           "timepoint": 27,
           "trajectory": "Mean",
           "value": 3.694302818136032
          },
          {
           "color_by": "Mean",
           "sample_id": 0,
           "timepoint": 28,
           "trajectory": "Mean",
           "value": 3.911752455601865
          },
          {
           "color_by": "Mean",
           "sample_id": 0,
           "timepoint": 29,
           "trajectory": "Mean",
           "value": 4.082731918354851
          },
          {
           "color_by": "Mean",
           "sample_id": 0,
           "timepoint": 30,
           "trajectory": "Mean",
           "value": 4.197668593931275
          },
          {
           "color_by": "Mean",
           "sample_id": 0,
           "timepoint": 31,
           "trajectory": "Mean",
           "value": 4.250525755935487
          },
          {
           "color_by": "Mean",
           "sample_id": 0,
           "timepoint": 32,
           "trajectory": "Mean",
           "value": 4.239189567102598
          },
          {
           "color_by": "Mean",
           "sample_id": 0,
           "timepoint": 33,
           "trajectory": "Mean",
           "value": 4.165605840922922
          },
          {
           "color_by": "Mean",
           "sample_id": 0,
           "timepoint": 34,
           "trajectory": "Mean",
           "value": 4.0356578737360165
          },
          {
           "color_by": "Mean",
           "sample_id": 0,
           "timepoint": 35,
           "trajectory": "Mean",
           "value": 3.8587931573739684
          },
          {
           "color_by": "Mean",
           "sample_id": 0,
           "timepoint": 36,
           "trajectory": "Mean",
           "value": 3.6474227836834876
          },
          {
           "color_by": "Mean",
           "sample_id": 0,
           "timepoint": 37,
           "trajectory": "Mean",
           "value": 3.4161318365748072
          },
          {
           "color_by": "Mean",
           "sample_id": 0,
           "timepoint": 38,
           "trajectory": "Mean",
           "value": 3.1807511113465123
          },
          {
           "color_by": "Mean",
           "sample_id": 0,
           "timepoint": 39,
           "trajectory": "Mean",
           "value": 2.9573493371906454
          },
          {
           "color_by": "Mean",
           "sample_id": 0,
           "timepoint": 40,
           "trajectory": "Mean",
           "value": 2.7612101437432814
          },
          {
           "color_by": "Mean",
           "sample_id": 0,
           "timepoint": 41,
           "trajectory": "Mean",
           "value": 2.6058589834362254
          },
          {
           "color_by": "Mean",
           "sample_id": 0,
           "timepoint": 42,
           "trajectory": "Mean",
           "value": 2.5022020362954605
          },
          {
           "color_by": "Mean",
           "sample_id": 0,
           "timepoint": 43,
           "trajectory": "Mean",
           "value": 2.457831985682211
          },
          {
           "color_by": "Mean",
           "sample_id": 0,
           "timepoint": 44,
           "trajectory": "Mean",
           "value": 2.476544917195452
          },
          {
           "color_by": "Mean",
           "sample_id": 0,
           "timepoint": 45,
           "trajectory": "Mean",
           "value": 2.558099136420208
          },
          {
           "color_by": "Mean",
           "sample_id": 0,
           "timepoint": 46,
           "trajectory": "Mean",
           "value": 2.6982312820357492
          },
          {
           "color_by": "Mean",
           "sample_id": 0,
           "timepoint": 47,
           "trajectory": "Mean",
           "value": 2.888928711704596
          },
          {
           "color_by": "Mean",
           "sample_id": 0,
           "timepoint": 48,
           "trajectory": "Mean",
           "value": 3.1189408043179156
          },
          {
           "color_by": "Mean",
           "sample_id": 0,
           "timepoint": 49,
           "trajectory": "Mean",
           "value": 3.374496594589715
          },
          {
           "color_by": "Mean",
           "sample_id": 0,
           "timepoint": 50,
           "trajectory": "Mean",
           "value": 3.6401830051813366
          },
          {
           "color_by": "Mean",
           "sample_id": 0,
           "timepoint": 51,
           "trajectory": "Mean",
           "value": 3.899927705648587
          },
          {
           "color_by": "Mean",
           "sample_id": 0,
           "timepoint": 52,
           "trajectory": "Mean",
           "value": 4.1380239589070795
          },
          {
           "color_by": "Mean",
           "sample_id": 0,
           "timepoint": 53,
           "trajectory": "Mean",
           "value": 4.340132139620002
          },
          {
           "color_by": "Mean",
           "sample_id": 0,
           "timepoint": 54,
           "trajectory": "Mean",
           "value": 4.494194095492928
          },
          {
           "color_by": "Mean",
           "sample_id": 0,
           "timepoint": 55,
           "trajectory": "Mean",
           "value": 4.591202077163316
          },
          {
           "color_by": "Mean",
           "sample_id": 0,
           "timepoint": 56,
           "trajectory": "Mean",
           "value": 4.625773231168483
          },
          {
           "color_by": "Mean",
           "sample_id": 0,
           "timepoint": 57,
           "trajectory": "Mean",
           "value": 4.596493042623189
          },
          {
           "color_by": "Mean",
           "sample_id": 0,
           "timepoint": 58,
           "trajectory": "Mean",
           "value": 4.506005839928635
          },
          {
           "color_by": "Mean",
           "sample_id": 0,
           "timepoint": 59,
           "trajectory": "Mean",
           "value": 4.360846594535541
          },
          {
           "color_by": "Mean",
           "sample_id": 0,
           "timepoint": 60,
           "trajectory": "Mean",
           "value": 4.171024737051628
          },
          {
           "color_by": "Mean",
           "sample_id": 0,
           "timepoint": 61,
           "trajectory": "Mean",
           "value": 3.94938651594878
          },
          {
           "color_by": "Mean",
           "sample_id": 0,
           "timepoint": 62,
           "trajectory": "Mean",
           "value": 3.7107965394677453
          },
          {
           "color_by": "Mean",
           "sample_id": 0,
           "timepoint": 63,
           "trajectory": "Mean",
           "value": 3.471190665469912
          },
          {
           "color_by": "Mean",
           "sample_id": 0,
           "timepoint": 64,
           "trajectory": "Mean",
           "value": 3.246560603461348
          },
          {
           "color_by": "Mean",
           "sample_id": 0,
           "timepoint": 65,
           "trajectory": "Mean",
           "value": 3.0519349452260003
          },
          {
           "color_by": "Mean",
           "sample_id": 0,
           "timepoint": 66,
           "trajectory": "Mean",
           "value": 2.900421568066062
          },
          {
           "color_by": "Mean",
           "sample_id": 0,
           "timepoint": 67,
           "trajectory": "Mean",
           "value": 2.802372443054519
          },
          {
           "color_by": "Mean",
           "sample_id": 0,
           "timepoint": 68,
           "trajectory": "Mean",
           "value": 2.7647240792595036
          },
          {
           "color_by": "Mean",
           "sample_id": 0,
           "timepoint": 69,
           "trajectory": "Mean",
           "value": 2.7905556408215024
          },
          {
           "color_by": "Mean",
           "sample_id": 0,
           "timepoint": 70,
           "trajectory": "Mean",
           "value": 2.878892900498916
          },
          {
           "color_by": "Mean",
           "sample_id": 0,
           "timepoint": 71,
           "trajectory": "Mean",
           "value": 3.0247705250472965
          },
          {
           "color_by": "Mean",
           "sample_id": 0,
           "timepoint": 72,
           "trajectory": "Mean",
           "value": 3.2195487231672795
          },
          {
           "color_by": "Mean",
           "sample_id": 0,
           "timepoint": 73,
           "trajectory": "Mean",
           "value": 3.4514640751070487
          },
          {
           "color_by": "Mean",
           "sample_id": 0,
           "timepoint": 74,
           "trajectory": "Mean",
           "value": 3.706379437574821
          },
          {
           "color_by": "Mean",
           "sample_id": 0,
           "timepoint": 75,
           "trajectory": "Mean",
           "value": 3.968685129666791
          },
          {
           "color_by": "Mean",
           "sample_id": 0,
           "timepoint": 76,
           "trajectory": "Mean",
           "value": 4.222293963703571
          },
          {
           "color_by": "Mean",
           "sample_id": 0,
           "timepoint": 77,
           "trajectory": "Mean",
           "value": 4.451666703707242
          },
          {
           "color_by": "Mean",
           "sample_id": 0,
           "timepoint": 78,
           "trajectory": "Mean",
           "value": 4.642802594946671
          },
          {
           "color_by": "Mean",
           "sample_id": 0,
           "timepoint": 79,
           "trajectory": "Mean",
           "value": 4.784131834130589
          },
          {
           "color_by": "Mean",
           "sample_id": 0,
           "timepoint": 80,
           "trajectory": "Mean",
           "value": 4.867253099554036
          },
          {
           "color_by": "Mean",
           "sample_id": 0,
           "timepoint": 81,
           "trajectory": "Mean",
           "value": 4.887469135481831
          },
          {
           "color_by": "Mean",
           "sample_id": 0,
           "timepoint": 82,
           "trajectory": "Mean",
           "value": 4.844086255908079
          },
          {
           "color_by": "Mean",
           "sample_id": 0,
           "timepoint": 83,
           "trajectory": "Mean",
           "value": 4.740458679248382
          },
          {
           "color_by": "Mean",
           "sample_id": 0,
           "timepoint": 84,
           "trajectory": "Mean",
           "value": 4.583774868528449
          },
          {
           "color_by": "Mean",
           "sample_id": 0,
           "timepoint": 85,
           "trajectory": "Mean",
           "value": 4.38459949471795
          },
          {
           "color_by": "Mean",
           "sample_id": 0,
           "timepoint": 86,
           "trajectory": "Mean",
           "value": 4.156200216033252
          },
          {
           "color_by": "Mean",
           "sample_id": 0,
           "timepoint": 87,
           "trajectory": "Mean",
           "value": 3.913702180624195
          },
          {
           "color_by": "Mean",
           "sample_id": 0,
           "timepoint": 88,
           "trajectory": "Mean",
           "value": 3.673124139978731
          },
          {
           "color_by": "Mean",
           "sample_id": 0,
           "timepoint": 89,
           "trajectory": "Mean",
           "value": 3.4503576058272656
          },
          {
           "color_by": "Mean",
           "sample_id": 0,
           "timepoint": 90,
           "trajectory": "Mean",
           "value": 3.2601541134025083
          },
          {
           "color_by": "Mean",
           "sample_id": 0,
           "timepoint": 91,
           "trajectory": "Mean",
           "value": 3.1151851372499335
          },
          {
           "color_by": "Mean",
           "sample_id": 0,
           "timepoint": 92,
           "trajectory": "Mean",
           "value": 3.0252345753178265
          },
          {
           "color_by": "Mean",
           "sample_id": 0,
           "timepoint": 93,
           "trajectory": "Mean",
           "value": 2.9965752679035624
          },
          {
           "color_by": "Mean",
           "sample_id": 0,
           "timepoint": 94,
           "trajectory": "Mean",
           "value": 3.0315692886951147
          },
          {
           "color_by": "Mean",
           "sample_id": 0,
           "timepoint": 95,
           "trajectory": "Mean",
           "value": 3.128517483184718
          },
          {
           "color_by": "Mean",
           "sample_id": 0,
           "timepoint": 96,
           "trajectory": "Mean",
           "value": 3.2817678441211635
          },
          {
           "color_by": "Mean",
           "sample_id": 0,
           "timepoint": 97,
           "trajectory": "Mean",
           "value": 3.4820758168665042
          },
          {
           "color_by": "Mean",
           "sample_id": 0,
           "timepoint": 98,
           "trajectory": "Mean",
           "value": 3.717193570943895
          },
          {
           "color_by": "Mean",
           "sample_id": 0,
           "timepoint": 99,
           "trajectory": "Mean",
           "value": 3.9726506810605198
          },
          {
           "color_by": "Random",
           "sample_id": 0,
           "timepoint": 0,
           "trajectory": "Random",
           "value": 1.7937862347750149
          },
          {
           "color_by": "Random",
           "sample_id": 0,
           "timepoint": 1,
           "trajectory": "Random",
           "value": 3.059713717779222
          },
          {
           "color_by": "Random",
           "sample_id": 0,
           "timepoint": 2,
           "trajectory": "Random",
           "value": 3.4956978332619464
          },
          {
           "color_by": "Random",
           "sample_id": 0,
           "timepoint": 3,
           "trajectory": "Random",
           "value": 3.8324198681064887
          },
          {
           "color_by": "Random",
           "sample_id": 0,
           "timepoint": 4,
           "trajectory": "Random",
           "value": 4.088380198188949
          },
          {
           "color_by": "Random",
           "sample_id": 0,
           "timepoint": 5,
           "trajectory": "Random",
           "value": 4.263936547183991
          },
          {
           "color_by": "Random",
           "sample_id": 0,
           "timepoint": 6,
           "trajectory": "Random",
           "value": 4.357894189231941
          },
          {
           "color_by": "Random",
           "sample_id": 0,
           "timepoint": 7,
           "trajectory": "Random",
           "value": 4.371664417037558
          },
          {
           "color_by": "Random",
           "sample_id": 0,
           "timepoint": 8,
           "trajectory": "Random",
           "value": 4.310651965940938
          },
          {
           "color_by": "Random",
           "sample_id": 0,
           "timepoint": 9,
           "trajectory": "Random",
           "value": 4.1845443436362295
          },
          {
           "color_by": "Random",
           "sample_id": 0,
           "timepoint": 10,
           "trajectory": "Random",
           "value": 4.006971246794911
          },
          {
           "color_by": "Random",
           "sample_id": 0,
           "timepoint": 11,
           "trajectory": "Random",
           "value": 3.7947311637219663
          },
          {
           "color_by": "Random",
           "sample_id": 0,
           "timepoint": 12,
           "trajectory": "Random",
           "value": 3.5667126370049522
          },
          {
           "color_by": "Random",
           "sample_id": 0,
           "timepoint": 13,
           "trajectory": "Random",
           "value": 3.3426215111636184
          },
          {
           "color_by": "Random",
           "sample_id": 0,
           "timepoint": 14,
           "trajectory": "Random",
           "value": 3.141623096647577
          },
          {
           "color_by": "Random",
           "sample_id": 0,
           "timepoint": 15,
           "trajectory": "Random",
           "value": 2.981006571749192
          },
          {
           "color_by": "Random",
           "sample_id": 0,
           "timepoint": 16,
           "trajectory": "Random",
           "value": 2.874973390947389
          },
          {
           "color_by": "Random",
           "sample_id": 0,
           "timepoint": 17,
           "trajectory": "Random",
           "value": 2.83364038794958
          },
          {
           "color_by": "Random",
           "sample_id": 0,
           "timepoint": 18,
           "trajectory": "Random",
           "value": 2.862331567384263
          },
          {
           "color_by": "Random",
           "sample_id": 0,
           "timepoint": 19,
           "trajectory": "Random",
           "value": 2.9612110496185453
          },
          {
           "color_by": "Random",
           "sample_id": 0,
           "timepoint": 20,
           "trajectory": "Random",
           "value": 3.125284604108397
          },
          {
           "color_by": "Random",
           "sample_id": 0,
           "timepoint": 21,
           "trajectory": "Random",
           "value": 3.3447703657966494
          },
          {
           "color_by": "Random",
           "sample_id": 0,
           "timepoint": 22,
           "trajectory": "Random",
           "value": 3.605812545330353
          },
          {
           "color_by": "Random",
           "sample_id": 0,
           "timepoint": 23,
           "trajectory": "Random",
           "value": 3.891487109038567
          },
          {
           "color_by": "Random",
           "sample_id": 0,
           "timepoint": 24,
           "trajectory": "Random",
           "value": 4.183027284958819
          },
          {
           "color_by": "Random",
           "sample_id": 0,
           "timepoint": 25,
           "trajectory": "Random",
           "value": 4.461180853937816
          },
          {
           "color_by": "Random",
           "sample_id": 0,
           "timepoint": 26,
           "trajectory": "Random",
           "value": 4.707601646100012
          },
          {
           "color_by": "Random",
           "sample_id": 0,
           "timepoint": 27,
           "trajectory": "Random",
           "value": 4.906175164058267
          },
          {
           "color_by": "Random",
           "sample_id": 0,
           "timepoint": 28,
           "trajectory": "Random",
           "value": 5.0441829713471655
          },
          {
           "color_by": "Random",
           "sample_id": 0,
           "timepoint": 29,
           "trajectory": "Random",
           "value": 5.1132220754597295
          },
          {
           "color_by": "Random",
           "sample_id": 0,
           "timepoint": 30,
           "trajectory": "Random",
           "value": 5.109813163108473
          },
          {
           "color_by": "Random",
           "sample_id": 0,
           "timepoint": 31,
           "trajectory": "Random",
           "value": 5.035653940208432
          },
          {
           "color_by": "Random",
           "sample_id": 0,
           "timepoint": 32,
           "trajectory": "Random",
           "value": 4.897499376978019
          },
          {
           "color_by": "Random",
           "sample_id": 0,
           "timepoint": 33,
           "trajectory": "Random",
           "value": 4.70667751903994
          },
          {
           "color_by": "Random",
           "sample_id": 0,
           "timepoint": 34,
           "trajectory": "Random",
           "value": 4.478275763689546
          },
          {
           "color_by": "Random",
           "sample_id": 0,
           "timepoint": 35,
           "trajectory": "Random",
           "value": 4.230056226719709
          },
          {
           "color_by": "Random",
           "sample_id": 0,
           "timepoint": 36,
           "trajectory": "Random",
           "value": 3.9811783304761708
          },
          {
           "color_by": "Random",
           "sample_id": 0,
           "timepoint": 37,
           "trajectory": "Random",
           "value": 3.750820623320874
          },
          {
           "color_by": "Random",
           "sample_id": 0,
           "timepoint": 38,
           "trajectory": "Random",
           "value": 3.556801094737886
          },
          {
           "color_by": "Random",
           "sample_id": 0,
           "timepoint": 39,
           "trajectory": "Random",
           "value": 3.4142953564211513
          },
          {
           "color_by": "Random",
           "sample_id": 0,
           "timepoint": 40,
           "trajectory": "Random",
           "value": 3.3347450101060265
          },
          {
           "color_by": "Random",
           "sample_id": 0,
           "timepoint": 41,
           "trajectory": "Random",
           "value": 3.3250348252461825
          },
          {
           "color_by": "Random",
           "sample_id": 0,
           "timepoint": 42,
           "trajectory": "Random",
           "value": 3.3869979902619614
          },
          {
           "color_by": "Random",
           "sample_id": 0,
           "timepoint": 43,
           "trajectory": "Random",
           "value": 3.5172850740968347
          },
          {
           "color_by": "Random",
           "sample_id": 0,
           "timepoint": 44,
           "trajectory": "Random",
           "value": 3.7076061416529695
          },
          {
           "color_by": "Random",
           "sample_id": 0,
           "timepoint": 45,
           "trajectory": "Random",
           "value": 3.9453285935799505
          },
          {
           "color_by": "Random",
           "sample_id": 0,
           "timepoint": 46,
           "trajectory": "Random",
           "value": 4.21438768307685
          },
          {
           "color_by": "Random",
           "sample_id": 0,
           "timepoint": 47,
           "trajectory": "Random",
           "value": 4.496444144658405
          },
          {
           "color_by": "Random",
           "sample_id": 0,
           "timepoint": 48,
           "trajectory": "Random",
           "value": 4.772205573804277
          },
          {
           "color_by": "Random",
           "sample_id": 0,
           "timepoint": 49,
           "trajectory": "Random",
           "value": 5.022816403606157
          },
          {
           "color_by": "Random",
           "sample_id": 0,
           "timepoint": 50,
           "trajectory": "Random",
           "value": 5.231216384186793
          },
          {
           "color_by": "Random",
           "sample_id": 0,
           "timepoint": 51,
           "trajectory": "Random",
           "value": 5.38336973855234
          },
          {
           "color_by": "Random",
           "sample_id": 0,
           "timepoint": 52,
           "trajectory": "Random",
           "value": 5.469276481328391
          },
          {
           "color_by": "Random",
           "sample_id": 0,
           "timepoint": 53,
           "trajectory": "Random",
           "value": 5.483693073864204
          },
          {
           "color_by": "Random",
           "sample_id": 0,
           "timepoint": 54,
           "trajectory": "Random",
           "value": 5.426510520778669
          },
          {
           "color_by": "Random",
           "sample_id": 0,
           "timepoint": 55,
           "trajectory": "Random",
           "value": 5.302762681795673
          },
          {
           "color_by": "Random",
           "sample_id": 0,
           "timepoint": 56,
           "trajectory": "Random",
           "value": 5.122264202176543
          },
          {
           "color_by": "Random",
           "sample_id": 0,
           "timepoint": 57,
           "trajectory": "Random",
           "value": 4.898904137508104
          },
          {
           "color_by": "Random",
           "sample_id": 0,
           "timepoint": 58,
           "trajectory": "Random",
           "value": 4.649646143256186
          },
          {
           "color_by": "Random",
           "sample_id": 0,
           "timepoint": 59,
           "trajectory": "Random",
           "value": 4.393307230783426
          },
          {
           "color_by": "Random",
           "sample_id": 0,
           "timepoint": 60,
           "trajectory": "Random",
           "value": 4.149203037708108
          },
          {
           "color_by": "Random",
           "sample_id": 0,
           "timepoint": 61,
           "trajectory": "Random",
           "value": 3.9357571731988843
          },
          {
           "color_by": "Random",
           "sample_id": 0,
           "timepoint": 62,
           "trajectory": "Random",
           "value": 3.7691747858074445
          },
          {
           "color_by": "Random",
           "sample_id": 0,
           "timepoint": 63,
           "trajectory": "Random",
           "value": 3.662275876435951
          },
          {
           "color_by": "Random",
           "sample_id": 0,
           "timepoint": 64,
           "trajectory": "Random",
           "value": 3.6235723750818054
          },
          {
           "color_by": "Random",
           "sample_id": 0,
           "timepoint": 65,
           "trajectory": "Random",
           "value": 3.6566554455431963
          },
          {
           "color_by": "Random",
           "sample_id": 0,
           "timepoint": 66,
           "trajectory": "Random",
           "value": 3.75993714146954
          },
          {
           "color_by": "Random",
           "sample_id": 0,
           "timepoint": 67,
           "trajectory": "Random",
           "value": 3.9267650188494407
          },
          {
           "color_by": "Random",
           "sample_id": 0,
           "timepoint": 68,
           "trajectory": "Random",
           "value": 4.145901451916781
          },
          {
           "color_by": "Random",
           "sample_id": 0,
           "timepoint": 69,
           "trajectory": "Random",
           "value": 4.402333135680752
          },
          {
           "color_by": "Random",
           "sample_id": 0,
           "timepoint": 70,
           "trajectory": "Random",
           "value": 4.678352480205011
          },
          {
           "color_by": "Random",
           "sample_id": 0,
           "timepoint": 71,
           "trajectory": "Random",
           "value": 4.95483302172725
          },
          {
           "color_by": "Random",
           "sample_id": 0,
           "timepoint": 72,
           "trajectory": "Random",
           "value": 5.212607003758187
          },
          {
           "color_by": "Random",
           "sample_id": 0,
           "timepoint": 73,
           "trajectory": "Random",
           "value": 5.4338459236029495
          },
          {
           "color_by": "Random",
           "sample_id": 0,
           "timepoint": 74,
           "trajectory": "Random",
           "value": 5.6033446261644695
          },
          {
           "color_by": "Random",
           "sample_id": 0,
           "timepoint": 75,
           "trajectory": "Random",
           "value": 5.709616472798425
          },
          {
           "color_by": "Random",
           "sample_id": 0,
           "timepoint": 76,
           "trajectory": "Random",
           "value": 5.745720718190139
          },
          {
           "color_by": "Random",
           "sample_id": 0,
           "timepoint": 77,
           "trajectory": "Random",
           "value": 5.709762512951242
          },
          {
           "color_by": "Random",
           "sample_id": 0,
           "timepoint": 78,
           "trajectory": "Random",
           "value": 5.6050295251189075
          },
          {
           "color_by": "Random",
           "sample_id": 0,
           "timepoint": 79,
           "trajectory": "Random",
           "value": 5.439755342219545
          },
          {
           "color_by": "Random",
           "sample_id": 0,
           "timepoint": 80,
           "trajectory": "Random",
           "value": 5.226526692536791
          },
          {
           "color_by": "Random",
           "sample_id": 0,
           "timepoint": 81,
           "trajectory": "Random",
           "value": 4.9813771741837884
          },
          {
           "color_by": "Random",
           "sample_id": 0,
           "timepoint": 82,
           "trajectory": "Random",
           "value": 4.722632756367305
          },
          {
           "color_by": "Random",
           "sample_id": 0,
           "timepoint": 83,
           "trajectory": "Random",
           "value": 4.469592193075265
          },
          {
           "color_by": "Random",
           "sample_id": 0,
           "timepoint": 84,
           "trajectory": "Random",
           "value": 4.2411373780097685
          },
          {
           "color_by": "Random",
           "sample_id": 0,
           "timepoint": 85,
           "trajectory": "Random",
           "value": 4.054373714780297
          },
          {
           "color_by": "Random",
           "sample_id": 0,
           "timepoint": 86,
           "trajectory": "Random",
           "value": 3.923398414842758
          },
          {
           "color_by": "Random",
           "sample_id": 0,
           "timepoint": 87,
           "trajectory": "Random",
           "value": 3.8582854230790087
          },
          {
           "color_by": "Random",
           "sample_id": 0,
           "timepoint": 88,
           "trajectory": "Random",
           "value": 3.864360070693464
          },
          {
           "color_by": "Random",
           "sample_id": 0,
           "timepoint": 89,
           "trajectory": "Random",
           "value": 3.9418156906913913
          },
          {
           "color_by": "Random",
           "sample_id": 0,
           "timepoint": 90,
           "trajectory": "Random",
           "value": 4.085699805125453
          },
          {
           "color_by": "Random",
           "sample_id": 0,
           "timepoint": 91,
           "trajectory": "Random",
           "value": 4.286270878973768
          },
          {
           "color_by": "Random",
           "sample_id": 0,
           "timepoint": 92,
           "trajectory": "Random",
           "value": 4.529699949545947
          },
          {
           "color_by": "Random",
           "sample_id": 0,
           "timepoint": 93,
           "trajectory": "Random",
           "value": 4.7990666044646595
          },
          {
           "color_by": "Random",
           "sample_id": 0,
           "timepoint": 94,
           "trajectory": "Random",
           "value": 5.075577584065978
          },
          {
           "color_by": "Random",
           "sample_id": 0,
           "timepoint": 95,
           "trajectory": "Random",
           "value": 5.339920251996381
          },
          {
           "color_by": "Random",
           "sample_id": 0,
           "timepoint": 96,
           "trajectory": "Random",
           "value": 5.5736534653893575
          },
          {
           "color_by": "Random",
           "sample_id": 0,
           "timepoint": 97,
           "trajectory": "Random",
           "value": 5.760535682708002
          },
          {
           "color_by": "Random",
           "sample_id": 0,
           "timepoint": 98,
           "trajectory": "Random",
           "value": 5.887694667096741
          },
          {
           "color_by": "Random",
           "sample_id": 0,
           "timepoint": 99,
           "trajectory": "Random",
           "value": 5.946554550409516
          },
          {
           "color_by": "Variance",
           "sample_id": 0,
           "timepoint": 0,
           "trajectory": "Variance",
           "value": 0.9618870218046855
          },
          {
           "color_by": "Variance",
           "sample_id": 0,
           "timepoint": 1,
           "trajectory": "Variance",
           "value": 2.1664705610586212
          },
          {
           "color_by": "Variance",
           "sample_id": 0,
           "timepoint": 2,
           "trajectory": "Variance",
           "value": 2.551606966467693
          },
          {
           "color_by": "Variance",
           "sample_id": 0,
           "timepoint": 3,
           "trajectory": "Variance",
           "value": 2.857460747300849
          },
          {
           "color_by": "Variance",
           "sample_id": 0,
           "timepoint": 4,
           "trajectory": "Variance",
           "value": 3.1100733074832263
          },
          {
           "color_by": "Variance",
           "sample_id": 0,
           "timepoint": 5,
           "trajectory": "Variance",
           "value": 3.31463318091555
          },
          {
           "color_by": "Variance",
           "sample_id": 0,
           "timepoint": 6,
           "trajectory": "Variance",
           "value": 3.471524194999147
          },
          {
           "color_by": "Variance",
           "sample_id": 0,
           "timepoint": 7,
           "trajectory": "Variance",
           "value": 3.5802151313451036
          },
          {
           "color_by": "Variance",
           "sample_id": 0,
           "timepoint": 8,
           "trajectory": "Variance",
           "value": 3.6406774943415394
          },
          {
           "color_by": "Variance",
           "sample_id": 0,
           "timepoint": 9,
           "trajectory": "Variance",
           "value": 3.6540067859078764
          },
          {
           "color_by": "Variance",
           "sample_id": 0,
           "timepoint": 10,
           "trajectory": "Variance",
           "value": 3.6226940725070262
          },
          {
           "color_by": "Variance",
           "sample_id": 0,
           "timepoint": 11,
           "trajectory": "Variance",
           "value": 3.5507011391150263
          },
          {
           "color_by": "Variance",
           "sample_id": 0,
           "timepoint": 12,
           "trajectory": "Variance",
           "value": 3.4434036331662083
          },
          {
           "color_by": "Variance",
           "sample_id": 0,
           "timepoint": 13,
           "trajectory": "Variance",
           "value": 3.3074358110692907
          },
          {
           "color_by": "Variance",
           "sample_id": 0,
           "timepoint": 14,
           "trajectory": "Variance",
           "value": 3.1504592355341163
          },
          {
           "color_by": "Variance",
           "sample_id": 0,
           "timepoint": 15,
           "trajectory": "Variance",
           "value": 2.980873785025919
          },
          {
           "color_by": "Variance",
           "sample_id": 0,
           "timepoint": 16,
           "trajectory": "Variance",
           "value": 2.8074881442460766
          },
          {
           "color_by": "Variance",
           "sample_id": 0,
           "timepoint": 17,
           "trajectory": "Variance",
           "value": 2.639166707689758
          },
          {
           "color_by": "Variance",
           "sample_id": 0,
           "timepoint": 18,
           "trajectory": "Variance",
           "value": 2.4844697218082636
          },
          {
           "color_by": "Variance",
           "sample_id": 0,
           "timepoint": 19,
           "trajectory": "Variance",
           "value": 2.351303123645885
          },
          {
           "color_by": "Variance",
           "sample_id": 0,
           "timepoint": 20,
           "trajectory": "Variance",
           "value": 2.2465937215094254
          },
          {
           "color_by": "Variance",
           "sample_id": 0,
           "timepoint": 21,
           "trajectory": "Variance",
           "value": 2.1760040353917
          },
          {
           "color_by": "Variance",
           "sample_id": 0,
           "timepoint": 22,
           "trajectory": "Variance",
           "value": 2.1436992695786166
          },
          {
           "color_by": "Variance",
           "sample_id": 0,
           "timepoint": 23,
           "trajectory": "Variance",
           "value": 2.1521765718622623
          },
          {
           "color_by": "Variance",
           "sample_id": 0,
           "timepoint": 24,
           "trajectory": "Variance",
           "value": 2.2021640213547666
          },
          {
           "color_by": "Variance",
           "sample_id": 0,
           "timepoint": 25,
           "trajectory": "Variance",
           "value": 2.2925937827147713
          },
          {
           "color_by": "Variance",
           "sample_id": 0,
           "timepoint": 26,
           "trajectory": "Variance",
           "value": 2.420650688163769
          },
          {
           "color_by": "Variance",
           "sample_id": 0,
           "timepoint": 27,
           "trajectory": "Variance",
           "value": 2.5818942894791714
          },
          {
           "color_by": "Variance",
           "sample_id": 0,
           "timepoint": 28,
           "trajectory": "Variance",
           "value": 2.7704492931797633
          },
          {
           "color_by": "Variance",
           "sample_id": 0,
           "timepoint": 29,
           "trajectory": "Variance",
           "value": 2.979256383581494
          },
          {
           "color_by": "Variance",
           "sample_id": 0,
           "timepoint": 30,
           "trajectory": "Variance",
           "value": 3.2003728718676587
          },
          {
           "color_by": "Variance",
           "sample_id": 0,
           "timepoint": 31,
           "trajectory": "Variance",
           "value": 3.4253104923392232
          },
          {
           "color_by": "Variance",
           "sample_id": 0,
           "timepoint": 32,
           "trajectory": "Variance",
           "value": 3.6453960884225154
          },
          {
           "color_by": "Variance",
           "sample_id": 0,
           "timepoint": 33,
           "trajectory": "Variance",
           "value": 3.852139957077256
          },
          {
           "color_by": "Variance",
           "sample_id": 0,
           "timepoint": 34,
           "trajectory": "Variance",
           "value": 4.037596291795204
          },
          {
           "color_by": "Variance",
           "sample_id": 0,
           "timepoint": 35,
           "trajectory": "Variance",
           "value": 4.194700495030072
          },
          {
           "color_by": "Variance",
           "sample_id": 0,
           "timepoint": 36,
           "trajectory": "Variance",
           "value": 4.317569106463547
          },
          {
           "color_by": "Variance",
           "sample_id": 0,
           "timepoint": 37,
           "trajectory": "Variance",
           "value": 4.401749672570434
          },
          {
           "color_by": "Variance",
           "sample_id": 0,
           "timepoint": 38,
           "trajectory": "Variance",
           "value": 4.4444099985862495
          },
          {
           "color_by": "Variance",
           "sample_id": 0,
           "timepoint": 39,
           "trajectory": "Variance",
           "value": 4.444458786619945
          },
          {
           "color_by": "Variance",
           "sample_id": 0,
           "timepoint": 40,
           "trajectory": "Variance",
           "value": 4.402592564820876
          },
          {
           "color_by": "Variance",
           "sample_id": 0,
           "timepoint": 41,
           "trajectory": "Variance",
           "value": 4.321266929425495
          },
          {
           "color_by": "Variance",
           "sample_id": 0,
           "timepoint": 42,
           "trajectory": "Variance",
           "value": 4.204593322283213
          },
          {
           "color_by": "Variance",
           "sample_id": 0,
           "timepoint": 43,
           "trajectory": "Variance",
           "value": 4.058165715661337
          },
          {
           "color_by": "Variance",
           "sample_id": 0,
           "timepoint": 44,
           "trajectory": "Variance",
           "value": 3.8888245405134185
          },
          {
           "color_by": "Variance",
           "sample_id": 0,
           "timepoint": 45,
           "trajectory": "Variance",
           "value": 3.7043678485441474
          },
          {
           "color_by": "Variance",
           "sample_id": 0,
           "timepoint": 46,
           "trajectory": "Variance",
           "value": 3.5132219300252965
          },
          {
           "color_by": "Variance",
           "sample_id": 0,
           "timepoint": 47,
           "trajectory": "Variance",
           "value": 3.3240853239960995
          },
          {
           "color_by": "Variance",
           "sample_id": 0,
           "timepoint": 48,
           "trajectory": "Variance",
           "value": 3.145561282672767
          },
          {
           "color_by": "Variance",
           "sample_id": 0,
           "timepoint": 49,
           "trajectory": "Variance",
           "value": 2.985794239989181
          },
          {
           "color_by": "Variance",
           "sample_id": 0,
           "timepoint": 50,
           "trajectory": "Variance",
           "value": 2.8521256645392445
          },
          {
           "color_by": "Variance",
           "sample_id": 0,
           "timepoint": 51,
           "trajectory": "Variance",
           "value": 2.750783856961376
          },
          {
           "color_by": "Variance",
           "sample_id": 0,
           "timepoint": 52,
           "trajectory": "Variance",
           "value": 2.6866208156893405
          },
          {
           "color_by": "Variance",
           "sample_id": 0,
           "timepoint": 53,
           "trajectory": "Variance",
           "value": 2.662907303737128
          },
          {
           "color_by": "Variance",
           "sample_id": 0,
           "timepoint": 54,
           "trajectory": "Variance",
           "value": 2.681194787018941
          },
          {
           "color_by": "Variance",
           "sample_id": 0,
           "timepoint": 55,
           "trajectory": "Variance",
           "value": 2.7412500857796296
          },
          {
           "color_by": "Variance",
           "sample_id": 0,
           "timepoint": 56,
           "trajectory": "Variance",
           "value": 2.841065504692355
          },
          {
           "color_by": "Variance",
           "sample_id": 0,
           "timepoint": 57,
           "trajectory": "Variance",
           "value": 2.976944014187576
          },
          {
           "color_by": "Variance",
           "sample_id": 0,
           "timepoint": 58,
           "trajectory": "Variance",
           "value": 3.143655880678244
          },
          {
           "color_by": "Variance",
           "sample_id": 0,
           "timepoint": 59,
           "trajectory": "Variance",
           "value": 3.3346601208427824
          },
          {
           "color_by": "Variance",
           "sample_id": 0,
           "timepoint": 60,
           "trajectory": "Variance",
           "value": 3.5423814128757414
          },
          {
           "color_by": "Variance",
           "sample_id": 0,
           "timepoint": 61,
           "trajectory": "Variance",
           "value": 3.758530751617199
          },
          {
           "color_by": "Variance",
           "sample_id": 0,
           "timepoint": 62,
           "trajectory": "Variance",
           "value": 3.9744562839649626
          },
          {
           "color_by": "Variance",
           "sample_id": 0,
           "timepoint": 63,
           "trajectory": "Variance",
           "value": 4.18150948423697
          },
          {
           "color_by": "Variance",
           "sample_id": 0,
           "timepoint": 64,
           "trajectory": "Variance",
           "value": 4.371411180193103
          },
          {
           "color_by": "Variance",
           "sample_id": 0,
           "timepoint": 65,
           "trajectory": "Variance",
           "value": 4.536601946696843
          },
          {
           "color_by": "Variance",
           "sample_id": 0,
           "timepoint": 66,
           "trajectory": "Variance",
           "value": 4.67056204523208
          },
          {
           "color_by": "Variance",
           "sample_id": 0,
           "timepoint": 67,
           "trajectory": "Variance",
           "value": 4.768087375717397
          },
          {
           "color_by": "Variance",
           "sample_id": 0,
           "timepoint": 68,
           "trajectory": "Variance",
           "value": 4.825509767784023
          },
          {
           "color_by": "Variance",
           "sample_id": 0,
           "timepoint": 69,
           "trajectory": "Variance",
           "value": 4.8408522931924285
          },
          {
           "color_by": "Variance",
           "sample_id": 0,
           "timepoint": 70,
           "trajectory": "Variance",
           "value": 4.813913029755931
          },
          {
           "color_by": "Variance",
           "sample_id": 0,
           "timepoint": 71,
           "trajectory": "Variance",
           "value": 4.746273733742646
          },
          {
           "color_by": "Variance",
           "sample_id": 0,
           "timepoint": 72,
           "trajectory": "Variance",
           "value": 4.641233054208731
          },
          {
           "color_by": "Variance",
           "sample_id": 0,
           "timepoint": 73,
           "trajectory": "Variance",
           "value": 4.503667114705237
          },
          {
           "color_by": "Variance",
           "sample_id": 0,
           "timepoint": 74,
           "trajectory": "Variance",
           "value": 4.339823360270609
          },
          {
           "color_by": "Variance",
           "sample_id": 0,
           "timepoint": 75,
           "trajectory": "Variance",
           "value": 4.1570563906002285
          },
          {
           "color_by": "Variance",
           "sample_id": 0,
           "timepoint": 76,
           "trajectory": "Variance",
           "value": 3.963516954355857
          },
          {
           "color_by": "Variance",
           "sample_id": 0,
           "timepoint": 77,
           "trajectory": "Variance",
           "value": 3.76780726092975
          },
          {
           "color_by": "Variance",
           "sample_id": 0,
           "timepoint": 78,
           "trajectory": "Variance",
           "value": 3.578617190795808
          },
          {
           "color_by": "Variance",
           "sample_id": 0,
           "timepoint": 79,
           "trajectory": "Variance",
           "value": 3.404356793590985
          },
          {
           "color_by": "Variance",
           "sample_id": 0,
           "timepoint": 80,
           "trajectory": "Variance",
           "value": 3.252800620093476
          },
          {
           "color_by": "Variance",
           "sample_id": 0,
           "timepoint": 81,
           "trajectory": "Variance",
           "value": 3.130758933658373
          },
          {
           "color_by": "Variance",
           "sample_id": 0,
           "timepoint": 82,
           "trajectory": "Variance",
           "value": 3.0437897096118256
          },
          {
           "color_by": "Variance",
           "sample_id": 0,
           "timepoint": 83,
           "trajectory": "Variance",
           "value": 2.9959636056919488
          },
          {
           "color_by": "Variance",
           "sample_id": 0,
           "timepoint": 84,
           "trajectory": "Variance",
           "value": 2.9896918458458472
          },
          {
           "color_by": "Variance",
           "sample_id": 0,
           "timepoint": 85,
           "trajectory": "Variance",
           "value": 3.025624298336731
          },
          {
           "color_by": "Variance",
           "sample_id": 0,
           "timepoint": 86,
           "trajectory": "Variance",
           "value": 3.1026220597627834
          },
          {
           "color_by": "Variance",
           "sample_id": 0,
           "timepoint": 87,
           "trajectory": "Variance",
           "value": 3.2178057048493196
          },
          {
           "color_by": "Variance",
           "sample_id": 0,
           "timepoint": 88,
           "trajectory": "Variance",
           "value": 3.366677161071828
          },
          {
           "color_by": "Variance",
           "sample_id": 0,
           "timepoint": 89,
           "trajectory": "Variance",
           "value": 3.5433100526996046
          },
          {
           "color_by": "Variance",
           "sample_id": 0,
           "timepoint": 90,
           "trajectory": "Variance",
           "value": 3.740600462465233
          },
          {
           "color_by": "Variance",
           "sample_id": 0,
           "timepoint": 91,
           "trajectory": "Variance",
           "value": 3.9505675032863286
          },
          {
           "color_by": "Variance",
           "sample_id": 0,
           "timepoint": 92,
           "trajectory": "Variance",
           "value": 4.164690985406896
          },
          {
           "color_by": "Variance",
           "sample_id": 0,
           "timepoint": 93,
           "trajectory": "Variance",
           "value": 4.374271895118484
          },
          {
           "color_by": "Variance",
           "sample_id": 0,
           "timepoint": 94,
           "trajectory": "Variance",
           "value": 4.57080043624633
          },
          {
           "color_by": "Variance",
           "sample_id": 0,
           "timepoint": 95,
           "trajectory": "Variance",
           "value": 4.746316065663194
          },
          {
           "color_by": "Variance",
           "sample_id": 0,
           "timepoint": 96,
           "trajectory": "Variance",
           "value": 4.893744292756624
          },
          {
           "color_by": "Variance",
           "sample_id": 0,
           "timepoint": 97,
           "trajectory": "Variance",
           "value": 5.007195995697979
          },
          {
           "color_by": "Variance",
           "sample_id": 0,
           "timepoint": 98,
           "trajectory": "Variance",
           "value": 5.082216592964366
          },
          {
           "color_by": "Variance",
           "sample_id": 0,
           "timepoint": 99,
           "trajectory": "Variance",
           "value": 5.1159745297738
          }
         ]
        },
        {
         "name": "points",
         "values": []
        },
        {
         "name": "markers",
         "values": []
        },
        {
         "name": "selected",
         "on": [
          {
           "remove": true,
           "trigger": "clear"
          },
          {
           "remove": true,
           "trigger": "!shift"
          },
          {
           "insert": "clicked",
           "trigger": "!shift && clicked"
          },
          {
           "toggle": "clicked",
           "trigger": "shift && clicked"
          }
         ]
        },
        {
         "name": "selectedData",
         "on": [
          {
           "remove": true,
           "trigger": "clearData"
          },
          {
           "toggle": "clickedData",
           "trigger": "clickedData"
          }
         ]
        }
       ],
       "height": 300,
       "legends": [
        {
         "encode": {
          "labels": {
           "interactive": true,
           "name": "legendLabel",
           "size": {
            "value": 25
           },
           "update": {
            "opacity": [
             {
              "test": "!length(data('selectedData')) || indata('selectedData', 'value', datum.value)",
              "value": 1
             },
             {
              "value": 0.25
             }
            ]
           }
          },
          "symbols": {
           "interactive": true,
           "name": "legendSymbol",
           "update": {
            "fill": {
             "value": "transparent"
            },
            "opacity": [
             {
              "test": "!length(data('selected')) || indata('selected', 'value', datum.value) || indata('selectedData', 'value', datum.value)",
              "value": 0.7
             },
             {
              "value": 0.15
             }
            ],
            "size": {
             "value": 64
            },
            "strokeWidth": {
             "value": 2
            }
           }
          }
         },
         "name": "color_legend",
         "orient": "left",
         "stroke": "color"
        }
       ],
       "marks": [
        {
         "from": {
          "facet": {
           "data": "points",
           "groupby": "trajectory",
           "name": "points_split"
          }
         },
         "marks": [
          {
           "encode": {
            "hover": {
             "fillOpacity": {
              "value": 0.9
             }
            },
            "update": {
             "fill": {
              "field": "trajectory",
              "scale": "color"
             },
             "fillOpacity": [
              {
               "test": "!length(data('selected')) || indata('selected', 'value', datum.trajectory)",
               "value": 0.5
              },
              {
               "value": 0.15
              }
             ],
             "size": {
              "value": 35
             },
             "stroke": {
              "field": "trajectory",
              "scale": "color"
             },
             "strokeOpacity": [
              {
               "test": "!length(data('selected')) || indata('selected', 'value', datum.trajectory)",
               "value": 0.75
              },
              {
               "value": 0.15
              }
             ],
             "strokeWidth": {
              "value": 2
             },
             "tooltip": {
              "field": "value"
             },
             "x": {
              "field": "timepoint",
              "scale": "xscale"
             },
             "y": {
              "field": "value",
              "scale": "yscale"
             }
            }
           },
           "from": {
            "data": "points_split"
           },
           "name": "_points_symbol",
           "type": "symbol",
           "zindex": 3
          },
          {
           "encode": {
            "hover": {
             "fillOpacity": {
              "value": 0.9
             }
            },
            "update": {
             "interpolate": {
              "value": "linear"
             },
             "stroke": {
              "field": "trajectory",
              "scale": "color"
             },
             "strokeDash": {
              "value": [
               5,
               3
              ]
             },
             "strokeOpacity": [
              {
               "test": "!length(data('selected')) || indata('selected', 'value', datum.trajectory)",
               "value": 0.3
              },
              {
               "value": 0.1
              }
             ],
             "strokeWidth": {
              "value": 2
             },
             "x": {
              "field": "timepoint",
              "scale": "xscale"
             },
             "y": {
              "field": "value",
              "scale": "yscale"
             }
            }
           },
           "from": {
            "data": "points_split"
           },
           "name": "_points_line",
           "type": "line",
           "zindex": 3
          }
         ],
         "name": "_points",
         "type": "group",
         "zindex": 3
        },
        {
         "from": {
          "facet": {
           "data": "traces",
           "groupby": "trajectory",
           "name": "traces_split"
          }
         },
         "marks": [
          {
           "encode": {
            "hover": {
             "fillOpacity": {
              "value": 0.9
             }
            },
            "update": {
             "interpolate": {
              "value": "linear"
             },
             "stroke": {
              "field": "trajectory",
              "scale": "color"
             },
             "strokeDash": [
              {
               "test": "indexof(datum.trajectory, 'Baseline') != -1 || indexof(datum.trajectory, 'Envelope') != -1",
               "value": [
                8,
                4
               ]
              },
              {
               "value": [
                1,
                0
               ]
              }
             ],
             "strokeOpacity": [
              {
               "test": "!length(data('selected')) || indata('selected', 'value', datum.trajectory)",
               "value": 0.75
              },
              {
               "value": 0.15
              }
             ],
             "strokeWidth": {
              "value": 2
             },
             "x": {
              "field": "timepoint",
              "scale": "xscale"
             },
             "y": {
              "field": "value",
              "scale": "yscale"
             }
            }
           },
           "from": {
            "data": "traces_split"
           },
           "name": "_traces_lines",
           "type": "line"
          }
         ],
         "name": "_traces",
         "type": "group",
         "zindex": 2
        },
        {
         "from": {
          "facet": {
           "data": "distributions",
           "groupby": "trajectory",
           "name": "trajectory_split"
          }
         },
         "marks": [
          {
           "encode": {
            "hover": {
             "fillOpacity": {
              "value": 0.9
             }
            },
            "update": {
             "fill": {
              "field": "trajectory",
              "scale": "color"
             },
             "fillOpacity": [
              {
               "test": "!length(data('selected')) || indata('selected', 'value', datum.trajectory)",
               "value": 0.1
              },
              {
               "value": 0.05
              }
             ],
             "interpolate": {
              "value": "linear"
             },
             "stroke": {
              "field": "trajectory",
              "scale": "color"
             },
             "strokeOpacity": [
              {
               "test": "!length(data('selected')) || indata('selected', 'value', datum.trajectory)",
               "value": 0.1
              },
              {
               "value": 0.05
              }
             ],
             "strokeWidth": {
              "value": 2
             },
             "x": {
              "field": "timepoint",
              "scale": "xscale"
             },
             "y": {
              "field": "upper",
              "scale": "yscale"
             },
             "y2": {
              "field": "lower",
              "scale": "yscale"
             }
            }
           },
           "from": {
            "data": "trajectory_split"
           },
           "interactive": true,
           "name": "area",
           "type": "area"
          }
         ],
         "name": "_distributions",
         "type": "group",
         "zindex": 1
        },
        {
         "marks": [
          {
           "encode": {
            "enter": {
             "stroke": {
              "value": "lightgray"
             }
            },
            "update": {
             "opacity": {
              "value": 1
             },
             "x": {
              "field": "timepoint",
              "scale": "xscale"
             },
             "y": {
              "signal": "height"
             },
             "y2": {
              "value": 0
             }
            }
           },
           "from": {
            "data": "markers"
           },
           "name": "_marker text",
           "type": "rule"
          },
          {
           "encode": {
            "enter": {
             "fontSize": {
              "value": 8
             },
             "text": {
              "field": "datum.label"
             },
             "y": {
              "value": 0
             }
            }
           },
           "from": {
            "data": "_marker text"
           },
           "name": "_marker flags",
           "transform": [
            {
             "as": [
              "x",
              "_y",
              "opacity",
              "align",
              "baseline"
             ],
             "lineAnchor": "start",
             "offset": [
              1
             ],
             "size": {
              "signal": "[width, height]"
             },
             "type": "label"
            }
           ],
           "type": "text"
          }
         ],
         "name": "_markers",
         "type": "group"
        }
       ],
       "scales": [
        {
         "domain": {
          "fields": [
           {
            "data": "distributions",
            "field": "timepoint"
           },
           {
            "data": "traces",
            "field": "timepoint"
           },
           {
            "data": "points",
            "field": "timepoint"
           },
           {
            "data": "markers",
            "field": "timepoint"
           }
          ]
         },
         "name": "xscale",
         "range": "width",
         "type": "linear",
         "zero": false
        },
        {
         "domain": {
          "fields": [
           {
            "data": "distributions",
            "field": "lower"
           },
           {
            "data": "distributions",
            "field": "upper"
           },
           {
            "data": "traces",
            "field": "value"
           },
           {
            "data": "points",
            "field": "value"
           }
          ]
         },
         "name": "yscale",
         "nice": true,
         "range": "height",
         "type": "linear",
         "zero": true
        },
        {
         "domain": {
          "fields": [
           {
            "data": "distributions",
            "field": "trajectory"
           },
           {
            "data": "traces",
            "field": "trajectory"
           },
           {
            "data": "points",
            "field": "trajectory"
           }
          ],
          "sort": {
           "order": "ascending"
          }
         },
         "name": "color",
         "range": "category",
         "type": "ordinal"
        }
       ],
       "signals": [
        {
         "name": "clear",
         "on": [
          {
           "events": "mouseup[!event.item]",
           "force": true,
           "update": "true"
          }
         ],
         "value": true
        },
        {
         "name": "shift",
         "on": [
          {
           "events": "@legendSymbol:click, @legendLabel:click",
           "force": true,
           "update": "event.shiftKey"
          }
         ],
         "value": false
        },
        {
         "name": "clicked",
         "on": [
          {
           "events": "@legendSymbol:click, @legendLabel:click",
           "force": true,
           "update": "{value: datum.value}"
          }
         ],
         "value": null
        },
        {
         "name": "clearData",
         "on": [
          {
           "events": "mouseup[!event.item]",
           "force": true,
           "update": "true"
          }
         ],
         "value": true
        },
        {
         "name": "clickedData",
         "on": [
          {
           "events": "@area:click",
           "force": true,
           "update": "{value: datum.trajectory}"
          }
         ],
         "value": null
        }
       ],
       "width": 500
      }
     },
     "metadata": {},
     "output_type": "display_data"
    },
    {
     "name": "stderr",
     "output_type": "stream",
     "text": [
      "/var/folders/vn/q5vrjvfn60bfsnnd058cb6ww0000gn/T/ipykernel_795/305227323.py:106: FutureWarning: The provided callable <function mean at 0x10d51e170> is currently using DataFrameGroupBy.mean. In a future version of pandas, the provided callable will be used directly. To keep current behavior pass the string \"mean\" instead.\n",
      "  parameters_by_sample_id = all_parameters_cluster.groupby(\"sample_id\").agg(np.mean)\n",
      "/var/folders/vn/q5vrjvfn60bfsnnd058cb6ww0000gn/T/ipykernel_795/305227323.py:107: FutureWarning: The provided callable <function mean at 0x10d51e170> is currently using Series.mean. In a future version of pandas, the provided callable will be used directly. To keep current behavior pass the string \"mean\" instead.\n",
      "  parameters_by_sample_id  = parameters_by_sample_id.agg([np.mean, np.std]).reset_index()\n",
      "/var/folders/vn/q5vrjvfn60bfsnnd058cb6ww0000gn/T/ipykernel_795/305227323.py:107: FutureWarning: The provided callable <function std at 0x10d51e290> is currently using Series.std. In a future version of pandas, the provided callable will be used directly. To keep current behavior pass the string \"std\" instead.\n",
      "  parameters_by_sample_id  = parameters_by_sample_id.agg([np.mean, np.std]).reset_index()\n"
     ]
    },
    {
     "name": "stdout",
     "output_type": "stream",
     "text": [
      "\n"
     ]
    },
    {
     "data": {
      "application/vnd.vega.v5+json": {
       "$schema": "https://vega.github.io/schema/vega/v5.json",
       "axes": [
        {
         "name": "x_axis",
         "orient": "bottom",
         "scale": "xscale",
         "zindex": 100
        },
        {
         "name": "y_axis",
         "orient": "left",
         "scale": "yscale",
         "zindex": 100
        }
       ],
       "background": "white",
       "data": [
        {
         "name": "distributions",
         "transform": [
          {
           "sort": {
            "field": [
             "trajectory",
             "timepoint"
            ]
           },
           "type": "collect"
          }
         ],
         "values": [
          {
           "lower": 0.06761365856521795,
           "timepoint": 0,
           "trajectory": "Example",
           "upper": 1.9193590818107082
          },
          {
           "lower": 1.4862150823283347,
           "timepoint": 1,
           "trajectory": "Example",
           "upper": 3.3137263974619633
          },
          {
           "lower": 2.0079374570376367,
           "timepoint": 2,
           "trajectory": "Example",
           "upper": 3.8317244339710514
          },
          {
           "lower": 2.3339979451382233,
           "timepoint": 3,
           "trajectory": "Example",
           "upper": 4.167062872782499
          },
          {
           "lower": 2.4564307702270325,
           "timepoint": 4,
           "trajectory": "Example",
           "upper": 4.314973527933104
          },
          {
           "lower": 2.329118432595037,
           "timepoint": 5,
           "trajectory": "Example",
           "upper": 4.262093132061431
          },
          {
           "lower": 2.0212091050625927,
           "timepoint": 6,
           "trajectory": "Example",
           "upper": 4.10301333718569
          },
          {
           "lower": 1.6579715051244306,
           "timepoint": 7,
           "trajectory": "Example",
           "upper": 3.8536292997481914
          },
          {
           "lower": 1.2886185555088232,
           "timepoint": 8,
           "trajectory": "Example",
           "upper": 3.535757849869575
          },
          {
           "lower": 1.0701617514630473,
           "timepoint": 9,
           "trajectory": "Example",
           "upper": 3.2058059015460665
          },
          {
           "lower": 1.0165898737098578,
           "timepoint": 10,
           "trajectory": "Example",
           "upper": 2.920842702428605
          },
          {
           "lower": 1.0290810395143564,
           "timepoint": 11,
           "trajectory": "Example",
           "upper": 2.7720490006213483
          },
          {
           "lower": 1.0725496966665866,
           "timepoint": 12,
           "trajectory": "Example",
           "upper": 2.9771332135493345
          },
          {
           "lower": 1.0661618597179656,
           "timepoint": 13,
           "trajectory": "Example",
           "upper": 3.3807066031514696
          },
          {
           "lower": 1.2694590603917801,
           "timepoint": 14,
           "trajectory": "Example",
           "upper": 3.861904680995865
          },
          {
           "lower": 1.5752476657604169,
           "timepoint": 15,
           "trajectory": "Example",
           "upper": 4.322451306664375
          },
          {
           "lower": 1.9163770433583742,
           "timepoint": 16,
           "trajectory": "Example",
           "upper": 4.641673038211144
          },
          {
           "lower": 2.304474412285751,
           "timepoint": 17,
           "trajectory": "Example",
           "upper": 4.799202905930354
          },
          {
           "lower": 2.6702021293269937,
           "timepoint": 18,
           "trajectory": "Example",
           "upper": 4.834247851359226
          },
          {
           "lower": 2.6137438206400945,
           "timepoint": 19,
           "trajectory": "Example",
           "upper": 4.787231997749297
          },
          {
           "lower": 2.307839032785281,
           "timepoint": 20,
           "trajectory": "Example",
           "upper": 4.8025927140994344
          },
          {
           "lower": 1.879998819490259,
           "timepoint": 21,
           "trajectory": "Example",
           "upper": 4.91104105693846
          },
          {
           "lower": 1.5498094181177189,
           "timepoint": 22,
           "trajectory": "Example",
           "upper": 4.7657654972995855
          },
          {
           "lower": 1.5732940918783167,
           "timepoint": 23,
           "trajectory": "Example",
           "upper": 4.502371605324244
          },
          {
           "lower": 1.788413531478326,
           "timepoint": 24,
           "trajectory": "Example",
           "upper": 4.1633917627939985
          },
          {
           "lower": 1.77147973472957,
           "timepoint": 25,
           "trajectory": "Example",
           "upper": 3.802395439619873
          },
          {
           "lower": 1.8529203702021027,
           "timepoint": 26,
           "trajectory": "Example",
           "upper": 3.935105818499796
          },
          {
           "lower": 1.7554679794816732,
           "timepoint": 27,
           "trajectory": "Example",
           "upper": 4.190344632043614
          },
          {
           "lower": 1.6233825466966534,
           "timepoint": 28,
           "trajectory": "Example",
           "upper": 4.43739476184445
          },
          {
           "lower": 1.5489342871941354,
           "timepoint": 29,
           "trajectory": "Example",
           "upper": 4.755809115337521
          },
          {
           "lower": 1.6136120568229042,
           "timepoint": 30,
           "trajectory": "Example",
           "upper": 4.968307688185121
          },
          {
           "lower": 1.7671573781936174,
           "timepoint": 31,
           "trajectory": "Example",
           "upper": 5.05252750678758
          },
          {
           "lower": 1.9832933948045648,
           "timepoint": 32,
           "trajectory": "Example",
           "upper": 5.149084042978085
          },
          {
           "lower": 1.992593468829232,
           "timepoint": 33,
           "trajectory": "Example",
           "upper": 4.979890289793004
          },
          {
           "lower": 2.1276521892622235,
           "timepoint": 34,
           "trajectory": "Example",
           "upper": 4.768287184484933
          },
          {
           "lower": 1.9200256811556888,
           "timepoint": 35,
           "trajectory": "Example",
           "upper": 4.946109978028535
          },
          {
           "lower": 1.9304576901834272,
           "timepoint": 36,
           "trajectory": "Example",
           "upper": 5.043246242092982
          },
          {
           "lower": 2.087624990058716,
           "timepoint": 37,
           "trajectory": "Example",
           "upper": 5.090734592528675
          },
          {
           "lower": 2.1866191042903464,
           "timepoint": 38,
           "trajectory": "Example",
           "upper": 5.099215722870252
          },
          {
           "lower": 2.1461159129416916,
           "timepoint": 39,
           "trajectory": "Example",
           "upper": 4.891916947823653
          },
          {
           "lower": 2.1981077291887825,
           "timepoint": 40,
           "trajectory": "Example",
           "upper": 4.704715817167401
          },
          {
           "lower": 2.2418947839686747,
           "timepoint": 41,
           "trajectory": "Example",
           "upper": 4.9567040431708325
          },
          {
           "lower": 2.1274158421091647,
           "timepoint": 42,
           "trajectory": "Example",
           "upper": 5.074643043054928
          },
          {
           "lower": 2.0478428796955113,
           "timepoint": 43,
           "trajectory": "Example",
           "upper": 5.0835209821022485
          },
          {
           "lower": 2.038282801354574,
           "timepoint": 44,
           "trajectory": "Example",
           "upper": 5.103558281226967
          },
          {
           "lower": 1.8708621505263061,
           "timepoint": 45,
           "trajectory": "Example",
           "upper": 5.176426795882241
          },
          {
           "lower": 1.9442256855172455,
           "timepoint": 46,
           "trajectory": "Example",
           "upper": 5.347109277155956
          },
          {
           "lower": 1.8564117305717482,
           "timepoint": 47,
           "trajectory": "Example",
           "upper": 5.199549793655818
          },
          {
           "lower": 1.9430102970481642,
           "timepoint": 48,
           "trajectory": "Example",
           "upper": 4.8741867750225545
          },
          {
           "lower": 1.9542165721286533,
           "timepoint": 49,
           "trajectory": "Example",
           "upper": 4.561496257522566
          },
          {
           "lower": 2.0720304170124733,
           "timepoint": 50,
           "trajectory": "Example",
           "upper": 4.882196879121655
          },
          {
           "lower": 2.2579687903832797,
           "timepoint": 51,
           "trajectory": "Example",
           "upper": 5.063314753519468
          },
          {
           "lower": 2.5211274105113706,
           "timepoint": 52,
           "trajectory": "Example",
           "upper": 5.229217335644935
          },
          {
           "lower": 2.531414779369289,
           "timepoint": 53,
           "trajectory": "Example",
           "upper": 5.317198286669658
          },
          {
           "lower": 2.4347242373112405,
           "timepoint": 54,
           "trajectory": "Example",
           "upper": 5.299354751100443
          },
          {
           "lower": 2.4914887991515395,
           "timepoint": 55,
           "trajectory": "Example",
           "upper": 5.217011831963579
          },
          {
           "lower": 2.592125843216689,
           "timepoint": 56,
           "trajectory": "Example",
           "upper": 5.233449211558668
          },
          {
           "lower": 2.4817911888446407,
           "timepoint": 57,
           "trajectory": "Example",
           "upper": 5.325282889252219
          },
          {
           "lower": 2.244382940144787,
           "timepoint": 58,
           "trajectory": "Example",
           "upper": 5.494476361223631
          },
          {
           "lower": 2.098632155752054,
           "timepoint": 59,
           "trajectory": "Example",
           "upper": 5.497649707262504
          },
          {
           "lower": 2.1048159897145506,
           "timepoint": 60,
           "trajectory": "Example",
           "upper": 5.5013044893103
          },
          {
           "lower": 2.1729225963307672,
           "timepoint": 61,
           "trajectory": "Example",
           "upper": 5.3721738129218854
          },
          {
           "lower": 2.0607660219917285,
           "timepoint": 62,
           "trajectory": "Example",
           "upper": 5.053450709802132
          },
          {
           "lower": 2.0678895159091333,
           "timepoint": 63,
           "trajectory": "Example",
           "upper": 4.6615897736183465
          },
          {
           "lower": 2.122265695446582,
           "timepoint": 64,
           "trajectory": "Example",
           "upper": 4.535177785989853
          },
          {
           "lower": 2.2512870258037845,
           "timepoint": 65,
           "trajectory": "Example",
           "upper": 4.805129280277215
          },
          {
           "lower": 2.438927053442302,
           "timepoint": 66,
           "trajectory": "Example",
           "upper": 5.0363611253694565
          },
          {
           "lower": 2.493693693213546,
           "timepoint": 67,
           "trajectory": "Example",
           "upper": 5.363987570614964
          },
          {
           "lower": 2.507313619729144,
           "timepoint": 68,
           "trajectory": "Example",
           "upper": 5.550752749092593
          },
          {
           "lower": 2.589700204922359,
           "timepoint": 69,
           "trajectory": "Example",
           "upper": 5.541775315251843
          },
          {
           "lower": 2.691847353796823,
           "timepoint": 70,
           "trajectory": "Example",
           "upper": 5.49285159247321
          },
          {
           "lower": 2.8765898711033473,
           "timepoint": 71,
           "trajectory": "Example",
           "upper": 5.466915210308145
          },
          {
           "lower": 2.557109456329475,
           "timepoint": 72,
           "trajectory": "Example",
           "upper": 5.418567203870652
          },
          {
           "lower": 2.2809235966528485,
           "timepoint": 73,
           "trajectory": "Example",
           "upper": 5.368491250280736
          },
          {
           "lower": 2.4006663554272096,
           "timepoint": 74,
           "trajectory": "Example",
           "upper": 5.6162505814373365
          },
          {
           "lower": 2.2893331183044237,
           "timepoint": 75,
           "trajectory": "Example",
           "upper": 5.705913557082353
          },
          {
           "lower": 2.233233233469184,
           "timepoint": 76,
           "trajectory": "Example",
           "upper": 5.653811383982594
          },
          {
           "lower": 2.366974053275593,
           "timepoint": 77,
           "trajectory": "Example",
           "upper": 5.456791231988546
          },
          {
           "lower": 2.309586726022279,
           "timepoint": 78,
           "trajectory": "Example",
           "upper": 5.33342089695436
          },
          {
           "lower": 2.4252786362649696,
           "timepoint": 79,
           "trajectory": "Example",
           "upper": 5.253598262745916
          },
          {
           "lower": 2.561515569509186,
           "timepoint": 80,
           "trajectory": "Example",
           "upper": 5.02627270901886
          },
          {
           "lower": 2.5551358612333113,
           "timepoint": 81,
           "trajectory": "Example",
           "upper": 4.961640626546043
          },
          {
           "lower": 2.5749120738833255,
           "timepoint": 82,
           "trajectory": "Example",
           "upper": 5.130679064412873
          },
          {
           "lower": 2.5413598953464067,
           "timepoint": 83,
           "trajectory": "Example",
           "upper": 5.426252598756844
          },
          {
           "lower": 2.389203354729203,
           "timepoint": 84,
           "trajectory": "Example",
           "upper": 5.673613347102039
          },
          {
           "lower": 2.493121659998741,
           "timepoint": 85,
           "trajectory": "Example",
           "upper": 5.750405955935219
          },
          {
           "lower": 2.7588162413572865,
           "timepoint": 86,
           "trajectory": "Example",
           "upper": 5.797645558731828
          },
          {
           "lower": 2.8550748785766515,
           "timepoint": 87,
           "trajectory": "Example",
           "upper": 5.655251315085081
          },
          {
           "lower": 2.6114644503233464,
           "timepoint": 88,
           "trajectory": "Example",
           "upper": 5.583617335065303
          },
          {
           "lower": 2.3705642835987715,
           "timepoint": 89,
           "trajectory": "Example",
           "upper": 5.635875017293195
          },
          {
           "lower": 2.266552566926258,
           "timepoint": 90,
           "trajectory": "Example",
           "upper": 5.3737038406562565
          },
          {
           "lower": 2.3969822909761405,
           "timepoint": 91,
           "trajectory": "Example",
           "upper": 5.473533095154732
          },
          {
           "lower": 2.646047188762932,
           "timepoint": 92,
           "trajectory": "Example",
           "upper": 5.643528634485599
          },
          {
           "lower": 2.7723914757774932,
           "timepoint": 93,
           "trajectory": "Example",
           "upper": 5.609492451729464
          },
          {
           "lower": 2.744367078266707,
           "timepoint": 94,
           "trajectory": "Example",
           "upper": 5.501573146546555
          },
          {
           "lower": 2.6251300501776673,
           "timepoint": 95,
           "trajectory": "Example",
           "upper": 5.3422719840124255
          },
          {
           "lower": 2.531549906089842,
           "timepoint": 96,
           "trajectory": "Example",
           "upper": 5.282697969913338
          },
          {
           "lower": 2.4779889324902467,
           "timepoint": 97,
           "trajectory": "Example",
           "upper": 5.3775661617440935
          },
          {
           "lower": 2.5951482300933653,
           "timepoint": 98,
           "trajectory": "Example",
           "upper": 5.256184669719243
          },
          {
           "lower": 2.6758999599126496,
           "timepoint": 99,
           "trajectory": "Example",
           "upper": 5.632598047709879
          }
         ]
        },
        {
         "name": "traces",
         "transform": [
          {
           "expr": "isValid(datum.value)",
           "type": "filter"
          },
          {
           "sort": {
            "field": [
             "trajectory",
             "timepoint"
            ]
           },
           "type": "collect"
          }
         ],
         "values": [
          {
           "color_by": "Envelope Mean",
           "sample_id": 0,
           "timepoint": 0,
           "trajectory": "Envelope_Mean",
           "value": 0.993486370187963
          },
          {
           "color_by": "Envelope Mean",
           "sample_id": 0,
           "timepoint": 1,
           "trajectory": "Envelope_Mean",
           "value": 2.399970739895149
          },
          {
           "color_by": "Envelope Mean",
           "sample_id": 0,
           "timepoint": 2,
           "trajectory": "Envelope_Mean",
           "value": 2.9198309455043443
          },
          {
           "color_by": "Envelope Mean",
           "sample_id": 0,
           "timepoint": 3,
           "trajectory": "Envelope_Mean",
           "value": 3.250530408960361
          },
          {
           "color_by": "Envelope Mean",
           "sample_id": 0,
           "timepoint": 4,
           "trajectory": "Envelope_Mean",
           "value": 3.385702149080068
          },
          {
           "color_by": "Envelope Mean",
           "sample_id": 0,
           "timepoint": 5,
           "trajectory": "Envelope_Mean",
           "value": 3.2956057823282343
          },
          {
           "color_by": "Envelope Mean",
           "sample_id": 0,
           "timepoint": 6,
           "trajectory": "Envelope_Mean",
           "value": 3.062111221124141
          },
          {
           "color_by": "Envelope Mean",
           "sample_id": 0,
           "timepoint": 7,
           "trajectory": "Envelope_Mean",
           "value": 2.7558004024363107
          },
          {
           "color_by": "Envelope Mean",
           "sample_id": 0,
           "timepoint": 8,
           "trajectory": "Envelope_Mean",
           "value": 2.412188202689199
          },
          {
           "color_by": "Envelope Mean",
           "sample_id": 0,
           "timepoint": 9,
           "trajectory": "Envelope_Mean",
           "value": 2.137983826504557
          },
          {
           "color_by": "Envelope Mean",
           "sample_id": 0,
           "timepoint": 10,
           "trajectory": "Envelope_Mean",
           "value": 1.9687162880692313
          },
          {
           "color_by": "Envelope Mean",
           "sample_id": 0,
           "timepoint": 11,
           "trajectory": "Envelope_Mean",
           "value": 1.9005650200678523
          },
          {
           "color_by": "Envelope Mean",
           "sample_id": 0,
           "timepoint": 12,
           "trajectory": "Envelope_Mean",
           "value": 2.0248414551079605
          },
          {
           "color_by": "Envelope Mean",
           "sample_id": 0,
           "timepoint": 13,
           "trajectory": "Envelope_Mean",
           "value": 2.2234342314347177
          },
          {
           "color_by": "Envelope Mean",
           "sample_id": 0,
           "timepoint": 14,
           "trajectory": "Envelope_Mean",
           "value": 2.5656818706938225
          },
          {
           "color_by": "Envelope Mean",
           "sample_id": 0,
           "timepoint": 15,
           "trajectory": "Envelope_Mean",
           "value": 2.9488494862123957
          },
          {
           "color_by": "Envelope Mean",
           "sample_id": 0,
           "timepoint": 16,
           "trajectory": "Envelope_Mean",
           "value": 3.2790250407847594
          },
          {
           "color_by": "Envelope Mean",
           "sample_id": 0,
           "timepoint": 17,
           "trajectory": "Envelope_Mean",
           "value": 3.5518386591080526
          },
          {
           "color_by": "Envelope Mean",
           "sample_id": 0,
           "timepoint": 18,
           "trajectory": "Envelope_Mean",
           "value": 3.7522249903431097
          },
          {
           "color_by": "Envelope Mean",
           "sample_id": 0,
           "timepoint": 19,
           "trajectory": "Envelope_Mean",
           "value": 3.7004879091946954
          },
          {
           "color_by": "Envelope Mean",
           "sample_id": 0,
           "timepoint": 20,
           "trajectory": "Envelope_Mean",
           "value": 3.555215873442358
          },
          {
           "color_by": "Envelope Mean",
           "sample_id": 0,
           "timepoint": 21,
           "trajectory": "Envelope_Mean",
           "value": 3.3955199382143597
          },
          {
           "color_by": "Envelope Mean",
           "sample_id": 0,
           "timepoint": 22,
           "trajectory": "Envelope_Mean",
           "value": 3.157787457708652
          },
          {
           "color_by": "Envelope Mean",
           "sample_id": 0,
           "timepoint": 23,
           "trajectory": "Envelope_Mean",
           "value": 3.0378328486012807
          },
          {
           "color_by": "Envelope Mean",
           "sample_id": 0,
           "timepoint": 24,
           "trajectory": "Envelope_Mean",
           "value": 2.975902647136162
          },
          {
           "color_by": "Envelope Mean",
           "sample_id": 0,
           "timepoint": 25,
           "trajectory": "Envelope_Mean",
           "value": 2.7869375871747217
          },
          {
           "color_by": "Envelope Mean",
           "sample_id": 0,
           "timepoint": 26,
           "trajectory": "Envelope_Mean",
           "value": 2.8940130943509494
          },
          {
           "color_by": "Envelope Mean",
           "sample_id": 0,
           "timepoint": 27,
           "trajectory": "Envelope_Mean",
           "value": 2.9729063057626437
          },
          {
           "color_by": "Envelope Mean",
           "sample_id": 0,
           "timepoint": 28,
           "trajectory": "Envelope_Mean",
           "value": 3.030388654270552
          },
          {
           "color_by": "Envelope Mean",
           "sample_id": 0,
           "timepoint": 29,
           "trajectory": "Envelope_Mean",
           "value": 3.152371701265828
          },
          {
           "color_by": "Envelope Mean",
           "sample_id": 0,
           "timepoint": 30,
           "trajectory": "Envelope_Mean",
           "value": 3.2909598725040126
          },
          {
           "color_by": "Envelope Mean",
           "sample_id": 0,
           "timepoint": 31,
           "trajectory": "Envelope_Mean",
           "value": 3.409842442490599
          },
          {
           "color_by": "Envelope Mean",
           "sample_id": 0,
           "timepoint": 32,
           "trajectory": "Envelope_Mean",
           "value": 3.566188718891325
          },
          {
           "color_by": "Envelope Mean",
           "sample_id": 0,
           "timepoint": 33,
           "trajectory": "Envelope_Mean",
           "value": 3.486241879311118
          },
          {
           "color_by": "Envelope Mean",
           "sample_id": 0,
           "timepoint": 34,
           "trajectory": "Envelope_Mean",
           "value": 3.447969686873578
          },
          {
           "color_by": "Envelope Mean",
           "sample_id": 0,
           "timepoint": 35,
           "trajectory": "Envelope_Mean",
           "value": 3.433067829592112
          },
          {
           "color_by": "Envelope Mean",
           "sample_id": 0,
           "timepoint": 36,
           "trajectory": "Envelope_Mean",
           "value": 3.4868519661382047
          },
          {
           "color_by": "Envelope Mean",
           "sample_id": 0,
           "timepoint": 37,
           "trajectory": "Envelope_Mean",
           "value": 3.5891797912936956
          },
          {
           "color_by": "Envelope Mean",
           "sample_id": 0,
           "timepoint": 38,
           "trajectory": "Envelope_Mean",
           "value": 3.642917413580299
          },
          {
           "color_by": "Envelope Mean",
           "sample_id": 0,
           "timepoint": 39,
           "trajectory": "Envelope_Mean",
           "value": 3.5190164303826723
          },
          {
           "color_by": "Envelope Mean",
           "sample_id": 0,
           "timepoint": 40,
           "trajectory": "Envelope_Mean",
           "value": 3.4514117731780916
          },
          {
           "color_by": "Envelope Mean",
           "sample_id": 0,
           "timepoint": 41,
           "trajectory": "Envelope_Mean",
           "value": 3.599299413569754
          },
          {
           "color_by": "Envelope Mean",
           "sample_id": 0,
           "timepoint": 42,
           "trajectory": "Envelope_Mean",
           "value": 3.601029442582046
          },
          {
           "color_by": "Envelope Mean",
           "sample_id": 0,
           "timepoint": 43,
           "trajectory": "Envelope_Mean",
           "value": 3.56568193089888
          },
          {
           "color_by": "Envelope Mean",
           "sample_id": 0,
           "timepoint": 44,
           "trajectory": "Envelope_Mean",
           "value": 3.5709205412907705
          },
          {
           "color_by": "Envelope Mean",
           "sample_id": 0,
           "timepoint": 45,
           "trajectory": "Envelope_Mean",
           "value": 3.5236444732042735
          },
          {
           "color_by": "Envelope Mean",
           "sample_id": 0,
           "timepoint": 46,
           "trajectory": "Envelope_Mean",
           "value": 3.6456674813366003
          },
          {
           "color_by": "Envelope Mean",
           "sample_id": 0,
           "timepoint": 47,
           "trajectory": "Envelope_Mean",
           "value": 3.527980762113783
          },
          {
           "color_by": "Envelope Mean",
           "sample_id": 0,
           "timepoint": 48,
           "trajectory": "Envelope_Mean",
           "value": 3.4085985360353592
          },
          {
           "color_by": "Envelope Mean",
           "sample_id": 0,
           "timepoint": 49,
           "trajectory": "Envelope_Mean",
           "value": 3.2578564148256097
          },
          {
           "color_by": "Envelope Mean",
           "sample_id": 0,
           "timepoint": 50,
           "trajectory": "Envelope_Mean",
           "value": 3.477113648067064
          },
          {
           "color_by": "Envelope Mean",
           "sample_id": 0,
           "timepoint": 51,
           "trajectory": "Envelope_Mean",
           "value": 3.660641771951374
          },
          {
           "color_by": "Envelope Mean",
           "sample_id": 0,
           "timepoint": 52,
           "trajectory": "Envelope_Mean",
           "value": 3.875172373078153
          },
          {
           "color_by": "Envelope Mean",
           "sample_id": 0,
           "timepoint": 53,
           "trajectory": "Envelope_Mean",
           "value": 3.9243065330194735
          },
          {
           "color_by": "Envelope Mean",
           "sample_id": 0,
           "timepoint": 54,
           "trajectory": "Envelope_Mean",
           "value": 3.8670394942058417
          },
          {
           "color_by": "Envelope Mean",
           "sample_id": 0,
           "timepoint": 55,
           "trajectory": "Envelope_Mean",
           "value": 3.854250315557559
          },
          {
           "color_by": "Envelope Mean",
           "sample_id": 0,
           "timepoint": 56,
           "trajectory": "Envelope_Mean",
           "value": 3.912787527387678
          },
          {
           "color_by": "Envelope Mean",
           "sample_id": 0,
           "timepoint": 57,
           "trajectory": "Envelope_Mean",
           "value": 3.90353703904843
          },
          {
           "color_by": "Envelope Mean",
           "sample_id": 0,
           "timepoint": 58,
           "trajectory": "Envelope_Mean",
           "value": 3.869429650684209
          },
          {
           "color_by": "Envelope Mean",
           "sample_id": 0,
           "timepoint": 59,
           "trajectory": "Envelope_Mean",
           "value": 3.798140931507279
          },
          {
           "color_by": "Envelope Mean",
           "sample_id": 0,
           "timepoint": 60,
           "trajectory": "Envelope_Mean",
           "value": 3.8030602395124253
          },
          {
           "color_by": "Envelope Mean",
           "sample_id": 0,
           "timepoint": 61,
           "trajectory": "Envelope_Mean",
           "value": 3.772548204626326
          },
          {
           "color_by": "Envelope Mean",
           "sample_id": 0,
           "timepoint": 62,
           "trajectory": "Envelope_Mean",
           "value": 3.5571083658969305
          },
          {
           "color_by": "Envelope Mean",
           "sample_id": 0,
           "timepoint": 63,
           "trajectory": "Envelope_Mean",
           "value": 3.36473964476374
          },
          {
           "color_by": "Envelope Mean",
           "sample_id": 0,
           "timepoint": 64,
           "trajectory": "Envelope_Mean",
           "value": 3.3287217407182172
          },
          {
           "color_by": "Envelope Mean",
           "sample_id": 0,
           "timepoint": 65,
           "trajectory": "Envelope_Mean",
           "value": 3.5282081530404996
          },
          {
           "color_by": "Envelope Mean",
           "sample_id": 0,
           "timepoint": 66,
           "trajectory": "Envelope_Mean",
           "value": 3.7376440894058796
          },
          {
           "color_by": "Envelope Mean",
           "sample_id": 0,
           "timepoint": 67,
           "trajectory": "Envelope_Mean",
           "value": 3.9288406319142553
          },
          {
           "color_by": "Envelope Mean",
           "sample_id": 0,
           "timepoint": 68,
           "trajectory": "Envelope_Mean",
           "value": 4.029033184410869
          },
          {
           "color_by": "Envelope Mean",
           "sample_id": 0,
           "timepoint": 69,
           "trajectory": "Envelope_Mean",
           "value": 4.065737760087101
          },
          {
           "color_by": "Envelope Mean",
           "sample_id": 0,
           "timepoint": 70,
           "trajectory": "Envelope_Mean",
           "value": 4.092349473135016
          },
          {
           "color_by": "Envelope Mean",
           "sample_id": 0,
           "timepoint": 71,
           "trajectory": "Envelope_Mean",
           "value": 4.1717525407057465
          },
          {
           "color_by": "Envelope Mean",
           "sample_id": 0,
           "timepoint": 72,
           "trajectory": "Envelope_Mean",
           "value": 3.9878383301000637
          },
          {
           "color_by": "Envelope Mean",
           "sample_id": 0,
           "timepoint": 73,
           "trajectory": "Envelope_Mean",
           "value": 3.8247074234667924
          },
          {
           "color_by": "Envelope Mean",
           "sample_id": 0,
           "timepoint": 74,
           "trajectory": "Envelope_Mean",
           "value": 4.0084584684322735
          },
          {
           "color_by": "Envelope Mean",
           "sample_id": 0,
           "timepoint": 75,
           "trajectory": "Envelope_Mean",
           "value": 3.9976233376933887
          },
          {
           "color_by": "Envelope Mean",
           "sample_id": 0,
           "timepoint": 76,
           "trajectory": "Envelope_Mean",
           "value": 3.943522308725889
          },
          {
           "color_by": "Envelope Mean",
           "sample_id": 0,
           "timepoint": 77,
           "trajectory": "Envelope_Mean",
           "value": 3.9118826426320696
          },
          {
           "color_by": "Envelope Mean",
           "sample_id": 0,
           "timepoint": 78,
           "trajectory": "Envelope_Mean",
           "value": 3.8215038114883195
          },
          {
           "color_by": "Envelope Mean",
           "sample_id": 0,
           "timepoint": 79,
           "trajectory": "Envelope_Mean",
           "value": 3.839438449505443
          },
          {
           "color_by": "Envelope Mean",
           "sample_id": 0,
           "timepoint": 80,
           "trajectory": "Envelope_Mean",
           "value": 3.7938941392640233
          },
          {
           "color_by": "Envelope Mean",
           "sample_id": 0,
           "timepoint": 81,
           "trajectory": "Envelope_Mean",
           "value": 3.758388243889677
          },
          {
           "color_by": "Envelope Mean",
           "sample_id": 0,
           "timepoint": 82,
           "trajectory": "Envelope_Mean",
           "value": 3.8527955691480993
          },
          {
           "color_by": "Envelope Mean",
           "sample_id": 0,
           "timepoint": 83,
           "trajectory": "Envelope_Mean",
           "value": 3.9838062470516253
          },
          {
           "color_by": "Envelope Mean",
           "sample_id": 0,
           "timepoint": 84,
           "trajectory": "Envelope_Mean",
           "value": 4.031408350915621
          },
          {
           "color_by": "Envelope Mean",
           "sample_id": 0,
           "timepoint": 85,
           "trajectory": "Envelope_Mean",
           "value": 4.12176380796698
          },
          {
           "color_by": "Envelope Mean",
           "sample_id": 0,
           "timepoint": 86,
           "trajectory": "Envelope_Mean",
           "value": 4.278230900044557
          },
          {
           "color_by": "Envelope Mean",
           "sample_id": 0,
           "timepoint": 87,
           "trajectory": "Envelope_Mean",
           "value": 4.2551630968308665
          },
          {
           "color_by": "Envelope Mean",
           "sample_id": 0,
           "timepoint": 88,
           "trajectory": "Envelope_Mean",
           "value": 4.097540892694324
          },
          {
           "color_by": "Envelope Mean",
           "sample_id": 0,
           "timepoint": 89,
           "trajectory": "Envelope_Mean",
           "value": 4.003219650445983
          },
          {
           "color_by": "Envelope Mean",
           "sample_id": 0,
           "timepoint": 90,
           "trajectory": "Envelope_Mean",
           "value": 3.820128203791257
          },
          {
           "color_by": "Envelope Mean",
           "sample_id": 0,
           "timepoint": 91,
           "trajectory": "Envelope_Mean",
           "value": 3.935257693065436
          },
          {
           "color_by": "Envelope Mean",
           "sample_id": 0,
           "timepoint": 92,
           "trajectory": "Envelope_Mean",
           "value": 4.144787911624266
          },
          {
           "color_by": "Envelope Mean",
           "sample_id": 0,
           "timepoint": 93,
           "trajectory": "Envelope_Mean",
           "value": 4.190941963753478
          },
          {
           "color_by": "Envelope Mean",
           "sample_id": 0,
           "timepoint": 94,
           "trajectory": "Envelope_Mean",
           "value": 4.122970112406631
          },
          {
           "color_by": "Envelope Mean",
           "sample_id": 0,
           "timepoint": 95,
           "trajectory": "Envelope_Mean",
           "value": 3.983701017095046
          },
          {
           "color_by": "Envelope Mean",
           "sample_id": 0,
           "timepoint": 96,
           "trajectory": "Envelope_Mean",
           "value": 3.9071239380015896
          },
          {
           "color_by": "Envelope Mean",
           "sample_id": 0,
           "timepoint": 97,
           "trajectory": "Envelope_Mean",
           "value": 3.92777754711717
          },
          {
           "color_by": "Envelope Mean",
           "sample_id": 0,
           "timepoint": 98,
           "trajectory": "Envelope_Mean",
           "value": 3.925666449906304
          },
          {
           "color_by": "Envelope Mean",
           "sample_id": 0,
           "timepoint": 99,
           "trajectory": "Envelope_Mean",
           "value": 4.154249003811264
          },
          {
           "color_by": "Chaos",
           "sample_id": 0,
           "timepoint": 0,
           "trajectory": "Chaos",
           "value": 1.1870895835217496
          },
          {
           "color_by": "Chaos",
           "sample_id": 0,
           "timepoint": 1,
           "trajectory": "Chaos",
           "value": 2.664440157017247
          },
          {
           "color_by": "Chaos",
           "sample_id": 0,
           "timepoint": 2,
           "trajectory": "Chaos",
           "value": 3.2152049497076978
          },
          {
           "color_by": "Chaos",
           "sample_id": 0,
           "timepoint": 3,
           "trajectory": "Chaos",
           "value": 3.5001320936563416
          },
          {
           "color_by": "Chaos",
           "sample_id": 0,
           "timepoint": 4,
           "trajectory": "Chaos",
           "value": 3.5144931321377286
          },
          {
           "color_by": "Chaos",
           "sample_id": 0,
           "timepoint": 5,
           "trajectory": "Chaos",
           "value": 3.2903335817641564
          },
          {
           "color_by": "Chaos",
           "sample_id": 0,
           "timepoint": 6,
           "trajectory": "Chaos",
           "value": 2.90731496342316
          },
          {
           "color_by": "Chaos",
           "sample_id": 0,
           "timepoint": 7,
           "trajectory": "Chaos",
           "value": 2.478419384694244
          },
          {
           "color_by": "Chaos",
           "sample_id": 0,
           "timepoint": 8,
           "trajectory": "Chaos",
           "value": 2.1245702814263483
          },
          {
           "color_by": "Chaos",
           "sample_id": 0,
           "timepoint": 9,
           "trajectory": "Chaos",
           "value": 1.9463137477778718
          },
          {
           "color_by": "Chaos",
           "sample_id": 0,
           "timepoint": 10,
           "trajectory": "Chaos",
           "value": 2.0000104074927325
          },
          {
           "color_by": "Chaos",
           "sample_id": 0,
           "timepoint": 11,
           "trajectory": "Chaos",
           "value": 2.2845303520689773
          },
          {
           "color_by": "Chaos",
           "sample_id": 0,
           "timepoint": 12,
           "trajectory": "Chaos",
           "value": 2.741774477262912
          },
          {
           "color_by": "Chaos",
           "sample_id": 0,
           "timepoint": 13,
           "trajectory": "Chaos",
           "value": 3.270943364882415
          },
          {
           "color_by": "Chaos",
           "sample_id": 0,
           "timepoint": 14,
           "trajectory": "Chaos",
           "value": 3.7531183041345755
          },
          {
           "color_by": "Chaos",
           "sample_id": 0,
           "timepoint": 15,
           "trajectory": "Chaos",
           "value": 4.080206791690072
          },
          {
           "color_by": "Chaos",
           "sample_id": 0,
           "timepoint": 16,
           "trajectory": "Chaos",
           "value": 4.181240357840819
          },
          {
           "color_by": "Chaos",
           "sample_id": 0,
           "timepoint": 17,
           "trajectory": "Chaos",
           "value": 4.039651529834757
          },
          {
           "color_by": "Chaos",
           "sample_id": 0,
           "timepoint": 18,
           "trajectory": "Chaos",
           "value": 3.697342997437882
          },
          {
           "color_by": "Chaos",
           "sample_id": 0,
           "timepoint": 19,
           "trajectory": "Chaos",
           "value": 3.2445646810241624
          },
          {
           "color_by": "Chaos",
           "sample_id": 0,
           "timepoint": 20,
           "trajectory": "Chaos",
           "value": 2.7980562371911915
          },
          {
           "color_by": "Chaos",
           "sample_id": 0,
           "timepoint": 21,
           "trajectory": "Chaos",
           "value": 2.472758502114304
          },
          {
           "color_by": "Chaos",
           "sample_id": 0,
           "timepoint": 22,
           "trajectory": "Chaos",
           "value": 2.353957013590093
          },
          {
           "color_by": "Chaos",
           "sample_id": 0,
           "timepoint": 23,
           "trajectory": "Chaos",
           "value": 2.4766156821122003
          },
          {
           "color_by": "Chaos",
           "sample_id": 0,
           "timepoint": 24,
           "trajectory": "Chaos",
           "value": 2.8169143506509577
          },
          {
           "color_by": "Chaos",
           "sample_id": 0,
           "timepoint": 25,
           "trajectory": "Chaos",
           "value": 3.29804349854911
          },
          {
           "color_by": "Chaos",
           "sample_id": 0,
           "timepoint": 26,
           "trajectory": "Chaos",
           "value": 3.808850828939255
          },
          {
           "color_by": "Chaos",
           "sample_id": 0,
           "timepoint": 27,
           "trajectory": "Chaos",
           "value": 4.23081686777299
          },
          {
           "color_by": "Chaos",
           "sample_id": 0,
           "timepoint": 28,
           "trajectory": "Chaos",
           "value": 4.466816240901506
          },
          {
           "color_by": "Chaos",
           "sample_id": 0,
           "timepoint": 29,
           "trajectory": "Chaos",
           "value": 4.464688090610876
          },
          {
           "color_by": "Chaos",
           "sample_id": 0,
           "timepoint": 30,
           "trajectory": "Chaos",
           "value": 4.229898225558839
          },
          {
           "color_by": "Chaos",
           "sample_id": 0,
           "timepoint": 31,
           "trajectory": "Chaos",
           "value": 3.8242216327986682
          },
          {
           "color_by": "Chaos",
           "sample_id": 0,
           "timepoint": 32,
           "trajectory": "Chaos",
           "value": 3.350765056200782
          },
          {
           "color_by": "Chaos",
           "sample_id": 0,
           "timepoint": 33,
           "trajectory": "Chaos",
           "value": 2.9289628736090534
          },
          {
           "color_by": "Chaos",
           "sample_id": 0,
           "timepoint": 34,
           "trajectory": "Chaos",
           "value": 2.6656117083801667
          },
          {
           "color_by": "Chaos",
           "sample_id": 0,
           "timepoint": 35,
           "trajectory": "Chaos",
           "value": 2.6289700992410623
          },
          {
           "color_by": "Chaos",
           "sample_id": 0,
           "timepoint": 36,
           "trajectory": "Chaos",
           "value": 2.832206038473413
          },
          {
           "color_by": "Chaos",
           "sample_id": 0,
           "timepoint": 37,
           "trajectory": "Chaos",
           "value": 3.2302076291044983
          },
          {
           "color_by": "Chaos",
           "sample_id": 0,
           "timepoint": 38,
           "trajectory": "Chaos",
           "value": 3.7305305579298405
          },
          {
           "color_by": "Chaos",
           "sample_id": 0,
           "timepoint": 39,
           "trajectory": "Chaos",
           "value": 4.215826849631511
          },
          {
           "color_by": "Chaos",
           "sample_id": 0,
           "timepoint": 40,
           "trajectory": "Chaos",
           "value": 4.57231430061379
          },
          {
           "color_by": "Chaos",
           "sample_id": 0,
           "timepoint": 41,
           "trajectory": "Chaos",
           "value": 4.717380674384955
          },
          {
           "color_by": "Chaos",
           "sample_id": 0,
           "timepoint": 42,
           "trajectory": "Chaos",
           "value": 4.61962662117269
          },
          {
           "color_by": "Chaos",
           "sample_id": 0,
           "timepoint": 43,
           "trajectory": "Chaos",
           "value": 4.306485451201469
          },
          {
           "color_by": "Chaos",
           "sample_id": 0,
           "timepoint": 44,
           "trajectory": "Chaos",
           "value": 3.8575714222128634
          },
          {
           "color_by": "Chaos",
           "sample_id": 0,
           "timepoint": 45,
           "trajectory": "Chaos",
           "value": 3.3853700926341936
          },
          {
           "color_by": "Chaos",
           "sample_id": 0,
           "timepoint": 46,
           "trajectory": "Chaos",
           "value": 3.007954777116513
          },
          {
           "color_by": "Chaos",
           "sample_id": 0,
           "timepoint": 47,
           "trajectory": "Chaos",
           "value": 2.8203474006459874
          },
          {
           "color_by": "Chaos",
           "sample_id": 0,
           "timepoint": 48,
           "trajectory": "Chaos",
           "value": 2.871470879750871
          },
          {
           "color_by": "Chaos",
           "sample_id": 0,
           "timepoint": 49,
           "trajectory": "Chaos",
           "value": 3.152283798236449
          },
          {
           "color_by": "Chaos",
           "sample_id": 0,
           "timepoint": 50,
           "trajectory": "Chaos",
           "value": 3.5979756084551173
          },
          {
           "color_by": "Chaos",
           "sample_id": 0,
           "timepoint": 51,
           "trajectory": "Chaos",
           "value": 4.103689868474746
          },
          {
           "color_by": "Chaos",
           "sample_id": 0,
           "timepoint": 52,
           "trajectory": "Chaos",
           "value": 4.549961473189146
          },
          {
           "color_by": "Chaos",
           "sample_id": 0,
           "timepoint": 53,
           "trajectory": "Chaos",
           "value": 4.831697473073552
          },
          {
           "color_by": "Chaos",
           "sample_id": 0,
           "timepoint": 54,
           "trajectory": "Chaos",
           "value": 4.8836714909204755
          },
          {
           "color_by": "Chaos",
           "sample_id": 0,
           "timepoint": 55,
           "trajectory": "Chaos",
           "value": 4.696347457165988
          },
          {
           "color_by": "Chaos",
           "sample_id": 0,
           "timepoint": 56,
           "trajectory": "Chaos",
           "value": 4.318194240896333
          },
          {
           "color_by": "Chaos",
           "sample_id": 0,
           "timepoint": 57,
           "trajectory": "Chaos",
           "value": 3.8439297122281304
          },
          {
           "color_by": "Chaos",
           "sample_id": 0,
           "timepoint": 58,
           "trajectory": "Chaos",
           "value": 3.391545927121615
          },
          {
           "color_by": "Chaos",
           "sample_id": 0,
           "timepoint": 59,
           "trajectory": "Chaos",
           "value": 3.073688534646329
          },
          {
           "color_by": "Chaos",
           "sample_id": 0,
           "timepoint": 60,
           "trajectory": "Chaos",
           "value": 2.9703330258803526
          },
          {
           "color_by": "Chaos",
           "sample_id": 0,
           "timepoint": 61,
           "trajectory": "Chaos",
           "value": 3.109385863075931
          },
          {
           "color_by": "Chaos",
           "sample_id": 0,
           "timepoint": 62,
           "trajectory": "Chaos",
           "value": 3.459916156562199
          },
          {
           "color_by": "Chaos",
           "sample_id": 0,
           "timepoint": 63,
           "trajectory": "Chaos",
           "value": 3.939659712570964
          },
          {
           "color_by": "Chaos",
           "sample_id": 0,
           "timepoint": 64,
           "trajectory": "Chaos",
           "value": 4.434975167095683
          },
          {
           "color_by": "Chaos",
           "sample_id": 0,
           "timepoint": 65,
           "trajectory": "Chaos",
           "value": 4.828411366847577
          },
          {
           "color_by": "Chaos",
           "sample_id": 0,
           "timepoint": 66,
           "trajectory": "Chaos",
           "value": 5.027198866596864
          },
          {
           "color_by": "Chaos",
           "sample_id": 0,
           "timepoint": 67,
           "trajectory": "Chaos",
           "value": 4.9857542452838395
          },
          {
           "color_by": "Chaos",
           "sample_id": 0,
           "timepoint": 68,
           "trajectory": "Chaos",
           "value": 4.7167382783422
          },
          {
           "color_by": "Chaos",
           "sample_id": 0,
           "timepoint": 69,
           "trajectory": "Chaos",
           "value": 4.287985541792988
          },
          {
           "color_by": "Chaos",
           "sample_id": 0,
           "timepoint": 70,
           "trajectory": "Chaos",
           "value": 3.806050248548199
          },
          {
           "color_by": "Chaos",
           "sample_id": 0,
           "timepoint": 71,
           "trajectory": "Chaos",
           "value": 3.3903596729433754
          },
          {
           "color_by": "Chaos",
           "sample_id": 0,
           "timepoint": 72,
           "trajectory": "Chaos",
           "value": 3.1442448754311907
          },
          {
           "color_by": "Chaos",
           "sample_id": 0,
           "timepoint": 73,
           "trajectory": "Chaos",
           "value": 3.1298759254289603
          },
          {
           "color_by": "Chaos",
           "sample_id": 0,
           "timepoint": 74,
           "trajectory": "Chaos",
           "value": 3.353181690005937
          },
          {
           "color_by": "Chaos",
           "sample_id": 0,
           "timepoint": 75,
           "trajectory": "Chaos",
           "value": 3.76241225872206
          },
          {
           "color_by": "Chaos",
           "sample_id": 0,
           "timepoint": 76,
           "trajectory": "Chaos",
           "value": 4.260692724372103
          },
          {
           "color_by": "Chaos",
           "sample_id": 0,
           "timepoint": 77,
           "trajectory": "Chaos",
           "value": 4.729523098450166
          },
          {
           "color_by": "Chaos",
           "sample_id": 0,
           "timepoint": 78,
           "trajectory": "Chaos",
           "value": 5.0575238910686195
          },
          {
           "color_by": "Chaos",
           "sample_id": 0,
           "timepoint": 79,
           "trajectory": "Chaos",
           "value": 5.167454422554972
          },
          {
           "color_by": "Chaos",
           "sample_id": 0,
           "timepoint": 80,
           "trajectory": "Chaos",
           "value": 5.034949924483437
          },
          {
           "color_by": "Chaos",
           "sample_id": 0,
           "timepoint": 81,
           "trajectory": "Chaos",
           "value": 4.694432295215416
          },
          {
           "color_by": "Chaos",
           "sample_id": 0,
           "timepoint": 82,
           "trajectory": "Chaos",
           "value": 4.23076071445421
          },
          {
           "color_by": "Chaos",
           "sample_id": 0,
           "timepoint": 83,
           "trajectory": "Chaos",
           "value": 3.7586474624360786
          },
          {
           "color_by": "Chaos",
           "sample_id": 0,
           "timepoint": 84,
           "trajectory": "Chaos",
           "value": 3.3948321340659375
          },
          {
           "color_by": "Chaos",
           "sample_id": 0,
           "timepoint": 85,
           "trajectory": "Chaos",
           "value": 3.2297640642449235
          },
          {
           "color_by": "Chaos",
           "sample_id": 0,
           "timepoint": 86,
           "trajectory": "Chaos",
           "value": 3.3056620758353654
          },
          {
           "color_by": "Chaos",
           "sample_id": 0,
           "timepoint": 87,
           "trajectory": "Chaos",
           "value": 3.606273688238279
          },
          {
           "color_by": "Chaos",
           "sample_id": 0,
           "timepoint": 88,
           "trajectory": "Chaos",
           "value": 4.060817938149
          },
          {
           "color_by": "Chaos",
           "sample_id": 0,
           "timepoint": 89,
           "trajectory": "Chaos",
           "value": 4.561155386766799
          },
          {
           "color_by": "Chaos",
           "sample_id": 0,
           "timepoint": 90,
           "trajectory": "Chaos",
           "value": 4.988020314575849
          },
          {
           "color_by": "Chaos",
           "sample_id": 0,
           "timepoint": 91,
           "trajectory": "Chaos",
           "value": 5.239951852601978
          },
          {
           "color_by": "Chaos",
           "sample_id": 0,
           "timepoint": 92,
           "trajectory": "Chaos",
           "value": 5.257906106879713
          },
          {
           "color_by": "Chaos",
           "sample_id": 0,
           "timepoint": 93,
           "trajectory": "Chaos",
           "value": 5.039579012115528
          },
          {
           "color_by": "Chaos",
           "sample_id": 0,
           "timepoint": 94,
           "trajectory": "Chaos",
           "value": 4.639965561331778
          },
          {
           "color_by": "Chaos",
           "sample_id": 0,
           "timepoint": 95,
           "trajectory": "Chaos",
           "value": 4.158019757253401
          },
          {
           "color_by": "Chaos",
           "sample_id": 0,
           "timepoint": 96,
           "trajectory": "Chaos",
           "value": 3.712651236385886
          },
          {
           "color_by": "Chaos",
           "sample_id": 0,
           "timepoint": 97,
           "trajectory": "Chaos",
           "value": 3.413881163963519
          },
          {
           "color_by": "Chaos",
           "sample_id": 0,
           "timepoint": 98,
           "trajectory": "Chaos",
           "value": 3.3361542335429717
          },
          {
           "color_by": "Chaos",
           "sample_id": 0,
           "timepoint": 99,
           "trajectory": "Chaos",
           "value": 3.500280589811139
          },
          {
           "color_by": "Mean",
           "sample_id": 0,
           "timepoint": 0,
           "trajectory": "Mean",
           "value": 0.860610958607122
          },
          {
           "color_by": "Mean",
           "sample_id": 0,
           "timepoint": 1,
           "trajectory": "Mean",
           "value": 2.299362594278649
          },
          {
           "color_by": "Mean",
           "sample_id": 0,
           "timepoint": 2,
           "trajectory": "Mean",
           "value": 2.8383498577269943
          },
          {
           "color_by": "Mean",
           "sample_id": 0,
           "timepoint": 3,
           "trajectory": "Mean",
           "value": 3.1550958579407133
          },
          {
           "color_by": "Mean",
           "sample_id": 0,
           "timepoint": 4,
           "trajectory": "Mean",
           "value": 3.244709159987976
          },
          {
           "color_by": "Mean",
           "sample_id": 0,
           "timepoint": 5,
           "trajectory": "Mean",
           "value": 3.1206417620675673
          },
          {
           "color_by": "Mean",
           "sample_id": 0,
           "timepoint": 6,
           "trajectory": "Mean",
           "value": 2.830110230444891
          },
          {
           "color_by": "Mean",
           "sample_id": 0,
           "timepoint": 7,
           "trajectory": "Mean",
           "value": 2.4493263518094057
          },
          {
           "color_by": "Mean",
           "sample_id": 0,
           "timepoint": 8,
           "trajectory": "Mean",
           "value": 2.0699443715524684
          },
          {
           "color_by": "Mean",
           "sample_id": 0,
           "timepoint": 9,
           "trajectory": "Mean",
           "value": 1.7814109606888238
          },
          {
           "color_by": "Mean",
           "sample_id": 0,
           "timepoint": 10,
           "trajectory": "Mean",
           "value": 1.6533562586439623
          },
          {
           "color_by": "Mean",
           "sample_id": 0,
           "timepoint": 11,
           "trajectory": "Mean",
           "value": 1.72180365107634
          },
          {
           "color_by": "Mean",
           "sample_id": 0,
           "timepoint": 12,
           "trajectory": "Mean",
           "value": 1.9820849568249679
          },
          {
           "color_by": "Mean",
           "sample_id": 0,
           "timepoint": 13,
           "trajectory": "Mean",
           "value": 2.3899420563172638
          },
          {
           "color_by": "Mean",
           "sample_id": 0,
           "timepoint": 14,
           "trajectory": "Mean",
           "value": 2.8706154236257664
          },
          {
           "color_by": "Mean",
           "sample_id": 0,
           "timepoint": 15,
           "trajectory": "Mean",
           "value": 3.334090330950949
          },
          {
           "color_by": "Mean",
           "sample_id": 0,
           "timepoint": 16,
           "trajectory": "Mean",
           "value": 3.6934174662851715
          },
          {
           "color_by": "Mean",
           "sample_id": 0,
           "timepoint": 17,
           "trajectory": "Mean",
           "value": 3.882398238771197
          },
          {
           "color_by": "Mean",
           "sample_id": 0,
           "timepoint": 18,
           "trajectory": "Mean",
           "value": 3.8690520758430775
          },
          {
           "color_by": "Mean",
           "sample_id": 0,
           "timepoint": 19,
           "trajectory": "Mean",
           "value": 3.6621372384477935
          },
          {
           "color_by": "Mean",
           "sample_id": 0,
           "timepoint": 20,
           "trajectory": "Mean",
           "value": 3.309404589248471
          },
          {
           "color_by": "Mean",
           "sample_id": 0,
           "timepoint": 21,
           "trajectory": "Mean",
           "value": 2.887939687154704
          },
          {
           "color_by": "Mean",
           "sample_id": 0,
           "timepoint": 22,
           "trajectory": "Mean",
           "value": 2.48855260789182
          },
          {
           "color_by": "Mean",
           "sample_id": 0,
           "timepoint": 23,
           "trajectory": "Mean",
           "value": 2.1973816815044938
          },
          {
           "color_by": "Mean",
           "sample_id": 0,
           "timepoint": 24,
           "trajectory": "Mean",
           "value": 2.078442143764504
          },
          {
           "color_by": "Mean",
           "sample_id": 0,
           "timepoint": 25,
           "trajectory": "Mean",
           "value": 2.1606589653675536
          },
          {
           "color_by": "Mean",
           "sample_id": 0,
           "timepoint": 26,
           "trajectory": "Mean",
           "value": 2.4320137172732785
          },
          {
           "color_by": "Mean",
           "sample_id": 0,
           "timepoint": 27,
           "trajectory": "Mean",
           "value": 2.8419926557692587
          },
          {
           "color_by": "Mean",
           "sample_id": 0,
           "timepoint": 28,
           "trajectory": "Mean",
           "value": 3.3118398109930176
          },
          {
           "color_by": "Mean",
           "sample_id": 0,
           "timepoint": 29,
           "trajectory": "Mean",
           "value": 3.7505360987937264
          },
          {
           "color_by": "Mean",
           "sample_id": 0,
           "timepoint": 30,
           "trajectory": "Mean",
           "value": 4.073264302985012
          },
          {
           "color_by": "Mean",
           "sample_id": 0,
           "timepoint": 31,
           "trajectory": "Mean",
           "value": 4.218615657507118
          },
          {
           "color_by": "Mean",
           "sample_id": 0,
           "timepoint": 32,
           "trajectory": "Mean",
           "value": 4.161048920826694
          },
          {
           "color_by": "Mean",
           "sample_id": 0,
           "timepoint": 33,
           "trajectory": "Mean",
           "value": 3.9160755341687112
          },
          {
           "color_by": "Mean",
           "sample_id": 0,
           "timepoint": 34,
           "trajectory": "Mean",
           "value": 3.5371194707523923
          },
          {
           "color_by": "Mean",
           "sample_id": 0,
           "timepoint": 35,
           "trajectory": "Mean",
           "value": 3.1046886059847942
          },
          {
           "color_by": "Mean",
           "sample_id": 0,
           "timepoint": 36,
           "trajectory": "Mean",
           "value": 2.7100535247457884
          },
          {
           "color_by": "Mean",
           "sample_id": 0,
           "timepoint": 37,
           "trajectory": "Mean",
           "value": 2.4367434745244534
          },
          {
           "color_by": "Mean",
           "sample_id": 0,
           "timepoint": 38,
           "trajectory": "Mean",
           "value": 2.3436118134502735
          },
          {
           "color_by": "Mean",
           "sample_id": 0,
           "timepoint": 39,
           "trajectory": "Mean",
           "value": 2.452905029937054
          },
          {
           "color_by": "Mean",
           "sample_id": 0,
           "timepoint": 40,
           "trajectory": "Mean",
           "value": 2.7457547658451773
          },
          {
           "color_by": "Mean",
           "sample_id": 0,
           "timepoint": 41,
           "trajectory": "Mean",
           "value": 3.1660070106111036
          },
          {
           "color_by": "Mean",
           "sample_id": 0,
           "timepoint": 42,
           "trajectory": "Mean",
           "value": 3.631611992013225
          },
          {
           "color_by": "Mean",
           "sample_id": 0,
           "timepoint": 43,
           "trajectory": "Mean",
           "value": 4.0512651039025425
          },
          {
           "color_by": "Mean",
           "sample_id": 0,
           "timepoint": 44,
           "trajectory": "Mean",
           "value": 4.342924386573712
          },
          {
           "color_by": "Mean",
           "sample_id": 0,
           "timepoint": 45,
           "trajectory": "Mean",
           "value": 4.450449540042405
          },
          {
           "color_by": "Mean",
           "sample_id": 0,
           "timepoint": 46,
           "trajectory": "Mean",
           "value": 4.354988370490809
          },
          {
           "color_by": "Mean",
           "sample_id": 0,
           "timepoint": 47,
           "trajectory": "Mean",
           "value": 4.078801701305474
          },
          {
           "color_by": "Mean",
           "sample_id": 0,
           "timepoint": 48,
           "trajectory": "Mean",
           "value": 3.6807511316576367
          },
          {
           "color_by": "Mean",
           "sample_id": 0,
           "timepoint": 49,
           "trajectory": "Mean",
           "value": 3.244364659416
          },
          {
           "color_by": "Mean",
           "sample_id": 0,
           "timepoint": 50,
           "trajectory": "Mean",
           "value": 2.860900269070372
          },
          {
           "color_by": "Mean",
           "sample_id": 0,
           "timepoint": 51,
           "trajectory": "Mean",
           "value": 2.6108419134443164
          },
          {
           "color_by": "Mean",
           "sample_id": 0,
           "timepoint": 52,
           "trajectory": "Mean",
           "value": 2.5475802015102778
          },
          {
           "color_by": "Mean",
           "sample_id": 0,
           "timepoint": 53,
           "trajectory": "Mean",
           "value": 2.6865870821183417
          },
          {
           "color_by": "Mean",
           "sample_id": 0,
           "timepoint": 54,
           "trajectory": "Mean",
           "value": 3.0022797224455644
          },
          {
           "color_by": "Mean",
           "sample_id": 0,
           "timepoint": 55,
           "trajectory": "Mean",
           "value": 3.4332095394633093
          },
          {
           "color_by": "Mean",
           "sample_id": 0,
           "timepoint": 56,
           "trajectory": "Mean",
           "value": 3.8945241405710016
          },
          {
           "color_by": "Mean",
           "sample_id": 0,
           "timepoint": 57,
           "trajectory": "Mean",
           "value": 4.295175104885411
          },
          {
           "color_by": "Mean",
           "sample_id": 0,
           "timepoint": 58,
           "trajectory": "Mean",
           "value": 4.556382159251504
          },
          {
           "color_by": "Mean",
           "sample_id": 0,
           "timepoint": 59,
           "trajectory": "Mean",
           "value": 4.627609526880707
          },
          {
           "color_by": "Mean",
           "sample_id": 0,
           "timepoint": 60,
           "trajectory": "Mean",
           "value": 4.496814715960817
          },
          {
           "color_by": "Mean",
           "sample_id": 0,
           "timepoint": 61,
           "trajectory": "Mean",
           "value": 4.192891468601555
          },
          {
           "color_by": "Mean",
           "sample_id": 0,
           "timepoint": 62,
           "trajectory": "Mean",
           "value": 3.7798114838472374
          },
          {
           "color_by": "Mean",
           "sample_id": 0,
           "timepoint": 63,
           "trajectory": "Mean",
           "value": 3.3436528779222625
          },
          {
           "color_by": "Mean",
           "sample_id": 0,
           "timepoint": 64,
           "trajectory": "Mean",
           "value": 2.9751457952862044
          },
          {
           "color_by": "Mean",
           "sample_id": 0,
           "timepoint": 65,
           "trajectory": "Mean",
           "value": 2.7512746306641693
          },
          {
           "color_by": "Mean",
           "sample_id": 0,
           "timepoint": 66,
           "trajectory": "Mean",
           "value": 2.719667625550832
          },
          {
           "color_by": "Mean",
           "sample_id": 0,
           "timepoint": 67,
           "trajectory": "Mean",
           "value": 2.888939369648271
          },
          {
           "color_by": "Mean",
           "sample_id": 0,
           "timepoint": 68,
           "trajectory": "Mean",
           "value": 3.2269445880851046
          },
          {
           "color_by": "Mean",
           "sample_id": 0,
           "timepoint": 69,
           "trajectory": "Mean",
           "value": 3.6672973188104487
          },
          {
           "color_by": "Mean",
           "sample_id": 0,
           "timepoint": 70,
           "trajectory": "Mean",
           "value": 4.122833501669769
          },
          {
           "color_by": "Mean",
           "sample_id": 0,
           "timepoint": 71,
           "trajectory": "Mean",
           "value": 4.503286992902196
          },
          {
           "color_by": "Mean",
           "sample_id": 0,
           "timepoint": 72,
           "trajectory": "Mean",
           "value": 4.73359460655528
          },
          {
           "color_by": "Mean",
           "sample_id": 0,
           "timepoint": 73,
           "trajectory": "Mean",
           "value": 4.769118228093176
          },
          {
           "color_by": "Mean",
           "sample_id": 0,
           "timepoint": 74,
           "trajectory": "Mean",
           "value": 4.604697211543281
          },
          {
           "color_by": "Mean",
           "sample_id": 0,
           "timepoint": 75,
           "trajectory": "Mean",
           "value": 4.275695386669874
          },
          {
           "color_by": "Mean",
           "sample_id": 0,
           "timepoint": 76,
           "trajectory": "Mean",
           "value": 3.8508303616727053
          },
          {
           "color_by": "Mean",
           "sample_id": 0,
           "timepoint": 77,
           "trajectory": "Mean",
           "value": 3.4182392197503617
          },
          {
           "color_by": "Mean",
           "sample_id": 0,
           "timepoint": 78,
           "trajectory": "Mean",
           "value": 3.06760625391255
          },
          {
           "color_by": "Mean",
           "sample_id": 0,
           "timepoint": 79,
           "trajectory": "Mean",
           "value": 2.87197693709326
          },
          {
           "color_by": "Mean",
           "sample_id": 0,
           "timepoint": 80,
           "trajectory": "Mean",
           "value": 2.87294595079372
          },
          {
           "color_by": "Mean",
           "sample_id": 0,
           "timepoint": 81,
           "trajectory": "Mean",
           "value": 3.072222892846506
          },
          {
           "color_by": "Mean",
           "sample_id": 0,
           "timepoint": 82,
           "trajectory": "Mean",
           "value": 3.4312859982810417
          },
          {
           "color_by": "Mean",
           "sample_id": 0,
           "timepoint": 83,
           "trajectory": "Mean",
           "value": 3.879194093562071
          },
          {
           "color_by": "Mean",
           "sample_id": 0,
           "timepoint": 84,
           "trajectory": "Mean",
           "value": 4.326972651270992
          },
          {
           "color_by": "Mean",
           "sample_id": 0,
           "timepoint": 85,
           "trajectory": "Mean",
           "value": 4.685656694741751
          },
          {
           "color_by": "Mean",
           "sample_id": 0,
           "timepoint": 86,
           "trajectory": "Mean",
           "value": 4.884331754172835
          },
          {
           "color_by": "Mean",
           "sample_id": 0,
           "timepoint": 87,
           "trajectory": "Mean",
           "value": 4.884514470833974
          },
          {
           "color_by": "Mean",
           "sample_id": 0,
           "timepoint": 88,
           "trajectory": "Mean",
           "value": 4.687956704051151
          },
          {
           "color_by": "Mean",
           "sample_id": 0,
           "timepoint": 89,
           "trajectory": "Mean",
           "value": 4.336290599175751
          },
          {
           "color_by": "Mean",
           "sample_id": 0,
           "timepoint": 90,
           "trajectory": "Mean",
           "value": 3.9025865912525637
          },
          {
           "color_by": "Mean",
           "sample_id": 0,
           "timepoint": 91,
           "trajectory": "Mean",
           "value": 3.476536240344563
          },
          {
           "color_by": "Mean",
           "sample_id": 0,
           "timepoint": 92,
           "trajectory": "Mean",
           "value": 3.146264571873097
          },
          {
           "color_by": "Mean",
           "sample_id": 0,
           "timepoint": 93,
           "trajectory": "Mean",
           "value": 2.980460075273932
          },
          {
           "color_by": "Mean",
           "sample_id": 0,
           "timepoint": 94,
           "trajectory": "Mean",
           "value": 3.0144460984612014
          },
          {
           "color_by": "Mean",
           "sample_id": 0,
           "timepoint": 95,
           "trajectory": "Mean",
           "value": 3.2430181264803846
          },
          {
           "color_by": "Mean",
           "sample_id": 0,
           "timepoint": 96,
           "trajectory": "Mean",
           "value": 3.6214994246583885
          },
          {
           "color_by": "Mean",
           "sample_id": 0,
           "timepoint": 97,
           "trajectory": "Mean",
           "value": 4.0748009797942935
          },
          {
           "color_by": "Mean",
           "sample_id": 0,
           "timepoint": 98,
           "trajectory": "Mean",
           "value": 4.512648535264591
          },
          {
           "color_by": "Mean",
           "sample_id": 0,
           "timepoint": 99,
           "trajectory": "Mean",
           "value": 4.847888932490924
          },
          {
           "color_by": "Random",
           "sample_id": 0,
           "timepoint": 0,
           "trajectory": "Random",
           "value": 0.921118812104164
          },
          {
           "color_by": "Random",
           "sample_id": 0,
           "timepoint": 1,
           "trajectory": "Random",
           "value": 2.376584346012794
          },
          {
           "color_by": "Random",
           "sample_id": 0,
           "timepoint": 2,
           "trajectory": "Random",
           "value": 2.921285423364164
          },
          {
           "color_by": "Random",
           "sample_id": 0,
           "timepoint": 3,
           "trajectory": "Random",
           "value": 3.2256462171886335
          },
          {
           "color_by": "Random",
           "sample_id": 0,
           "timepoint": 4,
           "trajectory": "Random",
           "value": 3.2843208990464134
          },
          {
           "color_by": "Random",
           "sample_id": 0,
           "timepoint": 5,
           "trajectory": "Random",
           "value": 3.117694755579607
          },
          {
           "color_by": "Random",
           "sample_id": 0,
           "timepoint": 6,
           "trajectory": "Random",
           "value": 2.7857546229296863
          },
          {
           "color_by": "Random",
           "sample_id": 0,
           "timepoint": 7,
           "trajectory": "Random",
           "value": 2.3798212253518702
          },
          {
           "color_by": "Random",
           "sample_id": 0,
           "timepoint": 8,
           "trajectory": "Random",
           "value": 2.0044593431145885
          },
          {
           "color_by": "Random",
           "sample_id": 0,
           "timepoint": 9,
           "trajectory": "Random",
           "value": 1.7554953584130213
          },
          {
           "color_by": "Random",
           "sample_id": 0,
           "timepoint": 10,
           "trajectory": "Random",
           "value": 1.6995353638117292
          },
          {
           "color_by": "Random",
           "sample_id": 0,
           "timepoint": 11,
           "trajectory": "Random",
           "value": 1.8596907068232722
          },
          {
           "color_by": "Random",
           "sample_id": 0,
           "timepoint": 12,
           "trajectory": "Random",
           "value": 2.2107367239301423
          },
          {
           "color_by": "Random",
           "sample_id": 0,
           "timepoint": 13,
           "trajectory": "Random",
           "value": 2.6848130082197708
          },
          {
           "color_by": "Random",
           "sample_id": 0,
           "timepoint": 14,
           "trajectory": "Random",
           "value": 3.1864387354528794
          },
          {
           "color_by": "Random",
           "sample_id": 0,
           "timepoint": 15,
           "trajectory": "Random",
           "value": 3.613561598896899
          },
          {
           "color_by": "Random",
           "sample_id": 0,
           "timepoint": 16,
           "trajectory": "Random",
           "value": 3.880029032897948
          },
          {
           "color_by": "Random",
           "sample_id": 0,
           "timepoint": 17,
           "trajectory": "Random",
           "value": 3.9345550837753045
          },
          {
           "color_by": "Random",
           "sample_id": 0,
           "timepoint": 18,
           "trajectory": "Random",
           "value": 3.772023594399274
          },
          {
           "color_by": "Random",
           "sample_id": 0,
           "timepoint": 19,
           "trajectory": "Random",
           "value": 3.4346493278526093
          },
          {
           "color_by": "Random",
           "sample_id": 0,
           "timepoint": 20,
           "trajectory": "Random",
           "value": 3.0027440137059345
          },
          {
           "color_by": "Random",
           "sample_id": 0,
           "timepoint": 21,
           "trajectory": "Random",
           "value": 2.5771154451949236
          },
          {
           "color_by": "Random",
           "sample_id": 0,
           "timepoint": 22,
           "trajectory": "Random",
           "value": 2.2569638983441576
          },
          {
           "color_by": "Random",
           "sample_id": 0,
           "timepoint": 23,
           "trajectory": "Random",
           "value": 2.118128208555154
          },
          {
           "color_by": "Random",
           "sample_id": 0,
           "timepoint": 24,
           "trajectory": "Random",
           "value": 2.196456918724849
          },
          {
           "color_by": "Random",
           "sample_id": 0,
           "timepoint": 25,
           "trajectory": "Random",
           "value": 2.4799548675735776
          },
          {
           "color_by": "Random",
           "sample_id": 0,
           "timepoint": 26,
           "trajectory": "Random",
           "value": 2.9114293431433564
          },
          {
           "color_by": "Random",
           "sample_id": 0,
           "timepoint": 27,
           "trajectory": "Random",
           "value": 3.4010552722614427
          },
          {
           "color_by": "Random",
           "sample_id": 0,
           "timepoint": 28,
           "trajectory": "Random",
           "value": 3.846101701557887
          },
          {
           "color_by": "Random",
           "sample_id": 0,
           "timepoint": 29,
           "trajectory": "Random",
           "value": 4.153489928776079
          },
          {
           "color_by": "Random",
           "sample_id": 0,
           "timepoint": 30,
           "trajectory": "Random",
           "value": 4.260232082090832
          },
          {
           "color_by": "Random",
           "sample_id": 0,
           "timepoint": 31,
           "trajectory": "Random",
           "value": 4.147264146092001
          },
          {
           "color_by": "Random",
           "sample_id": 0,
           "timepoint": 32,
           "trajectory": "Random",
           "value": 3.843637285937796
          },
          {
           "color_by": "Random",
           "sample_id": 0,
           "timepoint": 33,
           "trajectory": "Random",
           "value": 3.4201475919350313
          },
          {
           "color_by": "Random",
           "sample_id": 0,
           "timepoint": 34,
           "trajectory": "Random",
           "value": 2.9738025475996337
          },
          {
           "color_by": "Random",
           "sample_id": 0,
           "timepoint": 35,
           "trajectory": "Random",
           "value": 2.606533789572911
          },
          {
           "color_by": "Random",
           "sample_id": 0,
           "timepoint": 36,
           "trajectory": "Random",
           "value": 2.402828618110879
          },
          {
           "color_by": "Random",
           "sample_id": 0,
           "timepoint": 37,
           "trajectory": "Random",
           "value": 2.4111900360311767
          },
          {
           "color_by": "Random",
           "sample_id": 0,
           "timepoint": 38,
           "trajectory": "Random",
           "value": 2.6334947517523273
          },
          {
           "color_by": "Random",
           "sample_id": 0,
           "timepoint": 39,
           "trajectory": "Random",
           "value": 3.0245850275333708
          },
          {
           "color_by": "Random",
           "sample_id": 0,
           "timepoint": 40,
           "trajectory": "Random",
           "value": 3.5021839903982146
          },
          {
           "color_by": "Random",
           "sample_id": 0,
           "timepoint": 41,
           "trajectory": "Random",
           "value": 3.964958089870502
          },
          {
           "color_by": "Random",
           "sample_id": 0,
           "timepoint": 42,
           "trajectory": "Random",
           "value": 4.3147621403154295
          },
          {
           "color_by": "Random",
           "sample_id": 0,
           "timepoint": 43,
           "trajectory": "Random",
           "value": 4.478184334134664
          },
          {
           "color_by": "Random",
           "sample_id": 0,
           "timepoint": 44,
           "trajectory": "Random",
           "value": 4.422662261251482
          },
          {
           "color_by": "Random",
           "sample_id": 0,
           "timepoint": 45,
           "trajectory": "Random",
           "value": 4.163632595244358
          },
          {
           "color_by": "Random",
           "sample_id": 0,
           "timepoint": 46,
           "trajectory": "Random",
           "value": 3.7611451535611873
          },
          {
           "color_by": "Random",
           "sample_id": 0,
           "timepoint": 47,
           "trajectory": "Random",
           "value": 3.306684535548954
          },
          {
           "color_by": "Random",
           "sample_id": 0,
           "timepoint": 48,
           "trajectory": "Random",
           "value": 2.903091910397219
          },
          {
           "color_by": "Random",
           "sample_id": 0,
           "timepoint": 49,
           "trajectory": "Random",
           "value": 2.6419939958240093
          },
          {
           "color_by": "Random",
           "sample_id": 0,
           "timepoint": 50,
           "trajectory": "Random",
           "value": 2.583693421870061
          },
          {
           "color_by": "Random",
           "sample_id": 0,
           "timepoint": 51,
           "trajectory": "Random",
           "value": 2.7439344160298544
          },
          {
           "color_by": "Random",
           "sample_id": 0,
           "timepoint": 52,
           "trajectory": "Random",
           "value": 3.0904486590862703
          },
          {
           "color_by": "Random",
           "sample_id": 0,
           "timepoint": 53,
           "trajectory": "Random",
           "value": 3.5500394796671175
          },
          {
           "color_by": "Random",
           "sample_id": 0,
           "timepoint": 54,
           "trajectory": "Random",
           "value": 4.024649461576853
          },
          {
           "color_by": "Random",
           "sample_id": 0,
           "timepoint": 55,
           "trajectory": "Random",
           "value": 4.412884739680297
          },
          {
           "color_by": "Random",
           "sample_id": 0,
           "timepoint": 56,
           "trajectory": "Random",
           "value": 4.6322715537621955
          },
          {
           "color_by": "Random",
           "sample_id": 0,
           "timepoint": 57,
           "trajectory": "Random",
           "value": 4.637359903707748
          },
          {
           "color_by": "Random",
           "sample_id": 0,
           "timepoint": 58,
           "trajectory": "Random",
           "value": 4.429700681813155
          },
          {
           "color_by": "Random",
           "sample_id": 0,
           "timepoint": 59,
           "trajectory": "Random",
           "value": 4.057506373891577
          },
          {
           "color_by": "Random",
           "sample_id": 0,
           "timepoint": 60,
           "trajectory": "Random",
           "value": 3.6050698066440647
          },
          {
           "color_by": "Random",
           "sample_id": 0,
           "timepoint": 61,
           "trajectory": "Random",
           "value": 3.1742634573066146
          },
          {
           "color_by": "Random",
           "sample_id": 0,
           "timepoint": 62,
           "trajectory": "Random",
           "value": 2.8621801037650396
          },
          {
           "color_by": "Random",
           "sample_id": 0,
           "timepoint": 63,
           "trajectory": "Random",
           "value": 2.739822542478221
          },
          {
           "color_by": "Random",
           "sample_id": 0,
           "timepoint": 64,
           "trajectory": "Random",
           "value": 2.8365198381153602
          },
          {
           "color_by": "Random",
           "sample_id": 0,
           "timepoint": 65,
           "trajectory": "Random",
           "value": 3.1334906340417996
          },
          {
           "color_by": "Random",
           "sample_id": 0,
           "timepoint": 66,
           "trajectory": "Random",
           "value": 3.567966335269606
          },
          {
           "color_by": "Random",
           "sample_id": 0,
           "timepoint": 67,
           "trajectory": "Random",
           "value": 4.046969155493936
          },
          {
           "color_by": "Random",
           "sample_id": 0,
           "timepoint": 68,
           "trajectory": "Random",
           "value": 4.467720843009085
          },
          {
           "color_by": "Random",
           "sample_id": 0,
           "timepoint": 69,
           "trajectory": "Random",
           "value": 4.740202511466377
          },
          {
           "color_by": "Random",
           "sample_id": 0,
           "timepoint": 70,
           "trajectory": "Random",
           "value": 4.8069138484992875
          },
          {
           "color_by": "Random",
           "sample_id": 0,
           "timepoint": 71,
           "trajectory": "Random",
           "value": 4.655494692540711
          },
          {
           "color_by": "Random",
           "sample_id": 0,
           "timepoint": 72,
           "trajectory": "Random",
           "value": 4.321438629446344
          },
          {
           "color_by": "Random",
           "sample_id": 0,
           "timepoint": 73,
           "trajectory": "Random",
           "value": 3.8803029943711547
          },
          {
           "color_by": "Random",
           "sample_id": 0,
           "timepoint": 74,
           "trajectory": "Random",
           "value": 3.4311251315101963
          },
          {
           "color_by": "Random",
           "sample_id": 0,
           "timepoint": 75,
           "trajectory": "Random",
           "value": 3.074684930525086
          },
          {
           "color_by": "Random",
           "sample_id": 0,
           "timepoint": 76,
           "trajectory": "Random",
           "value": 2.8913848654425793
          },
          {
           "color_by": "Random",
           "sample_id": 0,
           "timepoint": 77,
           "trajectory": "Random",
           "value": 2.923602717334117
          },
          {
           "color_by": "Random",
           "sample_id": 0,
           "timepoint": 78,
           "trajectory": "Random",
           "value": 3.1663904385011468
          },
          {
           "color_by": "Random",
           "sample_id": 0,
           "timepoint": 79,
           "trajectory": "Random",
           "value": 3.5685606948166324
          },
          {
           "color_by": "Random",
           "sample_id": 0,
           "timepoint": 80,
           "trajectory": "Random",
           "value": 4.043922598462402
          },
          {
           "color_by": "Random",
           "sample_id": 0,
           "timepoint": 81,
           "trajectory": "Random",
           "value": 4.490200465328697
          },
          {
           "color_by": "Random",
           "sample_id": 0,
           "timepoint": 82,
           "trajectory": "Random",
           "value": 4.811483059894847
          },
          {
           "color_by": "Random",
           "sample_id": 0,
           "timepoint": 83,
           "trajectory": "Random",
           "value": 4.939275872494414
          },
          {
           "color_by": "Random",
           "sample_id": 0,
           "timepoint": 84,
           "trajectory": "Random",
           "value": 4.847535598669951
          },
          {
           "color_by": "Random",
           "sample_id": 0,
           "timepoint": 85,
           "trajectory": "Random",
           "value": 4.558386855793387
          },
          {
           "color_by": "Random",
           "sample_id": 0,
           "timepoint": 86,
           "trajectory": "Random",
           "value": 4.137266357324792
          },
          {
           "color_by": "Random",
           "sample_id": 0,
           "timepoint": 87,
           "trajectory": "Random",
           "value": 3.678560365833391
          },
          {
           "color_by": "Random",
           "sample_id": 0,
           "timepoint": 88,
           "trajectory": "Random",
           "value": 3.284887906206105
          },
          {
           "color_by": "Random",
           "sample_id": 0,
           "timepoint": 89,
           "trajectory": "Random",
           "value": 3.0445769326470415
          },
          {
           "color_by": "Random",
           "sample_id": 0,
           "timepoint": 90,
           "trajectory": "Random",
           "value": 3.0122772773357425
          },
          {
           "color_by": "Random",
           "sample_id": 0,
           "timepoint": 91,
           "trajectory": "Random",
           "value": 3.1969657064525148
          },
          {
           "color_by": "Random",
           "sample_id": 0,
           "timepoint": 92,
           "trajectory": "Random",
           "value": 3.5599758922137617
          },
          {
           "color_by": "Random",
           "sample_id": 0,
           "timepoint": 93,
           "trajectory": "Random",
           "value": 4.0234857089945635
          },
          {
           "color_by": "Random",
           "sample_id": 0,
           "timepoint": 94,
           "trajectory": "Random",
           "value": 4.487598950434126
          },
          {
           "color_by": "Random",
           "sample_id": 0,
           "timepoint": 95,
           "trajectory": "Random",
           "value": 4.852272147737688
          },
          {
           "color_by": "Random",
           "sample_id": 0,
           "timepoint": 96,
           "trajectory": "Random",
           "value": 5.039273702773996
          },
          {
           "color_by": "Random",
           "sample_id": 0,
           "timepoint": 97,
           "trajectory": "Random",
           "value": 5.009355456673391
          },
          {
           "color_by": "Random",
           "sample_id": 0,
           "timepoint": 98,
           "trajectory": "Random",
           "value": 4.770867652299664
          },
          {
           "color_by": "Random",
           "sample_id": 0,
           "timepoint": 99,
           "trajectory": "Random",
           "value": 4.377926365513289
          },
          {
           "color_by": "Variance",
           "sample_id": 0,
           "timepoint": 0,
           "trajectory": "Variance",
           "value": 0.921118812104164
          },
          {
           "color_by": "Variance",
           "sample_id": 0,
           "timepoint": 1,
           "trajectory": "Variance",
           "value": 2.376584346012794
          },
          {
           "color_by": "Variance",
           "sample_id": 0,
           "timepoint": 2,
           "trajectory": "Variance",
           "value": 2.921285423364164
          },
          {
           "color_by": "Variance",
           "sample_id": 0,
           "timepoint": 3,
           "trajectory": "Variance",
           "value": 3.2256462171886335
          },
          {
           "color_by": "Variance",
           "sample_id": 0,
           "timepoint": 4,
           "trajectory": "Variance",
           "value": 3.2843208990464134
          },
          {
           "color_by": "Variance",
           "sample_id": 0,
           "timepoint": 5,
           "trajectory": "Variance",
           "value": 3.117694755579607
          },
          {
           "color_by": "Variance",
           "sample_id": 0,
           "timepoint": 6,
           "trajectory": "Variance",
           "value": 2.7857546229296863
          },
          {
           "color_by": "Variance",
           "sample_id": 0,
           "timepoint": 7,
           "trajectory": "Variance",
           "value": 2.3798212253518702
          },
          {
           "color_by": "Variance",
           "sample_id": 0,
           "timepoint": 8,
           "trajectory": "Variance",
           "value": 2.0044593431145885
          },
          {
           "color_by": "Variance",
           "sample_id": 0,
           "timepoint": 9,
           "trajectory": "Variance",
           "value": 1.7554953584130213
          },
          {
           "color_by": "Variance",
           "sample_id": 0,
           "timepoint": 10,
           "trajectory": "Variance",
           "value": 1.6995353638117292
          },
          {
           "color_by": "Variance",
           "sample_id": 0,
           "timepoint": 11,
           "trajectory": "Variance",
           "value": 1.8596907068232722
          },
          {
           "color_by": "Variance",
           "sample_id": 0,
           "timepoint": 12,
           "trajectory": "Variance",
           "value": 2.2107367239301423
          },
          {
           "color_by": "Variance",
           "sample_id": 0,
           "timepoint": 13,
           "trajectory": "Variance",
           "value": 2.6848130082197708
          },
          {
           "color_by": "Variance",
           "sample_id": 0,
           "timepoint": 14,
           "trajectory": "Variance",
           "value": 3.1864387354528794
          },
          {
           "color_by": "Variance",
           "sample_id": 0,
           "timepoint": 15,
           "trajectory": "Variance",
           "value": 3.613561598896899
          },
          {
           "color_by": "Variance",
           "sample_id": 0,
           "timepoint": 16,
           "trajectory": "Variance",
           "value": 3.880029032897948
          },
          {
           "color_by": "Variance",
           "sample_id": 0,
           "timepoint": 17,
           "trajectory": "Variance",
           "value": 3.9345550837753045
          },
          {
           "color_by": "Variance",
           "sample_id": 0,
           "timepoint": 18,
           "trajectory": "Variance",
           "value": 3.772023594399274
          },
          {
           "color_by": "Variance",
           "sample_id": 0,
           "timepoint": 19,
           "trajectory": "Variance",
           "value": 3.4346493278526093
          },
          {
           "color_by": "Variance",
           "sample_id": 0,
           "timepoint": 20,
           "trajectory": "Variance",
           "value": 3.0027440137059345
          },
          {
           "color_by": "Variance",
           "sample_id": 0,
           "timepoint": 21,
           "trajectory": "Variance",
           "value": 2.5771154451949236
          },
          {
           "color_by": "Variance",
           "sample_id": 0,
           "timepoint": 22,
           "trajectory": "Variance",
           "value": 2.2569638983441576
          },
          {
           "color_by": "Variance",
           "sample_id": 0,
           "timepoint": 23,
           "trajectory": "Variance",
           "value": 2.118128208555154
          },
          {
           "color_by": "Variance",
           "sample_id": 0,
           "timepoint": 24,
           "trajectory": "Variance",
           "value": 2.196456918724849
          },
          {
           "color_by": "Variance",
           "sample_id": 0,
           "timepoint": 25,
           "trajectory": "Variance",
           "value": 2.4799548675735776
          },
          {
           "color_by": "Variance",
           "sample_id": 0,
           "timepoint": 26,
           "trajectory": "Variance",
           "value": 2.9114293431433564
          },
          {
           "color_by": "Variance",
           "sample_id": 0,
           "timepoint": 27,
           "trajectory": "Variance",
           "value": 3.4010552722614427
          },
          {
           "color_by": "Variance",
           "sample_id": 0,
           "timepoint": 28,
           "trajectory": "Variance",
           "value": 3.846101701557887
          },
          {
           "color_by": "Variance",
           "sample_id": 0,
           "timepoint": 29,
           "trajectory": "Variance",
           "value": 4.153489928776079
          },
          {
           "color_by": "Variance",
           "sample_id": 0,
           "timepoint": 30,
           "trajectory": "Variance",
           "value": 4.260232082090832
          },
          {
           "color_by": "Variance",
           "sample_id": 0,
           "timepoint": 31,
           "trajectory": "Variance",
           "value": 4.147264146092001
          },
          {
           "color_by": "Variance",
           "sample_id": 0,
           "timepoint": 32,
           "trajectory": "Variance",
           "value": 3.843637285937796
          },
          {
           "color_by": "Variance",
           "sample_id": 0,
           "timepoint": 33,
           "trajectory": "Variance",
           "value": 3.4201475919350313
          },
          {
           "color_by": "Variance",
           "sample_id": 0,
           "timepoint": 34,
           "trajectory": "Variance",
           "value": 2.9738025475996337
          },
          {
           "color_by": "Variance",
           "sample_id": 0,
           "timepoint": 35,
           "trajectory": "Variance",
           "value": 2.606533789572911
          },
          {
           "color_by": "Variance",
           "sample_id": 0,
           "timepoint": 36,
           "trajectory": "Variance",
           "value": 2.402828618110879
          },
          {
           "color_by": "Variance",
           "sample_id": 0,
           "timepoint": 37,
           "trajectory": "Variance",
           "value": 2.4111900360311767
          },
          {
           "color_by": "Variance",
           "sample_id": 0,
           "timepoint": 38,
           "trajectory": "Variance",
           "value": 2.6334947517523273
          },
          {
           "color_by": "Variance",
           "sample_id": 0,
           "timepoint": 39,
           "trajectory": "Variance",
           "value": 3.0245850275333708
          },
          {
           "color_by": "Variance",
           "sample_id": 0,
           "timepoint": 40,
           "trajectory": "Variance",
           "value": 3.5021839903982146
          },
          {
           "color_by": "Variance",
           "sample_id": 0,
           "timepoint": 41,
           "trajectory": "Variance",
           "value": 3.964958089870502
          },
          {
           "color_by": "Variance",
           "sample_id": 0,
           "timepoint": 42,
           "trajectory": "Variance",
           "value": 4.3147621403154295
          },
          {
           "color_by": "Variance",
           "sample_id": 0,
           "timepoint": 43,
           "trajectory": "Variance",
           "value": 4.478184334134664
          },
          {
           "color_by": "Variance",
           "sample_id": 0,
           "timepoint": 44,
           "trajectory": "Variance",
           "value": 4.422662261251482
          },
          {
           "color_by": "Variance",
           "sample_id": 0,
           "timepoint": 45,
           "trajectory": "Variance",
           "value": 4.163632595244358
          },
          {
           "color_by": "Variance",
           "sample_id": 0,
           "timepoint": 46,
           "trajectory": "Variance",
           "value": 3.7611451535611873
          },
          {
           "color_by": "Variance",
           "sample_id": 0,
           "timepoint": 47,
           "trajectory": "Variance",
           "value": 3.306684535548954
          },
          {
           "color_by": "Variance",
           "sample_id": 0,
           "timepoint": 48,
           "trajectory": "Variance",
           "value": 2.903091910397219
          },
          {
           "color_by": "Variance",
           "sample_id": 0,
           "timepoint": 49,
           "trajectory": "Variance",
           "value": 2.6419939958240093
          },
          {
           "color_by": "Variance",
           "sample_id": 0,
           "timepoint": 50,
           "trajectory": "Variance",
           "value": 2.583693421870061
          },
          {
           "color_by": "Variance",
           "sample_id": 0,
           "timepoint": 51,
           "trajectory": "Variance",
           "value": 2.7439344160298544
          },
          {
           "color_by": "Variance",
           "sample_id": 0,
           "timepoint": 52,
           "trajectory": "Variance",
           "value": 3.0904486590862703
          },
          {
           "color_by": "Variance",
           "sample_id": 0,
           "timepoint": 53,
           "trajectory": "Variance",
           "value": 3.5500394796671175
          },
          {
           "color_by": "Variance",
           "sample_id": 0,
           "timepoint": 54,
           "trajectory": "Variance",
           "value": 4.024649461576853
          },
          {
           "color_by": "Variance",
           "sample_id": 0,
           "timepoint": 55,
           "trajectory": "Variance",
           "value": 4.412884739680297
          },
          {
           "color_by": "Variance",
           "sample_id": 0,
           "timepoint": 56,
           "trajectory": "Variance",
           "value": 4.6322715537621955
          },
          {
           "color_by": "Variance",
           "sample_id": 0,
           "timepoint": 57,
           "trajectory": "Variance",
           "value": 4.637359903707748
          },
          {
           "color_by": "Variance",
           "sample_id": 0,
           "timepoint": 58,
           "trajectory": "Variance",
           "value": 4.429700681813155
          },
          {
           "color_by": "Variance",
           "sample_id": 0,
           "timepoint": 59,
           "trajectory": "Variance",
           "value": 4.057506373891577
          },
          {
           "color_by": "Variance",
           "sample_id": 0,
           "timepoint": 60,
           "trajectory": "Variance",
           "value": 3.6050698066440647
          },
          {
           "color_by": "Variance",
           "sample_id": 0,
           "timepoint": 61,
           "trajectory": "Variance",
           "value": 3.1742634573066146
          },
          {
           "color_by": "Variance",
           "sample_id": 0,
           "timepoint": 62,
           "trajectory": "Variance",
           "value": 2.8621801037650396
          },
          {
           "color_by": "Variance",
           "sample_id": 0,
           "timepoint": 63,
           "trajectory": "Variance",
           "value": 2.739822542478221
          },
          {
           "color_by": "Variance",
           "sample_id": 0,
           "timepoint": 64,
           "trajectory": "Variance",
           "value": 2.8365198381153602
          },
          {
           "color_by": "Variance",
           "sample_id": 0,
           "timepoint": 65,
           "trajectory": "Variance",
           "value": 3.1334906340417996
          },
          {
           "color_by": "Variance",
           "sample_id": 0,
           "timepoint": 66,
           "trajectory": "Variance",
           "value": 3.567966335269606
          },
          {
           "color_by": "Variance",
           "sample_id": 0,
           "timepoint": 67,
           "trajectory": "Variance",
           "value": 4.046969155493936
          },
          {
           "color_by": "Variance",
           "sample_id": 0,
           "timepoint": 68,
           "trajectory": "Variance",
           "value": 4.467720843009085
          },
          {
           "color_by": "Variance",
           "sample_id": 0,
           "timepoint": 69,
           "trajectory": "Variance",
           "value": 4.740202511466377
          },
          {
           "color_by": "Variance",
           "sample_id": 0,
           "timepoint": 70,
           "trajectory": "Variance",
           "value": 4.8069138484992875
          },
          {
           "color_by": "Variance",
           "sample_id": 0,
           "timepoint": 71,
           "trajectory": "Variance",
           "value": 4.655494692540711
          },
          {
           "color_by": "Variance",
           "sample_id": 0,
           "timepoint": 72,
           "trajectory": "Variance",
           "value": 4.321438629446344
          },
          {
           "color_by": "Variance",
           "sample_id": 0,
           "timepoint": 73,
           "trajectory": "Variance",
           "value": 3.8803029943711547
          },
          {
           "color_by": "Variance",
           "sample_id": 0,
           "timepoint": 74,
           "trajectory": "Variance",
           "value": 3.4311251315101963
          },
          {
           "color_by": "Variance",
           "sample_id": 0,
           "timepoint": 75,
           "trajectory": "Variance",
           "value": 3.074684930525086
          },
          {
           "color_by": "Variance",
           "sample_id": 0,
           "timepoint": 76,
           "trajectory": "Variance",
           "value": 2.8913848654425793
          },
          {
           "color_by": "Variance",
           "sample_id": 0,
           "timepoint": 77,
           "trajectory": "Variance",
           "value": 2.923602717334117
          },
          {
           "color_by": "Variance",
           "sample_id": 0,
           "timepoint": 78,
           "trajectory": "Variance",
           "value": 3.1663904385011468
          },
          {
           "color_by": "Variance",
           "sample_id": 0,
           "timepoint": 79,
           "trajectory": "Variance",
           "value": 3.5685606948166324
          },
          {
           "color_by": "Variance",
           "sample_id": 0,
           "timepoint": 80,
           "trajectory": "Variance",
           "value": 4.043922598462402
          },
          {
           "color_by": "Variance",
           "sample_id": 0,
           "timepoint": 81,
           "trajectory": "Variance",
           "value": 4.490200465328697
          },
          {
           "color_by": "Variance",
           "sample_id": 0,
           "timepoint": 82,
           "trajectory": "Variance",
           "value": 4.811483059894847
          },
          {
           "color_by": "Variance",
           "sample_id": 0,
           "timepoint": 83,
           "trajectory": "Variance",
           "value": 4.939275872494414
          },
          {
           "color_by": "Variance",
           "sample_id": 0,
           "timepoint": 84,
           "trajectory": "Variance",
           "value": 4.847535598669951
          },
          {
           "color_by": "Variance",
           "sample_id": 0,
           "timepoint": 85,
           "trajectory": "Variance",
           "value": 4.558386855793387
          },
          {
           "color_by": "Variance",
           "sample_id": 0,
           "timepoint": 86,
           "trajectory": "Variance",
           "value": 4.137266357324792
          },
          {
           "color_by": "Variance",
           "sample_id": 0,
           "timepoint": 87,
           "trajectory": "Variance",
           "value": 3.678560365833391
          },
          {
           "color_by": "Variance",
           "sample_id": 0,
           "timepoint": 88,
           "trajectory": "Variance",
           "value": 3.284887906206105
          },
          {
           "color_by": "Variance",
           "sample_id": 0,
           "timepoint": 89,
           "trajectory": "Variance",
           "value": 3.0445769326470415
          },
          {
           "color_by": "Variance",
           "sample_id": 0,
           "timepoint": 90,
           "trajectory": "Variance",
           "value": 3.0122772773357425
          },
          {
           "color_by": "Variance",
           "sample_id": 0,
           "timepoint": 91,
           "trajectory": "Variance",
           "value": 3.1969657064525148
          },
          {
           "color_by": "Variance",
           "sample_id": 0,
           "timepoint": 92,
           "trajectory": "Variance",
           "value": 3.5599758922137617
          },
          {
           "color_by": "Variance",
           "sample_id": 0,
           "timepoint": 93,
           "trajectory": "Variance",
           "value": 4.0234857089945635
          },
          {
           "color_by": "Variance",
           "sample_id": 0,
           "timepoint": 94,
           "trajectory": "Variance",
           "value": 4.487598950434126
          },
          {
           "color_by": "Variance",
           "sample_id": 0,
           "timepoint": 95,
           "trajectory": "Variance",
           "value": 4.852272147737688
          },
          {
           "color_by": "Variance",
           "sample_id": 0,
           "timepoint": 96,
           "trajectory": "Variance",
           "value": 5.039273702773996
          },
          {
           "color_by": "Variance",
           "sample_id": 0,
           "timepoint": 97,
           "trajectory": "Variance",
           "value": 5.009355456673391
          },
          {
           "color_by": "Variance",
           "sample_id": 0,
           "timepoint": 98,
           "trajectory": "Variance",
           "value": 4.770867652299664
          },
          {
           "color_by": "Variance",
           "sample_id": 0,
           "timepoint": 99,
           "trajectory": "Variance",
           "value": 4.377926365513289
          }
         ]
        },
        {
         "name": "points",
         "values": []
        },
        {
         "name": "markers",
         "values": []
        },
        {
         "name": "selected",
         "on": [
          {
           "remove": true,
           "trigger": "clear"
          },
          {
           "remove": true,
           "trigger": "!shift"
          },
          {
           "insert": "clicked",
           "trigger": "!shift && clicked"
          },
          {
           "toggle": "clicked",
           "trigger": "shift && clicked"
          }
         ]
        },
        {
         "name": "selectedData",
         "on": [
          {
           "remove": true,
           "trigger": "clearData"
          },
          {
           "toggle": "clickedData",
           "trigger": "clickedData"
          }
         ]
        }
       ],
       "height": 300,
       "legends": [
        {
         "encode": {
          "labels": {
           "interactive": true,
           "name": "legendLabel",
           "size": {
            "value": 25
           },
           "update": {
            "opacity": [
             {
              "test": "!length(data('selectedData')) || indata('selectedData', 'value', datum.value)",
              "value": 1
             },
             {
              "value": 0.25
             }
            ]
           }
          },
          "symbols": {
           "interactive": true,
           "name": "legendSymbol",
           "update": {
            "fill": {
             "value": "transparent"
            },
            "opacity": [
             {
              "test": "!length(data('selected')) || indata('selected', 'value', datum.value) || indata('selectedData', 'value', datum.value)",
              "value": 0.7
             },
             {
              "value": 0.15
             }
            ],
            "size": {
             "value": 64
            },
            "strokeWidth": {
             "value": 2
            }
           }
          }
         },
         "name": "color_legend",
         "orient": "left",
         "stroke": "color"
        }
       ],
       "marks": [
        {
         "from": {
          "facet": {
           "data": "points",
           "groupby": "trajectory",
           "name": "points_split"
          }
         },
         "marks": [
          {
           "encode": {
            "hover": {
             "fillOpacity": {
              "value": 0.9
             }
            },
            "update": {
             "fill": {
              "field": "trajectory",
              "scale": "color"
             },
             "fillOpacity": [
              {
               "test": "!length(data('selected')) || indata('selected', 'value', datum.trajectory)",
               "value": 0.5
              },
              {
               "value": 0.15
              }
             ],
             "size": {
              "value": 35
             },
             "stroke": {
              "field": "trajectory",
              "scale": "color"
             },
             "strokeOpacity": [
              {
               "test": "!length(data('selected')) || indata('selected', 'value', datum.trajectory)",
               "value": 0.75
              },
              {
               "value": 0.15
              }
             ],
             "strokeWidth": {
              "value": 2
             },
             "tooltip": {
              "field": "value"
             },
             "x": {
              "field": "timepoint",
              "scale": "xscale"
             },
             "y": {
              "field": "value",
              "scale": "yscale"
             }
            }
           },
           "from": {
            "data": "points_split"
           },
           "name": "_points_symbol",
           "type": "symbol",
           "zindex": 3
          },
          {
           "encode": {
            "hover": {
             "fillOpacity": {
              "value": 0.9
             }
            },
            "update": {
             "interpolate": {
              "value": "linear"
             },
             "stroke": {
              "field": "trajectory",
              "scale": "color"
             },
             "strokeDash": {
              "value": [
               5,
               3
              ]
             },
             "strokeOpacity": [
              {
               "test": "!length(data('selected')) || indata('selected', 'value', datum.trajectory)",
               "value": 0.3
              },
              {
               "value": 0.1
              }
             ],
             "strokeWidth": {
              "value": 2
             },
             "x": {
              "field": "timepoint",
              "scale": "xscale"
             },
             "y": {
              "field": "value",
              "scale": "yscale"
             }
            }
           },
           "from": {
            "data": "points_split"
           },
           "name": "_points_line",
           "type": "line",
           "zindex": 3
          }
         ],
         "name": "_points",
         "type": "group",
         "zindex": 3
        },
        {
         "from": {
          "facet": {
           "data": "traces",
           "groupby": "trajectory",
           "name": "traces_split"
          }
         },
         "marks": [
          {
           "encode": {
            "hover": {
             "fillOpacity": {
              "value": 0.9
             }
            },
            "update": {
             "interpolate": {
              "value": "linear"
             },
             "stroke": {
              "field": "trajectory",
              "scale": "color"
             },
             "strokeDash": [
              {
               "test": "indexof(datum.trajectory, 'Baseline') != -1 || indexof(datum.trajectory, 'Envelope') != -1",
               "value": [
                8,
                4
               ]
              },
              {
               "value": [
                1,
                0
               ]
              }
             ],
             "strokeOpacity": [
              {
               "test": "!length(data('selected')) || indata('selected', 'value', datum.trajectory)",
               "value": 0.75
              },
              {
               "value": 0.15
              }
             ],
             "strokeWidth": {
              "value": 2
             },
             "x": {
              "field": "timepoint",
              "scale": "xscale"
             },
             "y": {
              "field": "value",
              "scale": "yscale"
             }
            }
           },
           "from": {
            "data": "traces_split"
           },
           "name": "_traces_lines",
           "type": "line"
          }
         ],
         "name": "_traces",
         "type": "group",
         "zindex": 2
        },
        {
         "from": {
          "facet": {
           "data": "distributions",
           "groupby": "trajectory",
           "name": "trajectory_split"
          }
         },
         "marks": [
          {
           "encode": {
            "hover": {
             "fillOpacity": {
              "value": 0.9
             }
            },
            "update": {
             "fill": {
              "field": "trajectory",
              "scale": "color"
             },
             "fillOpacity": [
              {
               "test": "!length(data('selected')) || indata('selected', 'value', datum.trajectory)",
               "value": 0.1
              },
              {
               "value": 0.05
              }
             ],
             "interpolate": {
              "value": "linear"
             },
             "stroke": {
              "field": "trajectory",
              "scale": "color"
             },
             "strokeOpacity": [
              {
               "test": "!length(data('selected')) || indata('selected', 'value', datum.trajectory)",
               "value": 0.1
              },
              {
               "value": 0.05
              }
             ],
             "strokeWidth": {
              "value": 2
             },
             "x": {
              "field": "timepoint",
              "scale": "xscale"
             },
             "y": {
              "field": "upper",
              "scale": "yscale"
             },
             "y2": {
              "field": "lower",
              "scale": "yscale"
             }
            }
           },
           "from": {
            "data": "trajectory_split"
           },
           "interactive": true,
           "name": "area",
           "type": "area"
          }
         ],
         "name": "_distributions",
         "type": "group",
         "zindex": 1
        },
        {
         "marks": [
          {
           "encode": {
            "enter": {
             "stroke": {
              "value": "lightgray"
             }
            },
            "update": {
             "opacity": {
              "value": 1
             },
             "x": {
              "field": "timepoint",
              "scale": "xscale"
             },
             "y": {
              "signal": "height"
             },
             "y2": {
              "value": 0
             }
            }
           },
           "from": {
            "data": "markers"
           },
           "name": "_marker text",
           "type": "rule"
          },
          {
           "encode": {
            "enter": {
             "fontSize": {
              "value": 8
             },
             "text": {
              "field": "datum.label"
             },
             "y": {
              "value": 0
             }
            }
           },
           "from": {
            "data": "_marker text"
           },
           "name": "_marker flags",
           "transform": [
            {
             "as": [
              "x",
              "_y",
              "opacity",
              "align",
              "baseline"
             ],
             "lineAnchor": "start",
             "offset": [
              1
             ],
             "size": {
              "signal": "[width, height]"
             },
             "type": "label"
            }
           ],
           "type": "text"
          }
         ],
         "name": "_markers",
         "type": "group"
        }
       ],
       "scales": [
        {
         "domain": {
          "fields": [
           {
            "data": "distributions",
            "field": "timepoint"
           },
           {
            "data": "traces",
            "field": "timepoint"
           },
           {
            "data": "points",
            "field": "timepoint"
           },
           {
            "data": "markers",
            "field": "timepoint"
           }
          ]
         },
         "name": "xscale",
         "range": "width",
         "type": "linear",
         "zero": false
        },
        {
         "domain": {
          "fields": [
           {
            "data": "distributions",
            "field": "lower"
           },
           {
            "data": "distributions",
            "field": "upper"
           },
           {
            "data": "traces",
            "field": "value"
           },
           {
            "data": "points",
            "field": "value"
           }
          ]
         },
         "name": "yscale",
         "nice": true,
         "range": "height",
         "type": "linear",
         "zero": true
        },
        {
         "domain": {
          "fields": [
           {
            "data": "distributions",
            "field": "trajectory"
           },
           {
            "data": "traces",
            "field": "trajectory"
           },
           {
            "data": "points",
            "field": "trajectory"
           }
          ],
          "sort": {
           "order": "ascending"
          }
         },
         "name": "color",
         "range": "category",
         "type": "ordinal"
        }
       ],
       "signals": [
        {
         "name": "clear",
         "on": [
          {
           "events": "mouseup[!event.item]",
           "force": true,
           "update": "true"
          }
         ],
         "value": true
        },
        {
         "name": "shift",
         "on": [
          {
           "events": "@legendSymbol:click, @legendLabel:click",
           "force": true,
           "update": "event.shiftKey"
          }
         ],
         "value": false
        },
        {
         "name": "clicked",
         "on": [
          {
           "events": "@legendSymbol:click, @legendLabel:click",
           "force": true,
           "update": "{value: datum.value}"
          }
         ],
         "value": null
        },
        {
         "name": "clearData",
         "on": [
          {
           "events": "mouseup[!event.item]",
           "force": true,
           "update": "true"
          }
         ],
         "value": true
        },
        {
         "name": "clickedData",
         "on": [
          {
           "events": "@area:click",
           "force": true,
           "update": "{value: datum.trajectory}"
          }
         ],
         "value": null
        }
       ],
       "width": 500
      }
     },
     "metadata": {},
     "output_type": "display_data"
    },
    {
     "name": "stderr",
     "output_type": "stream",
     "text": [
      "/var/folders/vn/q5vrjvfn60bfsnnd058cb6ww0000gn/T/ipykernel_795/305227323.py:106: FutureWarning: The provided callable <function mean at 0x10d51e170> is currently using DataFrameGroupBy.mean. In a future version of pandas, the provided callable will be used directly. To keep current behavior pass the string \"mean\" instead.\n",
      "  parameters_by_sample_id = all_parameters_cluster.groupby(\"sample_id\").agg(np.mean)\n",
      "/var/folders/vn/q5vrjvfn60bfsnnd058cb6ww0000gn/T/ipykernel_795/305227323.py:107: FutureWarning: The provided callable <function mean at 0x10d51e170> is currently using Series.mean. In a future version of pandas, the provided callable will be used directly. To keep current behavior pass the string \"mean\" instead.\n",
      "  parameters_by_sample_id  = parameters_by_sample_id.agg([np.mean, np.std]).reset_index()\n",
      "/var/folders/vn/q5vrjvfn60bfsnnd058cb6ww0000gn/T/ipykernel_795/305227323.py:107: FutureWarning: The provided callable <function std at 0x10d51e290> is currently using Series.std. In a future version of pandas, the provided callable will be used directly. To keep current behavior pass the string \"std\" instead.\n",
      "  parameters_by_sample_id  = parameters_by_sample_id.agg([np.mean, np.std]).reset_index()\n"
     ]
    },
    {
     "name": "stdout",
     "output_type": "stream",
     "text": [
      "\n"
     ]
    },
    {
     "data": {
      "application/vnd.vega.v5+json": {
       "$schema": "https://vega.github.io/schema/vega/v5.json",
       "axes": [
        {
         "name": "x_axis",
         "orient": "bottom",
         "scale": "xscale",
         "zindex": 100
        },
        {
         "name": "y_axis",
         "orient": "left",
         "scale": "yscale",
         "zindex": 100
        }
       ],
       "background": "white",
       "data": [
        {
         "name": "distributions",
         "transform": [
          {
           "sort": {
            "field": [
             "trajectory",
             "timepoint"
            ]
           },
           "type": "collect"
          }
         ],
         "values": [
          {
           "lower": 0.077124150597876,
           "timepoint": 0,
           "trajectory": "Example",
           "upper": 1.8298185736573485
          },
          {
           "lower": 1.1522823316608117,
           "timepoint": 1,
           "trajectory": "Example",
           "upper": 2.917614457765981
          },
          {
           "lower": 1.4160369207517092,
           "timepoint": 2,
           "trajectory": "Example",
           "upper": 3.173706942331565
          },
          {
           "lower": 1.592615401831548,
           "timepoint": 3,
           "trajectory": "Example",
           "upper": 3.36670957664258
          },
          {
           "lower": 1.7215129555723085,
           "timepoint": 4,
           "trajectory": "Example",
           "upper": 3.5298666454587027
          },
          {
           "lower": 1.8331979181066016,
           "timepoint": 5,
           "trajectory": "Example",
           "upper": 3.674540012488907
          },
          {
           "lower": 1.9332239550968868,
           "timepoint": 6,
           "trajectory": "Example",
           "upper": 3.805983257329345
          },
          {
           "lower": 2.0246959686279355,
           "timepoint": 7,
           "trajectory": "Example",
           "upper": 3.927012798634758
          },
          {
           "lower": 2.1095320129128985,
           "timepoint": 8,
           "trajectory": "Example",
           "upper": 4.039271940448359
          },
          {
           "lower": 2.189000214152356,
           "timepoint": 9,
           "trajectory": "Example",
           "upper": 4.143769821433821
          },
          {
           "lower": 2.270618760582516,
           "timepoint": 10,
           "trajectory": "Example",
           "upper": 4.24114561069605
          },
          {
           "lower": 2.3536063383638988,
           "timepoint": 11,
           "trajectory": "Example",
           "upper": 4.331811627682164
          },
          {
           "lower": 2.432792708508981,
           "timepoint": 12,
           "trajectory": "Example",
           "upper": 4.41603698045517
          },
          {
           "lower": 2.5084993525034553,
           "timepoint": 13,
           "trajectory": "Example",
           "upper": 4.493999453039346
          },
          {
           "lower": 2.5809672037933407,
           "timepoint": 14,
           "trajectory": "Example",
           "upper": 4.565819283394701
          },
          {
           "lower": 2.6503784397108907,
           "timepoint": 15,
           "trajectory": "Example",
           "upper": 4.631582029787418
          },
          {
           "lower": 2.7151050960277616,
           "timepoint": 16,
           "trajectory": "Example",
           "upper": 4.6913545459292845
          },
          {
           "lower": 2.776762645804216,
           "timepoint": 17,
           "trajectory": "Example",
           "upper": 4.7451964193397185
          },
          {
           "lower": 2.8361097565347246,
           "timepoint": 18,
           "trajectory": "Example",
           "upper": 4.793168308195918
          },
          {
           "lower": 2.893224413299751,
           "timepoint": 19,
           "trajectory": "Example",
           "upper": 4.8353380824454435
          },
          {
           "lower": 2.948168464754988,
           "timepoint": 20,
           "trajectory": "Example",
           "upper": 4.831612775964534
          },
          {
           "lower": 2.968113922437987,
           "timepoint": 21,
           "trajectory": "Example",
           "upper": 4.812217853298543
          },
          {
           "lower": 2.9740238491372954,
           "timepoint": 22,
           "trajectory": "Example",
           "upper": 4.783858220211563
          },
          {
           "lower": 2.974243724801073,
           "timepoint": 23,
           "trajectory": "Example",
           "upper": 4.789176478245074
          },
          {
           "lower": 2.9210546143155995,
           "timepoint": 24,
           "trajectory": "Example",
           "upper": 4.803545491011938
          },
          {
           "lower": 2.888101782585606,
           "timepoint": 25,
           "trajectory": "Example",
           "upper": 4.812797861116647
          },
          {
           "lower": 2.8568124463167734,
           "timepoint": 26,
           "trajectory": "Example",
           "upper": 4.81712620653774
          },
          {
           "lower": 2.769093076440191,
           "timepoint": 27,
           "trajectory": "Example",
           "upper": 4.816743748735242
          },
          {
           "lower": 2.6790897470777724,
           "timepoint": 28,
           "trajectory": "Example",
           "upper": 4.811883681753692
          },
          {
           "lower": 2.588208966999309,
           "timepoint": 29,
           "trajectory": "Example",
           "upper": 4.802798255085781
          },
          {
           "lower": 2.497857898297273,
           "timepoint": 30,
           "trajectory": "Example",
           "upper": 4.789757605033107
          },
          {
           "lower": 2.409427781242985,
           "timepoint": 31,
           "trajectory": "Example",
           "upper": 4.773048365224673
          },
          {
           "lower": 2.3242774558485335,
           "timepoint": 32,
           "trajectory": "Example",
           "upper": 4.752972084069505
          },
          {
           "lower": 2.2437171995580596,
           "timepoint": 33,
           "trajectory": "Example",
           "upper": 4.729843474871718
          },
          {
           "lower": 2.1689930936558133,
           "timepoint": 34,
           "trajectory": "Example",
           "upper": 4.711326887428659
          },
          {
           "lower": 2.101272122139775,
           "timepoint": 35,
           "trajectory": "Example",
           "upper": 4.729028353653664
          },
          {
           "lower": 2.0416281959284595,
           "timepoint": 36,
           "trajectory": "Example",
           "upper": 4.745142462022356
          },
          {
           "lower": 1.9910292823690052,
           "timepoint": 37,
           "trajectory": "Example",
           "upper": 4.761608697684536
          },
          {
           "lower": 1.9503258051739878,
           "timepoint": 38,
           "trajectory": "Example",
           "upper": 4.778549180524781
          },
          {
           "lower": 1.920240463254026,
           "timepoint": 39,
           "trajectory": "Example",
           "upper": 4.793846123486322
          },
          {
           "lower": 1.9013595985919611,
           "timepoint": 40,
           "trajectory": "Example",
           "upper": 4.807530595870542
          },
          {
           "lower": 1.8941262235127354,
           "timepoint": 41,
           "trajectory": "Example",
           "upper": 4.819635565554766
          },
          {
           "lower": 1.898834796657751,
           "timepoint": 42,
           "trajectory": "Example",
           "upper": 4.830195933311091
          },
          {
           "lower": 1.9156278149120234,
           "timepoint": 43,
           "trajectory": "Example",
           "upper": 4.839248550430632
          },
          {
           "lower": 1.9358220845764533,
           "timepoint": 44,
           "trajectory": "Example",
           "upper": 4.846832221121853
          },
          {
           "lower": 1.9329933910516095,
           "timepoint": 45,
           "trajectory": "Example",
           "upper": 4.852987690967463
          },
          {
           "lower": 1.899421590709336,
           "timepoint": 46,
           "trajectory": "Example",
           "upper": 4.8577576225738905
          },
          {
           "lower": 1.8728967194334893,
           "timepoint": 47,
           "trajectory": "Example",
           "upper": 4.861186559424272
          },
          {
           "lower": 1.8537640337188532,
           "timepoint": 48,
           "trajectory": "Example",
           "upper": 4.863320878844988
          },
          {
           "lower": 1.8423045657290893,
           "timepoint": 49,
           "trajectory": "Example",
           "upper": 4.864208734912783
          },
          {
           "lower": 1.839765976703441,
           "timepoint": 50,
           "trajectory": "Example",
           "upper": 4.863899992061385
          },
          {
           "lower": 1.879120936818986,
           "timepoint": 51,
           "trajectory": "Example",
           "upper": 4.862446150090266
          },
          {
           "lower": 1.927100724635663,
           "timepoint": 52,
           "trajectory": "Example",
           "upper": 4.859900261231854
          },
          {
           "lower": 1.9833423956870262,
           "timepoint": 53,
           "trajectory": "Example",
           "upper": 4.856316839895165
          },
          {
           "lower": 2.024890697920717,
           "timepoint": 54,
           "trajectory": "Example",
           "upper": 4.85175176567213
          },
          {
           "lower": 2.0423562067444996,
           "timepoint": 55,
           "trajectory": "Example",
           "upper": 4.86460652917353
          },
          {
           "lower": 2.066821126925986,
           "timepoint": 56,
           "trajectory": "Example",
           "upper": 4.884417108087492
          },
          {
           "lower": 2.0981679271788445,
           "timepoint": 57,
           "trajectory": "Example",
           "upper": 4.903853511871821
          },
          {
           "lower": 2.136224521942303,
           "timepoint": 58,
           "trajectory": "Example",
           "upper": 4.936375587574128
          },
          {
           "lower": 2.1621133188725725,
           "timepoint": 59,
           "trajectory": "Example",
           "upper": 5.005775095842518
          },
          {
           "lower": 2.1739554596596653,
           "timepoint": 60,
           "trajectory": "Example",
           "upper": 4.99945977776538
          },
          {
           "lower": 2.209521662391814,
           "timepoint": 61,
           "trajectory": "Example",
           "upper": 4.990420871417964
          },
          {
           "lower": 2.250714203440012,
           "timepoint": 62,
           "trajectory": "Example",
           "upper": 4.995525933739724
          },
          {
           "lower": 2.297292347389999,
           "timepoint": 63,
           "trajectory": "Example",
           "upper": 5.0127773815099825
          },
          {
           "lower": 2.351974120649837,
           "timepoint": 64,
           "trajectory": "Example",
           "upper": 5.029673649019422
          },
          {
           "lower": 2.3694534362965594,
           "timepoint": 65,
           "trajectory": "Example",
           "upper": 5.046217079667027
          },
          {
           "lower": 2.3807452353870504,
           "timepoint": 66,
           "trajectory": "Example",
           "upper": 5.062409957364924
          },
          {
           "lower": 2.395656956103865,
           "timepoint": 67,
           "trajectory": "Example",
           "upper": 5.078254515590146
          },
          {
           "lower": 2.44522094146214,
           "timepoint": 68,
           "trajectory": "Example",
           "upper": 5.093752945789552
          },
          {
           "lower": 2.5032207383188774,
           "timepoint": 69,
           "trajectory": "Example",
           "upper": 5.108907405188727
          },
          {
           "lower": 2.565682272273223,
           "timepoint": 70,
           "trajectory": "Example",
           "upper": 5.123720024050776
          },
          {
           "lower": 2.632282360002666,
           "timepoint": 71,
           "trajectory": "Example",
           "upper": 5.138192912426481
          },
          {
           "lower": 2.7026717993373257,
           "timepoint": 72,
           "trajectory": "Example",
           "upper": 5.152328166433397
          },
          {
           "lower": 2.7182215698831462,
           "timepoint": 73,
           "trajectory": "Example",
           "upper": 5.166127874097974
          },
          {
           "lower": 2.7341118334736425,
           "timepoint": 74,
           "trajectory": "Example",
           "upper": 5.179594120791645
          },
          {
           "lower": 2.7520387205134353,
           "timepoint": 75,
           "trajectory": "Example",
           "upper": 5.192728994289011
          },
          {
           "lower": 2.730165414292256,
           "timepoint": 76,
           "trajectory": "Example",
           "upper": 5.205534589473791
          },
          {
           "lower": 2.6971869494832132,
           "timepoint": 77,
           "trajectory": "Example",
           "upper": 5.218013012715896
          },
          {
           "lower": 2.6647836307913244,
           "timepoint": 78,
           "trajectory": "Example",
           "upper": 5.23016638594101
          },
          {
           "lower": 2.633042885611252,
           "timepoint": 79,
           "trajectory": "Example",
           "upper": 5.241996850412194
          },
          {
           "lower": 2.602050499210957,
           "timepoint": 80,
           "trajectory": "Example",
           "upper": 5.274637929955914
          },
          {
           "lower": 2.571890447158488,
           "timepoint": 81,
           "trajectory": "Example",
           "upper": 5.279602346241099
          },
          {
           "lower": 2.5426447311803226,
           "timepoint": 82,
           "trajectory": "Example",
           "upper": 5.275572565975105
          },
          {
           "lower": 2.5143932188078395,
           "timepoint": 83,
           "trajectory": "Example",
           "upper": 5.286133312489822
          },
          {
           "lower": 2.4872134871590763,
           "timepoint": 84,
           "trajectory": "Example",
           "upper": 5.296382260960214
          },
          {
           "lower": 2.4611806711929143,
           "timepoint": 85,
           "trajectory": "Example",
           "upper": 5.306321734040441
          },
          {
           "lower": 2.4363673167622926,
           "timepoint": 86,
           "trajectory": "Example",
           "upper": 5.3159540934632155
          },
          {
           "lower": 2.4128432387818854,
           "timepoint": 87,
           "trajectory": "Example",
           "upper": 5.3252817420535
          },
          {
           "lower": 2.3906753848139792,
           "timepoint": 88,
           "trajectory": "Example",
           "upper": 5.334307125572193
          },
          {
           "lower": 2.3871290077256315,
           "timepoint": 89,
           "trajectory": "Example",
           "upper": 5.343032734398407
          },
          {
           "lower": 2.3942451989754585,
           "timepoint": 90,
           "trajectory": "Example",
           "upper": 5.3514611050583305
          },
          {
           "lower": 2.403420213087476,
           "timepoint": 91,
           "trajectory": "Example",
           "upper": 5.359594821608116
          },
          {
           "lower": 2.4146304219460752,
           "timepoint": 92,
           "trajectory": "Example",
           "upper": 5.367436516877694
          },
          {
           "lower": 2.427846037399587,
           "timepoint": 93,
           "trajectory": "Example",
           "upper": 5.374988873581959
          },
          {
           "lower": 2.4332815986971355,
           "timepoint": 94,
           "trajectory": "Example",
           "upper": 5.3822546253053485
          },
          {
           "lower": 2.4039643638830626,
           "timepoint": 95,
           "trajectory": "Example",
           "upper": 5.389236557365416
          },
          {
           "lower": 2.383368304766108,
           "timepoint": 96,
           "trajectory": "Example",
           "upper": 5.395937507560674
          },
          {
           "lower": 2.3725771672805425,
           "timepoint": 97,
           "trajectory": "Example",
           "upper": 5.4023603668076206
          },
          {
           "lower": 2.368859740513555,
           "timepoint": 98,
           "trajectory": "Example",
           "upper": 5.408508079671573
          },
          {
           "lower": 2.3528336338932645,
           "timepoint": 99,
           "trajectory": "Example",
           "upper": 5.414383644795677
          }
         ]
        },
        {
         "name": "traces",
         "transform": [
          {
           "expr": "isValid(datum.value)",
           "type": "filter"
          },
          {
           "sort": {
            "field": [
             "trajectory",
             "timepoint"
            ]
           },
           "type": "collect"
          }
         ],
         "values": [
          {
           "color_by": "Envelope Mean",
           "sample_id": 0,
           "timepoint": 0,
           "trajectory": "Envelope_Mean",
           "value": 0.9534713621276122
          },
          {
           "color_by": "Envelope Mean",
           "sample_id": 0,
           "timepoint": 1,
           "trajectory": "Envelope_Mean",
           "value": 2.034948394713396
          },
          {
           "color_by": "Envelope Mean",
           "sample_id": 0,
           "timepoint": 2,
           "trajectory": "Envelope_Mean",
           "value": 2.2948719315416373
          },
          {
           "color_by": "Envelope Mean",
           "sample_id": 0,
           "timepoint": 3,
           "trajectory": "Envelope_Mean",
           "value": 2.479662489237064
          },
          {
           "color_by": "Envelope Mean",
           "sample_id": 0,
           "timepoint": 4,
           "trajectory": "Envelope_Mean",
           "value": 2.625689800515506
          },
          {
           "color_by": "Envelope Mean",
           "sample_id": 0,
           "timepoint": 5,
           "trajectory": "Envelope_Mean",
           "value": 2.7538689652977544
          },
          {
           "color_by": "Envelope Mean",
           "sample_id": 0,
           "timepoint": 6,
           "trajectory": "Envelope_Mean",
           "value": 2.869603606213116
          },
          {
           "color_by": "Envelope Mean",
           "sample_id": 0,
           "timepoint": 7,
           "trajectory": "Envelope_Mean",
           "value": 2.9758543836313467
          },
          {
           "color_by": "Envelope Mean",
           "sample_id": 0,
           "timepoint": 8,
           "trajectory": "Envelope_Mean",
           "value": 3.0744019766806288
          },
          {
           "color_by": "Envelope Mean",
           "sample_id": 0,
           "timepoint": 9,
           "trajectory": "Envelope_Mean",
           "value": 3.166385017793089
          },
          {
           "color_by": "Envelope Mean",
           "sample_id": 0,
           "timepoint": 10,
           "trajectory": "Envelope_Mean",
           "value": 3.2558821856392828
          },
          {
           "color_by": "Envelope Mean",
           "sample_id": 0,
           "timepoint": 11,
           "trajectory": "Envelope_Mean",
           "value": 3.3427089830230314
          },
          {
           "color_by": "Envelope Mean",
           "sample_id": 0,
           "timepoint": 12,
           "trajectory": "Envelope_Mean",
           "value": 3.424414844482075
          },
          {
           "color_by": "Envelope Mean",
           "sample_id": 0,
           "timepoint": 13,
           "trajectory": "Envelope_Mean",
           "value": 3.5012494027714007
          },
          {
           "color_by": "Envelope Mean",
           "sample_id": 0,
           "timepoint": 14,
           "trajectory": "Envelope_Mean",
           "value": 3.5733932435940208
          },
          {
           "color_by": "Envelope Mean",
           "sample_id": 0,
           "timepoint": 15,
           "trajectory": "Envelope_Mean",
           "value": 3.640980234749154
          },
          {
           "color_by": "Envelope Mean",
           "sample_id": 0,
           "timepoint": 16,
           "trajectory": "Envelope_Mean",
           "value": 3.703229820978523
          },
          {
           "color_by": "Envelope Mean",
           "sample_id": 0,
           "timepoint": 17,
           "trajectory": "Envelope_Mean",
           "value": 3.7609795325719673
          },
          {
           "color_by": "Envelope Mean",
           "sample_id": 0,
           "timepoint": 18,
           "trajectory": "Envelope_Mean",
           "value": 3.8146390323653216
          },
          {
           "color_by": "Envelope Mean",
           "sample_id": 0,
           "timepoint": 19,
           "trajectory": "Envelope_Mean",
           "value": 3.864281247872597
          },
          {
           "color_by": "Envelope Mean",
           "sample_id": 0,
           "timepoint": 20,
           "trajectory": "Envelope_Mean",
           "value": 3.889890620359761
          },
          {
           "color_by": "Envelope Mean",
           "sample_id": 0,
           "timepoint": 21,
           "trajectory": "Envelope_Mean",
           "value": 3.8901658878682652
          },
          {
           "color_by": "Envelope Mean",
           "sample_id": 0,
           "timepoint": 22,
           "trajectory": "Envelope_Mean",
           "value": 3.8789410346744293
          },
          {
           "color_by": "Envelope Mean",
           "sample_id": 0,
           "timepoint": 23,
           "trajectory": "Envelope_Mean",
           "value": 3.8817101015230735
          },
          {
           "color_by": "Envelope Mean",
           "sample_id": 0,
           "timepoint": 24,
           "trajectory": "Envelope_Mean",
           "value": 3.8623000526637687
          },
          {
           "color_by": "Envelope Mean",
           "sample_id": 0,
           "timepoint": 25,
           "trajectory": "Envelope_Mean",
           "value": 3.8504498218511265
          },
          {
           "color_by": "Envelope Mean",
           "sample_id": 0,
           "timepoint": 26,
           "trajectory": "Envelope_Mean",
           "value": 3.8369693264272566
          },
          {
           "color_by": "Envelope Mean",
           "sample_id": 0,
           "timepoint": 27,
           "trajectory": "Envelope_Mean",
           "value": 3.7929184125877162
          },
          {
           "color_by": "Envelope Mean",
           "sample_id": 0,
           "timepoint": 28,
           "trajectory": "Envelope_Mean",
           "value": 3.745486714415732
          },
          {
           "color_by": "Envelope Mean",
           "sample_id": 0,
           "timepoint": 29,
           "trajectory": "Envelope_Mean",
           "value": 3.695503611042545
          },
          {
           "color_by": "Envelope Mean",
           "sample_id": 0,
           "timepoint": 30,
           "trajectory": "Envelope_Mean",
           "value": 3.64380775166519
          },
          {
           "color_by": "Envelope Mean",
           "sample_id": 0,
           "timepoint": 31,
           "trajectory": "Envelope_Mean",
           "value": 3.591238073233829
          },
          {
           "color_by": "Envelope Mean",
           "sample_id": 0,
           "timepoint": 32,
           "trajectory": "Envelope_Mean",
           "value": 3.538624769959019
          },
          {
           "color_by": "Envelope Mean",
           "sample_id": 0,
           "timepoint": 33,
           "trajectory": "Envelope_Mean",
           "value": 3.4867803372148884
          },
          {
           "color_by": "Envelope Mean",
           "sample_id": 0,
           "timepoint": 34,
           "trajectory": "Envelope_Mean",
           "value": 3.440159990542236
          },
          {
           "color_by": "Envelope Mean",
           "sample_id": 0,
           "timepoint": 35,
           "trajectory": "Envelope_Mean",
           "value": 3.41515023789672
          },
          {
           "color_by": "Envelope Mean",
           "sample_id": 0,
           "timepoint": 36,
           "trajectory": "Envelope_Mean",
           "value": 3.3933853289754077
          },
          {
           "color_by": "Envelope Mean",
           "sample_id": 0,
           "timepoint": 37,
           "trajectory": "Envelope_Mean",
           "value": 3.3763189900267703
          },
          {
           "color_by": "Envelope Mean",
           "sample_id": 0,
           "timepoint": 38,
           "trajectory": "Envelope_Mean",
           "value": 3.364437492849384
          },
          {
           "color_by": "Envelope Mean",
           "sample_id": 0,
           "timepoint": 39,
           "trajectory": "Envelope_Mean",
           "value": 3.357043293370174
          },
          {
           "color_by": "Envelope Mean",
           "sample_id": 0,
           "timepoint": 40,
           "trajectory": "Envelope_Mean",
           "value": 3.3544450972312516
          },
          {
           "color_by": "Envelope Mean",
           "sample_id": 0,
           "timepoint": 41,
           "trajectory": "Envelope_Mean",
           "value": 3.3568808945337505
          },
          {
           "color_by": "Envelope Mean",
           "sample_id": 0,
           "timepoint": 42,
           "trajectory": "Envelope_Mean",
           "value": 3.3645153649844213
          },
          {
           "color_by": "Envelope Mean",
           "sample_id": 0,
           "timepoint": 43,
           "trajectory": "Envelope_Mean",
           "value": 3.3774381826713276
          },
          {
           "color_by": "Envelope Mean",
           "sample_id": 0,
           "timepoint": 44,
           "trajectory": "Envelope_Mean",
           "value": 3.3913271528491533
          },
          {
           "color_by": "Envelope Mean",
           "sample_id": 0,
           "timepoint": 45,
           "trajectory": "Envelope_Mean",
           "value": 3.3929905410095365
          },
          {
           "color_by": "Envelope Mean",
           "sample_id": 0,
           "timepoint": 46,
           "trajectory": "Envelope_Mean",
           "value": 3.3785896066416132
          },
          {
           "color_by": "Envelope Mean",
           "sample_id": 0,
           "timepoint": 47,
           "trajectory": "Envelope_Mean",
           "value": 3.367041639428881
          },
          {
           "color_by": "Envelope Mean",
           "sample_id": 0,
           "timepoint": 48,
           "trajectory": "Envelope_Mean",
           "value": 3.3585424562819206
          },
          {
           "color_by": "Envelope Mean",
           "sample_id": 0,
           "timepoint": 49,
           "trajectory": "Envelope_Mean",
           "value": 3.353256650320936
          },
          {
           "color_by": "Envelope Mean",
           "sample_id": 0,
           "timepoint": 50,
           "trajectory": "Envelope_Mean",
           "value": 3.351832984382413
          },
          {
           "color_by": "Envelope Mean",
           "sample_id": 0,
           "timepoint": 51,
           "trajectory": "Envelope_Mean",
           "value": 3.370783543454626
          },
          {
           "color_by": "Envelope Mean",
           "sample_id": 0,
           "timepoint": 52,
           "trajectory": "Envelope_Mean",
           "value": 3.393500492933758
          },
          {
           "color_by": "Envelope Mean",
           "sample_id": 0,
           "timepoint": 53,
           "trajectory": "Envelope_Mean",
           "value": 3.4198296177910956
          },
          {
           "color_by": "Envelope Mean",
           "sample_id": 0,
           "timepoint": 54,
           "trajectory": "Envelope_Mean",
           "value": 3.4383212317964236
          },
          {
           "color_by": "Envelope Mean",
           "sample_id": 0,
           "timepoint": 55,
           "trajectory": "Envelope_Mean",
           "value": 3.453481367959015
          },
          {
           "color_by": "Envelope Mean",
           "sample_id": 0,
           "timepoint": 56,
           "trajectory": "Envelope_Mean",
           "value": 3.475619117506739
          },
          {
           "color_by": "Envelope Mean",
           "sample_id": 0,
           "timepoint": 57,
           "trajectory": "Envelope_Mean",
           "value": 3.5010107195253326
          },
          {
           "color_by": "Envelope Mean",
           "sample_id": 0,
           "timepoint": 58,
           "trajectory": "Envelope_Mean",
           "value": 3.5363000547582155
          },
          {
           "color_by": "Envelope Mean",
           "sample_id": 0,
           "timepoint": 59,
           "trajectory": "Envelope_Mean",
           "value": 3.583944207357545
          },
          {
           "color_by": "Envelope Mean",
           "sample_id": 0,
           "timepoint": 60,
           "trajectory": "Envelope_Mean",
           "value": 3.5867076187125226
          },
          {
           "color_by": "Envelope Mean",
           "sample_id": 0,
           "timepoint": 61,
           "trajectory": "Envelope_Mean",
           "value": 3.599971266904889
          },
          {
           "color_by": "Envelope Mean",
           "sample_id": 0,
           "timepoint": 62,
           "trajectory": "Envelope_Mean",
           "value": 3.623120068589868
          },
          {
           "color_by": "Envelope Mean",
           "sample_id": 0,
           "timepoint": 63,
           "trajectory": "Envelope_Mean",
           "value": 3.655034864449991
          },
          {
           "color_by": "Envelope Mean",
           "sample_id": 0,
           "timepoint": 64,
           "trajectory": "Envelope_Mean",
           "value": 3.6908238848346295
          },
          {
           "color_by": "Envelope Mean",
           "sample_id": 0,
           "timepoint": 65,
           "trajectory": "Envelope_Mean",
           "value": 3.7078352579817935
          },
          {
           "color_by": "Envelope Mean",
           "sample_id": 0,
           "timepoint": 66,
           "trajectory": "Envelope_Mean",
           "value": 3.721577596375987
          },
          {
           "color_by": "Envelope Mean",
           "sample_id": 0,
           "timepoint": 67,
           "trajectory": "Envelope_Mean",
           "value": 3.7369557358470056
          },
          {
           "color_by": "Envelope Mean",
           "sample_id": 0,
           "timepoint": 68,
           "trajectory": "Envelope_Mean",
           "value": 3.769486943625846
          },
          {
           "color_by": "Envelope Mean",
           "sample_id": 0,
           "timepoint": 69,
           "trajectory": "Envelope_Mean",
           "value": 3.806064071753802
          },
          {
           "color_by": "Envelope Mean",
           "sample_id": 0,
           "timepoint": 70,
           "trajectory": "Envelope_Mean",
           "value": 3.8447011481619997
          },
          {
           "color_by": "Envelope Mean",
           "sample_id": 0,
           "timepoint": 71,
           "trajectory": "Envelope_Mean",
           "value": 3.8852376362145735
          },
          {
           "color_by": "Envelope Mean",
           "sample_id": 0,
           "timepoint": 72,
           "trajectory": "Envelope_Mean",
           "value": 3.927499982885361
          },
          {
           "color_by": "Envelope Mean",
           "sample_id": 0,
           "timepoint": 73,
           "trajectory": "Envelope_Mean",
           "value": 3.9421747219905603
          },
          {
           "color_by": "Envelope Mean",
           "sample_id": 0,
           "timepoint": 74,
           "trajectory": "Envelope_Mean",
           "value": 3.9568529771326437
          },
          {
           "color_by": "Envelope Mean",
           "sample_id": 0,
           "timepoint": 75,
           "trajectory": "Envelope_Mean",
           "value": 3.972383857401223
          },
          {
           "color_by": "Envelope Mean",
           "sample_id": 0,
           "timepoint": 76,
           "trajectory": "Envelope_Mean",
           "value": 3.9678500018830234
          },
          {
           "color_by": "Envelope Mean",
           "sample_id": 0,
           "timepoint": 77,
           "trajectory": "Envelope_Mean",
           "value": 3.9575999810995546
          },
          {
           "color_by": "Envelope Mean",
           "sample_id": 0,
           "timepoint": 78,
           "trajectory": "Envelope_Mean",
           "value": 3.947475008366167
          },
          {
           "color_by": "Envelope Mean",
           "sample_id": 0,
           "timepoint": 79,
           "trajectory": "Envelope_Mean",
           "value": 3.937519868011723
          },
          {
           "color_by": "Envelope Mean",
           "sample_id": 0,
           "timepoint": 80,
           "trajectory": "Envelope_Mean",
           "value": 3.9383442145834358
          },
          {
           "color_by": "Envelope Mean",
           "sample_id": 0,
           "timepoint": 81,
           "trajectory": "Envelope_Mean",
           "value": 3.925746396699793
          },
          {
           "color_by": "Envelope Mean",
           "sample_id": 0,
           "timepoint": 82,
           "trajectory": "Envelope_Mean",
           "value": 3.909108648577714
          },
          {
           "color_by": "Envelope Mean",
           "sample_id": 0,
           "timepoint": 83,
           "trajectory": "Envelope_Mean",
           "value": 3.9002632656488307
          },
          {
           "color_by": "Envelope Mean",
           "sample_id": 0,
           "timepoint": 84,
           "trajectory": "Envelope_Mean",
           "value": 3.891797874059645
          },
          {
           "color_by": "Envelope Mean",
           "sample_id": 0,
           "timepoint": 85,
           "trajectory": "Envelope_Mean",
           "value": 3.883751202616678
          },
          {
           "color_by": "Envelope Mean",
           "sample_id": 0,
           "timepoint": 86,
           "trajectory": "Envelope_Mean",
           "value": 3.876160705112754
          },
          {
           "color_by": "Envelope Mean",
           "sample_id": 0,
           "timepoint": 87,
           "trajectory": "Envelope_Mean",
           "value": 3.8690624904176927
          },
          {
           "color_by": "Envelope Mean",
           "sample_id": 0,
           "timepoint": 88,
           "trajectory": "Envelope_Mean",
           "value": 3.8624912551930866
          },
          {
           "color_by": "Envelope Mean",
           "sample_id": 0,
           "timepoint": 89,
           "trajectory": "Envelope_Mean",
           "value": 3.8650808710620193
          },
          {
           "color_by": "Envelope Mean",
           "sample_id": 0,
           "timepoint": 90,
           "trajectory": "Envelope_Mean",
           "value": 3.8728531520168943
          },
          {
           "color_by": "Envelope Mean",
           "sample_id": 0,
           "timepoint": 91,
           "trajectory": "Envelope_Mean",
           "value": 3.881507517347796
          },
          {
           "color_by": "Envelope Mean",
           "sample_id": 0,
           "timepoint": 92,
           "trajectory": "Envelope_Mean",
           "value": 3.8910334694118847
          },
          {
           "color_by": "Envelope Mean",
           "sample_id": 0,
           "timepoint": 93,
           "trajectory": "Envelope_Mean",
           "value": 3.901417455490773
          },
          {
           "color_by": "Envelope Mean",
           "sample_id": 0,
           "timepoint": 94,
           "trajectory": "Envelope_Mean",
           "value": 3.907768112001242
          },
          {
           "color_by": "Envelope Mean",
           "sample_id": 0,
           "timepoint": 95,
           "trajectory": "Envelope_Mean",
           "value": 3.8966004606242395
          },
          {
           "color_by": "Envelope Mean",
           "sample_id": 0,
           "timepoint": 96,
           "trajectory": "Envelope_Mean",
           "value": 3.8896529061633913
          },
          {
           "color_by": "Envelope Mean",
           "sample_id": 0,
           "timepoint": 97,
           "trajectory": "Envelope_Mean",
           "value": 3.8874687670440817
          },
          {
           "color_by": "Envelope Mean",
           "sample_id": 0,
           "timepoint": 98,
           "trajectory": "Envelope_Mean",
           "value": 3.888683910092564
          },
          {
           "color_by": "Envelope Mean",
           "sample_id": 0,
           "timepoint": 99,
           "trajectory": "Envelope_Mean",
           "value": 3.883608639344471
          },
          {
           "color_by": "Chaos",
           "sample_id": 0,
           "timepoint": 0,
           "trajectory": "Chaos",
           "value": 0.6461095265502741
          },
          {
           "color_by": "Chaos",
           "sample_id": 0,
           "timepoint": 1,
           "trajectory": "Chaos",
           "value": 1.7617373405725087
          },
          {
           "color_by": "Chaos",
           "sample_id": 0,
           "timepoint": 2,
           "trajectory": "Chaos",
           "value": 2.0650211478573732
          },
          {
           "color_by": "Chaos",
           "sample_id": 0,
           "timepoint": 3,
           "trajectory": "Chaos",
           "value": 2.3028833025667135
          },
          {
           "color_by": "Chaos",
           "sample_id": 0,
           "timepoint": 4,
           "trajectory": "Chaos",
           "value": 2.5074476962228633
          },
          {
           "color_by": "Chaos",
           "sample_id": 0,
           "timepoint": 5,
           "trajectory": "Chaos",
           "value": 2.689009680861683
          },
          {
           "color_by": "Chaos",
           "sample_id": 0,
           "timepoint": 6,
           "trajectory": "Chaos",
           "value": 2.8518269640442764
          },
          {
           "color_by": "Chaos",
           "sample_id": 0,
           "timepoint": 7,
           "trajectory": "Chaos",
           "value": 2.9978064808620184
          },
          {
           "color_by": "Chaos",
           "sample_id": 0,
           "timepoint": 8,
           "trajectory": "Chaos",
           "value": 3.1277829539914626
          },
          {
           "color_by": "Chaos",
           "sample_id": 0,
           "timepoint": 9,
           "trajectory": "Chaos",
           "value": 3.2420709127712284
          },
          {
           "color_by": "Chaos",
           "sample_id": 0,
           "timepoint": 10,
           "trajectory": "Chaos",
           "value": 3.3407403262105477
          },
          {
           "color_by": "Chaos",
           "sample_id": 0,
           "timepoint": 11,
           "trajectory": "Chaos",
           "value": 3.4237693612634685
          },
          {
           "color_by": "Chaos",
           "sample_id": 0,
           "timepoint": 12,
           "trajectory": "Chaos",
           "value": 3.4911357194396455
          },
          {
           "color_by": "Chaos",
           "sample_id": 0,
           "timepoint": 13,
           "trajectory": "Chaos",
           "value": 3.5428741681411395
          },
          {
           "color_by": "Chaos",
           "sample_id": 0,
           "timepoint": 14,
           "trajectory": "Chaos",
           "value": 3.579113822493416
          },
          {
           "color_by": "Chaos",
           "sample_id": 0,
           "timepoint": 15,
           "trajectory": "Chaos",
           "value": 3.6001023193878314
          },
          {
           "color_by": "Chaos",
           "sample_id": 0,
           "timepoint": 16,
           "trajectory": "Chaos",
           "value": 3.606220878611026
          },
          {
           "color_by": "Chaos",
           "sample_id": 0,
           "timepoint": 17,
           "trajectory": "Chaos",
           "value": 3.5979926109642513
          },
          {
           "color_by": "Chaos",
           "sample_id": 0,
           "timepoint": 18,
           "trajectory": "Chaos",
           "value": 3.576085545005985
          },
          {
           "color_by": "Chaos",
           "sample_id": 0,
           "timepoint": 19,
           "trajectory": "Chaos",
           "value": 3.541311345026495
          },
          {
           "color_by": "Chaos",
           "sample_id": 0,
           "timepoint": 20,
           "trajectory": "Chaos",
           "value": 3.494620406044332
          },
          {
           "color_by": "Chaos",
           "sample_id": 0,
           "timepoint": 21,
           "trajectory": "Chaos",
           "value": 3.4370938447995796
          },
          {
           "color_by": "Chaos",
           "sample_id": 0,
           "timepoint": 22,
           "trajectory": "Chaos",
           "value": 3.3699328087258396
          },
          {
           "color_by": "Chaos",
           "sample_id": 0,
           "timepoint": 23,
           "trajectory": "Chaos",
           "value": 3.2944454693098852
          },
          {
           "color_by": "Chaos",
           "sample_id": 0,
           "timepoint": 24,
           "trajectory": "Chaos",
           "value": 3.2120320354396497
          },
          {
           "color_by": "Chaos",
           "sample_id": 0,
           "timepoint": 25,
           "trajectory": "Chaos",
           "value": 3.1241681062125632
          },
          {
           "color_by": "Chaos",
           "sample_id": 0,
           "timepoint": 26,
           "trajectory": "Chaos",
           "value": 3.032386674938553
          },
          {
           "color_by": "Chaos",
           "sample_id": 0,
           "timepoint": 27,
           "trajectory": "Chaos",
           "value": 2.9382590927022454
          },
          {
           "color_by": "Chaos",
           "sample_id": 0,
           "timepoint": 28,
           "trajectory": "Chaos",
           "value": 2.8433752982154825
          },
          {
           "color_by": "Chaos",
           "sample_id": 0,
           "timepoint": 29,
           "trajectory": "Chaos",
           "value": 2.7493236190465278
          },
          {
           "color_by": "Chaos",
           "sample_id": 0,
           "timepoint": 30,
           "trajectory": "Chaos",
           "value": 2.65767044648638
          },
          {
           "color_by": "Chaos",
           "sample_id": 0,
           "timepoint": 31,
           "trajectory": "Chaos",
           "value": 2.569940081527185
          },
          {
           "color_by": "Chaos",
           "sample_id": 0,
           "timepoint": 32,
           "trajectory": "Chaos",
           "value": 2.4875950421800717
          },
          {
           "color_by": "Chaos",
           "sample_id": 0,
           "timepoint": 33,
           "trajectory": "Chaos",
           "value": 2.412017112346689
          },
          {
           "color_by": "Chaos",
           "sample_id": 0,
           "timepoint": 34,
           "trajectory": "Chaos",
           "value": 2.3444893995290137
          },
          {
           "color_by": "Chaos",
           "sample_id": 0,
           "timepoint": 35,
           "trajectory": "Chaos",
           "value": 2.286179652782373
          },
          {
           "color_by": "Chaos",
           "sample_id": 0,
           "timepoint": 36,
           "trajectory": "Chaos",
           "value": 2.238125073548866
          },
          {
           "color_by": "Chaos",
           "sample_id": 0,
           "timepoint": 37,
           "trajectory": "Chaos",
           "value": 2.201218830492377
          },
          {
           "color_by": "Chaos",
           "sample_id": 0,
           "timepoint": 38,
           "trajectory": "Chaos",
           "value": 2.1761984653974347
          },
          {
           "color_by": "Chaos",
           "sample_id": 0,
           "timepoint": 39,
           "trajectory": "Chaos",
           "value": 2.1636363508520056
          },
          {
           "color_by": "Chaos",
           "sample_id": 0,
           "timepoint": 40,
           "trajectory": "Chaos",
           "value": 2.1639323321143182
          },
          {
           "color_by": "Chaos",
           "sample_id": 0,
           "timepoint": 41,
           "trajectory": "Chaos",
           "value": 2.1773086556094703
          },
          {
           "color_by": "Chaos",
           "sample_id": 0,
           "timepoint": 42,
           "trajectory": "Chaos",
           "value": 2.203807255285972
          },
          {
           "color_by": "Chaos",
           "sample_id": 0,
           "timepoint": 43,
           "trajectory": "Chaos",
           "value": 2.24328943598248
          },
          {
           "color_by": "Chaos",
           "sample_id": 0,
           "timepoint": 44,
           "trajectory": "Chaos",
           "value": 2.2954379604235866
          },
          {
           "color_by": "Chaos",
           "sample_id": 0,
           "timepoint": 45,
           "trajectory": "Chaos",
           "value": 2.359761513903491
          },
          {
           "color_by": "Chaos",
           "sample_id": 0,
           "timepoint": 46,
           "trajectory": "Chaos",
           "value": 2.435601488553514
          },
          {
           "color_by": "Chaos",
           "sample_id": 0,
           "timepoint": 47,
           "trajectory": "Chaos",
           "value": 2.52214099774653
          },
          {
           "color_by": "Chaos",
           "sample_id": 0,
           "timepoint": 48,
           "trajectory": "Chaos",
           "value": 2.618416001082001
          },
          {
           "color_by": "Chaos",
           "sample_id": 0,
           "timepoint": 49,
           "trajectory": "Chaos",
           "value": 2.723328391917545
          },
          {
           "color_by": "Chaos",
           "sample_id": 0,
           "timepoint": 50,
           "trajectory": "Chaos",
           "value": 2.835660872944379
          },
          {
           "color_by": "Chaos",
           "sample_id": 0,
           "timepoint": 51,
           "trajectory": "Chaos",
           "value": 2.9540934211958945
          },
          {
           "color_by": "Chaos",
           "sample_id": 0,
           "timepoint": 52,
           "trajectory": "Chaos",
           "value": 3.0772211224512445
          },
          {
           "color_by": "Chaos",
           "sample_id": 0,
           "timepoint": 53,
           "trajectory": "Chaos",
           "value": 3.2035731365341498
          },
          {
           "color_by": "Chaos",
           "sample_id": 0,
           "timepoint": 54,
           "trajectory": "Chaos",
           "value": 3.3316325397568325
          },
          {
           "color_by": "Chaos",
           "sample_id": 0,
           "timepoint": 55,
           "trajectory": "Chaos",
           "value": 3.4598567789224957
          },
          {
           "color_by": "Chaos",
           "sample_id": 0,
           "timepoint": 56,
           "trajectory": "Chaos",
           "value": 3.5866984630350345
          },
          {
           "color_by": "Chaos",
           "sample_id": 0,
           "timepoint": 57,
           "trajectory": "Chaos",
           "value": 3.710626214280677
          },
          {
           "color_by": "Chaos",
           "sample_id": 0,
           "timepoint": 58,
           "trajectory": "Chaos",
           "value": 3.8301452990039375
          },
          {
           "color_by": "Chaos",
           "sample_id": 0,
           "timepoint": 59,
           "trajectory": "Chaos",
           "value": 3.9438177623099238
          },
          {
           "color_by": "Chaos",
           "sample_id": 0,
           "timepoint": 60,
           "trajectory": "Chaos",
           "value": 4.0502817965467575
          },
          {
           "color_by": "Chaos",
           "sample_id": 0,
           "timepoint": 61,
           "trajectory": "Chaos",
           "value": 4.148270084166411
          },
          {
           "color_by": "Chaos",
           "sample_id": 0,
           "timepoint": 62,
           "trajectory": "Chaos",
           "value": 4.236626869191553
          },
          {
           "color_by": "Chaos",
           "sample_id": 0,
           "timepoint": 63,
           "trajectory": "Chaos",
           "value": 4.314323528545398
          },
          {
           "color_by": "Chaos",
           "sample_id": 0,
           "timepoint": 64,
           "trajectory": "Chaos",
           "value": 4.380472434602232
          },
          {
           "color_by": "Chaos",
           "sample_id": 0,
           "timepoint": 65,
           "trajectory": "Chaos",
           "value": 4.434338923218392
          },
          {
           "color_by": "Chaos",
           "sample_id": 0,
           "timepoint": 66,
           "trajectory": "Chaos",
           "value": 4.475351206899198
          },
          {
           "color_by": "Chaos",
           "sample_id": 0,
           "timepoint": 67,
           "trajectory": "Chaos",
           "value": 4.503108100306092
          },
          {
           "color_by": "Chaos",
           "sample_id": 0,
           "timepoint": 68,
           "trajectory": "Chaos",
           "value": 4.517384454640004
          },
          {
           "color_by": "Chaos",
           "sample_id": 0,
           "timepoint": 69,
           "trajectory": "Chaos",
           "value": 4.518134228158128
          },
          {
           "color_by": "Chaos",
           "sample_id": 0,
           "timepoint": 70,
           "trajectory": "Chaos",
           "value": 4.50549115177968
          },
          {
           "color_by": "Chaos",
           "sample_id": 0,
           "timepoint": 71,
           "trajectory": "Chaos",
           "value": 4.4797669809862555
          },
          {
           "color_by": "Chaos",
           "sample_id": 0,
           "timepoint": 72,
           "trajectory": "Chaos",
           "value": 4.441447357591571
          },
          {
           "color_by": "Chaos",
           "sample_id": 0,
           "timepoint": 73,
           "trajectory": "Chaos",
           "value": 4.391185337009119
          },
          {
           "color_by": "Chaos",
           "sample_id": 0,
           "timepoint": 74,
           "trajectory": "Chaos",
           "value": 4.329792667954676
          },
          {
           "color_by": "Chaos",
           "sample_id": 0,
           "timepoint": 75,
           "trajectory": "Chaos",
           "value": 4.2582289416634715
          },
          {
           "color_by": "Chaos",
           "sample_id": 0,
           "timepoint": 76,
           "trajectory": "Chaos",
           "value": 4.177588756274769
          },
          {
           "color_by": "Chaos",
           "sample_id": 0,
           "timepoint": 77,
           "trajectory": "Chaos",
           "value": 4.089087068656276
          },
          {
           "color_by": "Chaos",
           "sample_id": 0,
           "timepoint": 78,
           "trajectory": "Chaos",
           "value": 3.99404293024997
          },
          {
           "color_by": "Chaos",
           "sample_id": 0,
           "timepoint": 79,
           "trajectory": "Chaos",
           "value": 3.8938618251935537
          },
          {
           "color_by": "Chaos",
           "sample_id": 0,
           "timepoint": 80,
           "trajectory": "Chaos",
           "value": 3.7900168477169043
          },
          {
           "color_by": "Chaos",
           "sample_id": 0,
           "timepoint": 81,
           "trajectory": "Chaos",
           "value": 3.6840289713792074
          },
          {
           "color_by": "Chaos",
           "sample_id": 0,
           "timepoint": 82,
           "trajectory": "Chaos",
           "value": 3.5774466748909957
          },
          {
           "color_by": "Chaos",
           "sample_id": 0,
           "timepoint": 83,
           "trajectory": "Chaos",
           "value": 3.4718251978927634
          },
          {
           "color_by": "Chaos",
           "sample_id": 0,
           "timepoint": 84,
           "trajectory": "Chaos",
           "value": 3.368705705022199
          },
          {
           "color_by": "Chaos",
           "sample_id": 0,
           "timepoint": 85,
           "trajectory": "Chaos",
           "value": 3.269594637829142
          },
          {
           "color_by": "Chaos",
           "sample_id": 0,
           "timepoint": 86,
           "trajectory": "Chaos",
           "value": 3.1759435315743785
          },
          {
           "color_by": "Chaos",
           "sample_id": 0,
           "timepoint": 87,
           "trajectory": "Chaos",
           "value": 3.0891295677091417
          },
          {
           "color_by": "Chaos",
           "sample_id": 0,
           "timepoint": 88,
           "trajectory": "Chaos",
           "value": 3.010437122960714
          },
          {
           "color_by": "Chaos",
           "sample_id": 0,
           "timepoint": 89,
           "trajectory": "Chaos",
           "value": 2.9410405625777223
          },
          {
           "color_by": "Chaos",
           "sample_id": 0,
           "timepoint": 90,
           "trajectory": "Chaos",
           "value": 2.8819885085963417
          },
          {
           "color_by": "Chaos",
           "sample_id": 0,
           "timepoint": 91,
           "trajectory": "Chaos",
           "value": 2.8341897941995216
          },
          {
           "color_by": "Chaos",
           "sample_id": 0,
           "timepoint": 92,
           "trajectory": "Chaos",
           "value": 2.798401292620733
          },
          {
           "color_by": "Chaos",
           "sample_id": 0,
           "timepoint": 93,
           "trajectory": "Chaos",
           "value": 2.775217783895316
          },
          {
           "color_by": "Chaos",
           "sample_id": 0,
           "timepoint": 94,
           "trajectory": "Chaos",
           "value": 2.7650639954236134
          },
          {
           "color_by": "Chaos",
           "sample_id": 0,
           "timepoint": 95,
           "trajectory": "Chaos",
           "value": 2.768188923147186
          },
          {
           "color_by": "Chaos",
           "sample_id": 0,
           "timepoint": 96,
           "trajectory": "Chaos",
           "value": 2.784662509544039
          },
          {
           "color_by": "Chaos",
           "sample_id": 0,
           "timepoint": 97,
           "trajectory": "Chaos",
           "value": 2.814374723031234
          },
          {
           "color_by": "Chaos",
           "sample_id": 0,
           "timepoint": 98,
           "trajectory": "Chaos",
           "value": 2.8570370511475303
          },
          {
           "color_by": "Chaos",
           "sample_id": 0,
           "timepoint": 99,
           "trajectory": "Chaos",
           "value": 2.9121863875072513
          },
          {
           "color_by": "Mean",
           "sample_id": 0,
           "timepoint": 0,
           "trajectory": "Mean",
           "value": 0.9411650371056803
          },
          {
           "color_by": "Mean",
           "sample_id": 0,
           "timepoint": 1,
           "trajectory": "Mean",
           "value": 2.0390308001496393
          },
          {
           "color_by": "Mean",
           "sample_id": 0,
           "timepoint": 2,
           "trajectory": "Mean",
           "value": 2.325164093356099
          },
          {
           "color_by": "Mean",
           "sample_id": 0,
           "timepoint": 3,
           "trajectory": "Mean",
           "value": 2.547087020549432
          },
          {
           "color_by": "Mean",
           "sample_id": 0,
           "timepoint": 4,
           "trajectory": "Mean",
           "value": 2.7374998409683053
          },
          {
           "color_by": "Mean",
           "sample_id": 0,
           "timepoint": 5,
           "trajectory": "Mean",
           "value": 2.9072396798538067
          },
          {
           "color_by": "Mean",
           "sample_id": 0,
           "timepoint": 6,
           "trajectory": "Mean",
           "value": 3.0610607768718014
          },
          {
           "color_by": "Mean",
           "sample_id": 0,
           "timepoint": 7,
           "trajectory": "Mean",
           "value": 3.2013114527650246
          },
          {
           "color_by": "Mean",
           "sample_id": 0,
           "timepoint": 8,
           "trajectory": "Mean",
           "value": 3.329203669319098
          },
          {
           "color_by": "Mean",
           "sample_id": 0,
           "timepoint": 9,
           "trajectory": "Mean",
           "value": 3.4453571039094713
          },
          {
           "color_by": "Mean",
           "sample_id": 0,
           "timepoint": 10,
           "trajectory": "Mean",
           "value": 3.5500680278011782
          },
          {
           "color_by": "Mean",
           "sample_id": 0,
           "timepoint": 11,
           "trajectory": "Mean",
           "value": 3.6434566156980104
          },
          {
           "color_by": "Mean",
           "sample_id": 0,
           "timepoint": 12,
           "trajectory": "Mean",
           "value": 3.72555423587142
          },
          {
           "color_by": "Mean",
           "sample_id": 0,
           "timepoint": 13,
           "trajectory": "Mean",
           "value": 3.796358412101054
          },
          {
           "color_by": "Mean",
           "sample_id": 0,
           "timepoint": 14,
           "trajectory": "Mean",
           "value": 3.855869065419277
          },
          {
           "color_by": "Mean",
           "sample_id": 0,
           "timepoint": 15,
           "trajectory": "Mean",
           "value": 3.9041132061118002
          },
          {
           "color_by": "Mean",
           "sample_id": 0,
           "timepoint": 16,
           "trajectory": "Mean",
           "value": 3.941162075567916
          },
          {
           "color_by": "Mean",
           "sample_id": 0,
           "timepoint": 17,
           "trajectory": "Mean",
           "value": 3.9671430784093897
          },
          {
           "color_by": "Mean",
           "sample_id": 0,
           "timepoint": 18,
           "trajectory": "Mean",
           "value": 3.9822479330456084
          },
          {
           "color_by": "Mean",
           "sample_id": 0,
           "timepoint": 19,
           "trajectory": "Mean",
           "value": 3.9867379463001313
          },
          {
           "color_by": "Mean",
           "sample_id": 0,
           "timepoint": 20,
           "trajectory": "Mean",
           "value": 3.98094700833873
          },
          {
           "color_by": "Mean",
           "sample_id": 0,
           "timepoint": 21,
           "trajectory": "Mean",
           "value": 3.965282715934239
          },
          {
           "color_by": "Mean",
           "sample_id": 0,
           "timepoint": 22,
           "trajectory": "Mean",
           "value": 3.9402259152669816
          },
          {
           "color_by": "Mean",
           "sample_id": 0,
           "timepoint": 23,
           "trajectory": "Mean",
           "value": 3.9063288818766533
          },
          {
           "color_by": "Mean",
           "sample_id": 0,
           "timepoint": 24,
           "trajectory": "Mean",
           "value": 3.8642123086700204
          },
          {
           "color_by": "Mean",
           "sample_id": 0,
           "timepoint": 25,
           "trajectory": "Mean",
           "value": 3.814561243206548
          },
          {
           "color_by": "Mean",
           "sample_id": 0,
           "timepoint": 26,
           "trajectory": "Mean",
           "value": 3.758120096753309
          },
          {
           "color_by": "Mean",
           "sample_id": 0,
           "timepoint": 27,
           "trajectory": "Mean",
           "value": 3.6956868359721518
          },
          {
           "color_by": "Mean",
           "sample_id": 0,
           "timepoint": 28,
           "trajectory": "Mean",
           "value": 3.6281064610809977
          },
          {
           "color_by": "Mean",
           "sample_id": 0,
           "timepoint": 29,
           "trajectory": "Mean",
           "value": 3.5562638702644582
          },
          {
           "color_by": "Mean",
           "sample_id": 0,
           "timepoint": 30,
           "trajectory": "Mean",
           "value": 3.4810762078801845
          },
          {
           "color_by": "Mean",
           "sample_id": 0,
           "timepoint": 31,
           "trajectory": "Mean",
           "value": 3.4034847928484013
          },
          {
           "color_by": "Mean",
           "sample_id": 0,
           "timepoint": 32,
           "trajectory": "Mean",
           "value": 3.324446722986587
          },
          {
           "color_by": "Mean",
           "sample_id": 0,
           "timepoint": 33,
           "trajectory": "Mean",
           "value": 3.244926250580136
          },
          {
           "color_by": "Mean",
           "sample_id": 0,
           "timepoint": 34,
           "trajectory": "Mean",
           "value": 3.165886023893179
          },
          {
           "color_by": "Mean",
           "sample_id": 0,
           "timepoint": 35,
           "trajectory": "Mean",
           "value": 3.08827828842916
          },
          {
           "color_by": "Mean",
           "sample_id": 0,
           "timepoint": 36,
           "trajectory": "Mean",
           "value": 3.0130361404124018
          },
          {
           "color_by": "Mean",
           "sample_id": 0,
           "timepoint": 37,
           "trajectory": "Mean",
           "value": 2.941064923086031
          },
          {
           "color_by": "Mean",
           "sample_id": 0,
           "timepoint": 38,
           "trajectory": "Mean",
           "value": 2.873233853946951
          },
          {
           "color_by": "Mean",
           "sample_id": 0,
           "timepoint": 39,
           "trajectory": "Mean",
           "value": 2.810367967929188
          },
          {
           "color_by": "Mean",
           "sample_id": 0,
           "timepoint": 40,
           "trajectory": "Mean",
           "value": 2.753240457787394
          },
          {
           "color_by": "Mean",
           "sample_id": 0,
           "timepoint": 41,
           "trajectory": "Mean",
           "value": 2.702565488524125
          },
          {
           "color_by": "Mean",
           "sample_id": 0,
           "timepoint": 42,
           "trajectory": "Mean",
           "value": 2.6589915576633434
          },
          {
           "color_by": "Mean",
           "sample_id": 0,
           "timepoint": 43,
           "trajectory": "Mean",
           "value": 2.623095467526119
          },
          {
           "color_by": "Mean",
           "sample_id": 0,
           "timepoint": 44,
           "trajectory": "Mean",
           "value": 2.595376969450686
          },
          {
           "color_by": "Mean",
           "sample_id": 0,
           "timepoint": 45,
           "trajectory": "Mean",
           "value": 2.5762541331647704
          },
          {
           "color_by": "Mean",
           "sample_id": 0,
           "timepoint": 46,
           "trajectory": "Mean",
           "value": 2.5660594873180127
          },
          {
           "color_by": "Mean",
           "sample_id": 0,
           "timepoint": 47,
           "trajectory": "Mean",
           "value": 2.565036969577379
          },
          {
           "color_by": "Mean",
           "sample_id": 0,
           "timepoint": 48,
           "trajectory": "Mean",
           "value": 2.5733397167452945
          },
          {
           "color_by": "Mean",
           "sample_id": 0,
           "timepoint": 49,
           "trajectory": "Mean",
           "value": 2.5910287171498334
          },
          {
           "color_by": "Mean",
           "sample_id": 0,
           "timepoint": 50,
           "trajectory": "Mean",
           "value": 2.6180723391533194
          },
          {
           "color_by": "Mean",
           "sample_id": 0,
           "timepoint": 51,
           "trajectory": "Mean",
           "value": 2.654346741107359
          },
          {
           "color_by": "Mean",
           "sample_id": 0,
           "timepoint": 52,
           "trajectory": "Mean",
           "value": 2.6996371595275575
          },
          {
           "color_by": "Mean",
           "sample_id": 0,
           "timepoint": 53,
           "trajectory": "Mean",
           "value": 2.7536400637498732
          },
          {
           "color_by": "Mean",
           "sample_id": 0,
           "timepoint": 54,
           "trajectory": "Mean",
           "value": 2.8159661569424532
          },
          {
           "color_by": "Mean",
           "sample_id": 0,
           "timepoint": 55,
           "trajectory": "Mean",
           "value": 2.886144195160899
          },
          {
           "color_by": "Mean",
           "sample_id": 0,
           "timepoint": 56,
           "trajectory": "Mean",
           "value": 2.963625588228418
          },
          {
           "color_by": "Mean",
           "sample_id": 0,
           "timepoint": 57,
           "trajectory": "Mean",
           "value": 3.0477897386701334
          },
          {
           "color_by": "Mean",
           "sample_id": 0,
           "timepoint": 58,
           "trajectory": "Mean",
           "value": 3.13795006780443
          },
          {
           "color_by": "Mean",
           "sample_id": 0,
           "timepoint": 59,
           "trajectory": "Mean",
           "value": 3.233360671461345
          },
          {
           "color_by": "Mean",
           "sample_id": 0,
           "timepoint": 60,
           "trajectory": "Mean",
           "value": 3.333223541721575
          },
          {
           "color_by": "Mean",
           "sample_id": 0,
           "timepoint": 61,
           "trajectory": "Mean",
           "value": 3.436696285607601
          },
          {
           "color_by": "Mean",
           "sample_id": 0,
           "timepoint": 62,
           "trajectory": "Mean",
           "value": 3.542900266862544
          },
          {
           "color_by": "Mean",
           "sample_id": 0,
           "timepoint": 63,
           "trajectory": "Mean",
           "value": 3.6509290928683944
          },
          {
           "color_by": "Mean",
           "sample_id": 0,
           "timepoint": 64,
           "trajectory": "Mean",
           "value": 3.7598573654220067
          },
          {
           "color_by": "Mean",
           "sample_id": 0,
           "timepoint": 65,
           "trajectory": "Mean",
           "value": 3.868749611536504
          },
          {
           "color_by": "Mean",
           "sample_id": 0,
           "timepoint": 66,
           "trajectory": "Mean",
           "value": 3.9766693086916454
          },
          {
           "color_by": "Mean",
           "sample_id": 0,
           "timepoint": 67,
           "trajectory": "Mean",
           "value": 4.08268791803582
          },
          {
           "color_by": "Mean",
           "sample_id": 0,
           "timepoint": 68,
           "trajectory": "Mean",
           "value": 4.185893838953323
          },
          {
           "color_by": "Mean",
           "sample_id": 0,
           "timepoint": 69,
           "trajectory": "Mean",
           "value": 4.285401199154119
          },
          {
           "color_by": "Mean",
           "sample_id": 0,
           "timepoint": 70,
           "trajectory": "Mean",
           "value": 4.380358396012122
          },
          {
           "color_by": "Mean",
           "sample_id": 0,
           "timepoint": 71,
           "trajectory": "Mean",
           "value": 4.469956307256865
          },
          {
           "color_by": "Mean",
           "sample_id": 0,
           "timepoint": 72,
           "trajectory": "Mean",
           "value": 4.553436092289515
          },
          {
           "color_by": "Mean",
           "sample_id": 0,
           "timepoint": 73,
           "trajectory": "Mean",
           "value": 4.630096509316816
          },
          {
           "color_by": "Mean",
           "sample_id": 0,
           "timepoint": 74,
           "trajectory": "Mean",
           "value": 4.699300678138137
          },
          {
           "color_by": "Mean",
           "sample_id": 0,
           "timepoint": 75,
           "trajectory": "Mean",
           "value": 4.760482223736602
          },
          {
           "color_by": "Mean",
           "sample_id": 0,
           "timepoint": 76,
           "trajectory": "Mean",
           "value": 4.813150741764298
          },
          {
           "color_by": "Mean",
           "sample_id": 0,
           "timepoint": 77,
           "trajectory": "Mean",
           "value": 4.856896533516579
          },
          {
           "color_by": "Mean",
           "sample_id": 0,
           "timepoint": 78,
           "trajectory": "Mean",
           "value": 4.891394564999192
          },
          {
           "color_by": "Mean",
           "sample_id": 0,
           "timepoint": 79,
           "trajectory": "Mean",
           "value": 4.916407612136796
          },
          {
           "color_by": "Mean",
           "sample_id": 0,
           "timepoint": 80,
           "trajectory": "Mean",
           "value": 4.931788561981085
          },
          {
           "color_by": "Mean",
           "sample_id": 0,
           "timepoint": 81,
           "trajectory": "Mean",
           "value": 4.937481847876091
          },
          {
           "color_by": "Mean",
           "sample_id": 0,
           "timepoint": 82,
           "trajectory": "Mean",
           "value": 4.9335240048494615
          },
          {
           "color_by": "Mean",
           "sample_id": 0,
           "timepoint": 83,
           "trajectory": "Mean",
           "value": 4.920043339941902
          },
          {
           "color_by": "Mean",
           "sample_id": 0,
           "timepoint": 84,
           "trajectory": "Mean",
           "value": 4.897258720681354
          },
          {
           "color_by": "Mean",
           "sample_id": 0,
           "timepoint": 85,
           "trajectory": "Mean",
           "value": 4.865477493372287
          },
          {
           "color_by": "Mean",
           "sample_id": 0,
           "timepoint": 86,
           "trajectory": "Mean",
           "value": 4.8250925512224505
          },
          {
           "color_by": "Mean",
           "sample_id": 0,
           "timepoint": 87,
           "trajectory": "Mean",
           "value": 4.776578580489385
          },
          {
           "color_by": "Mean",
           "sample_id": 0,
           "timepoint": 88,
           "trajectory": "Mean",
           "value": 4.720487520718537
          },
          {
           "color_by": "Mean",
           "sample_id": 0,
           "timepoint": 89,
           "trajectory": "Mean",
           "value": 4.657443282688128
          },
          {
           "color_by": "Mean",
           "sample_id": 0,
           "timepoint": 90,
           "trajectory": "Mean",
           "value": 4.588135774800785
          },
          {
           "color_by": "Mean",
           "sample_id": 0,
           "timepoint": 91,
           "trajectory": "Mean",
           "value": 4.513314295299621
          },
          {
           "color_by": "Mean",
           "sample_id": 0,
           "timepoint": 92,
           "trajectory": "Mean",
           "value": 4.433780353773546
          },
          {
           "color_by": "Mean",
           "sample_id": 0,
           "timepoint": 93,
           "trajectory": "Mean",
           "value": 4.35037999089432
          },
          {
           "color_by": "Mean",
           "sample_id": 0,
           "timepoint": 94,
           "trajectory": "Mean",
           "value": 4.263995670143892
          },
          {
           "color_by": "Mean",
           "sample_id": 0,
           "timepoint": 95,
           "trajectory": "Mean",
           "value": 4.1755378193985955
          },
          {
           "color_by": "Mean",
           "sample_id": 0,
           "timepoint": 96,
           "trajectory": "Mean",
           "value": 4.085936103597122
          },
          {
           "color_by": "Mean",
           "sample_id": 0,
           "timepoint": 97,
           "trajectory": "Mean",
           "value": 3.9961305123000423
          },
          {
           "color_by": "Mean",
           "sample_id": 0,
           "timepoint": 98,
           "trajectory": "Mean",
           "value": 3.907062347724658
          },
          {
           "color_by": "Mean",
           "sample_id": 0,
           "timepoint": 99,
           "trajectory": "Mean",
           "value": 3.819665199793674
          },
          {
           "color_by": "Random",
           "sample_id": 0,
           "timepoint": 0,
           "trajectory": "Random",
           "value": 1.9766293342984982
          },
          {
           "color_by": "Random",
           "sample_id": 0,
           "timepoint": 1,
           "trajectory": "Random",
           "value": 3.0251137834909203
          },
          {
           "color_by": "Random",
           "sample_id": 0,
           "timepoint": 2,
           "trajectory": "Random",
           "value": 3.2626913062040903
          },
          {
           "color_by": "Random",
           "sample_id": 0,
           "timepoint": 3,
           "trajectory": "Random",
           "value": 3.4377007971401747
          },
          {
           "color_by": "Random",
           "sample_id": 0,
           "timepoint": 4,
           "trajectory": "Random",
           "value": 3.583641887429489
          },
          {
           "color_by": "Random",
           "sample_id": 0,
           "timepoint": 5,
           "trajectory": "Random",
           "value": 3.712125159832448
          },
          {
           "color_by": "Random",
           "sample_id": 0,
           "timepoint": 6,
           "trajectory": "Random",
           "value": 3.8286441563880116
          },
          {
           "color_by": "Random",
           "sample_id": 0,
           "timepoint": 7,
           "trajectory": "Random",
           "value": 3.936244439938747
          },
          {
           "color_by": "Random",
           "sample_id": 0,
           "timepoint": 8,
           "trajectory": "Random",
           "value": 4.03678566241063
          },
          {
           "color_by": "Random",
           "sample_id": 0,
           "timepoint": 9,
           "trajectory": "Random",
           "value": 4.131478634916572
          },
          {
           "color_by": "Random",
           "sample_id": 0,
           "timepoint": 10,
           "trajectory": "Random",
           "value": 4.221147757952528
          },
          {
           "color_by": "Random",
           "sample_id": 0,
           "timepoint": 11,
           "trajectory": "Random",
           "value": 4.306372502907131
          },
          {
           "color_by": "Random",
           "sample_id": 0,
           "timepoint": 12,
           "trajectory": "Random",
           "value": 4.387569551950661
          },
          {
           "color_by": "Random",
           "sample_id": 0,
           "timepoint": 13,
           "trajectory": "Random",
           "value": 4.465043338723543
          },
          {
           "color_by": "Random",
           "sample_id": 0,
           "timepoint": 14,
           "trajectory": "Random",
           "value": 4.539018641962169
          },
          {
           "color_by": "Random",
           "sample_id": 0,
           "timepoint": 15,
           "trajectory": "Random",
           "value": 4.609662439188994
          },
          {
           "color_by": "Random",
           "sample_id": 0,
           "timepoint": 16,
           "trajectory": "Random",
           "value": 4.677099048908593
          },
          {
           "color_by": "Random",
           "sample_id": 0,
           "timepoint": 17,
           "trajectory": "Random",
           "value": 4.741420922479611
          },
          {
           "color_by": "Random",
           "sample_id": 0,
           "timepoint": 18,
           "trajectory": "Random",
           "value": 4.8026965262409265
          },
          {
           "color_by": "Random",
           "sample_id": 0,
           "timepoint": 19,
           "trajectory": "Random",
           "value": 4.860976223535016
          },
          {
           "color_by": "Random",
           "sample_id": 0,
           "timepoint": 20,
           "trajectory": "Random",
           "value": 4.91629674838176
          },
          {
           "color_by": "Random",
           "sample_id": 0,
           "timepoint": 21,
           "trajectory": "Random",
           "value": 4.968684665926302
          },
          {
           "color_by": "Random",
           "sample_id": 0,
           "timepoint": 22,
           "trajectory": "Random",
           "value": 5.0181590896341035
          },
          {
           "color_by": "Random",
           "sample_id": 0,
           "timepoint": 23,
           "trajectory": "Random",
           "value": 5.064733843510451
          },
          {
           "color_by": "Random",
           "sample_id": 0,
           "timepoint": 24,
           "trajectory": "Random",
           "value": 5.108419203076143
          },
          {
           "color_by": "Random",
           "sample_id": 0,
           "timepoint": 25,
           "trajectory": "Random",
           "value": 5.149223311669224
          },
          {
           "color_by": "Random",
           "sample_id": 0,
           "timepoint": 26,
           "trajectory": "Random",
           "value": 5.18715334285869
          },
          {
           "color_by": "Random",
           "sample_id": 0,
           "timepoint": 27,
           "trajectory": "Random",
           "value": 5.222216461568758
          },
          {
           "color_by": "Random",
           "sample_id": 0,
           "timepoint": 28,
           "trajectory": "Random",
           "value": 5.254420623489733
          },
          {
           "color_by": "Random",
           "sample_id": 0,
           "timepoint": 29,
           "trajectory": "Random",
           "value": 5.283775242898721
          },
          {
           "color_by": "Random",
           "sample_id": 0,
           "timepoint": 30,
           "trajectory": "Random",
           "value": 5.310291752065666
          },
          {
           "color_by": "Random",
           "sample_id": 0,
           "timepoint": 31,
           "trajectory": "Random",
           "value": 5.333984070255051
          },
          {
           "color_by": "Random",
           "sample_id": 0,
           "timepoint": 32,
           "trajectory": "Random",
           "value": 5.3548689964532485
          },
          {
           "color_by": "Random",
           "sample_id": 0,
           "timepoint": 33,
           "trajectory": "Random",
           "value": 5.3729665370085335
          },
          {
           "color_by": "Random",
           "sample_id": 0,
           "timepoint": 34,
           "trajectory": "Random",
           "value": 5.388300177118895
          },
          {
           "color_by": "Random",
           "sample_id": 0,
           "timepoint": 35,
           "trajectory": "Random",
           "value": 5.400897103366209
          },
          {
           "color_by": "Random",
           "sample_id": 0,
           "timepoint": 36,
           "trajectory": "Random",
           "value": 5.410788383146142
          },
          {
           "color_by": "Random",
           "sample_id": 0,
           "timepoint": 37,
           "trajectory": "Random",
           "value": 5.418009105788243
          },
          {
           "color_by": "Random",
           "sample_id": 0,
           "timepoint": 38,
           "trajectory": "Random",
           "value": 5.422598489330925
          },
          {
           "color_by": "Random",
           "sample_id": 0,
           "timepoint": 39,
           "trajectory": "Random",
           "value": 5.424599956259962
          },
          {
           "color_by": "Random",
           "sample_id": 0,
           "timepoint": 40,
           "trajectory": "Random",
           "value": 5.42406118099805
          },
          {
           "color_by": "Random",
           "sample_id": 0,
           "timepoint": 41,
           "trajectory": "Random",
           "value": 5.421034111517483
          },
          {
           "color_by": "Random",
           "sample_id": 0,
           "timepoint": 42,
           "trajectory": "Random",
           "value": 5.415574967115556
          },
          {
           "color_by": "Random",
           "sample_id": 0,
           "timepoint": 43,
           "trajectory": "Random",
           "value": 5.407744214125752
          },
          {
           "color_by": "Random",
           "sample_id": 0,
           "timepoint": 44,
           "trajectory": "Random",
           "value": 5.3976065211234445
          },
          {
           "color_by": "Random",
           "sample_id": 0,
           "timepoint": 45,
           "trajectory": "Random",
           "value": 5.385230695012476
          },
          {
           "color_by": "Random",
           "sample_id": 0,
           "timepoint": 46,
           "trajectory": "Random",
           "value": 5.37068959924019
          },
          {
           "color_by": "Random",
           "sample_id": 0,
           "timepoint": 47,
           "trajectory": "Random",
           "value": 5.354060055276731
          },
          {
           "color_by": "Random",
           "sample_id": 0,
           "timepoint": 48,
           "trajectory": "Random",
           "value": 5.3354227284046285
          },
          {
           "color_by": "Random",
           "sample_id": 0,
           "timepoint": 49,
           "trajectory": "Random",
           "value": 5.314861998792553
          },
          {
           "color_by": "Random",
           "sample_id": 0,
           "timepoint": 50,
           "trajectory": "Random",
           "value": 5.292465818769367
          },
          {
           "color_by": "Random",
           "sample_id": 0,
           "timepoint": 51,
           "trajectory": "Random",
           "value": 5.268325557168587
          },
          {
           "color_by": "Random",
           "sample_id": 0,
           "timepoint": 52,
           "trajectory": "Random",
           "value": 5.2425358315767
          },
          {
           "color_by": "Random",
           "sample_id": 0,
           "timepoint": 53,
           "trajectory": "Random",
           "value": 5.215194329289883
          },
          {
           "color_by": "Random",
           "sample_id": 0,
           "timepoint": 54,
           "trajectory": "Random",
           "value": 5.186401617760888
          },
          {
           "color_by": "Random",
           "sample_id": 0,
           "timepoint": 55,
           "trajectory": "Random",
           "value": 5.156260945300116
          },
          {
           "color_by": "Random",
           "sample_id": 0,
           "timepoint": 56,
           "trajectory": "Random",
           "value": 5.124878032781014
          },
          {
           "color_by": "Random",
           "sample_id": 0,
           "timepoint": 57,
           "trajectory": "Random",
           "value": 5.092360857089259
          },
          {
           "color_by": "Random",
           "sample_id": 0,
           "timepoint": 58,
           "trajectory": "Random",
           "value": 5.058819427046884
          },
          {
           "color_by": "Random",
           "sample_id": 0,
           "timepoint": 59,
           "trajectory": "Random",
           "value": 5.024365552536015
          },
          {
           "color_by": "Random",
           "sample_id": 0,
           "timepoint": 60,
           "trajectory": "Random",
           "value": 4.989112607541773
          },
          {
           "color_by": "Random",
           "sample_id": 0,
           "timepoint": 61,
           "trajectory": "Random",
           "value": 4.953175287829639
          },
          {
           "color_by": "Random",
           "sample_id": 0,
           "timepoint": 62,
           "trajectory": "Random",
           "value": 4.916669363968918
          },
          {
           "color_by": "Random",
           "sample_id": 0,
           "timepoint": 63,
           "trajectory": "Random",
           "value": 4.879711430410618
          },
          {
           "color_by": "Random",
           "sample_id": 0,
           "timepoint": 64,
           "trajectory": "Random",
           "value": 4.842418651324524
          },
          {
           "color_by": "Random",
           "sample_id": 0,
           "timepoint": 65,
           "trajectory": "Random",
           "value": 4.804908503896845
          },
          {
           "color_by": "Random",
           "sample_id": 0,
           "timepoint": 66,
           "trajectory": "Random",
           "value": 4.767298519785688
          },
          {
           "color_by": "Random",
           "sample_id": 0,
           "timepoint": 67,
           "trajectory": "Random",
           "value": 4.729706025427225
          },
          {
           "color_by": "Random",
           "sample_id": 0,
           "timepoint": 68,
           "trajectory": "Random",
           "value": 4.692247881880226
          },
          {
           "color_by": "Random",
           "sample_id": 0,
           "timepoint": 69,
           "trajectory": "Random",
           "value": 4.65504022489063
          },
          {
           "color_by": "Random",
           "sample_id": 0,
           "timepoint": 70,
           "trajectory": "Random",
           "value": 4.618198205851218
          },
          {
           "color_by": "Random",
           "sample_id": 0,
           "timepoint": 71,
           "trajectory": "Random",
           "value": 4.581835734323489
          },
          {
           "color_by": "Random",
           "sample_id": 0,
           "timepoint": 72,
           "trajectory": "Random",
           "value": 4.546065222780346
          },
          {
           "color_by": "Random",
           "sample_id": 0,
           "timepoint": 73,
           "trajectory": "Random",
           "value": 4.510997334218312
          },
          {
           "color_by": "Random",
           "sample_id": 0,
           "timepoint": 74,
           "trajectory": "Random",
           "value": 4.476740733277231
          },
          {
           "color_by": "Random",
           "sample_id": 0,
           "timepoint": 75,
           "trajectory": "Random",
           "value": 4.443401841493456
          },
          {
           "color_by": "Random",
           "sample_id": 0,
           "timepoint": 76,
           "trajectory": "Random",
           "value": 4.411084597299493
          },
          {
           "color_by": "Random",
           "sample_id": 0,
           "timepoint": 77,
           "trajectory": "Random",
           "value": 4.37989022136893
          },
          {
           "color_by": "Random",
           "sample_id": 0,
           "timepoint": 78,
           "trajectory": "Random",
           "value": 4.3499169878901265
          },
          {
           "color_by": "Random",
           "sample_id": 0,
           "timepoint": 79,
           "trajectory": "Random",
           "value": 4.321260002335801
          },
          {
           "color_by": "Random",
           "sample_id": 0,
           "timepoint": 80,
           "trajectory": "Random",
           "value": 4.294010986278057
          },
          {
           "color_by": "Random",
           "sample_id": 0,
           "timepoint": 81,
           "trajectory": "Random",
           "value": 4.26825806977985
          },
          {
           "color_by": "Random",
           "sample_id": 0,
           "timepoint": 82,
           "trajectory": "Random",
           "value": 4.2440855918741685
          },
          {
           "color_by": "Random",
           "sample_id": 0,
           "timepoint": 83,
           "trajectory": "Random",
           "value": 4.221573909621487
          },
          {
           "color_by": "Random",
           "sample_id": 0,
           "timepoint": 84,
           "trajectory": "Random",
           "value": 4.200799216214372
          },
          {
           "color_by": "Random",
           "sample_id": 0,
           "timepoint": 85,
           "trajectory": "Random",
           "value": 4.181833368575353
          },
          {
           "color_by": "Random",
           "sample_id": 0,
           "timepoint": 86,
           "trajectory": "Random",
           "value": 4.164743724870612
          },
          {
           "color_by": "Random",
           "sample_id": 0,
           "timepoint": 87,
           "trajectory": "Random",
           "value": 4.149592992337493
          },
          {
           "color_by": "Random",
           "sample_id": 0,
           "timepoint": 88,
           "trajectory": "Random",
           "value": 4.136439085798484
          },
          {
           "color_by": "Random",
           "sample_id": 0,
           "timepoint": 89,
           "trajectory": "Random",
           "value": 4.125334997208226
          },
          {
           "color_by": "Random",
           "sample_id": 0,
           "timepoint": 90,
           "trajectory": "Random",
           "value": 4.11632867655317
          },
          {
           "color_by": "Random",
           "sample_id": 0,
           "timepoint": 91,
           "trajectory": "Random",
           "value": 4.109462924396004
          },
          {
           "color_by": "Random",
           "sample_id": 0,
           "timepoint": 92,
           "trajectory": "Random",
           "value": 4.104775296328764
          },
          {
           "color_by": "Random",
           "sample_id": 0,
           "timepoint": 93,
           "trajectory": "Random",
           "value": 4.10229801956984
          },
          {
           "color_by": "Random",
           "sample_id": 0,
           "timepoint": 94,
           "trajectory": "Random",
           "value": 4.102057921910828
          },
          {
           "color_by": "Random",
           "sample_id": 0,
           "timepoint": 95,
           "trajectory": "Random",
           "value": 4.1040763731895264
          },
          {
           "color_by": "Random",
           "sample_id": 0,
           "timepoint": 96,
           "trajectory": "Random",
           "value": 4.108369239435363
          },
          {
           "color_by": "Random",
           "sample_id": 0,
           "timepoint": 97,
           "trajectory": "Random",
           "value": 4.114946849803151
          },
          {
           "color_by": "Random",
           "sample_id": 0,
           "timepoint": 98,
           "trajectory": "Random",
           "value": 4.123813976380569
          },
          {
           "color_by": "Random",
           "sample_id": 0,
           "timepoint": 99,
           "trajectory": "Random",
           "value": 4.134969826923946
          },
          {
           "color_by": "Variance",
           "sample_id": 0,
           "timepoint": 0,
           "trajectory": "Variance",
           "value": 0.5676376351821035
          },
          {
           "color_by": "Variance",
           "sample_id": 0,
           "timepoint": 1,
           "trajectory": "Variance",
           "value": 1.5931570128635208
          },
          {
           "color_by": "Variance",
           "sample_id": 0,
           "timepoint": 2,
           "trajectory": "Variance",
           "value": 1.807866883636266
          },
          {
           "color_by": "Variance",
           "sample_id": 0,
           "timepoint": 3,
           "trajectory": "Variance",
           "value": 1.960203304359869
          },
          {
           "color_by": "Variance",
           "sample_id": 0,
           "timepoint": 4,
           "trajectory": "Variance",
           "value": 2.083762554119448
          },
          {
           "color_by": "Variance",
           "sample_id": 0,
           "timepoint": 5,
           "trajectory": "Variance",
           "value": 2.1902510938846085
          },
          {
           "color_by": "Variance",
           "sample_id": 0,
           "timepoint": 6,
           "trajectory": "Variance",
           "value": 2.2852573204805715
          },
          {
           "color_by": "Variance",
           "sample_id": 0,
           "timepoint": 7,
           "trajectory": "Variance",
           "value": 2.371920376916656
          },
          {
           "color_by": "Variance",
           "sample_id": 0,
           "timepoint": 8,
           "trajectory": "Variance",
           "value": 2.4521919725594095
          },
          {
           "color_by": "Variance",
           "sample_id": 0,
           "timepoint": 9,
           "trajectory": "Variance",
           "value": 2.5273732088211593
          },
          {
           "color_by": "Variance",
           "sample_id": 0,
           "timepoint": 10,
           "trajectory": "Variance",
           "value": 2.598376769225919
          },
          {
           "color_by": "Variance",
           "sample_id": 0,
           "timepoint": 11,
           "trajectory": "Variance",
           "value": 2.6658681656564567
          },
          {
           "color_by": "Variance",
           "sample_id": 0,
           "timepoint": 12,
           "trajectory": "Variance",
           "value": 2.7303476484197278
          },
          {
           "color_by": "Variance",
           "sample_id": 0,
           "timepoint": 13,
           "trajectory": "Variance",
           "value": 2.792200523109279
          },
          {
           "color_by": "Variance",
           "sample_id": 0,
           "timepoint": 14,
           "trajectory": "Variance",
           "value": 2.8517295269466625
          },
          {
           "color_by": "Variance",
           "sample_id": 0,
           "timepoint": 15,
           "trajectory": "Variance",
           "value": 2.90917647225752
          },
          {
           "color_by": "Variance",
           "sample_id": 0,
           "timepoint": 16,
           "trajectory": "Variance",
           "value": 2.964737186035949
          },
          {
           "color_by": "Variance",
           "sample_id": 0,
           "timepoint": 17,
           "trajectory": "Variance",
           "value": 3.0185721072610265
          },
          {
           "color_by": "Variance",
           "sample_id": 0,
           "timepoint": 18,
           "trajectory": "Variance",
           "value": 3.070813983018625
          },
          {
           "color_by": "Variance",
           "sample_id": 0,
           "timepoint": 19,
           "trajectory": "Variance",
           "value": 3.1215735735259735
          },
          {
           "color_by": "Variance",
           "sample_id": 0,
           "timepoint": 20,
           "trajectory": "Variance",
           "value": 3.170943958245355
          },
          {
           "color_by": "Variance",
           "sample_id": 0,
           "timepoint": 21,
           "trajectory": "Variance",
           "value": 3.2190038386212745
          },
          {
           "color_by": "Variance",
           "sample_id": 0,
           "timepoint": 22,
           "trajectory": "Variance",
           "value": 3.2658201078016043
          },
          {
           "color_by": "Variance",
           "sample_id": 0,
           "timepoint": 23,
           "trajectory": "Variance",
           "value": 3.311449875983003
          },
          {
           "color_by": "Variance",
           "sample_id": 0,
           "timepoint": 24,
           "trajectory": "Variance",
           "value": 3.3559420854502506
          },
          {
           "color_by": "Variance",
           "sample_id": 0,
           "timepoint": 25,
           "trajectory": "Variance",
           "value": 3.3993388121912984
          },
          {
           "color_by": "Variance",
           "sample_id": 0,
           "timepoint": 26,
           "trajectory": "Variance",
           "value": 3.4416763251591536
          },
          {
           "color_by": "Variance",
           "sample_id": 0,
           "timepoint": 27,
           "trajectory": "Variance",
           "value": 3.482985956037044
          },
          {
           "color_by": "Variance",
           "sample_id": 0,
           "timepoint": 28,
           "trajectory": "Variance",
           "value": 3.523294819312701
          },
          {
           "color_by": "Variance",
           "sample_id": 0,
           "timepoint": 29,
           "trajectory": "Variance",
           "value": 3.562626412986277
          },
          {
           "color_by": "Variance",
           "sample_id": 0,
           "timepoint": 30,
           "trajectory": "Variance",
           "value": 3.601001123259583
          },
          {
           "color_by": "Variance",
           "sample_id": 0,
           "timepoint": 31,
           "trajectory": "Variance",
           "value": 3.6384366513597635
          },
          {
           "color_by": "Variance",
           "sample_id": 0,
           "timepoint": 32,
           "trajectory": "Variance",
           "value": 3.6749483767403555
          },
          {
           "color_by": "Variance",
           "sample_id": 0,
           "timepoint": 33,
           "trajectory": "Variance",
           "value": 3.710549667929612
          },
          {
           "color_by": "Variance",
           "sample_id": 0,
           "timepoint": 34,
           "trajectory": "Variance",
           "value": 3.745252150013868
          },
          {
           "color_by": "Variance",
           "sample_id": 0,
           "timepoint": 35,
           "trajectory": "Variance",
           "value": 3.779065935976674
          },
          {
           "color_by": "Variance",
           "sample_id": 0,
           "timepoint": 36,
           "trajectory": "Variance",
           "value": 3.8119998277348164
          },
          {
           "color_by": "Variance",
           "sample_id": 0,
           "timepoint": 37,
           "trajectory": "Variance",
           "value": 3.8440614916269347
          },
          {
           "color_by": "Variance",
           "sample_id": 0,
           "timepoint": 38,
           "trajectory": "Variance",
           "value": 3.8752576122503237
          },
          {
           "color_by": "Variance",
           "sample_id": 0,
           "timepoint": 39,
           "trajectory": "Variance",
           "value": 3.9055940278552153
          },
          {
           "color_by": "Variance",
           "sample_id": 0,
           "timepoint": 40,
           "trajectory": "Variance",
           "value": 3.935075849954759
          },
          {
           "color_by": "Variance",
           "sample_id": 0,
           "timepoint": 41,
           "trajectory": "Variance",
           "value": 3.963707569363704
          },
          {
           "color_by": "Variance",
           "sample_id": 0,
           "timepoint": 42,
           "trajectory": "Variance",
           "value": 3.9914931505170683
          },
          {
           "color_by": "Variance",
           "sample_id": 0,
           "timepoint": 43,
           "trajectory": "Variance",
           "value": 4.018436115624544
          },
          {
           "color_by": "Variance",
           "sample_id": 0,
           "timepoint": 44,
           "trajectory": "Variance",
           "value": 4.044539619973765
          },
          {
           "color_by": "Variance",
           "sample_id": 0,
           "timepoint": 45,
           "trajectory": "Variance",
           "value": 4.069806519495311
          },
          {
           "color_by": "Variance",
           "sample_id": 0,
           "timepoint": 46,
           "trajectory": "Variance",
           "value": 4.094239431536364
          },
          {
           "color_by": "Variance",
           "sample_id": 0,
           "timepoint": 47,
           "trajectory": "Variance",
           "value": 4.117840789651735
          },
          {
           "color_by": "Variance",
           "sample_id": 0,
           "timepoint": 48,
           "trajectory": "Variance",
           "value": 4.140612893105379
          },
          {
           "color_by": "Variance",
           "sample_id": 0,
           "timepoint": 49,
           "trajectory": "Variance",
           "value": 4.162557951678597
          },
          {
           "color_by": "Variance",
           "sample_id": 0,
           "timepoint": 50,
           "trajectory": "Variance",
           "value": 4.183678126299279
          },
          {
           "color_by": "Variance",
           "sample_id": 0,
           "timepoint": 51,
           "trajectory": "Variance",
           "value": 4.203975565937493
          },
          {
           "color_by": "Variance",
           "sample_id": 0,
           "timepoint": 52,
           "trajectory": "Variance",
           "value": 4.223452441153972
          },
          {
           "color_by": "Variance",
           "sample_id": 0,
           "timepoint": 53,
           "trajectory": "Variance",
           "value": 4.242110974638148
          },
          {
           "color_by": "Variance",
           "sample_id": 0,
           "timepoint": 54,
           "trajectory": "Variance",
           "value": 4.259953469029668
          },
          {
           "color_by": "Variance",
           "sample_id": 0,
           "timepoint": 55,
           "trajectory": "Variance",
           "value": 4.2769823322807525
          },
          {
           "color_by": "Variance",
           "sample_id": 0,
           "timepoint": 56,
           "trajectory": "Variance",
           "value": 4.293200100785359
          },
          {
           "color_by": "Variance",
           "sample_id": 0,
           "timepoint": 57,
           "trajectory": "Variance",
           "value": 4.308609460474013
          },
          {
           "color_by": "Variance",
           "sample_id": 0,
           "timepoint": 58,
           "trajectory": "Variance",
           "value": 4.323213266049768
          },
          {
           "color_by": "Variance",
           "sample_id": 0,
           "timepoint": 59,
           "trajectory": "Variance",
           "value": 4.337014558520529
          },
          {
           "color_by": "Variance",
           "sample_id": 0,
           "timepoint": 60,
           "trajectory": "Variance",
           "value": 4.350016581165334
          },
          {
           "color_by": "Variance",
           "sample_id": 0,
           "timepoint": 61,
           "trajectory": "Variance",
           "value": 4.362222794056902
          },
          {
           "color_by": "Variance",
           "sample_id": 0,
           "timepoint": 62,
           "trajectory": "Variance",
           "value": 4.373636887249403
          },
          {
           "color_by": "Variance",
           "sample_id": 0,
           "timepoint": 63,
           "trajectory": "Variance",
           "value": 4.38426279272872
          },
          {
           "color_by": "Variance",
           "sample_id": 0,
           "timepoint": 64,
           "trajectory": "Variance",
           "value": 4.394104695212257
          },
          {
           "color_by": "Variance",
           "sample_id": 0,
           "timepoint": 65,
           "trajectory": "Variance",
           "value": 4.403167041876387
          },
          {
           "color_by": "Variance",
           "sample_id": 0,
           "timepoint": 66,
           "trajectory": "Variance",
           "value": 4.4114545510817225
          },
          {
           "color_by": "Variance",
           "sample_id": 0,
           "timepoint": 67,
           "trajectory": "Variance",
           "value": 4.418972220159488
          },
          {
           "color_by": "Variance",
           "sample_id": 0,
           "timepoint": 68,
           "trajectory": "Variance",
           "value": 4.425725332316103
          },
          {
           "color_by": "Variance",
           "sample_id": 0,
           "timepoint": 69,
           "trajectory": "Variance",
           "value": 4.431719462707717
          },
          {
           "color_by": "Variance",
           "sample_id": 0,
           "timepoint": 70,
           "trajectory": "Variance",
           "value": 4.436960483731625
          },
          {
           "color_by": "Variance",
           "sample_id": 0,
           "timepoint": 71,
           "trajectory": "Variance",
           "value": 4.441454569577278
          },
          {
           "color_by": "Variance",
           "sample_id": 0,
           "timepoint": 72,
           "trajectory": "Variance",
           "value": 4.445208200075795
          },
          {
           "color_by": "Variance",
           "sample_id": 0,
           "timepoint": 73,
           "trajectory": "Variance",
           "value": 4.448228163883611
          },
          {
           "color_by": "Variance",
           "sample_id": 0,
           "timepoint": 74,
           "trajectory": "Variance",
           "value": 4.450521561032871
          },
          {
           "color_by": "Variance",
           "sample_id": 0,
           "timepoint": 75,
           "trajectory": "Variance",
           "value": 4.452095804878564
          },
          {
           "color_by": "Variance",
           "sample_id": 0,
           "timepoint": 76,
           "trajectory": "Variance",
           "value": 4.45295862347003
          },
          {
           "color_by": "Variance",
           "sample_id": 0,
           "timepoint": 77,
           "trajectory": "Variance",
           "value": 4.453118060372384
          },
          {
           "color_by": "Variance",
           "sample_id": 0,
           "timepoint": 78,
           "trajectory": "Variance",
           "value": 4.452582474961506
          },
          {
           "color_by": "Variance",
           "sample_id": 0,
           "timepoint": 79,
           "trajectory": "Variance",
           "value": 4.451360542214604
          },
          {
           "color_by": "Variance",
           "sample_id": 0,
           "timepoint": 80,
           "trajectory": "Variance",
           "value": 4.449461252016848
          },
          {
           "color_by": "Variance",
           "sample_id": 0,
           "timepoint": 81,
           "trajectory": "Variance",
           "value": 4.446893908003225
          },
          {
           "color_by": "Variance",
           "sample_id": 0,
           "timepoint": 82,
           "trajectory": "Variance",
           "value": 4.443668125953602
          },
          {
           "color_by": "Variance",
           "sample_id": 0,
           "timepoint": 83,
           "trajectory": "Variance",
           "value": 4.439793831757898
          },
          {
           "color_by": "Variance",
           "sample_id": 0,
           "timepoint": 84,
           "trajectory": "Variance",
           "value": 4.435281258967288
          },
          {
           "color_by": "Variance",
           "sample_id": 0,
           "timepoint": 85,
           "trajectory": "Variance",
           "value": 4.430140945946573
          },
          {
           "color_by": "Variance",
           "sample_id": 0,
           "timepoint": 86,
           "trajectory": "Variance",
           "value": 4.424383732641996
          },
          {
           "color_by": "Variance",
           "sample_id": 0,
           "timepoint": 87,
           "trajectory": "Variance",
           "value": 4.418020756978184
          },
          {
           "color_by": "Variance",
           "sample_id": 0,
           "timepoint": 88,
           "trajectory": "Variance",
           "value": 4.411063450897219
          },
          {
           "color_by": "Variance",
           "sample_id": 0,
           "timepoint": 89,
           "trajectory": "Variance",
           "value": 4.4035235360523215
          },
          {
           "color_by": "Variance",
           "sample_id": 0,
           "timepoint": 90,
           "trajectory": "Variance",
           "value": 4.395413019168156
          },
          {
           "color_by": "Variance",
           "sample_id": 0,
           "timepoint": 91,
           "trajectory": "Variance",
           "value": 4.386744187079267
          },
          {
           "color_by": "Variance",
           "sample_id": 0,
           "timepoint": 92,
           "trajectory": "Variance",
           "value": 4.377529601457846
          },
          {
           "color_by": "Variance",
           "sample_id": 0,
           "timepoint": 93,
           "trajectory": "Variance",
           "value": 4.3677820932416065
          },
          {
           "color_by": "Variance",
           "sample_id": 0,
           "timepoint": 94,
           "trajectory": "Variance",
           "value": 4.3575147567722805
          },
          {
           "color_by": "Variance",
           "sample_id": 0,
           "timepoint": 95,
           "trajectory": "Variance",
           "value": 4.346740943654929
          },
          {
           "color_by": "Variance",
           "sample_id": 0,
           "timepoint": 96,
           "trajectory": "Variance",
           "value": 4.335474256348055
          },
          {
           "color_by": "Variance",
           "sample_id": 0,
           "timepoint": 97,
           "trajectory": "Variance",
           "value": 4.32372854149425
          },
          {
           "color_by": "Variance",
           "sample_id": 0,
           "timepoint": 98,
           "trajectory": "Variance",
           "value": 4.311517883000916
          },
          {
           "color_by": "Variance",
           "sample_id": 0,
           "timepoint": 99,
           "trajectory": "Variance",
           "value": 4.2988565948804345
          }
         ]
        },
        {
         "name": "points",
         "values": []
        },
        {
         "name": "markers",
         "values": []
        },
        {
         "name": "selected",
         "on": [
          {
           "remove": true,
           "trigger": "clear"
          },
          {
           "remove": true,
           "trigger": "!shift"
          },
          {
           "insert": "clicked",
           "trigger": "!shift && clicked"
          },
          {
           "toggle": "clicked",
           "trigger": "shift && clicked"
          }
         ]
        },
        {
         "name": "selectedData",
         "on": [
          {
           "remove": true,
           "trigger": "clearData"
          },
          {
           "toggle": "clickedData",
           "trigger": "clickedData"
          }
         ]
        }
       ],
       "height": 300,
       "legends": [
        {
         "encode": {
          "labels": {
           "interactive": true,
           "name": "legendLabel",
           "size": {
            "value": 25
           },
           "update": {
            "opacity": [
             {
              "test": "!length(data('selectedData')) || indata('selectedData', 'value', datum.value)",
              "value": 1
             },
             {
              "value": 0.25
             }
            ]
           }
          },
          "symbols": {
           "interactive": true,
           "name": "legendSymbol",
           "update": {
            "fill": {
             "value": "transparent"
            },
            "opacity": [
             {
              "test": "!length(data('selected')) || indata('selected', 'value', datum.value) || indata('selectedData', 'value', datum.value)",
              "value": 0.7
             },
             {
              "value": 0.15
             }
            ],
            "size": {
             "value": 64
            },
            "strokeWidth": {
             "value": 2
            }
           }
          }
         },
         "name": "color_legend",
         "orient": "left",
         "stroke": "color"
        }
       ],
       "marks": [
        {
         "from": {
          "facet": {
           "data": "points",
           "groupby": "trajectory",
           "name": "points_split"
          }
         },
         "marks": [
          {
           "encode": {
            "hover": {
             "fillOpacity": {
              "value": 0.9
             }
            },
            "update": {
             "fill": {
              "field": "trajectory",
              "scale": "color"
             },
             "fillOpacity": [
              {
               "test": "!length(data('selected')) || indata('selected', 'value', datum.trajectory)",
               "value": 0.5
              },
              {
               "value": 0.15
              }
             ],
             "size": {
              "value": 35
             },
             "stroke": {
              "field": "trajectory",
              "scale": "color"
             },
             "strokeOpacity": [
              {
               "test": "!length(data('selected')) || indata('selected', 'value', datum.trajectory)",
               "value": 0.75
              },
              {
               "value": 0.15
              }
             ],
             "strokeWidth": {
              "value": 2
             },
             "tooltip": {
              "field": "value"
             },
             "x": {
              "field": "timepoint",
              "scale": "xscale"
             },
             "y": {
              "field": "value",
              "scale": "yscale"
             }
            }
           },
           "from": {
            "data": "points_split"
           },
           "name": "_points_symbol",
           "type": "symbol",
           "zindex": 3
          },
          {
           "encode": {
            "hover": {
             "fillOpacity": {
              "value": 0.9
             }
            },
            "update": {
             "interpolate": {
              "value": "linear"
             },
             "stroke": {
              "field": "trajectory",
              "scale": "color"
             },
             "strokeDash": {
              "value": [
               5,
               3
              ]
             },
             "strokeOpacity": [
              {
               "test": "!length(data('selected')) || indata('selected', 'value', datum.trajectory)",
               "value": 0.3
              },
              {
               "value": 0.1
              }
             ],
             "strokeWidth": {
              "value": 2
             },
             "x": {
              "field": "timepoint",
              "scale": "xscale"
             },
             "y": {
              "field": "value",
              "scale": "yscale"
             }
            }
           },
           "from": {
            "data": "points_split"
           },
           "name": "_points_line",
           "type": "line",
           "zindex": 3
          }
         ],
         "name": "_points",
         "type": "group",
         "zindex": 3
        },
        {
         "from": {
          "facet": {
           "data": "traces",
           "groupby": "trajectory",
           "name": "traces_split"
          }
         },
         "marks": [
          {
           "encode": {
            "hover": {
             "fillOpacity": {
              "value": 0.9
             }
            },
            "update": {
             "interpolate": {
              "value": "linear"
             },
             "stroke": {
              "field": "trajectory",
              "scale": "color"
             },
             "strokeDash": [
              {
               "test": "indexof(datum.trajectory, 'Baseline') != -1 || indexof(datum.trajectory, 'Envelope') != -1",
               "value": [
                8,
                4
               ]
              },
              {
               "value": [
                1,
                0
               ]
              }
             ],
             "strokeOpacity": [
              {
               "test": "!length(data('selected')) || indata('selected', 'value', datum.trajectory)",
               "value": 0.75
              },
              {
               "value": 0.15
              }
             ],
             "strokeWidth": {
              "value": 2
             },
             "x": {
              "field": "timepoint",
              "scale": "xscale"
             },
             "y": {
              "field": "value",
              "scale": "yscale"
             }
            }
           },
           "from": {
            "data": "traces_split"
           },
           "name": "_traces_lines",
           "type": "line"
          }
         ],
         "name": "_traces",
         "type": "group",
         "zindex": 2
        },
        {
         "from": {
          "facet": {
           "data": "distributions",
           "groupby": "trajectory",
           "name": "trajectory_split"
          }
         },
         "marks": [
          {
           "encode": {
            "hover": {
             "fillOpacity": {
              "value": 0.9
             }
            },
            "update": {
             "fill": {
              "field": "trajectory",
              "scale": "color"
             },
             "fillOpacity": [
              {
               "test": "!length(data('selected')) || indata('selected', 'value', datum.trajectory)",
               "value": 0.1
              },
              {
               "value": 0.05
              }
             ],
             "interpolate": {
              "value": "linear"
             },
             "stroke": {
              "field": "trajectory",
              "scale": "color"
             },
             "strokeOpacity": [
              {
               "test": "!length(data('selected')) || indata('selected', 'value', datum.trajectory)",
               "value": 0.1
              },
              {
               "value": 0.05
              }
             ],
             "strokeWidth": {
              "value": 2
             },
             "x": {
              "field": "timepoint",
              "scale": "xscale"
             },
             "y": {
              "field": "upper",
              "scale": "yscale"
             },
             "y2": {
              "field": "lower",
              "scale": "yscale"
             }
            }
           },
           "from": {
            "data": "trajectory_split"
           },
           "interactive": true,
           "name": "area",
           "type": "area"
          }
         ],
         "name": "_distributions",
         "type": "group",
         "zindex": 1
        },
        {
         "marks": [
          {
           "encode": {
            "enter": {
             "stroke": {
              "value": "lightgray"
             }
            },
            "update": {
             "opacity": {
              "value": 1
             },
             "x": {
              "field": "timepoint",
              "scale": "xscale"
             },
             "y": {
              "signal": "height"
             },
             "y2": {
              "value": 0
             }
            }
           },
           "from": {
            "data": "markers"
           },
           "name": "_marker text",
           "type": "rule"
          },
          {
           "encode": {
            "enter": {
             "fontSize": {
              "value": 8
             },
             "text": {
              "field": "datum.label"
             },
             "y": {
              "value": 0
             }
            }
           },
           "from": {
            "data": "_marker text"
           },
           "name": "_marker flags",
           "transform": [
            {
             "as": [
              "x",
              "_y",
              "opacity",
              "align",
              "baseline"
             ],
             "lineAnchor": "start",
             "offset": [
              1
             ],
             "size": {
              "signal": "[width, height]"
             },
             "type": "label"
            }
           ],
           "type": "text"
          }
         ],
         "name": "_markers",
         "type": "group"
        }
       ],
       "scales": [
        {
         "domain": {
          "fields": [
           {
            "data": "distributions",
            "field": "timepoint"
           },
           {
            "data": "traces",
            "field": "timepoint"
           },
           {
            "data": "points",
            "field": "timepoint"
           },
           {
            "data": "markers",
            "field": "timepoint"
           }
          ]
         },
         "name": "xscale",
         "range": "width",
         "type": "linear",
         "zero": false
        },
        {
         "domain": {
          "fields": [
           {
            "data": "distributions",
            "field": "lower"
           },
           {
            "data": "distributions",
            "field": "upper"
           },
           {
            "data": "traces",
            "field": "value"
           },
           {
            "data": "points",
            "field": "value"
           }
          ]
         },
         "name": "yscale",
         "nice": true,
         "range": "height",
         "type": "linear",
         "zero": true
        },
        {
         "domain": {
          "fields": [
           {
            "data": "distributions",
            "field": "trajectory"
           },
           {
            "data": "traces",
            "field": "trajectory"
           },
           {
            "data": "points",
            "field": "trajectory"
           }
          ],
          "sort": {
           "order": "ascending"
          }
         },
         "name": "color",
         "range": "category",
         "type": "ordinal"
        }
       ],
       "signals": [
        {
         "name": "clear",
         "on": [
          {
           "events": "mouseup[!event.item]",
           "force": true,
           "update": "true"
          }
         ],
         "value": true
        },
        {
         "name": "shift",
         "on": [
          {
           "events": "@legendSymbol:click, @legendLabel:click",
           "force": true,
           "update": "event.shiftKey"
          }
         ],
         "value": false
        },
        {
         "name": "clicked",
         "on": [
          {
           "events": "@legendSymbol:click, @legendLabel:click",
           "force": true,
           "update": "{value: datum.value}"
          }
         ],
         "value": null
        },
        {
         "name": "clearData",
         "on": [
          {
           "events": "mouseup[!event.item]",
           "force": true,
           "update": "true"
          }
         ],
         "value": true
        },
        {
         "name": "clickedData",
         "on": [
          {
           "events": "@area:click",
           "force": true,
           "update": "{value: datum.trajectory}"
          }
         ],
         "value": null
        }
       ],
       "width": 500
      }
     },
     "metadata": {},
     "output_type": "display_data"
    },
    {
     "name": "stderr",
     "output_type": "stream",
     "text": [
      "/var/folders/vn/q5vrjvfn60bfsnnd058cb6ww0000gn/T/ipykernel_795/305227323.py:106: FutureWarning: The provided callable <function mean at 0x10d51e170> is currently using DataFrameGroupBy.mean. In a future version of pandas, the provided callable will be used directly. To keep current behavior pass the string \"mean\" instead.\n",
      "  parameters_by_sample_id = all_parameters_cluster.groupby(\"sample_id\").agg(np.mean)\n",
      "/var/folders/vn/q5vrjvfn60bfsnnd058cb6ww0000gn/T/ipykernel_795/305227323.py:107: FutureWarning: The provided callable <function mean at 0x10d51e170> is currently using Series.mean. In a future version of pandas, the provided callable will be used directly. To keep current behavior pass the string \"mean\" instead.\n",
      "  parameters_by_sample_id  = parameters_by_sample_id.agg([np.mean, np.std]).reset_index()\n",
      "/var/folders/vn/q5vrjvfn60bfsnnd058cb6ww0000gn/T/ipykernel_795/305227323.py:107: FutureWarning: The provided callable <function std at 0x10d51e290> is currently using Series.std. In a future version of pandas, the provided callable will be used directly. To keep current behavior pass the string \"std\" instead.\n",
      "  parameters_by_sample_id  = parameters_by_sample_id.agg([np.mean, np.std]).reset_index()\n"
     ]
    }
   ],
   "source": [
    "\n",
    "name = \"Freq_Change\" #All_Changes\n",
    "timepoint_list = []\n",
    "sine_list = []\n",
    "sample_list = []\n",
    "\n",
    "\n",
    "def save_result(data, name, ref_ext):\n",
    "    \"\"\"Save new reference files\"\"\"\n",
    "    _output_root = 'output'\n",
    "    mode = \"w\" if ref_ext == \"svg\" else \"wb\"\n",
    "    with open(os.path.join(_output_root, f\"{name}.{ref_ext}\"), mode) as f:\n",
    "        f.write(data)\n",
    "kmean = True\n",
    "run_functions =  [name] #[\"Straight\", \"Amp_Change\", \"Freq_Change\", \"Phase_Change\"]# #, [name]\n",
    "n_cluster = 3\n",
    "# create sine fucntions\n",
    "def return_sine_function_3(function_name):\n",
    "        if function_name == \"Straight\":\n",
    "                a, b, c, d = 0, 0, 0, random.uniform(0, 2)\n",
    "                a2, b2, c2, d2 = 0, 0, 0, 1\n",
    "        if function_name == \"Amp_Change\":\n",
    "                a, b, c, d = 1*random.uniform(0, 2), .25, 2*np.pi, random.uniform(0, 2)\n",
    "                a2, b2, c2, d2 = 1, .25, 2*np.pi, 1\n",
    "        if function_name == \"Freq_Change\":\n",
    "                a, b, c, d = 1, .25*random.uniform(0, 2), 2*np.pi, random.uniform(0, 2)\n",
    "                a2, b2, c2, d2 = 1, .25, 2*np.pi, 1\n",
    "        if function_name == \"Phase_Change\":\n",
    "                a, b, c, d = 1, .25, 2*np.pi*random.uniform(0, 2), random.uniform(0, 2)\n",
    "                a2, b2, c2, d2 = 1, .25, 2*np.pi, 1\n",
    "        def sine_function(x):\n",
    "                return np.power(x, .25) + a*np.sin(b*x + c) + d\n",
    "        def sine_function_default(x):\n",
    "                return np.power(x, .25) + a2*np.sin(b2*x + c2) + d2\n",
    "        function_parameters_individual = {'a': a,  'b': b, 'c': c,  'd': d}\n",
    "        function_parameters_default = {'a': a2, 'b': b2, 'c': c2, 'd': d2}\n",
    "        \n",
    "        return sine_function, sine_function_default, function_parameters_individual, function_parameters_default\n",
    "\n",
    "function_dataframe = pd.DataFrame(columns=['functions', 'sample_id', 'a', 'b',  'c',  'd'])\n",
    "function_list = []\n",
    "j = 0\n",
    "all_functions ={}\n",
    "\n",
    "# create sine dataframes and save the parameters used\n",
    "for funct_name in run_functions:\n",
    "        for _ in range(100):\n",
    "                j+=1\n",
    "                timepoint_list.extend([x for x in range(100)])\n",
    "                sample_list.extend([j]*100)\n",
    "                random_function,  sine_function_default, function_parameters_individual, function_parameters_default = return_sine_function_3(funct_name)\n",
    "\n",
    "                function_parameters_individual['functions'] = funct_name\n",
    "                function_parameters_individual['sample_id'] = j\n",
    "                function_list.append(function_parameters_individual)\n",
    "                sine_list.extend([random_function(x) for x in range(100)])\n",
    "        all_functions[funct_name] = sine_function_default \n",
    "        function_parameters_default['functions'] = funct_name + \" Default\"\n",
    "        function_parameters_default['sample_id'] = None\n",
    "\n",
    "#keep track of parameters\n",
    "function_dataframe = pd.DataFrame(function_list)\n",
    "function_default_dataframe =  pd.DataFrame(function_parameters_default, index=[0])\n",
    "\n",
    "\n",
    "sine_distribution= pd.DataFrame({'timepoint_id' : timepoint_list,\n",
    "                   'sample_id' : sample_list,\n",
    "                   'Example': sine_list})\n",
    "\n",
    "\n",
    "traces_list = []   \n",
    "\n",
    "# get examplary lines\n",
    "#change kmean here to use clustering\n",
    "examplary_line, trajectory_dict = pyciemss.visuals.trajectories.select_traces(sine_distribution,  select_by_list = ['mean', \"variance\", 'chaos', 'random'], kmean=kmean, n_clusters = n_cluster)\n",
    "# get the sample'id for the examplary data used per sample_id and select_by\n",
    "best_samples_cluster = examplary_line[['sample_id', 'select_by', 'cluster']].drop_duplicates()\n",
    "best_samples_df_list = []\n",
    "parameters_by_sample_id_list = []\n",
    "# for each cluster create a new plot\n",
    "for cluster in list(np.unique(examplary_line['cluster'])): \n",
    "        # for distribution only use the sample_ids in the cluster\n",
    "       \n",
    "        cluster_sample_id = trajectory_dict[cluster.lower()]['cluster_sample_id']  \n",
    "        cluster_sine_distribution =  sine_distribution[sine_distribution[\"sample_id\"].isin(cluster_sample_id)]\n",
    "        current_cluster_df = examplary_line[examplary_line['cluster'] == cluster]\n",
    "        current_cluster_df = current_cluster_df.reset_index()\n",
    "        # get right format to use as traces\n",
    "        examplary_lines_pivot = current_cluster_df[['examplary_line', 'envelope_mean', 'timepoint', 'select_by']].pivot_table(\n",
    "        values=\"examplary_line\", index = [\"timepoint\", 'envelope_mean'], columns=\"select_by\"\n",
    "        )\n",
    "        examplary_lines_pivot = examplary_lines_pivot.reset_index()\n",
    "        examplary_lines_pivot = examplary_lines_pivot.rename(columns = {'envelope_mean': 'Envelope_Mean'})\n",
    "        if len(run_functions) == 1 and not kmean:\n",
    "                # get baseline for sine functions\n",
    "                for function_name, function in all_functions.items():\n",
    "                        examplary_lines_pivot[\"Baseline_\" + function_name.title()] = [function(x) for x in range(100)]\n",
    "        #plot the traces along with the baselines\n",
    "        schema = plots.trajectories(cluster_sine_distribution[['timepoint_id', 'sample_id', 'Example']], traces = examplary_lines_pivot)\n",
    "        path = \"{}_{}\".format(name, cluster)\n",
    "        image = plots.ipy_display(schema, format=\"PNG\").data\n",
    "        save_result(image, path, \"png\")\n",
    "        plots.ipy_display(schema, format=\"interactive\")\n",
    "\n",
    "        # get average and std of parameter cluster\n",
    "        all_parameters_cluster = cluster_sine_distribution.merge(function_dataframe, how=\"inner\", on=\"sample_id\")[['sample_id', 'a', 'b', 'c', 'd']]\n",
    "        parameters_by_sample_id = all_parameters_cluster.groupby(\"sample_id\").agg(np.mean)\n",
    "        parameters_by_sample_id  = parameters_by_sample_id.agg([np.mean, np.std]).reset_index()\n",
    "        parameters_by_sample_id['cluster'] = cluster\n",
    "        parameters_by_sample_id['num'] = len(cluster_sample_id)\n",
    "        parameters_by_sample_id_list.append(parameters_by_sample_id)\n",
    "parameters_metrics = pd.concat(parameters_by_sample_id_list)\n",
    "\n",
    "parameters_metrics.to_csv(\"output/{}_parameter_info.csv\".format(name))\n",
    "if len(run_functions) == 1 and not kmean:\n",
    "        # clean up table to get the parameters of the samples id's used for examplary\n",
    "        all_clusters = best_samples_cluster.merge(function_dataframe, how=\"inner\", on=\"sample_id\")\n",
    "        all_clusters = pd.concat([all_clusters, function_default_dataframe])[['functions', 'select_by', 'a', 'b', 'c', 'd']]\n",
    "        all_clusters = all_clusters.rename(columns = {'functions': 'Function Name', 'select_by': \"Selection Method\"})\n",
    "        all_clusters[\"Function Name\"] = all_clusters[\"Function Name\"].apply(lambda x: x.replace(\"_\", \" \").title())\n",
    "        all_clusters[\"Examplar #\"] = all_clusters[\"Selection Method\"].apply(lambda x: 1 if len(str(x).split(\"_\")) < 2 else str(x).split(\"_\")[1])\n",
    "        all_clusters[\"Selection Method\"] = all_clusters[\"Selection Method\"].apply(lambda x:  str(x).split(\"_\")[0])\n",
    "        all_clusters = all_clusters.round(2)\n",
    "\n",
    "\n",
    "        all_clusters.to_csv(\"output/{}.csv\".format(name))\n",
    "        # table with sine variables of starting function and the formula of the best select_by lines and metrics1"
   ]
  },
  {
   "cell_type": "code",
   "execution_count": 28,
   "metadata": {},
   "outputs": [
    {
     "name": "stdout",
     "output_type": "stream",
     "text": [
      "\n",
      "Granger Causality\n",
      "number of lags (no zero) 10\n",
      "ssr based F test:         F=1.1024  , p=0.3729  , df_denom=69, df_num=10\n",
      "ssr based chi2 test:   chi2=14.3796 , p=0.1564  , df=10\n",
      "likelihood ratio test: chi2=13.3402 , p=0.2053  , df=10\n",
      "parameter F test:         F=1.1024  , p=0.3729  , df_denom=69, df_num=10\n",
      "\n",
      "Granger Causality\n",
      "number of lags (no zero) 10\n",
      "ssr based F test:         F=1.8457  , p=0.0685  , df_denom=69, df_num=10\n",
      "ssr based chi2 test:   chi2=24.0749 , p=0.0074  , df=10\n",
      "likelihood ratio test: chi2=21.3341 , p=0.0189  , df=10\n",
      "parameter F test:         F=1.8457  , p=0.0685  , df_denom=69, df_num=10\n",
      "\n",
      "Granger Causality\n",
      "number of lags (no zero) 10\n",
      "ssr based F test:         F=1.4706  , p=0.1694  , df_denom=69, df_num=10\n",
      "ssr based chi2 test:   chi2=19.1812 , p=0.0380  , df=10\n",
      "likelihood ratio test: chi2=17.3879 , p=0.0662  , df=10\n",
      "parameter F test:         F=1.4706  , p=0.1694  , df_denom=69, df_num=10\n",
      "\n",
      "Granger Causality\n",
      "number of lags (no zero) 10\n",
      "ssr based F test:         F=1.4215  , p=0.1894  , df_denom=69, df_num=10\n",
      "ssr based chi2 test:   chi2=18.5415 , p=0.0465  , df=10\n",
      "likelihood ratio test: chi2=16.8591 , p=0.0775  , df=10\n",
      "parameter F test:         F=1.4215  , p=0.1894  , df_denom=69, df_num=10\n",
      "\n",
      "Granger Causality\n",
      "number of lags (no zero) 10\n",
      "ssr based F test:         F=0.6765  , p=0.7423  , df_denom=69, df_num=10\n",
      "ssr based chi2 test:   chi2=8.8245  , p=0.5488  , df=10\n",
      "likelihood ratio test: chi2=8.4183  , p=0.5881  , df=10\n",
      "parameter F test:         F=0.6765  , p=0.7423  , df_denom=69, df_num=10\n",
      "\n",
      "Granger Causality\n",
      "number of lags (no zero) 10\n",
      "ssr based F test:         F=0.4925  , p=0.8893  , df_denom=69, df_num=10\n",
      "ssr based chi2 test:   chi2=6.4243  , p=0.7784  , df=10\n",
      "likelihood ratio test: chi2=6.2054  , p=0.7977  , df=10\n",
      "parameter F test:         F=0.4925  , p=0.8893  , df_denom=69, df_num=10\n",
      "\n",
      "Granger Causality\n",
      "number of lags (no zero) 10\n",
      "ssr based F test:         F=0.5488  , p=0.8492  , df_denom=69, df_num=10\n",
      "ssr based chi2 test:   chi2=7.1578  , p=0.7105  , df=10\n",
      "likelihood ratio test: chi2=6.8874  , p=0.7360  , df=10\n",
      "parameter F test:         F=0.5488  , p=0.8492  , df_denom=69, df_num=10\n",
      "\n",
      "Granger Causality\n",
      "number of lags (no zero) 10\n",
      "ssr based F test:         F=0.5190  , p=0.8711  , df_denom=69, df_num=10\n",
      "ssr based chi2 test:   chi2=6.7699  , p=0.7470  , df=10\n",
      "likelihood ratio test: chi2=6.5274  , p=0.7692  , df=10\n",
      "parameter F test:         F=0.5190  , p=0.8711  , df_denom=69, df_num=10\n",
      "\n",
      "Granger Causality\n",
      "number of lags (no zero) 10\n",
      "ssr based F test:         F=0.7848  , p=0.6431  , df_denom=69, df_num=10\n",
      "ssr based chi2 test:   chi2=10.2367 , p=0.4200  , df=10\n",
      "likelihood ratio test: chi2=9.6953  , p=0.4676  , df=10\n",
      "parameter F test:         F=0.7848  , p=0.6431  , df_denom=69, df_num=10\n",
      "\n",
      "Granger Causality\n",
      "number of lags (no zero) 10\n",
      "ssr based F test:         F=0.5418  , p=0.8544  , df_denom=69, df_num=10\n",
      "ssr based chi2 test:   chi2=7.0671  , p=0.7191  , df=10\n",
      "likelihood ratio test: chi2=6.8033  , p=0.7439  , df=10\n",
      "parameter F test:         F=0.5418  , p=0.8544  , df_denom=69, df_num=10\n",
      "\n",
      "Granger Causality\n",
      "number of lags (no zero) 10\n",
      "ssr based F test:         F=0.4836  , p=0.8952  , df_denom=69, df_num=10\n",
      "ssr based chi2 test:   chi2=6.3076  , p=0.7888  , df=10\n",
      "likelihood ratio test: chi2=6.0964  , p=0.8071  , df=10\n",
      "parameter F test:         F=0.4836  , p=0.8952  , df_denom=69, df_num=10\n",
      "\n",
      "Granger Causality\n",
      "number of lags (no zero) 10\n",
      "ssr based F test:         F=0.6214  , p=0.7905  , df_denom=69, df_num=10\n",
      "ssr based chi2 test:   chi2=8.1053  , p=0.6186  , df=10\n",
      "likelihood ratio test: chi2=7.7608  , p=0.6522  , df=10\n",
      "parameter F test:         F=0.6214  , p=0.7905  , df_denom=69, df_num=10\n",
      "\n",
      "Granger Causality\n",
      "number of lags (no zero) 10\n",
      "ssr based F test:         F=0.7175  , p=0.7052  , df_denom=69, df_num=10\n",
      "ssr based chi2 test:   chi2=9.3589  , p=0.4984  , df=10\n",
      "likelihood ratio test: chi2=8.9036  , p=0.5413  , df=10\n",
      "parameter F test:         F=0.7175  , p=0.7052  , df_denom=69, df_num=10\n",
      "\n",
      "Granger Causality\n",
      "number of lags (no zero) 10\n",
      "ssr based F test:         F=0.4921  , p=0.8896  , df_denom=69, df_num=10\n",
      "ssr based chi2 test:   chi2=6.4181  , p=0.7790  , df=10\n",
      "likelihood ratio test: chi2=6.1996  , p=0.7982  , df=10\n",
      "parameter F test:         F=0.4921  , p=0.8896  , df_denom=69, df_num=10\n",
      "\n",
      "Granger Causality\n",
      "number of lags (no zero) 10\n",
      "ssr based F test:         F=0.9950  , p=0.4564  , df_denom=69, df_num=10\n",
      "ssr based chi2 test:   chi2=12.9785 , p=0.2249  , df=10\n",
      "likelihood ratio test: chi2=12.1239 , p=0.2768  , df=10\n",
      "parameter F test:         F=0.9950  , p=0.4564  , df_denom=69, df_num=10\n",
      "\n",
      "Granger Causality\n",
      "number of lags (no zero) 10\n",
      "ssr based F test:         F=1.6948  , p=0.0995  , df_denom=69, df_num=10\n",
      "ssr based chi2 test:   chi2=22.1067 , p=0.0146  , df=10\n",
      "likelihood ratio test: chi2=19.7677 , p=0.0315  , df=10\n",
      "parameter F test:         F=1.6948  , p=0.0995  , df_denom=69, df_num=10\n",
      "\n",
      "Granger Causality\n",
      "number of lags (no zero) 10\n",
      "ssr based F test:         F=0.5777  , p=0.8266  , df_denom=69, df_num=10\n",
      "ssr based chi2 test:   chi2=7.5357  , p=0.6741  , df=10\n",
      "likelihood ratio test: chi2=7.2368  , p=0.7029  , df=10\n",
      "parameter F test:         F=0.5777  , p=0.8266  , df_denom=69, df_num=10\n",
      "\n",
      "Granger Causality\n",
      "number of lags (no zero) 10\n",
      "ssr based F test:         F=1.0895  , p=0.3824  , df_denom=69, df_num=10\n",
      "ssr based chi2 test:   chi2=14.2106 , p=0.1636  , df=10\n",
      "likelihood ratio test: chi2=13.1944 , p=0.2130  , df=10\n",
      "parameter F test:         F=1.0895  , p=0.3824  , df_denom=69, df_num=10\n",
      "\n",
      "Granger Causality\n",
      "number of lags (no zero) 10\n",
      "ssr based F test:         F=1.0041  , p=0.4490  , df_denom=69, df_num=10\n",
      "ssr based chi2 test:   chi2=13.0964 , p=0.2183  , df=10\n",
      "likelihood ratio test: chi2=12.2270 , p=0.2702  , df=10\n",
      "parameter F test:         F=1.0041  , p=0.4490  , df_denom=69, df_num=10\n",
      "\n",
      "Granger Causality\n",
      "number of lags (no zero) 10\n",
      "ssr based F test:         F=0.9139  , p=0.5256  , df_denom=69, df_num=10\n",
      "ssr based chi2 test:   chi2=11.9210 , p=0.2904  , df=10\n",
      "likelihood ratio test: chi2=11.1950 , p=0.3425  , df=10\n",
      "parameter F test:         F=0.9139  , p=0.5256  , df_denom=69, df_num=10\n",
      "\n",
      "Granger Causality\n",
      "number of lags (no zero) 10\n",
      "ssr based F test:         F=1.2946  , p=0.2510  , df_denom=69, df_num=10\n",
      "ssr based chi2 test:   chi2=16.8858 , p=0.0769  , df=10\n",
      "likelihood ratio test: chi2=15.4756 , p=0.1157  , df=10\n",
      "parameter F test:         F=1.2946  , p=0.2510  , df_denom=69, df_num=10\n",
      "\n",
      "Granger Causality\n",
      "number of lags (no zero) 10\n",
      "ssr based F test:         F=1.0109  , p=0.4434  , df_denom=69, df_num=10\n",
      "ssr based chi2 test:   chi2=13.1856 , p=0.2135  , df=10\n",
      "likelihood ratio test: chi2=12.3047 , p=0.2652  , df=10\n",
      "parameter F test:         F=1.0109  , p=0.4434  , df_denom=69, df_num=10\n",
      "\n",
      "Granger Causality\n",
      "number of lags (no zero) 10\n",
      "ssr based F test:         F=1.4240  , p=0.1884  , df_denom=69, df_num=10\n",
      "ssr based chi2 test:   chi2=18.5743 , p=0.0460  , df=10\n",
      "likelihood ratio test: chi2=16.8863 , p=0.0769  , df=10\n",
      "parameter F test:         F=1.4240  , p=0.1884  , df_denom=69, df_num=10\n",
      "\n",
      "Granger Causality\n",
      "number of lags (no zero) 10\n",
      "ssr based F test:         F=1.4538  , p=0.1760  , df_denom=69, df_num=10\n",
      "ssr based chi2 test:   chi2=18.9629 , p=0.0407  , df=10\n",
      "likelihood ratio test: chi2=17.2078 , p=0.0699  , df=10\n",
      "parameter F test:         F=1.4538  , p=0.1760  , df_denom=69, df_num=10\n",
      "\n",
      "Granger Causality\n",
      "number of lags (no zero) 10\n",
      "ssr based F test:         F=0.9523  , p=0.4923  , df_denom=69, df_num=10\n",
      "ssr based chi2 test:   chi2=12.4216 , p=0.2578  , df=10\n",
      "likelihood ratio test: chi2=11.6360 , p=0.3102  , df=10\n",
      "parameter F test:         F=0.9523  , p=0.4923  , df_denom=69, df_num=10\n",
      "\n",
      "Granger Causality\n",
      "number of lags (no zero) 10\n",
      "ssr based F test:         F=0.5106  , p=0.8770  , df_denom=69, df_num=10\n",
      "ssr based chi2 test:   chi2=6.6605  , p=0.7571  , df=10\n",
      "likelihood ratio test: chi2=6.4256  , p=0.7783  , df=10\n",
      "parameter F test:         F=0.5106  , p=0.8770  , df_denom=69, df_num=10\n",
      "\n",
      "Granger Causality\n",
      "number of lags (no zero) 10\n",
      "ssr based F test:         F=1.0715  , p=0.3959  , df_denom=69, df_num=10\n",
      "ssr based chi2 test:   chi2=13.9763 , p=0.1741  , df=10\n",
      "likelihood ratio test: chi2=12.9918 , p=0.2241  , df=10\n",
      "parameter F test:         F=1.0715  , p=0.3959  , df_denom=69, df_num=10\n",
      "\n",
      "Granger Causality\n",
      "number of lags (no zero) 10\n",
      "ssr based F test:         F=1.6693  , p=0.1058  , df_denom=69, df_num=10\n",
      "ssr based chi2 test:   chi2=21.7733 , p=0.0163  , df=10\n",
      "likelihood ratio test: chi2=19.4996 , p=0.0344  , df=10\n",
      "parameter F test:         F=1.6693  , p=0.1058  , df_denom=69, df_num=10\n",
      "\n",
      "Granger Causality\n",
      "number of lags (no zero) 10\n",
      "ssr based F test:         F=2.3002  , p=0.0214  , df_denom=69, df_num=10\n",
      "ssr based chi2 test:   chi2=30.0026 , p=0.0009  , df=10\n",
      "likelihood ratio test: chi2=25.8933 , p=0.0039  , df=10\n",
      "parameter F test:         F=2.3002  , p=0.0214  , df_denom=69, df_num=10\n",
      "\n",
      "Granger Causality\n",
      "number of lags (no zero) 10\n",
      "ssr based F test:         F=0.4754  , p=0.9004  , df_denom=69, df_num=10\n",
      "ssr based chi2 test:   chi2=6.2007  , p=0.7981  , df=10\n",
      "likelihood ratio test: chi2=5.9965  , p=0.8156  , df=10\n",
      "parameter F test:         F=0.4754  , p=0.9004  , df_denom=69, df_num=10\n",
      "\n",
      "Granger Causality\n",
      "number of lags (no zero) 10\n",
      "ssr based F test:         F=0.3091  , p=0.9764  , df_denom=69, df_num=10\n",
      "ssr based chi2 test:   chi2=4.0314  , p=0.9459  , df=10\n",
      "likelihood ratio test: chi2=3.9437  , p=0.9499  , df=10\n",
      "parameter F test:         F=0.3091  , p=0.9764  , df_denom=69, df_num=10\n",
      "\n",
      "Granger Causality\n",
      "number of lags (no zero) 10\n",
      "ssr based F test:         F=0.7273  , p=0.6962  , df_denom=69, df_num=10\n",
      "ssr based chi2 test:   chi2=9.4861  , p=0.4867  , df=10\n",
      "likelihood ratio test: chi2=9.0187  , p=0.5303  , df=10\n",
      "parameter F test:         F=0.7273  , p=0.6962  , df_denom=69, df_num=10\n",
      "\n",
      "Granger Causality\n",
      "number of lags (no zero) 10\n",
      "ssr based F test:         F=1.5942  , p=0.1268  , df_denom=69, df_num=10\n",
      "ssr based chi2 test:   chi2=20.7937 , p=0.0226  , df=10\n",
      "likelihood ratio test: chi2=18.7074 , p=0.0441  , df=10\n",
      "parameter F test:         F=1.5942  , p=0.1268  , df_denom=69, df_num=10\n",
      "\n",
      "Granger Causality\n",
      "number of lags (no zero) 10\n",
      "ssr based F test:         F=0.8732  , p=0.5620  , df_denom=69, df_num=10\n",
      "ssr based chi2 test:   chi2=11.3901 , p=0.3279  , df=10\n",
      "likelihood ratio test: chi2=10.7249 , p=0.3793  , df=10\n",
      "parameter F test:         F=0.8732  , p=0.5620  , df_denom=69, df_num=10\n",
      "\n",
      "Granger Causality\n",
      "number of lags (no zero) 10\n",
      "ssr based F test:         F=1.1329  , p=0.3512  , df_denom=69, df_num=10\n",
      "ssr based chi2 test:   chi2=14.7765 , p=0.1404  , df=10\n",
      "likelihood ratio test: chi2=13.6818 , p=0.1880  , df=10\n",
      "parameter F test:         F=1.1329  , p=0.3512  , df_denom=69, df_num=10\n",
      "\n",
      "Granger Causality\n",
      "number of lags (no zero) 10\n",
      "ssr based F test:         F=1.5883  , p=0.1285  , df_denom=69, df_num=10\n",
      "ssr based chi2 test:   chi2=20.7175 , p=0.0232  , df=10\n",
      "likelihood ratio test: chi2=18.6455 , p=0.0450  , df=10\n",
      "parameter F test:         F=1.5883  , p=0.1285  , df_denom=69, df_num=10\n",
      "\n",
      "Granger Causality\n",
      "number of lags (no zero) 10\n",
      "ssr based F test:         F=1.8032  , p=0.0762  , df_denom=69, df_num=10\n",
      "ssr based chi2 test:   chi2=23.5196 , p=0.0090  , df=10\n",
      "likelihood ratio test: chi2=20.8949 , p=0.0218  , df=10\n",
      "parameter F test:         F=1.8032  , p=0.0762  , df_denom=69, df_num=10\n",
      "\n",
      "Granger Causality\n",
      "number of lags (no zero) 10\n",
      "ssr based F test:         F=2.3691  , p=0.0179  , df_denom=69, df_num=10\n",
      "ssr based chi2 test:   chi2=30.9018 , p=0.0006  , df=10\n",
      "likelihood ratio test: chi2=26.5652 , p=0.0030  , df=10\n",
      "parameter F test:         F=2.3691  , p=0.0179  , df_denom=69, df_num=10\n",
      "\n",
      "Granger Causality\n",
      "number of lags (no zero) 10\n",
      "ssr based F test:         F=1.8004  , p=0.0767  , df_denom=69, df_num=10\n",
      "ssr based chi2 test:   chi2=23.4837 , p=0.0091  , df=10\n",
      "likelihood ratio test: chi2=20.8664 , p=0.0220  , df=10\n",
      "parameter F test:         F=1.8004  , p=0.0767  , df_denom=69, df_num=10\n",
      "\n",
      "Granger Causality\n",
      "number of lags (no zero) 10\n",
      "ssr based F test:         F=1.0177  , p=0.4379  , df_denom=69, df_num=10\n",
      "ssr based chi2 test:   chi2=13.2748 , p=0.2087  , df=10\n",
      "likelihood ratio test: chi2=12.3825 , p=0.2603  , df=10\n",
      "parameter F test:         F=1.0177  , p=0.4379  , df_denom=69, df_num=10\n",
      "\n",
      "Granger Causality\n",
      "number of lags (no zero) 10\n",
      "ssr based F test:         F=1.6794  , p=0.1033  , df_denom=69, df_num=10\n",
      "ssr based chi2 test:   chi2=21.9052 , p=0.0156  , df=10\n",
      "likelihood ratio test: chi2=19.6058 , p=0.0332  , df=10\n",
      "parameter F test:         F=1.6794  , p=0.1033  , df_denom=69, df_num=10\n",
      "\n",
      "Granger Causality\n",
      "number of lags (no zero) 10\n",
      "ssr based F test:         F=1.3329  , p=0.2309  , df_denom=69, df_num=10\n",
      "ssr based chi2 test:   chi2=17.3859 , p=0.0662  , df=10\n",
      "likelihood ratio test: chi2=15.8958 , p=0.1027  , df=10\n",
      "parameter F test:         F=1.3329  , p=0.2309  , df_denom=69, df_num=10\n",
      "\n",
      "Granger Causality\n",
      "number of lags (no zero) 10\n",
      "ssr based F test:         F=1.2433  , p=0.2800  , df_denom=69, df_num=10\n",
      "ssr based chi2 test:   chi2=16.2176 , p=0.0936  , df=10\n",
      "likelihood ratio test: chi2=14.9112 , p=0.1353  , df=10\n",
      "parameter F test:         F=1.2433  , p=0.2800  , df_denom=69, df_num=10\n",
      "\n",
      "Granger Causality\n",
      "number of lags (no zero) 10\n",
      "ssr based F test:         F=1.7082  , p=0.0963  , df_denom=69, df_num=10\n",
      "ssr based chi2 test:   chi2=22.2812 , p=0.0137  , df=10\n",
      "likelihood ratio test: chi2=19.9077 , p=0.0301  , df=10\n",
      "parameter F test:         F=1.7082  , p=0.0963  , df_denom=69, df_num=10\n",
      "\n",
      "Granger Causality\n",
      "number of lags (no zero) 10\n",
      "ssr based F test:         F=0.7118  , p=0.7104  , df_denom=69, df_num=10\n",
      "ssr based chi2 test:   chi2=9.2844  , p=0.5053  , df=10\n",
      "likelihood ratio test: chi2=8.8361  , p=0.5477  , df=10\n",
      "parameter F test:         F=0.7118  , p=0.7104  , df_denom=69, df_num=10\n",
      "\n",
      "Granger Causality\n",
      "number of lags (no zero) 10\n",
      "ssr based F test:         F=0.7624  , p=0.6638  , df_denom=69, df_num=10\n",
      "ssr based chi2 test:   chi2=9.9441  , p=0.4454  , df=10\n",
      "likelihood ratio test: chi2=9.4321  , p=0.4916  , df=10\n",
      "parameter F test:         F=0.7624  , p=0.6638  , df_denom=69, df_num=10\n",
      "\n",
      "Granger Causality\n",
      "number of lags (no zero) 10\n",
      "ssr based F test:         F=1.7727  , p=0.0822  , df_denom=69, df_num=10\n",
      "ssr based chi2 test:   chi2=23.1228 , p=0.0103  , df=10\n",
      "likelihood ratio test: chi2=20.5798 , p=0.0242  , df=10\n",
      "parameter F test:         F=1.7727  , p=0.0822  , df_denom=69, df_num=10\n",
      "\n",
      "Granger Causality\n",
      "number of lags (no zero) 10\n",
      "ssr based F test:         F=0.7487  , p=0.6765  , df_denom=69, df_num=10\n",
      "ssr based chi2 test:   chi2=9.7662  , p=0.4612  , df=10\n",
      "likelihood ratio test: chi2=9.2718  , p=0.5065  , df=10\n",
      "parameter F test:         F=0.7487  , p=0.6765  , df_denom=69, df_num=10\n",
      "\n",
      "Granger Causality\n",
      "number of lags (no zero) 10\n",
      "ssr based F test:         F=0.5742  , p=0.8295  , df_denom=69, df_num=10\n",
      "ssr based chi2 test:   chi2=7.4893  , p=0.6786  , df=10\n",
      "likelihood ratio test: chi2=7.1940  , p=0.7070  , df=10\n",
      "parameter F test:         F=0.5742  , p=0.8295  , df_denom=69, df_num=10\n",
      "\n",
      "Granger Causality\n",
      "number of lags (no zero) 10\n",
      "ssr based F test:         F=1.4259  , p=0.1875  , df_denom=69, df_num=10\n",
      "ssr based chi2 test:   chi2=18.5991 , p=0.0457  , df=10\n",
      "likelihood ratio test: chi2=16.9068 , p=0.0765  , df=10\n",
      "parameter F test:         F=1.4259  , p=0.1875  , df_denom=69, df_num=10\n",
      "\n",
      "Granger Causality\n",
      "number of lags (no zero) 10\n",
      "ssr based F test:         F=0.8667  , p=0.5679  , df_denom=69, df_num=10\n",
      "ssr based chi2 test:   chi2=11.3047 , p=0.3343  , df=10\n",
      "likelihood ratio test: chi2=10.6491 , p=0.3855  , df=10\n",
      "parameter F test:         F=0.8667  , p=0.5679  , df_denom=69, df_num=10\n",
      "\n",
      "Granger Causality\n",
      "number of lags (no zero) 10\n",
      "ssr based F test:         F=0.8419  , p=0.5905  , df_denom=69, df_num=10\n",
      "ssr based chi2 test:   chi2=10.9811 , p=0.3590  , df=10\n",
      "likelihood ratio test: chi2=10.3612 , p=0.4094  , df=10\n",
      "parameter F test:         F=0.8419  , p=0.5905  , df_denom=69, df_num=10\n",
      "\n",
      "Granger Causality\n",
      "number of lags (no zero) 10\n",
      "ssr based F test:         F=0.7946  , p=0.6340  , df_denom=69, df_num=10\n",
      "ssr based chi2 test:   chi2=10.3644 , p=0.4091  , df=10\n",
      "likelihood ratio test: chi2=9.8098  , p=0.4573  , df=10\n",
      "parameter F test:         F=0.7946  , p=0.6340  , df_denom=69, df_num=10\n",
      "\n",
      "Granger Causality\n",
      "number of lags (no zero) 10\n",
      "ssr based F test:         F=0.4496  , p=0.9161  , df_denom=69, df_num=10\n",
      "ssr based chi2 test:   chi2=5.8641  , p=0.8265  , df=10\n",
      "likelihood ratio test: chi2=5.6810  , p=0.8413  , df=10\n",
      "parameter F test:         F=0.4496  , p=0.9161  , df_denom=69, df_num=10\n",
      "\n",
      "Granger Causality\n",
      "number of lags (no zero) 10\n",
      "ssr based F test:         F=1.6766  , p=0.1040  , df_denom=69, df_num=10\n",
      "ssr based chi2 test:   chi2=21.8690 , p=0.0158  , df=10\n",
      "likelihood ratio test: chi2=19.5767 , p=0.0335  , df=10\n",
      "parameter F test:         F=1.6766  , p=0.1040  , df_denom=69, df_num=10\n",
      "\n",
      "Granger Causality\n",
      "number of lags (no zero) 10\n",
      "ssr based F test:         F=0.5377  , p=0.8575  , df_denom=69, df_num=10\n",
      "ssr based chi2 test:   chi2=7.0133  , p=0.7242  , df=10\n",
      "likelihood ratio test: chi2=6.7534  , p=0.7485  , df=10\n",
      "parameter F test:         F=0.5377  , p=0.8575  , df_denom=69, df_num=10\n",
      "\n",
      "Granger Causality\n",
      "number of lags (no zero) 10\n",
      "ssr based F test:         F=2.0120  , p=0.0450  , df_denom=69, df_num=10\n",
      "ssr based chi2 test:   chi2=26.2438 , p=0.0034  , df=10\n",
      "likelihood ratio test: chi2=23.0292 , p=0.0106  , df=10\n",
      "parameter F test:         F=2.0120  , p=0.0450  , df_denom=69, df_num=10\n",
      "\n",
      "Granger Causality\n",
      "number of lags (no zero) 10\n",
      "ssr based F test:         F=1.0679  , p=0.3986  , df_denom=69, df_num=10\n",
      "ssr based chi2 test:   chi2=13.9295 , p=0.1762  , df=10\n",
      "likelihood ratio test: chi2=12.9513 , p=0.2264  , df=10\n",
      "parameter F test:         F=1.0679  , p=0.3986  , df_denom=69, df_num=10\n",
      "\n",
      "Granger Causality\n",
      "number of lags (no zero) 10\n",
      "ssr based F test:         F=0.5147  , p=0.8741  , df_denom=69, df_num=10\n",
      "ssr based chi2 test:   chi2=6.7134  , p=0.7522  , df=10\n",
      "likelihood ratio test: chi2=6.4748  , p=0.7739  , df=10\n",
      "parameter F test:         F=0.5147  , p=0.8741  , df_denom=69, df_num=10\n",
      "\n",
      "Granger Causality\n",
      "number of lags (no zero) 10\n",
      "ssr based F test:         F=1.0023  , p=0.4504  , df_denom=69, df_num=10\n",
      "ssr based chi2 test:   chi2=13.0730 , p=0.2196  , df=10\n",
      "likelihood ratio test: chi2=12.2065 , p=0.2715  , df=10\n",
      "parameter F test:         F=1.0023  , p=0.4504  , df_denom=69, df_num=10\n",
      "\n",
      "Granger Causality\n",
      "number of lags (no zero) 10\n",
      "ssr based F test:         F=0.5770  , p=0.8272  , df_denom=69, df_num=10\n",
      "ssr based chi2 test:   chi2=7.5255  , p=0.6751  , df=10\n",
      "likelihood ratio test: chi2=7.2274  , p=0.7038  , df=10\n",
      "parameter F test:         F=0.5770  , p=0.8272  , df_denom=69, df_num=10\n",
      "\n",
      "Granger Causality\n",
      "number of lags (no zero) 10\n",
      "ssr based F test:         F=1.5843  , p=0.1298  , df_denom=69, df_num=10\n",
      "ssr based chi2 test:   chi2=20.6642 , p=0.0236  , df=10\n",
      "likelihood ratio test: chi2=18.6022 , p=0.0456  , df=10\n",
      "parameter F test:         F=1.5843  , p=0.1298  , df_denom=69, df_num=10\n",
      "\n",
      "Granger Causality\n",
      "number of lags (no zero) 10\n",
      "ssr based F test:         F=0.8937  , p=0.5436  , df_denom=69, df_num=10\n",
      "ssr based chi2 test:   chi2=11.6571 , p=0.3087  , df=10\n",
      "likelihood ratio test: chi2=10.9616 , p=0.3605  , df=10\n",
      "parameter F test:         F=0.8937  , p=0.5436  , df_denom=69, df_num=10\n",
      "\n",
      "Granger Causality\n",
      "number of lags (no zero) 10\n",
      "ssr based F test:         F=1.0762  , p=0.3923  , df_denom=69, df_num=10\n",
      "ssr based chi2 test:   chi2=14.0380 , p=0.1713  , df=10\n",
      "likelihood ratio test: chi2=13.0452 , p=0.2212  , df=10\n",
      "parameter F test:         F=1.0762  , p=0.3923  , df_denom=69, df_num=10\n",
      "\n",
      "Granger Causality\n",
      "number of lags (no zero) 10\n",
      "ssr based F test:         F=0.7788  , p=0.6486  , df_denom=69, df_num=10\n",
      "ssr based chi2 test:   chi2=10.1589 , p=0.4267  , df=10\n",
      "likelihood ratio test: chi2=9.6253  , p=0.4740  , df=10\n",
      "parameter F test:         F=0.7788  , p=0.6486  , df_denom=69, df_num=10\n",
      "\n",
      "Granger Causality\n",
      "number of lags (no zero) 10\n",
      "ssr based F test:         F=1.5158  , p=0.1525  , df_denom=69, df_num=10\n",
      "ssr based chi2 test:   chi2=19.7716 , p=0.0315  , df=10\n",
      "likelihood ratio test: chi2=17.8733 , p=0.0571  , df=10\n",
      "parameter F test:         F=1.5158  , p=0.1525  , df_denom=69, df_num=10\n",
      "\n",
      "Granger Causality\n",
      "number of lags (no zero) 10\n",
      "ssr based F test:         F=0.9057  , p=0.5329  , df_denom=69, df_num=10\n",
      "ssr based chi2 test:   chi2=11.8141 , p=0.2977  , df=10\n",
      "likelihood ratio test: chi2=11.1005 , p=0.3497  , df=10\n",
      "parameter F test:         F=0.9057  , p=0.5329  , df_denom=69, df_num=10\n",
      "\n",
      "Granger Causality\n",
      "number of lags (no zero) 10\n",
      "ssr based F test:         F=1.1905  , p=0.3125  , df_denom=69, df_num=10\n",
      "ssr based chi2 test:   chi2=15.5289 , p=0.1139  , df=10\n",
      "likelihood ratio test: chi2=14.3257 , p=0.1586  , df=10\n",
      "parameter F test:         F=1.1905  , p=0.3125  , df_denom=69, df_num=10\n",
      "\n",
      "Granger Causality\n",
      "number of lags (no zero) 10\n",
      "ssr based F test:         F=1.4815  , p=0.1651  , df_denom=69, df_num=10\n",
      "ssr based chi2 test:   chi2=19.3234 , p=0.0363  , df=10\n",
      "likelihood ratio test: chi2=17.5051 , p=0.0639  , df=10\n",
      "parameter F test:         F=1.4815  , p=0.1651  , df_denom=69, df_num=10\n",
      "\n",
      "Granger Causality\n",
      "number of lags (no zero) 10\n",
      "ssr based F test:         F=0.8113  , p=0.6186  , df_denom=69, df_num=10\n",
      "ssr based chi2 test:   chi2=10.5827 , p=0.3909  , df=10\n",
      "likelihood ratio test: chi2=10.0053 , p=0.4400  , df=10\n",
      "parameter F test:         F=0.8113  , p=0.6186  , df_denom=69, df_num=10\n",
      "\n",
      "Granger Causality\n",
      "number of lags (no zero) 10\n",
      "ssr based F test:         F=0.4885  , p=0.8919  , df_denom=69, df_num=10\n",
      "ssr based chi2 test:   chi2=6.3723  , p=0.7831  , df=10\n",
      "likelihood ratio test: chi2=6.1568  , p=0.8019  , df=10\n",
      "parameter F test:         F=0.4885  , p=0.8919  , df_denom=69, df_num=10\n",
      "\n",
      "Granger Causality\n",
      "number of lags (no zero) 10\n",
      "ssr based F test:         F=0.6629  , p=0.7545  , df_denom=69, df_num=10\n",
      "ssr based chi2 test:   chi2=8.6466  , p=0.5659  , df=10\n",
      "likelihood ratio test: chi2=8.2561  , p=0.6038  , df=10\n",
      "parameter F test:         F=0.6629  , p=0.7545  , df_denom=69, df_num=10\n",
      "\n",
      "Granger Causality\n",
      "number of lags (no zero) 10\n",
      "ssr based F test:         F=1.1148  , p=0.3640  , df_denom=69, df_num=10\n",
      "ssr based chi2 test:   chi2=14.5403 , p=0.1497  , df=10\n",
      "likelihood ratio test: chi2=13.4787 , p=0.1981  , df=10\n",
      "parameter F test:         F=1.1148  , p=0.3640  , df_denom=69, df_num=10\n",
      "\n",
      "Granger Causality\n",
      "number of lags (no zero) 10\n",
      "ssr based F test:         F=1.1450  , p=0.3428  , df_denom=69, df_num=10\n",
      "ssr based chi2 test:   chi2=14.9344 , p=0.1345  , df=10\n",
      "likelihood ratio test: chi2=13.8173 , p=0.1815  , df=10\n",
      "parameter F test:         F=1.1450  , p=0.3428  , df_denom=69, df_num=10\n",
      "\n",
      "Granger Causality\n",
      "number of lags (no zero) 10\n",
      "ssr based F test:         F=1.2399  , p=0.2820  , df_denom=69, df_num=10\n",
      "ssr based chi2 test:   chi2=16.1731 , p=0.0948  , df=10\n",
      "likelihood ratio test: chi2=14.8735 , p=0.1367  , df=10\n",
      "parameter F test:         F=1.2399  , p=0.2820  , df_denom=69, df_num=10\n",
      "\n",
      "Granger Causality\n",
      "number of lags (no zero) 10\n",
      "ssr based F test:         F=1.0682  , p=0.3984  , df_denom=69, df_num=10\n",
      "ssr based chi2 test:   chi2=13.9331 , p=0.1761  , df=10\n",
      "likelihood ratio test: chi2=12.9544 , p=0.2262  , df=10\n",
      "parameter F test:         F=1.0682  , p=0.3984  , df_denom=69, df_num=10\n",
      "\n",
      "Granger Causality\n",
      "number of lags (no zero) 10\n",
      "ssr based F test:         F=2.4475  , p=0.0145  , df_denom=69, df_num=10\n",
      "ssr based chi2 test:   chi2=31.9234 , p=0.0004  , df=10\n",
      "likelihood ratio test: chi2=27.3225 , p=0.0023  , df=10\n",
      "parameter F test:         F=2.4475  , p=0.0145  , df_denom=69, df_num=10\n",
      "\n",
      "Granger Causality\n",
      "number of lags (no zero) 10\n",
      "ssr based F test:         F=0.8550  , p=0.5785  , df_denom=69, df_num=10\n",
      "ssr based chi2 test:   chi2=11.1522 , p=0.3458  , df=10\n",
      "likelihood ratio test: chi2=10.5135 , p=0.3967  , df=10\n",
      "parameter F test:         F=0.8550  , p=0.5785  , df_denom=69, df_num=10\n",
      "\n",
      "Granger Causality\n",
      "number of lags (no zero) 10\n",
      "ssr based F test:         F=0.9559  , p=0.4892  , df_denom=69, df_num=10\n",
      "ssr based chi2 test:   chi2=12.4677 , p=0.2550  , df=10\n",
      "likelihood ratio test: chi2=11.6764 , p=0.3073  , df=10\n",
      "parameter F test:         F=0.9559  , p=0.4892  , df_denom=69, df_num=10\n",
      "\n",
      "Granger Causality\n",
      "number of lags (no zero) 10\n",
      "ssr based F test:         F=0.7605  , p=0.6656  , df_denom=69, df_num=10\n",
      "ssr based chi2 test:   chi2=9.9200  , p=0.4475  , df=10\n",
      "likelihood ratio test: chi2=9.4104  , p=0.4936  , df=10\n",
      "parameter F test:         F=0.7605  , p=0.6656  , df_denom=69, df_num=10\n",
      "\n",
      "Granger Causality\n",
      "number of lags (no zero) 10\n",
      "ssr based F test:         F=0.7886  , p=0.6396  , df_denom=69, df_num=10\n",
      "ssr based chi2 test:   chi2=10.2863 , p=0.4157  , df=10\n",
      "likelihood ratio test: chi2=9.7397  , p=0.4636  , df=10\n",
      "parameter F test:         F=0.7886  , p=0.6396  , df_denom=69, df_num=10\n",
      "\n",
      "Granger Causality\n",
      "number of lags (no zero) 10\n",
      "ssr based F test:         F=1.0188  , p=0.4370  , df_denom=69, df_num=10\n",
      "ssr based chi2 test:   chi2=13.2891 , p=0.2080  , df=10\n",
      "likelihood ratio test: chi2=12.3950 , p=0.2595  , df=10\n",
      "parameter F test:         F=1.0188  , p=0.4370  , df_denom=69, df_num=10\n",
      "\n",
      "Granger Causality\n",
      "number of lags (no zero) 10\n",
      "ssr based F test:         F=1.1175  , p=0.3621  , df_denom=69, df_num=10\n",
      "ssr based chi2 test:   chi2=14.5755 , p=0.1483  , df=10\n",
      "likelihood ratio test: chi2=13.5090 , p=0.1966  , df=10\n",
      "parameter F test:         F=1.1175  , p=0.3621  , df_denom=69, df_num=10\n",
      "\n",
      "Granger Causality\n",
      "number of lags (no zero) 10\n",
      "ssr based F test:         F=0.7424  , p=0.6823  , df_denom=69, df_num=10\n",
      "ssr based chi2 test:   chi2=9.6838  , p=0.4687  , df=10\n",
      "likelihood ratio test: chi2=9.1974  , p=0.5135  , df=10\n",
      "parameter F test:         F=0.7424  , p=0.6823  , df_denom=69, df_num=10\n",
      "\n",
      "Granger Causality\n",
      "number of lags (no zero) 10\n",
      "ssr based F test:         F=1.1776  , p=0.3209  , df_denom=69, df_num=10\n",
      "ssr based chi2 test:   chi2=15.3599 , p=0.1195  , df=10\n",
      "likelihood ratio test: chi2=14.1815 , p=0.1649  , df=10\n",
      "parameter F test:         F=1.1776  , p=0.3209  , df_denom=69, df_num=10\n",
      "\n",
      "Granger Causality\n",
      "number of lags (no zero) 10\n",
      "ssr based F test:         F=0.6835  , p=0.7360  , df_denom=69, df_num=10\n",
      "ssr based chi2 test:   chi2=8.9157  , p=0.5401  , df=10\n",
      "likelihood ratio test: chi2=8.5013  , p=0.5800  , df=10\n",
      "parameter F test:         F=0.6835  , p=0.7360  , df_denom=69, df_num=10\n",
      "\n",
      "Granger Causality\n",
      "number of lags (no zero) 10\n",
      "ssr based F test:         F=1.2704  , p=0.2643  , df_denom=69, df_num=10\n",
      "ssr based chi2 test:   chi2=16.5702 , p=0.0844  , df=10\n",
      "likelihood ratio test: chi2=15.2095 , p=0.1246  , df=10\n",
      "parameter F test:         F=1.2704  , p=0.2643  , df_denom=69, df_num=10\n",
      "\n",
      "Granger Causality\n",
      "number of lags (no zero) 10\n",
      "ssr based F test:         F=1.0129  , p=0.4418  , df_denom=69, df_num=10\n",
      "ssr based chi2 test:   chi2=13.2115 , p=0.2121  , df=10\n",
      "likelihood ratio test: chi2=12.3273 , p=0.2637  , df=10\n",
      "parameter F test:         F=1.0129  , p=0.4418  , df_denom=69, df_num=10\n",
      "\n",
      "Granger Causality\n",
      "number of lags (no zero) 10\n",
      "ssr based F test:         F=0.6958  , p=0.7250  , df_denom=69, df_num=10\n",
      "ssr based chi2 test:   chi2=9.0753  , p=0.5250  , df=10\n",
      "likelihood ratio test: chi2=8.6464  , p=0.5660  , df=10\n",
      "parameter F test:         F=0.6958  , p=0.7250  , df_denom=69, df_num=10\n",
      "\n",
      "Granger Causality\n",
      "number of lags (no zero) 10\n",
      "ssr based F test:         F=0.8409  , p=0.5913  , df_denom=69, df_num=10\n",
      "ssr based chi2 test:   chi2=10.9687 , p=0.3600  , df=10\n",
      "likelihood ratio test: chi2=10.3501 , p=0.4103  , df=10\n",
      "parameter F test:         F=0.8409  , p=0.5913  , df_denom=69, df_num=10\n",
      "\n",
      "Granger Causality\n",
      "number of lags (no zero) 10\n",
      "ssr based F test:         F=1.1811  , p=0.3186  , df_denom=69, df_num=10\n",
      "ssr based chi2 test:   chi2=15.4062 , p=0.1179  , df=10\n",
      "likelihood ratio test: chi2=14.2211 , p=0.1631  , df=10\n",
      "parameter F test:         F=1.1811  , p=0.3186  , df_denom=69, df_num=10\n",
      "\n",
      "Granger Causality\n",
      "number of lags (no zero) 10\n",
      "ssr based F test:         F=0.4844  , p=0.8946  , df_denom=69, df_num=10\n",
      "ssr based chi2 test:   chi2=6.3188  , p=0.7878  , df=10\n",
      "likelihood ratio test: chi2=6.1069  , p=0.8062  , df=10\n",
      "parameter F test:         F=0.4844  , p=0.8946  , df_denom=69, df_num=10\n",
      "\n",
      "Granger Causality\n",
      "number of lags (no zero) 10\n",
      "ssr based F test:         F=0.9321  , p=0.5097  , df_denom=69, df_num=10\n",
      "ssr based chi2 test:   chi2=12.1582 , p=0.2746  , df=10\n",
      "likelihood ratio test: chi2=11.4042 , p=0.3269  , df=10\n",
      "parameter F test:         F=0.9321  , p=0.5097  , df_denom=69, df_num=10\n",
      "\n",
      "Granger Causality\n",
      "number of lags (no zero) 10\n",
      "ssr based F test:         F=1.1961  , p=0.3090  , df_denom=69, df_num=10\n",
      "ssr based chi2 test:   chi2=15.6015 , p=0.1116  , df=10\n",
      "likelihood ratio test: chi2=14.3877 , p=0.1560  , df=10\n",
      "parameter F test:         F=1.1961  , p=0.3090  , df_denom=69, df_num=10\n",
      "\n",
      "Granger Causality\n",
      "number of lags (no zero) 10\n",
      "ssr based F test:         F=0.7155  , p=0.7070  , df_denom=69, df_num=10\n",
      "ssr based chi2 test:   chi2=9.3331  , p=0.5008  , df=10\n",
      "likelihood ratio test: chi2=8.8802  , p=0.5435  , df=10\n",
      "parameter F test:         F=0.7155  , p=0.7070  , df_denom=69, df_num=10\n",
      "\n",
      "Granger Causality\n",
      "number of lags (no zero) 10\n",
      "ssr based F test:         F=0.7975  , p=0.6313  , df_denom=69, df_num=10\n",
      "ssr based chi2 test:   chi2=10.4024 , p=0.4059  , df=10\n",
      "likelihood ratio test: chi2=9.8439  , p=0.4543  , df=10\n",
      "parameter F test:         F=0.7975  , p=0.6313  , df_denom=69, df_num=10\n",
      "\n",
      "Granger Causality\n",
      "number of lags (no zero) 10\n",
      "ssr based F test:         F=1.2006  , p=0.3061  , df_denom=69, df_num=10\n",
      "ssr based chi2 test:   chi2=15.6600 , p=0.1098  , df=10\n",
      "likelihood ratio test: chi2=14.4375 , p=0.1540  , df=10\n",
      "parameter F test:         F=1.2006  , p=0.3061  , df_denom=69, df_num=10\n",
      "\n",
      "Granger Causality\n",
      "number of lags (no zero) 10\n",
      "ssr based F test:         F=0.7851  , p=0.6428  , df_denom=69, df_num=10\n",
      "ssr based chi2 test:   chi2=10.2402 , p=0.4197  , df=10\n",
      "likelihood ratio test: chi2=9.6984  , p=0.4673  , df=10\n",
      "parameter F test:         F=0.7851  , p=0.6428  , df_denom=69, df_num=10\n",
      "\n",
      "Granger Causality\n",
      "number of lags (no zero) 10\n",
      "ssr based F test:         F=0.7032  , p=0.7182  , df_denom=69, df_num=10\n",
      "ssr based chi2 test:   chi2=9.1722  , p=0.5158  , df=10\n",
      "likelihood ratio test: chi2=8.7344  , p=0.5575  , df=10\n",
      "parameter F test:         F=0.7032  , p=0.7182  , df_denom=69, df_num=10\n",
      "\n",
      "Granger Causality\n",
      "number of lags (no zero) 10\n",
      "ssr based F test:         F=1.9807  , p=0.0488  , df_denom=69, df_num=10\n",
      "ssr based chi2 test:   chi2=25.8357 , p=0.0040  , df=10\n",
      "likelihood ratio test: chi2=22.7127 , p=0.0119  , df=10\n",
      "parameter F test:         F=1.9807  , p=0.0488  , df_denom=69, df_num=10\n",
      "\n",
      "Granger Causality\n",
      "number of lags (no zero) 10\n",
      "ssr based F test:         F=0.5961  , p=0.8118  , df_denom=69, df_num=10\n",
      "ssr based chi2 test:   chi2=7.7746  , p=0.6508  , df=10\n",
      "likelihood ratio test: chi2=7.4569  , p=0.6817  , df=10\n",
      "parameter F test:         F=0.5961  , p=0.8118  , df_denom=69, df_num=10\n",
      "\n",
      "Granger Causality\n",
      "number of lags (no zero) 10\n",
      "ssr based F test:         F=1.6096  , p=0.1222  , df_denom=69, df_num=10\n",
      "ssr based chi2 test:   chi2=20.9946 , p=0.0211  , df=10\n",
      "likelihood ratio test: chi2=18.8705 , p=0.0419  , df=10\n",
      "parameter F test:         F=1.6096  , p=0.1222  , df_denom=69, df_num=10\n",
      "\n",
      "Granger Causality\n",
      "number of lags (no zero) 10\n",
      "ssr based F test:         F=0.4120  , p=0.9364  , df_denom=69, df_num=10\n",
      "ssr based chi2 test:   chi2=5.3736  , p=0.8649  , df=10\n",
      "likelihood ratio test: chi2=5.2193  , p=0.8761  , df=10\n",
      "parameter F test:         F=0.4120  , p=0.9364  , df_denom=69, df_num=10\n",
      "\n",
      "Granger Causality\n",
      "number of lags (no zero) 10\n",
      "ssr based F test:         F=2.0250  , p=0.0436  , df_denom=69, df_num=10\n",
      "ssr based chi2 test:   chi2=26.4131 , p=0.0032  , df=10\n",
      "likelihood ratio test: chi2=23.1602 , p=0.0102  , df=10\n",
      "parameter F test:         F=2.0250  , p=0.0436  , df_denom=69, df_num=10\n",
      "\n",
      "Granger Causality\n",
      "number of lags (no zero) 10\n",
      "ssr based F test:         F=1.0768  , p=0.3919  , df_denom=69, df_num=10\n",
      "ssr based chi2 test:   chi2=14.0456 , p=0.1709  , df=10\n",
      "likelihood ratio test: chi2=13.0518 , p=0.2208  , df=10\n",
      "parameter F test:         F=1.0768  , p=0.3919  , df_denom=69, df_num=10\n",
      "\n",
      "Granger Causality\n",
      "number of lags (no zero) 10\n",
      "ssr based F test:         F=1.6301  , p=0.1163  , df_denom=69, df_num=10\n",
      "ssr based chi2 test:   chi2=21.2621 , p=0.0193  , df=10\n",
      "likelihood ratio test: chi2=19.0871 , p=0.0392  , df=10\n",
      "parameter F test:         F=1.6301  , p=0.1163  , df_denom=69, df_num=10\n",
      "\n",
      "Granger Causality\n",
      "number of lags (no zero) 10\n",
      "ssr based F test:         F=0.6042  , p=0.8051  , df_denom=69, df_num=10\n",
      "ssr based chi2 test:   chi2=7.8803  , p=0.6405  , df=10\n",
      "likelihood ratio test: chi2=7.5542  , p=0.6723  , df=10\n",
      "parameter F test:         F=0.6042  , p=0.8051  , df_denom=69, df_num=10\n",
      "\n",
      "Granger Causality\n",
      "number of lags (no zero) 10\n",
      "ssr based F test:         F=0.2034  , p=0.9953  , df_denom=69, df_num=10\n",
      "ssr based chi2 test:   chi2=2.6537  , p=0.9884  , df=10\n",
      "likelihood ratio test: chi2=2.6153  , p=0.9891  , df=10\n",
      "parameter F test:         F=0.2034  , p=0.9953  , df_denom=69, df_num=10\n",
      "\n",
      "Granger Causality\n",
      "number of lags (no zero) 10\n",
      "ssr based F test:         F=0.7051  , p=0.7165  , df_denom=69, df_num=10\n",
      "ssr based chi2 test:   chi2=9.1969  , p=0.5135  , df=10\n",
      "likelihood ratio test: chi2=8.7567  , p=0.5553  , df=10\n",
      "parameter F test:         F=0.7051  , p=0.7165  , df_denom=69, df_num=10\n",
      "\n",
      "Granger Causality\n",
      "number of lags (no zero) 10\n",
      "ssr based F test:         F=0.4383  , p=0.9225  , df_denom=69, df_num=10\n",
      "ssr based chi2 test:   chi2=5.7173  , p=0.8384  , df=10\n",
      "likelihood ratio test: chi2=5.5431  , p=0.8521  , df=10\n",
      "parameter F test:         F=0.4383  , p=0.9225  , df_denom=69, df_num=10\n",
      "\n",
      "Granger Causality\n",
      "number of lags (no zero) 10\n",
      "ssr based F test:         F=2.0855  , p=0.0373  , df_denom=69, df_num=10\n",
      "ssr based chi2 test:   chi2=27.2021 , p=0.0024  , df=10\n",
      "likelihood ratio test: chi2=23.7681 , p=0.0082  , df=10\n",
      "parameter F test:         F=2.0855  , p=0.0373  , df_denom=69, df_num=10\n",
      "\n",
      "Granger Causality\n",
      "number of lags (no zero) 10\n",
      "ssr based F test:         F=0.9356  , p=0.5067  , df_denom=69, df_num=10\n",
      "ssr based chi2 test:   chi2=12.2031 , p=0.2717  , df=10\n",
      "likelihood ratio test: chi2=11.4437 , p=0.3240  , df=10\n",
      "parameter F test:         F=0.9356  , p=0.5067  , df_denom=69, df_num=10\n",
      "\n",
      "Granger Causality\n",
      "number of lags (no zero) 10\n",
      "ssr based F test:         F=1.2965  , p=0.2499  , df_denom=69, df_num=10\n",
      "ssr based chi2 test:   chi2=16.9112 , p=0.0764  , df=10\n",
      "likelihood ratio test: chi2=15.4970 , p=0.1150  , df=10\n",
      "parameter F test:         F=1.2965  , p=0.2499  , df_denom=69, df_num=10\n",
      "\n",
      "Granger Causality\n",
      "number of lags (no zero) 10\n",
      "ssr based F test:         F=1.3829  , p=0.2066  , df_denom=69, df_num=10\n",
      "ssr based chi2 test:   chi2=18.0381 , p=0.0543  , df=10\n",
      "likelihood ratio test: chi2=16.4407 , p=0.0877  , df=10\n",
      "parameter F test:         F=1.3829  , p=0.2066  , df_denom=69, df_num=10\n",
      "\n",
      "Granger Causality\n",
      "number of lags (no zero) 10\n",
      "ssr based F test:         F=0.9279  , p=0.5134  , df_denom=69, df_num=10\n",
      "ssr based chi2 test:   chi2=12.1025 , p=0.2783  , df=10\n",
      "likelihood ratio test: chi2=11.3551 , p=0.3305  , df=10\n",
      "parameter F test:         F=0.9279  , p=0.5134  , df_denom=69, df_num=10\n",
      "\n",
      "Granger Causality\n",
      "number of lags (no zero) 10\n",
      "ssr based F test:         F=1.2963  , p=0.2500  , df_denom=69, df_num=10\n",
      "ssr based chi2 test:   chi2=16.9080 , p=0.0764  , df=10\n",
      "likelihood ratio test: chi2=15.4943 , p=0.1151  , df=10\n",
      "parameter F test:         F=1.2963  , p=0.2500  , df_denom=69, df_num=10\n",
      "\n",
      "Granger Causality\n",
      "number of lags (no zero) 10\n",
      "ssr based F test:         F=0.6569  , p=0.7598  , df_denom=69, df_num=10\n",
      "ssr based chi2 test:   chi2=8.5685  , p=0.5735  , df=10\n",
      "likelihood ratio test: chi2=8.1848  , p=0.6108  , df=10\n",
      "parameter F test:         F=0.6569  , p=0.7598  , df_denom=69, df_num=10\n",
      "\n",
      "Granger Causality\n",
      "number of lags (no zero) 10\n",
      "ssr based F test:         F=0.6083  , p=0.8016  , df_denom=69, df_num=10\n",
      "ssr based chi2 test:   chi2=7.9346  , p=0.6352  , df=10\n",
      "likelihood ratio test: chi2=7.6041  , p=0.6674  , df=10\n",
      "parameter F test:         F=0.6083  , p=0.8016  , df_denom=69, df_num=10\n",
      "\n",
      "Granger Causality\n",
      "number of lags (no zero) 10\n",
      "ssr based F test:         F=0.9786  , p=0.4700  , df_denom=69, df_num=10\n",
      "ssr based chi2 test:   chi2=12.7642 , p=0.2372  , df=10\n",
      "likelihood ratio test: chi2=11.9365 , p=0.2893  , df=10\n",
      "parameter F test:         F=0.9786  , p=0.4700  , df_denom=69, df_num=10\n",
      "\n",
      "Granger Causality\n",
      "number of lags (no zero) 10\n",
      "ssr based F test:         F=0.7023  , p=0.7191  , df_denom=69, df_num=10\n",
      "ssr based chi2 test:   chi2=9.1603  , p=0.5170  , df=10\n",
      "likelihood ratio test: chi2=8.7235  , p=0.5585  , df=10\n",
      "parameter F test:         F=0.7023  , p=0.7191  , df_denom=69, df_num=10\n",
      "\n",
      "Granger Causality\n",
      "number of lags (no zero) 10\n",
      "ssr based F test:         F=0.3889  , p=0.9474  , df_denom=69, df_num=10\n",
      "ssr based chi2 test:   chi2=5.0732  , p=0.8862  , df=10\n",
      "likelihood ratio test: chi2=4.9353  , p=0.8955  , df=10\n",
      "parameter F test:         F=0.3889  , p=0.9474  , df_denom=69, df_num=10\n",
      "\n",
      "Granger Causality\n",
      "number of lags (no zero) 10\n",
      "ssr based F test:         F=1.0115  , p=0.4429  , df_denom=69, df_num=10\n",
      "ssr based chi2 test:   chi2=13.1936 , p=0.2130  , df=10\n",
      "likelihood ratio test: chi2=12.3118 , p=0.2647  , df=10\n",
      "parameter F test:         F=1.0115  , p=0.4429  , df_denom=69, df_num=10\n",
      "\n",
      "Granger Causality\n",
      "number of lags (no zero) 10\n",
      "ssr based F test:         F=1.3806  , p=0.2077  , df_denom=69, df_num=10\n",
      "ssr based chi2 test:   chi2=18.0083 , p=0.0548  , df=10\n",
      "likelihood ratio test: chi2=16.4159 , p=0.0883  , df=10\n",
      "parameter F test:         F=1.3806  , p=0.2077  , df_denom=69, df_num=10\n",
      "\n",
      "Granger Causality\n",
      "number of lags (no zero) 10\n",
      "ssr based F test:         F=1.3253  , p=0.2347  , df_denom=69, df_num=10\n",
      "ssr based chi2 test:   chi2=17.2865 , p=0.0683  , df=10\n",
      "likelihood ratio test: chi2=15.8124 , p=0.1051  , df=10\n",
      "parameter F test:         F=1.3253  , p=0.2347  , df_denom=69, df_num=10\n",
      "\n",
      "Granger Causality\n",
      "number of lags (no zero) 10\n",
      "ssr based F test:         F=2.0442  , p=0.0415  , df_denom=69, df_num=10\n",
      "ssr based chi2 test:   chi2=26.6632 , p=0.0029  , df=10\n",
      "likelihood ratio test: chi2=23.3533 , p=0.0095  , df=10\n",
      "parameter F test:         F=2.0442  , p=0.0415  , df_denom=69, df_num=10\n",
      "\n",
      "Granger Causality\n",
      "number of lags (no zero) 10\n",
      "ssr based F test:         F=0.9175  , p=0.5225  , df_denom=69, df_num=10\n",
      "ssr based chi2 test:   chi2=11.9675 , p=0.2872  , df=10\n",
      "likelihood ratio test: chi2=11.2360 , p=0.3394  , df=10\n",
      "parameter F test:         F=0.9175  , p=0.5225  , df_denom=69, df_num=10\n",
      "\n",
      "Granger Causality\n",
      "number of lags (no zero) 10\n",
      "ssr based F test:         F=1.2887  , p=0.2541  , df_denom=69, df_num=10\n",
      "ssr based chi2 test:   chi2=16.8095 , p=0.0787  , df=10\n",
      "likelihood ratio test: chi2=15.4114 , p=0.1178  , df=10\n",
      "parameter F test:         F=1.2887  , p=0.2541  , df_denom=69, df_num=10\n",
      "\n",
      "Granger Causality\n",
      "number of lags (no zero) 10\n",
      "ssr based F test:         F=1.1389  , p=0.3470  , df_denom=69, df_num=10\n",
      "ssr based chi2 test:   chi2=14.8551 , p=0.1374  , df=10\n",
      "likelihood ratio test: chi2=13.7493 , p=0.1847  , df=10\n",
      "parameter F test:         F=1.1389  , p=0.3470  , df_denom=69, df_num=10\n",
      "\n",
      "Granger Causality\n",
      "number of lags (no zero) 10\n",
      "ssr based F test:         F=0.7997  , p=0.6293  , df_denom=69, df_num=10\n",
      "ssr based chi2 test:   chi2=10.4313 , p=0.4035  , df=10\n",
      "likelihood ratio test: chi2=9.8698  , p=0.4520  , df=10\n",
      "parameter F test:         F=0.7997  , p=0.6293  , df_denom=69, df_num=10\n",
      "\n",
      "Granger Causality\n",
      "number of lags (no zero) 10\n",
      "ssr based F test:         F=0.6784  , p=0.7406  , df_denom=69, df_num=10\n",
      "ssr based chi2 test:   chi2=8.8490  , p=0.5465  , df=10\n",
      "likelihood ratio test: chi2=8.4405  , p=0.5859  , df=10\n",
      "parameter F test:         F=0.6784  , p=0.7406  , df_denom=69, df_num=10\n",
      "\n",
      "Granger Causality\n",
      "number of lags (no zero) 10\n",
      "ssr based F test:         F=2.1776  , p=0.0294  , df_denom=69, df_num=10\n",
      "ssr based chi2 test:   chi2=28.4032 , p=0.0016  , df=10\n",
      "likelihood ratio test: chi2=24.6857 , p=0.0060  , df=10\n",
      "parameter F test:         F=2.1776  , p=0.0294  , df_denom=69, df_num=10\n",
      "\n",
      "Granger Causality\n",
      "number of lags (no zero) 10\n",
      "ssr based F test:         F=0.8630  , p=0.5712  , df_denom=69, df_num=10\n",
      "ssr based chi2 test:   chi2=11.2570 , p=0.3378  , df=10\n",
      "likelihood ratio test: chi2=10.6067 , p=0.3890  , df=10\n",
      "parameter F test:         F=0.8630  , p=0.5712  , df_denom=69, df_num=10\n",
      "\n",
      "Granger Causality\n",
      "number of lags (no zero) 10\n",
      "ssr based F test:         F=1.3172  , p=0.2389  , df_denom=69, df_num=10\n",
      "ssr based chi2 test:   chi2=17.1813 , p=0.0704  , df=10\n",
      "likelihood ratio test: chi2=15.7241 , p=0.1078  , df=10\n",
      "parameter F test:         F=1.3172  , p=0.2389  , df_denom=69, df_num=10\n",
      "\n",
      "Granger Causality\n",
      "number of lags (no zero) 10\n",
      "ssr based F test:         F=0.8493  , p=0.5837  , df_denom=69, df_num=10\n",
      "ssr based chi2 test:   chi2=11.0783 , p=0.3514  , df=10\n",
      "likelihood ratio test: chi2=10.4478 , p=0.4021  , df=10\n",
      "parameter F test:         F=0.8493  , p=0.5837  , df_denom=69, df_num=10\n",
      "\n",
      "Granger Causality\n",
      "number of lags (no zero) 10\n",
      "ssr based F test:         F=0.8850  , p=0.5514  , df_denom=69, df_num=10\n",
      "ssr based chi2 test:   chi2=11.5434 , p=0.3168  , df=10\n",
      "likelihood ratio test: chi2=10.8609 , p=0.3685  , df=10\n",
      "parameter F test:         F=0.8850  , p=0.5514  , df_denom=69, df_num=10\n",
      "\n",
      "Granger Causality\n",
      "number of lags (no zero) 10\n",
      "ssr based F test:         F=0.7417  , p=0.6829  , df_denom=69, df_num=10\n",
      "ssr based chi2 test:   chi2=9.6749  , p=0.4695  , df=10\n",
      "likelihood ratio test: chi2=9.1894  , p=0.5142  , df=10\n",
      "parameter F test:         F=0.7417  , p=0.6829  , df_denom=69, df_num=10\n",
      "\n",
      "Granger Causality\n",
      "number of lags (no zero) 10\n",
      "ssr based F test:         F=1.5519  , p=0.1401  , df_denom=69, df_num=10\n",
      "ssr based chi2 test:   chi2=20.2421 , p=0.0270  , df=10\n",
      "likelihood ratio test: chi2=18.2582 , p=0.0508  , df=10\n",
      "parameter F test:         F=1.5519  , p=0.1401  , df_denom=69, df_num=10\n",
      "\n",
      "Granger Causality\n",
      "number of lags (no zero) 10\n",
      "ssr based F test:         F=0.2669  , p=0.9864  , df_denom=69, df_num=10\n",
      "ssr based chi2 test:   chi2=3.4816  , p=0.9677  , df=10\n",
      "likelihood ratio test: chi2=3.4159  , p=0.9699  , df=10\n",
      "parameter F test:         F=0.2669  , p=0.9864  , df_denom=69, df_num=10\n",
      "\n",
      "Granger Causality\n",
      "number of lags (no zero) 10\n",
      "ssr based F test:         F=1.8726  , p=0.0641  , df_denom=69, df_num=10\n",
      "ssr based chi2 test:   chi2=24.4250 , p=0.0065  , df=10\n",
      "likelihood ratio test: chi2=21.6099 , p=0.0172  , df=10\n",
      "parameter F test:         F=1.8726  , p=0.0641  , df_denom=69, df_num=10\n",
      "\n",
      "Granger Causality\n",
      "number of lags (no zero) 10\n",
      "ssr based F test:         F=1.2232  , p=0.2921  , df_denom=69, df_num=10\n",
      "ssr based chi2 test:   chi2=15.9548 , p=0.1009  , df=10\n",
      "likelihood ratio test: chi2=14.6883 , p=0.1438  , df=10\n",
      "parameter F test:         F=1.2232  , p=0.2921  , df_denom=69, df_num=10\n",
      "\n",
      "Granger Causality\n",
      "number of lags (no zero) 10\n",
      "ssr based F test:         F=0.9757  , p=0.4724  , df_denom=69, df_num=10\n",
      "ssr based chi2 test:   chi2=12.7271 , p=0.2393  , df=10\n",
      "likelihood ratio test: chi2=11.9039 , p=0.2915  , df=10\n",
      "parameter F test:         F=0.9757  , p=0.4724  , df_denom=69, df_num=10\n",
      "\n",
      "Granger Causality\n",
      "number of lags (no zero) 10\n",
      "ssr based F test:         F=0.7963  , p=0.6324  , df_denom=69, df_num=10\n",
      "ssr based chi2 test:   chi2=10.3870 , p=0.4072  , df=10\n",
      "likelihood ratio test: chi2=9.8301  , p=0.4555  , df=10\n",
      "parameter F test:         F=0.7963  , p=0.6324  , df_denom=69, df_num=10\n",
      "\n",
      "Granger Causality\n",
      "number of lags (no zero) 10\n",
      "ssr based F test:         F=2.5897  , p=0.0100  , df_denom=69, df_num=10\n",
      "ssr based chi2 test:   chi2=33.7792 , p=0.0002  , df=10\n",
      "likelihood ratio test: chi2=28.6820 , p=0.0014  , df=10\n",
      "parameter F test:         F=2.5897  , p=0.0100  , df_denom=69, df_num=10\n",
      "\n",
      "Granger Causality\n",
      "number of lags (no zero) 10\n",
      "ssr based F test:         F=0.9180  , p=0.5221  , df_denom=69, df_num=10\n",
      "ssr based chi2 test:   chi2=11.9736 , p=0.2868  , df=10\n",
      "likelihood ratio test: chi2=11.2414 , p=0.3390  , df=10\n",
      "parameter F test:         F=0.9180  , p=0.5221  , df_denom=69, df_num=10\n",
      "\n",
      "Granger Causality\n",
      "number of lags (no zero) 10\n",
      "ssr based F test:         F=2.2299  , p=0.0257  , df_denom=69, df_num=10\n",
      "ssr based chi2 test:   chi2=29.0861 , p=0.0012  , df=10\n",
      "likelihood ratio test: chi2=25.2034 , p=0.0050  , df=10\n",
      "parameter F test:         F=2.2299  , p=0.0257  , df_denom=69, df_num=10\n",
      "\n",
      "Granger Causality\n",
      "number of lags (no zero) 10\n",
      "ssr based F test:         F=0.5688  , p=0.8337  , df_denom=69, df_num=10\n",
      "ssr based chi2 test:   chi2=7.4188  , p=0.6854  , df=10\n",
      "likelihood ratio test: chi2=7.1289  , p=0.7132  , df=10\n",
      "parameter F test:         F=0.5688  , p=0.8337  , df_denom=69, df_num=10\n",
      "\n",
      "Granger Causality\n",
      "number of lags (no zero) 10\n",
      "ssr based F test:         F=1.0919  , p=0.3806  , df_denom=69, df_num=10\n",
      "ssr based chi2 test:   chi2=14.2423 , p=0.1622  , df=10\n",
      "likelihood ratio test: chi2=13.2217 , p=0.2115  , df=10\n",
      "parameter F test:         F=1.0919  , p=0.3806  , df_denom=69, df_num=10\n",
      "\n",
      "Granger Causality\n",
      "number of lags (no zero) 10\n",
      "ssr based F test:         F=0.6591  , p=0.7578  , df_denom=69, df_num=10\n",
      "ssr based chi2 test:   chi2=8.5969  , p=0.5707  , df=10\n",
      "likelihood ratio test: chi2=8.2107  , p=0.6083  , df=10\n",
      "parameter F test:         F=0.6591  , p=0.7578  , df_denom=69, df_num=10\n",
      "\n",
      "Granger Causality\n",
      "number of lags (no zero) 10\n",
      "ssr based F test:         F=0.8965  , p=0.5411  , df_denom=69, df_num=10\n",
      "ssr based chi2 test:   chi2=11.6940 , p=0.3061  , df=10\n",
      "likelihood ratio test: chi2=10.9943 , p=0.3580  , df=10\n",
      "parameter F test:         F=0.8965  , p=0.5411  , df_denom=69, df_num=10\n",
      "\n",
      "Granger Causality\n",
      "number of lags (no zero) 10\n",
      "ssr based F test:         F=0.4434  , p=0.9196  , df_denom=69, df_num=10\n",
      "ssr based chi2 test:   chi2=5.7835  , p=0.8331  , df=10\n",
      "likelihood ratio test: chi2=5.6052  , p=0.8473  , df=10\n",
      "parameter F test:         F=0.4434  , p=0.9196  , df_denom=69, df_num=10\n",
      "\n",
      "Granger Causality\n",
      "number of lags (no zero) 10\n",
      "ssr based F test:         F=0.6227  , p=0.7894  , df_denom=69, df_num=10\n",
      "ssr based chi2 test:   chi2=8.1222  , p=0.6169  , df=10\n",
      "likelihood ratio test: chi2=7.7764  , p=0.6507  , df=10\n",
      "parameter F test:         F=0.6227  , p=0.7894  , df_denom=69, df_num=10\n",
      "\n",
      "Granger Causality\n",
      "number of lags (no zero) 10\n",
      "ssr based F test:         F=0.8032  , p=0.6261  , df_denom=69, df_num=10\n",
      "ssr based chi2 test:   chi2=10.4763 , p=0.3997  , df=10\n",
      "likelihood ratio test: chi2=9.9101  , p=0.4484  , df=10\n",
      "parameter F test:         F=0.8032  , p=0.6261  , df_denom=69, df_num=10\n",
      "\n",
      "Granger Causality\n",
      "number of lags (no zero) 10\n",
      "ssr based F test:         F=0.8403  , p=0.5919  , df_denom=69, df_num=10\n",
      "ssr based chi2 test:   chi2=10.9604 , p=0.3606  , df=10\n",
      "likelihood ratio test: chi2=10.3427 , p=0.4110  , df=10\n",
      "parameter F test:         F=0.8403  , p=0.5919  , df_denom=69, df_num=10\n",
      "\n",
      "Granger Causality\n",
      "number of lags (no zero) 10\n",
      "ssr based F test:         F=1.7584  , p=0.0851  , df_denom=69, df_num=10\n",
      "ssr based chi2 test:   chi2=22.9361 , p=0.0110  , df=10\n",
      "likelihood ratio test: chi2=20.4311 , p=0.0254  , df=10\n",
      "parameter F test:         F=1.7584  , p=0.0851  , df_denom=69, df_num=10\n",
      "\n",
      "Granger Causality\n",
      "number of lags (no zero) 10\n",
      "ssr based F test:         F=1.2001  , p=0.3064  , df_denom=69, df_num=10\n",
      "ssr based chi2 test:   chi2=15.6534 , p=0.1100  , df=10\n",
      "likelihood ratio test: chi2=14.4319 , p=0.1542  , df=10\n",
      "parameter F test:         F=1.2001  , p=0.3064  , df_denom=69, df_num=10\n",
      "\n",
      "Granger Causality\n",
      "number of lags (no zero) 10\n",
      "ssr based F test:         F=0.4813  , p=0.8967  , df_denom=69, df_num=10\n",
      "ssr based chi2 test:   chi2=6.2777  , p=0.7914  , df=10\n",
      "likelihood ratio test: chi2=6.0684  , p=0.8095  , df=10\n",
      "parameter F test:         F=0.4813  , p=0.8967  , df_denom=69, df_num=10\n",
      "\n",
      "Granger Causality\n",
      "number of lags (no zero) 10\n",
      "ssr based F test:         F=0.3789  , p=0.9518  , df_denom=69, df_num=10\n",
      "ssr based chi2 test:   chi2=4.9423  , p=0.8950  , df=10\n",
      "likelihood ratio test: chi2=4.8114  , p=0.9034  , df=10\n",
      "parameter F test:         F=0.3789  , p=0.9518  , df_denom=69, df_num=10\n",
      "\n",
      "Granger Causality\n",
      "number of lags (no zero) 10\n",
      "ssr based F test:         F=1.0652  , p=0.4007  , df_denom=69, df_num=10\n",
      "ssr based chi2 test:   chi2=13.8938 , p=0.1779  , df=10\n",
      "likelihood ratio test: chi2=12.9204 , p=0.2282  , df=10\n",
      "parameter F test:         F=1.0652  , p=0.4007  , df_denom=69, df_num=10\n",
      "\n",
      "Granger Causality\n",
      "number of lags (no zero) 10\n",
      "ssr based F test:         F=1.4078  , p=0.1954  , df_denom=69, df_num=10\n",
      "ssr based chi2 test:   chi2=18.3629 , p=0.0491  , df=10\n",
      "likelihood ratio test: chi2=16.7109 , p=0.0810  , df=10\n",
      "parameter F test:         F=1.4078  , p=0.1954  , df_denom=69, df_num=10\n",
      "\n",
      "Granger Causality\n",
      "number of lags (no zero) 10\n",
      "ssr based F test:         F=1.4998  , p=0.1583  , df_denom=69, df_num=10\n",
      "ssr based chi2 test:   chi2=19.5625 , p=0.0337  , df=10\n",
      "likelihood ratio test: chi2=17.7017 , p=0.0602  , df=10\n",
      "parameter F test:         F=1.4998  , p=0.1583  , df_denom=69, df_num=10\n",
      "\n",
      "Granger Causality\n",
      "number of lags (no zero) 10\n",
      "ssr based F test:         F=0.5098  , p=0.8776  , df_denom=69, df_num=10\n",
      "ssr based chi2 test:   chi2=6.6489  , p=0.7581  , df=10\n",
      "likelihood ratio test: chi2=6.4148  , p=0.7793  , df=10\n",
      "parameter F test:         F=0.5098  , p=0.8776  , df_denom=69, df_num=10\n",
      "\n",
      "Granger Causality\n",
      "number of lags (no zero) 10\n",
      "ssr based F test:         F=0.9032  , p=0.5351  , df_denom=69, df_num=10\n",
      "ssr based chi2 test:   chi2=11.7811 , p=0.3000  , df=10\n",
      "likelihood ratio test: chi2=11.0714 , p=0.3520  , df=10\n",
      "parameter F test:         F=0.9032  , p=0.5351  , df_denom=69, df_num=10\n",
      "\n",
      "Granger Causality\n",
      "number of lags (no zero) 10\n",
      "ssr based F test:         F=1.7541  , p=0.0860  , df_denom=69, df_num=10\n",
      "ssr based chi2 test:   chi2=22.8801 , p=0.0112  , df=10\n",
      "likelihood ratio test: chi2=20.3864 , p=0.0258  , df=10\n",
      "parameter F test:         F=1.7541  , p=0.0860  , df_denom=69, df_num=10\n",
      "\n",
      "Granger Causality\n",
      "number of lags (no zero) 10\n",
      "ssr based F test:         F=0.6630  , p=0.7543  , df_denom=69, df_num=10\n",
      "ssr based chi2 test:   chi2=8.6483  , p=0.5658  , df=10\n",
      "likelihood ratio test: chi2=8.2576  , p=0.6037  , df=10\n",
      "parameter F test:         F=0.6630  , p=0.7543  , df_denom=69, df_num=10\n",
      "\n",
      "Granger Causality\n",
      "number of lags (no zero) 10\n",
      "ssr based F test:         F=0.1588  , p=0.9983  , df_denom=69, df_num=10\n",
      "ssr based chi2 test:   chi2=2.0708  , p=0.9958  , df=10\n",
      "likelihood ratio test: chi2=2.0473  , p=0.9960  , df=10\n",
      "parameter F test:         F=0.1588  , p=0.9983  , df_denom=69, df_num=10\n",
      "\n",
      "Granger Causality\n",
      "number of lags (no zero) 10\n",
      "ssr based F test:         F=1.0896  , p=0.3824  , df_denom=69, df_num=10\n",
      "ssr based chi2 test:   chi2=14.2117 , p=0.1636  , df=10\n",
      "likelihood ratio test: chi2=13.1953 , p=0.2130  , df=10\n",
      "parameter F test:         F=1.0896  , p=0.3824  , df_denom=69, df_num=10\n",
      "\n",
      "Granger Causality\n",
      "number of lags (no zero) 10\n",
      "ssr based F test:         F=1.3329  , p=0.2309  , df_denom=69, df_num=10\n",
      "ssr based chi2 test:   chi2=17.3853 , p=0.0663  , df=10\n",
      "likelihood ratio test: chi2=15.8952 , p=0.1027  , df=10\n",
      "parameter F test:         F=1.3329  , p=0.2309  , df_denom=69, df_num=10\n",
      "\n",
      "Granger Causality\n",
      "number of lags (no zero) 10\n",
      "ssr based F test:         F=1.3523  , p=0.2212  , df_denom=69, df_num=10\n",
      "ssr based chi2 test:   chi2=17.6385 , p=0.0614  , df=10\n",
      "likelihood ratio test: chi2=16.1072 , p=0.0966  , df=10\n",
      "parameter F test:         F=1.3523  , p=0.2212  , df_denom=69, df_num=10\n",
      "\n",
      "Granger Causality\n",
      "number of lags (no zero) 10\n",
      "ssr based F test:         F=0.7117  , p=0.7105  , df_denom=69, df_num=10\n",
      "ssr based chi2 test:   chi2=9.2826  , p=0.5055  , df=10\n",
      "likelihood ratio test: chi2=8.8345  , p=0.5479  , df=10\n",
      "parameter F test:         F=0.7117  , p=0.7105  , df_denom=69, df_num=10\n",
      "\n",
      "Granger Causality\n",
      "number of lags (no zero) 10\n",
      "ssr based F test:         F=1.5632  , p=0.1364  , df_denom=69, df_num=10\n",
      "ssr based chi2 test:   chi2=20.3896 , p=0.0258  , df=10\n",
      "likelihood ratio test: chi2=18.3785 , p=0.0489  , df=10\n",
      "parameter F test:         F=1.5632  , p=0.1364  , df_denom=69, df_num=10\n",
      "\n",
      "Granger Causality\n",
      "number of lags (no zero) 10\n",
      "ssr based F test:         F=0.7350  , p=0.6891  , df_denom=69, df_num=10\n",
      "ssr based chi2 test:   chi2=9.5871  , p=0.4774  , df=10\n",
      "likelihood ratio test: chi2=9.1100  , p=0.5217  , df=10\n",
      "parameter F test:         F=0.7350  , p=0.6891  , df_denom=69, df_num=10\n",
      "\n",
      "Granger Causality\n",
      "number of lags (no zero) 10\n",
      "ssr based F test:         F=0.9690  , p=0.4781  , df_denom=69, df_num=10\n",
      "ssr based chi2 test:   chi2=12.6387 , p=0.2446  , df=10\n",
      "likelihood ratio test: chi2=11.8265 , p=0.2968  , df=10\n",
      "parameter F test:         F=0.9690  , p=0.4781  , df_denom=69, df_num=10\n",
      "\n",
      "Granger Causality\n",
      "number of lags (no zero) 10\n",
      "ssr based F test:         F=1.4833  , p=0.1644  , df_denom=69, df_num=10\n",
      "ssr based chi2 test:   chi2=19.3475 , p=0.0361  , df=10\n",
      "likelihood ratio test: chi2=17.5249 , p=0.0635  , df=10\n",
      "parameter F test:         F=1.4833  , p=0.1644  , df_denom=69, df_num=10\n",
      "\n",
      "Granger Causality\n",
      "number of lags (no zero) 10\n",
      "ssr based F test:         F=0.5924  , p=0.8148  , df_denom=69, df_num=10\n",
      "ssr based chi2 test:   chi2=7.7270  , p=0.6555  , df=10\n",
      "likelihood ratio test: chi2=7.4131  , p=0.6860  , df=10\n",
      "parameter F test:         F=0.5924  , p=0.8148  , df_denom=69, df_num=10\n",
      "\n",
      "Granger Causality\n",
      "number of lags (no zero) 10\n",
      "ssr based F test:         F=0.7594  , p=0.6666  , df_denom=69, df_num=10\n",
      "ssr based chi2 test:   chi2=9.9048  , p=0.4489  , df=10\n",
      "likelihood ratio test: chi2=9.3967  , p=0.4949  , df=10\n",
      "parameter F test:         F=0.7594  , p=0.6666  , df_denom=69, df_num=10\n",
      "\n",
      "Granger Causality\n",
      "number of lags (no zero) 10\n",
      "ssr based F test:         F=0.3322  , p=0.9694  , df_denom=69, df_num=10\n",
      "ssr based chi2 test:   chi2=4.3331  , p=0.9311  , df=10\n",
      "likelihood ratio test: chi2=4.2320  , p=0.9363  , df=10\n",
      "parameter F test:         F=0.3322  , p=0.9694  , df_denom=69, df_num=10\n",
      "\n",
      "Granger Causality\n",
      "number of lags (no zero) 10\n",
      "ssr based F test:         F=1.0819  , p=0.3881  , df_denom=69, df_num=10\n",
      "ssr based chi2 test:   chi2=14.1115 , p=0.1680  , df=10\n",
      "likelihood ratio test: chi2=13.1088 , p=0.2177  , df=10\n",
      "parameter F test:         F=1.0819  , p=0.3881  , df_denom=69, df_num=10\n",
      "\n",
      "Granger Causality\n",
      "number of lags (no zero) 10\n",
      "ssr based F test:         F=0.9051  , p=0.5335  , df_denom=69, df_num=10\n",
      "ssr based chi2 test:   chi2=11.8054 , p=0.2983  , df=10\n",
      "likelihood ratio test: chi2=11.0928 , p=0.3503  , df=10\n",
      "parameter F test:         F=0.9051  , p=0.5335  , df_denom=69, df_num=10\n",
      "\n",
      "Granger Causality\n",
      "number of lags (no zero) 10\n",
      "ssr based F test:         F=2.5621  , p=0.0107  , df_denom=69, df_num=10\n",
      "ssr based chi2 test:   chi2=33.4191 , p=0.0002  , df=10\n",
      "likelihood ratio test: chi2=28.4199 , p=0.0015  , df=10\n",
      "parameter F test:         F=2.5621  , p=0.0107  , df_denom=69, df_num=10\n",
      "\n",
      "Granger Causality\n",
      "number of lags (no zero) 10\n",
      "ssr based F test:         F=0.9486  , p=0.4955  , df_denom=69, df_num=10\n",
      "ssr based chi2 test:   chi2=12.3725 , p=0.2609  , df=10\n",
      "likelihood ratio test: chi2=11.5928 , p=0.3132  , df=10\n",
      "parameter F test:         F=0.9486  , p=0.4955  , df_denom=69, df_num=10\n",
      "\n",
      "Granger Causality\n",
      "number of lags (no zero) 10\n",
      "ssr based F test:         F=1.1509  , p=0.3388  , df_denom=69, df_num=10\n",
      "ssr based chi2 test:   chi2=15.0120 , p=0.1316  , df=10\n",
      "likelihood ratio test: chi2=13.8839 , p=0.1784  , df=10\n",
      "parameter F test:         F=1.1509  , p=0.3388  , df_denom=69, df_num=10\n",
      "\n",
      "Granger Causality\n",
      "number of lags (no zero) 10\n",
      "ssr based F test:         F=0.9413  , p=0.5018  , df_denom=69, df_num=10\n",
      "ssr based chi2 test:   chi2=12.2776 , p=0.2669  , df=10\n",
      "likelihood ratio test: chi2=11.5093 , p=0.3192  , df=10\n",
      "parameter F test:         F=0.9413  , p=0.5018  , df_denom=69, df_num=10\n",
      "\n",
      "Granger Causality\n",
      "number of lags (no zero) 10\n",
      "ssr based F test:         F=0.3897  , p=0.9470  , df_denom=69, df_num=10\n",
      "ssr based chi2 test:   chi2=5.0835  , p=0.8855  , df=10\n",
      "likelihood ratio test: chi2=4.9451  , p=0.8948  , df=10\n",
      "parameter F test:         F=0.3897  , p=0.9470  , df_denom=69, df_num=10\n",
      "\n",
      "Granger Causality\n",
      "number of lags (no zero) 10\n",
      "ssr based F test:         F=1.4323  , p=0.1848  , df_denom=69, df_num=10\n",
      "ssr based chi2 test:   chi2=18.6823 , p=0.0445  , df=10\n",
      "likelihood ratio test: chi2=16.9757 , p=0.0749  , df=10\n",
      "parameter F test:         F=1.4323  , p=0.1848  , df_denom=69, df_num=10\n",
      "\n",
      "Granger Causality\n",
      "number of lags (no zero) 10\n",
      "ssr based F test:         F=1.2779  , p=0.2601  , df_denom=69, df_num=10\n",
      "ssr based chi2 test:   chi2=16.6681 , p=0.0820  , df=10\n",
      "likelihood ratio test: chi2=15.2921 , p=0.1218  , df=10\n",
      "parameter F test:         F=1.2779  , p=0.2601  , df_denom=69, df_num=10\n",
      "\n",
      "Granger Causality\n",
      "number of lags (no zero) 10\n",
      "ssr based F test:         F=0.9857  , p=0.4641  , df_denom=69, df_num=10\n",
      "ssr based chi2 test:   chi2=12.8570 , p=0.2318  , df=10\n",
      "likelihood ratio test: chi2=12.0177 , p=0.2839  , df=10\n",
      "parameter F test:         F=0.9857  , p=0.4641  , df_denom=69, df_num=10\n",
      "\n",
      "Granger Causality\n",
      "number of lags (no zero) 10\n",
      "ssr based F test:         F=0.9075  , p=0.5313  , df_denom=69, df_num=10\n",
      "ssr based chi2 test:   chi2=11.8373 , p=0.2961  , df=10\n",
      "likelihood ratio test: chi2=11.1210 , p=0.3482  , df=10\n",
      "parameter F test:         F=0.9075  , p=0.5313  , df_denom=69, df_num=10\n",
      "\n",
      "Granger Causality\n",
      "number of lags (no zero) 10\n",
      "ssr based F test:         F=1.3692  , p=0.2131  , df_denom=69, df_num=10\n",
      "ssr based chi2 test:   chi2=17.8592 , p=0.0574  , df=10\n",
      "likelihood ratio test: chi2=16.2916 , p=0.0916  , df=10\n",
      "parameter F test:         F=1.3692  , p=0.2131  , df_denom=69, df_num=10\n",
      "\n",
      "Granger Causality\n",
      "number of lags (no zero) 10\n",
      "ssr based F test:         F=1.5734  , p=0.1332  , df_denom=69, df_num=10\n",
      "ssr based chi2 test:   chi2=20.5231 , p=0.0247  , df=10\n",
      "likelihood ratio test: chi2=18.4873 , p=0.0473  , df=10\n",
      "parameter F test:         F=1.5734  , p=0.1332  , df_denom=69, df_num=10\n",
      "\n",
      "Granger Causality\n",
      "number of lags (no zero) 10\n",
      "ssr based F test:         F=1.6595  , p=0.1084  , df_denom=69, df_num=10\n",
      "ssr based chi2 test:   chi2=21.6458 , p=0.0170  , df=10\n",
      "likelihood ratio test: chi2=19.3970 , p=0.0355  , df=10\n",
      "parameter F test:         F=1.6595  , p=0.1084  , df_denom=69, df_num=10\n",
      "\n",
      "Granger Causality\n",
      "number of lags (no zero) 10\n",
      "ssr based F test:         F=1.3578  , p=0.2185  , df_denom=69, df_num=10\n",
      "ssr based chi2 test:   chi2=17.7101 , p=0.0601  , df=10\n",
      "likelihood ratio test: chi2=16.1670 , p=0.0950  , df=10\n",
      "parameter F test:         F=1.3578  , p=0.2185  , df_denom=69, df_num=10\n",
      "\n",
      "Granger Causality\n",
      "number of lags (no zero) 10\n",
      "ssr based F test:         F=0.7870  , p=0.6410  , df_denom=69, df_num=10\n",
      "ssr based chi2 test:   chi2=10.2655 , p=0.4175  , df=10\n",
      "likelihood ratio test: chi2=9.7211  , p=0.4653  , df=10\n",
      "parameter F test:         F=0.7870  , p=0.6410  , df_denom=69, df_num=10\n",
      "\n",
      "Granger Causality\n",
      "number of lags (no zero) 10\n",
      "ssr based F test:         F=1.4034  , p=0.1973  , df_denom=69, df_num=10\n",
      "ssr based chi2 test:   chi2=18.3056 , p=0.0500  , df=10\n",
      "likelihood ratio test: chi2=16.6633 , p=0.0822  , df=10\n",
      "parameter F test:         F=1.4034  , p=0.1973  , df_denom=69, df_num=10\n",
      "\n",
      "Granger Causality\n",
      "number of lags (no zero) 10\n",
      "ssr based F test:         F=1.4013  , p=0.1983  , df_denom=69, df_num=10\n",
      "ssr based chi2 test:   chi2=18.2779 , p=0.0505  , df=10\n",
      "likelihood ratio test: chi2=16.6402 , p=0.0827  , df=10\n",
      "parameter F test:         F=1.4013  , p=0.1983  , df_denom=69, df_num=10\n",
      "\n",
      "Granger Causality\n",
      "number of lags (no zero) 10\n",
      "ssr based F test:         F=2.1132  , p=0.0347  , df_denom=69, df_num=10\n",
      "ssr based chi2 test:   chi2=27.5641 , p=0.0021  , df=10\n",
      "likelihood ratio test: chi2=24.0456 , p=0.0075  , df=10\n",
      "parameter F test:         F=2.1132  , p=0.0347  , df_denom=69, df_num=10\n",
      "\n",
      "Granger Causality\n",
      "number of lags (no zero) 10\n",
      "ssr based F test:         F=0.7921  , p=0.6364  , df_denom=69, df_num=10\n",
      "ssr based chi2 test:   chi2=10.3312 , p=0.4119  , df=10\n",
      "likelihood ratio test: chi2=9.7801  , p=0.4600  , df=10\n",
      "parameter F test:         F=0.7921  , p=0.6364  , df_denom=69, df_num=10\n",
      "\n",
      "Granger Causality\n",
      "number of lags (no zero) 10\n",
      "ssr based F test:         F=0.2562  , p=0.9883  , df_denom=69, df_num=10\n",
      "ssr based chi2 test:   chi2=3.3420  , p=0.9722  , df=10\n",
      "likelihood ratio test: chi2=3.2814  , p=0.9740  , df=10\n",
      "parameter F test:         F=0.2562  , p=0.9883  , df_denom=69, df_num=10\n",
      "\n",
      "Granger Causality\n",
      "number of lags (no zero) 10\n",
      "ssr based F test:         F=1.6235  , p=0.1182  , df_denom=69, df_num=10\n",
      "ssr based chi2 test:   chi2=21.1765 , p=0.0199  , df=10\n",
      "likelihood ratio test: chi2=19.0178 , p=0.0400  , df=10\n",
      "parameter F test:         F=1.6235  , p=0.1182  , df_denom=69, df_num=10\n",
      "\n",
      "Granger Causality\n",
      "number of lags (no zero) 10\n",
      "ssr based F test:         F=0.8030  , p=0.6263  , df_denom=69, df_num=10\n",
      "ssr based chi2 test:   chi2=10.4740 , p=0.3999  , df=10\n",
      "likelihood ratio test: chi2=9.9081  , p=0.4486  , df=10\n",
      "parameter F test:         F=0.8030  , p=0.6263  , df_denom=69, df_num=10\n",
      "\n",
      "Granger Causality\n",
      "number of lags (no zero) 10\n",
      "ssr based F test:         F=1.3199  , p=0.2375  , df_denom=69, df_num=10\n",
      "ssr based chi2 test:   chi2=17.2166 , p=0.0697  , df=10\n",
      "likelihood ratio test: chi2=15.7538 , p=0.1069  , df=10\n",
      "parameter F test:         F=1.3199  , p=0.2375  , df_denom=69, df_num=10\n",
      "\n",
      "Granger Causality\n",
      "number of lags (no zero) 10\n",
      "ssr based F test:         F=1.2453  , p=0.2788  , df_denom=69, df_num=10\n",
      "ssr based chi2 test:   chi2=16.2436 , p=0.0929  , df=10\n",
      "likelihood ratio test: chi2=14.9333 , p=0.1345  , df=10\n",
      "parameter F test:         F=1.2453  , p=0.2788  , df_denom=69, df_num=10\n",
      "\n",
      "Granger Causality\n",
      "number of lags (no zero) 10\n",
      "ssr based F test:         F=1.2234  , p=0.2920  , df_denom=69, df_num=10\n",
      "ssr based chi2 test:   chi2=15.9568 , p=0.1009  , df=10\n",
      "likelihood ratio test: chi2=14.6900 , p=0.1438  , df=10\n",
      "parameter F test:         F=1.2234  , p=0.2920  , df_denom=69, df_num=10\n",
      "\n",
      "Granger Causality\n",
      "number of lags (no zero) 10\n",
      "ssr based F test:         F=1.1696  , p=0.3262  , df_denom=69, df_num=10\n",
      "ssr based chi2 test:   chi2=15.2551 , p=0.1230  , df=10\n",
      "likelihood ratio test: chi2=14.0920 , p=0.1688  , df=10\n",
      "parameter F test:         F=1.1696  , p=0.3262  , df_denom=69, df_num=10\n",
      "\n",
      "Granger Causality\n",
      "number of lags (no zero) 10\n",
      "ssr based F test:         F=2.4696  , p=0.0137  , df_denom=69, df_num=10\n",
      "ssr based chi2 test:   chi2=32.2124 , p=0.0004  , df=10\n",
      "likelihood ratio test: chi2=27.5356 , p=0.0021  , df=10\n",
      "parameter F test:         F=2.4696  , p=0.0137  , df_denom=69, df_num=10\n",
      "\n",
      "Granger Causality\n",
      "number of lags (no zero) 10\n",
      "ssr based F test:         F=1.2611  , p=0.2696  , df_denom=69, df_num=10\n",
      "ssr based chi2 test:   chi2=16.4491 , p=0.0875  , df=10\n",
      "likelihood ratio test: chi2=15.1072 , p=0.1282  , df=10\n",
      "parameter F test:         F=1.2611  , p=0.2696  , df_denom=69, df_num=10\n",
      "\n",
      "Granger Causality\n",
      "number of lags (no zero) 10\n",
      "ssr based F test:         F=1.0080  , p=0.4457  , df_denom=69, df_num=10\n",
      "ssr based chi2 test:   chi2=13.1483 , p=0.2155  , df=10\n",
      "likelihood ratio test: chi2=12.2723 , p=0.2672  , df=10\n",
      "parameter F test:         F=1.0080  , p=0.4457  , df_denom=69, df_num=10\n",
      "\n",
      "Granger Causality\n",
      "number of lags (no zero) 10\n",
      "ssr based F test:         F=0.8819  , p=0.5541  , df_denom=69, df_num=10\n",
      "ssr based chi2 test:   chi2=11.5035 , p=0.3197  , df=10\n",
      "likelihood ratio test: chi2=10.8256 , p=0.3713  , df=10\n",
      "parameter F test:         F=0.8819  , p=0.5541  , df_denom=69, df_num=10\n",
      "\n",
      "Granger Causality\n",
      "number of lags (no zero) 10\n",
      "ssr based F test:         F=1.4109  , p=0.1940  , df_denom=69, df_num=10\n",
      "ssr based chi2 test:   chi2=18.4031 , p=0.0485  , df=10\n",
      "likelihood ratio test: chi2=16.7442 , p=0.0802  , df=10\n",
      "parameter F test:         F=1.4109  , p=0.1940  , df_denom=69, df_num=10\n",
      "\n",
      "Granger Causality\n",
      "number of lags (no zero) 10\n",
      "ssr based F test:         F=0.7030  , p=0.7185  , df_denom=69, df_num=10\n",
      "ssr based chi2 test:   chi2=9.1692  , p=0.5161  , df=10\n",
      "likelihood ratio test: chi2=8.7316  , p=0.5577  , df=10\n",
      "parameter F test:         F=0.7030  , p=0.7185  , df_denom=69, df_num=10\n",
      "\n",
      "Granger Causality\n",
      "number of lags (no zero) 10\n",
      "ssr based F test:         F=1.1146  , p=0.3642  , df_denom=69, df_num=10\n",
      "ssr based chi2 test:   chi2=14.5378 , p=0.1498  , df=10\n",
      "likelihood ratio test: chi2=13.4765 , p=0.1982  , df=10\n",
      "parameter F test:         F=1.1146  , p=0.3642  , df_denom=69, df_num=10\n",
      "\n",
      "Granger Causality\n",
      "number of lags (no zero) 10\n",
      "ssr based F test:         F=0.7031  , p=0.7184  , df_denom=69, df_num=10\n",
      "ssr based chi2 test:   chi2=9.1704  , p=0.5160  , df=10\n",
      "likelihood ratio test: chi2=8.7327  , p=0.5576  , df=10\n",
      "parameter F test:         F=0.7031  , p=0.7184  , df_denom=69, df_num=10\n",
      "\n",
      "Granger Causality\n",
      "number of lags (no zero) 10\n",
      "ssr based F test:         F=0.5746  , p=0.8291  , df_denom=69, df_num=10\n",
      "ssr based chi2 test:   chi2=7.4947  , p=0.6781  , df=10\n",
      "likelihood ratio test: chi2=7.1989  , p=0.7065  , df=10\n",
      "parameter F test:         F=0.5746  , p=0.8291  , df_denom=69, df_num=10\n",
      "\n",
      "Granger Causality\n",
      "number of lags (no zero) 10\n",
      "ssr based F test:         F=0.8935  , p=0.5438  , df_denom=69, df_num=10\n",
      "ssr based chi2 test:   chi2=11.6540 , p=0.3089  , df=10\n",
      "likelihood ratio test: chi2=10.9589 , p=0.3607  , df=10\n",
      "parameter F test:         F=0.8935  , p=0.5438  , df_denom=69, df_num=10\n",
      "\n",
      "Granger Causality\n",
      "number of lags (no zero) 10\n",
      "ssr based F test:         F=0.7729  , p=0.6541  , df_denom=69, df_num=10\n",
      "ssr based chi2 test:   chi2=10.0819 , p=0.4333  , df=10\n",
      "likelihood ratio test: chi2=9.5561  , p=0.4803  , df=10\n",
      "parameter F test:         F=0.7729  , p=0.6541  , df_denom=69, df_num=10\n",
      "\n",
      "Granger Causality\n",
      "number of lags (no zero) 10\n",
      "ssr based F test:         F=0.8208  , p=0.6099  , df_denom=69, df_num=10\n",
      "ssr based chi2 test:   chi2=10.7057 , p=0.3809  , df=10\n",
      "likelihood ratio test: chi2=10.1154 , p=0.4304  , df=10\n",
      "parameter F test:         F=0.8208  , p=0.6099  , df_denom=69, df_num=10\n",
      "\n",
      "Granger Causality\n",
      "number of lags (no zero) 10\n",
      "ssr based F test:         F=0.8291  , p=0.6022  , df_denom=69, df_num=10\n",
      "ssr based chi2 test:   chi2=10.8146 , p=0.3721  , df=10\n",
      "likelihood ratio test: chi2=10.2127 , p=0.4220  , df=10\n",
      "parameter F test:         F=0.8291  , p=0.6022  , df_denom=69, df_num=10\n",
      "\n",
      "Granger Causality\n",
      "number of lags (no zero) 10\n",
      "ssr based F test:         F=1.8513  , p=0.0676  , df_denom=69, df_num=10\n",
      "ssr based chi2 test:   chi2=24.1473 , p=0.0072  , df=10\n",
      "likelihood ratio test: chi2=21.3912 , p=0.0185  , df=10\n",
      "parameter F test:         F=1.8513  , p=0.0676  , df_denom=69, df_num=10\n",
      "\n",
      "Granger Causality\n",
      "number of lags (no zero) 10\n",
      "ssr based F test:         F=0.4575  , p=0.9114  , df_denom=69, df_num=10\n",
      "ssr based chi2 test:   chi2=5.9670  , p=0.8180  , df=10\n",
      "likelihood ratio test: chi2=5.7776  , p=0.8336  , df=10\n",
      "parameter F test:         F=0.4575  , p=0.9114  , df_denom=69, df_num=10\n",
      "\n",
      "Granger Causality\n",
      "number of lags (no zero) 10\n",
      "ssr based F test:         F=1.7153  , p=0.0946  , df_denom=69, df_num=10\n",
      "ssr based chi2 test:   chi2=22.3739 , p=0.0133  , df=10\n",
      "likelihood ratio test: chi2=19.9820 , p=0.0294  , df=10\n",
      "parameter F test:         F=1.7153  , p=0.0946  , df_denom=69, df_num=10\n",
      "\n",
      "Granger Causality\n",
      "number of lags (no zero) 10\n",
      "ssr based F test:         F=0.8753  , p=0.5601  , df_denom=69, df_num=10\n",
      "ssr based chi2 test:   chi2=11.4173 , p=0.3259  , df=10\n",
      "likelihood ratio test: chi2=10.7490 , p=0.3774  , df=10\n",
      "parameter F test:         F=0.8753  , p=0.5601  , df_denom=69, df_num=10\n",
      "\n",
      "Granger Causality\n",
      "number of lags (no zero) 10\n",
      "ssr based F test:         F=2.5645  , p=0.0107  , df_denom=69, df_num=10\n",
      "ssr based chi2 test:   chi2=33.4494 , p=0.0002  , df=10\n",
      "likelihood ratio test: chi2=28.4420 , p=0.0015  , df=10\n",
      "parameter F test:         F=2.5645  , p=0.0107  , df_denom=69, df_num=10\n",
      "\n",
      "Granger Causality\n",
      "number of lags (no zero) 10\n",
      "ssr based F test:         F=0.6623  , p=0.7550  , df_denom=69, df_num=10\n",
      "ssr based chi2 test:   chi2=8.6393  , p=0.5666  , df=10\n",
      "likelihood ratio test: chi2=8.2494  , p=0.6045  , df=10\n",
      "parameter F test:         F=0.6623  , p=0.7550  , df_denom=69, df_num=10\n",
      "\n",
      "Granger Causality\n",
      "number of lags (no zero) 10\n",
      "ssr based F test:         F=1.7042  , p=0.0972  , df_denom=69, df_num=10\n",
      "ssr based chi2 test:   chi2=22.2280 , p=0.0140  , df=10\n",
      "likelihood ratio test: chi2=19.8651 , p=0.0306  , df=10\n",
      "parameter F test:         F=1.7042  , p=0.0972  , df_denom=69, df_num=10\n",
      "\n",
      "Granger Causality\n",
      "number of lags (no zero) 10\n",
      "ssr based F test:         F=1.1979  , p=0.3078  , df_denom=69, df_num=10\n",
      "ssr based chi2 test:   chi2=15.6246 , p=0.1109  , df=10\n",
      "likelihood ratio test: chi2=14.4074 , p=0.1552  , df=10\n",
      "parameter F test:         F=1.1979  , p=0.3078  , df_denom=69, df_num=10\n",
      "\n",
      "Granger Causality\n",
      "number of lags (no zero) 10\n",
      "ssr based F test:         F=1.8459  , p=0.0685  , df_denom=69, df_num=10\n",
      "ssr based chi2 test:   chi2=24.0769 , p=0.0074  , df=10\n",
      "likelihood ratio test: chi2=21.3356 , p=0.0189  , df=10\n",
      "parameter F test:         F=1.8459  , p=0.0685  , df_denom=69, df_num=10\n",
      "\n",
      "Granger Causality\n",
      "number of lags (no zero) 10\n",
      "ssr based F test:         F=1.2167  , p=0.2961  , df_denom=69, df_num=10\n",
      "ssr based chi2 test:   chi2=15.8696 , p=0.1034  , df=10\n",
      "likelihood ratio test: chi2=14.6159 , p=0.1467  , df=10\n",
      "parameter F test:         F=1.2167  , p=0.2961  , df_denom=69, df_num=10\n",
      "\n",
      "Granger Causality\n",
      "number of lags (no zero) 10\n",
      "ssr based F test:         F=2.2987  , p=0.0215  , df_denom=69, df_num=10\n",
      "ssr based chi2 test:   chi2=29.9834 , p=0.0009  , df=10\n",
      "likelihood ratio test: chi2=25.8789 , p=0.0039  , df=10\n",
      "parameter F test:         F=2.2987  , p=0.0215  , df_denom=69, df_num=10\n",
      "\n",
      "Granger Causality\n",
      "number of lags (no zero) 10\n",
      "ssr based F test:         F=0.9535  , p=0.4913  , df_denom=69, df_num=10\n",
      "ssr based chi2 test:   chi2=12.4364 , p=0.2569  , df=10\n",
      "likelihood ratio test: chi2=11.6489 , p=0.3092  , df=10\n",
      "parameter F test:         F=0.9535  , p=0.4913  , df_denom=69, df_num=10\n",
      "\n",
      "Granger Causality\n",
      "number of lags (no zero) 10\n",
      "ssr based F test:         F=1.0144  , p=0.4406  , df_denom=69, df_num=10\n",
      "ssr based chi2 test:   chi2=13.2314 , p=0.2110  , df=10\n",
      "likelihood ratio test: chi2=12.3447 , p=0.2626  , df=10\n",
      "parameter F test:         F=1.0144  , p=0.4406  , df_denom=69, df_num=10\n",
      "\n",
      "Granger Causality\n",
      "number of lags (no zero) 10\n",
      "ssr based F test:         F=1.7281  , p=0.0917  , df_denom=69, df_num=10\n",
      "ssr based chi2 test:   chi2=22.5410 , p=0.0126  , df=10\n",
      "likelihood ratio test: chi2=20.1157 , p=0.0282  , df=10\n",
      "parameter F test:         F=1.7281  , p=0.0917  , df_denom=69, df_num=10\n",
      "\n",
      "Granger Causality\n",
      "number of lags (no zero) 10\n",
      "ssr based F test:         F=0.6025  , p=0.8064  , df_denom=69, df_num=10\n",
      "ssr based chi2 test:   chi2=7.8592  , p=0.6426  , df=10\n",
      "likelihood ratio test: chi2=7.5348  , p=0.6742  , df=10\n",
      "parameter F test:         F=0.6025  , p=0.8064  , df_denom=69, df_num=10\n",
      "\n",
      "Granger Causality\n",
      "number of lags (no zero) 10\n",
      "ssr based F test:         F=1.2758  , p=0.2613  , df_denom=69, df_num=10\n",
      "ssr based chi2 test:   chi2=16.6403 , p=0.0827  , df=10\n",
      "likelihood ratio test: chi2=15.2687 , p=0.1226  , df=10\n",
      "parameter F test:         F=1.2758  , p=0.2613  , df_denom=69, df_num=10\n",
      "\n",
      "Granger Causality\n",
      "number of lags (no zero) 10\n",
      "ssr based F test:         F=0.5522  , p=0.8466  , df_denom=69, df_num=10\n",
      "ssr based chi2 test:   chi2=7.2026  , p=0.7062  , df=10\n",
      "likelihood ratio test: chi2=6.9289  , p=0.7321  , df=10\n",
      "parameter F test:         F=0.5522  , p=0.8466  , df_denom=69, df_num=10\n",
      "\n",
      "Granger Causality\n",
      "number of lags (no zero) 10\n",
      "ssr based F test:         F=1.0867  , p=0.3845  , df_denom=69, df_num=10\n",
      "ssr based chi2 test:   chi2=14.1741 , p=0.1652  , df=10\n",
      "likelihood ratio test: chi2=13.1628 , p=0.2147  , df=10\n",
      "parameter F test:         F=1.0867  , p=0.3845  , df_denom=69, df_num=10\n",
      "\n",
      "Granger Causality\n",
      "number of lags (no zero) 10\n",
      "ssr based F test:         F=2.8955  , p=0.0044  , df_denom=69, df_num=10\n",
      "ssr based chi2 test:   chi2=37.7671 , p=0.0000  , df=10\n",
      "likelihood ratio test: chi2=31.5359 , p=0.0005  , df=10\n",
      "parameter F test:         F=2.8955  , p=0.0044  , df_denom=69, df_num=10\n",
      "\n",
      "Granger Causality\n",
      "number of lags (no zero) 10\n",
      "ssr based F test:         F=0.5821  , p=0.8232  , df_denom=69, df_num=10\n",
      "ssr based chi2 test:   chi2=7.5920  , p=0.6686  , df=10\n",
      "likelihood ratio test: chi2=7.2887  , p=0.6979  , df=10\n",
      "parameter F test:         F=0.5821  , p=0.8232  , df_denom=69, df_num=10\n",
      "\n",
      "Granger Causality\n",
      "number of lags (no zero) 10\n",
      "ssr based F test:         F=0.7400  , p=0.6845  , df_denom=69, df_num=10\n",
      "ssr based chi2 test:   chi2=9.6527  , p=0.4715  , df=10\n",
      "likelihood ratio test: chi2=9.1693  , p=0.5161  , df=10\n",
      "parameter F test:         F=0.7400  , p=0.6845  , df_denom=69, df_num=10\n",
      "\n",
      "Granger Causality\n",
      "number of lags (no zero) 10\n",
      "ssr based F test:         F=1.0010  , p=0.4515  , df_denom=69, df_num=10\n",
      "ssr based chi2 test:   chi2=13.0562 , p=0.2205  , df=10\n",
      "likelihood ratio test: chi2=12.1918 , p=0.2724  , df=10\n",
      "parameter F test:         F=1.0010  , p=0.4515  , df_denom=69, df_num=10\n",
      "\n",
      "Granger Causality\n",
      "number of lags (no zero) 10\n",
      "ssr based F test:         F=1.8312  , p=0.0711  , df_denom=69, df_num=10\n",
      "ssr based chi2 test:   chi2=23.8855 , p=0.0079  , df=10\n",
      "likelihood ratio test: chi2=21.1845 , p=0.0198  , df=10\n",
      "parameter F test:         F=1.8312  , p=0.0711  , df_denom=69, df_num=10\n",
      "\n",
      "Granger Causality\n",
      "number of lags (no zero) 10\n",
      "ssr based F test:         F=0.9596  , p=0.4860  , df_denom=69, df_num=10\n",
      "ssr based chi2 test:   chi2=12.5170 , p=0.2519  , df=10\n",
      "likelihood ratio test: chi2=11.7197 , p=0.3043  , df=10\n",
      "parameter F test:         F=0.9596  , p=0.4860  , df_denom=69, df_num=10\n",
      "\n",
      "Granger Causality\n",
      "number of lags (no zero) 10\n",
      "ssr based F test:         F=0.8218  , p=0.6090  , df_denom=69, df_num=10\n",
      "ssr based chi2 test:   chi2=10.7185 , p=0.3799  , df=10\n",
      "likelihood ratio test: chi2=10.1268 , p=0.4294  , df=10\n",
      "parameter F test:         F=0.8218  , p=0.6090  , df_denom=69, df_num=10\n",
      "\n",
      "Granger Causality\n",
      "number of lags (no zero) 10\n",
      "ssr based F test:         F=2.4915  , p=0.0129  , df_denom=69, df_num=10\n",
      "ssr based chi2 test:   chi2=32.4985 , p=0.0003  , df=10\n",
      "likelihood ratio test: chi2=27.7460 , p=0.0020  , df=10\n",
      "parameter F test:         F=2.4915  , p=0.0129  , df_denom=69, df_num=10\n",
      "\n",
      "Granger Causality\n",
      "number of lags (no zero) 10\n",
      "ssr based F test:         F=0.6248  , p=0.7877  , df_denom=69, df_num=10\n",
      "ssr based chi2 test:   chi2=8.1494  , p=0.6142  , df=10\n",
      "likelihood ratio test: chi2=7.8013  , p=0.6482  , df=10\n",
      "parameter F test:         F=0.6248  , p=0.7877  , df_denom=69, df_num=10\n",
      "\n",
      "Granger Causality\n",
      "number of lags (no zero) 10\n",
      "ssr based F test:         F=1.9846  , p=0.0483  , df_denom=69, df_num=10\n",
      "ssr based chi2 test:   chi2=25.8861 , p=0.0039  , df=10\n",
      "likelihood ratio test: chi2=22.7518 , p=0.0117  , df=10\n",
      "parameter F test:         F=1.9846  , p=0.0483  , df_denom=69, df_num=10\n",
      "\n",
      "Granger Causality\n",
      "number of lags (no zero) 10\n",
      "ssr based F test:         F=1.0861  , p=0.3849  , df_denom=69, df_num=10\n",
      "ssr based chi2 test:   chi2=14.1663 , p=0.1655  , df=10\n",
      "likelihood ratio test: chi2=13.1561 , p=0.2151  , df=10\n",
      "parameter F test:         F=1.0861  , p=0.3849  , df_denom=69, df_num=10\n",
      "\n",
      "Granger Causality\n",
      "number of lags (no zero) 10\n",
      "ssr based F test:         F=0.8518  , p=0.5815  , df_denom=69, df_num=10\n",
      "ssr based chi2 test:   chi2=11.1100 , p=0.3490  , df=10\n",
      "likelihood ratio test: chi2=10.4759 , p=0.3998  , df=10\n",
      "parameter F test:         F=0.8518  , p=0.5815  , df_denom=69, df_num=10\n",
      "\n",
      "Granger Causality\n",
      "number of lags (no zero) 10\n",
      "ssr based F test:         F=1.0976  , p=0.3764  , df_denom=69, df_num=10\n",
      "ssr based chi2 test:   chi2=14.3171 , p=0.1590  , df=10\n",
      "likelihood ratio test: chi2=13.2863 , p=0.2081  , df=10\n",
      "parameter F test:         F=1.0976  , p=0.3764  , df_denom=69, df_num=10\n",
      "\n",
      "Granger Causality\n",
      "number of lags (no zero) 10\n",
      "ssr based F test:         F=1.2596  , p=0.2705  , df_denom=69, df_num=10\n",
      "ssr based chi2 test:   chi2=16.4294 , p=0.0880  , df=10\n",
      "likelihood ratio test: chi2=15.0905 , p=0.1288  , df=10\n",
      "parameter F test:         F=1.2596  , p=0.2705  , df_denom=69, df_num=10\n",
      "\n",
      "Granger Causality\n",
      "number of lags (no zero) 10\n",
      "ssr based F test:         F=0.6614  , p=0.7558  , df_denom=69, df_num=10\n",
      "ssr based chi2 test:   chi2=8.6267  , p=0.5679  , df=10\n",
      "likelihood ratio test: chi2=8.2379  , p=0.6056  , df=10\n",
      "parameter F test:         F=0.6614  , p=0.7558  , df_denom=69, df_num=10\n",
      "\n",
      "Granger Causality\n",
      "number of lags (no zero) 10\n",
      "ssr based F test:         F=1.0521  , p=0.4108  , df_denom=69, df_num=10\n",
      "ssr based chi2 test:   chi2=13.7228 , p=0.1860  , df=10\n",
      "likelihood ratio test: chi2=12.7721 , p=0.2367  , df=10\n",
      "parameter F test:         F=1.0521  , p=0.4108  , df_denom=69, df_num=10\n",
      "\n",
      "Granger Causality\n",
      "number of lags (no zero) 10\n",
      "ssr based F test:         F=1.3964  , p=0.2005  , df_denom=69, df_num=10\n",
      "ssr based chi2 test:   chi2=18.2144 , p=0.0515  , df=10\n",
      "likelihood ratio test: chi2=16.5875 , p=0.0840  , df=10\n",
      "parameter F test:         F=1.3964  , p=0.2005  , df_denom=69, df_num=10\n",
      "\n",
      "Granger Causality\n",
      "number of lags (no zero) 10\n",
      "ssr based F test:         F=0.4405  , p=0.9213  , df_denom=69, df_num=10\n",
      "ssr based chi2 test:   chi2=5.7456  , p=0.8362  , df=10\n",
      "likelihood ratio test: chi2=5.5697  , p=0.8500  , df=10\n",
      "parameter F test:         F=0.4405  , p=0.9213  , df_denom=69, df_num=10\n",
      "\n",
      "Granger Causality\n",
      "number of lags (no zero) 10\n",
      "ssr based F test:         F=1.4357  , p=0.1834  , df_denom=69, df_num=10\n",
      "ssr based chi2 test:   chi2=18.7270 , p=0.0439  , df=10\n",
      "likelihood ratio test: chi2=17.0127 , p=0.0741  , df=10\n",
      "parameter F test:         F=1.4357  , p=0.1834  , df_denom=69, df_num=10\n",
      "\n",
      "Granger Causality\n",
      "number of lags (no zero) 10\n",
      "ssr based F test:         F=1.2878  , p=0.2546  , df_denom=69, df_num=10\n",
      "ssr based chi2 test:   chi2=16.7975 , p=0.0790  , df=10\n",
      "likelihood ratio test: chi2=15.4012 , p=0.1181  , df=10\n",
      "parameter F test:         F=1.2878  , p=0.2546  , df_denom=69, df_num=10\n",
      "\n",
      "Granger Causality\n",
      "number of lags (no zero) 10\n",
      "ssr based F test:         F=1.2448  , p=0.2791  , df_denom=69, df_num=10\n",
      "ssr based chi2 test:   chi2=16.2369 , p=0.0930  , df=10\n",
      "likelihood ratio test: chi2=14.9275 , p=0.1347  , df=10\n",
      "parameter F test:         F=1.2448  , p=0.2791  , df_denom=69, df_num=10\n",
      "\n",
      "Granger Causality\n",
      "number of lags (no zero) 10\n",
      "ssr based F test:         F=1.5717  , p=0.1337  , df_denom=69, df_num=10\n",
      "ssr based chi2 test:   chi2=20.5010 , p=0.0249  , df=10\n",
      "likelihood ratio test: chi2=18.4693 , p=0.0475  , df=10\n",
      "parameter F test:         F=1.5717  , p=0.1337  , df_denom=69, df_num=10\n",
      "\n",
      "Granger Causality\n",
      "number of lags (no zero) 10\n",
      "ssr based F test:         F=1.0792  , p=0.3901  , df_denom=69, df_num=10\n",
      "ssr based chi2 test:   chi2=14.0766 , p=0.1695  , df=10\n",
      "likelihood ratio test: chi2=13.0786 , p=0.2193  , df=10\n",
      "parameter F test:         F=1.0792  , p=0.3901  , df_denom=69, df_num=10\n",
      "\n",
      "Granger Causality\n",
      "number of lags (no zero) 10\n",
      "ssr based F test:         F=0.5831  , p=0.8223  , df_denom=69, df_num=10\n",
      "ssr based chi2 test:   chi2=7.6058  , p=0.6673  , df=10\n",
      "likelihood ratio test: chi2=7.3015  , p=0.6967  , df=10\n",
      "parameter F test:         F=0.5831  , p=0.8223  , df_denom=69, df_num=10\n",
      "\n",
      "Granger Causality\n",
      "number of lags (no zero) 10\n",
      "ssr based F test:         F=1.5153  , p=0.1527  , df_denom=69, df_num=10\n",
      "ssr based chi2 test:   chi2=19.7647 , p=0.0316  , df=10\n",
      "likelihood ratio test: chi2=17.8676 , p=0.0572  , df=10\n",
      "parameter F test:         F=1.5153  , p=0.1527  , df_denom=69, df_num=10\n",
      "\n",
      "Granger Causality\n",
      "number of lags (no zero) 10\n",
      "ssr based F test:         F=1.1457  , p=0.3423  , df_denom=69, df_num=10\n",
      "ssr based chi2 test:   chi2=14.9435 , p=0.1341  , df=10\n",
      "likelihood ratio test: chi2=13.8251 , p=0.1811  , df=10\n",
      "parameter F test:         F=1.1457  , p=0.3423  , df_denom=69, df_num=10\n",
      "\n",
      "Granger Causality\n",
      "number of lags (no zero) 10\n",
      "ssr based F test:         F=1.2002  , p=0.3064  , df_denom=69, df_num=10\n",
      "ssr based chi2 test:   chi2=15.6547 , p=0.1100  , df=10\n",
      "likelihood ratio test: chi2=14.4330 , p=0.1541  , df=10\n",
      "parameter F test:         F=1.2002  , p=0.3064  , df_denom=69, df_num=10\n",
      "\n",
      "Granger Causality\n",
      "number of lags (no zero) 10\n",
      "ssr based F test:         F=1.1822  , p=0.3179  , df_denom=69, df_num=10\n",
      "ssr based chi2 test:   chi2=15.4203 , p=0.1175  , df=10\n",
      "likelihood ratio test: chi2=14.2331 , p=0.1626  , df=10\n",
      "parameter F test:         F=1.1822  , p=0.3179  , df_denom=69, df_num=10\n",
      "\n",
      "Granger Causality\n",
      "number of lags (no zero) 10\n",
      "ssr based F test:         F=1.5780  , p=0.1317  , df_denom=69, df_num=10\n",
      "ssr based chi2 test:   chi2=20.5833 , p=0.0242  , df=10\n",
      "likelihood ratio test: chi2=18.5363 , p=0.0466  , df=10\n",
      "parameter F test:         F=1.5780  , p=0.1317  , df_denom=69, df_num=10\n",
      "\n",
      "Granger Causality\n",
      "number of lags (no zero) 10\n",
      "ssr based F test:         F=0.7736  , p=0.6534  , df_denom=69, df_num=10\n",
      "ssr based chi2 test:   chi2=10.0907 , p=0.4326  , df=10\n",
      "likelihood ratio test: chi2=9.5641  , p=0.4795  , df=10\n",
      "parameter F test:         F=0.7736  , p=0.6534  , df_denom=69, df_num=10\n",
      "\n",
      "Granger Causality\n",
      "number of lags (no zero) 10\n",
      "ssr based F test:         F=1.8092  , p=0.0751  , df_denom=69, df_num=10\n",
      "ssr based chi2 test:   chi2=23.5981 , p=0.0087  , df=10\n",
      "likelihood ratio test: chi2=20.9572 , p=0.0214  , df=10\n",
      "parameter F test:         F=1.8092  , p=0.0751  , df_denom=69, df_num=10\n",
      "\n",
      "Granger Causality\n",
      "number of lags (no zero) 10\n",
      "ssr based F test:         F=1.5723  , p=0.1335  , df_denom=69, df_num=10\n",
      "ssr based chi2 test:   chi2=20.5076 , p=0.0248  , df=10\n",
      "likelihood ratio test: chi2=18.4747 , p=0.0475  , df=10\n",
      "parameter F test:         F=1.5723  , p=0.1335  , df_denom=69, df_num=10\n",
      "\n",
      "Granger Causality\n",
      "number of lags (no zero) 10\n",
      "ssr based F test:         F=0.4920  , p=0.8897  , df_denom=69, df_num=10\n",
      "ssr based chi2 test:   chi2=6.4174  , p=0.7791  , df=10\n",
      "likelihood ratio test: chi2=6.1989  , p=0.7983  , df=10\n",
      "parameter F test:         F=0.4920  , p=0.8897  , df_denom=69, df_num=10\n",
      "\n",
      "Granger Causality\n",
      "number of lags (no zero) 10\n",
      "ssr based F test:         F=0.9481  , p=0.4959  , df_denom=69, df_num=10\n",
      "ssr based chi2 test:   chi2=12.3668 , p=0.2613  , df=10\n",
      "likelihood ratio test: chi2=11.5878 , p=0.3136  , df=10\n",
      "parameter F test:         F=0.9481  , p=0.4959  , df_denom=69, df_num=10\n",
      "\n",
      "Granger Causality\n",
      "number of lags (no zero) 10\n",
      "ssr based F test:         F=0.9926  , p=0.4584  , df_denom=69, df_num=10\n",
      "ssr based chi2 test:   chi2=12.9465 , p=0.2267  , df=10\n",
      "likelihood ratio test: chi2=12.0959 , p=0.2787  , df=10\n",
      "parameter F test:         F=0.9926  , p=0.4584  , df_denom=69, df_num=10\n",
      "\n",
      "Granger Causality\n",
      "number of lags (no zero) 10\n",
      "ssr based F test:         F=1.0456  , p=0.4158  , df_denom=69, df_num=10\n",
      "ssr based chi2 test:   chi2=13.6383 , p=0.1901  , df=10\n",
      "likelihood ratio test: chi2=12.6987 , p=0.2410  , df=10\n",
      "parameter F test:         F=1.0456  , p=0.4158  , df_denom=69, df_num=10\n",
      "\n",
      "Granger Causality\n",
      "number of lags (no zero) 10\n",
      "ssr based F test:         F=1.3550  , p=0.2199  , df_denom=69, df_num=10\n",
      "ssr based chi2 test:   chi2=17.6733 , p=0.0607  , df=10\n",
      "likelihood ratio test: chi2=16.1362 , p=0.0958  , df=10\n",
      "parameter F test:         F=1.3550  , p=0.2199  , df_denom=69, df_num=10\n",
      "\n",
      "Granger Causality\n",
      "number of lags (no zero) 10\n",
      "ssr based F test:         F=1.5245  , p=0.1494  , df_denom=69, df_num=10\n",
      "ssr based chi2 test:   chi2=19.8846 , p=0.0304  , df=10\n",
      "likelihood ratio test: chi2=17.9659 , p=0.0555  , df=10\n",
      "parameter F test:         F=1.5245  , p=0.1494  , df_denom=69, df_num=10\n",
      "\n",
      "Granger Causality\n",
      "number of lags (no zero) 10\n",
      "ssr based F test:         F=0.4020  , p=0.9413  , df_denom=69, df_num=10\n",
      "ssr based chi2 test:   chi2=5.2440  , p=0.8743  , df=10\n",
      "likelihood ratio test: chi2=5.0969  , p=0.8846  , df=10\n",
      "parameter F test:         F=0.4020  , p=0.9413  , df_denom=69, df_num=10\n",
      "\n",
      "Granger Causality\n",
      "number of lags (no zero) 10\n",
      "ssr based F test:         F=1.3312  , p=0.2317  , df_denom=69, df_num=10\n",
      "ssr based chi2 test:   chi2=17.3639 , p=0.0667  , df=10\n",
      "likelihood ratio test: chi2=15.8773 , p=0.1032  , df=10\n",
      "parameter F test:         F=1.3312  , p=0.2317  , df_denom=69, df_num=10\n",
      "\n",
      "Granger Causality\n",
      "number of lags (no zero) 10\n",
      "ssr based F test:         F=1.6250  , p=0.1178  , df_denom=69, df_num=10\n",
      "ssr based chi2 test:   chi2=21.1956 , p=0.0198  , df=10\n",
      "likelihood ratio test: chi2=19.0333 , p=0.0398  , df=10\n",
      "parameter F test:         F=1.6250  , p=0.1178  , df_denom=69, df_num=10\n",
      "\n",
      "Granger Causality\n",
      "number of lags (no zero) 10\n",
      "ssr based F test:         F=1.0172  , p=0.4383  , df_denom=69, df_num=10\n",
      "ssr based chi2 test:   chi2=13.2680 , p=0.2091  , df=10\n",
      "likelihood ratio test: chi2=12.3766 , p=0.2606  , df=10\n",
      "parameter F test:         F=1.0172  , p=0.4383  , df_denom=69, df_num=10\n",
      "\n",
      "Granger Causality\n",
      "number of lags (no zero) 10\n",
      "ssr based F test:         F=1.4796  , p=0.1658  , df_denom=69, df_num=10\n",
      "ssr based chi2 test:   chi2=19.2996 , p=0.0366  , df=10\n",
      "likelihood ratio test: chi2=17.4855 , p=0.0643  , df=10\n",
      "parameter F test:         F=1.4796  , p=0.1658  , df_denom=69, df_num=10\n",
      "\n",
      "Granger Causality\n",
      "number of lags (no zero) 10\n",
      "ssr based F test:         F=1.0813  , p=0.3885  , df_denom=69, df_num=10\n",
      "ssr based chi2 test:   chi2=14.1038 , p=0.1683  , df=10\n",
      "likelihood ratio test: chi2=13.1021 , p=0.2180  , df=10\n",
      "parameter F test:         F=1.0813  , p=0.3885  , df_denom=69, df_num=10\n",
      "\n",
      "Granger Causality\n",
      "number of lags (no zero) 10\n",
      "ssr based F test:         F=0.8030  , p=0.6263  , df_denom=69, df_num=10\n",
      "ssr based chi2 test:   chi2=10.4739 , p=0.3999  , df=10\n",
      "likelihood ratio test: chi2=9.9079  , p=0.4486  , df=10\n",
      "parameter F test:         F=0.8030  , p=0.6263  , df_denom=69, df_num=10\n",
      "\n",
      "Granger Causality\n",
      "number of lags (no zero) 10\n",
      "ssr based F test:         F=0.7539  , p=0.6717  , df_denom=69, df_num=10\n",
      "ssr based chi2 test:   chi2=9.8338  , p=0.4552  , df=10\n",
      "likelihood ratio test: chi2=9.3327  , p=0.5008  , df=10\n",
      "parameter F test:         F=0.7539  , p=0.6717  , df_denom=69, df_num=10\n",
      "\n",
      "Granger Causality\n",
      "number of lags (no zero) 10\n",
      "ssr based F test:         F=2.4269  , p=0.0153  , df_denom=69, df_num=10\n",
      "ssr based chi2 test:   chi2=31.6549 , p=0.0005  , df=10\n",
      "likelihood ratio test: chi2=27.1241 , p=0.0025  , df=10\n",
      "parameter F test:         F=2.4269  , p=0.0153  , df_denom=69, df_num=10\n",
      "\n",
      "Granger Causality\n",
      "number of lags (no zero) 10\n",
      "ssr based F test:         F=0.7072  , p=0.7146  , df_denom=69, df_num=10\n",
      "ssr based chi2 test:   chi2=9.2242  , p=0.5110  , df=10\n",
      "likelihood ratio test: chi2=8.7815  , p=0.5530  , df=10\n",
      "parameter F test:         F=0.7072  , p=0.7146  , df_denom=69, df_num=10\n",
      "\n",
      "Granger Causality\n",
      "number of lags (no zero) 10\n",
      "ssr based F test:         F=0.2439  , p=0.9904  , df_denom=69, df_num=10\n",
      "ssr based chi2 test:   chi2=3.1817  , p=0.9768  , df=10\n",
      "likelihood ratio test: chi2=3.1268  , p=0.9783  , df=10\n",
      "parameter F test:         F=0.2439  , p=0.9904  , df_denom=69, df_num=10\n",
      "\n",
      "Granger Causality\n",
      "number of lags (no zero) 10\n",
      "ssr based F test:         F=1.0062  , p=0.4472  , df_denom=69, df_num=10\n",
      "ssr based chi2 test:   chi2=13.1247 , p=0.2168  , df=10\n",
      "likelihood ratio test: chi2=12.2516 , p=0.2686  , df=10\n",
      "parameter F test:         F=1.0062  , p=0.4472  , df_denom=69, df_num=10\n",
      "\n",
      "Granger Causality\n",
      "number of lags (no zero) 10\n",
      "ssr based F test:         F=1.2861  , p=0.2556  , df_denom=69, df_num=10\n",
      "ssr based chi2 test:   chi2=16.7747 , p=0.0795  , df=10\n",
      "likelihood ratio test: chi2=15.3821 , p=0.1187  , df=10\n",
      "parameter F test:         F=1.2861  , p=0.2556  , df_denom=69, df_num=10\n",
      "\n",
      "Granger Causality\n",
      "number of lags (no zero) 10\n",
      "ssr based F test:         F=0.9918  , p=0.4590  , df_denom=69, df_num=10\n",
      "ssr based chi2 test:   chi2=12.9370 , p=0.2272  , df=10\n",
      "likelihood ratio test: chi2=12.0877 , p=0.2792  , df=10\n",
      "parameter F test:         F=0.9918  , p=0.4590  , df_denom=69, df_num=10\n",
      "\n",
      "Granger Causality\n",
      "number of lags (no zero) 10\n",
      "ssr based F test:         F=0.7430  , p=0.6817  , df_denom=69, df_num=10\n",
      "ssr based chi2 test:   chi2=9.6918  , p=0.4679  , df=10\n",
      "likelihood ratio test: chi2=9.2047  , p=0.5128  , df=10\n",
      "parameter F test:         F=0.7430  , p=0.6817  , df_denom=69, df_num=10\n",
      "\n",
      "Granger Causality\n",
      "number of lags (no zero) 10\n",
      "ssr based F test:         F=1.9720  , p=0.0499  , df_denom=69, df_num=10\n",
      "ssr based chi2 test:   chi2=25.7211 , p=0.0041  , df=10\n",
      "likelihood ratio test: chi2=22.6236 , p=0.0122  , df=10\n",
      "parameter F test:         F=1.9720  , p=0.0499  , df_denom=69, df_num=10\n",
      "\n",
      "Granger Causality\n",
      "number of lags (no zero) 10\n",
      "ssr based F test:         F=0.4156  , p=0.9346  , df_denom=69, df_num=10\n",
      "ssr based chi2 test:   chi2=5.4204  , p=0.8614  , df=10\n",
      "likelihood ratio test: chi2=5.2634  , p=0.8729  , df=10\n",
      "parameter F test:         F=0.4156  , p=0.9346  , df_denom=69, df_num=10\n",
      "\n",
      "Granger Causality\n",
      "number of lags (no zero) 10\n",
      "ssr based F test:         F=0.9015  , p=0.5367  , df_denom=69, df_num=10\n",
      "ssr based chi2 test:   chi2=11.7581 , p=0.3016  , df=10\n",
      "likelihood ratio test: chi2=11.0510 , p=0.3536  , df=10\n",
      "parameter F test:         F=0.9015  , p=0.5367  , df_denom=69, df_num=10\n",
      "\n",
      "Granger Causality\n",
      "number of lags (no zero) 10\n",
      "ssr based F test:         F=0.7672  , p=0.6594  , df_denom=69, df_num=10\n",
      "ssr based chi2 test:   chi2=10.0074 , p=0.4398  , df=10\n",
      "likelihood ratio test: chi2=9.4891  , p=0.4864  , df=10\n",
      "parameter F test:         F=0.7672  , p=0.6594  , df_denom=69, df_num=10\n",
      "\n",
      "Granger Causality\n",
      "number of lags (no zero) 10\n",
      "ssr based F test:         F=0.5974  , p=0.8107  , df_denom=69, df_num=10\n",
      "ssr based chi2 test:   chi2=7.7920  , p=0.6491  , df=10\n",
      "likelihood ratio test: chi2=7.4729  , p=0.6802  , df=10\n",
      "parameter F test:         F=0.5974  , p=0.8107  , df_denom=69, df_num=10\n",
      "\n",
      "Granger Causality\n",
      "number of lags (no zero) 10\n",
      "ssr based F test:         F=0.9492  , p=0.4949  , df_denom=69, df_num=10\n",
      "ssr based chi2 test:   chi2=12.3815 , p=0.2603  , df=10\n",
      "likelihood ratio test: chi2=11.6006 , p=0.3127  , df=10\n",
      "parameter F test:         F=0.9492  , p=0.4949  , df_denom=69, df_num=10\n",
      "\n",
      "Granger Causality\n",
      "number of lags (no zero) 10\n",
      "ssr based F test:         F=0.9079  , p=0.5310  , df_denom=69, df_num=10\n",
      "ssr based chi2 test:   chi2=11.8420 , p=0.2958  , df=10\n",
      "likelihood ratio test: chi2=11.1252 , p=0.3478  , df=10\n",
      "parameter F test:         F=0.9079  , p=0.5310  , df_denom=69, df_num=10\n",
      "\n",
      "Granger Causality\n",
      "number of lags (no zero) 10\n",
      "ssr based F test:         F=1.4068  , p=0.1958  , df_denom=69, df_num=10\n",
      "ssr based chi2 test:   chi2=18.3496 , p=0.0493  , df=10\n",
      "likelihood ratio test: chi2=16.6998 , p=0.0813  , df=10\n",
      "parameter F test:         F=1.4068  , p=0.1958  , df_denom=69, df_num=10\n",
      "\n",
      "Granger Causality\n",
      "number of lags (no zero) 10\n",
      "ssr based F test:         F=0.3905  , p=0.9467  , df_denom=69, df_num=10\n",
      "ssr based chi2 test:   chi2=5.0934  , p=0.8849  , df=10\n",
      "likelihood ratio test: chi2=4.9545  , p=0.8942  , df=10\n",
      "parameter F test:         F=0.3905  , p=0.9467  , df_denom=69, df_num=10\n",
      "\n",
      "Granger Causality\n",
      "number of lags (no zero) 10\n",
      "ssr based F test:         F=0.8282  , p=0.6030  , df_denom=69, df_num=10\n",
      "ssr based chi2 test:   chi2=10.8033 , p=0.3731  , df=10\n",
      "likelihood ratio test: chi2=10.2025 , p=0.4229  , df=10\n",
      "parameter F test:         F=0.8282  , p=0.6030  , df_denom=69, df_num=10\n",
      "\n",
      "Granger Causality\n",
      "number of lags (no zero) 10\n",
      "ssr based F test:         F=0.9953  , p=0.4562  , df_denom=69, df_num=10\n",
      "ssr based chi2 test:   chi2=12.9817 , p=0.2247  , df=10\n",
      "likelihood ratio test: chi2=12.1268 , p=0.2767  , df=10\n",
      "parameter F test:         F=0.9953  , p=0.4562  , df_denom=69, df_num=10\n",
      "\n",
      "Granger Causality\n",
      "number of lags (no zero) 10\n",
      "ssr based F test:         F=1.1513  , p=0.3385  , df_denom=69, df_num=10\n",
      "ssr based chi2 test:   chi2=15.0174 , p=0.1314  , df=10\n",
      "likelihood ratio test: chi2=13.8885 , p=0.1781  , df=10\n",
      "parameter F test:         F=1.1513  , p=0.3385  , df_denom=69, df_num=10\n",
      "\n",
      "Granger Causality\n",
      "number of lags (no zero) 10\n",
      "ssr based F test:         F=1.6786  , p=0.1035  , df_denom=69, df_num=10\n",
      "ssr based chi2 test:   chi2=21.8943 , p=0.0157  , df=10\n",
      "likelihood ratio test: chi2=19.5970 , p=0.0333  , df=10\n",
      "parameter F test:         F=1.6786  , p=0.1035  , df_denom=69, df_num=10\n",
      "300\n",
      "\n"
     ]
    },
    {
     "data": {
      "application/vnd.vega.v5+json": {
       "$schema": "https://vega.github.io/schema/vega/v5.json",
       "axes": [
        {
         "name": "x_axis",
         "orient": "bottom",
         "scale": "xscale",
         "zindex": 100
        },
        {
         "name": "y_axis",
         "orient": "left",
         "scale": "yscale",
         "zindex": 100
        }
       ],
       "background": "white",
       "data": [
        {
         "name": "distributions",
         "transform": [
          {
           "sort": {
            "field": [
             "trajectory",
             "timepoint"
            ]
           },
           "type": "collect"
          }
         ],
         "values": [
          {
           "lower": 0,
           "timepoint": 0,
           "trajectory": "Example",
           "upper": 0
          },
          {
           "lower": -1,
           "timepoint": 1,
           "trajectory": "Example",
           "upper": 1
          },
          {
           "lower": -2,
           "timepoint": 2,
           "trajectory": "Example",
           "upper": 2
          },
          {
           "lower": -3,
           "timepoint": 3,
           "trajectory": "Example",
           "upper": 3
          },
          {
           "lower": -4,
           "timepoint": 4,
           "trajectory": "Example",
           "upper": 4
          },
          {
           "lower": -3,
           "timepoint": 5,
           "trajectory": "Example",
           "upper": 3
          },
          {
           "lower": -4,
           "timepoint": 6,
           "trajectory": "Example",
           "upper": 4
          },
          {
           "lower": -5,
           "timepoint": 7,
           "trajectory": "Example",
           "upper": 3
          },
          {
           "lower": -4,
           "timepoint": 8,
           "trajectory": "Example",
           "upper": 4
          },
          {
           "lower": -5,
           "timepoint": 9,
           "trajectory": "Example",
           "upper": 5
          },
          {
           "lower": -6,
           "timepoint": 10,
           "trajectory": "Example",
           "upper": 4
          },
          {
           "lower": -5,
           "timepoint": 11,
           "trajectory": "Example",
           "upper": 5
          },
          {
           "lower": -6,
           "timepoint": 12,
           "trajectory": "Example",
           "upper": 6
          },
          {
           "lower": -5,
           "timepoint": 13,
           "trajectory": "Example",
           "upper": 5
          },
          {
           "lower": -6,
           "timepoint": 14,
           "trajectory": "Example",
           "upper": 6
          },
          {
           "lower": -5,
           "timepoint": 15,
           "trajectory": "Example",
           "upper": 7
          },
          {
           "lower": -6,
           "timepoint": 16,
           "trajectory": "Example",
           "upper": 6
          },
          {
           "lower": -7,
           "timepoint": 17,
           "trajectory": "Example",
           "upper": 7
          },
          {
           "lower": -6,
           "timepoint": 18,
           "trajectory": "Example",
           "upper": 8
          },
          {
           "lower": -7,
           "timepoint": 19,
           "trajectory": "Example",
           "upper": 7
          },
          {
           "lower": -6,
           "timepoint": 20,
           "trajectory": "Example",
           "upper": 8
          },
          {
           "lower": -7,
           "timepoint": 21,
           "trajectory": "Example",
           "upper": 7
          },
          {
           "lower": -6,
           "timepoint": 22,
           "trajectory": "Example",
           "upper": 8
          },
          {
           "lower": -7,
           "timepoint": 23,
           "trajectory": "Example",
           "upper": 7
          },
          {
           "lower": -8,
           "timepoint": 24,
           "trajectory": "Example",
           "upper": 8
          },
          {
           "lower": -7,
           "timepoint": 25,
           "trajectory": "Example",
           "upper": 9
          },
          {
           "lower": -8,
           "timepoint": 26,
           "trajectory": "Example",
           "upper": 8
          },
          {
           "lower": -9,
           "timepoint": 27,
           "trajectory": "Example",
           "upper": 9
          },
          {
           "lower": -8,
           "timepoint": 28,
           "trajectory": "Example",
           "upper": 10
          },
          {
           "lower": -9,
           "timepoint": 29,
           "trajectory": "Example",
           "upper": 9
          },
          {
           "lower": -8.099999999999998,
           "timepoint": 30,
           "trajectory": "Example",
           "upper": 10
          },
          {
           "lower": -9,
           "timepoint": 31,
           "trajectory": "Example",
           "upper": 9.100000000000023
          },
          {
           "lower": -10,
           "timepoint": 32,
           "trajectory": "Example",
           "upper": 10
          },
          {
           "lower": -9.099999999999998,
           "timepoint": 33,
           "trajectory": "Example",
           "upper": 9.100000000000023
          },
          {
           "lower": -10,
           "timepoint": 34,
           "trajectory": "Example",
           "upper": 10
          },
          {
           "lower": -9,
           "timepoint": 35,
           "trajectory": "Example",
           "upper": 11
          },
          {
           "lower": -10,
           "timepoint": 36,
           "trajectory": "Example",
           "upper": 10
          },
          {
           "lower": -9,
           "timepoint": 37,
           "trajectory": "Example",
           "upper": 11
          },
          {
           "lower": -10,
           "timepoint": 38,
           "trajectory": "Example",
           "upper": 10.100000000000023
          },
          {
           "lower": -9,
           "timepoint": 39,
           "trajectory": "Example",
           "upper": 11
          },
          {
           "lower": -10,
           "timepoint": 40,
           "trajectory": "Example",
           "upper": 12
          },
          {
           "lower": -11,
           "timepoint": 41,
           "trajectory": "Example",
           "upper": 11
          },
          {
           "lower": -10,
           "timepoint": 42,
           "trajectory": "Example",
           "upper": 12
          },
          {
           "lower": -11,
           "timepoint": 43,
           "trajectory": "Example",
           "upper": 13
          },
          {
           "lower": -10,
           "timepoint": 44,
           "trajectory": "Example",
           "upper": 12
          },
          {
           "lower": -11,
           "timepoint": 45,
           "trajectory": "Example",
           "upper": 13
          },
          {
           "lower": -10,
           "timepoint": 46,
           "trajectory": "Example",
           "upper": 12
          },
          {
           "lower": -11,
           "timepoint": 47,
           "trajectory": "Example",
           "upper": 13
          },
          {
           "lower": -12,
           "timepoint": 48,
           "trajectory": "Example",
           "upper": 12.100000000000023
          },
          {
           "lower": -11,
           "timepoint": 49,
           "trajectory": "Example",
           "upper": 13
          },
          {
           "lower": -12,
           "timepoint": 50,
           "trajectory": "Example",
           "upper": 12
          },
          {
           "lower": -11,
           "timepoint": 51,
           "trajectory": "Example",
           "upper": 11.100000000000023
          },
          {
           "lower": -12,
           "timepoint": 52,
           "trajectory": "Example",
           "upper": 12
          },
          {
           "lower": -11,
           "timepoint": 53,
           "trajectory": "Example",
           "upper": 13
          },
          {
           "lower": -12,
           "timepoint": 54,
           "trajectory": "Example",
           "upper": 12
          },
          {
           "lower": -13,
           "timepoint": 55,
           "trajectory": "Example",
           "upper": 11.100000000000023
          },
          {
           "lower": -12.099999999999998,
           "timepoint": 56,
           "trajectory": "Example",
           "upper": 12
          },
          {
           "lower": -13,
           "timepoint": 57,
           "trajectory": "Example",
           "upper": 13
          },
          {
           "lower": -14,
           "timepoint": 58,
           "trajectory": "Example",
           "upper": 12
          },
          {
           "lower": -13,
           "timepoint": 59,
           "trajectory": "Example",
           "upper": 13
          },
          {
           "lower": -14,
           "timepoint": 60,
           "trajectory": "Example",
           "upper": 12.100000000000023
          },
          {
           "lower": -15,
           "timepoint": 61,
           "trajectory": "Example",
           "upper": 13
          },
          {
           "lower": -14,
           "timepoint": 62,
           "trajectory": "Example",
           "upper": 12.100000000000023
          },
          {
           "lower": -15,
           "timepoint": 63,
           "trajectory": "Example",
           "upper": 13
          },
          {
           "lower": -14,
           "timepoint": 64,
           "trajectory": "Example",
           "upper": 14
          },
          {
           "lower": -13.099999999999998,
           "timepoint": 65,
           "trajectory": "Example",
           "upper": 15
          },
          {
           "lower": -14,
           "timepoint": 66,
           "trajectory": "Example",
           "upper": 14
          },
          {
           "lower": -13,
           "timepoint": 67,
           "trajectory": "Example",
           "upper": 13
          },
          {
           "lower": -14,
           "timepoint": 68,
           "trajectory": "Example",
           "upper": 14
          },
          {
           "lower": -13,
           "timepoint": 69,
           "trajectory": "Example",
           "upper": 15
          },
          {
           "lower": -14,
           "timepoint": 70,
           "trajectory": "Example",
           "upper": 14
          },
          {
           "lower": -13,
           "timepoint": 71,
           "trajectory": "Example",
           "upper": 15
          },
          {
           "lower": -14,
           "timepoint": 72,
           "trajectory": "Example",
           "upper": 14
          },
          {
           "lower": -13.099999999999998,
           "timepoint": 73,
           "trajectory": "Example",
           "upper": 15
          },
          {
           "lower": -14,
           "timepoint": 74,
           "trajectory": "Example",
           "upper": 14
          },
          {
           "lower": -15,
           "timepoint": 75,
           "trajectory": "Example",
           "upper": 15
          },
          {
           "lower": -14.099999999999998,
           "timepoint": 76,
           "trajectory": "Example",
           "upper": 14
          },
          {
           "lower": -15,
           "timepoint": 77,
           "trajectory": "Example",
           "upper": 15
          },
          {
           "lower": -14,
           "timepoint": 78,
           "trajectory": "Example",
           "upper": 14.100000000000023
          },
          {
           "lower": -15,
           "timepoint": 79,
           "trajectory": "Example",
           "upper": 15
          },
          {
           "lower": -14,
           "timepoint": 80,
           "trajectory": "Example",
           "upper": 16
          },
          {
           "lower": -15,
           "timepoint": 81,
           "trajectory": "Example",
           "upper": 15
          },
          {
           "lower": -16,
           "timepoint": 82,
           "trajectory": "Example",
           "upper": 16
          },
          {
           "lower": -15,
           "timepoint": 83,
           "trajectory": "Example",
           "upper": 15
          },
          {
           "lower": -14.099999999999998,
           "timepoint": 84,
           "trajectory": "Example",
           "upper": 16
          },
          {
           "lower": -15,
           "timepoint": 85,
           "trajectory": "Example",
           "upper": 15
          },
          {
           "lower": -14.099999999999998,
           "timepoint": 86,
           "trajectory": "Example",
           "upper": 16
          },
          {
           "lower": -15,
           "timepoint": 87,
           "trajectory": "Example",
           "upper": 17
          },
          {
           "lower": -14.099999999999998,
           "timepoint": 88,
           "trajectory": "Example",
           "upper": 16.100000000000023
          },
          {
           "lower": -15,
           "timepoint": 89,
           "trajectory": "Example",
           "upper": 17
          },
          {
           "lower": -16,
           "timepoint": 90,
           "trajectory": "Example",
           "upper": 16
          },
          {
           "lower": -15,
           "timepoint": 91,
           "trajectory": "Example",
           "upper": 17
          },
          {
           "lower": -14.099999999999998,
           "timepoint": 92,
           "trajectory": "Example",
           "upper": 16.100000000000023
          },
          {
           "lower": -15,
           "timepoint": 93,
           "trajectory": "Example",
           "upper": 17
          },
          {
           "lower": -16,
           "timepoint": 94,
           "trajectory": "Example",
           "upper": 18
          },
          {
           "lower": -15,
           "timepoint": 95,
           "trajectory": "Example",
           "upper": 17
          },
          {
           "lower": -16,
           "timepoint": 96,
           "trajectory": "Example",
           "upper": 18
          },
          {
           "lower": -15.099999999999998,
           "timepoint": 97,
           "trajectory": "Example",
           "upper": 17
          },
          {
           "lower": -16,
           "timepoint": 98,
           "trajectory": "Example",
           "upper": 18
          },
          {
           "lower": -15,
           "timepoint": 99,
           "trajectory": "Example",
           "upper": 17
          }
         ]
        },
        {
         "name": "traces",
         "transform": [
          {
           "expr": "isValid(datum.value)",
           "type": "filter"
          },
          {
           "sort": {
            "field": [
             "trajectory",
             "timepoint"
            ]
           },
           "type": "collect"
          }
         ],
         "values": [
          {
           "color_by": "Baseline Mean",
           "sample_id": 0,
           "timepoint": 0,
           "trajectory": "Baseline_Mean",
           "value": 0
          },
          {
           "color_by": "Baseline Mean",
           "sample_id": 0,
           "timepoint": 1,
           "trajectory": "Baseline_Mean",
           "value": 0.08666666666666667
          },
          {
           "color_by": "Baseline Mean",
           "sample_id": 0,
           "timepoint": 2,
           "trajectory": "Baseline_Mean",
           "value": 0.08666666666666667
          },
          {
           "color_by": "Baseline Mean",
           "sample_id": 0,
           "timepoint": 3,
           "trajectory": "Baseline_Mean",
           "value": 0.05333333333333334
          },
          {
           "color_by": "Baseline Mean",
           "sample_id": 0,
           "timepoint": 4,
           "trajectory": "Baseline_Mean",
           "value": 0.1
          },
          {
           "color_by": "Baseline Mean",
           "sample_id": 0,
           "timepoint": 5,
           "trajectory": "Baseline_Mean",
           "value": 0.03333333333333333
          },
          {
           "color_by": "Baseline Mean",
           "sample_id": 0,
           "timepoint": 6,
           "trajectory": "Baseline_Mean",
           "value": -0.02666666666666667
          },
          {
           "color_by": "Baseline Mean",
           "sample_id": 0,
           "timepoint": 7,
           "trajectory": "Baseline_Mean",
           "value": -0.06
          },
          {
           "color_by": "Baseline Mean",
           "sample_id": 0,
           "timepoint": 8,
           "trajectory": "Baseline_Mean",
           "value": 0.04
          },
          {
           "color_by": "Baseline Mean",
           "sample_id": 0,
           "timepoint": 9,
           "trajectory": "Baseline_Mean",
           "value": 0.09333333333333334
          },
          {
           "color_by": "Baseline Mean",
           "sample_id": 0,
           "timepoint": 10,
           "trajectory": "Baseline_Mean",
           "value": 0.07333333333333333
          },
          {
           "color_by": "Baseline Mean",
           "sample_id": 0,
           "timepoint": 11,
           "trajectory": "Baseline_Mean",
           "value": 0.02666666666666667
          },
          {
           "color_by": "Baseline Mean",
           "sample_id": 0,
           "timepoint": 12,
           "trajectory": "Baseline_Mean",
           "value": 0.04666666666666667
          },
          {
           "color_by": "Baseline Mean",
           "sample_id": 0,
           "timepoint": 13,
           "trajectory": "Baseline_Mean",
           "value": 0.09333333333333334
          },
          {
           "color_by": "Baseline Mean",
           "sample_id": 0,
           "timepoint": 14,
           "trajectory": "Baseline_Mean",
           "value": 0.11333333333333333
          },
          {
           "color_by": "Baseline Mean",
           "sample_id": 0,
           "timepoint": 15,
           "trajectory": "Baseline_Mean",
           "value": 0.08666666666666667
          },
          {
           "color_by": "Baseline Mean",
           "sample_id": 0,
           "timepoint": 16,
           "trajectory": "Baseline_Mean",
           "value": 0.15333333333333332
          },
          {
           "color_by": "Baseline Mean",
           "sample_id": 0,
           "timepoint": 17,
           "trajectory": "Baseline_Mean",
           "value": 0.18
          },
          {
           "color_by": "Baseline Mean",
           "sample_id": 0,
           "timepoint": 18,
           "trajectory": "Baseline_Mean",
           "value": 0.04
          },
          {
           "color_by": "Baseline Mean",
           "sample_id": 0,
           "timepoint": 19,
           "trajectory": "Baseline_Mean",
           "value": 0.04
          },
          {
           "color_by": "Baseline Mean",
           "sample_id": 0,
           "timepoint": 20,
           "trajectory": "Baseline_Mean",
           "value": 0.08
          },
          {
           "color_by": "Baseline Mean",
           "sample_id": 0,
           "timepoint": 21,
           "trajectory": "Baseline_Mean",
           "value": 0.10666666666666667
          },
          {
           "color_by": "Baseline Mean",
           "sample_id": 0,
           "timepoint": 22,
           "trajectory": "Baseline_Mean",
           "value": 0.09333333333333334
          },
          {
           "color_by": "Baseline Mean",
           "sample_id": 0,
           "timepoint": 23,
           "trajectory": "Baseline_Mean",
           "value": 0.1
          },
          {
           "color_by": "Baseline Mean",
           "sample_id": 0,
           "timepoint": 24,
           "trajectory": "Baseline_Mean",
           "value": 0.05333333333333334
          },
          {
           "color_by": "Baseline Mean",
           "sample_id": 0,
           "timepoint": 25,
           "trajectory": "Baseline_Mean",
           "value": 0.02666666666666667
          },
          {
           "color_by": "Baseline Mean",
           "sample_id": 0,
           "timepoint": 26,
           "trajectory": "Baseline_Mean",
           "value": 0.06
          },
          {
           "color_by": "Baseline Mean",
           "sample_id": 0,
           "timepoint": 27,
           "trajectory": "Baseline_Mean",
           "value": 0.02
          },
          {
           "color_by": "Baseline Mean",
           "sample_id": 0,
           "timepoint": 28,
           "trajectory": "Baseline_Mean",
           "value": 0
          },
          {
           "color_by": "Baseline Mean",
           "sample_id": 0,
           "timepoint": 29,
           "trajectory": "Baseline_Mean",
           "value": 0.06666666666666667
          },
          {
           "color_by": "Baseline Mean",
           "sample_id": 0,
           "timepoint": 30,
           "trajectory": "Baseline_Mean",
           "value": 0.03333333333333333
          },
          {
           "color_by": "Baseline Mean",
           "sample_id": 0,
           "timepoint": 31,
           "trajectory": "Baseline_Mean",
           "value": -0.02
          },
          {
           "color_by": "Baseline Mean",
           "sample_id": 0,
           "timepoint": 32,
           "trajectory": "Baseline_Mean",
           "value": 0
          },
          {
           "color_by": "Baseline Mean",
           "sample_id": 0,
           "timepoint": 33,
           "trajectory": "Baseline_Mean",
           "value": 0
          },
          {
           "color_by": "Baseline Mean",
           "sample_id": 0,
           "timepoint": 34,
           "trajectory": "Baseline_Mean",
           "value": 0.006666666666666667
          },
          {
           "color_by": "Baseline Mean",
           "sample_id": 0,
           "timepoint": 35,
           "trajectory": "Baseline_Mean",
           "value": 0.12
          },
          {
           "color_by": "Baseline Mean",
           "sample_id": 0,
           "timepoint": 36,
           "trajectory": "Baseline_Mean",
           "value": 0.19333333333333333
          },
          {
           "color_by": "Baseline Mean",
           "sample_id": 0,
           "timepoint": 37,
           "trajectory": "Baseline_Mean",
           "value": 0.24666666666666667
          },
          {
           "color_by": "Baseline Mean",
           "sample_id": 0,
           "timepoint": 38,
           "trajectory": "Baseline_Mean",
           "value": 0.20666666666666667
          },
          {
           "color_by": "Baseline Mean",
           "sample_id": 0,
           "timepoint": 39,
           "trajectory": "Baseline_Mean",
           "value": 0.15333333333333332
          },
          {
           "color_by": "Baseline Mean",
           "sample_id": 0,
           "timepoint": 40,
           "trajectory": "Baseline_Mean",
           "value": 0.08666666666666667
          },
          {
           "color_by": "Baseline Mean",
           "sample_id": 0,
           "timepoint": 41,
           "trajectory": "Baseline_Mean",
           "value": 0.14
          },
          {
           "color_by": "Baseline Mean",
           "sample_id": 0,
           "timepoint": 42,
           "trajectory": "Baseline_Mean",
           "value": 0.12
          },
          {
           "color_by": "Baseline Mean",
           "sample_id": 0,
           "timepoint": 43,
           "trajectory": "Baseline_Mean",
           "value": 0.12666666666666668
          },
          {
           "color_by": "Baseline Mean",
           "sample_id": 0,
           "timepoint": 44,
           "trajectory": "Baseline_Mean",
           "value": 0.20666666666666667
          },
          {
           "color_by": "Baseline Mean",
           "sample_id": 0,
           "timepoint": 45,
           "trajectory": "Baseline_Mean",
           "value": 0.2733333333333333
          },
          {
           "color_by": "Baseline Mean",
           "sample_id": 0,
           "timepoint": 46,
           "trajectory": "Baseline_Mean",
           "value": 0.25333333333333335
          },
          {
           "color_by": "Baseline Mean",
           "sample_id": 0,
           "timepoint": 47,
           "trajectory": "Baseline_Mean",
           "value": 0.18
          },
          {
           "color_by": "Baseline Mean",
           "sample_id": 0,
           "timepoint": 48,
           "trajectory": "Baseline_Mean",
           "value": 0.14666666666666667
          },
          {
           "color_by": "Baseline Mean",
           "sample_id": 0,
           "timepoint": 49,
           "trajectory": "Baseline_Mean",
           "value": -0.04666666666666667
          },
          {
           "color_by": "Baseline Mean",
           "sample_id": 0,
           "timepoint": 50,
           "trajectory": "Baseline_Mean",
           "value": -0.06
          },
          {
           "color_by": "Baseline Mean",
           "sample_id": 0,
           "timepoint": 51,
           "trajectory": "Baseline_Mean",
           "value": -0.07333333333333333
          },
          {
           "color_by": "Baseline Mean",
           "sample_id": 0,
           "timepoint": 52,
           "trajectory": "Baseline_Mean",
           "value": -0.03333333333333333
          },
          {
           "color_by": "Baseline Mean",
           "sample_id": 0,
           "timepoint": 53,
           "trajectory": "Baseline_Mean",
           "value": -0.013333333333333334
          },
          {
           "color_by": "Baseline Mean",
           "sample_id": 0,
           "timepoint": 54,
           "trajectory": "Baseline_Mean",
           "value": -0.04
          },
          {
           "color_by": "Baseline Mean",
           "sample_id": 0,
           "timepoint": 55,
           "trajectory": "Baseline_Mean",
           "value": -0.04666666666666667
          },
          {
           "color_by": "Baseline Mean",
           "sample_id": 0,
           "timepoint": 56,
           "trajectory": "Baseline_Mean",
           "value": -0.13333333333333333
          },
          {
           "color_by": "Baseline Mean",
           "sample_id": 0,
           "timepoint": 57,
           "trajectory": "Baseline_Mean",
           "value": -0.17333333333333334
          },
          {
           "color_by": "Baseline Mean",
           "sample_id": 0,
           "timepoint": 58,
           "trajectory": "Baseline_Mean",
           "value": -0.1
          },
          {
           "color_by": "Baseline Mean",
           "sample_id": 0,
           "timepoint": 59,
           "trajectory": "Baseline_Mean",
           "value": -0.04666666666666667
          },
          {
           "color_by": "Baseline Mean",
           "sample_id": 0,
           "timepoint": 60,
           "trajectory": "Baseline_Mean",
           "value": -0.13333333333333333
          },
          {
           "color_by": "Baseline Mean",
           "sample_id": 0,
           "timepoint": 61,
           "trajectory": "Baseline_Mean",
           "value": -0.08666666666666667
          },
          {
           "color_by": "Baseline Mean",
           "sample_id": 0,
           "timepoint": 62,
           "trajectory": "Baseline_Mean",
           "value": -0.16
          },
          {
           "color_by": "Baseline Mean",
           "sample_id": 0,
           "timepoint": 63,
           "trajectory": "Baseline_Mean",
           "value": -0.14
          },
          {
           "color_by": "Baseline Mean",
           "sample_id": 0,
           "timepoint": 64,
           "trajectory": "Baseline_Mean",
           "value": -0.16666666666666666
          },
          {
           "color_by": "Baseline Mean",
           "sample_id": 0,
           "timepoint": 65,
           "trajectory": "Baseline_Mean",
           "value": -0.15333333333333332
          },
          {
           "color_by": "Baseline Mean",
           "sample_id": 0,
           "timepoint": 66,
           "trajectory": "Baseline_Mean",
           "value": -0.20666666666666667
          },
          {
           "color_by": "Baseline Mean",
           "sample_id": 0,
           "timepoint": 67,
           "trajectory": "Baseline_Mean",
           "value": -0.22666666666666666
          },
          {
           "color_by": "Baseline Mean",
           "sample_id": 0,
           "timepoint": 68,
           "trajectory": "Baseline_Mean",
           "value": -0.32
          },
          {
           "color_by": "Baseline Mean",
           "sample_id": 0,
           "timepoint": 69,
           "trajectory": "Baseline_Mean",
           "value": -0.26
          },
          {
           "color_by": "Baseline Mean",
           "sample_id": 0,
           "timepoint": 70,
           "trajectory": "Baseline_Mean",
           "value": -0.24666666666666667
          },
          {
           "color_by": "Baseline Mean",
           "sample_id": 0,
           "timepoint": 71,
           "trajectory": "Baseline_Mean",
           "value": -0.22666666666666666
          },
          {
           "color_by": "Baseline Mean",
           "sample_id": 0,
           "timepoint": 72,
           "trajectory": "Baseline_Mean",
           "value": -0.22
          },
          {
           "color_by": "Baseline Mean",
           "sample_id": 0,
           "timepoint": 73,
           "trajectory": "Baseline_Mean",
           "value": -0.25333333333333335
          },
          {
           "color_by": "Baseline Mean",
           "sample_id": 0,
           "timepoint": 74,
           "trajectory": "Baseline_Mean",
           "value": -0.30666666666666664
          },
          {
           "color_by": "Baseline Mean",
           "sample_id": 0,
           "timepoint": 75,
           "trajectory": "Baseline_Mean",
           "value": -0.28
          },
          {
           "color_by": "Baseline Mean",
           "sample_id": 0,
           "timepoint": 76,
           "trajectory": "Baseline_Mean",
           "value": -0.30666666666666664
          },
          {
           "color_by": "Baseline Mean",
           "sample_id": 0,
           "timepoint": 77,
           "trajectory": "Baseline_Mean",
           "value": -0.2866666666666667
          },
          {
           "color_by": "Baseline Mean",
           "sample_id": 0,
           "timepoint": 78,
           "trajectory": "Baseline_Mean",
           "value": -0.22666666666666666
          },
          {
           "color_by": "Baseline Mean",
           "sample_id": 0,
           "timepoint": 79,
           "trajectory": "Baseline_Mean",
           "value": -0.24666666666666667
          },
          {
           "color_by": "Baseline Mean",
           "sample_id": 0,
           "timepoint": 80,
           "trajectory": "Baseline_Mean",
           "value": -0.16666666666666666
          },
          {
           "color_by": "Baseline Mean",
           "sample_id": 0,
           "timepoint": 81,
           "trajectory": "Baseline_Mean",
           "value": -0.06666666666666667
          },
          {
           "color_by": "Baseline Mean",
           "sample_id": 0,
           "timepoint": 82,
           "trajectory": "Baseline_Mean",
           "value": -0.12666666666666668
          },
          {
           "color_by": "Baseline Mean",
           "sample_id": 0,
           "timepoint": 83,
           "trajectory": "Baseline_Mean",
           "value": -0.11333333333333333
          },
          {
           "color_by": "Baseline Mean",
           "sample_id": 0,
           "timepoint": 84,
           "trajectory": "Baseline_Mean",
           "value": -0.16666666666666666
          },
          {
           "color_by": "Baseline Mean",
           "sample_id": 0,
           "timepoint": 85,
           "trajectory": "Baseline_Mean",
           "value": -0.16666666666666666
          },
          {
           "color_by": "Baseline Mean",
           "sample_id": 0,
           "timepoint": 86,
           "trajectory": "Baseline_Mean",
           "value": -0.19333333333333333
          },
          {
           "color_by": "Baseline Mean",
           "sample_id": 0,
           "timepoint": 87,
           "trajectory": "Baseline_Mean",
           "value": -0.20666666666666667
          },
          {
           "color_by": "Baseline Mean",
           "sample_id": 0,
           "timepoint": 88,
           "trajectory": "Baseline_Mean",
           "value": -0.15333333333333332
          },
          {
           "color_by": "Baseline Mean",
           "sample_id": 0,
           "timepoint": 89,
           "trajectory": "Baseline_Mean",
           "value": -0.18
          },
          {
           "color_by": "Baseline Mean",
           "sample_id": 0,
           "timepoint": 90,
           "trajectory": "Baseline_Mean",
           "value": -0.07333333333333333
          },
          {
           "color_by": "Baseline Mean",
           "sample_id": 0,
           "timepoint": 91,
           "trajectory": "Baseline_Mean",
           "value": -0.11333333333333333
          },
          {
           "color_by": "Baseline Mean",
           "sample_id": 0,
           "timepoint": 92,
           "trajectory": "Baseline_Mean",
           "value": -0.09333333333333334
          },
          {
           "color_by": "Baseline Mean",
           "sample_id": 0,
           "timepoint": 93,
           "trajectory": "Baseline_Mean",
           "value": -0.13333333333333333
          },
          {
           "color_by": "Baseline Mean",
           "sample_id": 0,
           "timepoint": 94,
           "trajectory": "Baseline_Mean",
           "value": -0.12
          },
          {
           "color_by": "Baseline Mean",
           "sample_id": 0,
           "timepoint": 95,
           "trajectory": "Baseline_Mean",
           "value": -0.11333333333333333
          },
          {
           "color_by": "Baseline Mean",
           "sample_id": 0,
           "timepoint": 96,
           "trajectory": "Baseline_Mean",
           "value": -0.12666666666666668
          },
          {
           "color_by": "Baseline Mean",
           "sample_id": 0,
           "timepoint": 97,
           "trajectory": "Baseline_Mean",
           "value": -0.12666666666666668
          },
          {
           "color_by": "Baseline Mean",
           "sample_id": 0,
           "timepoint": 98,
           "trajectory": "Baseline_Mean",
           "value": -0.10666666666666667
          },
          {
           "color_by": "Baseline Mean",
           "sample_id": 0,
           "timepoint": 99,
           "trajectory": "Baseline_Mean",
           "value": -0.03333333333333333
          },
          {
           "color_by": "Chaos",
           "sample_id": 0,
           "timepoint": 0,
           "trajectory": "Chaos",
           "value": 0
          },
          {
           "color_by": "Chaos",
           "sample_id": 0,
           "timepoint": 1,
           "trajectory": "Chaos",
           "value": 1
          },
          {
           "color_by": "Chaos",
           "sample_id": 0,
           "timepoint": 2,
           "trajectory": "Chaos",
           "value": 0
          },
          {
           "color_by": "Chaos",
           "sample_id": 0,
           "timepoint": 3,
           "trajectory": "Chaos",
           "value": 1
          },
          {
           "color_by": "Chaos",
           "sample_id": 0,
           "timepoint": 4,
           "trajectory": "Chaos",
           "value": 2
          },
          {
           "color_by": "Chaos",
           "sample_id": 0,
           "timepoint": 5,
           "trajectory": "Chaos",
           "value": 3
          },
          {
           "color_by": "Chaos",
           "sample_id": 0,
           "timepoint": 6,
           "trajectory": "Chaos",
           "value": 2
          },
          {
           "color_by": "Chaos",
           "sample_id": 0,
           "timepoint": 7,
           "trajectory": "Chaos",
           "value": 1
          },
          {
           "color_by": "Chaos",
           "sample_id": 0,
           "timepoint": 8,
           "trajectory": "Chaos",
           "value": 0
          },
          {
           "color_by": "Chaos",
           "sample_id": 0,
           "timepoint": 9,
           "trajectory": "Chaos",
           "value": 1
          },
          {
           "color_by": "Chaos",
           "sample_id": 0,
           "timepoint": 10,
           "trajectory": "Chaos",
           "value": 2
          },
          {
           "color_by": "Chaos",
           "sample_id": 0,
           "timepoint": 11,
           "trajectory": "Chaos",
           "value": 3
          },
          {
           "color_by": "Chaos",
           "sample_id": 0,
           "timepoint": 12,
           "trajectory": "Chaos",
           "value": 2
          },
          {
           "color_by": "Chaos",
           "sample_id": 0,
           "timepoint": 13,
           "trajectory": "Chaos",
           "value": 1
          },
          {
           "color_by": "Chaos",
           "sample_id": 0,
           "timepoint": 14,
           "trajectory": "Chaos",
           "value": 0
          },
          {
           "color_by": "Chaos",
           "sample_id": 0,
           "timepoint": 15,
           "trajectory": "Chaos",
           "value": 1
          },
          {
           "color_by": "Chaos",
           "sample_id": 0,
           "timepoint": 16,
           "trajectory": "Chaos",
           "value": 0
          },
          {
           "color_by": "Chaos",
           "sample_id": 0,
           "timepoint": 17,
           "trajectory": "Chaos",
           "value": 1
          },
          {
           "color_by": "Chaos",
           "sample_id": 0,
           "timepoint": 18,
           "trajectory": "Chaos",
           "value": 0
          },
          {
           "color_by": "Chaos",
           "sample_id": 0,
           "timepoint": 19,
           "trajectory": "Chaos",
           "value": 1
          },
          {
           "color_by": "Chaos",
           "sample_id": 0,
           "timepoint": 20,
           "trajectory": "Chaos",
           "value": 2
          },
          {
           "color_by": "Chaos",
           "sample_id": 0,
           "timepoint": 21,
           "trajectory": "Chaos",
           "value": 1
          },
          {
           "color_by": "Chaos",
           "sample_id": 0,
           "timepoint": 22,
           "trajectory": "Chaos",
           "value": 2
          },
          {
           "color_by": "Chaos",
           "sample_id": 0,
           "timepoint": 23,
           "trajectory": "Chaos",
           "value": 3
          },
          {
           "color_by": "Chaos",
           "sample_id": 0,
           "timepoint": 24,
           "trajectory": "Chaos",
           "value": 4
          },
          {
           "color_by": "Chaos",
           "sample_id": 0,
           "timepoint": 25,
           "trajectory": "Chaos",
           "value": 5
          },
          {
           "color_by": "Chaos",
           "sample_id": 0,
           "timepoint": 26,
           "trajectory": "Chaos",
           "value": 4
          },
          {
           "color_by": "Chaos",
           "sample_id": 0,
           "timepoint": 27,
           "trajectory": "Chaos",
           "value": 3
          },
          {
           "color_by": "Chaos",
           "sample_id": 0,
           "timepoint": 28,
           "trajectory": "Chaos",
           "value": 2
          },
          {
           "color_by": "Chaos",
           "sample_id": 0,
           "timepoint": 29,
           "trajectory": "Chaos",
           "value": 1
          },
          {
           "color_by": "Chaos",
           "sample_id": 0,
           "timepoint": 30,
           "trajectory": "Chaos",
           "value": 0
          },
          {
           "color_by": "Chaos",
           "sample_id": 0,
           "timepoint": 31,
           "trajectory": "Chaos",
           "value": 1
          },
          {
           "color_by": "Chaos",
           "sample_id": 0,
           "timepoint": 32,
           "trajectory": "Chaos",
           "value": 2
          },
          {
           "color_by": "Chaos",
           "sample_id": 0,
           "timepoint": 33,
           "trajectory": "Chaos",
           "value": 3
          },
          {
           "color_by": "Chaos",
           "sample_id": 0,
           "timepoint": 34,
           "trajectory": "Chaos",
           "value": 4
          },
          {
           "color_by": "Chaos",
           "sample_id": 0,
           "timepoint": 35,
           "trajectory": "Chaos",
           "value": 3
          },
          {
           "color_by": "Chaos",
           "sample_id": 0,
           "timepoint": 36,
           "trajectory": "Chaos",
           "value": 4
          },
          {
           "color_by": "Chaos",
           "sample_id": 0,
           "timepoint": 37,
           "trajectory": "Chaos",
           "value": 3
          },
          {
           "color_by": "Chaos",
           "sample_id": 0,
           "timepoint": 38,
           "trajectory": "Chaos",
           "value": 4
          },
          {
           "color_by": "Chaos",
           "sample_id": 0,
           "timepoint": 39,
           "trajectory": "Chaos",
           "value": 3
          },
          {
           "color_by": "Chaos",
           "sample_id": 0,
           "timepoint": 40,
           "trajectory": "Chaos",
           "value": 2
          },
          {
           "color_by": "Chaos",
           "sample_id": 0,
           "timepoint": 41,
           "trajectory": "Chaos",
           "value": 1
          },
          {
           "color_by": "Chaos",
           "sample_id": 0,
           "timepoint": 42,
           "trajectory": "Chaos",
           "value": 2
          },
          {
           "color_by": "Chaos",
           "sample_id": 0,
           "timepoint": 43,
           "trajectory": "Chaos",
           "value": 3
          },
          {
           "color_by": "Chaos",
           "sample_id": 0,
           "timepoint": 44,
           "trajectory": "Chaos",
           "value": 4
          },
          {
           "color_by": "Chaos",
           "sample_id": 0,
           "timepoint": 45,
           "trajectory": "Chaos",
           "value": 3
          },
          {
           "color_by": "Chaos",
           "sample_id": 0,
           "timepoint": 46,
           "trajectory": "Chaos",
           "value": 4
          },
          {
           "color_by": "Chaos",
           "sample_id": 0,
           "timepoint": 47,
           "trajectory": "Chaos",
           "value": 5
          },
          {
           "color_by": "Chaos",
           "sample_id": 0,
           "timepoint": 48,
           "trajectory": "Chaos",
           "value": 6
          },
          {
           "color_by": "Chaos",
           "sample_id": 0,
           "timepoint": 49,
           "trajectory": "Chaos",
           "value": 7
          },
          {
           "color_by": "Chaos",
           "sample_id": 0,
           "timepoint": 50,
           "trajectory": "Chaos",
           "value": 6
          },
          {
           "color_by": "Chaos",
           "sample_id": 0,
           "timepoint": 51,
           "trajectory": "Chaos",
           "value": 5
          },
          {
           "color_by": "Chaos",
           "sample_id": 0,
           "timepoint": 52,
           "trajectory": "Chaos",
           "value": 6
          },
          {
           "color_by": "Chaos",
           "sample_id": 0,
           "timepoint": 53,
           "trajectory": "Chaos",
           "value": 5
          },
          {
           "color_by": "Chaos",
           "sample_id": 0,
           "timepoint": 54,
           "trajectory": "Chaos",
           "value": 4
          },
          {
           "color_by": "Chaos",
           "sample_id": 0,
           "timepoint": 55,
           "trajectory": "Chaos",
           "value": 5
          },
          {
           "color_by": "Chaos",
           "sample_id": 0,
           "timepoint": 56,
           "trajectory": "Chaos",
           "value": 4
          },
          {
           "color_by": "Chaos",
           "sample_id": 0,
           "timepoint": 57,
           "trajectory": "Chaos",
           "value": 5
          },
          {
           "color_by": "Chaos",
           "sample_id": 0,
           "timepoint": 58,
           "trajectory": "Chaos",
           "value": 4
          },
          {
           "color_by": "Chaos",
           "sample_id": 0,
           "timepoint": 59,
           "trajectory": "Chaos",
           "value": 5
          },
          {
           "color_by": "Chaos",
           "sample_id": 0,
           "timepoint": 60,
           "trajectory": "Chaos",
           "value": 4
          },
          {
           "color_by": "Chaos",
           "sample_id": 0,
           "timepoint": 61,
           "trajectory": "Chaos",
           "value": 3
          },
          {
           "color_by": "Chaos",
           "sample_id": 0,
           "timepoint": 62,
           "trajectory": "Chaos",
           "value": 2
          },
          {
           "color_by": "Chaos",
           "sample_id": 0,
           "timepoint": 63,
           "trajectory": "Chaos",
           "value": 1
          },
          {
           "color_by": "Chaos",
           "sample_id": 0,
           "timepoint": 64,
           "trajectory": "Chaos",
           "value": 2
          },
          {
           "color_by": "Chaos",
           "sample_id": 0,
           "timepoint": 65,
           "trajectory": "Chaos",
           "value": 3
          },
          {
           "color_by": "Chaos",
           "sample_id": 0,
           "timepoint": 66,
           "trajectory": "Chaos",
           "value": 4
          },
          {
           "color_by": "Chaos",
           "sample_id": 0,
           "timepoint": 67,
           "trajectory": "Chaos",
           "value": 3
          },
          {
           "color_by": "Chaos",
           "sample_id": 0,
           "timepoint": 68,
           "trajectory": "Chaos",
           "value": 2
          },
          {
           "color_by": "Chaos",
           "sample_id": 0,
           "timepoint": 69,
           "trajectory": "Chaos",
           "value": 3
          },
          {
           "color_by": "Chaos",
           "sample_id": 0,
           "timepoint": 70,
           "trajectory": "Chaos",
           "value": 2
          },
          {
           "color_by": "Chaos",
           "sample_id": 0,
           "timepoint": 71,
           "trajectory": "Chaos",
           "value": 1
          },
          {
           "color_by": "Chaos",
           "sample_id": 0,
           "timepoint": 72,
           "trajectory": "Chaos",
           "value": 0
          },
          {
           "color_by": "Chaos",
           "sample_id": 0,
           "timepoint": 73,
           "trajectory": "Chaos",
           "value": 1
          },
          {
           "color_by": "Chaos",
           "sample_id": 0,
           "timepoint": 74,
           "trajectory": "Chaos",
           "value": 2
          },
          {
           "color_by": "Chaos",
           "sample_id": 0,
           "timepoint": 75,
           "trajectory": "Chaos",
           "value": 1
          },
          {
           "color_by": "Chaos",
           "sample_id": 0,
           "timepoint": 76,
           "trajectory": "Chaos",
           "value": 0
          },
          {
           "color_by": "Chaos",
           "sample_id": 0,
           "timepoint": 77,
           "trajectory": "Chaos",
           "value": 1
          },
          {
           "color_by": "Chaos",
           "sample_id": 0,
           "timepoint": 78,
           "trajectory": "Chaos",
           "value": 2
          },
          {
           "color_by": "Chaos",
           "sample_id": 0,
           "timepoint": 79,
           "trajectory": "Chaos",
           "value": 3
          },
          {
           "color_by": "Chaos",
           "sample_id": 0,
           "timepoint": 80,
           "trajectory": "Chaos",
           "value": 2
          },
          {
           "color_by": "Chaos",
           "sample_id": 0,
           "timepoint": 81,
           "trajectory": "Chaos",
           "value": 3
          },
          {
           "color_by": "Chaos",
           "sample_id": 0,
           "timepoint": 82,
           "trajectory": "Chaos",
           "value": 2
          },
          {
           "color_by": "Chaos",
           "sample_id": 0,
           "timepoint": 83,
           "trajectory": "Chaos",
           "value": 1
          },
          {
           "color_by": "Chaos",
           "sample_id": 0,
           "timepoint": 84,
           "trajectory": "Chaos",
           "value": 2
          },
          {
           "color_by": "Chaos",
           "sample_id": 0,
           "timepoint": 85,
           "trajectory": "Chaos",
           "value": 1
          },
          {
           "color_by": "Chaos",
           "sample_id": 0,
           "timepoint": 86,
           "trajectory": "Chaos",
           "value": 2
          },
          {
           "color_by": "Chaos",
           "sample_id": 0,
           "timepoint": 87,
           "trajectory": "Chaos",
           "value": 3
          },
          {
           "color_by": "Chaos",
           "sample_id": 0,
           "timepoint": 88,
           "trajectory": "Chaos",
           "value": 2
          },
          {
           "color_by": "Chaos",
           "sample_id": 0,
           "timepoint": 89,
           "trajectory": "Chaos",
           "value": 3
          },
          {
           "color_by": "Chaos",
           "sample_id": 0,
           "timepoint": 90,
           "trajectory": "Chaos",
           "value": 2
          },
          {
           "color_by": "Chaos",
           "sample_id": 0,
           "timepoint": 91,
           "trajectory": "Chaos",
           "value": 3
          },
          {
           "color_by": "Chaos",
           "sample_id": 0,
           "timepoint": 92,
           "trajectory": "Chaos",
           "value": 2
          },
          {
           "color_by": "Chaos",
           "sample_id": 0,
           "timepoint": 93,
           "trajectory": "Chaos",
           "value": 3
          },
          {
           "color_by": "Chaos",
           "sample_id": 0,
           "timepoint": 94,
           "trajectory": "Chaos",
           "value": 2
          },
          {
           "color_by": "Chaos",
           "sample_id": 0,
           "timepoint": 95,
           "trajectory": "Chaos",
           "value": 1
          },
          {
           "color_by": "Chaos",
           "sample_id": 0,
           "timepoint": 96,
           "trajectory": "Chaos",
           "value": 0
          },
          {
           "color_by": "Chaos",
           "sample_id": 0,
           "timepoint": 97,
           "trajectory": "Chaos",
           "value": 1
          },
          {
           "color_by": "Chaos",
           "sample_id": 0,
           "timepoint": 98,
           "trajectory": "Chaos",
           "value": 2
          },
          {
           "color_by": "Chaos",
           "sample_id": 0,
           "timepoint": 99,
           "trajectory": "Chaos",
           "value": 1
          },
          {
           "color_by": "Granger",
           "sample_id": 0,
           "timepoint": 0,
           "trajectory": "Granger",
           "value": 0
          },
          {
           "color_by": "Granger",
           "sample_id": 0,
           "timepoint": 1,
           "trajectory": "Granger",
           "value": 1
          },
          {
           "color_by": "Granger",
           "sample_id": 0,
           "timepoint": 2,
           "trajectory": "Granger",
           "value": 0
          },
          {
           "color_by": "Granger",
           "sample_id": 0,
           "timepoint": 3,
           "trajectory": "Granger",
           "value": 1
          },
          {
           "color_by": "Granger",
           "sample_id": 0,
           "timepoint": 4,
           "trajectory": "Granger",
           "value": 2
          },
          {
           "color_by": "Granger",
           "sample_id": 0,
           "timepoint": 5,
           "trajectory": "Granger",
           "value": 1
          },
          {
           "color_by": "Granger",
           "sample_id": 0,
           "timepoint": 6,
           "trajectory": "Granger",
           "value": 2
          },
          {
           "color_by": "Granger",
           "sample_id": 0,
           "timepoint": 7,
           "trajectory": "Granger",
           "value": 1
          },
          {
           "color_by": "Granger",
           "sample_id": 0,
           "timepoint": 8,
           "trajectory": "Granger",
           "value": 0
          },
          {
           "color_by": "Granger",
           "sample_id": 0,
           "timepoint": 9,
           "trajectory": "Granger",
           "value": 1
          },
          {
           "color_by": "Granger",
           "sample_id": 0,
           "timepoint": 10,
           "trajectory": "Granger",
           "value": 0
          },
          {
           "color_by": "Granger",
           "sample_id": 0,
           "timepoint": 11,
           "trajectory": "Granger",
           "value": -1
          },
          {
           "color_by": "Granger",
           "sample_id": 0,
           "timepoint": 12,
           "trajectory": "Granger",
           "value": 0
          },
          {
           "color_by": "Granger",
           "sample_id": 0,
           "timepoint": 13,
           "trajectory": "Granger",
           "value": -1
          },
          {
           "color_by": "Granger",
           "sample_id": 0,
           "timepoint": 14,
           "trajectory": "Granger",
           "value": 0
          },
          {
           "color_by": "Granger",
           "sample_id": 0,
           "timepoint": 15,
           "trajectory": "Granger",
           "value": 1
          },
          {
           "color_by": "Granger",
           "sample_id": 0,
           "timepoint": 16,
           "trajectory": "Granger",
           "value": 2
          },
          {
           "color_by": "Granger",
           "sample_id": 0,
           "timepoint": 17,
           "trajectory": "Granger",
           "value": 1
          },
          {
           "color_by": "Granger",
           "sample_id": 0,
           "timepoint": 18,
           "trajectory": "Granger",
           "value": 0
          },
          {
           "color_by": "Granger",
           "sample_id": 0,
           "timepoint": 19,
           "trajectory": "Granger",
           "value": -1
          },
          {
           "color_by": "Granger",
           "sample_id": 0,
           "timepoint": 20,
           "trajectory": "Granger",
           "value": 0
          },
          {
           "color_by": "Granger",
           "sample_id": 0,
           "timepoint": 21,
           "trajectory": "Granger",
           "value": -1
          },
          {
           "color_by": "Granger",
           "sample_id": 0,
           "timepoint": 22,
           "trajectory": "Granger",
           "value": -2
          },
          {
           "color_by": "Granger",
           "sample_id": 0,
           "timepoint": 23,
           "trajectory": "Granger",
           "value": -3
          },
          {
           "color_by": "Granger",
           "sample_id": 0,
           "timepoint": 24,
           "trajectory": "Granger",
           "value": -2
          },
          {
           "color_by": "Granger",
           "sample_id": 0,
           "timepoint": 25,
           "trajectory": "Granger",
           "value": -1
          },
          {
           "color_by": "Granger",
           "sample_id": 0,
           "timepoint": 26,
           "trajectory": "Granger",
           "value": -2
          },
          {
           "color_by": "Granger",
           "sample_id": 0,
           "timepoint": 27,
           "trajectory": "Granger",
           "value": -3
          },
          {
           "color_by": "Granger",
           "sample_id": 0,
           "timepoint": 28,
           "trajectory": "Granger",
           "value": -4
          },
          {
           "color_by": "Granger",
           "sample_id": 0,
           "timepoint": 29,
           "trajectory": "Granger",
           "value": -5
          },
          {
           "color_by": "Granger",
           "sample_id": 0,
           "timepoint": 30,
           "trajectory": "Granger",
           "value": -4
          },
          {
           "color_by": "Granger",
           "sample_id": 0,
           "timepoint": 31,
           "trajectory": "Granger",
           "value": -5
          },
          {
           "color_by": "Granger",
           "sample_id": 0,
           "timepoint": 32,
           "trajectory": "Granger",
           "value": -4
          },
          {
           "color_by": "Granger",
           "sample_id": 0,
           "timepoint": 33,
           "trajectory": "Granger",
           "value": -5
          },
          {
           "color_by": "Granger",
           "sample_id": 0,
           "timepoint": 34,
           "trajectory": "Granger",
           "value": -4
          },
          {
           "color_by": "Granger",
           "sample_id": 0,
           "timepoint": 35,
           "trajectory": "Granger",
           "value": -5
          },
          {
           "color_by": "Granger",
           "sample_id": 0,
           "timepoint": 36,
           "trajectory": "Granger",
           "value": -4
          },
          {
           "color_by": "Granger",
           "sample_id": 0,
           "timepoint": 37,
           "trajectory": "Granger",
           "value": -5
          },
          {
           "color_by": "Granger",
           "sample_id": 0,
           "timepoint": 38,
           "trajectory": "Granger",
           "value": -6
          },
          {
           "color_by": "Granger",
           "sample_id": 0,
           "timepoint": 39,
           "trajectory": "Granger",
           "value": -5
          },
          {
           "color_by": "Granger",
           "sample_id": 0,
           "timepoint": 40,
           "trajectory": "Granger",
           "value": -4
          },
          {
           "color_by": "Granger",
           "sample_id": 0,
           "timepoint": 41,
           "trajectory": "Granger",
           "value": -5
          },
          {
           "color_by": "Granger",
           "sample_id": 0,
           "timepoint": 42,
           "trajectory": "Granger",
           "value": -4
          },
          {
           "color_by": "Granger",
           "sample_id": 0,
           "timepoint": 43,
           "trajectory": "Granger",
           "value": -3
          },
          {
           "color_by": "Granger",
           "sample_id": 0,
           "timepoint": 44,
           "trajectory": "Granger",
           "value": -2
          },
          {
           "color_by": "Granger",
           "sample_id": 0,
           "timepoint": 45,
           "trajectory": "Granger",
           "value": -1
          },
          {
           "color_by": "Granger",
           "sample_id": 0,
           "timepoint": 46,
           "trajectory": "Granger",
           "value": 0
          },
          {
           "color_by": "Granger",
           "sample_id": 0,
           "timepoint": 47,
           "trajectory": "Granger",
           "value": -1
          },
          {
           "color_by": "Granger",
           "sample_id": 0,
           "timepoint": 48,
           "trajectory": "Granger",
           "value": 0
          },
          {
           "color_by": "Granger",
           "sample_id": 0,
           "timepoint": 49,
           "trajectory": "Granger",
           "value": -1
          },
          {
           "color_by": "Granger",
           "sample_id": 0,
           "timepoint": 50,
           "trajectory": "Granger",
           "value": -2
          },
          {
           "color_by": "Granger",
           "sample_id": 0,
           "timepoint": 51,
           "trajectory": "Granger",
           "value": -1
          },
          {
           "color_by": "Granger",
           "sample_id": 0,
           "timepoint": 52,
           "trajectory": "Granger",
           "value": -2
          },
          {
           "color_by": "Granger",
           "sample_id": 0,
           "timepoint": 53,
           "trajectory": "Granger",
           "value": -3
          },
          {
           "color_by": "Granger",
           "sample_id": 0,
           "timepoint": 54,
           "trajectory": "Granger",
           "value": -4
          },
          {
           "color_by": "Granger",
           "sample_id": 0,
           "timepoint": 55,
           "trajectory": "Granger",
           "value": -5
          },
          {
           "color_by": "Granger",
           "sample_id": 0,
           "timepoint": 56,
           "trajectory": "Granger",
           "value": -4
          },
          {
           "color_by": "Granger",
           "sample_id": 0,
           "timepoint": 57,
           "trajectory": "Granger",
           "value": -3
          },
          {
           "color_by": "Granger",
           "sample_id": 0,
           "timepoint": 58,
           "trajectory": "Granger",
           "value": -4
          },
          {
           "color_by": "Granger",
           "sample_id": 0,
           "timepoint": 59,
           "trajectory": "Granger",
           "value": -3
          },
          {
           "color_by": "Granger",
           "sample_id": 0,
           "timepoint": 60,
           "trajectory": "Granger",
           "value": -4
          },
          {
           "color_by": "Granger",
           "sample_id": 0,
           "timepoint": 61,
           "trajectory": "Granger",
           "value": -5
          },
          {
           "color_by": "Granger",
           "sample_id": 0,
           "timepoint": 62,
           "trajectory": "Granger",
           "value": -4
          },
          {
           "color_by": "Granger",
           "sample_id": 0,
           "timepoint": 63,
           "trajectory": "Granger",
           "value": -3
          },
          {
           "color_by": "Granger",
           "sample_id": 0,
           "timepoint": 64,
           "trajectory": "Granger",
           "value": -2
          },
          {
           "color_by": "Granger",
           "sample_id": 0,
           "timepoint": 65,
           "trajectory": "Granger",
           "value": -3
          },
          {
           "color_by": "Granger",
           "sample_id": 0,
           "timepoint": 66,
           "trajectory": "Granger",
           "value": -4
          },
          {
           "color_by": "Granger",
           "sample_id": 0,
           "timepoint": 67,
           "trajectory": "Granger",
           "value": -5
          },
          {
           "color_by": "Granger",
           "sample_id": 0,
           "timepoint": 68,
           "trajectory": "Granger",
           "value": -6
          },
          {
           "color_by": "Granger",
           "sample_id": 0,
           "timepoint": 69,
           "trajectory": "Granger",
           "value": -5
          },
          {
           "color_by": "Granger",
           "sample_id": 0,
           "timepoint": 70,
           "trajectory": "Granger",
           "value": -4
          },
          {
           "color_by": "Granger",
           "sample_id": 0,
           "timepoint": 71,
           "trajectory": "Granger",
           "value": -5
          },
          {
           "color_by": "Granger",
           "sample_id": 0,
           "timepoint": 72,
           "trajectory": "Granger",
           "value": -6
          },
          {
           "color_by": "Granger",
           "sample_id": 0,
           "timepoint": 73,
           "trajectory": "Granger",
           "value": -7
          },
          {
           "color_by": "Granger",
           "sample_id": 0,
           "timepoint": 74,
           "trajectory": "Granger",
           "value": -8
          },
          {
           "color_by": "Granger",
           "sample_id": 0,
           "timepoint": 75,
           "trajectory": "Granger",
           "value": -9
          },
          {
           "color_by": "Granger",
           "sample_id": 0,
           "timepoint": 76,
           "trajectory": "Granger",
           "value": -10
          },
          {
           "color_by": "Granger",
           "sample_id": 0,
           "timepoint": 77,
           "trajectory": "Granger",
           "value": -11
          },
          {
           "color_by": "Granger",
           "sample_id": 0,
           "timepoint": 78,
           "trajectory": "Granger",
           "value": -10
          },
          {
           "color_by": "Granger",
           "sample_id": 0,
           "timepoint": 79,
           "trajectory": "Granger",
           "value": -11
          },
          {
           "color_by": "Granger",
           "sample_id": 0,
           "timepoint": 80,
           "trajectory": "Granger",
           "value": -10
          },
          {
           "color_by": "Granger",
           "sample_id": 0,
           "timepoint": 81,
           "trajectory": "Granger",
           "value": -11
          },
          {
           "color_by": "Granger",
           "sample_id": 0,
           "timepoint": 82,
           "trajectory": "Granger",
           "value": -10
          },
          {
           "color_by": "Granger",
           "sample_id": 0,
           "timepoint": 83,
           "trajectory": "Granger",
           "value": -11
          },
          {
           "color_by": "Granger",
           "sample_id": 0,
           "timepoint": 84,
           "trajectory": "Granger",
           "value": -12
          },
          {
           "color_by": "Granger",
           "sample_id": 0,
           "timepoint": 85,
           "trajectory": "Granger",
           "value": -13
          },
          {
           "color_by": "Granger",
           "sample_id": 0,
           "timepoint": 86,
           "trajectory": "Granger",
           "value": -14
          },
          {
           "color_by": "Granger",
           "sample_id": 0,
           "timepoint": 87,
           "trajectory": "Granger",
           "value": -13
          },
          {
           "color_by": "Granger",
           "sample_id": 0,
           "timepoint": 88,
           "trajectory": "Granger",
           "value": -12
          },
          {
           "color_by": "Granger",
           "sample_id": 0,
           "timepoint": 89,
           "trajectory": "Granger",
           "value": -11
          },
          {
           "color_by": "Granger",
           "sample_id": 0,
           "timepoint": 90,
           "trajectory": "Granger",
           "value": -10
          },
          {
           "color_by": "Granger",
           "sample_id": 0,
           "timepoint": 91,
           "trajectory": "Granger",
           "value": -11
          },
          {
           "color_by": "Granger",
           "sample_id": 0,
           "timepoint": 92,
           "trajectory": "Granger",
           "value": -12
          },
          {
           "color_by": "Granger",
           "sample_id": 0,
           "timepoint": 93,
           "trajectory": "Granger",
           "value": -11
          },
          {
           "color_by": "Granger",
           "sample_id": 0,
           "timepoint": 94,
           "trajectory": "Granger",
           "value": -10
          },
          {
           "color_by": "Granger",
           "sample_id": 0,
           "timepoint": 95,
           "trajectory": "Granger",
           "value": -11
          },
          {
           "color_by": "Granger",
           "sample_id": 0,
           "timepoint": 96,
           "trajectory": "Granger",
           "value": -12
          },
          {
           "color_by": "Granger",
           "sample_id": 0,
           "timepoint": 97,
           "trajectory": "Granger",
           "value": -13
          },
          {
           "color_by": "Granger",
           "sample_id": 0,
           "timepoint": 98,
           "trajectory": "Granger",
           "value": -12
          },
          {
           "color_by": "Granger",
           "sample_id": 0,
           "timepoint": 99,
           "trajectory": "Granger",
           "value": -11
          },
          {
           "color_by": "Mean",
           "sample_id": 0,
           "timepoint": 0,
           "trajectory": "Mean",
           "value": 0
          },
          {
           "color_by": "Mean",
           "sample_id": 0,
           "timepoint": 1,
           "trajectory": "Mean",
           "value": 1
          },
          {
           "color_by": "Mean",
           "sample_id": 0,
           "timepoint": 2,
           "trajectory": "Mean",
           "value": 2
          },
          {
           "color_by": "Mean",
           "sample_id": 0,
           "timepoint": 3,
           "trajectory": "Mean",
           "value": 3
          },
          {
           "color_by": "Mean",
           "sample_id": 0,
           "timepoint": 4,
           "trajectory": "Mean",
           "value": 4
          },
          {
           "color_by": "Mean",
           "sample_id": 0,
           "timepoint": 5,
           "trajectory": "Mean",
           "value": 3
          },
          {
           "color_by": "Mean",
           "sample_id": 0,
           "timepoint": 6,
           "trajectory": "Mean",
           "value": 4
          },
          {
           "color_by": "Mean",
           "sample_id": 0,
           "timepoint": 7,
           "trajectory": "Mean",
           "value": 5
          },
          {
           "color_by": "Mean",
           "sample_id": 0,
           "timepoint": 8,
           "trajectory": "Mean",
           "value": 4
          },
          {
           "color_by": "Mean",
           "sample_id": 0,
           "timepoint": 9,
           "trajectory": "Mean",
           "value": 3
          },
          {
           "color_by": "Mean",
           "sample_id": 0,
           "timepoint": 10,
           "trajectory": "Mean",
           "value": 2
          },
          {
           "color_by": "Mean",
           "sample_id": 0,
           "timepoint": 11,
           "trajectory": "Mean",
           "value": 1
          },
          {
           "color_by": "Mean",
           "sample_id": 0,
           "timepoint": 12,
           "trajectory": "Mean",
           "value": 0
          },
          {
           "color_by": "Mean",
           "sample_id": 0,
           "timepoint": 13,
           "trajectory": "Mean",
           "value": -1
          },
          {
           "color_by": "Mean",
           "sample_id": 0,
           "timepoint": 14,
           "trajectory": "Mean",
           "value": -2
          },
          {
           "color_by": "Mean",
           "sample_id": 0,
           "timepoint": 15,
           "trajectory": "Mean",
           "value": -1
          },
          {
           "color_by": "Mean",
           "sample_id": 0,
           "timepoint": 16,
           "trajectory": "Mean",
           "value": 0
          },
          {
           "color_by": "Mean",
           "sample_id": 0,
           "timepoint": 17,
           "trajectory": "Mean",
           "value": -1
          },
          {
           "color_by": "Mean",
           "sample_id": 0,
           "timepoint": 18,
           "trajectory": "Mean",
           "value": -2
          },
          {
           "color_by": "Mean",
           "sample_id": 0,
           "timepoint": 19,
           "trajectory": "Mean",
           "value": -1
          },
          {
           "color_by": "Mean",
           "sample_id": 0,
           "timepoint": 20,
           "trajectory": "Mean",
           "value": 0
          },
          {
           "color_by": "Mean",
           "sample_id": 0,
           "timepoint": 21,
           "trajectory": "Mean",
           "value": 1
          },
          {
           "color_by": "Mean",
           "sample_id": 0,
           "timepoint": 22,
           "trajectory": "Mean",
           "value": 2
          },
          {
           "color_by": "Mean",
           "sample_id": 0,
           "timepoint": 23,
           "trajectory": "Mean",
           "value": 1
          },
          {
           "color_by": "Mean",
           "sample_id": 0,
           "timepoint": 24,
           "trajectory": "Mean",
           "value": 0
          },
          {
           "color_by": "Mean",
           "sample_id": 0,
           "timepoint": 25,
           "trajectory": "Mean",
           "value": -1
          },
          {
           "color_by": "Mean",
           "sample_id": 0,
           "timepoint": 26,
           "trajectory": "Mean",
           "value": -2
          },
          {
           "color_by": "Mean",
           "sample_id": 0,
           "timepoint": 27,
           "trajectory": "Mean",
           "value": -1
          },
          {
           "color_by": "Mean",
           "sample_id": 0,
           "timepoint": 28,
           "trajectory": "Mean",
           "value": 0
          },
          {
           "color_by": "Mean",
           "sample_id": 0,
           "timepoint": 29,
           "trajectory": "Mean",
           "value": 1
          },
          {
           "color_by": "Mean",
           "sample_id": 0,
           "timepoint": 30,
           "trajectory": "Mean",
           "value": 0
          },
          {
           "color_by": "Mean",
           "sample_id": 0,
           "timepoint": 31,
           "trajectory": "Mean",
           "value": -1
          },
          {
           "color_by": "Mean",
           "sample_id": 0,
           "timepoint": 32,
           "trajectory": "Mean",
           "value": -2
          },
          {
           "color_by": "Mean",
           "sample_id": 0,
           "timepoint": 33,
           "trajectory": "Mean",
           "value": -3
          },
          {
           "color_by": "Mean",
           "sample_id": 0,
           "timepoint": 34,
           "trajectory": "Mean",
           "value": -2
          },
          {
           "color_by": "Mean",
           "sample_id": 0,
           "timepoint": 35,
           "trajectory": "Mean",
           "value": -1
          },
          {
           "color_by": "Mean",
           "sample_id": 0,
           "timepoint": 36,
           "trajectory": "Mean",
           "value": -2
          },
          {
           "color_by": "Mean",
           "sample_id": 0,
           "timepoint": 37,
           "trajectory": "Mean",
           "value": -3
          },
          {
           "color_by": "Mean",
           "sample_id": 0,
           "timepoint": 38,
           "trajectory": "Mean",
           "value": -2
          },
          {
           "color_by": "Mean",
           "sample_id": 0,
           "timepoint": 39,
           "trajectory": "Mean",
           "value": -1
          },
          {
           "color_by": "Mean",
           "sample_id": 0,
           "timepoint": 40,
           "trajectory": "Mean",
           "value": 0
          },
          {
           "color_by": "Mean",
           "sample_id": 0,
           "timepoint": 41,
           "trajectory": "Mean",
           "value": 1
          },
          {
           "color_by": "Mean",
           "sample_id": 0,
           "timepoint": 42,
           "trajectory": "Mean",
           "value": 2
          },
          {
           "color_by": "Mean",
           "sample_id": 0,
           "timepoint": 43,
           "trajectory": "Mean",
           "value": 1
          },
          {
           "color_by": "Mean",
           "sample_id": 0,
           "timepoint": 44,
           "trajectory": "Mean",
           "value": 0
          },
          {
           "color_by": "Mean",
           "sample_id": 0,
           "timepoint": 45,
           "trajectory": "Mean",
           "value": 1
          },
          {
           "color_by": "Mean",
           "sample_id": 0,
           "timepoint": 46,
           "trajectory": "Mean",
           "value": 0
          },
          {
           "color_by": "Mean",
           "sample_id": 0,
           "timepoint": 47,
           "trajectory": "Mean",
           "value": -1
          },
          {
           "color_by": "Mean",
           "sample_id": 0,
           "timepoint": 48,
           "trajectory": "Mean",
           "value": 0
          },
          {
           "color_by": "Mean",
           "sample_id": 0,
           "timepoint": 49,
           "trajectory": "Mean",
           "value": -1
          },
          {
           "color_by": "Mean",
           "sample_id": 0,
           "timepoint": 50,
           "trajectory": "Mean",
           "value": 0
          },
          {
           "color_by": "Mean",
           "sample_id": 0,
           "timepoint": 51,
           "trajectory": "Mean",
           "value": -1
          },
          {
           "color_by": "Mean",
           "sample_id": 0,
           "timepoint": 52,
           "trajectory": "Mean",
           "value": 0
          },
          {
           "color_by": "Mean",
           "sample_id": 0,
           "timepoint": 53,
           "trajectory": "Mean",
           "value": 1
          },
          {
           "color_by": "Mean",
           "sample_id": 0,
           "timepoint": 54,
           "trajectory": "Mean",
           "value": 0
          },
          {
           "color_by": "Mean",
           "sample_id": 0,
           "timepoint": 55,
           "trajectory": "Mean",
           "value": -1
          },
          {
           "color_by": "Mean",
           "sample_id": 0,
           "timepoint": 56,
           "trajectory": "Mean",
           "value": -2
          },
          {
           "color_by": "Mean",
           "sample_id": 0,
           "timepoint": 57,
           "trajectory": "Mean",
           "value": -1
          },
          {
           "color_by": "Mean",
           "sample_id": 0,
           "timepoint": 58,
           "trajectory": "Mean",
           "value": -2
          },
          {
           "color_by": "Mean",
           "sample_id": 0,
           "timepoint": 59,
           "trajectory": "Mean",
           "value": -3
          },
          {
           "color_by": "Mean",
           "sample_id": 0,
           "timepoint": 60,
           "trajectory": "Mean",
           "value": -4
          },
          {
           "color_by": "Mean",
           "sample_id": 0,
           "timepoint": 61,
           "trajectory": "Mean",
           "value": -3
          },
          {
           "color_by": "Mean",
           "sample_id": 0,
           "timepoint": 62,
           "trajectory": "Mean",
           "value": -4
          },
          {
           "color_by": "Mean",
           "sample_id": 0,
           "timepoint": 63,
           "trajectory": "Mean",
           "value": -5
          },
          {
           "color_by": "Mean",
           "sample_id": 0,
           "timepoint": 64,
           "trajectory": "Mean",
           "value": -4
          },
          {
           "color_by": "Mean",
           "sample_id": 0,
           "timepoint": 65,
           "trajectory": "Mean",
           "value": -3
          },
          {
           "color_by": "Mean",
           "sample_id": 0,
           "timepoint": 66,
           "trajectory": "Mean",
           "value": -2
          },
          {
           "color_by": "Mean",
           "sample_id": 0,
           "timepoint": 67,
           "trajectory": "Mean",
           "value": -1
          },
          {
           "color_by": "Mean",
           "sample_id": 0,
           "timepoint": 68,
           "trajectory": "Mean",
           "value": 0
          },
          {
           "color_by": "Mean",
           "sample_id": 0,
           "timepoint": 69,
           "trajectory": "Mean",
           "value": 1
          },
          {
           "color_by": "Mean",
           "sample_id": 0,
           "timepoint": 70,
           "trajectory": "Mean",
           "value": 0
          },
          {
           "color_by": "Mean",
           "sample_id": 0,
           "timepoint": 71,
           "trajectory": "Mean",
           "value": -1
          },
          {
           "color_by": "Mean",
           "sample_id": 0,
           "timepoint": 72,
           "trajectory": "Mean",
           "value": 0
          },
          {
           "color_by": "Mean",
           "sample_id": 0,
           "timepoint": 73,
           "trajectory": "Mean",
           "value": 1
          },
          {
           "color_by": "Mean",
           "sample_id": 0,
           "timepoint": 74,
           "trajectory": "Mean",
           "value": 2
          },
          {
           "color_by": "Mean",
           "sample_id": 0,
           "timepoint": 75,
           "trajectory": "Mean",
           "value": 1
          },
          {
           "color_by": "Mean",
           "sample_id": 0,
           "timepoint": 76,
           "trajectory": "Mean",
           "value": 0
          },
          {
           "color_by": "Mean",
           "sample_id": 0,
           "timepoint": 77,
           "trajectory": "Mean",
           "value": -1
          },
          {
           "color_by": "Mean",
           "sample_id": 0,
           "timepoint": 78,
           "trajectory": "Mean",
           "value": 0
          },
          {
           "color_by": "Mean",
           "sample_id": 0,
           "timepoint": 79,
           "trajectory": "Mean",
           "value": 1
          },
          {
           "color_by": "Mean",
           "sample_id": 0,
           "timepoint": 80,
           "trajectory": "Mean",
           "value": 0
          },
          {
           "color_by": "Mean",
           "sample_id": 0,
           "timepoint": 81,
           "trajectory": "Mean",
           "value": -1
          },
          {
           "color_by": "Mean",
           "sample_id": 0,
           "timepoint": 82,
           "trajectory": "Mean",
           "value": -2
          },
          {
           "color_by": "Mean",
           "sample_id": 0,
           "timepoint": 83,
           "trajectory": "Mean",
           "value": -1
          },
          {
           "color_by": "Mean",
           "sample_id": 0,
           "timepoint": 84,
           "trajectory": "Mean",
           "value": -2
          },
          {
           "color_by": "Mean",
           "sample_id": 0,
           "timepoint": 85,
           "trajectory": "Mean",
           "value": -1
          },
          {
           "color_by": "Mean",
           "sample_id": 0,
           "timepoint": 86,
           "trajectory": "Mean",
           "value": 0
          },
          {
           "color_by": "Mean",
           "sample_id": 0,
           "timepoint": 87,
           "trajectory": "Mean",
           "value": -1
          },
          {
           "color_by": "Mean",
           "sample_id": 0,
           "timepoint": 88,
           "trajectory": "Mean",
           "value": 0
          },
          {
           "color_by": "Mean",
           "sample_id": 0,
           "timepoint": 89,
           "trajectory": "Mean",
           "value": -1
          },
          {
           "color_by": "Mean",
           "sample_id": 0,
           "timepoint": 90,
           "trajectory": "Mean",
           "value": 0
          },
          {
           "color_by": "Mean",
           "sample_id": 0,
           "timepoint": 91,
           "trajectory": "Mean",
           "value": 1
          },
          {
           "color_by": "Mean",
           "sample_id": 0,
           "timepoint": 92,
           "trajectory": "Mean",
           "value": 0
          },
          {
           "color_by": "Mean",
           "sample_id": 0,
           "timepoint": 93,
           "trajectory": "Mean",
           "value": 1
          },
          {
           "color_by": "Mean",
           "sample_id": 0,
           "timepoint": 94,
           "trajectory": "Mean",
           "value": 2
          },
          {
           "color_by": "Mean",
           "sample_id": 0,
           "timepoint": 95,
           "trajectory": "Mean",
           "value": 3
          },
          {
           "color_by": "Mean",
           "sample_id": 0,
           "timepoint": 96,
           "trajectory": "Mean",
           "value": 2
          },
          {
           "color_by": "Mean",
           "sample_id": 0,
           "timepoint": 97,
           "trajectory": "Mean",
           "value": 3
          },
          {
           "color_by": "Mean",
           "sample_id": 0,
           "timepoint": 98,
           "trajectory": "Mean",
           "value": 2
          },
          {
           "color_by": "Mean",
           "sample_id": 0,
           "timepoint": 99,
           "trajectory": "Mean",
           "value": 1
          },
          {
           "color_by": "Variance",
           "sample_id": 0,
           "timepoint": 0,
           "trajectory": "Variance",
           "value": 0
          },
          {
           "color_by": "Variance",
           "sample_id": 0,
           "timepoint": 1,
           "trajectory": "Variance",
           "value": 1
          },
          {
           "color_by": "Variance",
           "sample_id": 0,
           "timepoint": 2,
           "trajectory": "Variance",
           "value": 2
          },
          {
           "color_by": "Variance",
           "sample_id": 0,
           "timepoint": 3,
           "trajectory": "Variance",
           "value": 1
          },
          {
           "color_by": "Variance",
           "sample_id": 0,
           "timepoint": 4,
           "trajectory": "Variance",
           "value": 0
          },
          {
           "color_by": "Variance",
           "sample_id": 0,
           "timepoint": 5,
           "trajectory": "Variance",
           "value": 1
          },
          {
           "color_by": "Variance",
           "sample_id": 0,
           "timepoint": 6,
           "trajectory": "Variance",
           "value": 2
          },
          {
           "color_by": "Variance",
           "sample_id": 0,
           "timepoint": 7,
           "trajectory": "Variance",
           "value": 3
          },
          {
           "color_by": "Variance",
           "sample_id": 0,
           "timepoint": 8,
           "trajectory": "Variance",
           "value": 2
          },
          {
           "color_by": "Variance",
           "sample_id": 0,
           "timepoint": 9,
           "trajectory": "Variance",
           "value": 3
          },
          {
           "color_by": "Variance",
           "sample_id": 0,
           "timepoint": 10,
           "trajectory": "Variance",
           "value": 4
          },
          {
           "color_by": "Variance",
           "sample_id": 0,
           "timepoint": 11,
           "trajectory": "Variance",
           "value": 3
          },
          {
           "color_by": "Variance",
           "sample_id": 0,
           "timepoint": 12,
           "trajectory": "Variance",
           "value": 2
          },
          {
           "color_by": "Variance",
           "sample_id": 0,
           "timepoint": 13,
           "trajectory": "Variance",
           "value": 1
          },
          {
           "color_by": "Variance",
           "sample_id": 0,
           "timepoint": 14,
           "trajectory": "Variance",
           "value": 2
          },
          {
           "color_by": "Variance",
           "sample_id": 0,
           "timepoint": 15,
           "trajectory": "Variance",
           "value": 1
          },
          {
           "color_by": "Variance",
           "sample_id": 0,
           "timepoint": 16,
           "trajectory": "Variance",
           "value": 2
          },
          {
           "color_by": "Variance",
           "sample_id": 0,
           "timepoint": 17,
           "trajectory": "Variance",
           "value": 1
          },
          {
           "color_by": "Variance",
           "sample_id": 0,
           "timepoint": 18,
           "trajectory": "Variance",
           "value": 2
          },
          {
           "color_by": "Variance",
           "sample_id": 0,
           "timepoint": 19,
           "trajectory": "Variance",
           "value": 1
          },
          {
           "color_by": "Variance",
           "sample_id": 0,
           "timepoint": 20,
           "trajectory": "Variance",
           "value": 0
          },
          {
           "color_by": "Variance",
           "sample_id": 0,
           "timepoint": 21,
           "trajectory": "Variance",
           "value": -1
          },
          {
           "color_by": "Variance",
           "sample_id": 0,
           "timepoint": 22,
           "trajectory": "Variance",
           "value": -2
          },
          {
           "color_by": "Variance",
           "sample_id": 0,
           "timepoint": 23,
           "trajectory": "Variance",
           "value": -3
          },
          {
           "color_by": "Variance",
           "sample_id": 0,
           "timepoint": 24,
           "trajectory": "Variance",
           "value": -4
          },
          {
           "color_by": "Variance",
           "sample_id": 0,
           "timepoint": 25,
           "trajectory": "Variance",
           "value": -3
          },
          {
           "color_by": "Variance",
           "sample_id": 0,
           "timepoint": 26,
           "trajectory": "Variance",
           "value": -2
          },
          {
           "color_by": "Variance",
           "sample_id": 0,
           "timepoint": 27,
           "trajectory": "Variance",
           "value": -3
          },
          {
           "color_by": "Variance",
           "sample_id": 0,
           "timepoint": 28,
           "trajectory": "Variance",
           "value": -2
          },
          {
           "color_by": "Variance",
           "sample_id": 0,
           "timepoint": 29,
           "trajectory": "Variance",
           "value": -1
          },
          {
           "color_by": "Variance",
           "sample_id": 0,
           "timepoint": 30,
           "trajectory": "Variance",
           "value": 0
          },
          {
           "color_by": "Variance",
           "sample_id": 0,
           "timepoint": 31,
           "trajectory": "Variance",
           "value": -1
          },
          {
           "color_by": "Variance",
           "sample_id": 0,
           "timepoint": 32,
           "trajectory": "Variance",
           "value": 0
          },
          {
           "color_by": "Variance",
           "sample_id": 0,
           "timepoint": 33,
           "trajectory": "Variance",
           "value": 1
          },
          {
           "color_by": "Variance",
           "sample_id": 0,
           "timepoint": 34,
           "trajectory": "Variance",
           "value": 0
          },
          {
           "color_by": "Variance",
           "sample_id": 0,
           "timepoint": 35,
           "trajectory": "Variance",
           "value": 1
          },
          {
           "color_by": "Variance",
           "sample_id": 0,
           "timepoint": 36,
           "trajectory": "Variance",
           "value": 2
          },
          {
           "color_by": "Variance",
           "sample_id": 0,
           "timepoint": 37,
           "trajectory": "Variance",
           "value": 1
          },
          {
           "color_by": "Variance",
           "sample_id": 0,
           "timepoint": 38,
           "trajectory": "Variance",
           "value": 0
          },
          {
           "color_by": "Variance",
           "sample_id": 0,
           "timepoint": 39,
           "trajectory": "Variance",
           "value": -1
          },
          {
           "color_by": "Variance",
           "sample_id": 0,
           "timepoint": 40,
           "trajectory": "Variance",
           "value": 0
          },
          {
           "color_by": "Variance",
           "sample_id": 0,
           "timepoint": 41,
           "trajectory": "Variance",
           "value": 1
          },
          {
           "color_by": "Variance",
           "sample_id": 0,
           "timepoint": 42,
           "trajectory": "Variance",
           "value": 0
          },
          {
           "color_by": "Variance",
           "sample_id": 0,
           "timepoint": 43,
           "trajectory": "Variance",
           "value": 1
          },
          {
           "color_by": "Variance",
           "sample_id": 0,
           "timepoint": 44,
           "trajectory": "Variance",
           "value": 2
          },
          {
           "color_by": "Variance",
           "sample_id": 0,
           "timepoint": 45,
           "trajectory": "Variance",
           "value": 3
          },
          {
           "color_by": "Variance",
           "sample_id": 0,
           "timepoint": 46,
           "trajectory": "Variance",
           "value": 4
          },
          {
           "color_by": "Variance",
           "sample_id": 0,
           "timepoint": 47,
           "trajectory": "Variance",
           "value": 3
          },
          {
           "color_by": "Variance",
           "sample_id": 0,
           "timepoint": 48,
           "trajectory": "Variance",
           "value": 2
          },
          {
           "color_by": "Variance",
           "sample_id": 0,
           "timepoint": 49,
           "trajectory": "Variance",
           "value": 1
          },
          {
           "color_by": "Variance",
           "sample_id": 0,
           "timepoint": 50,
           "trajectory": "Variance",
           "value": 2
          },
          {
           "color_by": "Variance",
           "sample_id": 0,
           "timepoint": 51,
           "trajectory": "Variance",
           "value": 1
          },
          {
           "color_by": "Variance",
           "sample_id": 0,
           "timepoint": 52,
           "trajectory": "Variance",
           "value": 0
          },
          {
           "color_by": "Variance",
           "sample_id": 0,
           "timepoint": 53,
           "trajectory": "Variance",
           "value": 1
          },
          {
           "color_by": "Variance",
           "sample_id": 0,
           "timepoint": 54,
           "trajectory": "Variance",
           "value": 2
          },
          {
           "color_by": "Variance",
           "sample_id": 0,
           "timepoint": 55,
           "trajectory": "Variance",
           "value": 3
          },
          {
           "color_by": "Variance",
           "sample_id": 0,
           "timepoint": 56,
           "trajectory": "Variance",
           "value": 2
          },
          {
           "color_by": "Variance",
           "sample_id": 0,
           "timepoint": 57,
           "trajectory": "Variance",
           "value": 3
          },
          {
           "color_by": "Variance",
           "sample_id": 0,
           "timepoint": 58,
           "trajectory": "Variance",
           "value": 2
          },
          {
           "color_by": "Variance",
           "sample_id": 0,
           "timepoint": 59,
           "trajectory": "Variance",
           "value": 3
          },
          {
           "color_by": "Variance",
           "sample_id": 0,
           "timepoint": 60,
           "trajectory": "Variance",
           "value": 2
          },
          {
           "color_by": "Variance",
           "sample_id": 0,
           "timepoint": 61,
           "trajectory": "Variance",
           "value": 3
          },
          {
           "color_by": "Variance",
           "sample_id": 0,
           "timepoint": 62,
           "trajectory": "Variance",
           "value": 4
          },
          {
           "color_by": "Variance",
           "sample_id": 0,
           "timepoint": 63,
           "trajectory": "Variance",
           "value": 5
          },
          {
           "color_by": "Variance",
           "sample_id": 0,
           "timepoint": 64,
           "trajectory": "Variance",
           "value": 4
          },
          {
           "color_by": "Variance",
           "sample_id": 0,
           "timepoint": 65,
           "trajectory": "Variance",
           "value": 3
          },
          {
           "color_by": "Variance",
           "sample_id": 0,
           "timepoint": 66,
           "trajectory": "Variance",
           "value": 2
          },
          {
           "color_by": "Variance",
           "sample_id": 0,
           "timepoint": 67,
           "trajectory": "Variance",
           "value": 3
          },
          {
           "color_by": "Variance",
           "sample_id": 0,
           "timepoint": 68,
           "trajectory": "Variance",
           "value": 2
          },
          {
           "color_by": "Variance",
           "sample_id": 0,
           "timepoint": 69,
           "trajectory": "Variance",
           "value": 1
          },
          {
           "color_by": "Variance",
           "sample_id": 0,
           "timepoint": 70,
           "trajectory": "Variance",
           "value": 0
          },
          {
           "color_by": "Variance",
           "sample_id": 0,
           "timepoint": 71,
           "trajectory": "Variance",
           "value": -1
          },
          {
           "color_by": "Variance",
           "sample_id": 0,
           "timepoint": 72,
           "trajectory": "Variance",
           "value": 0
          },
          {
           "color_by": "Variance",
           "sample_id": 0,
           "timepoint": 73,
           "trajectory": "Variance",
           "value": -1
          },
          {
           "color_by": "Variance",
           "sample_id": 0,
           "timepoint": 74,
           "trajectory": "Variance",
           "value": -2
          },
          {
           "color_by": "Variance",
           "sample_id": 0,
           "timepoint": 75,
           "trajectory": "Variance",
           "value": -1
          },
          {
           "color_by": "Variance",
           "sample_id": 0,
           "timepoint": 76,
           "trajectory": "Variance",
           "value": -2
          },
          {
           "color_by": "Variance",
           "sample_id": 0,
           "timepoint": 77,
           "trajectory": "Variance",
           "value": -1
          },
          {
           "color_by": "Variance",
           "sample_id": 0,
           "timepoint": 78,
           "trajectory": "Variance",
           "value": 0
          },
          {
           "color_by": "Variance",
           "sample_id": 0,
           "timepoint": 79,
           "trajectory": "Variance",
           "value": 1
          },
          {
           "color_by": "Variance",
           "sample_id": 0,
           "timepoint": 80,
           "trajectory": "Variance",
           "value": 2
          },
          {
           "color_by": "Variance",
           "sample_id": 0,
           "timepoint": 81,
           "trajectory": "Variance",
           "value": 1
          },
          {
           "color_by": "Variance",
           "sample_id": 0,
           "timepoint": 82,
           "trajectory": "Variance",
           "value": 0
          },
          {
           "color_by": "Variance",
           "sample_id": 0,
           "timepoint": 83,
           "trajectory": "Variance",
           "value": 1
          },
          {
           "color_by": "Variance",
           "sample_id": 0,
           "timepoint": 84,
           "trajectory": "Variance",
           "value": 2
          },
          {
           "color_by": "Variance",
           "sample_id": 0,
           "timepoint": 85,
           "trajectory": "Variance",
           "value": 1
          },
          {
           "color_by": "Variance",
           "sample_id": 0,
           "timepoint": 86,
           "trajectory": "Variance",
           "value": 0
          },
          {
           "color_by": "Variance",
           "sample_id": 0,
           "timepoint": 87,
           "trajectory": "Variance",
           "value": -1
          },
          {
           "color_by": "Variance",
           "sample_id": 0,
           "timepoint": 88,
           "trajectory": "Variance",
           "value": -2
          },
          {
           "color_by": "Variance",
           "sample_id": 0,
           "timepoint": 89,
           "trajectory": "Variance",
           "value": -3
          },
          {
           "color_by": "Variance",
           "sample_id": 0,
           "timepoint": 90,
           "trajectory": "Variance",
           "value": -2
          },
          {
           "color_by": "Variance",
           "sample_id": 0,
           "timepoint": 91,
           "trajectory": "Variance",
           "value": -1
          },
          {
           "color_by": "Variance",
           "sample_id": 0,
           "timepoint": 92,
           "trajectory": "Variance",
           "value": 0
          },
          {
           "color_by": "Variance",
           "sample_id": 0,
           "timepoint": 93,
           "trajectory": "Variance",
           "value": -1
          },
          {
           "color_by": "Variance",
           "sample_id": 0,
           "timepoint": 94,
           "trajectory": "Variance",
           "value": -2
          },
          {
           "color_by": "Variance",
           "sample_id": 0,
           "timepoint": 95,
           "trajectory": "Variance",
           "value": -3
          },
          {
           "color_by": "Variance",
           "sample_id": 0,
           "timepoint": 96,
           "trajectory": "Variance",
           "value": -2
          },
          {
           "color_by": "Variance",
           "sample_id": 0,
           "timepoint": 97,
           "trajectory": "Variance",
           "value": -1
          },
          {
           "color_by": "Variance",
           "sample_id": 0,
           "timepoint": 98,
           "trajectory": "Variance",
           "value": -2
          },
          {
           "color_by": "Variance",
           "sample_id": 0,
           "timepoint": 99,
           "trajectory": "Variance",
           "value": -1
          }
         ]
        },
        {
         "name": "points",
         "values": []
        },
        {
         "name": "markers",
         "values": []
        },
        {
         "name": "selected",
         "on": [
          {
           "remove": true,
           "trigger": "clear"
          },
          {
           "remove": true,
           "trigger": "!shift"
          },
          {
           "insert": "clicked",
           "trigger": "!shift && clicked"
          },
          {
           "toggle": "clicked",
           "trigger": "shift && clicked"
          }
         ]
        },
        {
         "name": "selectedData",
         "on": [
          {
           "remove": true,
           "trigger": "clearData"
          },
          {
           "toggle": "clickedData",
           "trigger": "clickedData"
          }
         ]
        }
       ],
       "height": 300,
       "legends": [
        {
         "encode": {
          "labels": {
           "interactive": true,
           "name": "legendLabel",
           "update": {
            "opacity": [
             {
              "test": "!length(data('selectedData')) || indata('selectedData', 'value', datum.value)",
              "value": 1
             },
             {
              "value": 0.25
             }
            ]
           }
          },
          "symbols": {
           "interactive": true,
           "name": "legendSymbol",
           "update": {
            "fill": {
             "value": "transparent"
            },
            "opacity": [
             {
              "test": "!length(data('selected')) || indata('selected', 'value', datum.value) || indata('selectedData', 'value', datum.value)",
              "value": 0.7
             },
             {
              "value": 0.15
             }
            ],
            "size": {
             "value": 64
            },
            "strokeWidth": {
             "value": 2
            }
           }
          }
         },
         "name": "color_legend",
         "orient": "left",
         "stroke": "color"
        }
       ],
       "marks": [
        {
         "from": {
          "facet": {
           "data": "points",
           "groupby": "trajectory",
           "name": "points_split"
          }
         },
         "marks": [
          {
           "encode": {
            "hover": {
             "fillOpacity": {
              "value": 0.9
             }
            },
            "update": {
             "fill": {
              "field": "trajectory",
              "scale": "color"
             },
             "fillOpacity": [
              {
               "test": "!length(data('selected')) || indata('selected', 'value', datum.trajectory)",
               "value": 0.5
              },
              {
               "value": 0.15
              }
             ],
             "size": {
              "value": 35
             },
             "stroke": {
              "field": "trajectory",
              "scale": "color"
             },
             "strokeOpacity": [
              {
               "test": "!length(data('selected')) || indata('selected', 'value', datum.trajectory)",
               "value": 0.75
              },
              {
               "value": 0.15
              }
             ],
             "strokeWidth": {
              "value": 2
             },
             "tooltip": {
              "field": "value"
             },
             "x": {
              "field": "timepoint",
              "scale": "xscale"
             },
             "y": {
              "field": "value",
              "scale": "yscale"
             }
            }
           },
           "from": {
            "data": "points_split"
           },
           "name": "_points_symbol",
           "type": "symbol",
           "zindex": 3
          },
          {
           "encode": {
            "hover": {
             "fillOpacity": {
              "value": 0.9
             }
            },
            "update": {
             "interpolate": {
              "value": "linear"
             },
             "stroke": {
              "field": "trajectory",
              "scale": "color"
             },
             "strokeDash": {
              "value": [
               5,
               3
              ]
             },
             "strokeOpacity": [
              {
               "test": "!length(data('selected')) || indata('selected', 'value', datum.trajectory)",
               "value": 0.3
              },
              {
               "value": 0.1
              }
             ],
             "strokeWidth": {
              "value": 2
             },
             "x": {
              "field": "timepoint",
              "scale": "xscale"
             },
             "y": {
              "field": "value",
              "scale": "yscale"
             }
            }
           },
           "from": {
            "data": "points_split"
           },
           "name": "_points_line",
           "type": "line",
           "zindex": 3
          }
         ],
         "name": "_points",
         "type": "group",
         "zindex": 3
        },
        {
         "from": {
          "facet": {
           "data": "traces",
           "groupby": "trajectory",
           "name": "traces_split"
          }
         },
         "marks": [
          {
           "encode": {
            "hover": {
             "fillOpacity": {
              "value": 0.9
             }
            },
            "update": {
             "interpolate": {
              "value": "linear"
             },
             "stroke": {
              "field": "trajectory",
              "scale": "color"
             },
             "strokeDash": [
              {
               "test": "indexof(datum.trajectory, 'aseline') == -1",
               "value": [
                1,
                0
               ]
              },
              {
               "value": [
                8,
                4
               ]
              }
             ],
             "strokeOpacity": [
              {
               "test": "!length(data('selected')) || indata('selected', 'value', datum.trajectory)",
               "value": 0.75
              },
              {
               "value": 0.15
              }
             ],
             "strokeWidth": {
              "value": 2
             },
             "x": {
              "field": "timepoint",
              "scale": "xscale"
             },
             "y": {
              "field": "value",
              "scale": "yscale"
             }
            }
           },
           "from": {
            "data": "traces_split"
           },
           "name": "_traces_lines",
           "type": "line"
          }
         ],
         "name": "_traces",
         "type": "group",
         "zindex": 2
        },
        {
         "from": {
          "facet": {
           "data": "distributions",
           "groupby": "trajectory",
           "name": "trajectory_split"
          }
         },
         "marks": [
          {
           "encode": {
            "hover": {
             "fillOpacity": {
              "value": 0.9
             }
            },
            "update": {
             "fill": {
              "field": "trajectory",
              "scale": "color"
             },
             "fillOpacity": [
              {
               "test": "!length(data('selected')) || indata('selected', 'value', datum.trajectory)",
               "value": 0.1
              },
              {
               "value": 0.05
              }
             ],
             "interpolate": {
              "value": "linear"
             },
             "stroke": {
              "field": "trajectory",
              "scale": "color"
             },
             "strokeOpacity": [
              {
               "test": "!length(data('selected')) || indata('selected', 'value', datum.trajectory)",
               "value": 0.1
              },
              {
               "value": 0.05
              }
             ],
             "strokeWidth": {
              "value": 2
             },
             "x": {
              "field": "timepoint",
              "scale": "xscale"
             },
             "y": {
              "field": "upper",
              "scale": "yscale"
             },
             "y2": {
              "field": "lower",
              "scale": "yscale"
             }
            }
           },
           "from": {
            "data": "trajectory_split"
           },
           "interactive": true,
           "name": "area",
           "type": "area"
          }
         ],
         "name": "_distributions",
         "type": "group",
         "zindex": 1
        },
        {
         "marks": [
          {
           "encode": {
            "enter": {
             "stroke": {
              "value": "lightgray"
             }
            },
            "update": {
             "opacity": {
              "value": 1
             },
             "x": {
              "field": "timepoint",
              "scale": "xscale"
             },
             "y": {
              "signal": "height"
             },
             "y2": {
              "value": 0
             }
            }
           },
           "from": {
            "data": "markers"
           },
           "name": "_marker text",
           "type": "rule"
          },
          {
           "encode": {
            "enter": {
             "fontSize": {
              "value": 8
             },
             "text": {
              "field": "datum.label"
             },
             "y": {
              "value": 0
             }
            }
           },
           "from": {
            "data": "_marker text"
           },
           "name": "_marker flags",
           "transform": [
            {
             "as": [
              "x",
              "_y",
              "opacity",
              "align",
              "baseline"
             ],
             "lineAnchor": "start",
             "offset": [
              1
             ],
             "size": {
              "signal": "[width, height]"
             },
             "type": "label"
            }
           ],
           "type": "text"
          }
         ],
         "name": "_markers",
         "type": "group"
        }
       ],
       "scales": [
        {
         "domain": {
          "fields": [
           {
            "data": "distributions",
            "field": "timepoint"
           },
           {
            "data": "traces",
            "field": "timepoint"
           },
           {
            "data": "points",
            "field": "timepoint"
           },
           {
            "data": "markers",
            "field": "timepoint"
           }
          ]
         },
         "name": "xscale",
         "range": "width",
         "type": "linear",
         "zero": false
        },
        {
         "domain": {
          "fields": [
           {
            "data": "distributions",
            "field": "lower"
           },
           {
            "data": "distributions",
            "field": "upper"
           },
           {
            "data": "traces",
            "field": "value"
           },
           {
            "data": "points",
            "field": "value"
           }
          ]
         },
         "name": "yscale",
         "nice": true,
         "range": "height",
         "type": "linear",
         "zero": true
        },
        {
         "domain": {
          "fields": [
           {
            "data": "distributions",
            "field": "trajectory"
           },
           {
            "data": "traces",
            "field": "trajectory"
           },
           {
            "data": "points",
            "field": "trajectory"
           }
          ],
          "sort": {
           "order": "ascending"
          }
         },
         "name": "color",
         "range": "category",
         "type": "ordinal"
        }
       ],
       "signals": [
        {
         "name": "clear",
         "on": [
          {
           "events": "mouseup[!event.item]",
           "force": true,
           "update": "true"
          }
         ],
         "value": true
        },
        {
         "name": "shift",
         "on": [
          {
           "events": "@legendSymbol:click, @legendLabel:click",
           "force": true,
           "update": "event.shiftKey"
          }
         ],
         "value": false
        },
        {
         "name": "clicked",
         "on": [
          {
           "events": "@legendSymbol:click, @legendLabel:click",
           "force": true,
           "update": "{value: datum.value}"
          }
         ],
         "value": null
        },
        {
         "name": "clearData",
         "on": [
          {
           "events": "mouseup[!event.item]",
           "force": true,
           "update": "true"
          }
         ],
         "value": true
        },
        {
         "name": "clickedData",
         "on": [
          {
           "events": "@area:click",
           "force": true,
           "update": "{value: datum.trajectory}"
          }
         ],
         "value": null
        }
       ],
       "width": 500
      }
     },
     "metadata": {},
     "output_type": "display_data"
    }
   ],
   "source": [
    "\n",
    "name = \"random\"\n",
    "timepoint_list = []\n",
    "sine_list = []\n",
    "sample_list = []\n",
    "kmean = False\n",
    "n_clusters = 3\n",
    "\n",
    "def save_result(data, name, ref_ext):\n",
    "    \"\"\"Save new reference files\"\"\"\n",
    "    _output_root = 'output'\n",
    "    mode = \"w\" if ref_ext == \"svg\" else \"wb\"\n",
    "    with open(os.path.join(_output_root, f\"{name}.{ref_ext}\"), mode) as f:\n",
    "        f.write(data)\n",
    "\n",
    "#https://stackoverflow.com/questions/71681417/generating-a-1d-random-walk-with-random-module\n",
    "def randomwalk1D(n):\n",
    "    x = 0\n",
    "    start = x\n",
    "    xposition = [start]\n",
    "    probabilities = [-1, 1]\n",
    "    for i in range(1, n + 1):\n",
    "        x += random.choice(probabilities)\n",
    "        xposition.append(x)\n",
    "    return xposition\n",
    "\n",
    "timepoint_list = []\n",
    "sample_list = []\n",
    "sine_list = []\n",
    "\n",
    "j = 0\n",
    "for _ in range(300):\n",
    "        j+=1\n",
    "        timepoint_list.extend([x for x in range(100)])\n",
    "        sample_list.extend([j]*100)\n",
    "        sine_list.extend(randomwalk1D(99))\n",
    "\n",
    "random_distribution= pd.DataFrame({'timepoint_id' : timepoint_list,\n",
    "                   'sample_id' : sample_list,\n",
    "                   'Example': sine_list})\n",
    "\n",
    "\n",
    "#change kmean here to use clustering\n",
    "examplary_line, trajectory_dict = pyciemss.visuals.trajectories.select_traces(random_distribution, kmean= kmean, n_clusters = n_clusters, select_by_list = ['mean', 'granger', \"variance\", 'chaos'])\n",
    "\n",
    "\n",
    "for cluster in list(np.unique(examplary_line['cluster'])): \n",
    "        cluster_sample_id = trajectory_dict[cluster.lower()]['cluster_sample_id']  \n",
    "        cluster_random_distribution =  random_distribution[random_distribution[\"sample_id\"].isin(cluster_sample_id)]\n",
    "        cluster_random_distribution = cluster_random_distribution.reset_index()\n",
    "        print(len(cluster_sample_id))\n",
    "        # get examplary lines form that cluster\n",
    "        current_cluster_df = examplary_line[examplary_line['cluster'] == cluster]\n",
    "        current_cluster_df = current_cluster_df.reset_index()\n",
    "\n",
    "        # get right format to use as traces\n",
    "        examplary_lines_pivot = current_cluster_df[['examplary_line', 'envelope_mean', 'timepoint', 'select_by']].pivot_table(\n",
    "        values=\"examplary_line\", index = [\"timepoint\", 'envelope_mean'], columns=\"select_by\")\n",
    "        examplary_lines_pivot = examplary_lines_pivot.reset_index()\n",
    "        examplary_lines_pivot = examplary_lines_pivot.rename(columns = {'envelope_mean': 'Baseline_Mean'})\n",
    "\n",
    "        # plot the traces along with the baselines\n",
    "        schema = plots.trajectories(cluster_random_distribution[['timepoint_id', 'sample_id', 'Example']], traces = examplary_lines_pivot)\n",
    "        path = \"{}_{}\".format(name, cluster)\n",
    "        image = plots.ipy_display(schema, format=\"PNG\").data\n",
    "        save_result(image, path, \"png\")\n",
    "        plots.ipy_display(schema, format=\"interactive\")\n",
    "\n"
   ]
  },
  {
   "cell_type": "code",
   "execution_count": null,
   "metadata": {},
   "outputs": [
    {
     "name": "stdout",
     "output_type": "stream",
     "text": [
      "   timepoint_id  sample_id  persistent_beta_c_param  persistent_kappa_param  \\\n",
      "0             0          0                  0.71391                 0.09432   \n",
      "1             1          0                  0.71391                 0.09432   \n",
      "2             2          0                  0.71391                 0.09432   \n",
      "3             3          0                  0.71391                 0.09432   \n",
      "4             4          0                  0.71391                 0.09432   \n",
      "\n",
      "   persistent_gamma_param  persistent_hosp_param  persistent_death_hosp_param  \\\n",
      "0                0.226554               0.081048                     0.091152   \n",
      "1                0.226554               0.081048                     0.091152   \n",
      "2                0.226554               0.081048                     0.091152   \n",
      "3                0.226554               0.081048                     0.091152   \n",
      "4                0.226554               0.081048                     0.091152   \n",
      "\n",
      "   persistent_I0_param   D_state    E_state   H_state    I_state    R_state  \\\n",
      "0            12.423676  0.000000  31.171797  0.228120  19.609041   2.586514   \n",
      "1            12.423676  0.004159  25.228365  0.542552  22.959484   6.710431   \n",
      "2            12.423676  0.014050  21.086803  0.855617  24.065012  11.589039   \n",
      "3            12.423676  0.029648  18.084906  1.126368  23.884687  16.754715   \n",
      "4            12.423676  0.050182  15.816473  1.339658  22.994741  21.932064   \n",
      "\n",
      "      S_state  infected_observable_state  exposed_observable_state  \\\n",
      "0  19339986.0                  19.609041                 31.171797   \n",
      "1  19339984.0                  22.959484                 25.228365   \n",
      "2  19339982.0                  24.065012                 21.086803   \n",
      "3  19339980.0                  23.884687                 18.084906   \n",
      "4  19339978.0                  22.994741                 15.816473   \n",
      "\n",
      "   hospitalized_observable_state  dead_observable_state  timepoint_notional  \n",
      "0                       0.228120               0.000000            0.000000  \n",
      "1                       0.542552               0.004159            1.020408  \n",
      "2                       0.855617               0.014050            2.040816  \n",
      "3                       1.126368               0.029648            3.061224  \n",
      "4                       1.339658               0.050182            4.081633  \n",
      "Index(['timepoint_id', 'sample_id', 'persistent_beta_c_param',\n",
      "       'persistent_kappa_param', 'persistent_gamma_param',\n",
      "       'persistent_hosp_param', 'persistent_death_hosp_param',\n",
      "       'persistent_I0_param', 'D_state', 'E_state', 'H_state', 'I_state',\n",
      "       'R_state', 'S_state', 'infected_observable_state',\n",
      "       'exposed_observable_state', 'hospitalized_observable_state',\n",
      "       'dead_observable_state', 'timepoint_notional'],\n",
      "      dtype='object')\n"
     ]
    },
    {
     "data": {
      "text/html": [
       "<div>\n",
       "<style scoped>\n",
       "    .dataframe tbody tr th:only-of-type {\n",
       "        vertical-align: middle;\n",
       "    }\n",
       "\n",
       "    .dataframe tbody tr th {\n",
       "        vertical-align: top;\n",
       "    }\n",
       "\n",
       "    .dataframe thead th {\n",
       "        text-align: right;\n",
       "    }\n",
       "</style>\n",
       "<table border=\"1\" class=\"dataframe\">\n",
       "  <thead>\n",
       "    <tr style=\"text-align: right;\">\n",
       "      <th></th>\n",
       "      <th>timepoint_id</th>\n",
       "      <th>sample_id</th>\n",
       "      <th>infected_observable_state</th>\n",
       "    </tr>\n",
       "  </thead>\n",
       "  <tbody>\n",
       "    <tr>\n",
       "      <th>0</th>\n",
       "      <td>0</td>\n",
       "      <td>0</td>\n",
       "      <td>19.609041</td>\n",
       "    </tr>\n",
       "    <tr>\n",
       "      <th>1</th>\n",
       "      <td>1</td>\n",
       "      <td>0</td>\n",
       "      <td>22.959484</td>\n",
       "    </tr>\n",
       "    <tr>\n",
       "      <th>2</th>\n",
       "      <td>2</td>\n",
       "      <td>0</td>\n",
       "      <td>24.065012</td>\n",
       "    </tr>\n",
       "    <tr>\n",
       "      <th>3</th>\n",
       "      <td>3</td>\n",
       "      <td>0</td>\n",
       "      <td>23.884687</td>\n",
       "    </tr>\n",
       "    <tr>\n",
       "      <th>4</th>\n",
       "      <td>4</td>\n",
       "      <td>0</td>\n",
       "      <td>22.994741</td>\n",
       "    </tr>\n",
       "    <tr>\n",
       "      <th>...</th>\n",
       "      <td>...</td>\n",
       "      <td>...</td>\n",
       "      <td>...</td>\n",
       "    </tr>\n",
       "    <tr>\n",
       "      <th>2965</th>\n",
       "      <td>94</td>\n",
       "      <td>29</td>\n",
       "      <td>0.000162</td>\n",
       "    </tr>\n",
       "    <tr>\n",
       "      <th>2966</th>\n",
       "      <td>95</td>\n",
       "      <td>29</td>\n",
       "      <td>0.000130</td>\n",
       "    </tr>\n",
       "    <tr>\n",
       "      <th>2967</th>\n",
       "      <td>96</td>\n",
       "      <td>29</td>\n",
       "      <td>0.000104</td>\n",
       "    </tr>\n",
       "    <tr>\n",
       "      <th>2968</th>\n",
       "      <td>97</td>\n",
       "      <td>29</td>\n",
       "      <td>0.000083</td>\n",
       "    </tr>\n",
       "    <tr>\n",
       "      <th>2969</th>\n",
       "      <td>98</td>\n",
       "      <td>29</td>\n",
       "      <td>0.000066</td>\n",
       "    </tr>\n",
       "  </tbody>\n",
       "</table>\n",
       "<p>2970 rows × 3 columns</p>\n",
       "</div>"
      ],
      "text/plain": [
       "      timepoint_id  sample_id  infected_observable_state\n",
       "0                0          0                  19.609041\n",
       "1                1          0                  22.959484\n",
       "2                2          0                  24.065012\n",
       "3                3          0                  23.884687\n",
       "4                4          0                  22.994741\n",
       "...            ...        ...                        ...\n",
       "2965            94         29                   0.000162\n",
       "2966            95         29                   0.000130\n",
       "2967            96         29                   0.000104\n",
       "2968            97         29                   0.000083\n",
       "2969            98         29                   0.000066\n",
       "\n",
       "[2970 rows x 3 columns]"
      ]
     },
     "execution_count": 6,
     "metadata": {},
     "output_type": "execute_result"
    }
   ],
   "source": [
    "def distributions():\n",
    "    model_1_path = (\n",
    "            \"https://raw.githubusercontent.com/DARPA-ASKEM/simulation-integration\"\n",
    "            \"/main/data/models/SEIRHD_NPI_Type1_petrinet.json\"\n",
    "    )\n",
    "    start_time = 0.0\n",
    "    end_time = 100.0\n",
    "    logging_step_size = 1\n",
    "    num_samples = 30\n",
    "    sample = pyciemss.sample(\n",
    "        model_1_path,\n",
    "        end_time,\n",
    "        logging_step_size,\n",
    "        num_samples,\n",
    "        start_time=start_time,\n",
    "        solver_method=\"euler\",\n",
    "    )[\"unprocessed_result\"]\n",
    "\n",
    "    for e in sample.values():\n",
    "        if len(e.shape) > 1:\n",
    "            num_timepoints = e.shape[1]\n",
    "\n",
    "    return convert_to_output_format(\n",
    "        sample,\n",
    "        timepoints=np.linspace(start_time, end_time, num_timepoints),\n",
    "        time_unit=\"notional\",\n",
    "    )\n",
    "\n",
    "distributions = distributions()\n",
    "print(distributions.head())\n",
    "print(distributions.columns)\n",
    "all_columns = [\"timepoint_id\", \"sample_id\", 'infected_observable_state',\n",
    "       'exposed_observable_state', 'hospitalized_observable_state',\n",
    "       'dead_observable_state']\n",
    "all_columns = [\"timepoint_id\", \"sample_id\", 'infected_observable_state']\n",
    "\n",
    "distributions = distributions[all_columns]\n",
    "distributions"
   ]
  },
  {
   "cell_type": "code",
   "execution_count": null,
   "metadata": {},
   "outputs": [
    {
     "ename": "FileNotFoundError",
     "evalue": "[Errno 2] No such file or directory: 'paper_sine_05/paper_sine_05_new_df.csv'",
     "output_type": "error",
     "traceback": [
      "\u001b[0;31m---------------------------------------------------------------------------\u001b[0m",
      "\u001b[0;31mFileNotFoundError\u001b[0m                         Traceback (most recent call last)",
      "Cell \u001b[0;32mIn[13], line 2\u001b[0m\n\u001b[1;32m      1\u001b[0m \u001b[38;5;66;03m#'timepoint_id', 'sample_id'\u001b[39;00m\n\u001b[0;32m----> 2\u001b[0m sine_distribution \u001b[38;5;241m=\u001b[39m \u001b[43mpd\u001b[49m\u001b[38;5;241;43m.\u001b[39;49m\u001b[43mread_csv\u001b[49m\u001b[43m(\u001b[49m\u001b[38;5;124;43m\"\u001b[39;49m\u001b[38;5;124;43mpaper_sine_05/paper_sine_05_new_df.csv\u001b[39;49m\u001b[38;5;124;43m\"\u001b[39;49m\u001b[43m)\u001b[49m\n\u001b[1;32m      3\u001b[0m sine_distribution \u001b[38;5;241m=\u001b[39m sine_distribution\u001b[38;5;241m.\u001b[39mrename(\n\u001b[1;32m      4\u001b[0m             columns\u001b[38;5;241m=\u001b[39m{\n\u001b[1;32m      5\u001b[0m                 \u001b[38;5;124m'\u001b[39m\u001b[38;5;124mUnnamed: 0.1\u001b[39m\u001b[38;5;124m'\u001b[39m: \u001b[38;5;124m\"\u001b[39m\u001b[38;5;124mtimepoint_id\u001b[39m\u001b[38;5;124m\"\u001b[39m,\n\u001b[1;32m      6\u001b[0m                 \u001b[38;5;124m'\u001b[39m\u001b[38;5;124mUnnamed: 0\u001b[39m\u001b[38;5;124m'\u001b[39m: \u001b[38;5;124m\"\u001b[39m\u001b[38;5;124m100\u001b[39m\u001b[38;5;124m\"\u001b[39m,\n\u001b[1;32m      7\u001b[0m             }\n\u001b[1;32m      8\u001b[0m         )\n\u001b[1;32m      9\u001b[0m sine_distribution \u001b[38;5;241m=\u001b[39m sine_distribution\u001b[38;5;241m.\u001b[39mmelt(id_vars\u001b[38;5;241m=\u001b[39m[\u001b[38;5;124m\"\u001b[39m\u001b[38;5;124mtimepoint_id\u001b[39m\u001b[38;5;124m\"\u001b[39m], \n\u001b[1;32m     10\u001b[0m         var_name\u001b[38;5;241m=\u001b[39m\u001b[38;5;124m\"\u001b[39m\u001b[38;5;124msample_id\u001b[39m\u001b[38;5;124m\"\u001b[39m, \n\u001b[1;32m     11\u001b[0m         value_name\u001b[38;5;241m=\u001b[39m\u001b[38;5;124m\"\u001b[39m\u001b[38;5;124msame_stat_state\u001b[39m\u001b[38;5;124m\"\u001b[39m)\n",
      "File \u001b[0;32m~/opt/anaconda3/envs/pyciems310/lib/python3.10/site-packages/pandas/io/parsers/readers.py:1026\u001b[0m, in \u001b[0;36mread_csv\u001b[0;34m(filepath_or_buffer, sep, delimiter, header, names, index_col, usecols, dtype, engine, converters, true_values, false_values, skipinitialspace, skiprows, skipfooter, nrows, na_values, keep_default_na, na_filter, verbose, skip_blank_lines, parse_dates, infer_datetime_format, keep_date_col, date_parser, date_format, dayfirst, cache_dates, iterator, chunksize, compression, thousands, decimal, lineterminator, quotechar, quoting, doublequote, escapechar, comment, encoding, encoding_errors, dialect, on_bad_lines, delim_whitespace, low_memory, memory_map, float_precision, storage_options, dtype_backend)\u001b[0m\n\u001b[1;32m   1013\u001b[0m kwds_defaults \u001b[38;5;241m=\u001b[39m _refine_defaults_read(\n\u001b[1;32m   1014\u001b[0m     dialect,\n\u001b[1;32m   1015\u001b[0m     delimiter,\n\u001b[0;32m   (...)\u001b[0m\n\u001b[1;32m   1022\u001b[0m     dtype_backend\u001b[38;5;241m=\u001b[39mdtype_backend,\n\u001b[1;32m   1023\u001b[0m )\n\u001b[1;32m   1024\u001b[0m kwds\u001b[38;5;241m.\u001b[39mupdate(kwds_defaults)\n\u001b[0;32m-> 1026\u001b[0m \u001b[38;5;28;01mreturn\u001b[39;00m \u001b[43m_read\u001b[49m\u001b[43m(\u001b[49m\u001b[43mfilepath_or_buffer\u001b[49m\u001b[43m,\u001b[49m\u001b[43m \u001b[49m\u001b[43mkwds\u001b[49m\u001b[43m)\u001b[49m\n",
      "File \u001b[0;32m~/opt/anaconda3/envs/pyciems310/lib/python3.10/site-packages/pandas/io/parsers/readers.py:620\u001b[0m, in \u001b[0;36m_read\u001b[0;34m(filepath_or_buffer, kwds)\u001b[0m\n\u001b[1;32m    617\u001b[0m _validate_names(kwds\u001b[38;5;241m.\u001b[39mget(\u001b[38;5;124m\"\u001b[39m\u001b[38;5;124mnames\u001b[39m\u001b[38;5;124m\"\u001b[39m, \u001b[38;5;28;01mNone\u001b[39;00m))\n\u001b[1;32m    619\u001b[0m \u001b[38;5;66;03m# Create the parser.\u001b[39;00m\n\u001b[0;32m--> 620\u001b[0m parser \u001b[38;5;241m=\u001b[39m \u001b[43mTextFileReader\u001b[49m\u001b[43m(\u001b[49m\u001b[43mfilepath_or_buffer\u001b[49m\u001b[43m,\u001b[49m\u001b[43m \u001b[49m\u001b[38;5;241;43m*\u001b[39;49m\u001b[38;5;241;43m*\u001b[39;49m\u001b[43mkwds\u001b[49m\u001b[43m)\u001b[49m\n\u001b[1;32m    622\u001b[0m \u001b[38;5;28;01mif\u001b[39;00m chunksize \u001b[38;5;129;01mor\u001b[39;00m iterator:\n\u001b[1;32m    623\u001b[0m     \u001b[38;5;28;01mreturn\u001b[39;00m parser\n",
      "File \u001b[0;32m~/opt/anaconda3/envs/pyciems310/lib/python3.10/site-packages/pandas/io/parsers/readers.py:1620\u001b[0m, in \u001b[0;36mTextFileReader.__init__\u001b[0;34m(self, f, engine, **kwds)\u001b[0m\n\u001b[1;32m   1617\u001b[0m     \u001b[38;5;28mself\u001b[39m\u001b[38;5;241m.\u001b[39moptions[\u001b[38;5;124m\"\u001b[39m\u001b[38;5;124mhas_index_names\u001b[39m\u001b[38;5;124m\"\u001b[39m] \u001b[38;5;241m=\u001b[39m kwds[\u001b[38;5;124m\"\u001b[39m\u001b[38;5;124mhas_index_names\u001b[39m\u001b[38;5;124m\"\u001b[39m]\n\u001b[1;32m   1619\u001b[0m \u001b[38;5;28mself\u001b[39m\u001b[38;5;241m.\u001b[39mhandles: IOHandles \u001b[38;5;241m|\u001b[39m \u001b[38;5;28;01mNone\u001b[39;00m \u001b[38;5;241m=\u001b[39m \u001b[38;5;28;01mNone\u001b[39;00m\n\u001b[0;32m-> 1620\u001b[0m \u001b[38;5;28mself\u001b[39m\u001b[38;5;241m.\u001b[39m_engine \u001b[38;5;241m=\u001b[39m \u001b[38;5;28;43mself\u001b[39;49m\u001b[38;5;241;43m.\u001b[39;49m\u001b[43m_make_engine\u001b[49m\u001b[43m(\u001b[49m\u001b[43mf\u001b[49m\u001b[43m,\u001b[49m\u001b[43m \u001b[49m\u001b[38;5;28;43mself\u001b[39;49m\u001b[38;5;241;43m.\u001b[39;49m\u001b[43mengine\u001b[49m\u001b[43m)\u001b[49m\n",
      "File \u001b[0;32m~/opt/anaconda3/envs/pyciems310/lib/python3.10/site-packages/pandas/io/parsers/readers.py:1880\u001b[0m, in \u001b[0;36mTextFileReader._make_engine\u001b[0;34m(self, f, engine)\u001b[0m\n\u001b[1;32m   1878\u001b[0m     \u001b[38;5;28;01mif\u001b[39;00m \u001b[38;5;124m\"\u001b[39m\u001b[38;5;124mb\u001b[39m\u001b[38;5;124m\"\u001b[39m \u001b[38;5;129;01mnot\u001b[39;00m \u001b[38;5;129;01min\u001b[39;00m mode:\n\u001b[1;32m   1879\u001b[0m         mode \u001b[38;5;241m+\u001b[39m\u001b[38;5;241m=\u001b[39m \u001b[38;5;124m\"\u001b[39m\u001b[38;5;124mb\u001b[39m\u001b[38;5;124m\"\u001b[39m\n\u001b[0;32m-> 1880\u001b[0m \u001b[38;5;28mself\u001b[39m\u001b[38;5;241m.\u001b[39mhandles \u001b[38;5;241m=\u001b[39m \u001b[43mget_handle\u001b[49m\u001b[43m(\u001b[49m\n\u001b[1;32m   1881\u001b[0m \u001b[43m    \u001b[49m\u001b[43mf\u001b[49m\u001b[43m,\u001b[49m\n\u001b[1;32m   1882\u001b[0m \u001b[43m    \u001b[49m\u001b[43mmode\u001b[49m\u001b[43m,\u001b[49m\n\u001b[1;32m   1883\u001b[0m \u001b[43m    \u001b[49m\u001b[43mencoding\u001b[49m\u001b[38;5;241;43m=\u001b[39;49m\u001b[38;5;28;43mself\u001b[39;49m\u001b[38;5;241;43m.\u001b[39;49m\u001b[43moptions\u001b[49m\u001b[38;5;241;43m.\u001b[39;49m\u001b[43mget\u001b[49m\u001b[43m(\u001b[49m\u001b[38;5;124;43m\"\u001b[39;49m\u001b[38;5;124;43mencoding\u001b[39;49m\u001b[38;5;124;43m\"\u001b[39;49m\u001b[43m,\u001b[49m\u001b[43m \u001b[49m\u001b[38;5;28;43;01mNone\u001b[39;49;00m\u001b[43m)\u001b[49m\u001b[43m,\u001b[49m\n\u001b[1;32m   1884\u001b[0m \u001b[43m    \u001b[49m\u001b[43mcompression\u001b[49m\u001b[38;5;241;43m=\u001b[39;49m\u001b[38;5;28;43mself\u001b[39;49m\u001b[38;5;241;43m.\u001b[39;49m\u001b[43moptions\u001b[49m\u001b[38;5;241;43m.\u001b[39;49m\u001b[43mget\u001b[49m\u001b[43m(\u001b[49m\u001b[38;5;124;43m\"\u001b[39;49m\u001b[38;5;124;43mcompression\u001b[39;49m\u001b[38;5;124;43m\"\u001b[39;49m\u001b[43m,\u001b[49m\u001b[43m \u001b[49m\u001b[38;5;28;43;01mNone\u001b[39;49;00m\u001b[43m)\u001b[49m\u001b[43m,\u001b[49m\n\u001b[1;32m   1885\u001b[0m \u001b[43m    \u001b[49m\u001b[43mmemory_map\u001b[49m\u001b[38;5;241;43m=\u001b[39;49m\u001b[38;5;28;43mself\u001b[39;49m\u001b[38;5;241;43m.\u001b[39;49m\u001b[43moptions\u001b[49m\u001b[38;5;241;43m.\u001b[39;49m\u001b[43mget\u001b[49m\u001b[43m(\u001b[49m\u001b[38;5;124;43m\"\u001b[39;49m\u001b[38;5;124;43mmemory_map\u001b[39;49m\u001b[38;5;124;43m\"\u001b[39;49m\u001b[43m,\u001b[49m\u001b[43m \u001b[49m\u001b[38;5;28;43;01mFalse\u001b[39;49;00m\u001b[43m)\u001b[49m\u001b[43m,\u001b[49m\n\u001b[1;32m   1886\u001b[0m \u001b[43m    \u001b[49m\u001b[43mis_text\u001b[49m\u001b[38;5;241;43m=\u001b[39;49m\u001b[43mis_text\u001b[49m\u001b[43m,\u001b[49m\n\u001b[1;32m   1887\u001b[0m \u001b[43m    \u001b[49m\u001b[43merrors\u001b[49m\u001b[38;5;241;43m=\u001b[39;49m\u001b[38;5;28;43mself\u001b[39;49m\u001b[38;5;241;43m.\u001b[39;49m\u001b[43moptions\u001b[49m\u001b[38;5;241;43m.\u001b[39;49m\u001b[43mget\u001b[49m\u001b[43m(\u001b[49m\u001b[38;5;124;43m\"\u001b[39;49m\u001b[38;5;124;43mencoding_errors\u001b[39;49m\u001b[38;5;124;43m\"\u001b[39;49m\u001b[43m,\u001b[49m\u001b[43m \u001b[49m\u001b[38;5;124;43m\"\u001b[39;49m\u001b[38;5;124;43mstrict\u001b[39;49m\u001b[38;5;124;43m\"\u001b[39;49m\u001b[43m)\u001b[49m\u001b[43m,\u001b[49m\n\u001b[1;32m   1888\u001b[0m \u001b[43m    \u001b[49m\u001b[43mstorage_options\u001b[49m\u001b[38;5;241;43m=\u001b[39;49m\u001b[38;5;28;43mself\u001b[39;49m\u001b[38;5;241;43m.\u001b[39;49m\u001b[43moptions\u001b[49m\u001b[38;5;241;43m.\u001b[39;49m\u001b[43mget\u001b[49m\u001b[43m(\u001b[49m\u001b[38;5;124;43m\"\u001b[39;49m\u001b[38;5;124;43mstorage_options\u001b[39;49m\u001b[38;5;124;43m\"\u001b[39;49m\u001b[43m,\u001b[49m\u001b[43m \u001b[49m\u001b[38;5;28;43;01mNone\u001b[39;49;00m\u001b[43m)\u001b[49m\u001b[43m,\u001b[49m\n\u001b[1;32m   1889\u001b[0m \u001b[43m\u001b[49m\u001b[43m)\u001b[49m\n\u001b[1;32m   1890\u001b[0m \u001b[38;5;28;01massert\u001b[39;00m \u001b[38;5;28mself\u001b[39m\u001b[38;5;241m.\u001b[39mhandles \u001b[38;5;129;01mis\u001b[39;00m \u001b[38;5;129;01mnot\u001b[39;00m \u001b[38;5;28;01mNone\u001b[39;00m\n\u001b[1;32m   1891\u001b[0m f \u001b[38;5;241m=\u001b[39m \u001b[38;5;28mself\u001b[39m\u001b[38;5;241m.\u001b[39mhandles\u001b[38;5;241m.\u001b[39mhandle\n",
      "File \u001b[0;32m~/opt/anaconda3/envs/pyciems310/lib/python3.10/site-packages/pandas/io/common.py:873\u001b[0m, in \u001b[0;36mget_handle\u001b[0;34m(path_or_buf, mode, encoding, compression, memory_map, is_text, errors, storage_options)\u001b[0m\n\u001b[1;32m    868\u001b[0m \u001b[38;5;28;01melif\u001b[39;00m \u001b[38;5;28misinstance\u001b[39m(handle, \u001b[38;5;28mstr\u001b[39m):\n\u001b[1;32m    869\u001b[0m     \u001b[38;5;66;03m# Check whether the filename is to be opened in binary mode.\u001b[39;00m\n\u001b[1;32m    870\u001b[0m     \u001b[38;5;66;03m# Binary mode does not support 'encoding' and 'newline'.\u001b[39;00m\n\u001b[1;32m    871\u001b[0m     \u001b[38;5;28;01mif\u001b[39;00m ioargs\u001b[38;5;241m.\u001b[39mencoding \u001b[38;5;129;01mand\u001b[39;00m \u001b[38;5;124m\"\u001b[39m\u001b[38;5;124mb\u001b[39m\u001b[38;5;124m\"\u001b[39m \u001b[38;5;129;01mnot\u001b[39;00m \u001b[38;5;129;01min\u001b[39;00m ioargs\u001b[38;5;241m.\u001b[39mmode:\n\u001b[1;32m    872\u001b[0m         \u001b[38;5;66;03m# Encoding\u001b[39;00m\n\u001b[0;32m--> 873\u001b[0m         handle \u001b[38;5;241m=\u001b[39m \u001b[38;5;28;43mopen\u001b[39;49m\u001b[43m(\u001b[49m\n\u001b[1;32m    874\u001b[0m \u001b[43m            \u001b[49m\u001b[43mhandle\u001b[49m\u001b[43m,\u001b[49m\n\u001b[1;32m    875\u001b[0m \u001b[43m            \u001b[49m\u001b[43mioargs\u001b[49m\u001b[38;5;241;43m.\u001b[39;49m\u001b[43mmode\u001b[49m\u001b[43m,\u001b[49m\n\u001b[1;32m    876\u001b[0m \u001b[43m            \u001b[49m\u001b[43mencoding\u001b[49m\u001b[38;5;241;43m=\u001b[39;49m\u001b[43mioargs\u001b[49m\u001b[38;5;241;43m.\u001b[39;49m\u001b[43mencoding\u001b[49m\u001b[43m,\u001b[49m\n\u001b[1;32m    877\u001b[0m \u001b[43m            \u001b[49m\u001b[43merrors\u001b[49m\u001b[38;5;241;43m=\u001b[39;49m\u001b[43merrors\u001b[49m\u001b[43m,\u001b[49m\n\u001b[1;32m    878\u001b[0m \u001b[43m            \u001b[49m\u001b[43mnewline\u001b[49m\u001b[38;5;241;43m=\u001b[39;49m\u001b[38;5;124;43m\"\u001b[39;49m\u001b[38;5;124;43m\"\u001b[39;49m\u001b[43m,\u001b[49m\n\u001b[1;32m    879\u001b[0m \u001b[43m        \u001b[49m\u001b[43m)\u001b[49m\n\u001b[1;32m    880\u001b[0m     \u001b[38;5;28;01melse\u001b[39;00m:\n\u001b[1;32m    881\u001b[0m         \u001b[38;5;66;03m# Binary mode\u001b[39;00m\n\u001b[1;32m    882\u001b[0m         handle \u001b[38;5;241m=\u001b[39m \u001b[38;5;28mopen\u001b[39m(handle, ioargs\u001b[38;5;241m.\u001b[39mmode)\n",
      "\u001b[0;31mFileNotFoundError\u001b[0m: [Errno 2] No such file or directory: 'paper_sine_05/paper_sine_05_new_df.csv'"
     ]
    }
   ],
   "source": [
    "#'timepoint_id', 'sample_id'\n",
    "sine_distribution = pd.read_csv(\"paper_sine_05/paper_sine_05_new_df.csv\")\n",
    "sine_distribution = sine_distribution.rename(\n",
    "            columns={\n",
    "                'Unnamed: 0.1': \"timepoint_id\",\n",
    "                'Unnamed: 0': \"100\",\n",
    "            }\n",
    "        )\n",
    "sine_distribution = sine_distribution.melt(id_vars=[\"timepoint_id\"], \n",
    "        var_name=\"sample_id\", \n",
    "        value_name=\"same_stat_state\")\n",
    "\n",
    "traces_list = []   \n",
    " \n",
    "#select_by \"mean\", \"var\", \"granger\"\n",
    "for select_by in ['mean', 'var', 'granger']:\n",
    "    examplary_line, mean_line_df = pyciemss.visuals.trajectories.select_traces(sine_distribution, select_by = select_by,  kmean=True)\n",
    "    traces_list.append(examplary_line)\n",
    "\n",
    "\n",
    "new_df = pd.concat(traces_list, axis = 1)\n",
    "combined_df = pd.concat([new_df, mean_line_df], axis =1)\n",
    "\n",
    "schema = plots.trajectories(sine_distribution, traces = combined_df,  keep=\".*_state\")\n",
    "\n",
    "plots.save_schema(schema, \"_schema.json\")\n",
    "\n",
    "plots.ipy_display(schema, format=\"interactive\")"
   ]
  }
 ],
 "metadata": {
  "kernelspec": {
   "display_name": "py310_cfg",
   "language": "python",
   "name": "python3"
  },
  "language_info": {
   "codemirror_mode": {
    "name": "ipython",
    "version": 3
   },
   "file_extension": ".py",
   "mimetype": "text/x-python",
   "name": "python",
   "nbconvert_exporter": "python",
   "pygments_lexer": "ipython3",
   "version": "3.10.13"
  }
 },
 "nbformat": 4,
 "nbformat_minor": 2
}
