{
 "cells": [
  {
   "cell_type": "code",
   "execution_count": 79,
   "metadata": {},
   "outputs": [],
   "source": [
    "import os\n",
    "import json\n",
    "import sympy\n",
    "import requests\n",
    "\n",
    "import pyciemss\n",
    "import pyciemss.visuals.plots as plots\n",
    "import pyciemss.visuals.vega as vega\n",
    "import pyciemss.visuals.trajectories as trajectories\n",
    "\n",
    "from mira.metamodel import *\n",
    "from mira.modeling.amr.petrinet import AMRPetriNetModel, template_model_to_petrinet_json\n",
    "from mira.sources.amr.petrinet import template_model_from_amr_json"
   ]
  },
  {
   "cell_type": "code",
   "execution_count": 80,
   "metadata": {},
   "outputs": [
    {
     "name": "stdout",
     "output_type": "stream",
     "text": [
      "The autoreload extension is already loaded. To reload it, use:\n",
      "  %reload_ext autoreload\n"
     ]
    }
   ],
   "source": [
    "%load_ext autoreload\n",
    "%autoreload 1"
   ]
  },
  {
   "cell_type": "code",
   "execution_count": 81,
   "metadata": {},
   "outputs": [],
   "source": [
    "MODEL_PATH = \"https://raw.githubusercontent.com/DARPA-ASKEM/simulation-integration/main/data/models/\"\n",
    "\n",
    "model1 = os.path.join(MODEL_PATH, \"SEIRD_base_model01_petrinet.json\")\n",
    "model2 = os.path.join(MODEL_PATH, \"SEIRHD_base_model01_petrinet.json\")\n",
    "model3 = os.path.join(MODEL_PATH, \"LV_sheep_foxes.json\")"
   ]
  },
  {
   "cell_type": "code",
   "execution_count": 82,
   "metadata": {},
   "outputs": [],
   "source": [
    "start_time = 0.0\n",
    "end_time = 20.0\n",
    "logging_step_size = 1\n",
    "num_samples = 100\n",
    "n = 10"
   ]
  },
  {
   "cell_type": "code",
   "execution_count": 83,
   "metadata": {},
   "outputs": [
    {
     "data": {
      "text/html": [
       "<div>\n",
       "<style scoped>\n",
       "    .dataframe tbody tr th:only-of-type {\n",
       "        vertical-align: middle;\n",
       "    }\n",
       "\n",
       "    .dataframe tbody tr th {\n",
       "        vertical-align: top;\n",
       "    }\n",
       "\n",
       "    .dataframe thead th {\n",
       "        text-align: right;\n",
       "    }\n",
       "</style>\n",
       "<table border=\"1\" class=\"dataframe\">\n",
       "  <thead>\n",
       "    <tr style=\"text-align: right;\">\n",
       "      <th></th>\n",
       "      <th>timepoint_id</th>\n",
       "      <th>sample_id</th>\n",
       "      <th>timepoint_unknown</th>\n",
       "      <th>persistent_beta_param</th>\n",
       "      <th>persistent_death_param</th>\n",
       "      <th>persistent_gamma_param</th>\n",
       "      <th>persistent_I0_param</th>\n",
       "      <th>S_state</th>\n",
       "      <th>I_state</th>\n",
       "      <th>E_state</th>\n",
       "      <th>R_state</th>\n",
       "      <th>D_state</th>\n",
       "      <th>infected_observable_state</th>\n",
       "      <th>dead_observable_state</th>\n",
       "    </tr>\n",
       "  </thead>\n",
       "  <tbody>\n",
       "    <tr>\n",
       "      <th>0</th>\n",
       "      <td>0</td>\n",
       "      <td>0</td>\n",
       "      <td>0.0</td>\n",
       "      <td>0.760814</td>\n",
       "      <td>0.002358</td>\n",
       "      <td>0.23162</td>\n",
       "      <td>7.557887</td>\n",
       "      <td>19339992.0</td>\n",
       "      <td>7.557887</td>\n",
       "      <td>40.000000</td>\n",
       "      <td>0.000000</td>\n",
       "      <td>0.000000</td>\n",
       "      <td>7.557887</td>\n",
       "      <td>0.000000</td>\n",
       "    </tr>\n",
       "    <tr>\n",
       "      <th>1</th>\n",
       "      <td>1</td>\n",
       "      <td>0</td>\n",
       "      <td>1.0</td>\n",
       "      <td>0.760814</td>\n",
       "      <td>0.002358</td>\n",
       "      <td>0.23162</td>\n",
       "      <td>7.557887</td>\n",
       "      <td>19339984.0</td>\n",
       "      <td>14.682549</td>\n",
       "      <td>38.844719</td>\n",
       "      <td>2.606560</td>\n",
       "      <td>0.006161</td>\n",
       "      <td>14.682549</td>\n",
       "      <td>0.006161</td>\n",
       "    </tr>\n",
       "    <tr>\n",
       "      <th>2</th>\n",
       "      <td>2</td>\n",
       "      <td>0</td>\n",
       "      <td>2.0</td>\n",
       "      <td>0.760814</td>\n",
       "      <td>0.002358</td>\n",
       "      <td>0.23162</td>\n",
       "      <td>7.557887</td>\n",
       "      <td>19339972.0</td>\n",
       "      <td>20.642611</td>\n",
       "      <td>42.254456</td>\n",
       "      <td>6.697912</td>\n",
       "      <td>0.015833</td>\n",
       "      <td>20.642611</td>\n",
       "      <td>0.015833</td>\n",
       "    </tr>\n",
       "    <tr>\n",
       "      <th>3</th>\n",
       "      <td>3</td>\n",
       "      <td>0</td>\n",
       "      <td>3.0</td>\n",
       "      <td>0.760814</td>\n",
       "      <td>0.002358</td>\n",
       "      <td>0.23162</td>\n",
       "      <td>7.557887</td>\n",
       "      <td>19339954.0</td>\n",
       "      <td>26.515862</td>\n",
       "      <td>48.846272</td>\n",
       "      <td>12.140833</td>\n",
       "      <td>0.028699</td>\n",
       "      <td>26.515862</td>\n",
       "      <td>0.028699</td>\n",
       "    </tr>\n",
       "    <tr>\n",
       "      <th>4</th>\n",
       "      <td>4</td>\n",
       "      <td>0</td>\n",
       "      <td>4.0</td>\n",
       "      <td>0.760814</td>\n",
       "      <td>0.002358</td>\n",
       "      <td>0.23162</td>\n",
       "      <td>7.557887</td>\n",
       "      <td>19339932.0</td>\n",
       "      <td>32.958935</td>\n",
       "      <td>58.103645</td>\n",
       "      <td>18.996506</td>\n",
       "      <td>0.044904</td>\n",
       "      <td>32.958935</td>\n",
       "      <td>0.044904</td>\n",
       "    </tr>\n",
       "  </tbody>\n",
       "</table>\n",
       "</div>"
      ],
      "text/plain": [
       "   timepoint_id  sample_id timepoint_unknown  persistent_beta_param  \\\n",
       "0             0          0               0.0               0.760814   \n",
       "1             1          0               1.0               0.760814   \n",
       "2             2          0               2.0               0.760814   \n",
       "3             3          0               3.0               0.760814   \n",
       "4             4          0               4.0               0.760814   \n",
       "\n",
       "   persistent_death_param  persistent_gamma_param  persistent_I0_param  \\\n",
       "0                0.002358                 0.23162             7.557887   \n",
       "1                0.002358                 0.23162             7.557887   \n",
       "2                0.002358                 0.23162             7.557887   \n",
       "3                0.002358                 0.23162             7.557887   \n",
       "4                0.002358                 0.23162             7.557887   \n",
       "\n",
       "      S_state    I_state    E_state    R_state   D_state  \\\n",
       "0  19339992.0   7.557887  40.000000   0.000000  0.000000   \n",
       "1  19339984.0  14.682549  38.844719   2.606560  0.006161   \n",
       "2  19339972.0  20.642611  42.254456   6.697912  0.015833   \n",
       "3  19339954.0  26.515862  48.846272  12.140833  0.028699   \n",
       "4  19339932.0  32.958935  58.103645  18.996506  0.044904   \n",
       "\n",
       "   infected_observable_state  dead_observable_state  \n",
       "0                   7.557887               0.000000  \n",
       "1                  14.682549               0.006161  \n",
       "2                  20.642611               0.015833  \n",
       "3                  26.515862               0.028699  \n",
       "4                  32.958935               0.044904  "
      ]
     },
     "metadata": {},
     "output_type": "display_data"
    }
   ],
   "source": [
    "result1 = pyciemss.sample(model1, end_time, logging_step_size, num_samples, start_time=start_time)\n",
    "display(result1['data'].head())\n",
    "result1['data'][['timepoint_id', 'sample_id', 'S_state', 'I_state', 'R_state']].to_csv('sir.csv', index= False)\n"
   ]
  },
  {
   "cell_type": "markdown",
   "metadata": {},
   "source": [
    "### Plot histogram per state combination\n"
   ]
  },
  {
   "cell_type": "code",
   "execution_count": null,
   "metadata": {},
   "outputs": [],
   "source": []
  },
  {
   "cell_type": "code",
   "execution_count": 84,
   "metadata": {},
   "outputs": [],
   "source": [
    "import pandas as pd\n",
    "import numpy as np\n",
    "import math\n",
    "import matplotlib.pyplot as plt\n",
    "from itertools import combinations\n",
    "import networkx as nx\n",
    "from pyciemss.visuals import plots, vega\n",
    "bin_outliers = False\n",
    "log = False\n",
    "\n",
    "# loading SIR data\n",
    "sir_dataset = pd.read_csv(\"sir.csv\")\n",
    "\n",
    "\n",
    "def process_dataset(sir_dataset, bin_outliers, log):\n",
    "    \"\"\"\n",
    "    This function bins the columns in the dataset that includes \"_state\" and plots histograms for each column.\n",
    "    \n",
    "    Inputs:\n",
    "    sir_dataset (pd.DataFrame): The dataset with states, timepoint_id and sample_id\n",
    "    bin_outliers (bool): A boolean value indicating whether to bin outliers separately in their own bin.\n",
    "    log (bool): A boolean value indicating whether to use a log scale for the bins.\n",
    "    \n",
    "    Outputs:\n",
    "    sir_dataset (pd.DataFrame): The processed dataset with added bin columns.\n",
    "    bin_dict (dict): A dictionary storing the min and max values of each bin per column.\n",
    "    \"\"\"\n",
    "    # Determine the number of bins using Sturges' rule and the nu\n",
    "    num_bins =  math.ceil(math.log2(sir_dataset.shape[0]))\n",
    "\n",
    "    sir_dataset_state = sir_dataset.loc[:, sir_dataset.columns.str.contains('_state')]\n",
    "\n",
    "    # dictionary to store the min and max values of each bin per column\n",
    "    bin_dict = {}\n",
    "\n",
    "    sir_dataset_output = sir_dataset.copy()\n",
    "\n",
    "    for col in sir_dataset_state.columns:\n",
    "        max_val = sir_dataset_output[col].max()\n",
    "        min_val = sir_dataset_output[col].min()\n",
    "\n",
    "        # Calculate the 5th and 95th percentiles\n",
    "        p5, p95 = sir_dataset_output[col].quantile([0.05, 0.95])\n",
    "\n",
    "        # get histogram in the logspace\n",
    "        if log:\n",
    "            if bin_outliers:\n",
    "                # put all outliers in their own bin at the end (trying to avoid the massive histogram bin for the S_state)\n",
    "                p5_log = np.log10(p5)\n",
    "                p95_log = np.log10(p95)\n",
    "\n",
    "                bin_edges = np.logspace(np.max([0.0, p5_log]), p95_log, num=num_bins)\n",
    "                bin_edges = np.concatenate(([min_val], bin_edges, [max_val]))\n",
    "            else:\n",
    "                min_log= np.log10(min_val)\n",
    "                max_log = np.log10(max_val)\n",
    "                bin_edges = np.logspace(np.max([0.0, min_log]), max_log, num=num_bins)\n",
    "        else:\n",
    "            if bin_outliers:\n",
    "                bin_edges = np.linspace(p5, p95, num=num_bins)\n",
    "                bin_edges = np.concatenate(([min_val], bin_edges, [max_val]))\n",
    "            else: \n",
    "                bin_edges = np.linspace(min_val, max_val, num=num_bins)\n",
    "\n",
    "        # saving bins edges in dictionary by state and bin number\n",
    "        bin_dict[col] = [{i:(bin_edges[i], bin_edges[i+1])} for i in range(len(bin_edges)-1)]\n",
    "        # add column with the bin number per histogram\n",
    "        sir_dataset_output[col + '_bin'] = sir_dataset_output[col].apply(lambda x: np.digitize(x, bin_edges))\n",
    "\n",
    "    # create a new column that combines the bin information for each state\n",
    "    sir_dataset_output['combined_bin'] = sir_dataset_output.apply(lambda row: ''.join([f\"{col.replace('_state_bin','')}{int(row[col])}\" for col in sir_dataset_output.columns if '_bin' in col]), axis=1)\n",
    "\n",
    "    # create a mapping from original labels to shorter labels\n",
    "    unique_bins = sir_dataset_output['combined_bin'].unique()\n",
    "    label_mapping = {bin: f'bin_{i}' for i, bin in enumerate(unique_bins)}\n",
    "    sir_dataset_output['short_bin'] = sir_dataset_output['combined_bin'].map(label_mapping)\n",
    "\n",
    "    # save the mapping to a CSV file\n",
    "    pd.DataFrame(list(label_mapping.items()), columns=['original_label', 'short_label']).to_csv('label_mapping.csv', index=False)\n",
    "\n",
    "    return sir_dataset_output, bin_dict\n",
    "\n",
    "\n"
   ]
  },
  {
   "cell_type": "code",
   "execution_count": 85,
   "metadata": {},
   "outputs": [],
   "source": [
    "\n",
    "def remove_consecutive_duplicates(lst):\n",
    "    if not lst:  # if the list is empty, return it\n",
    "        return lst\n",
    "    new_lst = [lst[0]]  # add the first item of lst to new_lst\n",
    "    for item in lst[1:]:  # iterate over the rest of lst\n",
    "        if item != new_lst[-1]:  # if the current item is not the same as the last item in new_lst\n",
    "            new_lst.append(item)  # add it to new_lst\n",
    "    return new_lst\n",
    "\n",
    "def plot_paths(binned_data, *, n=None, fig_width=10):\n",
    "    bins_list = []\n",
    "    for sample_id in binned_data['sample_id'].unique()[:n]:\n",
    "        sample_df = binned_data[binned_data['sample_id'] == sample_id]\n",
    "        bins = sample_df['combined_bin'].values\n",
    "        bins_list.append(' '.join(remove_consecutive_duplicates(bins.tolist())))\n",
    "\n",
    "    return bins_list\n",
    "\n"
   ]
  },
  {
   "cell_type": "code",
   "execution_count": 86,
   "metadata": {},
   "outputs": [
    {
     "name": "stdout",
     "output_type": "stream",
     "text": [
      "['S11I3R0 S11I4R2 S11I5R3 S11I5R4 S11I5R5 S11I6R6 S11I7R7 S11I7R8 S10I8R8 S10I8R9 S9I9R10 S8I9R10 S8I10R11 S7I10R11', 'S11I4R0 S11I4R3 S11I5R4 S11I5R5 S11I5R6 S11I5R7 S11I5R8', 'S11I4R0 S11I4R2 S11I5R3 S11I5R4 S11I6R5 S11I6R6 S11I7R7 S11I7R8 S11I8R8 S10I8R9 S10I9R9 S9I9R10', 'S11I4R0 S11I5R1 S11I5R3 S11I5R4 S11I5R5 S11I6R5 S11I6R6 S11I6R7 S11I6R8', 'S11I4R0 S11I4R1 S11I5R3 S11I5R4 S11I6R4 S11I6R5 S11I6R6 S11I7R6 S11I7R7 S11I8R7 S11I8R8 S10I8R8 S10I9R9 S9I9R9 S9I10R10 S8I10R10 S7I10R10', 'S11I3R0 S11I4R3 S11I4R4 S11I5R5 S11I5R6 S11I5R7 S11I5R8 S11I6R8 S11I6R9', 'S11I3R0 S11I4R1 S11I5R3 S11I5R4 S11I5R5 S11I5R6 S11I5R7', 'S11I3R0 S11I4R2 S11I4R3 S11I4R4 S11I4R5 S11I4R6 S11I3R6 S11I2R6 S11I2R7', 'S11I4R0 S11I4R3 S11I4R4 S11I4R5 S11I4R6 S11I4R7 S11I3R7', 'S11I4R0 S11I5R3 S11I5R4 S11I5R5 S11I5R6 S11I6R6 S11I6R7 S11I6R8', 'S11I3R0 S11I4R1 S11I5R3 S11I5R4 S11I5R5 S11I5R6 S11I6R6 S11I6R7 S11I6R8 S11I7R8', 'S11I2R0 S11I4R2 S11I4R3 S11I5R4 S11I5R5 S11I5R6 S11I5R7 S11I5R8', 'S11I4R0 S11I5R2 S11I5R3 S11I5R4 S11I6R5 S11I6R6 S11I6R7 S11I6R8 S11I7R8', 'S11I4R0 S11I4R3 S11I5R4 S11I5R5 S11I5R6 S11I6R7 S11I6R8 S11I7R9', 'S11I4R0 S11I4R3 S11I4R4 S11I4R5 S11I4R6 S11I4R7 S11I3R8', 'S11I2R0 S11I4R1 S11I4R2 S11I5R3 S11I5R4 S11I5R5 S11I5R6 S11I5R7', 'S11I4R0 S11I5R3 S11I5R5 S11I5R6 S11I5R7 S11I6R7 S11I6R8 S11I6R9 S11I7R9 S10I7R9 S10I7R10', 'S11I4R0 S11I5R2 S11I5R4 S11I5R5 S11I5R6 S11I5R7 S11I4R7', 'S11I3R0 S11I4R2 S11I5R4 S11I5R5 S11I5R6 S11I6R7 S11I6R8 S11I7R8 S11I7R9 S10I7R9 S10I8R9 S10I8R10', 'S11I4R0 S11I4R3 S11I5R4 S11I5R5 S11I5R6 S11I5R7 S11I5R8', 'S11I4R0 S11I5R2 S11I5R4 S11I5R5 S11I6R5 S11I6R6 S11I7R7 S11I8R8 S10I8R8 S10I8R9 S10I9R9 S9I9R9 S9I9R10 S8I9R10 S8I10R10 S7I10R11 S5I10R11 S4I11R11', 'S11I3R0 S11I4R3 S11I4R4 S11I4R5 S11I4R6 S11I4R7 S11I4R8', 'S11I2R0 S11I4R2 S11I4R4 S11I4R5 S11I4R6 S11I4R7 S11I4R8', 'S11I3R0 S11I4R2 S11I5R4 S11I5R5 S11I5R6 S11I5R7 S11I6R7 S11I6R8 S11I7R9', 'S11I4R0 S11I4R2 S11I5R4 S11I5R5 S11I5R6 S11I4R6 S11I4R7 S11I3R7', 'S11I4R0 S11I5R2 S11I5R3 S11I5R4 S11I6R5 S11I6R6 S11I7R6 S11I7R7 S11I8R8 S10I8R8 S10I9R9 S9I9R9 S9I9R10 S8I10R10 S7I10R10', 'S11I3R0 S11I4R1 S11I5R3 S11I5R4 S11I5R5 S11I6R5 S11I6R6 S11I7R7 S11I7R8 S11I8R8 S10I8R8 S10I8R9 S10I9R9 S9I9R10 S8I9R10', 'S11I3R0 S11I4R2 S11I5R3 S11I5R4 S11I5R5 S11I6R5 S11I6R6 S11I6R7 S11I7R7 S11I7R8 S11I8R8 S10I8R9 S10I9R10 S9I9R10 S8I9R10', 'S11I4R0 S11I4R3 S11I5R4 S11I5R5 S11I5R6 S11I6R6 S11I6R7 S11I6R8 S11I7R8 S11I7R9 S10I7R9 S10I8R9 S10I8R10', 'S11I4R0 S11I5R3 S11I5R4 S11I5R5 S11I5R6 S11I5R7 S11I6R7 S11I6R8 S11I6R9 S11I7R9', 'S11I4R0 S11I5R2 S11I5R4 S11I6R4 S11I6R5 S11I6R6 S11I7R6 S11I7R7 S11I8R7 S11I8R8 S10I8R8 S10I9R9 S9I9R9 S8I9R10 S8I10R10 S7I10R10 S5I10R11 S4I11R11 S2I11R12', 'S11I4R0 S11I4R2 S11I4R4 S11I5R5 S11I4R5 S11I4R6 S11I3R6 S11I3R7 S11I2R7', 'S11I3R0 S11I4R3 S11I4R4 S11I4R5 S11I4R6 S11I5R6 S11I5R7 S11I5R8', 'S11I4R0 S11I4R2 S11I5R4 S11I5R5 S11I6R6 S11I6R7 S11I7R7 S11I7R8 S11I8R8 S10I8R9 S10I9R10 S9I9R10 S8I9R10 S8I10R11', 'S11I4R0 S11I4R3 S11I4R4 S11I4R5 S11I5R6 S11I5R7 S11I5R8 S11I5R9', 'S11I2R0 S11I4R2 S11I4R4 S11I4R5 S11I5R5 S11I5R6 S11I5R7 S11I6R7 S11I6R8 S11I6R9 S11I7R9 S10I7R9', 'S11I4R0 S11I4R3 S11I5R4 S11I4R5 S11I4R6 S11I3R6 S11I3R7 S11I2R7 S11I1R7', 'S11I4R0 S11I5R2 S11I5R3 S11I6R4 S11I6R5 S11I7R6 S11I7R7 S11I8R7 S11I8R8 S10I8R8 S10I9R8 S10I9R9 S9I9R9 S9I10R10 S8I10R10', 'S11I4R0 S11I4R1 S11I5R2 S11I5R3 S11I6R4 S11I6R5 S11I7R6 S11I7R7 S11I8R7 S11I8R8 S10I8R8 S10I9R8 S10I9R9 S9I9R9 S9I10R9 S8I10R10', 'S11I2R0 S11I4R2 S11I4R4 S11I4R5 S11I4R6 S11I5R6 S11I5R7 S11I5R8 S11I5R9', 'S11I2R0 S11I4R2 S11I4R3 S11I5R4 S11I5R5 S11I5R6 S11I6R7 S11I6R8 S11I7R8 S11I7R9', 'S11I2R0 S11I4R2 S11I4R4 S11I4R5 S11I4R6 S11I5R6 S11I5R7 S11I5R8', 'S11I4R0 S11I5R2 S11I5R3 S11I5R4 S11I6R5 S11I6R6 S11I7R6 S11I7R7 S11I8R8 S10I8R8 S10I8R9 S10I9R9 S9I9R9 S9I9R10 S9I10R10', 'S11I3R0 S11I4R2 S11I4R4 S11I4R5 S11I4R6 S11I3R6 S11I2R6 S11I1R6 S11I0R6', 'S11I3R0 S11I4R2 S11I4R3 S11I4R4 S11I4R5 S11I4R6 S11I4R7 S11I3R7', 'S11I3R0 S11I4R3 S11I4R4 S11I4R5 S11I4R6 S11I3R6 S11I3R7 S11I2R7 S11I1R7', 'S11I3R0 S11I4R3 S11I4R4 S11I5R5 S11I5R6 S11I5R7 S11I5R8 S11I6R8 S11I6R9 S11I7R9', 'S11I4R0 S11I4R3 S11I5R4 S11I5R5 S11I5R6 S11I5R7 S11I6R7 S11I6R8 S11I6R9 S11I7R9', 'S11I4R0 S11I4R3 S11I5R4 S11I5R5 S11I5R6 S11I5R7 S11I5R8 S11I6R8', 'S11I3R0 S11I4R3 S11I4R4 S11I5R5 S11I5R6 S11I5R7 S11I5R8 S11I6R8 S11I6R9 S11I7R9 S10I7R9', 'S11I4R0 S11I4R3 S11I5R4 S11I5R5 S11I4R6 S11I4R7 S11I3R7 S11I2R7', 'S11I3R0 S11I4R1 S11I5R2 S11I5R3 S11I6R4 S11I6R5 S11I7R6 S11I7R7 S11I8R7 S10I8R8 S10I9R8 S9I9R9 S8I10R9 S7I10R10 S6I10R10 S5I11R10 S3I11R11', 'S11I2R0 S11I4R2 S11I4R3 S11I4R4 S11I4R5 S11I4R6 S11I4R7 S11I3R7', 'S11I4R0 S11I5R2 S11I5R3 S11I5R4 S11I5R5 S11I5R6 S11I5R7', 'S11I3R0 S11I4R2 S11I5R3 S11I5R4 S11I5R5 S11I6R6 S11I6R7 S11I7R7 S11I7R8 S11I8R9 S10I8R9 S10I9R10 S9I9R10', 'S11I3R0 S11I4R2 S11I5R4 S11I5R5 S11I5R6 S11I6R6 S11I6R7 S11I7R8 S11I7R9 S10I8R9 S10I8R10', 'S11I4R0 S11I4R2 S11I5R3 S11I5R4 S11I5R5 S11I5R6 S11I6R6 S11I6R7 S11I6R8', 'S11I3R0 S11I4R3 S11I4R4 S11I4R5 S11I4R6 S11I3R6 S11I3R7 S11I2R7', 'S11I3R0 S11I4R2 S11I4R4 S11I4R5 S11I4R6 S11I4R7 S11I3R7', 'S11I4R0 S11I5R2 S11I5R3 S11I5R4 S11I6R5 S11I6R6 S11I7R6 S11I7R7 S11I7R8 S11I8R8 S10I8R8 S10I8R9 S10I9R9 S9I9R10', 'S11I3R0 S11I4R2 S11I5R3 S11I5R4 S11I5R5 S11I6R5 S11I6R6 S11I7R7 S11I7R8 S11I8R8 S10I8R9 S10I9R9 S9I9R10', 'S11I3R0 S11I4R3 S11I4R4 S11I4R5 S11I5R6 S11I5R7 S11I5R8', 'S11I3R0 S11I4R2 S11I5R3 S11I5R4 S11I5R5 S11I6R5 S11I6R6 S11I6R7 S11I7R7 S11I7R8 S11I8R8 S10I8R9 S9I9R10 S8I9R10 S8I10R11', 'S11I4R0 S11I4R2 S11I5R4 S11I5R5 S11I6R6 S11I6R7 S11I7R7 S11I7R8 S10I8R9 S10I8R10 S9I9R10 S8I9R10 S8I9R11', 'S11I1R0 S11I3R1 S11I4R3 S11I4R4 S11I4R5 S11I5R6 S11I5R7 S11I5R8', 'S11I1R0 S11I4R2 S11I4R4 S11I4R5 S11I5R6 S11I5R7 S11I5R8 S11I6R8 S11I6R9 S11I7R9', 'S11I3R0 S11I4R3 S11I4R4 S11I4R5 S11I4R6 S11I4R7 S11I4R8', 'S11I4R0 S11I5R2 S11I5R4 S11I5R5 S11I5R6 S11I6R6 S11I6R7 S11I6R8 S11I7R8 S11I7R9', 'S11I2R0 S11I4R0 S11I5R2 S11I5R3 S11I5R4 S11I6R4 S11I6R5 S11I6R6 S11I7R6 S11I7R7 S11I8R7 S11I8R8 S10I8R8 S10I9R9 S9I9R9 S9I10R10', 'S11I2R0 S11I4R2 S11I4R3 S11I4R4 S11I4R5 S11I4R6 S11I4R7 S11I3R7', 'S11I4R0 S11I4R1 S11I5R3 S11I5R4 S11I6R5 S11I6R6 S11I7R7 S11I7R8 S11I8R8 S10I8R9 S10I9R9 S10I9R10', 'S11I4R0 S11I4R3 S11I4R4 S11I4R5 S11I4R6 S11I3R6 S11I3R7 S11I2R7 S11I1R7', 'S11I4R0 S11I4R3 S11I4R4 S11I5R5 S11I5R6 S11I5R7 S11I5R8 S11I6R8 S11I6R9', 'S11I4R0 S11I5R1 S11I5R3 S11I6R4 S11I6R5 S11I7R6 S11I7R7 S11I8R7 S11I8R8 S10I8R8 S10I9R9 S9I9R9 S8I10R10', 'S11I4R0 S11I4R2 S11I5R4 S11I5R5 S11I5R6 S11I6R7 S11I6R8 S11I7R8 S11I7R9', 'S11I2R0 S11I4R2 S11I4R3 S11I4R4 S11I5R5 S11I5R6 S11I5R7 S11I5R8', 'S11I3R0 S11I4R2 S11I4R4 S11I4R5 S11I4R6 S11I4R7 S11I3R7 S11I2R7', 'S11I3R0 S11I4R2 S11I4R4 S11I4R5 S11I4R6 S11I3R6 S11I2R7 S11I1R7', 'S11I3R0 S11I4R1 S11I5R2 S11I5R3 S11I6R4 S11I6R5 S11I7R5 S11I7R6 S11I8R7 S10I8R8 S10I9R8 S9I9R9 S8I10R9 S7I10R10 S6I10R10 S5I11R10 S3I11R11 S1I11R11', 'S11I4R0 S11I4R1 S11I5R3 S11I5R4 S11I6R4 S11I6R5 S11I6R6 S11I7R6 S11I7R7 S11I8R7 S11I8R8 S10I8R8 S10I9R9 S9I9R9 S9I10R10 S8I10R10', 'S11I3R0 S11I4R2 S11I4R4 S11I4R5 S11I4R6 S11I3R6 S11I3R7 S11I2R7', 'S11I4R0 S11I5R2 S11I5R3 S11I5R4 S11I6R5 S11I6R6 S11I7R7 S11I7R8 S11I8R8 S10I8R9 S10I9R9 S9I9R10', 'S11I4R0 S11I4R1 S11I5R3 S11I5R4 S11I5R5 S11I5R6 S11I5R7', 'S11I4R0 S11I4R3 S11I5R4 S11I5R5 S11I5R6 S11I4R6 S11I4R7 S11I3R7', 'S11I1R0 S11I3R2 S11I4R3 S11I4R4 S11I4R5 S11I4R6 S11I3R6 S11I3R7 S11I2R7', 'S11I4R0 S11I5R1 S11I5R3 S11I6R4 S11I6R5 S11I7R5 S11I7R6 S11I7R7 S11I8R7 S10I8R8 S10I9R8 S9I9R9 S9I10R9 S8I10R9 S8I10R10 S7I10R10 S6I11R10', 'S11I1R0 S11I3R2 S11I4R3 S11I4R4 S11I4R5 S11I4R6 S11I3R6 S11I3R7 S11I2R7', 'S11I2R0 S11I4R2 S11I4R3 S11I5R4 S11I5R5 S11I5R6 S11I6R7 S11I6R8 S11I7R8 S11I7R9 S10I7R9 S10I8R9 S10I8R10', 'S11I2R0 S11I4R1 S11I4R3 S11I5R4 S11I5R5 S11I5R6 S11I4R7', 'S11I3R0 S11I4R3 S11I4R4 S11I4R5 S11I5R5 S11I5R6 S11I5R7 S11I5R8 S11I6R8 S11I6R9', 'S11I4R0 S11I4R3 S11I4R4 S11I5R5 S11I5R6 S11I5R7 S11I5R8 S11I6R8 S11I6R9', 'S11I4R0 S11I5R3 S11I5R4 S11I5R5 S11I5R6 S11I5R7 S11I6R7 S11I6R8 S11I6R9', 'S11I3R0 S11I4R0 S11I5R2 S11I5R3 S11I5R4 S11I5R5 S11I5R6', 'S11I4R0 S11I4R3 S11I4R4 S11I5R5 S11I5R6 S11I5R7 S11I5R8 S11I6R8 S11I6R9', 'S11I4R0 S11I4R2 S11I5R4 S11I6R5 S11I6R6 S11I6R7 S11I7R7 S11I7R8 S11I8R8 S10I8R8 S10I8R9 S9I9R9 S9I9R10 S8I9R10 S8I10R10 S7I10R11 S6I10R11', 'S11I4R0 S11I4R3 S11I5R4 S11I5R5 S11I5R6 S11I5R7 S11I5R8 S11I6R8 S11I6R9', 'S11I4R0 S11I5R3 S11I5R4 S11I5R5 S11I5R6 S11I5R7 S11I5R8', 'S11I3R0 S11I4R2 S11I4R4 S11I4R5 S11I5R5 S11I5R6 S11I4R6 S11I4R7 S11I4R8', 'S11I3R0 S11I4R2 S11I5R4 S11I5R5 S11I6R6 S11I6R7 S11I7R8 S11I7R9 S10I8R9 S10I8R10 S9I9R10 S8I9R11', 'S11I1R0 S11I4R1 S11I4R2 S11I5R3 S11I5R4 S11I5R5 S11I6R5 S11I6R6 S11I6R7 S11I7R7 S11I7R8 S11I8R8 S11I8R9 S10I8R9']\n"
     ]
    },
    {
     "name": "stderr",
     "output_type": "stream",
     "text": [
      "/var/folders/vn/q5vrjvfn60bfsnnd058cb6ww0000gn/T/ipykernel_20221/3969318224.py:55: RuntimeWarning: divide by zero encountered in log10\n",
      "  min_log= np.log10(min_val)\n"
     ]
    }
   ],
   "source": [
    "sir_dataset_output, bin_dict= process_dataset(sir_dataset, bin_outliers = False, log = True)\n",
    "bins_list =  plot_paths(sir_dataset_output)\n",
    "len(bins_list)\n",
    "print(bins_list)"
   ]
  },
  {
   "cell_type": "code",
   "execution_count": 87,
   "metadata": {},
   "outputs": [
    {
     "name": "stdout",
     "output_type": "stream",
     "text": [
      "The autoreload extension is already loaded. To reload it, use:\n",
      "  %reload_ext autoreload\n"
     ]
    }
   ],
   "source": [
    "%load_ext autoreload\n",
    "%autoreload 1"
   ]
  },
  {
   "cell_type": "code",
   "execution_count": 88,
   "metadata": {},
   "outputs": [],
   "source": [
    "import sententree\n",
    "import sententree_vega\n",
    "import networkx as nx\n",
    "import vega\n",
    "import vl_convert\n",
    "\n",
    "%aimport sententree\n",
    "%aimport sententree_vega\n",
    "%aimport vega"
   ]
  },
  {
   "cell_type": "code",
   "execution_count": 89,
   "metadata": {},
   "outputs": [],
   "source": [
    "logging_keywords = [\"TRACE\", \"DEBUG\", \"INFO\", \"LOG\"]\n",
    "def contains_any(line, keywords):\n",
    "    return any([w in line for w in keywords])\n",
    "\n",
    "def clean_line(l):\n",
    "    no_date = \" \".join(l.split(\" \")[1:]).strip()\n",
    "    return no_date.replace(\"::\", \"-\").replace(\":\", \"-\")\n"
   ]
  },
  {
   "cell_type": "code",
   "execution_count": 92,
   "metadata": {},
   "outputs": [
    {
     "name": "stdout",
     "output_type": "stream",
     "text": [
      "\n"
     ]
    },
    {
     "data": {
      "application/vnd.vega.v5+json": {
       "$schema": "https://vega.github.io/schema/vega/v5.json",
       "autosize": {
        "contains": "padding",
        "resize": true,
        "type": "fit"
       },
       "data": [
        {
         "name": "base",
         "values": [
          {
           "count": 48,
           "height": 1.2178,
           "id": "S11I4R0_1",
           "label": "S11I4R0",
           "summary": false,
           "width": 4.5864,
           "x": 414.66,
           "y": 206.74
          },
          {
           "count": 16,
           "height": 0.52542,
           "id": "S11I5R2_1",
           "label": "S11I5R2",
           "summary": false,
           "width": 1.7432,
           "x": 871.87,
           "y": 100.74
          },
          {
           "count": 53,
           "height": 1.3209,
           "id": "S11I5R4_1",
           "label": "S11I5R4",
           "summary": false,
           "width": 4.9989,
           "x": 1498.24,
           "y": 233.74
          },
          {
           "count": 51,
           "height": 1.2767,
           "id": "S11I5R5_1",
           "label": "S11I5R5",
           "summary": false,
           "width": 4.8515,
           "x": 1888.86,
           "y": 239.74
          },
          {
           "count": 42,
           "height": 1.0852,
           "id": "S11I5R6_1",
           "label": "S11I5R6",
           "summary": false,
           "width": 4.0413,
           "x": 2489.24,
           "y": 163.74
          },
          {
           "count": 28,
           "height": 0.79058,
           "id": "S11I6R6_1",
           "label": "S11I6R6",
           "summary": false,
           "width": 2.8186,
           "x": 2772.2,
           "y": 297.74
          },
          {
           "count": 26,
           "height": 0.73166,
           "id": "S11I6R7_1",
           "label": "S11I6R7",
           "summary": false,
           "width": 2.6124,
           "x": 3003.71,
           "y": 305.74
          },
          {
           "count": 24,
           "height": 0.68746,
           "id": "S11I6R8_1",
           "label": "S11I6R8",
           "summary": false,
           "width": 2.4356,
           "x": 3225.68,
           "y": 341.74
          },
          {
           "count": 24,
           "height": 0.68746,
           "id": "S11I7R8_1",
           "label": "S11I7R8",
           "summary": false,
           "width": 2.4356,
           "x": 3441.29,
           "y": 358.74
          },
          {
           "count": 16,
           "height": 0.52542,
           "id": "S11I7R9_1",
           "label": "S11I7R9",
           "summary": false,
           "width": 1.7432,
           "x": 3639.92,
           "y": 358.74
          },
          {
           "count": 35,
           "height": 0.9379,
           "id": "S11I4R3_1",
           "label": "S11I4R3",
           "summary": false,
           "width": 3.3931,
           "x": 1160.13,
           "y": 116.74
          },
          {
           "count": 6,
           "height": 0.5,
           "id": "S10I7R9_1",
           "label": "S10I7R9",
           "summary": false,
           "width": 0.75,
           "x": 3814.69,
           "y": 356.74
          },
          {
           "count": 21,
           "height": 0.62854,
           "id": "S10I8R9_1",
           "label": "S10I8R9",
           "summary": false,
           "width": 2.1999,
           "x": 3993.7,
           "y": 293.74
          },
          {
           "count": 6,
           "height": 0.5,
           "id": "S10I8R10_1",
           "label": "S10I8R10",
           "summary": false,
           "width": 0.75,
           "x": 4168,
           "y": 330.74
          },
          {
           "count": 37,
           "height": 0.96736,
           "id": "S11I4R2_1",
           "label": "S11I4R2",
           "summary": false,
           "width": 3.6141,
           "x": 871.87,
           "y": 176.74
          },
          {
           "count": 27,
           "height": 0.76112,
           "id": "S11I5R7_1",
           "label": "S11I5R7",
           "summary": false,
           "width": 2.7008,
           "x": 2772.2,
           "y": 190.74
          },
          {
           "count": 12,
           "height": 0.5,
           "id": "S11I6R9_1",
           "label": "S11I6R9",
           "summary": false,
           "width": 1.25,
           "x": 3441.29,
           "y": 308.74
          },
          {
           "count": 34,
           "height": 0.90844,
           "id": "S11I5R3_1",
           "label": "S11I5R3",
           "summary": false,
           "width": 3.3489,
           "x": 1160.13,
           "y": 189.74
          },
          {
           "count": 16,
           "height": 0.52542,
           "id": "S11I5R8_1",
           "label": "S11I5R8",
           "summary": false,
           "width": 1.7432,
           "x": 3003.71,
           "y": 195.74
          },
          {
           "count": 12,
           "height": 0.5,
           "id": "S11I4R1_1",
           "label": "S11I4R1",
           "summary": false,
           "width": 1.25,
           "x": 660.76,
           "y": 132.74
          },
          {
           "count": 16,
           "height": 0.52542,
           "id": "S11I4R7_1",
           "label": "S11I4R7",
           "summary": false,
           "width": 1.7432,
           "x": 3003.71,
           "y": 121.74
          },
          {
           "count": 27,
           "height": 0.76112,
           "id": "S11I4R6_1",
           "label": "S11I4R6",
           "summary": false,
           "width": 2.7008,
           "x": 2772.2,
           "y": 128.74
          },
          {
           "count": 17,
           "height": 0.54015,
           "id": "S11I3R7_1",
           "label": "S11I3R7",
           "summary": false,
           "width": 1.8169,
           "x": 3225.68,
           "y": 158.74
          },
          {
           "count": 30,
           "height": 0.82005,
           "id": "S11I3R0_1",
           "label": "S11I3R0",
           "summary": false,
           "width": 2.9659,
           "x": 106.77,
           "y": 142.74
          },
          {
           "count": 12,
           "height": 0.5,
           "id": "S11I2R0_1",
           "label": "S11I2R0",
           "summary": false,
           "width": 1.25,
           "x": 106.77,
           "y": 261.74
          },
          {
           "count": 24,
           "height": 0.68746,
           "id": "S11I6R5_1",
           "label": "S11I6R5",
           "summary": false,
           "width": 2.4356,
           "x": 2203.63,
           "y": 257.74
          },
          {
           "count": 25,
           "height": 0.71693,
           "id": "S11I7R7_1",
           "label": "S11I7R7",
           "summary": false,
           "width": 2.5534,
           "x": 3225.68,
           "y": 268.74
          },
          {
           "count": 20,
           "height": 0.59908,
           "id": "S11I8R8_1",
           "label": "S11I8R8",
           "summary": false,
           "width": 2.082,
           "x": 3639.92,
           "y": 311.74
          },
          {
           "count": 16,
           "height": 0.52542,
           "id": "S9I9R10_1",
           "label": "S9I9R10",
           "summary": false,
           "width": 1.7727,
           "x": 4454.88,
           "y": 301.74
          },
          {
           "count": 9,
           "height": 0.5,
           "id": "S8I9R10_1",
           "label": "S8I9R10",
           "summary": false,
           "width": 0.92689,
           "x": 4588.07,
           "y": 329.74
          },
          {
           "count": 4,
           "height": 0.5,
           "id": "S10I9R10_1",
           "label": "S10I9R10",
           "summary": false,
           "width": 0.75,
           "x": 4309.08,
           "y": 214.74
          },
          {
           "count": 2,
           "height": 0.5,
           "id": "S8I9R11_1",
           "label": "S8I9R11",
           "summary": false,
           "width": 0.75,
           "x": 4684.44,
           "y": 314.74
          },
          {
           "count": 2,
           "height": 0.5,
           "id": "S11I8R9_1",
           "label": "S11I8R9",
           "summary": false,
           "width": 0.75,
           "x": 3814.69,
           "y": 205.74
          },
          {
           "count": 15,
           "height": 0.5,
           "id": "S10I9R9_1",
           "label": "S10I9R9",
           "summary": false,
           "width": 1.6417,
           "x": 4168,
           "y": 242.74
          },
          {
           "count": 16,
           "height": 0.52542,
           "id": "S10I8R8_1",
           "label": "S10I8R8",
           "summary": false,
           "width": 1.7727,
           "x": 3814.69,
           "y": 249.74
          },
          {
           "count": 13,
           "height": 0.5,
           "id": "S9I9R9_1",
           "label": "S9I9R9",
           "summary": false,
           "width": 1.2773,
           "x": 4309.08,
           "y": 257.74
          },
          {
           "count": 3,
           "height": 0.5,
           "id": "S11I5R1_1",
           "label": "S11I5R1",
           "summary": false,
           "width": 0.75,
           "x": 660.76,
           "y": 88.74
          },
          {
           "count": 12,
           "height": 0.5,
           "id": "S11I2R7_1",
           "label": "S11I2R7",
           "summary": false,
           "width": 1.25,
           "x": 3441.29,
           "y": 28.74
          },
          {
           "count": 9,
           "height": 0.5,
           "id": "S11I6R4_1",
           "label": "S11I6R4",
           "summary": false,
           "width": 0.92689,
           "x": 1888.86,
           "y": 168.74
          },
          {
           "count": 12,
           "height": 0.5,
           "id": "S11I7R6_1",
           "label": "S11I7R6",
           "summary": false,
           "width": 1.25,
           "x": 3003.71,
           "y": 239.74
          },
          {
           "count": 9,
           "height": 0.5,
           "id": "S11I8R7_1",
           "label": "S11I8R7",
           "summary": false,
           "width": 0.92689,
           "x": 3441.29,
           "y": 234.74
          },
          {
           "count": 4,
           "height": 0.5,
           "id": "S9I10R10_1",
           "label": "S9I10R10",
           "summary": false,
           "width": 0.75,
           "x": 4588.07,
           "y": 271.74
          },
          {
           "count": 29,
           "height": 0.80532,
           "id": "S11I4R5_1",
           "label": "S11I4R5",
           "summary": false,
           "width": 2.8923,
           "x": 2203.63,
           "y": 163.74
          },
          {
           "count": 11,
           "height": 0.5,
           "id": "S11I3R6_1",
           "label": "S11I3R6",
           "summary": false,
           "width": 1.1212,
           "x": 3003.71,
           "y": 56.74
          },
          {
           "count": 4,
           "height": 0.5,
           "id": "S11I1R7_1",
           "label": "S11I1R7",
           "summary": false,
           "width": 0.75,
           "x": 3639.92,
           "y": 28.74
          },
          {
           "count": 33,
           "height": 0.8937,
           "id": "S11I4R4_1",
           "label": "S11I4R4",
           "summary": false,
           "width": 3.2311,
           "x": 1498.24,
           "y": 116.74
          },
          {
           "count": 4,
           "height": 0.5,
           "id": "S11I4R8_1",
           "label": "S11I4R8",
           "summary": false,
           "width": 0.75,
           "x": 3225.68,
           "y": 114.74
          },
          {
           "count": 2,
           "height": 0.5,
           "id": "S11I2R6_1",
           "label": "S11I2R6",
           "summary": false,
           "width": 0.75,
           "x": 3225.68,
           "y": 28.74
          },
          {
           "count": 1,
           "height": 0.5,
           "id": "S11I3R8_1",
           "label": "S11I3R8",
           "summary": false,
           "width": 0.75,
           "x": 3225.68,
           "y": 71.74
          },
          {
           "count": 2,
           "height": 0.5,
           "id": "S11I5R9_1",
           "label": "S11I5R9",
           "summary": false,
           "width": 0.75,
           "x": 3225.68,
           "y": 202.74
          },
          {
           "count": 2,
           "height": 0.5,
           "id": "S11I7R5_1",
           "label": "S11I7R5",
           "summary": false,
           "width": 0.75,
           "x": 2489.24,
           "y": 257.74
          },
          {
           "count": 5,
           "height": 0.5,
           "id": "S10I9R8_1",
           "label": "S10I9R8",
           "summary": false,
           "width": 0.75,
           "x": 3993.7,
           "y": 230.74
          },
          {
           "count": 2,
           "height": 0.5,
           "id": "S9I10R9_1",
           "label": "S9I10R9",
           "summary": false,
           "width": 0.75,
           "x": 4454.88,
           "y": 227.74
          },
          {
           "count": 1,
           "height": 0.5,
           "id": "+1_1",
           "label": "+1",
           "summary": true,
           "width": 0.75,
           "x": 4588.07,
           "y": 213.74
          }
         ]
        },
        {
         "name": "links",
         "values": [
          {
           "source": "S11I4R0_1",
           "target": "S11I5R2_1"
          },
          {
           "source": "S11I4R0_1",
           "target": "S11I4R3_1"
          },
          {
           "source": "S11I4R0_1",
           "target": "S11I4R2_1"
          },
          {
           "source": "S11I4R0_1",
           "target": "S11I5R3_1"
          },
          {
           "source": "S11I4R0_1",
           "target": "S11I4R1_1"
          },
          {
           "source": "S11I4R0_1",
           "target": "S11I5R1_1"
          },
          {
           "source": "S11I5R2_1",
           "target": "S11I5R4_1"
          },
          {
           "source": "S11I5R2_1",
           "target": "S11I5R3_1"
          },
          {
           "source": "S11I5R4_1",
           "target": "S11I5R5_1"
          },
          {
           "source": "S11I5R4_1",
           "target": "S11I6R4_1"
          },
          {
           "source": "S11I5R4_1",
           "target": "S11I6R5_1"
          },
          {
           "source": "S11I5R4_1",
           "target": "S11I4R5_1"
          },
          {
           "source": "S11I5R5_1",
           "target": "S11I5R6_1"
          },
          {
           "source": "S11I5R5_1",
           "target": "S11I6R5_1"
          },
          {
           "source": "S11I5R5_1",
           "target": "S11I6R6_1"
          },
          {
           "source": "S11I5R5_1",
           "target": "S11I4R6_1"
          },
          {
           "source": "S11I5R5_1",
           "target": "S11I4R5_1"
          },
          {
           "source": "S11I5R6_1",
           "target": "S11I6R6_1"
          },
          {
           "source": "S11I5R6_1",
           "target": "S11I6R7_1"
          },
          {
           "source": "S11I5R6_1",
           "target": "S11I5R7_1"
          },
          {
           "source": "S11I5R6_1",
           "target": "S11I4R6_1"
          },
          {
           "source": "S11I5R6_1",
           "target": "S11I4R7_1"
          },
          {
           "source": "S11I6R6_1",
           "target": "S11I6R7_1"
          },
          {
           "source": "S11I6R6_1",
           "target": "S11I7R7_1"
          },
          {
           "source": "S11I6R6_1",
           "target": "S11I7R6_1"
          },
          {
           "source": "S11I6R7_1",
           "target": "S11I6R8_1"
          },
          {
           "source": "S11I6R7_1",
           "target": "S11I7R8_1"
          },
          {
           "source": "S11I6R7_1",
           "target": "S11I7R7_1"
          },
          {
           "source": "S11I6R8_1",
           "target": "S11I7R8_1"
          },
          {
           "source": "S11I6R8_1",
           "target": "S11I6R9_1"
          },
          {
           "source": "S11I6R8_1",
           "target": "S11I7R9_1"
          },
          {
           "source": "S11I7R8_1",
           "target": "S11I7R9_1"
          },
          {
           "source": "S11I7R8_1",
           "target": "S11I8R8_1"
          },
          {
           "source": "S11I7R8_1",
           "target": "S10I8R9_1"
          },
          {
           "source": "S11I7R8_1",
           "target": "S11I8R9_1"
          },
          {
           "source": "S11I7R8_1",
           "target": "S10I8R8_1"
          },
          {
           "source": "S11I7R9_1",
           "target": "S10I7R9_1"
          },
          {
           "source": "S11I7R9_1",
           "target": "S10I8R9_1"
          },
          {
           "source": "S11I4R3_1",
           "target": "S11I5R4_1"
          },
          {
           "source": "S11I4R3_1",
           "target": "S11I4R4_1"
          },
          {
           "source": "S10I7R9_1",
           "target": "S10I8R9_1"
          },
          {
           "source": "S10I8R9_1",
           "target": "S10I8R10_1"
          },
          {
           "source": "S10I8R9_1",
           "target": "S9I9R10_1"
          },
          {
           "source": "S10I8R9_1",
           "target": "S10I9R10_1"
          },
          {
           "source": "S10I8R9_1",
           "target": "S10I9R9_1"
          },
          {
           "source": "S10I8R9_1",
           "target": "S9I9R9_1"
          },
          {
           "source": "S10I8R10_1",
           "target": "S9I9R10_1"
          },
          {
           "source": "S11I4R2_1",
           "target": "S11I5R4_1"
          },
          {
           "source": "S11I4R2_1",
           "target": "S11I5R3_1"
          },
          {
           "source": "S11I4R2_1",
           "target": "S11I4R3_1"
          },
          {
           "source": "S11I4R2_1",
           "target": "S11I4R4_1"
          },
          {
           "source": "S11I5R7_1",
           "target": "S11I6R7_1"
          },
          {
           "source": "S11I5R7_1",
           "target": "S11I5R8_1"
          },
          {
           "source": "S11I5R7_1",
           "target": "S11I4R7_1"
          },
          {
           "source": "S11I6R9_1",
           "target": "S11I7R9_1"
          },
          {
           "source": "S11I5R3_1",
           "target": "S11I5R4_1"
          },
          {
           "source": "S11I5R3_1",
           "target": "S11I6R4_1"
          },
          {
           "source": "S11I5R3_1",
           "target": "S11I5R5_1"
          },
          {
           "source": "S11I5R8_1",
           "target": "S11I6R8_1"
          },
          {
           "source": "S11I5R8_1",
           "target": "S11I5R9_1"
          },
          {
           "source": "S11I4R1_1",
           "target": "S11I5R3_1"
          },
          {
           "source": "S11I4R1_1",
           "target": "S11I4R2_1"
          },
          {
           "source": "S11I4R1_1",
           "target": "S11I4R3_1"
          },
          {
           "source": "S11I4R1_1",
           "target": "S11I5R2_1"
          },
          {
           "source": "S11I4R7_1",
           "target": "S11I3R7_1"
          },
          {
           "source": "S11I4R7_1",
           "target": "S11I4R8_1"
          },
          {
           "source": "S11I4R7_1",
           "target": "S11I3R8_1"
          },
          {
           "source": "S11I4R6_1",
           "target": "S11I4R7_1"
          },
          {
           "source": "S11I4R6_1",
           "target": "S11I3R6_1"
          },
          {
           "source": "S11I4R6_1",
           "target": "S11I5R6_1"
          },
          {
           "source": "S11I3R7_1",
           "target": "S11I2R7_1"
          },
          {
           "source": "S11I3R0_1",
           "target": "S11I4R0_1"
          },
          {
           "source": "S11I3R0_1",
           "target": "S11I4R2_1"
          },
          {
           "source": "S11I3R0_1",
           "target": "S11I4R1_1"
          },
          {
           "source": "S11I3R0_1",
           "target": "S11I4R3_1"
          },
          {
           "source": "S11I2R0_1",
           "target": "S11I4R2_1"
          },
          {
           "source": "S11I2R0_1",
           "target": "S11I4R1_1"
          },
          {
           "source": "S11I2R0_1",
           "target": "S11I4R0_1"
          },
          {
           "source": "S11I6R5_1",
           "target": "S11I6R6_1"
          },
          {
           "source": "S11I6R5_1",
           "target": "S11I7R5_1"
          },
          {
           "source": "S11I6R5_1",
           "target": "S11I7R6_1"
          },
          {
           "source": "S11I7R7_1",
           "target": "S11I7R8_1"
          },
          {
           "source": "S11I7R7_1",
           "target": "S11I8R8_1"
          },
          {
           "source": "S11I7R7_1",
           "target": "S11I8R7_1"
          },
          {
           "source": "S11I8R8_1",
           "target": "S10I8R9_1"
          },
          {
           "source": "S11I8R8_1",
           "target": "S10I8R8_1"
          },
          {
           "source": "S11I8R8_1",
           "target": "S11I8R9_1"
          },
          {
           "source": "S9I9R10_1",
           "target": "S8I9R10_1"
          },
          {
           "source": "S9I9R10_1",
           "target": "S8I9R11_1"
          },
          {
           "source": "S9I9R10_1",
           "target": "S9I10R10_1"
          },
          {
           "source": "S9I9R10_1",
           "target": "+1_1"
          },
          {
           "source": "S8I9R10_1",
           "target": "S8I9R11_1"
          },
          {
           "source": "S10I9R10_1",
           "target": "S9I9R10_1"
          },
          {
           "source": "S11I8R9_1",
           "target": "S10I8R9_1"
          },
          {
           "source": "S10I9R9_1",
           "target": "S9I9R10_1"
          },
          {
           "source": "S10I9R9_1",
           "target": "S9I9R9_1"
          },
          {
           "source": "S10I9R9_1",
           "target": "S10I9R10_1"
          },
          {
           "source": "S10I8R8_1",
           "target": "S10I8R9_1"
          },
          {
           "source": "S10I8R8_1",
           "target": "S10I9R9_1"
          },
          {
           "source": "S10I8R8_1",
           "target": "S10I9R8_1"
          },
          {
           "source": "S9I9R9_1",
           "target": "S9I9R10_1"
          },
          {
           "source": "S9I9R9_1",
           "target": "S9I10R10_1"
          },
          {
           "source": "S9I9R9_1",
           "target": "S8I9R10_1"
          },
          {
           "source": "S9I9R9_1",
           "target": "S9I10R9_1"
          },
          {
           "source": "S9I9R9_1",
           "target": "+1_1"
          },
          {
           "source": "S11I5R1_1",
           "target": "S11I5R3_1"
          },
          {
           "source": "S11I2R7_1",
           "target": "S11I1R7_1"
          },
          {
           "source": "S11I6R4_1",
           "target": "S11I6R5_1"
          },
          {
           "source": "S11I7R6_1",
           "target": "S11I7R7_1"
          },
          {
           "source": "S11I7R6_1",
           "target": "S11I8R7_1"
          },
          {
           "source": "S11I8R7_1",
           "target": "S11I8R8_1"
          },
          {
           "source": "S11I8R7_1",
           "target": "S10I8R8_1"
          },
          {
           "source": "S11I4R5_1",
           "target": "S11I4R6_1"
          },
          {
           "source": "S11I4R5_1",
           "target": "S11I5R5_1"
          },
          {
           "source": "S11I4R5_1",
           "target": "S11I5R6_1"
          },
          {
           "source": "S11I3R6_1",
           "target": "S11I3R7_1"
          },
          {
           "source": "S11I3R6_1",
           "target": "S11I2R6_1"
          },
          {
           "source": "S11I3R6_1",
           "target": "S11I2R7_1"
          },
          {
           "source": "S11I4R4_1",
           "target": "S11I4R5_1"
          },
          {
           "source": "S11I4R4_1",
           "target": "S11I5R5_1"
          },
          {
           "source": "S11I2R6_1",
           "target": "S11I2R7_1"
          },
          {
           "source": "S11I7R5_1",
           "target": "S11I7R6_1"
          },
          {
           "source": "S10I9R8_1",
           "target": "S9I9R9_1"
          },
          {
           "source": "S10I9R8_1",
           "target": "S10I9R9_1"
          }
         ]
        },
        {
         "name": "measured",
         "source": "base",
         "transform": [
          {
           "as": "top_y",
           "expr": "datum.y+datum.height/2",
           "type": "formula"
          },
          {
           "as": "bottom_y",
           "expr": "datum.y-datum.height/2",
           "type": "formula"
          },
          {
           "as": "right_x",
           "expr": "datum.x+datum.width/2",
           "type": "formula"
          },
          {
           "as": "left_x",
           "expr": "datum.x-datum.width/2",
           "type": "formula"
          }
         ]
        },
        {
         "name": "graph",
         "source": "measured",
         "transform": [
          {
           "as": "x1",
           "expr": "scale('scale_x', datum.left_x)",
           "type": "formula"
          },
          {
           "as": "y1",
           "expr": "scale('scale_y', datum.top_y)",
           "type": "formula"
          },
          {
           "as": "x2",
           "expr": "scale('scale_x', datum.right_x)",
           "type": "formula"
          },
          {
           "as": "y2",
           "expr": "scale('scale_y', datum.bottom_y)",
           "type": "formula"
          }
         ]
        },
        {
         "name": "link_paths",
         "source": "links",
         "transform": [
          {
           "as": [
            "sourceX",
            "sourceY"
           ],
           "fields": [
            "source"
           ],
           "from": "graph",
           "key": "id",
           "type": "lookup",
           "values": [
            "x2",
            "y2"
           ]
          },
          {
           "as": [
            "targetX",
            "targetY"
           ],
           "fields": [
            "target"
           ],
           "from": "graph",
           "key": "id",
           "type": "lookup",
           "values": [
            "x2",
            "y2"
           ]
          },
          {
           "orient": "horizontal",
           "shape": "line",
           "sourceX": "sourceX",
           "sourceY": "sourceY",
           "targetX": "targetY",
           "targetY": "targetY",
           "type": "linkpath"
          }
         ]
        }
       ],
       "height": 300,
       "legends": [
        {
         "direction": "horizontal",
         "fill": "font_color",
         "orient": "bottom",
         "tickCount": 5,
         "title": "Pattern Occurances",
         "type": "gradient"
        }
       ],
       "marks": [
        {
         "encode": {
          "enter": {
           "stroke": {
            "value": "#ccc"
           },
           "x": {
            "field": "sourceX"
           },
           "x2": {
            "field": "targetX"
           },
           "y": {
            "field": "sourceY"
           },
           "y2": {
            "field": "targetY"
           }
          }
         },
         "from": {
          "data": "link_paths"
         },
         "name": "links_lines",
         "type": "rule"
        },
        {
         "encode": {
          "enter": {
           "align": {
            "value": "center"
           },
           "baseline": {
            "value": "middle"
           },
           "fill": {
            "field": "count",
            "scale": "font_color"
           },
           "font": {
            "value": "Arial"
           },
           "fontSize": {
            "field": "count",
            "scale": "font_size"
           },
           "text": {
            "field": "label"
           },
           "x1": {
            "field": "x1"
           },
           "x2": {
            "field": "x2"
           },
           "y1": {
            "field": "y1"
           },
           "y2": {
            "field": "y2"
           }
          }
         },
         "from": {
          "data": "graph"
         },
         "name": "labels",
         "type": "text",
         "zindex": 1
        },
        {
         "encode": {
          "enter": {
           "fill": {
            "value": "white"
           },
           "opacity": {
            "value": 1
           },
           "x": {
            "field": "bounds.x1",
            "offset": -3,
            "round": true
           },
           "x2": {
            "field": "bounds.x2",
            "offset": 3,
            "round": true
           },
           "y": {
            "field": "bounds.y1",
            "offset": -3,
            "round": true
           },
           "y2": {
            "field": "bounds.y2",
            "offset": 3,
            "round": true
           }
          }
         },
         "from": {
          "data": "labels"
         },
         "name": "label_mask",
         "type": "rect",
         "zindex": 0
        }
       ],
       "padding": 5,
       "scales": [
        {
         "domain": {
          "data": "measured",
          "fields": [
           "right_x",
           "left_x"
          ]
         },
         "name": "scale_x",
         "range": [
          0,
          {
           "signal": "width"
          }
         ],
         "type": "linear"
        },
        {
         "domain": {
          "data": "measured",
          "fields": [
           "bottom_y",
           "top_y"
          ]
         },
         "name": "scale_y",
         "range": [
          0,
          {
           "signal": "height"
          }
         ]
        },
        {
         "domain": {
          "data": "base",
          "field": "count"
         },
         "name": "font_color",
         "range": {
          "scheme": "goldgreen"
         },
         "type": "linear"
        },
        {
         "domain": {
          "data": "base",
          "field": "count"
         },
         "name": "font_size",
         "range": [
          12,
          25
         ],
         "type": "linear"
        }
       ],
       "width": 800
      }
     },
     "metadata": {},
     "output_type": "display_data"
    }
   ],
   "source": [
    "# %%prun -D build_sentence.profile\n",
    "\n",
    "cluster = [clean_line(l) for l in bins_list if contains_any(l, logging_keywords)][:200]\n",
    "\n",
    "G = sententree.build_sententree(bins_list,\n",
    "                                min_support = 10,\n",
    "                                num_exemplars=3,\n",
    "                                tag_with=sententree.tag_words_with_occurrence)\n",
    "schema = sententree_vega.vega_sententree(G, w=800, h=300)\n",
    "vega.save_schema(schema, \"schema.vg.json\")\n",
    "with open(\"../figures/bin_occurance.png\", \"wb\") as f:\n",
    "    png = vl_convert.vega_to_png(schema, scale=4)\n",
    "    f.write(png)\n",
    "\n",
    "vega.display(schema, format=\"interactive\")\n"
   ]
  }
 ],
 "metadata": {
  "kernelspec": {
   "display_name": "pyciems310",
   "language": "python",
   "name": "python3"
  },
  "language_info": {
   "codemirror_mode": {
    "name": "ipython",
    "version": 3
   },
   "file_extension": ".py",
   "mimetype": "text/x-python",
   "name": "python",
   "nbconvert_exporter": "python",
   "pygments_lexer": "ipython3",
   "version": "3.10.13"
  }
 },
 "nbformat": 4,
 "nbformat_minor": 2
}
