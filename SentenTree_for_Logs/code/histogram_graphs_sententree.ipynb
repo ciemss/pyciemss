{
 "cells": [
  {
   "cell_type": "code",
   "execution_count": 42,
   "metadata": {},
   "outputs": [],
   "source": [
    "import os\n",
    "import json\n",
    "import sympy\n",
    "import requests\n",
    "\n",
    "import pyciemss\n",
    "import pyciemss.visuals.plots as plots\n",
    "import pyciemss.visuals.vega as vega\n",
    "import pyciemss.visuals.trajectories as trajectories\n",
    "\n",
    "from mira.metamodel import *\n",
    "from mira.modeling.amr.petrinet import AMRPetriNetModel, template_model_to_petrinet_json\n",
    "from mira.sources.amr.petrinet import template_model_from_amr_json"
   ]
  },
  {
   "cell_type": "code",
   "execution_count": 43,
   "metadata": {},
   "outputs": [
    {
     "name": "stdout",
     "output_type": "stream",
     "text": [
      "The autoreload extension is already loaded. To reload it, use:\n",
      "  %reload_ext autoreload\n"
     ]
    }
   ],
   "source": [
    "%load_ext autoreload\n",
    "%autoreload 1"
   ]
  },
  {
   "cell_type": "code",
   "execution_count": 44,
   "metadata": {},
   "outputs": [],
   "source": [
    "MODEL_PATH = \"https://raw.githubusercontent.com/DARPA-ASKEM/simulation-integration/main/data/models/\"\n",
    "\n",
    "model1 = os.path.join(MODEL_PATH, \"SEIRD_base_model01_petrinet.json\")\n",
    "model2 = os.path.join(MODEL_PATH, \"SEIRHD_base_model01_petrinet.json\")\n",
    "model3 = os.path.join(MODEL_PATH, \"LV_sheep_foxes.json\")"
   ]
  },
  {
   "cell_type": "code",
   "execution_count": 45,
   "metadata": {},
   "outputs": [],
   "source": [
    "start_time = 0.0\n",
    "end_time = 20.0\n",
    "logging_step_size = 1\n",
    "num_samples = 100"
   ]
  },
  {
   "cell_type": "code",
   "execution_count": 46,
   "metadata": {},
   "outputs": [
    {
     "data": {
      "text/html": [
       "<div>\n",
       "<style scoped>\n",
       "    .dataframe tbody tr th:only-of-type {\n",
       "        vertical-align: middle;\n",
       "    }\n",
       "\n",
       "    .dataframe tbody tr th {\n",
       "        vertical-align: top;\n",
       "    }\n",
       "\n",
       "    .dataframe thead th {\n",
       "        text-align: right;\n",
       "    }\n",
       "</style>\n",
       "<table border=\"1\" class=\"dataframe\">\n",
       "  <thead>\n",
       "    <tr style=\"text-align: right;\">\n",
       "      <th></th>\n",
       "      <th>timepoint_id</th>\n",
       "      <th>sample_id</th>\n",
       "      <th>timepoint_unknown</th>\n",
       "      <th>persistent_beta_param</th>\n",
       "      <th>persistent_death_param</th>\n",
       "      <th>persistent_gamma_param</th>\n",
       "      <th>persistent_I0_param</th>\n",
       "      <th>S_state</th>\n",
       "      <th>I_state</th>\n",
       "      <th>E_state</th>\n",
       "      <th>R_state</th>\n",
       "      <th>D_state</th>\n",
       "      <th>infected_observable_state</th>\n",
       "      <th>dead_observable_state</th>\n",
       "    </tr>\n",
       "  </thead>\n",
       "  <tbody>\n",
       "    <tr>\n",
       "      <th>0</th>\n",
       "      <td>0</td>\n",
       "      <td>0</td>\n",
       "      <td>0.0</td>\n",
       "      <td>0.123341</td>\n",
       "      <td>0.00189</td>\n",
       "      <td>0.168237</td>\n",
       "      <td>8.854443</td>\n",
       "      <td>19339992.0</td>\n",
       "      <td>8.854443</td>\n",
       "      <td>40.000000</td>\n",
       "      <td>0.000000</td>\n",
       "      <td>0.000000</td>\n",
       "      <td>8.854443</td>\n",
       "      <td>0.000000</td>\n",
       "    </tr>\n",
       "    <tr>\n",
       "      <th>1</th>\n",
       "      <td>1</td>\n",
       "      <td>0</td>\n",
       "      <td>1.0</td>\n",
       "      <td>0.123341</td>\n",
       "      <td>0.00189</td>\n",
       "      <td>0.168237</td>\n",
       "      <td>8.854443</td>\n",
       "      <td>19339992.0</td>\n",
       "      <td>15.752962</td>\n",
       "      <td>32.537804</td>\n",
       "      <td>2.108264</td>\n",
       "      <td>0.003991</td>\n",
       "      <td>15.752962</td>\n",
       "      <td>0.003991</td>\n",
       "    </tr>\n",
       "    <tr>\n",
       "      <th>2</th>\n",
       "      <td>2</td>\n",
       "      <td>0</td>\n",
       "      <td>2.0</td>\n",
       "      <td>0.123341</td>\n",
       "      <td>0.00189</td>\n",
       "      <td>0.168237</td>\n",
       "      <td>8.854443</td>\n",
       "      <td>19339992.0</td>\n",
       "      <td>20.149252</td>\n",
       "      <td>27.327955</td>\n",
       "      <td>5.151094</td>\n",
       "      <td>0.009752</td>\n",
       "      <td>20.149252</td>\n",
       "      <td>0.009752</td>\n",
       "    </tr>\n",
       "    <tr>\n",
       "      <th>3</th>\n",
       "      <td>3</td>\n",
       "      <td>0</td>\n",
       "      <td>3.0</td>\n",
       "      <td>0.123341</td>\n",
       "      <td>0.00189</td>\n",
       "      <td>0.168237</td>\n",
       "      <td>8.854443</td>\n",
       "      <td>19339992.0</td>\n",
       "      <td>22.858267</td>\n",
       "      <td>23.648386</td>\n",
       "      <td>8.781190</td>\n",
       "      <td>0.016625</td>\n",
       "      <td>22.858267</td>\n",
       "      <td>0.016625</td>\n",
       "    </tr>\n",
       "    <tr>\n",
       "      <th>4</th>\n",
       "      <td>4</td>\n",
       "      <td>0</td>\n",
       "      <td>4.0</td>\n",
       "      <td>0.123341</td>\n",
       "      <td>0.00189</td>\n",
       "      <td>0.168237</td>\n",
       "      <td>8.854443</td>\n",
       "      <td>19339986.0</td>\n",
       "      <td>24.431896</td>\n",
       "      <td>21.009720</td>\n",
       "      <td>12.764560</td>\n",
       "      <td>0.024167</td>\n",
       "      <td>24.431896</td>\n",
       "      <td>0.024167</td>\n",
       "    </tr>\n",
       "  </tbody>\n",
       "</table>\n",
       "</div>"
      ],
      "text/plain": [
       "   timepoint_id  sample_id timepoint_unknown  persistent_beta_param  \\\n",
       "0             0          0               0.0               0.123341   \n",
       "1             1          0               1.0               0.123341   \n",
       "2             2          0               2.0               0.123341   \n",
       "3             3          0               3.0               0.123341   \n",
       "4             4          0               4.0               0.123341   \n",
       "\n",
       "   persistent_death_param  persistent_gamma_param  persistent_I0_param  \\\n",
       "0                 0.00189                0.168237             8.854443   \n",
       "1                 0.00189                0.168237             8.854443   \n",
       "2                 0.00189                0.168237             8.854443   \n",
       "3                 0.00189                0.168237             8.854443   \n",
       "4                 0.00189                0.168237             8.854443   \n",
       "\n",
       "      S_state    I_state    E_state    R_state   D_state  \\\n",
       "0  19339992.0   8.854443  40.000000   0.000000  0.000000   \n",
       "1  19339992.0  15.752962  32.537804   2.108264  0.003991   \n",
       "2  19339992.0  20.149252  27.327955   5.151094  0.009752   \n",
       "3  19339992.0  22.858267  23.648386   8.781190  0.016625   \n",
       "4  19339986.0  24.431896  21.009720  12.764560  0.024167   \n",
       "\n",
       "   infected_observable_state  dead_observable_state  \n",
       "0                   8.854443               0.000000  \n",
       "1                  15.752962               0.003991  \n",
       "2                  20.149252               0.009752  \n",
       "3                  22.858267               0.016625  \n",
       "4                  24.431896               0.024167  "
      ]
     },
     "metadata": {},
     "output_type": "display_data"
    }
   ],
   "source": [
    "result1 = pyciemss.sample(model1, end_time, logging_step_size, num_samples, start_time=start_time)\n",
    "display(result1['data'].head())\n",
    "result1['data'][['timepoint_id', 'sample_id', 'S_state', 'I_state', 'R_state']].to_csv('sir.csv', index= False)\n"
   ]
  },
  {
   "cell_type": "markdown",
   "metadata": {},
   "source": [
    "### Plot histogram per state combination\n"
   ]
  },
  {
   "cell_type": "code",
   "execution_count": null,
   "metadata": {},
   "outputs": [],
   "source": []
  },
  {
   "cell_type": "code",
   "execution_count": 47,
   "metadata": {},
   "outputs": [],
   "source": [
    "import pandas as pd\n",
    "import numpy as np\n",
    "import math\n",
    "import matplotlib.pyplot as plt\n",
    "from itertools import combinations\n",
    "import networkx as nx\n",
    "from pyciemss.visuals import plots, vega\n",
    "bin_outliers = False\n",
    "log = False\n",
    "\n",
    "# loading SIR data\n",
    "sir_dataset = pd.read_csv(\"sir.csv\")\n",
    "\n",
    "\n",
    "def process_dataset(sir_dataset, bin_outliers, log):\n",
    "    \"\"\"\n",
    "    This function bins the columns in the dataset that includes \"_state\" and plots histograms for each column.\n",
    "    \n",
    "    Inputs:\n",
    "    sir_dataset (pd.DataFrame): The dataset with states, timepoint_id and sample_id\n",
    "    bin_outliers (bool): A boolean value indicating whether to bin outliers separately in their own bin.\n",
    "    log (bool): A boolean value indicating whether to use a log scale for the bins.\n",
    "    \n",
    "    Outputs:\n",
    "    sir_dataset (pd.DataFrame): The processed dataset with added bin columns.\n",
    "    bin_dict (dict): A dictionary storing the min and max values of each bin per column.\n",
    "    \"\"\"\n",
    "    # Determine the number of bins using Sturges' rule and the nu\n",
    "    num_bins =  math.ceil(math.log2(sir_dataset.shape[0]))\n",
    "\n",
    "    sir_dataset_state = sir_dataset.loc[:, sir_dataset.columns.str.contains('_state')]\n",
    "\n",
    "    # dictionary to store the min and max values of each bin per column\n",
    "    bin_dict = {}\n",
    "\n",
    "    sir_dataset_output = sir_dataset.copy()\n",
    "\n",
    "    for col in sir_dataset_state.columns:\n",
    "        max_val = sir_dataset_output[col].max()\n",
    "        min_val = sir_dataset_output[col].min()\n",
    "\n",
    "        # Calculate the 5th and 95th percentiles\n",
    "        p5, p95 = sir_dataset_output[col].quantile([0.05, 0.95])\n",
    "\n",
    "        # get histogram in the logspace\n",
    "        if log:\n",
    "            if bin_outliers:\n",
    "                # put all outliers in their own bin at the end (trying to avoid the massive histogram bin for the S_state)\n",
    "                p5_log = np.log10(p5)\n",
    "                p95_log = np.log10(p95)\n",
    "\n",
    "                bin_edges = np.logspace(np.max([0.0, p5_log]), p95_log, num=num_bins)\n",
    "                bin_edges = np.concatenate(([min_val], bin_edges, [max_val]))\n",
    "            else:\n",
    "                min_log= np.log10(min_val)\n",
    "                max_log = np.log10(max_val)\n",
    "                bin_edges = np.logspace(np.max([0.0, min_log]), max_log, num=num_bins)\n",
    "        else:\n",
    "            if bin_outliers:\n",
    "                bin_edges = np.linspace(p5, p95, num=num_bins)\n",
    "                bin_edges = np.concatenate(([min_val], bin_edges, [max_val]))\n",
    "            else: \n",
    "                bin_edges = np.linspace(min_val, max_val, num=num_bins)\n",
    "\n",
    "        # saving bins edges in dictionary by state and bin number\n",
    "        bin_dict[col] = [{i:(bin_edges[i], bin_edges[i+1])} for i in range(len(bin_edges)-1)]\n",
    "        # add column with the bin number per histogram\n",
    "        sir_dataset_output[col + '_bin'] = sir_dataset_output[col].apply(lambda x: np.digitize(x, bin_edges))\n",
    "\n",
    "    # create a new column that combines the bin information for each state\n",
    "    sir_dataset_output['combined_bin'] = sir_dataset_output.apply(lambda row: ''.join([f\"{col.replace('_state_bin','')}{int(row[col])}\" for col in sir_dataset_output.columns if '_bin' in col]), axis=1)\n",
    "\n",
    "    # create a mapping from original labels to shorter labels\n",
    "    unique_bins = sir_dataset_output['combined_bin'].unique()\n",
    "    label_mapping = {bin: f'bin_{i}' for i, bin in enumerate(unique_bins)}\n",
    "    sir_dataset_output['short_bin'] = sir_dataset_output['combined_bin'].map(label_mapping)\n",
    "\n",
    "    # save the mapping to a CSV file\n",
    "    pd.DataFrame(list(label_mapping.items()), columns=['original_label', 'short_label']).to_csv('label_mapping.csv', index=False)\n",
    "\n",
    "    return sir_dataset_output, bin_dict\n",
    "\n",
    "\n"
   ]
  },
  {
   "cell_type": "code",
   "execution_count": 48,
   "metadata": {},
   "outputs": [],
   "source": [
    "\n",
    "def remove_consecutive_duplicates(lst):\n",
    "    if not lst:  # if the list is empty, return it\n",
    "        return lst\n",
    "    new_lst = [lst[0]]  # add the first item of lst to new_lst\n",
    "    for item in lst[1:]:  # iterate over the rest of lst\n",
    "        if item != new_lst[-1]:  # if the current item is not the same as the last item in new_lst\n",
    "            new_lst.append(item)  # add it to new_lst\n",
    "    return new_lst\n",
    "\n",
    "def plot_paths(binned_data, *, n=None, fig_width=10):\n",
    "    \"\"\"\n",
    "    Turn the dataset column into a list based on sample_id\n",
    "    Remove duplicates\n",
    "    Input: dataframe with sample_id and bins\n",
    "    Outputs: List of bins as words\n",
    "    \"\"\"\n",
    "    bins_list = []\n",
    "    for sample_id in binned_data['sample_id'].unique()[:n]:\n",
    "        sample_df = binned_data[binned_data['sample_id'] == sample_id]\n",
    "        bins = sample_df['combined_bin'].values\n",
    "        bins_list.append(' '.join(remove_consecutive_duplicates(bins.tolist())))\n",
    "\n",
    "    return bins_list\n",
    "\n"
   ]
  },
  {
   "cell_type": "code",
   "execution_count": 49,
   "metadata": {},
   "outputs": [
    {
     "name": "stdout",
     "output_type": "stream",
     "text": [
      "['S11I4R0 S11I4R2 S11I5R3 S11I5R4 S11I5R5 S11I5R6 S11I5R7', 'S11I4R0 S11I5R2 S11I5R3 S11I5R4 S11I6R4 S11I6R5 S11I6R6 S11I7R6 S11I7R7 S11I8R8 S10I8R8 S10I9R9 S9I9R9 S8I10R10 S7I10R10', 'S11I3R0 S11I4R1 S11I5R2 S11I5R3 S11I6R4 S11I6R5 S11I7R6 S11I7R7 S11I8R7 S11I8R8 S10I8R8 S10I9R9 S9I9R9', 'S11I4R0 S11I5R2 S11I5R3 S11I6R4 S11I6R5 S11I6R6 S11I7R6 S11I7R7 S11I8R7 S11I8R8 S10I8R8 S10I9R8 S10I9R9 S9I9R9 S8I10R10 S7I10R10 S6I11R11', 'S11I4R0 S11I4R3 S11I5R4 S11I5R5 S11I5R6 S11I6R7 S11I6R8 S11I7R8 S11I7R9 S10I8R9 S10I8R10', 'S11I4R0 S11I5R2 S11I5R4 S11I6R5 S11I6R6 S11I7R7 S11I7R8 S11I8R8 S10I8R8 S10I8R9 S10I9R9 S9I9R10 S8I9R10 S8I10R10 S7I10R11 S5I10R11', 'S11I1R0 S11I4R1 S11I4R3 S11I4R4 S11I5R5 S11I4R5 S11I4R6 S11I3R7', 'S11I2R0 S11I4R1 S11I4R3 S11I4R4 S11I4R5 S11I4R6 S11I3R7', 'S11I4R0 S11I4R2 S11I5R3 S11I5R4 S11I6R5 S11I6R6 S11I7R6 S11I7R7 S11I8R8 S10I8R8 S10I8R9 S10I9R9 S9I9R9 S9I9R10 S8I10R10 S7I10R10 S6I10R11 S5I11R11', 'S11I4R0 S11I5R3 S11I5R4 S11I5R5 S11I5R6 S11I6R6 S11I6R7 S11I6R8 S11I7R8 S11I7R9', 'S11I4R0 S11I5R3 S11I5R4 S11I5R5 S11I4R6 S11I4R7 S11I3R7 S11I2R7', 'S11I4R0 S11I4R2 S11I5R3 S11I5R4 S11I5R5 S11I5R6 S11I6R7 S11I6R8', 'S11I4R0 S11I4R2 S11I5R3 S11I5R4 S11I6R5 S11I6R6 S11I7R7 S11I8R8 S10I8R8 S10I8R9 S10I9R9 S9I9R9 S9I9R10 S8I10R10 S7I10R11', 'S11I2R0 S11I4R2 S11I4R4 S11I4R5 S11I4R6 S11I4R7 S11I4R8', 'S11I4R0 S11I5R2 S11I5R3 S11I5R4 S11I6R4 S11I6R5 S11I6R6 S11I6R7 S11I7R7 S11I7R8', 'S11I4R0 S11I5R2 S11I5R4 S11I5R5 S11I5R6 S11I6R6 S11I6R7 S11I6R8 S11I7R8 S11I7R9', 'S11I2R0 S11I4R0 S11I5R2 S11I5R3 S11I6R4 S11I6R5 S11I7R6 S11I7R7 S11I8R7 S10I9R8 S9I9R9 S9I10R9 S8I10R10 S7I10R10 S5I11R10 S3I11R11 S1I11R11', 'S11I3R0 S11I4R3 S11I4R4 S11I4R5 S11I4R6 S11I3R6 S11I3R7 S11I2R7', 'S11I3R0 S11I4R2 S11I4R3 S11I5R4 S11I5R5 S11I5R6 S11I5R7 S11I6R7 S11I6R8', 'S11I4R0 S11I4R3 S11I5R4 S11I5R5 S11I5R6 S11I6R6 S11I6R7 S11I6R8 S11I7R8 S11I7R9 S10I7R9 S10I8R9 S10I8R10 S9I9R10', 'S11I3R0 S11I4R1 S11I5R2 S11I5R3 S11I6R4 S11I6R5 S11I7R6 S11I7R7 S11I8R7 S10I8R8 S10I9R8 S10I9R9 S9I9R9 S8I10R9 S8I10R10 S6I10R10 S5I11R10 S3I11R11', 'S11I1R0 S11I4R0 S11I4R2 S11I5R3 S11I5R4 S11I5R5 S11I5R6 S11I4R6', 'S11I3R0 S11I4R2 S11I5R4 S11I5R5 S11I5R6 S11I5R7 S11I6R8', 'S11I3R0 S11I4R3 S11I4R4 S11I4R5 S11I4R6 S11I3R6 S11I3R7 S11I2R7 S11I1R7', 'S11I3R0 S11I4R3 S11I4R4 S11I4R5 S11I4R6 S11I4R7 S11I5R7 S11I5R8', 'S11I4R0 S11I4R3 S11I5R4 S11I5R5 S11I5R6 S11I5R7 S11I4R7 S11I4R8', 'S11I4R0 S11I4R3 S11I5R5 S11I5R6 S11I5R7 S11I5R8 S11I6R8 S11I6R9', 'S11I4R0 S11I4R3 S11I4R4 S11I5R5 S11I5R6 S11I5R7 S11I5R8 S11I6R8 S11I6R9 S11I7R9', 'S11I4R0 S11I5R3 S11I5R4 S11I5R5 S11I6R5 S11I6R6 S11I6R7 S11I7R7 S11I7R8 S11I8R9 S10I8R9 S10I8R10 S10I9R10 S9I9R10', 'S11I4R0 S11I5R3 S11I5R5 S11I5R6 S11I5R7 S11I5R8 S11I6R8 S11I6R9', 'S11I4R0 S11I4R3 S11I5R4 S11I5R5 S11I5R6 S11I4R6 S11I4R7', 'S11I4R0 S11I4R3 S11I4R5 S11I4R6 S11I3R7 S11I2R7', 'S11I4R0 S11I4R2 S11I5R3 S11I5R4 S11I5R5 S11I5R6 S11I6R6 S11I6R7 S11I6R8 S11I7R8 S11I7R9', 'S11I2R0 S11I4R1 S11I4R2 S11I5R3 S11I5R4 S11I5R5 S11I6R6 S11I6R7 S11I7R8', 'S11I3R0 S11I4R2 S11I4R4 S11I4R5 S11I4R6 S11I4R7 S11I3R7', 'S11I4R0 S11I4R3 S11I4R4 S11I4R5 S11I4R6 S11I3R6 S11I3R7 S11I2R7', 'S11I3R0 S11I4R2 S11I5R4 S11I5R5 S11I5R6 S11I6R6 S11I6R7 S11I6R8 S11I7R8 S11I7R9 S10I8R9 S10I8R10 S9I8R10', 'S11I2R0 S11I4R1 S11I4R3 S11I5R4 S11I5R5 S11I5R6 S11I5R7 S11I5R8', 'S11I2R0 S11I4R2 S11I4R4 S11I4R5 S11I4R6 S11I5R6 S11I5R7 S11I5R8 S11I6R8 S11I6R9', 'S11I3R0 S11I4R3 S11I4R4 S11I4R5 S11I4R6 S11I3R6 S11I2R6 S11I2R7 S11I1R7', 'S11I4R0 S11I4R2 S11I5R3 S11I5R4 S11I5R5 S11I5R6 S11I5R7 S11I6R7 S11I6R8', 'S11I4R0 S11I5R2 S11I5R3 S11I6R4 S11I6R5 S11I7R6 S11I7R7 S11I8R7 S11I8R8 S10I8R8 S10I9R8 S10I9R9 S9I9R9 S9I10R10 S8I10R10 S7I10R10 S5I11R11 S4I11R11 S2I11R11', 'S11I2R0 S11I4R1 S11I4R3 S11I5R4 S11I5R5 S11I5R6 S11I5R7', 'S11I2R0 S11I4R2 S11I4R4 S11I4R5 S11I4R6 S11I4R7 S11I4R8', 'S11I4R0 S11I5R3 S11I5R4 S11I5R5 S11I5R6 S11I4R6 S11I4R7 S11I3R7', 'S11I1R0 S11I3R1 S11I4R3 S11I4R4 S11I4R5 S11I4R6 S11I4R7 S11I3R7', 'S11I2R0 S11I4R2 S11I4R4 S11I4R5 S11I4R6 S11I5R6 S11I5R7 S11I5R8', 'S11I3R0 S11I4R1 S11I5R2 S11I5R3 S11I5R4 S11I5R5 S11I6R5 S11I6R6 S11I6R7 S11I7R7 S11I7R8', 'S11I4R0 S11I4R3 S11I4R4 S11I4R5 S11I4R6 S11I4R7 S11I4R8', 'S11I3R0 S11I4R2 S11I4R4 S11I5R4 S11I5R5 S11I5R6 S11I4R6 S11I4R7', 'S11I4R0 S11I4R3 S11I4R4 S11I4R5 S11I4R6 S11I4R7 S11I4R8', 'S11I2R0 S11I4R1 S11I4R3 S11I4R4 S11I5R4 S11I5R5 S11I5R6 S11I4R6 S11I4R7', 'S11I4R0 S11I5R2 S11I5R3 S11I5R4 S11I6R5 S11I7R6 S11I7R7 S11I8R7 S11I8R8 S10I8R8 S10I9R8 S10I9R9 S9I9R9 S8I10R10 S6I10R10 S5I11R11 S3I11R11 S1I11R11', 'S11I2R0 S11I4R1 S11I4R3 S11I5R4 S11I5R5 S11I5R6 S11I5R7 S11I6R7 S11I6R8', 'S11I4R0 S11I4R3 S11I4R5 S11I4R6 S11I4R7 S11I3R8', 'S11I4R0 S11I5R2 S11I5R3 S11I5R4 S11I5R5 S11I6R5 S11I6R6 S11I6R7 S11I7R7 S11I7R8 S11I8R8 S11I8R9 S10I8R9', 'S11I4R0 S11I4R2 S11I5R3 S11I5R4 S11I5R5 S11I6R6 S11I6R7 S11I7R8 S11I7R9 S11I8R9 S10I8R9', 'S11I2R0 S11I4R2 S11I4R4 S11I4R5 S11I4R6 S11I4R7 S11I3R7', 'S11I3R0 S11I4R2 S11I4R4 S11I4R5 S11I4R6 S11I3R6 S11I3R7 S11I2R7', 'S11I3R0 S11I4R1 S11I5R2 S11I5R3 S11I6R4 S11I6R5 S11I6R6 S11I7R6 S11I7R7 S11I8R7 S11I8R8 S10I8R8 S10I9R9 S9I9R9 S9I10R10', 'S11I4R0 S11I5R2 S11I5R3 S11I5R4 S11I6R5 S11I6R6 S11I7R6 S11I7R7 S11I8R8 S10I8R8 S10I8R9 S10I9R9 S9I9R10', 'S11I3R0 S11I4R3 S11I4R4 S11I4R5 S11I5R5 S11I5R6 S11I5R7 S11I5R8', 'S11I3R0 S11I4R2 S11I4R3 S11I5R4 S11I5R5 S11I5R6 S11I6R6 S11I6R7 S11I6R8 S11I7R8 S11I7R9', 'S11I4R0 S11I4R3 S11I4R5 S11I4R6 S11I4R7 S11I3R7 S11I2R7', 'S11I4R0 S11I5R2 S11I5R3 S11I5R4 S11I6R5 S11I6R6 S11I7R7 S11I8R8 S10I8R8 S10I9R9 S9I9R9 S9I9R10 S8I10R10 S6I10R11 S5I11R11 S4I11R11', 'S11I4R0 S11I5R3 S11I5R4 S11I5R5 S12I5R5 S11I5R6 S11I5R7 S11I5R8', 'S11I3R0 S11I4R2 S11I5R4 S11I5R5 S11I6R6 S11I6R7 S11I7R7 S11I7R8 S11I8R8 S10I8R9 S10I9R9 S9I9R10 S8I9R10 S7I10R11', 'S11I1R0 S11I4R1 S11I4R3 S11I5R4 S11I5R5 S11I6R6 S11I6R7 S11I7R7 S11I7R8 S11I8R9 S10I8R9', 'S11I4R0 S11I5R2 S11I5R4 S11I6R5 S11I6R6 S11I6R7 S11I7R7 S11I7R8 S11I8R8 S11I8R9 S10I8R9 S10I8R10 S10I9R10', 'S11I2R0 S11I4R1 S11I5R2 S11I5R3 S11I5R4 S11I6R5 S11I6R6 S11I6R7 S11I7R7 S11I7R8 S11I8R8 S11I8R9', 'S11I3R0 S11I4R1 S11I4R3 S11I5R4 S11I5R5 S11I5R6 S11I6R6 S11I6R7 S11I7R7 S11I7R8 S11I8R9 S10I8R9', 'S11I4R0 S11I4R3 S11I4R4 S11I4R5 S11I4R6 S11I3R6 S11I3R7 S11I2R7 S11I1R7', 'S11I3R0 S11I4R2 S11I5R4 S11I5R5 S11I5R6 S11I5R7 S11I6R7 S11I6R8', 'S11I4R0 S11I4R3 S11I4R4 S11I4R5 S11I4R6 S11I4R7 S11I4R8', 'S11I3R0 S11I4R2 S11I4R4 S11I4R5 S11I4R6 S11I4R7 S11I3R7', 'S11I1R0 S11I4R1 S11I4R2 S11I5R3 S11I5R4 S11I5R5 S11I5R6 S11I6R6 S11I6R7 S11I6R8 S11I7R8', 'S11I4R0 S11I4R3 S11I4R4 S11I4R5 S11I5R6 S11I5R7 S11I5R8 S11I6R8 S11I6R9', 'S11I4R0 S11I4R4 S11I4R5 S11I4R6 S11I4R7 S11I4R8', 'S11I2R0 S11I4R1 S11I4R3 S11I5R4 S11I5R5 S11I5R6 S11I6R6 S11I6R7 S11I6R8 S11I7R8', 'S11I3R0 S11I4R2 S11I5R4 S11I5R5 S11I5R6 S11I6R7 S11I6R8 S11I7R8 S11I7R9 S10I7R9 S10I8R9 S10I8R10', 'S11I2R0 S11I4R2 S11I4R3 S11I4R4 S11I4R5 S11I4R6 S11I3R6 S11I2R6 S11I1R7', 'S11I4R0 S11I4R2 S11I5R3 S11I5R4 S11I5R5 S11I5R6 S11I4R6 S11I4R7 S11I3R7', 'S11I4R0 S11I4R3 S11I4R4 S11I4R5 S11I4R6 S11I3R6 S11I3R7 S11I2R7 S11I1R7 S11I0R7', 'S11I3R0 S11I4R1 S11I4R3 S11I5R4 S11I5R5 S11I5R6 S11I6R6 S11I6R7 S11I7R8 S11I7R9 S11I8R9 S10I8R9', 'S11I3R0 S11I4R2 S11I5R3 S11I5R4 S11I5R5 S11I5R6 S11I6R6 S11I6R7 S11I6R8 S11I7R8', 'S11I4R0 S11I4R3 S11I5R4 S11I5R5 S11I5R6 S11I5R7 S11I5R8', 'S11I2R0 S11I4R1 S11I4R3 S11I5R4 S11I5R5 S11I6R6 S11I6R7 S11I7R8 S11I8R9 S10I8R9', 'S11I3R0 S11I4R1 S11I5R3 S11I5R4 S11I5R5 S11I6R6 S11I6R7 S11I7R7 S11I7R8 S11I8R8 S11I8R9 S10I8R9 S10I9R10', 'S11I2R0 S11I4R2 S11I4R4 S11I4R5 S11I4R6 S11I3R6 S11I3R7 S11I2R7', 'S11I4R0 S11I5R3 S11I5R4 S11I5R5 S11I5R6 S11I6R6 S11I6R7 S11I6R8 S11I7R8 S11I7R9', 'S11I4R0 S11I5R3 S11I5R4 S11I5R5 S11I6R6 S11I6R7 S11I7R7 S11I7R8 S11I7R9 S10I8R9 S10I8R10 S10I9R10 S9I9R10', 'S11I3R0 S11I4R2 S11I4R4 S11I5R5 S11I5R6 S11I5R7 S11I6R7 S11I6R8 S11I6R9 S11I7R9', 'S11I4R0 S11I4R4 S11I4R5 S11I4R6 S11I3R6 S11I3R7 S11I2R7 S11I1R7 S11I0R7', 'S11I3R0 S11I4R2 S11I4R4 S11I4R5 S11I5R6 S11I5R7 S11I5R8', 'S11I2R0 S11I4R1 S11I4R3 S11I4R4 S11I5R4 S11I5R5 S11I5R6 S11I5R7 S11I4R7', 'S11I4R0 S11I5R2 S11I5R3 S11I5R4 S11I6R5 S11I6R6 S11I7R6 S11I7R7 S11I8R8 S10I8R8 S10I9R9 S9I9R9 S9I10R10 S8I10R10 S7I10R10 S6I10R11', 'S11I3R0 S11I4R1 S11I5R3 S11I5R4 S11I5R5 S11I5R6 S11I5R7', 'S11I1R0 S11I3R2 S11I4R3 S11I4R4 S11I4R5 S11I5R6 S11I5R7 S11I6R8 S11I6R9 S11I7R9', 'S11I4R0 S11I5R3 S11I5R4 S11I5R5 S11I5R6 S11I5R7 S11I5R8', 'S11I3R0 S11I4R2 S11I5R3 S11I5R4 S11I5R5 S11I6R5 S11I6R6 S11I7R7 S11I8R8 S10I8R9 S10I9R9 S9I9R10 S8I10R10 S7I10R11 S6I10R11']\n"
     ]
    },
    {
     "name": "stderr",
     "output_type": "stream",
     "text": [
      "/var/folders/vn/q5vrjvfn60bfsnnd058cb6ww0000gn/T/ipykernel_37179/3969318224.py:55: RuntimeWarning: divide by zero encountered in log10\n",
      "  min_log= np.log10(min_val)\n"
     ]
    }
   ],
   "source": [
    "sir_dataset_output, bin_dict= process_dataset(sir_dataset, bin_outliers = False, log = True)\n",
    "bins_list =  plot_paths(sir_dataset_output)\n",
    "len(bins_list)\n",
    "print(bins_list)"
   ]
  },
  {
   "cell_type": "code",
   "execution_count": 50,
   "metadata": {},
   "outputs": [
    {
     "name": "stdout",
     "output_type": "stream",
     "text": [
      "The autoreload extension is already loaded. To reload it, use:\n",
      "  %reload_ext autoreload\n"
     ]
    }
   ],
   "source": [
    "%load_ext autoreload\n",
    "%autoreload 1"
   ]
  },
  {
   "cell_type": "code",
   "execution_count": 51,
   "metadata": {},
   "outputs": [],
   "source": [
    "import sententree\n",
    "import sententree_vega\n",
    "import networkx as nx\n",
    "import vega\n",
    "import vl_convert\n",
    "\n",
    "%aimport sententree\n",
    "%aimport sententree_vega\n",
    "%aimport vega"
   ]
  },
  {
   "cell_type": "code",
   "execution_count": 52,
   "metadata": {},
   "outputs": [],
   "source": [
    "logging_keywords = [\"TRACE\", \"DEBUG\", \"INFO\", \"LOG\"]\n",
    "def contains_any(line, keywords):\n",
    "    return any([w in line for w in keywords])\n",
    "\n",
    "def clean_line(l):\n",
    "    no_date = \" \".join(l.split(\" \")[1:]).strip()\n",
    "    return no_date.replace(\"::\", \"-\").replace(\":\", \"-\")\n"
   ]
  },
  {
   "cell_type": "code",
   "execution_count": 53,
   "metadata": {},
   "outputs": [
    {
     "ename": "ExecutableNotFound",
     "evalue": "failed to execute PosixPath('dot'), make sure the Graphviz executables are on your systems' PATH",
     "output_type": "error",
     "traceback": [
      "\u001b[0;31m---------------------------------------------------------------------------\u001b[0m",
      "\u001b[0;31mFileNotFoundError\u001b[0m                         Traceback (most recent call last)",
      "File \u001b[0;32m~/opt/anaconda3/envs/pyciems310/lib/python3.10/site-packages/graphviz/backend/execute.py:78\u001b[0m, in \u001b[0;36mrun_check\u001b[0;34m(cmd, input_lines, encoding, quiet, **kwargs)\u001b[0m\n\u001b[1;32m     77\u001b[0m     \u001b[38;5;28;01melse\u001b[39;00m:\n\u001b[0;32m---> 78\u001b[0m         proc \u001b[38;5;241m=\u001b[39m \u001b[43msubprocess\u001b[49m\u001b[38;5;241;43m.\u001b[39;49m\u001b[43mrun\u001b[49m\u001b[43m(\u001b[49m\u001b[43mcmd\u001b[49m\u001b[43m,\u001b[49m\u001b[43m \u001b[49m\u001b[38;5;241;43m*\u001b[39;49m\u001b[38;5;241;43m*\u001b[39;49m\u001b[43mkwargs\u001b[49m\u001b[43m)\u001b[49m\n\u001b[1;32m     79\u001b[0m \u001b[38;5;28;01mexcept\u001b[39;00m \u001b[38;5;167;01mOSError\u001b[39;00m \u001b[38;5;28;01mas\u001b[39;00m e:\n",
      "File \u001b[0;32m~/opt/anaconda3/envs/pyciems310/lib/python3.10/subprocess.py:503\u001b[0m, in \u001b[0;36mrun\u001b[0;34m(input, capture_output, timeout, check, *popenargs, **kwargs)\u001b[0m\n\u001b[1;32m    501\u001b[0m     kwargs[\u001b[38;5;124m'\u001b[39m\u001b[38;5;124mstderr\u001b[39m\u001b[38;5;124m'\u001b[39m] \u001b[38;5;241m=\u001b[39m PIPE\n\u001b[0;32m--> 503\u001b[0m \u001b[38;5;28;01mwith\u001b[39;00m \u001b[43mPopen\u001b[49m\u001b[43m(\u001b[49m\u001b[38;5;241;43m*\u001b[39;49m\u001b[43mpopenargs\u001b[49m\u001b[43m,\u001b[49m\u001b[43m \u001b[49m\u001b[38;5;241;43m*\u001b[39;49m\u001b[38;5;241;43m*\u001b[39;49m\u001b[43mkwargs\u001b[49m\u001b[43m)\u001b[49m \u001b[38;5;28;01mas\u001b[39;00m process:\n\u001b[1;32m    504\u001b[0m     \u001b[38;5;28;01mtry\u001b[39;00m:\n",
      "File \u001b[0;32m~/opt/anaconda3/envs/pyciems310/lib/python3.10/subprocess.py:971\u001b[0m, in \u001b[0;36mPopen.__init__\u001b[0;34m(self, args, bufsize, executable, stdin, stdout, stderr, preexec_fn, close_fds, shell, cwd, env, universal_newlines, startupinfo, creationflags, restore_signals, start_new_session, pass_fds, user, group, extra_groups, encoding, errors, text, umask, pipesize)\u001b[0m\n\u001b[1;32m    968\u001b[0m             \u001b[38;5;28mself\u001b[39m\u001b[38;5;241m.\u001b[39mstderr \u001b[38;5;241m=\u001b[39m io\u001b[38;5;241m.\u001b[39mTextIOWrapper(\u001b[38;5;28mself\u001b[39m\u001b[38;5;241m.\u001b[39mstderr,\n\u001b[1;32m    969\u001b[0m                     encoding\u001b[38;5;241m=\u001b[39mencoding, errors\u001b[38;5;241m=\u001b[39merrors)\n\u001b[0;32m--> 971\u001b[0m     \u001b[38;5;28;43mself\u001b[39;49m\u001b[38;5;241;43m.\u001b[39;49m\u001b[43m_execute_child\u001b[49m\u001b[43m(\u001b[49m\u001b[43margs\u001b[49m\u001b[43m,\u001b[49m\u001b[43m \u001b[49m\u001b[43mexecutable\u001b[49m\u001b[43m,\u001b[49m\u001b[43m \u001b[49m\u001b[43mpreexec_fn\u001b[49m\u001b[43m,\u001b[49m\u001b[43m \u001b[49m\u001b[43mclose_fds\u001b[49m\u001b[43m,\u001b[49m\n\u001b[1;32m    972\u001b[0m \u001b[43m                        \u001b[49m\u001b[43mpass_fds\u001b[49m\u001b[43m,\u001b[49m\u001b[43m \u001b[49m\u001b[43mcwd\u001b[49m\u001b[43m,\u001b[49m\u001b[43m \u001b[49m\u001b[43menv\u001b[49m\u001b[43m,\u001b[49m\n\u001b[1;32m    973\u001b[0m \u001b[43m                        \u001b[49m\u001b[43mstartupinfo\u001b[49m\u001b[43m,\u001b[49m\u001b[43m \u001b[49m\u001b[43mcreationflags\u001b[49m\u001b[43m,\u001b[49m\u001b[43m \u001b[49m\u001b[43mshell\u001b[49m\u001b[43m,\u001b[49m\n\u001b[1;32m    974\u001b[0m \u001b[43m                        \u001b[49m\u001b[43mp2cread\u001b[49m\u001b[43m,\u001b[49m\u001b[43m \u001b[49m\u001b[43mp2cwrite\u001b[49m\u001b[43m,\u001b[49m\n\u001b[1;32m    975\u001b[0m \u001b[43m                        \u001b[49m\u001b[43mc2pread\u001b[49m\u001b[43m,\u001b[49m\u001b[43m \u001b[49m\u001b[43mc2pwrite\u001b[49m\u001b[43m,\u001b[49m\n\u001b[1;32m    976\u001b[0m \u001b[43m                        \u001b[49m\u001b[43merrread\u001b[49m\u001b[43m,\u001b[49m\u001b[43m \u001b[49m\u001b[43merrwrite\u001b[49m\u001b[43m,\u001b[49m\n\u001b[1;32m    977\u001b[0m \u001b[43m                        \u001b[49m\u001b[43mrestore_signals\u001b[49m\u001b[43m,\u001b[49m\n\u001b[1;32m    978\u001b[0m \u001b[43m                        \u001b[49m\u001b[43mgid\u001b[49m\u001b[43m,\u001b[49m\u001b[43m \u001b[49m\u001b[43mgids\u001b[49m\u001b[43m,\u001b[49m\u001b[43m \u001b[49m\u001b[43muid\u001b[49m\u001b[43m,\u001b[49m\u001b[43m \u001b[49m\u001b[43mumask\u001b[49m\u001b[43m,\u001b[49m\n\u001b[1;32m    979\u001b[0m \u001b[43m                        \u001b[49m\u001b[43mstart_new_session\u001b[49m\u001b[43m)\u001b[49m\n\u001b[1;32m    980\u001b[0m \u001b[38;5;28;01mexcept\u001b[39;00m:\n\u001b[1;32m    981\u001b[0m     \u001b[38;5;66;03m# Cleanup if the child failed starting.\u001b[39;00m\n",
      "File \u001b[0;32m~/opt/anaconda3/envs/pyciems310/lib/python3.10/subprocess.py:1863\u001b[0m, in \u001b[0;36mPopen._execute_child\u001b[0;34m(self, args, executable, preexec_fn, close_fds, pass_fds, cwd, env, startupinfo, creationflags, shell, p2cread, p2cwrite, c2pread, c2pwrite, errread, errwrite, restore_signals, gid, gids, uid, umask, start_new_session)\u001b[0m\n\u001b[1;32m   1862\u001b[0m         err_msg \u001b[38;5;241m=\u001b[39m os\u001b[38;5;241m.\u001b[39mstrerror(errno_num)\n\u001b[0;32m-> 1863\u001b[0m     \u001b[38;5;28;01mraise\u001b[39;00m child_exception_type(errno_num, err_msg, err_filename)\n\u001b[1;32m   1864\u001b[0m \u001b[38;5;28;01mraise\u001b[39;00m child_exception_type(err_msg)\n",
      "\u001b[0;31mFileNotFoundError\u001b[0m: [Errno 2] No such file or directory: PosixPath('dot')",
      "\nThe above exception was the direct cause of the following exception:\n",
      "\u001b[0;31mExecutableNotFound\u001b[0m                        Traceback (most recent call last)",
      "Cell \u001b[0;32mIn[53], line 8\u001b[0m\n\u001b[1;32m      1\u001b[0m \u001b[38;5;66;03m# %%prun -D build_sentence.profile\u001b[39;00m\n\u001b[1;32m      4\u001b[0m G \u001b[38;5;241m=\u001b[39m sententree\u001b[38;5;241m.\u001b[39mbuild_sententree(bins_list,\n\u001b[1;32m      5\u001b[0m                                 min_support \u001b[38;5;241m=\u001b[39m \u001b[38;5;241m3\u001b[39m,\n\u001b[1;32m      6\u001b[0m                                 num_exemplars\u001b[38;5;241m=\u001b[39m\u001b[38;5;241m3\u001b[39m,\n\u001b[1;32m      7\u001b[0m                                 tag_with\u001b[38;5;241m=\u001b[39msententree\u001b[38;5;241m.\u001b[39mtag_numbers_with_words_words_with_occurance)\n\u001b[0;32m----> 8\u001b[0m schema \u001b[38;5;241m=\u001b[39m \u001b[43msententree_vega\u001b[49m\u001b[38;5;241;43m.\u001b[39;49m\u001b[43mvega_sententree\u001b[49m\u001b[43m(\u001b[49m\u001b[43mG\u001b[49m\u001b[43m,\u001b[49m\u001b[43m \u001b[49m\u001b[43mw\u001b[49m\u001b[38;5;241;43m=\u001b[39;49m\u001b[38;5;241;43m800\u001b[39;49m\u001b[43m,\u001b[49m\u001b[43m \u001b[49m\u001b[43mh\u001b[49m\u001b[38;5;241;43m=\u001b[39;49m\u001b[38;5;241;43m300\u001b[39;49m\u001b[43m)\u001b[49m\n\u001b[1;32m     10\u001b[0m \u001b[38;5;28;01mwith\u001b[39;00m \u001b[38;5;28mopen\u001b[39m(\u001b[38;5;124m\"\u001b[39m\u001b[38;5;124m../figures/bin_example.png\u001b[39m\u001b[38;5;124m\"\u001b[39m, \u001b[38;5;124m\"\u001b[39m\u001b[38;5;124mwb\u001b[39m\u001b[38;5;124m\"\u001b[39m) \u001b[38;5;28;01mas\u001b[39;00m f:\n\u001b[1;32m     11\u001b[0m     png \u001b[38;5;241m=\u001b[39m vl_convert\u001b[38;5;241m.\u001b[39mvega_to_png(schema, scale\u001b[38;5;241m=\u001b[39m\u001b[38;5;241m4\u001b[39m)\n",
      "File \u001b[0;32m~/632b3e61842dd86f62d4b8a1/code/sententree_vega.py:74\u001b[0m, in \u001b[0;36mvega_sententree\u001b[0;34m(G, w, h)\u001b[0m\n\u001b[1;32m     65\u001b[0m \u001b[38;5;250m\u001b[39m\u001b[38;5;124;03m\"\"\"\u001b[39;00m\n\u001b[1;32m     66\u001b[0m \u001b[38;5;124;03mvega_sententree_from_gv: Convience function to return a Vega Specification from a Graphviz graph\u001b[39;00m\n\u001b[1;32m     67\u001b[0m \n\u001b[0;32m   (...)\u001b[0m\n\u001b[1;32m     71\u001b[0m \u001b[38;5;124;03mreturns: A Vega specification of a SentenTree graph\u001b[39;00m\n\u001b[1;32m     72\u001b[0m \u001b[38;5;124;03m\"\"\"\u001b[39;00m\n\u001b[1;32m     73\u001b[0m vega_spec \u001b[38;5;241m=\u001b[39m vega\u001b[38;5;241m.\u001b[39mload_schema(\u001b[38;5;124m\"\u001b[39m\u001b[38;5;124mSentenTree.json\u001b[39m\u001b[38;5;124m\"\u001b[39m)\n\u001b[0;32m---> 74\u001b[0m layout \u001b[38;5;241m=\u001b[39m \u001b[43mgraphviz_dot_LR\u001b[49m\u001b[43m(\u001b[49m\u001b[43mG\u001b[49m\u001b[43m)\u001b[49m\n\u001b[1;32m     76\u001b[0m \u001b[38;5;66;03m# Update edge and node data in spec\u001b[39;00m\n\u001b[1;32m     77\u001b[0m vega_spec[\u001b[38;5;124m\"\u001b[39m\u001b[38;5;124mdata\u001b[39m\u001b[38;5;124m\"\u001b[39m][\u001b[38;5;241m0\u001b[39m][\u001b[38;5;124m\"\u001b[39m\u001b[38;5;124mvalues\u001b[39m\u001b[38;5;124m\"\u001b[39m] \u001b[38;5;241m=\u001b[39m [\u001b[38;5;241m*\u001b[39mcomplete_node_data(G, layout)\u001b[38;5;241m.\u001b[39mvalues()]\n",
      "File \u001b[0;32m~/632b3e61842dd86f62d4b8a1/code/sententree_vega.py:22\u001b[0m, in \u001b[0;36mgraphviz_dot_LR\u001b[0;34m(nxG)\u001b[0m\n\u001b[1;32m     19\u001b[0m     gvG\u001b[38;5;241m.\u001b[39medge(s, t)\n\u001b[1;32m     21\u001b[0m gvG\u001b[38;5;241m.\u001b[39mgraph_attr[\u001b[38;5;124m\"\u001b[39m\u001b[38;5;124mnodesep\u001b[39m\u001b[38;5;124m\"\u001b[39m] \u001b[38;5;241m=\u001b[39m \u001b[38;5;124m\"\u001b[39m\u001b[38;5;124m.1\u001b[39m\u001b[38;5;124m\"\u001b[39m\n\u001b[0;32m---> 22\u001b[0m \u001b[43mgvG\u001b[49m\u001b[38;5;241;43m.\u001b[39;49m\u001b[43mrender\u001b[49m\u001b[43m(\u001b[49m\u001b[43mfilename\u001b[49m\u001b[38;5;241;43m=\u001b[39;49m\u001b[38;5;124;43m\"\u001b[39;49m\u001b[38;5;124;43mlogtree\u001b[39;49m\u001b[38;5;124;43m\"\u001b[39;49m\u001b[43m,\u001b[49m\u001b[43m \u001b[49m\u001b[38;5;28;43mformat\u001b[39;49m\u001b[38;5;241;43m=\u001b[39;49m\u001b[38;5;124;43m\"\u001b[39;49m\u001b[38;5;124;43mjson\u001b[39;49m\u001b[38;5;124;43m\"\u001b[39;49m\u001b[43m,\u001b[49m\u001b[43m \u001b[49m\u001b[43mengine\u001b[49m\u001b[38;5;241;43m=\u001b[39;49m\u001b[38;5;124;43m\"\u001b[39;49m\u001b[38;5;124;43mdot\u001b[39;49m\u001b[38;5;124;43m\"\u001b[39;49m\u001b[43m)\u001b[49m\n\u001b[1;32m     23\u001b[0m \u001b[38;5;28;01mwith\u001b[39;00m \u001b[38;5;28mopen\u001b[39m(\u001b[38;5;124m\"\u001b[39m\u001b[38;5;124mlogtree.json\u001b[39m\u001b[38;5;124m\"\u001b[39m) \u001b[38;5;28;01mas\u001b[39;00m f:\n\u001b[1;32m     24\u001b[0m     data \u001b[38;5;241m=\u001b[39m json\u001b[38;5;241m.\u001b[39mload(f)\n",
      "File \u001b[0;32m~/opt/anaconda3/envs/pyciems310/lib/python3.10/site-packages/graphviz/_tools.py:171\u001b[0m, in \u001b[0;36mdeprecate_positional_args.<locals>.decorator.<locals>.wrapper\u001b[0;34m(*args, **kwargs)\u001b[0m\n\u001b[1;32m    162\u001b[0m     wanted \u001b[38;5;241m=\u001b[39m \u001b[38;5;124m'\u001b[39m\u001b[38;5;124m, \u001b[39m\u001b[38;5;124m'\u001b[39m\u001b[38;5;241m.\u001b[39mjoin(\u001b[38;5;124mf\u001b[39m\u001b[38;5;124m'\u001b[39m\u001b[38;5;132;01m{\u001b[39;00mname\u001b[38;5;132;01m}\u001b[39;00m\u001b[38;5;124m=\u001b[39m\u001b[38;5;132;01m{\u001b[39;00mvalue\u001b[38;5;132;01m!r}\u001b[39;00m\u001b[38;5;124m'\u001b[39m\n\u001b[1;32m    163\u001b[0m                        \u001b[38;5;28;01mfor\u001b[39;00m name, value \u001b[38;5;129;01min\u001b[39;00m deprecated\u001b[38;5;241m.\u001b[39mitems())\n\u001b[1;32m    164\u001b[0m     warnings\u001b[38;5;241m.\u001b[39mwarn(\u001b[38;5;124mf\u001b[39m\u001b[38;5;124m'\u001b[39m\u001b[38;5;124mThe signature of \u001b[39m\u001b[38;5;132;01m{\u001b[39;00mfunc\u001b[38;5;241m.\u001b[39m\u001b[38;5;18m__name__\u001b[39m\u001b[38;5;132;01m}\u001b[39;00m\u001b[38;5;124m will be reduced\u001b[39m\u001b[38;5;124m'\u001b[39m\n\u001b[1;32m    165\u001b[0m                   \u001b[38;5;124mf\u001b[39m\u001b[38;5;124m'\u001b[39m\u001b[38;5;124m to \u001b[39m\u001b[38;5;132;01m{\u001b[39;00msupported_number\u001b[38;5;132;01m}\u001b[39;00m\u001b[38;5;124m positional args\u001b[39m\u001b[38;5;124m'\u001b[39m\n\u001b[1;32m    166\u001b[0m                   \u001b[38;5;124mf\u001b[39m\u001b[38;5;124m'\u001b[39m\u001b[38;5;124m \u001b[39m\u001b[38;5;132;01m{\u001b[39;00m\u001b[38;5;28mlist\u001b[39m(supported)\u001b[38;5;132;01m}\u001b[39;00m\u001b[38;5;124m: pass \u001b[39m\u001b[38;5;132;01m{\u001b[39;00mwanted\u001b[38;5;132;01m}\u001b[39;00m\u001b[38;5;124m'\u001b[39m\n\u001b[1;32m    167\u001b[0m                   \u001b[38;5;124m'\u001b[39m\u001b[38;5;124m as keyword arg(s)\u001b[39m\u001b[38;5;124m'\u001b[39m,\n\u001b[1;32m    168\u001b[0m                   stacklevel\u001b[38;5;241m=\u001b[39mstacklevel,\n\u001b[1;32m    169\u001b[0m                   category\u001b[38;5;241m=\u001b[39mcategory)\n\u001b[0;32m--> 171\u001b[0m \u001b[38;5;28;01mreturn\u001b[39;00m \u001b[43mfunc\u001b[49m\u001b[43m(\u001b[49m\u001b[38;5;241;43m*\u001b[39;49m\u001b[43margs\u001b[49m\u001b[43m,\u001b[49m\u001b[43m \u001b[49m\u001b[38;5;241;43m*\u001b[39;49m\u001b[38;5;241;43m*\u001b[39;49m\u001b[43mkwargs\u001b[49m\u001b[43m)\u001b[49m\n",
      "File \u001b[0;32m~/opt/anaconda3/envs/pyciems310/lib/python3.10/site-packages/graphviz/rendering.py:122\u001b[0m, in \u001b[0;36mRender.render\u001b[0;34m(self, filename, directory, view, cleanup, format, renderer, formatter, neato_no_op, quiet, quiet_view, outfile, engine, raise_if_result_exists, overwrite_source)\u001b[0m\n\u001b[1;32m    118\u001b[0m filepath \u001b[38;5;241m=\u001b[39m \u001b[38;5;28mself\u001b[39m\u001b[38;5;241m.\u001b[39msave(filename, directory\u001b[38;5;241m=\u001b[39mdirectory, skip_existing\u001b[38;5;241m=\u001b[39m\u001b[38;5;28;01mNone\u001b[39;00m)\n\u001b[1;32m    120\u001b[0m args\u001b[38;5;241m.\u001b[39mappend(filepath)\n\u001b[0;32m--> 122\u001b[0m rendered \u001b[38;5;241m=\u001b[39m \u001b[38;5;28;43mself\u001b[39;49m\u001b[38;5;241;43m.\u001b[39;49m\u001b[43m_render\u001b[49m\u001b[43m(\u001b[49m\u001b[38;5;241;43m*\u001b[39;49m\u001b[43margs\u001b[49m\u001b[43m,\u001b[49m\u001b[43m \u001b[49m\u001b[38;5;241;43m*\u001b[39;49m\u001b[38;5;241;43m*\u001b[39;49m\u001b[43mkwargs\u001b[49m\u001b[43m)\u001b[49m\n\u001b[1;32m    124\u001b[0m \u001b[38;5;28;01mif\u001b[39;00m cleanup:\n\u001b[1;32m    125\u001b[0m     log\u001b[38;5;241m.\u001b[39mdebug(\u001b[38;5;124m'\u001b[39m\u001b[38;5;124mdelete \u001b[39m\u001b[38;5;132;01m%r\u001b[39;00m\u001b[38;5;124m'\u001b[39m, filepath)\n",
      "File \u001b[0;32m~/opt/anaconda3/envs/pyciems310/lib/python3.10/site-packages/graphviz/_tools.py:171\u001b[0m, in \u001b[0;36mdeprecate_positional_args.<locals>.decorator.<locals>.wrapper\u001b[0;34m(*args, **kwargs)\u001b[0m\n\u001b[1;32m    162\u001b[0m     wanted \u001b[38;5;241m=\u001b[39m \u001b[38;5;124m'\u001b[39m\u001b[38;5;124m, \u001b[39m\u001b[38;5;124m'\u001b[39m\u001b[38;5;241m.\u001b[39mjoin(\u001b[38;5;124mf\u001b[39m\u001b[38;5;124m'\u001b[39m\u001b[38;5;132;01m{\u001b[39;00mname\u001b[38;5;132;01m}\u001b[39;00m\u001b[38;5;124m=\u001b[39m\u001b[38;5;132;01m{\u001b[39;00mvalue\u001b[38;5;132;01m!r}\u001b[39;00m\u001b[38;5;124m'\u001b[39m\n\u001b[1;32m    163\u001b[0m                        \u001b[38;5;28;01mfor\u001b[39;00m name, value \u001b[38;5;129;01min\u001b[39;00m deprecated\u001b[38;5;241m.\u001b[39mitems())\n\u001b[1;32m    164\u001b[0m     warnings\u001b[38;5;241m.\u001b[39mwarn(\u001b[38;5;124mf\u001b[39m\u001b[38;5;124m'\u001b[39m\u001b[38;5;124mThe signature of \u001b[39m\u001b[38;5;132;01m{\u001b[39;00mfunc\u001b[38;5;241m.\u001b[39m\u001b[38;5;18m__name__\u001b[39m\u001b[38;5;132;01m}\u001b[39;00m\u001b[38;5;124m will be reduced\u001b[39m\u001b[38;5;124m'\u001b[39m\n\u001b[1;32m    165\u001b[0m                   \u001b[38;5;124mf\u001b[39m\u001b[38;5;124m'\u001b[39m\u001b[38;5;124m to \u001b[39m\u001b[38;5;132;01m{\u001b[39;00msupported_number\u001b[38;5;132;01m}\u001b[39;00m\u001b[38;5;124m positional args\u001b[39m\u001b[38;5;124m'\u001b[39m\n\u001b[1;32m    166\u001b[0m                   \u001b[38;5;124mf\u001b[39m\u001b[38;5;124m'\u001b[39m\u001b[38;5;124m \u001b[39m\u001b[38;5;132;01m{\u001b[39;00m\u001b[38;5;28mlist\u001b[39m(supported)\u001b[38;5;132;01m}\u001b[39;00m\u001b[38;5;124m: pass \u001b[39m\u001b[38;5;132;01m{\u001b[39;00mwanted\u001b[38;5;132;01m}\u001b[39;00m\u001b[38;5;124m'\u001b[39m\n\u001b[1;32m    167\u001b[0m                   \u001b[38;5;124m'\u001b[39m\u001b[38;5;124m as keyword arg(s)\u001b[39m\u001b[38;5;124m'\u001b[39m,\n\u001b[1;32m    168\u001b[0m                   stacklevel\u001b[38;5;241m=\u001b[39mstacklevel,\n\u001b[1;32m    169\u001b[0m                   category\u001b[38;5;241m=\u001b[39mcategory)\n\u001b[0;32m--> 171\u001b[0m \u001b[38;5;28;01mreturn\u001b[39;00m \u001b[43mfunc\u001b[49m\u001b[43m(\u001b[49m\u001b[38;5;241;43m*\u001b[39;49m\u001b[43margs\u001b[49m\u001b[43m,\u001b[49m\u001b[43m \u001b[49m\u001b[38;5;241;43m*\u001b[39;49m\u001b[38;5;241;43m*\u001b[39;49m\u001b[43mkwargs\u001b[49m\u001b[43m)\u001b[49m\n",
      "File \u001b[0;32m~/opt/anaconda3/envs/pyciems310/lib/python3.10/site-packages/graphviz/backend/rendering.py:326\u001b[0m, in \u001b[0;36mrender\u001b[0;34m(engine, format, filepath, renderer, formatter, neato_no_op, quiet, outfile, raise_if_result_exists, overwrite_filepath)\u001b[0m\n\u001b[1;32m    322\u001b[0m cmd \u001b[38;5;241m+\u001b[39m\u001b[38;5;241m=\u001b[39m args\n\u001b[1;32m    324\u001b[0m \u001b[38;5;28;01massert\u001b[39;00m filepath \u001b[38;5;129;01mis\u001b[39;00m \u001b[38;5;129;01mnot\u001b[39;00m \u001b[38;5;28;01mNone\u001b[39;00m, \u001b[38;5;124m'\u001b[39m\u001b[38;5;124mwork around pytype false alarm\u001b[39m\u001b[38;5;124m'\u001b[39m\n\u001b[0;32m--> 326\u001b[0m \u001b[43mexecute\u001b[49m\u001b[38;5;241;43m.\u001b[39;49m\u001b[43mrun_check\u001b[49m\u001b[43m(\u001b[49m\u001b[43mcmd\u001b[49m\u001b[43m,\u001b[49m\n\u001b[1;32m    327\u001b[0m \u001b[43m                  \u001b[49m\u001b[43mcwd\u001b[49m\u001b[38;5;241;43m=\u001b[39;49m\u001b[43mfilepath\u001b[49m\u001b[38;5;241;43m.\u001b[39;49m\u001b[43mparent\u001b[49m\u001b[43m \u001b[49m\u001b[38;5;28;43;01mif\u001b[39;49;00m\u001b[43m \u001b[49m\u001b[43mfilepath\u001b[49m\u001b[38;5;241;43m.\u001b[39;49m\u001b[43mparent\u001b[49m\u001b[38;5;241;43m.\u001b[39;49m\u001b[43mparts\u001b[49m\u001b[43m \u001b[49m\u001b[38;5;28;43;01melse\u001b[39;49;00m\u001b[43m \u001b[49m\u001b[38;5;28;43;01mNone\u001b[39;49;00m\u001b[43m,\u001b[49m\n\u001b[1;32m    328\u001b[0m \u001b[43m                  \u001b[49m\u001b[43mquiet\u001b[49m\u001b[38;5;241;43m=\u001b[39;49m\u001b[43mquiet\u001b[49m\u001b[43m,\u001b[49m\n\u001b[1;32m    329\u001b[0m \u001b[43m                  \u001b[49m\u001b[43mcapture_output\u001b[49m\u001b[38;5;241;43m=\u001b[39;49m\u001b[38;5;28;43;01mTrue\u001b[39;49;00m\u001b[43m)\u001b[49m\n\u001b[1;32m    331\u001b[0m \u001b[38;5;28;01mreturn\u001b[39;00m os\u001b[38;5;241m.\u001b[39mfspath(outfile)\n",
      "File \u001b[0;32m~/opt/anaconda3/envs/pyciems310/lib/python3.10/site-packages/graphviz/backend/execute.py:81\u001b[0m, in \u001b[0;36mrun_check\u001b[0;34m(cmd, input_lines, encoding, quiet, **kwargs)\u001b[0m\n\u001b[1;32m     79\u001b[0m \u001b[38;5;28;01mexcept\u001b[39;00m \u001b[38;5;167;01mOSError\u001b[39;00m \u001b[38;5;28;01mas\u001b[39;00m e:\n\u001b[1;32m     80\u001b[0m     \u001b[38;5;28;01mif\u001b[39;00m e\u001b[38;5;241m.\u001b[39merrno \u001b[38;5;241m==\u001b[39m errno\u001b[38;5;241m.\u001b[39mENOENT:\n\u001b[0;32m---> 81\u001b[0m         \u001b[38;5;28;01mraise\u001b[39;00m ExecutableNotFound(cmd) \u001b[38;5;28;01mfrom\u001b[39;00m \u001b[38;5;21;01me\u001b[39;00m\n\u001b[1;32m     82\u001b[0m     \u001b[38;5;28;01mraise\u001b[39;00m\n\u001b[1;32m     84\u001b[0m \u001b[38;5;28;01mif\u001b[39;00m \u001b[38;5;129;01mnot\u001b[39;00m quiet \u001b[38;5;129;01mand\u001b[39;00m proc\u001b[38;5;241m.\u001b[39mstderr:\n",
      "\u001b[0;31mExecutableNotFound\u001b[0m: failed to execute PosixPath('dot'), make sure the Graphviz executables are on your systems' PATH"
     ]
    }
   ],
   "source": [
    "# %%prun -D build_sentence.profile\n",
    "\n",
    "\n",
    "G = sententree.build_sententree(bins_list,\n",
    "                                min_support = 3,\n",
    "                                num_exemplars=3,\n",
    "                                tag_with=sententree.tag_numbers_with_words_words_with_occurance)\n",
    "schema = sententree_vega.vega_sententree(G, w=800, h=300)\n",
    "\n",
    "with open(\"../figures/bin_example.png\", \"wb\") as f:\n",
    "    png = vl_convert.vega_to_png(schema, scale=4)\n",
    "    f.write(png)\n",
    "\n",
    "vega.display(schema, format=\"interactive\")\n"
   ]
  }
 ],
 "metadata": {
  "kernelspec": {
   "display_name": "pyciems310",
   "language": "python",
   "name": "python3"
  },
  "language_info": {
   "codemirror_mode": {
    "name": "ipython",
    "version": 3
   },
   "file_extension": ".py",
   "mimetype": "text/x-python",
   "name": "python",
   "nbconvert_exporter": "python",
   "pygments_lexer": "ipython3",
   "version": "3.10.13"
  }
 },
 "nbformat": 4,
 "nbformat_minor": 2
}
