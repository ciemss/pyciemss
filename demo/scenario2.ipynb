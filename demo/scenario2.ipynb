{
 "cells": [
  {
   "cell_type": "code",
   "execution_count": null,
   "metadata": {},
   "outputs": [],
   "source": [
    "# Load Dependencies\n",
    "import matplotlib.pyplot as plt\n",
    "\n",
    "\n",
    "import torch\n",
    "\n",
    "import pyro\n",
    "import numpy as np\n",
    "import pyro.distributions as dist\n",
    "from pyro.poutine import trace, replay, block\n",
    "from pyro.infer.autoguide.guides import AutoDelta, AutoNormal\n",
    "from pyro.infer import SVI, Trace_ELBO, Predictive\n",
    "# from pyro.optim import Adam\n",
    "\n",
    "import sys\n",
    "sys.path.append(\"../\")\n",
    "\n",
    "from pyciemss.utils import run_inference, get_tspan\n",
    "\n",
    "import warnings\n",
    "warnings.filterwarnings('ignore')"
   ]
  },
  {
   "cell_type": "code",
   "execution_count": null,
   "metadata": {},
   "outputs": [],
   "source": [
    "# Plotting Utilities\n",
    "\n",
    "def setup_ax(ax=None):\n",
    "\n",
    "    if not ax:\n",
    "        fig = plt.figure(facecolor='w', figsize=(9, 9))\n",
    "        ax = fig.add_subplot(111, axisbelow=True)\n",
    "\n",
    "    ax.set_xlabel('Time /days')\n",
    "    ax.set_ylabel('Infected (1000s)')\n",
    "    return ax\n",
    "\n",
    "def plot_predictive(prediction, tspan, tmin=None, ax=None, alpha=0.2, color=\"black\", **kwargs):\n",
    "    vars = [\"I_obs\"]\n",
    "    \n",
    "    I_low = torch.quantile(prediction[\"I_obs\"], 0.05, dim=0).detach().numpy()/1000\n",
    "    I_up = torch.quantile(prediction[\"I_obs\"], 0.95, dim=0).detach().numpy()/1000\n",
    "\n",
    "    if tmin:\n",
    "        indeces = tspan >= tmin\n",
    "    else:\n",
    "        indeces = torch.ones_like(tspan).bool()\n",
    "\n",
    "    if not ax:\n",
    "        fig = plt.figure(facecolor='w')\n",
    "        ax = fig.add_subplot(111, facecolor='#dddddd', axisbelow=True)\n",
    "    \n",
    "    ax.fill_between(tspan[indeces], I_low[indeces], I_up[indeces], alpha=alpha, color=color, **kwargs)\n",
    "\n",
    "    legend = ax.legend()\n",
    "    legend.get_frame().set_alpha(0.5)\n",
    "\n",
    "    return ax\n",
    "\n",
    "def plot_trajectory(data, tspan, ax=None, color='black', alpha=0.5, lw=0, marker='.', label=None):\n",
    "    # Plot the data on three separate curves for S(t), I(t) and R(t)\n",
    "\n",
    "    if not ax:\n",
    "        fig = plt.figure(facecolor='w')\n",
    "        ax = fig.add_subplot(111, facecolor='#dddddd', axisbelow=True)\n",
    "\n",
    "    ax.plot(tspan, data[\"I_obs\"].squeeze().detach().numpy()/1000., color, alpha=alpha, lw=lw, marker=marker, label=label)\n",
    "    \n",
    "    return ax\n",
    "\n",
    "def plot_intervention_line(t, ax=None):\n",
    "    if not ax:\n",
    "        fig = plt.figure(facecolor='w')\n",
    "        ax = fig.add_subplot(111, facecolor='#dddddd', axisbelow=True)\n",
    "\n",
    "    ylim = ax.get_ylim()\n",
    "\n",
    "    ax.vlines(t, min(ylim), max(ylim), color=\"grey\", ls='-')\n",
    "\n",
    "    return ax"
   ]
  },
  {
   "cell_type": "code",
   "execution_count": null,
   "metadata": {},
   "outputs": [],
   "source": [
    "# Setup Parameters\n",
    "\n",
    "observed_tspan = get_tspan(1, 7, 7)\n",
    "new_tspan = get_tspan(7, 89, 83)\n",
    "full_tspan = get_tspan(1, 89, 89)\n",
    "\n",
    "num_samples = 500\n",
    "\n",
    "# Total population, N.\n",
    "N = 100000.0\n",
    "# Initial number of infected and recovered individuals, I0 and R0.\n",
    "V0, I0, Iv0, R0 = 0., 81.0, 0., 0.\n",
    "# Everyone else, S0, is susceptible to infection initially.\n",
    "S0 = N - I0 - Iv0 - V0 - R0\n",
    "\n",
    "# 18 - 24 year olds\n",
    "I_obs = torch.tensor([81.47, 84.3, 86.44, 89.66, 93.32, 94.1, 96.31])\n",
    "\n",
    "initial_state = tuple(torch.as_tensor(s) for s in  (S0, V0, I0, Iv0, R0))\n",
    "final_observed_state = tuple(torch.as_tensor(s) for s in  (S0, V0, I_obs[-1], Iv0, R0))\n"
   ]
  },
  {
   "cell_type": "markdown",
   "metadata": {},
   "source": [
    "# Probabilistic Forecasting - Ignoring Historical Data"
   ]
  },
  {
   "cell_type": "code",
   "execution_count": null,
   "metadata": {},
   "outputs": [],
   "source": [
    "from pyciemss.ODE.models import SVIIvR"
   ]
  },
  {
   "cell_type": "markdown",
   "metadata": {},
   "source": [
    "## Q: \"What plausible possible future outcomes does our model imply?\""
   ]
  },
  {
   "cell_type": "code",
   "execution_count": null,
   "metadata": {},
   "outputs": [],
   "source": [
    "pyro.set_rng_seed(0)\n",
    "\n",
    "noisy_ode_model = SVIIvR(N, \n",
    "                noise_prior=dist.Uniform(5., 10.),\n",
    "                beta_prior=dist.Uniform(0.1, 0.3), \n",
    "                betaV_prior=dist.Uniform(0.025, 0.05),\n",
    "                gamma_prior=dist.Uniform(0.05, 0.35),\n",
    "                gammaV_prior=dist.Uniform(0.1, 0.4),\n",
    "                nu_prior=dist.Uniform(0.001, 0.01))\n",
    "\n",
    "ode_model = pyro.do(noisy_ode_model, {\"noise_var\": torch.tensor([0.000001])})\n",
    "\n",
    "prior_prediction = Predictive(ode_model, num_samples=num_samples)(initial_state, full_tspan)\n",
    "single_prediction = Predictive(ode_model, num_samples=1)(initial_state, full_tspan)"
   ]
  },
  {
   "cell_type": "code",
   "execution_count": null,
   "metadata": {},
   "outputs": [],
   "source": [
    "\n",
    "ax = plot_trajectory(single_prediction, full_tspan, ax=setup_ax(), color=\"blue\", marker='', lw=1., label=\"Before Seeing Data - Single Forecast\")\n",
    "ax = plot_predictive(prior_prediction, full_tspan, ax=ax, label=\"Before Seeing Data - Probabilistic Forecast\", color=\"red\")"
   ]
  },
  {
   "cell_type": "markdown",
   "metadata": {},
   "source": [
    "## Forecasting - Incorporating Historical Data"
   ]
  },
  {
   "cell_type": "code",
   "execution_count": null,
   "metadata": {},
   "outputs": [],
   "source": [
    "pyro.set_rng_seed(0)\n",
    "\n",
    "guide = AutoNormal(block(noisy_ode_model, hide=[\"S_obs\", \"V_obs\", \"R_obs\"]))\n",
    "map_guide = AutoDelta(block(noisy_ode_model, hide=[\"S_obs\", \"V_obs\", \"R_obs\"]))\n",
    "\n",
    "data = {\"S_obs\":None, \"V_obs\":None, \"I_obs\":I_obs, \"R_obs\":None}\n",
    "\n",
    "run_inference(noisy_ode_model, guide, initial_state, observed_tspan, data, num_iterations=200, verbose=False)\n",
    "run_inference(noisy_ode_model, map_guide, initial_state, observed_tspan, data, num_iterations=200, verbose=False)\n",
    "\n",
    "map_prediction = Predictive(ode_model, guide=map_guide, num_samples=1)(final_observed_state, new_tspan)\n",
    "posterior_prediction = Predictive(ode_model, guide=guide, num_samples=num_samples)(final_observed_state, new_tspan)"
   ]
  },
  {
   "cell_type": "markdown",
   "metadata": {},
   "source": [
    "## Q: \"What are possible future outcomes that are consistent with the data we've seen thusfar?\""
   ]
  },
  {
   "cell_type": "code",
   "execution_count": null,
   "metadata": {},
   "outputs": [],
   "source": [
    "\n",
    "ax = plot_trajectory(data, observed_tspan, ax=setup_ax())\n",
    "ax = plot_trajectory(single_prediction, full_tspan, ax=ax, color=\"blue\", marker='', lw=1., label=\"Before Seeing Data - Single Forecast\")\n",
    "ax = plot_predictive(prior_prediction, full_tspan, tmin=7, ax=ax, label=\"Before Seeing Data - Probabilistic Forecast\", color=\"red\")\n",
    "ax = plot_trajectory(map_prediction, new_tspan, ax=ax, marker='', lw=1., label=\"After Seeing Data - Single Forecast\")\n",
    "ax = plot_predictive(posterior_prediction, new_tspan, ax=ax, label=\"After Seeing Data - Probabilistic Forecast\")"
   ]
  },
  {
   "cell_type": "code",
   "execution_count": null,
   "metadata": {},
   "outputs": [],
   "source": [
    "\n",
    "ax = plot_trajectory(data, observed_tspan, ax=setup_ax())\n",
    "ax = plot_trajectory(map_prediction, new_tspan, ax=ax, marker='', lw=1., label=\"After Seeing Data - Single Forecast\")\n",
    "ax = plot_predictive(posterior_prediction, new_tspan, ax=ax, label=\"After Seeing Data - Probabilistic Forecast\")"
   ]
  },
  {
   "cell_type": "markdown",
   "metadata": {},
   "source": [
    "# Probabilistic Forecasting - Exploring Possible Interventions"
   ]
  },
  {
   "cell_type": "code",
   "execution_count": null,
   "metadata": {},
   "outputs": [],
   "source": [
    "from causal_pyro.query.do_messenger import do\n",
    "from pyciemss.ODE.interventions import constant_intervention, time_dependent_intervention, state_dependent_intervention, parameter_intervention"
   ]
  },
  {
   "cell_type": "markdown",
   "metadata": {},
   "source": [
    "## Q: \"What would happen if we enacted a policy that set the vaccination rate parameter, $\\nu$?\""
   ]
  },
  {
   "cell_type": "code",
   "execution_count": null,
   "metadata": {},
   "outputs": [],
   "source": [
    "pyro.set_rng_seed(0)\n",
    "\n",
    "rate_parameter_intervention = parameter_intervention(\"nu\", torch.tensor([0.01]))\n",
    "intervened_parameter_model = do(ode_model, rate_parameter_intervention)\n",
    "intervened_parameter_prediction = Predictive(intervened_parameter_model, guide=guide, num_samples=num_samples)(final_observed_state, new_tspan)"
   ]
  },
  {
   "cell_type": "code",
   "execution_count": null,
   "metadata": {},
   "outputs": [],
   "source": [
    "\n",
    "ax = setup_ax()\n",
    "ax = plot_trajectory(data, observed_tspan, ax=ax)\n",
    "ax = plot_predictive(posterior_prediction, new_tspan, tmin=7, ax=ax, label=\"No Intervention\")\n",
    "ax = plot_predictive(intervened_parameter_prediction, new_tspan, ax=ax, color='red', label=\"Vaccination Rate Parameter Intervention\")\n",
    "ax = plot_intervention_line(7., ax=ax)"
   ]
  },
  {
   "cell_type": "markdown",
   "metadata": {},
   "source": [
    "## Governor: \"We can't affect the rate parameter directly. Bring me another policy!\"\n",
    "## Q: \"What would happen if we enacted a policy that vaccinated 500 people per day, regardless of the number of susceptible individuals?\""
   ]
  },
  {
   "cell_type": "code",
   "execution_count": null,
   "metadata": {},
   "outputs": [],
   "source": [
    "pyro.set_rng_seed(0)\n",
    "\n",
    "rate_intervention = constant_intervention(\"SV_flux\", torch.tensor([500.]), full_tspan)\n",
    "rate_intervention_model = do(ode_model, rate_intervention)\n",
    "rate_intervention_prediction = Predictive(rate_intervention_model, guide=guide, num_samples=num_samples)(final_observed_state, new_tspan)"
   ]
  },
  {
   "cell_type": "code",
   "execution_count": null,
   "metadata": {},
   "outputs": [],
   "source": [
    "\n",
    "ax = setup_ax()\n",
    "ax = plot_trajectory(data, observed_tspan, ax=ax)\n",
    "ax = plot_predictive(posterior_prediction, new_tspan, ax=ax, label=\"No Intervention\")\n",
    "ax = plot_predictive(rate_intervention_prediction, new_tspan, ax=ax, color='blue', label=\"Vaccination Rate Intervention\")\n",
    "ax = plot_intervention_line(7., ax=ax)"
   ]
  },
  {
   "cell_type": "markdown",
   "metadata": {},
   "source": [
    "## Governor: \"We have a lot more vaccines than that, but they aren't available yet!\"\n",
    "## Q: \"What would happen if we enacted a policy that vaccinated 500 people per day for the first month, and then 250 more people each subsequent month?\""
   ]
  },
  {
   "cell_type": "code",
   "execution_count": null,
   "metadata": {},
   "outputs": [],
   "source": [
    "pyro.set_rng_seed(0)\n",
    "\n",
    "def ramping_rate_up_intervention_function(t):\n",
    "    month = torch.floor(t / 30.).int()\n",
    "    return torch.tensor([500.0, 750.0, 1000.])[month]\n",
    "\n",
    "ramping_rate_up_intervention = time_dependent_intervention(\"SV_flux\", ramping_rate_up_intervention_function, new_tspan)\n",
    "ramping_rate_up_intervention_model = do(ode_model, ramping_rate_up_intervention)\n",
    "ramping_rate_up_intervention_prediction = Predictive(ramping_rate_up_intervention_model, guide=guide, num_samples=num_samples)(final_observed_state, new_tspan)"
   ]
  },
  {
   "cell_type": "code",
   "execution_count": null,
   "metadata": {},
   "outputs": [],
   "source": [
    "\n",
    "ax = setup_ax()\n",
    "ax = plot_trajectory(data, observed_tspan, ax=ax)\n",
    "ax = plot_predictive(posterior_prediction, new_tspan, ax=ax, label=\"No Intervention\")\n",
    "ax = plot_predictive(ramping_rate_up_intervention_prediction, new_tspan, ax=ax, color='green', label=\"Ramping Up Vaccination Rate Intervention\")\n",
    "ax = plot_intervention_line(7., ax=ax)"
   ]
  },
  {
   "cell_type": "markdown",
   "metadata": {},
   "source": [
    "## Governor: \"We can't force people to take a vaccine, we can only implement a marketing campaign to encourage them to get vaccinated!\"\n",
    "## Q: \"What would happen if we enacted a policy that vaccinated 500 more people per day than would otherwise get vaccinated of their own volition?\""
   ]
  },
  {
   "cell_type": "code",
   "execution_count": null,
   "metadata": {},
   "outputs": [],
   "source": [
    "pyro.set_rng_seed(0)\n",
    "\n",
    "def vaccination_encouragement_intervention_function(SV_flux):\n",
    "    return SV_flux + torch.tensor([500.])\n",
    "\n",
    "vaccination_encouragement_intervention = state_dependent_intervention(\"SV_flux\", vaccination_encouragement_intervention_function, new_tspan)\n",
    "vaccination_encouragement_intervention_model = do(ode_model, vaccination_encouragement_intervention)\n",
    "vaccination_encouragement_intervention_prediction = Predictive(vaccination_encouragement_intervention_model, guide=guide, num_samples=num_samples)(final_observed_state, new_tspan)"
   ]
  },
  {
   "cell_type": "code",
   "execution_count": null,
   "metadata": {},
   "outputs": [],
   "source": [
    "\n",
    "ax = setup_ax()\n",
    "ax = plot_trajectory(data, observed_tspan, ax=ax)\n",
    "ax = plot_predictive(posterior_prediction, new_tspan, ax=ax, color='black', label=\"No Intervention\")\n",
    "ax = plot_predictive(vaccination_encouragement_intervention_prediction, new_tspan, ax=ax, color='purple', label=\"Vaccination Encouragement Intervention\")\n",
    "ax = plot_intervention_line(7., ax=ax)"
   ]
  },
  {
   "cell_type": "code",
   "execution_count": null,
   "metadata": {},
   "outputs": [],
   "source": [
    "\n",
    "ax = setup_ax()\n",
    "ax = plot_trajectory(data, observed_tspan, ax=ax)\n",
    "ax = plot_predictive(posterior_prediction, new_tspan, color='black', ax=ax, label=\"No Intervention\")\n",
    "ax = plot_predictive(intervened_parameter_prediction, new_tspan, hatch='.', edgecolor=\"red\", linewidth=2.5, facecolor=\"none\", ax=ax, alpha=0.3, label=\"Vaccination Rate Parameter Intervention\")\n",
    "ax = plot_predictive(rate_intervention_prediction, new_tspan, hatch='/', ax=ax, alpha=0.3, linewidth=2.5, edgecolor='blue', facecolor=\"none\", label=\"Vaccination Rate Intervention\")\n",
    "ax = plot_predictive(ramping_rate_up_intervention_prediction, new_tspan, hatch='..', linewidth=3, ax=ax, alpha=0.3, edgecolor='green', facecolor=\"none\", label=\"Ramping Up Vaccination Rate Intervention\")\n",
    "ax = plot_predictive(vaccination_encouragement_intervention_prediction, new_tspan, hatch=\"\\\\\", linewidth=2.5, ax=ax, alpha=0.3, edgecolor='black', facecolor=\"none\", label=\"Vaccination Encouragement Intervention\")\n",
    "ax = plot_intervention_line(7., ax=ax)"
   ]
  },
  {
   "cell_type": "markdown",
   "metadata": {},
   "source": [
    "## Governor: \"Only young people are susceptible to marketing!\"\n",
    "## Q: \"What would happen if we enacted a policy that vaccinated 500 people age 18-24 per day, regardless of the number of susceptible individuals?\""
   ]
  },
  {
   "cell_type": "code",
   "execution_count": null,
   "metadata": {},
   "outputs": [],
   "source": [
    "pyro.set_rng_seed(0)\n",
    "\n",
    "stratified_intervention = state_dependent_intervention(\"SV_flux_18-24\", vaccination_encouragement_intervention_function, new_tspan)\n",
    "stratified_intervention_model = do(ode_model, stratified_intervention)"
   ]
  },
  {
   "cell_type": "code",
   "execution_count": null,
   "metadata": {},
   "outputs": [],
   "source": [
    "\n",
    "import sys\n",
    "ipython = get_ipython()\n",
    "\n",
    "def hide_traceback(exc_tuple=None, filename=None, tb_offset=None,\n",
    "                   exception_only=False, running_compiled_code=False):\n",
    "    etype, value, tb = sys.exc_info()\n",
    "    value.__cause__ = None  # suppress chained exceptions\n",
    "    return ipython._showtraceback(etype, value, ipython.InteractiveTB.get_exception_only(etype, value))\n",
    "\n",
    "ipython.showtraceback = hide_traceback\n",
    "\n",
    "raise ValueError(\"The Intervention Variable SV_flux_18-24 is not defined and can not be intervened on. To fix this error, revise the model to include SV_flux_18-24\").with_traceback(None) from None"
   ]
  },
  {
   "cell_type": "code",
   "execution_count": null,
   "metadata": {},
   "outputs": [],
   "source": [
    "\n",
    "\n",
    "\n",
    "# (experimental conditions, replicates, attributes, timesteps,)\n",
    "data_cube = torch.zeros((5, 500, 4, 83))\n",
    "\n",
    "for i, var in enumerate([\"S_obs\", \"V_obs\", \"I_obs\", \"R_obs\"]):\n",
    "    for j, prediction in enumerate([posterior_prediction, intervened_parameter_prediction, rate_intervention_prediction, ramping_rate_up_intervention_prediction, vaccination_encouragement_intervention_prediction]):\n",
    "        data_cube[j, :, i, :] = prediction[var]\n",
    "\n",
    "data_cube = data_cube.detach().numpy()\n",
    "\n",
    "import numpy as np\n",
    "import pickle\n",
    "\n",
    "np.save(\"datacube.npy\", data_cube)\n",
    "\n",
    "d = {\"experimental conditions\":[\"no_intervention\", \"intervened_parameter\", \"intervened_rate\", \"ramping_intervention\", \"encouragement_interventions\"],\n",
    "    \"replicates\": [i for i in range(500)],\n",
    "     \"attributes\":[\"S\", \"V\", \"I\", \"R\"],\n",
    "     \"timesteps\": [i.detach().item() for i in new_tspan]}\n",
    "\n",
    "with open(\"dimensions.pkl\", 'wb') as f:\n",
    "    pickle.dump(d, f)\n"
   ]
  },
  {
   "cell_type": "markdown",
   "metadata": {},
   "source": [
    "# Risk-based optimization under uncertainty\n",
    "## Q: \"What is the minimal vaccination policy that results in less than 10 infected individuals after 90 days?\"\n",
    "\n",
    "### Problem Formulation\n",
    "* **Quantity of interest**: 7-day average of total infections after 90 days\n",
    "    $$M(\\boldsymbol{u}, \\theta) = \\frac{1}{7}\\sum_{i=0}^6 I(t=90-i;\\boldsymbol{u},\\theta)+I_\\text{V}(t=90-i;\\boldsymbol{u},\\theta)$$\n",
    "\n",
    "* **Control**: $\\boldsymbol{u}\\in \\mathcal{U} \\subseteq \\mathbb{R}^{n_u}$\n",
    "    * Vaccination rate parameter: $u=\\nu$\n",
    "    * Scheduled intervention changing SV_flux over each month: $\\boldsymbol{u} \\in \\mathbb{R}^3$\n",
    "    * Other practical policies as interventions\n"
   ]
  },
  {
   "cell_type": "markdown",
   "metadata": {},
   "source": [
    "\n",
    "* **Risk-based optimization under uncertainty problem formulation**\n",
    "    * Objective Function - Minimize the vaccination rate.\n",
    "    * Constraint - Risk of infections exceeding the prescribed threshold of 10, $\\mathcal{R}( M(\\boldsymbol{u}, \\theta))$, is below the acceptable risk threshold, $\\mathcal{R}_\\text{threshold}$.\n",
    "\n",
    "\\begin{equation}\n",
    "\\begin{split}\n",
    "    \\boldsymbol{u}^*= \\underset{\\boldsymbol{u}\\in\\mathcal{U}}{\\arg\\min}\\ & \\lVert \\boldsymbol{u} \\rVert \\\\\n",
    "    \\text{s.t.}\\ & \\mathcal{R}( M(\\boldsymbol{u}, \\theta)) \\le \\mathcal{R}_\\text{threshold}\n",
    "\\end{split} \n",
    "\\end{equation}"
   ]
  },
  {
   "cell_type": "markdown",
   "metadata": {},
   "source": [
    "## Comparing risk measures"
   ]
  },
  {
   "cell_type": "markdown",
   "metadata": {},
   "source": [
    "![table_risk.png](figures/table_risk.png)"
   ]
  },
  {
   "cell_type": "markdown",
   "metadata": {},
   "source": [
    "#### Adavantages of using alpha-superquantile\n",
    "* Considers magnitude of infections exceeding the threshold:\n",
    "    * Overcome limitations of hard thresholding\n",
    "    * Desirable data-informed conservativeness\n",
    "* Preserves properties of underlying quantities of interest, such as convexity"
   ]
  },
  {
   "cell_type": "code",
   "execution_count": null,
   "metadata": {},
   "outputs": [],
   "source": [
    "\n",
    "import os\n",
    "import time\n",
    "import pickle\n",
    "import numpy as np\n",
    "from scipy import stats\n",
    "from matplotlib import ticker\n",
    "\n",
    "from CIEMSS.digitaltwin import ODETwin, ODEState\n",
    "from CIEMSS.control import Control_pyro\n",
    "from CIEMSS.control.risk_ouu_pyro import OptProblem\n",
    "from CIEMSS.control.risk_measures import Risk\n",
    "\n",
    "def decision_metric_samples(I, Iv=None, tf=90, metric='infections', ndays=7, dt=1.):\n",
    "    # returns distribution of ndays average of total infections at given time tf\n",
    "    if metric == 'infections':\n",
    "        # Estimate n-day average of cases\n",
    "        if Iv is None:\n",
    "            I_ndays = I[:,int(tf/dt)-ndays+1:int(tf/dt)+1]\n",
    "            samples = np.mean(I_ndays,axis=1)\n",
    "            samp = samples\n",
    "        else:\n",
    "            I_ndays = I[:,int(tf/dt)-ndays+1:int(tf/dt)+1]\n",
    "            Iv_ndays = Iv[:,int(tf/dt)-ndays+1:int(tf/dt)+1]\n",
    "            samples = np.mean(I_ndays + Iv_ndays,axis=1)\n",
    "            samp = samples\n",
    "\n",
    "    return samples\n",
    "\n",
    "####### optimizer inputs\n",
    "decision_metric = 'infections'\n",
    "tf = 90\n",
    "N_SAMPLES=int(1e3)\n",
    "maxfeval=50\n",
    "maxiter=5\n",
    "\n",
    "### ODE\n",
    "twin = ODETwin()\n",
    "twin.forward = SVIIvR"
   ]
  },
  {
   "cell_type": "code",
   "execution_count": null,
   "metadata": {},
   "outputs": [],
   "source": [
    "# Estimate risk for a given control of scheduled vaccination flux over each of the three months\n",
    "twin.control = Control_pyro().scheduled_vaccination([10., 5., 10.])\n",
    "outputs_MC_sv, _, t = twin.forwardUQsv_pyro(num_samples=N_SAMPLES, tf=tf, rseed=1)\n",
    "\n",
    "# Get samples of 7-day average infections\n",
    "Itotal_samples_sv = decision_metric_samples(outputs_MC_sv['Itot'], tf=tf, metric='infections', dt=1.)\n",
    "\n",
    "# Estimate risk\n",
    "qbarval_sv = getattr(Risk(Itotal_samples_sv),'alpha_superquantile')(0.95)\n",
    "qval_sv = getattr(Risk(Itotal_samples_sv),'alpha_quantile')(0.95)\n"
   ]
  },
  {
   "cell_type": "code",
   "execution_count": null,
   "metadata": {},
   "outputs": [],
   "source": [
    "\n",
    "fig1 = plt.figure()\n",
    "plt.rc('text', usetex=True)\n",
    "plt.rc('font', family='serif', size=18.)\n",
    "cax = plt.gca()\n",
    "sideaxishist(cax)\n",
    "cax.hist(Itotal_samples_sv, color=co[2], bins=bins_hist, histtype='stepfilled', alpha=0.5, label='total infections')\n",
    "miny = min(cax.get_ylim())\n",
    "maxy = max(cax.get_ylim())\n",
    "cax.vlines(qval, miny, maxy, linestyle='--', linewidth=2.5, label='alpha-quantile', color=co[0])\n",
    "cax.vlines(qbarval, miny, maxy, linestyle='--', linewidth=2.5, label='alpha-superquantile', color=co[1])\n",
    "cax.set_xlabel('7-day average infections at 90 days', usetex=True, size=20)\n",
    "cax.legend(loc='upper right', prop={'size': 20})\n",
    "plt.close()"
   ]
  },
  {
   "cell_type": "markdown",
   "metadata": {},
   "source": [
    "\n",
    "![Query2_infections_SVflux_vrate005_90days_hist.png](figures/Query2_infections_SVflux_vrate005_90days_hist.png)"
   ]
  },
  {
   "cell_type": "markdown",
   "metadata": {},
   "source": [
    "## Risk-based optimization under uncertainty with different interventions"
   ]
  },
  {
   "cell_type": "code",
   "execution_count": null,
   "metadata": {},
   "outputs": [],
   "source": [
    "# Set up optimization problem with alpha-quantile\n",
    "risk_measures='alpha_quantile'\n",
    "risk_params=0.95\n",
    "jj=0\n",
    "print('Performing risk-based OUU...')\n",
    "optprob = OptProblem(twin, decision_metric='infections', risk_measure=risk_measure, risk_params=risk_params, \n",
    "                     t0=0, tf=90, u_bounds=np.array([0., 1e4]), num_samples=N_SAMPLES, maxfeval=maxfeval, \n",
    "                     maxiter=maxiter, guide=guide, control_name='svflux')\n",
    "\n",
    "##### Minimizing vaccination for constraint on risk\n",
    "risk_bound = 10.\n",
    "risk_res[jj] = optprob.solve_minvrate(risk_bound=risk_bound)"
   ]
  },
  {
   "cell_type": "code",
   "execution_count": null,
   "metadata": {},
   "outputs": [],
   "source": [
    "# Set up optimization problem with alpha-superquantile\n",
    "risk_measures='alpha_superquantile'\n",
    "risk_params=0.95\n",
    "jj=1\n",
    "optprob = OptProblem(twin, decision_metric='infections', risk_measure=risk_measure, risk_params=risk_params, \n",
    "                     t0=0, tf=90, u_bounds=np.array([0., 1e4]), num_samples=N_SAMPLES, maxfeval=maxfeval, \n",
    "                     maxiter=maxiter, guide=guide, control_name='svflux')\n",
    "\n",
    "##### Minimizing vaccination for constraint on risk\n",
    "risk_bound = 10.\n",
    "risk_res[jj] = optprob.solve_minvrate(risk_bound=risk_bound)"
   ]
  },
  {
   "cell_type": "markdown",
   "metadata": {},
   "source": [
    "**Optimal decision using interventation on vaccination rate parameter**\n",
    "\n",
    "![Query2_infections_nu_infectionsdist_ouu.png](figures/Query2_infections_nu_infectionsdist_ouu.png) ![table_ouu.png](figures/table_ouu.png) \n"
   ]
  },
  {
   "cell_type": "markdown",
   "metadata": {},
   "source": [
    "**Optimal decision using scheduled interventation over 3 months**\n",
    "\n",
    "![Query2_infections_SVflux_inithigh_infectionsdist_ouu.png](figures/Query2_infections_SVflux_inithigh_infectionsdist_ouu.png)"
   ]
  }
 ],
 "metadata": {
  "kernelspec": {
   "display_name": "Python 3.8.5 ('askem-test')",
   "language": "python",
   "name": "python3"
  },
  "language_info": {
   "codemirror_mode": {
    "name": "ipython",
    "version": 3
   },
   "file_extension": ".py",
   "mimetype": "text/x-python",
   "name": "python",
   "nbconvert_exporter": "python",
   "pygments_lexer": "ipython3",
   "version": "3.8.5"
  },
  "orig_nbformat": 4,
  "vscode": {
   "interpreter": {
    "hash": "f71e22cd97eb82cc542fb3b108bd1f1a14e08b4700342b37b195ed18c88d7ed1"
   }
  }
 },
 "nbformat": 4,
 "nbformat_minor": 2
}
