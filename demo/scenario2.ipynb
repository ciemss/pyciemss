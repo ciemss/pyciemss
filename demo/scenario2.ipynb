{
 "cells": [
  {
   "cell_type": "code",
   "execution_count": 1,
   "metadata": {},
   "outputs": [],
   "source": [
    "# Load Dependencies\n",
    "import matplotlib.pyplot as plt\n",
    "\n",
    "import torch\n",
    "\n",
    "import pyro\n",
    "import pyro.distributions as dist\n",
    "from pyro.poutine import trace, replay, block\n",
    "from pyro.infer.autoguide.guides import AutoDelta, AutoNormal\n",
    "from pyro.infer import SVI, Trace_ELBO, Predictive\n",
    "# from pyro.optim import Adam\n",
    "\n",
    "import sys\n",
    "sys.path.append(\"../\")\n",
    "\n",
    "from pyciemss.utils import run_inference, get_tspan\n",
    "\n",
    "import warnings\n",
    "warnings.filterwarnings('ignore')"
   ]
  },
  {
   "cell_type": "code",
   "execution_count": 2,
   "metadata": {},
   "outputs": [],
   "source": [
    "# Plotting Utilities\n",
    "\n",
    "def setup_ax(ax=None):\n",
    "\n",
    "    if not ax:\n",
    "        fig = plt.figure(facecolor='w', figsize=(9, 9))\n",
    "        ax = fig.add_subplot(111, axisbelow=True)\n",
    "\n",
    "    ax.set_xlabel('Time /days')\n",
    "    ax.set_ylabel('Infected (1000s)')\n",
    "    return ax\n",
    "\n",
    "def plot_predictive(prediction, tspan, tmin=None, ax=None, alpha=0.2, color=\"black\", **kwargs):\n",
    "    vars = [\"S_obs\", \"V_obs\", \"I_obs\", \"R_obs\"]\n",
    "    \n",
    "    S_low, V_low, I_low, R_low = [torch.quantile(prediction[k], 0.05, dim=0).detach().numpy()/1000 for k in vars]\n",
    "    S_up, V_up, I_up, R_up = [torch.quantile(prediction[k], 0.95, dim=0).detach().numpy()/1000 for k in vars]\n",
    "\n",
    "    if tmin:\n",
    "        indeces = tspan >= tmin\n",
    "    else:\n",
    "        indeces = torch.ones_like(tspan).bool()\n",
    "\n",
    "    if not ax:\n",
    "        fig = plt.figure(facecolor='w')\n",
    "        ax = fig.add_subplot(111, facecolor='#dddddd', axisbelow=True)\n",
    "    \n",
    "    ax.fill_between(tspan[indeces], I_low[indeces], I_up[indeces], alpha=alpha, color=color, **kwargs)\n",
    "\n",
    "    legend = ax.legend()\n",
    "    legend.get_frame().set_alpha(0.5)\n",
    "\n",
    "    return ax\n",
    "\n",
    "def plot_trajectory(data, tspan, ax=None, color='black', alpha=0.5, lw=0, marker='.', label=None):\n",
    "    # Plot the data on three separate curves for S(t), I(t) and R(t)\n",
    "\n",
    "    if not ax:\n",
    "        fig = plt.figure(facecolor='w')\n",
    "        ax = fig.add_subplot(111, facecolor='#dddddd', axisbelow=True)\n",
    "\n",
    "    ax.plot(tspan, data[\"I_obs\"].squeeze().detach().numpy()/1000., color, alpha=alpha, lw=lw, marker=marker, label=label)\n",
    "    \n",
    "    return ax\n",
    "\n",
    "def plot_intervention_line(t, ax=None):\n",
    "    if not ax:\n",
    "        fig = plt.figure(facecolor='w')\n",
    "        ax = fig.add_subplot(111, facecolor='#dddddd', axisbelow=True)\n",
    "\n",
    "    ylim = ax.get_ylim()\n",
    "\n",
    "    ax.vlines(t, min(ylim), max(ylim), color=\"grey\", ls='-')\n",
    "\n",
    "    return ax"
   ]
  },
  {
   "cell_type": "code",
   "execution_count": 3,
   "metadata": {},
   "outputs": [],
   "source": [
    "# Setup Parameters\n",
    "\n",
    "observed_tspan = get_tspan(1, 7, 7)\n",
    "new_tspan = get_tspan(7, 89, 83)\n",
    "full_tspan = get_tspan(1, 89, 89)\n",
    "\n",
    "num_samples = 500\n",
    "\n",
    "# Total population, N.\n",
    "N = 100000.0\n",
    "# Initial number of infected and recovered individuals, I0 and R0.\n",
    "V0, I0, Iv0, R0 = 0., 81.0, 0., 0.\n",
    "# Everyone else, S0, is susceptible to infection initially.\n",
    "S0 = N - I0 - Iv0 - V0 - R0\n",
    "\n",
    "# 18 - 24 year olds\n",
    "I_obs = torch.tensor([81.47, 84.3, 86.44, 89.66, 93.32, 94.1, 96.31])\n",
    "\n",
    "initial_state = tuple(torch.as_tensor(s) for s in  (S0, V0, I0, Iv0, R0))\n",
    "final_observed_state = tuple(torch.as_tensor(s) for s in  (S0, V0, I_obs[-1], Iv0, R0))\n"
   ]
  },
  {
   "cell_type": "markdown",
   "metadata": {},
   "source": [
    "## Probabilistic Forecasting - Ignoring Historical Data"
   ]
  },
  {
   "cell_type": "code",
   "execution_count": 4,
   "metadata": {},
   "outputs": [],
   "source": [
    "from pyciemss.ODE.models import SVIIvR"
   ]
  },
  {
   "cell_type": "code",
   "execution_count": 5,
   "metadata": {},
   "outputs": [],
   "source": [
    "pyro.set_rng_seed(0)\n",
    "\n",
    "noisy_ode_model = SVIIvR(N, \n",
    "                noise_prior=dist.Uniform(5., 10.),\n",
    "                beta_prior=dist.Uniform(0.1, 0.3), \n",
    "                betaV_prior=dist.Uniform(0.025, 0.05),\n",
    "                gamma_prior=dist.Uniform(0.05, 0.35),\n",
    "                gammaV_prior=dist.Uniform(0.1, 0.4),\n",
    "                nu_prior=dist.Uniform(0.001, 0.01))\n",
    "\n",
    "ode_model = pyro.do(noisy_ode_model, {\"noise_var\": torch.tensor([0.000001])})\n",
    "\n",
    "prior_prediction = Predictive(ode_model, num_samples=num_samples)(initial_state, full_tspan)\n",
    "single_prediction = Predictive(ode_model, num_samples=1)(initial_state, full_tspan)"
   ]
  },
  {
   "cell_type": "code",
   "execution_count": 6,
   "metadata": {},
   "outputs": [
    {
     "ename": "",
     "evalue": "",
     "output_type": "error",
     "traceback": [
      "\u001b[1;31mThe Kernel crashed while executing code in the the current cell or a previous cell. Please review the code in the cell(s) to identify a possible cause of the failure. Click <a href='https://aka.ms/vscodeJupyterKernelCrash'>here</a> for more info. View Jupyter <a href='command:jupyter.viewOutput'>log</a> for further details."
     ]
    },
    {
     "ename": "",
     "evalue": "",
     "output_type": "error",
     "traceback": [
      "\u001b[1;31mCanceled future for execute_request message before replies were done"
     ]
    }
   ],
   "source": [
    "\n",
    "ax = plot_trajectory(single_prediction, full_tspan, ax=setup_ax(), color=\"blue\", marker='', lw=1., label=\"Before Seeing Data - Single Forecast\")\n",
    "ax = plot_predictive(prior_prediction, full_tspan, ax=ax, label=\"Before Seeing Data - Probabilistic Forecast\", color=\"red\")"
   ]
  },
  {
   "cell_type": "markdown",
   "metadata": {},
   "source": [
    "## Forecasting - Incorporating Historical Data"
   ]
  },
  {
   "cell_type": "code",
   "execution_count": null,
   "metadata": {},
   "outputs": [],
   "source": [
    "pyro.set_rng_seed(0)\n",
    "\n",
    "guide = AutoNormal(block(noisy_ode_model, hide=[\"S_obs\", \"V_obs\", \"R_obs\"]))\n",
    "map_guide = AutoDelta(block(noisy_ode_model, hide=[\"S_obs\", \"V_obs\", \"R_obs\"]))\n",
    "\n",
    "data = {\"S_obs\":None, \"V_obs\":None, \"I_obs\":I_obs, \"R_obs\":None}\n",
    "\n",
    "run_inference(noisy_ode_model, guide, initial_state, observed_tspan, data, num_iterations=200, verbose=False)\n",
    "run_inference(noisy_ode_model, map_guide, initial_state, observed_tspan, data, num_iterations=200, verbose=False)\n",
    "\n",
    "map_prediction = Predictive(ode_model, guide=map_guide, num_samples=1)(final_observed_state, new_tspan)\n",
    "posterior_prediction = Predictive(ode_model, guide=guide, num_samples=num_samples)(final_observed_state, new_tspan)"
   ]
  },
  {
   "cell_type": "code",
   "execution_count": null,
   "metadata": {},
   "outputs": [],
   "source": [
    "\n",
    "ax = plot_trajectory(data, observed_tspan, ax=setup_ax())\n",
    "ax = plot_trajectory(single_prediction, full_tspan, ax=ax, color=\"blue\", marker='', lw=1., label=\"Before Seeing Data - Single Forecast\")\n",
    "ax = plot_predictive(prior_prediction, full_tspan, tmin=7, ax=ax, label=\"Before Seeing Data - Probabilistic Forecast\", color=\"red\")\n",
    "ax = plot_trajectory(map_prediction, new_tspan, ax=ax, marker='', lw=1., label=\"After Seeing Data - Single Forecast\")\n",
    "ax = plot_predictive(posterior_prediction, new_tspan, ax=ax, label=\"After Seeing Data - Probabilistic Forecast\")"
   ]
  },
  {
   "cell_type": "code",
   "execution_count": null,
   "metadata": {},
   "outputs": [],
   "source": [
    "\n",
    "ax = plot_trajectory(data, observed_tspan, ax=setup_ax())\n",
    "ax = plot_trajectory(map_prediction, new_tspan, ax=ax, marker='', lw=1., label=\"After Seeing Data - Single Forecast\")\n",
    "ax = plot_predictive(posterior_prediction, new_tspan, ax=ax, label=\"After Seeing Data - Probabilistic Forecast\")"
   ]
  },
  {
   "cell_type": "markdown",
   "metadata": {},
   "source": [
    "## Probabilistic Forecasting - Exploring Possible Interventions"
   ]
  },
  {
   "cell_type": "code",
   "execution_count": null,
   "metadata": {},
   "outputs": [],
   "source": [
    "from causal_pyro.query.do_messenger import do\n",
    "from pyciemss.ODE.interventions import constant_intervention, time_dependent_intervention, state_dependent_intervention, parameter_intervention"
   ]
  },
  {
   "cell_type": "code",
   "execution_count": null,
   "metadata": {},
   "outputs": [],
   "source": [
    "pyro.set_rng_seed(0)\n",
    "\n",
    "rate_parameter_intervention = parameter_intervention(\"nu\", torch.tensor([0.01]))\n",
    "intervened_parameter_model = do(ode_model, rate_parameter_intervention)\n",
    "intervened_parameter_prediction = Predictive(intervened_parameter_model, guide=guide, num_samples=num_samples)(final_observed_state, new_tspan)"
   ]
  },
  {
   "cell_type": "code",
   "execution_count": null,
   "metadata": {},
   "outputs": [],
   "source": [
    "\n",
    "ax = setup_ax()\n",
    "ax = plot_trajectory(data, observed_tspan, ax=ax)\n",
    "ax = plot_predictive(posterior_prediction, new_tspan, tmin=7, ax=ax, label=\"No Intervention\")\n",
    "ax = plot_predictive(intervened_parameter_prediction, new_tspan, ax=ax, color='red', label=\"Vaccination Rate Parameter Intervention\")\n",
    "ax = plot_intervention_line(7., ax=ax)"
   ]
  },
  {
   "cell_type": "code",
   "execution_count": null,
   "metadata": {},
   "outputs": [],
   "source": [
    "pyro.set_rng_seed(0)\n",
    "\n",
    "rate_intervention = constant_intervention(\"SV_flux\", torch.tensor([500.]), full_tspan)\n",
    "rate_intervention_model = do(ode_model, rate_intervention)\n",
    "rate_intervention_prediction = Predictive(rate_intervention_model, guide=guide, num_samples=num_samples)(final_observed_state, new_tspan)"
   ]
  },
  {
   "cell_type": "code",
   "execution_count": null,
   "metadata": {},
   "outputs": [],
   "source": [
    "\n",
    "ax = setup_ax()\n",
    "ax = plot_trajectory(data, observed_tspan, ax=ax)\n",
    "ax = plot_predictive(posterior_prediction, new_tspan, ax=ax, label=\"No Intervention\")\n",
    "ax = plot_predictive(rate_intervention_prediction, new_tspan, ax=ax, color='blue', label=\"Vaccination Rate Intervention\")\n",
    "ax = plot_intervention_line(7., ax=ax)"
   ]
  },
  {
   "cell_type": "code",
   "execution_count": null,
   "metadata": {},
   "outputs": [],
   "source": [
    "pyro.set_rng_seed(0)\n",
    "\n",
    "def ramping_rate_up_intervention_function(t):\n",
    "    month = torch.floor(t / 30.).int()\n",
    "    return torch.tensor([500.0, 750.0, 1000.])[month]\n",
    "\n",
    "ramping_rate_up_intervention = time_dependent_intervention(\"SV_flux\", ramping_rate_up_intervention_function, new_tspan)\n",
    "ramping_rate_up_intervention_model = do(ode_model, ramping_rate_up_intervention)\n",
    "ramping_rate_up_intervention_prediction = Predictive(ramping_rate_up_intervention_model, guide=guide, num_samples=num_samples)(final_observed_state, new_tspan)"
   ]
  },
  {
   "cell_type": "code",
   "execution_count": null,
   "metadata": {},
   "outputs": [],
   "source": [
    "\n",
    "ax = setup_ax()\n",
    "ax = plot_trajectory(data, observed_tspan, ax=ax)\n",
    "ax = plot_predictive(posterior_prediction, new_tspan, ax=ax, label=\"No Intervention\")\n",
    "ax = plot_predictive(ramping_rate_up_intervention_prediction, new_tspan, ax=ax, color='green', label=\"Ramping Up Vaccination Rate Intervention\")\n",
    "ax = plot_intervention_line(7., ax=ax)"
   ]
  },
  {
   "cell_type": "code",
   "execution_count": null,
   "metadata": {},
   "outputs": [],
   "source": [
    "pyro.set_rng_seed(0)\n",
    "\n",
    "def vaccination_encouragement_intervention_function(SV_flux):\n",
    "    return SV_flux + torch.tensor([500.])\n",
    "\n",
    "vaccination_encouragement_intervention = state_dependent_intervention(\"SV_flux\", vaccination_encouragement_intervention_function, new_tspan)\n",
    "vaccination_encouragement_intervention_model = do(ode_model, vaccination_encouragement_intervention)\n",
    "vaccination_encouragement_intervention_prediction = Predictive(vaccination_encouragement_intervention_model, guide=guide, num_samples=num_samples)(final_observed_state, new_tspan)"
   ]
  },
  {
   "cell_type": "code",
   "execution_count": null,
   "metadata": {},
   "outputs": [],
   "source": [
    "\n",
    "ax = setup_ax()\n",
    "ax = plot_trajectory(data, observed_tspan, ax=ax)\n",
    "ax = plot_predictive(posterior_prediction, new_tspan, ax=ax, color='black', label=\"No Intervention\")\n",
    "ax = plot_predictive(vaccination_encouragement_intervention_prediction, new_tspan, ax=ax, color='purple', label=\"Vaccination Encouragement Intervention\")\n",
    "ax = plot_intervention_line(7., ax=ax)"
   ]
  },
  {
   "cell_type": "code",
   "execution_count": null,
   "metadata": {},
   "outputs": [],
   "source": [
    "\n",
    "ax = setup_ax()\n",
    "ax = plot_trajectory(data, observed_tspan, ax=ax)\n",
    "ax = plot_predictive(posterior_prediction, new_tspan, color='black', ax=ax, label=\"No Intervention\")\n",
    "ax = plot_predictive(intervened_parameter_prediction, new_tspan, hatch='.', edgecolor=\"red\", linewidth=2.5, facecolor=\"none\", ax=ax, alpha=0.3, label=\"Vaccination Rate Parameter Intervention\")\n",
    "ax = plot_predictive(rate_intervention_prediction, new_tspan, hatch='/', ax=ax, alpha=0.3, linewidth=2.5, edgecolor='blue', facecolor=\"none\", label=\"Vaccination Rate Intervention\")\n",
    "ax = plot_predictive(ramping_rate_up_intervention_prediction, new_tspan, hatch='..', linewidth=3, ax=ax, alpha=0.3, edgecolor='green', facecolor=\"none\", label=\"Ramping Up Vaccination Rate Intervention\")\n",
    "ax = plot_predictive(vaccination_encouragement_intervention_prediction, new_tspan, hatch=\"\\\\\", linewidth=2.5, ax=ax, alpha=0.3, edgecolor='black', facecolor=\"none\", label=\"Vaccination Encouragement Intervention\")\n",
    "ax = plot_intervention_line(7., ax=ax)"
   ]
  },
  {
   "cell_type": "code",
   "execution_count": null,
   "metadata": {},
   "outputs": [],
   "source": [
    "\n",
    "\n",
    "\n",
    "# (experimental conditions, replicates, attributes, timesteps,)\n",
    "data_cube = torch.zeros((5, 500, 4, 83))\n",
    "\n",
    "for i, var in enumerate([\"S_obs\", \"V_obs\", \"I_obs\", \"R_obs\"]):\n",
    "    for j, prediction in enumerate([posterior_prediction, intervened_parameter_prediction, rate_intervention_prediction, ramping_rate_up_intervention_prediction, vaccination_encouragement_intervention_prediction]):\n",
    "        data_cube[j, :, i, :] = prediction[var]\n",
    "\n",
    "data_cube = data_cube.detach().numpy()\n",
    "\n",
    "import numpy as np\n",
    "import pickle\n",
    "\n",
    "np.save(\"datacube.npy\", data_cube)\n",
    "\n",
    "d = {\"experimental conditions\":[\"no_intervention\", \"intervened_parameter\", \"intervened_rate\", \"ramping_intervention\", \"encouragement_interventions\"],\n",
    "    \"replicates\": [i for i in range(500)],\n",
    "     \"attributes\":[\"S\", \"V\", \"I\", \"R\"],\n",
    "     \"timesteps\": [i.detach().item() for i in new_tspan]}\n",
    "\n",
    "with open(\"dimensions.pkl\", 'wb') as f:\n",
    "    pickle.dump(d, f)\n"
   ]
  },
  {
   "cell_type": "markdown",
   "metadata": {},
   "source": [
    "## Optimization - Translating the Scenario Problem into Risk-based Optimization"
   ]
  },
  {
   "cell_type": "markdown",
   "metadata": {},
   "source": [
    "Quantity of interest : 7 day average infections\n",
    "\n",
    "controls : all the interventions from before\n",
    "\n",
    "Anirban TODO: Show a bit of latex math and corresponding illustrations"
   ]
  },
  {
   "cell_type": "markdown",
   "metadata": {},
   "source": [
    "## Optimization - Finding the Optimal Risk-aware Decision"
   ]
  },
  {
   "cell_type": "code",
   "execution_count": null,
   "metadata": {},
   "outputs": [],
   "source": [
    "# # Anirban TODO.\n",
    "\n",
    "# use_posterior = True\n",
    "\n",
    "# intervention_assignment = torch.tensor([0., 0., 0.], requires_grad=True)\n",
    "# optimizer = torch.optim.Adam([intervention_assignment], lr=0.05)\n",
    "\n",
    "\n",
    "# # TODO: line this up with the scheduled_intervention controlled_models from before.\n",
    "# controlled_model = lambda int : do(ode_model, scheduled_intervention())(initial_state, tspan)\n",
    "\n",
    "# for i in range(500):\n",
    "#     if use_posterior:\n",
    "#         # Sample from the approximate posterior and replay through the model.\n",
    "#         # Note: Because we're using the Pytorch optimizer that targets tensors, we don't need to freeze guide parameters.\n",
    "#         guide_tr = trace(guide).get_trace(initial_state, tspan)\n",
    "#         model_tr = trace(replay(controlled_model, trace=guide_tr)).get_trace(intervention_assignment)\n",
    "#     else:\n",
    "#         model_tr = trace(controlled_model).get_trace(intervention_assignment)\n",
    "\n",
    "#     # If this value is positive, the constraint is not satisfied.\n",
    "#     relaxed_constraint = torch.max(model_tr.nodes[\"R_obs\"]['value'][-1] - torch.tensor([100.]), torch.tensor([0.]))\n",
    "\n",
    "#     # Relaxed constrained optimization (flux is negative by default, therefore we want to penalize \"smaller\" flux values.)\n",
    "#     loss = -intervention_assignment + relaxed_constraint\n",
    "\n",
    "#     optimizer.zero_grad()\n",
    "#     loss.backward()\n",
    "\n",
    "#     if i % 10 == 0:\n",
    "#         print(\"[iteration %04d] loss: %.4f [intervention_assignment %.4f]\" % (i + 1, loss, intervention_assignment))\n",
    "\n",
    "#     optimizer.step()"
   ]
  },
  {
   "cell_type": "code",
   "execution_count": null,
   "metadata": {},
   "outputs": [],
   "source": []
  }
 ],
 "metadata": {
  "kernelspec": {
   "display_name": "Python 3.10.8 ('askem')",
   "language": "python",
   "name": "python3"
  },
  "language_info": {
   "codemirror_mode": {
    "name": "ipython",
    "version": 3
   },
   "file_extension": ".py",
   "mimetype": "text/x-python",
   "name": "python",
   "nbconvert_exporter": "python",
   "pygments_lexer": "ipython3",
   "version": "3.10.8"
  },
  "orig_nbformat": 4,
  "vscode": {
   "interpreter": {
    "hash": "a388b8e925d47aa3c3c9a0bec6bdf52e1802c3e32a205fdc5bc164d020306dfb"
   }
  }
 },
 "nbformat": 4,
 "nbformat_minor": 2
}
