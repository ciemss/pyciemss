{
 "cells": [
  {
   "cell_type": "code",
   "execution_count": 1,
   "id": "6018c507",
   "metadata": {},
   "outputs": [],
   "source": [
    "%load_ext autoreload\n",
    "%autoreload 2"
   ]
  },
  {
   "cell_type": "code",
   "execution_count": 2,
   "id": "5c1729f7-1b0d-4913-8048-01624c506cc5",
   "metadata": {},
   "outputs": [],
   "source": [
    "import networkx as nx\n",
    "import pandas as pd\n",
    "import json\n",
    "from pyciemss.visuals import plots"
   ]
  },
  {
   "cell_type": "code",
   "execution_count": 7,
   "id": "997ef041-0312-4b83-bbe2-32a6ddfe3d6c",
   "metadata": {},
   "outputs": [],
   "source": [
    "g = nx.generators.barabasi_albert_graph(5, 3)"
   ]
  },
  {
   "cell_type": "code",
   "execution_count": 8,
   "id": "a4b1668c",
   "metadata": {},
   "outputs": [],
   "source": [
    "import random\n",
    "def rand_attributions():\n",
    "    possible = \"ABCD\"\n",
    "    return random.sample(possible, random.randint(1, len(possible)))\n",
    "\n",
    "def rand_label():\n",
    "    possible = \"TUVWXYZ\"\n",
    "    return random.randint(1, 10)\n",
    "    return random.sample(possible, 1)[0]\n",
    "\n",
    "node_properties = {n: {\"attribution\": rand_attributions(), \n",
    "                       \"label\": rand_label()}\n",
    "                    for n in g.nodes()}\n",
    "\n",
    "edge_attributions = {e: {\"attribution\": rand_attributions()} for e in g.edges()}\n",
    "\n",
    "nx.set_node_attributes(g, node_properties)\n",
    "nx.set_edge_attributes(g, edge_attributions)"
   ]
  },
  {
   "cell_type": "code",
   "execution_count": 9,
   "id": "ed6f4175",
   "metadata": {},
   "outputs": [
    {
     "name": "stdout",
     "output_type": "stream",
     "text": [
      "\n"
     ]
    },
    {
     "data": {
      "application/vnd.vega.v5+json": {
       "$schema": "https://vega.github.io/schema/vega/v5.json",
       "autosize": "none",
       "data": [
        {
         "name": "node-data",
         "values": [
          {
           "attribution": [
            "A",
            "B"
           ],
           "id": 0,
           "label": 1
          },
          {
           "attribution": [
            "B"
           ],
           "id": 1,
           "label": 7
          },
          {
           "attribution": [
            "D",
            "A"
           ],
           "id": 2,
           "label": 1
          },
          {
           "attribution": [
            "D",
            "A"
           ],
           "id": 3,
           "label": 3
          },
          {
           "attribution": [
            "D",
            "B",
            "A"
           ],
           "id": 4,
           "label": 3
          }
         ]
        },
        {
         "name": "link-data",
         "values": [
          {
           "attribution": [
            "B",
            "D"
           ],
           "source": 0,
           "target": 1
          },
          {
           "attribution": [
            "B",
            "C"
           ],
           "source": 0,
           "target": 2
          },
          {
           "attribution": [
            "D",
            "A"
           ],
           "source": 0,
           "target": 3
          },
          {
           "attribution": [
            "C"
           ],
           "source": 0,
           "target": 4
          },
          {
           "attribution": [
            "B"
           ],
           "source": 2,
           "target": 4
          },
          {
           "attribution": [
            "A",
            "B",
            "C"
           ],
           "source": 3,
           "target": 4
          }
         ]
        },
        {
         "name": "position",
         "source": "node-data",
         "transform": [
          {
           "forces": [
            {
             "force": "center",
             "x": {
              "signal": "cx"
             },
             "y": {
              "signal": "cy"
             }
            },
            {
             "force": "collide",
             "radius": {
              "signal": "innerRadius+bandWidth"
             }
            },
            {
             "force": "nbody",
             "strength": {
              "signal": "nodeCharge"
             }
            },
            {
             "distance": {
              "signal": "linkDistance"
             },
             "force": "link",
             "links": "link-data"
            }
           ],
           "iterations": 300,
           "signal": "position-tick",
           "type": "force"
          }
         ]
        },
        {
         "name": "node-attributions",
         "source": "position",
         "transform": [
          {
           "fields": [
            "attribution"
           ],
           "type": "flatten"
          },
          {
           "as": "weight",
           "expr": "1",
           "type": "formula"
          }
         ]
        },
        {
         "name": "link-attributions",
         "source": "link-data",
         "transform": [
          {
           "fields": [
            "attribution"
           ],
           "index": "_idx",
           "type": "flatten"
          },
          {
           "as": "weight",
           "expr": "1",
           "type": "formula"
          },
          {
           "as": [
            "id",
            "weight",
            "attribution",
            "_idx",
            "x",
            "y",
            "x2",
            "y2"
           ],
           "fields": [
            "id",
            "weight",
            "attribution",
            "_idx",
            "source.x",
            "source.y",
            "target.x",
            "target.y"
           ],
           "type": "project"
          }
         ]
        }
       ],
       "description": "A node-link diagram with force-directed layout, depicting character co-occurrence in the novel Les Misérables.",
       "height": 300,
       "marks": [
        {
         "data": [
          {
           "name": "linky-data",
           "source": "link-facets",
           "transform": [
            {
             "as": "x",
             "expr": "datum.x+(datum._idx*3)",
             "type": "formula"
            },
            {
             "as": "x2",
             "expr": "datum.x2+(datum._idx*3)",
             "type": "formula"
            }
           ]
          }
         ],
         "from": {
          "facet": {
           "data": "link-attributions",
           "groupby": "id",
           "name": "link-facets"
          }
         },
         "marks": [
          {
           "encode": {
            "enter": {
             "stroke": {
              "field": "attribution",
              "scale": "color"
             },
             "strokeWidth": {
              "value": 3
             }
            },
            "update": {
             "x": {
              "field": "x"
             },
             "x2": {
              "field": "x2"
             },
             "y": {
              "field": "y"
             },
             "y2": {
              "field": "y2"
             }
            }
           },
           "from": {
            "data": "linky-data"
           },
           "name": "lines",
           "type": "rule"
          }
         ],
         "name": "links",
         "type": "group"
        },
        {
         "data": [
          {
           "name": "attribution-arcs",
           "source": "node-facets",
           "transform": [
            {
             "endAngle": 6.29,
             "field": "weight",
             "sort": true,
             "startAngle": 0,
             "type": "pie"
            }
           ]
          }
         ],
         "from": {
          "facet": {
           "data": "node-attributions",
           "groupby": "id",
           "name": "node-facets"
          }
         },
         "marks": [
          {
           "encode": {
            "enter": {
             "fill": {
              "value": "white"
             },
             "size": {
              "signal": "2 * (innerRadius+bandWidth+1) * (innerRadius+bandWidth+1)"
             }
            },
            "update": {
             "x": {
              "field": "x"
             },
             "y": {
              "field": "y"
             }
            }
           },
           "from": {
            "data": "attribution-arcs"
           },
           "type": "symbol"
          },
          {
           "encode": {
            "enter": {
             "endAngle": {
              "field": "endAngle"
             },
             "fill": {
              "field": "attribution",
              "scale": "color"
             },
             "innerRadius": {
              "signal": "innerRadius"
             },
             "outerRadius": {
              "signal": "innerRadius+bandWidth"
             },
             "startAngle": {
              "field": "startAngle"
             }
            },
            "update": {
             "x": {
              "field": "x"
             },
             "y": {
              "field": "y"
             }
            }
           },
           "from": {
            "data": "attribution-arcs"
           },
           "type": "arc"
          }
         ],
         "name": "nodes",
         "type": "group"
        },
        {
         "encode": {
          "enter": {
           "align": {
            "value": "center"
           },
           "baseline": {
            "value": "middle"
           },
           "fill": {
            "value": "black"
           },
           "text": {
            "field": "label"
           }
          },
          "update": {
           "x": {
            "field": "x"
           },
           "y": {
            "field": "y"
           }
          }
         },
         "from": {
          "data": "position"
         },
         "name": "labels",
         "type": "text"
        }
       ],
       "padding": 0,
       "scales": [
        {
         "domain": {
          "data": "node-attributions",
          "field": "attribution"
         },
         "name": "color",
         "range": {
          "scheme": "category20"
         },
         "type": "ordinal"
        }
       ],
       "signals": [
        {
         "name": "cx",
         "update": "width / 2"
        },
        {
         "name": "cy",
         "update": "height / 2"
        },
        {
         "name": "innerRadius",
         "value": 15
        },
        {
         "name": "bandWidth",
         "value": 5
        },
        {
         "name": "nodeCharge",
         "value": -80
        },
        {
         "name": "linkDistance",
         "value": 80
        }
       ],
       "width": 300
      }
     },
     "metadata": {},
     "output_type": "display_data"
    }
   ],
   "source": [
    "schema = plots.attributed_graph(g)\n",
    "plots.save_schema(schema, \"_schema.json\")\n",
    "plots.ipy_display(schema)"
   ]
  },
  {
   "cell_type": "code",
   "execution_count": null,
   "id": "0dd8aef5",
   "metadata": {},
   "outputs": [],
   "source": []
  }
 ],
 "metadata": {
  "kernelspec": {
   "display_name": "Python 3 (ipykernel)",
   "language": "python",
   "name": "python3"
  },
  "language_info": {
   "codemirror_mode": {
    "name": "ipython",
    "version": 3
   },
   "file_extension": ".py",
   "mimetype": "text/x-python",
   "name": "python",
   "nbconvert_exporter": "python",
   "pygments_lexer": "ipython3",
   "version": "3.11.4"
  }
 },
 "nbformat": 4,
 "nbformat_minor": 5
}
