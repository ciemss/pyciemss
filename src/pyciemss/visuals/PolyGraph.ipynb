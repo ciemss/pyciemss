{
 "cells": [
  {
   "cell_type": "code",
   "execution_count": 22,
   "id": "5c1729f7-1b0d-4913-8048-01624c506cc5",
   "metadata": {},
   "outputs": [],
   "source": [
    "import networkx as nx\n",
    "import pandas as pd\n",
    "import json\n",
    "from pyciemss.visuals import plots\n",
    "import pkgutil"
   ]
  },
  {
   "cell_type": "code",
   "execution_count": 30,
   "id": "8b1df5e4",
   "metadata": {},
   "outputs": [],
   "source": [
    "def _polygraph_schema() -> plots.VegaSchema:\n",
    "    with open(\"multigraph.vg.json\") as f:\n",
    "        return json.load(f)"
   ]
  },
  {
   "cell_type": "code",
   "execution_count": 27,
   "id": "997ef041-0312-4b83-bbe2-32a6ddfe3d6c",
   "metadata": {},
   "outputs": [],
   "source": [
    "g = nx.generators.wheel_graph(10)"
   ]
  },
  {
   "cell_type": "code",
   "execution_count": 28,
   "id": "a3310957",
   "metadata": {},
   "outputs": [],
   "source": [
    "gjson = nx.json_graph.node_link_data(g)"
   ]
  },
  {
   "cell_type": "code",
   "execution_count": 39,
   "id": "d73c428a",
   "metadata": {},
   "outputs": [],
   "source": [
    "schema = _polygraph_schema()\n",
    "schema[\"data\"] = plots.replace_named_with(schema[\"data\"], \"node-data\", [\"values\"], gjson[\"nodes\"])\n",
    "schema[\"data\"] = plots.replace_named_with(schema[\"data\"], \"link-data\", [\"values\"], gjson[\"links\"])"
   ]
  },
  {
   "cell_type": "code",
   "execution_count": 40,
   "id": "93ec455a",
   "metadata": {},
   "outputs": [
    {
     "name": "stdout",
     "output_type": "stream",
     "text": [
      "\n"
     ]
    },
    {
     "data": {
      "application/vnd.vega.v5+json": {
       "$schema": "https://vega.github.io/schema/vega/v5.json",
       "autosize": "none",
       "data": [
        {
         "name": "node-data",
         "values": [
          {
           "id": 0
          },
          {
           "id": 1
          },
          {
           "id": 2
          },
          {
           "id": 3
          },
          {
           "id": 4
          },
          {
           "id": 5
          },
          {
           "id": 6
          },
          {
           "id": 7
          },
          {
           "id": 8
          },
          {
           "id": 9
          }
         ]
        },
        {
         "name": "link-data",
         "values": [
          {
           "source": 0,
           "target": 1
          },
          {
           "source": 0,
           "target": 2
          },
          {
           "source": 0,
           "target": 3
          },
          {
           "source": 0,
           "target": 4
          },
          {
           "source": 0,
           "target": 5
          },
          {
           "source": 0,
           "target": 6
          },
          {
           "source": 0,
           "target": 7
          },
          {
           "source": 0,
           "target": 8
          },
          {
           "source": 0,
           "target": 9
          },
          {
           "source": 1,
           "target": 2
          },
          {
           "source": 1,
           "target": 9
          },
          {
           "source": 2,
           "target": 3
          },
          {
           "source": 3,
           "target": 4
          },
          {
           "source": 4,
           "target": 5
          },
          {
           "source": 5,
           "target": 6
          },
          {
           "source": 6,
           "target": 7
          },
          {
           "source": 7,
           "target": 8
          },
          {
           "source": 8,
           "target": 9
          }
         ]
        }
       ],
       "description": "A node-link diagram with force-directed layout, depicting character co-occurrence in the novel Les Misérables.",
       "height": 500,
       "marks": [
        {
         "encode": {
          "enter": {
           "fill": {
            "field": "group",
            "scale": "color"
           },
           "stroke": {
            "value": "white"
           }
          },
          "update": {
           "size": {
            "signal": "2 * nodeRadius * nodeRadius"
           }
          }
         },
         "from": {
          "data": "node-data"
         },
         "name": "nodes",
         "transform": [
          {
           "forces": [
            {
             "force": "center",
             "x": {
              "signal": "cx"
             },
             "y": {
              "signal": "cy"
             }
            },
            {
             "force": "collide",
             "radius": {
              "signal": "nodeRadius"
             }
            },
            {
             "force": "nbody",
             "strength": {
              "signal": "nodeCharge"
             }
            },
            {
             "distance": {
              "signal": "linkDistance"
             },
             "force": "link",
             "links": "link-data"
            }
           ],
           "iterations": 300,
           "signal": "force",
           "type": "force"
          }
         ],
         "type": "symbol",
         "zindex": 1
        },
        {
         "encode": {
          "update": {
           "stroke": {
            "value": "#ccc"
           },
           "strokeWidth": {
            "value": 0.5
           }
          }
         },
         "from": {
          "data": "link-data"
         },
         "interactive": false,
         "transform": [
          {
           "require": {
            "signal": "force"
           },
           "shape": "line",
           "sourceX": "datum.source.x",
           "sourceY": "datum.source.y",
           "targetX": "datum.target.x",
           "targetY": "datum.target.y",
           "type": "linkpath"
          }
         ],
         "type": "path"
        }
       ],
       "padding": 0,
       "scales": [
        {
         "domain": {
          "data": "node-data",
          "field": "group"
         },
         "name": "color",
         "range": {
          "scheme": "category20c"
         },
         "type": "ordinal"
        }
       ],
       "signals": [
        {
         "name": "cx",
         "update": "width / 2"
        },
        {
         "name": "cy",
         "update": "height / 2"
        },
        {
         "name": "nodeRadius",
         "value": 8
        },
        {
         "name": "nodeCharge",
         "value": -30
        },
        {
         "name": "linkDistance",
         "value": 30
        }
       ],
       "width": 700
      }
     },
     "metadata": {},
     "output_type": "display_data"
    }
   ],
   "source": [
    "plots.ipy_display(schema)"
   ]
  },
  {
   "cell_type": "code",
   "execution_count": null,
   "id": "83bfde4d",
   "metadata": {},
   "outputs": [],
   "source": []
  }
 ],
 "metadata": {
  "kernelspec": {
   "display_name": "Python 3 (ipykernel)",
   "language": "python",
   "name": "python3"
  },
  "language_info": {
   "codemirror_mode": {
    "name": "ipython",
    "version": 3
   },
   "file_extension": ".py",
   "mimetype": "text/x-python",
   "name": "python",
   "nbconvert_exporter": "python",
   "pygments_lexer": "ipython3",
   "version": "3.11.4"
  }
 },
 "nbformat": 4,
 "nbformat_minor": 5
}
