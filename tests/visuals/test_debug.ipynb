{
 "cells": [
  {
   "cell_type": "code",
   "execution_count": 1,
   "metadata": {},
   "outputs": [],
   "source": [
    "import json\n",
    "from pyciemss.visuals import plots\n",
    "from pathlib import Path\n",
    "import IPython.display\n",
    "import PIL\n",
    "\n",
    "import io\n"
   ]
  },
  {
   "cell_type": "code",
   "execution_count": 2,
   "metadata": {},
   "outputs": [],
   "source": [
    "from pyciemss.visuals import checks"
   ]
  },
  {
   "cell_type": "code",
   "execution_count": 6,
   "metadata": {},
   "outputs": [
    {
     "ename": "AssertionError",
     "evalue": "Disjoint should fail at .9",
     "output_type": "error",
     "traceback": [
      "\u001b[0;31m---------------------------------------------------------------------------\u001b[0m",
      "\u001b[0;31mAssertionError\u001b[0m                            Traceback (most recent call last)",
      "Cell \u001b[0;32mIn[6], line 9\u001b[0m\n\u001b[1;32m      6\u001b[0m \u001b[38;5;28;01massert\u001b[39;00m checks\u001b[38;5;241m.\u001b[39mJS(\u001b[38;5;241m0\u001b[39m)(d1, d1), \u001b[38;5;124m\"\u001b[39m\u001b[38;5;124mIdentical distributions passes at 0\u001b[39m\u001b[38;5;124m\"\u001b[39m\n\u001b[1;32m      8\u001b[0m \u001b[38;5;28;01massert\u001b[39;00m checks\u001b[38;5;241m.\u001b[39mJS(\u001b[38;5;241m1\u001b[39m)(d1, d2), \u001b[38;5;124m\"\u001b[39m\u001b[38;5;124mDisjoint passes at 1\u001b[39m\u001b[38;5;124m\"\u001b[39m\n\u001b[0;32m----> 9\u001b[0m \u001b[38;5;28;01massert\u001b[39;00m checks\u001b[38;5;241m.\u001b[39mJS(\u001b[38;5;241m0.4\u001b[39m)(d1, d2) \u001b[38;5;129;01mis\u001b[39;00m \u001b[38;5;28;01mFalse\u001b[39;00m, \u001b[38;5;124m\"\u001b[39m\u001b[38;5;124mDisjoint should fail at .9\u001b[39m\u001b[38;5;124m\"\u001b[39m\n\u001b[1;32m     10\u001b[0m \u001b[38;5;28;01massert\u001b[39;00m checks\u001b[38;5;241m.\u001b[39mJS(\u001b[38;5;241m0.6\u001b[39m)(d1, d3), \u001b[38;5;124m\"\u001b[39m\u001b[38;5;124mOverlap passes\u001b[39m\u001b[38;5;124m\"\u001b[39m\n\u001b[1;32m     11\u001b[0m \u001b[38;5;28;01massert\u001b[39;00m checks\u001b[38;5;241m.\u001b[39mJS(\u001b[38;5;241m0.6\u001b[39m)(d2, d3), \u001b[38;5;124m\"\u001b[39m\u001b[38;5;124mOverlap passes\u001b[39m\u001b[38;5;124m\"\u001b[39m\n",
      "\u001b[0;31mAssertionError\u001b[0m: Disjoint should fail at .9"
     ]
    }
   ],
   "source": [
    "d1 = [0, 0, 0, 0, 0, 5, 9, 5, 0]\n",
    "d2 = [5, 9, 5, 0, 0, 5, 9, 5, 0]\n",
    "d3 = [1, 2, 3, 4, 5, 5, 3, 2, 1]\n",
    "\n",
    "assert checks.JS(1)(d1, d1), \"Identical distributions passes at 1\"\n",
    "assert checks.JS(0)(d1, d1), \"Identical distributions passes at 0\"\n",
    "\n",
    "assert checks.JS(1)(d1, d2), \"Disjoint passes at 1\"\n",
    "assert checks.JS(0.4)(d1, d2) is False, \"Disjoint should fail at .9\"\n",
    "assert checks.JS(0.6)(d1, d3), \"Overlap passes\"\n",
    "assert checks.JS(0.6)(d2, d3), \"Overlap passes\""
   ]
  },
  {
   "cell_type": "code",
   "execution_count": 10,
   "metadata": {},
   "outputs": [
    {
     "data": {
      "text/plain": [
       "False"
      ]
     },
     "execution_count": 10,
     "metadata": {},
     "output_type": "execute_result"
    }
   ],
   "source": [
    "checks.JS(0.4)(d1, d2) is False"
   ]
  },
  {
   "cell_type": "code",
   "execution_count": 60,
   "metadata": {},
   "outputs": [],
   "source": [
    "with open(\"reference_images/test_base.png\", \"rb\") as f:\n",
    "    reference = f.read()\n",
    "reference = PIL.Image.open(io.BytesIO(reference))\n",
    "\n",
    "schema_file = \"modified_Schemas/test_base.vg.json\"\n",
    "with open(schema_file) as f:\n",
    "     schema = json.load(f)\n",
    "img = plots.ipy_display(schema, format=\"png\")\n",
    "img = PIL.Image.open(io.BytesIO(img.data))\n",
    "#img"
   ]
  },
  {
   "cell_type": "code",
   "execution_count": 75,
   "metadata": {},
   "outputs": [],
   "source": [
    "diff = PIL.ImageChops.difference(img, reference)\n",
    "with open(\"diff.png\", \"wb\") as f:\n",
    "    diff.save(f)\n"
   ]
  },
  {
   "cell_type": "code",
   "execution_count": 78,
   "metadata": {},
   "outputs": [
    {
     "data": {
      "text/plain": [
       "[200606, 200606, 200606, 200606]"
      ]
     },
     "execution_count": 78,
     "metadata": {},
     "output_type": "execute_result"
    }
   ],
   "source": [
    "[v for v in diff.histogram() if v!=0]"
   ]
  },
  {
   "cell_type": "code",
   "execution_count": null,
   "metadata": {},
   "outputs": [],
   "source": []
  }
 ],
 "metadata": {
  "kernelspec": {
   "display_name": "ASKEM",
   "language": "python",
   "name": "python3"
  },
  "language_info": {
   "codemirror_mode": {
    "name": "ipython",
    "version": 3
   },
   "file_extension": ".py",
   "mimetype": "text/x-python",
   "name": "python",
   "nbconvert_exporter": "python",
   "pygments_lexer": "ipython3",
   "version": "3.11.5"
  }
 },
 "nbformat": 4,
 "nbformat_minor": 2
}
